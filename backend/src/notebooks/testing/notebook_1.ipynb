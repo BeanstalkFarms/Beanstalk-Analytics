{
 "cells": [
  {
   "cell_type": "code",
   "execution_count": 6,
   "metadata": {},
   "outputs": [
    {
     "data": {
      "application/json": {
       "$schema": "https://vega.github.io/schema/vega-lite/v4.17.0.json",
       "config": {
        "view": {
         "continuousHeight": 300,
         "continuousWidth": 400
        }
       },
       "data": {
        "name": "data-be1cf4d7829cad4e815ee23256893c44"
       },
       "datasets": {
        "data-be1cf4d7829cad4e815ee23256893c44": [
         {
          "data": 1,
          "timestamp": 1
         },
         {
          "data": 1,
          "timestamp": 2
         }
        ]
       },
       "encoding": {
        "x": {
         "field": "timestamp",
         "type": "ordinal"
        },
        "y": {
         "field": "data",
         "type": "quantitative"
        }
       },
       "mark": "line"
      },
      "text/plain": [
       "<IPython.core.display.JSON object>"
      ]
     },
     "execution_count": 6,
     "metadata": {
      "application/json": {
       "expanded": false,
       "root": "root"
      }
     },
     "output_type": "execute_result"
    }
   ],
   "source": [
    "import os \n",
    "import sys \n",
    "\n",
    "cur_path = os.path.abspath(\"../..\")\n",
    "if cur_path not in sys.path: \n",
    "    sys.path.append(cur_path)\n",
    "\n",
    "import altair as alt \n",
    "import pandas as pd \n",
    "from utils_notebook.vega import output_chart\n",
    "\n",
    "data = pd.DataFrame(\n",
    "    [{\"timestamp\": 1, \"data\": 1}, {\"timestamp\": 2, \"data\": 1}]\n",
    ")\n",
    "c = alt.Chart(data).mark_line().encode(\n",
    "    x=\"timestamp:O\", y=\"data:Q\"\n",
    ")\n",
    "output_chart(c)"
   ]
  },
  {
   "cell_type": "code",
   "execution_count": null,
   "metadata": {},
   "outputs": [],
   "source": []
  }
 ],
 "metadata": {
  "kernelspec": {
   "display_name": "Python 3.10.5 ('beanstalk')",
   "language": "python",
   "name": "python3"
  },
  "language_info": {
   "codemirror_mode": {
    "name": "ipython",
    "version": 3
   },
   "file_extension": ".py",
   "mimetype": "text/x-python",
   "name": "python",
   "nbconvert_exporter": "python",
   "pygments_lexer": "ipython3",
   "version": "3.10.5"
  },
  "orig_nbformat": 4,
  "vscode": {
   "interpreter": {
    "hash": "65a1606879e7cc55db7359bc7bbaab6708e6dced52e1818b18aa46c0dd2503e5"
   }
  }
 },
 "nbformat": 4,
 "nbformat_minor": 2
}
