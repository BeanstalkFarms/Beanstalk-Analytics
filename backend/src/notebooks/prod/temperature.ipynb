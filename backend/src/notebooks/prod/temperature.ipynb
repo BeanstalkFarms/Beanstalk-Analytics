{
 "cells": [
  {
   "cell_type": "code",
   "execution_count": 1,
   "id": "bb524f98-4f94-476c-b760-7d5dbae7938d",
   "metadata": {},
   "outputs": [],
   "source": [
    "import os \n",
    "import sys \n",
    "import json \n",
    "import logging \n",
    "from pathlib import Path \n",
    "from functools import cache\n",
    "from itertools import product\n",
    "\n",
    "# Required when developing in a jupyter-notebook environment \n",
    "cur_path = os.path.abspath(\"../..\")\n",
    "if cur_path not in sys.path: \n",
    "    sys.path.append(cur_path)\n",
    "\n",
    "import numpy as np \n",
    "import pandas as pd \n",
    "import altair as alt \n",
    "from altair import datum\n",
    "from palettable.scientific.sequential import Batlow_5\n",
    "from dotenv import load_dotenv\n",
    "from subgrounds.subgrounds import Subgrounds, Subgraph\n",
    "from subgrounds.subgraph import SyntheticField\n",
    "from subgrounds.pagination import ShallowStrategy\n",
    "\n",
    "# Required when developing in a jupyter-notebook environment \n",
    "load_dotenv('../../../../.env')\n",
    "\n",
    "from utils_notebook.utils import ddf, remove_prefix, load_subgraph, remove_keys\n",
    "from utils_notebook.vega import (\n",
    "    output_chart, \n",
    "    apply_css, \n",
    "    wide_to_longwide, \n",
    "    chart, \n",
    ")\n",
    "from utils_notebook.testing import validate_season_series\n",
    "from utils_notebook.constants import ADDR_BEANSTALK\n",
    "from utils_notebook.queries import QueryManager\n",
    "from utils_notebook.css import css_tooltip_timeseries_multi_colored"
   ]
  },
  {
   "cell_type": "code",
   "execution_count": 2,
   "id": "4dda51ef-cb6a-4692-9bad-6ea39ab9c6fe",
   "metadata": {},
   "outputs": [],
   "source": [
    "sg, bs = load_subgraph()\n",
    "q = QueryManager(sg, bs) "
   ]
  },
  {
   "cell_type": "code",
   "execution_count": 3,
   "id": "f5823889",
   "metadata": {},
   "outputs": [],
   "source": [
    "@cache\n",
    "def query_field_daily_snapshots(**kwargs): \n",
    "    return q.query_field_daily_snapshots(fields=['season', 'timestamp', 'weather']) "
   ]
  },
  {
   "cell_type": "code",
   "execution_count": 4,
   "id": "19a0bd2a-15e2-4e6c-925b-91a138d3d7f8",
   "metadata": {},
   "outputs": [
    {
     "data": {
      "text/html": [
       "<div>\n",
       "<style scoped>\n",
       "    .dataframe tbody tr th:only-of-type {\n",
       "        vertical-align: middle;\n",
       "    }\n",
       "\n",
       "    .dataframe tbody tr th {\n",
       "        vertical-align: top;\n",
       "    }\n",
       "\n",
       "    .dataframe thead th {\n",
       "        text-align: right;\n",
       "    }\n",
       "</style>\n",
       "<table border=\"1\" class=\"dataframe\">\n",
       "  <thead>\n",
       "    <tr style=\"text-align: right;\">\n",
       "      <th></th>\n",
       "      <th>season</th>\n",
       "      <th>timestamp</th>\n",
       "      <th>temperature</th>\n",
       "    </tr>\n",
       "  </thead>\n",
       "  <tbody>\n",
       "    <tr>\n",
       "      <th>340</th>\n",
       "      <td>8145</td>\n",
       "      <td>2022-10-31 23:00:11</td>\n",
       "      <td>40.58</td>\n",
       "    </tr>\n",
       "    <tr>\n",
       "      <th>341</th>\n",
       "      <td>8169</td>\n",
       "      <td>2022-11-01 23:00:11</td>\n",
       "      <td>40.54</td>\n",
       "    </tr>\n",
       "    <tr>\n",
       "      <th>342</th>\n",
       "      <td>8193</td>\n",
       "      <td>2022-11-02 23:00:11</td>\n",
       "      <td>40.30</td>\n",
       "    </tr>\n",
       "    <tr>\n",
       "      <th>343</th>\n",
       "      <td>8217</td>\n",
       "      <td>2022-11-03 23:00:11</td>\n",
       "      <td>39.92</td>\n",
       "    </tr>\n",
       "    <tr>\n",
       "      <th>344</th>\n",
       "      <td>8220</td>\n",
       "      <td>2022-11-04 02:00:11</td>\n",
       "      <td>39.83</td>\n",
       "    </tr>\n",
       "  </tbody>\n",
       "</table>\n",
       "</div>"
      ],
      "text/plain": [
       "     season           timestamp  temperature\n",
       "340    8145 2022-10-31 23:00:11        40.58\n",
       "341    8169 2022-11-01 23:00:11        40.54\n",
       "342    8193 2022-11-02 23:00:11        40.30\n",
       "343    8217 2022-11-03 23:00:11        39.92\n",
       "344    8220 2022-11-04 02:00:11        39.83"
      ]
     },
     "execution_count": 4,
     "metadata": {},
     "output_type": "execute_result"
    }
   ],
   "source": [
    "df_field = query_field_daily_snapshots(cache=1).copy()\n",
    "df_field = df_field.rename(columns={'weather': 'temperature'})\n",
    "df_field.temperature = df_field.temperature / 100\n",
    "df_field.tail()"
   ]
  },
  {
   "cell_type": "code",
   "execution_count": 5,
   "id": "3724acbd-2f44-4aae-86e7-a53930c8c9f2",
   "metadata": {},
   "outputs": [
    {
     "data": {
      "text/html": [
       "<div>\n",
       "<style scoped>\n",
       "    .dataframe tbody tr th:only-of-type {\n",
       "        vertical-align: middle;\n",
       "    }\n",
       "\n",
       "    .dataframe tbody tr th {\n",
       "        vertical-align: top;\n",
       "    }\n",
       "\n",
       "    .dataframe thead th {\n",
       "        text-align: right;\n",
       "    }\n",
       "</style>\n",
       "<table border=\"1\" class=\"dataframe\">\n",
       "  <thead>\n",
       "    <tr style=\"text-align: right;\">\n",
       "      <th></th>\n",
       "      <th>timestamp</th>\n",
       "      <th>season</th>\n",
       "      <th>variable</th>\n",
       "      <th>value</th>\n",
       "      <th>temperature</th>\n",
       "    </tr>\n",
       "  </thead>\n",
       "  <tbody>\n",
       "    <tr>\n",
       "      <th>0</th>\n",
       "      <td>2021-08-07 00:06:08</td>\n",
       "      <td>25</td>\n",
       "      <td>temperature</td>\n",
       "      <td>0.39</td>\n",
       "      <td>0.39</td>\n",
       "    </tr>\n",
       "    <tr>\n",
       "      <th>1</th>\n",
       "      <td>2021-08-08 00:08:15</td>\n",
       "      <td>49</td>\n",
       "      <td>temperature</td>\n",
       "      <td>0.35</td>\n",
       "      <td>0.35</td>\n",
       "    </tr>\n",
       "    <tr>\n",
       "      <th>2</th>\n",
       "      <td>2021-08-09 00:15:57</td>\n",
       "      <td>73</td>\n",
       "      <td>temperature</td>\n",
       "      <td>0.39</td>\n",
       "      <td>0.39</td>\n",
       "    </tr>\n",
       "    <tr>\n",
       "      <th>3</th>\n",
       "      <td>2021-08-10 00:01:29</td>\n",
       "      <td>97</td>\n",
       "      <td>temperature</td>\n",
       "      <td>0.11</td>\n",
       "      <td>0.11</td>\n",
       "    </tr>\n",
       "    <tr>\n",
       "      <th>4</th>\n",
       "      <td>2021-08-11 00:00:05</td>\n",
       "      <td>121</td>\n",
       "      <td>temperature</td>\n",
       "      <td>0.01</td>\n",
       "      <td>0.01</td>\n",
       "    </tr>\n",
       "  </tbody>\n",
       "</table>\n",
       "</div>"
      ],
      "text/plain": [
       "            timestamp  season     variable  value  temperature\n",
       "0 2021-08-07 00:06:08      25  temperature   0.39         0.39\n",
       "1 2021-08-08 00:08:15      49  temperature   0.35         0.35\n",
       "2 2021-08-09 00:15:57      73  temperature   0.39         0.39\n",
       "3 2021-08-10 00:01:29      97  temperature   0.11         0.11\n",
       "4 2021-08-11 00:00:05     121  temperature   0.01         0.01"
      ]
     },
     "execution_count": 5,
     "metadata": {},
     "output_type": "execute_result"
    }
   ],
   "source": [
    "id_vars = ['timestamp', 'season']\n",
    "value_vars = ['temperature']\n",
    "df = wide_to_longwide(df_field, \"timestamp\", id_vars, value_vars, sort_col=\"timestamp\") \n",
    "df.head()"
   ]
  },
  {
   "cell_type": "code",
   "execution_count": 9,
   "id": "013a35a6-f244-4bf6-b525-35b1970dfd20",
   "metadata": {},
   "outputs": [
    {
     "data": {
      "text/html": [
       "<style></style>"
      ],
      "text/plain": [
       "<IPython.core.display.HTML object>"
      ]
     },
     "metadata": {},
     "output_type": "display_data"
    },
    {
     "name": "stderr",
     "output_type": "stream",
     "text": [
      "/Users/ALEX/opt/anaconda3/envs/beanstalk/lib/python3.10/site-packages/altair/utils/core.py:317: FutureWarning: iteritems is deprecated and will be removed in a future version. Use .items instead.\n",
      "  for col_name, dtype in df.dtypes.iteritems():\n"
     ]
    },
    {
     "data": {
      "text/html": [
       "\n",
       "<div id=\"altair-viz-b8685958f8e049219207bdd21ae90123\"></div>\n",
       "<script type=\"text/javascript\">\n",
       "  var VEGA_DEBUG = (typeof VEGA_DEBUG == \"undefined\") ? {} : VEGA_DEBUG;\n",
       "  (function(spec, embedOpt){\n",
       "    let outputDiv = document.currentScript.previousElementSibling;\n",
       "    if (outputDiv.id !== \"altair-viz-b8685958f8e049219207bdd21ae90123\") {\n",
       "      outputDiv = document.getElementById(\"altair-viz-b8685958f8e049219207bdd21ae90123\");\n",
       "    }\n",
       "    const paths = {\n",
       "      \"vega\": \"https://cdn.jsdelivr.net/npm//vega@5?noext\",\n",
       "      \"vega-lib\": \"https://cdn.jsdelivr.net/npm//vega-lib?noext\",\n",
       "      \"vega-lite\": \"https://cdn.jsdelivr.net/npm//vega-lite@4.17.0?noext\",\n",
       "      \"vega-embed\": \"https://cdn.jsdelivr.net/npm//vega-embed@6?noext\",\n",
       "    };\n",
       "\n",
       "    function maybeLoadScript(lib, version) {\n",
       "      var key = `${lib.replace(\"-\", \"\")}_version`;\n",
       "      return (VEGA_DEBUG[key] == version) ?\n",
       "        Promise.resolve(paths[lib]) :\n",
       "        new Promise(function(resolve, reject) {\n",
       "          var s = document.createElement('script');\n",
       "          document.getElementsByTagName(\"head\")[0].appendChild(s);\n",
       "          s.async = true;\n",
       "          s.onload = () => {\n",
       "            VEGA_DEBUG[key] = version;\n",
       "            return resolve(paths[lib]);\n",
       "          };\n",
       "          s.onerror = () => reject(`Error loading script: ${paths[lib]}`);\n",
       "          s.src = paths[lib];\n",
       "        });\n",
       "    }\n",
       "\n",
       "    function showError(err) {\n",
       "      outputDiv.innerHTML = `<div class=\"error\" style=\"color:red;\">${err}</div>`;\n",
       "      throw err;\n",
       "    }\n",
       "\n",
       "    function displayChart(vegaEmbed) {\n",
       "      vegaEmbed(outputDiv, spec, embedOpt)\n",
       "        .catch(err => showError(`Javascript Error: ${err.message}<br>This usually means there's a typo in your chart specification. See the javascript console for the full traceback.`));\n",
       "    }\n",
       "\n",
       "    if(typeof define === \"function\" && define.amd) {\n",
       "      requirejs.config({paths});\n",
       "      require([\"vega-embed\"], displayChart, err => showError(`Error loading script: ${err.message}`));\n",
       "    } else {\n",
       "      maybeLoadScript(\"vega\", \"5\")\n",
       "        .then(() => maybeLoadScript(\"vega-lite\", \"4.17.0\"))\n",
       "        .then(() => maybeLoadScript(\"vega-embed\", \"6\"))\n",
       "        .catch(showError)\n",
       "        .then(() => displayChart(vegaEmbed));\n",
       "    }\n",
       "  })({\"config\": {\"view\": {\"continuousWidth\": 400, \"continuousHeight\": 300}}, \"layer\": [{\"mark\": \"line\", \"encoding\": {\"color\": {\"field\": \"variable\", \"legend\": null, \"scale\": {\"domain\": [\"temperature\"], \"range\": [\"#011959\"]}, \"type\": \"nominal\"}, \"order\": {\"field\": \"stack_order\", \"sort\": \"ascending\", \"type\": \"quantitative\"}, \"x\": {\"axis\": {\"formatType\": \"time\", \"labelAngle\": 0, \"labelExpr\": \"timeFormat(toDate(datum.value), '%b %e, %Y')\", \"labelOverlap\": true, \"labelPadding\": 5, \"labelSeparation\": 50, \"ticks\": false, \"title\": \"Date\"}, \"field\": \"timestamp\", \"type\": \"ordinal\"}, \"y\": {\"axis\": {\"format\": \".0%\", \"title\": \"Temperature\"}, \"field\": \"value\", \"type\": \"quantitative\"}}, \"title\": \"\", \"transform\": [{\"calculate\": \"datum['variable'] === 'temperature' ? 0 : 1\", \"as\": \"stack_order\"}, {\"filter\": \"datum['variable'] == 'temperature'\"}], \"width\": 700}, {\"mark\": {\"type\": \"rule\", \"color\": \"#474440\", \"opacity\": 1, \"strokeDash\": [2.5, 1]}, \"encoding\": {\"x\": {\"axis\": {\"formatType\": \"time\", \"labelAngle\": 0, \"labelExpr\": \"timeFormat(toDate(datum.value), '%b %e, %Y')\", \"labelOverlap\": true, \"labelPadding\": 5, \"labelSeparation\": 50, \"ticks\": false, \"title\": \"Date\"}, \"field\": \"timestamp\", \"type\": \"ordinal\"}}, \"title\": \"\", \"transform\": [{\"calculate\": \"datum['variable'] === 'temperature' ? 0 : 1\", \"as\": \"stack_order\"}, {\"pivot\": \"variable\", \"value\": \"value\", \"groupby\": [\"timestamp\"]}, {\"filter\": \"\\n            year(datum['timestamp']) === 2022 && \\n            month(datum['timestamp']) === 3 && \\n            date(datum['timestamp']) === 16 \\n        \"}], \"width\": 700}, {\"mark\": {\"type\": \"rule\", \"color\": \"#878787\"}, \"encoding\": {\"opacity\": {\"condition\": {\"value\": 1, \"selection\": \"selector003\"}, \"value\": 0}, \"tooltip\": [{\"field\": \"timestamp\", \"timeUnit\": \"yearmonthdate\", \"title\": \"date\", \"type\": \"ordinal\"}, {\"field\": \"temperature\", \"format\": \".0%\", \"type\": \"quantitative\"}], \"x\": {\"axis\": {\"formatType\": \"time\", \"labelAngle\": 0, \"labelExpr\": \"timeFormat(toDate(datum.value), '%b %e, %Y')\", \"labelOverlap\": true, \"labelPadding\": 5, \"labelSeparation\": 50, \"ticks\": false, \"title\": \"Date\"}, \"field\": \"timestamp\", \"type\": \"ordinal\"}}, \"selection\": {\"selector003\": {\"type\": \"single\", \"fields\": [\"timestamp\"], \"nearest\": true, \"on\": \"mouseover\", \"empty\": \"none\", \"clear\": \"mouseout\"}}, \"title\": \"\", \"transform\": [{\"calculate\": \"datum['variable'] === 'temperature' ? 0 : 1\", \"as\": \"stack_order\"}, {\"pivot\": \"variable\", \"value\": \"value\", \"groupby\": [\"timestamp\"]}], \"width\": 700}], \"data\": {\"name\": \"data-82d97d976747eff8eaadabe1e93f25cf\"}, \"$schema\": \"https://vega.github.io/schema/vega-lite/v4.17.0.json\", \"datasets\": {\"data-82d97d976747eff8eaadabe1e93f25cf\": [{\"timestamp\": \"2021-08-07T00:06:08\", \"season\": 25, \"variable\": \"temperature\", \"value\": 0.39, \"temperature\": 0.39}, {\"timestamp\": \"2021-08-08T00:08:15\", \"season\": 49, \"variable\": \"temperature\", \"value\": 0.35, \"temperature\": 0.35}, {\"timestamp\": \"2021-08-09T00:15:57\", \"season\": 73, \"variable\": \"temperature\", \"value\": 0.39, \"temperature\": 0.39}, {\"timestamp\": \"2021-08-10T00:01:29\", \"season\": 97, \"variable\": \"temperature\", \"value\": 0.11, \"temperature\": 0.11}, {\"timestamp\": \"2021-08-11T00:00:05\", \"season\": 121, \"variable\": \"temperature\", \"value\": 0.01, \"temperature\": 0.01}, {\"timestamp\": \"2021-08-12T00:01:00\", \"season\": 145, \"variable\": \"temperature\", \"value\": 0.28, \"temperature\": 0.28}, {\"timestamp\": \"2021-08-13T00:00:10\", \"season\": 169, \"variable\": \"temperature\", \"value\": 0.68, \"temperature\": 0.68}, {\"timestamp\": \"2021-08-14T00:00:29\", \"season\": 193, \"variable\": \"temperature\", \"value\": 0.55, \"temperature\": 0.55}, {\"timestamp\": \"2021-08-15T00:00:28\", \"season\": 217, \"variable\": \"temperature\", \"value\": 0.63, \"temperature\": 0.63}, {\"timestamp\": \"2021-08-16T00:00:17\", \"season\": 241, \"variable\": \"temperature\", \"value\": 0.9, \"temperature\": 0.9}, {\"timestamp\": \"2021-08-17T00:00:04\", \"season\": 265, \"variable\": \"temperature\", \"value\": 0.56, \"temperature\": 0.56}, {\"timestamp\": \"2021-08-18T00:00:31\", \"season\": 289, \"variable\": \"temperature\", \"value\": 0.52, \"temperature\": 0.52}, {\"timestamp\": \"2021-08-19T00:00:40\", \"season\": 313, \"variable\": \"temperature\", \"value\": 1.15, \"temperature\": 1.15}, {\"timestamp\": \"2021-08-20T00:01:04\", \"season\": 337, \"variable\": \"temperature\", \"value\": 1.11, \"temperature\": 1.11}, {\"timestamp\": \"2021-08-21T00:00:44\", \"season\": 361, \"variable\": \"temperature\", \"value\": 0.75, \"temperature\": 0.75}, {\"timestamp\": \"2021-08-22T00:00:09\", \"season\": 385, \"variable\": \"temperature\", \"value\": 0.35, \"temperature\": 0.35}, {\"timestamp\": \"2021-08-23T00:00:29\", \"season\": 409, \"variable\": \"temperature\", \"value\": 0.11, \"temperature\": 0.11}, {\"timestamp\": \"2021-08-24T00:00:01\", \"season\": 433, \"variable\": \"temperature\", \"value\": 0.48, \"temperature\": 0.48}, {\"timestamp\": \"2021-08-25T00:00:23\", \"season\": 457, \"variable\": \"temperature\", \"value\": 0.57, \"temperature\": 0.57}, {\"timestamp\": \"2021-08-26T00:00:49\", \"season\": 481, \"variable\": \"temperature\", \"value\": 0.21, \"temperature\": 0.21}, {\"timestamp\": \"2021-08-27T00:02:11\", \"season\": 505, \"variable\": \"temperature\", \"value\": 0.01, \"temperature\": 0.01}, {\"timestamp\": \"2021-08-28T00:05:42\", \"season\": 529, \"variable\": \"temperature\", \"value\": 0.03, \"temperature\": 0.03}, {\"timestamp\": \"2021-08-29T00:00:21\", \"season\": 553, \"variable\": \"temperature\", \"value\": 0.01, \"temperature\": 0.01}, {\"timestamp\": \"2021-08-30T00:00:41\", \"season\": 577, \"variable\": \"temperature\", \"value\": 0.01, \"temperature\": 0.01}, {\"timestamp\": \"2021-08-31T00:00:55\", \"season\": 601, \"variable\": \"temperature\", \"value\": 0.01, \"temperature\": 0.01}, {\"timestamp\": \"2021-09-01T00:00:46\", \"season\": 625, \"variable\": \"temperature\", \"value\": 0.12, \"temperature\": 0.12}, {\"timestamp\": \"2021-09-02T00:02:18\", \"season\": 649, \"variable\": \"temperature\", \"value\": 0.01, \"temperature\": 0.01}, {\"timestamp\": \"2021-09-03T00:00:21\", \"season\": 673, \"variable\": \"temperature\", \"value\": 0.43, \"temperature\": 0.43}, {\"timestamp\": \"2021-09-04T00:02:33\", \"season\": 697, \"variable\": \"temperature\", \"value\": 0.57, \"temperature\": 0.57}, {\"timestamp\": \"2021-09-05T00:02:38\", \"season\": 721, \"variable\": \"temperature\", \"value\": 0.42, \"temperature\": 0.42}, {\"timestamp\": \"2021-09-06T00:00:31\", \"season\": 745, \"variable\": \"temperature\", \"value\": 0.37, \"temperature\": 0.37}, {\"timestamp\": \"2021-09-07T00:00:25\", \"season\": 769, \"variable\": \"temperature\", \"value\": 0.08, \"temperature\": 0.08}, {\"timestamp\": \"2021-09-08T00:00:43\", \"season\": 793, \"variable\": \"temperature\", \"value\": 0.01, \"temperature\": 0.01}, {\"timestamp\": \"2021-09-09T00:00:36\", \"season\": 817, \"variable\": \"temperature\", \"value\": 0.07, \"temperature\": 0.07}, {\"timestamp\": \"2021-09-10T00:00:47\", \"season\": 841, \"variable\": \"temperature\", \"value\": 0.21, \"temperature\": 0.21}, {\"timestamp\": \"2021-09-11T00:00:25\", \"season\": 865, \"variable\": \"temperature\", \"value\": 0.03, \"temperature\": 0.03}, {\"timestamp\": \"2021-09-12T00:00:06\", \"season\": 889, \"variable\": \"temperature\", \"value\": 0.12, \"temperature\": 0.12}, {\"timestamp\": \"2021-09-13T00:00:34\", \"season\": 913, \"variable\": \"temperature\", \"value\": 0.18, \"temperature\": 0.18}, {\"timestamp\": \"2021-09-14T00:01:09\", \"season\": 937, \"variable\": \"temperature\", \"value\": 0.01, \"temperature\": 0.01}, {\"timestamp\": \"2021-09-15T00:00:38\", \"season\": 961, \"variable\": \"temperature\", \"value\": 0.01, \"temperature\": 0.01}, {\"timestamp\": \"2021-09-16T00:00:42\", \"season\": 985, \"variable\": \"temperature\", \"value\": 0.01, \"temperature\": 0.01}, {\"timestamp\": \"2021-09-17T00:00:26\", \"season\": 1009, \"variable\": \"temperature\", \"value\": 0.01, \"temperature\": 0.01}, {\"timestamp\": \"2021-09-18T00:01:18\", \"season\": 1033, \"variable\": \"temperature\", \"value\": 0.01, \"temperature\": 0.01}, {\"timestamp\": \"2021-09-19T00:00:06\", \"season\": 1057, \"variable\": \"temperature\", \"value\": 0.01, \"temperature\": 0.01}, {\"timestamp\": \"2021-09-20T00:01:40\", \"season\": 1081, \"variable\": \"temperature\", \"value\": 0.19, \"temperature\": 0.19}, {\"timestamp\": \"2021-09-21T00:01:43\", \"season\": 1105, \"variable\": \"temperature\", \"value\": 0.61, \"temperature\": 0.61}, {\"timestamp\": \"2021-09-22T00:00:16\", \"season\": 1129, \"variable\": \"temperature\", \"value\": 1.06, \"temperature\": 1.06}, {\"timestamp\": \"2021-09-23T00:02:36\", \"season\": 1153, \"variable\": \"temperature\", \"value\": 1.58, \"temperature\": 1.58}, {\"timestamp\": \"2021-09-24T00:00:19\", \"season\": 1177, \"variable\": \"temperature\", \"value\": 2.16, \"temperature\": 2.16}, {\"timestamp\": \"2021-09-25T00:00:21\", \"season\": 1201, \"variable\": \"temperature\", \"value\": 2.78, \"temperature\": 2.78}, {\"timestamp\": \"2021-09-26T00:00:25\", \"season\": 1225, \"variable\": \"temperature\", \"value\": 3.28, \"temperature\": 3.28}, {\"timestamp\": \"2021-09-27T00:00:01\", \"season\": 1249, \"variable\": \"temperature\", \"value\": 3.78, \"temperature\": 3.78}, {\"timestamp\": \"2021-09-28T00:00:06\", \"season\": 1273, \"variable\": \"temperature\", \"value\": 4.28, \"temperature\": 4.28}, {\"timestamp\": \"2021-09-29T00:00:20\", \"season\": 1297, \"variable\": \"temperature\", \"value\": 4.8, \"temperature\": 4.8}, {\"timestamp\": \"2021-09-30T00:01:52\", \"season\": 1321, \"variable\": \"temperature\", \"value\": 5.32, \"temperature\": 5.32}, {\"timestamp\": \"2021-10-01T00:01:44\", \"season\": 1345, \"variable\": \"temperature\", \"value\": 5.74, \"temperature\": 5.74}, {\"timestamp\": \"2021-10-02T00:00:44\", \"season\": 1369, \"variable\": \"temperature\", \"value\": 5.9, \"temperature\": 5.9}, {\"timestamp\": \"2021-10-03T00:00:05\", \"season\": 1393, \"variable\": \"temperature\", \"value\": 6.42, \"temperature\": 6.42}, {\"timestamp\": \"2021-10-04T00:00:32\", \"season\": 1417, \"variable\": \"temperature\", \"value\": 6.88, \"temperature\": 6.88}, {\"timestamp\": \"2021-10-05T00:03:55\", \"season\": 1441, \"variable\": \"temperature\", \"value\": 7.42, \"temperature\": 7.42}, {\"timestamp\": \"2021-10-06T00:01:34\", \"season\": 1465, \"variable\": \"temperature\", \"value\": 7.9, \"temperature\": 7.9}, {\"timestamp\": \"2021-10-07T00:02:24\", \"season\": 1489, \"variable\": \"temperature\", \"value\": 8.5, \"temperature\": 8.5}, {\"timestamp\": \"2021-10-08T00:01:18\", \"season\": 1513, \"variable\": \"temperature\", \"value\": 8.84, \"temperature\": 8.84}, {\"timestamp\": \"2021-10-09T00:02:32\", \"season\": 1537, \"variable\": \"temperature\", \"value\": 9.34, \"temperature\": 9.34}, {\"timestamp\": \"2021-10-10T00:00:39\", \"season\": 1561, \"variable\": \"temperature\", \"value\": 9.94, \"temperature\": 9.94}, {\"timestamp\": \"2021-10-11T00:00:43\", \"season\": 1585, \"variable\": \"temperature\", \"value\": 10.52, \"temperature\": 10.52}, {\"timestamp\": \"2021-10-12T00:01:23\", \"season\": 1609, \"variable\": \"temperature\", \"value\": 11.06, \"temperature\": 11.06}, {\"timestamp\": \"2021-10-13T00:00:49\", \"season\": 1633, \"variable\": \"temperature\", \"value\": 11.62, \"temperature\": 11.62}, {\"timestamp\": \"2021-10-14T00:01:25\", \"season\": 1657, \"variable\": \"temperature\", \"value\": 12.12, \"temperature\": 12.12}, {\"timestamp\": \"2021-10-15T00:02:14\", \"season\": 1681, \"variable\": \"temperature\", \"value\": 12.72, \"temperature\": 12.72}, {\"timestamp\": \"2021-10-16T00:02:08\", \"season\": 1705, \"variable\": \"temperature\", \"value\": 13.26, \"temperature\": 13.26}, {\"timestamp\": \"2021-10-17T00:00:39\", \"season\": 1729, \"variable\": \"temperature\", \"value\": 13.62, \"temperature\": 13.62}, {\"timestamp\": \"2021-10-18T00:00:48\", \"season\": 1753, \"variable\": \"temperature\", \"value\": 13.93, \"temperature\": 13.93}, {\"timestamp\": \"2021-10-19T00:01:14\", \"season\": 1777, \"variable\": \"temperature\", \"value\": 14.21, \"temperature\": 14.21}, {\"timestamp\": \"2021-10-20T00:00:31\", \"season\": 1801, \"variable\": \"temperature\", \"value\": 14.55, \"temperature\": 14.55}, {\"timestamp\": \"2021-10-21T00:02:30\", \"season\": 1825, \"variable\": \"temperature\", \"value\": 14.81, \"temperature\": 14.81}, {\"timestamp\": \"2021-10-22T00:00:33\", \"season\": 1849, \"variable\": \"temperature\", \"value\": 15.09, \"temperature\": 15.09}, {\"timestamp\": \"2021-10-23T00:00:12\", \"season\": 1873, \"variable\": \"temperature\", \"value\": 15.55, \"temperature\": 15.55}, {\"timestamp\": \"2021-10-24T00:00:53\", \"season\": 1897, \"variable\": \"temperature\", \"value\": 15.77, \"temperature\": 15.77}, {\"timestamp\": \"2021-10-25T00:00:35\", \"season\": 1921, \"variable\": \"temperature\", \"value\": 16.17, \"temperature\": 16.17}, {\"timestamp\": \"2021-10-26T00:00:39\", \"season\": 1945, \"variable\": \"temperature\", \"value\": 16.53, \"temperature\": 16.53}, {\"timestamp\": \"2021-10-27T00:01:02\", \"season\": 1969, \"variable\": \"temperature\", \"value\": 16.93, \"temperature\": 16.93}, {\"timestamp\": \"2021-10-28T00:02:23\", \"season\": 1993, \"variable\": \"temperature\", \"value\": 17.25, \"temperature\": 17.25}, {\"timestamp\": \"2021-10-29T00:01:54\", \"season\": 2017, \"variable\": \"temperature\", \"value\": 17.43, \"temperature\": 17.43}, {\"timestamp\": \"2021-10-30T00:02:04\", \"season\": 2041, \"variable\": \"temperature\", \"value\": 17.77, \"temperature\": 17.77}, {\"timestamp\": \"2021-10-31T00:02:28\", \"season\": 2065, \"variable\": \"temperature\", \"value\": 17.99, \"temperature\": 17.99}, {\"timestamp\": \"2021-11-01T00:01:36\", \"season\": 2089, \"variable\": \"temperature\", \"value\": 18.25, \"temperature\": 18.25}, {\"timestamp\": \"2021-11-02T00:01:39\", \"season\": 2113, \"variable\": \"temperature\", \"value\": 18.35, \"temperature\": 18.35}, {\"timestamp\": \"2021-11-03T00:01:22\", \"season\": 2137, \"variable\": \"temperature\", \"value\": 18.57, \"temperature\": 18.57}, {\"timestamp\": \"2021-11-04T00:01:55\", \"season\": 2161, \"variable\": \"temperature\", \"value\": 19.01, \"temperature\": 19.01}, {\"timestamp\": \"2021-11-05T00:02:28\", \"season\": 2185, \"variable\": \"temperature\", \"value\": 19.37, \"temperature\": 19.37}, {\"timestamp\": \"2021-11-06T00:00:17\", \"season\": 2209, \"variable\": \"temperature\", \"value\": 19.81, \"temperature\": 19.81}, {\"timestamp\": \"2021-11-07T00:00:17\", \"season\": 2233, \"variable\": \"temperature\", \"value\": 20.17, \"temperature\": 20.17}, {\"timestamp\": \"2021-11-08T00:01:22\", \"season\": 2257, \"variable\": \"temperature\", \"value\": 20.75, \"temperature\": 20.75}, {\"timestamp\": \"2021-11-09T00:02:23\", \"season\": 2281, \"variable\": \"temperature\", \"value\": 21.05, \"temperature\": 21.05}, {\"timestamp\": \"2021-11-10T00:00:20\", \"season\": 2305, \"variable\": \"temperature\", \"value\": 21.43, \"temperature\": 21.43}, {\"timestamp\": \"2021-11-11T00:02:14\", \"season\": 2329, \"variable\": \"temperature\", \"value\": 21.73, \"temperature\": 21.73}, {\"timestamp\": \"2021-11-12T00:01:57\", \"season\": 2353, \"variable\": \"temperature\", \"value\": 22.03, \"temperature\": 22.03}, {\"timestamp\": \"2021-11-13T00:00:17\", \"season\": 2377, \"variable\": \"temperature\", \"value\": 22.11, \"temperature\": 22.11}, {\"timestamp\": \"2021-11-14T00:00:31\", \"season\": 2401, \"variable\": \"temperature\", \"value\": 22.59, \"temperature\": 22.59}, {\"timestamp\": \"2021-11-15T00:01:44\", \"season\": 2425, \"variable\": \"temperature\", \"value\": 22.77, \"temperature\": 22.77}, {\"timestamp\": \"2021-11-16T00:00:56\", \"season\": 2449, \"variable\": \"temperature\", \"value\": 22.77, \"temperature\": 22.77}, {\"timestamp\": \"2021-11-17T00:00:50\", \"season\": 2473, \"variable\": \"temperature\", \"value\": 22.71, \"temperature\": 22.71}, {\"timestamp\": \"2021-11-18T00:00:38\", \"season\": 2497, \"variable\": \"temperature\", \"value\": 22.65, \"temperature\": 22.65}, {\"timestamp\": \"2021-11-19T00:00:49\", \"season\": 2521, \"variable\": \"temperature\", \"value\": 22.87, \"temperature\": 22.87}, {\"timestamp\": \"2021-11-20T00:01:08\", \"season\": 2545, \"variable\": \"temperature\", \"value\": 22.83, \"temperature\": 22.83}, {\"timestamp\": \"2021-11-21T00:00:01\", \"season\": 2569, \"variable\": \"temperature\", \"value\": 22.63, \"temperature\": 22.63}, {\"timestamp\": \"2021-11-22T00:01:39\", \"season\": 2593, \"variable\": \"temperature\", \"value\": 22.51, \"temperature\": 22.51}, {\"timestamp\": \"2021-11-23T00:01:23\", \"season\": 2617, \"variable\": \"temperature\", \"value\": 22.39, \"temperature\": 22.39}, {\"timestamp\": \"2021-11-24T00:00:42\", \"season\": 2629, \"variable\": \"temperature\", \"value\": 22.35, \"temperature\": 22.35}, {\"timestamp\": \"2021-11-25T00:00:29\", \"season\": 2653, \"variable\": \"temperature\", \"value\": 22.11, \"temperature\": 22.11}, {\"timestamp\": \"2021-11-26T00:00:31\", \"season\": 2677, \"variable\": \"temperature\", \"value\": 21.89, \"temperature\": 21.89}, {\"timestamp\": \"2021-11-27T00:00:49\", \"season\": 2701, \"variable\": \"temperature\", \"value\": 21.55, \"temperature\": 21.55}, {\"timestamp\": \"2021-11-28T00:00:38\", \"season\": 2725, \"variable\": \"temperature\", \"value\": 21.23, \"temperature\": 21.23}, {\"timestamp\": \"2021-11-29T00:01:08\", \"season\": 2749, \"variable\": \"temperature\", \"value\": 20.95, \"temperature\": 20.95}, {\"timestamp\": \"2021-11-30T00:01:06\", \"season\": 2773, \"variable\": \"temperature\", \"value\": 20.65, \"temperature\": 20.65}, {\"timestamp\": \"2021-12-01T00:02:37\", \"season\": 2797, \"variable\": \"temperature\", \"value\": 20.39, \"temperature\": 20.39}, {\"timestamp\": \"2021-12-02T00:01:18\", \"season\": 2821, \"variable\": \"temperature\", \"value\": 20.73, \"temperature\": 20.73}, {\"timestamp\": \"2021-12-03T00:01:08\", \"season\": 2845, \"variable\": \"temperature\", \"value\": 21.01, \"temperature\": 21.01}, {\"timestamp\": \"2021-12-04T00:00:14\", \"season\": 2869, \"variable\": \"temperature\", \"value\": 21.29, \"temperature\": 21.29}, {\"timestamp\": \"2021-12-05T00:00:54\", \"season\": 2893, \"variable\": \"temperature\", \"value\": 21.77, \"temperature\": 21.77}, {\"timestamp\": \"2021-12-06T00:00:12\", \"season\": 2917, \"variable\": \"temperature\", \"value\": 22.31, \"temperature\": 22.31}, {\"timestamp\": \"2021-12-07T00:00:11\", \"season\": 2941, \"variable\": \"temperature\", \"value\": 22.87, \"temperature\": 22.87}, {\"timestamp\": \"2021-12-08T00:00:12\", \"season\": 2965, \"variable\": \"temperature\", \"value\": 23.43, \"temperature\": 23.43}, {\"timestamp\": \"2021-12-09T00:00:34\", \"season\": 2989, \"variable\": \"temperature\", \"value\": 23.97, \"temperature\": 23.97}, {\"timestamp\": \"2021-12-10T00:00:24\", \"season\": 3013, \"variable\": \"temperature\", \"value\": 24.45, \"temperature\": 24.45}, {\"timestamp\": \"2021-12-11T00:00:51\", \"season\": 3037, \"variable\": \"temperature\", \"value\": 24.99, \"temperature\": 24.99}, {\"timestamp\": \"2021-12-12T00:01:06\", \"season\": 3061, \"variable\": \"temperature\", \"value\": 25.57, \"temperature\": 25.57}, {\"timestamp\": \"2021-12-13T00:00:12\", \"season\": 3085, \"variable\": \"temperature\", \"value\": 26.15, \"temperature\": 26.15}, {\"timestamp\": \"2021-12-14T00:01:35\", \"season\": 3109, \"variable\": \"temperature\", \"value\": 26.71, \"temperature\": 26.71}, {\"timestamp\": \"2021-12-15T00:00:04\", \"season\": 3133, \"variable\": \"temperature\", \"value\": 27.29, \"temperature\": 27.29}, {\"timestamp\": \"2021-12-16T00:00:57\", \"season\": 3157, \"variable\": \"temperature\", \"value\": 27.85, \"temperature\": 27.85}, {\"timestamp\": \"2021-12-17T00:00:10\", \"season\": 3181, \"variable\": \"temperature\", \"value\": 28.45, \"temperature\": 28.45}, {\"timestamp\": \"2021-12-18T00:01:09\", \"season\": 3205, \"variable\": \"temperature\", \"value\": 29.07, \"temperature\": 29.07}, {\"timestamp\": \"2021-12-19T00:00:42\", \"season\": 3229, \"variable\": \"temperature\", \"value\": 29.69, \"temperature\": 29.69}, {\"timestamp\": \"2021-12-20T00:01:07\", \"season\": 3253, \"variable\": \"temperature\", \"value\": 30.23, \"temperature\": 30.23}, {\"timestamp\": \"2021-12-21T00:00:51\", \"season\": 3277, \"variable\": \"temperature\", \"value\": 30.83, \"temperature\": 30.83}, {\"timestamp\": \"2021-12-22T00:00:33\", \"season\": 3301, \"variable\": \"temperature\", \"value\": 31.31, \"temperature\": 31.31}, {\"timestamp\": \"2021-12-23T00:00:46\", \"season\": 3325, \"variable\": \"temperature\", \"value\": 31.55, \"temperature\": 31.55}, {\"timestamp\": \"2021-12-24T00:00:14\", \"season\": 3349, \"variable\": \"temperature\", \"value\": 31.79, \"temperature\": 31.79}, {\"timestamp\": \"2021-12-25T00:00:15\", \"season\": 3373, \"variable\": \"temperature\", \"value\": 31.95, \"temperature\": 31.95}, {\"timestamp\": \"2021-12-26T00:00:01\", \"season\": 3397, \"variable\": \"temperature\", \"value\": 32.33, \"temperature\": 32.33}, {\"timestamp\": \"2021-12-27T00:00:08\", \"season\": 3421, \"variable\": \"temperature\", \"value\": 32.75, \"temperature\": 32.75}, {\"timestamp\": \"2021-12-28T00:01:16\", \"season\": 3445, \"variable\": \"temperature\", \"value\": 33.27, \"temperature\": 33.27}, {\"timestamp\": \"2021-12-29T00:00:14\", \"season\": 3469, \"variable\": \"temperature\", \"value\": 33.87, \"temperature\": 33.87}, {\"timestamp\": \"2021-12-30T00:01:18\", \"season\": 3493, \"variable\": \"temperature\", \"value\": 34.37, \"temperature\": 34.37}, {\"timestamp\": \"2021-12-31T00:01:05\", \"season\": 3517, \"variable\": \"temperature\", \"value\": 34.81, \"temperature\": 34.81}, {\"timestamp\": \"2022-01-01T00:00:03\", \"season\": 3541, \"variable\": \"temperature\", \"value\": 35.33, \"temperature\": 35.33}, {\"timestamp\": \"2022-01-02T00:01:07\", \"season\": 3565, \"variable\": \"temperature\", \"value\": 35.87, \"temperature\": 35.87}, {\"timestamp\": \"2022-01-03T00:00:08\", \"season\": 3589, \"variable\": \"temperature\", \"value\": 36.43, \"temperature\": 36.43}, {\"timestamp\": \"2022-01-04T00:01:40\", \"season\": 3613, \"variable\": \"temperature\", \"value\": 37.01, \"temperature\": 37.01}, {\"timestamp\": \"2022-01-05T00:02:09\", \"season\": 3637, \"variable\": \"temperature\", \"value\": 37.57, \"temperature\": 37.57}, {\"timestamp\": \"2022-01-06T00:00:34\", \"season\": 3661, \"variable\": \"temperature\", \"value\": 38.11, \"temperature\": 38.11}, {\"timestamp\": \"2022-01-07T00:00:38\", \"season\": 3685, \"variable\": \"temperature\", \"value\": 38.67, \"temperature\": 38.67}, {\"timestamp\": \"2022-01-08T00:00:16\", \"season\": 3709, \"variable\": \"temperature\", \"value\": 39.25, \"temperature\": 39.25}, {\"timestamp\": \"2022-01-09T00:00:49\", \"season\": 3733, \"variable\": \"temperature\", \"value\": 39.93, \"temperature\": 39.93}, {\"timestamp\": \"2022-01-10T00:01:00\", \"season\": 3757, \"variable\": \"temperature\", \"value\": 40.51, \"temperature\": 40.51}, {\"timestamp\": \"2022-01-11T00:01:20\", \"season\": 3781, \"variable\": \"temperature\", \"value\": 41.13, \"temperature\": 41.13}, {\"timestamp\": \"2022-01-12T00:02:53\", \"season\": 3805, \"variable\": \"temperature\", \"value\": 41.75, \"temperature\": 41.75}, {\"timestamp\": \"2022-01-13T00:02:25\", \"season\": 3829, \"variable\": \"temperature\", \"value\": 42.35, \"temperature\": 42.35}, {\"timestamp\": \"2022-01-14T00:04:29\", \"season\": 3853, \"variable\": \"temperature\", \"value\": 43.01, \"temperature\": 43.01}, {\"timestamp\": \"2022-01-15T00:01:05\", \"season\": 3877, \"variable\": \"temperature\", \"value\": 43.59, \"temperature\": 43.59}, {\"timestamp\": \"2022-01-16T00:00:19\", \"season\": 3901, \"variable\": \"temperature\", \"value\": 44.19, \"temperature\": 44.19}, {\"timestamp\": \"2022-01-17T00:01:09\", \"season\": 3925, \"variable\": \"temperature\", \"value\": 44.83, \"temperature\": 44.83}, {\"timestamp\": \"2022-01-18T00:00:24\", \"season\": 3949, \"variable\": \"temperature\", \"value\": 45.53, \"temperature\": 45.53}, {\"timestamp\": \"2022-01-19T00:01:17\", \"season\": 3973, \"variable\": \"temperature\", \"value\": 46.21, \"temperature\": 46.21}, {\"timestamp\": \"2022-01-20T00:00:37\", \"season\": 3997, \"variable\": \"temperature\", \"value\": 46.77, \"temperature\": 46.77}, {\"timestamp\": \"2022-01-21T00:00:23\", \"season\": 4021, \"variable\": \"temperature\", \"value\": 47.47, \"temperature\": 47.47}, {\"timestamp\": \"2022-01-22T00:02:29\", \"season\": 4045, \"variable\": \"temperature\", \"value\": 48.11, \"temperature\": 48.11}, {\"timestamp\": \"2022-01-23T00:00:48\", \"season\": 4069, \"variable\": \"temperature\", \"value\": 48.77, \"temperature\": 48.77}, {\"timestamp\": \"2022-01-24T00:02:29\", \"season\": 4093, \"variable\": \"temperature\", \"value\": 49.43, \"temperature\": 49.43}, {\"timestamp\": \"2022-01-25T00:00:10\", \"season\": 4117, \"variable\": \"temperature\", \"value\": 50.13, \"temperature\": 50.13}, {\"timestamp\": \"2022-01-26T00:00:17\", \"season\": 4141, \"variable\": \"temperature\", \"value\": 50.81, \"temperature\": 50.81}, {\"timestamp\": \"2022-01-27T00:00:24\", \"season\": 4165, \"variable\": \"temperature\", \"value\": 51.51, \"temperature\": 51.51}, {\"timestamp\": \"2022-01-28T00:00:55\", \"season\": 4189, \"variable\": \"temperature\", \"value\": 52.17, \"temperature\": 52.17}, {\"timestamp\": \"2022-01-29T00:00:04\", \"season\": 4213, \"variable\": \"temperature\", \"value\": 52.77, \"temperature\": 52.77}, {\"timestamp\": \"2022-01-30T00:00:07\", \"season\": 4237, \"variable\": \"temperature\", \"value\": 53.45, \"temperature\": 53.45}, {\"timestamp\": \"2022-01-31T00:00:00\", \"season\": 4261, \"variable\": \"temperature\", \"value\": 53.89, \"temperature\": 53.89}, {\"timestamp\": \"2022-02-01T00:00:47\", \"season\": 4285, \"variable\": \"temperature\", \"value\": 54.25, \"temperature\": 54.25}, {\"timestamp\": \"2022-02-02T00:02:56\", \"season\": 4309, \"variable\": \"temperature\", \"value\": 54.73, \"temperature\": 54.73}, {\"timestamp\": \"2022-02-03T00:00:03\", \"season\": 4333, \"variable\": \"temperature\", \"value\": 55.19, \"temperature\": 55.19}, {\"timestamp\": \"2022-02-04T00:01:08\", \"season\": 4357, \"variable\": \"temperature\", \"value\": 55.45, \"temperature\": 55.45}, {\"timestamp\": \"2022-02-05T00:00:19\", \"season\": 4381, \"variable\": \"temperature\", \"value\": 55.71, \"temperature\": 55.71}, {\"timestamp\": \"2022-02-06T00:00:11\", \"season\": 4405, \"variable\": \"temperature\", \"value\": 56.07, \"temperature\": 56.07}, {\"timestamp\": \"2022-02-07T00:00:02\", \"season\": 4429, \"variable\": \"temperature\", \"value\": 56.27, \"temperature\": 56.27}, {\"timestamp\": \"2022-02-08T00:00:30\", \"season\": 4453, \"variable\": \"temperature\", \"value\": 56.75, \"temperature\": 56.75}, {\"timestamp\": \"2022-02-09T00:00:10\", \"season\": 4477, \"variable\": \"temperature\", \"value\": 57.25, \"temperature\": 57.25}, {\"timestamp\": \"2022-02-10T00:00:44\", \"season\": 4501, \"variable\": \"temperature\", \"value\": 57.71, \"temperature\": 57.71}, {\"timestamp\": \"2022-02-11T00:00:06\", \"season\": 4525, \"variable\": \"temperature\", \"value\": 58.07, \"temperature\": 58.07}, {\"timestamp\": \"2022-02-12T00:00:06\", \"season\": 4549, \"variable\": \"temperature\", \"value\": 58.59, \"temperature\": 58.59}, {\"timestamp\": \"2022-02-13T00:00:56\", \"season\": 4573, \"variable\": \"temperature\", \"value\": 59.19, \"temperature\": 59.19}, {\"timestamp\": \"2022-02-14T00:00:11\", \"season\": 4597, \"variable\": \"temperature\", \"value\": 59.81, \"temperature\": 59.81}, {\"timestamp\": \"2022-02-15T00:00:35\", \"season\": 4621, \"variable\": \"temperature\", \"value\": 60.01, \"temperature\": 60.01}, {\"timestamp\": \"2022-02-16T00:00:34\", \"season\": 4645, \"variable\": \"temperature\", \"value\": 60.31, \"temperature\": 60.31}, {\"timestamp\": \"2022-02-17T00:00:02\", \"season\": 4669, \"variable\": \"temperature\", \"value\": 60.91, \"temperature\": 60.91}, {\"timestamp\": \"2022-02-18T00:00:14\", \"season\": 4693, \"variable\": \"temperature\", \"value\": 61.39, \"temperature\": 61.39}, {\"timestamp\": \"2022-02-19T00:00:02\", \"season\": 4717, \"variable\": \"temperature\", \"value\": 62.01, \"temperature\": 62.01}, {\"timestamp\": \"2022-02-20T00:00:15\", \"season\": 4741, \"variable\": \"temperature\", \"value\": 62.63, \"temperature\": 62.63}, {\"timestamp\": \"2022-02-21T00:00:06\", \"season\": 4765, \"variable\": \"temperature\", \"value\": 63.09, \"temperature\": 63.09}, {\"timestamp\": \"2022-02-22T00:00:01\", \"season\": 4789, \"variable\": \"temperature\", \"value\": 63.75, \"temperature\": 63.75}, {\"timestamp\": \"2022-02-23T00:00:27\", \"season\": 4813, \"variable\": \"temperature\", \"value\": 64.35, \"temperature\": 64.35}, {\"timestamp\": \"2022-02-24T00:00:01\", \"season\": 4837, \"variable\": \"temperature\", \"value\": 65.05, \"temperature\": 65.05}, {\"timestamp\": \"2022-02-25T00:00:06\", \"season\": 4861, \"variable\": \"temperature\", \"value\": 65.69, \"temperature\": 65.69}, {\"timestamp\": \"2022-02-26T00:00:28\", \"season\": 4885, \"variable\": \"temperature\", \"value\": 66.19, \"temperature\": 66.19}, {\"timestamp\": \"2022-02-27T00:00:02\", \"season\": 4909, \"variable\": \"temperature\", \"value\": 66.77, \"temperature\": 66.77}, {\"timestamp\": \"2022-02-28T00:00:02\", \"season\": 4933, \"variable\": \"temperature\", \"value\": 67.25, \"temperature\": 67.25}, {\"timestamp\": \"2022-03-01T00:00:18\", \"season\": 4957, \"variable\": \"temperature\", \"value\": 67.73, \"temperature\": 67.73}, {\"timestamp\": \"2022-03-02T00:00:00\", \"season\": 4981, \"variable\": \"temperature\", \"value\": 68.07, \"temperature\": 68.07}, {\"timestamp\": \"2022-03-03T00:00:02\", \"season\": 5005, \"variable\": \"temperature\", \"value\": 68.55, \"temperature\": 68.55}, {\"timestamp\": \"2022-03-04T00:00:35\", \"season\": 5029, \"variable\": \"temperature\", \"value\": 69.09, \"temperature\": 69.09}, {\"timestamp\": \"2022-03-05T00:00:30\", \"season\": 5053, \"variable\": \"temperature\", \"value\": 69.77, \"temperature\": 69.77}, {\"timestamp\": \"2022-03-06T00:00:17\", \"season\": 5077, \"variable\": \"temperature\", \"value\": 70.39, \"temperature\": 70.39}, {\"timestamp\": \"2022-03-07T00:00:15\", \"season\": 5101, \"variable\": \"temperature\", \"value\": 71.01, \"temperature\": 71.01}, {\"timestamp\": \"2022-03-08T00:00:01\", \"season\": 5125, \"variable\": \"temperature\", \"value\": 71.43, \"temperature\": 71.43}, {\"timestamp\": \"2022-03-09T00:00:04\", \"season\": 5149, \"variable\": \"temperature\", \"value\": 71.51, \"temperature\": 71.51}, {\"timestamp\": \"2022-03-10T00:00:17\", \"season\": 5173, \"variable\": \"temperature\", \"value\": 71.55, \"temperature\": 71.55}, {\"timestamp\": \"2022-03-11T00:00:09\", \"season\": 5197, \"variable\": \"temperature\", \"value\": 71.51, \"temperature\": 71.51}, {\"timestamp\": \"2022-03-12T00:00:05\", \"season\": 5221, \"variable\": \"temperature\", \"value\": 71.33, \"temperature\": 71.33}, {\"timestamp\": \"2022-03-13T00:00:01\", \"season\": 5245, \"variable\": \"temperature\", \"value\": 71.07, \"temperature\": 71.07}, {\"timestamp\": \"2022-03-14T00:00:04\", \"season\": 5269, \"variable\": \"temperature\", \"value\": 70.71, \"temperature\": 70.71}, {\"timestamp\": \"2022-03-15T00:00:14\", \"season\": 5293, \"variable\": \"temperature\", \"value\": 70.42, \"temperature\": 70.42}, {\"timestamp\": \"2022-03-16T00:00:05\", \"season\": 5317, \"variable\": \"temperature\", \"value\": 70.04, \"temperature\": 70.04}, {\"timestamp\": \"2022-03-17T00:00:07\", \"season\": 5341, \"variable\": \"temperature\", \"value\": 69.84, \"temperature\": 69.84}, {\"timestamp\": \"2022-03-18T00:00:08\", \"season\": 5365, \"variable\": \"temperature\", \"value\": 69.53, \"temperature\": 69.53}, {\"timestamp\": \"2022-03-19T00:00:09\", \"season\": 5389, \"variable\": \"temperature\", \"value\": 69.38, \"temperature\": 69.38}, {\"timestamp\": \"2022-03-20T00:00:11\", \"season\": 5413, \"variable\": \"temperature\", \"value\": 69.41, \"temperature\": 69.41}, {\"timestamp\": \"2022-03-21T00:00:14\", \"season\": 5437, \"variable\": \"temperature\", \"value\": 69.33, \"temperature\": 69.33}, {\"timestamp\": \"2022-03-22T00:00:02\", \"season\": 5461, \"variable\": \"temperature\", \"value\": 69.02, \"temperature\": 69.02}, {\"timestamp\": \"2022-03-23T00:00:07\", \"season\": 5485, \"variable\": \"temperature\", \"value\": 68.62, \"temperature\": 68.62}, {\"timestamp\": \"2022-03-24T00:00:59\", \"season\": 5509, \"variable\": \"temperature\", \"value\": 68.23, \"temperature\": 68.23}, {\"timestamp\": \"2022-03-25T00:00:02\", \"season\": 5533, \"variable\": \"temperature\", \"value\": 67.84, \"temperature\": 67.84}, {\"timestamp\": \"2022-03-26T00:00:19\", \"season\": 5557, \"variable\": \"temperature\", \"value\": 67.51, \"temperature\": 67.51}, {\"timestamp\": \"2022-03-27T00:00:05\", \"season\": 5581, \"variable\": \"temperature\", \"value\": 67.15, \"temperature\": 67.15}, {\"timestamp\": \"2022-03-28T00:01:21\", \"season\": 5605, \"variable\": \"temperature\", \"value\": 66.79, \"temperature\": 66.79}, {\"timestamp\": \"2022-03-29T00:00:19\", \"season\": 5629, \"variable\": \"temperature\", \"value\": 66.43, \"temperature\": 66.43}, {\"timestamp\": \"2022-03-30T00:00:24\", \"season\": 5653, \"variable\": \"temperature\", \"value\": 66.05, \"temperature\": 66.05}, {\"timestamp\": \"2022-03-31T00:00:03\", \"season\": 5677, \"variable\": \"temperature\", \"value\": 65.66, \"temperature\": 65.66}, {\"timestamp\": \"2022-04-01T00:00:21\", \"season\": 5701, \"variable\": \"temperature\", \"value\": 65.33, \"temperature\": 65.33}, {\"timestamp\": \"2022-04-02T00:00:09\", \"season\": 5725, \"variable\": \"temperature\", \"value\": 64.97, \"temperature\": 64.97}, {\"timestamp\": \"2022-04-03T00:00:06\", \"season\": 5749, \"variable\": \"temperature\", \"value\": 64.51, \"temperature\": 64.51}, {\"timestamp\": \"2022-04-04T00:00:00\", \"season\": 5773, \"variable\": \"temperature\", \"value\": 64.09, \"temperature\": 64.09}, {\"timestamp\": \"2022-04-05T00:00:21\", \"season\": 5797, \"variable\": \"temperature\", \"value\": 63.7, \"temperature\": 63.7}, {\"timestamp\": \"2022-04-06T00:00:27\", \"season\": 5821, \"variable\": \"temperature\", \"value\": 63.4, \"temperature\": 63.4}, {\"timestamp\": \"2022-04-07T00:01:08\", \"season\": 5845, \"variable\": \"temperature\", \"value\": 63.1, \"temperature\": 63.1}, {\"timestamp\": \"2022-04-08T00:00:13\", \"season\": 5869, \"variable\": \"temperature\", \"value\": 62.53, \"temperature\": 62.53}, {\"timestamp\": \"2022-04-09T00:00:00\", \"season\": 5893, \"variable\": \"temperature\", \"value\": 62.05, \"temperature\": 62.05}, {\"timestamp\": \"2022-04-10T00:02:19\", \"season\": 5917, \"variable\": \"temperature\", \"value\": 61.47, \"temperature\": 61.47}, {\"timestamp\": \"2022-04-11T00:00:03\", \"season\": 5941, \"variable\": \"temperature\", \"value\": 60.9, \"temperature\": 60.9}, {\"timestamp\": \"2022-04-12T00:00:14\", \"season\": 5965, \"variable\": \"temperature\", \"value\": 60.21, \"temperature\": 60.21}, {\"timestamp\": \"2022-04-13T00:00:14\", \"season\": 5989, \"variable\": \"temperature\", \"value\": 59.52, \"temperature\": 59.52}, {\"timestamp\": \"2022-04-14T00:00:06\", \"season\": 6013, \"variable\": \"temperature\", \"value\": 58.8, \"temperature\": 58.8}, {\"timestamp\": \"2022-04-15T00:00:36\", \"season\": 6037, \"variable\": \"temperature\", \"value\": 58.08, \"temperature\": 58.08}, {\"timestamp\": \"2022-04-16T00:00:56\", \"season\": 6061, \"variable\": \"temperature\", \"value\": 57.36, \"temperature\": 57.36}, {\"timestamp\": \"2022-08-05T03:47:15\", \"season\": 6074, \"variable\": \"temperature\", \"value\": 56.97, \"temperature\": 56.97}, {\"timestamp\": \"2022-08-06T23:00:33\", \"season\": 6081, \"variable\": \"temperature\", \"value\": 56.83, \"temperature\": 56.83}, {\"timestamp\": \"2022-08-07T23:00:32\", \"season\": 6105, \"variable\": \"temperature\", \"value\": 56.11, \"temperature\": 56.11}, {\"timestamp\": \"2022-08-08T23:00:11\", \"season\": 6129, \"variable\": \"temperature\", \"value\": 55.94, \"temperature\": 55.94}, {\"timestamp\": \"2022-08-09T23:00:00\", \"season\": 6153, \"variable\": \"temperature\", \"value\": 56.24, \"temperature\": 56.24}, {\"timestamp\": \"2022-08-10T23:00:22\", \"season\": 6177, \"variable\": \"temperature\", \"value\": 55.96, \"temperature\": 55.96}, {\"timestamp\": \"2022-08-11T23:00:51\", \"season\": 6201, \"variable\": \"temperature\", \"value\": 55.67, \"temperature\": 55.67}, {\"timestamp\": \"2022-08-12T23:00:02\", \"season\": 6225, \"variable\": \"temperature\", \"value\": 55.56, \"temperature\": 55.56}, {\"timestamp\": \"2022-08-13T23:00:00\", \"season\": 6249, \"variable\": \"temperature\", \"value\": 55.07, \"temperature\": 55.07}, {\"timestamp\": \"2022-08-14T23:00:05\", \"season\": 6273, \"variable\": \"temperature\", \"value\": 55.14, \"temperature\": 55.14}, {\"timestamp\": \"2022-08-15T23:00:00\", \"season\": 6297, \"variable\": \"temperature\", \"value\": 54.7, \"temperature\": 54.7}, {\"timestamp\": \"2022-08-16T23:00:20\", \"season\": 6321, \"variable\": \"temperature\", \"value\": 53.98, \"temperature\": 53.98}, {\"timestamp\": \"2022-08-17T23:00:15\", \"season\": 6345, \"variable\": \"temperature\", \"value\": 53.26, \"temperature\": 53.26}, {\"timestamp\": \"2022-08-18T23:00:38\", \"season\": 6369, \"variable\": \"temperature\", \"value\": 52.7, \"temperature\": 52.7}, {\"timestamp\": \"2022-08-19T23:00:06\", \"season\": 6393, \"variable\": \"temperature\", \"value\": 51.98, \"temperature\": 51.98}, {\"timestamp\": \"2022-08-20T23:00:38\", \"season\": 6417, \"variable\": \"temperature\", \"value\": 51.38, \"temperature\": 51.38}, {\"timestamp\": \"2022-08-21T23:00:14\", \"season\": 6441, \"variable\": \"temperature\", \"value\": 50.73, \"temperature\": 50.73}, {\"timestamp\": \"2022-08-22T23:00:22\", \"season\": 6465, \"variable\": \"temperature\", \"value\": 50.04, \"temperature\": 50.04}, {\"timestamp\": \"2022-08-23T23:01:12\", \"season\": 6489, \"variable\": \"temperature\", \"value\": 49.36, \"temperature\": 49.36}, {\"timestamp\": \"2022-08-24T23:00:02\", \"season\": 6513, \"variable\": \"temperature\", \"value\": 48.67, \"temperature\": 48.67}, {\"timestamp\": \"2022-08-25T23:00:43\", \"season\": 6537, \"variable\": \"temperature\", \"value\": 48.02, \"temperature\": 48.02}, {\"timestamp\": \"2022-08-26T23:00:18\", \"season\": 6561, \"variable\": \"temperature\", \"value\": 47.3, \"temperature\": 47.3}, {\"timestamp\": \"2022-08-27T23:00:24\", \"season\": 6585, \"variable\": \"temperature\", \"value\": 46.85, \"temperature\": 46.85}, {\"timestamp\": \"2022-08-28T23:00:05\", \"season\": 6609, \"variable\": \"temperature\", \"value\": 46.41, \"temperature\": 46.41}, {\"timestamp\": \"2022-08-29T23:00:40\", \"season\": 6633, \"variable\": \"temperature\", \"value\": 45.73, \"temperature\": 45.73}, {\"timestamp\": \"2022-08-30T23:00:14\", \"season\": 6657, \"variable\": \"temperature\", \"value\": 45.25, \"temperature\": 45.25}, {\"timestamp\": \"2022-08-31T23:00:02\", \"season\": 6681, \"variable\": \"temperature\", \"value\": 44.65, \"temperature\": 44.65}, {\"timestamp\": \"2022-09-01T23:00:03\", \"season\": 6705, \"variable\": \"temperature\", \"value\": 44.11, \"temperature\": 44.11}, {\"timestamp\": \"2022-09-02T23:00:12\", \"season\": 6729, \"variable\": \"temperature\", \"value\": 43.74, \"temperature\": 43.74}, {\"timestamp\": \"2022-09-03T23:00:07\", \"season\": 6753, \"variable\": \"temperature\", \"value\": 43.44, \"temperature\": 43.44}, {\"timestamp\": \"2022-09-04T23:00:04\", \"season\": 6777, \"variable\": \"temperature\", \"value\": 42.79, \"temperature\": 42.79}, {\"timestamp\": \"2022-09-05T23:00:01\", \"season\": 6801, \"variable\": \"temperature\", \"value\": 42.15, \"temperature\": 42.15}, {\"timestamp\": \"2022-09-06T23:00:27\", \"season\": 6825, \"variable\": \"temperature\", \"value\": 41.55, \"temperature\": 41.55}, {\"timestamp\": \"2022-09-07T23:00:10\", \"season\": 6849, \"variable\": \"temperature\", \"value\": 41.15, \"temperature\": 41.15}, {\"timestamp\": \"2022-09-08T23:00:04\", \"season\": 6873, \"variable\": \"temperature\", \"value\": 40.57, \"temperature\": 40.57}, {\"timestamp\": \"2022-09-09T23:00:00\", \"season\": 6897, \"variable\": \"temperature\", \"value\": 40.05, \"temperature\": 40.05}, {\"timestamp\": \"2022-09-10T23:00:34\", \"season\": 6921, \"variable\": \"temperature\", \"value\": 39.41, \"temperature\": 39.41}, {\"timestamp\": \"2022-09-11T23:00:03\", \"season\": 6945, \"variable\": \"temperature\", \"value\": 38.77, \"temperature\": 38.77}, {\"timestamp\": \"2022-09-12T23:00:06\", \"season\": 6969, \"variable\": \"temperature\", \"value\": 38.23, \"temperature\": 38.23}, {\"timestamp\": \"2022-09-13T23:00:03\", \"season\": 6993, \"variable\": \"temperature\", \"value\": 37.62, \"temperature\": 37.62}, {\"timestamp\": \"2022-09-14T23:00:07\", \"season\": 7017, \"variable\": \"temperature\", \"value\": 36.97, \"temperature\": 36.97}, {\"timestamp\": \"2022-09-15T23:00:11\", \"season\": 7041, \"variable\": \"temperature\", \"value\": 36.71, \"temperature\": 36.71}, {\"timestamp\": \"2022-09-16T23:00:11\", \"season\": 7065, \"variable\": \"temperature\", \"value\": 36.74, \"temperature\": 36.74}, {\"timestamp\": \"2022-09-17T23:00:23\", \"season\": 7089, \"variable\": \"temperature\", \"value\": 36.1, \"temperature\": 36.1}, {\"timestamp\": \"2022-09-18T23:00:11\", \"season\": 7113, \"variable\": \"temperature\", \"value\": 35.42, \"temperature\": 35.42}, {\"timestamp\": \"2022-09-19T23:00:11\", \"season\": 7137, \"variable\": \"temperature\", \"value\": 35.44, \"temperature\": 35.44}, {\"timestamp\": \"2022-09-20T23:00:11\", \"season\": 7161, \"variable\": \"temperature\", \"value\": 36.08, \"temperature\": 36.08}, {\"timestamp\": \"2022-09-21T23:00:11\", \"season\": 7185, \"variable\": \"temperature\", \"value\": 36.74, \"temperature\": 36.74}, {\"timestamp\": \"2022-09-22T23:00:11\", \"season\": 7209, \"variable\": \"temperature\", \"value\": 37.42, \"temperature\": 37.42}, {\"timestamp\": \"2022-09-23T23:00:11\", \"season\": 7233, \"variable\": \"temperature\", \"value\": 38.08, \"temperature\": 38.08}, {\"timestamp\": \"2022-09-24T23:00:11\", \"season\": 7257, \"variable\": \"temperature\", \"value\": 38.74, \"temperature\": 38.74}, {\"timestamp\": \"2022-09-25T23:00:11\", \"season\": 7281, \"variable\": \"temperature\", \"value\": 39.46, \"temperature\": 39.46}, {\"timestamp\": \"2022-09-26T23:00:11\", \"season\": 7305, \"variable\": \"temperature\", \"value\": 40.16, \"temperature\": 40.16}, {\"timestamp\": \"2022-09-27T23:00:11\", \"season\": 7329, \"variable\": \"temperature\", \"value\": 40.48, \"temperature\": 40.48}, {\"timestamp\": \"2022-09-28T23:00:11\", \"season\": 7353, \"variable\": \"temperature\", \"value\": 41.04, \"temperature\": 41.04}, {\"timestamp\": \"2022-09-29T23:00:11\", \"season\": 7377, \"variable\": \"temperature\", \"value\": 41.3, \"temperature\": 41.3}, {\"timestamp\": \"2022-09-30T23:00:11\", \"season\": 7401, \"variable\": \"temperature\", \"value\": 41.54, \"temperature\": 41.54}, {\"timestamp\": \"2022-10-01T23:00:11\", \"season\": 7425, \"variable\": \"temperature\", \"value\": 41.8, \"temperature\": 41.8}, {\"timestamp\": \"2022-10-02T23:00:11\", \"season\": 7449, \"variable\": \"temperature\", \"value\": 42.12, \"temperature\": 42.12}, {\"timestamp\": \"2022-10-03T23:00:11\", \"season\": 7473, \"variable\": \"temperature\", \"value\": 42.4, \"temperature\": 42.4}, {\"timestamp\": \"2022-10-04T23:00:11\", \"season\": 7497, \"variable\": \"temperature\", \"value\": 42.68, \"temperature\": 42.68}, {\"timestamp\": \"2022-10-05T23:00:11\", \"season\": 7521, \"variable\": \"temperature\", \"value\": 43.04, \"temperature\": 43.04}, {\"timestamp\": \"2022-10-06T23:00:11\", \"season\": 7545, \"variable\": \"temperature\", \"value\": 43.32, \"temperature\": 43.32}, {\"timestamp\": \"2022-10-07T23:00:11\", \"season\": 7569, \"variable\": \"temperature\", \"value\": 43.61, \"temperature\": 43.61}, {\"timestamp\": \"2022-10-08T23:00:11\", \"season\": 7593, \"variable\": \"temperature\", \"value\": 43.83, \"temperature\": 43.83}, {\"timestamp\": \"2022-10-09T23:00:11\", \"season\": 7617, \"variable\": \"temperature\", \"value\": 44.07, \"temperature\": 44.07}, {\"timestamp\": \"2022-10-10T23:00:11\", \"season\": 7641, \"variable\": \"temperature\", \"value\": 44.37, \"temperature\": 44.37}, {\"timestamp\": \"2022-10-11T23:00:11\", \"season\": 7665, \"variable\": \"temperature\", \"value\": 44.54, \"temperature\": 44.54}, {\"timestamp\": \"2022-10-12T23:00:11\", \"season\": 7689, \"variable\": \"temperature\", \"value\": 43.92, \"temperature\": 43.92}, {\"timestamp\": \"2022-10-13T23:00:11\", \"season\": 7713, \"variable\": \"temperature\", \"value\": 43.91, \"temperature\": 43.91}, {\"timestamp\": \"2022-10-14T23:00:11\", \"season\": 7737, \"variable\": \"temperature\", \"value\": 43.95, \"temperature\": 43.95}, {\"timestamp\": \"2022-10-15T23:00:11\", \"season\": 7761, \"variable\": \"temperature\", \"value\": 44.11, \"temperature\": 44.11}, {\"timestamp\": \"2022-10-16T23:00:11\", \"season\": 7785, \"variable\": \"temperature\", \"value\": 44.41, \"temperature\": 44.41}, {\"timestamp\": \"2022-10-17T23:00:11\", \"season\": 7809, \"variable\": \"temperature\", \"value\": 44.41, \"temperature\": 44.41}, {\"timestamp\": \"2022-10-18T23:00:11\", \"season\": 7833, \"variable\": \"temperature\", \"value\": 44.08, \"temperature\": 44.08}, {\"timestamp\": \"2022-10-19T23:00:11\", \"season\": 7857, \"variable\": \"temperature\", \"value\": 43.64, \"temperature\": 43.64}, {\"timestamp\": \"2022-10-20T23:00:11\", \"season\": 7881, \"variable\": \"temperature\", \"value\": 43.39, \"temperature\": 43.39}, {\"timestamp\": \"2022-10-21T23:00:11\", \"season\": 7905, \"variable\": \"temperature\", \"value\": 43.83, \"temperature\": 43.83}, {\"timestamp\": \"2022-10-22T23:00:23\", \"season\": 7929, \"variable\": \"temperature\", \"value\": 43.37, \"temperature\": 43.37}, {\"timestamp\": \"2022-10-23T23:00:11\", \"season\": 7953, \"variable\": \"temperature\", \"value\": 43.67, \"temperature\": 43.67}, {\"timestamp\": \"2022-10-24T23:00:11\", \"season\": 7977, \"variable\": \"temperature\", \"value\": 43.19, \"temperature\": 43.19}, {\"timestamp\": \"2022-10-25T23:00:11\", \"season\": 8001, \"variable\": \"temperature\", \"value\": 42.47, \"temperature\": 42.47}, {\"timestamp\": \"2022-10-26T23:00:11\", \"season\": 8025, \"variable\": \"temperature\", \"value\": 41.84, \"temperature\": 41.84}, {\"timestamp\": \"2022-10-27T23:00:11\", \"season\": 8049, \"variable\": \"temperature\", \"value\": 41.52, \"temperature\": 41.52}, {\"timestamp\": \"2022-10-28T23:00:11\", \"season\": 8073, \"variable\": \"temperature\", \"value\": 41.01, \"temperature\": 41.01}, {\"timestamp\": \"2022-10-29T23:00:11\", \"season\": 8097, \"variable\": \"temperature\", \"value\": 41.15, \"temperature\": 41.15}, {\"timestamp\": \"2022-10-30T23:00:11\", \"season\": 8121, \"variable\": \"temperature\", \"value\": 40.53, \"temperature\": 40.53}, {\"timestamp\": \"2022-10-31T23:00:11\", \"season\": 8145, \"variable\": \"temperature\", \"value\": 40.58, \"temperature\": 40.58}, {\"timestamp\": \"2022-11-01T23:00:11\", \"season\": 8169, \"variable\": \"temperature\", \"value\": 40.54, \"temperature\": 40.54}, {\"timestamp\": \"2022-11-02T23:00:11\", \"season\": 8193, \"variable\": \"temperature\", \"value\": 40.3, \"temperature\": 40.3}, {\"timestamp\": \"2022-11-03T23:00:11\", \"season\": 8217, \"variable\": \"temperature\", \"value\": 39.92, \"temperature\": 39.92}, {\"timestamp\": \"2022-11-04T02:00:11\", \"season\": 8220, \"variable\": \"temperature\", \"value\": 39.83, \"temperature\": 39.83}]}}, {\"mode\": \"vega-lite\"});\n",
       "</script>"
      ],
      "text/plain": [
       "alt.LayerChart(...)"
      ]
     },
     "execution_count": 9,
     "metadata": {},
     "output_type": "execute_result"
    }
   ],
   "source": [
    "colors = {'temperature': Batlow_5.hex_colors[0]}\n",
    "format = '.0%'\n",
    "c = (\n",
    "    chart(\n",
    "        df, \n",
    "        \"timestamp\", \n",
    "        lmetrics=['temperature'], \n",
    "        lstrategy=\"line\", \n",
    "        tooltip_formats={'temperature': format},\n",
    "        yaxis_left_kwargs=dict(title=\"Temperature\", format=format),\n",
    "        hide_legend=True, \n",
    "        colors=colors, \n",
    "        show_exploit_rule=True, \n",
    "        exploit_day=16, \n",
    "    )\n",
    ")\n",
    "\n",
    "css_lines = css_tooltip_timeseries_multi_colored(value_vars, colors) \n",
    "css = \"\\n\".join(css_lines)\n",
    "\n",
    "apply_css(\"\")\n",
    "# apply_css(css)\n",
    "\n",
    "c"
   ]
  },
  {
   "cell_type": "code",
   "execution_count": 7,
   "id": "d6752862",
   "metadata": {},
   "outputs": [
    {
     "data": {
      "application/json": {
       "css": "#vg-tooltip-element tr:nth-child(1) { font-weight: bold }\n#vg-tooltip-element tr:nth-child(1) td:first-child { opacity: 0 }\n\n#vg-tooltip-element tr:nth-child(2) td:first-child { color: #011959 }\n",
       "spec": {
        "$schema": "https://vega.github.io/schema/vega-lite/v4.17.0.json",
        "config": {
         "view": {
          "continuousHeight": 300,
          "continuousWidth": 400
         }
        },
        "data": {
         "name": "data-82d97d976747eff8eaadabe1e93f25cf"
        },
        "datasets": {
         "data-82d97d976747eff8eaadabe1e93f25cf": [
          {
           "season": 25,
           "temperature": 0.39,
           "timestamp": "2021-08-07T00:06:08",
           "value": 0.39,
           "variable": "temperature"
          },
          {
           "season": 49,
           "temperature": 0.35,
           "timestamp": "2021-08-08T00:08:15",
           "value": 0.35,
           "variable": "temperature"
          },
          {
           "season": 73,
           "temperature": 0.39,
           "timestamp": "2021-08-09T00:15:57",
           "value": 0.39,
           "variable": "temperature"
          },
          {
           "season": 97,
           "temperature": 0.11,
           "timestamp": "2021-08-10T00:01:29",
           "value": 0.11,
           "variable": "temperature"
          },
          {
           "season": 121,
           "temperature": 0.01,
           "timestamp": "2021-08-11T00:00:05",
           "value": 0.01,
           "variable": "temperature"
          },
          {
           "season": 145,
           "temperature": 0.28,
           "timestamp": "2021-08-12T00:01:00",
           "value": 0.28,
           "variable": "temperature"
          },
          {
           "season": 169,
           "temperature": 0.68,
           "timestamp": "2021-08-13T00:00:10",
           "value": 0.68,
           "variable": "temperature"
          },
          {
           "season": 193,
           "temperature": 0.55,
           "timestamp": "2021-08-14T00:00:29",
           "value": 0.55,
           "variable": "temperature"
          },
          {
           "season": 217,
           "temperature": 0.63,
           "timestamp": "2021-08-15T00:00:28",
           "value": 0.63,
           "variable": "temperature"
          },
          {
           "season": 241,
           "temperature": 0.9,
           "timestamp": "2021-08-16T00:00:17",
           "value": 0.9,
           "variable": "temperature"
          },
          {
           "season": 265,
           "temperature": 0.56,
           "timestamp": "2021-08-17T00:00:04",
           "value": 0.56,
           "variable": "temperature"
          },
          {
           "season": 289,
           "temperature": 0.52,
           "timestamp": "2021-08-18T00:00:31",
           "value": 0.52,
           "variable": "temperature"
          },
          {
           "season": 313,
           "temperature": 1.15,
           "timestamp": "2021-08-19T00:00:40",
           "value": 1.15,
           "variable": "temperature"
          },
          {
           "season": 337,
           "temperature": 1.11,
           "timestamp": "2021-08-20T00:01:04",
           "value": 1.11,
           "variable": "temperature"
          },
          {
           "season": 361,
           "temperature": 0.75,
           "timestamp": "2021-08-21T00:00:44",
           "value": 0.75,
           "variable": "temperature"
          },
          {
           "season": 385,
           "temperature": 0.35,
           "timestamp": "2021-08-22T00:00:09",
           "value": 0.35,
           "variable": "temperature"
          },
          {
           "season": 409,
           "temperature": 0.11,
           "timestamp": "2021-08-23T00:00:29",
           "value": 0.11,
           "variable": "temperature"
          },
          {
           "season": 433,
           "temperature": 0.48,
           "timestamp": "2021-08-24T00:00:01",
           "value": 0.48,
           "variable": "temperature"
          },
          {
           "season": 457,
           "temperature": 0.57,
           "timestamp": "2021-08-25T00:00:23",
           "value": 0.57,
           "variable": "temperature"
          },
          {
           "season": 481,
           "temperature": 0.21,
           "timestamp": "2021-08-26T00:00:49",
           "value": 0.21,
           "variable": "temperature"
          },
          {
           "season": 505,
           "temperature": 0.01,
           "timestamp": "2021-08-27T00:02:11",
           "value": 0.01,
           "variable": "temperature"
          },
          {
           "season": 529,
           "temperature": 0.03,
           "timestamp": "2021-08-28T00:05:42",
           "value": 0.03,
           "variable": "temperature"
          },
          {
           "season": 553,
           "temperature": 0.01,
           "timestamp": "2021-08-29T00:00:21",
           "value": 0.01,
           "variable": "temperature"
          },
          {
           "season": 577,
           "temperature": 0.01,
           "timestamp": "2021-08-30T00:00:41",
           "value": 0.01,
           "variable": "temperature"
          },
          {
           "season": 601,
           "temperature": 0.01,
           "timestamp": "2021-08-31T00:00:55",
           "value": 0.01,
           "variable": "temperature"
          },
          {
           "season": 625,
           "temperature": 0.12,
           "timestamp": "2021-09-01T00:00:46",
           "value": 0.12,
           "variable": "temperature"
          },
          {
           "season": 649,
           "temperature": 0.01,
           "timestamp": "2021-09-02T00:02:18",
           "value": 0.01,
           "variable": "temperature"
          },
          {
           "season": 673,
           "temperature": 0.43,
           "timestamp": "2021-09-03T00:00:21",
           "value": 0.43,
           "variable": "temperature"
          },
          {
           "season": 697,
           "temperature": 0.57,
           "timestamp": "2021-09-04T00:02:33",
           "value": 0.57,
           "variable": "temperature"
          },
          {
           "season": 721,
           "temperature": 0.42,
           "timestamp": "2021-09-05T00:02:38",
           "value": 0.42,
           "variable": "temperature"
          },
          {
           "season": 745,
           "temperature": 0.37,
           "timestamp": "2021-09-06T00:00:31",
           "value": 0.37,
           "variable": "temperature"
          },
          {
           "season": 769,
           "temperature": 0.08,
           "timestamp": "2021-09-07T00:00:25",
           "value": 0.08,
           "variable": "temperature"
          },
          {
           "season": 793,
           "temperature": 0.01,
           "timestamp": "2021-09-08T00:00:43",
           "value": 0.01,
           "variable": "temperature"
          },
          {
           "season": 817,
           "temperature": 0.07,
           "timestamp": "2021-09-09T00:00:36",
           "value": 0.07,
           "variable": "temperature"
          },
          {
           "season": 841,
           "temperature": 0.21,
           "timestamp": "2021-09-10T00:00:47",
           "value": 0.21,
           "variable": "temperature"
          },
          {
           "season": 865,
           "temperature": 0.03,
           "timestamp": "2021-09-11T00:00:25",
           "value": 0.03,
           "variable": "temperature"
          },
          {
           "season": 889,
           "temperature": 0.12,
           "timestamp": "2021-09-12T00:00:06",
           "value": 0.12,
           "variable": "temperature"
          },
          {
           "season": 913,
           "temperature": 0.18,
           "timestamp": "2021-09-13T00:00:34",
           "value": 0.18,
           "variable": "temperature"
          },
          {
           "season": 937,
           "temperature": 0.01,
           "timestamp": "2021-09-14T00:01:09",
           "value": 0.01,
           "variable": "temperature"
          },
          {
           "season": 961,
           "temperature": 0.01,
           "timestamp": "2021-09-15T00:00:38",
           "value": 0.01,
           "variable": "temperature"
          },
          {
           "season": 985,
           "temperature": 0.01,
           "timestamp": "2021-09-16T00:00:42",
           "value": 0.01,
           "variable": "temperature"
          },
          {
           "season": 1009,
           "temperature": 0.01,
           "timestamp": "2021-09-17T00:00:26",
           "value": 0.01,
           "variable": "temperature"
          },
          {
           "season": 1033,
           "temperature": 0.01,
           "timestamp": "2021-09-18T00:01:18",
           "value": 0.01,
           "variable": "temperature"
          },
          {
           "season": 1057,
           "temperature": 0.01,
           "timestamp": "2021-09-19T00:00:06",
           "value": 0.01,
           "variable": "temperature"
          },
          {
           "season": 1081,
           "temperature": 0.19,
           "timestamp": "2021-09-20T00:01:40",
           "value": 0.19,
           "variable": "temperature"
          },
          {
           "season": 1105,
           "temperature": 0.61,
           "timestamp": "2021-09-21T00:01:43",
           "value": 0.61,
           "variable": "temperature"
          },
          {
           "season": 1129,
           "temperature": 1.06,
           "timestamp": "2021-09-22T00:00:16",
           "value": 1.06,
           "variable": "temperature"
          },
          {
           "season": 1153,
           "temperature": 1.58,
           "timestamp": "2021-09-23T00:02:36",
           "value": 1.58,
           "variable": "temperature"
          },
          {
           "season": 1177,
           "temperature": 2.16,
           "timestamp": "2021-09-24T00:00:19",
           "value": 2.16,
           "variable": "temperature"
          },
          {
           "season": 1201,
           "temperature": 2.78,
           "timestamp": "2021-09-25T00:00:21",
           "value": 2.78,
           "variable": "temperature"
          },
          {
           "season": 1225,
           "temperature": 3.28,
           "timestamp": "2021-09-26T00:00:25",
           "value": 3.28,
           "variable": "temperature"
          },
          {
           "season": 1249,
           "temperature": 3.78,
           "timestamp": "2021-09-27T00:00:01",
           "value": 3.78,
           "variable": "temperature"
          },
          {
           "season": 1273,
           "temperature": 4.28,
           "timestamp": "2021-09-28T00:00:06",
           "value": 4.28,
           "variable": "temperature"
          },
          {
           "season": 1297,
           "temperature": 4.8,
           "timestamp": "2021-09-29T00:00:20",
           "value": 4.8,
           "variable": "temperature"
          },
          {
           "season": 1321,
           "temperature": 5.32,
           "timestamp": "2021-09-30T00:01:52",
           "value": 5.32,
           "variable": "temperature"
          },
          {
           "season": 1345,
           "temperature": 5.74,
           "timestamp": "2021-10-01T00:01:44",
           "value": 5.74,
           "variable": "temperature"
          },
          {
           "season": 1369,
           "temperature": 5.9,
           "timestamp": "2021-10-02T00:00:44",
           "value": 5.9,
           "variable": "temperature"
          },
          {
           "season": 1393,
           "temperature": 6.42,
           "timestamp": "2021-10-03T00:00:05",
           "value": 6.42,
           "variable": "temperature"
          },
          {
           "season": 1417,
           "temperature": 6.88,
           "timestamp": "2021-10-04T00:00:32",
           "value": 6.88,
           "variable": "temperature"
          },
          {
           "season": 1441,
           "temperature": 7.42,
           "timestamp": "2021-10-05T00:03:55",
           "value": 7.42,
           "variable": "temperature"
          },
          {
           "season": 1465,
           "temperature": 7.9,
           "timestamp": "2021-10-06T00:01:34",
           "value": 7.9,
           "variable": "temperature"
          },
          {
           "season": 1489,
           "temperature": 8.5,
           "timestamp": "2021-10-07T00:02:24",
           "value": 8.5,
           "variable": "temperature"
          },
          {
           "season": 1513,
           "temperature": 8.84,
           "timestamp": "2021-10-08T00:01:18",
           "value": 8.84,
           "variable": "temperature"
          },
          {
           "season": 1537,
           "temperature": 9.34,
           "timestamp": "2021-10-09T00:02:32",
           "value": 9.34,
           "variable": "temperature"
          },
          {
           "season": 1561,
           "temperature": 9.94,
           "timestamp": "2021-10-10T00:00:39",
           "value": 9.94,
           "variable": "temperature"
          },
          {
           "season": 1585,
           "temperature": 10.52,
           "timestamp": "2021-10-11T00:00:43",
           "value": 10.52,
           "variable": "temperature"
          },
          {
           "season": 1609,
           "temperature": 11.06,
           "timestamp": "2021-10-12T00:01:23",
           "value": 11.06,
           "variable": "temperature"
          },
          {
           "season": 1633,
           "temperature": 11.62,
           "timestamp": "2021-10-13T00:00:49",
           "value": 11.62,
           "variable": "temperature"
          },
          {
           "season": 1657,
           "temperature": 12.12,
           "timestamp": "2021-10-14T00:01:25",
           "value": 12.12,
           "variable": "temperature"
          },
          {
           "season": 1681,
           "temperature": 12.72,
           "timestamp": "2021-10-15T00:02:14",
           "value": 12.72,
           "variable": "temperature"
          },
          {
           "season": 1705,
           "temperature": 13.26,
           "timestamp": "2021-10-16T00:02:08",
           "value": 13.26,
           "variable": "temperature"
          },
          {
           "season": 1729,
           "temperature": 13.62,
           "timestamp": "2021-10-17T00:00:39",
           "value": 13.62,
           "variable": "temperature"
          },
          {
           "season": 1753,
           "temperature": 13.93,
           "timestamp": "2021-10-18T00:00:48",
           "value": 13.93,
           "variable": "temperature"
          },
          {
           "season": 1777,
           "temperature": 14.21,
           "timestamp": "2021-10-19T00:01:14",
           "value": 14.21,
           "variable": "temperature"
          },
          {
           "season": 1801,
           "temperature": 14.55,
           "timestamp": "2021-10-20T00:00:31",
           "value": 14.55,
           "variable": "temperature"
          },
          {
           "season": 1825,
           "temperature": 14.81,
           "timestamp": "2021-10-21T00:02:30",
           "value": 14.81,
           "variable": "temperature"
          },
          {
           "season": 1849,
           "temperature": 15.09,
           "timestamp": "2021-10-22T00:00:33",
           "value": 15.09,
           "variable": "temperature"
          },
          {
           "season": 1873,
           "temperature": 15.55,
           "timestamp": "2021-10-23T00:00:12",
           "value": 15.55,
           "variable": "temperature"
          },
          {
           "season": 1897,
           "temperature": 15.77,
           "timestamp": "2021-10-24T00:00:53",
           "value": 15.77,
           "variable": "temperature"
          },
          {
           "season": 1921,
           "temperature": 16.17,
           "timestamp": "2021-10-25T00:00:35",
           "value": 16.17,
           "variable": "temperature"
          },
          {
           "season": 1945,
           "temperature": 16.53,
           "timestamp": "2021-10-26T00:00:39",
           "value": 16.53,
           "variable": "temperature"
          },
          {
           "season": 1969,
           "temperature": 16.93,
           "timestamp": "2021-10-27T00:01:02",
           "value": 16.93,
           "variable": "temperature"
          },
          {
           "season": 1993,
           "temperature": 17.25,
           "timestamp": "2021-10-28T00:02:23",
           "value": 17.25,
           "variable": "temperature"
          },
          {
           "season": 2017,
           "temperature": 17.43,
           "timestamp": "2021-10-29T00:01:54",
           "value": 17.43,
           "variable": "temperature"
          },
          {
           "season": 2041,
           "temperature": 17.77,
           "timestamp": "2021-10-30T00:02:04",
           "value": 17.77,
           "variable": "temperature"
          },
          {
           "season": 2065,
           "temperature": 17.99,
           "timestamp": "2021-10-31T00:02:28",
           "value": 17.99,
           "variable": "temperature"
          },
          {
           "season": 2089,
           "temperature": 18.25,
           "timestamp": "2021-11-01T00:01:36",
           "value": 18.25,
           "variable": "temperature"
          },
          {
           "season": 2113,
           "temperature": 18.35,
           "timestamp": "2021-11-02T00:01:39",
           "value": 18.35,
           "variable": "temperature"
          },
          {
           "season": 2137,
           "temperature": 18.57,
           "timestamp": "2021-11-03T00:01:22",
           "value": 18.57,
           "variable": "temperature"
          },
          {
           "season": 2161,
           "temperature": 19.01,
           "timestamp": "2021-11-04T00:01:55",
           "value": 19.01,
           "variable": "temperature"
          },
          {
           "season": 2185,
           "temperature": 19.37,
           "timestamp": "2021-11-05T00:02:28",
           "value": 19.37,
           "variable": "temperature"
          },
          {
           "season": 2209,
           "temperature": 19.81,
           "timestamp": "2021-11-06T00:00:17",
           "value": 19.81,
           "variable": "temperature"
          },
          {
           "season": 2233,
           "temperature": 20.17,
           "timestamp": "2021-11-07T00:00:17",
           "value": 20.17,
           "variable": "temperature"
          },
          {
           "season": 2257,
           "temperature": 20.75,
           "timestamp": "2021-11-08T00:01:22",
           "value": 20.75,
           "variable": "temperature"
          },
          {
           "season": 2281,
           "temperature": 21.05,
           "timestamp": "2021-11-09T00:02:23",
           "value": 21.05,
           "variable": "temperature"
          },
          {
           "season": 2305,
           "temperature": 21.43,
           "timestamp": "2021-11-10T00:00:20",
           "value": 21.43,
           "variable": "temperature"
          },
          {
           "season": 2329,
           "temperature": 21.73,
           "timestamp": "2021-11-11T00:02:14",
           "value": 21.73,
           "variable": "temperature"
          },
          {
           "season": 2353,
           "temperature": 22.03,
           "timestamp": "2021-11-12T00:01:57",
           "value": 22.03,
           "variable": "temperature"
          },
          {
           "season": 2377,
           "temperature": 22.11,
           "timestamp": "2021-11-13T00:00:17",
           "value": 22.11,
           "variable": "temperature"
          },
          {
           "season": 2401,
           "temperature": 22.59,
           "timestamp": "2021-11-14T00:00:31",
           "value": 22.59,
           "variable": "temperature"
          },
          {
           "season": 2425,
           "temperature": 22.77,
           "timestamp": "2021-11-15T00:01:44",
           "value": 22.77,
           "variable": "temperature"
          },
          {
           "season": 2449,
           "temperature": 22.77,
           "timestamp": "2021-11-16T00:00:56",
           "value": 22.77,
           "variable": "temperature"
          },
          {
           "season": 2473,
           "temperature": 22.71,
           "timestamp": "2021-11-17T00:00:50",
           "value": 22.71,
           "variable": "temperature"
          },
          {
           "season": 2497,
           "temperature": 22.65,
           "timestamp": "2021-11-18T00:00:38",
           "value": 22.65,
           "variable": "temperature"
          },
          {
           "season": 2521,
           "temperature": 22.87,
           "timestamp": "2021-11-19T00:00:49",
           "value": 22.87,
           "variable": "temperature"
          },
          {
           "season": 2545,
           "temperature": 22.83,
           "timestamp": "2021-11-20T00:01:08",
           "value": 22.83,
           "variable": "temperature"
          },
          {
           "season": 2569,
           "temperature": 22.63,
           "timestamp": "2021-11-21T00:00:01",
           "value": 22.63,
           "variable": "temperature"
          },
          {
           "season": 2593,
           "temperature": 22.51,
           "timestamp": "2021-11-22T00:01:39",
           "value": 22.51,
           "variable": "temperature"
          },
          {
           "season": 2617,
           "temperature": 22.39,
           "timestamp": "2021-11-23T00:01:23",
           "value": 22.39,
           "variable": "temperature"
          },
          {
           "season": 2629,
           "temperature": 22.35,
           "timestamp": "2021-11-24T00:00:42",
           "value": 22.35,
           "variable": "temperature"
          },
          {
           "season": 2653,
           "temperature": 22.11,
           "timestamp": "2021-11-25T00:00:29",
           "value": 22.11,
           "variable": "temperature"
          },
          {
           "season": 2677,
           "temperature": 21.89,
           "timestamp": "2021-11-26T00:00:31",
           "value": 21.89,
           "variable": "temperature"
          },
          {
           "season": 2701,
           "temperature": 21.55,
           "timestamp": "2021-11-27T00:00:49",
           "value": 21.55,
           "variable": "temperature"
          },
          {
           "season": 2725,
           "temperature": 21.23,
           "timestamp": "2021-11-28T00:00:38",
           "value": 21.23,
           "variable": "temperature"
          },
          {
           "season": 2749,
           "temperature": 20.95,
           "timestamp": "2021-11-29T00:01:08",
           "value": 20.95,
           "variable": "temperature"
          },
          {
           "season": 2773,
           "temperature": 20.65,
           "timestamp": "2021-11-30T00:01:06",
           "value": 20.65,
           "variable": "temperature"
          },
          {
           "season": 2797,
           "temperature": 20.39,
           "timestamp": "2021-12-01T00:02:37",
           "value": 20.39,
           "variable": "temperature"
          },
          {
           "season": 2821,
           "temperature": 20.73,
           "timestamp": "2021-12-02T00:01:18",
           "value": 20.73,
           "variable": "temperature"
          },
          {
           "season": 2845,
           "temperature": 21.01,
           "timestamp": "2021-12-03T00:01:08",
           "value": 21.01,
           "variable": "temperature"
          },
          {
           "season": 2869,
           "temperature": 21.29,
           "timestamp": "2021-12-04T00:00:14",
           "value": 21.29,
           "variable": "temperature"
          },
          {
           "season": 2893,
           "temperature": 21.77,
           "timestamp": "2021-12-05T00:00:54",
           "value": 21.77,
           "variable": "temperature"
          },
          {
           "season": 2917,
           "temperature": 22.31,
           "timestamp": "2021-12-06T00:00:12",
           "value": 22.31,
           "variable": "temperature"
          },
          {
           "season": 2941,
           "temperature": 22.87,
           "timestamp": "2021-12-07T00:00:11",
           "value": 22.87,
           "variable": "temperature"
          },
          {
           "season": 2965,
           "temperature": 23.43,
           "timestamp": "2021-12-08T00:00:12",
           "value": 23.43,
           "variable": "temperature"
          },
          {
           "season": 2989,
           "temperature": 23.97,
           "timestamp": "2021-12-09T00:00:34",
           "value": 23.97,
           "variable": "temperature"
          },
          {
           "season": 3013,
           "temperature": 24.45,
           "timestamp": "2021-12-10T00:00:24",
           "value": 24.45,
           "variable": "temperature"
          },
          {
           "season": 3037,
           "temperature": 24.99,
           "timestamp": "2021-12-11T00:00:51",
           "value": 24.99,
           "variable": "temperature"
          },
          {
           "season": 3061,
           "temperature": 25.57,
           "timestamp": "2021-12-12T00:01:06",
           "value": 25.57,
           "variable": "temperature"
          },
          {
           "season": 3085,
           "temperature": 26.15,
           "timestamp": "2021-12-13T00:00:12",
           "value": 26.15,
           "variable": "temperature"
          },
          {
           "season": 3109,
           "temperature": 26.71,
           "timestamp": "2021-12-14T00:01:35",
           "value": 26.71,
           "variable": "temperature"
          },
          {
           "season": 3133,
           "temperature": 27.29,
           "timestamp": "2021-12-15T00:00:04",
           "value": 27.29,
           "variable": "temperature"
          },
          {
           "season": 3157,
           "temperature": 27.85,
           "timestamp": "2021-12-16T00:00:57",
           "value": 27.85,
           "variable": "temperature"
          },
          {
           "season": 3181,
           "temperature": 28.45,
           "timestamp": "2021-12-17T00:00:10",
           "value": 28.45,
           "variable": "temperature"
          },
          {
           "season": 3205,
           "temperature": 29.07,
           "timestamp": "2021-12-18T00:01:09",
           "value": 29.07,
           "variable": "temperature"
          },
          {
           "season": 3229,
           "temperature": 29.69,
           "timestamp": "2021-12-19T00:00:42",
           "value": 29.69,
           "variable": "temperature"
          },
          {
           "season": 3253,
           "temperature": 30.23,
           "timestamp": "2021-12-20T00:01:07",
           "value": 30.23,
           "variable": "temperature"
          },
          {
           "season": 3277,
           "temperature": 30.83,
           "timestamp": "2021-12-21T00:00:51",
           "value": 30.83,
           "variable": "temperature"
          },
          {
           "season": 3301,
           "temperature": 31.31,
           "timestamp": "2021-12-22T00:00:33",
           "value": 31.31,
           "variable": "temperature"
          },
          {
           "season": 3325,
           "temperature": 31.55,
           "timestamp": "2021-12-23T00:00:46",
           "value": 31.55,
           "variable": "temperature"
          },
          {
           "season": 3349,
           "temperature": 31.79,
           "timestamp": "2021-12-24T00:00:14",
           "value": 31.79,
           "variable": "temperature"
          },
          {
           "season": 3373,
           "temperature": 31.95,
           "timestamp": "2021-12-25T00:00:15",
           "value": 31.95,
           "variable": "temperature"
          },
          {
           "season": 3397,
           "temperature": 32.33,
           "timestamp": "2021-12-26T00:00:01",
           "value": 32.33,
           "variable": "temperature"
          },
          {
           "season": 3421,
           "temperature": 32.75,
           "timestamp": "2021-12-27T00:00:08",
           "value": 32.75,
           "variable": "temperature"
          },
          {
           "season": 3445,
           "temperature": 33.27,
           "timestamp": "2021-12-28T00:01:16",
           "value": 33.27,
           "variable": "temperature"
          },
          {
           "season": 3469,
           "temperature": 33.87,
           "timestamp": "2021-12-29T00:00:14",
           "value": 33.87,
           "variable": "temperature"
          },
          {
           "season": 3493,
           "temperature": 34.37,
           "timestamp": "2021-12-30T00:01:18",
           "value": 34.37,
           "variable": "temperature"
          },
          {
           "season": 3517,
           "temperature": 34.81,
           "timestamp": "2021-12-31T00:01:05",
           "value": 34.81,
           "variable": "temperature"
          },
          {
           "season": 3541,
           "temperature": 35.33,
           "timestamp": "2022-01-01T00:00:03",
           "value": 35.33,
           "variable": "temperature"
          },
          {
           "season": 3565,
           "temperature": 35.87,
           "timestamp": "2022-01-02T00:01:07",
           "value": 35.87,
           "variable": "temperature"
          },
          {
           "season": 3589,
           "temperature": 36.43,
           "timestamp": "2022-01-03T00:00:08",
           "value": 36.43,
           "variable": "temperature"
          },
          {
           "season": 3613,
           "temperature": 37.01,
           "timestamp": "2022-01-04T00:01:40",
           "value": 37.01,
           "variable": "temperature"
          },
          {
           "season": 3637,
           "temperature": 37.57,
           "timestamp": "2022-01-05T00:02:09",
           "value": 37.57,
           "variable": "temperature"
          },
          {
           "season": 3661,
           "temperature": 38.11,
           "timestamp": "2022-01-06T00:00:34",
           "value": 38.11,
           "variable": "temperature"
          },
          {
           "season": 3685,
           "temperature": 38.67,
           "timestamp": "2022-01-07T00:00:38",
           "value": 38.67,
           "variable": "temperature"
          },
          {
           "season": 3709,
           "temperature": 39.25,
           "timestamp": "2022-01-08T00:00:16",
           "value": 39.25,
           "variable": "temperature"
          },
          {
           "season": 3733,
           "temperature": 39.93,
           "timestamp": "2022-01-09T00:00:49",
           "value": 39.93,
           "variable": "temperature"
          },
          {
           "season": 3757,
           "temperature": 40.51,
           "timestamp": "2022-01-10T00:01:00",
           "value": 40.51,
           "variable": "temperature"
          },
          {
           "season": 3781,
           "temperature": 41.13,
           "timestamp": "2022-01-11T00:01:20",
           "value": 41.13,
           "variable": "temperature"
          },
          {
           "season": 3805,
           "temperature": 41.75,
           "timestamp": "2022-01-12T00:02:53",
           "value": 41.75,
           "variable": "temperature"
          },
          {
           "season": 3829,
           "temperature": 42.35,
           "timestamp": "2022-01-13T00:02:25",
           "value": 42.35,
           "variable": "temperature"
          },
          {
           "season": 3853,
           "temperature": 43.01,
           "timestamp": "2022-01-14T00:04:29",
           "value": 43.01,
           "variable": "temperature"
          },
          {
           "season": 3877,
           "temperature": 43.59,
           "timestamp": "2022-01-15T00:01:05",
           "value": 43.59,
           "variable": "temperature"
          },
          {
           "season": 3901,
           "temperature": 44.19,
           "timestamp": "2022-01-16T00:00:19",
           "value": 44.19,
           "variable": "temperature"
          },
          {
           "season": 3925,
           "temperature": 44.83,
           "timestamp": "2022-01-17T00:01:09",
           "value": 44.83,
           "variable": "temperature"
          },
          {
           "season": 3949,
           "temperature": 45.53,
           "timestamp": "2022-01-18T00:00:24",
           "value": 45.53,
           "variable": "temperature"
          },
          {
           "season": 3973,
           "temperature": 46.21,
           "timestamp": "2022-01-19T00:01:17",
           "value": 46.21,
           "variable": "temperature"
          },
          {
           "season": 3997,
           "temperature": 46.77,
           "timestamp": "2022-01-20T00:00:37",
           "value": 46.77,
           "variable": "temperature"
          },
          {
           "season": 4021,
           "temperature": 47.47,
           "timestamp": "2022-01-21T00:00:23",
           "value": 47.47,
           "variable": "temperature"
          },
          {
           "season": 4045,
           "temperature": 48.11,
           "timestamp": "2022-01-22T00:02:29",
           "value": 48.11,
           "variable": "temperature"
          },
          {
           "season": 4069,
           "temperature": 48.77,
           "timestamp": "2022-01-23T00:00:48",
           "value": 48.77,
           "variable": "temperature"
          },
          {
           "season": 4093,
           "temperature": 49.43,
           "timestamp": "2022-01-24T00:02:29",
           "value": 49.43,
           "variable": "temperature"
          },
          {
           "season": 4117,
           "temperature": 50.13,
           "timestamp": "2022-01-25T00:00:10",
           "value": 50.13,
           "variable": "temperature"
          },
          {
           "season": 4141,
           "temperature": 50.81,
           "timestamp": "2022-01-26T00:00:17",
           "value": 50.81,
           "variable": "temperature"
          },
          {
           "season": 4165,
           "temperature": 51.51,
           "timestamp": "2022-01-27T00:00:24",
           "value": 51.51,
           "variable": "temperature"
          },
          {
           "season": 4189,
           "temperature": 52.17,
           "timestamp": "2022-01-28T00:00:55",
           "value": 52.17,
           "variable": "temperature"
          },
          {
           "season": 4213,
           "temperature": 52.77,
           "timestamp": "2022-01-29T00:00:04",
           "value": 52.77,
           "variable": "temperature"
          },
          {
           "season": 4237,
           "temperature": 53.45,
           "timestamp": "2022-01-30T00:00:07",
           "value": 53.45,
           "variable": "temperature"
          },
          {
           "season": 4261,
           "temperature": 53.89,
           "timestamp": "2022-01-31T00:00:00",
           "value": 53.89,
           "variable": "temperature"
          },
          {
           "season": 4285,
           "temperature": 54.25,
           "timestamp": "2022-02-01T00:00:47",
           "value": 54.25,
           "variable": "temperature"
          },
          {
           "season": 4309,
           "temperature": 54.73,
           "timestamp": "2022-02-02T00:02:56",
           "value": 54.73,
           "variable": "temperature"
          },
          {
           "season": 4333,
           "temperature": 55.19,
           "timestamp": "2022-02-03T00:00:03",
           "value": 55.19,
           "variable": "temperature"
          },
          {
           "season": 4357,
           "temperature": 55.45,
           "timestamp": "2022-02-04T00:01:08",
           "value": 55.45,
           "variable": "temperature"
          },
          {
           "season": 4381,
           "temperature": 55.71,
           "timestamp": "2022-02-05T00:00:19",
           "value": 55.71,
           "variable": "temperature"
          },
          {
           "season": 4405,
           "temperature": 56.07,
           "timestamp": "2022-02-06T00:00:11",
           "value": 56.07,
           "variable": "temperature"
          },
          {
           "season": 4429,
           "temperature": 56.27,
           "timestamp": "2022-02-07T00:00:02",
           "value": 56.27,
           "variable": "temperature"
          },
          {
           "season": 4453,
           "temperature": 56.75,
           "timestamp": "2022-02-08T00:00:30",
           "value": 56.75,
           "variable": "temperature"
          },
          {
           "season": 4477,
           "temperature": 57.25,
           "timestamp": "2022-02-09T00:00:10",
           "value": 57.25,
           "variable": "temperature"
          },
          {
           "season": 4501,
           "temperature": 57.71,
           "timestamp": "2022-02-10T00:00:44",
           "value": 57.71,
           "variable": "temperature"
          },
          {
           "season": 4525,
           "temperature": 58.07,
           "timestamp": "2022-02-11T00:00:06",
           "value": 58.07,
           "variable": "temperature"
          },
          {
           "season": 4549,
           "temperature": 58.59,
           "timestamp": "2022-02-12T00:00:06",
           "value": 58.59,
           "variable": "temperature"
          },
          {
           "season": 4573,
           "temperature": 59.19,
           "timestamp": "2022-02-13T00:00:56",
           "value": 59.19,
           "variable": "temperature"
          },
          {
           "season": 4597,
           "temperature": 59.81,
           "timestamp": "2022-02-14T00:00:11",
           "value": 59.81,
           "variable": "temperature"
          },
          {
           "season": 4621,
           "temperature": 60.01,
           "timestamp": "2022-02-15T00:00:35",
           "value": 60.01,
           "variable": "temperature"
          },
          {
           "season": 4645,
           "temperature": 60.31,
           "timestamp": "2022-02-16T00:00:34",
           "value": 60.31,
           "variable": "temperature"
          },
          {
           "season": 4669,
           "temperature": 60.91,
           "timestamp": "2022-02-17T00:00:02",
           "value": 60.91,
           "variable": "temperature"
          },
          {
           "season": 4693,
           "temperature": 61.39,
           "timestamp": "2022-02-18T00:00:14",
           "value": 61.39,
           "variable": "temperature"
          },
          {
           "season": 4717,
           "temperature": 62.01,
           "timestamp": "2022-02-19T00:00:02",
           "value": 62.01,
           "variable": "temperature"
          },
          {
           "season": 4741,
           "temperature": 62.63,
           "timestamp": "2022-02-20T00:00:15",
           "value": 62.63,
           "variable": "temperature"
          },
          {
           "season": 4765,
           "temperature": 63.09,
           "timestamp": "2022-02-21T00:00:06",
           "value": 63.09,
           "variable": "temperature"
          },
          {
           "season": 4789,
           "temperature": 63.75,
           "timestamp": "2022-02-22T00:00:01",
           "value": 63.75,
           "variable": "temperature"
          },
          {
           "season": 4813,
           "temperature": 64.35,
           "timestamp": "2022-02-23T00:00:27",
           "value": 64.35,
           "variable": "temperature"
          },
          {
           "season": 4837,
           "temperature": 65.05,
           "timestamp": "2022-02-24T00:00:01",
           "value": 65.05,
           "variable": "temperature"
          },
          {
           "season": 4861,
           "temperature": 65.69,
           "timestamp": "2022-02-25T00:00:06",
           "value": 65.69,
           "variable": "temperature"
          },
          {
           "season": 4885,
           "temperature": 66.19,
           "timestamp": "2022-02-26T00:00:28",
           "value": 66.19,
           "variable": "temperature"
          },
          {
           "season": 4909,
           "temperature": 66.77,
           "timestamp": "2022-02-27T00:00:02",
           "value": 66.77,
           "variable": "temperature"
          },
          {
           "season": 4933,
           "temperature": 67.25,
           "timestamp": "2022-02-28T00:00:02",
           "value": 67.25,
           "variable": "temperature"
          },
          {
           "season": 4957,
           "temperature": 67.73,
           "timestamp": "2022-03-01T00:00:18",
           "value": 67.73,
           "variable": "temperature"
          },
          {
           "season": 4981,
           "temperature": 68.07,
           "timestamp": "2022-03-02T00:00:00",
           "value": 68.07,
           "variable": "temperature"
          },
          {
           "season": 5005,
           "temperature": 68.55,
           "timestamp": "2022-03-03T00:00:02",
           "value": 68.55,
           "variable": "temperature"
          },
          {
           "season": 5029,
           "temperature": 69.09,
           "timestamp": "2022-03-04T00:00:35",
           "value": 69.09,
           "variable": "temperature"
          },
          {
           "season": 5053,
           "temperature": 69.77,
           "timestamp": "2022-03-05T00:00:30",
           "value": 69.77,
           "variable": "temperature"
          },
          {
           "season": 5077,
           "temperature": 70.39,
           "timestamp": "2022-03-06T00:00:17",
           "value": 70.39,
           "variable": "temperature"
          },
          {
           "season": 5101,
           "temperature": 71.01,
           "timestamp": "2022-03-07T00:00:15",
           "value": 71.01,
           "variable": "temperature"
          },
          {
           "season": 5125,
           "temperature": 71.43,
           "timestamp": "2022-03-08T00:00:01",
           "value": 71.43,
           "variable": "temperature"
          },
          {
           "season": 5149,
           "temperature": 71.51,
           "timestamp": "2022-03-09T00:00:04",
           "value": 71.51,
           "variable": "temperature"
          },
          {
           "season": 5173,
           "temperature": 71.55,
           "timestamp": "2022-03-10T00:00:17",
           "value": 71.55,
           "variable": "temperature"
          },
          {
           "season": 5197,
           "temperature": 71.51,
           "timestamp": "2022-03-11T00:00:09",
           "value": 71.51,
           "variable": "temperature"
          },
          {
           "season": 5221,
           "temperature": 71.33,
           "timestamp": "2022-03-12T00:00:05",
           "value": 71.33,
           "variable": "temperature"
          },
          {
           "season": 5245,
           "temperature": 71.07,
           "timestamp": "2022-03-13T00:00:01",
           "value": 71.07,
           "variable": "temperature"
          },
          {
           "season": 5269,
           "temperature": 70.71,
           "timestamp": "2022-03-14T00:00:04",
           "value": 70.71,
           "variable": "temperature"
          },
          {
           "season": 5293,
           "temperature": 70.42,
           "timestamp": "2022-03-15T00:00:14",
           "value": 70.42,
           "variable": "temperature"
          },
          {
           "season": 5317,
           "temperature": 70.04,
           "timestamp": "2022-03-16T00:00:05",
           "value": 70.04,
           "variable": "temperature"
          },
          {
           "season": 5341,
           "temperature": 69.84,
           "timestamp": "2022-03-17T00:00:07",
           "value": 69.84,
           "variable": "temperature"
          },
          {
           "season": 5365,
           "temperature": 69.53,
           "timestamp": "2022-03-18T00:00:08",
           "value": 69.53,
           "variable": "temperature"
          },
          {
           "season": 5389,
           "temperature": 69.38,
           "timestamp": "2022-03-19T00:00:09",
           "value": 69.38,
           "variable": "temperature"
          },
          {
           "season": 5413,
           "temperature": 69.41,
           "timestamp": "2022-03-20T00:00:11",
           "value": 69.41,
           "variable": "temperature"
          },
          {
           "season": 5437,
           "temperature": 69.33,
           "timestamp": "2022-03-21T00:00:14",
           "value": 69.33,
           "variable": "temperature"
          },
          {
           "season": 5461,
           "temperature": 69.02,
           "timestamp": "2022-03-22T00:00:02",
           "value": 69.02,
           "variable": "temperature"
          },
          {
           "season": 5485,
           "temperature": 68.62,
           "timestamp": "2022-03-23T00:00:07",
           "value": 68.62,
           "variable": "temperature"
          },
          {
           "season": 5509,
           "temperature": 68.23,
           "timestamp": "2022-03-24T00:00:59",
           "value": 68.23,
           "variable": "temperature"
          },
          {
           "season": 5533,
           "temperature": 67.84,
           "timestamp": "2022-03-25T00:00:02",
           "value": 67.84,
           "variable": "temperature"
          },
          {
           "season": 5557,
           "temperature": 67.51,
           "timestamp": "2022-03-26T00:00:19",
           "value": 67.51,
           "variable": "temperature"
          },
          {
           "season": 5581,
           "temperature": 67.15,
           "timestamp": "2022-03-27T00:00:05",
           "value": 67.15,
           "variable": "temperature"
          },
          {
           "season": 5605,
           "temperature": 66.79,
           "timestamp": "2022-03-28T00:01:21",
           "value": 66.79,
           "variable": "temperature"
          },
          {
           "season": 5629,
           "temperature": 66.43,
           "timestamp": "2022-03-29T00:00:19",
           "value": 66.43,
           "variable": "temperature"
          },
          {
           "season": 5653,
           "temperature": 66.05,
           "timestamp": "2022-03-30T00:00:24",
           "value": 66.05,
           "variable": "temperature"
          },
          {
           "season": 5677,
           "temperature": 65.66,
           "timestamp": "2022-03-31T00:00:03",
           "value": 65.66,
           "variable": "temperature"
          },
          {
           "season": 5701,
           "temperature": 65.33,
           "timestamp": "2022-04-01T00:00:21",
           "value": 65.33,
           "variable": "temperature"
          },
          {
           "season": 5725,
           "temperature": 64.97,
           "timestamp": "2022-04-02T00:00:09",
           "value": 64.97,
           "variable": "temperature"
          },
          {
           "season": 5749,
           "temperature": 64.51,
           "timestamp": "2022-04-03T00:00:06",
           "value": 64.51,
           "variable": "temperature"
          },
          {
           "season": 5773,
           "temperature": 64.09,
           "timestamp": "2022-04-04T00:00:00",
           "value": 64.09,
           "variable": "temperature"
          },
          {
           "season": 5797,
           "temperature": 63.7,
           "timestamp": "2022-04-05T00:00:21",
           "value": 63.7,
           "variable": "temperature"
          },
          {
           "season": 5821,
           "temperature": 63.4,
           "timestamp": "2022-04-06T00:00:27",
           "value": 63.4,
           "variable": "temperature"
          },
          {
           "season": 5845,
           "temperature": 63.1,
           "timestamp": "2022-04-07T00:01:08",
           "value": 63.1,
           "variable": "temperature"
          },
          {
           "season": 5869,
           "temperature": 62.53,
           "timestamp": "2022-04-08T00:00:13",
           "value": 62.53,
           "variable": "temperature"
          },
          {
           "season": 5893,
           "temperature": 62.05,
           "timestamp": "2022-04-09T00:00:00",
           "value": 62.05,
           "variable": "temperature"
          },
          {
           "season": 5917,
           "temperature": 61.47,
           "timestamp": "2022-04-10T00:02:19",
           "value": 61.47,
           "variable": "temperature"
          },
          {
           "season": 5941,
           "temperature": 60.9,
           "timestamp": "2022-04-11T00:00:03",
           "value": 60.9,
           "variable": "temperature"
          },
          {
           "season": 5965,
           "temperature": 60.21,
           "timestamp": "2022-04-12T00:00:14",
           "value": 60.21,
           "variable": "temperature"
          },
          {
           "season": 5989,
           "temperature": 59.52,
           "timestamp": "2022-04-13T00:00:14",
           "value": 59.52,
           "variable": "temperature"
          },
          {
           "season": 6013,
           "temperature": 58.8,
           "timestamp": "2022-04-14T00:00:06",
           "value": 58.8,
           "variable": "temperature"
          },
          {
           "season": 6037,
           "temperature": 58.08,
           "timestamp": "2022-04-15T00:00:36",
           "value": 58.08,
           "variable": "temperature"
          },
          {
           "season": 6061,
           "temperature": 57.36,
           "timestamp": "2022-04-16T00:00:56",
           "value": 57.36,
           "variable": "temperature"
          },
          {
           "season": 6074,
           "temperature": 56.97,
           "timestamp": "2022-08-05T03:47:15",
           "value": 56.97,
           "variable": "temperature"
          },
          {
           "season": 6081,
           "temperature": 56.83,
           "timestamp": "2022-08-06T23:00:33",
           "value": 56.83,
           "variable": "temperature"
          },
          {
           "season": 6105,
           "temperature": 56.11,
           "timestamp": "2022-08-07T23:00:32",
           "value": 56.11,
           "variable": "temperature"
          },
          {
           "season": 6129,
           "temperature": 55.94,
           "timestamp": "2022-08-08T23:00:11",
           "value": 55.94,
           "variable": "temperature"
          },
          {
           "season": 6153,
           "temperature": 56.24,
           "timestamp": "2022-08-09T23:00:00",
           "value": 56.24,
           "variable": "temperature"
          },
          {
           "season": 6177,
           "temperature": 55.96,
           "timestamp": "2022-08-10T23:00:22",
           "value": 55.96,
           "variable": "temperature"
          },
          {
           "season": 6201,
           "temperature": 55.67,
           "timestamp": "2022-08-11T23:00:51",
           "value": 55.67,
           "variable": "temperature"
          },
          {
           "season": 6225,
           "temperature": 55.56,
           "timestamp": "2022-08-12T23:00:02",
           "value": 55.56,
           "variable": "temperature"
          },
          {
           "season": 6249,
           "temperature": 55.07,
           "timestamp": "2022-08-13T23:00:00",
           "value": 55.07,
           "variable": "temperature"
          },
          {
           "season": 6273,
           "temperature": 55.14,
           "timestamp": "2022-08-14T23:00:05",
           "value": 55.14,
           "variable": "temperature"
          },
          {
           "season": 6297,
           "temperature": 54.7,
           "timestamp": "2022-08-15T23:00:00",
           "value": 54.7,
           "variable": "temperature"
          },
          {
           "season": 6321,
           "temperature": 53.98,
           "timestamp": "2022-08-16T23:00:20",
           "value": 53.98,
           "variable": "temperature"
          },
          {
           "season": 6345,
           "temperature": 53.26,
           "timestamp": "2022-08-17T23:00:15",
           "value": 53.26,
           "variable": "temperature"
          },
          {
           "season": 6369,
           "temperature": 52.7,
           "timestamp": "2022-08-18T23:00:38",
           "value": 52.7,
           "variable": "temperature"
          },
          {
           "season": 6393,
           "temperature": 51.98,
           "timestamp": "2022-08-19T23:00:06",
           "value": 51.98,
           "variable": "temperature"
          },
          {
           "season": 6417,
           "temperature": 51.38,
           "timestamp": "2022-08-20T23:00:38",
           "value": 51.38,
           "variable": "temperature"
          },
          {
           "season": 6441,
           "temperature": 50.73,
           "timestamp": "2022-08-21T23:00:14",
           "value": 50.73,
           "variable": "temperature"
          },
          {
           "season": 6465,
           "temperature": 50.04,
           "timestamp": "2022-08-22T23:00:22",
           "value": 50.04,
           "variable": "temperature"
          },
          {
           "season": 6489,
           "temperature": 49.36,
           "timestamp": "2022-08-23T23:01:12",
           "value": 49.36,
           "variable": "temperature"
          },
          {
           "season": 6513,
           "temperature": 48.67,
           "timestamp": "2022-08-24T23:00:02",
           "value": 48.67,
           "variable": "temperature"
          },
          {
           "season": 6537,
           "temperature": 48.02,
           "timestamp": "2022-08-25T23:00:43",
           "value": 48.02,
           "variable": "temperature"
          },
          {
           "season": 6561,
           "temperature": 47.3,
           "timestamp": "2022-08-26T23:00:18",
           "value": 47.3,
           "variable": "temperature"
          },
          {
           "season": 6585,
           "temperature": 46.85,
           "timestamp": "2022-08-27T23:00:24",
           "value": 46.85,
           "variable": "temperature"
          },
          {
           "season": 6609,
           "temperature": 46.41,
           "timestamp": "2022-08-28T23:00:05",
           "value": 46.41,
           "variable": "temperature"
          },
          {
           "season": 6633,
           "temperature": 45.73,
           "timestamp": "2022-08-29T23:00:40",
           "value": 45.73,
           "variable": "temperature"
          },
          {
           "season": 6657,
           "temperature": 45.25,
           "timestamp": "2022-08-30T23:00:14",
           "value": 45.25,
           "variable": "temperature"
          },
          {
           "season": 6681,
           "temperature": 44.65,
           "timestamp": "2022-08-31T23:00:02",
           "value": 44.65,
           "variable": "temperature"
          },
          {
           "season": 6705,
           "temperature": 44.11,
           "timestamp": "2022-09-01T23:00:03",
           "value": 44.11,
           "variable": "temperature"
          },
          {
           "season": 6729,
           "temperature": 43.74,
           "timestamp": "2022-09-02T23:00:12",
           "value": 43.74,
           "variable": "temperature"
          },
          {
           "season": 6753,
           "temperature": 43.44,
           "timestamp": "2022-09-03T23:00:07",
           "value": 43.44,
           "variable": "temperature"
          },
          {
           "season": 6777,
           "temperature": 42.79,
           "timestamp": "2022-09-04T23:00:04",
           "value": 42.79,
           "variable": "temperature"
          },
          {
           "season": 6801,
           "temperature": 42.15,
           "timestamp": "2022-09-05T23:00:01",
           "value": 42.15,
           "variable": "temperature"
          },
          {
           "season": 6825,
           "temperature": 41.55,
           "timestamp": "2022-09-06T23:00:27",
           "value": 41.55,
           "variable": "temperature"
          },
          {
           "season": 6849,
           "temperature": 41.15,
           "timestamp": "2022-09-07T23:00:10",
           "value": 41.15,
           "variable": "temperature"
          },
          {
           "season": 6873,
           "temperature": 40.57,
           "timestamp": "2022-09-08T23:00:04",
           "value": 40.57,
           "variable": "temperature"
          },
          {
           "season": 6897,
           "temperature": 40.05,
           "timestamp": "2022-09-09T23:00:00",
           "value": 40.05,
           "variable": "temperature"
          },
          {
           "season": 6921,
           "temperature": 39.41,
           "timestamp": "2022-09-10T23:00:34",
           "value": 39.41,
           "variable": "temperature"
          },
          {
           "season": 6945,
           "temperature": 38.77,
           "timestamp": "2022-09-11T23:00:03",
           "value": 38.77,
           "variable": "temperature"
          },
          {
           "season": 6969,
           "temperature": 38.23,
           "timestamp": "2022-09-12T23:00:06",
           "value": 38.23,
           "variable": "temperature"
          },
          {
           "season": 6993,
           "temperature": 37.62,
           "timestamp": "2022-09-13T23:00:03",
           "value": 37.62,
           "variable": "temperature"
          },
          {
           "season": 7017,
           "temperature": 36.97,
           "timestamp": "2022-09-14T23:00:07",
           "value": 36.97,
           "variable": "temperature"
          },
          {
           "season": 7041,
           "temperature": 36.71,
           "timestamp": "2022-09-15T23:00:11",
           "value": 36.71,
           "variable": "temperature"
          },
          {
           "season": 7065,
           "temperature": 36.74,
           "timestamp": "2022-09-16T23:00:11",
           "value": 36.74,
           "variable": "temperature"
          },
          {
           "season": 7089,
           "temperature": 36.1,
           "timestamp": "2022-09-17T23:00:23",
           "value": 36.1,
           "variable": "temperature"
          },
          {
           "season": 7113,
           "temperature": 35.42,
           "timestamp": "2022-09-18T23:00:11",
           "value": 35.42,
           "variable": "temperature"
          },
          {
           "season": 7137,
           "temperature": 35.44,
           "timestamp": "2022-09-19T23:00:11",
           "value": 35.44,
           "variable": "temperature"
          },
          {
           "season": 7161,
           "temperature": 36.08,
           "timestamp": "2022-09-20T23:00:11",
           "value": 36.08,
           "variable": "temperature"
          },
          {
           "season": 7185,
           "temperature": 36.74,
           "timestamp": "2022-09-21T23:00:11",
           "value": 36.74,
           "variable": "temperature"
          },
          {
           "season": 7209,
           "temperature": 37.42,
           "timestamp": "2022-09-22T23:00:11",
           "value": 37.42,
           "variable": "temperature"
          },
          {
           "season": 7233,
           "temperature": 38.08,
           "timestamp": "2022-09-23T23:00:11",
           "value": 38.08,
           "variable": "temperature"
          },
          {
           "season": 7257,
           "temperature": 38.74,
           "timestamp": "2022-09-24T23:00:11",
           "value": 38.74,
           "variable": "temperature"
          },
          {
           "season": 7281,
           "temperature": 39.46,
           "timestamp": "2022-09-25T23:00:11",
           "value": 39.46,
           "variable": "temperature"
          },
          {
           "season": 7305,
           "temperature": 40.16,
           "timestamp": "2022-09-26T23:00:11",
           "value": 40.16,
           "variable": "temperature"
          },
          {
           "season": 7329,
           "temperature": 40.48,
           "timestamp": "2022-09-27T23:00:11",
           "value": 40.48,
           "variable": "temperature"
          },
          {
           "season": 7353,
           "temperature": 41.04,
           "timestamp": "2022-09-28T23:00:11",
           "value": 41.04,
           "variable": "temperature"
          },
          {
           "season": 7377,
           "temperature": 41.3,
           "timestamp": "2022-09-29T23:00:11",
           "value": 41.3,
           "variable": "temperature"
          },
          {
           "season": 7401,
           "temperature": 41.54,
           "timestamp": "2022-09-30T23:00:11",
           "value": 41.54,
           "variable": "temperature"
          },
          {
           "season": 7425,
           "temperature": 41.8,
           "timestamp": "2022-10-01T23:00:11",
           "value": 41.8,
           "variable": "temperature"
          },
          {
           "season": 7449,
           "temperature": 42.12,
           "timestamp": "2022-10-02T23:00:11",
           "value": 42.12,
           "variable": "temperature"
          },
          {
           "season": 7473,
           "temperature": 42.4,
           "timestamp": "2022-10-03T23:00:11",
           "value": 42.4,
           "variable": "temperature"
          },
          {
           "season": 7497,
           "temperature": 42.68,
           "timestamp": "2022-10-04T23:00:11",
           "value": 42.68,
           "variable": "temperature"
          },
          {
           "season": 7521,
           "temperature": 43.04,
           "timestamp": "2022-10-05T23:00:11",
           "value": 43.04,
           "variable": "temperature"
          },
          {
           "season": 7545,
           "temperature": 43.32,
           "timestamp": "2022-10-06T23:00:11",
           "value": 43.32,
           "variable": "temperature"
          },
          {
           "season": 7569,
           "temperature": 43.61,
           "timestamp": "2022-10-07T23:00:11",
           "value": 43.61,
           "variable": "temperature"
          },
          {
           "season": 7593,
           "temperature": 43.83,
           "timestamp": "2022-10-08T23:00:11",
           "value": 43.83,
           "variable": "temperature"
          },
          {
           "season": 7617,
           "temperature": 44.07,
           "timestamp": "2022-10-09T23:00:11",
           "value": 44.07,
           "variable": "temperature"
          },
          {
           "season": 7641,
           "temperature": 44.37,
           "timestamp": "2022-10-10T23:00:11",
           "value": 44.37,
           "variable": "temperature"
          },
          {
           "season": 7665,
           "temperature": 44.54,
           "timestamp": "2022-10-11T23:00:11",
           "value": 44.54,
           "variable": "temperature"
          },
          {
           "season": 7689,
           "temperature": 43.92,
           "timestamp": "2022-10-12T23:00:11",
           "value": 43.92,
           "variable": "temperature"
          },
          {
           "season": 7713,
           "temperature": 43.91,
           "timestamp": "2022-10-13T23:00:11",
           "value": 43.91,
           "variable": "temperature"
          },
          {
           "season": 7737,
           "temperature": 43.95,
           "timestamp": "2022-10-14T23:00:11",
           "value": 43.95,
           "variable": "temperature"
          },
          {
           "season": 7761,
           "temperature": 44.11,
           "timestamp": "2022-10-15T23:00:11",
           "value": 44.11,
           "variable": "temperature"
          },
          {
           "season": 7785,
           "temperature": 44.41,
           "timestamp": "2022-10-16T23:00:11",
           "value": 44.41,
           "variable": "temperature"
          },
          {
           "season": 7809,
           "temperature": 44.41,
           "timestamp": "2022-10-17T23:00:11",
           "value": 44.41,
           "variable": "temperature"
          },
          {
           "season": 7833,
           "temperature": 44.08,
           "timestamp": "2022-10-18T23:00:11",
           "value": 44.08,
           "variable": "temperature"
          },
          {
           "season": 7857,
           "temperature": 43.64,
           "timestamp": "2022-10-19T23:00:11",
           "value": 43.64,
           "variable": "temperature"
          },
          {
           "season": 7881,
           "temperature": 43.39,
           "timestamp": "2022-10-20T23:00:11",
           "value": 43.39,
           "variable": "temperature"
          },
          {
           "season": 7905,
           "temperature": 43.83,
           "timestamp": "2022-10-21T23:00:11",
           "value": 43.83,
           "variable": "temperature"
          },
          {
           "season": 7929,
           "temperature": 43.37,
           "timestamp": "2022-10-22T23:00:23",
           "value": 43.37,
           "variable": "temperature"
          },
          {
           "season": 7953,
           "temperature": 43.67,
           "timestamp": "2022-10-23T23:00:11",
           "value": 43.67,
           "variable": "temperature"
          },
          {
           "season": 7977,
           "temperature": 43.19,
           "timestamp": "2022-10-24T23:00:11",
           "value": 43.19,
           "variable": "temperature"
          },
          {
           "season": 8001,
           "temperature": 42.47,
           "timestamp": "2022-10-25T23:00:11",
           "value": 42.47,
           "variable": "temperature"
          },
          {
           "season": 8025,
           "temperature": 41.84,
           "timestamp": "2022-10-26T23:00:11",
           "value": 41.84,
           "variable": "temperature"
          },
          {
           "season": 8049,
           "temperature": 41.52,
           "timestamp": "2022-10-27T23:00:11",
           "value": 41.52,
           "variable": "temperature"
          },
          {
           "season": 8073,
           "temperature": 41.01,
           "timestamp": "2022-10-28T23:00:11",
           "value": 41.01,
           "variable": "temperature"
          },
          {
           "season": 8097,
           "temperature": 41.15,
           "timestamp": "2022-10-29T23:00:11",
           "value": 41.15,
           "variable": "temperature"
          },
          {
           "season": 8121,
           "temperature": 40.53,
           "timestamp": "2022-10-30T23:00:11",
           "value": 40.53,
           "variable": "temperature"
          },
          {
           "season": 8145,
           "temperature": 40.58,
           "timestamp": "2022-10-31T23:00:11",
           "value": 40.58,
           "variable": "temperature"
          },
          {
           "season": 8169,
           "temperature": 40.54,
           "timestamp": "2022-11-01T23:00:11",
           "value": 40.54,
           "variable": "temperature"
          },
          {
           "season": 8193,
           "temperature": 40.3,
           "timestamp": "2022-11-02T23:00:11",
           "value": 40.3,
           "variable": "temperature"
          },
          {
           "season": 8217,
           "temperature": 39.92,
           "timestamp": "2022-11-03T23:00:11",
           "value": 39.92,
           "variable": "temperature"
          },
          {
           "season": 8220,
           "temperature": 39.83,
           "timestamp": "2022-11-04T02:00:11",
           "value": 39.83,
           "variable": "temperature"
          }
         ]
        },
        "layer": [
         {
          "encoding": {
           "color": {
            "field": "variable",
            "legend": {
             "title": null
            },
            "scale": {
             "domain": [
              "temperature"
             ],
             "range": [
              "#011959"
             ]
            },
            "type": "nominal"
           },
           "order": {
            "field": "stack_order",
            "sort": "ascending",
            "type": "quantitative"
           },
           "x": {
            "axis": {
             "formatType": "time",
             "labelAngle": 0,
             "labelExpr": "timeFormat(toDate(datum.value), '%b %e, %Y')",
             "labelOverlap": true,
             "labelPadding": 5,
             "labelSeparation": 50,
             "ticks": false,
             "title": "Date"
            },
            "field": "timestamp",
            "type": "ordinal"
           },
           "y": {
            "axis": {
             "format": ".0%",
             "title": "Temperature"
            },
            "field": "value",
            "type": "quantitative"
           }
          },
          "mark": "line",
          "title": "Temperature",
          "transform": [
           {
            "as": "stack_order",
            "calculate": "datum['variable'] === 'temperature' ? 0 : 1"
           },
           {
            "filter": "datum['variable'] == 'temperature'"
           }
          ],
          "width": 700
         },
         {
          "encoding": {
           "x": {
            "axis": {
             "formatType": "time",
             "labelAngle": 0,
             "labelExpr": "timeFormat(toDate(datum.value), '%b %e, %Y')",
             "labelOverlap": true,
             "labelPadding": 5,
             "labelSeparation": 50,
             "ticks": false,
             "title": "Date"
            },
            "field": "timestamp",
            "type": "ordinal"
           }
          },
          "mark": {
           "color": "#474440",
           "opacity": 1,
           "strokeDash": [
            2.5,
            1
           ],
           "type": "rule"
          },
          "title": "Temperature",
          "transform": [
           {
            "as": "stack_order",
            "calculate": "datum['variable'] === 'temperature' ? 0 : 1"
           },
           {
            "groupby": [
             "timestamp"
            ],
            "pivot": "variable",
            "value": "value"
           },
           {
            "filter": "\n            year(datum['timestamp']) === 2022 && \n            month(datum['timestamp']) === 3 && \n            date(datum['timestamp']) === 16 \n        "
           }
          ],
          "width": 700
         },
         {
          "encoding": {
           "opacity": {
            "condition": {
             "selection": "selector001",
             "value": 1
            },
            "value": 0
           },
           "tooltip": [
            {
             "field": "timestamp",
             "timeUnit": "yearmonthdate",
             "title": "date",
             "type": "ordinal"
            },
            {
             "field": "temperature",
             "format": ".0%",
             "type": "quantitative"
            }
           ],
           "x": {
            "axis": {
             "formatType": "time",
             "labelAngle": 0,
             "labelExpr": "timeFormat(toDate(datum.value), '%b %e, %Y')",
             "labelOverlap": true,
             "labelPadding": 5,
             "labelSeparation": 50,
             "ticks": false,
             "title": "Date"
            },
            "field": "timestamp",
            "type": "ordinal"
           }
          },
          "mark": {
           "color": "#878787",
           "type": "rule"
          },
          "selection": {
           "selector001": {
            "clear": "mouseout",
            "empty": "none",
            "fields": [
             "timestamp"
            ],
            "nearest": true,
            "on": "mouseover",
            "type": "single"
           }
          },
          "title": "Temperature",
          "transform": [
           {
            "as": "stack_order",
            "calculate": "datum['variable'] === 'temperature' ? 0 : 1"
           },
           {
            "groupby": [
             "timestamp"
            ],
            "pivot": "variable",
            "value": "value"
           }
          ],
          "width": 700
         }
        ]
       },
       "width_paths": [
        {
         "factor": 1,
         "path": [
          "config",
          "view",
          "continuousWidth"
         ],
         "value": 400
        },
        {
         "factor": 1,
         "path": [
          "layer",
          0,
          "width"
         ],
         "value": 700
        },
        {
         "factor": 1,
         "path": [
          "layer",
          1,
          "width"
         ],
         "value": 700
        },
        {
         "factor": 1,
         "path": [
          "layer",
          2,
          "width"
         ],
         "value": 700
        }
       ]
      },
      "text/plain": [
       "<IPython.core.display.JSON object>"
      ]
     },
     "execution_count": 7,
     "metadata": {
      "application/json": {
       "expanded": false,
       "root": "root"
      }
     },
     "output_type": "execute_result"
    }
   ],
   "source": [
    "# TODO: update css for this chart \n",
    "output_chart(c, css=css)"
   ]
  },
  {
   "cell_type": "code",
   "execution_count": null,
   "id": "2b85c342",
   "metadata": {},
   "outputs": [],
   "source": []
  }
 ],
 "metadata": {
  "kernelspec": {
   "display_name": "beanstalk",
   "language": "python",
   "name": "beanstalk"
  },
  "language_info": {
   "codemirror_mode": {
    "name": "ipython",
    "version": 3
   },
   "file_extension": ".py",
   "mimetype": "text/x-python",
   "name": "python",
   "nbconvert_exporter": "python",
   "pygments_lexer": "ipython3",
   "version": "3.10.5"
  }
 },
 "nbformat": 4,
 "nbformat_minor": 5
}
