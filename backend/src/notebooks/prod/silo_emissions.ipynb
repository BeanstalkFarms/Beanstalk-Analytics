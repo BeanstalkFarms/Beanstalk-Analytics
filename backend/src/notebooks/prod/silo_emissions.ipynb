{
 "cells": [
  {
   "cell_type": "code",
   "execution_count": 12,
   "id": "bb524f98-4f94-476c-b760-7d5dbae7938d",
   "metadata": {},
   "outputs": [],
   "source": [
    "import os \n",
    "import sys \n",
    "from typing import List \n",
    "\n",
    "cur_path = os.path.abspath(\"../..\")\n",
    "if cur_path not in sys.path: \n",
    "    sys.path.append(cur_path)\n",
    "\n",
    "from functools import cache \n",
    "import numpy as np \n",
    "import pandas as pd \n",
    "import altair as alt \n",
    "from palettable.tableau import Tableau_10\n",
    "from IPython.display import clear_output\n",
    "from altair import datum\n",
    "from dotenv import load_dotenv\n",
    "from subgrounds.subgrounds import Subgrounds, Subgraph\n",
    "from subgrounds.pagination import ShallowStrategy\n",
    "\n",
    "# Required when developing in a jupyter-notebook environment \n",
    "load_dotenv('../../../../.env')\n",
    "\n",
    "from utils_notebook.utils import ddf, load_subgraph, remove_prefix\n",
    "from utils_notebook.vega import (\n",
    "    output_chart, \n",
    "    apply_css, \n",
    "    stack_order_expr, \n",
    "    wide_to_longwide, \n",
    "    chart, \n",
    ")\n",
    "from utils_notebook.queries import adjust_precision, QueryManager\n",
    "from utils_notebook.testing import validate_season_series\n",
    "from utils_notebook.css import css_tooltip_timeseries_multi_colored\n",
    "\n",
    "import warnings\n",
    "warnings.filterwarnings('ignore')"
   ]
  },
  {
   "cell_type": "code",
   "execution_count": 13,
   "id": "4dda51ef-cb6a-4692-9bad-6ea39ab9c6fe",
   "metadata": {},
   "outputs": [],
   "source": [
    "sg: Subgrounds\n",
    "bs: Subgraph\n",
    "sg, bs = load_subgraph()"
   ]
  },
  {
   "cell_type": "code",
   "execution_count": 14,
   "id": "2e605896-d5d2-42d6-b814-1a11977c91e4",
   "metadata": {},
   "outputs": [],
   "source": [
    "q = QueryManager(sg, bs) "
   ]
  },
  {
   "cell_type": "code",
   "execution_count": 15,
   "id": "e8d14cc9-8e93-4403-8274-e4cd43732976",
   "metadata": {},
   "outputs": [],
   "source": [
    "df = q.query_silo_daily_snapshots()"
   ]
  },
  {
   "cell_type": "code",
   "execution_count": 16,
   "id": "9edc6361",
   "metadata": {},
   "outputs": [],
   "source": [
    "df_szns = q.query_seasons()"
   ]
  },
  {
   "cell_type": "code",
   "execution_count": 17,
   "id": "a21ac08b",
   "metadata": {},
   "outputs": [
    {
     "data": {
      "text/html": [
       "<div>\n",
       "<style scoped>\n",
       "    .dataframe tbody tr th:only-of-type {\n",
       "        vertical-align: middle;\n",
       "    }\n",
       "\n",
       "    .dataframe tbody tr th {\n",
       "        vertical-align: top;\n",
       "    }\n",
       "\n",
       "    .dataframe thead th {\n",
       "        text-align: right;\n",
       "    }\n",
       "</style>\n",
       "<table border=\"1\" class=\"dataframe\">\n",
       "  <thead>\n",
       "    <tr style=\"text-align: right;\">\n",
       "      <th></th>\n",
       "      <th>dailyBeanMints</th>\n",
       "      <th>timestamp</th>\n",
       "    </tr>\n",
       "  </thead>\n",
       "  <tbody>\n",
       "    <tr>\n",
       "      <th>0</th>\n",
       "      <td>31.650670</td>\n",
       "      <td>2021-08-07 01:07:38</td>\n",
       "    </tr>\n",
       "    <tr>\n",
       "      <th>1</th>\n",
       "      <td>17.760260</td>\n",
       "      <td>2021-08-07 02:09:28</td>\n",
       "    </tr>\n",
       "    <tr>\n",
       "      <th>2</th>\n",
       "      <td>43.709604</td>\n",
       "      <td>2021-08-07 03:07:35</td>\n",
       "    </tr>\n",
       "    <tr>\n",
       "      <th>3</th>\n",
       "      <td>0.342173</td>\n",
       "      <td>2021-08-07 16:16:35</td>\n",
       "    </tr>\n",
       "    <tr>\n",
       "      <th>4</th>\n",
       "      <td>676.195254</td>\n",
       "      <td>2021-08-07 19:12:47</td>\n",
       "    </tr>\n",
       "  </tbody>\n",
       "</table>\n",
       "</div>"
      ],
      "text/plain": [
       "   dailyBeanMints           timestamp\n",
       "0       31.650670 2021-08-07 01:07:38\n",
       "1       17.760260 2021-08-07 02:09:28\n",
       "2       43.709604 2021-08-07 03:07:35\n",
       "3        0.342173 2021-08-07 16:16:35\n",
       "4      676.195254 2021-08-07 19:12:47"
      ]
     },
     "execution_count": 17,
     "metadata": {},
     "output_type": "execute_result"
    }
   ],
   "source": [
    "df = df.merge(df_szns, how='left', on='season')\n",
    "df = df.drop(columns=['season'])\n",
    "df.head()"
   ]
  },
  {
   "cell_type": "code",
   "execution_count": 18,
   "id": "dc72b273-afd6-4769-ba82-411e80841edf",
   "metadata": {},
   "outputs": [
    {
     "data": {
      "text/html": [
       "<div>\n",
       "<style scoped>\n",
       "    .dataframe tbody tr th:only-of-type {\n",
       "        vertical-align: middle;\n",
       "    }\n",
       "\n",
       "    .dataframe tbody tr th {\n",
       "        vertical-align: top;\n",
       "    }\n",
       "\n",
       "    .dataframe thead th {\n",
       "        text-align: right;\n",
       "    }\n",
       "</style>\n",
       "<table border=\"1\" class=\"dataframe\">\n",
       "  <thead>\n",
       "    <tr style=\"text-align: right;\">\n",
       "      <th></th>\n",
       "      <th>timestamp</th>\n",
       "      <th>weekly_silo_emissions</th>\n",
       "      <th>total_silo_emissions</th>\n",
       "    </tr>\n",
       "  </thead>\n",
       "  <tbody>\n",
       "    <tr>\n",
       "      <th>0</th>\n",
       "      <td>2021-08-08</td>\n",
       "      <td>21192.194431</td>\n",
       "      <td>2.119219e+04</td>\n",
       "    </tr>\n",
       "    <tr>\n",
       "      <th>1</th>\n",
       "      <td>2021-08-15</td>\n",
       "      <td>238628.922359</td>\n",
       "      <td>2.598211e+05</td>\n",
       "    </tr>\n",
       "    <tr>\n",
       "      <th>2</th>\n",
       "      <td>2021-08-22</td>\n",
       "      <td>278865.602534</td>\n",
       "      <td>5.386867e+05</td>\n",
       "    </tr>\n",
       "    <tr>\n",
       "      <th>3</th>\n",
       "      <td>2021-08-29</td>\n",
       "      <td>312848.021805</td>\n",
       "      <td>8.515347e+05</td>\n",
       "    </tr>\n",
       "    <tr>\n",
       "      <th>4</th>\n",
       "      <td>2021-09-05</td>\n",
       "      <td>329166.748664</td>\n",
       "      <td>1.180701e+06</td>\n",
       "    </tr>\n",
       "  </tbody>\n",
       "</table>\n",
       "</div>"
      ],
      "text/plain": [
       "   timestamp  weekly_silo_emissions  total_silo_emissions\n",
       "0 2021-08-08           21192.194431          2.119219e+04\n",
       "1 2021-08-15          238628.922359          2.598211e+05\n",
       "2 2021-08-22          278865.602534          5.386867e+05\n",
       "3 2021-08-29          312848.021805          8.515347e+05\n",
       "4 2021-09-05          329166.748664          1.180701e+06"
      ]
     },
     "execution_count": 18,
     "metadata": {},
     "output_type": "execute_result"
    }
   ],
   "source": [
    "df = df.resample(\"W\", on=\"timestamp\").sum().reset_index()\n",
    "df = df.rename(columns=dict(dailyBeanMints='weekly_silo_emissions'))\n",
    "df['total_silo_emissions'] = df.weekly_silo_emissions.cumsum()\n",
    "df.head()"
   ]
  },
  {
   "cell_type": "code",
   "execution_count": 19,
   "id": "ba49b373",
   "metadata": {},
   "outputs": [
    {
     "data": {
      "text/html": [
       "<style></style>"
      ],
      "text/plain": [
       "<IPython.core.display.HTML object>"
      ]
     },
     "metadata": {},
     "output_type": "display_data"
    },
    {
     "data": {
      "text/html": [
       "\n",
       "<div id=\"altair-viz-e923e8768b2c4912a026e65571ba4dde\"></div>\n",
       "<script type=\"text/javascript\">\n",
       "  var VEGA_DEBUG = (typeof VEGA_DEBUG == \"undefined\") ? {} : VEGA_DEBUG;\n",
       "  (function(spec, embedOpt){\n",
       "    let outputDiv = document.currentScript.previousElementSibling;\n",
       "    if (outputDiv.id !== \"altair-viz-e923e8768b2c4912a026e65571ba4dde\") {\n",
       "      outputDiv = document.getElementById(\"altair-viz-e923e8768b2c4912a026e65571ba4dde\");\n",
       "    }\n",
       "    const paths = {\n",
       "      \"vega\": \"https://cdn.jsdelivr.net/npm//vega@5?noext\",\n",
       "      \"vega-lib\": \"https://cdn.jsdelivr.net/npm//vega-lib?noext\",\n",
       "      \"vega-lite\": \"https://cdn.jsdelivr.net/npm//vega-lite@4.17.0?noext\",\n",
       "      \"vega-embed\": \"https://cdn.jsdelivr.net/npm//vega-embed@6?noext\",\n",
       "    };\n",
       "\n",
       "    function maybeLoadScript(lib, version) {\n",
       "      var key = `${lib.replace(\"-\", \"\")}_version`;\n",
       "      return (VEGA_DEBUG[key] == version) ?\n",
       "        Promise.resolve(paths[lib]) :\n",
       "        new Promise(function(resolve, reject) {\n",
       "          var s = document.createElement('script');\n",
       "          document.getElementsByTagName(\"head\")[0].appendChild(s);\n",
       "          s.async = true;\n",
       "          s.onload = () => {\n",
       "            VEGA_DEBUG[key] = version;\n",
       "            return resolve(paths[lib]);\n",
       "          };\n",
       "          s.onerror = () => reject(`Error loading script: ${paths[lib]}`);\n",
       "          s.src = paths[lib];\n",
       "        });\n",
       "    }\n",
       "\n",
       "    function showError(err) {\n",
       "      outputDiv.innerHTML = `<div class=\"error\" style=\"color:red;\">${err}</div>`;\n",
       "      throw err;\n",
       "    }\n",
       "\n",
       "    function displayChart(vegaEmbed) {\n",
       "      vegaEmbed(outputDiv, spec, embedOpt)\n",
       "        .catch(err => showError(`Javascript Error: ${err.message}<br>This usually means there's a typo in your chart specification. See the javascript console for the full traceback.`));\n",
       "    }\n",
       "\n",
       "    if(typeof define === \"function\" && define.amd) {\n",
       "      requirejs.config({paths});\n",
       "      require([\"vega-embed\"], displayChart, err => showError(`Error loading script: ${err.message}`));\n",
       "    } else {\n",
       "      maybeLoadScript(\"vega\", \"5\")\n",
       "        .then(() => maybeLoadScript(\"vega-lite\", \"4.17.0\"))\n",
       "        .then(() => maybeLoadScript(\"vega-embed\", \"6\"))\n",
       "        .catch(showError)\n",
       "        .then(() => displayChart(vegaEmbed));\n",
       "    }\n",
       "  })({\"config\": {\"view\": {\"continuousWidth\": 400, \"continuousHeight\": 300}}, \"layer\": [{\"mark\": \"bar\", \"encoding\": {\"color\": {\"field\": \"variable\", \"legend\": {\"orient\": \"top\", \"title\": null}, \"scale\": {\"domain\": [\"weekly_silo_emissions\", \"total_silo_emissions\"], \"range\": [\"#1F77B4\", \"#FF7F0E\"]}, \"type\": \"nominal\"}, \"order\": {\"field\": \"stack_order\", \"sort\": \"ascending\", \"type\": \"quantitative\"}, \"x\": {\"axis\": {\"formatType\": \"time\", \"labelAngle\": 0, \"labelExpr\": \"timeFormat(toDate(datum.value), '%b %e, %Y')\", \"labelOverlap\": true, \"labelPadding\": 5, \"labelSeparation\": 50, \"ticks\": false, \"title\": \"Date\"}, \"field\": \"timestamp\", \"type\": \"ordinal\"}, \"y\": {\"axis\": {\"format\": \".3~s\", \"title\": \"Beans\"}, \"field\": \"value\", \"type\": \"quantitative\"}}, \"title\": \"\", \"transform\": [{\"calculate\": \"datum['variable'] === 'weekly_silo_emissions' ? 0 :  datum['variable'] === 'total_silo_emissions' ? 1 : 2\", \"as\": \"stack_order\"}, {\"filter\": \"datum['variable'] == 'weekly_silo_emissions'\"}], \"width\": 700}, {\"layer\": [{\"mark\": \"line\", \"encoding\": {\"color\": {\"field\": \"variable\", \"legend\": {\"orient\": \"top\", \"title\": null}, \"scale\": {\"domain\": [\"weekly_silo_emissions\", \"total_silo_emissions\"], \"range\": [\"#1F77B4\", \"#FF7F0E\"]}, \"type\": \"nominal\"}, \"order\": {\"field\": \"stack_order\", \"sort\": \"ascending\", \"type\": \"quantitative\"}, \"x\": {\"axis\": {\"formatType\": \"time\", \"labelAngle\": 0, \"labelExpr\": \"timeFormat(toDate(datum.value), '%b %e, %Y')\", \"labelOverlap\": true, \"labelPadding\": 5, \"labelSeparation\": 50, \"ticks\": false, \"title\": \"Date\"}, \"field\": \"timestamp\", \"type\": \"ordinal\"}, \"y\": {\"axis\": {\"format\": \".3~s\", \"title\": \"Beans\"}, \"field\": \"value\", \"type\": \"quantitative\"}}, \"title\": \"\", \"transform\": [{\"calculate\": \"datum['variable'] === 'weekly_silo_emissions' ? 0 :  datum['variable'] === 'total_silo_emissions' ? 1 : 2\", \"as\": \"stack_order\"}, {\"filter\": \"datum['variable'] == 'total_silo_emissions'\"}], \"width\": 700}, {\"mark\": {\"type\": \"rule\", \"color\": \"#474440\", \"opacity\": 1, \"strokeDash\": [2.5, 1]}, \"encoding\": {\"x\": {\"axis\": {\"formatType\": \"time\", \"labelAngle\": 0, \"labelExpr\": \"timeFormat(toDate(datum.value), '%b %e, %Y')\", \"labelOverlap\": true, \"labelPadding\": 5, \"labelSeparation\": 50, \"ticks\": false, \"title\": \"Date\"}, \"field\": \"timestamp\", \"type\": \"ordinal\"}}, \"title\": \"\", \"transform\": [{\"calculate\": \"datum['variable'] === 'weekly_silo_emissions' ? 0 :  datum['variable'] === 'total_silo_emissions' ? 1 : 2\", \"as\": \"stack_order\"}, {\"pivot\": \"variable\", \"value\": \"value\", \"groupby\": [\"timestamp\"]}, {\"filter\": \"\\n            year(datum['timestamp']) === 2022 && \\n            month(datum['timestamp']) === 3 && \\n            date(datum['timestamp']) === 17 \\n        \"}], \"width\": 700}, {\"mark\": {\"type\": \"rule\", \"color\": \"#878787\"}, \"encoding\": {\"opacity\": {\"condition\": {\"value\": 1, \"selection\": \"selector002\"}, \"value\": 0}, \"tooltip\": [{\"field\": \"timestamp\", \"timeUnit\": \"yearmonthdate\", \"title\": \"date\", \"type\": \"ordinal\"}, {\"field\": \"weekly_silo_emissions\", \"format\": \",d\", \"type\": \"quantitative\"}, {\"field\": \"total_silo_emissions\", \"format\": \",d\", \"type\": \"quantitative\"}], \"x\": {\"axis\": {\"formatType\": \"time\", \"labelAngle\": 0, \"labelExpr\": \"timeFormat(toDate(datum.value), '%b %e, %Y')\", \"labelOverlap\": true, \"labelPadding\": 5, \"labelSeparation\": 50, \"ticks\": false, \"title\": \"Date\"}, \"field\": \"timestamp\", \"type\": \"ordinal\"}}, \"selection\": {\"selector002\": {\"type\": \"single\", \"fields\": [\"timestamp\"], \"nearest\": true, \"on\": \"mouseover\", \"empty\": \"none\", \"clear\": \"mouseout\"}}, \"title\": \"\", \"transform\": [{\"calculate\": \"datum['variable'] === 'weekly_silo_emissions' ? 0 :  datum['variable'] === 'total_silo_emissions' ? 1 : 2\", \"as\": \"stack_order\"}, {\"pivot\": \"variable\", \"value\": \"value\", \"groupby\": [\"timestamp\"]}], \"width\": 700}]}], \"data\": {\"name\": \"data-b25fe83988450d5eedd31ce21030bd43\"}, \"resolve\": {\"axis\": {\"y\": \"independent\"}, \"scale\": {\"y\": \"independent\"}}, \"$schema\": \"https://vega.github.io/schema/vega-lite/v4.17.0.json\", \"datasets\": {\"data-b25fe83988450d5eedd31ce21030bd43\": [{\"timestamp\": \"2021-08-08T00:00:00\", \"variable\": \"total_silo_emissions\", \"value\": 21192.194431, \"total_silo_emissions\": 21192.194431, \"weekly_silo_emissions\": 21192.194431}, {\"timestamp\": \"2021-08-08T00:00:00\", \"variable\": \"weekly_silo_emissions\", \"value\": 21192.194431, \"total_silo_emissions\": 21192.194431, \"weekly_silo_emissions\": 21192.194431}, {\"timestamp\": \"2021-08-15T00:00:00\", \"variable\": \"total_silo_emissions\", \"value\": 259821.11679, \"total_silo_emissions\": 259821.11679, \"weekly_silo_emissions\": 238628.922359}, {\"timestamp\": \"2021-08-15T00:00:00\", \"variable\": \"weekly_silo_emissions\", \"value\": 238628.922359, \"total_silo_emissions\": 259821.11679, \"weekly_silo_emissions\": 238628.922359}, {\"timestamp\": \"2021-08-22T00:00:00\", \"variable\": \"total_silo_emissions\", \"value\": 538686.719324, \"total_silo_emissions\": 538686.719324, \"weekly_silo_emissions\": 278865.602534}, {\"timestamp\": \"2021-08-22T00:00:00\", \"variable\": \"weekly_silo_emissions\", \"value\": 278865.602534, \"total_silo_emissions\": 538686.719324, \"weekly_silo_emissions\": 278865.602534}, {\"timestamp\": \"2021-08-29T00:00:00\", \"variable\": \"total_silo_emissions\", \"value\": 851534.741129, \"total_silo_emissions\": 851534.741129, \"weekly_silo_emissions\": 312848.021805}, {\"timestamp\": \"2021-08-29T00:00:00\", \"variable\": \"weekly_silo_emissions\", \"value\": 312848.021805, \"total_silo_emissions\": 851534.741129, \"weekly_silo_emissions\": 312848.021805}, {\"timestamp\": \"2021-09-05T00:00:00\", \"variable\": \"total_silo_emissions\", \"value\": 1180701.489793, \"total_silo_emissions\": 1180701.489793, \"weekly_silo_emissions\": 329166.748664}, {\"timestamp\": \"2021-09-05T00:00:00\", \"variable\": \"weekly_silo_emissions\", \"value\": 329166.748664, \"total_silo_emissions\": 1180701.489793, \"weekly_silo_emissions\": 329166.748664}, {\"timestamp\": \"2021-09-12T00:00:00\", \"variable\": \"total_silo_emissions\", \"value\": 1478493.439089, \"total_silo_emissions\": 1478493.439089, \"weekly_silo_emissions\": 297791.949296}, {\"timestamp\": \"2021-09-12T00:00:00\", \"variable\": \"weekly_silo_emissions\", \"value\": 297791.949296, \"total_silo_emissions\": 1478493.439089, \"weekly_silo_emissions\": 297791.949296}, {\"timestamp\": \"2021-09-19T00:00:00\", \"variable\": \"total_silo_emissions\", \"value\": 19802366.67865, \"total_silo_emissions\": 19802366.67865, \"weekly_silo_emissions\": 18323873.239561}, {\"timestamp\": \"2021-09-19T00:00:00\", \"variable\": \"weekly_silo_emissions\", \"value\": 18323873.239561, \"total_silo_emissions\": 19802366.67865, \"weekly_silo_emissions\": 18323873.239561}, {\"timestamp\": \"2021-09-26T00:00:00\", \"variable\": \"total_silo_emissions\", \"value\": 20461265.746813, \"total_silo_emissions\": 20461265.746813, \"weekly_silo_emissions\": 658899.068163}, {\"timestamp\": \"2021-09-26T00:00:00\", \"variable\": \"weekly_silo_emissions\", \"value\": 658899.068163, \"total_silo_emissions\": 20461265.746813, \"weekly_silo_emissions\": 658899.068163}, {\"timestamp\": \"2021-10-03T00:00:00\", \"variable\": \"total_silo_emissions\", \"value\": 20650503.797497, \"total_silo_emissions\": 20650503.797497, \"weekly_silo_emissions\": 189238.05068400002}, {\"timestamp\": \"2021-10-03T00:00:00\", \"variable\": \"weekly_silo_emissions\", \"value\": 189238.05068400002, \"total_silo_emissions\": 20650503.797497, \"weekly_silo_emissions\": 189238.05068400002}, {\"timestamp\": \"2021-10-10T00:00:00\", \"variable\": \"total_silo_emissions\", \"value\": 20707576.701363, \"total_silo_emissions\": 20707576.701363, \"weekly_silo_emissions\": 57072.903866}, {\"timestamp\": \"2021-10-10T00:00:00\", \"variable\": \"weekly_silo_emissions\", \"value\": 57072.903866, \"total_silo_emissions\": 20707576.701363, \"weekly_silo_emissions\": 57072.903866}, {\"timestamp\": \"2021-10-17T00:00:00\", \"variable\": \"total_silo_emissions\", \"value\": 20782340.338743, \"total_silo_emissions\": 20782340.338743, \"weekly_silo_emissions\": 74763.63738}, {\"timestamp\": \"2021-10-17T00:00:00\", \"variable\": \"weekly_silo_emissions\", \"value\": 74763.63738, \"total_silo_emissions\": 20782340.338743, \"weekly_silo_emissions\": 74763.63738}, {\"timestamp\": \"2021-10-24T00:00:00\", \"variable\": \"total_silo_emissions\", \"value\": 21471142.484179, \"total_silo_emissions\": 21471142.484179, \"weekly_silo_emissions\": 688802.145436}, {\"timestamp\": \"2021-10-24T00:00:00\", \"variable\": \"weekly_silo_emissions\", \"value\": 688802.145436, \"total_silo_emissions\": 21471142.484179, \"weekly_silo_emissions\": 688802.145436}, {\"timestamp\": \"2021-10-31T00:00:00\", \"variable\": \"total_silo_emissions\", \"value\": 22080487.669285003, \"total_silo_emissions\": 22080487.669285003, \"weekly_silo_emissions\": 609345.185106}, {\"timestamp\": \"2021-10-31T00:00:00\", \"variable\": \"weekly_silo_emissions\", \"value\": 609345.185106, \"total_silo_emissions\": 22080487.669285003, \"weekly_silo_emissions\": 609345.185106}, {\"timestamp\": \"2021-11-07T00:00:00\", \"variable\": \"total_silo_emissions\", \"value\": 22760713.293781005, \"total_silo_emissions\": 22760713.293781005, \"weekly_silo_emissions\": 680225.624496}, {\"timestamp\": \"2021-11-07T00:00:00\", \"variable\": \"weekly_silo_emissions\", \"value\": 680225.624496, \"total_silo_emissions\": 22760713.293781005, \"weekly_silo_emissions\": 680225.624496}, {\"timestamp\": \"2021-11-14T00:00:00\", \"variable\": \"total_silo_emissions\", \"value\": 23216645.779967006, \"total_silo_emissions\": 23216645.779967006, \"weekly_silo_emissions\": 455932.486186}, {\"timestamp\": \"2021-11-14T00:00:00\", \"variable\": \"weekly_silo_emissions\", \"value\": 455932.486186, \"total_silo_emissions\": 23216645.779967006, \"weekly_silo_emissions\": 455932.486186}, {\"timestamp\": \"2021-11-21T00:00:00\", \"variable\": \"total_silo_emissions\", \"value\": 25197238.952311005, \"total_silo_emissions\": 25197238.952311005, \"weekly_silo_emissions\": 1980593.172344}, {\"timestamp\": \"2021-11-21T00:00:00\", \"variable\": \"weekly_silo_emissions\", \"value\": 1980593.172344, \"total_silo_emissions\": 25197238.952311005, \"weekly_silo_emissions\": 1980593.172344}, {\"timestamp\": \"2021-11-28T00:00:00\", \"variable\": \"total_silo_emissions\", \"value\": 34083221.764421, \"total_silo_emissions\": 34083221.764421, \"weekly_silo_emissions\": 8885982.81211}, {\"timestamp\": \"2021-11-28T00:00:00\", \"variable\": \"weekly_silo_emissions\", \"value\": 8885982.81211, \"total_silo_emissions\": 34083221.764421, \"weekly_silo_emissions\": 8885982.81211}, {\"timestamp\": \"2021-12-05T00:00:00\", \"variable\": \"total_silo_emissions\", \"value\": 40986091.906005, \"total_silo_emissions\": 40986091.906005, \"weekly_silo_emissions\": 6902870.141584}, {\"timestamp\": \"2021-12-05T00:00:00\", \"variable\": \"weekly_silo_emissions\", \"value\": 6902870.141584, \"total_silo_emissions\": 40986091.906005, \"weekly_silo_emissions\": 6902870.141584}, {\"timestamp\": \"2021-12-12T00:00:00\", \"variable\": \"total_silo_emissions\", \"value\": 40986091.906005, \"total_silo_emissions\": 40986091.906005, \"weekly_silo_emissions\": 0.0}, {\"timestamp\": \"2021-12-12T00:00:00\", \"variable\": \"weekly_silo_emissions\", \"value\": 0.0, \"total_silo_emissions\": 40986091.906005, \"weekly_silo_emissions\": 0.0}, {\"timestamp\": \"2021-12-19T00:00:00\", \"variable\": \"total_silo_emissions\", \"value\": 40987822.963707, \"total_silo_emissions\": 40987822.963707, \"weekly_silo_emissions\": 1731.057702}, {\"timestamp\": \"2021-12-19T00:00:00\", \"variable\": \"weekly_silo_emissions\", \"value\": 1731.057702, \"total_silo_emissions\": 40987822.963707, \"weekly_silo_emissions\": 1731.057702}, {\"timestamp\": \"2021-12-26T00:00:00\", \"variable\": \"total_silo_emissions\", \"value\": 41122579.360675, \"total_silo_emissions\": 41122579.360675, \"weekly_silo_emissions\": 134756.396968}, {\"timestamp\": \"2021-12-26T00:00:00\", \"variable\": \"weekly_silo_emissions\", \"value\": 134756.396968, \"total_silo_emissions\": 41122579.360675, \"weekly_silo_emissions\": 134756.396968}, {\"timestamp\": \"2022-01-02T00:00:00\", \"variable\": \"total_silo_emissions\", \"value\": 41151291.551716, \"total_silo_emissions\": 41151291.551716, \"weekly_silo_emissions\": 28712.191041}, {\"timestamp\": \"2022-01-02T00:00:00\", \"variable\": \"weekly_silo_emissions\", \"value\": 28712.191041, \"total_silo_emissions\": 41151291.551716, \"weekly_silo_emissions\": 28712.191041}, {\"timestamp\": \"2022-01-09T00:00:00\", \"variable\": \"total_silo_emissions\", \"value\": 41151291.551716, \"total_silo_emissions\": 41151291.551716, \"weekly_silo_emissions\": 0.0}, {\"timestamp\": \"2022-01-09T00:00:00\", \"variable\": \"weekly_silo_emissions\", \"value\": 0.0, \"total_silo_emissions\": 41151291.551716, \"weekly_silo_emissions\": 0.0}, {\"timestamp\": \"2022-01-16T00:00:00\", \"variable\": \"total_silo_emissions\", \"value\": 41151291.551716, \"total_silo_emissions\": 41151291.551716, \"weekly_silo_emissions\": 0.0}, {\"timestamp\": \"2022-01-16T00:00:00\", \"variable\": \"weekly_silo_emissions\", \"value\": 0.0, \"total_silo_emissions\": 41151291.551716, \"weekly_silo_emissions\": 0.0}, {\"timestamp\": \"2022-01-23T00:00:00\", \"variable\": \"total_silo_emissions\", \"value\": 41151291.551716, \"total_silo_emissions\": 41151291.551716, \"weekly_silo_emissions\": 0.0}, {\"timestamp\": \"2022-01-23T00:00:00\", \"variable\": \"weekly_silo_emissions\", \"value\": 0.0, \"total_silo_emissions\": 41151291.551716, \"weekly_silo_emissions\": 0.0}, {\"timestamp\": \"2022-01-30T00:00:00\", \"variable\": \"total_silo_emissions\", \"value\": 41153552.493581, \"total_silo_emissions\": 41153552.493581, \"weekly_silo_emissions\": 2260.941865}, {\"timestamp\": \"2022-01-30T00:00:00\", \"variable\": \"weekly_silo_emissions\", \"value\": 2260.941865, \"total_silo_emissions\": 41153552.493581, \"weekly_silo_emissions\": 2260.941865}, {\"timestamp\": \"2022-02-06T00:00:00\", \"variable\": \"total_silo_emissions\", \"value\": 41301451.897122994, \"total_silo_emissions\": 41301451.897122994, \"weekly_silo_emissions\": 147899.403542}, {\"timestamp\": \"2022-02-06T00:00:00\", \"variable\": \"weekly_silo_emissions\", \"value\": 147899.403542, \"total_silo_emissions\": 41301451.897122994, \"weekly_silo_emissions\": 147899.403542}, {\"timestamp\": \"2022-02-13T00:00:00\", \"variable\": \"total_silo_emissions\", \"value\": 41535351.51651599, \"total_silo_emissions\": 41535351.51651599, \"weekly_silo_emissions\": 233899.619393}, {\"timestamp\": \"2022-02-13T00:00:00\", \"variable\": \"weekly_silo_emissions\", \"value\": 233899.619393, \"total_silo_emissions\": 41535351.51651599, \"weekly_silo_emissions\": 233899.619393}, {\"timestamp\": \"2022-02-20T00:00:00\", \"variable\": \"total_silo_emissions\", \"value\": 41679040.18831299, \"total_silo_emissions\": 41679040.18831299, \"weekly_silo_emissions\": 143688.671797}, {\"timestamp\": \"2022-02-20T00:00:00\", \"variable\": \"weekly_silo_emissions\", \"value\": 143688.671797, \"total_silo_emissions\": 41679040.18831299, \"weekly_silo_emissions\": 143688.671797}, {\"timestamp\": \"2022-02-27T00:00:00\", \"variable\": \"total_silo_emissions\", \"value\": 41747824.34207099, \"total_silo_emissions\": 41747824.34207099, \"weekly_silo_emissions\": 68784.153758}, {\"timestamp\": \"2022-02-27T00:00:00\", \"variable\": \"weekly_silo_emissions\", \"value\": 68784.153758, \"total_silo_emissions\": 41747824.34207099, \"weekly_silo_emissions\": 68784.153758}, {\"timestamp\": \"2022-03-06T00:00:00\", \"variable\": \"total_silo_emissions\", \"value\": 41826129.15725199, \"total_silo_emissions\": 41826129.15725199, \"weekly_silo_emissions\": 78304.815181}, {\"timestamp\": \"2022-03-06T00:00:00\", \"variable\": \"weekly_silo_emissions\", \"value\": 78304.815181, \"total_silo_emissions\": 41826129.15725199, \"weekly_silo_emissions\": 78304.815181}, {\"timestamp\": \"2022-03-13T00:00:00\", \"variable\": \"total_silo_emissions\", \"value\": 42116418.83106099, \"total_silo_emissions\": 42116418.83106099, \"weekly_silo_emissions\": 290289.673809}, {\"timestamp\": \"2022-03-13T00:00:00\", \"variable\": \"weekly_silo_emissions\", \"value\": 290289.673809, \"total_silo_emissions\": 42116418.83106099, \"weekly_silo_emissions\": 290289.673809}, {\"timestamp\": \"2022-03-20T00:00:00\", \"variable\": \"total_silo_emissions\", \"value\": 42834568.70063299, \"total_silo_emissions\": 42834568.70063299, \"weekly_silo_emissions\": 718149.869572}, {\"timestamp\": \"2022-03-20T00:00:00\", \"variable\": \"weekly_silo_emissions\", \"value\": 718149.869572, \"total_silo_emissions\": 42834568.70063299, \"weekly_silo_emissions\": 718149.869572}, {\"timestamp\": \"2022-03-27T00:00:00\", \"variable\": \"total_silo_emissions\", \"value\": 43598274.90456999, \"total_silo_emissions\": 43598274.90456999, \"weekly_silo_emissions\": 763706.203937}, {\"timestamp\": \"2022-03-27T00:00:00\", \"variable\": \"weekly_silo_emissions\", \"value\": 763706.203937, \"total_silo_emissions\": 43598274.90456999, \"weekly_silo_emissions\": 763706.203937}, {\"timestamp\": \"2022-04-03T00:00:00\", \"variable\": \"total_silo_emissions\", \"value\": 45124815.14761599, \"total_silo_emissions\": 45124815.14761599, \"weekly_silo_emissions\": 1526540.243046}, {\"timestamp\": \"2022-04-03T00:00:00\", \"variable\": \"weekly_silo_emissions\", \"value\": 1526540.243046, \"total_silo_emissions\": 45124815.14761599, \"weekly_silo_emissions\": 1526540.243046}, {\"timestamp\": \"2022-04-10T00:00:00\", \"variable\": \"total_silo_emissions\", \"value\": 47302983.76162599, \"total_silo_emissions\": 47302983.76162599, \"weekly_silo_emissions\": 2178168.61401}, {\"timestamp\": \"2022-04-10T00:00:00\", \"variable\": \"weekly_silo_emissions\", \"value\": 2178168.61401, \"total_silo_emissions\": 47302983.76162599, \"weekly_silo_emissions\": 2178168.61401}, {\"timestamp\": \"2022-04-17T00:00:00\", \"variable\": \"total_silo_emissions\", \"value\": 74133254.22224998, \"total_silo_emissions\": 74133254.22224998, \"weekly_silo_emissions\": 26830270.460624002}, {\"timestamp\": \"2022-04-17T00:00:00\", \"variable\": \"weekly_silo_emissions\", \"value\": 26830270.460624002, \"total_silo_emissions\": 74133254.22224998, \"weekly_silo_emissions\": 26830270.460624002}, {\"timestamp\": \"2022-04-24T00:00:00\", \"variable\": \"total_silo_emissions\", \"value\": 74133254.22224998, \"total_silo_emissions\": 74133254.22224998, \"weekly_silo_emissions\": 0.0}, {\"timestamp\": \"2022-04-24T00:00:00\", \"variable\": \"weekly_silo_emissions\", \"value\": 0.0, \"total_silo_emissions\": 74133254.22224998, \"weekly_silo_emissions\": 0.0}, {\"timestamp\": \"2022-05-01T00:00:00\", \"variable\": \"total_silo_emissions\", \"value\": 74133254.22224998, \"total_silo_emissions\": 74133254.22224998, \"weekly_silo_emissions\": 0.0}, {\"timestamp\": \"2022-05-01T00:00:00\", \"variable\": \"weekly_silo_emissions\", \"value\": 0.0, \"total_silo_emissions\": 74133254.22224998, \"weekly_silo_emissions\": 0.0}, {\"timestamp\": \"2022-05-08T00:00:00\", \"variable\": \"total_silo_emissions\", \"value\": 74133254.22224998, \"total_silo_emissions\": 74133254.22224998, \"weekly_silo_emissions\": 0.0}, {\"timestamp\": \"2022-05-08T00:00:00\", \"variable\": \"weekly_silo_emissions\", \"value\": 0.0, \"total_silo_emissions\": 74133254.22224998, \"weekly_silo_emissions\": 0.0}, {\"timestamp\": \"2022-05-15T00:00:00\", \"variable\": \"total_silo_emissions\", \"value\": 74133254.22224998, \"total_silo_emissions\": 74133254.22224998, \"weekly_silo_emissions\": 0.0}, {\"timestamp\": \"2022-05-15T00:00:00\", \"variable\": \"weekly_silo_emissions\", \"value\": 0.0, \"total_silo_emissions\": 74133254.22224998, \"weekly_silo_emissions\": 0.0}, {\"timestamp\": \"2022-05-22T00:00:00\", \"variable\": \"total_silo_emissions\", \"value\": 74133254.22224998, \"total_silo_emissions\": 74133254.22224998, \"weekly_silo_emissions\": 0.0}, {\"timestamp\": \"2022-05-22T00:00:00\", \"variable\": \"weekly_silo_emissions\", \"value\": 0.0, \"total_silo_emissions\": 74133254.22224998, \"weekly_silo_emissions\": 0.0}, {\"timestamp\": \"2022-05-29T00:00:00\", \"variable\": \"total_silo_emissions\", \"value\": 74133254.22224998, \"total_silo_emissions\": 74133254.22224998, \"weekly_silo_emissions\": 0.0}, {\"timestamp\": \"2022-05-29T00:00:00\", \"variable\": \"weekly_silo_emissions\", \"value\": 0.0, \"total_silo_emissions\": 74133254.22224998, \"weekly_silo_emissions\": 0.0}, {\"timestamp\": \"2022-06-05T00:00:00\", \"variable\": \"total_silo_emissions\", \"value\": 74133254.22224998, \"total_silo_emissions\": 74133254.22224998, \"weekly_silo_emissions\": 0.0}, {\"timestamp\": \"2022-06-05T00:00:00\", \"variable\": \"weekly_silo_emissions\", \"value\": 0.0, \"total_silo_emissions\": 74133254.22224998, \"weekly_silo_emissions\": 0.0}, {\"timestamp\": \"2022-06-12T00:00:00\", \"variable\": \"total_silo_emissions\", \"value\": 74133254.22224998, \"total_silo_emissions\": 74133254.22224998, \"weekly_silo_emissions\": 0.0}, {\"timestamp\": \"2022-06-12T00:00:00\", \"variable\": \"weekly_silo_emissions\", \"value\": 0.0, \"total_silo_emissions\": 74133254.22224998, \"weekly_silo_emissions\": 0.0}, {\"timestamp\": \"2022-06-19T00:00:00\", \"variable\": \"total_silo_emissions\", \"value\": 74133254.22224998, \"total_silo_emissions\": 74133254.22224998, \"weekly_silo_emissions\": 0.0}, {\"timestamp\": \"2022-06-19T00:00:00\", \"variable\": \"weekly_silo_emissions\", \"value\": 0.0, \"total_silo_emissions\": 74133254.22224998, \"weekly_silo_emissions\": 0.0}, {\"timestamp\": \"2022-06-26T00:00:00\", \"variable\": \"total_silo_emissions\", \"value\": 74133254.22224998, \"total_silo_emissions\": 74133254.22224998, \"weekly_silo_emissions\": 0.0}, {\"timestamp\": \"2022-06-26T00:00:00\", \"variable\": \"weekly_silo_emissions\", \"value\": 0.0, \"total_silo_emissions\": 74133254.22224998, \"weekly_silo_emissions\": 0.0}, {\"timestamp\": \"2022-07-03T00:00:00\", \"variable\": \"total_silo_emissions\", \"value\": 74133254.22224998, \"total_silo_emissions\": 74133254.22224998, \"weekly_silo_emissions\": 0.0}, {\"timestamp\": \"2022-07-03T00:00:00\", \"variable\": \"weekly_silo_emissions\", \"value\": 0.0, \"total_silo_emissions\": 74133254.22224998, \"weekly_silo_emissions\": 0.0}, {\"timestamp\": \"2022-07-10T00:00:00\", \"variable\": \"total_silo_emissions\", \"value\": 74133254.22224998, \"total_silo_emissions\": 74133254.22224998, \"weekly_silo_emissions\": 0.0}, {\"timestamp\": \"2022-07-10T00:00:00\", \"variable\": \"weekly_silo_emissions\", \"value\": 0.0, \"total_silo_emissions\": 74133254.22224998, \"weekly_silo_emissions\": 0.0}, {\"timestamp\": \"2022-07-17T00:00:00\", \"variable\": \"total_silo_emissions\", \"value\": 74133254.22224998, \"total_silo_emissions\": 74133254.22224998, \"weekly_silo_emissions\": 0.0}, {\"timestamp\": \"2022-07-17T00:00:00\", \"variable\": \"weekly_silo_emissions\", \"value\": 0.0, \"total_silo_emissions\": 74133254.22224998, \"weekly_silo_emissions\": 0.0}, {\"timestamp\": \"2022-07-24T00:00:00\", \"variable\": \"total_silo_emissions\", \"value\": 74133254.22224998, \"total_silo_emissions\": 74133254.22224998, \"weekly_silo_emissions\": 0.0}, {\"timestamp\": \"2022-07-24T00:00:00\", \"variable\": \"weekly_silo_emissions\", \"value\": 0.0, \"total_silo_emissions\": 74133254.22224998, \"weekly_silo_emissions\": 0.0}, {\"timestamp\": \"2022-07-31T00:00:00\", \"variable\": \"total_silo_emissions\", \"value\": 74133254.22224998, \"total_silo_emissions\": 74133254.22224998, \"weekly_silo_emissions\": 0.0}, {\"timestamp\": \"2022-07-31T00:00:00\", \"variable\": \"weekly_silo_emissions\", \"value\": 0.0, \"total_silo_emissions\": 74133254.22224998, \"weekly_silo_emissions\": 0.0}, {\"timestamp\": \"2022-08-07T00:00:00\", \"variable\": \"total_silo_emissions\", \"value\": 76046216.62301998, \"total_silo_emissions\": 76046216.62301998, \"weekly_silo_emissions\": 1912962.4007700002}, {\"timestamp\": \"2022-08-07T00:00:00\", \"variable\": \"weekly_silo_emissions\", \"value\": 1912962.4007700002, \"total_silo_emissions\": 76046216.62301998, \"weekly_silo_emissions\": 1912962.4007700002}, {\"timestamp\": \"2022-08-14T00:00:00\", \"variable\": \"total_silo_emissions\", \"value\": 76201917.52848998, \"total_silo_emissions\": 76201917.52848998, \"weekly_silo_emissions\": 155700.90547}, {\"timestamp\": \"2022-08-14T00:00:00\", \"variable\": \"weekly_silo_emissions\", \"value\": 155700.90547, \"total_silo_emissions\": 76201917.52848998, \"weekly_silo_emissions\": 155700.90547}, {\"timestamp\": \"2022-08-21T00:00:00\", \"variable\": \"total_silo_emissions\", \"value\": 76222405.99596497, \"total_silo_emissions\": 76222405.99596497, \"weekly_silo_emissions\": 20488.467475}, {\"timestamp\": \"2022-08-21T00:00:00\", \"variable\": \"weekly_silo_emissions\", \"value\": 20488.467475, \"total_silo_emissions\": 76222405.99596497, \"weekly_silo_emissions\": 20488.467475}, {\"timestamp\": \"2022-08-28T00:00:00\", \"variable\": \"total_silo_emissions\", \"value\": 76238065.56059298, \"total_silo_emissions\": 76238065.56059298, \"weekly_silo_emissions\": 15659.564628}, {\"timestamp\": \"2022-08-28T00:00:00\", \"variable\": \"weekly_silo_emissions\", \"value\": 15659.564628, \"total_silo_emissions\": 76238065.56059298, \"weekly_silo_emissions\": 15659.564628}, {\"timestamp\": \"2022-09-04T00:00:00\", \"variable\": \"total_silo_emissions\", \"value\": 76246951.63648897, \"total_silo_emissions\": 76246951.63648897, \"weekly_silo_emissions\": 8886.075896}, {\"timestamp\": \"2022-09-04T00:00:00\", \"variable\": \"weekly_silo_emissions\", \"value\": 8886.075896, \"total_silo_emissions\": 76246951.63648897, \"weekly_silo_emissions\": 8886.075896}, {\"timestamp\": \"2022-09-11T00:00:00\", \"variable\": \"total_silo_emissions\", \"value\": 76251914.99222298, \"total_silo_emissions\": 76251914.99222298, \"weekly_silo_emissions\": 4963.355734}, {\"timestamp\": \"2022-09-11T00:00:00\", \"variable\": \"weekly_silo_emissions\", \"value\": 4963.355734, \"total_silo_emissions\": 76251914.99222298, \"weekly_silo_emissions\": 4963.355734}, {\"timestamp\": \"2022-09-18T00:00:00\", \"variable\": \"total_silo_emissions\", \"value\": 76254471.41009298, \"total_silo_emissions\": 76254471.41009298, \"weekly_silo_emissions\": 2556.4178699999998}, {\"timestamp\": \"2022-09-18T00:00:00\", \"variable\": \"weekly_silo_emissions\", \"value\": 2556.4178699999998, \"total_silo_emissions\": 76254471.41009298, \"weekly_silo_emissions\": 2556.4178699999998}, {\"timestamp\": \"2022-09-25T00:00:00\", \"variable\": \"total_silo_emissions\", \"value\": 76254529.48069099, \"total_silo_emissions\": 76254529.48069099, \"weekly_silo_emissions\": 58.070598}, {\"timestamp\": \"2022-09-25T00:00:00\", \"variable\": \"weekly_silo_emissions\", \"value\": 58.070598, \"total_silo_emissions\": 76254529.48069099, \"weekly_silo_emissions\": 58.070598}, {\"timestamp\": \"2022-10-02T00:00:00\", \"variable\": \"total_silo_emissions\", \"value\": 76254529.48069099, \"total_silo_emissions\": 76254529.48069099, \"weekly_silo_emissions\": 0.0}, {\"timestamp\": \"2022-10-02T00:00:00\", \"variable\": \"weekly_silo_emissions\", \"value\": 0.0, \"total_silo_emissions\": 76254529.48069099, \"weekly_silo_emissions\": 0.0}, {\"timestamp\": \"2022-10-09T00:00:00\", \"variable\": \"total_silo_emissions\", \"value\": 76254678.91587599, \"total_silo_emissions\": 76254678.91587599, \"weekly_silo_emissions\": 149.43518500000002}, {\"timestamp\": \"2022-10-09T00:00:00\", \"variable\": \"weekly_silo_emissions\", \"value\": 149.43518500000002, \"total_silo_emissions\": 76254678.91587599, \"weekly_silo_emissions\": 149.43518500000002}, {\"timestamp\": \"2022-10-16T00:00:00\", \"variable\": \"total_silo_emissions\", \"value\": 76256849.21488298, \"total_silo_emissions\": 76256849.21488298, \"weekly_silo_emissions\": 2170.299007}, {\"timestamp\": \"2022-10-16T00:00:00\", \"variable\": \"weekly_silo_emissions\", \"value\": 2170.299007, \"total_silo_emissions\": 76256849.21488298, \"weekly_silo_emissions\": 2170.299007}, {\"timestamp\": \"2022-10-23T00:00:00\", \"variable\": \"total_silo_emissions\", \"value\": 76265743.59884399, \"total_silo_emissions\": 76265743.59884399, \"weekly_silo_emissions\": 8894.383961}, {\"timestamp\": \"2022-10-23T00:00:00\", \"variable\": \"weekly_silo_emissions\", \"value\": 8894.383961, \"total_silo_emissions\": 76265743.59884399, \"weekly_silo_emissions\": 8894.383961}, {\"timestamp\": \"2022-10-30T00:00:00\", \"variable\": \"total_silo_emissions\", \"value\": 76316220.32995299, \"total_silo_emissions\": 76316220.32995299, \"weekly_silo_emissions\": 50476.731109}, {\"timestamp\": \"2022-10-30T00:00:00\", \"variable\": \"weekly_silo_emissions\", \"value\": 50476.731109, \"total_silo_emissions\": 76316220.32995299, \"weekly_silo_emissions\": 50476.731109}, {\"timestamp\": \"2022-11-06T00:00:00\", \"variable\": \"total_silo_emissions\", \"value\": 76382375.42973198, \"total_silo_emissions\": 76382375.42973198, \"weekly_silo_emissions\": 66155.099779}, {\"timestamp\": \"2022-11-06T00:00:00\", \"variable\": \"weekly_silo_emissions\", \"value\": 66155.099779, \"total_silo_emissions\": 76382375.42973198, \"weekly_silo_emissions\": 66155.099779}, {\"timestamp\": \"2022-11-13T00:00:00\", \"variable\": \"total_silo_emissions\", \"value\": 76387323.33692198, \"total_silo_emissions\": 76387323.33692198, \"weekly_silo_emissions\": 4947.90719}, {\"timestamp\": \"2022-11-13T00:00:00\", \"variable\": \"weekly_silo_emissions\", \"value\": 4947.90719, \"total_silo_emissions\": 76387323.33692198, \"weekly_silo_emissions\": 4947.90719}]}}, {\"mode\": \"vega-lite\"});\n",
       "</script>"
      ],
      "text/plain": [
       "alt.LayerChart(...)"
      ]
     },
     "execution_count": 19,
     "metadata": {},
     "output_type": "execute_result"
    }
   ],
   "source": [
    "colors = {\n",
    "    'weekly_silo_emissions': Tableau_10.hex_colors[0], \n",
    "    'total_silo_emissions': Tableau_10.hex_colors[1], \n",
    "}\n",
    "c = chart(\n",
    "    wide_to_longwide(df, 'timestamp', ['timestamp'], ['total_silo_emissions', 'weekly_silo_emissions']), \n",
    "    'timestamp', \n",
    "    lmetrics=['weekly_silo_emissions'],\n",
    "    rmetrics=['total_silo_emissions'], \n",
    "    lstrategy='stack_bar', \n",
    "    rstrategy='line', \n",
    "    yaxis_left_kwargs=dict(title=\"Beans\", format=\".3~s\"), \n",
    "    yaxis_right_kwargs=dict(title=\"Beans\", format=\".3~s\"), \n",
    "    colors=colors, \n",
    "    legend_kwargs=dict(title=None, orient=\"top\"), \n",
    "    dual_axes=True, \n",
    ") \n",
    "css_lines = css_tooltip_timeseries_multi_colored(list(colors.keys()), colors) \n",
    "css = \"\\n\".join(css_lines)\n",
    "\n",
    "apply_css(\"\")\n",
    "# apply_css(css)\n",
    "\n",
    "c"
   ]
  },
  {
   "cell_type": "code",
   "execution_count": 11,
   "id": "a3a0694b",
   "metadata": {},
   "outputs": [
    {
     "data": {
      "application/json": {
       "css": "#vg-tooltip-element tr:nth-child(1) { font-weight: bold }\n#vg-tooltip-element tr:nth-child(1) td:first-child { opacity: 0 }\n\n#vg-tooltip-element tr:nth-child(2) td:first-child { color: #1F77B4; font-weight: bold; }\n\n#vg-tooltip-element tr:nth-child(3) td:first-child { color: #FF7F0E; font-weight: bold; }\n",
       "spec": {
        "$schema": "https://vega.github.io/schema/vega-lite/v4.17.0.json",
        "config": {
         "view": {
          "continuousHeight": 300,
          "continuousWidth": 400
         }
        },
        "data": {
         "name": "data-b25fe83988450d5eedd31ce21030bd43"
        },
        "datasets": {
         "data-b25fe83988450d5eedd31ce21030bd43": [
          {
           "timestamp": "2021-08-08T00:00:00",
           "total_silo_emissions": 21192.194431,
           "value": 21192.194431,
           "variable": "total_silo_emissions",
           "weekly_silo_emissions": 21192.194431
          },
          {
           "timestamp": "2021-08-08T00:00:00",
           "total_silo_emissions": 21192.194431,
           "value": 21192.194431,
           "variable": "weekly_silo_emissions",
           "weekly_silo_emissions": 21192.194431
          },
          {
           "timestamp": "2021-08-15T00:00:00",
           "total_silo_emissions": 259821.11679,
           "value": 259821.11679,
           "variable": "total_silo_emissions",
           "weekly_silo_emissions": 238628.922359
          },
          {
           "timestamp": "2021-08-15T00:00:00",
           "total_silo_emissions": 259821.11679,
           "value": 238628.922359,
           "variable": "weekly_silo_emissions",
           "weekly_silo_emissions": 238628.922359
          },
          {
           "timestamp": "2021-08-22T00:00:00",
           "total_silo_emissions": 538686.719324,
           "value": 538686.719324,
           "variable": "total_silo_emissions",
           "weekly_silo_emissions": 278865.602534
          },
          {
           "timestamp": "2021-08-22T00:00:00",
           "total_silo_emissions": 538686.719324,
           "value": 278865.602534,
           "variable": "weekly_silo_emissions",
           "weekly_silo_emissions": 278865.602534
          },
          {
           "timestamp": "2021-08-29T00:00:00",
           "total_silo_emissions": 851534.741129,
           "value": 851534.741129,
           "variable": "total_silo_emissions",
           "weekly_silo_emissions": 312848.021805
          },
          {
           "timestamp": "2021-08-29T00:00:00",
           "total_silo_emissions": 851534.741129,
           "value": 312848.021805,
           "variable": "weekly_silo_emissions",
           "weekly_silo_emissions": 312848.021805
          },
          {
           "timestamp": "2021-09-05T00:00:00",
           "total_silo_emissions": 1180701.489793,
           "value": 1180701.489793,
           "variable": "total_silo_emissions",
           "weekly_silo_emissions": 329166.748664
          },
          {
           "timestamp": "2021-09-05T00:00:00",
           "total_silo_emissions": 1180701.489793,
           "value": 329166.748664,
           "variable": "weekly_silo_emissions",
           "weekly_silo_emissions": 329166.748664
          },
          {
           "timestamp": "2021-09-12T00:00:00",
           "total_silo_emissions": 1478493.439089,
           "value": 1478493.439089,
           "variable": "total_silo_emissions",
           "weekly_silo_emissions": 297791.949296
          },
          {
           "timestamp": "2021-09-12T00:00:00",
           "total_silo_emissions": 1478493.439089,
           "value": 297791.949296,
           "variable": "weekly_silo_emissions",
           "weekly_silo_emissions": 297791.949296
          },
          {
           "timestamp": "2021-09-19T00:00:00",
           "total_silo_emissions": 19802366.67865,
           "value": 19802366.67865,
           "variable": "total_silo_emissions",
           "weekly_silo_emissions": 18323873.239561
          },
          {
           "timestamp": "2021-09-19T00:00:00",
           "total_silo_emissions": 19802366.67865,
           "value": 18323873.239561,
           "variable": "weekly_silo_emissions",
           "weekly_silo_emissions": 18323873.239561
          },
          {
           "timestamp": "2021-09-26T00:00:00",
           "total_silo_emissions": 20461265.746813,
           "value": 20461265.746813,
           "variable": "total_silo_emissions",
           "weekly_silo_emissions": 658899.068163
          },
          {
           "timestamp": "2021-09-26T00:00:00",
           "total_silo_emissions": 20461265.746813,
           "value": 658899.068163,
           "variable": "weekly_silo_emissions",
           "weekly_silo_emissions": 658899.068163
          },
          {
           "timestamp": "2021-10-03T00:00:00",
           "total_silo_emissions": 20650503.797497,
           "value": 20650503.797497,
           "variable": "total_silo_emissions",
           "weekly_silo_emissions": 189238.05068400002
          },
          {
           "timestamp": "2021-10-03T00:00:00",
           "total_silo_emissions": 20650503.797497,
           "value": 189238.05068400002,
           "variable": "weekly_silo_emissions",
           "weekly_silo_emissions": 189238.05068400002
          },
          {
           "timestamp": "2021-10-10T00:00:00",
           "total_silo_emissions": 20707576.701363,
           "value": 20707576.701363,
           "variable": "total_silo_emissions",
           "weekly_silo_emissions": 57072.903866
          },
          {
           "timestamp": "2021-10-10T00:00:00",
           "total_silo_emissions": 20707576.701363,
           "value": 57072.903866,
           "variable": "weekly_silo_emissions",
           "weekly_silo_emissions": 57072.903866
          },
          {
           "timestamp": "2021-10-17T00:00:00",
           "total_silo_emissions": 20782340.338743,
           "value": 20782340.338743,
           "variable": "total_silo_emissions",
           "weekly_silo_emissions": 74763.63738
          },
          {
           "timestamp": "2021-10-17T00:00:00",
           "total_silo_emissions": 20782340.338743,
           "value": 74763.63738,
           "variable": "weekly_silo_emissions",
           "weekly_silo_emissions": 74763.63738
          },
          {
           "timestamp": "2021-10-24T00:00:00",
           "total_silo_emissions": 21471142.484179,
           "value": 21471142.484179,
           "variable": "total_silo_emissions",
           "weekly_silo_emissions": 688802.145436
          },
          {
           "timestamp": "2021-10-24T00:00:00",
           "total_silo_emissions": 21471142.484179,
           "value": 688802.145436,
           "variable": "weekly_silo_emissions",
           "weekly_silo_emissions": 688802.145436
          },
          {
           "timestamp": "2021-10-31T00:00:00",
           "total_silo_emissions": 22080487.669285003,
           "value": 22080487.669285003,
           "variable": "total_silo_emissions",
           "weekly_silo_emissions": 609345.185106
          },
          {
           "timestamp": "2021-10-31T00:00:00",
           "total_silo_emissions": 22080487.669285003,
           "value": 609345.185106,
           "variable": "weekly_silo_emissions",
           "weekly_silo_emissions": 609345.185106
          },
          {
           "timestamp": "2021-11-07T00:00:00",
           "total_silo_emissions": 22760713.293781005,
           "value": 22760713.293781005,
           "variable": "total_silo_emissions",
           "weekly_silo_emissions": 680225.624496
          },
          {
           "timestamp": "2021-11-07T00:00:00",
           "total_silo_emissions": 22760713.293781005,
           "value": 680225.624496,
           "variable": "weekly_silo_emissions",
           "weekly_silo_emissions": 680225.624496
          },
          {
           "timestamp": "2021-11-14T00:00:00",
           "total_silo_emissions": 23216645.779967006,
           "value": 23216645.779967006,
           "variable": "total_silo_emissions",
           "weekly_silo_emissions": 455932.486186
          },
          {
           "timestamp": "2021-11-14T00:00:00",
           "total_silo_emissions": 23216645.779967006,
           "value": 455932.486186,
           "variable": "weekly_silo_emissions",
           "weekly_silo_emissions": 455932.486186
          },
          {
           "timestamp": "2021-11-21T00:00:00",
           "total_silo_emissions": 25197238.952311005,
           "value": 25197238.952311005,
           "variable": "total_silo_emissions",
           "weekly_silo_emissions": 1980593.172344
          },
          {
           "timestamp": "2021-11-21T00:00:00",
           "total_silo_emissions": 25197238.952311005,
           "value": 1980593.172344,
           "variable": "weekly_silo_emissions",
           "weekly_silo_emissions": 1980593.172344
          },
          {
           "timestamp": "2021-11-28T00:00:00",
           "total_silo_emissions": 34083221.764421,
           "value": 34083221.764421,
           "variable": "total_silo_emissions",
           "weekly_silo_emissions": 8885982.81211
          },
          {
           "timestamp": "2021-11-28T00:00:00",
           "total_silo_emissions": 34083221.764421,
           "value": 8885982.81211,
           "variable": "weekly_silo_emissions",
           "weekly_silo_emissions": 8885982.81211
          },
          {
           "timestamp": "2021-12-05T00:00:00",
           "total_silo_emissions": 40986091.906005,
           "value": 40986091.906005,
           "variable": "total_silo_emissions",
           "weekly_silo_emissions": 6902870.141584
          },
          {
           "timestamp": "2021-12-05T00:00:00",
           "total_silo_emissions": 40986091.906005,
           "value": 6902870.141584,
           "variable": "weekly_silo_emissions",
           "weekly_silo_emissions": 6902870.141584
          },
          {
           "timestamp": "2021-12-12T00:00:00",
           "total_silo_emissions": 40986091.906005,
           "value": 40986091.906005,
           "variable": "total_silo_emissions",
           "weekly_silo_emissions": 0
          },
          {
           "timestamp": "2021-12-12T00:00:00",
           "total_silo_emissions": 40986091.906005,
           "value": 0,
           "variable": "weekly_silo_emissions",
           "weekly_silo_emissions": 0
          },
          {
           "timestamp": "2021-12-19T00:00:00",
           "total_silo_emissions": 40987822.963707,
           "value": 40987822.963707,
           "variable": "total_silo_emissions",
           "weekly_silo_emissions": 1731.057702
          },
          {
           "timestamp": "2021-12-19T00:00:00",
           "total_silo_emissions": 40987822.963707,
           "value": 1731.057702,
           "variable": "weekly_silo_emissions",
           "weekly_silo_emissions": 1731.057702
          },
          {
           "timestamp": "2021-12-26T00:00:00",
           "total_silo_emissions": 41122579.360675,
           "value": 41122579.360675,
           "variable": "total_silo_emissions",
           "weekly_silo_emissions": 134756.396968
          },
          {
           "timestamp": "2021-12-26T00:00:00",
           "total_silo_emissions": 41122579.360675,
           "value": 134756.396968,
           "variable": "weekly_silo_emissions",
           "weekly_silo_emissions": 134756.396968
          },
          {
           "timestamp": "2022-01-02T00:00:00",
           "total_silo_emissions": 41151291.551716,
           "value": 41151291.551716,
           "variable": "total_silo_emissions",
           "weekly_silo_emissions": 28712.191041
          },
          {
           "timestamp": "2022-01-02T00:00:00",
           "total_silo_emissions": 41151291.551716,
           "value": 28712.191041,
           "variable": "weekly_silo_emissions",
           "weekly_silo_emissions": 28712.191041
          },
          {
           "timestamp": "2022-01-09T00:00:00",
           "total_silo_emissions": 41151291.551716,
           "value": 41151291.551716,
           "variable": "total_silo_emissions",
           "weekly_silo_emissions": 0
          },
          {
           "timestamp": "2022-01-09T00:00:00",
           "total_silo_emissions": 41151291.551716,
           "value": 0,
           "variable": "weekly_silo_emissions",
           "weekly_silo_emissions": 0
          },
          {
           "timestamp": "2022-01-16T00:00:00",
           "total_silo_emissions": 41151291.551716,
           "value": 41151291.551716,
           "variable": "total_silo_emissions",
           "weekly_silo_emissions": 0
          },
          {
           "timestamp": "2022-01-16T00:00:00",
           "total_silo_emissions": 41151291.551716,
           "value": 0,
           "variable": "weekly_silo_emissions",
           "weekly_silo_emissions": 0
          },
          {
           "timestamp": "2022-01-23T00:00:00",
           "total_silo_emissions": 41151291.551716,
           "value": 41151291.551716,
           "variable": "total_silo_emissions",
           "weekly_silo_emissions": 0
          },
          {
           "timestamp": "2022-01-23T00:00:00",
           "total_silo_emissions": 41151291.551716,
           "value": 0,
           "variable": "weekly_silo_emissions",
           "weekly_silo_emissions": 0
          },
          {
           "timestamp": "2022-01-30T00:00:00",
           "total_silo_emissions": 41153552.493581,
           "value": 41153552.493581,
           "variable": "total_silo_emissions",
           "weekly_silo_emissions": 2260.941865
          },
          {
           "timestamp": "2022-01-30T00:00:00",
           "total_silo_emissions": 41153552.493581,
           "value": 2260.941865,
           "variable": "weekly_silo_emissions",
           "weekly_silo_emissions": 2260.941865
          },
          {
           "timestamp": "2022-02-06T00:00:00",
           "total_silo_emissions": 41301451.897122994,
           "value": 41301451.897122994,
           "variable": "total_silo_emissions",
           "weekly_silo_emissions": 147899.403542
          },
          {
           "timestamp": "2022-02-06T00:00:00",
           "total_silo_emissions": 41301451.897122994,
           "value": 147899.403542,
           "variable": "weekly_silo_emissions",
           "weekly_silo_emissions": 147899.403542
          },
          {
           "timestamp": "2022-02-13T00:00:00",
           "total_silo_emissions": 41535351.51651599,
           "value": 41535351.51651599,
           "variable": "total_silo_emissions",
           "weekly_silo_emissions": 233899.619393
          },
          {
           "timestamp": "2022-02-13T00:00:00",
           "total_silo_emissions": 41535351.51651599,
           "value": 233899.619393,
           "variable": "weekly_silo_emissions",
           "weekly_silo_emissions": 233899.619393
          },
          {
           "timestamp": "2022-02-20T00:00:00",
           "total_silo_emissions": 41679040.18831299,
           "value": 41679040.18831299,
           "variable": "total_silo_emissions",
           "weekly_silo_emissions": 143688.671797
          },
          {
           "timestamp": "2022-02-20T00:00:00",
           "total_silo_emissions": 41679040.18831299,
           "value": 143688.671797,
           "variable": "weekly_silo_emissions",
           "weekly_silo_emissions": 143688.671797
          },
          {
           "timestamp": "2022-02-27T00:00:00",
           "total_silo_emissions": 41747824.34207099,
           "value": 41747824.34207099,
           "variable": "total_silo_emissions",
           "weekly_silo_emissions": 68784.153758
          },
          {
           "timestamp": "2022-02-27T00:00:00",
           "total_silo_emissions": 41747824.34207099,
           "value": 68784.153758,
           "variable": "weekly_silo_emissions",
           "weekly_silo_emissions": 68784.153758
          },
          {
           "timestamp": "2022-03-06T00:00:00",
           "total_silo_emissions": 41826129.15725199,
           "value": 41826129.15725199,
           "variable": "total_silo_emissions",
           "weekly_silo_emissions": 78304.815181
          },
          {
           "timestamp": "2022-03-06T00:00:00",
           "total_silo_emissions": 41826129.15725199,
           "value": 78304.815181,
           "variable": "weekly_silo_emissions",
           "weekly_silo_emissions": 78304.815181
          },
          {
           "timestamp": "2022-03-13T00:00:00",
           "total_silo_emissions": 42116418.83106099,
           "value": 42116418.83106099,
           "variable": "total_silo_emissions",
           "weekly_silo_emissions": 290289.673809
          },
          {
           "timestamp": "2022-03-13T00:00:00",
           "total_silo_emissions": 42116418.83106099,
           "value": 290289.673809,
           "variable": "weekly_silo_emissions",
           "weekly_silo_emissions": 290289.673809
          },
          {
           "timestamp": "2022-03-20T00:00:00",
           "total_silo_emissions": 42834568.70063299,
           "value": 42834568.70063299,
           "variable": "total_silo_emissions",
           "weekly_silo_emissions": 718149.869572
          },
          {
           "timestamp": "2022-03-20T00:00:00",
           "total_silo_emissions": 42834568.70063299,
           "value": 718149.869572,
           "variable": "weekly_silo_emissions",
           "weekly_silo_emissions": 718149.869572
          },
          {
           "timestamp": "2022-03-27T00:00:00",
           "total_silo_emissions": 43598274.90456999,
           "value": 43598274.90456999,
           "variable": "total_silo_emissions",
           "weekly_silo_emissions": 763706.203937
          },
          {
           "timestamp": "2022-03-27T00:00:00",
           "total_silo_emissions": 43598274.90456999,
           "value": 763706.203937,
           "variable": "weekly_silo_emissions",
           "weekly_silo_emissions": 763706.203937
          },
          {
           "timestamp": "2022-04-03T00:00:00",
           "total_silo_emissions": 45124815.14761599,
           "value": 45124815.14761599,
           "variable": "total_silo_emissions",
           "weekly_silo_emissions": 1526540.243046
          },
          {
           "timestamp": "2022-04-03T00:00:00",
           "total_silo_emissions": 45124815.14761599,
           "value": 1526540.243046,
           "variable": "weekly_silo_emissions",
           "weekly_silo_emissions": 1526540.243046
          },
          {
           "timestamp": "2022-04-10T00:00:00",
           "total_silo_emissions": 47302983.76162599,
           "value": 47302983.76162599,
           "variable": "total_silo_emissions",
           "weekly_silo_emissions": 2178168.61401
          },
          {
           "timestamp": "2022-04-10T00:00:00",
           "total_silo_emissions": 47302983.76162599,
           "value": 2178168.61401,
           "variable": "weekly_silo_emissions",
           "weekly_silo_emissions": 2178168.61401
          },
          {
           "timestamp": "2022-04-17T00:00:00",
           "total_silo_emissions": 74133254.22224998,
           "value": 74133254.22224998,
           "variable": "total_silo_emissions",
           "weekly_silo_emissions": 26830270.460624002
          },
          {
           "timestamp": "2022-04-17T00:00:00",
           "total_silo_emissions": 74133254.22224998,
           "value": 26830270.460624002,
           "variable": "weekly_silo_emissions",
           "weekly_silo_emissions": 26830270.460624002
          },
          {
           "timestamp": "2022-04-24T00:00:00",
           "total_silo_emissions": 74133254.22224998,
           "value": 74133254.22224998,
           "variable": "total_silo_emissions",
           "weekly_silo_emissions": 0
          },
          {
           "timestamp": "2022-04-24T00:00:00",
           "total_silo_emissions": 74133254.22224998,
           "value": 0,
           "variable": "weekly_silo_emissions",
           "weekly_silo_emissions": 0
          },
          {
           "timestamp": "2022-05-01T00:00:00",
           "total_silo_emissions": 74133254.22224998,
           "value": 74133254.22224998,
           "variable": "total_silo_emissions",
           "weekly_silo_emissions": 0
          },
          {
           "timestamp": "2022-05-01T00:00:00",
           "total_silo_emissions": 74133254.22224998,
           "value": 0,
           "variable": "weekly_silo_emissions",
           "weekly_silo_emissions": 0
          },
          {
           "timestamp": "2022-05-08T00:00:00",
           "total_silo_emissions": 74133254.22224998,
           "value": 74133254.22224998,
           "variable": "total_silo_emissions",
           "weekly_silo_emissions": 0
          },
          {
           "timestamp": "2022-05-08T00:00:00",
           "total_silo_emissions": 74133254.22224998,
           "value": 0,
           "variable": "weekly_silo_emissions",
           "weekly_silo_emissions": 0
          },
          {
           "timestamp": "2022-05-15T00:00:00",
           "total_silo_emissions": 74133254.22224998,
           "value": 74133254.22224998,
           "variable": "total_silo_emissions",
           "weekly_silo_emissions": 0
          },
          {
           "timestamp": "2022-05-15T00:00:00",
           "total_silo_emissions": 74133254.22224998,
           "value": 0,
           "variable": "weekly_silo_emissions",
           "weekly_silo_emissions": 0
          },
          {
           "timestamp": "2022-05-22T00:00:00",
           "total_silo_emissions": 74133254.22224998,
           "value": 74133254.22224998,
           "variable": "total_silo_emissions",
           "weekly_silo_emissions": 0
          },
          {
           "timestamp": "2022-05-22T00:00:00",
           "total_silo_emissions": 74133254.22224998,
           "value": 0,
           "variable": "weekly_silo_emissions",
           "weekly_silo_emissions": 0
          },
          {
           "timestamp": "2022-05-29T00:00:00",
           "total_silo_emissions": 74133254.22224998,
           "value": 74133254.22224998,
           "variable": "total_silo_emissions",
           "weekly_silo_emissions": 0
          },
          {
           "timestamp": "2022-05-29T00:00:00",
           "total_silo_emissions": 74133254.22224998,
           "value": 0,
           "variable": "weekly_silo_emissions",
           "weekly_silo_emissions": 0
          },
          {
           "timestamp": "2022-06-05T00:00:00",
           "total_silo_emissions": 74133254.22224998,
           "value": 74133254.22224998,
           "variable": "total_silo_emissions",
           "weekly_silo_emissions": 0
          },
          {
           "timestamp": "2022-06-05T00:00:00",
           "total_silo_emissions": 74133254.22224998,
           "value": 0,
           "variable": "weekly_silo_emissions",
           "weekly_silo_emissions": 0
          },
          {
           "timestamp": "2022-06-12T00:00:00",
           "total_silo_emissions": 74133254.22224998,
           "value": 74133254.22224998,
           "variable": "total_silo_emissions",
           "weekly_silo_emissions": 0
          },
          {
           "timestamp": "2022-06-12T00:00:00",
           "total_silo_emissions": 74133254.22224998,
           "value": 0,
           "variable": "weekly_silo_emissions",
           "weekly_silo_emissions": 0
          },
          {
           "timestamp": "2022-06-19T00:00:00",
           "total_silo_emissions": 74133254.22224998,
           "value": 74133254.22224998,
           "variable": "total_silo_emissions",
           "weekly_silo_emissions": 0
          },
          {
           "timestamp": "2022-06-19T00:00:00",
           "total_silo_emissions": 74133254.22224998,
           "value": 0,
           "variable": "weekly_silo_emissions",
           "weekly_silo_emissions": 0
          },
          {
           "timestamp": "2022-06-26T00:00:00",
           "total_silo_emissions": 74133254.22224998,
           "value": 74133254.22224998,
           "variable": "total_silo_emissions",
           "weekly_silo_emissions": 0
          },
          {
           "timestamp": "2022-06-26T00:00:00",
           "total_silo_emissions": 74133254.22224998,
           "value": 0,
           "variable": "weekly_silo_emissions",
           "weekly_silo_emissions": 0
          },
          {
           "timestamp": "2022-07-03T00:00:00",
           "total_silo_emissions": 74133254.22224998,
           "value": 74133254.22224998,
           "variable": "total_silo_emissions",
           "weekly_silo_emissions": 0
          },
          {
           "timestamp": "2022-07-03T00:00:00",
           "total_silo_emissions": 74133254.22224998,
           "value": 0,
           "variable": "weekly_silo_emissions",
           "weekly_silo_emissions": 0
          },
          {
           "timestamp": "2022-07-10T00:00:00",
           "total_silo_emissions": 74133254.22224998,
           "value": 74133254.22224998,
           "variable": "total_silo_emissions",
           "weekly_silo_emissions": 0
          },
          {
           "timestamp": "2022-07-10T00:00:00",
           "total_silo_emissions": 74133254.22224998,
           "value": 0,
           "variable": "weekly_silo_emissions",
           "weekly_silo_emissions": 0
          },
          {
           "timestamp": "2022-07-17T00:00:00",
           "total_silo_emissions": 74133254.22224998,
           "value": 74133254.22224998,
           "variable": "total_silo_emissions",
           "weekly_silo_emissions": 0
          },
          {
           "timestamp": "2022-07-17T00:00:00",
           "total_silo_emissions": 74133254.22224998,
           "value": 0,
           "variable": "weekly_silo_emissions",
           "weekly_silo_emissions": 0
          },
          {
           "timestamp": "2022-07-24T00:00:00",
           "total_silo_emissions": 74133254.22224998,
           "value": 74133254.22224998,
           "variable": "total_silo_emissions",
           "weekly_silo_emissions": 0
          },
          {
           "timestamp": "2022-07-24T00:00:00",
           "total_silo_emissions": 74133254.22224998,
           "value": 0,
           "variable": "weekly_silo_emissions",
           "weekly_silo_emissions": 0
          },
          {
           "timestamp": "2022-07-31T00:00:00",
           "total_silo_emissions": 74133254.22224998,
           "value": 74133254.22224998,
           "variable": "total_silo_emissions",
           "weekly_silo_emissions": 0
          },
          {
           "timestamp": "2022-07-31T00:00:00",
           "total_silo_emissions": 74133254.22224998,
           "value": 0,
           "variable": "weekly_silo_emissions",
           "weekly_silo_emissions": 0
          },
          {
           "timestamp": "2022-08-07T00:00:00",
           "total_silo_emissions": 76046216.62301998,
           "value": 76046216.62301998,
           "variable": "total_silo_emissions",
           "weekly_silo_emissions": 1912962.4007700002
          },
          {
           "timestamp": "2022-08-07T00:00:00",
           "total_silo_emissions": 76046216.62301998,
           "value": 1912962.4007700002,
           "variable": "weekly_silo_emissions",
           "weekly_silo_emissions": 1912962.4007700002
          },
          {
           "timestamp": "2022-08-14T00:00:00",
           "total_silo_emissions": 76201917.52848998,
           "value": 76201917.52848998,
           "variable": "total_silo_emissions",
           "weekly_silo_emissions": 155700.90547
          },
          {
           "timestamp": "2022-08-14T00:00:00",
           "total_silo_emissions": 76201917.52848998,
           "value": 155700.90547,
           "variable": "weekly_silo_emissions",
           "weekly_silo_emissions": 155700.90547
          },
          {
           "timestamp": "2022-08-21T00:00:00",
           "total_silo_emissions": 76222405.99596497,
           "value": 76222405.99596497,
           "variable": "total_silo_emissions",
           "weekly_silo_emissions": 20488.467475
          },
          {
           "timestamp": "2022-08-21T00:00:00",
           "total_silo_emissions": 76222405.99596497,
           "value": 20488.467475,
           "variable": "weekly_silo_emissions",
           "weekly_silo_emissions": 20488.467475
          },
          {
           "timestamp": "2022-08-28T00:00:00",
           "total_silo_emissions": 76238065.56059298,
           "value": 76238065.56059298,
           "variable": "total_silo_emissions",
           "weekly_silo_emissions": 15659.564628
          },
          {
           "timestamp": "2022-08-28T00:00:00",
           "total_silo_emissions": 76238065.56059298,
           "value": 15659.564628,
           "variable": "weekly_silo_emissions",
           "weekly_silo_emissions": 15659.564628
          },
          {
           "timestamp": "2022-09-04T00:00:00",
           "total_silo_emissions": 76246951.63648897,
           "value": 76246951.63648897,
           "variable": "total_silo_emissions",
           "weekly_silo_emissions": 8886.075896
          },
          {
           "timestamp": "2022-09-04T00:00:00",
           "total_silo_emissions": 76246951.63648897,
           "value": 8886.075896,
           "variable": "weekly_silo_emissions",
           "weekly_silo_emissions": 8886.075896
          },
          {
           "timestamp": "2022-09-11T00:00:00",
           "total_silo_emissions": 76251914.99222298,
           "value": 76251914.99222298,
           "variable": "total_silo_emissions",
           "weekly_silo_emissions": 4963.355734
          },
          {
           "timestamp": "2022-09-11T00:00:00",
           "total_silo_emissions": 76251914.99222298,
           "value": 4963.355734,
           "variable": "weekly_silo_emissions",
           "weekly_silo_emissions": 4963.355734
          },
          {
           "timestamp": "2022-09-18T00:00:00",
           "total_silo_emissions": 76254471.41009298,
           "value": 76254471.41009298,
           "variable": "total_silo_emissions",
           "weekly_silo_emissions": 2556.4178699999998
          },
          {
           "timestamp": "2022-09-18T00:00:00",
           "total_silo_emissions": 76254471.41009298,
           "value": 2556.4178699999998,
           "variable": "weekly_silo_emissions",
           "weekly_silo_emissions": 2556.4178699999998
          },
          {
           "timestamp": "2022-09-25T00:00:00",
           "total_silo_emissions": 76254529.48069099,
           "value": 76254529.48069099,
           "variable": "total_silo_emissions",
           "weekly_silo_emissions": 58.070598
          },
          {
           "timestamp": "2022-09-25T00:00:00",
           "total_silo_emissions": 76254529.48069099,
           "value": 58.070598,
           "variable": "weekly_silo_emissions",
           "weekly_silo_emissions": 58.070598
          },
          {
           "timestamp": "2022-10-02T00:00:00",
           "total_silo_emissions": 76254529.48069099,
           "value": 76254529.48069099,
           "variable": "total_silo_emissions",
           "weekly_silo_emissions": 0
          },
          {
           "timestamp": "2022-10-02T00:00:00",
           "total_silo_emissions": 76254529.48069099,
           "value": 0,
           "variable": "weekly_silo_emissions",
           "weekly_silo_emissions": 0
          },
          {
           "timestamp": "2022-10-09T00:00:00",
           "total_silo_emissions": 76254678.91587599,
           "value": 76254678.91587599,
           "variable": "total_silo_emissions",
           "weekly_silo_emissions": 149.43518500000002
          },
          {
           "timestamp": "2022-10-09T00:00:00",
           "total_silo_emissions": 76254678.91587599,
           "value": 149.43518500000002,
           "variable": "weekly_silo_emissions",
           "weekly_silo_emissions": 149.43518500000002
          },
          {
           "timestamp": "2022-10-16T00:00:00",
           "total_silo_emissions": 76256849.21488298,
           "value": 76256849.21488298,
           "variable": "total_silo_emissions",
           "weekly_silo_emissions": 2170.299007
          },
          {
           "timestamp": "2022-10-16T00:00:00",
           "total_silo_emissions": 76256849.21488298,
           "value": 2170.299007,
           "variable": "weekly_silo_emissions",
           "weekly_silo_emissions": 2170.299007
          },
          {
           "timestamp": "2022-10-23T00:00:00",
           "total_silo_emissions": 76265743.59884399,
           "value": 76265743.59884399,
           "variable": "total_silo_emissions",
           "weekly_silo_emissions": 8894.383961
          },
          {
           "timestamp": "2022-10-23T00:00:00",
           "total_silo_emissions": 76265743.59884399,
           "value": 8894.383961,
           "variable": "weekly_silo_emissions",
           "weekly_silo_emissions": 8894.383961
          },
          {
           "timestamp": "2022-10-30T00:00:00",
           "total_silo_emissions": 76316220.32995299,
           "value": 76316220.32995299,
           "variable": "total_silo_emissions",
           "weekly_silo_emissions": 50476.731109
          },
          {
           "timestamp": "2022-10-30T00:00:00",
           "total_silo_emissions": 76316220.32995299,
           "value": 50476.731109,
           "variable": "weekly_silo_emissions",
           "weekly_silo_emissions": 50476.731109
          },
          {
           "timestamp": "2022-11-06T00:00:00",
           "total_silo_emissions": 76382375.42973198,
           "value": 76382375.42973198,
           "variable": "total_silo_emissions",
           "weekly_silo_emissions": 66155.099779
          },
          {
           "timestamp": "2022-11-06T00:00:00",
           "total_silo_emissions": 76382375.42973198,
           "value": 66155.099779,
           "variable": "weekly_silo_emissions",
           "weekly_silo_emissions": 66155.099779
          },
          {
           "timestamp": "2022-11-13T00:00:00",
           "total_silo_emissions": 76387323.33692198,
           "value": 76387323.33692198,
           "variable": "total_silo_emissions",
           "weekly_silo_emissions": 4947.90719
          },
          {
           "timestamp": "2022-11-13T00:00:00",
           "total_silo_emissions": 76387323.33692198,
           "value": 4947.90719,
           "variable": "weekly_silo_emissions",
           "weekly_silo_emissions": 4947.90719
          }
         ]
        },
        "layer": [
         {
          "encoding": {
           "color": {
            "field": "variable",
            "legend": {
             "orient": "top",
             "title": null
            },
            "scale": {
             "domain": [
              "weekly_silo_emissions",
              "total_silo_emissions"
             ],
             "range": [
              "#1F77B4",
              "#FF7F0E"
             ]
            },
            "type": "nominal"
           },
           "order": {
            "field": "stack_order",
            "sort": "ascending",
            "type": "quantitative"
           },
           "x": {
            "axis": {
             "formatType": "time",
             "labelAngle": 0,
             "labelExpr": "timeFormat(toDate(datum.value), '%b %e, %Y')",
             "labelOverlap": true,
             "labelPadding": 5,
             "labelSeparation": 50,
             "ticks": false,
             "title": "Date"
            },
            "field": "timestamp",
            "type": "ordinal"
           },
           "y": {
            "axis": {
             "format": ".3~s",
             "title": "Beans"
            },
            "field": "value",
            "type": "quantitative"
           }
          },
          "mark": "bar",
          "title": "",
          "transform": [
           {
            "as": "stack_order",
            "calculate": "datum['variable'] === 'weekly_silo_emissions' ? 0 :  datum['variable'] === 'total_silo_emissions' ? 1 : 2"
           },
           {
            "filter": "datum['variable'] == 'weekly_silo_emissions'"
           }
          ],
          "width": 700
         },
         {
          "layer": [
           {
            "encoding": {
             "color": {
              "field": "variable",
              "legend": {
               "orient": "top",
               "title": null
              },
              "scale": {
               "domain": [
                "weekly_silo_emissions",
                "total_silo_emissions"
               ],
               "range": [
                "#1F77B4",
                "#FF7F0E"
               ]
              },
              "type": "nominal"
             },
             "order": {
              "field": "stack_order",
              "sort": "ascending",
              "type": "quantitative"
             },
             "x": {
              "axis": {
               "formatType": "time",
               "labelAngle": 0,
               "labelExpr": "timeFormat(toDate(datum.value), '%b %e, %Y')",
               "labelOverlap": true,
               "labelPadding": 5,
               "labelSeparation": 50,
               "ticks": false,
               "title": "Date"
              },
              "field": "timestamp",
              "type": "ordinal"
             },
             "y": {
              "axis": {
               "format": ".3~s",
               "title": "Beans"
              },
              "field": "value",
              "type": "quantitative"
             }
            },
            "mark": "line",
            "title": "",
            "transform": [
             {
              "as": "stack_order",
              "calculate": "datum['variable'] === 'weekly_silo_emissions' ? 0 :  datum['variable'] === 'total_silo_emissions' ? 1 : 2"
             },
             {
              "filter": "datum['variable'] == 'total_silo_emissions'"
             }
            ],
            "width": 700
           },
           {
            "encoding": {
             "x": {
              "axis": {
               "formatType": "time",
               "labelAngle": 0,
               "labelExpr": "timeFormat(toDate(datum.value), '%b %e, %Y')",
               "labelOverlap": true,
               "labelPadding": 5,
               "labelSeparation": 50,
               "ticks": false,
               "title": "Date"
              },
              "field": "timestamp",
              "type": "ordinal"
             }
            },
            "mark": {
             "color": "#474440",
             "opacity": 1,
             "strokeDash": [
              2.5,
              1
             ],
             "type": "rule"
            },
            "title": "",
            "transform": [
             {
              "as": "stack_order",
              "calculate": "datum['variable'] === 'weekly_silo_emissions' ? 0 :  datum['variable'] === 'total_silo_emissions' ? 1 : 2"
             },
             {
              "groupby": [
               "timestamp"
              ],
              "pivot": "variable",
              "value": "value"
             },
             {
              "filter": "\n            year(datum['timestamp']) === 2022 && \n            month(datum['timestamp']) === 3 && \n            date(datum['timestamp']) === 17 \n        "
             }
            ],
            "width": 700
           },
           {
            "encoding": {
             "opacity": {
              "condition": {
               "selection": "selector001",
               "value": 1
              },
              "value": 0
             },
             "tooltip": [
              {
               "field": "timestamp",
               "timeUnit": "yearmonthdate",
               "title": "date",
               "type": "ordinal"
              },
              {
               "field": "weekly_silo_emissions",
               "format": ",d",
               "type": "quantitative"
              },
              {
               "field": "total_silo_emissions",
               "format": ",d",
               "type": "quantitative"
              }
             ],
             "x": {
              "axis": {
               "formatType": "time",
               "labelAngle": 0,
               "labelExpr": "timeFormat(toDate(datum.value), '%b %e, %Y')",
               "labelOverlap": true,
               "labelPadding": 5,
               "labelSeparation": 50,
               "ticks": false,
               "title": "Date"
              },
              "field": "timestamp",
              "type": "ordinal"
             }
            },
            "mark": {
             "color": "#878787",
             "type": "rule"
            },
            "selection": {
             "selector001": {
              "clear": "mouseout",
              "empty": "none",
              "fields": [
               "timestamp"
              ],
              "nearest": true,
              "on": "mouseover",
              "type": "single"
             }
            },
            "title": "",
            "transform": [
             {
              "as": "stack_order",
              "calculate": "datum['variable'] === 'weekly_silo_emissions' ? 0 :  datum['variable'] === 'total_silo_emissions' ? 1 : 2"
             },
             {
              "groupby": [
               "timestamp"
              ],
              "pivot": "variable",
              "value": "value"
             }
            ],
            "width": 700
           }
          ]
         }
        ],
        "resolve": {
         "axis": {
          "y": "independent"
         },
         "scale": {
          "y": "independent"
         }
        }
       },
       "width_paths": [
        {
         "factor": 1,
         "path": [
          "config",
          "view",
          "continuousWidth"
         ],
         "value": 400
        },
        {
         "factor": 1,
         "path": [
          "layer",
          0,
          "width"
         ],
         "value": 700
        },
        {
         "factor": 1,
         "path": [
          "layer",
          1,
          "layer",
          0,
          "width"
         ],
         "value": 700
        },
        {
         "factor": 1,
         "path": [
          "layer",
          1,
          "layer",
          1,
          "width"
         ],
         "value": 700
        },
        {
         "factor": 1,
         "path": [
          "layer",
          1,
          "layer",
          2,
          "width"
         ],
         "value": 700
        }
       ]
      },
      "text/plain": [
       "<IPython.core.display.JSON object>"
      ]
     },
     "execution_count": 11,
     "metadata": {
      "application/json": {
       "expanded": false,
       "root": "root"
      }
     },
     "output_type": "execute_result"
    }
   ],
   "source": [
    "output_chart(c, css=css)"
   ]
  },
  {
   "cell_type": "code",
   "execution_count": null,
   "id": "f6c0888a-b5ac-4546-9b0b-c768d423dc2e",
   "metadata": {},
   "outputs": [],
   "source": []
  }
 ],
 "metadata": {
  "kernelspec": {
   "display_name": "Python 3 (ipykernel)",
   "language": "python",
   "name": "python3"
  },
  "language_info": {
   "codemirror_mode": {
    "name": "ipython",
    "version": 3
   },
   "file_extension": ".py",
   "mimetype": "text/x-python",
   "name": "python",
   "nbconvert_exporter": "python",
   "pygments_lexer": "ipython3",
   "version": "3.10.5"
  },
  "vscode": {
   "interpreter": {
    "hash": "65a1606879e7cc55db7359bc7bbaab6708e6dced52e1818b18aa46c0dd2503e5"
   }
  }
 },
 "nbformat": 4,
 "nbformat_minor": 5
}
