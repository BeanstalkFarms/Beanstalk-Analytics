{
 "cells": [
  {
   "cell_type": "code",
   "execution_count": 1,
   "id": "bb524f98-4f94-476c-b760-7d5dbae7938d",
   "metadata": {},
   "outputs": [
    {
     "name": "stdout",
     "output_type": "stream",
     "text": [
      "https://api.thegraph.com/subgraphs/name/cujowolf/beanstalk\n"
     ]
    }
   ],
   "source": [
    "import os \n",
    "import sys \n",
    "import json \n",
    "import logging \n",
    "from pathlib import Path \n",
    "from functools import cache\n",
    "from itertools import product\n",
    "\n",
    "# Required when developing in a jupyter-notebook environment \n",
    "cur_path = os.path.abspath(\"../..\")\n",
    "if cur_path not in sys.path: \n",
    "    sys.path.append(cur_path)\n",
    "\n",
    "import numpy as np \n",
    "import pandas as pd \n",
    "import altair as alt \n",
    "from altair import datum\n",
    "from palettable.scientific.sequential import Batlow_5\n",
    "from palettable.tableau import Tableau_20\n",
    "from dotenv import load_dotenv\n",
    "from subgrounds.subgrounds import Subgrounds, Subgraph\n",
    "from subgrounds.subgraph import SyntheticField\n",
    "from subgrounds.pagination import ShallowStrategy\n",
    "\n",
    "# Required when developing in a jupyter-notebook environment \n",
    "load_dotenv('../../../../.env')\n",
    "\n",
    "print(os.environ['SUBGRAPH_URL'])\n",
    "# logging.basicConfig(level=logging.DEBUG)\n",
    "\n",
    "from utils_notebook.utils import ddf, remove_prefix, load_subgraph, remove_keys\n",
    "from utils_notebook.vega import (\n",
    "    output_chart, \n",
    "    apply_css, \n",
    "    chart_bin_count_value_aggregate, \n",
    ")\n",
    "from utils_notebook.testing import validate_season_series\n",
    "from utils_notebook.constants import ADDR_BEANSTALK\n",
    "from utils_notebook.queries import QueryManager\n",
    "from utils_notebook.css import css_tooltip_timeseries_multi_colored"
   ]
  },
  {
   "cell_type": "code",
   "execution_count": 2,
   "id": "4dda51ef-cb6a-4692-9bad-6ea39ab9c6fe",
   "metadata": {},
   "outputs": [],
   "source": [
    "sg, bs = load_subgraph()\n",
    "q = QueryManager(sg, bs) "
   ]
  },
  {
   "cell_type": "code",
   "execution_count": 3,
   "id": "f5823889",
   "metadata": {},
   "outputs": [],
   "source": [
    "plots = bs.Query.plots(first=100000)\n",
    "df_plots = sg.query_df([\n",
    "    plots.pods, \n",
    "    plots.farmer.id\n",
    "])\n",
    "df_plots = remove_prefix(df_plots, \"plots_\")"
   ]
  },
  {
   "cell_type": "code",
   "execution_count": 4,
   "id": "5ed810c4",
   "metadata": {},
   "outputs": [
    {
     "data": {
      "text/html": [
       "<div>\n",
       "<style scoped>\n",
       "    .dataframe tbody tr th:only-of-type {\n",
       "        vertical-align: middle;\n",
       "    }\n",
       "\n",
       "    .dataframe tbody tr th {\n",
       "        vertical-align: top;\n",
       "    }\n",
       "\n",
       "    .dataframe thead th {\n",
       "        text-align: right;\n",
       "    }\n",
       "</style>\n",
       "<table border=\"1\" class=\"dataframe\">\n",
       "  <thead>\n",
       "    <tr style=\"text-align: right;\">\n",
       "      <th></th>\n",
       "      <th>pods</th>\n",
       "      <th>address</th>\n",
       "    </tr>\n",
       "  </thead>\n",
       "  <tbody>\n",
       "    <tr>\n",
       "      <th>0</th>\n",
       "      <td>4828.325653</td>\n",
       "      <td>0x61e413de4a40b8d03ca2f18026980e885ae2b345</td>\n",
       "    </tr>\n",
       "    <tr>\n",
       "      <th>1</th>\n",
       "      <td>1007.244059</td>\n",
       "      <td>0xacc53f19851ce116d52b730aee8772f7bd568821</td>\n",
       "    </tr>\n",
       "    <tr>\n",
       "      <th>2</th>\n",
       "      <td>29922.479411</td>\n",
       "      <td>0xb66924a7a23e22a87ac555c950019385a3438951</td>\n",
       "    </tr>\n",
       "    <tr>\n",
       "      <th>3</th>\n",
       "      <td>9549.919578</td>\n",
       "      <td>0xd3c1e750b5664170f4af828145295b678bafd460</td>\n",
       "    </tr>\n",
       "    <tr>\n",
       "      <th>4</th>\n",
       "      <td>77102.185528</td>\n",
       "      <td>0xa33be425a086db8899c33a357d5ad53ca3a6046e</td>\n",
       "    </tr>\n",
       "  </tbody>\n",
       "</table>\n",
       "</div>"
      ],
      "text/plain": [
       "           pods                                     address\n",
       "0   4828.325653  0x61e413de4a40b8d03ca2f18026980e885ae2b345\n",
       "1   1007.244059  0xacc53f19851ce116d52b730aee8772f7bd568821\n",
       "2  29922.479411  0xb66924a7a23e22a87ac555c950019385a3438951\n",
       "3   9549.919578  0xd3c1e750b5664170f4af828145295b678bafd460\n",
       "4  77102.185528  0xa33be425a086db8899c33a357d5ad53ca3a6046e"
      ]
     },
     "execution_count": 4,
     "metadata": {},
     "output_type": "execute_result"
    }
   ],
   "source": [
    "df_plots.pods /= 1e6 \n",
    "df_plots = df_plots.rename(columns={\"farmer_id\": \"address\"})\n",
    "df_plots.head()"
   ]
  },
  {
   "cell_type": "code",
   "execution_count": 5,
   "id": "013a35a6-f244-4bf6-b525-35b1970dfd20",
   "metadata": {},
   "outputs": [
    {
     "name": "stderr",
     "output_type": "stream",
     "text": [
      "/Users/ALEX/opt/anaconda3/envs/beanstalk/lib/python3.10/site-packages/altair/utils/core.py:317: FutureWarning: iteritems is deprecated and will be removed in a future version. Use .items instead.\n",
      "  for col_name, dtype in df.dtypes.iteritems():\n"
     ]
    },
    {
     "data": {
      "text/html": [
       "\n",
       "<div id=\"altair-viz-f2e7214d40ba4e56b7cf926e0e4497d5\"></div>\n",
       "<script type=\"text/javascript\">\n",
       "  var VEGA_DEBUG = (typeof VEGA_DEBUG == \"undefined\") ? {} : VEGA_DEBUG;\n",
       "  (function(spec, embedOpt){\n",
       "    let outputDiv = document.currentScript.previousElementSibling;\n",
       "    if (outputDiv.id !== \"altair-viz-f2e7214d40ba4e56b7cf926e0e4497d5\") {\n",
       "      outputDiv = document.getElementById(\"altair-viz-f2e7214d40ba4e56b7cf926e0e4497d5\");\n",
       "    }\n",
       "    const paths = {\n",
       "      \"vega\": \"https://cdn.jsdelivr.net/npm//vega@5?noext\",\n",
       "      \"vega-lib\": \"https://cdn.jsdelivr.net/npm//vega-lib?noext\",\n",
       "      \"vega-lite\": \"https://cdn.jsdelivr.net/npm//vega-lite@4.17.0?noext\",\n",
       "      \"vega-embed\": \"https://cdn.jsdelivr.net/npm//vega-embed@6?noext\",\n",
       "    };\n",
       "\n",
       "    function maybeLoadScript(lib, version) {\n",
       "      var key = `${lib.replace(\"-\", \"\")}_version`;\n",
       "      return (VEGA_DEBUG[key] == version) ?\n",
       "        Promise.resolve(paths[lib]) :\n",
       "        new Promise(function(resolve, reject) {\n",
       "          var s = document.createElement('script');\n",
       "          document.getElementsByTagName(\"head\")[0].appendChild(s);\n",
       "          s.async = true;\n",
       "          s.onload = () => {\n",
       "            VEGA_DEBUG[key] = version;\n",
       "            return resolve(paths[lib]);\n",
       "          };\n",
       "          s.onerror = () => reject(`Error loading script: ${paths[lib]}`);\n",
       "          s.src = paths[lib];\n",
       "        });\n",
       "    }\n",
       "\n",
       "    function showError(err) {\n",
       "      outputDiv.innerHTML = `<div class=\"error\" style=\"color:red;\">${err}</div>`;\n",
       "      throw err;\n",
       "    }\n",
       "\n",
       "    function displayChart(vegaEmbed) {\n",
       "      vegaEmbed(outputDiv, spec, embedOpt)\n",
       "        .catch(err => showError(`Javascript Error: ${err.message}<br>This usually means there's a typo in your chart specification. See the javascript console for the full traceback.`));\n",
       "    }\n",
       "\n",
       "    if(typeof define === \"function\" && define.amd) {\n",
       "      requirejs.config({paths});\n",
       "      require([\"vega-embed\"], displayChart, err => showError(`Error loading script: ${err.message}`));\n",
       "    } else {\n",
       "      maybeLoadScript(\"vega\", \"5\")\n",
       "        .then(() => maybeLoadScript(\"vega-lite\", \"4.17.0\"))\n",
       "        .then(() => maybeLoadScript(\"vega-embed\", \"6\"))\n",
       "        .catch(showError)\n",
       "        .then(() => displayChart(vegaEmbed));\n",
       "    }\n",
       "  })({\"config\": {\"view\": {\"continuousWidth\": 400, \"continuousHeight\": 300}}, \"vconcat\": [{\"layer\": [{\"mark\": \"bar\", \"encoding\": {\"color\": {\"field\": \"class\", \"legend\": null, \"scale\": {\"domain\": [\"001.1 - 10,000 pods\", \"002.10,000 - 50,000 pods\", \"003.50,000 - 100,000 pods\", \"004.100,000 - 250,000 pods\", \"005.250,000 - 500,000 pods\", \"006.500,000 - 1,000,000 pods\", \"007.1,000,000 - 5,000,000 pods\", \"008.5,000,000 - 10,000,000 pods\", \"009.10,000,000 - 20,000,000 pods\", \"010.20,000,000+ pods\"], \"range\": [\"#1F77B4\", \"#AEC7E8\", \"#FF7F0E\", \"#FFBB78\", \"#2CA02C\", \"#98DF8A\", \"#D62728\", \"#FF9896\", \"#9467BD\", \"#C5B0D5\"]}, \"type\": \"ordinal\"}, \"stroke\": {\"condition\": {\"value\": \"black\", \"selection\": \"selector001\"}, \"value\": \"white\"}, \"x\": {\"axis\": null, \"field\": \"class\", \"type\": \"ordinal\"}, \"y\": {\"axis\": {\"title\": \"Unique Addresses\"}, \"field\": \"count\", \"type\": \"quantitative\"}}, \"height\": 200, \"selection\": {\"selector001\": {\"type\": \"single\", \"encodings\": [\"x\"], \"nearest\": true, \"on\": \"mouseover\", \"empty\": \"none\", \"clear\": \"mouseout\"}}, \"title\": \"Count Addresses by Classification\", \"width\": 400}, {\"mark\": {\"type\": \"text\", \"color\": \"black\", \"dy\": -10}, \"encoding\": {\"color\": {\"value\": \"black\"}, \"stroke\": {\"value\": \"black\"}, \"strokeWidth\": {\"condition\": {\"value\": 0.6, \"selection\": \"selector001\"}, \"value\": 0}, \"text\": {\"field\": \"count\", \"format\": \",d\", \"type\": \"quantitative\"}, \"x\": {\"axis\": null, \"field\": \"class\", \"type\": \"ordinal\"}, \"y\": {\"axis\": {\"title\": \"Unique Addresses\"}, \"field\": \"count\", \"type\": \"quantitative\"}}, \"height\": 200, \"title\": \"Count Addresses by Classification\", \"width\": 400}], \"data\": {\"name\": \"data-73654dc453cfd4a5bc02df8b5bdb64e8\"}}, {\"layer\": [{\"mark\": \"bar\", \"encoding\": {\"color\": {\"field\": \"class\", \"legend\": null, \"scale\": {\"domain\": [\"001.1 - 10,000 pods\", \"002.10,000 - 50,000 pods\", \"003.50,000 - 100,000 pods\", \"004.100,000 - 250,000 pods\", \"005.250,000 - 500,000 pods\", \"006.500,000 - 1,000,000 pods\", \"007.1,000,000 - 5,000,000 pods\", \"008.5,000,000 - 10,000,000 pods\", \"009.10,000,000 - 20,000,000 pods\", \"010.20,000,000+ pods\"], \"range\": [\"#1F77B4\", \"#AEC7E8\", \"#FF7F0E\", \"#FFBB78\", \"#2CA02C\", \"#98DF8A\", \"#D62728\", \"#FF9896\", \"#9467BD\", \"#C5B0D5\"]}, \"type\": \"ordinal\"}, \"stroke\": {\"condition\": {\"value\": \"black\", \"selection\": \"selector001\"}, \"value\": \"white\"}, \"x\": {\"axis\": {\"labelExpr\": \"split(datum.value, '.')[1]\", \"title\": \"Classification\"}, \"field\": \"class\", \"type\": \"ordinal\"}, \"y\": {\"axis\": {\"format\": \".2s\", \"title\": \"Pods\"}, \"field\": \"pods\", \"type\": \"quantitative\"}}, \"height\": 200, \"selection\": {\"selector001\": {\"type\": \"single\", \"encodings\": [\"x\"], \"nearest\": true, \"on\": \"mouseover\", \"empty\": \"none\", \"clear\": \"mouseout\"}}, \"title\": \"Cumulative Pods by Classification\", \"width\": 400}, {\"mark\": {\"type\": \"text\", \"color\": \"black\", \"dy\": -5}, \"encoding\": {\"stroke\": {\"value\": \"black\"}, \"strokeWidth\": {\"condition\": {\"value\": 0.6, \"selection\": \"selector001\"}, \"value\": 0}, \"text\": {\"field\": \"pods\", \"format\": \".3s\", \"type\": \"quantitative\"}, \"x\": {\"axis\": {\"labelExpr\": \"split(datum.value, '.')[1]\", \"title\": \"Classification\"}, \"field\": \"class\", \"type\": \"ordinal\"}, \"y\": {\"axis\": {\"format\": \".2s\", \"title\": \"Pods\"}, \"field\": \"pods\", \"type\": \"quantitative\"}}, \"height\": 200, \"title\": \"Cumulative Pods by Classification\", \"width\": 400}], \"data\": {\"name\": \"data-dc6169a96b4c32005b2661cad2473a83\"}}], \"$schema\": \"https://vega.github.io/schema/vega-lite/v4.17.0.json\", \"datasets\": {\"data-73654dc453cfd4a5bc02df8b5bdb64e8\": [{\"class\": \"001.1 - 10,000 pods\", \"count\": 452}, {\"class\": \"002.10,000 - 50,000 pods\", \"count\": 460}, {\"class\": \"003.50,000 - 100,000 pods\", \"count\": 226}, {\"class\": \"004.100,000 - 250,000 pods\", \"count\": 238}, {\"class\": \"005.250,000 - 500,000 pods\", \"count\": 121}, {\"class\": \"006.500,000 - 1,000,000 pods\", \"count\": 91}, {\"class\": \"007.1,000,000 - 5,000,000 pods\", \"count\": 112}, {\"class\": \"008.5,000,000 - 10,000,000 pods\", \"count\": 25}, {\"class\": \"009.10,000,000 - 20,000,000 pods\", \"count\": 12}, {\"class\": \"010.20,000,000+ pods\", \"count\": 3}], \"data-dc6169a96b4c32005b2661cad2473a83\": [{\"class\": \"001.1 - 10,000 pods\", \"pods\": 1545493.078716}, {\"class\": \"002.10,000 - 50,000 pods\", \"pods\": 11588991.084494}, {\"class\": \"003.50,000 - 100,000 pods\", \"pods\": 16746611.283242}, {\"class\": \"004.100,000 - 250,000 pods\", \"pods\": 37782858.792653}, {\"class\": \"005.250,000 - 500,000 pods\", \"pods\": 42407856.157707}, {\"class\": \"006.500,000 - 1,000,000 pods\", \"pods\": 63490645.727753}, {\"class\": \"007.1,000,000 - 5,000,000 pods\", \"pods\": 244502710.409754}, {\"class\": \"008.5,000,000 - 10,000,000 pods\", \"pods\": 166563966.975271}, {\"class\": \"009.10,000,000 - 20,000,000 pods\", \"pods\": 164047785.741249}, {\"class\": \"010.20,000,000+ pods\", \"pods\": 80760216.557949}]}}, {\"mode\": \"vega-lite\"});\n",
       "</script>"
      ],
      "text/plain": [
       "alt.VConcatChart(...)"
      ]
     },
     "execution_count": 5,
     "metadata": {},
     "output_type": "execute_result"
    }
   ],
   "source": [
    "breakpoints = [\n",
    "    1, 1e4, 5e4, 1e5, 2.5e5, 5e5, 1e6, 5e6, 1e7, 2e7, float(\"inf\") \n",
    "]\n",
    "c = chart_bin_count_value_aggregate(df_plots, \"pods\", breakpoints)\n",
    "c"
   ]
  },
  {
   "cell_type": "code",
   "execution_count": 6,
   "id": "d6752862",
   "metadata": {},
   "outputs": [
    {
     "data": {
      "application/json": {
       "css": null,
       "spec": {
        "$schema": "https://vega.github.io/schema/vega-lite/v4.17.0.json",
        "config": {
         "view": {
          "continuousHeight": 300,
          "continuousWidth": 400
         }
        },
        "datasets": {
         "data-73654dc453cfd4a5bc02df8b5bdb64e8": [
          {
           "class": "001.1 - 10,000 pods",
           "count": 452
          },
          {
           "class": "002.10,000 - 50,000 pods",
           "count": 460
          },
          {
           "class": "003.50,000 - 100,000 pods",
           "count": 226
          },
          {
           "class": "004.100,000 - 250,000 pods",
           "count": 238
          },
          {
           "class": "005.250,000 - 500,000 pods",
           "count": 121
          },
          {
           "class": "006.500,000 - 1,000,000 pods",
           "count": 91
          },
          {
           "class": "007.1,000,000 - 5,000,000 pods",
           "count": 112
          },
          {
           "class": "008.5,000,000 - 10,000,000 pods",
           "count": 25
          },
          {
           "class": "009.10,000,000 - 20,000,000 pods",
           "count": 12
          },
          {
           "class": "010.20,000,000+ pods",
           "count": 3
          }
         ],
         "data-dc6169a96b4c32005b2661cad2473a83": [
          {
           "class": "001.1 - 10,000 pods",
           "pods": 1545493.078716
          },
          {
           "class": "002.10,000 - 50,000 pods",
           "pods": 11588991.084494
          },
          {
           "class": "003.50,000 - 100,000 pods",
           "pods": 16746611.283242
          },
          {
           "class": "004.100,000 - 250,000 pods",
           "pods": 37782858.792653
          },
          {
           "class": "005.250,000 - 500,000 pods",
           "pods": 42407856.157707
          },
          {
           "class": "006.500,000 - 1,000,000 pods",
           "pods": 63490645.727753
          },
          {
           "class": "007.1,000,000 - 5,000,000 pods",
           "pods": 244502710.409754
          },
          {
           "class": "008.5,000,000 - 10,000,000 pods",
           "pods": 166563966.975271
          },
          {
           "class": "009.10,000,000 - 20,000,000 pods",
           "pods": 164047785.741249
          },
          {
           "class": "010.20,000,000+ pods",
           "pods": 80760216.557949
          }
         ]
        },
        "vconcat": [
         {
          "data": {
           "name": "data-73654dc453cfd4a5bc02df8b5bdb64e8"
          },
          "layer": [
           {
            "encoding": {
             "color": {
              "field": "class",
              "legend": null,
              "scale": {
               "domain": [
                "001.1 - 10,000 pods",
                "002.10,000 - 50,000 pods",
                "003.50,000 - 100,000 pods",
                "004.100,000 - 250,000 pods",
                "005.250,000 - 500,000 pods",
                "006.500,000 - 1,000,000 pods",
                "007.1,000,000 - 5,000,000 pods",
                "008.5,000,000 - 10,000,000 pods",
                "009.10,000,000 - 20,000,000 pods",
                "010.20,000,000+ pods"
               ],
               "range": [
                "#1F77B4",
                "#AEC7E8",
                "#FF7F0E",
                "#FFBB78",
                "#2CA02C",
                "#98DF8A",
                "#D62728",
                "#FF9896",
                "#9467BD",
                "#C5B0D5"
               ]
              },
              "type": "ordinal"
             },
             "stroke": {
              "condition": {
               "selection": "selector001",
               "value": "black"
              },
              "value": "white"
             },
             "x": {
              "axis": null,
              "field": "class",
              "type": "ordinal"
             },
             "y": {
              "axis": {
               "title": "Unique Addresses"
              },
              "field": "count",
              "type": "quantitative"
             }
            },
            "height": 200,
            "mark": "bar",
            "selection": {
             "selector001": {
              "clear": "mouseout",
              "empty": "none",
              "encodings": [
               "x"
              ],
              "nearest": true,
              "on": "mouseover",
              "type": "single"
             }
            },
            "title": "Count Addresses by Classification",
            "width": 400
           },
           {
            "encoding": {
             "color": {
              "value": "black"
             },
             "stroke": {
              "value": "black"
             },
             "strokeWidth": {
              "condition": {
               "selection": "selector001",
               "value": 0.6
              },
              "value": 0
             },
             "text": {
              "field": "count",
              "format": ",d",
              "type": "quantitative"
             },
             "x": {
              "axis": null,
              "field": "class",
              "type": "ordinal"
             },
             "y": {
              "axis": {
               "title": "Unique Addresses"
              },
              "field": "count",
              "type": "quantitative"
             }
            },
            "height": 200,
            "mark": {
             "color": "black",
             "dy": -10,
             "type": "text"
            },
            "title": "Count Addresses by Classification",
            "width": 400
           }
          ]
         },
         {
          "data": {
           "name": "data-dc6169a96b4c32005b2661cad2473a83"
          },
          "layer": [
           {
            "encoding": {
             "color": {
              "field": "class",
              "legend": null,
              "scale": {
               "domain": [
                "001.1 - 10,000 pods",
                "002.10,000 - 50,000 pods",
                "003.50,000 - 100,000 pods",
                "004.100,000 - 250,000 pods",
                "005.250,000 - 500,000 pods",
                "006.500,000 - 1,000,000 pods",
                "007.1,000,000 - 5,000,000 pods",
                "008.5,000,000 - 10,000,000 pods",
                "009.10,000,000 - 20,000,000 pods",
                "010.20,000,000+ pods"
               ],
               "range": [
                "#1F77B4",
                "#AEC7E8",
                "#FF7F0E",
                "#FFBB78",
                "#2CA02C",
                "#98DF8A",
                "#D62728",
                "#FF9896",
                "#9467BD",
                "#C5B0D5"
               ]
              },
              "type": "ordinal"
             },
             "stroke": {
              "condition": {
               "selection": "selector001",
               "value": "black"
              },
              "value": "white"
             },
             "x": {
              "axis": {
               "labelExpr": "split(datum.value, '.')[1]",
               "title": "Classification"
              },
              "field": "class",
              "type": "ordinal"
             },
             "y": {
              "axis": {
               "format": ".2s",
               "title": "Pods"
              },
              "field": "pods",
              "type": "quantitative"
             }
            },
            "height": 200,
            "mark": "bar",
            "selection": {
             "selector001": {
              "clear": "mouseout",
              "empty": "none",
              "encodings": [
               "x"
              ],
              "nearest": true,
              "on": "mouseover",
              "type": "single"
             }
            },
            "title": "Cumulative Pods by Classification",
            "width": 400
           },
           {
            "encoding": {
             "stroke": {
              "value": "black"
             },
             "strokeWidth": {
              "condition": {
               "selection": "selector001",
               "value": 0.6
              },
              "value": 0
             },
             "text": {
              "field": "pods",
              "format": ".3s",
              "type": "quantitative"
             },
             "x": {
              "axis": {
               "labelExpr": "split(datum.value, '.')[1]",
               "title": "Classification"
              },
              "field": "class",
              "type": "ordinal"
             },
             "y": {
              "axis": {
               "format": ".2s",
               "title": "Pods"
              },
              "field": "pods",
              "type": "quantitative"
             }
            },
            "height": 200,
            "mark": {
             "color": "black",
             "dy": -5,
             "type": "text"
            },
            "title": "Cumulative Pods by Classification",
            "width": 400
           }
          ]
         }
        ]
       },
       "width_paths": [
        {
         "factor": 1,
         "path": [
          "config",
          "view",
          "continuousWidth"
         ],
         "value": 400
        },
        {
         "factor": 1,
         "path": [
          "vconcat",
          0,
          "layer",
          0,
          "width"
         ],
         "value": 400
        },
        {
         "factor": 1,
         "path": [
          "vconcat",
          0,
          "layer",
          1,
          "width"
         ],
         "value": 400
        },
        {
         "factor": 1,
         "path": [
          "vconcat",
          1,
          "layer",
          0,
          "width"
         ],
         "value": 400
        },
        {
         "factor": 1,
         "path": [
          "vconcat",
          1,
          "layer",
          1,
          "width"
         ],
         "value": 400
        }
       ]
      },
      "text/plain": [
       "<IPython.core.display.JSON object>"
      ]
     },
     "execution_count": 6,
     "metadata": {
      "application/json": {
       "expanded": false,
       "root": "root"
      }
     },
     "output_type": "execute_result"
    }
   ],
   "source": [
    "output_chart(c)"
   ]
  },
  {
   "cell_type": "code",
   "execution_count": null,
   "id": "2b85c342",
   "metadata": {},
   "outputs": [],
   "source": []
  }
 ],
 "metadata": {
  "kernelspec": {
   "display_name": "beanstalk",
   "language": "python",
   "name": "beanstalk"
  },
  "language_info": {
   "codemirror_mode": {
    "name": "ipython",
    "version": 3
   },
   "file_extension": ".py",
   "mimetype": "text/x-python",
   "name": "python",
   "nbconvert_exporter": "python",
   "pygments_lexer": "ipython3",
   "version": "3.10.5"
  }
 },
 "nbformat": 4,
 "nbformat_minor": 5
}
