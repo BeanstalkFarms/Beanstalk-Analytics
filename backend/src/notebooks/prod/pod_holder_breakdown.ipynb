{
 "cells": [
  {
   "cell_type": "code",
   "execution_count": 1,
   "id": "bb524f98-4f94-476c-b760-7d5dbae7938d",
   "metadata": {},
   "outputs": [
    {
     "name": "stdout",
     "output_type": "stream",
     "text": [
      "https://api.thegraph.com/subgraphs/name/cujowolf/beanstalk\n"
     ]
    }
   ],
   "source": [
    "import os \n",
    "import sys \n",
    "import json \n",
    "import logging \n",
    "from pathlib import Path \n",
    "from functools import cache\n",
    "from itertools import product\n",
    "\n",
    "# Required when developing in a jupyter-notebook environment \n",
    "cur_path = os.path.abspath(\"../..\")\n",
    "if cur_path not in sys.path: \n",
    "    sys.path.append(cur_path)\n",
    "\n",
    "import numpy as np \n",
    "import pandas as pd \n",
    "import altair as alt \n",
    "from altair import datum\n",
    "from palettable.scientific.sequential import Batlow_5\n",
    "from palettable.tableau import Tableau_10\n",
    "from dotenv import load_dotenv\n",
    "from subgrounds.subgrounds import Subgrounds, Subgraph\n",
    "from subgrounds.subgraph import SyntheticField\n",
    "from subgrounds.pagination import ShallowStrategy\n",
    "\n",
    "# Required when developing in a jupyter-notebook environment \n",
    "load_dotenv('../../../../.env')\n",
    "\n",
    "print(os.environ['SUBGRAPH_URL'])\n",
    "# logging.basicConfig(level=logging.DEBUG)\n",
    "\n",
    "from utils_notebook.utils import ddf, remove_prefix, load_subgraph, remove_keys\n",
    "from utils_notebook.vega import (\n",
    "    output_chart, \n",
    "    apply_css, \n",
    "    wide_to_longwide, \n",
    "    chart, \n",
    ")\n",
    "from utils_notebook.testing import validate_season_series\n",
    "from utils_notebook.constants import ADDR_BEANSTALK\n",
    "from utils_notebook.queries import QueryManager\n",
    "from utils_notebook.css import css_tooltip_timeseries_multi_colored"
   ]
  },
  {
   "cell_type": "code",
   "execution_count": 2,
   "id": "4dda51ef-cb6a-4692-9bad-6ea39ab9c6fe",
   "metadata": {},
   "outputs": [],
   "source": [
    "sg, bs = load_subgraph()\n",
    "q = QueryManager(sg, bs) "
   ]
  },
  {
   "cell_type": "code",
   "execution_count": 3,
   "id": "f5823889",
   "metadata": {},
   "outputs": [],
   "source": [
    "plots = bs.Query.plots(first=100000)\n",
    "df_plots = sg.query_df([\n",
    "    plots.pods, \n",
    "    plots.farmer.id\n",
    "])\n",
    "df_plots = remove_prefix(df_plots, \"plots_\")"
   ]
  },
  {
   "cell_type": "code",
   "execution_count": 4,
   "id": "5ed810c4",
   "metadata": {},
   "outputs": [
    {
     "data": {
      "text/html": [
       "<div>\n",
       "<style scoped>\n",
       "    .dataframe tbody tr th:only-of-type {\n",
       "        vertical-align: middle;\n",
       "    }\n",
       "\n",
       "    .dataframe tbody tr th {\n",
       "        vertical-align: top;\n",
       "    }\n",
       "\n",
       "    .dataframe thead th {\n",
       "        text-align: right;\n",
       "    }\n",
       "</style>\n",
       "<table border=\"1\" class=\"dataframe\">\n",
       "  <thead>\n",
       "    <tr style=\"text-align: right;\">\n",
       "      <th></th>\n",
       "      <th>pods</th>\n",
       "      <th>address</th>\n",
       "    </tr>\n",
       "  </thead>\n",
       "  <tbody>\n",
       "    <tr>\n",
       "      <th>0</th>\n",
       "      <td>4828.325653</td>\n",
       "      <td>0x61e413de4a40b8d03ca2f18026980e885ae2b345</td>\n",
       "    </tr>\n",
       "    <tr>\n",
       "      <th>1</th>\n",
       "      <td>1007.244059</td>\n",
       "      <td>0xacc53f19851ce116d52b730aee8772f7bd568821</td>\n",
       "    </tr>\n",
       "    <tr>\n",
       "      <th>2</th>\n",
       "      <td>29922.479411</td>\n",
       "      <td>0xb66924a7a23e22a87ac555c950019385a3438951</td>\n",
       "    </tr>\n",
       "    <tr>\n",
       "      <th>3</th>\n",
       "      <td>9549.919578</td>\n",
       "      <td>0xd3c1e750b5664170f4af828145295b678bafd460</td>\n",
       "    </tr>\n",
       "    <tr>\n",
       "      <th>4</th>\n",
       "      <td>77102.185528</td>\n",
       "      <td>0xa33be425a086db8899c33a357d5ad53ca3a6046e</td>\n",
       "    </tr>\n",
       "  </tbody>\n",
       "</table>\n",
       "</div>"
      ],
      "text/plain": [
       "           pods                                     address\n",
       "0   4828.325653  0x61e413de4a40b8d03ca2f18026980e885ae2b345\n",
       "1   1007.244059  0xacc53f19851ce116d52b730aee8772f7bd568821\n",
       "2  29922.479411  0xb66924a7a23e22a87ac555c950019385a3438951\n",
       "3   9549.919578  0xd3c1e750b5664170f4af828145295b678bafd460\n",
       "4  77102.185528  0xa33be425a086db8899c33a357d5ad53ca3a6046e"
      ]
     },
     "execution_count": 4,
     "metadata": {},
     "output_type": "execute_result"
    }
   ],
   "source": [
    "df_plots.pods /= 1e6 \n",
    "df_plots = df_plots.rename(columns={\"farmer_id\": \"address\"})\n",
    "df_plots.head()"
   ]
  },
  {
   "cell_type": "code",
   "execution_count": 18,
   "id": "19a0bd2a-15e2-4e6c-925b-91a138d3d7f8",
   "metadata": {},
   "outputs": [
    {
     "data": {
      "text/html": [
       "<div>\n",
       "<style scoped>\n",
       "    .dataframe tbody tr th:only-of-type {\n",
       "        vertical-align: middle;\n",
       "    }\n",
       "\n",
       "    .dataframe tbody tr th {\n",
       "        vertical-align: top;\n",
       "    }\n",
       "\n",
       "    .dataframe thead th {\n",
       "        text-align: right;\n",
       "    }\n",
       "</style>\n",
       "<table border=\"1\" class=\"dataframe\">\n",
       "  <thead>\n",
       "    <tr style=\"text-align: right;\">\n",
       "      <th></th>\n",
       "      <th>address</th>\n",
       "      <th>pods</th>\n",
       "      <th>class</th>\n",
       "      <th>order</th>\n",
       "    </tr>\n",
       "  </thead>\n",
       "  <tbody>\n",
       "    <tr>\n",
       "      <th>1764</th>\n",
       "      <td>0x735cab9b02fd153174763958ffb4e0a971dd7f29</td>\n",
       "      <td>1.830195e+07</td>\n",
       "      <td>10,000,000 - 20,000,000 pods</td>\n",
       "      <td>9.0</td>\n",
       "    </tr>\n",
       "    <tr>\n",
       "      <th>1765</th>\n",
       "      <td>0xd79e92124a020410c238b23fb93c95b2922d0b9e</td>\n",
       "      <td>1.879058e+07</td>\n",
       "      <td>10,000,000 - 20,000,000 pods</td>\n",
       "      <td>9.0</td>\n",
       "    </tr>\n",
       "    <tr>\n",
       "      <th>1766</th>\n",
       "      <td>0x9f791ae2160f4ec6d9c8986c40da9b99c3a5f2fe</td>\n",
       "      <td>2.073465e+07</td>\n",
       "      <td>20,000,000+ pods</td>\n",
       "      <td>10.0</td>\n",
       "    </tr>\n",
       "    <tr>\n",
       "      <th>1767</th>\n",
       "      <td>0x87c9e571ae1657b19030eee27506c5d7e66ac29e</td>\n",
       "      <td>2.322707e+07</td>\n",
       "      <td>20,000,000+ pods</td>\n",
       "      <td>10.0</td>\n",
       "    </tr>\n",
       "    <tr>\n",
       "      <th>1768</th>\n",
       "      <td>0x9a00beffa3fc064104b71f6b7ea93babdc44d9da</td>\n",
       "      <td>3.679850e+07</td>\n",
       "      <td>20,000,000+ pods</td>\n",
       "      <td>10.0</td>\n",
       "    </tr>\n",
       "  </tbody>\n",
       "</table>\n",
       "</div>"
      ],
      "text/plain": [
       "                                         address          pods  \\\n",
       "1764  0x735cab9b02fd153174763958ffb4e0a971dd7f29  1.830195e+07   \n",
       "1765  0xd79e92124a020410c238b23fb93c95b2922d0b9e  1.879058e+07   \n",
       "1766  0x9f791ae2160f4ec6d9c8986c40da9b99c3a5f2fe  2.073465e+07   \n",
       "1767  0x87c9e571ae1657b19030eee27506c5d7e66ac29e  2.322707e+07   \n",
       "1768  0x9a00beffa3fc064104b71f6b7ea93babdc44d9da  3.679850e+07   \n",
       "\n",
       "                             class  order  \n",
       "1764  10,000,000 - 20,000,000 pods    9.0  \n",
       "1765  10,000,000 - 20,000,000 pods    9.0  \n",
       "1766              20,000,000+ pods   10.0  \n",
       "1767              20,000,000+ pods   10.0  \n",
       "1768              20,000,000+ pods   10.0  "
      ]
     },
     "execution_count": 18,
     "metadata": {},
     "output_type": "execute_result"
    }
   ],
   "source": [
    "from functools import partial \n",
    "\n",
    "breakpoints = [\n",
    "    1, 1e4, 5e4, 1e5, 2.5e5, 5e5, 1e6, 5e6, 1e7, 2e7, float(\"inf\") \n",
    "]\n",
    "\n",
    "def classify(order, pods):\n",
    "    for i in range(1, len(breakpoints)):\n",
    "        b0 = breakpoints[i-1] \n",
    "        b1 = breakpoints[i]\n",
    "        if b0 <= pods < b1: \n",
    "            if order: \n",
    "                return i \n",
    "            else: \n",
    "                if b1 == float('inf'): \n",
    "                    return f\"{int(b0):,}+ pods\"\n",
    "                else: \n",
    "                    return f\"{int(b0):,} - {int(b1):,} pods\"\n",
    "            \n",
    "df_class_order = pd.DataFrame(data=[\n",
    "    {'class': classify(False, breakpoints[i]), 'order': i}   \n",
    "    for i in range(len(breakpoints))\n",
    "]) \n",
    "df = df_plots.groupby(by=\"address\").sum().reset_index()\n",
    "df['class'] = df.pods.apply(partial(classify, False))\n",
    "df['order'] = df.pods.apply(partial(classify, True))\n",
    "df = df.sort_values('pods').reset_index(drop=True)\n",
    "df = df.dropna(subset=\"class\")\n",
    "df.tail()"
   ]
  },
  {
   "cell_type": "code",
   "execution_count": 19,
   "id": "3724acbd-2f44-4aae-86e7-a53930c8c9f2",
   "metadata": {},
   "outputs": [
    {
     "data": {
      "text/html": [
       "<div>\n",
       "<style scoped>\n",
       "    .dataframe tbody tr th:only-of-type {\n",
       "        vertical-align: middle;\n",
       "    }\n",
       "\n",
       "    .dataframe tbody tr th {\n",
       "        vertical-align: top;\n",
       "    }\n",
       "\n",
       "    .dataframe thead th {\n",
       "        text-align: right;\n",
       "    }\n",
       "</style>\n",
       "<table border=\"1\" class=\"dataframe\">\n",
       "  <thead>\n",
       "    <tr style=\"text-align: right;\">\n",
       "      <th></th>\n",
       "      <th>class</th>\n",
       "      <th>count</th>\n",
       "      <th>order</th>\n",
       "    </tr>\n",
       "  </thead>\n",
       "  <tbody>\n",
       "    <tr>\n",
       "      <th>0</th>\n",
       "      <td>1 - 10,000 pods</td>\n",
       "      <td>452</td>\n",
       "      <td>0</td>\n",
       "    </tr>\n",
       "    <tr>\n",
       "      <th>1</th>\n",
       "      <td>1,000,000 - 5,000,000 pods</td>\n",
       "      <td>112</td>\n",
       "      <td>6</td>\n",
       "    </tr>\n",
       "    <tr>\n",
       "      <th>2</th>\n",
       "      <td>10,000 - 50,000 pods</td>\n",
       "      <td>460</td>\n",
       "      <td>1</td>\n",
       "    </tr>\n",
       "    <tr>\n",
       "      <th>3</th>\n",
       "      <td>10,000,000 - 20,000,000 pods</td>\n",
       "      <td>12</td>\n",
       "      <td>8</td>\n",
       "    </tr>\n",
       "    <tr>\n",
       "      <th>4</th>\n",
       "      <td>100,000 - 250,000 pods</td>\n",
       "      <td>238</td>\n",
       "      <td>3</td>\n",
       "    </tr>\n",
       "  </tbody>\n",
       "</table>\n",
       "</div>"
      ],
      "text/plain": [
       "                          class  count  order\n",
       "0               1 - 10,000 pods    452      0\n",
       "1    1,000,000 - 5,000,000 pods    112      6\n",
       "2          10,000 - 50,000 pods    460      1\n",
       "3  10,000,000 - 20,000,000 pods     12      8\n",
       "4        100,000 - 250,000 pods    238      3"
      ]
     },
     "execution_count": 19,
     "metadata": {},
     "output_type": "execute_result"
    }
   ],
   "source": [
    "# Get the count of pod holders by classification \n",
    "df_count_class = (\n",
    "    df[['class', 'pods']]\n",
    "    .groupby('class').count()\n",
    "    .reset_index()\n",
    "    .merge(df_class_order, how=\"left\", on=\"class\")\n",
    "    .rename(columns={\"pods\": \"count\"})\n",
    ")\n",
    "# Sum value held by each class of holders \n",
    "df_class_value = (\n",
    "    df[['class', 'pods']]\n",
    "    .groupby('class').sum()\n",
    "    .reset_index()\n",
    "    .merge(df_class_order, how=\"left\", on=\"class\")\n",
    ")\n",
    "color_domain = list(sorted(df_count_class['class'].unique()))\n",
    "color_range = [Tableau_10.hex_colors[i] for i in range(len(color_domain))]\n",
    "df_count_class.head()"
   ]
  },
  {
   "cell_type": "code",
   "execution_count": 35,
   "id": "013a35a6-f244-4bf6-b525-35b1970dfd20",
   "metadata": {},
   "outputs": [
    {
     "data": {
      "text/html": [
       "\n",
       "<div id=\"altair-viz-de64bddfb5f84c58a8d291bc8027cc37\"></div>\n",
       "<script type=\"text/javascript\">\n",
       "  var VEGA_DEBUG = (typeof VEGA_DEBUG == \"undefined\") ? {} : VEGA_DEBUG;\n",
       "  (function(spec, embedOpt){\n",
       "    let outputDiv = document.currentScript.previousElementSibling;\n",
       "    if (outputDiv.id !== \"altair-viz-de64bddfb5f84c58a8d291bc8027cc37\") {\n",
       "      outputDiv = document.getElementById(\"altair-viz-de64bddfb5f84c58a8d291bc8027cc37\");\n",
       "    }\n",
       "    const paths = {\n",
       "      \"vega\": \"https://cdn.jsdelivr.net/npm//vega@5?noext\",\n",
       "      \"vega-lib\": \"https://cdn.jsdelivr.net/npm//vega-lib?noext\",\n",
       "      \"vega-lite\": \"https://cdn.jsdelivr.net/npm//vega-lite@4.17.0?noext\",\n",
       "      \"vega-embed\": \"https://cdn.jsdelivr.net/npm//vega-embed@6?noext\",\n",
       "    };\n",
       "\n",
       "    function maybeLoadScript(lib, version) {\n",
       "      var key = `${lib.replace(\"-\", \"\")}_version`;\n",
       "      return (VEGA_DEBUG[key] == version) ?\n",
       "        Promise.resolve(paths[lib]) :\n",
       "        new Promise(function(resolve, reject) {\n",
       "          var s = document.createElement('script');\n",
       "          document.getElementsByTagName(\"head\")[0].appendChild(s);\n",
       "          s.async = true;\n",
       "          s.onload = () => {\n",
       "            VEGA_DEBUG[key] = version;\n",
       "            return resolve(paths[lib]);\n",
       "          };\n",
       "          s.onerror = () => reject(`Error loading script: ${paths[lib]}`);\n",
       "          s.src = paths[lib];\n",
       "        });\n",
       "    }\n",
       "\n",
       "    function showError(err) {\n",
       "      outputDiv.innerHTML = `<div class=\"error\" style=\"color:red;\">${err}</div>`;\n",
       "      throw err;\n",
       "    }\n",
       "\n",
       "    function displayChart(vegaEmbed) {\n",
       "      vegaEmbed(outputDiv, spec, embedOpt)\n",
       "        .catch(err => showError(`Javascript Error: ${err.message}<br>This usually means there's a typo in your chart specification. See the javascript console for the full traceback.`));\n",
       "    }\n",
       "\n",
       "    if(typeof define === \"function\" && define.amd) {\n",
       "      requirejs.config({paths});\n",
       "      require([\"vega-embed\"], displayChart, err => showError(`Error loading script: ${err.message}`));\n",
       "    } else {\n",
       "      maybeLoadScript(\"vega\", \"5\")\n",
       "        .then(() => maybeLoadScript(\"vega-lite\", \"4.17.0\"))\n",
       "        .then(() => maybeLoadScript(\"vega-embed\", \"6\"))\n",
       "        .catch(showError)\n",
       "        .then(() => displayChart(vegaEmbed));\n",
       "    }\n",
       "  })({\"config\": {\"view\": {\"continuousWidth\": 400, \"continuousHeight\": 300}}, \"hconcat\": [{\"layer\": [{\"mark\": \"bar\", \"encoding\": {\"color\": {\"field\": \"class\", \"legend\": null, \"scale\": {\"domain\": [\"1 - 10,000 pods\", \"1,000,000 - 5,000,000 pods\", \"10,000 - 50,000 pods\", \"10,000,000 - 20,000,000 pods\", \"100,000 - 250,000 pods\", \"20,000,000+ pods\", \"250,000 - 500,000 pods\", \"5,000,000 - 10,000,000 pods\", \"50,000 - 100,000 pods\", \"500,000 - 1,000,000 pods\"], \"range\": [\"#1F77B4\", \"#FF7F0E\", \"#2CA02C\", \"#D62728\", \"#9467BD\", \"#8C564B\", \"#E377C2\", \"#7F7F7F\", \"#BCBD22\", \"#17BECF\"]}, \"type\": \"ordinal\"}, \"stroke\": {\"condition\": {\"value\": \"black\", \"selection\": \"selector015\"}, \"value\": \"white\"}, \"x\": {\"axis\": {\"title\": \"Classification\"}, \"field\": \"class\", \"sort\": {\"field\": \"order\"}, \"type\": \"ordinal\"}, \"y\": {\"axis\": {\"title\": \"Unique Addresses\"}, \"field\": \"count\", \"type\": \"quantitative\"}}, \"selection\": {\"selector015\": {\"type\": \"single\", \"encodings\": [\"x\"], \"nearest\": true, \"on\": \"mouseover\", \"empty\": \"none\", \"clear\": \"mouseout\"}}, \"title\": \"Count of Holders by Pods Held Classification\", \"width\": 500}, {\"mark\": {\"type\": \"text\", \"color\": \"black\", \"dy\": -10}, \"encoding\": {\"stroke\": {\"value\": \"black\"}, \"strokeWidth\": {\"condition\": {\"value\": 0.6, \"selection\": \"selector015\"}, \"value\": 0}, \"text\": {\"field\": \"count\", \"format\": \",d\", \"type\": \"quantitative\"}, \"x\": {\"axis\": {\"title\": \"Classification\"}, \"field\": \"class\", \"sort\": {\"field\": \"order\"}, \"type\": \"ordinal\"}, \"y\": {\"axis\": {\"title\": \"Unique Addresses\"}, \"field\": \"count\", \"type\": \"quantitative\"}}, \"title\": \"Count of Holders by Pods Held Classification\", \"width\": 500}], \"data\": {\"name\": \"data-a0f7f66f6544efa89707afcbb8aabf60\"}}, {\"layer\": [{\"mark\": \"bar\", \"encoding\": {\"color\": {\"field\": \"class\", \"legend\": null, \"scale\": {\"domain\": [\"1 - 10,000 pods\", \"1,000,000 - 5,000,000 pods\", \"10,000 - 50,000 pods\", \"10,000,000 - 20,000,000 pods\", \"100,000 - 250,000 pods\", \"20,000,000+ pods\", \"250,000 - 500,000 pods\", \"5,000,000 - 10,000,000 pods\", \"50,000 - 100,000 pods\", \"500,000 - 1,000,000 pods\"], \"range\": [\"#1F77B4\", \"#FF7F0E\", \"#2CA02C\", \"#D62728\", \"#9467BD\", \"#8C564B\", \"#E377C2\", \"#7F7F7F\", \"#BCBD22\", \"#17BECF\"]}, \"type\": \"ordinal\"}, \"stroke\": {\"condition\": {\"value\": \"black\", \"selection\": \"selector015\"}, \"value\": \"white\"}, \"x\": {\"axis\": {\"title\": \"Classification\"}, \"field\": \"class\", \"sort\": {\"field\": \"order\"}, \"type\": \"ordinal\"}, \"y\": {\"axis\": {\"title\": \"Pods\"}, \"field\": \"pods\", \"type\": \"quantitative\"}}, \"selection\": {\"selector015\": {\"type\": \"single\", \"encodings\": [\"x\"], \"nearest\": true, \"on\": \"mouseover\", \"empty\": \"none\", \"clear\": \"mouseout\"}}, \"title\": \"Cumulative Pods by Pods Held Classification\", \"width\": 500}, {\"mark\": {\"type\": \"text\", \"color\": \"black\", \"dy\": -10}, \"encoding\": {\"stroke\": {\"value\": \"black\"}, \"strokeWidth\": {\"condition\": {\"value\": 0.6, \"selection\": \"selector015\"}, \"value\": 0}, \"text\": {\"field\": \"pods\", \"format\": \".3s\", \"type\": \"quantitative\"}, \"x\": {\"axis\": {\"title\": \"Classification\"}, \"field\": \"class\", \"sort\": {\"field\": \"order\"}, \"type\": \"ordinal\"}, \"y\": {\"axis\": {\"title\": \"Pods\"}, \"field\": \"pods\", \"type\": \"quantitative\"}}, \"title\": \"Cumulative Pods by Pods Held Classification\", \"width\": 500}], \"data\": {\"name\": \"data-0ab1031001ae6dd0817a354abcfa68ad\"}}], \"$schema\": \"https://vega.github.io/schema/vega-lite/v4.17.0.json\", \"datasets\": {\"data-a0f7f66f6544efa89707afcbb8aabf60\": [{\"class\": \"1 - 10,000 pods\", \"count\": 452, \"order\": 0}, {\"class\": \"1,000,000 - 5,000,000 pods\", \"count\": 112, \"order\": 6}, {\"class\": \"10,000 - 50,000 pods\", \"count\": 460, \"order\": 1}, {\"class\": \"10,000,000 - 20,000,000 pods\", \"count\": 12, \"order\": 8}, {\"class\": \"100,000 - 250,000 pods\", \"count\": 238, \"order\": 3}, {\"class\": \"20,000,000+ pods\", \"count\": 3, \"order\": 9}, {\"class\": \"250,000 - 500,000 pods\", \"count\": 121, \"order\": 4}, {\"class\": \"5,000,000 - 10,000,000 pods\", \"count\": 25, \"order\": 7}, {\"class\": \"50,000 - 100,000 pods\", \"count\": 226, \"order\": 2}, {\"class\": \"500,000 - 1,000,000 pods\", \"count\": 91, \"order\": 5}], \"data-0ab1031001ae6dd0817a354abcfa68ad\": [{\"class\": \"1 - 10,000 pods\", \"pods\": 1543125.0130409999, \"order\": 0}, {\"class\": \"1,000,000 - 5,000,000 pods\", \"pods\": 244502595.684682, \"order\": 6}, {\"class\": \"10,000 - 50,000 pods\", \"pods\": 11594156.998168, \"order\": 1}, {\"class\": \"10,000,000 - 20,000,000 pods\", \"pods\": 164047785.741249, \"order\": 8}, {\"class\": \"100,000 - 250,000 pods\", \"pods\": 37776539.47272, \"order\": 3}, {\"class\": \"20,000,000+ pods\", \"pods\": 80760216.557949, \"order\": 9}, {\"class\": \"250,000 - 500,000 pods\", \"pods\": 42410224.223382, \"order\": 4}, {\"class\": \"5,000,000 - 10,000,000 pods\", \"pods\": 166563966.975271, \"order\": 7}, {\"class\": \"50,000 - 100,000 pods\", \"pods\": 16746611.283242, \"order\": 2}, {\"class\": \"500,000 - 1,000,000 pods\", \"pods\": 63488272.428028, \"order\": 5}]}}, {\"mode\": \"vega-lite\"});\n",
       "</script>"
      ],
      "text/plain": [
       "alt.HConcatChart(...)"
      ]
     },
     "execution_count": 35,
     "metadata": {},
     "output_type": "execute_result"
    }
   ],
   "source": [
    "width = 500 \n",
    "x = alt.X(\"class:O\", sort=alt.SortField(\"order\"), axis=alt.Axis(title=\"Classification\"))\n",
    "color = alt.Color(\n",
    "    \"class:O\", \n",
    "    legend=None, \n",
    "    scale=alt.Scale(domain=color_domain, range=color_range)\n",
    ")\n",
    "selection = alt.selection_single(\n",
    "    encodings=['x'], nearest=True, on='mouseover', empty='none', clear='mouseout'\n",
    ")\n",
    "\n",
    "# Chart count class \n",
    "base_count_class = (\n",
    "    alt.Chart(df_count_class, width=width, title=\"Count of Holders by Pods Held Classification\")\n",
    "    .mark_bar()\n",
    "    .encode(x=x, y=alt.Y(\"count:Q\", axis=alt.Axis(title=\"Unique Addresses\")))\n",
    ")\n",
    "chart_count_class_histogram = (\n",
    "    base_count_class\n",
    "    .encode(\n",
    "        color=color, \n",
    "        stroke=alt.condition(selection, alt.value(\"black\"), alt.value(\"white\"))\n",
    "    )\n",
    "    .mark_bar()\n",
    ")\n",
    "chart_count_class_text = (\n",
    "    base_count_class\n",
    "    .encode(\n",
    "        text=alt.Text(\"count:Q\", format=\",d\"),\n",
    "        stroke=alt.value(\"black\"), \n",
    "        strokeWidth=alt.condition(selection, alt.value(.6), alt.value(0)),\n",
    "    )\n",
    "    .mark_text(color='black', dy=-10)\n",
    ")\n",
    "\n",
    "# Chart class value \n",
    "base_class_value = (\n",
    "    alt.Chart(df_class_value, width=width, title=\"Cumulative Pods by Pods Held Classification\")\n",
    "    .mark_bar()\n",
    "    .encode(x=x, y=alt.Y(\"pods:Q\", axis=alt.Axis(title=\"Pods\")),)\n",
    ")\n",
    "chart_class_value_histogram = (\n",
    "    base_class_value\n",
    "    .encode(\n",
    "        color=color,\n",
    "        stroke=alt.condition(selection, alt.value(\"black\"), alt.value(\"white\")),\n",
    "    )\n",
    "    .mark_bar()\n",
    ")\n",
    "chart_class_value_text = (\n",
    "    base_class_value\n",
    "    .encode(\n",
    "        text=alt.Text(\"pods:Q\", format=\".3s\"),\n",
    "        stroke=alt.value(\"black\"), \n",
    "        strokeWidth=alt.condition(selection, alt.value(.6), alt.value(0)),\n",
    "    )\n",
    "    .mark_text(color='black', dy=-10)\n",
    ")\n",
    "\n",
    "c = (\n",
    "    alt.hconcat(\n",
    "        alt.layer(chart_count_class_histogram, chart_count_class_text).add_selection(selection), \n",
    "        alt.layer(chart_class_value_histogram, chart_class_value_text).add_selection(selection), \n",
    "    )\n",
    ")\n",
    "c"
   ]
  },
  {
   "cell_type": "code",
   "execution_count": 36,
   "id": "d6752862",
   "metadata": {},
   "outputs": [
    {
     "data": {
      "application/json": {
       "css": null,
       "spec": {
        "$schema": "https://vega.github.io/schema/vega-lite/v4.17.0.json",
        "config": {
         "view": {
          "continuousHeight": 300,
          "continuousWidth": 400
         }
        },
        "datasets": {
         "data-0ab1031001ae6dd0817a354abcfa68ad": [
          {
           "class": "1 - 10,000 pods",
           "order": 0,
           "pods": 1543125.0130409999
          },
          {
           "class": "1,000,000 - 5,000,000 pods",
           "order": 6,
           "pods": 244502595.684682
          },
          {
           "class": "10,000 - 50,000 pods",
           "order": 1,
           "pods": 11594156.998168
          },
          {
           "class": "10,000,000 - 20,000,000 pods",
           "order": 8,
           "pods": 164047785.741249
          },
          {
           "class": "100,000 - 250,000 pods",
           "order": 3,
           "pods": 37776539.47272
          },
          {
           "class": "20,000,000+ pods",
           "order": 9,
           "pods": 80760216.557949
          },
          {
           "class": "250,000 - 500,000 pods",
           "order": 4,
           "pods": 42410224.223382
          },
          {
           "class": "5,000,000 - 10,000,000 pods",
           "order": 7,
           "pods": 166563966.975271
          },
          {
           "class": "50,000 - 100,000 pods",
           "order": 2,
           "pods": 16746611.283242
          },
          {
           "class": "500,000 - 1,000,000 pods",
           "order": 5,
           "pods": 63488272.428028
          }
         ],
         "data-a0f7f66f6544efa89707afcbb8aabf60": [
          {
           "class": "1 - 10,000 pods",
           "count": 452,
           "order": 0
          },
          {
           "class": "1,000,000 - 5,000,000 pods",
           "count": 112,
           "order": 6
          },
          {
           "class": "10,000 - 50,000 pods",
           "count": 460,
           "order": 1
          },
          {
           "class": "10,000,000 - 20,000,000 pods",
           "count": 12,
           "order": 8
          },
          {
           "class": "100,000 - 250,000 pods",
           "count": 238,
           "order": 3
          },
          {
           "class": "20,000,000+ pods",
           "count": 3,
           "order": 9
          },
          {
           "class": "250,000 - 500,000 pods",
           "count": 121,
           "order": 4
          },
          {
           "class": "5,000,000 - 10,000,000 pods",
           "count": 25,
           "order": 7
          },
          {
           "class": "50,000 - 100,000 pods",
           "count": 226,
           "order": 2
          },
          {
           "class": "500,000 - 1,000,000 pods",
           "count": 91,
           "order": 5
          }
         ]
        },
        "hconcat": [
         {
          "data": {
           "name": "data-a0f7f66f6544efa89707afcbb8aabf60"
          },
          "layer": [
           {
            "encoding": {
             "color": {
              "field": "class",
              "legend": null,
              "scale": {
               "domain": [
                "1 - 10,000 pods",
                "1,000,000 - 5,000,000 pods",
                "10,000 - 50,000 pods",
                "10,000,000 - 20,000,000 pods",
                "100,000 - 250,000 pods",
                "20,000,000+ pods",
                "250,000 - 500,000 pods",
                "5,000,000 - 10,000,000 pods",
                "50,000 - 100,000 pods",
                "500,000 - 1,000,000 pods"
               ],
               "range": [
                "#1F77B4",
                "#FF7F0E",
                "#2CA02C",
                "#D62728",
                "#9467BD",
                "#8C564B",
                "#E377C2",
                "#7F7F7F",
                "#BCBD22",
                "#17BECF"
               ]
              },
              "type": "ordinal"
             },
             "stroke": {
              "condition": {
               "selection": "selector015",
               "value": "black"
              },
              "value": "white"
             },
             "x": {
              "axis": {
               "title": "Classification"
              },
              "field": "class",
              "sort": {
               "field": "order"
              },
              "type": "ordinal"
             },
             "y": {
              "axis": {
               "title": "Unique Addresses"
              },
              "field": "count",
              "type": "quantitative"
             }
            },
            "mark": "bar",
            "selection": {
             "selector015": {
              "clear": "mouseout",
              "empty": "none",
              "encodings": [
               "x"
              ],
              "nearest": true,
              "on": "mouseover",
              "type": "single"
             }
            },
            "title": "Count of Holders by Pods Held Classification",
            "width": 500
           },
           {
            "encoding": {
             "stroke": {
              "value": "black"
             },
             "strokeWidth": {
              "condition": {
               "selection": "selector015",
               "value": 0.6
              },
              "value": 0
             },
             "text": {
              "field": "count",
              "format": ",d",
              "type": "quantitative"
             },
             "x": {
              "axis": {
               "title": "Classification"
              },
              "field": "class",
              "sort": {
               "field": "order"
              },
              "type": "ordinal"
             },
             "y": {
              "axis": {
               "title": "Unique Addresses"
              },
              "field": "count",
              "type": "quantitative"
             }
            },
            "mark": {
             "color": "black",
             "dy": -10,
             "type": "text"
            },
            "title": "Count of Holders by Pods Held Classification",
            "width": 500
           }
          ]
         },
         {
          "data": {
           "name": "data-0ab1031001ae6dd0817a354abcfa68ad"
          },
          "layer": [
           {
            "encoding": {
             "color": {
              "field": "class",
              "legend": null,
              "scale": {
               "domain": [
                "1 - 10,000 pods",
                "1,000,000 - 5,000,000 pods",
                "10,000 - 50,000 pods",
                "10,000,000 - 20,000,000 pods",
                "100,000 - 250,000 pods",
                "20,000,000+ pods",
                "250,000 - 500,000 pods",
                "5,000,000 - 10,000,000 pods",
                "50,000 - 100,000 pods",
                "500,000 - 1,000,000 pods"
               ],
               "range": [
                "#1F77B4",
                "#FF7F0E",
                "#2CA02C",
                "#D62728",
                "#9467BD",
                "#8C564B",
                "#E377C2",
                "#7F7F7F",
                "#BCBD22",
                "#17BECF"
               ]
              },
              "type": "ordinal"
             },
             "stroke": {
              "condition": {
               "selection": "selector015",
               "value": "black"
              },
              "value": "white"
             },
             "x": {
              "axis": {
               "title": "Classification"
              },
              "field": "class",
              "sort": {
               "field": "order"
              },
              "type": "ordinal"
             },
             "y": {
              "axis": {
               "title": "Pods"
              },
              "field": "pods",
              "type": "quantitative"
             }
            },
            "mark": "bar",
            "selection": {
             "selector015": {
              "clear": "mouseout",
              "empty": "none",
              "encodings": [
               "x"
              ],
              "nearest": true,
              "on": "mouseover",
              "type": "single"
             }
            },
            "title": "Cumulative Pods by Pods Held Classification",
            "width": 500
           },
           {
            "encoding": {
             "stroke": {
              "value": "black"
             },
             "strokeWidth": {
              "condition": {
               "selection": "selector015",
               "value": 0.6
              },
              "value": 0
             },
             "text": {
              "field": "pods",
              "format": ".3s",
              "type": "quantitative"
             },
             "x": {
              "axis": {
               "title": "Classification"
              },
              "field": "class",
              "sort": {
               "field": "order"
              },
              "type": "ordinal"
             },
             "y": {
              "axis": {
               "title": "Pods"
              },
              "field": "pods",
              "type": "quantitative"
             }
            },
            "mark": {
             "color": "black",
             "dy": -10,
             "type": "text"
            },
            "title": "Cumulative Pods by Pods Held Classification",
            "width": 500
           }
          ]
         }
        ]
       },
       "width_paths": [
        {
         "factor": 1,
         "path": [
          "config",
          "view",
          "continuousWidth"
         ],
         "value": 400
        },
        {
         "factor": 1,
         "path": [
          "hconcat",
          0,
          "layer",
          0,
          "width"
         ],
         "value": 500
        },
        {
         "factor": 1,
         "path": [
          "hconcat",
          0,
          "layer",
          1,
          "width"
         ],
         "value": 500
        },
        {
         "factor": 1,
         "path": [
          "hconcat",
          1,
          "layer",
          0,
          "width"
         ],
         "value": 500
        },
        {
         "factor": 1,
         "path": [
          "hconcat",
          1,
          "layer",
          1,
          "width"
         ],
         "value": 500
        }
       ]
      },
      "text/plain": [
       "<IPython.core.display.JSON object>"
      ]
     },
     "execution_count": 36,
     "metadata": {
      "application/json": {
       "expanded": false,
       "root": "root"
      }
     },
     "output_type": "execute_result"
    }
   ],
   "source": [
    "output_chart(c)"
   ]
  },
  {
   "cell_type": "code",
   "execution_count": null,
   "id": "2b85c342",
   "metadata": {},
   "outputs": [],
   "source": []
  }
 ],
 "metadata": {
  "kernelspec": {
   "display_name": "beanstalk",
   "language": "python",
   "name": "beanstalk"
  },
  "language_info": {
   "codemirror_mode": {
    "name": "ipython",
    "version": 3
   },
   "file_extension": ".py",
   "mimetype": "text/x-python",
   "name": "python",
   "nbconvert_exporter": "python",
   "pygments_lexer": "ipython3",
   "version": "3.10.5"
  }
 },
 "nbformat": 4,
 "nbformat_minor": 5
}
