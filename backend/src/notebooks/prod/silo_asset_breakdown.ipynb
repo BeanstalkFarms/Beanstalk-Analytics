{
 "cells": [
  {
   "cell_type": "code",
   "execution_count": 63,
   "id": "bb524f98-4f94-476c-b760-7d5dbae7938d",
   "metadata": {},
   "outputs": [
    {
     "name": "stdout",
     "output_type": "stream",
     "text": [
      "https://graph.node.bean.money/subgraphs/name/beanstalk\n"
     ]
    }
   ],
   "source": [
    "import os \n",
    "import sys \n",
    "import json \n",
    "import logging \n",
    "from pathlib import Path \n",
    "from functools import cache\n",
    "from itertools import product\n",
    "\n",
    "# Required when developing in a jupyter-notebook environment \n",
    "cur_path = os.path.abspath(\"../..\")\n",
    "if cur_path not in sys.path: \n",
    "    sys.path.append(cur_path)\n",
    "\n",
    "import numpy as np \n",
    "import pandas as pd \n",
    "import altair as alt \n",
    "from altair import datum\n",
    "from palettable.scientific.sequential import Tokyo_4\n",
    "from palettable.tableau import GreenOrange_6\n",
    "from dotenv import load_dotenv\n",
    "from subgrounds.subgrounds import Subgrounds, Subgraph\n",
    "from subgrounds.subgraph import SyntheticField\n",
    "from subgrounds.pagination import ShallowStrategy\n",
    "\n",
    "# Required when developing in a jupyter-notebook environment \n",
    "load_dotenv('../../../../.env')\n",
    "\n",
    "print(os.environ['SUBGRAPH_URL'])\n",
    "# logging.basicConfig(level=logging.DEBUG)\n",
    "\n",
    "from utils_notebook.utils import (\n",
    "    ddf, remove_prefix, load_subgraph, remove_keys, camel_to_snake_cols, \n",
    "    add_silo_token_name_adjust_precision, \n",
    ")\n",
    "from utils_notebook.vega import (\n",
    "    output_chart, \n",
    "    apply_css, \n",
    "    wide_to_longwide, \n",
    "    chart\n",
    ")\n",
    "from utils_notebook.testing import validate_season_series\n",
    "from utils_notebook.constants import ADDR_BEANSTALK\n",
    "from utils_notebook.queries import QueryManager\n",
    "from utils_notebook.css import css_tooltip_timeseries_multi_colored"
   ]
  },
  {
   "cell_type": "code",
   "execution_count": 64,
   "id": "4dda51ef-cb6a-4692-9bad-6ea39ab9c6fe",
   "metadata": {},
   "outputs": [],
   "source": [
    "sg, bs = load_subgraph()\n",
    "q = QueryManager(sg, bs) "
   ]
  },
  {
   "cell_type": "code",
   "execution_count": 65,
   "id": "f5823889",
   "metadata": {},
   "outputs": [
    {
     "data": {
      "text/html": [
       "<div>\n",
       "<style scoped>\n",
       "    .dataframe tbody tr th:only-of-type {\n",
       "        vertical-align: middle;\n",
       "    }\n",
       "\n",
       "    .dataframe tbody tr th {\n",
       "        vertical-align: top;\n",
       "    }\n",
       "\n",
       "    .dataframe thead th {\n",
       "        text-align: right;\n",
       "    }\n",
       "</style>\n",
       "<table border=\"1\" class=\"dataframe\">\n",
       "  <thead>\n",
       "    <tr style=\"text-align: right;\">\n",
       "      <th></th>\n",
       "      <th>timestamp</th>\n",
       "      <th>depositedBDV</th>\n",
       "      <th>silo_token_name</th>\n",
       "    </tr>\n",
       "  </thead>\n",
       "  <tbody>\n",
       "    <tr>\n",
       "      <th>729</th>\n",
       "      <td>2023-02-02</td>\n",
       "      <td>4.083344e+05</td>\n",
       "      <td>bdv_bean_3crv</td>\n",
       "    </tr>\n",
       "    <tr>\n",
       "      <th>730</th>\n",
       "      <td>2023-02-03</td>\n",
       "      <td>1.341486e+07</td>\n",
       "      <td>bdv_ur_bean</td>\n",
       "    </tr>\n",
       "    <tr>\n",
       "      <th>731</th>\n",
       "      <td>2023-02-03</td>\n",
       "      <td>2.527731e+07</td>\n",
       "      <td>bdv_ur_bean_3crv</td>\n",
       "    </tr>\n",
       "    <tr>\n",
       "      <th>732</th>\n",
       "      <td>2023-02-03</td>\n",
       "      <td>4.083344e+05</td>\n",
       "      <td>bdv_bean_3crv</td>\n",
       "    </tr>\n",
       "    <tr>\n",
       "      <th>733</th>\n",
       "      <td>2023-02-03</td>\n",
       "      <td>2.107036e+06</td>\n",
       "      <td>bdv_bean</td>\n",
       "    </tr>\n",
       "  </tbody>\n",
       "</table>\n",
       "</div>"
      ],
      "text/plain": [
       "     timestamp  depositedBDV   silo_token_name\n",
       "729 2023-02-02  4.083344e+05     bdv_bean_3crv\n",
       "730 2023-02-03  1.341486e+07       bdv_ur_bean\n",
       "731 2023-02-03  2.527731e+07  bdv_ur_bean_3crv\n",
       "732 2023-02-03  4.083344e+05     bdv_bean_3crv\n",
       "733 2023-02-03  2.107036e+06          bdv_bean"
      ]
     },
     "execution_count": 65,
     "metadata": {},
     "output_type": "execute_result"
    }
   ],
   "source": [
    "bs.SiloAssetDailySnapshot.timestamp = bs.SiloAssetDailySnapshot.createdAt\n",
    "q = bs.Query.siloAssetDailySnapshots(\n",
    "    first=10000, orderBy=\"season\", orderDirection=\"desc\", \n",
    "    where={'siloAsset_': {'silo': ADDR_BEANSTALK}}\n",
    ")\n",
    "df = sg.query_df([\n",
    "    q.timestamp, q.depositedBDV, q.siloAsset.token,\n",
    "])\n",
    "df.head()\n",
    "df = remove_prefix(df, \"siloAssetDailySnapshots_\")\n",
    "df = remove_prefix(df, 'siloAsset_')\n",
    "# Remove tokens with internal balances that aren't deposited.\n",
    "df = df.drop(df[df['depositedBDV'] == 0].index)\n",
    "df.timestamp = pd.to_datetime(df.timestamp, unit='s')\n",
    "df = df.sort_values('timestamp').reset_index(drop=True)\n",
    "add_silo_token_name_adjust_precision(df, 'token', 'depositedBDV')\n",
    "assert not df.silo_token_name.isna().any()\n",
    "df.silo_token_name = df.silo_token_name.apply(lambda n: f\"bdv_{n}\")\n",
    "df = df.dropna(subset='depositedBDV') \n",
    "df = df.drop(columns=\"token\")\n",
    "df = df.loc[df.depositedBDV > 0]\n",
    "df.tail()"
   ]
  },
  {
   "cell_type": "code",
   "execution_count": 66,
   "id": "772aec4f-a548-4f4e-80cd-83067c765f6d",
   "metadata": {},
   "outputs": [
    {
     "data": {
      "text/html": [
       "<div>\n",
       "<style scoped>\n",
       "    .dataframe tbody tr th:only-of-type {\n",
       "        vertical-align: middle;\n",
       "    }\n",
       "\n",
       "    .dataframe tbody tr th {\n",
       "        vertical-align: top;\n",
       "    }\n",
       "\n",
       "    .dataframe thead th {\n",
       "        text-align: right;\n",
       "    }\n",
       "</style>\n",
       "<table border=\"1\" class=\"dataframe\">\n",
       "  <thead>\n",
       "    <tr style=\"text-align: right;\">\n",
       "      <th></th>\n",
       "      <th>timestamp</th>\n",
       "      <th>value</th>\n",
       "      <th>variable</th>\n",
       "    </tr>\n",
       "  </thead>\n",
       "  <tbody>\n",
       "    <tr>\n",
       "      <th>913</th>\n",
       "      <td>2023-02-03</td>\n",
       "      <td>1.341486e+07</td>\n",
       "      <td>bdv_ur_bean</td>\n",
       "    </tr>\n",
       "    <tr>\n",
       "      <th>914</th>\n",
       "      <td>2023-02-03</td>\n",
       "      <td>2.527731e+07</td>\n",
       "      <td>bdv_ur_bean_3crv</td>\n",
       "    </tr>\n",
       "    <tr>\n",
       "      <th>915</th>\n",
       "      <td>2023-02-03</td>\n",
       "      <td>4.083344e+05</td>\n",
       "      <td>bdv_bean_3crv</td>\n",
       "    </tr>\n",
       "    <tr>\n",
       "      <th>916</th>\n",
       "      <td>2023-02-03</td>\n",
       "      <td>2.107036e+06</td>\n",
       "      <td>bdv_bean</td>\n",
       "    </tr>\n",
       "    <tr>\n",
       "      <th>917</th>\n",
       "      <td>2023-02-03</td>\n",
       "      <td>4.120754e+07</td>\n",
       "      <td>bdv_total</td>\n",
       "    </tr>\n",
       "  </tbody>\n",
       "</table>\n",
       "</div>"
      ],
      "text/plain": [
       "     timestamp         value          variable\n",
       "913 2023-02-03  1.341486e+07       bdv_ur_bean\n",
       "914 2023-02-03  2.527731e+07  bdv_ur_bean_3crv\n",
       "915 2023-02-03  4.083344e+05     bdv_bean_3crv\n",
       "916 2023-02-03  2.107036e+06          bdv_bean\n",
       "917 2023-02-03  4.120754e+07         bdv_total"
      ]
     },
     "execution_count": 66,
     "metadata": {},
     "output_type": "execute_result"
    }
   ],
   "source": [
    "data = df.rename(columns={'depositedBDV': 'value', 'silo_token_name': 'variable'})\n",
    "data_total = data[['timestamp', 'value']].groupby(\"timestamp\").sum().reset_index()\n",
    "data_total['variable'] = 'bdv_total'\n",
    "data = pd.concat([data, data_total]).sort_values(\"timestamp\").reset_index(drop=True)\n",
    "data.tail(5)\n",
    "# data_total.head()"
   ]
  },
  {
   "cell_type": "code",
   "execution_count": 67,
   "id": "a218002a-ae10-47af-aa5e-de97a08bd90a",
   "metadata": {},
   "outputs": [
    {
     "data": {
      "text/html": [
       "\n",
       "<div id=\"altair-viz-7801b90fa8a84342aefb83f60f09c381\"></div>\n",
       "<script type=\"text/javascript\">\n",
       "  var VEGA_DEBUG = (typeof VEGA_DEBUG == \"undefined\") ? {} : VEGA_DEBUG;\n",
       "  (function(spec, embedOpt){\n",
       "    let outputDiv = document.currentScript.previousElementSibling;\n",
       "    if (outputDiv.id !== \"altair-viz-7801b90fa8a84342aefb83f60f09c381\") {\n",
       "      outputDiv = document.getElementById(\"altair-viz-7801b90fa8a84342aefb83f60f09c381\");\n",
       "    }\n",
       "    const paths = {\n",
       "      \"vega\": \"https://cdn.jsdelivr.net/npm//vega@5?noext\",\n",
       "      \"vega-lib\": \"https://cdn.jsdelivr.net/npm//vega-lib?noext\",\n",
       "      \"vega-lite\": \"https://cdn.jsdelivr.net/npm//vega-lite@4.17.0?noext\",\n",
       "      \"vega-embed\": \"https://cdn.jsdelivr.net/npm//vega-embed@6?noext\",\n",
       "    };\n",
       "\n",
       "    function maybeLoadScript(lib, version) {\n",
       "      var key = `${lib.replace(\"-\", \"\")}_version`;\n",
       "      return (VEGA_DEBUG[key] == version) ?\n",
       "        Promise.resolve(paths[lib]) :\n",
       "        new Promise(function(resolve, reject) {\n",
       "          var s = document.createElement('script');\n",
       "          document.getElementsByTagName(\"head\")[0].appendChild(s);\n",
       "          s.async = true;\n",
       "          s.onload = () => {\n",
       "            VEGA_DEBUG[key] = version;\n",
       "            return resolve(paths[lib]);\n",
       "          };\n",
       "          s.onerror = () => reject(`Error loading script: ${paths[lib]}`);\n",
       "          s.src = paths[lib];\n",
       "        });\n",
       "    }\n",
       "\n",
       "    function showError(err) {\n",
       "      outputDiv.innerHTML = `<div class=\"error\" style=\"color:red;\">${err}</div>`;\n",
       "      throw err;\n",
       "    }\n",
       "\n",
       "    function displayChart(vegaEmbed) {\n",
       "      vegaEmbed(outputDiv, spec, embedOpt)\n",
       "        .catch(err => showError(`Javascript Error: ${err.message}<br>This usually means there's a typo in your chart specification. See the javascript console for the full traceback.`));\n",
       "    }\n",
       "\n",
       "    if(typeof define === \"function\" && define.amd) {\n",
       "      requirejs.config({paths});\n",
       "      require([\"vega-embed\"], displayChart, err => showError(`Error loading script: ${err.message}`));\n",
       "    } else {\n",
       "      maybeLoadScript(\"vega\", \"5\")\n",
       "        .then(() => maybeLoadScript(\"vega-lite\", \"4.17.0\"))\n",
       "        .then(() => maybeLoadScript(\"vega-embed\", \"6\"))\n",
       "        .catch(showError)\n",
       "        .then(() => displayChart(vegaEmbed));\n",
       "    }\n",
       "  })({\"config\": {\"view\": {\"continuousWidth\": 400, \"continuousHeight\": 300}}, \"layer\": [{\"mark\": \"area\", \"encoding\": {\"color\": {\"field\": \"variable\", \"legend\": {\"orient\": \"top\", \"title\": null}, \"scale\": {\"domain\": [\"bdv_ur_bean\", \"bdv_ur_bean_3crv\", \"bdv_bean_3crv\", \"bdv_bean\", \"bdv_total\"], \"range\": [\"#32A251\", \"#FF7F0F\", \"#3CB7CC\", \"#FFD94A\", \"#39737C\"]}, \"type\": \"nominal\"}, \"order\": {\"field\": \"stack_order\", \"sort\": \"ascending\", \"type\": \"quantitative\"}, \"x\": {\"axis\": {\"formatType\": \"time\", \"labelAngle\": 0, \"labelExpr\": \"timeFormat(toDate(datum.value), '%b %e, %Y')\", \"labelOverlap\": true, \"labelPadding\": 5, \"labelSeparation\": 50, \"ticks\": false, \"title\": \"Date\"}, \"field\": \"timestamp\", \"type\": \"ordinal\"}, \"y\": {\"axis\": {\"format\": \".2s\", \"title\": \"Bdv\"}, \"field\": \"value\", \"type\": \"quantitative\"}}, \"title\": \"\", \"transform\": [{\"calculate\": \"datum['variable'] === 'bdv_ur_bean' ? 0 :  datum['variable'] === 'bdv_ur_bean_3crv' ? 1 :  datum['variable'] === 'bdv_bean_3crv' ? 2 :  datum['variable'] === 'bdv_bean' ? 3 :  datum['variable'] === 'bdv_total' ? 4 : 5\", \"as\": \"stack_order\"}, {\"filter\": \"datum['variable'] == 'bdv_ur_bean' | datum['variable'] == 'bdv_ur_bean_3crv' | datum['variable'] == 'bdv_bean_3crv' | datum['variable'] == 'bdv_bean'\"}], \"width\": 400}, {\"layer\": [{\"mark\": \"line\", \"encoding\": {\"color\": {\"field\": \"variable\", \"legend\": {\"orient\": \"top\", \"title\": null}, \"scale\": {\"domain\": [\"bdv_ur_bean\", \"bdv_ur_bean_3crv\", \"bdv_bean_3crv\", \"bdv_bean\", \"bdv_total\"], \"range\": [\"#32A251\", \"#FF7F0F\", \"#3CB7CC\", \"#FFD94A\", \"#39737C\"]}, \"type\": \"nominal\"}, \"order\": {\"field\": \"stack_order\", \"sort\": \"ascending\", \"type\": \"quantitative\"}, \"x\": {\"axis\": {\"formatType\": \"time\", \"labelAngle\": 0, \"labelExpr\": \"timeFormat(toDate(datum.value), '%b %e, %Y')\", \"labelOverlap\": true, \"labelPadding\": 5, \"labelSeparation\": 50, \"ticks\": false, \"title\": \"Date\"}, \"field\": \"timestamp\", \"type\": \"ordinal\"}, \"y\": {\"axis\": {}, \"field\": \"value\", \"type\": \"quantitative\"}}, \"title\": \"\", \"transform\": [{\"calculate\": \"datum['variable'] === 'bdv_ur_bean' ? 0 :  datum['variable'] === 'bdv_ur_bean_3crv' ? 1 :  datum['variable'] === 'bdv_bean_3crv' ? 2 :  datum['variable'] === 'bdv_bean' ? 3 :  datum['variable'] === 'bdv_total' ? 4 : 5\", \"as\": \"stack_order\"}, {\"filter\": \"datum['variable'] == 'bdv_total'\"}], \"width\": 400}, {\"mark\": {\"type\": \"rule\", \"color\": \"#474440\", \"opacity\": 1, \"strokeDash\": [2.5, 1]}, \"encoding\": {\"x\": {\"axis\": {\"formatType\": \"time\", \"labelAngle\": 0, \"labelExpr\": \"timeFormat(toDate(datum.value), '%b %e, %Y')\", \"labelOverlap\": true, \"labelPadding\": 5, \"labelSeparation\": 50, \"ticks\": false, \"title\": \"Date\"}, \"field\": \"timestamp\", \"type\": \"ordinal\"}}, \"title\": \"\", \"transform\": [{\"calculate\": \"datum['variable'] === 'bdv_ur_bean' ? 0 :  datum['variable'] === 'bdv_ur_bean_3crv' ? 1 :  datum['variable'] === 'bdv_bean_3crv' ? 2 :  datum['variable'] === 'bdv_bean' ? 3 :  datum['variable'] === 'bdv_total' ? 4 : 5\", \"as\": \"stack_order\"}, {\"pivot\": \"variable\", \"value\": \"value\", \"groupby\": [\"timestamp\"]}, {\"filter\": \"\\n            year(datum['timestamp']) === 2022 && \\n            month(datum['timestamp']) === 3 && \\n            date(datum['timestamp']) === 17 \\n        \"}], \"width\": 400}, {\"mark\": {\"type\": \"rule\", \"color\": \"#878787\"}, \"encoding\": {\"opacity\": {\"condition\": {\"value\": 1, \"selection\": \"selector009\"}, \"value\": 0}, \"tooltip\": [{\"field\": \"timestamp\", \"timeUnit\": \"yearmonthdate\", \"title\": \"date\", \"type\": \"ordinal\"}, {\"field\": \"bdv_ur_bean\", \"format\": \",d\", \"type\": \"quantitative\"}, {\"field\": \"bdv_ur_bean_3crv\", \"format\": \",d\", \"type\": \"quantitative\"}, {\"field\": \"bdv_bean_3crv\", \"format\": \",d\", \"type\": \"quantitative\"}, {\"field\": \"bdv_bean\", \"format\": \",d\", \"type\": \"quantitative\"}, {\"field\": \"bdv_total\", \"format\": \",d\", \"type\": \"quantitative\"}], \"x\": {\"axis\": {\"formatType\": \"time\", \"labelAngle\": 0, \"labelExpr\": \"timeFormat(toDate(datum.value), '%b %e, %Y')\", \"labelOverlap\": true, \"labelPadding\": 5, \"labelSeparation\": 50, \"ticks\": false, \"title\": \"Date\"}, \"field\": \"timestamp\", \"type\": \"ordinal\"}}, \"selection\": {\"selector009\": {\"type\": \"single\", \"fields\": [\"timestamp\"], \"nearest\": true, \"on\": \"mouseover\", \"empty\": \"none\", \"clear\": \"mouseout\"}}, \"title\": \"\", \"transform\": [{\"calculate\": \"datum['variable'] === 'bdv_ur_bean' ? 0 :  datum['variable'] === 'bdv_ur_bean_3crv' ? 1 :  datum['variable'] === 'bdv_bean_3crv' ? 2 :  datum['variable'] === 'bdv_bean' ? 3 :  datum['variable'] === 'bdv_total' ? 4 : 5\", \"as\": \"stack_order\"}, {\"pivot\": \"variable\", \"value\": \"value\", \"groupby\": [\"timestamp\"]}], \"width\": 400}]}], \"data\": {\"name\": \"data-ec120d3fa8e3b4048da01f6da7bf1993\"}, \"$schema\": \"https://vega.github.io/schema/vega-lite/v4.17.0.json\", \"datasets\": {\"data-ec120d3fa8e3b4048da01f6da7bf1993\": [{\"timestamp\": \"2022-08-04T00:00:00\", \"value\": 5978133.655747, \"variable\": \"bdv_ur_bean\"}, {\"timestamp\": \"2022-08-04T00:00:00\", \"value\": 32317887.140979, \"variable\": \"bdv_total\"}, {\"timestamp\": \"2022-08-04T00:00:00\", \"value\": 26339753.485232, \"variable\": \"bdv_ur_bean_3crv\"}, {\"timestamp\": \"2022-08-05T00:00:00\", \"value\": 26927531.209686, \"variable\": \"bdv_ur_bean_3crv\"}, {\"timestamp\": \"2022-08-05T00:00:00\", \"value\": 5623644.838133, \"variable\": \"bdv_ur_bean\"}, {\"timestamp\": \"2022-08-05T00:00:00\", \"value\": 32645767.088951, \"variable\": \"bdv_total\"}, {\"timestamp\": \"2022-08-05T00:00:00\", \"value\": 89359.642612, \"variable\": \"bdv_bean_3crv\"}, {\"timestamp\": \"2022-08-05T00:00:00\", \"value\": 5231.39852, \"variable\": \"bdv_bean\"}, {\"timestamp\": \"2022-08-06T00:00:00\", \"value\": 462004.04136, \"variable\": \"bdv_bean_3crv\"}, {\"timestamp\": \"2022-08-06T00:00:00\", \"value\": 33371039.858399004, \"variable\": \"bdv_total\"}, {\"timestamp\": \"2022-08-06T00:00:00\", \"value\": 100571.042032, \"variable\": \"bdv_bean\"}, {\"timestamp\": \"2022-08-06T00:00:00\", \"value\": 5513601.265417, \"variable\": \"bdv_ur_bean\"}, {\"timestamp\": \"2022-08-06T00:00:00\", \"value\": 27294863.50959, \"variable\": \"bdv_ur_bean_3crv\"}, {\"timestamp\": \"2022-08-07T00:00:00\", \"value\": 42131149.240254, \"variable\": \"bdv_total\"}, {\"timestamp\": \"2022-08-07T00:00:00\", \"value\": 1506243.466729, \"variable\": \"bdv_bean\"}, {\"timestamp\": \"2022-08-07T00:00:00\", \"value\": 5381329.303513, \"variable\": \"bdv_ur_bean\"}, {\"timestamp\": \"2022-08-07T00:00:00\", \"value\": 5836871.302909, \"variable\": \"bdv_bean_3crv\"}, {\"timestamp\": \"2022-08-07T00:00:00\", \"value\": 29406705.167103, \"variable\": \"bdv_ur_bean_3crv\"}, {\"timestamp\": \"2022-08-08T00:00:00\", \"value\": 5307938.614667, \"variable\": \"bdv_bean_3crv\"}, {\"timestamp\": \"2022-08-08T00:00:00\", \"value\": 30541189.532496, \"variable\": \"bdv_ur_bean_3crv\"}, {\"timestamp\": \"2022-08-08T00:00:00\", \"value\": 2056563.133446, \"variable\": \"bdv_bean\"}, {\"timestamp\": \"2022-08-08T00:00:00\", \"value\": 5498258.749764, \"variable\": \"bdv_ur_bean\"}, {\"timestamp\": \"2022-08-08T00:00:00\", \"value\": 43403950.030373, \"variable\": \"bdv_total\"}, {\"timestamp\": \"2022-08-09T00:00:00\", \"value\": 29880114.049145, \"variable\": \"bdv_ur_bean_3crv\"}, {\"timestamp\": \"2022-08-09T00:00:00\", \"value\": 3664273.394661, \"variable\": \"bdv_bean_3crv\"}, {\"timestamp\": \"2022-08-09T00:00:00\", \"value\": 6426493.308836, \"variable\": \"bdv_ur_bean\"}, {\"timestamp\": \"2022-08-09T00:00:00\", \"value\": 1526877.140336, \"variable\": \"bdv_bean\"}, {\"timestamp\": \"2022-08-09T00:00:00\", \"value\": 41497757.892978, \"variable\": \"bdv_total\"}, {\"timestamp\": \"2022-08-10T00:00:00\", \"value\": 3720520.612047, \"variable\": \"bdv_bean_3crv\"}, {\"timestamp\": \"2022-08-10T00:00:00\", \"value\": 41601629.764988005, \"variable\": \"bdv_total\"}, {\"timestamp\": \"2022-08-10T00:00:00\", \"value\": 1520361.180963, \"variable\": \"bdv_bean\"}, {\"timestamp\": \"2022-08-10T00:00:00\", \"value\": 29894207.154513, \"variable\": \"bdv_ur_bean_3crv\"}, {\"timestamp\": \"2022-08-10T00:00:00\", \"value\": 6466540.817465, \"variable\": \"bdv_ur_bean\"}, {\"timestamp\": \"2022-08-11T00:00:00\", \"value\": 41616163.176115, \"variable\": \"bdv_total\"}, {\"timestamp\": \"2022-08-11T00:00:00\", \"value\": 1691589.456553, \"variable\": \"bdv_bean\"}, {\"timestamp\": \"2022-08-11T00:00:00\", \"value\": 3500244.414793, \"variable\": \"bdv_bean_3crv\"}, {\"timestamp\": \"2022-08-11T00:00:00\", \"value\": 29885191.786606, \"variable\": \"bdv_ur_bean_3crv\"}, {\"timestamp\": \"2022-08-11T00:00:00\", \"value\": 6539137.518163, \"variable\": \"bdv_ur_bean\"}, {\"timestamp\": \"2022-08-12T00:00:00\", \"value\": 41655989.769856, \"variable\": \"bdv_total\"}, {\"timestamp\": \"2022-08-12T00:00:00\", \"value\": 1702426.130822, \"variable\": \"bdv_bean\"}, {\"timestamp\": \"2022-08-12T00:00:00\", \"value\": 29920252.111981, \"variable\": \"bdv_ur_bean_3crv\"}, {\"timestamp\": \"2022-08-12T00:00:00\", \"value\": 6530478.824595, \"variable\": \"bdv_ur_bean\"}, {\"timestamp\": \"2022-08-12T00:00:00\", \"value\": 3502832.702458, \"variable\": \"bdv_bean_3crv\"}, {\"timestamp\": \"2022-08-13T00:00:00\", \"value\": 41819484.501842, \"variable\": \"bdv_total\"}, {\"timestamp\": \"2022-08-13T00:00:00\", \"value\": 6528269.82436, \"variable\": \"bdv_ur_bean\"}, {\"timestamp\": \"2022-08-13T00:00:00\", \"value\": 29982080.538393, \"variable\": \"bdv_ur_bean_3crv\"}, {\"timestamp\": \"2022-08-13T00:00:00\", \"value\": 3534985.076794, \"variable\": \"bdv_bean_3crv\"}, {\"timestamp\": \"2022-08-13T00:00:00\", \"value\": 1774149.062295, \"variable\": \"bdv_bean\"}, {\"timestamp\": \"2022-08-14T00:00:00\", \"value\": 9048670.222874, \"variable\": \"bdv_ur_bean\"}, {\"timestamp\": \"2022-08-14T00:00:00\", \"value\": 1200969.476851, \"variable\": \"bdv_bean_3crv\"}, {\"timestamp\": \"2022-08-14T00:00:00\", \"value\": 1401783.998667, \"variable\": \"bdv_bean\"}, {\"timestamp\": \"2022-08-14T00:00:00\", \"value\": 27703012.774458, \"variable\": \"bdv_ur_bean_3crv\"}, {\"timestamp\": \"2022-08-14T00:00:00\", \"value\": 39354436.472849995, \"variable\": \"bdv_total\"}, {\"timestamp\": \"2022-08-15T00:00:00\", \"value\": 27710382.759477, \"variable\": \"bdv_ur_bean_3crv\"}, {\"timestamp\": \"2022-08-15T00:00:00\", \"value\": 9052612.094622, \"variable\": \"bdv_ur_bean\"}, {\"timestamp\": \"2022-08-15T00:00:00\", \"value\": 1190492.237083, \"variable\": \"bdv_bean_3crv\"}, {\"timestamp\": \"2022-08-15T00:00:00\", \"value\": 39370892.757622, \"variable\": \"bdv_total\"}, {\"timestamp\": \"2022-08-15T00:00:00\", \"value\": 1417405.66644, \"variable\": \"bdv_bean\"}, {\"timestamp\": \"2022-08-16T00:00:00\", \"value\": 39528847.946184, \"variable\": \"bdv_total\"}, {\"timestamp\": \"2022-08-16T00:00:00\", \"value\": 9163322.789853, \"variable\": \"bdv_ur_bean\"}, {\"timestamp\": \"2022-08-16T00:00:00\", \"value\": 1185845.803379, \"variable\": \"bdv_bean_3crv\"}, {\"timestamp\": \"2022-08-16T00:00:00\", \"value\": 1414327.23749, \"variable\": \"bdv_bean\"}, {\"timestamp\": \"2022-08-16T00:00:00\", \"value\": 27765352.115462, \"variable\": \"bdv_ur_bean_3crv\"}, {\"timestamp\": \"2022-08-17T00:00:00\", \"value\": 9149420.921032, \"variable\": \"bdv_ur_bean\"}, {\"timestamp\": \"2022-08-17T00:00:00\", \"value\": 1187121.400189, \"variable\": \"bdv_bean_3crv\"}, {\"timestamp\": \"2022-08-17T00:00:00\", \"value\": 27786131.029705, \"variable\": \"bdv_ur_bean_3crv\"}, {\"timestamp\": \"2022-08-17T00:00:00\", \"value\": 1436943.097604, \"variable\": \"bdv_bean\"}, {\"timestamp\": \"2022-08-17T00:00:00\", \"value\": 39559616.44853, \"variable\": \"bdv_total\"}, {\"timestamp\": \"2022-08-18T00:00:00\", \"value\": 1447186.463689, \"variable\": \"bdv_bean\"}, {\"timestamp\": \"2022-08-18T00:00:00\", \"value\": 9149609.652743, \"variable\": \"bdv_ur_bean\"}, {\"timestamp\": \"2022-08-18T00:00:00\", \"value\": 1175751.783769, \"variable\": \"bdv_bean_3crv\"}, {\"timestamp\": \"2022-08-18T00:00:00\", \"value\": 27794393.896052, \"variable\": \"bdv_ur_bean_3crv\"}, {\"timestamp\": \"2022-08-18T00:00:00\", \"value\": 39566941.796252996, \"variable\": \"bdv_total\"}, {\"timestamp\": \"2022-08-19T00:00:00\", \"value\": 39799775.533911, \"variable\": \"bdv_total\"}, {\"timestamp\": \"2022-08-19T00:00:00\", \"value\": 27919453.684368, \"variable\": \"bdv_ur_bean_3crv\"}, {\"timestamp\": \"2022-08-19T00:00:00\", \"value\": 1466984.991038, \"variable\": \"bdv_bean\"}, {\"timestamp\": \"2022-08-19T00:00:00\", \"value\": 9239047.163768, \"variable\": \"bdv_ur_bean\"}, {\"timestamp\": \"2022-08-19T00:00:00\", \"value\": 1174289.694737, \"variable\": \"bdv_bean_3crv\"}, {\"timestamp\": \"2022-08-20T00:00:00\", \"value\": 1172392.870021, \"variable\": \"bdv_bean_3crv\"}, {\"timestamp\": \"2022-08-20T00:00:00\", \"value\": 1468915.600044, \"variable\": \"bdv_bean\"}, {\"timestamp\": \"2022-08-20T00:00:00\", \"value\": 27887764.095515, \"variable\": \"bdv_ur_bean_3crv\"}, {\"timestamp\": \"2022-08-20T00:00:00\", \"value\": 9283207.61521, \"variable\": \"bdv_ur_bean\"}, {\"timestamp\": \"2022-08-20T00:00:00\", \"value\": 39812280.18079, \"variable\": \"bdv_total\"}, {\"timestamp\": \"2022-08-21T00:00:00\", \"value\": 39855892.850034, \"variable\": \"bdv_total\"}, {\"timestamp\": \"2022-08-21T00:00:00\", \"value\": 1196440.802577, \"variable\": \"bdv_bean_3crv\"}, {\"timestamp\": \"2022-08-21T00:00:00\", \"value\": 1479122.852064, \"variable\": \"bdv_bean\"}, {\"timestamp\": \"2022-08-21T00:00:00\", \"value\": 27900567.094232, \"variable\": \"bdv_ur_bean_3crv\"}, {\"timestamp\": \"2022-08-21T00:00:00\", \"value\": 9279762.101161, \"variable\": \"bdv_ur_bean\"}, {\"timestamp\": \"2022-08-22T00:00:00\", \"value\": 39878487.793065, \"variable\": \"bdv_total\"}, {\"timestamp\": \"2022-08-22T00:00:00\", \"value\": 27922729.822449, \"variable\": \"bdv_ur_bean_3crv\"}, {\"timestamp\": \"2022-08-22T00:00:00\", \"value\": 9275962.172207, \"variable\": \"bdv_ur_bean\"}, {\"timestamp\": \"2022-08-22T00:00:00\", \"value\": 1478300.200066, \"variable\": \"bdv_bean\"}, {\"timestamp\": \"2022-08-22T00:00:00\", \"value\": 1201495.598343, \"variable\": \"bdv_bean_3crv\"}, {\"timestamp\": \"2022-08-23T00:00:00\", \"value\": 27935653.681201, \"variable\": \"bdv_ur_bean_3crv\"}, {\"timestamp\": \"2022-08-23T00:00:00\", \"value\": 39841389.579848, \"variable\": \"bdv_total\"}, {\"timestamp\": \"2022-08-23T00:00:00\", \"value\": 1158579.040741, \"variable\": \"bdv_bean_3crv\"}, {\"timestamp\": \"2022-08-23T00:00:00\", \"value\": 9269797.503431, \"variable\": \"bdv_ur_bean\"}, {\"timestamp\": \"2022-08-23T00:00:00\", \"value\": 1477359.354475, \"variable\": \"bdv_bean\"}, {\"timestamp\": \"2022-08-24T00:00:00\", \"value\": 27940192.710879, \"variable\": \"bdv_ur_bean_3crv\"}, {\"timestamp\": \"2022-08-24T00:00:00\", \"value\": 39894820.508675, \"variable\": \"bdv_total\"}, {\"timestamp\": \"2022-08-24T00:00:00\", \"value\": 9269837.033207, \"variable\": \"bdv_ur_bean\"}, {\"timestamp\": \"2022-08-24T00:00:00\", \"value\": 1525480.632648, \"variable\": \"bdv_bean\"}, {\"timestamp\": \"2022-08-24T00:00:00\", \"value\": 1159310.131941, \"variable\": \"bdv_bean_3crv\"}, {\"timestamp\": \"2022-08-25T00:00:00\", \"value\": 1161095.58589, \"variable\": \"bdv_bean_3crv\"}, {\"timestamp\": \"2022-08-25T00:00:00\", \"value\": 1537007.21747, \"variable\": \"bdv_bean\"}, {\"timestamp\": \"2022-08-25T00:00:00\", \"value\": 27932143.064575, \"variable\": \"bdv_ur_bean_3crv\"}, {\"timestamp\": \"2022-08-25T00:00:00\", \"value\": 39926616.4265, \"variable\": \"bdv_total\"}, {\"timestamp\": \"2022-08-25T00:00:00\", \"value\": 9296370.558565, \"variable\": \"bdv_ur_bean\"}, {\"timestamp\": \"2022-08-26T00:00:00\", \"value\": 39946239.013390005, \"variable\": \"bdv_total\"}, {\"timestamp\": \"2022-08-26T00:00:00\", \"value\": 1543625.724149, \"variable\": \"bdv_bean\"}, {\"timestamp\": \"2022-08-26T00:00:00\", \"value\": 27947618.913166, \"variable\": \"bdv_ur_bean_3crv\"}, {\"timestamp\": \"2022-08-26T00:00:00\", \"value\": 1161523.706127, \"variable\": \"bdv_bean_3crv\"}, {\"timestamp\": \"2022-08-26T00:00:00\", \"value\": 9293470.669948, \"variable\": \"bdv_ur_bean\"}, {\"timestamp\": \"2022-08-27T00:00:00\", \"value\": 39942925.057197, \"variable\": \"bdv_total\"}, {\"timestamp\": \"2022-08-27T00:00:00\", \"value\": 1154912.338966, \"variable\": \"bdv_bean_3crv\"}, {\"timestamp\": \"2022-08-27T00:00:00\", \"value\": 27951237.246694, \"variable\": \"bdv_ur_bean_3crv\"}, {\"timestamp\": \"2022-08-27T00:00:00\", \"value\": 9290168.485159, \"variable\": \"bdv_ur_bean\"}, {\"timestamp\": \"2022-08-27T00:00:00\", \"value\": 1546606.986378, \"variable\": \"bdv_bean\"}, {\"timestamp\": \"2022-08-28T00:00:00\", \"value\": 1121462.24258, \"variable\": \"bdv_bean_3crv\"}, {\"timestamp\": \"2022-08-28T00:00:00\", \"value\": 9354176.311584, \"variable\": \"bdv_ur_bean\"}, {\"timestamp\": \"2022-08-28T00:00:00\", \"value\": 27897942.540404, \"variable\": \"bdv_ur_bean_3crv\"}, {\"timestamp\": \"2022-08-28T00:00:00\", \"value\": 1530624.442858, \"variable\": \"bdv_bean\"}, {\"timestamp\": \"2022-08-28T00:00:00\", \"value\": 39904205.537426, \"variable\": \"bdv_total\"}, {\"timestamp\": \"2022-08-29T00:00:00\", \"value\": 9965638.191439, \"variable\": \"bdv_ur_bean\"}, {\"timestamp\": \"2022-08-29T00:00:00\", \"value\": 1869121.21492, \"variable\": \"bdv_bean\"}, {\"timestamp\": \"2022-08-29T00:00:00\", \"value\": 27901307.415334, \"variable\": \"bdv_ur_bean_3crv\"}, {\"timestamp\": \"2022-08-29T00:00:00\", \"value\": 40858333.48333301, \"variable\": \"bdv_total\"}, {\"timestamp\": \"2022-08-29T00:00:00\", \"value\": 1122266.66164, \"variable\": \"bdv_bean_3crv\"}, {\"timestamp\": \"2022-08-30T00:00:00\", \"value\": 10093639.386828, \"variable\": \"bdv_ur_bean\"}, {\"timestamp\": \"2022-08-30T00:00:00\", \"value\": 1846137.292306, \"variable\": \"bdv_bean\"}, {\"timestamp\": \"2022-08-30T00:00:00\", \"value\": 27775370.947132, \"variable\": \"bdv_ur_bean_3crv\"}, {\"timestamp\": \"2022-08-30T00:00:00\", \"value\": 1122462.63845, \"variable\": \"bdv_bean_3crv\"}, {\"timestamp\": \"2022-08-30T00:00:00\", \"value\": 40837610.264716, \"variable\": \"bdv_total\"}, {\"timestamp\": \"2022-08-31T00:00:00\", \"value\": 27708893.137275, \"variable\": \"bdv_ur_bean_3crv\"}, {\"timestamp\": \"2022-08-31T00:00:00\", \"value\": 40850259.458272, \"variable\": \"bdv_total\"}, {\"timestamp\": \"2022-08-31T00:00:00\", \"value\": 1115959.584527, \"variable\": \"bdv_bean_3crv\"}, {\"timestamp\": \"2022-08-31T00:00:00\", \"value\": 10178357.942974, \"variable\": \"bdv_ur_bean\"}, {\"timestamp\": \"2022-08-31T00:00:00\", \"value\": 1847048.793496, \"variable\": \"bdv_bean\"}, {\"timestamp\": \"2022-09-01T00:00:00\", \"value\": 40828282.370543, \"variable\": \"bdv_total\"}, {\"timestamp\": \"2022-09-01T00:00:00\", \"value\": 1824474.918117, \"variable\": \"bdv_bean\"}, {\"timestamp\": \"2022-09-01T00:00:00\", \"value\": 10222220.177135, \"variable\": \"bdv_ur_bean\"}, {\"timestamp\": \"2022-09-01T00:00:00\", \"value\": 27669576.160952, \"variable\": \"bdv_ur_bean_3crv\"}, {\"timestamp\": \"2022-09-01T00:00:00\", \"value\": 1112011.114339, \"variable\": \"bdv_bean_3crv\"}, {\"timestamp\": \"2022-09-02T00:00:00\", \"value\": 1071574.617053, \"variable\": \"bdv_bean_3crv\"}, {\"timestamp\": \"2022-09-02T00:00:00\", \"value\": 1798079.112294, \"variable\": \"bdv_bean\"}, {\"timestamp\": \"2022-09-02T00:00:00\", \"value\": 40765756.285696, \"variable\": \"bdv_total\"}, {\"timestamp\": \"2022-09-02T00:00:00\", \"value\": 10297594.953546, \"variable\": \"bdv_ur_bean\"}, {\"timestamp\": \"2022-09-02T00:00:00\", \"value\": 27598507.602803, \"variable\": \"bdv_ur_bean_3crv\"}, {\"timestamp\": \"2022-09-03T00:00:00\", \"value\": 27559993.085273, \"variable\": \"bdv_ur_bean_3crv\"}, {\"timestamp\": \"2022-09-03T00:00:00\", \"value\": 10360424.021289, \"variable\": \"bdv_ur_bean\"}, {\"timestamp\": \"2022-09-03T00:00:00\", \"value\": 40710937.534698, \"variable\": \"bdv_total\"}, {\"timestamp\": \"2022-09-03T00:00:00\", \"value\": 1823631.030456, \"variable\": \"bdv_bean\"}, {\"timestamp\": \"2022-09-03T00:00:00\", \"value\": 966889.39768, \"variable\": \"bdv_bean_3crv\"}, {\"timestamp\": \"2022-09-04T00:00:00\", \"value\": 1824064.054297, \"variable\": \"bdv_bean\"}, {\"timestamp\": \"2022-09-04T00:00:00\", \"value\": 27563746.350397, \"variable\": \"bdv_ur_bean_3crv\"}, {\"timestamp\": \"2022-09-04T00:00:00\", \"value\": 10358281.832429, \"variable\": \"bdv_ur_bean\"}, {\"timestamp\": \"2022-09-04T00:00:00\", \"value\": 966550.532216, \"variable\": \"bdv_bean_3crv\"}, {\"timestamp\": \"2022-09-04T00:00:00\", \"value\": 40712642.769338995, \"variable\": \"bdv_total\"}, {\"timestamp\": \"2022-09-05T00:00:00\", \"value\": 40708127.996226005, \"variable\": \"bdv_total\"}, {\"timestamp\": \"2022-09-05T00:00:00\", \"value\": 1825477.837294, \"variable\": \"bdv_bean\"}, {\"timestamp\": \"2022-09-05T00:00:00\", \"value\": 967060.778585, \"variable\": \"bdv_bean_3crv\"}, {\"timestamp\": \"2022-09-05T00:00:00\", \"value\": 27503300.595346, \"variable\": \"bdv_ur_bean_3crv\"}, {\"timestamp\": \"2022-09-05T00:00:00\", \"value\": 10412288.785001, \"variable\": \"bdv_ur_bean\"}, {\"timestamp\": \"2022-09-06T00:00:00\", \"value\": 10413248.045098, \"variable\": \"bdv_ur_bean\"}, {\"timestamp\": \"2022-09-06T00:00:00\", \"value\": 1813063.41317, \"variable\": \"bdv_bean\"}, {\"timestamp\": \"2022-09-06T00:00:00\", \"value\": 959485.562375, \"variable\": \"bdv_bean_3crv\"}, {\"timestamp\": \"2022-09-06T00:00:00\", \"value\": 40698738.596294, \"variable\": \"bdv_total\"}, {\"timestamp\": \"2022-09-06T00:00:00\", \"value\": 27512941.575651, \"variable\": \"bdv_ur_bean_3crv\"}, {\"timestamp\": \"2022-09-07T00:00:00\", \"value\": 10506318.112696, \"variable\": \"bdv_ur_bean\"}, {\"timestamp\": \"2022-09-07T00:00:00\", \"value\": 27423908.314636, \"variable\": \"bdv_ur_bean_3crv\"}, {\"timestamp\": \"2022-09-07T00:00:00\", \"value\": 1811392.005759, \"variable\": \"bdv_bean\"}, {\"timestamp\": \"2022-09-07T00:00:00\", \"value\": 957419.559338, \"variable\": \"bdv_bean_3crv\"}, {\"timestamp\": \"2022-09-07T00:00:00\", \"value\": 40699037.992428996, \"variable\": \"bdv_total\"}, {\"timestamp\": \"2022-09-08T00:00:00\", \"value\": 1807543.553818, \"variable\": \"bdv_bean\"}, {\"timestamp\": \"2022-09-08T00:00:00\", \"value\": 40698987.374193996, \"variable\": \"bdv_total\"}, {\"timestamp\": \"2022-09-08T00:00:00\", \"value\": 958892.445975, \"variable\": \"bdv_bean_3crv\"}, {\"timestamp\": \"2022-09-08T00:00:00\", \"value\": 27330135.355623, \"variable\": \"bdv_ur_bean_3crv\"}, {\"timestamp\": \"2022-09-08T00:00:00\", \"value\": 10602416.018778, \"variable\": \"bdv_ur_bean\"}, {\"timestamp\": \"2022-09-09T00:00:00\", \"value\": 1806241.242145, \"variable\": \"bdv_bean\"}, {\"timestamp\": \"2022-09-09T00:00:00\", \"value\": 958800.559885, \"variable\": \"bdv_bean_3crv\"}, {\"timestamp\": \"2022-09-09T00:00:00\", \"value\": 10602808.502553, \"variable\": \"bdv_ur_bean\"}, {\"timestamp\": \"2022-09-09T00:00:00\", \"value\": 40698777.635842, \"variable\": \"bdv_total\"}, {\"timestamp\": \"2022-09-09T00:00:00\", \"value\": 27330927.331259, \"variable\": \"bdv_ur_bean_3crv\"}, {\"timestamp\": \"2022-09-10T00:00:00\", \"value\": 1806806.955044, \"variable\": \"bdv_bean\"}, {\"timestamp\": \"2022-09-10T00:00:00\", \"value\": 27331506.427072, \"variable\": \"bdv_ur_bean_3crv\"}, {\"timestamp\": \"2022-09-10T00:00:00\", \"value\": 10602662.13899, \"variable\": \"bdv_ur_bean\"}, {\"timestamp\": \"2022-09-10T00:00:00\", \"value\": 954124.209763, \"variable\": \"bdv_bean_3crv\"}, {\"timestamp\": \"2022-09-10T00:00:00\", \"value\": 40695099.730868995, \"variable\": \"bdv_total\"}, {\"timestamp\": \"2022-09-11T00:00:00\", \"value\": 1800204.844083, \"variable\": \"bdv_bean\"}, {\"timestamp\": \"2022-09-11T00:00:00\", \"value\": 40697602.889839, \"variable\": \"bdv_total\"}, {\"timestamp\": \"2022-09-11T00:00:00\", \"value\": 10606379.852713, \"variable\": \"bdv_ur_bean\"}, {\"timestamp\": \"2022-09-11T00:00:00\", \"value\": 27333916.903644, \"variable\": \"bdv_ur_bean_3crv\"}, {\"timestamp\": \"2022-09-11T00:00:00\", \"value\": 957101.289399, \"variable\": \"bdv_bean_3crv\"}, {\"timestamp\": \"2022-09-12T00:00:00\", \"value\": 27236738.294604, \"variable\": \"bdv_ur_bean_3crv\"}, {\"timestamp\": \"2022-09-12T00:00:00\", \"value\": 1768792.095841, \"variable\": \"bdv_bean\"}, {\"timestamp\": \"2022-09-12T00:00:00\", \"value\": 10703588.002009, \"variable\": \"bdv_ur_bean\"}, {\"timestamp\": \"2022-09-12T00:00:00\", \"value\": 40666919.023678, \"variable\": \"bdv_total\"}, {\"timestamp\": \"2022-09-12T00:00:00\", \"value\": 957800.631224, \"variable\": \"bdv_bean_3crv\"}, {\"timestamp\": \"2022-09-13T00:00:00\", \"value\": 40677313.340917, \"variable\": \"bdv_total\"}, {\"timestamp\": \"2022-09-13T00:00:00\", \"value\": 1765182.276061, \"variable\": \"bdv_bean\"}, {\"timestamp\": \"2022-09-13T00:00:00\", \"value\": 27241311.716738, \"variable\": \"bdv_ur_bean_3crv\"}, {\"timestamp\": \"2022-09-13T00:00:00\", \"value\": 10702676.687868, \"variable\": \"bdv_ur_bean\"}, {\"timestamp\": \"2022-09-13T00:00:00\", \"value\": 968142.66025, \"variable\": \"bdv_bean_3crv\"}, {\"timestamp\": \"2022-09-14T00:00:00\", \"value\": 972430.504861, \"variable\": \"bdv_bean_3crv\"}, {\"timestamp\": \"2022-09-14T00:00:00\", \"value\": 1765879.508492, \"variable\": \"bdv_bean\"}, {\"timestamp\": \"2022-09-14T00:00:00\", \"value\": 10711812.775048, \"variable\": \"bdv_ur_bean\"}, {\"timestamp\": \"2022-09-14T00:00:00\", \"value\": 40691557.002684005, \"variable\": \"bdv_total\"}, {\"timestamp\": \"2022-09-14T00:00:00\", \"value\": 27241434.214283, \"variable\": \"bdv_ur_bean_3crv\"}, {\"timestamp\": \"2022-09-15T00:00:00\", \"value\": 40666685.4074, \"variable\": \"bdv_total\"}, {\"timestamp\": \"2022-09-15T00:00:00\", \"value\": 1749056.779966, \"variable\": \"bdv_bean\"}, {\"timestamp\": \"2022-09-15T00:00:00\", \"value\": 27241786.304931, \"variable\": \"bdv_ur_bean_3crv\"}, {\"timestamp\": \"2022-09-15T00:00:00\", \"value\": 10711966.382379, \"variable\": \"bdv_ur_bean\"}, {\"timestamp\": \"2022-09-15T00:00:00\", \"value\": 963875.940124, \"variable\": \"bdv_bean_3crv\"}, {\"timestamp\": \"2022-09-16T00:00:00\", \"value\": 27135059.356066, \"variable\": \"bdv_ur_bean_3crv\"}, {\"timestamp\": \"2022-09-16T00:00:00\", \"value\": 979257.877419, \"variable\": \"bdv_bean_3crv\"}, {\"timestamp\": \"2022-09-16T00:00:00\", \"value\": 10819575.191612, \"variable\": \"bdv_ur_bean\"}, {\"timestamp\": \"2022-09-16T00:00:00\", \"value\": 1718192.526212, \"variable\": \"bdv_bean\"}, {\"timestamp\": \"2022-09-16T00:00:00\", \"value\": 40652084.951309, \"variable\": \"bdv_total\"}, {\"timestamp\": \"2022-09-17T00:00:00\", \"value\": 1718372.868038, \"variable\": \"bdv_bean\"}, {\"timestamp\": \"2022-09-17T00:00:00\", \"value\": 27136070.742089, \"variable\": \"bdv_ur_bean_3crv\"}, {\"timestamp\": \"2022-09-17T00:00:00\", \"value\": 40652972.26472, \"variable\": \"bdv_total\"}, {\"timestamp\": \"2022-09-17T00:00:00\", \"value\": 978223.405491, \"variable\": \"bdv_bean_3crv\"}, {\"timestamp\": \"2022-09-17T00:00:00\", \"value\": 10820305.249102, \"variable\": \"bdv_ur_bean\"}, {\"timestamp\": \"2022-09-18T00:00:00\", \"value\": 40651785.506719, \"variable\": \"bdv_total\"}, {\"timestamp\": \"2022-09-18T00:00:00\", \"value\": 27136635.739098, \"variable\": \"bdv_ur_bean_3crv\"}, {\"timestamp\": \"2022-09-18T00:00:00\", \"value\": 1716428.464194, \"variable\": \"bdv_bean\"}, {\"timestamp\": \"2022-09-18T00:00:00\", \"value\": 10820159.974364, \"variable\": \"bdv_ur_bean\"}, {\"timestamp\": \"2022-09-18T00:00:00\", \"value\": 978561.329063, \"variable\": \"bdv_bean_3crv\"}, {\"timestamp\": \"2022-09-19T00:00:00\", \"value\": 26994992.86755, \"variable\": \"bdv_ur_bean_3crv\"}, {\"timestamp\": \"2022-09-19T00:00:00\", \"value\": 11018433.95265, \"variable\": \"bdv_ur_bean\"}, {\"timestamp\": \"2022-09-19T00:00:00\", \"value\": 586695.696849, \"variable\": \"bdv_bean_3crv\"}, {\"timestamp\": \"2022-09-19T00:00:00\", \"value\": 1644795.925996, \"variable\": \"bdv_bean\"}, {\"timestamp\": \"2022-09-19T00:00:00\", \"value\": 40244918.443045, \"variable\": \"bdv_total\"}, {\"timestamp\": \"2022-09-20T00:00:00\", \"value\": 40239669.026844, \"variable\": \"bdv_total\"}, {\"timestamp\": \"2022-09-20T00:00:00\", \"value\": 1637816.743157, \"variable\": \"bdv_bean\"}, {\"timestamp\": \"2022-09-20T00:00:00\", \"value\": 26876992.74323, \"variable\": \"bdv_ur_bean_3crv\"}, {\"timestamp\": \"2022-09-20T00:00:00\", \"value\": 578337.155602, \"variable\": \"bdv_bean_3crv\"}, {\"timestamp\": \"2022-09-20T00:00:00\", \"value\": 11146522.384855, \"variable\": \"bdv_ur_bean\"}, {\"timestamp\": \"2022-09-21T00:00:00\", \"value\": 11147734.045563, \"variable\": \"bdv_ur_bean\"}, {\"timestamp\": \"2022-09-21T00:00:00\", \"value\": 26877859.931734, \"variable\": \"bdv_ur_bean_3crv\"}, {\"timestamp\": \"2022-09-21T00:00:00\", \"value\": 565935.159843, \"variable\": \"bdv_bean_3crv\"}, {\"timestamp\": \"2022-09-21T00:00:00\", \"value\": 40236651.798708, \"variable\": \"bdv_total\"}, {\"timestamp\": \"2022-09-21T00:00:00\", \"value\": 1645122.661568, \"variable\": \"bdv_bean\"}, {\"timestamp\": \"2022-09-22T00:00:00\", \"value\": 26883876.740635, \"variable\": \"bdv_ur_bean_3crv\"}, {\"timestamp\": \"2022-09-22T00:00:00\", \"value\": 1639819.622571, \"variable\": \"bdv_bean\"}, {\"timestamp\": \"2022-09-22T00:00:00\", \"value\": 565246.881353, \"variable\": \"bdv_bean_3crv\"}, {\"timestamp\": \"2022-09-22T00:00:00\", \"value\": 11150636.693134, \"variable\": \"bdv_ur_bean\"}, {\"timestamp\": \"2022-09-22T00:00:00\", \"value\": 40239579.937693, \"variable\": \"bdv_total\"}, {\"timestamp\": \"2022-09-23T00:00:00\", \"value\": 40240918.258485004, \"variable\": \"bdv_total\"}, {\"timestamp\": \"2022-09-23T00:00:00\", \"value\": 1641321.021213, \"variable\": \"bdv_bean\"}, {\"timestamp\": \"2022-09-23T00:00:00\", \"value\": 26884892.04134, \"variable\": \"bdv_ur_bean_3crv\"}, {\"timestamp\": \"2022-09-23T00:00:00\", \"value\": 11152045.824744, \"variable\": \"bdv_ur_bean\"}, {\"timestamp\": \"2022-09-23T00:00:00\", \"value\": 562659.371188, \"variable\": \"bdv_bean_3crv\"}, {\"timestamp\": \"2022-09-24T00:00:00\", \"value\": 561429.545312, \"variable\": \"bdv_bean_3crv\"}, {\"timestamp\": \"2022-09-24T00:00:00\", \"value\": 1639569.161322, \"variable\": \"bdv_bean\"}, {\"timestamp\": \"2022-09-24T00:00:00\", \"value\": 11150615.933001, \"variable\": \"bdv_ur_bean\"}, {\"timestamp\": \"2022-09-24T00:00:00\", \"value\": 26885663.591763, \"variable\": \"bdv_ur_bean_3crv\"}, {\"timestamp\": \"2022-09-24T00:00:00\", \"value\": 40237278.231398, \"variable\": \"bdv_total\"}, {\"timestamp\": \"2022-09-25T00:00:00\", \"value\": 560431.769231, \"variable\": \"bdv_bean_3crv\"}, {\"timestamp\": \"2022-09-25T00:00:00\", \"value\": 40236695.541751996, \"variable\": \"bdv_total\"}, {\"timestamp\": \"2022-09-25T00:00:00\", \"value\": 1639569.161322, \"variable\": \"bdv_bean\"}, {\"timestamp\": \"2022-09-25T00:00:00\", \"value\": 11152952.936443, \"variable\": \"bdv_ur_bean\"}, {\"timestamp\": \"2022-09-25T00:00:00\", \"value\": 26883741.674756, \"variable\": \"bdv_ur_bean_3crv\"}, {\"timestamp\": \"2022-09-26T00:00:00\", \"value\": 40248226.667543, \"variable\": \"bdv_total\"}, {\"timestamp\": \"2022-09-26T00:00:00\", \"value\": 1639180.91436, \"variable\": \"bdv_bean\"}, {\"timestamp\": \"2022-09-26T00:00:00\", \"value\": 26895658.607365, \"variable\": \"bdv_ur_bean_3crv\"}, {\"timestamp\": \"2022-09-26T00:00:00\", \"value\": 560259.398957, \"variable\": \"bdv_bean_3crv\"}, {\"timestamp\": \"2022-09-26T00:00:00\", \"value\": 11153127.746861, \"variable\": \"bdv_ur_bean\"}, {\"timestamp\": \"2022-09-27T00:00:00\", \"value\": 26896591.761799, \"variable\": \"bdv_ur_bean_3crv\"}, {\"timestamp\": \"2022-09-27T00:00:00\", \"value\": 544194.325156, \"variable\": \"bdv_bean_3crv\"}, {\"timestamp\": \"2022-09-27T00:00:00\", \"value\": 11153129.696953, \"variable\": \"bdv_ur_bean\"}, {\"timestamp\": \"2022-09-27T00:00:00\", \"value\": 1634592.510988, \"variable\": \"bdv_bean\"}, {\"timestamp\": \"2022-09-27T00:00:00\", \"value\": 40228508.294896, \"variable\": \"bdv_total\"}, {\"timestamp\": \"2022-09-28T00:00:00\", \"value\": 11203371.524525, \"variable\": \"bdv_ur_bean\"}, {\"timestamp\": \"2022-09-28T00:00:00\", \"value\": 1632184.190682, \"variable\": \"bdv_bean\"}, {\"timestamp\": \"2022-09-28T00:00:00\", \"value\": 26849264.274623, \"variable\": \"bdv_ur_bean_3crv\"}, {\"timestamp\": \"2022-09-28T00:00:00\", \"value\": 538216.535528, \"variable\": \"bdv_bean_3crv\"}, {\"timestamp\": \"2022-09-28T00:00:00\", \"value\": 40223036.525358, \"variable\": \"bdv_total\"}, {\"timestamp\": \"2022-09-29T00:00:00\", \"value\": 11203526.189489, \"variable\": \"bdv_ur_bean\"}, {\"timestamp\": \"2022-09-29T00:00:00\", \"value\": 40227518.2545, \"variable\": \"bdv_total\"}, {\"timestamp\": \"2022-09-29T00:00:00\", \"value\": 548294.298409, \"variable\": \"bdv_bean_3crv\"}, {\"timestamp\": \"2022-09-29T00:00:00\", \"value\": 1621658.58823, \"variable\": \"bdv_bean\"}, {\"timestamp\": \"2022-09-29T00:00:00\", \"value\": 26854039.178372, \"variable\": \"bdv_ur_bean_3crv\"}, {\"timestamp\": \"2022-09-30T00:00:00\", \"value\": 547968.175765, \"variable\": \"bdv_bean_3crv\"}, {\"timestamp\": \"2022-09-30T00:00:00\", \"value\": 26855000.561785, \"variable\": \"bdv_ur_bean_3crv\"}, {\"timestamp\": \"2022-09-30T00:00:00\", \"value\": 11195423.937177, \"variable\": \"bdv_ur_bean\"}, {\"timestamp\": \"2022-09-30T00:00:00\", \"value\": 1603104.422717, \"variable\": \"bdv_bean\"}, {\"timestamp\": \"2022-09-30T00:00:00\", \"value\": 40201497.097444, \"variable\": \"bdv_total\"}, {\"timestamp\": \"2022-10-01T00:00:00\", \"value\": 1467352.599158, \"variable\": \"bdv_bean\"}, {\"timestamp\": \"2022-10-01T00:00:00\", \"value\": 26854862.951949, \"variable\": \"bdv_ur_bean_3crv\"}, {\"timestamp\": \"2022-10-01T00:00:00\", \"value\": 547012.605321, \"variable\": \"bdv_bean_3crv\"}, {\"timestamp\": \"2022-10-01T00:00:00\", \"value\": 11195460.744677, \"variable\": \"bdv_ur_bean\"}, {\"timestamp\": \"2022-10-01T00:00:00\", \"value\": 40064688.901104994, \"variable\": \"bdv_total\"}, {\"timestamp\": \"2022-10-02T00:00:00\", \"value\": 40070844.369166, \"variable\": \"bdv_total\"}, {\"timestamp\": \"2022-10-02T00:00:00\", \"value\": 1456983.286596, \"variable\": \"bdv_bean\"}, {\"timestamp\": \"2022-10-02T00:00:00\", \"value\": 11195521.080287, \"variable\": \"bdv_ur_bean\"}, {\"timestamp\": \"2022-10-02T00:00:00\", \"value\": 26869482.373801, \"variable\": \"bdv_ur_bean_3crv\"}, {\"timestamp\": \"2022-10-02T00:00:00\", \"value\": 548857.628482, \"variable\": \"bdv_bean_3crv\"}, {\"timestamp\": \"2022-10-03T00:00:00\", \"value\": 39968982.195875004, \"variable\": \"bdv_total\"}, {\"timestamp\": \"2022-10-03T00:00:00\", \"value\": 1454710.933563, \"variable\": \"bdv_bean\"}, {\"timestamp\": \"2022-10-03T00:00:00\", \"value\": 440634.865529, \"variable\": \"bdv_bean_3crv\"}, {\"timestamp\": \"2022-10-03T00:00:00\", \"value\": 11197899.670117, \"variable\": \"bdv_ur_bean\"}, {\"timestamp\": \"2022-10-03T00:00:00\", \"value\": 26875736.726666, \"variable\": \"bdv_ur_bean_3crv\"}, {\"timestamp\": \"2022-10-04T00:00:00\", \"value\": 1444711.434615, \"variable\": \"bdv_bean\"}, {\"timestamp\": \"2022-10-04T00:00:00\", \"value\": 433451.447705, \"variable\": \"bdv_bean_3crv\"}, {\"timestamp\": \"2022-10-04T00:00:00\", \"value\": 39956924.314489, \"variable\": \"bdv_total\"}, {\"timestamp\": \"2022-10-04T00:00:00\", \"value\": 26873808.710026, \"variable\": \"bdv_ur_bean_3crv\"}, {\"timestamp\": \"2022-10-04T00:00:00\", \"value\": 11204952.722143, \"variable\": \"bdv_ur_bean\"}, {\"timestamp\": \"2022-10-05T00:00:00\", \"value\": 432511.555614, \"variable\": \"bdv_bean_3crv\"}, {\"timestamp\": \"2022-10-05T00:00:00\", \"value\": 1439390.018124, \"variable\": \"bdv_bean\"}, {\"timestamp\": \"2022-10-05T00:00:00\", \"value\": 11206806.166491, \"variable\": \"bdv_ur_bean\"}, {\"timestamp\": \"2022-10-05T00:00:00\", \"value\": 39962899.987182, \"variable\": \"bdv_total\"}, {\"timestamp\": \"2022-10-05T00:00:00\", \"value\": 26884192.246953, \"variable\": \"bdv_ur_bean_3crv\"}, {\"timestamp\": \"2022-10-06T00:00:00\", \"value\": 39957257.263578, \"variable\": \"bdv_total\"}, {\"timestamp\": \"2022-10-06T00:00:00\", \"value\": 26884462.993928, \"variable\": \"bdv_ur_bean_3crv\"}, {\"timestamp\": \"2022-10-06T00:00:00\", \"value\": 1437866.029783, \"variable\": \"bdv_bean\"}, {\"timestamp\": \"2022-10-06T00:00:00\", \"value\": 11206840.548418, \"variable\": \"bdv_ur_bean\"}, {\"timestamp\": \"2022-10-06T00:00:00\", \"value\": 428087.691449, \"variable\": \"bdv_bean_3crv\"}, {\"timestamp\": \"2022-10-07T00:00:00\", \"value\": 427684.51106, \"variable\": \"bdv_bean_3crv\"}, {\"timestamp\": \"2022-10-07T00:00:00\", \"value\": 11960744.904798, \"variable\": \"bdv_ur_bean\"}, {\"timestamp\": \"2022-10-07T00:00:00\", \"value\": 40596297.97124, \"variable\": \"bdv_total\"}, {\"timestamp\": \"2022-10-07T00:00:00\", \"value\": 26139551.207813, \"variable\": \"bdv_ur_bean_3crv\"}, {\"timestamp\": \"2022-10-07T00:00:00\", \"value\": 2068317.347569, \"variable\": \"bdv_bean\"}, {\"timestamp\": \"2022-10-08T00:00:00\", \"value\": 40596715.826813, \"variable\": \"bdv_total\"}, {\"timestamp\": \"2022-10-08T00:00:00\", \"value\": 427684.51106, \"variable\": \"bdv_bean_3crv\"}, {\"timestamp\": \"2022-10-08T00:00:00\", \"value\": 11960377.647119, \"variable\": \"bdv_ur_bean\"}, {\"timestamp\": \"2022-10-08T00:00:00\", \"value\": 26140001.258455, \"variable\": \"bdv_ur_bean_3crv\"}, {\"timestamp\": \"2022-10-08T00:00:00\", \"value\": 2068652.410179, \"variable\": \"bdv_bean\"}, {\"timestamp\": \"2022-10-09T00:00:00\", \"value\": 427684.51106, \"variable\": \"bdv_bean_3crv\"}, {\"timestamp\": \"2022-10-09T00:00:00\", \"value\": 11995729.334178, \"variable\": \"bdv_ur_bean\"}, {\"timestamp\": \"2022-10-09T00:00:00\", \"value\": 40597675.319777004, \"variable\": \"bdv_total\"}, {\"timestamp\": \"2022-10-09T00:00:00\", \"value\": 26105571.48144, \"variable\": \"bdv_ur_bean_3crv\"}, {\"timestamp\": \"2022-10-09T00:00:00\", \"value\": 2068689.993099, \"variable\": \"bdv_bean\"}, {\"timestamp\": \"2022-10-10T00:00:00\", \"value\": 40594633.000048, \"variable\": \"bdv_total\"}, {\"timestamp\": \"2022-10-10T00:00:00\", \"value\": 2066074.4745, \"variable\": \"bdv_bean\"}, {\"timestamp\": \"2022-10-10T00:00:00\", \"value\": 26103783.779006, \"variable\": \"bdv_ur_bean_3crv\"}, {\"timestamp\": \"2022-10-10T00:00:00\", \"value\": 427684.51106, \"variable\": \"bdv_bean_3crv\"}, {\"timestamp\": \"2022-10-10T00:00:00\", \"value\": 11997090.235482, \"variable\": \"bdv_ur_bean\"}, {\"timestamp\": \"2022-10-11T00:00:00\", \"value\": 420995.973557, \"variable\": \"bdv_bean_3crv\"}, {\"timestamp\": \"2022-10-11T00:00:00\", \"value\": 12065876.169916, \"variable\": \"bdv_ur_bean\"}, {\"timestamp\": \"2022-10-11T00:00:00\", \"value\": 26035055.999725, \"variable\": \"bdv_ur_bean_3crv\"}, {\"timestamp\": \"2022-10-11T00:00:00\", \"value\": 2073798.182858, \"variable\": \"bdv_bean\"}, {\"timestamp\": \"2022-10-11T00:00:00\", \"value\": 40595726.326055996, \"variable\": \"bdv_total\"}, {\"timestamp\": \"2022-10-12T00:00:00\", \"value\": 40607112.783098996, \"variable\": \"bdv_total\"}, {\"timestamp\": \"2022-10-12T00:00:00\", \"value\": 26035284.337968, \"variable\": \"bdv_ur_bean_3crv\"}, {\"timestamp\": \"2022-10-12T00:00:00\", \"value\": 431419.560714, \"variable\": \"bdv_bean_3crv\"}, {\"timestamp\": \"2022-10-12T00:00:00\", \"value\": 2074452.783623, \"variable\": \"bdv_bean\"}, {\"timestamp\": \"2022-10-12T00:00:00\", \"value\": 12065956.100794, \"variable\": \"bdv_ur_bean\"}, {\"timestamp\": \"2022-10-13T00:00:00\", \"value\": 26029754.052537, \"variable\": \"bdv_ur_bean_3crv\"}, {\"timestamp\": \"2022-10-13T00:00:00\", \"value\": 2074809.293388, \"variable\": \"bdv_bean\"}, {\"timestamp\": \"2022-10-13T00:00:00\", \"value\": 431419.560714, \"variable\": \"bdv_bean_3crv\"}, {\"timestamp\": \"2022-10-13T00:00:00\", \"value\": 40607469.292864, \"variable\": \"bdv_total\"}, {\"timestamp\": \"2022-10-13T00:00:00\", \"value\": 12071486.386225, \"variable\": \"bdv_ur_bean\"}, {\"timestamp\": \"2022-10-14T00:00:00\", \"value\": 12102446.115516, \"variable\": \"bdv_ur_bean\"}, {\"timestamp\": \"2022-10-14T00:00:00\", \"value\": 432189.031293, \"variable\": \"bdv_bean_3crv\"}, {\"timestamp\": \"2022-10-14T00:00:00\", \"value\": 2068118.519622, \"variable\": \"bdv_bean\"}, {\"timestamp\": \"2022-10-14T00:00:00\", \"value\": 26000550.134157, \"variable\": \"bdv_ur_bean_3crv\"}, {\"timestamp\": \"2022-10-14T00:00:00\", \"value\": 40603303.800588, \"variable\": \"bdv_total\"}, {\"timestamp\": \"2022-10-15T00:00:00\", \"value\": 40604958.092815004, \"variable\": \"bdv_total\"}, {\"timestamp\": \"2022-10-15T00:00:00\", \"value\": 25979940.759138, \"variable\": \"bdv_ur_bean_3crv\"}, {\"timestamp\": \"2022-10-15T00:00:00\", \"value\": 432221.978743, \"variable\": \"bdv_bean_3crv\"}, {\"timestamp\": \"2022-10-15T00:00:00\", \"value\": 12123009.101058, \"variable\": \"bdv_ur_bean\"}, {\"timestamp\": \"2022-10-15T00:00:00\", \"value\": 2069786.253876, \"variable\": \"bdv_bean\"}, {\"timestamp\": \"2022-10-16T00:00:00\", \"value\": 2045960.566035, \"variable\": \"bdv_bean\"}, {\"timestamp\": \"2022-10-16T00:00:00\", \"value\": 432356.9656, \"variable\": \"bdv_bean_3crv\"}, {\"timestamp\": \"2022-10-16T00:00:00\", \"value\": 40566869.854084, \"variable\": \"bdv_total\"}, {\"timestamp\": \"2022-10-16T00:00:00\", \"value\": 12123135.777302, \"variable\": \"bdv_ur_bean\"}, {\"timestamp\": \"2022-10-16T00:00:00\", \"value\": 25965416.545147, \"variable\": \"bdv_ur_bean_3crv\"}, {\"timestamp\": \"2022-10-17T00:00:00\", \"value\": 25884087.242453, \"variable\": \"bdv_ur_bean_3crv\"}, {\"timestamp\": \"2022-10-17T00:00:00\", \"value\": 432858.86311, \"variable\": \"bdv_bean_3crv\"}, {\"timestamp\": \"2022-10-17T00:00:00\", \"value\": 12209020.360492, \"variable\": \"bdv_ur_bean\"}, {\"timestamp\": \"2022-10-17T00:00:00\", \"value\": 40562429.825593, \"variable\": \"bdv_total\"}, {\"timestamp\": \"2022-10-17T00:00:00\", \"value\": 2036463.359538, \"variable\": \"bdv_bean\"}, {\"timestamp\": \"2022-10-18T00:00:00\", \"value\": 25885030.733377, \"variable\": \"bdv_ur_bean_3crv\"}, {\"timestamp\": \"2022-10-18T00:00:00\", \"value\": 12208561.588147, \"variable\": \"bdv_ur_bean\"}, {\"timestamp\": \"2022-10-18T00:00:00\", \"value\": 432459.686598, \"variable\": \"bdv_bean_3crv\"}, {\"timestamp\": \"2022-10-18T00:00:00\", \"value\": 2034049.136847, \"variable\": \"bdv_bean\"}, {\"timestamp\": \"2022-10-18T00:00:00\", \"value\": 40560101.144969, \"variable\": \"bdv_total\"}, {\"timestamp\": \"2022-10-19T00:00:00\", \"value\": 40561662.347027, \"variable\": \"bdv_total\"}, {\"timestamp\": \"2022-10-19T00:00:00\", \"value\": 2033916.559479, \"variable\": \"bdv_bean\"}, {\"timestamp\": \"2022-10-19T00:00:00\", \"value\": 432164.049149, \"variable\": \"bdv_bean_3crv\"}, {\"timestamp\": \"2022-10-19T00:00:00\", \"value\": 12219235.956456, \"variable\": \"bdv_ur_bean\"}, {\"timestamp\": \"2022-10-19T00:00:00\", \"value\": 25876345.781943, \"variable\": \"bdv_ur_bean_3crv\"}, {\"timestamp\": \"2022-10-20T00:00:00\", \"value\": 12258688.119723, \"variable\": \"bdv_ur_bean\"}, {\"timestamp\": \"2022-10-20T00:00:00\", \"value\": 432099.431961, \"variable\": \"bdv_bean_3crv\"}, {\"timestamp\": \"2022-10-20T00:00:00\", \"value\": 25837157.330431, \"variable\": \"bdv_ur_bean_3crv\"}, {\"timestamp\": \"2022-10-20T00:00:00\", \"value\": 40563445.743447, \"variable\": \"bdv_total\"}, {\"timestamp\": \"2022-10-20T00:00:00\", \"value\": 2035500.861332, \"variable\": \"bdv_bean\"}, {\"timestamp\": \"2022-10-21T00:00:00\", \"value\": 40582004.515139, \"variable\": \"bdv_total\"}, {\"timestamp\": \"2022-10-21T00:00:00\", \"value\": 2053018.080383, \"variable\": \"bdv_bean\"}, {\"timestamp\": \"2022-10-21T00:00:00\", \"value\": 433100.222813, \"variable\": \"bdv_bean_3crv\"}, {\"timestamp\": \"2022-10-21T00:00:00\", \"value\": 12258081.208353, \"variable\": \"bdv_ur_bean\"}, {\"timestamp\": \"2022-10-21T00:00:00\", \"value\": 25837805.00359, \"variable\": \"bdv_ur_bean_3crv\"}, {\"timestamp\": \"2022-10-22T00:00:00\", \"value\": 2054831.061525, \"variable\": \"bdv_bean\"}, {\"timestamp\": \"2022-10-22T00:00:00\", \"value\": 12265873.706651, \"variable\": \"bdv_ur_bean\"}, {\"timestamp\": \"2022-10-22T00:00:00\", \"value\": 40577142.304378, \"variable\": \"bdv_total\"}, {\"timestamp\": \"2022-10-22T00:00:00\", \"value\": 426346.095697, \"variable\": \"bdv_bean_3crv\"}, {\"timestamp\": \"2022-10-22T00:00:00\", \"value\": 25830091.440505, \"variable\": \"bdv_ur_bean_3crv\"}, {\"timestamp\": \"2022-10-23T00:00:00\", \"value\": 40577590.061938, \"variable\": \"bdv_total\"}, {\"timestamp\": \"2022-10-23T00:00:00\", \"value\": 12292856.689526, \"variable\": \"bdv_ur_bean\"}, {\"timestamp\": \"2022-10-23T00:00:00\", \"value\": 25803220.767381, \"variable\": \"bdv_ur_bean_3crv\"}, {\"timestamp\": \"2022-10-23T00:00:00\", \"value\": 426707.367374, \"variable\": \"bdv_bean_3crv\"}, {\"timestamp\": \"2022-10-23T00:00:00\", \"value\": 2054805.237657, \"variable\": \"bdv_bean\"}, {\"timestamp\": \"2022-10-24T00:00:00\", \"value\": 2052562.46066, \"variable\": \"bdv_bean\"}, {\"timestamp\": \"2022-10-24T00:00:00\", \"value\": 25808988.880628, \"variable\": \"bdv_ur_bean_3crv\"}, {\"timestamp\": \"2022-10-24T00:00:00\", \"value\": 40579423.545079, \"variable\": \"bdv_total\"}, {\"timestamp\": \"2022-10-24T00:00:00\", \"value\": 12287374.448539, \"variable\": \"bdv_ur_bean\"}, {\"timestamp\": \"2022-10-24T00:00:00\", \"value\": 430497.755252, \"variable\": \"bdv_bean_3crv\"}, {\"timestamp\": \"2022-10-25T00:00:00\", \"value\": 433651.727737, \"variable\": \"bdv_bean_3crv\"}, {\"timestamp\": \"2022-10-25T00:00:00\", \"value\": 12286509.764001, \"variable\": \"bdv_ur_bean\"}, {\"timestamp\": \"2022-10-25T00:00:00\", \"value\": 2058548.183769, \"variable\": \"bdv_bean\"}, {\"timestamp\": \"2022-10-25T00:00:00\", \"value\": 40599436.686119996, \"variable\": \"bdv_total\"}, {\"timestamp\": \"2022-10-25T00:00:00\", \"value\": 25820727.010613, \"variable\": \"bdv_ur_bean_3crv\"}, {\"timestamp\": \"2022-10-26T00:00:00\", \"value\": 40618689.94525801, \"variable\": \"bdv_total\"}, {\"timestamp\": \"2022-10-26T00:00:00\", \"value\": 12271427.506805, \"variable\": \"bdv_ur_bean\"}, {\"timestamp\": \"2022-10-26T00:00:00\", \"value\": 2068295.378555, \"variable\": \"bdv_bean\"}, {\"timestamp\": \"2022-10-26T00:00:00\", \"value\": 442856.402266, \"variable\": \"bdv_bean_3crv\"}, {\"timestamp\": \"2022-10-26T00:00:00\", \"value\": 25836110.657632, \"variable\": \"bdv_ur_bean_3crv\"}, {\"timestamp\": \"2022-10-27T00:00:00\", \"value\": 40636275.384033, \"variable\": \"bdv_total\"}, {\"timestamp\": \"2022-10-27T00:00:00\", \"value\": 444517.04381, \"variable\": \"bdv_bean_3crv\"}, {\"timestamp\": \"2022-10-27T00:00:00\", \"value\": 12315300.380665, \"variable\": \"bdv_ur_bean\"}, {\"timestamp\": \"2022-10-27T00:00:00\", \"value\": 2076434.643161, \"variable\": \"bdv_bean\"}, {\"timestamp\": \"2022-10-27T00:00:00\", \"value\": 25800023.316397, \"variable\": \"bdv_ur_bean_3crv\"}, {\"timestamp\": \"2022-10-28T00:00:00\", \"value\": 12317666.9719, \"variable\": \"bdv_ur_bean\"}, {\"timestamp\": \"2022-10-28T00:00:00\", \"value\": 40699017.957629, \"variable\": \"bdv_total\"}, {\"timestamp\": \"2022-10-28T00:00:00\", \"value\": 25849774.898543, \"variable\": \"bdv_ur_bean_3crv\"}, {\"timestamp\": \"2022-10-28T00:00:00\", \"value\": 446207.51672, \"variable\": \"bdv_bean_3crv\"}, {\"timestamp\": \"2022-10-28T00:00:00\", \"value\": 2085368.570466, \"variable\": \"bdv_bean\"}, {\"timestamp\": \"2022-10-29T00:00:00\", \"value\": 40755099.897229, \"variable\": \"bdv_total\"}, {\"timestamp\": \"2022-10-29T00:00:00\", \"value\": 12403895.933897, \"variable\": \"bdv_ur_bean\"}, {\"timestamp\": \"2022-10-29T00:00:00\", \"value\": 25763773.383214, \"variable\": \"bdv_ur_bean_3crv\"}, {\"timestamp\": \"2022-10-29T00:00:00\", \"value\": 2112174.383756, \"variable\": \"bdv_bean\"}, {\"timestamp\": \"2022-10-29T00:00:00\", \"value\": 475256.196362, \"variable\": \"bdv_bean_3crv\"}, {\"timestamp\": \"2022-10-30T00:00:00\", \"value\": 12391059.430634, \"variable\": \"bdv_ur_bean\"}, {\"timestamp\": \"2022-10-30T00:00:00\", \"value\": 477341.475735, \"variable\": \"bdv_bean_3crv\"}, {\"timestamp\": \"2022-10-30T00:00:00\", \"value\": 25801520.710585, \"variable\": \"bdv_ur_bean_3crv\"}, {\"timestamp\": \"2022-10-30T00:00:00\", \"value\": 2123178.040287, \"variable\": \"bdv_bean\"}, {\"timestamp\": \"2022-10-30T00:00:00\", \"value\": 40793099.657241, \"variable\": \"bdv_total\"}, {\"timestamp\": \"2022-10-31T00:00:00\", \"value\": 40790747.178227, \"variable\": \"bdv_total\"}, {\"timestamp\": \"2022-10-31T00:00:00\", \"value\": 478768.048177, \"variable\": \"bdv_bean_3crv\"}, {\"timestamp\": \"2022-10-31T00:00:00\", \"value\": 25707726.982806, \"variable\": \"bdv_ur_bean_3crv\"}, {\"timestamp\": \"2022-10-31T00:00:00\", \"value\": 12489638.256806, \"variable\": \"bdv_ur_bean\"}, {\"timestamp\": \"2022-10-31T00:00:00\", \"value\": 2114613.890438, \"variable\": \"bdv_bean\"}, {\"timestamp\": \"2022-11-01T00:00:00\", \"value\": 2137146.99016, \"variable\": \"bdv_bean\"}, {\"timestamp\": \"2022-11-01T00:00:00\", \"value\": 12501799.469241, \"variable\": \"bdv_ur_bean\"}, {\"timestamp\": \"2022-11-01T00:00:00\", \"value\": 25678065.385471, \"variable\": \"bdv_ur_bean_3crv\"}, {\"timestamp\": \"2022-11-01T00:00:00\", \"value\": 40811749.87212, \"variable\": \"bdv_total\"}, {\"timestamp\": \"2022-11-01T00:00:00\", \"value\": 494738.027248, \"variable\": \"bdv_bean_3crv\"}, {\"timestamp\": \"2022-11-02T00:00:00\", \"value\": 40851143.987682, \"variable\": \"bdv_total\"}, {\"timestamp\": \"2022-11-02T00:00:00\", \"value\": 531198.016448, \"variable\": \"bdv_bean_3crv\"}, {\"timestamp\": \"2022-11-02T00:00:00\", \"value\": 12542588.557877, \"variable\": \"bdv_ur_bean\"}, {\"timestamp\": \"2022-11-02T00:00:00\", \"value\": 25641808.033356, \"variable\": \"bdv_ur_bean_3crv\"}, {\"timestamp\": \"2022-11-02T00:00:00\", \"value\": 2135549.380001, \"variable\": \"bdv_bean\"}, {\"timestamp\": \"2022-11-03T00:00:00\", \"value\": 2139336.39416, \"variable\": \"bdv_bean\"}, {\"timestamp\": \"2022-11-03T00:00:00\", \"value\": 12597495.254933, \"variable\": \"bdv_ur_bean\"}, {\"timestamp\": \"2022-11-03T00:00:00\", \"value\": 25588749.19793, \"variable\": \"bdv_ur_bean_3crv\"}, {\"timestamp\": \"2022-11-03T00:00:00\", \"value\": 534455.260064, \"variable\": \"bdv_bean_3crv\"}, {\"timestamp\": \"2022-11-03T00:00:00\", \"value\": 40860036.107087, \"variable\": \"bdv_total\"}, {\"timestamp\": \"2022-11-04T00:00:00\", \"value\": 40994579.407563, \"variable\": \"bdv_total\"}, {\"timestamp\": \"2022-11-04T00:00:00\", \"value\": 25638176.48636, \"variable\": \"bdv_ur_bean_3crv\"}, {\"timestamp\": \"2022-11-04T00:00:00\", \"value\": 12594664.536726, \"variable\": \"bdv_ur_bean\"}, {\"timestamp\": \"2022-11-04T00:00:00\", \"value\": 2151352.483797, \"variable\": \"bdv_bean\"}, {\"timestamp\": \"2022-11-04T00:00:00\", \"value\": 610385.90068, \"variable\": \"bdv_bean_3crv\"}, {\"timestamp\": \"2022-11-05T00:00:00\", \"value\": 41030435.955276, \"variable\": \"bdv_total\"}, {\"timestamp\": \"2022-11-05T00:00:00\", \"value\": 575618.740681, \"variable\": \"bdv_bean_3crv\"}, {\"timestamp\": \"2022-11-05T00:00:00\", \"value\": 12642828.789454, \"variable\": \"bdv_ur_bean\"}, {\"timestamp\": \"2022-11-05T00:00:00\", \"value\": 25591541.443193, \"variable\": \"bdv_ur_bean_3crv\"}, {\"timestamp\": \"2022-11-05T00:00:00\", \"value\": 2220446.981948, \"variable\": \"bdv_bean\"}, {\"timestamp\": \"2022-11-06T00:00:00\", \"value\": 2268524.37042, \"variable\": \"bdv_bean\"}, {\"timestamp\": \"2022-11-06T00:00:00\", \"value\": 12665834.039245, \"variable\": \"bdv_ur_bean\"}, {\"timestamp\": \"2022-11-06T00:00:00\", \"value\": 25570139.088915, \"variable\": \"bdv_ur_bean_3crv\"}, {\"timestamp\": \"2022-11-06T00:00:00\", \"value\": 578468.513865, \"variable\": \"bdv_bean_3crv\"}, {\"timestamp\": \"2022-11-06T00:00:00\", \"value\": 41082966.012445, \"variable\": \"bdv_total\"}, {\"timestamp\": \"2022-11-07T00:00:00\", \"value\": 12666308.568976, \"variable\": \"bdv_ur_bean\"}, {\"timestamp\": \"2022-11-07T00:00:00\", \"value\": 581381.9226, \"variable\": \"bdv_bean_3crv\"}, {\"timestamp\": \"2022-11-07T00:00:00\", \"value\": 2300263.63048, \"variable\": \"bdv_bean\"}, {\"timestamp\": \"2022-11-07T00:00:00\", \"value\": 25574815.556362, \"variable\": \"bdv_ur_bean_3crv\"}, {\"timestamp\": \"2022-11-07T00:00:00\", \"value\": 41122769.678417996, \"variable\": \"bdv_total\"}, {\"timestamp\": \"2022-11-08T00:00:00\", \"value\": 25528048.472961, \"variable\": \"bdv_ur_bean_3crv\"}, {\"timestamp\": \"2022-11-08T00:00:00\", \"value\": 2292708.819588, \"variable\": \"bdv_bean\"}, {\"timestamp\": \"2022-11-08T00:00:00\", \"value\": 12704273.463759, \"variable\": \"bdv_ur_bean\"}, {\"timestamp\": \"2022-11-08T00:00:00\", \"value\": 585271.876448, \"variable\": \"bdv_bean_3crv\"}, {\"timestamp\": \"2022-11-08T00:00:00\", \"value\": 41110302.632756, \"variable\": \"bdv_total\"}, {\"timestamp\": \"2022-11-09T00:00:00\", \"value\": 41082603.179636, \"variable\": \"bdv_total\"}, {\"timestamp\": \"2022-11-09T00:00:00\", \"value\": 12693125.333749, \"variable\": \"bdv_ur_bean\"}, {\"timestamp\": \"2022-11-09T00:00:00\", \"value\": 580426.399342, \"variable\": \"bdv_bean_3crv\"}, {\"timestamp\": \"2022-11-09T00:00:00\", \"value\": 2268561.644176, \"variable\": \"bdv_bean\"}, {\"timestamp\": \"2022-11-09T00:00:00\", \"value\": 25540489.802369, \"variable\": \"bdv_ur_bean_3crv\"}, {\"timestamp\": \"2022-11-10T00:00:00\", \"value\": 2253924.892823, \"variable\": \"bdv_bean\"}, {\"timestamp\": \"2022-11-10T00:00:00\", \"value\": 41109000.054579, \"variable\": \"bdv_total\"}, {\"timestamp\": \"2022-11-10T00:00:00\", \"value\": 581980.794778, \"variable\": \"bdv_bean_3crv\"}, {\"timestamp\": \"2022-11-10T00:00:00\", \"value\": 12809971.624526, \"variable\": \"bdv_ur_bean\"}, {\"timestamp\": \"2022-11-10T00:00:00\", \"value\": 25463122.742452, \"variable\": \"bdv_ur_bean_3crv\"}, {\"timestamp\": \"2022-11-11T00:00:00\", \"value\": 41202292.590216, \"variable\": \"bdv_total\"}, {\"timestamp\": \"2022-11-11T00:00:00\", \"value\": 2331744.401572, \"variable\": \"bdv_bean\"}, {\"timestamp\": \"2022-11-11T00:00:00\", \"value\": 12857158.811491, \"variable\": \"bdv_ur_bean\"}, {\"timestamp\": \"2022-11-11T00:00:00\", \"value\": 25439754.148957, \"variable\": \"bdv_ur_bean_3crv\"}, {\"timestamp\": \"2022-11-11T00:00:00\", \"value\": 573635.228196, \"variable\": \"bdv_bean_3crv\"}, {\"timestamp\": \"2022-11-12T00:00:00\", \"value\": 573140.848731, \"variable\": \"bdv_bean_3crv\"}, {\"timestamp\": \"2022-11-12T00:00:00\", \"value\": 12944403.400524, \"variable\": \"bdv_ur_bean\"}, {\"timestamp\": \"2022-11-12T00:00:00\", \"value\": 25357882.046145, \"variable\": \"bdv_ur_bean_3crv\"}, {\"timestamp\": \"2022-11-12T00:00:00\", \"value\": 41190793.500981, \"variable\": \"bdv_total\"}, {\"timestamp\": \"2022-11-12T00:00:00\", \"value\": 2315367.205581, \"variable\": \"bdv_bean\"}, {\"timestamp\": \"2022-11-13T00:00:00\", \"value\": 41221383.25826, \"variable\": \"bdv_total\"}, {\"timestamp\": \"2022-11-13T00:00:00\", \"value\": 573922.651287, \"variable\": \"bdv_bean_3crv\"}, {\"timestamp\": \"2022-11-13T00:00:00\", \"value\": 12964726.424026, \"variable\": \"bdv_ur_bean\"}, {\"timestamp\": \"2022-11-13T00:00:00\", \"value\": 25337591.168128, \"variable\": \"bdv_ur_bean_3crv\"}, {\"timestamp\": \"2022-11-13T00:00:00\", \"value\": 2345143.014819, \"variable\": \"bdv_bean\"}, {\"timestamp\": \"2022-11-14T00:00:00\", \"value\": 12985991.673719, \"variable\": \"bdv_ur_bean\"}, {\"timestamp\": \"2022-11-14T00:00:00\", \"value\": 576349.417626, \"variable\": \"bdv_bean_3crv\"}, {\"timestamp\": \"2022-11-14T00:00:00\", \"value\": 2343522.205253, \"variable\": \"bdv_bean\"}, {\"timestamp\": \"2022-11-14T00:00:00\", \"value\": 41224315.748781, \"variable\": \"bdv_total\"}, {\"timestamp\": \"2022-11-14T00:00:00\", \"value\": 25318452.452183, \"variable\": \"bdv_ur_bean_3crv\"}, {\"timestamp\": \"2022-11-15T00:00:00\", \"value\": 41213745.679433, \"variable\": \"bdv_total\"}, {\"timestamp\": \"2022-11-15T00:00:00\", \"value\": 25268667.40109, \"variable\": \"bdv_ur_bean_3crv\"}, {\"timestamp\": \"2022-11-15T00:00:00\", \"value\": 13042383.362863, \"variable\": \"bdv_ur_bean\"}, {\"timestamp\": \"2022-11-15T00:00:00\", \"value\": 578140.146526, \"variable\": \"bdv_bean_3crv\"}, {\"timestamp\": \"2022-11-15T00:00:00\", \"value\": 2324554.768954, \"variable\": \"bdv_bean\"}, {\"timestamp\": \"2022-11-16T00:00:00\", \"value\": 2393433.879702, \"variable\": \"bdv_bean\"}, {\"timestamp\": \"2022-11-16T00:00:00\", \"value\": 25239336.239618, \"variable\": \"bdv_ur_bean_3crv\"}, {\"timestamp\": \"2022-11-16T00:00:00\", \"value\": 575916.008854, \"variable\": \"bdv_bean_3crv\"}, {\"timestamp\": \"2022-11-16T00:00:00\", \"value\": 41280876.132736, \"variable\": \"bdv_total\"}, {\"timestamp\": \"2022-11-16T00:00:00\", \"value\": 13072190.004562, \"variable\": \"bdv_ur_bean\"}, {\"timestamp\": \"2022-11-17T00:00:00\", \"value\": 576811.977625, \"variable\": \"bdv_bean_3crv\"}, {\"timestamp\": \"2022-11-17T00:00:00\", \"value\": 13131564.796912, \"variable\": \"bdv_ur_bean\"}, {\"timestamp\": \"2022-11-17T00:00:00\", \"value\": 2387642.573144, \"variable\": \"bdv_bean\"}, {\"timestamp\": \"2022-11-17T00:00:00\", \"value\": 41279948.332067, \"variable\": \"bdv_total\"}, {\"timestamp\": \"2022-11-17T00:00:00\", \"value\": 25183928.984386, \"variable\": \"bdv_ur_bean_3crv\"}, {\"timestamp\": \"2022-11-18T00:00:00\", \"value\": 41291508.647096, \"variable\": \"bdv_total\"}, {\"timestamp\": \"2022-11-18T00:00:00\", \"value\": 2395880.70783, \"variable\": \"bdv_bean\"}, {\"timestamp\": \"2022-11-18T00:00:00\", \"value\": 25184566.763851, \"variable\": \"bdv_ur_bean_3crv\"}, {\"timestamp\": \"2022-11-18T00:00:00\", \"value\": 579839.031829, \"variable\": \"bdv_bean_3crv\"}, {\"timestamp\": \"2022-11-18T00:00:00\", \"value\": 13131222.143586, \"variable\": \"bdv_ur_bean\"}, {\"timestamp\": \"2022-11-19T00:00:00\", \"value\": 41289036.018174, \"variable\": \"bdv_total\"}, {\"timestamp\": \"2022-11-19T00:00:00\", \"value\": 574314.453079, \"variable\": \"bdv_bean_3crv\"}, {\"timestamp\": \"2022-11-19T00:00:00\", \"value\": 13152806.352467, \"variable\": \"bdv_ur_bean\"}, {\"timestamp\": \"2022-11-19T00:00:00\", \"value\": 25171158.087364, \"variable\": \"bdv_ur_bean_3crv\"}, {\"timestamp\": \"2022-11-19T00:00:00\", \"value\": 2390757.125264, \"variable\": \"bdv_bean\"}, {\"timestamp\": \"2022-11-20T00:00:00\", \"value\": 2394209.359685, \"variable\": \"bdv_bean\"}, {\"timestamp\": \"2022-11-20T00:00:00\", \"value\": 13185307.353281, \"variable\": \"bdv_ur_bean\"}, {\"timestamp\": \"2022-11-20T00:00:00\", \"value\": 41294271.124893, \"variable\": \"bdv_total\"}, {\"timestamp\": \"2022-11-20T00:00:00\", \"value\": 575597.234277, \"variable\": \"bdv_bean_3crv\"}, {\"timestamp\": \"2022-11-20T00:00:00\", \"value\": 25139157.17765, \"variable\": \"bdv_ur_bean_3crv\"}, {\"timestamp\": \"2022-11-21T00:00:00\", \"value\": 575730.858253, \"variable\": \"bdv_bean_3crv\"}, {\"timestamp\": \"2022-11-21T00:00:00\", \"value\": 41254446.857903, \"variable\": \"bdv_total\"}, {\"timestamp\": \"2022-11-21T00:00:00\", \"value\": 25140010.839075, \"variable\": \"bdv_ur_bean_3crv\"}, {\"timestamp\": \"2022-11-21T00:00:00\", \"value\": 2390769.59396, \"variable\": \"bdv_bean\"}, {\"timestamp\": \"2022-11-21T00:00:00\", \"value\": 13147935.566615, \"variable\": \"bdv_ur_bean\"}, {\"timestamp\": \"2022-11-22T00:00:00\", \"value\": 576269.468048, \"variable\": \"bdv_bean_3crv\"}, {\"timestamp\": \"2022-11-22T00:00:00\", \"value\": 2382989.46726, \"variable\": \"bdv_bean\"}, {\"timestamp\": \"2022-11-22T00:00:00\", \"value\": 13147948.554972, \"variable\": \"bdv_ur_bean\"}, {\"timestamp\": \"2022-11-22T00:00:00\", \"value\": 25140059.042975, \"variable\": \"bdv_ur_bean_3crv\"}, {\"timestamp\": \"2022-11-22T00:00:00\", \"value\": 41247266.533255, \"variable\": \"bdv_total\"}, {\"timestamp\": \"2022-11-23T00:00:00\", \"value\": 41184336.878941, \"variable\": \"bdv_total\"}, {\"timestamp\": \"2022-11-23T00:00:00\", \"value\": 25140574.392193, \"variable\": \"bdv_ur_bean_3crv\"}, {\"timestamp\": \"2022-11-23T00:00:00\", \"value\": 13148137.239816, \"variable\": \"bdv_ur_bean\"}, {\"timestamp\": \"2022-11-23T00:00:00\", \"value\": 570277.880608, \"variable\": \"bdv_bean_3crv\"}, {\"timestamp\": \"2022-11-23T00:00:00\", \"value\": 2325347.366324, \"variable\": \"bdv_bean\"}, {\"timestamp\": \"2022-11-24T00:00:00\", \"value\": 568982.086288, \"variable\": \"bdv_bean_3crv\"}, {\"timestamp\": \"2022-11-24T00:00:00\", \"value\": 13148566.976236, \"variable\": \"bdv_ur_bean\"}, {\"timestamp\": \"2022-11-24T00:00:00\", \"value\": 25141048.698351, \"variable\": \"bdv_ur_bean_3crv\"}, {\"timestamp\": \"2022-11-24T00:00:00\", \"value\": 2310846.312011, \"variable\": \"bdv_bean\"}, {\"timestamp\": \"2022-11-24T00:00:00\", \"value\": 41169444.072886, \"variable\": \"bdv_total\"}, {\"timestamp\": \"2022-11-25T00:00:00\", \"value\": 2311053.074274, \"variable\": \"bdv_bean\"}, {\"timestamp\": \"2022-11-25T00:00:00\", \"value\": 41170382.98547, \"variable\": \"bdv_total\"}, {\"timestamp\": \"2022-11-25T00:00:00\", \"value\": 568887.648274, \"variable\": \"bdv_bean_3crv\"}, {\"timestamp\": \"2022-11-25T00:00:00\", \"value\": 13148575.888544, \"variable\": \"bdv_ur_bean\"}, {\"timestamp\": \"2022-11-25T00:00:00\", \"value\": 25141866.374378, \"variable\": \"bdv_ur_bean_3crv\"}, {\"timestamp\": \"2022-11-26T00:00:00\", \"value\": 41161551.506204, \"variable\": \"bdv_total\"}, {\"timestamp\": \"2022-11-26T00:00:00\", \"value\": 2308943.423334, \"variable\": \"bdv_bean\"}, {\"timestamp\": \"2022-11-26T00:00:00\", \"value\": 561555.516549, \"variable\": \"bdv_bean_3crv\"}, {\"timestamp\": \"2022-11-26T00:00:00\", \"value\": 25120203.677213, \"variable\": \"bdv_ur_bean_3crv\"}, {\"timestamp\": \"2022-11-26T00:00:00\", \"value\": 13170848.889108, \"variable\": \"bdv_ur_bean\"}, {\"timestamp\": \"2022-11-27T00:00:00\", \"value\": 41126993.017314, \"variable\": \"bdv_total\"}, {\"timestamp\": \"2022-11-27T00:00:00\", \"value\": 561825.327727, \"variable\": \"bdv_bean_3crv\"}, {\"timestamp\": \"2022-11-27T00:00:00\", \"value\": 13170848.98195, \"variable\": \"bdv_ur_bean\"}, {\"timestamp\": \"2022-11-27T00:00:00\", \"value\": 2273945.606953, \"variable\": \"bdv_bean\"}, {\"timestamp\": \"2022-11-27T00:00:00\", \"value\": 25120373.100684, \"variable\": \"bdv_ur_bean_3crv\"}, {\"timestamp\": \"2022-11-28T00:00:00\", \"value\": 41122204.538187996, \"variable\": \"bdv_total\"}, {\"timestamp\": \"2022-11-28T00:00:00\", \"value\": 559829.230059, \"variable\": \"bdv_bean_3crv\"}, {\"timestamp\": \"2022-11-28T00:00:00\", \"value\": 13191234.760035, \"variable\": \"bdv_ur_bean\"}, {\"timestamp\": \"2022-11-28T00:00:00\", \"value\": 25103548.599211, \"variable\": \"bdv_ur_bean_3crv\"}, {\"timestamp\": \"2022-11-28T00:00:00\", \"value\": 2267591.948883, \"variable\": \"bdv_bean\"}, {\"timestamp\": \"2022-11-29T00:00:00\", \"value\": 532552.633495, \"variable\": \"bdv_bean_3crv\"}, {\"timestamp\": \"2022-11-29T00:00:00\", \"value\": 41105232.339715004, \"variable\": \"bdv_total\"}, {\"timestamp\": \"2022-11-29T00:00:00\", \"value\": 25098492.468538, \"variable\": \"bdv_ur_bean_3crv\"}, {\"timestamp\": \"2022-11-29T00:00:00\", \"value\": 13198870.736583, \"variable\": \"bdv_ur_bean\"}, {\"timestamp\": \"2022-11-29T00:00:00\", \"value\": 2275316.501099, \"variable\": \"bdv_bean\"}, {\"timestamp\": \"2022-11-30T00:00:00\", \"value\": 2253215.636178, \"variable\": \"bdv_bean\"}, {\"timestamp\": \"2022-11-30T00:00:00\", \"value\": 25056530.340405, \"variable\": \"bdv_ur_bean_3crv\"}, {\"timestamp\": \"2022-11-30T00:00:00\", \"value\": 13247682.258975, \"variable\": \"bdv_ur_bean\"}, {\"timestamp\": \"2022-11-30T00:00:00\", \"value\": 531046.067204, \"variable\": \"bdv_bean_3crv\"}, {\"timestamp\": \"2022-11-30T00:00:00\", \"value\": 41088474.302762, \"variable\": \"bdv_total\"}, {\"timestamp\": \"2022-12-01T00:00:00\", \"value\": 41071957.048063, \"variable\": \"bdv_total\"}, {\"timestamp\": \"2022-12-01T00:00:00\", \"value\": 2241432.897607, \"variable\": \"bdv_bean\"}, {\"timestamp\": \"2022-12-01T00:00:00\", \"value\": 524355.747544, \"variable\": \"bdv_bean_3crv\"}, {\"timestamp\": \"2022-12-01T00:00:00\", \"value\": 13304348.105725, \"variable\": \"bdv_ur_bean\"}, {\"timestamp\": \"2022-12-01T00:00:00\", \"value\": 25001820.297187, \"variable\": \"bdv_ur_bean_3crv\"}, {\"timestamp\": \"2022-12-02T00:00:00\", \"value\": 41072480.70059, \"variable\": \"bdv_total\"}, {\"timestamp\": \"2022-12-02T00:00:00\", \"value\": 13304348.817743, \"variable\": \"bdv_ur_bean\"}, {\"timestamp\": \"2022-12-02T00:00:00\", \"value\": 25002922.886191, \"variable\": \"bdv_ur_bean_3crv\"}, {\"timestamp\": \"2022-12-02T00:00:00\", \"value\": 2240853.249112, \"variable\": \"bdv_bean\"}, {\"timestamp\": \"2022-12-02T00:00:00\", \"value\": 524355.747544, \"variable\": \"bdv_bean_3crv\"}, {\"timestamp\": \"2022-12-03T00:00:00\", \"value\": 41073519.590405, \"variable\": \"bdv_total\"}, {\"timestamp\": \"2022-12-03T00:00:00\", \"value\": 13304350.512309, \"variable\": \"bdv_ur_bean\"}, {\"timestamp\": \"2022-12-03T00:00:00\", \"value\": 25003349.22338, \"variable\": \"bdv_ur_bean_3crv\"}, {\"timestamp\": \"2022-12-03T00:00:00\", \"value\": 2241464.107172, \"variable\": \"bdv_bean\"}, {\"timestamp\": \"2022-12-03T00:00:00\", \"value\": 524355.747544, \"variable\": \"bdv_bean_3crv\"}, {\"timestamp\": \"2022-12-04T00:00:00\", \"value\": 41075819.701594, \"variable\": \"bdv_total\"}, {\"timestamp\": \"2022-12-04T00:00:00\", \"value\": 2240207.996019, \"variable\": \"bdv_bean\"}, {\"timestamp\": \"2022-12-04T00:00:00\", \"value\": 25006900.270034, \"variable\": \"bdv_ur_bean_3crv\"}, {\"timestamp\": \"2022-12-04T00:00:00\", \"value\": 524355.747544, \"variable\": \"bdv_bean_3crv\"}, {\"timestamp\": \"2022-12-04T00:00:00\", \"value\": 13304355.687997, \"variable\": \"bdv_ur_bean\"}, {\"timestamp\": \"2022-12-05T00:00:00\", \"value\": 41068769.158536, \"variable\": \"bdv_total\"}, {\"timestamp\": \"2022-12-05T00:00:00\", \"value\": 2249347.567125, \"variable\": \"bdv_bean\"}, {\"timestamp\": \"2022-12-05T00:00:00\", \"value\": 13304515.164767, \"variable\": \"bdv_ur_bean\"}, {\"timestamp\": \"2022-12-05T00:00:00\", \"value\": 503443.385977, \"variable\": \"bdv_bean_3crv\"}, {\"timestamp\": \"2022-12-05T00:00:00\", \"value\": 25011463.040667, \"variable\": \"bdv_ur_bean_3crv\"}, {\"timestamp\": \"2022-12-06T00:00:00\", \"value\": 41074244.42724401, \"variable\": \"bdv_total\"}, {\"timestamp\": \"2022-12-06T00:00:00\", \"value\": 503092.354764, \"variable\": \"bdv_bean_3crv\"}, {\"timestamp\": \"2022-12-06T00:00:00\", \"value\": 2246047.594293, \"variable\": \"bdv_bean\"}, {\"timestamp\": \"2022-12-06T00:00:00\", \"value\": 25019871.446602, \"variable\": \"bdv_ur_bean_3crv\"}, {\"timestamp\": \"2022-12-06T00:00:00\", \"value\": 13305233.031585, \"variable\": \"bdv_ur_bean\"}, {\"timestamp\": \"2022-12-07T00:00:00\", \"value\": 13305239.218158, \"variable\": \"bdv_ur_bean\"}, {\"timestamp\": \"2022-12-07T00:00:00\", \"value\": 492489.95236, \"variable\": \"bdv_bean_3crv\"}, {\"timestamp\": \"2022-12-07T00:00:00\", \"value\": 25018052.931938, \"variable\": \"bdv_ur_bean_3crv\"}, {\"timestamp\": \"2022-12-07T00:00:00\", \"value\": 2255769.273582, \"variable\": \"bdv_bean\"}, {\"timestamp\": \"2022-12-07T00:00:00\", \"value\": 41071551.376038, \"variable\": \"bdv_total\"}, {\"timestamp\": \"2022-12-08T00:00:00\", \"value\": 41071177.388784, \"variable\": \"bdv_total\"}, {\"timestamp\": \"2022-12-08T00:00:00\", \"value\": 13305240.590996, \"variable\": \"bdv_ur_bean\"}, {\"timestamp\": \"2022-12-08T00:00:00\", \"value\": 491989.838369, \"variable\": \"bdv_bean_3crv\"}, {\"timestamp\": \"2022-12-08T00:00:00\", \"value\": 25019026.132601, \"variable\": \"bdv_ur_bean_3crv\"}, {\"timestamp\": \"2022-12-08T00:00:00\", \"value\": 2254920.826818, \"variable\": \"bdv_bean\"}, {\"timestamp\": \"2022-12-09T00:00:00\", \"value\": 2253000.541829, \"variable\": \"bdv_bean\"}, {\"timestamp\": \"2022-12-09T00:00:00\", \"value\": 490944.145538, \"variable\": \"bdv_bean_3crv\"}, {\"timestamp\": \"2022-12-09T00:00:00\", \"value\": 25019499.160922, \"variable\": \"bdv_ur_bean_3crv\"}, {\"timestamp\": \"2022-12-09T00:00:00\", \"value\": 13305532.736595, \"variable\": \"bdv_ur_bean\"}, {\"timestamp\": \"2022-12-09T00:00:00\", \"value\": 41068976.584883995, \"variable\": \"bdv_total\"}, {\"timestamp\": \"2022-12-10T00:00:00\", \"value\": 490944.145538, \"variable\": \"bdv_bean_3crv\"}, {\"timestamp\": \"2022-12-10T00:00:00\", \"value\": 13305562.991243, \"variable\": \"bdv_ur_bean\"}, {\"timestamp\": \"2022-12-10T00:00:00\", \"value\": 2253850.085004, \"variable\": \"bdv_bean\"}, {\"timestamp\": \"2022-12-10T00:00:00\", \"value\": 41072506.762368, \"variable\": \"bdv_total\"}, {\"timestamp\": \"2022-12-10T00:00:00\", \"value\": 25022149.540583, \"variable\": \"bdv_ur_bean_3crv\"}, {\"timestamp\": \"2022-12-11T00:00:00\", \"value\": 13305683.690977, \"variable\": \"bdv_ur_bean\"}, {\"timestamp\": \"2022-12-11T00:00:00\", \"value\": 490944.145538, \"variable\": \"bdv_bean_3crv\"}, {\"timestamp\": \"2022-12-11T00:00:00\", \"value\": 2248192.431776, \"variable\": \"bdv_bean\"}, {\"timestamp\": \"2022-12-11T00:00:00\", \"value\": 25022265.771061, \"variable\": \"bdv_ur_bean_3crv\"}, {\"timestamp\": \"2022-12-11T00:00:00\", \"value\": 41067086.039352, \"variable\": \"bdv_total\"}, {\"timestamp\": \"2022-12-12T00:00:00\", \"value\": 13305841.892687, \"variable\": \"bdv_ur_bean\"}, {\"timestamp\": \"2022-12-12T00:00:00\", \"value\": 2246893.269578, \"variable\": \"bdv_bean\"}, {\"timestamp\": \"2022-12-12T00:00:00\", \"value\": 25023845.740246, \"variable\": \"bdv_ur_bean_3crv\"}, {\"timestamp\": \"2022-12-12T00:00:00\", \"value\": 489367.76498, \"variable\": \"bdv_bean_3crv\"}, {\"timestamp\": \"2022-12-12T00:00:00\", \"value\": 41065948.667491004, \"variable\": \"bdv_total\"}, {\"timestamp\": \"2022-12-13T00:00:00\", \"value\": 2230892.634825, \"variable\": \"bdv_bean\"}, {\"timestamp\": \"2022-12-13T00:00:00\", \"value\": 488567.536267, \"variable\": \"bdv_bean_3crv\"}, {\"timestamp\": \"2022-12-13T00:00:00\", \"value\": 25043260.247822, \"variable\": \"bdv_ur_bean_3crv\"}, {\"timestamp\": \"2022-12-13T00:00:00\", \"value\": 13304397.433459, \"variable\": \"bdv_ur_bean\"}, {\"timestamp\": \"2022-12-13T00:00:00\", \"value\": 41067117.852373004, \"variable\": \"bdv_total\"}, {\"timestamp\": \"2022-12-14T00:00:00\", \"value\": 2212253.871203, \"variable\": \"bdv_bean\"}, {\"timestamp\": \"2022-12-14T00:00:00\", \"value\": 13304409.272667, \"variable\": \"bdv_ur_bean\"}, {\"timestamp\": \"2022-12-14T00:00:00\", \"value\": 488567.536267, \"variable\": \"bdv_bean_3crv\"}, {\"timestamp\": \"2022-12-14T00:00:00\", \"value\": 25043980.246413, \"variable\": \"bdv_ur_bean_3crv\"}, {\"timestamp\": \"2022-12-14T00:00:00\", \"value\": 41049210.92655, \"variable\": \"bdv_total\"}, {\"timestamp\": \"2022-12-15T00:00:00\", \"value\": 41047363.723073, \"variable\": \"bdv_total\"}, {\"timestamp\": \"2022-12-15T00:00:00\", \"value\": 25045020.984987, \"variable\": \"bdv_ur_bean_3crv\"}, {\"timestamp\": \"2022-12-15T00:00:00\", \"value\": 2209926.607172, \"variable\": \"bdv_bean\"}, {\"timestamp\": \"2022-12-15T00:00:00\", \"value\": 13304411.114668, \"variable\": \"bdv_ur_bean\"}, {\"timestamp\": \"2022-12-15T00:00:00\", \"value\": 488005.016246, \"variable\": \"bdv_bean_3crv\"}, {\"timestamp\": \"2022-12-16T00:00:00\", \"value\": 2165844.493275, \"variable\": \"bdv_bean\"}, {\"timestamp\": \"2022-12-16T00:00:00\", \"value\": 40989443.684923, \"variable\": \"bdv_total\"}, {\"timestamp\": \"2022-12-16T00:00:00\", \"value\": 13298055.172114, \"variable\": \"bdv_ur_bean\"}, {\"timestamp\": \"2022-12-16T00:00:00\", \"value\": 25047530.109803, \"variable\": \"bdv_ur_bean_3crv\"}, {\"timestamp\": \"2022-12-16T00:00:00\", \"value\": 478013.909731, \"variable\": \"bdv_bean_3crv\"}, {\"timestamp\": \"2022-12-17T00:00:00\", \"value\": 2165844.493275, \"variable\": \"bdv_bean\"}, {\"timestamp\": \"2022-12-17T00:00:00\", \"value\": 13304807.23309, \"variable\": \"bdv_ur_bean\"}, {\"timestamp\": \"2022-12-17T00:00:00\", \"value\": 454714.353063, \"variable\": \"bdv_bean_3crv\"}, {\"timestamp\": \"2022-12-17T00:00:00\", \"value\": 25051691.739018, \"variable\": \"bdv_ur_bean_3crv\"}, {\"timestamp\": \"2022-12-17T00:00:00\", \"value\": 40977057.818446, \"variable\": \"bdv_total\"}, {\"timestamp\": \"2022-12-18T00:00:00\", \"value\": 2164995.082544, \"variable\": \"bdv_bean\"}, {\"timestamp\": \"2022-12-18T00:00:00\", \"value\": 454714.353063, \"variable\": \"bdv_bean_3crv\"}, {\"timestamp\": \"2022-12-18T00:00:00\", \"value\": 25053468.459021, \"variable\": \"bdv_ur_bean_3crv\"}, {\"timestamp\": \"2022-12-18T00:00:00\", \"value\": 13304344.869047, \"variable\": \"bdv_ur_bean\"}, {\"timestamp\": \"2022-12-18T00:00:00\", \"value\": 40977522.763675, \"variable\": \"bdv_total\"}, {\"timestamp\": \"2022-12-19T00:00:00\", \"value\": 2157788.893974, \"variable\": \"bdv_bean\"}, {\"timestamp\": \"2022-12-19T00:00:00\", \"value\": 13304043.135315, \"variable\": \"bdv_ur_bean\"}, {\"timestamp\": \"2022-12-19T00:00:00\", \"value\": 454837.080465, \"variable\": \"bdv_bean_3crv\"}, {\"timestamp\": \"2022-12-19T00:00:00\", \"value\": 25033248.963754, \"variable\": \"bdv_ur_bean_3crv\"}, {\"timestamp\": \"2022-12-19T00:00:00\", \"value\": 40949918.073507994, \"variable\": \"bdv_total\"}, {\"timestamp\": \"2022-12-20T00:00:00\", \"value\": 2157788.893974, \"variable\": \"bdv_bean\"}, {\"timestamp\": \"2022-12-20T00:00:00\", \"value\": 25034440.375301, \"variable\": \"bdv_ur_bean_3crv\"}, {\"timestamp\": \"2022-12-20T00:00:00\", \"value\": 13304043.135315, \"variable\": \"bdv_ur_bean\"}, {\"timestamp\": \"2022-12-20T00:00:00\", \"value\": 454702.872012, \"variable\": \"bdv_bean_3crv\"}, {\"timestamp\": \"2022-12-20T00:00:00\", \"value\": 40950975.276602, \"variable\": \"bdv_total\"}, {\"timestamp\": \"2022-12-21T00:00:00\", \"value\": 2149634.779517, \"variable\": \"bdv_bean\"}, {\"timestamp\": \"2022-12-21T00:00:00\", \"value\": 40937505.81034, \"variable\": \"bdv_total\"}, {\"timestamp\": \"2022-12-21T00:00:00\", \"value\": 448547.298169, \"variable\": \"bdv_bean_3crv\"}, {\"timestamp\": \"2022-12-21T00:00:00\", \"value\": 13304043.135315, \"variable\": \"bdv_ur_bean\"}, {\"timestamp\": \"2022-12-21T00:00:00\", \"value\": 25035280.597339, \"variable\": \"bdv_ur_bean_3crv\"}, {\"timestamp\": \"2022-12-22T00:00:00\", \"value\": 436531.564596, \"variable\": \"bdv_bean_3crv\"}, {\"timestamp\": \"2022-12-22T00:00:00\", \"value\": 13304045.786122, \"variable\": \"bdv_ur_bean\"}, {\"timestamp\": \"2022-12-22T00:00:00\", \"value\": 2148173.591453, \"variable\": \"bdv_bean\"}, {\"timestamp\": \"2022-12-22T00:00:00\", \"value\": 25036776.023031, \"variable\": \"bdv_ur_bean_3crv\"}, {\"timestamp\": \"2022-12-22T00:00:00\", \"value\": 40925526.965202, \"variable\": \"bdv_total\"}, {\"timestamp\": \"2022-12-23T00:00:00\", \"value\": 2132207.646369, \"variable\": \"bdv_bean\"}, {\"timestamp\": \"2022-12-23T00:00:00\", \"value\": 13305406.29181, \"variable\": \"bdv_ur_bean\"}, {\"timestamp\": \"2022-12-23T00:00:00\", \"value\": 436531.564596, \"variable\": \"bdv_bean_3crv\"}, {\"timestamp\": \"2022-12-23T00:00:00\", \"value\": 25044181.359053, \"variable\": \"bdv_ur_bean_3crv\"}, {\"timestamp\": \"2022-12-23T00:00:00\", \"value\": 40918326.861828, \"variable\": \"bdv_total\"}, {\"timestamp\": \"2022-12-24T00:00:00\", \"value\": 40920494.502169, \"variable\": \"bdv_total\"}, {\"timestamp\": \"2022-12-24T00:00:00\", \"value\": 2132207.646369, \"variable\": \"bdv_bean\"}, {\"timestamp\": \"2022-12-24T00:00:00\", \"value\": 433302.268661, \"variable\": \"bdv_bean_3crv\"}, {\"timestamp\": \"2022-12-24T00:00:00\", \"value\": 25049577.748504, \"variable\": \"bdv_ur_bean_3crv\"}, {\"timestamp\": \"2022-12-24T00:00:00\", \"value\": 13305406.838635, \"variable\": \"bdv_ur_bean\"}, {\"timestamp\": \"2022-12-25T00:00:00\", \"value\": 40903572.37988, \"variable\": \"bdv_total\"}, {\"timestamp\": \"2022-12-25T00:00:00\", \"value\": 25050939.465406, \"variable\": \"bdv_ur_bean_3crv\"}, {\"timestamp\": \"2022-12-25T00:00:00\", \"value\": 431339.167881, \"variable\": \"bdv_bean_3crv\"}, {\"timestamp\": \"2022-12-25T00:00:00\", \"value\": 13305406.839291, \"variable\": \"bdv_ur_bean\"}, {\"timestamp\": \"2022-12-25T00:00:00\", \"value\": 2115886.907302, \"variable\": \"bdv_bean\"}, {\"timestamp\": \"2022-12-26T00:00:00\", \"value\": 2115667.339234, \"variable\": \"bdv_bean\"}, {\"timestamp\": \"2022-12-26T00:00:00\", \"value\": 40904168.268017, \"variable\": \"bdv_total\"}, {\"timestamp\": \"2022-12-26T00:00:00\", \"value\": 431427.988343, \"variable\": \"bdv_bean_3crv\"}, {\"timestamp\": \"2022-12-26T00:00:00\", \"value\": 13305434.0859, \"variable\": \"bdv_ur_bean\"}, {\"timestamp\": \"2022-12-26T00:00:00\", \"value\": 25051638.85454, \"variable\": \"bdv_ur_bean_3crv\"}, {\"timestamp\": \"2022-12-27T00:00:00\", \"value\": 25054407.389793, \"variable\": \"bdv_ur_bean_3crv\"}, {\"timestamp\": \"2022-12-27T00:00:00\", \"value\": 40906412.880067, \"variable\": \"bdv_total\"}, {\"timestamp\": \"2022-12-27T00:00:00\", \"value\": 430607.973497, \"variable\": \"bdv_bean_3crv\"}, {\"timestamp\": \"2022-12-27T00:00:00\", \"value\": 2115092.993773, \"variable\": \"bdv_bean\"}, {\"timestamp\": \"2022-12-27T00:00:00\", \"value\": 13306304.523004, \"variable\": \"bdv_ur_bean\"}, {\"timestamp\": \"2022-12-28T00:00:00\", \"value\": 40898752.202750996, \"variable\": \"bdv_total\"}, {\"timestamp\": \"2022-12-28T00:00:00\", \"value\": 13306637.258954, \"variable\": \"bdv_ur_bean\"}, {\"timestamp\": \"2022-12-28T00:00:00\", \"value\": 25055320.294972, \"variable\": \"bdv_ur_bean_3crv\"}, {\"timestamp\": \"2022-12-28T00:00:00\", \"value\": 427676.237215, \"variable\": \"bdv_bean_3crv\"}, {\"timestamp\": \"2022-12-28T00:00:00\", \"value\": 2109118.41161, \"variable\": \"bdv_bean\"}, {\"timestamp\": \"2022-12-29T00:00:00\", \"value\": 40898904.165828, \"variable\": \"bdv_total\"}, {\"timestamp\": \"2022-12-29T00:00:00\", \"value\": 2109147.065025, \"variable\": \"bdv_bean\"}, {\"timestamp\": \"2022-12-29T00:00:00\", \"value\": 427676.237215, \"variable\": \"bdv_bean_3crv\"}, {\"timestamp\": \"2022-12-29T00:00:00\", \"value\": 25055441.568797, \"variable\": \"bdv_ur_bean_3crv\"}, {\"timestamp\": \"2022-12-29T00:00:00\", \"value\": 13306639.294791, \"variable\": \"bdv_ur_bean\"}, {\"timestamp\": \"2022-12-30T00:00:00\", \"value\": 40888359.442596, \"variable\": \"bdv_total\"}, {\"timestamp\": \"2022-12-30T00:00:00\", \"value\": 427676.237215, \"variable\": \"bdv_bean_3crv\"}, {\"timestamp\": \"2022-12-30T00:00:00\", \"value\": 25055528.673682, \"variable\": \"bdv_ur_bean_3crv\"}, {\"timestamp\": \"2022-12-30T00:00:00\", \"value\": 13306550.562501, \"variable\": \"bdv_ur_bean\"}, {\"timestamp\": \"2022-12-30T00:00:00\", \"value\": 2098603.969198, \"variable\": \"bdv_bean\"}, {\"timestamp\": \"2022-12-31T00:00:00\", \"value\": 13330993.164612, \"variable\": \"bdv_ur_bean\"}, {\"timestamp\": \"2022-12-31T00:00:00\", \"value\": 2067231.88857, \"variable\": \"bdv_bean\"}, {\"timestamp\": \"2022-12-31T00:00:00\", \"value\": 427676.237215, \"variable\": \"bdv_bean_3crv\"}, {\"timestamp\": \"2022-12-31T00:00:00\", \"value\": 40941354.892536, \"variable\": \"bdv_total\"}, {\"timestamp\": \"2022-12-31T00:00:00\", \"value\": 25115453.602139, \"variable\": \"bdv_ur_bean_3crv\"}, {\"timestamp\": \"2023-01-01T00:00:00\", \"value\": 421520.416743, \"variable\": \"bdv_bean_3crv\"}, {\"timestamp\": \"2023-01-01T00:00:00\", \"value\": 13332042.786351, \"variable\": \"bdv_ur_bean\"}, {\"timestamp\": \"2023-01-01T00:00:00\", \"value\": 2065895.974231, \"variable\": \"bdv_bean\"}, {\"timestamp\": \"2023-01-01T00:00:00\", \"value\": 25120250.918473, \"variable\": \"bdv_ur_bean_3crv\"}, {\"timestamp\": \"2023-01-01T00:00:00\", \"value\": 40939710.095798, \"variable\": \"bdv_total\"}, {\"timestamp\": \"2023-01-02T00:00:00\", \"value\": 40927759.218954, \"variable\": \"bdv_total\"}, {\"timestamp\": \"2023-01-02T00:00:00\", \"value\": 25125105.570465, \"variable\": \"bdv_ur_bean_3crv\"}, {\"timestamp\": \"2023-01-02T00:00:00\", \"value\": 2050483.661187, \"variable\": \"bdv_bean\"}, {\"timestamp\": \"2023-01-02T00:00:00\", \"value\": 420126.623639, \"variable\": \"bdv_bean_3crv\"}, {\"timestamp\": \"2023-01-02T00:00:00\", \"value\": 13332043.363663, \"variable\": \"bdv_ur_bean\"}, {\"timestamp\": \"2023-01-03T00:00:00\", \"value\": 40915243.825141996, \"variable\": \"bdv_total\"}, {\"timestamp\": \"2023-01-03T00:00:00\", \"value\": 13332043.363964, \"variable\": \"bdv_ur_bean\"}, {\"timestamp\": \"2023-01-03T00:00:00\", \"value\": 2035545.958784, \"variable\": \"bdv_bean\"}, {\"timestamp\": \"2023-01-03T00:00:00\", \"value\": 25127527.878755, \"variable\": \"bdv_ur_bean_3crv\"}, {\"timestamp\": \"2023-01-03T00:00:00\", \"value\": 420126.623639, \"variable\": \"bdv_bean_3crv\"}, {\"timestamp\": \"2023-01-04T00:00:00\", \"value\": 420126.623639, \"variable\": \"bdv_bean_3crv\"}, {\"timestamp\": \"2023-01-04T00:00:00\", \"value\": 13332043.975294, \"variable\": \"bdv_ur_bean\"}, {\"timestamp\": \"2023-01-04T00:00:00\", \"value\": 25129800.489175, \"variable\": \"bdv_ur_bean_3crv\"}, {\"timestamp\": \"2023-01-04T00:00:00\", \"value\": 2035471.291413, \"variable\": \"bdv_bean\"}, {\"timestamp\": \"2023-01-04T00:00:00\", \"value\": 40917442.379521, \"variable\": \"bdv_total\"}, {\"timestamp\": \"2023-01-05T00:00:00\", \"value\": 2025062.541413, \"variable\": \"bdv_bean\"}, {\"timestamp\": \"2023-01-05T00:00:00\", \"value\": 13332106.136144, \"variable\": \"bdv_ur_bean\"}, {\"timestamp\": \"2023-01-05T00:00:00\", \"value\": 420126.623639, \"variable\": \"bdv_bean_3crv\"}, {\"timestamp\": \"2023-01-05T00:00:00\", \"value\": 25139085.001011, \"variable\": \"bdv_ur_bean_3crv\"}, {\"timestamp\": \"2023-01-05T00:00:00\", \"value\": 40916380.302207, \"variable\": \"bdv_total\"}, {\"timestamp\": \"2023-01-06T00:00:00\", \"value\": 2020897.179995, \"variable\": \"bdv_bean\"}, {\"timestamp\": \"2023-01-06T00:00:00\", \"value\": 420221.212685, \"variable\": \"bdv_bean_3crv\"}, {\"timestamp\": \"2023-01-06T00:00:00\", \"value\": 25154504.474012, \"variable\": \"bdv_ur_bean_3crv\"}, {\"timestamp\": \"2023-01-06T00:00:00\", \"value\": 13332137.69059, \"variable\": \"bdv_ur_bean\"}, {\"timestamp\": \"2023-01-06T00:00:00\", \"value\": 40927760.557282, \"variable\": \"bdv_total\"}, {\"timestamp\": \"2023-01-07T00:00:00\", \"value\": 25155052.896742, \"variable\": \"bdv_ur_bean_3crv\"}, {\"timestamp\": \"2023-01-07T00:00:00\", \"value\": 40927056.098179, \"variable\": \"bdv_total\"}, {\"timestamp\": \"2023-01-07T00:00:00\", \"value\": 2020834.496416, \"variable\": \"bdv_bean\"}, {\"timestamp\": \"2023-01-07T00:00:00\", \"value\": 13331449.389846, \"variable\": \"bdv_ur_bean\"}, {\"timestamp\": \"2023-01-07T00:00:00\", \"value\": 419719.315175, \"variable\": \"bdv_bean_3crv\"}, {\"timestamp\": \"2023-01-08T00:00:00\", \"value\": 419719.315175, \"variable\": \"bdv_bean_3crv\"}, {\"timestamp\": \"2023-01-08T00:00:00\", \"value\": 40927416.592946, \"variable\": \"bdv_total\"}, {\"timestamp\": \"2023-01-08T00:00:00\", \"value\": 13331449.393938, \"variable\": \"bdv_ur_bean\"}, {\"timestamp\": \"2023-01-08T00:00:00\", \"value\": 2020815.924832, \"variable\": \"bdv_bean\"}, {\"timestamp\": \"2023-01-08T00:00:00\", \"value\": 25155431.959001, \"variable\": \"bdv_ur_bean_3crv\"}, {\"timestamp\": \"2023-01-09T00:00:00\", \"value\": 2300713.668003, \"variable\": \"bdv_bean\"}, {\"timestamp\": \"2023-01-09T00:00:00\", \"value\": 13332774.187677, \"variable\": \"bdv_ur_bean\"}, {\"timestamp\": \"2023-01-09T00:00:00\", \"value\": 419719.315175, \"variable\": \"bdv_bean_3crv\"}, {\"timestamp\": \"2023-01-09T00:00:00\", \"value\": 41233545.671169996, \"variable\": \"bdv_total\"}, {\"timestamp\": \"2023-01-09T00:00:00\", \"value\": 25180338.500315, \"variable\": \"bdv_ur_bean_3crv\"}, {\"timestamp\": \"2023-01-10T00:00:00\", \"value\": 2297814.629335, \"variable\": \"bdv_bean\"}, {\"timestamp\": \"2023-01-10T00:00:00\", \"value\": 422710.10427, \"variable\": \"bdv_bean_3crv\"}, {\"timestamp\": \"2023-01-10T00:00:00\", \"value\": 25177245.732205, \"variable\": \"bdv_ur_bean_3crv\"}, {\"timestamp\": \"2023-01-10T00:00:00\", \"value\": 13337186.634629, \"variable\": \"bdv_ur_bean\"}, {\"timestamp\": \"2023-01-10T00:00:00\", \"value\": 41234957.100439, \"variable\": \"bdv_total\"}, {\"timestamp\": \"2023-01-11T00:00:00\", \"value\": 41228565.030957, \"variable\": \"bdv_total\"}, {\"timestamp\": \"2023-01-11T00:00:00\", \"value\": 13337187.605198, \"variable\": \"bdv_ur_bean\"}, {\"timestamp\": \"2023-01-11T00:00:00\", \"value\": 25178623.695255, \"variable\": \"bdv_ur_bean_3crv\"}, {\"timestamp\": \"2023-01-11T00:00:00\", \"value\": 425939.101169, \"variable\": \"bdv_bean_3crv\"}, {\"timestamp\": \"2023-01-11T00:00:00\", \"value\": 2286814.629335, \"variable\": \"bdv_bean\"}, {\"timestamp\": \"2023-01-12T00:00:00\", \"value\": 41207644.071979, \"variable\": \"bdv_total\"}, {\"timestamp\": \"2023-01-12T00:00:00\", \"value\": 425939.101169, \"variable\": \"bdv_bean_3crv\"}, {\"timestamp\": \"2023-01-12T00:00:00\", \"value\": 25179223.676729, \"variable\": \"bdv_ur_bean_3crv\"}, {\"timestamp\": \"2023-01-12T00:00:00\", \"value\": 2265293.439797, \"variable\": \"bdv_bean\"}, {\"timestamp\": \"2023-01-12T00:00:00\", \"value\": 13337187.854284, \"variable\": \"bdv_ur_bean\"}, {\"timestamp\": \"2023-01-13T00:00:00\", \"value\": 13335588.06591, \"variable\": \"bdv_ur_bean\"}, {\"timestamp\": \"2023-01-13T00:00:00\", \"value\": 25178727.981634, \"variable\": \"bdv_ur_bean_3crv\"}, {\"timestamp\": \"2023-01-13T00:00:00\", \"value\": 2254073.156264, \"variable\": \"bdv_bean\"}, {\"timestamp\": \"2023-01-13T00:00:00\", \"value\": 41194328.304977, \"variable\": \"bdv_total\"}, {\"timestamp\": \"2023-01-13T00:00:00\", \"value\": 425939.101169, \"variable\": \"bdv_bean_3crv\"}, {\"timestamp\": \"2023-01-14T00:00:00\", \"value\": 41169196.820971996, \"variable\": \"bdv_total\"}, {\"timestamp\": \"2023-01-14T00:00:00\", \"value\": 2229018.290121, \"variable\": \"bdv_bean\"}, {\"timestamp\": \"2023-01-14T00:00:00\", \"value\": 13335608.842982, \"variable\": \"bdv_ur_bean\"}, {\"timestamp\": \"2023-01-14T00:00:00\", \"value\": 25180988.395096, \"variable\": \"bdv_ur_bean_3crv\"}, {\"timestamp\": \"2023-01-14T00:00:00\", \"value\": 423581.292773, \"variable\": \"bdv_bean_3crv\"}, {\"timestamp\": \"2023-01-15T00:00:00\", \"value\": 2205521.412477, \"variable\": \"bdv_bean\"}, {\"timestamp\": \"2023-01-15T00:00:00\", \"value\": 41148589.60763, \"variable\": \"bdv_total\"}, {\"timestamp\": \"2023-01-15T00:00:00\", \"value\": 25184280.228563, \"variable\": \"bdv_ur_bean_3crv\"}, {\"timestamp\": \"2023-01-15T00:00:00\", \"value\": 13335613.743539, \"variable\": \"bdv_ur_bean\"}, {\"timestamp\": \"2023-01-15T00:00:00\", \"value\": 423174.223051, \"variable\": \"bdv_bean_3crv\"}, {\"timestamp\": \"2023-01-16T00:00:00\", \"value\": 13335661.696019, \"variable\": \"bdv_ur_bean\"}, {\"timestamp\": \"2023-01-16T00:00:00\", \"value\": 25190888.813476, \"variable\": \"bdv_ur_bean_3crv\"}, {\"timestamp\": \"2023-01-16T00:00:00\", \"value\": 2197879.412477, \"variable\": \"bdv_bean\"}, {\"timestamp\": \"2023-01-16T00:00:00\", \"value\": 423174.223051, \"variable\": \"bdv_bean_3crv\"}, {\"timestamp\": \"2023-01-16T00:00:00\", \"value\": 41147604.145023, \"variable\": \"bdv_total\"}, {\"timestamp\": \"2023-01-17T00:00:00\", \"value\": 41142189.35573, \"variable\": \"bdv_total\"}, {\"timestamp\": \"2023-01-17T00:00:00\", \"value\": 423174.223051, \"variable\": \"bdv_bean_3crv\"}, {\"timestamp\": \"2023-01-17T00:00:00\", \"value\": 13335661.696019, \"variable\": \"bdv_ur_bean\"}, {\"timestamp\": \"2023-01-17T00:00:00\", \"value\": 25193140.524183, \"variable\": \"bdv_ur_bean_3crv\"}, {\"timestamp\": \"2023-01-17T00:00:00\", \"value\": 2190212.912477, \"variable\": \"bdv_bean\"}, {\"timestamp\": \"2023-01-18T00:00:00\", \"value\": 13335661.696019, \"variable\": \"bdv_ur_bean\"}, {\"timestamp\": \"2023-01-18T00:00:00\", \"value\": 423174.223051, \"variable\": \"bdv_bean_3crv\"}, {\"timestamp\": \"2023-01-18T00:00:00\", \"value\": 2178842.672596, \"variable\": \"bdv_bean\"}, {\"timestamp\": \"2023-01-18T00:00:00\", \"value\": 25196570.899862, \"variable\": \"bdv_ur_bean_3crv\"}, {\"timestamp\": \"2023-01-18T00:00:00\", \"value\": 41134249.491528, \"variable\": \"bdv_total\"}, {\"timestamp\": \"2023-01-19T00:00:00\", \"value\": 423174.223051, \"variable\": \"bdv_bean_3crv\"}, {\"timestamp\": \"2023-01-19T00:00:00\", \"value\": 13335661.696019, \"variable\": \"bdv_ur_bean\"}, {\"timestamp\": \"2023-01-19T00:00:00\", \"value\": 2178797.843311, \"variable\": \"bdv_bean\"}, {\"timestamp\": \"2023-01-19T00:00:00\", \"value\": 25197306.244126, \"variable\": \"bdv_ur_bean_3crv\"}, {\"timestamp\": \"2023-01-19T00:00:00\", \"value\": 41134940.006507, \"variable\": \"bdv_total\"}, {\"timestamp\": \"2023-01-20T00:00:00\", \"value\": 41115567.873887, \"variable\": \"bdv_total\"}, {\"timestamp\": \"2023-01-20T00:00:00\", \"value\": 13335661.696019, \"variable\": \"bdv_ur_bean\"}, {\"timestamp\": \"2023-01-20T00:00:00\", \"value\": 25197489.758107, \"variable\": \"bdv_ur_bean_3crv\"}, {\"timestamp\": \"2023-01-20T00:00:00\", \"value\": 2163375.348619, \"variable\": \"bdv_bean\"}, {\"timestamp\": \"2023-01-20T00:00:00\", \"value\": 419041.071142, \"variable\": \"bdv_bean_3crv\"}, {\"timestamp\": \"2023-01-21T00:00:00\", \"value\": 13335907.93383, \"variable\": \"bdv_ur_bean\"}, {\"timestamp\": \"2023-01-21T00:00:00\", \"value\": 418863.979744, \"variable\": \"bdv_bean_3crv\"}, {\"timestamp\": \"2023-01-21T00:00:00\", \"value\": 41107276.99304, \"variable\": \"bdv_total\"}, {\"timestamp\": \"2023-01-21T00:00:00\", \"value\": 2154195.635838, \"variable\": \"bdv_bean\"}, {\"timestamp\": \"2023-01-21T00:00:00\", \"value\": 25198309.443628, \"variable\": \"bdv_ur_bean_3crv\"}, {\"timestamp\": \"2023-01-22T00:00:00\", \"value\": 418431.953387, \"variable\": \"bdv_bean_3crv\"}, {\"timestamp\": \"2023-01-22T00:00:00\", \"value\": 25200397.598855, \"variable\": \"bdv_ur_bean_3crv\"}, {\"timestamp\": \"2023-01-22T00:00:00\", \"value\": 13335973.047456, \"variable\": \"bdv_ur_bean\"}, {\"timestamp\": \"2023-01-22T00:00:00\", \"value\": 2154102.635838, \"variable\": \"bdv_bean\"}, {\"timestamp\": \"2023-01-22T00:00:00\", \"value\": 41108905.235536, \"variable\": \"bdv_total\"}, {\"timestamp\": \"2023-01-23T00:00:00\", \"value\": 41093390.949694, \"variable\": \"bdv_total\"}, {\"timestamp\": \"2023-01-23T00:00:00\", \"value\": 13336110.893184, \"variable\": \"bdv_ur_bean\"}, {\"timestamp\": \"2023-01-23T00:00:00\", \"value\": 25204026.196704, \"variable\": \"bdv_ur_bean_3crv\"}, {\"timestamp\": \"2023-01-23T00:00:00\", \"value\": 2134821.906419, \"variable\": \"bdv_bean\"}, {\"timestamp\": \"2023-01-23T00:00:00\", \"value\": 418431.953387, \"variable\": \"bdv_bean_3crv\"}, {\"timestamp\": \"2023-01-24T00:00:00\", \"value\": 41081394.000488, \"variable\": \"bdv_total\"}, {\"timestamp\": \"2023-01-24T00:00:00\", \"value\": 418431.953387, \"variable\": \"bdv_bean_3crv\"}, {\"timestamp\": \"2023-01-24T00:00:00\", \"value\": 13336110.893184, \"variable\": \"bdv_ur_bean\"}, {\"timestamp\": \"2023-01-24T00:00:00\", \"value\": 25205063.087643, \"variable\": \"bdv_ur_bean_3crv\"}, {\"timestamp\": \"2023-01-24T00:00:00\", \"value\": 2121788.066274, \"variable\": \"bdv_bean\"}, {\"timestamp\": \"2023-01-25T00:00:00\", \"value\": 418431.953387, \"variable\": \"bdv_bean_3crv\"}, {\"timestamp\": \"2023-01-25T00:00:00\", \"value\": 41085414.965053, \"variable\": \"bdv_total\"}, {\"timestamp\": \"2023-01-25T00:00:00\", \"value\": 25207797.892053, \"variable\": \"bdv_ur_bean_3crv\"}, {\"timestamp\": \"2023-01-25T00:00:00\", \"value\": 13338005.476764, \"variable\": \"bdv_ur_bean\"}, {\"timestamp\": \"2023-01-25T00:00:00\", \"value\": 2121179.642849, \"variable\": \"bdv_bean\"}, {\"timestamp\": \"2023-01-26T00:00:00\", \"value\": 41085035.99653, \"variable\": \"bdv_total\"}, {\"timestamp\": \"2023-01-26T00:00:00\", \"value\": 25209377.088765, \"variable\": \"bdv_ur_bean_3crv\"}, {\"timestamp\": \"2023-01-26T00:00:00\", \"value\": 13336047.311529, \"variable\": \"bdv_ur_bean\"}, {\"timestamp\": \"2023-01-26T00:00:00\", \"value\": 418431.953387, \"variable\": \"bdv_bean_3crv\"}, {\"timestamp\": \"2023-01-26T00:00:00\", \"value\": 2121179.642849, \"variable\": \"bdv_bean\"}, {\"timestamp\": \"2023-01-27T00:00:00\", \"value\": 13336047.311729, \"variable\": \"bdv_ur_bean\"}, {\"timestamp\": \"2023-01-27T00:00:00\", \"value\": 41083277.067591, \"variable\": \"bdv_total\"}, {\"timestamp\": \"2023-01-27T00:00:00\", \"value\": 2115179.642849, \"variable\": \"bdv_bean\"}, {\"timestamp\": \"2023-01-27T00:00:00\", \"value\": 417946.675754, \"variable\": \"bdv_bean_3crv\"}, {\"timestamp\": \"2023-01-27T00:00:00\", \"value\": 25214103.437259, \"variable\": \"bdv_ur_bean_3crv\"}, {\"timestamp\": \"2023-01-28T00:00:00\", \"value\": 41092136.008468, \"variable\": \"bdv_total\"}, {\"timestamp\": \"2023-01-28T00:00:00\", \"value\": 25223221.9824, \"variable\": \"bdv_ur_bean_3crv\"}, {\"timestamp\": \"2023-01-28T00:00:00\", \"value\": 13336047.442433, \"variable\": \"bdv_ur_bean\"}, {\"timestamp\": \"2023-01-28T00:00:00\", \"value\": 2114919.907881, \"variable\": \"bdv_bean\"}, {\"timestamp\": \"2023-01-28T00:00:00\", \"value\": 417946.675754, \"variable\": \"bdv_bean_3crv\"}, {\"timestamp\": \"2023-01-29T00:00:00\", \"value\": 2114919.907881, \"variable\": \"bdv_bean\"}, {\"timestamp\": \"2023-01-29T00:00:00\", \"value\": 418108.738214, \"variable\": \"bdv_bean_3crv\"}, {\"timestamp\": \"2023-01-29T00:00:00\", \"value\": 25232450.80356, \"variable\": \"bdv_ur_bean_3crv\"}, {\"timestamp\": \"2023-01-29T00:00:00\", \"value\": 13336055.73877, \"variable\": \"bdv_ur_bean\"}, {\"timestamp\": \"2023-01-29T00:00:00\", \"value\": 41101535.188425004, \"variable\": \"bdv_total\"}, {\"timestamp\": \"2023-01-30T00:00:00\", \"value\": 2114919.907881, \"variable\": \"bdv_bean\"}, {\"timestamp\": \"2023-01-30T00:00:00\", \"value\": 13336341.258847, \"variable\": \"bdv_ur_bean\"}, {\"timestamp\": \"2023-01-30T00:00:00\", \"value\": 41102048.870492, \"variable\": \"bdv_total\"}, {\"timestamp\": \"2023-01-30T00:00:00\", \"value\": 418108.738214, \"variable\": \"bdv_bean_3crv\"}, {\"timestamp\": \"2023-01-30T00:00:00\", \"value\": 25232678.96555, \"variable\": \"bdv_ur_bean_3crv\"}, {\"timestamp\": \"2023-01-31T00:00:00\", \"value\": 41070979.060529, \"variable\": \"bdv_total\"}, {\"timestamp\": \"2023-01-31T00:00:00\", \"value\": 2088145.800684, \"variable\": \"bdv_bean\"}, {\"timestamp\": \"2023-01-31T00:00:00\", \"value\": 13331854.375804, \"variable\": \"bdv_ur_bean\"}, {\"timestamp\": \"2023-01-31T00:00:00\", \"value\": 418108.738214, \"variable\": \"bdv_bean_3crv\"}, {\"timestamp\": \"2023-01-31T00:00:00\", \"value\": 25232870.145827, \"variable\": \"bdv_ur_bean_3crv\"}, {\"timestamp\": \"2023-02-01T00:00:00\", \"value\": 41178386.36363301, \"variable\": \"bdv_total\"}, {\"timestamp\": \"2023-02-01T00:00:00\", \"value\": 418108.738214, \"variable\": \"bdv_bean_3crv\"}, {\"timestamp\": \"2023-02-01T00:00:00\", \"value\": 25264350.265222, \"variable\": \"bdv_ur_bean_3crv\"}, {\"timestamp\": \"2023-02-01T00:00:00\", \"value\": 2135826.067074, \"variable\": \"bdv_bean\"}, {\"timestamp\": \"2023-02-01T00:00:00\", \"value\": 13360101.293123, \"variable\": \"bdv_ur_bean\"}, {\"timestamp\": \"2023-02-02T00:00:00\", \"value\": 13360101.644823, \"variable\": \"bdv_ur_bean\"}, {\"timestamp\": \"2023-02-02T00:00:00\", \"value\": 2107035.807122, \"variable\": \"bdv_bean\"}, {\"timestamp\": \"2023-02-02T00:00:00\", \"value\": 41142932.574439, \"variable\": \"bdv_total\"}, {\"timestamp\": \"2023-02-02T00:00:00\", \"value\": 408334.420522, \"variable\": \"bdv_bean_3crv\"}, {\"timestamp\": \"2023-02-02T00:00:00\", \"value\": 25267460.701972, \"variable\": \"bdv_ur_bean_3crv\"}, {\"timestamp\": \"2023-02-03T00:00:00\", \"value\": 13414857.7478, \"variable\": \"bdv_ur_bean\"}, {\"timestamp\": \"2023-02-03T00:00:00\", \"value\": 25277311.678228, \"variable\": \"bdv_ur_bean_3crv\"}, {\"timestamp\": \"2023-02-03T00:00:00\", \"value\": 408334.420522, \"variable\": \"bdv_bean_3crv\"}, {\"timestamp\": \"2023-02-03T00:00:00\", \"value\": 2107035.807122, \"variable\": \"bdv_bean\"}, {\"timestamp\": \"2023-02-03T00:00:00\", \"value\": 41207539.653671995, \"variable\": \"bdv_total\"}]}}, {\"mode\": \"vega-lite\"});\n",
       "</script>"
      ],
      "text/plain": [
       "alt.LayerChart(...)"
      ]
     },
     "execution_count": 67,
     "metadata": {},
     "output_type": "execute_result"
    }
   ],
   "source": [
    "lmetrics = data.variable.unique().tolist()\n",
    "lmetrics.remove('bdv_total')\n",
    "rmetrics = ['bdv_total'] \n",
    "metrics = lmetrics + rmetrics \n",
    "colors = {\n",
    "    m: GreenOrange_6.hex_colors[i] for i, m in enumerate(metrics)\n",
    "}\n",
    "chart_area = chart(\n",
    "    data, \n",
    "    'timestamp', \n",
    "    lmetrics=lmetrics, \n",
    "    lstrategy=\"stack_area\", \n",
    "    rmetrics=rmetrics, \n",
    "    rstrategy='line',\n",
    "    yaxis_left_kwargs=dict(title='Bdv', format=\".2s\"), \n",
    "    colors=colors, \n",
    "    legend_kwargs=dict(title=None, orient='top'),\n",
    "    width=400\n",
    ")\n",
    "chart_area"
   ]
  },
  {
   "cell_type": "code",
   "execution_count": 68,
   "id": "310bf6e4-9692-4d5f-9258-5bf89301c539",
   "metadata": {},
   "outputs": [
    {
     "data": {
      "text/html": [
       "\n",
       "<div id=\"altair-viz-6b32152b5fcd43b888192abb33a59182\"></div>\n",
       "<script type=\"text/javascript\">\n",
       "  var VEGA_DEBUG = (typeof VEGA_DEBUG == \"undefined\") ? {} : VEGA_DEBUG;\n",
       "  (function(spec, embedOpt){\n",
       "    let outputDiv = document.currentScript.previousElementSibling;\n",
       "    if (outputDiv.id !== \"altair-viz-6b32152b5fcd43b888192abb33a59182\") {\n",
       "      outputDiv = document.getElementById(\"altair-viz-6b32152b5fcd43b888192abb33a59182\");\n",
       "    }\n",
       "    const paths = {\n",
       "      \"vega\": \"https://cdn.jsdelivr.net/npm//vega@5?noext\",\n",
       "      \"vega-lib\": \"https://cdn.jsdelivr.net/npm//vega-lib?noext\",\n",
       "      \"vega-lite\": \"https://cdn.jsdelivr.net/npm//vega-lite@4.17.0?noext\",\n",
       "      \"vega-embed\": \"https://cdn.jsdelivr.net/npm//vega-embed@6?noext\",\n",
       "    };\n",
       "\n",
       "    function maybeLoadScript(lib, version) {\n",
       "      var key = `${lib.replace(\"-\", \"\")}_version`;\n",
       "      return (VEGA_DEBUG[key] == version) ?\n",
       "        Promise.resolve(paths[lib]) :\n",
       "        new Promise(function(resolve, reject) {\n",
       "          var s = document.createElement('script');\n",
       "          document.getElementsByTagName(\"head\")[0].appendChild(s);\n",
       "          s.async = true;\n",
       "          s.onload = () => {\n",
       "            VEGA_DEBUG[key] = version;\n",
       "            return resolve(paths[lib]);\n",
       "          };\n",
       "          s.onerror = () => reject(`Error loading script: ${paths[lib]}`);\n",
       "          s.src = paths[lib];\n",
       "        });\n",
       "    }\n",
       "\n",
       "    function showError(err) {\n",
       "      outputDiv.innerHTML = `<div class=\"error\" style=\"color:red;\">${err}</div>`;\n",
       "      throw err;\n",
       "    }\n",
       "\n",
       "    function displayChart(vegaEmbed) {\n",
       "      vegaEmbed(outputDiv, spec, embedOpt)\n",
       "        .catch(err => showError(`Javascript Error: ${err.message}<br>This usually means there's a typo in your chart specification. See the javascript console for the full traceback.`));\n",
       "    }\n",
       "\n",
       "    if(typeof define === \"function\" && define.amd) {\n",
       "      requirejs.config({paths});\n",
       "      require([\"vega-embed\"], displayChart, err => showError(`Error loading script: ${err.message}`));\n",
       "    } else {\n",
       "      maybeLoadScript(\"vega\", \"5\")\n",
       "        .then(() => maybeLoadScript(\"vega-lite\", \"4.17.0\"))\n",
       "        .then(() => maybeLoadScript(\"vega-embed\", \"6\"))\n",
       "        .catch(showError)\n",
       "        .then(() => displayChart(vegaEmbed));\n",
       "    }\n",
       "  })({\"config\": {\"view\": {\"continuousWidth\": 400, \"continuousHeight\": 300}}, \"data\": {\"name\": \"data-dc587bde6e185e945aa793235d8dcb05\"}, \"mark\": {\"type\": \"arc\", \"innerRadius\": 60, \"outerRadius\": 100}, \"encoding\": {\"color\": {\"field\": \"category\", \"legend\": null, \"scale\": {\"domain\": [\"bdv_ur_bean\", \"bdv_ur_bean_3crv\", \"bdv_bean_3crv\", \"bdv_bean\"], \"range\": [\"#32A251\", \"#FF7F0F\", \"#3CB7CC\", \"#FFD94A\"]}, \"type\": \"nominal\"}, \"theta\": {\"field\": \"value\", \"stack\": true, \"type\": \"quantitative\"}, \"tooltip\": {\"field\": \"label\", \"type\": \"nominal\"}}, \"title\": \"Asset Breakdown\", \"$schema\": \"https://vega.github.io/schema/vega-lite/v4.17.0.json\", \"datasets\": {\"data-dc587bde6e185e945aa793235d8dcb05\": [{\"category\": \"bdv_ur_bean\", \"value\": 13414857.7478, \"label\": \"bdv_ur_bean: 13,414,857 \\n(32.6%)\"}, {\"category\": \"bdv_ur_bean_3crv\", \"value\": 25277311.678228, \"label\": \"bdv_ur_bean_3crv: 25,277,311 \\n(61.3%)\"}, {\"category\": \"bdv_bean_3crv\", \"value\": 408334.420522, \"label\": \"bdv_bean_3crv: 408,334 \\n(1.0%)\"}, {\"category\": \"bdv_bean\", \"value\": 2107035.807122, \"label\": \"bdv_bean: 2,107,035 \\n(5.1%)\"}]}}, {\"mode\": \"vega-lite\"});\n",
       "</script>"
      ],
      "text/plain": [
       "alt.Chart(...)"
      ]
     },
     "execution_count": 68,
     "metadata": {},
     "output_type": "execute_result"
    }
   ],
   "source": [
    "# silo asset breakdown \n",
    "dmax = data.timestamp.max()\n",
    "df_last = data.loc[(data.timestamp == dmax) & (data.variable != 'bdv_total')] \n",
    "df_pie = pd.DataFrame(\n",
    "    {\n",
    "        'category': df_last.variable.values.tolist(), \n",
    "        'value': df_last.value.values.tolist(), \n",
    "        'label': [\n",
    "            f\"{c}: {int(v):,} \\n({v / df_last.value.sum():.1%})\" \n",
    "            for c, v in zip(df_last.variable.values, df_last.value.values)\n",
    "        ]\n",
    "    }\n",
    ")\n",
    "\n",
    "chart_pie = (\n",
    "    alt.Chart(df_pie, title=\"Asset Breakdown\")\n",
    "    .encode(\n",
    "        theta=alt.Theta(\"value:Q\", stack=True),\n",
    "        color=alt.Color(\n",
    "            \"category:N\", \n",
    "            legend=None, \n",
    "            scale=alt.Scale(\n",
    "                domain=lmetrics, \n",
    "                range=[colors[m] for m in lmetrics]\n",
    "            )\n",
    "        ),\n",
    "        tooltip=\"label:N\"\n",
    "    )\n",
    "    .mark_arc(outerRadius=100, innerRadius=60)\n",
    ")\n",
    "chart_pie"
   ]
  },
  {
   "cell_type": "code",
   "execution_count": 69,
   "id": "0fd52eb1-68d3-4b2a-9df0-21b2f3ec05e3",
   "metadata": {},
   "outputs": [
    {
     "data": {
      "text/html": [
       "\n",
       "<div id=\"altair-viz-4c1241917f94469284401ec1b775c075\"></div>\n",
       "<script type=\"text/javascript\">\n",
       "  var VEGA_DEBUG = (typeof VEGA_DEBUG == \"undefined\") ? {} : VEGA_DEBUG;\n",
       "  (function(spec, embedOpt){\n",
       "    let outputDiv = document.currentScript.previousElementSibling;\n",
       "    if (outputDiv.id !== \"altair-viz-4c1241917f94469284401ec1b775c075\") {\n",
       "      outputDiv = document.getElementById(\"altair-viz-4c1241917f94469284401ec1b775c075\");\n",
       "    }\n",
       "    const paths = {\n",
       "      \"vega\": \"https://cdn.jsdelivr.net/npm//vega@5?noext\",\n",
       "      \"vega-lib\": \"https://cdn.jsdelivr.net/npm//vega-lib?noext\",\n",
       "      \"vega-lite\": \"https://cdn.jsdelivr.net/npm//vega-lite@4.17.0?noext\",\n",
       "      \"vega-embed\": \"https://cdn.jsdelivr.net/npm//vega-embed@6?noext\",\n",
       "    };\n",
       "\n",
       "    function maybeLoadScript(lib, version) {\n",
       "      var key = `${lib.replace(\"-\", \"\")}_version`;\n",
       "      return (VEGA_DEBUG[key] == version) ?\n",
       "        Promise.resolve(paths[lib]) :\n",
       "        new Promise(function(resolve, reject) {\n",
       "          var s = document.createElement('script');\n",
       "          document.getElementsByTagName(\"head\")[0].appendChild(s);\n",
       "          s.async = true;\n",
       "          s.onload = () => {\n",
       "            VEGA_DEBUG[key] = version;\n",
       "            return resolve(paths[lib]);\n",
       "          };\n",
       "          s.onerror = () => reject(`Error loading script: ${paths[lib]}`);\n",
       "          s.src = paths[lib];\n",
       "        });\n",
       "    }\n",
       "\n",
       "    function showError(err) {\n",
       "      outputDiv.innerHTML = `<div class=\"error\" style=\"color:red;\">${err}</div>`;\n",
       "      throw err;\n",
       "    }\n",
       "\n",
       "    function displayChart(vegaEmbed) {\n",
       "      vegaEmbed(outputDiv, spec, embedOpt)\n",
       "        .catch(err => showError(`Javascript Error: ${err.message}<br>This usually means there's a typo in your chart specification. See the javascript console for the full traceback.`));\n",
       "    }\n",
       "\n",
       "    if(typeof define === \"function\" && define.amd) {\n",
       "      requirejs.config({paths});\n",
       "      require([\"vega-embed\"], displayChart, err => showError(`Error loading script: ${err.message}`));\n",
       "    } else {\n",
       "      maybeLoadScript(\"vega\", \"5\")\n",
       "        .then(() => maybeLoadScript(\"vega-lite\", \"4.17.0\"))\n",
       "        .then(() => maybeLoadScript(\"vega-embed\", \"6\"))\n",
       "        .catch(showError)\n",
       "        .then(() => displayChart(vegaEmbed));\n",
       "    }\n",
       "  })({\"config\": {\"view\": {\"continuousWidth\": 400, \"continuousHeight\": 300}}, \"data\": {\"name\": \"data-da5a0622f28e0dce967206965c16a503\"}, \"mark\": {\"type\": \"arc\", \"innerRadius\": 60, \"outerRadius\": 100}, \"encoding\": {\"color\": {\"field\": \"category\", \"legend\": null, \"scale\": {\"domain\": [\"unlocked\", \"locked\"], \"range\": [\"#97AE91\", \"#855E78\"]}, \"type\": \"nominal\"}, \"theta\": {\"field\": \"value\", \"stack\": true, \"type\": \"quantitative\"}, \"tooltip\": {\"field\": \"label\", \"type\": \"nominal\"}}, \"title\": \"Locked Breakdown\", \"$schema\": \"https://vega.github.io/schema/vega-lite/v4.17.0.json\", \"datasets\": {\"data-da5a0622f28e0dce967206965c16a503\": [{\"category\": \"unlocked\", \"value\": 2515370.227644, \"label\": \"6.1% unlocked\"}, {\"category\": \"locked\", \"value\": 38692169.426028, \"label\": \"93.9% locked\"}]}}, {\"mode\": \"vega-lite\"});\n",
       "</script>"
      ],
      "text/plain": [
       "alt.Chart(...)"
      ]
     },
     "execution_count": 69,
     "metadata": {},
     "output_type": "execute_result"
    }
   ],
   "source": [
    "# silo asset breakdown \n",
    "dmax = data.timestamp.max()\n",
    "df_last = data.loc[(data.timestamp == dmax) & (data.variable != 'bdv_total')] \n",
    "categories = ['unlocked', 'locked'] \n",
    "bdv_total = data.loc[(data.timestamp == dmax) & (data.variable == 'bdv_total')].value.sum()\n",
    "values = [\n",
    "    df_last.loc[(df_last.variable == 'bdv_bean') | (df_last.variable == 'bdv_bean_3crv')].value.sum(), \n",
    "    df_last.loc[(df_last.variable == 'bdv_ur_bean') | (df_last.variable == 'bdv_ur_bean_3crv')].value.sum(), \n",
    "]\n",
    "\n",
    "df_pie = pd.DataFrame(\n",
    "    {\n",
    "        'category': categories, \n",
    "        'value': values, \n",
    "        'label': [\n",
    "            f\"{v / bdv_total:.1%} {c}\"\n",
    "            for c, v in zip(categories, values)\n",
    "        ]\n",
    "    }\n",
    ")\n",
    "df_pie.head()\n",
    "\n",
    "chart_pie_locked = (\n",
    "    alt.Chart(df_pie, title=\"Locked Breakdown\")\n",
    "    .encode(\n",
    "        theta=alt.Theta(\"value:Q\", stack=True),\n",
    "        color=alt.Color(\n",
    "            \"category:N\", \n",
    "            legend=None, \n",
    "            scale=alt.Scale(\n",
    "                domain=categories, \n",
    "                range=[Tokyo_4.hex_colors[2], Tokyo_4.hex_colors[1]]\n",
    "            )\n",
    "        ),\n",
    "        tooltip=\"label:N\"\n",
    "    )\n",
    "    .mark_arc(outerRadius=100, innerRadius=60)\n",
    ")\n",
    "chart_pie_locked"
   ]
  },
  {
   "cell_type": "code",
   "execution_count": 70,
   "id": "8b281034-b767-42ce-a9cf-a81cb762643c",
   "metadata": {},
   "outputs": [
    {
     "data": {
      "text/html": [
       "<style></style>"
      ],
      "text/plain": [
       "<IPython.core.display.HTML object>"
      ]
     },
     "metadata": {},
     "output_type": "display_data"
    },
    {
     "data": {
      "text/html": [
       "\n",
       "<div id=\"altair-viz-ddcf37c3404e43399ead5d3d39e02570\"></div>\n",
       "<script type=\"text/javascript\">\n",
       "  var VEGA_DEBUG = (typeof VEGA_DEBUG == \"undefined\") ? {} : VEGA_DEBUG;\n",
       "  (function(spec, embedOpt){\n",
       "    let outputDiv = document.currentScript.previousElementSibling;\n",
       "    if (outputDiv.id !== \"altair-viz-ddcf37c3404e43399ead5d3d39e02570\") {\n",
       "      outputDiv = document.getElementById(\"altair-viz-ddcf37c3404e43399ead5d3d39e02570\");\n",
       "    }\n",
       "    const paths = {\n",
       "      \"vega\": \"https://cdn.jsdelivr.net/npm//vega@5?noext\",\n",
       "      \"vega-lib\": \"https://cdn.jsdelivr.net/npm//vega-lib?noext\",\n",
       "      \"vega-lite\": \"https://cdn.jsdelivr.net/npm//vega-lite@4.17.0?noext\",\n",
       "      \"vega-embed\": \"https://cdn.jsdelivr.net/npm//vega-embed@6?noext\",\n",
       "    };\n",
       "\n",
       "    function maybeLoadScript(lib, version) {\n",
       "      var key = `${lib.replace(\"-\", \"\")}_version`;\n",
       "      return (VEGA_DEBUG[key] == version) ?\n",
       "        Promise.resolve(paths[lib]) :\n",
       "        new Promise(function(resolve, reject) {\n",
       "          var s = document.createElement('script');\n",
       "          document.getElementsByTagName(\"head\")[0].appendChild(s);\n",
       "          s.async = true;\n",
       "          s.onload = () => {\n",
       "            VEGA_DEBUG[key] = version;\n",
       "            return resolve(paths[lib]);\n",
       "          };\n",
       "          s.onerror = () => reject(`Error loading script: ${paths[lib]}`);\n",
       "          s.src = paths[lib];\n",
       "        });\n",
       "    }\n",
       "\n",
       "    function showError(err) {\n",
       "      outputDiv.innerHTML = `<div class=\"error\" style=\"color:red;\">${err}</div>`;\n",
       "      throw err;\n",
       "    }\n",
       "\n",
       "    function displayChart(vegaEmbed) {\n",
       "      vegaEmbed(outputDiv, spec, embedOpt)\n",
       "        .catch(err => showError(`Javascript Error: ${err.message}<br>This usually means there's a typo in your chart specification. See the javascript console for the full traceback.`));\n",
       "    }\n",
       "\n",
       "    if(typeof define === \"function\" && define.amd) {\n",
       "      requirejs.config({paths});\n",
       "      require([\"vega-embed\"], displayChart, err => showError(`Error loading script: ${err.message}`));\n",
       "    } else {\n",
       "      maybeLoadScript(\"vega\", \"5\")\n",
       "        .then(() => maybeLoadScript(\"vega-lite\", \"4.17.0\"))\n",
       "        .then(() => maybeLoadScript(\"vega-embed\", \"6\"))\n",
       "        .catch(showError)\n",
       "        .then(() => displayChart(vegaEmbed));\n",
       "    }\n",
       "  })({\"config\": {\"view\": {\"continuousWidth\": 400, \"continuousHeight\": 300}}, \"hconcat\": [{\"layer\": [{\"mark\": \"area\", \"encoding\": {\"color\": {\"field\": \"variable\", \"legend\": {\"orient\": \"top\", \"title\": null}, \"scale\": {\"domain\": [\"bdv_ur_bean\", \"bdv_ur_bean_3crv\", \"bdv_bean_3crv\", \"bdv_bean\", \"bdv_total\"], \"range\": [\"#32A251\", \"#FF7F0F\", \"#3CB7CC\", \"#FFD94A\", \"#39737C\"]}, \"type\": \"nominal\"}, \"order\": {\"field\": \"stack_order\", \"sort\": \"ascending\", \"type\": \"quantitative\"}, \"x\": {\"axis\": {\"formatType\": \"time\", \"labelAngle\": 0, \"labelExpr\": \"timeFormat(toDate(datum.value), '%b %e, %Y')\", \"labelOverlap\": true, \"labelPadding\": 5, \"labelSeparation\": 50, \"ticks\": false, \"title\": \"Date\"}, \"field\": \"timestamp\", \"type\": \"ordinal\"}, \"y\": {\"axis\": {\"format\": \".2s\", \"title\": \"Bdv\"}, \"field\": \"value\", \"type\": \"quantitative\"}}, \"title\": \"\", \"transform\": [{\"calculate\": \"datum['variable'] === 'bdv_ur_bean' ? 0 :  datum['variable'] === 'bdv_ur_bean_3crv' ? 1 :  datum['variable'] === 'bdv_bean_3crv' ? 2 :  datum['variable'] === 'bdv_bean' ? 3 :  datum['variable'] === 'bdv_total' ? 4 : 5\", \"as\": \"stack_order\"}, {\"filter\": \"datum['variable'] == 'bdv_ur_bean' | datum['variable'] == 'bdv_ur_bean_3crv' | datum['variable'] == 'bdv_bean_3crv' | datum['variable'] == 'bdv_bean'\"}], \"width\": 400}, {\"layer\": [{\"mark\": \"line\", \"encoding\": {\"color\": {\"field\": \"variable\", \"legend\": {\"orient\": \"top\", \"title\": null}, \"scale\": {\"domain\": [\"bdv_ur_bean\", \"bdv_ur_bean_3crv\", \"bdv_bean_3crv\", \"bdv_bean\", \"bdv_total\"], \"range\": [\"#32A251\", \"#FF7F0F\", \"#3CB7CC\", \"#FFD94A\", \"#39737C\"]}, \"type\": \"nominal\"}, \"order\": {\"field\": \"stack_order\", \"sort\": \"ascending\", \"type\": \"quantitative\"}, \"x\": {\"axis\": {\"formatType\": \"time\", \"labelAngle\": 0, \"labelExpr\": \"timeFormat(toDate(datum.value), '%b %e, %Y')\", \"labelOverlap\": true, \"labelPadding\": 5, \"labelSeparation\": 50, \"ticks\": false, \"title\": \"Date\"}, \"field\": \"timestamp\", \"type\": \"ordinal\"}, \"y\": {\"axis\": {}, \"field\": \"value\", \"type\": \"quantitative\"}}, \"title\": \"\", \"transform\": [{\"calculate\": \"datum['variable'] === 'bdv_ur_bean' ? 0 :  datum['variable'] === 'bdv_ur_bean_3crv' ? 1 :  datum['variable'] === 'bdv_bean_3crv' ? 2 :  datum['variable'] === 'bdv_bean' ? 3 :  datum['variable'] === 'bdv_total' ? 4 : 5\", \"as\": \"stack_order\"}, {\"filter\": \"datum['variable'] == 'bdv_total'\"}], \"width\": 400}, {\"mark\": {\"type\": \"rule\", \"color\": \"#474440\", \"opacity\": 1, \"strokeDash\": [2.5, 1]}, \"encoding\": {\"x\": {\"axis\": {\"formatType\": \"time\", \"labelAngle\": 0, \"labelExpr\": \"timeFormat(toDate(datum.value), '%b %e, %Y')\", \"labelOverlap\": true, \"labelPadding\": 5, \"labelSeparation\": 50, \"ticks\": false, \"title\": \"Date\"}, \"field\": \"timestamp\", \"type\": \"ordinal\"}}, \"title\": \"\", \"transform\": [{\"calculate\": \"datum['variable'] === 'bdv_ur_bean' ? 0 :  datum['variable'] === 'bdv_ur_bean_3crv' ? 1 :  datum['variable'] === 'bdv_bean_3crv' ? 2 :  datum['variable'] === 'bdv_bean' ? 3 :  datum['variable'] === 'bdv_total' ? 4 : 5\", \"as\": \"stack_order\"}, {\"pivot\": \"variable\", \"value\": \"value\", \"groupby\": [\"timestamp\"]}, {\"filter\": \"\\n            year(datum['timestamp']) === 2022 && \\n            month(datum['timestamp']) === 3 && \\n            date(datum['timestamp']) === 17 \\n        \"}], \"width\": 400}, {\"mark\": {\"type\": \"rule\", \"color\": \"#878787\"}, \"encoding\": {\"opacity\": {\"condition\": {\"value\": 1, \"selection\": \"selector009\"}, \"value\": 0}, \"tooltip\": [{\"field\": \"timestamp\", \"timeUnit\": \"yearmonthdate\", \"title\": \"date\", \"type\": \"ordinal\"}, {\"field\": \"bdv_ur_bean\", \"format\": \",d\", \"type\": \"quantitative\"}, {\"field\": \"bdv_ur_bean_3crv\", \"format\": \",d\", \"type\": \"quantitative\"}, {\"field\": \"bdv_bean_3crv\", \"format\": \",d\", \"type\": \"quantitative\"}, {\"field\": \"bdv_bean\", \"format\": \",d\", \"type\": \"quantitative\"}, {\"field\": \"bdv_total\", \"format\": \",d\", \"type\": \"quantitative\"}], \"x\": {\"axis\": {\"formatType\": \"time\", \"labelAngle\": 0, \"labelExpr\": \"timeFormat(toDate(datum.value), '%b %e, %Y')\", \"labelOverlap\": true, \"labelPadding\": 5, \"labelSeparation\": 50, \"ticks\": false, \"title\": \"Date\"}, \"field\": \"timestamp\", \"type\": \"ordinal\"}}, \"selection\": {\"selector009\": {\"type\": \"single\", \"fields\": [\"timestamp\"], \"nearest\": true, \"on\": \"mouseover\", \"empty\": \"none\", \"clear\": \"mouseout\"}}, \"title\": \"\", \"transform\": [{\"calculate\": \"datum['variable'] === 'bdv_ur_bean' ? 0 :  datum['variable'] === 'bdv_ur_bean_3crv' ? 1 :  datum['variable'] === 'bdv_bean_3crv' ? 2 :  datum['variable'] === 'bdv_bean' ? 3 :  datum['variable'] === 'bdv_total' ? 4 : 5\", \"as\": \"stack_order\"}, {\"pivot\": \"variable\", \"value\": \"value\", \"groupby\": [\"timestamp\"]}], \"width\": 400}]}], \"data\": {\"name\": \"data-ec120d3fa8e3b4048da01f6da7bf1993\"}}, {\"data\": {\"name\": \"data-dc587bde6e185e945aa793235d8dcb05\"}, \"mark\": {\"type\": \"arc\", \"innerRadius\": 60, \"outerRadius\": 100}, \"encoding\": {\"color\": {\"field\": \"category\", \"legend\": null, \"scale\": {\"domain\": [\"bdv_ur_bean\", \"bdv_ur_bean_3crv\", \"bdv_bean_3crv\", \"bdv_bean\"], \"range\": [\"#32A251\", \"#FF7F0F\", \"#3CB7CC\", \"#FFD94A\"]}, \"type\": \"nominal\"}, \"theta\": {\"field\": \"value\", \"stack\": true, \"type\": \"quantitative\"}, \"tooltip\": {\"field\": \"label\", \"type\": \"nominal\"}}, \"title\": \"Asset Breakdown\"}, {\"data\": {\"name\": \"data-da5a0622f28e0dce967206965c16a503\"}, \"mark\": {\"type\": \"arc\", \"innerRadius\": 60, \"outerRadius\": 100}, \"encoding\": {\"color\": {\"field\": \"category\", \"legend\": null, \"scale\": {\"domain\": [\"unlocked\", \"locked\"], \"range\": [\"#97AE91\", \"#855E78\"]}, \"type\": \"nominal\"}, \"theta\": {\"field\": \"value\", \"stack\": true, \"type\": \"quantitative\"}, \"tooltip\": {\"field\": \"label\", \"type\": \"nominal\"}}, \"title\": \"Locked Breakdown\"}], \"resolve\": {\"axis\": {\"y\": \"independent\"}, \"legend\": {\"color\": \"independent\"}, \"scale\": {\"color\": \"independent\", \"y\": \"independent\"}}, \"$schema\": \"https://vega.github.io/schema/vega-lite/v4.17.0.json\", \"datasets\": {\"data-ec120d3fa8e3b4048da01f6da7bf1993\": [{\"timestamp\": \"2022-08-04T00:00:00\", \"value\": 5978133.655747, \"variable\": \"bdv_ur_bean\"}, {\"timestamp\": \"2022-08-04T00:00:00\", \"value\": 32317887.140979, \"variable\": \"bdv_total\"}, {\"timestamp\": \"2022-08-04T00:00:00\", \"value\": 26339753.485232, \"variable\": \"bdv_ur_bean_3crv\"}, {\"timestamp\": \"2022-08-05T00:00:00\", \"value\": 26927531.209686, \"variable\": \"bdv_ur_bean_3crv\"}, {\"timestamp\": \"2022-08-05T00:00:00\", \"value\": 5623644.838133, \"variable\": \"bdv_ur_bean\"}, {\"timestamp\": \"2022-08-05T00:00:00\", \"value\": 32645767.088951, \"variable\": \"bdv_total\"}, {\"timestamp\": \"2022-08-05T00:00:00\", \"value\": 89359.642612, \"variable\": \"bdv_bean_3crv\"}, {\"timestamp\": \"2022-08-05T00:00:00\", \"value\": 5231.39852, \"variable\": \"bdv_bean\"}, {\"timestamp\": \"2022-08-06T00:00:00\", \"value\": 462004.04136, \"variable\": \"bdv_bean_3crv\"}, {\"timestamp\": \"2022-08-06T00:00:00\", \"value\": 33371039.858399004, \"variable\": \"bdv_total\"}, {\"timestamp\": \"2022-08-06T00:00:00\", \"value\": 100571.042032, \"variable\": \"bdv_bean\"}, {\"timestamp\": \"2022-08-06T00:00:00\", \"value\": 5513601.265417, \"variable\": \"bdv_ur_bean\"}, {\"timestamp\": \"2022-08-06T00:00:00\", \"value\": 27294863.50959, \"variable\": \"bdv_ur_bean_3crv\"}, {\"timestamp\": \"2022-08-07T00:00:00\", \"value\": 42131149.240254, \"variable\": \"bdv_total\"}, {\"timestamp\": \"2022-08-07T00:00:00\", \"value\": 1506243.466729, \"variable\": \"bdv_bean\"}, {\"timestamp\": \"2022-08-07T00:00:00\", \"value\": 5381329.303513, \"variable\": \"bdv_ur_bean\"}, {\"timestamp\": \"2022-08-07T00:00:00\", \"value\": 5836871.302909, \"variable\": \"bdv_bean_3crv\"}, {\"timestamp\": \"2022-08-07T00:00:00\", \"value\": 29406705.167103, \"variable\": \"bdv_ur_bean_3crv\"}, {\"timestamp\": \"2022-08-08T00:00:00\", \"value\": 5307938.614667, \"variable\": \"bdv_bean_3crv\"}, {\"timestamp\": \"2022-08-08T00:00:00\", \"value\": 30541189.532496, \"variable\": \"bdv_ur_bean_3crv\"}, {\"timestamp\": \"2022-08-08T00:00:00\", \"value\": 2056563.133446, \"variable\": \"bdv_bean\"}, {\"timestamp\": \"2022-08-08T00:00:00\", \"value\": 5498258.749764, \"variable\": \"bdv_ur_bean\"}, {\"timestamp\": \"2022-08-08T00:00:00\", \"value\": 43403950.030373, \"variable\": \"bdv_total\"}, {\"timestamp\": \"2022-08-09T00:00:00\", \"value\": 29880114.049145, \"variable\": \"bdv_ur_bean_3crv\"}, {\"timestamp\": \"2022-08-09T00:00:00\", \"value\": 3664273.394661, \"variable\": \"bdv_bean_3crv\"}, {\"timestamp\": \"2022-08-09T00:00:00\", \"value\": 6426493.308836, \"variable\": \"bdv_ur_bean\"}, {\"timestamp\": \"2022-08-09T00:00:00\", \"value\": 1526877.140336, \"variable\": \"bdv_bean\"}, {\"timestamp\": \"2022-08-09T00:00:00\", \"value\": 41497757.892978, \"variable\": \"bdv_total\"}, {\"timestamp\": \"2022-08-10T00:00:00\", \"value\": 3720520.612047, \"variable\": \"bdv_bean_3crv\"}, {\"timestamp\": \"2022-08-10T00:00:00\", \"value\": 41601629.764988005, \"variable\": \"bdv_total\"}, {\"timestamp\": \"2022-08-10T00:00:00\", \"value\": 1520361.180963, \"variable\": \"bdv_bean\"}, {\"timestamp\": \"2022-08-10T00:00:00\", \"value\": 29894207.154513, \"variable\": \"bdv_ur_bean_3crv\"}, {\"timestamp\": \"2022-08-10T00:00:00\", \"value\": 6466540.817465, \"variable\": \"bdv_ur_bean\"}, {\"timestamp\": \"2022-08-11T00:00:00\", \"value\": 41616163.176115, \"variable\": \"bdv_total\"}, {\"timestamp\": \"2022-08-11T00:00:00\", \"value\": 1691589.456553, \"variable\": \"bdv_bean\"}, {\"timestamp\": \"2022-08-11T00:00:00\", \"value\": 3500244.414793, \"variable\": \"bdv_bean_3crv\"}, {\"timestamp\": \"2022-08-11T00:00:00\", \"value\": 29885191.786606, \"variable\": \"bdv_ur_bean_3crv\"}, {\"timestamp\": \"2022-08-11T00:00:00\", \"value\": 6539137.518163, \"variable\": \"bdv_ur_bean\"}, {\"timestamp\": \"2022-08-12T00:00:00\", \"value\": 41655989.769856, \"variable\": \"bdv_total\"}, {\"timestamp\": \"2022-08-12T00:00:00\", \"value\": 1702426.130822, \"variable\": \"bdv_bean\"}, {\"timestamp\": \"2022-08-12T00:00:00\", \"value\": 29920252.111981, \"variable\": \"bdv_ur_bean_3crv\"}, {\"timestamp\": \"2022-08-12T00:00:00\", \"value\": 6530478.824595, \"variable\": \"bdv_ur_bean\"}, {\"timestamp\": \"2022-08-12T00:00:00\", \"value\": 3502832.702458, \"variable\": \"bdv_bean_3crv\"}, {\"timestamp\": \"2022-08-13T00:00:00\", \"value\": 41819484.501842, \"variable\": \"bdv_total\"}, {\"timestamp\": \"2022-08-13T00:00:00\", \"value\": 6528269.82436, \"variable\": \"bdv_ur_bean\"}, {\"timestamp\": \"2022-08-13T00:00:00\", \"value\": 29982080.538393, \"variable\": \"bdv_ur_bean_3crv\"}, {\"timestamp\": \"2022-08-13T00:00:00\", \"value\": 3534985.076794, \"variable\": \"bdv_bean_3crv\"}, {\"timestamp\": \"2022-08-13T00:00:00\", \"value\": 1774149.062295, \"variable\": \"bdv_bean\"}, {\"timestamp\": \"2022-08-14T00:00:00\", \"value\": 9048670.222874, \"variable\": \"bdv_ur_bean\"}, {\"timestamp\": \"2022-08-14T00:00:00\", \"value\": 1200969.476851, \"variable\": \"bdv_bean_3crv\"}, {\"timestamp\": \"2022-08-14T00:00:00\", \"value\": 1401783.998667, \"variable\": \"bdv_bean\"}, {\"timestamp\": \"2022-08-14T00:00:00\", \"value\": 27703012.774458, \"variable\": \"bdv_ur_bean_3crv\"}, {\"timestamp\": \"2022-08-14T00:00:00\", \"value\": 39354436.472849995, \"variable\": \"bdv_total\"}, {\"timestamp\": \"2022-08-15T00:00:00\", \"value\": 27710382.759477, \"variable\": \"bdv_ur_bean_3crv\"}, {\"timestamp\": \"2022-08-15T00:00:00\", \"value\": 9052612.094622, \"variable\": \"bdv_ur_bean\"}, {\"timestamp\": \"2022-08-15T00:00:00\", \"value\": 1190492.237083, \"variable\": \"bdv_bean_3crv\"}, {\"timestamp\": \"2022-08-15T00:00:00\", \"value\": 39370892.757622, \"variable\": \"bdv_total\"}, {\"timestamp\": \"2022-08-15T00:00:00\", \"value\": 1417405.66644, \"variable\": \"bdv_bean\"}, {\"timestamp\": \"2022-08-16T00:00:00\", \"value\": 39528847.946184, \"variable\": \"bdv_total\"}, {\"timestamp\": \"2022-08-16T00:00:00\", \"value\": 9163322.789853, \"variable\": \"bdv_ur_bean\"}, {\"timestamp\": \"2022-08-16T00:00:00\", \"value\": 1185845.803379, \"variable\": \"bdv_bean_3crv\"}, {\"timestamp\": \"2022-08-16T00:00:00\", \"value\": 1414327.23749, \"variable\": \"bdv_bean\"}, {\"timestamp\": \"2022-08-16T00:00:00\", \"value\": 27765352.115462, \"variable\": \"bdv_ur_bean_3crv\"}, {\"timestamp\": \"2022-08-17T00:00:00\", \"value\": 9149420.921032, \"variable\": \"bdv_ur_bean\"}, {\"timestamp\": \"2022-08-17T00:00:00\", \"value\": 1187121.400189, \"variable\": \"bdv_bean_3crv\"}, {\"timestamp\": \"2022-08-17T00:00:00\", \"value\": 27786131.029705, \"variable\": \"bdv_ur_bean_3crv\"}, {\"timestamp\": \"2022-08-17T00:00:00\", \"value\": 1436943.097604, \"variable\": \"bdv_bean\"}, {\"timestamp\": \"2022-08-17T00:00:00\", \"value\": 39559616.44853, \"variable\": \"bdv_total\"}, {\"timestamp\": \"2022-08-18T00:00:00\", \"value\": 1447186.463689, \"variable\": \"bdv_bean\"}, {\"timestamp\": \"2022-08-18T00:00:00\", \"value\": 9149609.652743, \"variable\": \"bdv_ur_bean\"}, {\"timestamp\": \"2022-08-18T00:00:00\", \"value\": 1175751.783769, \"variable\": \"bdv_bean_3crv\"}, {\"timestamp\": \"2022-08-18T00:00:00\", \"value\": 27794393.896052, \"variable\": \"bdv_ur_bean_3crv\"}, {\"timestamp\": \"2022-08-18T00:00:00\", \"value\": 39566941.796252996, \"variable\": \"bdv_total\"}, {\"timestamp\": \"2022-08-19T00:00:00\", \"value\": 39799775.533911, \"variable\": \"bdv_total\"}, {\"timestamp\": \"2022-08-19T00:00:00\", \"value\": 27919453.684368, \"variable\": \"bdv_ur_bean_3crv\"}, {\"timestamp\": \"2022-08-19T00:00:00\", \"value\": 1466984.991038, \"variable\": \"bdv_bean\"}, {\"timestamp\": \"2022-08-19T00:00:00\", \"value\": 9239047.163768, \"variable\": \"bdv_ur_bean\"}, {\"timestamp\": \"2022-08-19T00:00:00\", \"value\": 1174289.694737, \"variable\": \"bdv_bean_3crv\"}, {\"timestamp\": \"2022-08-20T00:00:00\", \"value\": 1172392.870021, \"variable\": \"bdv_bean_3crv\"}, {\"timestamp\": \"2022-08-20T00:00:00\", \"value\": 1468915.600044, \"variable\": \"bdv_bean\"}, {\"timestamp\": \"2022-08-20T00:00:00\", \"value\": 27887764.095515, \"variable\": \"bdv_ur_bean_3crv\"}, {\"timestamp\": \"2022-08-20T00:00:00\", \"value\": 9283207.61521, \"variable\": \"bdv_ur_bean\"}, {\"timestamp\": \"2022-08-20T00:00:00\", \"value\": 39812280.18079, \"variable\": \"bdv_total\"}, {\"timestamp\": \"2022-08-21T00:00:00\", \"value\": 39855892.850034, \"variable\": \"bdv_total\"}, {\"timestamp\": \"2022-08-21T00:00:00\", \"value\": 1196440.802577, \"variable\": \"bdv_bean_3crv\"}, {\"timestamp\": \"2022-08-21T00:00:00\", \"value\": 1479122.852064, \"variable\": \"bdv_bean\"}, {\"timestamp\": \"2022-08-21T00:00:00\", \"value\": 27900567.094232, \"variable\": \"bdv_ur_bean_3crv\"}, {\"timestamp\": \"2022-08-21T00:00:00\", \"value\": 9279762.101161, \"variable\": \"bdv_ur_bean\"}, {\"timestamp\": \"2022-08-22T00:00:00\", \"value\": 39878487.793065, \"variable\": \"bdv_total\"}, {\"timestamp\": \"2022-08-22T00:00:00\", \"value\": 27922729.822449, \"variable\": \"bdv_ur_bean_3crv\"}, {\"timestamp\": \"2022-08-22T00:00:00\", \"value\": 9275962.172207, \"variable\": \"bdv_ur_bean\"}, {\"timestamp\": \"2022-08-22T00:00:00\", \"value\": 1478300.200066, \"variable\": \"bdv_bean\"}, {\"timestamp\": \"2022-08-22T00:00:00\", \"value\": 1201495.598343, \"variable\": \"bdv_bean_3crv\"}, {\"timestamp\": \"2022-08-23T00:00:00\", \"value\": 27935653.681201, \"variable\": \"bdv_ur_bean_3crv\"}, {\"timestamp\": \"2022-08-23T00:00:00\", \"value\": 39841389.579848, \"variable\": \"bdv_total\"}, {\"timestamp\": \"2022-08-23T00:00:00\", \"value\": 1158579.040741, \"variable\": \"bdv_bean_3crv\"}, {\"timestamp\": \"2022-08-23T00:00:00\", \"value\": 9269797.503431, \"variable\": \"bdv_ur_bean\"}, {\"timestamp\": \"2022-08-23T00:00:00\", \"value\": 1477359.354475, \"variable\": \"bdv_bean\"}, {\"timestamp\": \"2022-08-24T00:00:00\", \"value\": 27940192.710879, \"variable\": \"bdv_ur_bean_3crv\"}, {\"timestamp\": \"2022-08-24T00:00:00\", \"value\": 39894820.508675, \"variable\": \"bdv_total\"}, {\"timestamp\": \"2022-08-24T00:00:00\", \"value\": 9269837.033207, \"variable\": \"bdv_ur_bean\"}, {\"timestamp\": \"2022-08-24T00:00:00\", \"value\": 1525480.632648, \"variable\": \"bdv_bean\"}, {\"timestamp\": \"2022-08-24T00:00:00\", \"value\": 1159310.131941, \"variable\": \"bdv_bean_3crv\"}, {\"timestamp\": \"2022-08-25T00:00:00\", \"value\": 1161095.58589, \"variable\": \"bdv_bean_3crv\"}, {\"timestamp\": \"2022-08-25T00:00:00\", \"value\": 1537007.21747, \"variable\": \"bdv_bean\"}, {\"timestamp\": \"2022-08-25T00:00:00\", \"value\": 27932143.064575, \"variable\": \"bdv_ur_bean_3crv\"}, {\"timestamp\": \"2022-08-25T00:00:00\", \"value\": 39926616.4265, \"variable\": \"bdv_total\"}, {\"timestamp\": \"2022-08-25T00:00:00\", \"value\": 9296370.558565, \"variable\": \"bdv_ur_bean\"}, {\"timestamp\": \"2022-08-26T00:00:00\", \"value\": 39946239.013390005, \"variable\": \"bdv_total\"}, {\"timestamp\": \"2022-08-26T00:00:00\", \"value\": 1543625.724149, \"variable\": \"bdv_bean\"}, {\"timestamp\": \"2022-08-26T00:00:00\", \"value\": 27947618.913166, \"variable\": \"bdv_ur_bean_3crv\"}, {\"timestamp\": \"2022-08-26T00:00:00\", \"value\": 1161523.706127, \"variable\": \"bdv_bean_3crv\"}, {\"timestamp\": \"2022-08-26T00:00:00\", \"value\": 9293470.669948, \"variable\": \"bdv_ur_bean\"}, {\"timestamp\": \"2022-08-27T00:00:00\", \"value\": 39942925.057197, \"variable\": \"bdv_total\"}, {\"timestamp\": \"2022-08-27T00:00:00\", \"value\": 1154912.338966, \"variable\": \"bdv_bean_3crv\"}, {\"timestamp\": \"2022-08-27T00:00:00\", \"value\": 27951237.246694, \"variable\": \"bdv_ur_bean_3crv\"}, {\"timestamp\": \"2022-08-27T00:00:00\", \"value\": 9290168.485159, \"variable\": \"bdv_ur_bean\"}, {\"timestamp\": \"2022-08-27T00:00:00\", \"value\": 1546606.986378, \"variable\": \"bdv_bean\"}, {\"timestamp\": \"2022-08-28T00:00:00\", \"value\": 1121462.24258, \"variable\": \"bdv_bean_3crv\"}, {\"timestamp\": \"2022-08-28T00:00:00\", \"value\": 9354176.311584, \"variable\": \"bdv_ur_bean\"}, {\"timestamp\": \"2022-08-28T00:00:00\", \"value\": 27897942.540404, \"variable\": \"bdv_ur_bean_3crv\"}, {\"timestamp\": \"2022-08-28T00:00:00\", \"value\": 1530624.442858, \"variable\": \"bdv_bean\"}, {\"timestamp\": \"2022-08-28T00:00:00\", \"value\": 39904205.537426, \"variable\": \"bdv_total\"}, {\"timestamp\": \"2022-08-29T00:00:00\", \"value\": 9965638.191439, \"variable\": \"bdv_ur_bean\"}, {\"timestamp\": \"2022-08-29T00:00:00\", \"value\": 1869121.21492, \"variable\": \"bdv_bean\"}, {\"timestamp\": \"2022-08-29T00:00:00\", \"value\": 27901307.415334, \"variable\": \"bdv_ur_bean_3crv\"}, {\"timestamp\": \"2022-08-29T00:00:00\", \"value\": 40858333.48333301, \"variable\": \"bdv_total\"}, {\"timestamp\": \"2022-08-29T00:00:00\", \"value\": 1122266.66164, \"variable\": \"bdv_bean_3crv\"}, {\"timestamp\": \"2022-08-30T00:00:00\", \"value\": 10093639.386828, \"variable\": \"bdv_ur_bean\"}, {\"timestamp\": \"2022-08-30T00:00:00\", \"value\": 1846137.292306, \"variable\": \"bdv_bean\"}, {\"timestamp\": \"2022-08-30T00:00:00\", \"value\": 27775370.947132, \"variable\": \"bdv_ur_bean_3crv\"}, {\"timestamp\": \"2022-08-30T00:00:00\", \"value\": 1122462.63845, \"variable\": \"bdv_bean_3crv\"}, {\"timestamp\": \"2022-08-30T00:00:00\", \"value\": 40837610.264716, \"variable\": \"bdv_total\"}, {\"timestamp\": \"2022-08-31T00:00:00\", \"value\": 27708893.137275, \"variable\": \"bdv_ur_bean_3crv\"}, {\"timestamp\": \"2022-08-31T00:00:00\", \"value\": 40850259.458272, \"variable\": \"bdv_total\"}, {\"timestamp\": \"2022-08-31T00:00:00\", \"value\": 1115959.584527, \"variable\": \"bdv_bean_3crv\"}, {\"timestamp\": \"2022-08-31T00:00:00\", \"value\": 10178357.942974, \"variable\": \"bdv_ur_bean\"}, {\"timestamp\": \"2022-08-31T00:00:00\", \"value\": 1847048.793496, \"variable\": \"bdv_bean\"}, {\"timestamp\": \"2022-09-01T00:00:00\", \"value\": 40828282.370543, \"variable\": \"bdv_total\"}, {\"timestamp\": \"2022-09-01T00:00:00\", \"value\": 1824474.918117, \"variable\": \"bdv_bean\"}, {\"timestamp\": \"2022-09-01T00:00:00\", \"value\": 10222220.177135, \"variable\": \"bdv_ur_bean\"}, {\"timestamp\": \"2022-09-01T00:00:00\", \"value\": 27669576.160952, \"variable\": \"bdv_ur_bean_3crv\"}, {\"timestamp\": \"2022-09-01T00:00:00\", \"value\": 1112011.114339, \"variable\": \"bdv_bean_3crv\"}, {\"timestamp\": \"2022-09-02T00:00:00\", \"value\": 1071574.617053, \"variable\": \"bdv_bean_3crv\"}, {\"timestamp\": \"2022-09-02T00:00:00\", \"value\": 1798079.112294, \"variable\": \"bdv_bean\"}, {\"timestamp\": \"2022-09-02T00:00:00\", \"value\": 40765756.285696, \"variable\": \"bdv_total\"}, {\"timestamp\": \"2022-09-02T00:00:00\", \"value\": 10297594.953546, \"variable\": \"bdv_ur_bean\"}, {\"timestamp\": \"2022-09-02T00:00:00\", \"value\": 27598507.602803, \"variable\": \"bdv_ur_bean_3crv\"}, {\"timestamp\": \"2022-09-03T00:00:00\", \"value\": 27559993.085273, \"variable\": \"bdv_ur_bean_3crv\"}, {\"timestamp\": \"2022-09-03T00:00:00\", \"value\": 10360424.021289, \"variable\": \"bdv_ur_bean\"}, {\"timestamp\": \"2022-09-03T00:00:00\", \"value\": 40710937.534698, \"variable\": \"bdv_total\"}, {\"timestamp\": \"2022-09-03T00:00:00\", \"value\": 1823631.030456, \"variable\": \"bdv_bean\"}, {\"timestamp\": \"2022-09-03T00:00:00\", \"value\": 966889.39768, \"variable\": \"bdv_bean_3crv\"}, {\"timestamp\": \"2022-09-04T00:00:00\", \"value\": 1824064.054297, \"variable\": \"bdv_bean\"}, {\"timestamp\": \"2022-09-04T00:00:00\", \"value\": 27563746.350397, \"variable\": \"bdv_ur_bean_3crv\"}, {\"timestamp\": \"2022-09-04T00:00:00\", \"value\": 10358281.832429, \"variable\": \"bdv_ur_bean\"}, {\"timestamp\": \"2022-09-04T00:00:00\", \"value\": 966550.532216, \"variable\": \"bdv_bean_3crv\"}, {\"timestamp\": \"2022-09-04T00:00:00\", \"value\": 40712642.769338995, \"variable\": \"bdv_total\"}, {\"timestamp\": \"2022-09-05T00:00:00\", \"value\": 40708127.996226005, \"variable\": \"bdv_total\"}, {\"timestamp\": \"2022-09-05T00:00:00\", \"value\": 1825477.837294, \"variable\": \"bdv_bean\"}, {\"timestamp\": \"2022-09-05T00:00:00\", \"value\": 967060.778585, \"variable\": \"bdv_bean_3crv\"}, {\"timestamp\": \"2022-09-05T00:00:00\", \"value\": 27503300.595346, \"variable\": \"bdv_ur_bean_3crv\"}, {\"timestamp\": \"2022-09-05T00:00:00\", \"value\": 10412288.785001, \"variable\": \"bdv_ur_bean\"}, {\"timestamp\": \"2022-09-06T00:00:00\", \"value\": 10413248.045098, \"variable\": \"bdv_ur_bean\"}, {\"timestamp\": \"2022-09-06T00:00:00\", \"value\": 1813063.41317, \"variable\": \"bdv_bean\"}, {\"timestamp\": \"2022-09-06T00:00:00\", \"value\": 959485.562375, \"variable\": \"bdv_bean_3crv\"}, {\"timestamp\": \"2022-09-06T00:00:00\", \"value\": 40698738.596294, \"variable\": \"bdv_total\"}, {\"timestamp\": \"2022-09-06T00:00:00\", \"value\": 27512941.575651, \"variable\": \"bdv_ur_bean_3crv\"}, {\"timestamp\": \"2022-09-07T00:00:00\", \"value\": 10506318.112696, \"variable\": \"bdv_ur_bean\"}, {\"timestamp\": \"2022-09-07T00:00:00\", \"value\": 27423908.314636, \"variable\": \"bdv_ur_bean_3crv\"}, {\"timestamp\": \"2022-09-07T00:00:00\", \"value\": 1811392.005759, \"variable\": \"bdv_bean\"}, {\"timestamp\": \"2022-09-07T00:00:00\", \"value\": 957419.559338, \"variable\": \"bdv_bean_3crv\"}, {\"timestamp\": \"2022-09-07T00:00:00\", \"value\": 40699037.992428996, \"variable\": \"bdv_total\"}, {\"timestamp\": \"2022-09-08T00:00:00\", \"value\": 1807543.553818, \"variable\": \"bdv_bean\"}, {\"timestamp\": \"2022-09-08T00:00:00\", \"value\": 40698987.374193996, \"variable\": \"bdv_total\"}, {\"timestamp\": \"2022-09-08T00:00:00\", \"value\": 958892.445975, \"variable\": \"bdv_bean_3crv\"}, {\"timestamp\": \"2022-09-08T00:00:00\", \"value\": 27330135.355623, \"variable\": \"bdv_ur_bean_3crv\"}, {\"timestamp\": \"2022-09-08T00:00:00\", \"value\": 10602416.018778, \"variable\": \"bdv_ur_bean\"}, {\"timestamp\": \"2022-09-09T00:00:00\", \"value\": 1806241.242145, \"variable\": \"bdv_bean\"}, {\"timestamp\": \"2022-09-09T00:00:00\", \"value\": 958800.559885, \"variable\": \"bdv_bean_3crv\"}, {\"timestamp\": \"2022-09-09T00:00:00\", \"value\": 10602808.502553, \"variable\": \"bdv_ur_bean\"}, {\"timestamp\": \"2022-09-09T00:00:00\", \"value\": 40698777.635842, \"variable\": \"bdv_total\"}, {\"timestamp\": \"2022-09-09T00:00:00\", \"value\": 27330927.331259, \"variable\": \"bdv_ur_bean_3crv\"}, {\"timestamp\": \"2022-09-10T00:00:00\", \"value\": 1806806.955044, \"variable\": \"bdv_bean\"}, {\"timestamp\": \"2022-09-10T00:00:00\", \"value\": 27331506.427072, \"variable\": \"bdv_ur_bean_3crv\"}, {\"timestamp\": \"2022-09-10T00:00:00\", \"value\": 10602662.13899, \"variable\": \"bdv_ur_bean\"}, {\"timestamp\": \"2022-09-10T00:00:00\", \"value\": 954124.209763, \"variable\": \"bdv_bean_3crv\"}, {\"timestamp\": \"2022-09-10T00:00:00\", \"value\": 40695099.730868995, \"variable\": \"bdv_total\"}, {\"timestamp\": \"2022-09-11T00:00:00\", \"value\": 1800204.844083, \"variable\": \"bdv_bean\"}, {\"timestamp\": \"2022-09-11T00:00:00\", \"value\": 40697602.889839, \"variable\": \"bdv_total\"}, {\"timestamp\": \"2022-09-11T00:00:00\", \"value\": 10606379.852713, \"variable\": \"bdv_ur_bean\"}, {\"timestamp\": \"2022-09-11T00:00:00\", \"value\": 27333916.903644, \"variable\": \"bdv_ur_bean_3crv\"}, {\"timestamp\": \"2022-09-11T00:00:00\", \"value\": 957101.289399, \"variable\": \"bdv_bean_3crv\"}, {\"timestamp\": \"2022-09-12T00:00:00\", \"value\": 27236738.294604, \"variable\": \"bdv_ur_bean_3crv\"}, {\"timestamp\": \"2022-09-12T00:00:00\", \"value\": 1768792.095841, \"variable\": \"bdv_bean\"}, {\"timestamp\": \"2022-09-12T00:00:00\", \"value\": 10703588.002009, \"variable\": \"bdv_ur_bean\"}, {\"timestamp\": \"2022-09-12T00:00:00\", \"value\": 40666919.023678, \"variable\": \"bdv_total\"}, {\"timestamp\": \"2022-09-12T00:00:00\", \"value\": 957800.631224, \"variable\": \"bdv_bean_3crv\"}, {\"timestamp\": \"2022-09-13T00:00:00\", \"value\": 40677313.340917, \"variable\": \"bdv_total\"}, {\"timestamp\": \"2022-09-13T00:00:00\", \"value\": 1765182.276061, \"variable\": \"bdv_bean\"}, {\"timestamp\": \"2022-09-13T00:00:00\", \"value\": 27241311.716738, \"variable\": \"bdv_ur_bean_3crv\"}, {\"timestamp\": \"2022-09-13T00:00:00\", \"value\": 10702676.687868, \"variable\": \"bdv_ur_bean\"}, {\"timestamp\": \"2022-09-13T00:00:00\", \"value\": 968142.66025, \"variable\": \"bdv_bean_3crv\"}, {\"timestamp\": \"2022-09-14T00:00:00\", \"value\": 972430.504861, \"variable\": \"bdv_bean_3crv\"}, {\"timestamp\": \"2022-09-14T00:00:00\", \"value\": 1765879.508492, \"variable\": \"bdv_bean\"}, {\"timestamp\": \"2022-09-14T00:00:00\", \"value\": 10711812.775048, \"variable\": \"bdv_ur_bean\"}, {\"timestamp\": \"2022-09-14T00:00:00\", \"value\": 40691557.002684005, \"variable\": \"bdv_total\"}, {\"timestamp\": \"2022-09-14T00:00:00\", \"value\": 27241434.214283, \"variable\": \"bdv_ur_bean_3crv\"}, {\"timestamp\": \"2022-09-15T00:00:00\", \"value\": 40666685.4074, \"variable\": \"bdv_total\"}, {\"timestamp\": \"2022-09-15T00:00:00\", \"value\": 1749056.779966, \"variable\": \"bdv_bean\"}, {\"timestamp\": \"2022-09-15T00:00:00\", \"value\": 27241786.304931, \"variable\": \"bdv_ur_bean_3crv\"}, {\"timestamp\": \"2022-09-15T00:00:00\", \"value\": 10711966.382379, \"variable\": \"bdv_ur_bean\"}, {\"timestamp\": \"2022-09-15T00:00:00\", \"value\": 963875.940124, \"variable\": \"bdv_bean_3crv\"}, {\"timestamp\": \"2022-09-16T00:00:00\", \"value\": 27135059.356066, \"variable\": \"bdv_ur_bean_3crv\"}, {\"timestamp\": \"2022-09-16T00:00:00\", \"value\": 979257.877419, \"variable\": \"bdv_bean_3crv\"}, {\"timestamp\": \"2022-09-16T00:00:00\", \"value\": 10819575.191612, \"variable\": \"bdv_ur_bean\"}, {\"timestamp\": \"2022-09-16T00:00:00\", \"value\": 1718192.526212, \"variable\": \"bdv_bean\"}, {\"timestamp\": \"2022-09-16T00:00:00\", \"value\": 40652084.951309, \"variable\": \"bdv_total\"}, {\"timestamp\": \"2022-09-17T00:00:00\", \"value\": 1718372.868038, \"variable\": \"bdv_bean\"}, {\"timestamp\": \"2022-09-17T00:00:00\", \"value\": 27136070.742089, \"variable\": \"bdv_ur_bean_3crv\"}, {\"timestamp\": \"2022-09-17T00:00:00\", \"value\": 40652972.26472, \"variable\": \"bdv_total\"}, {\"timestamp\": \"2022-09-17T00:00:00\", \"value\": 978223.405491, \"variable\": \"bdv_bean_3crv\"}, {\"timestamp\": \"2022-09-17T00:00:00\", \"value\": 10820305.249102, \"variable\": \"bdv_ur_bean\"}, {\"timestamp\": \"2022-09-18T00:00:00\", \"value\": 40651785.506719, \"variable\": \"bdv_total\"}, {\"timestamp\": \"2022-09-18T00:00:00\", \"value\": 27136635.739098, \"variable\": \"bdv_ur_bean_3crv\"}, {\"timestamp\": \"2022-09-18T00:00:00\", \"value\": 1716428.464194, \"variable\": \"bdv_bean\"}, {\"timestamp\": \"2022-09-18T00:00:00\", \"value\": 10820159.974364, \"variable\": \"bdv_ur_bean\"}, {\"timestamp\": \"2022-09-18T00:00:00\", \"value\": 978561.329063, \"variable\": \"bdv_bean_3crv\"}, {\"timestamp\": \"2022-09-19T00:00:00\", \"value\": 26994992.86755, \"variable\": \"bdv_ur_bean_3crv\"}, {\"timestamp\": \"2022-09-19T00:00:00\", \"value\": 11018433.95265, \"variable\": \"bdv_ur_bean\"}, {\"timestamp\": \"2022-09-19T00:00:00\", \"value\": 586695.696849, \"variable\": \"bdv_bean_3crv\"}, {\"timestamp\": \"2022-09-19T00:00:00\", \"value\": 1644795.925996, \"variable\": \"bdv_bean\"}, {\"timestamp\": \"2022-09-19T00:00:00\", \"value\": 40244918.443045, \"variable\": \"bdv_total\"}, {\"timestamp\": \"2022-09-20T00:00:00\", \"value\": 40239669.026844, \"variable\": \"bdv_total\"}, {\"timestamp\": \"2022-09-20T00:00:00\", \"value\": 1637816.743157, \"variable\": \"bdv_bean\"}, {\"timestamp\": \"2022-09-20T00:00:00\", \"value\": 26876992.74323, \"variable\": \"bdv_ur_bean_3crv\"}, {\"timestamp\": \"2022-09-20T00:00:00\", \"value\": 578337.155602, \"variable\": \"bdv_bean_3crv\"}, {\"timestamp\": \"2022-09-20T00:00:00\", \"value\": 11146522.384855, \"variable\": \"bdv_ur_bean\"}, {\"timestamp\": \"2022-09-21T00:00:00\", \"value\": 11147734.045563, \"variable\": \"bdv_ur_bean\"}, {\"timestamp\": \"2022-09-21T00:00:00\", \"value\": 26877859.931734, \"variable\": \"bdv_ur_bean_3crv\"}, {\"timestamp\": \"2022-09-21T00:00:00\", \"value\": 565935.159843, \"variable\": \"bdv_bean_3crv\"}, {\"timestamp\": \"2022-09-21T00:00:00\", \"value\": 40236651.798708, \"variable\": \"bdv_total\"}, {\"timestamp\": \"2022-09-21T00:00:00\", \"value\": 1645122.661568, \"variable\": \"bdv_bean\"}, {\"timestamp\": \"2022-09-22T00:00:00\", \"value\": 26883876.740635, \"variable\": \"bdv_ur_bean_3crv\"}, {\"timestamp\": \"2022-09-22T00:00:00\", \"value\": 1639819.622571, \"variable\": \"bdv_bean\"}, {\"timestamp\": \"2022-09-22T00:00:00\", \"value\": 565246.881353, \"variable\": \"bdv_bean_3crv\"}, {\"timestamp\": \"2022-09-22T00:00:00\", \"value\": 11150636.693134, \"variable\": \"bdv_ur_bean\"}, {\"timestamp\": \"2022-09-22T00:00:00\", \"value\": 40239579.937693, \"variable\": \"bdv_total\"}, {\"timestamp\": \"2022-09-23T00:00:00\", \"value\": 40240918.258485004, \"variable\": \"bdv_total\"}, {\"timestamp\": \"2022-09-23T00:00:00\", \"value\": 1641321.021213, \"variable\": \"bdv_bean\"}, {\"timestamp\": \"2022-09-23T00:00:00\", \"value\": 26884892.04134, \"variable\": \"bdv_ur_bean_3crv\"}, {\"timestamp\": \"2022-09-23T00:00:00\", \"value\": 11152045.824744, \"variable\": \"bdv_ur_bean\"}, {\"timestamp\": \"2022-09-23T00:00:00\", \"value\": 562659.371188, \"variable\": \"bdv_bean_3crv\"}, {\"timestamp\": \"2022-09-24T00:00:00\", \"value\": 561429.545312, \"variable\": \"bdv_bean_3crv\"}, {\"timestamp\": \"2022-09-24T00:00:00\", \"value\": 1639569.161322, \"variable\": \"bdv_bean\"}, {\"timestamp\": \"2022-09-24T00:00:00\", \"value\": 11150615.933001, \"variable\": \"bdv_ur_bean\"}, {\"timestamp\": \"2022-09-24T00:00:00\", \"value\": 26885663.591763, \"variable\": \"bdv_ur_bean_3crv\"}, {\"timestamp\": \"2022-09-24T00:00:00\", \"value\": 40237278.231398, \"variable\": \"bdv_total\"}, {\"timestamp\": \"2022-09-25T00:00:00\", \"value\": 560431.769231, \"variable\": \"bdv_bean_3crv\"}, {\"timestamp\": \"2022-09-25T00:00:00\", \"value\": 40236695.541751996, \"variable\": \"bdv_total\"}, {\"timestamp\": \"2022-09-25T00:00:00\", \"value\": 1639569.161322, \"variable\": \"bdv_bean\"}, {\"timestamp\": \"2022-09-25T00:00:00\", \"value\": 11152952.936443, \"variable\": \"bdv_ur_bean\"}, {\"timestamp\": \"2022-09-25T00:00:00\", \"value\": 26883741.674756, \"variable\": \"bdv_ur_bean_3crv\"}, {\"timestamp\": \"2022-09-26T00:00:00\", \"value\": 40248226.667543, \"variable\": \"bdv_total\"}, {\"timestamp\": \"2022-09-26T00:00:00\", \"value\": 1639180.91436, \"variable\": \"bdv_bean\"}, {\"timestamp\": \"2022-09-26T00:00:00\", \"value\": 26895658.607365, \"variable\": \"bdv_ur_bean_3crv\"}, {\"timestamp\": \"2022-09-26T00:00:00\", \"value\": 560259.398957, \"variable\": \"bdv_bean_3crv\"}, {\"timestamp\": \"2022-09-26T00:00:00\", \"value\": 11153127.746861, \"variable\": \"bdv_ur_bean\"}, {\"timestamp\": \"2022-09-27T00:00:00\", \"value\": 26896591.761799, \"variable\": \"bdv_ur_bean_3crv\"}, {\"timestamp\": \"2022-09-27T00:00:00\", \"value\": 544194.325156, \"variable\": \"bdv_bean_3crv\"}, {\"timestamp\": \"2022-09-27T00:00:00\", \"value\": 11153129.696953, \"variable\": \"bdv_ur_bean\"}, {\"timestamp\": \"2022-09-27T00:00:00\", \"value\": 1634592.510988, \"variable\": \"bdv_bean\"}, {\"timestamp\": \"2022-09-27T00:00:00\", \"value\": 40228508.294896, \"variable\": \"bdv_total\"}, {\"timestamp\": \"2022-09-28T00:00:00\", \"value\": 11203371.524525, \"variable\": \"bdv_ur_bean\"}, {\"timestamp\": \"2022-09-28T00:00:00\", \"value\": 1632184.190682, \"variable\": \"bdv_bean\"}, {\"timestamp\": \"2022-09-28T00:00:00\", \"value\": 26849264.274623, \"variable\": \"bdv_ur_bean_3crv\"}, {\"timestamp\": \"2022-09-28T00:00:00\", \"value\": 538216.535528, \"variable\": \"bdv_bean_3crv\"}, {\"timestamp\": \"2022-09-28T00:00:00\", \"value\": 40223036.525358, \"variable\": \"bdv_total\"}, {\"timestamp\": \"2022-09-29T00:00:00\", \"value\": 11203526.189489, \"variable\": \"bdv_ur_bean\"}, {\"timestamp\": \"2022-09-29T00:00:00\", \"value\": 40227518.2545, \"variable\": \"bdv_total\"}, {\"timestamp\": \"2022-09-29T00:00:00\", \"value\": 548294.298409, \"variable\": \"bdv_bean_3crv\"}, {\"timestamp\": \"2022-09-29T00:00:00\", \"value\": 1621658.58823, \"variable\": \"bdv_bean\"}, {\"timestamp\": \"2022-09-29T00:00:00\", \"value\": 26854039.178372, \"variable\": \"bdv_ur_bean_3crv\"}, {\"timestamp\": \"2022-09-30T00:00:00\", \"value\": 547968.175765, \"variable\": \"bdv_bean_3crv\"}, {\"timestamp\": \"2022-09-30T00:00:00\", \"value\": 26855000.561785, \"variable\": \"bdv_ur_bean_3crv\"}, {\"timestamp\": \"2022-09-30T00:00:00\", \"value\": 11195423.937177, \"variable\": \"bdv_ur_bean\"}, {\"timestamp\": \"2022-09-30T00:00:00\", \"value\": 1603104.422717, \"variable\": \"bdv_bean\"}, {\"timestamp\": \"2022-09-30T00:00:00\", \"value\": 40201497.097444, \"variable\": \"bdv_total\"}, {\"timestamp\": \"2022-10-01T00:00:00\", \"value\": 1467352.599158, \"variable\": \"bdv_bean\"}, {\"timestamp\": \"2022-10-01T00:00:00\", \"value\": 26854862.951949, \"variable\": \"bdv_ur_bean_3crv\"}, {\"timestamp\": \"2022-10-01T00:00:00\", \"value\": 547012.605321, \"variable\": \"bdv_bean_3crv\"}, {\"timestamp\": \"2022-10-01T00:00:00\", \"value\": 11195460.744677, \"variable\": \"bdv_ur_bean\"}, {\"timestamp\": \"2022-10-01T00:00:00\", \"value\": 40064688.901104994, \"variable\": \"bdv_total\"}, {\"timestamp\": \"2022-10-02T00:00:00\", \"value\": 40070844.369166, \"variable\": \"bdv_total\"}, {\"timestamp\": \"2022-10-02T00:00:00\", \"value\": 1456983.286596, \"variable\": \"bdv_bean\"}, {\"timestamp\": \"2022-10-02T00:00:00\", \"value\": 11195521.080287, \"variable\": \"bdv_ur_bean\"}, {\"timestamp\": \"2022-10-02T00:00:00\", \"value\": 26869482.373801, \"variable\": \"bdv_ur_bean_3crv\"}, {\"timestamp\": \"2022-10-02T00:00:00\", \"value\": 548857.628482, \"variable\": \"bdv_bean_3crv\"}, {\"timestamp\": \"2022-10-03T00:00:00\", \"value\": 39968982.195875004, \"variable\": \"bdv_total\"}, {\"timestamp\": \"2022-10-03T00:00:00\", \"value\": 1454710.933563, \"variable\": \"bdv_bean\"}, {\"timestamp\": \"2022-10-03T00:00:00\", \"value\": 440634.865529, \"variable\": \"bdv_bean_3crv\"}, {\"timestamp\": \"2022-10-03T00:00:00\", \"value\": 11197899.670117, \"variable\": \"bdv_ur_bean\"}, {\"timestamp\": \"2022-10-03T00:00:00\", \"value\": 26875736.726666, \"variable\": \"bdv_ur_bean_3crv\"}, {\"timestamp\": \"2022-10-04T00:00:00\", \"value\": 1444711.434615, \"variable\": \"bdv_bean\"}, {\"timestamp\": \"2022-10-04T00:00:00\", \"value\": 433451.447705, \"variable\": \"bdv_bean_3crv\"}, {\"timestamp\": \"2022-10-04T00:00:00\", \"value\": 39956924.314489, \"variable\": \"bdv_total\"}, {\"timestamp\": \"2022-10-04T00:00:00\", \"value\": 26873808.710026, \"variable\": \"bdv_ur_bean_3crv\"}, {\"timestamp\": \"2022-10-04T00:00:00\", \"value\": 11204952.722143, \"variable\": \"bdv_ur_bean\"}, {\"timestamp\": \"2022-10-05T00:00:00\", \"value\": 432511.555614, \"variable\": \"bdv_bean_3crv\"}, {\"timestamp\": \"2022-10-05T00:00:00\", \"value\": 1439390.018124, \"variable\": \"bdv_bean\"}, {\"timestamp\": \"2022-10-05T00:00:00\", \"value\": 11206806.166491, \"variable\": \"bdv_ur_bean\"}, {\"timestamp\": \"2022-10-05T00:00:00\", \"value\": 39962899.987182, \"variable\": \"bdv_total\"}, {\"timestamp\": \"2022-10-05T00:00:00\", \"value\": 26884192.246953, \"variable\": \"bdv_ur_bean_3crv\"}, {\"timestamp\": \"2022-10-06T00:00:00\", \"value\": 39957257.263578, \"variable\": \"bdv_total\"}, {\"timestamp\": \"2022-10-06T00:00:00\", \"value\": 26884462.993928, \"variable\": \"bdv_ur_bean_3crv\"}, {\"timestamp\": \"2022-10-06T00:00:00\", \"value\": 1437866.029783, \"variable\": \"bdv_bean\"}, {\"timestamp\": \"2022-10-06T00:00:00\", \"value\": 11206840.548418, \"variable\": \"bdv_ur_bean\"}, {\"timestamp\": \"2022-10-06T00:00:00\", \"value\": 428087.691449, \"variable\": \"bdv_bean_3crv\"}, {\"timestamp\": \"2022-10-07T00:00:00\", \"value\": 427684.51106, \"variable\": \"bdv_bean_3crv\"}, {\"timestamp\": \"2022-10-07T00:00:00\", \"value\": 11960744.904798, \"variable\": \"bdv_ur_bean\"}, {\"timestamp\": \"2022-10-07T00:00:00\", \"value\": 40596297.97124, \"variable\": \"bdv_total\"}, {\"timestamp\": \"2022-10-07T00:00:00\", \"value\": 26139551.207813, \"variable\": \"bdv_ur_bean_3crv\"}, {\"timestamp\": \"2022-10-07T00:00:00\", \"value\": 2068317.347569, \"variable\": \"bdv_bean\"}, {\"timestamp\": \"2022-10-08T00:00:00\", \"value\": 40596715.826813, \"variable\": \"bdv_total\"}, {\"timestamp\": \"2022-10-08T00:00:00\", \"value\": 427684.51106, \"variable\": \"bdv_bean_3crv\"}, {\"timestamp\": \"2022-10-08T00:00:00\", \"value\": 11960377.647119, \"variable\": \"bdv_ur_bean\"}, {\"timestamp\": \"2022-10-08T00:00:00\", \"value\": 26140001.258455, \"variable\": \"bdv_ur_bean_3crv\"}, {\"timestamp\": \"2022-10-08T00:00:00\", \"value\": 2068652.410179, \"variable\": \"bdv_bean\"}, {\"timestamp\": \"2022-10-09T00:00:00\", \"value\": 427684.51106, \"variable\": \"bdv_bean_3crv\"}, {\"timestamp\": \"2022-10-09T00:00:00\", \"value\": 11995729.334178, \"variable\": \"bdv_ur_bean\"}, {\"timestamp\": \"2022-10-09T00:00:00\", \"value\": 40597675.319777004, \"variable\": \"bdv_total\"}, {\"timestamp\": \"2022-10-09T00:00:00\", \"value\": 26105571.48144, \"variable\": \"bdv_ur_bean_3crv\"}, {\"timestamp\": \"2022-10-09T00:00:00\", \"value\": 2068689.993099, \"variable\": \"bdv_bean\"}, {\"timestamp\": \"2022-10-10T00:00:00\", \"value\": 40594633.000048, \"variable\": \"bdv_total\"}, {\"timestamp\": \"2022-10-10T00:00:00\", \"value\": 2066074.4745, \"variable\": \"bdv_bean\"}, {\"timestamp\": \"2022-10-10T00:00:00\", \"value\": 26103783.779006, \"variable\": \"bdv_ur_bean_3crv\"}, {\"timestamp\": \"2022-10-10T00:00:00\", \"value\": 427684.51106, \"variable\": \"bdv_bean_3crv\"}, {\"timestamp\": \"2022-10-10T00:00:00\", \"value\": 11997090.235482, \"variable\": \"bdv_ur_bean\"}, {\"timestamp\": \"2022-10-11T00:00:00\", \"value\": 420995.973557, \"variable\": \"bdv_bean_3crv\"}, {\"timestamp\": \"2022-10-11T00:00:00\", \"value\": 12065876.169916, \"variable\": \"bdv_ur_bean\"}, {\"timestamp\": \"2022-10-11T00:00:00\", \"value\": 26035055.999725, \"variable\": \"bdv_ur_bean_3crv\"}, {\"timestamp\": \"2022-10-11T00:00:00\", \"value\": 2073798.182858, \"variable\": \"bdv_bean\"}, {\"timestamp\": \"2022-10-11T00:00:00\", \"value\": 40595726.326055996, \"variable\": \"bdv_total\"}, {\"timestamp\": \"2022-10-12T00:00:00\", \"value\": 40607112.783098996, \"variable\": \"bdv_total\"}, {\"timestamp\": \"2022-10-12T00:00:00\", \"value\": 26035284.337968, \"variable\": \"bdv_ur_bean_3crv\"}, {\"timestamp\": \"2022-10-12T00:00:00\", \"value\": 431419.560714, \"variable\": \"bdv_bean_3crv\"}, {\"timestamp\": \"2022-10-12T00:00:00\", \"value\": 2074452.783623, \"variable\": \"bdv_bean\"}, {\"timestamp\": \"2022-10-12T00:00:00\", \"value\": 12065956.100794, \"variable\": \"bdv_ur_bean\"}, {\"timestamp\": \"2022-10-13T00:00:00\", \"value\": 26029754.052537, \"variable\": \"bdv_ur_bean_3crv\"}, {\"timestamp\": \"2022-10-13T00:00:00\", \"value\": 2074809.293388, \"variable\": \"bdv_bean\"}, {\"timestamp\": \"2022-10-13T00:00:00\", \"value\": 431419.560714, \"variable\": \"bdv_bean_3crv\"}, {\"timestamp\": \"2022-10-13T00:00:00\", \"value\": 40607469.292864, \"variable\": \"bdv_total\"}, {\"timestamp\": \"2022-10-13T00:00:00\", \"value\": 12071486.386225, \"variable\": \"bdv_ur_bean\"}, {\"timestamp\": \"2022-10-14T00:00:00\", \"value\": 12102446.115516, \"variable\": \"bdv_ur_bean\"}, {\"timestamp\": \"2022-10-14T00:00:00\", \"value\": 432189.031293, \"variable\": \"bdv_bean_3crv\"}, {\"timestamp\": \"2022-10-14T00:00:00\", \"value\": 2068118.519622, \"variable\": \"bdv_bean\"}, {\"timestamp\": \"2022-10-14T00:00:00\", \"value\": 26000550.134157, \"variable\": \"bdv_ur_bean_3crv\"}, {\"timestamp\": \"2022-10-14T00:00:00\", \"value\": 40603303.800588, \"variable\": \"bdv_total\"}, {\"timestamp\": \"2022-10-15T00:00:00\", \"value\": 40604958.092815004, \"variable\": \"bdv_total\"}, {\"timestamp\": \"2022-10-15T00:00:00\", \"value\": 25979940.759138, \"variable\": \"bdv_ur_bean_3crv\"}, {\"timestamp\": \"2022-10-15T00:00:00\", \"value\": 432221.978743, \"variable\": \"bdv_bean_3crv\"}, {\"timestamp\": \"2022-10-15T00:00:00\", \"value\": 12123009.101058, \"variable\": \"bdv_ur_bean\"}, {\"timestamp\": \"2022-10-15T00:00:00\", \"value\": 2069786.253876, \"variable\": \"bdv_bean\"}, {\"timestamp\": \"2022-10-16T00:00:00\", \"value\": 2045960.566035, \"variable\": \"bdv_bean\"}, {\"timestamp\": \"2022-10-16T00:00:00\", \"value\": 432356.9656, \"variable\": \"bdv_bean_3crv\"}, {\"timestamp\": \"2022-10-16T00:00:00\", \"value\": 40566869.854084, \"variable\": \"bdv_total\"}, {\"timestamp\": \"2022-10-16T00:00:00\", \"value\": 12123135.777302, \"variable\": \"bdv_ur_bean\"}, {\"timestamp\": \"2022-10-16T00:00:00\", \"value\": 25965416.545147, \"variable\": \"bdv_ur_bean_3crv\"}, {\"timestamp\": \"2022-10-17T00:00:00\", \"value\": 25884087.242453, \"variable\": \"bdv_ur_bean_3crv\"}, {\"timestamp\": \"2022-10-17T00:00:00\", \"value\": 432858.86311, \"variable\": \"bdv_bean_3crv\"}, {\"timestamp\": \"2022-10-17T00:00:00\", \"value\": 12209020.360492, \"variable\": \"bdv_ur_bean\"}, {\"timestamp\": \"2022-10-17T00:00:00\", \"value\": 40562429.825593, \"variable\": \"bdv_total\"}, {\"timestamp\": \"2022-10-17T00:00:00\", \"value\": 2036463.359538, \"variable\": \"bdv_bean\"}, {\"timestamp\": \"2022-10-18T00:00:00\", \"value\": 25885030.733377, \"variable\": \"bdv_ur_bean_3crv\"}, {\"timestamp\": \"2022-10-18T00:00:00\", \"value\": 12208561.588147, \"variable\": \"bdv_ur_bean\"}, {\"timestamp\": \"2022-10-18T00:00:00\", \"value\": 432459.686598, \"variable\": \"bdv_bean_3crv\"}, {\"timestamp\": \"2022-10-18T00:00:00\", \"value\": 2034049.136847, \"variable\": \"bdv_bean\"}, {\"timestamp\": \"2022-10-18T00:00:00\", \"value\": 40560101.144969, \"variable\": \"bdv_total\"}, {\"timestamp\": \"2022-10-19T00:00:00\", \"value\": 40561662.347027, \"variable\": \"bdv_total\"}, {\"timestamp\": \"2022-10-19T00:00:00\", \"value\": 2033916.559479, \"variable\": \"bdv_bean\"}, {\"timestamp\": \"2022-10-19T00:00:00\", \"value\": 432164.049149, \"variable\": \"bdv_bean_3crv\"}, {\"timestamp\": \"2022-10-19T00:00:00\", \"value\": 12219235.956456, \"variable\": \"bdv_ur_bean\"}, {\"timestamp\": \"2022-10-19T00:00:00\", \"value\": 25876345.781943, \"variable\": \"bdv_ur_bean_3crv\"}, {\"timestamp\": \"2022-10-20T00:00:00\", \"value\": 12258688.119723, \"variable\": \"bdv_ur_bean\"}, {\"timestamp\": \"2022-10-20T00:00:00\", \"value\": 432099.431961, \"variable\": \"bdv_bean_3crv\"}, {\"timestamp\": \"2022-10-20T00:00:00\", \"value\": 25837157.330431, \"variable\": \"bdv_ur_bean_3crv\"}, {\"timestamp\": \"2022-10-20T00:00:00\", \"value\": 40563445.743447, \"variable\": \"bdv_total\"}, {\"timestamp\": \"2022-10-20T00:00:00\", \"value\": 2035500.861332, \"variable\": \"bdv_bean\"}, {\"timestamp\": \"2022-10-21T00:00:00\", \"value\": 40582004.515139, \"variable\": \"bdv_total\"}, {\"timestamp\": \"2022-10-21T00:00:00\", \"value\": 2053018.080383, \"variable\": \"bdv_bean\"}, {\"timestamp\": \"2022-10-21T00:00:00\", \"value\": 433100.222813, \"variable\": \"bdv_bean_3crv\"}, {\"timestamp\": \"2022-10-21T00:00:00\", \"value\": 12258081.208353, \"variable\": \"bdv_ur_bean\"}, {\"timestamp\": \"2022-10-21T00:00:00\", \"value\": 25837805.00359, \"variable\": \"bdv_ur_bean_3crv\"}, {\"timestamp\": \"2022-10-22T00:00:00\", \"value\": 2054831.061525, \"variable\": \"bdv_bean\"}, {\"timestamp\": \"2022-10-22T00:00:00\", \"value\": 12265873.706651, \"variable\": \"bdv_ur_bean\"}, {\"timestamp\": \"2022-10-22T00:00:00\", \"value\": 40577142.304378, \"variable\": \"bdv_total\"}, {\"timestamp\": \"2022-10-22T00:00:00\", \"value\": 426346.095697, \"variable\": \"bdv_bean_3crv\"}, {\"timestamp\": \"2022-10-22T00:00:00\", \"value\": 25830091.440505, \"variable\": \"bdv_ur_bean_3crv\"}, {\"timestamp\": \"2022-10-23T00:00:00\", \"value\": 40577590.061938, \"variable\": \"bdv_total\"}, {\"timestamp\": \"2022-10-23T00:00:00\", \"value\": 12292856.689526, \"variable\": \"bdv_ur_bean\"}, {\"timestamp\": \"2022-10-23T00:00:00\", \"value\": 25803220.767381, \"variable\": \"bdv_ur_bean_3crv\"}, {\"timestamp\": \"2022-10-23T00:00:00\", \"value\": 426707.367374, \"variable\": \"bdv_bean_3crv\"}, {\"timestamp\": \"2022-10-23T00:00:00\", \"value\": 2054805.237657, \"variable\": \"bdv_bean\"}, {\"timestamp\": \"2022-10-24T00:00:00\", \"value\": 2052562.46066, \"variable\": \"bdv_bean\"}, {\"timestamp\": \"2022-10-24T00:00:00\", \"value\": 25808988.880628, \"variable\": \"bdv_ur_bean_3crv\"}, {\"timestamp\": \"2022-10-24T00:00:00\", \"value\": 40579423.545079, \"variable\": \"bdv_total\"}, {\"timestamp\": \"2022-10-24T00:00:00\", \"value\": 12287374.448539, \"variable\": \"bdv_ur_bean\"}, {\"timestamp\": \"2022-10-24T00:00:00\", \"value\": 430497.755252, \"variable\": \"bdv_bean_3crv\"}, {\"timestamp\": \"2022-10-25T00:00:00\", \"value\": 433651.727737, \"variable\": \"bdv_bean_3crv\"}, {\"timestamp\": \"2022-10-25T00:00:00\", \"value\": 12286509.764001, \"variable\": \"bdv_ur_bean\"}, {\"timestamp\": \"2022-10-25T00:00:00\", \"value\": 2058548.183769, \"variable\": \"bdv_bean\"}, {\"timestamp\": \"2022-10-25T00:00:00\", \"value\": 40599436.686119996, \"variable\": \"bdv_total\"}, {\"timestamp\": \"2022-10-25T00:00:00\", \"value\": 25820727.010613, \"variable\": \"bdv_ur_bean_3crv\"}, {\"timestamp\": \"2022-10-26T00:00:00\", \"value\": 40618689.94525801, \"variable\": \"bdv_total\"}, {\"timestamp\": \"2022-10-26T00:00:00\", \"value\": 12271427.506805, \"variable\": \"bdv_ur_bean\"}, {\"timestamp\": \"2022-10-26T00:00:00\", \"value\": 2068295.378555, \"variable\": \"bdv_bean\"}, {\"timestamp\": \"2022-10-26T00:00:00\", \"value\": 442856.402266, \"variable\": \"bdv_bean_3crv\"}, {\"timestamp\": \"2022-10-26T00:00:00\", \"value\": 25836110.657632, \"variable\": \"bdv_ur_bean_3crv\"}, {\"timestamp\": \"2022-10-27T00:00:00\", \"value\": 40636275.384033, \"variable\": \"bdv_total\"}, {\"timestamp\": \"2022-10-27T00:00:00\", \"value\": 444517.04381, \"variable\": \"bdv_bean_3crv\"}, {\"timestamp\": \"2022-10-27T00:00:00\", \"value\": 12315300.380665, \"variable\": \"bdv_ur_bean\"}, {\"timestamp\": \"2022-10-27T00:00:00\", \"value\": 2076434.643161, \"variable\": \"bdv_bean\"}, {\"timestamp\": \"2022-10-27T00:00:00\", \"value\": 25800023.316397, \"variable\": \"bdv_ur_bean_3crv\"}, {\"timestamp\": \"2022-10-28T00:00:00\", \"value\": 12317666.9719, \"variable\": \"bdv_ur_bean\"}, {\"timestamp\": \"2022-10-28T00:00:00\", \"value\": 40699017.957629, \"variable\": \"bdv_total\"}, {\"timestamp\": \"2022-10-28T00:00:00\", \"value\": 25849774.898543, \"variable\": \"bdv_ur_bean_3crv\"}, {\"timestamp\": \"2022-10-28T00:00:00\", \"value\": 446207.51672, \"variable\": \"bdv_bean_3crv\"}, {\"timestamp\": \"2022-10-28T00:00:00\", \"value\": 2085368.570466, \"variable\": \"bdv_bean\"}, {\"timestamp\": \"2022-10-29T00:00:00\", \"value\": 40755099.897229, \"variable\": \"bdv_total\"}, {\"timestamp\": \"2022-10-29T00:00:00\", \"value\": 12403895.933897, \"variable\": \"bdv_ur_bean\"}, {\"timestamp\": \"2022-10-29T00:00:00\", \"value\": 25763773.383214, \"variable\": \"bdv_ur_bean_3crv\"}, {\"timestamp\": \"2022-10-29T00:00:00\", \"value\": 2112174.383756, \"variable\": \"bdv_bean\"}, {\"timestamp\": \"2022-10-29T00:00:00\", \"value\": 475256.196362, \"variable\": \"bdv_bean_3crv\"}, {\"timestamp\": \"2022-10-30T00:00:00\", \"value\": 12391059.430634, \"variable\": \"bdv_ur_bean\"}, {\"timestamp\": \"2022-10-30T00:00:00\", \"value\": 477341.475735, \"variable\": \"bdv_bean_3crv\"}, {\"timestamp\": \"2022-10-30T00:00:00\", \"value\": 25801520.710585, \"variable\": \"bdv_ur_bean_3crv\"}, {\"timestamp\": \"2022-10-30T00:00:00\", \"value\": 2123178.040287, \"variable\": \"bdv_bean\"}, {\"timestamp\": \"2022-10-30T00:00:00\", \"value\": 40793099.657241, \"variable\": \"bdv_total\"}, {\"timestamp\": \"2022-10-31T00:00:00\", \"value\": 40790747.178227, \"variable\": \"bdv_total\"}, {\"timestamp\": \"2022-10-31T00:00:00\", \"value\": 478768.048177, \"variable\": \"bdv_bean_3crv\"}, {\"timestamp\": \"2022-10-31T00:00:00\", \"value\": 25707726.982806, \"variable\": \"bdv_ur_bean_3crv\"}, {\"timestamp\": \"2022-10-31T00:00:00\", \"value\": 12489638.256806, \"variable\": \"bdv_ur_bean\"}, {\"timestamp\": \"2022-10-31T00:00:00\", \"value\": 2114613.890438, \"variable\": \"bdv_bean\"}, {\"timestamp\": \"2022-11-01T00:00:00\", \"value\": 2137146.99016, \"variable\": \"bdv_bean\"}, {\"timestamp\": \"2022-11-01T00:00:00\", \"value\": 12501799.469241, \"variable\": \"bdv_ur_bean\"}, {\"timestamp\": \"2022-11-01T00:00:00\", \"value\": 25678065.385471, \"variable\": \"bdv_ur_bean_3crv\"}, {\"timestamp\": \"2022-11-01T00:00:00\", \"value\": 40811749.87212, \"variable\": \"bdv_total\"}, {\"timestamp\": \"2022-11-01T00:00:00\", \"value\": 494738.027248, \"variable\": \"bdv_bean_3crv\"}, {\"timestamp\": \"2022-11-02T00:00:00\", \"value\": 40851143.987682, \"variable\": \"bdv_total\"}, {\"timestamp\": \"2022-11-02T00:00:00\", \"value\": 531198.016448, \"variable\": \"bdv_bean_3crv\"}, {\"timestamp\": \"2022-11-02T00:00:00\", \"value\": 12542588.557877, \"variable\": \"bdv_ur_bean\"}, {\"timestamp\": \"2022-11-02T00:00:00\", \"value\": 25641808.033356, \"variable\": \"bdv_ur_bean_3crv\"}, {\"timestamp\": \"2022-11-02T00:00:00\", \"value\": 2135549.380001, \"variable\": \"bdv_bean\"}, {\"timestamp\": \"2022-11-03T00:00:00\", \"value\": 2139336.39416, \"variable\": \"bdv_bean\"}, {\"timestamp\": \"2022-11-03T00:00:00\", \"value\": 12597495.254933, \"variable\": \"bdv_ur_bean\"}, {\"timestamp\": \"2022-11-03T00:00:00\", \"value\": 25588749.19793, \"variable\": \"bdv_ur_bean_3crv\"}, {\"timestamp\": \"2022-11-03T00:00:00\", \"value\": 534455.260064, \"variable\": \"bdv_bean_3crv\"}, {\"timestamp\": \"2022-11-03T00:00:00\", \"value\": 40860036.107087, \"variable\": \"bdv_total\"}, {\"timestamp\": \"2022-11-04T00:00:00\", \"value\": 40994579.407563, \"variable\": \"bdv_total\"}, {\"timestamp\": \"2022-11-04T00:00:00\", \"value\": 25638176.48636, \"variable\": \"bdv_ur_bean_3crv\"}, {\"timestamp\": \"2022-11-04T00:00:00\", \"value\": 12594664.536726, \"variable\": \"bdv_ur_bean\"}, {\"timestamp\": \"2022-11-04T00:00:00\", \"value\": 2151352.483797, \"variable\": \"bdv_bean\"}, {\"timestamp\": \"2022-11-04T00:00:00\", \"value\": 610385.90068, \"variable\": \"bdv_bean_3crv\"}, {\"timestamp\": \"2022-11-05T00:00:00\", \"value\": 41030435.955276, \"variable\": \"bdv_total\"}, {\"timestamp\": \"2022-11-05T00:00:00\", \"value\": 575618.740681, \"variable\": \"bdv_bean_3crv\"}, {\"timestamp\": \"2022-11-05T00:00:00\", \"value\": 12642828.789454, \"variable\": \"bdv_ur_bean\"}, {\"timestamp\": \"2022-11-05T00:00:00\", \"value\": 25591541.443193, \"variable\": \"bdv_ur_bean_3crv\"}, {\"timestamp\": \"2022-11-05T00:00:00\", \"value\": 2220446.981948, \"variable\": \"bdv_bean\"}, {\"timestamp\": \"2022-11-06T00:00:00\", \"value\": 2268524.37042, \"variable\": \"bdv_bean\"}, {\"timestamp\": \"2022-11-06T00:00:00\", \"value\": 12665834.039245, \"variable\": \"bdv_ur_bean\"}, {\"timestamp\": \"2022-11-06T00:00:00\", \"value\": 25570139.088915, \"variable\": \"bdv_ur_bean_3crv\"}, {\"timestamp\": \"2022-11-06T00:00:00\", \"value\": 578468.513865, \"variable\": \"bdv_bean_3crv\"}, {\"timestamp\": \"2022-11-06T00:00:00\", \"value\": 41082966.012445, \"variable\": \"bdv_total\"}, {\"timestamp\": \"2022-11-07T00:00:00\", \"value\": 12666308.568976, \"variable\": \"bdv_ur_bean\"}, {\"timestamp\": \"2022-11-07T00:00:00\", \"value\": 581381.9226, \"variable\": \"bdv_bean_3crv\"}, {\"timestamp\": \"2022-11-07T00:00:00\", \"value\": 2300263.63048, \"variable\": \"bdv_bean\"}, {\"timestamp\": \"2022-11-07T00:00:00\", \"value\": 25574815.556362, \"variable\": \"bdv_ur_bean_3crv\"}, {\"timestamp\": \"2022-11-07T00:00:00\", \"value\": 41122769.678417996, \"variable\": \"bdv_total\"}, {\"timestamp\": \"2022-11-08T00:00:00\", \"value\": 25528048.472961, \"variable\": \"bdv_ur_bean_3crv\"}, {\"timestamp\": \"2022-11-08T00:00:00\", \"value\": 2292708.819588, \"variable\": \"bdv_bean\"}, {\"timestamp\": \"2022-11-08T00:00:00\", \"value\": 12704273.463759, \"variable\": \"bdv_ur_bean\"}, {\"timestamp\": \"2022-11-08T00:00:00\", \"value\": 585271.876448, \"variable\": \"bdv_bean_3crv\"}, {\"timestamp\": \"2022-11-08T00:00:00\", \"value\": 41110302.632756, \"variable\": \"bdv_total\"}, {\"timestamp\": \"2022-11-09T00:00:00\", \"value\": 41082603.179636, \"variable\": \"bdv_total\"}, {\"timestamp\": \"2022-11-09T00:00:00\", \"value\": 12693125.333749, \"variable\": \"bdv_ur_bean\"}, {\"timestamp\": \"2022-11-09T00:00:00\", \"value\": 580426.399342, \"variable\": \"bdv_bean_3crv\"}, {\"timestamp\": \"2022-11-09T00:00:00\", \"value\": 2268561.644176, \"variable\": \"bdv_bean\"}, {\"timestamp\": \"2022-11-09T00:00:00\", \"value\": 25540489.802369, \"variable\": \"bdv_ur_bean_3crv\"}, {\"timestamp\": \"2022-11-10T00:00:00\", \"value\": 2253924.892823, \"variable\": \"bdv_bean\"}, {\"timestamp\": \"2022-11-10T00:00:00\", \"value\": 41109000.054579, \"variable\": \"bdv_total\"}, {\"timestamp\": \"2022-11-10T00:00:00\", \"value\": 581980.794778, \"variable\": \"bdv_bean_3crv\"}, {\"timestamp\": \"2022-11-10T00:00:00\", \"value\": 12809971.624526, \"variable\": \"bdv_ur_bean\"}, {\"timestamp\": \"2022-11-10T00:00:00\", \"value\": 25463122.742452, \"variable\": \"bdv_ur_bean_3crv\"}, {\"timestamp\": \"2022-11-11T00:00:00\", \"value\": 41202292.590216, \"variable\": \"bdv_total\"}, {\"timestamp\": \"2022-11-11T00:00:00\", \"value\": 2331744.401572, \"variable\": \"bdv_bean\"}, {\"timestamp\": \"2022-11-11T00:00:00\", \"value\": 12857158.811491, \"variable\": \"bdv_ur_bean\"}, {\"timestamp\": \"2022-11-11T00:00:00\", \"value\": 25439754.148957, \"variable\": \"bdv_ur_bean_3crv\"}, {\"timestamp\": \"2022-11-11T00:00:00\", \"value\": 573635.228196, \"variable\": \"bdv_bean_3crv\"}, {\"timestamp\": \"2022-11-12T00:00:00\", \"value\": 573140.848731, \"variable\": \"bdv_bean_3crv\"}, {\"timestamp\": \"2022-11-12T00:00:00\", \"value\": 12944403.400524, \"variable\": \"bdv_ur_bean\"}, {\"timestamp\": \"2022-11-12T00:00:00\", \"value\": 25357882.046145, \"variable\": \"bdv_ur_bean_3crv\"}, {\"timestamp\": \"2022-11-12T00:00:00\", \"value\": 41190793.500981, \"variable\": \"bdv_total\"}, {\"timestamp\": \"2022-11-12T00:00:00\", \"value\": 2315367.205581, \"variable\": \"bdv_bean\"}, {\"timestamp\": \"2022-11-13T00:00:00\", \"value\": 41221383.25826, \"variable\": \"bdv_total\"}, {\"timestamp\": \"2022-11-13T00:00:00\", \"value\": 573922.651287, \"variable\": \"bdv_bean_3crv\"}, {\"timestamp\": \"2022-11-13T00:00:00\", \"value\": 12964726.424026, \"variable\": \"bdv_ur_bean\"}, {\"timestamp\": \"2022-11-13T00:00:00\", \"value\": 25337591.168128, \"variable\": \"bdv_ur_bean_3crv\"}, {\"timestamp\": \"2022-11-13T00:00:00\", \"value\": 2345143.014819, \"variable\": \"bdv_bean\"}, {\"timestamp\": \"2022-11-14T00:00:00\", \"value\": 12985991.673719, \"variable\": \"bdv_ur_bean\"}, {\"timestamp\": \"2022-11-14T00:00:00\", \"value\": 576349.417626, \"variable\": \"bdv_bean_3crv\"}, {\"timestamp\": \"2022-11-14T00:00:00\", \"value\": 2343522.205253, \"variable\": \"bdv_bean\"}, {\"timestamp\": \"2022-11-14T00:00:00\", \"value\": 41224315.748781, \"variable\": \"bdv_total\"}, {\"timestamp\": \"2022-11-14T00:00:00\", \"value\": 25318452.452183, \"variable\": \"bdv_ur_bean_3crv\"}, {\"timestamp\": \"2022-11-15T00:00:00\", \"value\": 41213745.679433, \"variable\": \"bdv_total\"}, {\"timestamp\": \"2022-11-15T00:00:00\", \"value\": 25268667.40109, \"variable\": \"bdv_ur_bean_3crv\"}, {\"timestamp\": \"2022-11-15T00:00:00\", \"value\": 13042383.362863, \"variable\": \"bdv_ur_bean\"}, {\"timestamp\": \"2022-11-15T00:00:00\", \"value\": 578140.146526, \"variable\": \"bdv_bean_3crv\"}, {\"timestamp\": \"2022-11-15T00:00:00\", \"value\": 2324554.768954, \"variable\": \"bdv_bean\"}, {\"timestamp\": \"2022-11-16T00:00:00\", \"value\": 2393433.879702, \"variable\": \"bdv_bean\"}, {\"timestamp\": \"2022-11-16T00:00:00\", \"value\": 25239336.239618, \"variable\": \"bdv_ur_bean_3crv\"}, {\"timestamp\": \"2022-11-16T00:00:00\", \"value\": 575916.008854, \"variable\": \"bdv_bean_3crv\"}, {\"timestamp\": \"2022-11-16T00:00:00\", \"value\": 41280876.132736, \"variable\": \"bdv_total\"}, {\"timestamp\": \"2022-11-16T00:00:00\", \"value\": 13072190.004562, \"variable\": \"bdv_ur_bean\"}, {\"timestamp\": \"2022-11-17T00:00:00\", \"value\": 576811.977625, \"variable\": \"bdv_bean_3crv\"}, {\"timestamp\": \"2022-11-17T00:00:00\", \"value\": 13131564.796912, \"variable\": \"bdv_ur_bean\"}, {\"timestamp\": \"2022-11-17T00:00:00\", \"value\": 2387642.573144, \"variable\": \"bdv_bean\"}, {\"timestamp\": \"2022-11-17T00:00:00\", \"value\": 41279948.332067, \"variable\": \"bdv_total\"}, {\"timestamp\": \"2022-11-17T00:00:00\", \"value\": 25183928.984386, \"variable\": \"bdv_ur_bean_3crv\"}, {\"timestamp\": \"2022-11-18T00:00:00\", \"value\": 41291508.647096, \"variable\": \"bdv_total\"}, {\"timestamp\": \"2022-11-18T00:00:00\", \"value\": 2395880.70783, \"variable\": \"bdv_bean\"}, {\"timestamp\": \"2022-11-18T00:00:00\", \"value\": 25184566.763851, \"variable\": \"bdv_ur_bean_3crv\"}, {\"timestamp\": \"2022-11-18T00:00:00\", \"value\": 579839.031829, \"variable\": \"bdv_bean_3crv\"}, {\"timestamp\": \"2022-11-18T00:00:00\", \"value\": 13131222.143586, \"variable\": \"bdv_ur_bean\"}, {\"timestamp\": \"2022-11-19T00:00:00\", \"value\": 41289036.018174, \"variable\": \"bdv_total\"}, {\"timestamp\": \"2022-11-19T00:00:00\", \"value\": 574314.453079, \"variable\": \"bdv_bean_3crv\"}, {\"timestamp\": \"2022-11-19T00:00:00\", \"value\": 13152806.352467, \"variable\": \"bdv_ur_bean\"}, {\"timestamp\": \"2022-11-19T00:00:00\", \"value\": 25171158.087364, \"variable\": \"bdv_ur_bean_3crv\"}, {\"timestamp\": \"2022-11-19T00:00:00\", \"value\": 2390757.125264, \"variable\": \"bdv_bean\"}, {\"timestamp\": \"2022-11-20T00:00:00\", \"value\": 2394209.359685, \"variable\": \"bdv_bean\"}, {\"timestamp\": \"2022-11-20T00:00:00\", \"value\": 13185307.353281, \"variable\": \"bdv_ur_bean\"}, {\"timestamp\": \"2022-11-20T00:00:00\", \"value\": 41294271.124893, \"variable\": \"bdv_total\"}, {\"timestamp\": \"2022-11-20T00:00:00\", \"value\": 575597.234277, \"variable\": \"bdv_bean_3crv\"}, {\"timestamp\": \"2022-11-20T00:00:00\", \"value\": 25139157.17765, \"variable\": \"bdv_ur_bean_3crv\"}, {\"timestamp\": \"2022-11-21T00:00:00\", \"value\": 575730.858253, \"variable\": \"bdv_bean_3crv\"}, {\"timestamp\": \"2022-11-21T00:00:00\", \"value\": 41254446.857903, \"variable\": \"bdv_total\"}, {\"timestamp\": \"2022-11-21T00:00:00\", \"value\": 25140010.839075, \"variable\": \"bdv_ur_bean_3crv\"}, {\"timestamp\": \"2022-11-21T00:00:00\", \"value\": 2390769.59396, \"variable\": \"bdv_bean\"}, {\"timestamp\": \"2022-11-21T00:00:00\", \"value\": 13147935.566615, \"variable\": \"bdv_ur_bean\"}, {\"timestamp\": \"2022-11-22T00:00:00\", \"value\": 576269.468048, \"variable\": \"bdv_bean_3crv\"}, {\"timestamp\": \"2022-11-22T00:00:00\", \"value\": 2382989.46726, \"variable\": \"bdv_bean\"}, {\"timestamp\": \"2022-11-22T00:00:00\", \"value\": 13147948.554972, \"variable\": \"bdv_ur_bean\"}, {\"timestamp\": \"2022-11-22T00:00:00\", \"value\": 25140059.042975, \"variable\": \"bdv_ur_bean_3crv\"}, {\"timestamp\": \"2022-11-22T00:00:00\", \"value\": 41247266.533255, \"variable\": \"bdv_total\"}, {\"timestamp\": \"2022-11-23T00:00:00\", \"value\": 41184336.878941, \"variable\": \"bdv_total\"}, {\"timestamp\": \"2022-11-23T00:00:00\", \"value\": 25140574.392193, \"variable\": \"bdv_ur_bean_3crv\"}, {\"timestamp\": \"2022-11-23T00:00:00\", \"value\": 13148137.239816, \"variable\": \"bdv_ur_bean\"}, {\"timestamp\": \"2022-11-23T00:00:00\", \"value\": 570277.880608, \"variable\": \"bdv_bean_3crv\"}, {\"timestamp\": \"2022-11-23T00:00:00\", \"value\": 2325347.366324, \"variable\": \"bdv_bean\"}, {\"timestamp\": \"2022-11-24T00:00:00\", \"value\": 568982.086288, \"variable\": \"bdv_bean_3crv\"}, {\"timestamp\": \"2022-11-24T00:00:00\", \"value\": 13148566.976236, \"variable\": \"bdv_ur_bean\"}, {\"timestamp\": \"2022-11-24T00:00:00\", \"value\": 25141048.698351, \"variable\": \"bdv_ur_bean_3crv\"}, {\"timestamp\": \"2022-11-24T00:00:00\", \"value\": 2310846.312011, \"variable\": \"bdv_bean\"}, {\"timestamp\": \"2022-11-24T00:00:00\", \"value\": 41169444.072886, \"variable\": \"bdv_total\"}, {\"timestamp\": \"2022-11-25T00:00:00\", \"value\": 2311053.074274, \"variable\": \"bdv_bean\"}, {\"timestamp\": \"2022-11-25T00:00:00\", \"value\": 41170382.98547, \"variable\": \"bdv_total\"}, {\"timestamp\": \"2022-11-25T00:00:00\", \"value\": 568887.648274, \"variable\": \"bdv_bean_3crv\"}, {\"timestamp\": \"2022-11-25T00:00:00\", \"value\": 13148575.888544, \"variable\": \"bdv_ur_bean\"}, {\"timestamp\": \"2022-11-25T00:00:00\", \"value\": 25141866.374378, \"variable\": \"bdv_ur_bean_3crv\"}, {\"timestamp\": \"2022-11-26T00:00:00\", \"value\": 41161551.506204, \"variable\": \"bdv_total\"}, {\"timestamp\": \"2022-11-26T00:00:00\", \"value\": 2308943.423334, \"variable\": \"bdv_bean\"}, {\"timestamp\": \"2022-11-26T00:00:00\", \"value\": 561555.516549, \"variable\": \"bdv_bean_3crv\"}, {\"timestamp\": \"2022-11-26T00:00:00\", \"value\": 25120203.677213, \"variable\": \"bdv_ur_bean_3crv\"}, {\"timestamp\": \"2022-11-26T00:00:00\", \"value\": 13170848.889108, \"variable\": \"bdv_ur_bean\"}, {\"timestamp\": \"2022-11-27T00:00:00\", \"value\": 41126993.017314, \"variable\": \"bdv_total\"}, {\"timestamp\": \"2022-11-27T00:00:00\", \"value\": 561825.327727, \"variable\": \"bdv_bean_3crv\"}, {\"timestamp\": \"2022-11-27T00:00:00\", \"value\": 13170848.98195, \"variable\": \"bdv_ur_bean\"}, {\"timestamp\": \"2022-11-27T00:00:00\", \"value\": 2273945.606953, \"variable\": \"bdv_bean\"}, {\"timestamp\": \"2022-11-27T00:00:00\", \"value\": 25120373.100684, \"variable\": \"bdv_ur_bean_3crv\"}, {\"timestamp\": \"2022-11-28T00:00:00\", \"value\": 41122204.538187996, \"variable\": \"bdv_total\"}, {\"timestamp\": \"2022-11-28T00:00:00\", \"value\": 559829.230059, \"variable\": \"bdv_bean_3crv\"}, {\"timestamp\": \"2022-11-28T00:00:00\", \"value\": 13191234.760035, \"variable\": \"bdv_ur_bean\"}, {\"timestamp\": \"2022-11-28T00:00:00\", \"value\": 25103548.599211, \"variable\": \"bdv_ur_bean_3crv\"}, {\"timestamp\": \"2022-11-28T00:00:00\", \"value\": 2267591.948883, \"variable\": \"bdv_bean\"}, {\"timestamp\": \"2022-11-29T00:00:00\", \"value\": 532552.633495, \"variable\": \"bdv_bean_3crv\"}, {\"timestamp\": \"2022-11-29T00:00:00\", \"value\": 41105232.339715004, \"variable\": \"bdv_total\"}, {\"timestamp\": \"2022-11-29T00:00:00\", \"value\": 25098492.468538, \"variable\": \"bdv_ur_bean_3crv\"}, {\"timestamp\": \"2022-11-29T00:00:00\", \"value\": 13198870.736583, \"variable\": \"bdv_ur_bean\"}, {\"timestamp\": \"2022-11-29T00:00:00\", \"value\": 2275316.501099, \"variable\": \"bdv_bean\"}, {\"timestamp\": \"2022-11-30T00:00:00\", \"value\": 2253215.636178, \"variable\": \"bdv_bean\"}, {\"timestamp\": \"2022-11-30T00:00:00\", \"value\": 25056530.340405, \"variable\": \"bdv_ur_bean_3crv\"}, {\"timestamp\": \"2022-11-30T00:00:00\", \"value\": 13247682.258975, \"variable\": \"bdv_ur_bean\"}, {\"timestamp\": \"2022-11-30T00:00:00\", \"value\": 531046.067204, \"variable\": \"bdv_bean_3crv\"}, {\"timestamp\": \"2022-11-30T00:00:00\", \"value\": 41088474.302762, \"variable\": \"bdv_total\"}, {\"timestamp\": \"2022-12-01T00:00:00\", \"value\": 41071957.048063, \"variable\": \"bdv_total\"}, {\"timestamp\": \"2022-12-01T00:00:00\", \"value\": 2241432.897607, \"variable\": \"bdv_bean\"}, {\"timestamp\": \"2022-12-01T00:00:00\", \"value\": 524355.747544, \"variable\": \"bdv_bean_3crv\"}, {\"timestamp\": \"2022-12-01T00:00:00\", \"value\": 13304348.105725, \"variable\": \"bdv_ur_bean\"}, {\"timestamp\": \"2022-12-01T00:00:00\", \"value\": 25001820.297187, \"variable\": \"bdv_ur_bean_3crv\"}, {\"timestamp\": \"2022-12-02T00:00:00\", \"value\": 41072480.70059, \"variable\": \"bdv_total\"}, {\"timestamp\": \"2022-12-02T00:00:00\", \"value\": 13304348.817743, \"variable\": \"bdv_ur_bean\"}, {\"timestamp\": \"2022-12-02T00:00:00\", \"value\": 25002922.886191, \"variable\": \"bdv_ur_bean_3crv\"}, {\"timestamp\": \"2022-12-02T00:00:00\", \"value\": 2240853.249112, \"variable\": \"bdv_bean\"}, {\"timestamp\": \"2022-12-02T00:00:00\", \"value\": 524355.747544, \"variable\": \"bdv_bean_3crv\"}, {\"timestamp\": \"2022-12-03T00:00:00\", \"value\": 41073519.590405, \"variable\": \"bdv_total\"}, {\"timestamp\": \"2022-12-03T00:00:00\", \"value\": 13304350.512309, \"variable\": \"bdv_ur_bean\"}, {\"timestamp\": \"2022-12-03T00:00:00\", \"value\": 25003349.22338, \"variable\": \"bdv_ur_bean_3crv\"}, {\"timestamp\": \"2022-12-03T00:00:00\", \"value\": 2241464.107172, \"variable\": \"bdv_bean\"}, {\"timestamp\": \"2022-12-03T00:00:00\", \"value\": 524355.747544, \"variable\": \"bdv_bean_3crv\"}, {\"timestamp\": \"2022-12-04T00:00:00\", \"value\": 41075819.701594, \"variable\": \"bdv_total\"}, {\"timestamp\": \"2022-12-04T00:00:00\", \"value\": 2240207.996019, \"variable\": \"bdv_bean\"}, {\"timestamp\": \"2022-12-04T00:00:00\", \"value\": 25006900.270034, \"variable\": \"bdv_ur_bean_3crv\"}, {\"timestamp\": \"2022-12-04T00:00:00\", \"value\": 524355.747544, \"variable\": \"bdv_bean_3crv\"}, {\"timestamp\": \"2022-12-04T00:00:00\", \"value\": 13304355.687997, \"variable\": \"bdv_ur_bean\"}, {\"timestamp\": \"2022-12-05T00:00:00\", \"value\": 41068769.158536, \"variable\": \"bdv_total\"}, {\"timestamp\": \"2022-12-05T00:00:00\", \"value\": 2249347.567125, \"variable\": \"bdv_bean\"}, {\"timestamp\": \"2022-12-05T00:00:00\", \"value\": 13304515.164767, \"variable\": \"bdv_ur_bean\"}, {\"timestamp\": \"2022-12-05T00:00:00\", \"value\": 503443.385977, \"variable\": \"bdv_bean_3crv\"}, {\"timestamp\": \"2022-12-05T00:00:00\", \"value\": 25011463.040667, \"variable\": \"bdv_ur_bean_3crv\"}, {\"timestamp\": \"2022-12-06T00:00:00\", \"value\": 41074244.42724401, \"variable\": \"bdv_total\"}, {\"timestamp\": \"2022-12-06T00:00:00\", \"value\": 503092.354764, \"variable\": \"bdv_bean_3crv\"}, {\"timestamp\": \"2022-12-06T00:00:00\", \"value\": 2246047.594293, \"variable\": \"bdv_bean\"}, {\"timestamp\": \"2022-12-06T00:00:00\", \"value\": 25019871.446602, \"variable\": \"bdv_ur_bean_3crv\"}, {\"timestamp\": \"2022-12-06T00:00:00\", \"value\": 13305233.031585, \"variable\": \"bdv_ur_bean\"}, {\"timestamp\": \"2022-12-07T00:00:00\", \"value\": 13305239.218158, \"variable\": \"bdv_ur_bean\"}, {\"timestamp\": \"2022-12-07T00:00:00\", \"value\": 492489.95236, \"variable\": \"bdv_bean_3crv\"}, {\"timestamp\": \"2022-12-07T00:00:00\", \"value\": 25018052.931938, \"variable\": \"bdv_ur_bean_3crv\"}, {\"timestamp\": \"2022-12-07T00:00:00\", \"value\": 2255769.273582, \"variable\": \"bdv_bean\"}, {\"timestamp\": \"2022-12-07T00:00:00\", \"value\": 41071551.376038, \"variable\": \"bdv_total\"}, {\"timestamp\": \"2022-12-08T00:00:00\", \"value\": 41071177.388784, \"variable\": \"bdv_total\"}, {\"timestamp\": \"2022-12-08T00:00:00\", \"value\": 13305240.590996, \"variable\": \"bdv_ur_bean\"}, {\"timestamp\": \"2022-12-08T00:00:00\", \"value\": 491989.838369, \"variable\": \"bdv_bean_3crv\"}, {\"timestamp\": \"2022-12-08T00:00:00\", \"value\": 25019026.132601, \"variable\": \"bdv_ur_bean_3crv\"}, {\"timestamp\": \"2022-12-08T00:00:00\", \"value\": 2254920.826818, \"variable\": \"bdv_bean\"}, {\"timestamp\": \"2022-12-09T00:00:00\", \"value\": 2253000.541829, \"variable\": \"bdv_bean\"}, {\"timestamp\": \"2022-12-09T00:00:00\", \"value\": 490944.145538, \"variable\": \"bdv_bean_3crv\"}, {\"timestamp\": \"2022-12-09T00:00:00\", \"value\": 25019499.160922, \"variable\": \"bdv_ur_bean_3crv\"}, {\"timestamp\": \"2022-12-09T00:00:00\", \"value\": 13305532.736595, \"variable\": \"bdv_ur_bean\"}, {\"timestamp\": \"2022-12-09T00:00:00\", \"value\": 41068976.584883995, \"variable\": \"bdv_total\"}, {\"timestamp\": \"2022-12-10T00:00:00\", \"value\": 490944.145538, \"variable\": \"bdv_bean_3crv\"}, {\"timestamp\": \"2022-12-10T00:00:00\", \"value\": 13305562.991243, \"variable\": \"bdv_ur_bean\"}, {\"timestamp\": \"2022-12-10T00:00:00\", \"value\": 2253850.085004, \"variable\": \"bdv_bean\"}, {\"timestamp\": \"2022-12-10T00:00:00\", \"value\": 41072506.762368, \"variable\": \"bdv_total\"}, {\"timestamp\": \"2022-12-10T00:00:00\", \"value\": 25022149.540583, \"variable\": \"bdv_ur_bean_3crv\"}, {\"timestamp\": \"2022-12-11T00:00:00\", \"value\": 13305683.690977, \"variable\": \"bdv_ur_bean\"}, {\"timestamp\": \"2022-12-11T00:00:00\", \"value\": 490944.145538, \"variable\": \"bdv_bean_3crv\"}, {\"timestamp\": \"2022-12-11T00:00:00\", \"value\": 2248192.431776, \"variable\": \"bdv_bean\"}, {\"timestamp\": \"2022-12-11T00:00:00\", \"value\": 25022265.771061, \"variable\": \"bdv_ur_bean_3crv\"}, {\"timestamp\": \"2022-12-11T00:00:00\", \"value\": 41067086.039352, \"variable\": \"bdv_total\"}, {\"timestamp\": \"2022-12-12T00:00:00\", \"value\": 13305841.892687, \"variable\": \"bdv_ur_bean\"}, {\"timestamp\": \"2022-12-12T00:00:00\", \"value\": 2246893.269578, \"variable\": \"bdv_bean\"}, {\"timestamp\": \"2022-12-12T00:00:00\", \"value\": 25023845.740246, \"variable\": \"bdv_ur_bean_3crv\"}, {\"timestamp\": \"2022-12-12T00:00:00\", \"value\": 489367.76498, \"variable\": \"bdv_bean_3crv\"}, {\"timestamp\": \"2022-12-12T00:00:00\", \"value\": 41065948.667491004, \"variable\": \"bdv_total\"}, {\"timestamp\": \"2022-12-13T00:00:00\", \"value\": 2230892.634825, \"variable\": \"bdv_bean\"}, {\"timestamp\": \"2022-12-13T00:00:00\", \"value\": 488567.536267, \"variable\": \"bdv_bean_3crv\"}, {\"timestamp\": \"2022-12-13T00:00:00\", \"value\": 25043260.247822, \"variable\": \"bdv_ur_bean_3crv\"}, {\"timestamp\": \"2022-12-13T00:00:00\", \"value\": 13304397.433459, \"variable\": \"bdv_ur_bean\"}, {\"timestamp\": \"2022-12-13T00:00:00\", \"value\": 41067117.852373004, \"variable\": \"bdv_total\"}, {\"timestamp\": \"2022-12-14T00:00:00\", \"value\": 2212253.871203, \"variable\": \"bdv_bean\"}, {\"timestamp\": \"2022-12-14T00:00:00\", \"value\": 13304409.272667, \"variable\": \"bdv_ur_bean\"}, {\"timestamp\": \"2022-12-14T00:00:00\", \"value\": 488567.536267, \"variable\": \"bdv_bean_3crv\"}, {\"timestamp\": \"2022-12-14T00:00:00\", \"value\": 25043980.246413, \"variable\": \"bdv_ur_bean_3crv\"}, {\"timestamp\": \"2022-12-14T00:00:00\", \"value\": 41049210.92655, \"variable\": \"bdv_total\"}, {\"timestamp\": \"2022-12-15T00:00:00\", \"value\": 41047363.723073, \"variable\": \"bdv_total\"}, {\"timestamp\": \"2022-12-15T00:00:00\", \"value\": 25045020.984987, \"variable\": \"bdv_ur_bean_3crv\"}, {\"timestamp\": \"2022-12-15T00:00:00\", \"value\": 2209926.607172, \"variable\": \"bdv_bean\"}, {\"timestamp\": \"2022-12-15T00:00:00\", \"value\": 13304411.114668, \"variable\": \"bdv_ur_bean\"}, {\"timestamp\": \"2022-12-15T00:00:00\", \"value\": 488005.016246, \"variable\": \"bdv_bean_3crv\"}, {\"timestamp\": \"2022-12-16T00:00:00\", \"value\": 2165844.493275, \"variable\": \"bdv_bean\"}, {\"timestamp\": \"2022-12-16T00:00:00\", \"value\": 40989443.684923, \"variable\": \"bdv_total\"}, {\"timestamp\": \"2022-12-16T00:00:00\", \"value\": 13298055.172114, \"variable\": \"bdv_ur_bean\"}, {\"timestamp\": \"2022-12-16T00:00:00\", \"value\": 25047530.109803, \"variable\": \"bdv_ur_bean_3crv\"}, {\"timestamp\": \"2022-12-16T00:00:00\", \"value\": 478013.909731, \"variable\": \"bdv_bean_3crv\"}, {\"timestamp\": \"2022-12-17T00:00:00\", \"value\": 2165844.493275, \"variable\": \"bdv_bean\"}, {\"timestamp\": \"2022-12-17T00:00:00\", \"value\": 13304807.23309, \"variable\": \"bdv_ur_bean\"}, {\"timestamp\": \"2022-12-17T00:00:00\", \"value\": 454714.353063, \"variable\": \"bdv_bean_3crv\"}, {\"timestamp\": \"2022-12-17T00:00:00\", \"value\": 25051691.739018, \"variable\": \"bdv_ur_bean_3crv\"}, {\"timestamp\": \"2022-12-17T00:00:00\", \"value\": 40977057.818446, \"variable\": \"bdv_total\"}, {\"timestamp\": \"2022-12-18T00:00:00\", \"value\": 2164995.082544, \"variable\": \"bdv_bean\"}, {\"timestamp\": \"2022-12-18T00:00:00\", \"value\": 454714.353063, \"variable\": \"bdv_bean_3crv\"}, {\"timestamp\": \"2022-12-18T00:00:00\", \"value\": 25053468.459021, \"variable\": \"bdv_ur_bean_3crv\"}, {\"timestamp\": \"2022-12-18T00:00:00\", \"value\": 13304344.869047, \"variable\": \"bdv_ur_bean\"}, {\"timestamp\": \"2022-12-18T00:00:00\", \"value\": 40977522.763675, \"variable\": \"bdv_total\"}, {\"timestamp\": \"2022-12-19T00:00:00\", \"value\": 2157788.893974, \"variable\": \"bdv_bean\"}, {\"timestamp\": \"2022-12-19T00:00:00\", \"value\": 13304043.135315, \"variable\": \"bdv_ur_bean\"}, {\"timestamp\": \"2022-12-19T00:00:00\", \"value\": 454837.080465, \"variable\": \"bdv_bean_3crv\"}, {\"timestamp\": \"2022-12-19T00:00:00\", \"value\": 25033248.963754, \"variable\": \"bdv_ur_bean_3crv\"}, {\"timestamp\": \"2022-12-19T00:00:00\", \"value\": 40949918.073507994, \"variable\": \"bdv_total\"}, {\"timestamp\": \"2022-12-20T00:00:00\", \"value\": 2157788.893974, \"variable\": \"bdv_bean\"}, {\"timestamp\": \"2022-12-20T00:00:00\", \"value\": 25034440.375301, \"variable\": \"bdv_ur_bean_3crv\"}, {\"timestamp\": \"2022-12-20T00:00:00\", \"value\": 13304043.135315, \"variable\": \"bdv_ur_bean\"}, {\"timestamp\": \"2022-12-20T00:00:00\", \"value\": 454702.872012, \"variable\": \"bdv_bean_3crv\"}, {\"timestamp\": \"2022-12-20T00:00:00\", \"value\": 40950975.276602, \"variable\": \"bdv_total\"}, {\"timestamp\": \"2022-12-21T00:00:00\", \"value\": 2149634.779517, \"variable\": \"bdv_bean\"}, {\"timestamp\": \"2022-12-21T00:00:00\", \"value\": 40937505.81034, \"variable\": \"bdv_total\"}, {\"timestamp\": \"2022-12-21T00:00:00\", \"value\": 448547.298169, \"variable\": \"bdv_bean_3crv\"}, {\"timestamp\": \"2022-12-21T00:00:00\", \"value\": 13304043.135315, \"variable\": \"bdv_ur_bean\"}, {\"timestamp\": \"2022-12-21T00:00:00\", \"value\": 25035280.597339, \"variable\": \"bdv_ur_bean_3crv\"}, {\"timestamp\": \"2022-12-22T00:00:00\", \"value\": 436531.564596, \"variable\": \"bdv_bean_3crv\"}, {\"timestamp\": \"2022-12-22T00:00:00\", \"value\": 13304045.786122, \"variable\": \"bdv_ur_bean\"}, {\"timestamp\": \"2022-12-22T00:00:00\", \"value\": 2148173.591453, \"variable\": \"bdv_bean\"}, {\"timestamp\": \"2022-12-22T00:00:00\", \"value\": 25036776.023031, \"variable\": \"bdv_ur_bean_3crv\"}, {\"timestamp\": \"2022-12-22T00:00:00\", \"value\": 40925526.965202, \"variable\": \"bdv_total\"}, {\"timestamp\": \"2022-12-23T00:00:00\", \"value\": 2132207.646369, \"variable\": \"bdv_bean\"}, {\"timestamp\": \"2022-12-23T00:00:00\", \"value\": 13305406.29181, \"variable\": \"bdv_ur_bean\"}, {\"timestamp\": \"2022-12-23T00:00:00\", \"value\": 436531.564596, \"variable\": \"bdv_bean_3crv\"}, {\"timestamp\": \"2022-12-23T00:00:00\", \"value\": 25044181.359053, \"variable\": \"bdv_ur_bean_3crv\"}, {\"timestamp\": \"2022-12-23T00:00:00\", \"value\": 40918326.861828, \"variable\": \"bdv_total\"}, {\"timestamp\": \"2022-12-24T00:00:00\", \"value\": 40920494.502169, \"variable\": \"bdv_total\"}, {\"timestamp\": \"2022-12-24T00:00:00\", \"value\": 2132207.646369, \"variable\": \"bdv_bean\"}, {\"timestamp\": \"2022-12-24T00:00:00\", \"value\": 433302.268661, \"variable\": \"bdv_bean_3crv\"}, {\"timestamp\": \"2022-12-24T00:00:00\", \"value\": 25049577.748504, \"variable\": \"bdv_ur_bean_3crv\"}, {\"timestamp\": \"2022-12-24T00:00:00\", \"value\": 13305406.838635, \"variable\": \"bdv_ur_bean\"}, {\"timestamp\": \"2022-12-25T00:00:00\", \"value\": 40903572.37988, \"variable\": \"bdv_total\"}, {\"timestamp\": \"2022-12-25T00:00:00\", \"value\": 25050939.465406, \"variable\": \"bdv_ur_bean_3crv\"}, {\"timestamp\": \"2022-12-25T00:00:00\", \"value\": 431339.167881, \"variable\": \"bdv_bean_3crv\"}, {\"timestamp\": \"2022-12-25T00:00:00\", \"value\": 13305406.839291, \"variable\": \"bdv_ur_bean\"}, {\"timestamp\": \"2022-12-25T00:00:00\", \"value\": 2115886.907302, \"variable\": \"bdv_bean\"}, {\"timestamp\": \"2022-12-26T00:00:00\", \"value\": 2115667.339234, \"variable\": \"bdv_bean\"}, {\"timestamp\": \"2022-12-26T00:00:00\", \"value\": 40904168.268017, \"variable\": \"bdv_total\"}, {\"timestamp\": \"2022-12-26T00:00:00\", \"value\": 431427.988343, \"variable\": \"bdv_bean_3crv\"}, {\"timestamp\": \"2022-12-26T00:00:00\", \"value\": 13305434.0859, \"variable\": \"bdv_ur_bean\"}, {\"timestamp\": \"2022-12-26T00:00:00\", \"value\": 25051638.85454, \"variable\": \"bdv_ur_bean_3crv\"}, {\"timestamp\": \"2022-12-27T00:00:00\", \"value\": 25054407.389793, \"variable\": \"bdv_ur_bean_3crv\"}, {\"timestamp\": \"2022-12-27T00:00:00\", \"value\": 40906412.880067, \"variable\": \"bdv_total\"}, {\"timestamp\": \"2022-12-27T00:00:00\", \"value\": 430607.973497, \"variable\": \"bdv_bean_3crv\"}, {\"timestamp\": \"2022-12-27T00:00:00\", \"value\": 2115092.993773, \"variable\": \"bdv_bean\"}, {\"timestamp\": \"2022-12-27T00:00:00\", \"value\": 13306304.523004, \"variable\": \"bdv_ur_bean\"}, {\"timestamp\": \"2022-12-28T00:00:00\", \"value\": 40898752.202750996, \"variable\": \"bdv_total\"}, {\"timestamp\": \"2022-12-28T00:00:00\", \"value\": 13306637.258954, \"variable\": \"bdv_ur_bean\"}, {\"timestamp\": \"2022-12-28T00:00:00\", \"value\": 25055320.294972, \"variable\": \"bdv_ur_bean_3crv\"}, {\"timestamp\": \"2022-12-28T00:00:00\", \"value\": 427676.237215, \"variable\": \"bdv_bean_3crv\"}, {\"timestamp\": \"2022-12-28T00:00:00\", \"value\": 2109118.41161, \"variable\": \"bdv_bean\"}, {\"timestamp\": \"2022-12-29T00:00:00\", \"value\": 40898904.165828, \"variable\": \"bdv_total\"}, {\"timestamp\": \"2022-12-29T00:00:00\", \"value\": 2109147.065025, \"variable\": \"bdv_bean\"}, {\"timestamp\": \"2022-12-29T00:00:00\", \"value\": 427676.237215, \"variable\": \"bdv_bean_3crv\"}, {\"timestamp\": \"2022-12-29T00:00:00\", \"value\": 25055441.568797, \"variable\": \"bdv_ur_bean_3crv\"}, {\"timestamp\": \"2022-12-29T00:00:00\", \"value\": 13306639.294791, \"variable\": \"bdv_ur_bean\"}, {\"timestamp\": \"2022-12-30T00:00:00\", \"value\": 40888359.442596, \"variable\": \"bdv_total\"}, {\"timestamp\": \"2022-12-30T00:00:00\", \"value\": 427676.237215, \"variable\": \"bdv_bean_3crv\"}, {\"timestamp\": \"2022-12-30T00:00:00\", \"value\": 25055528.673682, \"variable\": \"bdv_ur_bean_3crv\"}, {\"timestamp\": \"2022-12-30T00:00:00\", \"value\": 13306550.562501, \"variable\": \"bdv_ur_bean\"}, {\"timestamp\": \"2022-12-30T00:00:00\", \"value\": 2098603.969198, \"variable\": \"bdv_bean\"}, {\"timestamp\": \"2022-12-31T00:00:00\", \"value\": 13330993.164612, \"variable\": \"bdv_ur_bean\"}, {\"timestamp\": \"2022-12-31T00:00:00\", \"value\": 2067231.88857, \"variable\": \"bdv_bean\"}, {\"timestamp\": \"2022-12-31T00:00:00\", \"value\": 427676.237215, \"variable\": \"bdv_bean_3crv\"}, {\"timestamp\": \"2022-12-31T00:00:00\", \"value\": 40941354.892536, \"variable\": \"bdv_total\"}, {\"timestamp\": \"2022-12-31T00:00:00\", \"value\": 25115453.602139, \"variable\": \"bdv_ur_bean_3crv\"}, {\"timestamp\": \"2023-01-01T00:00:00\", \"value\": 421520.416743, \"variable\": \"bdv_bean_3crv\"}, {\"timestamp\": \"2023-01-01T00:00:00\", \"value\": 13332042.786351, \"variable\": \"bdv_ur_bean\"}, {\"timestamp\": \"2023-01-01T00:00:00\", \"value\": 2065895.974231, \"variable\": \"bdv_bean\"}, {\"timestamp\": \"2023-01-01T00:00:00\", \"value\": 25120250.918473, \"variable\": \"bdv_ur_bean_3crv\"}, {\"timestamp\": \"2023-01-01T00:00:00\", \"value\": 40939710.095798, \"variable\": \"bdv_total\"}, {\"timestamp\": \"2023-01-02T00:00:00\", \"value\": 40927759.218954, \"variable\": \"bdv_total\"}, {\"timestamp\": \"2023-01-02T00:00:00\", \"value\": 25125105.570465, \"variable\": \"bdv_ur_bean_3crv\"}, {\"timestamp\": \"2023-01-02T00:00:00\", \"value\": 2050483.661187, \"variable\": \"bdv_bean\"}, {\"timestamp\": \"2023-01-02T00:00:00\", \"value\": 420126.623639, \"variable\": \"bdv_bean_3crv\"}, {\"timestamp\": \"2023-01-02T00:00:00\", \"value\": 13332043.363663, \"variable\": \"bdv_ur_bean\"}, {\"timestamp\": \"2023-01-03T00:00:00\", \"value\": 40915243.825141996, \"variable\": \"bdv_total\"}, {\"timestamp\": \"2023-01-03T00:00:00\", \"value\": 13332043.363964, \"variable\": \"bdv_ur_bean\"}, {\"timestamp\": \"2023-01-03T00:00:00\", \"value\": 2035545.958784, \"variable\": \"bdv_bean\"}, {\"timestamp\": \"2023-01-03T00:00:00\", \"value\": 25127527.878755, \"variable\": \"bdv_ur_bean_3crv\"}, {\"timestamp\": \"2023-01-03T00:00:00\", \"value\": 420126.623639, \"variable\": \"bdv_bean_3crv\"}, {\"timestamp\": \"2023-01-04T00:00:00\", \"value\": 420126.623639, \"variable\": \"bdv_bean_3crv\"}, {\"timestamp\": \"2023-01-04T00:00:00\", \"value\": 13332043.975294, \"variable\": \"bdv_ur_bean\"}, {\"timestamp\": \"2023-01-04T00:00:00\", \"value\": 25129800.489175, \"variable\": \"bdv_ur_bean_3crv\"}, {\"timestamp\": \"2023-01-04T00:00:00\", \"value\": 2035471.291413, \"variable\": \"bdv_bean\"}, {\"timestamp\": \"2023-01-04T00:00:00\", \"value\": 40917442.379521, \"variable\": \"bdv_total\"}, {\"timestamp\": \"2023-01-05T00:00:00\", \"value\": 2025062.541413, \"variable\": \"bdv_bean\"}, {\"timestamp\": \"2023-01-05T00:00:00\", \"value\": 13332106.136144, \"variable\": \"bdv_ur_bean\"}, {\"timestamp\": \"2023-01-05T00:00:00\", \"value\": 420126.623639, \"variable\": \"bdv_bean_3crv\"}, {\"timestamp\": \"2023-01-05T00:00:00\", \"value\": 25139085.001011, \"variable\": \"bdv_ur_bean_3crv\"}, {\"timestamp\": \"2023-01-05T00:00:00\", \"value\": 40916380.302207, \"variable\": \"bdv_total\"}, {\"timestamp\": \"2023-01-06T00:00:00\", \"value\": 2020897.179995, \"variable\": \"bdv_bean\"}, {\"timestamp\": \"2023-01-06T00:00:00\", \"value\": 420221.212685, \"variable\": \"bdv_bean_3crv\"}, {\"timestamp\": \"2023-01-06T00:00:00\", \"value\": 25154504.474012, \"variable\": \"bdv_ur_bean_3crv\"}, {\"timestamp\": \"2023-01-06T00:00:00\", \"value\": 13332137.69059, \"variable\": \"bdv_ur_bean\"}, {\"timestamp\": \"2023-01-06T00:00:00\", \"value\": 40927760.557282, \"variable\": \"bdv_total\"}, {\"timestamp\": \"2023-01-07T00:00:00\", \"value\": 25155052.896742, \"variable\": \"bdv_ur_bean_3crv\"}, {\"timestamp\": \"2023-01-07T00:00:00\", \"value\": 40927056.098179, \"variable\": \"bdv_total\"}, {\"timestamp\": \"2023-01-07T00:00:00\", \"value\": 2020834.496416, \"variable\": \"bdv_bean\"}, {\"timestamp\": \"2023-01-07T00:00:00\", \"value\": 13331449.389846, \"variable\": \"bdv_ur_bean\"}, {\"timestamp\": \"2023-01-07T00:00:00\", \"value\": 419719.315175, \"variable\": \"bdv_bean_3crv\"}, {\"timestamp\": \"2023-01-08T00:00:00\", \"value\": 419719.315175, \"variable\": \"bdv_bean_3crv\"}, {\"timestamp\": \"2023-01-08T00:00:00\", \"value\": 40927416.592946, \"variable\": \"bdv_total\"}, {\"timestamp\": \"2023-01-08T00:00:00\", \"value\": 13331449.393938, \"variable\": \"bdv_ur_bean\"}, {\"timestamp\": \"2023-01-08T00:00:00\", \"value\": 2020815.924832, \"variable\": \"bdv_bean\"}, {\"timestamp\": \"2023-01-08T00:00:00\", \"value\": 25155431.959001, \"variable\": \"bdv_ur_bean_3crv\"}, {\"timestamp\": \"2023-01-09T00:00:00\", \"value\": 2300713.668003, \"variable\": \"bdv_bean\"}, {\"timestamp\": \"2023-01-09T00:00:00\", \"value\": 13332774.187677, \"variable\": \"bdv_ur_bean\"}, {\"timestamp\": \"2023-01-09T00:00:00\", \"value\": 419719.315175, \"variable\": \"bdv_bean_3crv\"}, {\"timestamp\": \"2023-01-09T00:00:00\", \"value\": 41233545.671169996, \"variable\": \"bdv_total\"}, {\"timestamp\": \"2023-01-09T00:00:00\", \"value\": 25180338.500315, \"variable\": \"bdv_ur_bean_3crv\"}, {\"timestamp\": \"2023-01-10T00:00:00\", \"value\": 2297814.629335, \"variable\": \"bdv_bean\"}, {\"timestamp\": \"2023-01-10T00:00:00\", \"value\": 422710.10427, \"variable\": \"bdv_bean_3crv\"}, {\"timestamp\": \"2023-01-10T00:00:00\", \"value\": 25177245.732205, \"variable\": \"bdv_ur_bean_3crv\"}, {\"timestamp\": \"2023-01-10T00:00:00\", \"value\": 13337186.634629, \"variable\": \"bdv_ur_bean\"}, {\"timestamp\": \"2023-01-10T00:00:00\", \"value\": 41234957.100439, \"variable\": \"bdv_total\"}, {\"timestamp\": \"2023-01-11T00:00:00\", \"value\": 41228565.030957, \"variable\": \"bdv_total\"}, {\"timestamp\": \"2023-01-11T00:00:00\", \"value\": 13337187.605198, \"variable\": \"bdv_ur_bean\"}, {\"timestamp\": \"2023-01-11T00:00:00\", \"value\": 25178623.695255, \"variable\": \"bdv_ur_bean_3crv\"}, {\"timestamp\": \"2023-01-11T00:00:00\", \"value\": 425939.101169, \"variable\": \"bdv_bean_3crv\"}, {\"timestamp\": \"2023-01-11T00:00:00\", \"value\": 2286814.629335, \"variable\": \"bdv_bean\"}, {\"timestamp\": \"2023-01-12T00:00:00\", \"value\": 41207644.071979, \"variable\": \"bdv_total\"}, {\"timestamp\": \"2023-01-12T00:00:00\", \"value\": 425939.101169, \"variable\": \"bdv_bean_3crv\"}, {\"timestamp\": \"2023-01-12T00:00:00\", \"value\": 25179223.676729, \"variable\": \"bdv_ur_bean_3crv\"}, {\"timestamp\": \"2023-01-12T00:00:00\", \"value\": 2265293.439797, \"variable\": \"bdv_bean\"}, {\"timestamp\": \"2023-01-12T00:00:00\", \"value\": 13337187.854284, \"variable\": \"bdv_ur_bean\"}, {\"timestamp\": \"2023-01-13T00:00:00\", \"value\": 13335588.06591, \"variable\": \"bdv_ur_bean\"}, {\"timestamp\": \"2023-01-13T00:00:00\", \"value\": 25178727.981634, \"variable\": \"bdv_ur_bean_3crv\"}, {\"timestamp\": \"2023-01-13T00:00:00\", \"value\": 2254073.156264, \"variable\": \"bdv_bean\"}, {\"timestamp\": \"2023-01-13T00:00:00\", \"value\": 41194328.304977, \"variable\": \"bdv_total\"}, {\"timestamp\": \"2023-01-13T00:00:00\", \"value\": 425939.101169, \"variable\": \"bdv_bean_3crv\"}, {\"timestamp\": \"2023-01-14T00:00:00\", \"value\": 41169196.820971996, \"variable\": \"bdv_total\"}, {\"timestamp\": \"2023-01-14T00:00:00\", \"value\": 2229018.290121, \"variable\": \"bdv_bean\"}, {\"timestamp\": \"2023-01-14T00:00:00\", \"value\": 13335608.842982, \"variable\": \"bdv_ur_bean\"}, {\"timestamp\": \"2023-01-14T00:00:00\", \"value\": 25180988.395096, \"variable\": \"bdv_ur_bean_3crv\"}, {\"timestamp\": \"2023-01-14T00:00:00\", \"value\": 423581.292773, \"variable\": \"bdv_bean_3crv\"}, {\"timestamp\": \"2023-01-15T00:00:00\", \"value\": 2205521.412477, \"variable\": \"bdv_bean\"}, {\"timestamp\": \"2023-01-15T00:00:00\", \"value\": 41148589.60763, \"variable\": \"bdv_total\"}, {\"timestamp\": \"2023-01-15T00:00:00\", \"value\": 25184280.228563, \"variable\": \"bdv_ur_bean_3crv\"}, {\"timestamp\": \"2023-01-15T00:00:00\", \"value\": 13335613.743539, \"variable\": \"bdv_ur_bean\"}, {\"timestamp\": \"2023-01-15T00:00:00\", \"value\": 423174.223051, \"variable\": \"bdv_bean_3crv\"}, {\"timestamp\": \"2023-01-16T00:00:00\", \"value\": 13335661.696019, \"variable\": \"bdv_ur_bean\"}, {\"timestamp\": \"2023-01-16T00:00:00\", \"value\": 25190888.813476, \"variable\": \"bdv_ur_bean_3crv\"}, {\"timestamp\": \"2023-01-16T00:00:00\", \"value\": 2197879.412477, \"variable\": \"bdv_bean\"}, {\"timestamp\": \"2023-01-16T00:00:00\", \"value\": 423174.223051, \"variable\": \"bdv_bean_3crv\"}, {\"timestamp\": \"2023-01-16T00:00:00\", \"value\": 41147604.145023, \"variable\": \"bdv_total\"}, {\"timestamp\": \"2023-01-17T00:00:00\", \"value\": 41142189.35573, \"variable\": \"bdv_total\"}, {\"timestamp\": \"2023-01-17T00:00:00\", \"value\": 423174.223051, \"variable\": \"bdv_bean_3crv\"}, {\"timestamp\": \"2023-01-17T00:00:00\", \"value\": 13335661.696019, \"variable\": \"bdv_ur_bean\"}, {\"timestamp\": \"2023-01-17T00:00:00\", \"value\": 25193140.524183, \"variable\": \"bdv_ur_bean_3crv\"}, {\"timestamp\": \"2023-01-17T00:00:00\", \"value\": 2190212.912477, \"variable\": \"bdv_bean\"}, {\"timestamp\": \"2023-01-18T00:00:00\", \"value\": 13335661.696019, \"variable\": \"bdv_ur_bean\"}, {\"timestamp\": \"2023-01-18T00:00:00\", \"value\": 423174.223051, \"variable\": \"bdv_bean_3crv\"}, {\"timestamp\": \"2023-01-18T00:00:00\", \"value\": 2178842.672596, \"variable\": \"bdv_bean\"}, {\"timestamp\": \"2023-01-18T00:00:00\", \"value\": 25196570.899862, \"variable\": \"bdv_ur_bean_3crv\"}, {\"timestamp\": \"2023-01-18T00:00:00\", \"value\": 41134249.491528, \"variable\": \"bdv_total\"}, {\"timestamp\": \"2023-01-19T00:00:00\", \"value\": 423174.223051, \"variable\": \"bdv_bean_3crv\"}, {\"timestamp\": \"2023-01-19T00:00:00\", \"value\": 13335661.696019, \"variable\": \"bdv_ur_bean\"}, {\"timestamp\": \"2023-01-19T00:00:00\", \"value\": 2178797.843311, \"variable\": \"bdv_bean\"}, {\"timestamp\": \"2023-01-19T00:00:00\", \"value\": 25197306.244126, \"variable\": \"bdv_ur_bean_3crv\"}, {\"timestamp\": \"2023-01-19T00:00:00\", \"value\": 41134940.006507, \"variable\": \"bdv_total\"}, {\"timestamp\": \"2023-01-20T00:00:00\", \"value\": 41115567.873887, \"variable\": \"bdv_total\"}, {\"timestamp\": \"2023-01-20T00:00:00\", \"value\": 13335661.696019, \"variable\": \"bdv_ur_bean\"}, {\"timestamp\": \"2023-01-20T00:00:00\", \"value\": 25197489.758107, \"variable\": \"bdv_ur_bean_3crv\"}, {\"timestamp\": \"2023-01-20T00:00:00\", \"value\": 2163375.348619, \"variable\": \"bdv_bean\"}, {\"timestamp\": \"2023-01-20T00:00:00\", \"value\": 419041.071142, \"variable\": \"bdv_bean_3crv\"}, {\"timestamp\": \"2023-01-21T00:00:00\", \"value\": 13335907.93383, \"variable\": \"bdv_ur_bean\"}, {\"timestamp\": \"2023-01-21T00:00:00\", \"value\": 418863.979744, \"variable\": \"bdv_bean_3crv\"}, {\"timestamp\": \"2023-01-21T00:00:00\", \"value\": 41107276.99304, \"variable\": \"bdv_total\"}, {\"timestamp\": \"2023-01-21T00:00:00\", \"value\": 2154195.635838, \"variable\": \"bdv_bean\"}, {\"timestamp\": \"2023-01-21T00:00:00\", \"value\": 25198309.443628, \"variable\": \"bdv_ur_bean_3crv\"}, {\"timestamp\": \"2023-01-22T00:00:00\", \"value\": 418431.953387, \"variable\": \"bdv_bean_3crv\"}, {\"timestamp\": \"2023-01-22T00:00:00\", \"value\": 25200397.598855, \"variable\": \"bdv_ur_bean_3crv\"}, {\"timestamp\": \"2023-01-22T00:00:00\", \"value\": 13335973.047456, \"variable\": \"bdv_ur_bean\"}, {\"timestamp\": \"2023-01-22T00:00:00\", \"value\": 2154102.635838, \"variable\": \"bdv_bean\"}, {\"timestamp\": \"2023-01-22T00:00:00\", \"value\": 41108905.235536, \"variable\": \"bdv_total\"}, {\"timestamp\": \"2023-01-23T00:00:00\", \"value\": 41093390.949694, \"variable\": \"bdv_total\"}, {\"timestamp\": \"2023-01-23T00:00:00\", \"value\": 13336110.893184, \"variable\": \"bdv_ur_bean\"}, {\"timestamp\": \"2023-01-23T00:00:00\", \"value\": 25204026.196704, \"variable\": \"bdv_ur_bean_3crv\"}, {\"timestamp\": \"2023-01-23T00:00:00\", \"value\": 2134821.906419, \"variable\": \"bdv_bean\"}, {\"timestamp\": \"2023-01-23T00:00:00\", \"value\": 418431.953387, \"variable\": \"bdv_bean_3crv\"}, {\"timestamp\": \"2023-01-24T00:00:00\", \"value\": 41081394.000488, \"variable\": \"bdv_total\"}, {\"timestamp\": \"2023-01-24T00:00:00\", \"value\": 418431.953387, \"variable\": \"bdv_bean_3crv\"}, {\"timestamp\": \"2023-01-24T00:00:00\", \"value\": 13336110.893184, \"variable\": \"bdv_ur_bean\"}, {\"timestamp\": \"2023-01-24T00:00:00\", \"value\": 25205063.087643, \"variable\": \"bdv_ur_bean_3crv\"}, {\"timestamp\": \"2023-01-24T00:00:00\", \"value\": 2121788.066274, \"variable\": \"bdv_bean\"}, {\"timestamp\": \"2023-01-25T00:00:00\", \"value\": 418431.953387, \"variable\": \"bdv_bean_3crv\"}, {\"timestamp\": \"2023-01-25T00:00:00\", \"value\": 41085414.965053, \"variable\": \"bdv_total\"}, {\"timestamp\": \"2023-01-25T00:00:00\", \"value\": 25207797.892053, \"variable\": \"bdv_ur_bean_3crv\"}, {\"timestamp\": \"2023-01-25T00:00:00\", \"value\": 13338005.476764, \"variable\": \"bdv_ur_bean\"}, {\"timestamp\": \"2023-01-25T00:00:00\", \"value\": 2121179.642849, \"variable\": \"bdv_bean\"}, {\"timestamp\": \"2023-01-26T00:00:00\", \"value\": 41085035.99653, \"variable\": \"bdv_total\"}, {\"timestamp\": \"2023-01-26T00:00:00\", \"value\": 25209377.088765, \"variable\": \"bdv_ur_bean_3crv\"}, {\"timestamp\": \"2023-01-26T00:00:00\", \"value\": 13336047.311529, \"variable\": \"bdv_ur_bean\"}, {\"timestamp\": \"2023-01-26T00:00:00\", \"value\": 418431.953387, \"variable\": \"bdv_bean_3crv\"}, {\"timestamp\": \"2023-01-26T00:00:00\", \"value\": 2121179.642849, \"variable\": \"bdv_bean\"}, {\"timestamp\": \"2023-01-27T00:00:00\", \"value\": 13336047.311729, \"variable\": \"bdv_ur_bean\"}, {\"timestamp\": \"2023-01-27T00:00:00\", \"value\": 41083277.067591, \"variable\": \"bdv_total\"}, {\"timestamp\": \"2023-01-27T00:00:00\", \"value\": 2115179.642849, \"variable\": \"bdv_bean\"}, {\"timestamp\": \"2023-01-27T00:00:00\", \"value\": 417946.675754, \"variable\": \"bdv_bean_3crv\"}, {\"timestamp\": \"2023-01-27T00:00:00\", \"value\": 25214103.437259, \"variable\": \"bdv_ur_bean_3crv\"}, {\"timestamp\": \"2023-01-28T00:00:00\", \"value\": 41092136.008468, \"variable\": \"bdv_total\"}, {\"timestamp\": \"2023-01-28T00:00:00\", \"value\": 25223221.9824, \"variable\": \"bdv_ur_bean_3crv\"}, {\"timestamp\": \"2023-01-28T00:00:00\", \"value\": 13336047.442433, \"variable\": \"bdv_ur_bean\"}, {\"timestamp\": \"2023-01-28T00:00:00\", \"value\": 2114919.907881, \"variable\": \"bdv_bean\"}, {\"timestamp\": \"2023-01-28T00:00:00\", \"value\": 417946.675754, \"variable\": \"bdv_bean_3crv\"}, {\"timestamp\": \"2023-01-29T00:00:00\", \"value\": 2114919.907881, \"variable\": \"bdv_bean\"}, {\"timestamp\": \"2023-01-29T00:00:00\", \"value\": 418108.738214, \"variable\": \"bdv_bean_3crv\"}, {\"timestamp\": \"2023-01-29T00:00:00\", \"value\": 25232450.80356, \"variable\": \"bdv_ur_bean_3crv\"}, {\"timestamp\": \"2023-01-29T00:00:00\", \"value\": 13336055.73877, \"variable\": \"bdv_ur_bean\"}, {\"timestamp\": \"2023-01-29T00:00:00\", \"value\": 41101535.188425004, \"variable\": \"bdv_total\"}, {\"timestamp\": \"2023-01-30T00:00:00\", \"value\": 2114919.907881, \"variable\": \"bdv_bean\"}, {\"timestamp\": \"2023-01-30T00:00:00\", \"value\": 13336341.258847, \"variable\": \"bdv_ur_bean\"}, {\"timestamp\": \"2023-01-30T00:00:00\", \"value\": 41102048.870492, \"variable\": \"bdv_total\"}, {\"timestamp\": \"2023-01-30T00:00:00\", \"value\": 418108.738214, \"variable\": \"bdv_bean_3crv\"}, {\"timestamp\": \"2023-01-30T00:00:00\", \"value\": 25232678.96555, \"variable\": \"bdv_ur_bean_3crv\"}, {\"timestamp\": \"2023-01-31T00:00:00\", \"value\": 41070979.060529, \"variable\": \"bdv_total\"}, {\"timestamp\": \"2023-01-31T00:00:00\", \"value\": 2088145.800684, \"variable\": \"bdv_bean\"}, {\"timestamp\": \"2023-01-31T00:00:00\", \"value\": 13331854.375804, \"variable\": \"bdv_ur_bean\"}, {\"timestamp\": \"2023-01-31T00:00:00\", \"value\": 418108.738214, \"variable\": \"bdv_bean_3crv\"}, {\"timestamp\": \"2023-01-31T00:00:00\", \"value\": 25232870.145827, \"variable\": \"bdv_ur_bean_3crv\"}, {\"timestamp\": \"2023-02-01T00:00:00\", \"value\": 41178386.36363301, \"variable\": \"bdv_total\"}, {\"timestamp\": \"2023-02-01T00:00:00\", \"value\": 418108.738214, \"variable\": \"bdv_bean_3crv\"}, {\"timestamp\": \"2023-02-01T00:00:00\", \"value\": 25264350.265222, \"variable\": \"bdv_ur_bean_3crv\"}, {\"timestamp\": \"2023-02-01T00:00:00\", \"value\": 2135826.067074, \"variable\": \"bdv_bean\"}, {\"timestamp\": \"2023-02-01T00:00:00\", \"value\": 13360101.293123, \"variable\": \"bdv_ur_bean\"}, {\"timestamp\": \"2023-02-02T00:00:00\", \"value\": 13360101.644823, \"variable\": \"bdv_ur_bean\"}, {\"timestamp\": \"2023-02-02T00:00:00\", \"value\": 2107035.807122, \"variable\": \"bdv_bean\"}, {\"timestamp\": \"2023-02-02T00:00:00\", \"value\": 41142932.574439, \"variable\": \"bdv_total\"}, {\"timestamp\": \"2023-02-02T00:00:00\", \"value\": 408334.420522, \"variable\": \"bdv_bean_3crv\"}, {\"timestamp\": \"2023-02-02T00:00:00\", \"value\": 25267460.701972, \"variable\": \"bdv_ur_bean_3crv\"}, {\"timestamp\": \"2023-02-03T00:00:00\", \"value\": 13414857.7478, \"variable\": \"bdv_ur_bean\"}, {\"timestamp\": \"2023-02-03T00:00:00\", \"value\": 25277311.678228, \"variable\": \"bdv_ur_bean_3crv\"}, {\"timestamp\": \"2023-02-03T00:00:00\", \"value\": 408334.420522, \"variable\": \"bdv_bean_3crv\"}, {\"timestamp\": \"2023-02-03T00:00:00\", \"value\": 2107035.807122, \"variable\": \"bdv_bean\"}, {\"timestamp\": \"2023-02-03T00:00:00\", \"value\": 41207539.653671995, \"variable\": \"bdv_total\"}], \"data-dc587bde6e185e945aa793235d8dcb05\": [{\"category\": \"bdv_ur_bean\", \"value\": 13414857.7478, \"label\": \"bdv_ur_bean: 13,414,857 \\n(32.6%)\"}, {\"category\": \"bdv_ur_bean_3crv\", \"value\": 25277311.678228, \"label\": \"bdv_ur_bean_3crv: 25,277,311 \\n(61.3%)\"}, {\"category\": \"bdv_bean_3crv\", \"value\": 408334.420522, \"label\": \"bdv_bean_3crv: 408,334 \\n(1.0%)\"}, {\"category\": \"bdv_bean\", \"value\": 2107035.807122, \"label\": \"bdv_bean: 2,107,035 \\n(5.1%)\"}], \"data-da5a0622f28e0dce967206965c16a503\": [{\"category\": \"unlocked\", \"value\": 2515370.227644, \"label\": \"6.1% unlocked\"}, {\"category\": \"locked\", \"value\": 38692169.426028, \"label\": \"93.9% locked\"}]}}, {\"mode\": \"vega-lite\"});\n",
       "</script>"
      ],
      "text/plain": [
       "alt.HConcatChart(...)"
      ]
     },
     "execution_count": 70,
     "metadata": {},
     "output_type": "execute_result"
    }
   ],
   "source": [
    "c = (\n",
    "    alt.hconcat(chart_area, chart_pie, chart_pie_locked)\n",
    "        .resolve_legend(color=\"independent\")\n",
    "        .resolve_scale(y=\"independent\", color=\"independent\")\n",
    "        .resolve_axis(y=\"independent\")    \n",
    ")\n",
    "css_lines = css_tooltip_timeseries_multi_colored(metrics, colors)\n",
    "css = '\\n'.join(css_lines)\n",
    "# apply_css(css)\n",
    "apply_css(\"\")\n",
    "c"
   ]
  },
  {
   "cell_type": "code",
   "execution_count": 71,
   "id": "d6752862",
   "metadata": {},
   "outputs": [
    {
     "data": {
      "application/json": {
       "css": "#vg-tooltip-element tr:nth-child(1) { font-weight: bold }\n#vg-tooltip-element tr:nth-child(1) td:first-child { opacity: 0 }\n\n#vg-tooltip-element tr:nth-child(2) td:first-child { color: #32A251; font-weight: bold; }\n\n#vg-tooltip-element tr:nth-child(3) td:first-child { color: #FF7F0F; font-weight: bold; }\n\n#vg-tooltip-element tr:nth-child(4) td:first-child { color: #3CB7CC; font-weight: bold; }\n\n#vg-tooltip-element tr:nth-child(5) td:first-child { color: #FFD94A; font-weight: bold; }\n\n#vg-tooltip-element tr:nth-child(6) td:first-child { color: #39737C; font-weight: bold; }\n",
       "spec": {
        "$schema": "https://vega.github.io/schema/vega-lite/v4.17.0.json",
        "config": {
         "view": {
          "continuousHeight": 300,
          "continuousWidth": 400
         }
        },
        "datasets": {
         "data-da5a0622f28e0dce967206965c16a503": [
          {
           "category": "unlocked",
           "label": "6.1% unlocked",
           "value": 2515370.227644
          },
          {
           "category": "locked",
           "label": "93.9% locked",
           "value": 38692169.426028
          }
         ],
         "data-dc587bde6e185e945aa793235d8dcb05": [
          {
           "category": "bdv_ur_bean",
           "label": "bdv_ur_bean: 13,414,857 \n(32.6%)",
           "value": 13414857.7478
          },
          {
           "category": "bdv_ur_bean_3crv",
           "label": "bdv_ur_bean_3crv: 25,277,311 \n(61.3%)",
           "value": 25277311.678228
          },
          {
           "category": "bdv_bean_3crv",
           "label": "bdv_bean_3crv: 408,334 \n(1.0%)",
           "value": 408334.420522
          },
          {
           "category": "bdv_bean",
           "label": "bdv_bean: 2,107,035 \n(5.1%)",
           "value": 2107035.807122
          }
         ],
         "data-ec120d3fa8e3b4048da01f6da7bf1993": [
          {
           "timestamp": "2022-08-04T00:00:00",
           "value": 5978133.655747,
           "variable": "bdv_ur_bean"
          },
          {
           "timestamp": "2022-08-04T00:00:00",
           "value": 32317887.140979,
           "variable": "bdv_total"
          },
          {
           "timestamp": "2022-08-04T00:00:00",
           "value": 26339753.485232,
           "variable": "bdv_ur_bean_3crv"
          },
          {
           "timestamp": "2022-08-05T00:00:00",
           "value": 26927531.209686,
           "variable": "bdv_ur_bean_3crv"
          },
          {
           "timestamp": "2022-08-05T00:00:00",
           "value": 5623644.838133,
           "variable": "bdv_ur_bean"
          },
          {
           "timestamp": "2022-08-05T00:00:00",
           "value": 32645767.088951,
           "variable": "bdv_total"
          },
          {
           "timestamp": "2022-08-05T00:00:00",
           "value": 89359.642612,
           "variable": "bdv_bean_3crv"
          },
          {
           "timestamp": "2022-08-05T00:00:00",
           "value": 5231.39852,
           "variable": "bdv_bean"
          },
          {
           "timestamp": "2022-08-06T00:00:00",
           "value": 462004.04136,
           "variable": "bdv_bean_3crv"
          },
          {
           "timestamp": "2022-08-06T00:00:00",
           "value": 33371039.858399004,
           "variable": "bdv_total"
          },
          {
           "timestamp": "2022-08-06T00:00:00",
           "value": 100571.042032,
           "variable": "bdv_bean"
          },
          {
           "timestamp": "2022-08-06T00:00:00",
           "value": 5513601.265417,
           "variable": "bdv_ur_bean"
          },
          {
           "timestamp": "2022-08-06T00:00:00",
           "value": 27294863.50959,
           "variable": "bdv_ur_bean_3crv"
          },
          {
           "timestamp": "2022-08-07T00:00:00",
           "value": 42131149.240254,
           "variable": "bdv_total"
          },
          {
           "timestamp": "2022-08-07T00:00:00",
           "value": 1506243.466729,
           "variable": "bdv_bean"
          },
          {
           "timestamp": "2022-08-07T00:00:00",
           "value": 5381329.303513,
           "variable": "bdv_ur_bean"
          },
          {
           "timestamp": "2022-08-07T00:00:00",
           "value": 5836871.302909,
           "variable": "bdv_bean_3crv"
          },
          {
           "timestamp": "2022-08-07T00:00:00",
           "value": 29406705.167103,
           "variable": "bdv_ur_bean_3crv"
          },
          {
           "timestamp": "2022-08-08T00:00:00",
           "value": 5307938.614667,
           "variable": "bdv_bean_3crv"
          },
          {
           "timestamp": "2022-08-08T00:00:00",
           "value": 30541189.532496,
           "variable": "bdv_ur_bean_3crv"
          },
          {
           "timestamp": "2022-08-08T00:00:00",
           "value": 2056563.133446,
           "variable": "bdv_bean"
          },
          {
           "timestamp": "2022-08-08T00:00:00",
           "value": 5498258.749764,
           "variable": "bdv_ur_bean"
          },
          {
           "timestamp": "2022-08-08T00:00:00",
           "value": 43403950.030373,
           "variable": "bdv_total"
          },
          {
           "timestamp": "2022-08-09T00:00:00",
           "value": 29880114.049145,
           "variable": "bdv_ur_bean_3crv"
          },
          {
           "timestamp": "2022-08-09T00:00:00",
           "value": 3664273.394661,
           "variable": "bdv_bean_3crv"
          },
          {
           "timestamp": "2022-08-09T00:00:00",
           "value": 6426493.308836,
           "variable": "bdv_ur_bean"
          },
          {
           "timestamp": "2022-08-09T00:00:00",
           "value": 1526877.140336,
           "variable": "bdv_bean"
          },
          {
           "timestamp": "2022-08-09T00:00:00",
           "value": 41497757.892978,
           "variable": "bdv_total"
          },
          {
           "timestamp": "2022-08-10T00:00:00",
           "value": 3720520.612047,
           "variable": "bdv_bean_3crv"
          },
          {
           "timestamp": "2022-08-10T00:00:00",
           "value": 41601629.764988005,
           "variable": "bdv_total"
          },
          {
           "timestamp": "2022-08-10T00:00:00",
           "value": 1520361.180963,
           "variable": "bdv_bean"
          },
          {
           "timestamp": "2022-08-10T00:00:00",
           "value": 29894207.154513,
           "variable": "bdv_ur_bean_3crv"
          },
          {
           "timestamp": "2022-08-10T00:00:00",
           "value": 6466540.817465,
           "variable": "bdv_ur_bean"
          },
          {
           "timestamp": "2022-08-11T00:00:00",
           "value": 41616163.176115,
           "variable": "bdv_total"
          },
          {
           "timestamp": "2022-08-11T00:00:00",
           "value": 1691589.456553,
           "variable": "bdv_bean"
          },
          {
           "timestamp": "2022-08-11T00:00:00",
           "value": 3500244.414793,
           "variable": "bdv_bean_3crv"
          },
          {
           "timestamp": "2022-08-11T00:00:00",
           "value": 29885191.786606,
           "variable": "bdv_ur_bean_3crv"
          },
          {
           "timestamp": "2022-08-11T00:00:00",
           "value": 6539137.518163,
           "variable": "bdv_ur_bean"
          },
          {
           "timestamp": "2022-08-12T00:00:00",
           "value": 41655989.769856,
           "variable": "bdv_total"
          },
          {
           "timestamp": "2022-08-12T00:00:00",
           "value": 1702426.130822,
           "variable": "bdv_bean"
          },
          {
           "timestamp": "2022-08-12T00:00:00",
           "value": 29920252.111981,
           "variable": "bdv_ur_bean_3crv"
          },
          {
           "timestamp": "2022-08-12T00:00:00",
           "value": 6530478.824595,
           "variable": "bdv_ur_bean"
          },
          {
           "timestamp": "2022-08-12T00:00:00",
           "value": 3502832.702458,
           "variable": "bdv_bean_3crv"
          },
          {
           "timestamp": "2022-08-13T00:00:00",
           "value": 41819484.501842,
           "variable": "bdv_total"
          },
          {
           "timestamp": "2022-08-13T00:00:00",
           "value": 6528269.82436,
           "variable": "bdv_ur_bean"
          },
          {
           "timestamp": "2022-08-13T00:00:00",
           "value": 29982080.538393,
           "variable": "bdv_ur_bean_3crv"
          },
          {
           "timestamp": "2022-08-13T00:00:00",
           "value": 3534985.076794,
           "variable": "bdv_bean_3crv"
          },
          {
           "timestamp": "2022-08-13T00:00:00",
           "value": 1774149.062295,
           "variable": "bdv_bean"
          },
          {
           "timestamp": "2022-08-14T00:00:00",
           "value": 9048670.222874,
           "variable": "bdv_ur_bean"
          },
          {
           "timestamp": "2022-08-14T00:00:00",
           "value": 1200969.476851,
           "variable": "bdv_bean_3crv"
          },
          {
           "timestamp": "2022-08-14T00:00:00",
           "value": 1401783.998667,
           "variable": "bdv_bean"
          },
          {
           "timestamp": "2022-08-14T00:00:00",
           "value": 27703012.774458,
           "variable": "bdv_ur_bean_3crv"
          },
          {
           "timestamp": "2022-08-14T00:00:00",
           "value": 39354436.472849995,
           "variable": "bdv_total"
          },
          {
           "timestamp": "2022-08-15T00:00:00",
           "value": 27710382.759477,
           "variable": "bdv_ur_bean_3crv"
          },
          {
           "timestamp": "2022-08-15T00:00:00",
           "value": 9052612.094622,
           "variable": "bdv_ur_bean"
          },
          {
           "timestamp": "2022-08-15T00:00:00",
           "value": 1190492.237083,
           "variable": "bdv_bean_3crv"
          },
          {
           "timestamp": "2022-08-15T00:00:00",
           "value": 39370892.757622,
           "variable": "bdv_total"
          },
          {
           "timestamp": "2022-08-15T00:00:00",
           "value": 1417405.66644,
           "variable": "bdv_bean"
          },
          {
           "timestamp": "2022-08-16T00:00:00",
           "value": 39528847.946184,
           "variable": "bdv_total"
          },
          {
           "timestamp": "2022-08-16T00:00:00",
           "value": 9163322.789853,
           "variable": "bdv_ur_bean"
          },
          {
           "timestamp": "2022-08-16T00:00:00",
           "value": 1185845.803379,
           "variable": "bdv_bean_3crv"
          },
          {
           "timestamp": "2022-08-16T00:00:00",
           "value": 1414327.23749,
           "variable": "bdv_bean"
          },
          {
           "timestamp": "2022-08-16T00:00:00",
           "value": 27765352.115462,
           "variable": "bdv_ur_bean_3crv"
          },
          {
           "timestamp": "2022-08-17T00:00:00",
           "value": 9149420.921032,
           "variable": "bdv_ur_bean"
          },
          {
           "timestamp": "2022-08-17T00:00:00",
           "value": 1187121.400189,
           "variable": "bdv_bean_3crv"
          },
          {
           "timestamp": "2022-08-17T00:00:00",
           "value": 27786131.029705,
           "variable": "bdv_ur_bean_3crv"
          },
          {
           "timestamp": "2022-08-17T00:00:00",
           "value": 1436943.097604,
           "variable": "bdv_bean"
          },
          {
           "timestamp": "2022-08-17T00:00:00",
           "value": 39559616.44853,
           "variable": "bdv_total"
          },
          {
           "timestamp": "2022-08-18T00:00:00",
           "value": 1447186.463689,
           "variable": "bdv_bean"
          },
          {
           "timestamp": "2022-08-18T00:00:00",
           "value": 9149609.652743,
           "variable": "bdv_ur_bean"
          },
          {
           "timestamp": "2022-08-18T00:00:00",
           "value": 1175751.783769,
           "variable": "bdv_bean_3crv"
          },
          {
           "timestamp": "2022-08-18T00:00:00",
           "value": 27794393.896052,
           "variable": "bdv_ur_bean_3crv"
          },
          {
           "timestamp": "2022-08-18T00:00:00",
           "value": 39566941.796252996,
           "variable": "bdv_total"
          },
          {
           "timestamp": "2022-08-19T00:00:00",
           "value": 39799775.533911,
           "variable": "bdv_total"
          },
          {
           "timestamp": "2022-08-19T00:00:00",
           "value": 27919453.684368,
           "variable": "bdv_ur_bean_3crv"
          },
          {
           "timestamp": "2022-08-19T00:00:00",
           "value": 1466984.991038,
           "variable": "bdv_bean"
          },
          {
           "timestamp": "2022-08-19T00:00:00",
           "value": 9239047.163768,
           "variable": "bdv_ur_bean"
          },
          {
           "timestamp": "2022-08-19T00:00:00",
           "value": 1174289.694737,
           "variable": "bdv_bean_3crv"
          },
          {
           "timestamp": "2022-08-20T00:00:00",
           "value": 1172392.870021,
           "variable": "bdv_bean_3crv"
          },
          {
           "timestamp": "2022-08-20T00:00:00",
           "value": 1468915.600044,
           "variable": "bdv_bean"
          },
          {
           "timestamp": "2022-08-20T00:00:00",
           "value": 27887764.095515,
           "variable": "bdv_ur_bean_3crv"
          },
          {
           "timestamp": "2022-08-20T00:00:00",
           "value": 9283207.61521,
           "variable": "bdv_ur_bean"
          },
          {
           "timestamp": "2022-08-20T00:00:00",
           "value": 39812280.18079,
           "variable": "bdv_total"
          },
          {
           "timestamp": "2022-08-21T00:00:00",
           "value": 39855892.850034,
           "variable": "bdv_total"
          },
          {
           "timestamp": "2022-08-21T00:00:00",
           "value": 1196440.802577,
           "variable": "bdv_bean_3crv"
          },
          {
           "timestamp": "2022-08-21T00:00:00",
           "value": 1479122.852064,
           "variable": "bdv_bean"
          },
          {
           "timestamp": "2022-08-21T00:00:00",
           "value": 27900567.094232,
           "variable": "bdv_ur_bean_3crv"
          },
          {
           "timestamp": "2022-08-21T00:00:00",
           "value": 9279762.101161,
           "variable": "bdv_ur_bean"
          },
          {
           "timestamp": "2022-08-22T00:00:00",
           "value": 39878487.793065,
           "variable": "bdv_total"
          },
          {
           "timestamp": "2022-08-22T00:00:00",
           "value": 27922729.822449,
           "variable": "bdv_ur_bean_3crv"
          },
          {
           "timestamp": "2022-08-22T00:00:00",
           "value": 9275962.172207,
           "variable": "bdv_ur_bean"
          },
          {
           "timestamp": "2022-08-22T00:00:00",
           "value": 1478300.200066,
           "variable": "bdv_bean"
          },
          {
           "timestamp": "2022-08-22T00:00:00",
           "value": 1201495.598343,
           "variable": "bdv_bean_3crv"
          },
          {
           "timestamp": "2022-08-23T00:00:00",
           "value": 27935653.681201,
           "variable": "bdv_ur_bean_3crv"
          },
          {
           "timestamp": "2022-08-23T00:00:00",
           "value": 39841389.579848,
           "variable": "bdv_total"
          },
          {
           "timestamp": "2022-08-23T00:00:00",
           "value": 1158579.040741,
           "variable": "bdv_bean_3crv"
          },
          {
           "timestamp": "2022-08-23T00:00:00",
           "value": 9269797.503431,
           "variable": "bdv_ur_bean"
          },
          {
           "timestamp": "2022-08-23T00:00:00",
           "value": 1477359.354475,
           "variable": "bdv_bean"
          },
          {
           "timestamp": "2022-08-24T00:00:00",
           "value": 27940192.710879,
           "variable": "bdv_ur_bean_3crv"
          },
          {
           "timestamp": "2022-08-24T00:00:00",
           "value": 39894820.508675,
           "variable": "bdv_total"
          },
          {
           "timestamp": "2022-08-24T00:00:00",
           "value": 9269837.033207,
           "variable": "bdv_ur_bean"
          },
          {
           "timestamp": "2022-08-24T00:00:00",
           "value": 1525480.632648,
           "variable": "bdv_bean"
          },
          {
           "timestamp": "2022-08-24T00:00:00",
           "value": 1159310.131941,
           "variable": "bdv_bean_3crv"
          },
          {
           "timestamp": "2022-08-25T00:00:00",
           "value": 1161095.58589,
           "variable": "bdv_bean_3crv"
          },
          {
           "timestamp": "2022-08-25T00:00:00",
           "value": 1537007.21747,
           "variable": "bdv_bean"
          },
          {
           "timestamp": "2022-08-25T00:00:00",
           "value": 27932143.064575,
           "variable": "bdv_ur_bean_3crv"
          },
          {
           "timestamp": "2022-08-25T00:00:00",
           "value": 39926616.4265,
           "variable": "bdv_total"
          },
          {
           "timestamp": "2022-08-25T00:00:00",
           "value": 9296370.558565,
           "variable": "bdv_ur_bean"
          },
          {
           "timestamp": "2022-08-26T00:00:00",
           "value": 39946239.013390005,
           "variable": "bdv_total"
          },
          {
           "timestamp": "2022-08-26T00:00:00",
           "value": 1543625.724149,
           "variable": "bdv_bean"
          },
          {
           "timestamp": "2022-08-26T00:00:00",
           "value": 27947618.913166,
           "variable": "bdv_ur_bean_3crv"
          },
          {
           "timestamp": "2022-08-26T00:00:00",
           "value": 1161523.706127,
           "variable": "bdv_bean_3crv"
          },
          {
           "timestamp": "2022-08-26T00:00:00",
           "value": 9293470.669948,
           "variable": "bdv_ur_bean"
          },
          {
           "timestamp": "2022-08-27T00:00:00",
           "value": 39942925.057197,
           "variable": "bdv_total"
          },
          {
           "timestamp": "2022-08-27T00:00:00",
           "value": 1154912.338966,
           "variable": "bdv_bean_3crv"
          },
          {
           "timestamp": "2022-08-27T00:00:00",
           "value": 27951237.246694,
           "variable": "bdv_ur_bean_3crv"
          },
          {
           "timestamp": "2022-08-27T00:00:00",
           "value": 9290168.485159,
           "variable": "bdv_ur_bean"
          },
          {
           "timestamp": "2022-08-27T00:00:00",
           "value": 1546606.986378,
           "variable": "bdv_bean"
          },
          {
           "timestamp": "2022-08-28T00:00:00",
           "value": 1121462.24258,
           "variable": "bdv_bean_3crv"
          },
          {
           "timestamp": "2022-08-28T00:00:00",
           "value": 9354176.311584,
           "variable": "bdv_ur_bean"
          },
          {
           "timestamp": "2022-08-28T00:00:00",
           "value": 27897942.540404,
           "variable": "bdv_ur_bean_3crv"
          },
          {
           "timestamp": "2022-08-28T00:00:00",
           "value": 1530624.442858,
           "variable": "bdv_bean"
          },
          {
           "timestamp": "2022-08-28T00:00:00",
           "value": 39904205.537426,
           "variable": "bdv_total"
          },
          {
           "timestamp": "2022-08-29T00:00:00",
           "value": 9965638.191439,
           "variable": "bdv_ur_bean"
          },
          {
           "timestamp": "2022-08-29T00:00:00",
           "value": 1869121.21492,
           "variable": "bdv_bean"
          },
          {
           "timestamp": "2022-08-29T00:00:00",
           "value": 27901307.415334,
           "variable": "bdv_ur_bean_3crv"
          },
          {
           "timestamp": "2022-08-29T00:00:00",
           "value": 40858333.48333301,
           "variable": "bdv_total"
          },
          {
           "timestamp": "2022-08-29T00:00:00",
           "value": 1122266.66164,
           "variable": "bdv_bean_3crv"
          },
          {
           "timestamp": "2022-08-30T00:00:00",
           "value": 10093639.386828,
           "variable": "bdv_ur_bean"
          },
          {
           "timestamp": "2022-08-30T00:00:00",
           "value": 1846137.292306,
           "variable": "bdv_bean"
          },
          {
           "timestamp": "2022-08-30T00:00:00",
           "value": 27775370.947132,
           "variable": "bdv_ur_bean_3crv"
          },
          {
           "timestamp": "2022-08-30T00:00:00",
           "value": 1122462.63845,
           "variable": "bdv_bean_3crv"
          },
          {
           "timestamp": "2022-08-30T00:00:00",
           "value": 40837610.264716,
           "variable": "bdv_total"
          },
          {
           "timestamp": "2022-08-31T00:00:00",
           "value": 27708893.137275,
           "variable": "bdv_ur_bean_3crv"
          },
          {
           "timestamp": "2022-08-31T00:00:00",
           "value": 40850259.458272,
           "variable": "bdv_total"
          },
          {
           "timestamp": "2022-08-31T00:00:00",
           "value": 1115959.584527,
           "variable": "bdv_bean_3crv"
          },
          {
           "timestamp": "2022-08-31T00:00:00",
           "value": 10178357.942974,
           "variable": "bdv_ur_bean"
          },
          {
           "timestamp": "2022-08-31T00:00:00",
           "value": 1847048.793496,
           "variable": "bdv_bean"
          },
          {
           "timestamp": "2022-09-01T00:00:00",
           "value": 40828282.370543,
           "variable": "bdv_total"
          },
          {
           "timestamp": "2022-09-01T00:00:00",
           "value": 1824474.918117,
           "variable": "bdv_bean"
          },
          {
           "timestamp": "2022-09-01T00:00:00",
           "value": 10222220.177135,
           "variable": "bdv_ur_bean"
          },
          {
           "timestamp": "2022-09-01T00:00:00",
           "value": 27669576.160952,
           "variable": "bdv_ur_bean_3crv"
          },
          {
           "timestamp": "2022-09-01T00:00:00",
           "value": 1112011.114339,
           "variable": "bdv_bean_3crv"
          },
          {
           "timestamp": "2022-09-02T00:00:00",
           "value": 1071574.617053,
           "variable": "bdv_bean_3crv"
          },
          {
           "timestamp": "2022-09-02T00:00:00",
           "value": 1798079.112294,
           "variable": "bdv_bean"
          },
          {
           "timestamp": "2022-09-02T00:00:00",
           "value": 40765756.285696,
           "variable": "bdv_total"
          },
          {
           "timestamp": "2022-09-02T00:00:00",
           "value": 10297594.953546,
           "variable": "bdv_ur_bean"
          },
          {
           "timestamp": "2022-09-02T00:00:00",
           "value": 27598507.602803,
           "variable": "bdv_ur_bean_3crv"
          },
          {
           "timestamp": "2022-09-03T00:00:00",
           "value": 27559993.085273,
           "variable": "bdv_ur_bean_3crv"
          },
          {
           "timestamp": "2022-09-03T00:00:00",
           "value": 10360424.021289,
           "variable": "bdv_ur_bean"
          },
          {
           "timestamp": "2022-09-03T00:00:00",
           "value": 40710937.534698,
           "variable": "bdv_total"
          },
          {
           "timestamp": "2022-09-03T00:00:00",
           "value": 1823631.030456,
           "variable": "bdv_bean"
          },
          {
           "timestamp": "2022-09-03T00:00:00",
           "value": 966889.39768,
           "variable": "bdv_bean_3crv"
          },
          {
           "timestamp": "2022-09-04T00:00:00",
           "value": 1824064.054297,
           "variable": "bdv_bean"
          },
          {
           "timestamp": "2022-09-04T00:00:00",
           "value": 27563746.350397,
           "variable": "bdv_ur_bean_3crv"
          },
          {
           "timestamp": "2022-09-04T00:00:00",
           "value": 10358281.832429,
           "variable": "bdv_ur_bean"
          },
          {
           "timestamp": "2022-09-04T00:00:00",
           "value": 966550.532216,
           "variable": "bdv_bean_3crv"
          },
          {
           "timestamp": "2022-09-04T00:00:00",
           "value": 40712642.769338995,
           "variable": "bdv_total"
          },
          {
           "timestamp": "2022-09-05T00:00:00",
           "value": 40708127.996226005,
           "variable": "bdv_total"
          },
          {
           "timestamp": "2022-09-05T00:00:00",
           "value": 1825477.837294,
           "variable": "bdv_bean"
          },
          {
           "timestamp": "2022-09-05T00:00:00",
           "value": 967060.778585,
           "variable": "bdv_bean_3crv"
          },
          {
           "timestamp": "2022-09-05T00:00:00",
           "value": 27503300.595346,
           "variable": "bdv_ur_bean_3crv"
          },
          {
           "timestamp": "2022-09-05T00:00:00",
           "value": 10412288.785001,
           "variable": "bdv_ur_bean"
          },
          {
           "timestamp": "2022-09-06T00:00:00",
           "value": 10413248.045098,
           "variable": "bdv_ur_bean"
          },
          {
           "timestamp": "2022-09-06T00:00:00",
           "value": 1813063.41317,
           "variable": "bdv_bean"
          },
          {
           "timestamp": "2022-09-06T00:00:00",
           "value": 959485.562375,
           "variable": "bdv_bean_3crv"
          },
          {
           "timestamp": "2022-09-06T00:00:00",
           "value": 40698738.596294,
           "variable": "bdv_total"
          },
          {
           "timestamp": "2022-09-06T00:00:00",
           "value": 27512941.575651,
           "variable": "bdv_ur_bean_3crv"
          },
          {
           "timestamp": "2022-09-07T00:00:00",
           "value": 10506318.112696,
           "variable": "bdv_ur_bean"
          },
          {
           "timestamp": "2022-09-07T00:00:00",
           "value": 27423908.314636,
           "variable": "bdv_ur_bean_3crv"
          },
          {
           "timestamp": "2022-09-07T00:00:00",
           "value": 1811392.005759,
           "variable": "bdv_bean"
          },
          {
           "timestamp": "2022-09-07T00:00:00",
           "value": 957419.559338,
           "variable": "bdv_bean_3crv"
          },
          {
           "timestamp": "2022-09-07T00:00:00",
           "value": 40699037.992428996,
           "variable": "bdv_total"
          },
          {
           "timestamp": "2022-09-08T00:00:00",
           "value": 1807543.553818,
           "variable": "bdv_bean"
          },
          {
           "timestamp": "2022-09-08T00:00:00",
           "value": 40698987.374193996,
           "variable": "bdv_total"
          },
          {
           "timestamp": "2022-09-08T00:00:00",
           "value": 958892.445975,
           "variable": "bdv_bean_3crv"
          },
          {
           "timestamp": "2022-09-08T00:00:00",
           "value": 27330135.355623,
           "variable": "bdv_ur_bean_3crv"
          },
          {
           "timestamp": "2022-09-08T00:00:00",
           "value": 10602416.018778,
           "variable": "bdv_ur_bean"
          },
          {
           "timestamp": "2022-09-09T00:00:00",
           "value": 1806241.242145,
           "variable": "bdv_bean"
          },
          {
           "timestamp": "2022-09-09T00:00:00",
           "value": 958800.559885,
           "variable": "bdv_bean_3crv"
          },
          {
           "timestamp": "2022-09-09T00:00:00",
           "value": 10602808.502553,
           "variable": "bdv_ur_bean"
          },
          {
           "timestamp": "2022-09-09T00:00:00",
           "value": 40698777.635842,
           "variable": "bdv_total"
          },
          {
           "timestamp": "2022-09-09T00:00:00",
           "value": 27330927.331259,
           "variable": "bdv_ur_bean_3crv"
          },
          {
           "timestamp": "2022-09-10T00:00:00",
           "value": 1806806.955044,
           "variable": "bdv_bean"
          },
          {
           "timestamp": "2022-09-10T00:00:00",
           "value": 27331506.427072,
           "variable": "bdv_ur_bean_3crv"
          },
          {
           "timestamp": "2022-09-10T00:00:00",
           "value": 10602662.13899,
           "variable": "bdv_ur_bean"
          },
          {
           "timestamp": "2022-09-10T00:00:00",
           "value": 954124.209763,
           "variable": "bdv_bean_3crv"
          },
          {
           "timestamp": "2022-09-10T00:00:00",
           "value": 40695099.730868995,
           "variable": "bdv_total"
          },
          {
           "timestamp": "2022-09-11T00:00:00",
           "value": 1800204.844083,
           "variable": "bdv_bean"
          },
          {
           "timestamp": "2022-09-11T00:00:00",
           "value": 40697602.889839,
           "variable": "bdv_total"
          },
          {
           "timestamp": "2022-09-11T00:00:00",
           "value": 10606379.852713,
           "variable": "bdv_ur_bean"
          },
          {
           "timestamp": "2022-09-11T00:00:00",
           "value": 27333916.903644,
           "variable": "bdv_ur_bean_3crv"
          },
          {
           "timestamp": "2022-09-11T00:00:00",
           "value": 957101.289399,
           "variable": "bdv_bean_3crv"
          },
          {
           "timestamp": "2022-09-12T00:00:00",
           "value": 27236738.294604,
           "variable": "bdv_ur_bean_3crv"
          },
          {
           "timestamp": "2022-09-12T00:00:00",
           "value": 1768792.095841,
           "variable": "bdv_bean"
          },
          {
           "timestamp": "2022-09-12T00:00:00",
           "value": 10703588.002009,
           "variable": "bdv_ur_bean"
          },
          {
           "timestamp": "2022-09-12T00:00:00",
           "value": 40666919.023678,
           "variable": "bdv_total"
          },
          {
           "timestamp": "2022-09-12T00:00:00",
           "value": 957800.631224,
           "variable": "bdv_bean_3crv"
          },
          {
           "timestamp": "2022-09-13T00:00:00",
           "value": 40677313.340917,
           "variable": "bdv_total"
          },
          {
           "timestamp": "2022-09-13T00:00:00",
           "value": 1765182.276061,
           "variable": "bdv_bean"
          },
          {
           "timestamp": "2022-09-13T00:00:00",
           "value": 27241311.716738,
           "variable": "bdv_ur_bean_3crv"
          },
          {
           "timestamp": "2022-09-13T00:00:00",
           "value": 10702676.687868,
           "variable": "bdv_ur_bean"
          },
          {
           "timestamp": "2022-09-13T00:00:00",
           "value": 968142.66025,
           "variable": "bdv_bean_3crv"
          },
          {
           "timestamp": "2022-09-14T00:00:00",
           "value": 972430.504861,
           "variable": "bdv_bean_3crv"
          },
          {
           "timestamp": "2022-09-14T00:00:00",
           "value": 1765879.508492,
           "variable": "bdv_bean"
          },
          {
           "timestamp": "2022-09-14T00:00:00",
           "value": 10711812.775048,
           "variable": "bdv_ur_bean"
          },
          {
           "timestamp": "2022-09-14T00:00:00",
           "value": 40691557.002684005,
           "variable": "bdv_total"
          },
          {
           "timestamp": "2022-09-14T00:00:00",
           "value": 27241434.214283,
           "variable": "bdv_ur_bean_3crv"
          },
          {
           "timestamp": "2022-09-15T00:00:00",
           "value": 40666685.4074,
           "variable": "bdv_total"
          },
          {
           "timestamp": "2022-09-15T00:00:00",
           "value": 1749056.779966,
           "variable": "bdv_bean"
          },
          {
           "timestamp": "2022-09-15T00:00:00",
           "value": 27241786.304931,
           "variable": "bdv_ur_bean_3crv"
          },
          {
           "timestamp": "2022-09-15T00:00:00",
           "value": 10711966.382379,
           "variable": "bdv_ur_bean"
          },
          {
           "timestamp": "2022-09-15T00:00:00",
           "value": 963875.940124,
           "variable": "bdv_bean_3crv"
          },
          {
           "timestamp": "2022-09-16T00:00:00",
           "value": 27135059.356066,
           "variable": "bdv_ur_bean_3crv"
          },
          {
           "timestamp": "2022-09-16T00:00:00",
           "value": 979257.877419,
           "variable": "bdv_bean_3crv"
          },
          {
           "timestamp": "2022-09-16T00:00:00",
           "value": 10819575.191612,
           "variable": "bdv_ur_bean"
          },
          {
           "timestamp": "2022-09-16T00:00:00",
           "value": 1718192.526212,
           "variable": "bdv_bean"
          },
          {
           "timestamp": "2022-09-16T00:00:00",
           "value": 40652084.951309,
           "variable": "bdv_total"
          },
          {
           "timestamp": "2022-09-17T00:00:00",
           "value": 1718372.868038,
           "variable": "bdv_bean"
          },
          {
           "timestamp": "2022-09-17T00:00:00",
           "value": 27136070.742089,
           "variable": "bdv_ur_bean_3crv"
          },
          {
           "timestamp": "2022-09-17T00:00:00",
           "value": 40652972.26472,
           "variable": "bdv_total"
          },
          {
           "timestamp": "2022-09-17T00:00:00",
           "value": 978223.405491,
           "variable": "bdv_bean_3crv"
          },
          {
           "timestamp": "2022-09-17T00:00:00",
           "value": 10820305.249102,
           "variable": "bdv_ur_bean"
          },
          {
           "timestamp": "2022-09-18T00:00:00",
           "value": 40651785.506719,
           "variable": "bdv_total"
          },
          {
           "timestamp": "2022-09-18T00:00:00",
           "value": 27136635.739098,
           "variable": "bdv_ur_bean_3crv"
          },
          {
           "timestamp": "2022-09-18T00:00:00",
           "value": 1716428.464194,
           "variable": "bdv_bean"
          },
          {
           "timestamp": "2022-09-18T00:00:00",
           "value": 10820159.974364,
           "variable": "bdv_ur_bean"
          },
          {
           "timestamp": "2022-09-18T00:00:00",
           "value": 978561.329063,
           "variable": "bdv_bean_3crv"
          },
          {
           "timestamp": "2022-09-19T00:00:00",
           "value": 26994992.86755,
           "variable": "bdv_ur_bean_3crv"
          },
          {
           "timestamp": "2022-09-19T00:00:00",
           "value": 11018433.95265,
           "variable": "bdv_ur_bean"
          },
          {
           "timestamp": "2022-09-19T00:00:00",
           "value": 586695.696849,
           "variable": "bdv_bean_3crv"
          },
          {
           "timestamp": "2022-09-19T00:00:00",
           "value": 1644795.925996,
           "variable": "bdv_bean"
          },
          {
           "timestamp": "2022-09-19T00:00:00",
           "value": 40244918.443045,
           "variable": "bdv_total"
          },
          {
           "timestamp": "2022-09-20T00:00:00",
           "value": 40239669.026844,
           "variable": "bdv_total"
          },
          {
           "timestamp": "2022-09-20T00:00:00",
           "value": 1637816.743157,
           "variable": "bdv_bean"
          },
          {
           "timestamp": "2022-09-20T00:00:00",
           "value": 26876992.74323,
           "variable": "bdv_ur_bean_3crv"
          },
          {
           "timestamp": "2022-09-20T00:00:00",
           "value": 578337.155602,
           "variable": "bdv_bean_3crv"
          },
          {
           "timestamp": "2022-09-20T00:00:00",
           "value": 11146522.384855,
           "variable": "bdv_ur_bean"
          },
          {
           "timestamp": "2022-09-21T00:00:00",
           "value": 11147734.045563,
           "variable": "bdv_ur_bean"
          },
          {
           "timestamp": "2022-09-21T00:00:00",
           "value": 26877859.931734,
           "variable": "bdv_ur_bean_3crv"
          },
          {
           "timestamp": "2022-09-21T00:00:00",
           "value": 565935.159843,
           "variable": "bdv_bean_3crv"
          },
          {
           "timestamp": "2022-09-21T00:00:00",
           "value": 40236651.798708,
           "variable": "bdv_total"
          },
          {
           "timestamp": "2022-09-21T00:00:00",
           "value": 1645122.661568,
           "variable": "bdv_bean"
          },
          {
           "timestamp": "2022-09-22T00:00:00",
           "value": 26883876.740635,
           "variable": "bdv_ur_bean_3crv"
          },
          {
           "timestamp": "2022-09-22T00:00:00",
           "value": 1639819.622571,
           "variable": "bdv_bean"
          },
          {
           "timestamp": "2022-09-22T00:00:00",
           "value": 565246.881353,
           "variable": "bdv_bean_3crv"
          },
          {
           "timestamp": "2022-09-22T00:00:00",
           "value": 11150636.693134,
           "variable": "bdv_ur_bean"
          },
          {
           "timestamp": "2022-09-22T00:00:00",
           "value": 40239579.937693,
           "variable": "bdv_total"
          },
          {
           "timestamp": "2022-09-23T00:00:00",
           "value": 40240918.258485004,
           "variable": "bdv_total"
          },
          {
           "timestamp": "2022-09-23T00:00:00",
           "value": 1641321.021213,
           "variable": "bdv_bean"
          },
          {
           "timestamp": "2022-09-23T00:00:00",
           "value": 26884892.04134,
           "variable": "bdv_ur_bean_3crv"
          },
          {
           "timestamp": "2022-09-23T00:00:00",
           "value": 11152045.824744,
           "variable": "bdv_ur_bean"
          },
          {
           "timestamp": "2022-09-23T00:00:00",
           "value": 562659.371188,
           "variable": "bdv_bean_3crv"
          },
          {
           "timestamp": "2022-09-24T00:00:00",
           "value": 561429.545312,
           "variable": "bdv_bean_3crv"
          },
          {
           "timestamp": "2022-09-24T00:00:00",
           "value": 1639569.161322,
           "variable": "bdv_bean"
          },
          {
           "timestamp": "2022-09-24T00:00:00",
           "value": 11150615.933001,
           "variable": "bdv_ur_bean"
          },
          {
           "timestamp": "2022-09-24T00:00:00",
           "value": 26885663.591763,
           "variable": "bdv_ur_bean_3crv"
          },
          {
           "timestamp": "2022-09-24T00:00:00",
           "value": 40237278.231398,
           "variable": "bdv_total"
          },
          {
           "timestamp": "2022-09-25T00:00:00",
           "value": 560431.769231,
           "variable": "bdv_bean_3crv"
          },
          {
           "timestamp": "2022-09-25T00:00:00",
           "value": 40236695.541751996,
           "variable": "bdv_total"
          },
          {
           "timestamp": "2022-09-25T00:00:00",
           "value": 1639569.161322,
           "variable": "bdv_bean"
          },
          {
           "timestamp": "2022-09-25T00:00:00",
           "value": 11152952.936443,
           "variable": "bdv_ur_bean"
          },
          {
           "timestamp": "2022-09-25T00:00:00",
           "value": 26883741.674756,
           "variable": "bdv_ur_bean_3crv"
          },
          {
           "timestamp": "2022-09-26T00:00:00",
           "value": 40248226.667543,
           "variable": "bdv_total"
          },
          {
           "timestamp": "2022-09-26T00:00:00",
           "value": 1639180.91436,
           "variable": "bdv_bean"
          },
          {
           "timestamp": "2022-09-26T00:00:00",
           "value": 26895658.607365,
           "variable": "bdv_ur_bean_3crv"
          },
          {
           "timestamp": "2022-09-26T00:00:00",
           "value": 560259.398957,
           "variable": "bdv_bean_3crv"
          },
          {
           "timestamp": "2022-09-26T00:00:00",
           "value": 11153127.746861,
           "variable": "bdv_ur_bean"
          },
          {
           "timestamp": "2022-09-27T00:00:00",
           "value": 26896591.761799,
           "variable": "bdv_ur_bean_3crv"
          },
          {
           "timestamp": "2022-09-27T00:00:00",
           "value": 544194.325156,
           "variable": "bdv_bean_3crv"
          },
          {
           "timestamp": "2022-09-27T00:00:00",
           "value": 11153129.696953,
           "variable": "bdv_ur_bean"
          },
          {
           "timestamp": "2022-09-27T00:00:00",
           "value": 1634592.510988,
           "variable": "bdv_bean"
          },
          {
           "timestamp": "2022-09-27T00:00:00",
           "value": 40228508.294896,
           "variable": "bdv_total"
          },
          {
           "timestamp": "2022-09-28T00:00:00",
           "value": 11203371.524525,
           "variable": "bdv_ur_bean"
          },
          {
           "timestamp": "2022-09-28T00:00:00",
           "value": 1632184.190682,
           "variable": "bdv_bean"
          },
          {
           "timestamp": "2022-09-28T00:00:00",
           "value": 26849264.274623,
           "variable": "bdv_ur_bean_3crv"
          },
          {
           "timestamp": "2022-09-28T00:00:00",
           "value": 538216.535528,
           "variable": "bdv_bean_3crv"
          },
          {
           "timestamp": "2022-09-28T00:00:00",
           "value": 40223036.525358,
           "variable": "bdv_total"
          },
          {
           "timestamp": "2022-09-29T00:00:00",
           "value": 11203526.189489,
           "variable": "bdv_ur_bean"
          },
          {
           "timestamp": "2022-09-29T00:00:00",
           "value": 40227518.2545,
           "variable": "bdv_total"
          },
          {
           "timestamp": "2022-09-29T00:00:00",
           "value": 548294.298409,
           "variable": "bdv_bean_3crv"
          },
          {
           "timestamp": "2022-09-29T00:00:00",
           "value": 1621658.58823,
           "variable": "bdv_bean"
          },
          {
           "timestamp": "2022-09-29T00:00:00",
           "value": 26854039.178372,
           "variable": "bdv_ur_bean_3crv"
          },
          {
           "timestamp": "2022-09-30T00:00:00",
           "value": 547968.175765,
           "variable": "bdv_bean_3crv"
          },
          {
           "timestamp": "2022-09-30T00:00:00",
           "value": 26855000.561785,
           "variable": "bdv_ur_bean_3crv"
          },
          {
           "timestamp": "2022-09-30T00:00:00",
           "value": 11195423.937177,
           "variable": "bdv_ur_bean"
          },
          {
           "timestamp": "2022-09-30T00:00:00",
           "value": 1603104.422717,
           "variable": "bdv_bean"
          },
          {
           "timestamp": "2022-09-30T00:00:00",
           "value": 40201497.097444,
           "variable": "bdv_total"
          },
          {
           "timestamp": "2022-10-01T00:00:00",
           "value": 1467352.599158,
           "variable": "bdv_bean"
          },
          {
           "timestamp": "2022-10-01T00:00:00",
           "value": 26854862.951949,
           "variable": "bdv_ur_bean_3crv"
          },
          {
           "timestamp": "2022-10-01T00:00:00",
           "value": 547012.605321,
           "variable": "bdv_bean_3crv"
          },
          {
           "timestamp": "2022-10-01T00:00:00",
           "value": 11195460.744677,
           "variable": "bdv_ur_bean"
          },
          {
           "timestamp": "2022-10-01T00:00:00",
           "value": 40064688.901104994,
           "variable": "bdv_total"
          },
          {
           "timestamp": "2022-10-02T00:00:00",
           "value": 40070844.369166,
           "variable": "bdv_total"
          },
          {
           "timestamp": "2022-10-02T00:00:00",
           "value": 1456983.286596,
           "variable": "bdv_bean"
          },
          {
           "timestamp": "2022-10-02T00:00:00",
           "value": 11195521.080287,
           "variable": "bdv_ur_bean"
          },
          {
           "timestamp": "2022-10-02T00:00:00",
           "value": 26869482.373801,
           "variable": "bdv_ur_bean_3crv"
          },
          {
           "timestamp": "2022-10-02T00:00:00",
           "value": 548857.628482,
           "variable": "bdv_bean_3crv"
          },
          {
           "timestamp": "2022-10-03T00:00:00",
           "value": 39968982.195875004,
           "variable": "bdv_total"
          },
          {
           "timestamp": "2022-10-03T00:00:00",
           "value": 1454710.933563,
           "variable": "bdv_bean"
          },
          {
           "timestamp": "2022-10-03T00:00:00",
           "value": 440634.865529,
           "variable": "bdv_bean_3crv"
          },
          {
           "timestamp": "2022-10-03T00:00:00",
           "value": 11197899.670117,
           "variable": "bdv_ur_bean"
          },
          {
           "timestamp": "2022-10-03T00:00:00",
           "value": 26875736.726666,
           "variable": "bdv_ur_bean_3crv"
          },
          {
           "timestamp": "2022-10-04T00:00:00",
           "value": 1444711.434615,
           "variable": "bdv_bean"
          },
          {
           "timestamp": "2022-10-04T00:00:00",
           "value": 433451.447705,
           "variable": "bdv_bean_3crv"
          },
          {
           "timestamp": "2022-10-04T00:00:00",
           "value": 39956924.314489,
           "variable": "bdv_total"
          },
          {
           "timestamp": "2022-10-04T00:00:00",
           "value": 26873808.710026,
           "variable": "bdv_ur_bean_3crv"
          },
          {
           "timestamp": "2022-10-04T00:00:00",
           "value": 11204952.722143,
           "variable": "bdv_ur_bean"
          },
          {
           "timestamp": "2022-10-05T00:00:00",
           "value": 432511.555614,
           "variable": "bdv_bean_3crv"
          },
          {
           "timestamp": "2022-10-05T00:00:00",
           "value": 1439390.018124,
           "variable": "bdv_bean"
          },
          {
           "timestamp": "2022-10-05T00:00:00",
           "value": 11206806.166491,
           "variable": "bdv_ur_bean"
          },
          {
           "timestamp": "2022-10-05T00:00:00",
           "value": 39962899.987182,
           "variable": "bdv_total"
          },
          {
           "timestamp": "2022-10-05T00:00:00",
           "value": 26884192.246953,
           "variable": "bdv_ur_bean_3crv"
          },
          {
           "timestamp": "2022-10-06T00:00:00",
           "value": 39957257.263578,
           "variable": "bdv_total"
          },
          {
           "timestamp": "2022-10-06T00:00:00",
           "value": 26884462.993928,
           "variable": "bdv_ur_bean_3crv"
          },
          {
           "timestamp": "2022-10-06T00:00:00",
           "value": 1437866.029783,
           "variable": "bdv_bean"
          },
          {
           "timestamp": "2022-10-06T00:00:00",
           "value": 11206840.548418,
           "variable": "bdv_ur_bean"
          },
          {
           "timestamp": "2022-10-06T00:00:00",
           "value": 428087.691449,
           "variable": "bdv_bean_3crv"
          },
          {
           "timestamp": "2022-10-07T00:00:00",
           "value": 427684.51106,
           "variable": "bdv_bean_3crv"
          },
          {
           "timestamp": "2022-10-07T00:00:00",
           "value": 11960744.904798,
           "variable": "bdv_ur_bean"
          },
          {
           "timestamp": "2022-10-07T00:00:00",
           "value": 40596297.97124,
           "variable": "bdv_total"
          },
          {
           "timestamp": "2022-10-07T00:00:00",
           "value": 26139551.207813,
           "variable": "bdv_ur_bean_3crv"
          },
          {
           "timestamp": "2022-10-07T00:00:00",
           "value": 2068317.347569,
           "variable": "bdv_bean"
          },
          {
           "timestamp": "2022-10-08T00:00:00",
           "value": 40596715.826813,
           "variable": "bdv_total"
          },
          {
           "timestamp": "2022-10-08T00:00:00",
           "value": 427684.51106,
           "variable": "bdv_bean_3crv"
          },
          {
           "timestamp": "2022-10-08T00:00:00",
           "value": 11960377.647119,
           "variable": "bdv_ur_bean"
          },
          {
           "timestamp": "2022-10-08T00:00:00",
           "value": 26140001.258455,
           "variable": "bdv_ur_bean_3crv"
          },
          {
           "timestamp": "2022-10-08T00:00:00",
           "value": 2068652.410179,
           "variable": "bdv_bean"
          },
          {
           "timestamp": "2022-10-09T00:00:00",
           "value": 427684.51106,
           "variable": "bdv_bean_3crv"
          },
          {
           "timestamp": "2022-10-09T00:00:00",
           "value": 11995729.334178,
           "variable": "bdv_ur_bean"
          },
          {
           "timestamp": "2022-10-09T00:00:00",
           "value": 40597675.319777004,
           "variable": "bdv_total"
          },
          {
           "timestamp": "2022-10-09T00:00:00",
           "value": 26105571.48144,
           "variable": "bdv_ur_bean_3crv"
          },
          {
           "timestamp": "2022-10-09T00:00:00",
           "value": 2068689.993099,
           "variable": "bdv_bean"
          },
          {
           "timestamp": "2022-10-10T00:00:00",
           "value": 40594633.000048,
           "variable": "bdv_total"
          },
          {
           "timestamp": "2022-10-10T00:00:00",
           "value": 2066074.4745,
           "variable": "bdv_bean"
          },
          {
           "timestamp": "2022-10-10T00:00:00",
           "value": 26103783.779006,
           "variable": "bdv_ur_bean_3crv"
          },
          {
           "timestamp": "2022-10-10T00:00:00",
           "value": 427684.51106,
           "variable": "bdv_bean_3crv"
          },
          {
           "timestamp": "2022-10-10T00:00:00",
           "value": 11997090.235482,
           "variable": "bdv_ur_bean"
          },
          {
           "timestamp": "2022-10-11T00:00:00",
           "value": 420995.973557,
           "variable": "bdv_bean_3crv"
          },
          {
           "timestamp": "2022-10-11T00:00:00",
           "value": 12065876.169916,
           "variable": "bdv_ur_bean"
          },
          {
           "timestamp": "2022-10-11T00:00:00",
           "value": 26035055.999725,
           "variable": "bdv_ur_bean_3crv"
          },
          {
           "timestamp": "2022-10-11T00:00:00",
           "value": 2073798.182858,
           "variable": "bdv_bean"
          },
          {
           "timestamp": "2022-10-11T00:00:00",
           "value": 40595726.326055996,
           "variable": "bdv_total"
          },
          {
           "timestamp": "2022-10-12T00:00:00",
           "value": 40607112.783098996,
           "variable": "bdv_total"
          },
          {
           "timestamp": "2022-10-12T00:00:00",
           "value": 26035284.337968,
           "variable": "bdv_ur_bean_3crv"
          },
          {
           "timestamp": "2022-10-12T00:00:00",
           "value": 431419.560714,
           "variable": "bdv_bean_3crv"
          },
          {
           "timestamp": "2022-10-12T00:00:00",
           "value": 2074452.783623,
           "variable": "bdv_bean"
          },
          {
           "timestamp": "2022-10-12T00:00:00",
           "value": 12065956.100794,
           "variable": "bdv_ur_bean"
          },
          {
           "timestamp": "2022-10-13T00:00:00",
           "value": 26029754.052537,
           "variable": "bdv_ur_bean_3crv"
          },
          {
           "timestamp": "2022-10-13T00:00:00",
           "value": 2074809.293388,
           "variable": "bdv_bean"
          },
          {
           "timestamp": "2022-10-13T00:00:00",
           "value": 431419.560714,
           "variable": "bdv_bean_3crv"
          },
          {
           "timestamp": "2022-10-13T00:00:00",
           "value": 40607469.292864,
           "variable": "bdv_total"
          },
          {
           "timestamp": "2022-10-13T00:00:00",
           "value": 12071486.386225,
           "variable": "bdv_ur_bean"
          },
          {
           "timestamp": "2022-10-14T00:00:00",
           "value": 12102446.115516,
           "variable": "bdv_ur_bean"
          },
          {
           "timestamp": "2022-10-14T00:00:00",
           "value": 432189.031293,
           "variable": "bdv_bean_3crv"
          },
          {
           "timestamp": "2022-10-14T00:00:00",
           "value": 2068118.519622,
           "variable": "bdv_bean"
          },
          {
           "timestamp": "2022-10-14T00:00:00",
           "value": 26000550.134157,
           "variable": "bdv_ur_bean_3crv"
          },
          {
           "timestamp": "2022-10-14T00:00:00",
           "value": 40603303.800588,
           "variable": "bdv_total"
          },
          {
           "timestamp": "2022-10-15T00:00:00",
           "value": 40604958.092815004,
           "variable": "bdv_total"
          },
          {
           "timestamp": "2022-10-15T00:00:00",
           "value": 25979940.759138,
           "variable": "bdv_ur_bean_3crv"
          },
          {
           "timestamp": "2022-10-15T00:00:00",
           "value": 432221.978743,
           "variable": "bdv_bean_3crv"
          },
          {
           "timestamp": "2022-10-15T00:00:00",
           "value": 12123009.101058,
           "variable": "bdv_ur_bean"
          },
          {
           "timestamp": "2022-10-15T00:00:00",
           "value": 2069786.253876,
           "variable": "bdv_bean"
          },
          {
           "timestamp": "2022-10-16T00:00:00",
           "value": 2045960.566035,
           "variable": "bdv_bean"
          },
          {
           "timestamp": "2022-10-16T00:00:00",
           "value": 432356.9656,
           "variable": "bdv_bean_3crv"
          },
          {
           "timestamp": "2022-10-16T00:00:00",
           "value": 40566869.854084,
           "variable": "bdv_total"
          },
          {
           "timestamp": "2022-10-16T00:00:00",
           "value": 12123135.777302,
           "variable": "bdv_ur_bean"
          },
          {
           "timestamp": "2022-10-16T00:00:00",
           "value": 25965416.545147,
           "variable": "bdv_ur_bean_3crv"
          },
          {
           "timestamp": "2022-10-17T00:00:00",
           "value": 25884087.242453,
           "variable": "bdv_ur_bean_3crv"
          },
          {
           "timestamp": "2022-10-17T00:00:00",
           "value": 432858.86311,
           "variable": "bdv_bean_3crv"
          },
          {
           "timestamp": "2022-10-17T00:00:00",
           "value": 12209020.360492,
           "variable": "bdv_ur_bean"
          },
          {
           "timestamp": "2022-10-17T00:00:00",
           "value": 40562429.825593,
           "variable": "bdv_total"
          },
          {
           "timestamp": "2022-10-17T00:00:00",
           "value": 2036463.359538,
           "variable": "bdv_bean"
          },
          {
           "timestamp": "2022-10-18T00:00:00",
           "value": 25885030.733377,
           "variable": "bdv_ur_bean_3crv"
          },
          {
           "timestamp": "2022-10-18T00:00:00",
           "value": 12208561.588147,
           "variable": "bdv_ur_bean"
          },
          {
           "timestamp": "2022-10-18T00:00:00",
           "value": 432459.686598,
           "variable": "bdv_bean_3crv"
          },
          {
           "timestamp": "2022-10-18T00:00:00",
           "value": 2034049.136847,
           "variable": "bdv_bean"
          },
          {
           "timestamp": "2022-10-18T00:00:00",
           "value": 40560101.144969,
           "variable": "bdv_total"
          },
          {
           "timestamp": "2022-10-19T00:00:00",
           "value": 40561662.347027,
           "variable": "bdv_total"
          },
          {
           "timestamp": "2022-10-19T00:00:00",
           "value": 2033916.559479,
           "variable": "bdv_bean"
          },
          {
           "timestamp": "2022-10-19T00:00:00",
           "value": 432164.049149,
           "variable": "bdv_bean_3crv"
          },
          {
           "timestamp": "2022-10-19T00:00:00",
           "value": 12219235.956456,
           "variable": "bdv_ur_bean"
          },
          {
           "timestamp": "2022-10-19T00:00:00",
           "value": 25876345.781943,
           "variable": "bdv_ur_bean_3crv"
          },
          {
           "timestamp": "2022-10-20T00:00:00",
           "value": 12258688.119723,
           "variable": "bdv_ur_bean"
          },
          {
           "timestamp": "2022-10-20T00:00:00",
           "value": 432099.431961,
           "variable": "bdv_bean_3crv"
          },
          {
           "timestamp": "2022-10-20T00:00:00",
           "value": 25837157.330431,
           "variable": "bdv_ur_bean_3crv"
          },
          {
           "timestamp": "2022-10-20T00:00:00",
           "value": 40563445.743447,
           "variable": "bdv_total"
          },
          {
           "timestamp": "2022-10-20T00:00:00",
           "value": 2035500.861332,
           "variable": "bdv_bean"
          },
          {
           "timestamp": "2022-10-21T00:00:00",
           "value": 40582004.515139,
           "variable": "bdv_total"
          },
          {
           "timestamp": "2022-10-21T00:00:00",
           "value": 2053018.080383,
           "variable": "bdv_bean"
          },
          {
           "timestamp": "2022-10-21T00:00:00",
           "value": 433100.222813,
           "variable": "bdv_bean_3crv"
          },
          {
           "timestamp": "2022-10-21T00:00:00",
           "value": 12258081.208353,
           "variable": "bdv_ur_bean"
          },
          {
           "timestamp": "2022-10-21T00:00:00",
           "value": 25837805.00359,
           "variable": "bdv_ur_bean_3crv"
          },
          {
           "timestamp": "2022-10-22T00:00:00",
           "value": 2054831.061525,
           "variable": "bdv_bean"
          },
          {
           "timestamp": "2022-10-22T00:00:00",
           "value": 12265873.706651,
           "variable": "bdv_ur_bean"
          },
          {
           "timestamp": "2022-10-22T00:00:00",
           "value": 40577142.304378,
           "variable": "bdv_total"
          },
          {
           "timestamp": "2022-10-22T00:00:00",
           "value": 426346.095697,
           "variable": "bdv_bean_3crv"
          },
          {
           "timestamp": "2022-10-22T00:00:00",
           "value": 25830091.440505,
           "variable": "bdv_ur_bean_3crv"
          },
          {
           "timestamp": "2022-10-23T00:00:00",
           "value": 40577590.061938,
           "variable": "bdv_total"
          },
          {
           "timestamp": "2022-10-23T00:00:00",
           "value": 12292856.689526,
           "variable": "bdv_ur_bean"
          },
          {
           "timestamp": "2022-10-23T00:00:00",
           "value": 25803220.767381,
           "variable": "bdv_ur_bean_3crv"
          },
          {
           "timestamp": "2022-10-23T00:00:00",
           "value": 426707.367374,
           "variable": "bdv_bean_3crv"
          },
          {
           "timestamp": "2022-10-23T00:00:00",
           "value": 2054805.237657,
           "variable": "bdv_bean"
          },
          {
           "timestamp": "2022-10-24T00:00:00",
           "value": 2052562.46066,
           "variable": "bdv_bean"
          },
          {
           "timestamp": "2022-10-24T00:00:00",
           "value": 25808988.880628,
           "variable": "bdv_ur_bean_3crv"
          },
          {
           "timestamp": "2022-10-24T00:00:00",
           "value": 40579423.545079,
           "variable": "bdv_total"
          },
          {
           "timestamp": "2022-10-24T00:00:00",
           "value": 12287374.448539,
           "variable": "bdv_ur_bean"
          },
          {
           "timestamp": "2022-10-24T00:00:00",
           "value": 430497.755252,
           "variable": "bdv_bean_3crv"
          },
          {
           "timestamp": "2022-10-25T00:00:00",
           "value": 433651.727737,
           "variable": "bdv_bean_3crv"
          },
          {
           "timestamp": "2022-10-25T00:00:00",
           "value": 12286509.764001,
           "variable": "bdv_ur_bean"
          },
          {
           "timestamp": "2022-10-25T00:00:00",
           "value": 2058548.183769,
           "variable": "bdv_bean"
          },
          {
           "timestamp": "2022-10-25T00:00:00",
           "value": 40599436.686119996,
           "variable": "bdv_total"
          },
          {
           "timestamp": "2022-10-25T00:00:00",
           "value": 25820727.010613,
           "variable": "bdv_ur_bean_3crv"
          },
          {
           "timestamp": "2022-10-26T00:00:00",
           "value": 40618689.94525801,
           "variable": "bdv_total"
          },
          {
           "timestamp": "2022-10-26T00:00:00",
           "value": 12271427.506805,
           "variable": "bdv_ur_bean"
          },
          {
           "timestamp": "2022-10-26T00:00:00",
           "value": 2068295.378555,
           "variable": "bdv_bean"
          },
          {
           "timestamp": "2022-10-26T00:00:00",
           "value": 442856.402266,
           "variable": "bdv_bean_3crv"
          },
          {
           "timestamp": "2022-10-26T00:00:00",
           "value": 25836110.657632,
           "variable": "bdv_ur_bean_3crv"
          },
          {
           "timestamp": "2022-10-27T00:00:00",
           "value": 40636275.384033,
           "variable": "bdv_total"
          },
          {
           "timestamp": "2022-10-27T00:00:00",
           "value": 444517.04381,
           "variable": "bdv_bean_3crv"
          },
          {
           "timestamp": "2022-10-27T00:00:00",
           "value": 12315300.380665,
           "variable": "bdv_ur_bean"
          },
          {
           "timestamp": "2022-10-27T00:00:00",
           "value": 2076434.643161,
           "variable": "bdv_bean"
          },
          {
           "timestamp": "2022-10-27T00:00:00",
           "value": 25800023.316397,
           "variable": "bdv_ur_bean_3crv"
          },
          {
           "timestamp": "2022-10-28T00:00:00",
           "value": 12317666.9719,
           "variable": "bdv_ur_bean"
          },
          {
           "timestamp": "2022-10-28T00:00:00",
           "value": 40699017.957629,
           "variable": "bdv_total"
          },
          {
           "timestamp": "2022-10-28T00:00:00",
           "value": 25849774.898543,
           "variable": "bdv_ur_bean_3crv"
          },
          {
           "timestamp": "2022-10-28T00:00:00",
           "value": 446207.51672,
           "variable": "bdv_bean_3crv"
          },
          {
           "timestamp": "2022-10-28T00:00:00",
           "value": 2085368.570466,
           "variable": "bdv_bean"
          },
          {
           "timestamp": "2022-10-29T00:00:00",
           "value": 40755099.897229,
           "variable": "bdv_total"
          },
          {
           "timestamp": "2022-10-29T00:00:00",
           "value": 12403895.933897,
           "variable": "bdv_ur_bean"
          },
          {
           "timestamp": "2022-10-29T00:00:00",
           "value": 25763773.383214,
           "variable": "bdv_ur_bean_3crv"
          },
          {
           "timestamp": "2022-10-29T00:00:00",
           "value": 2112174.383756,
           "variable": "bdv_bean"
          },
          {
           "timestamp": "2022-10-29T00:00:00",
           "value": 475256.196362,
           "variable": "bdv_bean_3crv"
          },
          {
           "timestamp": "2022-10-30T00:00:00",
           "value": 12391059.430634,
           "variable": "bdv_ur_bean"
          },
          {
           "timestamp": "2022-10-30T00:00:00",
           "value": 477341.475735,
           "variable": "bdv_bean_3crv"
          },
          {
           "timestamp": "2022-10-30T00:00:00",
           "value": 25801520.710585,
           "variable": "bdv_ur_bean_3crv"
          },
          {
           "timestamp": "2022-10-30T00:00:00",
           "value": 2123178.040287,
           "variable": "bdv_bean"
          },
          {
           "timestamp": "2022-10-30T00:00:00",
           "value": 40793099.657241,
           "variable": "bdv_total"
          },
          {
           "timestamp": "2022-10-31T00:00:00",
           "value": 40790747.178227,
           "variable": "bdv_total"
          },
          {
           "timestamp": "2022-10-31T00:00:00",
           "value": 478768.048177,
           "variable": "bdv_bean_3crv"
          },
          {
           "timestamp": "2022-10-31T00:00:00",
           "value": 25707726.982806,
           "variable": "bdv_ur_bean_3crv"
          },
          {
           "timestamp": "2022-10-31T00:00:00",
           "value": 12489638.256806,
           "variable": "bdv_ur_bean"
          },
          {
           "timestamp": "2022-10-31T00:00:00",
           "value": 2114613.890438,
           "variable": "bdv_bean"
          },
          {
           "timestamp": "2022-11-01T00:00:00",
           "value": 2137146.99016,
           "variable": "bdv_bean"
          },
          {
           "timestamp": "2022-11-01T00:00:00",
           "value": 12501799.469241,
           "variable": "bdv_ur_bean"
          },
          {
           "timestamp": "2022-11-01T00:00:00",
           "value": 25678065.385471,
           "variable": "bdv_ur_bean_3crv"
          },
          {
           "timestamp": "2022-11-01T00:00:00",
           "value": 40811749.87212,
           "variable": "bdv_total"
          },
          {
           "timestamp": "2022-11-01T00:00:00",
           "value": 494738.027248,
           "variable": "bdv_bean_3crv"
          },
          {
           "timestamp": "2022-11-02T00:00:00",
           "value": 40851143.987682,
           "variable": "bdv_total"
          },
          {
           "timestamp": "2022-11-02T00:00:00",
           "value": 531198.016448,
           "variable": "bdv_bean_3crv"
          },
          {
           "timestamp": "2022-11-02T00:00:00",
           "value": 12542588.557877,
           "variable": "bdv_ur_bean"
          },
          {
           "timestamp": "2022-11-02T00:00:00",
           "value": 25641808.033356,
           "variable": "bdv_ur_bean_3crv"
          },
          {
           "timestamp": "2022-11-02T00:00:00",
           "value": 2135549.380001,
           "variable": "bdv_bean"
          },
          {
           "timestamp": "2022-11-03T00:00:00",
           "value": 2139336.39416,
           "variable": "bdv_bean"
          },
          {
           "timestamp": "2022-11-03T00:00:00",
           "value": 12597495.254933,
           "variable": "bdv_ur_bean"
          },
          {
           "timestamp": "2022-11-03T00:00:00",
           "value": 25588749.19793,
           "variable": "bdv_ur_bean_3crv"
          },
          {
           "timestamp": "2022-11-03T00:00:00",
           "value": 534455.260064,
           "variable": "bdv_bean_3crv"
          },
          {
           "timestamp": "2022-11-03T00:00:00",
           "value": 40860036.107087,
           "variable": "bdv_total"
          },
          {
           "timestamp": "2022-11-04T00:00:00",
           "value": 40994579.407563,
           "variable": "bdv_total"
          },
          {
           "timestamp": "2022-11-04T00:00:00",
           "value": 25638176.48636,
           "variable": "bdv_ur_bean_3crv"
          },
          {
           "timestamp": "2022-11-04T00:00:00",
           "value": 12594664.536726,
           "variable": "bdv_ur_bean"
          },
          {
           "timestamp": "2022-11-04T00:00:00",
           "value": 2151352.483797,
           "variable": "bdv_bean"
          },
          {
           "timestamp": "2022-11-04T00:00:00",
           "value": 610385.90068,
           "variable": "bdv_bean_3crv"
          },
          {
           "timestamp": "2022-11-05T00:00:00",
           "value": 41030435.955276,
           "variable": "bdv_total"
          },
          {
           "timestamp": "2022-11-05T00:00:00",
           "value": 575618.740681,
           "variable": "bdv_bean_3crv"
          },
          {
           "timestamp": "2022-11-05T00:00:00",
           "value": 12642828.789454,
           "variable": "bdv_ur_bean"
          },
          {
           "timestamp": "2022-11-05T00:00:00",
           "value": 25591541.443193,
           "variable": "bdv_ur_bean_3crv"
          },
          {
           "timestamp": "2022-11-05T00:00:00",
           "value": 2220446.981948,
           "variable": "bdv_bean"
          },
          {
           "timestamp": "2022-11-06T00:00:00",
           "value": 2268524.37042,
           "variable": "bdv_bean"
          },
          {
           "timestamp": "2022-11-06T00:00:00",
           "value": 12665834.039245,
           "variable": "bdv_ur_bean"
          },
          {
           "timestamp": "2022-11-06T00:00:00",
           "value": 25570139.088915,
           "variable": "bdv_ur_bean_3crv"
          },
          {
           "timestamp": "2022-11-06T00:00:00",
           "value": 578468.513865,
           "variable": "bdv_bean_3crv"
          },
          {
           "timestamp": "2022-11-06T00:00:00",
           "value": 41082966.012445,
           "variable": "bdv_total"
          },
          {
           "timestamp": "2022-11-07T00:00:00",
           "value": 12666308.568976,
           "variable": "bdv_ur_bean"
          },
          {
           "timestamp": "2022-11-07T00:00:00",
           "value": 581381.9226,
           "variable": "bdv_bean_3crv"
          },
          {
           "timestamp": "2022-11-07T00:00:00",
           "value": 2300263.63048,
           "variable": "bdv_bean"
          },
          {
           "timestamp": "2022-11-07T00:00:00",
           "value": 25574815.556362,
           "variable": "bdv_ur_bean_3crv"
          },
          {
           "timestamp": "2022-11-07T00:00:00",
           "value": 41122769.678417996,
           "variable": "bdv_total"
          },
          {
           "timestamp": "2022-11-08T00:00:00",
           "value": 25528048.472961,
           "variable": "bdv_ur_bean_3crv"
          },
          {
           "timestamp": "2022-11-08T00:00:00",
           "value": 2292708.819588,
           "variable": "bdv_bean"
          },
          {
           "timestamp": "2022-11-08T00:00:00",
           "value": 12704273.463759,
           "variable": "bdv_ur_bean"
          },
          {
           "timestamp": "2022-11-08T00:00:00",
           "value": 585271.876448,
           "variable": "bdv_bean_3crv"
          },
          {
           "timestamp": "2022-11-08T00:00:00",
           "value": 41110302.632756,
           "variable": "bdv_total"
          },
          {
           "timestamp": "2022-11-09T00:00:00",
           "value": 41082603.179636,
           "variable": "bdv_total"
          },
          {
           "timestamp": "2022-11-09T00:00:00",
           "value": 12693125.333749,
           "variable": "bdv_ur_bean"
          },
          {
           "timestamp": "2022-11-09T00:00:00",
           "value": 580426.399342,
           "variable": "bdv_bean_3crv"
          },
          {
           "timestamp": "2022-11-09T00:00:00",
           "value": 2268561.644176,
           "variable": "bdv_bean"
          },
          {
           "timestamp": "2022-11-09T00:00:00",
           "value": 25540489.802369,
           "variable": "bdv_ur_bean_3crv"
          },
          {
           "timestamp": "2022-11-10T00:00:00",
           "value": 2253924.892823,
           "variable": "bdv_bean"
          },
          {
           "timestamp": "2022-11-10T00:00:00",
           "value": 41109000.054579,
           "variable": "bdv_total"
          },
          {
           "timestamp": "2022-11-10T00:00:00",
           "value": 581980.794778,
           "variable": "bdv_bean_3crv"
          },
          {
           "timestamp": "2022-11-10T00:00:00",
           "value": 12809971.624526,
           "variable": "bdv_ur_bean"
          },
          {
           "timestamp": "2022-11-10T00:00:00",
           "value": 25463122.742452,
           "variable": "bdv_ur_bean_3crv"
          },
          {
           "timestamp": "2022-11-11T00:00:00",
           "value": 41202292.590216,
           "variable": "bdv_total"
          },
          {
           "timestamp": "2022-11-11T00:00:00",
           "value": 2331744.401572,
           "variable": "bdv_bean"
          },
          {
           "timestamp": "2022-11-11T00:00:00",
           "value": 12857158.811491,
           "variable": "bdv_ur_bean"
          },
          {
           "timestamp": "2022-11-11T00:00:00",
           "value": 25439754.148957,
           "variable": "bdv_ur_bean_3crv"
          },
          {
           "timestamp": "2022-11-11T00:00:00",
           "value": 573635.228196,
           "variable": "bdv_bean_3crv"
          },
          {
           "timestamp": "2022-11-12T00:00:00",
           "value": 573140.848731,
           "variable": "bdv_bean_3crv"
          },
          {
           "timestamp": "2022-11-12T00:00:00",
           "value": 12944403.400524,
           "variable": "bdv_ur_bean"
          },
          {
           "timestamp": "2022-11-12T00:00:00",
           "value": 25357882.046145,
           "variable": "bdv_ur_bean_3crv"
          },
          {
           "timestamp": "2022-11-12T00:00:00",
           "value": 41190793.500981,
           "variable": "bdv_total"
          },
          {
           "timestamp": "2022-11-12T00:00:00",
           "value": 2315367.205581,
           "variable": "bdv_bean"
          },
          {
           "timestamp": "2022-11-13T00:00:00",
           "value": 41221383.25826,
           "variable": "bdv_total"
          },
          {
           "timestamp": "2022-11-13T00:00:00",
           "value": 573922.651287,
           "variable": "bdv_bean_3crv"
          },
          {
           "timestamp": "2022-11-13T00:00:00",
           "value": 12964726.424026,
           "variable": "bdv_ur_bean"
          },
          {
           "timestamp": "2022-11-13T00:00:00",
           "value": 25337591.168128,
           "variable": "bdv_ur_bean_3crv"
          },
          {
           "timestamp": "2022-11-13T00:00:00",
           "value": 2345143.014819,
           "variable": "bdv_bean"
          },
          {
           "timestamp": "2022-11-14T00:00:00",
           "value": 12985991.673719,
           "variable": "bdv_ur_bean"
          },
          {
           "timestamp": "2022-11-14T00:00:00",
           "value": 576349.417626,
           "variable": "bdv_bean_3crv"
          },
          {
           "timestamp": "2022-11-14T00:00:00",
           "value": 2343522.205253,
           "variable": "bdv_bean"
          },
          {
           "timestamp": "2022-11-14T00:00:00",
           "value": 41224315.748781,
           "variable": "bdv_total"
          },
          {
           "timestamp": "2022-11-14T00:00:00",
           "value": 25318452.452183,
           "variable": "bdv_ur_bean_3crv"
          },
          {
           "timestamp": "2022-11-15T00:00:00",
           "value": 41213745.679433,
           "variable": "bdv_total"
          },
          {
           "timestamp": "2022-11-15T00:00:00",
           "value": 25268667.40109,
           "variable": "bdv_ur_bean_3crv"
          },
          {
           "timestamp": "2022-11-15T00:00:00",
           "value": 13042383.362863,
           "variable": "bdv_ur_bean"
          },
          {
           "timestamp": "2022-11-15T00:00:00",
           "value": 578140.146526,
           "variable": "bdv_bean_3crv"
          },
          {
           "timestamp": "2022-11-15T00:00:00",
           "value": 2324554.768954,
           "variable": "bdv_bean"
          },
          {
           "timestamp": "2022-11-16T00:00:00",
           "value": 2393433.879702,
           "variable": "bdv_bean"
          },
          {
           "timestamp": "2022-11-16T00:00:00",
           "value": 25239336.239618,
           "variable": "bdv_ur_bean_3crv"
          },
          {
           "timestamp": "2022-11-16T00:00:00",
           "value": 575916.008854,
           "variable": "bdv_bean_3crv"
          },
          {
           "timestamp": "2022-11-16T00:00:00",
           "value": 41280876.132736,
           "variable": "bdv_total"
          },
          {
           "timestamp": "2022-11-16T00:00:00",
           "value": 13072190.004562,
           "variable": "bdv_ur_bean"
          },
          {
           "timestamp": "2022-11-17T00:00:00",
           "value": 576811.977625,
           "variable": "bdv_bean_3crv"
          },
          {
           "timestamp": "2022-11-17T00:00:00",
           "value": 13131564.796912,
           "variable": "bdv_ur_bean"
          },
          {
           "timestamp": "2022-11-17T00:00:00",
           "value": 2387642.573144,
           "variable": "bdv_bean"
          },
          {
           "timestamp": "2022-11-17T00:00:00",
           "value": 41279948.332067,
           "variable": "bdv_total"
          },
          {
           "timestamp": "2022-11-17T00:00:00",
           "value": 25183928.984386,
           "variable": "bdv_ur_bean_3crv"
          },
          {
           "timestamp": "2022-11-18T00:00:00",
           "value": 41291508.647096,
           "variable": "bdv_total"
          },
          {
           "timestamp": "2022-11-18T00:00:00",
           "value": 2395880.70783,
           "variable": "bdv_bean"
          },
          {
           "timestamp": "2022-11-18T00:00:00",
           "value": 25184566.763851,
           "variable": "bdv_ur_bean_3crv"
          },
          {
           "timestamp": "2022-11-18T00:00:00",
           "value": 579839.031829,
           "variable": "bdv_bean_3crv"
          },
          {
           "timestamp": "2022-11-18T00:00:00",
           "value": 13131222.143586,
           "variable": "bdv_ur_bean"
          },
          {
           "timestamp": "2022-11-19T00:00:00",
           "value": 41289036.018174,
           "variable": "bdv_total"
          },
          {
           "timestamp": "2022-11-19T00:00:00",
           "value": 574314.453079,
           "variable": "bdv_bean_3crv"
          },
          {
           "timestamp": "2022-11-19T00:00:00",
           "value": 13152806.352467,
           "variable": "bdv_ur_bean"
          },
          {
           "timestamp": "2022-11-19T00:00:00",
           "value": 25171158.087364,
           "variable": "bdv_ur_bean_3crv"
          },
          {
           "timestamp": "2022-11-19T00:00:00",
           "value": 2390757.125264,
           "variable": "bdv_bean"
          },
          {
           "timestamp": "2022-11-20T00:00:00",
           "value": 2394209.359685,
           "variable": "bdv_bean"
          },
          {
           "timestamp": "2022-11-20T00:00:00",
           "value": 13185307.353281,
           "variable": "bdv_ur_bean"
          },
          {
           "timestamp": "2022-11-20T00:00:00",
           "value": 41294271.124893,
           "variable": "bdv_total"
          },
          {
           "timestamp": "2022-11-20T00:00:00",
           "value": 575597.234277,
           "variable": "bdv_bean_3crv"
          },
          {
           "timestamp": "2022-11-20T00:00:00",
           "value": 25139157.17765,
           "variable": "bdv_ur_bean_3crv"
          },
          {
           "timestamp": "2022-11-21T00:00:00",
           "value": 575730.858253,
           "variable": "bdv_bean_3crv"
          },
          {
           "timestamp": "2022-11-21T00:00:00",
           "value": 41254446.857903,
           "variable": "bdv_total"
          },
          {
           "timestamp": "2022-11-21T00:00:00",
           "value": 25140010.839075,
           "variable": "bdv_ur_bean_3crv"
          },
          {
           "timestamp": "2022-11-21T00:00:00",
           "value": 2390769.59396,
           "variable": "bdv_bean"
          },
          {
           "timestamp": "2022-11-21T00:00:00",
           "value": 13147935.566615,
           "variable": "bdv_ur_bean"
          },
          {
           "timestamp": "2022-11-22T00:00:00",
           "value": 576269.468048,
           "variable": "bdv_bean_3crv"
          },
          {
           "timestamp": "2022-11-22T00:00:00",
           "value": 2382989.46726,
           "variable": "bdv_bean"
          },
          {
           "timestamp": "2022-11-22T00:00:00",
           "value": 13147948.554972,
           "variable": "bdv_ur_bean"
          },
          {
           "timestamp": "2022-11-22T00:00:00",
           "value": 25140059.042975,
           "variable": "bdv_ur_bean_3crv"
          },
          {
           "timestamp": "2022-11-22T00:00:00",
           "value": 41247266.533255,
           "variable": "bdv_total"
          },
          {
           "timestamp": "2022-11-23T00:00:00",
           "value": 41184336.878941,
           "variable": "bdv_total"
          },
          {
           "timestamp": "2022-11-23T00:00:00",
           "value": 25140574.392193,
           "variable": "bdv_ur_bean_3crv"
          },
          {
           "timestamp": "2022-11-23T00:00:00",
           "value": 13148137.239816,
           "variable": "bdv_ur_bean"
          },
          {
           "timestamp": "2022-11-23T00:00:00",
           "value": 570277.880608,
           "variable": "bdv_bean_3crv"
          },
          {
           "timestamp": "2022-11-23T00:00:00",
           "value": 2325347.366324,
           "variable": "bdv_bean"
          },
          {
           "timestamp": "2022-11-24T00:00:00",
           "value": 568982.086288,
           "variable": "bdv_bean_3crv"
          },
          {
           "timestamp": "2022-11-24T00:00:00",
           "value": 13148566.976236,
           "variable": "bdv_ur_bean"
          },
          {
           "timestamp": "2022-11-24T00:00:00",
           "value": 25141048.698351,
           "variable": "bdv_ur_bean_3crv"
          },
          {
           "timestamp": "2022-11-24T00:00:00",
           "value": 2310846.312011,
           "variable": "bdv_bean"
          },
          {
           "timestamp": "2022-11-24T00:00:00",
           "value": 41169444.072886,
           "variable": "bdv_total"
          },
          {
           "timestamp": "2022-11-25T00:00:00",
           "value": 2311053.074274,
           "variable": "bdv_bean"
          },
          {
           "timestamp": "2022-11-25T00:00:00",
           "value": 41170382.98547,
           "variable": "bdv_total"
          },
          {
           "timestamp": "2022-11-25T00:00:00",
           "value": 568887.648274,
           "variable": "bdv_bean_3crv"
          },
          {
           "timestamp": "2022-11-25T00:00:00",
           "value": 13148575.888544,
           "variable": "bdv_ur_bean"
          },
          {
           "timestamp": "2022-11-25T00:00:00",
           "value": 25141866.374378,
           "variable": "bdv_ur_bean_3crv"
          },
          {
           "timestamp": "2022-11-26T00:00:00",
           "value": 41161551.506204,
           "variable": "bdv_total"
          },
          {
           "timestamp": "2022-11-26T00:00:00",
           "value": 2308943.423334,
           "variable": "bdv_bean"
          },
          {
           "timestamp": "2022-11-26T00:00:00",
           "value": 561555.516549,
           "variable": "bdv_bean_3crv"
          },
          {
           "timestamp": "2022-11-26T00:00:00",
           "value": 25120203.677213,
           "variable": "bdv_ur_bean_3crv"
          },
          {
           "timestamp": "2022-11-26T00:00:00",
           "value": 13170848.889108,
           "variable": "bdv_ur_bean"
          },
          {
           "timestamp": "2022-11-27T00:00:00",
           "value": 41126993.017314,
           "variable": "bdv_total"
          },
          {
           "timestamp": "2022-11-27T00:00:00",
           "value": 561825.327727,
           "variable": "bdv_bean_3crv"
          },
          {
           "timestamp": "2022-11-27T00:00:00",
           "value": 13170848.98195,
           "variable": "bdv_ur_bean"
          },
          {
           "timestamp": "2022-11-27T00:00:00",
           "value": 2273945.606953,
           "variable": "bdv_bean"
          },
          {
           "timestamp": "2022-11-27T00:00:00",
           "value": 25120373.100684,
           "variable": "bdv_ur_bean_3crv"
          },
          {
           "timestamp": "2022-11-28T00:00:00",
           "value": 41122204.538187996,
           "variable": "bdv_total"
          },
          {
           "timestamp": "2022-11-28T00:00:00",
           "value": 559829.230059,
           "variable": "bdv_bean_3crv"
          },
          {
           "timestamp": "2022-11-28T00:00:00",
           "value": 13191234.760035,
           "variable": "bdv_ur_bean"
          },
          {
           "timestamp": "2022-11-28T00:00:00",
           "value": 25103548.599211,
           "variable": "bdv_ur_bean_3crv"
          },
          {
           "timestamp": "2022-11-28T00:00:00",
           "value": 2267591.948883,
           "variable": "bdv_bean"
          },
          {
           "timestamp": "2022-11-29T00:00:00",
           "value": 532552.633495,
           "variable": "bdv_bean_3crv"
          },
          {
           "timestamp": "2022-11-29T00:00:00",
           "value": 41105232.339715004,
           "variable": "bdv_total"
          },
          {
           "timestamp": "2022-11-29T00:00:00",
           "value": 25098492.468538,
           "variable": "bdv_ur_bean_3crv"
          },
          {
           "timestamp": "2022-11-29T00:00:00",
           "value": 13198870.736583,
           "variable": "bdv_ur_bean"
          },
          {
           "timestamp": "2022-11-29T00:00:00",
           "value": 2275316.501099,
           "variable": "bdv_bean"
          },
          {
           "timestamp": "2022-11-30T00:00:00",
           "value": 2253215.636178,
           "variable": "bdv_bean"
          },
          {
           "timestamp": "2022-11-30T00:00:00",
           "value": 25056530.340405,
           "variable": "bdv_ur_bean_3crv"
          },
          {
           "timestamp": "2022-11-30T00:00:00",
           "value": 13247682.258975,
           "variable": "bdv_ur_bean"
          },
          {
           "timestamp": "2022-11-30T00:00:00",
           "value": 531046.067204,
           "variable": "bdv_bean_3crv"
          },
          {
           "timestamp": "2022-11-30T00:00:00",
           "value": 41088474.302762,
           "variable": "bdv_total"
          },
          {
           "timestamp": "2022-12-01T00:00:00",
           "value": 41071957.048063,
           "variable": "bdv_total"
          },
          {
           "timestamp": "2022-12-01T00:00:00",
           "value": 2241432.897607,
           "variable": "bdv_bean"
          },
          {
           "timestamp": "2022-12-01T00:00:00",
           "value": 524355.747544,
           "variable": "bdv_bean_3crv"
          },
          {
           "timestamp": "2022-12-01T00:00:00",
           "value": 13304348.105725,
           "variable": "bdv_ur_bean"
          },
          {
           "timestamp": "2022-12-01T00:00:00",
           "value": 25001820.297187,
           "variable": "bdv_ur_bean_3crv"
          },
          {
           "timestamp": "2022-12-02T00:00:00",
           "value": 41072480.70059,
           "variable": "bdv_total"
          },
          {
           "timestamp": "2022-12-02T00:00:00",
           "value": 13304348.817743,
           "variable": "bdv_ur_bean"
          },
          {
           "timestamp": "2022-12-02T00:00:00",
           "value": 25002922.886191,
           "variable": "bdv_ur_bean_3crv"
          },
          {
           "timestamp": "2022-12-02T00:00:00",
           "value": 2240853.249112,
           "variable": "bdv_bean"
          },
          {
           "timestamp": "2022-12-02T00:00:00",
           "value": 524355.747544,
           "variable": "bdv_bean_3crv"
          },
          {
           "timestamp": "2022-12-03T00:00:00",
           "value": 41073519.590405,
           "variable": "bdv_total"
          },
          {
           "timestamp": "2022-12-03T00:00:00",
           "value": 13304350.512309,
           "variable": "bdv_ur_bean"
          },
          {
           "timestamp": "2022-12-03T00:00:00",
           "value": 25003349.22338,
           "variable": "bdv_ur_bean_3crv"
          },
          {
           "timestamp": "2022-12-03T00:00:00",
           "value": 2241464.107172,
           "variable": "bdv_bean"
          },
          {
           "timestamp": "2022-12-03T00:00:00",
           "value": 524355.747544,
           "variable": "bdv_bean_3crv"
          },
          {
           "timestamp": "2022-12-04T00:00:00",
           "value": 41075819.701594,
           "variable": "bdv_total"
          },
          {
           "timestamp": "2022-12-04T00:00:00",
           "value": 2240207.996019,
           "variable": "bdv_bean"
          },
          {
           "timestamp": "2022-12-04T00:00:00",
           "value": 25006900.270034,
           "variable": "bdv_ur_bean_3crv"
          },
          {
           "timestamp": "2022-12-04T00:00:00",
           "value": 524355.747544,
           "variable": "bdv_bean_3crv"
          },
          {
           "timestamp": "2022-12-04T00:00:00",
           "value": 13304355.687997,
           "variable": "bdv_ur_bean"
          },
          {
           "timestamp": "2022-12-05T00:00:00",
           "value": 41068769.158536,
           "variable": "bdv_total"
          },
          {
           "timestamp": "2022-12-05T00:00:00",
           "value": 2249347.567125,
           "variable": "bdv_bean"
          },
          {
           "timestamp": "2022-12-05T00:00:00",
           "value": 13304515.164767,
           "variable": "bdv_ur_bean"
          },
          {
           "timestamp": "2022-12-05T00:00:00",
           "value": 503443.385977,
           "variable": "bdv_bean_3crv"
          },
          {
           "timestamp": "2022-12-05T00:00:00",
           "value": 25011463.040667,
           "variable": "bdv_ur_bean_3crv"
          },
          {
           "timestamp": "2022-12-06T00:00:00",
           "value": 41074244.42724401,
           "variable": "bdv_total"
          },
          {
           "timestamp": "2022-12-06T00:00:00",
           "value": 503092.354764,
           "variable": "bdv_bean_3crv"
          },
          {
           "timestamp": "2022-12-06T00:00:00",
           "value": 2246047.594293,
           "variable": "bdv_bean"
          },
          {
           "timestamp": "2022-12-06T00:00:00",
           "value": 25019871.446602,
           "variable": "bdv_ur_bean_3crv"
          },
          {
           "timestamp": "2022-12-06T00:00:00",
           "value": 13305233.031585,
           "variable": "bdv_ur_bean"
          },
          {
           "timestamp": "2022-12-07T00:00:00",
           "value": 13305239.218158,
           "variable": "bdv_ur_bean"
          },
          {
           "timestamp": "2022-12-07T00:00:00",
           "value": 492489.95236,
           "variable": "bdv_bean_3crv"
          },
          {
           "timestamp": "2022-12-07T00:00:00",
           "value": 25018052.931938,
           "variable": "bdv_ur_bean_3crv"
          },
          {
           "timestamp": "2022-12-07T00:00:00",
           "value": 2255769.273582,
           "variable": "bdv_bean"
          },
          {
           "timestamp": "2022-12-07T00:00:00",
           "value": 41071551.376038,
           "variable": "bdv_total"
          },
          {
           "timestamp": "2022-12-08T00:00:00",
           "value": 41071177.388784,
           "variable": "bdv_total"
          },
          {
           "timestamp": "2022-12-08T00:00:00",
           "value": 13305240.590996,
           "variable": "bdv_ur_bean"
          },
          {
           "timestamp": "2022-12-08T00:00:00",
           "value": 491989.838369,
           "variable": "bdv_bean_3crv"
          },
          {
           "timestamp": "2022-12-08T00:00:00",
           "value": 25019026.132601,
           "variable": "bdv_ur_bean_3crv"
          },
          {
           "timestamp": "2022-12-08T00:00:00",
           "value": 2254920.826818,
           "variable": "bdv_bean"
          },
          {
           "timestamp": "2022-12-09T00:00:00",
           "value": 2253000.541829,
           "variable": "bdv_bean"
          },
          {
           "timestamp": "2022-12-09T00:00:00",
           "value": 490944.145538,
           "variable": "bdv_bean_3crv"
          },
          {
           "timestamp": "2022-12-09T00:00:00",
           "value": 25019499.160922,
           "variable": "bdv_ur_bean_3crv"
          },
          {
           "timestamp": "2022-12-09T00:00:00",
           "value": 13305532.736595,
           "variable": "bdv_ur_bean"
          },
          {
           "timestamp": "2022-12-09T00:00:00",
           "value": 41068976.584883995,
           "variable": "bdv_total"
          },
          {
           "timestamp": "2022-12-10T00:00:00",
           "value": 490944.145538,
           "variable": "bdv_bean_3crv"
          },
          {
           "timestamp": "2022-12-10T00:00:00",
           "value": 13305562.991243,
           "variable": "bdv_ur_bean"
          },
          {
           "timestamp": "2022-12-10T00:00:00",
           "value": 2253850.085004,
           "variable": "bdv_bean"
          },
          {
           "timestamp": "2022-12-10T00:00:00",
           "value": 41072506.762368,
           "variable": "bdv_total"
          },
          {
           "timestamp": "2022-12-10T00:00:00",
           "value": 25022149.540583,
           "variable": "bdv_ur_bean_3crv"
          },
          {
           "timestamp": "2022-12-11T00:00:00",
           "value": 13305683.690977,
           "variable": "bdv_ur_bean"
          },
          {
           "timestamp": "2022-12-11T00:00:00",
           "value": 490944.145538,
           "variable": "bdv_bean_3crv"
          },
          {
           "timestamp": "2022-12-11T00:00:00",
           "value": 2248192.431776,
           "variable": "bdv_bean"
          },
          {
           "timestamp": "2022-12-11T00:00:00",
           "value": 25022265.771061,
           "variable": "bdv_ur_bean_3crv"
          },
          {
           "timestamp": "2022-12-11T00:00:00",
           "value": 41067086.039352,
           "variable": "bdv_total"
          },
          {
           "timestamp": "2022-12-12T00:00:00",
           "value": 13305841.892687,
           "variable": "bdv_ur_bean"
          },
          {
           "timestamp": "2022-12-12T00:00:00",
           "value": 2246893.269578,
           "variable": "bdv_bean"
          },
          {
           "timestamp": "2022-12-12T00:00:00",
           "value": 25023845.740246,
           "variable": "bdv_ur_bean_3crv"
          },
          {
           "timestamp": "2022-12-12T00:00:00",
           "value": 489367.76498,
           "variable": "bdv_bean_3crv"
          },
          {
           "timestamp": "2022-12-12T00:00:00",
           "value": 41065948.667491004,
           "variable": "bdv_total"
          },
          {
           "timestamp": "2022-12-13T00:00:00",
           "value": 2230892.634825,
           "variable": "bdv_bean"
          },
          {
           "timestamp": "2022-12-13T00:00:00",
           "value": 488567.536267,
           "variable": "bdv_bean_3crv"
          },
          {
           "timestamp": "2022-12-13T00:00:00",
           "value": 25043260.247822,
           "variable": "bdv_ur_bean_3crv"
          },
          {
           "timestamp": "2022-12-13T00:00:00",
           "value": 13304397.433459,
           "variable": "bdv_ur_bean"
          },
          {
           "timestamp": "2022-12-13T00:00:00",
           "value": 41067117.852373004,
           "variable": "bdv_total"
          },
          {
           "timestamp": "2022-12-14T00:00:00",
           "value": 2212253.871203,
           "variable": "bdv_bean"
          },
          {
           "timestamp": "2022-12-14T00:00:00",
           "value": 13304409.272667,
           "variable": "bdv_ur_bean"
          },
          {
           "timestamp": "2022-12-14T00:00:00",
           "value": 488567.536267,
           "variable": "bdv_bean_3crv"
          },
          {
           "timestamp": "2022-12-14T00:00:00",
           "value": 25043980.246413,
           "variable": "bdv_ur_bean_3crv"
          },
          {
           "timestamp": "2022-12-14T00:00:00",
           "value": 41049210.92655,
           "variable": "bdv_total"
          },
          {
           "timestamp": "2022-12-15T00:00:00",
           "value": 41047363.723073,
           "variable": "bdv_total"
          },
          {
           "timestamp": "2022-12-15T00:00:00",
           "value": 25045020.984987,
           "variable": "bdv_ur_bean_3crv"
          },
          {
           "timestamp": "2022-12-15T00:00:00",
           "value": 2209926.607172,
           "variable": "bdv_bean"
          },
          {
           "timestamp": "2022-12-15T00:00:00",
           "value": 13304411.114668,
           "variable": "bdv_ur_bean"
          },
          {
           "timestamp": "2022-12-15T00:00:00",
           "value": 488005.016246,
           "variable": "bdv_bean_3crv"
          },
          {
           "timestamp": "2022-12-16T00:00:00",
           "value": 2165844.493275,
           "variable": "bdv_bean"
          },
          {
           "timestamp": "2022-12-16T00:00:00",
           "value": 40989443.684923,
           "variable": "bdv_total"
          },
          {
           "timestamp": "2022-12-16T00:00:00",
           "value": 13298055.172114,
           "variable": "bdv_ur_bean"
          },
          {
           "timestamp": "2022-12-16T00:00:00",
           "value": 25047530.109803,
           "variable": "bdv_ur_bean_3crv"
          },
          {
           "timestamp": "2022-12-16T00:00:00",
           "value": 478013.909731,
           "variable": "bdv_bean_3crv"
          },
          {
           "timestamp": "2022-12-17T00:00:00",
           "value": 2165844.493275,
           "variable": "bdv_bean"
          },
          {
           "timestamp": "2022-12-17T00:00:00",
           "value": 13304807.23309,
           "variable": "bdv_ur_bean"
          },
          {
           "timestamp": "2022-12-17T00:00:00",
           "value": 454714.353063,
           "variable": "bdv_bean_3crv"
          },
          {
           "timestamp": "2022-12-17T00:00:00",
           "value": 25051691.739018,
           "variable": "bdv_ur_bean_3crv"
          },
          {
           "timestamp": "2022-12-17T00:00:00",
           "value": 40977057.818446,
           "variable": "bdv_total"
          },
          {
           "timestamp": "2022-12-18T00:00:00",
           "value": 2164995.082544,
           "variable": "bdv_bean"
          },
          {
           "timestamp": "2022-12-18T00:00:00",
           "value": 454714.353063,
           "variable": "bdv_bean_3crv"
          },
          {
           "timestamp": "2022-12-18T00:00:00",
           "value": 25053468.459021,
           "variable": "bdv_ur_bean_3crv"
          },
          {
           "timestamp": "2022-12-18T00:00:00",
           "value": 13304344.869047,
           "variable": "bdv_ur_bean"
          },
          {
           "timestamp": "2022-12-18T00:00:00",
           "value": 40977522.763675,
           "variable": "bdv_total"
          },
          {
           "timestamp": "2022-12-19T00:00:00",
           "value": 2157788.893974,
           "variable": "bdv_bean"
          },
          {
           "timestamp": "2022-12-19T00:00:00",
           "value": 13304043.135315,
           "variable": "bdv_ur_bean"
          },
          {
           "timestamp": "2022-12-19T00:00:00",
           "value": 454837.080465,
           "variable": "bdv_bean_3crv"
          },
          {
           "timestamp": "2022-12-19T00:00:00",
           "value": 25033248.963754,
           "variable": "bdv_ur_bean_3crv"
          },
          {
           "timestamp": "2022-12-19T00:00:00",
           "value": 40949918.073507994,
           "variable": "bdv_total"
          },
          {
           "timestamp": "2022-12-20T00:00:00",
           "value": 2157788.893974,
           "variable": "bdv_bean"
          },
          {
           "timestamp": "2022-12-20T00:00:00",
           "value": 25034440.375301,
           "variable": "bdv_ur_bean_3crv"
          },
          {
           "timestamp": "2022-12-20T00:00:00",
           "value": 13304043.135315,
           "variable": "bdv_ur_bean"
          },
          {
           "timestamp": "2022-12-20T00:00:00",
           "value": 454702.872012,
           "variable": "bdv_bean_3crv"
          },
          {
           "timestamp": "2022-12-20T00:00:00",
           "value": 40950975.276602,
           "variable": "bdv_total"
          },
          {
           "timestamp": "2022-12-21T00:00:00",
           "value": 2149634.779517,
           "variable": "bdv_bean"
          },
          {
           "timestamp": "2022-12-21T00:00:00",
           "value": 40937505.81034,
           "variable": "bdv_total"
          },
          {
           "timestamp": "2022-12-21T00:00:00",
           "value": 448547.298169,
           "variable": "bdv_bean_3crv"
          },
          {
           "timestamp": "2022-12-21T00:00:00",
           "value": 13304043.135315,
           "variable": "bdv_ur_bean"
          },
          {
           "timestamp": "2022-12-21T00:00:00",
           "value": 25035280.597339,
           "variable": "bdv_ur_bean_3crv"
          },
          {
           "timestamp": "2022-12-22T00:00:00",
           "value": 436531.564596,
           "variable": "bdv_bean_3crv"
          },
          {
           "timestamp": "2022-12-22T00:00:00",
           "value": 13304045.786122,
           "variable": "bdv_ur_bean"
          },
          {
           "timestamp": "2022-12-22T00:00:00",
           "value": 2148173.591453,
           "variable": "bdv_bean"
          },
          {
           "timestamp": "2022-12-22T00:00:00",
           "value": 25036776.023031,
           "variable": "bdv_ur_bean_3crv"
          },
          {
           "timestamp": "2022-12-22T00:00:00",
           "value": 40925526.965202,
           "variable": "bdv_total"
          },
          {
           "timestamp": "2022-12-23T00:00:00",
           "value": 2132207.646369,
           "variable": "bdv_bean"
          },
          {
           "timestamp": "2022-12-23T00:00:00",
           "value": 13305406.29181,
           "variable": "bdv_ur_bean"
          },
          {
           "timestamp": "2022-12-23T00:00:00",
           "value": 436531.564596,
           "variable": "bdv_bean_3crv"
          },
          {
           "timestamp": "2022-12-23T00:00:00",
           "value": 25044181.359053,
           "variable": "bdv_ur_bean_3crv"
          },
          {
           "timestamp": "2022-12-23T00:00:00",
           "value": 40918326.861828,
           "variable": "bdv_total"
          },
          {
           "timestamp": "2022-12-24T00:00:00",
           "value": 40920494.502169,
           "variable": "bdv_total"
          },
          {
           "timestamp": "2022-12-24T00:00:00",
           "value": 2132207.646369,
           "variable": "bdv_bean"
          },
          {
           "timestamp": "2022-12-24T00:00:00",
           "value": 433302.268661,
           "variable": "bdv_bean_3crv"
          },
          {
           "timestamp": "2022-12-24T00:00:00",
           "value": 25049577.748504,
           "variable": "bdv_ur_bean_3crv"
          },
          {
           "timestamp": "2022-12-24T00:00:00",
           "value": 13305406.838635,
           "variable": "bdv_ur_bean"
          },
          {
           "timestamp": "2022-12-25T00:00:00",
           "value": 40903572.37988,
           "variable": "bdv_total"
          },
          {
           "timestamp": "2022-12-25T00:00:00",
           "value": 25050939.465406,
           "variable": "bdv_ur_bean_3crv"
          },
          {
           "timestamp": "2022-12-25T00:00:00",
           "value": 431339.167881,
           "variable": "bdv_bean_3crv"
          },
          {
           "timestamp": "2022-12-25T00:00:00",
           "value": 13305406.839291,
           "variable": "bdv_ur_bean"
          },
          {
           "timestamp": "2022-12-25T00:00:00",
           "value": 2115886.907302,
           "variable": "bdv_bean"
          },
          {
           "timestamp": "2022-12-26T00:00:00",
           "value": 2115667.339234,
           "variable": "bdv_bean"
          },
          {
           "timestamp": "2022-12-26T00:00:00",
           "value": 40904168.268017,
           "variable": "bdv_total"
          },
          {
           "timestamp": "2022-12-26T00:00:00",
           "value": 431427.988343,
           "variable": "bdv_bean_3crv"
          },
          {
           "timestamp": "2022-12-26T00:00:00",
           "value": 13305434.0859,
           "variable": "bdv_ur_bean"
          },
          {
           "timestamp": "2022-12-26T00:00:00",
           "value": 25051638.85454,
           "variable": "bdv_ur_bean_3crv"
          },
          {
           "timestamp": "2022-12-27T00:00:00",
           "value": 25054407.389793,
           "variable": "bdv_ur_bean_3crv"
          },
          {
           "timestamp": "2022-12-27T00:00:00",
           "value": 40906412.880067,
           "variable": "bdv_total"
          },
          {
           "timestamp": "2022-12-27T00:00:00",
           "value": 430607.973497,
           "variable": "bdv_bean_3crv"
          },
          {
           "timestamp": "2022-12-27T00:00:00",
           "value": 2115092.993773,
           "variable": "bdv_bean"
          },
          {
           "timestamp": "2022-12-27T00:00:00",
           "value": 13306304.523004,
           "variable": "bdv_ur_bean"
          },
          {
           "timestamp": "2022-12-28T00:00:00",
           "value": 40898752.202750996,
           "variable": "bdv_total"
          },
          {
           "timestamp": "2022-12-28T00:00:00",
           "value": 13306637.258954,
           "variable": "bdv_ur_bean"
          },
          {
           "timestamp": "2022-12-28T00:00:00",
           "value": 25055320.294972,
           "variable": "bdv_ur_bean_3crv"
          },
          {
           "timestamp": "2022-12-28T00:00:00",
           "value": 427676.237215,
           "variable": "bdv_bean_3crv"
          },
          {
           "timestamp": "2022-12-28T00:00:00",
           "value": 2109118.41161,
           "variable": "bdv_bean"
          },
          {
           "timestamp": "2022-12-29T00:00:00",
           "value": 40898904.165828,
           "variable": "bdv_total"
          },
          {
           "timestamp": "2022-12-29T00:00:00",
           "value": 2109147.065025,
           "variable": "bdv_bean"
          },
          {
           "timestamp": "2022-12-29T00:00:00",
           "value": 427676.237215,
           "variable": "bdv_bean_3crv"
          },
          {
           "timestamp": "2022-12-29T00:00:00",
           "value": 25055441.568797,
           "variable": "bdv_ur_bean_3crv"
          },
          {
           "timestamp": "2022-12-29T00:00:00",
           "value": 13306639.294791,
           "variable": "bdv_ur_bean"
          },
          {
           "timestamp": "2022-12-30T00:00:00",
           "value": 40888359.442596,
           "variable": "bdv_total"
          },
          {
           "timestamp": "2022-12-30T00:00:00",
           "value": 427676.237215,
           "variable": "bdv_bean_3crv"
          },
          {
           "timestamp": "2022-12-30T00:00:00",
           "value": 25055528.673682,
           "variable": "bdv_ur_bean_3crv"
          },
          {
           "timestamp": "2022-12-30T00:00:00",
           "value": 13306550.562501,
           "variable": "bdv_ur_bean"
          },
          {
           "timestamp": "2022-12-30T00:00:00",
           "value": 2098603.969198,
           "variable": "bdv_bean"
          },
          {
           "timestamp": "2022-12-31T00:00:00",
           "value": 13330993.164612,
           "variable": "bdv_ur_bean"
          },
          {
           "timestamp": "2022-12-31T00:00:00",
           "value": 2067231.88857,
           "variable": "bdv_bean"
          },
          {
           "timestamp": "2022-12-31T00:00:00",
           "value": 427676.237215,
           "variable": "bdv_bean_3crv"
          },
          {
           "timestamp": "2022-12-31T00:00:00",
           "value": 40941354.892536,
           "variable": "bdv_total"
          },
          {
           "timestamp": "2022-12-31T00:00:00",
           "value": 25115453.602139,
           "variable": "bdv_ur_bean_3crv"
          },
          {
           "timestamp": "2023-01-01T00:00:00",
           "value": 421520.416743,
           "variable": "bdv_bean_3crv"
          },
          {
           "timestamp": "2023-01-01T00:00:00",
           "value": 13332042.786351,
           "variable": "bdv_ur_bean"
          },
          {
           "timestamp": "2023-01-01T00:00:00",
           "value": 2065895.974231,
           "variable": "bdv_bean"
          },
          {
           "timestamp": "2023-01-01T00:00:00",
           "value": 25120250.918473,
           "variable": "bdv_ur_bean_3crv"
          },
          {
           "timestamp": "2023-01-01T00:00:00",
           "value": 40939710.095798,
           "variable": "bdv_total"
          },
          {
           "timestamp": "2023-01-02T00:00:00",
           "value": 40927759.218954,
           "variable": "bdv_total"
          },
          {
           "timestamp": "2023-01-02T00:00:00",
           "value": 25125105.570465,
           "variable": "bdv_ur_bean_3crv"
          },
          {
           "timestamp": "2023-01-02T00:00:00",
           "value": 2050483.661187,
           "variable": "bdv_bean"
          },
          {
           "timestamp": "2023-01-02T00:00:00",
           "value": 420126.623639,
           "variable": "bdv_bean_3crv"
          },
          {
           "timestamp": "2023-01-02T00:00:00",
           "value": 13332043.363663,
           "variable": "bdv_ur_bean"
          },
          {
           "timestamp": "2023-01-03T00:00:00",
           "value": 40915243.825141996,
           "variable": "bdv_total"
          },
          {
           "timestamp": "2023-01-03T00:00:00",
           "value": 13332043.363964,
           "variable": "bdv_ur_bean"
          },
          {
           "timestamp": "2023-01-03T00:00:00",
           "value": 2035545.958784,
           "variable": "bdv_bean"
          },
          {
           "timestamp": "2023-01-03T00:00:00",
           "value": 25127527.878755,
           "variable": "bdv_ur_bean_3crv"
          },
          {
           "timestamp": "2023-01-03T00:00:00",
           "value": 420126.623639,
           "variable": "bdv_bean_3crv"
          },
          {
           "timestamp": "2023-01-04T00:00:00",
           "value": 420126.623639,
           "variable": "bdv_bean_3crv"
          },
          {
           "timestamp": "2023-01-04T00:00:00",
           "value": 13332043.975294,
           "variable": "bdv_ur_bean"
          },
          {
           "timestamp": "2023-01-04T00:00:00",
           "value": 25129800.489175,
           "variable": "bdv_ur_bean_3crv"
          },
          {
           "timestamp": "2023-01-04T00:00:00",
           "value": 2035471.291413,
           "variable": "bdv_bean"
          },
          {
           "timestamp": "2023-01-04T00:00:00",
           "value": 40917442.379521,
           "variable": "bdv_total"
          },
          {
           "timestamp": "2023-01-05T00:00:00",
           "value": 2025062.541413,
           "variable": "bdv_bean"
          },
          {
           "timestamp": "2023-01-05T00:00:00",
           "value": 13332106.136144,
           "variable": "bdv_ur_bean"
          },
          {
           "timestamp": "2023-01-05T00:00:00",
           "value": 420126.623639,
           "variable": "bdv_bean_3crv"
          },
          {
           "timestamp": "2023-01-05T00:00:00",
           "value": 25139085.001011,
           "variable": "bdv_ur_bean_3crv"
          },
          {
           "timestamp": "2023-01-05T00:00:00",
           "value": 40916380.302207,
           "variable": "bdv_total"
          },
          {
           "timestamp": "2023-01-06T00:00:00",
           "value": 2020897.179995,
           "variable": "bdv_bean"
          },
          {
           "timestamp": "2023-01-06T00:00:00",
           "value": 420221.212685,
           "variable": "bdv_bean_3crv"
          },
          {
           "timestamp": "2023-01-06T00:00:00",
           "value": 25154504.474012,
           "variable": "bdv_ur_bean_3crv"
          },
          {
           "timestamp": "2023-01-06T00:00:00",
           "value": 13332137.69059,
           "variable": "bdv_ur_bean"
          },
          {
           "timestamp": "2023-01-06T00:00:00",
           "value": 40927760.557282,
           "variable": "bdv_total"
          },
          {
           "timestamp": "2023-01-07T00:00:00",
           "value": 25155052.896742,
           "variable": "bdv_ur_bean_3crv"
          },
          {
           "timestamp": "2023-01-07T00:00:00",
           "value": 40927056.098179,
           "variable": "bdv_total"
          },
          {
           "timestamp": "2023-01-07T00:00:00",
           "value": 2020834.496416,
           "variable": "bdv_bean"
          },
          {
           "timestamp": "2023-01-07T00:00:00",
           "value": 13331449.389846,
           "variable": "bdv_ur_bean"
          },
          {
           "timestamp": "2023-01-07T00:00:00",
           "value": 419719.315175,
           "variable": "bdv_bean_3crv"
          },
          {
           "timestamp": "2023-01-08T00:00:00",
           "value": 419719.315175,
           "variable": "bdv_bean_3crv"
          },
          {
           "timestamp": "2023-01-08T00:00:00",
           "value": 40927416.592946,
           "variable": "bdv_total"
          },
          {
           "timestamp": "2023-01-08T00:00:00",
           "value": 13331449.393938,
           "variable": "bdv_ur_bean"
          },
          {
           "timestamp": "2023-01-08T00:00:00",
           "value": 2020815.924832,
           "variable": "bdv_bean"
          },
          {
           "timestamp": "2023-01-08T00:00:00",
           "value": 25155431.959001,
           "variable": "bdv_ur_bean_3crv"
          },
          {
           "timestamp": "2023-01-09T00:00:00",
           "value": 2300713.668003,
           "variable": "bdv_bean"
          },
          {
           "timestamp": "2023-01-09T00:00:00",
           "value": 13332774.187677,
           "variable": "bdv_ur_bean"
          },
          {
           "timestamp": "2023-01-09T00:00:00",
           "value": 419719.315175,
           "variable": "bdv_bean_3crv"
          },
          {
           "timestamp": "2023-01-09T00:00:00",
           "value": 41233545.671169996,
           "variable": "bdv_total"
          },
          {
           "timestamp": "2023-01-09T00:00:00",
           "value": 25180338.500315,
           "variable": "bdv_ur_bean_3crv"
          },
          {
           "timestamp": "2023-01-10T00:00:00",
           "value": 2297814.629335,
           "variable": "bdv_bean"
          },
          {
           "timestamp": "2023-01-10T00:00:00",
           "value": 422710.10427,
           "variable": "bdv_bean_3crv"
          },
          {
           "timestamp": "2023-01-10T00:00:00",
           "value": 25177245.732205,
           "variable": "bdv_ur_bean_3crv"
          },
          {
           "timestamp": "2023-01-10T00:00:00",
           "value": 13337186.634629,
           "variable": "bdv_ur_bean"
          },
          {
           "timestamp": "2023-01-10T00:00:00",
           "value": 41234957.100439,
           "variable": "bdv_total"
          },
          {
           "timestamp": "2023-01-11T00:00:00",
           "value": 41228565.030957,
           "variable": "bdv_total"
          },
          {
           "timestamp": "2023-01-11T00:00:00",
           "value": 13337187.605198,
           "variable": "bdv_ur_bean"
          },
          {
           "timestamp": "2023-01-11T00:00:00",
           "value": 25178623.695255,
           "variable": "bdv_ur_bean_3crv"
          },
          {
           "timestamp": "2023-01-11T00:00:00",
           "value": 425939.101169,
           "variable": "bdv_bean_3crv"
          },
          {
           "timestamp": "2023-01-11T00:00:00",
           "value": 2286814.629335,
           "variable": "bdv_bean"
          },
          {
           "timestamp": "2023-01-12T00:00:00",
           "value": 41207644.071979,
           "variable": "bdv_total"
          },
          {
           "timestamp": "2023-01-12T00:00:00",
           "value": 425939.101169,
           "variable": "bdv_bean_3crv"
          },
          {
           "timestamp": "2023-01-12T00:00:00",
           "value": 25179223.676729,
           "variable": "bdv_ur_bean_3crv"
          },
          {
           "timestamp": "2023-01-12T00:00:00",
           "value": 2265293.439797,
           "variable": "bdv_bean"
          },
          {
           "timestamp": "2023-01-12T00:00:00",
           "value": 13337187.854284,
           "variable": "bdv_ur_bean"
          },
          {
           "timestamp": "2023-01-13T00:00:00",
           "value": 13335588.06591,
           "variable": "bdv_ur_bean"
          },
          {
           "timestamp": "2023-01-13T00:00:00",
           "value": 25178727.981634,
           "variable": "bdv_ur_bean_3crv"
          },
          {
           "timestamp": "2023-01-13T00:00:00",
           "value": 2254073.156264,
           "variable": "bdv_bean"
          },
          {
           "timestamp": "2023-01-13T00:00:00",
           "value": 41194328.304977,
           "variable": "bdv_total"
          },
          {
           "timestamp": "2023-01-13T00:00:00",
           "value": 425939.101169,
           "variable": "bdv_bean_3crv"
          },
          {
           "timestamp": "2023-01-14T00:00:00",
           "value": 41169196.820971996,
           "variable": "bdv_total"
          },
          {
           "timestamp": "2023-01-14T00:00:00",
           "value": 2229018.290121,
           "variable": "bdv_bean"
          },
          {
           "timestamp": "2023-01-14T00:00:00",
           "value": 13335608.842982,
           "variable": "bdv_ur_bean"
          },
          {
           "timestamp": "2023-01-14T00:00:00",
           "value": 25180988.395096,
           "variable": "bdv_ur_bean_3crv"
          },
          {
           "timestamp": "2023-01-14T00:00:00",
           "value": 423581.292773,
           "variable": "bdv_bean_3crv"
          },
          {
           "timestamp": "2023-01-15T00:00:00",
           "value": 2205521.412477,
           "variable": "bdv_bean"
          },
          {
           "timestamp": "2023-01-15T00:00:00",
           "value": 41148589.60763,
           "variable": "bdv_total"
          },
          {
           "timestamp": "2023-01-15T00:00:00",
           "value": 25184280.228563,
           "variable": "bdv_ur_bean_3crv"
          },
          {
           "timestamp": "2023-01-15T00:00:00",
           "value": 13335613.743539,
           "variable": "bdv_ur_bean"
          },
          {
           "timestamp": "2023-01-15T00:00:00",
           "value": 423174.223051,
           "variable": "bdv_bean_3crv"
          },
          {
           "timestamp": "2023-01-16T00:00:00",
           "value": 13335661.696019,
           "variable": "bdv_ur_bean"
          },
          {
           "timestamp": "2023-01-16T00:00:00",
           "value": 25190888.813476,
           "variable": "bdv_ur_bean_3crv"
          },
          {
           "timestamp": "2023-01-16T00:00:00",
           "value": 2197879.412477,
           "variable": "bdv_bean"
          },
          {
           "timestamp": "2023-01-16T00:00:00",
           "value": 423174.223051,
           "variable": "bdv_bean_3crv"
          },
          {
           "timestamp": "2023-01-16T00:00:00",
           "value": 41147604.145023,
           "variable": "bdv_total"
          },
          {
           "timestamp": "2023-01-17T00:00:00",
           "value": 41142189.35573,
           "variable": "bdv_total"
          },
          {
           "timestamp": "2023-01-17T00:00:00",
           "value": 423174.223051,
           "variable": "bdv_bean_3crv"
          },
          {
           "timestamp": "2023-01-17T00:00:00",
           "value": 13335661.696019,
           "variable": "bdv_ur_bean"
          },
          {
           "timestamp": "2023-01-17T00:00:00",
           "value": 25193140.524183,
           "variable": "bdv_ur_bean_3crv"
          },
          {
           "timestamp": "2023-01-17T00:00:00",
           "value": 2190212.912477,
           "variable": "bdv_bean"
          },
          {
           "timestamp": "2023-01-18T00:00:00",
           "value": 13335661.696019,
           "variable": "bdv_ur_bean"
          },
          {
           "timestamp": "2023-01-18T00:00:00",
           "value": 423174.223051,
           "variable": "bdv_bean_3crv"
          },
          {
           "timestamp": "2023-01-18T00:00:00",
           "value": 2178842.672596,
           "variable": "bdv_bean"
          },
          {
           "timestamp": "2023-01-18T00:00:00",
           "value": 25196570.899862,
           "variable": "bdv_ur_bean_3crv"
          },
          {
           "timestamp": "2023-01-18T00:00:00",
           "value": 41134249.491528,
           "variable": "bdv_total"
          },
          {
           "timestamp": "2023-01-19T00:00:00",
           "value": 423174.223051,
           "variable": "bdv_bean_3crv"
          },
          {
           "timestamp": "2023-01-19T00:00:00",
           "value": 13335661.696019,
           "variable": "bdv_ur_bean"
          },
          {
           "timestamp": "2023-01-19T00:00:00",
           "value": 2178797.843311,
           "variable": "bdv_bean"
          },
          {
           "timestamp": "2023-01-19T00:00:00",
           "value": 25197306.244126,
           "variable": "bdv_ur_bean_3crv"
          },
          {
           "timestamp": "2023-01-19T00:00:00",
           "value": 41134940.006507,
           "variable": "bdv_total"
          },
          {
           "timestamp": "2023-01-20T00:00:00",
           "value": 41115567.873887,
           "variable": "bdv_total"
          },
          {
           "timestamp": "2023-01-20T00:00:00",
           "value": 13335661.696019,
           "variable": "bdv_ur_bean"
          },
          {
           "timestamp": "2023-01-20T00:00:00",
           "value": 25197489.758107,
           "variable": "bdv_ur_bean_3crv"
          },
          {
           "timestamp": "2023-01-20T00:00:00",
           "value": 2163375.348619,
           "variable": "bdv_bean"
          },
          {
           "timestamp": "2023-01-20T00:00:00",
           "value": 419041.071142,
           "variable": "bdv_bean_3crv"
          },
          {
           "timestamp": "2023-01-21T00:00:00",
           "value": 13335907.93383,
           "variable": "bdv_ur_bean"
          },
          {
           "timestamp": "2023-01-21T00:00:00",
           "value": 418863.979744,
           "variable": "bdv_bean_3crv"
          },
          {
           "timestamp": "2023-01-21T00:00:00",
           "value": 41107276.99304,
           "variable": "bdv_total"
          },
          {
           "timestamp": "2023-01-21T00:00:00",
           "value": 2154195.635838,
           "variable": "bdv_bean"
          },
          {
           "timestamp": "2023-01-21T00:00:00",
           "value": 25198309.443628,
           "variable": "bdv_ur_bean_3crv"
          },
          {
           "timestamp": "2023-01-22T00:00:00",
           "value": 418431.953387,
           "variable": "bdv_bean_3crv"
          },
          {
           "timestamp": "2023-01-22T00:00:00",
           "value": 25200397.598855,
           "variable": "bdv_ur_bean_3crv"
          },
          {
           "timestamp": "2023-01-22T00:00:00",
           "value": 13335973.047456,
           "variable": "bdv_ur_bean"
          },
          {
           "timestamp": "2023-01-22T00:00:00",
           "value": 2154102.635838,
           "variable": "bdv_bean"
          },
          {
           "timestamp": "2023-01-22T00:00:00",
           "value": 41108905.235536,
           "variable": "bdv_total"
          },
          {
           "timestamp": "2023-01-23T00:00:00",
           "value": 41093390.949694,
           "variable": "bdv_total"
          },
          {
           "timestamp": "2023-01-23T00:00:00",
           "value": 13336110.893184,
           "variable": "bdv_ur_bean"
          },
          {
           "timestamp": "2023-01-23T00:00:00",
           "value": 25204026.196704,
           "variable": "bdv_ur_bean_3crv"
          },
          {
           "timestamp": "2023-01-23T00:00:00",
           "value": 2134821.906419,
           "variable": "bdv_bean"
          },
          {
           "timestamp": "2023-01-23T00:00:00",
           "value": 418431.953387,
           "variable": "bdv_bean_3crv"
          },
          {
           "timestamp": "2023-01-24T00:00:00",
           "value": 41081394.000488,
           "variable": "bdv_total"
          },
          {
           "timestamp": "2023-01-24T00:00:00",
           "value": 418431.953387,
           "variable": "bdv_bean_3crv"
          },
          {
           "timestamp": "2023-01-24T00:00:00",
           "value": 13336110.893184,
           "variable": "bdv_ur_bean"
          },
          {
           "timestamp": "2023-01-24T00:00:00",
           "value": 25205063.087643,
           "variable": "bdv_ur_bean_3crv"
          },
          {
           "timestamp": "2023-01-24T00:00:00",
           "value": 2121788.066274,
           "variable": "bdv_bean"
          },
          {
           "timestamp": "2023-01-25T00:00:00",
           "value": 418431.953387,
           "variable": "bdv_bean_3crv"
          },
          {
           "timestamp": "2023-01-25T00:00:00",
           "value": 41085414.965053,
           "variable": "bdv_total"
          },
          {
           "timestamp": "2023-01-25T00:00:00",
           "value": 25207797.892053,
           "variable": "bdv_ur_bean_3crv"
          },
          {
           "timestamp": "2023-01-25T00:00:00",
           "value": 13338005.476764,
           "variable": "bdv_ur_bean"
          },
          {
           "timestamp": "2023-01-25T00:00:00",
           "value": 2121179.642849,
           "variable": "bdv_bean"
          },
          {
           "timestamp": "2023-01-26T00:00:00",
           "value": 41085035.99653,
           "variable": "bdv_total"
          },
          {
           "timestamp": "2023-01-26T00:00:00",
           "value": 25209377.088765,
           "variable": "bdv_ur_bean_3crv"
          },
          {
           "timestamp": "2023-01-26T00:00:00",
           "value": 13336047.311529,
           "variable": "bdv_ur_bean"
          },
          {
           "timestamp": "2023-01-26T00:00:00",
           "value": 418431.953387,
           "variable": "bdv_bean_3crv"
          },
          {
           "timestamp": "2023-01-26T00:00:00",
           "value": 2121179.642849,
           "variable": "bdv_bean"
          },
          {
           "timestamp": "2023-01-27T00:00:00",
           "value": 13336047.311729,
           "variable": "bdv_ur_bean"
          },
          {
           "timestamp": "2023-01-27T00:00:00",
           "value": 41083277.067591,
           "variable": "bdv_total"
          },
          {
           "timestamp": "2023-01-27T00:00:00",
           "value": 2115179.642849,
           "variable": "bdv_bean"
          },
          {
           "timestamp": "2023-01-27T00:00:00",
           "value": 417946.675754,
           "variable": "bdv_bean_3crv"
          },
          {
           "timestamp": "2023-01-27T00:00:00",
           "value": 25214103.437259,
           "variable": "bdv_ur_bean_3crv"
          },
          {
           "timestamp": "2023-01-28T00:00:00",
           "value": 41092136.008468,
           "variable": "bdv_total"
          },
          {
           "timestamp": "2023-01-28T00:00:00",
           "value": 25223221.9824,
           "variable": "bdv_ur_bean_3crv"
          },
          {
           "timestamp": "2023-01-28T00:00:00",
           "value": 13336047.442433,
           "variable": "bdv_ur_bean"
          },
          {
           "timestamp": "2023-01-28T00:00:00",
           "value": 2114919.907881,
           "variable": "bdv_bean"
          },
          {
           "timestamp": "2023-01-28T00:00:00",
           "value": 417946.675754,
           "variable": "bdv_bean_3crv"
          },
          {
           "timestamp": "2023-01-29T00:00:00",
           "value": 2114919.907881,
           "variable": "bdv_bean"
          },
          {
           "timestamp": "2023-01-29T00:00:00",
           "value": 418108.738214,
           "variable": "bdv_bean_3crv"
          },
          {
           "timestamp": "2023-01-29T00:00:00",
           "value": 25232450.80356,
           "variable": "bdv_ur_bean_3crv"
          },
          {
           "timestamp": "2023-01-29T00:00:00",
           "value": 13336055.73877,
           "variable": "bdv_ur_bean"
          },
          {
           "timestamp": "2023-01-29T00:00:00",
           "value": 41101535.188425004,
           "variable": "bdv_total"
          },
          {
           "timestamp": "2023-01-30T00:00:00",
           "value": 2114919.907881,
           "variable": "bdv_bean"
          },
          {
           "timestamp": "2023-01-30T00:00:00",
           "value": 13336341.258847,
           "variable": "bdv_ur_bean"
          },
          {
           "timestamp": "2023-01-30T00:00:00",
           "value": 41102048.870492,
           "variable": "bdv_total"
          },
          {
           "timestamp": "2023-01-30T00:00:00",
           "value": 418108.738214,
           "variable": "bdv_bean_3crv"
          },
          {
           "timestamp": "2023-01-30T00:00:00",
           "value": 25232678.96555,
           "variable": "bdv_ur_bean_3crv"
          },
          {
           "timestamp": "2023-01-31T00:00:00",
           "value": 41070979.060529,
           "variable": "bdv_total"
          },
          {
           "timestamp": "2023-01-31T00:00:00",
           "value": 2088145.800684,
           "variable": "bdv_bean"
          },
          {
           "timestamp": "2023-01-31T00:00:00",
           "value": 13331854.375804,
           "variable": "bdv_ur_bean"
          },
          {
           "timestamp": "2023-01-31T00:00:00",
           "value": 418108.738214,
           "variable": "bdv_bean_3crv"
          },
          {
           "timestamp": "2023-01-31T00:00:00",
           "value": 25232870.145827,
           "variable": "bdv_ur_bean_3crv"
          },
          {
           "timestamp": "2023-02-01T00:00:00",
           "value": 41178386.36363301,
           "variable": "bdv_total"
          },
          {
           "timestamp": "2023-02-01T00:00:00",
           "value": 418108.738214,
           "variable": "bdv_bean_3crv"
          },
          {
           "timestamp": "2023-02-01T00:00:00",
           "value": 25264350.265222,
           "variable": "bdv_ur_bean_3crv"
          },
          {
           "timestamp": "2023-02-01T00:00:00",
           "value": 2135826.067074,
           "variable": "bdv_bean"
          },
          {
           "timestamp": "2023-02-01T00:00:00",
           "value": 13360101.293123,
           "variable": "bdv_ur_bean"
          },
          {
           "timestamp": "2023-02-02T00:00:00",
           "value": 13360101.644823,
           "variable": "bdv_ur_bean"
          },
          {
           "timestamp": "2023-02-02T00:00:00",
           "value": 2107035.807122,
           "variable": "bdv_bean"
          },
          {
           "timestamp": "2023-02-02T00:00:00",
           "value": 41142932.574439,
           "variable": "bdv_total"
          },
          {
           "timestamp": "2023-02-02T00:00:00",
           "value": 408334.420522,
           "variable": "bdv_bean_3crv"
          },
          {
           "timestamp": "2023-02-02T00:00:00",
           "value": 25267460.701972,
           "variable": "bdv_ur_bean_3crv"
          },
          {
           "timestamp": "2023-02-03T00:00:00",
           "value": 13414857.7478,
           "variable": "bdv_ur_bean"
          },
          {
           "timestamp": "2023-02-03T00:00:00",
           "value": 25277311.678228,
           "variable": "bdv_ur_bean_3crv"
          },
          {
           "timestamp": "2023-02-03T00:00:00",
           "value": 408334.420522,
           "variable": "bdv_bean_3crv"
          },
          {
           "timestamp": "2023-02-03T00:00:00",
           "value": 2107035.807122,
           "variable": "bdv_bean"
          },
          {
           "timestamp": "2023-02-03T00:00:00",
           "value": 41207539.653671995,
           "variable": "bdv_total"
          }
         ]
        },
        "hconcat": [
         {
          "data": {
           "name": "data-ec120d3fa8e3b4048da01f6da7bf1993"
          },
          "layer": [
           {
            "encoding": {
             "color": {
              "field": "variable",
              "legend": {
               "orient": "top",
               "title": null
              },
              "scale": {
               "domain": [
                "bdv_ur_bean",
                "bdv_ur_bean_3crv",
                "bdv_bean_3crv",
                "bdv_bean",
                "bdv_total"
               ],
               "range": [
                "#32A251",
                "#FF7F0F",
                "#3CB7CC",
                "#FFD94A",
                "#39737C"
               ]
              },
              "type": "nominal"
             },
             "order": {
              "field": "stack_order",
              "sort": "ascending",
              "type": "quantitative"
             },
             "x": {
              "axis": {
               "formatType": "time",
               "labelAngle": 0,
               "labelExpr": "timeFormat(toDate(datum.value), '%b %e, %Y')",
               "labelOverlap": true,
               "labelPadding": 5,
               "labelSeparation": 50,
               "ticks": false,
               "title": "Date"
              },
              "field": "timestamp",
              "type": "ordinal"
             },
             "y": {
              "axis": {
               "format": ".2s",
               "title": "Bdv"
              },
              "field": "value",
              "type": "quantitative"
             }
            },
            "mark": "area",
            "title": "",
            "transform": [
             {
              "as": "stack_order",
              "calculate": "datum['variable'] === 'bdv_ur_bean' ? 0 :  datum['variable'] === 'bdv_ur_bean_3crv' ? 1 :  datum['variable'] === 'bdv_bean_3crv' ? 2 :  datum['variable'] === 'bdv_bean' ? 3 :  datum['variable'] === 'bdv_total' ? 4 : 5"
             },
             {
              "filter": "datum['variable'] == 'bdv_ur_bean' | datum['variable'] == 'bdv_ur_bean_3crv' | datum['variable'] == 'bdv_bean_3crv' | datum['variable'] == 'bdv_bean'"
             }
            ],
            "width": 400
           },
           {
            "layer": [
             {
              "encoding": {
               "color": {
                "field": "variable",
                "legend": {
                 "orient": "top",
                 "title": null
                },
                "scale": {
                 "domain": [
                  "bdv_ur_bean",
                  "bdv_ur_bean_3crv",
                  "bdv_bean_3crv",
                  "bdv_bean",
                  "bdv_total"
                 ],
                 "range": [
                  "#32A251",
                  "#FF7F0F",
                  "#3CB7CC",
                  "#FFD94A",
                  "#39737C"
                 ]
                },
                "type": "nominal"
               },
               "order": {
                "field": "stack_order",
                "sort": "ascending",
                "type": "quantitative"
               },
               "x": {
                "axis": {
                 "formatType": "time",
                 "labelAngle": 0,
                 "labelExpr": "timeFormat(toDate(datum.value), '%b %e, %Y')",
                 "labelOverlap": true,
                 "labelPadding": 5,
                 "labelSeparation": 50,
                 "ticks": false,
                 "title": "Date"
                },
                "field": "timestamp",
                "type": "ordinal"
               },
               "y": {
                "axis": {},
                "field": "value",
                "type": "quantitative"
               }
              },
              "mark": "line",
              "title": "",
              "transform": [
               {
                "as": "stack_order",
                "calculate": "datum['variable'] === 'bdv_ur_bean' ? 0 :  datum['variable'] === 'bdv_ur_bean_3crv' ? 1 :  datum['variable'] === 'bdv_bean_3crv' ? 2 :  datum['variable'] === 'bdv_bean' ? 3 :  datum['variable'] === 'bdv_total' ? 4 : 5"
               },
               {
                "filter": "datum['variable'] == 'bdv_total'"
               }
              ],
              "width": 400
             },
             {
              "encoding": {
               "x": {
                "axis": {
                 "formatType": "time",
                 "labelAngle": 0,
                 "labelExpr": "timeFormat(toDate(datum.value), '%b %e, %Y')",
                 "labelOverlap": true,
                 "labelPadding": 5,
                 "labelSeparation": 50,
                 "ticks": false,
                 "title": "Date"
                },
                "field": "timestamp",
                "type": "ordinal"
               }
              },
              "mark": {
               "color": "#474440",
               "opacity": 1,
               "strokeDash": [
                2.5,
                1
               ],
               "type": "rule"
              },
              "title": "",
              "transform": [
               {
                "as": "stack_order",
                "calculate": "datum['variable'] === 'bdv_ur_bean' ? 0 :  datum['variable'] === 'bdv_ur_bean_3crv' ? 1 :  datum['variable'] === 'bdv_bean_3crv' ? 2 :  datum['variable'] === 'bdv_bean' ? 3 :  datum['variable'] === 'bdv_total' ? 4 : 5"
               },
               {
                "groupby": [
                 "timestamp"
                ],
                "pivot": "variable",
                "value": "value"
               },
               {
                "filter": "\n            year(datum['timestamp']) === 2022 && \n            month(datum['timestamp']) === 3 && \n            date(datum['timestamp']) === 17 \n        "
               }
              ],
              "width": 400
             },
             {
              "encoding": {
               "opacity": {
                "condition": {
                 "selection": "selector009",
                 "value": 1
                },
                "value": 0
               },
               "tooltip": [
                {
                 "field": "timestamp",
                 "timeUnit": "yearmonthdate",
                 "title": "date",
                 "type": "ordinal"
                },
                {
                 "field": "bdv_ur_bean",
                 "format": ",d",
                 "type": "quantitative"
                },
                {
                 "field": "bdv_ur_bean_3crv",
                 "format": ",d",
                 "type": "quantitative"
                },
                {
                 "field": "bdv_bean_3crv",
                 "format": ",d",
                 "type": "quantitative"
                },
                {
                 "field": "bdv_bean",
                 "format": ",d",
                 "type": "quantitative"
                },
                {
                 "field": "bdv_total",
                 "format": ",d",
                 "type": "quantitative"
                }
               ],
               "x": {
                "axis": {
                 "formatType": "time",
                 "labelAngle": 0,
                 "labelExpr": "timeFormat(toDate(datum.value), '%b %e, %Y')",
                 "labelOverlap": true,
                 "labelPadding": 5,
                 "labelSeparation": 50,
                 "ticks": false,
                 "title": "Date"
                },
                "field": "timestamp",
                "type": "ordinal"
               }
              },
              "mark": {
               "color": "#878787",
               "type": "rule"
              },
              "selection": {
               "selector009": {
                "clear": "mouseout",
                "empty": "none",
                "fields": [
                 "timestamp"
                ],
                "nearest": true,
                "on": "mouseover",
                "type": "single"
               }
              },
              "title": "",
              "transform": [
               {
                "as": "stack_order",
                "calculate": "datum['variable'] === 'bdv_ur_bean' ? 0 :  datum['variable'] === 'bdv_ur_bean_3crv' ? 1 :  datum['variable'] === 'bdv_bean_3crv' ? 2 :  datum['variable'] === 'bdv_bean' ? 3 :  datum['variable'] === 'bdv_total' ? 4 : 5"
               },
               {
                "groupby": [
                 "timestamp"
                ],
                "pivot": "variable",
                "value": "value"
               }
              ],
              "width": 400
             }
            ]
           }
          ]
         },
         {
          "data": {
           "name": "data-dc587bde6e185e945aa793235d8dcb05"
          },
          "encoding": {
           "color": {
            "field": "category",
            "legend": null,
            "scale": {
             "domain": [
              "bdv_ur_bean",
              "bdv_ur_bean_3crv",
              "bdv_bean_3crv",
              "bdv_bean"
             ],
             "range": [
              "#32A251",
              "#FF7F0F",
              "#3CB7CC",
              "#FFD94A"
             ]
            },
            "type": "nominal"
           },
           "theta": {
            "field": "value",
            "stack": true,
            "type": "quantitative"
           },
           "tooltip": {
            "field": "label",
            "type": "nominal"
           }
          },
          "mark": {
           "innerRadius": 60,
           "outerRadius": 100,
           "type": "arc"
          },
          "title": "Asset Breakdown"
         },
         {
          "data": {
           "name": "data-da5a0622f28e0dce967206965c16a503"
          },
          "encoding": {
           "color": {
            "field": "category",
            "legend": null,
            "scale": {
             "domain": [
              "unlocked",
              "locked"
             ],
             "range": [
              "#97AE91",
              "#855E78"
             ]
            },
            "type": "nominal"
           },
           "theta": {
            "field": "value",
            "stack": true,
            "type": "quantitative"
           },
           "tooltip": {
            "field": "label",
            "type": "nominal"
           }
          },
          "mark": {
           "innerRadius": 60,
           "outerRadius": 100,
           "type": "arc"
          },
          "title": "Locked Breakdown"
         }
        ],
        "resolve": {
         "axis": {
          "y": "independent"
         },
         "legend": {
          "color": "independent"
         },
         "scale": {
          "color": "independent",
          "y": "independent"
         }
        }
       },
       "width_paths": [
        {
         "factor": 1,
         "path": [
          "config",
          "view",
          "continuousWidth"
         ],
         "value": 400
        },
        {
         "factor": 1,
         "path": [
          "hconcat",
          0,
          "layer",
          0,
          "width"
         ],
         "value": 400
        },
        {
         "factor": 1,
         "path": [
          "hconcat",
          0,
          "layer",
          1,
          "layer",
          0,
          "width"
         ],
         "value": 400
        },
        {
         "factor": 1,
         "path": [
          "hconcat",
          0,
          "layer",
          1,
          "layer",
          1,
          "width"
         ],
         "value": 400
        },
        {
         "factor": 1,
         "path": [
          "hconcat",
          0,
          "layer",
          1,
          "layer",
          2,
          "width"
         ],
         "value": 400
        },
        {
         "factor": 3.33,
         "path": [
          "hconcat",
          1,
          "mark",
          "innerRadius"
         ],
         "value": 60
        },
        {
         "factor": 3.33,
         "path": [
          "hconcat",
          2,
          "mark",
          "innerRadius"
         ],
         "value": 60
        },
        {
         "factor": 3.33,
         "path": [
          "hconcat",
          1,
          "mark",
          "outerRadius"
         ],
         "value": 100
        },
        {
         "factor": 3.33,
         "path": [
          "hconcat",
          2,
          "mark",
          "outerRadius"
         ],
         "value": 100
        }
       ]
      },
      "text/plain": [
       "<IPython.core.display.JSON object>"
      ]
     },
     "execution_count": 71,
     "metadata": {
      "application/json": {
       "expanded": false,
       "root": "root"
      }
     },
     "output_type": "execute_result"
    }
   ],
   "source": [
    "output_chart(c, css=css)"
   ]
  },
  {
   "cell_type": "code",
   "execution_count": null,
   "id": "2b85c342",
   "metadata": {},
   "outputs": [],
   "source": []
  }
 ],
 "metadata": {
  "kernelspec": {
   "display_name": "beanstalk-analytics",
   "language": "python",
   "name": "python3"
  },
  "language_info": {
   "codemirror_mode": {
    "name": "ipython",
    "version": 3
   },
   "file_extension": ".py",
   "mimetype": "text/x-python",
   "name": "python",
   "nbconvert_exporter": "python",
   "pygments_lexer": "ipython3",
   "version": "3.10.4"
  },
  "vscode": {
   "interpreter": {
    "hash": "a94408944539dbcddf5e43b63bea71259f40c1ae2c1f9a74554ba1216a3803a6"
   }
  }
 },
 "nbformat": 4,
 "nbformat_minor": 5
}
