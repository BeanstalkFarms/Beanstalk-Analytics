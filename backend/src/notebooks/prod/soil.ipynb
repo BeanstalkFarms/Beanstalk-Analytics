{
 "cells": [
  {
   "cell_type": "code",
   "execution_count": 9,
   "id": "bb524f98-4f94-476c-b760-7d5dbae7938d",
   "metadata": {},
   "outputs": [],
   "source": [
    "import os \n",
    "import sys \n",
    "import json \n",
    "import logging \n",
    "from pathlib import Path \n",
    "from functools import cache\n",
    "from itertools import product\n",
    "\n",
    "# Required when developing in a jupyter-notebook environment \n",
    "cur_path = os.path.abspath(\"../..\")\n",
    "if cur_path not in sys.path: \n",
    "    sys.path.append(cur_path)\n",
    "\n",
    "import numpy as np \n",
    "import pandas as pd \n",
    "import altair as alt \n",
    "from altair import datum\n",
    "from palettable.scientific.sequential import Batlow_5\n",
    "from dotenv import load_dotenv\n",
    "from subgrounds.subgrounds import Subgrounds, Subgraph\n",
    "from subgrounds.subgraph import SyntheticField\n",
    "from subgrounds.pagination import ShallowStrategy\n",
    "\n",
    "# Required when developing in a jupyter-notebook environment \n",
    "load_dotenv('../../../../.env')\n",
    "\n",
    "from utils_notebook.utils import ddf, remove_prefix, load_subgraph, remove_keys\n",
    "from utils_notebook.vega import (\n",
    "    output_chart, \n",
    "    apply_css, \n",
    "    wide_to_longwide, \n",
    "    chart, \n",
    ")\n",
    "from utils_notebook.testing import validate_season_series\n",
    "from utils_notebook.constants import ADDR_BEANSTALK\n",
    "from utils_notebook.queries import QueryManager\n",
    "from utils_notebook.css import css_tooltip_timeseries_multi_colored"
   ]
  },
  {
   "cell_type": "code",
   "execution_count": 10,
   "id": "4dda51ef-cb6a-4692-9bad-6ea39ab9c6fe",
   "metadata": {},
   "outputs": [],
   "source": [
    "sg, bs = load_subgraph()\n",
    "q = QueryManager(sg, bs) "
   ]
  },
  {
   "cell_type": "code",
   "execution_count": 11,
   "id": "f5823889",
   "metadata": {},
   "outputs": [],
   "source": [
    "@cache\n",
    "def query_field_daily_snapshots(**kwargs): \n",
    "    return q.query_field_daily_snapshots(fields=['season', 'timestamp', 'totalSoil']) "
   ]
  },
  {
   "cell_type": "code",
   "execution_count": 12,
   "id": "19a0bd2a-15e2-4e6c-925b-91a138d3d7f8",
   "metadata": {},
   "outputs": [
    {
     "data": {
      "text/html": [
       "<div>\n",
       "<style scoped>\n",
       "    .dataframe tbody tr th:only-of-type {\n",
       "        vertical-align: middle;\n",
       "    }\n",
       "\n",
       "    .dataframe tbody tr th {\n",
       "        vertical-align: top;\n",
       "    }\n",
       "\n",
       "    .dataframe thead th {\n",
       "        text-align: right;\n",
       "    }\n",
       "</style>\n",
       "<table border=\"1\" class=\"dataframe\">\n",
       "  <thead>\n",
       "    <tr style=\"text-align: right;\">\n",
       "      <th></th>\n",
       "      <th>season</th>\n",
       "      <th>timestamp</th>\n",
       "      <th>soil</th>\n",
       "    </tr>\n",
       "  </thead>\n",
       "  <tbody>\n",
       "    <tr>\n",
       "      <th>340</th>\n",
       "      <td>8145</td>\n",
       "      <td>2022-10-31 23:00:11</td>\n",
       "      <td>0.000000</td>\n",
       "    </tr>\n",
       "    <tr>\n",
       "      <th>341</th>\n",
       "      <td>8169</td>\n",
       "      <td>2022-11-01 23:00:11</td>\n",
       "      <td>5813.175233</td>\n",
       "    </tr>\n",
       "    <tr>\n",
       "      <th>342</th>\n",
       "      <td>8193</td>\n",
       "      <td>2022-11-02 23:00:11</td>\n",
       "      <td>0.000000</td>\n",
       "    </tr>\n",
       "    <tr>\n",
       "      <th>343</th>\n",
       "      <td>8217</td>\n",
       "      <td>2022-11-03 23:00:11</td>\n",
       "      <td>0.000000</td>\n",
       "    </tr>\n",
       "    <tr>\n",
       "      <th>344</th>\n",
       "      <td>8219</td>\n",
       "      <td>2022-11-04 01:00:11</td>\n",
       "      <td>0.000000</td>\n",
       "    </tr>\n",
       "  </tbody>\n",
       "</table>\n",
       "</div>"
      ],
      "text/plain": [
       "     season           timestamp         soil\n",
       "340    8145 2022-10-31 23:00:11     0.000000\n",
       "341    8169 2022-11-01 23:00:11  5813.175233\n",
       "342    8193 2022-11-02 23:00:11     0.000000\n",
       "343    8217 2022-11-03 23:00:11     0.000000\n",
       "344    8219 2022-11-04 01:00:11     0.000000"
      ]
     },
     "execution_count": 12,
     "metadata": {},
     "output_type": "execute_result"
    }
   ],
   "source": [
    "df_field = query_field_daily_snapshots(cache=1).copy()\n",
    "df_field = df_field.rename(columns={'totalSoil': 'soil'})\n",
    "df_field.tail()"
   ]
  },
  {
   "cell_type": "code",
   "execution_count": 13,
   "id": "3724acbd-2f44-4aae-86e7-a53930c8c9f2",
   "metadata": {},
   "outputs": [
    {
     "data": {
      "text/html": [
       "<div>\n",
       "<style scoped>\n",
       "    .dataframe tbody tr th:only-of-type {\n",
       "        vertical-align: middle;\n",
       "    }\n",
       "\n",
       "    .dataframe tbody tr th {\n",
       "        vertical-align: top;\n",
       "    }\n",
       "\n",
       "    .dataframe thead th {\n",
       "        text-align: right;\n",
       "    }\n",
       "</style>\n",
       "<table border=\"1\" class=\"dataframe\">\n",
       "  <thead>\n",
       "    <tr style=\"text-align: right;\">\n",
       "      <th></th>\n",
       "      <th>timestamp</th>\n",
       "      <th>season</th>\n",
       "      <th>variable</th>\n",
       "      <th>value</th>\n",
       "      <th>soil</th>\n",
       "    </tr>\n",
       "  </thead>\n",
       "  <tbody>\n",
       "    <tr>\n",
       "      <th>0</th>\n",
       "      <td>2021-08-07 00:06:08</td>\n",
       "      <td>25</td>\n",
       "      <td>soil</td>\n",
       "      <td>4157.013510</td>\n",
       "      <td>4157.013510</td>\n",
       "    </tr>\n",
       "    <tr>\n",
       "      <th>1</th>\n",
       "      <td>2021-08-08 00:08:15</td>\n",
       "      <td>49</td>\n",
       "      <td>soil</td>\n",
       "      <td>2760.084775</td>\n",
       "      <td>2760.084775</td>\n",
       "    </tr>\n",
       "    <tr>\n",
       "      <th>2</th>\n",
       "      <td>2021-08-09 00:15:57</td>\n",
       "      <td>73</td>\n",
       "      <td>soil</td>\n",
       "      <td>2671.997154</td>\n",
       "      <td>2671.997154</td>\n",
       "    </tr>\n",
       "    <tr>\n",
       "      <th>3</th>\n",
       "      <td>2021-08-10 00:01:29</td>\n",
       "      <td>97</td>\n",
       "      <td>soil</td>\n",
       "      <td>241.002120</td>\n",
       "      <td>241.002120</td>\n",
       "    </tr>\n",
       "    <tr>\n",
       "      <th>4</th>\n",
       "      <td>2021-08-11 00:00:05</td>\n",
       "      <td>121</td>\n",
       "      <td>soil</td>\n",
       "      <td>436.887705</td>\n",
       "      <td>436.887705</td>\n",
       "    </tr>\n",
       "  </tbody>\n",
       "</table>\n",
       "</div>"
      ],
      "text/plain": [
       "            timestamp  season variable        value         soil\n",
       "0 2021-08-07 00:06:08      25     soil  4157.013510  4157.013510\n",
       "1 2021-08-08 00:08:15      49     soil  2760.084775  2760.084775\n",
       "2 2021-08-09 00:15:57      73     soil  2671.997154  2671.997154\n",
       "3 2021-08-10 00:01:29      97     soil   241.002120   241.002120\n",
       "4 2021-08-11 00:00:05     121     soil   436.887705   436.887705"
      ]
     },
     "execution_count": 13,
     "metadata": {},
     "output_type": "execute_result"
    }
   ],
   "source": [
    "id_vars = ['timestamp', 'season']\n",
    "value_vars = ['soil']\n",
    "df = wide_to_longwide(df_field, \"timestamp\", id_vars, value_vars, sort_col=\"timestamp\") \n",
    "df.head()"
   ]
  },
  {
   "cell_type": "code",
   "execution_count": 14,
   "id": "013a35a6-f244-4bf6-b525-35b1970dfd20",
   "metadata": {},
   "outputs": [
    {
     "data": {
      "text/html": [
       "<style></style>"
      ],
      "text/plain": [
       "<IPython.core.display.HTML object>"
      ]
     },
     "metadata": {},
     "output_type": "display_data"
    },
    {
     "name": "stderr",
     "output_type": "stream",
     "text": [
      "/Users/ALEX/opt/anaconda3/envs/beanstalk/lib/python3.10/site-packages/altair/utils/core.py:317: FutureWarning: iteritems is deprecated and will be removed in a future version. Use .items instead.\n",
      "  for col_name, dtype in df.dtypes.iteritems():\n"
     ]
    },
    {
     "data": {
      "text/html": [
       "\n",
       "<div id=\"altair-viz-4b347061a21d4632b59c3ef348de8dd6\"></div>\n",
       "<script type=\"text/javascript\">\n",
       "  var VEGA_DEBUG = (typeof VEGA_DEBUG == \"undefined\") ? {} : VEGA_DEBUG;\n",
       "  (function(spec, embedOpt){\n",
       "    let outputDiv = document.currentScript.previousElementSibling;\n",
       "    if (outputDiv.id !== \"altair-viz-4b347061a21d4632b59c3ef348de8dd6\") {\n",
       "      outputDiv = document.getElementById(\"altair-viz-4b347061a21d4632b59c3ef348de8dd6\");\n",
       "    }\n",
       "    const paths = {\n",
       "      \"vega\": \"https://cdn.jsdelivr.net/npm//vega@5?noext\",\n",
       "      \"vega-lib\": \"https://cdn.jsdelivr.net/npm//vega-lib?noext\",\n",
       "      \"vega-lite\": \"https://cdn.jsdelivr.net/npm//vega-lite@4.17.0?noext\",\n",
       "      \"vega-embed\": \"https://cdn.jsdelivr.net/npm//vega-embed@6?noext\",\n",
       "    };\n",
       "\n",
       "    function maybeLoadScript(lib, version) {\n",
       "      var key = `${lib.replace(\"-\", \"\")}_version`;\n",
       "      return (VEGA_DEBUG[key] == version) ?\n",
       "        Promise.resolve(paths[lib]) :\n",
       "        new Promise(function(resolve, reject) {\n",
       "          var s = document.createElement('script');\n",
       "          document.getElementsByTagName(\"head\")[0].appendChild(s);\n",
       "          s.async = true;\n",
       "          s.onload = () => {\n",
       "            VEGA_DEBUG[key] = version;\n",
       "            return resolve(paths[lib]);\n",
       "          };\n",
       "          s.onerror = () => reject(`Error loading script: ${paths[lib]}`);\n",
       "          s.src = paths[lib];\n",
       "        });\n",
       "    }\n",
       "\n",
       "    function showError(err) {\n",
       "      outputDiv.innerHTML = `<div class=\"error\" style=\"color:red;\">${err}</div>`;\n",
       "      throw err;\n",
       "    }\n",
       "\n",
       "    function displayChart(vegaEmbed) {\n",
       "      vegaEmbed(outputDiv, spec, embedOpt)\n",
       "        .catch(err => showError(`Javascript Error: ${err.message}<br>This usually means there's a typo in your chart specification. See the javascript console for the full traceback.`));\n",
       "    }\n",
       "\n",
       "    if(typeof define === \"function\" && define.amd) {\n",
       "      requirejs.config({paths});\n",
       "      require([\"vega-embed\"], displayChart, err => showError(`Error loading script: ${err.message}`));\n",
       "    } else {\n",
       "      maybeLoadScript(\"vega\", \"5\")\n",
       "        .then(() => maybeLoadScript(\"vega-lite\", \"4.17.0\"))\n",
       "        .then(() => maybeLoadScript(\"vega-embed\", \"6\"))\n",
       "        .catch(showError)\n",
       "        .then(() => displayChart(vegaEmbed));\n",
       "    }\n",
       "  })({\"config\": {\"view\": {\"continuousWidth\": 400, \"continuousHeight\": 300}}, \"layer\": [{\"mark\": \"line\", \"encoding\": {\"color\": {\"field\": \"variable\", \"legend\": {\"title\": null}, \"scale\": {\"domain\": [\"soil\"], \"range\": [\"#818233\"]}, \"type\": \"nominal\"}, \"order\": {\"field\": \"stack_order\", \"sort\": \"ascending\", \"type\": \"quantitative\"}, \"x\": {\"axis\": {\"formatType\": \"time\", \"labelAngle\": 0, \"labelExpr\": \"timeFormat(toDate(datum.value), '%b %e, %Y')\", \"labelOverlap\": true, \"labelPadding\": 5, \"labelSeparation\": 50, \"ticks\": false, \"title\": \"Date\"}, \"field\": \"timestamp\", \"type\": \"ordinal\"}, \"y\": {\"axis\": {\"format\": \",d\", \"title\": \"soil\"}, \"field\": \"value\", \"type\": \"quantitative\"}}, \"title\": \"Available Soil\", \"transform\": [{\"calculate\": \"datum['variable'] === 'soil' ? 0 : 1\", \"as\": \"stack_order\"}, {\"filter\": \"datum['variable'] == 'soil'\"}], \"width\": 700}, {\"mark\": {\"type\": \"rule\", \"color\": \"#474440\", \"opacity\": 1, \"strokeDash\": [2.5, 1]}, \"encoding\": {\"x\": {\"axis\": {\"formatType\": \"time\", \"labelAngle\": 0, \"labelExpr\": \"timeFormat(toDate(datum.value), '%b %e, %Y')\", \"labelOverlap\": true, \"labelPadding\": 5, \"labelSeparation\": 50, \"ticks\": false, \"title\": \"Date\"}, \"field\": \"timestamp\", \"type\": \"ordinal\"}}, \"title\": \"Available Soil\", \"transform\": [{\"calculate\": \"datum['variable'] === 'soil' ? 0 : 1\", \"as\": \"stack_order\"}, {\"pivot\": \"variable\", \"value\": \"value\", \"groupby\": [\"timestamp\"]}, {\"filter\": \"\\n            year(datum['timestamp']) === 2022 && \\n            month(datum['timestamp']) === 3 && \\n            date(datum['timestamp']) === 16 \\n        \"}], \"width\": 700}, {\"mark\": {\"type\": \"rule\", \"color\": \"#878787\"}, \"encoding\": {\"opacity\": {\"condition\": {\"value\": 1, \"selection\": \"selector004\"}, \"value\": 0}, \"tooltip\": [{\"field\": \"timestamp\", \"timeUnit\": \"yearmonthdate\", \"title\": \"date\", \"type\": \"ordinal\"}, {\"field\": \"soil\", \"format\": \",d\", \"type\": \"quantitative\"}], \"x\": {\"axis\": {\"formatType\": \"time\", \"labelAngle\": 0, \"labelExpr\": \"timeFormat(toDate(datum.value), '%b %e, %Y')\", \"labelOverlap\": true, \"labelPadding\": 5, \"labelSeparation\": 50, \"ticks\": false, \"title\": \"Date\"}, \"field\": \"timestamp\", \"type\": \"ordinal\"}}, \"selection\": {\"selector004\": {\"type\": \"single\", \"fields\": [\"timestamp\"], \"nearest\": true, \"on\": \"mouseover\", \"empty\": \"none\", \"clear\": \"mouseout\"}}, \"title\": \"Available Soil\", \"transform\": [{\"calculate\": \"datum['variable'] === 'soil' ? 0 : 1\", \"as\": \"stack_order\"}, {\"pivot\": \"variable\", \"value\": \"value\", \"groupby\": [\"timestamp\"]}], \"width\": 700}], \"data\": {\"name\": \"data-d2599d05840e6efe73e3b7785c59e49b\"}, \"$schema\": \"https://vega.github.io/schema/vega-lite/v4.17.0.json\", \"datasets\": {\"data-d2599d05840e6efe73e3b7785c59e49b\": [{\"timestamp\": \"2021-08-07T00:06:08\", \"season\": 25, \"variable\": \"soil\", \"value\": 4157.01351, \"soil\": 4157.01351}, {\"timestamp\": \"2021-08-08T00:08:15\", \"season\": 49, \"variable\": \"soil\", \"value\": 2760.084775, \"soil\": 2760.084775}, {\"timestamp\": \"2021-08-09T00:15:57\", \"season\": 73, \"variable\": \"soil\", \"value\": 2671.997154, \"soil\": 2671.997154}, {\"timestamp\": \"2021-08-10T00:01:29\", \"season\": 97, \"variable\": \"soil\", \"value\": 241.00212, \"soil\": 241.00212}, {\"timestamp\": \"2021-08-11T00:00:05\", \"season\": 121, \"variable\": \"soil\", \"value\": 436.887705, \"soil\": 436.887705}, {\"timestamp\": \"2021-08-12T00:01:00\", \"season\": 145, \"variable\": \"soil\", \"value\": 37892.365756, \"soil\": 37892.365756}, {\"timestamp\": \"2021-08-13T00:00:10\", \"season\": 169, \"variable\": \"soil\", \"value\": 75243.137489, \"soil\": 75243.137489}, {\"timestamp\": \"2021-08-14T00:00:29\", \"season\": 193, \"variable\": \"soil\", \"value\": 62095.925166, \"soil\": 62095.925166}, {\"timestamp\": \"2021-08-15T00:00:28\", \"season\": 217, \"variable\": \"soil\", \"value\": 80371.97813, \"soil\": 80371.97813}, {\"timestamp\": \"2021-08-16T00:00:17\", \"season\": 241, \"variable\": \"soil\", \"value\": 97889.794404, \"soil\": 97889.794404}, {\"timestamp\": \"2021-08-17T00:00:04\", \"season\": 265, \"variable\": \"soil\", \"value\": 49545.917565, \"soil\": 49545.917565}, {\"timestamp\": \"2021-08-18T00:00:31\", \"season\": 289, \"variable\": \"soil\", \"value\": 69913.517538, \"soil\": 69913.517538}, {\"timestamp\": \"2021-08-19T00:00:40\", \"season\": 313, \"variable\": \"soil\", \"value\": 167538.203533, \"soil\": 167538.203533}, {\"timestamp\": \"2021-08-20T00:01:04\", \"season\": 337, \"variable\": \"soil\", \"value\": 163199.90808, \"soil\": 163199.90808}, {\"timestamp\": \"2021-08-21T00:00:44\", \"season\": 361, \"variable\": \"soil\", \"value\": 137237.801062, \"soil\": 137237.801062}, {\"timestamp\": \"2021-08-22T00:00:09\", \"season\": 385, \"variable\": \"soil\", \"value\": 93518.187155, \"soil\": 93518.187155}, {\"timestamp\": \"2021-08-23T00:00:29\", \"season\": 409, \"variable\": \"soil\", \"value\": 89597.252143, \"soil\": 89597.252143}, {\"timestamp\": \"2021-08-24T00:00:01\", \"season\": 433, \"variable\": \"soil\", \"value\": 134035.163518, \"soil\": 134035.163518}, {\"timestamp\": \"2021-08-25T00:00:23\", \"season\": 457, \"variable\": \"soil\", \"value\": 118252.836957, \"soil\": 118252.836957}, {\"timestamp\": \"2021-08-26T00:00:49\", \"season\": 481, \"variable\": \"soil\", \"value\": 87471.690413, \"soil\": 87471.690413}, {\"timestamp\": \"2021-08-27T00:02:11\", \"season\": 505, \"variable\": \"soil\", \"value\": 34833.370045, \"soil\": 34833.370045}, {\"timestamp\": \"2021-08-28T00:05:42\", \"season\": 529, \"variable\": \"soil\", \"value\": 34302.972962, \"soil\": 34302.972962}, {\"timestamp\": \"2021-08-29T00:00:21\", \"season\": 553, \"variable\": \"soil\", \"value\": 27393.879997, \"soil\": 27393.879997}, {\"timestamp\": \"2021-08-30T00:00:41\", \"season\": 577, \"variable\": \"soil\", \"value\": 21969.692784, \"soil\": 21969.692784}, {\"timestamp\": \"2021-08-31T00:00:55\", \"season\": 601, \"variable\": \"soil\", \"value\": 22220.931744, \"soil\": 22220.931744}, {\"timestamp\": \"2021-09-01T00:00:46\", \"season\": 625, \"variable\": \"soil\", \"value\": 18959.516652, \"soil\": 18959.516652}, {\"timestamp\": \"2021-09-02T00:02:18\", \"season\": 649, \"variable\": \"soil\", \"value\": 9812.200309, \"soil\": 9812.200309}, {\"timestamp\": \"2021-09-03T00:00:21\", \"season\": 673, \"variable\": \"soil\", \"value\": 49630.129912, \"soil\": 49630.129912}, {\"timestamp\": \"2021-09-04T00:02:33\", \"season\": 697, \"variable\": \"soil\", \"value\": 48377.802564, \"soil\": 48377.802564}, {\"timestamp\": \"2021-09-05T00:02:38\", \"season\": 721, \"variable\": \"soil\", \"value\": 1908.67517, \"soil\": 1908.67517}, {\"timestamp\": \"2021-09-06T00:00:31\", \"season\": 745, \"variable\": \"soil\", \"value\": 1256.418179, \"soil\": 1256.418179}, {\"timestamp\": \"2021-09-07T00:00:25\", \"season\": 769, \"variable\": \"soil\", \"value\": 2056.045985, \"soil\": 2056.045985}, {\"timestamp\": \"2021-09-08T00:00:43\", \"season\": 793, \"variable\": \"soil\", \"value\": 3230.115808, \"soil\": 3230.115808}, {\"timestamp\": \"2021-09-09T00:00:36\", \"season\": 817, \"variable\": \"soil\", \"value\": 2289.093306, \"soil\": 2289.093306}, {\"timestamp\": \"2021-09-10T00:00:47\", \"season\": 841, \"variable\": \"soil\", \"value\": 6207.298782, \"soil\": 6207.298782}, {\"timestamp\": \"2021-09-11T00:00:25\", \"season\": 865, \"variable\": \"soil\", \"value\": 2345.737411, \"soil\": 2345.737411}, {\"timestamp\": \"2021-09-12T00:00:06\", \"season\": 889, \"variable\": \"soil\", \"value\": 0.0, \"soil\": 0.0}, {\"timestamp\": \"2021-09-13T00:00:34\", \"season\": 913, \"variable\": \"soil\", \"value\": 0.0, \"soil\": 0.0}, {\"timestamp\": \"2021-09-14T00:01:09\", \"season\": 937, \"variable\": \"soil\", \"value\": 2514.314169, \"soil\": 2514.314169}, {\"timestamp\": \"2021-09-15T00:00:38\", \"season\": 961, \"variable\": \"soil\", \"value\": 2542.715165, \"soil\": 2542.715165}, {\"timestamp\": \"2021-09-16T00:00:42\", \"season\": 985, \"variable\": \"soil\", \"value\": 8330.452381, \"soil\": 8330.452381}, {\"timestamp\": \"2021-09-17T00:00:26\", \"season\": 1009, \"variable\": \"soil\", \"value\": 10959.138368, \"soil\": 10959.138368}, {\"timestamp\": \"2021-09-18T00:01:18\", \"season\": 1033, \"variable\": \"soil\", \"value\": 0.0, \"soil\": 0.0}, {\"timestamp\": \"2021-09-19T00:00:06\", \"season\": 1057, \"variable\": \"soil\", \"value\": 19044.03119, \"soil\": 19044.03119}, {\"timestamp\": \"2021-09-20T00:01:40\", \"season\": 1081, \"variable\": \"soil\", \"value\": 156426.136191, \"soil\": 156426.136191}, {\"timestamp\": \"2021-09-21T00:01:43\", \"season\": 1105, \"variable\": \"soil\", \"value\": 5784703.039592, \"soil\": 5784703.039592}, {\"timestamp\": \"2021-09-22T00:00:16\", \"season\": 1129, \"variable\": \"soil\", \"value\": 5734442.272483, \"soil\": 5734442.272483}, {\"timestamp\": \"2021-09-23T00:02:36\", \"season\": 1153, \"variable\": \"soil\", \"value\": 5724311.241172, \"soil\": 5724311.241172}, {\"timestamp\": \"2021-09-24T00:00:19\", \"season\": 1177, \"variable\": \"soil\", \"value\": 5683865.371268, \"soil\": 5683865.371268}, {\"timestamp\": \"2021-09-25T00:00:21\", \"season\": 1201, \"variable\": \"soil\", \"value\": 5628404.025917, \"soil\": 5628404.025917}, {\"timestamp\": \"2021-09-26T00:00:25\", \"season\": 1225, \"variable\": \"soil\", \"value\": 5608798.665635, \"soil\": 5608798.665635}, {\"timestamp\": \"2021-09-27T00:00:01\", \"season\": 1249, \"variable\": \"soil\", \"value\": 5492366.437033, \"soil\": 5492366.437033}, {\"timestamp\": \"2021-09-28T00:00:06\", \"season\": 1273, \"variable\": \"soil\", \"value\": 5475090.739322, \"soil\": 5475090.739322}, {\"timestamp\": \"2021-09-29T00:00:20\", \"season\": 1297, \"variable\": \"soil\", \"value\": 5399529.058645, \"soil\": 5399529.058645}, {\"timestamp\": \"2021-09-30T00:01:52\", \"season\": 1321, \"variable\": \"soil\", \"value\": 5350354.254871, \"soil\": 5350354.254871}, {\"timestamp\": \"2021-10-01T00:01:44\", \"season\": 1345, \"variable\": \"soil\", \"value\": 5162730.563065, \"soil\": 5162730.563065}, {\"timestamp\": \"2021-10-02T00:00:44\", \"season\": 1369, \"variable\": \"soil\", \"value\": 5104861.471621, \"soil\": 5104861.471621}, {\"timestamp\": \"2021-10-03T00:00:05\", \"season\": 1393, \"variable\": \"soil\", \"value\": 5311521.64153, \"soil\": 5311521.64153}, {\"timestamp\": \"2021-10-04T00:00:32\", \"season\": 1417, \"variable\": \"soil\", \"value\": 5291587.689765, \"soil\": 5291587.689765}, {\"timestamp\": \"2021-10-05T00:03:55\", \"season\": 1441, \"variable\": \"soil\", \"value\": 5284052.330428, \"soil\": 5284052.330428}, {\"timestamp\": \"2021-10-06T00:01:34\", \"season\": 1465, \"variable\": \"soil\", \"value\": 5260868.029193, \"soil\": 5260868.029193}, {\"timestamp\": \"2021-10-07T00:02:24\", \"season\": 1489, \"variable\": \"soil\", \"value\": 5230466.037098, \"soil\": 5230466.037098}, {\"timestamp\": \"2021-10-08T00:01:18\", \"season\": 1513, \"variable\": \"soil\", \"value\": 5201160.656303, \"soil\": 5201160.656303}, {\"timestamp\": \"2021-10-09T00:02:32\", \"season\": 1537, \"variable\": \"soil\", \"value\": 5196437.389395, \"soil\": 5196437.389395}, {\"timestamp\": \"2021-10-10T00:00:39\", \"season\": 1561, \"variable\": \"soil\", \"value\": 5172720.862239, \"soil\": 5172720.862239}, {\"timestamp\": \"2021-10-11T00:00:43\", \"season\": 1585, \"variable\": \"soil\", \"value\": 5186801.210205, \"soil\": 5186801.210205}, {\"timestamp\": \"2021-10-12T00:01:23\", \"season\": 1609, \"variable\": \"soil\", \"value\": 5157081.104831, \"soil\": 5157081.104831}, {\"timestamp\": \"2021-10-13T00:00:49\", \"season\": 1633, \"variable\": \"soil\", \"value\": 5134272.997987, \"soil\": 5134272.997987}, {\"timestamp\": \"2021-10-14T00:01:25\", \"season\": 1657, \"variable\": \"soil\", \"value\": 5127594.425385, \"soil\": 5127594.425385}, {\"timestamp\": \"2021-10-15T00:02:14\", \"season\": 1681, \"variable\": \"soil\", \"value\": 5174984.582605, \"soil\": 5174984.582605}, {\"timestamp\": \"2021-10-16T00:02:08\", \"season\": 1705, \"variable\": \"soil\", \"value\": 5170286.677803, \"soil\": 5170286.677803}, {\"timestamp\": \"2021-10-17T00:00:39\", \"season\": 1729, \"variable\": \"soil\", \"value\": 5155856.081482, \"soil\": 5155856.081482}, {\"timestamp\": \"2021-10-18T00:00:48\", \"season\": 1753, \"variable\": \"soil\", \"value\": 5073374.2602, \"soil\": 5073374.2602}, {\"timestamp\": \"2021-10-19T00:01:14\", \"season\": 1777, \"variable\": \"soil\", \"value\": 5092665.004797, \"soil\": 5092665.004797}, {\"timestamp\": \"2021-10-20T00:00:31\", \"season\": 1801, \"variable\": \"soil\", \"value\": 5145630.86841, \"soil\": 5145630.86841}, {\"timestamp\": \"2021-10-21T00:02:30\", \"season\": 1825, \"variable\": \"soil\", \"value\": 5200185.082321, \"soil\": 5200185.082321}, {\"timestamp\": \"2021-10-22T00:00:33\", \"season\": 1849, \"variable\": \"soil\", \"value\": 5297297.894858, \"soil\": 5297297.894858}, {\"timestamp\": \"2021-10-23T00:00:12\", \"season\": 1873, \"variable\": \"soil\", \"value\": 5305694.199394, \"soil\": 5305694.199394}, {\"timestamp\": \"2021-10-24T00:00:53\", \"season\": 1897, \"variable\": \"soil\", \"value\": 5313844.574134, \"soil\": 5313844.574134}, {\"timestamp\": \"2021-10-25T00:00:35\", \"season\": 1921, \"variable\": \"soil\", \"value\": 5348194.531492, \"soil\": 5348194.531492}, {\"timestamp\": \"2021-10-26T00:00:39\", \"season\": 1945, \"variable\": \"soil\", \"value\": 5387029.440749, \"soil\": 5387029.440749}, {\"timestamp\": \"2021-10-27T00:01:02\", \"season\": 1969, \"variable\": \"soil\", \"value\": 5399634.753675, \"soil\": 5399634.753675}, {\"timestamp\": \"2021-10-28T00:02:23\", \"season\": 1993, \"variable\": \"soil\", \"value\": 5396547.851652, \"soil\": 5396547.851652}, {\"timestamp\": \"2021-10-29T00:01:54\", \"season\": 2017, \"variable\": \"soil\", \"value\": 5332104.65373, \"soil\": 5332104.65373}, {\"timestamp\": \"2021-10-30T00:02:04\", \"season\": 2041, \"variable\": \"soil\", \"value\": 5327507.518007, \"soil\": 5327507.518007}, {\"timestamp\": \"2021-10-31T00:02:28\", \"season\": 2065, \"variable\": \"soil\", \"value\": 5397576.766878, \"soil\": 5397576.766878}, {\"timestamp\": \"2021-11-01T00:01:36\", \"season\": 2089, \"variable\": \"soil\", \"value\": 5391344.617458, \"soil\": 5391344.617458}, {\"timestamp\": \"2021-11-02T00:01:39\", \"season\": 2113, \"variable\": \"soil\", \"value\": 5336355.018781, \"soil\": 5336355.018781}, {\"timestamp\": \"2021-11-03T00:01:22\", \"season\": 2137, \"variable\": \"soil\", \"value\": 5297172.35808, \"soil\": 5297172.35808}, {\"timestamp\": \"2021-11-04T00:01:55\", \"season\": 2161, \"variable\": \"soil\", \"value\": 5394669.975259, \"soil\": 5394669.975259}, {\"timestamp\": \"2021-11-05T00:02:28\", \"season\": 2185, \"variable\": \"soil\", \"value\": 5457846.541539, \"soil\": 5457846.541539}, {\"timestamp\": \"2021-11-06T00:00:17\", \"season\": 2209, \"variable\": \"soil\", \"value\": 5640369.521194, \"soil\": 5640369.521194}, {\"timestamp\": \"2021-11-07T00:00:17\", \"season\": 2233, \"variable\": \"soil\", \"value\": 5684253.772684, \"soil\": 5684253.772684}, {\"timestamp\": \"2021-11-08T00:01:22\", \"season\": 2257, \"variable\": \"soil\", \"value\": 5799378.945438, \"soil\": 5799378.945438}, {\"timestamp\": \"2021-11-09T00:02:23\", \"season\": 2281, \"variable\": \"soil\", \"value\": 5834006.52981, \"soil\": 5834006.52981}, {\"timestamp\": \"2021-11-10T00:00:20\", \"season\": 2305, \"variable\": \"soil\", \"value\": 5909645.918144, \"soil\": 5909645.918144}, {\"timestamp\": \"2021-11-11T00:02:14\", \"season\": 2329, \"variable\": \"soil\", \"value\": 5726281.825129, \"soil\": 5726281.825129}, {\"timestamp\": \"2021-11-12T00:01:57\", \"season\": 2353, \"variable\": \"soil\", \"value\": 5188769.216022, \"soil\": 5188769.216022}, {\"timestamp\": \"2021-11-13T00:00:17\", \"season\": 2377, \"variable\": \"soil\", \"value\": 5005264.917127, \"soil\": 5005264.917127}, {\"timestamp\": \"2021-11-14T00:00:31\", \"season\": 2401, \"variable\": \"soil\", \"value\": 5093750.72345, \"soil\": 5093750.72345}, {\"timestamp\": \"2021-11-15T00:01:44\", \"season\": 2425, \"variable\": \"soil\", \"value\": 4660256.234287, \"soil\": 4660256.234287}, {\"timestamp\": \"2021-11-16T00:00:56\", \"season\": 2449, \"variable\": \"soil\", \"value\": 4266656.147715, \"soil\": 4266656.147715}, {\"timestamp\": \"2021-11-17T00:00:50\", \"season\": 2473, \"variable\": \"soil\", \"value\": 3818894.966688, \"soil\": 3818894.966688}, {\"timestamp\": \"2021-11-18T00:00:38\", \"season\": 2497, \"variable\": \"soil\", \"value\": 3447274.930689, \"soil\": 3447274.930689}, {\"timestamp\": \"2021-11-19T00:00:49\", \"season\": 2521, \"variable\": \"soil\", \"value\": 3191193.065133, \"soil\": 3191193.065133}, {\"timestamp\": \"2021-11-20T00:01:08\", \"season\": 2545, \"variable\": \"soil\", \"value\": 3033673.700498, \"soil\": 3033673.700498}, {\"timestamp\": \"2021-11-21T00:00:01\", \"season\": 2569, \"variable\": \"soil\", \"value\": 2797154.968294, \"soil\": 2797154.968294}, {\"timestamp\": \"2021-11-22T00:01:39\", \"season\": 2593, \"variable\": \"soil\", \"value\": 2315403.880763, \"soil\": 2315403.880763}, {\"timestamp\": \"2021-11-23T00:01:23\", \"season\": 2617, \"variable\": \"soil\", \"value\": 1650602.336698, \"soil\": 1650602.336698}, {\"timestamp\": \"2021-11-24T00:00:42\", \"season\": 2629, \"variable\": \"soil\", \"value\": 234742.180881, \"soil\": 234742.180881}, {\"timestamp\": \"2021-11-25T00:00:29\", \"season\": 2653, \"variable\": \"soil\", \"value\": 0.0, \"soil\": 0.0}, {\"timestamp\": \"2021-11-26T00:00:31\", \"season\": 2677, \"variable\": \"soil\", \"value\": 7837.175478, \"soil\": 7837.175478}, {\"timestamp\": \"2021-11-27T00:00:49\", \"season\": 2701, \"variable\": \"soil\", \"value\": 0.0, \"soil\": 0.0}, {\"timestamp\": \"2021-11-28T00:00:38\", \"season\": 2725, \"variable\": \"soil\", \"value\": 0.0, \"soil\": 0.0}, {\"timestamp\": \"2021-11-29T00:01:08\", \"season\": 2749, \"variable\": \"soil\", \"value\": 0.0, \"soil\": 0.0}, {\"timestamp\": \"2021-11-30T00:01:06\", \"season\": 2773, \"variable\": \"soil\", \"value\": 0.0, \"soil\": 0.0}, {\"timestamp\": \"2021-12-01T00:02:37\", \"season\": 2797, \"variable\": \"soil\", \"value\": 0.0, \"soil\": 0.0}, {\"timestamp\": \"2021-12-02T00:01:18\", \"season\": 2821, \"variable\": \"soil\", \"value\": 830439.352195, \"soil\": 830439.352195}, {\"timestamp\": \"2021-12-03T00:01:08\", \"season\": 2845, \"variable\": \"soil\", \"value\": 961530.990208, \"soil\": 961530.990208}, {\"timestamp\": \"2021-12-04T00:00:14\", \"season\": 2869, \"variable\": \"soil\", \"value\": 3196984.066978, \"soil\": 3196984.066978}, {\"timestamp\": \"2021-12-05T00:00:54\", \"season\": 2893, \"variable\": \"soil\", \"value\": 5472654.483347, \"soil\": 5472654.483347}, {\"timestamp\": \"2021-12-06T00:00:12\", \"season\": 2917, \"variable\": \"soil\", \"value\": 10513759.313496, \"soil\": 10513759.313496}, {\"timestamp\": \"2021-12-07T00:00:11\", \"season\": 2941, \"variable\": \"soil\", \"value\": 11475874.969158, \"soil\": 11475874.969158}, {\"timestamp\": \"2021-12-08T00:00:12\", \"season\": 2965, \"variable\": \"soil\", \"value\": 11451279.796013, \"soil\": 11451279.796013}, {\"timestamp\": \"2021-12-09T00:00:34\", \"season\": 2989, \"variable\": \"soil\", \"value\": 11447058.109005, \"soil\": 11447058.109005}, {\"timestamp\": \"2021-12-10T00:00:24\", \"season\": 3013, \"variable\": \"soil\", \"value\": 11429998.976683, \"soil\": 11429998.976683}, {\"timestamp\": \"2021-12-11T00:00:51\", \"season\": 3037, \"variable\": \"soil\", \"value\": 11372780.406093, \"soil\": 11372780.406093}, {\"timestamp\": \"2021-12-12T00:01:06\", \"season\": 3061, \"variable\": \"soil\", \"value\": 11311941.825069, \"soil\": 11311941.825069}, {\"timestamp\": \"2021-12-13T00:00:12\", \"season\": 3085, \"variable\": \"soil\", \"value\": 11312782.815897, \"soil\": 11312782.815897}, {\"timestamp\": \"2021-12-14T00:01:35\", \"season\": 3109, \"variable\": \"soil\", \"value\": 11299802.489386, \"soil\": 11299802.489386}, {\"timestamp\": \"2021-12-15T00:00:04\", \"season\": 3133, \"variable\": \"soil\", \"value\": 11286310.043039, \"soil\": 11286310.043039}, {\"timestamp\": \"2021-12-16T00:00:57\", \"season\": 3157, \"variable\": \"soil\", \"value\": 11278724.909001, \"soil\": 11278724.909001}, {\"timestamp\": \"2021-12-17T00:00:10\", \"season\": 3181, \"variable\": \"soil\", \"value\": 11271185.180015, \"soil\": 11271185.180015}, {\"timestamp\": \"2021-12-18T00:01:09\", \"season\": 3205, \"variable\": \"soil\", \"value\": 11257288.386463, \"soil\": 11257288.386463}, {\"timestamp\": \"2021-12-19T00:00:42\", \"season\": 3229, \"variable\": \"soil\", \"value\": 11208833.336431, \"soil\": 11208833.336431}, {\"timestamp\": \"2021-12-20T00:01:07\", \"season\": 3253, \"variable\": \"soil\", \"value\": 11140021.30722, \"soil\": 11140021.30722}, {\"timestamp\": \"2021-12-21T00:00:51\", \"season\": 3277, \"variable\": \"soil\", \"value\": 11126641.727797, \"soil\": 11126641.727797}, {\"timestamp\": \"2021-12-22T00:00:33\", \"season\": 3301, \"variable\": \"soil\", \"value\": 10932782.124114, \"soil\": 10932782.124114}, {\"timestamp\": \"2021-12-23T00:00:46\", \"season\": 3325, \"variable\": \"soil\", \"value\": 10798959.630762, \"soil\": 10798959.630762}, {\"timestamp\": \"2021-12-24T00:00:14\", \"season\": 3349, \"variable\": \"soil\", \"value\": 10881755.919988, \"soil\": 10881755.919988}, {\"timestamp\": \"2021-12-25T00:00:15\", \"season\": 3373, \"variable\": \"soil\", \"value\": 10783793.855407, \"soil\": 10783793.855407}, {\"timestamp\": \"2021-12-26T00:00:01\", \"season\": 3397, \"variable\": \"soil\", \"value\": 10763770.954442, \"soil\": 10763770.954442}, {\"timestamp\": \"2021-12-27T00:00:08\", \"season\": 3421, \"variable\": \"soil\", \"value\": 10849307.971805, \"soil\": 10849307.971805}, {\"timestamp\": \"2021-12-28T00:01:16\", \"season\": 3445, \"variable\": \"soil\", \"value\": 10711074.143565, \"soil\": 10711074.143565}, {\"timestamp\": \"2021-12-29T00:00:14\", \"season\": 3469, \"variable\": \"soil\", \"value\": 10683447.488403, \"soil\": 10683447.488403}, {\"timestamp\": \"2021-12-30T00:01:18\", \"season\": 3493, \"variable\": \"soil\", \"value\": 10601725.338337, \"soil\": 10601725.338337}, {\"timestamp\": \"2021-12-31T00:01:05\", \"season\": 3517, \"variable\": \"soil\", \"value\": 10511731.766848, \"soil\": 10511731.766848}, {\"timestamp\": \"2022-01-01T00:00:03\", \"season\": 3541, \"variable\": \"soil\", \"value\": 10348284.794199, \"soil\": 10348284.794199}, {\"timestamp\": \"2022-01-02T00:01:07\", \"season\": 3565, \"variable\": \"soil\", \"value\": 10319688.958394, \"soil\": 10319688.958394}, {\"timestamp\": \"2022-01-03T00:00:08\", \"season\": 3589, \"variable\": \"soil\", \"value\": 10245226.535957, \"soil\": 10245226.535957}, {\"timestamp\": \"2022-01-04T00:01:40\", \"season\": 3613, \"variable\": \"soil\", \"value\": 10183087.889889, \"soil\": 10183087.889889}, {\"timestamp\": \"2022-01-05T00:02:09\", \"season\": 3637, \"variable\": \"soil\", \"value\": 10107776.035059, \"soil\": 10107776.035059}, {\"timestamp\": \"2022-01-06T00:00:34\", \"season\": 3661, \"variable\": \"soil\", \"value\": 24316.716629, \"soil\": 24316.716629}, {\"timestamp\": \"2022-01-07T00:00:38\", \"season\": 3685, \"variable\": \"soil\", \"value\": 56431.402855, \"soil\": 56431.402855}, {\"timestamp\": \"2022-01-08T00:00:16\", \"season\": 3709, \"variable\": \"soil\", \"value\": 78640.952677, \"soil\": 78640.952677}, {\"timestamp\": \"2022-01-09T00:00:49\", \"season\": 3733, \"variable\": \"soil\", \"value\": 78544.901609, \"soil\": 78544.901609}, {\"timestamp\": \"2022-01-10T00:01:00\", \"season\": 3757, \"variable\": \"soil\", \"value\": 88141.918513, \"soil\": 88141.918513}, {\"timestamp\": \"2022-01-11T00:01:20\", \"season\": 3781, \"variable\": \"soil\", \"value\": 52663.19667, \"soil\": 52663.19667}, {\"timestamp\": \"2022-01-12T00:02:53\", \"season\": 3805, \"variable\": \"soil\", \"value\": 80205.86223, \"soil\": 80205.86223}, {\"timestamp\": \"2022-01-13T00:02:25\", \"season\": 3829, \"variable\": \"soil\", \"value\": 148633.764568, \"soil\": 148633.764568}, {\"timestamp\": \"2022-01-14T00:04:29\", \"season\": 3853, \"variable\": \"soil\", \"value\": 21526.764546, \"soil\": 21526.764546}, {\"timestamp\": \"2022-01-15T00:01:05\", \"season\": 3877, \"variable\": \"soil\", \"value\": 80857.023481, \"soil\": 80857.023481}, {\"timestamp\": \"2022-01-16T00:00:19\", \"season\": 3901, \"variable\": \"soil\", \"value\": 52246.787147, \"soil\": 52246.787147}, {\"timestamp\": \"2022-01-17T00:01:09\", \"season\": 3925, \"variable\": \"soil\", \"value\": 140863.583638, \"soil\": 140863.583638}, {\"timestamp\": \"2022-01-18T00:00:24\", \"season\": 3949, \"variable\": \"soil\", \"value\": 114997.300241, \"soil\": 114997.300241}, {\"timestamp\": \"2022-01-19T00:01:17\", \"season\": 3973, \"variable\": \"soil\", \"value\": 126336.095394, \"soil\": 126336.095394}, {\"timestamp\": \"2022-01-20T00:00:37\", \"season\": 3997, \"variable\": \"soil\", \"value\": 72721.100063, \"soil\": 72721.100063}, {\"timestamp\": \"2022-01-21T00:00:23\", \"season\": 4021, \"variable\": \"soil\", \"value\": 111749.934142, \"soil\": 111749.934142}, {\"timestamp\": \"2022-01-22T00:02:29\", \"season\": 4045, \"variable\": \"soil\", \"value\": 149125.152362, \"soil\": 149125.152362}, {\"timestamp\": \"2022-01-23T00:00:48\", \"season\": 4069, \"variable\": \"soil\", \"value\": 193142.548964, \"soil\": 193142.548964}, {\"timestamp\": \"2022-01-24T00:02:29\", \"season\": 4093, \"variable\": \"soil\", \"value\": 185707.447691, \"soil\": 185707.447691}, {\"timestamp\": \"2022-01-25T00:00:10\", \"season\": 4117, \"variable\": \"soil\", \"value\": 188809.48248, \"soil\": 188809.48248}, {\"timestamp\": \"2022-01-26T00:00:17\", \"season\": 4141, \"variable\": \"soil\", \"value\": 191940.844248, \"soil\": 191940.844248}, {\"timestamp\": \"2022-01-27T00:00:24\", \"season\": 4165, \"variable\": \"soil\", \"value\": 98216.842509, \"soil\": 98216.842509}, {\"timestamp\": \"2022-01-28T00:00:55\", \"season\": 4189, \"variable\": \"soil\", \"value\": 51320.074014, \"soil\": 51320.074014}, {\"timestamp\": \"2022-01-29T00:00:04\", \"season\": 4213, \"variable\": \"soil\", \"value\": 47687.193114, \"soil\": 47687.193114}, {\"timestamp\": \"2022-01-30T00:00:07\", \"season\": 4237, \"variable\": \"soil\", \"value\": 26545.036251, \"soil\": 26545.036251}, {\"timestamp\": \"2022-01-31T00:00:00\", \"season\": 4261, \"variable\": \"soil\", \"value\": 3306.043935, \"soil\": 3306.043935}, {\"timestamp\": \"2022-02-01T00:00:47\", \"season\": 4285, \"variable\": \"soil\", \"value\": 955.706426, \"soil\": 955.706426}, {\"timestamp\": \"2022-02-02T00:02:56\", \"season\": 4309, \"variable\": \"soil\", \"value\": 7.031203, \"soil\": 7.031203}, {\"timestamp\": \"2022-02-03T00:00:03\", \"season\": 4333, \"variable\": \"soil\", \"value\": 53.532421, \"soil\": 53.532421}, {\"timestamp\": \"2022-02-04T00:01:08\", \"season\": 4357, \"variable\": \"soil\", \"value\": 6081.224944, \"soil\": 6081.224944}, {\"timestamp\": \"2022-02-05T00:00:19\", \"season\": 4381, \"variable\": \"soil\", \"value\": 0.0, \"soil\": 0.0}, {\"timestamp\": \"2022-02-06T00:00:11\", \"season\": 4405, \"variable\": \"soil\", \"value\": 0.0, \"soil\": 0.0}, {\"timestamp\": \"2022-02-07T00:00:02\", \"season\": 4429, \"variable\": \"soil\", \"value\": 34.556051, \"soil\": 34.556051}, {\"timestamp\": \"2022-02-08T00:00:30\", \"season\": 4453, \"variable\": \"soil\", \"value\": 6990.022516, \"soil\": 6990.022516}, {\"timestamp\": \"2022-02-09T00:00:10\", \"season\": 4477, \"variable\": \"soil\", \"value\": 444.628942, \"soil\": 444.628942}, {\"timestamp\": \"2022-02-10T00:00:44\", \"season\": 4501, \"variable\": \"soil\", \"value\": 3309.72101, \"soil\": 3309.72101}, {\"timestamp\": \"2022-02-11T00:00:06\", \"season\": 4525, \"variable\": \"soil\", \"value\": 15933.693716, \"soil\": 15933.693716}, {\"timestamp\": \"2022-02-12T00:00:06\", \"season\": 4549, \"variable\": \"soil\", \"value\": 8448.289316, \"soil\": 8448.289316}, {\"timestamp\": \"2022-02-13T00:00:56\", \"season\": 4573, \"variable\": \"soil\", \"value\": 4935.136585, \"soil\": 4935.136585}, {\"timestamp\": \"2022-02-14T00:00:11\", \"season\": 4597, \"variable\": \"soil\", \"value\": 70.548104, \"soil\": 70.548104}, {\"timestamp\": \"2022-02-15T00:00:35\", \"season\": 4621, \"variable\": \"soil\", \"value\": 0.616962, \"soil\": 0.616962}, {\"timestamp\": \"2022-02-16T00:00:34\", \"season\": 4645, \"variable\": \"soil\", \"value\": 3375.675151, \"soil\": 3375.675151}, {\"timestamp\": \"2022-02-17T00:00:02\", \"season\": 4669, \"variable\": \"soil\", \"value\": 32774.824743, \"soil\": 32774.824743}, {\"timestamp\": \"2022-02-18T00:00:14\", \"season\": 4693, \"variable\": \"soil\", \"value\": 3953.722012, \"soil\": 3953.722012}, {\"timestamp\": \"2022-02-19T00:00:02\", \"season\": 4717, \"variable\": \"soil\", \"value\": 16516.8167, \"soil\": 16516.8167}, {\"timestamp\": \"2022-02-20T00:00:15\", \"season\": 4741, \"variable\": \"soil\", \"value\": 0.0, \"soil\": 0.0}, {\"timestamp\": \"2022-02-21T00:00:06\", \"season\": 4765, \"variable\": \"soil\", \"value\": 2674.352324, \"soil\": 2674.352324}, {\"timestamp\": \"2022-02-22T00:00:01\", \"season\": 4789, \"variable\": \"soil\", \"value\": 18847.355772, \"soil\": 18847.355772}, {\"timestamp\": \"2022-02-23T00:00:27\", \"season\": 4813, \"variable\": \"soil\", \"value\": 23001.78624, \"soil\": 23001.78624}, {\"timestamp\": \"2022-02-24T00:00:01\", \"season\": 4837, \"variable\": \"soil\", \"value\": 10670.619883, \"soil\": 10670.619883}, {\"timestamp\": \"2022-02-25T00:00:06\", \"season\": 4861, \"variable\": \"soil\", \"value\": 6856.691524, \"soil\": 6856.691524}, {\"timestamp\": \"2022-02-26T00:00:28\", \"season\": 4885, \"variable\": \"soil\", \"value\": 8770.715833, \"soil\": 8770.715833}, {\"timestamp\": \"2022-02-27T00:00:02\", \"season\": 4909, \"variable\": \"soil\", \"value\": 2233.706921, \"soil\": 2233.706921}, {\"timestamp\": \"2022-02-28T00:00:02\", \"season\": 4933, \"variable\": \"soil\", \"value\": 44.233466, \"soil\": 44.233466}, {\"timestamp\": \"2022-03-01T00:00:18\", \"season\": 4957, \"variable\": \"soil\", \"value\": 0.0, \"soil\": 0.0}, {\"timestamp\": \"2022-03-02T00:00:00\", \"season\": 4981, \"variable\": \"soil\", \"value\": 46.425606, \"soil\": 46.425606}, {\"timestamp\": \"2022-03-03T00:00:02\", \"season\": 5005, \"variable\": \"soil\", \"value\": 25.178558, \"soil\": 25.178558}, {\"timestamp\": \"2022-03-04T00:00:35\", \"season\": 5029, \"variable\": \"soil\", \"value\": 10740.177507, \"soil\": 10740.177507}, {\"timestamp\": \"2022-03-05T00:00:30\", \"season\": 5053, \"variable\": \"soil\", \"value\": 19227.963289, \"soil\": 19227.963289}, {\"timestamp\": \"2022-03-06T00:00:17\", \"season\": 5077, \"variable\": \"soil\", \"value\": 6650.903745, \"soil\": 6650.903745}, {\"timestamp\": \"2022-03-07T00:00:15\", \"season\": 5101, \"variable\": \"soil\", \"value\": 5858.805578, \"soil\": 5858.805578}, {\"timestamp\": \"2022-03-08T00:00:01\", \"season\": 5125, \"variable\": \"soil\", \"value\": 39.464108, \"soil\": 39.464108}, {\"timestamp\": \"2022-03-09T00:00:04\", \"season\": 5149, \"variable\": \"soil\", \"value\": 0.0, \"soil\": 0.0}, {\"timestamp\": \"2022-03-10T00:00:17\", \"season\": 5173, \"variable\": \"soil\", \"value\": 0.0, \"soil\": 0.0}, {\"timestamp\": \"2022-03-11T00:00:09\", \"season\": 5197, \"variable\": \"soil\", \"value\": 0.0, \"soil\": 0.0}, {\"timestamp\": \"2022-03-12T00:00:05\", \"season\": 5221, \"variable\": \"soil\", \"value\": 0.0, \"soil\": 0.0}, {\"timestamp\": \"2022-03-13T00:00:01\", \"season\": 5245, \"variable\": \"soil\", \"value\": 0.0, \"soil\": 0.0}, {\"timestamp\": \"2022-03-14T00:00:04\", \"season\": 5269, \"variable\": \"soil\", \"value\": 0.0, \"soil\": 0.0}, {\"timestamp\": \"2022-03-15T00:00:14\", \"season\": 5293, \"variable\": \"soil\", \"value\": 0.0, \"soil\": 0.0}, {\"timestamp\": \"2022-03-16T00:00:05\", \"season\": 5317, \"variable\": \"soil\", \"value\": 0.0, \"soil\": 0.0}, {\"timestamp\": \"2022-03-17T00:00:07\", \"season\": 5341, \"variable\": \"soil\", \"value\": 0.0, \"soil\": 0.0}, {\"timestamp\": \"2022-03-18T00:00:08\", \"season\": 5365, \"variable\": \"soil\", \"value\": 0.0, \"soil\": 0.0}, {\"timestamp\": \"2022-03-19T00:00:09\", \"season\": 5389, \"variable\": \"soil\", \"value\": 0.394522, \"soil\": 0.394522}, {\"timestamp\": \"2022-03-20T00:00:11\", \"season\": 5413, \"variable\": \"soil\", \"value\": 0.0, \"soil\": 0.0}, {\"timestamp\": \"2022-03-21T00:00:14\", \"season\": 5437, \"variable\": \"soil\", \"value\": 32.009841, \"soil\": 32.009841}, {\"timestamp\": \"2022-03-22T00:00:02\", \"season\": 5461, \"variable\": \"soil\", \"value\": 0.0, \"soil\": 0.0}, {\"timestamp\": \"2022-03-23T00:00:07\", \"season\": 5485, \"variable\": \"soil\", \"value\": 1.908448, \"soil\": 1.908448}, {\"timestamp\": \"2022-03-24T00:00:59\", \"season\": 5509, \"variable\": \"soil\", \"value\": 30.93675, \"soil\": 30.93675}, {\"timestamp\": \"2022-03-25T00:00:02\", \"season\": 5533, \"variable\": \"soil\", \"value\": 0.0, \"soil\": 0.0}, {\"timestamp\": \"2022-03-26T00:00:19\", \"season\": 5557, \"variable\": \"soil\", \"value\": 0.0, \"soil\": 0.0}, {\"timestamp\": \"2022-03-27T00:00:05\", \"season\": 5581, \"variable\": \"soil\", \"value\": 4.007707, \"soil\": 4.007707}, {\"timestamp\": \"2022-03-28T00:01:21\", \"season\": 5605, \"variable\": \"soil\", \"value\": 0.0, \"soil\": 0.0}, {\"timestamp\": \"2022-03-29T00:00:19\", \"season\": 5629, \"variable\": \"soil\", \"value\": 0.0, \"soil\": 0.0}, {\"timestamp\": \"2022-03-30T00:00:24\", \"season\": 5653, \"variable\": \"soil\", \"value\": 4.962634, \"soil\": 4.962634}, {\"timestamp\": \"2022-03-31T00:00:03\", \"season\": 5677, \"variable\": \"soil\", \"value\": 0.0, \"soil\": 0.0}, {\"timestamp\": \"2022-04-01T00:00:21\", \"season\": 5701, \"variable\": \"soil\", \"value\": 0.0, \"soil\": 0.0}, {\"timestamp\": \"2022-04-02T00:00:09\", \"season\": 5725, \"variable\": \"soil\", \"value\": 2.474597, \"soil\": 2.474597}, {\"timestamp\": \"2022-04-03T00:00:06\", \"season\": 5749, \"variable\": \"soil\", \"value\": 2.569161, \"soil\": 2.569161}, {\"timestamp\": \"2022-04-04T00:00:00\", \"season\": 5773, \"variable\": \"soil\", \"value\": 0.0, \"soil\": 0.0}, {\"timestamp\": \"2022-04-05T00:00:21\", \"season\": 5797, \"variable\": \"soil\", \"value\": 0.197468, \"soil\": 0.197468}, {\"timestamp\": \"2022-04-06T00:00:27\", \"season\": 5821, \"variable\": \"soil\", \"value\": 3.783645, \"soil\": 3.783645}, {\"timestamp\": \"2022-04-07T00:01:08\", \"season\": 5845, \"variable\": \"soil\", \"value\": 0.0, \"soil\": 0.0}, {\"timestamp\": \"2022-04-08T00:00:13\", \"season\": 5869, \"variable\": \"soil\", \"value\": 0.0, \"soil\": 0.0}, {\"timestamp\": \"2022-04-09T00:00:00\", \"season\": 5893, \"variable\": \"soil\", \"value\": 0.0, \"soil\": 0.0}, {\"timestamp\": \"2022-04-10T00:02:19\", \"season\": 5917, \"variable\": \"soil\", \"value\": 0.0, \"soil\": 0.0}, {\"timestamp\": \"2022-04-11T00:00:03\", \"season\": 5941, \"variable\": \"soil\", \"value\": 1.706668, \"soil\": 1.706668}, {\"timestamp\": \"2022-04-12T00:00:14\", \"season\": 5965, \"variable\": \"soil\", \"value\": 0.0, \"soil\": 0.0}, {\"timestamp\": \"2022-04-13T00:00:14\", \"season\": 5989, \"variable\": \"soil\", \"value\": 0.0, \"soil\": 0.0}, {\"timestamp\": \"2022-04-14T00:00:06\", \"season\": 6013, \"variable\": \"soil\", \"value\": 0.0, \"soil\": 0.0}, {\"timestamp\": \"2022-04-15T00:00:36\", \"season\": 6037, \"variable\": \"soil\", \"value\": 0.0, \"soil\": 0.0}, {\"timestamp\": \"2022-04-16T00:00:56\", \"season\": 6061, \"variable\": \"soil\", \"value\": 0.0, \"soil\": 0.0}, {\"timestamp\": \"2022-08-05T03:47:15\", \"season\": 6074, \"variable\": \"soil\", \"value\": 0.0, \"soil\": 0.0}, {\"timestamp\": \"2022-08-06T23:00:33\", \"season\": 6081, \"variable\": \"soil\", \"value\": 0.0, \"soil\": 0.0}, {\"timestamp\": \"2022-08-07T23:00:32\", \"season\": 6105, \"variable\": \"soil\", \"value\": 0.0, \"soil\": 0.0}, {\"timestamp\": \"2022-08-08T23:00:11\", \"season\": 6129, \"variable\": \"soil\", \"value\": 0.0, \"soil\": 0.0}, {\"timestamp\": \"2022-08-09T23:00:00\", \"season\": 6153, \"variable\": \"soil\", \"value\": 34356.435258, \"soil\": 34356.435258}, {\"timestamp\": \"2022-08-10T23:00:22\", \"season\": 6177, \"variable\": \"soil\", \"value\": 0.0, \"soil\": 0.0}, {\"timestamp\": \"2022-08-11T23:00:51\", \"season\": 6201, \"variable\": \"soil\", \"value\": 0.0, \"soil\": 0.0}, {\"timestamp\": \"2022-08-12T23:00:02\", \"season\": 6225, \"variable\": \"soil\", \"value\": 0.0, \"soil\": 0.0}, {\"timestamp\": \"2022-08-13T23:00:00\", \"season\": 6249, \"variable\": \"soil\", \"value\": 0.0, \"soil\": 0.0}, {\"timestamp\": \"2022-08-14T23:00:05\", \"season\": 6273, \"variable\": \"soil\", \"value\": 0.0, \"soil\": 0.0}, {\"timestamp\": \"2022-08-15T23:00:00\", \"season\": 6297, \"variable\": \"soil\", \"value\": 0.0, \"soil\": 0.0}, {\"timestamp\": \"2022-08-16T23:00:20\", \"season\": 6321, \"variable\": \"soil\", \"value\": 0.0, \"soil\": 0.0}, {\"timestamp\": \"2022-08-17T23:00:15\", \"season\": 6345, \"variable\": \"soil\", \"value\": 0.0, \"soil\": 0.0}, {\"timestamp\": \"2022-08-18T23:00:38\", \"season\": 6369, \"variable\": \"soil\", \"value\": 0.0, \"soil\": 0.0}, {\"timestamp\": \"2022-08-19T23:00:06\", \"season\": 6393, \"variable\": \"soil\", \"value\": 0.0, \"soil\": 0.0}, {\"timestamp\": \"2022-08-20T23:00:38\", \"season\": 6417, \"variable\": \"soil\", \"value\": 0.0, \"soil\": 0.0}, {\"timestamp\": \"2022-08-21T23:00:14\", \"season\": 6441, \"variable\": \"soil\", \"value\": 0.0, \"soil\": 0.0}, {\"timestamp\": \"2022-08-22T23:00:22\", \"season\": 6465, \"variable\": \"soil\", \"value\": 0.0, \"soil\": 0.0}, {\"timestamp\": \"2022-08-23T23:01:12\", \"season\": 6489, \"variable\": \"soil\", \"value\": 0.0, \"soil\": 0.0}, {\"timestamp\": \"2022-08-24T23:00:02\", \"season\": 6513, \"variable\": \"soil\", \"value\": 0.0, \"soil\": 0.0}, {\"timestamp\": \"2022-08-25T23:00:43\", \"season\": 6537, \"variable\": \"soil\", \"value\": 0.0, \"soil\": 0.0}, {\"timestamp\": \"2022-08-26T23:00:18\", \"season\": 6561, \"variable\": \"soil\", \"value\": 0.0, \"soil\": 0.0}, {\"timestamp\": \"2022-08-27T23:00:24\", \"season\": 6585, \"variable\": \"soil\", \"value\": 0.0, \"soil\": 0.0}, {\"timestamp\": \"2022-08-28T23:00:05\", \"season\": 6609, \"variable\": \"soil\", \"value\": 0.0, \"soil\": 0.0}, {\"timestamp\": \"2022-08-29T23:00:40\", \"season\": 6633, \"variable\": \"soil\", \"value\": 0.0, \"soil\": 0.0}, {\"timestamp\": \"2022-08-30T23:00:14\", \"season\": 6657, \"variable\": \"soil\", \"value\": 0.0, \"soil\": 0.0}, {\"timestamp\": \"2022-08-31T23:00:02\", \"season\": 6681, \"variable\": \"soil\", \"value\": 0.0, \"soil\": 0.0}, {\"timestamp\": \"2022-09-01T23:00:03\", \"season\": 6705, \"variable\": \"soil\", \"value\": 0.0, \"soil\": 0.0}, {\"timestamp\": \"2022-09-02T23:00:12\", \"season\": 6729, \"variable\": \"soil\", \"value\": 0.0, \"soil\": 0.0}, {\"timestamp\": \"2022-09-03T23:00:07\", \"season\": 6753, \"variable\": \"soil\", \"value\": 0.0, \"soil\": 0.0}, {\"timestamp\": \"2022-09-04T23:00:04\", \"season\": 6777, \"variable\": \"soil\", \"value\": 0.0, \"soil\": 0.0}, {\"timestamp\": \"2022-09-05T23:00:01\", \"season\": 6801, \"variable\": \"soil\", \"value\": 0.0, \"soil\": 0.0}, {\"timestamp\": \"2022-09-06T23:00:27\", \"season\": 6825, \"variable\": \"soil\", \"value\": 0.0, \"soil\": 0.0}, {\"timestamp\": \"2022-09-07T23:00:10\", \"season\": 6849, \"variable\": \"soil\", \"value\": 0.0, \"soil\": 0.0}, {\"timestamp\": \"2022-09-08T23:00:04\", \"season\": 6873, \"variable\": \"soil\", \"value\": 0.0, \"soil\": 0.0}, {\"timestamp\": \"2022-09-09T23:00:00\", \"season\": 6897, \"variable\": \"soil\", \"value\": 0.0, \"soil\": 0.0}, {\"timestamp\": \"2022-09-10T23:00:34\", \"season\": 6921, \"variable\": \"soil\", \"value\": 0.0, \"soil\": 0.0}, {\"timestamp\": \"2022-09-11T23:00:03\", \"season\": 6945, \"variable\": \"soil\", \"value\": 0.0, \"soil\": 0.0}, {\"timestamp\": \"2022-09-12T23:00:06\", \"season\": 6969, \"variable\": \"soil\", \"value\": 0.0, \"soil\": 0.0}, {\"timestamp\": \"2022-09-13T23:00:03\", \"season\": 6993, \"variable\": \"soil\", \"value\": 0.0, \"soil\": 0.0}, {\"timestamp\": \"2022-09-14T23:00:07\", \"season\": 7017, \"variable\": \"soil\", \"value\": 0.0, \"soil\": 0.0}, {\"timestamp\": \"2022-09-15T23:00:11\", \"season\": 7041, \"variable\": \"soil\", \"value\": 0.242779, \"soil\": 0.242779}, {\"timestamp\": \"2022-09-16T23:00:11\", \"season\": 7065, \"variable\": \"soil\", \"value\": 0.0, \"soil\": 0.0}, {\"timestamp\": \"2022-09-17T23:00:23\", \"season\": 7089, \"variable\": \"soil\", \"value\": 0.0, \"soil\": 0.0}, {\"timestamp\": \"2022-09-18T23:00:11\", \"season\": 7113, \"variable\": \"soil\", \"value\": 0.0, \"soil\": 0.0}, {\"timestamp\": \"2022-09-19T23:00:11\", \"season\": 7137, \"variable\": \"soil\", \"value\": 151915.823764, \"soil\": 151915.823764}, {\"timestamp\": \"2022-09-20T23:00:11\", \"season\": 7161, \"variable\": \"soil\", \"value\": 96702.710836, \"soil\": 96702.710836}, {\"timestamp\": \"2022-09-21T23:00:11\", \"season\": 7185, \"variable\": \"soil\", \"value\": 79594.374265, \"soil\": 79594.374265}, {\"timestamp\": \"2022-09-22T23:00:11\", \"season\": 7209, \"variable\": \"soil\", \"value\": 88543.833925, \"soil\": 88543.833925}, {\"timestamp\": \"2022-09-23T23:00:11\", \"season\": 7233, \"variable\": \"soil\", \"value\": 79368.013929, \"soil\": 79368.013929}, {\"timestamp\": \"2022-09-24T23:00:11\", \"season\": 7257, \"variable\": \"soil\", \"value\": 89480.78255, \"soil\": 89480.78255}, {\"timestamp\": \"2022-09-25T23:00:11\", \"season\": 7281, \"variable\": \"soil\", \"value\": 96343.253937, \"soil\": 96343.253937}, {\"timestamp\": \"2022-09-26T23:00:11\", \"season\": 7305, \"variable\": \"soil\", \"value\": 105253.723944, \"soil\": 105253.723944}, {\"timestamp\": \"2022-09-27T23:00:11\", \"season\": 7329, \"variable\": \"soil\", \"value\": 129703.723355, \"soil\": 129703.723355}, {\"timestamp\": \"2022-09-28T23:00:11\", \"season\": 7353, \"variable\": \"soil\", \"value\": 116893.927998, \"soil\": 116893.927998}, {\"timestamp\": \"2022-09-29T23:00:11\", \"season\": 7377, \"variable\": \"soil\", \"value\": 123616.763816, \"soil\": 123616.763816}, {\"timestamp\": \"2022-09-30T23:00:11\", \"season\": 7401, \"variable\": \"soil\", \"value\": 131805.771283, \"soil\": 131805.771283}, {\"timestamp\": \"2022-10-01T23:00:11\", \"season\": 7425, \"variable\": \"soil\", \"value\": 253884.335619, \"soil\": 253884.335619}, {\"timestamp\": \"2022-10-02T23:00:11\", \"season\": 7449, \"variable\": \"soil\", \"value\": 280015.685389, \"soil\": 280015.685389}, {\"timestamp\": \"2022-10-03T23:00:11\", \"season\": 7473, \"variable\": \"soil\", \"value\": 315345.724697, \"soil\": 315345.724697}, {\"timestamp\": \"2022-10-04T23:00:11\", \"season\": 7497, \"variable\": \"soil\", \"value\": 315362.50697, \"soil\": 315362.50697}, {\"timestamp\": \"2022-10-05T23:00:11\", \"season\": 7521, \"variable\": \"soil\", \"value\": 315385.732967, \"soil\": 315385.732967}, {\"timestamp\": \"2022-10-06T23:00:11\", \"season\": 7545, \"variable\": \"soil\", \"value\": 326504.13654, \"soil\": 326504.13654}, {\"timestamp\": \"2022-10-07T23:00:11\", \"season\": 7569, \"variable\": \"soil\", \"value\": 247.015258, \"soil\": 247.015258}, {\"timestamp\": \"2022-10-08T23:00:11\", \"season\": 7593, \"variable\": \"soil\", \"value\": 53128.072811, \"soil\": 53128.072811}, {\"timestamp\": \"2022-10-09T23:00:11\", \"season\": 7617, \"variable\": \"soil\", \"value\": 37588.807311, \"soil\": 37588.807311}, {\"timestamp\": \"2022-10-10T23:00:11\", \"season\": 7641, \"variable\": \"soil\", \"value\": 38122.274917, \"soil\": 38122.274917}, {\"timestamp\": \"2022-10-11T23:00:11\", \"season\": 7665, \"variable\": \"soil\", \"value\": 0.0, \"soil\": 0.0}, {\"timestamp\": \"2022-10-12T23:00:11\", \"season\": 7689, \"variable\": \"soil\", \"value\": 0.0, \"soil\": 0.0}, {\"timestamp\": \"2022-10-13T23:00:11\", \"season\": 7713, \"variable\": \"soil\", \"value\": 0.0, \"soil\": 0.0}, {\"timestamp\": \"2022-10-14T23:00:11\", \"season\": 7737, \"variable\": \"soil\", \"value\": 6341.086054, \"soil\": 6341.086054}, {\"timestamp\": \"2022-10-15T23:00:11\", \"season\": 7761, \"variable\": \"soil\", \"value\": 7970.687664, \"soil\": 7970.687664}, {\"timestamp\": \"2022-10-16T23:00:11\", \"season\": 7785, \"variable\": \"soil\", \"value\": 26385.134956, \"soil\": 26385.134956}, {\"timestamp\": \"2022-10-17T23:00:11\", \"season\": 7809, \"variable\": \"soil\", \"value\": 0.0, \"soil\": 0.0}, {\"timestamp\": \"2022-10-18T23:00:11\", \"season\": 7833, \"variable\": \"soil\", \"value\": 2571.816696, \"soil\": 2571.816696}, {\"timestamp\": \"2022-10-19T23:00:11\", \"season\": 7857, \"variable\": \"soil\", \"value\": 1608.304977, \"soil\": 1608.304977}, {\"timestamp\": \"2022-10-20T23:00:11\", \"season\": 7881, \"variable\": \"soil\", \"value\": 3268.318106, \"soil\": 3268.318106}, {\"timestamp\": \"2022-10-21T23:00:11\", \"season\": 7905, \"variable\": \"soil\", \"value\": 3892.570878, \"soil\": 3892.570878}, {\"timestamp\": \"2022-10-22T23:00:23\", \"season\": 7929, \"variable\": \"soil\", \"value\": 2135.532123, \"soil\": 2135.532123}, {\"timestamp\": \"2022-10-23T23:00:11\", \"season\": 7953, \"variable\": \"soil\", \"value\": 424.571758, \"soil\": 424.571758}, {\"timestamp\": \"2022-10-24T23:00:11\", \"season\": 7977, \"variable\": \"soil\", \"value\": 0.0, \"soil\": 0.0}, {\"timestamp\": \"2022-10-25T23:00:11\", \"season\": 8001, \"variable\": \"soil\", \"value\": 0.0, \"soil\": 0.0}, {\"timestamp\": \"2022-10-26T23:00:11\", \"season\": 8025, \"variable\": \"soil\", \"value\": 0.0, \"soil\": 0.0}, {\"timestamp\": \"2022-10-27T23:00:11\", \"season\": 8049, \"variable\": \"soil\", \"value\": 0.0, \"soil\": 0.0}, {\"timestamp\": \"2022-10-28T23:00:11\", \"season\": 8073, \"variable\": \"soil\", \"value\": 0.0, \"soil\": 0.0}, {\"timestamp\": \"2022-10-29T23:00:11\", \"season\": 8097, \"variable\": \"soil\", \"value\": 0.0, \"soil\": 0.0}, {\"timestamp\": \"2022-10-30T23:00:11\", \"season\": 8121, \"variable\": \"soil\", \"value\": 13173.426692, \"soil\": 13173.426692}, {\"timestamp\": \"2022-10-31T23:00:11\", \"season\": 8145, \"variable\": \"soil\", \"value\": 0.0, \"soil\": 0.0}, {\"timestamp\": \"2022-11-01T23:00:11\", \"season\": 8169, \"variable\": \"soil\", \"value\": 5813.175233, \"soil\": 5813.175233}, {\"timestamp\": \"2022-11-02T23:00:11\", \"season\": 8193, \"variable\": \"soil\", \"value\": 0.0, \"soil\": 0.0}, {\"timestamp\": \"2022-11-03T23:00:11\", \"season\": 8217, \"variable\": \"soil\", \"value\": 0.0, \"soil\": 0.0}, {\"timestamp\": \"2022-11-04T01:00:11\", \"season\": 8219, \"variable\": \"soil\", \"value\": 0.0, \"soil\": 0.0}]}}, {\"mode\": \"vega-lite\"});\n",
       "</script>"
      ],
      "text/plain": [
       "alt.LayerChart(...)"
      ]
     },
     "execution_count": 14,
     "metadata": {},
     "output_type": "execute_result"
    }
   ],
   "source": [
    "colors = {'soil': Batlow_5.hex_colors[2]}\n",
    "format = ',d'\n",
    "c = (\n",
    "    chart(\n",
    "        df, \n",
    "        \"timestamp\", \n",
    "        lmetrics=['soil'], \n",
    "        lstrategy=\"line\", \n",
    "        tooltip_formats={'soil': format},\n",
    "        yaxis_left_kwargs=dict(title=\"soil\", format=format),\n",
    "        hide_legend=True, \n",
    "        colors=colors, \n",
    "        show_exploit_rule=True, \n",
    "        exploit_day=16, \n",
    "    )\n",
    ")\n",
    "\n",
    "css_lines = css_tooltip_timeseries_multi_colored(value_vars, colors) \n",
    "css = \"\\n\".join(css_lines)\n",
    "\n",
    "apply_css(\"\")\n",
    "# apply_css(css)\n",
    "\n",
    "c"
   ]
  },
  {
   "cell_type": "code",
   "execution_count": 15,
   "id": "d6752862",
   "metadata": {},
   "outputs": [
    {
     "data": {
      "application/json": {
       "css": "#vg-tooltip-element tr:nth-child(1) { font-weight: bold }\n#vg-tooltip-element tr:nth-child(1) td:first-child { opacity: 0 }\n\n#vg-tooltip-element tr:nth-child(2) td:first-child { color: #818233 }\n",
       "spec": {
        "$schema": "https://vega.github.io/schema/vega-lite/v4.17.0.json",
        "config": {
         "view": {
          "continuousHeight": 300,
          "continuousWidth": 400
         }
        },
        "data": {
         "name": "data-d2599d05840e6efe73e3b7785c59e49b"
        },
        "datasets": {
         "data-d2599d05840e6efe73e3b7785c59e49b": [
          {
           "season": 25,
           "soil": 4157.01351,
           "timestamp": "2021-08-07T00:06:08",
           "value": 4157.01351,
           "variable": "soil"
          },
          {
           "season": 49,
           "soil": 2760.084775,
           "timestamp": "2021-08-08T00:08:15",
           "value": 2760.084775,
           "variable": "soil"
          },
          {
           "season": 73,
           "soil": 2671.997154,
           "timestamp": "2021-08-09T00:15:57",
           "value": 2671.997154,
           "variable": "soil"
          },
          {
           "season": 97,
           "soil": 241.00212,
           "timestamp": "2021-08-10T00:01:29",
           "value": 241.00212,
           "variable": "soil"
          },
          {
           "season": 121,
           "soil": 436.887705,
           "timestamp": "2021-08-11T00:00:05",
           "value": 436.887705,
           "variable": "soil"
          },
          {
           "season": 145,
           "soil": 37892.365756,
           "timestamp": "2021-08-12T00:01:00",
           "value": 37892.365756,
           "variable": "soil"
          },
          {
           "season": 169,
           "soil": 75243.137489,
           "timestamp": "2021-08-13T00:00:10",
           "value": 75243.137489,
           "variable": "soil"
          },
          {
           "season": 193,
           "soil": 62095.925166,
           "timestamp": "2021-08-14T00:00:29",
           "value": 62095.925166,
           "variable": "soil"
          },
          {
           "season": 217,
           "soil": 80371.97813,
           "timestamp": "2021-08-15T00:00:28",
           "value": 80371.97813,
           "variable": "soil"
          },
          {
           "season": 241,
           "soil": 97889.794404,
           "timestamp": "2021-08-16T00:00:17",
           "value": 97889.794404,
           "variable": "soil"
          },
          {
           "season": 265,
           "soil": 49545.917565,
           "timestamp": "2021-08-17T00:00:04",
           "value": 49545.917565,
           "variable": "soil"
          },
          {
           "season": 289,
           "soil": 69913.517538,
           "timestamp": "2021-08-18T00:00:31",
           "value": 69913.517538,
           "variable": "soil"
          },
          {
           "season": 313,
           "soil": 167538.203533,
           "timestamp": "2021-08-19T00:00:40",
           "value": 167538.203533,
           "variable": "soil"
          },
          {
           "season": 337,
           "soil": 163199.90808,
           "timestamp": "2021-08-20T00:01:04",
           "value": 163199.90808,
           "variable": "soil"
          },
          {
           "season": 361,
           "soil": 137237.801062,
           "timestamp": "2021-08-21T00:00:44",
           "value": 137237.801062,
           "variable": "soil"
          },
          {
           "season": 385,
           "soil": 93518.187155,
           "timestamp": "2021-08-22T00:00:09",
           "value": 93518.187155,
           "variable": "soil"
          },
          {
           "season": 409,
           "soil": 89597.252143,
           "timestamp": "2021-08-23T00:00:29",
           "value": 89597.252143,
           "variable": "soil"
          },
          {
           "season": 433,
           "soil": 134035.163518,
           "timestamp": "2021-08-24T00:00:01",
           "value": 134035.163518,
           "variable": "soil"
          },
          {
           "season": 457,
           "soil": 118252.836957,
           "timestamp": "2021-08-25T00:00:23",
           "value": 118252.836957,
           "variable": "soil"
          },
          {
           "season": 481,
           "soil": 87471.690413,
           "timestamp": "2021-08-26T00:00:49",
           "value": 87471.690413,
           "variable": "soil"
          },
          {
           "season": 505,
           "soil": 34833.370045,
           "timestamp": "2021-08-27T00:02:11",
           "value": 34833.370045,
           "variable": "soil"
          },
          {
           "season": 529,
           "soil": 34302.972962,
           "timestamp": "2021-08-28T00:05:42",
           "value": 34302.972962,
           "variable": "soil"
          },
          {
           "season": 553,
           "soil": 27393.879997,
           "timestamp": "2021-08-29T00:00:21",
           "value": 27393.879997,
           "variable": "soil"
          },
          {
           "season": 577,
           "soil": 21969.692784,
           "timestamp": "2021-08-30T00:00:41",
           "value": 21969.692784,
           "variable": "soil"
          },
          {
           "season": 601,
           "soil": 22220.931744,
           "timestamp": "2021-08-31T00:00:55",
           "value": 22220.931744,
           "variable": "soil"
          },
          {
           "season": 625,
           "soil": 18959.516652,
           "timestamp": "2021-09-01T00:00:46",
           "value": 18959.516652,
           "variable": "soil"
          },
          {
           "season": 649,
           "soil": 9812.200309,
           "timestamp": "2021-09-02T00:02:18",
           "value": 9812.200309,
           "variable": "soil"
          },
          {
           "season": 673,
           "soil": 49630.129912,
           "timestamp": "2021-09-03T00:00:21",
           "value": 49630.129912,
           "variable": "soil"
          },
          {
           "season": 697,
           "soil": 48377.802564,
           "timestamp": "2021-09-04T00:02:33",
           "value": 48377.802564,
           "variable": "soil"
          },
          {
           "season": 721,
           "soil": 1908.67517,
           "timestamp": "2021-09-05T00:02:38",
           "value": 1908.67517,
           "variable": "soil"
          },
          {
           "season": 745,
           "soil": 1256.418179,
           "timestamp": "2021-09-06T00:00:31",
           "value": 1256.418179,
           "variable": "soil"
          },
          {
           "season": 769,
           "soil": 2056.045985,
           "timestamp": "2021-09-07T00:00:25",
           "value": 2056.045985,
           "variable": "soil"
          },
          {
           "season": 793,
           "soil": 3230.115808,
           "timestamp": "2021-09-08T00:00:43",
           "value": 3230.115808,
           "variable": "soil"
          },
          {
           "season": 817,
           "soil": 2289.093306,
           "timestamp": "2021-09-09T00:00:36",
           "value": 2289.093306,
           "variable": "soil"
          },
          {
           "season": 841,
           "soil": 6207.298782,
           "timestamp": "2021-09-10T00:00:47",
           "value": 6207.298782,
           "variable": "soil"
          },
          {
           "season": 865,
           "soil": 2345.737411,
           "timestamp": "2021-09-11T00:00:25",
           "value": 2345.737411,
           "variable": "soil"
          },
          {
           "season": 889,
           "soil": 0,
           "timestamp": "2021-09-12T00:00:06",
           "value": 0,
           "variable": "soil"
          },
          {
           "season": 913,
           "soil": 0,
           "timestamp": "2021-09-13T00:00:34",
           "value": 0,
           "variable": "soil"
          },
          {
           "season": 937,
           "soil": 2514.314169,
           "timestamp": "2021-09-14T00:01:09",
           "value": 2514.314169,
           "variable": "soil"
          },
          {
           "season": 961,
           "soil": 2542.715165,
           "timestamp": "2021-09-15T00:00:38",
           "value": 2542.715165,
           "variable": "soil"
          },
          {
           "season": 985,
           "soil": 8330.452381,
           "timestamp": "2021-09-16T00:00:42",
           "value": 8330.452381,
           "variable": "soil"
          },
          {
           "season": 1009,
           "soil": 10959.138368,
           "timestamp": "2021-09-17T00:00:26",
           "value": 10959.138368,
           "variable": "soil"
          },
          {
           "season": 1033,
           "soil": 0,
           "timestamp": "2021-09-18T00:01:18",
           "value": 0,
           "variable": "soil"
          },
          {
           "season": 1057,
           "soil": 19044.03119,
           "timestamp": "2021-09-19T00:00:06",
           "value": 19044.03119,
           "variable": "soil"
          },
          {
           "season": 1081,
           "soil": 156426.136191,
           "timestamp": "2021-09-20T00:01:40",
           "value": 156426.136191,
           "variable": "soil"
          },
          {
           "season": 1105,
           "soil": 5784703.039592,
           "timestamp": "2021-09-21T00:01:43",
           "value": 5784703.039592,
           "variable": "soil"
          },
          {
           "season": 1129,
           "soil": 5734442.272483,
           "timestamp": "2021-09-22T00:00:16",
           "value": 5734442.272483,
           "variable": "soil"
          },
          {
           "season": 1153,
           "soil": 5724311.241172,
           "timestamp": "2021-09-23T00:02:36",
           "value": 5724311.241172,
           "variable": "soil"
          },
          {
           "season": 1177,
           "soil": 5683865.371268,
           "timestamp": "2021-09-24T00:00:19",
           "value": 5683865.371268,
           "variable": "soil"
          },
          {
           "season": 1201,
           "soil": 5628404.025917,
           "timestamp": "2021-09-25T00:00:21",
           "value": 5628404.025917,
           "variable": "soil"
          },
          {
           "season": 1225,
           "soil": 5608798.665635,
           "timestamp": "2021-09-26T00:00:25",
           "value": 5608798.665635,
           "variable": "soil"
          },
          {
           "season": 1249,
           "soil": 5492366.437033,
           "timestamp": "2021-09-27T00:00:01",
           "value": 5492366.437033,
           "variable": "soil"
          },
          {
           "season": 1273,
           "soil": 5475090.739322,
           "timestamp": "2021-09-28T00:00:06",
           "value": 5475090.739322,
           "variable": "soil"
          },
          {
           "season": 1297,
           "soil": 5399529.058645,
           "timestamp": "2021-09-29T00:00:20",
           "value": 5399529.058645,
           "variable": "soil"
          },
          {
           "season": 1321,
           "soil": 5350354.254871,
           "timestamp": "2021-09-30T00:01:52",
           "value": 5350354.254871,
           "variable": "soil"
          },
          {
           "season": 1345,
           "soil": 5162730.563065,
           "timestamp": "2021-10-01T00:01:44",
           "value": 5162730.563065,
           "variable": "soil"
          },
          {
           "season": 1369,
           "soil": 5104861.471621,
           "timestamp": "2021-10-02T00:00:44",
           "value": 5104861.471621,
           "variable": "soil"
          },
          {
           "season": 1393,
           "soil": 5311521.64153,
           "timestamp": "2021-10-03T00:00:05",
           "value": 5311521.64153,
           "variable": "soil"
          },
          {
           "season": 1417,
           "soil": 5291587.689765,
           "timestamp": "2021-10-04T00:00:32",
           "value": 5291587.689765,
           "variable": "soil"
          },
          {
           "season": 1441,
           "soil": 5284052.330428,
           "timestamp": "2021-10-05T00:03:55",
           "value": 5284052.330428,
           "variable": "soil"
          },
          {
           "season": 1465,
           "soil": 5260868.029193,
           "timestamp": "2021-10-06T00:01:34",
           "value": 5260868.029193,
           "variable": "soil"
          },
          {
           "season": 1489,
           "soil": 5230466.037098,
           "timestamp": "2021-10-07T00:02:24",
           "value": 5230466.037098,
           "variable": "soil"
          },
          {
           "season": 1513,
           "soil": 5201160.656303,
           "timestamp": "2021-10-08T00:01:18",
           "value": 5201160.656303,
           "variable": "soil"
          },
          {
           "season": 1537,
           "soil": 5196437.389395,
           "timestamp": "2021-10-09T00:02:32",
           "value": 5196437.389395,
           "variable": "soil"
          },
          {
           "season": 1561,
           "soil": 5172720.862239,
           "timestamp": "2021-10-10T00:00:39",
           "value": 5172720.862239,
           "variable": "soil"
          },
          {
           "season": 1585,
           "soil": 5186801.210205,
           "timestamp": "2021-10-11T00:00:43",
           "value": 5186801.210205,
           "variable": "soil"
          },
          {
           "season": 1609,
           "soil": 5157081.104831,
           "timestamp": "2021-10-12T00:01:23",
           "value": 5157081.104831,
           "variable": "soil"
          },
          {
           "season": 1633,
           "soil": 5134272.997987,
           "timestamp": "2021-10-13T00:00:49",
           "value": 5134272.997987,
           "variable": "soil"
          },
          {
           "season": 1657,
           "soil": 5127594.425385,
           "timestamp": "2021-10-14T00:01:25",
           "value": 5127594.425385,
           "variable": "soil"
          },
          {
           "season": 1681,
           "soil": 5174984.582605,
           "timestamp": "2021-10-15T00:02:14",
           "value": 5174984.582605,
           "variable": "soil"
          },
          {
           "season": 1705,
           "soil": 5170286.677803,
           "timestamp": "2021-10-16T00:02:08",
           "value": 5170286.677803,
           "variable": "soil"
          },
          {
           "season": 1729,
           "soil": 5155856.081482,
           "timestamp": "2021-10-17T00:00:39",
           "value": 5155856.081482,
           "variable": "soil"
          },
          {
           "season": 1753,
           "soil": 5073374.2602,
           "timestamp": "2021-10-18T00:00:48",
           "value": 5073374.2602,
           "variable": "soil"
          },
          {
           "season": 1777,
           "soil": 5092665.004797,
           "timestamp": "2021-10-19T00:01:14",
           "value": 5092665.004797,
           "variable": "soil"
          },
          {
           "season": 1801,
           "soil": 5145630.86841,
           "timestamp": "2021-10-20T00:00:31",
           "value": 5145630.86841,
           "variable": "soil"
          },
          {
           "season": 1825,
           "soil": 5200185.082321,
           "timestamp": "2021-10-21T00:02:30",
           "value": 5200185.082321,
           "variable": "soil"
          },
          {
           "season": 1849,
           "soil": 5297297.894858,
           "timestamp": "2021-10-22T00:00:33",
           "value": 5297297.894858,
           "variable": "soil"
          },
          {
           "season": 1873,
           "soil": 5305694.199394,
           "timestamp": "2021-10-23T00:00:12",
           "value": 5305694.199394,
           "variable": "soil"
          },
          {
           "season": 1897,
           "soil": 5313844.574134,
           "timestamp": "2021-10-24T00:00:53",
           "value": 5313844.574134,
           "variable": "soil"
          },
          {
           "season": 1921,
           "soil": 5348194.531492,
           "timestamp": "2021-10-25T00:00:35",
           "value": 5348194.531492,
           "variable": "soil"
          },
          {
           "season": 1945,
           "soil": 5387029.440749,
           "timestamp": "2021-10-26T00:00:39",
           "value": 5387029.440749,
           "variable": "soil"
          },
          {
           "season": 1969,
           "soil": 5399634.753675,
           "timestamp": "2021-10-27T00:01:02",
           "value": 5399634.753675,
           "variable": "soil"
          },
          {
           "season": 1993,
           "soil": 5396547.851652,
           "timestamp": "2021-10-28T00:02:23",
           "value": 5396547.851652,
           "variable": "soil"
          },
          {
           "season": 2017,
           "soil": 5332104.65373,
           "timestamp": "2021-10-29T00:01:54",
           "value": 5332104.65373,
           "variable": "soil"
          },
          {
           "season": 2041,
           "soil": 5327507.518007,
           "timestamp": "2021-10-30T00:02:04",
           "value": 5327507.518007,
           "variable": "soil"
          },
          {
           "season": 2065,
           "soil": 5397576.766878,
           "timestamp": "2021-10-31T00:02:28",
           "value": 5397576.766878,
           "variable": "soil"
          },
          {
           "season": 2089,
           "soil": 5391344.617458,
           "timestamp": "2021-11-01T00:01:36",
           "value": 5391344.617458,
           "variable": "soil"
          },
          {
           "season": 2113,
           "soil": 5336355.018781,
           "timestamp": "2021-11-02T00:01:39",
           "value": 5336355.018781,
           "variable": "soil"
          },
          {
           "season": 2137,
           "soil": 5297172.35808,
           "timestamp": "2021-11-03T00:01:22",
           "value": 5297172.35808,
           "variable": "soil"
          },
          {
           "season": 2161,
           "soil": 5394669.975259,
           "timestamp": "2021-11-04T00:01:55",
           "value": 5394669.975259,
           "variable": "soil"
          },
          {
           "season": 2185,
           "soil": 5457846.541539,
           "timestamp": "2021-11-05T00:02:28",
           "value": 5457846.541539,
           "variable": "soil"
          },
          {
           "season": 2209,
           "soil": 5640369.521194,
           "timestamp": "2021-11-06T00:00:17",
           "value": 5640369.521194,
           "variable": "soil"
          },
          {
           "season": 2233,
           "soil": 5684253.772684,
           "timestamp": "2021-11-07T00:00:17",
           "value": 5684253.772684,
           "variable": "soil"
          },
          {
           "season": 2257,
           "soil": 5799378.945438,
           "timestamp": "2021-11-08T00:01:22",
           "value": 5799378.945438,
           "variable": "soil"
          },
          {
           "season": 2281,
           "soil": 5834006.52981,
           "timestamp": "2021-11-09T00:02:23",
           "value": 5834006.52981,
           "variable": "soil"
          },
          {
           "season": 2305,
           "soil": 5909645.918144,
           "timestamp": "2021-11-10T00:00:20",
           "value": 5909645.918144,
           "variable": "soil"
          },
          {
           "season": 2329,
           "soil": 5726281.825129,
           "timestamp": "2021-11-11T00:02:14",
           "value": 5726281.825129,
           "variable": "soil"
          },
          {
           "season": 2353,
           "soil": 5188769.216022,
           "timestamp": "2021-11-12T00:01:57",
           "value": 5188769.216022,
           "variable": "soil"
          },
          {
           "season": 2377,
           "soil": 5005264.917127,
           "timestamp": "2021-11-13T00:00:17",
           "value": 5005264.917127,
           "variable": "soil"
          },
          {
           "season": 2401,
           "soil": 5093750.72345,
           "timestamp": "2021-11-14T00:00:31",
           "value": 5093750.72345,
           "variable": "soil"
          },
          {
           "season": 2425,
           "soil": 4660256.234287,
           "timestamp": "2021-11-15T00:01:44",
           "value": 4660256.234287,
           "variable": "soil"
          },
          {
           "season": 2449,
           "soil": 4266656.147715,
           "timestamp": "2021-11-16T00:00:56",
           "value": 4266656.147715,
           "variable": "soil"
          },
          {
           "season": 2473,
           "soil": 3818894.966688,
           "timestamp": "2021-11-17T00:00:50",
           "value": 3818894.966688,
           "variable": "soil"
          },
          {
           "season": 2497,
           "soil": 3447274.930689,
           "timestamp": "2021-11-18T00:00:38",
           "value": 3447274.930689,
           "variable": "soil"
          },
          {
           "season": 2521,
           "soil": 3191193.065133,
           "timestamp": "2021-11-19T00:00:49",
           "value": 3191193.065133,
           "variable": "soil"
          },
          {
           "season": 2545,
           "soil": 3033673.700498,
           "timestamp": "2021-11-20T00:01:08",
           "value": 3033673.700498,
           "variable": "soil"
          },
          {
           "season": 2569,
           "soil": 2797154.968294,
           "timestamp": "2021-11-21T00:00:01",
           "value": 2797154.968294,
           "variable": "soil"
          },
          {
           "season": 2593,
           "soil": 2315403.880763,
           "timestamp": "2021-11-22T00:01:39",
           "value": 2315403.880763,
           "variable": "soil"
          },
          {
           "season": 2617,
           "soil": 1650602.336698,
           "timestamp": "2021-11-23T00:01:23",
           "value": 1650602.336698,
           "variable": "soil"
          },
          {
           "season": 2629,
           "soil": 234742.180881,
           "timestamp": "2021-11-24T00:00:42",
           "value": 234742.180881,
           "variable": "soil"
          },
          {
           "season": 2653,
           "soil": 0,
           "timestamp": "2021-11-25T00:00:29",
           "value": 0,
           "variable": "soil"
          },
          {
           "season": 2677,
           "soil": 7837.175478,
           "timestamp": "2021-11-26T00:00:31",
           "value": 7837.175478,
           "variable": "soil"
          },
          {
           "season": 2701,
           "soil": 0,
           "timestamp": "2021-11-27T00:00:49",
           "value": 0,
           "variable": "soil"
          },
          {
           "season": 2725,
           "soil": 0,
           "timestamp": "2021-11-28T00:00:38",
           "value": 0,
           "variable": "soil"
          },
          {
           "season": 2749,
           "soil": 0,
           "timestamp": "2021-11-29T00:01:08",
           "value": 0,
           "variable": "soil"
          },
          {
           "season": 2773,
           "soil": 0,
           "timestamp": "2021-11-30T00:01:06",
           "value": 0,
           "variable": "soil"
          },
          {
           "season": 2797,
           "soil": 0,
           "timestamp": "2021-12-01T00:02:37",
           "value": 0,
           "variable": "soil"
          },
          {
           "season": 2821,
           "soil": 830439.352195,
           "timestamp": "2021-12-02T00:01:18",
           "value": 830439.352195,
           "variable": "soil"
          },
          {
           "season": 2845,
           "soil": 961530.990208,
           "timestamp": "2021-12-03T00:01:08",
           "value": 961530.990208,
           "variable": "soil"
          },
          {
           "season": 2869,
           "soil": 3196984.066978,
           "timestamp": "2021-12-04T00:00:14",
           "value": 3196984.066978,
           "variable": "soil"
          },
          {
           "season": 2893,
           "soil": 5472654.483347,
           "timestamp": "2021-12-05T00:00:54",
           "value": 5472654.483347,
           "variable": "soil"
          },
          {
           "season": 2917,
           "soil": 10513759.313496,
           "timestamp": "2021-12-06T00:00:12",
           "value": 10513759.313496,
           "variable": "soil"
          },
          {
           "season": 2941,
           "soil": 11475874.969158,
           "timestamp": "2021-12-07T00:00:11",
           "value": 11475874.969158,
           "variable": "soil"
          },
          {
           "season": 2965,
           "soil": 11451279.796013,
           "timestamp": "2021-12-08T00:00:12",
           "value": 11451279.796013,
           "variable": "soil"
          },
          {
           "season": 2989,
           "soil": 11447058.109005,
           "timestamp": "2021-12-09T00:00:34",
           "value": 11447058.109005,
           "variable": "soil"
          },
          {
           "season": 3013,
           "soil": 11429998.976683,
           "timestamp": "2021-12-10T00:00:24",
           "value": 11429998.976683,
           "variable": "soil"
          },
          {
           "season": 3037,
           "soil": 11372780.406093,
           "timestamp": "2021-12-11T00:00:51",
           "value": 11372780.406093,
           "variable": "soil"
          },
          {
           "season": 3061,
           "soil": 11311941.825069,
           "timestamp": "2021-12-12T00:01:06",
           "value": 11311941.825069,
           "variable": "soil"
          },
          {
           "season": 3085,
           "soil": 11312782.815897,
           "timestamp": "2021-12-13T00:00:12",
           "value": 11312782.815897,
           "variable": "soil"
          },
          {
           "season": 3109,
           "soil": 11299802.489386,
           "timestamp": "2021-12-14T00:01:35",
           "value": 11299802.489386,
           "variable": "soil"
          },
          {
           "season": 3133,
           "soil": 11286310.043039,
           "timestamp": "2021-12-15T00:00:04",
           "value": 11286310.043039,
           "variable": "soil"
          },
          {
           "season": 3157,
           "soil": 11278724.909001,
           "timestamp": "2021-12-16T00:00:57",
           "value": 11278724.909001,
           "variable": "soil"
          },
          {
           "season": 3181,
           "soil": 11271185.180015,
           "timestamp": "2021-12-17T00:00:10",
           "value": 11271185.180015,
           "variable": "soil"
          },
          {
           "season": 3205,
           "soil": 11257288.386463,
           "timestamp": "2021-12-18T00:01:09",
           "value": 11257288.386463,
           "variable": "soil"
          },
          {
           "season": 3229,
           "soil": 11208833.336431,
           "timestamp": "2021-12-19T00:00:42",
           "value": 11208833.336431,
           "variable": "soil"
          },
          {
           "season": 3253,
           "soil": 11140021.30722,
           "timestamp": "2021-12-20T00:01:07",
           "value": 11140021.30722,
           "variable": "soil"
          },
          {
           "season": 3277,
           "soil": 11126641.727797,
           "timestamp": "2021-12-21T00:00:51",
           "value": 11126641.727797,
           "variable": "soil"
          },
          {
           "season": 3301,
           "soil": 10932782.124114,
           "timestamp": "2021-12-22T00:00:33",
           "value": 10932782.124114,
           "variable": "soil"
          },
          {
           "season": 3325,
           "soil": 10798959.630762,
           "timestamp": "2021-12-23T00:00:46",
           "value": 10798959.630762,
           "variable": "soil"
          },
          {
           "season": 3349,
           "soil": 10881755.919988,
           "timestamp": "2021-12-24T00:00:14",
           "value": 10881755.919988,
           "variable": "soil"
          },
          {
           "season": 3373,
           "soil": 10783793.855407,
           "timestamp": "2021-12-25T00:00:15",
           "value": 10783793.855407,
           "variable": "soil"
          },
          {
           "season": 3397,
           "soil": 10763770.954442,
           "timestamp": "2021-12-26T00:00:01",
           "value": 10763770.954442,
           "variable": "soil"
          },
          {
           "season": 3421,
           "soil": 10849307.971805,
           "timestamp": "2021-12-27T00:00:08",
           "value": 10849307.971805,
           "variable": "soil"
          },
          {
           "season": 3445,
           "soil": 10711074.143565,
           "timestamp": "2021-12-28T00:01:16",
           "value": 10711074.143565,
           "variable": "soil"
          },
          {
           "season": 3469,
           "soil": 10683447.488403,
           "timestamp": "2021-12-29T00:00:14",
           "value": 10683447.488403,
           "variable": "soil"
          },
          {
           "season": 3493,
           "soil": 10601725.338337,
           "timestamp": "2021-12-30T00:01:18",
           "value": 10601725.338337,
           "variable": "soil"
          },
          {
           "season": 3517,
           "soil": 10511731.766848,
           "timestamp": "2021-12-31T00:01:05",
           "value": 10511731.766848,
           "variable": "soil"
          },
          {
           "season": 3541,
           "soil": 10348284.794199,
           "timestamp": "2022-01-01T00:00:03",
           "value": 10348284.794199,
           "variable": "soil"
          },
          {
           "season": 3565,
           "soil": 10319688.958394,
           "timestamp": "2022-01-02T00:01:07",
           "value": 10319688.958394,
           "variable": "soil"
          },
          {
           "season": 3589,
           "soil": 10245226.535957,
           "timestamp": "2022-01-03T00:00:08",
           "value": 10245226.535957,
           "variable": "soil"
          },
          {
           "season": 3613,
           "soil": 10183087.889889,
           "timestamp": "2022-01-04T00:01:40",
           "value": 10183087.889889,
           "variable": "soil"
          },
          {
           "season": 3637,
           "soil": 10107776.035059,
           "timestamp": "2022-01-05T00:02:09",
           "value": 10107776.035059,
           "variable": "soil"
          },
          {
           "season": 3661,
           "soil": 24316.716629,
           "timestamp": "2022-01-06T00:00:34",
           "value": 24316.716629,
           "variable": "soil"
          },
          {
           "season": 3685,
           "soil": 56431.402855,
           "timestamp": "2022-01-07T00:00:38",
           "value": 56431.402855,
           "variable": "soil"
          },
          {
           "season": 3709,
           "soil": 78640.952677,
           "timestamp": "2022-01-08T00:00:16",
           "value": 78640.952677,
           "variable": "soil"
          },
          {
           "season": 3733,
           "soil": 78544.901609,
           "timestamp": "2022-01-09T00:00:49",
           "value": 78544.901609,
           "variable": "soil"
          },
          {
           "season": 3757,
           "soil": 88141.918513,
           "timestamp": "2022-01-10T00:01:00",
           "value": 88141.918513,
           "variable": "soil"
          },
          {
           "season": 3781,
           "soil": 52663.19667,
           "timestamp": "2022-01-11T00:01:20",
           "value": 52663.19667,
           "variable": "soil"
          },
          {
           "season": 3805,
           "soil": 80205.86223,
           "timestamp": "2022-01-12T00:02:53",
           "value": 80205.86223,
           "variable": "soil"
          },
          {
           "season": 3829,
           "soil": 148633.764568,
           "timestamp": "2022-01-13T00:02:25",
           "value": 148633.764568,
           "variable": "soil"
          },
          {
           "season": 3853,
           "soil": 21526.764546,
           "timestamp": "2022-01-14T00:04:29",
           "value": 21526.764546,
           "variable": "soil"
          },
          {
           "season": 3877,
           "soil": 80857.023481,
           "timestamp": "2022-01-15T00:01:05",
           "value": 80857.023481,
           "variable": "soil"
          },
          {
           "season": 3901,
           "soil": 52246.787147,
           "timestamp": "2022-01-16T00:00:19",
           "value": 52246.787147,
           "variable": "soil"
          },
          {
           "season": 3925,
           "soil": 140863.583638,
           "timestamp": "2022-01-17T00:01:09",
           "value": 140863.583638,
           "variable": "soil"
          },
          {
           "season": 3949,
           "soil": 114997.300241,
           "timestamp": "2022-01-18T00:00:24",
           "value": 114997.300241,
           "variable": "soil"
          },
          {
           "season": 3973,
           "soil": 126336.095394,
           "timestamp": "2022-01-19T00:01:17",
           "value": 126336.095394,
           "variable": "soil"
          },
          {
           "season": 3997,
           "soil": 72721.100063,
           "timestamp": "2022-01-20T00:00:37",
           "value": 72721.100063,
           "variable": "soil"
          },
          {
           "season": 4021,
           "soil": 111749.934142,
           "timestamp": "2022-01-21T00:00:23",
           "value": 111749.934142,
           "variable": "soil"
          },
          {
           "season": 4045,
           "soil": 149125.152362,
           "timestamp": "2022-01-22T00:02:29",
           "value": 149125.152362,
           "variable": "soil"
          },
          {
           "season": 4069,
           "soil": 193142.548964,
           "timestamp": "2022-01-23T00:00:48",
           "value": 193142.548964,
           "variable": "soil"
          },
          {
           "season": 4093,
           "soil": 185707.447691,
           "timestamp": "2022-01-24T00:02:29",
           "value": 185707.447691,
           "variable": "soil"
          },
          {
           "season": 4117,
           "soil": 188809.48248,
           "timestamp": "2022-01-25T00:00:10",
           "value": 188809.48248,
           "variable": "soil"
          },
          {
           "season": 4141,
           "soil": 191940.844248,
           "timestamp": "2022-01-26T00:00:17",
           "value": 191940.844248,
           "variable": "soil"
          },
          {
           "season": 4165,
           "soil": 98216.842509,
           "timestamp": "2022-01-27T00:00:24",
           "value": 98216.842509,
           "variable": "soil"
          },
          {
           "season": 4189,
           "soil": 51320.074014,
           "timestamp": "2022-01-28T00:00:55",
           "value": 51320.074014,
           "variable": "soil"
          },
          {
           "season": 4213,
           "soil": 47687.193114,
           "timestamp": "2022-01-29T00:00:04",
           "value": 47687.193114,
           "variable": "soil"
          },
          {
           "season": 4237,
           "soil": 26545.036251,
           "timestamp": "2022-01-30T00:00:07",
           "value": 26545.036251,
           "variable": "soil"
          },
          {
           "season": 4261,
           "soil": 3306.043935,
           "timestamp": "2022-01-31T00:00:00",
           "value": 3306.043935,
           "variable": "soil"
          },
          {
           "season": 4285,
           "soil": 955.706426,
           "timestamp": "2022-02-01T00:00:47",
           "value": 955.706426,
           "variable": "soil"
          },
          {
           "season": 4309,
           "soil": 7.031203,
           "timestamp": "2022-02-02T00:02:56",
           "value": 7.031203,
           "variable": "soil"
          },
          {
           "season": 4333,
           "soil": 53.532421,
           "timestamp": "2022-02-03T00:00:03",
           "value": 53.532421,
           "variable": "soil"
          },
          {
           "season": 4357,
           "soil": 6081.224944,
           "timestamp": "2022-02-04T00:01:08",
           "value": 6081.224944,
           "variable": "soil"
          },
          {
           "season": 4381,
           "soil": 0,
           "timestamp": "2022-02-05T00:00:19",
           "value": 0,
           "variable": "soil"
          },
          {
           "season": 4405,
           "soil": 0,
           "timestamp": "2022-02-06T00:00:11",
           "value": 0,
           "variable": "soil"
          },
          {
           "season": 4429,
           "soil": 34.556051,
           "timestamp": "2022-02-07T00:00:02",
           "value": 34.556051,
           "variable": "soil"
          },
          {
           "season": 4453,
           "soil": 6990.022516,
           "timestamp": "2022-02-08T00:00:30",
           "value": 6990.022516,
           "variable": "soil"
          },
          {
           "season": 4477,
           "soil": 444.628942,
           "timestamp": "2022-02-09T00:00:10",
           "value": 444.628942,
           "variable": "soil"
          },
          {
           "season": 4501,
           "soil": 3309.72101,
           "timestamp": "2022-02-10T00:00:44",
           "value": 3309.72101,
           "variable": "soil"
          },
          {
           "season": 4525,
           "soil": 15933.693716,
           "timestamp": "2022-02-11T00:00:06",
           "value": 15933.693716,
           "variable": "soil"
          },
          {
           "season": 4549,
           "soil": 8448.289316,
           "timestamp": "2022-02-12T00:00:06",
           "value": 8448.289316,
           "variable": "soil"
          },
          {
           "season": 4573,
           "soil": 4935.136585,
           "timestamp": "2022-02-13T00:00:56",
           "value": 4935.136585,
           "variable": "soil"
          },
          {
           "season": 4597,
           "soil": 70.548104,
           "timestamp": "2022-02-14T00:00:11",
           "value": 70.548104,
           "variable": "soil"
          },
          {
           "season": 4621,
           "soil": 0.616962,
           "timestamp": "2022-02-15T00:00:35",
           "value": 0.616962,
           "variable": "soil"
          },
          {
           "season": 4645,
           "soil": 3375.675151,
           "timestamp": "2022-02-16T00:00:34",
           "value": 3375.675151,
           "variable": "soil"
          },
          {
           "season": 4669,
           "soil": 32774.824743,
           "timestamp": "2022-02-17T00:00:02",
           "value": 32774.824743,
           "variable": "soil"
          },
          {
           "season": 4693,
           "soil": 3953.722012,
           "timestamp": "2022-02-18T00:00:14",
           "value": 3953.722012,
           "variable": "soil"
          },
          {
           "season": 4717,
           "soil": 16516.8167,
           "timestamp": "2022-02-19T00:00:02",
           "value": 16516.8167,
           "variable": "soil"
          },
          {
           "season": 4741,
           "soil": 0,
           "timestamp": "2022-02-20T00:00:15",
           "value": 0,
           "variable": "soil"
          },
          {
           "season": 4765,
           "soil": 2674.352324,
           "timestamp": "2022-02-21T00:00:06",
           "value": 2674.352324,
           "variable": "soil"
          },
          {
           "season": 4789,
           "soil": 18847.355772,
           "timestamp": "2022-02-22T00:00:01",
           "value": 18847.355772,
           "variable": "soil"
          },
          {
           "season": 4813,
           "soil": 23001.78624,
           "timestamp": "2022-02-23T00:00:27",
           "value": 23001.78624,
           "variable": "soil"
          },
          {
           "season": 4837,
           "soil": 10670.619883,
           "timestamp": "2022-02-24T00:00:01",
           "value": 10670.619883,
           "variable": "soil"
          },
          {
           "season": 4861,
           "soil": 6856.691524,
           "timestamp": "2022-02-25T00:00:06",
           "value": 6856.691524,
           "variable": "soil"
          },
          {
           "season": 4885,
           "soil": 8770.715833,
           "timestamp": "2022-02-26T00:00:28",
           "value": 8770.715833,
           "variable": "soil"
          },
          {
           "season": 4909,
           "soil": 2233.706921,
           "timestamp": "2022-02-27T00:00:02",
           "value": 2233.706921,
           "variable": "soil"
          },
          {
           "season": 4933,
           "soil": 44.233466,
           "timestamp": "2022-02-28T00:00:02",
           "value": 44.233466,
           "variable": "soil"
          },
          {
           "season": 4957,
           "soil": 0,
           "timestamp": "2022-03-01T00:00:18",
           "value": 0,
           "variable": "soil"
          },
          {
           "season": 4981,
           "soil": 46.425606,
           "timestamp": "2022-03-02T00:00:00",
           "value": 46.425606,
           "variable": "soil"
          },
          {
           "season": 5005,
           "soil": 25.178558,
           "timestamp": "2022-03-03T00:00:02",
           "value": 25.178558,
           "variable": "soil"
          },
          {
           "season": 5029,
           "soil": 10740.177507,
           "timestamp": "2022-03-04T00:00:35",
           "value": 10740.177507,
           "variable": "soil"
          },
          {
           "season": 5053,
           "soil": 19227.963289,
           "timestamp": "2022-03-05T00:00:30",
           "value": 19227.963289,
           "variable": "soil"
          },
          {
           "season": 5077,
           "soil": 6650.903745,
           "timestamp": "2022-03-06T00:00:17",
           "value": 6650.903745,
           "variable": "soil"
          },
          {
           "season": 5101,
           "soil": 5858.805578,
           "timestamp": "2022-03-07T00:00:15",
           "value": 5858.805578,
           "variable": "soil"
          },
          {
           "season": 5125,
           "soil": 39.464108,
           "timestamp": "2022-03-08T00:00:01",
           "value": 39.464108,
           "variable": "soil"
          },
          {
           "season": 5149,
           "soil": 0,
           "timestamp": "2022-03-09T00:00:04",
           "value": 0,
           "variable": "soil"
          },
          {
           "season": 5173,
           "soil": 0,
           "timestamp": "2022-03-10T00:00:17",
           "value": 0,
           "variable": "soil"
          },
          {
           "season": 5197,
           "soil": 0,
           "timestamp": "2022-03-11T00:00:09",
           "value": 0,
           "variable": "soil"
          },
          {
           "season": 5221,
           "soil": 0,
           "timestamp": "2022-03-12T00:00:05",
           "value": 0,
           "variable": "soil"
          },
          {
           "season": 5245,
           "soil": 0,
           "timestamp": "2022-03-13T00:00:01",
           "value": 0,
           "variable": "soil"
          },
          {
           "season": 5269,
           "soil": 0,
           "timestamp": "2022-03-14T00:00:04",
           "value": 0,
           "variable": "soil"
          },
          {
           "season": 5293,
           "soil": 0,
           "timestamp": "2022-03-15T00:00:14",
           "value": 0,
           "variable": "soil"
          },
          {
           "season": 5317,
           "soil": 0,
           "timestamp": "2022-03-16T00:00:05",
           "value": 0,
           "variable": "soil"
          },
          {
           "season": 5341,
           "soil": 0,
           "timestamp": "2022-03-17T00:00:07",
           "value": 0,
           "variable": "soil"
          },
          {
           "season": 5365,
           "soil": 0,
           "timestamp": "2022-03-18T00:00:08",
           "value": 0,
           "variable": "soil"
          },
          {
           "season": 5389,
           "soil": 0.394522,
           "timestamp": "2022-03-19T00:00:09",
           "value": 0.394522,
           "variable": "soil"
          },
          {
           "season": 5413,
           "soil": 0,
           "timestamp": "2022-03-20T00:00:11",
           "value": 0,
           "variable": "soil"
          },
          {
           "season": 5437,
           "soil": 32.009841,
           "timestamp": "2022-03-21T00:00:14",
           "value": 32.009841,
           "variable": "soil"
          },
          {
           "season": 5461,
           "soil": 0,
           "timestamp": "2022-03-22T00:00:02",
           "value": 0,
           "variable": "soil"
          },
          {
           "season": 5485,
           "soil": 1.908448,
           "timestamp": "2022-03-23T00:00:07",
           "value": 1.908448,
           "variable": "soil"
          },
          {
           "season": 5509,
           "soil": 30.93675,
           "timestamp": "2022-03-24T00:00:59",
           "value": 30.93675,
           "variable": "soil"
          },
          {
           "season": 5533,
           "soil": 0,
           "timestamp": "2022-03-25T00:00:02",
           "value": 0,
           "variable": "soil"
          },
          {
           "season": 5557,
           "soil": 0,
           "timestamp": "2022-03-26T00:00:19",
           "value": 0,
           "variable": "soil"
          },
          {
           "season": 5581,
           "soil": 4.007707,
           "timestamp": "2022-03-27T00:00:05",
           "value": 4.007707,
           "variable": "soil"
          },
          {
           "season": 5605,
           "soil": 0,
           "timestamp": "2022-03-28T00:01:21",
           "value": 0,
           "variable": "soil"
          },
          {
           "season": 5629,
           "soil": 0,
           "timestamp": "2022-03-29T00:00:19",
           "value": 0,
           "variable": "soil"
          },
          {
           "season": 5653,
           "soil": 4.962634,
           "timestamp": "2022-03-30T00:00:24",
           "value": 4.962634,
           "variable": "soil"
          },
          {
           "season": 5677,
           "soil": 0,
           "timestamp": "2022-03-31T00:00:03",
           "value": 0,
           "variable": "soil"
          },
          {
           "season": 5701,
           "soil": 0,
           "timestamp": "2022-04-01T00:00:21",
           "value": 0,
           "variable": "soil"
          },
          {
           "season": 5725,
           "soil": 2.474597,
           "timestamp": "2022-04-02T00:00:09",
           "value": 2.474597,
           "variable": "soil"
          },
          {
           "season": 5749,
           "soil": 2.569161,
           "timestamp": "2022-04-03T00:00:06",
           "value": 2.569161,
           "variable": "soil"
          },
          {
           "season": 5773,
           "soil": 0,
           "timestamp": "2022-04-04T00:00:00",
           "value": 0,
           "variable": "soil"
          },
          {
           "season": 5797,
           "soil": 0.197468,
           "timestamp": "2022-04-05T00:00:21",
           "value": 0.197468,
           "variable": "soil"
          },
          {
           "season": 5821,
           "soil": 3.783645,
           "timestamp": "2022-04-06T00:00:27",
           "value": 3.783645,
           "variable": "soil"
          },
          {
           "season": 5845,
           "soil": 0,
           "timestamp": "2022-04-07T00:01:08",
           "value": 0,
           "variable": "soil"
          },
          {
           "season": 5869,
           "soil": 0,
           "timestamp": "2022-04-08T00:00:13",
           "value": 0,
           "variable": "soil"
          },
          {
           "season": 5893,
           "soil": 0,
           "timestamp": "2022-04-09T00:00:00",
           "value": 0,
           "variable": "soil"
          },
          {
           "season": 5917,
           "soil": 0,
           "timestamp": "2022-04-10T00:02:19",
           "value": 0,
           "variable": "soil"
          },
          {
           "season": 5941,
           "soil": 1.706668,
           "timestamp": "2022-04-11T00:00:03",
           "value": 1.706668,
           "variable": "soil"
          },
          {
           "season": 5965,
           "soil": 0,
           "timestamp": "2022-04-12T00:00:14",
           "value": 0,
           "variable": "soil"
          },
          {
           "season": 5989,
           "soil": 0,
           "timestamp": "2022-04-13T00:00:14",
           "value": 0,
           "variable": "soil"
          },
          {
           "season": 6013,
           "soil": 0,
           "timestamp": "2022-04-14T00:00:06",
           "value": 0,
           "variable": "soil"
          },
          {
           "season": 6037,
           "soil": 0,
           "timestamp": "2022-04-15T00:00:36",
           "value": 0,
           "variable": "soil"
          },
          {
           "season": 6061,
           "soil": 0,
           "timestamp": "2022-04-16T00:00:56",
           "value": 0,
           "variable": "soil"
          },
          {
           "season": 6074,
           "soil": 0,
           "timestamp": "2022-08-05T03:47:15",
           "value": 0,
           "variable": "soil"
          },
          {
           "season": 6081,
           "soil": 0,
           "timestamp": "2022-08-06T23:00:33",
           "value": 0,
           "variable": "soil"
          },
          {
           "season": 6105,
           "soil": 0,
           "timestamp": "2022-08-07T23:00:32",
           "value": 0,
           "variable": "soil"
          },
          {
           "season": 6129,
           "soil": 0,
           "timestamp": "2022-08-08T23:00:11",
           "value": 0,
           "variable": "soil"
          },
          {
           "season": 6153,
           "soil": 34356.435258,
           "timestamp": "2022-08-09T23:00:00",
           "value": 34356.435258,
           "variable": "soil"
          },
          {
           "season": 6177,
           "soil": 0,
           "timestamp": "2022-08-10T23:00:22",
           "value": 0,
           "variable": "soil"
          },
          {
           "season": 6201,
           "soil": 0,
           "timestamp": "2022-08-11T23:00:51",
           "value": 0,
           "variable": "soil"
          },
          {
           "season": 6225,
           "soil": 0,
           "timestamp": "2022-08-12T23:00:02",
           "value": 0,
           "variable": "soil"
          },
          {
           "season": 6249,
           "soil": 0,
           "timestamp": "2022-08-13T23:00:00",
           "value": 0,
           "variable": "soil"
          },
          {
           "season": 6273,
           "soil": 0,
           "timestamp": "2022-08-14T23:00:05",
           "value": 0,
           "variable": "soil"
          },
          {
           "season": 6297,
           "soil": 0,
           "timestamp": "2022-08-15T23:00:00",
           "value": 0,
           "variable": "soil"
          },
          {
           "season": 6321,
           "soil": 0,
           "timestamp": "2022-08-16T23:00:20",
           "value": 0,
           "variable": "soil"
          },
          {
           "season": 6345,
           "soil": 0,
           "timestamp": "2022-08-17T23:00:15",
           "value": 0,
           "variable": "soil"
          },
          {
           "season": 6369,
           "soil": 0,
           "timestamp": "2022-08-18T23:00:38",
           "value": 0,
           "variable": "soil"
          },
          {
           "season": 6393,
           "soil": 0,
           "timestamp": "2022-08-19T23:00:06",
           "value": 0,
           "variable": "soil"
          },
          {
           "season": 6417,
           "soil": 0,
           "timestamp": "2022-08-20T23:00:38",
           "value": 0,
           "variable": "soil"
          },
          {
           "season": 6441,
           "soil": 0,
           "timestamp": "2022-08-21T23:00:14",
           "value": 0,
           "variable": "soil"
          },
          {
           "season": 6465,
           "soil": 0,
           "timestamp": "2022-08-22T23:00:22",
           "value": 0,
           "variable": "soil"
          },
          {
           "season": 6489,
           "soil": 0,
           "timestamp": "2022-08-23T23:01:12",
           "value": 0,
           "variable": "soil"
          },
          {
           "season": 6513,
           "soil": 0,
           "timestamp": "2022-08-24T23:00:02",
           "value": 0,
           "variable": "soil"
          },
          {
           "season": 6537,
           "soil": 0,
           "timestamp": "2022-08-25T23:00:43",
           "value": 0,
           "variable": "soil"
          },
          {
           "season": 6561,
           "soil": 0,
           "timestamp": "2022-08-26T23:00:18",
           "value": 0,
           "variable": "soil"
          },
          {
           "season": 6585,
           "soil": 0,
           "timestamp": "2022-08-27T23:00:24",
           "value": 0,
           "variable": "soil"
          },
          {
           "season": 6609,
           "soil": 0,
           "timestamp": "2022-08-28T23:00:05",
           "value": 0,
           "variable": "soil"
          },
          {
           "season": 6633,
           "soil": 0,
           "timestamp": "2022-08-29T23:00:40",
           "value": 0,
           "variable": "soil"
          },
          {
           "season": 6657,
           "soil": 0,
           "timestamp": "2022-08-30T23:00:14",
           "value": 0,
           "variable": "soil"
          },
          {
           "season": 6681,
           "soil": 0,
           "timestamp": "2022-08-31T23:00:02",
           "value": 0,
           "variable": "soil"
          },
          {
           "season": 6705,
           "soil": 0,
           "timestamp": "2022-09-01T23:00:03",
           "value": 0,
           "variable": "soil"
          },
          {
           "season": 6729,
           "soil": 0,
           "timestamp": "2022-09-02T23:00:12",
           "value": 0,
           "variable": "soil"
          },
          {
           "season": 6753,
           "soil": 0,
           "timestamp": "2022-09-03T23:00:07",
           "value": 0,
           "variable": "soil"
          },
          {
           "season": 6777,
           "soil": 0,
           "timestamp": "2022-09-04T23:00:04",
           "value": 0,
           "variable": "soil"
          },
          {
           "season": 6801,
           "soil": 0,
           "timestamp": "2022-09-05T23:00:01",
           "value": 0,
           "variable": "soil"
          },
          {
           "season": 6825,
           "soil": 0,
           "timestamp": "2022-09-06T23:00:27",
           "value": 0,
           "variable": "soil"
          },
          {
           "season": 6849,
           "soil": 0,
           "timestamp": "2022-09-07T23:00:10",
           "value": 0,
           "variable": "soil"
          },
          {
           "season": 6873,
           "soil": 0,
           "timestamp": "2022-09-08T23:00:04",
           "value": 0,
           "variable": "soil"
          },
          {
           "season": 6897,
           "soil": 0,
           "timestamp": "2022-09-09T23:00:00",
           "value": 0,
           "variable": "soil"
          },
          {
           "season": 6921,
           "soil": 0,
           "timestamp": "2022-09-10T23:00:34",
           "value": 0,
           "variable": "soil"
          },
          {
           "season": 6945,
           "soil": 0,
           "timestamp": "2022-09-11T23:00:03",
           "value": 0,
           "variable": "soil"
          },
          {
           "season": 6969,
           "soil": 0,
           "timestamp": "2022-09-12T23:00:06",
           "value": 0,
           "variable": "soil"
          },
          {
           "season": 6993,
           "soil": 0,
           "timestamp": "2022-09-13T23:00:03",
           "value": 0,
           "variable": "soil"
          },
          {
           "season": 7017,
           "soil": 0,
           "timestamp": "2022-09-14T23:00:07",
           "value": 0,
           "variable": "soil"
          },
          {
           "season": 7041,
           "soil": 0.242779,
           "timestamp": "2022-09-15T23:00:11",
           "value": 0.242779,
           "variable": "soil"
          },
          {
           "season": 7065,
           "soil": 0,
           "timestamp": "2022-09-16T23:00:11",
           "value": 0,
           "variable": "soil"
          },
          {
           "season": 7089,
           "soil": 0,
           "timestamp": "2022-09-17T23:00:23",
           "value": 0,
           "variable": "soil"
          },
          {
           "season": 7113,
           "soil": 0,
           "timestamp": "2022-09-18T23:00:11",
           "value": 0,
           "variable": "soil"
          },
          {
           "season": 7137,
           "soil": 151915.823764,
           "timestamp": "2022-09-19T23:00:11",
           "value": 151915.823764,
           "variable": "soil"
          },
          {
           "season": 7161,
           "soil": 96702.710836,
           "timestamp": "2022-09-20T23:00:11",
           "value": 96702.710836,
           "variable": "soil"
          },
          {
           "season": 7185,
           "soil": 79594.374265,
           "timestamp": "2022-09-21T23:00:11",
           "value": 79594.374265,
           "variable": "soil"
          },
          {
           "season": 7209,
           "soil": 88543.833925,
           "timestamp": "2022-09-22T23:00:11",
           "value": 88543.833925,
           "variable": "soil"
          },
          {
           "season": 7233,
           "soil": 79368.013929,
           "timestamp": "2022-09-23T23:00:11",
           "value": 79368.013929,
           "variable": "soil"
          },
          {
           "season": 7257,
           "soil": 89480.78255,
           "timestamp": "2022-09-24T23:00:11",
           "value": 89480.78255,
           "variable": "soil"
          },
          {
           "season": 7281,
           "soil": 96343.253937,
           "timestamp": "2022-09-25T23:00:11",
           "value": 96343.253937,
           "variable": "soil"
          },
          {
           "season": 7305,
           "soil": 105253.723944,
           "timestamp": "2022-09-26T23:00:11",
           "value": 105253.723944,
           "variable": "soil"
          },
          {
           "season": 7329,
           "soil": 129703.723355,
           "timestamp": "2022-09-27T23:00:11",
           "value": 129703.723355,
           "variable": "soil"
          },
          {
           "season": 7353,
           "soil": 116893.927998,
           "timestamp": "2022-09-28T23:00:11",
           "value": 116893.927998,
           "variable": "soil"
          },
          {
           "season": 7377,
           "soil": 123616.763816,
           "timestamp": "2022-09-29T23:00:11",
           "value": 123616.763816,
           "variable": "soil"
          },
          {
           "season": 7401,
           "soil": 131805.771283,
           "timestamp": "2022-09-30T23:00:11",
           "value": 131805.771283,
           "variable": "soil"
          },
          {
           "season": 7425,
           "soil": 253884.335619,
           "timestamp": "2022-10-01T23:00:11",
           "value": 253884.335619,
           "variable": "soil"
          },
          {
           "season": 7449,
           "soil": 280015.685389,
           "timestamp": "2022-10-02T23:00:11",
           "value": 280015.685389,
           "variable": "soil"
          },
          {
           "season": 7473,
           "soil": 315345.724697,
           "timestamp": "2022-10-03T23:00:11",
           "value": 315345.724697,
           "variable": "soil"
          },
          {
           "season": 7497,
           "soil": 315362.50697,
           "timestamp": "2022-10-04T23:00:11",
           "value": 315362.50697,
           "variable": "soil"
          },
          {
           "season": 7521,
           "soil": 315385.732967,
           "timestamp": "2022-10-05T23:00:11",
           "value": 315385.732967,
           "variable": "soil"
          },
          {
           "season": 7545,
           "soil": 326504.13654,
           "timestamp": "2022-10-06T23:00:11",
           "value": 326504.13654,
           "variable": "soil"
          },
          {
           "season": 7569,
           "soil": 247.015258,
           "timestamp": "2022-10-07T23:00:11",
           "value": 247.015258,
           "variable": "soil"
          },
          {
           "season": 7593,
           "soil": 53128.072811,
           "timestamp": "2022-10-08T23:00:11",
           "value": 53128.072811,
           "variable": "soil"
          },
          {
           "season": 7617,
           "soil": 37588.807311,
           "timestamp": "2022-10-09T23:00:11",
           "value": 37588.807311,
           "variable": "soil"
          },
          {
           "season": 7641,
           "soil": 38122.274917,
           "timestamp": "2022-10-10T23:00:11",
           "value": 38122.274917,
           "variable": "soil"
          },
          {
           "season": 7665,
           "soil": 0,
           "timestamp": "2022-10-11T23:00:11",
           "value": 0,
           "variable": "soil"
          },
          {
           "season": 7689,
           "soil": 0,
           "timestamp": "2022-10-12T23:00:11",
           "value": 0,
           "variable": "soil"
          },
          {
           "season": 7713,
           "soil": 0,
           "timestamp": "2022-10-13T23:00:11",
           "value": 0,
           "variable": "soil"
          },
          {
           "season": 7737,
           "soil": 6341.086054,
           "timestamp": "2022-10-14T23:00:11",
           "value": 6341.086054,
           "variable": "soil"
          },
          {
           "season": 7761,
           "soil": 7970.687664,
           "timestamp": "2022-10-15T23:00:11",
           "value": 7970.687664,
           "variable": "soil"
          },
          {
           "season": 7785,
           "soil": 26385.134956,
           "timestamp": "2022-10-16T23:00:11",
           "value": 26385.134956,
           "variable": "soil"
          },
          {
           "season": 7809,
           "soil": 0,
           "timestamp": "2022-10-17T23:00:11",
           "value": 0,
           "variable": "soil"
          },
          {
           "season": 7833,
           "soil": 2571.816696,
           "timestamp": "2022-10-18T23:00:11",
           "value": 2571.816696,
           "variable": "soil"
          },
          {
           "season": 7857,
           "soil": 1608.304977,
           "timestamp": "2022-10-19T23:00:11",
           "value": 1608.304977,
           "variable": "soil"
          },
          {
           "season": 7881,
           "soil": 3268.318106,
           "timestamp": "2022-10-20T23:00:11",
           "value": 3268.318106,
           "variable": "soil"
          },
          {
           "season": 7905,
           "soil": 3892.570878,
           "timestamp": "2022-10-21T23:00:11",
           "value": 3892.570878,
           "variable": "soil"
          },
          {
           "season": 7929,
           "soil": 2135.532123,
           "timestamp": "2022-10-22T23:00:23",
           "value": 2135.532123,
           "variable": "soil"
          },
          {
           "season": 7953,
           "soil": 424.571758,
           "timestamp": "2022-10-23T23:00:11",
           "value": 424.571758,
           "variable": "soil"
          },
          {
           "season": 7977,
           "soil": 0,
           "timestamp": "2022-10-24T23:00:11",
           "value": 0,
           "variable": "soil"
          },
          {
           "season": 8001,
           "soil": 0,
           "timestamp": "2022-10-25T23:00:11",
           "value": 0,
           "variable": "soil"
          },
          {
           "season": 8025,
           "soil": 0,
           "timestamp": "2022-10-26T23:00:11",
           "value": 0,
           "variable": "soil"
          },
          {
           "season": 8049,
           "soil": 0,
           "timestamp": "2022-10-27T23:00:11",
           "value": 0,
           "variable": "soil"
          },
          {
           "season": 8073,
           "soil": 0,
           "timestamp": "2022-10-28T23:00:11",
           "value": 0,
           "variable": "soil"
          },
          {
           "season": 8097,
           "soil": 0,
           "timestamp": "2022-10-29T23:00:11",
           "value": 0,
           "variable": "soil"
          },
          {
           "season": 8121,
           "soil": 13173.426692,
           "timestamp": "2022-10-30T23:00:11",
           "value": 13173.426692,
           "variable": "soil"
          },
          {
           "season": 8145,
           "soil": 0,
           "timestamp": "2022-10-31T23:00:11",
           "value": 0,
           "variable": "soil"
          },
          {
           "season": 8169,
           "soil": 5813.175233,
           "timestamp": "2022-11-01T23:00:11",
           "value": 5813.175233,
           "variable": "soil"
          },
          {
           "season": 8193,
           "soil": 0,
           "timestamp": "2022-11-02T23:00:11",
           "value": 0,
           "variable": "soil"
          },
          {
           "season": 8217,
           "soil": 0,
           "timestamp": "2022-11-03T23:00:11",
           "value": 0,
           "variable": "soil"
          },
          {
           "season": 8219,
           "soil": 0,
           "timestamp": "2022-11-04T01:00:11",
           "value": 0,
           "variable": "soil"
          }
         ]
        },
        "layer": [
         {
          "encoding": {
           "color": {
            "field": "variable",
            "legend": {
             "title": null
            },
            "scale": {
             "domain": [
              "soil"
             ],
             "range": [
              "#818233"
             ]
            },
            "type": "nominal"
           },
           "order": {
            "field": "stack_order",
            "sort": "ascending",
            "type": "quantitative"
           },
           "x": {
            "axis": {
             "formatType": "time",
             "labelAngle": 0,
             "labelExpr": "timeFormat(toDate(datum.value), '%b %e, %Y')",
             "labelOverlap": true,
             "labelPadding": 5,
             "labelSeparation": 50,
             "ticks": false,
             "title": "Date"
            },
            "field": "timestamp",
            "type": "ordinal"
           },
           "y": {
            "axis": {
             "format": ",d",
             "title": "soil"
            },
            "field": "value",
            "type": "quantitative"
           }
          },
          "mark": "line",
          "title": "Available Soil",
          "transform": [
           {
            "as": "stack_order",
            "calculate": "datum['variable'] === 'soil' ? 0 : 1"
           },
           {
            "filter": "datum['variable'] == 'soil'"
           }
          ],
          "width": 700
         },
         {
          "encoding": {
           "x": {
            "axis": {
             "formatType": "time",
             "labelAngle": 0,
             "labelExpr": "timeFormat(toDate(datum.value), '%b %e, %Y')",
             "labelOverlap": true,
             "labelPadding": 5,
             "labelSeparation": 50,
             "ticks": false,
             "title": "Date"
            },
            "field": "timestamp",
            "type": "ordinal"
           }
          },
          "mark": {
           "color": "#474440",
           "opacity": 1,
           "strokeDash": [
            2.5,
            1
           ],
           "type": "rule"
          },
          "title": "Available Soil",
          "transform": [
           {
            "as": "stack_order",
            "calculate": "datum['variable'] === 'soil' ? 0 : 1"
           },
           {
            "groupby": [
             "timestamp"
            ],
            "pivot": "variable",
            "value": "value"
           },
           {
            "filter": "\n            year(datum['timestamp']) === 2022 && \n            month(datum['timestamp']) === 3 && \n            date(datum['timestamp']) === 16 \n        "
           }
          ],
          "width": 700
         },
         {
          "encoding": {
           "opacity": {
            "condition": {
             "selection": "selector004",
             "value": 1
            },
            "value": 0
           },
           "tooltip": [
            {
             "field": "timestamp",
             "timeUnit": "yearmonthdate",
             "title": "date",
             "type": "ordinal"
            },
            {
             "field": "soil",
             "format": ",d",
             "type": "quantitative"
            }
           ],
           "x": {
            "axis": {
             "formatType": "time",
             "labelAngle": 0,
             "labelExpr": "timeFormat(toDate(datum.value), '%b %e, %Y')",
             "labelOverlap": true,
             "labelPadding": 5,
             "labelSeparation": 50,
             "ticks": false,
             "title": "Date"
            },
            "field": "timestamp",
            "type": "ordinal"
           }
          },
          "mark": {
           "color": "#878787",
           "type": "rule"
          },
          "selection": {
           "selector004": {
            "clear": "mouseout",
            "empty": "none",
            "fields": [
             "timestamp"
            ],
            "nearest": true,
            "on": "mouseover",
            "type": "single"
           }
          },
          "title": "Available Soil",
          "transform": [
           {
            "as": "stack_order",
            "calculate": "datum['variable'] === 'soil' ? 0 : 1"
           },
           {
            "groupby": [
             "timestamp"
            ],
            "pivot": "variable",
            "value": "value"
           }
          ],
          "width": 700
         }
        ]
       },
       "width_paths": [
        {
         "factor": 1,
         "path": [
          "config",
          "view",
          "continuousWidth"
         ],
         "value": 400
        },
        {
         "factor": 1,
         "path": [
          "layer",
          0,
          "width"
         ],
         "value": 700
        },
        {
         "factor": 1,
         "path": [
          "layer",
          1,
          "width"
         ],
         "value": 700
        },
        {
         "factor": 1,
         "path": [
          "layer",
          2,
          "width"
         ],
         "value": 700
        }
       ]
      },
      "text/plain": [
       "<IPython.core.display.JSON object>"
      ]
     },
     "execution_count": 15,
     "metadata": {
      "application/json": {
       "expanded": false,
       "root": "root"
      }
     },
     "output_type": "execute_result"
    }
   ],
   "source": [
    "# TODO: update css for this chart \n",
    "output_chart(c, css=css)"
   ]
  },
  {
   "cell_type": "code",
   "execution_count": null,
   "id": "2b85c342",
   "metadata": {},
   "outputs": [],
   "source": []
  }
 ],
 "metadata": {
  "kernelspec": {
   "display_name": "beanstalk",
   "language": "python",
   "name": "beanstalk"
  },
  "language_info": {
   "codemirror_mode": {
    "name": "ipython",
    "version": 3
   },
   "file_extension": ".py",
   "mimetype": "text/x-python",
   "name": "python",
   "nbconvert_exporter": "python",
   "pygments_lexer": "ipython3",
   "version": "3.10.5"
  }
 },
 "nbformat": 4,
 "nbformat_minor": 5
}
