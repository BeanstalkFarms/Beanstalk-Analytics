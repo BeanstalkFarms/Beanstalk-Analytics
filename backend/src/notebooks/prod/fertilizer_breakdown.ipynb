{
 "cells": [
  {
   "cell_type": "code",
   "execution_count": 1,
   "id": "bb524f98-4f94-476c-b760-7d5dbae7938d",
   "metadata": {},
   "outputs": [],
   "source": [
    "import os \n",
    "import sys \n",
    "import logging \n",
    "from functools import cache \n",
    "\n",
    "logging.basicConfig(level=logging.WARNING)\n",
    "\n",
    "cur_path = os.path.abspath(\"../..\")\n",
    "if cur_path not in sys.path: \n",
    "    sys.path.append(cur_path)\n",
    "\n",
    "import numpy as np \n",
    "import pandas as pd \n",
    "import altair as alt \n",
    "from altair import datum\n",
    "from dotenv import load_dotenv\n",
    "from subgrounds.subgrounds import Subgrounds, Subgraph\n",
    "from subgrounds.subgraph import SyntheticField\n",
    "from subgrounds.pagination import ShallowStrategy\n",
    "\n",
    "# Required when developing in a jupyter-notebook environment \n",
    "load_dotenv('../../../.env')\n",
    "\n",
    "from utils_notebook.utils import remove_prefix, ddf, load_subgraph\n",
    "from utils_notebook.vega import output_chart, wide_to_longwide, chart_stack_area_overlay_line_timeseries, stack_order_expr, condition_union\n",
    "from utils_notebook.queries import QueryManager\n",
    "from utils_notebook.testing import validate_season_series"
   ]
  },
  {
   "cell_type": "code",
   "execution_count": 2,
   "id": "9ef8dcc6",
   "metadata": {},
   "outputs": [],
   "source": [
    "sg, bs = load_subgraph()\n",
    "q = QueryManager(sg, bs)"
   ]
  },
  {
   "cell_type": "code",
   "execution_count": 3,
   "id": "a44dafb3-6e22-436e-a65b-d0c4e626e9c4",
   "metadata": {},
   "outputs": [
    {
     "data": {
      "text/html": [
       "<div>\n",
       "<style scoped>\n",
       "    .dataframe tbody tr th:only-of-type {\n",
       "        vertical-align: middle;\n",
       "    }\n",
       "\n",
       "    .dataframe tbody tr th {\n",
       "        vertical-align: top;\n",
       "    }\n",
       "\n",
       "    .dataframe thead th {\n",
       "        text-align: right;\n",
       "    }\n",
       "</style>\n",
       "<table border=\"1\" class=\"dataframe\">\n",
       "  <thead>\n",
       "    <tr style=\"text-align: right;\">\n",
       "      <th></th>\n",
       "      <th>season</th>\n",
       "      <th>timestamp</th>\n",
       "      <th>reward_fertilized_sprouts</th>\n",
       "      <th>sprouts_rinsable</th>\n",
       "      <th>sprouts</th>\n",
       "      <th>rinsable_percent</th>\n",
       "      <th>fertilizer_total</th>\n",
       "      <th>fertilizer_active</th>\n",
       "      <th>fertilizer_available</th>\n",
       "    </tr>\n",
       "  </thead>\n",
       "  <tbody>\n",
       "    <tr>\n",
       "      <th>2</th>\n",
       "      <td>6075</td>\n",
       "      <td>2022-08-06 17:00:14</td>\n",
       "      <td>0.000000</td>\n",
       "      <td>0.000000</td>\n",
       "      <td>8.644328e+07</td>\n",
       "      <td>0.000000</td>\n",
       "      <td>77000000</td>\n",
       "      <td>14437996.0</td>\n",
       "      <td>62562004.0</td>\n",
       "    </tr>\n",
       "    <tr>\n",
       "      <th>3</th>\n",
       "      <td>6076</td>\n",
       "      <td>2022-08-06 18:02:11</td>\n",
       "      <td>2266.788451</td>\n",
       "      <td>2266.788451</td>\n",
       "      <td>8.654976e+07</td>\n",
       "      <td>0.000026</td>\n",
       "      <td>77000000</td>\n",
       "      <td>14469156.0</td>\n",
       "      <td>62530844.0</td>\n",
       "    </tr>\n",
       "    <tr>\n",
       "      <th>4</th>\n",
       "      <td>6077</td>\n",
       "      <td>2022-08-06 19:01:04</td>\n",
       "      <td>4557.830445</td>\n",
       "      <td>6824.618896</td>\n",
       "      <td>8.658356e+07</td>\n",
       "      <td>0.000079</td>\n",
       "      <td>77000000</td>\n",
       "      <td>14480159.0</td>\n",
       "      <td>62519841.0</td>\n",
       "    </tr>\n",
       "    <tr>\n",
       "      <th>5</th>\n",
       "      <td>6078</td>\n",
       "      <td>2022-08-06 20:00:02</td>\n",
       "      <td>6936.066574</td>\n",
       "      <td>13760.685470</td>\n",
       "      <td>8.659188e+07</td>\n",
       "      <td>0.000159</td>\n",
       "      <td>77000000</td>\n",
       "      <td>14484542.0</td>\n",
       "      <td>62515458.0</td>\n",
       "    </tr>\n",
       "    <tr>\n",
       "      <th>6</th>\n",
       "      <td>6079</td>\n",
       "      <td>2022-08-06 21:00:00</td>\n",
       "      <td>9357.109094</td>\n",
       "      <td>23117.794564</td>\n",
       "      <td>8.663729e+07</td>\n",
       "      <td>0.000267</td>\n",
       "      <td>77000000</td>\n",
       "      <td>14500295.0</td>\n",
       "      <td>62499705.0</td>\n",
       "    </tr>\n",
       "  </tbody>\n",
       "</table>\n",
       "</div>"
      ],
      "text/plain": [
       "   season           timestamp  reward_fertilized_sprouts  sprouts_rinsable  \\\n",
       "2    6075 2022-08-06 17:00:14                   0.000000          0.000000   \n",
       "3    6076 2022-08-06 18:02:11                2266.788451       2266.788451   \n",
       "4    6077 2022-08-06 19:01:04                4557.830445       6824.618896   \n",
       "5    6078 2022-08-06 20:00:02                6936.066574      13760.685470   \n",
       "6    6079 2022-08-06 21:00:00                9357.109094      23117.794564   \n",
       "\n",
       "        sprouts  rinsable_percent  fertilizer_total  fertilizer_active  \\\n",
       "2  8.644328e+07          0.000000          77000000         14437996.0   \n",
       "3  8.654976e+07          0.000026          77000000         14469156.0   \n",
       "4  8.658356e+07          0.000079          77000000         14480159.0   \n",
       "5  8.659188e+07          0.000159          77000000         14484542.0   \n",
       "6  8.663729e+07          0.000267          77000000         14500295.0   \n",
       "\n",
       "   fertilizer_available  \n",
       "2            62562004.0  \n",
       "3            62530844.0  \n",
       "4            62519841.0  \n",
       "5            62515458.0  \n",
       "6            62499705.0  "
      ]
     },
     "execution_count": 3,
     "metadata": {},
     "output_type": "execute_result"
    }
   ],
   "source": [
    "df = q.query_barn()\n",
    "df = df.iloc[1:,] # TODO: figure out why this is here \n",
    "df = df.resample(\"D\", on=\"timestamp\").last().reset_index()\n",
    "df.head()"
   ]
  },
  {
   "cell_type": "code",
   "execution_count": 9,
   "id": "5ca66fe6-ad4a-4502-907f-467336502aea",
   "metadata": {},
   "outputs": [
    {
     "name": "stderr",
     "output_type": "stream",
     "text": [
      "/Users/ALEX/opt/anaconda3/envs/beanstalk/lib/python3.10/site-packages/altair/utils/core.py:317: FutureWarning: iteritems is deprecated and will be removed in a future version. Use .items instead.\n",
      "  for col_name, dtype in df.dtypes.iteritems():\n"
     ]
    },
    {
     "data": {
      "text/html": [
       "\n",
       "<div id=\"altair-viz-955ea8a95db74cdfae04f409ab6c424f\"></div>\n",
       "<script type=\"text/javascript\">\n",
       "  var VEGA_DEBUG = (typeof VEGA_DEBUG == \"undefined\") ? {} : VEGA_DEBUG;\n",
       "  (function(spec, embedOpt){\n",
       "    let outputDiv = document.currentScript.previousElementSibling;\n",
       "    if (outputDiv.id !== \"altair-viz-955ea8a95db74cdfae04f409ab6c424f\") {\n",
       "      outputDiv = document.getElementById(\"altair-viz-955ea8a95db74cdfae04f409ab6c424f\");\n",
       "    }\n",
       "    const paths = {\n",
       "      \"vega\": \"https://cdn.jsdelivr.net/npm//vega@5?noext\",\n",
       "      \"vega-lib\": \"https://cdn.jsdelivr.net/npm//vega-lib?noext\",\n",
       "      \"vega-lite\": \"https://cdn.jsdelivr.net/npm//vega-lite@4.17.0?noext\",\n",
       "      \"vega-embed\": \"https://cdn.jsdelivr.net/npm//vega-embed@6?noext\",\n",
       "    };\n",
       "\n",
       "    function maybeLoadScript(lib, version) {\n",
       "      var key = `${lib.replace(\"-\", \"\")}_version`;\n",
       "      return (VEGA_DEBUG[key] == version) ?\n",
       "        Promise.resolve(paths[lib]) :\n",
       "        new Promise(function(resolve, reject) {\n",
       "          var s = document.createElement('script');\n",
       "          document.getElementsByTagName(\"head\")[0].appendChild(s);\n",
       "          s.async = true;\n",
       "          s.onload = () => {\n",
       "            VEGA_DEBUG[key] = version;\n",
       "            return resolve(paths[lib]);\n",
       "          };\n",
       "          s.onerror = () => reject(`Error loading script: ${paths[lib]}`);\n",
       "          s.src = paths[lib];\n",
       "        });\n",
       "    }\n",
       "\n",
       "    function showError(err) {\n",
       "      outputDiv.innerHTML = `<div class=\"error\" style=\"color:red;\">${err}</div>`;\n",
       "      throw err;\n",
       "    }\n",
       "\n",
       "    function displayChart(vegaEmbed) {\n",
       "      vegaEmbed(outputDiv, spec, embedOpt)\n",
       "        .catch(err => showError(`Javascript Error: ${err.message}<br>This usually means there's a typo in your chart specification. See the javascript console for the full traceback.`));\n",
       "    }\n",
       "\n",
       "    if(typeof define === \"function\" && define.amd) {\n",
       "      requirejs.config({paths});\n",
       "      require([\"vega-embed\"], displayChart, err => showError(`Error loading script: ${err.message}`));\n",
       "    } else {\n",
       "      maybeLoadScript(\"vega\", \"5\")\n",
       "        .then(() => maybeLoadScript(\"vega-lite\", \"4.17.0\"))\n",
       "        .then(() => maybeLoadScript(\"vega-embed\", \"6\"))\n",
       "        .catch(showError)\n",
       "        .then(() => displayChart(vegaEmbed));\n",
       "    }\n",
       "  })({\"config\": {\"view\": {\"continuousWidth\": 400, \"continuousHeight\": 300}}, \"layer\": [{\"mark\": {\"type\": \"area\", \"point\": \"transparent\"}, \"encoding\": {\"color\": {\"field\": \"variable\", \"legend\": {\"title\": null}, \"scale\": {\"domain\": [\"sprouts\", \"sprouts_rinsable\", \"rinsable_percent\"], \"range\": [\"#fb8500\", \"#219ebc\", \"#023047\"]}, \"type\": \"nominal\"}, \"order\": {\"field\": \"stack_order\", \"sort\": \"ascending\", \"type\": \"quantitative\"}, \"tooltip\": [{\"field\": \"timestamp\", \"timeUnit\": \"yearmonthdate\", \"title\": \"date\", \"type\": \"ordinal\"}, {\"field\": \"sprouts\", \"format\": \",d\", \"type\": \"quantitative\"}, {\"field\": \"sprouts_rinsable\", \"format\": \",d\", \"type\": \"quantitative\"}, {\"field\": \"rinsable_percent\", \"format\": \".2%\", \"type\": \"quantitative\"}], \"x\": {\"axis\": {\"formatType\": \"time\", \"labelAngle\": 0, \"labelExpr\": \"timeFormat(toDate(datum.value), '%b %e, %Y')\", \"labelOverlap\": true, \"labelPadding\": 5, \"labelSeparation\": 50, \"ticks\": false, \"title\": \"Date\"}, \"field\": \"timestamp\", \"type\": \"ordinal\"}, \"y\": {\"axis\": {\"format\": \".3~s\", \"title\": \"Sprouts\"}, \"field\": \"value\", \"type\": \"quantitative\"}}, \"title\": \"Sprouts Breakdown\", \"transform\": [{\"calculate\": \"datum['variable'] === 'sprouts' ? 0 :  datum['variable'] === 'sprouts_rinsable' ? 1 :  datum['variable'] === 'rinsable_percent' ? 2 : 3\", \"as\": \"stack_order\"}, {\"filter\": \"datum['variable'] == 'sprouts_rinsable' | datum['variable'] == 'sprouts'\"}, {\"calculate\": \"datum['variable'] === 'sprouts' ? 0 :  datum['variable'] === 'sprouts_rinsable' ? 1 :  datum['variable'] === 'rinsable_percent' ? 2 : 3\", \"as\": \"sort_col\"}], \"width\": 400}, {\"mark\": \"line\", \"encoding\": {\"color\": {\"field\": \"variable\", \"legend\": {\"title\": null}, \"scale\": {\"domain\": [\"sprouts\", \"sprouts_rinsable\", \"rinsable_percent\"], \"range\": [\"#fb8500\", \"#219ebc\", \"#023047\"]}, \"type\": \"nominal\"}, \"order\": {\"field\": \"stack_order\", \"sort\": \"ascending\", \"type\": \"quantitative\"}, \"x\": {\"axis\": {\"formatType\": \"time\", \"labelAngle\": 0, \"labelExpr\": \"timeFormat(toDate(datum.value), '%b %e, %Y')\", \"labelOverlap\": true, \"labelPadding\": 5, \"labelSeparation\": 50, \"ticks\": false, \"title\": \"Date\"}, \"field\": \"timestamp\", \"type\": \"ordinal\"}, \"y\": {\"axis\": {\"format\": \".2%\", \"title\": \"Percent\"}, \"field\": \"value\", \"type\": \"quantitative\"}}, \"title\": \"Sprouts Breakdown\", \"transform\": [{\"calculate\": \"datum['variable'] === 'sprouts' ? 0 :  datum['variable'] === 'sprouts_rinsable' ? 1 :  datum['variable'] === 'rinsable_percent' ? 2 : 3\", \"as\": \"stack_order\"}, {\"filter\": \"datum['variable'] != 'sprouts_rinsable' & datum['variable'] != 'sprouts'\"}], \"width\": 400}], \"data\": {\"name\": \"data-9b053f44f5f8a7d42a597cf763f4c43f\"}, \"resolve\": {\"axis\": {\"y\": \"independent\"}, \"scale\": {\"y\": \"independent\"}}, \"$schema\": \"https://vega.github.io/schema/vega-lite/v4.17.0.json\", \"datasets\": {\"data-9b053f44f5f8a7d42a597cf763f4c43f\": [{\"season\": 6081, \"timestamp\": \"2022-08-06T00:00:00\", \"variable\": \"sprouts_rinsable\", \"value\": 53499.73946, \"sprouts_rinsable\": 53499.73946, \"sprouts\": 86660685.88870999, \"rinsable_percent\": 0.0006169664060434888}, {\"season\": 6081, \"timestamp\": \"2022-08-06T00:00:00\", \"variable\": \"sprouts\", \"value\": 86660685.88870999, \"sprouts_rinsable\": 53499.73946, \"sprouts\": 86660685.88870999, \"rinsable_percent\": 0.0006169664060434888}, {\"season\": 6081, \"timestamp\": \"2022-08-06T00:00:00\", \"variable\": \"rinsable_percent\", \"value\": 0.0006169664060434888, \"sprouts_rinsable\": 53499.73946, \"sprouts\": 86660685.88870999, \"rinsable_percent\": 0.0006169664060434888}, {\"season\": 6105, \"timestamp\": \"2022-08-07T00:00:00\", \"variable\": \"sprouts_rinsable\", \"value\": 1912625.803108, \"sprouts_rinsable\": 1912625.803108, \"sprouts\": 93541042.66121396, \"rinsable_percent\": 0.020037216315294246}, {\"season\": 6105, \"timestamp\": \"2022-08-07T00:00:00\", \"variable\": \"sprouts\", \"value\": 93541042.66121396, \"sprouts_rinsable\": 1912625.803108, \"sprouts\": 93541042.66121396, \"rinsable_percent\": 0.020037216315294246}, {\"season\": 6105, \"timestamp\": \"2022-08-07T00:00:00\", \"variable\": \"rinsable_percent\", \"value\": 0.020037216315294246, \"sprouts_rinsable\": 1912625.803108, \"sprouts\": 93541042.66121396, \"rinsable_percent\": 0.020037216315294246}, {\"season\": 6129, \"timestamp\": \"2022-08-08T00:00:00\", \"variable\": \"sprouts_rinsable\", \"value\": 1996040.1028109998, \"sprouts_rinsable\": 1996040.1028109998, \"sprouts\": 93900928.78464994, \"rinsable_percent\": 0.020814423291662488}, {\"season\": 6129, \"timestamp\": \"2022-08-08T00:00:00\", \"variable\": \"sprouts\", \"value\": 93900928.78464994, \"sprouts_rinsable\": 1996040.1028109998, \"sprouts\": 93900928.78464994, \"rinsable_percent\": 0.020814423291662488}, {\"season\": 6129, \"timestamp\": \"2022-08-08T00:00:00\", \"variable\": \"rinsable_percent\", \"value\": 0.020814423291662488, \"sprouts_rinsable\": 1996040.1028109998, \"sprouts\": 93900928.78464994, \"rinsable_percent\": 0.020814423291662488}, {\"season\": 6153, \"timestamp\": \"2022-08-09T00:00:00\", \"variable\": \"sprouts_rinsable\", \"value\": 1998323.931463, \"sprouts_rinsable\": 1998323.931463, \"sprouts\": 93960484.94686393, \"rinsable_percent\": 0.020824809674292833}, {\"season\": 6153, \"timestamp\": \"2022-08-09T00:00:00\", \"variable\": \"sprouts\", \"value\": 93960484.94686393, \"sprouts_rinsable\": 1998323.931463, \"sprouts\": 93960484.94686393, \"rinsable_percent\": 0.020824809674292833}, {\"season\": 6153, \"timestamp\": \"2022-08-09T00:00:00\", \"variable\": \"rinsable_percent\", \"value\": 0.020824809674292833, \"sprouts_rinsable\": 1998323.931463, \"sprouts\": 93960484.94686393, \"rinsable_percent\": 0.020824809674292833}, {\"season\": 6177, \"timestamp\": \"2022-08-10T00:00:00\", \"variable\": \"rinsable_percent\", \"value\": 0.02115940384837339, \"sprouts_rinsable\": 2031036.3842679998, \"sprouts\": 93956374.16955693, \"rinsable_percent\": 0.02115940384837339}, {\"season\": 6177, \"timestamp\": \"2022-08-10T00:00:00\", \"variable\": \"sprouts\", \"value\": 93956374.16955693, \"sprouts_rinsable\": 2031036.3842679998, \"sprouts\": 93956374.16955693, \"rinsable_percent\": 0.02115940384837339}, {\"season\": 6177, \"timestamp\": \"2022-08-10T00:00:00\", \"variable\": \"sprouts_rinsable\", \"value\": 2031036.3842679998, \"sprouts_rinsable\": 2031036.3842679998, \"sprouts\": 93956374.16955693, \"rinsable_percent\": 0.02115940384837339}, {\"season\": 6201, \"timestamp\": \"2022-08-11T00:00:00\", \"variable\": \"sprouts_rinsable\", \"value\": 2034957.727332, \"sprouts_rinsable\": 2034957.727332, \"sprouts\": 93962340.35755493, \"rinsable_percent\": 0.02119807294505894}, {\"season\": 6201, \"timestamp\": \"2022-08-11T00:00:00\", \"variable\": \"sprouts\", \"value\": 93962340.35755493, \"sprouts_rinsable\": 2034957.727332, \"sprouts\": 93962340.35755493, \"rinsable_percent\": 0.02119807294505894}, {\"season\": 6201, \"timestamp\": \"2022-08-11T00:00:00\", \"variable\": \"rinsable_percent\", \"value\": 0.02119807294505894, \"sprouts_rinsable\": 2034957.727332, \"sprouts\": 93962340.35755493, \"rinsable_percent\": 0.02119807294505894}, {\"season\": 6225, \"timestamp\": \"2022-08-12T00:00:00\", \"variable\": \"sprouts_rinsable\", \"value\": 2045209.96858, \"sprouts_rinsable\": 2045209.96858, \"sprouts\": 93963464.31427893, \"rinsable_percent\": 0.021302345687582783}, {\"season\": 6225, \"timestamp\": \"2022-08-12T00:00:00\", \"variable\": \"sprouts\", \"value\": 93963464.31427893, \"sprouts_rinsable\": 2045209.96858, \"sprouts\": 93963464.31427893, \"rinsable_percent\": 0.021302345687582783}, {\"season\": 6225, \"timestamp\": \"2022-08-12T00:00:00\", \"variable\": \"rinsable_percent\", \"value\": 0.021302345687582783, \"sprouts_rinsable\": 2045209.96858, \"sprouts\": 93963464.31427893, \"rinsable_percent\": 0.021302345687582783}, {\"season\": 6249, \"timestamp\": \"2022-08-13T00:00:00\", \"variable\": \"sprouts_rinsable\", \"value\": 2067044.2748949996, \"sprouts_rinsable\": 2067044.2748949996, \"sprouts\": 93946960.31493393, \"rinsable_percent\": 0.021528570584316283}, {\"season\": 6249, \"timestamp\": \"2022-08-13T00:00:00\", \"variable\": \"sprouts\", \"value\": 93946960.31493393, \"sprouts_rinsable\": 2067044.2748949996, \"sprouts\": 93946960.31493393, \"rinsable_percent\": 0.021528570584316283}, {\"season\": 6249, \"timestamp\": \"2022-08-13T00:00:00\", \"variable\": \"rinsable_percent\", \"value\": 0.021528570584316283, \"sprouts_rinsable\": 2067044.2748949996, \"sprouts\": 93946960.31493393, \"rinsable_percent\": 0.021528570584316283}, {\"season\": 6273, \"timestamp\": \"2022-08-14T00:00:00\", \"variable\": \"sprouts_rinsable\", \"value\": 2067319.5795749996, \"sprouts_rinsable\": 2067319.5795749996, \"sprouts\": 93946824.77202192, \"rinsable_percent\": 0.021531406581145204}, {\"season\": 6273, \"timestamp\": \"2022-08-14T00:00:00\", \"variable\": \"sprouts\", \"value\": 93946824.77202192, \"sprouts_rinsable\": 2067319.5795749996, \"sprouts\": 93946824.77202192, \"rinsable_percent\": 0.021531406581145204}, {\"season\": 6273, \"timestamp\": \"2022-08-14T00:00:00\", \"variable\": \"rinsable_percent\", \"value\": 0.021531406581145204, \"sprouts_rinsable\": 2067319.5795749996, \"sprouts\": 93946824.77202192, \"rinsable_percent\": 0.021531406581145204}, {\"season\": 6297, \"timestamp\": \"2022-08-15T00:00:00\", \"variable\": \"rinsable_percent\", \"value\": 0.021568682042757335, \"sprouts_rinsable\": 2070898.551126999, \"sprouts\": 93943245.80046992, \"rinsable_percent\": 0.021568682042757335}, {\"season\": 6297, \"timestamp\": \"2022-08-15T00:00:00\", \"variable\": \"sprouts_rinsable\", \"value\": 2070898.551126999, \"sprouts_rinsable\": 2070898.551126999, \"sprouts\": 93943245.80046992, \"rinsable_percent\": 0.021568682042757335}, {\"season\": 6297, \"timestamp\": \"2022-08-15T00:00:00\", \"variable\": \"sprouts\", \"value\": 93943245.80046992, \"sprouts_rinsable\": 2070898.551126999, \"sprouts\": 93943245.80046992, \"rinsable_percent\": 0.021568682042757335}, {\"season\": 6321, \"timestamp\": \"2022-08-16T00:00:00\", \"variable\": \"sprouts_rinsable\", \"value\": 2076198.5038919987, \"sprouts_rinsable\": 2076198.5038919987, \"sprouts\": 93941432.40398592, \"rinsable_percent\": 0.021623096552798343}, {\"season\": 6321, \"timestamp\": \"2022-08-16T00:00:00\", \"variable\": \"sprouts\", \"value\": 93941432.40398592, \"sprouts_rinsable\": 2076198.5038919987, \"sprouts\": 93941432.40398592, \"rinsable_percent\": 0.021623096552798343}, {\"season\": 6321, \"timestamp\": \"2022-08-16T00:00:00\", \"variable\": \"rinsable_percent\", \"value\": 0.021623096552798343, \"sprouts_rinsable\": 2076198.5038919987, \"sprouts\": 93941432.40398592, \"rinsable_percent\": 0.021623096552798343}, {\"season\": 6345, \"timestamp\": \"2022-08-17T00:00:00\", \"variable\": \"sprouts_rinsable\", \"value\": 2078366.9078559985, \"sprouts_rinsable\": 2078366.9078559985, \"sprouts\": 93948056.96076792, \"rinsable_percent\": 0.021643697891941312}, {\"season\": 6345, \"timestamp\": \"2022-08-17T00:00:00\", \"variable\": \"sprouts\", \"value\": 93948056.96076792, \"sprouts_rinsable\": 2078366.9078559985, \"sprouts\": 93948056.96076792, \"rinsable_percent\": 0.021643697891941312}, {\"season\": 6345, \"timestamp\": \"2022-08-17T00:00:00\", \"variable\": \"rinsable_percent\", \"value\": 0.021643697891941312, \"sprouts_rinsable\": 2078366.9078559985, \"sprouts\": 93948056.96076792, \"rinsable_percent\": 0.021643697891941312}, {\"season\": 6369, \"timestamp\": \"2022-08-18T00:00:00\", \"variable\": \"sprouts_rinsable\", \"value\": 2079399.6117159987, \"sprouts_rinsable\": 2079399.6117159987, \"sprouts\": 93947024.25690793, \"rinsable_percent\": 0.021654452263690206}, {\"season\": 6369, \"timestamp\": \"2022-08-18T00:00:00\", \"variable\": \"sprouts\", \"value\": 93947024.25690793, \"sprouts_rinsable\": 2079399.6117159987, \"sprouts\": 93947024.25690793, \"rinsable_percent\": 0.021654452263690206}, {\"season\": 6369, \"timestamp\": \"2022-08-18T00:00:00\", \"variable\": \"rinsable_percent\", \"value\": 0.021654452263690206, \"sprouts_rinsable\": 2079399.6117159987, \"sprouts\": 93947024.25690793, \"rinsable_percent\": 0.021654452263690206}, {\"season\": 6393, \"timestamp\": \"2022-08-19T00:00:00\", \"variable\": \"rinsable_percent\", \"value\": 0.021669112853953013, \"sprouts_rinsable\": 2080845.423283999, \"sprouts\": 93947332.44023193, \"rinsable_percent\": 0.021669112853953013}, {\"season\": 6393, \"timestamp\": \"2022-08-19T00:00:00\", \"variable\": \"sprouts\", \"value\": 93947332.44023193, \"sprouts_rinsable\": 2080845.423283999, \"sprouts\": 93947332.44023193, \"rinsable_percent\": 0.021669112853953013}, {\"season\": 6393, \"timestamp\": \"2022-08-19T00:00:00\", \"variable\": \"sprouts_rinsable\", \"value\": 2080845.423283999, \"sprouts_rinsable\": 2080845.423283999, \"sprouts\": 93947332.44023193, \"rinsable_percent\": 0.021669112853953013}, {\"season\": 6417, \"timestamp\": \"2022-08-20T00:00:00\", \"variable\": \"sprouts_rinsable\", \"value\": 2082893.7197089999, \"sprouts_rinsable\": 2082893.7197089999, \"sprouts\": 93945284.14380693, \"rinsable_percent\": 0.021690443014230676}, {\"season\": 6417, \"timestamp\": \"2022-08-20T00:00:00\", \"variable\": \"sprouts\", \"value\": 93945284.14380693, \"sprouts_rinsable\": 2082893.7197089999, \"sprouts\": 93945284.14380693, \"rinsable_percent\": 0.021690443014230676}, {\"season\": 6417, \"timestamp\": \"2022-08-20T00:00:00\", \"variable\": \"rinsable_percent\", \"value\": 0.021690443014230676, \"sprouts_rinsable\": 2082893.7197089999, \"sprouts\": 93945284.14380693, \"rinsable_percent\": 0.021690443014230676}, {\"season\": 6441, \"timestamp\": \"2022-08-21T00:00:00\", \"variable\": \"sprouts_rinsable\", \"value\": 2085458.393384, \"sprouts_rinsable\": 2085458.393384, \"sprouts\": 93942719.47013193, \"rinsable_percent\": 0.021717150525838835}, {\"season\": 6441, \"timestamp\": \"2022-08-21T00:00:00\", \"variable\": \"sprouts\", \"value\": 93942719.47013193, \"sprouts_rinsable\": 2085458.393384, \"sprouts\": 93942719.47013193, \"rinsable_percent\": 0.021717150525838835}, {\"season\": 6441, \"timestamp\": \"2022-08-21T00:00:00\", \"variable\": \"rinsable_percent\", \"value\": 0.021717150525838835, \"sprouts_rinsable\": 2085458.393384, \"sprouts\": 93942719.47013193, \"rinsable_percent\": 0.021717150525838835}, {\"season\": 6465, \"timestamp\": \"2022-08-22T00:00:00\", \"variable\": \"sprouts_rinsable\", \"value\": 2087386.201784001, \"sprouts_rinsable\": 2087386.201784001, \"sprouts\": 93940791.66173193, \"rinsable_percent\": 0.02173722597080605}, {\"season\": 6465, \"timestamp\": \"2022-08-22T00:00:00\", \"variable\": \"sprouts\", \"value\": 93940791.66173193, \"sprouts_rinsable\": 2087386.201784001, \"sprouts\": 93940791.66173193, \"rinsable_percent\": 0.02173722597080605}, {\"season\": 6465, \"timestamp\": \"2022-08-22T00:00:00\", \"variable\": \"rinsable_percent\", \"value\": 0.02173722597080605, \"sprouts_rinsable\": 2087386.201784001, \"sprouts\": 93940791.66173193, \"rinsable_percent\": 0.02173722597080605}, {\"season\": 6489, \"timestamp\": \"2022-08-23T00:00:00\", \"variable\": \"sprouts\", \"value\": 93940001.11748193, \"sprouts_rinsable\": 2088591.091654001, \"sprouts\": 93940001.11748193, \"rinsable_percent\": 0.021749679377839483}, {\"season\": 6489, \"timestamp\": \"2022-08-23T00:00:00\", \"variable\": \"rinsable_percent\", \"value\": 0.021749679377839483, \"sprouts_rinsable\": 2088591.091654001, \"sprouts\": 93940001.11748193, \"rinsable_percent\": 0.021749679377839483}, {\"season\": 6489, \"timestamp\": \"2022-08-23T00:00:00\", \"variable\": \"sprouts_rinsable\", \"value\": 2088591.091654001, \"sprouts_rinsable\": 2088591.091654001, \"sprouts\": 93940001.11748193, \"rinsable_percent\": 0.021749679377839483}, {\"season\": 6513, \"timestamp\": \"2022-08-24T00:00:00\", \"variable\": \"rinsable_percent\", \"value\": 0.021779610115997744, \"sprouts_rinsable\": 2091465.636689001, \"sprouts\": 93937142.10926692, \"rinsable_percent\": 0.021779610115997744}, {\"season\": 6513, \"timestamp\": \"2022-08-24T00:00:00\", \"variable\": \"sprouts_rinsable\", \"value\": 2091465.636689001, \"sprouts_rinsable\": 2091465.636689001, \"sprouts\": 93937142.10926692, \"rinsable_percent\": 0.021779610115997744}, {\"season\": 6513, \"timestamp\": \"2022-08-24T00:00:00\", \"variable\": \"sprouts\", \"value\": 93937142.10926692, \"sprouts_rinsable\": 2091465.636689001, \"sprouts\": 93937142.10926692, \"rinsable_percent\": 0.021779610115997744}, {\"season\": 6537, \"timestamp\": \"2022-08-25T00:00:00\", \"variable\": \"sprouts_rinsable\", \"value\": 2094305.7637140006, \"sprouts_rinsable\": 2094305.7637140006, \"sprouts\": 93934372.92494193, \"rinsable_percent\": 0.021809169847105327}, {\"season\": 6537, \"timestamp\": \"2022-08-25T00:00:00\", \"variable\": \"sprouts\", \"value\": 93934372.92494193, \"sprouts_rinsable\": 2094305.7637140006, \"sprouts\": 93934372.92494193, \"rinsable_percent\": 0.021809169847105327}, {\"season\": 6537, \"timestamp\": \"2022-08-25T00:00:00\", \"variable\": \"rinsable_percent\", \"value\": 0.021809169847105327, \"sprouts_rinsable\": 2094305.7637140006, \"sprouts\": 93934372.92494193, \"rinsable_percent\": 0.021809169847105327}, {\"season\": 6561, \"timestamp\": \"2022-08-26T00:00:00\", \"variable\": \"sprouts_rinsable\", \"value\": 2096801.6334889992, \"sprouts_rinsable\": 2096801.6334889992, \"sprouts\": 93931877.05516693, \"rinsable_percent\": 0.021835160726174804}, {\"season\": 6561, \"timestamp\": \"2022-08-26T00:00:00\", \"variable\": \"sprouts\", \"value\": 93931877.05516693, \"sprouts_rinsable\": 2096801.6334889992, \"sprouts\": 93931877.05516693, \"rinsable_percent\": 0.021835160726174804}, {\"season\": 6561, \"timestamp\": \"2022-08-26T00:00:00\", \"variable\": \"rinsable_percent\", \"value\": 0.021835160726174804, \"sprouts_rinsable\": 2096801.6334889992, \"sprouts\": 93931877.05516693, \"rinsable_percent\": 0.021835160726174804}, {\"season\": 6585, \"timestamp\": \"2022-08-27T00:00:00\", \"variable\": \"sprouts_rinsable\", \"value\": 2098247.5166689972, \"sprouts_rinsable\": 2098247.5166689972, \"sprouts\": 93930431.17198694, \"rinsable_percent\": 0.021850217511290904}, {\"season\": 6585, \"timestamp\": \"2022-08-27T00:00:00\", \"variable\": \"sprouts\", \"value\": 93930431.17198694, \"sprouts_rinsable\": 2098247.5166689972, \"sprouts\": 93930431.17198694, \"rinsable_percent\": 0.021850217511290904}, {\"season\": 6585, \"timestamp\": \"2022-08-27T00:00:00\", \"variable\": \"rinsable_percent\", \"value\": 0.021850217511290904, \"sprouts_rinsable\": 2098247.5166689972, \"sprouts\": 93930431.17198694, \"rinsable_percent\": 0.021850217511290904}, {\"season\": 6609, \"timestamp\": \"2022-08-28T00:00:00\", \"variable\": \"sprouts\", \"value\": 93929622.16592193, \"sprouts_rinsable\": 2099056.5227339966, \"sprouts\": 93929622.16592193, \"rinsable_percent\": 0.02185864214105825}, {\"season\": 6609, \"timestamp\": \"2022-08-28T00:00:00\", \"variable\": \"rinsable_percent\", \"value\": 0.02185864214105825, \"sprouts_rinsable\": 2099056.5227339966, \"sprouts\": 93929622.16592193, \"rinsable_percent\": 0.02185864214105825}, {\"season\": 6609, \"timestamp\": \"2022-08-28T00:00:00\", \"variable\": \"sprouts_rinsable\", \"value\": 2099056.5227339966, \"sprouts_rinsable\": 2099056.5227339966, \"sprouts\": 93929622.16592193, \"rinsable_percent\": 0.02185864214105825}, {\"season\": 6633, \"timestamp\": \"2022-08-29T00:00:00\", \"variable\": \"sprouts_rinsable\", \"value\": 2099555.6979769953, \"sprouts_rinsable\": 2099555.6979769953, \"sprouts\": 93929337.81346193, \"rinsable_percent\": 0.02186379141947415}, {\"season\": 6633, \"timestamp\": \"2022-08-29T00:00:00\", \"variable\": \"sprouts\", \"value\": 93929337.81346193, \"sprouts_rinsable\": 2099555.6979769953, \"sprouts\": 93929337.81346193, \"rinsable_percent\": 0.02186379141947415}, {\"season\": 6633, \"timestamp\": \"2022-08-29T00:00:00\", \"variable\": \"rinsable_percent\", \"value\": 0.02186379141947415, \"sprouts_rinsable\": 2099555.6979769953, \"sprouts\": 93929337.81346193, \"rinsable_percent\": 0.02186379141947415}, {\"season\": 6657, \"timestamp\": \"2022-08-30T00:00:00\", \"variable\": \"sprouts_rinsable\", \"value\": 2100554.055224997, \"sprouts_rinsable\": 2100554.055224997, \"sprouts\": 93928339.45621392, \"rinsable_percent\": 0.021874187845086226}, {\"season\": 6657, \"timestamp\": \"2022-08-30T00:00:00\", \"variable\": \"sprouts\", \"value\": 93928339.45621392, \"sprouts_rinsable\": 2100554.055224997, \"sprouts\": 93928339.45621392, \"rinsable_percent\": 0.021874187845086226}, {\"season\": 6657, \"timestamp\": \"2022-08-30T00:00:00\", \"variable\": \"rinsable_percent\", \"value\": 0.021874187845086226, \"sprouts_rinsable\": 2100554.055224997, \"sprouts\": 93928339.45621392, \"rinsable_percent\": 0.021874187845086226}, {\"season\": 6681, \"timestamp\": \"2022-08-31T00:00:00\", \"variable\": \"sprouts_rinsable\", \"value\": 2101294.216632996, \"sprouts_rinsable\": 2101294.216632996, \"sprouts\": 93927599.29480593, \"rinsable_percent\": 0.02188189553993654}, {\"season\": 6681, \"timestamp\": \"2022-08-31T00:00:00\", \"variable\": \"sprouts\", \"value\": 93927599.29480593, \"sprouts_rinsable\": 2101294.216632996, \"sprouts\": 93927599.29480593, \"rinsable_percent\": 0.02188189553993654}, {\"season\": 6681, \"timestamp\": \"2022-08-31T00:00:00\", \"variable\": \"rinsable_percent\", \"value\": 0.02188189553993654, \"sprouts_rinsable\": 2101294.216632996, \"sprouts\": 93927599.29480593, \"rinsable_percent\": 0.02188189553993654}, {\"season\": 6705, \"timestamp\": \"2022-09-01T00:00:00\", \"variable\": \"sprouts_rinsable\", \"value\": 2102654.0480569964, \"sprouts_rinsable\": 2102654.0480569964, \"sprouts\": 93926239.46338193, \"rinsable_percent\": 0.021896056188615037}, {\"season\": 6705, \"timestamp\": \"2022-09-01T00:00:00\", \"variable\": \"sprouts\", \"value\": 93926239.46338193, \"sprouts_rinsable\": 2102654.0480569964, \"sprouts\": 93926239.46338193, \"rinsable_percent\": 0.021896056188615037}, {\"season\": 6705, \"timestamp\": \"2022-09-01T00:00:00\", \"variable\": \"rinsable_percent\", \"value\": 0.021896056188615037, \"sprouts_rinsable\": 2102654.0480569964, \"sprouts\": 93926239.46338193, \"rinsable_percent\": 0.021896056188615037}, {\"season\": 6729, \"timestamp\": \"2022-09-02T00:00:00\", \"variable\": \"rinsable_percent\", \"value\": 0.021912188573185484, \"sprouts_rinsable\": 2104203.2230969975, \"sprouts\": 93924690.28834192, \"rinsable_percent\": 0.021912188573185484}, {\"season\": 6729, \"timestamp\": \"2022-09-02T00:00:00\", \"variable\": \"sprouts\", \"value\": 93924690.28834192, \"sprouts_rinsable\": 2104203.2230969975, \"sprouts\": 93924690.28834192, \"rinsable_percent\": 0.021912188573185484}, {\"season\": 6729, \"timestamp\": \"2022-09-02T00:00:00\", \"variable\": \"sprouts_rinsable\", \"value\": 2104203.2230969975, \"sprouts_rinsable\": 2104203.2230969975, \"sprouts\": 93924690.28834192, \"rinsable_percent\": 0.021912188573185484}, {\"season\": 6753, \"timestamp\": \"2022-09-03T00:00:00\", \"variable\": \"sprouts_rinsable\", \"value\": 2105218.793400998, \"sprouts_rinsable\": 2105218.793400998, \"sprouts\": 93923674.71803792, \"rinsable_percent\": 0.021922764247515}, {\"season\": 6753, \"timestamp\": \"2022-09-03T00:00:00\", \"variable\": \"sprouts\", \"value\": 93923674.71803792, \"sprouts_rinsable\": 2105218.793400998, \"sprouts\": 93923674.71803792, \"rinsable_percent\": 0.021922764247515}, {\"season\": 6753, \"timestamp\": \"2022-09-03T00:00:00\", \"variable\": \"rinsable_percent\", \"value\": 0.021922764247515, \"sprouts_rinsable\": 2105218.793400998, \"sprouts\": 93923674.71803792, \"rinsable_percent\": 0.021922764247515}, {\"season\": 6777, \"timestamp\": \"2022-09-04T00:00:00\", \"variable\": \"sprouts_rinsable\", \"value\": 2106096.6592569994, \"sprouts_rinsable\": 2106096.6592569994, \"sprouts\": 93922796.85218193, \"rinsable_percent\": 0.021931905932104926}, {\"season\": 6777, \"timestamp\": \"2022-09-04T00:00:00\", \"variable\": \"sprouts\", \"value\": 93922796.85218193, \"sprouts_rinsable\": 2106096.6592569994, \"sprouts\": 93922796.85218193, \"rinsable_percent\": 0.021931905932104926}, {\"season\": 6777, \"timestamp\": \"2022-09-04T00:00:00\", \"variable\": \"rinsable_percent\", \"value\": 0.021931905932104926, \"sprouts_rinsable\": 2106096.6592569994, \"sprouts\": 93922796.85218193, \"rinsable_percent\": 0.021931905932104926}, {\"season\": 6801, \"timestamp\": \"2022-09-05T00:00:00\", \"variable\": \"rinsable_percent\", \"value\": 0.02194266085515189, \"sprouts_rinsable\": 2107129.442617, \"sprouts\": 93921764.06882192, \"rinsable_percent\": 0.02194266085515189}, {\"season\": 6801, \"timestamp\": \"2022-09-05T00:00:00\", \"variable\": \"sprouts_rinsable\", \"value\": 2107129.442617, \"sprouts_rinsable\": 2107129.442617, \"sprouts\": 93921764.06882192, \"rinsable_percent\": 0.02194266085515189}, {\"season\": 6801, \"timestamp\": \"2022-09-05T00:00:00\", \"variable\": \"sprouts\", \"value\": 93921764.06882192, \"sprouts_rinsable\": 2107129.442617, \"sprouts\": 93921764.06882192, \"rinsable_percent\": 0.02194266085515189}, {\"season\": 6825, \"timestamp\": \"2022-09-06T00:00:00\", \"variable\": \"rinsable_percent\", \"value\": 0.021946245829500863, \"sprouts_rinsable\": 2107473.703736999, \"sprouts\": 93921419.80770192, \"rinsable_percent\": 0.021946245829500863}, {\"season\": 6825, \"timestamp\": \"2022-09-06T00:00:00\", \"variable\": \"sprouts\", \"value\": 93921419.80770192, \"sprouts_rinsable\": 2107473.703736999, \"sprouts\": 93921419.80770192, \"rinsable_percent\": 0.021946245829500863}, {\"season\": 6825, \"timestamp\": \"2022-09-06T00:00:00\", \"variable\": \"sprouts_rinsable\", \"value\": 2107473.703736999, \"sprouts_rinsable\": 2107473.703736999, \"sprouts\": 93921419.80770192, \"rinsable_percent\": 0.021946245829500863}, {\"season\": 6849, \"timestamp\": \"2022-09-07T00:00:00\", \"variable\": \"sprouts_rinsable\", \"value\": 2107663.047352999, \"sprouts_rinsable\": 2107663.047352999, \"sprouts\": 93921230.46408592, \"rinsable_percent\": 0.021948217565392805}, {\"season\": 6849, \"timestamp\": \"2022-09-07T00:00:00\", \"variable\": \"sprouts\", \"value\": 93921230.46408592, \"sprouts_rinsable\": 2107663.047352999, \"sprouts\": 93921230.46408592, \"rinsable_percent\": 0.021948217565392805}, {\"season\": 6849, \"timestamp\": \"2022-09-07T00:00:00\", \"variable\": \"rinsable_percent\", \"value\": 0.021948217565392805, \"sprouts_rinsable\": 2107663.047352999, \"sprouts\": 93921230.46408592, \"rinsable_percent\": 0.021948217565392805}, {\"season\": 6873, \"timestamp\": \"2022-09-08T00:00:00\", \"variable\": \"rinsable_percent\", \"value\": 0.02195771774741762, \"sprouts_rinsable\": 2108575.339320999, \"sprouts\": 93920318.17211792, \"rinsable_percent\": 0.02195771774741762}, {\"season\": 6873, \"timestamp\": \"2022-09-08T00:00:00\", \"variable\": \"sprouts_rinsable\", \"value\": 2108575.339320999, \"sprouts_rinsable\": 2108575.339320999, \"sprouts\": 93920318.17211792, \"rinsable_percent\": 0.02195771774741762}, {\"season\": 6873, \"timestamp\": \"2022-09-08T00:00:00\", \"variable\": \"sprouts\", \"value\": 93920318.17211792, \"sprouts_rinsable\": 2108575.339320999, \"sprouts\": 93920318.17211792, \"rinsable_percent\": 0.02195771774741762}, {\"season\": 6897, \"timestamp\": \"2022-09-09T00:00:00\", \"variable\": \"sprouts\", \"value\": 93920094.40238993, \"sprouts_rinsable\": 2108799.1090489994, \"sprouts\": 93920094.40238993, \"rinsable_percent\": 0.021960047980744465}, {\"season\": 6897, \"timestamp\": \"2022-09-09T00:00:00\", \"variable\": \"rinsable_percent\", \"value\": 0.021960047980744465, \"sprouts_rinsable\": 2108799.1090489994, \"sprouts\": 93920094.40238993, \"rinsable_percent\": 0.021960047980744465}, {\"season\": 6897, \"timestamp\": \"2022-09-09T00:00:00\", \"variable\": \"sprouts_rinsable\", \"value\": 2108799.1090489994, \"sprouts_rinsable\": 2108799.1090489994, \"sprouts\": 93920094.40238993, \"rinsable_percent\": 0.021960047980744465}, {\"season\": 6921, \"timestamp\": \"2022-09-10T00:00:00\", \"variable\": \"sprouts\", \"value\": 93919870.63266192, \"sprouts_rinsable\": 2109022.8787769987, \"sprouts\": 93919870.63266192, \"rinsable_percent\": 0.021962378214071297}, {\"season\": 6921, \"timestamp\": \"2022-09-10T00:00:00\", \"variable\": \"rinsable_percent\", \"value\": 0.021962378214071297, \"sprouts_rinsable\": 2109022.8787769987, \"sprouts\": 93919870.63266192, \"rinsable_percent\": 0.021962378214071297}, {\"season\": 6921, \"timestamp\": \"2022-09-10T00:00:00\", \"variable\": \"sprouts_rinsable\", \"value\": 2109022.8787769987, \"sprouts_rinsable\": 2109022.8787769987, \"sprouts\": 93919870.63266192, \"rinsable_percent\": 0.021962378214071297}, {\"season\": 6945, \"timestamp\": \"2022-09-11T00:00:00\", \"variable\": \"sprouts\", \"value\": 93919767.35432592, \"sprouts_rinsable\": 2109126.1571129984, \"sprouts\": 93919767.35432592, \"rinsable_percent\": 0.02196345370637599}, {\"season\": 6945, \"timestamp\": \"2022-09-11T00:00:00\", \"variable\": \"rinsable_percent\", \"value\": 0.02196345370637599, \"sprouts_rinsable\": 2109126.1571129984, \"sprouts\": 93919767.35432592, \"rinsable_percent\": 0.02196345370637599}, {\"season\": 6945, \"timestamp\": \"2022-09-11T00:00:00\", \"variable\": \"sprouts_rinsable\", \"value\": 2109126.1571129984, \"sprouts_rinsable\": 2109126.1571129984, \"sprouts\": 93919767.35432592, \"rinsable_percent\": 0.02196345370637599}, {\"season\": 6969, \"timestamp\": \"2022-09-12T00:00:00\", \"variable\": \"sprouts_rinsable\", \"value\": 2109229.435448998, \"sprouts_rinsable\": 2109229.435448998, \"sprouts\": 93919664.07598992, \"rinsable_percent\": 0.021964529198680683}, {\"season\": 6969, \"timestamp\": \"2022-09-12T00:00:00\", \"variable\": \"sprouts\", \"value\": 93919664.07598992, \"sprouts_rinsable\": 2109229.435448998, \"sprouts\": 93919664.07598992, \"rinsable_percent\": 0.021964529198680683}, {\"season\": 6969, \"timestamp\": \"2022-09-12T00:00:00\", \"variable\": \"rinsable_percent\", \"value\": 0.021964529198680683, \"sprouts_rinsable\": 2109229.435448998, \"sprouts\": 93919664.07598992, \"rinsable_percent\": 0.021964529198680683}, {\"season\": 6993, \"timestamp\": \"2022-09-13T00:00:00\", \"variable\": \"sprouts_rinsable\", \"value\": 2109263.861560998, \"sprouts_rinsable\": 2109263.861560998, \"sprouts\": 93919629.64987792, \"rinsable_percent\": 0.02196488769611558}, {\"season\": 6993, \"timestamp\": \"2022-09-13T00:00:00\", \"variable\": \"sprouts\", \"value\": 93919629.64987792, \"sprouts_rinsable\": 2109263.861560998, \"sprouts\": 93919629.64987792, \"rinsable_percent\": 0.02196488769611558}, {\"season\": 6993, \"timestamp\": \"2022-09-13T00:00:00\", \"variable\": \"rinsable_percent\", \"value\": 0.02196488769611558, \"sprouts_rinsable\": 2109263.861560998, \"sprouts\": 93919629.64987792, \"rinsable_percent\": 0.02196488769611558}, {\"season\": 7017, \"timestamp\": \"2022-09-14T00:00:00\", \"variable\": \"sprouts_rinsable\", \"value\": 2109625.3377849977, \"sprouts_rinsable\": 2109625.3377849977, \"sprouts\": 93919439.03829393, \"rinsable_percent\": 0.02196861285165776}, {\"season\": 7017, \"timestamp\": \"2022-09-14T00:00:00\", \"variable\": \"sprouts\", \"value\": 93919439.03829393, \"sprouts_rinsable\": 2109625.3377849977, \"sprouts\": 93919439.03829393, \"rinsable_percent\": 0.02196861285165776}, {\"season\": 7017, \"timestamp\": \"2022-09-14T00:00:00\", \"variable\": \"rinsable_percent\", \"value\": 0.02196861285165776, \"sprouts_rinsable\": 2109625.3377849977, \"sprouts\": 93919439.03829393, \"rinsable_percent\": 0.02196861285165776}, {\"season\": 7041, \"timestamp\": \"2022-09-15T00:00:00\", \"variable\": \"sprouts\", \"value\": 93920020.42287391, \"sprouts_rinsable\": 2109711.4037049976, \"sprouts\": 93920020.42287391, \"rinsable_percent\": 0.02196935640219164}, {\"season\": 7041, \"timestamp\": \"2022-09-15T00:00:00\", \"variable\": \"rinsable_percent\", \"value\": 0.02196935640219164, \"sprouts_rinsable\": 2109711.4037049976, \"sprouts\": 93920020.42287391, \"rinsable_percent\": 0.02196935640219164}, {\"season\": 7041, \"timestamp\": \"2022-09-15T00:00:00\", \"variable\": \"sprouts_rinsable\", \"value\": 2109711.4037049976, \"sprouts_rinsable\": 2109711.4037049976, \"sprouts\": 93920020.42287391, \"rinsable_percent\": 0.02196935640219164}, {\"season\": 7065, \"timestamp\": \"2022-09-16T00:00:00\", \"variable\": \"sprouts_rinsable\", \"value\": 2109866.326860998, \"sprouts_rinsable\": 2109866.326860998, \"sprouts\": 93919865.49971792, \"rinsable_percent\": 0.021970969685422295}, {\"season\": 7065, \"timestamp\": \"2022-09-16T00:00:00\", \"variable\": \"sprouts\", \"value\": 93919865.49971792, \"sprouts_rinsable\": 2109866.326860998, \"sprouts\": 93919865.49971792, \"rinsable_percent\": 0.021970969685422295}, {\"season\": 7065, \"timestamp\": \"2022-09-16T00:00:00\", \"variable\": \"rinsable_percent\", \"value\": 0.021970969685422295, \"sprouts_rinsable\": 2109866.326860998, \"sprouts\": 93919865.49971792, \"rinsable_percent\": 0.021970969685422295}, {\"season\": 7089, \"timestamp\": \"2022-09-17T00:00:00\", \"variable\": \"sprouts_rinsable\", \"value\": 2109866.326860998, \"sprouts_rinsable\": 2109866.326860998, \"sprouts\": 93919865.49971792, \"rinsable_percent\": 0.021970969685422295}, {\"season\": 7089, \"timestamp\": \"2022-09-17T00:00:00\", \"variable\": \"sprouts\", \"value\": 93919865.49971792, \"sprouts_rinsable\": 2109866.326860998, \"sprouts\": 93919865.49971792, \"rinsable_percent\": 0.021970969685422295}, {\"season\": 7089, \"timestamp\": \"2022-09-17T00:00:00\", \"variable\": \"rinsable_percent\", \"value\": 0.021970969685422295, \"sprouts_rinsable\": 2109866.326860998, \"sprouts\": 93919865.49971792, \"rinsable_percent\": 0.021970969685422295}, {\"season\": 7113, \"timestamp\": \"2022-09-18T00:00:00\", \"variable\": \"sprouts_rinsable\", \"value\": 2110090.104752999, \"sprouts_rinsable\": 2110090.104752999, \"sprouts\": 93919641.72182591, \"rinsable_percent\": 0.021973299983422137}, {\"season\": 7113, \"timestamp\": \"2022-09-18T00:00:00\", \"variable\": \"sprouts\", \"value\": 93919641.72182591, \"sprouts_rinsable\": 2110090.104752999, \"sprouts\": 93919641.72182591, \"rinsable_percent\": 0.021973299983422137}, {\"season\": 7113, \"timestamp\": \"2022-09-18T00:00:00\", \"variable\": \"rinsable_percent\", \"value\": 0.021973299983422137, \"sprouts_rinsable\": 2110090.104752999, \"sprouts\": 93919641.72182591, \"rinsable_percent\": 0.021973299983422137}, {\"season\": 7137, \"timestamp\": \"2022-09-19T00:00:00\", \"variable\": \"rinsable_percent\", \"value\": 0.02197365849080673, \"sprouts_rinsable\": 2110124.532120999, \"sprouts\": 93919607.29445791, \"rinsable_percent\": 0.02197365849080673}, {\"season\": 7137, \"timestamp\": \"2022-09-19T00:00:00\", \"variable\": \"sprouts_rinsable\", \"value\": 2110124.532120999, \"sprouts_rinsable\": 2110124.532120999, \"sprouts\": 93919607.29445791, \"rinsable_percent\": 0.02197365849080673}, {\"season\": 7137, \"timestamp\": \"2022-09-19T00:00:00\", \"variable\": \"sprouts\", \"value\": 93919607.29445791, \"sprouts_rinsable\": 2110124.532120999, \"sprouts\": 93919607.29445791, \"rinsable_percent\": 0.02197365849080673}, {\"season\": 7161, \"timestamp\": \"2022-09-20T00:00:00\", \"variable\": \"sprouts\", \"value\": 93920863.45888291, \"sprouts_rinsable\": 2110124.532120999, \"sprouts\": 93920863.45888291, \"rinsable_percent\": 0.02197337105725366}, {\"season\": 7161, \"timestamp\": \"2022-09-20T00:00:00\", \"variable\": \"rinsable_percent\", \"value\": 0.02197337105725366, \"sprouts_rinsable\": 2110124.532120999, \"sprouts\": 93920863.45888291, \"rinsable_percent\": 0.02197337105725366}, {\"season\": 7161, \"timestamp\": \"2022-09-20T00:00:00\", \"variable\": \"sprouts_rinsable\", \"value\": 2110124.532120999, \"sprouts_rinsable\": 2110124.532120999, \"sprouts\": 93920863.45888291, \"rinsable_percent\": 0.02197337105725366}, {\"season\": 7185, \"timestamp\": \"2022-09-21T00:00:00\", \"variable\": \"sprouts_rinsable\", \"value\": 2110124.532120999, \"sprouts_rinsable\": 2110124.532120999, \"sprouts\": 93920863.45888291, \"rinsable_percent\": 0.02197337105725366}, {\"season\": 7185, \"timestamp\": \"2022-09-21T00:00:00\", \"variable\": \"sprouts\", \"value\": 93920863.45888291, \"sprouts_rinsable\": 2110124.532120999, \"sprouts\": 93920863.45888291, \"rinsable_percent\": 0.02197337105725366}, {\"season\": 7185, \"timestamp\": \"2022-09-21T00:00:00\", \"variable\": \"rinsable_percent\", \"value\": 0.02197337105725366, \"sprouts_rinsable\": 2110124.532120999, \"sprouts\": 93920863.45888291, \"rinsable_percent\": 0.02197337105725366}, {\"season\": 7209, \"timestamp\": \"2022-09-22T00:00:00\", \"variable\": \"sprouts_rinsable\", \"value\": 2110124.532120999, \"sprouts_rinsable\": 2110124.532120999, \"sprouts\": 93920863.45888291, \"rinsable_percent\": 0.02197337105725366}, {\"season\": 7209, \"timestamp\": \"2022-09-22T00:00:00\", \"variable\": \"sprouts\", \"value\": 93920863.45888291, \"sprouts_rinsable\": 2110124.532120999, \"sprouts\": 93920863.45888291, \"rinsable_percent\": 0.02197337105725366}, {\"season\": 7209, \"timestamp\": \"2022-09-22T00:00:00\", \"variable\": \"rinsable_percent\", \"value\": 0.02197337105725366, \"sprouts_rinsable\": 2110124.532120999, \"sprouts\": 93920863.45888291, \"rinsable_percent\": 0.02197337105725366}, {\"season\": 7233, \"timestamp\": \"2022-09-23T00:00:00\", \"variable\": \"sprouts_rinsable\", \"value\": 2110124.532120999, \"sprouts_rinsable\": 2110124.532120999, \"sprouts\": 93920863.45888291, \"rinsable_percent\": 0.02197337105725366}, {\"season\": 7233, \"timestamp\": \"2022-09-23T00:00:00\", \"variable\": \"sprouts\", \"value\": 93920863.45888291, \"sprouts_rinsable\": 2110124.532120999, \"sprouts\": 93920863.45888291, \"rinsable_percent\": 0.02197337105725366}, {\"season\": 7233, \"timestamp\": \"2022-09-23T00:00:00\", \"variable\": \"rinsable_percent\", \"value\": 0.02197337105725366, \"sprouts_rinsable\": 2110124.532120999, \"sprouts\": 93920863.45888291, \"rinsable_percent\": 0.02197337105725366}, {\"season\": 7257, \"timestamp\": \"2022-09-24T00:00:00\", \"variable\": \"rinsable_percent\", \"value\": 0.02197337105725366, \"sprouts_rinsable\": 2110124.532120999, \"sprouts\": 93920863.45888291, \"rinsable_percent\": 0.02197337105725366}, {\"season\": 7257, \"timestamp\": \"2022-09-24T00:00:00\", \"variable\": \"sprouts_rinsable\", \"value\": 2110124.532120999, \"sprouts_rinsable\": 2110124.532120999, \"sprouts\": 93920863.45888291, \"rinsable_percent\": 0.02197337105725366}, {\"season\": 7257, \"timestamp\": \"2022-09-24T00:00:00\", \"variable\": \"sprouts\", \"value\": 93920863.45888291, \"sprouts_rinsable\": 2110124.532120999, \"sprouts\": 93920863.45888291, \"rinsable_percent\": 0.02197337105725366}, {\"season\": 7281, \"timestamp\": \"2022-09-25T00:00:00\", \"variable\": \"rinsable_percent\", \"value\": 0.02197337105725366, \"sprouts_rinsable\": 2110124.532120999, \"sprouts\": 93920863.45888291, \"rinsable_percent\": 0.02197337105725366}, {\"season\": 7281, \"timestamp\": \"2022-09-25T00:00:00\", \"variable\": \"sprouts\", \"value\": 93920863.45888291, \"sprouts_rinsable\": 2110124.532120999, \"sprouts\": 93920863.45888291, \"rinsable_percent\": 0.02197337105725366}, {\"season\": 7281, \"timestamp\": \"2022-09-25T00:00:00\", \"variable\": \"sprouts_rinsable\", \"value\": 2110124.532120999, \"sprouts_rinsable\": 2110124.532120999, \"sprouts\": 93920863.45888291, \"rinsable_percent\": 0.02197337105725366}, {\"season\": 7305, \"timestamp\": \"2022-09-26T00:00:00\", \"variable\": \"sprouts_rinsable\", \"value\": 2110124.532120999, \"sprouts_rinsable\": 2110124.532120999, \"sprouts\": 93920863.45888291, \"rinsable_percent\": 0.02197337105725366}, {\"season\": 7305, \"timestamp\": \"2022-09-26T00:00:00\", \"variable\": \"sprouts\", \"value\": 93920863.45888291, \"sprouts_rinsable\": 2110124.532120999, \"sprouts\": 93920863.45888291, \"rinsable_percent\": 0.02197337105725366}, {\"season\": 7305, \"timestamp\": \"2022-09-26T00:00:00\", \"variable\": \"rinsable_percent\", \"value\": 0.02197337105725366, \"sprouts_rinsable\": 2110124.532120999, \"sprouts\": 93920863.45888291, \"rinsable_percent\": 0.02197337105725366}, {\"season\": 7329, \"timestamp\": \"2022-09-27T00:00:00\", \"variable\": \"sprouts_rinsable\", \"value\": 2110124.532120999, \"sprouts_rinsable\": 2110124.532120999, \"sprouts\": 93920863.45888291, \"rinsable_percent\": 0.02197337105725366}, {\"season\": 7329, \"timestamp\": \"2022-09-27T00:00:00\", \"variable\": \"sprouts\", \"value\": 93920863.45888291, \"sprouts_rinsable\": 2110124.532120999, \"sprouts\": 93920863.45888291, \"rinsable_percent\": 0.02197337105725366}, {\"season\": 7329, \"timestamp\": \"2022-09-27T00:00:00\", \"variable\": \"rinsable_percent\", \"value\": 0.02197337105725366, \"sprouts_rinsable\": 2110124.532120999, \"sprouts\": 93920863.45888291, \"rinsable_percent\": 0.02197337105725366}, {\"season\": 7353, \"timestamp\": \"2022-09-28T00:00:00\", \"variable\": \"rinsable_percent\", \"value\": 0.02197337105725366, \"sprouts_rinsable\": 2110124.532120999, \"sprouts\": 93920863.45888291, \"rinsable_percent\": 0.02197337105725366}, {\"season\": 7353, \"timestamp\": \"2022-09-28T00:00:00\", \"variable\": \"sprouts_rinsable\", \"value\": 2110124.532120999, \"sprouts_rinsable\": 2110124.532120999, \"sprouts\": 93920863.45888291, \"rinsable_percent\": 0.02197337105725366}, {\"season\": 7353, \"timestamp\": \"2022-09-28T00:00:00\", \"variable\": \"sprouts\", \"value\": 93920863.45888291, \"sprouts_rinsable\": 2110124.532120999, \"sprouts\": 93920863.45888291, \"rinsable_percent\": 0.02197337105725366}, {\"season\": 7377, \"timestamp\": \"2022-09-29T00:00:00\", \"variable\": \"sprouts\", \"value\": 93920863.45888291, \"sprouts_rinsable\": 2110124.532120999, \"sprouts\": 93920863.45888291, \"rinsable_percent\": 0.02197337105725366}, {\"season\": 7377, \"timestamp\": \"2022-09-29T00:00:00\", \"variable\": \"rinsable_percent\", \"value\": 0.02197337105725366, \"sprouts_rinsable\": 2110124.532120999, \"sprouts\": 93920863.45888291, \"rinsable_percent\": 0.02197337105725366}, {\"season\": 7377, \"timestamp\": \"2022-09-29T00:00:00\", \"variable\": \"sprouts_rinsable\", \"value\": 2110124.532120999, \"sprouts_rinsable\": 2110124.532120999, \"sprouts\": 93920863.45888291, \"rinsable_percent\": 0.02197337105725366}, {\"season\": 7401, \"timestamp\": \"2022-09-30T00:00:00\", \"variable\": \"rinsable_percent\", \"value\": 0.02197337105725366, \"sprouts_rinsable\": 2110124.532120999, \"sprouts\": 93920863.45888291, \"rinsable_percent\": 0.02197337105725366}, {\"season\": 7401, \"timestamp\": \"2022-09-30T00:00:00\", \"variable\": \"sprouts_rinsable\", \"value\": 2110124.532120999, \"sprouts_rinsable\": 2110124.532120999, \"sprouts\": 93920863.45888291, \"rinsable_percent\": 0.02197337105725366}, {\"season\": 7401, \"timestamp\": \"2022-09-30T00:00:00\", \"variable\": \"sprouts\", \"value\": 93920863.45888291, \"sprouts_rinsable\": 2110124.532120999, \"sprouts\": 93920863.45888291, \"rinsable_percent\": 0.02197337105725366}, {\"season\": 7425, \"timestamp\": \"2022-10-01T00:00:00\", \"variable\": \"sprouts_rinsable\", \"value\": 2110124.532120999, \"sprouts_rinsable\": 2110124.532120999, \"sprouts\": 93920863.45888291, \"rinsable_percent\": 0.02197337105725366}, {\"season\": 7425, \"timestamp\": \"2022-10-01T00:00:00\", \"variable\": \"sprouts\", \"value\": 93920863.45888291, \"sprouts_rinsable\": 2110124.532120999, \"sprouts\": 93920863.45888291, \"rinsable_percent\": 0.02197337105725366}, {\"season\": 7425, \"timestamp\": \"2022-10-01T00:00:00\", \"variable\": \"rinsable_percent\", \"value\": 0.02197337105725366, \"sprouts_rinsable\": 2110124.532120999, \"sprouts\": 93920863.45888291, \"rinsable_percent\": 0.02197337105725366}, {\"season\": 7449, \"timestamp\": \"2022-10-02T00:00:00\", \"variable\": \"sprouts_rinsable\", \"value\": 2110124.532120999, \"sprouts_rinsable\": 2110124.532120999, \"sprouts\": 93920863.45888291, \"rinsable_percent\": 0.02197337105725366}, {\"season\": 7449, \"timestamp\": \"2022-10-02T00:00:00\", \"variable\": \"sprouts\", \"value\": 93920863.45888291, \"sprouts_rinsable\": 2110124.532120999, \"sprouts\": 93920863.45888291, \"rinsable_percent\": 0.02197337105725366}, {\"season\": 7449, \"timestamp\": \"2022-10-02T00:00:00\", \"variable\": \"rinsable_percent\", \"value\": 0.02197337105725366, \"sprouts_rinsable\": 2110124.532120999, \"sprouts\": 93920863.45888291, \"rinsable_percent\": 0.02197337105725366}, {\"season\": 7473, \"timestamp\": \"2022-10-03T00:00:00\", \"variable\": \"sprouts_rinsable\", \"value\": 2110124.532120999, \"sprouts_rinsable\": 2110124.532120999, \"sprouts\": 93920863.45888291, \"rinsable_percent\": 0.02197337105725366}, {\"season\": 7473, \"timestamp\": \"2022-10-03T00:00:00\", \"variable\": \"sprouts\", \"value\": 93920863.45888291, \"sprouts_rinsable\": 2110124.532120999, \"sprouts\": 93920863.45888291, \"rinsable_percent\": 0.02197337105725366}, {\"season\": 7473, \"timestamp\": \"2022-10-03T00:00:00\", \"variable\": \"rinsable_percent\", \"value\": 0.02197337105725366, \"sprouts_rinsable\": 2110124.532120999, \"sprouts\": 93920863.45888291, \"rinsable_percent\": 0.02197337105725366}, {\"season\": 7497, \"timestamp\": \"2022-10-04T00:00:00\", \"variable\": \"sprouts\", \"value\": 93920863.45888291, \"sprouts_rinsable\": 2110124.532120999, \"sprouts\": 93920863.45888291, \"rinsable_percent\": 0.02197337105725366}, {\"season\": 7497, \"timestamp\": \"2022-10-04T00:00:00\", \"variable\": \"rinsable_percent\", \"value\": 0.02197337105725366, \"sprouts_rinsable\": 2110124.532120999, \"sprouts\": 93920863.45888291, \"rinsable_percent\": 0.02197337105725366}, {\"season\": 7497, \"timestamp\": \"2022-10-04T00:00:00\", \"variable\": \"sprouts_rinsable\", \"value\": 2110124.532120999, \"sprouts_rinsable\": 2110124.532120999, \"sprouts\": 93920863.45888291, \"rinsable_percent\": 0.02197337105725366}, {\"season\": 7521, \"timestamp\": \"2022-10-05T00:00:00\", \"variable\": \"sprouts_rinsable\", \"value\": 2110124.532120999, \"sprouts_rinsable\": 2110124.532120999, \"sprouts\": 93920863.45888291, \"rinsable_percent\": 0.02197337105725366}, {\"season\": 7521, \"timestamp\": \"2022-10-05T00:00:00\", \"variable\": \"sprouts\", \"value\": 93920863.45888291, \"sprouts_rinsable\": 2110124.532120999, \"sprouts\": 93920863.45888291, \"rinsable_percent\": 0.02197337105725366}, {\"season\": 7521, \"timestamp\": \"2022-10-05T00:00:00\", \"variable\": \"rinsable_percent\", \"value\": 0.02197337105725366, \"sprouts_rinsable\": 2110124.532120999, \"sprouts\": 93920863.45888291, \"rinsable_percent\": 0.02197337105725366}, {\"season\": 7545, \"timestamp\": \"2022-10-06T00:00:00\", \"variable\": \"sprouts_rinsable\", \"value\": 2110124.532120999, \"sprouts_rinsable\": 2110124.532120999, \"sprouts\": 93920863.45888291, \"rinsable_percent\": 0.02197337105725366}, {\"season\": 7545, \"timestamp\": \"2022-10-06T00:00:00\", \"variable\": \"sprouts\", \"value\": 93920863.45888291, \"sprouts_rinsable\": 2110124.532120999, \"sprouts\": 93920863.45888291, \"rinsable_percent\": 0.02197337105725366}, {\"season\": 7545, \"timestamp\": \"2022-10-06T00:00:00\", \"variable\": \"rinsable_percent\", \"value\": 0.02197337105725366, \"sprouts_rinsable\": 2110124.532120999, \"sprouts\": 93920863.45888291, \"rinsable_percent\": 0.02197337105725366}, {\"season\": 7569, \"timestamp\": \"2022-10-07T00:00:00\", \"variable\": \"sprouts_rinsable\", \"value\": 2110245.034495999, \"sprouts_rinsable\": 2110245.034495999, \"sprouts\": 93920742.95650792, \"rinsable_percent\": 0.021974625885278664}, {\"season\": 7569, \"timestamp\": \"2022-10-07T00:00:00\", \"variable\": \"sprouts\", \"value\": 93920742.95650792, \"sprouts_rinsable\": 2110245.034495999, \"sprouts\": 93920742.95650792, \"rinsable_percent\": 0.021974625885278664}, {\"season\": 7569, \"timestamp\": \"2022-10-07T00:00:00\", \"variable\": \"rinsable_percent\", \"value\": 0.021974625885278664, \"sprouts_rinsable\": 2110245.034495999, \"sprouts\": 93920742.95650792, \"rinsable_percent\": 0.021974625885278664}, {\"season\": 7593, \"timestamp\": \"2022-10-08T00:00:00\", \"variable\": \"sprouts_rinsable\", \"value\": 2110245.034495999, \"sprouts_rinsable\": 2110245.034495999, \"sprouts\": 93920742.95650792, \"rinsable_percent\": 0.021974625885278664}, {\"season\": 7593, \"timestamp\": \"2022-10-08T00:00:00\", \"variable\": \"sprouts\", \"value\": 93920742.95650792, \"sprouts_rinsable\": 2110245.034495999, \"sprouts\": 93920742.95650792, \"rinsable_percent\": 0.021974625885278664}, {\"season\": 7593, \"timestamp\": \"2022-10-08T00:00:00\", \"variable\": \"rinsable_percent\", \"value\": 0.021974625885278664, \"sprouts_rinsable\": 2110245.034495999, \"sprouts\": 93920742.95650792, \"rinsable_percent\": 0.021974625885278664}, {\"season\": 7617, \"timestamp\": \"2022-10-09T00:00:00\", \"variable\": \"rinsable_percent\", \"value\": 0.021974625885278664, \"sprouts_rinsable\": 2110245.034495999, \"sprouts\": 93920742.95650792, \"rinsable_percent\": 0.021974625885278664}, {\"season\": 7617, \"timestamp\": \"2022-10-09T00:00:00\", \"variable\": \"sprouts_rinsable\", \"value\": 2110245.034495999, \"sprouts_rinsable\": 2110245.034495999, \"sprouts\": 93920742.95650792, \"rinsable_percent\": 0.021974625885278664}, {\"season\": 7617, \"timestamp\": \"2022-10-09T00:00:00\", \"variable\": \"sprouts\", \"value\": 93920742.95650792, \"sprouts_rinsable\": 2110245.034495999, \"sprouts\": 93920742.95650792, \"rinsable_percent\": 0.021974625885278664}, {\"season\": 7641, \"timestamp\": \"2022-10-10T00:00:00\", \"variable\": \"sprouts_rinsable\", \"value\": 2110245.034495999, \"sprouts_rinsable\": 2110245.034495999, \"sprouts\": 93920742.95650792, \"rinsable_percent\": 0.021974625885278664}, {\"season\": 7641, \"timestamp\": \"2022-10-10T00:00:00\", \"variable\": \"sprouts\", \"value\": 93920742.95650792, \"sprouts_rinsable\": 2110245.034495999, \"sprouts\": 93920742.95650792, \"rinsable_percent\": 0.021974625885278664}, {\"season\": 7641, \"timestamp\": \"2022-10-10T00:00:00\", \"variable\": \"rinsable_percent\", \"value\": 0.021974625885278664, \"sprouts_rinsable\": 2110245.034495999, \"sprouts\": 93920742.95650792, \"rinsable_percent\": 0.021974625885278664}, {\"season\": 7665, \"timestamp\": \"2022-10-11T00:00:00\", \"variable\": \"sprouts_rinsable\", \"value\": 2110468.8246209994, \"sprouts_rinsable\": 2110468.8246209994, \"sprouts\": 93920519.16638291, \"rinsable_percent\": 0.02197695628018225}, {\"season\": 7665, \"timestamp\": \"2022-10-11T00:00:00\", \"variable\": \"sprouts\", \"value\": 93920519.16638291, \"sprouts_rinsable\": 2110468.8246209994, \"sprouts\": 93920519.16638291, \"rinsable_percent\": 0.02197695628018225}, {\"season\": 7665, \"timestamp\": \"2022-10-11T00:00:00\", \"variable\": \"rinsable_percent\", \"value\": 0.02197695628018225, \"sprouts_rinsable\": 2110468.8246209994, \"sprouts\": 93920519.16638291, \"rinsable_percent\": 0.02197695628018225}, {\"season\": 7689, \"timestamp\": \"2022-10-12T00:00:00\", \"variable\": \"rinsable_percent\", \"value\": 0.02198233411457513, \"sprouts_rinsable\": 2110985.263371, \"sprouts\": 93920002.72763291, \"rinsable_percent\": 0.02198233411457513}, {\"season\": 7689, \"timestamp\": \"2022-10-12T00:00:00\", \"variable\": \"sprouts_rinsable\", \"value\": 2110985.263371, \"sprouts_rinsable\": 2110985.263371, \"sprouts\": 93920002.72763291, \"rinsable_percent\": 0.02198233411457513}, {\"season\": 7689, \"timestamp\": \"2022-10-12T00:00:00\", \"variable\": \"sprouts\", \"value\": 93920002.72763291, \"sprouts_rinsable\": 2110985.263371, \"sprouts\": 93920002.72763291, \"rinsable_percent\": 0.02198233411457513}, {\"season\": 7713, \"timestamp\": \"2022-10-13T00:00:00\", \"variable\": \"rinsable_percent\", \"value\": 0.02198538155406443, \"sprouts_rinsable\": 2111277.9119960004, \"sprouts\": 93919710.07900791, \"rinsable_percent\": 0.02198538155406443}, {\"season\": 7713, \"timestamp\": \"2022-10-13T00:00:00\", \"variable\": \"sprouts_rinsable\", \"value\": 2111277.9119960004, \"sprouts_rinsable\": 2111277.9119960004, \"sprouts\": 93919710.07900791, \"rinsable_percent\": 0.02198538155406443}, {\"season\": 7713, \"timestamp\": \"2022-10-13T00:00:00\", \"variable\": \"sprouts\", \"value\": 93919710.07900791, \"sprouts_rinsable\": 2111277.9119960004, \"sprouts\": 93919710.07900791, \"rinsable_percent\": 0.02198538155406443}, {\"season\": 7737, \"timestamp\": \"2022-10-14T00:00:00\", \"variable\": \"sprouts_rinsable\", \"value\": 2111553.345996001, \"sprouts_rinsable\": 2111553.345996001, \"sprouts\": 93919501.39540792, \"rinsable_percent\": 0.021988234448554918}, {\"season\": 7737, \"timestamp\": \"2022-10-14T00:00:00\", \"variable\": \"sprouts\", \"value\": 93919501.39540792, \"sprouts_rinsable\": 2111553.345996001, \"sprouts\": 93919501.39540792, \"rinsable_percent\": 0.021988234448554918}, {\"season\": 7737, \"timestamp\": \"2022-10-14T00:00:00\", \"variable\": \"rinsable_percent\", \"value\": 0.021988234448554918, \"sprouts_rinsable\": 2111553.345996001, \"sprouts\": 93919501.39540792, \"rinsable_percent\": 0.021988234448554918}, {\"season\": 7761, \"timestamp\": \"2022-10-15T00:00:00\", \"variable\": \"sprouts\", \"value\": 93919398.10735792, \"sprouts_rinsable\": 2111656.6340460004, \"sprouts\": 93919398.10735792, \"rinsable_percent\": 0.021989310017809863}, {\"season\": 7761, \"timestamp\": \"2022-10-15T00:00:00\", \"variable\": \"sprouts_rinsable\", \"value\": 2111656.6340460004, \"sprouts_rinsable\": 2111656.6340460004, \"sprouts\": 93919398.10735792, \"rinsable_percent\": 0.021989310017809863}, {\"season\": 7761, \"timestamp\": \"2022-10-15T00:00:00\", \"variable\": \"rinsable_percent\", \"value\": 0.021989310017809863, \"sprouts_rinsable\": 2111656.6340460004, \"sprouts\": 93919398.10735792, \"rinsable_percent\": 0.021989310017809863}, {\"season\": 7785, \"timestamp\": \"2022-10-16T00:00:00\", \"variable\": \"sprouts\", \"value\": 93919398.10735792, \"sprouts_rinsable\": 2111656.6340460004, \"sprouts\": 93919398.10735792, \"rinsable_percent\": 0.021989310017809863}, {\"season\": 7785, \"timestamp\": \"2022-10-16T00:00:00\", \"variable\": \"sprouts_rinsable\", \"value\": 2111656.6340460004, \"sprouts_rinsable\": 2111656.6340460004, \"sprouts\": 93919398.10735792, \"rinsable_percent\": 0.021989310017809863}, {\"season\": 7785, \"timestamp\": \"2022-10-16T00:00:00\", \"variable\": \"rinsable_percent\", \"value\": 0.021989310017809863, \"sprouts_rinsable\": 2111656.6340460004, \"sprouts\": 93919398.10735792, \"rinsable_percent\": 0.021989310017809863}, {\"season\": 7809, \"timestamp\": \"2022-10-17T00:00:00\", \"variable\": \"sprouts\", \"value\": 93918795.59373292, \"sprouts_rinsable\": 2112259.1476710015, \"sprouts\": 93918795.59373292, \"rinsable_percent\": 0.021995584171797065}, {\"season\": 7809, \"timestamp\": \"2022-10-17T00:00:00\", \"variable\": \"sprouts_rinsable\", \"value\": 2112259.1476710015, \"sprouts_rinsable\": 2112259.1476710015, \"sprouts\": 93918795.59373292, \"rinsable_percent\": 0.021995584171797065}, {\"season\": 7809, \"timestamp\": \"2022-10-17T00:00:00\", \"variable\": \"rinsable_percent\", \"value\": 0.021995584171797065, \"sprouts_rinsable\": 2112259.1476710015, \"sprouts\": 93918795.59373292, \"rinsable_percent\": 0.021995584171797065}, {\"season\": 7812, \"timestamp\": \"2022-10-18T00:00:00\", \"variable\": \"sprouts\", \"value\": 93918761.16438292, \"sprouts_rinsable\": 2112293.5770210014, \"sprouts\": 93918761.16438292, \"rinsable_percent\": 0.021995942694882045}, {\"season\": 7812, \"timestamp\": \"2022-10-18T00:00:00\", \"variable\": \"sprouts_rinsable\", \"value\": 2112293.5770210014, \"sprouts_rinsable\": 2112293.5770210014, \"sprouts\": 93918761.16438292, \"rinsable_percent\": 0.021995942694882045}, {\"season\": 7812, \"timestamp\": \"2022-10-18T00:00:00\", \"variable\": \"rinsable_percent\", \"value\": 0.021995942694882045, \"sprouts_rinsable\": 2112293.5770210014, \"sprouts\": 93918761.16438292, \"rinsable_percent\": 0.021995942694882045}]}}, {\"mode\": \"vega-lite\"});\n",
       "</script>"
      ],
      "text/plain": [
       "alt.LayerChart(...)"
      ]
     },
     "execution_count": 9,
     "metadata": {},
     "output_type": "execute_result"
    }
   ],
   "source": [
    "# sprouts breakdown \n",
    "df_sprouts = wide_to_longwide(\n",
    "    df, \n",
    "    \"timestamp\", \n",
    "    ['season', 'timestamp'], \n",
    "    ['sprouts_rinsable', 'sprouts', 'rinsable_percent'],\n",
    "    sort_col=\"timestamp\",\n",
    ")\n",
    "colors = {\n",
    "    'sprouts_rinsable': '#219ebc', \n",
    "    'sprouts': '#fb8500', \n",
    "    'rinsable_percent': '#023047'\n",
    "}\n",
    "chart_sprouts_breakdown = chart_stack_area_overlay_line_timeseries(\n",
    "    df_sprouts, \n",
    "    \"timestamp\", \n",
    "    ['sprouts', 'sprouts_rinsable', 'rinsable_percent'], \n",
    "    ['sprouts_rinsable', 'sprouts'], \n",
    "    \"Sprouts Breakdown\",\n",
    "    separate_y_axes=True, \n",
    "    show_exploit_rule=False, \n",
    "    xaxis_kwargs=dict(labelExpr=\"timeFormat(toDate(datum.value), '%b %e, %Y')\"),\n",
    "    yaxis_area_kwargs=dict(title=\"Sprouts\", format=\".3~s\"), \n",
    "    yaxis_line_kwargs=dict(title=\"Percent\", format=\".2%\"), \n",
    "    tooltip_formats={\n",
    "        'sprouts_rinsable': ',d', \n",
    "        'sprouts': ',d', \n",
    "        'rinsable_percent': '.2%'\n",
    "    }, \n",
    "    color_map=colors, \n",
    "    width=400, \n",
    ")\n",
    "chart_sprouts_breakdown"
   ]
  },
  {
   "cell_type": "code",
   "execution_count": 11,
   "id": "bbf59fe1",
   "metadata": {},
   "outputs": [
    {
     "name": "stderr",
     "output_type": "stream",
     "text": [
      "/Users/ALEX/opt/anaconda3/envs/beanstalk/lib/python3.10/site-packages/altair/utils/core.py:317: FutureWarning: iteritems is deprecated and will be removed in a future version. Use .items instead.\n",
      "  for col_name, dtype in df.dtypes.iteritems():\n"
     ]
    },
    {
     "data": {
      "text/html": [
       "\n",
       "<div id=\"altair-viz-e3c4b2c415da43bfbc5ce0fb5ebb0190\"></div>\n",
       "<script type=\"text/javascript\">\n",
       "  var VEGA_DEBUG = (typeof VEGA_DEBUG == \"undefined\") ? {} : VEGA_DEBUG;\n",
       "  (function(spec, embedOpt){\n",
       "    let outputDiv = document.currentScript.previousElementSibling;\n",
       "    if (outputDiv.id !== \"altair-viz-e3c4b2c415da43bfbc5ce0fb5ebb0190\") {\n",
       "      outputDiv = document.getElementById(\"altair-viz-e3c4b2c415da43bfbc5ce0fb5ebb0190\");\n",
       "    }\n",
       "    const paths = {\n",
       "      \"vega\": \"https://cdn.jsdelivr.net/npm//vega@5?noext\",\n",
       "      \"vega-lib\": \"https://cdn.jsdelivr.net/npm//vega-lib?noext\",\n",
       "      \"vega-lite\": \"https://cdn.jsdelivr.net/npm//vega-lite@4.17.0?noext\",\n",
       "      \"vega-embed\": \"https://cdn.jsdelivr.net/npm//vega-embed@6?noext\",\n",
       "    };\n",
       "\n",
       "    function maybeLoadScript(lib, version) {\n",
       "      var key = `${lib.replace(\"-\", \"\")}_version`;\n",
       "      return (VEGA_DEBUG[key] == version) ?\n",
       "        Promise.resolve(paths[lib]) :\n",
       "        new Promise(function(resolve, reject) {\n",
       "          var s = document.createElement('script');\n",
       "          document.getElementsByTagName(\"head\")[0].appendChild(s);\n",
       "          s.async = true;\n",
       "          s.onload = () => {\n",
       "            VEGA_DEBUG[key] = version;\n",
       "            return resolve(paths[lib]);\n",
       "          };\n",
       "          s.onerror = () => reject(`Error loading script: ${paths[lib]}`);\n",
       "          s.src = paths[lib];\n",
       "        });\n",
       "    }\n",
       "\n",
       "    function showError(err) {\n",
       "      outputDiv.innerHTML = `<div class=\"error\" style=\"color:red;\">${err}</div>`;\n",
       "      throw err;\n",
       "    }\n",
       "\n",
       "    function displayChart(vegaEmbed) {\n",
       "      vegaEmbed(outputDiv, spec, embedOpt)\n",
       "        .catch(err => showError(`Javascript Error: ${err.message}<br>This usually means there's a typo in your chart specification. See the javascript console for the full traceback.`));\n",
       "    }\n",
       "\n",
       "    if(typeof define === \"function\" && define.amd) {\n",
       "      requirejs.config({paths});\n",
       "      require([\"vega-embed\"], displayChart, err => showError(`Error loading script: ${err.message}`));\n",
       "    } else {\n",
       "      maybeLoadScript(\"vega\", \"5\")\n",
       "        .then(() => maybeLoadScript(\"vega-lite\", \"4.17.0\"))\n",
       "        .then(() => maybeLoadScript(\"vega-embed\", \"6\"))\n",
       "        .catch(showError)\n",
       "        .then(() => displayChart(vegaEmbed));\n",
       "    }\n",
       "  })({\"config\": {\"view\": {\"continuousWidth\": 400, \"continuousHeight\": 300}}, \"hconcat\": [{\"layer\": [{\"mark\": {\"type\": \"area\", \"point\": \"transparent\"}, \"encoding\": {\"color\": {\"field\": \"variable\", \"legend\": {\"title\": null}, \"scale\": {\"domain\": [\"sprouts\", \"sprouts_rinsable\", \"rinsable_percent\"], \"range\": [\"#fb8500\", \"#219ebc\", \"#023047\"]}, \"type\": \"nominal\"}, \"order\": {\"field\": \"stack_order\", \"sort\": \"ascending\", \"type\": \"quantitative\"}, \"tooltip\": [{\"field\": \"timestamp\", \"timeUnit\": \"yearmonthdate\", \"title\": \"date\", \"type\": \"ordinal\"}, {\"field\": \"sprouts\", \"format\": \",d\", \"type\": \"quantitative\"}, {\"field\": \"sprouts_rinsable\", \"format\": \",d\", \"type\": \"quantitative\"}, {\"field\": \"rinsable_percent\", \"format\": \".2%\", \"type\": \"quantitative\"}], \"x\": {\"axis\": {\"formatType\": \"time\", \"labelAngle\": 0, \"labelExpr\": \"timeFormat(toDate(datum.value), '%b %e, %Y')\", \"labelOverlap\": true, \"labelPadding\": 5, \"labelSeparation\": 50, \"ticks\": false, \"title\": \"Date\"}, \"field\": \"timestamp\", \"type\": \"ordinal\"}, \"y\": {\"axis\": {\"format\": \".3~s\", \"title\": \"Sprouts\"}, \"field\": \"value\", \"type\": \"quantitative\"}}, \"title\": \"Sprouts Breakdown\", \"transform\": [{\"calculate\": \"datum['variable'] === 'sprouts' ? 0 :  datum['variable'] === 'sprouts_rinsable' ? 1 :  datum['variable'] === 'rinsable_percent' ? 2 : 3\", \"as\": \"stack_order\"}, {\"filter\": \"datum['variable'] == 'sprouts_rinsable' | datum['variable'] == 'sprouts'\"}, {\"calculate\": \"datum['variable'] === 'sprouts' ? 0 :  datum['variable'] === 'sprouts_rinsable' ? 1 :  datum['variable'] === 'rinsable_percent' ? 2 : 3\", \"as\": \"sort_col\"}], \"width\": 400}, {\"mark\": \"line\", \"encoding\": {\"color\": {\"field\": \"variable\", \"legend\": {\"title\": null}, \"scale\": {\"domain\": [\"sprouts\", \"sprouts_rinsable\", \"rinsable_percent\"], \"range\": [\"#fb8500\", \"#219ebc\", \"#023047\"]}, \"type\": \"nominal\"}, \"order\": {\"field\": \"stack_order\", \"sort\": \"ascending\", \"type\": \"quantitative\"}, \"x\": {\"axis\": {\"formatType\": \"time\", \"labelAngle\": 0, \"labelExpr\": \"timeFormat(toDate(datum.value), '%b %e, %Y')\", \"labelOverlap\": true, \"labelPadding\": 5, \"labelSeparation\": 50, \"ticks\": false, \"title\": \"Date\"}, \"field\": \"timestamp\", \"type\": \"ordinal\"}, \"y\": {\"axis\": {\"format\": \".2%\", \"title\": \"Percent\"}, \"field\": \"value\", \"type\": \"quantitative\"}}, \"title\": \"Sprouts Breakdown\", \"transform\": [{\"calculate\": \"datum['variable'] === 'sprouts' ? 0 :  datum['variable'] === 'sprouts_rinsable' ? 1 :  datum['variable'] === 'rinsable_percent' ? 2 : 3\", \"as\": \"stack_order\"}, {\"filter\": \"datum['variable'] != 'sprouts_rinsable' & datum['variable'] != 'sprouts'\"}], \"width\": 400}], \"data\": {\"name\": \"data-9b053f44f5f8a7d42a597cf763f4c43f\"}, \"resolve\": {\"axis\": {\"y\": \"independent\"}, \"scale\": {\"y\": \"independent\"}}}, {\"data\": {\"name\": \"data-7efedb02e12fbe39ed84a0e39bf03db2\"}, \"mark\": {\"type\": \"arc\", \"innerRadius\": 75, \"outerRadius\": 120}, \"encoding\": {\"color\": {\"field\": \"category\", \"legend\": {}, \"scale\": {\"domain\": [\"fertilizer_available\", \"fertilizer_active\"], \"range\": [\"#7209b7\", \"#06d6a0\"]}, \"type\": \"nominal\"}, \"theta\": {\"field\": \"value\", \"stack\": true, \"type\": \"quantitative\"}, \"tooltip\": {\"field\": \"label\", \"type\": \"nominal\"}}, \"title\": \"Fertilizer Breakdown\"}], \"resolve\": {\"axis\": {\"y\": \"independent\"}, \"legend\": {\"color\": \"independent\"}, \"scale\": {\"color\": \"independent\", \"y\": \"independent\"}}, \"$schema\": \"https://vega.github.io/schema/vega-lite/v4.17.0.json\", \"datasets\": {\"data-9b053f44f5f8a7d42a597cf763f4c43f\": [{\"season\": 6081, \"timestamp\": \"2022-08-06T00:00:00\", \"variable\": \"sprouts_rinsable\", \"value\": 53499.73946, \"sprouts_rinsable\": 53499.73946, \"sprouts\": 86660685.88870999, \"rinsable_percent\": 0.0006169664060434888}, {\"season\": 6081, \"timestamp\": \"2022-08-06T00:00:00\", \"variable\": \"sprouts\", \"value\": 86660685.88870999, \"sprouts_rinsable\": 53499.73946, \"sprouts\": 86660685.88870999, \"rinsable_percent\": 0.0006169664060434888}, {\"season\": 6081, \"timestamp\": \"2022-08-06T00:00:00\", \"variable\": \"rinsable_percent\", \"value\": 0.0006169664060434888, \"sprouts_rinsable\": 53499.73946, \"sprouts\": 86660685.88870999, \"rinsable_percent\": 0.0006169664060434888}, {\"season\": 6105, \"timestamp\": \"2022-08-07T00:00:00\", \"variable\": \"sprouts_rinsable\", \"value\": 1912625.803108, \"sprouts_rinsable\": 1912625.803108, \"sprouts\": 93541042.66121396, \"rinsable_percent\": 0.020037216315294246}, {\"season\": 6105, \"timestamp\": \"2022-08-07T00:00:00\", \"variable\": \"sprouts\", \"value\": 93541042.66121396, \"sprouts_rinsable\": 1912625.803108, \"sprouts\": 93541042.66121396, \"rinsable_percent\": 0.020037216315294246}, {\"season\": 6105, \"timestamp\": \"2022-08-07T00:00:00\", \"variable\": \"rinsable_percent\", \"value\": 0.020037216315294246, \"sprouts_rinsable\": 1912625.803108, \"sprouts\": 93541042.66121396, \"rinsable_percent\": 0.020037216315294246}, {\"season\": 6129, \"timestamp\": \"2022-08-08T00:00:00\", \"variable\": \"sprouts_rinsable\", \"value\": 1996040.1028109998, \"sprouts_rinsable\": 1996040.1028109998, \"sprouts\": 93900928.78464994, \"rinsable_percent\": 0.020814423291662488}, {\"season\": 6129, \"timestamp\": \"2022-08-08T00:00:00\", \"variable\": \"sprouts\", \"value\": 93900928.78464994, \"sprouts_rinsable\": 1996040.1028109998, \"sprouts\": 93900928.78464994, \"rinsable_percent\": 0.020814423291662488}, {\"season\": 6129, \"timestamp\": \"2022-08-08T00:00:00\", \"variable\": \"rinsable_percent\", \"value\": 0.020814423291662488, \"sprouts_rinsable\": 1996040.1028109998, \"sprouts\": 93900928.78464994, \"rinsable_percent\": 0.020814423291662488}, {\"season\": 6153, \"timestamp\": \"2022-08-09T00:00:00\", \"variable\": \"sprouts_rinsable\", \"value\": 1998323.931463, \"sprouts_rinsable\": 1998323.931463, \"sprouts\": 93960484.94686393, \"rinsable_percent\": 0.020824809674292833}, {\"season\": 6153, \"timestamp\": \"2022-08-09T00:00:00\", \"variable\": \"sprouts\", \"value\": 93960484.94686393, \"sprouts_rinsable\": 1998323.931463, \"sprouts\": 93960484.94686393, \"rinsable_percent\": 0.020824809674292833}, {\"season\": 6153, \"timestamp\": \"2022-08-09T00:00:00\", \"variable\": \"rinsable_percent\", \"value\": 0.020824809674292833, \"sprouts_rinsable\": 1998323.931463, \"sprouts\": 93960484.94686393, \"rinsable_percent\": 0.020824809674292833}, {\"season\": 6177, \"timestamp\": \"2022-08-10T00:00:00\", \"variable\": \"rinsable_percent\", \"value\": 0.02115940384837339, \"sprouts_rinsable\": 2031036.3842679998, \"sprouts\": 93956374.16955693, \"rinsable_percent\": 0.02115940384837339}, {\"season\": 6177, \"timestamp\": \"2022-08-10T00:00:00\", \"variable\": \"sprouts\", \"value\": 93956374.16955693, \"sprouts_rinsable\": 2031036.3842679998, \"sprouts\": 93956374.16955693, \"rinsable_percent\": 0.02115940384837339}, {\"season\": 6177, \"timestamp\": \"2022-08-10T00:00:00\", \"variable\": \"sprouts_rinsable\", \"value\": 2031036.3842679998, \"sprouts_rinsable\": 2031036.3842679998, \"sprouts\": 93956374.16955693, \"rinsable_percent\": 0.02115940384837339}, {\"season\": 6201, \"timestamp\": \"2022-08-11T00:00:00\", \"variable\": \"sprouts_rinsable\", \"value\": 2034957.727332, \"sprouts_rinsable\": 2034957.727332, \"sprouts\": 93962340.35755493, \"rinsable_percent\": 0.02119807294505894}, {\"season\": 6201, \"timestamp\": \"2022-08-11T00:00:00\", \"variable\": \"sprouts\", \"value\": 93962340.35755493, \"sprouts_rinsable\": 2034957.727332, \"sprouts\": 93962340.35755493, \"rinsable_percent\": 0.02119807294505894}, {\"season\": 6201, \"timestamp\": \"2022-08-11T00:00:00\", \"variable\": \"rinsable_percent\", \"value\": 0.02119807294505894, \"sprouts_rinsable\": 2034957.727332, \"sprouts\": 93962340.35755493, \"rinsable_percent\": 0.02119807294505894}, {\"season\": 6225, \"timestamp\": \"2022-08-12T00:00:00\", \"variable\": \"sprouts_rinsable\", \"value\": 2045209.96858, \"sprouts_rinsable\": 2045209.96858, \"sprouts\": 93963464.31427893, \"rinsable_percent\": 0.021302345687582783}, {\"season\": 6225, \"timestamp\": \"2022-08-12T00:00:00\", \"variable\": \"sprouts\", \"value\": 93963464.31427893, \"sprouts_rinsable\": 2045209.96858, \"sprouts\": 93963464.31427893, \"rinsable_percent\": 0.021302345687582783}, {\"season\": 6225, \"timestamp\": \"2022-08-12T00:00:00\", \"variable\": \"rinsable_percent\", \"value\": 0.021302345687582783, \"sprouts_rinsable\": 2045209.96858, \"sprouts\": 93963464.31427893, \"rinsable_percent\": 0.021302345687582783}, {\"season\": 6249, \"timestamp\": \"2022-08-13T00:00:00\", \"variable\": \"sprouts_rinsable\", \"value\": 2067044.2748949996, \"sprouts_rinsable\": 2067044.2748949996, \"sprouts\": 93946960.31493393, \"rinsable_percent\": 0.021528570584316283}, {\"season\": 6249, \"timestamp\": \"2022-08-13T00:00:00\", \"variable\": \"sprouts\", \"value\": 93946960.31493393, \"sprouts_rinsable\": 2067044.2748949996, \"sprouts\": 93946960.31493393, \"rinsable_percent\": 0.021528570584316283}, {\"season\": 6249, \"timestamp\": \"2022-08-13T00:00:00\", \"variable\": \"rinsable_percent\", \"value\": 0.021528570584316283, \"sprouts_rinsable\": 2067044.2748949996, \"sprouts\": 93946960.31493393, \"rinsable_percent\": 0.021528570584316283}, {\"season\": 6273, \"timestamp\": \"2022-08-14T00:00:00\", \"variable\": \"sprouts_rinsable\", \"value\": 2067319.5795749996, \"sprouts_rinsable\": 2067319.5795749996, \"sprouts\": 93946824.77202192, \"rinsable_percent\": 0.021531406581145204}, {\"season\": 6273, \"timestamp\": \"2022-08-14T00:00:00\", \"variable\": \"sprouts\", \"value\": 93946824.77202192, \"sprouts_rinsable\": 2067319.5795749996, \"sprouts\": 93946824.77202192, \"rinsable_percent\": 0.021531406581145204}, {\"season\": 6273, \"timestamp\": \"2022-08-14T00:00:00\", \"variable\": \"rinsable_percent\", \"value\": 0.021531406581145204, \"sprouts_rinsable\": 2067319.5795749996, \"sprouts\": 93946824.77202192, \"rinsable_percent\": 0.021531406581145204}, {\"season\": 6297, \"timestamp\": \"2022-08-15T00:00:00\", \"variable\": \"rinsable_percent\", \"value\": 0.021568682042757335, \"sprouts_rinsable\": 2070898.551126999, \"sprouts\": 93943245.80046992, \"rinsable_percent\": 0.021568682042757335}, {\"season\": 6297, \"timestamp\": \"2022-08-15T00:00:00\", \"variable\": \"sprouts_rinsable\", \"value\": 2070898.551126999, \"sprouts_rinsable\": 2070898.551126999, \"sprouts\": 93943245.80046992, \"rinsable_percent\": 0.021568682042757335}, {\"season\": 6297, \"timestamp\": \"2022-08-15T00:00:00\", \"variable\": \"sprouts\", \"value\": 93943245.80046992, \"sprouts_rinsable\": 2070898.551126999, \"sprouts\": 93943245.80046992, \"rinsable_percent\": 0.021568682042757335}, {\"season\": 6321, \"timestamp\": \"2022-08-16T00:00:00\", \"variable\": \"sprouts_rinsable\", \"value\": 2076198.5038919987, \"sprouts_rinsable\": 2076198.5038919987, \"sprouts\": 93941432.40398592, \"rinsable_percent\": 0.021623096552798343}, {\"season\": 6321, \"timestamp\": \"2022-08-16T00:00:00\", \"variable\": \"sprouts\", \"value\": 93941432.40398592, \"sprouts_rinsable\": 2076198.5038919987, \"sprouts\": 93941432.40398592, \"rinsable_percent\": 0.021623096552798343}, {\"season\": 6321, \"timestamp\": \"2022-08-16T00:00:00\", \"variable\": \"rinsable_percent\", \"value\": 0.021623096552798343, \"sprouts_rinsable\": 2076198.5038919987, \"sprouts\": 93941432.40398592, \"rinsable_percent\": 0.021623096552798343}, {\"season\": 6345, \"timestamp\": \"2022-08-17T00:00:00\", \"variable\": \"sprouts_rinsable\", \"value\": 2078366.9078559985, \"sprouts_rinsable\": 2078366.9078559985, \"sprouts\": 93948056.96076792, \"rinsable_percent\": 0.021643697891941312}, {\"season\": 6345, \"timestamp\": \"2022-08-17T00:00:00\", \"variable\": \"sprouts\", \"value\": 93948056.96076792, \"sprouts_rinsable\": 2078366.9078559985, \"sprouts\": 93948056.96076792, \"rinsable_percent\": 0.021643697891941312}, {\"season\": 6345, \"timestamp\": \"2022-08-17T00:00:00\", \"variable\": \"rinsable_percent\", \"value\": 0.021643697891941312, \"sprouts_rinsable\": 2078366.9078559985, \"sprouts\": 93948056.96076792, \"rinsable_percent\": 0.021643697891941312}, {\"season\": 6369, \"timestamp\": \"2022-08-18T00:00:00\", \"variable\": \"sprouts_rinsable\", \"value\": 2079399.6117159987, \"sprouts_rinsable\": 2079399.6117159987, \"sprouts\": 93947024.25690793, \"rinsable_percent\": 0.021654452263690206}, {\"season\": 6369, \"timestamp\": \"2022-08-18T00:00:00\", \"variable\": \"sprouts\", \"value\": 93947024.25690793, \"sprouts_rinsable\": 2079399.6117159987, \"sprouts\": 93947024.25690793, \"rinsable_percent\": 0.021654452263690206}, {\"season\": 6369, \"timestamp\": \"2022-08-18T00:00:00\", \"variable\": \"rinsable_percent\", \"value\": 0.021654452263690206, \"sprouts_rinsable\": 2079399.6117159987, \"sprouts\": 93947024.25690793, \"rinsable_percent\": 0.021654452263690206}, {\"season\": 6393, \"timestamp\": \"2022-08-19T00:00:00\", \"variable\": \"rinsable_percent\", \"value\": 0.021669112853953013, \"sprouts_rinsable\": 2080845.423283999, \"sprouts\": 93947332.44023193, \"rinsable_percent\": 0.021669112853953013}, {\"season\": 6393, \"timestamp\": \"2022-08-19T00:00:00\", \"variable\": \"sprouts\", \"value\": 93947332.44023193, \"sprouts_rinsable\": 2080845.423283999, \"sprouts\": 93947332.44023193, \"rinsable_percent\": 0.021669112853953013}, {\"season\": 6393, \"timestamp\": \"2022-08-19T00:00:00\", \"variable\": \"sprouts_rinsable\", \"value\": 2080845.423283999, \"sprouts_rinsable\": 2080845.423283999, \"sprouts\": 93947332.44023193, \"rinsable_percent\": 0.021669112853953013}, {\"season\": 6417, \"timestamp\": \"2022-08-20T00:00:00\", \"variable\": \"sprouts_rinsable\", \"value\": 2082893.7197089999, \"sprouts_rinsable\": 2082893.7197089999, \"sprouts\": 93945284.14380693, \"rinsable_percent\": 0.021690443014230676}, {\"season\": 6417, \"timestamp\": \"2022-08-20T00:00:00\", \"variable\": \"sprouts\", \"value\": 93945284.14380693, \"sprouts_rinsable\": 2082893.7197089999, \"sprouts\": 93945284.14380693, \"rinsable_percent\": 0.021690443014230676}, {\"season\": 6417, \"timestamp\": \"2022-08-20T00:00:00\", \"variable\": \"rinsable_percent\", \"value\": 0.021690443014230676, \"sprouts_rinsable\": 2082893.7197089999, \"sprouts\": 93945284.14380693, \"rinsable_percent\": 0.021690443014230676}, {\"season\": 6441, \"timestamp\": \"2022-08-21T00:00:00\", \"variable\": \"sprouts_rinsable\", \"value\": 2085458.393384, \"sprouts_rinsable\": 2085458.393384, \"sprouts\": 93942719.47013193, \"rinsable_percent\": 0.021717150525838835}, {\"season\": 6441, \"timestamp\": \"2022-08-21T00:00:00\", \"variable\": \"sprouts\", \"value\": 93942719.47013193, \"sprouts_rinsable\": 2085458.393384, \"sprouts\": 93942719.47013193, \"rinsable_percent\": 0.021717150525838835}, {\"season\": 6441, \"timestamp\": \"2022-08-21T00:00:00\", \"variable\": \"rinsable_percent\", \"value\": 0.021717150525838835, \"sprouts_rinsable\": 2085458.393384, \"sprouts\": 93942719.47013193, \"rinsable_percent\": 0.021717150525838835}, {\"season\": 6465, \"timestamp\": \"2022-08-22T00:00:00\", \"variable\": \"sprouts_rinsable\", \"value\": 2087386.201784001, \"sprouts_rinsable\": 2087386.201784001, \"sprouts\": 93940791.66173193, \"rinsable_percent\": 0.02173722597080605}, {\"season\": 6465, \"timestamp\": \"2022-08-22T00:00:00\", \"variable\": \"sprouts\", \"value\": 93940791.66173193, \"sprouts_rinsable\": 2087386.201784001, \"sprouts\": 93940791.66173193, \"rinsable_percent\": 0.02173722597080605}, {\"season\": 6465, \"timestamp\": \"2022-08-22T00:00:00\", \"variable\": \"rinsable_percent\", \"value\": 0.02173722597080605, \"sprouts_rinsable\": 2087386.201784001, \"sprouts\": 93940791.66173193, \"rinsable_percent\": 0.02173722597080605}, {\"season\": 6489, \"timestamp\": \"2022-08-23T00:00:00\", \"variable\": \"sprouts\", \"value\": 93940001.11748193, \"sprouts_rinsable\": 2088591.091654001, \"sprouts\": 93940001.11748193, \"rinsable_percent\": 0.021749679377839483}, {\"season\": 6489, \"timestamp\": \"2022-08-23T00:00:00\", \"variable\": \"rinsable_percent\", \"value\": 0.021749679377839483, \"sprouts_rinsable\": 2088591.091654001, \"sprouts\": 93940001.11748193, \"rinsable_percent\": 0.021749679377839483}, {\"season\": 6489, \"timestamp\": \"2022-08-23T00:00:00\", \"variable\": \"sprouts_rinsable\", \"value\": 2088591.091654001, \"sprouts_rinsable\": 2088591.091654001, \"sprouts\": 93940001.11748193, \"rinsable_percent\": 0.021749679377839483}, {\"season\": 6513, \"timestamp\": \"2022-08-24T00:00:00\", \"variable\": \"rinsable_percent\", \"value\": 0.021779610115997744, \"sprouts_rinsable\": 2091465.636689001, \"sprouts\": 93937142.10926692, \"rinsable_percent\": 0.021779610115997744}, {\"season\": 6513, \"timestamp\": \"2022-08-24T00:00:00\", \"variable\": \"sprouts_rinsable\", \"value\": 2091465.636689001, \"sprouts_rinsable\": 2091465.636689001, \"sprouts\": 93937142.10926692, \"rinsable_percent\": 0.021779610115997744}, {\"season\": 6513, \"timestamp\": \"2022-08-24T00:00:00\", \"variable\": \"sprouts\", \"value\": 93937142.10926692, \"sprouts_rinsable\": 2091465.636689001, \"sprouts\": 93937142.10926692, \"rinsable_percent\": 0.021779610115997744}, {\"season\": 6537, \"timestamp\": \"2022-08-25T00:00:00\", \"variable\": \"sprouts_rinsable\", \"value\": 2094305.7637140006, \"sprouts_rinsable\": 2094305.7637140006, \"sprouts\": 93934372.92494193, \"rinsable_percent\": 0.021809169847105327}, {\"season\": 6537, \"timestamp\": \"2022-08-25T00:00:00\", \"variable\": \"sprouts\", \"value\": 93934372.92494193, \"sprouts_rinsable\": 2094305.7637140006, \"sprouts\": 93934372.92494193, \"rinsable_percent\": 0.021809169847105327}, {\"season\": 6537, \"timestamp\": \"2022-08-25T00:00:00\", \"variable\": \"rinsable_percent\", \"value\": 0.021809169847105327, \"sprouts_rinsable\": 2094305.7637140006, \"sprouts\": 93934372.92494193, \"rinsable_percent\": 0.021809169847105327}, {\"season\": 6561, \"timestamp\": \"2022-08-26T00:00:00\", \"variable\": \"sprouts_rinsable\", \"value\": 2096801.6334889992, \"sprouts_rinsable\": 2096801.6334889992, \"sprouts\": 93931877.05516693, \"rinsable_percent\": 0.021835160726174804}, {\"season\": 6561, \"timestamp\": \"2022-08-26T00:00:00\", \"variable\": \"sprouts\", \"value\": 93931877.05516693, \"sprouts_rinsable\": 2096801.6334889992, \"sprouts\": 93931877.05516693, \"rinsable_percent\": 0.021835160726174804}, {\"season\": 6561, \"timestamp\": \"2022-08-26T00:00:00\", \"variable\": \"rinsable_percent\", \"value\": 0.021835160726174804, \"sprouts_rinsable\": 2096801.6334889992, \"sprouts\": 93931877.05516693, \"rinsable_percent\": 0.021835160726174804}, {\"season\": 6585, \"timestamp\": \"2022-08-27T00:00:00\", \"variable\": \"sprouts_rinsable\", \"value\": 2098247.5166689972, \"sprouts_rinsable\": 2098247.5166689972, \"sprouts\": 93930431.17198694, \"rinsable_percent\": 0.021850217511290904}, {\"season\": 6585, \"timestamp\": \"2022-08-27T00:00:00\", \"variable\": \"sprouts\", \"value\": 93930431.17198694, \"sprouts_rinsable\": 2098247.5166689972, \"sprouts\": 93930431.17198694, \"rinsable_percent\": 0.021850217511290904}, {\"season\": 6585, \"timestamp\": \"2022-08-27T00:00:00\", \"variable\": \"rinsable_percent\", \"value\": 0.021850217511290904, \"sprouts_rinsable\": 2098247.5166689972, \"sprouts\": 93930431.17198694, \"rinsable_percent\": 0.021850217511290904}, {\"season\": 6609, \"timestamp\": \"2022-08-28T00:00:00\", \"variable\": \"sprouts\", \"value\": 93929622.16592193, \"sprouts_rinsable\": 2099056.5227339966, \"sprouts\": 93929622.16592193, \"rinsable_percent\": 0.02185864214105825}, {\"season\": 6609, \"timestamp\": \"2022-08-28T00:00:00\", \"variable\": \"rinsable_percent\", \"value\": 0.02185864214105825, \"sprouts_rinsable\": 2099056.5227339966, \"sprouts\": 93929622.16592193, \"rinsable_percent\": 0.02185864214105825}, {\"season\": 6609, \"timestamp\": \"2022-08-28T00:00:00\", \"variable\": \"sprouts_rinsable\", \"value\": 2099056.5227339966, \"sprouts_rinsable\": 2099056.5227339966, \"sprouts\": 93929622.16592193, \"rinsable_percent\": 0.02185864214105825}, {\"season\": 6633, \"timestamp\": \"2022-08-29T00:00:00\", \"variable\": \"sprouts_rinsable\", \"value\": 2099555.6979769953, \"sprouts_rinsable\": 2099555.6979769953, \"sprouts\": 93929337.81346193, \"rinsable_percent\": 0.02186379141947415}, {\"season\": 6633, \"timestamp\": \"2022-08-29T00:00:00\", \"variable\": \"sprouts\", \"value\": 93929337.81346193, \"sprouts_rinsable\": 2099555.6979769953, \"sprouts\": 93929337.81346193, \"rinsable_percent\": 0.02186379141947415}, {\"season\": 6633, \"timestamp\": \"2022-08-29T00:00:00\", \"variable\": \"rinsable_percent\", \"value\": 0.02186379141947415, \"sprouts_rinsable\": 2099555.6979769953, \"sprouts\": 93929337.81346193, \"rinsable_percent\": 0.02186379141947415}, {\"season\": 6657, \"timestamp\": \"2022-08-30T00:00:00\", \"variable\": \"sprouts_rinsable\", \"value\": 2100554.055224997, \"sprouts_rinsable\": 2100554.055224997, \"sprouts\": 93928339.45621392, \"rinsable_percent\": 0.021874187845086226}, {\"season\": 6657, \"timestamp\": \"2022-08-30T00:00:00\", \"variable\": \"sprouts\", \"value\": 93928339.45621392, \"sprouts_rinsable\": 2100554.055224997, \"sprouts\": 93928339.45621392, \"rinsable_percent\": 0.021874187845086226}, {\"season\": 6657, \"timestamp\": \"2022-08-30T00:00:00\", \"variable\": \"rinsable_percent\", \"value\": 0.021874187845086226, \"sprouts_rinsable\": 2100554.055224997, \"sprouts\": 93928339.45621392, \"rinsable_percent\": 0.021874187845086226}, {\"season\": 6681, \"timestamp\": \"2022-08-31T00:00:00\", \"variable\": \"sprouts_rinsable\", \"value\": 2101294.216632996, \"sprouts_rinsable\": 2101294.216632996, \"sprouts\": 93927599.29480593, \"rinsable_percent\": 0.02188189553993654}, {\"season\": 6681, \"timestamp\": \"2022-08-31T00:00:00\", \"variable\": \"sprouts\", \"value\": 93927599.29480593, \"sprouts_rinsable\": 2101294.216632996, \"sprouts\": 93927599.29480593, \"rinsable_percent\": 0.02188189553993654}, {\"season\": 6681, \"timestamp\": \"2022-08-31T00:00:00\", \"variable\": \"rinsable_percent\", \"value\": 0.02188189553993654, \"sprouts_rinsable\": 2101294.216632996, \"sprouts\": 93927599.29480593, \"rinsable_percent\": 0.02188189553993654}, {\"season\": 6705, \"timestamp\": \"2022-09-01T00:00:00\", \"variable\": \"sprouts_rinsable\", \"value\": 2102654.0480569964, \"sprouts_rinsable\": 2102654.0480569964, \"sprouts\": 93926239.46338193, \"rinsable_percent\": 0.021896056188615037}, {\"season\": 6705, \"timestamp\": \"2022-09-01T00:00:00\", \"variable\": \"sprouts\", \"value\": 93926239.46338193, \"sprouts_rinsable\": 2102654.0480569964, \"sprouts\": 93926239.46338193, \"rinsable_percent\": 0.021896056188615037}, {\"season\": 6705, \"timestamp\": \"2022-09-01T00:00:00\", \"variable\": \"rinsable_percent\", \"value\": 0.021896056188615037, \"sprouts_rinsable\": 2102654.0480569964, \"sprouts\": 93926239.46338193, \"rinsable_percent\": 0.021896056188615037}, {\"season\": 6729, \"timestamp\": \"2022-09-02T00:00:00\", \"variable\": \"rinsable_percent\", \"value\": 0.021912188573185484, \"sprouts_rinsable\": 2104203.2230969975, \"sprouts\": 93924690.28834192, \"rinsable_percent\": 0.021912188573185484}, {\"season\": 6729, \"timestamp\": \"2022-09-02T00:00:00\", \"variable\": \"sprouts\", \"value\": 93924690.28834192, \"sprouts_rinsable\": 2104203.2230969975, \"sprouts\": 93924690.28834192, \"rinsable_percent\": 0.021912188573185484}, {\"season\": 6729, \"timestamp\": \"2022-09-02T00:00:00\", \"variable\": \"sprouts_rinsable\", \"value\": 2104203.2230969975, \"sprouts_rinsable\": 2104203.2230969975, \"sprouts\": 93924690.28834192, \"rinsable_percent\": 0.021912188573185484}, {\"season\": 6753, \"timestamp\": \"2022-09-03T00:00:00\", \"variable\": \"sprouts_rinsable\", \"value\": 2105218.793400998, \"sprouts_rinsable\": 2105218.793400998, \"sprouts\": 93923674.71803792, \"rinsable_percent\": 0.021922764247515}, {\"season\": 6753, \"timestamp\": \"2022-09-03T00:00:00\", \"variable\": \"sprouts\", \"value\": 93923674.71803792, \"sprouts_rinsable\": 2105218.793400998, \"sprouts\": 93923674.71803792, \"rinsable_percent\": 0.021922764247515}, {\"season\": 6753, \"timestamp\": \"2022-09-03T00:00:00\", \"variable\": \"rinsable_percent\", \"value\": 0.021922764247515, \"sprouts_rinsable\": 2105218.793400998, \"sprouts\": 93923674.71803792, \"rinsable_percent\": 0.021922764247515}, {\"season\": 6777, \"timestamp\": \"2022-09-04T00:00:00\", \"variable\": \"sprouts_rinsable\", \"value\": 2106096.6592569994, \"sprouts_rinsable\": 2106096.6592569994, \"sprouts\": 93922796.85218193, \"rinsable_percent\": 0.021931905932104926}, {\"season\": 6777, \"timestamp\": \"2022-09-04T00:00:00\", \"variable\": \"sprouts\", \"value\": 93922796.85218193, \"sprouts_rinsable\": 2106096.6592569994, \"sprouts\": 93922796.85218193, \"rinsable_percent\": 0.021931905932104926}, {\"season\": 6777, \"timestamp\": \"2022-09-04T00:00:00\", \"variable\": \"rinsable_percent\", \"value\": 0.021931905932104926, \"sprouts_rinsable\": 2106096.6592569994, \"sprouts\": 93922796.85218193, \"rinsable_percent\": 0.021931905932104926}, {\"season\": 6801, \"timestamp\": \"2022-09-05T00:00:00\", \"variable\": \"rinsable_percent\", \"value\": 0.02194266085515189, \"sprouts_rinsable\": 2107129.442617, \"sprouts\": 93921764.06882192, \"rinsable_percent\": 0.02194266085515189}, {\"season\": 6801, \"timestamp\": \"2022-09-05T00:00:00\", \"variable\": \"sprouts_rinsable\", \"value\": 2107129.442617, \"sprouts_rinsable\": 2107129.442617, \"sprouts\": 93921764.06882192, \"rinsable_percent\": 0.02194266085515189}, {\"season\": 6801, \"timestamp\": \"2022-09-05T00:00:00\", \"variable\": \"sprouts\", \"value\": 93921764.06882192, \"sprouts_rinsable\": 2107129.442617, \"sprouts\": 93921764.06882192, \"rinsable_percent\": 0.02194266085515189}, {\"season\": 6825, \"timestamp\": \"2022-09-06T00:00:00\", \"variable\": \"rinsable_percent\", \"value\": 0.021946245829500863, \"sprouts_rinsable\": 2107473.703736999, \"sprouts\": 93921419.80770192, \"rinsable_percent\": 0.021946245829500863}, {\"season\": 6825, \"timestamp\": \"2022-09-06T00:00:00\", \"variable\": \"sprouts\", \"value\": 93921419.80770192, \"sprouts_rinsable\": 2107473.703736999, \"sprouts\": 93921419.80770192, \"rinsable_percent\": 0.021946245829500863}, {\"season\": 6825, \"timestamp\": \"2022-09-06T00:00:00\", \"variable\": \"sprouts_rinsable\", \"value\": 2107473.703736999, \"sprouts_rinsable\": 2107473.703736999, \"sprouts\": 93921419.80770192, \"rinsable_percent\": 0.021946245829500863}, {\"season\": 6849, \"timestamp\": \"2022-09-07T00:00:00\", \"variable\": \"sprouts_rinsable\", \"value\": 2107663.047352999, \"sprouts_rinsable\": 2107663.047352999, \"sprouts\": 93921230.46408592, \"rinsable_percent\": 0.021948217565392805}, {\"season\": 6849, \"timestamp\": \"2022-09-07T00:00:00\", \"variable\": \"sprouts\", \"value\": 93921230.46408592, \"sprouts_rinsable\": 2107663.047352999, \"sprouts\": 93921230.46408592, \"rinsable_percent\": 0.021948217565392805}, {\"season\": 6849, \"timestamp\": \"2022-09-07T00:00:00\", \"variable\": \"rinsable_percent\", \"value\": 0.021948217565392805, \"sprouts_rinsable\": 2107663.047352999, \"sprouts\": 93921230.46408592, \"rinsable_percent\": 0.021948217565392805}, {\"season\": 6873, \"timestamp\": \"2022-09-08T00:00:00\", \"variable\": \"rinsable_percent\", \"value\": 0.02195771774741762, \"sprouts_rinsable\": 2108575.339320999, \"sprouts\": 93920318.17211792, \"rinsable_percent\": 0.02195771774741762}, {\"season\": 6873, \"timestamp\": \"2022-09-08T00:00:00\", \"variable\": \"sprouts_rinsable\", \"value\": 2108575.339320999, \"sprouts_rinsable\": 2108575.339320999, \"sprouts\": 93920318.17211792, \"rinsable_percent\": 0.02195771774741762}, {\"season\": 6873, \"timestamp\": \"2022-09-08T00:00:00\", \"variable\": \"sprouts\", \"value\": 93920318.17211792, \"sprouts_rinsable\": 2108575.339320999, \"sprouts\": 93920318.17211792, \"rinsable_percent\": 0.02195771774741762}, {\"season\": 6897, \"timestamp\": \"2022-09-09T00:00:00\", \"variable\": \"sprouts\", \"value\": 93920094.40238993, \"sprouts_rinsable\": 2108799.1090489994, \"sprouts\": 93920094.40238993, \"rinsable_percent\": 0.021960047980744465}, {\"season\": 6897, \"timestamp\": \"2022-09-09T00:00:00\", \"variable\": \"rinsable_percent\", \"value\": 0.021960047980744465, \"sprouts_rinsable\": 2108799.1090489994, \"sprouts\": 93920094.40238993, \"rinsable_percent\": 0.021960047980744465}, {\"season\": 6897, \"timestamp\": \"2022-09-09T00:00:00\", \"variable\": \"sprouts_rinsable\", \"value\": 2108799.1090489994, \"sprouts_rinsable\": 2108799.1090489994, \"sprouts\": 93920094.40238993, \"rinsable_percent\": 0.021960047980744465}, {\"season\": 6921, \"timestamp\": \"2022-09-10T00:00:00\", \"variable\": \"sprouts\", \"value\": 93919870.63266192, \"sprouts_rinsable\": 2109022.8787769987, \"sprouts\": 93919870.63266192, \"rinsable_percent\": 0.021962378214071297}, {\"season\": 6921, \"timestamp\": \"2022-09-10T00:00:00\", \"variable\": \"rinsable_percent\", \"value\": 0.021962378214071297, \"sprouts_rinsable\": 2109022.8787769987, \"sprouts\": 93919870.63266192, \"rinsable_percent\": 0.021962378214071297}, {\"season\": 6921, \"timestamp\": \"2022-09-10T00:00:00\", \"variable\": \"sprouts_rinsable\", \"value\": 2109022.8787769987, \"sprouts_rinsable\": 2109022.8787769987, \"sprouts\": 93919870.63266192, \"rinsable_percent\": 0.021962378214071297}, {\"season\": 6945, \"timestamp\": \"2022-09-11T00:00:00\", \"variable\": \"sprouts\", \"value\": 93919767.35432592, \"sprouts_rinsable\": 2109126.1571129984, \"sprouts\": 93919767.35432592, \"rinsable_percent\": 0.02196345370637599}, {\"season\": 6945, \"timestamp\": \"2022-09-11T00:00:00\", \"variable\": \"rinsable_percent\", \"value\": 0.02196345370637599, \"sprouts_rinsable\": 2109126.1571129984, \"sprouts\": 93919767.35432592, \"rinsable_percent\": 0.02196345370637599}, {\"season\": 6945, \"timestamp\": \"2022-09-11T00:00:00\", \"variable\": \"sprouts_rinsable\", \"value\": 2109126.1571129984, \"sprouts_rinsable\": 2109126.1571129984, \"sprouts\": 93919767.35432592, \"rinsable_percent\": 0.02196345370637599}, {\"season\": 6969, \"timestamp\": \"2022-09-12T00:00:00\", \"variable\": \"sprouts_rinsable\", \"value\": 2109229.435448998, \"sprouts_rinsable\": 2109229.435448998, \"sprouts\": 93919664.07598992, \"rinsable_percent\": 0.021964529198680683}, {\"season\": 6969, \"timestamp\": \"2022-09-12T00:00:00\", \"variable\": \"sprouts\", \"value\": 93919664.07598992, \"sprouts_rinsable\": 2109229.435448998, \"sprouts\": 93919664.07598992, \"rinsable_percent\": 0.021964529198680683}, {\"season\": 6969, \"timestamp\": \"2022-09-12T00:00:00\", \"variable\": \"rinsable_percent\", \"value\": 0.021964529198680683, \"sprouts_rinsable\": 2109229.435448998, \"sprouts\": 93919664.07598992, \"rinsable_percent\": 0.021964529198680683}, {\"season\": 6993, \"timestamp\": \"2022-09-13T00:00:00\", \"variable\": \"sprouts_rinsable\", \"value\": 2109263.861560998, \"sprouts_rinsable\": 2109263.861560998, \"sprouts\": 93919629.64987792, \"rinsable_percent\": 0.02196488769611558}, {\"season\": 6993, \"timestamp\": \"2022-09-13T00:00:00\", \"variable\": \"sprouts\", \"value\": 93919629.64987792, \"sprouts_rinsable\": 2109263.861560998, \"sprouts\": 93919629.64987792, \"rinsable_percent\": 0.02196488769611558}, {\"season\": 6993, \"timestamp\": \"2022-09-13T00:00:00\", \"variable\": \"rinsable_percent\", \"value\": 0.02196488769611558, \"sprouts_rinsable\": 2109263.861560998, \"sprouts\": 93919629.64987792, \"rinsable_percent\": 0.02196488769611558}, {\"season\": 7017, \"timestamp\": \"2022-09-14T00:00:00\", \"variable\": \"sprouts_rinsable\", \"value\": 2109625.3377849977, \"sprouts_rinsable\": 2109625.3377849977, \"sprouts\": 93919439.03829393, \"rinsable_percent\": 0.02196861285165776}, {\"season\": 7017, \"timestamp\": \"2022-09-14T00:00:00\", \"variable\": \"sprouts\", \"value\": 93919439.03829393, \"sprouts_rinsable\": 2109625.3377849977, \"sprouts\": 93919439.03829393, \"rinsable_percent\": 0.02196861285165776}, {\"season\": 7017, \"timestamp\": \"2022-09-14T00:00:00\", \"variable\": \"rinsable_percent\", \"value\": 0.02196861285165776, \"sprouts_rinsable\": 2109625.3377849977, \"sprouts\": 93919439.03829393, \"rinsable_percent\": 0.02196861285165776}, {\"season\": 7041, \"timestamp\": \"2022-09-15T00:00:00\", \"variable\": \"sprouts\", \"value\": 93920020.42287391, \"sprouts_rinsable\": 2109711.4037049976, \"sprouts\": 93920020.42287391, \"rinsable_percent\": 0.02196935640219164}, {\"season\": 7041, \"timestamp\": \"2022-09-15T00:00:00\", \"variable\": \"rinsable_percent\", \"value\": 0.02196935640219164, \"sprouts_rinsable\": 2109711.4037049976, \"sprouts\": 93920020.42287391, \"rinsable_percent\": 0.02196935640219164}, {\"season\": 7041, \"timestamp\": \"2022-09-15T00:00:00\", \"variable\": \"sprouts_rinsable\", \"value\": 2109711.4037049976, \"sprouts_rinsable\": 2109711.4037049976, \"sprouts\": 93920020.42287391, \"rinsable_percent\": 0.02196935640219164}, {\"season\": 7065, \"timestamp\": \"2022-09-16T00:00:00\", \"variable\": \"sprouts_rinsable\", \"value\": 2109866.326860998, \"sprouts_rinsable\": 2109866.326860998, \"sprouts\": 93919865.49971792, \"rinsable_percent\": 0.021970969685422295}, {\"season\": 7065, \"timestamp\": \"2022-09-16T00:00:00\", \"variable\": \"sprouts\", \"value\": 93919865.49971792, \"sprouts_rinsable\": 2109866.326860998, \"sprouts\": 93919865.49971792, \"rinsable_percent\": 0.021970969685422295}, {\"season\": 7065, \"timestamp\": \"2022-09-16T00:00:00\", \"variable\": \"rinsable_percent\", \"value\": 0.021970969685422295, \"sprouts_rinsable\": 2109866.326860998, \"sprouts\": 93919865.49971792, \"rinsable_percent\": 0.021970969685422295}, {\"season\": 7089, \"timestamp\": \"2022-09-17T00:00:00\", \"variable\": \"sprouts_rinsable\", \"value\": 2109866.326860998, \"sprouts_rinsable\": 2109866.326860998, \"sprouts\": 93919865.49971792, \"rinsable_percent\": 0.021970969685422295}, {\"season\": 7089, \"timestamp\": \"2022-09-17T00:00:00\", \"variable\": \"sprouts\", \"value\": 93919865.49971792, \"sprouts_rinsable\": 2109866.326860998, \"sprouts\": 93919865.49971792, \"rinsable_percent\": 0.021970969685422295}, {\"season\": 7089, \"timestamp\": \"2022-09-17T00:00:00\", \"variable\": \"rinsable_percent\", \"value\": 0.021970969685422295, \"sprouts_rinsable\": 2109866.326860998, \"sprouts\": 93919865.49971792, \"rinsable_percent\": 0.021970969685422295}, {\"season\": 7113, \"timestamp\": \"2022-09-18T00:00:00\", \"variable\": \"sprouts_rinsable\", \"value\": 2110090.104752999, \"sprouts_rinsable\": 2110090.104752999, \"sprouts\": 93919641.72182591, \"rinsable_percent\": 0.021973299983422137}, {\"season\": 7113, \"timestamp\": \"2022-09-18T00:00:00\", \"variable\": \"sprouts\", \"value\": 93919641.72182591, \"sprouts_rinsable\": 2110090.104752999, \"sprouts\": 93919641.72182591, \"rinsable_percent\": 0.021973299983422137}, {\"season\": 7113, \"timestamp\": \"2022-09-18T00:00:00\", \"variable\": \"rinsable_percent\", \"value\": 0.021973299983422137, \"sprouts_rinsable\": 2110090.104752999, \"sprouts\": 93919641.72182591, \"rinsable_percent\": 0.021973299983422137}, {\"season\": 7137, \"timestamp\": \"2022-09-19T00:00:00\", \"variable\": \"rinsable_percent\", \"value\": 0.02197365849080673, \"sprouts_rinsable\": 2110124.532120999, \"sprouts\": 93919607.29445791, \"rinsable_percent\": 0.02197365849080673}, {\"season\": 7137, \"timestamp\": \"2022-09-19T00:00:00\", \"variable\": \"sprouts_rinsable\", \"value\": 2110124.532120999, \"sprouts_rinsable\": 2110124.532120999, \"sprouts\": 93919607.29445791, \"rinsable_percent\": 0.02197365849080673}, {\"season\": 7137, \"timestamp\": \"2022-09-19T00:00:00\", \"variable\": \"sprouts\", \"value\": 93919607.29445791, \"sprouts_rinsable\": 2110124.532120999, \"sprouts\": 93919607.29445791, \"rinsable_percent\": 0.02197365849080673}, {\"season\": 7161, \"timestamp\": \"2022-09-20T00:00:00\", \"variable\": \"sprouts\", \"value\": 93920863.45888291, \"sprouts_rinsable\": 2110124.532120999, \"sprouts\": 93920863.45888291, \"rinsable_percent\": 0.02197337105725366}, {\"season\": 7161, \"timestamp\": \"2022-09-20T00:00:00\", \"variable\": \"rinsable_percent\", \"value\": 0.02197337105725366, \"sprouts_rinsable\": 2110124.532120999, \"sprouts\": 93920863.45888291, \"rinsable_percent\": 0.02197337105725366}, {\"season\": 7161, \"timestamp\": \"2022-09-20T00:00:00\", \"variable\": \"sprouts_rinsable\", \"value\": 2110124.532120999, \"sprouts_rinsable\": 2110124.532120999, \"sprouts\": 93920863.45888291, \"rinsable_percent\": 0.02197337105725366}, {\"season\": 7185, \"timestamp\": \"2022-09-21T00:00:00\", \"variable\": \"sprouts_rinsable\", \"value\": 2110124.532120999, \"sprouts_rinsable\": 2110124.532120999, \"sprouts\": 93920863.45888291, \"rinsable_percent\": 0.02197337105725366}, {\"season\": 7185, \"timestamp\": \"2022-09-21T00:00:00\", \"variable\": \"sprouts\", \"value\": 93920863.45888291, \"sprouts_rinsable\": 2110124.532120999, \"sprouts\": 93920863.45888291, \"rinsable_percent\": 0.02197337105725366}, {\"season\": 7185, \"timestamp\": \"2022-09-21T00:00:00\", \"variable\": \"rinsable_percent\", \"value\": 0.02197337105725366, \"sprouts_rinsable\": 2110124.532120999, \"sprouts\": 93920863.45888291, \"rinsable_percent\": 0.02197337105725366}, {\"season\": 7209, \"timestamp\": \"2022-09-22T00:00:00\", \"variable\": \"sprouts_rinsable\", \"value\": 2110124.532120999, \"sprouts_rinsable\": 2110124.532120999, \"sprouts\": 93920863.45888291, \"rinsable_percent\": 0.02197337105725366}, {\"season\": 7209, \"timestamp\": \"2022-09-22T00:00:00\", \"variable\": \"sprouts\", \"value\": 93920863.45888291, \"sprouts_rinsable\": 2110124.532120999, \"sprouts\": 93920863.45888291, \"rinsable_percent\": 0.02197337105725366}, {\"season\": 7209, \"timestamp\": \"2022-09-22T00:00:00\", \"variable\": \"rinsable_percent\", \"value\": 0.02197337105725366, \"sprouts_rinsable\": 2110124.532120999, \"sprouts\": 93920863.45888291, \"rinsable_percent\": 0.02197337105725366}, {\"season\": 7233, \"timestamp\": \"2022-09-23T00:00:00\", \"variable\": \"sprouts_rinsable\", \"value\": 2110124.532120999, \"sprouts_rinsable\": 2110124.532120999, \"sprouts\": 93920863.45888291, \"rinsable_percent\": 0.02197337105725366}, {\"season\": 7233, \"timestamp\": \"2022-09-23T00:00:00\", \"variable\": \"sprouts\", \"value\": 93920863.45888291, \"sprouts_rinsable\": 2110124.532120999, \"sprouts\": 93920863.45888291, \"rinsable_percent\": 0.02197337105725366}, {\"season\": 7233, \"timestamp\": \"2022-09-23T00:00:00\", \"variable\": \"rinsable_percent\", \"value\": 0.02197337105725366, \"sprouts_rinsable\": 2110124.532120999, \"sprouts\": 93920863.45888291, \"rinsable_percent\": 0.02197337105725366}, {\"season\": 7257, \"timestamp\": \"2022-09-24T00:00:00\", \"variable\": \"rinsable_percent\", \"value\": 0.02197337105725366, \"sprouts_rinsable\": 2110124.532120999, \"sprouts\": 93920863.45888291, \"rinsable_percent\": 0.02197337105725366}, {\"season\": 7257, \"timestamp\": \"2022-09-24T00:00:00\", \"variable\": \"sprouts_rinsable\", \"value\": 2110124.532120999, \"sprouts_rinsable\": 2110124.532120999, \"sprouts\": 93920863.45888291, \"rinsable_percent\": 0.02197337105725366}, {\"season\": 7257, \"timestamp\": \"2022-09-24T00:00:00\", \"variable\": \"sprouts\", \"value\": 93920863.45888291, \"sprouts_rinsable\": 2110124.532120999, \"sprouts\": 93920863.45888291, \"rinsable_percent\": 0.02197337105725366}, {\"season\": 7281, \"timestamp\": \"2022-09-25T00:00:00\", \"variable\": \"rinsable_percent\", \"value\": 0.02197337105725366, \"sprouts_rinsable\": 2110124.532120999, \"sprouts\": 93920863.45888291, \"rinsable_percent\": 0.02197337105725366}, {\"season\": 7281, \"timestamp\": \"2022-09-25T00:00:00\", \"variable\": \"sprouts\", \"value\": 93920863.45888291, \"sprouts_rinsable\": 2110124.532120999, \"sprouts\": 93920863.45888291, \"rinsable_percent\": 0.02197337105725366}, {\"season\": 7281, \"timestamp\": \"2022-09-25T00:00:00\", \"variable\": \"sprouts_rinsable\", \"value\": 2110124.532120999, \"sprouts_rinsable\": 2110124.532120999, \"sprouts\": 93920863.45888291, \"rinsable_percent\": 0.02197337105725366}, {\"season\": 7305, \"timestamp\": \"2022-09-26T00:00:00\", \"variable\": \"sprouts_rinsable\", \"value\": 2110124.532120999, \"sprouts_rinsable\": 2110124.532120999, \"sprouts\": 93920863.45888291, \"rinsable_percent\": 0.02197337105725366}, {\"season\": 7305, \"timestamp\": \"2022-09-26T00:00:00\", \"variable\": \"sprouts\", \"value\": 93920863.45888291, \"sprouts_rinsable\": 2110124.532120999, \"sprouts\": 93920863.45888291, \"rinsable_percent\": 0.02197337105725366}, {\"season\": 7305, \"timestamp\": \"2022-09-26T00:00:00\", \"variable\": \"rinsable_percent\", \"value\": 0.02197337105725366, \"sprouts_rinsable\": 2110124.532120999, \"sprouts\": 93920863.45888291, \"rinsable_percent\": 0.02197337105725366}, {\"season\": 7329, \"timestamp\": \"2022-09-27T00:00:00\", \"variable\": \"sprouts_rinsable\", \"value\": 2110124.532120999, \"sprouts_rinsable\": 2110124.532120999, \"sprouts\": 93920863.45888291, \"rinsable_percent\": 0.02197337105725366}, {\"season\": 7329, \"timestamp\": \"2022-09-27T00:00:00\", \"variable\": \"sprouts\", \"value\": 93920863.45888291, \"sprouts_rinsable\": 2110124.532120999, \"sprouts\": 93920863.45888291, \"rinsable_percent\": 0.02197337105725366}, {\"season\": 7329, \"timestamp\": \"2022-09-27T00:00:00\", \"variable\": \"rinsable_percent\", \"value\": 0.02197337105725366, \"sprouts_rinsable\": 2110124.532120999, \"sprouts\": 93920863.45888291, \"rinsable_percent\": 0.02197337105725366}, {\"season\": 7353, \"timestamp\": \"2022-09-28T00:00:00\", \"variable\": \"rinsable_percent\", \"value\": 0.02197337105725366, \"sprouts_rinsable\": 2110124.532120999, \"sprouts\": 93920863.45888291, \"rinsable_percent\": 0.02197337105725366}, {\"season\": 7353, \"timestamp\": \"2022-09-28T00:00:00\", \"variable\": \"sprouts_rinsable\", \"value\": 2110124.532120999, \"sprouts_rinsable\": 2110124.532120999, \"sprouts\": 93920863.45888291, \"rinsable_percent\": 0.02197337105725366}, {\"season\": 7353, \"timestamp\": \"2022-09-28T00:00:00\", \"variable\": \"sprouts\", \"value\": 93920863.45888291, \"sprouts_rinsable\": 2110124.532120999, \"sprouts\": 93920863.45888291, \"rinsable_percent\": 0.02197337105725366}, {\"season\": 7377, \"timestamp\": \"2022-09-29T00:00:00\", \"variable\": \"sprouts\", \"value\": 93920863.45888291, \"sprouts_rinsable\": 2110124.532120999, \"sprouts\": 93920863.45888291, \"rinsable_percent\": 0.02197337105725366}, {\"season\": 7377, \"timestamp\": \"2022-09-29T00:00:00\", \"variable\": \"rinsable_percent\", \"value\": 0.02197337105725366, \"sprouts_rinsable\": 2110124.532120999, \"sprouts\": 93920863.45888291, \"rinsable_percent\": 0.02197337105725366}, {\"season\": 7377, \"timestamp\": \"2022-09-29T00:00:00\", \"variable\": \"sprouts_rinsable\", \"value\": 2110124.532120999, \"sprouts_rinsable\": 2110124.532120999, \"sprouts\": 93920863.45888291, \"rinsable_percent\": 0.02197337105725366}, {\"season\": 7401, \"timestamp\": \"2022-09-30T00:00:00\", \"variable\": \"rinsable_percent\", \"value\": 0.02197337105725366, \"sprouts_rinsable\": 2110124.532120999, \"sprouts\": 93920863.45888291, \"rinsable_percent\": 0.02197337105725366}, {\"season\": 7401, \"timestamp\": \"2022-09-30T00:00:00\", \"variable\": \"sprouts_rinsable\", \"value\": 2110124.532120999, \"sprouts_rinsable\": 2110124.532120999, \"sprouts\": 93920863.45888291, \"rinsable_percent\": 0.02197337105725366}, {\"season\": 7401, \"timestamp\": \"2022-09-30T00:00:00\", \"variable\": \"sprouts\", \"value\": 93920863.45888291, \"sprouts_rinsable\": 2110124.532120999, \"sprouts\": 93920863.45888291, \"rinsable_percent\": 0.02197337105725366}, {\"season\": 7425, \"timestamp\": \"2022-10-01T00:00:00\", \"variable\": \"sprouts_rinsable\", \"value\": 2110124.532120999, \"sprouts_rinsable\": 2110124.532120999, \"sprouts\": 93920863.45888291, \"rinsable_percent\": 0.02197337105725366}, {\"season\": 7425, \"timestamp\": \"2022-10-01T00:00:00\", \"variable\": \"sprouts\", \"value\": 93920863.45888291, \"sprouts_rinsable\": 2110124.532120999, \"sprouts\": 93920863.45888291, \"rinsable_percent\": 0.02197337105725366}, {\"season\": 7425, \"timestamp\": \"2022-10-01T00:00:00\", \"variable\": \"rinsable_percent\", \"value\": 0.02197337105725366, \"sprouts_rinsable\": 2110124.532120999, \"sprouts\": 93920863.45888291, \"rinsable_percent\": 0.02197337105725366}, {\"season\": 7449, \"timestamp\": \"2022-10-02T00:00:00\", \"variable\": \"sprouts_rinsable\", \"value\": 2110124.532120999, \"sprouts_rinsable\": 2110124.532120999, \"sprouts\": 93920863.45888291, \"rinsable_percent\": 0.02197337105725366}, {\"season\": 7449, \"timestamp\": \"2022-10-02T00:00:00\", \"variable\": \"sprouts\", \"value\": 93920863.45888291, \"sprouts_rinsable\": 2110124.532120999, \"sprouts\": 93920863.45888291, \"rinsable_percent\": 0.02197337105725366}, {\"season\": 7449, \"timestamp\": \"2022-10-02T00:00:00\", \"variable\": \"rinsable_percent\", \"value\": 0.02197337105725366, \"sprouts_rinsable\": 2110124.532120999, \"sprouts\": 93920863.45888291, \"rinsable_percent\": 0.02197337105725366}, {\"season\": 7473, \"timestamp\": \"2022-10-03T00:00:00\", \"variable\": \"sprouts_rinsable\", \"value\": 2110124.532120999, \"sprouts_rinsable\": 2110124.532120999, \"sprouts\": 93920863.45888291, \"rinsable_percent\": 0.02197337105725366}, {\"season\": 7473, \"timestamp\": \"2022-10-03T00:00:00\", \"variable\": \"sprouts\", \"value\": 93920863.45888291, \"sprouts_rinsable\": 2110124.532120999, \"sprouts\": 93920863.45888291, \"rinsable_percent\": 0.02197337105725366}, {\"season\": 7473, \"timestamp\": \"2022-10-03T00:00:00\", \"variable\": \"rinsable_percent\", \"value\": 0.02197337105725366, \"sprouts_rinsable\": 2110124.532120999, \"sprouts\": 93920863.45888291, \"rinsable_percent\": 0.02197337105725366}, {\"season\": 7497, \"timestamp\": \"2022-10-04T00:00:00\", \"variable\": \"sprouts\", \"value\": 93920863.45888291, \"sprouts_rinsable\": 2110124.532120999, \"sprouts\": 93920863.45888291, \"rinsable_percent\": 0.02197337105725366}, {\"season\": 7497, \"timestamp\": \"2022-10-04T00:00:00\", \"variable\": \"rinsable_percent\", \"value\": 0.02197337105725366, \"sprouts_rinsable\": 2110124.532120999, \"sprouts\": 93920863.45888291, \"rinsable_percent\": 0.02197337105725366}, {\"season\": 7497, \"timestamp\": \"2022-10-04T00:00:00\", \"variable\": \"sprouts_rinsable\", \"value\": 2110124.532120999, \"sprouts_rinsable\": 2110124.532120999, \"sprouts\": 93920863.45888291, \"rinsable_percent\": 0.02197337105725366}, {\"season\": 7521, \"timestamp\": \"2022-10-05T00:00:00\", \"variable\": \"sprouts_rinsable\", \"value\": 2110124.532120999, \"sprouts_rinsable\": 2110124.532120999, \"sprouts\": 93920863.45888291, \"rinsable_percent\": 0.02197337105725366}, {\"season\": 7521, \"timestamp\": \"2022-10-05T00:00:00\", \"variable\": \"sprouts\", \"value\": 93920863.45888291, \"sprouts_rinsable\": 2110124.532120999, \"sprouts\": 93920863.45888291, \"rinsable_percent\": 0.02197337105725366}, {\"season\": 7521, \"timestamp\": \"2022-10-05T00:00:00\", \"variable\": \"rinsable_percent\", \"value\": 0.02197337105725366, \"sprouts_rinsable\": 2110124.532120999, \"sprouts\": 93920863.45888291, \"rinsable_percent\": 0.02197337105725366}, {\"season\": 7545, \"timestamp\": \"2022-10-06T00:00:00\", \"variable\": \"sprouts_rinsable\", \"value\": 2110124.532120999, \"sprouts_rinsable\": 2110124.532120999, \"sprouts\": 93920863.45888291, \"rinsable_percent\": 0.02197337105725366}, {\"season\": 7545, \"timestamp\": \"2022-10-06T00:00:00\", \"variable\": \"sprouts\", \"value\": 93920863.45888291, \"sprouts_rinsable\": 2110124.532120999, \"sprouts\": 93920863.45888291, \"rinsable_percent\": 0.02197337105725366}, {\"season\": 7545, \"timestamp\": \"2022-10-06T00:00:00\", \"variable\": \"rinsable_percent\", \"value\": 0.02197337105725366, \"sprouts_rinsable\": 2110124.532120999, \"sprouts\": 93920863.45888291, \"rinsable_percent\": 0.02197337105725366}, {\"season\": 7569, \"timestamp\": \"2022-10-07T00:00:00\", \"variable\": \"sprouts_rinsable\", \"value\": 2110245.034495999, \"sprouts_rinsable\": 2110245.034495999, \"sprouts\": 93920742.95650792, \"rinsable_percent\": 0.021974625885278664}, {\"season\": 7569, \"timestamp\": \"2022-10-07T00:00:00\", \"variable\": \"sprouts\", \"value\": 93920742.95650792, \"sprouts_rinsable\": 2110245.034495999, \"sprouts\": 93920742.95650792, \"rinsable_percent\": 0.021974625885278664}, {\"season\": 7569, \"timestamp\": \"2022-10-07T00:00:00\", \"variable\": \"rinsable_percent\", \"value\": 0.021974625885278664, \"sprouts_rinsable\": 2110245.034495999, \"sprouts\": 93920742.95650792, \"rinsable_percent\": 0.021974625885278664}, {\"season\": 7593, \"timestamp\": \"2022-10-08T00:00:00\", \"variable\": \"sprouts_rinsable\", \"value\": 2110245.034495999, \"sprouts_rinsable\": 2110245.034495999, \"sprouts\": 93920742.95650792, \"rinsable_percent\": 0.021974625885278664}, {\"season\": 7593, \"timestamp\": \"2022-10-08T00:00:00\", \"variable\": \"sprouts\", \"value\": 93920742.95650792, \"sprouts_rinsable\": 2110245.034495999, \"sprouts\": 93920742.95650792, \"rinsable_percent\": 0.021974625885278664}, {\"season\": 7593, \"timestamp\": \"2022-10-08T00:00:00\", \"variable\": \"rinsable_percent\", \"value\": 0.021974625885278664, \"sprouts_rinsable\": 2110245.034495999, \"sprouts\": 93920742.95650792, \"rinsable_percent\": 0.021974625885278664}, {\"season\": 7617, \"timestamp\": \"2022-10-09T00:00:00\", \"variable\": \"rinsable_percent\", \"value\": 0.021974625885278664, \"sprouts_rinsable\": 2110245.034495999, \"sprouts\": 93920742.95650792, \"rinsable_percent\": 0.021974625885278664}, {\"season\": 7617, \"timestamp\": \"2022-10-09T00:00:00\", \"variable\": \"sprouts_rinsable\", \"value\": 2110245.034495999, \"sprouts_rinsable\": 2110245.034495999, \"sprouts\": 93920742.95650792, \"rinsable_percent\": 0.021974625885278664}, {\"season\": 7617, \"timestamp\": \"2022-10-09T00:00:00\", \"variable\": \"sprouts\", \"value\": 93920742.95650792, \"sprouts_rinsable\": 2110245.034495999, \"sprouts\": 93920742.95650792, \"rinsable_percent\": 0.021974625885278664}, {\"season\": 7641, \"timestamp\": \"2022-10-10T00:00:00\", \"variable\": \"sprouts_rinsable\", \"value\": 2110245.034495999, \"sprouts_rinsable\": 2110245.034495999, \"sprouts\": 93920742.95650792, \"rinsable_percent\": 0.021974625885278664}, {\"season\": 7641, \"timestamp\": \"2022-10-10T00:00:00\", \"variable\": \"sprouts\", \"value\": 93920742.95650792, \"sprouts_rinsable\": 2110245.034495999, \"sprouts\": 93920742.95650792, \"rinsable_percent\": 0.021974625885278664}, {\"season\": 7641, \"timestamp\": \"2022-10-10T00:00:00\", \"variable\": \"rinsable_percent\", \"value\": 0.021974625885278664, \"sprouts_rinsable\": 2110245.034495999, \"sprouts\": 93920742.95650792, \"rinsable_percent\": 0.021974625885278664}, {\"season\": 7665, \"timestamp\": \"2022-10-11T00:00:00\", \"variable\": \"sprouts_rinsable\", \"value\": 2110468.8246209994, \"sprouts_rinsable\": 2110468.8246209994, \"sprouts\": 93920519.16638291, \"rinsable_percent\": 0.02197695628018225}, {\"season\": 7665, \"timestamp\": \"2022-10-11T00:00:00\", \"variable\": \"sprouts\", \"value\": 93920519.16638291, \"sprouts_rinsable\": 2110468.8246209994, \"sprouts\": 93920519.16638291, \"rinsable_percent\": 0.02197695628018225}, {\"season\": 7665, \"timestamp\": \"2022-10-11T00:00:00\", \"variable\": \"rinsable_percent\", \"value\": 0.02197695628018225, \"sprouts_rinsable\": 2110468.8246209994, \"sprouts\": 93920519.16638291, \"rinsable_percent\": 0.02197695628018225}, {\"season\": 7689, \"timestamp\": \"2022-10-12T00:00:00\", \"variable\": \"rinsable_percent\", \"value\": 0.02198233411457513, \"sprouts_rinsable\": 2110985.263371, \"sprouts\": 93920002.72763291, \"rinsable_percent\": 0.02198233411457513}, {\"season\": 7689, \"timestamp\": \"2022-10-12T00:00:00\", \"variable\": \"sprouts_rinsable\", \"value\": 2110985.263371, \"sprouts_rinsable\": 2110985.263371, \"sprouts\": 93920002.72763291, \"rinsable_percent\": 0.02198233411457513}, {\"season\": 7689, \"timestamp\": \"2022-10-12T00:00:00\", \"variable\": \"sprouts\", \"value\": 93920002.72763291, \"sprouts_rinsable\": 2110985.263371, \"sprouts\": 93920002.72763291, \"rinsable_percent\": 0.02198233411457513}, {\"season\": 7713, \"timestamp\": \"2022-10-13T00:00:00\", \"variable\": \"rinsable_percent\", \"value\": 0.02198538155406443, \"sprouts_rinsable\": 2111277.9119960004, \"sprouts\": 93919710.07900791, \"rinsable_percent\": 0.02198538155406443}, {\"season\": 7713, \"timestamp\": \"2022-10-13T00:00:00\", \"variable\": \"sprouts_rinsable\", \"value\": 2111277.9119960004, \"sprouts_rinsable\": 2111277.9119960004, \"sprouts\": 93919710.07900791, \"rinsable_percent\": 0.02198538155406443}, {\"season\": 7713, \"timestamp\": \"2022-10-13T00:00:00\", \"variable\": \"sprouts\", \"value\": 93919710.07900791, \"sprouts_rinsable\": 2111277.9119960004, \"sprouts\": 93919710.07900791, \"rinsable_percent\": 0.02198538155406443}, {\"season\": 7737, \"timestamp\": \"2022-10-14T00:00:00\", \"variable\": \"sprouts_rinsable\", \"value\": 2111553.345996001, \"sprouts_rinsable\": 2111553.345996001, \"sprouts\": 93919501.39540792, \"rinsable_percent\": 0.021988234448554918}, {\"season\": 7737, \"timestamp\": \"2022-10-14T00:00:00\", \"variable\": \"sprouts\", \"value\": 93919501.39540792, \"sprouts_rinsable\": 2111553.345996001, \"sprouts\": 93919501.39540792, \"rinsable_percent\": 0.021988234448554918}, {\"season\": 7737, \"timestamp\": \"2022-10-14T00:00:00\", \"variable\": \"rinsable_percent\", \"value\": 0.021988234448554918, \"sprouts_rinsable\": 2111553.345996001, \"sprouts\": 93919501.39540792, \"rinsable_percent\": 0.021988234448554918}, {\"season\": 7761, \"timestamp\": \"2022-10-15T00:00:00\", \"variable\": \"sprouts\", \"value\": 93919398.10735792, \"sprouts_rinsable\": 2111656.6340460004, \"sprouts\": 93919398.10735792, \"rinsable_percent\": 0.021989310017809863}, {\"season\": 7761, \"timestamp\": \"2022-10-15T00:00:00\", \"variable\": \"sprouts_rinsable\", \"value\": 2111656.6340460004, \"sprouts_rinsable\": 2111656.6340460004, \"sprouts\": 93919398.10735792, \"rinsable_percent\": 0.021989310017809863}, {\"season\": 7761, \"timestamp\": \"2022-10-15T00:00:00\", \"variable\": \"rinsable_percent\", \"value\": 0.021989310017809863, \"sprouts_rinsable\": 2111656.6340460004, \"sprouts\": 93919398.10735792, \"rinsable_percent\": 0.021989310017809863}, {\"season\": 7785, \"timestamp\": \"2022-10-16T00:00:00\", \"variable\": \"sprouts\", \"value\": 93919398.10735792, \"sprouts_rinsable\": 2111656.6340460004, \"sprouts\": 93919398.10735792, \"rinsable_percent\": 0.021989310017809863}, {\"season\": 7785, \"timestamp\": \"2022-10-16T00:00:00\", \"variable\": \"sprouts_rinsable\", \"value\": 2111656.6340460004, \"sprouts_rinsable\": 2111656.6340460004, \"sprouts\": 93919398.10735792, \"rinsable_percent\": 0.021989310017809863}, {\"season\": 7785, \"timestamp\": \"2022-10-16T00:00:00\", \"variable\": \"rinsable_percent\", \"value\": 0.021989310017809863, \"sprouts_rinsable\": 2111656.6340460004, \"sprouts\": 93919398.10735792, \"rinsable_percent\": 0.021989310017809863}, {\"season\": 7809, \"timestamp\": \"2022-10-17T00:00:00\", \"variable\": \"sprouts\", \"value\": 93918795.59373292, \"sprouts_rinsable\": 2112259.1476710015, \"sprouts\": 93918795.59373292, \"rinsable_percent\": 0.021995584171797065}, {\"season\": 7809, \"timestamp\": \"2022-10-17T00:00:00\", \"variable\": \"sprouts_rinsable\", \"value\": 2112259.1476710015, \"sprouts_rinsable\": 2112259.1476710015, \"sprouts\": 93918795.59373292, \"rinsable_percent\": 0.021995584171797065}, {\"season\": 7809, \"timestamp\": \"2022-10-17T00:00:00\", \"variable\": \"rinsable_percent\", \"value\": 0.021995584171797065, \"sprouts_rinsable\": 2112259.1476710015, \"sprouts\": 93918795.59373292, \"rinsable_percent\": 0.021995584171797065}, {\"season\": 7812, \"timestamp\": \"2022-10-18T00:00:00\", \"variable\": \"sprouts\", \"value\": 93918761.16438292, \"sprouts_rinsable\": 2112293.5770210014, \"sprouts\": 93918761.16438292, \"rinsable_percent\": 0.021995942694882045}, {\"season\": 7812, \"timestamp\": \"2022-10-18T00:00:00\", \"variable\": \"sprouts_rinsable\", \"value\": 2112293.5770210014, \"sprouts_rinsable\": 2112293.5770210014, \"sprouts\": 93918761.16438292, \"rinsable_percent\": 0.021995942694882045}, {\"season\": 7812, \"timestamp\": \"2022-10-18T00:00:00\", \"variable\": \"rinsable_percent\", \"value\": 0.021995942694882045, \"sprouts_rinsable\": 2112293.5770210014, \"sprouts\": 93918761.16438292, \"rinsable_percent\": 0.021995942694882045}], \"data-7efedb02e12fbe39ed84a0e39bf03db2\": [{\"category\": \"fertilizer_available\", \"value\": 59785472.0, \"label\": \"fertilizer_available: 59,785,472 \\n(77.6%)\"}, {\"category\": \"fertilizer_active\", \"value\": 17214528.0, \"label\": \"fertilizer_active: 17,214,528 \\n(22.4%)\"}]}}, {\"mode\": \"vega-lite\"});\n",
       "</script>"
      ],
      "text/plain": [
       "alt.HConcatChart(...)"
      ]
     },
     "execution_count": 11,
     "metadata": {},
     "output_type": "execute_result"
    }
   ],
   "source": [
    "# fertilizer breakdown \n",
    "series_fert = df.iloc[-1,][['fertilizer_available', 'fertilizer_active']]\n",
    "fert_total = series_fert['fertilizer_available'] + series_fert['fertilizer_active']\n",
    "df_fert = pd.DataFrame(\n",
    "    {\n",
    "        'category': series_fert.index, \n",
    "        'value': series_fert.values, \n",
    "        'label': [\n",
    "            f\"{c}: {int(v):,} \\n({v / fert_total:.1%})\" \n",
    "            for c, v in zip(series_fert.index, series_fert.values)\n",
    "        ]\n",
    "    }\n",
    ")\n",
    "\n",
    "chart_fert_breakdown = (\n",
    "    alt.Chart(df_fert, title=\"Fertilizer Breakdown\")\n",
    "    .encode(\n",
    "        theta=alt.Theta(\"value:Q\", stack=True),\n",
    "        color=alt.Color(\n",
    "            \"category:N\", \n",
    "            legend=alt.Legend(), \n",
    "            scale=alt.Scale(\n",
    "                domain=['fertilizer_available', 'fertilizer_active'], \n",
    "                range=['#7209b7', '#06d6a0']\n",
    "            )\n",
    "        ),\n",
    "        tooltip=\"label:N\"\n",
    "    )\n",
    "    .mark_arc(outerRadius=120, innerRadius=75)\n",
    ")\n",
    "\n",
    "c = (\n",
    "    alt.hconcat(chart_sprouts_breakdown, chart_fert_breakdown)\n",
    "    .resolve_legend(color=\"independent\")\n",
    "    .resolve_scale(y=\"independent\", color=\"independent\")\n",
    "    .resolve_axis(y=\"independent\")\n",
    ")\n",
    "c"
   ]
  },
  {
   "cell_type": "code",
   "execution_count": 12,
   "id": "82a10db1",
   "metadata": {},
   "outputs": [
    {
     "data": {
      "application/json": {
       "css": null,
       "spec": {
        "$schema": "https://vega.github.io/schema/vega-lite/v4.17.0.json",
        "config": {
         "view": {
          "continuousHeight": 300,
          "continuousWidth": 400
         }
        },
        "datasets": {
         "data-7efedb02e12fbe39ed84a0e39bf03db2": [
          {
           "category": "fertilizer_available",
           "label": "fertilizer_available: 59,785,472 \n(77.6%)",
           "value": 59785472
          },
          {
           "category": "fertilizer_active",
           "label": "fertilizer_active: 17,214,528 \n(22.4%)",
           "value": 17214528
          }
         ],
         "data-9b053f44f5f8a7d42a597cf763f4c43f": [
          {
           "rinsable_percent": 0.0006169664060434888,
           "season": 6081,
           "sprouts": 86660685.88870999,
           "sprouts_rinsable": 53499.73946,
           "timestamp": "2022-08-06T00:00:00",
           "value": 53499.73946,
           "variable": "sprouts_rinsable"
          },
          {
           "rinsable_percent": 0.0006169664060434888,
           "season": 6081,
           "sprouts": 86660685.88870999,
           "sprouts_rinsable": 53499.73946,
           "timestamp": "2022-08-06T00:00:00",
           "value": 86660685.88870999,
           "variable": "sprouts"
          },
          {
           "rinsable_percent": 0.0006169664060434888,
           "season": 6081,
           "sprouts": 86660685.88870999,
           "sprouts_rinsable": 53499.73946,
           "timestamp": "2022-08-06T00:00:00",
           "value": 0.0006169664060434888,
           "variable": "rinsable_percent"
          },
          {
           "rinsable_percent": 0.020037216315294246,
           "season": 6105,
           "sprouts": 93541042.66121396,
           "sprouts_rinsable": 1912625.803108,
           "timestamp": "2022-08-07T00:00:00",
           "value": 1912625.803108,
           "variable": "sprouts_rinsable"
          },
          {
           "rinsable_percent": 0.020037216315294246,
           "season": 6105,
           "sprouts": 93541042.66121396,
           "sprouts_rinsable": 1912625.803108,
           "timestamp": "2022-08-07T00:00:00",
           "value": 93541042.66121396,
           "variable": "sprouts"
          },
          {
           "rinsable_percent": 0.020037216315294246,
           "season": 6105,
           "sprouts": 93541042.66121396,
           "sprouts_rinsable": 1912625.803108,
           "timestamp": "2022-08-07T00:00:00",
           "value": 0.020037216315294246,
           "variable": "rinsable_percent"
          },
          {
           "rinsable_percent": 0.020814423291662488,
           "season": 6129,
           "sprouts": 93900928.78464994,
           "sprouts_rinsable": 1996040.1028109998,
           "timestamp": "2022-08-08T00:00:00",
           "value": 1996040.1028109998,
           "variable": "sprouts_rinsable"
          },
          {
           "rinsable_percent": 0.020814423291662488,
           "season": 6129,
           "sprouts": 93900928.78464994,
           "sprouts_rinsable": 1996040.1028109998,
           "timestamp": "2022-08-08T00:00:00",
           "value": 93900928.78464994,
           "variable": "sprouts"
          },
          {
           "rinsable_percent": 0.020814423291662488,
           "season": 6129,
           "sprouts": 93900928.78464994,
           "sprouts_rinsable": 1996040.1028109998,
           "timestamp": "2022-08-08T00:00:00",
           "value": 0.020814423291662488,
           "variable": "rinsable_percent"
          },
          {
           "rinsable_percent": 0.020824809674292833,
           "season": 6153,
           "sprouts": 93960484.94686393,
           "sprouts_rinsable": 1998323.931463,
           "timestamp": "2022-08-09T00:00:00",
           "value": 1998323.931463,
           "variable": "sprouts_rinsable"
          },
          {
           "rinsable_percent": 0.020824809674292833,
           "season": 6153,
           "sprouts": 93960484.94686393,
           "sprouts_rinsable": 1998323.931463,
           "timestamp": "2022-08-09T00:00:00",
           "value": 93960484.94686393,
           "variable": "sprouts"
          },
          {
           "rinsable_percent": 0.020824809674292833,
           "season": 6153,
           "sprouts": 93960484.94686393,
           "sprouts_rinsable": 1998323.931463,
           "timestamp": "2022-08-09T00:00:00",
           "value": 0.020824809674292833,
           "variable": "rinsable_percent"
          },
          {
           "rinsable_percent": 0.02115940384837339,
           "season": 6177,
           "sprouts": 93956374.16955693,
           "sprouts_rinsable": 2031036.3842679998,
           "timestamp": "2022-08-10T00:00:00",
           "value": 0.02115940384837339,
           "variable": "rinsable_percent"
          },
          {
           "rinsable_percent": 0.02115940384837339,
           "season": 6177,
           "sprouts": 93956374.16955693,
           "sprouts_rinsable": 2031036.3842679998,
           "timestamp": "2022-08-10T00:00:00",
           "value": 93956374.16955693,
           "variable": "sprouts"
          },
          {
           "rinsable_percent": 0.02115940384837339,
           "season": 6177,
           "sprouts": 93956374.16955693,
           "sprouts_rinsable": 2031036.3842679998,
           "timestamp": "2022-08-10T00:00:00",
           "value": 2031036.3842679998,
           "variable": "sprouts_rinsable"
          },
          {
           "rinsable_percent": 0.02119807294505894,
           "season": 6201,
           "sprouts": 93962340.35755493,
           "sprouts_rinsable": 2034957.727332,
           "timestamp": "2022-08-11T00:00:00",
           "value": 2034957.727332,
           "variable": "sprouts_rinsable"
          },
          {
           "rinsable_percent": 0.02119807294505894,
           "season": 6201,
           "sprouts": 93962340.35755493,
           "sprouts_rinsable": 2034957.727332,
           "timestamp": "2022-08-11T00:00:00",
           "value": 93962340.35755493,
           "variable": "sprouts"
          },
          {
           "rinsable_percent": 0.02119807294505894,
           "season": 6201,
           "sprouts": 93962340.35755493,
           "sprouts_rinsable": 2034957.727332,
           "timestamp": "2022-08-11T00:00:00",
           "value": 0.02119807294505894,
           "variable": "rinsable_percent"
          },
          {
           "rinsable_percent": 0.021302345687582783,
           "season": 6225,
           "sprouts": 93963464.31427893,
           "sprouts_rinsable": 2045209.96858,
           "timestamp": "2022-08-12T00:00:00",
           "value": 2045209.96858,
           "variable": "sprouts_rinsable"
          },
          {
           "rinsable_percent": 0.021302345687582783,
           "season": 6225,
           "sprouts": 93963464.31427893,
           "sprouts_rinsable": 2045209.96858,
           "timestamp": "2022-08-12T00:00:00",
           "value": 93963464.31427893,
           "variable": "sprouts"
          },
          {
           "rinsable_percent": 0.021302345687582783,
           "season": 6225,
           "sprouts": 93963464.31427893,
           "sprouts_rinsable": 2045209.96858,
           "timestamp": "2022-08-12T00:00:00",
           "value": 0.021302345687582783,
           "variable": "rinsable_percent"
          },
          {
           "rinsable_percent": 0.021528570584316283,
           "season": 6249,
           "sprouts": 93946960.31493393,
           "sprouts_rinsable": 2067044.2748949996,
           "timestamp": "2022-08-13T00:00:00",
           "value": 2067044.2748949996,
           "variable": "sprouts_rinsable"
          },
          {
           "rinsable_percent": 0.021528570584316283,
           "season": 6249,
           "sprouts": 93946960.31493393,
           "sprouts_rinsable": 2067044.2748949996,
           "timestamp": "2022-08-13T00:00:00",
           "value": 93946960.31493393,
           "variable": "sprouts"
          },
          {
           "rinsable_percent": 0.021528570584316283,
           "season": 6249,
           "sprouts": 93946960.31493393,
           "sprouts_rinsable": 2067044.2748949996,
           "timestamp": "2022-08-13T00:00:00",
           "value": 0.021528570584316283,
           "variable": "rinsable_percent"
          },
          {
           "rinsable_percent": 0.021531406581145204,
           "season": 6273,
           "sprouts": 93946824.77202192,
           "sprouts_rinsable": 2067319.5795749996,
           "timestamp": "2022-08-14T00:00:00",
           "value": 2067319.5795749996,
           "variable": "sprouts_rinsable"
          },
          {
           "rinsable_percent": 0.021531406581145204,
           "season": 6273,
           "sprouts": 93946824.77202192,
           "sprouts_rinsable": 2067319.5795749996,
           "timestamp": "2022-08-14T00:00:00",
           "value": 93946824.77202192,
           "variable": "sprouts"
          },
          {
           "rinsable_percent": 0.021531406581145204,
           "season": 6273,
           "sprouts": 93946824.77202192,
           "sprouts_rinsable": 2067319.5795749996,
           "timestamp": "2022-08-14T00:00:00",
           "value": 0.021531406581145204,
           "variable": "rinsable_percent"
          },
          {
           "rinsable_percent": 0.021568682042757335,
           "season": 6297,
           "sprouts": 93943245.80046992,
           "sprouts_rinsable": 2070898.551126999,
           "timestamp": "2022-08-15T00:00:00",
           "value": 0.021568682042757335,
           "variable": "rinsable_percent"
          },
          {
           "rinsable_percent": 0.021568682042757335,
           "season": 6297,
           "sprouts": 93943245.80046992,
           "sprouts_rinsable": 2070898.551126999,
           "timestamp": "2022-08-15T00:00:00",
           "value": 2070898.551126999,
           "variable": "sprouts_rinsable"
          },
          {
           "rinsable_percent": 0.021568682042757335,
           "season": 6297,
           "sprouts": 93943245.80046992,
           "sprouts_rinsable": 2070898.551126999,
           "timestamp": "2022-08-15T00:00:00",
           "value": 93943245.80046992,
           "variable": "sprouts"
          },
          {
           "rinsable_percent": 0.021623096552798343,
           "season": 6321,
           "sprouts": 93941432.40398592,
           "sprouts_rinsable": 2076198.5038919987,
           "timestamp": "2022-08-16T00:00:00",
           "value": 2076198.5038919987,
           "variable": "sprouts_rinsable"
          },
          {
           "rinsable_percent": 0.021623096552798343,
           "season": 6321,
           "sprouts": 93941432.40398592,
           "sprouts_rinsable": 2076198.5038919987,
           "timestamp": "2022-08-16T00:00:00",
           "value": 93941432.40398592,
           "variable": "sprouts"
          },
          {
           "rinsable_percent": 0.021623096552798343,
           "season": 6321,
           "sprouts": 93941432.40398592,
           "sprouts_rinsable": 2076198.5038919987,
           "timestamp": "2022-08-16T00:00:00",
           "value": 0.021623096552798343,
           "variable": "rinsable_percent"
          },
          {
           "rinsable_percent": 0.021643697891941312,
           "season": 6345,
           "sprouts": 93948056.96076792,
           "sprouts_rinsable": 2078366.9078559985,
           "timestamp": "2022-08-17T00:00:00",
           "value": 2078366.9078559985,
           "variable": "sprouts_rinsable"
          },
          {
           "rinsable_percent": 0.021643697891941312,
           "season": 6345,
           "sprouts": 93948056.96076792,
           "sprouts_rinsable": 2078366.9078559985,
           "timestamp": "2022-08-17T00:00:00",
           "value": 93948056.96076792,
           "variable": "sprouts"
          },
          {
           "rinsable_percent": 0.021643697891941312,
           "season": 6345,
           "sprouts": 93948056.96076792,
           "sprouts_rinsable": 2078366.9078559985,
           "timestamp": "2022-08-17T00:00:00",
           "value": 0.021643697891941312,
           "variable": "rinsable_percent"
          },
          {
           "rinsable_percent": 0.021654452263690206,
           "season": 6369,
           "sprouts": 93947024.25690793,
           "sprouts_rinsable": 2079399.6117159987,
           "timestamp": "2022-08-18T00:00:00",
           "value": 2079399.6117159987,
           "variable": "sprouts_rinsable"
          },
          {
           "rinsable_percent": 0.021654452263690206,
           "season": 6369,
           "sprouts": 93947024.25690793,
           "sprouts_rinsable": 2079399.6117159987,
           "timestamp": "2022-08-18T00:00:00",
           "value": 93947024.25690793,
           "variable": "sprouts"
          },
          {
           "rinsable_percent": 0.021654452263690206,
           "season": 6369,
           "sprouts": 93947024.25690793,
           "sprouts_rinsable": 2079399.6117159987,
           "timestamp": "2022-08-18T00:00:00",
           "value": 0.021654452263690206,
           "variable": "rinsable_percent"
          },
          {
           "rinsable_percent": 0.021669112853953013,
           "season": 6393,
           "sprouts": 93947332.44023193,
           "sprouts_rinsable": 2080845.423283999,
           "timestamp": "2022-08-19T00:00:00",
           "value": 0.021669112853953013,
           "variable": "rinsable_percent"
          },
          {
           "rinsable_percent": 0.021669112853953013,
           "season": 6393,
           "sprouts": 93947332.44023193,
           "sprouts_rinsable": 2080845.423283999,
           "timestamp": "2022-08-19T00:00:00",
           "value": 93947332.44023193,
           "variable": "sprouts"
          },
          {
           "rinsable_percent": 0.021669112853953013,
           "season": 6393,
           "sprouts": 93947332.44023193,
           "sprouts_rinsable": 2080845.423283999,
           "timestamp": "2022-08-19T00:00:00",
           "value": 2080845.423283999,
           "variable": "sprouts_rinsable"
          },
          {
           "rinsable_percent": 0.021690443014230676,
           "season": 6417,
           "sprouts": 93945284.14380693,
           "sprouts_rinsable": 2082893.7197089999,
           "timestamp": "2022-08-20T00:00:00",
           "value": 2082893.7197089999,
           "variable": "sprouts_rinsable"
          },
          {
           "rinsable_percent": 0.021690443014230676,
           "season": 6417,
           "sprouts": 93945284.14380693,
           "sprouts_rinsable": 2082893.7197089999,
           "timestamp": "2022-08-20T00:00:00",
           "value": 93945284.14380693,
           "variable": "sprouts"
          },
          {
           "rinsable_percent": 0.021690443014230676,
           "season": 6417,
           "sprouts": 93945284.14380693,
           "sprouts_rinsable": 2082893.7197089999,
           "timestamp": "2022-08-20T00:00:00",
           "value": 0.021690443014230676,
           "variable": "rinsable_percent"
          },
          {
           "rinsable_percent": 0.021717150525838835,
           "season": 6441,
           "sprouts": 93942719.47013193,
           "sprouts_rinsable": 2085458.393384,
           "timestamp": "2022-08-21T00:00:00",
           "value": 2085458.393384,
           "variable": "sprouts_rinsable"
          },
          {
           "rinsable_percent": 0.021717150525838835,
           "season": 6441,
           "sprouts": 93942719.47013193,
           "sprouts_rinsable": 2085458.393384,
           "timestamp": "2022-08-21T00:00:00",
           "value": 93942719.47013193,
           "variable": "sprouts"
          },
          {
           "rinsable_percent": 0.021717150525838835,
           "season": 6441,
           "sprouts": 93942719.47013193,
           "sprouts_rinsable": 2085458.393384,
           "timestamp": "2022-08-21T00:00:00",
           "value": 0.021717150525838835,
           "variable": "rinsable_percent"
          },
          {
           "rinsable_percent": 0.02173722597080605,
           "season": 6465,
           "sprouts": 93940791.66173193,
           "sprouts_rinsable": 2087386.201784001,
           "timestamp": "2022-08-22T00:00:00",
           "value": 2087386.201784001,
           "variable": "sprouts_rinsable"
          },
          {
           "rinsable_percent": 0.02173722597080605,
           "season": 6465,
           "sprouts": 93940791.66173193,
           "sprouts_rinsable": 2087386.201784001,
           "timestamp": "2022-08-22T00:00:00",
           "value": 93940791.66173193,
           "variable": "sprouts"
          },
          {
           "rinsable_percent": 0.02173722597080605,
           "season": 6465,
           "sprouts": 93940791.66173193,
           "sprouts_rinsable": 2087386.201784001,
           "timestamp": "2022-08-22T00:00:00",
           "value": 0.02173722597080605,
           "variable": "rinsable_percent"
          },
          {
           "rinsable_percent": 0.021749679377839483,
           "season": 6489,
           "sprouts": 93940001.11748193,
           "sprouts_rinsable": 2088591.091654001,
           "timestamp": "2022-08-23T00:00:00",
           "value": 93940001.11748193,
           "variable": "sprouts"
          },
          {
           "rinsable_percent": 0.021749679377839483,
           "season": 6489,
           "sprouts": 93940001.11748193,
           "sprouts_rinsable": 2088591.091654001,
           "timestamp": "2022-08-23T00:00:00",
           "value": 0.021749679377839483,
           "variable": "rinsable_percent"
          },
          {
           "rinsable_percent": 0.021749679377839483,
           "season": 6489,
           "sprouts": 93940001.11748193,
           "sprouts_rinsable": 2088591.091654001,
           "timestamp": "2022-08-23T00:00:00",
           "value": 2088591.091654001,
           "variable": "sprouts_rinsable"
          },
          {
           "rinsable_percent": 0.021779610115997744,
           "season": 6513,
           "sprouts": 93937142.10926692,
           "sprouts_rinsable": 2091465.636689001,
           "timestamp": "2022-08-24T00:00:00",
           "value": 0.021779610115997744,
           "variable": "rinsable_percent"
          },
          {
           "rinsable_percent": 0.021779610115997744,
           "season": 6513,
           "sprouts": 93937142.10926692,
           "sprouts_rinsable": 2091465.636689001,
           "timestamp": "2022-08-24T00:00:00",
           "value": 2091465.636689001,
           "variable": "sprouts_rinsable"
          },
          {
           "rinsable_percent": 0.021779610115997744,
           "season": 6513,
           "sprouts": 93937142.10926692,
           "sprouts_rinsable": 2091465.636689001,
           "timestamp": "2022-08-24T00:00:00",
           "value": 93937142.10926692,
           "variable": "sprouts"
          },
          {
           "rinsable_percent": 0.021809169847105327,
           "season": 6537,
           "sprouts": 93934372.92494193,
           "sprouts_rinsable": 2094305.7637140006,
           "timestamp": "2022-08-25T00:00:00",
           "value": 2094305.7637140006,
           "variable": "sprouts_rinsable"
          },
          {
           "rinsable_percent": 0.021809169847105327,
           "season": 6537,
           "sprouts": 93934372.92494193,
           "sprouts_rinsable": 2094305.7637140006,
           "timestamp": "2022-08-25T00:00:00",
           "value": 93934372.92494193,
           "variable": "sprouts"
          },
          {
           "rinsable_percent": 0.021809169847105327,
           "season": 6537,
           "sprouts": 93934372.92494193,
           "sprouts_rinsable": 2094305.7637140006,
           "timestamp": "2022-08-25T00:00:00",
           "value": 0.021809169847105327,
           "variable": "rinsable_percent"
          },
          {
           "rinsable_percent": 0.021835160726174804,
           "season": 6561,
           "sprouts": 93931877.05516693,
           "sprouts_rinsable": 2096801.6334889992,
           "timestamp": "2022-08-26T00:00:00",
           "value": 2096801.6334889992,
           "variable": "sprouts_rinsable"
          },
          {
           "rinsable_percent": 0.021835160726174804,
           "season": 6561,
           "sprouts": 93931877.05516693,
           "sprouts_rinsable": 2096801.6334889992,
           "timestamp": "2022-08-26T00:00:00",
           "value": 93931877.05516693,
           "variable": "sprouts"
          },
          {
           "rinsable_percent": 0.021835160726174804,
           "season": 6561,
           "sprouts": 93931877.05516693,
           "sprouts_rinsable": 2096801.6334889992,
           "timestamp": "2022-08-26T00:00:00",
           "value": 0.021835160726174804,
           "variable": "rinsable_percent"
          },
          {
           "rinsable_percent": 0.021850217511290904,
           "season": 6585,
           "sprouts": 93930431.17198694,
           "sprouts_rinsable": 2098247.5166689972,
           "timestamp": "2022-08-27T00:00:00",
           "value": 2098247.5166689972,
           "variable": "sprouts_rinsable"
          },
          {
           "rinsable_percent": 0.021850217511290904,
           "season": 6585,
           "sprouts": 93930431.17198694,
           "sprouts_rinsable": 2098247.5166689972,
           "timestamp": "2022-08-27T00:00:00",
           "value": 93930431.17198694,
           "variable": "sprouts"
          },
          {
           "rinsable_percent": 0.021850217511290904,
           "season": 6585,
           "sprouts": 93930431.17198694,
           "sprouts_rinsable": 2098247.5166689972,
           "timestamp": "2022-08-27T00:00:00",
           "value": 0.021850217511290904,
           "variable": "rinsable_percent"
          },
          {
           "rinsable_percent": 0.02185864214105825,
           "season": 6609,
           "sprouts": 93929622.16592193,
           "sprouts_rinsable": 2099056.5227339966,
           "timestamp": "2022-08-28T00:00:00",
           "value": 93929622.16592193,
           "variable": "sprouts"
          },
          {
           "rinsable_percent": 0.02185864214105825,
           "season": 6609,
           "sprouts": 93929622.16592193,
           "sprouts_rinsable": 2099056.5227339966,
           "timestamp": "2022-08-28T00:00:00",
           "value": 0.02185864214105825,
           "variable": "rinsable_percent"
          },
          {
           "rinsable_percent": 0.02185864214105825,
           "season": 6609,
           "sprouts": 93929622.16592193,
           "sprouts_rinsable": 2099056.5227339966,
           "timestamp": "2022-08-28T00:00:00",
           "value": 2099056.5227339966,
           "variable": "sprouts_rinsable"
          },
          {
           "rinsable_percent": 0.02186379141947415,
           "season": 6633,
           "sprouts": 93929337.81346193,
           "sprouts_rinsable": 2099555.6979769953,
           "timestamp": "2022-08-29T00:00:00",
           "value": 2099555.6979769953,
           "variable": "sprouts_rinsable"
          },
          {
           "rinsable_percent": 0.02186379141947415,
           "season": 6633,
           "sprouts": 93929337.81346193,
           "sprouts_rinsable": 2099555.6979769953,
           "timestamp": "2022-08-29T00:00:00",
           "value": 93929337.81346193,
           "variable": "sprouts"
          },
          {
           "rinsable_percent": 0.02186379141947415,
           "season": 6633,
           "sprouts": 93929337.81346193,
           "sprouts_rinsable": 2099555.6979769953,
           "timestamp": "2022-08-29T00:00:00",
           "value": 0.02186379141947415,
           "variable": "rinsable_percent"
          },
          {
           "rinsable_percent": 0.021874187845086226,
           "season": 6657,
           "sprouts": 93928339.45621392,
           "sprouts_rinsable": 2100554.055224997,
           "timestamp": "2022-08-30T00:00:00",
           "value": 2100554.055224997,
           "variable": "sprouts_rinsable"
          },
          {
           "rinsable_percent": 0.021874187845086226,
           "season": 6657,
           "sprouts": 93928339.45621392,
           "sprouts_rinsable": 2100554.055224997,
           "timestamp": "2022-08-30T00:00:00",
           "value": 93928339.45621392,
           "variable": "sprouts"
          },
          {
           "rinsable_percent": 0.021874187845086226,
           "season": 6657,
           "sprouts": 93928339.45621392,
           "sprouts_rinsable": 2100554.055224997,
           "timestamp": "2022-08-30T00:00:00",
           "value": 0.021874187845086226,
           "variable": "rinsable_percent"
          },
          {
           "rinsable_percent": 0.02188189553993654,
           "season": 6681,
           "sprouts": 93927599.29480593,
           "sprouts_rinsable": 2101294.216632996,
           "timestamp": "2022-08-31T00:00:00",
           "value": 2101294.216632996,
           "variable": "sprouts_rinsable"
          },
          {
           "rinsable_percent": 0.02188189553993654,
           "season": 6681,
           "sprouts": 93927599.29480593,
           "sprouts_rinsable": 2101294.216632996,
           "timestamp": "2022-08-31T00:00:00",
           "value": 93927599.29480593,
           "variable": "sprouts"
          },
          {
           "rinsable_percent": 0.02188189553993654,
           "season": 6681,
           "sprouts": 93927599.29480593,
           "sprouts_rinsable": 2101294.216632996,
           "timestamp": "2022-08-31T00:00:00",
           "value": 0.02188189553993654,
           "variable": "rinsable_percent"
          },
          {
           "rinsable_percent": 0.021896056188615037,
           "season": 6705,
           "sprouts": 93926239.46338193,
           "sprouts_rinsable": 2102654.0480569964,
           "timestamp": "2022-09-01T00:00:00",
           "value": 2102654.0480569964,
           "variable": "sprouts_rinsable"
          },
          {
           "rinsable_percent": 0.021896056188615037,
           "season": 6705,
           "sprouts": 93926239.46338193,
           "sprouts_rinsable": 2102654.0480569964,
           "timestamp": "2022-09-01T00:00:00",
           "value": 93926239.46338193,
           "variable": "sprouts"
          },
          {
           "rinsable_percent": 0.021896056188615037,
           "season": 6705,
           "sprouts": 93926239.46338193,
           "sprouts_rinsable": 2102654.0480569964,
           "timestamp": "2022-09-01T00:00:00",
           "value": 0.021896056188615037,
           "variable": "rinsable_percent"
          },
          {
           "rinsable_percent": 0.021912188573185484,
           "season": 6729,
           "sprouts": 93924690.28834192,
           "sprouts_rinsable": 2104203.2230969975,
           "timestamp": "2022-09-02T00:00:00",
           "value": 0.021912188573185484,
           "variable": "rinsable_percent"
          },
          {
           "rinsable_percent": 0.021912188573185484,
           "season": 6729,
           "sprouts": 93924690.28834192,
           "sprouts_rinsable": 2104203.2230969975,
           "timestamp": "2022-09-02T00:00:00",
           "value": 93924690.28834192,
           "variable": "sprouts"
          },
          {
           "rinsable_percent": 0.021912188573185484,
           "season": 6729,
           "sprouts": 93924690.28834192,
           "sprouts_rinsable": 2104203.2230969975,
           "timestamp": "2022-09-02T00:00:00",
           "value": 2104203.2230969975,
           "variable": "sprouts_rinsable"
          },
          {
           "rinsable_percent": 0.021922764247515,
           "season": 6753,
           "sprouts": 93923674.71803792,
           "sprouts_rinsable": 2105218.793400998,
           "timestamp": "2022-09-03T00:00:00",
           "value": 2105218.793400998,
           "variable": "sprouts_rinsable"
          },
          {
           "rinsable_percent": 0.021922764247515,
           "season": 6753,
           "sprouts": 93923674.71803792,
           "sprouts_rinsable": 2105218.793400998,
           "timestamp": "2022-09-03T00:00:00",
           "value": 93923674.71803792,
           "variable": "sprouts"
          },
          {
           "rinsable_percent": 0.021922764247515,
           "season": 6753,
           "sprouts": 93923674.71803792,
           "sprouts_rinsable": 2105218.793400998,
           "timestamp": "2022-09-03T00:00:00",
           "value": 0.021922764247515,
           "variable": "rinsable_percent"
          },
          {
           "rinsable_percent": 0.021931905932104926,
           "season": 6777,
           "sprouts": 93922796.85218193,
           "sprouts_rinsable": 2106096.6592569994,
           "timestamp": "2022-09-04T00:00:00",
           "value": 2106096.6592569994,
           "variable": "sprouts_rinsable"
          },
          {
           "rinsable_percent": 0.021931905932104926,
           "season": 6777,
           "sprouts": 93922796.85218193,
           "sprouts_rinsable": 2106096.6592569994,
           "timestamp": "2022-09-04T00:00:00",
           "value": 93922796.85218193,
           "variable": "sprouts"
          },
          {
           "rinsable_percent": 0.021931905932104926,
           "season": 6777,
           "sprouts": 93922796.85218193,
           "sprouts_rinsable": 2106096.6592569994,
           "timestamp": "2022-09-04T00:00:00",
           "value": 0.021931905932104926,
           "variable": "rinsable_percent"
          },
          {
           "rinsable_percent": 0.02194266085515189,
           "season": 6801,
           "sprouts": 93921764.06882192,
           "sprouts_rinsable": 2107129.442617,
           "timestamp": "2022-09-05T00:00:00",
           "value": 0.02194266085515189,
           "variable": "rinsable_percent"
          },
          {
           "rinsable_percent": 0.02194266085515189,
           "season": 6801,
           "sprouts": 93921764.06882192,
           "sprouts_rinsable": 2107129.442617,
           "timestamp": "2022-09-05T00:00:00",
           "value": 2107129.442617,
           "variable": "sprouts_rinsable"
          },
          {
           "rinsable_percent": 0.02194266085515189,
           "season": 6801,
           "sprouts": 93921764.06882192,
           "sprouts_rinsable": 2107129.442617,
           "timestamp": "2022-09-05T00:00:00",
           "value": 93921764.06882192,
           "variable": "sprouts"
          },
          {
           "rinsable_percent": 0.021946245829500863,
           "season": 6825,
           "sprouts": 93921419.80770192,
           "sprouts_rinsable": 2107473.703736999,
           "timestamp": "2022-09-06T00:00:00",
           "value": 0.021946245829500863,
           "variable": "rinsable_percent"
          },
          {
           "rinsable_percent": 0.021946245829500863,
           "season": 6825,
           "sprouts": 93921419.80770192,
           "sprouts_rinsable": 2107473.703736999,
           "timestamp": "2022-09-06T00:00:00",
           "value": 93921419.80770192,
           "variable": "sprouts"
          },
          {
           "rinsable_percent": 0.021946245829500863,
           "season": 6825,
           "sprouts": 93921419.80770192,
           "sprouts_rinsable": 2107473.703736999,
           "timestamp": "2022-09-06T00:00:00",
           "value": 2107473.703736999,
           "variable": "sprouts_rinsable"
          },
          {
           "rinsable_percent": 0.021948217565392805,
           "season": 6849,
           "sprouts": 93921230.46408592,
           "sprouts_rinsable": 2107663.047352999,
           "timestamp": "2022-09-07T00:00:00",
           "value": 2107663.047352999,
           "variable": "sprouts_rinsable"
          },
          {
           "rinsable_percent": 0.021948217565392805,
           "season": 6849,
           "sprouts": 93921230.46408592,
           "sprouts_rinsable": 2107663.047352999,
           "timestamp": "2022-09-07T00:00:00",
           "value": 93921230.46408592,
           "variable": "sprouts"
          },
          {
           "rinsable_percent": 0.021948217565392805,
           "season": 6849,
           "sprouts": 93921230.46408592,
           "sprouts_rinsable": 2107663.047352999,
           "timestamp": "2022-09-07T00:00:00",
           "value": 0.021948217565392805,
           "variable": "rinsable_percent"
          },
          {
           "rinsable_percent": 0.02195771774741762,
           "season": 6873,
           "sprouts": 93920318.17211792,
           "sprouts_rinsable": 2108575.339320999,
           "timestamp": "2022-09-08T00:00:00",
           "value": 0.02195771774741762,
           "variable": "rinsable_percent"
          },
          {
           "rinsable_percent": 0.02195771774741762,
           "season": 6873,
           "sprouts": 93920318.17211792,
           "sprouts_rinsable": 2108575.339320999,
           "timestamp": "2022-09-08T00:00:00",
           "value": 2108575.339320999,
           "variable": "sprouts_rinsable"
          },
          {
           "rinsable_percent": 0.02195771774741762,
           "season": 6873,
           "sprouts": 93920318.17211792,
           "sprouts_rinsable": 2108575.339320999,
           "timestamp": "2022-09-08T00:00:00",
           "value": 93920318.17211792,
           "variable": "sprouts"
          },
          {
           "rinsable_percent": 0.021960047980744465,
           "season": 6897,
           "sprouts": 93920094.40238993,
           "sprouts_rinsable": 2108799.1090489994,
           "timestamp": "2022-09-09T00:00:00",
           "value": 93920094.40238993,
           "variable": "sprouts"
          },
          {
           "rinsable_percent": 0.021960047980744465,
           "season": 6897,
           "sprouts": 93920094.40238993,
           "sprouts_rinsable": 2108799.1090489994,
           "timestamp": "2022-09-09T00:00:00",
           "value": 0.021960047980744465,
           "variable": "rinsable_percent"
          },
          {
           "rinsable_percent": 0.021960047980744465,
           "season": 6897,
           "sprouts": 93920094.40238993,
           "sprouts_rinsable": 2108799.1090489994,
           "timestamp": "2022-09-09T00:00:00",
           "value": 2108799.1090489994,
           "variable": "sprouts_rinsable"
          },
          {
           "rinsable_percent": 0.021962378214071297,
           "season": 6921,
           "sprouts": 93919870.63266192,
           "sprouts_rinsable": 2109022.8787769987,
           "timestamp": "2022-09-10T00:00:00",
           "value": 93919870.63266192,
           "variable": "sprouts"
          },
          {
           "rinsable_percent": 0.021962378214071297,
           "season": 6921,
           "sprouts": 93919870.63266192,
           "sprouts_rinsable": 2109022.8787769987,
           "timestamp": "2022-09-10T00:00:00",
           "value": 0.021962378214071297,
           "variable": "rinsable_percent"
          },
          {
           "rinsable_percent": 0.021962378214071297,
           "season": 6921,
           "sprouts": 93919870.63266192,
           "sprouts_rinsable": 2109022.8787769987,
           "timestamp": "2022-09-10T00:00:00",
           "value": 2109022.8787769987,
           "variable": "sprouts_rinsable"
          },
          {
           "rinsable_percent": 0.02196345370637599,
           "season": 6945,
           "sprouts": 93919767.35432592,
           "sprouts_rinsable": 2109126.1571129984,
           "timestamp": "2022-09-11T00:00:00",
           "value": 93919767.35432592,
           "variable": "sprouts"
          },
          {
           "rinsable_percent": 0.02196345370637599,
           "season": 6945,
           "sprouts": 93919767.35432592,
           "sprouts_rinsable": 2109126.1571129984,
           "timestamp": "2022-09-11T00:00:00",
           "value": 0.02196345370637599,
           "variable": "rinsable_percent"
          },
          {
           "rinsable_percent": 0.02196345370637599,
           "season": 6945,
           "sprouts": 93919767.35432592,
           "sprouts_rinsable": 2109126.1571129984,
           "timestamp": "2022-09-11T00:00:00",
           "value": 2109126.1571129984,
           "variable": "sprouts_rinsable"
          },
          {
           "rinsable_percent": 0.021964529198680683,
           "season": 6969,
           "sprouts": 93919664.07598992,
           "sprouts_rinsable": 2109229.435448998,
           "timestamp": "2022-09-12T00:00:00",
           "value": 2109229.435448998,
           "variable": "sprouts_rinsable"
          },
          {
           "rinsable_percent": 0.021964529198680683,
           "season": 6969,
           "sprouts": 93919664.07598992,
           "sprouts_rinsable": 2109229.435448998,
           "timestamp": "2022-09-12T00:00:00",
           "value": 93919664.07598992,
           "variable": "sprouts"
          },
          {
           "rinsable_percent": 0.021964529198680683,
           "season": 6969,
           "sprouts": 93919664.07598992,
           "sprouts_rinsable": 2109229.435448998,
           "timestamp": "2022-09-12T00:00:00",
           "value": 0.021964529198680683,
           "variable": "rinsable_percent"
          },
          {
           "rinsable_percent": 0.02196488769611558,
           "season": 6993,
           "sprouts": 93919629.64987792,
           "sprouts_rinsable": 2109263.861560998,
           "timestamp": "2022-09-13T00:00:00",
           "value": 2109263.861560998,
           "variable": "sprouts_rinsable"
          },
          {
           "rinsable_percent": 0.02196488769611558,
           "season": 6993,
           "sprouts": 93919629.64987792,
           "sprouts_rinsable": 2109263.861560998,
           "timestamp": "2022-09-13T00:00:00",
           "value": 93919629.64987792,
           "variable": "sprouts"
          },
          {
           "rinsable_percent": 0.02196488769611558,
           "season": 6993,
           "sprouts": 93919629.64987792,
           "sprouts_rinsable": 2109263.861560998,
           "timestamp": "2022-09-13T00:00:00",
           "value": 0.02196488769611558,
           "variable": "rinsable_percent"
          },
          {
           "rinsable_percent": 0.02196861285165776,
           "season": 7017,
           "sprouts": 93919439.03829393,
           "sprouts_rinsable": 2109625.3377849977,
           "timestamp": "2022-09-14T00:00:00",
           "value": 2109625.3377849977,
           "variable": "sprouts_rinsable"
          },
          {
           "rinsable_percent": 0.02196861285165776,
           "season": 7017,
           "sprouts": 93919439.03829393,
           "sprouts_rinsable": 2109625.3377849977,
           "timestamp": "2022-09-14T00:00:00",
           "value": 93919439.03829393,
           "variable": "sprouts"
          },
          {
           "rinsable_percent": 0.02196861285165776,
           "season": 7017,
           "sprouts": 93919439.03829393,
           "sprouts_rinsable": 2109625.3377849977,
           "timestamp": "2022-09-14T00:00:00",
           "value": 0.02196861285165776,
           "variable": "rinsable_percent"
          },
          {
           "rinsable_percent": 0.02196935640219164,
           "season": 7041,
           "sprouts": 93920020.42287391,
           "sprouts_rinsable": 2109711.4037049976,
           "timestamp": "2022-09-15T00:00:00",
           "value": 93920020.42287391,
           "variable": "sprouts"
          },
          {
           "rinsable_percent": 0.02196935640219164,
           "season": 7041,
           "sprouts": 93920020.42287391,
           "sprouts_rinsable": 2109711.4037049976,
           "timestamp": "2022-09-15T00:00:00",
           "value": 0.02196935640219164,
           "variable": "rinsable_percent"
          },
          {
           "rinsable_percent": 0.02196935640219164,
           "season": 7041,
           "sprouts": 93920020.42287391,
           "sprouts_rinsable": 2109711.4037049976,
           "timestamp": "2022-09-15T00:00:00",
           "value": 2109711.4037049976,
           "variable": "sprouts_rinsable"
          },
          {
           "rinsable_percent": 0.021970969685422295,
           "season": 7065,
           "sprouts": 93919865.49971792,
           "sprouts_rinsable": 2109866.326860998,
           "timestamp": "2022-09-16T00:00:00",
           "value": 2109866.326860998,
           "variable": "sprouts_rinsable"
          },
          {
           "rinsable_percent": 0.021970969685422295,
           "season": 7065,
           "sprouts": 93919865.49971792,
           "sprouts_rinsable": 2109866.326860998,
           "timestamp": "2022-09-16T00:00:00",
           "value": 93919865.49971792,
           "variable": "sprouts"
          },
          {
           "rinsable_percent": 0.021970969685422295,
           "season": 7065,
           "sprouts": 93919865.49971792,
           "sprouts_rinsable": 2109866.326860998,
           "timestamp": "2022-09-16T00:00:00",
           "value": 0.021970969685422295,
           "variable": "rinsable_percent"
          },
          {
           "rinsable_percent": 0.021970969685422295,
           "season": 7089,
           "sprouts": 93919865.49971792,
           "sprouts_rinsable": 2109866.326860998,
           "timestamp": "2022-09-17T00:00:00",
           "value": 2109866.326860998,
           "variable": "sprouts_rinsable"
          },
          {
           "rinsable_percent": 0.021970969685422295,
           "season": 7089,
           "sprouts": 93919865.49971792,
           "sprouts_rinsable": 2109866.326860998,
           "timestamp": "2022-09-17T00:00:00",
           "value": 93919865.49971792,
           "variable": "sprouts"
          },
          {
           "rinsable_percent": 0.021970969685422295,
           "season": 7089,
           "sprouts": 93919865.49971792,
           "sprouts_rinsable": 2109866.326860998,
           "timestamp": "2022-09-17T00:00:00",
           "value": 0.021970969685422295,
           "variable": "rinsable_percent"
          },
          {
           "rinsable_percent": 0.021973299983422137,
           "season": 7113,
           "sprouts": 93919641.72182591,
           "sprouts_rinsable": 2110090.104752999,
           "timestamp": "2022-09-18T00:00:00",
           "value": 2110090.104752999,
           "variable": "sprouts_rinsable"
          },
          {
           "rinsable_percent": 0.021973299983422137,
           "season": 7113,
           "sprouts": 93919641.72182591,
           "sprouts_rinsable": 2110090.104752999,
           "timestamp": "2022-09-18T00:00:00",
           "value": 93919641.72182591,
           "variable": "sprouts"
          },
          {
           "rinsable_percent": 0.021973299983422137,
           "season": 7113,
           "sprouts": 93919641.72182591,
           "sprouts_rinsable": 2110090.104752999,
           "timestamp": "2022-09-18T00:00:00",
           "value": 0.021973299983422137,
           "variable": "rinsable_percent"
          },
          {
           "rinsable_percent": 0.02197365849080673,
           "season": 7137,
           "sprouts": 93919607.29445791,
           "sprouts_rinsable": 2110124.532120999,
           "timestamp": "2022-09-19T00:00:00",
           "value": 0.02197365849080673,
           "variable": "rinsable_percent"
          },
          {
           "rinsable_percent": 0.02197365849080673,
           "season": 7137,
           "sprouts": 93919607.29445791,
           "sprouts_rinsable": 2110124.532120999,
           "timestamp": "2022-09-19T00:00:00",
           "value": 2110124.532120999,
           "variable": "sprouts_rinsable"
          },
          {
           "rinsable_percent": 0.02197365849080673,
           "season": 7137,
           "sprouts": 93919607.29445791,
           "sprouts_rinsable": 2110124.532120999,
           "timestamp": "2022-09-19T00:00:00",
           "value": 93919607.29445791,
           "variable": "sprouts"
          },
          {
           "rinsable_percent": 0.02197337105725366,
           "season": 7161,
           "sprouts": 93920863.45888291,
           "sprouts_rinsable": 2110124.532120999,
           "timestamp": "2022-09-20T00:00:00",
           "value": 93920863.45888291,
           "variable": "sprouts"
          },
          {
           "rinsable_percent": 0.02197337105725366,
           "season": 7161,
           "sprouts": 93920863.45888291,
           "sprouts_rinsable": 2110124.532120999,
           "timestamp": "2022-09-20T00:00:00",
           "value": 0.02197337105725366,
           "variable": "rinsable_percent"
          },
          {
           "rinsable_percent": 0.02197337105725366,
           "season": 7161,
           "sprouts": 93920863.45888291,
           "sprouts_rinsable": 2110124.532120999,
           "timestamp": "2022-09-20T00:00:00",
           "value": 2110124.532120999,
           "variable": "sprouts_rinsable"
          },
          {
           "rinsable_percent": 0.02197337105725366,
           "season": 7185,
           "sprouts": 93920863.45888291,
           "sprouts_rinsable": 2110124.532120999,
           "timestamp": "2022-09-21T00:00:00",
           "value": 2110124.532120999,
           "variable": "sprouts_rinsable"
          },
          {
           "rinsable_percent": 0.02197337105725366,
           "season": 7185,
           "sprouts": 93920863.45888291,
           "sprouts_rinsable": 2110124.532120999,
           "timestamp": "2022-09-21T00:00:00",
           "value": 93920863.45888291,
           "variable": "sprouts"
          },
          {
           "rinsable_percent": 0.02197337105725366,
           "season": 7185,
           "sprouts": 93920863.45888291,
           "sprouts_rinsable": 2110124.532120999,
           "timestamp": "2022-09-21T00:00:00",
           "value": 0.02197337105725366,
           "variable": "rinsable_percent"
          },
          {
           "rinsable_percent": 0.02197337105725366,
           "season": 7209,
           "sprouts": 93920863.45888291,
           "sprouts_rinsable": 2110124.532120999,
           "timestamp": "2022-09-22T00:00:00",
           "value": 2110124.532120999,
           "variable": "sprouts_rinsable"
          },
          {
           "rinsable_percent": 0.02197337105725366,
           "season": 7209,
           "sprouts": 93920863.45888291,
           "sprouts_rinsable": 2110124.532120999,
           "timestamp": "2022-09-22T00:00:00",
           "value": 93920863.45888291,
           "variable": "sprouts"
          },
          {
           "rinsable_percent": 0.02197337105725366,
           "season": 7209,
           "sprouts": 93920863.45888291,
           "sprouts_rinsable": 2110124.532120999,
           "timestamp": "2022-09-22T00:00:00",
           "value": 0.02197337105725366,
           "variable": "rinsable_percent"
          },
          {
           "rinsable_percent": 0.02197337105725366,
           "season": 7233,
           "sprouts": 93920863.45888291,
           "sprouts_rinsable": 2110124.532120999,
           "timestamp": "2022-09-23T00:00:00",
           "value": 2110124.532120999,
           "variable": "sprouts_rinsable"
          },
          {
           "rinsable_percent": 0.02197337105725366,
           "season": 7233,
           "sprouts": 93920863.45888291,
           "sprouts_rinsable": 2110124.532120999,
           "timestamp": "2022-09-23T00:00:00",
           "value": 93920863.45888291,
           "variable": "sprouts"
          },
          {
           "rinsable_percent": 0.02197337105725366,
           "season": 7233,
           "sprouts": 93920863.45888291,
           "sprouts_rinsable": 2110124.532120999,
           "timestamp": "2022-09-23T00:00:00",
           "value": 0.02197337105725366,
           "variable": "rinsable_percent"
          },
          {
           "rinsable_percent": 0.02197337105725366,
           "season": 7257,
           "sprouts": 93920863.45888291,
           "sprouts_rinsable": 2110124.532120999,
           "timestamp": "2022-09-24T00:00:00",
           "value": 0.02197337105725366,
           "variable": "rinsable_percent"
          },
          {
           "rinsable_percent": 0.02197337105725366,
           "season": 7257,
           "sprouts": 93920863.45888291,
           "sprouts_rinsable": 2110124.532120999,
           "timestamp": "2022-09-24T00:00:00",
           "value": 2110124.532120999,
           "variable": "sprouts_rinsable"
          },
          {
           "rinsable_percent": 0.02197337105725366,
           "season": 7257,
           "sprouts": 93920863.45888291,
           "sprouts_rinsable": 2110124.532120999,
           "timestamp": "2022-09-24T00:00:00",
           "value": 93920863.45888291,
           "variable": "sprouts"
          },
          {
           "rinsable_percent": 0.02197337105725366,
           "season": 7281,
           "sprouts": 93920863.45888291,
           "sprouts_rinsable": 2110124.532120999,
           "timestamp": "2022-09-25T00:00:00",
           "value": 0.02197337105725366,
           "variable": "rinsable_percent"
          },
          {
           "rinsable_percent": 0.02197337105725366,
           "season": 7281,
           "sprouts": 93920863.45888291,
           "sprouts_rinsable": 2110124.532120999,
           "timestamp": "2022-09-25T00:00:00",
           "value": 93920863.45888291,
           "variable": "sprouts"
          },
          {
           "rinsable_percent": 0.02197337105725366,
           "season": 7281,
           "sprouts": 93920863.45888291,
           "sprouts_rinsable": 2110124.532120999,
           "timestamp": "2022-09-25T00:00:00",
           "value": 2110124.532120999,
           "variable": "sprouts_rinsable"
          },
          {
           "rinsable_percent": 0.02197337105725366,
           "season": 7305,
           "sprouts": 93920863.45888291,
           "sprouts_rinsable": 2110124.532120999,
           "timestamp": "2022-09-26T00:00:00",
           "value": 2110124.532120999,
           "variable": "sprouts_rinsable"
          },
          {
           "rinsable_percent": 0.02197337105725366,
           "season": 7305,
           "sprouts": 93920863.45888291,
           "sprouts_rinsable": 2110124.532120999,
           "timestamp": "2022-09-26T00:00:00",
           "value": 93920863.45888291,
           "variable": "sprouts"
          },
          {
           "rinsable_percent": 0.02197337105725366,
           "season": 7305,
           "sprouts": 93920863.45888291,
           "sprouts_rinsable": 2110124.532120999,
           "timestamp": "2022-09-26T00:00:00",
           "value": 0.02197337105725366,
           "variable": "rinsable_percent"
          },
          {
           "rinsable_percent": 0.02197337105725366,
           "season": 7329,
           "sprouts": 93920863.45888291,
           "sprouts_rinsable": 2110124.532120999,
           "timestamp": "2022-09-27T00:00:00",
           "value": 2110124.532120999,
           "variable": "sprouts_rinsable"
          },
          {
           "rinsable_percent": 0.02197337105725366,
           "season": 7329,
           "sprouts": 93920863.45888291,
           "sprouts_rinsable": 2110124.532120999,
           "timestamp": "2022-09-27T00:00:00",
           "value": 93920863.45888291,
           "variable": "sprouts"
          },
          {
           "rinsable_percent": 0.02197337105725366,
           "season": 7329,
           "sprouts": 93920863.45888291,
           "sprouts_rinsable": 2110124.532120999,
           "timestamp": "2022-09-27T00:00:00",
           "value": 0.02197337105725366,
           "variable": "rinsable_percent"
          },
          {
           "rinsable_percent": 0.02197337105725366,
           "season": 7353,
           "sprouts": 93920863.45888291,
           "sprouts_rinsable": 2110124.532120999,
           "timestamp": "2022-09-28T00:00:00",
           "value": 0.02197337105725366,
           "variable": "rinsable_percent"
          },
          {
           "rinsable_percent": 0.02197337105725366,
           "season": 7353,
           "sprouts": 93920863.45888291,
           "sprouts_rinsable": 2110124.532120999,
           "timestamp": "2022-09-28T00:00:00",
           "value": 2110124.532120999,
           "variable": "sprouts_rinsable"
          },
          {
           "rinsable_percent": 0.02197337105725366,
           "season": 7353,
           "sprouts": 93920863.45888291,
           "sprouts_rinsable": 2110124.532120999,
           "timestamp": "2022-09-28T00:00:00",
           "value": 93920863.45888291,
           "variable": "sprouts"
          },
          {
           "rinsable_percent": 0.02197337105725366,
           "season": 7377,
           "sprouts": 93920863.45888291,
           "sprouts_rinsable": 2110124.532120999,
           "timestamp": "2022-09-29T00:00:00",
           "value": 93920863.45888291,
           "variable": "sprouts"
          },
          {
           "rinsable_percent": 0.02197337105725366,
           "season": 7377,
           "sprouts": 93920863.45888291,
           "sprouts_rinsable": 2110124.532120999,
           "timestamp": "2022-09-29T00:00:00",
           "value": 0.02197337105725366,
           "variable": "rinsable_percent"
          },
          {
           "rinsable_percent": 0.02197337105725366,
           "season": 7377,
           "sprouts": 93920863.45888291,
           "sprouts_rinsable": 2110124.532120999,
           "timestamp": "2022-09-29T00:00:00",
           "value": 2110124.532120999,
           "variable": "sprouts_rinsable"
          },
          {
           "rinsable_percent": 0.02197337105725366,
           "season": 7401,
           "sprouts": 93920863.45888291,
           "sprouts_rinsable": 2110124.532120999,
           "timestamp": "2022-09-30T00:00:00",
           "value": 0.02197337105725366,
           "variable": "rinsable_percent"
          },
          {
           "rinsable_percent": 0.02197337105725366,
           "season": 7401,
           "sprouts": 93920863.45888291,
           "sprouts_rinsable": 2110124.532120999,
           "timestamp": "2022-09-30T00:00:00",
           "value": 2110124.532120999,
           "variable": "sprouts_rinsable"
          },
          {
           "rinsable_percent": 0.02197337105725366,
           "season": 7401,
           "sprouts": 93920863.45888291,
           "sprouts_rinsable": 2110124.532120999,
           "timestamp": "2022-09-30T00:00:00",
           "value": 93920863.45888291,
           "variable": "sprouts"
          },
          {
           "rinsable_percent": 0.02197337105725366,
           "season": 7425,
           "sprouts": 93920863.45888291,
           "sprouts_rinsable": 2110124.532120999,
           "timestamp": "2022-10-01T00:00:00",
           "value": 2110124.532120999,
           "variable": "sprouts_rinsable"
          },
          {
           "rinsable_percent": 0.02197337105725366,
           "season": 7425,
           "sprouts": 93920863.45888291,
           "sprouts_rinsable": 2110124.532120999,
           "timestamp": "2022-10-01T00:00:00",
           "value": 93920863.45888291,
           "variable": "sprouts"
          },
          {
           "rinsable_percent": 0.02197337105725366,
           "season": 7425,
           "sprouts": 93920863.45888291,
           "sprouts_rinsable": 2110124.532120999,
           "timestamp": "2022-10-01T00:00:00",
           "value": 0.02197337105725366,
           "variable": "rinsable_percent"
          },
          {
           "rinsable_percent": 0.02197337105725366,
           "season": 7449,
           "sprouts": 93920863.45888291,
           "sprouts_rinsable": 2110124.532120999,
           "timestamp": "2022-10-02T00:00:00",
           "value": 2110124.532120999,
           "variable": "sprouts_rinsable"
          },
          {
           "rinsable_percent": 0.02197337105725366,
           "season": 7449,
           "sprouts": 93920863.45888291,
           "sprouts_rinsable": 2110124.532120999,
           "timestamp": "2022-10-02T00:00:00",
           "value": 93920863.45888291,
           "variable": "sprouts"
          },
          {
           "rinsable_percent": 0.02197337105725366,
           "season": 7449,
           "sprouts": 93920863.45888291,
           "sprouts_rinsable": 2110124.532120999,
           "timestamp": "2022-10-02T00:00:00",
           "value": 0.02197337105725366,
           "variable": "rinsable_percent"
          },
          {
           "rinsable_percent": 0.02197337105725366,
           "season": 7473,
           "sprouts": 93920863.45888291,
           "sprouts_rinsable": 2110124.532120999,
           "timestamp": "2022-10-03T00:00:00",
           "value": 2110124.532120999,
           "variable": "sprouts_rinsable"
          },
          {
           "rinsable_percent": 0.02197337105725366,
           "season": 7473,
           "sprouts": 93920863.45888291,
           "sprouts_rinsable": 2110124.532120999,
           "timestamp": "2022-10-03T00:00:00",
           "value": 93920863.45888291,
           "variable": "sprouts"
          },
          {
           "rinsable_percent": 0.02197337105725366,
           "season": 7473,
           "sprouts": 93920863.45888291,
           "sprouts_rinsable": 2110124.532120999,
           "timestamp": "2022-10-03T00:00:00",
           "value": 0.02197337105725366,
           "variable": "rinsable_percent"
          },
          {
           "rinsable_percent": 0.02197337105725366,
           "season": 7497,
           "sprouts": 93920863.45888291,
           "sprouts_rinsable": 2110124.532120999,
           "timestamp": "2022-10-04T00:00:00",
           "value": 93920863.45888291,
           "variable": "sprouts"
          },
          {
           "rinsable_percent": 0.02197337105725366,
           "season": 7497,
           "sprouts": 93920863.45888291,
           "sprouts_rinsable": 2110124.532120999,
           "timestamp": "2022-10-04T00:00:00",
           "value": 0.02197337105725366,
           "variable": "rinsable_percent"
          },
          {
           "rinsable_percent": 0.02197337105725366,
           "season": 7497,
           "sprouts": 93920863.45888291,
           "sprouts_rinsable": 2110124.532120999,
           "timestamp": "2022-10-04T00:00:00",
           "value": 2110124.532120999,
           "variable": "sprouts_rinsable"
          },
          {
           "rinsable_percent": 0.02197337105725366,
           "season": 7521,
           "sprouts": 93920863.45888291,
           "sprouts_rinsable": 2110124.532120999,
           "timestamp": "2022-10-05T00:00:00",
           "value": 2110124.532120999,
           "variable": "sprouts_rinsable"
          },
          {
           "rinsable_percent": 0.02197337105725366,
           "season": 7521,
           "sprouts": 93920863.45888291,
           "sprouts_rinsable": 2110124.532120999,
           "timestamp": "2022-10-05T00:00:00",
           "value": 93920863.45888291,
           "variable": "sprouts"
          },
          {
           "rinsable_percent": 0.02197337105725366,
           "season": 7521,
           "sprouts": 93920863.45888291,
           "sprouts_rinsable": 2110124.532120999,
           "timestamp": "2022-10-05T00:00:00",
           "value": 0.02197337105725366,
           "variable": "rinsable_percent"
          },
          {
           "rinsable_percent": 0.02197337105725366,
           "season": 7545,
           "sprouts": 93920863.45888291,
           "sprouts_rinsable": 2110124.532120999,
           "timestamp": "2022-10-06T00:00:00",
           "value": 2110124.532120999,
           "variable": "sprouts_rinsable"
          },
          {
           "rinsable_percent": 0.02197337105725366,
           "season": 7545,
           "sprouts": 93920863.45888291,
           "sprouts_rinsable": 2110124.532120999,
           "timestamp": "2022-10-06T00:00:00",
           "value": 93920863.45888291,
           "variable": "sprouts"
          },
          {
           "rinsable_percent": 0.02197337105725366,
           "season": 7545,
           "sprouts": 93920863.45888291,
           "sprouts_rinsable": 2110124.532120999,
           "timestamp": "2022-10-06T00:00:00",
           "value": 0.02197337105725366,
           "variable": "rinsable_percent"
          },
          {
           "rinsable_percent": 0.021974625885278664,
           "season": 7569,
           "sprouts": 93920742.95650792,
           "sprouts_rinsable": 2110245.034495999,
           "timestamp": "2022-10-07T00:00:00",
           "value": 2110245.034495999,
           "variable": "sprouts_rinsable"
          },
          {
           "rinsable_percent": 0.021974625885278664,
           "season": 7569,
           "sprouts": 93920742.95650792,
           "sprouts_rinsable": 2110245.034495999,
           "timestamp": "2022-10-07T00:00:00",
           "value": 93920742.95650792,
           "variable": "sprouts"
          },
          {
           "rinsable_percent": 0.021974625885278664,
           "season": 7569,
           "sprouts": 93920742.95650792,
           "sprouts_rinsable": 2110245.034495999,
           "timestamp": "2022-10-07T00:00:00",
           "value": 0.021974625885278664,
           "variable": "rinsable_percent"
          },
          {
           "rinsable_percent": 0.021974625885278664,
           "season": 7593,
           "sprouts": 93920742.95650792,
           "sprouts_rinsable": 2110245.034495999,
           "timestamp": "2022-10-08T00:00:00",
           "value": 2110245.034495999,
           "variable": "sprouts_rinsable"
          },
          {
           "rinsable_percent": 0.021974625885278664,
           "season": 7593,
           "sprouts": 93920742.95650792,
           "sprouts_rinsable": 2110245.034495999,
           "timestamp": "2022-10-08T00:00:00",
           "value": 93920742.95650792,
           "variable": "sprouts"
          },
          {
           "rinsable_percent": 0.021974625885278664,
           "season": 7593,
           "sprouts": 93920742.95650792,
           "sprouts_rinsable": 2110245.034495999,
           "timestamp": "2022-10-08T00:00:00",
           "value": 0.021974625885278664,
           "variable": "rinsable_percent"
          },
          {
           "rinsable_percent": 0.021974625885278664,
           "season": 7617,
           "sprouts": 93920742.95650792,
           "sprouts_rinsable": 2110245.034495999,
           "timestamp": "2022-10-09T00:00:00",
           "value": 0.021974625885278664,
           "variable": "rinsable_percent"
          },
          {
           "rinsable_percent": 0.021974625885278664,
           "season": 7617,
           "sprouts": 93920742.95650792,
           "sprouts_rinsable": 2110245.034495999,
           "timestamp": "2022-10-09T00:00:00",
           "value": 2110245.034495999,
           "variable": "sprouts_rinsable"
          },
          {
           "rinsable_percent": 0.021974625885278664,
           "season": 7617,
           "sprouts": 93920742.95650792,
           "sprouts_rinsable": 2110245.034495999,
           "timestamp": "2022-10-09T00:00:00",
           "value": 93920742.95650792,
           "variable": "sprouts"
          },
          {
           "rinsable_percent": 0.021974625885278664,
           "season": 7641,
           "sprouts": 93920742.95650792,
           "sprouts_rinsable": 2110245.034495999,
           "timestamp": "2022-10-10T00:00:00",
           "value": 2110245.034495999,
           "variable": "sprouts_rinsable"
          },
          {
           "rinsable_percent": 0.021974625885278664,
           "season": 7641,
           "sprouts": 93920742.95650792,
           "sprouts_rinsable": 2110245.034495999,
           "timestamp": "2022-10-10T00:00:00",
           "value": 93920742.95650792,
           "variable": "sprouts"
          },
          {
           "rinsable_percent": 0.021974625885278664,
           "season": 7641,
           "sprouts": 93920742.95650792,
           "sprouts_rinsable": 2110245.034495999,
           "timestamp": "2022-10-10T00:00:00",
           "value": 0.021974625885278664,
           "variable": "rinsable_percent"
          },
          {
           "rinsable_percent": 0.02197695628018225,
           "season": 7665,
           "sprouts": 93920519.16638291,
           "sprouts_rinsable": 2110468.8246209994,
           "timestamp": "2022-10-11T00:00:00",
           "value": 2110468.8246209994,
           "variable": "sprouts_rinsable"
          },
          {
           "rinsable_percent": 0.02197695628018225,
           "season": 7665,
           "sprouts": 93920519.16638291,
           "sprouts_rinsable": 2110468.8246209994,
           "timestamp": "2022-10-11T00:00:00",
           "value": 93920519.16638291,
           "variable": "sprouts"
          },
          {
           "rinsable_percent": 0.02197695628018225,
           "season": 7665,
           "sprouts": 93920519.16638291,
           "sprouts_rinsable": 2110468.8246209994,
           "timestamp": "2022-10-11T00:00:00",
           "value": 0.02197695628018225,
           "variable": "rinsable_percent"
          },
          {
           "rinsable_percent": 0.02198233411457513,
           "season": 7689,
           "sprouts": 93920002.72763291,
           "sprouts_rinsable": 2110985.263371,
           "timestamp": "2022-10-12T00:00:00",
           "value": 0.02198233411457513,
           "variable": "rinsable_percent"
          },
          {
           "rinsable_percent": 0.02198233411457513,
           "season": 7689,
           "sprouts": 93920002.72763291,
           "sprouts_rinsable": 2110985.263371,
           "timestamp": "2022-10-12T00:00:00",
           "value": 2110985.263371,
           "variable": "sprouts_rinsable"
          },
          {
           "rinsable_percent": 0.02198233411457513,
           "season": 7689,
           "sprouts": 93920002.72763291,
           "sprouts_rinsable": 2110985.263371,
           "timestamp": "2022-10-12T00:00:00",
           "value": 93920002.72763291,
           "variable": "sprouts"
          },
          {
           "rinsable_percent": 0.02198538155406443,
           "season": 7713,
           "sprouts": 93919710.07900791,
           "sprouts_rinsable": 2111277.9119960004,
           "timestamp": "2022-10-13T00:00:00",
           "value": 0.02198538155406443,
           "variable": "rinsable_percent"
          },
          {
           "rinsable_percent": 0.02198538155406443,
           "season": 7713,
           "sprouts": 93919710.07900791,
           "sprouts_rinsable": 2111277.9119960004,
           "timestamp": "2022-10-13T00:00:00",
           "value": 2111277.9119960004,
           "variable": "sprouts_rinsable"
          },
          {
           "rinsable_percent": 0.02198538155406443,
           "season": 7713,
           "sprouts": 93919710.07900791,
           "sprouts_rinsable": 2111277.9119960004,
           "timestamp": "2022-10-13T00:00:00",
           "value": 93919710.07900791,
           "variable": "sprouts"
          },
          {
           "rinsable_percent": 0.021988234448554918,
           "season": 7737,
           "sprouts": 93919501.39540792,
           "sprouts_rinsable": 2111553.345996001,
           "timestamp": "2022-10-14T00:00:00",
           "value": 2111553.345996001,
           "variable": "sprouts_rinsable"
          },
          {
           "rinsable_percent": 0.021988234448554918,
           "season": 7737,
           "sprouts": 93919501.39540792,
           "sprouts_rinsable": 2111553.345996001,
           "timestamp": "2022-10-14T00:00:00",
           "value": 93919501.39540792,
           "variable": "sprouts"
          },
          {
           "rinsable_percent": 0.021988234448554918,
           "season": 7737,
           "sprouts": 93919501.39540792,
           "sprouts_rinsable": 2111553.345996001,
           "timestamp": "2022-10-14T00:00:00",
           "value": 0.021988234448554918,
           "variable": "rinsable_percent"
          },
          {
           "rinsable_percent": 0.021989310017809863,
           "season": 7761,
           "sprouts": 93919398.10735792,
           "sprouts_rinsable": 2111656.6340460004,
           "timestamp": "2022-10-15T00:00:00",
           "value": 93919398.10735792,
           "variable": "sprouts"
          },
          {
           "rinsable_percent": 0.021989310017809863,
           "season": 7761,
           "sprouts": 93919398.10735792,
           "sprouts_rinsable": 2111656.6340460004,
           "timestamp": "2022-10-15T00:00:00",
           "value": 2111656.6340460004,
           "variable": "sprouts_rinsable"
          },
          {
           "rinsable_percent": 0.021989310017809863,
           "season": 7761,
           "sprouts": 93919398.10735792,
           "sprouts_rinsable": 2111656.6340460004,
           "timestamp": "2022-10-15T00:00:00",
           "value": 0.021989310017809863,
           "variable": "rinsable_percent"
          },
          {
           "rinsable_percent": 0.021989310017809863,
           "season": 7785,
           "sprouts": 93919398.10735792,
           "sprouts_rinsable": 2111656.6340460004,
           "timestamp": "2022-10-16T00:00:00",
           "value": 93919398.10735792,
           "variable": "sprouts"
          },
          {
           "rinsable_percent": 0.021989310017809863,
           "season": 7785,
           "sprouts": 93919398.10735792,
           "sprouts_rinsable": 2111656.6340460004,
           "timestamp": "2022-10-16T00:00:00",
           "value": 2111656.6340460004,
           "variable": "sprouts_rinsable"
          },
          {
           "rinsable_percent": 0.021989310017809863,
           "season": 7785,
           "sprouts": 93919398.10735792,
           "sprouts_rinsable": 2111656.6340460004,
           "timestamp": "2022-10-16T00:00:00",
           "value": 0.021989310017809863,
           "variable": "rinsable_percent"
          },
          {
           "rinsable_percent": 0.021995584171797065,
           "season": 7809,
           "sprouts": 93918795.59373292,
           "sprouts_rinsable": 2112259.1476710015,
           "timestamp": "2022-10-17T00:00:00",
           "value": 93918795.59373292,
           "variable": "sprouts"
          },
          {
           "rinsable_percent": 0.021995584171797065,
           "season": 7809,
           "sprouts": 93918795.59373292,
           "sprouts_rinsable": 2112259.1476710015,
           "timestamp": "2022-10-17T00:00:00",
           "value": 2112259.1476710015,
           "variable": "sprouts_rinsable"
          },
          {
           "rinsable_percent": 0.021995584171797065,
           "season": 7809,
           "sprouts": 93918795.59373292,
           "sprouts_rinsable": 2112259.1476710015,
           "timestamp": "2022-10-17T00:00:00",
           "value": 0.021995584171797065,
           "variable": "rinsable_percent"
          },
          {
           "rinsable_percent": 0.021995942694882045,
           "season": 7812,
           "sprouts": 93918761.16438292,
           "sprouts_rinsable": 2112293.5770210014,
           "timestamp": "2022-10-18T00:00:00",
           "value": 93918761.16438292,
           "variable": "sprouts"
          },
          {
           "rinsable_percent": 0.021995942694882045,
           "season": 7812,
           "sprouts": 93918761.16438292,
           "sprouts_rinsable": 2112293.5770210014,
           "timestamp": "2022-10-18T00:00:00",
           "value": 2112293.5770210014,
           "variable": "sprouts_rinsable"
          },
          {
           "rinsable_percent": 0.021995942694882045,
           "season": 7812,
           "sprouts": 93918761.16438292,
           "sprouts_rinsable": 2112293.5770210014,
           "timestamp": "2022-10-18T00:00:00",
           "value": 0.021995942694882045,
           "variable": "rinsable_percent"
          }
         ]
        },
        "hconcat": [
         {
          "data": {
           "name": "data-9b053f44f5f8a7d42a597cf763f4c43f"
          },
          "layer": [
           {
            "encoding": {
             "color": {
              "field": "variable",
              "legend": {
               "title": null
              },
              "scale": {
               "domain": [
                "sprouts",
                "sprouts_rinsable",
                "rinsable_percent"
               ],
               "range": [
                "#fb8500",
                "#219ebc",
                "#023047"
               ]
              },
              "type": "nominal"
             },
             "order": {
              "field": "stack_order",
              "sort": "ascending",
              "type": "quantitative"
             },
             "tooltip": [
              {
               "field": "timestamp",
               "timeUnit": "yearmonthdate",
               "title": "date",
               "type": "ordinal"
              },
              {
               "field": "sprouts",
               "format": ",d",
               "type": "quantitative"
              },
              {
               "field": "sprouts_rinsable",
               "format": ",d",
               "type": "quantitative"
              },
              {
               "field": "rinsable_percent",
               "format": ".2%",
               "type": "quantitative"
              }
             ],
             "x": {
              "axis": {
               "formatType": "time",
               "labelAngle": 0,
               "labelExpr": "timeFormat(toDate(datum.value), '%b %e, %Y')",
               "labelOverlap": true,
               "labelPadding": 5,
               "labelSeparation": 50,
               "ticks": false,
               "title": "Date"
              },
              "field": "timestamp",
              "type": "ordinal"
             },
             "y": {
              "axis": {
               "format": ".3~s",
               "title": "Sprouts"
              },
              "field": "value",
              "type": "quantitative"
             }
            },
            "mark": {
             "point": "transparent",
             "type": "area"
            },
            "title": "Sprouts Breakdown",
            "transform": [
             {
              "as": "stack_order",
              "calculate": "datum['variable'] === 'sprouts' ? 0 :  datum['variable'] === 'sprouts_rinsable' ? 1 :  datum['variable'] === 'rinsable_percent' ? 2 : 3"
             },
             {
              "filter": "datum['variable'] == 'sprouts_rinsable' | datum['variable'] == 'sprouts'"
             },
             {
              "as": "sort_col",
              "calculate": "datum['variable'] === 'sprouts' ? 0 :  datum['variable'] === 'sprouts_rinsable' ? 1 :  datum['variable'] === 'rinsable_percent' ? 2 : 3"
             }
            ],
            "width": 400
           },
           {
            "encoding": {
             "color": {
              "field": "variable",
              "legend": {
               "title": null
              },
              "scale": {
               "domain": [
                "sprouts",
                "sprouts_rinsable",
                "rinsable_percent"
               ],
               "range": [
                "#fb8500",
                "#219ebc",
                "#023047"
               ]
              },
              "type": "nominal"
             },
             "order": {
              "field": "stack_order",
              "sort": "ascending",
              "type": "quantitative"
             },
             "x": {
              "axis": {
               "formatType": "time",
               "labelAngle": 0,
               "labelExpr": "timeFormat(toDate(datum.value), '%b %e, %Y')",
               "labelOverlap": true,
               "labelPadding": 5,
               "labelSeparation": 50,
               "ticks": false,
               "title": "Date"
              },
              "field": "timestamp",
              "type": "ordinal"
             },
             "y": {
              "axis": {
               "format": ".2%",
               "title": "Percent"
              },
              "field": "value",
              "type": "quantitative"
             }
            },
            "mark": "line",
            "title": "Sprouts Breakdown",
            "transform": [
             {
              "as": "stack_order",
              "calculate": "datum['variable'] === 'sprouts' ? 0 :  datum['variable'] === 'sprouts_rinsable' ? 1 :  datum['variable'] === 'rinsable_percent' ? 2 : 3"
             },
             {
              "filter": "datum['variable'] != 'sprouts_rinsable' & datum['variable'] != 'sprouts'"
             }
            ],
            "width": 400
           }
          ],
          "resolve": {
           "axis": {
            "y": "independent"
           },
           "scale": {
            "y": "independent"
           }
          }
         },
         {
          "data": {
           "name": "data-7efedb02e12fbe39ed84a0e39bf03db2"
          },
          "encoding": {
           "color": {
            "field": "category",
            "legend": {},
            "scale": {
             "domain": [
              "fertilizer_available",
              "fertilizer_active"
             ],
             "range": [
              "#7209b7",
              "#06d6a0"
             ]
            },
            "type": "nominal"
           },
           "theta": {
            "field": "value",
            "stack": true,
            "type": "quantitative"
           },
           "tooltip": {
            "field": "label",
            "type": "nominal"
           }
          },
          "mark": {
           "innerRadius": 75,
           "outerRadius": 120,
           "type": "arc"
          },
          "title": "Fertilizer Breakdown"
         }
        ],
        "resolve": {
         "axis": {
          "y": "independent"
         },
         "legend": {
          "color": "independent"
         },
         "scale": {
          "color": "independent",
          "y": "independent"
         }
        }
       },
       "width_paths": [
        {
         "factor": 1,
         "path": [
          "config",
          "view",
          "continuousWidth"
         ],
         "value": 400
        },
        {
         "factor": 1,
         "path": [
          "hconcat",
          0,
          "layer",
          0,
          "width"
         ],
         "value": 400
        },
        {
         "factor": 1,
         "path": [
          "hconcat",
          0,
          "layer",
          1,
          "width"
         ],
         "value": 400
        },
        {
         "factor": 3.33,
         "path": [
          "hconcat",
          1,
          "mark",
          "innerRadius"
         ],
         "value": 75
        },
        {
         "factor": 3.33,
         "path": [
          "hconcat",
          1,
          "mark",
          "outerRadius"
         ],
         "value": 120
        }
       ]
      },
      "text/plain": [
       "<IPython.core.display.JSON object>"
      ]
     },
     "execution_count": 12,
     "metadata": {
      "application/json": {
       "expanded": false,
       "root": "root"
      }
     },
     "output_type": "execute_result"
    }
   ],
   "source": [
    "# TODO: update css for this chart \n",
    "output_chart(c)"
   ]
  },
  {
   "cell_type": "code",
   "execution_count": null,
   "id": "6ccd0576",
   "metadata": {},
   "outputs": [],
   "source": []
  }
 ],
 "metadata": {
  "kernelspec": {
   "display_name": "Python 3 (ipykernel)",
   "language": "python",
   "name": "python3"
  },
  "language_info": {
   "codemirror_mode": {
    "name": "ipython",
    "version": 3
   },
   "file_extension": ".py",
   "mimetype": "text/x-python",
   "name": "python",
   "nbconvert_exporter": "python",
   "pygments_lexer": "ipython3",
   "version": "3.10.5"
  },
  "vscode": {
   "interpreter": {
    "hash": "65a1606879e7cc55db7359bc7bbaab6708e6dced52e1818b18aa46c0dd2503e5"
   }
  }
 },
 "nbformat": 4,
 "nbformat_minor": 5
}
