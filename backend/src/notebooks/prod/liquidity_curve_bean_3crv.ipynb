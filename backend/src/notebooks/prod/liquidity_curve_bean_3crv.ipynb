{
 "cells": [
  {
   "cell_type": "code",
   "execution_count": 16,
   "id": "bb524f98-4f94-476c-b760-7d5dbae7938d",
   "metadata": {},
   "outputs": [],
   "source": [
    "import os \n",
    "import sys \n",
    "import builtins\n",
    "from typing import List \n",
    "\n",
    "cur_path = os.path.abspath(\"../..\")\n",
    "if cur_path not in sys.path: \n",
    "    sys.path.append(cur_path)\n",
    "\n",
    "from functools import cache \n",
    "import numpy as np \n",
    "import pandas as pd \n",
    "import altair as alt \n",
    "from palettable.tableau import Tableau_10\n",
    "from IPython.display import clear_output\n",
    "from altair import datum\n",
    "from dotenv import load_dotenv\n",
    "from subgrounds.subgrounds import Subgrounds, Subgraph\n",
    "from subgrounds.pagination import ShallowStrategy\n",
    "\n",
    "# Required when developing in a jupyter-notebook environment \n",
    "load_dotenv('../../../../.env')\n",
    "\n",
    "from utils_notebook.utils import ddf, load_subgraph, remove_prefix\n",
    "from utils_notebook.vega import (\n",
    "    output_chart, \n",
    "    apply_css, \n",
    "    stack_order_expr, \n",
    "    wide_to_longwide,\n",
    "    chart, \n",
    ")\n",
    "from utils_notebook.queries import adjust_precision, QueryManager\n",
    "from utils_notebook.testing import validate_season_series\n",
    "from utils_notebook.css import css_tooltip_timeseries_multi_colored\n",
    "from utils_notebook.queries import QueryManager\n",
    "from utils_notebook.vega import output_chart\n",
    "\n",
    "import warnings\n",
    "warnings.filterwarnings('ignore')\n"
   ]
  },
  {
   "cell_type": "code",
   "execution_count": 2,
   "id": "9ef8dcc6",
   "metadata": {},
   "outputs": [],
   "source": [
    "sg: Subgrounds\n",
    "bs: Subgraph\n",
    "sg, bs = load_subgraph()"
   ]
  },
  {
   "cell_type": "code",
   "execution_count": 3,
   "id": "3d6a5c9a-a843-4914-a865-b38373d9a07c",
   "metadata": {},
   "outputs": [],
   "source": [
    "q = QueryManager(sg, bs) "
   ]
  },
  {
   "cell_type": "code",
   "execution_count": 4,
   "id": "d25882b1",
   "metadata": {
    "tags": []
   },
   "outputs": [],
   "source": [
    "pool = bs.Query.metapoolOracles(first=100000, orderBy=\"season\", orderDirection=\"asc\")\n",
    "df = sg.query_df(\n",
    "    [\n",
    "        pool.balanceA, \n",
    "        pool.balanceB, \n",
    "        pool.season, \n",
    "        pool.deltaB, \n",
    "        pool.timestamp, \n",
    "    ],\n",
    "    pagination_strategy=ShallowStrategy\n",
    ")\n",
    "df = remove_prefix(df, \"metapoolOracles_\")\n",
    "df.balanceA /= 10**6\n",
    "df.balanceB /= 10**18\n",
    "df.deltaB /= 10**6"
   ]
  },
  {
   "cell_type": "code",
   "execution_count": 5,
   "id": "2b3bc84b",
   "metadata": {
    "tags": []
   },
   "outputs": [
    {
     "data": {
      "text/html": [
       "<div>\n",
       "<style scoped>\n",
       "    .dataframe tbody tr th:only-of-type {\n",
       "        vertical-align: middle;\n",
       "    }\n",
       "\n",
       "    .dataframe tbody tr th {\n",
       "        vertical-align: top;\n",
       "    }\n",
       "\n",
       "    .dataframe thead th {\n",
       "        text-align: right;\n",
       "    }\n",
       "</style>\n",
       "<table border=\"1\" class=\"dataframe\">\n",
       "  <thead>\n",
       "    <tr style=\"text-align: right;\">\n",
       "      <th></th>\n",
       "      <th>balanceA</th>\n",
       "      <th>balanceB</th>\n",
       "      <th>season</th>\n",
       "      <th>deltaB</th>\n",
       "      <th>timestamp</th>\n",
       "      <th>diff_a</th>\n",
       "      <th>diff_b</th>\n",
       "      <th>diff_timestamp</th>\n",
       "      <th>reserves_3crv</th>\n",
       "      <th>reserves_bean</th>\n",
       "    </tr>\n",
       "  </thead>\n",
       "  <tbody>\n",
       "    <tr>\n",
       "      <th>1</th>\n",
       "      <td>1823002386736.906738</td>\n",
       "      <td>2030942247135.286865</td>\n",
       "      <td>6077</td>\n",
       "      <td>685226.464263</td>\n",
       "      <td>1659812464</td>\n",
       "      <td>46790827319.678223</td>\n",
       "      <td>50589125510.827393</td>\n",
       "      <td>3533.0</td>\n",
       "      <td>13243936.40523</td>\n",
       "      <td>14319027.883053</td>\n",
       "    </tr>\n",
       "    <tr>\n",
       "      <th>2</th>\n",
       "      <td>1869934826665.250244</td>\n",
       "      <td>2081743078278.517822</td>\n",
       "      <td>6078</td>\n",
       "      <td>694584.048577</td>\n",
       "      <td>1659816002</td>\n",
       "      <td>46932439928.343506</td>\n",
       "      <td>50800831143.230957</td>\n",
       "      <td>3538.0</td>\n",
       "      <td>13265245.881386</td>\n",
       "      <td>14358629.492151</td>\n",
       "    </tr>\n",
       "    <tr>\n",
       "      <th>3</th>\n",
       "      <td>1917706461458.546631</td>\n",
       "      <td>2133501113442.06958</td>\n",
       "      <td>6079</td>\n",
       "      <td>701977.691800</td>\n",
       "      <td>1659819600</td>\n",
       "      <td>47771634793.296387</td>\n",
       "      <td>51758035163.551758</td>\n",
       "      <td>3598.0</td>\n",
       "      <td>13277274.817481</td>\n",
       "      <td>14385223.780865</td>\n",
       "    </tr>\n",
       "    <tr>\n",
       "      <th>4</th>\n",
       "      <td>1965608261630.781006</td>\n",
       "      <td>2186128547794.177979</td>\n",
       "      <td>6080</td>\n",
       "      <td>803240.828322</td>\n",
       "      <td>1659823204</td>\n",
       "      <td>47901800172.234375</td>\n",
       "      <td>52627434352.108398</td>\n",
       "      <td>3604.0</td>\n",
       "      <td>13291287.506169</td>\n",
       "      <td>14602506.756967</td>\n",
       "    </tr>\n",
       "    <tr>\n",
       "      <th>5</th>\n",
       "      <td>2013881826521.260254</td>\n",
       "      <td>2239501123147.967285</td>\n",
       "      <td>6081</td>\n",
       "      <td>849932.384158</td>\n",
       "      <td>1659826833</td>\n",
       "      <td>48273564890.479248</td>\n",
       "      <td>53372575353.789307</td>\n",
       "      <td>3629.0</td>\n",
       "      <td>13302167.23353</td>\n",
       "      <td>14707240.38407</td>\n",
       "    </tr>\n",
       "  </tbody>\n",
       "</table>\n",
       "</div>"
      ],
      "text/plain": [
       "               balanceA              balanceB  season         deltaB  \\\n",
       "1  1823002386736.906738  2030942247135.286865    6077  685226.464263   \n",
       "2  1869934826665.250244  2081743078278.517822    6078  694584.048577   \n",
       "3  1917706461458.546631   2133501113442.06958    6079  701977.691800   \n",
       "4  1965608261630.781006  2186128547794.177979    6080  803240.828322   \n",
       "5  2013881826521.260254  2239501123147.967285    6081  849932.384158   \n",
       "\n",
       "    timestamp              diff_a              diff_b  diff_timestamp  \\\n",
       "1  1659812464  46790827319.678223  50589125510.827393          3533.0   \n",
       "2  1659816002  46932439928.343506  50800831143.230957          3538.0   \n",
       "3  1659819600  47771634793.296387  51758035163.551758          3598.0   \n",
       "4  1659823204  47901800172.234375  52627434352.108398          3604.0   \n",
       "5  1659826833  48273564890.479248  53372575353.789307          3629.0   \n",
       "\n",
       "     reserves_3crv    reserves_bean  \n",
       "1   13243936.40523  14319027.883053  \n",
       "2  13265245.881386  14358629.492151  \n",
       "3  13277274.817481  14385223.780865  \n",
       "4  13291287.506169  14602506.756967  \n",
       "5   13302167.23353   14707240.38407  "
      ]
     },
     "execution_count": 5,
     "metadata": {},
     "output_type": "execute_result"
    }
   ],
   "source": [
    "# Reverse engineer pool reserves from quantites used in TWAP calculation. \n",
    "df['diff_a'] = (df.balanceA - df.balanceA.shift(1))\n",
    "df['diff_b'] = (df.balanceB - df.balanceB.shift(1))\n",
    "df['diff_timestamp'] = (df.timestamp - df.timestamp.shift(1))\n",
    "df['reserves_3crv'] = df['diff_a'] / df.diff_timestamp\n",
    "df['reserves_bean'] = df['diff_b'] / df.diff_timestamp\n",
    "assert df.season.min() == 6076\n",
    "df = df.iloc[1:,]\n",
    "df.head()"
   ]
  },
  {
   "cell_type": "code",
   "execution_count": 6,
   "id": "e3fca921-cd70-4900-84cf-422d9280bc00",
   "metadata": {},
   "outputs": [
    {
     "data": {
      "text/html": [
       "<div>\n",
       "<style scoped>\n",
       "    .dataframe tbody tr th:only-of-type {\n",
       "        vertical-align: middle;\n",
       "    }\n",
       "\n",
       "    .dataframe tbody tr th {\n",
       "        vertical-align: top;\n",
       "    }\n",
       "\n",
       "    .dataframe thead th {\n",
       "        text-align: right;\n",
       "    }\n",
       "</style>\n",
       "<table border=\"1\" class=\"dataframe\">\n",
       "  <thead>\n",
       "    <tr style=\"text-align: right;\">\n",
       "      <th></th>\n",
       "      <th>season</th>\n",
       "      <th>price_bean</th>\n",
       "    </tr>\n",
       "  </thead>\n",
       "  <tbody>\n",
       "    <tr>\n",
       "      <th>0</th>\n",
       "      <td>6074</td>\n",
       "      <td>1.022000</td>\n",
       "    </tr>\n",
       "    <tr>\n",
       "      <th>1</th>\n",
       "      <td>6075</td>\n",
       "      <td>1.070000</td>\n",
       "    </tr>\n",
       "    <tr>\n",
       "      <th>2</th>\n",
       "      <td>6076</td>\n",
       "      <td>1.050748</td>\n",
       "    </tr>\n",
       "    <tr>\n",
       "      <th>3</th>\n",
       "      <td>6077</td>\n",
       "      <td>1.051615</td>\n",
       "    </tr>\n",
       "    <tr>\n",
       "      <th>4</th>\n",
       "      <td>6078</td>\n",
       "      <td>1.051964</td>\n",
       "    </tr>\n",
       "  </tbody>\n",
       "</table>\n",
       "</div>"
      ],
      "text/plain": [
       "   season  price_bean\n",
       "0    6074    1.022000\n",
       "1    6075    1.070000\n",
       "2    6076    1.050748\n",
       "3    6077    1.051615\n",
       "4    6078    1.051964"
      ]
     },
     "execution_count": 6,
     "metadata": {},
     "output_type": "execute_result"
    }
   ],
   "source": [
    "df_szns = q.query_seasons(extra_cols=['price'], where={\"season_gte\": 6074})[['season', 'price']]\n",
    "df_szns = df_szns.rename(columns={\"price\": \"price_bean\"})\n",
    "df_szns.head()"
   ]
  },
  {
   "cell_type": "code",
   "execution_count": 7,
   "id": "4bd53b02-d906-4e90-8064-4f5634dcf586",
   "metadata": {},
   "outputs": [
    {
     "data": {
      "text/html": [
       "<div>\n",
       "<style scoped>\n",
       "    .dataframe tbody tr th:only-of-type {\n",
       "        vertical-align: middle;\n",
       "    }\n",
       "\n",
       "    .dataframe tbody tr th {\n",
       "        vertical-align: top;\n",
       "    }\n",
       "\n",
       "    .dataframe thead th {\n",
       "        text-align: right;\n",
       "    }\n",
       "</style>\n",
       "<table border=\"1\" class=\"dataframe\">\n",
       "  <thead>\n",
       "    <tr style=\"text-align: right;\">\n",
       "      <th></th>\n",
       "      <th>balanceA</th>\n",
       "      <th>balanceB</th>\n",
       "      <th>season</th>\n",
       "      <th>deltaB</th>\n",
       "      <th>timestamp</th>\n",
       "      <th>diff_a</th>\n",
       "      <th>diff_b</th>\n",
       "      <th>diff_timestamp</th>\n",
       "      <th>reserves_3crv</th>\n",
       "      <th>reserves_bean</th>\n",
       "      <th>price_bean</th>\n",
       "    </tr>\n",
       "  </thead>\n",
       "  <tbody>\n",
       "    <tr>\n",
       "      <th>0</th>\n",
       "      <td>1823002386736.906738</td>\n",
       "      <td>2030942247135.286865</td>\n",
       "      <td>6077</td>\n",
       "      <td>685226.464263</td>\n",
       "      <td>1659812464</td>\n",
       "      <td>46790827319.678223</td>\n",
       "      <td>50589125510.827393</td>\n",
       "      <td>3533.0</td>\n",
       "      <td>13243936.40523</td>\n",
       "      <td>14319027.883053</td>\n",
       "      <td>1.051615</td>\n",
       "    </tr>\n",
       "    <tr>\n",
       "      <th>1</th>\n",
       "      <td>1869934826665.250244</td>\n",
       "      <td>2081743078278.517822</td>\n",
       "      <td>6078</td>\n",
       "      <td>694584.048577</td>\n",
       "      <td>1659816002</td>\n",
       "      <td>46932439928.343506</td>\n",
       "      <td>50800831143.230957</td>\n",
       "      <td>3538.0</td>\n",
       "      <td>13265245.881386</td>\n",
       "      <td>14358629.492151</td>\n",
       "      <td>1.051964</td>\n",
       "    </tr>\n",
       "    <tr>\n",
       "      <th>2</th>\n",
       "      <td>1917706461458.546631</td>\n",
       "      <td>2133501113442.06958</td>\n",
       "      <td>6079</td>\n",
       "      <td>701977.691800</td>\n",
       "      <td>1659819600</td>\n",
       "      <td>47771634793.296387</td>\n",
       "      <td>51758035163.551758</td>\n",
       "      <td>3598.0</td>\n",
       "      <td>13277274.817481</td>\n",
       "      <td>14385223.780865</td>\n",
       "      <td>1.052462</td>\n",
       "    </tr>\n",
       "    <tr>\n",
       "      <th>3</th>\n",
       "      <td>1965608261630.781006</td>\n",
       "      <td>2186128547794.177979</td>\n",
       "      <td>6080</td>\n",
       "      <td>803240.828322</td>\n",
       "      <td>1659823204</td>\n",
       "      <td>47901800172.234375</td>\n",
       "      <td>52627434352.108398</td>\n",
       "      <td>3604.0</td>\n",
       "      <td>13291287.506169</td>\n",
       "      <td>14602506.756967</td>\n",
       "      <td>1.062113</td>\n",
       "    </tr>\n",
       "    <tr>\n",
       "      <th>4</th>\n",
       "      <td>2013881826521.260254</td>\n",
       "      <td>2239501123147.967285</td>\n",
       "      <td>6081</td>\n",
       "      <td>849932.384158</td>\n",
       "      <td>1659826833</td>\n",
       "      <td>48273564890.479248</td>\n",
       "      <td>53372575353.789307</td>\n",
       "      <td>3629.0</td>\n",
       "      <td>13302167.23353</td>\n",
       "      <td>14707240.38407</td>\n",
       "      <td>1.063713</td>\n",
       "    </tr>\n",
       "  </tbody>\n",
       "</table>\n",
       "</div>"
      ],
      "text/plain": [
       "               balanceA              balanceB  season         deltaB  \\\n",
       "0  1823002386736.906738  2030942247135.286865    6077  685226.464263   \n",
       "1  1869934826665.250244  2081743078278.517822    6078  694584.048577   \n",
       "2  1917706461458.546631   2133501113442.06958    6079  701977.691800   \n",
       "3  1965608261630.781006  2186128547794.177979    6080  803240.828322   \n",
       "4  2013881826521.260254  2239501123147.967285    6081  849932.384158   \n",
       "\n",
       "    timestamp              diff_a              diff_b  diff_timestamp  \\\n",
       "0  1659812464  46790827319.678223  50589125510.827393          3533.0   \n",
       "1  1659816002  46932439928.343506  50800831143.230957          3538.0   \n",
       "2  1659819600  47771634793.296387  51758035163.551758          3598.0   \n",
       "3  1659823204  47901800172.234375  52627434352.108398          3604.0   \n",
       "4  1659826833  48273564890.479248  53372575353.789307          3629.0   \n",
       "\n",
       "     reserves_3crv    reserves_bean  price_bean  \n",
       "0   13243936.40523  14319027.883053    1.051615  \n",
       "1  13265245.881386  14358629.492151    1.051964  \n",
       "2  13277274.817481  14385223.780865    1.052462  \n",
       "3  13291287.506169  14602506.756967    1.062113  \n",
       "4   13302167.23353   14707240.38407    1.063713  "
      ]
     },
     "execution_count": 7,
     "metadata": {},
     "output_type": "execute_result"
    }
   ],
   "source": [
    "df = df.merge(df_szns, how=\"left\", on=\"season\")\n",
    "df.head()"
   ]
  },
  {
   "cell_type": "code",
   "execution_count": 8,
   "id": "f24d9ae4-aa1f-4b66-b314-b6ffe570af8c",
   "metadata": {},
   "outputs": [
    {
     "data": {
      "text/html": [
       "<div>\n",
       "<style scoped>\n",
       "    .dataframe tbody tr th:only-of-type {\n",
       "        vertical-align: middle;\n",
       "    }\n",
       "\n",
       "    .dataframe tbody tr th {\n",
       "        vertical-align: top;\n",
       "    }\n",
       "\n",
       "    .dataframe thead th {\n",
       "        text-align: right;\n",
       "    }\n",
       "</style>\n",
       "<table border=\"1\" class=\"dataframe\">\n",
       "  <thead>\n",
       "    <tr style=\"text-align: right;\">\n",
       "      <th></th>\n",
       "      <th>balanceA</th>\n",
       "      <th>balanceB</th>\n",
       "      <th>season</th>\n",
       "      <th>deltaB</th>\n",
       "      <th>timestamp</th>\n",
       "      <th>diff_a</th>\n",
       "      <th>diff_b</th>\n",
       "      <th>diff_timestamp</th>\n",
       "      <th>reserves_3crv</th>\n",
       "      <th>reserves_bean</th>\n",
       "      <th>price_bean</th>\n",
       "      <th>pool_tvl_usd</th>\n",
       "      <th>bean_fraction</th>\n",
       "      <th>3crv_fraction</th>\n",
       "    </tr>\n",
       "  </thead>\n",
       "  <tbody>\n",
       "    <tr>\n",
       "      <th>2058</th>\n",
       "      <td>113429873739682.46875</td>\n",
       "      <td>110869454982437.921875</td>\n",
       "      <td>8135</td>\n",
       "      <td>-7660.251706</td>\n",
       "      <td>1667221211</td>\n",
       "      <td>50107181019.46875</td>\n",
       "      <td>48966568798.984375</td>\n",
       "      <td>3600.0</td>\n",
       "      <td>13918661.394297</td>\n",
       "      <td>13601824.666385</td>\n",
       "      <td>0.999449</td>\n",
       "      <td>27203972.183801</td>\n",
       "      <td>0.499719</td>\n",
       "      <td>0.500281</td>\n",
       "    </tr>\n",
       "    <tr>\n",
       "      <th>2059</th>\n",
       "      <td>113479980920701.953125</td>\n",
       "      <td>110918421551236.890625</td>\n",
       "      <td>8136</td>\n",
       "      <td>-7657.047186</td>\n",
       "      <td>1667224811</td>\n",
       "      <td>50107181019.484375</td>\n",
       "      <td>48966568798.96875</td>\n",
       "      <td>3600.0</td>\n",
       "      <td>13918661.394301</td>\n",
       "      <td>13601824.66638</td>\n",
       "      <td>0.999449</td>\n",
       "      <td>27203965.778284</td>\n",
       "      <td>0.499719</td>\n",
       "      <td>0.500281</td>\n",
       "    </tr>\n",
       "    <tr>\n",
       "      <th>2060</th>\n",
       "      <td>113530088101721.421875</td>\n",
       "      <td>110967388120035.875</td>\n",
       "      <td>8137</td>\n",
       "      <td>-7653.729622</td>\n",
       "      <td>1667228411</td>\n",
       "      <td>50107181019.46875</td>\n",
       "      <td>48966568798.984375</td>\n",
       "      <td>3600.0</td>\n",
       "      <td>13918661.394297</td>\n",
       "      <td>13601824.666385</td>\n",
       "      <td>0.999450</td>\n",
       "      <td>27203986.365777</td>\n",
       "      <td>0.499719</td>\n",
       "      <td>0.500281</td>\n",
       "    </tr>\n",
       "    <tr>\n",
       "      <th>2061</th>\n",
       "      <td>113580195282740.90625</td>\n",
       "      <td>111016354688834.84375</td>\n",
       "      <td>8138</td>\n",
       "      <td>-7624.518383</td>\n",
       "      <td>1667232011</td>\n",
       "      <td>50107181019.484375</td>\n",
       "      <td>48966568798.96875</td>\n",
       "      <td>3600.0</td>\n",
       "      <td>13918661.394301</td>\n",
       "      <td>13601824.66638</td>\n",
       "      <td>0.999452</td>\n",
       "      <td>27203982.41322</td>\n",
       "      <td>0.49972</td>\n",
       "      <td>0.50028</td>\n",
       "    </tr>\n",
       "    <tr>\n",
       "      <th>2062</th>\n",
       "      <td>113630324960715.421875</td>\n",
       "      <td>111065299270772.03125</td>\n",
       "      <td>8139</td>\n",
       "      <td>-13868.343960</td>\n",
       "      <td>1667235611</td>\n",
       "      <td>50129677974.515625</td>\n",
       "      <td>48944581937.1875</td>\n",
       "      <td>3600.0</td>\n",
       "      <td>13924910.548477</td>\n",
       "      <td>13595717.204774</td>\n",
       "      <td>0.998930</td>\n",
       "      <td>27190046.584394</td>\n",
       "      <td>0.49949</td>\n",
       "      <td>0.50051</td>\n",
       "    </tr>\n",
       "  </tbody>\n",
       "</table>\n",
       "</div>"
      ],
      "text/plain": [
       "                    balanceA                balanceB  season        deltaB  \\\n",
       "2058   113429873739682.46875  110869454982437.921875    8135  -7660.251706   \n",
       "2059  113479980920701.953125  110918421551236.890625    8136  -7657.047186   \n",
       "2060  113530088101721.421875     110967388120035.875    8137  -7653.729622   \n",
       "2061   113580195282740.90625   111016354688834.84375    8138  -7624.518383   \n",
       "2062  113630324960715.421875   111065299270772.03125    8139 -13868.343960   \n",
       "\n",
       "       timestamp              diff_a              diff_b  diff_timestamp  \\\n",
       "2058  1667221211   50107181019.46875  48966568798.984375          3600.0   \n",
       "2059  1667224811  50107181019.484375   48966568798.96875          3600.0   \n",
       "2060  1667228411   50107181019.46875  48966568798.984375          3600.0   \n",
       "2061  1667232011  50107181019.484375   48966568798.96875          3600.0   \n",
       "2062  1667235611  50129677974.515625    48944581937.1875          3600.0   \n",
       "\n",
       "        reserves_3crv    reserves_bean  price_bean     pool_tvl_usd  \\\n",
       "2058  13918661.394297  13601824.666385    0.999449  27203972.183801   \n",
       "2059  13918661.394301   13601824.66638    0.999449  27203965.778284   \n",
       "2060  13918661.394297  13601824.666385    0.999450  27203986.365777   \n",
       "2061  13918661.394301   13601824.66638    0.999452   27203982.41322   \n",
       "2062  13924910.548477  13595717.204774    0.998930  27190046.584394   \n",
       "\n",
       "     bean_fraction 3crv_fraction  \n",
       "2058      0.499719      0.500281  \n",
       "2059      0.499719      0.500281  \n",
       "2060      0.499719      0.500281  \n",
       "2061       0.49972       0.50028  \n",
       "2062       0.49949       0.50051  "
      ]
     },
     "execution_count": 8,
     "metadata": {},
     "output_type": "execute_result"
    }
   ],
   "source": [
    "# Approximation of pool TVL in $, since we can't compute this exactly without the price of 3Crv \n",
    "df['pool_tvl_usd'] = 2 * df.price_bean * (df.reserves_bean - df.deltaB)\n",
    "df['bean_fraction'] = (df.price_bean * df.reserves_bean) / df.pool_tvl_usd\n",
    "df['3crv_fraction'] = 1 - df.bean_fraction\n",
    "df.tail()"
   ]
  },
  {
   "cell_type": "code",
   "execution_count": 9,
   "id": "1b67d8fa-2353-4b3d-9856-554aed114e8f",
   "metadata": {},
   "outputs": [],
   "source": [
    "df.timestamp = pd.to_datetime(df.timestamp, unit='s')\n",
    "id_cols = ['timestamp']\n",
    "value_cols = ['reserves_3crv', 'reserves_bean', 'deltaB', 'bean_fraction', '3crv_fraction', 'pool_tvl_usd']\n",
    "df = df[id_cols + value_cols]\n",
    "df = df.resample(\"D\", on=\"timestamp\").apply(lambda v: v.mean()).reset_index() \n",
    "df = wide_to_longwide(df, \"timestamp\", id_cols, value_cols)"
   ]
  },
  {
   "cell_type": "code",
   "execution_count": 10,
   "id": "e45c74d8-a64b-4903-ac55-4556624806b5",
   "metadata": {},
   "outputs": [
    {
     "data": {
      "text/html": [
       "<div>\n",
       "<style scoped>\n",
       "    .dataframe tbody tr th:only-of-type {\n",
       "        vertical-align: middle;\n",
       "    }\n",
       "\n",
       "    .dataframe tbody tr th {\n",
       "        vertical-align: top;\n",
       "    }\n",
       "\n",
       "    .dataframe thead th {\n",
       "        text-align: right;\n",
       "    }\n",
       "</style>\n",
       "<table border=\"1\" class=\"dataframe\">\n",
       "  <thead>\n",
       "    <tr style=\"text-align: right;\">\n",
       "      <th></th>\n",
       "      <th>timestamp</th>\n",
       "      <th>variable</th>\n",
       "      <th>value</th>\n",
       "      <th>reserves_3crv</th>\n",
       "      <th>reserves_bean</th>\n",
       "      <th>deltaB</th>\n",
       "      <th>bean_fraction</th>\n",
       "      <th>3crv_fraction</th>\n",
       "      <th>pool_tvl_usd</th>\n",
       "    </tr>\n",
       "  </thead>\n",
       "  <tbody>\n",
       "    <tr>\n",
       "      <th>517</th>\n",
       "      <td>2022-10-31</td>\n",
       "      <td>reserves_bean</td>\n",
       "      <td>1.361055e+07</td>\n",
       "      <td>1.392391e+07</td>\n",
       "      <td>1.361055e+07</td>\n",
       "      <td>-5837.357258</td>\n",
       "      <td>0.499786</td>\n",
       "      <td>0.500214</td>\n",
       "      <td>2.722310e+07</td>\n",
       "    </tr>\n",
       "    <tr>\n",
       "      <th>518</th>\n",
       "      <td>2022-10-31</td>\n",
       "      <td>deltaB</td>\n",
       "      <td>-5.837357e+03</td>\n",
       "      <td>1.392391e+07</td>\n",
       "      <td>1.361055e+07</td>\n",
       "      <td>-5837.357258</td>\n",
       "      <td>0.499786</td>\n",
       "      <td>0.500214</td>\n",
       "      <td>2.722310e+07</td>\n",
       "    </tr>\n",
       "    <tr>\n",
       "      <th>519</th>\n",
       "      <td>2022-10-31</td>\n",
       "      <td>bean_fraction</td>\n",
       "      <td>4.997858e-01</td>\n",
       "      <td>1.392391e+07</td>\n",
       "      <td>1.361055e+07</td>\n",
       "      <td>-5837.357258</td>\n",
       "      <td>0.499786</td>\n",
       "      <td>0.500214</td>\n",
       "      <td>2.722310e+07</td>\n",
       "    </tr>\n",
       "    <tr>\n",
       "      <th>520</th>\n",
       "      <td>2022-10-31</td>\n",
       "      <td>3crv_fraction</td>\n",
       "      <td>5.002142e-01</td>\n",
       "      <td>1.392391e+07</td>\n",
       "      <td>1.361055e+07</td>\n",
       "      <td>-5837.357258</td>\n",
       "      <td>0.499786</td>\n",
       "      <td>0.500214</td>\n",
       "      <td>2.722310e+07</td>\n",
       "    </tr>\n",
       "    <tr>\n",
       "      <th>521</th>\n",
       "      <td>2022-10-31</td>\n",
       "      <td>pool_tvl_usd</td>\n",
       "      <td>2.722310e+07</td>\n",
       "      <td>1.392391e+07</td>\n",
       "      <td>1.361055e+07</td>\n",
       "      <td>-5837.357258</td>\n",
       "      <td>0.499786</td>\n",
       "      <td>0.500214</td>\n",
       "      <td>2.722310e+07</td>\n",
       "    </tr>\n",
       "  </tbody>\n",
       "</table>\n",
       "</div>"
      ],
      "text/plain": [
       "     timestamp       variable         value  reserves_3crv  reserves_bean  \\\n",
       "517 2022-10-31  reserves_bean  1.361055e+07   1.392391e+07   1.361055e+07   \n",
       "518 2022-10-31         deltaB -5.837357e+03   1.392391e+07   1.361055e+07   \n",
       "519 2022-10-31  bean_fraction  4.997858e-01   1.392391e+07   1.361055e+07   \n",
       "520 2022-10-31  3crv_fraction  5.002142e-01   1.392391e+07   1.361055e+07   \n",
       "521 2022-10-31   pool_tvl_usd  2.722310e+07   1.392391e+07   1.361055e+07   \n",
       "\n",
       "          deltaB  bean_fraction  3crv_fraction  pool_tvl_usd  \n",
       "517 -5837.357258       0.499786       0.500214  2.722310e+07  \n",
       "518 -5837.357258       0.499786       0.500214  2.722310e+07  \n",
       "519 -5837.357258       0.499786       0.500214  2.722310e+07  \n",
       "520 -5837.357258       0.499786       0.500214  2.722310e+07  \n",
       "521 -5837.357258       0.499786       0.500214  2.722310e+07  "
      ]
     },
     "execution_count": 10,
     "metadata": {},
     "output_type": "execute_result"
    }
   ],
   "source": [
    "df.tail()"
   ]
  },
  {
   "cell_type": "code",
   "execution_count": 17,
   "id": "32d958c9-dbf2-410c-bf1e-891ef2189b97",
   "metadata": {},
   "outputs": [
    {
     "data": {
      "text/html": [
       "<style></style>"
      ],
      "text/plain": [
       "<IPython.core.display.HTML object>"
      ]
     },
     "metadata": {},
     "output_type": "display_data"
    },
    {
     "data": {
      "text/html": [
       "\n",
       "<div id=\"altair-viz-8f9c0dba13d2483ea4804a7a0470aee3\"></div>\n",
       "<script type=\"text/javascript\">\n",
       "  var VEGA_DEBUG = (typeof VEGA_DEBUG == \"undefined\") ? {} : VEGA_DEBUG;\n",
       "  (function(spec, embedOpt){\n",
       "    let outputDiv = document.currentScript.previousElementSibling;\n",
       "    if (outputDiv.id !== \"altair-viz-8f9c0dba13d2483ea4804a7a0470aee3\") {\n",
       "      outputDiv = document.getElementById(\"altair-viz-8f9c0dba13d2483ea4804a7a0470aee3\");\n",
       "    }\n",
       "    const paths = {\n",
       "      \"vega\": \"https://cdn.jsdelivr.net/npm//vega@5?noext\",\n",
       "      \"vega-lib\": \"https://cdn.jsdelivr.net/npm//vega-lib?noext\",\n",
       "      \"vega-lite\": \"https://cdn.jsdelivr.net/npm//vega-lite@4.17.0?noext\",\n",
       "      \"vega-embed\": \"https://cdn.jsdelivr.net/npm//vega-embed@6?noext\",\n",
       "    };\n",
       "\n",
       "    function maybeLoadScript(lib, version) {\n",
       "      var key = `${lib.replace(\"-\", \"\")}_version`;\n",
       "      return (VEGA_DEBUG[key] == version) ?\n",
       "        Promise.resolve(paths[lib]) :\n",
       "        new Promise(function(resolve, reject) {\n",
       "          var s = document.createElement('script');\n",
       "          document.getElementsByTagName(\"head\")[0].appendChild(s);\n",
       "          s.async = true;\n",
       "          s.onload = () => {\n",
       "            VEGA_DEBUG[key] = version;\n",
       "            return resolve(paths[lib]);\n",
       "          };\n",
       "          s.onerror = () => reject(`Error loading script: ${paths[lib]}`);\n",
       "          s.src = paths[lib];\n",
       "        });\n",
       "    }\n",
       "\n",
       "    function showError(err) {\n",
       "      outputDiv.innerHTML = `<div class=\"error\" style=\"color:red;\">${err}</div>`;\n",
       "      throw err;\n",
       "    }\n",
       "\n",
       "    function displayChart(vegaEmbed) {\n",
       "      vegaEmbed(outputDiv, spec, embedOpt)\n",
       "        .catch(err => showError(`Javascript Error: ${err.message}<br>This usually means there's a typo in your chart specification. See the javascript console for the full traceback.`));\n",
       "    }\n",
       "\n",
       "    if(typeof define === \"function\" && define.amd) {\n",
       "      requirejs.config({paths});\n",
       "      require([\"vega-embed\"], displayChart, err => showError(`Error loading script: ${err.message}`));\n",
       "    } else {\n",
       "      maybeLoadScript(\"vega\", \"5\")\n",
       "        .then(() => maybeLoadScript(\"vega-lite\", \"4.17.0\"))\n",
       "        .then(() => maybeLoadScript(\"vega-embed\", \"6\"))\n",
       "        .catch(showError)\n",
       "        .then(() => displayChart(vegaEmbed));\n",
       "    }\n",
       "  })({\"config\": {\"view\": {\"continuousWidth\": 400, \"continuousHeight\": 300}}, \"vconcat\": [{\"hconcat\": [{\"layer\": [{\"mark\": \"line\", \"encoding\": {\"color\": {\"field\": \"variable\", \"legend\": {\"title\": null}, \"scale\": {\"domain\": [\"reserves_3crv\", \"reserves_bean\", \"bean_fraction\", \"3crv_fraction\", \"deltaB\", \"pool_tvl_usd\"], \"range\": [\"#1F77B4\", \"#FF7F0E\", \"#2CA02C\", \"#D62728\", \"#E377C2\", \"#BCBD22\"]}, \"type\": \"nominal\"}, \"order\": {\"field\": \"stack_order\", \"sort\": \"ascending\", \"type\": \"quantitative\"}, \"x\": {\"axis\": {\"formatType\": \"time\", \"labelAngle\": 0, \"labelExpr\": \"timeFormat(toDate(datum.value), '%b %e, %Y')\", \"labelOverlap\": true, \"labelPadding\": 5, \"labelSeparation\": 50, \"ticks\": false, \"title\": \"Date\"}, \"field\": \"timestamp\", \"type\": \"ordinal\"}, \"y\": {\"axis\": {\"format\": \".2~s\", \"title\": \"Reserves\"}, \"field\": \"value\", \"scale\": {\"domainMin\": 12000000.0}, \"type\": \"quantitative\"}}, \"title\": \"Bean:3Crv Pool Reserves\", \"transform\": [{\"calculate\": \"datum['variable'] === 'reserves_3crv' ? 0 :  datum['variable'] === 'reserves_bean' ? 1 :  datum['variable'] === 'bean_fraction' ? 2 :  datum['variable'] === '3crv_fraction' ? 3 :  datum['variable'] === 'deltaB' ? 4 :  datum['variable'] === 'pool_tvl_usd' ? 5 : 6\", \"as\": \"stack_order\"}, {\"filter\": \"datum['variable'] == 'reserves_3crv' | datum['variable'] == 'reserves_bean'\"}], \"width\": 450}, {\"mark\": {\"type\": \"rule\", \"color\": \"#474440\", \"opacity\": 1, \"strokeDash\": [2.5, 1]}, \"encoding\": {\"x\": {\"axis\": {\"formatType\": \"time\", \"labelAngle\": 0, \"labelExpr\": \"timeFormat(toDate(datum.value), '%b %e, %Y')\", \"labelOverlap\": true, \"labelPadding\": 5, \"labelSeparation\": 50, \"ticks\": false, \"title\": \"Date\"}, \"field\": \"timestamp\", \"type\": \"ordinal\"}}, \"title\": \"Bean:3Crv Pool Reserves\", \"transform\": [{\"calculate\": \"datum['variable'] === 'reserves_3crv' ? 0 :  datum['variable'] === 'reserves_bean' ? 1 :  datum['variable'] === 'bean_fraction' ? 2 :  datum['variable'] === '3crv_fraction' ? 3 :  datum['variable'] === 'deltaB' ? 4 :  datum['variable'] === 'pool_tvl_usd' ? 5 : 6\", \"as\": \"stack_order\"}, {\"pivot\": \"variable\", \"value\": \"value\", \"groupby\": [\"timestamp\"]}, {\"filter\": \"\\n            year(datum['timestamp']) === 2022 && \\n            month(datum['timestamp']) === 3 && \\n            date(datum['timestamp']) === 17 \\n        \"}], \"width\": 450}, {\"mark\": {\"type\": \"rule\", \"color\": \"#878787\"}, \"encoding\": {\"opacity\": {\"condition\": {\"value\": 1, \"selection\": \"selector005\"}, \"value\": 0}, \"tooltip\": [{\"field\": \"timestamp\", \"timeUnit\": \"yearmonthdate\", \"title\": \"date\", \"type\": \"ordinal\"}, {\"field\": \"reserves_3crv\", \"format\": \",d\", \"type\": \"quantitative\"}, {\"field\": \"reserves_bean\", \"format\": \",d\", \"type\": \"quantitative\"}, {\"field\": \"bean_fraction\", \"format\": \".1%\", \"type\": \"quantitative\"}, {\"field\": \"3crv_fraction\", \"format\": \".1%\", \"type\": \"quantitative\"}, {\"field\": \"deltaB\", \"format\": \",d\", \"type\": \"quantitative\"}, {\"field\": \"pool_tvl_usd\", \"format\": \"$,d\", \"type\": \"quantitative\"}], \"x\": {\"axis\": {\"formatType\": \"time\", \"labelAngle\": 0, \"labelExpr\": \"timeFormat(toDate(datum.value), '%b %e, %Y')\", \"labelOverlap\": true, \"labelPadding\": 5, \"labelSeparation\": 50, \"ticks\": false, \"title\": \"Date\"}, \"field\": \"timestamp\", \"type\": \"ordinal\"}}, \"selection\": {\"selector005\": {\"type\": \"single\", \"fields\": [\"timestamp\"], \"nearest\": true, \"on\": \"mouseover\", \"empty\": \"none\", \"clear\": \"mouseout\"}}, \"title\": \"Bean:3Crv Pool Reserves\", \"transform\": [{\"calculate\": \"datum['variable'] === 'reserves_3crv' ? 0 :  datum['variable'] === 'reserves_bean' ? 1 :  datum['variable'] === 'bean_fraction' ? 2 :  datum['variable'] === '3crv_fraction' ? 3 :  datum['variable'] === 'deltaB' ? 4 :  datum['variable'] === 'pool_tvl_usd' ? 5 : 6\", \"as\": \"stack_order\"}, {\"pivot\": \"variable\", \"value\": \"value\", \"groupby\": [\"timestamp\"]}], \"width\": 450}]}, {\"layer\": [{\"mark\": \"line\", \"encoding\": {\"color\": {\"field\": \"variable\", \"legend\": {\"title\": null}, \"scale\": {\"domain\": [\"reserves_3crv\", \"reserves_bean\", \"bean_fraction\", \"3crv_fraction\", \"deltaB\", \"pool_tvl_usd\"], \"range\": [\"#1F77B4\", \"#FF7F0E\", \"#2CA02C\", \"#D62728\", \"#E377C2\", \"#BCBD22\"]}, \"type\": \"nominal\"}, \"order\": {\"field\": \"stack_order\", \"sort\": \"ascending\", \"type\": \"quantitative\"}, \"x\": {\"axis\": {\"formatType\": \"time\", \"labelAngle\": 0, \"labelExpr\": \"timeFormat(toDate(datum.value), '%b %e, %Y')\", \"labelOverlap\": true, \"labelPadding\": 5, \"labelSeparation\": 50, \"ticks\": false, \"title\": \"Date\"}, \"field\": \"timestamp\", \"type\": \"ordinal\"}, \"y\": {\"axis\": {\"format\": \"%\", \"title\": \"Balance Ratio\"}, \"field\": \"value\", \"scale\": {\"domainMax\": 0.55, \"domainMin\": 0.45}, \"type\": \"quantitative\"}}, \"title\": \"Bean:3Crv Pool Balance\", \"transform\": [{\"calculate\": \"datum['variable'] === 'reserves_3crv' ? 0 :  datum['variable'] === 'reserves_bean' ? 1 :  datum['variable'] === 'bean_fraction' ? 2 :  datum['variable'] === '3crv_fraction' ? 3 :  datum['variable'] === 'deltaB' ? 4 :  datum['variable'] === 'pool_tvl_usd' ? 5 : 6\", \"as\": \"stack_order\"}, {\"filter\": \"datum['variable'] == 'bean_fraction' | datum['variable'] == '3crv_fraction'\"}], \"width\": 450}, {\"mark\": {\"type\": \"rule\", \"color\": \"#474440\", \"opacity\": 1, \"strokeDash\": [2.5, 1]}, \"encoding\": {\"x\": {\"axis\": {\"formatType\": \"time\", \"labelAngle\": 0, \"labelExpr\": \"timeFormat(toDate(datum.value), '%b %e, %Y')\", \"labelOverlap\": true, \"labelPadding\": 5, \"labelSeparation\": 50, \"ticks\": false, \"title\": \"Date\"}, \"field\": \"timestamp\", \"type\": \"ordinal\"}}, \"title\": \"Bean:3Crv Pool Balance\", \"transform\": [{\"calculate\": \"datum['variable'] === 'reserves_3crv' ? 0 :  datum['variable'] === 'reserves_bean' ? 1 :  datum['variable'] === 'bean_fraction' ? 2 :  datum['variable'] === '3crv_fraction' ? 3 :  datum['variable'] === 'deltaB' ? 4 :  datum['variable'] === 'pool_tvl_usd' ? 5 : 6\", \"as\": \"stack_order\"}, {\"pivot\": \"variable\", \"value\": \"value\", \"groupby\": [\"timestamp\"]}, {\"filter\": \"\\n            year(datum['timestamp']) === 2022 && \\n            month(datum['timestamp']) === 3 && \\n            date(datum['timestamp']) === 17 \\n        \"}], \"width\": 450}, {\"mark\": {\"type\": \"rule\", \"color\": \"#878787\"}, \"encoding\": {\"opacity\": {\"condition\": {\"value\": 1, \"selection\": \"selector005\"}, \"value\": 0}, \"tooltip\": [{\"field\": \"timestamp\", \"timeUnit\": \"yearmonthdate\", \"title\": \"date\", \"type\": \"ordinal\"}, {\"field\": \"reserves_3crv\", \"format\": \",d\", \"type\": \"quantitative\"}, {\"field\": \"reserves_bean\", \"format\": \",d\", \"type\": \"quantitative\"}, {\"field\": \"bean_fraction\", \"format\": \".1%\", \"type\": \"quantitative\"}, {\"field\": \"3crv_fraction\", \"format\": \".1%\", \"type\": \"quantitative\"}, {\"field\": \"deltaB\", \"format\": \",d\", \"type\": \"quantitative\"}, {\"field\": \"pool_tvl_usd\", \"format\": \"$,d\", \"type\": \"quantitative\"}], \"x\": {\"axis\": {\"formatType\": \"time\", \"labelAngle\": 0, \"labelExpr\": \"timeFormat(toDate(datum.value), '%b %e, %Y')\", \"labelOverlap\": true, \"labelPadding\": 5, \"labelSeparation\": 50, \"ticks\": false, \"title\": \"Date\"}, \"field\": \"timestamp\", \"type\": \"ordinal\"}}, \"selection\": {\"selector005\": {\"type\": \"single\", \"fields\": [\"timestamp\"], \"nearest\": true, \"on\": \"mouseover\", \"empty\": \"none\", \"clear\": \"mouseout\"}}, \"title\": \"Bean:3Crv Pool Balance\", \"transform\": [{\"calculate\": \"datum['variable'] === 'reserves_3crv' ? 0 :  datum['variable'] === 'reserves_bean' ? 1 :  datum['variable'] === 'bean_fraction' ? 2 :  datum['variable'] === '3crv_fraction' ? 3 :  datum['variable'] === 'deltaB' ? 4 :  datum['variable'] === 'pool_tvl_usd' ? 5 : 6\", \"as\": \"stack_order\"}, {\"pivot\": \"variable\", \"value\": \"value\", \"groupby\": [\"timestamp\"]}], \"width\": 450}]}]}, {\"hconcat\": [{\"layer\": [{\"mark\": \"line\", \"encoding\": {\"color\": {\"field\": \"variable\", \"legend\": {\"title\": null}, \"scale\": {\"domain\": [\"reserves_3crv\", \"reserves_bean\", \"bean_fraction\", \"3crv_fraction\", \"deltaB\", \"pool_tvl_usd\"], \"range\": [\"#1F77B4\", \"#FF7F0E\", \"#2CA02C\", \"#D62728\", \"#E377C2\", \"#BCBD22\"]}, \"type\": \"nominal\"}, \"order\": {\"field\": \"stack_order\", \"sort\": \"ascending\", \"type\": \"quantitative\"}, \"x\": {\"axis\": {\"formatType\": \"time\", \"labelAngle\": 0, \"labelExpr\": \"timeFormat(toDate(datum.value), '%b %e, %Y')\", \"labelOverlap\": true, \"labelPadding\": 5, \"labelSeparation\": 50, \"ticks\": false, \"title\": \"Date\"}, \"field\": \"timestamp\", \"type\": \"ordinal\"}, \"y\": {\"axis\": {\"format\": \".2~s\", \"title\": \"DeltaB\"}, \"field\": \"value\", \"type\": \"quantitative\"}}, \"title\": \"Bean:3Crv Pool DeltaB\", \"transform\": [{\"calculate\": \"datum['variable'] === 'reserves_3crv' ? 0 :  datum['variable'] === 'reserves_bean' ? 1 :  datum['variable'] === 'bean_fraction' ? 2 :  datum['variable'] === '3crv_fraction' ? 3 :  datum['variable'] === 'deltaB' ? 4 :  datum['variable'] === 'pool_tvl_usd' ? 5 : 6\", \"as\": \"stack_order\"}, {\"filter\": \"datum['variable'] == 'deltaB'\"}], \"width\": 450}, {\"mark\": {\"type\": \"rule\", \"color\": \"#474440\", \"opacity\": 1, \"strokeDash\": [2.5, 1]}, \"encoding\": {\"x\": {\"axis\": {\"formatType\": \"time\", \"labelAngle\": 0, \"labelExpr\": \"timeFormat(toDate(datum.value), '%b %e, %Y')\", \"labelOverlap\": true, \"labelPadding\": 5, \"labelSeparation\": 50, \"ticks\": false, \"title\": \"Date\"}, \"field\": \"timestamp\", \"type\": \"ordinal\"}}, \"title\": \"Bean:3Crv Pool DeltaB\", \"transform\": [{\"calculate\": \"datum['variable'] === 'reserves_3crv' ? 0 :  datum['variable'] === 'reserves_bean' ? 1 :  datum['variable'] === 'bean_fraction' ? 2 :  datum['variable'] === '3crv_fraction' ? 3 :  datum['variable'] === 'deltaB' ? 4 :  datum['variable'] === 'pool_tvl_usd' ? 5 : 6\", \"as\": \"stack_order\"}, {\"pivot\": \"variable\", \"value\": \"value\", \"groupby\": [\"timestamp\"]}, {\"filter\": \"\\n            year(datum['timestamp']) === 2022 && \\n            month(datum['timestamp']) === 3 && \\n            date(datum['timestamp']) === 17 \\n        \"}], \"width\": 450}, {\"mark\": {\"type\": \"rule\", \"color\": \"#878787\"}, \"encoding\": {\"opacity\": {\"condition\": {\"value\": 1, \"selection\": \"selector005\"}, \"value\": 0}, \"tooltip\": [{\"field\": \"timestamp\", \"timeUnit\": \"yearmonthdate\", \"title\": \"date\", \"type\": \"ordinal\"}, {\"field\": \"reserves_3crv\", \"format\": \",d\", \"type\": \"quantitative\"}, {\"field\": \"reserves_bean\", \"format\": \",d\", \"type\": \"quantitative\"}, {\"field\": \"bean_fraction\", \"format\": \".1%\", \"type\": \"quantitative\"}, {\"field\": \"3crv_fraction\", \"format\": \".1%\", \"type\": \"quantitative\"}, {\"field\": \"deltaB\", \"format\": \",d\", \"type\": \"quantitative\"}, {\"field\": \"pool_tvl_usd\", \"format\": \"$,d\", \"type\": \"quantitative\"}], \"x\": {\"axis\": {\"formatType\": \"time\", \"labelAngle\": 0, \"labelExpr\": \"timeFormat(toDate(datum.value), '%b %e, %Y')\", \"labelOverlap\": true, \"labelPadding\": 5, \"labelSeparation\": 50, \"ticks\": false, \"title\": \"Date\"}, \"field\": \"timestamp\", \"type\": \"ordinal\"}}, \"selection\": {\"selector005\": {\"type\": \"single\", \"fields\": [\"timestamp\"], \"nearest\": true, \"on\": \"mouseover\", \"empty\": \"none\", \"clear\": \"mouseout\"}}, \"title\": \"Bean:3Crv Pool DeltaB\", \"transform\": [{\"calculate\": \"datum['variable'] === 'reserves_3crv' ? 0 :  datum['variable'] === 'reserves_bean' ? 1 :  datum['variable'] === 'bean_fraction' ? 2 :  datum['variable'] === '3crv_fraction' ? 3 :  datum['variable'] === 'deltaB' ? 4 :  datum['variable'] === 'pool_tvl_usd' ? 5 : 6\", \"as\": \"stack_order\"}, {\"pivot\": \"variable\", \"value\": \"value\", \"groupby\": [\"timestamp\"]}], \"width\": 450}]}, {\"layer\": [{\"mark\": \"line\", \"encoding\": {\"color\": {\"field\": \"variable\", \"legend\": {\"title\": null}, \"scale\": {\"domain\": [\"reserves_3crv\", \"reserves_bean\", \"bean_fraction\", \"3crv_fraction\", \"deltaB\", \"pool_tvl_usd\"], \"range\": [\"#1F77B4\", \"#FF7F0E\", \"#2CA02C\", \"#D62728\", \"#E377C2\", \"#BCBD22\"]}, \"type\": \"nominal\"}, \"order\": {\"field\": \"stack_order\", \"sort\": \"ascending\", \"type\": \"quantitative\"}, \"x\": {\"axis\": {\"formatType\": \"time\", \"labelAngle\": 0, \"labelExpr\": \"timeFormat(toDate(datum.value), '%b %e, %Y')\", \"labelOverlap\": true, \"labelPadding\": 5, \"labelSeparation\": 50, \"ticks\": false, \"title\": \"Date\"}, \"field\": \"timestamp\", \"type\": \"ordinal\"}, \"y\": {\"axis\": {\"format\": \"$.2~s\", \"title\": \"Pool TVL\"}, \"field\": \"value\", \"type\": \"quantitative\"}}, \"title\": \"Bean:3Crv Pool TVL\", \"transform\": [{\"calculate\": \"datum['variable'] === 'reserves_3crv' ? 0 :  datum['variable'] === 'reserves_bean' ? 1 :  datum['variable'] === 'bean_fraction' ? 2 :  datum['variable'] === '3crv_fraction' ? 3 :  datum['variable'] === 'deltaB' ? 4 :  datum['variable'] === 'pool_tvl_usd' ? 5 : 6\", \"as\": \"stack_order\"}, {\"filter\": \"datum['variable'] == 'pool_tvl_usd'\"}], \"width\": 450}, {\"mark\": {\"type\": \"rule\", \"color\": \"#474440\", \"opacity\": 1, \"strokeDash\": [2.5, 1]}, \"encoding\": {\"x\": {\"axis\": {\"formatType\": \"time\", \"labelAngle\": 0, \"labelExpr\": \"timeFormat(toDate(datum.value), '%b %e, %Y')\", \"labelOverlap\": true, \"labelPadding\": 5, \"labelSeparation\": 50, \"ticks\": false, \"title\": \"Date\"}, \"field\": \"timestamp\", \"type\": \"ordinal\"}}, \"title\": \"Bean:3Crv Pool TVL\", \"transform\": [{\"calculate\": \"datum['variable'] === 'reserves_3crv' ? 0 :  datum['variable'] === 'reserves_bean' ? 1 :  datum['variable'] === 'bean_fraction' ? 2 :  datum['variable'] === '3crv_fraction' ? 3 :  datum['variable'] === 'deltaB' ? 4 :  datum['variable'] === 'pool_tvl_usd' ? 5 : 6\", \"as\": \"stack_order\"}, {\"pivot\": \"variable\", \"value\": \"value\", \"groupby\": [\"timestamp\"]}, {\"filter\": \"\\n            year(datum['timestamp']) === 2022 && \\n            month(datum['timestamp']) === 3 && \\n            date(datum['timestamp']) === 17 \\n        \"}], \"width\": 450}, {\"mark\": {\"type\": \"rule\", \"color\": \"#878787\"}, \"encoding\": {\"opacity\": {\"condition\": {\"value\": 1, \"selection\": \"selector005\"}, \"value\": 0}, \"tooltip\": [{\"field\": \"timestamp\", \"timeUnit\": \"yearmonthdate\", \"title\": \"date\", \"type\": \"ordinal\"}, {\"field\": \"reserves_3crv\", \"format\": \",d\", \"type\": \"quantitative\"}, {\"field\": \"reserves_bean\", \"format\": \",d\", \"type\": \"quantitative\"}, {\"field\": \"bean_fraction\", \"format\": \".1%\", \"type\": \"quantitative\"}, {\"field\": \"3crv_fraction\", \"format\": \".1%\", \"type\": \"quantitative\"}, {\"field\": \"deltaB\", \"format\": \",d\", \"type\": \"quantitative\"}, {\"field\": \"pool_tvl_usd\", \"format\": \"$,d\", \"type\": \"quantitative\"}], \"x\": {\"axis\": {\"formatType\": \"time\", \"labelAngle\": 0, \"labelExpr\": \"timeFormat(toDate(datum.value), '%b %e, %Y')\", \"labelOverlap\": true, \"labelPadding\": 5, \"labelSeparation\": 50, \"ticks\": false, \"title\": \"Date\"}, \"field\": \"timestamp\", \"type\": \"ordinal\"}}, \"selection\": {\"selector005\": {\"type\": \"single\", \"fields\": [\"timestamp\"], \"nearest\": true, \"on\": \"mouseover\", \"empty\": \"none\", \"clear\": \"mouseout\"}}, \"title\": \"Bean:3Crv Pool TVL\", \"transform\": [{\"calculate\": \"datum['variable'] === 'reserves_3crv' ? 0 :  datum['variable'] === 'reserves_bean' ? 1 :  datum['variable'] === 'bean_fraction' ? 2 :  datum['variable'] === '3crv_fraction' ? 3 :  datum['variable'] === 'deltaB' ? 4 :  datum['variable'] === 'pool_tvl_usd' ? 5 : 6\", \"as\": \"stack_order\"}, {\"pivot\": \"variable\", \"value\": \"value\", \"groupby\": [\"timestamp\"]}], \"width\": 450}]}]}], \"data\": {\"name\": \"data-bc011a7e2842f0912e8ef8ccf7a8cd0a\"}, \"resolve\": {\"axis\": {\"y\": \"independent\"}, \"scale\": {\"y\": \"independent\"}}, \"$schema\": \"https://vega.github.io/schema/vega-lite/v4.17.0.json\", \"datasets\": {\"data-bc011a7e2842f0912e8ef8ccf7a8cd0a\": [{\"timestamp\": \"2022-08-06T00:00:00\", \"variable\": \"reserves_3crv\", \"value\": 13275982.36875922, \"reserves_3crv\": 13275982.36875922, \"reserves_bean\": 14474525.6594212, \"deltaB\": 746992.283424, \"bean_fraction\": 0.5271937891571308, \"3crv_fraction\": 0.4728062108428692, \"pool_tvl_usd\": 29003707.56927822}, {\"timestamp\": \"2022-08-06T00:00:00\", \"variable\": \"reserves_bean\", \"value\": 14474525.6594212, \"reserves_3crv\": 13275982.36875922, \"reserves_bean\": 14474525.6594212, \"deltaB\": 746992.283424, \"bean_fraction\": 0.5271937891571308, \"3crv_fraction\": 0.4728062108428692, \"pool_tvl_usd\": 29003707.56927822}, {\"timestamp\": \"2022-08-06T00:00:00\", \"variable\": \"deltaB\", \"value\": 746992.283424, \"reserves_3crv\": 13275982.36875922, \"reserves_bean\": 14474525.6594212, \"deltaB\": 746992.283424, \"bean_fraction\": 0.5271937891571308, \"3crv_fraction\": 0.4728062108428692, \"pool_tvl_usd\": 29003707.56927822}, {\"timestamp\": \"2022-08-06T00:00:00\", \"variable\": \"bean_fraction\", \"value\": 0.5271937891571308, \"reserves_3crv\": 13275982.36875922, \"reserves_bean\": 14474525.6594212, \"deltaB\": 746992.283424, \"bean_fraction\": 0.5271937891571308, \"3crv_fraction\": 0.4728062108428692, \"pool_tvl_usd\": 29003707.56927822}, {\"timestamp\": \"2022-08-06T00:00:00\", \"variable\": \"3crv_fraction\", \"value\": 0.4728062108428692, \"reserves_3crv\": 13275982.36875922, \"reserves_bean\": 14474525.6594212, \"deltaB\": 746992.283424, \"bean_fraction\": 0.5271937891571308, \"3crv_fraction\": 0.4728062108428692, \"pool_tvl_usd\": 29003707.56927822}, {\"timestamp\": \"2022-08-06T00:00:00\", \"variable\": \"pool_tvl_usd\", \"value\": 29003707.56927822, \"reserves_3crv\": 13275982.36875922, \"reserves_bean\": 14474525.6594212, \"deltaB\": 746992.283424, \"bean_fraction\": 0.5271937891571308, \"3crv_fraction\": 0.4728062108428692, \"pool_tvl_usd\": 29003707.56927822}, {\"timestamp\": \"2022-08-07T00:00:00\", \"variable\": \"reserves_3crv\", \"value\": 15208811.718709372, \"reserves_3crv\": 15208811.718709372, \"reserves_bean\": 17324856.66241992, \"deltaB\": 1218376.0432190418, \"bean_fraction\": 0.537793620712749, \"3crv_fraction\": 0.46220637928725106, \"pool_tvl_usd\": 34686175.49470173}, {\"timestamp\": \"2022-08-07T00:00:00\", \"variable\": \"reserves_bean\", \"value\": 17324856.66241992, \"reserves_3crv\": 15208811.718709372, \"reserves_bean\": 17324856.66241992, \"deltaB\": 1218376.0432190418, \"bean_fraction\": 0.537793620712749, \"3crv_fraction\": 0.46220637928725106, \"pool_tvl_usd\": 34686175.49470173}, {\"timestamp\": \"2022-08-07T00:00:00\", \"variable\": \"deltaB\", \"value\": 1218376.0432190418, \"reserves_3crv\": 15208811.718709372, \"reserves_bean\": 17324856.66241992, \"deltaB\": 1218376.0432190418, \"bean_fraction\": 0.537793620712749, \"3crv_fraction\": 0.46220637928725106, \"pool_tvl_usd\": 34686175.49470173}, {\"timestamp\": \"2022-08-07T00:00:00\", \"variable\": \"bean_fraction\", \"value\": 0.537793620712749, \"reserves_3crv\": 15208811.718709372, \"reserves_bean\": 17324856.66241992, \"deltaB\": 1218376.0432190418, \"bean_fraction\": 0.537793620712749, \"3crv_fraction\": 0.46220637928725106, \"pool_tvl_usd\": 34686175.49470173}, {\"timestamp\": \"2022-08-07T00:00:00\", \"variable\": \"3crv_fraction\", \"value\": 0.46220637928725106, \"reserves_3crv\": 15208811.718709372, \"reserves_bean\": 17324856.66241992, \"deltaB\": 1218376.0432190418, \"bean_fraction\": 0.537793620712749, \"3crv_fraction\": 0.46220637928725106, \"pool_tvl_usd\": 34686175.49470173}, {\"timestamp\": \"2022-08-07T00:00:00\", \"variable\": \"pool_tvl_usd\", \"value\": 34686175.49470173, \"reserves_3crv\": 15208811.718709372, \"reserves_bean\": 17324856.66241992, \"deltaB\": 1218376.0432190418, \"bean_fraction\": 0.537793620712749, \"3crv_fraction\": 0.46220637928725106, \"pool_tvl_usd\": 34686175.49470173}, {\"timestamp\": \"2022-08-08T00:00:00\", \"variable\": \"reserves_3crv\", \"value\": 19386072.03455328, \"reserves_3crv\": 19386072.03455328, \"reserves_bean\": 19015760.970274188, \"deltaB\": 22324.22944579167, \"bean_fraction\": 0.5005779892155106, \"3crv_fraction\": 0.4994220107844894, \"pool_tvl_usd\": 38027091.63153944}, {\"timestamp\": \"2022-08-08T00:00:00\", \"variable\": \"reserves_bean\", \"value\": 19015760.970274188, \"reserves_3crv\": 19386072.03455328, \"reserves_bean\": 19015760.970274188, \"deltaB\": 22324.22944579167, \"bean_fraction\": 0.5005779892155106, \"3crv_fraction\": 0.4994220107844894, \"pool_tvl_usd\": 38027091.63153944}, {\"timestamp\": \"2022-08-08T00:00:00\", \"variable\": \"deltaB\", \"value\": 22324.22944579167, \"reserves_3crv\": 19386072.03455328, \"reserves_bean\": 19015760.970274188, \"deltaB\": 22324.22944579167, \"bean_fraction\": 0.5005779892155106, \"3crv_fraction\": 0.4994220107844894, \"pool_tvl_usd\": 38027091.63153944}, {\"timestamp\": \"2022-08-08T00:00:00\", \"variable\": \"bean_fraction\", \"value\": 0.5005779892155106, \"reserves_3crv\": 19386072.03455328, \"reserves_bean\": 19015760.970274188, \"deltaB\": 22324.22944579167, \"bean_fraction\": 0.5005779892155106, \"3crv_fraction\": 0.4994220107844894, \"pool_tvl_usd\": 38027091.63153944}, {\"timestamp\": \"2022-08-08T00:00:00\", \"variable\": \"3crv_fraction\", \"value\": 0.4994220107844894, \"reserves_3crv\": 19386072.03455328, \"reserves_bean\": 19015760.970274188, \"deltaB\": 22324.22944579167, \"bean_fraction\": 0.5005779892155106, \"3crv_fraction\": 0.4994220107844894, \"pool_tvl_usd\": 38027091.63153944}, {\"timestamp\": \"2022-08-08T00:00:00\", \"variable\": \"pool_tvl_usd\", \"value\": 38027091.63153944, \"reserves_3crv\": 19386072.03455328, \"reserves_bean\": 19015760.970274188, \"deltaB\": 22324.22944579167, \"bean_fraction\": 0.5005779892155106, \"3crv_fraction\": 0.4994220107844894, \"pool_tvl_usd\": 38027091.63153944}, {\"timestamp\": \"2022-08-09T00:00:00\", \"variable\": \"reserves_3crv\", \"value\": 18968703.800559256, \"reserves_3crv\": 18968703.800559256, \"reserves_bean\": 18423609.06496451, \"deltaB\": -71540.85962095833, \"bean_fraction\": 0.4980112874924422, \"3crv_fraction\": 0.5019887125075578, \"pool_tvl_usd\": 36872225.37800511}, {\"timestamp\": \"2022-08-09T00:00:00\", \"variable\": \"reserves_bean\", \"value\": 18423609.06496451, \"reserves_3crv\": 18968703.800559256, \"reserves_bean\": 18423609.06496451, \"deltaB\": -71540.85962095833, \"bean_fraction\": 0.4980112874924422, \"3crv_fraction\": 0.5019887125075578, \"pool_tvl_usd\": 36872225.37800511}, {\"timestamp\": \"2022-08-09T00:00:00\", \"variable\": \"deltaB\", \"value\": -71540.85962095833, \"reserves_3crv\": 18968703.800559256, \"reserves_bean\": 18423609.06496451, \"deltaB\": -71540.85962095833, \"bean_fraction\": 0.4980112874924422, \"3crv_fraction\": 0.5019887125075578, \"pool_tvl_usd\": 36872225.37800511}, {\"timestamp\": \"2022-08-09T00:00:00\", \"variable\": \"bean_fraction\", \"value\": 0.4980112874924422, \"reserves_3crv\": 18968703.800559256, \"reserves_bean\": 18423609.06496451, \"deltaB\": -71540.85962095833, \"bean_fraction\": 0.4980112874924422, \"3crv_fraction\": 0.5019887125075578, \"pool_tvl_usd\": 36872225.37800511}, {\"timestamp\": \"2022-08-09T00:00:00\", \"variable\": \"3crv_fraction\", \"value\": 0.5019887125075578, \"reserves_3crv\": 18968703.800559256, \"reserves_bean\": 18423609.06496451, \"deltaB\": -71540.85962095833, \"bean_fraction\": 0.4980112874924422, \"3crv_fraction\": 0.5019887125075578, \"pool_tvl_usd\": 36872225.37800511}, {\"timestamp\": \"2022-08-09T00:00:00\", \"variable\": \"pool_tvl_usd\", \"value\": 36872225.37800511, \"reserves_3crv\": 18968703.800559256, \"reserves_bean\": 18423609.06496451, \"deltaB\": -71540.85962095833, \"bean_fraction\": 0.4980112874924422, \"3crv_fraction\": 0.5019887125075578, \"pool_tvl_usd\": 36872225.37800511}, {\"timestamp\": \"2022-08-10T00:00:00\", \"variable\": \"reserves_3crv\", \"value\": 18094685.842086893, \"reserves_3crv\": 18094685.842086893, \"reserves_bean\": 17713207.904565103, \"deltaB\": 2753.2673665416664, \"bean_fraction\": 0.5000778030199938, \"3crv_fraction\": 0.4999221969800061, \"pool_tvl_usd\": 35427414.72054697}, {\"timestamp\": \"2022-08-10T00:00:00\", \"variable\": \"reserves_bean\", \"value\": 17713207.904565103, \"reserves_3crv\": 18094685.842086893, \"reserves_bean\": 17713207.904565103, \"deltaB\": 2753.2673665416664, \"bean_fraction\": 0.5000778030199938, \"3crv_fraction\": 0.4999221969800061, \"pool_tvl_usd\": 35427414.72054697}, {\"timestamp\": \"2022-08-10T00:00:00\", \"variable\": \"deltaB\", \"value\": 2753.2673665416664, \"reserves_3crv\": 18094685.842086893, \"reserves_bean\": 17713207.904565103, \"deltaB\": 2753.2673665416664, \"bean_fraction\": 0.5000778030199938, \"3crv_fraction\": 0.4999221969800061, \"pool_tvl_usd\": 35427414.72054697}, {\"timestamp\": \"2022-08-10T00:00:00\", \"variable\": \"bean_fraction\", \"value\": 0.5000778030199938, \"reserves_3crv\": 18094685.842086893, \"reserves_bean\": 17713207.904565103, \"deltaB\": 2753.2673665416664, \"bean_fraction\": 0.5000778030199938, \"3crv_fraction\": 0.4999221969800061, \"pool_tvl_usd\": 35427414.72054697}, {\"timestamp\": \"2022-08-10T00:00:00\", \"variable\": \"3crv_fraction\", \"value\": 0.4999221969800061, \"reserves_3crv\": 18094685.842086893, \"reserves_bean\": 17713207.904565103, \"deltaB\": 2753.2673665416664, \"bean_fraction\": 0.5000778030199938, \"3crv_fraction\": 0.4999221969800061, \"pool_tvl_usd\": 35427414.72054697}, {\"timestamp\": \"2022-08-10T00:00:00\", \"variable\": \"pool_tvl_usd\", \"value\": 35427414.72054697, \"reserves_3crv\": 18094685.842086893, \"reserves_bean\": 17713207.904565103, \"deltaB\": 2753.2673665416664, \"bean_fraction\": 0.5000778030199938, \"3crv_fraction\": 0.4999221969800061, \"pool_tvl_usd\": 35427414.72054697}, {\"timestamp\": \"2022-08-11T00:00:00\", \"variable\": \"reserves_3crv\", \"value\": 18017303.4070074, \"reserves_3crv\": 18017303.4070074, \"reserves_bean\": 17630431.224694002, \"deltaB\": -790.3674384166667, \"bean_fraction\": 0.49997758191737907, \"3crv_fraction\": 0.500022418082621, \"pool_tvl_usd\": 35262567.21072305}, {\"timestamp\": \"2022-08-11T00:00:00\", \"variable\": \"reserves_bean\", \"value\": 17630431.224694002, \"reserves_3crv\": 18017303.4070074, \"reserves_bean\": 17630431.224694002, \"deltaB\": -790.3674384166667, \"bean_fraction\": 0.49997758191737907, \"3crv_fraction\": 0.500022418082621, \"pool_tvl_usd\": 35262567.21072305}, {\"timestamp\": \"2022-08-11T00:00:00\", \"variable\": \"deltaB\", \"value\": -790.3674384166667, \"reserves_3crv\": 18017303.4070074, \"reserves_bean\": 17630431.224694002, \"deltaB\": -790.3674384166667, \"bean_fraction\": 0.49997758191737907, \"3crv_fraction\": 0.500022418082621, \"pool_tvl_usd\": 35262567.21072305}, {\"timestamp\": \"2022-08-11T00:00:00\", \"variable\": \"bean_fraction\", \"value\": 0.49997758191737907, \"reserves_3crv\": 18017303.4070074, \"reserves_bean\": 17630431.224694002, \"deltaB\": -790.3674384166667, \"bean_fraction\": 0.49997758191737907, \"3crv_fraction\": 0.500022418082621, \"pool_tvl_usd\": 35262567.21072305}, {\"timestamp\": \"2022-08-11T00:00:00\", \"variable\": \"3crv_fraction\", \"value\": 0.500022418082621, \"reserves_3crv\": 18017303.4070074, \"reserves_bean\": 17630431.224694002, \"deltaB\": -790.3674384166667, \"bean_fraction\": 0.49997758191737907, \"3crv_fraction\": 0.500022418082621, \"pool_tvl_usd\": 35262567.21072305}, {\"timestamp\": \"2022-08-11T00:00:00\", \"variable\": \"pool_tvl_usd\", \"value\": 35262567.21072305, \"reserves_3crv\": 18017303.4070074, \"reserves_bean\": 17630431.224694002, \"deltaB\": -790.3674384166667, \"bean_fraction\": 0.49997758191737907, \"3crv_fraction\": 0.500022418082621, \"pool_tvl_usd\": 35262567.21072305}, {\"timestamp\": \"2022-08-12T00:00:00\", \"variable\": \"reserves_3crv\", \"value\": 17973299.89166241, \"reserves_3crv\": 17973299.89166241, \"reserves_bean\": 17589805.820261817, \"deltaB\": 487.829233125, \"bean_fraction\": 0.5000138707215924, \"3crv_fraction\": 0.49998612927840763, \"pool_tvl_usd\": 35179267.42960425}, {\"timestamp\": \"2022-08-12T00:00:00\", \"variable\": \"reserves_bean\", \"value\": 17589805.820261817, \"reserves_3crv\": 17973299.89166241, \"reserves_bean\": 17589805.820261817, \"deltaB\": 487.829233125, \"bean_fraction\": 0.5000138707215924, \"3crv_fraction\": 0.49998612927840763, \"pool_tvl_usd\": 35179267.42960425}, {\"timestamp\": \"2022-08-12T00:00:00\", \"variable\": \"deltaB\", \"value\": 487.829233125, \"reserves_3crv\": 17973299.89166241, \"reserves_bean\": 17589805.820261817, \"deltaB\": 487.829233125, \"bean_fraction\": 0.5000138707215924, \"3crv_fraction\": 0.49998612927840763, \"pool_tvl_usd\": 35179267.42960425}, {\"timestamp\": \"2022-08-12T00:00:00\", \"variable\": \"bean_fraction\", \"value\": 0.5000138707215924, \"reserves_3crv\": 17973299.89166241, \"reserves_bean\": 17589805.820261817, \"deltaB\": 487.829233125, \"bean_fraction\": 0.5000138707215924, \"3crv_fraction\": 0.49998612927840763, \"pool_tvl_usd\": 35179267.42960425}, {\"timestamp\": \"2022-08-12T00:00:00\", \"variable\": \"3crv_fraction\", \"value\": 0.49998612927840763, \"reserves_3crv\": 17973299.89166241, \"reserves_bean\": 17589805.820261817, \"deltaB\": 487.829233125, \"bean_fraction\": 0.5000138707215924, \"3crv_fraction\": 0.49998612927840763, \"pool_tvl_usd\": 35179267.42960425}, {\"timestamp\": \"2022-08-12T00:00:00\", \"variable\": \"pool_tvl_usd\", \"value\": 35179267.42960425, \"reserves_3crv\": 17973299.89166241, \"reserves_bean\": 17589805.820261817, \"deltaB\": 487.829233125, \"bean_fraction\": 0.5000138707215924, \"3crv_fraction\": 0.49998612927840763, \"pool_tvl_usd\": 35179267.42960425}, {\"timestamp\": \"2022-08-13T00:00:00\", \"variable\": \"reserves_3crv\", \"value\": 17989162.36499584, \"reserves_3crv\": 17989162.36499584, \"reserves_bean\": 17609448.314660568, \"deltaB\": 2616.3400060833337, \"bean_fraction\": 0.5000743031130778, \"3crv_fraction\": 0.4999256968869222, \"pool_tvl_usd\": 35218476.128358506}, {\"timestamp\": \"2022-08-13T00:00:00\", \"variable\": \"reserves_bean\", \"value\": 17609448.314660568, \"reserves_3crv\": 17989162.36499584, \"reserves_bean\": 17609448.314660568, \"deltaB\": 2616.3400060833337, \"bean_fraction\": 0.5000743031130778, \"3crv_fraction\": 0.4999256968869222, \"pool_tvl_usd\": 35218476.128358506}, {\"timestamp\": \"2022-08-13T00:00:00\", \"variable\": \"deltaB\", \"value\": 2616.3400060833337, \"reserves_3crv\": 17989162.36499584, \"reserves_bean\": 17609448.314660568, \"deltaB\": 2616.3400060833337, \"bean_fraction\": 0.5000743031130778, \"3crv_fraction\": 0.4999256968869222, \"pool_tvl_usd\": 35218476.128358506}, {\"timestamp\": \"2022-08-13T00:00:00\", \"variable\": \"bean_fraction\", \"value\": 0.5000743031130778, \"reserves_3crv\": 17989162.36499584, \"reserves_bean\": 17609448.314660568, \"deltaB\": 2616.3400060833337, \"bean_fraction\": 0.5000743031130778, \"3crv_fraction\": 0.4999256968869222, \"pool_tvl_usd\": 35218476.128358506}, {\"timestamp\": \"2022-08-13T00:00:00\", \"variable\": \"3crv_fraction\", \"value\": 0.4999256968869222, \"reserves_3crv\": 17989162.36499584, \"reserves_bean\": 17609448.314660568, \"deltaB\": 2616.3400060833337, \"bean_fraction\": 0.5000743031130778, \"3crv_fraction\": 0.4999256968869222, \"pool_tvl_usd\": 35218476.128358506}, {\"timestamp\": \"2022-08-13T00:00:00\", \"variable\": \"pool_tvl_usd\", \"value\": 35218476.128358506, \"reserves_3crv\": 17989162.36499584, \"reserves_bean\": 17609448.314660568, \"deltaB\": 2616.3400060833337, \"bean_fraction\": 0.5000743031130778, \"3crv_fraction\": 0.4999256968869222, \"pool_tvl_usd\": 35218476.128358506}, {\"timestamp\": \"2022-08-14T00:00:00\", \"variable\": \"reserves_3crv\", \"value\": 17938248.822816137, \"reserves_3crv\": 17938248.822816137, \"reserves_bean\": 17530893.169031028, \"deltaB\": -12089.602507625, \"bean_fraction\": 0.4996262757215444, \"3crv_fraction\": 0.5003737242784556, \"pool_tvl_usd\": 35080841.564496614}, {\"timestamp\": \"2022-08-14T00:00:00\", \"variable\": \"reserves_bean\", \"value\": 17530893.169031028, \"reserves_3crv\": 17938248.822816137, \"reserves_bean\": 17530893.169031028, \"deltaB\": -12089.602507625, \"bean_fraction\": 0.4996262757215444, \"3crv_fraction\": 0.5003737242784556, \"pool_tvl_usd\": 35080841.564496614}, {\"timestamp\": \"2022-08-14T00:00:00\", \"variable\": \"deltaB\", \"value\": -12089.602507625, \"reserves_3crv\": 17938248.822816137, \"reserves_bean\": 17530893.169031028, \"deltaB\": -12089.602507625, \"bean_fraction\": 0.4996262757215444, \"3crv_fraction\": 0.5003737242784556, \"pool_tvl_usd\": 35080841.564496614}, {\"timestamp\": \"2022-08-14T00:00:00\", \"variable\": \"bean_fraction\", \"value\": 0.4996262757215444, \"reserves_3crv\": 17938248.822816137, \"reserves_bean\": 17530893.169031028, \"deltaB\": -12089.602507625, \"bean_fraction\": 0.4996262757215444, \"3crv_fraction\": 0.5003737242784556, \"pool_tvl_usd\": 35080841.564496614}, {\"timestamp\": \"2022-08-14T00:00:00\", \"variable\": \"3crv_fraction\", \"value\": 0.5003737242784556, \"reserves_3crv\": 17938248.822816137, \"reserves_bean\": 17530893.169031028, \"deltaB\": -12089.602507625, \"bean_fraction\": 0.4996262757215444, \"3crv_fraction\": 0.5003737242784556, \"pool_tvl_usd\": 35080841.564496614}, {\"timestamp\": \"2022-08-14T00:00:00\", \"variable\": \"pool_tvl_usd\", \"value\": 35080841.564496614, \"reserves_3crv\": 17938248.822816137, \"reserves_bean\": 17530893.169031028, \"deltaB\": -12089.602507625, \"bean_fraction\": 0.4996262757215444, \"3crv_fraction\": 0.5003737242784556, \"pool_tvl_usd\": 35080841.564496614}, {\"timestamp\": \"2022-08-15T00:00:00\", \"variable\": \"reserves_3crv\", \"value\": 15523170.72948727, \"reserves_3crv\": 15523170.72948727, \"reserves_bean\": 15191674.518758617, \"deltaB\": 335.60451808333335, \"bean_fraction\": 0.500011048081138, \"3crv_fraction\": 0.49998895191886206, \"pool_tvl_usd\": 30383414.534991354}, {\"timestamp\": \"2022-08-15T00:00:00\", \"variable\": \"reserves_bean\", \"value\": 15191674.518758617, \"reserves_3crv\": 15523170.72948727, \"reserves_bean\": 15191674.518758617, \"deltaB\": 335.60451808333335, \"bean_fraction\": 0.500011048081138, \"3crv_fraction\": 0.49998895191886206, \"pool_tvl_usd\": 30383414.534991354}, {\"timestamp\": \"2022-08-15T00:00:00\", \"variable\": \"deltaB\", \"value\": 335.60451808333335, \"reserves_3crv\": 15523170.72948727, \"reserves_bean\": 15191674.518758617, \"deltaB\": 335.60451808333335, \"bean_fraction\": 0.500011048081138, \"3crv_fraction\": 0.49998895191886206, \"pool_tvl_usd\": 30383414.534991354}, {\"timestamp\": \"2022-08-15T00:00:00\", \"variable\": \"bean_fraction\", \"value\": 0.500011048081138, \"reserves_3crv\": 15523170.72948727, \"reserves_bean\": 15191674.518758617, \"deltaB\": 335.60451808333335, \"bean_fraction\": 0.500011048081138, \"3crv_fraction\": 0.49998895191886206, \"pool_tvl_usd\": 30383414.534991354}, {\"timestamp\": \"2022-08-15T00:00:00\", \"variable\": \"3crv_fraction\", \"value\": 0.49998895191886206, \"reserves_3crv\": 15523170.72948727, \"reserves_bean\": 15191674.518758617, \"deltaB\": 335.60451808333335, \"bean_fraction\": 0.500011048081138, \"3crv_fraction\": 0.49998895191886206, \"pool_tvl_usd\": 30383414.534991354}, {\"timestamp\": \"2022-08-15T00:00:00\", \"variable\": \"pool_tvl_usd\", \"value\": 30383414.534991354, \"reserves_3crv\": 15523170.72948727, \"reserves_bean\": 15191674.518758617, \"deltaB\": 335.60451808333335, \"bean_fraction\": 0.500011048081138, \"3crv_fraction\": 0.49998895191886206, \"pool_tvl_usd\": 30383414.534991354}, {\"timestamp\": \"2022-08-16T00:00:00\", \"variable\": \"reserves_3crv\", \"value\": 15520892.128733939, \"reserves_3crv\": 15520892.128733939, \"reserves_bean\": 15190042.261116901, \"deltaB\": 691.15343225, \"bean_fraction\": 0.5000227520418555, \"3crv_fraction\": 0.4999772479581444, \"pool_tvl_usd\": 30380333.72063021}, {\"timestamp\": \"2022-08-16T00:00:00\", \"variable\": \"reserves_bean\", \"value\": 15190042.261116901, \"reserves_3crv\": 15520892.128733939, \"reserves_bean\": 15190042.261116901, \"deltaB\": 691.15343225, \"bean_fraction\": 0.5000227520418555, \"3crv_fraction\": 0.4999772479581444, \"pool_tvl_usd\": 30380333.72063021}, {\"timestamp\": \"2022-08-16T00:00:00\", \"variable\": \"deltaB\", \"value\": 691.15343225, \"reserves_3crv\": 15520892.128733939, \"reserves_bean\": 15190042.261116901, \"deltaB\": 691.15343225, \"bean_fraction\": 0.5000227520418555, \"3crv_fraction\": 0.4999772479581444, \"pool_tvl_usd\": 30380333.72063021}, {\"timestamp\": \"2022-08-16T00:00:00\", \"variable\": \"bean_fraction\", \"value\": 0.5000227520418555, \"reserves_3crv\": 15520892.128733939, \"reserves_bean\": 15190042.261116901, \"deltaB\": 691.15343225, \"bean_fraction\": 0.5000227520418555, \"3crv_fraction\": 0.4999772479581444, \"pool_tvl_usd\": 30380333.72063021}, {\"timestamp\": \"2022-08-16T00:00:00\", \"variable\": \"3crv_fraction\", \"value\": 0.4999772479581444, \"reserves_3crv\": 15520892.128733939, \"reserves_bean\": 15190042.261116901, \"deltaB\": 691.15343225, \"bean_fraction\": 0.5000227520418555, \"3crv_fraction\": 0.4999772479581444, \"pool_tvl_usd\": 30380333.72063021}, {\"timestamp\": \"2022-08-16T00:00:00\", \"variable\": \"pool_tvl_usd\", \"value\": 30380333.72063021, \"reserves_3crv\": 15520892.128733939, \"reserves_bean\": 15190042.261116901, \"deltaB\": 691.15343225, \"bean_fraction\": 0.5000227520418555, \"3crv_fraction\": 0.4999772479581444, \"pool_tvl_usd\": 30380333.72063021}, {\"timestamp\": \"2022-08-17T00:00:00\", \"variable\": \"reserves_3crv\", \"value\": 15529650.12791825, \"reserves_3crv\": 15529650.12791825, \"reserves_bean\": 15197770.860297682, \"deltaB\": 305.047782875, \"bean_fraction\": 0.5000100370423936, \"3crv_fraction\": 0.4999899629576064, \"pool_tvl_usd\": 30395415.36026305}, {\"timestamp\": \"2022-08-17T00:00:00\", \"variable\": \"reserves_bean\", \"value\": 15197770.860297682, \"reserves_3crv\": 15529650.12791825, \"reserves_bean\": 15197770.860297682, \"deltaB\": 305.047782875, \"bean_fraction\": 0.5000100370423936, \"3crv_fraction\": 0.4999899629576064, \"pool_tvl_usd\": 30395415.36026305}, {\"timestamp\": \"2022-08-17T00:00:00\", \"variable\": \"deltaB\", \"value\": 305.047782875, \"reserves_3crv\": 15529650.12791825, \"reserves_bean\": 15197770.860297682, \"deltaB\": 305.047782875, \"bean_fraction\": 0.5000100370423936, \"3crv_fraction\": 0.4999899629576064, \"pool_tvl_usd\": 30395415.36026305}, {\"timestamp\": \"2022-08-17T00:00:00\", \"variable\": \"bean_fraction\", \"value\": 0.5000100370423936, \"reserves_3crv\": 15529650.12791825, \"reserves_bean\": 15197770.860297682, \"deltaB\": 305.047782875, \"bean_fraction\": 0.5000100370423936, \"3crv_fraction\": 0.4999899629576064, \"pool_tvl_usd\": 30395415.36026305}, {\"timestamp\": \"2022-08-17T00:00:00\", \"variable\": \"3crv_fraction\", \"value\": 0.4999899629576064, \"reserves_3crv\": 15529650.12791825, \"reserves_bean\": 15197770.860297682, \"deltaB\": 305.047782875, \"bean_fraction\": 0.5000100370423936, \"3crv_fraction\": 0.4999899629576064, \"pool_tvl_usd\": 30395415.36026305}, {\"timestamp\": \"2022-08-17T00:00:00\", \"variable\": \"pool_tvl_usd\", \"value\": 30395415.36026305, \"reserves_3crv\": 15529650.12791825, \"reserves_bean\": 15197770.860297682, \"deltaB\": 305.047782875, \"bean_fraction\": 0.5000100370423936, \"3crv_fraction\": 0.4999899629576064, \"pool_tvl_usd\": 30395415.36026305}, {\"timestamp\": \"2022-08-18T00:00:00\", \"variable\": \"reserves_3crv\", \"value\": 15532481.02347499, \"reserves_3crv\": 15532481.02347499, \"reserves_bean\": 15200195.497706622, \"deltaB\": 150.80566654166668, \"bean_fraction\": 0.500004960707574, \"3crv_fraction\": 0.49999503929242595, \"pool_tvl_usd\": 30400428.851487044}, {\"timestamp\": \"2022-08-18T00:00:00\", \"variable\": \"reserves_bean\", \"value\": 15200195.497706622, \"reserves_3crv\": 15532481.02347499, \"reserves_bean\": 15200195.497706622, \"deltaB\": 150.80566654166668, \"bean_fraction\": 0.500004960707574, \"3crv_fraction\": 0.49999503929242595, \"pool_tvl_usd\": 30400428.851487044}, {\"timestamp\": \"2022-08-18T00:00:00\", \"variable\": \"deltaB\", \"value\": 150.80566654166668, \"reserves_3crv\": 15532481.02347499, \"reserves_bean\": 15200195.497706622, \"deltaB\": 150.80566654166668, \"bean_fraction\": 0.500004960707574, \"3crv_fraction\": 0.49999503929242595, \"pool_tvl_usd\": 30400428.851487044}, {\"timestamp\": \"2022-08-18T00:00:00\", \"variable\": \"bean_fraction\", \"value\": 0.500004960707574, \"reserves_3crv\": 15532481.02347499, \"reserves_bean\": 15200195.497706622, \"deltaB\": 150.80566654166668, \"bean_fraction\": 0.500004960707574, \"3crv_fraction\": 0.49999503929242595, \"pool_tvl_usd\": 30400428.851487044}, {\"timestamp\": \"2022-08-18T00:00:00\", \"variable\": \"3crv_fraction\", \"value\": 0.49999503929242595, \"reserves_3crv\": 15532481.02347499, \"reserves_bean\": 15200195.497706622, \"deltaB\": 150.80566654166668, \"bean_fraction\": 0.500004960707574, \"3crv_fraction\": 0.49999503929242595, \"pool_tvl_usd\": 30400428.851487044}, {\"timestamp\": \"2022-08-18T00:00:00\", \"variable\": \"pool_tvl_usd\", \"value\": 30400428.851487044, \"reserves_3crv\": 15532481.02347499, \"reserves_bean\": 15200195.497706622, \"deltaB\": 150.80566654166668, \"bean_fraction\": 0.500004960707574, \"3crv_fraction\": 0.49999503929242595, \"pool_tvl_usd\": 30400428.851487044}, {\"timestamp\": \"2022-08-19T00:00:00\", \"variable\": \"reserves_3crv\", \"value\": 15530199.148676649, \"reserves_3crv\": 15530199.148676649, \"reserves_bean\": 15198042.736985749, \"deltaB\": 213.94365245833333, \"bean_fraction\": 0.5000070386189626, \"3crv_fraction\": 0.49999296138103744, \"pool_tvl_usd\": 30396043.863767933}, {\"timestamp\": \"2022-08-19T00:00:00\", \"variable\": \"reserves_bean\", \"value\": 15198042.736985749, \"reserves_3crv\": 15530199.148676649, \"reserves_bean\": 15198042.736985749, \"deltaB\": 213.94365245833333, \"bean_fraction\": 0.5000070386189626, \"3crv_fraction\": 0.49999296138103744, \"pool_tvl_usd\": 30396043.863767933}, {\"timestamp\": \"2022-08-19T00:00:00\", \"variable\": \"deltaB\", \"value\": 213.94365245833333, \"reserves_3crv\": 15530199.148676649, \"reserves_bean\": 15198042.736985749, \"deltaB\": 213.94365245833333, \"bean_fraction\": 0.5000070386189626, \"3crv_fraction\": 0.49999296138103744, \"pool_tvl_usd\": 30396043.863767933}, {\"timestamp\": \"2022-08-19T00:00:00\", \"variable\": \"bean_fraction\", \"value\": 0.5000070386189626, \"reserves_3crv\": 15530199.148676649, \"reserves_bean\": 15198042.736985749, \"deltaB\": 213.94365245833333, \"bean_fraction\": 0.5000070386189626, \"3crv_fraction\": 0.49999296138103744, \"pool_tvl_usd\": 30396043.863767933}, {\"timestamp\": \"2022-08-19T00:00:00\", \"variable\": \"3crv_fraction\", \"value\": 0.49999296138103744, \"reserves_3crv\": 15530199.148676649, \"reserves_bean\": 15198042.736985749, \"deltaB\": 213.94365245833333, \"bean_fraction\": 0.5000070386189626, \"3crv_fraction\": 0.49999296138103744, \"pool_tvl_usd\": 30396043.863767933}, {\"timestamp\": \"2022-08-19T00:00:00\", \"variable\": \"pool_tvl_usd\", \"value\": 30396043.863767933, \"reserves_3crv\": 15530199.148676649, \"reserves_bean\": 15198042.736985749, \"deltaB\": 213.94365245833333, \"bean_fraction\": 0.5000070386189626, \"3crv_fraction\": 0.49999296138103744, \"pool_tvl_usd\": 30396043.863767933}, {\"timestamp\": \"2022-08-20T00:00:00\", \"variable\": \"reserves_3crv\", \"value\": 15524319.526953712, \"reserves_3crv\": 15524319.526953712, \"reserves_bean\": 15192255.21373784, \"deltaB\": 228.11819958333334, \"bean_fraction\": 0.5000075047405256, \"3crv_fraction\": 0.49999249525947437, \"pool_tvl_usd\": 30384430.3027627}, {\"timestamp\": \"2022-08-20T00:00:00\", \"variable\": \"reserves_bean\", \"value\": 15192255.21373784, \"reserves_3crv\": 15524319.526953712, \"reserves_bean\": 15192255.21373784, \"deltaB\": 228.11819958333334, \"bean_fraction\": 0.5000075047405256, \"3crv_fraction\": 0.49999249525947437, \"pool_tvl_usd\": 30384430.3027627}, {\"timestamp\": \"2022-08-20T00:00:00\", \"variable\": \"deltaB\", \"value\": 228.11819958333334, \"reserves_3crv\": 15524319.526953712, \"reserves_bean\": 15192255.21373784, \"deltaB\": 228.11819958333334, \"bean_fraction\": 0.5000075047405256, \"3crv_fraction\": 0.49999249525947437, \"pool_tvl_usd\": 30384430.3027627}, {\"timestamp\": \"2022-08-20T00:00:00\", \"variable\": \"bean_fraction\", \"value\": 0.5000075047405256, \"reserves_3crv\": 15524319.526953712, \"reserves_bean\": 15192255.21373784, \"deltaB\": 228.11819958333334, \"bean_fraction\": 0.5000075047405256, \"3crv_fraction\": 0.49999249525947437, \"pool_tvl_usd\": 30384430.3027627}, {\"timestamp\": \"2022-08-20T00:00:00\", \"variable\": \"3crv_fraction\", \"value\": 0.49999249525947437, \"reserves_3crv\": 15524319.526953712, \"reserves_bean\": 15192255.21373784, \"deltaB\": 228.11819958333334, \"bean_fraction\": 0.5000075047405256, \"3crv_fraction\": 0.49999249525947437, \"pool_tvl_usd\": 30384430.3027627}, {\"timestamp\": \"2022-08-20T00:00:00\", \"variable\": \"pool_tvl_usd\", \"value\": 30384430.3027627, \"reserves_3crv\": 15524319.526953712, \"reserves_bean\": 15192255.21373784, \"deltaB\": 228.11819958333334, \"bean_fraction\": 0.5000075047405256, \"3crv_fraction\": 0.49999249525947437, \"pool_tvl_usd\": 30384430.3027627}, {\"timestamp\": \"2022-08-21T00:00:00\", \"variable\": \"reserves_3crv\", \"value\": 15513441.882887093, \"reserves_3crv\": 15513441.882887093, \"reserves_bean\": 15181759.438398434, \"deltaB\": 337.7189874166667, \"bean_fraction\": 0.5000111218798271, \"3crv_fraction\": 0.4999888781201729, \"pool_tvl_usd\": 30363421.543244947}, {\"timestamp\": \"2022-08-21T00:00:00\", \"variable\": \"reserves_bean\", \"value\": 15181759.438398434, \"reserves_3crv\": 15513441.882887093, \"reserves_bean\": 15181759.438398434, \"deltaB\": 337.7189874166667, \"bean_fraction\": 0.5000111218798271, \"3crv_fraction\": 0.4999888781201729, \"pool_tvl_usd\": 30363421.543244947}, {\"timestamp\": \"2022-08-21T00:00:00\", \"variable\": \"deltaB\", \"value\": 337.7189874166667, \"reserves_3crv\": 15513441.882887093, \"reserves_bean\": 15181759.438398434, \"deltaB\": 337.7189874166667, \"bean_fraction\": 0.5000111218798271, \"3crv_fraction\": 0.4999888781201729, \"pool_tvl_usd\": 30363421.543244947}, {\"timestamp\": \"2022-08-21T00:00:00\", \"variable\": \"bean_fraction\", \"value\": 0.5000111218798271, \"reserves_3crv\": 15513441.882887093, \"reserves_bean\": 15181759.438398434, \"deltaB\": 337.7189874166667, \"bean_fraction\": 0.5000111218798271, \"3crv_fraction\": 0.4999888781201729, \"pool_tvl_usd\": 30363421.543244947}, {\"timestamp\": \"2022-08-21T00:00:00\", \"variable\": \"3crv_fraction\", \"value\": 0.4999888781201729, \"reserves_3crv\": 15513441.882887093, \"reserves_bean\": 15181759.438398434, \"deltaB\": 337.7189874166667, \"bean_fraction\": 0.5000111218798271, \"3crv_fraction\": 0.4999888781201729, \"pool_tvl_usd\": 30363421.543244947}, {\"timestamp\": \"2022-08-21T00:00:00\", \"variable\": \"pool_tvl_usd\", \"value\": 30363421.543244947, \"reserves_3crv\": 15513441.882887093, \"reserves_bean\": 15181759.438398434, \"deltaB\": 337.7189874166667, \"bean_fraction\": 0.5000111218798271, \"3crv_fraction\": 0.4999888781201729, \"pool_tvl_usd\": 30363421.543244947}, {\"timestamp\": \"2022-08-22T00:00:00\", \"variable\": \"reserves_3crv\", \"value\": 15523457.070399567, \"reserves_3crv\": 15523457.070399567, \"reserves_bean\": 15191328.934425535, \"deltaB\": 257.99245145833333, \"bean_fraction\": 0.5000084916935635, \"3crv_fraction\": 0.4999915083064364, \"pool_tvl_usd\": 30382593.805331573}, {\"timestamp\": \"2022-08-22T00:00:00\", \"variable\": \"reserves_bean\", \"value\": 15191328.934425535, \"reserves_3crv\": 15523457.070399567, \"reserves_bean\": 15191328.934425535, \"deltaB\": 257.99245145833333, \"bean_fraction\": 0.5000084916935635, \"3crv_fraction\": 0.4999915083064364, \"pool_tvl_usd\": 30382593.805331573}, {\"timestamp\": \"2022-08-22T00:00:00\", \"variable\": \"deltaB\", \"value\": 257.99245145833333, \"reserves_3crv\": 15523457.070399567, \"reserves_bean\": 15191328.934425535, \"deltaB\": 257.99245145833333, \"bean_fraction\": 0.5000084916935635, \"3crv_fraction\": 0.4999915083064364, \"pool_tvl_usd\": 30382593.805331573}, {\"timestamp\": \"2022-08-22T00:00:00\", \"variable\": \"bean_fraction\", \"value\": 0.5000084916935635, \"reserves_3crv\": 15523457.070399567, \"reserves_bean\": 15191328.934425535, \"deltaB\": 257.99245145833333, \"bean_fraction\": 0.5000084916935635, \"3crv_fraction\": 0.4999915083064364, \"pool_tvl_usd\": 30382593.805331573}, {\"timestamp\": \"2022-08-22T00:00:00\", \"variable\": \"3crv_fraction\", \"value\": 0.4999915083064364, \"reserves_3crv\": 15523457.070399567, \"reserves_bean\": 15191328.934425535, \"deltaB\": 257.99245145833333, \"bean_fraction\": 0.5000084916935635, \"3crv_fraction\": 0.4999915083064364, \"pool_tvl_usd\": 30382593.805331573}, {\"timestamp\": \"2022-08-22T00:00:00\", \"variable\": \"pool_tvl_usd\", \"value\": 30382593.805331573, \"reserves_3crv\": 15523457.070399567, \"reserves_bean\": 15191328.934425535, \"deltaB\": 257.99245145833333, \"bean_fraction\": 0.5000084916935635, \"3crv_fraction\": 0.4999915083064364, \"pool_tvl_usd\": 30382593.805331573}, {\"timestamp\": \"2022-08-23T00:00:00\", \"variable\": \"reserves_3crv\", \"value\": 15520295.804222979, \"reserves_3crv\": 15520295.804222979, \"reserves_bean\": 15187966.32288027, \"deltaB\": 157.9048775, \"bean_fraction\": 0.5000051991376236, \"3crv_fraction\": 0.49999480086237624, \"pool_tvl_usd\": 30376031.891556177}, {\"timestamp\": \"2022-08-23T00:00:00\", \"variable\": \"reserves_bean\", \"value\": 15187966.32288027, \"reserves_3crv\": 15520295.804222979, \"reserves_bean\": 15187966.32288027, \"deltaB\": 157.9048775, \"bean_fraction\": 0.5000051991376236, \"3crv_fraction\": 0.49999480086237624, \"pool_tvl_usd\": 30376031.891556177}, {\"timestamp\": \"2022-08-23T00:00:00\", \"variable\": \"deltaB\", \"value\": 157.9048775, \"reserves_3crv\": 15520295.804222979, \"reserves_bean\": 15187966.32288027, \"deltaB\": 157.9048775, \"bean_fraction\": 0.5000051991376236, \"3crv_fraction\": 0.49999480086237624, \"pool_tvl_usd\": 30376031.891556177}, {\"timestamp\": \"2022-08-23T00:00:00\", \"variable\": \"bean_fraction\", \"value\": 0.5000051991376236, \"reserves_3crv\": 15520295.804222979, \"reserves_bean\": 15187966.32288027, \"deltaB\": 157.9048775, \"bean_fraction\": 0.5000051991376236, \"3crv_fraction\": 0.49999480086237624, \"pool_tvl_usd\": 30376031.891556177}, {\"timestamp\": \"2022-08-23T00:00:00\", \"variable\": \"3crv_fraction\", \"value\": 0.49999480086237624, \"reserves_3crv\": 15520295.804222979, \"reserves_bean\": 15187966.32288027, \"deltaB\": 157.9048775, \"bean_fraction\": 0.5000051991376236, \"3crv_fraction\": 0.49999480086237624, \"pool_tvl_usd\": 30376031.891556177}, {\"timestamp\": \"2022-08-23T00:00:00\", \"variable\": \"pool_tvl_usd\", \"value\": 30376031.891556177, \"reserves_3crv\": 15520295.804222979, \"reserves_bean\": 15187966.32288027, \"deltaB\": 157.9048775, \"bean_fraction\": 0.5000051991376236, \"3crv_fraction\": 0.49999480086237624, \"pool_tvl_usd\": 30376031.891556177}, {\"timestamp\": \"2022-08-24T00:00:00\", \"variable\": \"reserves_3crv\", \"value\": 15508030.461947352, \"reserves_3crv\": 15508030.461947352, \"reserves_bean\": 15176342.112234786, \"deltaB\": 384.90472595833336, \"bean_fraction\": 0.500012681394112, \"3crv_fraction\": 0.4999873186058879, \"pool_tvl_usd\": 30352641.596670877}, {\"timestamp\": \"2022-08-24T00:00:00\", \"variable\": \"reserves_bean\", \"value\": 15176342.112234786, \"reserves_3crv\": 15508030.461947352, \"reserves_bean\": 15176342.112234786, \"deltaB\": 384.90472595833336, \"bean_fraction\": 0.500012681394112, \"3crv_fraction\": 0.4999873186058879, \"pool_tvl_usd\": 30352641.596670877}, {\"timestamp\": \"2022-08-24T00:00:00\", \"variable\": \"deltaB\", \"value\": 384.90472595833336, \"reserves_3crv\": 15508030.461947352, \"reserves_bean\": 15176342.112234786, \"deltaB\": 384.90472595833336, \"bean_fraction\": 0.500012681394112, \"3crv_fraction\": 0.4999873186058879, \"pool_tvl_usd\": 30352641.596670877}, {\"timestamp\": \"2022-08-24T00:00:00\", \"variable\": \"bean_fraction\", \"value\": 0.500012681394112, \"reserves_3crv\": 15508030.461947352, \"reserves_bean\": 15176342.112234786, \"deltaB\": 384.90472595833336, \"bean_fraction\": 0.500012681394112, \"3crv_fraction\": 0.4999873186058879, \"pool_tvl_usd\": 30352641.596670877}, {\"timestamp\": \"2022-08-24T00:00:00\", \"variable\": \"3crv_fraction\", \"value\": 0.4999873186058879, \"reserves_3crv\": 15508030.461947352, \"reserves_bean\": 15176342.112234786, \"deltaB\": 384.90472595833336, \"bean_fraction\": 0.500012681394112, \"3crv_fraction\": 0.4999873186058879, \"pool_tvl_usd\": 30352641.596670877}, {\"timestamp\": \"2022-08-24T00:00:00\", \"variable\": \"pool_tvl_usd\", \"value\": 30352641.596670877, \"reserves_3crv\": 15508030.461947352, \"reserves_bean\": 15176342.112234786, \"deltaB\": 384.90472595833336, \"bean_fraction\": 0.500012681394112, \"3crv_fraction\": 0.4999873186058879, \"pool_tvl_usd\": 30352641.596670877}, {\"timestamp\": \"2022-08-25T00:00:00\", \"variable\": \"reserves_3crv\", \"value\": 15508241.556330306, \"reserves_3crv\": 15508241.556330306, \"reserves_bean\": 15176482.000846716, \"deltaB\": 383.89672787499995, \"bean_fraction\": 0.5000126469109561, \"3crv_fraction\": 0.4999873530890439, \"pool_tvl_usd\": 30352942.39287461}, {\"timestamp\": \"2022-08-25T00:00:00\", \"variable\": \"reserves_bean\", \"value\": 15176482.000846716, \"reserves_3crv\": 15508241.556330306, \"reserves_bean\": 15176482.000846716, \"deltaB\": 383.89672787499995, \"bean_fraction\": 0.5000126469109561, \"3crv_fraction\": 0.4999873530890439, \"pool_tvl_usd\": 30352942.39287461}, {\"timestamp\": \"2022-08-25T00:00:00\", \"variable\": \"deltaB\", \"value\": 383.89672787499995, \"reserves_3crv\": 15508241.556330306, \"reserves_bean\": 15176482.000846716, \"deltaB\": 383.89672787499995, \"bean_fraction\": 0.5000126469109561, \"3crv_fraction\": 0.4999873530890439, \"pool_tvl_usd\": 30352942.39287461}, {\"timestamp\": \"2022-08-25T00:00:00\", \"variable\": \"bean_fraction\", \"value\": 0.5000126469109561, \"reserves_3crv\": 15508241.556330306, \"reserves_bean\": 15176482.000846716, \"deltaB\": 383.89672787499995, \"bean_fraction\": 0.5000126469109561, \"3crv_fraction\": 0.4999873530890439, \"pool_tvl_usd\": 30352942.39287461}, {\"timestamp\": \"2022-08-25T00:00:00\", \"variable\": \"3crv_fraction\", \"value\": 0.4999873530890439, \"reserves_3crv\": 15508241.556330306, \"reserves_bean\": 15176482.000846716, \"deltaB\": 383.89672787499995, \"bean_fraction\": 0.5000126469109561, \"3crv_fraction\": 0.4999873530890439, \"pool_tvl_usd\": 30352942.39287461}, {\"timestamp\": \"2022-08-25T00:00:00\", \"variable\": \"pool_tvl_usd\", \"value\": 30352942.39287461, \"reserves_3crv\": 15508241.556330306, \"reserves_bean\": 15176482.000846716, \"deltaB\": 383.89672787499995, \"bean_fraction\": 0.5000126469109561, \"3crv_fraction\": 0.4999873530890439, \"pool_tvl_usd\": 30352942.39287461}, {\"timestamp\": \"2022-08-26T00:00:00\", \"variable\": \"reserves_3crv\", \"value\": 15497870.818798697, \"reserves_3crv\": 15497870.818798697, \"reserves_bean\": 15166207.253810428, \"deltaB\": 344.0947743333333, \"bean_fraction\": 0.5000113443766716, \"3crv_fraction\": 0.49998865562332834, \"pool_tvl_usd\": 30332435.32319814}, {\"timestamp\": \"2022-08-26T00:00:00\", \"variable\": \"reserves_bean\", \"value\": 15166207.253810428, \"reserves_3crv\": 15497870.818798697, \"reserves_bean\": 15166207.253810428, \"deltaB\": 344.0947743333333, \"bean_fraction\": 0.5000113443766716, \"3crv_fraction\": 0.49998865562332834, \"pool_tvl_usd\": 30332435.32319814}, {\"timestamp\": \"2022-08-26T00:00:00\", \"variable\": \"deltaB\", \"value\": 344.0947743333333, \"reserves_3crv\": 15497870.818798697, \"reserves_bean\": 15166207.253810428, \"deltaB\": 344.0947743333333, \"bean_fraction\": 0.5000113443766716, \"3crv_fraction\": 0.49998865562332834, \"pool_tvl_usd\": 30332435.32319814}, {\"timestamp\": \"2022-08-26T00:00:00\", \"variable\": \"bean_fraction\", \"value\": 0.5000113443766716, \"reserves_3crv\": 15497870.818798697, \"reserves_bean\": 15166207.253810428, \"deltaB\": 344.0947743333333, \"bean_fraction\": 0.5000113443766716, \"3crv_fraction\": 0.49998865562332834, \"pool_tvl_usd\": 30332435.32319814}, {\"timestamp\": \"2022-08-26T00:00:00\", \"variable\": \"3crv_fraction\", \"value\": 0.49998865562332834, \"reserves_3crv\": 15497870.818798697, \"reserves_bean\": 15166207.253810428, \"deltaB\": 344.0947743333333, \"bean_fraction\": 0.5000113443766716, \"3crv_fraction\": 0.49998865562332834, \"pool_tvl_usd\": 30332435.32319814}, {\"timestamp\": \"2022-08-26T00:00:00\", \"variable\": \"pool_tvl_usd\", \"value\": 30332435.32319814, \"reserves_3crv\": 15497870.818798697, \"reserves_bean\": 15166207.253810428, \"deltaB\": 344.0947743333333, \"bean_fraction\": 0.5000113443766716, \"3crv_fraction\": 0.49998865562332834, \"pool_tvl_usd\": 30332435.32319814}, {\"timestamp\": \"2022-08-27T00:00:00\", \"variable\": \"reserves_3crv\", \"value\": 15499092.489506463, \"reserves_3crv\": 15499092.489506463, \"reserves_bean\": 15167106.02920081, \"deltaB\": 212.04667099999998, \"bean_fraction\": 0.5000069905175237, \"3crv_fraction\": 0.49999300948247627, \"pool_tvl_usd\": 30334215.160927784}, {\"timestamp\": \"2022-08-27T00:00:00\", \"variable\": \"reserves_bean\", \"value\": 15167106.02920081, \"reserves_3crv\": 15499092.489506463, \"reserves_bean\": 15167106.02920081, \"deltaB\": 212.04667099999998, \"bean_fraction\": 0.5000069905175237, \"3crv_fraction\": 0.49999300948247627, \"pool_tvl_usd\": 30334215.160927784}, {\"timestamp\": \"2022-08-27T00:00:00\", \"variable\": \"deltaB\", \"value\": 212.04667099999998, \"reserves_3crv\": 15499092.489506463, \"reserves_bean\": 15167106.02920081, \"deltaB\": 212.04667099999998, \"bean_fraction\": 0.5000069905175237, \"3crv_fraction\": 0.49999300948247627, \"pool_tvl_usd\": 30334215.160927784}, {\"timestamp\": \"2022-08-27T00:00:00\", \"variable\": \"bean_fraction\", \"value\": 0.5000069905175237, \"reserves_3crv\": 15499092.489506463, \"reserves_bean\": 15167106.02920081, \"deltaB\": 212.04667099999998, \"bean_fraction\": 0.5000069905175237, \"3crv_fraction\": 0.49999300948247627, \"pool_tvl_usd\": 30334215.160927784}, {\"timestamp\": \"2022-08-27T00:00:00\", \"variable\": \"3crv_fraction\", \"value\": 0.49999300948247627, \"reserves_3crv\": 15499092.489506463, \"reserves_bean\": 15167106.02920081, \"deltaB\": 212.04667099999998, \"bean_fraction\": 0.5000069905175237, \"3crv_fraction\": 0.49999300948247627, \"pool_tvl_usd\": 30334215.160927784}, {\"timestamp\": \"2022-08-27T00:00:00\", \"variable\": \"pool_tvl_usd\", \"value\": 30334215.160927784, \"reserves_3crv\": 15499092.489506463, \"reserves_bean\": 15167106.02920081, \"deltaB\": 212.04667099999998, \"bean_fraction\": 0.5000069905175237, \"3crv_fraction\": 0.49999300948247627, \"pool_tvl_usd\": 30334215.160927784}, {\"timestamp\": \"2022-08-28T00:00:00\", \"variable\": \"reserves_3crv\", \"value\": 15480227.419944437, \"reserves_3crv\": 15480227.419944437, \"reserves_bean\": 15147765.761869596, \"deltaB\": -219.58334000000002, \"bean_fraction\": 0.4999927470358711, \"3crv_fraction\": 0.500007252964129, \"pool_tvl_usd\": 30295636.18387805}, {\"timestamp\": \"2022-08-28T00:00:00\", \"variable\": \"reserves_bean\", \"value\": 15147765.761869596, \"reserves_3crv\": 15480227.419944437, \"reserves_bean\": 15147765.761869596, \"deltaB\": -219.58334000000002, \"bean_fraction\": 0.4999927470358711, \"3crv_fraction\": 0.500007252964129, \"pool_tvl_usd\": 30295636.18387805}, {\"timestamp\": \"2022-08-28T00:00:00\", \"variable\": \"deltaB\", \"value\": -219.58334000000002, \"reserves_3crv\": 15480227.419944437, \"reserves_bean\": 15147765.761869596, \"deltaB\": -219.58334000000002, \"bean_fraction\": 0.4999927470358711, \"3crv_fraction\": 0.500007252964129, \"pool_tvl_usd\": 30295636.18387805}, {\"timestamp\": \"2022-08-28T00:00:00\", \"variable\": \"bean_fraction\", \"value\": 0.4999927470358711, \"reserves_3crv\": 15480227.419944437, \"reserves_bean\": 15147765.761869596, \"deltaB\": -219.58334000000002, \"bean_fraction\": 0.4999927470358711, \"3crv_fraction\": 0.500007252964129, \"pool_tvl_usd\": 30295636.18387805}, {\"timestamp\": \"2022-08-28T00:00:00\", \"variable\": \"3crv_fraction\", \"value\": 0.500007252964129, \"reserves_3crv\": 15480227.419944437, \"reserves_bean\": 15147765.761869596, \"deltaB\": -219.58334000000002, \"bean_fraction\": 0.4999927470358711, \"3crv_fraction\": 0.500007252964129, \"pool_tvl_usd\": 30295636.18387805}, {\"timestamp\": \"2022-08-28T00:00:00\", \"variable\": \"pool_tvl_usd\", \"value\": 30295636.18387805, \"reserves_3crv\": 15480227.419944437, \"reserves_bean\": 15147765.761869596, \"deltaB\": -219.58334000000002, \"bean_fraction\": 0.4999927470358711, \"3crv_fraction\": 0.500007252964129, \"pool_tvl_usd\": 30295636.18387805}, {\"timestamp\": \"2022-08-29T00:00:00\", \"variable\": \"reserves_3crv\", \"value\": 15447886.457340999, \"reserves_3crv\": 15447886.457340999, \"reserves_bean\": 15116613.960191758, \"deltaB\": 77.36853641666666, \"bean_fraction\": 0.5000025590763972, \"3crv_fraction\": 0.49999744092360277, \"pool_tvl_usd\": 30233260.87902138}, {\"timestamp\": \"2022-08-29T00:00:00\", \"variable\": \"reserves_bean\", \"value\": 15116613.960191758, \"reserves_3crv\": 15447886.457340999, \"reserves_bean\": 15116613.960191758, \"deltaB\": 77.36853641666666, \"bean_fraction\": 0.5000025590763972, \"3crv_fraction\": 0.49999744092360277, \"pool_tvl_usd\": 30233260.87902138}, {\"timestamp\": \"2022-08-29T00:00:00\", \"variable\": \"deltaB\", \"value\": 77.36853641666666, \"reserves_3crv\": 15447886.457340999, \"reserves_bean\": 15116613.960191758, \"deltaB\": 77.36853641666666, \"bean_fraction\": 0.5000025590763972, \"3crv_fraction\": 0.49999744092360277, \"pool_tvl_usd\": 30233260.87902138}, {\"timestamp\": \"2022-08-29T00:00:00\", \"variable\": \"bean_fraction\", \"value\": 0.5000025590763972, \"reserves_3crv\": 15447886.457340999, \"reserves_bean\": 15116613.960191758, \"deltaB\": 77.36853641666666, \"bean_fraction\": 0.5000025590763972, \"3crv_fraction\": 0.49999744092360277, \"pool_tvl_usd\": 30233260.87902138}, {\"timestamp\": \"2022-08-29T00:00:00\", \"variable\": \"3crv_fraction\", \"value\": 0.49999744092360277, \"reserves_3crv\": 15447886.457340999, \"reserves_bean\": 15116613.960191758, \"deltaB\": 77.36853641666666, \"bean_fraction\": 0.5000025590763972, \"3crv_fraction\": 0.49999744092360277, \"pool_tvl_usd\": 30233260.87902138}, {\"timestamp\": \"2022-08-29T00:00:00\", \"variable\": \"pool_tvl_usd\", \"value\": 30233260.87902138, \"reserves_3crv\": 15447886.457340999, \"reserves_bean\": 15116613.960191758, \"deltaB\": 77.36853641666666, \"bean_fraction\": 0.5000025590763972, \"3crv_fraction\": 0.49999744092360277, \"pool_tvl_usd\": 30233260.87902138}, {\"timestamp\": \"2022-08-30T00:00:00\", \"variable\": \"reserves_3crv\", \"value\": 15434319.566674447, \"reserves_3crv\": 15434319.566674447, \"reserves_bean\": 15100851.840260236, \"deltaB\": -1157.2715300416667, \"bean_fraction\": 0.4999616039261811, \"3crv_fraction\": 0.500038396073819, \"pool_tvl_usd\": 30202613.254454136}, {\"timestamp\": \"2022-08-30T00:00:00\", \"variable\": \"reserves_bean\", \"value\": 15100851.840260236, \"reserves_3crv\": 15434319.566674447, \"reserves_bean\": 15100851.840260236, \"deltaB\": -1157.2715300416667, \"bean_fraction\": 0.4999616039261811, \"3crv_fraction\": 0.500038396073819, \"pool_tvl_usd\": 30202613.254454136}, {\"timestamp\": \"2022-08-30T00:00:00\", \"variable\": \"deltaB\", \"value\": -1157.2715300416667, \"reserves_3crv\": 15434319.566674447, \"reserves_bean\": 15100851.840260236, \"deltaB\": -1157.2715300416667, \"bean_fraction\": 0.4999616039261811, \"3crv_fraction\": 0.500038396073819, \"pool_tvl_usd\": 30202613.254454136}, {\"timestamp\": \"2022-08-30T00:00:00\", \"variable\": \"bean_fraction\", \"value\": 0.4999616039261811, \"reserves_3crv\": 15434319.566674447, \"reserves_bean\": 15100851.840260236, \"deltaB\": -1157.2715300416667, \"bean_fraction\": 0.4999616039261811, \"3crv_fraction\": 0.500038396073819, \"pool_tvl_usd\": 30202613.254454136}, {\"timestamp\": \"2022-08-30T00:00:00\", \"variable\": \"3crv_fraction\", \"value\": 0.500038396073819, \"reserves_3crv\": 15434319.566674447, \"reserves_bean\": 15100851.840260236, \"deltaB\": -1157.2715300416667, \"bean_fraction\": 0.4999616039261811, \"3crv_fraction\": 0.500038396073819, \"pool_tvl_usd\": 30202613.254454136}, {\"timestamp\": \"2022-08-30T00:00:00\", \"variable\": \"pool_tvl_usd\", \"value\": 30202613.254454136, \"reserves_3crv\": 15434319.566674447, \"reserves_bean\": 15100851.840260236, \"deltaB\": -1157.2715300416667, \"bean_fraction\": 0.4999616039261811, \"3crv_fraction\": 0.500038396073819, \"pool_tvl_usd\": 30202613.254454136}, {\"timestamp\": \"2022-08-31T00:00:00\", \"variable\": \"reserves_3crv\", \"value\": 15351698.890161036, \"reserves_3crv\": 15351698.890161036, \"reserves_bean\": 15022355.852702552, \"deltaB\": 70.39061658333334, \"bean_fraction\": 0.5000023459402848, \"3crv_fraction\": 0.49999765405971525, \"pool_tvl_usd\": 30044744.811253965}, {\"timestamp\": \"2022-08-31T00:00:00\", \"variable\": \"reserves_bean\", \"value\": 15022355.852702552, \"reserves_3crv\": 15351698.890161036, \"reserves_bean\": 15022355.852702552, \"deltaB\": 70.39061658333334, \"bean_fraction\": 0.5000023459402848, \"3crv_fraction\": 0.49999765405971525, \"pool_tvl_usd\": 30044744.811253965}, {\"timestamp\": \"2022-08-31T00:00:00\", \"variable\": \"deltaB\", \"value\": 70.39061658333334, \"reserves_3crv\": 15351698.890161036, \"reserves_bean\": 15022355.852702552, \"deltaB\": 70.39061658333334, \"bean_fraction\": 0.5000023459402848, \"3crv_fraction\": 0.49999765405971525, \"pool_tvl_usd\": 30044744.811253965}, {\"timestamp\": \"2022-08-31T00:00:00\", \"variable\": \"bean_fraction\", \"value\": 0.5000023459402848, \"reserves_3crv\": 15351698.890161036, \"reserves_bean\": 15022355.852702552, \"deltaB\": 70.39061658333334, \"bean_fraction\": 0.5000023459402848, \"3crv_fraction\": 0.49999765405971525, \"pool_tvl_usd\": 30044744.811253965}, {\"timestamp\": \"2022-08-31T00:00:00\", \"variable\": \"3crv_fraction\", \"value\": 0.49999765405971525, \"reserves_3crv\": 15351698.890161036, \"reserves_bean\": 15022355.852702552, \"deltaB\": 70.39061658333334, \"bean_fraction\": 0.5000023459402848, \"3crv_fraction\": 0.49999765405971525, \"pool_tvl_usd\": 30044744.811253965}, {\"timestamp\": \"2022-08-31T00:00:00\", \"variable\": \"pool_tvl_usd\", \"value\": 30044744.811253965, \"reserves_3crv\": 15351698.890161036, \"reserves_bean\": 15022355.852702552, \"deltaB\": 70.39061658333334, \"bean_fraction\": 0.5000023459402848, \"3crv_fraction\": 0.49999765405971525, \"pool_tvl_usd\": 30044744.811253965}, {\"timestamp\": \"2022-09-01T00:00:00\", \"variable\": \"reserves_3crv\", \"value\": 15333239.032312522, \"reserves_3crv\": 15333239.032312522, \"reserves_bean\": 15003730.200211352, \"deltaB\": -201.86300687500002, \"bean_fraction\": 0.4999932769150081, \"3crv_fraction\": 0.5000067230849919, \"pool_tvl_usd\": 30008229.14151913}, {\"timestamp\": \"2022-09-01T00:00:00\", \"variable\": \"reserves_bean\", \"value\": 15003730.200211352, \"reserves_3crv\": 15333239.032312522, \"reserves_bean\": 15003730.200211352, \"deltaB\": -201.86300687500002, \"bean_fraction\": 0.4999932769150081, \"3crv_fraction\": 0.5000067230849919, \"pool_tvl_usd\": 30008229.14151913}, {\"timestamp\": \"2022-09-01T00:00:00\", \"variable\": \"deltaB\", \"value\": -201.86300687500002, \"reserves_3crv\": 15333239.032312522, \"reserves_bean\": 15003730.200211352, \"deltaB\": -201.86300687500002, \"bean_fraction\": 0.4999932769150081, \"3crv_fraction\": 0.5000067230849919, \"pool_tvl_usd\": 30008229.14151913}, {\"timestamp\": \"2022-09-01T00:00:00\", \"variable\": \"bean_fraction\", \"value\": 0.4999932769150081, \"reserves_3crv\": 15333239.032312522, \"reserves_bean\": 15003730.200211352, \"deltaB\": -201.86300687500002, \"bean_fraction\": 0.4999932769150081, \"3crv_fraction\": 0.5000067230849919, \"pool_tvl_usd\": 30008229.14151913}, {\"timestamp\": \"2022-09-01T00:00:00\", \"variable\": \"3crv_fraction\", \"value\": 0.5000067230849919, \"reserves_3crv\": 15333239.032312522, \"reserves_bean\": 15003730.200211352, \"deltaB\": -201.86300687500002, \"bean_fraction\": 0.4999932769150081, \"3crv_fraction\": 0.5000067230849919, \"pool_tvl_usd\": 30008229.14151913}, {\"timestamp\": \"2022-09-01T00:00:00\", \"variable\": \"pool_tvl_usd\", \"value\": 30008229.14151913, \"reserves_3crv\": 15333239.032312522, \"reserves_bean\": 15003730.200211352, \"deltaB\": -201.86300687500002, \"bean_fraction\": 0.4999932769150081, \"3crv_fraction\": 0.5000067230849919, \"pool_tvl_usd\": 30008229.14151913}, {\"timestamp\": \"2022-09-02T00:00:00\", \"variable\": \"reserves_3crv\", \"value\": 15294632.881105356, \"reserves_3crv\": 15294632.881105356, \"reserves_bean\": 14965575.49690335, \"deltaB\": -380.6585127916666, \"bean_fraction\": 0.49998728826187705, \"3crv_fraction\": 0.500012711738123, \"pool_tvl_usd\": 29931099.79407705}, {\"timestamp\": \"2022-09-02T00:00:00\", \"variable\": \"reserves_bean\", \"value\": 14965575.49690335, \"reserves_3crv\": 15294632.881105356, \"reserves_bean\": 14965575.49690335, \"deltaB\": -380.6585127916666, \"bean_fraction\": 0.49998728826187705, \"3crv_fraction\": 0.500012711738123, \"pool_tvl_usd\": 29931099.79407705}, {\"timestamp\": \"2022-09-02T00:00:00\", \"variable\": \"deltaB\", \"value\": -380.6585127916666, \"reserves_3crv\": 15294632.881105356, \"reserves_bean\": 14965575.49690335, \"deltaB\": -380.6585127916666, \"bean_fraction\": 0.49998728826187705, \"3crv_fraction\": 0.500012711738123, \"pool_tvl_usd\": 29931099.79407705}, {\"timestamp\": \"2022-09-02T00:00:00\", \"variable\": \"bean_fraction\", \"value\": 0.49998728826187705, \"reserves_3crv\": 15294632.881105356, \"reserves_bean\": 14965575.49690335, \"deltaB\": -380.6585127916666, \"bean_fraction\": 0.49998728826187705, \"3crv_fraction\": 0.500012711738123, \"pool_tvl_usd\": 29931099.79407705}, {\"timestamp\": \"2022-09-02T00:00:00\", \"variable\": \"3crv_fraction\", \"value\": 0.500012711738123, \"reserves_3crv\": 15294632.881105356, \"reserves_bean\": 14965575.49690335, \"deltaB\": -380.6585127916666, \"bean_fraction\": 0.49998728826187705, \"3crv_fraction\": 0.500012711738123, \"pool_tvl_usd\": 29931099.79407705}, {\"timestamp\": \"2022-09-02T00:00:00\", \"variable\": \"pool_tvl_usd\", \"value\": 29931099.79407705, \"reserves_3crv\": 15294632.881105356, \"reserves_bean\": 14965575.49690335, \"deltaB\": -380.6585127916666, \"bean_fraction\": 0.49998728826187705, \"3crv_fraction\": 0.500012711738123, \"pool_tvl_usd\": 29931099.79407705}, {\"timestamp\": \"2022-09-03T00:00:00\", \"variable\": \"reserves_3crv\", \"value\": 15232854.313204518, \"reserves_3crv\": 15232854.313204518, \"reserves_bean\": 14904400.732980527, \"deltaB\": -729.1416805, \"bean_fraction\": 0.49997557307213575, \"3crv_fraction\": 0.5000244269278642, \"pool_tvl_usd\": 29808997.004961327}, {\"timestamp\": \"2022-09-03T00:00:00\", \"variable\": \"reserves_bean\", \"value\": 14904400.732980527, \"reserves_3crv\": 15232854.313204518, \"reserves_bean\": 14904400.732980527, \"deltaB\": -729.1416805, \"bean_fraction\": 0.49997557307213575, \"3crv_fraction\": 0.5000244269278642, \"pool_tvl_usd\": 29808997.004961327}, {\"timestamp\": \"2022-09-03T00:00:00\", \"variable\": \"deltaB\", \"value\": -729.1416805, \"reserves_3crv\": 15232854.313204518, \"reserves_bean\": 14904400.732980527, \"deltaB\": -729.1416805, \"bean_fraction\": 0.49997557307213575, \"3crv_fraction\": 0.5000244269278642, \"pool_tvl_usd\": 29808997.004961327}, {\"timestamp\": \"2022-09-03T00:00:00\", \"variable\": \"bean_fraction\", \"value\": 0.49997557307213575, \"reserves_3crv\": 15232854.313204518, \"reserves_bean\": 14904400.732980527, \"deltaB\": -729.1416805, \"bean_fraction\": 0.49997557307213575, \"3crv_fraction\": 0.5000244269278642, \"pool_tvl_usd\": 29808997.004961327}, {\"timestamp\": \"2022-09-03T00:00:00\", \"variable\": \"3crv_fraction\", \"value\": 0.5000244269278642, \"reserves_3crv\": 15232854.313204518, \"reserves_bean\": 14904400.732980527, \"deltaB\": -729.1416805, \"bean_fraction\": 0.49997557307213575, \"3crv_fraction\": 0.5000244269278642, \"pool_tvl_usd\": 29808997.004961327}, {\"timestamp\": \"2022-09-03T00:00:00\", \"variable\": \"pool_tvl_usd\", \"value\": 29808997.004961327, \"reserves_3crv\": 15232854.313204518, \"reserves_bean\": 14904400.732980527, \"deltaB\": -729.1416805, \"bean_fraction\": 0.49997557307213575, \"3crv_fraction\": 0.5000244269278642, \"pool_tvl_usd\": 29808997.004961327}, {\"timestamp\": \"2022-09-04T00:00:00\", \"variable\": \"reserves_3crv\", \"value\": 15179590.006547032, \"reserves_3crv\": 15179590.006547032, \"reserves_bean\": 14853869.394534124, \"deltaB\": 129.361471375, \"bean_fraction\": 0.5000043546156422, \"3crv_fraction\": 0.499995645384358, \"pool_tvl_usd\": 29707722.664872494}, {\"timestamp\": \"2022-09-04T00:00:00\", \"variable\": \"reserves_bean\", \"value\": 14853869.394534124, \"reserves_3crv\": 15179590.006547032, \"reserves_bean\": 14853869.394534124, \"deltaB\": 129.361471375, \"bean_fraction\": 0.5000043546156422, \"3crv_fraction\": 0.499995645384358, \"pool_tvl_usd\": 29707722.664872494}, {\"timestamp\": \"2022-09-04T00:00:00\", \"variable\": \"deltaB\", \"value\": 129.361471375, \"reserves_3crv\": 15179590.006547032, \"reserves_bean\": 14853869.394534124, \"deltaB\": 129.361471375, \"bean_fraction\": 0.5000043546156422, \"3crv_fraction\": 0.499995645384358, \"pool_tvl_usd\": 29707722.664872494}, {\"timestamp\": \"2022-09-04T00:00:00\", \"variable\": \"bean_fraction\", \"value\": 0.5000043546156422, \"reserves_3crv\": 15179590.006547032, \"reserves_bean\": 14853869.394534124, \"deltaB\": 129.361471375, \"bean_fraction\": 0.5000043546156422, \"3crv_fraction\": 0.499995645384358, \"pool_tvl_usd\": 29707722.664872494}, {\"timestamp\": \"2022-09-04T00:00:00\", \"variable\": \"3crv_fraction\", \"value\": 0.499995645384358, \"reserves_3crv\": 15179590.006547032, \"reserves_bean\": 14853869.394534124, \"deltaB\": 129.361471375, \"bean_fraction\": 0.5000043546156422, \"3crv_fraction\": 0.499995645384358, \"pool_tvl_usd\": 29707722.664872494}, {\"timestamp\": \"2022-09-04T00:00:00\", \"variable\": \"pool_tvl_usd\", \"value\": 29707722.664872494, \"reserves_3crv\": 15179590.006547032, \"reserves_bean\": 14853869.394534124, \"deltaB\": 129.361471375, \"bean_fraction\": 0.5000043546156422, \"3crv_fraction\": 0.499995645384358, \"pool_tvl_usd\": 29707722.664872494}, {\"timestamp\": \"2022-09-05T00:00:00\", \"variable\": \"reserves_3crv\", \"value\": 15170231.815164395, \"reserves_3crv\": 15170231.815164395, \"reserves_bean\": 14844662.818421118, \"deltaB\": 131.45010408333334, \"bean_fraction\": 0.500004427582392, \"3crv_fraction\": 0.49999557241760795, \"pool_tvl_usd\": 29689419.00176598}, {\"timestamp\": \"2022-09-05T00:00:00\", \"variable\": \"reserves_bean\", \"value\": 14844662.818421118, \"reserves_3crv\": 15170231.815164395, \"reserves_bean\": 14844662.818421118, \"deltaB\": 131.45010408333334, \"bean_fraction\": 0.500004427582392, \"3crv_fraction\": 0.49999557241760795, \"pool_tvl_usd\": 29689419.00176598}, {\"timestamp\": \"2022-09-05T00:00:00\", \"variable\": \"deltaB\", \"value\": 131.45010408333334, \"reserves_3crv\": 15170231.815164395, \"reserves_bean\": 14844662.818421118, \"deltaB\": 131.45010408333334, \"bean_fraction\": 0.500004427582392, \"3crv_fraction\": 0.49999557241760795, \"pool_tvl_usd\": 29689419.00176598}, {\"timestamp\": \"2022-09-05T00:00:00\", \"variable\": \"bean_fraction\", \"value\": 0.500004427582392, \"reserves_3crv\": 15170231.815164395, \"reserves_bean\": 14844662.818421118, \"deltaB\": 131.45010408333334, \"bean_fraction\": 0.500004427582392, \"3crv_fraction\": 0.49999557241760795, \"pool_tvl_usd\": 29689419.00176598}, {\"timestamp\": \"2022-09-05T00:00:00\", \"variable\": \"3crv_fraction\", \"value\": 0.49999557241760795, \"reserves_3crv\": 15170231.815164395, \"reserves_bean\": 14844662.818421118, \"deltaB\": 131.45010408333334, \"bean_fraction\": 0.500004427582392, \"3crv_fraction\": 0.49999557241760795, \"pool_tvl_usd\": 29689419.00176598}, {\"timestamp\": \"2022-09-05T00:00:00\", \"variable\": \"pool_tvl_usd\", \"value\": 29689419.00176598, \"reserves_3crv\": 15170231.815164395, \"reserves_bean\": 14844662.818421118, \"deltaB\": 131.45010408333334, \"bean_fraction\": 0.500004427582392, \"3crv_fraction\": 0.49999557241760795, \"pool_tvl_usd\": 29689419.00176598}, {\"timestamp\": \"2022-09-06T00:00:00\", \"variable\": \"reserves_3crv\", \"value\": 15149299.96400562, \"reserves_3crv\": 15149299.96400562, \"reserves_bean\": 14823922.149652334, \"deltaB\": 59.284102749999995, \"bean_fraction\": 0.500001999598057, \"3crv_fraction\": 0.49999800040194287, \"pool_tvl_usd\": 29647308.182546925}, {\"timestamp\": \"2022-09-06T00:00:00\", \"variable\": \"reserves_bean\", \"value\": 14823922.149652334, \"reserves_3crv\": 15149299.96400562, \"reserves_bean\": 14823922.149652334, \"deltaB\": 59.284102749999995, \"bean_fraction\": 0.500001999598057, \"3crv_fraction\": 0.49999800040194287, \"pool_tvl_usd\": 29647308.182546925}, {\"timestamp\": \"2022-09-06T00:00:00\", \"variable\": \"deltaB\", \"value\": 59.284102749999995, \"reserves_3crv\": 15149299.96400562, \"reserves_bean\": 14823922.149652334, \"deltaB\": 59.284102749999995, \"bean_fraction\": 0.500001999598057, \"3crv_fraction\": 0.49999800040194287, \"pool_tvl_usd\": 29647308.182546925}, {\"timestamp\": \"2022-09-06T00:00:00\", \"variable\": \"bean_fraction\", \"value\": 0.500001999598057, \"reserves_3crv\": 15149299.96400562, \"reserves_bean\": 14823922.149652334, \"deltaB\": 59.284102749999995, \"bean_fraction\": 0.500001999598057, \"3crv_fraction\": 0.49999800040194287, \"pool_tvl_usd\": 29647308.182546925}, {\"timestamp\": \"2022-09-06T00:00:00\", \"variable\": \"3crv_fraction\", \"value\": 0.49999800040194287, \"reserves_3crv\": 15149299.96400562, \"reserves_bean\": 14823922.149652334, \"deltaB\": 59.284102749999995, \"bean_fraction\": 0.500001999598057, \"3crv_fraction\": 0.49999800040194287, \"pool_tvl_usd\": 29647308.182546925}, {\"timestamp\": \"2022-09-06T00:00:00\", \"variable\": \"pool_tvl_usd\", \"value\": 29647308.182546925, \"reserves_3crv\": 15149299.96400562, \"reserves_bean\": 14823922.149652334, \"deltaB\": 59.284102749999995, \"bean_fraction\": 0.500001999598057, \"3crv_fraction\": 0.49999800040194287, \"pool_tvl_usd\": 29647308.182546925}, {\"timestamp\": \"2022-09-07T00:00:00\", \"variable\": \"reserves_3crv\", \"value\": 15138509.419486128, \"reserves_3crv\": 15138509.419486128, \"reserves_bean\": 14813184.769519351, \"deltaB\": 11.728254458333334, \"bean_fraction\": 0.5000003958955535, \"3crv_fraction\": 0.4999996041044464, \"pool_tvl_usd\": 29626485.42403607}, {\"timestamp\": \"2022-09-07T00:00:00\", \"variable\": \"reserves_bean\", \"value\": 14813184.769519351, \"reserves_3crv\": 15138509.419486128, \"reserves_bean\": 14813184.769519351, \"deltaB\": 11.728254458333334, \"bean_fraction\": 0.5000003958955535, \"3crv_fraction\": 0.4999996041044464, \"pool_tvl_usd\": 29626485.42403607}, {\"timestamp\": \"2022-09-07T00:00:00\", \"variable\": \"deltaB\", \"value\": 11.728254458333334, \"reserves_3crv\": 15138509.419486128, \"reserves_bean\": 14813184.769519351, \"deltaB\": 11.728254458333334, \"bean_fraction\": 0.5000003958955535, \"3crv_fraction\": 0.4999996041044464, \"pool_tvl_usd\": 29626485.42403607}, {\"timestamp\": \"2022-09-07T00:00:00\", \"variable\": \"bean_fraction\", \"value\": 0.5000003958955535, \"reserves_3crv\": 15138509.419486128, \"reserves_bean\": 14813184.769519351, \"deltaB\": 11.728254458333334, \"bean_fraction\": 0.5000003958955535, \"3crv_fraction\": 0.4999996041044464, \"pool_tvl_usd\": 29626485.42403607}, {\"timestamp\": \"2022-09-07T00:00:00\", \"variable\": \"3crv_fraction\", \"value\": 0.4999996041044464, \"reserves_3crv\": 15138509.419486128, \"reserves_bean\": 14813184.769519351, \"deltaB\": 11.728254458333334, \"bean_fraction\": 0.5000003958955535, \"3crv_fraction\": 0.4999996041044464, \"pool_tvl_usd\": 29626485.42403607}, {\"timestamp\": \"2022-09-07T00:00:00\", \"variable\": \"pool_tvl_usd\", \"value\": 29626485.42403607, \"reserves_3crv\": 15138509.419486128, \"reserves_bean\": 14813184.769519351, \"deltaB\": 11.728254458333334, \"bean_fraction\": 0.5000003958955535, \"3crv_fraction\": 0.4999996041044464, \"pool_tvl_usd\": 29626485.42403607}, {\"timestamp\": \"2022-09-08T00:00:00\", \"variable\": \"reserves_3crv\", \"value\": 15084382.509912124, \"reserves_3crv\": 15084382.509912124, \"reserves_bean\": 14760339.428594425, \"deltaB\": 104.62539279166667, \"bean_fraction\": 0.5000035500352346, \"3crv_fraction\": 0.49999644996476555, \"pool_tvl_usd\": 29520763.167158965}, {\"timestamp\": \"2022-09-08T00:00:00\", \"variable\": \"reserves_bean\", \"value\": 14760339.428594425, \"reserves_3crv\": 15084382.509912124, \"reserves_bean\": 14760339.428594425, \"deltaB\": 104.62539279166667, \"bean_fraction\": 0.5000035500352346, \"3crv_fraction\": 0.49999644996476555, \"pool_tvl_usd\": 29520763.167158965}, {\"timestamp\": \"2022-09-08T00:00:00\", \"variable\": \"deltaB\", \"value\": 104.62539279166667, \"reserves_3crv\": 15084382.509912124, \"reserves_bean\": 14760339.428594425, \"deltaB\": 104.62539279166667, \"bean_fraction\": 0.5000035500352346, \"3crv_fraction\": 0.49999644996476555, \"pool_tvl_usd\": 29520763.167158965}, {\"timestamp\": \"2022-09-08T00:00:00\", \"variable\": \"bean_fraction\", \"value\": 0.5000035500352346, \"reserves_3crv\": 15084382.509912124, \"reserves_bean\": 14760339.428594425, \"deltaB\": 104.62539279166667, \"bean_fraction\": 0.5000035500352346, \"3crv_fraction\": 0.49999644996476555, \"pool_tvl_usd\": 29520763.167158965}, {\"timestamp\": \"2022-09-08T00:00:00\", \"variable\": \"3crv_fraction\", \"value\": 0.49999644996476555, \"reserves_3crv\": 15084382.509912124, \"reserves_bean\": 14760339.428594425, \"deltaB\": 104.62539279166667, \"bean_fraction\": 0.5000035500352346, \"3crv_fraction\": 0.49999644996476555, \"pool_tvl_usd\": 29520763.167158965}, {\"timestamp\": \"2022-09-08T00:00:00\", \"variable\": \"pool_tvl_usd\", \"value\": 29520763.167158965, \"reserves_3crv\": 15084382.509912124, \"reserves_bean\": 14760339.428594425, \"deltaB\": 104.62539279166667, \"bean_fraction\": 0.5000035500352346, \"3crv_fraction\": 0.49999644996476555, \"pool_tvl_usd\": 29520763.167158965}, {\"timestamp\": \"2022-09-09T00:00:00\", \"variable\": \"reserves_3crv\", \"value\": 15052812.207609294, \"reserves_3crv\": 15052812.207609294, \"reserves_bean\": 14729296.582553321, \"deltaB\": 56.66094125000001, \"bean_fraction\": 0.500001923416724, \"3crv_fraction\": 0.49999807658327605, \"pool_tvl_usd\": 29458607.49378322}, {\"timestamp\": \"2022-09-09T00:00:00\", \"variable\": \"reserves_bean\", \"value\": 14729296.582553321, \"reserves_3crv\": 15052812.207609294, \"reserves_bean\": 14729296.582553321, \"deltaB\": 56.66094125000001, \"bean_fraction\": 0.500001923416724, \"3crv_fraction\": 0.49999807658327605, \"pool_tvl_usd\": 29458607.49378322}, {\"timestamp\": \"2022-09-09T00:00:00\", \"variable\": \"deltaB\", \"value\": 56.66094125000001, \"reserves_3crv\": 15052812.207609294, \"reserves_bean\": 14729296.582553321, \"deltaB\": 56.66094125000001, \"bean_fraction\": 0.500001923416724, \"3crv_fraction\": 0.49999807658327605, \"pool_tvl_usd\": 29458607.49378322}, {\"timestamp\": \"2022-09-09T00:00:00\", \"variable\": \"bean_fraction\", \"value\": 0.500001923416724, \"reserves_3crv\": 15052812.207609294, \"reserves_bean\": 14729296.582553321, \"deltaB\": 56.66094125000001, \"bean_fraction\": 0.500001923416724, \"3crv_fraction\": 0.49999807658327605, \"pool_tvl_usd\": 29458607.49378322}, {\"timestamp\": \"2022-09-09T00:00:00\", \"variable\": \"3crv_fraction\", \"value\": 0.49999807658327605, \"reserves_3crv\": 15052812.207609294, \"reserves_bean\": 14729296.582553321, \"deltaB\": 56.66094125000001, \"bean_fraction\": 0.500001923416724, \"3crv_fraction\": 0.49999807658327605, \"pool_tvl_usd\": 29458607.49378322}, {\"timestamp\": \"2022-09-09T00:00:00\", \"variable\": \"pool_tvl_usd\", \"value\": 29458607.49378322, \"reserves_3crv\": 15052812.207609294, \"reserves_bean\": 14729296.582553321, \"deltaB\": 56.66094125000001, \"bean_fraction\": 0.500001923416724, \"3crv_fraction\": 0.49999807658327605, \"pool_tvl_usd\": 29458607.49378322}, {\"timestamp\": \"2022-09-10T00:00:00\", \"variable\": \"reserves_3crv\", \"value\": 15051875.800240854, \"reserves_3crv\": 15051875.800240854, \"reserves_bean\": 14728290.028112417, \"deltaB\": 42.85688291666667, \"bean_fraction\": 0.5000014549301042, \"3crv_fraction\": 0.49999854506989583, \"pool_tvl_usd\": 29456555.709566936}, {\"timestamp\": \"2022-09-10T00:00:00\", \"variable\": \"reserves_bean\", \"value\": 14728290.028112417, \"reserves_3crv\": 15051875.800240854, \"reserves_bean\": 14728290.028112417, \"deltaB\": 42.85688291666667, \"bean_fraction\": 0.5000014549301042, \"3crv_fraction\": 0.49999854506989583, \"pool_tvl_usd\": 29456555.709566936}, {\"timestamp\": \"2022-09-10T00:00:00\", \"variable\": \"deltaB\", \"value\": 42.85688291666667, \"reserves_3crv\": 15051875.800240854, \"reserves_bean\": 14728290.028112417, \"deltaB\": 42.85688291666667, \"bean_fraction\": 0.5000014549301042, \"3crv_fraction\": 0.49999854506989583, \"pool_tvl_usd\": 29456555.709566936}, {\"timestamp\": \"2022-09-10T00:00:00\", \"variable\": \"bean_fraction\", \"value\": 0.5000014549301042, \"reserves_3crv\": 15051875.800240854, \"reserves_bean\": 14728290.028112417, \"deltaB\": 42.85688291666667, \"bean_fraction\": 0.5000014549301042, \"3crv_fraction\": 0.49999854506989583, \"pool_tvl_usd\": 29456555.709566936}, {\"timestamp\": \"2022-09-10T00:00:00\", \"variable\": \"3crv_fraction\", \"value\": 0.49999854506989583, \"reserves_3crv\": 15051875.800240854, \"reserves_bean\": 14728290.028112417, \"deltaB\": 42.85688291666667, \"bean_fraction\": 0.5000014549301042, \"3crv_fraction\": 0.49999854506989583, \"pool_tvl_usd\": 29456555.709566936}, {\"timestamp\": \"2022-09-10T00:00:00\", \"variable\": \"pool_tvl_usd\", \"value\": 29456555.709566936, \"reserves_3crv\": 15051875.800240854, \"reserves_bean\": 14728290.028112417, \"deltaB\": 42.85688291666667, \"bean_fraction\": 0.5000014549301042, \"3crv_fraction\": 0.49999854506989583, \"pool_tvl_usd\": 29456555.709566936}, {\"timestamp\": \"2022-09-11T00:00:00\", \"variable\": \"reserves_3crv\", \"value\": 15050696.966399759, \"reserves_3crv\": 15050696.966399759, \"reserves_bean\": 14727080.35255502, \"deltaB\": 31.222932916666668, \"bean_fraction\": 0.5000010600365338, \"3crv_fraction\": 0.49999893996346617, \"pool_tvl_usd\": 29454166.98632891}, {\"timestamp\": \"2022-09-11T00:00:00\", \"variable\": \"reserves_bean\", \"value\": 14727080.35255502, \"reserves_3crv\": 15050696.966399759, \"reserves_bean\": 14727080.35255502, \"deltaB\": 31.222932916666668, \"bean_fraction\": 0.5000010600365338, \"3crv_fraction\": 0.49999893996346617, \"pool_tvl_usd\": 29454166.98632891}, {\"timestamp\": \"2022-09-11T00:00:00\", \"variable\": \"deltaB\", \"value\": 31.222932916666668, \"reserves_3crv\": 15050696.966399759, \"reserves_bean\": 14727080.35255502, \"deltaB\": 31.222932916666668, \"bean_fraction\": 0.5000010600365338, \"3crv_fraction\": 0.49999893996346617, \"pool_tvl_usd\": 29454166.98632891}, {\"timestamp\": \"2022-09-11T00:00:00\", \"variable\": \"bean_fraction\", \"value\": 0.5000010600365338, \"reserves_3crv\": 15050696.966399759, \"reserves_bean\": 14727080.35255502, \"deltaB\": 31.222932916666668, \"bean_fraction\": 0.5000010600365338, \"3crv_fraction\": 0.49999893996346617, \"pool_tvl_usd\": 29454166.98632891}, {\"timestamp\": \"2022-09-11T00:00:00\", \"variable\": \"3crv_fraction\", \"value\": 0.49999893996346617, \"reserves_3crv\": 15050696.966399759, \"reserves_bean\": 14727080.35255502, \"deltaB\": 31.222932916666668, \"bean_fraction\": 0.5000010600365338, \"3crv_fraction\": 0.49999893996346617, \"pool_tvl_usd\": 29454166.98632891}, {\"timestamp\": \"2022-09-11T00:00:00\", \"variable\": \"pool_tvl_usd\", \"value\": 29454166.98632891, \"reserves_3crv\": 15050696.966399759, \"reserves_bean\": 14727080.35255502, \"deltaB\": 31.222932916666668, \"bean_fraction\": 0.5000010600365338, \"3crv_fraction\": 0.49999893996346617, \"pool_tvl_usd\": 29454166.98632891}, {\"timestamp\": \"2022-09-12T00:00:00\", \"variable\": \"reserves_3crv\", \"value\": 15036288.500649469, \"reserves_3crv\": 15036288.500649469, \"reserves_bean\": 14712789.758401, \"deltaB\": -44.01067533333333, \"bean_fraction\": 0.49999850152717573, \"3crv_fraction\": 0.5000014984728243, \"pool_tvl_usd\": 29425750.85603388}, {\"timestamp\": \"2022-09-12T00:00:00\", \"variable\": \"reserves_bean\", \"value\": 14712789.758401, \"reserves_3crv\": 15036288.500649469, \"reserves_bean\": 14712789.758401, \"deltaB\": -44.01067533333333, \"bean_fraction\": 0.49999850152717573, \"3crv_fraction\": 0.5000014984728243, \"pool_tvl_usd\": 29425750.85603388}, {\"timestamp\": \"2022-09-12T00:00:00\", \"variable\": \"deltaB\", \"value\": -44.01067533333333, \"reserves_3crv\": 15036288.500649469, \"reserves_bean\": 14712789.758401, \"deltaB\": -44.01067533333333, \"bean_fraction\": 0.49999850152717573, \"3crv_fraction\": 0.5000014984728243, \"pool_tvl_usd\": 29425750.85603388}, {\"timestamp\": \"2022-09-12T00:00:00\", \"variable\": \"bean_fraction\", \"value\": 0.49999850152717573, \"reserves_3crv\": 15036288.500649469, \"reserves_bean\": 14712789.758401, \"deltaB\": -44.01067533333333, \"bean_fraction\": 0.49999850152717573, \"3crv_fraction\": 0.5000014984728243, \"pool_tvl_usd\": 29425750.85603388}, {\"timestamp\": \"2022-09-12T00:00:00\", \"variable\": \"3crv_fraction\", \"value\": 0.5000014984728243, \"reserves_3crv\": 15036288.500649469, \"reserves_bean\": 14712789.758401, \"deltaB\": -44.01067533333333, \"bean_fraction\": 0.49999850152717573, \"3crv_fraction\": 0.5000014984728243, \"pool_tvl_usd\": 29425750.85603388}, {\"timestamp\": \"2022-09-12T00:00:00\", \"variable\": \"pool_tvl_usd\", \"value\": 29425750.85603388, \"reserves_3crv\": 15036288.500649469, \"reserves_bean\": 14712789.758401, \"deltaB\": -44.01067533333333, \"bean_fraction\": 0.49999850152717573, \"3crv_fraction\": 0.5000014984728243, \"pool_tvl_usd\": 29425750.85603388}, {\"timestamp\": \"2022-09-13T00:00:00\", \"variable\": \"reserves_3crv\", \"value\": 15007104.26369637, \"reserves_3crv\": 15007104.26369637, \"reserves_bean\": 14684314.737467567, \"deltaB\": 27.718473458333335, \"bean_fraction\": 0.5000009438254013, \"3crv_fraction\": 0.4999990561745988, \"pool_tvl_usd\": 29368636.446508545}, {\"timestamp\": \"2022-09-13T00:00:00\", \"variable\": \"reserves_bean\", \"value\": 14684314.737467567, \"reserves_3crv\": 15007104.26369637, \"reserves_bean\": 14684314.737467567, \"deltaB\": 27.718473458333335, \"bean_fraction\": 0.5000009438254013, \"3crv_fraction\": 0.4999990561745988, \"pool_tvl_usd\": 29368636.446508545}, {\"timestamp\": \"2022-09-13T00:00:00\", \"variable\": \"deltaB\", \"value\": 27.718473458333335, \"reserves_3crv\": 15007104.26369637, \"reserves_bean\": 14684314.737467567, \"deltaB\": 27.718473458333335, \"bean_fraction\": 0.5000009438254013, \"3crv_fraction\": 0.4999990561745988, \"pool_tvl_usd\": 29368636.446508545}, {\"timestamp\": \"2022-09-13T00:00:00\", \"variable\": \"bean_fraction\", \"value\": 0.5000009438254013, \"reserves_3crv\": 15007104.26369637, \"reserves_bean\": 14684314.737467567, \"deltaB\": 27.718473458333335, \"bean_fraction\": 0.5000009438254013, \"3crv_fraction\": 0.4999990561745988, \"pool_tvl_usd\": 29368636.446508545}, {\"timestamp\": \"2022-09-13T00:00:00\", \"variable\": \"3crv_fraction\", \"value\": 0.4999990561745988, \"reserves_3crv\": 15007104.26369637, \"reserves_bean\": 14684314.737467567, \"deltaB\": 27.718473458333335, \"bean_fraction\": 0.5000009438254013, \"3crv_fraction\": 0.4999990561745988, \"pool_tvl_usd\": 29368636.446508545}, {\"timestamp\": \"2022-09-13T00:00:00\", \"variable\": \"pool_tvl_usd\", \"value\": 29368636.446508545, \"reserves_3crv\": 15007104.26369637, \"reserves_bean\": 14684314.737467567, \"deltaB\": 27.718473458333335, \"bean_fraction\": 0.5000009438254013, \"3crv_fraction\": 0.4999990561745988, \"pool_tvl_usd\": 29368636.446508545}, {\"timestamp\": \"2022-09-14T00:00:00\", \"variable\": \"reserves_3crv\", \"value\": 15011404.090777213, \"reserves_3crv\": 15011404.090777213, \"reserves_bean\": 14688488.91889557, \"deltaB\": 65.79783149999999, \"bean_fraction\": 0.5000022398537917, \"3crv_fraction\": 0.4999977601462082, \"pool_tvl_usd\": 29376979.655853245}, {\"timestamp\": \"2022-09-14T00:00:00\", \"variable\": \"reserves_bean\", \"value\": 14688488.91889557, \"reserves_3crv\": 15011404.090777213, \"reserves_bean\": 14688488.91889557, \"deltaB\": 65.79783149999999, \"bean_fraction\": 0.5000022398537917, \"3crv_fraction\": 0.4999977601462082, \"pool_tvl_usd\": 29376979.655853245}, {\"timestamp\": \"2022-09-14T00:00:00\", \"variable\": \"deltaB\", \"value\": 65.79783149999999, \"reserves_3crv\": 15011404.090777213, \"reserves_bean\": 14688488.91889557, \"deltaB\": 65.79783149999999, \"bean_fraction\": 0.5000022398537917, \"3crv_fraction\": 0.4999977601462082, \"pool_tvl_usd\": 29376979.655853245}, {\"timestamp\": \"2022-09-14T00:00:00\", \"variable\": \"bean_fraction\", \"value\": 0.5000022398537917, \"reserves_3crv\": 15011404.090777213, \"reserves_bean\": 14688488.91889557, \"deltaB\": 65.79783149999999, \"bean_fraction\": 0.5000022398537917, \"3crv_fraction\": 0.4999977601462082, \"pool_tvl_usd\": 29376979.655853245}, {\"timestamp\": \"2022-09-14T00:00:00\", \"variable\": \"3crv_fraction\", \"value\": 0.4999977601462082, \"reserves_3crv\": 15011404.090777213, \"reserves_bean\": 14688488.91889557, \"deltaB\": 65.79783149999999, \"bean_fraction\": 0.5000022398537917, \"3crv_fraction\": 0.4999977601462082, \"pool_tvl_usd\": 29376979.655853245}, {\"timestamp\": \"2022-09-14T00:00:00\", \"variable\": \"pool_tvl_usd\", \"value\": 29376979.655853245, \"reserves_3crv\": 15011404.090777213, \"reserves_bean\": 14688488.91889557, \"deltaB\": 65.79783149999999, \"bean_fraction\": 0.5000022398537917, \"3crv_fraction\": 0.4999977601462082, \"pool_tvl_usd\": 29376979.655853245}, {\"timestamp\": \"2022-09-15T00:00:00\", \"variable\": \"reserves_3crv\", \"value\": 15012485.2535202, \"reserves_3crv\": 15012485.2535202, \"reserves_bean\": 14689127.65986871, \"deltaB\": -83.71604325, \"bean_fraction\": 0.49999715042197795, \"3crv_fraction\": 0.5000028495780221, \"pool_tvl_usd\": 29378244.02677555}, {\"timestamp\": \"2022-09-15T00:00:00\", \"variable\": \"reserves_bean\", \"value\": 14689127.65986871, \"reserves_3crv\": 15012485.2535202, \"reserves_bean\": 14689127.65986871, \"deltaB\": -83.71604325, \"bean_fraction\": 0.49999715042197795, \"3crv_fraction\": 0.5000028495780221, \"pool_tvl_usd\": 29378244.02677555}, {\"timestamp\": \"2022-09-15T00:00:00\", \"variable\": \"deltaB\", \"value\": -83.71604325, \"reserves_3crv\": 15012485.2535202, \"reserves_bean\": 14689127.65986871, \"deltaB\": -83.71604325, \"bean_fraction\": 0.49999715042197795, \"3crv_fraction\": 0.5000028495780221, \"pool_tvl_usd\": 29378244.02677555}, {\"timestamp\": \"2022-09-15T00:00:00\", \"variable\": \"bean_fraction\", \"value\": 0.49999715042197795, \"reserves_3crv\": 15012485.2535202, \"reserves_bean\": 14689127.65986871, \"deltaB\": -83.71604325, \"bean_fraction\": 0.49999715042197795, \"3crv_fraction\": 0.5000028495780221, \"pool_tvl_usd\": 29378244.02677555}, {\"timestamp\": \"2022-09-15T00:00:00\", \"variable\": \"3crv_fraction\", \"value\": 0.5000028495780221, \"reserves_3crv\": 15012485.2535202, \"reserves_bean\": 14689127.65986871, \"deltaB\": -83.71604325, \"bean_fraction\": 0.49999715042197795, \"3crv_fraction\": 0.5000028495780221, \"pool_tvl_usd\": 29378244.02677555}, {\"timestamp\": \"2022-09-15T00:00:00\", \"variable\": \"pool_tvl_usd\", \"value\": 29378244.02677555, \"reserves_3crv\": 15012485.2535202, \"reserves_bean\": 14689127.65986871, \"deltaB\": -83.71604325, \"bean_fraction\": 0.49999715042197795, \"3crv_fraction\": 0.5000028495780221, \"pool_tvl_usd\": 29378244.02677555}, {\"timestamp\": \"2022-09-16T00:00:00\", \"variable\": \"reserves_3crv\", \"value\": 14993368.280058516, \"reserves_3crv\": 14993368.280058516, \"reserves_bean\": 14667780.349778041, \"deltaB\": -1401.5258580416667, \"bean_fraction\": 0.49995227223959066, \"3crv_fraction\": 0.5000477277604093, \"pool_tvl_usd\": 29335843.036664788}, {\"timestamp\": \"2022-09-16T00:00:00\", \"variable\": \"reserves_bean\", \"value\": 14667780.349778041, \"reserves_3crv\": 14993368.280058516, \"reserves_bean\": 14667780.349778041, \"deltaB\": -1401.5258580416667, \"bean_fraction\": 0.49995227223959066, \"3crv_fraction\": 0.5000477277604093, \"pool_tvl_usd\": 29335843.036664788}, {\"timestamp\": \"2022-09-16T00:00:00\", \"variable\": \"deltaB\", \"value\": -1401.5258580416667, \"reserves_3crv\": 14993368.280058516, \"reserves_bean\": 14667780.349778041, \"deltaB\": -1401.5258580416667, \"bean_fraction\": 0.49995227223959066, \"3crv_fraction\": 0.5000477277604093, \"pool_tvl_usd\": 29335843.036664788}, {\"timestamp\": \"2022-09-16T00:00:00\", \"variable\": \"bean_fraction\", \"value\": 0.49995227223959066, \"reserves_3crv\": 14993368.280058516, \"reserves_bean\": 14667780.349778041, \"deltaB\": -1401.5258580416667, \"bean_fraction\": 0.49995227223959066, \"3crv_fraction\": 0.5000477277604093, \"pool_tvl_usd\": 29335843.036664788}, {\"timestamp\": \"2022-09-16T00:00:00\", \"variable\": \"3crv_fraction\", \"value\": 0.5000477277604093, \"reserves_3crv\": 14993368.280058516, \"reserves_bean\": 14667780.349778041, \"deltaB\": -1401.5258580416667, \"bean_fraction\": 0.49995227223959066, \"3crv_fraction\": 0.5000477277604093, \"pool_tvl_usd\": 29335843.036664788}, {\"timestamp\": \"2022-09-16T00:00:00\", \"variable\": \"pool_tvl_usd\", \"value\": 29335843.036664788, \"reserves_3crv\": 14993368.280058516, \"reserves_bean\": 14667780.349778041, \"deltaB\": -1401.5258580416667, \"bean_fraction\": 0.49995227223959066, \"3crv_fraction\": 0.5000477277604093, \"pool_tvl_usd\": 29335843.036664788}, {\"timestamp\": \"2022-09-17T00:00:00\", \"variable\": \"reserves_3crv\", \"value\": 14965201.821783401, \"reserves_3crv\": 14965201.821783401, \"reserves_bean\": 14642949.628168961, \"deltaB\": 19.174026916666666, \"bean_fraction\": 0.5000006547186299, \"3crv_fraction\": 0.4999993452813702, \"pool_tvl_usd\": 29285902.396655038}, {\"timestamp\": \"2022-09-17T00:00:00\", \"variable\": \"reserves_bean\", \"value\": 14642949.628168961, \"reserves_3crv\": 14965201.821783401, \"reserves_bean\": 14642949.628168961, \"deltaB\": 19.174026916666666, \"bean_fraction\": 0.5000006547186299, \"3crv_fraction\": 0.4999993452813702, \"pool_tvl_usd\": 29285902.396655038}, {\"timestamp\": \"2022-09-17T00:00:00\", \"variable\": \"deltaB\", \"value\": 19.174026916666666, \"reserves_3crv\": 14965201.821783401, \"reserves_bean\": 14642949.628168961, \"deltaB\": 19.174026916666666, \"bean_fraction\": 0.5000006547186299, \"3crv_fraction\": 0.4999993452813702, \"pool_tvl_usd\": 29285902.396655038}, {\"timestamp\": \"2022-09-17T00:00:00\", \"variable\": \"bean_fraction\", \"value\": 0.5000006547186299, \"reserves_3crv\": 14965201.821783401, \"reserves_bean\": 14642949.628168961, \"deltaB\": 19.174026916666666, \"bean_fraction\": 0.5000006547186299, \"3crv_fraction\": 0.4999993452813702, \"pool_tvl_usd\": 29285902.396655038}, {\"timestamp\": \"2022-09-17T00:00:00\", \"variable\": \"3crv_fraction\", \"value\": 0.4999993452813702, \"reserves_3crv\": 14965201.821783401, \"reserves_bean\": 14642949.628168961, \"deltaB\": 19.174026916666666, \"bean_fraction\": 0.5000006547186299, \"3crv_fraction\": 0.4999993452813702, \"pool_tvl_usd\": 29285902.396655038}, {\"timestamp\": \"2022-09-17T00:00:00\", \"variable\": \"pool_tvl_usd\", \"value\": 29285902.396655038, \"reserves_3crv\": 14965201.821783401, \"reserves_bean\": 14642949.628168961, \"deltaB\": 19.174026916666666, \"bean_fraction\": 0.5000006547186299, \"3crv_fraction\": 0.4999993452813702, \"pool_tvl_usd\": 29285902.396655038}, {\"timestamp\": \"2022-09-18T00:00:00\", \"variable\": \"reserves_3crv\", \"value\": 14964779.944332255, \"reserves_3crv\": 14964779.944332255, \"reserves_bean\": 14642546.00448578, \"deltaB\": 42.385329, \"bean_fraction\": 0.500001447337291, \"3crv_fraction\": 0.49999855266270893, \"pool_tvl_usd\": 29285067.02892414}, {\"timestamp\": \"2022-09-18T00:00:00\", \"variable\": \"reserves_bean\", \"value\": 14642546.00448578, \"reserves_3crv\": 14964779.944332255, \"reserves_bean\": 14642546.00448578, \"deltaB\": 42.385329, \"bean_fraction\": 0.500001447337291, \"3crv_fraction\": 0.49999855266270893, \"pool_tvl_usd\": 29285067.02892414}, {\"timestamp\": \"2022-09-18T00:00:00\", \"variable\": \"deltaB\", \"value\": 42.385329, \"reserves_3crv\": 14964779.944332255, \"reserves_bean\": 14642546.00448578, \"deltaB\": 42.385329, \"bean_fraction\": 0.500001447337291, \"3crv_fraction\": 0.49999855266270893, \"pool_tvl_usd\": 29285067.02892414}, {\"timestamp\": \"2022-09-18T00:00:00\", \"variable\": \"bean_fraction\", \"value\": 0.500001447337291, \"reserves_3crv\": 14964779.944332255, \"reserves_bean\": 14642546.00448578, \"deltaB\": 42.385329, \"bean_fraction\": 0.500001447337291, \"3crv_fraction\": 0.49999855266270893, \"pool_tvl_usd\": 29285067.02892414}, {\"timestamp\": \"2022-09-18T00:00:00\", \"variable\": \"3crv_fraction\", \"value\": 0.49999855266270893, \"reserves_3crv\": 14964779.944332255, \"reserves_bean\": 14642546.00448578, \"deltaB\": 42.385329, \"bean_fraction\": 0.500001447337291, \"3crv_fraction\": 0.49999855266270893, \"pool_tvl_usd\": 29285067.02892414}, {\"timestamp\": \"2022-09-18T00:00:00\", \"variable\": \"pool_tvl_usd\", \"value\": 29285067.02892414, \"reserves_3crv\": 14964779.944332255, \"reserves_bean\": 14642546.00448578, \"deltaB\": 42.385329, \"bean_fraction\": 0.500001447337291, \"3crv_fraction\": 0.49999855266270893, \"pool_tvl_usd\": 29285067.02892414}, {\"timestamp\": \"2022-09-19T00:00:00\", \"variable\": \"reserves_3crv\", \"value\": 14913363.31735026, \"reserves_3crv\": 14913363.31735026, \"reserves_bean\": 14517231.123787155, \"deltaB\": -38344.05949970834, \"bean_fraction\": 0.4986691030400703, \"3crv_fraction\": 0.5013308969599297, \"pool_tvl_usd\": 29035153.535437778}, {\"timestamp\": \"2022-09-19T00:00:00\", \"variable\": \"reserves_bean\", \"value\": 14517231.123787155, \"reserves_3crv\": 14913363.31735026, \"reserves_bean\": 14517231.123787155, \"deltaB\": -38344.05949970834, \"bean_fraction\": 0.4986691030400703, \"3crv_fraction\": 0.5013308969599297, \"pool_tvl_usd\": 29035153.535437778}, {\"timestamp\": \"2022-09-19T00:00:00\", \"variable\": \"deltaB\", \"value\": -38344.05949970834, \"reserves_3crv\": 14913363.31735026, \"reserves_bean\": 14517231.123787155, \"deltaB\": -38344.05949970834, \"bean_fraction\": 0.4986691030400703, \"3crv_fraction\": 0.5013308969599297, \"pool_tvl_usd\": 29035153.535437778}, {\"timestamp\": \"2022-09-19T00:00:00\", \"variable\": \"bean_fraction\", \"value\": 0.4986691030400703, \"reserves_3crv\": 14913363.31735026, \"reserves_bean\": 14517231.123787155, \"deltaB\": -38344.05949970834, \"bean_fraction\": 0.4986691030400703, \"3crv_fraction\": 0.5013308969599297, \"pool_tvl_usd\": 29035153.535437778}, {\"timestamp\": \"2022-09-19T00:00:00\", \"variable\": \"3crv_fraction\", \"value\": 0.5013308969599297, \"reserves_3crv\": 14913363.31735026, \"reserves_bean\": 14517231.123787155, \"deltaB\": -38344.05949970834, \"bean_fraction\": 0.4986691030400703, \"3crv_fraction\": 0.5013308969599297, \"pool_tvl_usd\": 29035153.535437778}, {\"timestamp\": \"2022-09-19T00:00:00\", \"variable\": \"pool_tvl_usd\", \"value\": 29035153.535437778, \"reserves_3crv\": 14913363.31735026, \"reserves_bean\": 14517231.123787155, \"deltaB\": -38344.05949970834, \"bean_fraction\": 0.4986691030400703, \"3crv_fraction\": 0.5013308969599297, \"pool_tvl_usd\": 29035153.535437778}, {\"timestamp\": \"2022-09-20T00:00:00\", \"variable\": \"reserves_3crv\", \"value\": 14788844.19016396, \"reserves_3crv\": 14788844.19016396, \"reserves_bean\": 14191304.217143832, \"deltaB\": -142867.87463408333, \"bean_fraction\": 0.49501796573891393, \"3crv_fraction\": 0.5049820342610861, \"pool_tvl_usd\": 28392306.20166905}, {\"timestamp\": \"2022-09-20T00:00:00\", \"variable\": \"reserves_bean\", \"value\": 14191304.217143832, \"reserves_3crv\": 14788844.19016396, \"reserves_bean\": 14191304.217143832, \"deltaB\": -142867.87463408333, \"bean_fraction\": 0.49501796573891393, \"3crv_fraction\": 0.5049820342610861, \"pool_tvl_usd\": 28392306.20166905}, {\"timestamp\": \"2022-09-20T00:00:00\", \"variable\": \"deltaB\", \"value\": -142867.87463408333, \"reserves_3crv\": 14788844.19016396, \"reserves_bean\": 14191304.217143832, \"deltaB\": -142867.87463408333, \"bean_fraction\": 0.49501796573891393, \"3crv_fraction\": 0.5049820342610861, \"pool_tvl_usd\": 28392306.20166905}, {\"timestamp\": \"2022-09-20T00:00:00\", \"variable\": \"bean_fraction\", \"value\": 0.49501796573891393, \"reserves_3crv\": 14788844.19016396, \"reserves_bean\": 14191304.217143832, \"deltaB\": -142867.87463408333, \"bean_fraction\": 0.49501796573891393, \"3crv_fraction\": 0.5049820342610861, \"pool_tvl_usd\": 28392306.20166905}, {\"timestamp\": \"2022-09-20T00:00:00\", \"variable\": \"3crv_fraction\", \"value\": 0.5049820342610861, \"reserves_3crv\": 14788844.19016396, \"reserves_bean\": 14191304.217143832, \"deltaB\": -142867.87463408333, \"bean_fraction\": 0.49501796573891393, \"3crv_fraction\": 0.5049820342610861, \"pool_tvl_usd\": 28392306.20166905}, {\"timestamp\": \"2022-09-20T00:00:00\", \"variable\": \"pool_tvl_usd\", \"value\": 28392306.20166905, \"reserves_3crv\": 14788844.19016396, \"reserves_bean\": 14191304.217143832, \"deltaB\": -142867.87463408333, \"bean_fraction\": 0.49501796573891393, \"3crv_fraction\": 0.5049820342610861, \"pool_tvl_usd\": 28392306.20166905}, {\"timestamp\": \"2022-09-21T00:00:00\", \"variable\": \"reserves_3crv\", \"value\": 14683280.684140595, \"reserves_3crv\": 14683280.684140595, \"reserves_bean\": 14197746.028584555, \"deltaB\": -86537.27813483334, \"bean_fraction\": 0.49697090926399506, \"3crv_fraction\": 0.503029090736005, \"pool_tvl_usd\": 28401727.590223283}, {\"timestamp\": \"2022-09-21T00:00:00\", \"variable\": \"reserves_bean\", \"value\": 14197746.028584555, \"reserves_3crv\": 14683280.684140595, \"reserves_bean\": 14197746.028584555, \"deltaB\": -86537.27813483334, \"bean_fraction\": 0.49697090926399506, \"3crv_fraction\": 0.503029090736005, \"pool_tvl_usd\": 28401727.590223283}, {\"timestamp\": \"2022-09-21T00:00:00\", \"variable\": \"deltaB\", \"value\": -86537.27813483334, \"reserves_3crv\": 14683280.684140595, \"reserves_bean\": 14197746.028584555, \"deltaB\": -86537.27813483334, \"bean_fraction\": 0.49697090926399506, \"3crv_fraction\": 0.503029090736005, \"pool_tvl_usd\": 28401727.590223283}, {\"timestamp\": \"2022-09-21T00:00:00\", \"variable\": \"bean_fraction\", \"value\": 0.49697090926399506, \"reserves_3crv\": 14683280.684140595, \"reserves_bean\": 14197746.028584555, \"deltaB\": -86537.27813483334, \"bean_fraction\": 0.49697090926399506, \"3crv_fraction\": 0.503029090736005, \"pool_tvl_usd\": 28401727.590223283}, {\"timestamp\": \"2022-09-21T00:00:00\", \"variable\": \"3crv_fraction\", \"value\": 0.503029090736005, \"reserves_3crv\": 14683280.684140595, \"reserves_bean\": 14197746.028584555, \"deltaB\": -86537.27813483334, \"bean_fraction\": 0.49697090926399506, \"3crv_fraction\": 0.503029090736005, \"pool_tvl_usd\": 28401727.590223283}, {\"timestamp\": \"2022-09-21T00:00:00\", \"variable\": \"pool_tvl_usd\", \"value\": 28401727.590223283, \"reserves_3crv\": 14683280.684140595, \"reserves_bean\": 14197746.028584555, \"deltaB\": -86537.27813483334, \"bean_fraction\": 0.49697090926399506, \"3crv_fraction\": 0.503029090736005, \"pool_tvl_usd\": 28401727.590223283}, {\"timestamp\": \"2022-09-22T00:00:00\", \"variable\": \"reserves_3crv\", \"value\": 14678249.466093995, \"reserves_3crv\": 14678249.466093995, \"reserves_bean\": 14192386.480061388, \"deltaB\": -86736.232147875, \"bean_fraction\": 0.49696282989555657, \"3crv_fraction\": 0.5030371701044435, \"pool_tvl_usd\": 28389040.204746764}, {\"timestamp\": \"2022-09-22T00:00:00\", \"variable\": \"reserves_bean\", \"value\": 14192386.480061388, \"reserves_3crv\": 14678249.466093995, \"reserves_bean\": 14192386.480061388, \"deltaB\": -86736.232147875, \"bean_fraction\": 0.49696282989555657, \"3crv_fraction\": 0.5030371701044435, \"pool_tvl_usd\": 28389040.204746764}, {\"timestamp\": \"2022-09-22T00:00:00\", \"variable\": \"deltaB\", \"value\": -86736.232147875, \"reserves_3crv\": 14678249.466093995, \"reserves_bean\": 14192386.480061388, \"deltaB\": -86736.232147875, \"bean_fraction\": 0.49696282989555657, \"3crv_fraction\": 0.5030371701044435, \"pool_tvl_usd\": 28389040.204746764}, {\"timestamp\": \"2022-09-22T00:00:00\", \"variable\": \"bean_fraction\", \"value\": 0.49696282989555657, \"reserves_3crv\": 14678249.466093995, \"reserves_bean\": 14192386.480061388, \"deltaB\": -86736.232147875, \"bean_fraction\": 0.49696282989555657, \"3crv_fraction\": 0.5030371701044435, \"pool_tvl_usd\": 28389040.204746764}, {\"timestamp\": \"2022-09-22T00:00:00\", \"variable\": \"3crv_fraction\", \"value\": 0.5030371701044435, \"reserves_3crv\": 14678249.466093995, \"reserves_bean\": 14192386.480061388, \"deltaB\": -86736.232147875, \"bean_fraction\": 0.49696282989555657, \"3crv_fraction\": 0.5030371701044435, \"pool_tvl_usd\": 28389040.204746764}, {\"timestamp\": \"2022-09-22T00:00:00\", \"variable\": \"pool_tvl_usd\", \"value\": 28389040.204746764, \"reserves_3crv\": 14678249.466093995, \"reserves_bean\": 14192386.480061388, \"deltaB\": -86736.232147875, \"bean_fraction\": 0.49696282989555657, \"3crv_fraction\": 0.5030371701044435, \"pool_tvl_usd\": 28389040.204746764}, {\"timestamp\": \"2022-09-23T00:00:00\", \"variable\": \"reserves_3crv\", \"value\": 14678395.538172016, \"reserves_3crv\": 14678395.538172016, \"reserves_bean\": 14189408.264006443, \"deltaB\": -88320.65263816668, \"bean_fraction\": 0.4969070545572627, \"3crv_fraction\": 0.5030929454427373, \"pool_tvl_usd\": 28383576.213005677}, {\"timestamp\": \"2022-09-23T00:00:00\", \"variable\": \"reserves_bean\", \"value\": 14189408.264006443, \"reserves_3crv\": 14678395.538172016, \"reserves_bean\": 14189408.264006443, \"deltaB\": -88320.65263816668, \"bean_fraction\": 0.4969070545572627, \"3crv_fraction\": 0.5030929454427373, \"pool_tvl_usd\": 28383576.213005677}, {\"timestamp\": \"2022-09-23T00:00:00\", \"variable\": \"deltaB\", \"value\": -88320.65263816668, \"reserves_3crv\": 14678395.538172016, \"reserves_bean\": 14189408.264006443, \"deltaB\": -88320.65263816668, \"bean_fraction\": 0.4969070545572627, \"3crv_fraction\": 0.5030929454427373, \"pool_tvl_usd\": 28383576.213005677}, {\"timestamp\": \"2022-09-23T00:00:00\", \"variable\": \"bean_fraction\", \"value\": 0.4969070545572627, \"reserves_3crv\": 14678395.538172016, \"reserves_bean\": 14189408.264006443, \"deltaB\": -88320.65263816668, \"bean_fraction\": 0.4969070545572627, \"3crv_fraction\": 0.5030929454427373, \"pool_tvl_usd\": 28383576.213005677}, {\"timestamp\": \"2022-09-23T00:00:00\", \"variable\": \"3crv_fraction\", \"value\": 0.5030929454427373, \"reserves_3crv\": 14678395.538172016, \"reserves_bean\": 14189408.264006443, \"deltaB\": -88320.65263816668, \"bean_fraction\": 0.4969070545572627, \"3crv_fraction\": 0.5030929454427373, \"pool_tvl_usd\": 28383576.213005677}, {\"timestamp\": \"2022-09-23T00:00:00\", \"variable\": \"pool_tvl_usd\", \"value\": 28383576.213005677, \"reserves_3crv\": 14678395.538172016, \"reserves_bean\": 14189408.264006443, \"deltaB\": -88320.65263816668, \"bean_fraction\": 0.4969070545572627, \"3crv_fraction\": 0.5030929454427373, \"pool_tvl_usd\": 28383576.213005677}, {\"timestamp\": \"2022-09-24T00:00:00\", \"variable\": \"reserves_3crv\", \"value\": 14670027.518520093, \"reserves_3crv\": 14670027.518520093, \"reserves_bean\": 14195895.89610631, \"deltaB\": -80786.99797820834, \"bean_fraction\": 0.4971706664472398, \"3crv_fraction\": 0.5028293335527602, \"pool_tvl_usd\": 28395583.451647896}, {\"timestamp\": \"2022-09-24T00:00:00\", \"variable\": \"reserves_bean\", \"value\": 14195895.89610631, \"reserves_3crv\": 14670027.518520093, \"reserves_bean\": 14195895.89610631, \"deltaB\": -80786.99797820834, \"bean_fraction\": 0.4971706664472398, \"3crv_fraction\": 0.5028293335527602, \"pool_tvl_usd\": 28395583.451647896}, {\"timestamp\": \"2022-09-24T00:00:00\", \"variable\": \"deltaB\", \"value\": -80786.99797820834, \"reserves_3crv\": 14670027.518520093, \"reserves_bean\": 14195895.89610631, \"deltaB\": -80786.99797820834, \"bean_fraction\": 0.4971706664472398, \"3crv_fraction\": 0.5028293335527602, \"pool_tvl_usd\": 28395583.451647896}, {\"timestamp\": \"2022-09-24T00:00:00\", \"variable\": \"bean_fraction\", \"value\": 0.4971706664472398, \"reserves_3crv\": 14670027.518520093, \"reserves_bean\": 14195895.89610631, \"deltaB\": -80786.99797820834, \"bean_fraction\": 0.4971706664472398, \"3crv_fraction\": 0.5028293335527602, \"pool_tvl_usd\": 28395583.451647896}, {\"timestamp\": \"2022-09-24T00:00:00\", \"variable\": \"3crv_fraction\", \"value\": 0.5028293335527602, \"reserves_3crv\": 14670027.518520093, \"reserves_bean\": 14195895.89610631, \"deltaB\": -80786.99797820834, \"bean_fraction\": 0.4971706664472398, \"3crv_fraction\": 0.5028293335527602, \"pool_tvl_usd\": 28395583.451647896}, {\"timestamp\": \"2022-09-24T00:00:00\", \"variable\": \"pool_tvl_usd\", \"value\": 28395583.451647896, \"reserves_3crv\": 14670027.518520093, \"reserves_bean\": 14195895.89610631, \"deltaB\": -80786.99797820834, \"bean_fraction\": 0.4971706664472398, \"3crv_fraction\": 0.5028293335527602, \"pool_tvl_usd\": 28395583.451647896}, {\"timestamp\": \"2022-09-25T00:00:00\", \"variable\": \"reserves_3crv\", \"value\": 14682031.142804474, \"reserves_3crv\": 14682031.142804474, \"reserves_bean\": 14182070.357313514, \"deltaB\": -93877.03767295834, \"bean_fraction\": 0.4967120554873276, \"3crv_fraction\": 0.5032879445126724, \"pool_tvl_usd\": 28368950.919947445}, {\"timestamp\": \"2022-09-25T00:00:00\", \"variable\": \"reserves_bean\", \"value\": 14182070.357313514, \"reserves_3crv\": 14682031.142804474, \"reserves_bean\": 14182070.357313514, \"deltaB\": -93877.03767295834, \"bean_fraction\": 0.4967120554873276, \"3crv_fraction\": 0.5032879445126724, \"pool_tvl_usd\": 28368950.919947445}, {\"timestamp\": \"2022-09-25T00:00:00\", \"variable\": \"deltaB\", \"value\": -93877.03767295834, \"reserves_3crv\": 14682031.142804474, \"reserves_bean\": 14182070.357313514, \"deltaB\": -93877.03767295834, \"bean_fraction\": 0.4967120554873276, \"3crv_fraction\": 0.5032879445126724, \"pool_tvl_usd\": 28368950.919947445}, {\"timestamp\": \"2022-09-25T00:00:00\", \"variable\": \"bean_fraction\", \"value\": 0.4967120554873276, \"reserves_3crv\": 14682031.142804474, \"reserves_bean\": 14182070.357313514, \"deltaB\": -93877.03767295834, \"bean_fraction\": 0.4967120554873276, \"3crv_fraction\": 0.5032879445126724, \"pool_tvl_usd\": 28368950.919947445}, {\"timestamp\": \"2022-09-25T00:00:00\", \"variable\": \"3crv_fraction\", \"value\": 0.5032879445126724, \"reserves_3crv\": 14682031.142804474, \"reserves_bean\": 14182070.357313514, \"deltaB\": -93877.03767295834, \"bean_fraction\": 0.4967120554873276, \"3crv_fraction\": 0.5032879445126724, \"pool_tvl_usd\": 28368950.919947445}, {\"timestamp\": \"2022-09-25T00:00:00\", \"variable\": \"pool_tvl_usd\", \"value\": 28368950.919947445, \"reserves_3crv\": 14682031.142804474, \"reserves_bean\": 14182070.357313514, \"deltaB\": -93877.03767295834, \"bean_fraction\": 0.4967120554873276, \"3crv_fraction\": 0.5032879445126724, \"pool_tvl_usd\": 28368950.919947445}, {\"timestamp\": \"2022-09-26T00:00:00\", \"variable\": \"reserves_3crv\", \"value\": 14687090.038358292, \"reserves_3crv\": 14687090.038358292, \"reserves_bean\": 14175800.876761185, \"deltaB\": -99615.46286429167, \"bean_fraction\": 0.4965109441883065, \"3crv_fraction\": 0.5034890558116935, \"pool_tvl_usd\": 28356470.479210604}, {\"timestamp\": \"2022-09-26T00:00:00\", \"variable\": \"reserves_bean\", \"value\": 14175800.876761185, \"reserves_3crv\": 14687090.038358292, \"reserves_bean\": 14175800.876761185, \"deltaB\": -99615.46286429167, \"bean_fraction\": 0.4965109441883065, \"3crv_fraction\": 0.5034890558116935, \"pool_tvl_usd\": 28356470.479210604}, {\"timestamp\": \"2022-09-26T00:00:00\", \"variable\": \"deltaB\", \"value\": -99615.46286429167, \"reserves_3crv\": 14687090.038358292, \"reserves_bean\": 14175800.876761185, \"deltaB\": -99615.46286429167, \"bean_fraction\": 0.4965109441883065, \"3crv_fraction\": 0.5034890558116935, \"pool_tvl_usd\": 28356470.479210604}, {\"timestamp\": \"2022-09-26T00:00:00\", \"variable\": \"bean_fraction\", \"value\": 0.4965109441883065, \"reserves_3crv\": 14687090.038358292, \"reserves_bean\": 14175800.876761185, \"deltaB\": -99615.46286429167, \"bean_fraction\": 0.4965109441883065, \"3crv_fraction\": 0.5034890558116935, \"pool_tvl_usd\": 28356470.479210604}, {\"timestamp\": \"2022-09-26T00:00:00\", \"variable\": \"3crv_fraction\", \"value\": 0.5034890558116935, \"reserves_3crv\": 14687090.038358292, \"reserves_bean\": 14175800.876761185, \"deltaB\": -99615.46286429167, \"bean_fraction\": 0.4965109441883065, \"3crv_fraction\": 0.5034890558116935, \"pool_tvl_usd\": 28356470.479210604}, {\"timestamp\": \"2022-09-26T00:00:00\", \"variable\": \"pool_tvl_usd\", \"value\": 28356470.479210604, \"reserves_3crv\": 14687090.038358292, \"reserves_bean\": 14175800.876761185, \"deltaB\": -99615.46286429167, \"bean_fraction\": 0.4965109441883065, \"3crv_fraction\": 0.5034890558116935, \"pool_tvl_usd\": 28356470.479210604}, {\"timestamp\": \"2022-09-27T00:00:00\", \"variable\": \"reserves_3crv\", \"value\": 14701979.862730762, \"reserves_3crv\": 14701979.862730762, \"reserves_bean\": 14154284.765635757, \"deltaB\": -118101.01672575, \"bean_fraction\": 0.49586253376262296, \"3crv_fraction\": 0.504137466237377, \"pool_tvl_usd\": 28314059.943740655}, {\"timestamp\": \"2022-09-27T00:00:00\", \"variable\": \"reserves_bean\", \"value\": 14154284.765635757, \"reserves_3crv\": 14701979.862730762, \"reserves_bean\": 14154284.765635757, \"deltaB\": -118101.01672575, \"bean_fraction\": 0.49586253376262296, \"3crv_fraction\": 0.504137466237377, \"pool_tvl_usd\": 28314059.943740655}, {\"timestamp\": \"2022-09-27T00:00:00\", \"variable\": \"deltaB\", \"value\": -118101.01672575, \"reserves_3crv\": 14701979.862730762, \"reserves_bean\": 14154284.765635757, \"deltaB\": -118101.01672575, \"bean_fraction\": 0.49586253376262296, \"3crv_fraction\": 0.504137466237377, \"pool_tvl_usd\": 28314059.943740655}, {\"timestamp\": \"2022-09-27T00:00:00\", \"variable\": \"bean_fraction\", \"value\": 0.49586253376262296, \"reserves_3crv\": 14701979.862730762, \"reserves_bean\": 14154284.765635757, \"deltaB\": -118101.01672575, \"bean_fraction\": 0.49586253376262296, \"3crv_fraction\": 0.504137466237377, \"pool_tvl_usd\": 28314059.943740655}, {\"timestamp\": \"2022-09-27T00:00:00\", \"variable\": \"3crv_fraction\", \"value\": 0.504137466237377, \"reserves_3crv\": 14701979.862730762, \"reserves_bean\": 14154284.765635757, \"deltaB\": -118101.01672575, \"bean_fraction\": 0.49586253376262296, \"3crv_fraction\": 0.504137466237377, \"pool_tvl_usd\": 28314059.943740655}, {\"timestamp\": \"2022-09-27T00:00:00\", \"variable\": \"pool_tvl_usd\", \"value\": 28314059.943740655, \"reserves_3crv\": 14701979.862730762, \"reserves_bean\": 14154284.765635757, \"deltaB\": -118101.01672575, \"bean_fraction\": 0.49586253376262296, \"3crv_fraction\": 0.504137466237377, \"pool_tvl_usd\": 28314059.943740655}, {\"timestamp\": \"2022-09-28T00:00:00\", \"variable\": \"reserves_3crv\", \"value\": 14683713.284794377, \"reserves_3crv\": 14683713.284794377, \"reserves_bean\": 14131919.907189304, \"deltaB\": -120381.17510654168, \"bean_fraction\": 0.49577701529986595, \"3crv_fraction\": 0.5042229847001339, \"pool_tvl_usd\": 28271392.308983404}, {\"timestamp\": \"2022-09-28T00:00:00\", \"variable\": \"reserves_bean\", \"value\": 14131919.907189304, \"reserves_3crv\": 14683713.284794377, \"reserves_bean\": 14131919.907189304, \"deltaB\": -120381.17510654168, \"bean_fraction\": 0.49577701529986595, \"3crv_fraction\": 0.5042229847001339, \"pool_tvl_usd\": 28271392.308983404}, {\"timestamp\": \"2022-09-28T00:00:00\", \"variable\": \"deltaB\", \"value\": -120381.17510654168, \"reserves_3crv\": 14683713.284794377, \"reserves_bean\": 14131919.907189304, \"deltaB\": -120381.17510654168, \"bean_fraction\": 0.49577701529986595, \"3crv_fraction\": 0.5042229847001339, \"pool_tvl_usd\": 28271392.308983404}, {\"timestamp\": \"2022-09-28T00:00:00\", \"variable\": \"bean_fraction\", \"value\": 0.49577701529986595, \"reserves_3crv\": 14683713.284794377, \"reserves_bean\": 14131919.907189304, \"deltaB\": -120381.17510654168, \"bean_fraction\": 0.49577701529986595, \"3crv_fraction\": 0.5042229847001339, \"pool_tvl_usd\": 28271392.308983404}, {\"timestamp\": \"2022-09-28T00:00:00\", \"variable\": \"3crv_fraction\", \"value\": 0.5042229847001339, \"reserves_3crv\": 14683713.284794377, \"reserves_bean\": 14131919.907189304, \"deltaB\": -120381.17510654168, \"bean_fraction\": 0.49577701529986595, \"3crv_fraction\": 0.5042229847001339, \"pool_tvl_usd\": 28271392.308983404}, {\"timestamp\": \"2022-09-28T00:00:00\", \"variable\": \"pool_tvl_usd\", \"value\": 28271392.308983404, \"reserves_3crv\": 14683713.284794377, \"reserves_bean\": 14131919.907189304, \"deltaB\": -120381.17510654168, \"bean_fraction\": 0.49577701529986595, \"3crv_fraction\": 0.5042229847001339, \"pool_tvl_usd\": 28271392.308983404}, {\"timestamp\": \"2022-09-29T00:00:00\", \"variable\": \"reserves_3crv\", \"value\": 14670557.760844728, \"reserves_3crv\": 14670557.760844728, \"reserves_bean\": 14123518.719109336, \"deltaB\": -118056.39184295833, \"bean_fraction\": 0.4958552322856764, \"3crv_fraction\": 0.5041447677143235, \"pool_tvl_usd\": 28253653.653886233}, {\"timestamp\": \"2022-09-29T00:00:00\", \"variable\": \"reserves_bean\", \"value\": 14123518.719109336, \"reserves_3crv\": 14670557.760844728, \"reserves_bean\": 14123518.719109336, \"deltaB\": -118056.39184295833, \"bean_fraction\": 0.4958552322856764, \"3crv_fraction\": 0.5041447677143235, \"pool_tvl_usd\": 28253653.653886233}, {\"timestamp\": \"2022-09-29T00:00:00\", \"variable\": \"deltaB\", \"value\": -118056.39184295833, \"reserves_3crv\": 14670557.760844728, \"reserves_bean\": 14123518.719109336, \"deltaB\": -118056.39184295833, \"bean_fraction\": 0.4958552322856764, \"3crv_fraction\": 0.5041447677143235, \"pool_tvl_usd\": 28253653.653886233}, {\"timestamp\": \"2022-09-29T00:00:00\", \"variable\": \"bean_fraction\", \"value\": 0.4958552322856764, \"reserves_3crv\": 14670557.760844728, \"reserves_bean\": 14123518.719109336, \"deltaB\": -118056.39184295833, \"bean_fraction\": 0.4958552322856764, \"3crv_fraction\": 0.5041447677143235, \"pool_tvl_usd\": 28253653.653886233}, {\"timestamp\": \"2022-09-29T00:00:00\", \"variable\": \"3crv_fraction\", \"value\": 0.5041447677143235, \"reserves_3crv\": 14670557.760844728, \"reserves_bean\": 14123518.719109336, \"deltaB\": -118056.39184295833, \"bean_fraction\": 0.4958552322856764, \"3crv_fraction\": 0.5041447677143235, \"pool_tvl_usd\": 28253653.653886233}, {\"timestamp\": \"2022-09-29T00:00:00\", \"variable\": \"pool_tvl_usd\", \"value\": 28253653.653886233, \"reserves_3crv\": 14670557.760844728, \"reserves_bean\": 14123518.719109336, \"deltaB\": -118056.39184295833, \"bean_fraction\": 0.4958552322856764, \"3crv_fraction\": 0.5041447677143235, \"pool_tvl_usd\": 28253653.653886233}, {\"timestamp\": \"2022-09-30T00:00:00\", \"variable\": \"reserves_3crv\", \"value\": 14681190.971878795, \"reserves_3crv\": 14681190.971878795, \"reserves_bean\": 14119542.240401296, \"deltaB\": -125406.80859316666, \"bean_fraction\": 0.495598200859028, \"3crv_fraction\": 0.504401799140972, \"pool_tvl_usd\": 28245611.46646048}, {\"timestamp\": \"2022-09-30T00:00:00\", \"variable\": \"reserves_bean\", \"value\": 14119542.240401296, \"reserves_3crv\": 14681190.971878795, \"reserves_bean\": 14119542.240401296, \"deltaB\": -125406.80859316666, \"bean_fraction\": 0.495598200859028, \"3crv_fraction\": 0.504401799140972, \"pool_tvl_usd\": 28245611.46646048}, {\"timestamp\": \"2022-09-30T00:00:00\", \"variable\": \"deltaB\", \"value\": -125406.80859316666, \"reserves_3crv\": 14681190.971878795, \"reserves_bean\": 14119542.240401296, \"deltaB\": -125406.80859316666, \"bean_fraction\": 0.495598200859028, \"3crv_fraction\": 0.504401799140972, \"pool_tvl_usd\": 28245611.46646048}, {\"timestamp\": \"2022-09-30T00:00:00\", \"variable\": \"bean_fraction\", \"value\": 0.495598200859028, \"reserves_3crv\": 14681190.971878795, \"reserves_bean\": 14119542.240401296, \"deltaB\": -125406.80859316666, \"bean_fraction\": 0.495598200859028, \"3crv_fraction\": 0.504401799140972, \"pool_tvl_usd\": 28245611.46646048}, {\"timestamp\": \"2022-09-30T00:00:00\", \"variable\": \"3crv_fraction\", \"value\": 0.504401799140972, \"reserves_3crv\": 14681190.971878795, \"reserves_bean\": 14119542.240401296, \"deltaB\": -125406.80859316666, \"bean_fraction\": 0.495598200859028, \"3crv_fraction\": 0.504401799140972, \"pool_tvl_usd\": 28245611.46646048}, {\"timestamp\": \"2022-09-30T00:00:00\", \"variable\": \"pool_tvl_usd\", \"value\": 28245611.46646048, \"reserves_3crv\": 14681190.971878795, \"reserves_bean\": 14119542.240401296, \"deltaB\": -125406.80859316666, \"bean_fraction\": 0.495598200859028, \"3crv_fraction\": 0.504401799140972, \"pool_tvl_usd\": 28245611.46646048}, {\"timestamp\": \"2022-10-01T00:00:00\", \"variable\": \"reserves_3crv\", \"value\": 14708089.953909867, \"reserves_3crv\": 14708089.953909867, \"reserves_bean\": 14092922.942142107, \"deltaB\": -152573.518605375, \"bean_fraction\": 0.49464489432999, \"3crv_fraction\": 0.5053551056700101, \"pool_tvl_usd\": 28192998.214413613}, {\"timestamp\": \"2022-10-01T00:00:00\", \"variable\": \"reserves_bean\", \"value\": 14092922.942142107, \"reserves_3crv\": 14708089.953909867, \"reserves_bean\": 14092922.942142107, \"deltaB\": -152573.518605375, \"bean_fraction\": 0.49464489432999, \"3crv_fraction\": 0.5053551056700101, \"pool_tvl_usd\": 28192998.214413613}, {\"timestamp\": \"2022-10-01T00:00:00\", \"variable\": \"deltaB\", \"value\": -152573.518605375, \"reserves_3crv\": 14708089.953909867, \"reserves_bean\": 14092922.942142107, \"deltaB\": -152573.518605375, \"bean_fraction\": 0.49464489432999, \"3crv_fraction\": 0.5053551056700101, \"pool_tvl_usd\": 28192998.214413613}, {\"timestamp\": \"2022-10-01T00:00:00\", \"variable\": \"bean_fraction\", \"value\": 0.49464489432999, \"reserves_3crv\": 14708089.953909867, \"reserves_bean\": 14092922.942142107, \"deltaB\": -152573.518605375, \"bean_fraction\": 0.49464489432999, \"3crv_fraction\": 0.5053551056700101, \"pool_tvl_usd\": 28192998.214413613}, {\"timestamp\": \"2022-10-01T00:00:00\", \"variable\": \"3crv_fraction\", \"value\": 0.5053551056700101, \"reserves_3crv\": 14708089.953909867, \"reserves_bean\": 14092922.942142107, \"deltaB\": -152573.518605375, \"bean_fraction\": 0.49464489432999, \"3crv_fraction\": 0.5053551056700101, \"pool_tvl_usd\": 28192998.214413613}, {\"timestamp\": \"2022-10-01T00:00:00\", \"variable\": \"pool_tvl_usd\", \"value\": 28192998.214413613, \"reserves_3crv\": 14708089.953909867, \"reserves_bean\": 14092922.942142107, \"deltaB\": -152573.518605375, \"bean_fraction\": 0.49464489432999, \"3crv_fraction\": 0.5053551056700101, \"pool_tvl_usd\": 28192998.214413613}, {\"timestamp\": \"2022-10-02T00:00:00\", \"variable\": \"reserves_3crv\", \"value\": 14829048.148781285, \"reserves_3crv\": 14829048.148781285, \"reserves_bean\": 13976334.767994607, \"deltaB\": -273479.5116848333, \"bean_fraction\": 0.4904041065560618, \"3crv_fraction\": 0.5095958934439382, \"pool_tvl_usd\": 27970777.38031408}, {\"timestamp\": \"2022-10-02T00:00:00\", \"variable\": \"reserves_bean\", \"value\": 13976334.767994607, \"reserves_3crv\": 14829048.148781285, \"reserves_bean\": 13976334.767994607, \"deltaB\": -273479.5116848333, \"bean_fraction\": 0.4904041065560618, \"3crv_fraction\": 0.5095958934439382, \"pool_tvl_usd\": 27970777.38031408}, {\"timestamp\": \"2022-10-02T00:00:00\", \"variable\": \"deltaB\", \"value\": -273479.5116848333, \"reserves_3crv\": 14829048.148781285, \"reserves_bean\": 13976334.767994607, \"deltaB\": -273479.5116848333, \"bean_fraction\": 0.4904041065560618, \"3crv_fraction\": 0.5095958934439382, \"pool_tvl_usd\": 27970777.38031408}, {\"timestamp\": \"2022-10-02T00:00:00\", \"variable\": \"bean_fraction\", \"value\": 0.4904041065560618, \"reserves_3crv\": 14829048.148781285, \"reserves_bean\": 13976334.767994607, \"deltaB\": -273479.5116848333, \"bean_fraction\": 0.4904041065560618, \"3crv_fraction\": 0.5095958934439382, \"pool_tvl_usd\": 27970777.38031408}, {\"timestamp\": \"2022-10-02T00:00:00\", \"variable\": \"3crv_fraction\", \"value\": 0.5095958934439382, \"reserves_3crv\": 14829048.148781285, \"reserves_bean\": 13976334.767994607, \"deltaB\": -273479.5116848333, \"bean_fraction\": 0.4904041065560618, \"3crv_fraction\": 0.5095958934439382, \"pool_tvl_usd\": 27970777.38031408}, {\"timestamp\": \"2022-10-02T00:00:00\", \"variable\": \"pool_tvl_usd\", \"value\": 27970777.38031408, \"reserves_3crv\": 14829048.148781285, \"reserves_bean\": 13976334.767994607, \"deltaB\": -273479.5116848333, \"bean_fraction\": 0.4904041065560618, \"3crv_fraction\": 0.5095958934439382, \"pool_tvl_usd\": 27970777.38031408}, {\"timestamp\": \"2022-10-03T00:00:00\", \"variable\": \"reserves_3crv\", \"value\": 14837822.886727972, \"reserves_3crv\": 14837822.886727972, \"reserves_bean\": 13930357.128954537, \"deltaB\": -301639.8036757083, \"bean_fraction\": 0.4894012502320117, \"3crv_fraction\": 0.5105987497679884, \"pool_tvl_usd\": 27880538.13971323}, {\"timestamp\": \"2022-10-03T00:00:00\", \"variable\": \"reserves_bean\", \"value\": 13930357.128954537, \"reserves_3crv\": 14837822.886727972, \"reserves_bean\": 13930357.128954537, \"deltaB\": -301639.8036757083, \"bean_fraction\": 0.4894012502320117, \"3crv_fraction\": 0.5105987497679884, \"pool_tvl_usd\": 27880538.13971323}, {\"timestamp\": \"2022-10-03T00:00:00\", \"variable\": \"deltaB\", \"value\": -301639.8036757083, \"reserves_3crv\": 14837822.886727972, \"reserves_bean\": 13930357.128954537, \"deltaB\": -301639.8036757083, \"bean_fraction\": 0.4894012502320117, \"3crv_fraction\": 0.5105987497679884, \"pool_tvl_usd\": 27880538.13971323}, {\"timestamp\": \"2022-10-03T00:00:00\", \"variable\": \"bean_fraction\", \"value\": 0.4894012502320117, \"reserves_3crv\": 14837822.886727972, \"reserves_bean\": 13930357.128954537, \"deltaB\": -301639.8036757083, \"bean_fraction\": 0.4894012502320117, \"3crv_fraction\": 0.5105987497679884, \"pool_tvl_usd\": 27880538.13971323}, {\"timestamp\": \"2022-10-03T00:00:00\", \"variable\": \"3crv_fraction\", \"value\": 0.5105987497679884, \"reserves_3crv\": 14837822.886727972, \"reserves_bean\": 13930357.128954537, \"deltaB\": -301639.8036757083, \"bean_fraction\": 0.4894012502320117, \"3crv_fraction\": 0.5105987497679884, \"pool_tvl_usd\": 27880538.13971323}, {\"timestamp\": \"2022-10-03T00:00:00\", \"variable\": \"pool_tvl_usd\", \"value\": 27880538.13971323, \"reserves_3crv\": 14837822.886727972, \"reserves_bean\": 13930357.128954537, \"deltaB\": -301639.8036757083, \"bean_fraction\": 0.4894012502320117, \"3crv_fraction\": 0.5105987497679884, \"pool_tvl_usd\": 27880538.13971323}, {\"timestamp\": \"2022-10-04T00:00:00\", \"variable\": \"reserves_3crv\", \"value\": 14848032.67945765, \"reserves_3crv\": 14848032.67945765, \"reserves_bean\": 13846243.066185439, \"deltaB\": -350236.03516208334, \"bean_fraction\": 0.4876646656628108, \"3crv_fraction\": 0.5123353343371891, \"pool_tvl_usd\": 27718417.171230435}, {\"timestamp\": \"2022-10-04T00:00:00\", \"variable\": \"reserves_bean\", \"value\": 13846243.066185439, \"reserves_3crv\": 14848032.67945765, \"reserves_bean\": 13846243.066185439, \"deltaB\": -350236.03516208334, \"bean_fraction\": 0.4876646656628108, \"3crv_fraction\": 0.5123353343371891, \"pool_tvl_usd\": 27718417.171230435}, {\"timestamp\": \"2022-10-04T00:00:00\", \"variable\": \"deltaB\", \"value\": -350236.03516208334, \"reserves_3crv\": 14848032.67945765, \"reserves_bean\": 13846243.066185439, \"deltaB\": -350236.03516208334, \"bean_fraction\": 0.4876646656628108, \"3crv_fraction\": 0.5123353343371891, \"pool_tvl_usd\": 27718417.171230435}, {\"timestamp\": \"2022-10-04T00:00:00\", \"variable\": \"bean_fraction\", \"value\": 0.4876646656628108, \"reserves_3crv\": 14848032.67945765, \"reserves_bean\": 13846243.066185439, \"deltaB\": -350236.03516208334, \"bean_fraction\": 0.4876646656628108, \"3crv_fraction\": 0.5123353343371891, \"pool_tvl_usd\": 27718417.171230435}, {\"timestamp\": \"2022-10-04T00:00:00\", \"variable\": \"3crv_fraction\", \"value\": 0.5123353343371891, \"reserves_3crv\": 14848032.67945765, \"reserves_bean\": 13846243.066185439, \"deltaB\": -350236.03516208334, \"bean_fraction\": 0.4876646656628108, \"3crv_fraction\": 0.5123353343371891, \"pool_tvl_usd\": 27718417.171230435}, {\"timestamp\": \"2022-10-04T00:00:00\", \"variable\": \"pool_tvl_usd\", \"value\": 27718417.171230435, \"reserves_3crv\": 14848032.67945765, \"reserves_bean\": 13846243.066185439, \"deltaB\": -350236.03516208334, \"bean_fraction\": 0.4876646656628108, \"3crv_fraction\": 0.5123353343371891, \"pool_tvl_usd\": 27718417.171230435}, {\"timestamp\": \"2022-10-05T00:00:00\", \"variable\": \"reserves_3crv\", \"value\": 14857013.096461406, \"reserves_3crv\": 14857013.096461406, \"reserves_bean\": 13830679.072387336, \"deltaB\": -362799.1311967916, \"bean_fraction\": 0.48721951033094785, \"3crv_fraction\": 0.5127804896690521, \"pool_tvl_usd\": 27688883.44285577}, {\"timestamp\": \"2022-10-05T00:00:00\", \"variable\": \"reserves_bean\", \"value\": 13830679.072387336, \"reserves_3crv\": 14857013.096461406, \"reserves_bean\": 13830679.072387336, \"deltaB\": -362799.1311967916, \"bean_fraction\": 0.48721951033094785, \"3crv_fraction\": 0.5127804896690521, \"pool_tvl_usd\": 27688883.44285577}, {\"timestamp\": \"2022-10-05T00:00:00\", \"variable\": \"deltaB\", \"value\": -362799.1311967916, \"reserves_3crv\": 14857013.096461406, \"reserves_bean\": 13830679.072387336, \"deltaB\": -362799.1311967916, \"bean_fraction\": 0.48721951033094785, \"3crv_fraction\": 0.5127804896690521, \"pool_tvl_usd\": 27688883.44285577}, {\"timestamp\": \"2022-10-05T00:00:00\", \"variable\": \"bean_fraction\", \"value\": 0.48721951033094785, \"reserves_3crv\": 14857013.096461406, \"reserves_bean\": 13830679.072387336, \"deltaB\": -362799.1311967916, \"bean_fraction\": 0.48721951033094785, \"3crv_fraction\": 0.5127804896690521, \"pool_tvl_usd\": 27688883.44285577}, {\"timestamp\": \"2022-10-05T00:00:00\", \"variable\": \"3crv_fraction\", \"value\": 0.5127804896690521, \"reserves_3crv\": 14857013.096461406, \"reserves_bean\": 13830679.072387336, \"deltaB\": -362799.1311967916, \"bean_fraction\": 0.48721951033094785, \"3crv_fraction\": 0.5127804896690521, \"pool_tvl_usd\": 27688883.44285577}, {\"timestamp\": \"2022-10-05T00:00:00\", \"variable\": \"pool_tvl_usd\", \"value\": 27688883.44285577, \"reserves_3crv\": 14857013.096461406, \"reserves_bean\": 13830679.072387336, \"deltaB\": -362799.1311967916, \"bean_fraction\": 0.48721951033094785, \"3crv_fraction\": 0.5127804896690521, \"pool_tvl_usd\": 27688883.44285577}, {\"timestamp\": \"2022-10-06T00:00:00\", \"variable\": \"reserves_3crv\", \"value\": 14864872.672849394, \"reserves_3crv\": 14864872.672849394, \"reserves_bean\": 13822347.805570021, \"deltaB\": -371058.60421491665, \"bean_fraction\": 0.4869284875021975, \"3crv_fraction\": 0.5130715124978025, \"pool_tvl_usd\": 27673335.069112867}, {\"timestamp\": \"2022-10-06T00:00:00\", \"variable\": \"reserves_bean\", \"value\": 13822347.805570021, \"reserves_3crv\": 14864872.672849394, \"reserves_bean\": 13822347.805570021, \"deltaB\": -371058.60421491665, \"bean_fraction\": 0.4869284875021975, \"3crv_fraction\": 0.5130715124978025, \"pool_tvl_usd\": 27673335.069112867}, {\"timestamp\": \"2022-10-06T00:00:00\", \"variable\": \"deltaB\", \"value\": -371058.60421491665, \"reserves_3crv\": 14864872.672849394, \"reserves_bean\": 13822347.805570021, \"deltaB\": -371058.60421491665, \"bean_fraction\": 0.4869284875021975, \"3crv_fraction\": 0.5130715124978025, \"pool_tvl_usd\": 27673335.069112867}, {\"timestamp\": \"2022-10-06T00:00:00\", \"variable\": \"bean_fraction\", \"value\": 0.4869284875021975, \"reserves_3crv\": 14864872.672849394, \"reserves_bean\": 13822347.805570021, \"deltaB\": -371058.60421491665, \"bean_fraction\": 0.4869284875021975, \"3crv_fraction\": 0.5130715124978025, \"pool_tvl_usd\": 27673335.069112867}, {\"timestamp\": \"2022-10-06T00:00:00\", \"variable\": \"3crv_fraction\", \"value\": 0.5130715124978025, \"reserves_3crv\": 14864872.672849394, \"reserves_bean\": 13822347.805570021, \"deltaB\": -371058.60421491665, \"bean_fraction\": 0.4869284875021975, \"3crv_fraction\": 0.5130715124978025, \"pool_tvl_usd\": 27673335.069112867}, {\"timestamp\": \"2022-10-06T00:00:00\", \"variable\": \"pool_tvl_usd\", \"value\": 27673335.069112867, \"reserves_3crv\": 14864872.672849394, \"reserves_bean\": 13822347.805570021, \"deltaB\": -371058.60421491665, \"bean_fraction\": 0.4869284875021975, \"3crv_fraction\": 0.5130715124978025, \"pool_tvl_usd\": 27673335.069112867}, {\"timestamp\": \"2022-10-07T00:00:00\", \"variable\": \"reserves_3crv\", \"value\": 14686583.88081204, \"reserves_3crv\": 14686583.88081204, \"reserves_bean\": 13815072.282369504, \"deltaB\": -285067.96763570834, \"bean_fraction\": 0.4899544785936174, \"3crv_fraction\": 0.5100455214063825, \"pool_tvl_usd\": 27657789.610114917}, {\"timestamp\": \"2022-10-07T00:00:00\", \"variable\": \"reserves_bean\", \"value\": 13815072.282369504, \"reserves_3crv\": 14686583.88081204, \"reserves_bean\": 13815072.282369504, \"deltaB\": -285067.96763570834, \"bean_fraction\": 0.4899544785936174, \"3crv_fraction\": 0.5100455214063825, \"pool_tvl_usd\": 27657789.610114917}, {\"timestamp\": \"2022-10-07T00:00:00\", \"variable\": \"deltaB\", \"value\": -285067.96763570834, \"reserves_3crv\": 14686583.88081204, \"reserves_bean\": 13815072.282369504, \"deltaB\": -285067.96763570834, \"bean_fraction\": 0.4899544785936174, \"3crv_fraction\": 0.5100455214063825, \"pool_tvl_usd\": 27657789.610114917}, {\"timestamp\": \"2022-10-07T00:00:00\", \"variable\": \"bean_fraction\", \"value\": 0.4899544785936174, \"reserves_3crv\": 14686583.88081204, \"reserves_bean\": 13815072.282369504, \"deltaB\": -285067.96763570834, \"bean_fraction\": 0.4899544785936174, \"3crv_fraction\": 0.5100455214063825, \"pool_tvl_usd\": 27657789.610114917}, {\"timestamp\": \"2022-10-07T00:00:00\", \"variable\": \"3crv_fraction\", \"value\": 0.5100455214063825, \"reserves_3crv\": 14686583.88081204, \"reserves_bean\": 13815072.282369504, \"deltaB\": -285067.96763570834, \"bean_fraction\": 0.4899544785936174, \"3crv_fraction\": 0.5100455214063825, \"pool_tvl_usd\": 27657789.610114917}, {\"timestamp\": \"2022-10-07T00:00:00\", \"variable\": \"pool_tvl_usd\", \"value\": 27657789.610114917, \"reserves_3crv\": 14686583.88081204, \"reserves_bean\": 13815072.282369504, \"deltaB\": -285067.96763570834, \"bean_fraction\": 0.4899544785936174, \"3crv_fraction\": 0.5100455214063825, \"pool_tvl_usd\": 27657789.610114917}, {\"timestamp\": \"2022-10-08T00:00:00\", \"variable\": \"reserves_3crv\", \"value\": 14152370.133550705, \"reserves_3crv\": 14152370.133550705, \"reserves_bean\": 13782762.383059895, \"deltaB\": -32662.5449255, \"bean_fraction\": 0.4988179313946692, \"3crv_fraction\": 0.5011820686053307, \"pool_tvl_usd\": 27565194.735228952}, {\"timestamp\": \"2022-10-08T00:00:00\", \"variable\": \"reserves_bean\", \"value\": 13782762.383059895, \"reserves_3crv\": 14152370.133550705, \"reserves_bean\": 13782762.383059895, \"deltaB\": -32662.5449255, \"bean_fraction\": 0.4988179313946692, \"3crv_fraction\": 0.5011820686053307, \"pool_tvl_usd\": 27565194.735228952}, {\"timestamp\": \"2022-10-08T00:00:00\", \"variable\": \"deltaB\", \"value\": -32662.5449255, \"reserves_3crv\": 14152370.133550705, \"reserves_bean\": 13782762.383059895, \"deltaB\": -32662.5449255, \"bean_fraction\": 0.4988179313946692, \"3crv_fraction\": 0.5011820686053307, \"pool_tvl_usd\": 27565194.735228952}, {\"timestamp\": \"2022-10-08T00:00:00\", \"variable\": \"bean_fraction\", \"value\": 0.4988179313946692, \"reserves_3crv\": 14152370.133550705, \"reserves_bean\": 13782762.383059895, \"deltaB\": -32662.5449255, \"bean_fraction\": 0.4988179313946692, \"3crv_fraction\": 0.5011820686053307, \"pool_tvl_usd\": 27565194.735228952}, {\"timestamp\": \"2022-10-08T00:00:00\", \"variable\": \"3crv_fraction\", \"value\": 0.5011820686053307, \"reserves_3crv\": 14152370.133550705, \"reserves_bean\": 13782762.383059895, \"deltaB\": -32662.5449255, \"bean_fraction\": 0.4988179313946692, \"3crv_fraction\": 0.5011820686053307, \"pool_tvl_usd\": 27565194.735228952}, {\"timestamp\": \"2022-10-08T00:00:00\", \"variable\": \"pool_tvl_usd\", \"value\": 27565194.735228952, \"reserves_3crv\": 14152370.133550705, \"reserves_bean\": 13782762.383059895, \"deltaB\": -32662.5449255, \"bean_fraction\": 0.4988179313946692, \"3crv_fraction\": 0.5011820686053307, \"pool_tvl_usd\": 27565194.735228952}, {\"timestamp\": \"2022-10-09T00:00:00\", \"variable\": \"reserves_3crv\", \"value\": 14164517.747310294, \"reserves_3crv\": 14164517.747310294, \"reserves_bean\": 13762244.84186686, \"deltaB\": -49228.57519720833, \"bean_fraction\": 0.4982179707554118, \"3crv_fraction\": 0.5017820292445881, \"pool_tvl_usd\": 27528085.019493937}, {\"timestamp\": \"2022-10-09T00:00:00\", \"variable\": \"reserves_bean\", \"value\": 13762244.84186686, \"reserves_3crv\": 14164517.747310294, \"reserves_bean\": 13762244.84186686, \"deltaB\": -49228.57519720833, \"bean_fraction\": 0.4982179707554118, \"3crv_fraction\": 0.5017820292445881, \"pool_tvl_usd\": 27528085.019493937}, {\"timestamp\": \"2022-10-09T00:00:00\", \"variable\": \"deltaB\", \"value\": -49228.57519720833, \"reserves_3crv\": 14164517.747310294, \"reserves_bean\": 13762244.84186686, \"deltaB\": -49228.57519720833, \"bean_fraction\": 0.4982179707554118, \"3crv_fraction\": 0.5017820292445881, \"pool_tvl_usd\": 27528085.019493937}, {\"timestamp\": \"2022-10-09T00:00:00\", \"variable\": \"bean_fraction\", \"value\": 0.4982179707554118, \"reserves_3crv\": 14164517.747310294, \"reserves_bean\": 13762244.84186686, \"deltaB\": -49228.57519720833, \"bean_fraction\": 0.4982179707554118, \"3crv_fraction\": 0.5017820292445881, \"pool_tvl_usd\": 27528085.019493937}, {\"timestamp\": \"2022-10-09T00:00:00\", \"variable\": \"3crv_fraction\", \"value\": 0.5017820292445881, \"reserves_3crv\": 14164517.747310294, \"reserves_bean\": 13762244.84186686, \"deltaB\": -49228.57519720833, \"bean_fraction\": 0.4982179707554118, \"3crv_fraction\": 0.5017820292445881, \"pool_tvl_usd\": 27528085.019493937}, {\"timestamp\": \"2022-10-09T00:00:00\", \"variable\": \"pool_tvl_usd\", \"value\": 27528085.019493937, \"reserves_3crv\": 14164517.747310294, \"reserves_bean\": 13762244.84186686, \"deltaB\": -49228.57519720833, \"bean_fraction\": 0.4982179707554118, \"3crv_fraction\": 0.5017820292445881, \"pool_tvl_usd\": 27528085.019493937}, {\"timestamp\": \"2022-10-10T00:00:00\", \"variable\": \"reserves_3crv\", \"value\": 14139976.82259223, \"reserves_3crv\": 14139976.82259223, \"reserves_bean\": 13758551.83628978, \"deltaB\": -38815.43184216667, \"bean_fraction\": 0.4985933771820555, \"3crv_fraction\": 0.5014066228179445, \"pool_tvl_usd\": 27518979.99417838}, {\"timestamp\": \"2022-10-10T00:00:00\", \"variable\": \"reserves_bean\", \"value\": 13758551.83628978, \"reserves_3crv\": 14139976.82259223, \"reserves_bean\": 13758551.83628978, \"deltaB\": -38815.43184216667, \"bean_fraction\": 0.4985933771820555, \"3crv_fraction\": 0.5014066228179445, \"pool_tvl_usd\": 27518979.99417838}, {\"timestamp\": \"2022-10-10T00:00:00\", \"variable\": \"deltaB\", \"value\": -38815.43184216667, \"reserves_3crv\": 14139976.82259223, \"reserves_bean\": 13758551.83628978, \"deltaB\": -38815.43184216667, \"bean_fraction\": 0.4985933771820555, \"3crv_fraction\": 0.5014066228179445, \"pool_tvl_usd\": 27518979.99417838}, {\"timestamp\": \"2022-10-10T00:00:00\", \"variable\": \"bean_fraction\", \"value\": 0.4985933771820555, \"reserves_3crv\": 14139976.82259223, \"reserves_bean\": 13758551.83628978, \"deltaB\": -38815.43184216667, \"bean_fraction\": 0.4985933771820555, \"3crv_fraction\": 0.5014066228179445, \"pool_tvl_usd\": 27518979.99417838}, {\"timestamp\": \"2022-10-10T00:00:00\", \"variable\": \"3crv_fraction\", \"value\": 0.5014066228179445, \"reserves_3crv\": 14139976.82259223, \"reserves_bean\": 13758551.83628978, \"deltaB\": -38815.43184216667, \"bean_fraction\": 0.4985933771820555, \"3crv_fraction\": 0.5014066228179445, \"pool_tvl_usd\": 27518979.99417838}, {\"timestamp\": \"2022-10-10T00:00:00\", \"variable\": \"pool_tvl_usd\", \"value\": 27518979.99417838, \"reserves_3crv\": 14139976.82259223, \"reserves_bean\": 13758551.83628978, \"deltaB\": -38815.43184216667, \"bean_fraction\": 0.4985933771820555, \"3crv_fraction\": 0.5014066228179445, \"pool_tvl_usd\": 27518979.99417838}, {\"timestamp\": \"2022-10-11T00:00:00\", \"variable\": \"reserves_3crv\", \"value\": 14072542.827471225, \"reserves_3crv\": 14072542.827471225, \"reserves_bean\": 13756320.397941446, \"deltaB\": -6183.543606458334, \"bean_fraction\": 0.4997756754862058, \"3crv_fraction\": 0.5002243245137943, \"pool_tvl_usd\": 27514887.16374309}, {\"timestamp\": \"2022-10-11T00:00:00\", \"variable\": \"reserves_bean\", \"value\": 13756320.397941446, \"reserves_3crv\": 14072542.827471225, \"reserves_bean\": 13756320.397941446, \"deltaB\": -6183.543606458334, \"bean_fraction\": 0.4997756754862058, \"3crv_fraction\": 0.5002243245137943, \"pool_tvl_usd\": 27514887.16374309}, {\"timestamp\": \"2022-10-11T00:00:00\", \"variable\": \"deltaB\", \"value\": -6183.543606458334, \"reserves_3crv\": 14072542.827471225, \"reserves_bean\": 13756320.397941446, \"deltaB\": -6183.543606458334, \"bean_fraction\": 0.4997756754862058, \"3crv_fraction\": 0.5002243245137943, \"pool_tvl_usd\": 27514887.16374309}, {\"timestamp\": \"2022-10-11T00:00:00\", \"variable\": \"bean_fraction\", \"value\": 0.4997756754862058, \"reserves_3crv\": 14072542.827471225, \"reserves_bean\": 13756320.397941446, \"deltaB\": -6183.543606458334, \"bean_fraction\": 0.4997756754862058, \"3crv_fraction\": 0.5002243245137943, \"pool_tvl_usd\": 27514887.16374309}, {\"timestamp\": \"2022-10-11T00:00:00\", \"variable\": \"3crv_fraction\", \"value\": 0.5002243245137943, \"reserves_3crv\": 14072542.827471225, \"reserves_bean\": 13756320.397941446, \"deltaB\": -6183.543606458334, \"bean_fraction\": 0.4997756754862058, \"3crv_fraction\": 0.5002243245137943, \"pool_tvl_usd\": 27514887.16374309}, {\"timestamp\": \"2022-10-11T00:00:00\", \"variable\": \"pool_tvl_usd\", \"value\": 27514887.16374309, \"reserves_3crv\": 14072542.827471225, \"reserves_bean\": 13756320.397941446, \"deltaB\": -6183.543606458334, \"bean_fraction\": 0.4997756754862058, \"3crv_fraction\": 0.5002243245137943, \"pool_tvl_usd\": 27514887.16374309}, {\"timestamp\": \"2022-10-12T00:00:00\", \"variable\": \"reserves_3crv\", \"value\": 14063918.28580349, \"reserves_3crv\": 14063918.28580349, \"reserves_bean\": 13760087.70685041, \"deltaB\": 87.03884341666667, \"bean_fraction\": 0.5000031625512414, \"3crv_fraction\": 0.4999968374487585, \"pool_tvl_usd\": 27520323.60199277}, {\"timestamp\": \"2022-10-12T00:00:00\", \"variable\": \"reserves_bean\", \"value\": 13760087.70685041, \"reserves_3crv\": 14063918.28580349, \"reserves_bean\": 13760087.70685041, \"deltaB\": 87.03884341666667, \"bean_fraction\": 0.5000031625512414, \"3crv_fraction\": 0.4999968374487585, \"pool_tvl_usd\": 27520323.60199277}, {\"timestamp\": \"2022-10-12T00:00:00\", \"variable\": \"deltaB\", \"value\": 87.03884341666667, \"reserves_3crv\": 14063918.28580349, \"reserves_bean\": 13760087.70685041, \"deltaB\": 87.03884341666667, \"bean_fraction\": 0.5000031625512414, \"3crv_fraction\": 0.4999968374487585, \"pool_tvl_usd\": 27520323.60199277}, {\"timestamp\": \"2022-10-12T00:00:00\", \"variable\": \"bean_fraction\", \"value\": 0.5000031625512414, \"reserves_3crv\": 14063918.28580349, \"reserves_bean\": 13760087.70685041, \"deltaB\": 87.03884341666667, \"bean_fraction\": 0.5000031625512414, \"3crv_fraction\": 0.4999968374487585, \"pool_tvl_usd\": 27520323.60199277}, {\"timestamp\": \"2022-10-12T00:00:00\", \"variable\": \"3crv_fraction\", \"value\": 0.4999968374487585, \"reserves_3crv\": 14063918.28580349, \"reserves_bean\": 13760087.70685041, \"deltaB\": 87.03884341666667, \"bean_fraction\": 0.5000031625512414, \"3crv_fraction\": 0.4999968374487585, \"pool_tvl_usd\": 27520323.60199277}, {\"timestamp\": \"2022-10-12T00:00:00\", \"variable\": \"pool_tvl_usd\", \"value\": 27520323.60199277, \"reserves_3crv\": 14063918.28580349, \"reserves_bean\": 13760087.70685041, \"deltaB\": 87.03884341666667, \"bean_fraction\": 0.5000031625512414, \"3crv_fraction\": 0.4999968374487585, \"pool_tvl_usd\": 27520323.60199277}, {\"timestamp\": \"2022-10-13T00:00:00\", \"variable\": \"reserves_3crv\", \"value\": 14069043.031179829, \"reserves_3crv\": 14069043.031179829, \"reserves_bean\": 13761299.662544852, \"deltaB\": -1822.8110475833334, \"bean_fraction\": 0.49993378082805734, \"3crv_fraction\": 0.5000662191719427, \"pool_tvl_usd\": 27522446.22506948}, {\"timestamp\": \"2022-10-13T00:00:00\", \"variable\": \"reserves_bean\", \"value\": 13761299.662544852, \"reserves_3crv\": 14069043.031179829, \"reserves_bean\": 13761299.662544852, \"deltaB\": -1822.8110475833334, \"bean_fraction\": 0.49993378082805734, \"3crv_fraction\": 0.5000662191719427, \"pool_tvl_usd\": 27522446.22506948}, {\"timestamp\": \"2022-10-13T00:00:00\", \"variable\": \"deltaB\", \"value\": -1822.8110475833334, \"reserves_3crv\": 14069043.031179829, \"reserves_bean\": 13761299.662544852, \"deltaB\": -1822.8110475833334, \"bean_fraction\": 0.49993378082805734, \"3crv_fraction\": 0.5000662191719427, \"pool_tvl_usd\": 27522446.22506948}, {\"timestamp\": \"2022-10-13T00:00:00\", \"variable\": \"bean_fraction\", \"value\": 0.49993378082805734, \"reserves_3crv\": 14069043.031179829, \"reserves_bean\": 13761299.662544852, \"deltaB\": -1822.8110475833334, \"bean_fraction\": 0.49993378082805734, \"3crv_fraction\": 0.5000662191719427, \"pool_tvl_usd\": 27522446.22506948}, {\"timestamp\": \"2022-10-13T00:00:00\", \"variable\": \"3crv_fraction\", \"value\": 0.5000662191719427, \"reserves_3crv\": 14069043.031179829, \"reserves_bean\": 13761299.662544852, \"deltaB\": -1822.8110475833334, \"bean_fraction\": 0.49993378082805734, \"3crv_fraction\": 0.5000662191719427, \"pool_tvl_usd\": 27522446.22506948}, {\"timestamp\": \"2022-10-13T00:00:00\", \"variable\": \"pool_tvl_usd\", \"value\": 27522446.22506948, \"reserves_3crv\": 14069043.031179829, \"reserves_bean\": 13761299.662544852, \"deltaB\": -1822.8110475833334, \"bean_fraction\": 0.49993378082805734, \"3crv_fraction\": 0.5000662191719427, \"pool_tvl_usd\": 27522446.22506948}, {\"timestamp\": \"2022-10-14T00:00:00\", \"variable\": \"reserves_3crv\", \"value\": 14062140.499578996, \"reserves_3crv\": 14062140.499578996, \"reserves_bean\": 13751097.865637658, \"deltaB\": -3564.59240125, \"bean_fraction\": 0.49987042823368316, \"3crv_fraction\": 0.500129571766317, \"pool_tvl_usd\": 27502057.34418555}, {\"timestamp\": \"2022-10-14T00:00:00\", \"variable\": \"reserves_bean\", \"value\": 13751097.865637658, \"reserves_3crv\": 14062140.499578996, \"reserves_bean\": 13751097.865637658, \"deltaB\": -3564.59240125, \"bean_fraction\": 0.49987042823368316, \"3crv_fraction\": 0.500129571766317, \"pool_tvl_usd\": 27502057.34418555}, {\"timestamp\": \"2022-10-14T00:00:00\", \"variable\": \"deltaB\", \"value\": -3564.59240125, \"reserves_3crv\": 14062140.499578996, \"reserves_bean\": 13751097.865637658, \"deltaB\": -3564.59240125, \"bean_fraction\": 0.49987042823368316, \"3crv_fraction\": 0.500129571766317, \"pool_tvl_usd\": 27502057.34418555}, {\"timestamp\": \"2022-10-14T00:00:00\", \"variable\": \"bean_fraction\", \"value\": 0.49987042823368316, \"reserves_3crv\": 14062140.499578996, \"reserves_bean\": 13751097.865637658, \"deltaB\": -3564.59240125, \"bean_fraction\": 0.49987042823368316, \"3crv_fraction\": 0.500129571766317, \"pool_tvl_usd\": 27502057.34418555}, {\"timestamp\": \"2022-10-14T00:00:00\", \"variable\": \"3crv_fraction\", \"value\": 0.500129571766317, \"reserves_3crv\": 14062140.499578996, \"reserves_bean\": 13751097.865637658, \"deltaB\": -3564.59240125, \"bean_fraction\": 0.49987042823368316, \"3crv_fraction\": 0.500129571766317, \"pool_tvl_usd\": 27502057.34418555}, {\"timestamp\": \"2022-10-14T00:00:00\", \"variable\": \"pool_tvl_usd\", \"value\": 27502057.34418555, \"reserves_3crv\": 14062140.499578996, \"reserves_bean\": 13751097.865637658, \"deltaB\": -3564.59240125, \"bean_fraction\": 0.49987042823368316, \"3crv_fraction\": 0.500129571766317, \"pool_tvl_usd\": 27502057.34418555}, {\"timestamp\": \"2022-10-15T00:00:00\", \"variable\": \"reserves_3crv\", \"value\": 14047650.640959928, \"reserves_3crv\": 14047650.640959928, \"reserves_bean\": 13736545.846365377, \"deltaB\": -3746.7066385833336, \"bean_fraction\": 0.49986367827915684, \"3crv_fraction\": 0.5001363217208431, \"pool_tvl_usd\": 27472917.21798964}, {\"timestamp\": \"2022-10-15T00:00:00\", \"variable\": \"reserves_bean\", \"value\": 13736545.846365377, \"reserves_3crv\": 14047650.640959928, \"reserves_bean\": 13736545.846365377, \"deltaB\": -3746.7066385833336, \"bean_fraction\": 0.49986367827915684, \"3crv_fraction\": 0.5001363217208431, \"pool_tvl_usd\": 27472917.21798964}, {\"timestamp\": \"2022-10-15T00:00:00\", \"variable\": \"deltaB\", \"value\": -3746.7066385833336, \"reserves_3crv\": 14047650.640959928, \"reserves_bean\": 13736545.846365377, \"deltaB\": -3746.7066385833336, \"bean_fraction\": 0.49986367827915684, \"3crv_fraction\": 0.5001363217208431, \"pool_tvl_usd\": 27472917.21798964}, {\"timestamp\": \"2022-10-15T00:00:00\", \"variable\": \"bean_fraction\", \"value\": 0.49986367827915684, \"reserves_3crv\": 14047650.640959928, \"reserves_bean\": 13736545.846365377, \"deltaB\": -3746.7066385833336, \"bean_fraction\": 0.49986367827915684, \"3crv_fraction\": 0.5001363217208431, \"pool_tvl_usd\": 27472917.21798964}, {\"timestamp\": \"2022-10-15T00:00:00\", \"variable\": \"3crv_fraction\", \"value\": 0.5001363217208431, \"reserves_3crv\": 14047650.640959928, \"reserves_bean\": 13736545.846365377, \"deltaB\": -3746.7066385833336, \"bean_fraction\": 0.49986367827915684, \"3crv_fraction\": 0.5001363217208431, \"pool_tvl_usd\": 27472917.21798964}, {\"timestamp\": \"2022-10-15T00:00:00\", \"variable\": \"pool_tvl_usd\", \"value\": 27472917.21798964, \"reserves_3crv\": 14047650.640959928, \"reserves_bean\": 13736545.846365377, \"deltaB\": -3746.7066385833336, \"bean_fraction\": 0.49986367827915684, \"3crv_fraction\": 0.5001363217208431, \"pool_tvl_usd\": 27472917.21798964}, {\"timestamp\": \"2022-10-16T00:00:00\", \"variable\": \"reserves_3crv\", \"value\": 14058089.217529656, \"reserves_3crv\": 14058089.217529656, \"reserves_bean\": 13718241.033639684, \"deltaB\": -18320.424637833334, \"bean_fraction\": 0.4993331520775535, \"3crv_fraction\": 0.5006668479224464, \"pool_tvl_usd\": 27436363.81569806}, {\"timestamp\": \"2022-10-16T00:00:00\", \"variable\": \"reserves_bean\", \"value\": 13718241.033639684, \"reserves_3crv\": 14058089.217529656, \"reserves_bean\": 13718241.033639684, \"deltaB\": -18320.424637833334, \"bean_fraction\": 0.4993331520775535, \"3crv_fraction\": 0.5006668479224464, \"pool_tvl_usd\": 27436363.81569806}, {\"timestamp\": \"2022-10-16T00:00:00\", \"variable\": \"deltaB\", \"value\": -18320.424637833334, \"reserves_3crv\": 14058089.217529656, \"reserves_bean\": 13718241.033639684, \"deltaB\": -18320.424637833334, \"bean_fraction\": 0.4993331520775535, \"3crv_fraction\": 0.5006668479224464, \"pool_tvl_usd\": 27436363.81569806}, {\"timestamp\": \"2022-10-16T00:00:00\", \"variable\": \"bean_fraction\", \"value\": 0.4993331520775535, \"reserves_3crv\": 14058089.217529656, \"reserves_bean\": 13718241.033639684, \"deltaB\": -18320.424637833334, \"bean_fraction\": 0.4993331520775535, \"3crv_fraction\": 0.5006668479224464, \"pool_tvl_usd\": 27436363.81569806}, {\"timestamp\": \"2022-10-16T00:00:00\", \"variable\": \"3crv_fraction\", \"value\": 0.5006668479224464, \"reserves_3crv\": 14058089.217529656, \"reserves_bean\": 13718241.033639684, \"deltaB\": -18320.424637833334, \"bean_fraction\": 0.4993331520775535, \"3crv_fraction\": 0.5006668479224464, \"pool_tvl_usd\": 27436363.81569806}, {\"timestamp\": \"2022-10-16T00:00:00\", \"variable\": \"pool_tvl_usd\", \"value\": 27436363.81569806, \"reserves_3crv\": 14058089.217529656, \"reserves_bean\": 13718241.033639684, \"deltaB\": -18320.424637833334, \"bean_fraction\": 0.4993331520775535, \"3crv_fraction\": 0.5006668479224464, \"pool_tvl_usd\": 27436363.81569806}, {\"timestamp\": \"2022-10-17T00:00:00\", \"variable\": \"reserves_3crv\", \"value\": 14051885.845231118, \"reserves_3crv\": 14051885.845231118, \"reserves_bean\": 13698606.176536819, \"deltaB\": -25237.70405575, \"bean_fraction\": 0.4990814076734745, \"3crv_fraction\": 0.5009185923265255, \"pool_tvl_usd\": 27398326.214495808}, {\"timestamp\": \"2022-10-17T00:00:00\", \"variable\": \"reserves_bean\", \"value\": 13698606.176536819, \"reserves_3crv\": 14051885.845231118, \"reserves_bean\": 13698606.176536819, \"deltaB\": -25237.70405575, \"bean_fraction\": 0.4990814076734745, \"3crv_fraction\": 0.5009185923265255, \"pool_tvl_usd\": 27398326.214495808}, {\"timestamp\": \"2022-10-17T00:00:00\", \"variable\": \"deltaB\", \"value\": -25237.70405575, \"reserves_3crv\": 14051885.845231118, \"reserves_bean\": 13698606.176536819, \"deltaB\": -25237.70405575, \"bean_fraction\": 0.4990814076734745, \"3crv_fraction\": 0.5009185923265255, \"pool_tvl_usd\": 27398326.214495808}, {\"timestamp\": \"2022-10-17T00:00:00\", \"variable\": \"bean_fraction\", \"value\": 0.4990814076734745, \"reserves_3crv\": 14051885.845231118, \"reserves_bean\": 13698606.176536819, \"deltaB\": -25237.70405575, \"bean_fraction\": 0.4990814076734745, \"3crv_fraction\": 0.5009185923265255, \"pool_tvl_usd\": 27398326.214495808}, {\"timestamp\": \"2022-10-17T00:00:00\", \"variable\": \"3crv_fraction\", \"value\": 0.5009185923265255, \"reserves_3crv\": 14051885.845231118, \"reserves_bean\": 13698606.176536819, \"deltaB\": -25237.70405575, \"bean_fraction\": 0.4990814076734745, \"3crv_fraction\": 0.5009185923265255, \"pool_tvl_usd\": 27398326.214495808}, {\"timestamp\": \"2022-10-17T00:00:00\", \"variable\": \"pool_tvl_usd\", \"value\": 27398326.214495808, \"reserves_3crv\": 14051885.845231118, \"reserves_bean\": 13698606.176536819, \"deltaB\": -25237.70405575, \"bean_fraction\": 0.4990814076734745, \"3crv_fraction\": 0.5009185923265255, \"pool_tvl_usd\": 27398326.214495808}, {\"timestamp\": \"2022-10-18T00:00:00\", \"variable\": \"reserves_3crv\", \"value\": 14000763.147463828, \"reserves_3crv\": 14000763.147463828, \"reserves_bean\": 13697018.145478882, \"deltaB\": -436.0627264583333, \"bean_fraction\": 0.49998408224217344, \"3crv_fraction\": 0.5000159177578266, \"pool_tvl_usd\": 27394116.246679768}, {\"timestamp\": \"2022-10-18T00:00:00\", \"variable\": \"reserves_bean\", \"value\": 13697018.145478882, \"reserves_3crv\": 14000763.147463828, \"reserves_bean\": 13697018.145478882, \"deltaB\": -436.0627264583333, \"bean_fraction\": 0.49998408224217344, \"3crv_fraction\": 0.5000159177578266, \"pool_tvl_usd\": 27394116.246679768}, {\"timestamp\": \"2022-10-18T00:00:00\", \"variable\": \"deltaB\", \"value\": -436.0627264583333, \"reserves_3crv\": 14000763.147463828, \"reserves_bean\": 13697018.145478882, \"deltaB\": -436.0627264583333, \"bean_fraction\": 0.49998408224217344, \"3crv_fraction\": 0.5000159177578266, \"pool_tvl_usd\": 27394116.246679768}, {\"timestamp\": \"2022-10-18T00:00:00\", \"variable\": \"bean_fraction\", \"value\": 0.49998408224217344, \"reserves_3crv\": 14000763.147463828, \"reserves_bean\": 13697018.145478882, \"deltaB\": -436.0627264583333, \"bean_fraction\": 0.49998408224217344, \"3crv_fraction\": 0.5000159177578266, \"pool_tvl_usd\": 27394116.246679768}, {\"timestamp\": \"2022-10-18T00:00:00\", \"variable\": \"3crv_fraction\", \"value\": 0.5000159177578266, \"reserves_3crv\": 14000763.147463828, \"reserves_bean\": 13697018.145478882, \"deltaB\": -436.0627264583333, \"bean_fraction\": 0.49998408224217344, \"3crv_fraction\": 0.5000159177578266, \"pool_tvl_usd\": 27394116.246679768}, {\"timestamp\": \"2022-10-18T00:00:00\", \"variable\": \"pool_tvl_usd\", \"value\": 27394116.246679768, \"reserves_3crv\": 14000763.147463828, \"reserves_bean\": 13697018.145478882, \"deltaB\": -436.0627264583333, \"bean_fraction\": 0.49998408224217344, \"3crv_fraction\": 0.5000159177578266, \"pool_tvl_usd\": 27394116.246679768}, {\"timestamp\": \"2022-10-19T00:00:00\", \"variable\": \"reserves_3crv\", \"value\": 13994465.779162869, \"reserves_3crv\": 13994465.779162869, \"reserves_bean\": 13691155.362058379, \"deltaB\": -266.3677644583333, \"bean_fraction\": 0.4999902770525664, \"3crv_fraction\": 0.5000097229474335, \"pool_tvl_usd\": 27382269.15716399}, {\"timestamp\": \"2022-10-19T00:00:00\", \"variable\": \"reserves_bean\", \"value\": 13691155.362058379, \"reserves_3crv\": 13994465.779162869, \"reserves_bean\": 13691155.362058379, \"deltaB\": -266.3677644583333, \"bean_fraction\": 0.4999902770525664, \"3crv_fraction\": 0.5000097229474335, \"pool_tvl_usd\": 27382269.15716399}, {\"timestamp\": \"2022-10-19T00:00:00\", \"variable\": \"deltaB\", \"value\": -266.3677644583333, \"reserves_3crv\": 13994465.779162869, \"reserves_bean\": 13691155.362058379, \"deltaB\": -266.3677644583333, \"bean_fraction\": 0.4999902770525664, \"3crv_fraction\": 0.5000097229474335, \"pool_tvl_usd\": 27382269.15716399}, {\"timestamp\": \"2022-10-19T00:00:00\", \"variable\": \"bean_fraction\", \"value\": 0.4999902770525664, \"reserves_3crv\": 13994465.779162869, \"reserves_bean\": 13691155.362058379, \"deltaB\": -266.3677644583333, \"bean_fraction\": 0.4999902770525664, \"3crv_fraction\": 0.5000097229474335, \"pool_tvl_usd\": 27382269.15716399}, {\"timestamp\": \"2022-10-19T00:00:00\", \"variable\": \"3crv_fraction\", \"value\": 0.5000097229474335, \"reserves_3crv\": 13994465.779162869, \"reserves_bean\": 13691155.362058379, \"deltaB\": -266.3677644583333, \"bean_fraction\": 0.4999902770525664, \"3crv_fraction\": 0.5000097229474335, \"pool_tvl_usd\": 27382269.15716399}, {\"timestamp\": \"2022-10-19T00:00:00\", \"variable\": \"pool_tvl_usd\", \"value\": 27382269.15716399, \"reserves_3crv\": 13994465.779162869, \"reserves_bean\": 13691155.362058379, \"deltaB\": -266.3677644583333, \"bean_fraction\": 0.4999902770525664, \"3crv_fraction\": 0.5000097229474335, \"pool_tvl_usd\": 27382269.15716399}, {\"timestamp\": \"2022-10-20T00:00:00\", \"variable\": \"reserves_3crv\", \"value\": 13981929.541483285, \"reserves_3crv\": 13981929.541483285, \"reserves_bean\": 13678304.536821468, \"deltaB\": -545.1739261250001, \"bean_fraction\": 0.4999800801782163, \"3crv_fraction\": 0.5000199198217837, \"pool_tvl_usd\": 27356487.417519603}, {\"timestamp\": \"2022-10-20T00:00:00\", \"variable\": \"reserves_bean\", \"value\": 13678304.536821468, \"reserves_3crv\": 13981929.541483285, \"reserves_bean\": 13678304.536821468, \"deltaB\": -545.1739261250001, \"bean_fraction\": 0.4999800801782163, \"3crv_fraction\": 0.5000199198217837, \"pool_tvl_usd\": 27356487.417519603}, {\"timestamp\": \"2022-10-20T00:00:00\", \"variable\": \"deltaB\", \"value\": -545.1739261250001, \"reserves_3crv\": 13981929.541483285, \"reserves_bean\": 13678304.536821468, \"deltaB\": -545.1739261250001, \"bean_fraction\": 0.4999800801782163, \"3crv_fraction\": 0.5000199198217837, \"pool_tvl_usd\": 27356487.417519603}, {\"timestamp\": \"2022-10-20T00:00:00\", \"variable\": \"bean_fraction\", \"value\": 0.4999800801782163, \"reserves_3crv\": 13981929.541483285, \"reserves_bean\": 13678304.536821468, \"deltaB\": -545.1739261250001, \"bean_fraction\": 0.4999800801782163, \"3crv_fraction\": 0.5000199198217837, \"pool_tvl_usd\": 27356487.417519603}, {\"timestamp\": \"2022-10-20T00:00:00\", \"variable\": \"3crv_fraction\", \"value\": 0.5000199198217837, \"reserves_3crv\": 13981929.541483285, \"reserves_bean\": 13678304.536821468, \"deltaB\": -545.1739261250001, \"bean_fraction\": 0.4999800801782163, \"3crv_fraction\": 0.5000199198217837, \"pool_tvl_usd\": 27356487.417519603}, {\"timestamp\": \"2022-10-20T00:00:00\", \"variable\": \"pool_tvl_usd\", \"value\": 27356487.417519603, \"reserves_3crv\": 13981929.541483285, \"reserves_bean\": 13678304.536821468, \"deltaB\": -545.1739261250001, \"bean_fraction\": 0.4999800801782163, \"3crv_fraction\": 0.5000199198217837, \"pool_tvl_usd\": 27356487.417519603}, {\"timestamp\": \"2022-10-21T00:00:00\", \"variable\": \"reserves_3crv\", \"value\": 13979465.521868855, \"reserves_3crv\": 13979465.521868855, \"reserves_bean\": 13670467.599893661, \"deltaB\": -3290.959700666667, \"bean_fraction\": 0.4998796621975485, \"3crv_fraction\": 0.5001203378024517, \"pool_tvl_usd\": 27341284.166324046}, {\"timestamp\": \"2022-10-21T00:00:00\", \"variable\": \"reserves_bean\", \"value\": 13670467.599893661, \"reserves_3crv\": 13979465.521868855, \"reserves_bean\": 13670467.599893661, \"deltaB\": -3290.959700666667, \"bean_fraction\": 0.4998796621975485, \"3crv_fraction\": 0.5001203378024517, \"pool_tvl_usd\": 27341284.166324046}, {\"timestamp\": \"2022-10-21T00:00:00\", \"variable\": \"deltaB\", \"value\": -3290.959700666667, \"reserves_3crv\": 13979465.521868855, \"reserves_bean\": 13670467.599893661, \"deltaB\": -3290.959700666667, \"bean_fraction\": 0.4998796621975485, \"3crv_fraction\": 0.5001203378024517, \"pool_tvl_usd\": 27341284.166324046}, {\"timestamp\": \"2022-10-21T00:00:00\", \"variable\": \"bean_fraction\", \"value\": 0.4998796621975485, \"reserves_3crv\": 13979465.521868855, \"reserves_bean\": 13670467.599893661, \"deltaB\": -3290.959700666667, \"bean_fraction\": 0.4998796621975485, \"3crv_fraction\": 0.5001203378024517, \"pool_tvl_usd\": 27341284.166324046}, {\"timestamp\": \"2022-10-21T00:00:00\", \"variable\": \"3crv_fraction\", \"value\": 0.5001203378024517, \"reserves_3crv\": 13979465.521868855, \"reserves_bean\": 13670467.599893661, \"deltaB\": -3290.959700666667, \"bean_fraction\": 0.4998796621975485, \"3crv_fraction\": 0.5001203378024517, \"pool_tvl_usd\": 27341284.166324046}, {\"timestamp\": \"2022-10-21T00:00:00\", \"variable\": \"pool_tvl_usd\", \"value\": 27341284.166324046, \"reserves_3crv\": 13979465.521868855, \"reserves_bean\": 13670467.599893661, \"deltaB\": -3290.959700666667, \"bean_fraction\": 0.4998796621975485, \"3crv_fraction\": 0.5001203378024517, \"pool_tvl_usd\": 27341284.166324046}, {\"timestamp\": \"2022-10-22T00:00:00\", \"variable\": \"reserves_3crv\", \"value\": 13973004.516253596, \"reserves_3crv\": 13973004.516253596, \"reserves_bean\": 13669978.61670924, \"deltaB\": -270.68765766666667, \"bean_fraction\": 0.4999900961585318, \"3crv_fraction\": 0.5000099038414682, \"pool_tvl_usd\": 27340118.273826554}, {\"timestamp\": \"2022-10-22T00:00:00\", \"variable\": \"reserves_bean\", \"value\": 13669978.61670924, \"reserves_3crv\": 13973004.516253596, \"reserves_bean\": 13669978.61670924, \"deltaB\": -270.68765766666667, \"bean_fraction\": 0.4999900961585318, \"3crv_fraction\": 0.5000099038414682, \"pool_tvl_usd\": 27340118.273826554}, {\"timestamp\": \"2022-10-22T00:00:00\", \"variable\": \"deltaB\", \"value\": -270.68765766666667, \"reserves_3crv\": 13973004.516253596, \"reserves_bean\": 13669978.61670924, \"deltaB\": -270.68765766666667, \"bean_fraction\": 0.4999900961585318, \"3crv_fraction\": 0.5000099038414682, \"pool_tvl_usd\": 27340118.273826554}, {\"timestamp\": \"2022-10-22T00:00:00\", \"variable\": \"bean_fraction\", \"value\": 0.4999900961585318, \"reserves_3crv\": 13973004.516253596, \"reserves_bean\": 13669978.61670924, \"deltaB\": -270.68765766666667, \"bean_fraction\": 0.4999900961585318, \"3crv_fraction\": 0.5000099038414682, \"pool_tvl_usd\": 27340118.273826554}, {\"timestamp\": \"2022-10-22T00:00:00\", \"variable\": \"3crv_fraction\", \"value\": 0.5000099038414682, \"reserves_3crv\": 13973004.516253596, \"reserves_bean\": 13669978.61670924, \"deltaB\": -270.68765766666667, \"bean_fraction\": 0.4999900961585318, \"3crv_fraction\": 0.5000099038414682, \"pool_tvl_usd\": 27340118.273826554}, {\"timestamp\": \"2022-10-22T00:00:00\", \"variable\": \"pool_tvl_usd\", \"value\": 27340118.273826554, \"reserves_3crv\": 13973004.516253596, \"reserves_bean\": 13669978.61670924, \"deltaB\": -270.68765766666667, \"bean_fraction\": 0.4999900961585318, \"3crv_fraction\": 0.5000099038414682, \"pool_tvl_usd\": 27340118.273826554}, {\"timestamp\": \"2022-10-23T00:00:00\", \"variable\": \"reserves_3crv\", \"value\": 13972447.164054746, \"reserves_3crv\": 13972447.164054746, \"reserves_bean\": 13661473.734549075, \"deltaB\": -4323.477016875, \"bean_fraction\": 0.4998418197275521, \"3crv_fraction\": 0.500158180272448, \"pool_tvl_usd\": 27323099.60969248}, {\"timestamp\": \"2022-10-23T00:00:00\", \"variable\": \"reserves_bean\", \"value\": 13661473.734549075, \"reserves_3crv\": 13972447.164054746, \"reserves_bean\": 13661473.734549075, \"deltaB\": -4323.477016875, \"bean_fraction\": 0.4998418197275521, \"3crv_fraction\": 0.500158180272448, \"pool_tvl_usd\": 27323099.60969248}, {\"timestamp\": \"2022-10-23T00:00:00\", \"variable\": \"deltaB\", \"value\": -4323.477016875, \"reserves_3crv\": 13972447.164054746, \"reserves_bean\": 13661473.734549075, \"deltaB\": -4323.477016875, \"bean_fraction\": 0.4998418197275521, \"3crv_fraction\": 0.500158180272448, \"pool_tvl_usd\": 27323099.60969248}, {\"timestamp\": \"2022-10-23T00:00:00\", \"variable\": \"bean_fraction\", \"value\": 0.4998418197275521, \"reserves_3crv\": 13972447.164054746, \"reserves_bean\": 13661473.734549075, \"deltaB\": -4323.477016875, \"bean_fraction\": 0.4998418197275521, \"3crv_fraction\": 0.500158180272448, \"pool_tvl_usd\": 27323099.60969248}, {\"timestamp\": \"2022-10-23T00:00:00\", \"variable\": \"3crv_fraction\", \"value\": 0.500158180272448, \"reserves_3crv\": 13972447.164054746, \"reserves_bean\": 13661473.734549075, \"deltaB\": -4323.477016875, \"bean_fraction\": 0.4998418197275521, \"3crv_fraction\": 0.500158180272448, \"pool_tvl_usd\": 27323099.60969248}, {\"timestamp\": \"2022-10-23T00:00:00\", \"variable\": \"pool_tvl_usd\", \"value\": 27323099.60969248, \"reserves_3crv\": 13972447.164054746, \"reserves_bean\": 13661473.734549075, \"deltaB\": -4323.477016875, \"bean_fraction\": 0.4998418197275521, \"3crv_fraction\": 0.500158180272448, \"pool_tvl_usd\": 27323099.60969248}, {\"timestamp\": \"2022-10-24T00:00:00\", \"variable\": \"reserves_3crv\", \"value\": 13955571.95604928, \"reserves_3crv\": 13955571.95604928, \"reserves_bean\": 13654454.511199666, \"deltaB\": 549.140502625, \"bean_fraction\": 0.5000201089406403, \"3crv_fraction\": 0.49997989105935975, \"pool_tvl_usd\": 27308925.819863673}, {\"timestamp\": \"2022-10-24T00:00:00\", \"variable\": \"reserves_bean\", \"value\": 13654454.511199666, \"reserves_3crv\": 13955571.95604928, \"reserves_bean\": 13654454.511199666, \"deltaB\": 549.140502625, \"bean_fraction\": 0.5000201089406403, \"3crv_fraction\": 0.49997989105935975, \"pool_tvl_usd\": 27308925.819863673}, {\"timestamp\": \"2022-10-24T00:00:00\", \"variable\": \"deltaB\", \"value\": 549.140502625, \"reserves_3crv\": 13955571.95604928, \"reserves_bean\": 13654454.511199666, \"deltaB\": 549.140502625, \"bean_fraction\": 0.5000201089406403, \"3crv_fraction\": 0.49997989105935975, \"pool_tvl_usd\": 27308925.819863673}, {\"timestamp\": \"2022-10-24T00:00:00\", \"variable\": \"bean_fraction\", \"value\": 0.5000201089406403, \"reserves_3crv\": 13955571.95604928, \"reserves_bean\": 13654454.511199666, \"deltaB\": 549.140502625, \"bean_fraction\": 0.5000201089406403, \"3crv_fraction\": 0.49997989105935975, \"pool_tvl_usd\": 27308925.819863673}, {\"timestamp\": \"2022-10-24T00:00:00\", \"variable\": \"3crv_fraction\", \"value\": 0.49997989105935975, \"reserves_3crv\": 13955571.95604928, \"reserves_bean\": 13654454.511199666, \"deltaB\": 549.140502625, \"bean_fraction\": 0.5000201089406403, \"3crv_fraction\": 0.49997989105935975, \"pool_tvl_usd\": 27308925.819863673}, {\"timestamp\": \"2022-10-24T00:00:00\", \"variable\": \"pool_tvl_usd\", \"value\": 27308925.819863673, \"reserves_3crv\": 13955571.95604928, \"reserves_bean\": 13654454.511199666, \"deltaB\": 549.140502625, \"bean_fraction\": 0.5000201089406403, \"3crv_fraction\": 0.49997989105935975, \"pool_tvl_usd\": 27308925.819863673}, {\"timestamp\": \"2022-10-25T00:00:00\", \"variable\": \"reserves_3crv\", \"value\": 13960527.73102503, \"reserves_3crv\": 13960527.73102503, \"reserves_bean\": 13659364.55591815, \"deltaB\": 615.876819125, \"bean_fraction\": 0.5000225448033426, \"3crv_fraction\": 0.49997745519665754, \"pool_tvl_usd\": 27318691.37896815}, {\"timestamp\": \"2022-10-25T00:00:00\", \"variable\": \"reserves_bean\", \"value\": 13659364.55591815, \"reserves_3crv\": 13960527.73102503, \"reserves_bean\": 13659364.55591815, \"deltaB\": 615.876819125, \"bean_fraction\": 0.5000225448033426, \"3crv_fraction\": 0.49997745519665754, \"pool_tvl_usd\": 27318691.37896815}, {\"timestamp\": \"2022-10-25T00:00:00\", \"variable\": \"deltaB\", \"value\": 615.876819125, \"reserves_3crv\": 13960527.73102503, \"reserves_bean\": 13659364.55591815, \"deltaB\": 615.876819125, \"bean_fraction\": 0.5000225448033426, \"3crv_fraction\": 0.49997745519665754, \"pool_tvl_usd\": 27318691.37896815}, {\"timestamp\": \"2022-10-25T00:00:00\", \"variable\": \"bean_fraction\", \"value\": 0.5000225448033426, \"reserves_3crv\": 13960527.73102503, \"reserves_bean\": 13659364.55591815, \"deltaB\": 615.876819125, \"bean_fraction\": 0.5000225448033426, \"3crv_fraction\": 0.49997745519665754, \"pool_tvl_usd\": 27318691.37896815}, {\"timestamp\": \"2022-10-25T00:00:00\", \"variable\": \"3crv_fraction\", \"value\": 0.49997745519665754, \"reserves_3crv\": 13960527.73102503, \"reserves_bean\": 13659364.55591815, \"deltaB\": 615.876819125, \"bean_fraction\": 0.5000225448033426, \"3crv_fraction\": 0.49997745519665754, \"pool_tvl_usd\": 27318691.37896815}, {\"timestamp\": \"2022-10-25T00:00:00\", \"variable\": \"pool_tvl_usd\", \"value\": 27318691.37896815, \"reserves_3crv\": 13960527.73102503, \"reserves_bean\": 13659364.55591815, \"deltaB\": 615.876819125, \"bean_fraction\": 0.5000225448033426, \"3crv_fraction\": 0.49997745519665754, \"pool_tvl_usd\": 27318691.37896815}, {\"timestamp\": \"2022-10-26T00:00:00\", \"variable\": \"reserves_3crv\", \"value\": 13966455.096844072, \"reserves_3crv\": 13966455.096844072, \"reserves_bean\": 13666163.253334418, \"deltaB\": 1169.2947729166665, \"bean_fraction\": 0.5000427833630696, \"3crv_fraction\": 0.4999572166369304, \"pool_tvl_usd\": 27332307.60211305}, {\"timestamp\": \"2022-10-26T00:00:00\", \"variable\": \"reserves_bean\", \"value\": 13666163.253334418, \"reserves_3crv\": 13966455.096844072, \"reserves_bean\": 13666163.253334418, \"deltaB\": 1169.2947729166665, \"bean_fraction\": 0.5000427833630696, \"3crv_fraction\": 0.4999572166369304, \"pool_tvl_usd\": 27332307.60211305}, {\"timestamp\": \"2022-10-26T00:00:00\", \"variable\": \"deltaB\", \"value\": 1169.2947729166665, \"reserves_3crv\": 13966455.096844072, \"reserves_bean\": 13666163.253334418, \"deltaB\": 1169.2947729166665, \"bean_fraction\": 0.5000427833630696, \"3crv_fraction\": 0.4999572166369304, \"pool_tvl_usd\": 27332307.60211305}, {\"timestamp\": \"2022-10-26T00:00:00\", \"variable\": \"bean_fraction\", \"value\": 0.5000427833630696, \"reserves_3crv\": 13966455.096844072, \"reserves_bean\": 13666163.253334418, \"deltaB\": 1169.2947729166665, \"bean_fraction\": 0.5000427833630696, \"3crv_fraction\": 0.4999572166369304, \"pool_tvl_usd\": 27332307.60211305}, {\"timestamp\": \"2022-10-26T00:00:00\", \"variable\": \"3crv_fraction\", \"value\": 0.4999572166369304, \"reserves_3crv\": 13966455.096844072, \"reserves_bean\": 13666163.253334418, \"deltaB\": 1169.2947729166665, \"bean_fraction\": 0.5000427833630696, \"3crv_fraction\": 0.4999572166369304, \"pool_tvl_usd\": 27332307.60211305}, {\"timestamp\": \"2022-10-26T00:00:00\", \"variable\": \"pool_tvl_usd\", \"value\": 27332307.60211305, \"reserves_3crv\": 13966455.096844072, \"reserves_bean\": 13666163.253334418, \"deltaB\": 1169.2947729166665, \"bean_fraction\": 0.5000427833630696, \"3crv_fraction\": 0.4999572166369304, \"pool_tvl_usd\": 27332307.60211305}, {\"timestamp\": \"2022-10-27T00:00:00\", \"variable\": \"reserves_3crv\", \"value\": 13971763.737644672, \"reserves_3crv\": 13971763.737644672, \"reserves_bean\": 13669483.352612123, \"deltaB\": 243.79877975, \"bean_fraction\": 0.5000089244536433, \"3crv_fraction\": 0.49999107554635674, \"pool_tvl_usd\": 27339355.763485163}, {\"timestamp\": \"2022-10-27T00:00:00\", \"variable\": \"reserves_bean\", \"value\": 13669483.352612123, \"reserves_3crv\": 13971763.737644672, \"reserves_bean\": 13669483.352612123, \"deltaB\": 243.79877975, \"bean_fraction\": 0.5000089244536433, \"3crv_fraction\": 0.49999107554635674, \"pool_tvl_usd\": 27339355.763485163}, {\"timestamp\": \"2022-10-27T00:00:00\", \"variable\": \"deltaB\", \"value\": 243.79877975, \"reserves_3crv\": 13971763.737644672, \"reserves_bean\": 13669483.352612123, \"deltaB\": 243.79877975, \"bean_fraction\": 0.5000089244536433, \"3crv_fraction\": 0.49999107554635674, \"pool_tvl_usd\": 27339355.763485163}, {\"timestamp\": \"2022-10-27T00:00:00\", \"variable\": \"bean_fraction\", \"value\": 0.5000089244536433, \"reserves_3crv\": 13971763.737644672, \"reserves_bean\": 13669483.352612123, \"deltaB\": 243.79877975, \"bean_fraction\": 0.5000089244536433, \"3crv_fraction\": 0.49999107554635674, \"pool_tvl_usd\": 27339355.763485163}, {\"timestamp\": \"2022-10-27T00:00:00\", \"variable\": \"3crv_fraction\", \"value\": 0.49999107554635674, \"reserves_3crv\": 13971763.737644672, \"reserves_bean\": 13669483.352612123, \"deltaB\": 243.79877975, \"bean_fraction\": 0.5000089244536433, \"3crv_fraction\": 0.49999107554635674, \"pool_tvl_usd\": 27339355.763485163}, {\"timestamp\": \"2022-10-27T00:00:00\", \"variable\": \"pool_tvl_usd\", \"value\": 27339355.763485163, \"reserves_3crv\": 13971763.737644672, \"reserves_bean\": 13669483.352612123, \"deltaB\": 243.79877975, \"bean_fraction\": 0.5000089244536433, \"3crv_fraction\": 0.49999107554635674, \"pool_tvl_usd\": 27339355.763485163}, {\"timestamp\": \"2022-10-28T00:00:00\", \"variable\": \"reserves_3crv\", \"value\": 13966863.317485869, \"reserves_3crv\": 13966863.317485869, \"reserves_bean\": 13662706.230924362, \"deltaB\": -748.1596210833335, \"bean_fraction\": 0.4999726432559546, \"3crv_fraction\": 0.5000273567440455, \"pool_tvl_usd\": 27325859.00318085}, {\"timestamp\": \"2022-10-28T00:00:00\", \"variable\": \"reserves_bean\", \"value\": 13662706.230924362, \"reserves_3crv\": 13966863.317485869, \"reserves_bean\": 13662706.230924362, \"deltaB\": -748.1596210833335, \"bean_fraction\": 0.4999726432559546, \"3crv_fraction\": 0.5000273567440455, \"pool_tvl_usd\": 27325859.00318085}, {\"timestamp\": \"2022-10-28T00:00:00\", \"variable\": \"deltaB\", \"value\": -748.1596210833335, \"reserves_3crv\": 13966863.317485869, \"reserves_bean\": 13662706.230924362, \"deltaB\": -748.1596210833335, \"bean_fraction\": 0.4999726432559546, \"3crv_fraction\": 0.5000273567440455, \"pool_tvl_usd\": 27325859.00318085}, {\"timestamp\": \"2022-10-28T00:00:00\", \"variable\": \"bean_fraction\", \"value\": 0.4999726432559546, \"reserves_3crv\": 13966863.317485869, \"reserves_bean\": 13662706.230924362, \"deltaB\": -748.1596210833335, \"bean_fraction\": 0.4999726432559546, \"3crv_fraction\": 0.5000273567440455, \"pool_tvl_usd\": 27325859.00318085}, {\"timestamp\": \"2022-10-28T00:00:00\", \"variable\": \"3crv_fraction\", \"value\": 0.5000273567440455, \"reserves_3crv\": 13966863.317485869, \"reserves_bean\": 13662706.230924362, \"deltaB\": -748.1596210833335, \"bean_fraction\": 0.4999726432559546, \"3crv_fraction\": 0.5000273567440455, \"pool_tvl_usd\": 27325859.00318085}, {\"timestamp\": \"2022-10-28T00:00:00\", \"variable\": \"pool_tvl_usd\", \"value\": 27325859.00318085, \"reserves_3crv\": 13966863.317485869, \"reserves_bean\": 13662706.230924362, \"deltaB\": -748.1596210833335, \"bean_fraction\": 0.4999726432559546, \"3crv_fraction\": 0.5000273567440455, \"pool_tvl_usd\": 27325859.00318085}, {\"timestamp\": \"2022-10-29T00:00:00\", \"variable\": \"reserves_3crv\", \"value\": 13979015.678008897, \"reserves_3crv\": 13979015.678008897, \"reserves_bean\": 13644319.37289008, \"deltaB\": -16205.083996874999, \"bean_fraction\": 0.4994071640196371, \"3crv_fraction\": 0.500592835980363, \"pool_tvl_usd\": 27290018.933281418}, {\"timestamp\": \"2022-10-29T00:00:00\", \"variable\": \"reserves_bean\", \"value\": 13644319.37289008, \"reserves_3crv\": 13979015.678008897, \"reserves_bean\": 13644319.37289008, \"deltaB\": -16205.083996874999, \"bean_fraction\": 0.4994071640196371, \"3crv_fraction\": 0.500592835980363, \"pool_tvl_usd\": 27290018.933281418}, {\"timestamp\": \"2022-10-29T00:00:00\", \"variable\": \"deltaB\", \"value\": -16205.083996874999, \"reserves_3crv\": 13979015.678008897, \"reserves_bean\": 13644319.37289008, \"deltaB\": -16205.083996874999, \"bean_fraction\": 0.4994071640196371, \"3crv_fraction\": 0.500592835980363, \"pool_tvl_usd\": 27290018.933281418}, {\"timestamp\": \"2022-10-29T00:00:00\", \"variable\": \"bean_fraction\", \"value\": 0.4994071640196371, \"reserves_3crv\": 13979015.678008897, \"reserves_bean\": 13644319.37289008, \"deltaB\": -16205.083996874999, \"bean_fraction\": 0.4994071640196371, \"3crv_fraction\": 0.500592835980363, \"pool_tvl_usd\": 27290018.933281418}, {\"timestamp\": \"2022-10-29T00:00:00\", \"variable\": \"3crv_fraction\", \"value\": 0.500592835980363, \"reserves_3crv\": 13979015.678008897, \"reserves_bean\": 13644319.37289008, \"deltaB\": -16205.083996874999, \"bean_fraction\": 0.4994071640196371, \"3crv_fraction\": 0.500592835980363, \"pool_tvl_usd\": 27290018.933281418}, {\"timestamp\": \"2022-10-29T00:00:00\", \"variable\": \"pool_tvl_usd\", \"value\": 27290018.933281418, \"reserves_3crv\": 13979015.678008897, \"reserves_bean\": 13644319.37289008, \"deltaB\": -16205.083996874999, \"bean_fraction\": 0.4994071640196371, \"3crv_fraction\": 0.500592835980363, \"pool_tvl_usd\": 27290018.933281418}, {\"timestamp\": \"2022-10-30T00:00:00\", \"variable\": \"reserves_3crv\", \"value\": 13933144.527644312, \"reserves_3crv\": 13933144.527644312, \"reserves_bean\": 13632498.882984662, \"deltaB\": 716.4079176666668, \"bean_fraction\": 0.5000262873214326, \"3crv_fraction\": 0.49997371267856733, \"pool_tvl_usd\": 27264384.477690324}, {\"timestamp\": \"2022-10-30T00:00:00\", \"variable\": \"reserves_bean\", \"value\": 13632498.882984662, \"reserves_3crv\": 13933144.527644312, \"reserves_bean\": 13632498.882984662, \"deltaB\": 716.4079176666668, \"bean_fraction\": 0.5000262873214326, \"3crv_fraction\": 0.49997371267856733, \"pool_tvl_usd\": 27264384.477690324}, {\"timestamp\": \"2022-10-30T00:00:00\", \"variable\": \"deltaB\", \"value\": 716.4079176666668, \"reserves_3crv\": 13933144.527644312, \"reserves_bean\": 13632498.882984662, \"deltaB\": 716.4079176666668, \"bean_fraction\": 0.5000262873214326, \"3crv_fraction\": 0.49997371267856733, \"pool_tvl_usd\": 27264384.477690324}, {\"timestamp\": \"2022-10-30T00:00:00\", \"variable\": \"bean_fraction\", \"value\": 0.5000262873214326, \"reserves_3crv\": 13933144.527644312, \"reserves_bean\": 13632498.882984662, \"deltaB\": 716.4079176666668, \"bean_fraction\": 0.5000262873214326, \"3crv_fraction\": 0.49997371267856733, \"pool_tvl_usd\": 27264384.477690324}, {\"timestamp\": \"2022-10-30T00:00:00\", \"variable\": \"3crv_fraction\", \"value\": 0.49997371267856733, \"reserves_3crv\": 13933144.527644312, \"reserves_bean\": 13632498.882984662, \"deltaB\": 716.4079176666668, \"bean_fraction\": 0.5000262873214326, \"3crv_fraction\": 0.49997371267856733, \"pool_tvl_usd\": 27264384.477690324}, {\"timestamp\": \"2022-10-30T00:00:00\", \"variable\": \"pool_tvl_usd\", \"value\": 27264384.477690324, \"reserves_3crv\": 13933144.527644312, \"reserves_bean\": 13632498.882984662, \"deltaB\": 716.4079176666668, \"bean_fraction\": 0.5000262873214326, \"3crv_fraction\": 0.49997371267856733, \"pool_tvl_usd\": 27264384.477690324}, {\"timestamp\": \"2022-10-31T00:00:00\", \"variable\": \"reserves_3crv\", \"value\": 13923913.508323448, \"reserves_3crv\": 13923913.508323448, \"reserves_bean\": 13610549.489346065, \"deltaB\": -5837.357258111111, \"bean_fraction\": 0.4997858159607314, \"3crv_fraction\": 0.5002141840392684, \"pool_tvl_usd\": 27223097.584710266}, {\"timestamp\": \"2022-10-31T00:00:00\", \"variable\": \"reserves_bean\", \"value\": 13610549.489346065, \"reserves_3crv\": 13923913.508323448, \"reserves_bean\": 13610549.489346065, \"deltaB\": -5837.357258111111, \"bean_fraction\": 0.4997858159607314, \"3crv_fraction\": 0.5002141840392684, \"pool_tvl_usd\": 27223097.584710266}, {\"timestamp\": \"2022-10-31T00:00:00\", \"variable\": \"deltaB\", \"value\": -5837.357258111111, \"reserves_3crv\": 13923913.508323448, \"reserves_bean\": 13610549.489346065, \"deltaB\": -5837.357258111111, \"bean_fraction\": 0.4997858159607314, \"3crv_fraction\": 0.5002141840392684, \"pool_tvl_usd\": 27223097.584710266}, {\"timestamp\": \"2022-10-31T00:00:00\", \"variable\": \"bean_fraction\", \"value\": 0.4997858159607314, \"reserves_3crv\": 13923913.508323448, \"reserves_bean\": 13610549.489346065, \"deltaB\": -5837.357258111111, \"bean_fraction\": 0.4997858159607314, \"3crv_fraction\": 0.5002141840392684, \"pool_tvl_usd\": 27223097.584710266}, {\"timestamp\": \"2022-10-31T00:00:00\", \"variable\": \"3crv_fraction\", \"value\": 0.5002141840392684, \"reserves_3crv\": 13923913.508323448, \"reserves_bean\": 13610549.489346065, \"deltaB\": -5837.357258111111, \"bean_fraction\": 0.4997858159607314, \"3crv_fraction\": 0.5002141840392684, \"pool_tvl_usd\": 27223097.584710266}, {\"timestamp\": \"2022-10-31T00:00:00\", \"variable\": \"pool_tvl_usd\", \"value\": 27223097.584710266, \"reserves_3crv\": 13923913.508323448, \"reserves_bean\": 13610549.489346065, \"deltaB\": -5837.357258111111, \"bean_fraction\": 0.4997858159607314, \"3crv_fraction\": 0.5002141840392684, \"pool_tvl_usd\": 27223097.584710266}]}}, {\"mode\": \"vega-lite\"});\n",
       "</script>"
      ],
      "text/plain": [
       "alt.VConcatChart(...)"
      ]
     },
     "execution_count": 17,
     "metadata": {},
     "output_type": "execute_result"
    }
   ],
   "source": [
    "width = 450 \n",
    "tooltip_metrics = [\n",
    "    'reserves_3crv', \n",
    "    'reserves_bean',\n",
    "    'bean_fraction', \n",
    "    '3crv_fraction',\n",
    "    'deltaB', \n",
    "    'pool_tvl_usd', \n",
    "]\n",
    "tooltip_formats = {\n",
    "    \"bean_fraction\": \".1%\", \n",
    "    \"3crv_fraction\": \".1%\", \n",
    "    \"pool_tvl_usd\": \"$,d\"\n",
    "}\n",
    "colors = {\n",
    "    'reserves_3crv': Tableau_10.hex_colors[0], \n",
    "    'reserves_bean': Tableau_10.hex_colors[1],\n",
    "    'bean_fraction': Tableau_10.hex_colors[2], \n",
    "    '3crv_fraction': Tableau_10.hex_colors[3],\n",
    "    'deltaB': Tableau_10.hex_colors[6], \n",
    "    'pool_tvl_usd': Tableau_10.hex_colors[8], \n",
    "}\n",
    "\n",
    "chart_reserves, selection_nearest = chart(\n",
    "    df, \n",
    "    \"timestamp\", \n",
    "    lmetrics=['reserves_3crv', 'reserves_bean'], \n",
    "    lstrategy='line', \n",
    "    l_yscales={\"line\": dict(domainMin=12*1e6)}, # TODO: don't hardcode this\n",
    "    title=\"Bean:3Crv Pool Reserves\", \n",
    "    yaxis_left_kwargs=dict(title=\"Reserves\", format=\".2~s\"),    \n",
    "    create_selection=True, \n",
    "    add_selection=True, \n",
    "    return_selection=True, \n",
    "    tooltip_metrics=tooltip_metrics, \n",
    "    tooltip_formats=tooltip_formats, \n",
    "    colors=colors, \n",
    "    width=width, \n",
    ")\n",
    "chart_balance = chart(\n",
    "    df, \n",
    "    \"timestamp\", \n",
    "    lmetrics=['bean_fraction', '3crv_fraction'], \n",
    "    lstrategy='line', \n",
    "    title=\"Bean:3Crv Pool Balance\", \n",
    "    yaxis_left_kwargs=dict(title=\"Balance Ratio\", format=\"%\"),    \n",
    "    l_yscales={\"line\": dict(domainMin=.45, domainMax=.55)}, # TODO: don't hardcode this\n",
    "    selection_nearest=selection_nearest, \n",
    "    create_selection=False, \n",
    "    add_selection=True, \n",
    "    tooltip_metrics=tooltip_metrics, \n",
    "    tooltip_formats=tooltip_formats, \n",
    "    colors=colors, \n",
    "    width=width, \n",
    ")\n",
    "chart_deltab = chart(\n",
    "    df, \n",
    "    \"timestamp\", \n",
    "    lmetrics=['deltaB'], \n",
    "    lstrategy='line', \n",
    "    title=\"Bean:3Crv Pool DeltaB\", \n",
    "    yaxis_left_kwargs=dict(title=\"DeltaB\", format=\".2~s\"),    \n",
    "    selection_nearest=selection_nearest, \n",
    "    create_selection=False, \n",
    "    add_selection=True, \n",
    "    tooltip_metrics=tooltip_metrics, \n",
    "    tooltip_formats=tooltip_formats,\n",
    "    colors=colors, \n",
    "    width=width, \n",
    ")\n",
    "chart_tvl = chart(\n",
    "    df, \n",
    "    \"timestamp\", \n",
    "    lmetrics=['pool_tvl_usd'], \n",
    "    lstrategy='line', \n",
    "    title=\"Bean:3Crv Pool TVL\", \n",
    "    yaxis_left_kwargs=dict(title=\"Pool TVL\", format=\"$.2~s\"),    \n",
    "    selection_nearest=selection_nearest, \n",
    "    create_selection=False, \n",
    "    add_selection=True, \n",
    "    tooltip_metrics=tooltip_metrics, \n",
    "    tooltip_formats=tooltip_formats, \n",
    "    colors=colors, \n",
    "    width=width, \n",
    ")\n",
    "c = (\n",
    "    alt.vconcat(\n",
    "        alt.hconcat(chart_reserves, chart_balance),\n",
    "        alt.hconcat(chart_deltab, chart_tvl),\n",
    "    )\n",
    "    .resolve_scale(y=\"independent\")\n",
    "    .resolve_axis(y=\"independent\")\n",
    ")\n",
    "css_lines = css_tooltip_timeseries_multi_colored(tooltip_metrics, colors)\n",
    "css = \"\\n\".join(css_lines)\n",
    "# apply_css(css) \n",
    "apply_css(\"\") \n",
    "c"
   ]
  },
  {
   "cell_type": "code",
   "execution_count": 12,
   "id": "4ea7f876-8dd9-4cec-9a7d-0b0d7b471cb4",
   "metadata": {},
   "outputs": [
    {
     "data": {
      "application/json": {
       "css": "#vg-tooltip-element tr:nth-child(1) { font-weight: bold }\n#vg-tooltip-element tr:nth-child(1) td:first-child { opacity: 0 }\n\n#vg-tooltip-element tr:nth-child(2) td:first-child { color: #1F77B4 }\n\n#vg-tooltip-element tr:nth-child(3) td:first-child { color: #FF7F0E }\n\n#vg-tooltip-element tr:nth-child(4) td:first-child { color: #2CA02C }\n\n#vg-tooltip-element tr:nth-child(5) td:first-child { color: #D62728 }\n\n#vg-tooltip-element tr:nth-child(6) td:first-child { color: #E377C2 }\n\n#vg-tooltip-element tr:nth-child(7) td:first-child { color: #BCBD22 }\n",
       "spec": {
        "$schema": "https://vega.github.io/schema/vega-lite/v4.17.0.json",
        "config": {
         "view": {
          "continuousHeight": 300,
          "continuousWidth": 400
         }
        },
        "data": {
         "name": "data-bc011a7e2842f0912e8ef8ccf7a8cd0a"
        },
        "datasets": {
         "data-bc011a7e2842f0912e8ef8ccf7a8cd0a": [
          {
           "3crv_fraction": 0.4728062108428692,
           "bean_fraction": 0.5271937891571308,
           "deltaB": 746992.283424,
           "pool_tvl_usd": 29003707.56927822,
           "reserves_3crv": 13275982.36875922,
           "reserves_bean": 14474525.6594212,
           "timestamp": "2022-08-06T00:00:00",
           "value": 13275982.36875922,
           "variable": "reserves_3crv"
          },
          {
           "3crv_fraction": 0.4728062108428692,
           "bean_fraction": 0.5271937891571308,
           "deltaB": 746992.283424,
           "pool_tvl_usd": 29003707.56927822,
           "reserves_3crv": 13275982.36875922,
           "reserves_bean": 14474525.6594212,
           "timestamp": "2022-08-06T00:00:00",
           "value": 14474525.6594212,
           "variable": "reserves_bean"
          },
          {
           "3crv_fraction": 0.4728062108428692,
           "bean_fraction": 0.5271937891571308,
           "deltaB": 746992.283424,
           "pool_tvl_usd": 29003707.56927822,
           "reserves_3crv": 13275982.36875922,
           "reserves_bean": 14474525.6594212,
           "timestamp": "2022-08-06T00:00:00",
           "value": 746992.283424,
           "variable": "deltaB"
          },
          {
           "3crv_fraction": 0.4728062108428692,
           "bean_fraction": 0.5271937891571308,
           "deltaB": 746992.283424,
           "pool_tvl_usd": 29003707.56927822,
           "reserves_3crv": 13275982.36875922,
           "reserves_bean": 14474525.6594212,
           "timestamp": "2022-08-06T00:00:00",
           "value": 0.5271937891571308,
           "variable": "bean_fraction"
          },
          {
           "3crv_fraction": 0.4728062108428692,
           "bean_fraction": 0.5271937891571308,
           "deltaB": 746992.283424,
           "pool_tvl_usd": 29003707.56927822,
           "reserves_3crv": 13275982.36875922,
           "reserves_bean": 14474525.6594212,
           "timestamp": "2022-08-06T00:00:00",
           "value": 0.4728062108428692,
           "variable": "3crv_fraction"
          },
          {
           "3crv_fraction": 0.4728062108428692,
           "bean_fraction": 0.5271937891571308,
           "deltaB": 746992.283424,
           "pool_tvl_usd": 29003707.56927822,
           "reserves_3crv": 13275982.36875922,
           "reserves_bean": 14474525.6594212,
           "timestamp": "2022-08-06T00:00:00",
           "value": 29003707.56927822,
           "variable": "pool_tvl_usd"
          },
          {
           "3crv_fraction": 0.46220637928725106,
           "bean_fraction": 0.537793620712749,
           "deltaB": 1218376.0432190418,
           "pool_tvl_usd": 34686175.49470173,
           "reserves_3crv": 15208811.718709372,
           "reserves_bean": 17324856.66241992,
           "timestamp": "2022-08-07T00:00:00",
           "value": 15208811.718709372,
           "variable": "reserves_3crv"
          },
          {
           "3crv_fraction": 0.46220637928725106,
           "bean_fraction": 0.537793620712749,
           "deltaB": 1218376.0432190418,
           "pool_tvl_usd": 34686175.49470173,
           "reserves_3crv": 15208811.718709372,
           "reserves_bean": 17324856.66241992,
           "timestamp": "2022-08-07T00:00:00",
           "value": 17324856.66241992,
           "variable": "reserves_bean"
          },
          {
           "3crv_fraction": 0.46220637928725106,
           "bean_fraction": 0.537793620712749,
           "deltaB": 1218376.0432190418,
           "pool_tvl_usd": 34686175.49470173,
           "reserves_3crv": 15208811.718709372,
           "reserves_bean": 17324856.66241992,
           "timestamp": "2022-08-07T00:00:00",
           "value": 1218376.0432190418,
           "variable": "deltaB"
          },
          {
           "3crv_fraction": 0.46220637928725106,
           "bean_fraction": 0.537793620712749,
           "deltaB": 1218376.0432190418,
           "pool_tvl_usd": 34686175.49470173,
           "reserves_3crv": 15208811.718709372,
           "reserves_bean": 17324856.66241992,
           "timestamp": "2022-08-07T00:00:00",
           "value": 0.537793620712749,
           "variable": "bean_fraction"
          },
          {
           "3crv_fraction": 0.46220637928725106,
           "bean_fraction": 0.537793620712749,
           "deltaB": 1218376.0432190418,
           "pool_tvl_usd": 34686175.49470173,
           "reserves_3crv": 15208811.718709372,
           "reserves_bean": 17324856.66241992,
           "timestamp": "2022-08-07T00:00:00",
           "value": 0.46220637928725106,
           "variable": "3crv_fraction"
          },
          {
           "3crv_fraction": 0.46220637928725106,
           "bean_fraction": 0.537793620712749,
           "deltaB": 1218376.0432190418,
           "pool_tvl_usd": 34686175.49470173,
           "reserves_3crv": 15208811.718709372,
           "reserves_bean": 17324856.66241992,
           "timestamp": "2022-08-07T00:00:00",
           "value": 34686175.49470173,
           "variable": "pool_tvl_usd"
          },
          {
           "3crv_fraction": 0.4994220107844894,
           "bean_fraction": 0.5005779892155106,
           "deltaB": 22324.22944579167,
           "pool_tvl_usd": 38027091.63153944,
           "reserves_3crv": 19386072.03455328,
           "reserves_bean": 19015760.970274188,
           "timestamp": "2022-08-08T00:00:00",
           "value": 19386072.03455328,
           "variable": "reserves_3crv"
          },
          {
           "3crv_fraction": 0.4994220107844894,
           "bean_fraction": 0.5005779892155106,
           "deltaB": 22324.22944579167,
           "pool_tvl_usd": 38027091.63153944,
           "reserves_3crv": 19386072.03455328,
           "reserves_bean": 19015760.970274188,
           "timestamp": "2022-08-08T00:00:00",
           "value": 19015760.970274188,
           "variable": "reserves_bean"
          },
          {
           "3crv_fraction": 0.4994220107844894,
           "bean_fraction": 0.5005779892155106,
           "deltaB": 22324.22944579167,
           "pool_tvl_usd": 38027091.63153944,
           "reserves_3crv": 19386072.03455328,
           "reserves_bean": 19015760.970274188,
           "timestamp": "2022-08-08T00:00:00",
           "value": 22324.22944579167,
           "variable": "deltaB"
          },
          {
           "3crv_fraction": 0.4994220107844894,
           "bean_fraction": 0.5005779892155106,
           "deltaB": 22324.22944579167,
           "pool_tvl_usd": 38027091.63153944,
           "reserves_3crv": 19386072.03455328,
           "reserves_bean": 19015760.970274188,
           "timestamp": "2022-08-08T00:00:00",
           "value": 0.5005779892155106,
           "variable": "bean_fraction"
          },
          {
           "3crv_fraction": 0.4994220107844894,
           "bean_fraction": 0.5005779892155106,
           "deltaB": 22324.22944579167,
           "pool_tvl_usd": 38027091.63153944,
           "reserves_3crv": 19386072.03455328,
           "reserves_bean": 19015760.970274188,
           "timestamp": "2022-08-08T00:00:00",
           "value": 0.4994220107844894,
           "variable": "3crv_fraction"
          },
          {
           "3crv_fraction": 0.4994220107844894,
           "bean_fraction": 0.5005779892155106,
           "deltaB": 22324.22944579167,
           "pool_tvl_usd": 38027091.63153944,
           "reserves_3crv": 19386072.03455328,
           "reserves_bean": 19015760.970274188,
           "timestamp": "2022-08-08T00:00:00",
           "value": 38027091.63153944,
           "variable": "pool_tvl_usd"
          },
          {
           "3crv_fraction": 0.5019887125075578,
           "bean_fraction": 0.4980112874924422,
           "deltaB": -71540.85962095833,
           "pool_tvl_usd": 36872225.37800511,
           "reserves_3crv": 18968703.800559256,
           "reserves_bean": 18423609.06496451,
           "timestamp": "2022-08-09T00:00:00",
           "value": 18968703.800559256,
           "variable": "reserves_3crv"
          },
          {
           "3crv_fraction": 0.5019887125075578,
           "bean_fraction": 0.4980112874924422,
           "deltaB": -71540.85962095833,
           "pool_tvl_usd": 36872225.37800511,
           "reserves_3crv": 18968703.800559256,
           "reserves_bean": 18423609.06496451,
           "timestamp": "2022-08-09T00:00:00",
           "value": 18423609.06496451,
           "variable": "reserves_bean"
          },
          {
           "3crv_fraction": 0.5019887125075578,
           "bean_fraction": 0.4980112874924422,
           "deltaB": -71540.85962095833,
           "pool_tvl_usd": 36872225.37800511,
           "reserves_3crv": 18968703.800559256,
           "reserves_bean": 18423609.06496451,
           "timestamp": "2022-08-09T00:00:00",
           "value": -71540.85962095833,
           "variable": "deltaB"
          },
          {
           "3crv_fraction": 0.5019887125075578,
           "bean_fraction": 0.4980112874924422,
           "deltaB": -71540.85962095833,
           "pool_tvl_usd": 36872225.37800511,
           "reserves_3crv": 18968703.800559256,
           "reserves_bean": 18423609.06496451,
           "timestamp": "2022-08-09T00:00:00",
           "value": 0.4980112874924422,
           "variable": "bean_fraction"
          },
          {
           "3crv_fraction": 0.5019887125075578,
           "bean_fraction": 0.4980112874924422,
           "deltaB": -71540.85962095833,
           "pool_tvl_usd": 36872225.37800511,
           "reserves_3crv": 18968703.800559256,
           "reserves_bean": 18423609.06496451,
           "timestamp": "2022-08-09T00:00:00",
           "value": 0.5019887125075578,
           "variable": "3crv_fraction"
          },
          {
           "3crv_fraction": 0.5019887125075578,
           "bean_fraction": 0.4980112874924422,
           "deltaB": -71540.85962095833,
           "pool_tvl_usd": 36872225.37800511,
           "reserves_3crv": 18968703.800559256,
           "reserves_bean": 18423609.06496451,
           "timestamp": "2022-08-09T00:00:00",
           "value": 36872225.37800511,
           "variable": "pool_tvl_usd"
          },
          {
           "3crv_fraction": 0.4999221969800061,
           "bean_fraction": 0.5000778030199938,
           "deltaB": 2753.2673665416664,
           "pool_tvl_usd": 35427414.72054697,
           "reserves_3crv": 18094685.842086893,
           "reserves_bean": 17713207.904565103,
           "timestamp": "2022-08-10T00:00:00",
           "value": 18094685.842086893,
           "variable": "reserves_3crv"
          },
          {
           "3crv_fraction": 0.4999221969800061,
           "bean_fraction": 0.5000778030199938,
           "deltaB": 2753.2673665416664,
           "pool_tvl_usd": 35427414.72054697,
           "reserves_3crv": 18094685.842086893,
           "reserves_bean": 17713207.904565103,
           "timestamp": "2022-08-10T00:00:00",
           "value": 17713207.904565103,
           "variable": "reserves_bean"
          },
          {
           "3crv_fraction": 0.4999221969800061,
           "bean_fraction": 0.5000778030199938,
           "deltaB": 2753.2673665416664,
           "pool_tvl_usd": 35427414.72054697,
           "reserves_3crv": 18094685.842086893,
           "reserves_bean": 17713207.904565103,
           "timestamp": "2022-08-10T00:00:00",
           "value": 2753.2673665416664,
           "variable": "deltaB"
          },
          {
           "3crv_fraction": 0.4999221969800061,
           "bean_fraction": 0.5000778030199938,
           "deltaB": 2753.2673665416664,
           "pool_tvl_usd": 35427414.72054697,
           "reserves_3crv": 18094685.842086893,
           "reserves_bean": 17713207.904565103,
           "timestamp": "2022-08-10T00:00:00",
           "value": 0.5000778030199938,
           "variable": "bean_fraction"
          },
          {
           "3crv_fraction": 0.4999221969800061,
           "bean_fraction": 0.5000778030199938,
           "deltaB": 2753.2673665416664,
           "pool_tvl_usd": 35427414.72054697,
           "reserves_3crv": 18094685.842086893,
           "reserves_bean": 17713207.904565103,
           "timestamp": "2022-08-10T00:00:00",
           "value": 0.4999221969800061,
           "variable": "3crv_fraction"
          },
          {
           "3crv_fraction": 0.4999221969800061,
           "bean_fraction": 0.5000778030199938,
           "deltaB": 2753.2673665416664,
           "pool_tvl_usd": 35427414.72054697,
           "reserves_3crv": 18094685.842086893,
           "reserves_bean": 17713207.904565103,
           "timestamp": "2022-08-10T00:00:00",
           "value": 35427414.72054697,
           "variable": "pool_tvl_usd"
          },
          {
           "3crv_fraction": 0.500022418082621,
           "bean_fraction": 0.49997758191737907,
           "deltaB": -790.3674384166667,
           "pool_tvl_usd": 35262567.21072305,
           "reserves_3crv": 18017303.4070074,
           "reserves_bean": 17630431.224694002,
           "timestamp": "2022-08-11T00:00:00",
           "value": 18017303.4070074,
           "variable": "reserves_3crv"
          },
          {
           "3crv_fraction": 0.500022418082621,
           "bean_fraction": 0.49997758191737907,
           "deltaB": -790.3674384166667,
           "pool_tvl_usd": 35262567.21072305,
           "reserves_3crv": 18017303.4070074,
           "reserves_bean": 17630431.224694002,
           "timestamp": "2022-08-11T00:00:00",
           "value": 17630431.224694002,
           "variable": "reserves_bean"
          },
          {
           "3crv_fraction": 0.500022418082621,
           "bean_fraction": 0.49997758191737907,
           "deltaB": -790.3674384166667,
           "pool_tvl_usd": 35262567.21072305,
           "reserves_3crv": 18017303.4070074,
           "reserves_bean": 17630431.224694002,
           "timestamp": "2022-08-11T00:00:00",
           "value": -790.3674384166667,
           "variable": "deltaB"
          },
          {
           "3crv_fraction": 0.500022418082621,
           "bean_fraction": 0.49997758191737907,
           "deltaB": -790.3674384166667,
           "pool_tvl_usd": 35262567.21072305,
           "reserves_3crv": 18017303.4070074,
           "reserves_bean": 17630431.224694002,
           "timestamp": "2022-08-11T00:00:00",
           "value": 0.49997758191737907,
           "variable": "bean_fraction"
          },
          {
           "3crv_fraction": 0.500022418082621,
           "bean_fraction": 0.49997758191737907,
           "deltaB": -790.3674384166667,
           "pool_tvl_usd": 35262567.21072305,
           "reserves_3crv": 18017303.4070074,
           "reserves_bean": 17630431.224694002,
           "timestamp": "2022-08-11T00:00:00",
           "value": 0.500022418082621,
           "variable": "3crv_fraction"
          },
          {
           "3crv_fraction": 0.500022418082621,
           "bean_fraction": 0.49997758191737907,
           "deltaB": -790.3674384166667,
           "pool_tvl_usd": 35262567.21072305,
           "reserves_3crv": 18017303.4070074,
           "reserves_bean": 17630431.224694002,
           "timestamp": "2022-08-11T00:00:00",
           "value": 35262567.21072305,
           "variable": "pool_tvl_usd"
          },
          {
           "3crv_fraction": 0.49998612927840763,
           "bean_fraction": 0.5000138707215924,
           "deltaB": 487.829233125,
           "pool_tvl_usd": 35179267.42960425,
           "reserves_3crv": 17973299.89166241,
           "reserves_bean": 17589805.820261817,
           "timestamp": "2022-08-12T00:00:00",
           "value": 17973299.89166241,
           "variable": "reserves_3crv"
          },
          {
           "3crv_fraction": 0.49998612927840763,
           "bean_fraction": 0.5000138707215924,
           "deltaB": 487.829233125,
           "pool_tvl_usd": 35179267.42960425,
           "reserves_3crv": 17973299.89166241,
           "reserves_bean": 17589805.820261817,
           "timestamp": "2022-08-12T00:00:00",
           "value": 17589805.820261817,
           "variable": "reserves_bean"
          },
          {
           "3crv_fraction": 0.49998612927840763,
           "bean_fraction": 0.5000138707215924,
           "deltaB": 487.829233125,
           "pool_tvl_usd": 35179267.42960425,
           "reserves_3crv": 17973299.89166241,
           "reserves_bean": 17589805.820261817,
           "timestamp": "2022-08-12T00:00:00",
           "value": 487.829233125,
           "variable": "deltaB"
          },
          {
           "3crv_fraction": 0.49998612927840763,
           "bean_fraction": 0.5000138707215924,
           "deltaB": 487.829233125,
           "pool_tvl_usd": 35179267.42960425,
           "reserves_3crv": 17973299.89166241,
           "reserves_bean": 17589805.820261817,
           "timestamp": "2022-08-12T00:00:00",
           "value": 0.5000138707215924,
           "variable": "bean_fraction"
          },
          {
           "3crv_fraction": 0.49998612927840763,
           "bean_fraction": 0.5000138707215924,
           "deltaB": 487.829233125,
           "pool_tvl_usd": 35179267.42960425,
           "reserves_3crv": 17973299.89166241,
           "reserves_bean": 17589805.820261817,
           "timestamp": "2022-08-12T00:00:00",
           "value": 0.49998612927840763,
           "variable": "3crv_fraction"
          },
          {
           "3crv_fraction": 0.49998612927840763,
           "bean_fraction": 0.5000138707215924,
           "deltaB": 487.829233125,
           "pool_tvl_usd": 35179267.42960425,
           "reserves_3crv": 17973299.89166241,
           "reserves_bean": 17589805.820261817,
           "timestamp": "2022-08-12T00:00:00",
           "value": 35179267.42960425,
           "variable": "pool_tvl_usd"
          },
          {
           "3crv_fraction": 0.4999256968869222,
           "bean_fraction": 0.5000743031130778,
           "deltaB": 2616.3400060833337,
           "pool_tvl_usd": 35218476.128358506,
           "reserves_3crv": 17989162.36499584,
           "reserves_bean": 17609448.314660568,
           "timestamp": "2022-08-13T00:00:00",
           "value": 17989162.36499584,
           "variable": "reserves_3crv"
          },
          {
           "3crv_fraction": 0.4999256968869222,
           "bean_fraction": 0.5000743031130778,
           "deltaB": 2616.3400060833337,
           "pool_tvl_usd": 35218476.128358506,
           "reserves_3crv": 17989162.36499584,
           "reserves_bean": 17609448.314660568,
           "timestamp": "2022-08-13T00:00:00",
           "value": 17609448.314660568,
           "variable": "reserves_bean"
          },
          {
           "3crv_fraction": 0.4999256968869222,
           "bean_fraction": 0.5000743031130778,
           "deltaB": 2616.3400060833337,
           "pool_tvl_usd": 35218476.128358506,
           "reserves_3crv": 17989162.36499584,
           "reserves_bean": 17609448.314660568,
           "timestamp": "2022-08-13T00:00:00",
           "value": 2616.3400060833337,
           "variable": "deltaB"
          },
          {
           "3crv_fraction": 0.4999256968869222,
           "bean_fraction": 0.5000743031130778,
           "deltaB": 2616.3400060833337,
           "pool_tvl_usd": 35218476.128358506,
           "reserves_3crv": 17989162.36499584,
           "reserves_bean": 17609448.314660568,
           "timestamp": "2022-08-13T00:00:00",
           "value": 0.5000743031130778,
           "variable": "bean_fraction"
          },
          {
           "3crv_fraction": 0.4999256968869222,
           "bean_fraction": 0.5000743031130778,
           "deltaB": 2616.3400060833337,
           "pool_tvl_usd": 35218476.128358506,
           "reserves_3crv": 17989162.36499584,
           "reserves_bean": 17609448.314660568,
           "timestamp": "2022-08-13T00:00:00",
           "value": 0.4999256968869222,
           "variable": "3crv_fraction"
          },
          {
           "3crv_fraction": 0.4999256968869222,
           "bean_fraction": 0.5000743031130778,
           "deltaB": 2616.3400060833337,
           "pool_tvl_usd": 35218476.128358506,
           "reserves_3crv": 17989162.36499584,
           "reserves_bean": 17609448.314660568,
           "timestamp": "2022-08-13T00:00:00",
           "value": 35218476.128358506,
           "variable": "pool_tvl_usd"
          },
          {
           "3crv_fraction": 0.5003737242784556,
           "bean_fraction": 0.4996262757215444,
           "deltaB": -12089.602507625,
           "pool_tvl_usd": 35080841.564496614,
           "reserves_3crv": 17938248.822816137,
           "reserves_bean": 17530893.169031028,
           "timestamp": "2022-08-14T00:00:00",
           "value": 17938248.822816137,
           "variable": "reserves_3crv"
          },
          {
           "3crv_fraction": 0.5003737242784556,
           "bean_fraction": 0.4996262757215444,
           "deltaB": -12089.602507625,
           "pool_tvl_usd": 35080841.564496614,
           "reserves_3crv": 17938248.822816137,
           "reserves_bean": 17530893.169031028,
           "timestamp": "2022-08-14T00:00:00",
           "value": 17530893.169031028,
           "variable": "reserves_bean"
          },
          {
           "3crv_fraction": 0.5003737242784556,
           "bean_fraction": 0.4996262757215444,
           "deltaB": -12089.602507625,
           "pool_tvl_usd": 35080841.564496614,
           "reserves_3crv": 17938248.822816137,
           "reserves_bean": 17530893.169031028,
           "timestamp": "2022-08-14T00:00:00",
           "value": -12089.602507625,
           "variable": "deltaB"
          },
          {
           "3crv_fraction": 0.5003737242784556,
           "bean_fraction": 0.4996262757215444,
           "deltaB": -12089.602507625,
           "pool_tvl_usd": 35080841.564496614,
           "reserves_3crv": 17938248.822816137,
           "reserves_bean": 17530893.169031028,
           "timestamp": "2022-08-14T00:00:00",
           "value": 0.4996262757215444,
           "variable": "bean_fraction"
          },
          {
           "3crv_fraction": 0.5003737242784556,
           "bean_fraction": 0.4996262757215444,
           "deltaB": -12089.602507625,
           "pool_tvl_usd": 35080841.564496614,
           "reserves_3crv": 17938248.822816137,
           "reserves_bean": 17530893.169031028,
           "timestamp": "2022-08-14T00:00:00",
           "value": 0.5003737242784556,
           "variable": "3crv_fraction"
          },
          {
           "3crv_fraction": 0.5003737242784556,
           "bean_fraction": 0.4996262757215444,
           "deltaB": -12089.602507625,
           "pool_tvl_usd": 35080841.564496614,
           "reserves_3crv": 17938248.822816137,
           "reserves_bean": 17530893.169031028,
           "timestamp": "2022-08-14T00:00:00",
           "value": 35080841.564496614,
           "variable": "pool_tvl_usd"
          },
          {
           "3crv_fraction": 0.49998895191886206,
           "bean_fraction": 0.500011048081138,
           "deltaB": 335.60451808333335,
           "pool_tvl_usd": 30383414.534991354,
           "reserves_3crv": 15523170.72948727,
           "reserves_bean": 15191674.518758617,
           "timestamp": "2022-08-15T00:00:00",
           "value": 15523170.72948727,
           "variable": "reserves_3crv"
          },
          {
           "3crv_fraction": 0.49998895191886206,
           "bean_fraction": 0.500011048081138,
           "deltaB": 335.60451808333335,
           "pool_tvl_usd": 30383414.534991354,
           "reserves_3crv": 15523170.72948727,
           "reserves_bean": 15191674.518758617,
           "timestamp": "2022-08-15T00:00:00",
           "value": 15191674.518758617,
           "variable": "reserves_bean"
          },
          {
           "3crv_fraction": 0.49998895191886206,
           "bean_fraction": 0.500011048081138,
           "deltaB": 335.60451808333335,
           "pool_tvl_usd": 30383414.534991354,
           "reserves_3crv": 15523170.72948727,
           "reserves_bean": 15191674.518758617,
           "timestamp": "2022-08-15T00:00:00",
           "value": 335.60451808333335,
           "variable": "deltaB"
          },
          {
           "3crv_fraction": 0.49998895191886206,
           "bean_fraction": 0.500011048081138,
           "deltaB": 335.60451808333335,
           "pool_tvl_usd": 30383414.534991354,
           "reserves_3crv": 15523170.72948727,
           "reserves_bean": 15191674.518758617,
           "timestamp": "2022-08-15T00:00:00",
           "value": 0.500011048081138,
           "variable": "bean_fraction"
          },
          {
           "3crv_fraction": 0.49998895191886206,
           "bean_fraction": 0.500011048081138,
           "deltaB": 335.60451808333335,
           "pool_tvl_usd": 30383414.534991354,
           "reserves_3crv": 15523170.72948727,
           "reserves_bean": 15191674.518758617,
           "timestamp": "2022-08-15T00:00:00",
           "value": 0.49998895191886206,
           "variable": "3crv_fraction"
          },
          {
           "3crv_fraction": 0.49998895191886206,
           "bean_fraction": 0.500011048081138,
           "deltaB": 335.60451808333335,
           "pool_tvl_usd": 30383414.534991354,
           "reserves_3crv": 15523170.72948727,
           "reserves_bean": 15191674.518758617,
           "timestamp": "2022-08-15T00:00:00",
           "value": 30383414.534991354,
           "variable": "pool_tvl_usd"
          },
          {
           "3crv_fraction": 0.4999772479581444,
           "bean_fraction": 0.5000227520418555,
           "deltaB": 691.15343225,
           "pool_tvl_usd": 30380333.72063021,
           "reserves_3crv": 15520892.128733939,
           "reserves_bean": 15190042.261116901,
           "timestamp": "2022-08-16T00:00:00",
           "value": 15520892.128733939,
           "variable": "reserves_3crv"
          },
          {
           "3crv_fraction": 0.4999772479581444,
           "bean_fraction": 0.5000227520418555,
           "deltaB": 691.15343225,
           "pool_tvl_usd": 30380333.72063021,
           "reserves_3crv": 15520892.128733939,
           "reserves_bean": 15190042.261116901,
           "timestamp": "2022-08-16T00:00:00",
           "value": 15190042.261116901,
           "variable": "reserves_bean"
          },
          {
           "3crv_fraction": 0.4999772479581444,
           "bean_fraction": 0.5000227520418555,
           "deltaB": 691.15343225,
           "pool_tvl_usd": 30380333.72063021,
           "reserves_3crv": 15520892.128733939,
           "reserves_bean": 15190042.261116901,
           "timestamp": "2022-08-16T00:00:00",
           "value": 691.15343225,
           "variable": "deltaB"
          },
          {
           "3crv_fraction": 0.4999772479581444,
           "bean_fraction": 0.5000227520418555,
           "deltaB": 691.15343225,
           "pool_tvl_usd": 30380333.72063021,
           "reserves_3crv": 15520892.128733939,
           "reserves_bean": 15190042.261116901,
           "timestamp": "2022-08-16T00:00:00",
           "value": 0.5000227520418555,
           "variable": "bean_fraction"
          },
          {
           "3crv_fraction": 0.4999772479581444,
           "bean_fraction": 0.5000227520418555,
           "deltaB": 691.15343225,
           "pool_tvl_usd": 30380333.72063021,
           "reserves_3crv": 15520892.128733939,
           "reserves_bean": 15190042.261116901,
           "timestamp": "2022-08-16T00:00:00",
           "value": 0.4999772479581444,
           "variable": "3crv_fraction"
          },
          {
           "3crv_fraction": 0.4999772479581444,
           "bean_fraction": 0.5000227520418555,
           "deltaB": 691.15343225,
           "pool_tvl_usd": 30380333.72063021,
           "reserves_3crv": 15520892.128733939,
           "reserves_bean": 15190042.261116901,
           "timestamp": "2022-08-16T00:00:00",
           "value": 30380333.72063021,
           "variable": "pool_tvl_usd"
          },
          {
           "3crv_fraction": 0.4999899629576064,
           "bean_fraction": 0.5000100370423936,
           "deltaB": 305.047782875,
           "pool_tvl_usd": 30395415.36026305,
           "reserves_3crv": 15529650.12791825,
           "reserves_bean": 15197770.860297682,
           "timestamp": "2022-08-17T00:00:00",
           "value": 15529650.12791825,
           "variable": "reserves_3crv"
          },
          {
           "3crv_fraction": 0.4999899629576064,
           "bean_fraction": 0.5000100370423936,
           "deltaB": 305.047782875,
           "pool_tvl_usd": 30395415.36026305,
           "reserves_3crv": 15529650.12791825,
           "reserves_bean": 15197770.860297682,
           "timestamp": "2022-08-17T00:00:00",
           "value": 15197770.860297682,
           "variable": "reserves_bean"
          },
          {
           "3crv_fraction": 0.4999899629576064,
           "bean_fraction": 0.5000100370423936,
           "deltaB": 305.047782875,
           "pool_tvl_usd": 30395415.36026305,
           "reserves_3crv": 15529650.12791825,
           "reserves_bean": 15197770.860297682,
           "timestamp": "2022-08-17T00:00:00",
           "value": 305.047782875,
           "variable": "deltaB"
          },
          {
           "3crv_fraction": 0.4999899629576064,
           "bean_fraction": 0.5000100370423936,
           "deltaB": 305.047782875,
           "pool_tvl_usd": 30395415.36026305,
           "reserves_3crv": 15529650.12791825,
           "reserves_bean": 15197770.860297682,
           "timestamp": "2022-08-17T00:00:00",
           "value": 0.5000100370423936,
           "variable": "bean_fraction"
          },
          {
           "3crv_fraction": 0.4999899629576064,
           "bean_fraction": 0.5000100370423936,
           "deltaB": 305.047782875,
           "pool_tvl_usd": 30395415.36026305,
           "reserves_3crv": 15529650.12791825,
           "reserves_bean": 15197770.860297682,
           "timestamp": "2022-08-17T00:00:00",
           "value": 0.4999899629576064,
           "variable": "3crv_fraction"
          },
          {
           "3crv_fraction": 0.4999899629576064,
           "bean_fraction": 0.5000100370423936,
           "deltaB": 305.047782875,
           "pool_tvl_usd": 30395415.36026305,
           "reserves_3crv": 15529650.12791825,
           "reserves_bean": 15197770.860297682,
           "timestamp": "2022-08-17T00:00:00",
           "value": 30395415.36026305,
           "variable": "pool_tvl_usd"
          },
          {
           "3crv_fraction": 0.49999503929242595,
           "bean_fraction": 0.500004960707574,
           "deltaB": 150.80566654166668,
           "pool_tvl_usd": 30400428.851487044,
           "reserves_3crv": 15532481.02347499,
           "reserves_bean": 15200195.497706622,
           "timestamp": "2022-08-18T00:00:00",
           "value": 15532481.02347499,
           "variable": "reserves_3crv"
          },
          {
           "3crv_fraction": 0.49999503929242595,
           "bean_fraction": 0.500004960707574,
           "deltaB": 150.80566654166668,
           "pool_tvl_usd": 30400428.851487044,
           "reserves_3crv": 15532481.02347499,
           "reserves_bean": 15200195.497706622,
           "timestamp": "2022-08-18T00:00:00",
           "value": 15200195.497706622,
           "variable": "reserves_bean"
          },
          {
           "3crv_fraction": 0.49999503929242595,
           "bean_fraction": 0.500004960707574,
           "deltaB": 150.80566654166668,
           "pool_tvl_usd": 30400428.851487044,
           "reserves_3crv": 15532481.02347499,
           "reserves_bean": 15200195.497706622,
           "timestamp": "2022-08-18T00:00:00",
           "value": 150.80566654166668,
           "variable": "deltaB"
          },
          {
           "3crv_fraction": 0.49999503929242595,
           "bean_fraction": 0.500004960707574,
           "deltaB": 150.80566654166668,
           "pool_tvl_usd": 30400428.851487044,
           "reserves_3crv": 15532481.02347499,
           "reserves_bean": 15200195.497706622,
           "timestamp": "2022-08-18T00:00:00",
           "value": 0.500004960707574,
           "variable": "bean_fraction"
          },
          {
           "3crv_fraction": 0.49999503929242595,
           "bean_fraction": 0.500004960707574,
           "deltaB": 150.80566654166668,
           "pool_tvl_usd": 30400428.851487044,
           "reserves_3crv": 15532481.02347499,
           "reserves_bean": 15200195.497706622,
           "timestamp": "2022-08-18T00:00:00",
           "value": 0.49999503929242595,
           "variable": "3crv_fraction"
          },
          {
           "3crv_fraction": 0.49999503929242595,
           "bean_fraction": 0.500004960707574,
           "deltaB": 150.80566654166668,
           "pool_tvl_usd": 30400428.851487044,
           "reserves_3crv": 15532481.02347499,
           "reserves_bean": 15200195.497706622,
           "timestamp": "2022-08-18T00:00:00",
           "value": 30400428.851487044,
           "variable": "pool_tvl_usd"
          },
          {
           "3crv_fraction": 0.49999296138103744,
           "bean_fraction": 0.5000070386189626,
           "deltaB": 213.94365245833333,
           "pool_tvl_usd": 30396043.863767933,
           "reserves_3crv": 15530199.148676649,
           "reserves_bean": 15198042.736985749,
           "timestamp": "2022-08-19T00:00:00",
           "value": 15530199.148676649,
           "variable": "reserves_3crv"
          },
          {
           "3crv_fraction": 0.49999296138103744,
           "bean_fraction": 0.5000070386189626,
           "deltaB": 213.94365245833333,
           "pool_tvl_usd": 30396043.863767933,
           "reserves_3crv": 15530199.148676649,
           "reserves_bean": 15198042.736985749,
           "timestamp": "2022-08-19T00:00:00",
           "value": 15198042.736985749,
           "variable": "reserves_bean"
          },
          {
           "3crv_fraction": 0.49999296138103744,
           "bean_fraction": 0.5000070386189626,
           "deltaB": 213.94365245833333,
           "pool_tvl_usd": 30396043.863767933,
           "reserves_3crv": 15530199.148676649,
           "reserves_bean": 15198042.736985749,
           "timestamp": "2022-08-19T00:00:00",
           "value": 213.94365245833333,
           "variable": "deltaB"
          },
          {
           "3crv_fraction": 0.49999296138103744,
           "bean_fraction": 0.5000070386189626,
           "deltaB": 213.94365245833333,
           "pool_tvl_usd": 30396043.863767933,
           "reserves_3crv": 15530199.148676649,
           "reserves_bean": 15198042.736985749,
           "timestamp": "2022-08-19T00:00:00",
           "value": 0.5000070386189626,
           "variable": "bean_fraction"
          },
          {
           "3crv_fraction": 0.49999296138103744,
           "bean_fraction": 0.5000070386189626,
           "deltaB": 213.94365245833333,
           "pool_tvl_usd": 30396043.863767933,
           "reserves_3crv": 15530199.148676649,
           "reserves_bean": 15198042.736985749,
           "timestamp": "2022-08-19T00:00:00",
           "value": 0.49999296138103744,
           "variable": "3crv_fraction"
          },
          {
           "3crv_fraction": 0.49999296138103744,
           "bean_fraction": 0.5000070386189626,
           "deltaB": 213.94365245833333,
           "pool_tvl_usd": 30396043.863767933,
           "reserves_3crv": 15530199.148676649,
           "reserves_bean": 15198042.736985749,
           "timestamp": "2022-08-19T00:00:00",
           "value": 30396043.863767933,
           "variable": "pool_tvl_usd"
          },
          {
           "3crv_fraction": 0.49999249525947437,
           "bean_fraction": 0.5000075047405256,
           "deltaB": 228.11819958333334,
           "pool_tvl_usd": 30384430.3027627,
           "reserves_3crv": 15524319.526953712,
           "reserves_bean": 15192255.21373784,
           "timestamp": "2022-08-20T00:00:00",
           "value": 15524319.526953712,
           "variable": "reserves_3crv"
          },
          {
           "3crv_fraction": 0.49999249525947437,
           "bean_fraction": 0.5000075047405256,
           "deltaB": 228.11819958333334,
           "pool_tvl_usd": 30384430.3027627,
           "reserves_3crv": 15524319.526953712,
           "reserves_bean": 15192255.21373784,
           "timestamp": "2022-08-20T00:00:00",
           "value": 15192255.21373784,
           "variable": "reserves_bean"
          },
          {
           "3crv_fraction": 0.49999249525947437,
           "bean_fraction": 0.5000075047405256,
           "deltaB": 228.11819958333334,
           "pool_tvl_usd": 30384430.3027627,
           "reserves_3crv": 15524319.526953712,
           "reserves_bean": 15192255.21373784,
           "timestamp": "2022-08-20T00:00:00",
           "value": 228.11819958333334,
           "variable": "deltaB"
          },
          {
           "3crv_fraction": 0.49999249525947437,
           "bean_fraction": 0.5000075047405256,
           "deltaB": 228.11819958333334,
           "pool_tvl_usd": 30384430.3027627,
           "reserves_3crv": 15524319.526953712,
           "reserves_bean": 15192255.21373784,
           "timestamp": "2022-08-20T00:00:00",
           "value": 0.5000075047405256,
           "variable": "bean_fraction"
          },
          {
           "3crv_fraction": 0.49999249525947437,
           "bean_fraction": 0.5000075047405256,
           "deltaB": 228.11819958333334,
           "pool_tvl_usd": 30384430.3027627,
           "reserves_3crv": 15524319.526953712,
           "reserves_bean": 15192255.21373784,
           "timestamp": "2022-08-20T00:00:00",
           "value": 0.49999249525947437,
           "variable": "3crv_fraction"
          },
          {
           "3crv_fraction": 0.49999249525947437,
           "bean_fraction": 0.5000075047405256,
           "deltaB": 228.11819958333334,
           "pool_tvl_usd": 30384430.3027627,
           "reserves_3crv": 15524319.526953712,
           "reserves_bean": 15192255.21373784,
           "timestamp": "2022-08-20T00:00:00",
           "value": 30384430.3027627,
           "variable": "pool_tvl_usd"
          },
          {
           "3crv_fraction": 0.4999888781201729,
           "bean_fraction": 0.5000111218798271,
           "deltaB": 337.7189874166667,
           "pool_tvl_usd": 30363421.543244947,
           "reserves_3crv": 15513441.882887093,
           "reserves_bean": 15181759.438398434,
           "timestamp": "2022-08-21T00:00:00",
           "value": 15513441.882887093,
           "variable": "reserves_3crv"
          },
          {
           "3crv_fraction": 0.4999888781201729,
           "bean_fraction": 0.5000111218798271,
           "deltaB": 337.7189874166667,
           "pool_tvl_usd": 30363421.543244947,
           "reserves_3crv": 15513441.882887093,
           "reserves_bean": 15181759.438398434,
           "timestamp": "2022-08-21T00:00:00",
           "value": 15181759.438398434,
           "variable": "reserves_bean"
          },
          {
           "3crv_fraction": 0.4999888781201729,
           "bean_fraction": 0.5000111218798271,
           "deltaB": 337.7189874166667,
           "pool_tvl_usd": 30363421.543244947,
           "reserves_3crv": 15513441.882887093,
           "reserves_bean": 15181759.438398434,
           "timestamp": "2022-08-21T00:00:00",
           "value": 337.7189874166667,
           "variable": "deltaB"
          },
          {
           "3crv_fraction": 0.4999888781201729,
           "bean_fraction": 0.5000111218798271,
           "deltaB": 337.7189874166667,
           "pool_tvl_usd": 30363421.543244947,
           "reserves_3crv": 15513441.882887093,
           "reserves_bean": 15181759.438398434,
           "timestamp": "2022-08-21T00:00:00",
           "value": 0.5000111218798271,
           "variable": "bean_fraction"
          },
          {
           "3crv_fraction": 0.4999888781201729,
           "bean_fraction": 0.5000111218798271,
           "deltaB": 337.7189874166667,
           "pool_tvl_usd": 30363421.543244947,
           "reserves_3crv": 15513441.882887093,
           "reserves_bean": 15181759.438398434,
           "timestamp": "2022-08-21T00:00:00",
           "value": 0.4999888781201729,
           "variable": "3crv_fraction"
          },
          {
           "3crv_fraction": 0.4999888781201729,
           "bean_fraction": 0.5000111218798271,
           "deltaB": 337.7189874166667,
           "pool_tvl_usd": 30363421.543244947,
           "reserves_3crv": 15513441.882887093,
           "reserves_bean": 15181759.438398434,
           "timestamp": "2022-08-21T00:00:00",
           "value": 30363421.543244947,
           "variable": "pool_tvl_usd"
          },
          {
           "3crv_fraction": 0.4999915083064364,
           "bean_fraction": 0.5000084916935635,
           "deltaB": 257.99245145833333,
           "pool_tvl_usd": 30382593.805331573,
           "reserves_3crv": 15523457.070399567,
           "reserves_bean": 15191328.934425535,
           "timestamp": "2022-08-22T00:00:00",
           "value": 15523457.070399567,
           "variable": "reserves_3crv"
          },
          {
           "3crv_fraction": 0.4999915083064364,
           "bean_fraction": 0.5000084916935635,
           "deltaB": 257.99245145833333,
           "pool_tvl_usd": 30382593.805331573,
           "reserves_3crv": 15523457.070399567,
           "reserves_bean": 15191328.934425535,
           "timestamp": "2022-08-22T00:00:00",
           "value": 15191328.934425535,
           "variable": "reserves_bean"
          },
          {
           "3crv_fraction": 0.4999915083064364,
           "bean_fraction": 0.5000084916935635,
           "deltaB": 257.99245145833333,
           "pool_tvl_usd": 30382593.805331573,
           "reserves_3crv": 15523457.070399567,
           "reserves_bean": 15191328.934425535,
           "timestamp": "2022-08-22T00:00:00",
           "value": 257.99245145833333,
           "variable": "deltaB"
          },
          {
           "3crv_fraction": 0.4999915083064364,
           "bean_fraction": 0.5000084916935635,
           "deltaB": 257.99245145833333,
           "pool_tvl_usd": 30382593.805331573,
           "reserves_3crv": 15523457.070399567,
           "reserves_bean": 15191328.934425535,
           "timestamp": "2022-08-22T00:00:00",
           "value": 0.5000084916935635,
           "variable": "bean_fraction"
          },
          {
           "3crv_fraction": 0.4999915083064364,
           "bean_fraction": 0.5000084916935635,
           "deltaB": 257.99245145833333,
           "pool_tvl_usd": 30382593.805331573,
           "reserves_3crv": 15523457.070399567,
           "reserves_bean": 15191328.934425535,
           "timestamp": "2022-08-22T00:00:00",
           "value": 0.4999915083064364,
           "variable": "3crv_fraction"
          },
          {
           "3crv_fraction": 0.4999915083064364,
           "bean_fraction": 0.5000084916935635,
           "deltaB": 257.99245145833333,
           "pool_tvl_usd": 30382593.805331573,
           "reserves_3crv": 15523457.070399567,
           "reserves_bean": 15191328.934425535,
           "timestamp": "2022-08-22T00:00:00",
           "value": 30382593.805331573,
           "variable": "pool_tvl_usd"
          },
          {
           "3crv_fraction": 0.49999480086237624,
           "bean_fraction": 0.5000051991376236,
           "deltaB": 157.9048775,
           "pool_tvl_usd": 30376031.891556177,
           "reserves_3crv": 15520295.804222979,
           "reserves_bean": 15187966.32288027,
           "timestamp": "2022-08-23T00:00:00",
           "value": 15520295.804222979,
           "variable": "reserves_3crv"
          },
          {
           "3crv_fraction": 0.49999480086237624,
           "bean_fraction": 0.5000051991376236,
           "deltaB": 157.9048775,
           "pool_tvl_usd": 30376031.891556177,
           "reserves_3crv": 15520295.804222979,
           "reserves_bean": 15187966.32288027,
           "timestamp": "2022-08-23T00:00:00",
           "value": 15187966.32288027,
           "variable": "reserves_bean"
          },
          {
           "3crv_fraction": 0.49999480086237624,
           "bean_fraction": 0.5000051991376236,
           "deltaB": 157.9048775,
           "pool_tvl_usd": 30376031.891556177,
           "reserves_3crv": 15520295.804222979,
           "reserves_bean": 15187966.32288027,
           "timestamp": "2022-08-23T00:00:00",
           "value": 157.9048775,
           "variable": "deltaB"
          },
          {
           "3crv_fraction": 0.49999480086237624,
           "bean_fraction": 0.5000051991376236,
           "deltaB": 157.9048775,
           "pool_tvl_usd": 30376031.891556177,
           "reserves_3crv": 15520295.804222979,
           "reserves_bean": 15187966.32288027,
           "timestamp": "2022-08-23T00:00:00",
           "value": 0.5000051991376236,
           "variable": "bean_fraction"
          },
          {
           "3crv_fraction": 0.49999480086237624,
           "bean_fraction": 0.5000051991376236,
           "deltaB": 157.9048775,
           "pool_tvl_usd": 30376031.891556177,
           "reserves_3crv": 15520295.804222979,
           "reserves_bean": 15187966.32288027,
           "timestamp": "2022-08-23T00:00:00",
           "value": 0.49999480086237624,
           "variable": "3crv_fraction"
          },
          {
           "3crv_fraction": 0.49999480086237624,
           "bean_fraction": 0.5000051991376236,
           "deltaB": 157.9048775,
           "pool_tvl_usd": 30376031.891556177,
           "reserves_3crv": 15520295.804222979,
           "reserves_bean": 15187966.32288027,
           "timestamp": "2022-08-23T00:00:00",
           "value": 30376031.891556177,
           "variable": "pool_tvl_usd"
          },
          {
           "3crv_fraction": 0.4999873186058879,
           "bean_fraction": 0.500012681394112,
           "deltaB": 384.90472595833336,
           "pool_tvl_usd": 30352641.596670877,
           "reserves_3crv": 15508030.461947352,
           "reserves_bean": 15176342.112234786,
           "timestamp": "2022-08-24T00:00:00",
           "value": 15508030.461947352,
           "variable": "reserves_3crv"
          },
          {
           "3crv_fraction": 0.4999873186058879,
           "bean_fraction": 0.500012681394112,
           "deltaB": 384.90472595833336,
           "pool_tvl_usd": 30352641.596670877,
           "reserves_3crv": 15508030.461947352,
           "reserves_bean": 15176342.112234786,
           "timestamp": "2022-08-24T00:00:00",
           "value": 15176342.112234786,
           "variable": "reserves_bean"
          },
          {
           "3crv_fraction": 0.4999873186058879,
           "bean_fraction": 0.500012681394112,
           "deltaB": 384.90472595833336,
           "pool_tvl_usd": 30352641.596670877,
           "reserves_3crv": 15508030.461947352,
           "reserves_bean": 15176342.112234786,
           "timestamp": "2022-08-24T00:00:00",
           "value": 384.90472595833336,
           "variable": "deltaB"
          },
          {
           "3crv_fraction": 0.4999873186058879,
           "bean_fraction": 0.500012681394112,
           "deltaB": 384.90472595833336,
           "pool_tvl_usd": 30352641.596670877,
           "reserves_3crv": 15508030.461947352,
           "reserves_bean": 15176342.112234786,
           "timestamp": "2022-08-24T00:00:00",
           "value": 0.500012681394112,
           "variable": "bean_fraction"
          },
          {
           "3crv_fraction": 0.4999873186058879,
           "bean_fraction": 0.500012681394112,
           "deltaB": 384.90472595833336,
           "pool_tvl_usd": 30352641.596670877,
           "reserves_3crv": 15508030.461947352,
           "reserves_bean": 15176342.112234786,
           "timestamp": "2022-08-24T00:00:00",
           "value": 0.4999873186058879,
           "variable": "3crv_fraction"
          },
          {
           "3crv_fraction": 0.4999873186058879,
           "bean_fraction": 0.500012681394112,
           "deltaB": 384.90472595833336,
           "pool_tvl_usd": 30352641.596670877,
           "reserves_3crv": 15508030.461947352,
           "reserves_bean": 15176342.112234786,
           "timestamp": "2022-08-24T00:00:00",
           "value": 30352641.596670877,
           "variable": "pool_tvl_usd"
          },
          {
           "3crv_fraction": 0.4999873530890439,
           "bean_fraction": 0.5000126469109561,
           "deltaB": 383.89672787499995,
           "pool_tvl_usd": 30352942.39287461,
           "reserves_3crv": 15508241.556330306,
           "reserves_bean": 15176482.000846716,
           "timestamp": "2022-08-25T00:00:00",
           "value": 15508241.556330306,
           "variable": "reserves_3crv"
          },
          {
           "3crv_fraction": 0.4999873530890439,
           "bean_fraction": 0.5000126469109561,
           "deltaB": 383.89672787499995,
           "pool_tvl_usd": 30352942.39287461,
           "reserves_3crv": 15508241.556330306,
           "reserves_bean": 15176482.000846716,
           "timestamp": "2022-08-25T00:00:00",
           "value": 15176482.000846716,
           "variable": "reserves_bean"
          },
          {
           "3crv_fraction": 0.4999873530890439,
           "bean_fraction": 0.5000126469109561,
           "deltaB": 383.89672787499995,
           "pool_tvl_usd": 30352942.39287461,
           "reserves_3crv": 15508241.556330306,
           "reserves_bean": 15176482.000846716,
           "timestamp": "2022-08-25T00:00:00",
           "value": 383.89672787499995,
           "variable": "deltaB"
          },
          {
           "3crv_fraction": 0.4999873530890439,
           "bean_fraction": 0.5000126469109561,
           "deltaB": 383.89672787499995,
           "pool_tvl_usd": 30352942.39287461,
           "reserves_3crv": 15508241.556330306,
           "reserves_bean": 15176482.000846716,
           "timestamp": "2022-08-25T00:00:00",
           "value": 0.5000126469109561,
           "variable": "bean_fraction"
          },
          {
           "3crv_fraction": 0.4999873530890439,
           "bean_fraction": 0.5000126469109561,
           "deltaB": 383.89672787499995,
           "pool_tvl_usd": 30352942.39287461,
           "reserves_3crv": 15508241.556330306,
           "reserves_bean": 15176482.000846716,
           "timestamp": "2022-08-25T00:00:00",
           "value": 0.4999873530890439,
           "variable": "3crv_fraction"
          },
          {
           "3crv_fraction": 0.4999873530890439,
           "bean_fraction": 0.5000126469109561,
           "deltaB": 383.89672787499995,
           "pool_tvl_usd": 30352942.39287461,
           "reserves_3crv": 15508241.556330306,
           "reserves_bean": 15176482.000846716,
           "timestamp": "2022-08-25T00:00:00",
           "value": 30352942.39287461,
           "variable": "pool_tvl_usd"
          },
          {
           "3crv_fraction": 0.49998865562332834,
           "bean_fraction": 0.5000113443766716,
           "deltaB": 344.0947743333333,
           "pool_tvl_usd": 30332435.32319814,
           "reserves_3crv": 15497870.818798697,
           "reserves_bean": 15166207.253810428,
           "timestamp": "2022-08-26T00:00:00",
           "value": 15497870.818798697,
           "variable": "reserves_3crv"
          },
          {
           "3crv_fraction": 0.49998865562332834,
           "bean_fraction": 0.5000113443766716,
           "deltaB": 344.0947743333333,
           "pool_tvl_usd": 30332435.32319814,
           "reserves_3crv": 15497870.818798697,
           "reserves_bean": 15166207.253810428,
           "timestamp": "2022-08-26T00:00:00",
           "value": 15166207.253810428,
           "variable": "reserves_bean"
          },
          {
           "3crv_fraction": 0.49998865562332834,
           "bean_fraction": 0.5000113443766716,
           "deltaB": 344.0947743333333,
           "pool_tvl_usd": 30332435.32319814,
           "reserves_3crv": 15497870.818798697,
           "reserves_bean": 15166207.253810428,
           "timestamp": "2022-08-26T00:00:00",
           "value": 344.0947743333333,
           "variable": "deltaB"
          },
          {
           "3crv_fraction": 0.49998865562332834,
           "bean_fraction": 0.5000113443766716,
           "deltaB": 344.0947743333333,
           "pool_tvl_usd": 30332435.32319814,
           "reserves_3crv": 15497870.818798697,
           "reserves_bean": 15166207.253810428,
           "timestamp": "2022-08-26T00:00:00",
           "value": 0.5000113443766716,
           "variable": "bean_fraction"
          },
          {
           "3crv_fraction": 0.49998865562332834,
           "bean_fraction": 0.5000113443766716,
           "deltaB": 344.0947743333333,
           "pool_tvl_usd": 30332435.32319814,
           "reserves_3crv": 15497870.818798697,
           "reserves_bean": 15166207.253810428,
           "timestamp": "2022-08-26T00:00:00",
           "value": 0.49998865562332834,
           "variable": "3crv_fraction"
          },
          {
           "3crv_fraction": 0.49998865562332834,
           "bean_fraction": 0.5000113443766716,
           "deltaB": 344.0947743333333,
           "pool_tvl_usd": 30332435.32319814,
           "reserves_3crv": 15497870.818798697,
           "reserves_bean": 15166207.253810428,
           "timestamp": "2022-08-26T00:00:00",
           "value": 30332435.32319814,
           "variable": "pool_tvl_usd"
          },
          {
           "3crv_fraction": 0.49999300948247627,
           "bean_fraction": 0.5000069905175237,
           "deltaB": 212.04667099999998,
           "pool_tvl_usd": 30334215.160927784,
           "reserves_3crv": 15499092.489506463,
           "reserves_bean": 15167106.02920081,
           "timestamp": "2022-08-27T00:00:00",
           "value": 15499092.489506463,
           "variable": "reserves_3crv"
          },
          {
           "3crv_fraction": 0.49999300948247627,
           "bean_fraction": 0.5000069905175237,
           "deltaB": 212.04667099999998,
           "pool_tvl_usd": 30334215.160927784,
           "reserves_3crv": 15499092.489506463,
           "reserves_bean": 15167106.02920081,
           "timestamp": "2022-08-27T00:00:00",
           "value": 15167106.02920081,
           "variable": "reserves_bean"
          },
          {
           "3crv_fraction": 0.49999300948247627,
           "bean_fraction": 0.5000069905175237,
           "deltaB": 212.04667099999998,
           "pool_tvl_usd": 30334215.160927784,
           "reserves_3crv": 15499092.489506463,
           "reserves_bean": 15167106.02920081,
           "timestamp": "2022-08-27T00:00:00",
           "value": 212.04667099999998,
           "variable": "deltaB"
          },
          {
           "3crv_fraction": 0.49999300948247627,
           "bean_fraction": 0.5000069905175237,
           "deltaB": 212.04667099999998,
           "pool_tvl_usd": 30334215.160927784,
           "reserves_3crv": 15499092.489506463,
           "reserves_bean": 15167106.02920081,
           "timestamp": "2022-08-27T00:00:00",
           "value": 0.5000069905175237,
           "variable": "bean_fraction"
          },
          {
           "3crv_fraction": 0.49999300948247627,
           "bean_fraction": 0.5000069905175237,
           "deltaB": 212.04667099999998,
           "pool_tvl_usd": 30334215.160927784,
           "reserves_3crv": 15499092.489506463,
           "reserves_bean": 15167106.02920081,
           "timestamp": "2022-08-27T00:00:00",
           "value": 0.49999300948247627,
           "variable": "3crv_fraction"
          },
          {
           "3crv_fraction": 0.49999300948247627,
           "bean_fraction": 0.5000069905175237,
           "deltaB": 212.04667099999998,
           "pool_tvl_usd": 30334215.160927784,
           "reserves_3crv": 15499092.489506463,
           "reserves_bean": 15167106.02920081,
           "timestamp": "2022-08-27T00:00:00",
           "value": 30334215.160927784,
           "variable": "pool_tvl_usd"
          },
          {
           "3crv_fraction": 0.500007252964129,
           "bean_fraction": 0.4999927470358711,
           "deltaB": -219.58334000000002,
           "pool_tvl_usd": 30295636.18387805,
           "reserves_3crv": 15480227.419944437,
           "reserves_bean": 15147765.761869596,
           "timestamp": "2022-08-28T00:00:00",
           "value": 15480227.419944437,
           "variable": "reserves_3crv"
          },
          {
           "3crv_fraction": 0.500007252964129,
           "bean_fraction": 0.4999927470358711,
           "deltaB": -219.58334000000002,
           "pool_tvl_usd": 30295636.18387805,
           "reserves_3crv": 15480227.419944437,
           "reserves_bean": 15147765.761869596,
           "timestamp": "2022-08-28T00:00:00",
           "value": 15147765.761869596,
           "variable": "reserves_bean"
          },
          {
           "3crv_fraction": 0.500007252964129,
           "bean_fraction": 0.4999927470358711,
           "deltaB": -219.58334000000002,
           "pool_tvl_usd": 30295636.18387805,
           "reserves_3crv": 15480227.419944437,
           "reserves_bean": 15147765.761869596,
           "timestamp": "2022-08-28T00:00:00",
           "value": -219.58334000000002,
           "variable": "deltaB"
          },
          {
           "3crv_fraction": 0.500007252964129,
           "bean_fraction": 0.4999927470358711,
           "deltaB": -219.58334000000002,
           "pool_tvl_usd": 30295636.18387805,
           "reserves_3crv": 15480227.419944437,
           "reserves_bean": 15147765.761869596,
           "timestamp": "2022-08-28T00:00:00",
           "value": 0.4999927470358711,
           "variable": "bean_fraction"
          },
          {
           "3crv_fraction": 0.500007252964129,
           "bean_fraction": 0.4999927470358711,
           "deltaB": -219.58334000000002,
           "pool_tvl_usd": 30295636.18387805,
           "reserves_3crv": 15480227.419944437,
           "reserves_bean": 15147765.761869596,
           "timestamp": "2022-08-28T00:00:00",
           "value": 0.500007252964129,
           "variable": "3crv_fraction"
          },
          {
           "3crv_fraction": 0.500007252964129,
           "bean_fraction": 0.4999927470358711,
           "deltaB": -219.58334000000002,
           "pool_tvl_usd": 30295636.18387805,
           "reserves_3crv": 15480227.419944437,
           "reserves_bean": 15147765.761869596,
           "timestamp": "2022-08-28T00:00:00",
           "value": 30295636.18387805,
           "variable": "pool_tvl_usd"
          },
          {
           "3crv_fraction": 0.49999744092360277,
           "bean_fraction": 0.5000025590763972,
           "deltaB": 77.36853641666666,
           "pool_tvl_usd": 30233260.87902138,
           "reserves_3crv": 15447886.457340999,
           "reserves_bean": 15116613.960191758,
           "timestamp": "2022-08-29T00:00:00",
           "value": 15447886.457340999,
           "variable": "reserves_3crv"
          },
          {
           "3crv_fraction": 0.49999744092360277,
           "bean_fraction": 0.5000025590763972,
           "deltaB": 77.36853641666666,
           "pool_tvl_usd": 30233260.87902138,
           "reserves_3crv": 15447886.457340999,
           "reserves_bean": 15116613.960191758,
           "timestamp": "2022-08-29T00:00:00",
           "value": 15116613.960191758,
           "variable": "reserves_bean"
          },
          {
           "3crv_fraction": 0.49999744092360277,
           "bean_fraction": 0.5000025590763972,
           "deltaB": 77.36853641666666,
           "pool_tvl_usd": 30233260.87902138,
           "reserves_3crv": 15447886.457340999,
           "reserves_bean": 15116613.960191758,
           "timestamp": "2022-08-29T00:00:00",
           "value": 77.36853641666666,
           "variable": "deltaB"
          },
          {
           "3crv_fraction": 0.49999744092360277,
           "bean_fraction": 0.5000025590763972,
           "deltaB": 77.36853641666666,
           "pool_tvl_usd": 30233260.87902138,
           "reserves_3crv": 15447886.457340999,
           "reserves_bean": 15116613.960191758,
           "timestamp": "2022-08-29T00:00:00",
           "value": 0.5000025590763972,
           "variable": "bean_fraction"
          },
          {
           "3crv_fraction": 0.49999744092360277,
           "bean_fraction": 0.5000025590763972,
           "deltaB": 77.36853641666666,
           "pool_tvl_usd": 30233260.87902138,
           "reserves_3crv": 15447886.457340999,
           "reserves_bean": 15116613.960191758,
           "timestamp": "2022-08-29T00:00:00",
           "value": 0.49999744092360277,
           "variable": "3crv_fraction"
          },
          {
           "3crv_fraction": 0.49999744092360277,
           "bean_fraction": 0.5000025590763972,
           "deltaB": 77.36853641666666,
           "pool_tvl_usd": 30233260.87902138,
           "reserves_3crv": 15447886.457340999,
           "reserves_bean": 15116613.960191758,
           "timestamp": "2022-08-29T00:00:00",
           "value": 30233260.87902138,
           "variable": "pool_tvl_usd"
          },
          {
           "3crv_fraction": 0.500038396073819,
           "bean_fraction": 0.4999616039261811,
           "deltaB": -1157.2715300416667,
           "pool_tvl_usd": 30202613.254454136,
           "reserves_3crv": 15434319.566674447,
           "reserves_bean": 15100851.840260236,
           "timestamp": "2022-08-30T00:00:00",
           "value": 15434319.566674447,
           "variable": "reserves_3crv"
          },
          {
           "3crv_fraction": 0.500038396073819,
           "bean_fraction": 0.4999616039261811,
           "deltaB": -1157.2715300416667,
           "pool_tvl_usd": 30202613.254454136,
           "reserves_3crv": 15434319.566674447,
           "reserves_bean": 15100851.840260236,
           "timestamp": "2022-08-30T00:00:00",
           "value": 15100851.840260236,
           "variable": "reserves_bean"
          },
          {
           "3crv_fraction": 0.500038396073819,
           "bean_fraction": 0.4999616039261811,
           "deltaB": -1157.2715300416667,
           "pool_tvl_usd": 30202613.254454136,
           "reserves_3crv": 15434319.566674447,
           "reserves_bean": 15100851.840260236,
           "timestamp": "2022-08-30T00:00:00",
           "value": -1157.2715300416667,
           "variable": "deltaB"
          },
          {
           "3crv_fraction": 0.500038396073819,
           "bean_fraction": 0.4999616039261811,
           "deltaB": -1157.2715300416667,
           "pool_tvl_usd": 30202613.254454136,
           "reserves_3crv": 15434319.566674447,
           "reserves_bean": 15100851.840260236,
           "timestamp": "2022-08-30T00:00:00",
           "value": 0.4999616039261811,
           "variable": "bean_fraction"
          },
          {
           "3crv_fraction": 0.500038396073819,
           "bean_fraction": 0.4999616039261811,
           "deltaB": -1157.2715300416667,
           "pool_tvl_usd": 30202613.254454136,
           "reserves_3crv": 15434319.566674447,
           "reserves_bean": 15100851.840260236,
           "timestamp": "2022-08-30T00:00:00",
           "value": 0.500038396073819,
           "variable": "3crv_fraction"
          },
          {
           "3crv_fraction": 0.500038396073819,
           "bean_fraction": 0.4999616039261811,
           "deltaB": -1157.2715300416667,
           "pool_tvl_usd": 30202613.254454136,
           "reserves_3crv": 15434319.566674447,
           "reserves_bean": 15100851.840260236,
           "timestamp": "2022-08-30T00:00:00",
           "value": 30202613.254454136,
           "variable": "pool_tvl_usd"
          },
          {
           "3crv_fraction": 0.49999765405971525,
           "bean_fraction": 0.5000023459402848,
           "deltaB": 70.39061658333334,
           "pool_tvl_usd": 30044744.811253965,
           "reserves_3crv": 15351698.890161036,
           "reserves_bean": 15022355.852702552,
           "timestamp": "2022-08-31T00:00:00",
           "value": 15351698.890161036,
           "variable": "reserves_3crv"
          },
          {
           "3crv_fraction": 0.49999765405971525,
           "bean_fraction": 0.5000023459402848,
           "deltaB": 70.39061658333334,
           "pool_tvl_usd": 30044744.811253965,
           "reserves_3crv": 15351698.890161036,
           "reserves_bean": 15022355.852702552,
           "timestamp": "2022-08-31T00:00:00",
           "value": 15022355.852702552,
           "variable": "reserves_bean"
          },
          {
           "3crv_fraction": 0.49999765405971525,
           "bean_fraction": 0.5000023459402848,
           "deltaB": 70.39061658333334,
           "pool_tvl_usd": 30044744.811253965,
           "reserves_3crv": 15351698.890161036,
           "reserves_bean": 15022355.852702552,
           "timestamp": "2022-08-31T00:00:00",
           "value": 70.39061658333334,
           "variable": "deltaB"
          },
          {
           "3crv_fraction": 0.49999765405971525,
           "bean_fraction": 0.5000023459402848,
           "deltaB": 70.39061658333334,
           "pool_tvl_usd": 30044744.811253965,
           "reserves_3crv": 15351698.890161036,
           "reserves_bean": 15022355.852702552,
           "timestamp": "2022-08-31T00:00:00",
           "value": 0.5000023459402848,
           "variable": "bean_fraction"
          },
          {
           "3crv_fraction": 0.49999765405971525,
           "bean_fraction": 0.5000023459402848,
           "deltaB": 70.39061658333334,
           "pool_tvl_usd": 30044744.811253965,
           "reserves_3crv": 15351698.890161036,
           "reserves_bean": 15022355.852702552,
           "timestamp": "2022-08-31T00:00:00",
           "value": 0.49999765405971525,
           "variable": "3crv_fraction"
          },
          {
           "3crv_fraction": 0.49999765405971525,
           "bean_fraction": 0.5000023459402848,
           "deltaB": 70.39061658333334,
           "pool_tvl_usd": 30044744.811253965,
           "reserves_3crv": 15351698.890161036,
           "reserves_bean": 15022355.852702552,
           "timestamp": "2022-08-31T00:00:00",
           "value": 30044744.811253965,
           "variable": "pool_tvl_usd"
          },
          {
           "3crv_fraction": 0.5000067230849919,
           "bean_fraction": 0.4999932769150081,
           "deltaB": -201.86300687500002,
           "pool_tvl_usd": 30008229.14151913,
           "reserves_3crv": 15333239.032312522,
           "reserves_bean": 15003730.200211352,
           "timestamp": "2022-09-01T00:00:00",
           "value": 15333239.032312522,
           "variable": "reserves_3crv"
          },
          {
           "3crv_fraction": 0.5000067230849919,
           "bean_fraction": 0.4999932769150081,
           "deltaB": -201.86300687500002,
           "pool_tvl_usd": 30008229.14151913,
           "reserves_3crv": 15333239.032312522,
           "reserves_bean": 15003730.200211352,
           "timestamp": "2022-09-01T00:00:00",
           "value": 15003730.200211352,
           "variable": "reserves_bean"
          },
          {
           "3crv_fraction": 0.5000067230849919,
           "bean_fraction": 0.4999932769150081,
           "deltaB": -201.86300687500002,
           "pool_tvl_usd": 30008229.14151913,
           "reserves_3crv": 15333239.032312522,
           "reserves_bean": 15003730.200211352,
           "timestamp": "2022-09-01T00:00:00",
           "value": -201.86300687500002,
           "variable": "deltaB"
          },
          {
           "3crv_fraction": 0.5000067230849919,
           "bean_fraction": 0.4999932769150081,
           "deltaB": -201.86300687500002,
           "pool_tvl_usd": 30008229.14151913,
           "reserves_3crv": 15333239.032312522,
           "reserves_bean": 15003730.200211352,
           "timestamp": "2022-09-01T00:00:00",
           "value": 0.4999932769150081,
           "variable": "bean_fraction"
          },
          {
           "3crv_fraction": 0.5000067230849919,
           "bean_fraction": 0.4999932769150081,
           "deltaB": -201.86300687500002,
           "pool_tvl_usd": 30008229.14151913,
           "reserves_3crv": 15333239.032312522,
           "reserves_bean": 15003730.200211352,
           "timestamp": "2022-09-01T00:00:00",
           "value": 0.5000067230849919,
           "variable": "3crv_fraction"
          },
          {
           "3crv_fraction": 0.5000067230849919,
           "bean_fraction": 0.4999932769150081,
           "deltaB": -201.86300687500002,
           "pool_tvl_usd": 30008229.14151913,
           "reserves_3crv": 15333239.032312522,
           "reserves_bean": 15003730.200211352,
           "timestamp": "2022-09-01T00:00:00",
           "value": 30008229.14151913,
           "variable": "pool_tvl_usd"
          },
          {
           "3crv_fraction": 0.500012711738123,
           "bean_fraction": 0.49998728826187705,
           "deltaB": -380.6585127916666,
           "pool_tvl_usd": 29931099.79407705,
           "reserves_3crv": 15294632.881105356,
           "reserves_bean": 14965575.49690335,
           "timestamp": "2022-09-02T00:00:00",
           "value": 15294632.881105356,
           "variable": "reserves_3crv"
          },
          {
           "3crv_fraction": 0.500012711738123,
           "bean_fraction": 0.49998728826187705,
           "deltaB": -380.6585127916666,
           "pool_tvl_usd": 29931099.79407705,
           "reserves_3crv": 15294632.881105356,
           "reserves_bean": 14965575.49690335,
           "timestamp": "2022-09-02T00:00:00",
           "value": 14965575.49690335,
           "variable": "reserves_bean"
          },
          {
           "3crv_fraction": 0.500012711738123,
           "bean_fraction": 0.49998728826187705,
           "deltaB": -380.6585127916666,
           "pool_tvl_usd": 29931099.79407705,
           "reserves_3crv": 15294632.881105356,
           "reserves_bean": 14965575.49690335,
           "timestamp": "2022-09-02T00:00:00",
           "value": -380.6585127916666,
           "variable": "deltaB"
          },
          {
           "3crv_fraction": 0.500012711738123,
           "bean_fraction": 0.49998728826187705,
           "deltaB": -380.6585127916666,
           "pool_tvl_usd": 29931099.79407705,
           "reserves_3crv": 15294632.881105356,
           "reserves_bean": 14965575.49690335,
           "timestamp": "2022-09-02T00:00:00",
           "value": 0.49998728826187705,
           "variable": "bean_fraction"
          },
          {
           "3crv_fraction": 0.500012711738123,
           "bean_fraction": 0.49998728826187705,
           "deltaB": -380.6585127916666,
           "pool_tvl_usd": 29931099.79407705,
           "reserves_3crv": 15294632.881105356,
           "reserves_bean": 14965575.49690335,
           "timestamp": "2022-09-02T00:00:00",
           "value": 0.500012711738123,
           "variable": "3crv_fraction"
          },
          {
           "3crv_fraction": 0.500012711738123,
           "bean_fraction": 0.49998728826187705,
           "deltaB": -380.6585127916666,
           "pool_tvl_usd": 29931099.79407705,
           "reserves_3crv": 15294632.881105356,
           "reserves_bean": 14965575.49690335,
           "timestamp": "2022-09-02T00:00:00",
           "value": 29931099.79407705,
           "variable": "pool_tvl_usd"
          },
          {
           "3crv_fraction": 0.5000244269278642,
           "bean_fraction": 0.49997557307213575,
           "deltaB": -729.1416805,
           "pool_tvl_usd": 29808997.004961327,
           "reserves_3crv": 15232854.313204518,
           "reserves_bean": 14904400.732980527,
           "timestamp": "2022-09-03T00:00:00",
           "value": 15232854.313204518,
           "variable": "reserves_3crv"
          },
          {
           "3crv_fraction": 0.5000244269278642,
           "bean_fraction": 0.49997557307213575,
           "deltaB": -729.1416805,
           "pool_tvl_usd": 29808997.004961327,
           "reserves_3crv": 15232854.313204518,
           "reserves_bean": 14904400.732980527,
           "timestamp": "2022-09-03T00:00:00",
           "value": 14904400.732980527,
           "variable": "reserves_bean"
          },
          {
           "3crv_fraction": 0.5000244269278642,
           "bean_fraction": 0.49997557307213575,
           "deltaB": -729.1416805,
           "pool_tvl_usd": 29808997.004961327,
           "reserves_3crv": 15232854.313204518,
           "reserves_bean": 14904400.732980527,
           "timestamp": "2022-09-03T00:00:00",
           "value": -729.1416805,
           "variable": "deltaB"
          },
          {
           "3crv_fraction": 0.5000244269278642,
           "bean_fraction": 0.49997557307213575,
           "deltaB": -729.1416805,
           "pool_tvl_usd": 29808997.004961327,
           "reserves_3crv": 15232854.313204518,
           "reserves_bean": 14904400.732980527,
           "timestamp": "2022-09-03T00:00:00",
           "value": 0.49997557307213575,
           "variable": "bean_fraction"
          },
          {
           "3crv_fraction": 0.5000244269278642,
           "bean_fraction": 0.49997557307213575,
           "deltaB": -729.1416805,
           "pool_tvl_usd": 29808997.004961327,
           "reserves_3crv": 15232854.313204518,
           "reserves_bean": 14904400.732980527,
           "timestamp": "2022-09-03T00:00:00",
           "value": 0.5000244269278642,
           "variable": "3crv_fraction"
          },
          {
           "3crv_fraction": 0.5000244269278642,
           "bean_fraction": 0.49997557307213575,
           "deltaB": -729.1416805,
           "pool_tvl_usd": 29808997.004961327,
           "reserves_3crv": 15232854.313204518,
           "reserves_bean": 14904400.732980527,
           "timestamp": "2022-09-03T00:00:00",
           "value": 29808997.004961327,
           "variable": "pool_tvl_usd"
          },
          {
           "3crv_fraction": 0.499995645384358,
           "bean_fraction": 0.5000043546156422,
           "deltaB": 129.361471375,
           "pool_tvl_usd": 29707722.664872494,
           "reserves_3crv": 15179590.006547032,
           "reserves_bean": 14853869.394534124,
           "timestamp": "2022-09-04T00:00:00",
           "value": 15179590.006547032,
           "variable": "reserves_3crv"
          },
          {
           "3crv_fraction": 0.499995645384358,
           "bean_fraction": 0.5000043546156422,
           "deltaB": 129.361471375,
           "pool_tvl_usd": 29707722.664872494,
           "reserves_3crv": 15179590.006547032,
           "reserves_bean": 14853869.394534124,
           "timestamp": "2022-09-04T00:00:00",
           "value": 14853869.394534124,
           "variable": "reserves_bean"
          },
          {
           "3crv_fraction": 0.499995645384358,
           "bean_fraction": 0.5000043546156422,
           "deltaB": 129.361471375,
           "pool_tvl_usd": 29707722.664872494,
           "reserves_3crv": 15179590.006547032,
           "reserves_bean": 14853869.394534124,
           "timestamp": "2022-09-04T00:00:00",
           "value": 129.361471375,
           "variable": "deltaB"
          },
          {
           "3crv_fraction": 0.499995645384358,
           "bean_fraction": 0.5000043546156422,
           "deltaB": 129.361471375,
           "pool_tvl_usd": 29707722.664872494,
           "reserves_3crv": 15179590.006547032,
           "reserves_bean": 14853869.394534124,
           "timestamp": "2022-09-04T00:00:00",
           "value": 0.5000043546156422,
           "variable": "bean_fraction"
          },
          {
           "3crv_fraction": 0.499995645384358,
           "bean_fraction": 0.5000043546156422,
           "deltaB": 129.361471375,
           "pool_tvl_usd": 29707722.664872494,
           "reserves_3crv": 15179590.006547032,
           "reserves_bean": 14853869.394534124,
           "timestamp": "2022-09-04T00:00:00",
           "value": 0.499995645384358,
           "variable": "3crv_fraction"
          },
          {
           "3crv_fraction": 0.499995645384358,
           "bean_fraction": 0.5000043546156422,
           "deltaB": 129.361471375,
           "pool_tvl_usd": 29707722.664872494,
           "reserves_3crv": 15179590.006547032,
           "reserves_bean": 14853869.394534124,
           "timestamp": "2022-09-04T00:00:00",
           "value": 29707722.664872494,
           "variable": "pool_tvl_usd"
          },
          {
           "3crv_fraction": 0.49999557241760795,
           "bean_fraction": 0.500004427582392,
           "deltaB": 131.45010408333334,
           "pool_tvl_usd": 29689419.00176598,
           "reserves_3crv": 15170231.815164395,
           "reserves_bean": 14844662.818421118,
           "timestamp": "2022-09-05T00:00:00",
           "value": 15170231.815164395,
           "variable": "reserves_3crv"
          },
          {
           "3crv_fraction": 0.49999557241760795,
           "bean_fraction": 0.500004427582392,
           "deltaB": 131.45010408333334,
           "pool_tvl_usd": 29689419.00176598,
           "reserves_3crv": 15170231.815164395,
           "reserves_bean": 14844662.818421118,
           "timestamp": "2022-09-05T00:00:00",
           "value": 14844662.818421118,
           "variable": "reserves_bean"
          },
          {
           "3crv_fraction": 0.49999557241760795,
           "bean_fraction": 0.500004427582392,
           "deltaB": 131.45010408333334,
           "pool_tvl_usd": 29689419.00176598,
           "reserves_3crv": 15170231.815164395,
           "reserves_bean": 14844662.818421118,
           "timestamp": "2022-09-05T00:00:00",
           "value": 131.45010408333334,
           "variable": "deltaB"
          },
          {
           "3crv_fraction": 0.49999557241760795,
           "bean_fraction": 0.500004427582392,
           "deltaB": 131.45010408333334,
           "pool_tvl_usd": 29689419.00176598,
           "reserves_3crv": 15170231.815164395,
           "reserves_bean": 14844662.818421118,
           "timestamp": "2022-09-05T00:00:00",
           "value": 0.500004427582392,
           "variable": "bean_fraction"
          },
          {
           "3crv_fraction": 0.49999557241760795,
           "bean_fraction": 0.500004427582392,
           "deltaB": 131.45010408333334,
           "pool_tvl_usd": 29689419.00176598,
           "reserves_3crv": 15170231.815164395,
           "reserves_bean": 14844662.818421118,
           "timestamp": "2022-09-05T00:00:00",
           "value": 0.49999557241760795,
           "variable": "3crv_fraction"
          },
          {
           "3crv_fraction": 0.49999557241760795,
           "bean_fraction": 0.500004427582392,
           "deltaB": 131.45010408333334,
           "pool_tvl_usd": 29689419.00176598,
           "reserves_3crv": 15170231.815164395,
           "reserves_bean": 14844662.818421118,
           "timestamp": "2022-09-05T00:00:00",
           "value": 29689419.00176598,
           "variable": "pool_tvl_usd"
          },
          {
           "3crv_fraction": 0.49999800040194287,
           "bean_fraction": 0.500001999598057,
           "deltaB": 59.284102749999995,
           "pool_tvl_usd": 29647308.182546925,
           "reserves_3crv": 15149299.96400562,
           "reserves_bean": 14823922.149652334,
           "timestamp": "2022-09-06T00:00:00",
           "value": 15149299.96400562,
           "variable": "reserves_3crv"
          },
          {
           "3crv_fraction": 0.49999800040194287,
           "bean_fraction": 0.500001999598057,
           "deltaB": 59.284102749999995,
           "pool_tvl_usd": 29647308.182546925,
           "reserves_3crv": 15149299.96400562,
           "reserves_bean": 14823922.149652334,
           "timestamp": "2022-09-06T00:00:00",
           "value": 14823922.149652334,
           "variable": "reserves_bean"
          },
          {
           "3crv_fraction": 0.49999800040194287,
           "bean_fraction": 0.500001999598057,
           "deltaB": 59.284102749999995,
           "pool_tvl_usd": 29647308.182546925,
           "reserves_3crv": 15149299.96400562,
           "reserves_bean": 14823922.149652334,
           "timestamp": "2022-09-06T00:00:00",
           "value": 59.284102749999995,
           "variable": "deltaB"
          },
          {
           "3crv_fraction": 0.49999800040194287,
           "bean_fraction": 0.500001999598057,
           "deltaB": 59.284102749999995,
           "pool_tvl_usd": 29647308.182546925,
           "reserves_3crv": 15149299.96400562,
           "reserves_bean": 14823922.149652334,
           "timestamp": "2022-09-06T00:00:00",
           "value": 0.500001999598057,
           "variable": "bean_fraction"
          },
          {
           "3crv_fraction": 0.49999800040194287,
           "bean_fraction": 0.500001999598057,
           "deltaB": 59.284102749999995,
           "pool_tvl_usd": 29647308.182546925,
           "reserves_3crv": 15149299.96400562,
           "reserves_bean": 14823922.149652334,
           "timestamp": "2022-09-06T00:00:00",
           "value": 0.49999800040194287,
           "variable": "3crv_fraction"
          },
          {
           "3crv_fraction": 0.49999800040194287,
           "bean_fraction": 0.500001999598057,
           "deltaB": 59.284102749999995,
           "pool_tvl_usd": 29647308.182546925,
           "reserves_3crv": 15149299.96400562,
           "reserves_bean": 14823922.149652334,
           "timestamp": "2022-09-06T00:00:00",
           "value": 29647308.182546925,
           "variable": "pool_tvl_usd"
          },
          {
           "3crv_fraction": 0.4999996041044464,
           "bean_fraction": 0.5000003958955535,
           "deltaB": 11.728254458333334,
           "pool_tvl_usd": 29626485.42403607,
           "reserves_3crv": 15138509.419486128,
           "reserves_bean": 14813184.769519351,
           "timestamp": "2022-09-07T00:00:00",
           "value": 15138509.419486128,
           "variable": "reserves_3crv"
          },
          {
           "3crv_fraction": 0.4999996041044464,
           "bean_fraction": 0.5000003958955535,
           "deltaB": 11.728254458333334,
           "pool_tvl_usd": 29626485.42403607,
           "reserves_3crv": 15138509.419486128,
           "reserves_bean": 14813184.769519351,
           "timestamp": "2022-09-07T00:00:00",
           "value": 14813184.769519351,
           "variable": "reserves_bean"
          },
          {
           "3crv_fraction": 0.4999996041044464,
           "bean_fraction": 0.5000003958955535,
           "deltaB": 11.728254458333334,
           "pool_tvl_usd": 29626485.42403607,
           "reserves_3crv": 15138509.419486128,
           "reserves_bean": 14813184.769519351,
           "timestamp": "2022-09-07T00:00:00",
           "value": 11.728254458333334,
           "variable": "deltaB"
          },
          {
           "3crv_fraction": 0.4999996041044464,
           "bean_fraction": 0.5000003958955535,
           "deltaB": 11.728254458333334,
           "pool_tvl_usd": 29626485.42403607,
           "reserves_3crv": 15138509.419486128,
           "reserves_bean": 14813184.769519351,
           "timestamp": "2022-09-07T00:00:00",
           "value": 0.5000003958955535,
           "variable": "bean_fraction"
          },
          {
           "3crv_fraction": 0.4999996041044464,
           "bean_fraction": 0.5000003958955535,
           "deltaB": 11.728254458333334,
           "pool_tvl_usd": 29626485.42403607,
           "reserves_3crv": 15138509.419486128,
           "reserves_bean": 14813184.769519351,
           "timestamp": "2022-09-07T00:00:00",
           "value": 0.4999996041044464,
           "variable": "3crv_fraction"
          },
          {
           "3crv_fraction": 0.4999996041044464,
           "bean_fraction": 0.5000003958955535,
           "deltaB": 11.728254458333334,
           "pool_tvl_usd": 29626485.42403607,
           "reserves_3crv": 15138509.419486128,
           "reserves_bean": 14813184.769519351,
           "timestamp": "2022-09-07T00:00:00",
           "value": 29626485.42403607,
           "variable": "pool_tvl_usd"
          },
          {
           "3crv_fraction": 0.49999644996476555,
           "bean_fraction": 0.5000035500352346,
           "deltaB": 104.62539279166667,
           "pool_tvl_usd": 29520763.167158965,
           "reserves_3crv": 15084382.509912124,
           "reserves_bean": 14760339.428594425,
           "timestamp": "2022-09-08T00:00:00",
           "value": 15084382.509912124,
           "variable": "reserves_3crv"
          },
          {
           "3crv_fraction": 0.49999644996476555,
           "bean_fraction": 0.5000035500352346,
           "deltaB": 104.62539279166667,
           "pool_tvl_usd": 29520763.167158965,
           "reserves_3crv": 15084382.509912124,
           "reserves_bean": 14760339.428594425,
           "timestamp": "2022-09-08T00:00:00",
           "value": 14760339.428594425,
           "variable": "reserves_bean"
          },
          {
           "3crv_fraction": 0.49999644996476555,
           "bean_fraction": 0.5000035500352346,
           "deltaB": 104.62539279166667,
           "pool_tvl_usd": 29520763.167158965,
           "reserves_3crv": 15084382.509912124,
           "reserves_bean": 14760339.428594425,
           "timestamp": "2022-09-08T00:00:00",
           "value": 104.62539279166667,
           "variable": "deltaB"
          },
          {
           "3crv_fraction": 0.49999644996476555,
           "bean_fraction": 0.5000035500352346,
           "deltaB": 104.62539279166667,
           "pool_tvl_usd": 29520763.167158965,
           "reserves_3crv": 15084382.509912124,
           "reserves_bean": 14760339.428594425,
           "timestamp": "2022-09-08T00:00:00",
           "value": 0.5000035500352346,
           "variable": "bean_fraction"
          },
          {
           "3crv_fraction": 0.49999644996476555,
           "bean_fraction": 0.5000035500352346,
           "deltaB": 104.62539279166667,
           "pool_tvl_usd": 29520763.167158965,
           "reserves_3crv": 15084382.509912124,
           "reserves_bean": 14760339.428594425,
           "timestamp": "2022-09-08T00:00:00",
           "value": 0.49999644996476555,
           "variable": "3crv_fraction"
          },
          {
           "3crv_fraction": 0.49999644996476555,
           "bean_fraction": 0.5000035500352346,
           "deltaB": 104.62539279166667,
           "pool_tvl_usd": 29520763.167158965,
           "reserves_3crv": 15084382.509912124,
           "reserves_bean": 14760339.428594425,
           "timestamp": "2022-09-08T00:00:00",
           "value": 29520763.167158965,
           "variable": "pool_tvl_usd"
          },
          {
           "3crv_fraction": 0.49999807658327605,
           "bean_fraction": 0.500001923416724,
           "deltaB": 56.66094125000001,
           "pool_tvl_usd": 29458607.49378322,
           "reserves_3crv": 15052812.207609294,
           "reserves_bean": 14729296.582553321,
           "timestamp": "2022-09-09T00:00:00",
           "value": 15052812.207609294,
           "variable": "reserves_3crv"
          },
          {
           "3crv_fraction": 0.49999807658327605,
           "bean_fraction": 0.500001923416724,
           "deltaB": 56.66094125000001,
           "pool_tvl_usd": 29458607.49378322,
           "reserves_3crv": 15052812.207609294,
           "reserves_bean": 14729296.582553321,
           "timestamp": "2022-09-09T00:00:00",
           "value": 14729296.582553321,
           "variable": "reserves_bean"
          },
          {
           "3crv_fraction": 0.49999807658327605,
           "bean_fraction": 0.500001923416724,
           "deltaB": 56.66094125000001,
           "pool_tvl_usd": 29458607.49378322,
           "reserves_3crv": 15052812.207609294,
           "reserves_bean": 14729296.582553321,
           "timestamp": "2022-09-09T00:00:00",
           "value": 56.66094125000001,
           "variable": "deltaB"
          },
          {
           "3crv_fraction": 0.49999807658327605,
           "bean_fraction": 0.500001923416724,
           "deltaB": 56.66094125000001,
           "pool_tvl_usd": 29458607.49378322,
           "reserves_3crv": 15052812.207609294,
           "reserves_bean": 14729296.582553321,
           "timestamp": "2022-09-09T00:00:00",
           "value": 0.500001923416724,
           "variable": "bean_fraction"
          },
          {
           "3crv_fraction": 0.49999807658327605,
           "bean_fraction": 0.500001923416724,
           "deltaB": 56.66094125000001,
           "pool_tvl_usd": 29458607.49378322,
           "reserves_3crv": 15052812.207609294,
           "reserves_bean": 14729296.582553321,
           "timestamp": "2022-09-09T00:00:00",
           "value": 0.49999807658327605,
           "variable": "3crv_fraction"
          },
          {
           "3crv_fraction": 0.49999807658327605,
           "bean_fraction": 0.500001923416724,
           "deltaB": 56.66094125000001,
           "pool_tvl_usd": 29458607.49378322,
           "reserves_3crv": 15052812.207609294,
           "reserves_bean": 14729296.582553321,
           "timestamp": "2022-09-09T00:00:00",
           "value": 29458607.49378322,
           "variable": "pool_tvl_usd"
          },
          {
           "3crv_fraction": 0.49999854506989583,
           "bean_fraction": 0.5000014549301042,
           "deltaB": 42.85688291666667,
           "pool_tvl_usd": 29456555.709566936,
           "reserves_3crv": 15051875.800240854,
           "reserves_bean": 14728290.028112417,
           "timestamp": "2022-09-10T00:00:00",
           "value": 15051875.800240854,
           "variable": "reserves_3crv"
          },
          {
           "3crv_fraction": 0.49999854506989583,
           "bean_fraction": 0.5000014549301042,
           "deltaB": 42.85688291666667,
           "pool_tvl_usd": 29456555.709566936,
           "reserves_3crv": 15051875.800240854,
           "reserves_bean": 14728290.028112417,
           "timestamp": "2022-09-10T00:00:00",
           "value": 14728290.028112417,
           "variable": "reserves_bean"
          },
          {
           "3crv_fraction": 0.49999854506989583,
           "bean_fraction": 0.5000014549301042,
           "deltaB": 42.85688291666667,
           "pool_tvl_usd": 29456555.709566936,
           "reserves_3crv": 15051875.800240854,
           "reserves_bean": 14728290.028112417,
           "timestamp": "2022-09-10T00:00:00",
           "value": 42.85688291666667,
           "variable": "deltaB"
          },
          {
           "3crv_fraction": 0.49999854506989583,
           "bean_fraction": 0.5000014549301042,
           "deltaB": 42.85688291666667,
           "pool_tvl_usd": 29456555.709566936,
           "reserves_3crv": 15051875.800240854,
           "reserves_bean": 14728290.028112417,
           "timestamp": "2022-09-10T00:00:00",
           "value": 0.5000014549301042,
           "variable": "bean_fraction"
          },
          {
           "3crv_fraction": 0.49999854506989583,
           "bean_fraction": 0.5000014549301042,
           "deltaB": 42.85688291666667,
           "pool_tvl_usd": 29456555.709566936,
           "reserves_3crv": 15051875.800240854,
           "reserves_bean": 14728290.028112417,
           "timestamp": "2022-09-10T00:00:00",
           "value": 0.49999854506989583,
           "variable": "3crv_fraction"
          },
          {
           "3crv_fraction": 0.49999854506989583,
           "bean_fraction": 0.5000014549301042,
           "deltaB": 42.85688291666667,
           "pool_tvl_usd": 29456555.709566936,
           "reserves_3crv": 15051875.800240854,
           "reserves_bean": 14728290.028112417,
           "timestamp": "2022-09-10T00:00:00",
           "value": 29456555.709566936,
           "variable": "pool_tvl_usd"
          },
          {
           "3crv_fraction": 0.49999893996346617,
           "bean_fraction": 0.5000010600365338,
           "deltaB": 31.222932916666668,
           "pool_tvl_usd": 29454166.98632891,
           "reserves_3crv": 15050696.966399759,
           "reserves_bean": 14727080.35255502,
           "timestamp": "2022-09-11T00:00:00",
           "value": 15050696.966399759,
           "variable": "reserves_3crv"
          },
          {
           "3crv_fraction": 0.49999893996346617,
           "bean_fraction": 0.5000010600365338,
           "deltaB": 31.222932916666668,
           "pool_tvl_usd": 29454166.98632891,
           "reserves_3crv": 15050696.966399759,
           "reserves_bean": 14727080.35255502,
           "timestamp": "2022-09-11T00:00:00",
           "value": 14727080.35255502,
           "variable": "reserves_bean"
          },
          {
           "3crv_fraction": 0.49999893996346617,
           "bean_fraction": 0.5000010600365338,
           "deltaB": 31.222932916666668,
           "pool_tvl_usd": 29454166.98632891,
           "reserves_3crv": 15050696.966399759,
           "reserves_bean": 14727080.35255502,
           "timestamp": "2022-09-11T00:00:00",
           "value": 31.222932916666668,
           "variable": "deltaB"
          },
          {
           "3crv_fraction": 0.49999893996346617,
           "bean_fraction": 0.5000010600365338,
           "deltaB": 31.222932916666668,
           "pool_tvl_usd": 29454166.98632891,
           "reserves_3crv": 15050696.966399759,
           "reserves_bean": 14727080.35255502,
           "timestamp": "2022-09-11T00:00:00",
           "value": 0.5000010600365338,
           "variable": "bean_fraction"
          },
          {
           "3crv_fraction": 0.49999893996346617,
           "bean_fraction": 0.5000010600365338,
           "deltaB": 31.222932916666668,
           "pool_tvl_usd": 29454166.98632891,
           "reserves_3crv": 15050696.966399759,
           "reserves_bean": 14727080.35255502,
           "timestamp": "2022-09-11T00:00:00",
           "value": 0.49999893996346617,
           "variable": "3crv_fraction"
          },
          {
           "3crv_fraction": 0.49999893996346617,
           "bean_fraction": 0.5000010600365338,
           "deltaB": 31.222932916666668,
           "pool_tvl_usd": 29454166.98632891,
           "reserves_3crv": 15050696.966399759,
           "reserves_bean": 14727080.35255502,
           "timestamp": "2022-09-11T00:00:00",
           "value": 29454166.98632891,
           "variable": "pool_tvl_usd"
          },
          {
           "3crv_fraction": 0.5000014984728243,
           "bean_fraction": 0.49999850152717573,
           "deltaB": -44.01067533333333,
           "pool_tvl_usd": 29425750.85603388,
           "reserves_3crv": 15036288.500649469,
           "reserves_bean": 14712789.758401,
           "timestamp": "2022-09-12T00:00:00",
           "value": 15036288.500649469,
           "variable": "reserves_3crv"
          },
          {
           "3crv_fraction": 0.5000014984728243,
           "bean_fraction": 0.49999850152717573,
           "deltaB": -44.01067533333333,
           "pool_tvl_usd": 29425750.85603388,
           "reserves_3crv": 15036288.500649469,
           "reserves_bean": 14712789.758401,
           "timestamp": "2022-09-12T00:00:00",
           "value": 14712789.758401,
           "variable": "reserves_bean"
          },
          {
           "3crv_fraction": 0.5000014984728243,
           "bean_fraction": 0.49999850152717573,
           "deltaB": -44.01067533333333,
           "pool_tvl_usd": 29425750.85603388,
           "reserves_3crv": 15036288.500649469,
           "reserves_bean": 14712789.758401,
           "timestamp": "2022-09-12T00:00:00",
           "value": -44.01067533333333,
           "variable": "deltaB"
          },
          {
           "3crv_fraction": 0.5000014984728243,
           "bean_fraction": 0.49999850152717573,
           "deltaB": -44.01067533333333,
           "pool_tvl_usd": 29425750.85603388,
           "reserves_3crv": 15036288.500649469,
           "reserves_bean": 14712789.758401,
           "timestamp": "2022-09-12T00:00:00",
           "value": 0.49999850152717573,
           "variable": "bean_fraction"
          },
          {
           "3crv_fraction": 0.5000014984728243,
           "bean_fraction": 0.49999850152717573,
           "deltaB": -44.01067533333333,
           "pool_tvl_usd": 29425750.85603388,
           "reserves_3crv": 15036288.500649469,
           "reserves_bean": 14712789.758401,
           "timestamp": "2022-09-12T00:00:00",
           "value": 0.5000014984728243,
           "variable": "3crv_fraction"
          },
          {
           "3crv_fraction": 0.5000014984728243,
           "bean_fraction": 0.49999850152717573,
           "deltaB": -44.01067533333333,
           "pool_tvl_usd": 29425750.85603388,
           "reserves_3crv": 15036288.500649469,
           "reserves_bean": 14712789.758401,
           "timestamp": "2022-09-12T00:00:00",
           "value": 29425750.85603388,
           "variable": "pool_tvl_usd"
          },
          {
           "3crv_fraction": 0.4999990561745988,
           "bean_fraction": 0.5000009438254013,
           "deltaB": 27.718473458333335,
           "pool_tvl_usd": 29368636.446508545,
           "reserves_3crv": 15007104.26369637,
           "reserves_bean": 14684314.737467567,
           "timestamp": "2022-09-13T00:00:00",
           "value": 15007104.26369637,
           "variable": "reserves_3crv"
          },
          {
           "3crv_fraction": 0.4999990561745988,
           "bean_fraction": 0.5000009438254013,
           "deltaB": 27.718473458333335,
           "pool_tvl_usd": 29368636.446508545,
           "reserves_3crv": 15007104.26369637,
           "reserves_bean": 14684314.737467567,
           "timestamp": "2022-09-13T00:00:00",
           "value": 14684314.737467567,
           "variable": "reserves_bean"
          },
          {
           "3crv_fraction": 0.4999990561745988,
           "bean_fraction": 0.5000009438254013,
           "deltaB": 27.718473458333335,
           "pool_tvl_usd": 29368636.446508545,
           "reserves_3crv": 15007104.26369637,
           "reserves_bean": 14684314.737467567,
           "timestamp": "2022-09-13T00:00:00",
           "value": 27.718473458333335,
           "variable": "deltaB"
          },
          {
           "3crv_fraction": 0.4999990561745988,
           "bean_fraction": 0.5000009438254013,
           "deltaB": 27.718473458333335,
           "pool_tvl_usd": 29368636.446508545,
           "reserves_3crv": 15007104.26369637,
           "reserves_bean": 14684314.737467567,
           "timestamp": "2022-09-13T00:00:00",
           "value": 0.5000009438254013,
           "variable": "bean_fraction"
          },
          {
           "3crv_fraction": 0.4999990561745988,
           "bean_fraction": 0.5000009438254013,
           "deltaB": 27.718473458333335,
           "pool_tvl_usd": 29368636.446508545,
           "reserves_3crv": 15007104.26369637,
           "reserves_bean": 14684314.737467567,
           "timestamp": "2022-09-13T00:00:00",
           "value": 0.4999990561745988,
           "variable": "3crv_fraction"
          },
          {
           "3crv_fraction": 0.4999990561745988,
           "bean_fraction": 0.5000009438254013,
           "deltaB": 27.718473458333335,
           "pool_tvl_usd": 29368636.446508545,
           "reserves_3crv": 15007104.26369637,
           "reserves_bean": 14684314.737467567,
           "timestamp": "2022-09-13T00:00:00",
           "value": 29368636.446508545,
           "variable": "pool_tvl_usd"
          },
          {
           "3crv_fraction": 0.4999977601462082,
           "bean_fraction": 0.5000022398537917,
           "deltaB": 65.79783149999999,
           "pool_tvl_usd": 29376979.655853245,
           "reserves_3crv": 15011404.090777213,
           "reserves_bean": 14688488.91889557,
           "timestamp": "2022-09-14T00:00:00",
           "value": 15011404.090777213,
           "variable": "reserves_3crv"
          },
          {
           "3crv_fraction": 0.4999977601462082,
           "bean_fraction": 0.5000022398537917,
           "deltaB": 65.79783149999999,
           "pool_tvl_usd": 29376979.655853245,
           "reserves_3crv": 15011404.090777213,
           "reserves_bean": 14688488.91889557,
           "timestamp": "2022-09-14T00:00:00",
           "value": 14688488.91889557,
           "variable": "reserves_bean"
          },
          {
           "3crv_fraction": 0.4999977601462082,
           "bean_fraction": 0.5000022398537917,
           "deltaB": 65.79783149999999,
           "pool_tvl_usd": 29376979.655853245,
           "reserves_3crv": 15011404.090777213,
           "reserves_bean": 14688488.91889557,
           "timestamp": "2022-09-14T00:00:00",
           "value": 65.79783149999999,
           "variable": "deltaB"
          },
          {
           "3crv_fraction": 0.4999977601462082,
           "bean_fraction": 0.5000022398537917,
           "deltaB": 65.79783149999999,
           "pool_tvl_usd": 29376979.655853245,
           "reserves_3crv": 15011404.090777213,
           "reserves_bean": 14688488.91889557,
           "timestamp": "2022-09-14T00:00:00",
           "value": 0.5000022398537917,
           "variable": "bean_fraction"
          },
          {
           "3crv_fraction": 0.4999977601462082,
           "bean_fraction": 0.5000022398537917,
           "deltaB": 65.79783149999999,
           "pool_tvl_usd": 29376979.655853245,
           "reserves_3crv": 15011404.090777213,
           "reserves_bean": 14688488.91889557,
           "timestamp": "2022-09-14T00:00:00",
           "value": 0.4999977601462082,
           "variable": "3crv_fraction"
          },
          {
           "3crv_fraction": 0.4999977601462082,
           "bean_fraction": 0.5000022398537917,
           "deltaB": 65.79783149999999,
           "pool_tvl_usd": 29376979.655853245,
           "reserves_3crv": 15011404.090777213,
           "reserves_bean": 14688488.91889557,
           "timestamp": "2022-09-14T00:00:00",
           "value": 29376979.655853245,
           "variable": "pool_tvl_usd"
          },
          {
           "3crv_fraction": 0.5000028495780221,
           "bean_fraction": 0.49999715042197795,
           "deltaB": -83.71604325,
           "pool_tvl_usd": 29378244.02677555,
           "reserves_3crv": 15012485.2535202,
           "reserves_bean": 14689127.65986871,
           "timestamp": "2022-09-15T00:00:00",
           "value": 15012485.2535202,
           "variable": "reserves_3crv"
          },
          {
           "3crv_fraction": 0.5000028495780221,
           "bean_fraction": 0.49999715042197795,
           "deltaB": -83.71604325,
           "pool_tvl_usd": 29378244.02677555,
           "reserves_3crv": 15012485.2535202,
           "reserves_bean": 14689127.65986871,
           "timestamp": "2022-09-15T00:00:00",
           "value": 14689127.65986871,
           "variable": "reserves_bean"
          },
          {
           "3crv_fraction": 0.5000028495780221,
           "bean_fraction": 0.49999715042197795,
           "deltaB": -83.71604325,
           "pool_tvl_usd": 29378244.02677555,
           "reserves_3crv": 15012485.2535202,
           "reserves_bean": 14689127.65986871,
           "timestamp": "2022-09-15T00:00:00",
           "value": -83.71604325,
           "variable": "deltaB"
          },
          {
           "3crv_fraction": 0.5000028495780221,
           "bean_fraction": 0.49999715042197795,
           "deltaB": -83.71604325,
           "pool_tvl_usd": 29378244.02677555,
           "reserves_3crv": 15012485.2535202,
           "reserves_bean": 14689127.65986871,
           "timestamp": "2022-09-15T00:00:00",
           "value": 0.49999715042197795,
           "variable": "bean_fraction"
          },
          {
           "3crv_fraction": 0.5000028495780221,
           "bean_fraction": 0.49999715042197795,
           "deltaB": -83.71604325,
           "pool_tvl_usd": 29378244.02677555,
           "reserves_3crv": 15012485.2535202,
           "reserves_bean": 14689127.65986871,
           "timestamp": "2022-09-15T00:00:00",
           "value": 0.5000028495780221,
           "variable": "3crv_fraction"
          },
          {
           "3crv_fraction": 0.5000028495780221,
           "bean_fraction": 0.49999715042197795,
           "deltaB": -83.71604325,
           "pool_tvl_usd": 29378244.02677555,
           "reserves_3crv": 15012485.2535202,
           "reserves_bean": 14689127.65986871,
           "timestamp": "2022-09-15T00:00:00",
           "value": 29378244.02677555,
           "variable": "pool_tvl_usd"
          },
          {
           "3crv_fraction": 0.5000477277604093,
           "bean_fraction": 0.49995227223959066,
           "deltaB": -1401.5258580416667,
           "pool_tvl_usd": 29335843.036664788,
           "reserves_3crv": 14993368.280058516,
           "reserves_bean": 14667780.349778041,
           "timestamp": "2022-09-16T00:00:00",
           "value": 14993368.280058516,
           "variable": "reserves_3crv"
          },
          {
           "3crv_fraction": 0.5000477277604093,
           "bean_fraction": 0.49995227223959066,
           "deltaB": -1401.5258580416667,
           "pool_tvl_usd": 29335843.036664788,
           "reserves_3crv": 14993368.280058516,
           "reserves_bean": 14667780.349778041,
           "timestamp": "2022-09-16T00:00:00",
           "value": 14667780.349778041,
           "variable": "reserves_bean"
          },
          {
           "3crv_fraction": 0.5000477277604093,
           "bean_fraction": 0.49995227223959066,
           "deltaB": -1401.5258580416667,
           "pool_tvl_usd": 29335843.036664788,
           "reserves_3crv": 14993368.280058516,
           "reserves_bean": 14667780.349778041,
           "timestamp": "2022-09-16T00:00:00",
           "value": -1401.5258580416667,
           "variable": "deltaB"
          },
          {
           "3crv_fraction": 0.5000477277604093,
           "bean_fraction": 0.49995227223959066,
           "deltaB": -1401.5258580416667,
           "pool_tvl_usd": 29335843.036664788,
           "reserves_3crv": 14993368.280058516,
           "reserves_bean": 14667780.349778041,
           "timestamp": "2022-09-16T00:00:00",
           "value": 0.49995227223959066,
           "variable": "bean_fraction"
          },
          {
           "3crv_fraction": 0.5000477277604093,
           "bean_fraction": 0.49995227223959066,
           "deltaB": -1401.5258580416667,
           "pool_tvl_usd": 29335843.036664788,
           "reserves_3crv": 14993368.280058516,
           "reserves_bean": 14667780.349778041,
           "timestamp": "2022-09-16T00:00:00",
           "value": 0.5000477277604093,
           "variable": "3crv_fraction"
          },
          {
           "3crv_fraction": 0.5000477277604093,
           "bean_fraction": 0.49995227223959066,
           "deltaB": -1401.5258580416667,
           "pool_tvl_usd": 29335843.036664788,
           "reserves_3crv": 14993368.280058516,
           "reserves_bean": 14667780.349778041,
           "timestamp": "2022-09-16T00:00:00",
           "value": 29335843.036664788,
           "variable": "pool_tvl_usd"
          },
          {
           "3crv_fraction": 0.4999993452813702,
           "bean_fraction": 0.5000006547186299,
           "deltaB": 19.174026916666666,
           "pool_tvl_usd": 29285902.396655038,
           "reserves_3crv": 14965201.821783401,
           "reserves_bean": 14642949.628168961,
           "timestamp": "2022-09-17T00:00:00",
           "value": 14965201.821783401,
           "variable": "reserves_3crv"
          },
          {
           "3crv_fraction": 0.4999993452813702,
           "bean_fraction": 0.5000006547186299,
           "deltaB": 19.174026916666666,
           "pool_tvl_usd": 29285902.396655038,
           "reserves_3crv": 14965201.821783401,
           "reserves_bean": 14642949.628168961,
           "timestamp": "2022-09-17T00:00:00",
           "value": 14642949.628168961,
           "variable": "reserves_bean"
          },
          {
           "3crv_fraction": 0.4999993452813702,
           "bean_fraction": 0.5000006547186299,
           "deltaB": 19.174026916666666,
           "pool_tvl_usd": 29285902.396655038,
           "reserves_3crv": 14965201.821783401,
           "reserves_bean": 14642949.628168961,
           "timestamp": "2022-09-17T00:00:00",
           "value": 19.174026916666666,
           "variable": "deltaB"
          },
          {
           "3crv_fraction": 0.4999993452813702,
           "bean_fraction": 0.5000006547186299,
           "deltaB": 19.174026916666666,
           "pool_tvl_usd": 29285902.396655038,
           "reserves_3crv": 14965201.821783401,
           "reserves_bean": 14642949.628168961,
           "timestamp": "2022-09-17T00:00:00",
           "value": 0.5000006547186299,
           "variable": "bean_fraction"
          },
          {
           "3crv_fraction": 0.4999993452813702,
           "bean_fraction": 0.5000006547186299,
           "deltaB": 19.174026916666666,
           "pool_tvl_usd": 29285902.396655038,
           "reserves_3crv": 14965201.821783401,
           "reserves_bean": 14642949.628168961,
           "timestamp": "2022-09-17T00:00:00",
           "value": 0.4999993452813702,
           "variable": "3crv_fraction"
          },
          {
           "3crv_fraction": 0.4999993452813702,
           "bean_fraction": 0.5000006547186299,
           "deltaB": 19.174026916666666,
           "pool_tvl_usd": 29285902.396655038,
           "reserves_3crv": 14965201.821783401,
           "reserves_bean": 14642949.628168961,
           "timestamp": "2022-09-17T00:00:00",
           "value": 29285902.396655038,
           "variable": "pool_tvl_usd"
          },
          {
           "3crv_fraction": 0.49999855266270893,
           "bean_fraction": 0.500001447337291,
           "deltaB": 42.385329,
           "pool_tvl_usd": 29285067.02892414,
           "reserves_3crv": 14964779.944332255,
           "reserves_bean": 14642546.00448578,
           "timestamp": "2022-09-18T00:00:00",
           "value": 14964779.944332255,
           "variable": "reserves_3crv"
          },
          {
           "3crv_fraction": 0.49999855266270893,
           "bean_fraction": 0.500001447337291,
           "deltaB": 42.385329,
           "pool_tvl_usd": 29285067.02892414,
           "reserves_3crv": 14964779.944332255,
           "reserves_bean": 14642546.00448578,
           "timestamp": "2022-09-18T00:00:00",
           "value": 14642546.00448578,
           "variable": "reserves_bean"
          },
          {
           "3crv_fraction": 0.49999855266270893,
           "bean_fraction": 0.500001447337291,
           "deltaB": 42.385329,
           "pool_tvl_usd": 29285067.02892414,
           "reserves_3crv": 14964779.944332255,
           "reserves_bean": 14642546.00448578,
           "timestamp": "2022-09-18T00:00:00",
           "value": 42.385329,
           "variable": "deltaB"
          },
          {
           "3crv_fraction": 0.49999855266270893,
           "bean_fraction": 0.500001447337291,
           "deltaB": 42.385329,
           "pool_tvl_usd": 29285067.02892414,
           "reserves_3crv": 14964779.944332255,
           "reserves_bean": 14642546.00448578,
           "timestamp": "2022-09-18T00:00:00",
           "value": 0.500001447337291,
           "variable": "bean_fraction"
          },
          {
           "3crv_fraction": 0.49999855266270893,
           "bean_fraction": 0.500001447337291,
           "deltaB": 42.385329,
           "pool_tvl_usd": 29285067.02892414,
           "reserves_3crv": 14964779.944332255,
           "reserves_bean": 14642546.00448578,
           "timestamp": "2022-09-18T00:00:00",
           "value": 0.49999855266270893,
           "variable": "3crv_fraction"
          },
          {
           "3crv_fraction": 0.49999855266270893,
           "bean_fraction": 0.500001447337291,
           "deltaB": 42.385329,
           "pool_tvl_usd": 29285067.02892414,
           "reserves_3crv": 14964779.944332255,
           "reserves_bean": 14642546.00448578,
           "timestamp": "2022-09-18T00:00:00",
           "value": 29285067.02892414,
           "variable": "pool_tvl_usd"
          },
          {
           "3crv_fraction": 0.5013308969599297,
           "bean_fraction": 0.4986691030400703,
           "deltaB": -38344.05949970834,
           "pool_tvl_usd": 29035153.535437778,
           "reserves_3crv": 14913363.31735026,
           "reserves_bean": 14517231.123787155,
           "timestamp": "2022-09-19T00:00:00",
           "value": 14913363.31735026,
           "variable": "reserves_3crv"
          },
          {
           "3crv_fraction": 0.5013308969599297,
           "bean_fraction": 0.4986691030400703,
           "deltaB": -38344.05949970834,
           "pool_tvl_usd": 29035153.535437778,
           "reserves_3crv": 14913363.31735026,
           "reserves_bean": 14517231.123787155,
           "timestamp": "2022-09-19T00:00:00",
           "value": 14517231.123787155,
           "variable": "reserves_bean"
          },
          {
           "3crv_fraction": 0.5013308969599297,
           "bean_fraction": 0.4986691030400703,
           "deltaB": -38344.05949970834,
           "pool_tvl_usd": 29035153.535437778,
           "reserves_3crv": 14913363.31735026,
           "reserves_bean": 14517231.123787155,
           "timestamp": "2022-09-19T00:00:00",
           "value": -38344.05949970834,
           "variable": "deltaB"
          },
          {
           "3crv_fraction": 0.5013308969599297,
           "bean_fraction": 0.4986691030400703,
           "deltaB": -38344.05949970834,
           "pool_tvl_usd": 29035153.535437778,
           "reserves_3crv": 14913363.31735026,
           "reserves_bean": 14517231.123787155,
           "timestamp": "2022-09-19T00:00:00",
           "value": 0.4986691030400703,
           "variable": "bean_fraction"
          },
          {
           "3crv_fraction": 0.5013308969599297,
           "bean_fraction": 0.4986691030400703,
           "deltaB": -38344.05949970834,
           "pool_tvl_usd": 29035153.535437778,
           "reserves_3crv": 14913363.31735026,
           "reserves_bean": 14517231.123787155,
           "timestamp": "2022-09-19T00:00:00",
           "value": 0.5013308969599297,
           "variable": "3crv_fraction"
          },
          {
           "3crv_fraction": 0.5013308969599297,
           "bean_fraction": 0.4986691030400703,
           "deltaB": -38344.05949970834,
           "pool_tvl_usd": 29035153.535437778,
           "reserves_3crv": 14913363.31735026,
           "reserves_bean": 14517231.123787155,
           "timestamp": "2022-09-19T00:00:00",
           "value": 29035153.535437778,
           "variable": "pool_tvl_usd"
          },
          {
           "3crv_fraction": 0.5049820342610861,
           "bean_fraction": 0.49501796573891393,
           "deltaB": -142867.87463408333,
           "pool_tvl_usd": 28392306.20166905,
           "reserves_3crv": 14788844.19016396,
           "reserves_bean": 14191304.217143832,
           "timestamp": "2022-09-20T00:00:00",
           "value": 14788844.19016396,
           "variable": "reserves_3crv"
          },
          {
           "3crv_fraction": 0.5049820342610861,
           "bean_fraction": 0.49501796573891393,
           "deltaB": -142867.87463408333,
           "pool_tvl_usd": 28392306.20166905,
           "reserves_3crv": 14788844.19016396,
           "reserves_bean": 14191304.217143832,
           "timestamp": "2022-09-20T00:00:00",
           "value": 14191304.217143832,
           "variable": "reserves_bean"
          },
          {
           "3crv_fraction": 0.5049820342610861,
           "bean_fraction": 0.49501796573891393,
           "deltaB": -142867.87463408333,
           "pool_tvl_usd": 28392306.20166905,
           "reserves_3crv": 14788844.19016396,
           "reserves_bean": 14191304.217143832,
           "timestamp": "2022-09-20T00:00:00",
           "value": -142867.87463408333,
           "variable": "deltaB"
          },
          {
           "3crv_fraction": 0.5049820342610861,
           "bean_fraction": 0.49501796573891393,
           "deltaB": -142867.87463408333,
           "pool_tvl_usd": 28392306.20166905,
           "reserves_3crv": 14788844.19016396,
           "reserves_bean": 14191304.217143832,
           "timestamp": "2022-09-20T00:00:00",
           "value": 0.49501796573891393,
           "variable": "bean_fraction"
          },
          {
           "3crv_fraction": 0.5049820342610861,
           "bean_fraction": 0.49501796573891393,
           "deltaB": -142867.87463408333,
           "pool_tvl_usd": 28392306.20166905,
           "reserves_3crv": 14788844.19016396,
           "reserves_bean": 14191304.217143832,
           "timestamp": "2022-09-20T00:00:00",
           "value": 0.5049820342610861,
           "variable": "3crv_fraction"
          },
          {
           "3crv_fraction": 0.5049820342610861,
           "bean_fraction": 0.49501796573891393,
           "deltaB": -142867.87463408333,
           "pool_tvl_usd": 28392306.20166905,
           "reserves_3crv": 14788844.19016396,
           "reserves_bean": 14191304.217143832,
           "timestamp": "2022-09-20T00:00:00",
           "value": 28392306.20166905,
           "variable": "pool_tvl_usd"
          },
          {
           "3crv_fraction": 0.503029090736005,
           "bean_fraction": 0.49697090926399506,
           "deltaB": -86537.27813483334,
           "pool_tvl_usd": 28401727.590223283,
           "reserves_3crv": 14683280.684140595,
           "reserves_bean": 14197746.028584555,
           "timestamp": "2022-09-21T00:00:00",
           "value": 14683280.684140595,
           "variable": "reserves_3crv"
          },
          {
           "3crv_fraction": 0.503029090736005,
           "bean_fraction": 0.49697090926399506,
           "deltaB": -86537.27813483334,
           "pool_tvl_usd": 28401727.590223283,
           "reserves_3crv": 14683280.684140595,
           "reserves_bean": 14197746.028584555,
           "timestamp": "2022-09-21T00:00:00",
           "value": 14197746.028584555,
           "variable": "reserves_bean"
          },
          {
           "3crv_fraction": 0.503029090736005,
           "bean_fraction": 0.49697090926399506,
           "deltaB": -86537.27813483334,
           "pool_tvl_usd": 28401727.590223283,
           "reserves_3crv": 14683280.684140595,
           "reserves_bean": 14197746.028584555,
           "timestamp": "2022-09-21T00:00:00",
           "value": -86537.27813483334,
           "variable": "deltaB"
          },
          {
           "3crv_fraction": 0.503029090736005,
           "bean_fraction": 0.49697090926399506,
           "deltaB": -86537.27813483334,
           "pool_tvl_usd": 28401727.590223283,
           "reserves_3crv": 14683280.684140595,
           "reserves_bean": 14197746.028584555,
           "timestamp": "2022-09-21T00:00:00",
           "value": 0.49697090926399506,
           "variable": "bean_fraction"
          },
          {
           "3crv_fraction": 0.503029090736005,
           "bean_fraction": 0.49697090926399506,
           "deltaB": -86537.27813483334,
           "pool_tvl_usd": 28401727.590223283,
           "reserves_3crv": 14683280.684140595,
           "reserves_bean": 14197746.028584555,
           "timestamp": "2022-09-21T00:00:00",
           "value": 0.503029090736005,
           "variable": "3crv_fraction"
          },
          {
           "3crv_fraction": 0.503029090736005,
           "bean_fraction": 0.49697090926399506,
           "deltaB": -86537.27813483334,
           "pool_tvl_usd": 28401727.590223283,
           "reserves_3crv": 14683280.684140595,
           "reserves_bean": 14197746.028584555,
           "timestamp": "2022-09-21T00:00:00",
           "value": 28401727.590223283,
           "variable": "pool_tvl_usd"
          },
          {
           "3crv_fraction": 0.5030371701044435,
           "bean_fraction": 0.49696282989555657,
           "deltaB": -86736.232147875,
           "pool_tvl_usd": 28389040.204746764,
           "reserves_3crv": 14678249.466093995,
           "reserves_bean": 14192386.480061388,
           "timestamp": "2022-09-22T00:00:00",
           "value": 14678249.466093995,
           "variable": "reserves_3crv"
          },
          {
           "3crv_fraction": 0.5030371701044435,
           "bean_fraction": 0.49696282989555657,
           "deltaB": -86736.232147875,
           "pool_tvl_usd": 28389040.204746764,
           "reserves_3crv": 14678249.466093995,
           "reserves_bean": 14192386.480061388,
           "timestamp": "2022-09-22T00:00:00",
           "value": 14192386.480061388,
           "variable": "reserves_bean"
          },
          {
           "3crv_fraction": 0.5030371701044435,
           "bean_fraction": 0.49696282989555657,
           "deltaB": -86736.232147875,
           "pool_tvl_usd": 28389040.204746764,
           "reserves_3crv": 14678249.466093995,
           "reserves_bean": 14192386.480061388,
           "timestamp": "2022-09-22T00:00:00",
           "value": -86736.232147875,
           "variable": "deltaB"
          },
          {
           "3crv_fraction": 0.5030371701044435,
           "bean_fraction": 0.49696282989555657,
           "deltaB": -86736.232147875,
           "pool_tvl_usd": 28389040.204746764,
           "reserves_3crv": 14678249.466093995,
           "reserves_bean": 14192386.480061388,
           "timestamp": "2022-09-22T00:00:00",
           "value": 0.49696282989555657,
           "variable": "bean_fraction"
          },
          {
           "3crv_fraction": 0.5030371701044435,
           "bean_fraction": 0.49696282989555657,
           "deltaB": -86736.232147875,
           "pool_tvl_usd": 28389040.204746764,
           "reserves_3crv": 14678249.466093995,
           "reserves_bean": 14192386.480061388,
           "timestamp": "2022-09-22T00:00:00",
           "value": 0.5030371701044435,
           "variable": "3crv_fraction"
          },
          {
           "3crv_fraction": 0.5030371701044435,
           "bean_fraction": 0.49696282989555657,
           "deltaB": -86736.232147875,
           "pool_tvl_usd": 28389040.204746764,
           "reserves_3crv": 14678249.466093995,
           "reserves_bean": 14192386.480061388,
           "timestamp": "2022-09-22T00:00:00",
           "value": 28389040.204746764,
           "variable": "pool_tvl_usd"
          },
          {
           "3crv_fraction": 0.5030929454427373,
           "bean_fraction": 0.4969070545572627,
           "deltaB": -88320.65263816668,
           "pool_tvl_usd": 28383576.213005677,
           "reserves_3crv": 14678395.538172016,
           "reserves_bean": 14189408.264006443,
           "timestamp": "2022-09-23T00:00:00",
           "value": 14678395.538172016,
           "variable": "reserves_3crv"
          },
          {
           "3crv_fraction": 0.5030929454427373,
           "bean_fraction": 0.4969070545572627,
           "deltaB": -88320.65263816668,
           "pool_tvl_usd": 28383576.213005677,
           "reserves_3crv": 14678395.538172016,
           "reserves_bean": 14189408.264006443,
           "timestamp": "2022-09-23T00:00:00",
           "value": 14189408.264006443,
           "variable": "reserves_bean"
          },
          {
           "3crv_fraction": 0.5030929454427373,
           "bean_fraction": 0.4969070545572627,
           "deltaB": -88320.65263816668,
           "pool_tvl_usd": 28383576.213005677,
           "reserves_3crv": 14678395.538172016,
           "reserves_bean": 14189408.264006443,
           "timestamp": "2022-09-23T00:00:00",
           "value": -88320.65263816668,
           "variable": "deltaB"
          },
          {
           "3crv_fraction": 0.5030929454427373,
           "bean_fraction": 0.4969070545572627,
           "deltaB": -88320.65263816668,
           "pool_tvl_usd": 28383576.213005677,
           "reserves_3crv": 14678395.538172016,
           "reserves_bean": 14189408.264006443,
           "timestamp": "2022-09-23T00:00:00",
           "value": 0.4969070545572627,
           "variable": "bean_fraction"
          },
          {
           "3crv_fraction": 0.5030929454427373,
           "bean_fraction": 0.4969070545572627,
           "deltaB": -88320.65263816668,
           "pool_tvl_usd": 28383576.213005677,
           "reserves_3crv": 14678395.538172016,
           "reserves_bean": 14189408.264006443,
           "timestamp": "2022-09-23T00:00:00",
           "value": 0.5030929454427373,
           "variable": "3crv_fraction"
          },
          {
           "3crv_fraction": 0.5030929454427373,
           "bean_fraction": 0.4969070545572627,
           "deltaB": -88320.65263816668,
           "pool_tvl_usd": 28383576.213005677,
           "reserves_3crv": 14678395.538172016,
           "reserves_bean": 14189408.264006443,
           "timestamp": "2022-09-23T00:00:00",
           "value": 28383576.213005677,
           "variable": "pool_tvl_usd"
          },
          {
           "3crv_fraction": 0.5028293335527602,
           "bean_fraction": 0.4971706664472398,
           "deltaB": -80786.99797820834,
           "pool_tvl_usd": 28395583.451647896,
           "reserves_3crv": 14670027.518520093,
           "reserves_bean": 14195895.89610631,
           "timestamp": "2022-09-24T00:00:00",
           "value": 14670027.518520093,
           "variable": "reserves_3crv"
          },
          {
           "3crv_fraction": 0.5028293335527602,
           "bean_fraction": 0.4971706664472398,
           "deltaB": -80786.99797820834,
           "pool_tvl_usd": 28395583.451647896,
           "reserves_3crv": 14670027.518520093,
           "reserves_bean": 14195895.89610631,
           "timestamp": "2022-09-24T00:00:00",
           "value": 14195895.89610631,
           "variable": "reserves_bean"
          },
          {
           "3crv_fraction": 0.5028293335527602,
           "bean_fraction": 0.4971706664472398,
           "deltaB": -80786.99797820834,
           "pool_tvl_usd": 28395583.451647896,
           "reserves_3crv": 14670027.518520093,
           "reserves_bean": 14195895.89610631,
           "timestamp": "2022-09-24T00:00:00",
           "value": -80786.99797820834,
           "variable": "deltaB"
          },
          {
           "3crv_fraction": 0.5028293335527602,
           "bean_fraction": 0.4971706664472398,
           "deltaB": -80786.99797820834,
           "pool_tvl_usd": 28395583.451647896,
           "reserves_3crv": 14670027.518520093,
           "reserves_bean": 14195895.89610631,
           "timestamp": "2022-09-24T00:00:00",
           "value": 0.4971706664472398,
           "variable": "bean_fraction"
          },
          {
           "3crv_fraction": 0.5028293335527602,
           "bean_fraction": 0.4971706664472398,
           "deltaB": -80786.99797820834,
           "pool_tvl_usd": 28395583.451647896,
           "reserves_3crv": 14670027.518520093,
           "reserves_bean": 14195895.89610631,
           "timestamp": "2022-09-24T00:00:00",
           "value": 0.5028293335527602,
           "variable": "3crv_fraction"
          },
          {
           "3crv_fraction": 0.5028293335527602,
           "bean_fraction": 0.4971706664472398,
           "deltaB": -80786.99797820834,
           "pool_tvl_usd": 28395583.451647896,
           "reserves_3crv": 14670027.518520093,
           "reserves_bean": 14195895.89610631,
           "timestamp": "2022-09-24T00:00:00",
           "value": 28395583.451647896,
           "variable": "pool_tvl_usd"
          },
          {
           "3crv_fraction": 0.5032879445126724,
           "bean_fraction": 0.4967120554873276,
           "deltaB": -93877.03767295834,
           "pool_tvl_usd": 28368950.919947445,
           "reserves_3crv": 14682031.142804474,
           "reserves_bean": 14182070.357313514,
           "timestamp": "2022-09-25T00:00:00",
           "value": 14682031.142804474,
           "variable": "reserves_3crv"
          },
          {
           "3crv_fraction": 0.5032879445126724,
           "bean_fraction": 0.4967120554873276,
           "deltaB": -93877.03767295834,
           "pool_tvl_usd": 28368950.919947445,
           "reserves_3crv": 14682031.142804474,
           "reserves_bean": 14182070.357313514,
           "timestamp": "2022-09-25T00:00:00",
           "value": 14182070.357313514,
           "variable": "reserves_bean"
          },
          {
           "3crv_fraction": 0.5032879445126724,
           "bean_fraction": 0.4967120554873276,
           "deltaB": -93877.03767295834,
           "pool_tvl_usd": 28368950.919947445,
           "reserves_3crv": 14682031.142804474,
           "reserves_bean": 14182070.357313514,
           "timestamp": "2022-09-25T00:00:00",
           "value": -93877.03767295834,
           "variable": "deltaB"
          },
          {
           "3crv_fraction": 0.5032879445126724,
           "bean_fraction": 0.4967120554873276,
           "deltaB": -93877.03767295834,
           "pool_tvl_usd": 28368950.919947445,
           "reserves_3crv": 14682031.142804474,
           "reserves_bean": 14182070.357313514,
           "timestamp": "2022-09-25T00:00:00",
           "value": 0.4967120554873276,
           "variable": "bean_fraction"
          },
          {
           "3crv_fraction": 0.5032879445126724,
           "bean_fraction": 0.4967120554873276,
           "deltaB": -93877.03767295834,
           "pool_tvl_usd": 28368950.919947445,
           "reserves_3crv": 14682031.142804474,
           "reserves_bean": 14182070.357313514,
           "timestamp": "2022-09-25T00:00:00",
           "value": 0.5032879445126724,
           "variable": "3crv_fraction"
          },
          {
           "3crv_fraction": 0.5032879445126724,
           "bean_fraction": 0.4967120554873276,
           "deltaB": -93877.03767295834,
           "pool_tvl_usd": 28368950.919947445,
           "reserves_3crv": 14682031.142804474,
           "reserves_bean": 14182070.357313514,
           "timestamp": "2022-09-25T00:00:00",
           "value": 28368950.919947445,
           "variable": "pool_tvl_usd"
          },
          {
           "3crv_fraction": 0.5034890558116935,
           "bean_fraction": 0.4965109441883065,
           "deltaB": -99615.46286429167,
           "pool_tvl_usd": 28356470.479210604,
           "reserves_3crv": 14687090.038358292,
           "reserves_bean": 14175800.876761185,
           "timestamp": "2022-09-26T00:00:00",
           "value": 14687090.038358292,
           "variable": "reserves_3crv"
          },
          {
           "3crv_fraction": 0.5034890558116935,
           "bean_fraction": 0.4965109441883065,
           "deltaB": -99615.46286429167,
           "pool_tvl_usd": 28356470.479210604,
           "reserves_3crv": 14687090.038358292,
           "reserves_bean": 14175800.876761185,
           "timestamp": "2022-09-26T00:00:00",
           "value": 14175800.876761185,
           "variable": "reserves_bean"
          },
          {
           "3crv_fraction": 0.5034890558116935,
           "bean_fraction": 0.4965109441883065,
           "deltaB": -99615.46286429167,
           "pool_tvl_usd": 28356470.479210604,
           "reserves_3crv": 14687090.038358292,
           "reserves_bean": 14175800.876761185,
           "timestamp": "2022-09-26T00:00:00",
           "value": -99615.46286429167,
           "variable": "deltaB"
          },
          {
           "3crv_fraction": 0.5034890558116935,
           "bean_fraction": 0.4965109441883065,
           "deltaB": -99615.46286429167,
           "pool_tvl_usd": 28356470.479210604,
           "reserves_3crv": 14687090.038358292,
           "reserves_bean": 14175800.876761185,
           "timestamp": "2022-09-26T00:00:00",
           "value": 0.4965109441883065,
           "variable": "bean_fraction"
          },
          {
           "3crv_fraction": 0.5034890558116935,
           "bean_fraction": 0.4965109441883065,
           "deltaB": -99615.46286429167,
           "pool_tvl_usd": 28356470.479210604,
           "reserves_3crv": 14687090.038358292,
           "reserves_bean": 14175800.876761185,
           "timestamp": "2022-09-26T00:00:00",
           "value": 0.5034890558116935,
           "variable": "3crv_fraction"
          },
          {
           "3crv_fraction": 0.5034890558116935,
           "bean_fraction": 0.4965109441883065,
           "deltaB": -99615.46286429167,
           "pool_tvl_usd": 28356470.479210604,
           "reserves_3crv": 14687090.038358292,
           "reserves_bean": 14175800.876761185,
           "timestamp": "2022-09-26T00:00:00",
           "value": 28356470.479210604,
           "variable": "pool_tvl_usd"
          },
          {
           "3crv_fraction": 0.504137466237377,
           "bean_fraction": 0.49586253376262296,
           "deltaB": -118101.01672575,
           "pool_tvl_usd": 28314059.943740655,
           "reserves_3crv": 14701979.862730762,
           "reserves_bean": 14154284.765635757,
           "timestamp": "2022-09-27T00:00:00",
           "value": 14701979.862730762,
           "variable": "reserves_3crv"
          },
          {
           "3crv_fraction": 0.504137466237377,
           "bean_fraction": 0.49586253376262296,
           "deltaB": -118101.01672575,
           "pool_tvl_usd": 28314059.943740655,
           "reserves_3crv": 14701979.862730762,
           "reserves_bean": 14154284.765635757,
           "timestamp": "2022-09-27T00:00:00",
           "value": 14154284.765635757,
           "variable": "reserves_bean"
          },
          {
           "3crv_fraction": 0.504137466237377,
           "bean_fraction": 0.49586253376262296,
           "deltaB": -118101.01672575,
           "pool_tvl_usd": 28314059.943740655,
           "reserves_3crv": 14701979.862730762,
           "reserves_bean": 14154284.765635757,
           "timestamp": "2022-09-27T00:00:00",
           "value": -118101.01672575,
           "variable": "deltaB"
          },
          {
           "3crv_fraction": 0.504137466237377,
           "bean_fraction": 0.49586253376262296,
           "deltaB": -118101.01672575,
           "pool_tvl_usd": 28314059.943740655,
           "reserves_3crv": 14701979.862730762,
           "reserves_bean": 14154284.765635757,
           "timestamp": "2022-09-27T00:00:00",
           "value": 0.49586253376262296,
           "variable": "bean_fraction"
          },
          {
           "3crv_fraction": 0.504137466237377,
           "bean_fraction": 0.49586253376262296,
           "deltaB": -118101.01672575,
           "pool_tvl_usd": 28314059.943740655,
           "reserves_3crv": 14701979.862730762,
           "reserves_bean": 14154284.765635757,
           "timestamp": "2022-09-27T00:00:00",
           "value": 0.504137466237377,
           "variable": "3crv_fraction"
          },
          {
           "3crv_fraction": 0.504137466237377,
           "bean_fraction": 0.49586253376262296,
           "deltaB": -118101.01672575,
           "pool_tvl_usd": 28314059.943740655,
           "reserves_3crv": 14701979.862730762,
           "reserves_bean": 14154284.765635757,
           "timestamp": "2022-09-27T00:00:00",
           "value": 28314059.943740655,
           "variable": "pool_tvl_usd"
          },
          {
           "3crv_fraction": 0.5042229847001339,
           "bean_fraction": 0.49577701529986595,
           "deltaB": -120381.17510654168,
           "pool_tvl_usd": 28271392.308983404,
           "reserves_3crv": 14683713.284794377,
           "reserves_bean": 14131919.907189304,
           "timestamp": "2022-09-28T00:00:00",
           "value": 14683713.284794377,
           "variable": "reserves_3crv"
          },
          {
           "3crv_fraction": 0.5042229847001339,
           "bean_fraction": 0.49577701529986595,
           "deltaB": -120381.17510654168,
           "pool_tvl_usd": 28271392.308983404,
           "reserves_3crv": 14683713.284794377,
           "reserves_bean": 14131919.907189304,
           "timestamp": "2022-09-28T00:00:00",
           "value": 14131919.907189304,
           "variable": "reserves_bean"
          },
          {
           "3crv_fraction": 0.5042229847001339,
           "bean_fraction": 0.49577701529986595,
           "deltaB": -120381.17510654168,
           "pool_tvl_usd": 28271392.308983404,
           "reserves_3crv": 14683713.284794377,
           "reserves_bean": 14131919.907189304,
           "timestamp": "2022-09-28T00:00:00",
           "value": -120381.17510654168,
           "variable": "deltaB"
          },
          {
           "3crv_fraction": 0.5042229847001339,
           "bean_fraction": 0.49577701529986595,
           "deltaB": -120381.17510654168,
           "pool_tvl_usd": 28271392.308983404,
           "reserves_3crv": 14683713.284794377,
           "reserves_bean": 14131919.907189304,
           "timestamp": "2022-09-28T00:00:00",
           "value": 0.49577701529986595,
           "variable": "bean_fraction"
          },
          {
           "3crv_fraction": 0.5042229847001339,
           "bean_fraction": 0.49577701529986595,
           "deltaB": -120381.17510654168,
           "pool_tvl_usd": 28271392.308983404,
           "reserves_3crv": 14683713.284794377,
           "reserves_bean": 14131919.907189304,
           "timestamp": "2022-09-28T00:00:00",
           "value": 0.5042229847001339,
           "variable": "3crv_fraction"
          },
          {
           "3crv_fraction": 0.5042229847001339,
           "bean_fraction": 0.49577701529986595,
           "deltaB": -120381.17510654168,
           "pool_tvl_usd": 28271392.308983404,
           "reserves_3crv": 14683713.284794377,
           "reserves_bean": 14131919.907189304,
           "timestamp": "2022-09-28T00:00:00",
           "value": 28271392.308983404,
           "variable": "pool_tvl_usd"
          },
          {
           "3crv_fraction": 0.5041447677143235,
           "bean_fraction": 0.4958552322856764,
           "deltaB": -118056.39184295833,
           "pool_tvl_usd": 28253653.653886233,
           "reserves_3crv": 14670557.760844728,
           "reserves_bean": 14123518.719109336,
           "timestamp": "2022-09-29T00:00:00",
           "value": 14670557.760844728,
           "variable": "reserves_3crv"
          },
          {
           "3crv_fraction": 0.5041447677143235,
           "bean_fraction": 0.4958552322856764,
           "deltaB": -118056.39184295833,
           "pool_tvl_usd": 28253653.653886233,
           "reserves_3crv": 14670557.760844728,
           "reserves_bean": 14123518.719109336,
           "timestamp": "2022-09-29T00:00:00",
           "value": 14123518.719109336,
           "variable": "reserves_bean"
          },
          {
           "3crv_fraction": 0.5041447677143235,
           "bean_fraction": 0.4958552322856764,
           "deltaB": -118056.39184295833,
           "pool_tvl_usd": 28253653.653886233,
           "reserves_3crv": 14670557.760844728,
           "reserves_bean": 14123518.719109336,
           "timestamp": "2022-09-29T00:00:00",
           "value": -118056.39184295833,
           "variable": "deltaB"
          },
          {
           "3crv_fraction": 0.5041447677143235,
           "bean_fraction": 0.4958552322856764,
           "deltaB": -118056.39184295833,
           "pool_tvl_usd": 28253653.653886233,
           "reserves_3crv": 14670557.760844728,
           "reserves_bean": 14123518.719109336,
           "timestamp": "2022-09-29T00:00:00",
           "value": 0.4958552322856764,
           "variable": "bean_fraction"
          },
          {
           "3crv_fraction": 0.5041447677143235,
           "bean_fraction": 0.4958552322856764,
           "deltaB": -118056.39184295833,
           "pool_tvl_usd": 28253653.653886233,
           "reserves_3crv": 14670557.760844728,
           "reserves_bean": 14123518.719109336,
           "timestamp": "2022-09-29T00:00:00",
           "value": 0.5041447677143235,
           "variable": "3crv_fraction"
          },
          {
           "3crv_fraction": 0.5041447677143235,
           "bean_fraction": 0.4958552322856764,
           "deltaB": -118056.39184295833,
           "pool_tvl_usd": 28253653.653886233,
           "reserves_3crv": 14670557.760844728,
           "reserves_bean": 14123518.719109336,
           "timestamp": "2022-09-29T00:00:00",
           "value": 28253653.653886233,
           "variable": "pool_tvl_usd"
          },
          {
           "3crv_fraction": 0.504401799140972,
           "bean_fraction": 0.495598200859028,
           "deltaB": -125406.80859316666,
           "pool_tvl_usd": 28245611.46646048,
           "reserves_3crv": 14681190.971878795,
           "reserves_bean": 14119542.240401296,
           "timestamp": "2022-09-30T00:00:00",
           "value": 14681190.971878795,
           "variable": "reserves_3crv"
          },
          {
           "3crv_fraction": 0.504401799140972,
           "bean_fraction": 0.495598200859028,
           "deltaB": -125406.80859316666,
           "pool_tvl_usd": 28245611.46646048,
           "reserves_3crv": 14681190.971878795,
           "reserves_bean": 14119542.240401296,
           "timestamp": "2022-09-30T00:00:00",
           "value": 14119542.240401296,
           "variable": "reserves_bean"
          },
          {
           "3crv_fraction": 0.504401799140972,
           "bean_fraction": 0.495598200859028,
           "deltaB": -125406.80859316666,
           "pool_tvl_usd": 28245611.46646048,
           "reserves_3crv": 14681190.971878795,
           "reserves_bean": 14119542.240401296,
           "timestamp": "2022-09-30T00:00:00",
           "value": -125406.80859316666,
           "variable": "deltaB"
          },
          {
           "3crv_fraction": 0.504401799140972,
           "bean_fraction": 0.495598200859028,
           "deltaB": -125406.80859316666,
           "pool_tvl_usd": 28245611.46646048,
           "reserves_3crv": 14681190.971878795,
           "reserves_bean": 14119542.240401296,
           "timestamp": "2022-09-30T00:00:00",
           "value": 0.495598200859028,
           "variable": "bean_fraction"
          },
          {
           "3crv_fraction": 0.504401799140972,
           "bean_fraction": 0.495598200859028,
           "deltaB": -125406.80859316666,
           "pool_tvl_usd": 28245611.46646048,
           "reserves_3crv": 14681190.971878795,
           "reserves_bean": 14119542.240401296,
           "timestamp": "2022-09-30T00:00:00",
           "value": 0.504401799140972,
           "variable": "3crv_fraction"
          },
          {
           "3crv_fraction": 0.504401799140972,
           "bean_fraction": 0.495598200859028,
           "deltaB": -125406.80859316666,
           "pool_tvl_usd": 28245611.46646048,
           "reserves_3crv": 14681190.971878795,
           "reserves_bean": 14119542.240401296,
           "timestamp": "2022-09-30T00:00:00",
           "value": 28245611.46646048,
           "variable": "pool_tvl_usd"
          },
          {
           "3crv_fraction": 0.5053551056700101,
           "bean_fraction": 0.49464489432999,
           "deltaB": -152573.518605375,
           "pool_tvl_usd": 28192998.214413613,
           "reserves_3crv": 14708089.953909867,
           "reserves_bean": 14092922.942142107,
           "timestamp": "2022-10-01T00:00:00",
           "value": 14708089.953909867,
           "variable": "reserves_3crv"
          },
          {
           "3crv_fraction": 0.5053551056700101,
           "bean_fraction": 0.49464489432999,
           "deltaB": -152573.518605375,
           "pool_tvl_usd": 28192998.214413613,
           "reserves_3crv": 14708089.953909867,
           "reserves_bean": 14092922.942142107,
           "timestamp": "2022-10-01T00:00:00",
           "value": 14092922.942142107,
           "variable": "reserves_bean"
          },
          {
           "3crv_fraction": 0.5053551056700101,
           "bean_fraction": 0.49464489432999,
           "deltaB": -152573.518605375,
           "pool_tvl_usd": 28192998.214413613,
           "reserves_3crv": 14708089.953909867,
           "reserves_bean": 14092922.942142107,
           "timestamp": "2022-10-01T00:00:00",
           "value": -152573.518605375,
           "variable": "deltaB"
          },
          {
           "3crv_fraction": 0.5053551056700101,
           "bean_fraction": 0.49464489432999,
           "deltaB": -152573.518605375,
           "pool_tvl_usd": 28192998.214413613,
           "reserves_3crv": 14708089.953909867,
           "reserves_bean": 14092922.942142107,
           "timestamp": "2022-10-01T00:00:00",
           "value": 0.49464489432999,
           "variable": "bean_fraction"
          },
          {
           "3crv_fraction": 0.5053551056700101,
           "bean_fraction": 0.49464489432999,
           "deltaB": -152573.518605375,
           "pool_tvl_usd": 28192998.214413613,
           "reserves_3crv": 14708089.953909867,
           "reserves_bean": 14092922.942142107,
           "timestamp": "2022-10-01T00:00:00",
           "value": 0.5053551056700101,
           "variable": "3crv_fraction"
          },
          {
           "3crv_fraction": 0.5053551056700101,
           "bean_fraction": 0.49464489432999,
           "deltaB": -152573.518605375,
           "pool_tvl_usd": 28192998.214413613,
           "reserves_3crv": 14708089.953909867,
           "reserves_bean": 14092922.942142107,
           "timestamp": "2022-10-01T00:00:00",
           "value": 28192998.214413613,
           "variable": "pool_tvl_usd"
          },
          {
           "3crv_fraction": 0.5095958934439382,
           "bean_fraction": 0.4904041065560618,
           "deltaB": -273479.5116848333,
           "pool_tvl_usd": 27970777.38031408,
           "reserves_3crv": 14829048.148781285,
           "reserves_bean": 13976334.767994607,
           "timestamp": "2022-10-02T00:00:00",
           "value": 14829048.148781285,
           "variable": "reserves_3crv"
          },
          {
           "3crv_fraction": 0.5095958934439382,
           "bean_fraction": 0.4904041065560618,
           "deltaB": -273479.5116848333,
           "pool_tvl_usd": 27970777.38031408,
           "reserves_3crv": 14829048.148781285,
           "reserves_bean": 13976334.767994607,
           "timestamp": "2022-10-02T00:00:00",
           "value": 13976334.767994607,
           "variable": "reserves_bean"
          },
          {
           "3crv_fraction": 0.5095958934439382,
           "bean_fraction": 0.4904041065560618,
           "deltaB": -273479.5116848333,
           "pool_tvl_usd": 27970777.38031408,
           "reserves_3crv": 14829048.148781285,
           "reserves_bean": 13976334.767994607,
           "timestamp": "2022-10-02T00:00:00",
           "value": -273479.5116848333,
           "variable": "deltaB"
          },
          {
           "3crv_fraction": 0.5095958934439382,
           "bean_fraction": 0.4904041065560618,
           "deltaB": -273479.5116848333,
           "pool_tvl_usd": 27970777.38031408,
           "reserves_3crv": 14829048.148781285,
           "reserves_bean": 13976334.767994607,
           "timestamp": "2022-10-02T00:00:00",
           "value": 0.4904041065560618,
           "variable": "bean_fraction"
          },
          {
           "3crv_fraction": 0.5095958934439382,
           "bean_fraction": 0.4904041065560618,
           "deltaB": -273479.5116848333,
           "pool_tvl_usd": 27970777.38031408,
           "reserves_3crv": 14829048.148781285,
           "reserves_bean": 13976334.767994607,
           "timestamp": "2022-10-02T00:00:00",
           "value": 0.5095958934439382,
           "variable": "3crv_fraction"
          },
          {
           "3crv_fraction": 0.5095958934439382,
           "bean_fraction": 0.4904041065560618,
           "deltaB": -273479.5116848333,
           "pool_tvl_usd": 27970777.38031408,
           "reserves_3crv": 14829048.148781285,
           "reserves_bean": 13976334.767994607,
           "timestamp": "2022-10-02T00:00:00",
           "value": 27970777.38031408,
           "variable": "pool_tvl_usd"
          },
          {
           "3crv_fraction": 0.5105987497679884,
           "bean_fraction": 0.4894012502320117,
           "deltaB": -301639.8036757083,
           "pool_tvl_usd": 27880538.13971323,
           "reserves_3crv": 14837822.886727972,
           "reserves_bean": 13930357.128954537,
           "timestamp": "2022-10-03T00:00:00",
           "value": 14837822.886727972,
           "variable": "reserves_3crv"
          },
          {
           "3crv_fraction": 0.5105987497679884,
           "bean_fraction": 0.4894012502320117,
           "deltaB": -301639.8036757083,
           "pool_tvl_usd": 27880538.13971323,
           "reserves_3crv": 14837822.886727972,
           "reserves_bean": 13930357.128954537,
           "timestamp": "2022-10-03T00:00:00",
           "value": 13930357.128954537,
           "variable": "reserves_bean"
          },
          {
           "3crv_fraction": 0.5105987497679884,
           "bean_fraction": 0.4894012502320117,
           "deltaB": -301639.8036757083,
           "pool_tvl_usd": 27880538.13971323,
           "reserves_3crv": 14837822.886727972,
           "reserves_bean": 13930357.128954537,
           "timestamp": "2022-10-03T00:00:00",
           "value": -301639.8036757083,
           "variable": "deltaB"
          },
          {
           "3crv_fraction": 0.5105987497679884,
           "bean_fraction": 0.4894012502320117,
           "deltaB": -301639.8036757083,
           "pool_tvl_usd": 27880538.13971323,
           "reserves_3crv": 14837822.886727972,
           "reserves_bean": 13930357.128954537,
           "timestamp": "2022-10-03T00:00:00",
           "value": 0.4894012502320117,
           "variable": "bean_fraction"
          },
          {
           "3crv_fraction": 0.5105987497679884,
           "bean_fraction": 0.4894012502320117,
           "deltaB": -301639.8036757083,
           "pool_tvl_usd": 27880538.13971323,
           "reserves_3crv": 14837822.886727972,
           "reserves_bean": 13930357.128954537,
           "timestamp": "2022-10-03T00:00:00",
           "value": 0.5105987497679884,
           "variable": "3crv_fraction"
          },
          {
           "3crv_fraction": 0.5105987497679884,
           "bean_fraction": 0.4894012502320117,
           "deltaB": -301639.8036757083,
           "pool_tvl_usd": 27880538.13971323,
           "reserves_3crv": 14837822.886727972,
           "reserves_bean": 13930357.128954537,
           "timestamp": "2022-10-03T00:00:00",
           "value": 27880538.13971323,
           "variable": "pool_tvl_usd"
          },
          {
           "3crv_fraction": 0.5123353343371891,
           "bean_fraction": 0.4876646656628108,
           "deltaB": -350236.03516208334,
           "pool_tvl_usd": 27718417.171230435,
           "reserves_3crv": 14848032.67945765,
           "reserves_bean": 13846243.066185439,
           "timestamp": "2022-10-04T00:00:00",
           "value": 14848032.67945765,
           "variable": "reserves_3crv"
          },
          {
           "3crv_fraction": 0.5123353343371891,
           "bean_fraction": 0.4876646656628108,
           "deltaB": -350236.03516208334,
           "pool_tvl_usd": 27718417.171230435,
           "reserves_3crv": 14848032.67945765,
           "reserves_bean": 13846243.066185439,
           "timestamp": "2022-10-04T00:00:00",
           "value": 13846243.066185439,
           "variable": "reserves_bean"
          },
          {
           "3crv_fraction": 0.5123353343371891,
           "bean_fraction": 0.4876646656628108,
           "deltaB": -350236.03516208334,
           "pool_tvl_usd": 27718417.171230435,
           "reserves_3crv": 14848032.67945765,
           "reserves_bean": 13846243.066185439,
           "timestamp": "2022-10-04T00:00:00",
           "value": -350236.03516208334,
           "variable": "deltaB"
          },
          {
           "3crv_fraction": 0.5123353343371891,
           "bean_fraction": 0.4876646656628108,
           "deltaB": -350236.03516208334,
           "pool_tvl_usd": 27718417.171230435,
           "reserves_3crv": 14848032.67945765,
           "reserves_bean": 13846243.066185439,
           "timestamp": "2022-10-04T00:00:00",
           "value": 0.4876646656628108,
           "variable": "bean_fraction"
          },
          {
           "3crv_fraction": 0.5123353343371891,
           "bean_fraction": 0.4876646656628108,
           "deltaB": -350236.03516208334,
           "pool_tvl_usd": 27718417.171230435,
           "reserves_3crv": 14848032.67945765,
           "reserves_bean": 13846243.066185439,
           "timestamp": "2022-10-04T00:00:00",
           "value": 0.5123353343371891,
           "variable": "3crv_fraction"
          },
          {
           "3crv_fraction": 0.5123353343371891,
           "bean_fraction": 0.4876646656628108,
           "deltaB": -350236.03516208334,
           "pool_tvl_usd": 27718417.171230435,
           "reserves_3crv": 14848032.67945765,
           "reserves_bean": 13846243.066185439,
           "timestamp": "2022-10-04T00:00:00",
           "value": 27718417.171230435,
           "variable": "pool_tvl_usd"
          },
          {
           "3crv_fraction": 0.5127804896690521,
           "bean_fraction": 0.48721951033094785,
           "deltaB": -362799.1311967916,
           "pool_tvl_usd": 27688883.44285577,
           "reserves_3crv": 14857013.096461406,
           "reserves_bean": 13830679.072387336,
           "timestamp": "2022-10-05T00:00:00",
           "value": 14857013.096461406,
           "variable": "reserves_3crv"
          },
          {
           "3crv_fraction": 0.5127804896690521,
           "bean_fraction": 0.48721951033094785,
           "deltaB": -362799.1311967916,
           "pool_tvl_usd": 27688883.44285577,
           "reserves_3crv": 14857013.096461406,
           "reserves_bean": 13830679.072387336,
           "timestamp": "2022-10-05T00:00:00",
           "value": 13830679.072387336,
           "variable": "reserves_bean"
          },
          {
           "3crv_fraction": 0.5127804896690521,
           "bean_fraction": 0.48721951033094785,
           "deltaB": -362799.1311967916,
           "pool_tvl_usd": 27688883.44285577,
           "reserves_3crv": 14857013.096461406,
           "reserves_bean": 13830679.072387336,
           "timestamp": "2022-10-05T00:00:00",
           "value": -362799.1311967916,
           "variable": "deltaB"
          },
          {
           "3crv_fraction": 0.5127804896690521,
           "bean_fraction": 0.48721951033094785,
           "deltaB": -362799.1311967916,
           "pool_tvl_usd": 27688883.44285577,
           "reserves_3crv": 14857013.096461406,
           "reserves_bean": 13830679.072387336,
           "timestamp": "2022-10-05T00:00:00",
           "value": 0.48721951033094785,
           "variable": "bean_fraction"
          },
          {
           "3crv_fraction": 0.5127804896690521,
           "bean_fraction": 0.48721951033094785,
           "deltaB": -362799.1311967916,
           "pool_tvl_usd": 27688883.44285577,
           "reserves_3crv": 14857013.096461406,
           "reserves_bean": 13830679.072387336,
           "timestamp": "2022-10-05T00:00:00",
           "value": 0.5127804896690521,
           "variable": "3crv_fraction"
          },
          {
           "3crv_fraction": 0.5127804896690521,
           "bean_fraction": 0.48721951033094785,
           "deltaB": -362799.1311967916,
           "pool_tvl_usd": 27688883.44285577,
           "reserves_3crv": 14857013.096461406,
           "reserves_bean": 13830679.072387336,
           "timestamp": "2022-10-05T00:00:00",
           "value": 27688883.44285577,
           "variable": "pool_tvl_usd"
          },
          {
           "3crv_fraction": 0.5130715124978025,
           "bean_fraction": 0.4869284875021975,
           "deltaB": -371058.60421491665,
           "pool_tvl_usd": 27673335.069112867,
           "reserves_3crv": 14864872.672849394,
           "reserves_bean": 13822347.805570021,
           "timestamp": "2022-10-06T00:00:00",
           "value": 14864872.672849394,
           "variable": "reserves_3crv"
          },
          {
           "3crv_fraction": 0.5130715124978025,
           "bean_fraction": 0.4869284875021975,
           "deltaB": -371058.60421491665,
           "pool_tvl_usd": 27673335.069112867,
           "reserves_3crv": 14864872.672849394,
           "reserves_bean": 13822347.805570021,
           "timestamp": "2022-10-06T00:00:00",
           "value": 13822347.805570021,
           "variable": "reserves_bean"
          },
          {
           "3crv_fraction": 0.5130715124978025,
           "bean_fraction": 0.4869284875021975,
           "deltaB": -371058.60421491665,
           "pool_tvl_usd": 27673335.069112867,
           "reserves_3crv": 14864872.672849394,
           "reserves_bean": 13822347.805570021,
           "timestamp": "2022-10-06T00:00:00",
           "value": -371058.60421491665,
           "variable": "deltaB"
          },
          {
           "3crv_fraction": 0.5130715124978025,
           "bean_fraction": 0.4869284875021975,
           "deltaB": -371058.60421491665,
           "pool_tvl_usd": 27673335.069112867,
           "reserves_3crv": 14864872.672849394,
           "reserves_bean": 13822347.805570021,
           "timestamp": "2022-10-06T00:00:00",
           "value": 0.4869284875021975,
           "variable": "bean_fraction"
          },
          {
           "3crv_fraction": 0.5130715124978025,
           "bean_fraction": 0.4869284875021975,
           "deltaB": -371058.60421491665,
           "pool_tvl_usd": 27673335.069112867,
           "reserves_3crv": 14864872.672849394,
           "reserves_bean": 13822347.805570021,
           "timestamp": "2022-10-06T00:00:00",
           "value": 0.5130715124978025,
           "variable": "3crv_fraction"
          },
          {
           "3crv_fraction": 0.5130715124978025,
           "bean_fraction": 0.4869284875021975,
           "deltaB": -371058.60421491665,
           "pool_tvl_usd": 27673335.069112867,
           "reserves_3crv": 14864872.672849394,
           "reserves_bean": 13822347.805570021,
           "timestamp": "2022-10-06T00:00:00",
           "value": 27673335.069112867,
           "variable": "pool_tvl_usd"
          },
          {
           "3crv_fraction": 0.5100455214063825,
           "bean_fraction": 0.4899544785936174,
           "deltaB": -285067.96763570834,
           "pool_tvl_usd": 27657789.610114917,
           "reserves_3crv": 14686583.88081204,
           "reserves_bean": 13815072.282369504,
           "timestamp": "2022-10-07T00:00:00",
           "value": 14686583.88081204,
           "variable": "reserves_3crv"
          },
          {
           "3crv_fraction": 0.5100455214063825,
           "bean_fraction": 0.4899544785936174,
           "deltaB": -285067.96763570834,
           "pool_tvl_usd": 27657789.610114917,
           "reserves_3crv": 14686583.88081204,
           "reserves_bean": 13815072.282369504,
           "timestamp": "2022-10-07T00:00:00",
           "value": 13815072.282369504,
           "variable": "reserves_bean"
          },
          {
           "3crv_fraction": 0.5100455214063825,
           "bean_fraction": 0.4899544785936174,
           "deltaB": -285067.96763570834,
           "pool_tvl_usd": 27657789.610114917,
           "reserves_3crv": 14686583.88081204,
           "reserves_bean": 13815072.282369504,
           "timestamp": "2022-10-07T00:00:00",
           "value": -285067.96763570834,
           "variable": "deltaB"
          },
          {
           "3crv_fraction": 0.5100455214063825,
           "bean_fraction": 0.4899544785936174,
           "deltaB": -285067.96763570834,
           "pool_tvl_usd": 27657789.610114917,
           "reserves_3crv": 14686583.88081204,
           "reserves_bean": 13815072.282369504,
           "timestamp": "2022-10-07T00:00:00",
           "value": 0.4899544785936174,
           "variable": "bean_fraction"
          },
          {
           "3crv_fraction": 0.5100455214063825,
           "bean_fraction": 0.4899544785936174,
           "deltaB": -285067.96763570834,
           "pool_tvl_usd": 27657789.610114917,
           "reserves_3crv": 14686583.88081204,
           "reserves_bean": 13815072.282369504,
           "timestamp": "2022-10-07T00:00:00",
           "value": 0.5100455214063825,
           "variable": "3crv_fraction"
          },
          {
           "3crv_fraction": 0.5100455214063825,
           "bean_fraction": 0.4899544785936174,
           "deltaB": -285067.96763570834,
           "pool_tvl_usd": 27657789.610114917,
           "reserves_3crv": 14686583.88081204,
           "reserves_bean": 13815072.282369504,
           "timestamp": "2022-10-07T00:00:00",
           "value": 27657789.610114917,
           "variable": "pool_tvl_usd"
          },
          {
           "3crv_fraction": 0.5011820686053307,
           "bean_fraction": 0.4988179313946692,
           "deltaB": -32662.5449255,
           "pool_tvl_usd": 27565194.735228952,
           "reserves_3crv": 14152370.133550705,
           "reserves_bean": 13782762.383059895,
           "timestamp": "2022-10-08T00:00:00",
           "value": 14152370.133550705,
           "variable": "reserves_3crv"
          },
          {
           "3crv_fraction": 0.5011820686053307,
           "bean_fraction": 0.4988179313946692,
           "deltaB": -32662.5449255,
           "pool_tvl_usd": 27565194.735228952,
           "reserves_3crv": 14152370.133550705,
           "reserves_bean": 13782762.383059895,
           "timestamp": "2022-10-08T00:00:00",
           "value": 13782762.383059895,
           "variable": "reserves_bean"
          },
          {
           "3crv_fraction": 0.5011820686053307,
           "bean_fraction": 0.4988179313946692,
           "deltaB": -32662.5449255,
           "pool_tvl_usd": 27565194.735228952,
           "reserves_3crv": 14152370.133550705,
           "reserves_bean": 13782762.383059895,
           "timestamp": "2022-10-08T00:00:00",
           "value": -32662.5449255,
           "variable": "deltaB"
          },
          {
           "3crv_fraction": 0.5011820686053307,
           "bean_fraction": 0.4988179313946692,
           "deltaB": -32662.5449255,
           "pool_tvl_usd": 27565194.735228952,
           "reserves_3crv": 14152370.133550705,
           "reserves_bean": 13782762.383059895,
           "timestamp": "2022-10-08T00:00:00",
           "value": 0.4988179313946692,
           "variable": "bean_fraction"
          },
          {
           "3crv_fraction": 0.5011820686053307,
           "bean_fraction": 0.4988179313946692,
           "deltaB": -32662.5449255,
           "pool_tvl_usd": 27565194.735228952,
           "reserves_3crv": 14152370.133550705,
           "reserves_bean": 13782762.383059895,
           "timestamp": "2022-10-08T00:00:00",
           "value": 0.5011820686053307,
           "variable": "3crv_fraction"
          },
          {
           "3crv_fraction": 0.5011820686053307,
           "bean_fraction": 0.4988179313946692,
           "deltaB": -32662.5449255,
           "pool_tvl_usd": 27565194.735228952,
           "reserves_3crv": 14152370.133550705,
           "reserves_bean": 13782762.383059895,
           "timestamp": "2022-10-08T00:00:00",
           "value": 27565194.735228952,
           "variable": "pool_tvl_usd"
          },
          {
           "3crv_fraction": 0.5017820292445881,
           "bean_fraction": 0.4982179707554118,
           "deltaB": -49228.57519720833,
           "pool_tvl_usd": 27528085.019493937,
           "reserves_3crv": 14164517.747310294,
           "reserves_bean": 13762244.84186686,
           "timestamp": "2022-10-09T00:00:00",
           "value": 14164517.747310294,
           "variable": "reserves_3crv"
          },
          {
           "3crv_fraction": 0.5017820292445881,
           "bean_fraction": 0.4982179707554118,
           "deltaB": -49228.57519720833,
           "pool_tvl_usd": 27528085.019493937,
           "reserves_3crv": 14164517.747310294,
           "reserves_bean": 13762244.84186686,
           "timestamp": "2022-10-09T00:00:00",
           "value": 13762244.84186686,
           "variable": "reserves_bean"
          },
          {
           "3crv_fraction": 0.5017820292445881,
           "bean_fraction": 0.4982179707554118,
           "deltaB": -49228.57519720833,
           "pool_tvl_usd": 27528085.019493937,
           "reserves_3crv": 14164517.747310294,
           "reserves_bean": 13762244.84186686,
           "timestamp": "2022-10-09T00:00:00",
           "value": -49228.57519720833,
           "variable": "deltaB"
          },
          {
           "3crv_fraction": 0.5017820292445881,
           "bean_fraction": 0.4982179707554118,
           "deltaB": -49228.57519720833,
           "pool_tvl_usd": 27528085.019493937,
           "reserves_3crv": 14164517.747310294,
           "reserves_bean": 13762244.84186686,
           "timestamp": "2022-10-09T00:00:00",
           "value": 0.4982179707554118,
           "variable": "bean_fraction"
          },
          {
           "3crv_fraction": 0.5017820292445881,
           "bean_fraction": 0.4982179707554118,
           "deltaB": -49228.57519720833,
           "pool_tvl_usd": 27528085.019493937,
           "reserves_3crv": 14164517.747310294,
           "reserves_bean": 13762244.84186686,
           "timestamp": "2022-10-09T00:00:00",
           "value": 0.5017820292445881,
           "variable": "3crv_fraction"
          },
          {
           "3crv_fraction": 0.5017820292445881,
           "bean_fraction": 0.4982179707554118,
           "deltaB": -49228.57519720833,
           "pool_tvl_usd": 27528085.019493937,
           "reserves_3crv": 14164517.747310294,
           "reserves_bean": 13762244.84186686,
           "timestamp": "2022-10-09T00:00:00",
           "value": 27528085.019493937,
           "variable": "pool_tvl_usd"
          },
          {
           "3crv_fraction": 0.5014066228179445,
           "bean_fraction": 0.4985933771820555,
           "deltaB": -38815.43184216667,
           "pool_tvl_usd": 27518979.99417838,
           "reserves_3crv": 14139976.82259223,
           "reserves_bean": 13758551.83628978,
           "timestamp": "2022-10-10T00:00:00",
           "value": 14139976.82259223,
           "variable": "reserves_3crv"
          },
          {
           "3crv_fraction": 0.5014066228179445,
           "bean_fraction": 0.4985933771820555,
           "deltaB": -38815.43184216667,
           "pool_tvl_usd": 27518979.99417838,
           "reserves_3crv": 14139976.82259223,
           "reserves_bean": 13758551.83628978,
           "timestamp": "2022-10-10T00:00:00",
           "value": 13758551.83628978,
           "variable": "reserves_bean"
          },
          {
           "3crv_fraction": 0.5014066228179445,
           "bean_fraction": 0.4985933771820555,
           "deltaB": -38815.43184216667,
           "pool_tvl_usd": 27518979.99417838,
           "reserves_3crv": 14139976.82259223,
           "reserves_bean": 13758551.83628978,
           "timestamp": "2022-10-10T00:00:00",
           "value": -38815.43184216667,
           "variable": "deltaB"
          },
          {
           "3crv_fraction": 0.5014066228179445,
           "bean_fraction": 0.4985933771820555,
           "deltaB": -38815.43184216667,
           "pool_tvl_usd": 27518979.99417838,
           "reserves_3crv": 14139976.82259223,
           "reserves_bean": 13758551.83628978,
           "timestamp": "2022-10-10T00:00:00",
           "value": 0.4985933771820555,
           "variable": "bean_fraction"
          },
          {
           "3crv_fraction": 0.5014066228179445,
           "bean_fraction": 0.4985933771820555,
           "deltaB": -38815.43184216667,
           "pool_tvl_usd": 27518979.99417838,
           "reserves_3crv": 14139976.82259223,
           "reserves_bean": 13758551.83628978,
           "timestamp": "2022-10-10T00:00:00",
           "value": 0.5014066228179445,
           "variable": "3crv_fraction"
          },
          {
           "3crv_fraction": 0.5014066228179445,
           "bean_fraction": 0.4985933771820555,
           "deltaB": -38815.43184216667,
           "pool_tvl_usd": 27518979.99417838,
           "reserves_3crv": 14139976.82259223,
           "reserves_bean": 13758551.83628978,
           "timestamp": "2022-10-10T00:00:00",
           "value": 27518979.99417838,
           "variable": "pool_tvl_usd"
          },
          {
           "3crv_fraction": 0.5002243245137943,
           "bean_fraction": 0.4997756754862058,
           "deltaB": -6183.543606458334,
           "pool_tvl_usd": 27514887.16374309,
           "reserves_3crv": 14072542.827471225,
           "reserves_bean": 13756320.397941446,
           "timestamp": "2022-10-11T00:00:00",
           "value": 14072542.827471225,
           "variable": "reserves_3crv"
          },
          {
           "3crv_fraction": 0.5002243245137943,
           "bean_fraction": 0.4997756754862058,
           "deltaB": -6183.543606458334,
           "pool_tvl_usd": 27514887.16374309,
           "reserves_3crv": 14072542.827471225,
           "reserves_bean": 13756320.397941446,
           "timestamp": "2022-10-11T00:00:00",
           "value": 13756320.397941446,
           "variable": "reserves_bean"
          },
          {
           "3crv_fraction": 0.5002243245137943,
           "bean_fraction": 0.4997756754862058,
           "deltaB": -6183.543606458334,
           "pool_tvl_usd": 27514887.16374309,
           "reserves_3crv": 14072542.827471225,
           "reserves_bean": 13756320.397941446,
           "timestamp": "2022-10-11T00:00:00",
           "value": -6183.543606458334,
           "variable": "deltaB"
          },
          {
           "3crv_fraction": 0.5002243245137943,
           "bean_fraction": 0.4997756754862058,
           "deltaB": -6183.543606458334,
           "pool_tvl_usd": 27514887.16374309,
           "reserves_3crv": 14072542.827471225,
           "reserves_bean": 13756320.397941446,
           "timestamp": "2022-10-11T00:00:00",
           "value": 0.4997756754862058,
           "variable": "bean_fraction"
          },
          {
           "3crv_fraction": 0.5002243245137943,
           "bean_fraction": 0.4997756754862058,
           "deltaB": -6183.543606458334,
           "pool_tvl_usd": 27514887.16374309,
           "reserves_3crv": 14072542.827471225,
           "reserves_bean": 13756320.397941446,
           "timestamp": "2022-10-11T00:00:00",
           "value": 0.5002243245137943,
           "variable": "3crv_fraction"
          },
          {
           "3crv_fraction": 0.5002243245137943,
           "bean_fraction": 0.4997756754862058,
           "deltaB": -6183.543606458334,
           "pool_tvl_usd": 27514887.16374309,
           "reserves_3crv": 14072542.827471225,
           "reserves_bean": 13756320.397941446,
           "timestamp": "2022-10-11T00:00:00",
           "value": 27514887.16374309,
           "variable": "pool_tvl_usd"
          },
          {
           "3crv_fraction": 0.4999968374487585,
           "bean_fraction": 0.5000031625512414,
           "deltaB": 87.03884341666667,
           "pool_tvl_usd": 27520323.60199277,
           "reserves_3crv": 14063918.28580349,
           "reserves_bean": 13760087.70685041,
           "timestamp": "2022-10-12T00:00:00",
           "value": 14063918.28580349,
           "variable": "reserves_3crv"
          },
          {
           "3crv_fraction": 0.4999968374487585,
           "bean_fraction": 0.5000031625512414,
           "deltaB": 87.03884341666667,
           "pool_tvl_usd": 27520323.60199277,
           "reserves_3crv": 14063918.28580349,
           "reserves_bean": 13760087.70685041,
           "timestamp": "2022-10-12T00:00:00",
           "value": 13760087.70685041,
           "variable": "reserves_bean"
          },
          {
           "3crv_fraction": 0.4999968374487585,
           "bean_fraction": 0.5000031625512414,
           "deltaB": 87.03884341666667,
           "pool_tvl_usd": 27520323.60199277,
           "reserves_3crv": 14063918.28580349,
           "reserves_bean": 13760087.70685041,
           "timestamp": "2022-10-12T00:00:00",
           "value": 87.03884341666667,
           "variable": "deltaB"
          },
          {
           "3crv_fraction": 0.4999968374487585,
           "bean_fraction": 0.5000031625512414,
           "deltaB": 87.03884341666667,
           "pool_tvl_usd": 27520323.60199277,
           "reserves_3crv": 14063918.28580349,
           "reserves_bean": 13760087.70685041,
           "timestamp": "2022-10-12T00:00:00",
           "value": 0.5000031625512414,
           "variable": "bean_fraction"
          },
          {
           "3crv_fraction": 0.4999968374487585,
           "bean_fraction": 0.5000031625512414,
           "deltaB": 87.03884341666667,
           "pool_tvl_usd": 27520323.60199277,
           "reserves_3crv": 14063918.28580349,
           "reserves_bean": 13760087.70685041,
           "timestamp": "2022-10-12T00:00:00",
           "value": 0.4999968374487585,
           "variable": "3crv_fraction"
          },
          {
           "3crv_fraction": 0.4999968374487585,
           "bean_fraction": 0.5000031625512414,
           "deltaB": 87.03884341666667,
           "pool_tvl_usd": 27520323.60199277,
           "reserves_3crv": 14063918.28580349,
           "reserves_bean": 13760087.70685041,
           "timestamp": "2022-10-12T00:00:00",
           "value": 27520323.60199277,
           "variable": "pool_tvl_usd"
          },
          {
           "3crv_fraction": 0.5000662191719427,
           "bean_fraction": 0.49993378082805734,
           "deltaB": -1822.8110475833334,
           "pool_tvl_usd": 27522446.22506948,
           "reserves_3crv": 14069043.031179829,
           "reserves_bean": 13761299.662544852,
           "timestamp": "2022-10-13T00:00:00",
           "value": 14069043.031179829,
           "variable": "reserves_3crv"
          },
          {
           "3crv_fraction": 0.5000662191719427,
           "bean_fraction": 0.49993378082805734,
           "deltaB": -1822.8110475833334,
           "pool_tvl_usd": 27522446.22506948,
           "reserves_3crv": 14069043.031179829,
           "reserves_bean": 13761299.662544852,
           "timestamp": "2022-10-13T00:00:00",
           "value": 13761299.662544852,
           "variable": "reserves_bean"
          },
          {
           "3crv_fraction": 0.5000662191719427,
           "bean_fraction": 0.49993378082805734,
           "deltaB": -1822.8110475833334,
           "pool_tvl_usd": 27522446.22506948,
           "reserves_3crv": 14069043.031179829,
           "reserves_bean": 13761299.662544852,
           "timestamp": "2022-10-13T00:00:00",
           "value": -1822.8110475833334,
           "variable": "deltaB"
          },
          {
           "3crv_fraction": 0.5000662191719427,
           "bean_fraction": 0.49993378082805734,
           "deltaB": -1822.8110475833334,
           "pool_tvl_usd": 27522446.22506948,
           "reserves_3crv": 14069043.031179829,
           "reserves_bean": 13761299.662544852,
           "timestamp": "2022-10-13T00:00:00",
           "value": 0.49993378082805734,
           "variable": "bean_fraction"
          },
          {
           "3crv_fraction": 0.5000662191719427,
           "bean_fraction": 0.49993378082805734,
           "deltaB": -1822.8110475833334,
           "pool_tvl_usd": 27522446.22506948,
           "reserves_3crv": 14069043.031179829,
           "reserves_bean": 13761299.662544852,
           "timestamp": "2022-10-13T00:00:00",
           "value": 0.5000662191719427,
           "variable": "3crv_fraction"
          },
          {
           "3crv_fraction": 0.5000662191719427,
           "bean_fraction": 0.49993378082805734,
           "deltaB": -1822.8110475833334,
           "pool_tvl_usd": 27522446.22506948,
           "reserves_3crv": 14069043.031179829,
           "reserves_bean": 13761299.662544852,
           "timestamp": "2022-10-13T00:00:00",
           "value": 27522446.22506948,
           "variable": "pool_tvl_usd"
          },
          {
           "3crv_fraction": 0.500129571766317,
           "bean_fraction": 0.49987042823368316,
           "deltaB": -3564.59240125,
           "pool_tvl_usd": 27502057.34418555,
           "reserves_3crv": 14062140.499578996,
           "reserves_bean": 13751097.865637658,
           "timestamp": "2022-10-14T00:00:00",
           "value": 14062140.499578996,
           "variable": "reserves_3crv"
          },
          {
           "3crv_fraction": 0.500129571766317,
           "bean_fraction": 0.49987042823368316,
           "deltaB": -3564.59240125,
           "pool_tvl_usd": 27502057.34418555,
           "reserves_3crv": 14062140.499578996,
           "reserves_bean": 13751097.865637658,
           "timestamp": "2022-10-14T00:00:00",
           "value": 13751097.865637658,
           "variable": "reserves_bean"
          },
          {
           "3crv_fraction": 0.500129571766317,
           "bean_fraction": 0.49987042823368316,
           "deltaB": -3564.59240125,
           "pool_tvl_usd": 27502057.34418555,
           "reserves_3crv": 14062140.499578996,
           "reserves_bean": 13751097.865637658,
           "timestamp": "2022-10-14T00:00:00",
           "value": -3564.59240125,
           "variable": "deltaB"
          },
          {
           "3crv_fraction": 0.500129571766317,
           "bean_fraction": 0.49987042823368316,
           "deltaB": -3564.59240125,
           "pool_tvl_usd": 27502057.34418555,
           "reserves_3crv": 14062140.499578996,
           "reserves_bean": 13751097.865637658,
           "timestamp": "2022-10-14T00:00:00",
           "value": 0.49987042823368316,
           "variable": "bean_fraction"
          },
          {
           "3crv_fraction": 0.500129571766317,
           "bean_fraction": 0.49987042823368316,
           "deltaB": -3564.59240125,
           "pool_tvl_usd": 27502057.34418555,
           "reserves_3crv": 14062140.499578996,
           "reserves_bean": 13751097.865637658,
           "timestamp": "2022-10-14T00:00:00",
           "value": 0.500129571766317,
           "variable": "3crv_fraction"
          },
          {
           "3crv_fraction": 0.500129571766317,
           "bean_fraction": 0.49987042823368316,
           "deltaB": -3564.59240125,
           "pool_tvl_usd": 27502057.34418555,
           "reserves_3crv": 14062140.499578996,
           "reserves_bean": 13751097.865637658,
           "timestamp": "2022-10-14T00:00:00",
           "value": 27502057.34418555,
           "variable": "pool_tvl_usd"
          },
          {
           "3crv_fraction": 0.5001363217208431,
           "bean_fraction": 0.49986367827915684,
           "deltaB": -3746.7066385833336,
           "pool_tvl_usd": 27472917.21798964,
           "reserves_3crv": 14047650.640959928,
           "reserves_bean": 13736545.846365377,
           "timestamp": "2022-10-15T00:00:00",
           "value": 14047650.640959928,
           "variable": "reserves_3crv"
          },
          {
           "3crv_fraction": 0.5001363217208431,
           "bean_fraction": 0.49986367827915684,
           "deltaB": -3746.7066385833336,
           "pool_tvl_usd": 27472917.21798964,
           "reserves_3crv": 14047650.640959928,
           "reserves_bean": 13736545.846365377,
           "timestamp": "2022-10-15T00:00:00",
           "value": 13736545.846365377,
           "variable": "reserves_bean"
          },
          {
           "3crv_fraction": 0.5001363217208431,
           "bean_fraction": 0.49986367827915684,
           "deltaB": -3746.7066385833336,
           "pool_tvl_usd": 27472917.21798964,
           "reserves_3crv": 14047650.640959928,
           "reserves_bean": 13736545.846365377,
           "timestamp": "2022-10-15T00:00:00",
           "value": -3746.7066385833336,
           "variable": "deltaB"
          },
          {
           "3crv_fraction": 0.5001363217208431,
           "bean_fraction": 0.49986367827915684,
           "deltaB": -3746.7066385833336,
           "pool_tvl_usd": 27472917.21798964,
           "reserves_3crv": 14047650.640959928,
           "reserves_bean": 13736545.846365377,
           "timestamp": "2022-10-15T00:00:00",
           "value": 0.49986367827915684,
           "variable": "bean_fraction"
          },
          {
           "3crv_fraction": 0.5001363217208431,
           "bean_fraction": 0.49986367827915684,
           "deltaB": -3746.7066385833336,
           "pool_tvl_usd": 27472917.21798964,
           "reserves_3crv": 14047650.640959928,
           "reserves_bean": 13736545.846365377,
           "timestamp": "2022-10-15T00:00:00",
           "value": 0.5001363217208431,
           "variable": "3crv_fraction"
          },
          {
           "3crv_fraction": 0.5001363217208431,
           "bean_fraction": 0.49986367827915684,
           "deltaB": -3746.7066385833336,
           "pool_tvl_usd": 27472917.21798964,
           "reserves_3crv": 14047650.640959928,
           "reserves_bean": 13736545.846365377,
           "timestamp": "2022-10-15T00:00:00",
           "value": 27472917.21798964,
           "variable": "pool_tvl_usd"
          },
          {
           "3crv_fraction": 0.5006668479224464,
           "bean_fraction": 0.4993331520775535,
           "deltaB": -18320.424637833334,
           "pool_tvl_usd": 27436363.81569806,
           "reserves_3crv": 14058089.217529656,
           "reserves_bean": 13718241.033639684,
           "timestamp": "2022-10-16T00:00:00",
           "value": 14058089.217529656,
           "variable": "reserves_3crv"
          },
          {
           "3crv_fraction": 0.5006668479224464,
           "bean_fraction": 0.4993331520775535,
           "deltaB": -18320.424637833334,
           "pool_tvl_usd": 27436363.81569806,
           "reserves_3crv": 14058089.217529656,
           "reserves_bean": 13718241.033639684,
           "timestamp": "2022-10-16T00:00:00",
           "value": 13718241.033639684,
           "variable": "reserves_bean"
          },
          {
           "3crv_fraction": 0.5006668479224464,
           "bean_fraction": 0.4993331520775535,
           "deltaB": -18320.424637833334,
           "pool_tvl_usd": 27436363.81569806,
           "reserves_3crv": 14058089.217529656,
           "reserves_bean": 13718241.033639684,
           "timestamp": "2022-10-16T00:00:00",
           "value": -18320.424637833334,
           "variable": "deltaB"
          },
          {
           "3crv_fraction": 0.5006668479224464,
           "bean_fraction": 0.4993331520775535,
           "deltaB": -18320.424637833334,
           "pool_tvl_usd": 27436363.81569806,
           "reserves_3crv": 14058089.217529656,
           "reserves_bean": 13718241.033639684,
           "timestamp": "2022-10-16T00:00:00",
           "value": 0.4993331520775535,
           "variable": "bean_fraction"
          },
          {
           "3crv_fraction": 0.5006668479224464,
           "bean_fraction": 0.4993331520775535,
           "deltaB": -18320.424637833334,
           "pool_tvl_usd": 27436363.81569806,
           "reserves_3crv": 14058089.217529656,
           "reserves_bean": 13718241.033639684,
           "timestamp": "2022-10-16T00:00:00",
           "value": 0.5006668479224464,
           "variable": "3crv_fraction"
          },
          {
           "3crv_fraction": 0.5006668479224464,
           "bean_fraction": 0.4993331520775535,
           "deltaB": -18320.424637833334,
           "pool_tvl_usd": 27436363.81569806,
           "reserves_3crv": 14058089.217529656,
           "reserves_bean": 13718241.033639684,
           "timestamp": "2022-10-16T00:00:00",
           "value": 27436363.81569806,
           "variable": "pool_tvl_usd"
          },
          {
           "3crv_fraction": 0.5009185923265255,
           "bean_fraction": 0.4990814076734745,
           "deltaB": -25237.70405575,
           "pool_tvl_usd": 27398326.214495808,
           "reserves_3crv": 14051885.845231118,
           "reserves_bean": 13698606.176536819,
           "timestamp": "2022-10-17T00:00:00",
           "value": 14051885.845231118,
           "variable": "reserves_3crv"
          },
          {
           "3crv_fraction": 0.5009185923265255,
           "bean_fraction": 0.4990814076734745,
           "deltaB": -25237.70405575,
           "pool_tvl_usd": 27398326.214495808,
           "reserves_3crv": 14051885.845231118,
           "reserves_bean": 13698606.176536819,
           "timestamp": "2022-10-17T00:00:00",
           "value": 13698606.176536819,
           "variable": "reserves_bean"
          },
          {
           "3crv_fraction": 0.5009185923265255,
           "bean_fraction": 0.4990814076734745,
           "deltaB": -25237.70405575,
           "pool_tvl_usd": 27398326.214495808,
           "reserves_3crv": 14051885.845231118,
           "reserves_bean": 13698606.176536819,
           "timestamp": "2022-10-17T00:00:00",
           "value": -25237.70405575,
           "variable": "deltaB"
          },
          {
           "3crv_fraction": 0.5009185923265255,
           "bean_fraction": 0.4990814076734745,
           "deltaB": -25237.70405575,
           "pool_tvl_usd": 27398326.214495808,
           "reserves_3crv": 14051885.845231118,
           "reserves_bean": 13698606.176536819,
           "timestamp": "2022-10-17T00:00:00",
           "value": 0.4990814076734745,
           "variable": "bean_fraction"
          },
          {
           "3crv_fraction": 0.5009185923265255,
           "bean_fraction": 0.4990814076734745,
           "deltaB": -25237.70405575,
           "pool_tvl_usd": 27398326.214495808,
           "reserves_3crv": 14051885.845231118,
           "reserves_bean": 13698606.176536819,
           "timestamp": "2022-10-17T00:00:00",
           "value": 0.5009185923265255,
           "variable": "3crv_fraction"
          },
          {
           "3crv_fraction": 0.5009185923265255,
           "bean_fraction": 0.4990814076734745,
           "deltaB": -25237.70405575,
           "pool_tvl_usd": 27398326.214495808,
           "reserves_3crv": 14051885.845231118,
           "reserves_bean": 13698606.176536819,
           "timestamp": "2022-10-17T00:00:00",
           "value": 27398326.214495808,
           "variable": "pool_tvl_usd"
          },
          {
           "3crv_fraction": 0.5000159177578266,
           "bean_fraction": 0.49998408224217344,
           "deltaB": -436.0627264583333,
           "pool_tvl_usd": 27394116.246679768,
           "reserves_3crv": 14000763.147463828,
           "reserves_bean": 13697018.145478882,
           "timestamp": "2022-10-18T00:00:00",
           "value": 14000763.147463828,
           "variable": "reserves_3crv"
          },
          {
           "3crv_fraction": 0.5000159177578266,
           "bean_fraction": 0.49998408224217344,
           "deltaB": -436.0627264583333,
           "pool_tvl_usd": 27394116.246679768,
           "reserves_3crv": 14000763.147463828,
           "reserves_bean": 13697018.145478882,
           "timestamp": "2022-10-18T00:00:00",
           "value": 13697018.145478882,
           "variable": "reserves_bean"
          },
          {
           "3crv_fraction": 0.5000159177578266,
           "bean_fraction": 0.49998408224217344,
           "deltaB": -436.0627264583333,
           "pool_tvl_usd": 27394116.246679768,
           "reserves_3crv": 14000763.147463828,
           "reserves_bean": 13697018.145478882,
           "timestamp": "2022-10-18T00:00:00",
           "value": -436.0627264583333,
           "variable": "deltaB"
          },
          {
           "3crv_fraction": 0.5000159177578266,
           "bean_fraction": 0.49998408224217344,
           "deltaB": -436.0627264583333,
           "pool_tvl_usd": 27394116.246679768,
           "reserves_3crv": 14000763.147463828,
           "reserves_bean": 13697018.145478882,
           "timestamp": "2022-10-18T00:00:00",
           "value": 0.49998408224217344,
           "variable": "bean_fraction"
          },
          {
           "3crv_fraction": 0.5000159177578266,
           "bean_fraction": 0.49998408224217344,
           "deltaB": -436.0627264583333,
           "pool_tvl_usd": 27394116.246679768,
           "reserves_3crv": 14000763.147463828,
           "reserves_bean": 13697018.145478882,
           "timestamp": "2022-10-18T00:00:00",
           "value": 0.5000159177578266,
           "variable": "3crv_fraction"
          },
          {
           "3crv_fraction": 0.5000159177578266,
           "bean_fraction": 0.49998408224217344,
           "deltaB": -436.0627264583333,
           "pool_tvl_usd": 27394116.246679768,
           "reserves_3crv": 14000763.147463828,
           "reserves_bean": 13697018.145478882,
           "timestamp": "2022-10-18T00:00:00",
           "value": 27394116.246679768,
           "variable": "pool_tvl_usd"
          },
          {
           "3crv_fraction": 0.5000097229474335,
           "bean_fraction": 0.4999902770525664,
           "deltaB": -266.3677644583333,
           "pool_tvl_usd": 27382269.15716399,
           "reserves_3crv": 13994465.779162869,
           "reserves_bean": 13691155.362058379,
           "timestamp": "2022-10-19T00:00:00",
           "value": 13994465.779162869,
           "variable": "reserves_3crv"
          },
          {
           "3crv_fraction": 0.5000097229474335,
           "bean_fraction": 0.4999902770525664,
           "deltaB": -266.3677644583333,
           "pool_tvl_usd": 27382269.15716399,
           "reserves_3crv": 13994465.779162869,
           "reserves_bean": 13691155.362058379,
           "timestamp": "2022-10-19T00:00:00",
           "value": 13691155.362058379,
           "variable": "reserves_bean"
          },
          {
           "3crv_fraction": 0.5000097229474335,
           "bean_fraction": 0.4999902770525664,
           "deltaB": -266.3677644583333,
           "pool_tvl_usd": 27382269.15716399,
           "reserves_3crv": 13994465.779162869,
           "reserves_bean": 13691155.362058379,
           "timestamp": "2022-10-19T00:00:00",
           "value": -266.3677644583333,
           "variable": "deltaB"
          },
          {
           "3crv_fraction": 0.5000097229474335,
           "bean_fraction": 0.4999902770525664,
           "deltaB": -266.3677644583333,
           "pool_tvl_usd": 27382269.15716399,
           "reserves_3crv": 13994465.779162869,
           "reserves_bean": 13691155.362058379,
           "timestamp": "2022-10-19T00:00:00",
           "value": 0.4999902770525664,
           "variable": "bean_fraction"
          },
          {
           "3crv_fraction": 0.5000097229474335,
           "bean_fraction": 0.4999902770525664,
           "deltaB": -266.3677644583333,
           "pool_tvl_usd": 27382269.15716399,
           "reserves_3crv": 13994465.779162869,
           "reserves_bean": 13691155.362058379,
           "timestamp": "2022-10-19T00:00:00",
           "value": 0.5000097229474335,
           "variable": "3crv_fraction"
          },
          {
           "3crv_fraction": 0.5000097229474335,
           "bean_fraction": 0.4999902770525664,
           "deltaB": -266.3677644583333,
           "pool_tvl_usd": 27382269.15716399,
           "reserves_3crv": 13994465.779162869,
           "reserves_bean": 13691155.362058379,
           "timestamp": "2022-10-19T00:00:00",
           "value": 27382269.15716399,
           "variable": "pool_tvl_usd"
          },
          {
           "3crv_fraction": 0.5000199198217837,
           "bean_fraction": 0.4999800801782163,
           "deltaB": -545.1739261250001,
           "pool_tvl_usd": 27356487.417519603,
           "reserves_3crv": 13981929.541483285,
           "reserves_bean": 13678304.536821468,
           "timestamp": "2022-10-20T00:00:00",
           "value": 13981929.541483285,
           "variable": "reserves_3crv"
          },
          {
           "3crv_fraction": 0.5000199198217837,
           "bean_fraction": 0.4999800801782163,
           "deltaB": -545.1739261250001,
           "pool_tvl_usd": 27356487.417519603,
           "reserves_3crv": 13981929.541483285,
           "reserves_bean": 13678304.536821468,
           "timestamp": "2022-10-20T00:00:00",
           "value": 13678304.536821468,
           "variable": "reserves_bean"
          },
          {
           "3crv_fraction": 0.5000199198217837,
           "bean_fraction": 0.4999800801782163,
           "deltaB": -545.1739261250001,
           "pool_tvl_usd": 27356487.417519603,
           "reserves_3crv": 13981929.541483285,
           "reserves_bean": 13678304.536821468,
           "timestamp": "2022-10-20T00:00:00",
           "value": -545.1739261250001,
           "variable": "deltaB"
          },
          {
           "3crv_fraction": 0.5000199198217837,
           "bean_fraction": 0.4999800801782163,
           "deltaB": -545.1739261250001,
           "pool_tvl_usd": 27356487.417519603,
           "reserves_3crv": 13981929.541483285,
           "reserves_bean": 13678304.536821468,
           "timestamp": "2022-10-20T00:00:00",
           "value": 0.4999800801782163,
           "variable": "bean_fraction"
          },
          {
           "3crv_fraction": 0.5000199198217837,
           "bean_fraction": 0.4999800801782163,
           "deltaB": -545.1739261250001,
           "pool_tvl_usd": 27356487.417519603,
           "reserves_3crv": 13981929.541483285,
           "reserves_bean": 13678304.536821468,
           "timestamp": "2022-10-20T00:00:00",
           "value": 0.5000199198217837,
           "variable": "3crv_fraction"
          },
          {
           "3crv_fraction": 0.5000199198217837,
           "bean_fraction": 0.4999800801782163,
           "deltaB": -545.1739261250001,
           "pool_tvl_usd": 27356487.417519603,
           "reserves_3crv": 13981929.541483285,
           "reserves_bean": 13678304.536821468,
           "timestamp": "2022-10-20T00:00:00",
           "value": 27356487.417519603,
           "variable": "pool_tvl_usd"
          },
          {
           "3crv_fraction": 0.5001203378024517,
           "bean_fraction": 0.4998796621975485,
           "deltaB": -3290.959700666667,
           "pool_tvl_usd": 27341284.166324046,
           "reserves_3crv": 13979465.521868855,
           "reserves_bean": 13670467.599893661,
           "timestamp": "2022-10-21T00:00:00",
           "value": 13979465.521868855,
           "variable": "reserves_3crv"
          },
          {
           "3crv_fraction": 0.5001203378024517,
           "bean_fraction": 0.4998796621975485,
           "deltaB": -3290.959700666667,
           "pool_tvl_usd": 27341284.166324046,
           "reserves_3crv": 13979465.521868855,
           "reserves_bean": 13670467.599893661,
           "timestamp": "2022-10-21T00:00:00",
           "value": 13670467.599893661,
           "variable": "reserves_bean"
          },
          {
           "3crv_fraction": 0.5001203378024517,
           "bean_fraction": 0.4998796621975485,
           "deltaB": -3290.959700666667,
           "pool_tvl_usd": 27341284.166324046,
           "reserves_3crv": 13979465.521868855,
           "reserves_bean": 13670467.599893661,
           "timestamp": "2022-10-21T00:00:00",
           "value": -3290.959700666667,
           "variable": "deltaB"
          },
          {
           "3crv_fraction": 0.5001203378024517,
           "bean_fraction": 0.4998796621975485,
           "deltaB": -3290.959700666667,
           "pool_tvl_usd": 27341284.166324046,
           "reserves_3crv": 13979465.521868855,
           "reserves_bean": 13670467.599893661,
           "timestamp": "2022-10-21T00:00:00",
           "value": 0.4998796621975485,
           "variable": "bean_fraction"
          },
          {
           "3crv_fraction": 0.5001203378024517,
           "bean_fraction": 0.4998796621975485,
           "deltaB": -3290.959700666667,
           "pool_tvl_usd": 27341284.166324046,
           "reserves_3crv": 13979465.521868855,
           "reserves_bean": 13670467.599893661,
           "timestamp": "2022-10-21T00:00:00",
           "value": 0.5001203378024517,
           "variable": "3crv_fraction"
          },
          {
           "3crv_fraction": 0.5001203378024517,
           "bean_fraction": 0.4998796621975485,
           "deltaB": -3290.959700666667,
           "pool_tvl_usd": 27341284.166324046,
           "reserves_3crv": 13979465.521868855,
           "reserves_bean": 13670467.599893661,
           "timestamp": "2022-10-21T00:00:00",
           "value": 27341284.166324046,
           "variable": "pool_tvl_usd"
          },
          {
           "3crv_fraction": 0.5000099038414682,
           "bean_fraction": 0.4999900961585318,
           "deltaB": -270.68765766666667,
           "pool_tvl_usd": 27340118.273826554,
           "reserves_3crv": 13973004.516253596,
           "reserves_bean": 13669978.61670924,
           "timestamp": "2022-10-22T00:00:00",
           "value": 13973004.516253596,
           "variable": "reserves_3crv"
          },
          {
           "3crv_fraction": 0.5000099038414682,
           "bean_fraction": 0.4999900961585318,
           "deltaB": -270.68765766666667,
           "pool_tvl_usd": 27340118.273826554,
           "reserves_3crv": 13973004.516253596,
           "reserves_bean": 13669978.61670924,
           "timestamp": "2022-10-22T00:00:00",
           "value": 13669978.61670924,
           "variable": "reserves_bean"
          },
          {
           "3crv_fraction": 0.5000099038414682,
           "bean_fraction": 0.4999900961585318,
           "deltaB": -270.68765766666667,
           "pool_tvl_usd": 27340118.273826554,
           "reserves_3crv": 13973004.516253596,
           "reserves_bean": 13669978.61670924,
           "timestamp": "2022-10-22T00:00:00",
           "value": -270.68765766666667,
           "variable": "deltaB"
          },
          {
           "3crv_fraction": 0.5000099038414682,
           "bean_fraction": 0.4999900961585318,
           "deltaB": -270.68765766666667,
           "pool_tvl_usd": 27340118.273826554,
           "reserves_3crv": 13973004.516253596,
           "reserves_bean": 13669978.61670924,
           "timestamp": "2022-10-22T00:00:00",
           "value": 0.4999900961585318,
           "variable": "bean_fraction"
          },
          {
           "3crv_fraction": 0.5000099038414682,
           "bean_fraction": 0.4999900961585318,
           "deltaB": -270.68765766666667,
           "pool_tvl_usd": 27340118.273826554,
           "reserves_3crv": 13973004.516253596,
           "reserves_bean": 13669978.61670924,
           "timestamp": "2022-10-22T00:00:00",
           "value": 0.5000099038414682,
           "variable": "3crv_fraction"
          },
          {
           "3crv_fraction": 0.5000099038414682,
           "bean_fraction": 0.4999900961585318,
           "deltaB": -270.68765766666667,
           "pool_tvl_usd": 27340118.273826554,
           "reserves_3crv": 13973004.516253596,
           "reserves_bean": 13669978.61670924,
           "timestamp": "2022-10-22T00:00:00",
           "value": 27340118.273826554,
           "variable": "pool_tvl_usd"
          },
          {
           "3crv_fraction": 0.500158180272448,
           "bean_fraction": 0.4998418197275521,
           "deltaB": -4323.477016875,
           "pool_tvl_usd": 27323099.60969248,
           "reserves_3crv": 13972447.164054746,
           "reserves_bean": 13661473.734549075,
           "timestamp": "2022-10-23T00:00:00",
           "value": 13972447.164054746,
           "variable": "reserves_3crv"
          },
          {
           "3crv_fraction": 0.500158180272448,
           "bean_fraction": 0.4998418197275521,
           "deltaB": -4323.477016875,
           "pool_tvl_usd": 27323099.60969248,
           "reserves_3crv": 13972447.164054746,
           "reserves_bean": 13661473.734549075,
           "timestamp": "2022-10-23T00:00:00",
           "value": 13661473.734549075,
           "variable": "reserves_bean"
          },
          {
           "3crv_fraction": 0.500158180272448,
           "bean_fraction": 0.4998418197275521,
           "deltaB": -4323.477016875,
           "pool_tvl_usd": 27323099.60969248,
           "reserves_3crv": 13972447.164054746,
           "reserves_bean": 13661473.734549075,
           "timestamp": "2022-10-23T00:00:00",
           "value": -4323.477016875,
           "variable": "deltaB"
          },
          {
           "3crv_fraction": 0.500158180272448,
           "bean_fraction": 0.4998418197275521,
           "deltaB": -4323.477016875,
           "pool_tvl_usd": 27323099.60969248,
           "reserves_3crv": 13972447.164054746,
           "reserves_bean": 13661473.734549075,
           "timestamp": "2022-10-23T00:00:00",
           "value": 0.4998418197275521,
           "variable": "bean_fraction"
          },
          {
           "3crv_fraction": 0.500158180272448,
           "bean_fraction": 0.4998418197275521,
           "deltaB": -4323.477016875,
           "pool_tvl_usd": 27323099.60969248,
           "reserves_3crv": 13972447.164054746,
           "reserves_bean": 13661473.734549075,
           "timestamp": "2022-10-23T00:00:00",
           "value": 0.500158180272448,
           "variable": "3crv_fraction"
          },
          {
           "3crv_fraction": 0.500158180272448,
           "bean_fraction": 0.4998418197275521,
           "deltaB": -4323.477016875,
           "pool_tvl_usd": 27323099.60969248,
           "reserves_3crv": 13972447.164054746,
           "reserves_bean": 13661473.734549075,
           "timestamp": "2022-10-23T00:00:00",
           "value": 27323099.60969248,
           "variable": "pool_tvl_usd"
          },
          {
           "3crv_fraction": 0.49997989105935975,
           "bean_fraction": 0.5000201089406403,
           "deltaB": 549.140502625,
           "pool_tvl_usd": 27308925.819863673,
           "reserves_3crv": 13955571.95604928,
           "reserves_bean": 13654454.511199666,
           "timestamp": "2022-10-24T00:00:00",
           "value": 13955571.95604928,
           "variable": "reserves_3crv"
          },
          {
           "3crv_fraction": 0.49997989105935975,
           "bean_fraction": 0.5000201089406403,
           "deltaB": 549.140502625,
           "pool_tvl_usd": 27308925.819863673,
           "reserves_3crv": 13955571.95604928,
           "reserves_bean": 13654454.511199666,
           "timestamp": "2022-10-24T00:00:00",
           "value": 13654454.511199666,
           "variable": "reserves_bean"
          },
          {
           "3crv_fraction": 0.49997989105935975,
           "bean_fraction": 0.5000201089406403,
           "deltaB": 549.140502625,
           "pool_tvl_usd": 27308925.819863673,
           "reserves_3crv": 13955571.95604928,
           "reserves_bean": 13654454.511199666,
           "timestamp": "2022-10-24T00:00:00",
           "value": 549.140502625,
           "variable": "deltaB"
          },
          {
           "3crv_fraction": 0.49997989105935975,
           "bean_fraction": 0.5000201089406403,
           "deltaB": 549.140502625,
           "pool_tvl_usd": 27308925.819863673,
           "reserves_3crv": 13955571.95604928,
           "reserves_bean": 13654454.511199666,
           "timestamp": "2022-10-24T00:00:00",
           "value": 0.5000201089406403,
           "variable": "bean_fraction"
          },
          {
           "3crv_fraction": 0.49997989105935975,
           "bean_fraction": 0.5000201089406403,
           "deltaB": 549.140502625,
           "pool_tvl_usd": 27308925.819863673,
           "reserves_3crv": 13955571.95604928,
           "reserves_bean": 13654454.511199666,
           "timestamp": "2022-10-24T00:00:00",
           "value": 0.49997989105935975,
           "variable": "3crv_fraction"
          },
          {
           "3crv_fraction": 0.49997989105935975,
           "bean_fraction": 0.5000201089406403,
           "deltaB": 549.140502625,
           "pool_tvl_usd": 27308925.819863673,
           "reserves_3crv": 13955571.95604928,
           "reserves_bean": 13654454.511199666,
           "timestamp": "2022-10-24T00:00:00",
           "value": 27308925.819863673,
           "variable": "pool_tvl_usd"
          },
          {
           "3crv_fraction": 0.49997745519665754,
           "bean_fraction": 0.5000225448033426,
           "deltaB": 615.876819125,
           "pool_tvl_usd": 27318691.37896815,
           "reserves_3crv": 13960527.73102503,
           "reserves_bean": 13659364.55591815,
           "timestamp": "2022-10-25T00:00:00",
           "value": 13960527.73102503,
           "variable": "reserves_3crv"
          },
          {
           "3crv_fraction": 0.49997745519665754,
           "bean_fraction": 0.5000225448033426,
           "deltaB": 615.876819125,
           "pool_tvl_usd": 27318691.37896815,
           "reserves_3crv": 13960527.73102503,
           "reserves_bean": 13659364.55591815,
           "timestamp": "2022-10-25T00:00:00",
           "value": 13659364.55591815,
           "variable": "reserves_bean"
          },
          {
           "3crv_fraction": 0.49997745519665754,
           "bean_fraction": 0.5000225448033426,
           "deltaB": 615.876819125,
           "pool_tvl_usd": 27318691.37896815,
           "reserves_3crv": 13960527.73102503,
           "reserves_bean": 13659364.55591815,
           "timestamp": "2022-10-25T00:00:00",
           "value": 615.876819125,
           "variable": "deltaB"
          },
          {
           "3crv_fraction": 0.49997745519665754,
           "bean_fraction": 0.5000225448033426,
           "deltaB": 615.876819125,
           "pool_tvl_usd": 27318691.37896815,
           "reserves_3crv": 13960527.73102503,
           "reserves_bean": 13659364.55591815,
           "timestamp": "2022-10-25T00:00:00",
           "value": 0.5000225448033426,
           "variable": "bean_fraction"
          },
          {
           "3crv_fraction": 0.49997745519665754,
           "bean_fraction": 0.5000225448033426,
           "deltaB": 615.876819125,
           "pool_tvl_usd": 27318691.37896815,
           "reserves_3crv": 13960527.73102503,
           "reserves_bean": 13659364.55591815,
           "timestamp": "2022-10-25T00:00:00",
           "value": 0.49997745519665754,
           "variable": "3crv_fraction"
          },
          {
           "3crv_fraction": 0.49997745519665754,
           "bean_fraction": 0.5000225448033426,
           "deltaB": 615.876819125,
           "pool_tvl_usd": 27318691.37896815,
           "reserves_3crv": 13960527.73102503,
           "reserves_bean": 13659364.55591815,
           "timestamp": "2022-10-25T00:00:00",
           "value": 27318691.37896815,
           "variable": "pool_tvl_usd"
          },
          {
           "3crv_fraction": 0.4999572166369304,
           "bean_fraction": 0.5000427833630696,
           "deltaB": 1169.2947729166665,
           "pool_tvl_usd": 27332307.60211305,
           "reserves_3crv": 13966455.096844072,
           "reserves_bean": 13666163.253334418,
           "timestamp": "2022-10-26T00:00:00",
           "value": 13966455.096844072,
           "variable": "reserves_3crv"
          },
          {
           "3crv_fraction": 0.4999572166369304,
           "bean_fraction": 0.5000427833630696,
           "deltaB": 1169.2947729166665,
           "pool_tvl_usd": 27332307.60211305,
           "reserves_3crv": 13966455.096844072,
           "reserves_bean": 13666163.253334418,
           "timestamp": "2022-10-26T00:00:00",
           "value": 13666163.253334418,
           "variable": "reserves_bean"
          },
          {
           "3crv_fraction": 0.4999572166369304,
           "bean_fraction": 0.5000427833630696,
           "deltaB": 1169.2947729166665,
           "pool_tvl_usd": 27332307.60211305,
           "reserves_3crv": 13966455.096844072,
           "reserves_bean": 13666163.253334418,
           "timestamp": "2022-10-26T00:00:00",
           "value": 1169.2947729166665,
           "variable": "deltaB"
          },
          {
           "3crv_fraction": 0.4999572166369304,
           "bean_fraction": 0.5000427833630696,
           "deltaB": 1169.2947729166665,
           "pool_tvl_usd": 27332307.60211305,
           "reserves_3crv": 13966455.096844072,
           "reserves_bean": 13666163.253334418,
           "timestamp": "2022-10-26T00:00:00",
           "value": 0.5000427833630696,
           "variable": "bean_fraction"
          },
          {
           "3crv_fraction": 0.4999572166369304,
           "bean_fraction": 0.5000427833630696,
           "deltaB": 1169.2947729166665,
           "pool_tvl_usd": 27332307.60211305,
           "reserves_3crv": 13966455.096844072,
           "reserves_bean": 13666163.253334418,
           "timestamp": "2022-10-26T00:00:00",
           "value": 0.4999572166369304,
           "variable": "3crv_fraction"
          },
          {
           "3crv_fraction": 0.4999572166369304,
           "bean_fraction": 0.5000427833630696,
           "deltaB": 1169.2947729166665,
           "pool_tvl_usd": 27332307.60211305,
           "reserves_3crv": 13966455.096844072,
           "reserves_bean": 13666163.253334418,
           "timestamp": "2022-10-26T00:00:00",
           "value": 27332307.60211305,
           "variable": "pool_tvl_usd"
          },
          {
           "3crv_fraction": 0.49999107554635674,
           "bean_fraction": 0.5000089244536433,
           "deltaB": 243.79877975,
           "pool_tvl_usd": 27339355.763485163,
           "reserves_3crv": 13971763.737644672,
           "reserves_bean": 13669483.352612123,
           "timestamp": "2022-10-27T00:00:00",
           "value": 13971763.737644672,
           "variable": "reserves_3crv"
          },
          {
           "3crv_fraction": 0.49999107554635674,
           "bean_fraction": 0.5000089244536433,
           "deltaB": 243.79877975,
           "pool_tvl_usd": 27339355.763485163,
           "reserves_3crv": 13971763.737644672,
           "reserves_bean": 13669483.352612123,
           "timestamp": "2022-10-27T00:00:00",
           "value": 13669483.352612123,
           "variable": "reserves_bean"
          },
          {
           "3crv_fraction": 0.49999107554635674,
           "bean_fraction": 0.5000089244536433,
           "deltaB": 243.79877975,
           "pool_tvl_usd": 27339355.763485163,
           "reserves_3crv": 13971763.737644672,
           "reserves_bean": 13669483.352612123,
           "timestamp": "2022-10-27T00:00:00",
           "value": 243.79877975,
           "variable": "deltaB"
          },
          {
           "3crv_fraction": 0.49999107554635674,
           "bean_fraction": 0.5000089244536433,
           "deltaB": 243.79877975,
           "pool_tvl_usd": 27339355.763485163,
           "reserves_3crv": 13971763.737644672,
           "reserves_bean": 13669483.352612123,
           "timestamp": "2022-10-27T00:00:00",
           "value": 0.5000089244536433,
           "variable": "bean_fraction"
          },
          {
           "3crv_fraction": 0.49999107554635674,
           "bean_fraction": 0.5000089244536433,
           "deltaB": 243.79877975,
           "pool_tvl_usd": 27339355.763485163,
           "reserves_3crv": 13971763.737644672,
           "reserves_bean": 13669483.352612123,
           "timestamp": "2022-10-27T00:00:00",
           "value": 0.49999107554635674,
           "variable": "3crv_fraction"
          },
          {
           "3crv_fraction": 0.49999107554635674,
           "bean_fraction": 0.5000089244536433,
           "deltaB": 243.79877975,
           "pool_tvl_usd": 27339355.763485163,
           "reserves_3crv": 13971763.737644672,
           "reserves_bean": 13669483.352612123,
           "timestamp": "2022-10-27T00:00:00",
           "value": 27339355.763485163,
           "variable": "pool_tvl_usd"
          },
          {
           "3crv_fraction": 0.5000273567440455,
           "bean_fraction": 0.4999726432559546,
           "deltaB": -748.1596210833335,
           "pool_tvl_usd": 27325859.00318085,
           "reserves_3crv": 13966863.317485869,
           "reserves_bean": 13662706.230924362,
           "timestamp": "2022-10-28T00:00:00",
           "value": 13966863.317485869,
           "variable": "reserves_3crv"
          },
          {
           "3crv_fraction": 0.5000273567440455,
           "bean_fraction": 0.4999726432559546,
           "deltaB": -748.1596210833335,
           "pool_tvl_usd": 27325859.00318085,
           "reserves_3crv": 13966863.317485869,
           "reserves_bean": 13662706.230924362,
           "timestamp": "2022-10-28T00:00:00",
           "value": 13662706.230924362,
           "variable": "reserves_bean"
          },
          {
           "3crv_fraction": 0.5000273567440455,
           "bean_fraction": 0.4999726432559546,
           "deltaB": -748.1596210833335,
           "pool_tvl_usd": 27325859.00318085,
           "reserves_3crv": 13966863.317485869,
           "reserves_bean": 13662706.230924362,
           "timestamp": "2022-10-28T00:00:00",
           "value": -748.1596210833335,
           "variable": "deltaB"
          },
          {
           "3crv_fraction": 0.5000273567440455,
           "bean_fraction": 0.4999726432559546,
           "deltaB": -748.1596210833335,
           "pool_tvl_usd": 27325859.00318085,
           "reserves_3crv": 13966863.317485869,
           "reserves_bean": 13662706.230924362,
           "timestamp": "2022-10-28T00:00:00",
           "value": 0.4999726432559546,
           "variable": "bean_fraction"
          },
          {
           "3crv_fraction": 0.5000273567440455,
           "bean_fraction": 0.4999726432559546,
           "deltaB": -748.1596210833335,
           "pool_tvl_usd": 27325859.00318085,
           "reserves_3crv": 13966863.317485869,
           "reserves_bean": 13662706.230924362,
           "timestamp": "2022-10-28T00:00:00",
           "value": 0.5000273567440455,
           "variable": "3crv_fraction"
          },
          {
           "3crv_fraction": 0.5000273567440455,
           "bean_fraction": 0.4999726432559546,
           "deltaB": -748.1596210833335,
           "pool_tvl_usd": 27325859.00318085,
           "reserves_3crv": 13966863.317485869,
           "reserves_bean": 13662706.230924362,
           "timestamp": "2022-10-28T00:00:00",
           "value": 27325859.00318085,
           "variable": "pool_tvl_usd"
          },
          {
           "3crv_fraction": 0.500592835980363,
           "bean_fraction": 0.4994071640196371,
           "deltaB": -16205.083996874999,
           "pool_tvl_usd": 27290018.933281418,
           "reserves_3crv": 13979015.678008897,
           "reserves_bean": 13644319.37289008,
           "timestamp": "2022-10-29T00:00:00",
           "value": 13979015.678008897,
           "variable": "reserves_3crv"
          },
          {
           "3crv_fraction": 0.500592835980363,
           "bean_fraction": 0.4994071640196371,
           "deltaB": -16205.083996874999,
           "pool_tvl_usd": 27290018.933281418,
           "reserves_3crv": 13979015.678008897,
           "reserves_bean": 13644319.37289008,
           "timestamp": "2022-10-29T00:00:00",
           "value": 13644319.37289008,
           "variable": "reserves_bean"
          },
          {
           "3crv_fraction": 0.500592835980363,
           "bean_fraction": 0.4994071640196371,
           "deltaB": -16205.083996874999,
           "pool_tvl_usd": 27290018.933281418,
           "reserves_3crv": 13979015.678008897,
           "reserves_bean": 13644319.37289008,
           "timestamp": "2022-10-29T00:00:00",
           "value": -16205.083996874999,
           "variable": "deltaB"
          },
          {
           "3crv_fraction": 0.500592835980363,
           "bean_fraction": 0.4994071640196371,
           "deltaB": -16205.083996874999,
           "pool_tvl_usd": 27290018.933281418,
           "reserves_3crv": 13979015.678008897,
           "reserves_bean": 13644319.37289008,
           "timestamp": "2022-10-29T00:00:00",
           "value": 0.4994071640196371,
           "variable": "bean_fraction"
          },
          {
           "3crv_fraction": 0.500592835980363,
           "bean_fraction": 0.4994071640196371,
           "deltaB": -16205.083996874999,
           "pool_tvl_usd": 27290018.933281418,
           "reserves_3crv": 13979015.678008897,
           "reserves_bean": 13644319.37289008,
           "timestamp": "2022-10-29T00:00:00",
           "value": 0.500592835980363,
           "variable": "3crv_fraction"
          },
          {
           "3crv_fraction": 0.500592835980363,
           "bean_fraction": 0.4994071640196371,
           "deltaB": -16205.083996874999,
           "pool_tvl_usd": 27290018.933281418,
           "reserves_3crv": 13979015.678008897,
           "reserves_bean": 13644319.37289008,
           "timestamp": "2022-10-29T00:00:00",
           "value": 27290018.933281418,
           "variable": "pool_tvl_usd"
          },
          {
           "3crv_fraction": 0.49997371267856733,
           "bean_fraction": 0.5000262873214326,
           "deltaB": 716.4079176666668,
           "pool_tvl_usd": 27264384.477690324,
           "reserves_3crv": 13933144.527644312,
           "reserves_bean": 13632498.882984662,
           "timestamp": "2022-10-30T00:00:00",
           "value": 13933144.527644312,
           "variable": "reserves_3crv"
          },
          {
           "3crv_fraction": 0.49997371267856733,
           "bean_fraction": 0.5000262873214326,
           "deltaB": 716.4079176666668,
           "pool_tvl_usd": 27264384.477690324,
           "reserves_3crv": 13933144.527644312,
           "reserves_bean": 13632498.882984662,
           "timestamp": "2022-10-30T00:00:00",
           "value": 13632498.882984662,
           "variable": "reserves_bean"
          },
          {
           "3crv_fraction": 0.49997371267856733,
           "bean_fraction": 0.5000262873214326,
           "deltaB": 716.4079176666668,
           "pool_tvl_usd": 27264384.477690324,
           "reserves_3crv": 13933144.527644312,
           "reserves_bean": 13632498.882984662,
           "timestamp": "2022-10-30T00:00:00",
           "value": 716.4079176666668,
           "variable": "deltaB"
          },
          {
           "3crv_fraction": 0.49997371267856733,
           "bean_fraction": 0.5000262873214326,
           "deltaB": 716.4079176666668,
           "pool_tvl_usd": 27264384.477690324,
           "reserves_3crv": 13933144.527644312,
           "reserves_bean": 13632498.882984662,
           "timestamp": "2022-10-30T00:00:00",
           "value": 0.5000262873214326,
           "variable": "bean_fraction"
          },
          {
           "3crv_fraction": 0.49997371267856733,
           "bean_fraction": 0.5000262873214326,
           "deltaB": 716.4079176666668,
           "pool_tvl_usd": 27264384.477690324,
           "reserves_3crv": 13933144.527644312,
           "reserves_bean": 13632498.882984662,
           "timestamp": "2022-10-30T00:00:00",
           "value": 0.49997371267856733,
           "variable": "3crv_fraction"
          },
          {
           "3crv_fraction": 0.49997371267856733,
           "bean_fraction": 0.5000262873214326,
           "deltaB": 716.4079176666668,
           "pool_tvl_usd": 27264384.477690324,
           "reserves_3crv": 13933144.527644312,
           "reserves_bean": 13632498.882984662,
           "timestamp": "2022-10-30T00:00:00",
           "value": 27264384.477690324,
           "variable": "pool_tvl_usd"
          },
          {
           "3crv_fraction": 0.5002141840392684,
           "bean_fraction": 0.4997858159607314,
           "deltaB": -5837.357258111111,
           "pool_tvl_usd": 27223097.584710266,
           "reserves_3crv": 13923913.508323448,
           "reserves_bean": 13610549.489346065,
           "timestamp": "2022-10-31T00:00:00",
           "value": 13923913.508323448,
           "variable": "reserves_3crv"
          },
          {
           "3crv_fraction": 0.5002141840392684,
           "bean_fraction": 0.4997858159607314,
           "deltaB": -5837.357258111111,
           "pool_tvl_usd": 27223097.584710266,
           "reserves_3crv": 13923913.508323448,
           "reserves_bean": 13610549.489346065,
           "timestamp": "2022-10-31T00:00:00",
           "value": 13610549.489346065,
           "variable": "reserves_bean"
          },
          {
           "3crv_fraction": 0.5002141840392684,
           "bean_fraction": 0.4997858159607314,
           "deltaB": -5837.357258111111,
           "pool_tvl_usd": 27223097.584710266,
           "reserves_3crv": 13923913.508323448,
           "reserves_bean": 13610549.489346065,
           "timestamp": "2022-10-31T00:00:00",
           "value": -5837.357258111111,
           "variable": "deltaB"
          },
          {
           "3crv_fraction": 0.5002141840392684,
           "bean_fraction": 0.4997858159607314,
           "deltaB": -5837.357258111111,
           "pool_tvl_usd": 27223097.584710266,
           "reserves_3crv": 13923913.508323448,
           "reserves_bean": 13610549.489346065,
           "timestamp": "2022-10-31T00:00:00",
           "value": 0.4997858159607314,
           "variable": "bean_fraction"
          },
          {
           "3crv_fraction": 0.5002141840392684,
           "bean_fraction": 0.4997858159607314,
           "deltaB": -5837.357258111111,
           "pool_tvl_usd": 27223097.584710266,
           "reserves_3crv": 13923913.508323448,
           "reserves_bean": 13610549.489346065,
           "timestamp": "2022-10-31T00:00:00",
           "value": 0.5002141840392684,
           "variable": "3crv_fraction"
          },
          {
           "3crv_fraction": 0.5002141840392684,
           "bean_fraction": 0.4997858159607314,
           "deltaB": -5837.357258111111,
           "pool_tvl_usd": 27223097.584710266,
           "reserves_3crv": 13923913.508323448,
           "reserves_bean": 13610549.489346065,
           "timestamp": "2022-10-31T00:00:00",
           "value": 27223097.584710266,
           "variable": "pool_tvl_usd"
          }
         ]
        },
        "resolve": {
         "axis": {
          "y": "independent"
         },
         "scale": {
          "y": "independent"
         }
        },
        "vconcat": [
         {
          "hconcat": [
           {
            "layer": [
             {
              "encoding": {
               "color": {
                "field": "variable",
                "legend": {
                 "title": null
                },
                "scale": {
                 "domain": [
                  "reserves_3crv",
                  "reserves_bean",
                  "bean_fraction",
                  "3crv_fraction",
                  "deltaB",
                  "pool_tvl_usd"
                 ],
                 "range": [
                  "#1F77B4",
                  "#FF7F0E",
                  "#2CA02C",
                  "#D62728",
                  "#E377C2",
                  "#BCBD22"
                 ]
                },
                "type": "nominal"
               },
               "order": {
                "field": "stack_order",
                "sort": "ascending",
                "type": "quantitative"
               },
               "x": {
                "axis": {
                 "formatType": "time",
                 "labelAngle": 0,
                 "labelExpr": "timeFormat(toDate(datum.value), '%b %e, %Y')",
                 "labelOverlap": true,
                 "labelPadding": 5,
                 "labelSeparation": 50,
                 "ticks": false,
                 "title": "Date"
                },
                "field": "timestamp",
                "type": "ordinal"
               },
               "y": {
                "axis": {
                 "format": ".2~s",
                 "title": "Reserves"
                },
                "field": "value",
                "scale": {
                 "domainMin": 12000000
                },
                "type": "quantitative"
               }
              },
              "mark": "line",
              "title": "Bean:3Crv Pool Reserves",
              "transform": [
               {
                "as": "stack_order",
                "calculate": "datum['variable'] === 'reserves_3crv' ? 0 :  datum['variable'] === 'reserves_bean' ? 1 :  datum['variable'] === 'bean_fraction' ? 2 :  datum['variable'] === '3crv_fraction' ? 3 :  datum['variable'] === 'deltaB' ? 4 :  datum['variable'] === 'pool_tvl_usd' ? 5 : 6"
               },
               {
                "filter": "datum['variable'] == 'reserves_3crv' | datum['variable'] == 'reserves_bean'"
               }
              ],
              "width": 450
             },
             {
              "encoding": {
               "x": {
                "axis": {
                 "formatType": "time",
                 "labelAngle": 0,
                 "labelExpr": "timeFormat(toDate(datum.value), '%b %e, %Y')",
                 "labelOverlap": true,
                 "labelPadding": 5,
                 "labelSeparation": 50,
                 "ticks": false,
                 "title": "Date"
                },
                "field": "timestamp",
                "type": "ordinal"
               }
              },
              "mark": {
               "color": "#474440",
               "opacity": 1,
               "strokeDash": [
                2.5,
                1
               ],
               "type": "rule"
              },
              "title": "Bean:3Crv Pool Reserves",
              "transform": [
               {
                "as": "stack_order",
                "calculate": "datum['variable'] === 'reserves_3crv' ? 0 :  datum['variable'] === 'reserves_bean' ? 1 :  datum['variable'] === 'bean_fraction' ? 2 :  datum['variable'] === '3crv_fraction' ? 3 :  datum['variable'] === 'deltaB' ? 4 :  datum['variable'] === 'pool_tvl_usd' ? 5 : 6"
               },
               {
                "groupby": [
                 "timestamp"
                ],
                "pivot": "variable",
                "value": "value"
               },
               {
                "filter": "\n            year(datum['timestamp']) === 2022 && \n            month(datum['timestamp']) === 3 && \n            date(datum['timestamp']) === 17 \n        "
               }
              ],
              "width": 450
             },
             {
              "encoding": {
               "opacity": {
                "condition": {
                 "selection": "selector001",
                 "value": 1
                },
                "value": 0
               },
               "tooltip": [
                {
                 "field": "timestamp",
                 "timeUnit": "yearmonthdate",
                 "title": "date",
                 "type": "ordinal"
                },
                {
                 "field": "reserves_3crv",
                 "format": ",d",
                 "type": "quantitative"
                },
                {
                 "field": "reserves_bean",
                 "format": ",d",
                 "type": "quantitative"
                },
                {
                 "field": "bean_fraction",
                 "format": ".1%",
                 "type": "quantitative"
                },
                {
                 "field": "3crv_fraction",
                 "format": ".1%",
                 "type": "quantitative"
                },
                {
                 "field": "deltaB",
                 "format": ",d",
                 "type": "quantitative"
                },
                {
                 "field": "pool_tvl_usd",
                 "format": "$,d",
                 "type": "quantitative"
                }
               ],
               "x": {
                "axis": {
                 "formatType": "time",
                 "labelAngle": 0,
                 "labelExpr": "timeFormat(toDate(datum.value), '%b %e, %Y')",
                 "labelOverlap": true,
                 "labelPadding": 5,
                 "labelSeparation": 50,
                 "ticks": false,
                 "title": "Date"
                },
                "field": "timestamp",
                "type": "ordinal"
               }
              },
              "mark": {
               "color": "#878787",
               "type": "rule"
              },
              "selection": {
               "selector001": {
                "clear": "mouseout",
                "empty": "none",
                "fields": [
                 "timestamp"
                ],
                "nearest": true,
                "on": "mouseover",
                "type": "single"
               }
              },
              "title": "Bean:3Crv Pool Reserves",
              "transform": [
               {
                "as": "stack_order",
                "calculate": "datum['variable'] === 'reserves_3crv' ? 0 :  datum['variable'] === 'reserves_bean' ? 1 :  datum['variable'] === 'bean_fraction' ? 2 :  datum['variable'] === '3crv_fraction' ? 3 :  datum['variable'] === 'deltaB' ? 4 :  datum['variable'] === 'pool_tvl_usd' ? 5 : 6"
               },
               {
                "groupby": [
                 "timestamp"
                ],
                "pivot": "variable",
                "value": "value"
               }
              ],
              "width": 450
             }
            ]
           },
           {
            "layer": [
             {
              "encoding": {
               "color": {
                "field": "variable",
                "legend": {
                 "title": null
                },
                "scale": {
                 "domain": [
                  "reserves_3crv",
                  "reserves_bean",
                  "bean_fraction",
                  "3crv_fraction",
                  "deltaB",
                  "pool_tvl_usd"
                 ],
                 "range": [
                  "#1F77B4",
                  "#FF7F0E",
                  "#2CA02C",
                  "#D62728",
                  "#E377C2",
                  "#BCBD22"
                 ]
                },
                "type": "nominal"
               },
               "order": {
                "field": "stack_order",
                "sort": "ascending",
                "type": "quantitative"
               },
               "x": {
                "axis": {
                 "formatType": "time",
                 "labelAngle": 0,
                 "labelExpr": "timeFormat(toDate(datum.value), '%b %e, %Y')",
                 "labelOverlap": true,
                 "labelPadding": 5,
                 "labelSeparation": 50,
                 "ticks": false,
                 "title": "Date"
                },
                "field": "timestamp",
                "type": "ordinal"
               },
               "y": {
                "axis": {
                 "format": "%",
                 "title": "Balance Ratio"
                },
                "field": "value",
                "scale": {
                 "domainMax": 0.55,
                 "domainMin": 0.45
                },
                "type": "quantitative"
               }
              },
              "mark": "line",
              "title": "Bean:3Crv Pool Balance",
              "transform": [
               {
                "as": "stack_order",
                "calculate": "datum['variable'] === 'reserves_3crv' ? 0 :  datum['variable'] === 'reserves_bean' ? 1 :  datum['variable'] === 'bean_fraction' ? 2 :  datum['variable'] === '3crv_fraction' ? 3 :  datum['variable'] === 'deltaB' ? 4 :  datum['variable'] === 'pool_tvl_usd' ? 5 : 6"
               },
               {
                "filter": "datum['variable'] == 'bean_fraction' | datum['variable'] == '3crv_fraction'"
               }
              ],
              "width": 450
             },
             {
              "encoding": {
               "x": {
                "axis": {
                 "formatType": "time",
                 "labelAngle": 0,
                 "labelExpr": "timeFormat(toDate(datum.value), '%b %e, %Y')",
                 "labelOverlap": true,
                 "labelPadding": 5,
                 "labelSeparation": 50,
                 "ticks": false,
                 "title": "Date"
                },
                "field": "timestamp",
                "type": "ordinal"
               }
              },
              "mark": {
               "color": "#474440",
               "opacity": 1,
               "strokeDash": [
                2.5,
                1
               ],
               "type": "rule"
              },
              "title": "Bean:3Crv Pool Balance",
              "transform": [
               {
                "as": "stack_order",
                "calculate": "datum['variable'] === 'reserves_3crv' ? 0 :  datum['variable'] === 'reserves_bean' ? 1 :  datum['variable'] === 'bean_fraction' ? 2 :  datum['variable'] === '3crv_fraction' ? 3 :  datum['variable'] === 'deltaB' ? 4 :  datum['variable'] === 'pool_tvl_usd' ? 5 : 6"
               },
               {
                "groupby": [
                 "timestamp"
                ],
                "pivot": "variable",
                "value": "value"
               },
               {
                "filter": "\n            year(datum['timestamp']) === 2022 && \n            month(datum['timestamp']) === 3 && \n            date(datum['timestamp']) === 17 \n        "
               }
              ],
              "width": 450
             },
             {
              "encoding": {
               "opacity": {
                "condition": {
                 "selection": "selector001",
                 "value": 1
                },
                "value": 0
               },
               "tooltip": [
                {
                 "field": "timestamp",
                 "timeUnit": "yearmonthdate",
                 "title": "date",
                 "type": "ordinal"
                },
                {
                 "field": "reserves_3crv",
                 "format": ",d",
                 "type": "quantitative"
                },
                {
                 "field": "reserves_bean",
                 "format": ",d",
                 "type": "quantitative"
                },
                {
                 "field": "bean_fraction",
                 "format": ".1%",
                 "type": "quantitative"
                },
                {
                 "field": "3crv_fraction",
                 "format": ".1%",
                 "type": "quantitative"
                },
                {
                 "field": "deltaB",
                 "format": ",d",
                 "type": "quantitative"
                },
                {
                 "field": "pool_tvl_usd",
                 "format": "$,d",
                 "type": "quantitative"
                }
               ],
               "x": {
                "axis": {
                 "formatType": "time",
                 "labelAngle": 0,
                 "labelExpr": "timeFormat(toDate(datum.value), '%b %e, %Y')",
                 "labelOverlap": true,
                 "labelPadding": 5,
                 "labelSeparation": 50,
                 "ticks": false,
                 "title": "Date"
                },
                "field": "timestamp",
                "type": "ordinal"
               }
              },
              "mark": {
               "color": "#878787",
               "type": "rule"
              },
              "selection": {
               "selector001": {
                "clear": "mouseout",
                "empty": "none",
                "fields": [
                 "timestamp"
                ],
                "nearest": true,
                "on": "mouseover",
                "type": "single"
               }
              },
              "title": "Bean:3Crv Pool Balance",
              "transform": [
               {
                "as": "stack_order",
                "calculate": "datum['variable'] === 'reserves_3crv' ? 0 :  datum['variable'] === 'reserves_bean' ? 1 :  datum['variable'] === 'bean_fraction' ? 2 :  datum['variable'] === '3crv_fraction' ? 3 :  datum['variable'] === 'deltaB' ? 4 :  datum['variable'] === 'pool_tvl_usd' ? 5 : 6"
               },
               {
                "groupby": [
                 "timestamp"
                ],
                "pivot": "variable",
                "value": "value"
               }
              ],
              "width": 450
             }
            ]
           }
          ]
         },
         {
          "hconcat": [
           {
            "layer": [
             {
              "encoding": {
               "color": {
                "field": "variable",
                "legend": {
                 "title": null
                },
                "scale": {
                 "domain": [
                  "reserves_3crv",
                  "reserves_bean",
                  "bean_fraction",
                  "3crv_fraction",
                  "deltaB",
                  "pool_tvl_usd"
                 ],
                 "range": [
                  "#1F77B4",
                  "#FF7F0E",
                  "#2CA02C",
                  "#D62728",
                  "#E377C2",
                  "#BCBD22"
                 ]
                },
                "type": "nominal"
               },
               "order": {
                "field": "stack_order",
                "sort": "ascending",
                "type": "quantitative"
               },
               "x": {
                "axis": {
                 "formatType": "time",
                 "labelAngle": 0,
                 "labelExpr": "timeFormat(toDate(datum.value), '%b %e, %Y')",
                 "labelOverlap": true,
                 "labelPadding": 5,
                 "labelSeparation": 50,
                 "ticks": false,
                 "title": "Date"
                },
                "field": "timestamp",
                "type": "ordinal"
               },
               "y": {
                "axis": {
                 "format": ".2~s",
                 "title": "DeltaB"
                },
                "field": "value",
                "type": "quantitative"
               }
              },
              "mark": "line",
              "title": "Bean:3Crv Pool DeltaB",
              "transform": [
               {
                "as": "stack_order",
                "calculate": "datum['variable'] === 'reserves_3crv' ? 0 :  datum['variable'] === 'reserves_bean' ? 1 :  datum['variable'] === 'bean_fraction' ? 2 :  datum['variable'] === '3crv_fraction' ? 3 :  datum['variable'] === 'deltaB' ? 4 :  datum['variable'] === 'pool_tvl_usd' ? 5 : 6"
               },
               {
                "filter": "datum['variable'] == 'deltaB'"
               }
              ],
              "width": 450
             },
             {
              "encoding": {
               "x": {
                "axis": {
                 "formatType": "time",
                 "labelAngle": 0,
                 "labelExpr": "timeFormat(toDate(datum.value), '%b %e, %Y')",
                 "labelOverlap": true,
                 "labelPadding": 5,
                 "labelSeparation": 50,
                 "ticks": false,
                 "title": "Date"
                },
                "field": "timestamp",
                "type": "ordinal"
               }
              },
              "mark": {
               "color": "#474440",
               "opacity": 1,
               "strokeDash": [
                2.5,
                1
               ],
               "type": "rule"
              },
              "title": "Bean:3Crv Pool DeltaB",
              "transform": [
               {
                "as": "stack_order",
                "calculate": "datum['variable'] === 'reserves_3crv' ? 0 :  datum['variable'] === 'reserves_bean' ? 1 :  datum['variable'] === 'bean_fraction' ? 2 :  datum['variable'] === '3crv_fraction' ? 3 :  datum['variable'] === 'deltaB' ? 4 :  datum['variable'] === 'pool_tvl_usd' ? 5 : 6"
               },
               {
                "groupby": [
                 "timestamp"
                ],
                "pivot": "variable",
                "value": "value"
               },
               {
                "filter": "\n            year(datum['timestamp']) === 2022 && \n            month(datum['timestamp']) === 3 && \n            date(datum['timestamp']) === 17 \n        "
               }
              ],
              "width": 450
             },
             {
              "encoding": {
               "opacity": {
                "condition": {
                 "selection": "selector001",
                 "value": 1
                },
                "value": 0
               },
               "tooltip": [
                {
                 "field": "timestamp",
                 "timeUnit": "yearmonthdate",
                 "title": "date",
                 "type": "ordinal"
                },
                {
                 "field": "reserves_3crv",
                 "format": ",d",
                 "type": "quantitative"
                },
                {
                 "field": "reserves_bean",
                 "format": ",d",
                 "type": "quantitative"
                },
                {
                 "field": "bean_fraction",
                 "format": ".1%",
                 "type": "quantitative"
                },
                {
                 "field": "3crv_fraction",
                 "format": ".1%",
                 "type": "quantitative"
                },
                {
                 "field": "deltaB",
                 "format": ",d",
                 "type": "quantitative"
                },
                {
                 "field": "pool_tvl_usd",
                 "format": "$,d",
                 "type": "quantitative"
                }
               ],
               "x": {
                "axis": {
                 "formatType": "time",
                 "labelAngle": 0,
                 "labelExpr": "timeFormat(toDate(datum.value), '%b %e, %Y')",
                 "labelOverlap": true,
                 "labelPadding": 5,
                 "labelSeparation": 50,
                 "ticks": false,
                 "title": "Date"
                },
                "field": "timestamp",
                "type": "ordinal"
               }
              },
              "mark": {
               "color": "#878787",
               "type": "rule"
              },
              "selection": {
               "selector001": {
                "clear": "mouseout",
                "empty": "none",
                "fields": [
                 "timestamp"
                ],
                "nearest": true,
                "on": "mouseover",
                "type": "single"
               }
              },
              "title": "Bean:3Crv Pool DeltaB",
              "transform": [
               {
                "as": "stack_order",
                "calculate": "datum['variable'] === 'reserves_3crv' ? 0 :  datum['variable'] === 'reserves_bean' ? 1 :  datum['variable'] === 'bean_fraction' ? 2 :  datum['variable'] === '3crv_fraction' ? 3 :  datum['variable'] === 'deltaB' ? 4 :  datum['variable'] === 'pool_tvl_usd' ? 5 : 6"
               },
               {
                "groupby": [
                 "timestamp"
                ],
                "pivot": "variable",
                "value": "value"
               }
              ],
              "width": 450
             }
            ]
           },
           {
            "layer": [
             {
              "encoding": {
               "color": {
                "field": "variable",
                "legend": {
                 "title": null
                },
                "scale": {
                 "domain": [
                  "reserves_3crv",
                  "reserves_bean",
                  "bean_fraction",
                  "3crv_fraction",
                  "deltaB",
                  "pool_tvl_usd"
                 ],
                 "range": [
                  "#1F77B4",
                  "#FF7F0E",
                  "#2CA02C",
                  "#D62728",
                  "#E377C2",
                  "#BCBD22"
                 ]
                },
                "type": "nominal"
               },
               "order": {
                "field": "stack_order",
                "sort": "ascending",
                "type": "quantitative"
               },
               "x": {
                "axis": {
                 "formatType": "time",
                 "labelAngle": 0,
                 "labelExpr": "timeFormat(toDate(datum.value), '%b %e, %Y')",
                 "labelOverlap": true,
                 "labelPadding": 5,
                 "labelSeparation": 50,
                 "ticks": false,
                 "title": "Date"
                },
                "field": "timestamp",
                "type": "ordinal"
               },
               "y": {
                "axis": {
                 "format": "$.2~s",
                 "title": "Pool TVL"
                },
                "field": "value",
                "type": "quantitative"
               }
              },
              "mark": "line",
              "title": "Bean:3Crv Pool TVL",
              "transform": [
               {
                "as": "stack_order",
                "calculate": "datum['variable'] === 'reserves_3crv' ? 0 :  datum['variable'] === 'reserves_bean' ? 1 :  datum['variable'] === 'bean_fraction' ? 2 :  datum['variable'] === '3crv_fraction' ? 3 :  datum['variable'] === 'deltaB' ? 4 :  datum['variable'] === 'pool_tvl_usd' ? 5 : 6"
               },
               {
                "filter": "datum['variable'] == 'pool_tvl_usd'"
               }
              ],
              "width": 450
             },
             {
              "encoding": {
               "x": {
                "axis": {
                 "formatType": "time",
                 "labelAngle": 0,
                 "labelExpr": "timeFormat(toDate(datum.value), '%b %e, %Y')",
                 "labelOverlap": true,
                 "labelPadding": 5,
                 "labelSeparation": 50,
                 "ticks": false,
                 "title": "Date"
                },
                "field": "timestamp",
                "type": "ordinal"
               }
              },
              "mark": {
               "color": "#474440",
               "opacity": 1,
               "strokeDash": [
                2.5,
                1
               ],
               "type": "rule"
              },
              "title": "Bean:3Crv Pool TVL",
              "transform": [
               {
                "as": "stack_order",
                "calculate": "datum['variable'] === 'reserves_3crv' ? 0 :  datum['variable'] === 'reserves_bean' ? 1 :  datum['variable'] === 'bean_fraction' ? 2 :  datum['variable'] === '3crv_fraction' ? 3 :  datum['variable'] === 'deltaB' ? 4 :  datum['variable'] === 'pool_tvl_usd' ? 5 : 6"
               },
               {
                "groupby": [
                 "timestamp"
                ],
                "pivot": "variable",
                "value": "value"
               },
               {
                "filter": "\n            year(datum['timestamp']) === 2022 && \n            month(datum['timestamp']) === 3 && \n            date(datum['timestamp']) === 17 \n        "
               }
              ],
              "width": 450
             },
             {
              "encoding": {
               "opacity": {
                "condition": {
                 "selection": "selector001",
                 "value": 1
                },
                "value": 0
               },
               "tooltip": [
                {
                 "field": "timestamp",
                 "timeUnit": "yearmonthdate",
                 "title": "date",
                 "type": "ordinal"
                },
                {
                 "field": "reserves_3crv",
                 "format": ",d",
                 "type": "quantitative"
                },
                {
                 "field": "reserves_bean",
                 "format": ",d",
                 "type": "quantitative"
                },
                {
                 "field": "bean_fraction",
                 "format": ".1%",
                 "type": "quantitative"
                },
                {
                 "field": "3crv_fraction",
                 "format": ".1%",
                 "type": "quantitative"
                },
                {
                 "field": "deltaB",
                 "format": ",d",
                 "type": "quantitative"
                },
                {
                 "field": "pool_tvl_usd",
                 "format": "$,d",
                 "type": "quantitative"
                }
               ],
               "x": {
                "axis": {
                 "formatType": "time",
                 "labelAngle": 0,
                 "labelExpr": "timeFormat(toDate(datum.value), '%b %e, %Y')",
                 "labelOverlap": true,
                 "labelPadding": 5,
                 "labelSeparation": 50,
                 "ticks": false,
                 "title": "Date"
                },
                "field": "timestamp",
                "type": "ordinal"
               }
              },
              "mark": {
               "color": "#878787",
               "type": "rule"
              },
              "selection": {
               "selector001": {
                "clear": "mouseout",
                "empty": "none",
                "fields": [
                 "timestamp"
                ],
                "nearest": true,
                "on": "mouseover",
                "type": "single"
               }
              },
              "title": "Bean:3Crv Pool TVL",
              "transform": [
               {
                "as": "stack_order",
                "calculate": "datum['variable'] === 'reserves_3crv' ? 0 :  datum['variable'] === 'reserves_bean' ? 1 :  datum['variable'] === 'bean_fraction' ? 2 :  datum['variable'] === '3crv_fraction' ? 3 :  datum['variable'] === 'deltaB' ? 4 :  datum['variable'] === 'pool_tvl_usd' ? 5 : 6"
               },
               {
                "groupby": [
                 "timestamp"
                ],
                "pivot": "variable",
                "value": "value"
               }
              ],
              "width": 450
             }
            ]
           }
          ]
         }
        ]
       },
       "width_paths": [
        {
         "factor": 1,
         "path": [
          "config",
          "view",
          "continuousWidth"
         ],
         "value": 400
        },
        {
         "factor": 1,
         "path": [
          "vconcat",
          0,
          "hconcat",
          0,
          "layer",
          0,
          "width"
         ],
         "value": 450
        },
        {
         "factor": 1,
         "path": [
          "vconcat",
          0,
          "hconcat",
          0,
          "layer",
          1,
          "width"
         ],
         "value": 450
        },
        {
         "factor": 1,
         "path": [
          "vconcat",
          0,
          "hconcat",
          0,
          "layer",
          2,
          "width"
         ],
         "value": 450
        },
        {
         "factor": 1,
         "path": [
          "vconcat",
          0,
          "hconcat",
          1,
          "layer",
          0,
          "width"
         ],
         "value": 450
        },
        {
         "factor": 1,
         "path": [
          "vconcat",
          0,
          "hconcat",
          1,
          "layer",
          1,
          "width"
         ],
         "value": 450
        },
        {
         "factor": 1,
         "path": [
          "vconcat",
          0,
          "hconcat",
          1,
          "layer",
          2,
          "width"
         ],
         "value": 450
        },
        {
         "factor": 1,
         "path": [
          "vconcat",
          1,
          "hconcat",
          0,
          "layer",
          0,
          "width"
         ],
         "value": 450
        },
        {
         "factor": 1,
         "path": [
          "vconcat",
          1,
          "hconcat",
          0,
          "layer",
          1,
          "width"
         ],
         "value": 450
        },
        {
         "factor": 1,
         "path": [
          "vconcat",
          1,
          "hconcat",
          0,
          "layer",
          2,
          "width"
         ],
         "value": 450
        },
        {
         "factor": 1,
         "path": [
          "vconcat",
          1,
          "hconcat",
          1,
          "layer",
          0,
          "width"
         ],
         "value": 450
        },
        {
         "factor": 1,
         "path": [
          "vconcat",
          1,
          "hconcat",
          1,
          "layer",
          1,
          "width"
         ],
         "value": 450
        },
        {
         "factor": 1,
         "path": [
          "vconcat",
          1,
          "hconcat",
          1,
          "layer",
          2,
          "width"
         ],
         "value": 450
        }
       ]
      },
      "text/plain": [
       "<IPython.core.display.JSON object>"
      ]
     },
     "execution_count": 12,
     "metadata": {
      "application/json": {
       "expanded": false,
       "root": "root"
      }
     },
     "output_type": "execute_result"
    }
   ],
   "source": [
    "output_chart(c, css=css)"
   ]
  }
 ],
 "metadata": {
  "kernelspec": {
   "display_name": "beanstalk",
   "language": "python",
   "name": "beanstalk"
  },
  "language_info": {
   "codemirror_mode": {
    "name": "ipython",
    "version": 3
   },
   "file_extension": ".py",
   "mimetype": "text/x-python",
   "name": "python",
   "nbconvert_exporter": "python",
   "pygments_lexer": "ipython3",
   "version": "3.10.5"
  }
 },
 "nbformat": 4,
 "nbformat_minor": 5
}
