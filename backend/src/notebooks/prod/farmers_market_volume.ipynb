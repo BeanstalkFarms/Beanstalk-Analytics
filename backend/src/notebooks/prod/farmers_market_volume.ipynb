{
 "cells": [
  {
   "cell_type": "code",
   "execution_count": 1,
   "id": "bb524f98-4f94-476c-b760-7d5dbae7938d",
   "metadata": {},
   "outputs": [],
   "source": [
    "import os \n",
    "import sys \n",
    "\n",
    "cur_path = os.path.abspath(\"../..\")\n",
    "if cur_path not in sys.path: \n",
    "    sys.path.append(cur_path)\n",
    "\n",
    "from functools import cache \n",
    "import numpy as np \n",
    "import pandas as pd \n",
    "import altair as alt \n",
    "from IPython.display import clear_output\n",
    "from altair import datum\n",
    "from dotenv import load_dotenv\n",
    "from subgrounds.subgrounds import Subgrounds, Subgraph\n",
    "from subgrounds.pagination import ShallowStrategy\n",
    "\n",
    "# Required when developing in a jupyter-notebook environment \n",
    "load_dotenv('../../../../.env')\n",
    "\n",
    "from utils_notebook.utils import ddf, load_subgraph, remove_prefix\n",
    "from utils_notebook.vega import (\n",
    "    output_chart, \n",
    "    apply_css, \n",
    "    stack_order_expr, \n",
    "    wide_to_longwide, \n",
    "    chart, \n",
    "    condition_union\n",
    ")\n",
    "from utils_notebook.css import css_tooltip_timeseries_multi_colored"
   ]
  },
  {
   "cell_type": "code",
   "execution_count": 2,
   "id": "4dda51ef-cb6a-4692-9bad-6ea39ab9c6fe",
   "metadata": {},
   "outputs": [],
   "source": [
    "sg: Subgrounds\n",
    "bs: Subgraph\n",
    "sg, bs = load_subgraph()"
   ]
  },
  {
   "cell_type": "code",
   "execution_count": 3,
   "id": "c8137121-ae20-47d5-a002-1cb24c44b55d",
   "metadata": {},
   "outputs": [],
   "source": [
    "def query_farmers_market_snaps(refresh=None):    \n",
    "    snaps = bs.Query.podMarketplaceDailySnapshots(first=10000, orderBy=\"season\", orderDirection='asc')\n",
    "    bs.PodMarketplaceDailySnapshot.total_bean_vol = bs.PodMarketplaceDailySnapshot.totalBeanVolume / 1e6\n",
    "    bs.PodMarketplaceDailySnapshot.total_pod_vol = bs.PodMarketplaceDailySnapshot.totalPodVolume / 1e6\n",
    "    bs.PodMarketplaceDailySnapshot.total_pod_listing_vol = bs.PodMarketplaceDailySnapshot.totalPodsFilled / 1e6\n",
    "    bs.PodMarketplaceDailySnapshot.total_pod_order_vol = bs.PodMarketplaceDailySnapshot.totalOrdersFilled / 1e6\n",
    "    df = sg.query_df([\n",
    "        snaps.timestamp, \n",
    "        snaps.season, \n",
    "        snaps.total_bean_vol, \n",
    "        snaps.total_pod_vol,\n",
    "        snaps.total_pod_listing_vol, \n",
    "        snaps.total_pod_order_vol, \n",
    "    ], pagination_strategy=ShallowStrategy)\n",
    "    df = remove_prefix(df, 'podMarketplaceDailySnapshots_')\n",
    "    return df "
   ]
  },
  {
   "cell_type": "code",
   "execution_count": 4,
   "id": "0e3a79bc-4ff9-4ceb-a341-18397afae356",
   "metadata": {},
   "outputs": [],
   "source": [
    "df_snaps = query_farmers_market_snaps()\n",
    "col_map = {\n",
    "    'total_bean_vol': 'total bean vol', \n",
    "    'total_pod_listing_vol': 'pod listing vol', \n",
    "    'total_pod_order_vol': 'pod order vol', \n",
    "    'total_pod_vol': 'total pod vol',\n",
    "}\n",
    "df_snaps['timestamp'] = pd.to_datetime(df_snaps.timestamp, unit=\"s\")\n",
    "df_snaps = df_snaps.rename(columns=col_map)\n",
    "df_snaps = df_snaps.loc[\n",
    "    (df_snaps['total bean vol'] != 0) & \n",
    "    (df_snaps['total pod vol'] != 0) & \n",
    "    (df_snaps['pod listing vol'] != 0) & \n",
    "    (df_snaps['pod order vol'] != 0)\n",
    "].reset_index(drop=True)"
   ]
  },
  {
   "cell_type": "code",
   "execution_count": 5,
   "id": "66be03c5-4ede-4dbf-bc19-b05d846e2b06",
   "metadata": {},
   "outputs": [
    {
     "data": {
      "text/html": [
       "<div>\n",
       "<style scoped>\n",
       "    .dataframe tbody tr th:only-of-type {\n",
       "        vertical-align: middle;\n",
       "    }\n",
       "\n",
       "    .dataframe tbody tr th {\n",
       "        vertical-align: top;\n",
       "    }\n",
       "\n",
       "    .dataframe thead th {\n",
       "        text-align: right;\n",
       "    }\n",
       "</style>\n",
       "<table border=\"1\" class=\"dataframe\">\n",
       "  <thead>\n",
       "    <tr style=\"text-align: right;\">\n",
       "      <th></th>\n",
       "      <th>timestamp</th>\n",
       "      <th>season</th>\n",
       "      <th>variable</th>\n",
       "      <th>value</th>\n",
       "      <th>pod listing vol</th>\n",
       "      <th>pod order vol</th>\n",
       "      <th>total bean vol</th>\n",
       "      <th>total pod vol</th>\n",
       "    </tr>\n",
       "  </thead>\n",
       "  <tbody>\n",
       "    <tr>\n",
       "      <th>0</th>\n",
       "      <td>2022-02-06 22:31:18</td>\n",
       "      <td>4405</td>\n",
       "      <td>pod listing vol</td>\n",
       "      <td>168079.947589</td>\n",
       "      <td>168079.947589</td>\n",
       "      <td>69477.354604</td>\n",
       "      <td>37016.310151</td>\n",
       "      <td>237557.302193</td>\n",
       "    </tr>\n",
       "    <tr>\n",
       "      <th>1</th>\n",
       "      <td>2022-02-06 22:31:18</td>\n",
       "      <td>4405</td>\n",
       "      <td>pod order vol</td>\n",
       "      <td>69477.354604</td>\n",
       "      <td>168079.947589</td>\n",
       "      <td>69477.354604</td>\n",
       "      <td>37016.310151</td>\n",
       "      <td>237557.302193</td>\n",
       "    </tr>\n",
       "    <tr>\n",
       "      <th>2</th>\n",
       "      <td>2022-02-06 22:31:18</td>\n",
       "      <td>4405</td>\n",
       "      <td>total bean vol</td>\n",
       "      <td>37016.310151</td>\n",
       "      <td>168079.947589</td>\n",
       "      <td>69477.354604</td>\n",
       "      <td>37016.310151</td>\n",
       "      <td>237557.302193</td>\n",
       "    </tr>\n",
       "    <tr>\n",
       "      <th>3</th>\n",
       "      <td>2022-02-06 22:31:18</td>\n",
       "      <td>4405</td>\n",
       "      <td>total pod vol</td>\n",
       "      <td>237557.302193</td>\n",
       "      <td>168079.947589</td>\n",
       "      <td>69477.354604</td>\n",
       "      <td>37016.310151</td>\n",
       "      <td>237557.302193</td>\n",
       "    </tr>\n",
       "    <tr>\n",
       "      <th>4</th>\n",
       "      <td>2022-02-07 23:47:49</td>\n",
       "      <td>4429</td>\n",
       "      <td>pod listing vol</td>\n",
       "      <td>277435.017194</td>\n",
       "      <td>277435.017194</td>\n",
       "      <td>229091.907755</td>\n",
       "      <td>119166.663005</td>\n",
       "      <td>506526.924949</td>\n",
       "    </tr>\n",
       "  </tbody>\n",
       "</table>\n",
       "</div>"
      ],
      "text/plain": [
       "            timestamp  season         variable          value  \\\n",
       "0 2022-02-06 22:31:18    4405  pod listing vol  168079.947589   \n",
       "1 2022-02-06 22:31:18    4405    pod order vol   69477.354604   \n",
       "2 2022-02-06 22:31:18    4405   total bean vol   37016.310151   \n",
       "3 2022-02-06 22:31:18    4405    total pod vol  237557.302193   \n",
       "4 2022-02-07 23:47:49    4429  pod listing vol  277435.017194   \n",
       "\n",
       "   pod listing vol  pod order vol  total bean vol  total pod vol  \n",
       "0    168079.947589   69477.354604    37016.310151  237557.302193  \n",
       "1    168079.947589   69477.354604    37016.310151  237557.302193  \n",
       "2    168079.947589   69477.354604    37016.310151  237557.302193  \n",
       "3    168079.947589   69477.354604    37016.310151  237557.302193  \n",
       "4    277435.017194  229091.907755   119166.663005  506526.924949  "
      ]
     },
     "execution_count": 5,
     "metadata": {},
     "output_type": "execute_result"
    }
   ],
   "source": [
    "id_vars = ['timestamp', 'season']\n",
    "value_vars = [\n",
    "    'pod listing vol',\n",
    "    'pod order vol',\n",
    "    'total bean vol',\n",
    "    'total pod vol',\n",
    "]\n",
    "df_snaps = wide_to_longwide(df_snaps, \"timestamp\", id_vars, value_vars, sort_col=\"timestamp\") \n",
    "df_snaps.head()"
   ]
  },
  {
   "cell_type": "code",
   "execution_count": 12,
   "id": "ba49b373",
   "metadata": {},
   "outputs": [
    {
     "data": {
      "text/html": [
       "<style></style>"
      ],
      "text/plain": [
       "<IPython.core.display.HTML object>"
      ]
     },
     "metadata": {},
     "output_type": "display_data"
    },
    {
     "name": "stderr",
     "output_type": "stream",
     "text": [
      "/Users/ALEX/opt/anaconda3/envs/beanstalk/lib/python3.10/site-packages/altair/utils/core.py:317: FutureWarning: iteritems is deprecated and will be removed in a future version. Use .items instead.\n",
      "  for col_name, dtype in df.dtypes.iteritems():\n"
     ]
    },
    {
     "data": {
      "text/html": [
       "\n",
       "<div id=\"altair-viz-6a86bd68798649bfafb80e75457fd76b\"></div>\n",
       "<script type=\"text/javascript\">\n",
       "  var VEGA_DEBUG = (typeof VEGA_DEBUG == \"undefined\") ? {} : VEGA_DEBUG;\n",
       "  (function(spec, embedOpt){\n",
       "    let outputDiv = document.currentScript.previousElementSibling;\n",
       "    if (outputDiv.id !== \"altair-viz-6a86bd68798649bfafb80e75457fd76b\") {\n",
       "      outputDiv = document.getElementById(\"altair-viz-6a86bd68798649bfafb80e75457fd76b\");\n",
       "    }\n",
       "    const paths = {\n",
       "      \"vega\": \"https://cdn.jsdelivr.net/npm//vega@5?noext\",\n",
       "      \"vega-lib\": \"https://cdn.jsdelivr.net/npm//vega-lib?noext\",\n",
       "      \"vega-lite\": \"https://cdn.jsdelivr.net/npm//vega-lite@4.17.0?noext\",\n",
       "      \"vega-embed\": \"https://cdn.jsdelivr.net/npm//vega-embed@6?noext\",\n",
       "    };\n",
       "\n",
       "    function maybeLoadScript(lib, version) {\n",
       "      var key = `${lib.replace(\"-\", \"\")}_version`;\n",
       "      return (VEGA_DEBUG[key] == version) ?\n",
       "        Promise.resolve(paths[lib]) :\n",
       "        new Promise(function(resolve, reject) {\n",
       "          var s = document.createElement('script');\n",
       "          document.getElementsByTagName(\"head\")[0].appendChild(s);\n",
       "          s.async = true;\n",
       "          s.onload = () => {\n",
       "            VEGA_DEBUG[key] = version;\n",
       "            return resolve(paths[lib]);\n",
       "          };\n",
       "          s.onerror = () => reject(`Error loading script: ${paths[lib]}`);\n",
       "          s.src = paths[lib];\n",
       "        });\n",
       "    }\n",
       "\n",
       "    function showError(err) {\n",
       "      outputDiv.innerHTML = `<div class=\"error\" style=\"color:red;\">${err}</div>`;\n",
       "      throw err;\n",
       "    }\n",
       "\n",
       "    function displayChart(vegaEmbed) {\n",
       "      vegaEmbed(outputDiv, spec, embedOpt)\n",
       "        .catch(err => showError(`Javascript Error: ${err.message}<br>This usually means there's a typo in your chart specification. See the javascript console for the full traceback.`));\n",
       "    }\n",
       "\n",
       "    if(typeof define === \"function\" && define.amd) {\n",
       "      requirejs.config({paths});\n",
       "      require([\"vega-embed\"], displayChart, err => showError(`Error loading script: ${err.message}`));\n",
       "    } else {\n",
       "      maybeLoadScript(\"vega\", \"5\")\n",
       "        .then(() => maybeLoadScript(\"vega-lite\", \"4.17.0\"))\n",
       "        .then(() => maybeLoadScript(\"vega-embed\", \"6\"))\n",
       "        .catch(showError)\n",
       "        .then(() => displayChart(vegaEmbed));\n",
       "    }\n",
       "  })({\"config\": {\"view\": {\"continuousWidth\": 400, \"continuousHeight\": 300}}, \"layer\": [{\"mark\": \"area\", \"encoding\": {\"color\": {\"field\": \"variable\", \"legend\": {\"title\": null}, \"scale\": {\"domain\": [\"pod listing vol\", \"pod order vol\", \"total bean vol\", \"total pod vol\"], \"range\": [\"#B5E48C\", \"#52B69A\", \"#168AAD\", \"#184E77\"]}, \"type\": \"nominal\"}, \"order\": {\"field\": \"stack_order\", \"sort\": \"ascending\", \"type\": \"quantitative\"}, \"x\": {\"axis\": {\"formatType\": \"time\", \"labelAngle\": 0, \"labelExpr\": \"timeFormat(toDate(datum.value), '%b %e, %Y')\", \"labelOverlap\": true, \"labelPadding\": 5, \"labelSeparation\": 50, \"ticks\": false, \"title\": \"Date\"}, \"field\": \"timestamp\", \"type\": \"ordinal\"}, \"y\": {\"axis\": {\"format\": \".3~s\", \"title\": \"Volume\"}, \"field\": \"value\", \"type\": \"quantitative\"}}, \"title\": \"Farmer's Market Volume\", \"transform\": [{\"calculate\": \"datum['variable'] === 'pod listing vol' ? 0 :  datum['variable'] === 'pod order vol' ? 1 :  datum['variable'] === 'total bean vol' ? 2 :  datum['variable'] === 'total pod vol' ? 3 : 4\", \"as\": \"stack_order\"}, {\"filter\": \"datum['variable'] == 'pod listing vol' | datum['variable'] == 'pod order vol' | datum['variable'] == 'total bean vol'\"}], \"width\": 700}, {\"mark\": \"line\", \"encoding\": {\"color\": {\"field\": \"variable\", \"legend\": {\"title\": null}, \"scale\": {\"domain\": [\"pod listing vol\", \"pod order vol\", \"total bean vol\", \"total pod vol\"], \"range\": [\"#B5E48C\", \"#52B69A\", \"#168AAD\", \"#184E77\"]}, \"type\": \"nominal\"}, \"order\": {\"field\": \"stack_order\", \"sort\": \"ascending\", \"type\": \"quantitative\"}, \"x\": {\"axis\": {\"formatType\": \"time\", \"labelAngle\": 0, \"labelExpr\": \"timeFormat(toDate(datum.value), '%b %e, %Y')\", \"labelOverlap\": true, \"labelPadding\": 5, \"labelSeparation\": 50, \"ticks\": false, \"title\": \"Date\"}, \"field\": \"timestamp\", \"type\": \"ordinal\"}, \"y\": {\"axis\": {\"format\": \".3~s\", \"title\": \"Volume\"}, \"field\": \"value\", \"type\": \"quantitative\"}}, \"title\": \"Farmer's Market Volume\", \"transform\": [{\"calculate\": \"datum['variable'] === 'pod listing vol' ? 0 :  datum['variable'] === 'pod order vol' ? 1 :  datum['variable'] === 'total bean vol' ? 2 :  datum['variable'] === 'total pod vol' ? 3 : 4\", \"as\": \"stack_order\"}, {\"filter\": \"datum['variable'] == 'total pod vol'\"}], \"width\": 700}, {\"mark\": {\"type\": \"rule\", \"color\": \"#474440\", \"opacity\": 1, \"strokeDash\": [2.5, 1]}, \"encoding\": {\"x\": {\"axis\": {\"formatType\": \"time\", \"labelAngle\": 0, \"labelExpr\": \"timeFormat(toDate(datum.value), '%b %e, %Y')\", \"labelOverlap\": true, \"labelPadding\": 5, \"labelSeparation\": 50, \"ticks\": false, \"title\": \"Date\"}, \"field\": \"timestamp\", \"type\": \"ordinal\"}}, \"title\": \"Farmer's Market Volume\", \"transform\": [{\"calculate\": \"datum['variable'] === 'pod listing vol' ? 0 :  datum['variable'] === 'pod order vol' ? 1 :  datum['variable'] === 'total bean vol' ? 2 :  datum['variable'] === 'total pod vol' ? 3 : 4\", \"as\": \"stack_order\"}, {\"pivot\": \"variable\", \"value\": \"value\", \"groupby\": [\"timestamp\"]}, {\"filter\": \"\\n            year(datum['timestamp']) === 2022 && \\n            month(datum['timestamp']) === 3 && \\n            date(datum['timestamp']) === 17 \\n        \"}], \"width\": 700}, {\"mark\": {\"type\": \"rule\", \"color\": \"#878787\"}, \"encoding\": {\"opacity\": {\"condition\": {\"value\": 1, \"selection\": \"selector005\"}, \"value\": 0}, \"tooltip\": [{\"field\": \"timestamp\", \"timeUnit\": \"yearmonthdate\", \"title\": \"date\", \"type\": \"ordinal\"}, {\"field\": \"pod listing vol\", \"format\": \",d\", \"type\": \"quantitative\"}, {\"field\": \"pod order vol\", \"format\": \",d\", \"type\": \"quantitative\"}, {\"field\": \"total bean vol\", \"format\": \",d\", \"type\": \"quantitative\"}, {\"field\": \"total pod vol\", \"format\": \",d\", \"type\": \"quantitative\"}], \"x\": {\"axis\": {\"formatType\": \"time\", \"labelAngle\": 0, \"labelExpr\": \"timeFormat(toDate(datum.value), '%b %e, %Y')\", \"labelOverlap\": true, \"labelPadding\": 5, \"labelSeparation\": 50, \"ticks\": false, \"title\": \"Date\"}, \"field\": \"timestamp\", \"type\": \"ordinal\"}}, \"selection\": {\"selector005\": {\"type\": \"single\", \"fields\": [\"timestamp\"], \"nearest\": true, \"on\": \"mouseover\", \"empty\": \"none\", \"clear\": \"mouseout\"}}, \"title\": \"Farmer's Market Volume\", \"transform\": [{\"calculate\": \"datum['variable'] === 'pod listing vol' ? 0 :  datum['variable'] === 'pod order vol' ? 1 :  datum['variable'] === 'total bean vol' ? 2 :  datum['variable'] === 'total pod vol' ? 3 : 4\", \"as\": \"stack_order\"}, {\"pivot\": \"variable\", \"value\": \"value\", \"groupby\": [\"timestamp\"]}], \"width\": 700}], \"data\": {\"name\": \"data-f6e35d6b4b589232b239338b26a3bc0f\"}, \"$schema\": \"https://vega.github.io/schema/vega-lite/v4.17.0.json\", \"datasets\": {\"data-f6e35d6b4b589232b239338b26a3bc0f\": [{\"timestamp\": \"2022-02-06T22:31:18\", \"season\": 4405, \"variable\": \"pod listing vol\", \"value\": 168079.947589, \"pod listing vol\": 168079.947589, \"pod order vol\": 69477.354604, \"total bean vol\": 37016.310151, \"total pod vol\": 237557.302193}, {\"timestamp\": \"2022-02-06T22:31:18\", \"season\": 4405, \"variable\": \"pod order vol\", \"value\": 69477.354604, \"pod listing vol\": 168079.947589, \"pod order vol\": 69477.354604, \"total bean vol\": 37016.310151, \"total pod vol\": 237557.302193}, {\"timestamp\": \"2022-02-06T22:31:18\", \"season\": 4405, \"variable\": \"total bean vol\", \"value\": 37016.310151, \"pod listing vol\": 168079.947589, \"pod order vol\": 69477.354604, \"total bean vol\": 37016.310151, \"total pod vol\": 237557.302193}, {\"timestamp\": \"2022-02-06T22:31:18\", \"season\": 4405, \"variable\": \"total pod vol\", \"value\": 237557.302193, \"pod listing vol\": 168079.947589, \"pod order vol\": 69477.354604, \"total bean vol\": 37016.310151, \"total pod vol\": 237557.302193}, {\"timestamp\": \"2022-02-07T23:47:49\", \"season\": 4429, \"variable\": \"pod listing vol\", \"value\": 277435.017194, \"pod listing vol\": 277435.017194, \"pod order vol\": 229091.907755, \"total bean vol\": 119166.663005, \"total pod vol\": 506526.924949}, {\"timestamp\": \"2022-02-07T23:47:49\", \"season\": 4429, \"variable\": \"pod order vol\", \"value\": 229091.907755, \"pod listing vol\": 277435.017194, \"pod order vol\": 229091.907755, \"total bean vol\": 119166.663005, \"total pod vol\": 506526.924949}, {\"timestamp\": \"2022-02-07T23:47:49\", \"season\": 4429, \"variable\": \"total bean vol\", \"value\": 119166.663005, \"pod listing vol\": 277435.017194, \"pod order vol\": 229091.907755, \"total bean vol\": 119166.663005, \"total pod vol\": 506526.924949}, {\"timestamp\": \"2022-02-07T23:47:49\", \"season\": 4429, \"variable\": \"total pod vol\", \"value\": 506526.924949, \"pod listing vol\": 277435.017194, \"pod order vol\": 229091.907755, \"total bean vol\": 119166.663005, \"total pod vol\": 506526.924949}, {\"timestamp\": \"2022-02-08T23:31:37\", \"season\": 4453, \"variable\": \"total pod vol\", \"value\": 573172.583524, \"pod listing vol\": 281245.766971, \"pod order vol\": 291926.816553, \"total bean vol\": 137655.857683, \"total pod vol\": 573172.583524}, {\"timestamp\": \"2022-02-08T23:31:37\", \"season\": 4453, \"variable\": \"total bean vol\", \"value\": 137655.857683, \"pod listing vol\": 281245.766971, \"pod order vol\": 291926.816553, \"total bean vol\": 137655.857683, \"total pod vol\": 573172.583524}, {\"timestamp\": \"2022-02-08T23:31:37\", \"season\": 4453, \"variable\": \"pod listing vol\", \"value\": 281245.766971, \"pod listing vol\": 281245.766971, \"pod order vol\": 291926.816553, \"total bean vol\": 137655.857683, \"total pod vol\": 573172.583524}, {\"timestamp\": \"2022-02-08T23:31:37\", \"season\": 4453, \"variable\": \"pod order vol\", \"value\": 291926.816553, \"pod listing vol\": 281245.766971, \"pod order vol\": 291926.816553, \"total bean vol\": 137655.857683, \"total pod vol\": 573172.583524}, {\"timestamp\": \"2022-02-09T23:27:48\", \"season\": 4477, \"variable\": \"total pod vol\", \"value\": 585172.583524, \"pod listing vol\": 293245.766971, \"pod order vol\": 291926.816553, \"total bean vol\": 140135.857683, \"total pod vol\": 585172.583524}, {\"timestamp\": \"2022-02-09T23:27:48\", \"season\": 4477, \"variable\": \"pod listing vol\", \"value\": 293245.766971, \"pod listing vol\": 293245.766971, \"pod order vol\": 291926.816553, \"total bean vol\": 140135.857683, \"total pod vol\": 585172.583524}, {\"timestamp\": \"2022-02-09T23:27:48\", \"season\": 4477, \"variable\": \"pod order vol\", \"value\": 291926.816553, \"pod listing vol\": 293245.766971, \"pod order vol\": 291926.816553, \"total bean vol\": 140135.857683, \"total pod vol\": 585172.583524}, {\"timestamp\": \"2022-02-09T23:27:48\", \"season\": 4477, \"variable\": \"total bean vol\", \"value\": 140135.857683, \"pod listing vol\": 293245.766971, \"pod order vol\": 291926.816553, \"total bean vol\": 140135.857683, \"total pod vol\": 585172.583524}, {\"timestamp\": \"2022-02-10T22:58:05\", \"season\": 4501, \"variable\": \"total pod vol\", \"value\": 598286.296716, \"pod listing vol\": 306359.480163, \"pod order vol\": 291926.816553, \"total bean vol\": 145119.068695, \"total pod vol\": 598286.296716}, {\"timestamp\": \"2022-02-10T22:58:05\", \"season\": 4501, \"variable\": \"total bean vol\", \"value\": 145119.068695, \"pod listing vol\": 306359.480163, \"pod order vol\": 291926.816553, \"total bean vol\": 145119.068695, \"total pod vol\": 598286.296716}, {\"timestamp\": \"2022-02-10T22:58:05\", \"season\": 4501, \"variable\": \"pod listing vol\", \"value\": 306359.480163, \"pod listing vol\": 306359.480163, \"pod order vol\": 291926.816553, \"total bean vol\": 145119.068695, \"total pod vol\": 598286.296716}, {\"timestamp\": \"2022-02-10T22:58:05\", \"season\": 4501, \"variable\": \"pod order vol\", \"value\": 291926.816553, \"pod listing vol\": 306359.480163, \"pod order vol\": 291926.816553, \"total bean vol\": 145119.068695, \"total pod vol\": 598286.296716}, {\"timestamp\": \"2022-02-11T21:47:48\", \"season\": 4525, \"variable\": \"pod listing vol\", \"value\": 308366.526236, \"pod listing vol\": 308366.526236, \"pod order vol\": 291926.816553, \"total bean vol\": 145881.746202, \"total pod vol\": 600293.342789}, {\"timestamp\": \"2022-02-11T21:47:48\", \"season\": 4525, \"variable\": \"pod order vol\", \"value\": 291926.816553, \"pod listing vol\": 308366.526236, \"pod order vol\": 291926.816553, \"total bean vol\": 145881.746202, \"total pod vol\": 600293.342789}, {\"timestamp\": \"2022-02-11T21:47:48\", \"season\": 4525, \"variable\": \"total bean vol\", \"value\": 145881.746202, \"pod listing vol\": 308366.526236, \"pod order vol\": 291926.816553, \"total bean vol\": 145881.746202, \"total pod vol\": 600293.342789}, {\"timestamp\": \"2022-02-11T21:47:48\", \"season\": 4525, \"variable\": \"total pod vol\", \"value\": 600293.342789, \"pod listing vol\": 308366.526236, \"pod order vol\": 291926.816553, \"total bean vol\": 145881.746202, \"total pod vol\": 600293.342789}, {\"timestamp\": \"2022-02-12T23:57:23\", \"season\": 4549, \"variable\": \"total pod vol\", \"value\": 601824.828252, \"pod listing vol\": 309898.011699, \"pod order vol\": 291926.816553, \"total bean vol\": 146463.710677, \"total pod vol\": 601824.828252}, {\"timestamp\": \"2022-02-12T23:57:23\", \"season\": 4549, \"variable\": \"pod listing vol\", \"value\": 309898.011699, \"pod listing vol\": 309898.011699, \"pod order vol\": 291926.816553, \"total bean vol\": 146463.710677, \"total pod vol\": 601824.828252}, {\"timestamp\": \"2022-02-12T23:57:23\", \"season\": 4549, \"variable\": \"pod order vol\", \"value\": 291926.816553, \"pod listing vol\": 309898.011699, \"pod order vol\": 291926.816553, \"total bean vol\": 146463.710677, \"total pod vol\": 601824.828252}, {\"timestamp\": \"2022-02-12T23:57:23\", \"season\": 4549, \"variable\": \"total bean vol\", \"value\": 146463.710677, \"pod listing vol\": 309898.011699, \"pod order vol\": 291926.816553, \"total bean vol\": 146463.710677, \"total pod vol\": 601824.828252}, {\"timestamp\": \"2022-02-13T20:37:30\", \"season\": 4573, \"variable\": \"pod listing vol\", \"value\": 313743.050135, \"pod listing vol\": 313743.050135, \"pod order vol\": 291926.816553, \"total bean vol\": 147924.825282, \"total pod vol\": 605669.866688}, {\"timestamp\": \"2022-02-13T20:37:30\", \"season\": 4573, \"variable\": \"pod order vol\", \"value\": 291926.816553, \"pod listing vol\": 313743.050135, \"pod order vol\": 291926.816553, \"total bean vol\": 147924.825282, \"total pod vol\": 605669.866688}, {\"timestamp\": \"2022-02-13T20:37:30\", \"season\": 4573, \"variable\": \"total bean vol\", \"value\": 147924.825282, \"pod listing vol\": 313743.050135, \"pod order vol\": 291926.816553, \"total bean vol\": 147924.825282, \"total pod vol\": 605669.866688}, {\"timestamp\": \"2022-02-13T20:37:30\", \"season\": 4573, \"variable\": \"total pod vol\", \"value\": 605669.866688, \"pod listing vol\": 313743.050135, \"pod order vol\": 291926.816553, \"total bean vol\": 147924.825282, \"total pod vol\": 605669.866688}, {\"timestamp\": \"2022-02-14T20:17:13\", \"season\": 4597, \"variable\": \"total bean vol\", \"value\": 147924.825282, \"pod listing vol\": 313743.050135, \"pod order vol\": 291926.816553, \"total bean vol\": 147924.825282, \"total pod vol\": 605669.866688}, {\"timestamp\": \"2022-02-14T20:17:13\", \"season\": 4597, \"variable\": \"total pod vol\", \"value\": 605669.866688, \"pod listing vol\": 313743.050135, \"pod order vol\": 291926.816553, \"total bean vol\": 147924.825282, \"total pod vol\": 605669.866688}, {\"timestamp\": \"2022-02-14T20:17:13\", \"season\": 4597, \"variable\": \"pod listing vol\", \"value\": 313743.050135, \"pod listing vol\": 313743.050135, \"pod order vol\": 291926.816553, \"total bean vol\": 147924.825282, \"total pod vol\": 605669.866688}, {\"timestamp\": \"2022-02-14T20:17:13\", \"season\": 4597, \"variable\": \"pod order vol\", \"value\": 291926.816553, \"pod listing vol\": 313743.050135, \"pod order vol\": 291926.816553, \"total bean vol\": 147924.825282, \"total pod vol\": 605669.866688}, {\"timestamp\": \"2022-02-15T19:51:31\", \"season\": 4621, \"variable\": \"total pod vol\", \"value\": 605669.866688, \"pod listing vol\": 313743.050135, \"pod order vol\": 291926.816553, \"total bean vol\": 147924.825282, \"total pod vol\": 605669.866688}, {\"timestamp\": \"2022-02-15T19:51:31\", \"season\": 4621, \"variable\": \"total bean vol\", \"value\": 147924.825282, \"pod listing vol\": 313743.050135, \"pod order vol\": 291926.816553, \"total bean vol\": 147924.825282, \"total pod vol\": 605669.866688}, {\"timestamp\": \"2022-02-15T19:51:31\", \"season\": 4621, \"variable\": \"pod order vol\", \"value\": 291926.816553, \"pod listing vol\": 313743.050135, \"pod order vol\": 291926.816553, \"total bean vol\": 147924.825282, \"total pod vol\": 605669.866688}, {\"timestamp\": \"2022-02-15T19:51:31\", \"season\": 4621, \"variable\": \"pod listing vol\", \"value\": 313743.050135, \"pod listing vol\": 313743.050135, \"pod order vol\": 291926.816553, \"total bean vol\": 147924.825282, \"total pod vol\": 605669.866688}, {\"timestamp\": \"2022-02-16T23:09:13\", \"season\": 4645, \"variable\": \"pod listing vol\", \"value\": 381540.956409, \"pod listing vol\": 381540.956409, \"pod order vol\": 293341.907755, \"total bean vol\": 154183.44105, \"total pod vol\": 674882.864164}, {\"timestamp\": \"2022-02-16T23:09:13\", \"season\": 4645, \"variable\": \"pod order vol\", \"value\": 293341.907755, \"pod listing vol\": 381540.956409, \"pod order vol\": 293341.907755, \"total bean vol\": 154183.44105, \"total pod vol\": 674882.864164}, {\"timestamp\": \"2022-02-16T23:09:13\", \"season\": 4645, \"variable\": \"total bean vol\", \"value\": 154183.44105, \"pod listing vol\": 381540.956409, \"pod order vol\": 293341.907755, \"total bean vol\": 154183.44105, \"total pod vol\": 674882.864164}, {\"timestamp\": \"2022-02-16T23:09:13\", \"season\": 4645, \"variable\": \"total pod vol\", \"value\": 674882.864164, \"pod listing vol\": 381540.956409, \"pod order vol\": 293341.907755, \"total bean vol\": 154183.44105, \"total pod vol\": 674882.864164}, {\"timestamp\": \"2022-02-17T23:19:22\", \"season\": 4669, \"variable\": \"total bean vol\", \"value\": 157906.84446, \"pod listing vol\": 391339.386437, \"pod order vol\": 293341.907755, \"total bean vol\": 157906.84446, \"total pod vol\": 684681.294192}, {\"timestamp\": \"2022-02-17T23:19:22\", \"season\": 4669, \"variable\": \"total pod vol\", \"value\": 684681.294192, \"pod listing vol\": 391339.386437, \"pod order vol\": 293341.907755, \"total bean vol\": 157906.84446, \"total pod vol\": 684681.294192}, {\"timestamp\": \"2022-02-17T23:19:22\", \"season\": 4669, \"variable\": \"pod listing vol\", \"value\": 391339.386437, \"pod listing vol\": 391339.386437, \"pod order vol\": 293341.907755, \"total bean vol\": 157906.84446, \"total pod vol\": 684681.294192}, {\"timestamp\": \"2022-02-17T23:19:22\", \"season\": 4669, \"variable\": \"pod order vol\", \"value\": 293341.907755, \"pod listing vol\": 391339.386437, \"pod order vol\": 293341.907755, \"total bean vol\": 157906.84446, \"total pod vol\": 684681.294192}, {\"timestamp\": \"2022-02-18T20:12:55\", \"season\": 4693, \"variable\": \"pod listing vol\", \"value\": 779796.756941, \"pod listing vol\": 779796.756941, \"pod order vol\": 305841.907755, \"total bean vol\": 191639.074037, \"total pod vol\": 1085638.664696}, {\"timestamp\": \"2022-02-18T20:12:55\", \"season\": 4693, \"variable\": \"pod order vol\", \"value\": 305841.907755, \"pod listing vol\": 779796.756941, \"pod order vol\": 305841.907755, \"total bean vol\": 191639.074037, \"total pod vol\": 1085638.664696}, {\"timestamp\": \"2022-02-18T20:12:55\", \"season\": 4693, \"variable\": \"total bean vol\", \"value\": 191639.074037, \"pod listing vol\": 779796.756941, \"pod order vol\": 305841.907755, \"total bean vol\": 191639.074037, \"total pod vol\": 1085638.664696}, {\"timestamp\": \"2022-02-18T20:12:55\", \"season\": 4693, \"variable\": \"total pod vol\", \"value\": 1085638.664696, \"pod listing vol\": 779796.756941, \"pod order vol\": 305841.907755, \"total bean vol\": 191639.074037, \"total pod vol\": 1085638.664696}, {\"timestamp\": \"2022-02-19T17:04:04\", \"season\": 4717, \"variable\": \"pod listing vol\", \"value\": 779796.756941, \"pod listing vol\": 779796.756941, \"pod order vol\": 504234.819865, \"total bean vol\": 194159.846539, \"total pod vol\": 1284031.576806}, {\"timestamp\": \"2022-02-19T17:04:04\", \"season\": 4717, \"variable\": \"pod order vol\", \"value\": 504234.819865, \"pod listing vol\": 779796.756941, \"pod order vol\": 504234.819865, \"total bean vol\": 194159.846539, \"total pod vol\": 1284031.576806}, {\"timestamp\": \"2022-02-19T17:04:04\", \"season\": 4717, \"variable\": \"total bean vol\", \"value\": 194159.846539, \"pod listing vol\": 779796.756941, \"pod order vol\": 504234.819865, \"total bean vol\": 194159.846539, \"total pod vol\": 1284031.576806}, {\"timestamp\": \"2022-02-19T17:04:04\", \"season\": 4717, \"variable\": \"total pod vol\", \"value\": 1284031.576806, \"pod listing vol\": 779796.756941, \"pod order vol\": 504234.819865, \"total bean vol\": 194159.846539, \"total pod vol\": 1284031.576806}, {\"timestamp\": \"2022-02-20T16:27:18\", \"season\": 4741, \"variable\": \"total bean vol\", \"value\": 195059.23602, \"pod listing vol\": 779796.756941, \"pod order vol\": 505870.073468, \"total bean vol\": 195059.23602, \"total pod vol\": 1285666.830409}, {\"timestamp\": \"2022-02-20T16:27:18\", \"season\": 4741, \"variable\": \"total pod vol\", \"value\": 1285666.830409, \"pod listing vol\": 779796.756941, \"pod order vol\": 505870.073468, \"total bean vol\": 195059.23602, \"total pod vol\": 1285666.830409}, {\"timestamp\": \"2022-02-20T16:27:18\", \"season\": 4741, \"variable\": \"pod order vol\", \"value\": 505870.073468, \"pod listing vol\": 779796.756941, \"pod order vol\": 505870.073468, \"total bean vol\": 195059.23602, \"total pod vol\": 1285666.830409}, {\"timestamp\": \"2022-02-20T16:27:18\", \"season\": 4741, \"variable\": \"pod listing vol\", \"value\": 779796.756941, \"pod listing vol\": 779796.756941, \"pod order vol\": 505870.073468, \"total bean vol\": 195059.23602, \"total pod vol\": 1285666.830409}, {\"timestamp\": \"2022-02-21T06:17:58\", \"season\": 4765, \"variable\": \"pod listing vol\", \"value\": 779796.756941, \"pod listing vol\": 779796.756941, \"pod order vol\": 505870.073468, \"total bean vol\": 195059.23602, \"total pod vol\": 1285666.830409}, {\"timestamp\": \"2022-02-21T06:17:58\", \"season\": 4765, \"variable\": \"pod order vol\", \"value\": 505870.073468, \"pod listing vol\": 779796.756941, \"pod order vol\": 505870.073468, \"total bean vol\": 195059.23602, \"total pod vol\": 1285666.830409}, {\"timestamp\": \"2022-02-21T06:17:58\", \"season\": 4765, \"variable\": \"total bean vol\", \"value\": 195059.23602, \"pod listing vol\": 779796.756941, \"pod order vol\": 505870.073468, \"total bean vol\": 195059.23602, \"total pod vol\": 1285666.830409}, {\"timestamp\": \"2022-02-21T06:17:58\", \"season\": 4765, \"variable\": \"total pod vol\", \"value\": 1285666.830409, \"pod listing vol\": 779796.756941, \"pod order vol\": 505870.073468, \"total bean vol\": 195059.23602, \"total pod vol\": 1285666.830409}, {\"timestamp\": \"2022-02-22T17:03:02\", \"season\": 4789, \"variable\": \"pod listing vol\", \"value\": 966930.285853, \"pod listing vol\": 966930.285853, \"pod order vol\": 506870.184018, \"total bean vol\": 210579.979133, \"total pod vol\": 1473800.469871}, {\"timestamp\": \"2022-02-22T17:03:02\", \"season\": 4789, \"variable\": \"pod order vol\", \"value\": 506870.184018, \"pod listing vol\": 966930.285853, \"pod order vol\": 506870.184018, \"total bean vol\": 210579.979133, \"total pod vol\": 1473800.469871}, {\"timestamp\": \"2022-02-22T17:03:02\", \"season\": 4789, \"variable\": \"total bean vol\", \"value\": 210579.979133, \"pod listing vol\": 966930.285853, \"pod order vol\": 506870.184018, \"total bean vol\": 210579.979133, \"total pod vol\": 1473800.469871}, {\"timestamp\": \"2022-02-22T17:03:02\", \"season\": 4789, \"variable\": \"total pod vol\", \"value\": 1473800.469871, \"pod listing vol\": 966930.285853, \"pod order vol\": 506870.184018, \"total bean vol\": 210579.979133, \"total pod vol\": 1473800.469871}, {\"timestamp\": \"2022-02-23T22:36:02\", \"season\": 4813, \"variable\": \"total pod vol\", \"value\": 1474284.151543, \"pod listing vol\": 966930.285853, \"pod order vol\": 507353.86569, \"total bean vol\": 210846.004052, \"total pod vol\": 1474284.151543}, {\"timestamp\": \"2022-02-23T22:36:02\", \"season\": 4813, \"variable\": \"pod listing vol\", \"value\": 966930.285853, \"pod listing vol\": 966930.285853, \"pod order vol\": 507353.86569, \"total bean vol\": 210846.004052, \"total pod vol\": 1474284.151543}, {\"timestamp\": \"2022-02-23T22:36:02\", \"season\": 4813, \"variable\": \"pod order vol\", \"value\": 507353.86569, \"pod listing vol\": 966930.285853, \"pod order vol\": 507353.86569, \"total bean vol\": 210846.004052, \"total pod vol\": 1474284.151543}, {\"timestamp\": \"2022-02-23T22:36:02\", \"season\": 4813, \"variable\": \"total bean vol\", \"value\": 210846.004052, \"pod listing vol\": 966930.285853, \"pod order vol\": 507353.86569, \"total bean vol\": 210846.004052, \"total pod vol\": 1474284.151543}, {\"timestamp\": \"2022-02-24T19:52:20\", \"season\": 4837, \"variable\": \"total bean vol\", \"value\": 248695.943501, \"pod listing vol\": 970675.63203, \"pod order vol\": 819961.01814, \"total bean vol\": 248695.943501, \"total pod vol\": 1790636.65017}, {\"timestamp\": \"2022-02-24T19:52:20\", \"season\": 4837, \"variable\": \"total pod vol\", \"value\": 1790636.65017, \"pod listing vol\": 970675.63203, \"pod order vol\": 819961.01814, \"total bean vol\": 248695.943501, \"total pod vol\": 1790636.65017}, {\"timestamp\": \"2022-02-24T19:52:20\", \"season\": 4837, \"variable\": \"pod listing vol\", \"value\": 970675.63203, \"pod listing vol\": 970675.63203, \"pod order vol\": 819961.01814, \"total bean vol\": 248695.943501, \"total pod vol\": 1790636.65017}, {\"timestamp\": \"2022-02-24T19:52:20\", \"season\": 4837, \"variable\": \"pod order vol\", \"value\": 819961.01814, \"pod listing vol\": 970675.63203, \"pod order vol\": 819961.01814, \"total bean vol\": 248695.943501, \"total pod vol\": 1790636.65017}, {\"timestamp\": \"2022-02-25T05:47:04\", \"season\": 4861, \"variable\": \"total pod vol\", \"value\": 1790636.65017, \"pod listing vol\": 970675.63203, \"pod order vol\": 819961.01814, \"total bean vol\": 248695.943501, \"total pod vol\": 1790636.65017}, {\"timestamp\": \"2022-02-25T05:47:04\", \"season\": 4861, \"variable\": \"total bean vol\", \"value\": 248695.943501, \"pod listing vol\": 970675.63203, \"pod order vol\": 819961.01814, \"total bean vol\": 248695.943501, \"total pod vol\": 1790636.65017}, {\"timestamp\": \"2022-02-25T05:47:04\", \"season\": 4861, \"variable\": \"pod order vol\", \"value\": 819961.01814, \"pod listing vol\": 970675.63203, \"pod order vol\": 819961.01814, \"total bean vol\": 248695.943501, \"total pod vol\": 1790636.65017}, {\"timestamp\": \"2022-02-25T05:47:04\", \"season\": 4861, \"variable\": \"pod listing vol\", \"value\": 970675.63203, \"pod listing vol\": 970675.63203, \"pod order vol\": 819961.01814, \"total bean vol\": 248695.943501, \"total pod vol\": 1790636.65017}, {\"timestamp\": \"2022-02-26T22:28:52\", \"season\": 4885, \"variable\": \"pod listing vol\", \"value\": 974676.112126, \"pod listing vol\": 974676.112126, \"pod order vol\": 919961.01814, \"total bean vol\": 251699.94398, \"total pod vol\": 1894637.130266}, {\"timestamp\": \"2022-02-26T22:28:52\", \"season\": 4885, \"variable\": \"pod order vol\", \"value\": 919961.01814, \"pod listing vol\": 974676.112126, \"pod order vol\": 919961.01814, \"total bean vol\": 251699.94398, \"total pod vol\": 1894637.130266}, {\"timestamp\": \"2022-02-26T22:28:52\", \"season\": 4885, \"variable\": \"total bean vol\", \"value\": 251699.94398, \"pod listing vol\": 974676.112126, \"pod order vol\": 919961.01814, \"total bean vol\": 251699.94398, \"total pod vol\": 1894637.130266}, {\"timestamp\": \"2022-02-26T22:28:52\", \"season\": 4885, \"variable\": \"total pod vol\", \"value\": 1894637.130266, \"pod listing vol\": 974676.112126, \"pod order vol\": 919961.01814, \"total bean vol\": 251699.94398, \"total pod vol\": 1894637.130266}, {\"timestamp\": \"2022-02-27T13:59:05\", \"season\": 4909, \"variable\": \"total bean vol\", \"value\": 254539.855847, \"pod listing vol\": 977116.960879, \"pod order vol\": 986627.684806, \"total bean vol\": 254539.855847, \"total pod vol\": 1963744.645685}, {\"timestamp\": \"2022-02-27T13:59:05\", \"season\": 4909, \"variable\": \"total pod vol\", \"value\": 1963744.645685, \"pod listing vol\": 977116.960879, \"pod order vol\": 986627.684806, \"total bean vol\": 254539.855847, \"total pod vol\": 1963744.645685}, {\"timestamp\": \"2022-02-27T13:59:05\", \"season\": 4909, \"variable\": \"pod listing vol\", \"value\": 977116.960879, \"pod listing vol\": 977116.960879, \"pod order vol\": 986627.684806, \"total bean vol\": 254539.855847, \"total pod vol\": 1963744.645685}, {\"timestamp\": \"2022-02-27T13:59:05\", \"season\": 4909, \"variable\": \"pod order vol\", \"value\": 986627.684806, \"pod listing vol\": 977116.960879, \"pod order vol\": 986627.684806, \"total bean vol\": 254539.855847, \"total pod vol\": 1963744.645685}, {\"timestamp\": \"2022-02-28T00:00:02\", \"season\": 4933, \"variable\": \"pod listing vol\", \"value\": 977116.960879, \"pod listing vol\": 977116.960879, \"pod order vol\": 986627.684806, \"total bean vol\": 254539.855847, \"total pod vol\": 1963744.645685}, {\"timestamp\": \"2022-02-28T00:00:02\", \"season\": 4933, \"variable\": \"pod order vol\", \"value\": 986627.684806, \"pod listing vol\": 977116.960879, \"pod order vol\": 986627.684806, \"total bean vol\": 254539.855847, \"total pod vol\": 1963744.645685}, {\"timestamp\": \"2022-02-28T00:00:02\", \"season\": 4933, \"variable\": \"total bean vol\", \"value\": 254539.855847, \"pod listing vol\": 977116.960879, \"pod order vol\": 986627.684806, \"total bean vol\": 254539.855847, \"total pod vol\": 1963744.645685}, {\"timestamp\": \"2022-02-28T00:00:02\", \"season\": 4933, \"variable\": \"total pod vol\", \"value\": 1963744.645685, \"pod listing vol\": 977116.960879, \"pod order vol\": 986627.684806, \"total bean vol\": 254539.855847, \"total pod vol\": 1963744.645685}, {\"timestamp\": \"2022-03-01T23:41:00\", \"season\": 4957, \"variable\": \"pod listing vol\", \"value\": 1510893.968534, \"pod listing vol\": 1510893.968534, \"pod order vol\": 986627.684806, \"total bean vol\": 303608.785738, \"total pod vol\": 2497521.65334}, {\"timestamp\": \"2022-03-01T23:41:00\", \"season\": 4957, \"variable\": \"pod order vol\", \"value\": 986627.684806, \"pod listing vol\": 1510893.968534, \"pod order vol\": 986627.684806, \"total bean vol\": 303608.785738, \"total pod vol\": 2497521.65334}, {\"timestamp\": \"2022-03-01T23:41:00\", \"season\": 4957, \"variable\": \"total bean vol\", \"value\": 303608.785738, \"pod listing vol\": 1510893.968534, \"pod order vol\": 986627.684806, \"total bean vol\": 303608.785738, \"total pod vol\": 2497521.65334}, {\"timestamp\": \"2022-03-01T23:41:00\", \"season\": 4957, \"variable\": \"total pod vol\", \"value\": 2497521.65334, \"pod listing vol\": 1510893.968534, \"pod order vol\": 986627.684806, \"total bean vol\": 303608.785738, \"total pod vol\": 2497521.65334}, {\"timestamp\": \"2022-03-02T23:22:06\", \"season\": 4981, \"variable\": \"total pod vol\", \"value\": 2768125.148805, \"pod listing vol\": 1781497.463999, \"pod order vol\": 986627.684806, \"total bean vol\": 327963.100327, \"total pod vol\": 2768125.148805}, {\"timestamp\": \"2022-03-02T23:22:06\", \"season\": 4981, \"variable\": \"total bean vol\", \"value\": 327963.100327, \"pod listing vol\": 1781497.463999, \"pod order vol\": 986627.684806, \"total bean vol\": 327963.100327, \"total pod vol\": 2768125.148805}, {\"timestamp\": \"2022-03-02T23:22:06\", \"season\": 4981, \"variable\": \"pod order vol\", \"value\": 986627.684806, \"pod listing vol\": 1781497.463999, \"pod order vol\": 986627.684806, \"total bean vol\": 327963.100327, \"total pod vol\": 2768125.148805}, {\"timestamp\": \"2022-03-02T23:22:06\", \"season\": 4981, \"variable\": \"pod listing vol\", \"value\": 1781497.463999, \"pod listing vol\": 1781497.463999, \"pod order vol\": 986627.684806, \"total bean vol\": 327963.100327, \"total pod vol\": 2768125.148805}, {\"timestamp\": \"2022-03-03T21:29:39\", \"season\": 5005, \"variable\": \"pod listing vol\", \"value\": 1808463.008658, \"pod listing vol\": 1808463.008658, \"pod order vol\": 1023139.559462, \"total bean vol\": 332936.744079, \"total pod vol\": 2831602.56812}, {\"timestamp\": \"2022-03-03T21:29:39\", \"season\": 5005, \"variable\": \"pod order vol\", \"value\": 1023139.559462, \"pod listing vol\": 1808463.008658, \"pod order vol\": 1023139.559462, \"total bean vol\": 332936.744079, \"total pod vol\": 2831602.56812}, {\"timestamp\": \"2022-03-03T21:29:39\", \"season\": 5005, \"variable\": \"total bean vol\", \"value\": 332936.744079, \"pod listing vol\": 1808463.008658, \"pod order vol\": 1023139.559462, \"total bean vol\": 332936.744079, \"total pod vol\": 2831602.56812}, {\"timestamp\": \"2022-03-03T21:29:39\", \"season\": 5005, \"variable\": \"total pod vol\", \"value\": 2831602.56812, \"pod listing vol\": 1808463.008658, \"pod order vol\": 1023139.559462, \"total bean vol\": 332936.744079, \"total pod vol\": 2831602.56812}, {\"timestamp\": \"2022-03-04T20:52:36\", \"season\": 5029, \"variable\": \"pod listing vol\", \"value\": 1808956.440896, \"pod listing vol\": 1808956.440896, \"pod order vol\": 1041424.174862, \"total bean vol\": 333223.211002, \"total pod vol\": 2850380.615758}, {\"timestamp\": \"2022-03-04T20:52:36\", \"season\": 5029, \"variable\": \"pod order vol\", \"value\": 1041424.174862, \"pod listing vol\": 1808956.440896, \"pod order vol\": 1041424.174862, \"total bean vol\": 333223.211002, \"total pod vol\": 2850380.615758}, {\"timestamp\": \"2022-03-04T20:52:36\", \"season\": 5029, \"variable\": \"total bean vol\", \"value\": 333223.211002, \"pod listing vol\": 1808956.440896, \"pod order vol\": 1041424.174862, \"total bean vol\": 333223.211002, \"total pod vol\": 2850380.615758}, {\"timestamp\": \"2022-03-04T20:52:36\", \"season\": 5029, \"variable\": \"total pod vol\", \"value\": 2850380.615758, \"pod listing vol\": 1808956.440896, \"pod order vol\": 1041424.174862, \"total bean vol\": 333223.211002, \"total pod vol\": 2850380.615758}, {\"timestamp\": \"2022-03-05T21:16:36\", \"season\": 5053, \"variable\": \"total pod vol\", \"value\": 2863006.872716, \"pod listing vol\": 1821582.697854, \"pod order vol\": 1041424.174862, \"total bean vol\": 338021.188646, \"total pod vol\": 2863006.872716}, {\"timestamp\": \"2022-03-05T21:16:36\", \"season\": 5053, \"variable\": \"total bean vol\", \"value\": 338021.188646, \"pod listing vol\": 1821582.697854, \"pod order vol\": 1041424.174862, \"total bean vol\": 338021.188646, \"total pod vol\": 2863006.872716}, {\"timestamp\": \"2022-03-05T21:16:36\", \"season\": 5053, \"variable\": \"pod listing vol\", \"value\": 1821582.697854, \"pod listing vol\": 1821582.697854, \"pod order vol\": 1041424.174862, \"total bean vol\": 338021.188646, \"total pod vol\": 2863006.872716}, {\"timestamp\": \"2022-03-05T21:16:36\", \"season\": 5053, \"variable\": \"pod order vol\", \"value\": 1041424.174862, \"pod listing vol\": 1821582.697854, \"pod order vol\": 1041424.174862, \"total bean vol\": 338021.188646, \"total pod vol\": 2863006.872716}, {\"timestamp\": \"2022-03-06T23:28:16\", \"season\": 5077, \"variable\": \"pod listing vol\", \"value\": 2067546.741749, \"pod listing vol\": 2067546.741749, \"pod order vol\": 1041424.174862, \"total bean vol\": 400506.311105, \"total pod vol\": 3108970.916611}, {\"timestamp\": \"2022-03-06T23:28:16\", \"season\": 5077, \"variable\": \"pod order vol\", \"value\": 1041424.174862, \"pod listing vol\": 2067546.741749, \"pod order vol\": 1041424.174862, \"total bean vol\": 400506.311105, \"total pod vol\": 3108970.916611}, {\"timestamp\": \"2022-03-06T23:28:16\", \"season\": 5077, \"variable\": \"total bean vol\", \"value\": 400506.311105, \"pod listing vol\": 2067546.741749, \"pod order vol\": 1041424.174862, \"total bean vol\": 400506.311105, \"total pod vol\": 3108970.916611}, {\"timestamp\": \"2022-03-06T23:28:16\", \"season\": 5077, \"variable\": \"total pod vol\", \"value\": 3108970.916611, \"pod listing vol\": 2067546.741749, \"pod order vol\": 1041424.174862, \"total bean vol\": 400506.311105, \"total pod vol\": 3108970.916611}, {\"timestamp\": \"2022-03-07T22:32:13\", \"season\": 5101, \"variable\": \"total bean vol\", \"value\": 413977.048801, \"pod listing vol\": 2108348.639589, \"pod order vol\": 1061613.474497, \"total bean vol\": 413977.048801, \"total pod vol\": 3169962.114086}, {\"timestamp\": \"2022-03-07T22:32:13\", \"season\": 5101, \"variable\": \"total pod vol\", \"value\": 3169962.114086, \"pod listing vol\": 2108348.639589, \"pod order vol\": 1061613.474497, \"total bean vol\": 413977.048801, \"total pod vol\": 3169962.114086}, {\"timestamp\": \"2022-03-07T22:32:13\", \"season\": 5101, \"variable\": \"pod order vol\", \"value\": 1061613.474497, \"pod listing vol\": 2108348.639589, \"pod order vol\": 1061613.474497, \"total bean vol\": 413977.048801, \"total pod vol\": 3169962.114086}, {\"timestamp\": \"2022-03-07T22:32:13\", \"season\": 5101, \"variable\": \"pod listing vol\", \"value\": 2108348.639589, \"pod listing vol\": 2108348.639589, \"pod order vol\": 1061613.474497, \"total bean vol\": 413977.048801, \"total pod vol\": 3169962.114086}, {\"timestamp\": \"2022-03-08T22:32:39\", \"season\": 5125, \"variable\": \"pod listing vol\", \"value\": 2274088.006681, \"pod listing vol\": 2274088.006681, \"pod order vol\": 1065356.105445, \"total bean vol\": 441982.937428, \"total pod vol\": 3339444.112126}, {\"timestamp\": \"2022-03-08T22:32:39\", \"season\": 5125, \"variable\": \"pod order vol\", \"value\": 1065356.105445, \"pod listing vol\": 2274088.006681, \"pod order vol\": 1065356.105445, \"total bean vol\": 441982.937428, \"total pod vol\": 3339444.112126}, {\"timestamp\": \"2022-03-08T22:32:39\", \"season\": 5125, \"variable\": \"total bean vol\", \"value\": 441982.937428, \"pod listing vol\": 2274088.006681, \"pod order vol\": 1065356.105445, \"total bean vol\": 441982.937428, \"total pod vol\": 3339444.112126}, {\"timestamp\": \"2022-03-08T22:32:39\", \"season\": 5125, \"variable\": \"total pod vol\", \"value\": 3339444.112126, \"pod listing vol\": 2274088.006681, \"pod order vol\": 1065356.105445, \"total bean vol\": 441982.937428, \"total pod vol\": 3339444.112126}, {\"timestamp\": \"2022-03-09T23:20:31\", \"season\": 5149, \"variable\": \"pod listing vol\", \"value\": 3573959.835924, \"pod listing vol\": 3573959.835924, \"pod order vol\": 1565356.105445, \"total bean vol\": 625604.529573, \"total pod vol\": 5139315.941369}, {\"timestamp\": \"2022-03-09T23:20:31\", \"season\": 5149, \"variable\": \"pod order vol\", \"value\": 1565356.105445, \"pod listing vol\": 3573959.835924, \"pod order vol\": 1565356.105445, \"total bean vol\": 625604.529573, \"total pod vol\": 5139315.941369}, {\"timestamp\": \"2022-03-09T23:20:31\", \"season\": 5149, \"variable\": \"total bean vol\", \"value\": 625604.529573, \"pod listing vol\": 3573959.835924, \"pod order vol\": 1565356.105445, \"total bean vol\": 625604.529573, \"total pod vol\": 5139315.941369}, {\"timestamp\": \"2022-03-09T23:20:31\", \"season\": 5149, \"variable\": \"total pod vol\", \"value\": 5139315.941369, \"pod listing vol\": 3573959.835924, \"pod order vol\": 1565356.105445, \"total bean vol\": 625604.529573, \"total pod vol\": 5139315.941369}, {\"timestamp\": \"2022-03-10T23:49:11\", \"season\": 5173, \"variable\": \"pod listing vol\", \"value\": 3682345.382738, \"pod listing vol\": 3682345.382738, \"pod order vol\": 1565356.105445, \"total bean vol\": 653134.010303, \"total pod vol\": 5247701.488183}, {\"timestamp\": \"2022-03-10T23:49:11\", \"season\": 5173, \"variable\": \"pod order vol\", \"value\": 1565356.105445, \"pod listing vol\": 3682345.382738, \"pod order vol\": 1565356.105445, \"total bean vol\": 653134.010303, \"total pod vol\": 5247701.488183}, {\"timestamp\": \"2022-03-10T23:49:11\", \"season\": 5173, \"variable\": \"total bean vol\", \"value\": 653134.010303, \"pod listing vol\": 3682345.382738, \"pod order vol\": 1565356.105445, \"total bean vol\": 653134.010303, \"total pod vol\": 5247701.488183}, {\"timestamp\": \"2022-03-10T23:49:11\", \"season\": 5173, \"variable\": \"total pod vol\", \"value\": 5247701.488183, \"pod listing vol\": 3682345.382738, \"pod order vol\": 1565356.105445, \"total bean vol\": 653134.010303, \"total pod vol\": 5247701.488183}, {\"timestamp\": \"2022-03-11T23:54:48\", \"season\": 5197, \"variable\": \"total pod vol\", \"value\": 6042849.682536, \"pod listing vol\": 4445560.666243, \"pod order vol\": 1597289.016293, \"total bean vol\": 696157.304546, \"total pod vol\": 6042849.682536}, {\"timestamp\": \"2022-03-11T23:54:48\", \"season\": 5197, \"variable\": \"total bean vol\", \"value\": 696157.304546, \"pod listing vol\": 4445560.666243, \"pod order vol\": 1597289.016293, \"total bean vol\": 696157.304546, \"total pod vol\": 6042849.682536}, {\"timestamp\": \"2022-03-11T23:54:48\", \"season\": 5197, \"variable\": \"pod order vol\", \"value\": 1597289.016293, \"pod listing vol\": 4445560.666243, \"pod order vol\": 1597289.016293, \"total bean vol\": 696157.304546, \"total pod vol\": 6042849.682536}, {\"timestamp\": \"2022-03-11T23:54:48\", \"season\": 5197, \"variable\": \"pod listing vol\", \"value\": 4445560.666243, \"pod listing vol\": 4445560.666243, \"pod order vol\": 1597289.016293, \"total bean vol\": 696157.304546, \"total pod vol\": 6042849.682536}, {\"timestamp\": \"2022-03-12T23:46:26\", \"season\": 5221, \"variable\": \"pod listing vol\", \"value\": 4906983.099316, \"pod listing vol\": 4906983.099316, \"pod order vol\": 1890813.699831, \"total bean vol\": 742742.587012, \"total pod vol\": 6797796.799147}, {\"timestamp\": \"2022-03-12T23:46:26\", \"season\": 5221, \"variable\": \"pod order vol\", \"value\": 1890813.699831, \"pod listing vol\": 4906983.099316, \"pod order vol\": 1890813.699831, \"total bean vol\": 742742.587012, \"total pod vol\": 6797796.799147}, {\"timestamp\": \"2022-03-12T23:46:26\", \"season\": 5221, \"variable\": \"total bean vol\", \"value\": 742742.587012, \"pod listing vol\": 4906983.099316, \"pod order vol\": 1890813.699831, \"total bean vol\": 742742.587012, \"total pod vol\": 6797796.799147}, {\"timestamp\": \"2022-03-12T23:46:26\", \"season\": 5221, \"variable\": \"total pod vol\", \"value\": 6797796.799147, \"pod listing vol\": 4906983.099316, \"pod order vol\": 1890813.699831, \"total bean vol\": 742742.587012, \"total pod vol\": 6797796.799147}, {\"timestamp\": \"2022-03-13T22:53:17\", \"season\": 5245, \"variable\": \"pod listing vol\", \"value\": 5090071.604789, \"pod listing vol\": 5090071.604789, \"pod order vol\": 1895256.376219, \"total bean vol\": 757339.720102, \"total pod vol\": 6985327.981008}, {\"timestamp\": \"2022-03-13T22:53:17\", \"season\": 5245, \"variable\": \"pod order vol\", \"value\": 1895256.376219, \"pod listing vol\": 5090071.604789, \"pod order vol\": 1895256.376219, \"total bean vol\": 757339.720102, \"total pod vol\": 6985327.981008}, {\"timestamp\": \"2022-03-13T22:53:17\", \"season\": 5245, \"variable\": \"total bean vol\", \"value\": 757339.720102, \"pod listing vol\": 5090071.604789, \"pod order vol\": 1895256.376219, \"total bean vol\": 757339.720102, \"total pod vol\": 6985327.981008}, {\"timestamp\": \"2022-03-13T22:53:17\", \"season\": 5245, \"variable\": \"total pod vol\", \"value\": 6985327.981008, \"pod listing vol\": 5090071.604789, \"pod order vol\": 1895256.376219, \"total bean vol\": 757339.720102, \"total pod vol\": 6985327.981008}, {\"timestamp\": \"2022-03-14T23:59:28\", \"season\": 5269, \"variable\": \"pod listing vol\", \"value\": 5238159.67585, \"pod listing vol\": 5238159.67585, \"pod order vol\": 1926363.998853, \"total bean vol\": 796841.738907, \"total pod vol\": 7164523.674703}, {\"timestamp\": \"2022-03-14T23:59:28\", \"season\": 5269, \"variable\": \"pod order vol\", \"value\": 1926363.998853, \"pod listing vol\": 5238159.67585, \"pod order vol\": 1926363.998853, \"total bean vol\": 796841.738907, \"total pod vol\": 7164523.674703}, {\"timestamp\": \"2022-03-14T23:59:28\", \"season\": 5269, \"variable\": \"total bean vol\", \"value\": 796841.738907, \"pod listing vol\": 5238159.67585, \"pod order vol\": 1926363.998853, \"total bean vol\": 796841.738907, \"total pod vol\": 7164523.674703}, {\"timestamp\": \"2022-03-14T23:59:28\", \"season\": 5269, \"variable\": \"total pod vol\", \"value\": 7164523.674703, \"pod listing vol\": 5238159.67585, \"pod order vol\": 1926363.998853, \"total bean vol\": 796841.738907, \"total pod vol\": 7164523.674703}, {\"timestamp\": \"2022-03-15T23:23:43\", \"season\": 5293, \"variable\": \"total bean vol\", \"value\": 857112.135209, \"pod listing vol\": 5560139.700207, \"pod order vol\": 2092955.004283, \"total bean vol\": 857112.135209, \"total pod vol\": 7653094.70449}, {\"timestamp\": \"2022-03-15T23:23:43\", \"season\": 5293, \"variable\": \"total pod vol\", \"value\": 7653094.70449, \"pod listing vol\": 5560139.700207, \"pod order vol\": 2092955.004283, \"total bean vol\": 857112.135209, \"total pod vol\": 7653094.70449}, {\"timestamp\": \"2022-03-15T23:23:43\", \"season\": 5293, \"variable\": \"pod listing vol\", \"value\": 5560139.700207, \"pod listing vol\": 5560139.700207, \"pod order vol\": 2092955.004283, \"total bean vol\": 857112.135209, \"total pod vol\": 7653094.70449}, {\"timestamp\": \"2022-03-15T23:23:43\", \"season\": 5293, \"variable\": \"pod order vol\", \"value\": 2092955.004283, \"pod listing vol\": 5560139.700207, \"pod order vol\": 2092955.004283, \"total bean vol\": 857112.135209, \"total pod vol\": 7653094.70449}, {\"timestamp\": \"2022-03-16T23:32:43\", \"season\": 5317, \"variable\": \"total bean vol\", \"value\": 899911.996859, \"pod listing vol\": 5787420.060394, \"pod order vol\": 2126695.261873, \"total bean vol\": 899911.996859, \"total pod vol\": 7914115.322267}, {\"timestamp\": \"2022-03-16T23:32:43\", \"season\": 5317, \"variable\": \"total pod vol\", \"value\": 7914115.322267, \"pod listing vol\": 5787420.060394, \"pod order vol\": 2126695.261873, \"total bean vol\": 899911.996859, \"total pod vol\": 7914115.322267}, {\"timestamp\": \"2022-03-16T23:32:43\", \"season\": 5317, \"variable\": \"pod listing vol\", \"value\": 5787420.060394, \"pod listing vol\": 5787420.060394, \"pod order vol\": 2126695.261873, \"total bean vol\": 899911.996859, \"total pod vol\": 7914115.322267}, {\"timestamp\": \"2022-03-16T23:32:43\", \"season\": 5317, \"variable\": \"pod order vol\", \"value\": 2126695.261873, \"pod listing vol\": 5787420.060394, \"pod order vol\": 2126695.261873, \"total bean vol\": 899911.996859, \"total pod vol\": 7914115.322267}, {\"timestamp\": \"2022-03-17T23:35:12\", \"season\": 5341, \"variable\": \"total pod vol\", \"value\": 10322534.096408, \"pod listing vol\": 8195838.834535, \"pod order vol\": 2126695.261873, \"total bean vol\": 1122350.805546, \"total pod vol\": 10322534.096408}, {\"timestamp\": \"2022-03-17T23:35:12\", \"season\": 5341, \"variable\": \"total bean vol\", \"value\": 1122350.805546, \"pod listing vol\": 8195838.834535, \"pod order vol\": 2126695.261873, \"total bean vol\": 1122350.805546, \"total pod vol\": 10322534.096408}, {\"timestamp\": \"2022-03-17T23:35:12\", \"season\": 5341, \"variable\": \"pod order vol\", \"value\": 2126695.261873, \"pod listing vol\": 8195838.834535, \"pod order vol\": 2126695.261873, \"total bean vol\": 1122350.805546, \"total pod vol\": 10322534.096408}, {\"timestamp\": \"2022-03-17T23:35:12\", \"season\": 5341, \"variable\": \"pod listing vol\", \"value\": 8195838.834535, \"pod listing vol\": 8195838.834535, \"pod order vol\": 2126695.261873, \"total bean vol\": 1122350.805546, \"total pod vol\": 10322534.096408}, {\"timestamp\": \"2022-03-18T23:16:14\", \"season\": 5365, \"variable\": \"pod listing vol\", \"value\": 8783559.585444, \"pod listing vol\": 8783559.585444, \"pod order vol\": 2126695.261873, \"total bean vol\": 1193703.11494, \"total pod vol\": 10910254.847317}, {\"timestamp\": \"2022-03-18T23:16:14\", \"season\": 5365, \"variable\": \"pod order vol\", \"value\": 2126695.261873, \"pod listing vol\": 8783559.585444, \"pod order vol\": 2126695.261873, \"total bean vol\": 1193703.11494, \"total pod vol\": 10910254.847317}, {\"timestamp\": \"2022-03-18T23:16:14\", \"season\": 5365, \"variable\": \"total bean vol\", \"value\": 1193703.11494, \"pod listing vol\": 8783559.585444, \"pod order vol\": 2126695.261873, \"total bean vol\": 1193703.11494, \"total pod vol\": 10910254.847317}, {\"timestamp\": \"2022-03-18T23:16:14\", \"season\": 5365, \"variable\": \"total pod vol\", \"value\": 10910254.847317, \"pod listing vol\": 8783559.585444, \"pod order vol\": 2126695.261873, \"total bean vol\": 1193703.11494, \"total pod vol\": 10910254.847317}, {\"timestamp\": \"2022-03-19T23:53:29\", \"season\": 5389, \"variable\": \"total bean vol\", \"value\": 1228644.204988, \"pod listing vol\": 9075279.357225, \"pod order vol\": 2126695.261873, \"total bean vol\": 1228644.204988, \"total pod vol\": 11201974.619098}, {\"timestamp\": \"2022-03-19T23:53:29\", \"season\": 5389, \"variable\": \"total pod vol\", \"value\": 11201974.619098, \"pod listing vol\": 9075279.357225, \"pod order vol\": 2126695.261873, \"total bean vol\": 1228644.204988, \"total pod vol\": 11201974.619098}, {\"timestamp\": \"2022-03-19T23:53:29\", \"season\": 5389, \"variable\": \"pod listing vol\", \"value\": 9075279.357225, \"pod listing vol\": 9075279.357225, \"pod order vol\": 2126695.261873, \"total bean vol\": 1228644.204988, \"total pod vol\": 11201974.619098}, {\"timestamp\": \"2022-03-19T23:53:29\", \"season\": 5389, \"variable\": \"pod order vol\", \"value\": 2126695.261873, \"pod listing vol\": 9075279.357225, \"pod order vol\": 2126695.261873, \"total bean vol\": 1228644.204988, \"total pod vol\": 11201974.619098}, {\"timestamp\": \"2022-03-20T22:09:30\", \"season\": 5413, \"variable\": \"pod listing vol\", \"value\": 9341500.669542, \"pod listing vol\": 9341500.669542, \"pod order vol\": 2126695.261873, \"total bean vol\": 1253566.03742, \"total pod vol\": 11468195.931415}, {\"timestamp\": \"2022-03-20T22:09:30\", \"season\": 5413, \"variable\": \"pod order vol\", \"value\": 2126695.261873, \"pod listing vol\": 9341500.669542, \"pod order vol\": 2126695.261873, \"total bean vol\": 1253566.03742, \"total pod vol\": 11468195.931415}, {\"timestamp\": \"2022-03-20T22:09:30\", \"season\": 5413, \"variable\": \"total bean vol\", \"value\": 1253566.03742, \"pod listing vol\": 9341500.669542, \"pod order vol\": 2126695.261873, \"total bean vol\": 1253566.03742, \"total pod vol\": 11468195.931415}, {\"timestamp\": \"2022-03-20T22:09:30\", \"season\": 5413, \"variable\": \"total pod vol\", \"value\": 11468195.931415, \"pod listing vol\": 9341500.669542, \"pod order vol\": 2126695.261873, \"total bean vol\": 1253566.03742, \"total pod vol\": 11468195.931415}, {\"timestamp\": \"2022-03-21T23:24:11\", \"season\": 5437, \"variable\": \"pod listing vol\", \"value\": 9793211.52467, \"pod listing vol\": 9793211.52467, \"pod order vol\": 2162745.261873, \"total bean vol\": 1286984.255873, \"total pod vol\": 11955956.786543}, {\"timestamp\": \"2022-03-21T23:24:11\", \"season\": 5437, \"variable\": \"pod order vol\", \"value\": 2162745.261873, \"pod listing vol\": 9793211.52467, \"pod order vol\": 2162745.261873, \"total bean vol\": 1286984.255873, \"total pod vol\": 11955956.786543}, {\"timestamp\": \"2022-03-21T23:24:11\", \"season\": 5437, \"variable\": \"total bean vol\", \"value\": 1286984.255873, \"pod listing vol\": 9793211.52467, \"pod order vol\": 2162745.261873, \"total bean vol\": 1286984.255873, \"total pod vol\": 11955956.786543}, {\"timestamp\": \"2022-03-21T23:24:11\", \"season\": 5437, \"variable\": \"total pod vol\", \"value\": 11955956.786543, \"pod listing vol\": 9793211.52467, \"pod order vol\": 2162745.261873, \"total bean vol\": 1286984.255873, \"total pod vol\": 11955956.786543}, {\"timestamp\": \"2022-03-22T23:16:33\", \"season\": 5461, \"variable\": \"total pod vol\", \"value\": 12159606.769839, \"pod listing vol\": 9996861.507966, \"pod order vol\": 2162745.261873, \"total bean vol\": 1363923.853871, \"total pod vol\": 12159606.769839}, {\"timestamp\": \"2022-03-22T23:16:33\", \"season\": 5461, \"variable\": \"total bean vol\", \"value\": 1363923.853871, \"pod listing vol\": 9996861.507966, \"pod order vol\": 2162745.261873, \"total bean vol\": 1363923.853871, \"total pod vol\": 12159606.769839}, {\"timestamp\": \"2022-03-22T23:16:33\", \"season\": 5461, \"variable\": \"pod order vol\", \"value\": 2162745.261873, \"pod listing vol\": 9996861.507966, \"pod order vol\": 2162745.261873, \"total bean vol\": 1363923.853871, \"total pod vol\": 12159606.769839}, {\"timestamp\": \"2022-03-22T23:16:33\", \"season\": 5461, \"variable\": \"pod listing vol\", \"value\": 9996861.507966, \"pod listing vol\": 9996861.507966, \"pod order vol\": 2162745.261873, \"total bean vol\": 1363923.853871, \"total pod vol\": 12159606.769839}, {\"timestamp\": \"2022-03-23T23:27:50\", \"season\": 5485, \"variable\": \"pod listing vol\", \"value\": 10255544.093748, \"pod listing vol\": 10255544.093748, \"pod order vol\": 2162745.261873, \"total bean vol\": 1370414.515195, \"total pod vol\": 12418289.355621}, {\"timestamp\": \"2022-03-23T23:27:50\", \"season\": 5485, \"variable\": \"pod order vol\", \"value\": 2162745.261873, \"pod listing vol\": 10255544.093748, \"pod order vol\": 2162745.261873, \"total bean vol\": 1370414.515195, \"total pod vol\": 12418289.355621}, {\"timestamp\": \"2022-03-23T23:27:50\", \"season\": 5485, \"variable\": \"total bean vol\", \"value\": 1370414.515195, \"pod listing vol\": 10255544.093748, \"pod order vol\": 2162745.261873, \"total bean vol\": 1370414.515195, \"total pod vol\": 12418289.355621}, {\"timestamp\": \"2022-03-23T23:27:50\", \"season\": 5485, \"variable\": \"total pod vol\", \"value\": 12418289.355621, \"pod listing vol\": 10255544.093748, \"pod order vol\": 2162745.261873, \"total bean vol\": 1370414.515195, \"total pod vol\": 12418289.355621}, {\"timestamp\": \"2022-03-24T23:33:29\", \"season\": 5509, \"variable\": \"pod listing vol\", \"value\": 10937702.097924, \"pod listing vol\": 10937702.097924, \"pod order vol\": 2162745.261873, \"total bean vol\": 1448234.697949, \"total pod vol\": 13100447.359797}, {\"timestamp\": \"2022-03-24T23:33:29\", \"season\": 5509, \"variable\": \"pod order vol\", \"value\": 2162745.261873, \"pod listing vol\": 10937702.097924, \"pod order vol\": 2162745.261873, \"total bean vol\": 1448234.697949, \"total pod vol\": 13100447.359797}, {\"timestamp\": \"2022-03-24T23:33:29\", \"season\": 5509, \"variable\": \"total bean vol\", \"value\": 1448234.697949, \"pod listing vol\": 10937702.097924, \"pod order vol\": 2162745.261873, \"total bean vol\": 1448234.697949, \"total pod vol\": 13100447.359797}, {\"timestamp\": \"2022-03-24T23:33:29\", \"season\": 5509, \"variable\": \"total pod vol\", \"value\": 13100447.359797, \"pod listing vol\": 10937702.097924, \"pod order vol\": 2162745.261873, \"total bean vol\": 1448234.697949, \"total pod vol\": 13100447.359797}, {\"timestamp\": \"2022-03-25T20:07:28\", \"season\": 5533, \"variable\": \"total pod vol\", \"value\": 13610989.854573, \"pod listing vol\": 11439206.70357, \"pod order vol\": 2171783.151003, \"total bean vol\": 1548182.275503, \"total pod vol\": 13610989.854573}, {\"timestamp\": \"2022-03-25T20:07:28\", \"season\": 5533, \"variable\": \"total bean vol\", \"value\": 1548182.275503, \"pod listing vol\": 11439206.70357, \"pod order vol\": 2171783.151003, \"total bean vol\": 1548182.275503, \"total pod vol\": 13610989.854573}, {\"timestamp\": \"2022-03-25T20:07:28\", \"season\": 5533, \"variable\": \"pod listing vol\", \"value\": 11439206.70357, \"pod listing vol\": 11439206.70357, \"pod order vol\": 2171783.151003, \"total bean vol\": 1548182.275503, \"total pod vol\": 13610989.854573}, {\"timestamp\": \"2022-03-25T20:07:28\", \"season\": 5533, \"variable\": \"pod order vol\", \"value\": 2171783.151003, \"pod listing vol\": 11439206.70357, \"pod order vol\": 2171783.151003, \"total bean vol\": 1548182.275503, \"total pod vol\": 13610989.854573}, {\"timestamp\": \"2022-03-26T23:19:23\", \"season\": 5557, \"variable\": \"pod listing vol\", \"value\": 12058582.051629, \"pod listing vol\": 12058582.051629, \"pod order vol\": 2181959.119836, \"total bean vol\": 1598387.633989, \"total pod vol\": 14240541.171465}, {\"timestamp\": \"2022-03-26T23:19:23\", \"season\": 5557, \"variable\": \"pod order vol\", \"value\": 2181959.119836, \"pod listing vol\": 12058582.051629, \"pod order vol\": 2181959.119836, \"total bean vol\": 1598387.633989, \"total pod vol\": 14240541.171465}, {\"timestamp\": \"2022-03-26T23:19:23\", \"season\": 5557, \"variable\": \"total bean vol\", \"value\": 1598387.633989, \"pod listing vol\": 12058582.051629, \"pod order vol\": 2181959.119836, \"total bean vol\": 1598387.633989, \"total pod vol\": 14240541.171465}, {\"timestamp\": \"2022-03-26T23:19:23\", \"season\": 5557, \"variable\": \"total pod vol\", \"value\": 14240541.171465, \"pod listing vol\": 12058582.051629, \"pod order vol\": 2181959.119836, \"total bean vol\": 1598387.633989, \"total pod vol\": 14240541.171465}, {\"timestamp\": \"2022-03-27T23:15:31\", \"season\": 5581, \"variable\": \"total pod vol\", \"value\": 14572330.982386, \"pod listing vol\": 12234567.125877, \"pod order vol\": 2337763.856509, \"total bean vol\": 1707133.891141, \"total pod vol\": 14572330.982386}, {\"timestamp\": \"2022-03-27T23:15:31\", \"season\": 5581, \"variable\": \"total bean vol\", \"value\": 1707133.891141, \"pod listing vol\": 12234567.125877, \"pod order vol\": 2337763.856509, \"total bean vol\": 1707133.891141, \"total pod vol\": 14572330.982386}, {\"timestamp\": \"2022-03-27T23:15:31\", \"season\": 5581, \"variable\": \"pod order vol\", \"value\": 2337763.856509, \"pod listing vol\": 12234567.125877, \"pod order vol\": 2337763.856509, \"total bean vol\": 1707133.891141, \"total pod vol\": 14572330.982386}, {\"timestamp\": \"2022-03-27T23:15:31\", \"season\": 5581, \"variable\": \"pod listing vol\", \"value\": 12234567.125877, \"pod listing vol\": 12234567.125877, \"pod order vol\": 2337763.856509, \"total bean vol\": 1707133.891141, \"total pod vol\": 14572330.982386}, {\"timestamp\": \"2022-03-28T22:30:20\", \"season\": 5605, \"variable\": \"pod listing vol\", \"value\": 12252077.043808, \"pod listing vol\": 12252077.043808, \"pod order vol\": 2338817.073105, \"total bean vol\": 1717020.255751, \"total pod vol\": 14590894.116913}, {\"timestamp\": \"2022-03-28T22:30:20\", \"season\": 5605, \"variable\": \"pod order vol\", \"value\": 2338817.073105, \"pod listing vol\": 12252077.043808, \"pod order vol\": 2338817.073105, \"total bean vol\": 1717020.255751, \"total pod vol\": 14590894.116913}, {\"timestamp\": \"2022-03-28T22:30:20\", \"season\": 5605, \"variable\": \"total bean vol\", \"value\": 1717020.255751, \"pod listing vol\": 12252077.043808, \"pod order vol\": 2338817.073105, \"total bean vol\": 1717020.255751, \"total pod vol\": 14590894.116913}, {\"timestamp\": \"2022-03-28T22:30:20\", \"season\": 5605, \"variable\": \"total pod vol\", \"value\": 14590894.116913, \"pod listing vol\": 12252077.043808, \"pod order vol\": 2338817.073105, \"total bean vol\": 1717020.255751, \"total pod vol\": 14590894.116913}, {\"timestamp\": \"2022-03-29T23:32:18\", \"season\": 5629, \"variable\": \"total bean vol\", \"value\": 1724131.087095, \"pod listing vol\": 12463341.499955, \"pod order vol\": 2338817.073105, \"total bean vol\": 1724131.087095, \"total pod vol\": 14802158.57306}, {\"timestamp\": \"2022-03-29T23:32:18\", \"season\": 5629, \"variable\": \"total pod vol\", \"value\": 14802158.57306, \"pod listing vol\": 12463341.499955, \"pod order vol\": 2338817.073105, \"total bean vol\": 1724131.087095, \"total pod vol\": 14802158.57306}, {\"timestamp\": \"2022-03-29T23:32:18\", \"season\": 5629, \"variable\": \"pod listing vol\", \"value\": 12463341.499955, \"pod listing vol\": 12463341.499955, \"pod order vol\": 2338817.073105, \"total bean vol\": 1724131.087095, \"total pod vol\": 14802158.57306}, {\"timestamp\": \"2022-03-29T23:32:18\", \"season\": 5629, \"variable\": \"pod order vol\", \"value\": 2338817.073105, \"pod listing vol\": 12463341.499955, \"pod order vol\": 2338817.073105, \"total bean vol\": 1724131.087095, \"total pod vol\": 14802158.57306}, {\"timestamp\": \"2022-03-30T22:24:18\", \"season\": 5653, \"variable\": \"pod listing vol\", \"value\": 12787830.030649, \"pod listing vol\": 12787830.030649, \"pod order vol\": 2338817.073105, \"total bean vol\": 1766596.466683, \"total pod vol\": 15126647.103754}, {\"timestamp\": \"2022-03-30T22:24:18\", \"season\": 5653, \"variable\": \"pod order vol\", \"value\": 2338817.073105, \"pod listing vol\": 12787830.030649, \"pod order vol\": 2338817.073105, \"total bean vol\": 1766596.466683, \"total pod vol\": 15126647.103754}, {\"timestamp\": \"2022-03-30T22:24:18\", \"season\": 5653, \"variable\": \"total bean vol\", \"value\": 1766596.466683, \"pod listing vol\": 12787830.030649, \"pod order vol\": 2338817.073105, \"total bean vol\": 1766596.466683, \"total pod vol\": 15126647.103754}, {\"timestamp\": \"2022-03-30T22:24:18\", \"season\": 5653, \"variable\": \"total pod vol\", \"value\": 15126647.103754, \"pod listing vol\": 12787830.030649, \"pod order vol\": 2338817.073105, \"total bean vol\": 1766596.466683, \"total pod vol\": 15126647.103754}, {\"timestamp\": \"2022-03-31T21:36:21\", \"season\": 5677, \"variable\": \"total pod vol\", \"value\": 15221381.672557, \"pod listing vol\": 12882564.599452, \"pod order vol\": 2338817.073105, \"total bean vol\": 1784787.474437, \"total pod vol\": 15221381.672557}, {\"timestamp\": \"2022-03-31T21:36:21\", \"season\": 5677, \"variable\": \"pod listing vol\", \"value\": 12882564.599452, \"pod listing vol\": 12882564.599452, \"pod order vol\": 2338817.073105, \"total bean vol\": 1784787.474437, \"total pod vol\": 15221381.672557}, {\"timestamp\": \"2022-03-31T21:36:21\", \"season\": 5677, \"variable\": \"pod order vol\", \"value\": 2338817.073105, \"pod listing vol\": 12882564.599452, \"pod order vol\": 2338817.073105, \"total bean vol\": 1784787.474437, \"total pod vol\": 15221381.672557}, {\"timestamp\": \"2022-03-31T21:36:21\", \"season\": 5677, \"variable\": \"total bean vol\", \"value\": 1784787.474437, \"pod listing vol\": 12882564.599452, \"pod order vol\": 2338817.073105, \"total bean vol\": 1784787.474437, \"total pod vol\": 15221381.672557}, {\"timestamp\": \"2022-04-01T23:27:56\", \"season\": 5701, \"variable\": \"total pod vol\", \"value\": 15380692.146184, \"pod listing vol\": 13033401.919454, \"pod order vol\": 2347290.22673, \"total bean vol\": 1799281.026908, \"total pod vol\": 15380692.146184}, {\"timestamp\": \"2022-04-01T23:27:56\", \"season\": 5701, \"variable\": \"total bean vol\", \"value\": 1799281.026908, \"pod listing vol\": 13033401.919454, \"pod order vol\": 2347290.22673, \"total bean vol\": 1799281.026908, \"total pod vol\": 15380692.146184}, {\"timestamp\": \"2022-04-01T23:27:56\", \"season\": 5701, \"variable\": \"pod listing vol\", \"value\": 13033401.919454, \"pod listing vol\": 13033401.919454, \"pod order vol\": 2347290.22673, \"total bean vol\": 1799281.026908, \"total pod vol\": 15380692.146184}, {\"timestamp\": \"2022-04-01T23:27:56\", \"season\": 5701, \"variable\": \"pod order vol\", \"value\": 2347290.22673, \"pod listing vol\": 13033401.919454, \"pod order vol\": 2347290.22673, \"total bean vol\": 1799281.026908, \"total pod vol\": 15380692.146184}, {\"timestamp\": \"2022-04-02T22:27:51\", \"season\": 5725, \"variable\": \"pod listing vol\", \"value\": 13207190.7293, \"pod listing vol\": 13207190.7293, \"pod order vol\": 2349002.45642, \"total bean vol\": 1830125.481168, \"total pod vol\": 15556193.18572}, {\"timestamp\": \"2022-04-02T22:27:51\", \"season\": 5725, \"variable\": \"pod order vol\", \"value\": 2349002.45642, \"pod listing vol\": 13207190.7293, \"pod order vol\": 2349002.45642, \"total bean vol\": 1830125.481168, \"total pod vol\": 15556193.18572}, {\"timestamp\": \"2022-04-02T22:27:51\", \"season\": 5725, \"variable\": \"total bean vol\", \"value\": 1830125.481168, \"pod listing vol\": 13207190.7293, \"pod order vol\": 2349002.45642, \"total bean vol\": 1830125.481168, \"total pod vol\": 15556193.18572}, {\"timestamp\": \"2022-04-02T22:27:51\", \"season\": 5725, \"variable\": \"total pod vol\", \"value\": 15556193.18572, \"pod listing vol\": 13207190.7293, \"pod order vol\": 2349002.45642, \"total bean vol\": 1830125.481168, \"total pod vol\": 15556193.18572}, {\"timestamp\": \"2022-04-03T22:43:26\", \"season\": 5749, \"variable\": \"total pod vol\", \"value\": 15673322.944323, \"pod listing vol\": 13323910.753581, \"pod order vol\": 2349412.190742, \"total bean vol\": 1843517.4616, \"total pod vol\": 15673322.944323}, {\"timestamp\": \"2022-04-03T22:43:26\", \"season\": 5749, \"variable\": \"pod listing vol\", \"value\": 13323910.753581, \"pod listing vol\": 13323910.753581, \"pod order vol\": 2349412.190742, \"total bean vol\": 1843517.4616, \"total pod vol\": 15673322.944323}, {\"timestamp\": \"2022-04-03T22:43:26\", \"season\": 5749, \"variable\": \"pod order vol\", \"value\": 2349412.190742, \"pod listing vol\": 13323910.753581, \"pod order vol\": 2349412.190742, \"total bean vol\": 1843517.4616, \"total pod vol\": 15673322.944323}, {\"timestamp\": \"2022-04-03T22:43:26\", \"season\": 5749, \"variable\": \"total bean vol\", \"value\": 1843517.4616, \"pod listing vol\": 13323910.753581, \"pod order vol\": 2349412.190742, \"total bean vol\": 1843517.4616, \"total pod vol\": 15673322.944323}, {\"timestamp\": \"2022-04-04T21:44:44\", \"season\": 5773, \"variable\": \"pod listing vol\", \"value\": 13559555.190347, \"pod listing vol\": 13559555.190347, \"pod order vol\": 2369412.190742, \"total bean vol\": 1938637.008438, \"total pod vol\": 15928967.381089}, {\"timestamp\": \"2022-04-04T21:44:44\", \"season\": 5773, \"variable\": \"pod order vol\", \"value\": 2369412.190742, \"pod listing vol\": 13559555.190347, \"pod order vol\": 2369412.190742, \"total bean vol\": 1938637.008438, \"total pod vol\": 15928967.381089}, {\"timestamp\": \"2022-04-04T21:44:44\", \"season\": 5773, \"variable\": \"total bean vol\", \"value\": 1938637.008438, \"pod listing vol\": 13559555.190347, \"pod order vol\": 2369412.190742, \"total bean vol\": 1938637.008438, \"total pod vol\": 15928967.381089}, {\"timestamp\": \"2022-04-04T21:44:44\", \"season\": 5773, \"variable\": \"total pod vol\", \"value\": 15928967.381089, \"pod listing vol\": 13559555.190347, \"pod order vol\": 2369412.190742, \"total bean vol\": 1938637.008438, \"total pod vol\": 15928967.381089}, {\"timestamp\": \"2022-04-05T23:14:48\", \"season\": 5797, \"variable\": \"total bean vol\", \"value\": 1969733.26451, \"pod listing vol\": 13795715.296446, \"pod order vol\": 2369412.190742, \"total bean vol\": 1969733.26451, \"total pod vol\": 16165127.487188}, {\"timestamp\": \"2022-04-05T23:14:48\", \"season\": 5797, \"variable\": \"total pod vol\", \"value\": 16165127.487188, \"pod listing vol\": 13795715.296446, \"pod order vol\": 2369412.190742, \"total bean vol\": 1969733.26451, \"total pod vol\": 16165127.487188}, {\"timestamp\": \"2022-04-05T23:14:48\", \"season\": 5797, \"variable\": \"pod listing vol\", \"value\": 13795715.296446, \"pod listing vol\": 13795715.296446, \"pod order vol\": 2369412.190742, \"total bean vol\": 1969733.26451, \"total pod vol\": 16165127.487188}, {\"timestamp\": \"2022-04-05T23:14:48\", \"season\": 5797, \"variable\": \"pod order vol\", \"value\": 2369412.190742, \"pod listing vol\": 13795715.296446, \"pod order vol\": 2369412.190742, \"total bean vol\": 1969733.26451, \"total pod vol\": 16165127.487188}, {\"timestamp\": \"2022-04-06T23:03:41\", \"season\": 5821, \"variable\": \"total pod vol\", \"value\": 16444217.741121, \"pod listing vol\": 14074805.550379, \"pod order vol\": 2369412.190742, \"total bean vol\": 2002868.603232, \"total pod vol\": 16444217.741121}, {\"timestamp\": \"2022-04-06T23:03:41\", \"season\": 5821, \"variable\": \"total bean vol\", \"value\": 2002868.603232, \"pod listing vol\": 14074805.550379, \"pod order vol\": 2369412.190742, \"total bean vol\": 2002868.603232, \"total pod vol\": 16444217.741121}, {\"timestamp\": \"2022-04-06T23:03:41\", \"season\": 5821, \"variable\": \"pod order vol\", \"value\": 2369412.190742, \"pod listing vol\": 14074805.550379, \"pod order vol\": 2369412.190742, \"total bean vol\": 2002868.603232, \"total pod vol\": 16444217.741121}, {\"timestamp\": \"2022-04-06T23:03:41\", \"season\": 5821, \"variable\": \"pod listing vol\", \"value\": 14074805.550379, \"pod listing vol\": 14074805.550379, \"pod order vol\": 2369412.190742, \"total bean vol\": 2002868.603232, \"total pod vol\": 16444217.741121}, {\"timestamp\": \"2022-04-07T22:14:34\", \"season\": 5845, \"variable\": \"pod listing vol\", \"value\": 14310063.076692, \"pod listing vol\": 14310063.076692, \"pod order vol\": 2459412.190742, \"total bean vol\": 2044915.881574, \"total pod vol\": 16769475.267434}, {\"timestamp\": \"2022-04-07T22:14:34\", \"season\": 5845, \"variable\": \"pod order vol\", \"value\": 2459412.190742, \"pod listing vol\": 14310063.076692, \"pod order vol\": 2459412.190742, \"total bean vol\": 2044915.881574, \"total pod vol\": 16769475.267434}, {\"timestamp\": \"2022-04-07T22:14:34\", \"season\": 5845, \"variable\": \"total bean vol\", \"value\": 2044915.881574, \"pod listing vol\": 14310063.076692, \"pod order vol\": 2459412.190742, \"total bean vol\": 2044915.881574, \"total pod vol\": 16769475.267434}, {\"timestamp\": \"2022-04-07T22:14:34\", \"season\": 5845, \"variable\": \"total pod vol\", \"value\": 16769475.267434, \"pod listing vol\": 14310063.076692, \"pod order vol\": 2459412.190742, \"total bean vol\": 2044915.881574, \"total pod vol\": 16769475.267434}, {\"timestamp\": \"2022-04-08T22:55:41\", \"season\": 5869, \"variable\": \"pod listing vol\", \"value\": 14404836.401523, \"pod listing vol\": 14404836.401523, \"pod order vol\": 2459412.190742, \"total bean vol\": 2061971.588237, \"total pod vol\": 16864248.592265}, {\"timestamp\": \"2022-04-08T22:55:41\", \"season\": 5869, \"variable\": \"pod order vol\", \"value\": 2459412.190742, \"pod listing vol\": 14404836.401523, \"pod order vol\": 2459412.190742, \"total bean vol\": 2061971.588237, \"total pod vol\": 16864248.592265}, {\"timestamp\": \"2022-04-08T22:55:41\", \"season\": 5869, \"variable\": \"total bean vol\", \"value\": 2061971.588237, \"pod listing vol\": 14404836.401523, \"pod order vol\": 2459412.190742, \"total bean vol\": 2061971.588237, \"total pod vol\": 16864248.592265}, {\"timestamp\": \"2022-04-08T22:55:41\", \"season\": 5869, \"variable\": \"total pod vol\", \"value\": 16864248.592265, \"pod listing vol\": 14404836.401523, \"pod order vol\": 2459412.190742, \"total bean vol\": 2061971.588237, \"total pod vol\": 16864248.592265}, {\"timestamp\": \"2022-04-09T23:56:22\", \"season\": 5893, \"variable\": \"pod listing vol\", \"value\": 14740685.914775, \"pod listing vol\": 14740685.914775, \"pod order vol\": 2521068.219765, \"total bean vol\": 2118132.603853, \"total pod vol\": 17261754.13454}, {\"timestamp\": \"2022-04-09T23:56:22\", \"season\": 5893, \"variable\": \"pod order vol\", \"value\": 2521068.219765, \"pod listing vol\": 14740685.914775, \"pod order vol\": 2521068.219765, \"total bean vol\": 2118132.603853, \"total pod vol\": 17261754.13454}, {\"timestamp\": \"2022-04-09T23:56:22\", \"season\": 5893, \"variable\": \"total bean vol\", \"value\": 2118132.603853, \"pod listing vol\": 14740685.914775, \"pod order vol\": 2521068.219765, \"total bean vol\": 2118132.603853, \"total pod vol\": 17261754.13454}, {\"timestamp\": \"2022-04-09T23:56:22\", \"season\": 5893, \"variable\": \"total pod vol\", \"value\": 17261754.13454, \"pod listing vol\": 14740685.914775, \"pod order vol\": 2521068.219765, \"total bean vol\": 2118132.603853, \"total pod vol\": 17261754.13454}, {\"timestamp\": \"2022-04-10T23:05:54\", \"season\": 5917, \"variable\": \"total bean vol\", \"value\": 2188106.301855, \"pod listing vol\": 14971836.040466, \"pod order vol\": 2531166.357637, \"total bean vol\": 2188106.301855, \"total pod vol\": 17503002.398103}, {\"timestamp\": \"2022-04-10T23:05:54\", \"season\": 5917, \"variable\": \"total pod vol\", \"value\": 17503002.398103, \"pod listing vol\": 14971836.040466, \"pod order vol\": 2531166.357637, \"total bean vol\": 2188106.301855, \"total pod vol\": 17503002.398103}, {\"timestamp\": \"2022-04-10T23:05:54\", \"season\": 5917, \"variable\": \"pod listing vol\", \"value\": 14971836.040466, \"pod listing vol\": 14971836.040466, \"pod order vol\": 2531166.357637, \"total bean vol\": 2188106.301855, \"total pod vol\": 17503002.398103}, {\"timestamp\": \"2022-04-10T23:05:54\", \"season\": 5917, \"variable\": \"pod order vol\", \"value\": 2531166.357637, \"pod listing vol\": 14971836.040466, \"pod order vol\": 2531166.357637, \"total bean vol\": 2188106.301855, \"total pod vol\": 17503002.398103}, {\"timestamp\": \"2022-04-11T22:46:48\", \"season\": 5941, \"variable\": \"total pod vol\", \"value\": 18540490.865257, \"pod listing vol\": 15963434.629309, \"pod order vol\": 2577056.235948, \"total bean vol\": 2350296.889243, \"total pod vol\": 18540490.865257}, {\"timestamp\": \"2022-04-11T22:46:48\", \"season\": 5941, \"variable\": \"total bean vol\", \"value\": 2350296.889243, \"pod listing vol\": 15963434.629309, \"pod order vol\": 2577056.235948, \"total bean vol\": 2350296.889243, \"total pod vol\": 18540490.865257}, {\"timestamp\": \"2022-04-11T22:46:48\", \"season\": 5941, \"variable\": \"pod listing vol\", \"value\": 15963434.629309, \"pod listing vol\": 15963434.629309, \"pod order vol\": 2577056.235948, \"total bean vol\": 2350296.889243, \"total pod vol\": 18540490.865257}, {\"timestamp\": \"2022-04-11T22:46:48\", \"season\": 5941, \"variable\": \"pod order vol\", \"value\": 2577056.235948, \"pod listing vol\": 15963434.629309, \"pod order vol\": 2577056.235948, \"total bean vol\": 2350296.889243, \"total pod vol\": 18540490.865257}, {\"timestamp\": \"2022-04-12T23:47:59\", \"season\": 5965, \"variable\": \"pod listing vol\", \"value\": 19783922.212272, \"pod listing vol\": 19783922.212272, \"pod order vol\": 2654243.776766, \"total bean vol\": 3188208.066007, \"total pod vol\": 22438165.989038}, {\"timestamp\": \"2022-04-12T23:47:59\", \"season\": 5965, \"variable\": \"pod order vol\", \"value\": 2654243.776766, \"pod listing vol\": 19783922.212272, \"pod order vol\": 2654243.776766, \"total bean vol\": 3188208.066007, \"total pod vol\": 22438165.989038}, {\"timestamp\": \"2022-04-12T23:47:59\", \"season\": 5965, \"variable\": \"total bean vol\", \"value\": 3188208.066007, \"pod listing vol\": 19783922.212272, \"pod order vol\": 2654243.776766, \"total bean vol\": 3188208.066007, \"total pod vol\": 22438165.989038}, {\"timestamp\": \"2022-04-12T23:47:59\", \"season\": 5965, \"variable\": \"total pod vol\", \"value\": 22438165.989038, \"pod listing vol\": 19783922.212272, \"pod order vol\": 2654243.776766, \"total bean vol\": 3188208.066007, \"total pod vol\": 22438165.989038}, {\"timestamp\": \"2022-04-13T23:59:41\", \"season\": 5989, \"variable\": \"pod listing vol\", \"value\": 23130227.433895, \"pod listing vol\": 23130227.433895, \"pod order vol\": 2655105.086016, \"total bean vol\": 3613255.888256, \"total pod vol\": 25785332.519911}, {\"timestamp\": \"2022-04-13T23:59:41\", \"season\": 5989, \"variable\": \"pod order vol\", \"value\": 2655105.086016, \"pod listing vol\": 23130227.433895, \"pod order vol\": 2655105.086016, \"total bean vol\": 3613255.888256, \"total pod vol\": 25785332.519911}, {\"timestamp\": \"2022-04-13T23:59:41\", \"season\": 5989, \"variable\": \"total bean vol\", \"value\": 3613255.888256, \"pod listing vol\": 23130227.433895, \"pod order vol\": 2655105.086016, \"total bean vol\": 3613255.888256, \"total pod vol\": 25785332.519911}, {\"timestamp\": \"2022-04-13T23:59:41\", \"season\": 5989, \"variable\": \"total pod vol\", \"value\": 25785332.519911, \"pod listing vol\": 23130227.433895, \"pod order vol\": 2655105.086016, \"total bean vol\": 3613255.888256, \"total pod vol\": 25785332.519911}, {\"timestamp\": \"2022-04-14T23:51:27\", \"season\": 6013, \"variable\": \"total bean vol\", \"value\": 4106143.870939, \"pod listing vol\": 26180153.152342, \"pod order vol\": 2828133.005571, \"total bean vol\": 4106143.870939, \"total pod vol\": 29008286.157913}, {\"timestamp\": \"2022-04-14T23:51:27\", \"season\": 6013, \"variable\": \"pod listing vol\", \"value\": 26180153.152342, \"pod listing vol\": 26180153.152342, \"pod order vol\": 2828133.005571, \"total bean vol\": 4106143.870939, \"total pod vol\": 29008286.157913}, {\"timestamp\": \"2022-04-14T23:51:27\", \"season\": 6013, \"variable\": \"pod order vol\", \"value\": 2828133.005571, \"pod listing vol\": 26180153.152342, \"pod order vol\": 2828133.005571, \"total bean vol\": 4106143.870939, \"total pod vol\": 29008286.157913}, {\"timestamp\": \"2022-04-14T23:51:27\", \"season\": 6013, \"variable\": \"total pod vol\", \"value\": 29008286.157913, \"pod listing vol\": 26180153.152342, \"pod order vol\": 2828133.005571, \"total bean vol\": 4106143.870939, \"total pod vol\": 29008286.157913}, {\"timestamp\": \"2022-04-15T22:04:46\", \"season\": 6037, \"variable\": \"total pod vol\", \"value\": 34753920.256008, \"pod listing vol\": 30255895.358546, \"pod order vol\": 4498024.897462, \"total bean vol\": 4528005.203248, \"total pod vol\": 34753920.256008}, {\"timestamp\": \"2022-04-15T22:04:46\", \"season\": 6037, \"variable\": \"total bean vol\", \"value\": 4528005.203248, \"pod listing vol\": 30255895.358546, \"pod order vol\": 4498024.897462, \"total bean vol\": 4528005.203248, \"total pod vol\": 34753920.256008}, {\"timestamp\": \"2022-04-15T22:04:46\", \"season\": 6037, \"variable\": \"pod order vol\", \"value\": 4498024.897462, \"pod listing vol\": 30255895.358546, \"pod order vol\": 4498024.897462, \"total bean vol\": 4528005.203248, \"total pod vol\": 34753920.256008}, {\"timestamp\": \"2022-04-15T22:04:46\", \"season\": 6037, \"variable\": \"pod listing vol\", \"value\": 30255895.358546, \"pod listing vol\": 30255895.358546, \"pod order vol\": 4498024.897462, \"total bean vol\": 4528005.203248, \"total pod vol\": 34753920.256008}, {\"timestamp\": \"2022-04-16T23:58:09\", \"season\": 6061, \"variable\": \"pod listing vol\", \"value\": 34725128.948987, \"pod listing vol\": 34725128.948987, \"pod order vol\": 4501396.092105, \"total bean vol\": 5088424.313178, \"total pod vol\": 39226525.041092}, {\"timestamp\": \"2022-04-16T23:58:09\", \"season\": 6061, \"variable\": \"pod order vol\", \"value\": 4501396.092105, \"pod listing vol\": 34725128.948987, \"pod order vol\": 4501396.092105, \"total bean vol\": 5088424.313178, \"total pod vol\": 39226525.041092}, {\"timestamp\": \"2022-04-16T23:58:09\", \"season\": 6061, \"variable\": \"total bean vol\", \"value\": 5088424.313178, \"pod listing vol\": 34725128.948987, \"pod order vol\": 4501396.092105, \"total bean vol\": 5088424.313178, \"total pod vol\": 39226525.041092}, {\"timestamp\": \"2022-04-16T23:58:09\", \"season\": 6061, \"variable\": \"total pod vol\", \"value\": 39226525.041092, \"pod listing vol\": 34725128.948987, \"pod order vol\": 4501396.092105, \"total bean vol\": 5088424.313178, \"total pod vol\": 39226525.041092}, {\"timestamp\": \"2022-04-17T13:04:49\", \"season\": 6074, \"variable\": \"pod listing vol\", \"value\": 36726401.595964, \"pod listing vol\": 36726401.595964, \"pod order vol\": 6612844.586573, \"total bean vol\": 5617151.722674, \"total pod vol\": 43339246.182537}, {\"timestamp\": \"2022-04-17T13:04:49\", \"season\": 6074, \"variable\": \"pod order vol\", \"value\": 6612844.586573, \"pod listing vol\": 36726401.595964, \"pod order vol\": 6612844.586573, \"total bean vol\": 5617151.722674, \"total pod vol\": 43339246.182537}, {\"timestamp\": \"2022-04-17T13:04:49\", \"season\": 6074, \"variable\": \"total bean vol\", \"value\": 5617151.722674, \"pod listing vol\": 36726401.595964, \"pod order vol\": 6612844.586573, \"total bean vol\": 5617151.722674, \"total pod vol\": 43339246.182537}, {\"timestamp\": \"2022-04-17T13:04:49\", \"season\": 6074, \"variable\": \"total pod vol\", \"value\": 43339246.182537, \"pod listing vol\": 36726401.595964, \"pod order vol\": 6612844.586573, \"total bean vol\": 5617151.722674, \"total pod vol\": 43339246.182537}, {\"timestamp\": \"2022-08-04T20:23:24\", \"season\": 6074, \"variable\": \"pod listing vol\", \"value\": 36726401.595964, \"pod listing vol\": 36726401.595964, \"pod order vol\": 6612844.586573, \"total bean vol\": 5617151.722674, \"total pod vol\": 43339246.182537}, {\"timestamp\": \"2022-08-04T20:23:24\", \"season\": 6074, \"variable\": \"pod order vol\", \"value\": 6612844.586573, \"pod listing vol\": 36726401.595964, \"pod order vol\": 6612844.586573, \"total bean vol\": 5617151.722674, \"total pod vol\": 43339246.182537}, {\"timestamp\": \"2022-08-04T20:23:24\", \"season\": 6074, \"variable\": \"total bean vol\", \"value\": 5617151.722674, \"pod listing vol\": 36726401.595964, \"pod order vol\": 6612844.586573, \"total bean vol\": 5617151.722674, \"total pod vol\": 43339246.182537}, {\"timestamp\": \"2022-08-04T20:23:24\", \"season\": 6074, \"variable\": \"total pod vol\", \"value\": 43339246.182537, \"pod listing vol\": 36726401.595964, \"pod order vol\": 6612844.586573, \"total bean vol\": 5617151.722674, \"total pod vol\": 43339246.182537}, {\"timestamp\": \"2022-08-05T20:53:14\", \"season\": 6074, \"variable\": \"total bean vol\", \"value\": 5617403.67668, \"pod listing vol\": 36734580.012437, \"pod order vol\": 6612844.586573, \"total bean vol\": 5617403.67668, \"total pod vol\": 43347424.59901}, {\"timestamp\": \"2022-08-05T20:53:14\", \"season\": 6074, \"variable\": \"total pod vol\", \"value\": 43347424.59901, \"pod listing vol\": 36734580.012437, \"pod order vol\": 6612844.586573, \"total bean vol\": 5617403.67668, \"total pod vol\": 43347424.59901}, {\"timestamp\": \"2022-08-05T20:53:14\", \"season\": 6074, \"variable\": \"pod listing vol\", \"value\": 36734580.012437, \"pod listing vol\": 36734580.012437, \"pod order vol\": 6612844.586573, \"total bean vol\": 5617403.67668, \"total pod vol\": 43347424.59901}, {\"timestamp\": \"2022-08-05T20:53:14\", \"season\": 6074, \"variable\": \"pod order vol\", \"value\": 6612844.586573, \"pod listing vol\": 36734580.012437, \"pod order vol\": 6612844.586573, \"total bean vol\": 5617403.67668, \"total pod vol\": 43347424.59901}, {\"timestamp\": \"2022-08-06T22:05:04\", \"season\": 6081, \"variable\": \"pod listing vol\", \"value\": 36743322.824056, \"pod listing vol\": 36743322.824056, \"pod order vol\": 6612844.586573, \"total bean vol\": 5617946.423243, \"total pod vol\": 43356167.410629}, {\"timestamp\": \"2022-08-06T22:05:04\", \"season\": 6081, \"variable\": \"pod order vol\", \"value\": 6612844.586573, \"pod listing vol\": 36743322.824056, \"pod order vol\": 6612844.586573, \"total bean vol\": 5617946.423243, \"total pod vol\": 43356167.410629}, {\"timestamp\": \"2022-08-06T22:05:04\", \"season\": 6081, \"variable\": \"total bean vol\", \"value\": 5617946.423243, \"pod listing vol\": 36743322.824056, \"pod order vol\": 6612844.586573, \"total bean vol\": 5617946.423243, \"total pod vol\": 43356167.410629}, {\"timestamp\": \"2022-08-06T22:05:04\", \"season\": 6081, \"variable\": \"total pod vol\", \"value\": 43356167.410629, \"pod listing vol\": 36743322.824056, \"pod order vol\": 6612844.586573, \"total bean vol\": 5617946.423243, \"total pod vol\": 43356167.410629}, {\"timestamp\": \"2022-08-07T23:55:55\", \"season\": 6105, \"variable\": \"total bean vol\", \"value\": 5724444.203929, \"pod listing vol\": 37819221.832261, \"pod order vol\": 6660227.89123, \"total bean vol\": 5724444.203929, \"total pod vol\": 44479449.723491}, {\"timestamp\": \"2022-08-07T23:55:55\", \"season\": 6105, \"variable\": \"total pod vol\", \"value\": 44479449.723491, \"pod listing vol\": 37819221.832261, \"pod order vol\": 6660227.89123, \"total bean vol\": 5724444.203929, \"total pod vol\": 44479449.723491}, {\"timestamp\": \"2022-08-07T23:55:55\", \"season\": 6105, \"variable\": \"pod listing vol\", \"value\": 37819221.832261, \"pod listing vol\": 37819221.832261, \"pod order vol\": 6660227.89123, \"total bean vol\": 5724444.203929, \"total pod vol\": 44479449.723491}, {\"timestamp\": \"2022-08-07T23:55:55\", \"season\": 6105, \"variable\": \"pod order vol\", \"value\": 6660227.89123, \"pod listing vol\": 37819221.832261, \"pod order vol\": 6660227.89123, \"total bean vol\": 5724444.203929, \"total pod vol\": 44479449.723491}, {\"timestamp\": \"2022-08-08T23:42:31\", \"season\": 6129, \"variable\": \"pod listing vol\", \"value\": 38017090.883594, \"pod listing vol\": 38017090.883594, \"pod order vol\": 6760227.89123, \"total bean vol\": 5740915.615051, \"total pod vol\": 44777318.774824}, {\"timestamp\": \"2022-08-08T23:42:31\", \"season\": 6129, \"variable\": \"pod order vol\", \"value\": 6760227.89123, \"pod listing vol\": 38017090.883594, \"pod order vol\": 6760227.89123, \"total bean vol\": 5740915.615051, \"total pod vol\": 44777318.774824}, {\"timestamp\": \"2022-08-08T23:42:31\", \"season\": 6129, \"variable\": \"total bean vol\", \"value\": 5740915.615051, \"pod listing vol\": 38017090.883594, \"pod order vol\": 6760227.89123, \"total bean vol\": 5740915.615051, \"total pod vol\": 44777318.774824}, {\"timestamp\": \"2022-08-08T23:42:31\", \"season\": 6129, \"variable\": \"total pod vol\", \"value\": 44777318.774824, \"pod listing vol\": 38017090.883594, \"pod order vol\": 6760227.89123, \"total bean vol\": 5740915.615051, \"total pod vol\": 44777318.774824}, {\"timestamp\": \"2022-08-09T22:03:35\", \"season\": 6153, \"variable\": \"total pod vol\", \"value\": 45130694.391577, \"pod listing vol\": 38370466.500347, \"pod order vol\": 6760227.89123, \"total bean vol\": 5764628.838297, \"total pod vol\": 45130694.391577}, {\"timestamp\": \"2022-08-09T22:03:35\", \"season\": 6153, \"variable\": \"pod listing vol\", \"value\": 38370466.500347, \"pod listing vol\": 38370466.500347, \"pod order vol\": 6760227.89123, \"total bean vol\": 5764628.838297, \"total pod vol\": 45130694.391577}, {\"timestamp\": \"2022-08-09T22:03:35\", \"season\": 6153, \"variable\": \"pod order vol\", \"value\": 6760227.89123, \"pod listing vol\": 38370466.500347, \"pod order vol\": 6760227.89123, \"total bean vol\": 5764628.838297, \"total pod vol\": 45130694.391577}, {\"timestamp\": \"2022-08-09T22:03:35\", \"season\": 6153, \"variable\": \"total bean vol\", \"value\": 5764628.838297, \"pod listing vol\": 38370466.500347, \"pod order vol\": 6760227.89123, \"total bean vol\": 5764628.838297, \"total pod vol\": 45130694.391577}, {\"timestamp\": \"2022-08-10T20:40:12\", \"season\": 6177, \"variable\": \"total bean vol\", \"value\": 5775029.882493, \"pod listing vol\": 38472678.154532, \"pod order vol\": 6760227.89123, \"total bean vol\": 5775029.882493, \"total pod vol\": 45232906.045762}, {\"timestamp\": \"2022-08-10T20:40:12\", \"season\": 6177, \"variable\": \"total pod vol\", \"value\": 45232906.045762, \"pod listing vol\": 38472678.154532, \"pod order vol\": 6760227.89123, \"total bean vol\": 5775029.882493, \"total pod vol\": 45232906.045762}, {\"timestamp\": \"2022-08-10T20:40:12\", \"season\": 6177, \"variable\": \"pod listing vol\", \"value\": 38472678.154532, \"pod listing vol\": 38472678.154532, \"pod order vol\": 6760227.89123, \"total bean vol\": 5775029.882493, \"total pod vol\": 45232906.045762}, {\"timestamp\": \"2022-08-10T20:40:12\", \"season\": 6177, \"variable\": \"pod order vol\", \"value\": 6760227.89123, \"pod listing vol\": 38472678.154532, \"pod order vol\": 6760227.89123, \"total bean vol\": 5775029.882493, \"total pod vol\": 45232906.045762}, {\"timestamp\": \"2022-08-11T15:07:22\", \"season\": 6201, \"variable\": \"total bean vol\", \"value\": 5775908.494575, \"pod listing vol\": 38504134.101695, \"pod order vol\": 6760227.89123, \"total bean vol\": 5775908.494575, \"total pod vol\": 45264361.992925}, {\"timestamp\": \"2022-08-11T15:07:22\", \"season\": 6201, \"variable\": \"total pod vol\", \"value\": 45264361.992925, \"pod listing vol\": 38504134.101695, \"pod order vol\": 6760227.89123, \"total bean vol\": 5775908.494575, \"total pod vol\": 45264361.992925}, {\"timestamp\": \"2022-08-11T15:07:22\", \"season\": 6201, \"variable\": \"pod listing vol\", \"value\": 38504134.101695, \"pod listing vol\": 38504134.101695, \"pod order vol\": 6760227.89123, \"total bean vol\": 5775908.494575, \"total pod vol\": 45264361.992925}, {\"timestamp\": \"2022-08-11T15:07:22\", \"season\": 6201, \"variable\": \"pod order vol\", \"value\": 6760227.89123, \"pod listing vol\": 38504134.101695, \"pod order vol\": 6760227.89123, \"total bean vol\": 5775908.494575, \"total pod vol\": 45264361.992925}, {\"timestamp\": \"2022-08-12T21:15:05\", \"season\": 6225, \"variable\": \"total bean vol\", \"value\": 5777847.559092, \"pod listing vol\": 38524497.88974, \"pod order vol\": 6760227.89123, \"total bean vol\": 5777847.559092, \"total pod vol\": 45284725.78097}, {\"timestamp\": \"2022-08-12T21:15:05\", \"season\": 6225, \"variable\": \"total pod vol\", \"value\": 45284725.78097, \"pod listing vol\": 38524497.88974, \"pod order vol\": 6760227.89123, \"total bean vol\": 5777847.559092, \"total pod vol\": 45284725.78097}, {\"timestamp\": \"2022-08-12T21:15:05\", \"season\": 6225, \"variable\": \"pod listing vol\", \"value\": 38524497.88974, \"pod listing vol\": 38524497.88974, \"pod order vol\": 6760227.89123, \"total bean vol\": 5777847.559092, \"total pod vol\": 45284725.78097}, {\"timestamp\": \"2022-08-12T21:15:05\", \"season\": 6225, \"variable\": \"pod order vol\", \"value\": 6760227.89123, \"pod listing vol\": 38524497.88974, \"pod order vol\": 6760227.89123, \"total bean vol\": 5777847.559092, \"total pod vol\": 45284725.78097}, {\"timestamp\": \"2022-08-13T19:43:05\", \"season\": 6249, \"variable\": \"pod listing vol\", \"value\": 38544497.88974, \"pod listing vol\": 38544497.88974, \"pod order vol\": 6891065.483696, \"total bean vol\": 5792660.378526, \"total pod vol\": 45435563.373436}, {\"timestamp\": \"2022-08-13T19:43:05\", \"season\": 6249, \"variable\": \"pod order vol\", \"value\": 6891065.483696, \"pod listing vol\": 38544497.88974, \"pod order vol\": 6891065.483696, \"total bean vol\": 5792660.378526, \"total pod vol\": 45435563.373436}, {\"timestamp\": \"2022-08-13T19:43:05\", \"season\": 6249, \"variable\": \"total bean vol\", \"value\": 5792660.378526, \"pod listing vol\": 38544497.88974, \"pod order vol\": 6891065.483696, \"total bean vol\": 5792660.378526, \"total pod vol\": 45435563.373436}, {\"timestamp\": \"2022-08-13T19:43:05\", \"season\": 6249, \"variable\": \"total pod vol\", \"value\": 45435563.373436, \"pod listing vol\": 38544497.88974, \"pod order vol\": 6891065.483696, \"total bean vol\": 5792660.378526, \"total pod vol\": 45435563.373436}, {\"timestamp\": \"2022-08-14T23:27:12\", \"season\": 6273, \"variable\": \"pod listing vol\", \"value\": 38544497.88974, \"pod listing vol\": 38544497.88974, \"pod order vol\": 6971306.670238, \"total bean vol\": 5798277.261583, \"total pod vol\": 45515804.559978}, {\"timestamp\": \"2022-08-14T23:27:12\", \"season\": 6273, \"variable\": \"pod order vol\", \"value\": 6971306.670238, \"pod listing vol\": 38544497.88974, \"pod order vol\": 6971306.670238, \"total bean vol\": 5798277.261583, \"total pod vol\": 45515804.559978}, {\"timestamp\": \"2022-08-14T23:27:12\", \"season\": 6273, \"variable\": \"total bean vol\", \"value\": 5798277.261583, \"pod listing vol\": 38544497.88974, \"pod order vol\": 6971306.670238, \"total bean vol\": 5798277.261583, \"total pod vol\": 45515804.559978}, {\"timestamp\": \"2022-08-14T23:27:12\", \"season\": 6273, \"variable\": \"total pod vol\", \"value\": 45515804.559978, \"pod listing vol\": 38544497.88974, \"pod order vol\": 6971306.670238, \"total bean vol\": 5798277.261583, \"total pod vol\": 45515804.559978}, {\"timestamp\": \"2022-08-15T20:47:37\", \"season\": 6297, \"variable\": \"total pod vol\", \"value\": 46082031.775314, \"pod listing vol\": 38576407.890728, \"pod order vol\": 7505623.884586, \"total bean vol\": 5812134.521313, \"total pod vol\": 46082031.775314}, {\"timestamp\": \"2022-08-15T20:47:37\", \"season\": 6297, \"variable\": \"total bean vol\", \"value\": 5812134.521313, \"pod listing vol\": 38576407.890728, \"pod order vol\": 7505623.884586, \"total bean vol\": 5812134.521313, \"total pod vol\": 46082031.775314}, {\"timestamp\": \"2022-08-15T20:47:37\", \"season\": 6297, \"variable\": \"pod listing vol\", \"value\": 38576407.890728, \"pod listing vol\": 38576407.890728, \"pod order vol\": 7505623.884586, \"total bean vol\": 5812134.521313, \"total pod vol\": 46082031.775314}, {\"timestamp\": \"2022-08-15T20:47:37\", \"season\": 6297, \"variable\": \"pod order vol\", \"value\": 7505623.884586, \"pod listing vol\": 38576407.890728, \"pod order vol\": 7505623.884586, \"total bean vol\": 5812134.521313, \"total pod vol\": 46082031.775314}, {\"timestamp\": \"2022-08-16T21:36:48\", \"season\": 6321, \"variable\": \"total pod vol\", \"value\": 46233565.010754, \"pod listing vol\": 38727941.126168, \"pod order vol\": 7505623.884586, \"total bean vol\": 5815922.852199, \"total pod vol\": 46233565.010754}, {\"timestamp\": \"2022-08-16T21:36:48\", \"season\": 6321, \"variable\": \"pod listing vol\", \"value\": 38727941.126168, \"pod listing vol\": 38727941.126168, \"pod order vol\": 7505623.884586, \"total bean vol\": 5815922.852199, \"total pod vol\": 46233565.010754}, {\"timestamp\": \"2022-08-16T21:36:48\", \"season\": 6321, \"variable\": \"pod order vol\", \"value\": 7505623.884586, \"pod listing vol\": 38727941.126168, \"pod order vol\": 7505623.884586, \"total bean vol\": 5815922.852199, \"total pod vol\": 46233565.010754}, {\"timestamp\": \"2022-08-16T21:36:48\", \"season\": 6321, \"variable\": \"total bean vol\", \"value\": 5815922.852199, \"pod listing vol\": 38727941.126168, \"pod order vol\": 7505623.884586, \"total bean vol\": 5815922.852199, \"total pod vol\": 46233565.010754}, {\"timestamp\": \"2022-08-17T23:59:42\", \"season\": 6345, \"variable\": \"total pod vol\", \"value\": 46260455.070035, \"pod listing vol\": 38754831.185449, \"pod order vol\": 7505623.884586, \"total bean vol\": 5822109.594138, \"total pod vol\": 46260455.070035}, {\"timestamp\": \"2022-08-17T23:59:42\", \"season\": 6345, \"variable\": \"total bean vol\", \"value\": 5822109.594138, \"pod listing vol\": 38754831.185449, \"pod order vol\": 7505623.884586, \"total bean vol\": 5822109.594138, \"total pod vol\": 46260455.070035}, {\"timestamp\": \"2022-08-17T23:59:42\", \"season\": 6345, \"variable\": \"pod listing vol\", \"value\": 38754831.185449, \"pod listing vol\": 38754831.185449, \"pod order vol\": 7505623.884586, \"total bean vol\": 5822109.594138, \"total pod vol\": 46260455.070035}, {\"timestamp\": \"2022-08-17T23:59:42\", \"season\": 6345, \"variable\": \"pod order vol\", \"value\": 7505623.884586, \"pod listing vol\": 38754831.185449, \"pod order vol\": 7505623.884586, \"total bean vol\": 5822109.594138, \"total pod vol\": 46260455.070035}, {\"timestamp\": \"2022-08-18T21:14:11\", \"season\": 6369, \"variable\": \"pod listing vol\", \"value\": 38764831.185449, \"pod listing vol\": 38764831.185449, \"pod order vol\": 7517130.699386, \"total bean vol\": 5829200.003026, \"total pod vol\": 46281961.884835}, {\"timestamp\": \"2022-08-18T21:14:11\", \"season\": 6369, \"variable\": \"pod order vol\", \"value\": 7517130.699386, \"pod listing vol\": 38764831.185449, \"pod order vol\": 7517130.699386, \"total bean vol\": 5829200.003026, \"total pod vol\": 46281961.884835}, {\"timestamp\": \"2022-08-18T21:14:11\", \"season\": 6369, \"variable\": \"total bean vol\", \"value\": 5829200.003026, \"pod listing vol\": 38764831.185449, \"pod order vol\": 7517130.699386, \"total bean vol\": 5829200.003026, \"total pod vol\": 46281961.884835}, {\"timestamp\": \"2022-08-18T21:14:11\", \"season\": 6369, \"variable\": \"total pod vol\", \"value\": 46281961.884835, \"pod listing vol\": 38764831.185449, \"pod order vol\": 7517130.699386, \"total bean vol\": 5829200.003026, \"total pod vol\": 46281961.884835}, {\"timestamp\": \"2022-08-19T18:37:30\", \"season\": 6393, \"variable\": \"total pod vol\", \"value\": 46302461.732946, \"pod listing vol\": 38785331.03356, \"pod order vol\": 7517130.699386, \"total bean vol\": 5829719.72145, \"total pod vol\": 46302461.732946}, {\"timestamp\": \"2022-08-19T18:37:30\", \"season\": 6393, \"variable\": \"pod listing vol\", \"value\": 38785331.03356, \"pod listing vol\": 38785331.03356, \"pod order vol\": 7517130.699386, \"total bean vol\": 5829719.72145, \"total pod vol\": 46302461.732946}, {\"timestamp\": \"2022-08-19T18:37:30\", \"season\": 6393, \"variable\": \"pod order vol\", \"value\": 7517130.699386, \"pod listing vol\": 38785331.03356, \"pod order vol\": 7517130.699386, \"total bean vol\": 5829719.72145, \"total pod vol\": 46302461.732946}, {\"timestamp\": \"2022-08-19T18:37:30\", \"season\": 6393, \"variable\": \"total bean vol\", \"value\": 5829719.72145, \"pod listing vol\": 38785331.03356, \"pod order vol\": 7517130.699386, \"total bean vol\": 5829719.72145, \"total pod vol\": 46302461.732946}, {\"timestamp\": \"2022-08-20T19:12:47\", \"season\": 6417, \"variable\": \"pod listing vol\", \"value\": 38785647.865697, \"pod listing vol\": 38785647.865697, \"pod order vol\": 7535745.565486, \"total bean vol\": 5831090.079125, \"total pod vol\": 46321393.431183}, {\"timestamp\": \"2022-08-20T19:12:47\", \"season\": 6417, \"variable\": \"pod order vol\", \"value\": 7535745.565486, \"pod listing vol\": 38785647.865697, \"pod order vol\": 7535745.565486, \"total bean vol\": 5831090.079125, \"total pod vol\": 46321393.431183}, {\"timestamp\": \"2022-08-20T19:12:47\", \"season\": 6417, \"variable\": \"total bean vol\", \"value\": 5831090.079125, \"pod listing vol\": 38785647.865697, \"pod order vol\": 7535745.565486, \"total bean vol\": 5831090.079125, \"total pod vol\": 46321393.431183}, {\"timestamp\": \"2022-08-20T19:12:47\", \"season\": 6417, \"variable\": \"total pod vol\", \"value\": 46321393.431183, \"pod listing vol\": 38785647.865697, \"pod order vol\": 7535745.565486, \"total bean vol\": 5831090.079125, \"total pod vol\": 46321393.431183}, {\"timestamp\": \"2022-08-21T20:52:07\", \"season\": 6441, \"variable\": \"total bean vol\", \"value\": 5871534.658788, \"pod listing vol\": 38797290.400573, \"pod order vol\": 8319491.078891, \"total bean vol\": 5871534.658788, \"total pod vol\": 47116781.479464}, {\"timestamp\": \"2022-08-21T20:52:07\", \"season\": 6441, \"variable\": \"total pod vol\", \"value\": 47116781.479464, \"pod listing vol\": 38797290.400573, \"pod order vol\": 8319491.078891, \"total bean vol\": 5871534.658788, \"total pod vol\": 47116781.479464}, {\"timestamp\": \"2022-08-21T20:52:07\", \"season\": 6441, \"variable\": \"pod listing vol\", \"value\": 38797290.400573, \"pod listing vol\": 38797290.400573, \"pod order vol\": 8319491.078891, \"total bean vol\": 5871534.658788, \"total pod vol\": 47116781.479464}, {\"timestamp\": \"2022-08-21T20:52:07\", \"season\": 6441, \"variable\": \"pod order vol\", \"value\": 8319491.078891, \"pod listing vol\": 38797290.400573, \"pod order vol\": 8319491.078891, \"total bean vol\": 5871534.658788, \"total pod vol\": 47116781.479464}, {\"timestamp\": \"2022-08-22T19:15:39\", \"season\": 6465, \"variable\": \"total pod vol\", \"value\": 47125191.027466, \"pod listing vol\": 38805699.948575, \"pod order vol\": 8319491.078891, \"total bean vol\": 5871760.268863, \"total pod vol\": 47125191.027466}, {\"timestamp\": \"2022-08-22T19:15:39\", \"season\": 6465, \"variable\": \"total bean vol\", \"value\": 5871760.268863, \"pod listing vol\": 38805699.948575, \"pod order vol\": 8319491.078891, \"total bean vol\": 5871760.268863, \"total pod vol\": 47125191.027466}, {\"timestamp\": \"2022-08-22T19:15:39\", \"season\": 6465, \"variable\": \"pod order vol\", \"value\": 8319491.078891, \"pod listing vol\": 38805699.948575, \"pod order vol\": 8319491.078891, \"total bean vol\": 5871760.268863, \"total pod vol\": 47125191.027466}, {\"timestamp\": \"2022-08-22T19:15:39\", \"season\": 6465, \"variable\": \"pod listing vol\", \"value\": 38805699.948575, \"pod listing vol\": 38805699.948575, \"pod order vol\": 8319491.078891, \"total bean vol\": 5871760.268863, \"total pod vol\": 47125191.027466}, {\"timestamp\": \"2022-08-23T22:13:59\", \"season\": 6489, \"variable\": \"pod listing vol\", \"value\": 38841200.669627, \"pod listing vol\": 38841200.669627, \"pod order vol\": 8328519.436816, \"total bean vol\": 5879123.931267, \"total pod vol\": 47169720.106443}, {\"timestamp\": \"2022-08-23T22:13:59\", \"season\": 6489, \"variable\": \"pod order vol\", \"value\": 8328519.436816, \"pod listing vol\": 38841200.669627, \"pod order vol\": 8328519.436816, \"total bean vol\": 5879123.931267, \"total pod vol\": 47169720.106443}, {\"timestamp\": \"2022-08-23T22:13:59\", \"season\": 6489, \"variable\": \"total bean vol\", \"value\": 5879123.931267, \"pod listing vol\": 38841200.669627, \"pod order vol\": 8328519.436816, \"total bean vol\": 5879123.931267, \"total pod vol\": 47169720.106443}, {\"timestamp\": \"2022-08-23T22:13:59\", \"season\": 6489, \"variable\": \"total pod vol\", \"value\": 47169720.106443, \"pod listing vol\": 38841200.669627, \"pod order vol\": 8328519.436816, \"total bean vol\": 5879123.931267, \"total pod vol\": 47169720.106443}, {\"timestamp\": \"2022-08-24T17:57:05\", \"season\": 6513, \"variable\": \"total bean vol\", \"value\": 5890369.894268, \"pod listing vol\": 38869527.228707, \"pod order vol\": 8562692.748482, \"total bean vol\": 5890369.894268, \"total pod vol\": 47432219.977189}, {\"timestamp\": \"2022-08-24T17:57:05\", \"season\": 6513, \"variable\": \"total pod vol\", \"value\": 47432219.977189, \"pod listing vol\": 38869527.228707, \"pod order vol\": 8562692.748482, \"total bean vol\": 5890369.894268, \"total pod vol\": 47432219.977189}, {\"timestamp\": \"2022-08-24T17:57:05\", \"season\": 6513, \"variable\": \"pod listing vol\", \"value\": 38869527.228707, \"pod listing vol\": 38869527.228707, \"pod order vol\": 8562692.748482, \"total bean vol\": 5890369.894268, \"total pod vol\": 47432219.977189}, {\"timestamp\": \"2022-08-24T17:57:05\", \"season\": 6513, \"variable\": \"pod order vol\", \"value\": 8562692.748482, \"pod listing vol\": 38869527.228707, \"pod order vol\": 8562692.748482, \"total bean vol\": 5890369.894268, \"total pod vol\": 47432219.977189}, {\"timestamp\": \"2022-08-25T20:37:09\", \"season\": 6537, \"variable\": \"pod listing vol\", \"value\": 39197571.141752, \"pod listing vol\": 39197571.141752, \"pod order vol\": 8562692.748482, \"total bean vol\": 5898843.737466, \"total pod vol\": 47760263.890234}, {\"timestamp\": \"2022-08-25T20:37:09\", \"season\": 6537, \"variable\": \"pod order vol\", \"value\": 8562692.748482, \"pod listing vol\": 39197571.141752, \"pod order vol\": 8562692.748482, \"total bean vol\": 5898843.737466, \"total pod vol\": 47760263.890234}, {\"timestamp\": \"2022-08-25T20:37:09\", \"season\": 6537, \"variable\": \"total bean vol\", \"value\": 5898843.737466, \"pod listing vol\": 39197571.141752, \"pod order vol\": 8562692.748482, \"total bean vol\": 5898843.737466, \"total pod vol\": 47760263.890234}, {\"timestamp\": \"2022-08-25T20:37:09\", \"season\": 6537, \"variable\": \"total pod vol\", \"value\": 47760263.890234, \"pod listing vol\": 39197571.141752, \"pod order vol\": 8562692.748482, \"total bean vol\": 5898843.737466, \"total pod vol\": 47760263.890234}, {\"timestamp\": \"2022-08-26T18:16:39\", \"season\": 6561, \"variable\": \"pod listing vol\", \"value\": 39205629.570921, \"pod listing vol\": 39205629.570921, \"pod order vol\": 8774468.193651, \"total bean vol\": 5908075.472453, \"total pod vol\": 47980097.764572}, {\"timestamp\": \"2022-08-26T18:16:39\", \"season\": 6561, \"variable\": \"pod order vol\", \"value\": 8774468.193651, \"pod listing vol\": 39205629.570921, \"pod order vol\": 8774468.193651, \"total bean vol\": 5908075.472453, \"total pod vol\": 47980097.764572}, {\"timestamp\": \"2022-08-26T18:16:39\", \"season\": 6561, \"variable\": \"total bean vol\", \"value\": 5908075.472453, \"pod listing vol\": 39205629.570921, \"pod order vol\": 8774468.193651, \"total bean vol\": 5908075.472453, \"total pod vol\": 47980097.764572}, {\"timestamp\": \"2022-08-26T18:16:39\", \"season\": 6561, \"variable\": \"total pod vol\", \"value\": 47980097.764572, \"pod listing vol\": 39205629.570921, \"pod order vol\": 8774468.193651, \"total bean vol\": 5908075.472453, \"total pod vol\": 47980097.764572}, {\"timestamp\": \"2022-08-27T22:21:45\", \"season\": 6585, \"variable\": \"total bean vol\", \"value\": 5908075.472453, \"pod listing vol\": 39205629.570921, \"pod order vol\": 8774468.193651, \"total bean vol\": 5908075.472453, \"total pod vol\": 47980097.764572}, {\"timestamp\": \"2022-08-27T22:21:45\", \"season\": 6585, \"variable\": \"total pod vol\", \"value\": 47980097.764572, \"pod listing vol\": 39205629.570921, \"pod order vol\": 8774468.193651, \"total bean vol\": 5908075.472453, \"total pod vol\": 47980097.764572}, {\"timestamp\": \"2022-08-27T22:21:45\", \"season\": 6585, \"variable\": \"pod order vol\", \"value\": 8774468.193651, \"pod listing vol\": 39205629.570921, \"pod order vol\": 8774468.193651, \"total bean vol\": 5908075.472453, \"total pod vol\": 47980097.764572}, {\"timestamp\": \"2022-08-27T22:21:45\", \"season\": 6585, \"variable\": \"pod listing vol\", \"value\": 39205629.570921, \"pod listing vol\": 39205629.570921, \"pod order vol\": 8774468.193651, \"total bean vol\": 5908075.472453, \"total pod vol\": 47980097.764572}, {\"timestamp\": \"2022-08-28T21:20:19\", \"season\": 6609, \"variable\": \"pod listing vol\", \"value\": 39374836.054937, \"pod listing vol\": 39374836.054937, \"pod order vol\": 8828496.551576, \"total bean vol\": 5920536.240183, \"total pod vol\": 48203332.606513}, {\"timestamp\": \"2022-08-28T21:20:19\", \"season\": 6609, \"variable\": \"pod order vol\", \"value\": 8828496.551576, \"pod listing vol\": 39374836.054937, \"pod order vol\": 8828496.551576, \"total bean vol\": 5920536.240183, \"total pod vol\": 48203332.606513}, {\"timestamp\": \"2022-08-28T21:20:19\", \"season\": 6609, \"variable\": \"total bean vol\", \"value\": 5920536.240183, \"pod listing vol\": 39374836.054937, \"pod order vol\": 8828496.551576, \"total bean vol\": 5920536.240183, \"total pod vol\": 48203332.606513}, {\"timestamp\": \"2022-08-28T21:20:19\", \"season\": 6609, \"variable\": \"total pod vol\", \"value\": 48203332.606513, \"pod listing vol\": 39374836.054937, \"pod order vol\": 8828496.551576, \"total bean vol\": 5920536.240183, \"total pod vol\": 48203332.606513}, {\"timestamp\": \"2022-08-29T19:10:29\", \"season\": 6633, \"variable\": \"pod listing vol\", \"value\": 39374836.054937, \"pod listing vol\": 39374836.054937, \"pod order vol\": 8828496.551576, \"total bean vol\": 5920536.240183, \"total pod vol\": 48203332.606513}, {\"timestamp\": \"2022-08-29T19:10:29\", \"season\": 6633, \"variable\": \"pod order vol\", \"value\": 8828496.551576, \"pod listing vol\": 39374836.054937, \"pod order vol\": 8828496.551576, \"total bean vol\": 5920536.240183, \"total pod vol\": 48203332.606513}, {\"timestamp\": \"2022-08-29T19:10:29\", \"season\": 6633, \"variable\": \"total bean vol\", \"value\": 5920536.240183, \"pod listing vol\": 39374836.054937, \"pod order vol\": 8828496.551576, \"total bean vol\": 5920536.240183, \"total pod vol\": 48203332.606513}, {\"timestamp\": \"2022-08-29T19:10:29\", \"season\": 6633, \"variable\": \"total pod vol\", \"value\": 48203332.606513, \"pod listing vol\": 39374836.054937, \"pod order vol\": 8828496.551576, \"total bean vol\": 5920536.240183, \"total pod vol\": 48203332.606513}, {\"timestamp\": \"2022-08-30T21:42:52\", \"season\": 6657, \"variable\": \"total pod vol\", \"value\": 48388288.052222, \"pod listing vol\": 39559791.500646, \"pod order vol\": 8828496.551576, \"total bean vol\": 5926723.589487, \"total pod vol\": 48388288.052222}, {\"timestamp\": \"2022-08-30T21:42:52\", \"season\": 6657, \"variable\": \"pod listing vol\", \"value\": 39559791.500646, \"pod listing vol\": 39559791.500646, \"pod order vol\": 8828496.551576, \"total bean vol\": 5926723.589487, \"total pod vol\": 48388288.052222}, {\"timestamp\": \"2022-08-30T21:42:52\", \"season\": 6657, \"variable\": \"pod order vol\", \"value\": 8828496.551576, \"pod listing vol\": 39559791.500646, \"pod order vol\": 8828496.551576, \"total bean vol\": 5926723.589487, \"total pod vol\": 48388288.052222}, {\"timestamp\": \"2022-08-30T21:42:52\", \"season\": 6657, \"variable\": \"total bean vol\", \"value\": 5926723.589487, \"pod listing vol\": 39559791.500646, \"pod order vol\": 8828496.551576, \"total bean vol\": 5926723.589487, \"total pod vol\": 48388288.052222}, {\"timestamp\": \"2022-08-31T19:13:00\", \"season\": 6681, \"variable\": \"total bean vol\", \"value\": 5932732.765019, \"pod listing vol\": 39563744.218304, \"pod order vol\": 8945914.629593, \"total bean vol\": 5932732.765019, \"total pod vol\": 48509658.847897}, {\"timestamp\": \"2022-08-31T19:13:00\", \"season\": 6681, \"variable\": \"total pod vol\", \"value\": 48509658.847897, \"pod listing vol\": 39563744.218304, \"pod order vol\": 8945914.629593, \"total bean vol\": 5932732.765019, \"total pod vol\": 48509658.847897}, {\"timestamp\": \"2022-08-31T19:13:00\", \"season\": 6681, \"variable\": \"pod listing vol\", \"value\": 39563744.218304, \"pod listing vol\": 39563744.218304, \"pod order vol\": 8945914.629593, \"total bean vol\": 5932732.765019, \"total pod vol\": 48509658.847897}, {\"timestamp\": \"2022-08-31T19:13:00\", \"season\": 6681, \"variable\": \"pod order vol\", \"value\": 8945914.629593, \"pod listing vol\": 39563744.218304, \"pod order vol\": 8945914.629593, \"total bean vol\": 5932732.765019, \"total pod vol\": 48509658.847897}, {\"timestamp\": \"2022-09-01T22:03:59\", \"season\": 6705, \"variable\": \"total pod vol\", \"value\": 48720967.825027, \"pod listing vol\": 39775053.195434, \"pod order vol\": 8945914.629593, \"total bean vol\": 5938544.671492, \"total pod vol\": 48720967.825027}, {\"timestamp\": \"2022-09-01T22:03:59\", \"season\": 6705, \"variable\": \"total bean vol\", \"value\": 5938544.671492, \"pod listing vol\": 39775053.195434, \"pod order vol\": 8945914.629593, \"total bean vol\": 5938544.671492, \"total pod vol\": 48720967.825027}, {\"timestamp\": \"2022-09-01T22:03:59\", \"season\": 6705, \"variable\": \"pod order vol\", \"value\": 8945914.629593, \"pod listing vol\": 39775053.195434, \"pod order vol\": 8945914.629593, \"total bean vol\": 5938544.671492, \"total pod vol\": 48720967.825027}, {\"timestamp\": \"2022-09-01T22:03:59\", \"season\": 6705, \"variable\": \"pod listing vol\", \"value\": 39775053.195434, \"pod listing vol\": 39775053.195434, \"pod order vol\": 8945914.629593, \"total bean vol\": 5938544.671492, \"total pod vol\": 48720967.825027}, {\"timestamp\": \"2022-09-02T23:47:18\", \"season\": 6729, \"variable\": \"pod listing vol\", \"value\": 39907046.59378, \"pod listing vol\": 39907046.59378, \"pod order vol\": 9305163.623793, \"total bean vol\": 5961509.885982, \"total pod vol\": 49212210.217573}, {\"timestamp\": \"2022-09-02T23:47:18\", \"season\": 6729, \"variable\": \"pod order vol\", \"value\": 9305163.623793, \"pod listing vol\": 39907046.59378, \"pod order vol\": 9305163.623793, \"total bean vol\": 5961509.885982, \"total pod vol\": 49212210.217573}, {\"timestamp\": \"2022-09-02T23:47:18\", \"season\": 6729, \"variable\": \"total bean vol\", \"value\": 5961509.885982, \"pod listing vol\": 39907046.59378, \"pod order vol\": 9305163.623793, \"total bean vol\": 5961509.885982, \"total pod vol\": 49212210.217573}, {\"timestamp\": \"2022-09-02T23:47:18\", \"season\": 6729, \"variable\": \"total pod vol\", \"value\": 49212210.217573, \"pod listing vol\": 39907046.59378, \"pod order vol\": 9305163.623793, \"total bean vol\": 5961509.885982, \"total pod vol\": 49212210.217573}, {\"timestamp\": \"2022-09-03T18:07:54\", \"season\": 6753, \"variable\": \"total bean vol\", \"value\": 5963802.824855, \"pod listing vol\": 39983615.967615, \"pod order vol\": 9305163.623793, \"total bean vol\": 5963802.824855, \"total pod vol\": 49288779.591408}, {\"timestamp\": \"2022-09-03T18:07:54\", \"season\": 6753, \"variable\": \"total pod vol\", \"value\": 49288779.591408, \"pod listing vol\": 39983615.967615, \"pod order vol\": 9305163.623793, \"total bean vol\": 5963802.824855, \"total pod vol\": 49288779.591408}, {\"timestamp\": \"2022-09-03T18:07:54\", \"season\": 6753, \"variable\": \"pod listing vol\", \"value\": 39983615.967615, \"pod listing vol\": 39983615.967615, \"pod order vol\": 9305163.623793, \"total bean vol\": 5963802.824855, \"total pod vol\": 49288779.591408}, {\"timestamp\": \"2022-09-03T18:07:54\", \"season\": 6753, \"variable\": \"pod order vol\", \"value\": 9305163.623793, \"pod listing vol\": 39983615.967615, \"pod order vol\": 9305163.623793, \"total bean vol\": 5963802.824855, \"total pod vol\": 49288779.591408}, {\"timestamp\": \"2022-09-04T10:06:51\", \"season\": 6777, \"variable\": \"pod listing vol\", \"value\": 39986390.287911, \"pod listing vol\": 39986390.287911, \"pod order vol\": 9364077.373793, \"total bean vol\": 5970838.315433, \"total pod vol\": 49350467.661704}, {\"timestamp\": \"2022-09-04T10:06:51\", \"season\": 6777, \"variable\": \"pod order vol\", \"value\": 9364077.373793, \"pod listing vol\": 39986390.287911, \"pod order vol\": 9364077.373793, \"total bean vol\": 5970838.315433, \"total pod vol\": 49350467.661704}, {\"timestamp\": \"2022-09-04T10:06:51\", \"season\": 6777, \"variable\": \"total bean vol\", \"value\": 5970838.315433, \"pod listing vol\": 39986390.287911, \"pod order vol\": 9364077.373793, \"total bean vol\": 5970838.315433, \"total pod vol\": 49350467.661704}, {\"timestamp\": \"2022-09-04T10:06:51\", \"season\": 6777, \"variable\": \"total pod vol\", \"value\": 49350467.661704, \"pod listing vol\": 39986390.287911, \"pod order vol\": 9364077.373793, \"total bean vol\": 5970838.315433, \"total pod vol\": 49350467.661704}, {\"timestamp\": \"2022-09-05T14:43:36\", \"season\": 6801, \"variable\": \"pod listing vol\", \"value\": 39986390.287911, \"pod listing vol\": 39986390.287911, \"pod order vol\": 9364077.373793, \"total bean vol\": 5970838.315433, \"total pod vol\": 49350467.661704}, {\"timestamp\": \"2022-09-05T14:43:36\", \"season\": 6801, \"variable\": \"pod order vol\", \"value\": 9364077.373793, \"pod listing vol\": 39986390.287911, \"pod order vol\": 9364077.373793, \"total bean vol\": 5970838.315433, \"total pod vol\": 49350467.661704}, {\"timestamp\": \"2022-09-05T14:43:36\", \"season\": 6801, \"variable\": \"total bean vol\", \"value\": 5970838.315433, \"pod listing vol\": 39986390.287911, \"pod order vol\": 9364077.373793, \"total bean vol\": 5970838.315433, \"total pod vol\": 49350467.661704}, {\"timestamp\": \"2022-09-05T14:43:36\", \"season\": 6801, \"variable\": \"total pod vol\", \"value\": 49350467.661704, \"pod listing vol\": 39986390.287911, \"pod order vol\": 9364077.373793, \"total bean vol\": 5970838.315433, \"total pod vol\": 49350467.661704}, {\"timestamp\": \"2022-09-06T23:54:16\", \"season\": 6825, \"variable\": \"total pod vol\", \"value\": 49538753.589569, \"pod listing vol\": 40140737.158231, \"pod order vol\": 9398016.431338, \"total bean vol\": 5979404.135387, \"total pod vol\": 49538753.589569}, {\"timestamp\": \"2022-09-06T23:54:16\", \"season\": 6825, \"variable\": \"total bean vol\", \"value\": 5979404.135387, \"pod listing vol\": 40140737.158231, \"pod order vol\": 9398016.431338, \"total bean vol\": 5979404.135387, \"total pod vol\": 49538753.589569}, {\"timestamp\": \"2022-09-06T23:54:16\", \"season\": 6825, \"variable\": \"pod order vol\", \"value\": 9398016.431338, \"pod listing vol\": 40140737.158231, \"pod order vol\": 9398016.431338, \"total bean vol\": 5979404.135387, \"total pod vol\": 49538753.589569}, {\"timestamp\": \"2022-09-06T23:54:16\", \"season\": 6825, \"variable\": \"pod listing vol\", \"value\": 40140737.158231, \"pod listing vol\": 40140737.158231, \"pod order vol\": 9398016.431338, \"total bean vol\": 5979404.135387, \"total pod vol\": 49538753.589569}, {\"timestamp\": \"2022-09-07T21:23:47\", \"season\": 6849, \"variable\": \"pod listing vol\", \"value\": 40227543.555723, \"pod listing vol\": 40227543.555723, \"pod order vol\": 9398016.431338, \"total bean vol\": 5992824.42013, \"total pod vol\": 49625559.987061}, {\"timestamp\": \"2022-09-07T21:23:47\", \"season\": 6849, \"variable\": \"pod order vol\", \"value\": 9398016.431338, \"pod listing vol\": 40227543.555723, \"pod order vol\": 9398016.431338, \"total bean vol\": 5992824.42013, \"total pod vol\": 49625559.987061}, {\"timestamp\": \"2022-09-07T21:23:47\", \"season\": 6849, \"variable\": \"total bean vol\", \"value\": 5992824.42013, \"pod listing vol\": 40227543.555723, \"pod order vol\": 9398016.431338, \"total bean vol\": 5992824.42013, \"total pod vol\": 49625559.987061}, {\"timestamp\": \"2022-09-07T21:23:47\", \"season\": 6849, \"variable\": \"total pod vol\", \"value\": 49625559.987061, \"pod listing vol\": 40227543.555723, \"pod order vol\": 9398016.431338, \"total bean vol\": 5992824.42013, \"total pod vol\": 49625559.987061}, {\"timestamp\": \"2022-09-08T18:02:04\", \"season\": 6873, \"variable\": \"pod listing vol\", \"value\": 40227543.555723, \"pod listing vol\": 40227543.555723, \"pod order vol\": 9462151.369958, \"total bean vol\": 5995958.012221, \"total pod vol\": 49689694.925681}, {\"timestamp\": \"2022-09-08T18:02:04\", \"season\": 6873, \"variable\": \"pod order vol\", \"value\": 9462151.369958, \"pod listing vol\": 40227543.555723, \"pod order vol\": 9462151.369958, \"total bean vol\": 5995958.012221, \"total pod vol\": 49689694.925681}, {\"timestamp\": \"2022-09-08T18:02:04\", \"season\": 6873, \"variable\": \"total bean vol\", \"value\": 5995958.012221, \"pod listing vol\": 40227543.555723, \"pod order vol\": 9462151.369958, \"total bean vol\": 5995958.012221, \"total pod vol\": 49689694.925681}, {\"timestamp\": \"2022-09-08T18:02:04\", \"season\": 6873, \"variable\": \"total pod vol\", \"value\": 49689694.925681, \"pod listing vol\": 40227543.555723, \"pod order vol\": 9462151.369958, \"total bean vol\": 5995958.012221, \"total pod vol\": 49689694.925681}, {\"timestamp\": \"2022-09-09T13:47:07\", \"season\": 6897, \"variable\": \"total pod vol\", \"value\": 49689694.925681, \"pod listing vol\": 40227543.555723, \"pod order vol\": 9462151.369958, \"total bean vol\": 5995958.012221, \"total pod vol\": 49689694.925681}, {\"timestamp\": \"2022-09-09T13:47:07\", \"season\": 6897, \"variable\": \"total bean vol\", \"value\": 5995958.012221, \"pod listing vol\": 40227543.555723, \"pod order vol\": 9462151.369958, \"total bean vol\": 5995958.012221, \"total pod vol\": 49689694.925681}, {\"timestamp\": \"2022-09-09T13:47:07\", \"season\": 6897, \"variable\": \"pod listing vol\", \"value\": 40227543.555723, \"pod listing vol\": 40227543.555723, \"pod order vol\": 9462151.369958, \"total bean vol\": 5995958.012221, \"total pod vol\": 49689694.925681}, {\"timestamp\": \"2022-09-09T13:47:07\", \"season\": 6897, \"variable\": \"pod order vol\", \"value\": 9462151.369958, \"pod listing vol\": 40227543.555723, \"pod order vol\": 9462151.369958, \"total bean vol\": 5995958.012221, \"total pod vol\": 49689694.925681}, {\"timestamp\": \"2022-09-10T19:12:51\", \"season\": 6921, \"variable\": \"pod listing vol\", \"value\": 40426854.261582, \"pod listing vol\": 40426854.261582, \"pod order vol\": 9492461.407908, \"total bean vol\": 6018706.754343, \"total pod vol\": 49919315.66949}, {\"timestamp\": \"2022-09-10T19:12:51\", \"season\": 6921, \"variable\": \"pod order vol\", \"value\": 9492461.407908, \"pod listing vol\": 40426854.261582, \"pod order vol\": 9492461.407908, \"total bean vol\": 6018706.754343, \"total pod vol\": 49919315.66949}, {\"timestamp\": \"2022-09-10T19:12:51\", \"season\": 6921, \"variable\": \"total bean vol\", \"value\": 6018706.754343, \"pod listing vol\": 40426854.261582, \"pod order vol\": 9492461.407908, \"total bean vol\": 6018706.754343, \"total pod vol\": 49919315.66949}, {\"timestamp\": \"2022-09-10T19:12:51\", \"season\": 6921, \"variable\": \"total pod vol\", \"value\": 49919315.66949, \"pod listing vol\": 40426854.261582, \"pod order vol\": 9492461.407908, \"total bean vol\": 6018706.754343, \"total pod vol\": 49919315.66949}, {\"timestamp\": \"2022-09-11T15:38:49\", \"season\": 6945, \"variable\": \"total pod vol\", \"value\": 49939005.63154, \"pod listing vol\": 40426854.261582, \"pod order vol\": 9512151.369958, \"total bean vol\": 6020675.750547, \"total pod vol\": 49939005.63154}, {\"timestamp\": \"2022-09-11T15:38:49\", \"season\": 6945, \"variable\": \"total bean vol\", \"value\": 6020675.750547, \"pod listing vol\": 40426854.261582, \"pod order vol\": 9512151.369958, \"total bean vol\": 6020675.750547, \"total pod vol\": 49939005.63154}, {\"timestamp\": \"2022-09-11T15:38:49\", \"season\": 6945, \"variable\": \"pod order vol\", \"value\": 9512151.369958, \"pod listing vol\": 40426854.261582, \"pod order vol\": 9512151.369958, \"total bean vol\": 6020675.750547, \"total pod vol\": 49939005.63154}, {\"timestamp\": \"2022-09-11T15:38:49\", \"season\": 6945, \"variable\": \"pod listing vol\", \"value\": 40426854.261582, \"pod listing vol\": 40426854.261582, \"pod order vol\": 9512151.369958, \"total bean vol\": 6020675.750547, \"total pod vol\": 49939005.63154}, {\"timestamp\": \"2022-09-12T23:16:36\", \"season\": 6969, \"variable\": \"pod listing vol\", \"value\": 40436960.607754, \"pod listing vol\": 40436960.607754, \"pod order vol\": 9517326.146238, \"total bean vol\": 6021486.312213, \"total pod vol\": 49954286.753992}, {\"timestamp\": \"2022-09-12T23:16:36\", \"season\": 6969, \"variable\": \"pod order vol\", \"value\": 9517326.146238, \"pod listing vol\": 40436960.607754, \"pod order vol\": 9517326.146238, \"total bean vol\": 6021486.312213, \"total pod vol\": 49954286.753992}, {\"timestamp\": \"2022-09-12T23:16:36\", \"season\": 6969, \"variable\": \"total bean vol\", \"value\": 6021486.312213, \"pod listing vol\": 40436960.607754, \"pod order vol\": 9517326.146238, \"total bean vol\": 6021486.312213, \"total pod vol\": 49954286.753992}, {\"timestamp\": \"2022-09-12T23:16:36\", \"season\": 6969, \"variable\": \"total pod vol\", \"value\": 49954286.753992, \"pod listing vol\": 40436960.607754, \"pod order vol\": 9517326.146238, \"total bean vol\": 6021486.312213, \"total pod vol\": 49954286.753992}, {\"timestamp\": \"2022-09-13T21:35:30\", \"season\": 6993, \"variable\": \"pod listing vol\", \"value\": 40436960.607754, \"pod listing vol\": 40436960.607754, \"pod order vol\": 9682871.67636, \"total bean vol\": 6028119.504444, \"total pod vol\": 50119832.284114}, {\"timestamp\": \"2022-09-13T21:35:30\", \"season\": 6993, \"variable\": \"pod order vol\", \"value\": 9682871.67636, \"pod listing vol\": 40436960.607754, \"pod order vol\": 9682871.67636, \"total bean vol\": 6028119.504444, \"total pod vol\": 50119832.284114}, {\"timestamp\": \"2022-09-13T21:35:30\", \"season\": 6993, \"variable\": \"total bean vol\", \"value\": 6028119.504444, \"pod listing vol\": 40436960.607754, \"pod order vol\": 9682871.67636, \"total bean vol\": 6028119.504444, \"total pod vol\": 50119832.284114}, {\"timestamp\": \"2022-09-13T21:35:30\", \"season\": 6993, \"variable\": \"total pod vol\", \"value\": 50119832.284114, \"pod listing vol\": 40436960.607754, \"pod order vol\": 9682871.67636, \"total bean vol\": 6028119.504444, \"total pod vol\": 50119832.284114}, {\"timestamp\": \"2022-09-14T20:05:29\", \"season\": 7017, \"variable\": \"total pod vol\", \"value\": 50120312.574528, \"pod listing vol\": 40437440.898168, \"pod order vol\": 9682871.67636, \"total bean vol\": 6028249.182855, \"total pod vol\": 50120312.574528}, {\"timestamp\": \"2022-09-14T20:05:29\", \"season\": 7017, \"variable\": \"total bean vol\", \"value\": 6028249.182855, \"pod listing vol\": 40437440.898168, \"pod order vol\": 9682871.67636, \"total bean vol\": 6028249.182855, \"total pod vol\": 50120312.574528}, {\"timestamp\": \"2022-09-14T20:05:29\", \"season\": 7017, \"variable\": \"pod listing vol\", \"value\": 40437440.898168, \"pod listing vol\": 40437440.898168, \"pod order vol\": 9682871.67636, \"total bean vol\": 6028249.182855, \"total pod vol\": 50120312.574528}, {\"timestamp\": \"2022-09-14T20:05:29\", \"season\": 7017, \"variable\": \"pod order vol\", \"value\": 9682871.67636, \"pod listing vol\": 40437440.898168, \"pod order vol\": 9682871.67636, \"total bean vol\": 6028249.182855, \"total pod vol\": 50120312.574528}, {\"timestamp\": \"2022-09-15T21:21:47\", \"season\": 7041, \"variable\": \"pod listing vol\", \"value\": 40437440.898168, \"pod listing vol\": 40437440.898168, \"pod order vol\": 9721821.697887, \"total bean vol\": 6032144.185006, \"total pod vol\": 50159262.596055}, {\"timestamp\": \"2022-09-15T21:21:47\", \"season\": 7041, \"variable\": \"pod order vol\", \"value\": 9721821.697887, \"pod listing vol\": 40437440.898168, \"pod order vol\": 9721821.697887, \"total bean vol\": 6032144.185006, \"total pod vol\": 50159262.596055}, {\"timestamp\": \"2022-09-15T21:21:47\", \"season\": 7041, \"variable\": \"total bean vol\", \"value\": 6032144.185006, \"pod listing vol\": 40437440.898168, \"pod order vol\": 9721821.697887, \"total bean vol\": 6032144.185006, \"total pod vol\": 50159262.596055}, {\"timestamp\": \"2022-09-15T21:21:47\", \"season\": 7041, \"variable\": \"total pod vol\", \"value\": 50159262.596055, \"pod listing vol\": 40437440.898168, \"pod order vol\": 9721821.697887, \"total bean vol\": 6032144.185006, \"total pod vol\": 50159262.596055}, {\"timestamp\": \"2022-09-16T06:18:23\", \"season\": 7065, \"variable\": \"total pod vol\", \"value\": 50163484.106614, \"pod listing vol\": 40441662.408727, \"pod order vol\": 9721821.697887, \"total bean vol\": 6032393.254128, \"total pod vol\": 50163484.106614}, {\"timestamp\": \"2022-09-16T06:18:23\", \"season\": 7065, \"variable\": \"total bean vol\", \"value\": 6032393.254128, \"pod listing vol\": 40441662.408727, \"pod order vol\": 9721821.697887, \"total bean vol\": 6032393.254128, \"total pod vol\": 50163484.106614}, {\"timestamp\": \"2022-09-16T06:18:23\", \"season\": 7065, \"variable\": \"pod order vol\", \"value\": 9721821.697887, \"pod listing vol\": 40441662.408727, \"pod order vol\": 9721821.697887, \"total bean vol\": 6032393.254128, \"total pod vol\": 50163484.106614}, {\"timestamp\": \"2022-09-16T06:18:23\", \"season\": 7065, \"variable\": \"pod listing vol\", \"value\": 40441662.408727, \"pod listing vol\": 40441662.408727, \"pod order vol\": 9721821.697887, \"total bean vol\": 6032393.254128, \"total pod vol\": 50163484.106614}, {\"timestamp\": \"2022-09-17T22:01:23\", \"season\": 7089, \"variable\": \"pod listing vol\", \"value\": 40442560.079111, \"pod listing vol\": 40442560.079111, \"pod order vol\": 9748386.932817, \"total bean vol\": 6035620.074096, \"total pod vol\": 50190947.011928}, {\"timestamp\": \"2022-09-17T22:01:23\", \"season\": 7089, \"variable\": \"pod order vol\", \"value\": 9748386.932817, \"pod listing vol\": 40442560.079111, \"pod order vol\": 9748386.932817, \"total bean vol\": 6035620.074096, \"total pod vol\": 50190947.011928}, {\"timestamp\": \"2022-09-17T22:01:23\", \"season\": 7089, \"variable\": \"total bean vol\", \"value\": 6035620.074096, \"pod listing vol\": 40442560.079111, \"pod order vol\": 9748386.932817, \"total bean vol\": 6035620.074096, \"total pod vol\": 50190947.011928}, {\"timestamp\": \"2022-09-17T22:01:23\", \"season\": 7089, \"variable\": \"total pod vol\", \"value\": 50190947.011928, \"pod listing vol\": 40442560.079111, \"pod order vol\": 9748386.932817, \"total bean vol\": 6035620.074096, \"total pod vol\": 50190947.011928}, {\"timestamp\": \"2022-09-18T23:21:59\", \"season\": 7113, \"variable\": \"total bean vol\", \"value\": 6040229.900447, \"pod listing vol\": 40482566.0192, \"pod order vol\": 9753826.932817, \"total bean vol\": 6040229.900447, \"total pod vol\": 50236392.952017}, {\"timestamp\": \"2022-09-18T23:21:59\", \"season\": 7113, \"variable\": \"total pod vol\", \"value\": 50236392.952017, \"pod listing vol\": 40482566.0192, \"pod order vol\": 9753826.932817, \"total bean vol\": 6040229.900447, \"total pod vol\": 50236392.952017}, {\"timestamp\": \"2022-09-18T23:21:59\", \"season\": 7113, \"variable\": \"pod listing vol\", \"value\": 40482566.0192, \"pod listing vol\": 40482566.0192, \"pod order vol\": 9753826.932817, \"total bean vol\": 6040229.900447, \"total pod vol\": 50236392.952017}, {\"timestamp\": \"2022-09-18T23:21:59\", \"season\": 7113, \"variable\": \"pod order vol\", \"value\": 9753826.932817, \"pod listing vol\": 40482566.0192, \"pod order vol\": 9753826.932817, \"total bean vol\": 6040229.900447, \"total pod vol\": 50236392.952017}, {\"timestamp\": \"2022-09-19T21:16:59\", \"season\": 7137, \"variable\": \"pod listing vol\", \"value\": 40490999.478786, \"pod listing vol\": 40490999.478786, \"pod order vol\": 9928022.320933, \"total bean vol\": 6053982.796177, \"total pod vol\": 50419021.799719}, {\"timestamp\": \"2022-09-19T21:16:59\", \"season\": 7137, \"variable\": \"pod order vol\", \"value\": 9928022.320933, \"pod listing vol\": 40490999.478786, \"pod order vol\": 9928022.320933, \"total bean vol\": 6053982.796177, \"total pod vol\": 50419021.799719}, {\"timestamp\": \"2022-09-19T21:16:59\", \"season\": 7137, \"variable\": \"total bean vol\", \"value\": 6053982.796177, \"pod listing vol\": 40490999.478786, \"pod order vol\": 9928022.320933, \"total bean vol\": 6053982.796177, \"total pod vol\": 50419021.799719}, {\"timestamp\": \"2022-09-19T21:16:59\", \"season\": 7137, \"variable\": \"total pod vol\", \"value\": 50419021.799719, \"pod listing vol\": 40490999.478786, \"pod order vol\": 9928022.320933, \"total bean vol\": 6053982.796177, \"total pod vol\": 50419021.799719}, {\"timestamp\": \"2022-09-20T03:33:35\", \"season\": 7161, \"variable\": \"total pod vol\", \"value\": 50438871.510526, \"pod listing vol\": 40510849.189593, \"pod order vol\": 9928022.320933, \"total bean vol\": 6054486.888657, \"total pod vol\": 50438871.510526}, {\"timestamp\": \"2022-09-20T03:33:35\", \"season\": 7161, \"variable\": \"pod listing vol\", \"value\": 40510849.189593, \"pod listing vol\": 40510849.189593, \"pod order vol\": 9928022.320933, \"total bean vol\": 6054486.888657, \"total pod vol\": 50438871.510526}, {\"timestamp\": \"2022-09-20T03:33:35\", \"season\": 7161, \"variable\": \"pod order vol\", \"value\": 9928022.320933, \"pod listing vol\": 40510849.189593, \"pod order vol\": 9928022.320933, \"total bean vol\": 6054486.888657, \"total pod vol\": 50438871.510526}, {\"timestamp\": \"2022-09-20T03:33:35\", \"season\": 7161, \"variable\": \"total bean vol\", \"value\": 6054486.888657, \"pod listing vol\": 40510849.189593, \"pod order vol\": 9928022.320933, \"total bean vol\": 6054486.888657, \"total pod vol\": 50438871.510526}, {\"timestamp\": \"2022-09-21T17:02:35\", \"season\": 7185, \"variable\": \"total pod vol\", \"value\": 50567080.857411, \"pod listing vol\": 40639058.536478, \"pod order vol\": 9928022.320933, \"total bean vol\": 6057051.075594, \"total pod vol\": 50567080.857411}, {\"timestamp\": \"2022-09-21T17:02:35\", \"season\": 7185, \"variable\": \"total bean vol\", \"value\": 6057051.075594, \"pod listing vol\": 40639058.536478, \"pod order vol\": 9928022.320933, \"total bean vol\": 6057051.075594, \"total pod vol\": 50567080.857411}, {\"timestamp\": \"2022-09-21T17:02:35\", \"season\": 7185, \"variable\": \"pod listing vol\", \"value\": 40639058.536478, \"pod listing vol\": 40639058.536478, \"pod order vol\": 9928022.320933, \"total bean vol\": 6057051.075594, \"total pod vol\": 50567080.857411}, {\"timestamp\": \"2022-09-21T17:02:35\", \"season\": 7185, \"variable\": \"pod order vol\", \"value\": 9928022.320933, \"pod listing vol\": 40639058.536478, \"pod order vol\": 9928022.320933, \"total bean vol\": 6057051.075594, \"total pod vol\": 50567080.857411}, {\"timestamp\": \"2022-09-22T22:38:59\", \"season\": 7209, \"variable\": \"pod listing vol\", \"value\": 40716755.214498, \"pod listing vol\": 40716755.214498, \"pod order vol\": 9951590.205773, \"total bean vol\": 6061664.381237, \"total pod vol\": 50668345.420271}, {\"timestamp\": \"2022-09-22T22:38:59\", \"season\": 7209, \"variable\": \"pod order vol\", \"value\": 9951590.205773, \"pod listing vol\": 40716755.214498, \"pod order vol\": 9951590.205773, \"total bean vol\": 6061664.381237, \"total pod vol\": 50668345.420271}, {\"timestamp\": \"2022-09-22T22:38:59\", \"season\": 7209, \"variable\": \"total bean vol\", \"value\": 6061664.381237, \"pod listing vol\": 40716755.214498, \"pod order vol\": 9951590.205773, \"total bean vol\": 6061664.381237, \"total pod vol\": 50668345.420271}, {\"timestamp\": \"2022-09-22T22:38:59\", \"season\": 7209, \"variable\": \"total pod vol\", \"value\": 50668345.420271, \"pod listing vol\": 40716755.214498, \"pod order vol\": 9951590.205773, \"total bean vol\": 6061664.381237, \"total pod vol\": 50668345.420271}, {\"timestamp\": \"2022-09-23T23:10:11\", \"season\": 7233, \"variable\": \"pod listing vol\", \"value\": 40716755.214498, \"pod listing vol\": 40716755.214498, \"pod order vol\": 10020820.975003, \"total bean vol\": 6069164.381235, \"total pod vol\": 50737576.189501}, {\"timestamp\": \"2022-09-23T23:10:11\", \"season\": 7233, \"variable\": \"pod order vol\", \"value\": 10020820.975003, \"pod listing vol\": 40716755.214498, \"pod order vol\": 10020820.975003, \"total bean vol\": 6069164.381235, \"total pod vol\": 50737576.189501}, {\"timestamp\": \"2022-09-23T23:10:11\", \"season\": 7233, \"variable\": \"total bean vol\", \"value\": 6069164.381235, \"pod listing vol\": 40716755.214498, \"pod order vol\": 10020820.975003, \"total bean vol\": 6069164.381235, \"total pod vol\": 50737576.189501}, {\"timestamp\": \"2022-09-23T23:10:11\", \"season\": 7233, \"variable\": \"total pod vol\", \"value\": 50737576.189501, \"pod listing vol\": 40716755.214498, \"pod order vol\": 10020820.975003, \"total bean vol\": 6069164.381235, \"total pod vol\": 50737576.189501}, {\"timestamp\": \"2022-09-24T22:28:59\", \"season\": 7257, \"variable\": \"total pod vol\", \"value\": 50737576.189501, \"pod listing vol\": 40716755.214498, \"pod order vol\": 10020820.975003, \"total bean vol\": 6069164.381235, \"total pod vol\": 50737576.189501}, {\"timestamp\": \"2022-09-24T22:28:59\", \"season\": 7257, \"variable\": \"total bean vol\", \"value\": 6069164.381235, \"pod listing vol\": 40716755.214498, \"pod order vol\": 10020820.975003, \"total bean vol\": 6069164.381235, \"total pod vol\": 50737576.189501}, {\"timestamp\": \"2022-09-24T22:28:59\", \"season\": 7257, \"variable\": \"pod listing vol\", \"value\": 40716755.214498, \"pod listing vol\": 40716755.214498, \"pod order vol\": 10020820.975003, \"total bean vol\": 6069164.381235, \"total pod vol\": 50737576.189501}, {\"timestamp\": \"2022-09-24T22:28:59\", \"season\": 7257, \"variable\": \"pod order vol\", \"value\": 10020820.975003, \"pod listing vol\": 40716755.214498, \"pod order vol\": 10020820.975003, \"total bean vol\": 6069164.381235, \"total pod vol\": 50737576.189501}, {\"timestamp\": \"2022-09-25T21:18:59\", \"season\": 7281, \"variable\": \"total pod vol\", \"value\": 50737576.189501, \"pod listing vol\": 40716755.214498, \"pod order vol\": 10020820.975003, \"total bean vol\": 6069164.381235, \"total pod vol\": 50737576.189501}, {\"timestamp\": \"2022-09-25T21:18:59\", \"season\": 7281, \"variable\": \"pod listing vol\", \"value\": 40716755.214498, \"pod listing vol\": 40716755.214498, \"pod order vol\": 10020820.975003, \"total bean vol\": 6069164.381235, \"total pod vol\": 50737576.189501}, {\"timestamp\": \"2022-09-25T21:18:59\", \"season\": 7281, \"variable\": \"pod order vol\", \"value\": 10020820.975003, \"pod listing vol\": 40716755.214498, \"pod order vol\": 10020820.975003, \"total bean vol\": 6069164.381235, \"total pod vol\": 50737576.189501}, {\"timestamp\": \"2022-09-25T21:18:59\", \"season\": 7281, \"variable\": \"total bean vol\", \"value\": 6069164.381235, \"pod listing vol\": 40716755.214498, \"pod order vol\": 10020820.975003, \"total bean vol\": 6069164.381235, \"total pod vol\": 50737576.189501}, {\"timestamp\": \"2022-09-26T18:39:11\", \"season\": 7305, \"variable\": \"total pod vol\", \"value\": 50801576.189501, \"pod listing vol\": 40716755.214498, \"pod order vol\": 10084820.975003, \"total bean vol\": 6075564.381235, \"total pod vol\": 50801576.189501}, {\"timestamp\": \"2022-09-26T18:39:11\", \"season\": 7305, \"variable\": \"total bean vol\", \"value\": 6075564.381235, \"pod listing vol\": 40716755.214498, \"pod order vol\": 10084820.975003, \"total bean vol\": 6075564.381235, \"total pod vol\": 50801576.189501}, {\"timestamp\": \"2022-09-26T18:39:11\", \"season\": 7305, \"variable\": \"pod listing vol\", \"value\": 40716755.214498, \"pod listing vol\": 40716755.214498, \"pod order vol\": 10084820.975003, \"total bean vol\": 6075564.381235, \"total pod vol\": 50801576.189501}, {\"timestamp\": \"2022-09-26T18:39:11\", \"season\": 7305, \"variable\": \"pod order vol\", \"value\": 10084820.975003, \"pod listing vol\": 40716755.214498, \"pod order vol\": 10084820.975003, \"total bean vol\": 6075564.381235, \"total pod vol\": 50801576.189501}, {\"timestamp\": \"2022-09-27T21:56:35\", \"season\": 7329, \"variable\": \"pod listing vol\", \"value\": 40716755.214498, \"pod listing vol\": 40716755.214498, \"pod order vol\": 10367979.234822, \"total bean vol\": 6086285.021724, \"total pod vol\": 51084734.44932}, {\"timestamp\": \"2022-09-27T21:56:35\", \"season\": 7329, \"variable\": \"pod order vol\", \"value\": 10367979.234822, \"pod listing vol\": 40716755.214498, \"pod order vol\": 10367979.234822, \"total bean vol\": 6086285.021724, \"total pod vol\": 51084734.44932}, {\"timestamp\": \"2022-09-27T21:56:35\", \"season\": 7329, \"variable\": \"total bean vol\", \"value\": 6086285.021724, \"pod listing vol\": 40716755.214498, \"pod order vol\": 10367979.234822, \"total bean vol\": 6086285.021724, \"total pod vol\": 51084734.44932}, {\"timestamp\": \"2022-09-27T21:56:35\", \"season\": 7329, \"variable\": \"total pod vol\", \"value\": 51084734.44932, \"pod listing vol\": 40716755.214498, \"pod order vol\": 10367979.234822, \"total bean vol\": 6086285.021724, \"total pod vol\": 51084734.44932}, {\"timestamp\": \"2022-09-28T18:01:11\", \"season\": 7353, \"variable\": \"total pod vol\", \"value\": 51177214.512244, \"pod listing vol\": 40809235.277422, \"pod order vol\": 10367979.234822, \"total bean vol\": 6088134.622982, \"total pod vol\": 51177214.512244}, {\"timestamp\": \"2022-09-28T18:01:11\", \"season\": 7353, \"variable\": \"pod listing vol\", \"value\": 40809235.277422, \"pod listing vol\": 40809235.277422, \"pod order vol\": 10367979.234822, \"total bean vol\": 6088134.622982, \"total pod vol\": 51177214.512244}, {\"timestamp\": \"2022-09-28T18:01:11\", \"season\": 7353, \"variable\": \"pod order vol\", \"value\": 10367979.234822, \"pod listing vol\": 40809235.277422, \"pod order vol\": 10367979.234822, \"total bean vol\": 6088134.622982, \"total pod vol\": 51177214.512244}, {\"timestamp\": \"2022-09-28T18:01:11\", \"season\": 7353, \"variable\": \"total bean vol\", \"value\": 6088134.622982, \"pod listing vol\": 40809235.277422, \"pod order vol\": 10367979.234822, \"total bean vol\": 6088134.622982, \"total pod vol\": 51177214.512244}, {\"timestamp\": \"2022-09-29T09:34:23\", \"season\": 7377, \"variable\": \"pod listing vol\", \"value\": 40814235.277422, \"pod listing vol\": 40814235.277422, \"pod order vol\": 10370551.509036, \"total bean vol\": 6088353.915038, \"total pod vol\": 51184786.786458}, {\"timestamp\": \"2022-09-29T09:34:23\", \"season\": 7377, \"variable\": \"pod order vol\", \"value\": 10370551.509036, \"pod listing vol\": 40814235.277422, \"pod order vol\": 10370551.509036, \"total bean vol\": 6088353.915038, \"total pod vol\": 51184786.786458}, {\"timestamp\": \"2022-09-29T09:34:23\", \"season\": 7377, \"variable\": \"total bean vol\", \"value\": 6088353.915038, \"pod listing vol\": 40814235.277422, \"pod order vol\": 10370551.509036, \"total bean vol\": 6088353.915038, \"total pod vol\": 51184786.786458}, {\"timestamp\": \"2022-09-29T09:34:23\", \"season\": 7377, \"variable\": \"total pod vol\", \"value\": 51184786.786458, \"pod listing vol\": 40814235.277422, \"pod order vol\": 10370551.509036, \"total bean vol\": 6088353.915038, \"total pod vol\": 51184786.786458}, {\"timestamp\": \"2022-09-30T18:10:11\", \"season\": 7401, \"variable\": \"total bean vol\", \"value\": 6089575.772044, \"pod listing vol\": 40875328.12773, \"pod order vol\": 10370551.509036, \"total bean vol\": 6089575.772044, \"total pod vol\": 51245879.636766}, {\"timestamp\": \"2022-09-30T18:10:11\", \"season\": 7401, \"variable\": \"total pod vol\", \"value\": 51245879.636766, \"pod listing vol\": 40875328.12773, \"pod order vol\": 10370551.509036, \"total bean vol\": 6089575.772044, \"total pod vol\": 51245879.636766}, {\"timestamp\": \"2022-09-30T18:10:11\", \"season\": 7401, \"variable\": \"pod listing vol\", \"value\": 40875328.12773, \"pod listing vol\": 40875328.12773, \"pod order vol\": 10370551.509036, \"total bean vol\": 6089575.772044, \"total pod vol\": 51245879.636766}, {\"timestamp\": \"2022-09-30T18:10:11\", \"season\": 7401, \"variable\": \"pod order vol\", \"value\": 10370551.509036, \"pod listing vol\": 40875328.12773, \"pod order vol\": 10370551.509036, \"total bean vol\": 6089575.772044, \"total pod vol\": 51245879.636766}, {\"timestamp\": \"2022-10-01T21:40:23\", \"season\": 7425, \"variable\": \"total pod vol\", \"value\": 51245879.636766, \"pod listing vol\": 40875328.12773, \"pod order vol\": 10370551.509036, \"total bean vol\": 6089575.772044, \"total pod vol\": 51245879.636766}, {\"timestamp\": \"2022-10-01T21:40:23\", \"season\": 7425, \"variable\": \"total bean vol\", \"value\": 6089575.772044, \"pod listing vol\": 40875328.12773, \"pod order vol\": 10370551.509036, \"total bean vol\": 6089575.772044, \"total pod vol\": 51245879.636766}, {\"timestamp\": \"2022-10-01T21:40:23\", \"season\": 7425, \"variable\": \"pod order vol\", \"value\": 10370551.509036, \"pod listing vol\": 40875328.12773, \"pod order vol\": 10370551.509036, \"total bean vol\": 6089575.772044, \"total pod vol\": 51245879.636766}, {\"timestamp\": \"2022-10-01T21:40:23\", \"season\": 7425, \"variable\": \"pod listing vol\", \"value\": 40875328.12773, \"pod listing vol\": 40875328.12773, \"pod order vol\": 10370551.509036, \"total bean vol\": 6089575.772044, \"total pod vol\": 51245879.636766}, {\"timestamp\": \"2022-10-02T20:16:35\", \"season\": 7449, \"variable\": \"pod listing vol\", \"value\": 40875328.12773, \"pod listing vol\": 40875328.12773, \"pod order vol\": 10401818.891059, \"total bean vol\": 6090513.793503, \"total pod vol\": 51277147.018789}, {\"timestamp\": \"2022-10-02T20:16:35\", \"season\": 7449, \"variable\": \"pod order vol\", \"value\": 10401818.891059, \"pod listing vol\": 40875328.12773, \"pod order vol\": 10401818.891059, \"total bean vol\": 6090513.793503, \"total pod vol\": 51277147.018789}, {\"timestamp\": \"2022-10-02T20:16:35\", \"season\": 7449, \"variable\": \"total bean vol\", \"value\": 6090513.793503, \"pod listing vol\": 40875328.12773, \"pod order vol\": 10401818.891059, \"total bean vol\": 6090513.793503, \"total pod vol\": 51277147.018789}, {\"timestamp\": \"2022-10-02T20:16:35\", \"season\": 7449, \"variable\": \"total pod vol\", \"value\": 51277147.018789, \"pod listing vol\": 40875328.12773, \"pod order vol\": 10401818.891059, \"total bean vol\": 6090513.793503, \"total pod vol\": 51277147.018789}, {\"timestamp\": \"2022-10-03T18:43:47\", \"season\": 7473, \"variable\": \"total bean vol\", \"value\": 6090820.659352, \"pod listing vol\": 40875328.12773, \"pod order vol\": 10434487.618884, \"total bean vol\": 6090820.659352, \"total pod vol\": 51309815.746614}, {\"timestamp\": \"2022-10-03T18:43:47\", \"season\": 7473, \"variable\": \"total pod vol\", \"value\": 51309815.746614, \"pod listing vol\": 40875328.12773, \"pod order vol\": 10434487.618884, \"total bean vol\": 6090820.659352, \"total pod vol\": 51309815.746614}, {\"timestamp\": \"2022-10-03T18:43:47\", \"season\": 7473, \"variable\": \"pod listing vol\", \"value\": 40875328.12773, \"pod listing vol\": 40875328.12773, \"pod order vol\": 10434487.618884, \"total bean vol\": 6090820.659352, \"total pod vol\": 51309815.746614}, {\"timestamp\": \"2022-10-03T18:43:47\", \"season\": 7473, \"variable\": \"pod order vol\", \"value\": 10434487.618884, \"pod listing vol\": 40875328.12773, \"pod order vol\": 10434487.618884, \"total bean vol\": 6090820.659352, \"total pod vol\": 51309815.746614}, {\"timestamp\": \"2022-10-04T17:18:11\", \"season\": 7497, \"variable\": \"pod listing vol\", \"value\": 40875328.12773, \"pod listing vol\": 40875328.12773, \"pod order vol\": 10434487.618884, \"total bean vol\": 6090820.659352, \"total pod vol\": 51309815.746614}, {\"timestamp\": \"2022-10-04T17:18:11\", \"season\": 7497, \"variable\": \"pod order vol\", \"value\": 10434487.618884, \"pod listing vol\": 40875328.12773, \"pod order vol\": 10434487.618884, \"total bean vol\": 6090820.659352, \"total pod vol\": 51309815.746614}, {\"timestamp\": \"2022-10-04T17:18:11\", \"season\": 7497, \"variable\": \"total bean vol\", \"value\": 6090820.659352, \"pod listing vol\": 40875328.12773, \"pod order vol\": 10434487.618884, \"total bean vol\": 6090820.659352, \"total pod vol\": 51309815.746614}, {\"timestamp\": \"2022-10-04T17:18:11\", \"season\": 7497, \"variable\": \"total pod vol\", \"value\": 51309815.746614, \"pod listing vol\": 40875328.12773, \"pod order vol\": 10434487.618884, \"total bean vol\": 6090820.659352, \"total pod vol\": 51309815.746614}, {\"timestamp\": \"2022-10-05T14:12:59\", \"season\": 7521, \"variable\": \"pod listing vol\", \"value\": 40946742.413442, \"pod listing vol\": 40946742.413442, \"pod order vol\": 10448923.90654, \"total bean vol\": 6096110.132397, \"total pod vol\": 51395666.319982}, {\"timestamp\": \"2022-10-05T14:12:59\", \"season\": 7521, \"variable\": \"pod order vol\", \"value\": 10448923.90654, \"pod listing vol\": 40946742.413442, \"pod order vol\": 10448923.90654, \"total bean vol\": 6096110.132397, \"total pod vol\": 51395666.319982}, {\"timestamp\": \"2022-10-05T14:12:59\", \"season\": 7521, \"variable\": \"total bean vol\", \"value\": 6096110.132397, \"pod listing vol\": 40946742.413442, \"pod order vol\": 10448923.90654, \"total bean vol\": 6096110.132397, \"total pod vol\": 51395666.319982}, {\"timestamp\": \"2022-10-05T14:12:59\", \"season\": 7521, \"variable\": \"total pod vol\", \"value\": 51395666.319982, \"pod listing vol\": 40946742.413442, \"pod order vol\": 10448923.90654, \"total bean vol\": 6096110.132397, \"total pod vol\": 51395666.319982}, {\"timestamp\": \"2022-10-06T01:04:47\", \"season\": 7545, \"variable\": \"total pod vol\", \"value\": 51412917.113594, \"pod listing vol\": 40946742.413442, \"pod order vol\": 10466174.700152, \"total bean vol\": 6098127.656204, \"total pod vol\": 51412917.113594}, {\"timestamp\": \"2022-10-06T01:04:47\", \"season\": 7545, \"variable\": \"total bean vol\", \"value\": 6098127.656204, \"pod listing vol\": 40946742.413442, \"pod order vol\": 10466174.700152, \"total bean vol\": 6098127.656204, \"total pod vol\": 51412917.113594}, {\"timestamp\": \"2022-10-06T01:04:47\", \"season\": 7545, \"variable\": \"pod order vol\", \"value\": 10466174.700152, \"pod listing vol\": 40946742.413442, \"pod order vol\": 10466174.700152, \"total bean vol\": 6098127.656204, \"total pod vol\": 51412917.113594}, {\"timestamp\": \"2022-10-06T01:04:47\", \"season\": 7545, \"variable\": \"pod listing vol\", \"value\": 40946742.413442, \"pod listing vol\": 40946742.413442, \"pod order vol\": 10466174.700152, \"total bean vol\": 6098127.656204, \"total pod vol\": 51412917.113594}, {\"timestamp\": \"2022-10-07T21:27:11\", \"season\": 7569, \"variable\": \"pod listing vol\", \"value\": 41021919.086459, \"pod listing vol\": 41021919.086459, \"pod order vol\": 10505857.239834, \"total bean vol\": 6102687.038582, \"total pod vol\": 51527776.326293}, {\"timestamp\": \"2022-10-07T21:27:11\", \"season\": 7569, \"variable\": \"pod order vol\", \"value\": 10505857.239834, \"pod listing vol\": 41021919.086459, \"pod order vol\": 10505857.239834, \"total bean vol\": 6102687.038582, \"total pod vol\": 51527776.326293}, {\"timestamp\": \"2022-10-07T21:27:11\", \"season\": 7569, \"variable\": \"total bean vol\", \"value\": 6102687.038582, \"pod listing vol\": 41021919.086459, \"pod order vol\": 10505857.239834, \"total bean vol\": 6102687.038582, \"total pod vol\": 51527776.326293}, {\"timestamp\": \"2022-10-07T21:27:11\", \"season\": 7569, \"variable\": \"total pod vol\", \"value\": 51527776.326293, \"pod listing vol\": 41021919.086459, \"pod order vol\": 10505857.239834, \"total bean vol\": 6102687.038582, \"total pod vol\": 51527776.326293}, {\"timestamp\": \"2022-10-08T06:01:35\", \"season\": 7593, \"variable\": \"total bean vol\", \"value\": 6105362.051472, \"pod listing vol\": 41021919.086459, \"pod order vol\": 10539294.900959, \"total bean vol\": 6105362.051472, \"total pod vol\": 51561213.987418}, {\"timestamp\": \"2022-10-08T06:01:35\", \"season\": 7593, \"variable\": \"total pod vol\", \"value\": 51561213.987418, \"pod listing vol\": 41021919.086459, \"pod order vol\": 10539294.900959, \"total bean vol\": 6105362.051472, \"total pod vol\": 51561213.987418}, {\"timestamp\": \"2022-10-08T06:01:35\", \"season\": 7593, \"variable\": \"pod listing vol\", \"value\": 41021919.086459, \"pod listing vol\": 41021919.086459, \"pod order vol\": 10539294.900959, \"total bean vol\": 6105362.051472, \"total pod vol\": 51561213.987418}, {\"timestamp\": \"2022-10-08T06:01:35\", \"season\": 7593, \"variable\": \"pod order vol\", \"value\": 10539294.900959, \"pod listing vol\": 41021919.086459, \"pod order vol\": 10539294.900959, \"total bean vol\": 6105362.051472, \"total pod vol\": 51561213.987418}, {\"timestamp\": \"2022-10-09T00:00:11\", \"season\": 7617, \"variable\": \"pod listing vol\", \"value\": 41021919.086459, \"pod listing vol\": 41021919.086459, \"pod order vol\": 10539294.900959, \"total bean vol\": 6105362.051472, \"total pod vol\": 51561213.987418}, {\"timestamp\": \"2022-10-09T00:00:11\", \"season\": 7617, \"variable\": \"pod order vol\", \"value\": 10539294.900959, \"pod listing vol\": 41021919.086459, \"pod order vol\": 10539294.900959, \"total bean vol\": 6105362.051472, \"total pod vol\": 51561213.987418}, {\"timestamp\": \"2022-10-09T00:00:11\", \"season\": 7617, \"variable\": \"total bean vol\", \"value\": 6105362.051472, \"pod listing vol\": 41021919.086459, \"pod order vol\": 10539294.900959, \"total bean vol\": 6105362.051472, \"total pod vol\": 51561213.987418}, {\"timestamp\": \"2022-10-09T00:00:11\", \"season\": 7617, \"variable\": \"total pod vol\", \"value\": 51561213.987418, \"pod listing vol\": 41021919.086459, \"pod order vol\": 10539294.900959, \"total bean vol\": 6105362.051472, \"total pod vol\": 51561213.987418}, {\"timestamp\": \"2022-10-10T04:50:23\", \"season\": 7641, \"variable\": \"total pod vol\", \"value\": 51562569.730891, \"pod listing vol\": 41023274.829932, \"pod order vol\": 10539294.900959, \"total bean vol\": 6105565.412992, \"total pod vol\": 51562569.730891}, {\"timestamp\": \"2022-10-10T04:50:23\", \"season\": 7641, \"variable\": \"pod listing vol\", \"value\": 41023274.829932, \"pod listing vol\": 41023274.829932, \"pod order vol\": 10539294.900959, \"total bean vol\": 6105565.412992, \"total pod vol\": 51562569.730891}, {\"timestamp\": \"2022-10-10T04:50:23\", \"season\": 7641, \"variable\": \"pod order vol\", \"value\": 10539294.900959, \"pod listing vol\": 41023274.829932, \"pod order vol\": 10539294.900959, \"total bean vol\": 6105565.412992, \"total pod vol\": 51562569.730891}, {\"timestamp\": \"2022-10-10T04:50:23\", \"season\": 7641, \"variable\": \"total bean vol\", \"value\": 6105565.412992, \"pod listing vol\": 41023274.829932, \"pod order vol\": 10539294.900959, \"total bean vol\": 6105565.412992, \"total pod vol\": 51562569.730891}, {\"timestamp\": \"2022-10-11T12:44:23\", \"season\": 7665, \"variable\": \"total pod vol\", \"value\": 51733858.494003, \"pod listing vol\": 41040274.829932, \"pod order vol\": 10693583.664071, \"total bean vol\": 6115601.866439, \"total pod vol\": 51733858.494003}, {\"timestamp\": \"2022-10-11T12:44:23\", \"season\": 7665, \"variable\": \"total bean vol\", \"value\": 6115601.866439, \"pod listing vol\": 41040274.829932, \"pod order vol\": 10693583.664071, \"total bean vol\": 6115601.866439, \"total pod vol\": 51733858.494003}, {\"timestamp\": \"2022-10-11T12:44:23\", \"season\": 7665, \"variable\": \"pod listing vol\", \"value\": 41040274.829932, \"pod listing vol\": 41040274.829932, \"pod order vol\": 10693583.664071, \"total bean vol\": 6115601.866439, \"total pod vol\": 51733858.494003}, {\"timestamp\": \"2022-10-11T12:44:23\", \"season\": 7665, \"variable\": \"pod order vol\", \"value\": 10693583.664071, \"pod listing vol\": 41040274.829932, \"pod order vol\": 10693583.664071, \"total bean vol\": 6115601.866439, \"total pod vol\": 51733858.494003}, {\"timestamp\": \"2022-10-12T18:01:47\", \"season\": 7689, \"variable\": \"pod listing vol\", \"value\": 41043192.625139, \"pod listing vol\": 41043192.625139, \"pod order vol\": 10693775.513387, \"total bean vol\": 6118078.914346, \"total pod vol\": 51736968.138526}, {\"timestamp\": \"2022-10-12T18:01:47\", \"season\": 7689, \"variable\": \"pod order vol\", \"value\": 10693775.513387, \"pod listing vol\": 41043192.625139, \"pod order vol\": 10693775.513387, \"total bean vol\": 6118078.914346, \"total pod vol\": 51736968.138526}, {\"timestamp\": \"2022-10-12T18:01:47\", \"season\": 7689, \"variable\": \"total bean vol\", \"value\": 6118078.914346, \"pod listing vol\": 41043192.625139, \"pod order vol\": 10693775.513387, \"total bean vol\": 6118078.914346, \"total pod vol\": 51736968.138526}, {\"timestamp\": \"2022-10-12T18:01:47\", \"season\": 7689, \"variable\": \"total pod vol\", \"value\": 51736968.138526, \"pod listing vol\": 41043192.625139, \"pod order vol\": 10693775.513387, \"total bean vol\": 6118078.914346, \"total pod vol\": 51736968.138526}, {\"timestamp\": \"2022-10-13T00:00:11\", \"season\": 7713, \"variable\": \"pod listing vol\", \"value\": 41043192.625139, \"pod listing vol\": 41043192.625139, \"pod order vol\": 10693775.513387, \"total bean vol\": 6118078.914346, \"total pod vol\": 51736968.138526}, {\"timestamp\": \"2022-10-13T00:00:11\", \"season\": 7713, \"variable\": \"pod order vol\", \"value\": 10693775.513387, \"pod listing vol\": 41043192.625139, \"pod order vol\": 10693775.513387, \"total bean vol\": 6118078.914346, \"total pod vol\": 51736968.138526}, {\"timestamp\": \"2022-10-13T00:00:11\", \"season\": 7713, \"variable\": \"total bean vol\", \"value\": 6118078.914346, \"pod listing vol\": 41043192.625139, \"pod order vol\": 10693775.513387, \"total bean vol\": 6118078.914346, \"total pod vol\": 51736968.138526}, {\"timestamp\": \"2022-10-13T00:00:11\", \"season\": 7713, \"variable\": \"total pod vol\", \"value\": 51736968.138526, \"pod listing vol\": 41043192.625139, \"pod order vol\": 10693775.513387, \"total bean vol\": 6118078.914346, \"total pod vol\": 51736968.138526}, {\"timestamp\": \"2022-10-14T17:42:47\", \"season\": 7737, \"variable\": \"total pod vol\", \"value\": 51769393.481438, \"pod listing vol\": 41043192.625139, \"pod order vol\": 10726200.856299, \"total bean vol\": 6120672.941778, \"total pod vol\": 51769393.481438}, {\"timestamp\": \"2022-10-14T17:42:47\", \"season\": 7737, \"variable\": \"total bean vol\", \"value\": 6120672.941778, \"pod listing vol\": 41043192.625139, \"pod order vol\": 10726200.856299, \"total bean vol\": 6120672.941778, \"total pod vol\": 51769393.481438}, {\"timestamp\": \"2022-10-14T17:42:47\", \"season\": 7737, \"variable\": \"pod listing vol\", \"value\": 41043192.625139, \"pod listing vol\": 41043192.625139, \"pod order vol\": 10726200.856299, \"total bean vol\": 6120672.941778, \"total pod vol\": 51769393.481438}, {\"timestamp\": \"2022-10-14T17:42:47\", \"season\": 7737, \"variable\": \"pod order vol\", \"value\": 10726200.856299, \"pod listing vol\": 41043192.625139, \"pod order vol\": 10726200.856299, \"total bean vol\": 6120672.941778, \"total pod vol\": 51769393.481438}, {\"timestamp\": \"2022-10-15T21:30:11\", \"season\": 7761, \"variable\": \"total pod vol\", \"value\": 51769393.481438, \"pod listing vol\": 41043192.625139, \"pod order vol\": 10726200.856299, \"total bean vol\": 6120672.941778, \"total pod vol\": 51769393.481438}, {\"timestamp\": \"2022-10-15T21:30:11\", \"season\": 7761, \"variable\": \"pod listing vol\", \"value\": 41043192.625139, \"pod listing vol\": 41043192.625139, \"pod order vol\": 10726200.856299, \"total bean vol\": 6120672.941778, \"total pod vol\": 51769393.481438}, {\"timestamp\": \"2022-10-15T21:30:11\", \"season\": 7761, \"variable\": \"pod order vol\", \"value\": 10726200.856299, \"pod listing vol\": 41043192.625139, \"pod order vol\": 10726200.856299, \"total bean vol\": 6120672.941778, \"total pod vol\": 51769393.481438}, {\"timestamp\": \"2022-10-15T21:30:11\", \"season\": 7761, \"variable\": \"total bean vol\", \"value\": 6120672.941778, \"pod listing vol\": 41043192.625139, \"pod order vol\": 10726200.856299, \"total bean vol\": 6120672.941778, \"total pod vol\": 51769393.481438}, {\"timestamp\": \"2022-10-16T00:00:11\", \"season\": 7785, \"variable\": \"total pod vol\", \"value\": 51769393.481438, \"pod listing vol\": 41043192.625139, \"pod order vol\": 10726200.856299, \"total bean vol\": 6120672.941778, \"total pod vol\": 51769393.481438}, {\"timestamp\": \"2022-10-16T00:00:11\", \"season\": 7785, \"variable\": \"total bean vol\", \"value\": 6120672.941778, \"pod listing vol\": 41043192.625139, \"pod order vol\": 10726200.856299, \"total bean vol\": 6120672.941778, \"total pod vol\": 51769393.481438}, {\"timestamp\": \"2022-10-16T00:00:11\", \"season\": 7785, \"variable\": \"pod order vol\", \"value\": 10726200.856299, \"pod listing vol\": 41043192.625139, \"pod order vol\": 10726200.856299, \"total bean vol\": 6120672.941778, \"total pod vol\": 51769393.481438}, {\"timestamp\": \"2022-10-16T00:00:11\", \"season\": 7785, \"variable\": \"pod listing vol\", \"value\": 41043192.625139, \"pod listing vol\": 41043192.625139, \"pod order vol\": 10726200.856299, \"total bean vol\": 6120672.941778, \"total pod vol\": 51769393.481438}, {\"timestamp\": \"2022-10-17T15:08:47\", \"season\": 7809, \"variable\": \"pod listing vol\", \"value\": 41043192.625139, \"pod listing vol\": 41043192.625139, \"pod order vol\": 10826200.856299, \"total bean vol\": 6125672.941777, \"total pod vol\": 51869393.481438}, {\"timestamp\": \"2022-10-17T15:08:47\", \"season\": 7809, \"variable\": \"pod order vol\", \"value\": 10826200.856299, \"pod listing vol\": 41043192.625139, \"pod order vol\": 10826200.856299, \"total bean vol\": 6125672.941777, \"total pod vol\": 51869393.481438}, {\"timestamp\": \"2022-10-17T15:08:47\", \"season\": 7809, \"variable\": \"total bean vol\", \"value\": 6125672.941777, \"pod listing vol\": 41043192.625139, \"pod order vol\": 10826200.856299, \"total bean vol\": 6125672.941777, \"total pod vol\": 51869393.481438}, {\"timestamp\": \"2022-10-17T15:08:47\", \"season\": 7809, \"variable\": \"total pod vol\", \"value\": 51869393.481438, \"pod listing vol\": 41043192.625139, \"pod order vol\": 10826200.856299, \"total bean vol\": 6125672.941777, \"total pod vol\": 51869393.481438}, {\"timestamp\": \"2022-10-18T23:47:11\", \"season\": 7833, \"variable\": \"total bean vol\", \"value\": 6130219.028147, \"pod listing vol\": 41113895.562007, \"pod order vol\": 10826200.856299, \"total bean vol\": 6130219.028147, \"total pod vol\": 51940096.418306}, {\"timestamp\": \"2022-10-18T23:47:11\", \"season\": 7833, \"variable\": \"total pod vol\", \"value\": 51940096.418306, \"pod listing vol\": 41113895.562007, \"pod order vol\": 10826200.856299, \"total bean vol\": 6130219.028147, \"total pod vol\": 51940096.418306}, {\"timestamp\": \"2022-10-18T23:47:11\", \"season\": 7833, \"variable\": \"pod listing vol\", \"value\": 41113895.562007, \"pod listing vol\": 41113895.562007, \"pod order vol\": 10826200.856299, \"total bean vol\": 6130219.028147, \"total pod vol\": 51940096.418306}, {\"timestamp\": \"2022-10-18T23:47:11\", \"season\": 7833, \"variable\": \"pod order vol\", \"value\": 10826200.856299, \"pod listing vol\": 41113895.562007, \"pod order vol\": 10826200.856299, \"total bean vol\": 6130219.028147, \"total pod vol\": 51940096.418306}, {\"timestamp\": \"2022-10-19T22:48:35\", \"season\": 7857, \"variable\": \"pod listing vol\", \"value\": 41252745.886656, \"pod listing vol\": 41252745.886656, \"pod order vol\": 10826200.856299, \"total bean vol\": 6132799.931251, \"total pod vol\": 52078946.742955}, {\"timestamp\": \"2022-10-19T22:48:35\", \"season\": 7857, \"variable\": \"pod order vol\", \"value\": 10826200.856299, \"pod listing vol\": 41252745.886656, \"pod order vol\": 10826200.856299, \"total bean vol\": 6132799.931251, \"total pod vol\": 52078946.742955}, {\"timestamp\": \"2022-10-19T22:48:35\", \"season\": 7857, \"variable\": \"total bean vol\", \"value\": 6132799.931251, \"pod listing vol\": 41252745.886656, \"pod order vol\": 10826200.856299, \"total bean vol\": 6132799.931251, \"total pod vol\": 52078946.742955}, {\"timestamp\": \"2022-10-19T22:48:35\", \"season\": 7857, \"variable\": \"total pod vol\", \"value\": 52078946.742955, \"pod listing vol\": 41252745.886656, \"pod order vol\": 10826200.856299, \"total bean vol\": 6132799.931251, \"total pod vol\": 52078946.742955}, {\"timestamp\": \"2022-10-20T18:56:35\", \"season\": 7881, \"variable\": \"total pod vol\", \"value\": 52267051.610513, \"pod listing vol\": 41388317.402165, \"pod order vol\": 10878734.208348, \"total bean vol\": 6144182.141511, \"total pod vol\": 52267051.610513}, {\"timestamp\": \"2022-10-20T18:56:35\", \"season\": 7881, \"variable\": \"pod listing vol\", \"value\": 41388317.402165, \"pod listing vol\": 41388317.402165, \"pod order vol\": 10878734.208348, \"total bean vol\": 6144182.141511, \"total pod vol\": 52267051.610513}, {\"timestamp\": \"2022-10-20T18:56:35\", \"season\": 7881, \"variable\": \"pod order vol\", \"value\": 10878734.208348, \"pod listing vol\": 41388317.402165, \"pod order vol\": 10878734.208348, \"total bean vol\": 6144182.141511, \"total pod vol\": 52267051.610513}, {\"timestamp\": \"2022-10-20T18:56:35\", \"season\": 7881, \"variable\": \"total bean vol\", \"value\": 6144182.141511, \"pod listing vol\": 41388317.402165, \"pod order vol\": 10878734.208348, \"total bean vol\": 6144182.141511, \"total pod vol\": 52267051.610513}, {\"timestamp\": \"2022-10-21T00:55:59\", \"season\": 7905, \"variable\": \"total pod vol\", \"value\": 52411044.310745, \"pod listing vol\": 41390317.404778, \"pod order vol\": 11020726.905967, \"total bean vol\": 6149203.988551, \"total pod vol\": 52411044.310745}, {\"timestamp\": \"2022-10-21T00:55:59\", \"season\": 7905, \"variable\": \"total bean vol\", \"value\": 6149203.988551, \"pod listing vol\": 41390317.404778, \"pod order vol\": 11020726.905967, \"total bean vol\": 6149203.988551, \"total pod vol\": 52411044.310745}, {\"timestamp\": \"2022-10-21T00:55:59\", \"season\": 7905, \"variable\": \"pod listing vol\", \"value\": 41390317.404778, \"pod listing vol\": 41390317.404778, \"pod order vol\": 11020726.905967, \"total bean vol\": 6149203.988551, \"total pod vol\": 52411044.310745}, {\"timestamp\": \"2022-10-21T00:55:59\", \"season\": 7905, \"variable\": \"pod order vol\", \"value\": 11020726.905967, \"pod listing vol\": 41390317.404778, \"pod order vol\": 11020726.905967, \"total bean vol\": 6149203.988551, \"total pod vol\": 52411044.310745}, {\"timestamp\": \"2022-10-22T20:46:11\", \"season\": 7929, \"variable\": \"pod listing vol\", \"value\": 41460043.789778, \"pod listing vol\": 41460043.789778, \"pod order vol\": 11020726.905967, \"total bean vol\": 6150877.421791, \"total pod vol\": 52480770.695745}, {\"timestamp\": \"2022-10-22T20:46:11\", \"season\": 7929, \"variable\": \"pod order vol\", \"value\": 11020726.905967, \"pod listing vol\": 41460043.789778, \"pod order vol\": 11020726.905967, \"total bean vol\": 6150877.421791, \"total pod vol\": 52480770.695745}, {\"timestamp\": \"2022-10-22T20:46:11\", \"season\": 7929, \"variable\": \"total bean vol\", \"value\": 6150877.421791, \"pod listing vol\": 41460043.789778, \"pod order vol\": 11020726.905967, \"total bean vol\": 6150877.421791, \"total pod vol\": 52480770.695745}, {\"timestamp\": \"2022-10-22T20:46:11\", \"season\": 7929, \"variable\": \"total pod vol\", \"value\": 52480770.695745, \"pod listing vol\": 41460043.789778, \"pod order vol\": 11020726.905967, \"total bean vol\": 6150877.421791, \"total pod vol\": 52480770.695745}, {\"timestamp\": \"2022-10-23T14:11:11\", \"season\": 7953, \"variable\": \"total bean vol\", \"value\": 6151157.7506, \"pod listing vol\": 41460245.981838, \"pod order vol\": 11025726.905967, \"total bean vol\": 6151157.7506, \"total pod vol\": 52485972.887805}, {\"timestamp\": \"2022-10-23T14:11:11\", \"season\": 7953, \"variable\": \"total pod vol\", \"value\": 52485972.887805, \"pod listing vol\": 41460245.981838, \"pod order vol\": 11025726.905967, \"total bean vol\": 6151157.7506, \"total pod vol\": 52485972.887805}, {\"timestamp\": \"2022-10-23T14:11:11\", \"season\": 7953, \"variable\": \"pod listing vol\", \"value\": 41460245.981838, \"pod listing vol\": 41460245.981838, \"pod order vol\": 11025726.905967, \"total bean vol\": 6151157.7506, \"total pod vol\": 52485972.887805}, {\"timestamp\": \"2022-10-23T14:11:11\", \"season\": 7953, \"variable\": \"pod order vol\", \"value\": 11025726.905967, \"pod listing vol\": 41460245.981838, \"pod order vol\": 11025726.905967, \"total bean vol\": 6151157.7506, \"total pod vol\": 52485972.887805}, {\"timestamp\": \"2022-10-24T19:15:47\", \"season\": 7977, \"variable\": \"pod order vol\", \"value\": 11039377.558114, \"pod listing vol\": 41494623.416942, \"pod order vol\": 11039377.558114, \"total bean vol\": 6154599.32703, \"total pod vol\": 52534000.975056}, {\"timestamp\": \"2022-10-24T19:15:47\", \"season\": 7977, \"variable\": \"total bean vol\", \"value\": 6154599.32703, \"pod listing vol\": 41494623.416942, \"pod order vol\": 11039377.558114, \"total bean vol\": 6154599.32703, \"total pod vol\": 52534000.975056}, {\"timestamp\": \"2022-10-24T19:15:47\", \"season\": 7977, \"variable\": \"total pod vol\", \"value\": 52534000.975056, \"pod listing vol\": 41494623.416942, \"pod order vol\": 11039377.558114, \"total bean vol\": 6154599.32703, \"total pod vol\": 52534000.975056}, {\"timestamp\": \"2022-10-24T19:15:47\", \"season\": 7977, \"variable\": \"pod listing vol\", \"value\": 41494623.416942, \"pod listing vol\": 41494623.416942, \"pod order vol\": 11039377.558114, \"total bean vol\": 6154599.32703, \"total pod vol\": 52534000.975056}, {\"timestamp\": \"2022-10-25T04:06:11\", \"season\": 8001, \"variable\": \"total pod vol\", \"value\": 52548697.486346, \"pod listing vol\": 41494623.416942, \"pod order vol\": 11054074.069404, \"total bean vol\": 6156068.978159, \"total pod vol\": 52548697.486346}, {\"timestamp\": \"2022-10-25T04:06:11\", \"season\": 8001, \"variable\": \"pod listing vol\", \"value\": 41494623.416942, \"pod listing vol\": 41494623.416942, \"pod order vol\": 11054074.069404, \"total bean vol\": 6156068.978159, \"total pod vol\": 52548697.486346}, {\"timestamp\": \"2022-10-25T04:06:11\", \"season\": 8001, \"variable\": \"pod order vol\", \"value\": 11054074.069404, \"pod listing vol\": 41494623.416942, \"pod order vol\": 11054074.069404, \"total bean vol\": 6156068.978159, \"total pod vol\": 52548697.486346}, {\"timestamp\": \"2022-10-25T04:06:11\", \"season\": 8001, \"variable\": \"total bean vol\", \"value\": 6156068.978159, \"pod listing vol\": 41494623.416942, \"pod order vol\": 11054074.069404, \"total bean vol\": 6156068.978159, \"total pod vol\": 52548697.486346}, {\"timestamp\": \"2022-10-26T13:53:23\", \"season\": 8025, \"variable\": \"total pod vol\", \"value\": 52580234.80465, \"pod listing vol\": 41495923.164125, \"pod order vol\": 11084311.640525, \"total bean vol\": 6156836.599569, \"total pod vol\": 52580234.80465}, {\"timestamp\": \"2022-10-26T13:53:23\", \"season\": 8025, \"variable\": \"total bean vol\", \"value\": 6156836.599569, \"pod listing vol\": 41495923.164125, \"pod order vol\": 11084311.640525, \"total bean vol\": 6156836.599569, \"total pod vol\": 52580234.80465}, {\"timestamp\": \"2022-10-26T13:53:23\", \"season\": 8025, \"variable\": \"pod listing vol\", \"value\": 41495923.164125, \"pod listing vol\": 41495923.164125, \"pod order vol\": 11084311.640525, \"total bean vol\": 6156836.599569, \"total pod vol\": 52580234.80465}, {\"timestamp\": \"2022-10-26T13:53:23\", \"season\": 8025, \"variable\": \"pod order vol\", \"value\": 11084311.640525, \"pod listing vol\": 41495923.164125, \"pod order vol\": 11084311.640525, \"total bean vol\": 6156836.599569, \"total pod vol\": 52580234.80465}, {\"timestamp\": \"2022-10-27T23:15:59\", \"season\": 8049, \"variable\": \"pod listing vol\", \"value\": 41496488.554812, \"pod listing vol\": 41496488.554812, \"pod order vol\": 11084311.640525, \"total bean vol\": 6156921.408172, \"total pod vol\": 52580800.195337}, {\"timestamp\": \"2022-10-27T23:15:59\", \"season\": 8049, \"variable\": \"pod order vol\", \"value\": 11084311.640525, \"pod listing vol\": 41496488.554812, \"pod order vol\": 11084311.640525, \"total bean vol\": 6156921.408172, \"total pod vol\": 52580800.195337}, {\"timestamp\": \"2022-10-27T23:15:59\", \"season\": 8049, \"variable\": \"total bean vol\", \"value\": 6156921.408172, \"pod listing vol\": 41496488.554812, \"pod order vol\": 11084311.640525, \"total bean vol\": 6156921.408172, \"total pod vol\": 52580800.195337}, {\"timestamp\": \"2022-10-27T23:15:59\", \"season\": 8049, \"variable\": \"total pod vol\", \"value\": 52580800.195337, \"pod listing vol\": 41496488.554812, \"pod order vol\": 11084311.640525, \"total bean vol\": 6156921.408172, \"total pod vol\": 52580800.195337}, {\"timestamp\": \"2022-10-28T00:00:11\", \"season\": 8073, \"variable\": \"pod listing vol\", \"value\": 41496488.554812, \"pod listing vol\": 41496488.554812, \"pod order vol\": 11084311.640525, \"total bean vol\": 6156921.408172, \"total pod vol\": 52580800.195337}, {\"timestamp\": \"2022-10-28T00:00:11\", \"season\": 8073, \"variable\": \"pod order vol\", \"value\": 11084311.640525, \"pod listing vol\": 41496488.554812, \"pod order vol\": 11084311.640525, \"total bean vol\": 6156921.408172, \"total pod vol\": 52580800.195337}, {\"timestamp\": \"2022-10-28T00:00:11\", \"season\": 8073, \"variable\": \"total bean vol\", \"value\": 6156921.408172, \"pod listing vol\": 41496488.554812, \"pod order vol\": 11084311.640525, \"total bean vol\": 6156921.408172, \"total pod vol\": 52580800.195337}, {\"timestamp\": \"2022-10-28T00:00:11\", \"season\": 8073, \"variable\": \"total pod vol\", \"value\": 52580800.195337, \"pod listing vol\": 41496488.554812, \"pod order vol\": 11084311.640525, \"total bean vol\": 6156921.408172, \"total pod vol\": 52580800.195337}, {\"timestamp\": \"2022-10-29T16:21:47\", \"season\": 8097, \"variable\": \"total pod vol\", \"value\": 52594184.384496, \"pod listing vol\": 41509872.743971, \"pod order vol\": 11084311.640525, \"total bean vol\": 6157567.851271, \"total pod vol\": 52594184.384496}, {\"timestamp\": \"2022-10-29T16:21:47\", \"season\": 8097, \"variable\": \"total bean vol\", \"value\": 6157567.851271, \"pod listing vol\": 41509872.743971, \"pod order vol\": 11084311.640525, \"total bean vol\": 6157567.851271, \"total pod vol\": 52594184.384496}, {\"timestamp\": \"2022-10-29T16:21:47\", \"season\": 8097, \"variable\": \"pod listing vol\", \"value\": 41509872.743971, \"pod listing vol\": 41509872.743971, \"pod order vol\": 11084311.640525, \"total bean vol\": 6157567.851271, \"total pod vol\": 52594184.384496}, {\"timestamp\": \"2022-10-29T16:21:47\", \"season\": 8097, \"variable\": \"pod order vol\", \"value\": 11084311.640525, \"pod listing vol\": 41509872.743971, \"pod order vol\": 11084311.640525, \"total bean vol\": 6157567.851271, \"total pod vol\": 52594184.384496}, {\"timestamp\": \"2022-10-30T16:36:35\", \"season\": 8121, \"variable\": \"pod listing vol\", \"value\": 41512754.899823, \"pod listing vol\": 41512754.899823, \"pod order vol\": 11084311.640525, \"total bean vol\": 6157635.567182, \"total pod vol\": 52597066.540348}, {\"timestamp\": \"2022-10-30T16:36:35\", \"season\": 8121, \"variable\": \"pod order vol\", \"value\": 11084311.640525, \"pod listing vol\": 41512754.899823, \"pod order vol\": 11084311.640525, \"total bean vol\": 6157635.567182, \"total pod vol\": 52597066.540348}, {\"timestamp\": \"2022-10-30T16:36:35\", \"season\": 8121, \"variable\": \"total bean vol\", \"value\": 6157635.567182, \"pod listing vol\": 41512754.899823, \"pod order vol\": 11084311.640525, \"total bean vol\": 6157635.567182, \"total pod vol\": 52597066.540348}, {\"timestamp\": \"2022-10-30T16:36:35\", \"season\": 8121, \"variable\": \"total pod vol\", \"value\": 52597066.540348, \"pod listing vol\": 41512754.899823, \"pod order vol\": 11084311.640525, \"total bean vol\": 6157635.567182, \"total pod vol\": 52597066.540348}, {\"timestamp\": \"2022-10-31T00:00:11\", \"season\": 8138, \"variable\": \"total bean vol\", \"value\": 6167390.595153, \"pod listing vol\": 41512754.899823, \"pod order vol\": 11165000.911991, \"total bean vol\": 6167390.595153, \"total pod vol\": 52677755.811814}, {\"timestamp\": \"2022-10-31T00:00:11\", \"season\": 8138, \"variable\": \"pod listing vol\", \"value\": 41512754.899823, \"pod listing vol\": 41512754.899823, \"pod order vol\": 11165000.911991, \"total bean vol\": 6167390.595153, \"total pod vol\": 52677755.811814}, {\"timestamp\": \"2022-10-31T00:00:11\", \"season\": 8138, \"variable\": \"pod order vol\", \"value\": 11165000.911991, \"pod listing vol\": 41512754.899823, \"pod order vol\": 11165000.911991, \"total bean vol\": 6167390.595153, \"total pod vol\": 52677755.811814}, {\"timestamp\": \"2022-10-31T00:00:11\", \"season\": 8138, \"variable\": \"total pod vol\", \"value\": 52677755.811814, \"pod listing vol\": 41512754.899823, \"pod order vol\": 11165000.911991, \"total bean vol\": 6167390.595153, \"total pod vol\": 52677755.811814}]}}, {\"mode\": \"vega-lite\"});\n",
       "</script>"
      ],
      "text/plain": [
       "alt.LayerChart(...)"
      ]
     },
     "execution_count": 12,
     "metadata": {},
     "output_type": "execute_result"
    }
   ],
   "source": [
    "colors = {\n",
    "    'pod listing vol': '#B5E48C', # light green yellow \n",
    "    'pod order vol': '#52B69A', # light blue green \n",
    "    'total bean vol': '#168AAD', # darker blue\n",
    "    'total pod vol': '#184E77', # mid blue \n",
    "}\n",
    "c = chart(\n",
    "    df_snaps, \n",
    "    \"timestamp\", \n",
    "    lmetrics=['pod listing vol', 'pod order vol', 'total bean vol', 'total pod vol'], \n",
    "    lstrategy=[\"stack_area\", \"stack_area\", \"stack_area\", \"line\"],\n",
    "    title=\"Farmer's Market Volume\", \n",
    "    yaxis_left_kwargs=dict(title=\"Volume\", format=\".3~s\"), \n",
    "    colors=colors, \n",
    ")\n",
    "\n",
    "css_lines = css_tooltip_timeseries_multi_colored(value_vars, colors) \n",
    "css = \"\\n\".join(css_lines)\n",
    "\n",
    "apply_css(\"\")\n",
    "# apply_css(css)\n",
    "\n",
    "c"
   ]
  },
  {
   "cell_type": "code",
   "execution_count": 10,
   "id": "a3a0694b",
   "metadata": {},
   "outputs": [
    {
     "data": {
      "application/json": {
       "css": "#vg-tooltip-element tr:nth-child(1) { font-weight: bold }\n#vg-tooltip-element tr:nth-child(1) td:first-child { opacity: 0 }\n\n#vg-tooltip-element tr:nth-child(2) td:first-child { color: #B5E48C }\n\n#vg-tooltip-element tr:nth-child(3) td:first-child { color: #52B69A }\n\n#vg-tooltip-element tr:nth-child(4) td:first-child { color: #168AAD }\n\n#vg-tooltip-element tr:nth-child(5) td:first-child { color: #184E77 }\n",
       "spec": {
        "$schema": "https://vega.github.io/schema/vega-lite/v4.17.0.json",
        "config": {
         "view": {
          "continuousHeight": 300,
          "continuousWidth": 400
         }
        },
        "data": {
         "name": "data-f6e35d6b4b589232b239338b26a3bc0f"
        },
        "datasets": {
         "data-f6e35d6b4b589232b239338b26a3bc0f": [
          {
           "pod listing vol": 168079.947589,
           "pod order vol": 69477.354604,
           "season": 4405,
           "timestamp": "2022-02-06T22:31:18",
           "total bean vol": 37016.310151,
           "total pod vol": 237557.302193,
           "value": 168079.947589,
           "variable": "pod listing vol"
          },
          {
           "pod listing vol": 168079.947589,
           "pod order vol": 69477.354604,
           "season": 4405,
           "timestamp": "2022-02-06T22:31:18",
           "total bean vol": 37016.310151,
           "total pod vol": 237557.302193,
           "value": 69477.354604,
           "variable": "pod order vol"
          },
          {
           "pod listing vol": 168079.947589,
           "pod order vol": 69477.354604,
           "season": 4405,
           "timestamp": "2022-02-06T22:31:18",
           "total bean vol": 37016.310151,
           "total pod vol": 237557.302193,
           "value": 37016.310151,
           "variable": "total bean vol"
          },
          {
           "pod listing vol": 168079.947589,
           "pod order vol": 69477.354604,
           "season": 4405,
           "timestamp": "2022-02-06T22:31:18",
           "total bean vol": 37016.310151,
           "total pod vol": 237557.302193,
           "value": 237557.302193,
           "variable": "total pod vol"
          },
          {
           "pod listing vol": 277435.017194,
           "pod order vol": 229091.907755,
           "season": 4429,
           "timestamp": "2022-02-07T23:47:49",
           "total bean vol": 119166.663005,
           "total pod vol": 506526.924949,
           "value": 277435.017194,
           "variable": "pod listing vol"
          },
          {
           "pod listing vol": 277435.017194,
           "pod order vol": 229091.907755,
           "season": 4429,
           "timestamp": "2022-02-07T23:47:49",
           "total bean vol": 119166.663005,
           "total pod vol": 506526.924949,
           "value": 229091.907755,
           "variable": "pod order vol"
          },
          {
           "pod listing vol": 277435.017194,
           "pod order vol": 229091.907755,
           "season": 4429,
           "timestamp": "2022-02-07T23:47:49",
           "total bean vol": 119166.663005,
           "total pod vol": 506526.924949,
           "value": 119166.663005,
           "variable": "total bean vol"
          },
          {
           "pod listing vol": 277435.017194,
           "pod order vol": 229091.907755,
           "season": 4429,
           "timestamp": "2022-02-07T23:47:49",
           "total bean vol": 119166.663005,
           "total pod vol": 506526.924949,
           "value": 506526.924949,
           "variable": "total pod vol"
          },
          {
           "pod listing vol": 281245.766971,
           "pod order vol": 291926.816553,
           "season": 4453,
           "timestamp": "2022-02-08T23:31:37",
           "total bean vol": 137655.857683,
           "total pod vol": 573172.583524,
           "value": 573172.583524,
           "variable": "total pod vol"
          },
          {
           "pod listing vol": 281245.766971,
           "pod order vol": 291926.816553,
           "season": 4453,
           "timestamp": "2022-02-08T23:31:37",
           "total bean vol": 137655.857683,
           "total pod vol": 573172.583524,
           "value": 137655.857683,
           "variable": "total bean vol"
          },
          {
           "pod listing vol": 281245.766971,
           "pod order vol": 291926.816553,
           "season": 4453,
           "timestamp": "2022-02-08T23:31:37",
           "total bean vol": 137655.857683,
           "total pod vol": 573172.583524,
           "value": 281245.766971,
           "variable": "pod listing vol"
          },
          {
           "pod listing vol": 281245.766971,
           "pod order vol": 291926.816553,
           "season": 4453,
           "timestamp": "2022-02-08T23:31:37",
           "total bean vol": 137655.857683,
           "total pod vol": 573172.583524,
           "value": 291926.816553,
           "variable": "pod order vol"
          },
          {
           "pod listing vol": 293245.766971,
           "pod order vol": 291926.816553,
           "season": 4477,
           "timestamp": "2022-02-09T23:27:48",
           "total bean vol": 140135.857683,
           "total pod vol": 585172.583524,
           "value": 585172.583524,
           "variable": "total pod vol"
          },
          {
           "pod listing vol": 293245.766971,
           "pod order vol": 291926.816553,
           "season": 4477,
           "timestamp": "2022-02-09T23:27:48",
           "total bean vol": 140135.857683,
           "total pod vol": 585172.583524,
           "value": 293245.766971,
           "variable": "pod listing vol"
          },
          {
           "pod listing vol": 293245.766971,
           "pod order vol": 291926.816553,
           "season": 4477,
           "timestamp": "2022-02-09T23:27:48",
           "total bean vol": 140135.857683,
           "total pod vol": 585172.583524,
           "value": 291926.816553,
           "variable": "pod order vol"
          },
          {
           "pod listing vol": 293245.766971,
           "pod order vol": 291926.816553,
           "season": 4477,
           "timestamp": "2022-02-09T23:27:48",
           "total bean vol": 140135.857683,
           "total pod vol": 585172.583524,
           "value": 140135.857683,
           "variable": "total bean vol"
          },
          {
           "pod listing vol": 306359.480163,
           "pod order vol": 291926.816553,
           "season": 4501,
           "timestamp": "2022-02-10T22:58:05",
           "total bean vol": 145119.068695,
           "total pod vol": 598286.296716,
           "value": 598286.296716,
           "variable": "total pod vol"
          },
          {
           "pod listing vol": 306359.480163,
           "pod order vol": 291926.816553,
           "season": 4501,
           "timestamp": "2022-02-10T22:58:05",
           "total bean vol": 145119.068695,
           "total pod vol": 598286.296716,
           "value": 145119.068695,
           "variable": "total bean vol"
          },
          {
           "pod listing vol": 306359.480163,
           "pod order vol": 291926.816553,
           "season": 4501,
           "timestamp": "2022-02-10T22:58:05",
           "total bean vol": 145119.068695,
           "total pod vol": 598286.296716,
           "value": 306359.480163,
           "variable": "pod listing vol"
          },
          {
           "pod listing vol": 306359.480163,
           "pod order vol": 291926.816553,
           "season": 4501,
           "timestamp": "2022-02-10T22:58:05",
           "total bean vol": 145119.068695,
           "total pod vol": 598286.296716,
           "value": 291926.816553,
           "variable": "pod order vol"
          },
          {
           "pod listing vol": 308366.526236,
           "pod order vol": 291926.816553,
           "season": 4525,
           "timestamp": "2022-02-11T21:47:48",
           "total bean vol": 145881.746202,
           "total pod vol": 600293.342789,
           "value": 308366.526236,
           "variable": "pod listing vol"
          },
          {
           "pod listing vol": 308366.526236,
           "pod order vol": 291926.816553,
           "season": 4525,
           "timestamp": "2022-02-11T21:47:48",
           "total bean vol": 145881.746202,
           "total pod vol": 600293.342789,
           "value": 291926.816553,
           "variable": "pod order vol"
          },
          {
           "pod listing vol": 308366.526236,
           "pod order vol": 291926.816553,
           "season": 4525,
           "timestamp": "2022-02-11T21:47:48",
           "total bean vol": 145881.746202,
           "total pod vol": 600293.342789,
           "value": 145881.746202,
           "variable": "total bean vol"
          },
          {
           "pod listing vol": 308366.526236,
           "pod order vol": 291926.816553,
           "season": 4525,
           "timestamp": "2022-02-11T21:47:48",
           "total bean vol": 145881.746202,
           "total pod vol": 600293.342789,
           "value": 600293.342789,
           "variable": "total pod vol"
          },
          {
           "pod listing vol": 309898.011699,
           "pod order vol": 291926.816553,
           "season": 4549,
           "timestamp": "2022-02-12T23:57:23",
           "total bean vol": 146463.710677,
           "total pod vol": 601824.828252,
           "value": 601824.828252,
           "variable": "total pod vol"
          },
          {
           "pod listing vol": 309898.011699,
           "pod order vol": 291926.816553,
           "season": 4549,
           "timestamp": "2022-02-12T23:57:23",
           "total bean vol": 146463.710677,
           "total pod vol": 601824.828252,
           "value": 309898.011699,
           "variable": "pod listing vol"
          },
          {
           "pod listing vol": 309898.011699,
           "pod order vol": 291926.816553,
           "season": 4549,
           "timestamp": "2022-02-12T23:57:23",
           "total bean vol": 146463.710677,
           "total pod vol": 601824.828252,
           "value": 291926.816553,
           "variable": "pod order vol"
          },
          {
           "pod listing vol": 309898.011699,
           "pod order vol": 291926.816553,
           "season": 4549,
           "timestamp": "2022-02-12T23:57:23",
           "total bean vol": 146463.710677,
           "total pod vol": 601824.828252,
           "value": 146463.710677,
           "variable": "total bean vol"
          },
          {
           "pod listing vol": 313743.050135,
           "pod order vol": 291926.816553,
           "season": 4573,
           "timestamp": "2022-02-13T20:37:30",
           "total bean vol": 147924.825282,
           "total pod vol": 605669.866688,
           "value": 313743.050135,
           "variable": "pod listing vol"
          },
          {
           "pod listing vol": 313743.050135,
           "pod order vol": 291926.816553,
           "season": 4573,
           "timestamp": "2022-02-13T20:37:30",
           "total bean vol": 147924.825282,
           "total pod vol": 605669.866688,
           "value": 291926.816553,
           "variable": "pod order vol"
          },
          {
           "pod listing vol": 313743.050135,
           "pod order vol": 291926.816553,
           "season": 4573,
           "timestamp": "2022-02-13T20:37:30",
           "total bean vol": 147924.825282,
           "total pod vol": 605669.866688,
           "value": 147924.825282,
           "variable": "total bean vol"
          },
          {
           "pod listing vol": 313743.050135,
           "pod order vol": 291926.816553,
           "season": 4573,
           "timestamp": "2022-02-13T20:37:30",
           "total bean vol": 147924.825282,
           "total pod vol": 605669.866688,
           "value": 605669.866688,
           "variable": "total pod vol"
          },
          {
           "pod listing vol": 313743.050135,
           "pod order vol": 291926.816553,
           "season": 4597,
           "timestamp": "2022-02-14T20:17:13",
           "total bean vol": 147924.825282,
           "total pod vol": 605669.866688,
           "value": 147924.825282,
           "variable": "total bean vol"
          },
          {
           "pod listing vol": 313743.050135,
           "pod order vol": 291926.816553,
           "season": 4597,
           "timestamp": "2022-02-14T20:17:13",
           "total bean vol": 147924.825282,
           "total pod vol": 605669.866688,
           "value": 605669.866688,
           "variable": "total pod vol"
          },
          {
           "pod listing vol": 313743.050135,
           "pod order vol": 291926.816553,
           "season": 4597,
           "timestamp": "2022-02-14T20:17:13",
           "total bean vol": 147924.825282,
           "total pod vol": 605669.866688,
           "value": 313743.050135,
           "variable": "pod listing vol"
          },
          {
           "pod listing vol": 313743.050135,
           "pod order vol": 291926.816553,
           "season": 4597,
           "timestamp": "2022-02-14T20:17:13",
           "total bean vol": 147924.825282,
           "total pod vol": 605669.866688,
           "value": 291926.816553,
           "variable": "pod order vol"
          },
          {
           "pod listing vol": 313743.050135,
           "pod order vol": 291926.816553,
           "season": 4621,
           "timestamp": "2022-02-15T19:51:31",
           "total bean vol": 147924.825282,
           "total pod vol": 605669.866688,
           "value": 605669.866688,
           "variable": "total pod vol"
          },
          {
           "pod listing vol": 313743.050135,
           "pod order vol": 291926.816553,
           "season": 4621,
           "timestamp": "2022-02-15T19:51:31",
           "total bean vol": 147924.825282,
           "total pod vol": 605669.866688,
           "value": 147924.825282,
           "variable": "total bean vol"
          },
          {
           "pod listing vol": 313743.050135,
           "pod order vol": 291926.816553,
           "season": 4621,
           "timestamp": "2022-02-15T19:51:31",
           "total bean vol": 147924.825282,
           "total pod vol": 605669.866688,
           "value": 291926.816553,
           "variable": "pod order vol"
          },
          {
           "pod listing vol": 313743.050135,
           "pod order vol": 291926.816553,
           "season": 4621,
           "timestamp": "2022-02-15T19:51:31",
           "total bean vol": 147924.825282,
           "total pod vol": 605669.866688,
           "value": 313743.050135,
           "variable": "pod listing vol"
          },
          {
           "pod listing vol": 381540.956409,
           "pod order vol": 293341.907755,
           "season": 4645,
           "timestamp": "2022-02-16T23:09:13",
           "total bean vol": 154183.44105,
           "total pod vol": 674882.864164,
           "value": 381540.956409,
           "variable": "pod listing vol"
          },
          {
           "pod listing vol": 381540.956409,
           "pod order vol": 293341.907755,
           "season": 4645,
           "timestamp": "2022-02-16T23:09:13",
           "total bean vol": 154183.44105,
           "total pod vol": 674882.864164,
           "value": 293341.907755,
           "variable": "pod order vol"
          },
          {
           "pod listing vol": 381540.956409,
           "pod order vol": 293341.907755,
           "season": 4645,
           "timestamp": "2022-02-16T23:09:13",
           "total bean vol": 154183.44105,
           "total pod vol": 674882.864164,
           "value": 154183.44105,
           "variable": "total bean vol"
          },
          {
           "pod listing vol": 381540.956409,
           "pod order vol": 293341.907755,
           "season": 4645,
           "timestamp": "2022-02-16T23:09:13",
           "total bean vol": 154183.44105,
           "total pod vol": 674882.864164,
           "value": 674882.864164,
           "variable": "total pod vol"
          },
          {
           "pod listing vol": 391339.386437,
           "pod order vol": 293341.907755,
           "season": 4669,
           "timestamp": "2022-02-17T23:19:22",
           "total bean vol": 157906.84446,
           "total pod vol": 684681.294192,
           "value": 157906.84446,
           "variable": "total bean vol"
          },
          {
           "pod listing vol": 391339.386437,
           "pod order vol": 293341.907755,
           "season": 4669,
           "timestamp": "2022-02-17T23:19:22",
           "total bean vol": 157906.84446,
           "total pod vol": 684681.294192,
           "value": 684681.294192,
           "variable": "total pod vol"
          },
          {
           "pod listing vol": 391339.386437,
           "pod order vol": 293341.907755,
           "season": 4669,
           "timestamp": "2022-02-17T23:19:22",
           "total bean vol": 157906.84446,
           "total pod vol": 684681.294192,
           "value": 391339.386437,
           "variable": "pod listing vol"
          },
          {
           "pod listing vol": 391339.386437,
           "pod order vol": 293341.907755,
           "season": 4669,
           "timestamp": "2022-02-17T23:19:22",
           "total bean vol": 157906.84446,
           "total pod vol": 684681.294192,
           "value": 293341.907755,
           "variable": "pod order vol"
          },
          {
           "pod listing vol": 779796.756941,
           "pod order vol": 305841.907755,
           "season": 4693,
           "timestamp": "2022-02-18T20:12:55",
           "total bean vol": 191639.074037,
           "total pod vol": 1085638.664696,
           "value": 779796.756941,
           "variable": "pod listing vol"
          },
          {
           "pod listing vol": 779796.756941,
           "pod order vol": 305841.907755,
           "season": 4693,
           "timestamp": "2022-02-18T20:12:55",
           "total bean vol": 191639.074037,
           "total pod vol": 1085638.664696,
           "value": 305841.907755,
           "variable": "pod order vol"
          },
          {
           "pod listing vol": 779796.756941,
           "pod order vol": 305841.907755,
           "season": 4693,
           "timestamp": "2022-02-18T20:12:55",
           "total bean vol": 191639.074037,
           "total pod vol": 1085638.664696,
           "value": 191639.074037,
           "variable": "total bean vol"
          },
          {
           "pod listing vol": 779796.756941,
           "pod order vol": 305841.907755,
           "season": 4693,
           "timestamp": "2022-02-18T20:12:55",
           "total bean vol": 191639.074037,
           "total pod vol": 1085638.664696,
           "value": 1085638.664696,
           "variable": "total pod vol"
          },
          {
           "pod listing vol": 779796.756941,
           "pod order vol": 504234.819865,
           "season": 4717,
           "timestamp": "2022-02-19T17:04:04",
           "total bean vol": 194159.846539,
           "total pod vol": 1284031.576806,
           "value": 779796.756941,
           "variable": "pod listing vol"
          },
          {
           "pod listing vol": 779796.756941,
           "pod order vol": 504234.819865,
           "season": 4717,
           "timestamp": "2022-02-19T17:04:04",
           "total bean vol": 194159.846539,
           "total pod vol": 1284031.576806,
           "value": 504234.819865,
           "variable": "pod order vol"
          },
          {
           "pod listing vol": 779796.756941,
           "pod order vol": 504234.819865,
           "season": 4717,
           "timestamp": "2022-02-19T17:04:04",
           "total bean vol": 194159.846539,
           "total pod vol": 1284031.576806,
           "value": 194159.846539,
           "variable": "total bean vol"
          },
          {
           "pod listing vol": 779796.756941,
           "pod order vol": 504234.819865,
           "season": 4717,
           "timestamp": "2022-02-19T17:04:04",
           "total bean vol": 194159.846539,
           "total pod vol": 1284031.576806,
           "value": 1284031.576806,
           "variable": "total pod vol"
          },
          {
           "pod listing vol": 779796.756941,
           "pod order vol": 505870.073468,
           "season": 4741,
           "timestamp": "2022-02-20T16:27:18",
           "total bean vol": 195059.23602,
           "total pod vol": 1285666.830409,
           "value": 195059.23602,
           "variable": "total bean vol"
          },
          {
           "pod listing vol": 779796.756941,
           "pod order vol": 505870.073468,
           "season": 4741,
           "timestamp": "2022-02-20T16:27:18",
           "total bean vol": 195059.23602,
           "total pod vol": 1285666.830409,
           "value": 1285666.830409,
           "variable": "total pod vol"
          },
          {
           "pod listing vol": 779796.756941,
           "pod order vol": 505870.073468,
           "season": 4741,
           "timestamp": "2022-02-20T16:27:18",
           "total bean vol": 195059.23602,
           "total pod vol": 1285666.830409,
           "value": 505870.073468,
           "variable": "pod order vol"
          },
          {
           "pod listing vol": 779796.756941,
           "pod order vol": 505870.073468,
           "season": 4741,
           "timestamp": "2022-02-20T16:27:18",
           "total bean vol": 195059.23602,
           "total pod vol": 1285666.830409,
           "value": 779796.756941,
           "variable": "pod listing vol"
          },
          {
           "pod listing vol": 779796.756941,
           "pod order vol": 505870.073468,
           "season": 4765,
           "timestamp": "2022-02-21T06:17:58",
           "total bean vol": 195059.23602,
           "total pod vol": 1285666.830409,
           "value": 779796.756941,
           "variable": "pod listing vol"
          },
          {
           "pod listing vol": 779796.756941,
           "pod order vol": 505870.073468,
           "season": 4765,
           "timestamp": "2022-02-21T06:17:58",
           "total bean vol": 195059.23602,
           "total pod vol": 1285666.830409,
           "value": 505870.073468,
           "variable": "pod order vol"
          },
          {
           "pod listing vol": 779796.756941,
           "pod order vol": 505870.073468,
           "season": 4765,
           "timestamp": "2022-02-21T06:17:58",
           "total bean vol": 195059.23602,
           "total pod vol": 1285666.830409,
           "value": 195059.23602,
           "variable": "total bean vol"
          },
          {
           "pod listing vol": 779796.756941,
           "pod order vol": 505870.073468,
           "season": 4765,
           "timestamp": "2022-02-21T06:17:58",
           "total bean vol": 195059.23602,
           "total pod vol": 1285666.830409,
           "value": 1285666.830409,
           "variable": "total pod vol"
          },
          {
           "pod listing vol": 966930.285853,
           "pod order vol": 506870.184018,
           "season": 4789,
           "timestamp": "2022-02-22T17:03:02",
           "total bean vol": 210579.979133,
           "total pod vol": 1473800.469871,
           "value": 966930.285853,
           "variable": "pod listing vol"
          },
          {
           "pod listing vol": 966930.285853,
           "pod order vol": 506870.184018,
           "season": 4789,
           "timestamp": "2022-02-22T17:03:02",
           "total bean vol": 210579.979133,
           "total pod vol": 1473800.469871,
           "value": 506870.184018,
           "variable": "pod order vol"
          },
          {
           "pod listing vol": 966930.285853,
           "pod order vol": 506870.184018,
           "season": 4789,
           "timestamp": "2022-02-22T17:03:02",
           "total bean vol": 210579.979133,
           "total pod vol": 1473800.469871,
           "value": 210579.979133,
           "variable": "total bean vol"
          },
          {
           "pod listing vol": 966930.285853,
           "pod order vol": 506870.184018,
           "season": 4789,
           "timestamp": "2022-02-22T17:03:02",
           "total bean vol": 210579.979133,
           "total pod vol": 1473800.469871,
           "value": 1473800.469871,
           "variable": "total pod vol"
          },
          {
           "pod listing vol": 966930.285853,
           "pod order vol": 507353.86569,
           "season": 4813,
           "timestamp": "2022-02-23T22:36:02",
           "total bean vol": 210846.004052,
           "total pod vol": 1474284.151543,
           "value": 1474284.151543,
           "variable": "total pod vol"
          },
          {
           "pod listing vol": 966930.285853,
           "pod order vol": 507353.86569,
           "season": 4813,
           "timestamp": "2022-02-23T22:36:02",
           "total bean vol": 210846.004052,
           "total pod vol": 1474284.151543,
           "value": 966930.285853,
           "variable": "pod listing vol"
          },
          {
           "pod listing vol": 966930.285853,
           "pod order vol": 507353.86569,
           "season": 4813,
           "timestamp": "2022-02-23T22:36:02",
           "total bean vol": 210846.004052,
           "total pod vol": 1474284.151543,
           "value": 507353.86569,
           "variable": "pod order vol"
          },
          {
           "pod listing vol": 966930.285853,
           "pod order vol": 507353.86569,
           "season": 4813,
           "timestamp": "2022-02-23T22:36:02",
           "total bean vol": 210846.004052,
           "total pod vol": 1474284.151543,
           "value": 210846.004052,
           "variable": "total bean vol"
          },
          {
           "pod listing vol": 970675.63203,
           "pod order vol": 819961.01814,
           "season": 4837,
           "timestamp": "2022-02-24T19:52:20",
           "total bean vol": 248695.943501,
           "total pod vol": 1790636.65017,
           "value": 248695.943501,
           "variable": "total bean vol"
          },
          {
           "pod listing vol": 970675.63203,
           "pod order vol": 819961.01814,
           "season": 4837,
           "timestamp": "2022-02-24T19:52:20",
           "total bean vol": 248695.943501,
           "total pod vol": 1790636.65017,
           "value": 1790636.65017,
           "variable": "total pod vol"
          },
          {
           "pod listing vol": 970675.63203,
           "pod order vol": 819961.01814,
           "season": 4837,
           "timestamp": "2022-02-24T19:52:20",
           "total bean vol": 248695.943501,
           "total pod vol": 1790636.65017,
           "value": 970675.63203,
           "variable": "pod listing vol"
          },
          {
           "pod listing vol": 970675.63203,
           "pod order vol": 819961.01814,
           "season": 4837,
           "timestamp": "2022-02-24T19:52:20",
           "total bean vol": 248695.943501,
           "total pod vol": 1790636.65017,
           "value": 819961.01814,
           "variable": "pod order vol"
          },
          {
           "pod listing vol": 970675.63203,
           "pod order vol": 819961.01814,
           "season": 4861,
           "timestamp": "2022-02-25T05:47:04",
           "total bean vol": 248695.943501,
           "total pod vol": 1790636.65017,
           "value": 1790636.65017,
           "variable": "total pod vol"
          },
          {
           "pod listing vol": 970675.63203,
           "pod order vol": 819961.01814,
           "season": 4861,
           "timestamp": "2022-02-25T05:47:04",
           "total bean vol": 248695.943501,
           "total pod vol": 1790636.65017,
           "value": 248695.943501,
           "variable": "total bean vol"
          },
          {
           "pod listing vol": 970675.63203,
           "pod order vol": 819961.01814,
           "season": 4861,
           "timestamp": "2022-02-25T05:47:04",
           "total bean vol": 248695.943501,
           "total pod vol": 1790636.65017,
           "value": 819961.01814,
           "variable": "pod order vol"
          },
          {
           "pod listing vol": 970675.63203,
           "pod order vol": 819961.01814,
           "season": 4861,
           "timestamp": "2022-02-25T05:47:04",
           "total bean vol": 248695.943501,
           "total pod vol": 1790636.65017,
           "value": 970675.63203,
           "variable": "pod listing vol"
          },
          {
           "pod listing vol": 974676.112126,
           "pod order vol": 919961.01814,
           "season": 4885,
           "timestamp": "2022-02-26T22:28:52",
           "total bean vol": 251699.94398,
           "total pod vol": 1894637.130266,
           "value": 974676.112126,
           "variable": "pod listing vol"
          },
          {
           "pod listing vol": 974676.112126,
           "pod order vol": 919961.01814,
           "season": 4885,
           "timestamp": "2022-02-26T22:28:52",
           "total bean vol": 251699.94398,
           "total pod vol": 1894637.130266,
           "value": 919961.01814,
           "variable": "pod order vol"
          },
          {
           "pod listing vol": 974676.112126,
           "pod order vol": 919961.01814,
           "season": 4885,
           "timestamp": "2022-02-26T22:28:52",
           "total bean vol": 251699.94398,
           "total pod vol": 1894637.130266,
           "value": 251699.94398,
           "variable": "total bean vol"
          },
          {
           "pod listing vol": 974676.112126,
           "pod order vol": 919961.01814,
           "season": 4885,
           "timestamp": "2022-02-26T22:28:52",
           "total bean vol": 251699.94398,
           "total pod vol": 1894637.130266,
           "value": 1894637.130266,
           "variable": "total pod vol"
          },
          {
           "pod listing vol": 977116.960879,
           "pod order vol": 986627.684806,
           "season": 4909,
           "timestamp": "2022-02-27T13:59:05",
           "total bean vol": 254539.855847,
           "total pod vol": 1963744.645685,
           "value": 254539.855847,
           "variable": "total bean vol"
          },
          {
           "pod listing vol": 977116.960879,
           "pod order vol": 986627.684806,
           "season": 4909,
           "timestamp": "2022-02-27T13:59:05",
           "total bean vol": 254539.855847,
           "total pod vol": 1963744.645685,
           "value": 1963744.645685,
           "variable": "total pod vol"
          },
          {
           "pod listing vol": 977116.960879,
           "pod order vol": 986627.684806,
           "season": 4909,
           "timestamp": "2022-02-27T13:59:05",
           "total bean vol": 254539.855847,
           "total pod vol": 1963744.645685,
           "value": 977116.960879,
           "variable": "pod listing vol"
          },
          {
           "pod listing vol": 977116.960879,
           "pod order vol": 986627.684806,
           "season": 4909,
           "timestamp": "2022-02-27T13:59:05",
           "total bean vol": 254539.855847,
           "total pod vol": 1963744.645685,
           "value": 986627.684806,
           "variable": "pod order vol"
          },
          {
           "pod listing vol": 977116.960879,
           "pod order vol": 986627.684806,
           "season": 4933,
           "timestamp": "2022-02-28T00:00:02",
           "total bean vol": 254539.855847,
           "total pod vol": 1963744.645685,
           "value": 977116.960879,
           "variable": "pod listing vol"
          },
          {
           "pod listing vol": 977116.960879,
           "pod order vol": 986627.684806,
           "season": 4933,
           "timestamp": "2022-02-28T00:00:02",
           "total bean vol": 254539.855847,
           "total pod vol": 1963744.645685,
           "value": 986627.684806,
           "variable": "pod order vol"
          },
          {
           "pod listing vol": 977116.960879,
           "pod order vol": 986627.684806,
           "season": 4933,
           "timestamp": "2022-02-28T00:00:02",
           "total bean vol": 254539.855847,
           "total pod vol": 1963744.645685,
           "value": 254539.855847,
           "variable": "total bean vol"
          },
          {
           "pod listing vol": 977116.960879,
           "pod order vol": 986627.684806,
           "season": 4933,
           "timestamp": "2022-02-28T00:00:02",
           "total bean vol": 254539.855847,
           "total pod vol": 1963744.645685,
           "value": 1963744.645685,
           "variable": "total pod vol"
          },
          {
           "pod listing vol": 1510893.968534,
           "pod order vol": 986627.684806,
           "season": 4957,
           "timestamp": "2022-03-01T23:41:00",
           "total bean vol": 303608.785738,
           "total pod vol": 2497521.65334,
           "value": 1510893.968534,
           "variable": "pod listing vol"
          },
          {
           "pod listing vol": 1510893.968534,
           "pod order vol": 986627.684806,
           "season": 4957,
           "timestamp": "2022-03-01T23:41:00",
           "total bean vol": 303608.785738,
           "total pod vol": 2497521.65334,
           "value": 986627.684806,
           "variable": "pod order vol"
          },
          {
           "pod listing vol": 1510893.968534,
           "pod order vol": 986627.684806,
           "season": 4957,
           "timestamp": "2022-03-01T23:41:00",
           "total bean vol": 303608.785738,
           "total pod vol": 2497521.65334,
           "value": 303608.785738,
           "variable": "total bean vol"
          },
          {
           "pod listing vol": 1510893.968534,
           "pod order vol": 986627.684806,
           "season": 4957,
           "timestamp": "2022-03-01T23:41:00",
           "total bean vol": 303608.785738,
           "total pod vol": 2497521.65334,
           "value": 2497521.65334,
           "variable": "total pod vol"
          },
          {
           "pod listing vol": 1781497.463999,
           "pod order vol": 986627.684806,
           "season": 4981,
           "timestamp": "2022-03-02T23:22:06",
           "total bean vol": 327963.100327,
           "total pod vol": 2768125.148805,
           "value": 2768125.148805,
           "variable": "total pod vol"
          },
          {
           "pod listing vol": 1781497.463999,
           "pod order vol": 986627.684806,
           "season": 4981,
           "timestamp": "2022-03-02T23:22:06",
           "total bean vol": 327963.100327,
           "total pod vol": 2768125.148805,
           "value": 327963.100327,
           "variable": "total bean vol"
          },
          {
           "pod listing vol": 1781497.463999,
           "pod order vol": 986627.684806,
           "season": 4981,
           "timestamp": "2022-03-02T23:22:06",
           "total bean vol": 327963.100327,
           "total pod vol": 2768125.148805,
           "value": 986627.684806,
           "variable": "pod order vol"
          },
          {
           "pod listing vol": 1781497.463999,
           "pod order vol": 986627.684806,
           "season": 4981,
           "timestamp": "2022-03-02T23:22:06",
           "total bean vol": 327963.100327,
           "total pod vol": 2768125.148805,
           "value": 1781497.463999,
           "variable": "pod listing vol"
          },
          {
           "pod listing vol": 1808463.008658,
           "pod order vol": 1023139.559462,
           "season": 5005,
           "timestamp": "2022-03-03T21:29:39",
           "total bean vol": 332936.744079,
           "total pod vol": 2831602.56812,
           "value": 1808463.008658,
           "variable": "pod listing vol"
          },
          {
           "pod listing vol": 1808463.008658,
           "pod order vol": 1023139.559462,
           "season": 5005,
           "timestamp": "2022-03-03T21:29:39",
           "total bean vol": 332936.744079,
           "total pod vol": 2831602.56812,
           "value": 1023139.559462,
           "variable": "pod order vol"
          },
          {
           "pod listing vol": 1808463.008658,
           "pod order vol": 1023139.559462,
           "season": 5005,
           "timestamp": "2022-03-03T21:29:39",
           "total bean vol": 332936.744079,
           "total pod vol": 2831602.56812,
           "value": 332936.744079,
           "variable": "total bean vol"
          },
          {
           "pod listing vol": 1808463.008658,
           "pod order vol": 1023139.559462,
           "season": 5005,
           "timestamp": "2022-03-03T21:29:39",
           "total bean vol": 332936.744079,
           "total pod vol": 2831602.56812,
           "value": 2831602.56812,
           "variable": "total pod vol"
          },
          {
           "pod listing vol": 1808956.440896,
           "pod order vol": 1041424.174862,
           "season": 5029,
           "timestamp": "2022-03-04T20:52:36",
           "total bean vol": 333223.211002,
           "total pod vol": 2850380.615758,
           "value": 1808956.440896,
           "variable": "pod listing vol"
          },
          {
           "pod listing vol": 1808956.440896,
           "pod order vol": 1041424.174862,
           "season": 5029,
           "timestamp": "2022-03-04T20:52:36",
           "total bean vol": 333223.211002,
           "total pod vol": 2850380.615758,
           "value": 1041424.174862,
           "variable": "pod order vol"
          },
          {
           "pod listing vol": 1808956.440896,
           "pod order vol": 1041424.174862,
           "season": 5029,
           "timestamp": "2022-03-04T20:52:36",
           "total bean vol": 333223.211002,
           "total pod vol": 2850380.615758,
           "value": 333223.211002,
           "variable": "total bean vol"
          },
          {
           "pod listing vol": 1808956.440896,
           "pod order vol": 1041424.174862,
           "season": 5029,
           "timestamp": "2022-03-04T20:52:36",
           "total bean vol": 333223.211002,
           "total pod vol": 2850380.615758,
           "value": 2850380.615758,
           "variable": "total pod vol"
          },
          {
           "pod listing vol": 1821582.697854,
           "pod order vol": 1041424.174862,
           "season": 5053,
           "timestamp": "2022-03-05T21:16:36",
           "total bean vol": 338021.188646,
           "total pod vol": 2863006.872716,
           "value": 2863006.872716,
           "variable": "total pod vol"
          },
          {
           "pod listing vol": 1821582.697854,
           "pod order vol": 1041424.174862,
           "season": 5053,
           "timestamp": "2022-03-05T21:16:36",
           "total bean vol": 338021.188646,
           "total pod vol": 2863006.872716,
           "value": 338021.188646,
           "variable": "total bean vol"
          },
          {
           "pod listing vol": 1821582.697854,
           "pod order vol": 1041424.174862,
           "season": 5053,
           "timestamp": "2022-03-05T21:16:36",
           "total bean vol": 338021.188646,
           "total pod vol": 2863006.872716,
           "value": 1821582.697854,
           "variable": "pod listing vol"
          },
          {
           "pod listing vol": 1821582.697854,
           "pod order vol": 1041424.174862,
           "season": 5053,
           "timestamp": "2022-03-05T21:16:36",
           "total bean vol": 338021.188646,
           "total pod vol": 2863006.872716,
           "value": 1041424.174862,
           "variable": "pod order vol"
          },
          {
           "pod listing vol": 2067546.741749,
           "pod order vol": 1041424.174862,
           "season": 5077,
           "timestamp": "2022-03-06T23:28:16",
           "total bean vol": 400506.311105,
           "total pod vol": 3108970.916611,
           "value": 2067546.741749,
           "variable": "pod listing vol"
          },
          {
           "pod listing vol": 2067546.741749,
           "pod order vol": 1041424.174862,
           "season": 5077,
           "timestamp": "2022-03-06T23:28:16",
           "total bean vol": 400506.311105,
           "total pod vol": 3108970.916611,
           "value": 1041424.174862,
           "variable": "pod order vol"
          },
          {
           "pod listing vol": 2067546.741749,
           "pod order vol": 1041424.174862,
           "season": 5077,
           "timestamp": "2022-03-06T23:28:16",
           "total bean vol": 400506.311105,
           "total pod vol": 3108970.916611,
           "value": 400506.311105,
           "variable": "total bean vol"
          },
          {
           "pod listing vol": 2067546.741749,
           "pod order vol": 1041424.174862,
           "season": 5077,
           "timestamp": "2022-03-06T23:28:16",
           "total bean vol": 400506.311105,
           "total pod vol": 3108970.916611,
           "value": 3108970.916611,
           "variable": "total pod vol"
          },
          {
           "pod listing vol": 2108348.639589,
           "pod order vol": 1061613.474497,
           "season": 5101,
           "timestamp": "2022-03-07T22:32:13",
           "total bean vol": 413977.048801,
           "total pod vol": 3169962.114086,
           "value": 413977.048801,
           "variable": "total bean vol"
          },
          {
           "pod listing vol": 2108348.639589,
           "pod order vol": 1061613.474497,
           "season": 5101,
           "timestamp": "2022-03-07T22:32:13",
           "total bean vol": 413977.048801,
           "total pod vol": 3169962.114086,
           "value": 3169962.114086,
           "variable": "total pod vol"
          },
          {
           "pod listing vol": 2108348.639589,
           "pod order vol": 1061613.474497,
           "season": 5101,
           "timestamp": "2022-03-07T22:32:13",
           "total bean vol": 413977.048801,
           "total pod vol": 3169962.114086,
           "value": 1061613.474497,
           "variable": "pod order vol"
          },
          {
           "pod listing vol": 2108348.639589,
           "pod order vol": 1061613.474497,
           "season": 5101,
           "timestamp": "2022-03-07T22:32:13",
           "total bean vol": 413977.048801,
           "total pod vol": 3169962.114086,
           "value": 2108348.639589,
           "variable": "pod listing vol"
          },
          {
           "pod listing vol": 2274088.006681,
           "pod order vol": 1065356.105445,
           "season": 5125,
           "timestamp": "2022-03-08T22:32:39",
           "total bean vol": 441982.937428,
           "total pod vol": 3339444.112126,
           "value": 2274088.006681,
           "variable": "pod listing vol"
          },
          {
           "pod listing vol": 2274088.006681,
           "pod order vol": 1065356.105445,
           "season": 5125,
           "timestamp": "2022-03-08T22:32:39",
           "total bean vol": 441982.937428,
           "total pod vol": 3339444.112126,
           "value": 1065356.105445,
           "variable": "pod order vol"
          },
          {
           "pod listing vol": 2274088.006681,
           "pod order vol": 1065356.105445,
           "season": 5125,
           "timestamp": "2022-03-08T22:32:39",
           "total bean vol": 441982.937428,
           "total pod vol": 3339444.112126,
           "value": 441982.937428,
           "variable": "total bean vol"
          },
          {
           "pod listing vol": 2274088.006681,
           "pod order vol": 1065356.105445,
           "season": 5125,
           "timestamp": "2022-03-08T22:32:39",
           "total bean vol": 441982.937428,
           "total pod vol": 3339444.112126,
           "value": 3339444.112126,
           "variable": "total pod vol"
          },
          {
           "pod listing vol": 3573959.835924,
           "pod order vol": 1565356.105445,
           "season": 5149,
           "timestamp": "2022-03-09T23:20:31",
           "total bean vol": 625604.529573,
           "total pod vol": 5139315.941369,
           "value": 3573959.835924,
           "variable": "pod listing vol"
          },
          {
           "pod listing vol": 3573959.835924,
           "pod order vol": 1565356.105445,
           "season": 5149,
           "timestamp": "2022-03-09T23:20:31",
           "total bean vol": 625604.529573,
           "total pod vol": 5139315.941369,
           "value": 1565356.105445,
           "variable": "pod order vol"
          },
          {
           "pod listing vol": 3573959.835924,
           "pod order vol": 1565356.105445,
           "season": 5149,
           "timestamp": "2022-03-09T23:20:31",
           "total bean vol": 625604.529573,
           "total pod vol": 5139315.941369,
           "value": 625604.529573,
           "variable": "total bean vol"
          },
          {
           "pod listing vol": 3573959.835924,
           "pod order vol": 1565356.105445,
           "season": 5149,
           "timestamp": "2022-03-09T23:20:31",
           "total bean vol": 625604.529573,
           "total pod vol": 5139315.941369,
           "value": 5139315.941369,
           "variable": "total pod vol"
          },
          {
           "pod listing vol": 3682345.382738,
           "pod order vol": 1565356.105445,
           "season": 5173,
           "timestamp": "2022-03-10T23:49:11",
           "total bean vol": 653134.010303,
           "total pod vol": 5247701.488183,
           "value": 3682345.382738,
           "variable": "pod listing vol"
          },
          {
           "pod listing vol": 3682345.382738,
           "pod order vol": 1565356.105445,
           "season": 5173,
           "timestamp": "2022-03-10T23:49:11",
           "total bean vol": 653134.010303,
           "total pod vol": 5247701.488183,
           "value": 1565356.105445,
           "variable": "pod order vol"
          },
          {
           "pod listing vol": 3682345.382738,
           "pod order vol": 1565356.105445,
           "season": 5173,
           "timestamp": "2022-03-10T23:49:11",
           "total bean vol": 653134.010303,
           "total pod vol": 5247701.488183,
           "value": 653134.010303,
           "variable": "total bean vol"
          },
          {
           "pod listing vol": 3682345.382738,
           "pod order vol": 1565356.105445,
           "season": 5173,
           "timestamp": "2022-03-10T23:49:11",
           "total bean vol": 653134.010303,
           "total pod vol": 5247701.488183,
           "value": 5247701.488183,
           "variable": "total pod vol"
          },
          {
           "pod listing vol": 4445560.666243,
           "pod order vol": 1597289.016293,
           "season": 5197,
           "timestamp": "2022-03-11T23:54:48",
           "total bean vol": 696157.304546,
           "total pod vol": 6042849.682536,
           "value": 6042849.682536,
           "variable": "total pod vol"
          },
          {
           "pod listing vol": 4445560.666243,
           "pod order vol": 1597289.016293,
           "season": 5197,
           "timestamp": "2022-03-11T23:54:48",
           "total bean vol": 696157.304546,
           "total pod vol": 6042849.682536,
           "value": 696157.304546,
           "variable": "total bean vol"
          },
          {
           "pod listing vol": 4445560.666243,
           "pod order vol": 1597289.016293,
           "season": 5197,
           "timestamp": "2022-03-11T23:54:48",
           "total bean vol": 696157.304546,
           "total pod vol": 6042849.682536,
           "value": 1597289.016293,
           "variable": "pod order vol"
          },
          {
           "pod listing vol": 4445560.666243,
           "pod order vol": 1597289.016293,
           "season": 5197,
           "timestamp": "2022-03-11T23:54:48",
           "total bean vol": 696157.304546,
           "total pod vol": 6042849.682536,
           "value": 4445560.666243,
           "variable": "pod listing vol"
          },
          {
           "pod listing vol": 4906983.099316,
           "pod order vol": 1890813.699831,
           "season": 5221,
           "timestamp": "2022-03-12T23:46:26",
           "total bean vol": 742742.587012,
           "total pod vol": 6797796.799147,
           "value": 4906983.099316,
           "variable": "pod listing vol"
          },
          {
           "pod listing vol": 4906983.099316,
           "pod order vol": 1890813.699831,
           "season": 5221,
           "timestamp": "2022-03-12T23:46:26",
           "total bean vol": 742742.587012,
           "total pod vol": 6797796.799147,
           "value": 1890813.699831,
           "variable": "pod order vol"
          },
          {
           "pod listing vol": 4906983.099316,
           "pod order vol": 1890813.699831,
           "season": 5221,
           "timestamp": "2022-03-12T23:46:26",
           "total bean vol": 742742.587012,
           "total pod vol": 6797796.799147,
           "value": 742742.587012,
           "variable": "total bean vol"
          },
          {
           "pod listing vol": 4906983.099316,
           "pod order vol": 1890813.699831,
           "season": 5221,
           "timestamp": "2022-03-12T23:46:26",
           "total bean vol": 742742.587012,
           "total pod vol": 6797796.799147,
           "value": 6797796.799147,
           "variable": "total pod vol"
          },
          {
           "pod listing vol": 5090071.604789,
           "pod order vol": 1895256.376219,
           "season": 5245,
           "timestamp": "2022-03-13T22:53:17",
           "total bean vol": 757339.720102,
           "total pod vol": 6985327.981008,
           "value": 5090071.604789,
           "variable": "pod listing vol"
          },
          {
           "pod listing vol": 5090071.604789,
           "pod order vol": 1895256.376219,
           "season": 5245,
           "timestamp": "2022-03-13T22:53:17",
           "total bean vol": 757339.720102,
           "total pod vol": 6985327.981008,
           "value": 1895256.376219,
           "variable": "pod order vol"
          },
          {
           "pod listing vol": 5090071.604789,
           "pod order vol": 1895256.376219,
           "season": 5245,
           "timestamp": "2022-03-13T22:53:17",
           "total bean vol": 757339.720102,
           "total pod vol": 6985327.981008,
           "value": 757339.720102,
           "variable": "total bean vol"
          },
          {
           "pod listing vol": 5090071.604789,
           "pod order vol": 1895256.376219,
           "season": 5245,
           "timestamp": "2022-03-13T22:53:17",
           "total bean vol": 757339.720102,
           "total pod vol": 6985327.981008,
           "value": 6985327.981008,
           "variable": "total pod vol"
          },
          {
           "pod listing vol": 5238159.67585,
           "pod order vol": 1926363.998853,
           "season": 5269,
           "timestamp": "2022-03-14T23:59:28",
           "total bean vol": 796841.738907,
           "total pod vol": 7164523.674703,
           "value": 5238159.67585,
           "variable": "pod listing vol"
          },
          {
           "pod listing vol": 5238159.67585,
           "pod order vol": 1926363.998853,
           "season": 5269,
           "timestamp": "2022-03-14T23:59:28",
           "total bean vol": 796841.738907,
           "total pod vol": 7164523.674703,
           "value": 1926363.998853,
           "variable": "pod order vol"
          },
          {
           "pod listing vol": 5238159.67585,
           "pod order vol": 1926363.998853,
           "season": 5269,
           "timestamp": "2022-03-14T23:59:28",
           "total bean vol": 796841.738907,
           "total pod vol": 7164523.674703,
           "value": 796841.738907,
           "variable": "total bean vol"
          },
          {
           "pod listing vol": 5238159.67585,
           "pod order vol": 1926363.998853,
           "season": 5269,
           "timestamp": "2022-03-14T23:59:28",
           "total bean vol": 796841.738907,
           "total pod vol": 7164523.674703,
           "value": 7164523.674703,
           "variable": "total pod vol"
          },
          {
           "pod listing vol": 5560139.700207,
           "pod order vol": 2092955.004283,
           "season": 5293,
           "timestamp": "2022-03-15T23:23:43",
           "total bean vol": 857112.135209,
           "total pod vol": 7653094.70449,
           "value": 857112.135209,
           "variable": "total bean vol"
          },
          {
           "pod listing vol": 5560139.700207,
           "pod order vol": 2092955.004283,
           "season": 5293,
           "timestamp": "2022-03-15T23:23:43",
           "total bean vol": 857112.135209,
           "total pod vol": 7653094.70449,
           "value": 7653094.70449,
           "variable": "total pod vol"
          },
          {
           "pod listing vol": 5560139.700207,
           "pod order vol": 2092955.004283,
           "season": 5293,
           "timestamp": "2022-03-15T23:23:43",
           "total bean vol": 857112.135209,
           "total pod vol": 7653094.70449,
           "value": 5560139.700207,
           "variable": "pod listing vol"
          },
          {
           "pod listing vol": 5560139.700207,
           "pod order vol": 2092955.004283,
           "season": 5293,
           "timestamp": "2022-03-15T23:23:43",
           "total bean vol": 857112.135209,
           "total pod vol": 7653094.70449,
           "value": 2092955.004283,
           "variable": "pod order vol"
          },
          {
           "pod listing vol": 5787420.060394,
           "pod order vol": 2126695.261873,
           "season": 5317,
           "timestamp": "2022-03-16T23:32:43",
           "total bean vol": 899911.996859,
           "total pod vol": 7914115.322267,
           "value": 899911.996859,
           "variable": "total bean vol"
          },
          {
           "pod listing vol": 5787420.060394,
           "pod order vol": 2126695.261873,
           "season": 5317,
           "timestamp": "2022-03-16T23:32:43",
           "total bean vol": 899911.996859,
           "total pod vol": 7914115.322267,
           "value": 7914115.322267,
           "variable": "total pod vol"
          },
          {
           "pod listing vol": 5787420.060394,
           "pod order vol": 2126695.261873,
           "season": 5317,
           "timestamp": "2022-03-16T23:32:43",
           "total bean vol": 899911.996859,
           "total pod vol": 7914115.322267,
           "value": 5787420.060394,
           "variable": "pod listing vol"
          },
          {
           "pod listing vol": 5787420.060394,
           "pod order vol": 2126695.261873,
           "season": 5317,
           "timestamp": "2022-03-16T23:32:43",
           "total bean vol": 899911.996859,
           "total pod vol": 7914115.322267,
           "value": 2126695.261873,
           "variable": "pod order vol"
          },
          {
           "pod listing vol": 8195838.834535,
           "pod order vol": 2126695.261873,
           "season": 5341,
           "timestamp": "2022-03-17T23:35:12",
           "total bean vol": 1122350.805546,
           "total pod vol": 10322534.096408,
           "value": 10322534.096408,
           "variable": "total pod vol"
          },
          {
           "pod listing vol": 8195838.834535,
           "pod order vol": 2126695.261873,
           "season": 5341,
           "timestamp": "2022-03-17T23:35:12",
           "total bean vol": 1122350.805546,
           "total pod vol": 10322534.096408,
           "value": 1122350.805546,
           "variable": "total bean vol"
          },
          {
           "pod listing vol": 8195838.834535,
           "pod order vol": 2126695.261873,
           "season": 5341,
           "timestamp": "2022-03-17T23:35:12",
           "total bean vol": 1122350.805546,
           "total pod vol": 10322534.096408,
           "value": 2126695.261873,
           "variable": "pod order vol"
          },
          {
           "pod listing vol": 8195838.834535,
           "pod order vol": 2126695.261873,
           "season": 5341,
           "timestamp": "2022-03-17T23:35:12",
           "total bean vol": 1122350.805546,
           "total pod vol": 10322534.096408,
           "value": 8195838.834535,
           "variable": "pod listing vol"
          },
          {
           "pod listing vol": 8783559.585444,
           "pod order vol": 2126695.261873,
           "season": 5365,
           "timestamp": "2022-03-18T23:16:14",
           "total bean vol": 1193703.11494,
           "total pod vol": 10910254.847317,
           "value": 8783559.585444,
           "variable": "pod listing vol"
          },
          {
           "pod listing vol": 8783559.585444,
           "pod order vol": 2126695.261873,
           "season": 5365,
           "timestamp": "2022-03-18T23:16:14",
           "total bean vol": 1193703.11494,
           "total pod vol": 10910254.847317,
           "value": 2126695.261873,
           "variable": "pod order vol"
          },
          {
           "pod listing vol": 8783559.585444,
           "pod order vol": 2126695.261873,
           "season": 5365,
           "timestamp": "2022-03-18T23:16:14",
           "total bean vol": 1193703.11494,
           "total pod vol": 10910254.847317,
           "value": 1193703.11494,
           "variable": "total bean vol"
          },
          {
           "pod listing vol": 8783559.585444,
           "pod order vol": 2126695.261873,
           "season": 5365,
           "timestamp": "2022-03-18T23:16:14",
           "total bean vol": 1193703.11494,
           "total pod vol": 10910254.847317,
           "value": 10910254.847317,
           "variable": "total pod vol"
          },
          {
           "pod listing vol": 9075279.357225,
           "pod order vol": 2126695.261873,
           "season": 5389,
           "timestamp": "2022-03-19T23:53:29",
           "total bean vol": 1228644.204988,
           "total pod vol": 11201974.619098,
           "value": 1228644.204988,
           "variable": "total bean vol"
          },
          {
           "pod listing vol": 9075279.357225,
           "pod order vol": 2126695.261873,
           "season": 5389,
           "timestamp": "2022-03-19T23:53:29",
           "total bean vol": 1228644.204988,
           "total pod vol": 11201974.619098,
           "value": 11201974.619098,
           "variable": "total pod vol"
          },
          {
           "pod listing vol": 9075279.357225,
           "pod order vol": 2126695.261873,
           "season": 5389,
           "timestamp": "2022-03-19T23:53:29",
           "total bean vol": 1228644.204988,
           "total pod vol": 11201974.619098,
           "value": 9075279.357225,
           "variable": "pod listing vol"
          },
          {
           "pod listing vol": 9075279.357225,
           "pod order vol": 2126695.261873,
           "season": 5389,
           "timestamp": "2022-03-19T23:53:29",
           "total bean vol": 1228644.204988,
           "total pod vol": 11201974.619098,
           "value": 2126695.261873,
           "variable": "pod order vol"
          },
          {
           "pod listing vol": 9341500.669542,
           "pod order vol": 2126695.261873,
           "season": 5413,
           "timestamp": "2022-03-20T22:09:30",
           "total bean vol": 1253566.03742,
           "total pod vol": 11468195.931415,
           "value": 9341500.669542,
           "variable": "pod listing vol"
          },
          {
           "pod listing vol": 9341500.669542,
           "pod order vol": 2126695.261873,
           "season": 5413,
           "timestamp": "2022-03-20T22:09:30",
           "total bean vol": 1253566.03742,
           "total pod vol": 11468195.931415,
           "value": 2126695.261873,
           "variable": "pod order vol"
          },
          {
           "pod listing vol": 9341500.669542,
           "pod order vol": 2126695.261873,
           "season": 5413,
           "timestamp": "2022-03-20T22:09:30",
           "total bean vol": 1253566.03742,
           "total pod vol": 11468195.931415,
           "value": 1253566.03742,
           "variable": "total bean vol"
          },
          {
           "pod listing vol": 9341500.669542,
           "pod order vol": 2126695.261873,
           "season": 5413,
           "timestamp": "2022-03-20T22:09:30",
           "total bean vol": 1253566.03742,
           "total pod vol": 11468195.931415,
           "value": 11468195.931415,
           "variable": "total pod vol"
          },
          {
           "pod listing vol": 9793211.52467,
           "pod order vol": 2162745.261873,
           "season": 5437,
           "timestamp": "2022-03-21T23:24:11",
           "total bean vol": 1286984.255873,
           "total pod vol": 11955956.786543,
           "value": 9793211.52467,
           "variable": "pod listing vol"
          },
          {
           "pod listing vol": 9793211.52467,
           "pod order vol": 2162745.261873,
           "season": 5437,
           "timestamp": "2022-03-21T23:24:11",
           "total bean vol": 1286984.255873,
           "total pod vol": 11955956.786543,
           "value": 2162745.261873,
           "variable": "pod order vol"
          },
          {
           "pod listing vol": 9793211.52467,
           "pod order vol": 2162745.261873,
           "season": 5437,
           "timestamp": "2022-03-21T23:24:11",
           "total bean vol": 1286984.255873,
           "total pod vol": 11955956.786543,
           "value": 1286984.255873,
           "variable": "total bean vol"
          },
          {
           "pod listing vol": 9793211.52467,
           "pod order vol": 2162745.261873,
           "season": 5437,
           "timestamp": "2022-03-21T23:24:11",
           "total bean vol": 1286984.255873,
           "total pod vol": 11955956.786543,
           "value": 11955956.786543,
           "variable": "total pod vol"
          },
          {
           "pod listing vol": 9996861.507966,
           "pod order vol": 2162745.261873,
           "season": 5461,
           "timestamp": "2022-03-22T23:16:33",
           "total bean vol": 1363923.853871,
           "total pod vol": 12159606.769839,
           "value": 12159606.769839,
           "variable": "total pod vol"
          },
          {
           "pod listing vol": 9996861.507966,
           "pod order vol": 2162745.261873,
           "season": 5461,
           "timestamp": "2022-03-22T23:16:33",
           "total bean vol": 1363923.853871,
           "total pod vol": 12159606.769839,
           "value": 1363923.853871,
           "variable": "total bean vol"
          },
          {
           "pod listing vol": 9996861.507966,
           "pod order vol": 2162745.261873,
           "season": 5461,
           "timestamp": "2022-03-22T23:16:33",
           "total bean vol": 1363923.853871,
           "total pod vol": 12159606.769839,
           "value": 2162745.261873,
           "variable": "pod order vol"
          },
          {
           "pod listing vol": 9996861.507966,
           "pod order vol": 2162745.261873,
           "season": 5461,
           "timestamp": "2022-03-22T23:16:33",
           "total bean vol": 1363923.853871,
           "total pod vol": 12159606.769839,
           "value": 9996861.507966,
           "variable": "pod listing vol"
          },
          {
           "pod listing vol": 10255544.093748,
           "pod order vol": 2162745.261873,
           "season": 5485,
           "timestamp": "2022-03-23T23:27:50",
           "total bean vol": 1370414.515195,
           "total pod vol": 12418289.355621,
           "value": 10255544.093748,
           "variable": "pod listing vol"
          },
          {
           "pod listing vol": 10255544.093748,
           "pod order vol": 2162745.261873,
           "season": 5485,
           "timestamp": "2022-03-23T23:27:50",
           "total bean vol": 1370414.515195,
           "total pod vol": 12418289.355621,
           "value": 2162745.261873,
           "variable": "pod order vol"
          },
          {
           "pod listing vol": 10255544.093748,
           "pod order vol": 2162745.261873,
           "season": 5485,
           "timestamp": "2022-03-23T23:27:50",
           "total bean vol": 1370414.515195,
           "total pod vol": 12418289.355621,
           "value": 1370414.515195,
           "variable": "total bean vol"
          },
          {
           "pod listing vol": 10255544.093748,
           "pod order vol": 2162745.261873,
           "season": 5485,
           "timestamp": "2022-03-23T23:27:50",
           "total bean vol": 1370414.515195,
           "total pod vol": 12418289.355621,
           "value": 12418289.355621,
           "variable": "total pod vol"
          },
          {
           "pod listing vol": 10937702.097924,
           "pod order vol": 2162745.261873,
           "season": 5509,
           "timestamp": "2022-03-24T23:33:29",
           "total bean vol": 1448234.697949,
           "total pod vol": 13100447.359797,
           "value": 10937702.097924,
           "variable": "pod listing vol"
          },
          {
           "pod listing vol": 10937702.097924,
           "pod order vol": 2162745.261873,
           "season": 5509,
           "timestamp": "2022-03-24T23:33:29",
           "total bean vol": 1448234.697949,
           "total pod vol": 13100447.359797,
           "value": 2162745.261873,
           "variable": "pod order vol"
          },
          {
           "pod listing vol": 10937702.097924,
           "pod order vol": 2162745.261873,
           "season": 5509,
           "timestamp": "2022-03-24T23:33:29",
           "total bean vol": 1448234.697949,
           "total pod vol": 13100447.359797,
           "value": 1448234.697949,
           "variable": "total bean vol"
          },
          {
           "pod listing vol": 10937702.097924,
           "pod order vol": 2162745.261873,
           "season": 5509,
           "timestamp": "2022-03-24T23:33:29",
           "total bean vol": 1448234.697949,
           "total pod vol": 13100447.359797,
           "value": 13100447.359797,
           "variable": "total pod vol"
          },
          {
           "pod listing vol": 11439206.70357,
           "pod order vol": 2171783.151003,
           "season": 5533,
           "timestamp": "2022-03-25T20:07:28",
           "total bean vol": 1548182.275503,
           "total pod vol": 13610989.854573,
           "value": 13610989.854573,
           "variable": "total pod vol"
          },
          {
           "pod listing vol": 11439206.70357,
           "pod order vol": 2171783.151003,
           "season": 5533,
           "timestamp": "2022-03-25T20:07:28",
           "total bean vol": 1548182.275503,
           "total pod vol": 13610989.854573,
           "value": 1548182.275503,
           "variable": "total bean vol"
          },
          {
           "pod listing vol": 11439206.70357,
           "pod order vol": 2171783.151003,
           "season": 5533,
           "timestamp": "2022-03-25T20:07:28",
           "total bean vol": 1548182.275503,
           "total pod vol": 13610989.854573,
           "value": 11439206.70357,
           "variable": "pod listing vol"
          },
          {
           "pod listing vol": 11439206.70357,
           "pod order vol": 2171783.151003,
           "season": 5533,
           "timestamp": "2022-03-25T20:07:28",
           "total bean vol": 1548182.275503,
           "total pod vol": 13610989.854573,
           "value": 2171783.151003,
           "variable": "pod order vol"
          },
          {
           "pod listing vol": 12058582.051629,
           "pod order vol": 2181959.119836,
           "season": 5557,
           "timestamp": "2022-03-26T23:19:23",
           "total bean vol": 1598387.633989,
           "total pod vol": 14240541.171465,
           "value": 12058582.051629,
           "variable": "pod listing vol"
          },
          {
           "pod listing vol": 12058582.051629,
           "pod order vol": 2181959.119836,
           "season": 5557,
           "timestamp": "2022-03-26T23:19:23",
           "total bean vol": 1598387.633989,
           "total pod vol": 14240541.171465,
           "value": 2181959.119836,
           "variable": "pod order vol"
          },
          {
           "pod listing vol": 12058582.051629,
           "pod order vol": 2181959.119836,
           "season": 5557,
           "timestamp": "2022-03-26T23:19:23",
           "total bean vol": 1598387.633989,
           "total pod vol": 14240541.171465,
           "value": 1598387.633989,
           "variable": "total bean vol"
          },
          {
           "pod listing vol": 12058582.051629,
           "pod order vol": 2181959.119836,
           "season": 5557,
           "timestamp": "2022-03-26T23:19:23",
           "total bean vol": 1598387.633989,
           "total pod vol": 14240541.171465,
           "value": 14240541.171465,
           "variable": "total pod vol"
          },
          {
           "pod listing vol": 12234567.125877,
           "pod order vol": 2337763.856509,
           "season": 5581,
           "timestamp": "2022-03-27T23:15:31",
           "total bean vol": 1707133.891141,
           "total pod vol": 14572330.982386,
           "value": 14572330.982386,
           "variable": "total pod vol"
          },
          {
           "pod listing vol": 12234567.125877,
           "pod order vol": 2337763.856509,
           "season": 5581,
           "timestamp": "2022-03-27T23:15:31",
           "total bean vol": 1707133.891141,
           "total pod vol": 14572330.982386,
           "value": 1707133.891141,
           "variable": "total bean vol"
          },
          {
           "pod listing vol": 12234567.125877,
           "pod order vol": 2337763.856509,
           "season": 5581,
           "timestamp": "2022-03-27T23:15:31",
           "total bean vol": 1707133.891141,
           "total pod vol": 14572330.982386,
           "value": 2337763.856509,
           "variable": "pod order vol"
          },
          {
           "pod listing vol": 12234567.125877,
           "pod order vol": 2337763.856509,
           "season": 5581,
           "timestamp": "2022-03-27T23:15:31",
           "total bean vol": 1707133.891141,
           "total pod vol": 14572330.982386,
           "value": 12234567.125877,
           "variable": "pod listing vol"
          },
          {
           "pod listing vol": 12252077.043808,
           "pod order vol": 2338817.073105,
           "season": 5605,
           "timestamp": "2022-03-28T22:30:20",
           "total bean vol": 1717020.255751,
           "total pod vol": 14590894.116913,
           "value": 12252077.043808,
           "variable": "pod listing vol"
          },
          {
           "pod listing vol": 12252077.043808,
           "pod order vol": 2338817.073105,
           "season": 5605,
           "timestamp": "2022-03-28T22:30:20",
           "total bean vol": 1717020.255751,
           "total pod vol": 14590894.116913,
           "value": 2338817.073105,
           "variable": "pod order vol"
          },
          {
           "pod listing vol": 12252077.043808,
           "pod order vol": 2338817.073105,
           "season": 5605,
           "timestamp": "2022-03-28T22:30:20",
           "total bean vol": 1717020.255751,
           "total pod vol": 14590894.116913,
           "value": 1717020.255751,
           "variable": "total bean vol"
          },
          {
           "pod listing vol": 12252077.043808,
           "pod order vol": 2338817.073105,
           "season": 5605,
           "timestamp": "2022-03-28T22:30:20",
           "total bean vol": 1717020.255751,
           "total pod vol": 14590894.116913,
           "value": 14590894.116913,
           "variable": "total pod vol"
          },
          {
           "pod listing vol": 12463341.499955,
           "pod order vol": 2338817.073105,
           "season": 5629,
           "timestamp": "2022-03-29T23:32:18",
           "total bean vol": 1724131.087095,
           "total pod vol": 14802158.57306,
           "value": 1724131.087095,
           "variable": "total bean vol"
          },
          {
           "pod listing vol": 12463341.499955,
           "pod order vol": 2338817.073105,
           "season": 5629,
           "timestamp": "2022-03-29T23:32:18",
           "total bean vol": 1724131.087095,
           "total pod vol": 14802158.57306,
           "value": 14802158.57306,
           "variable": "total pod vol"
          },
          {
           "pod listing vol": 12463341.499955,
           "pod order vol": 2338817.073105,
           "season": 5629,
           "timestamp": "2022-03-29T23:32:18",
           "total bean vol": 1724131.087095,
           "total pod vol": 14802158.57306,
           "value": 12463341.499955,
           "variable": "pod listing vol"
          },
          {
           "pod listing vol": 12463341.499955,
           "pod order vol": 2338817.073105,
           "season": 5629,
           "timestamp": "2022-03-29T23:32:18",
           "total bean vol": 1724131.087095,
           "total pod vol": 14802158.57306,
           "value": 2338817.073105,
           "variable": "pod order vol"
          },
          {
           "pod listing vol": 12787830.030649,
           "pod order vol": 2338817.073105,
           "season": 5653,
           "timestamp": "2022-03-30T22:24:18",
           "total bean vol": 1766596.466683,
           "total pod vol": 15126647.103754,
           "value": 12787830.030649,
           "variable": "pod listing vol"
          },
          {
           "pod listing vol": 12787830.030649,
           "pod order vol": 2338817.073105,
           "season": 5653,
           "timestamp": "2022-03-30T22:24:18",
           "total bean vol": 1766596.466683,
           "total pod vol": 15126647.103754,
           "value": 2338817.073105,
           "variable": "pod order vol"
          },
          {
           "pod listing vol": 12787830.030649,
           "pod order vol": 2338817.073105,
           "season": 5653,
           "timestamp": "2022-03-30T22:24:18",
           "total bean vol": 1766596.466683,
           "total pod vol": 15126647.103754,
           "value": 1766596.466683,
           "variable": "total bean vol"
          },
          {
           "pod listing vol": 12787830.030649,
           "pod order vol": 2338817.073105,
           "season": 5653,
           "timestamp": "2022-03-30T22:24:18",
           "total bean vol": 1766596.466683,
           "total pod vol": 15126647.103754,
           "value": 15126647.103754,
           "variable": "total pod vol"
          },
          {
           "pod listing vol": 12882564.599452,
           "pod order vol": 2338817.073105,
           "season": 5677,
           "timestamp": "2022-03-31T21:36:21",
           "total bean vol": 1784787.474437,
           "total pod vol": 15221381.672557,
           "value": 15221381.672557,
           "variable": "total pod vol"
          },
          {
           "pod listing vol": 12882564.599452,
           "pod order vol": 2338817.073105,
           "season": 5677,
           "timestamp": "2022-03-31T21:36:21",
           "total bean vol": 1784787.474437,
           "total pod vol": 15221381.672557,
           "value": 12882564.599452,
           "variable": "pod listing vol"
          },
          {
           "pod listing vol": 12882564.599452,
           "pod order vol": 2338817.073105,
           "season": 5677,
           "timestamp": "2022-03-31T21:36:21",
           "total bean vol": 1784787.474437,
           "total pod vol": 15221381.672557,
           "value": 2338817.073105,
           "variable": "pod order vol"
          },
          {
           "pod listing vol": 12882564.599452,
           "pod order vol": 2338817.073105,
           "season": 5677,
           "timestamp": "2022-03-31T21:36:21",
           "total bean vol": 1784787.474437,
           "total pod vol": 15221381.672557,
           "value": 1784787.474437,
           "variable": "total bean vol"
          },
          {
           "pod listing vol": 13033401.919454,
           "pod order vol": 2347290.22673,
           "season": 5701,
           "timestamp": "2022-04-01T23:27:56",
           "total bean vol": 1799281.026908,
           "total pod vol": 15380692.146184,
           "value": 15380692.146184,
           "variable": "total pod vol"
          },
          {
           "pod listing vol": 13033401.919454,
           "pod order vol": 2347290.22673,
           "season": 5701,
           "timestamp": "2022-04-01T23:27:56",
           "total bean vol": 1799281.026908,
           "total pod vol": 15380692.146184,
           "value": 1799281.026908,
           "variable": "total bean vol"
          },
          {
           "pod listing vol": 13033401.919454,
           "pod order vol": 2347290.22673,
           "season": 5701,
           "timestamp": "2022-04-01T23:27:56",
           "total bean vol": 1799281.026908,
           "total pod vol": 15380692.146184,
           "value": 13033401.919454,
           "variable": "pod listing vol"
          },
          {
           "pod listing vol": 13033401.919454,
           "pod order vol": 2347290.22673,
           "season": 5701,
           "timestamp": "2022-04-01T23:27:56",
           "total bean vol": 1799281.026908,
           "total pod vol": 15380692.146184,
           "value": 2347290.22673,
           "variable": "pod order vol"
          },
          {
           "pod listing vol": 13207190.7293,
           "pod order vol": 2349002.45642,
           "season": 5725,
           "timestamp": "2022-04-02T22:27:51",
           "total bean vol": 1830125.481168,
           "total pod vol": 15556193.18572,
           "value": 13207190.7293,
           "variable": "pod listing vol"
          },
          {
           "pod listing vol": 13207190.7293,
           "pod order vol": 2349002.45642,
           "season": 5725,
           "timestamp": "2022-04-02T22:27:51",
           "total bean vol": 1830125.481168,
           "total pod vol": 15556193.18572,
           "value": 2349002.45642,
           "variable": "pod order vol"
          },
          {
           "pod listing vol": 13207190.7293,
           "pod order vol": 2349002.45642,
           "season": 5725,
           "timestamp": "2022-04-02T22:27:51",
           "total bean vol": 1830125.481168,
           "total pod vol": 15556193.18572,
           "value": 1830125.481168,
           "variable": "total bean vol"
          },
          {
           "pod listing vol": 13207190.7293,
           "pod order vol": 2349002.45642,
           "season": 5725,
           "timestamp": "2022-04-02T22:27:51",
           "total bean vol": 1830125.481168,
           "total pod vol": 15556193.18572,
           "value": 15556193.18572,
           "variable": "total pod vol"
          },
          {
           "pod listing vol": 13323910.753581,
           "pod order vol": 2349412.190742,
           "season": 5749,
           "timestamp": "2022-04-03T22:43:26",
           "total bean vol": 1843517.4616,
           "total pod vol": 15673322.944323,
           "value": 15673322.944323,
           "variable": "total pod vol"
          },
          {
           "pod listing vol": 13323910.753581,
           "pod order vol": 2349412.190742,
           "season": 5749,
           "timestamp": "2022-04-03T22:43:26",
           "total bean vol": 1843517.4616,
           "total pod vol": 15673322.944323,
           "value": 13323910.753581,
           "variable": "pod listing vol"
          },
          {
           "pod listing vol": 13323910.753581,
           "pod order vol": 2349412.190742,
           "season": 5749,
           "timestamp": "2022-04-03T22:43:26",
           "total bean vol": 1843517.4616,
           "total pod vol": 15673322.944323,
           "value": 2349412.190742,
           "variable": "pod order vol"
          },
          {
           "pod listing vol": 13323910.753581,
           "pod order vol": 2349412.190742,
           "season": 5749,
           "timestamp": "2022-04-03T22:43:26",
           "total bean vol": 1843517.4616,
           "total pod vol": 15673322.944323,
           "value": 1843517.4616,
           "variable": "total bean vol"
          },
          {
           "pod listing vol": 13559555.190347,
           "pod order vol": 2369412.190742,
           "season": 5773,
           "timestamp": "2022-04-04T21:44:44",
           "total bean vol": 1938637.008438,
           "total pod vol": 15928967.381089,
           "value": 13559555.190347,
           "variable": "pod listing vol"
          },
          {
           "pod listing vol": 13559555.190347,
           "pod order vol": 2369412.190742,
           "season": 5773,
           "timestamp": "2022-04-04T21:44:44",
           "total bean vol": 1938637.008438,
           "total pod vol": 15928967.381089,
           "value": 2369412.190742,
           "variable": "pod order vol"
          },
          {
           "pod listing vol": 13559555.190347,
           "pod order vol": 2369412.190742,
           "season": 5773,
           "timestamp": "2022-04-04T21:44:44",
           "total bean vol": 1938637.008438,
           "total pod vol": 15928967.381089,
           "value": 1938637.008438,
           "variable": "total bean vol"
          },
          {
           "pod listing vol": 13559555.190347,
           "pod order vol": 2369412.190742,
           "season": 5773,
           "timestamp": "2022-04-04T21:44:44",
           "total bean vol": 1938637.008438,
           "total pod vol": 15928967.381089,
           "value": 15928967.381089,
           "variable": "total pod vol"
          },
          {
           "pod listing vol": 13795715.296446,
           "pod order vol": 2369412.190742,
           "season": 5797,
           "timestamp": "2022-04-05T23:14:48",
           "total bean vol": 1969733.26451,
           "total pod vol": 16165127.487188,
           "value": 1969733.26451,
           "variable": "total bean vol"
          },
          {
           "pod listing vol": 13795715.296446,
           "pod order vol": 2369412.190742,
           "season": 5797,
           "timestamp": "2022-04-05T23:14:48",
           "total bean vol": 1969733.26451,
           "total pod vol": 16165127.487188,
           "value": 16165127.487188,
           "variable": "total pod vol"
          },
          {
           "pod listing vol": 13795715.296446,
           "pod order vol": 2369412.190742,
           "season": 5797,
           "timestamp": "2022-04-05T23:14:48",
           "total bean vol": 1969733.26451,
           "total pod vol": 16165127.487188,
           "value": 13795715.296446,
           "variable": "pod listing vol"
          },
          {
           "pod listing vol": 13795715.296446,
           "pod order vol": 2369412.190742,
           "season": 5797,
           "timestamp": "2022-04-05T23:14:48",
           "total bean vol": 1969733.26451,
           "total pod vol": 16165127.487188,
           "value": 2369412.190742,
           "variable": "pod order vol"
          },
          {
           "pod listing vol": 14074805.550379,
           "pod order vol": 2369412.190742,
           "season": 5821,
           "timestamp": "2022-04-06T23:03:41",
           "total bean vol": 2002868.603232,
           "total pod vol": 16444217.741121,
           "value": 16444217.741121,
           "variable": "total pod vol"
          },
          {
           "pod listing vol": 14074805.550379,
           "pod order vol": 2369412.190742,
           "season": 5821,
           "timestamp": "2022-04-06T23:03:41",
           "total bean vol": 2002868.603232,
           "total pod vol": 16444217.741121,
           "value": 2002868.603232,
           "variable": "total bean vol"
          },
          {
           "pod listing vol": 14074805.550379,
           "pod order vol": 2369412.190742,
           "season": 5821,
           "timestamp": "2022-04-06T23:03:41",
           "total bean vol": 2002868.603232,
           "total pod vol": 16444217.741121,
           "value": 2369412.190742,
           "variable": "pod order vol"
          },
          {
           "pod listing vol": 14074805.550379,
           "pod order vol": 2369412.190742,
           "season": 5821,
           "timestamp": "2022-04-06T23:03:41",
           "total bean vol": 2002868.603232,
           "total pod vol": 16444217.741121,
           "value": 14074805.550379,
           "variable": "pod listing vol"
          },
          {
           "pod listing vol": 14310063.076692,
           "pod order vol": 2459412.190742,
           "season": 5845,
           "timestamp": "2022-04-07T22:14:34",
           "total bean vol": 2044915.881574,
           "total pod vol": 16769475.267434,
           "value": 14310063.076692,
           "variable": "pod listing vol"
          },
          {
           "pod listing vol": 14310063.076692,
           "pod order vol": 2459412.190742,
           "season": 5845,
           "timestamp": "2022-04-07T22:14:34",
           "total bean vol": 2044915.881574,
           "total pod vol": 16769475.267434,
           "value": 2459412.190742,
           "variable": "pod order vol"
          },
          {
           "pod listing vol": 14310063.076692,
           "pod order vol": 2459412.190742,
           "season": 5845,
           "timestamp": "2022-04-07T22:14:34",
           "total bean vol": 2044915.881574,
           "total pod vol": 16769475.267434,
           "value": 2044915.881574,
           "variable": "total bean vol"
          },
          {
           "pod listing vol": 14310063.076692,
           "pod order vol": 2459412.190742,
           "season": 5845,
           "timestamp": "2022-04-07T22:14:34",
           "total bean vol": 2044915.881574,
           "total pod vol": 16769475.267434,
           "value": 16769475.267434,
           "variable": "total pod vol"
          },
          {
           "pod listing vol": 14404836.401523,
           "pod order vol": 2459412.190742,
           "season": 5869,
           "timestamp": "2022-04-08T22:55:41",
           "total bean vol": 2061971.588237,
           "total pod vol": 16864248.592265,
           "value": 14404836.401523,
           "variable": "pod listing vol"
          },
          {
           "pod listing vol": 14404836.401523,
           "pod order vol": 2459412.190742,
           "season": 5869,
           "timestamp": "2022-04-08T22:55:41",
           "total bean vol": 2061971.588237,
           "total pod vol": 16864248.592265,
           "value": 2459412.190742,
           "variable": "pod order vol"
          },
          {
           "pod listing vol": 14404836.401523,
           "pod order vol": 2459412.190742,
           "season": 5869,
           "timestamp": "2022-04-08T22:55:41",
           "total bean vol": 2061971.588237,
           "total pod vol": 16864248.592265,
           "value": 2061971.588237,
           "variable": "total bean vol"
          },
          {
           "pod listing vol": 14404836.401523,
           "pod order vol": 2459412.190742,
           "season": 5869,
           "timestamp": "2022-04-08T22:55:41",
           "total bean vol": 2061971.588237,
           "total pod vol": 16864248.592265,
           "value": 16864248.592265,
           "variable": "total pod vol"
          },
          {
           "pod listing vol": 14740685.914775,
           "pod order vol": 2521068.219765,
           "season": 5893,
           "timestamp": "2022-04-09T23:56:22",
           "total bean vol": 2118132.603853,
           "total pod vol": 17261754.13454,
           "value": 14740685.914775,
           "variable": "pod listing vol"
          },
          {
           "pod listing vol": 14740685.914775,
           "pod order vol": 2521068.219765,
           "season": 5893,
           "timestamp": "2022-04-09T23:56:22",
           "total bean vol": 2118132.603853,
           "total pod vol": 17261754.13454,
           "value": 2521068.219765,
           "variable": "pod order vol"
          },
          {
           "pod listing vol": 14740685.914775,
           "pod order vol": 2521068.219765,
           "season": 5893,
           "timestamp": "2022-04-09T23:56:22",
           "total bean vol": 2118132.603853,
           "total pod vol": 17261754.13454,
           "value": 2118132.603853,
           "variable": "total bean vol"
          },
          {
           "pod listing vol": 14740685.914775,
           "pod order vol": 2521068.219765,
           "season": 5893,
           "timestamp": "2022-04-09T23:56:22",
           "total bean vol": 2118132.603853,
           "total pod vol": 17261754.13454,
           "value": 17261754.13454,
           "variable": "total pod vol"
          },
          {
           "pod listing vol": 14971836.040466,
           "pod order vol": 2531166.357637,
           "season": 5917,
           "timestamp": "2022-04-10T23:05:54",
           "total bean vol": 2188106.301855,
           "total pod vol": 17503002.398103,
           "value": 2188106.301855,
           "variable": "total bean vol"
          },
          {
           "pod listing vol": 14971836.040466,
           "pod order vol": 2531166.357637,
           "season": 5917,
           "timestamp": "2022-04-10T23:05:54",
           "total bean vol": 2188106.301855,
           "total pod vol": 17503002.398103,
           "value": 17503002.398103,
           "variable": "total pod vol"
          },
          {
           "pod listing vol": 14971836.040466,
           "pod order vol": 2531166.357637,
           "season": 5917,
           "timestamp": "2022-04-10T23:05:54",
           "total bean vol": 2188106.301855,
           "total pod vol": 17503002.398103,
           "value": 14971836.040466,
           "variable": "pod listing vol"
          },
          {
           "pod listing vol": 14971836.040466,
           "pod order vol": 2531166.357637,
           "season": 5917,
           "timestamp": "2022-04-10T23:05:54",
           "total bean vol": 2188106.301855,
           "total pod vol": 17503002.398103,
           "value": 2531166.357637,
           "variable": "pod order vol"
          },
          {
           "pod listing vol": 15963434.629309,
           "pod order vol": 2577056.235948,
           "season": 5941,
           "timestamp": "2022-04-11T22:46:48",
           "total bean vol": 2350296.889243,
           "total pod vol": 18540490.865257,
           "value": 18540490.865257,
           "variable": "total pod vol"
          },
          {
           "pod listing vol": 15963434.629309,
           "pod order vol": 2577056.235948,
           "season": 5941,
           "timestamp": "2022-04-11T22:46:48",
           "total bean vol": 2350296.889243,
           "total pod vol": 18540490.865257,
           "value": 2350296.889243,
           "variable": "total bean vol"
          },
          {
           "pod listing vol": 15963434.629309,
           "pod order vol": 2577056.235948,
           "season": 5941,
           "timestamp": "2022-04-11T22:46:48",
           "total bean vol": 2350296.889243,
           "total pod vol": 18540490.865257,
           "value": 15963434.629309,
           "variable": "pod listing vol"
          },
          {
           "pod listing vol": 15963434.629309,
           "pod order vol": 2577056.235948,
           "season": 5941,
           "timestamp": "2022-04-11T22:46:48",
           "total bean vol": 2350296.889243,
           "total pod vol": 18540490.865257,
           "value": 2577056.235948,
           "variable": "pod order vol"
          },
          {
           "pod listing vol": 19783922.212272,
           "pod order vol": 2654243.776766,
           "season": 5965,
           "timestamp": "2022-04-12T23:47:59",
           "total bean vol": 3188208.066007,
           "total pod vol": 22438165.989038,
           "value": 19783922.212272,
           "variable": "pod listing vol"
          },
          {
           "pod listing vol": 19783922.212272,
           "pod order vol": 2654243.776766,
           "season": 5965,
           "timestamp": "2022-04-12T23:47:59",
           "total bean vol": 3188208.066007,
           "total pod vol": 22438165.989038,
           "value": 2654243.776766,
           "variable": "pod order vol"
          },
          {
           "pod listing vol": 19783922.212272,
           "pod order vol": 2654243.776766,
           "season": 5965,
           "timestamp": "2022-04-12T23:47:59",
           "total bean vol": 3188208.066007,
           "total pod vol": 22438165.989038,
           "value": 3188208.066007,
           "variable": "total bean vol"
          },
          {
           "pod listing vol": 19783922.212272,
           "pod order vol": 2654243.776766,
           "season": 5965,
           "timestamp": "2022-04-12T23:47:59",
           "total bean vol": 3188208.066007,
           "total pod vol": 22438165.989038,
           "value": 22438165.989038,
           "variable": "total pod vol"
          },
          {
           "pod listing vol": 23130227.433895,
           "pod order vol": 2655105.086016,
           "season": 5989,
           "timestamp": "2022-04-13T23:59:41",
           "total bean vol": 3613255.888256,
           "total pod vol": 25785332.519911,
           "value": 23130227.433895,
           "variable": "pod listing vol"
          },
          {
           "pod listing vol": 23130227.433895,
           "pod order vol": 2655105.086016,
           "season": 5989,
           "timestamp": "2022-04-13T23:59:41",
           "total bean vol": 3613255.888256,
           "total pod vol": 25785332.519911,
           "value": 2655105.086016,
           "variable": "pod order vol"
          },
          {
           "pod listing vol": 23130227.433895,
           "pod order vol": 2655105.086016,
           "season": 5989,
           "timestamp": "2022-04-13T23:59:41",
           "total bean vol": 3613255.888256,
           "total pod vol": 25785332.519911,
           "value": 3613255.888256,
           "variable": "total bean vol"
          },
          {
           "pod listing vol": 23130227.433895,
           "pod order vol": 2655105.086016,
           "season": 5989,
           "timestamp": "2022-04-13T23:59:41",
           "total bean vol": 3613255.888256,
           "total pod vol": 25785332.519911,
           "value": 25785332.519911,
           "variable": "total pod vol"
          },
          {
           "pod listing vol": 26180153.152342,
           "pod order vol": 2828133.005571,
           "season": 6013,
           "timestamp": "2022-04-14T23:51:27",
           "total bean vol": 4106143.870939,
           "total pod vol": 29008286.157913,
           "value": 4106143.870939,
           "variable": "total bean vol"
          },
          {
           "pod listing vol": 26180153.152342,
           "pod order vol": 2828133.005571,
           "season": 6013,
           "timestamp": "2022-04-14T23:51:27",
           "total bean vol": 4106143.870939,
           "total pod vol": 29008286.157913,
           "value": 26180153.152342,
           "variable": "pod listing vol"
          },
          {
           "pod listing vol": 26180153.152342,
           "pod order vol": 2828133.005571,
           "season": 6013,
           "timestamp": "2022-04-14T23:51:27",
           "total bean vol": 4106143.870939,
           "total pod vol": 29008286.157913,
           "value": 2828133.005571,
           "variable": "pod order vol"
          },
          {
           "pod listing vol": 26180153.152342,
           "pod order vol": 2828133.005571,
           "season": 6013,
           "timestamp": "2022-04-14T23:51:27",
           "total bean vol": 4106143.870939,
           "total pod vol": 29008286.157913,
           "value": 29008286.157913,
           "variable": "total pod vol"
          },
          {
           "pod listing vol": 30255895.358546,
           "pod order vol": 4498024.897462,
           "season": 6037,
           "timestamp": "2022-04-15T22:04:46",
           "total bean vol": 4528005.203248,
           "total pod vol": 34753920.256008,
           "value": 34753920.256008,
           "variable": "total pod vol"
          },
          {
           "pod listing vol": 30255895.358546,
           "pod order vol": 4498024.897462,
           "season": 6037,
           "timestamp": "2022-04-15T22:04:46",
           "total bean vol": 4528005.203248,
           "total pod vol": 34753920.256008,
           "value": 4528005.203248,
           "variable": "total bean vol"
          },
          {
           "pod listing vol": 30255895.358546,
           "pod order vol": 4498024.897462,
           "season": 6037,
           "timestamp": "2022-04-15T22:04:46",
           "total bean vol": 4528005.203248,
           "total pod vol": 34753920.256008,
           "value": 4498024.897462,
           "variable": "pod order vol"
          },
          {
           "pod listing vol": 30255895.358546,
           "pod order vol": 4498024.897462,
           "season": 6037,
           "timestamp": "2022-04-15T22:04:46",
           "total bean vol": 4528005.203248,
           "total pod vol": 34753920.256008,
           "value": 30255895.358546,
           "variable": "pod listing vol"
          },
          {
           "pod listing vol": 34725128.948987,
           "pod order vol": 4501396.092105,
           "season": 6061,
           "timestamp": "2022-04-16T23:58:09",
           "total bean vol": 5088424.313178,
           "total pod vol": 39226525.041092,
           "value": 34725128.948987,
           "variable": "pod listing vol"
          },
          {
           "pod listing vol": 34725128.948987,
           "pod order vol": 4501396.092105,
           "season": 6061,
           "timestamp": "2022-04-16T23:58:09",
           "total bean vol": 5088424.313178,
           "total pod vol": 39226525.041092,
           "value": 4501396.092105,
           "variable": "pod order vol"
          },
          {
           "pod listing vol": 34725128.948987,
           "pod order vol": 4501396.092105,
           "season": 6061,
           "timestamp": "2022-04-16T23:58:09",
           "total bean vol": 5088424.313178,
           "total pod vol": 39226525.041092,
           "value": 5088424.313178,
           "variable": "total bean vol"
          },
          {
           "pod listing vol": 34725128.948987,
           "pod order vol": 4501396.092105,
           "season": 6061,
           "timestamp": "2022-04-16T23:58:09",
           "total bean vol": 5088424.313178,
           "total pod vol": 39226525.041092,
           "value": 39226525.041092,
           "variable": "total pod vol"
          },
          {
           "pod listing vol": 36726401.595964,
           "pod order vol": 6612844.586573,
           "season": 6074,
           "timestamp": "2022-04-17T13:04:49",
           "total bean vol": 5617151.722674,
           "total pod vol": 43339246.182537,
           "value": 36726401.595964,
           "variable": "pod listing vol"
          },
          {
           "pod listing vol": 36726401.595964,
           "pod order vol": 6612844.586573,
           "season": 6074,
           "timestamp": "2022-04-17T13:04:49",
           "total bean vol": 5617151.722674,
           "total pod vol": 43339246.182537,
           "value": 6612844.586573,
           "variable": "pod order vol"
          },
          {
           "pod listing vol": 36726401.595964,
           "pod order vol": 6612844.586573,
           "season": 6074,
           "timestamp": "2022-04-17T13:04:49",
           "total bean vol": 5617151.722674,
           "total pod vol": 43339246.182537,
           "value": 5617151.722674,
           "variable": "total bean vol"
          },
          {
           "pod listing vol": 36726401.595964,
           "pod order vol": 6612844.586573,
           "season": 6074,
           "timestamp": "2022-04-17T13:04:49",
           "total bean vol": 5617151.722674,
           "total pod vol": 43339246.182537,
           "value": 43339246.182537,
           "variable": "total pod vol"
          },
          {
           "pod listing vol": 36726401.595964,
           "pod order vol": 6612844.586573,
           "season": 6074,
           "timestamp": "2022-08-04T20:23:24",
           "total bean vol": 5617151.722674,
           "total pod vol": 43339246.182537,
           "value": 36726401.595964,
           "variable": "pod listing vol"
          },
          {
           "pod listing vol": 36726401.595964,
           "pod order vol": 6612844.586573,
           "season": 6074,
           "timestamp": "2022-08-04T20:23:24",
           "total bean vol": 5617151.722674,
           "total pod vol": 43339246.182537,
           "value": 6612844.586573,
           "variable": "pod order vol"
          },
          {
           "pod listing vol": 36726401.595964,
           "pod order vol": 6612844.586573,
           "season": 6074,
           "timestamp": "2022-08-04T20:23:24",
           "total bean vol": 5617151.722674,
           "total pod vol": 43339246.182537,
           "value": 5617151.722674,
           "variable": "total bean vol"
          },
          {
           "pod listing vol": 36726401.595964,
           "pod order vol": 6612844.586573,
           "season": 6074,
           "timestamp": "2022-08-04T20:23:24",
           "total bean vol": 5617151.722674,
           "total pod vol": 43339246.182537,
           "value": 43339246.182537,
           "variable": "total pod vol"
          },
          {
           "pod listing vol": 36734580.012437,
           "pod order vol": 6612844.586573,
           "season": 6074,
           "timestamp": "2022-08-05T20:53:14",
           "total bean vol": 5617403.67668,
           "total pod vol": 43347424.59901,
           "value": 5617403.67668,
           "variable": "total bean vol"
          },
          {
           "pod listing vol": 36734580.012437,
           "pod order vol": 6612844.586573,
           "season": 6074,
           "timestamp": "2022-08-05T20:53:14",
           "total bean vol": 5617403.67668,
           "total pod vol": 43347424.59901,
           "value": 43347424.59901,
           "variable": "total pod vol"
          },
          {
           "pod listing vol": 36734580.012437,
           "pod order vol": 6612844.586573,
           "season": 6074,
           "timestamp": "2022-08-05T20:53:14",
           "total bean vol": 5617403.67668,
           "total pod vol": 43347424.59901,
           "value": 36734580.012437,
           "variable": "pod listing vol"
          },
          {
           "pod listing vol": 36734580.012437,
           "pod order vol": 6612844.586573,
           "season": 6074,
           "timestamp": "2022-08-05T20:53:14",
           "total bean vol": 5617403.67668,
           "total pod vol": 43347424.59901,
           "value": 6612844.586573,
           "variable": "pod order vol"
          },
          {
           "pod listing vol": 36743322.824056,
           "pod order vol": 6612844.586573,
           "season": 6081,
           "timestamp": "2022-08-06T22:05:04",
           "total bean vol": 5617946.423243,
           "total pod vol": 43356167.410629,
           "value": 36743322.824056,
           "variable": "pod listing vol"
          },
          {
           "pod listing vol": 36743322.824056,
           "pod order vol": 6612844.586573,
           "season": 6081,
           "timestamp": "2022-08-06T22:05:04",
           "total bean vol": 5617946.423243,
           "total pod vol": 43356167.410629,
           "value": 6612844.586573,
           "variable": "pod order vol"
          },
          {
           "pod listing vol": 36743322.824056,
           "pod order vol": 6612844.586573,
           "season": 6081,
           "timestamp": "2022-08-06T22:05:04",
           "total bean vol": 5617946.423243,
           "total pod vol": 43356167.410629,
           "value": 5617946.423243,
           "variable": "total bean vol"
          },
          {
           "pod listing vol": 36743322.824056,
           "pod order vol": 6612844.586573,
           "season": 6081,
           "timestamp": "2022-08-06T22:05:04",
           "total bean vol": 5617946.423243,
           "total pod vol": 43356167.410629,
           "value": 43356167.410629,
           "variable": "total pod vol"
          },
          {
           "pod listing vol": 37819221.832261,
           "pod order vol": 6660227.89123,
           "season": 6105,
           "timestamp": "2022-08-07T23:55:55",
           "total bean vol": 5724444.203929,
           "total pod vol": 44479449.723491,
           "value": 5724444.203929,
           "variable": "total bean vol"
          },
          {
           "pod listing vol": 37819221.832261,
           "pod order vol": 6660227.89123,
           "season": 6105,
           "timestamp": "2022-08-07T23:55:55",
           "total bean vol": 5724444.203929,
           "total pod vol": 44479449.723491,
           "value": 44479449.723491,
           "variable": "total pod vol"
          },
          {
           "pod listing vol": 37819221.832261,
           "pod order vol": 6660227.89123,
           "season": 6105,
           "timestamp": "2022-08-07T23:55:55",
           "total bean vol": 5724444.203929,
           "total pod vol": 44479449.723491,
           "value": 37819221.832261,
           "variable": "pod listing vol"
          },
          {
           "pod listing vol": 37819221.832261,
           "pod order vol": 6660227.89123,
           "season": 6105,
           "timestamp": "2022-08-07T23:55:55",
           "total bean vol": 5724444.203929,
           "total pod vol": 44479449.723491,
           "value": 6660227.89123,
           "variable": "pod order vol"
          },
          {
           "pod listing vol": 38017090.883594,
           "pod order vol": 6760227.89123,
           "season": 6129,
           "timestamp": "2022-08-08T23:42:31",
           "total bean vol": 5740915.615051,
           "total pod vol": 44777318.774824,
           "value": 38017090.883594,
           "variable": "pod listing vol"
          },
          {
           "pod listing vol": 38017090.883594,
           "pod order vol": 6760227.89123,
           "season": 6129,
           "timestamp": "2022-08-08T23:42:31",
           "total bean vol": 5740915.615051,
           "total pod vol": 44777318.774824,
           "value": 6760227.89123,
           "variable": "pod order vol"
          },
          {
           "pod listing vol": 38017090.883594,
           "pod order vol": 6760227.89123,
           "season": 6129,
           "timestamp": "2022-08-08T23:42:31",
           "total bean vol": 5740915.615051,
           "total pod vol": 44777318.774824,
           "value": 5740915.615051,
           "variable": "total bean vol"
          },
          {
           "pod listing vol": 38017090.883594,
           "pod order vol": 6760227.89123,
           "season": 6129,
           "timestamp": "2022-08-08T23:42:31",
           "total bean vol": 5740915.615051,
           "total pod vol": 44777318.774824,
           "value": 44777318.774824,
           "variable": "total pod vol"
          },
          {
           "pod listing vol": 38370466.500347,
           "pod order vol": 6760227.89123,
           "season": 6153,
           "timestamp": "2022-08-09T22:03:35",
           "total bean vol": 5764628.838297,
           "total pod vol": 45130694.391577,
           "value": 45130694.391577,
           "variable": "total pod vol"
          },
          {
           "pod listing vol": 38370466.500347,
           "pod order vol": 6760227.89123,
           "season": 6153,
           "timestamp": "2022-08-09T22:03:35",
           "total bean vol": 5764628.838297,
           "total pod vol": 45130694.391577,
           "value": 38370466.500347,
           "variable": "pod listing vol"
          },
          {
           "pod listing vol": 38370466.500347,
           "pod order vol": 6760227.89123,
           "season": 6153,
           "timestamp": "2022-08-09T22:03:35",
           "total bean vol": 5764628.838297,
           "total pod vol": 45130694.391577,
           "value": 6760227.89123,
           "variable": "pod order vol"
          },
          {
           "pod listing vol": 38370466.500347,
           "pod order vol": 6760227.89123,
           "season": 6153,
           "timestamp": "2022-08-09T22:03:35",
           "total bean vol": 5764628.838297,
           "total pod vol": 45130694.391577,
           "value": 5764628.838297,
           "variable": "total bean vol"
          },
          {
           "pod listing vol": 38472678.154532,
           "pod order vol": 6760227.89123,
           "season": 6177,
           "timestamp": "2022-08-10T20:40:12",
           "total bean vol": 5775029.882493,
           "total pod vol": 45232906.045762,
           "value": 5775029.882493,
           "variable": "total bean vol"
          },
          {
           "pod listing vol": 38472678.154532,
           "pod order vol": 6760227.89123,
           "season": 6177,
           "timestamp": "2022-08-10T20:40:12",
           "total bean vol": 5775029.882493,
           "total pod vol": 45232906.045762,
           "value": 45232906.045762,
           "variable": "total pod vol"
          },
          {
           "pod listing vol": 38472678.154532,
           "pod order vol": 6760227.89123,
           "season": 6177,
           "timestamp": "2022-08-10T20:40:12",
           "total bean vol": 5775029.882493,
           "total pod vol": 45232906.045762,
           "value": 38472678.154532,
           "variable": "pod listing vol"
          },
          {
           "pod listing vol": 38472678.154532,
           "pod order vol": 6760227.89123,
           "season": 6177,
           "timestamp": "2022-08-10T20:40:12",
           "total bean vol": 5775029.882493,
           "total pod vol": 45232906.045762,
           "value": 6760227.89123,
           "variable": "pod order vol"
          },
          {
           "pod listing vol": 38504134.101695,
           "pod order vol": 6760227.89123,
           "season": 6201,
           "timestamp": "2022-08-11T15:07:22",
           "total bean vol": 5775908.494575,
           "total pod vol": 45264361.992925,
           "value": 5775908.494575,
           "variable": "total bean vol"
          },
          {
           "pod listing vol": 38504134.101695,
           "pod order vol": 6760227.89123,
           "season": 6201,
           "timestamp": "2022-08-11T15:07:22",
           "total bean vol": 5775908.494575,
           "total pod vol": 45264361.992925,
           "value": 45264361.992925,
           "variable": "total pod vol"
          },
          {
           "pod listing vol": 38504134.101695,
           "pod order vol": 6760227.89123,
           "season": 6201,
           "timestamp": "2022-08-11T15:07:22",
           "total bean vol": 5775908.494575,
           "total pod vol": 45264361.992925,
           "value": 38504134.101695,
           "variable": "pod listing vol"
          },
          {
           "pod listing vol": 38504134.101695,
           "pod order vol": 6760227.89123,
           "season": 6201,
           "timestamp": "2022-08-11T15:07:22",
           "total bean vol": 5775908.494575,
           "total pod vol": 45264361.992925,
           "value": 6760227.89123,
           "variable": "pod order vol"
          },
          {
           "pod listing vol": 38524497.88974,
           "pod order vol": 6760227.89123,
           "season": 6225,
           "timestamp": "2022-08-12T21:15:05",
           "total bean vol": 5777847.559092,
           "total pod vol": 45284725.78097,
           "value": 5777847.559092,
           "variable": "total bean vol"
          },
          {
           "pod listing vol": 38524497.88974,
           "pod order vol": 6760227.89123,
           "season": 6225,
           "timestamp": "2022-08-12T21:15:05",
           "total bean vol": 5777847.559092,
           "total pod vol": 45284725.78097,
           "value": 45284725.78097,
           "variable": "total pod vol"
          },
          {
           "pod listing vol": 38524497.88974,
           "pod order vol": 6760227.89123,
           "season": 6225,
           "timestamp": "2022-08-12T21:15:05",
           "total bean vol": 5777847.559092,
           "total pod vol": 45284725.78097,
           "value": 38524497.88974,
           "variable": "pod listing vol"
          },
          {
           "pod listing vol": 38524497.88974,
           "pod order vol": 6760227.89123,
           "season": 6225,
           "timestamp": "2022-08-12T21:15:05",
           "total bean vol": 5777847.559092,
           "total pod vol": 45284725.78097,
           "value": 6760227.89123,
           "variable": "pod order vol"
          },
          {
           "pod listing vol": 38544497.88974,
           "pod order vol": 6891065.483696,
           "season": 6249,
           "timestamp": "2022-08-13T19:43:05",
           "total bean vol": 5792660.378526,
           "total pod vol": 45435563.373436,
           "value": 38544497.88974,
           "variable": "pod listing vol"
          },
          {
           "pod listing vol": 38544497.88974,
           "pod order vol": 6891065.483696,
           "season": 6249,
           "timestamp": "2022-08-13T19:43:05",
           "total bean vol": 5792660.378526,
           "total pod vol": 45435563.373436,
           "value": 6891065.483696,
           "variable": "pod order vol"
          },
          {
           "pod listing vol": 38544497.88974,
           "pod order vol": 6891065.483696,
           "season": 6249,
           "timestamp": "2022-08-13T19:43:05",
           "total bean vol": 5792660.378526,
           "total pod vol": 45435563.373436,
           "value": 5792660.378526,
           "variable": "total bean vol"
          },
          {
           "pod listing vol": 38544497.88974,
           "pod order vol": 6891065.483696,
           "season": 6249,
           "timestamp": "2022-08-13T19:43:05",
           "total bean vol": 5792660.378526,
           "total pod vol": 45435563.373436,
           "value": 45435563.373436,
           "variable": "total pod vol"
          },
          {
           "pod listing vol": 38544497.88974,
           "pod order vol": 6971306.670238,
           "season": 6273,
           "timestamp": "2022-08-14T23:27:12",
           "total bean vol": 5798277.261583,
           "total pod vol": 45515804.559978,
           "value": 38544497.88974,
           "variable": "pod listing vol"
          },
          {
           "pod listing vol": 38544497.88974,
           "pod order vol": 6971306.670238,
           "season": 6273,
           "timestamp": "2022-08-14T23:27:12",
           "total bean vol": 5798277.261583,
           "total pod vol": 45515804.559978,
           "value": 6971306.670238,
           "variable": "pod order vol"
          },
          {
           "pod listing vol": 38544497.88974,
           "pod order vol": 6971306.670238,
           "season": 6273,
           "timestamp": "2022-08-14T23:27:12",
           "total bean vol": 5798277.261583,
           "total pod vol": 45515804.559978,
           "value": 5798277.261583,
           "variable": "total bean vol"
          },
          {
           "pod listing vol": 38544497.88974,
           "pod order vol": 6971306.670238,
           "season": 6273,
           "timestamp": "2022-08-14T23:27:12",
           "total bean vol": 5798277.261583,
           "total pod vol": 45515804.559978,
           "value": 45515804.559978,
           "variable": "total pod vol"
          },
          {
           "pod listing vol": 38576407.890728,
           "pod order vol": 7505623.884586,
           "season": 6297,
           "timestamp": "2022-08-15T20:47:37",
           "total bean vol": 5812134.521313,
           "total pod vol": 46082031.775314,
           "value": 46082031.775314,
           "variable": "total pod vol"
          },
          {
           "pod listing vol": 38576407.890728,
           "pod order vol": 7505623.884586,
           "season": 6297,
           "timestamp": "2022-08-15T20:47:37",
           "total bean vol": 5812134.521313,
           "total pod vol": 46082031.775314,
           "value": 5812134.521313,
           "variable": "total bean vol"
          },
          {
           "pod listing vol": 38576407.890728,
           "pod order vol": 7505623.884586,
           "season": 6297,
           "timestamp": "2022-08-15T20:47:37",
           "total bean vol": 5812134.521313,
           "total pod vol": 46082031.775314,
           "value": 38576407.890728,
           "variable": "pod listing vol"
          },
          {
           "pod listing vol": 38576407.890728,
           "pod order vol": 7505623.884586,
           "season": 6297,
           "timestamp": "2022-08-15T20:47:37",
           "total bean vol": 5812134.521313,
           "total pod vol": 46082031.775314,
           "value": 7505623.884586,
           "variable": "pod order vol"
          },
          {
           "pod listing vol": 38727941.126168,
           "pod order vol": 7505623.884586,
           "season": 6321,
           "timestamp": "2022-08-16T21:36:48",
           "total bean vol": 5815922.852199,
           "total pod vol": 46233565.010754,
           "value": 46233565.010754,
           "variable": "total pod vol"
          },
          {
           "pod listing vol": 38727941.126168,
           "pod order vol": 7505623.884586,
           "season": 6321,
           "timestamp": "2022-08-16T21:36:48",
           "total bean vol": 5815922.852199,
           "total pod vol": 46233565.010754,
           "value": 38727941.126168,
           "variable": "pod listing vol"
          },
          {
           "pod listing vol": 38727941.126168,
           "pod order vol": 7505623.884586,
           "season": 6321,
           "timestamp": "2022-08-16T21:36:48",
           "total bean vol": 5815922.852199,
           "total pod vol": 46233565.010754,
           "value": 7505623.884586,
           "variable": "pod order vol"
          },
          {
           "pod listing vol": 38727941.126168,
           "pod order vol": 7505623.884586,
           "season": 6321,
           "timestamp": "2022-08-16T21:36:48",
           "total bean vol": 5815922.852199,
           "total pod vol": 46233565.010754,
           "value": 5815922.852199,
           "variable": "total bean vol"
          },
          {
           "pod listing vol": 38754831.185449,
           "pod order vol": 7505623.884586,
           "season": 6345,
           "timestamp": "2022-08-17T23:59:42",
           "total bean vol": 5822109.594138,
           "total pod vol": 46260455.070035,
           "value": 46260455.070035,
           "variable": "total pod vol"
          },
          {
           "pod listing vol": 38754831.185449,
           "pod order vol": 7505623.884586,
           "season": 6345,
           "timestamp": "2022-08-17T23:59:42",
           "total bean vol": 5822109.594138,
           "total pod vol": 46260455.070035,
           "value": 5822109.594138,
           "variable": "total bean vol"
          },
          {
           "pod listing vol": 38754831.185449,
           "pod order vol": 7505623.884586,
           "season": 6345,
           "timestamp": "2022-08-17T23:59:42",
           "total bean vol": 5822109.594138,
           "total pod vol": 46260455.070035,
           "value": 38754831.185449,
           "variable": "pod listing vol"
          },
          {
           "pod listing vol": 38754831.185449,
           "pod order vol": 7505623.884586,
           "season": 6345,
           "timestamp": "2022-08-17T23:59:42",
           "total bean vol": 5822109.594138,
           "total pod vol": 46260455.070035,
           "value": 7505623.884586,
           "variable": "pod order vol"
          },
          {
           "pod listing vol": 38764831.185449,
           "pod order vol": 7517130.699386,
           "season": 6369,
           "timestamp": "2022-08-18T21:14:11",
           "total bean vol": 5829200.003026,
           "total pod vol": 46281961.884835,
           "value": 38764831.185449,
           "variable": "pod listing vol"
          },
          {
           "pod listing vol": 38764831.185449,
           "pod order vol": 7517130.699386,
           "season": 6369,
           "timestamp": "2022-08-18T21:14:11",
           "total bean vol": 5829200.003026,
           "total pod vol": 46281961.884835,
           "value": 7517130.699386,
           "variable": "pod order vol"
          },
          {
           "pod listing vol": 38764831.185449,
           "pod order vol": 7517130.699386,
           "season": 6369,
           "timestamp": "2022-08-18T21:14:11",
           "total bean vol": 5829200.003026,
           "total pod vol": 46281961.884835,
           "value": 5829200.003026,
           "variable": "total bean vol"
          },
          {
           "pod listing vol": 38764831.185449,
           "pod order vol": 7517130.699386,
           "season": 6369,
           "timestamp": "2022-08-18T21:14:11",
           "total bean vol": 5829200.003026,
           "total pod vol": 46281961.884835,
           "value": 46281961.884835,
           "variable": "total pod vol"
          },
          {
           "pod listing vol": 38785331.03356,
           "pod order vol": 7517130.699386,
           "season": 6393,
           "timestamp": "2022-08-19T18:37:30",
           "total bean vol": 5829719.72145,
           "total pod vol": 46302461.732946,
           "value": 46302461.732946,
           "variable": "total pod vol"
          },
          {
           "pod listing vol": 38785331.03356,
           "pod order vol": 7517130.699386,
           "season": 6393,
           "timestamp": "2022-08-19T18:37:30",
           "total bean vol": 5829719.72145,
           "total pod vol": 46302461.732946,
           "value": 38785331.03356,
           "variable": "pod listing vol"
          },
          {
           "pod listing vol": 38785331.03356,
           "pod order vol": 7517130.699386,
           "season": 6393,
           "timestamp": "2022-08-19T18:37:30",
           "total bean vol": 5829719.72145,
           "total pod vol": 46302461.732946,
           "value": 7517130.699386,
           "variable": "pod order vol"
          },
          {
           "pod listing vol": 38785331.03356,
           "pod order vol": 7517130.699386,
           "season": 6393,
           "timestamp": "2022-08-19T18:37:30",
           "total bean vol": 5829719.72145,
           "total pod vol": 46302461.732946,
           "value": 5829719.72145,
           "variable": "total bean vol"
          },
          {
           "pod listing vol": 38785647.865697,
           "pod order vol": 7535745.565486,
           "season": 6417,
           "timestamp": "2022-08-20T19:12:47",
           "total bean vol": 5831090.079125,
           "total pod vol": 46321393.431183,
           "value": 38785647.865697,
           "variable": "pod listing vol"
          },
          {
           "pod listing vol": 38785647.865697,
           "pod order vol": 7535745.565486,
           "season": 6417,
           "timestamp": "2022-08-20T19:12:47",
           "total bean vol": 5831090.079125,
           "total pod vol": 46321393.431183,
           "value": 7535745.565486,
           "variable": "pod order vol"
          },
          {
           "pod listing vol": 38785647.865697,
           "pod order vol": 7535745.565486,
           "season": 6417,
           "timestamp": "2022-08-20T19:12:47",
           "total bean vol": 5831090.079125,
           "total pod vol": 46321393.431183,
           "value": 5831090.079125,
           "variable": "total bean vol"
          },
          {
           "pod listing vol": 38785647.865697,
           "pod order vol": 7535745.565486,
           "season": 6417,
           "timestamp": "2022-08-20T19:12:47",
           "total bean vol": 5831090.079125,
           "total pod vol": 46321393.431183,
           "value": 46321393.431183,
           "variable": "total pod vol"
          },
          {
           "pod listing vol": 38797290.400573,
           "pod order vol": 8319491.078891,
           "season": 6441,
           "timestamp": "2022-08-21T20:52:07",
           "total bean vol": 5871534.658788,
           "total pod vol": 47116781.479464,
           "value": 5871534.658788,
           "variable": "total bean vol"
          },
          {
           "pod listing vol": 38797290.400573,
           "pod order vol": 8319491.078891,
           "season": 6441,
           "timestamp": "2022-08-21T20:52:07",
           "total bean vol": 5871534.658788,
           "total pod vol": 47116781.479464,
           "value": 47116781.479464,
           "variable": "total pod vol"
          },
          {
           "pod listing vol": 38797290.400573,
           "pod order vol": 8319491.078891,
           "season": 6441,
           "timestamp": "2022-08-21T20:52:07",
           "total bean vol": 5871534.658788,
           "total pod vol": 47116781.479464,
           "value": 38797290.400573,
           "variable": "pod listing vol"
          },
          {
           "pod listing vol": 38797290.400573,
           "pod order vol": 8319491.078891,
           "season": 6441,
           "timestamp": "2022-08-21T20:52:07",
           "total bean vol": 5871534.658788,
           "total pod vol": 47116781.479464,
           "value": 8319491.078891,
           "variable": "pod order vol"
          },
          {
           "pod listing vol": 38805699.948575,
           "pod order vol": 8319491.078891,
           "season": 6465,
           "timestamp": "2022-08-22T19:15:39",
           "total bean vol": 5871760.268863,
           "total pod vol": 47125191.027466,
           "value": 47125191.027466,
           "variable": "total pod vol"
          },
          {
           "pod listing vol": 38805699.948575,
           "pod order vol": 8319491.078891,
           "season": 6465,
           "timestamp": "2022-08-22T19:15:39",
           "total bean vol": 5871760.268863,
           "total pod vol": 47125191.027466,
           "value": 5871760.268863,
           "variable": "total bean vol"
          },
          {
           "pod listing vol": 38805699.948575,
           "pod order vol": 8319491.078891,
           "season": 6465,
           "timestamp": "2022-08-22T19:15:39",
           "total bean vol": 5871760.268863,
           "total pod vol": 47125191.027466,
           "value": 8319491.078891,
           "variable": "pod order vol"
          },
          {
           "pod listing vol": 38805699.948575,
           "pod order vol": 8319491.078891,
           "season": 6465,
           "timestamp": "2022-08-22T19:15:39",
           "total bean vol": 5871760.268863,
           "total pod vol": 47125191.027466,
           "value": 38805699.948575,
           "variable": "pod listing vol"
          },
          {
           "pod listing vol": 38841200.669627,
           "pod order vol": 8328519.436816,
           "season": 6489,
           "timestamp": "2022-08-23T22:13:59",
           "total bean vol": 5879123.931267,
           "total pod vol": 47169720.106443,
           "value": 38841200.669627,
           "variable": "pod listing vol"
          },
          {
           "pod listing vol": 38841200.669627,
           "pod order vol": 8328519.436816,
           "season": 6489,
           "timestamp": "2022-08-23T22:13:59",
           "total bean vol": 5879123.931267,
           "total pod vol": 47169720.106443,
           "value": 8328519.436816,
           "variable": "pod order vol"
          },
          {
           "pod listing vol": 38841200.669627,
           "pod order vol": 8328519.436816,
           "season": 6489,
           "timestamp": "2022-08-23T22:13:59",
           "total bean vol": 5879123.931267,
           "total pod vol": 47169720.106443,
           "value": 5879123.931267,
           "variable": "total bean vol"
          },
          {
           "pod listing vol": 38841200.669627,
           "pod order vol": 8328519.436816,
           "season": 6489,
           "timestamp": "2022-08-23T22:13:59",
           "total bean vol": 5879123.931267,
           "total pod vol": 47169720.106443,
           "value": 47169720.106443,
           "variable": "total pod vol"
          },
          {
           "pod listing vol": 38869527.228707,
           "pod order vol": 8562692.748482,
           "season": 6513,
           "timestamp": "2022-08-24T17:57:05",
           "total bean vol": 5890369.894268,
           "total pod vol": 47432219.977189,
           "value": 5890369.894268,
           "variable": "total bean vol"
          },
          {
           "pod listing vol": 38869527.228707,
           "pod order vol": 8562692.748482,
           "season": 6513,
           "timestamp": "2022-08-24T17:57:05",
           "total bean vol": 5890369.894268,
           "total pod vol": 47432219.977189,
           "value": 47432219.977189,
           "variable": "total pod vol"
          },
          {
           "pod listing vol": 38869527.228707,
           "pod order vol": 8562692.748482,
           "season": 6513,
           "timestamp": "2022-08-24T17:57:05",
           "total bean vol": 5890369.894268,
           "total pod vol": 47432219.977189,
           "value": 38869527.228707,
           "variable": "pod listing vol"
          },
          {
           "pod listing vol": 38869527.228707,
           "pod order vol": 8562692.748482,
           "season": 6513,
           "timestamp": "2022-08-24T17:57:05",
           "total bean vol": 5890369.894268,
           "total pod vol": 47432219.977189,
           "value": 8562692.748482,
           "variable": "pod order vol"
          },
          {
           "pod listing vol": 39197571.141752,
           "pod order vol": 8562692.748482,
           "season": 6537,
           "timestamp": "2022-08-25T20:37:09",
           "total bean vol": 5898843.737466,
           "total pod vol": 47760263.890234,
           "value": 39197571.141752,
           "variable": "pod listing vol"
          },
          {
           "pod listing vol": 39197571.141752,
           "pod order vol": 8562692.748482,
           "season": 6537,
           "timestamp": "2022-08-25T20:37:09",
           "total bean vol": 5898843.737466,
           "total pod vol": 47760263.890234,
           "value": 8562692.748482,
           "variable": "pod order vol"
          },
          {
           "pod listing vol": 39197571.141752,
           "pod order vol": 8562692.748482,
           "season": 6537,
           "timestamp": "2022-08-25T20:37:09",
           "total bean vol": 5898843.737466,
           "total pod vol": 47760263.890234,
           "value": 5898843.737466,
           "variable": "total bean vol"
          },
          {
           "pod listing vol": 39197571.141752,
           "pod order vol": 8562692.748482,
           "season": 6537,
           "timestamp": "2022-08-25T20:37:09",
           "total bean vol": 5898843.737466,
           "total pod vol": 47760263.890234,
           "value": 47760263.890234,
           "variable": "total pod vol"
          },
          {
           "pod listing vol": 39205629.570921,
           "pod order vol": 8774468.193651,
           "season": 6561,
           "timestamp": "2022-08-26T18:16:39",
           "total bean vol": 5908075.472453,
           "total pod vol": 47980097.764572,
           "value": 39205629.570921,
           "variable": "pod listing vol"
          },
          {
           "pod listing vol": 39205629.570921,
           "pod order vol": 8774468.193651,
           "season": 6561,
           "timestamp": "2022-08-26T18:16:39",
           "total bean vol": 5908075.472453,
           "total pod vol": 47980097.764572,
           "value": 8774468.193651,
           "variable": "pod order vol"
          },
          {
           "pod listing vol": 39205629.570921,
           "pod order vol": 8774468.193651,
           "season": 6561,
           "timestamp": "2022-08-26T18:16:39",
           "total bean vol": 5908075.472453,
           "total pod vol": 47980097.764572,
           "value": 5908075.472453,
           "variable": "total bean vol"
          },
          {
           "pod listing vol": 39205629.570921,
           "pod order vol": 8774468.193651,
           "season": 6561,
           "timestamp": "2022-08-26T18:16:39",
           "total bean vol": 5908075.472453,
           "total pod vol": 47980097.764572,
           "value": 47980097.764572,
           "variable": "total pod vol"
          },
          {
           "pod listing vol": 39205629.570921,
           "pod order vol": 8774468.193651,
           "season": 6585,
           "timestamp": "2022-08-27T22:21:45",
           "total bean vol": 5908075.472453,
           "total pod vol": 47980097.764572,
           "value": 5908075.472453,
           "variable": "total bean vol"
          },
          {
           "pod listing vol": 39205629.570921,
           "pod order vol": 8774468.193651,
           "season": 6585,
           "timestamp": "2022-08-27T22:21:45",
           "total bean vol": 5908075.472453,
           "total pod vol": 47980097.764572,
           "value": 47980097.764572,
           "variable": "total pod vol"
          },
          {
           "pod listing vol": 39205629.570921,
           "pod order vol": 8774468.193651,
           "season": 6585,
           "timestamp": "2022-08-27T22:21:45",
           "total bean vol": 5908075.472453,
           "total pod vol": 47980097.764572,
           "value": 8774468.193651,
           "variable": "pod order vol"
          },
          {
           "pod listing vol": 39205629.570921,
           "pod order vol": 8774468.193651,
           "season": 6585,
           "timestamp": "2022-08-27T22:21:45",
           "total bean vol": 5908075.472453,
           "total pod vol": 47980097.764572,
           "value": 39205629.570921,
           "variable": "pod listing vol"
          },
          {
           "pod listing vol": 39374836.054937,
           "pod order vol": 8828496.551576,
           "season": 6609,
           "timestamp": "2022-08-28T21:20:19",
           "total bean vol": 5920536.240183,
           "total pod vol": 48203332.606513,
           "value": 39374836.054937,
           "variable": "pod listing vol"
          },
          {
           "pod listing vol": 39374836.054937,
           "pod order vol": 8828496.551576,
           "season": 6609,
           "timestamp": "2022-08-28T21:20:19",
           "total bean vol": 5920536.240183,
           "total pod vol": 48203332.606513,
           "value": 8828496.551576,
           "variable": "pod order vol"
          },
          {
           "pod listing vol": 39374836.054937,
           "pod order vol": 8828496.551576,
           "season": 6609,
           "timestamp": "2022-08-28T21:20:19",
           "total bean vol": 5920536.240183,
           "total pod vol": 48203332.606513,
           "value": 5920536.240183,
           "variable": "total bean vol"
          },
          {
           "pod listing vol": 39374836.054937,
           "pod order vol": 8828496.551576,
           "season": 6609,
           "timestamp": "2022-08-28T21:20:19",
           "total bean vol": 5920536.240183,
           "total pod vol": 48203332.606513,
           "value": 48203332.606513,
           "variable": "total pod vol"
          },
          {
           "pod listing vol": 39374836.054937,
           "pod order vol": 8828496.551576,
           "season": 6633,
           "timestamp": "2022-08-29T19:10:29",
           "total bean vol": 5920536.240183,
           "total pod vol": 48203332.606513,
           "value": 39374836.054937,
           "variable": "pod listing vol"
          },
          {
           "pod listing vol": 39374836.054937,
           "pod order vol": 8828496.551576,
           "season": 6633,
           "timestamp": "2022-08-29T19:10:29",
           "total bean vol": 5920536.240183,
           "total pod vol": 48203332.606513,
           "value": 8828496.551576,
           "variable": "pod order vol"
          },
          {
           "pod listing vol": 39374836.054937,
           "pod order vol": 8828496.551576,
           "season": 6633,
           "timestamp": "2022-08-29T19:10:29",
           "total bean vol": 5920536.240183,
           "total pod vol": 48203332.606513,
           "value": 5920536.240183,
           "variable": "total bean vol"
          },
          {
           "pod listing vol": 39374836.054937,
           "pod order vol": 8828496.551576,
           "season": 6633,
           "timestamp": "2022-08-29T19:10:29",
           "total bean vol": 5920536.240183,
           "total pod vol": 48203332.606513,
           "value": 48203332.606513,
           "variable": "total pod vol"
          },
          {
           "pod listing vol": 39559791.500646,
           "pod order vol": 8828496.551576,
           "season": 6657,
           "timestamp": "2022-08-30T21:42:52",
           "total bean vol": 5926723.589487,
           "total pod vol": 48388288.052222,
           "value": 48388288.052222,
           "variable": "total pod vol"
          },
          {
           "pod listing vol": 39559791.500646,
           "pod order vol": 8828496.551576,
           "season": 6657,
           "timestamp": "2022-08-30T21:42:52",
           "total bean vol": 5926723.589487,
           "total pod vol": 48388288.052222,
           "value": 39559791.500646,
           "variable": "pod listing vol"
          },
          {
           "pod listing vol": 39559791.500646,
           "pod order vol": 8828496.551576,
           "season": 6657,
           "timestamp": "2022-08-30T21:42:52",
           "total bean vol": 5926723.589487,
           "total pod vol": 48388288.052222,
           "value": 8828496.551576,
           "variable": "pod order vol"
          },
          {
           "pod listing vol": 39559791.500646,
           "pod order vol": 8828496.551576,
           "season": 6657,
           "timestamp": "2022-08-30T21:42:52",
           "total bean vol": 5926723.589487,
           "total pod vol": 48388288.052222,
           "value": 5926723.589487,
           "variable": "total bean vol"
          },
          {
           "pod listing vol": 39563744.218304,
           "pod order vol": 8945914.629593,
           "season": 6681,
           "timestamp": "2022-08-31T19:13:00",
           "total bean vol": 5932732.765019,
           "total pod vol": 48509658.847897,
           "value": 5932732.765019,
           "variable": "total bean vol"
          },
          {
           "pod listing vol": 39563744.218304,
           "pod order vol": 8945914.629593,
           "season": 6681,
           "timestamp": "2022-08-31T19:13:00",
           "total bean vol": 5932732.765019,
           "total pod vol": 48509658.847897,
           "value": 48509658.847897,
           "variable": "total pod vol"
          },
          {
           "pod listing vol": 39563744.218304,
           "pod order vol": 8945914.629593,
           "season": 6681,
           "timestamp": "2022-08-31T19:13:00",
           "total bean vol": 5932732.765019,
           "total pod vol": 48509658.847897,
           "value": 39563744.218304,
           "variable": "pod listing vol"
          },
          {
           "pod listing vol": 39563744.218304,
           "pod order vol": 8945914.629593,
           "season": 6681,
           "timestamp": "2022-08-31T19:13:00",
           "total bean vol": 5932732.765019,
           "total pod vol": 48509658.847897,
           "value": 8945914.629593,
           "variable": "pod order vol"
          },
          {
           "pod listing vol": 39775053.195434,
           "pod order vol": 8945914.629593,
           "season": 6705,
           "timestamp": "2022-09-01T22:03:59",
           "total bean vol": 5938544.671492,
           "total pod vol": 48720967.825027,
           "value": 48720967.825027,
           "variable": "total pod vol"
          },
          {
           "pod listing vol": 39775053.195434,
           "pod order vol": 8945914.629593,
           "season": 6705,
           "timestamp": "2022-09-01T22:03:59",
           "total bean vol": 5938544.671492,
           "total pod vol": 48720967.825027,
           "value": 5938544.671492,
           "variable": "total bean vol"
          },
          {
           "pod listing vol": 39775053.195434,
           "pod order vol": 8945914.629593,
           "season": 6705,
           "timestamp": "2022-09-01T22:03:59",
           "total bean vol": 5938544.671492,
           "total pod vol": 48720967.825027,
           "value": 8945914.629593,
           "variable": "pod order vol"
          },
          {
           "pod listing vol": 39775053.195434,
           "pod order vol": 8945914.629593,
           "season": 6705,
           "timestamp": "2022-09-01T22:03:59",
           "total bean vol": 5938544.671492,
           "total pod vol": 48720967.825027,
           "value": 39775053.195434,
           "variable": "pod listing vol"
          },
          {
           "pod listing vol": 39907046.59378,
           "pod order vol": 9305163.623793,
           "season": 6729,
           "timestamp": "2022-09-02T23:47:18",
           "total bean vol": 5961509.885982,
           "total pod vol": 49212210.217573,
           "value": 39907046.59378,
           "variable": "pod listing vol"
          },
          {
           "pod listing vol": 39907046.59378,
           "pod order vol": 9305163.623793,
           "season": 6729,
           "timestamp": "2022-09-02T23:47:18",
           "total bean vol": 5961509.885982,
           "total pod vol": 49212210.217573,
           "value": 9305163.623793,
           "variable": "pod order vol"
          },
          {
           "pod listing vol": 39907046.59378,
           "pod order vol": 9305163.623793,
           "season": 6729,
           "timestamp": "2022-09-02T23:47:18",
           "total bean vol": 5961509.885982,
           "total pod vol": 49212210.217573,
           "value": 5961509.885982,
           "variable": "total bean vol"
          },
          {
           "pod listing vol": 39907046.59378,
           "pod order vol": 9305163.623793,
           "season": 6729,
           "timestamp": "2022-09-02T23:47:18",
           "total bean vol": 5961509.885982,
           "total pod vol": 49212210.217573,
           "value": 49212210.217573,
           "variable": "total pod vol"
          },
          {
           "pod listing vol": 39983615.967615,
           "pod order vol": 9305163.623793,
           "season": 6753,
           "timestamp": "2022-09-03T18:07:54",
           "total bean vol": 5963802.824855,
           "total pod vol": 49288779.591408,
           "value": 5963802.824855,
           "variable": "total bean vol"
          },
          {
           "pod listing vol": 39983615.967615,
           "pod order vol": 9305163.623793,
           "season": 6753,
           "timestamp": "2022-09-03T18:07:54",
           "total bean vol": 5963802.824855,
           "total pod vol": 49288779.591408,
           "value": 49288779.591408,
           "variable": "total pod vol"
          },
          {
           "pod listing vol": 39983615.967615,
           "pod order vol": 9305163.623793,
           "season": 6753,
           "timestamp": "2022-09-03T18:07:54",
           "total bean vol": 5963802.824855,
           "total pod vol": 49288779.591408,
           "value": 39983615.967615,
           "variable": "pod listing vol"
          },
          {
           "pod listing vol": 39983615.967615,
           "pod order vol": 9305163.623793,
           "season": 6753,
           "timestamp": "2022-09-03T18:07:54",
           "total bean vol": 5963802.824855,
           "total pod vol": 49288779.591408,
           "value": 9305163.623793,
           "variable": "pod order vol"
          },
          {
           "pod listing vol": 39986390.287911,
           "pod order vol": 9364077.373793,
           "season": 6777,
           "timestamp": "2022-09-04T10:06:51",
           "total bean vol": 5970838.315433,
           "total pod vol": 49350467.661704,
           "value": 39986390.287911,
           "variable": "pod listing vol"
          },
          {
           "pod listing vol": 39986390.287911,
           "pod order vol": 9364077.373793,
           "season": 6777,
           "timestamp": "2022-09-04T10:06:51",
           "total bean vol": 5970838.315433,
           "total pod vol": 49350467.661704,
           "value": 9364077.373793,
           "variable": "pod order vol"
          },
          {
           "pod listing vol": 39986390.287911,
           "pod order vol": 9364077.373793,
           "season": 6777,
           "timestamp": "2022-09-04T10:06:51",
           "total bean vol": 5970838.315433,
           "total pod vol": 49350467.661704,
           "value": 5970838.315433,
           "variable": "total bean vol"
          },
          {
           "pod listing vol": 39986390.287911,
           "pod order vol": 9364077.373793,
           "season": 6777,
           "timestamp": "2022-09-04T10:06:51",
           "total bean vol": 5970838.315433,
           "total pod vol": 49350467.661704,
           "value": 49350467.661704,
           "variable": "total pod vol"
          },
          {
           "pod listing vol": 39986390.287911,
           "pod order vol": 9364077.373793,
           "season": 6801,
           "timestamp": "2022-09-05T14:43:36",
           "total bean vol": 5970838.315433,
           "total pod vol": 49350467.661704,
           "value": 39986390.287911,
           "variable": "pod listing vol"
          },
          {
           "pod listing vol": 39986390.287911,
           "pod order vol": 9364077.373793,
           "season": 6801,
           "timestamp": "2022-09-05T14:43:36",
           "total bean vol": 5970838.315433,
           "total pod vol": 49350467.661704,
           "value": 9364077.373793,
           "variable": "pod order vol"
          },
          {
           "pod listing vol": 39986390.287911,
           "pod order vol": 9364077.373793,
           "season": 6801,
           "timestamp": "2022-09-05T14:43:36",
           "total bean vol": 5970838.315433,
           "total pod vol": 49350467.661704,
           "value": 5970838.315433,
           "variable": "total bean vol"
          },
          {
           "pod listing vol": 39986390.287911,
           "pod order vol": 9364077.373793,
           "season": 6801,
           "timestamp": "2022-09-05T14:43:36",
           "total bean vol": 5970838.315433,
           "total pod vol": 49350467.661704,
           "value": 49350467.661704,
           "variable": "total pod vol"
          },
          {
           "pod listing vol": 40140737.158231,
           "pod order vol": 9398016.431338,
           "season": 6825,
           "timestamp": "2022-09-06T23:54:16",
           "total bean vol": 5979404.135387,
           "total pod vol": 49538753.589569,
           "value": 49538753.589569,
           "variable": "total pod vol"
          },
          {
           "pod listing vol": 40140737.158231,
           "pod order vol": 9398016.431338,
           "season": 6825,
           "timestamp": "2022-09-06T23:54:16",
           "total bean vol": 5979404.135387,
           "total pod vol": 49538753.589569,
           "value": 5979404.135387,
           "variable": "total bean vol"
          },
          {
           "pod listing vol": 40140737.158231,
           "pod order vol": 9398016.431338,
           "season": 6825,
           "timestamp": "2022-09-06T23:54:16",
           "total bean vol": 5979404.135387,
           "total pod vol": 49538753.589569,
           "value": 9398016.431338,
           "variable": "pod order vol"
          },
          {
           "pod listing vol": 40140737.158231,
           "pod order vol": 9398016.431338,
           "season": 6825,
           "timestamp": "2022-09-06T23:54:16",
           "total bean vol": 5979404.135387,
           "total pod vol": 49538753.589569,
           "value": 40140737.158231,
           "variable": "pod listing vol"
          },
          {
           "pod listing vol": 40227543.555723,
           "pod order vol": 9398016.431338,
           "season": 6849,
           "timestamp": "2022-09-07T21:23:47",
           "total bean vol": 5992824.42013,
           "total pod vol": 49625559.987061,
           "value": 40227543.555723,
           "variable": "pod listing vol"
          },
          {
           "pod listing vol": 40227543.555723,
           "pod order vol": 9398016.431338,
           "season": 6849,
           "timestamp": "2022-09-07T21:23:47",
           "total bean vol": 5992824.42013,
           "total pod vol": 49625559.987061,
           "value": 9398016.431338,
           "variable": "pod order vol"
          },
          {
           "pod listing vol": 40227543.555723,
           "pod order vol": 9398016.431338,
           "season": 6849,
           "timestamp": "2022-09-07T21:23:47",
           "total bean vol": 5992824.42013,
           "total pod vol": 49625559.987061,
           "value": 5992824.42013,
           "variable": "total bean vol"
          },
          {
           "pod listing vol": 40227543.555723,
           "pod order vol": 9398016.431338,
           "season": 6849,
           "timestamp": "2022-09-07T21:23:47",
           "total bean vol": 5992824.42013,
           "total pod vol": 49625559.987061,
           "value": 49625559.987061,
           "variable": "total pod vol"
          },
          {
           "pod listing vol": 40227543.555723,
           "pod order vol": 9462151.369958,
           "season": 6873,
           "timestamp": "2022-09-08T18:02:04",
           "total bean vol": 5995958.012221,
           "total pod vol": 49689694.925681,
           "value": 40227543.555723,
           "variable": "pod listing vol"
          },
          {
           "pod listing vol": 40227543.555723,
           "pod order vol": 9462151.369958,
           "season": 6873,
           "timestamp": "2022-09-08T18:02:04",
           "total bean vol": 5995958.012221,
           "total pod vol": 49689694.925681,
           "value": 9462151.369958,
           "variable": "pod order vol"
          },
          {
           "pod listing vol": 40227543.555723,
           "pod order vol": 9462151.369958,
           "season": 6873,
           "timestamp": "2022-09-08T18:02:04",
           "total bean vol": 5995958.012221,
           "total pod vol": 49689694.925681,
           "value": 5995958.012221,
           "variable": "total bean vol"
          },
          {
           "pod listing vol": 40227543.555723,
           "pod order vol": 9462151.369958,
           "season": 6873,
           "timestamp": "2022-09-08T18:02:04",
           "total bean vol": 5995958.012221,
           "total pod vol": 49689694.925681,
           "value": 49689694.925681,
           "variable": "total pod vol"
          },
          {
           "pod listing vol": 40227543.555723,
           "pod order vol": 9462151.369958,
           "season": 6897,
           "timestamp": "2022-09-09T13:47:07",
           "total bean vol": 5995958.012221,
           "total pod vol": 49689694.925681,
           "value": 49689694.925681,
           "variable": "total pod vol"
          },
          {
           "pod listing vol": 40227543.555723,
           "pod order vol": 9462151.369958,
           "season": 6897,
           "timestamp": "2022-09-09T13:47:07",
           "total bean vol": 5995958.012221,
           "total pod vol": 49689694.925681,
           "value": 5995958.012221,
           "variable": "total bean vol"
          },
          {
           "pod listing vol": 40227543.555723,
           "pod order vol": 9462151.369958,
           "season": 6897,
           "timestamp": "2022-09-09T13:47:07",
           "total bean vol": 5995958.012221,
           "total pod vol": 49689694.925681,
           "value": 40227543.555723,
           "variable": "pod listing vol"
          },
          {
           "pod listing vol": 40227543.555723,
           "pod order vol": 9462151.369958,
           "season": 6897,
           "timestamp": "2022-09-09T13:47:07",
           "total bean vol": 5995958.012221,
           "total pod vol": 49689694.925681,
           "value": 9462151.369958,
           "variable": "pod order vol"
          },
          {
           "pod listing vol": 40426854.261582,
           "pod order vol": 9492461.407908,
           "season": 6921,
           "timestamp": "2022-09-10T19:12:51",
           "total bean vol": 6018706.754343,
           "total pod vol": 49919315.66949,
           "value": 40426854.261582,
           "variable": "pod listing vol"
          },
          {
           "pod listing vol": 40426854.261582,
           "pod order vol": 9492461.407908,
           "season": 6921,
           "timestamp": "2022-09-10T19:12:51",
           "total bean vol": 6018706.754343,
           "total pod vol": 49919315.66949,
           "value": 9492461.407908,
           "variable": "pod order vol"
          },
          {
           "pod listing vol": 40426854.261582,
           "pod order vol": 9492461.407908,
           "season": 6921,
           "timestamp": "2022-09-10T19:12:51",
           "total bean vol": 6018706.754343,
           "total pod vol": 49919315.66949,
           "value": 6018706.754343,
           "variable": "total bean vol"
          },
          {
           "pod listing vol": 40426854.261582,
           "pod order vol": 9492461.407908,
           "season": 6921,
           "timestamp": "2022-09-10T19:12:51",
           "total bean vol": 6018706.754343,
           "total pod vol": 49919315.66949,
           "value": 49919315.66949,
           "variable": "total pod vol"
          },
          {
           "pod listing vol": 40426854.261582,
           "pod order vol": 9512151.369958,
           "season": 6945,
           "timestamp": "2022-09-11T15:38:49",
           "total bean vol": 6020675.750547,
           "total pod vol": 49939005.63154,
           "value": 49939005.63154,
           "variable": "total pod vol"
          },
          {
           "pod listing vol": 40426854.261582,
           "pod order vol": 9512151.369958,
           "season": 6945,
           "timestamp": "2022-09-11T15:38:49",
           "total bean vol": 6020675.750547,
           "total pod vol": 49939005.63154,
           "value": 6020675.750547,
           "variable": "total bean vol"
          },
          {
           "pod listing vol": 40426854.261582,
           "pod order vol": 9512151.369958,
           "season": 6945,
           "timestamp": "2022-09-11T15:38:49",
           "total bean vol": 6020675.750547,
           "total pod vol": 49939005.63154,
           "value": 9512151.369958,
           "variable": "pod order vol"
          },
          {
           "pod listing vol": 40426854.261582,
           "pod order vol": 9512151.369958,
           "season": 6945,
           "timestamp": "2022-09-11T15:38:49",
           "total bean vol": 6020675.750547,
           "total pod vol": 49939005.63154,
           "value": 40426854.261582,
           "variable": "pod listing vol"
          },
          {
           "pod listing vol": 40436960.607754,
           "pod order vol": 9517326.146238,
           "season": 6969,
           "timestamp": "2022-09-12T23:16:36",
           "total bean vol": 6021486.312213,
           "total pod vol": 49954286.753992,
           "value": 40436960.607754,
           "variable": "pod listing vol"
          },
          {
           "pod listing vol": 40436960.607754,
           "pod order vol": 9517326.146238,
           "season": 6969,
           "timestamp": "2022-09-12T23:16:36",
           "total bean vol": 6021486.312213,
           "total pod vol": 49954286.753992,
           "value": 9517326.146238,
           "variable": "pod order vol"
          },
          {
           "pod listing vol": 40436960.607754,
           "pod order vol": 9517326.146238,
           "season": 6969,
           "timestamp": "2022-09-12T23:16:36",
           "total bean vol": 6021486.312213,
           "total pod vol": 49954286.753992,
           "value": 6021486.312213,
           "variable": "total bean vol"
          },
          {
           "pod listing vol": 40436960.607754,
           "pod order vol": 9517326.146238,
           "season": 6969,
           "timestamp": "2022-09-12T23:16:36",
           "total bean vol": 6021486.312213,
           "total pod vol": 49954286.753992,
           "value": 49954286.753992,
           "variable": "total pod vol"
          },
          {
           "pod listing vol": 40436960.607754,
           "pod order vol": 9682871.67636,
           "season": 6993,
           "timestamp": "2022-09-13T21:35:30",
           "total bean vol": 6028119.504444,
           "total pod vol": 50119832.284114,
           "value": 40436960.607754,
           "variable": "pod listing vol"
          },
          {
           "pod listing vol": 40436960.607754,
           "pod order vol": 9682871.67636,
           "season": 6993,
           "timestamp": "2022-09-13T21:35:30",
           "total bean vol": 6028119.504444,
           "total pod vol": 50119832.284114,
           "value": 9682871.67636,
           "variable": "pod order vol"
          },
          {
           "pod listing vol": 40436960.607754,
           "pod order vol": 9682871.67636,
           "season": 6993,
           "timestamp": "2022-09-13T21:35:30",
           "total bean vol": 6028119.504444,
           "total pod vol": 50119832.284114,
           "value": 6028119.504444,
           "variable": "total bean vol"
          },
          {
           "pod listing vol": 40436960.607754,
           "pod order vol": 9682871.67636,
           "season": 6993,
           "timestamp": "2022-09-13T21:35:30",
           "total bean vol": 6028119.504444,
           "total pod vol": 50119832.284114,
           "value": 50119832.284114,
           "variable": "total pod vol"
          },
          {
           "pod listing vol": 40437440.898168,
           "pod order vol": 9682871.67636,
           "season": 7017,
           "timestamp": "2022-09-14T20:05:29",
           "total bean vol": 6028249.182855,
           "total pod vol": 50120312.574528,
           "value": 50120312.574528,
           "variable": "total pod vol"
          },
          {
           "pod listing vol": 40437440.898168,
           "pod order vol": 9682871.67636,
           "season": 7017,
           "timestamp": "2022-09-14T20:05:29",
           "total bean vol": 6028249.182855,
           "total pod vol": 50120312.574528,
           "value": 6028249.182855,
           "variable": "total bean vol"
          },
          {
           "pod listing vol": 40437440.898168,
           "pod order vol": 9682871.67636,
           "season": 7017,
           "timestamp": "2022-09-14T20:05:29",
           "total bean vol": 6028249.182855,
           "total pod vol": 50120312.574528,
           "value": 40437440.898168,
           "variable": "pod listing vol"
          },
          {
           "pod listing vol": 40437440.898168,
           "pod order vol": 9682871.67636,
           "season": 7017,
           "timestamp": "2022-09-14T20:05:29",
           "total bean vol": 6028249.182855,
           "total pod vol": 50120312.574528,
           "value": 9682871.67636,
           "variable": "pod order vol"
          },
          {
           "pod listing vol": 40437440.898168,
           "pod order vol": 9721821.697887,
           "season": 7041,
           "timestamp": "2022-09-15T21:21:47",
           "total bean vol": 6032144.185006,
           "total pod vol": 50159262.596055,
           "value": 40437440.898168,
           "variable": "pod listing vol"
          },
          {
           "pod listing vol": 40437440.898168,
           "pod order vol": 9721821.697887,
           "season": 7041,
           "timestamp": "2022-09-15T21:21:47",
           "total bean vol": 6032144.185006,
           "total pod vol": 50159262.596055,
           "value": 9721821.697887,
           "variable": "pod order vol"
          },
          {
           "pod listing vol": 40437440.898168,
           "pod order vol": 9721821.697887,
           "season": 7041,
           "timestamp": "2022-09-15T21:21:47",
           "total bean vol": 6032144.185006,
           "total pod vol": 50159262.596055,
           "value": 6032144.185006,
           "variable": "total bean vol"
          },
          {
           "pod listing vol": 40437440.898168,
           "pod order vol": 9721821.697887,
           "season": 7041,
           "timestamp": "2022-09-15T21:21:47",
           "total bean vol": 6032144.185006,
           "total pod vol": 50159262.596055,
           "value": 50159262.596055,
           "variable": "total pod vol"
          },
          {
           "pod listing vol": 40441662.408727,
           "pod order vol": 9721821.697887,
           "season": 7065,
           "timestamp": "2022-09-16T06:18:23",
           "total bean vol": 6032393.254128,
           "total pod vol": 50163484.106614,
           "value": 50163484.106614,
           "variable": "total pod vol"
          },
          {
           "pod listing vol": 40441662.408727,
           "pod order vol": 9721821.697887,
           "season": 7065,
           "timestamp": "2022-09-16T06:18:23",
           "total bean vol": 6032393.254128,
           "total pod vol": 50163484.106614,
           "value": 6032393.254128,
           "variable": "total bean vol"
          },
          {
           "pod listing vol": 40441662.408727,
           "pod order vol": 9721821.697887,
           "season": 7065,
           "timestamp": "2022-09-16T06:18:23",
           "total bean vol": 6032393.254128,
           "total pod vol": 50163484.106614,
           "value": 9721821.697887,
           "variable": "pod order vol"
          },
          {
           "pod listing vol": 40441662.408727,
           "pod order vol": 9721821.697887,
           "season": 7065,
           "timestamp": "2022-09-16T06:18:23",
           "total bean vol": 6032393.254128,
           "total pod vol": 50163484.106614,
           "value": 40441662.408727,
           "variable": "pod listing vol"
          },
          {
           "pod listing vol": 40442560.079111,
           "pod order vol": 9748386.932817,
           "season": 7089,
           "timestamp": "2022-09-17T22:01:23",
           "total bean vol": 6035620.074096,
           "total pod vol": 50190947.011928,
           "value": 40442560.079111,
           "variable": "pod listing vol"
          },
          {
           "pod listing vol": 40442560.079111,
           "pod order vol": 9748386.932817,
           "season": 7089,
           "timestamp": "2022-09-17T22:01:23",
           "total bean vol": 6035620.074096,
           "total pod vol": 50190947.011928,
           "value": 9748386.932817,
           "variable": "pod order vol"
          },
          {
           "pod listing vol": 40442560.079111,
           "pod order vol": 9748386.932817,
           "season": 7089,
           "timestamp": "2022-09-17T22:01:23",
           "total bean vol": 6035620.074096,
           "total pod vol": 50190947.011928,
           "value": 6035620.074096,
           "variable": "total bean vol"
          },
          {
           "pod listing vol": 40442560.079111,
           "pod order vol": 9748386.932817,
           "season": 7089,
           "timestamp": "2022-09-17T22:01:23",
           "total bean vol": 6035620.074096,
           "total pod vol": 50190947.011928,
           "value": 50190947.011928,
           "variable": "total pod vol"
          },
          {
           "pod listing vol": 40482566.0192,
           "pod order vol": 9753826.932817,
           "season": 7113,
           "timestamp": "2022-09-18T23:21:59",
           "total bean vol": 6040229.900447,
           "total pod vol": 50236392.952017,
           "value": 6040229.900447,
           "variable": "total bean vol"
          },
          {
           "pod listing vol": 40482566.0192,
           "pod order vol": 9753826.932817,
           "season": 7113,
           "timestamp": "2022-09-18T23:21:59",
           "total bean vol": 6040229.900447,
           "total pod vol": 50236392.952017,
           "value": 50236392.952017,
           "variable": "total pod vol"
          },
          {
           "pod listing vol": 40482566.0192,
           "pod order vol": 9753826.932817,
           "season": 7113,
           "timestamp": "2022-09-18T23:21:59",
           "total bean vol": 6040229.900447,
           "total pod vol": 50236392.952017,
           "value": 40482566.0192,
           "variable": "pod listing vol"
          },
          {
           "pod listing vol": 40482566.0192,
           "pod order vol": 9753826.932817,
           "season": 7113,
           "timestamp": "2022-09-18T23:21:59",
           "total bean vol": 6040229.900447,
           "total pod vol": 50236392.952017,
           "value": 9753826.932817,
           "variable": "pod order vol"
          },
          {
           "pod listing vol": 40490999.478786,
           "pod order vol": 9928022.320933,
           "season": 7137,
           "timestamp": "2022-09-19T21:16:59",
           "total bean vol": 6053982.796177,
           "total pod vol": 50419021.799719,
           "value": 40490999.478786,
           "variable": "pod listing vol"
          },
          {
           "pod listing vol": 40490999.478786,
           "pod order vol": 9928022.320933,
           "season": 7137,
           "timestamp": "2022-09-19T21:16:59",
           "total bean vol": 6053982.796177,
           "total pod vol": 50419021.799719,
           "value": 9928022.320933,
           "variable": "pod order vol"
          },
          {
           "pod listing vol": 40490999.478786,
           "pod order vol": 9928022.320933,
           "season": 7137,
           "timestamp": "2022-09-19T21:16:59",
           "total bean vol": 6053982.796177,
           "total pod vol": 50419021.799719,
           "value": 6053982.796177,
           "variable": "total bean vol"
          },
          {
           "pod listing vol": 40490999.478786,
           "pod order vol": 9928022.320933,
           "season": 7137,
           "timestamp": "2022-09-19T21:16:59",
           "total bean vol": 6053982.796177,
           "total pod vol": 50419021.799719,
           "value": 50419021.799719,
           "variable": "total pod vol"
          },
          {
           "pod listing vol": 40510849.189593,
           "pod order vol": 9928022.320933,
           "season": 7161,
           "timestamp": "2022-09-20T03:33:35",
           "total bean vol": 6054486.888657,
           "total pod vol": 50438871.510526,
           "value": 50438871.510526,
           "variable": "total pod vol"
          },
          {
           "pod listing vol": 40510849.189593,
           "pod order vol": 9928022.320933,
           "season": 7161,
           "timestamp": "2022-09-20T03:33:35",
           "total bean vol": 6054486.888657,
           "total pod vol": 50438871.510526,
           "value": 40510849.189593,
           "variable": "pod listing vol"
          },
          {
           "pod listing vol": 40510849.189593,
           "pod order vol": 9928022.320933,
           "season": 7161,
           "timestamp": "2022-09-20T03:33:35",
           "total bean vol": 6054486.888657,
           "total pod vol": 50438871.510526,
           "value": 9928022.320933,
           "variable": "pod order vol"
          },
          {
           "pod listing vol": 40510849.189593,
           "pod order vol": 9928022.320933,
           "season": 7161,
           "timestamp": "2022-09-20T03:33:35",
           "total bean vol": 6054486.888657,
           "total pod vol": 50438871.510526,
           "value": 6054486.888657,
           "variable": "total bean vol"
          },
          {
           "pod listing vol": 40639058.536478,
           "pod order vol": 9928022.320933,
           "season": 7185,
           "timestamp": "2022-09-21T17:02:35",
           "total bean vol": 6057051.075594,
           "total pod vol": 50567080.857411,
           "value": 50567080.857411,
           "variable": "total pod vol"
          },
          {
           "pod listing vol": 40639058.536478,
           "pod order vol": 9928022.320933,
           "season": 7185,
           "timestamp": "2022-09-21T17:02:35",
           "total bean vol": 6057051.075594,
           "total pod vol": 50567080.857411,
           "value": 6057051.075594,
           "variable": "total bean vol"
          },
          {
           "pod listing vol": 40639058.536478,
           "pod order vol": 9928022.320933,
           "season": 7185,
           "timestamp": "2022-09-21T17:02:35",
           "total bean vol": 6057051.075594,
           "total pod vol": 50567080.857411,
           "value": 40639058.536478,
           "variable": "pod listing vol"
          },
          {
           "pod listing vol": 40639058.536478,
           "pod order vol": 9928022.320933,
           "season": 7185,
           "timestamp": "2022-09-21T17:02:35",
           "total bean vol": 6057051.075594,
           "total pod vol": 50567080.857411,
           "value": 9928022.320933,
           "variable": "pod order vol"
          },
          {
           "pod listing vol": 40716755.214498,
           "pod order vol": 9951590.205773,
           "season": 7209,
           "timestamp": "2022-09-22T22:38:59",
           "total bean vol": 6061664.381237,
           "total pod vol": 50668345.420271,
           "value": 40716755.214498,
           "variable": "pod listing vol"
          },
          {
           "pod listing vol": 40716755.214498,
           "pod order vol": 9951590.205773,
           "season": 7209,
           "timestamp": "2022-09-22T22:38:59",
           "total bean vol": 6061664.381237,
           "total pod vol": 50668345.420271,
           "value": 9951590.205773,
           "variable": "pod order vol"
          },
          {
           "pod listing vol": 40716755.214498,
           "pod order vol": 9951590.205773,
           "season": 7209,
           "timestamp": "2022-09-22T22:38:59",
           "total bean vol": 6061664.381237,
           "total pod vol": 50668345.420271,
           "value": 6061664.381237,
           "variable": "total bean vol"
          },
          {
           "pod listing vol": 40716755.214498,
           "pod order vol": 9951590.205773,
           "season": 7209,
           "timestamp": "2022-09-22T22:38:59",
           "total bean vol": 6061664.381237,
           "total pod vol": 50668345.420271,
           "value": 50668345.420271,
           "variable": "total pod vol"
          },
          {
           "pod listing vol": 40716755.214498,
           "pod order vol": 10020820.975003,
           "season": 7233,
           "timestamp": "2022-09-23T23:10:11",
           "total bean vol": 6069164.381235,
           "total pod vol": 50737576.189501,
           "value": 40716755.214498,
           "variable": "pod listing vol"
          },
          {
           "pod listing vol": 40716755.214498,
           "pod order vol": 10020820.975003,
           "season": 7233,
           "timestamp": "2022-09-23T23:10:11",
           "total bean vol": 6069164.381235,
           "total pod vol": 50737576.189501,
           "value": 10020820.975003,
           "variable": "pod order vol"
          },
          {
           "pod listing vol": 40716755.214498,
           "pod order vol": 10020820.975003,
           "season": 7233,
           "timestamp": "2022-09-23T23:10:11",
           "total bean vol": 6069164.381235,
           "total pod vol": 50737576.189501,
           "value": 6069164.381235,
           "variable": "total bean vol"
          },
          {
           "pod listing vol": 40716755.214498,
           "pod order vol": 10020820.975003,
           "season": 7233,
           "timestamp": "2022-09-23T23:10:11",
           "total bean vol": 6069164.381235,
           "total pod vol": 50737576.189501,
           "value": 50737576.189501,
           "variable": "total pod vol"
          },
          {
           "pod listing vol": 40716755.214498,
           "pod order vol": 10020820.975003,
           "season": 7257,
           "timestamp": "2022-09-24T22:28:59",
           "total bean vol": 6069164.381235,
           "total pod vol": 50737576.189501,
           "value": 50737576.189501,
           "variable": "total pod vol"
          },
          {
           "pod listing vol": 40716755.214498,
           "pod order vol": 10020820.975003,
           "season": 7257,
           "timestamp": "2022-09-24T22:28:59",
           "total bean vol": 6069164.381235,
           "total pod vol": 50737576.189501,
           "value": 6069164.381235,
           "variable": "total bean vol"
          },
          {
           "pod listing vol": 40716755.214498,
           "pod order vol": 10020820.975003,
           "season": 7257,
           "timestamp": "2022-09-24T22:28:59",
           "total bean vol": 6069164.381235,
           "total pod vol": 50737576.189501,
           "value": 40716755.214498,
           "variable": "pod listing vol"
          },
          {
           "pod listing vol": 40716755.214498,
           "pod order vol": 10020820.975003,
           "season": 7257,
           "timestamp": "2022-09-24T22:28:59",
           "total bean vol": 6069164.381235,
           "total pod vol": 50737576.189501,
           "value": 10020820.975003,
           "variable": "pod order vol"
          },
          {
           "pod listing vol": 40716755.214498,
           "pod order vol": 10020820.975003,
           "season": 7281,
           "timestamp": "2022-09-25T21:18:59",
           "total bean vol": 6069164.381235,
           "total pod vol": 50737576.189501,
           "value": 50737576.189501,
           "variable": "total pod vol"
          },
          {
           "pod listing vol": 40716755.214498,
           "pod order vol": 10020820.975003,
           "season": 7281,
           "timestamp": "2022-09-25T21:18:59",
           "total bean vol": 6069164.381235,
           "total pod vol": 50737576.189501,
           "value": 40716755.214498,
           "variable": "pod listing vol"
          },
          {
           "pod listing vol": 40716755.214498,
           "pod order vol": 10020820.975003,
           "season": 7281,
           "timestamp": "2022-09-25T21:18:59",
           "total bean vol": 6069164.381235,
           "total pod vol": 50737576.189501,
           "value": 10020820.975003,
           "variable": "pod order vol"
          },
          {
           "pod listing vol": 40716755.214498,
           "pod order vol": 10020820.975003,
           "season": 7281,
           "timestamp": "2022-09-25T21:18:59",
           "total bean vol": 6069164.381235,
           "total pod vol": 50737576.189501,
           "value": 6069164.381235,
           "variable": "total bean vol"
          },
          {
           "pod listing vol": 40716755.214498,
           "pod order vol": 10084820.975003,
           "season": 7305,
           "timestamp": "2022-09-26T18:39:11",
           "total bean vol": 6075564.381235,
           "total pod vol": 50801576.189501,
           "value": 50801576.189501,
           "variable": "total pod vol"
          },
          {
           "pod listing vol": 40716755.214498,
           "pod order vol": 10084820.975003,
           "season": 7305,
           "timestamp": "2022-09-26T18:39:11",
           "total bean vol": 6075564.381235,
           "total pod vol": 50801576.189501,
           "value": 6075564.381235,
           "variable": "total bean vol"
          },
          {
           "pod listing vol": 40716755.214498,
           "pod order vol": 10084820.975003,
           "season": 7305,
           "timestamp": "2022-09-26T18:39:11",
           "total bean vol": 6075564.381235,
           "total pod vol": 50801576.189501,
           "value": 40716755.214498,
           "variable": "pod listing vol"
          },
          {
           "pod listing vol": 40716755.214498,
           "pod order vol": 10084820.975003,
           "season": 7305,
           "timestamp": "2022-09-26T18:39:11",
           "total bean vol": 6075564.381235,
           "total pod vol": 50801576.189501,
           "value": 10084820.975003,
           "variable": "pod order vol"
          },
          {
           "pod listing vol": 40716755.214498,
           "pod order vol": 10367979.234822,
           "season": 7329,
           "timestamp": "2022-09-27T21:56:35",
           "total bean vol": 6086285.021724,
           "total pod vol": 51084734.44932,
           "value": 40716755.214498,
           "variable": "pod listing vol"
          },
          {
           "pod listing vol": 40716755.214498,
           "pod order vol": 10367979.234822,
           "season": 7329,
           "timestamp": "2022-09-27T21:56:35",
           "total bean vol": 6086285.021724,
           "total pod vol": 51084734.44932,
           "value": 10367979.234822,
           "variable": "pod order vol"
          },
          {
           "pod listing vol": 40716755.214498,
           "pod order vol": 10367979.234822,
           "season": 7329,
           "timestamp": "2022-09-27T21:56:35",
           "total bean vol": 6086285.021724,
           "total pod vol": 51084734.44932,
           "value": 6086285.021724,
           "variable": "total bean vol"
          },
          {
           "pod listing vol": 40716755.214498,
           "pod order vol": 10367979.234822,
           "season": 7329,
           "timestamp": "2022-09-27T21:56:35",
           "total bean vol": 6086285.021724,
           "total pod vol": 51084734.44932,
           "value": 51084734.44932,
           "variable": "total pod vol"
          },
          {
           "pod listing vol": 40809235.277422,
           "pod order vol": 10367979.234822,
           "season": 7353,
           "timestamp": "2022-09-28T18:01:11",
           "total bean vol": 6088134.622982,
           "total pod vol": 51177214.512244,
           "value": 51177214.512244,
           "variable": "total pod vol"
          },
          {
           "pod listing vol": 40809235.277422,
           "pod order vol": 10367979.234822,
           "season": 7353,
           "timestamp": "2022-09-28T18:01:11",
           "total bean vol": 6088134.622982,
           "total pod vol": 51177214.512244,
           "value": 40809235.277422,
           "variable": "pod listing vol"
          },
          {
           "pod listing vol": 40809235.277422,
           "pod order vol": 10367979.234822,
           "season": 7353,
           "timestamp": "2022-09-28T18:01:11",
           "total bean vol": 6088134.622982,
           "total pod vol": 51177214.512244,
           "value": 10367979.234822,
           "variable": "pod order vol"
          },
          {
           "pod listing vol": 40809235.277422,
           "pod order vol": 10367979.234822,
           "season": 7353,
           "timestamp": "2022-09-28T18:01:11",
           "total bean vol": 6088134.622982,
           "total pod vol": 51177214.512244,
           "value": 6088134.622982,
           "variable": "total bean vol"
          },
          {
           "pod listing vol": 40814235.277422,
           "pod order vol": 10370551.509036,
           "season": 7377,
           "timestamp": "2022-09-29T09:34:23",
           "total bean vol": 6088353.915038,
           "total pod vol": 51184786.786458,
           "value": 40814235.277422,
           "variable": "pod listing vol"
          },
          {
           "pod listing vol": 40814235.277422,
           "pod order vol": 10370551.509036,
           "season": 7377,
           "timestamp": "2022-09-29T09:34:23",
           "total bean vol": 6088353.915038,
           "total pod vol": 51184786.786458,
           "value": 10370551.509036,
           "variable": "pod order vol"
          },
          {
           "pod listing vol": 40814235.277422,
           "pod order vol": 10370551.509036,
           "season": 7377,
           "timestamp": "2022-09-29T09:34:23",
           "total bean vol": 6088353.915038,
           "total pod vol": 51184786.786458,
           "value": 6088353.915038,
           "variable": "total bean vol"
          },
          {
           "pod listing vol": 40814235.277422,
           "pod order vol": 10370551.509036,
           "season": 7377,
           "timestamp": "2022-09-29T09:34:23",
           "total bean vol": 6088353.915038,
           "total pod vol": 51184786.786458,
           "value": 51184786.786458,
           "variable": "total pod vol"
          },
          {
           "pod listing vol": 40875328.12773,
           "pod order vol": 10370551.509036,
           "season": 7401,
           "timestamp": "2022-09-30T18:10:11",
           "total bean vol": 6089575.772044,
           "total pod vol": 51245879.636766,
           "value": 6089575.772044,
           "variable": "total bean vol"
          },
          {
           "pod listing vol": 40875328.12773,
           "pod order vol": 10370551.509036,
           "season": 7401,
           "timestamp": "2022-09-30T18:10:11",
           "total bean vol": 6089575.772044,
           "total pod vol": 51245879.636766,
           "value": 51245879.636766,
           "variable": "total pod vol"
          },
          {
           "pod listing vol": 40875328.12773,
           "pod order vol": 10370551.509036,
           "season": 7401,
           "timestamp": "2022-09-30T18:10:11",
           "total bean vol": 6089575.772044,
           "total pod vol": 51245879.636766,
           "value": 40875328.12773,
           "variable": "pod listing vol"
          },
          {
           "pod listing vol": 40875328.12773,
           "pod order vol": 10370551.509036,
           "season": 7401,
           "timestamp": "2022-09-30T18:10:11",
           "total bean vol": 6089575.772044,
           "total pod vol": 51245879.636766,
           "value": 10370551.509036,
           "variable": "pod order vol"
          },
          {
           "pod listing vol": 40875328.12773,
           "pod order vol": 10370551.509036,
           "season": 7425,
           "timestamp": "2022-10-01T21:40:23",
           "total bean vol": 6089575.772044,
           "total pod vol": 51245879.636766,
           "value": 51245879.636766,
           "variable": "total pod vol"
          },
          {
           "pod listing vol": 40875328.12773,
           "pod order vol": 10370551.509036,
           "season": 7425,
           "timestamp": "2022-10-01T21:40:23",
           "total bean vol": 6089575.772044,
           "total pod vol": 51245879.636766,
           "value": 6089575.772044,
           "variable": "total bean vol"
          },
          {
           "pod listing vol": 40875328.12773,
           "pod order vol": 10370551.509036,
           "season": 7425,
           "timestamp": "2022-10-01T21:40:23",
           "total bean vol": 6089575.772044,
           "total pod vol": 51245879.636766,
           "value": 10370551.509036,
           "variable": "pod order vol"
          },
          {
           "pod listing vol": 40875328.12773,
           "pod order vol": 10370551.509036,
           "season": 7425,
           "timestamp": "2022-10-01T21:40:23",
           "total bean vol": 6089575.772044,
           "total pod vol": 51245879.636766,
           "value": 40875328.12773,
           "variable": "pod listing vol"
          },
          {
           "pod listing vol": 40875328.12773,
           "pod order vol": 10401818.891059,
           "season": 7449,
           "timestamp": "2022-10-02T20:16:35",
           "total bean vol": 6090513.793503,
           "total pod vol": 51277147.018789,
           "value": 40875328.12773,
           "variable": "pod listing vol"
          },
          {
           "pod listing vol": 40875328.12773,
           "pod order vol": 10401818.891059,
           "season": 7449,
           "timestamp": "2022-10-02T20:16:35",
           "total bean vol": 6090513.793503,
           "total pod vol": 51277147.018789,
           "value": 10401818.891059,
           "variable": "pod order vol"
          },
          {
           "pod listing vol": 40875328.12773,
           "pod order vol": 10401818.891059,
           "season": 7449,
           "timestamp": "2022-10-02T20:16:35",
           "total bean vol": 6090513.793503,
           "total pod vol": 51277147.018789,
           "value": 6090513.793503,
           "variable": "total bean vol"
          },
          {
           "pod listing vol": 40875328.12773,
           "pod order vol": 10401818.891059,
           "season": 7449,
           "timestamp": "2022-10-02T20:16:35",
           "total bean vol": 6090513.793503,
           "total pod vol": 51277147.018789,
           "value": 51277147.018789,
           "variable": "total pod vol"
          },
          {
           "pod listing vol": 40875328.12773,
           "pod order vol": 10434487.618884,
           "season": 7473,
           "timestamp": "2022-10-03T18:43:47",
           "total bean vol": 6090820.659352,
           "total pod vol": 51309815.746614,
           "value": 6090820.659352,
           "variable": "total bean vol"
          },
          {
           "pod listing vol": 40875328.12773,
           "pod order vol": 10434487.618884,
           "season": 7473,
           "timestamp": "2022-10-03T18:43:47",
           "total bean vol": 6090820.659352,
           "total pod vol": 51309815.746614,
           "value": 51309815.746614,
           "variable": "total pod vol"
          },
          {
           "pod listing vol": 40875328.12773,
           "pod order vol": 10434487.618884,
           "season": 7473,
           "timestamp": "2022-10-03T18:43:47",
           "total bean vol": 6090820.659352,
           "total pod vol": 51309815.746614,
           "value": 40875328.12773,
           "variable": "pod listing vol"
          },
          {
           "pod listing vol": 40875328.12773,
           "pod order vol": 10434487.618884,
           "season": 7473,
           "timestamp": "2022-10-03T18:43:47",
           "total bean vol": 6090820.659352,
           "total pod vol": 51309815.746614,
           "value": 10434487.618884,
           "variable": "pod order vol"
          },
          {
           "pod listing vol": 40875328.12773,
           "pod order vol": 10434487.618884,
           "season": 7497,
           "timestamp": "2022-10-04T17:18:11",
           "total bean vol": 6090820.659352,
           "total pod vol": 51309815.746614,
           "value": 40875328.12773,
           "variable": "pod listing vol"
          },
          {
           "pod listing vol": 40875328.12773,
           "pod order vol": 10434487.618884,
           "season": 7497,
           "timestamp": "2022-10-04T17:18:11",
           "total bean vol": 6090820.659352,
           "total pod vol": 51309815.746614,
           "value": 10434487.618884,
           "variable": "pod order vol"
          },
          {
           "pod listing vol": 40875328.12773,
           "pod order vol": 10434487.618884,
           "season": 7497,
           "timestamp": "2022-10-04T17:18:11",
           "total bean vol": 6090820.659352,
           "total pod vol": 51309815.746614,
           "value": 6090820.659352,
           "variable": "total bean vol"
          },
          {
           "pod listing vol": 40875328.12773,
           "pod order vol": 10434487.618884,
           "season": 7497,
           "timestamp": "2022-10-04T17:18:11",
           "total bean vol": 6090820.659352,
           "total pod vol": 51309815.746614,
           "value": 51309815.746614,
           "variable": "total pod vol"
          },
          {
           "pod listing vol": 40946742.413442,
           "pod order vol": 10448923.90654,
           "season": 7521,
           "timestamp": "2022-10-05T14:12:59",
           "total bean vol": 6096110.132397,
           "total pod vol": 51395666.319982,
           "value": 40946742.413442,
           "variable": "pod listing vol"
          },
          {
           "pod listing vol": 40946742.413442,
           "pod order vol": 10448923.90654,
           "season": 7521,
           "timestamp": "2022-10-05T14:12:59",
           "total bean vol": 6096110.132397,
           "total pod vol": 51395666.319982,
           "value": 10448923.90654,
           "variable": "pod order vol"
          },
          {
           "pod listing vol": 40946742.413442,
           "pod order vol": 10448923.90654,
           "season": 7521,
           "timestamp": "2022-10-05T14:12:59",
           "total bean vol": 6096110.132397,
           "total pod vol": 51395666.319982,
           "value": 6096110.132397,
           "variable": "total bean vol"
          },
          {
           "pod listing vol": 40946742.413442,
           "pod order vol": 10448923.90654,
           "season": 7521,
           "timestamp": "2022-10-05T14:12:59",
           "total bean vol": 6096110.132397,
           "total pod vol": 51395666.319982,
           "value": 51395666.319982,
           "variable": "total pod vol"
          },
          {
           "pod listing vol": 40946742.413442,
           "pod order vol": 10466174.700152,
           "season": 7545,
           "timestamp": "2022-10-06T01:04:47",
           "total bean vol": 6098127.656204,
           "total pod vol": 51412917.113594,
           "value": 51412917.113594,
           "variable": "total pod vol"
          },
          {
           "pod listing vol": 40946742.413442,
           "pod order vol": 10466174.700152,
           "season": 7545,
           "timestamp": "2022-10-06T01:04:47",
           "total bean vol": 6098127.656204,
           "total pod vol": 51412917.113594,
           "value": 6098127.656204,
           "variable": "total bean vol"
          },
          {
           "pod listing vol": 40946742.413442,
           "pod order vol": 10466174.700152,
           "season": 7545,
           "timestamp": "2022-10-06T01:04:47",
           "total bean vol": 6098127.656204,
           "total pod vol": 51412917.113594,
           "value": 10466174.700152,
           "variable": "pod order vol"
          },
          {
           "pod listing vol": 40946742.413442,
           "pod order vol": 10466174.700152,
           "season": 7545,
           "timestamp": "2022-10-06T01:04:47",
           "total bean vol": 6098127.656204,
           "total pod vol": 51412917.113594,
           "value": 40946742.413442,
           "variable": "pod listing vol"
          },
          {
           "pod listing vol": 41021919.086459,
           "pod order vol": 10505857.239834,
           "season": 7569,
           "timestamp": "2022-10-07T21:27:11",
           "total bean vol": 6102687.038582,
           "total pod vol": 51527776.326293,
           "value": 41021919.086459,
           "variable": "pod listing vol"
          },
          {
           "pod listing vol": 41021919.086459,
           "pod order vol": 10505857.239834,
           "season": 7569,
           "timestamp": "2022-10-07T21:27:11",
           "total bean vol": 6102687.038582,
           "total pod vol": 51527776.326293,
           "value": 10505857.239834,
           "variable": "pod order vol"
          },
          {
           "pod listing vol": 41021919.086459,
           "pod order vol": 10505857.239834,
           "season": 7569,
           "timestamp": "2022-10-07T21:27:11",
           "total bean vol": 6102687.038582,
           "total pod vol": 51527776.326293,
           "value": 6102687.038582,
           "variable": "total bean vol"
          },
          {
           "pod listing vol": 41021919.086459,
           "pod order vol": 10505857.239834,
           "season": 7569,
           "timestamp": "2022-10-07T21:27:11",
           "total bean vol": 6102687.038582,
           "total pod vol": 51527776.326293,
           "value": 51527776.326293,
           "variable": "total pod vol"
          },
          {
           "pod listing vol": 41021919.086459,
           "pod order vol": 10539294.900959,
           "season": 7593,
           "timestamp": "2022-10-08T06:01:35",
           "total bean vol": 6105362.051472,
           "total pod vol": 51561213.987418,
           "value": 6105362.051472,
           "variable": "total bean vol"
          },
          {
           "pod listing vol": 41021919.086459,
           "pod order vol": 10539294.900959,
           "season": 7593,
           "timestamp": "2022-10-08T06:01:35",
           "total bean vol": 6105362.051472,
           "total pod vol": 51561213.987418,
           "value": 51561213.987418,
           "variable": "total pod vol"
          },
          {
           "pod listing vol": 41021919.086459,
           "pod order vol": 10539294.900959,
           "season": 7593,
           "timestamp": "2022-10-08T06:01:35",
           "total bean vol": 6105362.051472,
           "total pod vol": 51561213.987418,
           "value": 41021919.086459,
           "variable": "pod listing vol"
          },
          {
           "pod listing vol": 41021919.086459,
           "pod order vol": 10539294.900959,
           "season": 7593,
           "timestamp": "2022-10-08T06:01:35",
           "total bean vol": 6105362.051472,
           "total pod vol": 51561213.987418,
           "value": 10539294.900959,
           "variable": "pod order vol"
          },
          {
           "pod listing vol": 41021919.086459,
           "pod order vol": 10539294.900959,
           "season": 7617,
           "timestamp": "2022-10-09T00:00:11",
           "total bean vol": 6105362.051472,
           "total pod vol": 51561213.987418,
           "value": 41021919.086459,
           "variable": "pod listing vol"
          },
          {
           "pod listing vol": 41021919.086459,
           "pod order vol": 10539294.900959,
           "season": 7617,
           "timestamp": "2022-10-09T00:00:11",
           "total bean vol": 6105362.051472,
           "total pod vol": 51561213.987418,
           "value": 10539294.900959,
           "variable": "pod order vol"
          },
          {
           "pod listing vol": 41021919.086459,
           "pod order vol": 10539294.900959,
           "season": 7617,
           "timestamp": "2022-10-09T00:00:11",
           "total bean vol": 6105362.051472,
           "total pod vol": 51561213.987418,
           "value": 6105362.051472,
           "variable": "total bean vol"
          },
          {
           "pod listing vol": 41021919.086459,
           "pod order vol": 10539294.900959,
           "season": 7617,
           "timestamp": "2022-10-09T00:00:11",
           "total bean vol": 6105362.051472,
           "total pod vol": 51561213.987418,
           "value": 51561213.987418,
           "variable": "total pod vol"
          },
          {
           "pod listing vol": 41023274.829932,
           "pod order vol": 10539294.900959,
           "season": 7641,
           "timestamp": "2022-10-10T04:50:23",
           "total bean vol": 6105565.412992,
           "total pod vol": 51562569.730891,
           "value": 51562569.730891,
           "variable": "total pod vol"
          },
          {
           "pod listing vol": 41023274.829932,
           "pod order vol": 10539294.900959,
           "season": 7641,
           "timestamp": "2022-10-10T04:50:23",
           "total bean vol": 6105565.412992,
           "total pod vol": 51562569.730891,
           "value": 41023274.829932,
           "variable": "pod listing vol"
          },
          {
           "pod listing vol": 41023274.829932,
           "pod order vol": 10539294.900959,
           "season": 7641,
           "timestamp": "2022-10-10T04:50:23",
           "total bean vol": 6105565.412992,
           "total pod vol": 51562569.730891,
           "value": 10539294.900959,
           "variable": "pod order vol"
          },
          {
           "pod listing vol": 41023274.829932,
           "pod order vol": 10539294.900959,
           "season": 7641,
           "timestamp": "2022-10-10T04:50:23",
           "total bean vol": 6105565.412992,
           "total pod vol": 51562569.730891,
           "value": 6105565.412992,
           "variable": "total bean vol"
          },
          {
           "pod listing vol": 41040274.829932,
           "pod order vol": 10693583.664071,
           "season": 7665,
           "timestamp": "2022-10-11T12:44:23",
           "total bean vol": 6115601.866439,
           "total pod vol": 51733858.494003,
           "value": 51733858.494003,
           "variable": "total pod vol"
          },
          {
           "pod listing vol": 41040274.829932,
           "pod order vol": 10693583.664071,
           "season": 7665,
           "timestamp": "2022-10-11T12:44:23",
           "total bean vol": 6115601.866439,
           "total pod vol": 51733858.494003,
           "value": 6115601.866439,
           "variable": "total bean vol"
          },
          {
           "pod listing vol": 41040274.829932,
           "pod order vol": 10693583.664071,
           "season": 7665,
           "timestamp": "2022-10-11T12:44:23",
           "total bean vol": 6115601.866439,
           "total pod vol": 51733858.494003,
           "value": 41040274.829932,
           "variable": "pod listing vol"
          },
          {
           "pod listing vol": 41040274.829932,
           "pod order vol": 10693583.664071,
           "season": 7665,
           "timestamp": "2022-10-11T12:44:23",
           "total bean vol": 6115601.866439,
           "total pod vol": 51733858.494003,
           "value": 10693583.664071,
           "variable": "pod order vol"
          },
          {
           "pod listing vol": 41043192.625139,
           "pod order vol": 10693775.513387,
           "season": 7689,
           "timestamp": "2022-10-12T18:01:47",
           "total bean vol": 6118078.914346,
           "total pod vol": 51736968.138526,
           "value": 41043192.625139,
           "variable": "pod listing vol"
          },
          {
           "pod listing vol": 41043192.625139,
           "pod order vol": 10693775.513387,
           "season": 7689,
           "timestamp": "2022-10-12T18:01:47",
           "total bean vol": 6118078.914346,
           "total pod vol": 51736968.138526,
           "value": 10693775.513387,
           "variable": "pod order vol"
          },
          {
           "pod listing vol": 41043192.625139,
           "pod order vol": 10693775.513387,
           "season": 7689,
           "timestamp": "2022-10-12T18:01:47",
           "total bean vol": 6118078.914346,
           "total pod vol": 51736968.138526,
           "value": 6118078.914346,
           "variable": "total bean vol"
          },
          {
           "pod listing vol": 41043192.625139,
           "pod order vol": 10693775.513387,
           "season": 7689,
           "timestamp": "2022-10-12T18:01:47",
           "total bean vol": 6118078.914346,
           "total pod vol": 51736968.138526,
           "value": 51736968.138526,
           "variable": "total pod vol"
          },
          {
           "pod listing vol": 41043192.625139,
           "pod order vol": 10693775.513387,
           "season": 7713,
           "timestamp": "2022-10-13T00:00:11",
           "total bean vol": 6118078.914346,
           "total pod vol": 51736968.138526,
           "value": 41043192.625139,
           "variable": "pod listing vol"
          },
          {
           "pod listing vol": 41043192.625139,
           "pod order vol": 10693775.513387,
           "season": 7713,
           "timestamp": "2022-10-13T00:00:11",
           "total bean vol": 6118078.914346,
           "total pod vol": 51736968.138526,
           "value": 10693775.513387,
           "variable": "pod order vol"
          },
          {
           "pod listing vol": 41043192.625139,
           "pod order vol": 10693775.513387,
           "season": 7713,
           "timestamp": "2022-10-13T00:00:11",
           "total bean vol": 6118078.914346,
           "total pod vol": 51736968.138526,
           "value": 6118078.914346,
           "variable": "total bean vol"
          },
          {
           "pod listing vol": 41043192.625139,
           "pod order vol": 10693775.513387,
           "season": 7713,
           "timestamp": "2022-10-13T00:00:11",
           "total bean vol": 6118078.914346,
           "total pod vol": 51736968.138526,
           "value": 51736968.138526,
           "variable": "total pod vol"
          },
          {
           "pod listing vol": 41043192.625139,
           "pod order vol": 10726200.856299,
           "season": 7737,
           "timestamp": "2022-10-14T17:42:47",
           "total bean vol": 6120672.941778,
           "total pod vol": 51769393.481438,
           "value": 51769393.481438,
           "variable": "total pod vol"
          },
          {
           "pod listing vol": 41043192.625139,
           "pod order vol": 10726200.856299,
           "season": 7737,
           "timestamp": "2022-10-14T17:42:47",
           "total bean vol": 6120672.941778,
           "total pod vol": 51769393.481438,
           "value": 6120672.941778,
           "variable": "total bean vol"
          },
          {
           "pod listing vol": 41043192.625139,
           "pod order vol": 10726200.856299,
           "season": 7737,
           "timestamp": "2022-10-14T17:42:47",
           "total bean vol": 6120672.941778,
           "total pod vol": 51769393.481438,
           "value": 41043192.625139,
           "variable": "pod listing vol"
          },
          {
           "pod listing vol": 41043192.625139,
           "pod order vol": 10726200.856299,
           "season": 7737,
           "timestamp": "2022-10-14T17:42:47",
           "total bean vol": 6120672.941778,
           "total pod vol": 51769393.481438,
           "value": 10726200.856299,
           "variable": "pod order vol"
          },
          {
           "pod listing vol": 41043192.625139,
           "pod order vol": 10726200.856299,
           "season": 7761,
           "timestamp": "2022-10-15T21:30:11",
           "total bean vol": 6120672.941778,
           "total pod vol": 51769393.481438,
           "value": 51769393.481438,
           "variable": "total pod vol"
          },
          {
           "pod listing vol": 41043192.625139,
           "pod order vol": 10726200.856299,
           "season": 7761,
           "timestamp": "2022-10-15T21:30:11",
           "total bean vol": 6120672.941778,
           "total pod vol": 51769393.481438,
           "value": 41043192.625139,
           "variable": "pod listing vol"
          },
          {
           "pod listing vol": 41043192.625139,
           "pod order vol": 10726200.856299,
           "season": 7761,
           "timestamp": "2022-10-15T21:30:11",
           "total bean vol": 6120672.941778,
           "total pod vol": 51769393.481438,
           "value": 10726200.856299,
           "variable": "pod order vol"
          },
          {
           "pod listing vol": 41043192.625139,
           "pod order vol": 10726200.856299,
           "season": 7761,
           "timestamp": "2022-10-15T21:30:11",
           "total bean vol": 6120672.941778,
           "total pod vol": 51769393.481438,
           "value": 6120672.941778,
           "variable": "total bean vol"
          },
          {
           "pod listing vol": 41043192.625139,
           "pod order vol": 10726200.856299,
           "season": 7785,
           "timestamp": "2022-10-16T00:00:11",
           "total bean vol": 6120672.941778,
           "total pod vol": 51769393.481438,
           "value": 51769393.481438,
           "variable": "total pod vol"
          },
          {
           "pod listing vol": 41043192.625139,
           "pod order vol": 10726200.856299,
           "season": 7785,
           "timestamp": "2022-10-16T00:00:11",
           "total bean vol": 6120672.941778,
           "total pod vol": 51769393.481438,
           "value": 6120672.941778,
           "variable": "total bean vol"
          },
          {
           "pod listing vol": 41043192.625139,
           "pod order vol": 10726200.856299,
           "season": 7785,
           "timestamp": "2022-10-16T00:00:11",
           "total bean vol": 6120672.941778,
           "total pod vol": 51769393.481438,
           "value": 10726200.856299,
           "variable": "pod order vol"
          },
          {
           "pod listing vol": 41043192.625139,
           "pod order vol": 10726200.856299,
           "season": 7785,
           "timestamp": "2022-10-16T00:00:11",
           "total bean vol": 6120672.941778,
           "total pod vol": 51769393.481438,
           "value": 41043192.625139,
           "variable": "pod listing vol"
          },
          {
           "pod listing vol": 41043192.625139,
           "pod order vol": 10826200.856299,
           "season": 7809,
           "timestamp": "2022-10-17T15:08:47",
           "total bean vol": 6125672.941777,
           "total pod vol": 51869393.481438,
           "value": 41043192.625139,
           "variable": "pod listing vol"
          },
          {
           "pod listing vol": 41043192.625139,
           "pod order vol": 10826200.856299,
           "season": 7809,
           "timestamp": "2022-10-17T15:08:47",
           "total bean vol": 6125672.941777,
           "total pod vol": 51869393.481438,
           "value": 10826200.856299,
           "variable": "pod order vol"
          },
          {
           "pod listing vol": 41043192.625139,
           "pod order vol": 10826200.856299,
           "season": 7809,
           "timestamp": "2022-10-17T15:08:47",
           "total bean vol": 6125672.941777,
           "total pod vol": 51869393.481438,
           "value": 6125672.941777,
           "variable": "total bean vol"
          },
          {
           "pod listing vol": 41043192.625139,
           "pod order vol": 10826200.856299,
           "season": 7809,
           "timestamp": "2022-10-17T15:08:47",
           "total bean vol": 6125672.941777,
           "total pod vol": 51869393.481438,
           "value": 51869393.481438,
           "variable": "total pod vol"
          },
          {
           "pod listing vol": 41113895.562007,
           "pod order vol": 10826200.856299,
           "season": 7833,
           "timestamp": "2022-10-18T23:47:11",
           "total bean vol": 6130219.028147,
           "total pod vol": 51940096.418306,
           "value": 6130219.028147,
           "variable": "total bean vol"
          },
          {
           "pod listing vol": 41113895.562007,
           "pod order vol": 10826200.856299,
           "season": 7833,
           "timestamp": "2022-10-18T23:47:11",
           "total bean vol": 6130219.028147,
           "total pod vol": 51940096.418306,
           "value": 51940096.418306,
           "variable": "total pod vol"
          },
          {
           "pod listing vol": 41113895.562007,
           "pod order vol": 10826200.856299,
           "season": 7833,
           "timestamp": "2022-10-18T23:47:11",
           "total bean vol": 6130219.028147,
           "total pod vol": 51940096.418306,
           "value": 41113895.562007,
           "variable": "pod listing vol"
          },
          {
           "pod listing vol": 41113895.562007,
           "pod order vol": 10826200.856299,
           "season": 7833,
           "timestamp": "2022-10-18T23:47:11",
           "total bean vol": 6130219.028147,
           "total pod vol": 51940096.418306,
           "value": 10826200.856299,
           "variable": "pod order vol"
          },
          {
           "pod listing vol": 41252745.886656,
           "pod order vol": 10826200.856299,
           "season": 7857,
           "timestamp": "2022-10-19T22:48:35",
           "total bean vol": 6132799.931251,
           "total pod vol": 52078946.742955,
           "value": 41252745.886656,
           "variable": "pod listing vol"
          },
          {
           "pod listing vol": 41252745.886656,
           "pod order vol": 10826200.856299,
           "season": 7857,
           "timestamp": "2022-10-19T22:48:35",
           "total bean vol": 6132799.931251,
           "total pod vol": 52078946.742955,
           "value": 10826200.856299,
           "variable": "pod order vol"
          },
          {
           "pod listing vol": 41252745.886656,
           "pod order vol": 10826200.856299,
           "season": 7857,
           "timestamp": "2022-10-19T22:48:35",
           "total bean vol": 6132799.931251,
           "total pod vol": 52078946.742955,
           "value": 6132799.931251,
           "variable": "total bean vol"
          },
          {
           "pod listing vol": 41252745.886656,
           "pod order vol": 10826200.856299,
           "season": 7857,
           "timestamp": "2022-10-19T22:48:35",
           "total bean vol": 6132799.931251,
           "total pod vol": 52078946.742955,
           "value": 52078946.742955,
           "variable": "total pod vol"
          },
          {
           "pod listing vol": 41388317.402165,
           "pod order vol": 10878734.208348,
           "season": 7881,
           "timestamp": "2022-10-20T18:56:35",
           "total bean vol": 6144182.141511,
           "total pod vol": 52267051.610513,
           "value": 52267051.610513,
           "variable": "total pod vol"
          },
          {
           "pod listing vol": 41388317.402165,
           "pod order vol": 10878734.208348,
           "season": 7881,
           "timestamp": "2022-10-20T18:56:35",
           "total bean vol": 6144182.141511,
           "total pod vol": 52267051.610513,
           "value": 41388317.402165,
           "variable": "pod listing vol"
          },
          {
           "pod listing vol": 41388317.402165,
           "pod order vol": 10878734.208348,
           "season": 7881,
           "timestamp": "2022-10-20T18:56:35",
           "total bean vol": 6144182.141511,
           "total pod vol": 52267051.610513,
           "value": 10878734.208348,
           "variable": "pod order vol"
          },
          {
           "pod listing vol": 41388317.402165,
           "pod order vol": 10878734.208348,
           "season": 7881,
           "timestamp": "2022-10-20T18:56:35",
           "total bean vol": 6144182.141511,
           "total pod vol": 52267051.610513,
           "value": 6144182.141511,
           "variable": "total bean vol"
          },
          {
           "pod listing vol": 41390317.404778,
           "pod order vol": 11020726.905967,
           "season": 7905,
           "timestamp": "2022-10-21T00:55:59",
           "total bean vol": 6149203.988551,
           "total pod vol": 52411044.310745,
           "value": 52411044.310745,
           "variable": "total pod vol"
          },
          {
           "pod listing vol": 41390317.404778,
           "pod order vol": 11020726.905967,
           "season": 7905,
           "timestamp": "2022-10-21T00:55:59",
           "total bean vol": 6149203.988551,
           "total pod vol": 52411044.310745,
           "value": 6149203.988551,
           "variable": "total bean vol"
          },
          {
           "pod listing vol": 41390317.404778,
           "pod order vol": 11020726.905967,
           "season": 7905,
           "timestamp": "2022-10-21T00:55:59",
           "total bean vol": 6149203.988551,
           "total pod vol": 52411044.310745,
           "value": 41390317.404778,
           "variable": "pod listing vol"
          },
          {
           "pod listing vol": 41390317.404778,
           "pod order vol": 11020726.905967,
           "season": 7905,
           "timestamp": "2022-10-21T00:55:59",
           "total bean vol": 6149203.988551,
           "total pod vol": 52411044.310745,
           "value": 11020726.905967,
           "variable": "pod order vol"
          },
          {
           "pod listing vol": 41460043.789778,
           "pod order vol": 11020726.905967,
           "season": 7929,
           "timestamp": "2022-10-22T20:46:11",
           "total bean vol": 6150877.421791,
           "total pod vol": 52480770.695745,
           "value": 41460043.789778,
           "variable": "pod listing vol"
          },
          {
           "pod listing vol": 41460043.789778,
           "pod order vol": 11020726.905967,
           "season": 7929,
           "timestamp": "2022-10-22T20:46:11",
           "total bean vol": 6150877.421791,
           "total pod vol": 52480770.695745,
           "value": 11020726.905967,
           "variable": "pod order vol"
          },
          {
           "pod listing vol": 41460043.789778,
           "pod order vol": 11020726.905967,
           "season": 7929,
           "timestamp": "2022-10-22T20:46:11",
           "total bean vol": 6150877.421791,
           "total pod vol": 52480770.695745,
           "value": 6150877.421791,
           "variable": "total bean vol"
          },
          {
           "pod listing vol": 41460043.789778,
           "pod order vol": 11020726.905967,
           "season": 7929,
           "timestamp": "2022-10-22T20:46:11",
           "total bean vol": 6150877.421791,
           "total pod vol": 52480770.695745,
           "value": 52480770.695745,
           "variable": "total pod vol"
          },
          {
           "pod listing vol": 41460245.981838,
           "pod order vol": 11025726.905967,
           "season": 7953,
           "timestamp": "2022-10-23T14:11:11",
           "total bean vol": 6151157.7506,
           "total pod vol": 52485972.887805,
           "value": 6151157.7506,
           "variable": "total bean vol"
          },
          {
           "pod listing vol": 41460245.981838,
           "pod order vol": 11025726.905967,
           "season": 7953,
           "timestamp": "2022-10-23T14:11:11",
           "total bean vol": 6151157.7506,
           "total pod vol": 52485972.887805,
           "value": 52485972.887805,
           "variable": "total pod vol"
          },
          {
           "pod listing vol": 41460245.981838,
           "pod order vol": 11025726.905967,
           "season": 7953,
           "timestamp": "2022-10-23T14:11:11",
           "total bean vol": 6151157.7506,
           "total pod vol": 52485972.887805,
           "value": 41460245.981838,
           "variable": "pod listing vol"
          },
          {
           "pod listing vol": 41460245.981838,
           "pod order vol": 11025726.905967,
           "season": 7953,
           "timestamp": "2022-10-23T14:11:11",
           "total bean vol": 6151157.7506,
           "total pod vol": 52485972.887805,
           "value": 11025726.905967,
           "variable": "pod order vol"
          },
          {
           "pod listing vol": 41494623.416942,
           "pod order vol": 11039377.558114,
           "season": 7977,
           "timestamp": "2022-10-24T19:15:47",
           "total bean vol": 6154599.32703,
           "total pod vol": 52534000.975056,
           "value": 11039377.558114,
           "variable": "pod order vol"
          },
          {
           "pod listing vol": 41494623.416942,
           "pod order vol": 11039377.558114,
           "season": 7977,
           "timestamp": "2022-10-24T19:15:47",
           "total bean vol": 6154599.32703,
           "total pod vol": 52534000.975056,
           "value": 6154599.32703,
           "variable": "total bean vol"
          },
          {
           "pod listing vol": 41494623.416942,
           "pod order vol": 11039377.558114,
           "season": 7977,
           "timestamp": "2022-10-24T19:15:47",
           "total bean vol": 6154599.32703,
           "total pod vol": 52534000.975056,
           "value": 52534000.975056,
           "variable": "total pod vol"
          },
          {
           "pod listing vol": 41494623.416942,
           "pod order vol": 11039377.558114,
           "season": 7977,
           "timestamp": "2022-10-24T19:15:47",
           "total bean vol": 6154599.32703,
           "total pod vol": 52534000.975056,
           "value": 41494623.416942,
           "variable": "pod listing vol"
          },
          {
           "pod listing vol": 41494623.416942,
           "pod order vol": 11054074.069404,
           "season": 8001,
           "timestamp": "2022-10-25T04:06:11",
           "total bean vol": 6156068.978159,
           "total pod vol": 52548697.486346,
           "value": 52548697.486346,
           "variable": "total pod vol"
          },
          {
           "pod listing vol": 41494623.416942,
           "pod order vol": 11054074.069404,
           "season": 8001,
           "timestamp": "2022-10-25T04:06:11",
           "total bean vol": 6156068.978159,
           "total pod vol": 52548697.486346,
           "value": 41494623.416942,
           "variable": "pod listing vol"
          },
          {
           "pod listing vol": 41494623.416942,
           "pod order vol": 11054074.069404,
           "season": 8001,
           "timestamp": "2022-10-25T04:06:11",
           "total bean vol": 6156068.978159,
           "total pod vol": 52548697.486346,
           "value": 11054074.069404,
           "variable": "pod order vol"
          },
          {
           "pod listing vol": 41494623.416942,
           "pod order vol": 11054074.069404,
           "season": 8001,
           "timestamp": "2022-10-25T04:06:11",
           "total bean vol": 6156068.978159,
           "total pod vol": 52548697.486346,
           "value": 6156068.978159,
           "variable": "total bean vol"
          },
          {
           "pod listing vol": 41495923.164125,
           "pod order vol": 11084311.640525,
           "season": 8025,
           "timestamp": "2022-10-26T13:53:23",
           "total bean vol": 6156836.599569,
           "total pod vol": 52580234.80465,
           "value": 52580234.80465,
           "variable": "total pod vol"
          },
          {
           "pod listing vol": 41495923.164125,
           "pod order vol": 11084311.640525,
           "season": 8025,
           "timestamp": "2022-10-26T13:53:23",
           "total bean vol": 6156836.599569,
           "total pod vol": 52580234.80465,
           "value": 6156836.599569,
           "variable": "total bean vol"
          },
          {
           "pod listing vol": 41495923.164125,
           "pod order vol": 11084311.640525,
           "season": 8025,
           "timestamp": "2022-10-26T13:53:23",
           "total bean vol": 6156836.599569,
           "total pod vol": 52580234.80465,
           "value": 41495923.164125,
           "variable": "pod listing vol"
          },
          {
           "pod listing vol": 41495923.164125,
           "pod order vol": 11084311.640525,
           "season": 8025,
           "timestamp": "2022-10-26T13:53:23",
           "total bean vol": 6156836.599569,
           "total pod vol": 52580234.80465,
           "value": 11084311.640525,
           "variable": "pod order vol"
          },
          {
           "pod listing vol": 41496488.554812,
           "pod order vol": 11084311.640525,
           "season": 8049,
           "timestamp": "2022-10-27T23:15:59",
           "total bean vol": 6156921.408172,
           "total pod vol": 52580800.195337,
           "value": 41496488.554812,
           "variable": "pod listing vol"
          },
          {
           "pod listing vol": 41496488.554812,
           "pod order vol": 11084311.640525,
           "season": 8049,
           "timestamp": "2022-10-27T23:15:59",
           "total bean vol": 6156921.408172,
           "total pod vol": 52580800.195337,
           "value": 11084311.640525,
           "variable": "pod order vol"
          },
          {
           "pod listing vol": 41496488.554812,
           "pod order vol": 11084311.640525,
           "season": 8049,
           "timestamp": "2022-10-27T23:15:59",
           "total bean vol": 6156921.408172,
           "total pod vol": 52580800.195337,
           "value": 6156921.408172,
           "variable": "total bean vol"
          },
          {
           "pod listing vol": 41496488.554812,
           "pod order vol": 11084311.640525,
           "season": 8049,
           "timestamp": "2022-10-27T23:15:59",
           "total bean vol": 6156921.408172,
           "total pod vol": 52580800.195337,
           "value": 52580800.195337,
           "variable": "total pod vol"
          },
          {
           "pod listing vol": 41496488.554812,
           "pod order vol": 11084311.640525,
           "season": 8073,
           "timestamp": "2022-10-28T00:00:11",
           "total bean vol": 6156921.408172,
           "total pod vol": 52580800.195337,
           "value": 41496488.554812,
           "variable": "pod listing vol"
          },
          {
           "pod listing vol": 41496488.554812,
           "pod order vol": 11084311.640525,
           "season": 8073,
           "timestamp": "2022-10-28T00:00:11",
           "total bean vol": 6156921.408172,
           "total pod vol": 52580800.195337,
           "value": 11084311.640525,
           "variable": "pod order vol"
          },
          {
           "pod listing vol": 41496488.554812,
           "pod order vol": 11084311.640525,
           "season": 8073,
           "timestamp": "2022-10-28T00:00:11",
           "total bean vol": 6156921.408172,
           "total pod vol": 52580800.195337,
           "value": 6156921.408172,
           "variable": "total bean vol"
          },
          {
           "pod listing vol": 41496488.554812,
           "pod order vol": 11084311.640525,
           "season": 8073,
           "timestamp": "2022-10-28T00:00:11",
           "total bean vol": 6156921.408172,
           "total pod vol": 52580800.195337,
           "value": 52580800.195337,
           "variable": "total pod vol"
          },
          {
           "pod listing vol": 41509872.743971,
           "pod order vol": 11084311.640525,
           "season": 8097,
           "timestamp": "2022-10-29T16:21:47",
           "total bean vol": 6157567.851271,
           "total pod vol": 52594184.384496,
           "value": 52594184.384496,
           "variable": "total pod vol"
          },
          {
           "pod listing vol": 41509872.743971,
           "pod order vol": 11084311.640525,
           "season": 8097,
           "timestamp": "2022-10-29T16:21:47",
           "total bean vol": 6157567.851271,
           "total pod vol": 52594184.384496,
           "value": 6157567.851271,
           "variable": "total bean vol"
          },
          {
           "pod listing vol": 41509872.743971,
           "pod order vol": 11084311.640525,
           "season": 8097,
           "timestamp": "2022-10-29T16:21:47",
           "total bean vol": 6157567.851271,
           "total pod vol": 52594184.384496,
           "value": 41509872.743971,
           "variable": "pod listing vol"
          },
          {
           "pod listing vol": 41509872.743971,
           "pod order vol": 11084311.640525,
           "season": 8097,
           "timestamp": "2022-10-29T16:21:47",
           "total bean vol": 6157567.851271,
           "total pod vol": 52594184.384496,
           "value": 11084311.640525,
           "variable": "pod order vol"
          },
          {
           "pod listing vol": 41512754.899823,
           "pod order vol": 11084311.640525,
           "season": 8121,
           "timestamp": "2022-10-30T16:36:35",
           "total bean vol": 6157635.567182,
           "total pod vol": 52597066.540348,
           "value": 41512754.899823,
           "variable": "pod listing vol"
          },
          {
           "pod listing vol": 41512754.899823,
           "pod order vol": 11084311.640525,
           "season": 8121,
           "timestamp": "2022-10-30T16:36:35",
           "total bean vol": 6157635.567182,
           "total pod vol": 52597066.540348,
           "value": 11084311.640525,
           "variable": "pod order vol"
          },
          {
           "pod listing vol": 41512754.899823,
           "pod order vol": 11084311.640525,
           "season": 8121,
           "timestamp": "2022-10-30T16:36:35",
           "total bean vol": 6157635.567182,
           "total pod vol": 52597066.540348,
           "value": 6157635.567182,
           "variable": "total bean vol"
          },
          {
           "pod listing vol": 41512754.899823,
           "pod order vol": 11084311.640525,
           "season": 8121,
           "timestamp": "2022-10-30T16:36:35",
           "total bean vol": 6157635.567182,
           "total pod vol": 52597066.540348,
           "value": 52597066.540348,
           "variable": "total pod vol"
          },
          {
           "pod listing vol": 41512754.899823,
           "pod order vol": 11165000.911991,
           "season": 8138,
           "timestamp": "2022-10-31T00:00:11",
           "total bean vol": 6167390.595153,
           "total pod vol": 52677755.811814,
           "value": 6167390.595153,
           "variable": "total bean vol"
          },
          {
           "pod listing vol": 41512754.899823,
           "pod order vol": 11165000.911991,
           "season": 8138,
           "timestamp": "2022-10-31T00:00:11",
           "total bean vol": 6167390.595153,
           "total pod vol": 52677755.811814,
           "value": 41512754.899823,
           "variable": "pod listing vol"
          },
          {
           "pod listing vol": 41512754.899823,
           "pod order vol": 11165000.911991,
           "season": 8138,
           "timestamp": "2022-10-31T00:00:11",
           "total bean vol": 6167390.595153,
           "total pod vol": 52677755.811814,
           "value": 11165000.911991,
           "variable": "pod order vol"
          },
          {
           "pod listing vol": 41512754.899823,
           "pod order vol": 11165000.911991,
           "season": 8138,
           "timestamp": "2022-10-31T00:00:11",
           "total bean vol": 6167390.595153,
           "total pod vol": 52677755.811814,
           "value": 52677755.811814,
           "variable": "total pod vol"
          }
         ]
        },
        "layer": [
         {
          "encoding": {
           "color": {
            "field": "variable",
            "legend": {
             "title": null
            },
            "scale": {
             "domain": [
              "pod listing vol",
              "pod order vol",
              "total bean vol",
              "total pod vol"
             ],
             "range": [
              "#B5E48C",
              "#52B69A",
              "#168AAD",
              "#184E77"
             ]
            },
            "type": "nominal"
           },
           "order": {
            "field": "stack_order",
            "sort": "ascending",
            "type": "quantitative"
           },
           "x": {
            "axis": {
             "formatType": "time",
             "labelAngle": 0,
             "labelExpr": "timeFormat(toDate(datum.value), '%b %e, %Y')",
             "labelOverlap": true,
             "labelPadding": 5,
             "labelSeparation": 50,
             "ticks": false,
             "title": "Date"
            },
            "field": "timestamp",
            "type": "ordinal"
           },
           "y": {
            "axis": {
             "format": ".3~s",
             "title": "Volume"
            },
            "field": "value",
            "type": "quantitative"
           }
          },
          "mark": "area",
          "title": "Farmer's Market Volume",
          "transform": [
           {
            "as": "stack_order",
            "calculate": "datum['variable'] === 'pod listing vol' ? 0 :  datum['variable'] === 'pod order vol' ? 1 :  datum['variable'] === 'total bean vol' ? 2 :  datum['variable'] === 'total pod vol' ? 3 : 4"
           },
           {
            "filter": "datum['variable'] == 'pod listing vol' | datum['variable'] == 'pod order vol' | datum['variable'] == 'total bean vol'"
           }
          ],
          "width": 700
         },
         {
          "encoding": {
           "color": {
            "field": "variable",
            "legend": {
             "title": null
            },
            "scale": {
             "domain": [
              "pod listing vol",
              "pod order vol",
              "total bean vol",
              "total pod vol"
             ],
             "range": [
              "#B5E48C",
              "#52B69A",
              "#168AAD",
              "#184E77"
             ]
            },
            "type": "nominal"
           },
           "order": {
            "field": "stack_order",
            "sort": "ascending",
            "type": "quantitative"
           },
           "x": {
            "axis": {
             "formatType": "time",
             "labelAngle": 0,
             "labelExpr": "timeFormat(toDate(datum.value), '%b %e, %Y')",
             "labelOverlap": true,
             "labelPadding": 5,
             "labelSeparation": 50,
             "ticks": false,
             "title": "Date"
            },
            "field": "timestamp",
            "type": "ordinal"
           },
           "y": {
            "axis": {
             "format": ".3~s",
             "title": "Volume"
            },
            "field": "value",
            "type": "quantitative"
           }
          },
          "mark": "line",
          "title": "Farmer's Market Volume",
          "transform": [
           {
            "as": "stack_order",
            "calculate": "datum['variable'] === 'pod listing vol' ? 0 :  datum['variable'] === 'pod order vol' ? 1 :  datum['variable'] === 'total bean vol' ? 2 :  datum['variable'] === 'total pod vol' ? 3 : 4"
           },
           {
            "filter": "datum['variable'] == 'total pod vol'"
           }
          ],
          "width": 700
         },
         {
          "encoding": {
           "x": {
            "axis": {
             "formatType": "time",
             "labelAngle": 0,
             "labelExpr": "timeFormat(toDate(datum.value), '%b %e, %Y')",
             "labelOverlap": true,
             "labelPadding": 5,
             "labelSeparation": 50,
             "ticks": false,
             "title": "Date"
            },
            "field": "timestamp",
            "type": "ordinal"
           }
          },
          "mark": {
           "color": "#474440",
           "opacity": 1,
           "strokeDash": [
            2.5,
            1
           ],
           "type": "rule"
          },
          "title": "Farmer's Market Volume",
          "transform": [
           {
            "as": "stack_order",
            "calculate": "datum['variable'] === 'pod listing vol' ? 0 :  datum['variable'] === 'pod order vol' ? 1 :  datum['variable'] === 'total bean vol' ? 2 :  datum['variable'] === 'total pod vol' ? 3 : 4"
           },
           {
            "groupby": [
             "timestamp"
            ],
            "pivot": "variable",
            "value": "value"
           },
           {
            "filter": "\n            year(datum['timestamp']) === 2022 && \n            month(datum['timestamp']) === 3 && \n            date(datum['timestamp']) === 17 \n        "
           }
          ],
          "width": 700
         },
         {
          "encoding": {
           "opacity": {
            "condition": {
             "selection": "selector003",
             "value": 1
            },
            "value": 0
           },
           "tooltip": [
            {
             "field": "timestamp",
             "timeUnit": "yearmonthdate",
             "title": "date",
             "type": "ordinal"
            },
            {
             "field": "pod listing vol",
             "format": ",d",
             "type": "quantitative"
            },
            {
             "field": "pod order vol",
             "format": ",d",
             "type": "quantitative"
            },
            {
             "field": "total bean vol",
             "format": ",d",
             "type": "quantitative"
            },
            {
             "field": "total pod vol",
             "format": ",d",
             "type": "quantitative"
            }
           ],
           "x": {
            "axis": {
             "formatType": "time",
             "labelAngle": 0,
             "labelExpr": "timeFormat(toDate(datum.value), '%b %e, %Y')",
             "labelOverlap": true,
             "labelPadding": 5,
             "labelSeparation": 50,
             "ticks": false,
             "title": "Date"
            },
            "field": "timestamp",
            "type": "ordinal"
           }
          },
          "mark": {
           "color": "#878787",
           "type": "rule"
          },
          "selection": {
           "selector003": {
            "clear": "mouseout",
            "empty": "none",
            "fields": [
             "timestamp"
            ],
            "nearest": true,
            "on": "mouseover",
            "type": "single"
           }
          },
          "title": "Farmer's Market Volume",
          "transform": [
           {
            "as": "stack_order",
            "calculate": "datum['variable'] === 'pod listing vol' ? 0 :  datum['variable'] === 'pod order vol' ? 1 :  datum['variable'] === 'total bean vol' ? 2 :  datum['variable'] === 'total pod vol' ? 3 : 4"
           },
           {
            "groupby": [
             "timestamp"
            ],
            "pivot": "variable",
            "value": "value"
           }
          ],
          "width": 700
         }
        ]
       },
       "width_paths": [
        {
         "factor": 1,
         "path": [
          "config",
          "view",
          "continuousWidth"
         ],
         "value": 400
        },
        {
         "factor": 1,
         "path": [
          "layer",
          0,
          "width"
         ],
         "value": 700
        },
        {
         "factor": 1,
         "path": [
          "layer",
          1,
          "width"
         ],
         "value": 700
        },
        {
         "factor": 1,
         "path": [
          "layer",
          2,
          "width"
         ],
         "value": 700
        },
        {
         "factor": 1,
         "path": [
          "layer",
          3,
          "width"
         ],
         "value": 700
        }
       ]
      },
      "text/plain": [
       "<IPython.core.display.JSON object>"
      ]
     },
     "execution_count": 10,
     "metadata": {
      "application/json": {
       "expanded": false,
       "root": "root"
      }
     },
     "output_type": "execute_result"
    }
   ],
   "source": [
    "output_chart(c, css=css)"
   ]
  },
  {
   "cell_type": "code",
   "execution_count": null,
   "id": "c87f7596-fc6b-4a1a-8500-e98483c426eb",
   "metadata": {},
   "outputs": [],
   "source": []
  }
 ],
 "metadata": {
  "kernelspec": {
   "display_name": "beanstalk",
   "language": "python",
   "name": "beanstalk"
  },
  "language_info": {
   "codemirror_mode": {
    "name": "ipython",
    "version": 3
   },
   "file_extension": ".py",
   "mimetype": "text/x-python",
   "name": "python",
   "nbconvert_exporter": "python",
   "pygments_lexer": "ipython3",
   "version": "3.10.5"
  },
  "vscode": {
   "interpreter": {
    "hash": "65a1606879e7cc55db7359bc7bbaab6708e6dced52e1818b18aa46c0dd2503e5"
   }
  }
 },
 "nbformat": 4,
 "nbformat_minor": 5
}
