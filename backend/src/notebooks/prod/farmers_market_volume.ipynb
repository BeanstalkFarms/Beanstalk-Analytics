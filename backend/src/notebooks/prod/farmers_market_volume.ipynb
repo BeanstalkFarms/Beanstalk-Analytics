{
 "cells": [
  {
   "cell_type": "code",
   "execution_count": 11,
   "id": "bb524f98-4f94-476c-b760-7d5dbae7938d",
   "metadata": {},
   "outputs": [],
   "source": [
    "import os \n",
    "import sys \n",
    "\n",
    "cur_path = os.path.abspath(\"../..\")\n",
    "if cur_path not in sys.path: \n",
    "    sys.path.append(cur_path)\n",
    "\n",
    "from functools import cache \n",
    "import numpy as np \n",
    "import pandas as pd \n",
    "import altair as alt \n",
    "from IPython.display import clear_output\n",
    "from altair import datum\n",
    "from dotenv import load_dotenv\n",
    "from subgrounds.subgrounds import Subgrounds, Subgraph\n",
    "from subgrounds.pagination import ShallowStrategy\n",
    "\n",
    "# Required when developing in a jupyter-notebook environment \n",
    "load_dotenv('../../../../.env')\n",
    "\n",
    "from utils_notebook.utils import ddf, load_subgraph, remove_prefix\n",
    "from utils_notebook.vega import (\n",
    "    output_chart, \n",
    "    apply_css, \n",
    "    stack_order_expr, \n",
    "    wide_to_longwide, \n",
    "    chart, \n",
    "    condition_union\n",
    ")\n",
    "from utils_notebook.css import css_tooltip_timeseries_multi_colored"
   ]
  },
  {
   "cell_type": "code",
   "execution_count": 12,
   "id": "4dda51ef-cb6a-4692-9bad-6ea39ab9c6fe",
   "metadata": {},
   "outputs": [],
   "source": [
    "sg: Subgrounds\n",
    "bs: Subgraph\n",
    "sg, bs = load_subgraph()"
   ]
  },
  {
   "cell_type": "code",
   "execution_count": 15,
   "id": "c8137121-ae20-47d5-a002-1cb24c44b55d",
   "metadata": {},
   "outputs": [],
   "source": [
    "def query_farmers_market_snaps(refresh=None):    \n",
    "    snaps = bs.Query.podMarketplaceDailySnapshots(first=10000, orderBy=\"season\", orderDirection='asc')\n",
    "    bs.PodMarketplaceDailySnapshot.timestamp = bs.PodMarketplaceDailySnapshot.createdAt\n",
    "    bs.PodMarketplaceDailySnapshot.total_bean_vol = bs.PodMarketplaceDailySnapshot.beanVolume / 1e6\n",
    "    bs.PodMarketplaceDailySnapshot.total_pod_vol = bs.PodMarketplaceDailySnapshot.podVolume / 1e6\n",
    "    bs.PodMarketplaceDailySnapshot.total_pod_listing_vol = bs.PodMarketplaceDailySnapshot.filledListedPods / 1e6\n",
    "    bs.PodMarketplaceDailySnapshot.total_pod_order_vol = bs.PodMarketplaceDailySnapshot.filledOrderedPods / 1e6\n",
    "    df = sg.query_df([\n",
    "        snaps.timestamp, \n",
    "        snaps.season, \n",
    "        snaps.total_bean_vol, \n",
    "        snaps.total_pod_vol,\n",
    "        snaps.total_pod_listing_vol, \n",
    "        snaps.total_pod_order_vol, \n",
    "    ], pagination_strategy=ShallowStrategy)\n",
    "    df = remove_prefix(df, 'podMarketplaceDailySnapshots_')\n",
    "    return df "
   ]
  },
  {
   "cell_type": "code",
   "execution_count": 16,
   "id": "0e3a79bc-4ff9-4ceb-a341-18397afae356",
   "metadata": {},
   "outputs": [],
   "source": [
    "df_snaps = query_farmers_market_snaps()\n",
    "col_map = {\n",
    "    'total_bean_vol': 'total bean vol', \n",
    "    'total_pod_listing_vol': 'pod listing vol', \n",
    "    'total_pod_order_vol': 'pod order vol', \n",
    "    'total_pod_vol': 'total pod vol',\n",
    "}\n",
    "df_snaps['timestamp'] = pd.to_datetime(df_snaps.timestamp, unit=\"s\")\n",
    "df_snaps = df_snaps.rename(columns=col_map)\n",
    "df_snaps = df_snaps.loc[\n",
    "    (df_snaps['total bean vol'] != 0) & \n",
    "    (df_snaps['total pod vol'] != 0) & \n",
    "    (df_snaps['pod listing vol'] != 0) & \n",
    "    (df_snaps['pod order vol'] != 0)\n",
    "].reset_index(drop=True)"
   ]
  },
  {
   "cell_type": "code",
   "execution_count": 17,
   "id": "66be03c5-4ede-4dbf-bc19-b05d846e2b06",
   "metadata": {},
   "outputs": [
    {
     "data": {
      "text/html": [
       "<div>\n",
       "<style scoped>\n",
       "    .dataframe tbody tr th:only-of-type {\n",
       "        vertical-align: middle;\n",
       "    }\n",
       "\n",
       "    .dataframe tbody tr th {\n",
       "        vertical-align: top;\n",
       "    }\n",
       "\n",
       "    .dataframe thead th {\n",
       "        text-align: right;\n",
       "    }\n",
       "</style>\n",
       "<table border=\"1\" class=\"dataframe\">\n",
       "  <thead>\n",
       "    <tr style=\"text-align: right;\">\n",
       "      <th></th>\n",
       "      <th>timestamp</th>\n",
       "      <th>season</th>\n",
       "      <th>variable</th>\n",
       "      <th>value</th>\n",
       "      <th>pod listing vol</th>\n",
       "      <th>pod order vol</th>\n",
       "      <th>total bean vol</th>\n",
       "      <th>total pod vol</th>\n",
       "    </tr>\n",
       "  </thead>\n",
       "  <tbody>\n",
       "    <tr>\n",
       "      <th>0</th>\n",
       "      <td>2022-02-06 00:00:11</td>\n",
       "      <td>4405</td>\n",
       "      <td>pod listing vol</td>\n",
       "      <td>1.680799e+05</td>\n",
       "      <td>168079.947589</td>\n",
       "      <td>69477.354604</td>\n",
       "      <td>1.150519e+06</td>\n",
       "      <td>237557.302193</td>\n",
       "    </tr>\n",
       "    <tr>\n",
       "      <th>1</th>\n",
       "      <td>2022-02-06 00:00:11</td>\n",
       "      <td>4405</td>\n",
       "      <td>pod order vol</td>\n",
       "      <td>6.947735e+04</td>\n",
       "      <td>168079.947589</td>\n",
       "      <td>69477.354604</td>\n",
       "      <td>1.150519e+06</td>\n",
       "      <td>237557.302193</td>\n",
       "    </tr>\n",
       "    <tr>\n",
       "      <th>2</th>\n",
       "      <td>2022-02-06 00:00:11</td>\n",
       "      <td>4405</td>\n",
       "      <td>total bean vol</td>\n",
       "      <td>1.150519e+06</td>\n",
       "      <td>168079.947589</td>\n",
       "      <td>69477.354604</td>\n",
       "      <td>1.150519e+06</td>\n",
       "      <td>237557.302193</td>\n",
       "    </tr>\n",
       "    <tr>\n",
       "      <th>3</th>\n",
       "      <td>2022-02-06 00:00:11</td>\n",
       "      <td>4405</td>\n",
       "      <td>total pod vol</td>\n",
       "      <td>2.375573e+05</td>\n",
       "      <td>168079.947589</td>\n",
       "      <td>69477.354604</td>\n",
       "      <td>1.150519e+06</td>\n",
       "      <td>237557.302193</td>\n",
       "    </tr>\n",
       "    <tr>\n",
       "      <th>4</th>\n",
       "      <td>2022-02-07 00:00:02</td>\n",
       "      <td>4429</td>\n",
       "      <td>pod listing vol</td>\n",
       "      <td>2.774350e+05</td>\n",
       "      <td>277435.017194</td>\n",
       "      <td>229091.907755</td>\n",
       "      <td>1.868572e+06</td>\n",
       "      <td>506526.924949</td>\n",
       "    </tr>\n",
       "  </tbody>\n",
       "</table>\n",
       "</div>"
      ],
      "text/plain": [
       "            timestamp  season         variable         value  pod listing vol  \\\n",
       "0 2022-02-06 00:00:11    4405  pod listing vol  1.680799e+05    168079.947589   \n",
       "1 2022-02-06 00:00:11    4405    pod order vol  6.947735e+04    168079.947589   \n",
       "2 2022-02-06 00:00:11    4405   total bean vol  1.150519e+06    168079.947589   \n",
       "3 2022-02-06 00:00:11    4405    total pod vol  2.375573e+05    168079.947589   \n",
       "4 2022-02-07 00:00:02    4429  pod listing vol  2.774350e+05    277435.017194   \n",
       "\n",
       "   pod order vol  total bean vol  total pod vol  \n",
       "0   69477.354604    1.150519e+06  237557.302193  \n",
       "1   69477.354604    1.150519e+06  237557.302193  \n",
       "2   69477.354604    1.150519e+06  237557.302193  \n",
       "3   69477.354604    1.150519e+06  237557.302193  \n",
       "4  229091.907755    1.868572e+06  506526.924949  "
      ]
     },
     "execution_count": 17,
     "metadata": {},
     "output_type": "execute_result"
    }
   ],
   "source": [
    "id_vars = ['timestamp', 'season']\n",
    "value_vars = [\n",
    "    'pod listing vol',\n",
    "    'pod order vol',\n",
    "    'total bean vol',\n",
    "    'total pod vol',\n",
    "]\n",
    "df_snaps = wide_to_longwide(df_snaps, \"timestamp\", id_vars, value_vars, sort_col=\"timestamp\") \n",
    "df_snaps.head()"
   ]
  },
  {
   "cell_type": "code",
   "execution_count": 18,
   "id": "ba49b373",
   "metadata": {},
   "outputs": [
    {
     "data": {
      "text/html": [
       "<style></style>"
      ],
      "text/plain": [
       "<IPython.core.display.HTML object>"
      ]
     },
     "metadata": {},
     "output_type": "display_data"
    },
    {
     "data": {
      "text/html": [
       "\n",
       "<div id=\"altair-viz-1c9af1960fdd4dac812de8331d19ddf1\"></div>\n",
       "<script type=\"text/javascript\">\n",
       "  var VEGA_DEBUG = (typeof VEGA_DEBUG == \"undefined\") ? {} : VEGA_DEBUG;\n",
       "  (function(spec, embedOpt){\n",
       "    let outputDiv = document.currentScript.previousElementSibling;\n",
       "    if (outputDiv.id !== \"altair-viz-1c9af1960fdd4dac812de8331d19ddf1\") {\n",
       "      outputDiv = document.getElementById(\"altair-viz-1c9af1960fdd4dac812de8331d19ddf1\");\n",
       "    }\n",
       "    const paths = {\n",
       "      \"vega\": \"https://cdn.jsdelivr.net/npm//vega@5?noext\",\n",
       "      \"vega-lib\": \"https://cdn.jsdelivr.net/npm//vega-lib?noext\",\n",
       "      \"vega-lite\": \"https://cdn.jsdelivr.net/npm//vega-lite@4.17.0?noext\",\n",
       "      \"vega-embed\": \"https://cdn.jsdelivr.net/npm//vega-embed@6?noext\",\n",
       "    };\n",
       "\n",
       "    function maybeLoadScript(lib, version) {\n",
       "      var key = `${lib.replace(\"-\", \"\")}_version`;\n",
       "      return (VEGA_DEBUG[key] == version) ?\n",
       "        Promise.resolve(paths[lib]) :\n",
       "        new Promise(function(resolve, reject) {\n",
       "          var s = document.createElement('script');\n",
       "          document.getElementsByTagName(\"head\")[0].appendChild(s);\n",
       "          s.async = true;\n",
       "          s.onload = () => {\n",
       "            VEGA_DEBUG[key] = version;\n",
       "            return resolve(paths[lib]);\n",
       "          };\n",
       "          s.onerror = () => reject(`Error loading script: ${paths[lib]}`);\n",
       "          s.src = paths[lib];\n",
       "        });\n",
       "    }\n",
       "\n",
       "    function showError(err) {\n",
       "      outputDiv.innerHTML = `<div class=\"error\" style=\"color:red;\">${err}</div>`;\n",
       "      throw err;\n",
       "    }\n",
       "\n",
       "    function displayChart(vegaEmbed) {\n",
       "      vegaEmbed(outputDiv, spec, embedOpt)\n",
       "        .catch(err => showError(`Javascript Error: ${err.message}<br>This usually means there's a typo in your chart specification. See the javascript console for the full traceback.`));\n",
       "    }\n",
       "\n",
       "    if(typeof define === \"function\" && define.amd) {\n",
       "      requirejs.config({paths});\n",
       "      require([\"vega-embed\"], displayChart, err => showError(`Error loading script: ${err.message}`));\n",
       "    } else {\n",
       "      maybeLoadScript(\"vega\", \"5\")\n",
       "        .then(() => maybeLoadScript(\"vega-lite\", \"4.17.0\"))\n",
       "        .then(() => maybeLoadScript(\"vega-embed\", \"6\"))\n",
       "        .catch(showError)\n",
       "        .then(() => displayChart(vegaEmbed));\n",
       "    }\n",
       "  })({\"config\": {\"view\": {\"continuousWidth\": 400, \"continuousHeight\": 300}}, \"layer\": [{\"mark\": \"area\", \"encoding\": {\"color\": {\"field\": \"variable\", \"legend\": {\"title\": null}, \"scale\": {\"domain\": [\"pod listing vol\", \"pod order vol\", \"total bean vol\", \"total pod vol\"], \"range\": [\"#B5E48C\", \"#52B69A\", \"#168AAD\", \"#184E77\"]}, \"type\": \"nominal\"}, \"order\": {\"field\": \"stack_order\", \"sort\": \"ascending\", \"type\": \"quantitative\"}, \"x\": {\"axis\": {\"formatType\": \"time\", \"labelAngle\": 0, \"labelExpr\": \"timeFormat(toDate(datum.value), '%b %e, %Y')\", \"labelOverlap\": true, \"labelPadding\": 5, \"labelSeparation\": 50, \"ticks\": false, \"title\": \"Date\"}, \"field\": \"timestamp\", \"type\": \"ordinal\"}, \"y\": {\"axis\": {\"format\": \".3~s\", \"title\": \"Volume\"}, \"field\": \"value\", \"type\": \"quantitative\"}}, \"title\": \"Farmer's Market Volume\", \"transform\": [{\"calculate\": \"datum['variable'] === 'pod listing vol' ? 0 :  datum['variable'] === 'pod order vol' ? 1 :  datum['variable'] === 'total bean vol' ? 2 :  datum['variable'] === 'total pod vol' ? 3 : 4\", \"as\": \"stack_order\"}, {\"filter\": \"datum['variable'] == 'pod listing vol' | datum['variable'] == 'pod order vol' | datum['variable'] == 'total bean vol'\"}], \"width\": 700}, {\"mark\": \"line\", \"encoding\": {\"color\": {\"field\": \"variable\", \"legend\": {\"title\": null}, \"scale\": {\"domain\": [\"pod listing vol\", \"pod order vol\", \"total bean vol\", \"total pod vol\"], \"range\": [\"#B5E48C\", \"#52B69A\", \"#168AAD\", \"#184E77\"]}, \"type\": \"nominal\"}, \"order\": {\"field\": \"stack_order\", \"sort\": \"ascending\", \"type\": \"quantitative\"}, \"x\": {\"axis\": {\"formatType\": \"time\", \"labelAngle\": 0, \"labelExpr\": \"timeFormat(toDate(datum.value), '%b %e, %Y')\", \"labelOverlap\": true, \"labelPadding\": 5, \"labelSeparation\": 50, \"ticks\": false, \"title\": \"Date\"}, \"field\": \"timestamp\", \"type\": \"ordinal\"}, \"y\": {\"axis\": {\"format\": \".3~s\", \"title\": \"Volume\"}, \"field\": \"value\", \"type\": \"quantitative\"}}, \"title\": \"Farmer's Market Volume\", \"transform\": [{\"calculate\": \"datum['variable'] === 'pod listing vol' ? 0 :  datum['variable'] === 'pod order vol' ? 1 :  datum['variable'] === 'total bean vol' ? 2 :  datum['variable'] === 'total pod vol' ? 3 : 4\", \"as\": \"stack_order\"}, {\"filter\": \"datum['variable'] == 'total pod vol'\"}], \"width\": 700}, {\"mark\": {\"type\": \"rule\", \"color\": \"#474440\", \"opacity\": 1, \"strokeDash\": [2.5, 1]}, \"encoding\": {\"x\": {\"axis\": {\"formatType\": \"time\", \"labelAngle\": 0, \"labelExpr\": \"timeFormat(toDate(datum.value), '%b %e, %Y')\", \"labelOverlap\": true, \"labelPadding\": 5, \"labelSeparation\": 50, \"ticks\": false, \"title\": \"Date\"}, \"field\": \"timestamp\", \"type\": \"ordinal\"}}, \"title\": \"Farmer's Market Volume\", \"transform\": [{\"calculate\": \"datum['variable'] === 'pod listing vol' ? 0 :  datum['variable'] === 'pod order vol' ? 1 :  datum['variable'] === 'total bean vol' ? 2 :  datum['variable'] === 'total pod vol' ? 3 : 4\", \"as\": \"stack_order\"}, {\"pivot\": \"variable\", \"value\": \"value\", \"groupby\": [\"timestamp\"]}, {\"filter\": \"\\n            year(datum['timestamp']) === 2022 && \\n            month(datum['timestamp']) === 3 && \\n            date(datum['timestamp']) === 17 \\n        \"}], \"width\": 700}, {\"mark\": {\"type\": \"rule\", \"color\": \"#878787\"}, \"encoding\": {\"opacity\": {\"condition\": {\"value\": 1, \"selection\": \"selector001\"}, \"value\": 0}, \"tooltip\": [{\"field\": \"timestamp\", \"timeUnit\": \"yearmonthdate\", \"title\": \"date\", \"type\": \"ordinal\"}, {\"field\": \"pod listing vol\", \"format\": \",d\", \"type\": \"quantitative\"}, {\"field\": \"pod order vol\", \"format\": \",d\", \"type\": \"quantitative\"}, {\"field\": \"total bean vol\", \"format\": \",d\", \"type\": \"quantitative\"}, {\"field\": \"total pod vol\", \"format\": \",d\", \"type\": \"quantitative\"}], \"x\": {\"axis\": {\"formatType\": \"time\", \"labelAngle\": 0, \"labelExpr\": \"timeFormat(toDate(datum.value), '%b %e, %Y')\", \"labelOverlap\": true, \"labelPadding\": 5, \"labelSeparation\": 50, \"ticks\": false, \"title\": \"Date\"}, \"field\": \"timestamp\", \"type\": \"ordinal\"}}, \"selection\": {\"selector001\": {\"type\": \"single\", \"fields\": [\"timestamp\"], \"nearest\": true, \"on\": \"mouseover\", \"empty\": \"none\", \"clear\": \"mouseout\"}}, \"title\": \"Farmer's Market Volume\", \"transform\": [{\"calculate\": \"datum['variable'] === 'pod listing vol' ? 0 :  datum['variable'] === 'pod order vol' ? 1 :  datum['variable'] === 'total bean vol' ? 2 :  datum['variable'] === 'total pod vol' ? 3 : 4\", \"as\": \"stack_order\"}, {\"pivot\": \"variable\", \"value\": \"value\", \"groupby\": [\"timestamp\"]}], \"width\": 700}], \"data\": {\"name\": \"data-5900b1ab4a25a3e92becc6b372d35acd\"}, \"$schema\": \"https://vega.github.io/schema/vega-lite/v4.17.0.json\", \"datasets\": {\"data-5900b1ab4a25a3e92becc6b372d35acd\": [{\"timestamp\": \"2022-02-06T00:00:11\", \"season\": 4405, \"variable\": \"pod listing vol\", \"value\": 168079.947589, \"pod listing vol\": 168079.947589, \"pod order vol\": 69477.354604, \"total bean vol\": 1150518.611355, \"total pod vol\": 237557.302193}, {\"timestamp\": \"2022-02-06T00:00:11\", \"season\": 4405, \"variable\": \"pod order vol\", \"value\": 69477.354604, \"pod listing vol\": 168079.947589, \"pod order vol\": 69477.354604, \"total bean vol\": 1150518.611355, \"total pod vol\": 237557.302193}, {\"timestamp\": \"2022-02-06T00:00:11\", \"season\": 4405, \"variable\": \"total bean vol\", \"value\": 1150518.611355, \"pod listing vol\": 168079.947589, \"pod order vol\": 69477.354604, \"total bean vol\": 1150518.611355, \"total pod vol\": 237557.302193}, {\"timestamp\": \"2022-02-06T00:00:11\", \"season\": 4405, \"variable\": \"total pod vol\", \"value\": 237557.302193, \"pod listing vol\": 168079.947589, \"pod order vol\": 69477.354604, \"total bean vol\": 1150518.611355, \"total pod vol\": 237557.302193}, {\"timestamp\": \"2022-02-07T00:00:02\", \"season\": 4429, \"variable\": \"pod listing vol\", \"value\": 277435.017194, \"pod listing vol\": 277435.017194, \"pod order vol\": 229091.907755, \"total bean vol\": 1868572.280147, \"total pod vol\": 506526.924949}, {\"timestamp\": \"2022-02-07T00:00:02\", \"season\": 4429, \"variable\": \"pod order vol\", \"value\": 229091.907755, \"pod listing vol\": 277435.017194, \"pod order vol\": 229091.907755, \"total bean vol\": 1868572.280147, \"total pod vol\": 506526.924949}, {\"timestamp\": \"2022-02-07T00:00:02\", \"season\": 4429, \"variable\": \"total bean vol\", \"value\": 1868572.280147, \"pod listing vol\": 277435.017194, \"pod order vol\": 229091.907755, \"total bean vol\": 1868572.280147, \"total pod vol\": 506526.924949}, {\"timestamp\": \"2022-02-07T00:00:02\", \"season\": 4429, \"variable\": \"total pod vol\", \"value\": 506526.924949, \"pod listing vol\": 277435.017194, \"pod order vol\": 229091.907755, \"total bean vol\": 1868572.280147, \"total pod vol\": 506526.924949}, {\"timestamp\": \"2022-02-08T00:00:30\", \"season\": 4453, \"variable\": \"pod listing vol\", \"value\": 281245.766971, \"pod listing vol\": 281245.766971, \"pod order vol\": 291926.816553, \"total bean vol\": 2398642.147838, \"total pod vol\": 573172.583524}, {\"timestamp\": \"2022-02-08T00:00:30\", \"season\": 4453, \"variable\": \"pod order vol\", \"value\": 291926.816553, \"pod listing vol\": 281245.766971, \"pod order vol\": 291926.816553, \"total bean vol\": 2398642.147838, \"total pod vol\": 573172.583524}, {\"timestamp\": \"2022-02-08T00:00:30\", \"season\": 4453, \"variable\": \"total bean vol\", \"value\": 2398642.147838, \"pod listing vol\": 281245.766971, \"pod order vol\": 291926.816553, \"total bean vol\": 2398642.147838, \"total pod vol\": 573172.583524}, {\"timestamp\": \"2022-02-08T00:00:30\", \"season\": 4453, \"variable\": \"total pod vol\", \"value\": 573172.583524, \"pod listing vol\": 281245.766971, \"pod order vol\": 291926.816553, \"total bean vol\": 2398642.147838, \"total pod vol\": 573172.583524}, {\"timestamp\": \"2022-02-09T00:00:10\", \"season\": 4477, \"variable\": \"total pod vol\", \"value\": 585172.583524, \"pod listing vol\": 293245.766971, \"pod order vol\": 291926.816553, \"total bean vol\": 3129505.935636, \"total pod vol\": 585172.583524}, {\"timestamp\": \"2022-02-09T00:00:10\", \"season\": 4477, \"variable\": \"total bean vol\", \"value\": 3129505.935636, \"pod listing vol\": 293245.766971, \"pod order vol\": 291926.816553, \"total bean vol\": 3129505.935636, \"total pod vol\": 585172.583524}, {\"timestamp\": \"2022-02-09T00:00:10\", \"season\": 4477, \"variable\": \"pod listing vol\", \"value\": 293245.766971, \"pod listing vol\": 293245.766971, \"pod order vol\": 291926.816553, \"total bean vol\": 3129505.935636, \"total pod vol\": 585172.583524}, {\"timestamp\": \"2022-02-09T00:00:10\", \"season\": 4477, \"variable\": \"pod order vol\", \"value\": 291926.816553, \"pod listing vol\": 293245.766971, \"pod order vol\": 291926.816553, \"total bean vol\": 3129505.935636, \"total pod vol\": 585172.583524}, {\"timestamp\": \"2022-02-10T00:00:44\", \"season\": 4501, \"variable\": \"pod listing vol\", \"value\": 306359.480163, \"pod listing vol\": 306359.480163, \"pod order vol\": 291926.816553, \"total bean vol\": 4639598.338425, \"total pod vol\": 598286.296716}, {\"timestamp\": \"2022-02-10T00:00:44\", \"season\": 4501, \"variable\": \"pod order vol\", \"value\": 291926.816553, \"pod listing vol\": 306359.480163, \"pod order vol\": 291926.816553, \"total bean vol\": 4639598.338425, \"total pod vol\": 598286.296716}, {\"timestamp\": \"2022-02-10T00:00:44\", \"season\": 4501, \"variable\": \"total bean vol\", \"value\": 4639598.338425, \"pod listing vol\": 306359.480163, \"pod order vol\": 291926.816553, \"total bean vol\": 4639598.338425, \"total pod vol\": 598286.296716}, {\"timestamp\": \"2022-02-10T00:00:44\", \"season\": 4501, \"variable\": \"total pod vol\", \"value\": 598286.296716, \"pod listing vol\": 306359.480163, \"pod order vol\": 291926.816553, \"total bean vol\": 4639598.338425, \"total pod vol\": 598286.296716}, {\"timestamp\": \"2022-02-11T00:00:06\", \"season\": 4525, \"variable\": \"pod listing vol\", \"value\": 308366.526236, \"pod listing vol\": 308366.526236, \"pod order vol\": 291926.816553, \"total bean vol\": 4669517.176412, \"total pod vol\": 600293.342789}, {\"timestamp\": \"2022-02-11T00:00:06\", \"season\": 4525, \"variable\": \"pod order vol\", \"value\": 291926.816553, \"pod listing vol\": 308366.526236, \"pod order vol\": 291926.816553, \"total bean vol\": 4669517.176412, \"total pod vol\": 600293.342789}, {\"timestamp\": \"2022-02-11T00:00:06\", \"season\": 4525, \"variable\": \"total bean vol\", \"value\": 4669517.176412, \"pod listing vol\": 308366.526236, \"pod order vol\": 291926.816553, \"total bean vol\": 4669517.176412, \"total pod vol\": 600293.342789}, {\"timestamp\": \"2022-02-11T00:00:06\", \"season\": 4525, \"variable\": \"total pod vol\", \"value\": 600293.342789, \"pod listing vol\": 308366.526236, \"pod order vol\": 291926.816553, \"total bean vol\": 4669517.176412, \"total pod vol\": 600293.342789}, {\"timestamp\": \"2022-02-12T00:00:06\", \"season\": 4549, \"variable\": \"total pod vol\", \"value\": 601824.828252, \"pod listing vol\": 309898.011699, \"pod order vol\": 291926.816553, \"total bean vol\": 5110303.835758, \"total pod vol\": 601824.828252}, {\"timestamp\": \"2022-02-12T00:00:06\", \"season\": 4549, \"variable\": \"pod listing vol\", \"value\": 309898.011699, \"pod listing vol\": 309898.011699, \"pod order vol\": 291926.816553, \"total bean vol\": 5110303.835758, \"total pod vol\": 601824.828252}, {\"timestamp\": \"2022-02-12T00:00:06\", \"season\": 4549, \"variable\": \"pod order vol\", \"value\": 291926.816553, \"pod listing vol\": 309898.011699, \"pod order vol\": 291926.816553, \"total bean vol\": 5110303.835758, \"total pod vol\": 601824.828252}, {\"timestamp\": \"2022-02-12T00:00:06\", \"season\": 4549, \"variable\": \"total bean vol\", \"value\": 5110303.835758, \"pod listing vol\": 309898.011699, \"pod order vol\": 291926.816553, \"total bean vol\": 5110303.835758, \"total pod vol\": 601824.828252}, {\"timestamp\": \"2022-02-13T00:00:56\", \"season\": 4573, \"variable\": \"total pod vol\", \"value\": 605669.866688, \"pod listing vol\": 313743.050135, \"pod order vol\": 291926.816553, \"total bean vol\": 5152539.950363, \"total pod vol\": 605669.866688}, {\"timestamp\": \"2022-02-13T00:00:56\", \"season\": 4573, \"variable\": \"total bean vol\", \"value\": 5152539.950363, \"pod listing vol\": 313743.050135, \"pod order vol\": 291926.816553, \"total bean vol\": 5152539.950363, \"total pod vol\": 605669.866688}, {\"timestamp\": \"2022-02-13T00:00:56\", \"season\": 4573, \"variable\": \"pod listing vol\", \"value\": 313743.050135, \"pod listing vol\": 313743.050135, \"pod order vol\": 291926.816553, \"total bean vol\": 5152539.950363, \"total pod vol\": 605669.866688}, {\"timestamp\": \"2022-02-13T00:00:56\", \"season\": 4573, \"variable\": \"pod order vol\", \"value\": 291926.816553, \"pod listing vol\": 313743.050135, \"pod order vol\": 291926.816553, \"total bean vol\": 5152539.950363, \"total pod vol\": 605669.866688}, {\"timestamp\": \"2022-02-14T00:00:11\", \"season\": 4597, \"variable\": \"pod listing vol\", \"value\": 313743.050135, \"pod listing vol\": 313743.050135, \"pod order vol\": 291926.816553, \"total bean vol\": 5384940.581478, \"total pod vol\": 605669.866688}, {\"timestamp\": \"2022-02-14T00:00:11\", \"season\": 4597, \"variable\": \"pod order vol\", \"value\": 291926.816553, \"pod listing vol\": 313743.050135, \"pod order vol\": 291926.816553, \"total bean vol\": 5384940.581478, \"total pod vol\": 605669.866688}, {\"timestamp\": \"2022-02-14T00:00:11\", \"season\": 4597, \"variable\": \"total bean vol\", \"value\": 5384940.581478, \"pod listing vol\": 313743.050135, \"pod order vol\": 291926.816553, \"total bean vol\": 5384940.581478, \"total pod vol\": 605669.866688}, {\"timestamp\": \"2022-02-14T00:00:11\", \"season\": 4597, \"variable\": \"total pod vol\", \"value\": 605669.866688, \"pod listing vol\": 313743.050135, \"pod order vol\": 291926.816553, \"total bean vol\": 5384940.581478, \"total pod vol\": 605669.866688}, {\"timestamp\": \"2022-02-15T00:00:35\", \"season\": 4621, \"variable\": \"pod listing vol\", \"value\": 313743.050135, \"pod listing vol\": 313743.050135, \"pod order vol\": 291926.816553, \"total bean vol\": 5450738.487752, \"total pod vol\": 605669.866688}, {\"timestamp\": \"2022-02-15T00:00:35\", \"season\": 4621, \"variable\": \"pod order vol\", \"value\": 291926.816553, \"pod listing vol\": 313743.050135, \"pod order vol\": 291926.816553, \"total bean vol\": 5450738.487752, \"total pod vol\": 605669.866688}, {\"timestamp\": \"2022-02-15T00:00:35\", \"season\": 4621, \"variable\": \"total bean vol\", \"value\": 5450738.487752, \"pod listing vol\": 313743.050135, \"pod order vol\": 291926.816553, \"total bean vol\": 5450738.487752, \"total pod vol\": 605669.866688}, {\"timestamp\": \"2022-02-15T00:00:35\", \"season\": 4621, \"variable\": \"total pod vol\", \"value\": 605669.866688, \"pod listing vol\": 313743.050135, \"pod order vol\": 291926.816553, \"total bean vol\": 5450738.487752, \"total pod vol\": 605669.866688}, {\"timestamp\": \"2022-02-16T00:00:34\", \"season\": 4645, \"variable\": \"total pod vol\", \"value\": 674882.864164, \"pod listing vol\": 381540.956409, \"pod order vol\": 293341.907755, \"total bean vol\": 5731059.453984, \"total pod vol\": 674882.864164}, {\"timestamp\": \"2022-02-16T00:00:34\", \"season\": 4645, \"variable\": \"pod listing vol\", \"value\": 381540.956409, \"pod listing vol\": 381540.956409, \"pod order vol\": 293341.907755, \"total bean vol\": 5731059.453984, \"total pod vol\": 674882.864164}, {\"timestamp\": \"2022-02-16T00:00:34\", \"season\": 4645, \"variable\": \"pod order vol\", \"value\": 293341.907755, \"pod listing vol\": 381540.956409, \"pod order vol\": 293341.907755, \"total bean vol\": 5731059.453984, \"total pod vol\": 674882.864164}, {\"timestamp\": \"2022-02-16T00:00:34\", \"season\": 4645, \"variable\": \"total bean vol\", \"value\": 5731059.453984, \"pod listing vol\": 381540.956409, \"pod order vol\": 293341.907755, \"total bean vol\": 5731059.453984, \"total pod vol\": 674882.864164}, {\"timestamp\": \"2022-02-17T00:00:02\", \"season\": 4669, \"variable\": \"total pod vol\", \"value\": 684681.294192, \"pod listing vol\": 391339.386437, \"pod order vol\": 293341.907755, \"total bean vol\": 5794158.701392, \"total pod vol\": 684681.294192}, {\"timestamp\": \"2022-02-17T00:00:02\", \"season\": 4669, \"variable\": \"total bean vol\", \"value\": 5794158.701392, \"pod listing vol\": 391339.386437, \"pod order vol\": 293341.907755, \"total bean vol\": 5794158.701392, \"total pod vol\": 684681.294192}, {\"timestamp\": \"2022-02-17T00:00:02\", \"season\": 4669, \"variable\": \"pod order vol\", \"value\": 293341.907755, \"pod listing vol\": 391339.386437, \"pod order vol\": 293341.907755, \"total bean vol\": 5794158.701392, \"total pod vol\": 684681.294192}, {\"timestamp\": \"2022-02-17T00:00:02\", \"season\": 4669, \"variable\": \"pod listing vol\", \"value\": 391339.386437, \"pod listing vol\": 391339.386437, \"pod order vol\": 293341.907755, \"total bean vol\": 5794158.701392, \"total pod vol\": 684681.294192}, {\"timestamp\": \"2022-02-18T00:00:14\", \"season\": 4693, \"variable\": \"pod listing vol\", \"value\": 779796.756941, \"pod listing vol\": 779796.756941, \"pod order vol\": 305841.907755, \"total bean vol\": 5863856.228832, \"total pod vol\": 1085638.664696}, {\"timestamp\": \"2022-02-18T00:00:14\", \"season\": 4693, \"variable\": \"pod order vol\", \"value\": 305841.907755, \"pod listing vol\": 779796.756941, \"pod order vol\": 305841.907755, \"total bean vol\": 5863856.228832, \"total pod vol\": 1085638.664696}, {\"timestamp\": \"2022-02-18T00:00:14\", \"season\": 4693, \"variable\": \"total bean vol\", \"value\": 5863856.228832, \"pod listing vol\": 779796.756941, \"pod order vol\": 305841.907755, \"total bean vol\": 5863856.228832, \"total pod vol\": 1085638.664696}, {\"timestamp\": \"2022-02-18T00:00:14\", \"season\": 4693, \"variable\": \"total pod vol\", \"value\": 1085638.664696, \"pod listing vol\": 779796.756941, \"pod order vol\": 305841.907755, \"total bean vol\": 5863856.228832, \"total pod vol\": 1085638.664696}, {\"timestamp\": \"2022-02-19T00:00:02\", \"season\": 4717, \"variable\": \"total pod vol\", \"value\": 1284031.576806, \"pod listing vol\": 779796.756941, \"pod order vol\": 504234.819865, \"total bean vol\": 5890442.904892, \"total pod vol\": 1284031.576806}, {\"timestamp\": \"2022-02-19T00:00:02\", \"season\": 4717, \"variable\": \"pod listing vol\", \"value\": 779796.756941, \"pod listing vol\": 779796.756941, \"pod order vol\": 504234.819865, \"total bean vol\": 5890442.904892, \"total pod vol\": 1284031.576806}, {\"timestamp\": \"2022-02-19T00:00:02\", \"season\": 4717, \"variable\": \"pod order vol\", \"value\": 504234.819865, \"pod listing vol\": 779796.756941, \"pod order vol\": 504234.819865, \"total bean vol\": 5890442.904892, \"total pod vol\": 1284031.576806}, {\"timestamp\": \"2022-02-19T00:00:02\", \"season\": 4717, \"variable\": \"total bean vol\", \"value\": 5890442.904892, \"pod listing vol\": 779796.756941, \"pod order vol\": 504234.819865, \"total bean vol\": 5890442.904892, \"total pod vol\": 1284031.576806}, {\"timestamp\": \"2022-02-20T00:00:15\", \"season\": 4741, \"variable\": \"total bean vol\", \"value\": 6101274.576812, \"pod listing vol\": 779796.756941, \"pod order vol\": 505870.073468, \"total bean vol\": 6101274.576812, \"total pod vol\": 1285666.830409}, {\"timestamp\": \"2022-02-20T00:00:15\", \"season\": 4741, \"variable\": \"total pod vol\", \"value\": 1285666.830409, \"pod listing vol\": 779796.756941, \"pod order vol\": 505870.073468, \"total bean vol\": 6101274.576812, \"total pod vol\": 1285666.830409}, {\"timestamp\": \"2022-02-20T00:00:15\", \"season\": 4741, \"variable\": \"pod listing vol\", \"value\": 779796.756941, \"pod listing vol\": 779796.756941, \"pod order vol\": 505870.073468, \"total bean vol\": 6101274.576812, \"total pod vol\": 1285666.830409}, {\"timestamp\": \"2022-02-20T00:00:15\", \"season\": 4741, \"variable\": \"pod order vol\", \"value\": 505870.073468, \"pod listing vol\": 779796.756941, \"pod order vol\": 505870.073468, \"total bean vol\": 6101274.576812, \"total pod vol\": 1285666.830409}, {\"timestamp\": \"2022-02-21T00:00:06\", \"season\": 4765, \"variable\": \"total pod vol\", \"value\": 1285666.830409, \"pod listing vol\": 779796.756941, \"pod order vol\": 505870.073468, \"total bean vol\": 6399835.099278, \"total pod vol\": 1285666.830409}, {\"timestamp\": \"2022-02-21T00:00:06\", \"season\": 4765, \"variable\": \"total bean vol\", \"value\": 6399835.099278, \"pod listing vol\": 779796.756941, \"pod order vol\": 505870.073468, \"total bean vol\": 6399835.099278, \"total pod vol\": 1285666.830409}, {\"timestamp\": \"2022-02-21T00:00:06\", \"season\": 4765, \"variable\": \"pod order vol\", \"value\": 505870.073468, \"pod listing vol\": 779796.756941, \"pod order vol\": 505870.073468, \"total bean vol\": 6399835.099278, \"total pod vol\": 1285666.830409}, {\"timestamp\": \"2022-02-21T00:00:06\", \"season\": 4765, \"variable\": \"pod listing vol\", \"value\": 779796.756941, \"pod listing vol\": 779796.756941, \"pod order vol\": 505870.073468, \"total bean vol\": 6399835.099278, \"total pod vol\": 1285666.830409}, {\"timestamp\": \"2022-02-22T00:00:01\", \"season\": 4789, \"variable\": \"pod listing vol\", \"value\": 966930.285853, \"pod listing vol\": 966930.285853, \"pod order vol\": 506870.184018, \"total bean vol\": 6665856.477585, \"total pod vol\": 1473800.469871}, {\"timestamp\": \"2022-02-22T00:00:01\", \"season\": 4789, \"variable\": \"pod order vol\", \"value\": 506870.184018, \"pod listing vol\": 966930.285853, \"pod order vol\": 506870.184018, \"total bean vol\": 6665856.477585, \"total pod vol\": 1473800.469871}, {\"timestamp\": \"2022-02-22T00:00:01\", \"season\": 4789, \"variable\": \"total bean vol\", \"value\": 6665856.477585, \"pod listing vol\": 966930.285853, \"pod order vol\": 506870.184018, \"total bean vol\": 6665856.477585, \"total pod vol\": 1473800.469871}, {\"timestamp\": \"2022-02-22T00:00:01\", \"season\": 4789, \"variable\": \"total pod vol\", \"value\": 1473800.469871, \"pod listing vol\": 966930.285853, \"pod order vol\": 506870.184018, \"total bean vol\": 6665856.477585, \"total pod vol\": 1473800.469871}, {\"timestamp\": \"2022-02-23T00:00:27\", \"season\": 4813, \"variable\": \"pod listing vol\", \"value\": 966930.285853, \"pod listing vol\": 966930.285853, \"pod order vol\": 507353.86569, \"total bean vol\": 8080791.090537, \"total pod vol\": 1474284.151543}, {\"timestamp\": \"2022-02-23T00:00:27\", \"season\": 4813, \"variable\": \"pod order vol\", \"value\": 507353.86569, \"pod listing vol\": 966930.285853, \"pod order vol\": 507353.86569, \"total bean vol\": 8080791.090537, \"total pod vol\": 1474284.151543}, {\"timestamp\": \"2022-02-23T00:00:27\", \"season\": 4813, \"variable\": \"total bean vol\", \"value\": 8080791.090537, \"pod listing vol\": 966930.285853, \"pod order vol\": 507353.86569, \"total bean vol\": 8080791.090537, \"total pod vol\": 1474284.151543}, {\"timestamp\": \"2022-02-23T00:00:27\", \"season\": 4813, \"variable\": \"total pod vol\", \"value\": 1474284.151543, \"pod listing vol\": 966930.285853, \"pod order vol\": 507353.86569, \"total bean vol\": 8080791.090537, \"total pod vol\": 1474284.151543}, {\"timestamp\": \"2022-02-24T00:00:01\", \"season\": 4837, \"variable\": \"pod listing vol\", \"value\": 970675.63203, \"pod listing vol\": 970675.63203, \"pod order vol\": 819961.01814, \"total bean vol\": 8239864.029986, \"total pod vol\": 1790636.65017}, {\"timestamp\": \"2022-02-24T00:00:01\", \"season\": 4837, \"variable\": \"pod order vol\", \"value\": 819961.01814, \"pod listing vol\": 970675.63203, \"pod order vol\": 819961.01814, \"total bean vol\": 8239864.029986, \"total pod vol\": 1790636.65017}, {\"timestamp\": \"2022-02-24T00:00:01\", \"season\": 4837, \"variable\": \"total bean vol\", \"value\": 8239864.029986, \"pod listing vol\": 970675.63203, \"pod order vol\": 819961.01814, \"total bean vol\": 8239864.029986, \"total pod vol\": 1790636.65017}, {\"timestamp\": \"2022-02-24T00:00:01\", \"season\": 4837, \"variable\": \"total pod vol\", \"value\": 1790636.65017, \"pod listing vol\": 970675.63203, \"pod order vol\": 819961.01814, \"total bean vol\": 8239864.029986, \"total pod vol\": 1790636.65017}, {\"timestamp\": \"2022-02-25T00:00:06\", \"season\": 4861, \"variable\": \"total pod vol\", \"value\": 1790636.65017, \"pod listing vol\": 970675.63203, \"pod order vol\": 819961.01814, \"total bean vol\": 8746605.958348, \"total pod vol\": 1790636.65017}, {\"timestamp\": \"2022-02-25T00:00:06\", \"season\": 4861, \"variable\": \"total bean vol\", \"value\": 8746605.958348, \"pod listing vol\": 970675.63203, \"pod order vol\": 819961.01814, \"total bean vol\": 8746605.958348, \"total pod vol\": 1790636.65017}, {\"timestamp\": \"2022-02-25T00:00:06\", \"season\": 4861, \"variable\": \"pod order vol\", \"value\": 819961.01814, \"pod listing vol\": 970675.63203, \"pod order vol\": 819961.01814, \"total bean vol\": 8746605.958348, \"total pod vol\": 1790636.65017}, {\"timestamp\": \"2022-02-25T00:00:06\", \"season\": 4861, \"variable\": \"pod listing vol\", \"value\": 970675.63203, \"pod listing vol\": 970675.63203, \"pod order vol\": 819961.01814, \"total bean vol\": 8746605.958348, \"total pod vol\": 1790636.65017}, {\"timestamp\": \"2022-02-26T00:00:28\", \"season\": 4885, \"variable\": \"pod listing vol\", \"value\": 974676.112126, \"pod listing vol\": 974676.112126, \"pod order vol\": 919961.01814, \"total bean vol\": 8982173.404675, \"total pod vol\": 1894637.130266}, {\"timestamp\": \"2022-02-26T00:00:28\", \"season\": 4885, \"variable\": \"pod order vol\", \"value\": 919961.01814, \"pod listing vol\": 974676.112126, \"pod order vol\": 919961.01814, \"total bean vol\": 8982173.404675, \"total pod vol\": 1894637.130266}, {\"timestamp\": \"2022-02-26T00:00:28\", \"season\": 4885, \"variable\": \"total bean vol\", \"value\": 8982173.404675, \"pod listing vol\": 974676.112126, \"pod order vol\": 919961.01814, \"total bean vol\": 8982173.404675, \"total pod vol\": 1894637.130266}, {\"timestamp\": \"2022-02-26T00:00:28\", \"season\": 4885, \"variable\": \"total pod vol\", \"value\": 1894637.130266, \"pod listing vol\": 974676.112126, \"pod order vol\": 919961.01814, \"total bean vol\": 8982173.404675, \"total pod vol\": 1894637.130266}, {\"timestamp\": \"2022-02-27T00:00:02\", \"season\": 4909, \"variable\": \"pod listing vol\", \"value\": 977116.960879, \"pod listing vol\": 977116.960879, \"pod order vol\": 986627.684806, \"total bean vol\": 9028225.316542, \"total pod vol\": 1963744.645685}, {\"timestamp\": \"2022-02-27T00:00:02\", \"season\": 4909, \"variable\": \"pod order vol\", \"value\": 986627.684806, \"pod listing vol\": 977116.960879, \"pod order vol\": 986627.684806, \"total bean vol\": 9028225.316542, \"total pod vol\": 1963744.645685}, {\"timestamp\": \"2022-02-27T00:00:02\", \"season\": 4909, \"variable\": \"total bean vol\", \"value\": 9028225.316542, \"pod listing vol\": 977116.960879, \"pod order vol\": 986627.684806, \"total bean vol\": 9028225.316542, \"total pod vol\": 1963744.645685}, {\"timestamp\": \"2022-02-27T00:00:02\", \"season\": 4909, \"variable\": \"total pod vol\", \"value\": 1963744.645685, \"pod listing vol\": 977116.960879, \"pod order vol\": 986627.684806, \"total bean vol\": 9028225.316542, \"total pod vol\": 1963744.645685}, {\"timestamp\": \"2022-02-28T00:00:02\", \"season\": 4933, \"variable\": \"pod listing vol\", \"value\": 977116.960879, \"pod listing vol\": 977116.960879, \"pod order vol\": 986627.684806, \"total bean vol\": 9028225.316542, \"total pod vol\": 1963744.645685}, {\"timestamp\": \"2022-02-28T00:00:02\", \"season\": 4933, \"variable\": \"pod order vol\", \"value\": 986627.684806, \"pod listing vol\": 977116.960879, \"pod order vol\": 986627.684806, \"total bean vol\": 9028225.316542, \"total pod vol\": 1963744.645685}, {\"timestamp\": \"2022-02-28T00:00:02\", \"season\": 4933, \"variable\": \"total bean vol\", \"value\": 9028225.316542, \"pod listing vol\": 977116.960879, \"pod order vol\": 986627.684806, \"total bean vol\": 9028225.316542, \"total pod vol\": 1963744.645685}, {\"timestamp\": \"2022-02-28T00:00:02\", \"season\": 4933, \"variable\": \"total pod vol\", \"value\": 1963744.645685, \"pod listing vol\": 977116.960879, \"pod order vol\": 986627.684806, \"total bean vol\": 9028225.316542, \"total pod vol\": 1963744.645685}, {\"timestamp\": \"2022-03-01T00:00:18\", \"season\": 4957, \"variable\": \"total pod vol\", \"value\": 2497521.65334, \"pod listing vol\": 1510893.968534, \"pod order vol\": 986627.684806, \"total bean vol\": 9100506.246433, \"total pod vol\": 2497521.65334}, {\"timestamp\": \"2022-03-01T00:00:18\", \"season\": 4957, \"variable\": \"total bean vol\", \"value\": 9100506.246433, \"pod listing vol\": 1510893.968534, \"pod order vol\": 986627.684806, \"total bean vol\": 9100506.246433, \"total pod vol\": 2497521.65334}, {\"timestamp\": \"2022-03-01T00:00:18\", \"season\": 4957, \"variable\": \"pod order vol\", \"value\": 986627.684806, \"pod listing vol\": 1510893.968534, \"pod order vol\": 986627.684806, \"total bean vol\": 9100506.246433, \"total pod vol\": 2497521.65334}, {\"timestamp\": \"2022-03-01T00:00:18\", \"season\": 4957, \"variable\": \"pod listing vol\", \"value\": 1510893.968534, \"pod listing vol\": 1510893.968534, \"pod order vol\": 986627.684806, \"total bean vol\": 9100506.246433, \"total pod vol\": 2497521.65334}, {\"timestamp\": \"2022-03-02T00:00:00\", \"season\": 4981, \"variable\": \"pod listing vol\", \"value\": 1781497.463999, \"pod listing vol\": 1781497.463999, \"pod order vol\": 986627.684806, \"total bean vol\": 9399374.946187, \"total pod vol\": 2768125.148805}, {\"timestamp\": \"2022-03-02T00:00:00\", \"season\": 4981, \"variable\": \"pod order vol\", \"value\": 986627.684806, \"pod listing vol\": 1781497.463999, \"pod order vol\": 986627.684806, \"total bean vol\": 9399374.946187, \"total pod vol\": 2768125.148805}, {\"timestamp\": \"2022-03-02T00:00:00\", \"season\": 4981, \"variable\": \"total bean vol\", \"value\": 9399374.946187, \"pod listing vol\": 1781497.463999, \"pod order vol\": 986627.684806, \"total bean vol\": 9399374.946187, \"total pod vol\": 2768125.148805}, {\"timestamp\": \"2022-03-02T00:00:00\", \"season\": 4981, \"variable\": \"total pod vol\", \"value\": 2768125.148805, \"pod listing vol\": 1781497.463999, \"pod order vol\": 986627.684806, \"total bean vol\": 9399374.946187, \"total pod vol\": 2768125.148805}, {\"timestamp\": \"2022-03-03T00:00:02\", \"season\": 5005, \"variable\": \"pod listing vol\", \"value\": 1808463.008658, \"pod listing vol\": 1808463.008658, \"pod order vol\": 1023139.559462, \"total bean vol\": 9563875.244637, \"total pod vol\": 2831602.56812}, {\"timestamp\": \"2022-03-03T00:00:02\", \"season\": 5005, \"variable\": \"pod order vol\", \"value\": 1023139.559462, \"pod listing vol\": 1808463.008658, \"pod order vol\": 1023139.559462, \"total bean vol\": 9563875.244637, \"total pod vol\": 2831602.56812}, {\"timestamp\": \"2022-03-03T00:00:02\", \"season\": 5005, \"variable\": \"total bean vol\", \"value\": 9563875.244637, \"pod listing vol\": 1808463.008658, \"pod order vol\": 1023139.559462, \"total bean vol\": 9563875.244637, \"total pod vol\": 2831602.56812}, {\"timestamp\": \"2022-03-03T00:00:02\", \"season\": 5005, \"variable\": \"total pod vol\", \"value\": 2831602.56812, \"pod listing vol\": 1808463.008658, \"pod order vol\": 1023139.559462, \"total bean vol\": 9563875.244637, \"total pod vol\": 2831602.56812}, {\"timestamp\": \"2022-03-04T00:00:35\", \"season\": 5029, \"variable\": \"total pod vol\", \"value\": 2850380.615758, \"pod listing vol\": 1808956.440896, \"pod order vol\": 1041424.174862, \"total bean vol\": 10080431.618176, \"total pod vol\": 2850380.615758}, {\"timestamp\": \"2022-03-04T00:00:35\", \"season\": 5029, \"variable\": \"total bean vol\", \"value\": 10080431.618176, \"pod listing vol\": 1808956.440896, \"pod order vol\": 1041424.174862, \"total bean vol\": 10080431.618176, \"total pod vol\": 2850380.615758}, {\"timestamp\": \"2022-03-04T00:00:35\", \"season\": 5029, \"variable\": \"pod order vol\", \"value\": 1041424.174862, \"pod listing vol\": 1808956.440896, \"pod order vol\": 1041424.174862, \"total bean vol\": 10080431.618176, \"total pod vol\": 2850380.615758}, {\"timestamp\": \"2022-03-04T00:00:35\", \"season\": 5029, \"variable\": \"pod listing vol\", \"value\": 1808956.440896, \"pod listing vol\": 1808956.440896, \"pod order vol\": 1041424.174862, \"total bean vol\": 10080431.618176, \"total pod vol\": 2850380.615758}, {\"timestamp\": \"2022-03-05T00:00:30\", \"season\": 5053, \"variable\": \"pod listing vol\", \"value\": 1821582.697854, \"pod listing vol\": 1821582.697854, \"pod order vol\": 1041424.174862, \"total bean vol\": 10086229.59582, \"total pod vol\": 2863006.872716}, {\"timestamp\": \"2022-03-05T00:00:30\", \"season\": 5053, \"variable\": \"pod order vol\", \"value\": 1041424.174862, \"pod listing vol\": 1821582.697854, \"pod order vol\": 1041424.174862, \"total bean vol\": 10086229.59582, \"total pod vol\": 2863006.872716}, {\"timestamp\": \"2022-03-05T00:00:30\", \"season\": 5053, \"variable\": \"total bean vol\", \"value\": 10086229.59582, \"pod listing vol\": 1821582.697854, \"pod order vol\": 1041424.174862, \"total bean vol\": 10086229.59582, \"total pod vol\": 2863006.872716}, {\"timestamp\": \"2022-03-05T00:00:30\", \"season\": 5053, \"variable\": \"total pod vol\", \"value\": 2863006.872716, \"pod listing vol\": 1821582.697854, \"pod order vol\": 1041424.174862, \"total bean vol\": 10086229.59582, \"total pod vol\": 2863006.872716}, {\"timestamp\": \"2022-03-06T00:00:17\", \"season\": 5077, \"variable\": \"pod listing vol\", \"value\": 2067546.741749, \"pod listing vol\": 2067546.741749, \"pod order vol\": 1041424.174862, \"total bean vol\": 10233932.218177, \"total pod vol\": 3108970.916611}, {\"timestamp\": \"2022-03-06T00:00:17\", \"season\": 5077, \"variable\": \"pod order vol\", \"value\": 1041424.174862, \"pod listing vol\": 2067546.741749, \"pod order vol\": 1041424.174862, \"total bean vol\": 10233932.218177, \"total pod vol\": 3108970.916611}, {\"timestamp\": \"2022-03-06T00:00:17\", \"season\": 5077, \"variable\": \"total bean vol\", \"value\": 10233932.218177, \"pod listing vol\": 2067546.741749, \"pod order vol\": 1041424.174862, \"total bean vol\": 10233932.218177, \"total pod vol\": 3108970.916611}, {\"timestamp\": \"2022-03-06T00:00:17\", \"season\": 5077, \"variable\": \"total pod vol\", \"value\": 3108970.916611, \"pod listing vol\": 2067546.741749, \"pod order vol\": 1041424.174862, \"total bean vol\": 10233932.218177, \"total pod vol\": 3108970.916611}, {\"timestamp\": \"2022-03-07T00:00:15\", \"season\": 5101, \"variable\": \"total bean vol\", \"value\": 10541730.957237, \"pod listing vol\": 2108348.639589, \"pod order vol\": 1061613.474497, \"total bean vol\": 10541730.957237, \"total pod vol\": 3169962.114086}, {\"timestamp\": \"2022-03-07T00:00:15\", \"season\": 5101, \"variable\": \"total pod vol\", \"value\": 3169962.114086, \"pod listing vol\": 2108348.639589, \"pod order vol\": 1061613.474497, \"total bean vol\": 10541730.957237, \"total pod vol\": 3169962.114086}, {\"timestamp\": \"2022-03-07T00:00:15\", \"season\": 5101, \"variable\": \"pod listing vol\", \"value\": 2108348.639589, \"pod listing vol\": 2108348.639589, \"pod order vol\": 1061613.474497, \"total bean vol\": 10541730.957237, \"total pod vol\": 3169962.114086}, {\"timestamp\": \"2022-03-07T00:00:15\", \"season\": 5101, \"variable\": \"pod order vol\", \"value\": 1061613.474497, \"pod listing vol\": 2108348.639589, \"pod order vol\": 1061613.474497, \"total bean vol\": 10541730.957237, \"total pod vol\": 3169962.114086}, {\"timestamp\": \"2022-03-08T00:00:01\", \"season\": 5125, \"variable\": \"total bean vol\", \"value\": 10569886.845864, \"pod listing vol\": 2274088.006681, \"pod order vol\": 1065356.105445, \"total bean vol\": 10569886.845864, \"total pod vol\": 3339444.112126}, {\"timestamp\": \"2022-03-08T00:00:01\", \"season\": 5125, \"variable\": \"total pod vol\", \"value\": 3339444.112126, \"pod listing vol\": 2274088.006681, \"pod order vol\": 1065356.105445, \"total bean vol\": 10569886.845864, \"total pod vol\": 3339444.112126}, {\"timestamp\": \"2022-03-08T00:00:01\", \"season\": 5125, \"variable\": \"pod listing vol\", \"value\": 2274088.006681, \"pod listing vol\": 2274088.006681, \"pod order vol\": 1065356.105445, \"total bean vol\": 10569886.845864, \"total pod vol\": 3339444.112126}, {\"timestamp\": \"2022-03-08T00:00:01\", \"season\": 5125, \"variable\": \"pod order vol\", \"value\": 1065356.105445, \"pod listing vol\": 2274088.006681, \"pod order vol\": 1065356.105445, \"total bean vol\": 10569886.845864, \"total pod vol\": 3339444.112126}, {\"timestamp\": \"2022-03-09T00:00:04\", \"season\": 5149, \"variable\": \"total pod vol\", \"value\": 5139315.941369, \"pod listing vol\": 3573959.835924, \"pod order vol\": 1565356.105445, \"total bean vol\": 11117712.548628, \"total pod vol\": 5139315.941369}, {\"timestamp\": \"2022-03-09T00:00:04\", \"season\": 5149, \"variable\": \"total bean vol\", \"value\": 11117712.548628, \"pod listing vol\": 3573959.835924, \"pod order vol\": 1565356.105445, \"total bean vol\": 11117712.548628, \"total pod vol\": 5139315.941369}, {\"timestamp\": \"2022-03-09T00:00:04\", \"season\": 5149, \"variable\": \"pod order vol\", \"value\": 1565356.105445, \"pod listing vol\": 3573959.835924, \"pod order vol\": 1565356.105445, \"total bean vol\": 11117712.548628, \"total pod vol\": 5139315.941369}, {\"timestamp\": \"2022-03-09T00:00:04\", \"season\": 5149, \"variable\": \"pod listing vol\", \"value\": 3573959.835924, \"pod listing vol\": 3573959.835924, \"pod order vol\": 1565356.105445, \"total bean vol\": 11117712.548628, \"total pod vol\": 5139315.941369}, {\"timestamp\": \"2022-03-10T00:00:17\", \"season\": 5173, \"variable\": \"pod listing vol\", \"value\": 3682345.382738, \"pod listing vol\": 3682345.382738, \"pod order vol\": 1565356.105445, \"total bean vol\": 11187464.029358, \"total pod vol\": 5247701.488183}, {\"timestamp\": \"2022-03-10T00:00:17\", \"season\": 5173, \"variable\": \"pod order vol\", \"value\": 1565356.105445, \"pod listing vol\": 3682345.382738, \"pod order vol\": 1565356.105445, \"total bean vol\": 11187464.029358, \"total pod vol\": 5247701.488183}, {\"timestamp\": \"2022-03-10T00:00:17\", \"season\": 5173, \"variable\": \"total bean vol\", \"value\": 11187464.029358, \"pod listing vol\": 3682345.382738, \"pod order vol\": 1565356.105445, \"total bean vol\": 11187464.029358, \"total pod vol\": 5247701.488183}, {\"timestamp\": \"2022-03-10T00:00:17\", \"season\": 5173, \"variable\": \"total pod vol\", \"value\": 5247701.488183, \"pod listing vol\": 3682345.382738, \"pod order vol\": 1565356.105445, \"total bean vol\": 11187464.029358, \"total pod vol\": 5247701.488183}, {\"timestamp\": \"2022-03-11T00:00:09\", \"season\": 5197, \"variable\": \"pod listing vol\", \"value\": 4445560.666243, \"pod listing vol\": 4445560.666243, \"pod order vol\": 1597289.016293, \"total bean vol\": 11521729.207994, \"total pod vol\": 6042849.682536}, {\"timestamp\": \"2022-03-11T00:00:09\", \"season\": 5197, \"variable\": \"pod order vol\", \"value\": 1597289.016293, \"pod listing vol\": 4445560.666243, \"pod order vol\": 1597289.016293, \"total bean vol\": 11521729.207994, \"total pod vol\": 6042849.682536}, {\"timestamp\": \"2022-03-11T00:00:09\", \"season\": 5197, \"variable\": \"total bean vol\", \"value\": 11521729.207994, \"pod listing vol\": 4445560.666243, \"pod order vol\": 1597289.016293, \"total bean vol\": 11521729.207994, \"total pod vol\": 6042849.682536}, {\"timestamp\": \"2022-03-11T00:00:09\", \"season\": 5197, \"variable\": \"total pod vol\", \"value\": 6042849.682536, \"pod listing vol\": 4445560.666243, \"pod order vol\": 1597289.016293, \"total bean vol\": 11521729.207994, \"total pod vol\": 6042849.682536}, {\"timestamp\": \"2022-03-12T00:00:05\", \"season\": 5221, \"variable\": \"pod listing vol\", \"value\": 4906983.099316, \"pod listing vol\": 4906983.099316, \"pod order vol\": 1890813.699831, \"total bean vol\": 12221441.445248, \"total pod vol\": 6797796.799147}, {\"timestamp\": \"2022-03-12T00:00:05\", \"season\": 5221, \"variable\": \"pod order vol\", \"value\": 1890813.699831, \"pod listing vol\": 4906983.099316, \"pod order vol\": 1890813.699831, \"total bean vol\": 12221441.445248, \"total pod vol\": 6797796.799147}, {\"timestamp\": \"2022-03-12T00:00:05\", \"season\": 5221, \"variable\": \"total bean vol\", \"value\": 12221441.445248, \"pod listing vol\": 4906983.099316, \"pod order vol\": 1890813.699831, \"total bean vol\": 12221441.445248, \"total pod vol\": 6797796.799147}, {\"timestamp\": \"2022-03-12T00:00:05\", \"season\": 5221, \"variable\": \"total pod vol\", \"value\": 6797796.799147, \"pod listing vol\": 4906983.099316, \"pod order vol\": 1890813.699831, \"total bean vol\": 12221441.445248, \"total pod vol\": 6797796.799147}, {\"timestamp\": \"2022-03-13T00:00:01\", \"season\": 5245, \"variable\": \"total pod vol\", \"value\": 6985327.981008, \"pod listing vol\": 5090071.604789, \"pod order vol\": 1895256.376219, \"total bean vol\": 13338301.63193, \"total pod vol\": 6985327.981008}, {\"timestamp\": \"2022-03-13T00:00:01\", \"season\": 5245, \"variable\": \"total bean vol\", \"value\": 13338301.63193, \"pod listing vol\": 5090071.604789, \"pod order vol\": 1895256.376219, \"total bean vol\": 13338301.63193, \"total pod vol\": 6985327.981008}, {\"timestamp\": \"2022-03-13T00:00:01\", \"season\": 5245, \"variable\": \"pod order vol\", \"value\": 1895256.376219, \"pod listing vol\": 5090071.604789, \"pod order vol\": 1895256.376219, \"total bean vol\": 13338301.63193, \"total pod vol\": 6985327.981008}, {\"timestamp\": \"2022-03-13T00:00:01\", \"season\": 5245, \"variable\": \"pod listing vol\", \"value\": 5090071.604789, \"pod listing vol\": 5090071.604789, \"pod order vol\": 1895256.376219, \"total bean vol\": 13338301.63193, \"total pod vol\": 6985327.981008}, {\"timestamp\": \"2022-03-14T00:00:04\", \"season\": 5269, \"variable\": \"pod listing vol\", \"value\": 5238159.67585, \"pod listing vol\": 5238159.67585, \"pod order vol\": 1926363.998853, \"total bean vol\": 14339843.59263, \"total pod vol\": 7164523.674703}, {\"timestamp\": \"2022-03-14T00:00:04\", \"season\": 5269, \"variable\": \"pod order vol\", \"value\": 1926363.998853, \"pod listing vol\": 5238159.67585, \"pod order vol\": 1926363.998853, \"total bean vol\": 14339843.59263, \"total pod vol\": 7164523.674703}, {\"timestamp\": \"2022-03-14T00:00:04\", \"season\": 5269, \"variable\": \"total bean vol\", \"value\": 14339843.59263, \"pod listing vol\": 5238159.67585, \"pod order vol\": 1926363.998853, \"total bean vol\": 14339843.59263, \"total pod vol\": 7164523.674703}, {\"timestamp\": \"2022-03-14T00:00:04\", \"season\": 5269, \"variable\": \"total pod vol\", \"value\": 7164523.674703, \"pod listing vol\": 5238159.67585, \"pod order vol\": 1926363.998853, \"total bean vol\": 14339843.59263, \"total pod vol\": 7164523.674703}, {\"timestamp\": \"2022-03-15T00:00:14\", \"season\": 5293, \"variable\": \"pod listing vol\", \"value\": 5560139.700207, \"pod listing vol\": 5560139.700207, \"pod order vol\": 2092955.004283, \"total bean vol\": 15446889.692481, \"total pod vol\": 7653094.70449}, {\"timestamp\": \"2022-03-15T00:00:14\", \"season\": 5293, \"variable\": \"pod order vol\", \"value\": 2092955.004283, \"pod listing vol\": 5560139.700207, \"pod order vol\": 2092955.004283, \"total bean vol\": 15446889.692481, \"total pod vol\": 7653094.70449}, {\"timestamp\": \"2022-03-15T00:00:14\", \"season\": 5293, \"variable\": \"total bean vol\", \"value\": 15446889.692481, \"pod listing vol\": 5560139.700207, \"pod order vol\": 2092955.004283, \"total bean vol\": 15446889.692481, \"total pod vol\": 7653094.70449}, {\"timestamp\": \"2022-03-15T00:00:14\", \"season\": 5293, \"variable\": \"total pod vol\", \"value\": 7653094.70449, \"pod listing vol\": 5560139.700207, \"pod order vol\": 2092955.004283, \"total bean vol\": 15446889.692481, \"total pod vol\": 7653094.70449}, {\"timestamp\": \"2022-03-16T00:00:05\", \"season\": 5317, \"variable\": \"pod listing vol\", \"value\": 5787420.060394, \"pod listing vol\": 5787420.060394, \"pod order vol\": 2126695.261873, \"total bean vol\": 15901433.739202, \"total pod vol\": 7914115.322267}, {\"timestamp\": \"2022-03-16T00:00:05\", \"season\": 5317, \"variable\": \"pod order vol\", \"value\": 2126695.261873, \"pod listing vol\": 5787420.060394, \"pod order vol\": 2126695.261873, \"total bean vol\": 15901433.739202, \"total pod vol\": 7914115.322267}, {\"timestamp\": \"2022-03-16T00:00:05\", \"season\": 5317, \"variable\": \"total bean vol\", \"value\": 15901433.739202, \"pod listing vol\": 5787420.060394, \"pod order vol\": 2126695.261873, \"total bean vol\": 15901433.739202, \"total pod vol\": 7914115.322267}, {\"timestamp\": \"2022-03-16T00:00:05\", \"season\": 5317, \"variable\": \"total pod vol\", \"value\": 7914115.322267, \"pod listing vol\": 5787420.060394, \"pod order vol\": 2126695.261873, \"total bean vol\": 15901433.739202, \"total pod vol\": 7914115.322267}, {\"timestamp\": \"2022-03-17T00:00:07\", \"season\": 5341, \"variable\": \"total pod vol\", \"value\": 10322534.096408, \"pod listing vol\": 8195838.834535, \"pod order vol\": 2126695.261873, \"total bean vol\": 16756173.14524, \"total pod vol\": 10322534.096408}, {\"timestamp\": \"2022-03-17T00:00:07\", \"season\": 5341, \"variable\": \"total bean vol\", \"value\": 16756173.14524, \"pod listing vol\": 8195838.834535, \"pod order vol\": 2126695.261873, \"total bean vol\": 16756173.14524, \"total pod vol\": 10322534.096408}, {\"timestamp\": \"2022-03-17T00:00:07\", \"season\": 5341, \"variable\": \"pod order vol\", \"value\": 2126695.261873, \"pod listing vol\": 8195838.834535, \"pod order vol\": 2126695.261873, \"total bean vol\": 16756173.14524, \"total pod vol\": 10322534.096408}, {\"timestamp\": \"2022-03-17T00:00:07\", \"season\": 5341, \"variable\": \"pod listing vol\", \"value\": 8195838.834535, \"pod listing vol\": 8195838.834535, \"pod order vol\": 2126695.261873, \"total bean vol\": 16756173.14524, \"total pod vol\": 10322534.096408}, {\"timestamp\": \"2022-03-18T00:00:08\", \"season\": 5365, \"variable\": \"pod listing vol\", \"value\": 8783559.585444, \"pod listing vol\": 8783559.585444, \"pod order vol\": 2126695.261873, \"total bean vol\": 17388260.075979, \"total pod vol\": 10910254.847317}, {\"timestamp\": \"2022-03-18T00:00:08\", \"season\": 5365, \"variable\": \"pod order vol\", \"value\": 2126695.261873, \"pod listing vol\": 8783559.585444, \"pod order vol\": 2126695.261873, \"total bean vol\": 17388260.075979, \"total pod vol\": 10910254.847317}, {\"timestamp\": \"2022-03-18T00:00:08\", \"season\": 5365, \"variable\": \"total bean vol\", \"value\": 17388260.075979, \"pod listing vol\": 8783559.585444, \"pod order vol\": 2126695.261873, \"total bean vol\": 17388260.075979, \"total pod vol\": 10910254.847317}, {\"timestamp\": \"2022-03-18T00:00:08\", \"season\": 5365, \"variable\": \"total pod vol\", \"value\": 10910254.847317, \"pod listing vol\": 8783559.585444, \"pod order vol\": 2126695.261873, \"total bean vol\": 17388260.075979, \"total pod vol\": 10910254.847317}, {\"timestamp\": \"2022-03-19T00:00:09\", \"season\": 5389, \"variable\": \"pod listing vol\", \"value\": 9075279.357225, \"pod listing vol\": 9075279.357225, \"pod order vol\": 2126695.261873, \"total bean vol\": 17787963.937388, \"total pod vol\": 11201974.619098}, {\"timestamp\": \"2022-03-19T00:00:09\", \"season\": 5389, \"variable\": \"pod order vol\", \"value\": 2126695.261873, \"pod listing vol\": 9075279.357225, \"pod order vol\": 2126695.261873, \"total bean vol\": 17787963.937388, \"total pod vol\": 11201974.619098}, {\"timestamp\": \"2022-03-19T00:00:09\", \"season\": 5389, \"variable\": \"total bean vol\", \"value\": 17787963.937388, \"pod listing vol\": 9075279.357225, \"pod order vol\": 2126695.261873, \"total bean vol\": 17787963.937388, \"total pod vol\": 11201974.619098}, {\"timestamp\": \"2022-03-19T00:00:09\", \"season\": 5389, \"variable\": \"total pod vol\", \"value\": 11201974.619098, \"pod listing vol\": 9075279.357225, \"pod order vol\": 2126695.261873, \"total bean vol\": 17787963.937388, \"total pod vol\": 11201974.619098}, {\"timestamp\": \"2022-03-20T00:00:11\", \"season\": 5413, \"variable\": \"pod listing vol\", \"value\": 9341500.669542, \"pod listing vol\": 9341500.669542, \"pod order vol\": 2126695.261873, \"total bean vol\": 18209286.107689, \"total pod vol\": 11468195.931415}, {\"timestamp\": \"2022-03-20T00:00:11\", \"season\": 5413, \"variable\": \"pod order vol\", \"value\": 2126695.261873, \"pod listing vol\": 9341500.669542, \"pod order vol\": 2126695.261873, \"total bean vol\": 18209286.107689, \"total pod vol\": 11468195.931415}, {\"timestamp\": \"2022-03-20T00:00:11\", \"season\": 5413, \"variable\": \"total bean vol\", \"value\": 18209286.107689, \"pod listing vol\": 9341500.669542, \"pod order vol\": 2126695.261873, \"total bean vol\": 18209286.107689, \"total pod vol\": 11468195.931415}, {\"timestamp\": \"2022-03-20T00:00:11\", \"season\": 5413, \"variable\": \"total pod vol\", \"value\": 11468195.931415, \"pod listing vol\": 9341500.669542, \"pod order vol\": 2126695.261873, \"total bean vol\": 18209286.107689, \"total pod vol\": 11468195.931415}, {\"timestamp\": \"2022-03-21T00:00:14\", \"season\": 5437, \"variable\": \"total pod vol\", \"value\": 11955956.786543, \"pod listing vol\": 9793211.52467, \"pod order vol\": 2162745.261873, \"total bean vol\": 18397763.690389, \"total pod vol\": 11955956.786543}, {\"timestamp\": \"2022-03-21T00:00:14\", \"season\": 5437, \"variable\": \"total bean vol\", \"value\": 18397763.690389, \"pod listing vol\": 9793211.52467, \"pod order vol\": 2162745.261873, \"total bean vol\": 18397763.690389, \"total pod vol\": 11955956.786543}, {\"timestamp\": \"2022-03-21T00:00:14\", \"season\": 5437, \"variable\": \"pod listing vol\", \"value\": 9793211.52467, \"pod listing vol\": 9793211.52467, \"pod order vol\": 2162745.261873, \"total bean vol\": 18397763.690389, \"total pod vol\": 11955956.786543}, {\"timestamp\": \"2022-03-21T00:00:14\", \"season\": 5437, \"variable\": \"pod order vol\", \"value\": 2162745.261873, \"pod listing vol\": 9793211.52467, \"pod order vol\": 2162745.261873, \"total bean vol\": 18397763.690389, \"total pod vol\": 11955956.786543}, {\"timestamp\": \"2022-03-22T00:00:02\", \"season\": 5461, \"variable\": \"pod listing vol\", \"value\": 9996861.507966, \"pod listing vol\": 9996861.507966, \"pod order vol\": 2162745.261873, \"total bean vol\": 18985014.381717, \"total pod vol\": 12159606.769839}, {\"timestamp\": \"2022-03-22T00:00:02\", \"season\": 5461, \"variable\": \"pod order vol\", \"value\": 2162745.261873, \"pod listing vol\": 9996861.507966, \"pod order vol\": 2162745.261873, \"total bean vol\": 18985014.381717, \"total pod vol\": 12159606.769839}, {\"timestamp\": \"2022-03-22T00:00:02\", \"season\": 5461, \"variable\": \"total bean vol\", \"value\": 18985014.381717, \"pod listing vol\": 9996861.507966, \"pod order vol\": 2162745.261873, \"total bean vol\": 18985014.381717, \"total pod vol\": 12159606.769839}, {\"timestamp\": \"2022-03-22T00:00:02\", \"season\": 5461, \"variable\": \"total pod vol\", \"value\": 12159606.769839, \"pod listing vol\": 9996861.507966, \"pod order vol\": 2162745.261873, \"total bean vol\": 18985014.381717, \"total pod vol\": 12159606.769839}, {\"timestamp\": \"2022-03-23T00:00:07\", \"season\": 5485, \"variable\": \"pod listing vol\", \"value\": 10255544.093748, \"pod listing vol\": 10255544.093748, \"pod order vol\": 2162745.261873, \"total bean vol\": 19085630.201625, \"total pod vol\": 12418289.355621}, {\"timestamp\": \"2022-03-23T00:00:07\", \"season\": 5485, \"variable\": \"pod order vol\", \"value\": 2162745.261873, \"pod listing vol\": 10255544.093748, \"pod order vol\": 2162745.261873, \"total bean vol\": 19085630.201625, \"total pod vol\": 12418289.355621}, {\"timestamp\": \"2022-03-23T00:00:07\", \"season\": 5485, \"variable\": \"total bean vol\", \"value\": 19085630.201625, \"pod listing vol\": 10255544.093748, \"pod order vol\": 2162745.261873, \"total bean vol\": 19085630.201625, \"total pod vol\": 12418289.355621}, {\"timestamp\": \"2022-03-23T00:00:07\", \"season\": 5485, \"variable\": \"total pod vol\", \"value\": 12418289.355621, \"pod listing vol\": 10255544.093748, \"pod order vol\": 2162745.261873, \"total bean vol\": 19085630.201625, \"total pod vol\": 12418289.355621}, {\"timestamp\": \"2022-03-24T00:00:59\", \"season\": 5509, \"variable\": \"pod listing vol\", \"value\": 10937702.097924, \"pod listing vol\": 10937702.097924, \"pod order vol\": 2162745.261873, \"total bean vol\": 19481229.69575, \"total pod vol\": 13100447.359797}, {\"timestamp\": \"2022-03-24T00:00:59\", \"season\": 5509, \"variable\": \"pod order vol\", \"value\": 2162745.261873, \"pod listing vol\": 10937702.097924, \"pod order vol\": 2162745.261873, \"total bean vol\": 19481229.69575, \"total pod vol\": 13100447.359797}, {\"timestamp\": \"2022-03-24T00:00:59\", \"season\": 5509, \"variable\": \"total bean vol\", \"value\": 19481229.69575, \"pod listing vol\": 10937702.097924, \"pod order vol\": 2162745.261873, \"total bean vol\": 19481229.69575, \"total pod vol\": 13100447.359797}, {\"timestamp\": \"2022-03-24T00:00:59\", \"season\": 5509, \"variable\": \"total pod vol\", \"value\": 13100447.359797, \"pod listing vol\": 10937702.097924, \"pod order vol\": 2162745.261873, \"total bean vol\": 19481229.69575, \"total pod vol\": 13100447.359797}, {\"timestamp\": \"2022-03-25T00:00:02\", \"season\": 5533, \"variable\": \"total bean vol\", \"value\": 19868145.749939, \"pod listing vol\": 11439206.70357, \"pod order vol\": 2171783.151003, \"total bean vol\": 19868145.749939, \"total pod vol\": 13610989.854573}, {\"timestamp\": \"2022-03-25T00:00:02\", \"season\": 5533, \"variable\": \"total pod vol\", \"value\": 13610989.854573, \"pod listing vol\": 11439206.70357, \"pod order vol\": 2171783.151003, \"total bean vol\": 19868145.749939, \"total pod vol\": 13610989.854573}, {\"timestamp\": \"2022-03-25T00:00:02\", \"season\": 5533, \"variable\": \"pod order vol\", \"value\": 2171783.151003, \"pod listing vol\": 11439206.70357, \"pod order vol\": 2171783.151003, \"total bean vol\": 19868145.749939, \"total pod vol\": 13610989.854573}, {\"timestamp\": \"2022-03-25T00:00:02\", \"season\": 5533, \"variable\": \"pod listing vol\", \"value\": 11439206.70357, \"pod listing vol\": 11439206.70357, \"pod order vol\": 2171783.151003, \"total bean vol\": 19868145.749939, \"total pod vol\": 13610989.854573}, {\"timestamp\": \"2022-03-26T00:00:19\", \"season\": 5557, \"variable\": \"pod listing vol\", \"value\": 12058582.051629, \"pod listing vol\": 12058582.051629, \"pod order vol\": 2181959.119836, \"total bean vol\": 20339057.989237, \"total pod vol\": 14240541.171465}, {\"timestamp\": \"2022-03-26T00:00:19\", \"season\": 5557, \"variable\": \"pod order vol\", \"value\": 2181959.119836, \"pod listing vol\": 12058582.051629, \"pod order vol\": 2181959.119836, \"total bean vol\": 20339057.989237, \"total pod vol\": 14240541.171465}, {\"timestamp\": \"2022-03-26T00:00:19\", \"season\": 5557, \"variable\": \"total bean vol\", \"value\": 20339057.989237, \"pod listing vol\": 12058582.051629, \"pod order vol\": 2181959.119836, \"total bean vol\": 20339057.989237, \"total pod vol\": 14240541.171465}, {\"timestamp\": \"2022-03-26T00:00:19\", \"season\": 5557, \"variable\": \"total pod vol\", \"value\": 14240541.171465, \"pod listing vol\": 12058582.051629, \"pod order vol\": 2181959.119836, \"total bean vol\": 20339057.989237, \"total pod vol\": 14240541.171465}, {\"timestamp\": \"2022-03-27T00:00:05\", \"season\": 5581, \"variable\": \"pod listing vol\", \"value\": 12234567.125877, \"pod listing vol\": 12234567.125877, \"pod order vol\": 2337763.856509, \"total bean vol\": 20586624.191921, \"total pod vol\": 14572330.982386}, {\"timestamp\": \"2022-03-27T00:00:05\", \"season\": 5581, \"variable\": \"pod order vol\", \"value\": 2337763.856509, \"pod listing vol\": 12234567.125877, \"pod order vol\": 2337763.856509, \"total bean vol\": 20586624.191921, \"total pod vol\": 14572330.982386}, {\"timestamp\": \"2022-03-27T00:00:05\", \"season\": 5581, \"variable\": \"total bean vol\", \"value\": 20586624.191921, \"pod listing vol\": 12234567.125877, \"pod order vol\": 2337763.856509, \"total bean vol\": 20586624.191921, \"total pod vol\": 14572330.982386}, {\"timestamp\": \"2022-03-27T00:00:05\", \"season\": 5581, \"variable\": \"total pod vol\", \"value\": 14572330.982386, \"pod listing vol\": 12234567.125877, \"pod order vol\": 2337763.856509, \"total bean vol\": 20586624.191921, \"total pod vol\": 14572330.982386}, {\"timestamp\": \"2022-03-28T00:01:21\", \"season\": 5605, \"variable\": \"total pod vol\", \"value\": 14590894.116913, \"pod listing vol\": 12252077.043808, \"pod order vol\": 2338817.073105, \"total bean vol\": 20853823.865145, \"total pod vol\": 14590894.116913}, {\"timestamp\": \"2022-03-28T00:01:21\", \"season\": 5605, \"variable\": \"pod listing vol\", \"value\": 12252077.043808, \"pod listing vol\": 12252077.043808, \"pod order vol\": 2338817.073105, \"total bean vol\": 20853823.865145, \"total pod vol\": 14590894.116913}, {\"timestamp\": \"2022-03-28T00:01:21\", \"season\": 5605, \"variable\": \"pod order vol\", \"value\": 2338817.073105, \"pod listing vol\": 12252077.043808, \"pod order vol\": 2338817.073105, \"total bean vol\": 20853823.865145, \"total pod vol\": 14590894.116913}, {\"timestamp\": \"2022-03-28T00:01:21\", \"season\": 5605, \"variable\": \"total bean vol\", \"value\": 20853823.865145, \"pod listing vol\": 12252077.043808, \"pod order vol\": 2338817.073105, \"total bean vol\": 20853823.865145, \"total pod vol\": 14590894.116913}, {\"timestamp\": \"2022-03-29T00:00:19\", \"season\": 5629, \"variable\": \"total pod vol\", \"value\": 14802158.57306, \"pod listing vol\": 12463341.499955, \"pod order vol\": 2338817.073105, \"total bean vol\": 21073646.244386, \"total pod vol\": 14802158.57306}, {\"timestamp\": \"2022-03-29T00:00:19\", \"season\": 5629, \"variable\": \"total bean vol\", \"value\": 21073646.244386, \"pod listing vol\": 12463341.499955, \"pod order vol\": 2338817.073105, \"total bean vol\": 21073646.244386, \"total pod vol\": 14802158.57306}, {\"timestamp\": \"2022-03-29T00:00:19\", \"season\": 5629, \"variable\": \"pod listing vol\", \"value\": 12463341.499955, \"pod listing vol\": 12463341.499955, \"pod order vol\": 2338817.073105, \"total bean vol\": 21073646.244386, \"total pod vol\": 14802158.57306}, {\"timestamp\": \"2022-03-29T00:00:19\", \"season\": 5629, \"variable\": \"pod order vol\", \"value\": 2338817.073105, \"pod listing vol\": 12463341.499955, \"pod order vol\": 2338817.073105, \"total bean vol\": 21073646.244386, \"total pod vol\": 14802158.57306}, {\"timestamp\": \"2022-03-30T00:00:24\", \"season\": 5653, \"variable\": \"pod listing vol\", \"value\": 12787830.030649, \"pod listing vol\": 12787830.030649, \"pod order vol\": 2338817.073105, \"total bean vol\": 21121598.412575, \"total pod vol\": 15126647.103754}, {\"timestamp\": \"2022-03-30T00:00:24\", \"season\": 5653, \"variable\": \"pod order vol\", \"value\": 2338817.073105, \"pod listing vol\": 12787830.030649, \"pod order vol\": 2338817.073105, \"total bean vol\": 21121598.412575, \"total pod vol\": 15126647.103754}, {\"timestamp\": \"2022-03-30T00:00:24\", \"season\": 5653, \"variable\": \"total bean vol\", \"value\": 21121598.412575, \"pod listing vol\": 12787830.030649, \"pod order vol\": 2338817.073105, \"total bean vol\": 21121598.412575, \"total pod vol\": 15126647.103754}, {\"timestamp\": \"2022-03-30T00:00:24\", \"season\": 5653, \"variable\": \"total pod vol\", \"value\": 15126647.103754, \"pod listing vol\": 12787830.030649, \"pod order vol\": 2338817.073105, \"total bean vol\": 21121598.412575, \"total pod vol\": 15126647.103754}, {\"timestamp\": \"2022-03-31T00:00:03\", \"season\": 5677, \"variable\": \"total bean vol\", \"value\": 21143783.354289, \"pod listing vol\": 12882564.599452, \"pod order vol\": 2338817.073105, \"total bean vol\": 21143783.354289, \"total pod vol\": 15221381.672557}, {\"timestamp\": \"2022-03-31T00:00:03\", \"season\": 5677, \"variable\": \"pod listing vol\", \"value\": 12882564.599452, \"pod listing vol\": 12882564.599452, \"pod order vol\": 2338817.073105, \"total bean vol\": 21143783.354289, \"total pod vol\": 15221381.672557}, {\"timestamp\": \"2022-03-31T00:00:03\", \"season\": 5677, \"variable\": \"pod order vol\", \"value\": 2338817.073105, \"pod listing vol\": 12882564.599452, \"pod order vol\": 2338817.073105, \"total bean vol\": 21143783.354289, \"total pod vol\": 15221381.672557}, {\"timestamp\": \"2022-03-31T00:00:03\", \"season\": 5677, \"variable\": \"total pod vol\", \"value\": 15221381.672557, \"pod listing vol\": 12882564.599452, \"pod order vol\": 2338817.073105, \"total bean vol\": 21143783.354289, \"total pod vol\": 15221381.672557}, {\"timestamp\": \"2022-04-01T00:00:21\", \"season\": 5701, \"variable\": \"total pod vol\", \"value\": 15380692.146184, \"pod listing vol\": 13033401.919454, \"pod order vol\": 2347290.22673, \"total bean vol\": 21534241.518434, \"total pod vol\": 15380692.146184}, {\"timestamp\": \"2022-04-01T00:00:21\", \"season\": 5701, \"variable\": \"total bean vol\", \"value\": 21534241.518434, \"pod listing vol\": 13033401.919454, \"pod order vol\": 2347290.22673, \"total bean vol\": 21534241.518434, \"total pod vol\": 15380692.146184}, {\"timestamp\": \"2022-04-01T00:00:21\", \"season\": 5701, \"variable\": \"pod order vol\", \"value\": 2347290.22673, \"pod listing vol\": 13033401.919454, \"pod order vol\": 2347290.22673, \"total bean vol\": 21534241.518434, \"total pod vol\": 15380692.146184}, {\"timestamp\": \"2022-04-01T00:00:21\", \"season\": 5701, \"variable\": \"pod listing vol\", \"value\": 13033401.919454, \"pod listing vol\": 13033401.919454, \"pod order vol\": 2347290.22673, \"total bean vol\": 21534241.518434, \"total pod vol\": 15380692.146184}, {\"timestamp\": \"2022-04-02T00:00:09\", \"season\": 5725, \"variable\": \"pod listing vol\", \"value\": 13207190.7293, \"pod listing vol\": 13207190.7293, \"pod order vol\": 2349002.45642, \"total bean vol\": 21813662.539686, \"total pod vol\": 15556193.18572}, {\"timestamp\": \"2022-04-02T00:00:09\", \"season\": 5725, \"variable\": \"pod order vol\", \"value\": 2349002.45642, \"pod listing vol\": 13207190.7293, \"pod order vol\": 2349002.45642, \"total bean vol\": 21813662.539686, \"total pod vol\": 15556193.18572}, {\"timestamp\": \"2022-04-02T00:00:09\", \"season\": 5725, \"variable\": \"total bean vol\", \"value\": 21813662.539686, \"pod listing vol\": 13207190.7293, \"pod order vol\": 2349002.45642, \"total bean vol\": 21813662.539686, \"total pod vol\": 15556193.18572}, {\"timestamp\": \"2022-04-02T00:00:09\", \"season\": 5725, \"variable\": \"total pod vol\", \"value\": 15556193.18572, \"pod listing vol\": 13207190.7293, \"pod order vol\": 2349002.45642, \"total bean vol\": 21813662.539686, \"total pod vol\": 15556193.18572}, {\"timestamp\": \"2022-04-03T00:00:06\", \"season\": 5749, \"variable\": \"pod listing vol\", \"value\": 13323910.753581, \"pod listing vol\": 13323910.753581, \"pod order vol\": 2349412.190742, \"total bean vol\": 21878739.239363, \"total pod vol\": 15673322.944323}, {\"timestamp\": \"2022-04-03T00:00:06\", \"season\": 5749, \"variable\": \"pod order vol\", \"value\": 2349412.190742, \"pod listing vol\": 13323910.753581, \"pod order vol\": 2349412.190742, \"total bean vol\": 21878739.239363, \"total pod vol\": 15673322.944323}, {\"timestamp\": \"2022-04-03T00:00:06\", \"season\": 5749, \"variable\": \"total bean vol\", \"value\": 21878739.239363, \"pod listing vol\": 13323910.753581, \"pod order vol\": 2349412.190742, \"total bean vol\": 21878739.239363, \"total pod vol\": 15673322.944323}, {\"timestamp\": \"2022-04-03T00:00:06\", \"season\": 5749, \"variable\": \"total pod vol\", \"value\": 15673322.944323, \"pod listing vol\": 13323910.753581, \"pod order vol\": 2349412.190742, \"total bean vol\": 21878739.239363, \"total pod vol\": 15673322.944323}, {\"timestamp\": \"2022-04-04T00:00:00\", \"season\": 5773, \"variable\": \"total bean vol\", \"value\": 22263124.378413, \"pod listing vol\": 13559555.190347, \"pod order vol\": 2369412.190742, \"total bean vol\": 22263124.378413, \"total pod vol\": 15928967.381089}, {\"timestamp\": \"2022-04-04T00:00:00\", \"season\": 5773, \"variable\": \"total pod vol\", \"value\": 15928967.381089, \"pod listing vol\": 13559555.190347, \"pod order vol\": 2369412.190742, \"total bean vol\": 22263124.378413, \"total pod vol\": 15928967.381089}, {\"timestamp\": \"2022-04-04T00:00:00\", \"season\": 5773, \"variable\": \"pod listing vol\", \"value\": 13559555.190347, \"pod listing vol\": 13559555.190347, \"pod order vol\": 2369412.190742, \"total bean vol\": 22263124.378413, \"total pod vol\": 15928967.381089}, {\"timestamp\": \"2022-04-04T00:00:00\", \"season\": 5773, \"variable\": \"pod order vol\", \"value\": 2369412.190742, \"pod listing vol\": 13559555.190347, \"pod order vol\": 2369412.190742, \"total bean vol\": 22263124.378413, \"total pod vol\": 15928967.381089}, {\"timestamp\": \"2022-04-05T00:00:21\", \"season\": 5797, \"variable\": \"pod listing vol\", \"value\": 13795715.296446, \"pod listing vol\": 13795715.296446, \"pod order vol\": 2369412.190742, \"total bean vol\": 22551156.678567, \"total pod vol\": 16165127.487188}, {\"timestamp\": \"2022-04-05T00:00:21\", \"season\": 5797, \"variable\": \"pod order vol\", \"value\": 2369412.190742, \"pod listing vol\": 13795715.296446, \"pod order vol\": 2369412.190742, \"total bean vol\": 22551156.678567, \"total pod vol\": 16165127.487188}, {\"timestamp\": \"2022-04-05T00:00:21\", \"season\": 5797, \"variable\": \"total bean vol\", \"value\": 22551156.678567, \"pod listing vol\": 13795715.296446, \"pod order vol\": 2369412.190742, \"total bean vol\": 22551156.678567, \"total pod vol\": 16165127.487188}, {\"timestamp\": \"2022-04-05T00:00:21\", \"season\": 5797, \"variable\": \"total pod vol\", \"value\": 16165127.487188, \"pod listing vol\": 13795715.296446, \"pod order vol\": 2369412.190742, \"total bean vol\": 22551156.678567, \"total pod vol\": 16165127.487188}, {\"timestamp\": \"2022-04-06T00:00:27\", \"season\": 5821, \"variable\": \"pod listing vol\", \"value\": 14074805.550379, \"pod listing vol\": 14074805.550379, \"pod order vol\": 2369412.190742, \"total bean vol\": 22652265.293218, \"total pod vol\": 16444217.741121}, {\"timestamp\": \"2022-04-06T00:00:27\", \"season\": 5821, \"variable\": \"pod order vol\", \"value\": 2369412.190742, \"pod listing vol\": 14074805.550379, \"pod order vol\": 2369412.190742, \"total bean vol\": 22652265.293218, \"total pod vol\": 16444217.741121}, {\"timestamp\": \"2022-04-06T00:00:27\", \"season\": 5821, \"variable\": \"total bean vol\", \"value\": 22652265.293218, \"pod listing vol\": 14074805.550379, \"pod order vol\": 2369412.190742, \"total bean vol\": 22652265.293218, \"total pod vol\": 16444217.741121}, {\"timestamp\": \"2022-04-06T00:00:27\", \"season\": 5821, \"variable\": \"total pod vol\", \"value\": 16444217.741121, \"pod listing vol\": 14074805.550379, \"pod order vol\": 2369412.190742, \"total bean vol\": 22652265.293218, \"total pod vol\": 16444217.741121}, {\"timestamp\": \"2022-04-07T00:01:08\", \"season\": 5845, \"variable\": \"total pod vol\", \"value\": 16769475.267434, \"pod listing vol\": 14310063.076692, \"pod order vol\": 2459412.190742, \"total bean vol\": 22745907.600655, \"total pod vol\": 16769475.267434}, {\"timestamp\": \"2022-04-07T00:01:08\", \"season\": 5845, \"variable\": \"pod listing vol\", \"value\": 14310063.076692, \"pod listing vol\": 14310063.076692, \"pod order vol\": 2459412.190742, \"total bean vol\": 22745907.600655, \"total pod vol\": 16769475.267434}, {\"timestamp\": \"2022-04-07T00:01:08\", \"season\": 5845, \"variable\": \"pod order vol\", \"value\": 2459412.190742, \"pod listing vol\": 14310063.076692, \"pod order vol\": 2459412.190742, \"total bean vol\": 22745907.600655, \"total pod vol\": 16769475.267434}, {\"timestamp\": \"2022-04-07T00:01:08\", \"season\": 5845, \"variable\": \"total bean vol\", \"value\": 22745907.600655, \"pod listing vol\": 14310063.076692, \"pod order vol\": 2459412.190742, \"total bean vol\": 22745907.600655, \"total pod vol\": 16769475.267434}, {\"timestamp\": \"2022-04-08T00:00:13\", \"season\": 5869, \"variable\": \"total bean vol\", \"value\": 22762963.307318, \"pod listing vol\": 14404836.401523, \"pod order vol\": 2459412.190742, \"total bean vol\": 22762963.307318, \"total pod vol\": 16864248.592265}, {\"timestamp\": \"2022-04-08T00:00:13\", \"season\": 5869, \"variable\": \"total pod vol\", \"value\": 16864248.592265, \"pod listing vol\": 14404836.401523, \"pod order vol\": 2459412.190742, \"total bean vol\": 22762963.307318, \"total pod vol\": 16864248.592265}, {\"timestamp\": \"2022-04-08T00:00:13\", \"season\": 5869, \"variable\": \"pod listing vol\", \"value\": 14404836.401523, \"pod listing vol\": 14404836.401523, \"pod order vol\": 2459412.190742, \"total bean vol\": 22762963.307318, \"total pod vol\": 16864248.592265}, {\"timestamp\": \"2022-04-08T00:00:13\", \"season\": 5869, \"variable\": \"pod order vol\", \"value\": 2459412.190742, \"pod listing vol\": 14404836.401523, \"pod order vol\": 2459412.190742, \"total bean vol\": 22762963.307318, \"total pod vol\": 16864248.592265}, {\"timestamp\": \"2022-04-09T00:00:00\", \"season\": 5893, \"variable\": \"total bean vol\", \"value\": 22901542.586502, \"pod listing vol\": 14740685.914775, \"pod order vol\": 2521068.219765, \"total bean vol\": 22901542.586502, \"total pod vol\": 17261754.13454}, {\"timestamp\": \"2022-04-09T00:00:00\", \"season\": 5893, \"variable\": \"total pod vol\", \"value\": 17261754.13454, \"pod listing vol\": 14740685.914775, \"pod order vol\": 2521068.219765, \"total bean vol\": 22901542.586502, \"total pod vol\": 17261754.13454}, {\"timestamp\": \"2022-04-09T00:00:00\", \"season\": 5893, \"variable\": \"pod listing vol\", \"value\": 14740685.914775, \"pod listing vol\": 14740685.914775, \"pod order vol\": 2521068.219765, \"total bean vol\": 22901542.586502, \"total pod vol\": 17261754.13454}, {\"timestamp\": \"2022-04-09T00:00:00\", \"season\": 5893, \"variable\": \"pod order vol\", \"value\": 2521068.219765, \"pod listing vol\": 14740685.914775, \"pod order vol\": 2521068.219765, \"total bean vol\": 22901542.586502, \"total pod vol\": 17261754.13454}, {\"timestamp\": \"2022-04-10T00:02:19\", \"season\": 5917, \"variable\": \"total pod vol\", \"value\": 17503002.398103, \"pod listing vol\": 14971836.040466, \"pod order vol\": 2531166.357637, \"total bean vol\": 23025553.990942, \"total pod vol\": 17503002.398103}, {\"timestamp\": \"2022-04-10T00:02:19\", \"season\": 5917, \"variable\": \"total bean vol\", \"value\": 23025553.990942, \"pod listing vol\": 14971836.040466, \"pod order vol\": 2531166.357637, \"total bean vol\": 23025553.990942, \"total pod vol\": 17503002.398103}, {\"timestamp\": \"2022-04-10T00:02:19\", \"season\": 5917, \"variable\": \"pod order vol\", \"value\": 2531166.357637, \"pod listing vol\": 14971836.040466, \"pod order vol\": 2531166.357637, \"total bean vol\": 23025553.990942, \"total pod vol\": 17503002.398103}, {\"timestamp\": \"2022-04-10T00:02:19\", \"season\": 5917, \"variable\": \"pod listing vol\", \"value\": 14971836.040466, \"pod listing vol\": 14971836.040466, \"pod order vol\": 2531166.357637, \"total bean vol\": 23025553.990942, \"total pod vol\": 17503002.398103}, {\"timestamp\": \"2022-04-11T00:00:03\", \"season\": 5941, \"variable\": \"pod listing vol\", \"value\": 15963434.629309, \"pod listing vol\": 15963434.629309, \"pod order vol\": 2577056.235948, \"total bean vol\": 23353199.374269, \"total pod vol\": 18540490.865257}, {\"timestamp\": \"2022-04-11T00:00:03\", \"season\": 5941, \"variable\": \"pod order vol\", \"value\": 2577056.235948, \"pod listing vol\": 15963434.629309, \"pod order vol\": 2577056.235948, \"total bean vol\": 23353199.374269, \"total pod vol\": 18540490.865257}, {\"timestamp\": \"2022-04-11T00:00:03\", \"season\": 5941, \"variable\": \"total bean vol\", \"value\": 23353199.374269, \"pod listing vol\": 15963434.629309, \"pod order vol\": 2577056.235948, \"total bean vol\": 23353199.374269, \"total pod vol\": 18540490.865257}, {\"timestamp\": \"2022-04-11T00:00:03\", \"season\": 5941, \"variable\": \"total pod vol\", \"value\": 18540490.865257, \"pod listing vol\": 15963434.629309, \"pod order vol\": 2577056.235948, \"total bean vol\": 23353199.374269, \"total pod vol\": 18540490.865257}, {\"timestamp\": \"2022-04-12T00:00:14\", \"season\": 5965, \"variable\": \"pod listing vol\", \"value\": 19783922.212272, \"pod listing vol\": 19783922.212272, \"pod order vol\": 2654243.776766, \"total bean vol\": 25741144.675423, \"total pod vol\": 22438165.989038}, {\"timestamp\": \"2022-04-12T00:00:14\", \"season\": 5965, \"variable\": \"pod order vol\", \"value\": 2654243.776766, \"pod listing vol\": 19783922.212272, \"pod order vol\": 2654243.776766, \"total bean vol\": 25741144.675423, \"total pod vol\": 22438165.989038}, {\"timestamp\": \"2022-04-12T00:00:14\", \"season\": 5965, \"variable\": \"total bean vol\", \"value\": 25741144.675423, \"pod listing vol\": 19783922.212272, \"pod order vol\": 2654243.776766, \"total bean vol\": 25741144.675423, \"total pod vol\": 22438165.989038}, {\"timestamp\": \"2022-04-12T00:00:14\", \"season\": 5965, \"variable\": \"total pod vol\", \"value\": 22438165.989038, \"pod listing vol\": 19783922.212272, \"pod order vol\": 2654243.776766, \"total bean vol\": 25741144.675423, \"total pod vol\": 22438165.989038}, {\"timestamp\": \"2022-04-13T00:00:14\", \"season\": 5989, \"variable\": \"pod listing vol\", \"value\": 23130227.433895, \"pod listing vol\": 23130227.433895, \"pod order vol\": 2655105.086016, \"total bean vol\": 27715880.542333, \"total pod vol\": 25785332.519911}, {\"timestamp\": \"2022-04-13T00:00:14\", \"season\": 5989, \"variable\": \"pod order vol\", \"value\": 2655105.086016, \"pod listing vol\": 23130227.433895, \"pod order vol\": 2655105.086016, \"total bean vol\": 27715880.542333, \"total pod vol\": 25785332.519911}, {\"timestamp\": \"2022-04-13T00:00:14\", \"season\": 5989, \"variable\": \"total bean vol\", \"value\": 27715880.542333, \"pod listing vol\": 23130227.433895, \"pod order vol\": 2655105.086016, \"total bean vol\": 27715880.542333, \"total pod vol\": 25785332.519911}, {\"timestamp\": \"2022-04-13T00:00:14\", \"season\": 5989, \"variable\": \"total pod vol\", \"value\": 25785332.519911, \"pod listing vol\": 23130227.433895, \"pod order vol\": 2655105.086016, \"total bean vol\": 27715880.542333, \"total pod vol\": 25785332.519911}, {\"timestamp\": \"2022-04-14T00:00:06\", \"season\": 6013, \"variable\": \"total pod vol\", \"value\": 29008286.157913, \"pod listing vol\": 26180153.152342, \"pod order vol\": 2828133.005571, \"total bean vol\": 30547964.527545, \"total pod vol\": 29008286.157913}, {\"timestamp\": \"2022-04-14T00:00:06\", \"season\": 6013, \"variable\": \"total bean vol\", \"value\": 30547964.527545, \"pod listing vol\": 26180153.152342, \"pod order vol\": 2828133.005571, \"total bean vol\": 30547964.527545, \"total pod vol\": 29008286.157913}, {\"timestamp\": \"2022-04-14T00:00:06\", \"season\": 6013, \"variable\": \"pod order vol\", \"value\": 2828133.005571, \"pod listing vol\": 26180153.152342, \"pod order vol\": 2828133.005571, \"total bean vol\": 30547964.527545, \"total pod vol\": 29008286.157913}, {\"timestamp\": \"2022-04-14T00:00:06\", \"season\": 6013, \"variable\": \"pod listing vol\", \"value\": 26180153.152342, \"pod listing vol\": 26180153.152342, \"pod order vol\": 2828133.005571, \"total bean vol\": 30547964.527545, \"total pod vol\": 29008286.157913}, {\"timestamp\": \"2022-04-15T00:00:36\", \"season\": 6037, \"variable\": \"pod listing vol\", \"value\": 30255895.358546, \"pod listing vol\": 30255895.358546, \"pod order vol\": 4498024.897462, \"total bean vol\": 32750148.311866, \"total pod vol\": 34753920.256008}, {\"timestamp\": \"2022-04-15T00:00:36\", \"season\": 6037, \"variable\": \"pod order vol\", \"value\": 4498024.897462, \"pod listing vol\": 30255895.358546, \"pod order vol\": 4498024.897462, \"total bean vol\": 32750148.311866, \"total pod vol\": 34753920.256008}, {\"timestamp\": \"2022-04-15T00:00:36\", \"season\": 6037, \"variable\": \"total bean vol\", \"value\": 32750148.311866, \"pod listing vol\": 30255895.358546, \"pod order vol\": 4498024.897462, \"total bean vol\": 32750148.311866, \"total pod vol\": 34753920.256008}, {\"timestamp\": \"2022-04-15T00:00:36\", \"season\": 6037, \"variable\": \"total pod vol\", \"value\": 34753920.256008, \"pod listing vol\": 30255895.358546, \"pod order vol\": 4498024.897462, \"total bean vol\": 32750148.311866, \"total pod vol\": 34753920.256008}, {\"timestamp\": \"2022-04-16T00:00:56\", \"season\": 6061, \"variable\": \"pod listing vol\", \"value\": 34725128.948987, \"pod listing vol\": 34725128.948987, \"pod order vol\": 4501396.092105, \"total bean vol\": 36287896.898515, \"total pod vol\": 39226525.041092}, {\"timestamp\": \"2022-04-16T00:00:56\", \"season\": 6061, \"variable\": \"pod order vol\", \"value\": 4501396.092105, \"pod listing vol\": 34725128.948987, \"pod order vol\": 4501396.092105, \"total bean vol\": 36287896.898515, \"total pod vol\": 39226525.041092}, {\"timestamp\": \"2022-04-16T00:00:56\", \"season\": 6061, \"variable\": \"total bean vol\", \"value\": 36287896.898515, \"pod listing vol\": 34725128.948987, \"pod order vol\": 4501396.092105, \"total bean vol\": 36287896.898515, \"total pod vol\": 39226525.041092}, {\"timestamp\": \"2022-04-16T00:00:56\", \"season\": 6061, \"variable\": \"total pod vol\", \"value\": 39226525.041092, \"pod listing vol\": 34725128.948987, \"pod order vol\": 4501396.092105, \"total bean vol\": 36287896.898515, \"total pod vol\": 39226525.041092}, {\"timestamp\": \"2022-04-17T00:00:12\", \"season\": 6074, \"variable\": \"pod listing vol\", \"value\": 36726401.595964, \"pod listing vol\": 36726401.595964, \"pod order vol\": 6612844.586573, \"total bean vol\": 37641149.280764, \"total pod vol\": 43339246.182537}, {\"timestamp\": \"2022-04-17T00:00:12\", \"season\": 6074, \"variable\": \"pod order vol\", \"value\": 6612844.586573, \"pod listing vol\": 36726401.595964, \"pod order vol\": 6612844.586573, \"total bean vol\": 37641149.280764, \"total pod vol\": 43339246.182537}, {\"timestamp\": \"2022-04-17T00:00:12\", \"season\": 6074, \"variable\": \"total bean vol\", \"value\": 37641149.280764, \"pod listing vol\": 36726401.595964, \"pod order vol\": 6612844.586573, \"total bean vol\": 37641149.280764, \"total pod vol\": 43339246.182537}, {\"timestamp\": \"2022-04-17T00:00:12\", \"season\": 6074, \"variable\": \"total pod vol\", \"value\": 43339246.182537, \"pod listing vol\": 36726401.595964, \"pod order vol\": 6612844.586573, \"total bean vol\": 37641149.280764, \"total pod vol\": 43339246.182537}, {\"timestamp\": \"2022-08-04T20:23:24\", \"season\": 6074, \"variable\": \"total pod vol\", \"value\": 43339246.182537, \"pod listing vol\": 36726401.595964, \"pod order vol\": 6612844.586573, \"total bean vol\": 37641149.280764, \"total pod vol\": 43339246.182537}, {\"timestamp\": \"2022-08-04T20:23:24\", \"season\": 6074, \"variable\": \"total bean vol\", \"value\": 37641149.280764, \"pod listing vol\": 36726401.595964, \"pod order vol\": 6612844.586573, \"total bean vol\": 37641149.280764, \"total pod vol\": 43339246.182537}, {\"timestamp\": \"2022-08-04T20:23:24\", \"season\": 6074, \"variable\": \"pod order vol\", \"value\": 6612844.586573, \"pod listing vol\": 36726401.595964, \"pod order vol\": 6612844.586573, \"total bean vol\": 37641149.280764, \"total pod vol\": 43339246.182537}, {\"timestamp\": \"2022-08-04T20:23:24\", \"season\": 6074, \"variable\": \"pod listing vol\", \"value\": 36726401.595964, \"pod listing vol\": 36726401.595964, \"pod order vol\": 6612844.586573, \"total bean vol\": 37641149.280764, \"total pod vol\": 43339246.182537}, {\"timestamp\": \"2022-08-05T03:40:44\", \"season\": 6074, \"variable\": \"pod listing vol\", \"value\": 36734580.012437, \"pod listing vol\": 36734580.012437, \"pod order vol\": 6612844.586573, \"total bean vol\": 38466206.630887, \"total pod vol\": 43347424.59901}, {\"timestamp\": \"2022-08-05T03:40:44\", \"season\": 6074, \"variable\": \"pod order vol\", \"value\": 6612844.586573, \"pod listing vol\": 36734580.012437, \"pod order vol\": 6612844.586573, \"total bean vol\": 38466206.630887, \"total pod vol\": 43347424.59901}, {\"timestamp\": \"2022-08-05T03:40:44\", \"season\": 6074, \"variable\": \"total bean vol\", \"value\": 38466206.630887, \"pod listing vol\": 36734580.012437, \"pod order vol\": 6612844.586573, \"total bean vol\": 38466206.630887, \"total pod vol\": 43347424.59901}, {\"timestamp\": \"2022-08-05T03:40:44\", \"season\": 6074, \"variable\": \"total pod vol\", \"value\": 43347424.59901, \"pod listing vol\": 36734580.012437, \"pod order vol\": 6612844.586573, \"total bean vol\": 38466206.630887, \"total pod vol\": 43347424.59901}, {\"timestamp\": \"2022-08-06T01:25:25\", \"season\": 6081, \"variable\": \"pod listing vol\", \"value\": 36743322.824056, \"pod listing vol\": 36743322.824056, \"pod order vol\": 6612844.586573, \"total bean vol\": 38934205.070184, \"total pod vol\": 43356167.410629}, {\"timestamp\": \"2022-08-06T01:25:25\", \"season\": 6081, \"variable\": \"pod order vol\", \"value\": 6612844.586573, \"pod listing vol\": 36743322.824056, \"pod order vol\": 6612844.586573, \"total bean vol\": 38934205.070184, \"total pod vol\": 43356167.410629}, {\"timestamp\": \"2022-08-06T01:25:25\", \"season\": 6081, \"variable\": \"total bean vol\", \"value\": 38934205.070184, \"pod listing vol\": 36743322.824056, \"pod order vol\": 6612844.586573, \"total bean vol\": 38934205.070184, \"total pod vol\": 43356167.410629}, {\"timestamp\": \"2022-08-06T01:25:25\", \"season\": 6081, \"variable\": \"total pod vol\", \"value\": 43356167.410629, \"pod listing vol\": 36743322.824056, \"pod order vol\": 6612844.586573, \"total bean vol\": 38934205.070184, \"total pod vol\": 43356167.410629}, {\"timestamp\": \"2022-08-07T00:00:03\", \"season\": 6105, \"variable\": \"pod listing vol\", \"value\": 37819221.832261, \"pod listing vol\": 37819221.832261, \"pod order vol\": 6660227.89123, \"total bean vol\": 40078576.617375, \"total pod vol\": 44479449.723491}, {\"timestamp\": \"2022-08-07T00:00:03\", \"season\": 6105, \"variable\": \"pod order vol\", \"value\": 6660227.89123, \"pod listing vol\": 37819221.832261, \"pod order vol\": 6660227.89123, \"total bean vol\": 40078576.617375, \"total pod vol\": 44479449.723491}, {\"timestamp\": \"2022-08-07T00:00:03\", \"season\": 6105, \"variable\": \"total bean vol\", \"value\": 40078576.617375, \"pod listing vol\": 37819221.832261, \"pod order vol\": 6660227.89123, \"total bean vol\": 40078576.617375, \"total pod vol\": 44479449.723491}, {\"timestamp\": \"2022-08-07T00:00:03\", \"season\": 6105, \"variable\": \"total pod vol\", \"value\": 44479449.723491, \"pod listing vol\": 37819221.832261, \"pod order vol\": 6660227.89123, \"total bean vol\": 40078576.617375, \"total pod vol\": 44479449.723491}, {\"timestamp\": \"2022-08-08T00:00:00\", \"season\": 6129, \"variable\": \"total pod vol\", \"value\": 44777318.774824, \"pod listing vol\": 38017090.883594, \"pod order vol\": 6760227.89123, \"total bean vol\": 42224606.716692, \"total pod vol\": 44777318.774824}, {\"timestamp\": \"2022-08-08T00:00:00\", \"season\": 6129, \"variable\": \"total bean vol\", \"value\": 42224606.716692, \"pod listing vol\": 38017090.883594, \"pod order vol\": 6760227.89123, \"total bean vol\": 42224606.716692, \"total pod vol\": 44777318.774824}, {\"timestamp\": \"2022-08-08T00:00:00\", \"season\": 6129, \"variable\": \"pod listing vol\", \"value\": 38017090.883594, \"pod listing vol\": 38017090.883594, \"pod order vol\": 6760227.89123, \"total bean vol\": 42224606.716692, \"total pod vol\": 44777318.774824}, {\"timestamp\": \"2022-08-08T00:00:00\", \"season\": 6129, \"variable\": \"pod order vol\", \"value\": 6760227.89123, \"pod listing vol\": 38017090.883594, \"pod order vol\": 6760227.89123, \"total bean vol\": 42224606.716692, \"total pod vol\": 44777318.774824}, {\"timestamp\": \"2022-08-09T00:00:08\", \"season\": 6153, \"variable\": \"pod listing vol\", \"value\": 38370466.500347, \"pod listing vol\": 38370466.500347, \"pod order vol\": 6760227.89123, \"total bean vol\": 42743314.983064, \"total pod vol\": 45130694.391577}, {\"timestamp\": \"2022-08-09T00:00:08\", \"season\": 6153, \"variable\": \"pod order vol\", \"value\": 6760227.89123, \"pod listing vol\": 38370466.500347, \"pod order vol\": 6760227.89123, \"total bean vol\": 42743314.983064, \"total pod vol\": 45130694.391577}, {\"timestamp\": \"2022-08-09T00:00:08\", \"season\": 6153, \"variable\": \"total bean vol\", \"value\": 42743314.983064, \"pod listing vol\": 38370466.500347, \"pod order vol\": 6760227.89123, \"total bean vol\": 42743314.983064, \"total pod vol\": 45130694.391577}, {\"timestamp\": \"2022-08-09T00:00:08\", \"season\": 6153, \"variable\": \"total pod vol\", \"value\": 45130694.391577, \"pod listing vol\": 38370466.500347, \"pod order vol\": 6760227.89123, \"total bean vol\": 42743314.983064, \"total pod vol\": 45130694.391577}, {\"timestamp\": \"2022-08-10T00:00:24\", \"season\": 6177, \"variable\": \"pod listing vol\", \"value\": 38472678.154532, \"pod listing vol\": 38472678.154532, \"pod order vol\": 6760227.89123, \"total bean vol\": 43570993.596558, \"total pod vol\": 45232906.045762}, {\"timestamp\": \"2022-08-10T00:00:24\", \"season\": 6177, \"variable\": \"pod order vol\", \"value\": 6760227.89123, \"pod listing vol\": 38472678.154532, \"pod order vol\": 6760227.89123, \"total bean vol\": 43570993.596558, \"total pod vol\": 45232906.045762}, {\"timestamp\": \"2022-08-10T00:00:24\", \"season\": 6177, \"variable\": \"total bean vol\", \"value\": 43570993.596558, \"pod listing vol\": 38472678.154532, \"pod order vol\": 6760227.89123, \"total bean vol\": 43570993.596558, \"total pod vol\": 45232906.045762}, {\"timestamp\": \"2022-08-10T00:00:24\", \"season\": 6177, \"variable\": \"total pod vol\", \"value\": 45232906.045762, \"pod listing vol\": 38472678.154532, \"pod order vol\": 6760227.89123, \"total bean vol\": 43570993.596558, \"total pod vol\": 45232906.045762}, {\"timestamp\": \"2022-08-11T00:00:14\", \"season\": 6201, \"variable\": \"pod listing vol\", \"value\": 38504134.101695, \"pod listing vol\": 38504134.101695, \"pod order vol\": 6760227.89123, \"total bean vol\": 43785927.827369, \"total pod vol\": 45264361.992925}, {\"timestamp\": \"2022-08-11T00:00:14\", \"season\": 6201, \"variable\": \"pod order vol\", \"value\": 6760227.89123, \"pod listing vol\": 38504134.101695, \"pod order vol\": 6760227.89123, \"total bean vol\": 43785927.827369, \"total pod vol\": 45264361.992925}, {\"timestamp\": \"2022-08-11T00:00:14\", \"season\": 6201, \"variable\": \"total bean vol\", \"value\": 43785927.827369, \"pod listing vol\": 38504134.101695, \"pod order vol\": 6760227.89123, \"total bean vol\": 43785927.827369, \"total pod vol\": 45264361.992925}, {\"timestamp\": \"2022-08-11T00:00:14\", \"season\": 6201, \"variable\": \"total pod vol\", \"value\": 45264361.992925, \"pod listing vol\": 38504134.101695, \"pod order vol\": 6760227.89123, \"total bean vol\": 43785927.827369, \"total pod vol\": 45264361.992925}, {\"timestamp\": \"2022-08-12T00:00:17\", \"season\": 6225, \"variable\": \"total pod vol\", \"value\": 45284725.78097, \"pod listing vol\": 38524497.88974, \"pod order vol\": 6760227.89123, \"total bean vol\": 44676998.298597, \"total pod vol\": 45284725.78097}, {\"timestamp\": \"2022-08-12T00:00:17\", \"season\": 6225, \"variable\": \"total bean vol\", \"value\": 44676998.298597, \"pod listing vol\": 38524497.88974, \"pod order vol\": 6760227.89123, \"total bean vol\": 44676998.298597, \"total pod vol\": 45284725.78097}, {\"timestamp\": \"2022-08-12T00:00:17\", \"season\": 6225, \"variable\": \"pod order vol\", \"value\": 6760227.89123, \"pod listing vol\": 38524497.88974, \"pod order vol\": 6760227.89123, \"total bean vol\": 44676998.298597, \"total pod vol\": 45284725.78097}, {\"timestamp\": \"2022-08-12T00:00:17\", \"season\": 6225, \"variable\": \"pod listing vol\", \"value\": 38524497.88974, \"pod listing vol\": 38524497.88974, \"pod order vol\": 6760227.89123, \"total bean vol\": 44676998.298597, \"total pod vol\": 45284725.78097}, {\"timestamp\": \"2022-08-13T00:00:03\", \"season\": 6249, \"variable\": \"pod listing vol\", \"value\": 38544497.88974, \"pod listing vol\": 38544497.88974, \"pod order vol\": 6891065.483696, \"total bean vol\": 44801163.83047, \"total pod vol\": 45435563.373436}, {\"timestamp\": \"2022-08-13T00:00:03\", \"season\": 6249, \"variable\": \"pod order vol\", \"value\": 6891065.483696, \"pod listing vol\": 38544497.88974, \"pod order vol\": 6891065.483696, \"total bean vol\": 44801163.83047, \"total pod vol\": 45435563.373436}, {\"timestamp\": \"2022-08-13T00:00:03\", \"season\": 6249, \"variable\": \"total bean vol\", \"value\": 44801163.83047, \"pod listing vol\": 38544497.88974, \"pod order vol\": 6891065.483696, \"total bean vol\": 44801163.83047, \"total pod vol\": 45435563.373436}, {\"timestamp\": \"2022-08-13T00:00:03\", \"season\": 6249, \"variable\": \"total pod vol\", \"value\": 45435563.373436, \"pod listing vol\": 38544497.88974, \"pod order vol\": 6891065.483696, \"total bean vol\": 44801163.83047, \"total pod vol\": 45435563.373436}, {\"timestamp\": \"2022-08-14T00:00:04\", \"season\": 6273, \"variable\": \"pod listing vol\", \"value\": 38544497.88974, \"pod listing vol\": 38544497.88974, \"pod order vol\": 6971306.670238, \"total bean vol\": 45245341.201804, \"total pod vol\": 45515804.559978}, {\"timestamp\": \"2022-08-14T00:00:04\", \"season\": 6273, \"variable\": \"pod order vol\", \"value\": 6971306.670238, \"pod listing vol\": 38544497.88974, \"pod order vol\": 6971306.670238, \"total bean vol\": 45245341.201804, \"total pod vol\": 45515804.559978}, {\"timestamp\": \"2022-08-14T00:00:04\", \"season\": 6273, \"variable\": \"total bean vol\", \"value\": 45245341.201804, \"pod listing vol\": 38544497.88974, \"pod order vol\": 6971306.670238, \"total bean vol\": 45245341.201804, \"total pod vol\": 45515804.559978}, {\"timestamp\": \"2022-08-14T00:00:04\", \"season\": 6273, \"variable\": \"total pod vol\", \"value\": 45515804.559978, \"pod listing vol\": 38544497.88974, \"pod order vol\": 6971306.670238, \"total bean vol\": 45245341.201804, \"total pod vol\": 45515804.559978}, {\"timestamp\": \"2022-08-15T00:00:45\", \"season\": 6297, \"variable\": \"pod listing vol\", \"value\": 38576407.890728, \"pod listing vol\": 38576407.890728, \"pod order vol\": 7505623.884586, \"total bean vol\": 45362240.688539, \"total pod vol\": 46082031.775314}, {\"timestamp\": \"2022-08-15T00:00:45\", \"season\": 6297, \"variable\": \"pod order vol\", \"value\": 7505623.884586, \"pod listing vol\": 38576407.890728, \"pod order vol\": 7505623.884586, \"total bean vol\": 45362240.688539, \"total pod vol\": 46082031.775314}, {\"timestamp\": \"2022-08-15T00:00:45\", \"season\": 6297, \"variable\": \"total bean vol\", \"value\": 45362240.688539, \"pod listing vol\": 38576407.890728, \"pod order vol\": 7505623.884586, \"total bean vol\": 45362240.688539, \"total pod vol\": 46082031.775314}, {\"timestamp\": \"2022-08-15T00:00:45\", \"season\": 6297, \"variable\": \"total pod vol\", \"value\": 46082031.775314, \"pod listing vol\": 38576407.890728, \"pod order vol\": 7505623.884586, \"total bean vol\": 45362240.688539, \"total pod vol\": 46082031.775314}, {\"timestamp\": \"2022-08-16T00:00:07\", \"season\": 6321, \"variable\": \"total pod vol\", \"value\": 46233565.010754, \"pod listing vol\": 38727941.126168, \"pod order vol\": 7505623.884586, \"total bean vol\": 45688834.137134, \"total pod vol\": 46233565.010754}, {\"timestamp\": \"2022-08-16T00:00:07\", \"season\": 6321, \"variable\": \"total bean vol\", \"value\": 45688834.137134, \"pod listing vol\": 38727941.126168, \"pod order vol\": 7505623.884586, \"total bean vol\": 45688834.137134, \"total pod vol\": 46233565.010754}, {\"timestamp\": \"2022-08-16T00:00:07\", \"season\": 6321, \"variable\": \"pod order vol\", \"value\": 7505623.884586, \"pod listing vol\": 38727941.126168, \"pod order vol\": 7505623.884586, \"total bean vol\": 45688834.137134, \"total pod vol\": 46233565.010754}, {\"timestamp\": \"2022-08-16T00:00:07\", \"season\": 6321, \"variable\": \"pod listing vol\", \"value\": 38727941.126168, \"pod listing vol\": 38727941.126168, \"pod order vol\": 7505623.884586, \"total bean vol\": 45688834.137134, \"total pod vol\": 46233565.010754}, {\"timestamp\": \"2022-08-17T00:00:10\", \"season\": 6345, \"variable\": \"pod listing vol\", \"value\": 38754831.185449, \"pod listing vol\": 38754831.185449, \"pod order vol\": 7505623.884586, \"total bean vol\": 45813737.57482, \"total pod vol\": 46260455.070035}, {\"timestamp\": \"2022-08-17T00:00:10\", \"season\": 6345, \"variable\": \"pod order vol\", \"value\": 7505623.884586, \"pod listing vol\": 38754831.185449, \"pod order vol\": 7505623.884586, \"total bean vol\": 45813737.57482, \"total pod vol\": 46260455.070035}, {\"timestamp\": \"2022-08-17T00:00:10\", \"season\": 6345, \"variable\": \"total bean vol\", \"value\": 45813737.57482, \"pod listing vol\": 38754831.185449, \"pod order vol\": 7505623.884586, \"total bean vol\": 45813737.57482, \"total pod vol\": 46260455.070035}, {\"timestamp\": \"2022-08-17T00:00:10\", \"season\": 6345, \"variable\": \"total pod vol\", \"value\": 46260455.070035, \"pod listing vol\": 38754831.185449, \"pod order vol\": 7505623.884586, \"total bean vol\": 45813737.57482, \"total pod vol\": 46260455.070035}, {\"timestamp\": \"2022-08-18T00:00:18\", \"season\": 6369, \"variable\": \"pod listing vol\", \"value\": 38764831.185449, \"pod listing vol\": 38764831.185449, \"pod order vol\": 7517130.699386, \"total bean vol\": 46088619.930328, \"total pod vol\": 46281961.884835}, {\"timestamp\": \"2022-08-18T00:00:18\", \"season\": 6369, \"variable\": \"pod order vol\", \"value\": 7517130.699386, \"pod listing vol\": 38764831.185449, \"pod order vol\": 7517130.699386, \"total bean vol\": 46088619.930328, \"total pod vol\": 46281961.884835}, {\"timestamp\": \"2022-08-18T00:00:18\", \"season\": 6369, \"variable\": \"total bean vol\", \"value\": 46088619.930328, \"pod listing vol\": 38764831.185449, \"pod order vol\": 7517130.699386, \"total bean vol\": 46088619.930328, \"total pod vol\": 46281961.884835}, {\"timestamp\": \"2022-08-18T00:00:18\", \"season\": 6369, \"variable\": \"total pod vol\", \"value\": 46281961.884835, \"pod listing vol\": 38764831.185449, \"pod order vol\": 7517130.699386, \"total bean vol\": 46088619.930328, \"total pod vol\": 46281961.884835}, {\"timestamp\": \"2022-08-19T00:00:17\", \"season\": 6393, \"variable\": \"pod listing vol\", \"value\": 38785331.03356, \"pod listing vol\": 38785331.03356, \"pod order vol\": 7517130.699386, \"total bean vol\": 46110139.648752, \"total pod vol\": 46302461.732946}, {\"timestamp\": \"2022-08-19T00:00:17\", \"season\": 6393, \"variable\": \"pod order vol\", \"value\": 7517130.699386, \"pod listing vol\": 38785331.03356, \"pod order vol\": 7517130.699386, \"total bean vol\": 46110139.648752, \"total pod vol\": 46302461.732946}, {\"timestamp\": \"2022-08-19T00:00:17\", \"season\": 6393, \"variable\": \"total bean vol\", \"value\": 46110139.648752, \"pod listing vol\": 38785331.03356, \"pod order vol\": 7517130.699386, \"total bean vol\": 46110139.648752, \"total pod vol\": 46302461.732946}, {\"timestamp\": \"2022-08-19T00:00:17\", \"season\": 6393, \"variable\": \"total pod vol\", \"value\": 46302461.732946, \"pod listing vol\": 38785331.03356, \"pod order vol\": 7517130.699386, \"total bean vol\": 46110139.648752, \"total pod vol\": 46302461.732946}, {\"timestamp\": \"2022-08-20T00:00:36\", \"season\": 6417, \"variable\": \"total pod vol\", \"value\": 46321393.431183, \"pod listing vol\": 38785647.865697, \"pod order vol\": 7535745.565486, \"total bean vol\": 46283383.884592, \"total pod vol\": 46321393.431183}, {\"timestamp\": \"2022-08-20T00:00:36\", \"season\": 6417, \"variable\": \"total bean vol\", \"value\": 46283383.884592, \"pod listing vol\": 38785647.865697, \"pod order vol\": 7535745.565486, \"total bean vol\": 46283383.884592, \"total pod vol\": 46321393.431183}, {\"timestamp\": \"2022-08-20T00:00:36\", \"season\": 6417, \"variable\": \"pod listing vol\", \"value\": 38785647.865697, \"pod listing vol\": 38785647.865697, \"pod order vol\": 7535745.565486, \"total bean vol\": 46283383.884592, \"total pod vol\": 46321393.431183}, {\"timestamp\": \"2022-08-20T00:00:36\", \"season\": 6417, \"variable\": \"pod order vol\", \"value\": 7535745.565486, \"pod listing vol\": 38785647.865697, \"pod order vol\": 7535745.565486, \"total bean vol\": 46283383.884592, \"total pod vol\": 46321393.431183}, {\"timestamp\": \"2022-08-21T00:00:01\", \"season\": 6441, \"variable\": \"pod listing vol\", \"value\": 38797290.400573, \"pod listing vol\": 38797290.400573, \"pod order vol\": 8319491.078891, \"total bean vol\": 47194161.200023, \"total pod vol\": 47116781.479464}, {\"timestamp\": \"2022-08-21T00:00:01\", \"season\": 6441, \"variable\": \"pod order vol\", \"value\": 8319491.078891, \"pod listing vol\": 38797290.400573, \"pod order vol\": 8319491.078891, \"total bean vol\": 47194161.200023, \"total pod vol\": 47116781.479464}, {\"timestamp\": \"2022-08-21T00:00:01\", \"season\": 6441, \"variable\": \"total bean vol\", \"value\": 47194161.200023, \"pod listing vol\": 38797290.400573, \"pod order vol\": 8319491.078891, \"total bean vol\": 47194161.200023, \"total pod vol\": 47116781.479464}, {\"timestamp\": \"2022-08-21T00:00:01\", \"season\": 6441, \"variable\": \"total pod vol\", \"value\": 47116781.479464, \"pod listing vol\": 38797290.400573, \"pod order vol\": 8319491.078891, \"total bean vol\": 47194161.200023, \"total pod vol\": 47116781.479464}, {\"timestamp\": \"2022-08-22T00:00:48\", \"season\": 6465, \"variable\": \"pod listing vol\", \"value\": 38805699.948575, \"pod listing vol\": 38805699.948575, \"pod order vol\": 8319491.078891, \"total bean vol\": 47194386.810098, \"total pod vol\": 47125191.027466}, {\"timestamp\": \"2022-08-22T00:00:48\", \"season\": 6465, \"variable\": \"pod order vol\", \"value\": 8319491.078891, \"pod listing vol\": 38805699.948575, \"pod order vol\": 8319491.078891, \"total bean vol\": 47194386.810098, \"total pod vol\": 47125191.027466}, {\"timestamp\": \"2022-08-22T00:00:48\", \"season\": 6465, \"variable\": \"total bean vol\", \"value\": 47194386.810098, \"pod listing vol\": 38805699.948575, \"pod order vol\": 8319491.078891, \"total bean vol\": 47194386.810098, \"total pod vol\": 47125191.027466}, {\"timestamp\": \"2022-08-22T00:00:48\", \"season\": 6465, \"variable\": \"total pod vol\", \"value\": 47125191.027466, \"pod listing vol\": 38805699.948575, \"pod order vol\": 8319491.078891, \"total bean vol\": 47194386.810098, \"total pod vol\": 47125191.027466}, {\"timestamp\": \"2022-08-23T00:00:03\", \"season\": 6489, \"variable\": \"pod listing vol\", \"value\": 38841200.669627, \"pod listing vol\": 38841200.669627, \"pod order vol\": 8328519.436816, \"total bean vol\": 47426882.00759, \"total pod vol\": 47169720.106443}, {\"timestamp\": \"2022-08-23T00:00:03\", \"season\": 6489, \"variable\": \"pod order vol\", \"value\": 8328519.436816, \"pod listing vol\": 38841200.669627, \"pod order vol\": 8328519.436816, \"total bean vol\": 47426882.00759, \"total pod vol\": 47169720.106443}, {\"timestamp\": \"2022-08-23T00:00:03\", \"season\": 6489, \"variable\": \"total bean vol\", \"value\": 47426882.00759, \"pod listing vol\": 38841200.669627, \"pod order vol\": 8328519.436816, \"total bean vol\": 47426882.00759, \"total pod vol\": 47169720.106443}, {\"timestamp\": \"2022-08-23T00:00:03\", \"season\": 6489, \"variable\": \"total pod vol\", \"value\": 47169720.106443, \"pod listing vol\": 38841200.669627, \"pod order vol\": 8328519.436816, \"total bean vol\": 47426882.00759, \"total pod vol\": 47169720.106443}, {\"timestamp\": \"2022-08-24T00:00:13\", \"season\": 6513, \"variable\": \"pod order vol\", \"value\": 8562692.748482, \"pod listing vol\": 38869527.228707, \"pod order vol\": 8562692.748482, \"total bean vol\": 48453463.675005, \"total pod vol\": 47432219.977189}, {\"timestamp\": \"2022-08-24T00:00:13\", \"season\": 6513, \"variable\": \"total pod vol\", \"value\": 47432219.977189, \"pod listing vol\": 38869527.228707, \"pod order vol\": 8562692.748482, \"total bean vol\": 48453463.675005, \"total pod vol\": 47432219.977189}, {\"timestamp\": \"2022-08-24T00:00:13\", \"season\": 6513, \"variable\": \"pod listing vol\", \"value\": 38869527.228707, \"pod listing vol\": 38869527.228707, \"pod order vol\": 8562692.748482, \"total bean vol\": 48453463.675005, \"total pod vol\": 47432219.977189}, {\"timestamp\": \"2022-08-24T00:00:13\", \"season\": 6513, \"variable\": \"total bean vol\", \"value\": 48453463.675005, \"pod listing vol\": 38869527.228707, \"pod order vol\": 8562692.748482, \"total bean vol\": 48453463.675005, \"total pod vol\": 47432219.977189}, {\"timestamp\": \"2022-08-25T00:00:10\", \"season\": 6537, \"variable\": \"pod listing vol\", \"value\": 39197571.141752, \"pod listing vol\": 39197571.141752, \"pod order vol\": 8562692.748482, \"total bean vol\": 48726978.92377, \"total pod vol\": 47760263.890234}, {\"timestamp\": \"2022-08-25T00:00:10\", \"season\": 6537, \"variable\": \"pod order vol\", \"value\": 8562692.748482, \"pod listing vol\": 39197571.141752, \"pod order vol\": 8562692.748482, \"total bean vol\": 48726978.92377, \"total pod vol\": 47760263.890234}, {\"timestamp\": \"2022-08-25T00:00:10\", \"season\": 6537, \"variable\": \"total bean vol\", \"value\": 48726978.92377, \"pod listing vol\": 39197571.141752, \"pod order vol\": 8562692.748482, \"total bean vol\": 48726978.92377, \"total pod vol\": 47760263.890234}, {\"timestamp\": \"2022-08-25T00:00:10\", \"season\": 6537, \"variable\": \"total pod vol\", \"value\": 47760263.890234, \"pod listing vol\": 39197571.141752, \"pod order vol\": 8562692.748482, \"total bean vol\": 48726978.92377, \"total pod vol\": 47760263.890234}, {\"timestamp\": \"2022-08-26T00:00:05\", \"season\": 6561, \"variable\": \"pod listing vol\", \"value\": 39205629.570921, \"pod listing vol\": 39205629.570921, \"pod order vol\": 8774468.193651, \"total bean vol\": 49095534.631319, \"total pod vol\": 47980097.764572}, {\"timestamp\": \"2022-08-26T00:00:05\", \"season\": 6561, \"variable\": \"pod order vol\", \"value\": 8774468.193651, \"pod listing vol\": 39205629.570921, \"pod order vol\": 8774468.193651, \"total bean vol\": 49095534.631319, \"total pod vol\": 47980097.764572}, {\"timestamp\": \"2022-08-26T00:00:05\", \"season\": 6561, \"variable\": \"total bean vol\", \"value\": 49095534.631319, \"pod listing vol\": 39205629.570921, \"pod order vol\": 8774468.193651, \"total bean vol\": 49095534.631319, \"total pod vol\": 47980097.764572}, {\"timestamp\": \"2022-08-26T00:00:05\", \"season\": 6561, \"variable\": \"total pod vol\", \"value\": 47980097.764572, \"pod listing vol\": 39205629.570921, \"pod order vol\": 8774468.193651, \"total bean vol\": 49095534.631319, \"total pod vol\": 47980097.764572}, {\"timestamp\": \"2022-08-27T00:00:06\", \"season\": 6585, \"variable\": \"total bean vol\", \"value\": 49243699.796524, \"pod listing vol\": 39205629.570921, \"pod order vol\": 8774468.193651, \"total bean vol\": 49243699.796524, \"total pod vol\": 47980097.764572}, {\"timestamp\": \"2022-08-27T00:00:06\", \"season\": 6585, \"variable\": \"pod listing vol\", \"value\": 39205629.570921, \"pod listing vol\": 39205629.570921, \"pod order vol\": 8774468.193651, \"total bean vol\": 49243699.796524, \"total pod vol\": 47980097.764572}, {\"timestamp\": \"2022-08-27T00:00:06\", \"season\": 6585, \"variable\": \"pod order vol\", \"value\": 8774468.193651, \"pod listing vol\": 39205629.570921, \"pod order vol\": 8774468.193651, \"total bean vol\": 49243699.796524, \"total pod vol\": 47980097.764572}, {\"timestamp\": \"2022-08-27T00:00:06\", \"season\": 6585, \"variable\": \"total pod vol\", \"value\": 47980097.764572, \"pod listing vol\": 39205629.570921, \"pod order vol\": 8774468.193651, \"total bean vol\": 49243699.796524, \"total pod vol\": 47980097.764572}, {\"timestamp\": \"2022-08-28T00:00:11\", \"season\": 6609, \"variable\": \"total pod vol\", \"value\": 48203332.606513, \"pod listing vol\": 39374836.054937, \"pod order vol\": 8828496.551576, \"total bean vol\": 49579905.906967, \"total pod vol\": 48203332.606513}, {\"timestamp\": \"2022-08-28T00:00:11\", \"season\": 6609, \"variable\": \"pod order vol\", \"value\": 8828496.551576, \"pod listing vol\": 39374836.054937, \"pod order vol\": 8828496.551576, \"total bean vol\": 49579905.906967, \"total pod vol\": 48203332.606513}, {\"timestamp\": \"2022-08-28T00:00:11\", \"season\": 6609, \"variable\": \"pod listing vol\", \"value\": 39374836.054937, \"pod listing vol\": 39374836.054937, \"pod order vol\": 8828496.551576, \"total bean vol\": 49579905.906967, \"total pod vol\": 48203332.606513}, {\"timestamp\": \"2022-08-28T00:00:11\", \"season\": 6609, \"variable\": \"total bean vol\", \"value\": 49579905.906967, \"pod listing vol\": 39374836.054937, \"pod order vol\": 8828496.551576, \"total bean vol\": 49579905.906967, \"total pod vol\": 48203332.606513}, {\"timestamp\": \"2022-08-29T00:00:40\", \"season\": 6633, \"variable\": \"pod listing vol\", \"value\": 39374836.054937, \"pod listing vol\": 39374836.054937, \"pod order vol\": 8828496.551576, \"total bean vol\": 49627896.044296, \"total pod vol\": 48203332.606513}, {\"timestamp\": \"2022-08-29T00:00:40\", \"season\": 6633, \"variable\": \"pod order vol\", \"value\": 8828496.551576, \"pod listing vol\": 39374836.054937, \"pod order vol\": 8828496.551576, \"total bean vol\": 49627896.044296, \"total pod vol\": 48203332.606513}, {\"timestamp\": \"2022-08-29T00:00:40\", \"season\": 6633, \"variable\": \"total bean vol\", \"value\": 49627896.044296, \"pod listing vol\": 39374836.054937, \"pod order vol\": 8828496.551576, \"total bean vol\": 49627896.044296, \"total pod vol\": 48203332.606513}, {\"timestamp\": \"2022-08-29T00:00:40\", \"season\": 6633, \"variable\": \"total pod vol\", \"value\": 48203332.606513, \"pod listing vol\": 39374836.054937, \"pod order vol\": 8828496.551576, \"total bean vol\": 49627896.044296, \"total pod vol\": 48203332.606513}, {\"timestamp\": \"2022-08-30T00:00:20\", \"season\": 6657, \"variable\": \"pod listing vol\", \"value\": 39559791.500646, \"pod listing vol\": 39559791.500646, \"pod order vol\": 8828496.551576, \"total bean vol\": 50003813.972019, \"total pod vol\": 48388288.052222}, {\"timestamp\": \"2022-08-30T00:00:20\", \"season\": 6657, \"variable\": \"pod order vol\", \"value\": 8828496.551576, \"pod listing vol\": 39559791.500646, \"pod order vol\": 8828496.551576, \"total bean vol\": 50003813.972019, \"total pod vol\": 48388288.052222}, {\"timestamp\": \"2022-08-30T00:00:20\", \"season\": 6657, \"variable\": \"total bean vol\", \"value\": 50003813.972019, \"pod listing vol\": 39559791.500646, \"pod order vol\": 8828496.551576, \"total bean vol\": 50003813.972019, \"total pod vol\": 48388288.052222}, {\"timestamp\": \"2022-08-30T00:00:20\", \"season\": 6657, \"variable\": \"total pod vol\", \"value\": 48388288.052222, \"pod listing vol\": 39559791.500646, \"pod order vol\": 8828496.551576, \"total bean vol\": 50003813.972019, \"total pod vol\": 48388288.052222}, {\"timestamp\": \"2022-08-31T00:00:38\", \"season\": 6681, \"variable\": \"pod listing vol\", \"value\": 39563744.218304, \"pod listing vol\": 39563744.218304, \"pod order vol\": 8945914.629593, \"total bean vol\": 50045823.147551, \"total pod vol\": 48509658.847897}, {\"timestamp\": \"2022-08-31T00:00:38\", \"season\": 6681, \"variable\": \"pod order vol\", \"value\": 8945914.629593, \"pod listing vol\": 39563744.218304, \"pod order vol\": 8945914.629593, \"total bean vol\": 50045823.147551, \"total pod vol\": 48509658.847897}, {\"timestamp\": \"2022-08-31T00:00:38\", \"season\": 6681, \"variable\": \"total bean vol\", \"value\": 50045823.147551, \"pod listing vol\": 39563744.218304, \"pod order vol\": 8945914.629593, \"total bean vol\": 50045823.147551, \"total pod vol\": 48509658.847897}, {\"timestamp\": \"2022-08-31T00:00:38\", \"season\": 6681, \"variable\": \"total pod vol\", \"value\": 48509658.847897, \"pod listing vol\": 39563744.218304, \"pod order vol\": 8945914.629593, \"total bean vol\": 50045823.147551, \"total pod vol\": 48509658.847897}, {\"timestamp\": \"2022-09-01T00:00:03\", \"season\": 6705, \"variable\": \"total pod vol\", \"value\": 48720967.825027, \"pod listing vol\": 39775053.195434, \"pod order vol\": 8945914.629593, \"total bean vol\": 50334070.906932, \"total pod vol\": 48720967.825027}, {\"timestamp\": \"2022-09-01T00:00:03\", \"season\": 6705, \"variable\": \"total bean vol\", \"value\": 50334070.906932, \"pod listing vol\": 39775053.195434, \"pod order vol\": 8945914.629593, \"total bean vol\": 50334070.906932, \"total pod vol\": 48720967.825027}, {\"timestamp\": \"2022-09-01T00:00:03\", \"season\": 6705, \"variable\": \"pod order vol\", \"value\": 8945914.629593, \"pod listing vol\": 39775053.195434, \"pod order vol\": 8945914.629593, \"total bean vol\": 50334070.906932, \"total pod vol\": 48720967.825027}, {\"timestamp\": \"2022-09-01T00:00:03\", \"season\": 6705, \"variable\": \"pod listing vol\", \"value\": 39775053.195434, \"pod listing vol\": 39775053.195434, \"pod order vol\": 8945914.629593, \"total bean vol\": 50334070.906932, \"total pod vol\": 48720967.825027}, {\"timestamp\": \"2022-09-02T00:00:00\", \"season\": 6729, \"variable\": \"pod listing vol\", \"value\": 39907046.59378, \"pod listing vol\": 39907046.59378, \"pod order vol\": 9305163.623793, \"total bean vol\": 50357036.121422, \"total pod vol\": 49212210.217573}, {\"timestamp\": \"2022-09-02T00:00:00\", \"season\": 6729, \"variable\": \"pod order vol\", \"value\": 9305163.623793, \"pod listing vol\": 39907046.59378, \"pod order vol\": 9305163.623793, \"total bean vol\": 50357036.121422, \"total pod vol\": 49212210.217573}, {\"timestamp\": \"2022-09-02T00:00:00\", \"season\": 6729, \"variable\": \"total bean vol\", \"value\": 50357036.121422, \"pod listing vol\": 39907046.59378, \"pod order vol\": 9305163.623793, \"total bean vol\": 50357036.121422, \"total pod vol\": 49212210.217573}, {\"timestamp\": \"2022-09-02T00:00:00\", \"season\": 6729, \"variable\": \"total pod vol\", \"value\": 49212210.217573, \"pod listing vol\": 39907046.59378, \"pod order vol\": 9305163.623793, \"total bean vol\": 50357036.121422, \"total pod vol\": 49212210.217573}, {\"timestamp\": \"2022-09-03T00:00:30\", \"season\": 6753, \"variable\": \"pod listing vol\", \"value\": 39983615.967615, \"pod listing vol\": 39983615.967615, \"pod order vol\": 9305163.623793, \"total bean vol\": 50379545.902134, \"total pod vol\": 49288779.591408}, {\"timestamp\": \"2022-09-03T00:00:30\", \"season\": 6753, \"variable\": \"pod order vol\", \"value\": 9305163.623793, \"pod listing vol\": 39983615.967615, \"pod order vol\": 9305163.623793, \"total bean vol\": 50379545.902134, \"total pod vol\": 49288779.591408}, {\"timestamp\": \"2022-09-03T00:00:30\", \"season\": 6753, \"variable\": \"total bean vol\", \"value\": 50379545.902134, \"pod listing vol\": 39983615.967615, \"pod order vol\": 9305163.623793, \"total bean vol\": 50379545.902134, \"total pod vol\": 49288779.591408}, {\"timestamp\": \"2022-09-03T00:00:30\", \"season\": 6753, \"variable\": \"total pod vol\", \"value\": 49288779.591408, \"pod listing vol\": 39983615.967615, \"pod order vol\": 9305163.623793, \"total bean vol\": 50379545.902134, \"total pod vol\": 49288779.591408}, {\"timestamp\": \"2022-09-04T00:00:03\", \"season\": 6777, \"variable\": \"pod listing vol\", \"value\": 39986390.287911, \"pod listing vol\": 39986390.287911, \"pod order vol\": 9364077.373793, \"total bean vol\": 50386581.392712, \"total pod vol\": 49350467.661704}, {\"timestamp\": \"2022-09-04T00:00:03\", \"season\": 6777, \"variable\": \"pod order vol\", \"value\": 9364077.373793, \"pod listing vol\": 39986390.287911, \"pod order vol\": 9364077.373793, \"total bean vol\": 50386581.392712, \"total pod vol\": 49350467.661704}, {\"timestamp\": \"2022-09-04T00:00:03\", \"season\": 6777, \"variable\": \"total bean vol\", \"value\": 50386581.392712, \"pod listing vol\": 39986390.287911, \"pod order vol\": 9364077.373793, \"total bean vol\": 50386581.392712, \"total pod vol\": 49350467.661704}, {\"timestamp\": \"2022-09-04T00:00:03\", \"season\": 6777, \"variable\": \"total pod vol\", \"value\": 49350467.661704, \"pod listing vol\": 39986390.287911, \"pod order vol\": 9364077.373793, \"total bean vol\": 50386581.392712, \"total pod vol\": 49350467.661704}, {\"timestamp\": \"2022-09-05T00:00:02\", \"season\": 6801, \"variable\": \"total pod vol\", \"value\": 49350467.661704, \"pod listing vol\": 39986390.287911, \"pod order vol\": 9364077.373793, \"total bean vol\": 50622629.619476, \"total pod vol\": 49350467.661704}, {\"timestamp\": \"2022-09-05T00:00:02\", \"season\": 6801, \"variable\": \"total bean vol\", \"value\": 50622629.619476, \"pod listing vol\": 39986390.287911, \"pod order vol\": 9364077.373793, \"total bean vol\": 50622629.619476, \"total pod vol\": 49350467.661704}, {\"timestamp\": \"2022-09-05T00:00:02\", \"season\": 6801, \"variable\": \"pod listing vol\", \"value\": 39986390.287911, \"pod listing vol\": 39986390.287911, \"pod order vol\": 9364077.373793, \"total bean vol\": 50622629.619476, \"total pod vol\": 49350467.661704}, {\"timestamp\": \"2022-09-05T00:00:02\", \"season\": 6801, \"variable\": \"pod order vol\", \"value\": 9364077.373793, \"pod listing vol\": 39986390.287911, \"pod order vol\": 9364077.373793, \"total bean vol\": 50622629.619476, \"total pod vol\": 49350467.661704}, {\"timestamp\": \"2022-09-06T00:01:10\", \"season\": 6825, \"variable\": \"pod listing vol\", \"value\": 40140737.158231, \"pod listing vol\": 40140737.158231, \"pod order vol\": 9398016.431338, \"total bean vol\": 50860959.448296, \"total pod vol\": 49538753.589569}, {\"timestamp\": \"2022-09-06T00:01:10\", \"season\": 6825, \"variable\": \"pod order vol\", \"value\": 9398016.431338, \"pod listing vol\": 40140737.158231, \"pod order vol\": 9398016.431338, \"total bean vol\": 50860959.448296, \"total pod vol\": 49538753.589569}, {\"timestamp\": \"2022-09-06T00:01:10\", \"season\": 6825, \"variable\": \"total bean vol\", \"value\": 50860959.448296, \"pod listing vol\": 40140737.158231, \"pod order vol\": 9398016.431338, \"total bean vol\": 50860959.448296, \"total pod vol\": 49538753.589569}, {\"timestamp\": \"2022-09-06T00:01:10\", \"season\": 6825, \"variable\": \"total pod vol\", \"value\": 49538753.589569, \"pod listing vol\": 40140737.158231, \"pod order vol\": 9398016.431338, \"total bean vol\": 50860959.448296, \"total pod vol\": 49538753.589569}, {\"timestamp\": \"2022-09-07T00:00:02\", \"season\": 6849, \"variable\": \"pod listing vol\", \"value\": 40227543.555723, \"pod listing vol\": 40227543.555723, \"pod order vol\": 9398016.431338, \"total bean vol\": 50961187.718307, \"total pod vol\": 49625559.987061}, {\"timestamp\": \"2022-09-07T00:00:02\", \"season\": 6849, \"variable\": \"pod order vol\", \"value\": 9398016.431338, \"pod listing vol\": 40227543.555723, \"pod order vol\": 9398016.431338, \"total bean vol\": 50961187.718307, \"total pod vol\": 49625559.987061}, {\"timestamp\": \"2022-09-07T00:00:02\", \"season\": 6849, \"variable\": \"total bean vol\", \"value\": 50961187.718307, \"pod listing vol\": 40227543.555723, \"pod order vol\": 9398016.431338, \"total bean vol\": 50961187.718307, \"total pod vol\": 49625559.987061}, {\"timestamp\": \"2022-09-07T00:00:02\", \"season\": 6849, \"variable\": \"total pod vol\", \"value\": 49625559.987061, \"pod listing vol\": 40227543.555723, \"pod order vol\": 9398016.431338, \"total bean vol\": 50961187.718307, \"total pod vol\": 49625559.987061}, {\"timestamp\": \"2022-09-08T00:00:00\", \"season\": 6873, \"variable\": \"total pod vol\", \"value\": 49689694.925681, \"pod listing vol\": 40227543.555723, \"pod order vol\": 9462151.369958, \"total bean vol\": 51182666.485623, \"total pod vol\": 49689694.925681}, {\"timestamp\": \"2022-09-08T00:00:00\", \"season\": 6873, \"variable\": \"pod listing vol\", \"value\": 40227543.555723, \"pod listing vol\": 40227543.555723, \"pod order vol\": 9462151.369958, \"total bean vol\": 51182666.485623, \"total pod vol\": 49689694.925681}, {\"timestamp\": \"2022-09-08T00:00:00\", \"season\": 6873, \"variable\": \"pod order vol\", \"value\": 9462151.369958, \"pod listing vol\": 40227543.555723, \"pod order vol\": 9462151.369958, \"total bean vol\": 51182666.485623, \"total pod vol\": 49689694.925681}, {\"timestamp\": \"2022-09-08T00:00:00\", \"season\": 6873, \"variable\": \"total bean vol\", \"value\": 51182666.485623, \"pod listing vol\": 40227543.555723, \"pod order vol\": 9462151.369958, \"total bean vol\": 51182666.485623, \"total pod vol\": 49689694.925681}, {\"timestamp\": \"2022-09-09T00:00:25\", \"season\": 6897, \"variable\": \"total pod vol\", \"value\": 49689694.925681, \"pod listing vol\": 40227543.555723, \"pod order vol\": 9462151.369958, \"total bean vol\": 51190325.467986, \"total pod vol\": 49689694.925681}, {\"timestamp\": \"2022-09-09T00:00:25\", \"season\": 6897, \"variable\": \"total bean vol\", \"value\": 51190325.467986, \"pod listing vol\": 40227543.555723, \"pod order vol\": 9462151.369958, \"total bean vol\": 51190325.467986, \"total pod vol\": 49689694.925681}, {\"timestamp\": \"2022-09-09T00:00:25\", \"season\": 6897, \"variable\": \"pod order vol\", \"value\": 9462151.369958, \"pod listing vol\": 40227543.555723, \"pod order vol\": 9462151.369958, \"total bean vol\": 51190325.467986, \"total pod vol\": 49689694.925681}, {\"timestamp\": \"2022-09-09T00:00:25\", \"season\": 6897, \"variable\": \"pod listing vol\", \"value\": 40227543.555723, \"pod listing vol\": 40227543.555723, \"pod order vol\": 9462151.369958, \"total bean vol\": 51190325.467986, \"total pod vol\": 49689694.925681}, {\"timestamp\": \"2022-09-10T00:00:18\", \"season\": 6921, \"variable\": \"pod listing vol\", \"value\": 40426854.261582, \"pod listing vol\": 40426854.261582, \"pod order vol\": 9492461.407908, \"total bean vol\": 51213074.210108, \"total pod vol\": 49919315.66949}, {\"timestamp\": \"2022-09-10T00:00:18\", \"season\": 6921, \"variable\": \"pod order vol\", \"value\": 9492461.407908, \"pod listing vol\": 40426854.261582, \"pod order vol\": 9492461.407908, \"total bean vol\": 51213074.210108, \"total pod vol\": 49919315.66949}, {\"timestamp\": \"2022-09-10T00:00:18\", \"season\": 6921, \"variable\": \"total bean vol\", \"value\": 51213074.210108, \"pod listing vol\": 40426854.261582, \"pod order vol\": 9492461.407908, \"total bean vol\": 51213074.210108, \"total pod vol\": 49919315.66949}, {\"timestamp\": \"2022-09-10T00:00:18\", \"season\": 6921, \"variable\": \"total pod vol\", \"value\": 49919315.66949, \"pod listing vol\": 40426854.261582, \"pod order vol\": 9492461.407908, \"total bean vol\": 51213074.210108, \"total pod vol\": 49919315.66949}, {\"timestamp\": \"2022-09-11T00:00:09\", \"season\": 6945, \"variable\": \"total pod vol\", \"value\": 49939005.63154, \"pod listing vol\": 40426854.261582, \"pod order vol\": 9512151.369958, \"total bean vol\": 51226895.440353, \"total pod vol\": 49939005.63154}, {\"timestamp\": \"2022-09-11T00:00:09\", \"season\": 6945, \"variable\": \"pod listing vol\", \"value\": 40426854.261582, \"pod listing vol\": 40426854.261582, \"pod order vol\": 9512151.369958, \"total bean vol\": 51226895.440353, \"total pod vol\": 49939005.63154}, {\"timestamp\": \"2022-09-11T00:00:09\", \"season\": 6945, \"variable\": \"pod order vol\", \"value\": 9512151.369958, \"pod listing vol\": 40426854.261582, \"pod order vol\": 9512151.369958, \"total bean vol\": 51226895.440353, \"total pod vol\": 49939005.63154}, {\"timestamp\": \"2022-09-11T00:00:09\", \"season\": 6945, \"variable\": \"total bean vol\", \"value\": 51226895.440353, \"pod listing vol\": 40426854.261582, \"pod order vol\": 9512151.369958, \"total bean vol\": 51226895.440353, \"total pod vol\": 49939005.63154}, {\"timestamp\": \"2022-09-12T00:00:26\", \"season\": 6969, \"variable\": \"total bean vol\", \"value\": 51503520.573218, \"pod listing vol\": 40436960.607754, \"pod order vol\": 9517326.146238, \"total bean vol\": 51503520.573218, \"total pod vol\": 49954286.753992}, {\"timestamp\": \"2022-09-12T00:00:26\", \"season\": 6969, \"variable\": \"total pod vol\", \"value\": 49954286.753992, \"pod listing vol\": 40436960.607754, \"pod order vol\": 9517326.146238, \"total bean vol\": 51503520.573218, \"total pod vol\": 49954286.753992}, {\"timestamp\": \"2022-09-12T00:00:26\", \"season\": 6969, \"variable\": \"pod listing vol\", \"value\": 40436960.607754, \"pod listing vol\": 40436960.607754, \"pod order vol\": 9517326.146238, \"total bean vol\": 51503520.573218, \"total pod vol\": 49954286.753992}, {\"timestamp\": \"2022-09-12T00:00:26\", \"season\": 6969, \"variable\": \"pod order vol\", \"value\": 9517326.146238, \"pod listing vol\": 40436960.607754, \"pod order vol\": 9517326.146238, \"total bean vol\": 51503520.573218, \"total pod vol\": 49954286.753992}, {\"timestamp\": \"2022-09-13T00:00:01\", \"season\": 6993, \"variable\": \"total pod vol\", \"value\": 50119832.284114, \"pod listing vol\": 40436960.607754, \"pod order vol\": 9682871.67636, \"total bean vol\": 51612396.867686, \"total pod vol\": 50119832.284114}, {\"timestamp\": \"2022-09-13T00:00:01\", \"season\": 6993, \"variable\": \"total bean vol\", \"value\": 51612396.867686, \"pod listing vol\": 40436960.607754, \"pod order vol\": 9682871.67636, \"total bean vol\": 51612396.867686, \"total pod vol\": 50119832.284114}, {\"timestamp\": \"2022-09-13T00:00:01\", \"season\": 6993, \"variable\": \"pod order vol\", \"value\": 9682871.67636, \"pod listing vol\": 40436960.607754, \"pod order vol\": 9682871.67636, \"total bean vol\": 51612396.867686, \"total pod vol\": 50119832.284114}, {\"timestamp\": \"2022-09-13T00:00:01\", \"season\": 6993, \"variable\": \"pod listing vol\", \"value\": 40436960.607754, \"pod listing vol\": 40436960.607754, \"pod order vol\": 9682871.67636, \"total bean vol\": 51612396.867686, \"total pod vol\": 50119832.284114}, {\"timestamp\": \"2022-09-14T00:00:22\", \"season\": 7017, \"variable\": \"pod listing vol\", \"value\": 40437440.898168, \"pod listing vol\": 40437440.898168, \"pod order vol\": 9682871.67636, \"total bean vol\": 51612526.546097, \"total pod vol\": 50120312.574528}, {\"timestamp\": \"2022-09-14T00:00:22\", \"season\": 7017, \"variable\": \"pod order vol\", \"value\": 9682871.67636, \"pod listing vol\": 40437440.898168, \"pod order vol\": 9682871.67636, \"total bean vol\": 51612526.546097, \"total pod vol\": 50120312.574528}, {\"timestamp\": \"2022-09-14T00:00:22\", \"season\": 7017, \"variable\": \"total bean vol\", \"value\": 51612526.546097, \"pod listing vol\": 40437440.898168, \"pod order vol\": 9682871.67636, \"total bean vol\": 51612526.546097, \"total pod vol\": 50120312.574528}, {\"timestamp\": \"2022-09-14T00:00:22\", \"season\": 7017, \"variable\": \"total pod vol\", \"value\": 50120312.574528, \"pod listing vol\": 40437440.898168, \"pod order vol\": 9682871.67636, \"total bean vol\": 51612526.546097, \"total pod vol\": 50120312.574528}, {\"timestamp\": \"2022-09-15T00:00:12\", \"season\": 7041, \"variable\": \"pod listing vol\", \"value\": 40437440.898168, \"pod listing vol\": 40437440.898168, \"pod order vol\": 9721821.697887, \"total bean vol\": 51967328.221639, \"total pod vol\": 50159262.596055}, {\"timestamp\": \"2022-09-15T00:00:12\", \"season\": 7041, \"variable\": \"pod order vol\", \"value\": 9721821.697887, \"pod listing vol\": 40437440.898168, \"pod order vol\": 9721821.697887, \"total bean vol\": 51967328.221639, \"total pod vol\": 50159262.596055}, {\"timestamp\": \"2022-09-15T00:00:12\", \"season\": 7041, \"variable\": \"total bean vol\", \"value\": 51967328.221639, \"pod listing vol\": 40437440.898168, \"pod order vol\": 9721821.697887, \"total bean vol\": 51967328.221639, \"total pod vol\": 50159262.596055}, {\"timestamp\": \"2022-09-15T00:00:12\", \"season\": 7041, \"variable\": \"total pod vol\", \"value\": 50159262.596055, \"pod listing vol\": 40437440.898168, \"pod order vol\": 9721821.697887, \"total bean vol\": 51967328.221639, \"total pod vol\": 50159262.596055}, {\"timestamp\": \"2022-09-16T00:00:11\", \"season\": 7065, \"variable\": \"total pod vol\", \"value\": 50163484.106614, \"pod listing vol\": 40441662.408727, \"pod order vol\": 9721821.697887, \"total bean vol\": 51967577.290761, \"total pod vol\": 50163484.106614}, {\"timestamp\": \"2022-09-16T00:00:11\", \"season\": 7065, \"variable\": \"pod listing vol\", \"value\": 40441662.408727, \"pod listing vol\": 40441662.408727, \"pod order vol\": 9721821.697887, \"total bean vol\": 51967577.290761, \"total pod vol\": 50163484.106614}, {\"timestamp\": \"2022-09-16T00:00:11\", \"season\": 7065, \"variable\": \"pod order vol\", \"value\": 9721821.697887, \"pod listing vol\": 40441662.408727, \"pod order vol\": 9721821.697887, \"total bean vol\": 51967577.290761, \"total pod vol\": 50163484.106614}, {\"timestamp\": \"2022-09-16T00:00:11\", \"season\": 7065, \"variable\": \"total bean vol\", \"value\": 51967577.290761, \"pod listing vol\": 40441662.408727, \"pod order vol\": 9721821.697887, \"total bean vol\": 51967577.290761, \"total pod vol\": 50163484.106614}, {\"timestamp\": \"2022-09-17T00:00:11\", \"season\": 7089, \"variable\": \"total pod vol\", \"value\": 50190947.011928, \"pod listing vol\": 40442560.079111, \"pod order vol\": 9748386.932817, \"total bean vol\": 52023905.190846, \"total pod vol\": 50190947.011928}, {\"timestamp\": \"2022-09-17T00:00:11\", \"season\": 7089, \"variable\": \"total bean vol\", \"value\": 52023905.190846, \"pod listing vol\": 40442560.079111, \"pod order vol\": 9748386.932817, \"total bean vol\": 52023905.190846, \"total pod vol\": 50190947.011928}, {\"timestamp\": \"2022-09-17T00:00:11\", \"season\": 7089, \"variable\": \"pod listing vol\", \"value\": 40442560.079111, \"pod listing vol\": 40442560.079111, \"pod order vol\": 9748386.932817, \"total bean vol\": 52023905.190846, \"total pod vol\": 50190947.011928}, {\"timestamp\": \"2022-09-17T00:00:11\", \"season\": 7089, \"variable\": \"pod order vol\", \"value\": 9748386.932817, \"pod listing vol\": 40442560.079111, \"pod order vol\": 9748386.932817, \"total bean vol\": 52023905.190846, \"total pod vol\": 50190947.011928}, {\"timestamp\": \"2022-09-18T00:00:11\", \"season\": 7113, \"variable\": \"pod listing vol\", \"value\": 40482566.0192, \"pod listing vol\": 40482566.0192, \"pod order vol\": 9753826.932817, \"total bean vol\": 52142793.700502, \"total pod vol\": 50236392.952017}, {\"timestamp\": \"2022-09-18T00:00:11\", \"season\": 7113, \"variable\": \"pod order vol\", \"value\": 9753826.932817, \"pod listing vol\": 40482566.0192, \"pod order vol\": 9753826.932817, \"total bean vol\": 52142793.700502, \"total pod vol\": 50236392.952017}, {\"timestamp\": \"2022-09-18T00:00:11\", \"season\": 7113, \"variable\": \"total bean vol\", \"value\": 52142793.700502, \"pod listing vol\": 40482566.0192, \"pod order vol\": 9753826.932817, \"total bean vol\": 52142793.700502, \"total pod vol\": 50236392.952017}, {\"timestamp\": \"2022-09-18T00:00:11\", \"season\": 7113, \"variable\": \"total pod vol\", \"value\": 50236392.952017, \"pod listing vol\": 40482566.0192, \"pod order vol\": 9753826.932817, \"total bean vol\": 52142793.700502, \"total pod vol\": 50236392.952017}, {\"timestamp\": \"2022-09-19T00:00:11\", \"season\": 7137, \"variable\": \"total bean vol\", \"value\": 52379501.566186, \"pod listing vol\": 40490999.478786, \"pod order vol\": 9928022.320933, \"total bean vol\": 52379501.566186, \"total pod vol\": 50419021.799719}, {\"timestamp\": \"2022-09-19T00:00:11\", \"season\": 7137, \"variable\": \"pod listing vol\", \"value\": 40490999.478786, \"pod listing vol\": 40490999.478786, \"pod order vol\": 9928022.320933, \"total bean vol\": 52379501.566186, \"total pod vol\": 50419021.799719}, {\"timestamp\": \"2022-09-19T00:00:11\", \"season\": 7137, \"variable\": \"pod order vol\", \"value\": 9928022.320933, \"pod listing vol\": 40490999.478786, \"pod order vol\": 9928022.320933, \"total bean vol\": 52379501.566186, \"total pod vol\": 50419021.799719}, {\"timestamp\": \"2022-09-19T00:00:11\", \"season\": 7137, \"variable\": \"total pod vol\", \"value\": 50419021.799719, \"pod listing vol\": 40490999.478786, \"pod order vol\": 9928022.320933, \"total bean vol\": 52379501.566186, \"total pod vol\": 50419021.799719}, {\"timestamp\": \"2022-09-20T00:00:11\", \"season\": 7161, \"variable\": \"total pod vol\", \"value\": 50438871.510526, \"pod listing vol\": 40510849.189593, \"pod order vol\": 9928022.320933, \"total bean vol\": 52531800.550728, \"total pod vol\": 50438871.510526}, {\"timestamp\": \"2022-09-20T00:00:11\", \"season\": 7161, \"variable\": \"total bean vol\", \"value\": 52531800.550728, \"pod listing vol\": 40510849.189593, \"pod order vol\": 9928022.320933, \"total bean vol\": 52531800.550728, \"total pod vol\": 50438871.510526}, {\"timestamp\": \"2022-09-20T00:00:11\", \"season\": 7161, \"variable\": \"pod order vol\", \"value\": 9928022.320933, \"pod listing vol\": 40510849.189593, \"pod order vol\": 9928022.320933, \"total bean vol\": 52531800.550728, \"total pod vol\": 50438871.510526}, {\"timestamp\": \"2022-09-20T00:00:11\", \"season\": 7161, \"variable\": \"pod listing vol\", \"value\": 40510849.189593, \"pod listing vol\": 40510849.189593, \"pod order vol\": 9928022.320933, \"total bean vol\": 52531800.550728, \"total pod vol\": 50438871.510526}, {\"timestamp\": \"2022-09-21T00:00:23\", \"season\": 7185, \"variable\": \"pod listing vol\", \"value\": 40639058.536478, \"pod listing vol\": 40639058.536478, \"pod order vol\": 9928022.320933, \"total bean vol\": 52836971.46289, \"total pod vol\": 50567080.857411}, {\"timestamp\": \"2022-09-21T00:00:23\", \"season\": 7185, \"variable\": \"pod order vol\", \"value\": 9928022.320933, \"pod listing vol\": 40639058.536478, \"pod order vol\": 9928022.320933, \"total bean vol\": 52836971.46289, \"total pod vol\": 50567080.857411}, {\"timestamp\": \"2022-09-21T00:00:23\", \"season\": 7185, \"variable\": \"total bean vol\", \"value\": 52836971.46289, \"pod listing vol\": 40639058.536478, \"pod order vol\": 9928022.320933, \"total bean vol\": 52836971.46289, \"total pod vol\": 50567080.857411}, {\"timestamp\": \"2022-09-21T00:00:23\", \"season\": 7185, \"variable\": \"total pod vol\", \"value\": 50567080.857411, \"pod listing vol\": 40639058.536478, \"pod order vol\": 9928022.320933, \"total bean vol\": 52836971.46289, \"total pod vol\": 50567080.857411}, {\"timestamp\": \"2022-09-22T00:00:23\", \"season\": 7209, \"variable\": \"pod listing vol\", \"value\": 40716755.214498, \"pod listing vol\": 40716755.214498, \"pod order vol\": 9951590.205773, \"total bean vol\": 52963738.503166, \"total pod vol\": 50668345.420271}, {\"timestamp\": \"2022-09-22T00:00:23\", \"season\": 7209, \"variable\": \"pod order vol\", \"value\": 9951590.205773, \"pod listing vol\": 40716755.214498, \"pod order vol\": 9951590.205773, \"total bean vol\": 52963738.503166, \"total pod vol\": 50668345.420271}, {\"timestamp\": \"2022-09-22T00:00:23\", \"season\": 7209, \"variable\": \"total bean vol\", \"value\": 52963738.503166, \"pod listing vol\": 40716755.214498, \"pod order vol\": 9951590.205773, \"total bean vol\": 52963738.503166, \"total pod vol\": 50668345.420271}, {\"timestamp\": \"2022-09-22T00:00:23\", \"season\": 7209, \"variable\": \"total pod vol\", \"value\": 50668345.420271, \"pod listing vol\": 40716755.214498, \"pod order vol\": 9951590.205773, \"total bean vol\": 52963738.503166, \"total pod vol\": 50668345.420271}, {\"timestamp\": \"2022-09-23T00:00:11\", \"season\": 7233, \"variable\": \"total bean vol\", \"value\": 53579248.081874, \"pod listing vol\": 40716755.214498, \"pod order vol\": 10020820.975003, \"total bean vol\": 53579248.081874, \"total pod vol\": 50737576.189501}, {\"timestamp\": \"2022-09-23T00:00:11\", \"season\": 7233, \"variable\": \"total pod vol\", \"value\": 50737576.189501, \"pod listing vol\": 40716755.214498, \"pod order vol\": 10020820.975003, \"total bean vol\": 53579248.081874, \"total pod vol\": 50737576.189501}, {\"timestamp\": \"2022-09-23T00:00:11\", \"season\": 7233, \"variable\": \"pod listing vol\", \"value\": 40716755.214498, \"pod listing vol\": 40716755.214498, \"pod order vol\": 10020820.975003, \"total bean vol\": 53579248.081874, \"total pod vol\": 50737576.189501}, {\"timestamp\": \"2022-09-23T00:00:11\", \"season\": 7233, \"variable\": \"pod order vol\", \"value\": 10020820.975003, \"pod listing vol\": 40716755.214498, \"pod order vol\": 10020820.975003, \"total bean vol\": 53579248.081874, \"total pod vol\": 50737576.189501}, {\"timestamp\": \"2022-09-24T00:00:11\", \"season\": 7257, \"variable\": \"pod listing vol\", \"value\": 40716755.214498, \"pod listing vol\": 40716755.214498, \"pod order vol\": 10020820.975003, \"total bean vol\": 53693526.765179, \"total pod vol\": 50737576.189501}, {\"timestamp\": \"2022-09-24T00:00:11\", \"season\": 7257, \"variable\": \"pod order vol\", \"value\": 10020820.975003, \"pod listing vol\": 40716755.214498, \"pod order vol\": 10020820.975003, \"total bean vol\": 53693526.765179, \"total pod vol\": 50737576.189501}, {\"timestamp\": \"2022-09-24T00:00:11\", \"season\": 7257, \"variable\": \"total bean vol\", \"value\": 53693526.765179, \"pod listing vol\": 40716755.214498, \"pod order vol\": 10020820.975003, \"total bean vol\": 53693526.765179, \"total pod vol\": 50737576.189501}, {\"timestamp\": \"2022-09-24T00:00:11\", \"season\": 7257, \"variable\": \"total pod vol\", \"value\": 50737576.189501, \"pod listing vol\": 40716755.214498, \"pod order vol\": 10020820.975003, \"total bean vol\": 53693526.765179, \"total pod vol\": 50737576.189501}, {\"timestamp\": \"2022-09-25T00:00:11\", \"season\": 7281, \"variable\": \"pod listing vol\", \"value\": 40716755.214498, \"pod listing vol\": 40716755.214498, \"pod order vol\": 10020820.975003, \"total bean vol\": 53701063.230031, \"total pod vol\": 50737576.189501}, {\"timestamp\": \"2022-09-25T00:00:11\", \"season\": 7281, \"variable\": \"pod order vol\", \"value\": 10020820.975003, \"pod listing vol\": 40716755.214498, \"pod order vol\": 10020820.975003, \"total bean vol\": 53701063.230031, \"total pod vol\": 50737576.189501}, {\"timestamp\": \"2022-09-25T00:00:11\", \"season\": 7281, \"variable\": \"total bean vol\", \"value\": 53701063.230031, \"pod listing vol\": 40716755.214498, \"pod order vol\": 10020820.975003, \"total bean vol\": 53701063.230031, \"total pod vol\": 50737576.189501}, {\"timestamp\": \"2022-09-25T00:00:11\", \"season\": 7281, \"variable\": \"total pod vol\", \"value\": 50737576.189501, \"pod listing vol\": 40716755.214498, \"pod order vol\": 10020820.975003, \"total bean vol\": 53701063.230031, \"total pod vol\": 50737576.189501}, {\"timestamp\": \"2022-09-26T00:00:11\", \"season\": 7305, \"variable\": \"total pod vol\", \"value\": 50801576.189501, \"pod listing vol\": 40716755.214498, \"pod order vol\": 10084820.975003, \"total bean vol\": 53707463.230031, \"total pod vol\": 50801576.189501}, {\"timestamp\": \"2022-09-26T00:00:11\", \"season\": 7305, \"variable\": \"pod listing vol\", \"value\": 40716755.214498, \"pod listing vol\": 40716755.214498, \"pod order vol\": 10084820.975003, \"total bean vol\": 53707463.230031, \"total pod vol\": 50801576.189501}, {\"timestamp\": \"2022-09-26T00:00:11\", \"season\": 7305, \"variable\": \"pod order vol\", \"value\": 10084820.975003, \"pod listing vol\": 40716755.214498, \"pod order vol\": 10084820.975003, \"total bean vol\": 53707463.230031, \"total pod vol\": 50801576.189501}, {\"timestamp\": \"2022-09-26T00:00:11\", \"season\": 7305, \"variable\": \"total bean vol\", \"value\": 53707463.230031, \"pod listing vol\": 40716755.214498, \"pod order vol\": 10084820.975003, \"total bean vol\": 53707463.230031, \"total pod vol\": 50801576.189501}, {\"timestamp\": \"2022-09-27T00:00:11\", \"season\": 7329, \"variable\": \"total bean vol\", \"value\": 53885003.047982, \"pod listing vol\": 40716755.214498, \"pod order vol\": 10367979.234822, \"total bean vol\": 53885003.047982, \"total pod vol\": 51084734.44932}, {\"timestamp\": \"2022-09-27T00:00:11\", \"season\": 7329, \"variable\": \"total pod vol\", \"value\": 51084734.44932, \"pod listing vol\": 40716755.214498, \"pod order vol\": 10367979.234822, \"total bean vol\": 53885003.047982, \"total pod vol\": 51084734.44932}, {\"timestamp\": \"2022-09-27T00:00:11\", \"season\": 7329, \"variable\": \"pod listing vol\", \"value\": 40716755.214498, \"pod listing vol\": 40716755.214498, \"pod order vol\": 10367979.234822, \"total bean vol\": 53885003.047982, \"total pod vol\": 51084734.44932}, {\"timestamp\": \"2022-09-27T00:00:11\", \"season\": 7329, \"variable\": \"pod order vol\", \"value\": 10367979.234822, \"pod listing vol\": 40716755.214498, \"pod order vol\": 10367979.234822, \"total bean vol\": 53885003.047982, \"total pod vol\": 51084734.44932}, {\"timestamp\": \"2022-09-28T00:00:11\", \"season\": 7353, \"variable\": \"pod order vol\", \"value\": 10367979.234822, \"pod listing vol\": 40809235.277422, \"pod order vol\": 10367979.234822, \"total bean vol\": 54115481.824028, \"total pod vol\": 51177214.512244}, {\"timestamp\": \"2022-09-28T00:00:11\", \"season\": 7353, \"variable\": \"total bean vol\", \"value\": 54115481.824028, \"pod listing vol\": 40809235.277422, \"pod order vol\": 10367979.234822, \"total bean vol\": 54115481.824028, \"total pod vol\": 51177214.512244}, {\"timestamp\": \"2022-09-28T00:00:11\", \"season\": 7353, \"variable\": \"pod listing vol\", \"value\": 40809235.277422, \"pod listing vol\": 40809235.277422, \"pod order vol\": 10367979.234822, \"total bean vol\": 54115481.824028, \"total pod vol\": 51177214.512244}, {\"timestamp\": \"2022-09-28T00:00:11\", \"season\": 7353, \"variable\": \"total pod vol\", \"value\": 51177214.512244, \"pod listing vol\": 40809235.277422, \"pod order vol\": 10367979.234822, \"total bean vol\": 54115481.824028, \"total pod vol\": 51177214.512244}, {\"timestamp\": \"2022-09-29T00:00:11\", \"season\": 7377, \"variable\": \"total pod vol\", \"value\": 51184786.786458, \"pod listing vol\": 40814235.277422, \"pod order vol\": 10370551.509036, \"total bean vol\": 54229979.799389, \"total pod vol\": 51184786.786458}, {\"timestamp\": \"2022-09-29T00:00:11\", \"season\": 7377, \"variable\": \"total bean vol\", \"value\": 54229979.799389, \"pod listing vol\": 40814235.277422, \"pod order vol\": 10370551.509036, \"total bean vol\": 54229979.799389, \"total pod vol\": 51184786.786458}, {\"timestamp\": \"2022-09-29T00:00:11\", \"season\": 7377, \"variable\": \"pod order vol\", \"value\": 10370551.509036, \"pod listing vol\": 40814235.277422, \"pod order vol\": 10370551.509036, \"total bean vol\": 54229979.799389, \"total pod vol\": 51184786.786458}, {\"timestamp\": \"2022-09-29T00:00:11\", \"season\": 7377, \"variable\": \"pod listing vol\", \"value\": 40814235.277422, \"pod listing vol\": 40814235.277422, \"pod order vol\": 10370551.509036, \"total bean vol\": 54229979.799389, \"total pod vol\": 51184786.786458}, {\"timestamp\": \"2022-09-30T00:00:11\", \"season\": 7401, \"variable\": \"pod listing vol\", \"value\": 40875328.12773, \"pod listing vol\": 40875328.12773, \"pod order vol\": 10370551.509036, \"total bean vol\": 54231201.656395, \"total pod vol\": 51245879.636766}, {\"timestamp\": \"2022-09-30T00:00:11\", \"season\": 7401, \"variable\": \"pod order vol\", \"value\": 10370551.509036, \"pod listing vol\": 40875328.12773, \"pod order vol\": 10370551.509036, \"total bean vol\": 54231201.656395, \"total pod vol\": 51245879.636766}, {\"timestamp\": \"2022-09-30T00:00:11\", \"season\": 7401, \"variable\": \"total bean vol\", \"value\": 54231201.656395, \"pod listing vol\": 40875328.12773, \"pod order vol\": 10370551.509036, \"total bean vol\": 54231201.656395, \"total pod vol\": 51245879.636766}, {\"timestamp\": \"2022-09-30T00:00:11\", \"season\": 7401, \"variable\": \"total pod vol\", \"value\": 51245879.636766, \"pod listing vol\": 40875328.12773, \"pod order vol\": 10370551.509036, \"total bean vol\": 54231201.656395, \"total pod vol\": 51245879.636766}, {\"timestamp\": \"2022-10-01T00:00:11\", \"season\": 7425, \"variable\": \"pod listing vol\", \"value\": 40875328.12773, \"pod listing vol\": 40875328.12773, \"pod order vol\": 10370551.509036, \"total bean vol\": 54231201.656395, \"total pod vol\": 51245879.636766}, {\"timestamp\": \"2022-10-01T00:00:11\", \"season\": 7425, \"variable\": \"pod order vol\", \"value\": 10370551.509036, \"pod listing vol\": 40875328.12773, \"pod order vol\": 10370551.509036, \"total bean vol\": 54231201.656395, \"total pod vol\": 51245879.636766}, {\"timestamp\": \"2022-10-01T00:00:11\", \"season\": 7425, \"variable\": \"total bean vol\", \"value\": 54231201.656395, \"pod listing vol\": 40875328.12773, \"pod order vol\": 10370551.509036, \"total bean vol\": 54231201.656395, \"total pod vol\": 51245879.636766}, {\"timestamp\": \"2022-10-01T00:00:11\", \"season\": 7425, \"variable\": \"total pod vol\", \"value\": 51245879.636766, \"pod listing vol\": 40875328.12773, \"pod order vol\": 10370551.509036, \"total bean vol\": 54231201.656395, \"total pod vol\": 51245879.636766}, {\"timestamp\": \"2022-10-02T00:00:11\", \"season\": 7449, \"variable\": \"pod listing vol\", \"value\": 40875328.12773, \"pod listing vol\": 40875328.12773, \"pod order vol\": 10401818.891059, \"total bean vol\": 54263341.359559, \"total pod vol\": 51277147.018789}, {\"timestamp\": \"2022-10-02T00:00:11\", \"season\": 7449, \"variable\": \"pod order vol\", \"value\": 10401818.891059, \"pod listing vol\": 40875328.12773, \"pod order vol\": 10401818.891059, \"total bean vol\": 54263341.359559, \"total pod vol\": 51277147.018789}, {\"timestamp\": \"2022-10-02T00:00:11\", \"season\": 7449, \"variable\": \"total bean vol\", \"value\": 54263341.359559, \"pod listing vol\": 40875328.12773, \"pod order vol\": 10401818.891059, \"total bean vol\": 54263341.359559, \"total pod vol\": 51277147.018789}, {\"timestamp\": \"2022-10-02T00:00:11\", \"season\": 7449, \"variable\": \"total pod vol\", \"value\": 51277147.018789, \"pod listing vol\": 40875328.12773, \"pod order vol\": 10401818.891059, \"total bean vol\": 54263341.359559, \"total pod vol\": 51277147.018789}, {\"timestamp\": \"2022-10-03T00:00:11\", \"season\": 7473, \"variable\": \"total pod vol\", \"value\": 51309815.746614, \"pod listing vol\": 40875328.12773, \"pod order vol\": 10434487.618884, \"total bean vol\": 54301194.000435, \"total pod vol\": 51309815.746614}, {\"timestamp\": \"2022-10-03T00:00:11\", \"season\": 7473, \"variable\": \"total bean vol\", \"value\": 54301194.000435, \"pod listing vol\": 40875328.12773, \"pod order vol\": 10434487.618884, \"total bean vol\": 54301194.000435, \"total pod vol\": 51309815.746614}, {\"timestamp\": \"2022-10-03T00:00:11\", \"season\": 7473, \"variable\": \"pod order vol\", \"value\": 10434487.618884, \"pod listing vol\": 40875328.12773, \"pod order vol\": 10434487.618884, \"total bean vol\": 54301194.000435, \"total pod vol\": 51309815.746614}, {\"timestamp\": \"2022-10-03T00:00:11\", \"season\": 7473, \"variable\": \"pod listing vol\", \"value\": 40875328.12773, \"pod listing vol\": 40875328.12773, \"pod order vol\": 10434487.618884, \"total bean vol\": 54301194.000435, \"total pod vol\": 51309815.746614}, {\"timestamp\": \"2022-10-04T00:00:11\", \"season\": 7497, \"variable\": \"pod listing vol\", \"value\": 40875328.12773, \"pod listing vol\": 40875328.12773, \"pod order vol\": 10434487.618884, \"total bean vol\": 54363150.652299, \"total pod vol\": 51309815.746614}, {\"timestamp\": \"2022-10-04T00:00:11\", \"season\": 7497, \"variable\": \"pod order vol\", \"value\": 10434487.618884, \"pod listing vol\": 40875328.12773, \"pod order vol\": 10434487.618884, \"total bean vol\": 54363150.652299, \"total pod vol\": 51309815.746614}, {\"timestamp\": \"2022-10-04T00:00:11\", \"season\": 7497, \"variable\": \"total bean vol\", \"value\": 54363150.652299, \"pod listing vol\": 40875328.12773, \"pod order vol\": 10434487.618884, \"total bean vol\": 54363150.652299, \"total pod vol\": 51309815.746614}, {\"timestamp\": \"2022-10-04T00:00:11\", \"season\": 7497, \"variable\": \"total pod vol\", \"value\": 51309815.746614, \"pod listing vol\": 40875328.12773, \"pod order vol\": 10434487.618884, \"total bean vol\": 54363150.652299, \"total pod vol\": 51309815.746614}, {\"timestamp\": \"2022-10-05T00:00:11\", \"season\": 7521, \"variable\": \"pod listing vol\", \"value\": 40946742.413442, \"pod listing vol\": 40946742.413442, \"pod order vol\": 10448923.90654, \"total bean vol\": 54368440.125344, \"total pod vol\": 51395666.319982}, {\"timestamp\": \"2022-10-05T00:00:11\", \"season\": 7521, \"variable\": \"pod order vol\", \"value\": 10448923.90654, \"pod listing vol\": 40946742.413442, \"pod order vol\": 10448923.90654, \"total bean vol\": 54368440.125344, \"total pod vol\": 51395666.319982}, {\"timestamp\": \"2022-10-05T00:00:11\", \"season\": 7521, \"variable\": \"total bean vol\", \"value\": 54368440.125344, \"pod listing vol\": 40946742.413442, \"pod order vol\": 10448923.90654, \"total bean vol\": 54368440.125344, \"total pod vol\": 51395666.319982}, {\"timestamp\": \"2022-10-05T00:00:11\", \"season\": 7521, \"variable\": \"total pod vol\", \"value\": 51395666.319982, \"pod listing vol\": 40946742.413442, \"pod order vol\": 10448923.90654, \"total bean vol\": 54368440.125344, \"total pod vol\": 51395666.319982}, {\"timestamp\": \"2022-10-06T00:00:11\", \"season\": 7545, \"variable\": \"pod listing vol\", \"value\": 40946742.413442, \"pod listing vol\": 40946742.413442, \"pod order vol\": 10466174.700152, \"total bean vol\": 54390385.783638, \"total pod vol\": 51412917.113594}, {\"timestamp\": \"2022-10-06T00:00:11\", \"season\": 7545, \"variable\": \"pod order vol\", \"value\": 10466174.700152, \"pod listing vol\": 40946742.413442, \"pod order vol\": 10466174.700152, \"total bean vol\": 54390385.783638, \"total pod vol\": 51412917.113594}, {\"timestamp\": \"2022-10-06T00:00:11\", \"season\": 7545, \"variable\": \"total bean vol\", \"value\": 54390385.783638, \"pod listing vol\": 40946742.413442, \"pod order vol\": 10466174.700152, \"total bean vol\": 54390385.783638, \"total pod vol\": 51412917.113594}, {\"timestamp\": \"2022-10-06T00:00:11\", \"season\": 7545, \"variable\": \"total pod vol\", \"value\": 51412917.113594, \"pod listing vol\": 40946742.413442, \"pod order vol\": 10466174.700152, \"total bean vol\": 54390385.783638, \"total pod vol\": 51412917.113594}, {\"timestamp\": \"2022-10-07T00:00:11\", \"season\": 7569, \"variable\": \"total pod vol\", \"value\": 51527776.326293, \"pod listing vol\": 41021919.086459, \"pod order vol\": 10505857.239834, \"total bean vol\": 54694945.166016, \"total pod vol\": 51527776.326293}, {\"timestamp\": \"2022-10-07T00:00:11\", \"season\": 7569, \"variable\": \"total bean vol\", \"value\": 54694945.166016, \"pod listing vol\": 41021919.086459, \"pod order vol\": 10505857.239834, \"total bean vol\": 54694945.166016, \"total pod vol\": 51527776.326293}, {\"timestamp\": \"2022-10-07T00:00:11\", \"season\": 7569, \"variable\": \"pod listing vol\", \"value\": 41021919.086459, \"pod listing vol\": 41021919.086459, \"pod order vol\": 10505857.239834, \"total bean vol\": 54694945.166016, \"total pod vol\": 51527776.326293}, {\"timestamp\": \"2022-10-07T00:00:11\", \"season\": 7569, \"variable\": \"pod order vol\", \"value\": 10505857.239834, \"pod listing vol\": 41021919.086459, \"pod order vol\": 10505857.239834, \"total bean vol\": 54694945.166016, \"total pod vol\": 51527776.326293}, {\"timestamp\": \"2022-10-08T00:00:11\", \"season\": 7593, \"variable\": \"pod listing vol\", \"value\": 41021919.086459, \"pod listing vol\": 41021919.086459, \"pod order vol\": 10539294.900959, \"total bean vol\": 54712653.572151, \"total pod vol\": 51561213.987418}, {\"timestamp\": \"2022-10-08T00:00:11\", \"season\": 7593, \"variable\": \"pod order vol\", \"value\": 10539294.900959, \"pod listing vol\": 41021919.086459, \"pod order vol\": 10539294.900959, \"total bean vol\": 54712653.572151, \"total pod vol\": 51561213.987418}, {\"timestamp\": \"2022-10-08T00:00:11\", \"season\": 7593, \"variable\": \"total bean vol\", \"value\": 54712653.572151, \"pod listing vol\": 41021919.086459, \"pod order vol\": 10539294.900959, \"total bean vol\": 54712653.572151, \"total pod vol\": 51561213.987418}, {\"timestamp\": \"2022-10-08T00:00:11\", \"season\": 7593, \"variable\": \"total pod vol\", \"value\": 51561213.987418, \"pod listing vol\": 41021919.086459, \"pod order vol\": 10539294.900959, \"total bean vol\": 54712653.572151, \"total pod vol\": 51561213.987418}, {\"timestamp\": \"2022-10-09T00:00:11\", \"season\": 7617, \"variable\": \"pod listing vol\", \"value\": 41021919.086459, \"pod listing vol\": 41021919.086459, \"pod order vol\": 10539294.900959, \"total bean vol\": 54712653.572151, \"total pod vol\": 51561213.987418}, {\"timestamp\": \"2022-10-09T00:00:11\", \"season\": 7617, \"variable\": \"pod order vol\", \"value\": 10539294.900959, \"pod listing vol\": 41021919.086459, \"pod order vol\": 10539294.900959, \"total bean vol\": 54712653.572151, \"total pod vol\": 51561213.987418}, {\"timestamp\": \"2022-10-09T00:00:11\", \"season\": 7617, \"variable\": \"total bean vol\", \"value\": 54712653.572151, \"pod listing vol\": 41021919.086459, \"pod order vol\": 10539294.900959, \"total bean vol\": 54712653.572151, \"total pod vol\": 51561213.987418}, {\"timestamp\": \"2022-10-09T00:00:11\", \"season\": 7617, \"variable\": \"total pod vol\", \"value\": 51561213.987418, \"pod listing vol\": 41021919.086459, \"pod order vol\": 10539294.900959, \"total bean vol\": 54712653.572151, \"total pod vol\": 51561213.987418}, {\"timestamp\": \"2022-10-10T00:00:11\", \"season\": 7641, \"variable\": \"pod listing vol\", \"value\": 41023274.829932, \"pod listing vol\": 41023274.829932, \"pod order vol\": 10539294.900959, \"total bean vol\": 54715235.684659, \"total pod vol\": 51562569.730891}, {\"timestamp\": \"2022-10-10T00:00:11\", \"season\": 7641, \"variable\": \"pod order vol\", \"value\": 10539294.900959, \"pod listing vol\": 41023274.829932, \"pod order vol\": 10539294.900959, \"total bean vol\": 54715235.684659, \"total pod vol\": 51562569.730891}, {\"timestamp\": \"2022-10-10T00:00:11\", \"season\": 7641, \"variable\": \"total bean vol\", \"value\": 54715235.684659, \"pod listing vol\": 41023274.829932, \"pod order vol\": 10539294.900959, \"total bean vol\": 54715235.684659, \"total pod vol\": 51562569.730891}, {\"timestamp\": \"2022-10-10T00:00:11\", \"season\": 7641, \"variable\": \"total pod vol\", \"value\": 51562569.730891, \"pod listing vol\": 41023274.829932, \"pod order vol\": 10539294.900959, \"total bean vol\": 54715235.684659, \"total pod vol\": 51562569.730891}, {\"timestamp\": \"2022-10-11T00:00:11\", \"season\": 7665, \"variable\": \"pod order vol\", \"value\": 10693583.664071, \"pod listing vol\": 41040274.829932, \"pod order vol\": 10693583.664071, \"total bean vol\": 54792888.574895, \"total pod vol\": 51733858.494003}, {\"timestamp\": \"2022-10-11T00:00:11\", \"season\": 7665, \"variable\": \"total pod vol\", \"value\": 51733858.494003, \"pod listing vol\": 41040274.829932, \"pod order vol\": 10693583.664071, \"total bean vol\": 54792888.574895, \"total pod vol\": 51733858.494003}, {\"timestamp\": \"2022-10-11T00:00:11\", \"season\": 7665, \"variable\": \"pod listing vol\", \"value\": 41040274.829932, \"pod listing vol\": 41040274.829932, \"pod order vol\": 10693583.664071, \"total bean vol\": 54792888.574895, \"total pod vol\": 51733858.494003}, {\"timestamp\": \"2022-10-11T00:00:11\", \"season\": 7665, \"variable\": \"total bean vol\", \"value\": 54792888.574895, \"pod listing vol\": 41040274.829932, \"pod order vol\": 10693583.664071, \"total bean vol\": 54792888.574895, \"total pod vol\": 51733858.494003}, {\"timestamp\": \"2022-10-12T00:00:11\", \"season\": 7689, \"variable\": \"pod listing vol\", \"value\": 41043192.625139, \"pod listing vol\": 41043192.625139, \"pod order vol\": 10693775.513387, \"total bean vol\": 54795365.622802, \"total pod vol\": 51736968.138526}, {\"timestamp\": \"2022-10-12T00:00:11\", \"season\": 7689, \"variable\": \"pod order vol\", \"value\": 10693775.513387, \"pod listing vol\": 41043192.625139, \"pod order vol\": 10693775.513387, \"total bean vol\": 54795365.622802, \"total pod vol\": 51736968.138526}, {\"timestamp\": \"2022-10-12T00:00:11\", \"season\": 7689, \"variable\": \"total bean vol\", \"value\": 54795365.622802, \"pod listing vol\": 41043192.625139, \"pod order vol\": 10693775.513387, \"total bean vol\": 54795365.622802, \"total pod vol\": 51736968.138526}, {\"timestamp\": \"2022-10-12T00:00:11\", \"season\": 7689, \"variable\": \"total pod vol\", \"value\": 51736968.138526, \"pod listing vol\": 41043192.625139, \"pod order vol\": 10693775.513387, \"total bean vol\": 54795365.622802, \"total pod vol\": 51736968.138526}, {\"timestamp\": \"2022-10-13T00:00:11\", \"season\": 7713, \"variable\": \"pod listing vol\", \"value\": 41043192.625139, \"pod listing vol\": 41043192.625139, \"pod order vol\": 10693775.513387, \"total bean vol\": 54795365.622802, \"total pod vol\": 51736968.138526}, {\"timestamp\": \"2022-10-13T00:00:11\", \"season\": 7713, \"variable\": \"pod order vol\", \"value\": 10693775.513387, \"pod listing vol\": 41043192.625139, \"pod order vol\": 10693775.513387, \"total bean vol\": 54795365.622802, \"total pod vol\": 51736968.138526}, {\"timestamp\": \"2022-10-13T00:00:11\", \"season\": 7713, \"variable\": \"total bean vol\", \"value\": 54795365.622802, \"pod listing vol\": 41043192.625139, \"pod order vol\": 10693775.513387, \"total bean vol\": 54795365.622802, \"total pod vol\": 51736968.138526}, {\"timestamp\": \"2022-10-13T00:00:11\", \"season\": 7713, \"variable\": \"total pod vol\", \"value\": 51736968.138526, \"pod listing vol\": 41043192.625139, \"pod order vol\": 10693775.513387, \"total bean vol\": 54795365.622802, \"total pod vol\": 51736968.138526}, {\"timestamp\": \"2022-10-14T00:00:11\", \"season\": 7737, \"variable\": \"total bean vol\", \"value\": 54828569.464273, \"pod listing vol\": 41043192.625139, \"pod order vol\": 10726200.856299, \"total bean vol\": 54828569.464273, \"total pod vol\": 51769393.481438}, {\"timestamp\": \"2022-10-14T00:00:11\", \"season\": 7737, \"variable\": \"pod listing vol\", \"value\": 41043192.625139, \"pod listing vol\": 41043192.625139, \"pod order vol\": 10726200.856299, \"total bean vol\": 54828569.464273, \"total pod vol\": 51769393.481438}, {\"timestamp\": \"2022-10-14T00:00:11\", \"season\": 7737, \"variable\": \"pod order vol\", \"value\": 10726200.856299, \"pod listing vol\": 41043192.625139, \"pod order vol\": 10726200.856299, \"total bean vol\": 54828569.464273, \"total pod vol\": 51769393.481438}, {\"timestamp\": \"2022-10-14T00:00:11\", \"season\": 7737, \"variable\": \"total pod vol\", \"value\": 51769393.481438, \"pod listing vol\": 41043192.625139, \"pod order vol\": 10726200.856299, \"total bean vol\": 54828569.464273, \"total pod vol\": 51769393.481438}, {\"timestamp\": \"2022-10-15T00:00:11\", \"season\": 7761, \"variable\": \"total pod vol\", \"value\": 51769393.481438, \"pod listing vol\": 41043192.625139, \"pod order vol\": 10726200.856299, \"total bean vol\": 54837711.771965, \"total pod vol\": 51769393.481438}, {\"timestamp\": \"2022-10-15T00:00:11\", \"season\": 7761, \"variable\": \"total bean vol\", \"value\": 54837711.771965, \"pod listing vol\": 41043192.625139, \"pod order vol\": 10726200.856299, \"total bean vol\": 54837711.771965, \"total pod vol\": 51769393.481438}, {\"timestamp\": \"2022-10-15T00:00:11\", \"season\": 7761, \"variable\": \"pod order vol\", \"value\": 10726200.856299, \"pod listing vol\": 41043192.625139, \"pod order vol\": 10726200.856299, \"total bean vol\": 54837711.771965, \"total pod vol\": 51769393.481438}, {\"timestamp\": \"2022-10-15T00:00:11\", \"season\": 7761, \"variable\": \"pod listing vol\", \"value\": 41043192.625139, \"pod listing vol\": 41043192.625139, \"pod order vol\": 10726200.856299, \"total bean vol\": 54837711.771965, \"total pod vol\": 51769393.481438}, {\"timestamp\": \"2022-10-16T00:00:11\", \"season\": 7785, \"variable\": \"pod listing vol\", \"value\": 41043192.625139, \"pod listing vol\": 41043192.625139, \"pod order vol\": 10726200.856299, \"total bean vol\": 54837711.771965, \"total pod vol\": 51769393.481438}, {\"timestamp\": \"2022-10-16T00:00:11\", \"season\": 7785, \"variable\": \"pod order vol\", \"value\": 10726200.856299, \"pod listing vol\": 41043192.625139, \"pod order vol\": 10726200.856299, \"total bean vol\": 54837711.771965, \"total pod vol\": 51769393.481438}, {\"timestamp\": \"2022-10-16T00:00:11\", \"season\": 7785, \"variable\": \"total bean vol\", \"value\": 54837711.771965, \"pod listing vol\": 41043192.625139, \"pod order vol\": 10726200.856299, \"total bean vol\": 54837711.771965, \"total pod vol\": 51769393.481438}, {\"timestamp\": \"2022-10-16T00:00:11\", \"season\": 7785, \"variable\": \"total pod vol\", \"value\": 51769393.481438, \"pod listing vol\": 41043192.625139, \"pod order vol\": 10726200.856299, \"total bean vol\": 54837711.771965, \"total pod vol\": 51769393.481438}, {\"timestamp\": \"2022-10-17T00:00:11\", \"season\": 7809, \"variable\": \"pod listing vol\", \"value\": 41043192.625139, \"pod listing vol\": 41043192.625139, \"pod order vol\": 10826200.856299, \"total bean vol\": 54878921.709427, \"total pod vol\": 51869393.481438}, {\"timestamp\": \"2022-10-17T00:00:11\", \"season\": 7809, \"variable\": \"pod order vol\", \"value\": 10826200.856299, \"pod listing vol\": 41043192.625139, \"pod order vol\": 10826200.856299, \"total bean vol\": 54878921.709427, \"total pod vol\": 51869393.481438}, {\"timestamp\": \"2022-10-17T00:00:11\", \"season\": 7809, \"variable\": \"total bean vol\", \"value\": 54878921.709427, \"pod listing vol\": 41043192.625139, \"pod order vol\": 10826200.856299, \"total bean vol\": 54878921.709427, \"total pod vol\": 51869393.481438}, {\"timestamp\": \"2022-10-17T00:00:11\", \"season\": 7809, \"variable\": \"total pod vol\", \"value\": 51869393.481438, \"pod listing vol\": 41043192.625139, \"pod order vol\": 10826200.856299, \"total bean vol\": 54878921.709427, \"total pod vol\": 51869393.481438}, {\"timestamp\": \"2022-10-18T00:00:11\", \"season\": 7833, \"variable\": \"pod listing vol\", \"value\": 41113895.562007, \"pod listing vol\": 41113895.562007, \"pod order vol\": 10826200.856299, \"total bean vol\": 54892842.795797, \"total pod vol\": 51940096.418306}, {\"timestamp\": \"2022-10-18T00:00:11\", \"season\": 7833, \"variable\": \"pod order vol\", \"value\": 10826200.856299, \"pod listing vol\": 41113895.562007, \"pod order vol\": 10826200.856299, \"total bean vol\": 54892842.795797, \"total pod vol\": 51940096.418306}, {\"timestamp\": \"2022-10-18T00:00:11\", \"season\": 7833, \"variable\": \"total bean vol\", \"value\": 54892842.795797, \"pod listing vol\": 41113895.562007, \"pod order vol\": 10826200.856299, \"total bean vol\": 54892842.795797, \"total pod vol\": 51940096.418306}, {\"timestamp\": \"2022-10-18T00:00:11\", \"season\": 7833, \"variable\": \"total pod vol\", \"value\": 51940096.418306, \"pod listing vol\": 41113895.562007, \"pod order vol\": 10826200.856299, \"total bean vol\": 54892842.795797, \"total pod vol\": 51940096.418306}, {\"timestamp\": \"2022-10-19T00:00:11\", \"season\": 7857, \"variable\": \"total pod vol\", \"value\": 52078946.742955, \"pod listing vol\": 41252745.886656, \"pod order vol\": 10826200.856299, \"total bean vol\": 54935371.228161, \"total pod vol\": 52078946.742955}, {\"timestamp\": \"2022-10-19T00:00:11\", \"season\": 7857, \"variable\": \"total bean vol\", \"value\": 54935371.228161, \"pod listing vol\": 41252745.886656, \"pod order vol\": 10826200.856299, \"total bean vol\": 54935371.228161, \"total pod vol\": 52078946.742955}, {\"timestamp\": \"2022-10-19T00:00:11\", \"season\": 7857, \"variable\": \"pod listing vol\", \"value\": 41252745.886656, \"pod listing vol\": 41252745.886656, \"pod order vol\": 10826200.856299, \"total bean vol\": 54935371.228161, \"total pod vol\": 52078946.742955}, {\"timestamp\": \"2022-10-19T00:00:11\", \"season\": 7857, \"variable\": \"pod order vol\", \"value\": 10826200.856299, \"pod listing vol\": 41252745.886656, \"pod order vol\": 10826200.856299, \"total bean vol\": 54935371.228161, \"total pod vol\": 52078946.742955}, {\"timestamp\": \"2022-10-20T00:00:11\", \"season\": 7881, \"variable\": \"pod listing vol\", \"value\": 41388317.402165, \"pod listing vol\": 41388317.402165, \"pod order vol\": 10878734.208348, \"total bean vol\": 55077515.020264, \"total pod vol\": 52267051.610513}, {\"timestamp\": \"2022-10-20T00:00:11\", \"season\": 7881, \"variable\": \"pod order vol\", \"value\": 10878734.208348, \"pod listing vol\": 41388317.402165, \"pod order vol\": 10878734.208348, \"total bean vol\": 55077515.020264, \"total pod vol\": 52267051.610513}, {\"timestamp\": \"2022-10-20T00:00:11\", \"season\": 7881, \"variable\": \"total bean vol\", \"value\": 55077515.020264, \"pod listing vol\": 41388317.402165, \"pod order vol\": 10878734.208348, \"total bean vol\": 55077515.020264, \"total pod vol\": 52267051.610513}, {\"timestamp\": \"2022-10-20T00:00:11\", \"season\": 7881, \"variable\": \"total pod vol\", \"value\": 52267051.610513, \"pod listing vol\": 41388317.402165, \"pod order vol\": 10878734.208348, \"total bean vol\": 55077515.020264, \"total pod vol\": 52267051.610513}, {\"timestamp\": \"2022-10-21T00:00:11\", \"season\": 7905, \"variable\": \"pod listing vol\", \"value\": 41390317.404778, \"pod listing vol\": 41390317.404778, \"pod order vol\": 11020726.905967, \"total bean vol\": 55082536.867304, \"total pod vol\": 52411044.310745}, {\"timestamp\": \"2022-10-21T00:00:11\", \"season\": 7905, \"variable\": \"pod order vol\", \"value\": 11020726.905967, \"pod listing vol\": 41390317.404778, \"pod order vol\": 11020726.905967, \"total bean vol\": 55082536.867304, \"total pod vol\": 52411044.310745}, {\"timestamp\": \"2022-10-21T00:00:11\", \"season\": 7905, \"variable\": \"total bean vol\", \"value\": 55082536.867304, \"pod listing vol\": 41390317.404778, \"pod order vol\": 11020726.905967, \"total bean vol\": 55082536.867304, \"total pod vol\": 52411044.310745}, {\"timestamp\": \"2022-10-21T00:00:11\", \"season\": 7905, \"variable\": \"total pod vol\", \"value\": 52411044.310745, \"pod listing vol\": 41390317.404778, \"pod order vol\": 11020726.905967, \"total bean vol\": 55082536.867304, \"total pod vol\": 52411044.310745}, {\"timestamp\": \"2022-10-22T00:00:11\", \"season\": 7929, \"variable\": \"pod listing vol\", \"value\": 41460043.789778, \"pod listing vol\": 41460043.789778, \"pod order vol\": 11020726.905967, \"total bean vol\": 55084210.300544, \"total pod vol\": 52480770.695745}, {\"timestamp\": \"2022-10-22T00:00:11\", \"season\": 7929, \"variable\": \"pod order vol\", \"value\": 11020726.905967, \"pod listing vol\": 41460043.789778, \"pod order vol\": 11020726.905967, \"total bean vol\": 55084210.300544, \"total pod vol\": 52480770.695745}, {\"timestamp\": \"2022-10-22T00:00:11\", \"season\": 7929, \"variable\": \"total bean vol\", \"value\": 55084210.300544, \"pod listing vol\": 41460043.789778, \"pod order vol\": 11020726.905967, \"total bean vol\": 55084210.300544, \"total pod vol\": 52480770.695745}, {\"timestamp\": \"2022-10-22T00:00:11\", \"season\": 7929, \"variable\": \"total pod vol\", \"value\": 52480770.695745, \"pod listing vol\": 41460043.789778, \"pod order vol\": 11020726.905967, \"total bean vol\": 55084210.300544, \"total pod vol\": 52480770.695745}, {\"timestamp\": \"2022-10-23T00:00:11\", \"season\": 7953, \"variable\": \"total pod vol\", \"value\": 52485972.887805, \"pod listing vol\": 41460245.981838, \"pod order vol\": 11025726.905967, \"total bean vol\": 55084490.629353, \"total pod vol\": 52485972.887805}, {\"timestamp\": \"2022-10-23T00:00:11\", \"season\": 7953, \"variable\": \"total bean vol\", \"value\": 55084490.629353, \"pod listing vol\": 41460245.981838, \"pod order vol\": 11025726.905967, \"total bean vol\": 55084490.629353, \"total pod vol\": 52485972.887805}, {\"timestamp\": \"2022-10-23T00:00:11\", \"season\": 7953, \"variable\": \"pod order vol\", \"value\": 11025726.905967, \"pod listing vol\": 41460245.981838, \"pod order vol\": 11025726.905967, \"total bean vol\": 55084490.629353, \"total pod vol\": 52485972.887805}, {\"timestamp\": \"2022-10-23T00:00:11\", \"season\": 7953, \"variable\": \"pod listing vol\", \"value\": 41460245.981838, \"pod listing vol\": 41460245.981838, \"pod order vol\": 11025726.905967, \"total bean vol\": 55084490.629353, \"total pod vol\": 52485972.887805}, {\"timestamp\": \"2022-10-24T00:00:11\", \"season\": 7977, \"variable\": \"pod listing vol\", \"value\": 41494623.416942, \"pod listing vol\": 41494623.416942, \"pod order vol\": 11039377.558114, \"total bean vol\": 55087932.205783, \"total pod vol\": 52534000.975056}, {\"timestamp\": \"2022-10-24T00:00:11\", \"season\": 7977, \"variable\": \"pod order vol\", \"value\": 11039377.558114, \"pod listing vol\": 41494623.416942, \"pod order vol\": 11039377.558114, \"total bean vol\": 55087932.205783, \"total pod vol\": 52534000.975056}, {\"timestamp\": \"2022-10-24T00:00:11\", \"season\": 7977, \"variable\": \"total bean vol\", \"value\": 55087932.205783, \"pod listing vol\": 41494623.416942, \"pod order vol\": 11039377.558114, \"total bean vol\": 55087932.205783, \"total pod vol\": 52534000.975056}, {\"timestamp\": \"2022-10-24T00:00:11\", \"season\": 7977, \"variable\": \"total pod vol\", \"value\": 52534000.975056, \"pod listing vol\": 41494623.416942, \"pod order vol\": 11039377.558114, \"total bean vol\": 55087932.205783, \"total pod vol\": 52534000.975056}, {\"timestamp\": \"2022-10-25T00:00:11\", \"season\": 8001, \"variable\": \"pod listing vol\", \"value\": 41494623.416942, \"pod listing vol\": 41494623.416942, \"pod order vol\": 11054074.069404, \"total bean vol\": 55168227.593578, \"total pod vol\": 52548697.486346}, {\"timestamp\": \"2022-10-25T00:00:11\", \"season\": 8001, \"variable\": \"pod order vol\", \"value\": 11054074.069404, \"pod listing vol\": 41494623.416942, \"pod order vol\": 11054074.069404, \"total bean vol\": 55168227.593578, \"total pod vol\": 52548697.486346}, {\"timestamp\": \"2022-10-25T00:00:11\", \"season\": 8001, \"variable\": \"total bean vol\", \"value\": 55168227.593578, \"pod listing vol\": 41494623.416942, \"pod order vol\": 11054074.069404, \"total bean vol\": 55168227.593578, \"total pod vol\": 52548697.486346}, {\"timestamp\": \"2022-10-25T00:00:11\", \"season\": 8001, \"variable\": \"total pod vol\", \"value\": 52548697.486346, \"pod listing vol\": 41494623.416942, \"pod order vol\": 11054074.069404, \"total bean vol\": 55168227.593578, \"total pod vol\": 52548697.486346}, {\"timestamp\": \"2022-10-26T00:00:11\", \"season\": 8025, \"variable\": \"pod listing vol\", \"value\": 41495923.164125, \"pod listing vol\": 41495923.164125, \"pod order vol\": 11084311.640525, \"total bean vol\": 55168995.214988, \"total pod vol\": 52580234.80465}, {\"timestamp\": \"2022-10-26T00:00:11\", \"season\": 8025, \"variable\": \"pod order vol\", \"value\": 11084311.640525, \"pod listing vol\": 41495923.164125, \"pod order vol\": 11084311.640525, \"total bean vol\": 55168995.214988, \"total pod vol\": 52580234.80465}, {\"timestamp\": \"2022-10-26T00:00:11\", \"season\": 8025, \"variable\": \"total bean vol\", \"value\": 55168995.214988, \"pod listing vol\": 41495923.164125, \"pod order vol\": 11084311.640525, \"total bean vol\": 55168995.214988, \"total pod vol\": 52580234.80465}, {\"timestamp\": \"2022-10-26T00:00:11\", \"season\": 8025, \"variable\": \"total pod vol\", \"value\": 52580234.80465, \"pod listing vol\": 41495923.164125, \"pod order vol\": 11084311.640525, \"total bean vol\": 55168995.214988, \"total pod vol\": 52580234.80465}, {\"timestamp\": \"2022-10-27T00:00:11\", \"season\": 8049, \"variable\": \"total pod vol\", \"value\": 52580800.195337, \"pod listing vol\": 41496488.554812, \"pod order vol\": 11084311.640525, \"total bean vol\": 55318241.140739, \"total pod vol\": 52580800.195337}, {\"timestamp\": \"2022-10-27T00:00:11\", \"season\": 8049, \"variable\": \"total bean vol\", \"value\": 55318241.140739, \"pod listing vol\": 41496488.554812, \"pod order vol\": 11084311.640525, \"total bean vol\": 55318241.140739, \"total pod vol\": 52580800.195337}, {\"timestamp\": \"2022-10-27T00:00:11\", \"season\": 8049, \"variable\": \"pod order vol\", \"value\": 11084311.640525, \"pod listing vol\": 41496488.554812, \"pod order vol\": 11084311.640525, \"total bean vol\": 55318241.140739, \"total pod vol\": 52580800.195337}, {\"timestamp\": \"2022-10-27T00:00:11\", \"season\": 8049, \"variable\": \"pod listing vol\", \"value\": 41496488.554812, \"pod listing vol\": 41496488.554812, \"pod order vol\": 11084311.640525, \"total bean vol\": 55318241.140739, \"total pod vol\": 52580800.195337}, {\"timestamp\": \"2022-10-28T00:00:11\", \"season\": 8073, \"variable\": \"pod listing vol\", \"value\": 41496488.554812, \"pod listing vol\": 41496488.554812, \"pod order vol\": 11084311.640525, \"total bean vol\": 55318241.140739, \"total pod vol\": 52580800.195337}, {\"timestamp\": \"2022-10-28T00:00:11\", \"season\": 8073, \"variable\": \"pod order vol\", \"value\": 11084311.640525, \"pod listing vol\": 41496488.554812, \"pod order vol\": 11084311.640525, \"total bean vol\": 55318241.140739, \"total pod vol\": 52580800.195337}, {\"timestamp\": \"2022-10-28T00:00:11\", \"season\": 8073, \"variable\": \"total bean vol\", \"value\": 55318241.140739, \"pod listing vol\": 41496488.554812, \"pod order vol\": 11084311.640525, \"total bean vol\": 55318241.140739, \"total pod vol\": 52580800.195337}, {\"timestamp\": \"2022-10-28T00:00:11\", \"season\": 8073, \"variable\": \"total pod vol\", \"value\": 52580800.195337, \"pod listing vol\": 41496488.554812, \"pod order vol\": 11084311.640525, \"total bean vol\": 55318241.140739, \"total pod vol\": 52580800.195337}, {\"timestamp\": \"2022-10-29T00:00:11\", \"season\": 8097, \"variable\": \"pod listing vol\", \"value\": 41509872.743971, \"pod listing vol\": 41509872.743971, \"pod order vol\": 11084311.640525, \"total bean vol\": 55318887.583838, \"total pod vol\": 52594184.384496}, {\"timestamp\": \"2022-10-29T00:00:11\", \"season\": 8097, \"variable\": \"pod order vol\", \"value\": 11084311.640525, \"pod listing vol\": 41509872.743971, \"pod order vol\": 11084311.640525, \"total bean vol\": 55318887.583838, \"total pod vol\": 52594184.384496}, {\"timestamp\": \"2022-10-29T00:00:11\", \"season\": 8097, \"variable\": \"total bean vol\", \"value\": 55318887.583838, \"pod listing vol\": 41509872.743971, \"pod order vol\": 11084311.640525, \"total bean vol\": 55318887.583838, \"total pod vol\": 52594184.384496}, {\"timestamp\": \"2022-10-29T00:00:11\", \"season\": 8097, \"variable\": \"total pod vol\", \"value\": 52594184.384496, \"pod listing vol\": 41509872.743971, \"pod order vol\": 11084311.640525, \"total bean vol\": 55318887.583838, \"total pod vol\": 52594184.384496}, {\"timestamp\": \"2022-10-30T00:00:11\", \"season\": 8121, \"variable\": \"pod listing vol\", \"value\": 41512754.899823, \"pod listing vol\": 41512754.899823, \"pod order vol\": 11084311.640525, \"total bean vol\": 55318955.299749, \"total pod vol\": 52597066.540348}, {\"timestamp\": \"2022-10-30T00:00:11\", \"season\": 8121, \"variable\": \"pod order vol\", \"value\": 11084311.640525, \"pod listing vol\": 41512754.899823, \"pod order vol\": 11084311.640525, \"total bean vol\": 55318955.299749, \"total pod vol\": 52597066.540348}, {\"timestamp\": \"2022-10-30T00:00:11\", \"season\": 8121, \"variable\": \"total bean vol\", \"value\": 55318955.299749, \"pod listing vol\": 41512754.899823, \"pod order vol\": 11084311.640525, \"total bean vol\": 55318955.299749, \"total pod vol\": 52597066.540348}, {\"timestamp\": \"2022-10-30T00:00:11\", \"season\": 8121, \"variable\": \"total pod vol\", \"value\": 52597066.540348, \"pod listing vol\": 41512754.899823, \"pod order vol\": 11084311.640525, \"total bean vol\": 55318955.299749, \"total pod vol\": 52597066.540348}, {\"timestamp\": \"2022-10-31T00:00:11\", \"season\": 8145, \"variable\": \"total pod vol\", \"value\": 52681755.811814, \"pod listing vol\": 41516754.899823, \"pod order vol\": 11165000.911991, \"total bean vol\": 55329710.32772, \"total pod vol\": 52681755.811814}, {\"timestamp\": \"2022-10-31T00:00:11\", \"season\": 8145, \"variable\": \"total bean vol\", \"value\": 55329710.32772, \"pod listing vol\": 41516754.899823, \"pod order vol\": 11165000.911991, \"total bean vol\": 55329710.32772, \"total pod vol\": 52681755.811814}, {\"timestamp\": \"2022-10-31T00:00:11\", \"season\": 8145, \"variable\": \"pod order vol\", \"value\": 11165000.911991, \"pod listing vol\": 41516754.899823, \"pod order vol\": 11165000.911991, \"total bean vol\": 55329710.32772, \"total pod vol\": 52681755.811814}, {\"timestamp\": \"2022-10-31T00:00:11\", \"season\": 8145, \"variable\": \"pod listing vol\", \"value\": 41516754.899823, \"pod listing vol\": 41516754.899823, \"pod order vol\": 11165000.911991, \"total bean vol\": 55329710.32772, \"total pod vol\": 52681755.811814}, {\"timestamp\": \"2022-11-01T00:00:11\", \"season\": 8169, \"variable\": \"pod listing vol\", \"value\": 41593231.428142, \"pod listing vol\": 41593231.428142, \"pod order vol\": 11165000.911991, \"total bean vol\": 55633567.382527, \"total pod vol\": 52758232.340133}, {\"timestamp\": \"2022-11-01T00:00:11\", \"season\": 8169, \"variable\": \"pod order vol\", \"value\": 11165000.911991, \"pod listing vol\": 41593231.428142, \"pod order vol\": 11165000.911991, \"total bean vol\": 55633567.382527, \"total pod vol\": 52758232.340133}, {\"timestamp\": \"2022-11-01T00:00:11\", \"season\": 8169, \"variable\": \"total bean vol\", \"value\": 55633567.382527, \"pod listing vol\": 41593231.428142, \"pod order vol\": 11165000.911991, \"total bean vol\": 55633567.382527, \"total pod vol\": 52758232.340133}, {\"timestamp\": \"2022-11-01T00:00:11\", \"season\": 8169, \"variable\": \"total pod vol\", \"value\": 52758232.340133, \"pod listing vol\": 41593231.428142, \"pod order vol\": 11165000.911991, \"total bean vol\": 55633567.382527, \"total pod vol\": 52758232.340133}, {\"timestamp\": \"2022-11-02T00:00:11\", \"season\": 8193, \"variable\": \"pod listing vol\", \"value\": 41643117.801732, \"pod listing vol\": 41643117.801732, \"pod order vol\": 11270592.357031, \"total bean vol\": 55645724.027249, \"total pod vol\": 52913710.158763}, {\"timestamp\": \"2022-11-02T00:00:11\", \"season\": 8193, \"variable\": \"pod order vol\", \"value\": 11270592.357031, \"pod listing vol\": 41643117.801732, \"pod order vol\": 11270592.357031, \"total bean vol\": 55645724.027249, \"total pod vol\": 52913710.158763}, {\"timestamp\": \"2022-11-02T00:00:11\", \"season\": 8193, \"variable\": \"total bean vol\", \"value\": 55645724.027249, \"pod listing vol\": 41643117.801732, \"pod order vol\": 11270592.357031, \"total bean vol\": 55645724.027249, \"total pod vol\": 52913710.158763}, {\"timestamp\": \"2022-11-02T00:00:11\", \"season\": 8193, \"variable\": \"total pod vol\", \"value\": 52913710.158763, \"pod listing vol\": 41643117.801732, \"pod order vol\": 11270592.357031, \"total bean vol\": 55645724.027249, \"total pod vol\": 52913710.158763}, {\"timestamp\": \"2022-11-03T00:00:11\", \"season\": 8217, \"variable\": \"pod listing vol\", \"value\": 41647408.473919, \"pod listing vol\": 41647408.473919, \"pod order vol\": 11390386.365751, \"total bean vol\": 55755750.359038, \"total pod vol\": 53037794.83967}, {\"timestamp\": \"2022-11-03T00:00:11\", \"season\": 8217, \"variable\": \"pod order vol\", \"value\": 11390386.365751, \"pod listing vol\": 41647408.473919, \"pod order vol\": 11390386.365751, \"total bean vol\": 55755750.359038, \"total pod vol\": 53037794.83967}, {\"timestamp\": \"2022-11-03T00:00:11\", \"season\": 8217, \"variable\": \"total bean vol\", \"value\": 55755750.359038, \"pod listing vol\": 41647408.473919, \"pod order vol\": 11390386.365751, \"total bean vol\": 55755750.359038, \"total pod vol\": 53037794.83967}, {\"timestamp\": \"2022-11-03T00:00:11\", \"season\": 8217, \"variable\": \"total pod vol\", \"value\": 53037794.83967, \"pod listing vol\": 41647408.473919, \"pod order vol\": 11390386.365751, \"total bean vol\": 55755750.359038, \"total pod vol\": 53037794.83967}, {\"timestamp\": \"2022-11-04T00:00:11\", \"season\": 8241, \"variable\": \"total pod vol\", \"value\": 53187196.951753, \"pod listing vol\": 41796810.586002, \"pod order vol\": 11390386.365751, \"total bean vol\": 55762888.776602, \"total pod vol\": 53187196.951753}, {\"timestamp\": \"2022-11-04T00:00:11\", \"season\": 8241, \"variable\": \"total bean vol\", \"value\": 55762888.776602, \"pod listing vol\": 41796810.586002, \"pod order vol\": 11390386.365751, \"total bean vol\": 55762888.776602, \"total pod vol\": 53187196.951753}, {\"timestamp\": \"2022-11-04T00:00:11\", \"season\": 8241, \"variable\": \"pod order vol\", \"value\": 11390386.365751, \"pod listing vol\": 41796810.586002, \"pod order vol\": 11390386.365751, \"total bean vol\": 55762888.776602, \"total pod vol\": 53187196.951753}, {\"timestamp\": \"2022-11-04T00:00:11\", \"season\": 8241, \"variable\": \"pod listing vol\", \"value\": 41796810.586002, \"pod listing vol\": 41796810.586002, \"pod order vol\": 11390386.365751, \"total bean vol\": 55762888.776602, \"total pod vol\": 53187196.951753}, {\"timestamp\": \"2022-11-05T00:00:11\", \"season\": 8265, \"variable\": \"pod listing vol\", \"value\": 41837183.204747, \"pod listing vol\": 41837183.204747, \"pod order vol\": 11422125.381525, \"total bean vol\": 56102499.008111, \"total pod vol\": 53259308.586272}, {\"timestamp\": \"2022-11-05T00:00:11\", \"season\": 8265, \"variable\": \"pod order vol\", \"value\": 11422125.381525, \"pod listing vol\": 41837183.204747, \"pod order vol\": 11422125.381525, \"total bean vol\": 56102499.008111, \"total pod vol\": 53259308.586272}, {\"timestamp\": \"2022-11-05T00:00:11\", \"season\": 8265, \"variable\": \"total bean vol\", \"value\": 56102499.008111, \"pod listing vol\": 41837183.204747, \"pod order vol\": 11422125.381525, \"total bean vol\": 56102499.008111, \"total pod vol\": 53259308.586272}, {\"timestamp\": \"2022-11-05T00:00:11\", \"season\": 8265, \"variable\": \"total pod vol\", \"value\": 53259308.586272, \"pod listing vol\": 41837183.204747, \"pod order vol\": 11422125.381525, \"total bean vol\": 56102499.008111, \"total pod vol\": 53259308.586272}, {\"timestamp\": \"2022-11-06T00:00:11\", \"season\": 8289, \"variable\": \"pod listing vol\", \"value\": 41855174.616369, \"pod listing vol\": 41855174.616369, \"pod order vol\": 11524708.702252, \"total bean vol\": 56106635.633334, \"total pod vol\": 53379883.318621}, {\"timestamp\": \"2022-11-06T00:00:11\", \"season\": 8289, \"variable\": \"pod order vol\", \"value\": 11524708.702252, \"pod listing vol\": 41855174.616369, \"pod order vol\": 11524708.702252, \"total bean vol\": 56106635.633334, \"total pod vol\": 53379883.318621}, {\"timestamp\": \"2022-11-06T00:00:11\", \"season\": 8289, \"variable\": \"total bean vol\", \"value\": 56106635.633334, \"pod listing vol\": 41855174.616369, \"pod order vol\": 11524708.702252, \"total bean vol\": 56106635.633334, \"total pod vol\": 53379883.318621}, {\"timestamp\": \"2022-11-06T00:00:11\", \"season\": 8289, \"variable\": \"total pod vol\", \"value\": 53379883.318621, \"pod listing vol\": 41855174.616369, \"pod order vol\": 11524708.702252, \"total bean vol\": 56106635.633334, \"total pod vol\": 53379883.318621}, {\"timestamp\": \"2022-11-07T00:00:11\", \"season\": 8313, \"variable\": \"pod listing vol\", \"value\": 41858033.62718, \"pod listing vol\": 41858033.62718, \"pod order vol\": 11570236.343444, \"total bean vol\": 56111452.990082, \"total pod vol\": 53428269.970624}, {\"timestamp\": \"2022-11-07T00:00:11\", \"season\": 8313, \"variable\": \"pod order vol\", \"value\": 11570236.343444, \"pod listing vol\": 41858033.62718, \"pod order vol\": 11570236.343444, \"total bean vol\": 56111452.990082, \"total pod vol\": 53428269.970624}, {\"timestamp\": \"2022-11-07T00:00:11\", \"season\": 8313, \"variable\": \"total bean vol\", \"value\": 56111452.990082, \"pod listing vol\": 41858033.62718, \"pod order vol\": 11570236.343444, \"total bean vol\": 56111452.990082, \"total pod vol\": 53428269.970624}, {\"timestamp\": \"2022-11-07T00:00:11\", \"season\": 8313, \"variable\": \"total pod vol\", \"value\": 53428269.970624, \"pod listing vol\": 41858033.62718, \"pod order vol\": 11570236.343444, \"total bean vol\": 56111452.990082, \"total pod vol\": 53428269.970624}, {\"timestamp\": \"2022-11-08T00:00:11\", \"season\": 8337, \"variable\": \"total pod vol\", \"value\": 53428269.970624, \"pod listing vol\": 41858033.62718, \"pod order vol\": 11570236.343444, \"total bean vol\": 56144268.445943, \"total pod vol\": 53428269.970624}, {\"timestamp\": \"2022-11-08T00:00:11\", \"season\": 8337, \"variable\": \"total bean vol\", \"value\": 56144268.445943, \"pod listing vol\": 41858033.62718, \"pod order vol\": 11570236.343444, \"total bean vol\": 56144268.445943, \"total pod vol\": 53428269.970624}, {\"timestamp\": \"2022-11-08T00:00:11\", \"season\": 8337, \"variable\": \"pod order vol\", \"value\": 11570236.343444, \"pod listing vol\": 41858033.62718, \"pod order vol\": 11570236.343444, \"total bean vol\": 56144268.445943, \"total pod vol\": 53428269.970624}, {\"timestamp\": \"2022-11-08T00:00:11\", \"season\": 8337, \"variable\": \"pod listing vol\", \"value\": 41858033.62718, \"pod listing vol\": 41858033.62718, \"pod order vol\": 11570236.343444, \"total bean vol\": 56144268.445943, \"total pod vol\": 53428269.970624}, {\"timestamp\": \"2022-11-09T00:00:11\", \"season\": 8361, \"variable\": \"pod listing vol\", \"value\": 41872339.402175, \"pod listing vol\": 41872339.402175, \"pod order vol\": 11570236.343444, \"total bean vol\": 56223071.631575, \"total pod vol\": 53442575.745619}, {\"timestamp\": \"2022-11-09T00:00:11\", \"season\": 8361, \"variable\": \"pod order vol\", \"value\": 11570236.343444, \"pod listing vol\": 41872339.402175, \"pod order vol\": 11570236.343444, \"total bean vol\": 56223071.631575, \"total pod vol\": 53442575.745619}, {\"timestamp\": \"2022-11-09T00:00:11\", \"season\": 8361, \"variable\": \"total bean vol\", \"value\": 56223071.631575, \"pod listing vol\": 41872339.402175, \"pod order vol\": 11570236.343444, \"total bean vol\": 56223071.631575, \"total pod vol\": 53442575.745619}, {\"timestamp\": \"2022-11-09T00:00:11\", \"season\": 8361, \"variable\": \"total pod vol\", \"value\": 53442575.745619, \"pod listing vol\": 41872339.402175, \"pod order vol\": 11570236.343444, \"total bean vol\": 56223071.631575, \"total pod vol\": 53442575.745619}, {\"timestamp\": \"2022-11-10T00:00:11\", \"season\": 8385, \"variable\": \"pod listing vol\", \"value\": 41872339.402175, \"pod listing vol\": 41872339.402175, \"pod order vol\": 11570236.343444, \"total bean vol\": 56729290.942503, \"total pod vol\": 53442575.745619}, {\"timestamp\": \"2022-11-10T00:00:11\", \"season\": 8385, \"variable\": \"pod order vol\", \"value\": 11570236.343444, \"pod listing vol\": 41872339.402175, \"pod order vol\": 11570236.343444, \"total bean vol\": 56729290.942503, \"total pod vol\": 53442575.745619}, {\"timestamp\": \"2022-11-10T00:00:11\", \"season\": 8385, \"variable\": \"total bean vol\", \"value\": 56729290.942503, \"pod listing vol\": 41872339.402175, \"pod order vol\": 11570236.343444, \"total bean vol\": 56729290.942503, \"total pod vol\": 53442575.745619}, {\"timestamp\": \"2022-11-10T00:00:11\", \"season\": 8385, \"variable\": \"total pod vol\", \"value\": 53442575.745619, \"pod listing vol\": 41872339.402175, \"pod order vol\": 11570236.343444, \"total bean vol\": 56729290.942503, \"total pod vol\": 53442575.745619}, {\"timestamp\": \"2022-11-11T00:00:11\", \"season\": 8409, \"variable\": \"pod listing vol\", \"value\": 41872339.402175, \"pod listing vol\": 41872339.402175, \"pod order vol\": 11570236.343444, \"total bean vol\": 56874493.928118, \"total pod vol\": 53442575.745619}, {\"timestamp\": \"2022-11-11T00:00:11\", \"season\": 8409, \"variable\": \"pod order vol\", \"value\": 11570236.343444, \"pod listing vol\": 41872339.402175, \"pod order vol\": 11570236.343444, \"total bean vol\": 56874493.928118, \"total pod vol\": 53442575.745619}, {\"timestamp\": \"2022-11-11T00:00:11\", \"season\": 8409, \"variable\": \"total bean vol\", \"value\": 56874493.928118, \"pod listing vol\": 41872339.402175, \"pod order vol\": 11570236.343444, \"total bean vol\": 56874493.928118, \"total pod vol\": 53442575.745619}, {\"timestamp\": \"2022-11-11T00:00:11\", \"season\": 8409, \"variable\": \"total pod vol\", \"value\": 53442575.745619, \"pod listing vol\": 41872339.402175, \"pod order vol\": 11570236.343444, \"total bean vol\": 56874493.928118, \"total pod vol\": 53442575.745619}, {\"timestamp\": \"2022-11-12T00:00:11\", \"season\": 8433, \"variable\": \"total pod vol\", \"value\": 53442575.745619, \"pod listing vol\": 41872339.402175, \"pod order vol\": 11570236.343444, \"total bean vol\": 56874493.928118, \"total pod vol\": 53442575.745619}, {\"timestamp\": \"2022-11-12T00:00:11\", \"season\": 8433, \"variable\": \"total bean vol\", \"value\": 56874493.928118, \"pod listing vol\": 41872339.402175, \"pod order vol\": 11570236.343444, \"total bean vol\": 56874493.928118, \"total pod vol\": 53442575.745619}, {\"timestamp\": \"2022-11-12T00:00:11\", \"season\": 8433, \"variable\": \"pod listing vol\", \"value\": 41872339.402175, \"pod listing vol\": 41872339.402175, \"pod order vol\": 11570236.343444, \"total bean vol\": 56874493.928118, \"total pod vol\": 53442575.745619}, {\"timestamp\": \"2022-11-12T00:00:11\", \"season\": 8433, \"variable\": \"pod order vol\", \"value\": 11570236.343444, \"pod listing vol\": 41872339.402175, \"pod order vol\": 11570236.343444, \"total bean vol\": 56874493.928118, \"total pod vol\": 53442575.745619}, {\"timestamp\": \"2022-11-13T00:00:11\", \"season\": 8457, \"variable\": \"pod listing vol\", \"value\": 41872339.402175, \"pod listing vol\": 41872339.402175, \"pod order vol\": 11570236.343444, \"total bean vol\": 56874493.928118, \"total pod vol\": 53442575.745619}, {\"timestamp\": \"2022-11-13T00:00:11\", \"season\": 8457, \"variable\": \"pod order vol\", \"value\": 11570236.343444, \"pod listing vol\": 41872339.402175, \"pod order vol\": 11570236.343444, \"total bean vol\": 56874493.928118, \"total pod vol\": 53442575.745619}, {\"timestamp\": \"2022-11-13T00:00:11\", \"season\": 8457, \"variable\": \"total bean vol\", \"value\": 56874493.928118, \"pod listing vol\": 41872339.402175, \"pod order vol\": 11570236.343444, \"total bean vol\": 56874493.928118, \"total pod vol\": 53442575.745619}, {\"timestamp\": \"2022-11-13T00:00:11\", \"season\": 8457, \"variable\": \"total pod vol\", \"value\": 53442575.745619, \"pod listing vol\": 41872339.402175, \"pod order vol\": 11570236.343444, \"total bean vol\": 56874493.928118, \"total pod vol\": 53442575.745619}, {\"timestamp\": \"2022-11-14T00:00:11\", \"season\": 8481, \"variable\": \"pod listing vol\", \"value\": 41876419.237715, \"pod listing vol\": 41876419.237715, \"pod order vol\": 11570236.343444, \"total bean vol\": 56875309.895226, \"total pod vol\": 53446655.581159}, {\"timestamp\": \"2022-11-14T00:00:11\", \"season\": 8481, \"variable\": \"pod order vol\", \"value\": 11570236.343444, \"pod listing vol\": 41876419.237715, \"pod order vol\": 11570236.343444, \"total bean vol\": 56875309.895226, \"total pod vol\": 53446655.581159}, {\"timestamp\": \"2022-11-14T00:00:11\", \"season\": 8481, \"variable\": \"total bean vol\", \"value\": 56875309.895226, \"pod listing vol\": 41876419.237715, \"pod order vol\": 11570236.343444, \"total bean vol\": 56875309.895226, \"total pod vol\": 53446655.581159}, {\"timestamp\": \"2022-11-14T00:00:11\", \"season\": 8481, \"variable\": \"total pod vol\", \"value\": 53446655.581159, \"pod listing vol\": 41876419.237715, \"pod order vol\": 11570236.343444, \"total bean vol\": 56875309.895226, \"total pod vol\": 53446655.581159}, {\"timestamp\": \"2022-11-15T00:00:11\", \"season\": 8505, \"variable\": \"pod listing vol\", \"value\": 41876419.237715, \"pod listing vol\": 41876419.237715, \"pod order vol\": 11570236.343444, \"total bean vol\": 56875309.895226, \"total pod vol\": 53446655.581159}, {\"timestamp\": \"2022-11-15T00:00:11\", \"season\": 8505, \"variable\": \"pod order vol\", \"value\": 11570236.343444, \"pod listing vol\": 41876419.237715, \"pod order vol\": 11570236.343444, \"total bean vol\": 56875309.895226, \"total pod vol\": 53446655.581159}, {\"timestamp\": \"2022-11-15T00:00:11\", \"season\": 8505, \"variable\": \"total bean vol\", \"value\": 56875309.895226, \"pod listing vol\": 41876419.237715, \"pod order vol\": 11570236.343444, \"total bean vol\": 56875309.895226, \"total pod vol\": 53446655.581159}, {\"timestamp\": \"2022-11-15T00:00:11\", \"season\": 8505, \"variable\": \"total pod vol\", \"value\": 53446655.581159, \"pod listing vol\": 41876419.237715, \"pod order vol\": 11570236.343444, \"total bean vol\": 56875309.895226, \"total pod vol\": 53446655.581159}, {\"timestamp\": \"2022-11-16T00:00:11\", \"season\": 8529, \"variable\": \"total pod vol\", \"value\": 53446655.581159, \"pod listing vol\": 41876419.237715, \"pod order vol\": 11570236.343444, \"total bean vol\": 56875309.895226, \"total pod vol\": 53446655.581159}, {\"timestamp\": \"2022-11-16T00:00:11\", \"season\": 8529, \"variable\": \"pod order vol\", \"value\": 11570236.343444, \"pod listing vol\": 41876419.237715, \"pod order vol\": 11570236.343444, \"total bean vol\": 56875309.895226, \"total pod vol\": 53446655.581159}, {\"timestamp\": \"2022-11-16T00:00:11\", \"season\": 8529, \"variable\": \"pod listing vol\", \"value\": 41876419.237715, \"pod listing vol\": 41876419.237715, \"pod order vol\": 11570236.343444, \"total bean vol\": 56875309.895226, \"total pod vol\": 53446655.581159}, {\"timestamp\": \"2022-11-16T00:00:11\", \"season\": 8529, \"variable\": \"total bean vol\", \"value\": 56875309.895226, \"pod listing vol\": 41876419.237715, \"pod order vol\": 11570236.343444, \"total bean vol\": 56875309.895226, \"total pod vol\": 53446655.581159}, {\"timestamp\": \"2022-11-17T00:00:11\", \"season\": 8553, \"variable\": \"pod listing vol\", \"value\": 41876419.237715, \"pod listing vol\": 41876419.237715, \"pod order vol\": 11570236.343444, \"total bean vol\": 56887711.558932, \"total pod vol\": 53446655.581159}, {\"timestamp\": \"2022-11-17T00:00:11\", \"season\": 8553, \"variable\": \"pod order vol\", \"value\": 11570236.343444, \"pod listing vol\": 41876419.237715, \"pod order vol\": 11570236.343444, \"total bean vol\": 56887711.558932, \"total pod vol\": 53446655.581159}, {\"timestamp\": \"2022-11-17T00:00:11\", \"season\": 8553, \"variable\": \"total bean vol\", \"value\": 56887711.558932, \"pod listing vol\": 41876419.237715, \"pod order vol\": 11570236.343444, \"total bean vol\": 56887711.558932, \"total pod vol\": 53446655.581159}, {\"timestamp\": \"2022-11-17T00:00:11\", \"season\": 8553, \"variable\": \"total pod vol\", \"value\": 53446655.581159, \"pod listing vol\": 41876419.237715, \"pod order vol\": 11570236.343444, \"total bean vol\": 56887711.558932, \"total pod vol\": 53446655.581159}, {\"timestamp\": \"2022-11-18T00:00:11\", \"season\": 8577, \"variable\": \"pod listing vol\", \"value\": 41886419.237715, \"pod listing vol\": 41886419.237715, \"pod order vol\": 11570236.343444, \"total bean vol\": 56887961.558932, \"total pod vol\": 53456655.581159}, {\"timestamp\": \"2022-11-18T00:00:11\", \"season\": 8577, \"variable\": \"pod order vol\", \"value\": 11570236.343444, \"pod listing vol\": 41886419.237715, \"pod order vol\": 11570236.343444, \"total bean vol\": 56887961.558932, \"total pod vol\": 53456655.581159}, {\"timestamp\": \"2022-11-18T00:00:11\", \"season\": 8577, \"variable\": \"total bean vol\", \"value\": 56887961.558932, \"pod listing vol\": 41886419.237715, \"pod order vol\": 11570236.343444, \"total bean vol\": 56887961.558932, \"total pod vol\": 53456655.581159}, {\"timestamp\": \"2022-11-18T00:00:11\", \"season\": 8577, \"variable\": \"total pod vol\", \"value\": 53456655.581159, \"pod listing vol\": 41886419.237715, \"pod order vol\": 11570236.343444, \"total bean vol\": 56887961.558932, \"total pod vol\": 53456655.581159}, {\"timestamp\": \"2022-11-19T00:00:11\", \"season\": 8601, \"variable\": \"pod listing vol\", \"value\": 41886419.237715, \"pod listing vol\": 41886419.237715, \"pod order vol\": 11570236.343444, \"total bean vol\": 56907543.910193, \"total pod vol\": 53456655.581159}, {\"timestamp\": \"2022-11-19T00:00:11\", \"season\": 8601, \"variable\": \"pod order vol\", \"value\": 11570236.343444, \"pod listing vol\": 41886419.237715, \"pod order vol\": 11570236.343444, \"total bean vol\": 56907543.910193, \"total pod vol\": 53456655.581159}, {\"timestamp\": \"2022-11-19T00:00:11\", \"season\": 8601, \"variable\": \"total bean vol\", \"value\": 56907543.910193, \"pod listing vol\": 41886419.237715, \"pod order vol\": 11570236.343444, \"total bean vol\": 56907543.910193, \"total pod vol\": 53456655.581159}, {\"timestamp\": \"2022-11-19T00:00:11\", \"season\": 8601, \"variable\": \"total pod vol\", \"value\": 53456655.581159, \"pod listing vol\": 41886419.237715, \"pod order vol\": 11570236.343444, \"total bean vol\": 56907543.910193, \"total pod vol\": 53456655.581159}, {\"timestamp\": \"2022-11-20T00:00:11\", \"season\": 8625, \"variable\": \"total pod vol\", \"value\": 53456655.581159, \"pod listing vol\": 41886419.237715, \"pod order vol\": 11570236.343444, \"total bean vol\": 57037344.794651, \"total pod vol\": 53456655.581159}, {\"timestamp\": \"2022-11-20T00:00:11\", \"season\": 8625, \"variable\": \"total bean vol\", \"value\": 57037344.794651, \"pod listing vol\": 41886419.237715, \"pod order vol\": 11570236.343444, \"total bean vol\": 57037344.794651, \"total pod vol\": 53456655.581159}, {\"timestamp\": \"2022-11-20T00:00:11\", \"season\": 8625, \"variable\": \"pod listing vol\", \"value\": 41886419.237715, \"pod listing vol\": 41886419.237715, \"pod order vol\": 11570236.343444, \"total bean vol\": 57037344.794651, \"total pod vol\": 53456655.581159}, {\"timestamp\": \"2022-11-20T00:00:11\", \"season\": 8625, \"variable\": \"pod order vol\", \"value\": 11570236.343444, \"pod listing vol\": 41886419.237715, \"pod order vol\": 11570236.343444, \"total bean vol\": 57037344.794651, \"total pod vol\": 53456655.581159}, {\"timestamp\": \"2022-11-21T00:00:11\", \"season\": 8649, \"variable\": \"pod listing vol\", \"value\": 41962554.237715, \"pod listing vol\": 41962554.237715, \"pod order vol\": 11570236.343444, \"total bean vol\": 57038867.494651, \"total pod vol\": 53532790.581159}, {\"timestamp\": \"2022-11-21T00:00:11\", \"season\": 8649, \"variable\": \"pod order vol\", \"value\": 11570236.343444, \"pod listing vol\": 41962554.237715, \"pod order vol\": 11570236.343444, \"total bean vol\": 57038867.494651, \"total pod vol\": 53532790.581159}, {\"timestamp\": \"2022-11-21T00:00:11\", \"season\": 8649, \"variable\": \"total bean vol\", \"value\": 57038867.494651, \"pod listing vol\": 41962554.237715, \"pod order vol\": 11570236.343444, \"total bean vol\": 57038867.494651, \"total pod vol\": 53532790.581159}, {\"timestamp\": \"2022-11-21T00:00:11\", \"season\": 8649, \"variable\": \"total pod vol\", \"value\": 53532790.581159, \"pod listing vol\": 41962554.237715, \"pod order vol\": 11570236.343444, \"total bean vol\": 57038867.494651, \"total pod vol\": 53532790.581159}, {\"timestamp\": \"2022-11-22T00:00:11\", \"season\": 8673, \"variable\": \"pod listing vol\", \"value\": 41962658.644455, \"pod listing vol\": 41962658.644455, \"pod order vol\": 11675155.636904, \"total bean vol\": 57049385.525682, \"total pod vol\": 53637814.281359}, {\"timestamp\": \"2022-11-22T00:00:11\", \"season\": 8673, \"variable\": \"pod order vol\", \"value\": 11675155.636904, \"pod listing vol\": 41962658.644455, \"pod order vol\": 11675155.636904, \"total bean vol\": 57049385.525682, \"total pod vol\": 53637814.281359}, {\"timestamp\": \"2022-11-22T00:00:11\", \"season\": 8673, \"variable\": \"total bean vol\", \"value\": 57049385.525682, \"pod listing vol\": 41962658.644455, \"pod order vol\": 11675155.636904, \"total bean vol\": 57049385.525682, \"total pod vol\": 53637814.281359}, {\"timestamp\": \"2022-11-22T00:00:11\", \"season\": 8673, \"variable\": \"total pod vol\", \"value\": 53637814.281359, \"pod listing vol\": 41962658.644455, \"pod order vol\": 11675155.636904, \"total bean vol\": 57049385.525682, \"total pod vol\": 53637814.281359}, {\"timestamp\": \"2022-11-23T00:00:11\", \"season\": 8697, \"variable\": \"pod listing vol\", \"value\": 41962773.648382, \"pod listing vol\": 41962773.648382, \"pod order vol\": 11675155.636904, \"total bean vol\": 57049389.189465, \"total pod vol\": 53637929.285286}, {\"timestamp\": \"2022-11-23T00:00:11\", \"season\": 8697, \"variable\": \"pod order vol\", \"value\": 11675155.636904, \"pod listing vol\": 41962773.648382, \"pod order vol\": 11675155.636904, \"total bean vol\": 57049389.189465, \"total pod vol\": 53637929.285286}, {\"timestamp\": \"2022-11-23T00:00:11\", \"season\": 8697, \"variable\": \"total bean vol\", \"value\": 57049389.189465, \"pod listing vol\": 41962773.648382, \"pod order vol\": 11675155.636904, \"total bean vol\": 57049389.189465, \"total pod vol\": 53637929.285286}, {\"timestamp\": \"2022-11-23T00:00:11\", \"season\": 8697, \"variable\": \"total pod vol\", \"value\": 53637929.285286, \"pod listing vol\": 41962773.648382, \"pod order vol\": 11675155.636904, \"total bean vol\": 57049389.189465, \"total pod vol\": 53637929.285286}, {\"timestamp\": \"2022-11-24T00:00:11\", \"season\": 8721, \"variable\": \"total bean vol\", \"value\": 57049389.189465, \"pod listing vol\": 41962773.648382, \"pod order vol\": 11675155.636904, \"total bean vol\": 57049389.189465, \"total pod vol\": 53637929.285286}, {\"timestamp\": \"2022-11-24T00:00:11\", \"season\": 8721, \"variable\": \"total pod vol\", \"value\": 53637929.285286, \"pod listing vol\": 41962773.648382, \"pod order vol\": 11675155.636904, \"total bean vol\": 57049389.189465, \"total pod vol\": 53637929.285286}, {\"timestamp\": \"2022-11-24T00:00:11\", \"season\": 8721, \"variable\": \"pod order vol\", \"value\": 11675155.636904, \"pod listing vol\": 41962773.648382, \"pod order vol\": 11675155.636904, \"total bean vol\": 57049389.189465, \"total pod vol\": 53637929.285286}, {\"timestamp\": \"2022-11-24T00:00:11\", \"season\": 8721, \"variable\": \"pod listing vol\", \"value\": 41962773.648382, \"pod listing vol\": 41962773.648382, \"pod order vol\": 11675155.636904, \"total bean vol\": 57049389.189465, \"total pod vol\": 53637929.285286}, {\"timestamp\": \"2022-11-25T00:00:11\", \"season\": 8745, \"variable\": \"pod listing vol\", \"value\": 41962773.648382, \"pod listing vol\": 41962773.648382, \"pod order vol\": 11675155.636904, \"total bean vol\": 57049389.189465, \"total pod vol\": 53637929.285286}, {\"timestamp\": \"2022-11-25T00:00:11\", \"season\": 8745, \"variable\": \"pod order vol\", \"value\": 11675155.636904, \"pod listing vol\": 41962773.648382, \"pod order vol\": 11675155.636904, \"total bean vol\": 57049389.189465, \"total pod vol\": 53637929.285286}, {\"timestamp\": \"2022-11-25T00:00:11\", \"season\": 8745, \"variable\": \"total bean vol\", \"value\": 57049389.189465, \"pod listing vol\": 41962773.648382, \"pod order vol\": 11675155.636904, \"total bean vol\": 57049389.189465, \"total pod vol\": 53637929.285286}, {\"timestamp\": \"2022-11-25T00:00:11\", \"season\": 8745, \"variable\": \"total pod vol\", \"value\": 53637929.285286, \"pod listing vol\": 41962773.648382, \"pod order vol\": 11675155.636904, \"total bean vol\": 57049389.189465, \"total pod vol\": 53637929.285286}, {\"timestamp\": \"2022-11-26T00:00:11\", \"season\": 8769, \"variable\": \"pod listing vol\", \"value\": 41962773.648382, \"pod listing vol\": 41962773.648382, \"pod order vol\": 11675155.636904, \"total bean vol\": 57049389.189465, \"total pod vol\": 53637929.285286}, {\"timestamp\": \"2022-11-26T00:00:11\", \"season\": 8769, \"variable\": \"pod order vol\", \"value\": 11675155.636904, \"pod listing vol\": 41962773.648382, \"pod order vol\": 11675155.636904, \"total bean vol\": 57049389.189465, \"total pod vol\": 53637929.285286}, {\"timestamp\": \"2022-11-26T00:00:11\", \"season\": 8769, \"variable\": \"total bean vol\", \"value\": 57049389.189465, \"pod listing vol\": 41962773.648382, \"pod order vol\": 11675155.636904, \"total bean vol\": 57049389.189465, \"total pod vol\": 53637929.285286}, {\"timestamp\": \"2022-11-26T00:00:11\", \"season\": 8769, \"variable\": \"total pod vol\", \"value\": 53637929.285286, \"pod listing vol\": 41962773.648382, \"pod order vol\": 11675155.636904, \"total bean vol\": 57049389.189465, \"total pod vol\": 53637929.285286}, {\"timestamp\": \"2022-11-27T00:00:11\", \"season\": 8793, \"variable\": \"total pod vol\", \"value\": 53637929.285286, \"pod listing vol\": 41962773.648382, \"pod order vol\": 11675155.636904, \"total bean vol\": 57049389.189465, \"total pod vol\": 53637929.285286}, {\"timestamp\": \"2022-11-27T00:00:11\", \"season\": 8793, \"variable\": \"total bean vol\", \"value\": 57049389.189465, \"pod listing vol\": 41962773.648382, \"pod order vol\": 11675155.636904, \"total bean vol\": 57049389.189465, \"total pod vol\": 53637929.285286}, {\"timestamp\": \"2022-11-27T00:00:11\", \"season\": 8793, \"variable\": \"pod order vol\", \"value\": 11675155.636904, \"pod listing vol\": 41962773.648382, \"pod order vol\": 11675155.636904, \"total bean vol\": 57049389.189465, \"total pod vol\": 53637929.285286}, {\"timestamp\": \"2022-11-27T00:00:11\", \"season\": 8793, \"variable\": \"pod listing vol\", \"value\": 41962773.648382, \"pod listing vol\": 41962773.648382, \"pod order vol\": 11675155.636904, \"total bean vol\": 57049389.189465, \"total pod vol\": 53637929.285286}, {\"timestamp\": \"2022-11-28T00:00:11\", \"season\": 8817, \"variable\": \"pod listing vol\", \"value\": 41962773.648382, \"pod listing vol\": 41962773.648382, \"pod order vol\": 11675155.636904, \"total bean vol\": 57049389.189465, \"total pod vol\": 53637929.285286}, {\"timestamp\": \"2022-11-28T00:00:11\", \"season\": 8817, \"variable\": \"pod order vol\", \"value\": 11675155.636904, \"pod listing vol\": 41962773.648382, \"pod order vol\": 11675155.636904, \"total bean vol\": 57049389.189465, \"total pod vol\": 53637929.285286}, {\"timestamp\": \"2022-11-28T00:00:11\", \"season\": 8817, \"variable\": \"total bean vol\", \"value\": 57049389.189465, \"pod listing vol\": 41962773.648382, \"pod order vol\": 11675155.636904, \"total bean vol\": 57049389.189465, \"total pod vol\": 53637929.285286}, {\"timestamp\": \"2022-11-28T00:00:11\", \"season\": 8817, \"variable\": \"total pod vol\", \"value\": 53637929.285286, \"pod listing vol\": 41962773.648382, \"pod order vol\": 11675155.636904, \"total bean vol\": 57049389.189465, \"total pod vol\": 53637929.285286}, {\"timestamp\": \"2022-11-29T00:00:11\", \"season\": 8841, \"variable\": \"pod listing vol\", \"value\": 41962773.648382, \"pod listing vol\": 41962773.648382, \"pod order vol\": 11675155.636904, \"total bean vol\": 57049389.189465, \"total pod vol\": 53637929.285286}, {\"timestamp\": \"2022-11-29T00:00:11\", \"season\": 8841, \"variable\": \"pod order vol\", \"value\": 11675155.636904, \"pod listing vol\": 41962773.648382, \"pod order vol\": 11675155.636904, \"total bean vol\": 57049389.189465, \"total pod vol\": 53637929.285286}, {\"timestamp\": \"2022-11-29T00:00:11\", \"season\": 8841, \"variable\": \"total bean vol\", \"value\": 57049389.189465, \"pod listing vol\": 41962773.648382, \"pod order vol\": 11675155.636904, \"total bean vol\": 57049389.189465, \"total pod vol\": 53637929.285286}, {\"timestamp\": \"2022-11-29T00:00:11\", \"season\": 8841, \"variable\": \"total pod vol\", \"value\": 53637929.285286, \"pod listing vol\": 41962773.648382, \"pod order vol\": 11675155.636904, \"total bean vol\": 57049389.189465, \"total pod vol\": 53637929.285286}, {\"timestamp\": \"2022-11-30T00:00:11\", \"season\": 8865, \"variable\": \"total bean vol\", \"value\": 57076508.005578, \"pod listing vol\": 41962773.648382, \"pod order vol\": 11675155.636904, \"total bean vol\": 57076508.005578, \"total pod vol\": 53637929.285286}, {\"timestamp\": \"2022-11-30T00:00:11\", \"season\": 8865, \"variable\": \"total pod vol\", \"value\": 53637929.285286, \"pod listing vol\": 41962773.648382, \"pod order vol\": 11675155.636904, \"total bean vol\": 57076508.005578, \"total pod vol\": 53637929.285286}, {\"timestamp\": \"2022-11-30T00:00:11\", \"season\": 8865, \"variable\": \"pod listing vol\", \"value\": 41962773.648382, \"pod listing vol\": 41962773.648382, \"pod order vol\": 11675155.636904, \"total bean vol\": 57076508.005578, \"total pod vol\": 53637929.285286}, {\"timestamp\": \"2022-11-30T00:00:11\", \"season\": 8865, \"variable\": \"pod order vol\", \"value\": 11675155.636904, \"pod listing vol\": 41962773.648382, \"pod order vol\": 11675155.636904, \"total bean vol\": 57076508.005578, \"total pod vol\": 53637929.285286}, {\"timestamp\": \"2022-12-01T00:00:23\", \"season\": 8889, \"variable\": \"pod order vol\", \"value\": 11675155.636904, \"pod listing vol\": 41965273.650882, \"pod order vol\": 11675155.636904, \"total bean vol\": 57077008.006078, \"total pod vol\": 53640429.287786}, {\"timestamp\": \"2022-12-01T00:00:23\", \"season\": 8889, \"variable\": \"total bean vol\", \"value\": 57077008.006078, \"pod listing vol\": 41965273.650882, \"pod order vol\": 11675155.636904, \"total bean vol\": 57077008.006078, \"total pod vol\": 53640429.287786}, {\"timestamp\": \"2022-12-01T00:00:23\", \"season\": 8889, \"variable\": \"pod listing vol\", \"value\": 41965273.650882, \"pod listing vol\": 41965273.650882, \"pod order vol\": 11675155.636904, \"total bean vol\": 57077008.006078, \"total pod vol\": 53640429.287786}, {\"timestamp\": \"2022-12-01T00:00:23\", \"season\": 8889, \"variable\": \"total pod vol\", \"value\": 53640429.287786, \"pod listing vol\": 41965273.650882, \"pod order vol\": 11675155.636904, \"total bean vol\": 57077008.006078, \"total pod vol\": 53640429.287786}, {\"timestamp\": \"2022-12-02T00:00:11\", \"season\": 8913, \"variable\": \"total pod vol\", \"value\": 53650429.287786, \"pod listing vol\": 41975273.650882, \"pod order vol\": 11675155.636904, \"total bean vol\": 57077008.106078, \"total pod vol\": 53650429.287786}, {\"timestamp\": \"2022-12-02T00:00:11\", \"season\": 8913, \"variable\": \"total bean vol\", \"value\": 57077008.106078, \"pod listing vol\": 41975273.650882, \"pod order vol\": 11675155.636904, \"total bean vol\": 57077008.106078, \"total pod vol\": 53650429.287786}, {\"timestamp\": \"2022-12-02T00:00:11\", \"season\": 8913, \"variable\": \"pod order vol\", \"value\": 11675155.636904, \"pod listing vol\": 41975273.650882, \"pod order vol\": 11675155.636904, \"total bean vol\": 57077008.106078, \"total pod vol\": 53650429.287786}, {\"timestamp\": \"2022-12-02T00:00:11\", \"season\": 8913, \"variable\": \"pod listing vol\", \"value\": 41975273.650882, \"pod listing vol\": 41975273.650882, \"pod order vol\": 11675155.636904, \"total bean vol\": 57077008.106078, \"total pod vol\": 53650429.287786}, {\"timestamp\": \"2022-12-03T00:00:11\", \"season\": 8937, \"variable\": \"pod listing vol\", \"value\": 41980829.206437, \"pod listing vol\": 41980829.206437, \"pod order vol\": 11675155.636904, \"total bean vol\": 57077258.106078, \"total pod vol\": 53655984.843341}, {\"timestamp\": \"2022-12-03T00:00:11\", \"season\": 8937, \"variable\": \"pod order vol\", \"value\": 11675155.636904, \"pod listing vol\": 41980829.206437, \"pod order vol\": 11675155.636904, \"total bean vol\": 57077258.106078, \"total pod vol\": 53655984.843341}, {\"timestamp\": \"2022-12-03T00:00:11\", \"season\": 8937, \"variable\": \"total bean vol\", \"value\": 57077258.106078, \"pod listing vol\": 41980829.206437, \"pod order vol\": 11675155.636904, \"total bean vol\": 57077258.106078, \"total pod vol\": 53655984.843341}, {\"timestamp\": \"2022-12-03T00:00:11\", \"season\": 8937, \"variable\": \"total pod vol\", \"value\": 53655984.843341, \"pod listing vol\": 41980829.206437, \"pod order vol\": 11675155.636904, \"total bean vol\": 57077258.106078, \"total pod vol\": 53655984.843341}, {\"timestamp\": \"2022-12-04T00:00:11\", \"season\": 8961, \"variable\": \"pod listing vol\", \"value\": 41980829.206437, \"pod listing vol\": 41980829.206437, \"pod order vol\": 11675155.636904, \"total bean vol\": 57077258.106078, \"total pod vol\": 53655984.843341}, {\"timestamp\": \"2022-12-04T00:00:11\", \"season\": 8961, \"variable\": \"pod order vol\", \"value\": 11675155.636904, \"pod listing vol\": 41980829.206437, \"pod order vol\": 11675155.636904, \"total bean vol\": 57077258.106078, \"total pod vol\": 53655984.843341}, {\"timestamp\": \"2022-12-04T00:00:11\", \"season\": 8961, \"variable\": \"total bean vol\", \"value\": 57077258.106078, \"pod listing vol\": 41980829.206437, \"pod order vol\": 11675155.636904, \"total bean vol\": 57077258.106078, \"total pod vol\": 53655984.843341}, {\"timestamp\": \"2022-12-04T00:00:11\", \"season\": 8961, \"variable\": \"total pod vol\", \"value\": 53655984.843341, \"pod listing vol\": 41980829.206437, \"pod order vol\": 11675155.636904, \"total bean vol\": 57077258.106078, \"total pod vol\": 53655984.843341}, {\"timestamp\": \"2022-12-05T00:00:11\", \"season\": 8985, \"variable\": \"pod listing vol\", \"value\": 41980829.206437, \"pod listing vol\": 41980829.206437, \"pod order vol\": 11675155.636904, \"total bean vol\": 57077258.106078, \"total pod vol\": 53655984.843341}, {\"timestamp\": \"2022-12-05T00:00:11\", \"season\": 8985, \"variable\": \"pod order vol\", \"value\": 11675155.636904, \"pod listing vol\": 41980829.206437, \"pod order vol\": 11675155.636904, \"total bean vol\": 57077258.106078, \"total pod vol\": 53655984.843341}, {\"timestamp\": \"2022-12-05T00:00:11\", \"season\": 8985, \"variable\": \"total bean vol\", \"value\": 57077258.106078, \"pod listing vol\": 41980829.206437, \"pod order vol\": 11675155.636904, \"total bean vol\": 57077258.106078, \"total pod vol\": 53655984.843341}, {\"timestamp\": \"2022-12-05T00:00:11\", \"season\": 8985, \"variable\": \"total pod vol\", \"value\": 53655984.843341, \"pod listing vol\": 41980829.206437, \"pod order vol\": 11675155.636904, \"total bean vol\": 57077258.106078, \"total pod vol\": 53655984.843341}, {\"timestamp\": \"2022-12-06T00:00:11\", \"season\": 9009, \"variable\": \"total pod vol\", \"value\": 53655984.843341, \"pod listing vol\": 41980829.206437, \"pod order vol\": 11675155.636904, \"total bean vol\": 57077258.106078, \"total pod vol\": 53655984.843341}, {\"timestamp\": \"2022-12-06T00:00:11\", \"season\": 9009, \"variable\": \"total bean vol\", \"value\": 57077258.106078, \"pod listing vol\": 41980829.206437, \"pod order vol\": 11675155.636904, \"total bean vol\": 57077258.106078, \"total pod vol\": 53655984.843341}, {\"timestamp\": \"2022-12-06T00:00:11\", \"season\": 9009, \"variable\": \"pod listing vol\", \"value\": 41980829.206437, \"pod listing vol\": 41980829.206437, \"pod order vol\": 11675155.636904, \"total bean vol\": 57077258.106078, \"total pod vol\": 53655984.843341}, {\"timestamp\": \"2022-12-06T00:00:11\", \"season\": 9009, \"variable\": \"pod order vol\", \"value\": 11675155.636904, \"pod listing vol\": 41980829.206437, \"pod order vol\": 11675155.636904, \"total bean vol\": 57077258.106078, \"total pod vol\": 53655984.843341}, {\"timestamp\": \"2022-12-07T00:00:23\", \"season\": 9033, \"variable\": \"pod listing vol\", \"value\": 41980829.206437, \"pod listing vol\": 41980829.206437, \"pod order vol\": 11675155.636904, \"total bean vol\": 57077258.106078, \"total pod vol\": 53655984.843341}, {\"timestamp\": \"2022-12-07T00:00:23\", \"season\": 9033, \"variable\": \"pod order vol\", \"value\": 11675155.636904, \"pod listing vol\": 41980829.206437, \"pod order vol\": 11675155.636904, \"total bean vol\": 57077258.106078, \"total pod vol\": 53655984.843341}, {\"timestamp\": \"2022-12-07T00:00:23\", \"season\": 9033, \"variable\": \"total bean vol\", \"value\": 57077258.106078, \"pod listing vol\": 41980829.206437, \"pod order vol\": 11675155.636904, \"total bean vol\": 57077258.106078, \"total pod vol\": 53655984.843341}, {\"timestamp\": \"2022-12-07T00:00:23\", \"season\": 9033, \"variable\": \"total pod vol\", \"value\": 53655984.843341, \"pod listing vol\": 41980829.206437, \"pod order vol\": 11675155.636904, \"total bean vol\": 57077258.106078, \"total pod vol\": 53655984.843341}, {\"timestamp\": \"2022-12-08T00:00:23\", \"season\": 9057, \"variable\": \"pod listing vol\", \"value\": 41980829.206437, \"pod listing vol\": 41980829.206437, \"pod order vol\": 11675155.636904, \"total bean vol\": 57084264.810449, \"total pod vol\": 53655984.843341}, {\"timestamp\": \"2022-12-08T00:00:23\", \"season\": 9057, \"variable\": \"pod order vol\", \"value\": 11675155.636904, \"pod listing vol\": 41980829.206437, \"pod order vol\": 11675155.636904, \"total bean vol\": 57084264.810449, \"total pod vol\": 53655984.843341}, {\"timestamp\": \"2022-12-08T00:00:23\", \"season\": 9057, \"variable\": \"total bean vol\", \"value\": 57084264.810449, \"pod listing vol\": 41980829.206437, \"pod order vol\": 11675155.636904, \"total bean vol\": 57084264.810449, \"total pod vol\": 53655984.843341}, {\"timestamp\": \"2022-12-08T00:00:23\", \"season\": 9057, \"variable\": \"total pod vol\", \"value\": 53655984.843341, \"pod listing vol\": 41980829.206437, \"pod order vol\": 11675155.636904, \"total bean vol\": 57084264.810449, \"total pod vol\": 53655984.843341}, {\"timestamp\": \"2022-12-09T00:00:11\", \"season\": 9081, \"variable\": \"pod listing vol\", \"value\": 41980829.206437, \"pod listing vol\": 41980829.206437, \"pod order vol\": 11675155.636904, \"total bean vol\": 57084264.810449, \"total pod vol\": 53655984.843341}, {\"timestamp\": \"2022-12-09T00:00:11\", \"season\": 9081, \"variable\": \"pod order vol\", \"value\": 11675155.636904, \"pod listing vol\": 41980829.206437, \"pod order vol\": 11675155.636904, \"total bean vol\": 57084264.810449, \"total pod vol\": 53655984.843341}, {\"timestamp\": \"2022-12-09T00:00:11\", \"season\": 9081, \"variable\": \"total bean vol\", \"value\": 57084264.810449, \"pod listing vol\": 41980829.206437, \"pod order vol\": 11675155.636904, \"total bean vol\": 57084264.810449, \"total pod vol\": 53655984.843341}, {\"timestamp\": \"2022-12-09T00:00:11\", \"season\": 9081, \"variable\": \"total pod vol\", \"value\": 53655984.843341, \"pod listing vol\": 41980829.206437, \"pod order vol\": 11675155.636904, \"total bean vol\": 57084264.810449, \"total pod vol\": 53655984.843341}, {\"timestamp\": \"2022-12-10T00:00:11\", \"season\": 9105, \"variable\": \"total pod vol\", \"value\": 53655984.843341, \"pod listing vol\": 41980829.206437, \"pod order vol\": 11675155.636904, \"total bean vol\": 57084264.810449, \"total pod vol\": 53655984.843341}, {\"timestamp\": \"2022-12-10T00:00:11\", \"season\": 9105, \"variable\": \"total bean vol\", \"value\": 57084264.810449, \"pod listing vol\": 41980829.206437, \"pod order vol\": 11675155.636904, \"total bean vol\": 57084264.810449, \"total pod vol\": 53655984.843341}, {\"timestamp\": \"2022-12-10T00:00:11\", \"season\": 9105, \"variable\": \"pod order vol\", \"value\": 11675155.636904, \"pod listing vol\": 41980829.206437, \"pod order vol\": 11675155.636904, \"total bean vol\": 57084264.810449, \"total pod vol\": 53655984.843341}, {\"timestamp\": \"2022-12-10T00:00:11\", \"season\": 9105, \"variable\": \"pod listing vol\", \"value\": 41980829.206437, \"pod listing vol\": 41980829.206437, \"pod order vol\": 11675155.636904, \"total bean vol\": 57084264.810449, \"total pod vol\": 53655984.843341}, {\"timestamp\": \"2022-12-11T00:00:11\", \"season\": 9129, \"variable\": \"pod listing vol\", \"value\": 41980829.206437, \"pod listing vol\": 41980829.206437, \"pod order vol\": 11675155.636904, \"total bean vol\": 57091801.275301, \"total pod vol\": 53655984.843341}, {\"timestamp\": \"2022-12-11T00:00:11\", \"season\": 9129, \"variable\": \"pod order vol\", \"value\": 11675155.636904, \"pod listing vol\": 41980829.206437, \"pod order vol\": 11675155.636904, \"total bean vol\": 57091801.275301, \"total pod vol\": 53655984.843341}, {\"timestamp\": \"2022-12-11T00:00:11\", \"season\": 9129, \"variable\": \"total bean vol\", \"value\": 57091801.275301, \"pod listing vol\": 41980829.206437, \"pod order vol\": 11675155.636904, \"total bean vol\": 57091801.275301, \"total pod vol\": 53655984.843341}, {\"timestamp\": \"2022-12-11T00:00:11\", \"season\": 9129, \"variable\": \"total pod vol\", \"value\": 53655984.843341, \"pod listing vol\": 41980829.206437, \"pod order vol\": 11675155.636904, \"total bean vol\": 57091801.275301, \"total pod vol\": 53655984.843341}, {\"timestamp\": \"2022-12-12T00:00:11\", \"season\": 9153, \"variable\": \"pod listing vol\", \"value\": 41980829.206437, \"pod listing vol\": 41980829.206437, \"pod order vol\": 11675155.636904, \"total bean vol\": 57091801.275301, \"total pod vol\": 53655984.843341}, {\"timestamp\": \"2022-12-12T00:00:11\", \"season\": 9153, \"variable\": \"pod order vol\", \"value\": 11675155.636904, \"pod listing vol\": 41980829.206437, \"pod order vol\": 11675155.636904, \"total bean vol\": 57091801.275301, \"total pod vol\": 53655984.843341}, {\"timestamp\": \"2022-12-12T00:00:11\", \"season\": 9153, \"variable\": \"total bean vol\", \"value\": 57091801.275301, \"pod listing vol\": 41980829.206437, \"pod order vol\": 11675155.636904, \"total bean vol\": 57091801.275301, \"total pod vol\": 53655984.843341}, {\"timestamp\": \"2022-12-12T00:00:11\", \"season\": 9153, \"variable\": \"total pod vol\", \"value\": 53655984.843341, \"pod listing vol\": 41980829.206437, \"pod order vol\": 11675155.636904, \"total bean vol\": 57091801.275301, \"total pod vol\": 53655984.843341}, {\"timestamp\": \"2022-12-13T00:00:11\", \"season\": 9177, \"variable\": \"pod listing vol\", \"value\": 41980829.206437, \"pod listing vol\": 41980829.206437, \"pod order vol\": 11675155.636904, \"total bean vol\": 57091801.275301, \"total pod vol\": 53655984.843341}, {\"timestamp\": \"2022-12-13T00:00:11\", \"season\": 9177, \"variable\": \"pod order vol\", \"value\": 11675155.636904, \"pod listing vol\": 41980829.206437, \"pod order vol\": 11675155.636904, \"total bean vol\": 57091801.275301, \"total pod vol\": 53655984.843341}, {\"timestamp\": \"2022-12-13T00:00:11\", \"season\": 9177, \"variable\": \"total bean vol\", \"value\": 57091801.275301, \"pod listing vol\": 41980829.206437, \"pod order vol\": 11675155.636904, \"total bean vol\": 57091801.275301, \"total pod vol\": 53655984.843341}, {\"timestamp\": \"2022-12-13T00:00:11\", \"season\": 9177, \"variable\": \"total pod vol\", \"value\": 53655984.843341, \"pod listing vol\": 41980829.206437, \"pod order vol\": 11675155.636904, \"total bean vol\": 57091801.275301, \"total pod vol\": 53655984.843341}, {\"timestamp\": \"2022-12-14T00:00:11\", \"season\": 9201, \"variable\": \"total pod vol\", \"value\": 53655984.843341, \"pod listing vol\": 41980829.206437, \"pod order vol\": 11675155.636904, \"total bean vol\": 57091801.275301, \"total pod vol\": 53655984.843341}, {\"timestamp\": \"2022-12-14T00:00:11\", \"season\": 9201, \"variable\": \"total bean vol\", \"value\": 57091801.275301, \"pod listing vol\": 41980829.206437, \"pod order vol\": 11675155.636904, \"total bean vol\": 57091801.275301, \"total pod vol\": 53655984.843341}, {\"timestamp\": \"2022-12-14T00:00:11\", \"season\": 9201, \"variable\": \"pod order vol\", \"value\": 11675155.636904, \"pod listing vol\": 41980829.206437, \"pod order vol\": 11675155.636904, \"total bean vol\": 57091801.275301, \"total pod vol\": 53655984.843341}, {\"timestamp\": \"2022-12-14T00:00:11\", \"season\": 9201, \"variable\": \"pod listing vol\", \"value\": 41980829.206437, \"pod listing vol\": 41980829.206437, \"pod order vol\": 11675155.636904, \"total bean vol\": 57091801.275301, \"total pod vol\": 53655984.843341}, {\"timestamp\": \"2022-12-15T00:00:23\", \"season\": 9225, \"variable\": \"pod listing vol\", \"value\": 41980829.206437, \"pod listing vol\": 41980829.206437, \"pod order vol\": 11675155.636904, \"total bean vol\": 57091801.275301, \"total pod vol\": 53655984.843341}, {\"timestamp\": \"2022-12-15T00:00:23\", \"season\": 9225, \"variable\": \"pod order vol\", \"value\": 11675155.636904, \"pod listing vol\": 41980829.206437, \"pod order vol\": 11675155.636904, \"total bean vol\": 57091801.275301, \"total pod vol\": 53655984.843341}, {\"timestamp\": \"2022-12-15T00:00:23\", \"season\": 9225, \"variable\": \"total bean vol\", \"value\": 57091801.275301, \"pod listing vol\": 41980829.206437, \"pod order vol\": 11675155.636904, \"total bean vol\": 57091801.275301, \"total pod vol\": 53655984.843341}, {\"timestamp\": \"2022-12-15T00:00:23\", \"season\": 9225, \"variable\": \"total pod vol\", \"value\": 53655984.843341, \"pod listing vol\": 41980829.206437, \"pod order vol\": 11675155.636904, \"total bean vol\": 57091801.275301, \"total pod vol\": 53655984.843341}, {\"timestamp\": \"2022-12-16T00:00:11\", \"season\": 9249, \"variable\": \"pod listing vol\", \"value\": 41980829.206437, \"pod listing vol\": 41980829.206437, \"pod order vol\": 11675155.636904, \"total bean vol\": 57767376.478081, \"total pod vol\": 53655984.843341}, {\"timestamp\": \"2022-12-16T00:00:11\", \"season\": 9249, \"variable\": \"pod order vol\", \"value\": 11675155.636904, \"pod listing vol\": 41980829.206437, \"pod order vol\": 11675155.636904, \"total bean vol\": 57767376.478081, \"total pod vol\": 53655984.843341}, {\"timestamp\": \"2022-12-16T00:00:11\", \"season\": 9249, \"variable\": \"total bean vol\", \"value\": 57767376.478081, \"pod listing vol\": 41980829.206437, \"pod order vol\": 11675155.636904, \"total bean vol\": 57767376.478081, \"total pod vol\": 53655984.843341}, {\"timestamp\": \"2022-12-16T00:00:11\", \"season\": 9249, \"variable\": \"total pod vol\", \"value\": 53655984.843341, \"pod listing vol\": 41980829.206437, \"pod order vol\": 11675155.636904, \"total bean vol\": 57767376.478081, \"total pod vol\": 53655984.843341}, {\"timestamp\": \"2022-12-17T00:00:11\", \"season\": 9273, \"variable\": \"pod listing vol\", \"value\": 42743595.873103, \"pod listing vol\": 42743595.873103, \"pod order vol\": 11675155.636904, \"total bean vol\": 57769664.778081, \"total pod vol\": 54418751.510007}, {\"timestamp\": \"2022-12-17T00:00:11\", \"season\": 9273, \"variable\": \"pod order vol\", \"value\": 11675155.636904, \"pod listing vol\": 42743595.873103, \"pod order vol\": 11675155.636904, \"total bean vol\": 57769664.778081, \"total pod vol\": 54418751.510007}, {\"timestamp\": \"2022-12-17T00:00:11\", \"season\": 9273, \"variable\": \"total bean vol\", \"value\": 57769664.778081, \"pod listing vol\": 42743595.873103, \"pod order vol\": 11675155.636904, \"total bean vol\": 57769664.778081, \"total pod vol\": 54418751.510007}, {\"timestamp\": \"2022-12-17T00:00:11\", \"season\": 9273, \"variable\": \"total pod vol\", \"value\": 54418751.510007, \"pod listing vol\": 42743595.873103, \"pod order vol\": 11675155.636904, \"total bean vol\": 57769664.778081, \"total pod vol\": 54418751.510007}, {\"timestamp\": \"2022-12-18T00:00:11\", \"season\": 9297, \"variable\": \"total pod vol\", \"value\": 54418751.510007, \"pod listing vol\": 42743595.873103, \"pod order vol\": 11675155.636904, \"total bean vol\": 58269664.778081, \"total pod vol\": 54418751.510007}, {\"timestamp\": \"2022-12-18T00:00:11\", \"season\": 9297, \"variable\": \"total bean vol\", \"value\": 58269664.778081, \"pod listing vol\": 42743595.873103, \"pod order vol\": 11675155.636904, \"total bean vol\": 58269664.778081, \"total pod vol\": 54418751.510007}, {\"timestamp\": \"2022-12-18T00:00:11\", \"season\": 9297, \"variable\": \"pod order vol\", \"value\": 11675155.636904, \"pod listing vol\": 42743595.873103, \"pod order vol\": 11675155.636904, \"total bean vol\": 58269664.778081, \"total pod vol\": 54418751.510007}, {\"timestamp\": \"2022-12-18T00:00:11\", \"season\": 9297, \"variable\": \"pod listing vol\", \"value\": 42743595.873103, \"pod listing vol\": 42743595.873103, \"pod order vol\": 11675155.636904, \"total bean vol\": 58269664.778081, \"total pod vol\": 54418751.510007}, {\"timestamp\": \"2022-12-19T00:00:11\", \"season\": 9321, \"variable\": \"pod listing vol\", \"value\": 43832395.873103, \"pod listing vol\": 43832395.873103, \"pod order vol\": 11675155.636904, \"total bean vol\": 58292161.242933, \"total pod vol\": 55507551.510007}, {\"timestamp\": \"2022-12-19T00:00:11\", \"season\": 9321, \"variable\": \"pod order vol\", \"value\": 11675155.636904, \"pod listing vol\": 43832395.873103, \"pod order vol\": 11675155.636904, \"total bean vol\": 58292161.242933, \"total pod vol\": 55507551.510007}, {\"timestamp\": \"2022-12-19T00:00:11\", \"season\": 9321, \"variable\": \"total bean vol\", \"value\": 58292161.242933, \"pod listing vol\": 43832395.873103, \"pod order vol\": 11675155.636904, \"total bean vol\": 58292161.242933, \"total pod vol\": 55507551.510007}, {\"timestamp\": \"2022-12-19T00:00:11\", \"season\": 9321, \"variable\": \"total pod vol\", \"value\": 55507551.510007, \"pod listing vol\": 43832395.873103, \"pod order vol\": 11675155.636904, \"total bean vol\": 58292161.242933, \"total pod vol\": 55507551.510007}, {\"timestamp\": \"2022-12-20T00:00:11\", \"season\": 9345, \"variable\": \"pod listing vol\", \"value\": 43832395.873103, \"pod listing vol\": 43832395.873103, \"pod order vol\": 11675155.636904, \"total bean vol\": 58452033.242933, \"total pod vol\": 55507551.510007}, {\"timestamp\": \"2022-12-20T00:00:11\", \"season\": 9345, \"variable\": \"pod order vol\", \"value\": 11675155.636904, \"pod listing vol\": 43832395.873103, \"pod order vol\": 11675155.636904, \"total bean vol\": 58452033.242933, \"total pod vol\": 55507551.510007}, {\"timestamp\": \"2022-12-20T00:00:11\", \"season\": 9345, \"variable\": \"total bean vol\", \"value\": 58452033.242933, \"pod listing vol\": 43832395.873103, \"pod order vol\": 11675155.636904, \"total bean vol\": 58452033.242933, \"total pod vol\": 55507551.510007}, {\"timestamp\": \"2022-12-20T00:00:11\", \"season\": 9345, \"variable\": \"total pod vol\", \"value\": 55507551.510007, \"pod listing vol\": 43832395.873103, \"pod order vol\": 11675155.636904, \"total bean vol\": 58452033.242933, \"total pod vol\": 55507551.510007}, {\"timestamp\": \"2022-12-21T00:00:11\", \"season\": 9369, \"variable\": \"pod listing vol\", \"value\": 43832400.847918, \"pod listing vol\": 43832400.847918, \"pod order vol\": 11675155.636904, \"total bean vol\": 58452034.237896, \"total pod vol\": 55507556.484822}, {\"timestamp\": \"2022-12-21T00:00:11\", \"season\": 9369, \"variable\": \"pod order vol\", \"value\": 11675155.636904, \"pod listing vol\": 43832400.847918, \"pod order vol\": 11675155.636904, \"total bean vol\": 58452034.237896, \"total pod vol\": 55507556.484822}, {\"timestamp\": \"2022-12-21T00:00:11\", \"season\": 9369, \"variable\": \"total bean vol\", \"value\": 58452034.237896, \"pod listing vol\": 43832400.847918, \"pod order vol\": 11675155.636904, \"total bean vol\": 58452034.237896, \"total pod vol\": 55507556.484822}, {\"timestamp\": \"2022-12-21T00:00:11\", \"season\": 9369, \"variable\": \"total pod vol\", \"value\": 55507556.484822, \"pod listing vol\": 43832400.847918, \"pod order vol\": 11675155.636904, \"total bean vol\": 58452034.237896, \"total pod vol\": 55507556.484822}, {\"timestamp\": \"2022-12-22T00:00:11\", \"season\": 9393, \"variable\": \"total pod vol\", \"value\": 55507556.484822, \"pod listing vol\": 43832400.847918, \"pod order vol\": 11675155.636904, \"total bean vol\": 58452034.237896, \"total pod vol\": 55507556.484822}, {\"timestamp\": \"2022-12-22T00:00:11\", \"season\": 9393, \"variable\": \"total bean vol\", \"value\": 58452034.237896, \"pod listing vol\": 43832400.847918, \"pod order vol\": 11675155.636904, \"total bean vol\": 58452034.237896, \"total pod vol\": 55507556.484822}, {\"timestamp\": \"2022-12-22T00:00:11\", \"season\": 9393, \"variable\": \"pod order vol\", \"value\": 11675155.636904, \"pod listing vol\": 43832400.847918, \"pod order vol\": 11675155.636904, \"total bean vol\": 58452034.237896, \"total pod vol\": 55507556.484822}, {\"timestamp\": \"2022-12-22T00:00:11\", \"season\": 9393, \"variable\": \"pod listing vol\", \"value\": 43832400.847918, \"pod listing vol\": 43832400.847918, \"pod order vol\": 11675155.636904, \"total bean vol\": 58452034.237896, \"total pod vol\": 55507556.484822}, {\"timestamp\": \"2022-12-23T00:00:11\", \"season\": 9417, \"variable\": \"pod listing vol\", \"value\": 43832400.847918, \"pod listing vol\": 43832400.847918, \"pod order vol\": 11675155.636904, \"total bean vol\": 58452034.237896, \"total pod vol\": 55507556.484822}, {\"timestamp\": \"2022-12-23T00:00:11\", \"season\": 9417, \"variable\": \"pod order vol\", \"value\": 11675155.636904, \"pod listing vol\": 43832400.847918, \"pod order vol\": 11675155.636904, \"total bean vol\": 58452034.237896, \"total pod vol\": 55507556.484822}, {\"timestamp\": \"2022-12-23T00:00:11\", \"season\": 9417, \"variable\": \"total bean vol\", \"value\": 58452034.237896, \"pod listing vol\": 43832400.847918, \"pod order vol\": 11675155.636904, \"total bean vol\": 58452034.237896, \"total pod vol\": 55507556.484822}, {\"timestamp\": \"2022-12-23T00:00:11\", \"season\": 9417, \"variable\": \"total pod vol\", \"value\": 55507556.484822, \"pod listing vol\": 43832400.847918, \"pod order vol\": 11675155.636904, \"total bean vol\": 58452034.237896, \"total pod vol\": 55507556.484822}, {\"timestamp\": \"2022-12-24T00:00:11\", \"season\": 9441, \"variable\": \"pod listing vol\", \"value\": 43832400.847918, \"pod listing vol\": 43832400.847918, \"pod order vol\": 11675155.636904, \"total bean vol\": 58452034.237896, \"total pod vol\": 55507556.484822}, {\"timestamp\": \"2022-12-24T00:00:11\", \"season\": 9441, \"variable\": \"pod order vol\", \"value\": 11675155.636904, \"pod listing vol\": 43832400.847918, \"pod order vol\": 11675155.636904, \"total bean vol\": 58452034.237896, \"total pod vol\": 55507556.484822}, {\"timestamp\": \"2022-12-24T00:00:11\", \"season\": 9441, \"variable\": \"total bean vol\", \"value\": 58452034.237896, \"pod listing vol\": 43832400.847918, \"pod order vol\": 11675155.636904, \"total bean vol\": 58452034.237896, \"total pod vol\": 55507556.484822}, {\"timestamp\": \"2022-12-24T00:00:11\", \"season\": 9441, \"variable\": \"total pod vol\", \"value\": 55507556.484822, \"pod listing vol\": 43832400.847918, \"pod order vol\": 11675155.636904, \"total bean vol\": 58452034.237896, \"total pod vol\": 55507556.484822}, {\"timestamp\": \"2022-12-25T00:00:11\", \"season\": 9465, \"variable\": \"pod listing vol\", \"value\": 43832400.847918, \"pod listing vol\": 43832400.847918, \"pod order vol\": 11675155.636904, \"total bean vol\": 58452034.237896, \"total pod vol\": 55507556.484822}, {\"timestamp\": \"2022-12-25T00:00:11\", \"season\": 9465, \"variable\": \"pod order vol\", \"value\": 11675155.636904, \"pod listing vol\": 43832400.847918, \"pod order vol\": 11675155.636904, \"total bean vol\": 58452034.237896, \"total pod vol\": 55507556.484822}, {\"timestamp\": \"2022-12-25T00:00:11\", \"season\": 9465, \"variable\": \"total bean vol\", \"value\": 58452034.237896, \"pod listing vol\": 43832400.847918, \"pod order vol\": 11675155.636904, \"total bean vol\": 58452034.237896, \"total pod vol\": 55507556.484822}, {\"timestamp\": \"2022-12-25T00:00:11\", \"season\": 9465, \"variable\": \"total pod vol\", \"value\": 55507556.484822, \"pod listing vol\": 43832400.847918, \"pod order vol\": 11675155.636904, \"total bean vol\": 58452034.237896, \"total pod vol\": 55507556.484822}, {\"timestamp\": \"2022-12-26T00:00:11\", \"season\": 9489, \"variable\": \"total pod vol\", \"value\": 55507556.484822, \"pod listing vol\": 43832400.847918, \"pod order vol\": 11675155.636904, \"total bean vol\": 58452034.237896, \"total pod vol\": 55507556.484822}, {\"timestamp\": \"2022-12-26T00:00:11\", \"season\": 9489, \"variable\": \"pod order vol\", \"value\": 11675155.636904, \"pod listing vol\": 43832400.847918, \"pod order vol\": 11675155.636904, \"total bean vol\": 58452034.237896, \"total pod vol\": 55507556.484822}, {\"timestamp\": \"2022-12-26T00:00:11\", \"season\": 9489, \"variable\": \"pod listing vol\", \"value\": 43832400.847918, \"pod listing vol\": 43832400.847918, \"pod order vol\": 11675155.636904, \"total bean vol\": 58452034.237896, \"total pod vol\": 55507556.484822}, {\"timestamp\": \"2022-12-26T00:00:11\", \"season\": 9489, \"variable\": \"total bean vol\", \"value\": 58452034.237896, \"pod listing vol\": 43832400.847918, \"pod order vol\": 11675155.636904, \"total bean vol\": 58452034.237896, \"total pod vol\": 55507556.484822}, {\"timestamp\": \"2022-12-27T00:00:23\", \"season\": 9513, \"variable\": \"pod listing vol\", \"value\": 43832400.847918, \"pod listing vol\": 43832400.847918, \"pod order vol\": 11675155.636904, \"total bean vol\": 58452034.237896, \"total pod vol\": 55507556.484822}, {\"timestamp\": \"2022-12-27T00:00:23\", \"season\": 9513, \"variable\": \"pod order vol\", \"value\": 11675155.636904, \"pod listing vol\": 43832400.847918, \"pod order vol\": 11675155.636904, \"total bean vol\": 58452034.237896, \"total pod vol\": 55507556.484822}, {\"timestamp\": \"2022-12-27T00:00:23\", \"season\": 9513, \"variable\": \"total bean vol\", \"value\": 58452034.237896, \"pod listing vol\": 43832400.847918, \"pod order vol\": 11675155.636904, \"total bean vol\": 58452034.237896, \"total pod vol\": 55507556.484822}, {\"timestamp\": \"2022-12-27T00:00:23\", \"season\": 9513, \"variable\": \"total pod vol\", \"value\": 55507556.484822, \"pod listing vol\": 43832400.847918, \"pod order vol\": 11675155.636904, \"total bean vol\": 58452034.237896, \"total pod vol\": 55507556.484822}, {\"timestamp\": \"2022-12-28T00:00:11\", \"season\": 9537, \"variable\": \"pod listing vol\", \"value\": 43832400.847918, \"pod listing vol\": 43832400.847918, \"pod order vol\": 11675155.636904, \"total bean vol\": 59239654.007265, \"total pod vol\": 55507556.484822}, {\"timestamp\": \"2022-12-28T00:00:11\", \"season\": 9537, \"variable\": \"pod order vol\", \"value\": 11675155.636904, \"pod listing vol\": 43832400.847918, \"pod order vol\": 11675155.636904, \"total bean vol\": 59239654.007265, \"total pod vol\": 55507556.484822}, {\"timestamp\": \"2022-12-28T00:00:11\", \"season\": 9537, \"variable\": \"total bean vol\", \"value\": 59239654.007265, \"pod listing vol\": 43832400.847918, \"pod order vol\": 11675155.636904, \"total bean vol\": 59239654.007265, \"total pod vol\": 55507556.484822}, {\"timestamp\": \"2022-12-28T00:00:11\", \"season\": 9537, \"variable\": \"total pod vol\", \"value\": 55507556.484822, \"pod listing vol\": 43832400.847918, \"pod order vol\": 11675155.636904, \"total bean vol\": 59239654.007265, \"total pod vol\": 55507556.484822}, {\"timestamp\": \"2022-12-29T00:00:23\", \"season\": 9561, \"variable\": \"total pod vol\", \"value\": 55507556.484822, \"pod listing vol\": 43832400.847918, \"pod order vol\": 11675155.636904, \"total bean vol\": 59239654.007265, \"total pod vol\": 55507556.484822}, {\"timestamp\": \"2022-12-29T00:00:23\", \"season\": 9561, \"variable\": \"pod listing vol\", \"value\": 43832400.847918, \"pod listing vol\": 43832400.847918, \"pod order vol\": 11675155.636904, \"total bean vol\": 59239654.007265, \"total pod vol\": 55507556.484822}, {\"timestamp\": \"2022-12-29T00:00:23\", \"season\": 9561, \"variable\": \"pod order vol\", \"value\": 11675155.636904, \"pod listing vol\": 43832400.847918, \"pod order vol\": 11675155.636904, \"total bean vol\": 59239654.007265, \"total pod vol\": 55507556.484822}, {\"timestamp\": \"2022-12-29T00:00:23\", \"season\": 9561, \"variable\": \"total bean vol\", \"value\": 59239654.007265, \"pod listing vol\": 43832400.847918, \"pod order vol\": 11675155.636904, \"total bean vol\": 59239654.007265, \"total pod vol\": 55507556.484822}, {\"timestamp\": \"2022-12-30T00:00:11\", \"season\": 9585, \"variable\": \"total pod vol\", \"value\": 55507556.484822, \"pod listing vol\": 43832400.847918, \"pod order vol\": 11675155.636904, \"total bean vol\": 59239654.007265, \"total pod vol\": 55507556.484822}, {\"timestamp\": \"2022-12-30T00:00:11\", \"season\": 9585, \"variable\": \"total bean vol\", \"value\": 59239654.007265, \"pod listing vol\": 43832400.847918, \"pod order vol\": 11675155.636904, \"total bean vol\": 59239654.007265, \"total pod vol\": 55507556.484822}, {\"timestamp\": \"2022-12-30T00:00:11\", \"season\": 9585, \"variable\": \"pod order vol\", \"value\": 11675155.636904, \"pod listing vol\": 43832400.847918, \"pod order vol\": 11675155.636904, \"total bean vol\": 59239654.007265, \"total pod vol\": 55507556.484822}, {\"timestamp\": \"2022-12-30T00:00:11\", \"season\": 9585, \"variable\": \"pod listing vol\", \"value\": 43832400.847918, \"pod listing vol\": 43832400.847918, \"pod order vol\": 11675155.636904, \"total bean vol\": 59239654.007265, \"total pod vol\": 55507556.484822}, {\"timestamp\": \"2022-12-31T00:00:11\", \"season\": 9609, \"variable\": \"pod listing vol\", \"value\": 43832400.847918, \"pod listing vol\": 43832400.847918, \"pod order vol\": 11675155.636904, \"total bean vol\": 59504572.61608, \"total pod vol\": 55507556.484822}, {\"timestamp\": \"2022-12-31T00:00:11\", \"season\": 9609, \"variable\": \"pod order vol\", \"value\": 11675155.636904, \"pod listing vol\": 43832400.847918, \"pod order vol\": 11675155.636904, \"total bean vol\": 59504572.61608, \"total pod vol\": 55507556.484822}, {\"timestamp\": \"2022-12-31T00:00:11\", \"season\": 9609, \"variable\": \"total bean vol\", \"value\": 59504572.61608, \"pod listing vol\": 43832400.847918, \"pod order vol\": 11675155.636904, \"total bean vol\": 59504572.61608, \"total pod vol\": 55507556.484822}, {\"timestamp\": \"2022-12-31T00:00:11\", \"season\": 9609, \"variable\": \"total pod vol\", \"value\": 55507556.484822, \"pod listing vol\": 43832400.847918, \"pod order vol\": 11675155.636904, \"total bean vol\": 59504572.61608, \"total pod vol\": 55507556.484822}, {\"timestamp\": \"2023-01-01T00:00:11\", \"season\": 9633, \"variable\": \"total pod vol\", \"value\": 55507556.484822, \"pod listing vol\": 43832400.847918, \"pod order vol\": 11675155.636904, \"total bean vol\": 59844075.590476, \"total pod vol\": 55507556.484822}, {\"timestamp\": \"2023-01-01T00:00:11\", \"season\": 9633, \"variable\": \"pod listing vol\", \"value\": 43832400.847918, \"pod listing vol\": 43832400.847918, \"pod order vol\": 11675155.636904, \"total bean vol\": 59844075.590476, \"total pod vol\": 55507556.484822}, {\"timestamp\": \"2023-01-01T00:00:11\", \"season\": 9633, \"variable\": \"pod order vol\", \"value\": 11675155.636904, \"pod listing vol\": 43832400.847918, \"pod order vol\": 11675155.636904, \"total bean vol\": 59844075.590476, \"total pod vol\": 55507556.484822}, {\"timestamp\": \"2023-01-01T00:00:11\", \"season\": 9633, \"variable\": \"total bean vol\", \"value\": 59844075.590476, \"pod listing vol\": 43832400.847918, \"pod order vol\": 11675155.636904, \"total bean vol\": 59844075.590476, \"total pod vol\": 55507556.484822}, {\"timestamp\": \"2023-01-02T00:00:11\", \"season\": 9657, \"variable\": \"pod order vol\", \"value\": 11675155.636904, \"pod listing vol\": 43832400.847918, \"pod order vol\": 11675155.636904, \"total bean vol\": 59844075.590476, \"total pod vol\": 55507556.484822}, {\"timestamp\": \"2023-01-02T00:00:11\", \"season\": 9657, \"variable\": \"total bean vol\", \"value\": 59844075.590476, \"pod listing vol\": 43832400.847918, \"pod order vol\": 11675155.636904, \"total bean vol\": 59844075.590476, \"total pod vol\": 55507556.484822}, {\"timestamp\": \"2023-01-02T00:00:11\", \"season\": 9657, \"variable\": \"pod listing vol\", \"value\": 43832400.847918, \"pod listing vol\": 43832400.847918, \"pod order vol\": 11675155.636904, \"total bean vol\": 59844075.590476, \"total pod vol\": 55507556.484822}, {\"timestamp\": \"2023-01-02T00:00:11\", \"season\": 9657, \"variable\": \"total pod vol\", \"value\": 55507556.484822, \"pod listing vol\": 43832400.847918, \"pod order vol\": 11675155.636904, \"total bean vol\": 59844075.590476, \"total pod vol\": 55507556.484822}, {\"timestamp\": \"2023-01-03T00:00:11\", \"season\": 9681, \"variable\": \"total pod vol\", \"value\": 55507556.484822, \"pod listing vol\": 43832400.847918, \"pod order vol\": 11675155.636904, \"total bean vol\": 59844075.590476, \"total pod vol\": 55507556.484822}, {\"timestamp\": \"2023-01-03T00:00:11\", \"season\": 9681, \"variable\": \"total bean vol\", \"value\": 59844075.590476, \"pod listing vol\": 43832400.847918, \"pod order vol\": 11675155.636904, \"total bean vol\": 59844075.590476, \"total pod vol\": 55507556.484822}, {\"timestamp\": \"2023-01-03T00:00:11\", \"season\": 9681, \"variable\": \"pod order vol\", \"value\": 11675155.636904, \"pod listing vol\": 43832400.847918, \"pod order vol\": 11675155.636904, \"total bean vol\": 59844075.590476, \"total pod vol\": 55507556.484822}, {\"timestamp\": \"2023-01-03T00:00:11\", \"season\": 9681, \"variable\": \"pod listing vol\", \"value\": 43832400.847918, \"pod listing vol\": 43832400.847918, \"pod order vol\": 11675155.636904, \"total bean vol\": 59844075.590476, \"total pod vol\": 55507556.484822}, {\"timestamp\": \"2023-01-04T00:00:11\", \"season\": 9705, \"variable\": \"pod listing vol\", \"value\": 43832400.847918, \"pod listing vol\": 43832400.847918, \"pod order vol\": 11675155.636904, \"total bean vol\": 59844075.590476, \"total pod vol\": 55507556.484822}, {\"timestamp\": \"2023-01-04T00:00:11\", \"season\": 9705, \"variable\": \"pod order vol\", \"value\": 11675155.636904, \"pod listing vol\": 43832400.847918, \"pod order vol\": 11675155.636904, \"total bean vol\": 59844075.590476, \"total pod vol\": 55507556.484822}, {\"timestamp\": \"2023-01-04T00:00:11\", \"season\": 9705, \"variable\": \"total bean vol\", \"value\": 59844075.590476, \"pod listing vol\": 43832400.847918, \"pod order vol\": 11675155.636904, \"total bean vol\": 59844075.590476, \"total pod vol\": 55507556.484822}, {\"timestamp\": \"2023-01-04T00:00:11\", \"season\": 9705, \"variable\": \"total pod vol\", \"value\": 55507556.484822, \"pod listing vol\": 43832400.847918, \"pod order vol\": 11675155.636904, \"total bean vol\": 59844075.590476, \"total pod vol\": 55507556.484822}, {\"timestamp\": \"2023-01-05T00:00:23\", \"season\": 9729, \"variable\": \"pod listing vol\", \"value\": 43832400.847918, \"pod listing vol\": 43832400.847918, \"pod order vol\": 11675155.636904, \"total bean vol\": 59874685.404515, \"total pod vol\": 55507556.484822}, {\"timestamp\": \"2023-01-05T00:00:23\", \"season\": 9729, \"variable\": \"pod order vol\", \"value\": 11675155.636904, \"pod listing vol\": 43832400.847918, \"pod order vol\": 11675155.636904, \"total bean vol\": 59874685.404515, \"total pod vol\": 55507556.484822}, {\"timestamp\": \"2023-01-05T00:00:23\", \"season\": 9729, \"variable\": \"total bean vol\", \"value\": 59874685.404515, \"pod listing vol\": 43832400.847918, \"pod order vol\": 11675155.636904, \"total bean vol\": 59874685.404515, \"total pod vol\": 55507556.484822}, {\"timestamp\": \"2023-01-05T00:00:23\", \"season\": 9729, \"variable\": \"total pod vol\", \"value\": 55507556.484822, \"pod listing vol\": 43832400.847918, \"pod order vol\": 11675155.636904, \"total bean vol\": 59874685.404515, \"total pod vol\": 55507556.484822}, {\"timestamp\": \"2023-01-06T00:00:11\", \"season\": 9753, \"variable\": \"pod listing vol\", \"value\": 43832400.847918, \"pod listing vol\": 43832400.847918, \"pod order vol\": 11675155.636904, \"total bean vol\": 59874685.404515, \"total pod vol\": 55507556.484822}, {\"timestamp\": \"2023-01-06T00:00:11\", \"season\": 9753, \"variable\": \"pod order vol\", \"value\": 11675155.636904, \"pod listing vol\": 43832400.847918, \"pod order vol\": 11675155.636904, \"total bean vol\": 59874685.404515, \"total pod vol\": 55507556.484822}, {\"timestamp\": \"2023-01-06T00:00:11\", \"season\": 9753, \"variable\": \"total bean vol\", \"value\": 59874685.404515, \"pod listing vol\": 43832400.847918, \"pod order vol\": 11675155.636904, \"total bean vol\": 59874685.404515, \"total pod vol\": 55507556.484822}, {\"timestamp\": \"2023-01-06T00:00:11\", \"season\": 9753, \"variable\": \"total pod vol\", \"value\": 55507556.484822, \"pod listing vol\": 43832400.847918, \"pod order vol\": 11675155.636904, \"total bean vol\": 59874685.404515, \"total pod vol\": 55507556.484822}, {\"timestamp\": \"2023-01-07T00:00:11\", \"season\": 9777, \"variable\": \"total pod vol\", \"value\": 55551358.501485, \"pod listing vol\": 43832400.847918, \"pod order vol\": 11718957.653567, \"total bean vol\": 59919144.451427, \"total pod vol\": 55551358.501485}, {\"timestamp\": \"2023-01-07T00:00:11\", \"season\": 9777, \"variable\": \"total bean vol\", \"value\": 59919144.451427, \"pod listing vol\": 43832400.847918, \"pod order vol\": 11718957.653567, \"total bean vol\": 59919144.451427, \"total pod vol\": 55551358.501485}, {\"timestamp\": \"2023-01-07T00:00:11\", \"season\": 9777, \"variable\": \"pod order vol\", \"value\": 11718957.653567, \"pod listing vol\": 43832400.847918, \"pod order vol\": 11718957.653567, \"total bean vol\": 59919144.451427, \"total pod vol\": 55551358.501485}, {\"timestamp\": \"2023-01-07T00:00:11\", \"season\": 9777, \"variable\": \"pod listing vol\", \"value\": 43832400.847918, \"pod listing vol\": 43832400.847918, \"pod order vol\": 11718957.653567, \"total bean vol\": 59919144.451427, \"total pod vol\": 55551358.501485}, {\"timestamp\": \"2023-01-08T00:00:11\", \"season\": 9801, \"variable\": \"pod listing vol\", \"value\": 43832400.847918, \"pod listing vol\": 43832400.847918, \"pod order vol\": 11718957.653567, \"total bean vol\": 59919144.451427, \"total pod vol\": 55551358.501485}, {\"timestamp\": \"2023-01-08T00:00:11\", \"season\": 9801, \"variable\": \"pod order vol\", \"value\": 11718957.653567, \"pod listing vol\": 43832400.847918, \"pod order vol\": 11718957.653567, \"total bean vol\": 59919144.451427, \"total pod vol\": 55551358.501485}, {\"timestamp\": \"2023-01-08T00:00:11\", \"season\": 9801, \"variable\": \"total bean vol\", \"value\": 59919144.451427, \"pod listing vol\": 43832400.847918, \"pod order vol\": 11718957.653567, \"total bean vol\": 59919144.451427, \"total pod vol\": 55551358.501485}, {\"timestamp\": \"2023-01-08T00:00:11\", \"season\": 9801, \"variable\": \"total pod vol\", \"value\": 55551358.501485, \"pod listing vol\": 43832400.847918, \"pod order vol\": 11718957.653567, \"total bean vol\": 59919144.451427, \"total pod vol\": 55551358.501485}, {\"timestamp\": \"2023-01-09T00:00:11\", \"season\": 9825, \"variable\": \"pod listing vol\", \"value\": 43896587.234253, \"pod listing vol\": 43896587.234253, \"pod order vol\": 11718957.653567, \"total bean vol\": 59922420.134763, \"total pod vol\": 55615544.88782}, {\"timestamp\": \"2023-01-09T00:00:11\", \"season\": 9825, \"variable\": \"pod order vol\", \"value\": 11718957.653567, \"pod listing vol\": 43896587.234253, \"pod order vol\": 11718957.653567, \"total bean vol\": 59922420.134763, \"total pod vol\": 55615544.88782}, {\"timestamp\": \"2023-01-09T00:00:11\", \"season\": 9825, \"variable\": \"total bean vol\", \"value\": 59922420.134763, \"pod listing vol\": 43896587.234253, \"pod order vol\": 11718957.653567, \"total bean vol\": 59922420.134763, \"total pod vol\": 55615544.88782}, {\"timestamp\": \"2023-01-09T00:00:11\", \"season\": 9825, \"variable\": \"total pod vol\", \"value\": 55615544.88782, \"pod listing vol\": 43896587.234253, \"pod order vol\": 11718957.653567, \"total bean vol\": 59922420.134763, \"total pod vol\": 55615544.88782}, {\"timestamp\": \"2023-01-10T00:00:11\", \"season\": 9849, \"variable\": \"pod listing vol\", \"value\": 43896587.234253, \"pod listing vol\": 43896587.234253, \"pod order vol\": 11718957.653567, \"total bean vol\": 59936012.788888, \"total pod vol\": 55615544.88782}, {\"timestamp\": \"2023-01-10T00:00:11\", \"season\": 9849, \"variable\": \"pod order vol\", \"value\": 11718957.653567, \"pod listing vol\": 43896587.234253, \"pod order vol\": 11718957.653567, \"total bean vol\": 59936012.788888, \"total pod vol\": 55615544.88782}, {\"timestamp\": \"2023-01-10T00:00:11\", \"season\": 9849, \"variable\": \"total bean vol\", \"value\": 59936012.788888, \"pod listing vol\": 43896587.234253, \"pod order vol\": 11718957.653567, \"total bean vol\": 59936012.788888, \"total pod vol\": 55615544.88782}, {\"timestamp\": \"2023-01-10T00:00:11\", \"season\": 9849, \"variable\": \"total pod vol\", \"value\": 55615544.88782, \"pod listing vol\": 43896587.234253, \"pod order vol\": 11718957.653567, \"total bean vol\": 59936012.788888, \"total pod vol\": 55615544.88782}, {\"timestamp\": \"2023-01-11T00:00:11\", \"season\": 9873, \"variable\": \"total pod vol\", \"value\": 56092983.68137, \"pod listing vol\": 44374026.027803, \"pod order vol\": 11718957.653567, \"total bean vol\": 59945561.564759, \"total pod vol\": 56092983.68137}, {\"timestamp\": \"2023-01-11T00:00:11\", \"season\": 9873, \"variable\": \"total bean vol\", \"value\": 59945561.564759, \"pod listing vol\": 44374026.027803, \"pod order vol\": 11718957.653567, \"total bean vol\": 59945561.564759, \"total pod vol\": 56092983.68137}, {\"timestamp\": \"2023-01-11T00:00:11\", \"season\": 9873, \"variable\": \"pod listing vol\", \"value\": 44374026.027803, \"pod listing vol\": 44374026.027803, \"pod order vol\": 11718957.653567, \"total bean vol\": 59945561.564759, \"total pod vol\": 56092983.68137}, {\"timestamp\": \"2023-01-11T00:00:11\", \"season\": 9873, \"variable\": \"pod order vol\", \"value\": 11718957.653567, \"pod listing vol\": 44374026.027803, \"pod order vol\": 11718957.653567, \"total bean vol\": 59945561.564759, \"total pod vol\": 56092983.68137}, {\"timestamp\": \"2023-01-12T00:00:11\", \"season\": 9897, \"variable\": \"pod listing vol\", \"value\": 44374026.027803, \"pod listing vol\": 44374026.027803, \"pod order vol\": 11718957.653567, \"total bean vol\": 59945561.564759, \"total pod vol\": 56092983.68137}, {\"timestamp\": \"2023-01-12T00:00:11\", \"season\": 9897, \"variable\": \"pod order vol\", \"value\": 11718957.653567, \"pod listing vol\": 44374026.027803, \"pod order vol\": 11718957.653567, \"total bean vol\": 59945561.564759, \"total pod vol\": 56092983.68137}, {\"timestamp\": \"2023-01-12T00:00:11\", \"season\": 9897, \"variable\": \"total bean vol\", \"value\": 59945561.564759, \"pod listing vol\": 44374026.027803, \"pod order vol\": 11718957.653567, \"total bean vol\": 59945561.564759, \"total pod vol\": 56092983.68137}, {\"timestamp\": \"2023-01-12T00:00:11\", \"season\": 9897, \"variable\": \"total pod vol\", \"value\": 56092983.68137, \"pod listing vol\": 44374026.027803, \"pod order vol\": 11718957.653567, \"total bean vol\": 59945561.564759, \"total pod vol\": 56092983.68137}, {\"timestamp\": \"2023-01-13T00:00:11\", \"season\": 9921, \"variable\": \"pod listing vol\", \"value\": 44668500.950192, \"pod listing vol\": 44668500.950192, \"pod order vol\": 11784351.842881, \"total bean vol\": 59952431.976045, \"total pod vol\": 56452852.793073}, {\"timestamp\": \"2023-01-13T00:00:11\", \"season\": 9921, \"variable\": \"pod order vol\", \"value\": 11784351.842881, \"pod listing vol\": 44668500.950192, \"pod order vol\": 11784351.842881, \"total bean vol\": 59952431.976045, \"total pod vol\": 56452852.793073}, {\"timestamp\": \"2023-01-13T00:00:11\", \"season\": 9921, \"variable\": \"total bean vol\", \"value\": 59952431.976045, \"pod listing vol\": 44668500.950192, \"pod order vol\": 11784351.842881, \"total bean vol\": 59952431.976045, \"total pod vol\": 56452852.793073}, {\"timestamp\": \"2023-01-13T00:00:11\", \"season\": 9921, \"variable\": \"total pod vol\", \"value\": 56452852.793073, \"pod listing vol\": 44668500.950192, \"pod order vol\": 11784351.842881, \"total bean vol\": 59952431.976045, \"total pod vol\": 56452852.793073}, {\"timestamp\": \"2023-01-14T00:00:11\", \"season\": 9945, \"variable\": \"pod listing vol\", \"value\": 44761484.970781, \"pod listing vol\": 44761484.970781, \"pod order vol\": 11784351.842881, \"total bean vol\": 59997747.067467, \"total pod vol\": 56545836.813662}, {\"timestamp\": \"2023-01-14T00:00:11\", \"season\": 9945, \"variable\": \"pod order vol\", \"value\": 11784351.842881, \"pod listing vol\": 44761484.970781, \"pod order vol\": 11784351.842881, \"total bean vol\": 59997747.067467, \"total pod vol\": 56545836.813662}, {\"timestamp\": \"2023-01-14T00:00:11\", \"season\": 9945, \"variable\": \"total bean vol\", \"value\": 59997747.067467, \"pod listing vol\": 44761484.970781, \"pod order vol\": 11784351.842881, \"total bean vol\": 59997747.067467, \"total pod vol\": 56545836.813662}, {\"timestamp\": \"2023-01-14T00:00:11\", \"season\": 9945, \"variable\": \"total pod vol\", \"value\": 56545836.813662, \"pod listing vol\": 44761484.970781, \"pod order vol\": 11784351.842881, \"total bean vol\": 59997747.067467, \"total pod vol\": 56545836.813662}, {\"timestamp\": \"2023-01-15T00:00:11\", \"season\": 9969, \"variable\": \"pod order vol\", \"value\": 11784351.842881, \"pod listing vol\": 44761484.970781, \"pod order vol\": 11784351.842881, \"total bean vol\": 60016742.183219, \"total pod vol\": 56545836.813662}, {\"timestamp\": \"2023-01-15T00:00:11\", \"season\": 9969, \"variable\": \"total pod vol\", \"value\": 56545836.813662, \"pod listing vol\": 44761484.970781, \"pod order vol\": 11784351.842881, \"total bean vol\": 60016742.183219, \"total pod vol\": 56545836.813662}, {\"timestamp\": \"2023-01-15T00:00:11\", \"season\": 9969, \"variable\": \"pod listing vol\", \"value\": 44761484.970781, \"pod listing vol\": 44761484.970781, \"pod order vol\": 11784351.842881, \"total bean vol\": 60016742.183219, \"total pod vol\": 56545836.813662}, {\"timestamp\": \"2023-01-15T00:00:11\", \"season\": 9969, \"variable\": \"total bean vol\", \"value\": 60016742.183219, \"pod listing vol\": 44761484.970781, \"pod order vol\": 11784351.842881, \"total bean vol\": 60016742.183219, \"total pod vol\": 56545836.813662}, {\"timestamp\": \"2023-01-16T00:00:11\", \"season\": 9993, \"variable\": \"pod listing vol\", \"value\": 44761484.970781, \"pod listing vol\": 44761484.970781, \"pod order vol\": 11784351.842881, \"total bean vol\": 60016742.183219, \"total pod vol\": 56545836.813662}, {\"timestamp\": \"2023-01-16T00:00:11\", \"season\": 9993, \"variable\": \"pod order vol\", \"value\": 11784351.842881, \"pod listing vol\": 44761484.970781, \"pod order vol\": 11784351.842881, \"total bean vol\": 60016742.183219, \"total pod vol\": 56545836.813662}, {\"timestamp\": \"2023-01-16T00:00:11\", \"season\": 9993, \"variable\": \"total bean vol\", \"value\": 60016742.183219, \"pod listing vol\": 44761484.970781, \"pod order vol\": 11784351.842881, \"total bean vol\": 60016742.183219, \"total pod vol\": 56545836.813662}, {\"timestamp\": \"2023-01-16T00:00:11\", \"season\": 9993, \"variable\": \"total pod vol\", \"value\": 56545836.813662, \"pod listing vol\": 44761484.970781, \"pod order vol\": 11784351.842881, \"total bean vol\": 60016742.183219, \"total pod vol\": 56545836.813662}, {\"timestamp\": \"2023-01-17T00:00:11\", \"season\": 10017, \"variable\": \"pod listing vol\", \"value\": 44797798.016862, \"pod listing vol\": 44797798.016862, \"pod order vol\": 11810146.244306, \"total bean vol\": 60019600.953528, \"total pod vol\": 56607944.261168}, {\"timestamp\": \"2023-01-17T00:00:11\", \"season\": 10017, \"variable\": \"pod order vol\", \"value\": 11810146.244306, \"pod listing vol\": 44797798.016862, \"pod order vol\": 11810146.244306, \"total bean vol\": 60019600.953528, \"total pod vol\": 56607944.261168}, {\"timestamp\": \"2023-01-17T00:00:11\", \"season\": 10017, \"variable\": \"total bean vol\", \"value\": 60019600.953528, \"pod listing vol\": 44797798.016862, \"pod order vol\": 11810146.244306, \"total bean vol\": 60019600.953528, \"total pod vol\": 56607944.261168}, {\"timestamp\": \"2023-01-17T00:00:11\", \"season\": 10017, \"variable\": \"total pod vol\", \"value\": 56607944.261168, \"pod listing vol\": 44797798.016862, \"pod order vol\": 11810146.244306, \"total bean vol\": 60019600.953528, \"total pod vol\": 56607944.261168}, {\"timestamp\": \"2023-01-18T00:00:11\", \"season\": 10041, \"variable\": \"total bean vol\", \"value\": 60221461.939335, \"pod listing vol\": 44797798.016862, \"pod order vol\": 12090417.259054, \"total bean vol\": 60221461.939335, \"total pod vol\": 56888215.275916}, {\"timestamp\": \"2023-01-18T00:00:11\", \"season\": 10041, \"variable\": \"pod listing vol\", \"value\": 44797798.016862, \"pod listing vol\": 44797798.016862, \"pod order vol\": 12090417.259054, \"total bean vol\": 60221461.939335, \"total pod vol\": 56888215.275916}, {\"timestamp\": \"2023-01-18T00:00:11\", \"season\": 10041, \"variable\": \"pod order vol\", \"value\": 12090417.259054, \"pod listing vol\": 44797798.016862, \"pod order vol\": 12090417.259054, \"total bean vol\": 60221461.939335, \"total pod vol\": 56888215.275916}, {\"timestamp\": \"2023-01-18T00:00:11\", \"season\": 10041, \"variable\": \"total pod vol\", \"value\": 56888215.275916, \"pod listing vol\": 44797798.016862, \"pod order vol\": 12090417.259054, \"total bean vol\": 60221461.939335, \"total pod vol\": 56888215.275916}, {\"timestamp\": \"2023-01-19T00:00:11\", \"season\": 10065, \"variable\": \"total pod vol\", \"value\": 56888215.275916, \"pod listing vol\": 44797798.016862, \"pod order vol\": 12090417.259054, \"total bean vol\": 60221461.939335, \"total pod vol\": 56888215.275916}, {\"timestamp\": \"2023-01-19T00:00:11\", \"season\": 10065, \"variable\": \"total bean vol\", \"value\": 60221461.939335, \"pod listing vol\": 44797798.016862, \"pod order vol\": 12090417.259054, \"total bean vol\": 60221461.939335, \"total pod vol\": 56888215.275916}, {\"timestamp\": \"2023-01-19T00:00:11\", \"season\": 10065, \"variable\": \"pod order vol\", \"value\": 12090417.259054, \"pod listing vol\": 44797798.016862, \"pod order vol\": 12090417.259054, \"total bean vol\": 60221461.939335, \"total pod vol\": 56888215.275916}, {\"timestamp\": \"2023-01-19T00:00:11\", \"season\": 10065, \"variable\": \"pod listing vol\", \"value\": 44797798.016862, \"pod listing vol\": 44797798.016862, \"pod order vol\": 12090417.259054, \"total bean vol\": 60221461.939335, \"total pod vol\": 56888215.275916}, {\"timestamp\": \"2023-01-20T00:00:11\", \"season\": 10089, \"variable\": \"pod listing vol\", \"value\": 44797798.016862, \"pod listing vol\": 44797798.016862, \"pod order vol\": 12148105.463654, \"total bean vol\": 60223481.026496, \"total pod vol\": 56945903.480516}, {\"timestamp\": \"2023-01-20T00:00:11\", \"season\": 10089, \"variable\": \"pod order vol\", \"value\": 12148105.463654, \"pod listing vol\": 44797798.016862, \"pod order vol\": 12148105.463654, \"total bean vol\": 60223481.026496, \"total pod vol\": 56945903.480516}, {\"timestamp\": \"2023-01-20T00:00:11\", \"season\": 10089, \"variable\": \"total bean vol\", \"value\": 60223481.026496, \"pod listing vol\": 44797798.016862, \"pod order vol\": 12148105.463654, \"total bean vol\": 60223481.026496, \"total pod vol\": 56945903.480516}, {\"timestamp\": \"2023-01-20T00:00:11\", \"season\": 10089, \"variable\": \"total pod vol\", \"value\": 56945903.480516, \"pod listing vol\": 44797798.016862, \"pod order vol\": 12148105.463654, \"total bean vol\": 60223481.026496, \"total pod vol\": 56945903.480516}, {\"timestamp\": \"2023-01-21T00:00:11\", \"season\": 10113, \"variable\": \"pod listing vol\", \"value\": 44845202.140162, \"pod listing vol\": 44845202.140162, \"pod order vol\": 12171061.071737, \"total bean vol\": 60224674.798156, \"total pod vol\": 57016263.211899}, {\"timestamp\": \"2023-01-21T00:00:11\", \"season\": 10113, \"variable\": \"pod order vol\", \"value\": 12171061.071737, \"pod listing vol\": 44845202.140162, \"pod order vol\": 12171061.071737, \"total bean vol\": 60224674.798156, \"total pod vol\": 57016263.211899}, {\"timestamp\": \"2023-01-21T00:00:11\", \"season\": 10113, \"variable\": \"total bean vol\", \"value\": 60224674.798156, \"pod listing vol\": 44845202.140162, \"pod order vol\": 12171061.071737, \"total bean vol\": 60224674.798156, \"total pod vol\": 57016263.211899}, {\"timestamp\": \"2023-01-21T00:00:11\", \"season\": 10113, \"variable\": \"total pod vol\", \"value\": 57016263.211899, \"pod listing vol\": 44845202.140162, \"pod order vol\": 12171061.071737, \"total bean vol\": 60224674.798156, \"total pod vol\": 57016263.211899}, {\"timestamp\": \"2023-01-22T00:00:11\", \"season\": 10137, \"variable\": \"pod listing vol\", \"value\": 44845202.140162, \"pod listing vol\": 44845202.140162, \"pod order vol\": 12171061.071737, \"total bean vol\": 60224676.941488, \"total pod vol\": 57016263.211899}, {\"timestamp\": \"2023-01-22T00:00:11\", \"season\": 10137, \"variable\": \"pod order vol\", \"value\": 12171061.071737, \"pod listing vol\": 44845202.140162, \"pod order vol\": 12171061.071737, \"total bean vol\": 60224676.941488, \"total pod vol\": 57016263.211899}, {\"timestamp\": \"2023-01-22T00:00:11\", \"season\": 10137, \"variable\": \"total bean vol\", \"value\": 60224676.941488, \"pod listing vol\": 44845202.140162, \"pod order vol\": 12171061.071737, \"total bean vol\": 60224676.941488, \"total pod vol\": 57016263.211899}, {\"timestamp\": \"2023-01-22T00:00:11\", \"season\": 10137, \"variable\": \"total pod vol\", \"value\": 57016263.211899, \"pod listing vol\": 44845202.140162, \"pod order vol\": 12171061.071737, \"total bean vol\": 60224676.941488, \"total pod vol\": 57016263.211899}, {\"timestamp\": \"2023-01-23T00:00:11\", \"season\": 10161, \"variable\": \"total pod vol\", \"value\": 57098227.556051, \"pod listing vol\": 44845202.140162, \"pod order vol\": 12253025.415889, \"total bean vol\": 60657164.973075, \"total pod vol\": 57098227.556051}, {\"timestamp\": \"2023-01-23T00:00:11\", \"season\": 10161, \"variable\": \"total bean vol\", \"value\": 60657164.973075, \"pod listing vol\": 44845202.140162, \"pod order vol\": 12253025.415889, \"total bean vol\": 60657164.973075, \"total pod vol\": 57098227.556051}, {\"timestamp\": \"2023-01-23T00:00:11\", \"season\": 10161, \"variable\": \"pod listing vol\", \"value\": 44845202.140162, \"pod listing vol\": 44845202.140162, \"pod order vol\": 12253025.415889, \"total bean vol\": 60657164.973075, \"total pod vol\": 57098227.556051}, {\"timestamp\": \"2023-01-23T00:00:11\", \"season\": 10161, \"variable\": \"pod order vol\", \"value\": 12253025.415889, \"pod listing vol\": 44845202.140162, \"pod order vol\": 12253025.415889, \"total bean vol\": 60657164.973075, \"total pod vol\": 57098227.556051}, {\"timestamp\": \"2023-01-24T00:00:35\", \"season\": 10185, \"variable\": \"pod listing vol\", \"value\": 44845202.140162, \"pod listing vol\": 44845202.140162, \"pod order vol\": 13081839.880087, \"total bean vol\": 60665866.580592, \"total pod vol\": 57927042.020249}, {\"timestamp\": \"2023-01-24T00:00:35\", \"season\": 10185, \"variable\": \"pod order vol\", \"value\": 13081839.880087, \"pod listing vol\": 44845202.140162, \"pod order vol\": 13081839.880087, \"total bean vol\": 60665866.580592, \"total pod vol\": 57927042.020249}, {\"timestamp\": \"2023-01-24T00:00:35\", \"season\": 10185, \"variable\": \"total bean vol\", \"value\": 60665866.580592, \"pod listing vol\": 44845202.140162, \"pod order vol\": 13081839.880087, \"total bean vol\": 60665866.580592, \"total pod vol\": 57927042.020249}, {\"timestamp\": \"2023-01-24T00:00:35\", \"season\": 10185, \"variable\": \"total pod vol\", \"value\": 57927042.020249, \"pod listing vol\": 44845202.140162, \"pod order vol\": 13081839.880087, \"total bean vol\": 60665866.580592, \"total pod vol\": 57927042.020249}, {\"timestamp\": \"2023-01-25T00:00:11\", \"season\": 10209, \"variable\": \"pod listing vol\", \"value\": 44845202.140162, \"pod listing vol\": 44845202.140162, \"pod order vol\": 13081839.880087, \"total bean vol\": 60665866.580592, \"total pod vol\": 57927042.020249}, {\"timestamp\": \"2023-01-25T00:00:11\", \"season\": 10209, \"variable\": \"pod order vol\", \"value\": 13081839.880087, \"pod listing vol\": 44845202.140162, \"pod order vol\": 13081839.880087, \"total bean vol\": 60665866.580592, \"total pod vol\": 57927042.020249}, {\"timestamp\": \"2023-01-25T00:00:11\", \"season\": 10209, \"variable\": \"total bean vol\", \"value\": 60665866.580592, \"pod listing vol\": 44845202.140162, \"pod order vol\": 13081839.880087, \"total bean vol\": 60665866.580592, \"total pod vol\": 57927042.020249}, {\"timestamp\": \"2023-01-25T00:00:11\", \"season\": 10209, \"variable\": \"total pod vol\", \"value\": 57927042.020249, \"pod listing vol\": 44845202.140162, \"pod order vol\": 13081839.880087, \"total bean vol\": 60665866.580592, \"total pod vol\": 57927042.020249}, {\"timestamp\": \"2023-01-26T00:00:11\", \"season\": 10233, \"variable\": \"pod listing vol\", \"value\": 44845202.140162, \"pod listing vol\": 44845202.140162, \"pod order vol\": 13200330.608174, \"total bean vol\": 60667181.827673, \"total pod vol\": 58045532.748336}, {\"timestamp\": \"2023-01-26T00:00:11\", \"season\": 10233, \"variable\": \"pod order vol\", \"value\": 13200330.608174, \"pod listing vol\": 44845202.140162, \"pod order vol\": 13200330.608174, \"total bean vol\": 60667181.827673, \"total pod vol\": 58045532.748336}, {\"timestamp\": \"2023-01-26T00:00:11\", \"season\": 10233, \"variable\": \"total bean vol\", \"value\": 60667181.827673, \"pod listing vol\": 44845202.140162, \"pod order vol\": 13200330.608174, \"total bean vol\": 60667181.827673, \"total pod vol\": 58045532.748336}, {\"timestamp\": \"2023-01-26T00:00:11\", \"season\": 10233, \"variable\": \"total pod vol\", \"value\": 58045532.748336, \"pod listing vol\": 44845202.140162, \"pod order vol\": 13200330.608174, \"total bean vol\": 60667181.827673, \"total pod vol\": 58045532.748336}, {\"timestamp\": \"2023-01-27T00:00:11\", \"season\": 10257, \"variable\": \"total pod vol\", \"value\": 58095532.748336, \"pod listing vol\": 44895202.140162, \"pod order vol\": 13200330.608174, \"total bean vol\": 60719681.827673, \"total pod vol\": 58095532.748336}, {\"timestamp\": \"2023-01-27T00:00:11\", \"season\": 10257, \"variable\": \"total bean vol\", \"value\": 60719681.827673, \"pod listing vol\": 44895202.140162, \"pod order vol\": 13200330.608174, \"total bean vol\": 60719681.827673, \"total pod vol\": 58095532.748336}, {\"timestamp\": \"2023-01-27T00:00:11\", \"season\": 10257, \"variable\": \"pod order vol\", \"value\": 13200330.608174, \"pod listing vol\": 44895202.140162, \"pod order vol\": 13200330.608174, \"total bean vol\": 60719681.827673, \"total pod vol\": 58095532.748336}, {\"timestamp\": \"2023-01-27T00:00:11\", \"season\": 10257, \"variable\": \"pod listing vol\", \"value\": 44895202.140162, \"pod listing vol\": 44895202.140162, \"pod order vol\": 13200330.608174, \"total bean vol\": 60719681.827673, \"total pod vol\": 58095532.748336}, {\"timestamp\": \"2023-01-28T00:00:11\", \"season\": 10281, \"variable\": \"pod listing vol\", \"value\": 44895202.140162, \"pod listing vol\": 44895202.140162, \"pod order vol\": 13200330.608174, \"total bean vol\": 60719681.827673, \"total pod vol\": 58095532.748336}, {\"timestamp\": \"2023-01-28T00:00:11\", \"season\": 10281, \"variable\": \"pod order vol\", \"value\": 13200330.608174, \"pod listing vol\": 44895202.140162, \"pod order vol\": 13200330.608174, \"total bean vol\": 60719681.827673, \"total pod vol\": 58095532.748336}, {\"timestamp\": \"2023-01-28T00:00:11\", \"season\": 10281, \"variable\": \"total bean vol\", \"value\": 60719681.827673, \"pod listing vol\": 44895202.140162, \"pod order vol\": 13200330.608174, \"total bean vol\": 60719681.827673, \"total pod vol\": 58095532.748336}, {\"timestamp\": \"2023-01-28T00:00:11\", \"season\": 10281, \"variable\": \"total pod vol\", \"value\": 58095532.748336, \"pod listing vol\": 44895202.140162, \"pod order vol\": 13200330.608174, \"total bean vol\": 60719681.827673, \"total pod vol\": 58095532.748336}, {\"timestamp\": \"2023-01-29T00:00:11\", \"season\": 10305, \"variable\": \"pod listing vol\", \"value\": 44895202.140162, \"pod listing vol\": 44895202.140162, \"pod order vol\": 13200330.608174, \"total bean vol\": 60737532.89743, \"total pod vol\": 58095532.748336}, {\"timestamp\": \"2023-01-29T00:00:11\", \"season\": 10305, \"variable\": \"pod order vol\", \"value\": 13200330.608174, \"pod listing vol\": 44895202.140162, \"pod order vol\": 13200330.608174, \"total bean vol\": 60737532.89743, \"total pod vol\": 58095532.748336}, {\"timestamp\": \"2023-01-29T00:00:11\", \"season\": 10305, \"variable\": \"total bean vol\", \"value\": 60737532.89743, \"pod listing vol\": 44895202.140162, \"pod order vol\": 13200330.608174, \"total bean vol\": 60737532.89743, \"total pod vol\": 58095532.748336}, {\"timestamp\": \"2023-01-29T00:00:11\", \"season\": 10305, \"variable\": \"total pod vol\", \"value\": 58095532.748336, \"pod listing vol\": 44895202.140162, \"pod order vol\": 13200330.608174, \"total bean vol\": 60737532.89743, \"total pod vol\": 58095532.748336}, {\"timestamp\": \"2023-01-30T00:00:11\", \"season\": 10329, \"variable\": \"pod listing vol\", \"value\": 44895202.140162, \"pod listing vol\": 44895202.140162, \"pod order vol\": 13216847.608174, \"total bean vol\": 60738358.74743, \"total pod vol\": 58112049.748336}, {\"timestamp\": \"2023-01-30T00:00:11\", \"season\": 10329, \"variable\": \"pod order vol\", \"value\": 13216847.608174, \"pod listing vol\": 44895202.140162, \"pod order vol\": 13216847.608174, \"total bean vol\": 60738358.74743, \"total pod vol\": 58112049.748336}, {\"timestamp\": \"2023-01-30T00:00:11\", \"season\": 10329, \"variable\": \"total bean vol\", \"value\": 60738358.74743, \"pod listing vol\": 44895202.140162, \"pod order vol\": 13216847.608174, \"total bean vol\": 60738358.74743, \"total pod vol\": 58112049.748336}, {\"timestamp\": \"2023-01-30T00:00:11\", \"season\": 10329, \"variable\": \"total pod vol\", \"value\": 58112049.748336, \"pod listing vol\": 44895202.140162, \"pod order vol\": 13216847.608174, \"total bean vol\": 60738358.74743, \"total pod vol\": 58112049.748336}, {\"timestamp\": \"2023-01-31T00:00:11\", \"season\": 10353, \"variable\": \"total pod vol\", \"value\": 58112049.748336, \"pod listing vol\": 44895202.140162, \"pod order vol\": 13216847.608174, \"total bean vol\": 60738358.74743, \"total pod vol\": 58112049.748336}, {\"timestamp\": \"2023-01-31T00:00:11\", \"season\": 10353, \"variable\": \"total bean vol\", \"value\": 60738358.74743, \"pod listing vol\": 44895202.140162, \"pod order vol\": 13216847.608174, \"total bean vol\": 60738358.74743, \"total pod vol\": 58112049.748336}, {\"timestamp\": \"2023-01-31T00:00:11\", \"season\": 10353, \"variable\": \"pod order vol\", \"value\": 13216847.608174, \"pod listing vol\": 44895202.140162, \"pod order vol\": 13216847.608174, \"total bean vol\": 60738358.74743, \"total pod vol\": 58112049.748336}, {\"timestamp\": \"2023-01-31T00:00:11\", \"season\": 10353, \"variable\": \"pod listing vol\", \"value\": 44895202.140162, \"pod listing vol\": 44895202.140162, \"pod order vol\": 13216847.608174, \"total bean vol\": 60738358.74743, \"total pod vol\": 58112049.748336}, {\"timestamp\": \"2023-02-01T00:00:11\", \"season\": 10377, \"variable\": \"pod listing vol\", \"value\": 45416861.486223, \"pod listing vol\": 45416861.486223, \"pod order vol\": 13216847.608174, \"total bean vol\": 60820993.645382, \"total pod vol\": 58633709.094397}, {\"timestamp\": \"2023-02-01T00:00:11\", \"season\": 10377, \"variable\": \"pod order vol\", \"value\": 13216847.608174, \"pod listing vol\": 45416861.486223, \"pod order vol\": 13216847.608174, \"total bean vol\": 60820993.645382, \"total pod vol\": 58633709.094397}, {\"timestamp\": \"2023-02-01T00:00:11\", \"season\": 10377, \"variable\": \"total bean vol\", \"value\": 60820993.645382, \"pod listing vol\": 45416861.486223, \"pod order vol\": 13216847.608174, \"total bean vol\": 60820993.645382, \"total pod vol\": 58633709.094397}, {\"timestamp\": \"2023-02-01T00:00:11\", \"season\": 10377, \"variable\": \"total pod vol\", \"value\": 58633709.094397, \"pod listing vol\": 45416861.486223, \"pod order vol\": 13216847.608174, \"total bean vol\": 60820993.645382, \"total pod vol\": 58633709.094397}, {\"timestamp\": \"2023-02-02T00:00:11\", \"season\": 10401, \"variable\": \"pod listing vol\", \"value\": 45465220.838391, \"pod listing vol\": 45465220.838391, \"pod order vol\": 13467197.462035, \"total bean vol\": 60836067.300608, \"total pod vol\": 58932418.300426}, {\"timestamp\": \"2023-02-02T00:00:11\", \"season\": 10401, \"variable\": \"pod order vol\", \"value\": 13467197.462035, \"pod listing vol\": 45465220.838391, \"pod order vol\": 13467197.462035, \"total bean vol\": 60836067.300608, \"total pod vol\": 58932418.300426}, {\"timestamp\": \"2023-02-02T00:00:11\", \"season\": 10401, \"variable\": \"total bean vol\", \"value\": 60836067.300608, \"pod listing vol\": 45465220.838391, \"pod order vol\": 13467197.462035, \"total bean vol\": 60836067.300608, \"total pod vol\": 58932418.300426}, {\"timestamp\": \"2023-02-02T00:00:11\", \"season\": 10401, \"variable\": \"total pod vol\", \"value\": 58932418.300426, \"pod listing vol\": 45465220.838391, \"pod order vol\": 13467197.462035, \"total bean vol\": 60836067.300608, \"total pod vol\": 58932418.300426}, {\"timestamp\": \"2023-02-03T00:00:11\", \"season\": 10422, \"variable\": \"pod listing vol\", \"value\": 45465220.838391, \"pod listing vol\": 45465220.838391, \"pod order vol\": 13475207.040745, \"total bean vol\": 60836156.206931, \"total pod vol\": 58940427.879136}, {\"timestamp\": \"2023-02-03T00:00:11\", \"season\": 10422, \"variable\": \"pod order vol\", \"value\": 13475207.040745, \"pod listing vol\": 45465220.838391, \"pod order vol\": 13475207.040745, \"total bean vol\": 60836156.206931, \"total pod vol\": 58940427.879136}, {\"timestamp\": \"2023-02-03T00:00:11\", \"season\": 10422, \"variable\": \"total bean vol\", \"value\": 60836156.206931, \"pod listing vol\": 45465220.838391, \"pod order vol\": 13475207.040745, \"total bean vol\": 60836156.206931, \"total pod vol\": 58940427.879136}, {\"timestamp\": \"2023-02-03T00:00:11\", \"season\": 10422, \"variable\": \"total pod vol\", \"value\": 58940427.879136, \"pod listing vol\": 45465220.838391, \"pod order vol\": 13475207.040745, \"total bean vol\": 60836156.206931, \"total pod vol\": 58940427.879136}]}}, {\"mode\": \"vega-lite\"});\n",
       "</script>"
      ],
      "text/plain": [
       "alt.LayerChart(...)"
      ]
     },
     "execution_count": 18,
     "metadata": {},
     "output_type": "execute_result"
    }
   ],
   "source": [
    "colors = {\n",
    "    'pod listing vol': '#B5E48C', # light green yellow \n",
    "    'pod order vol': '#52B69A', # light blue green \n",
    "    'total bean vol': '#168AAD', # darker blue\n",
    "    'total pod vol': '#184E77', # mid blue \n",
    "}\n",
    "c = chart(\n",
    "    df_snaps, \n",
    "    \"timestamp\", \n",
    "    lmetrics=['pod listing vol', 'pod order vol', 'total bean vol', 'total pod vol'], \n",
    "    lstrategy=[\"stack_area\", \"stack_area\", \"stack_area\", \"line\"],\n",
    "    title=\"Farmer's Market Volume\", \n",
    "    yaxis_left_kwargs=dict(title=\"Volume\", format=\".3~s\"), \n",
    "    colors=colors, \n",
    ")\n",
    "\n",
    "css_lines = css_tooltip_timeseries_multi_colored(value_vars, colors) \n",
    "css = \"\\n\".join(css_lines)\n",
    "\n",
    "apply_css(\"\")\n",
    "# apply_css(css)\n",
    "\n",
    "c"
   ]
  },
  {
   "cell_type": "code",
   "execution_count": 19,
   "id": "a3a0694b",
   "metadata": {},
   "outputs": [
    {
     "data": {
      "application/json": {
       "css": "#vg-tooltip-element tr:nth-child(1) { font-weight: bold }\n#vg-tooltip-element tr:nth-child(1) td:first-child { opacity: 0 }\n\n#vg-tooltip-element tr:nth-child(2) td:first-child { color: #B5E48C; font-weight: bold; }\n\n#vg-tooltip-element tr:nth-child(3) td:first-child { color: #52B69A; font-weight: bold; }\n\n#vg-tooltip-element tr:nth-child(4) td:first-child { color: #168AAD; font-weight: bold; }\n\n#vg-tooltip-element tr:nth-child(5) td:first-child { color: #184E77; font-weight: bold; }\n",
       "spec": {
        "$schema": "https://vega.github.io/schema/vega-lite/v4.17.0.json",
        "config": {
         "view": {
          "continuousHeight": 300,
          "continuousWidth": 400
         }
        },
        "data": {
         "name": "data-5900b1ab4a25a3e92becc6b372d35acd"
        },
        "datasets": {
         "data-5900b1ab4a25a3e92becc6b372d35acd": [
          {
           "pod listing vol": 168079.947589,
           "pod order vol": 69477.354604,
           "season": 4405,
           "timestamp": "2022-02-06T00:00:11",
           "total bean vol": 1150518.611355,
           "total pod vol": 237557.302193,
           "value": 168079.947589,
           "variable": "pod listing vol"
          },
          {
           "pod listing vol": 168079.947589,
           "pod order vol": 69477.354604,
           "season": 4405,
           "timestamp": "2022-02-06T00:00:11",
           "total bean vol": 1150518.611355,
           "total pod vol": 237557.302193,
           "value": 69477.354604,
           "variable": "pod order vol"
          },
          {
           "pod listing vol": 168079.947589,
           "pod order vol": 69477.354604,
           "season": 4405,
           "timestamp": "2022-02-06T00:00:11",
           "total bean vol": 1150518.611355,
           "total pod vol": 237557.302193,
           "value": 1150518.611355,
           "variable": "total bean vol"
          },
          {
           "pod listing vol": 168079.947589,
           "pod order vol": 69477.354604,
           "season": 4405,
           "timestamp": "2022-02-06T00:00:11",
           "total bean vol": 1150518.611355,
           "total pod vol": 237557.302193,
           "value": 237557.302193,
           "variable": "total pod vol"
          },
          {
           "pod listing vol": 277435.017194,
           "pod order vol": 229091.907755,
           "season": 4429,
           "timestamp": "2022-02-07T00:00:02",
           "total bean vol": 1868572.280147,
           "total pod vol": 506526.924949,
           "value": 277435.017194,
           "variable": "pod listing vol"
          },
          {
           "pod listing vol": 277435.017194,
           "pod order vol": 229091.907755,
           "season": 4429,
           "timestamp": "2022-02-07T00:00:02",
           "total bean vol": 1868572.280147,
           "total pod vol": 506526.924949,
           "value": 229091.907755,
           "variable": "pod order vol"
          },
          {
           "pod listing vol": 277435.017194,
           "pod order vol": 229091.907755,
           "season": 4429,
           "timestamp": "2022-02-07T00:00:02",
           "total bean vol": 1868572.280147,
           "total pod vol": 506526.924949,
           "value": 1868572.280147,
           "variable": "total bean vol"
          },
          {
           "pod listing vol": 277435.017194,
           "pod order vol": 229091.907755,
           "season": 4429,
           "timestamp": "2022-02-07T00:00:02",
           "total bean vol": 1868572.280147,
           "total pod vol": 506526.924949,
           "value": 506526.924949,
           "variable": "total pod vol"
          },
          {
           "pod listing vol": 281245.766971,
           "pod order vol": 291926.816553,
           "season": 4453,
           "timestamp": "2022-02-08T00:00:30",
           "total bean vol": 2398642.147838,
           "total pod vol": 573172.583524,
           "value": 281245.766971,
           "variable": "pod listing vol"
          },
          {
           "pod listing vol": 281245.766971,
           "pod order vol": 291926.816553,
           "season": 4453,
           "timestamp": "2022-02-08T00:00:30",
           "total bean vol": 2398642.147838,
           "total pod vol": 573172.583524,
           "value": 291926.816553,
           "variable": "pod order vol"
          },
          {
           "pod listing vol": 281245.766971,
           "pod order vol": 291926.816553,
           "season": 4453,
           "timestamp": "2022-02-08T00:00:30",
           "total bean vol": 2398642.147838,
           "total pod vol": 573172.583524,
           "value": 2398642.147838,
           "variable": "total bean vol"
          },
          {
           "pod listing vol": 281245.766971,
           "pod order vol": 291926.816553,
           "season": 4453,
           "timestamp": "2022-02-08T00:00:30",
           "total bean vol": 2398642.147838,
           "total pod vol": 573172.583524,
           "value": 573172.583524,
           "variable": "total pod vol"
          },
          {
           "pod listing vol": 293245.766971,
           "pod order vol": 291926.816553,
           "season": 4477,
           "timestamp": "2022-02-09T00:00:10",
           "total bean vol": 3129505.935636,
           "total pod vol": 585172.583524,
           "value": 585172.583524,
           "variable": "total pod vol"
          },
          {
           "pod listing vol": 293245.766971,
           "pod order vol": 291926.816553,
           "season": 4477,
           "timestamp": "2022-02-09T00:00:10",
           "total bean vol": 3129505.935636,
           "total pod vol": 585172.583524,
           "value": 3129505.935636,
           "variable": "total bean vol"
          },
          {
           "pod listing vol": 293245.766971,
           "pod order vol": 291926.816553,
           "season": 4477,
           "timestamp": "2022-02-09T00:00:10",
           "total bean vol": 3129505.935636,
           "total pod vol": 585172.583524,
           "value": 293245.766971,
           "variable": "pod listing vol"
          },
          {
           "pod listing vol": 293245.766971,
           "pod order vol": 291926.816553,
           "season": 4477,
           "timestamp": "2022-02-09T00:00:10",
           "total bean vol": 3129505.935636,
           "total pod vol": 585172.583524,
           "value": 291926.816553,
           "variable": "pod order vol"
          },
          {
           "pod listing vol": 306359.480163,
           "pod order vol": 291926.816553,
           "season": 4501,
           "timestamp": "2022-02-10T00:00:44",
           "total bean vol": 4639598.338425,
           "total pod vol": 598286.296716,
           "value": 306359.480163,
           "variable": "pod listing vol"
          },
          {
           "pod listing vol": 306359.480163,
           "pod order vol": 291926.816553,
           "season": 4501,
           "timestamp": "2022-02-10T00:00:44",
           "total bean vol": 4639598.338425,
           "total pod vol": 598286.296716,
           "value": 291926.816553,
           "variable": "pod order vol"
          },
          {
           "pod listing vol": 306359.480163,
           "pod order vol": 291926.816553,
           "season": 4501,
           "timestamp": "2022-02-10T00:00:44",
           "total bean vol": 4639598.338425,
           "total pod vol": 598286.296716,
           "value": 4639598.338425,
           "variable": "total bean vol"
          },
          {
           "pod listing vol": 306359.480163,
           "pod order vol": 291926.816553,
           "season": 4501,
           "timestamp": "2022-02-10T00:00:44",
           "total bean vol": 4639598.338425,
           "total pod vol": 598286.296716,
           "value": 598286.296716,
           "variable": "total pod vol"
          },
          {
           "pod listing vol": 308366.526236,
           "pod order vol": 291926.816553,
           "season": 4525,
           "timestamp": "2022-02-11T00:00:06",
           "total bean vol": 4669517.176412,
           "total pod vol": 600293.342789,
           "value": 308366.526236,
           "variable": "pod listing vol"
          },
          {
           "pod listing vol": 308366.526236,
           "pod order vol": 291926.816553,
           "season": 4525,
           "timestamp": "2022-02-11T00:00:06",
           "total bean vol": 4669517.176412,
           "total pod vol": 600293.342789,
           "value": 291926.816553,
           "variable": "pod order vol"
          },
          {
           "pod listing vol": 308366.526236,
           "pod order vol": 291926.816553,
           "season": 4525,
           "timestamp": "2022-02-11T00:00:06",
           "total bean vol": 4669517.176412,
           "total pod vol": 600293.342789,
           "value": 4669517.176412,
           "variable": "total bean vol"
          },
          {
           "pod listing vol": 308366.526236,
           "pod order vol": 291926.816553,
           "season": 4525,
           "timestamp": "2022-02-11T00:00:06",
           "total bean vol": 4669517.176412,
           "total pod vol": 600293.342789,
           "value": 600293.342789,
           "variable": "total pod vol"
          },
          {
           "pod listing vol": 309898.011699,
           "pod order vol": 291926.816553,
           "season": 4549,
           "timestamp": "2022-02-12T00:00:06",
           "total bean vol": 5110303.835758,
           "total pod vol": 601824.828252,
           "value": 601824.828252,
           "variable": "total pod vol"
          },
          {
           "pod listing vol": 309898.011699,
           "pod order vol": 291926.816553,
           "season": 4549,
           "timestamp": "2022-02-12T00:00:06",
           "total bean vol": 5110303.835758,
           "total pod vol": 601824.828252,
           "value": 309898.011699,
           "variable": "pod listing vol"
          },
          {
           "pod listing vol": 309898.011699,
           "pod order vol": 291926.816553,
           "season": 4549,
           "timestamp": "2022-02-12T00:00:06",
           "total bean vol": 5110303.835758,
           "total pod vol": 601824.828252,
           "value": 291926.816553,
           "variable": "pod order vol"
          },
          {
           "pod listing vol": 309898.011699,
           "pod order vol": 291926.816553,
           "season": 4549,
           "timestamp": "2022-02-12T00:00:06",
           "total bean vol": 5110303.835758,
           "total pod vol": 601824.828252,
           "value": 5110303.835758,
           "variable": "total bean vol"
          },
          {
           "pod listing vol": 313743.050135,
           "pod order vol": 291926.816553,
           "season": 4573,
           "timestamp": "2022-02-13T00:00:56",
           "total bean vol": 5152539.950363,
           "total pod vol": 605669.866688,
           "value": 605669.866688,
           "variable": "total pod vol"
          },
          {
           "pod listing vol": 313743.050135,
           "pod order vol": 291926.816553,
           "season": 4573,
           "timestamp": "2022-02-13T00:00:56",
           "total bean vol": 5152539.950363,
           "total pod vol": 605669.866688,
           "value": 5152539.950363,
           "variable": "total bean vol"
          },
          {
           "pod listing vol": 313743.050135,
           "pod order vol": 291926.816553,
           "season": 4573,
           "timestamp": "2022-02-13T00:00:56",
           "total bean vol": 5152539.950363,
           "total pod vol": 605669.866688,
           "value": 313743.050135,
           "variable": "pod listing vol"
          },
          {
           "pod listing vol": 313743.050135,
           "pod order vol": 291926.816553,
           "season": 4573,
           "timestamp": "2022-02-13T00:00:56",
           "total bean vol": 5152539.950363,
           "total pod vol": 605669.866688,
           "value": 291926.816553,
           "variable": "pod order vol"
          },
          {
           "pod listing vol": 313743.050135,
           "pod order vol": 291926.816553,
           "season": 4597,
           "timestamp": "2022-02-14T00:00:11",
           "total bean vol": 5384940.581478,
           "total pod vol": 605669.866688,
           "value": 313743.050135,
           "variable": "pod listing vol"
          },
          {
           "pod listing vol": 313743.050135,
           "pod order vol": 291926.816553,
           "season": 4597,
           "timestamp": "2022-02-14T00:00:11",
           "total bean vol": 5384940.581478,
           "total pod vol": 605669.866688,
           "value": 291926.816553,
           "variable": "pod order vol"
          },
          {
           "pod listing vol": 313743.050135,
           "pod order vol": 291926.816553,
           "season": 4597,
           "timestamp": "2022-02-14T00:00:11",
           "total bean vol": 5384940.581478,
           "total pod vol": 605669.866688,
           "value": 5384940.581478,
           "variable": "total bean vol"
          },
          {
           "pod listing vol": 313743.050135,
           "pod order vol": 291926.816553,
           "season": 4597,
           "timestamp": "2022-02-14T00:00:11",
           "total bean vol": 5384940.581478,
           "total pod vol": 605669.866688,
           "value": 605669.866688,
           "variable": "total pod vol"
          },
          {
           "pod listing vol": 313743.050135,
           "pod order vol": 291926.816553,
           "season": 4621,
           "timestamp": "2022-02-15T00:00:35",
           "total bean vol": 5450738.487752,
           "total pod vol": 605669.866688,
           "value": 313743.050135,
           "variable": "pod listing vol"
          },
          {
           "pod listing vol": 313743.050135,
           "pod order vol": 291926.816553,
           "season": 4621,
           "timestamp": "2022-02-15T00:00:35",
           "total bean vol": 5450738.487752,
           "total pod vol": 605669.866688,
           "value": 291926.816553,
           "variable": "pod order vol"
          },
          {
           "pod listing vol": 313743.050135,
           "pod order vol": 291926.816553,
           "season": 4621,
           "timestamp": "2022-02-15T00:00:35",
           "total bean vol": 5450738.487752,
           "total pod vol": 605669.866688,
           "value": 5450738.487752,
           "variable": "total bean vol"
          },
          {
           "pod listing vol": 313743.050135,
           "pod order vol": 291926.816553,
           "season": 4621,
           "timestamp": "2022-02-15T00:00:35",
           "total bean vol": 5450738.487752,
           "total pod vol": 605669.866688,
           "value": 605669.866688,
           "variable": "total pod vol"
          },
          {
           "pod listing vol": 381540.956409,
           "pod order vol": 293341.907755,
           "season": 4645,
           "timestamp": "2022-02-16T00:00:34",
           "total bean vol": 5731059.453984,
           "total pod vol": 674882.864164,
           "value": 674882.864164,
           "variable": "total pod vol"
          },
          {
           "pod listing vol": 381540.956409,
           "pod order vol": 293341.907755,
           "season": 4645,
           "timestamp": "2022-02-16T00:00:34",
           "total bean vol": 5731059.453984,
           "total pod vol": 674882.864164,
           "value": 381540.956409,
           "variable": "pod listing vol"
          },
          {
           "pod listing vol": 381540.956409,
           "pod order vol": 293341.907755,
           "season": 4645,
           "timestamp": "2022-02-16T00:00:34",
           "total bean vol": 5731059.453984,
           "total pod vol": 674882.864164,
           "value": 293341.907755,
           "variable": "pod order vol"
          },
          {
           "pod listing vol": 381540.956409,
           "pod order vol": 293341.907755,
           "season": 4645,
           "timestamp": "2022-02-16T00:00:34",
           "total bean vol": 5731059.453984,
           "total pod vol": 674882.864164,
           "value": 5731059.453984,
           "variable": "total bean vol"
          },
          {
           "pod listing vol": 391339.386437,
           "pod order vol": 293341.907755,
           "season": 4669,
           "timestamp": "2022-02-17T00:00:02",
           "total bean vol": 5794158.701392,
           "total pod vol": 684681.294192,
           "value": 684681.294192,
           "variable": "total pod vol"
          },
          {
           "pod listing vol": 391339.386437,
           "pod order vol": 293341.907755,
           "season": 4669,
           "timestamp": "2022-02-17T00:00:02",
           "total bean vol": 5794158.701392,
           "total pod vol": 684681.294192,
           "value": 5794158.701392,
           "variable": "total bean vol"
          },
          {
           "pod listing vol": 391339.386437,
           "pod order vol": 293341.907755,
           "season": 4669,
           "timestamp": "2022-02-17T00:00:02",
           "total bean vol": 5794158.701392,
           "total pod vol": 684681.294192,
           "value": 293341.907755,
           "variable": "pod order vol"
          },
          {
           "pod listing vol": 391339.386437,
           "pod order vol": 293341.907755,
           "season": 4669,
           "timestamp": "2022-02-17T00:00:02",
           "total bean vol": 5794158.701392,
           "total pod vol": 684681.294192,
           "value": 391339.386437,
           "variable": "pod listing vol"
          },
          {
           "pod listing vol": 779796.756941,
           "pod order vol": 305841.907755,
           "season": 4693,
           "timestamp": "2022-02-18T00:00:14",
           "total bean vol": 5863856.228832,
           "total pod vol": 1085638.664696,
           "value": 779796.756941,
           "variable": "pod listing vol"
          },
          {
           "pod listing vol": 779796.756941,
           "pod order vol": 305841.907755,
           "season": 4693,
           "timestamp": "2022-02-18T00:00:14",
           "total bean vol": 5863856.228832,
           "total pod vol": 1085638.664696,
           "value": 305841.907755,
           "variable": "pod order vol"
          },
          {
           "pod listing vol": 779796.756941,
           "pod order vol": 305841.907755,
           "season": 4693,
           "timestamp": "2022-02-18T00:00:14",
           "total bean vol": 5863856.228832,
           "total pod vol": 1085638.664696,
           "value": 5863856.228832,
           "variable": "total bean vol"
          },
          {
           "pod listing vol": 779796.756941,
           "pod order vol": 305841.907755,
           "season": 4693,
           "timestamp": "2022-02-18T00:00:14",
           "total bean vol": 5863856.228832,
           "total pod vol": 1085638.664696,
           "value": 1085638.664696,
           "variable": "total pod vol"
          },
          {
           "pod listing vol": 779796.756941,
           "pod order vol": 504234.819865,
           "season": 4717,
           "timestamp": "2022-02-19T00:00:02",
           "total bean vol": 5890442.904892,
           "total pod vol": 1284031.576806,
           "value": 1284031.576806,
           "variable": "total pod vol"
          },
          {
           "pod listing vol": 779796.756941,
           "pod order vol": 504234.819865,
           "season": 4717,
           "timestamp": "2022-02-19T00:00:02",
           "total bean vol": 5890442.904892,
           "total pod vol": 1284031.576806,
           "value": 779796.756941,
           "variable": "pod listing vol"
          },
          {
           "pod listing vol": 779796.756941,
           "pod order vol": 504234.819865,
           "season": 4717,
           "timestamp": "2022-02-19T00:00:02",
           "total bean vol": 5890442.904892,
           "total pod vol": 1284031.576806,
           "value": 504234.819865,
           "variable": "pod order vol"
          },
          {
           "pod listing vol": 779796.756941,
           "pod order vol": 504234.819865,
           "season": 4717,
           "timestamp": "2022-02-19T00:00:02",
           "total bean vol": 5890442.904892,
           "total pod vol": 1284031.576806,
           "value": 5890442.904892,
           "variable": "total bean vol"
          },
          {
           "pod listing vol": 779796.756941,
           "pod order vol": 505870.073468,
           "season": 4741,
           "timestamp": "2022-02-20T00:00:15",
           "total bean vol": 6101274.576812,
           "total pod vol": 1285666.830409,
           "value": 6101274.576812,
           "variable": "total bean vol"
          },
          {
           "pod listing vol": 779796.756941,
           "pod order vol": 505870.073468,
           "season": 4741,
           "timestamp": "2022-02-20T00:00:15",
           "total bean vol": 6101274.576812,
           "total pod vol": 1285666.830409,
           "value": 1285666.830409,
           "variable": "total pod vol"
          },
          {
           "pod listing vol": 779796.756941,
           "pod order vol": 505870.073468,
           "season": 4741,
           "timestamp": "2022-02-20T00:00:15",
           "total bean vol": 6101274.576812,
           "total pod vol": 1285666.830409,
           "value": 779796.756941,
           "variable": "pod listing vol"
          },
          {
           "pod listing vol": 779796.756941,
           "pod order vol": 505870.073468,
           "season": 4741,
           "timestamp": "2022-02-20T00:00:15",
           "total bean vol": 6101274.576812,
           "total pod vol": 1285666.830409,
           "value": 505870.073468,
           "variable": "pod order vol"
          },
          {
           "pod listing vol": 779796.756941,
           "pod order vol": 505870.073468,
           "season": 4765,
           "timestamp": "2022-02-21T00:00:06",
           "total bean vol": 6399835.099278,
           "total pod vol": 1285666.830409,
           "value": 1285666.830409,
           "variable": "total pod vol"
          },
          {
           "pod listing vol": 779796.756941,
           "pod order vol": 505870.073468,
           "season": 4765,
           "timestamp": "2022-02-21T00:00:06",
           "total bean vol": 6399835.099278,
           "total pod vol": 1285666.830409,
           "value": 6399835.099278,
           "variable": "total bean vol"
          },
          {
           "pod listing vol": 779796.756941,
           "pod order vol": 505870.073468,
           "season": 4765,
           "timestamp": "2022-02-21T00:00:06",
           "total bean vol": 6399835.099278,
           "total pod vol": 1285666.830409,
           "value": 505870.073468,
           "variable": "pod order vol"
          },
          {
           "pod listing vol": 779796.756941,
           "pod order vol": 505870.073468,
           "season": 4765,
           "timestamp": "2022-02-21T00:00:06",
           "total bean vol": 6399835.099278,
           "total pod vol": 1285666.830409,
           "value": 779796.756941,
           "variable": "pod listing vol"
          },
          {
           "pod listing vol": 966930.285853,
           "pod order vol": 506870.184018,
           "season": 4789,
           "timestamp": "2022-02-22T00:00:01",
           "total bean vol": 6665856.477585,
           "total pod vol": 1473800.469871,
           "value": 966930.285853,
           "variable": "pod listing vol"
          },
          {
           "pod listing vol": 966930.285853,
           "pod order vol": 506870.184018,
           "season": 4789,
           "timestamp": "2022-02-22T00:00:01",
           "total bean vol": 6665856.477585,
           "total pod vol": 1473800.469871,
           "value": 506870.184018,
           "variable": "pod order vol"
          },
          {
           "pod listing vol": 966930.285853,
           "pod order vol": 506870.184018,
           "season": 4789,
           "timestamp": "2022-02-22T00:00:01",
           "total bean vol": 6665856.477585,
           "total pod vol": 1473800.469871,
           "value": 6665856.477585,
           "variable": "total bean vol"
          },
          {
           "pod listing vol": 966930.285853,
           "pod order vol": 506870.184018,
           "season": 4789,
           "timestamp": "2022-02-22T00:00:01",
           "total bean vol": 6665856.477585,
           "total pod vol": 1473800.469871,
           "value": 1473800.469871,
           "variable": "total pod vol"
          },
          {
           "pod listing vol": 966930.285853,
           "pod order vol": 507353.86569,
           "season": 4813,
           "timestamp": "2022-02-23T00:00:27",
           "total bean vol": 8080791.090537,
           "total pod vol": 1474284.151543,
           "value": 966930.285853,
           "variable": "pod listing vol"
          },
          {
           "pod listing vol": 966930.285853,
           "pod order vol": 507353.86569,
           "season": 4813,
           "timestamp": "2022-02-23T00:00:27",
           "total bean vol": 8080791.090537,
           "total pod vol": 1474284.151543,
           "value": 507353.86569,
           "variable": "pod order vol"
          },
          {
           "pod listing vol": 966930.285853,
           "pod order vol": 507353.86569,
           "season": 4813,
           "timestamp": "2022-02-23T00:00:27",
           "total bean vol": 8080791.090537,
           "total pod vol": 1474284.151543,
           "value": 8080791.090537,
           "variable": "total bean vol"
          },
          {
           "pod listing vol": 966930.285853,
           "pod order vol": 507353.86569,
           "season": 4813,
           "timestamp": "2022-02-23T00:00:27",
           "total bean vol": 8080791.090537,
           "total pod vol": 1474284.151543,
           "value": 1474284.151543,
           "variable": "total pod vol"
          },
          {
           "pod listing vol": 970675.63203,
           "pod order vol": 819961.01814,
           "season": 4837,
           "timestamp": "2022-02-24T00:00:01",
           "total bean vol": 8239864.029986,
           "total pod vol": 1790636.65017,
           "value": 970675.63203,
           "variable": "pod listing vol"
          },
          {
           "pod listing vol": 970675.63203,
           "pod order vol": 819961.01814,
           "season": 4837,
           "timestamp": "2022-02-24T00:00:01",
           "total bean vol": 8239864.029986,
           "total pod vol": 1790636.65017,
           "value": 819961.01814,
           "variable": "pod order vol"
          },
          {
           "pod listing vol": 970675.63203,
           "pod order vol": 819961.01814,
           "season": 4837,
           "timestamp": "2022-02-24T00:00:01",
           "total bean vol": 8239864.029986,
           "total pod vol": 1790636.65017,
           "value": 8239864.029986,
           "variable": "total bean vol"
          },
          {
           "pod listing vol": 970675.63203,
           "pod order vol": 819961.01814,
           "season": 4837,
           "timestamp": "2022-02-24T00:00:01",
           "total bean vol": 8239864.029986,
           "total pod vol": 1790636.65017,
           "value": 1790636.65017,
           "variable": "total pod vol"
          },
          {
           "pod listing vol": 970675.63203,
           "pod order vol": 819961.01814,
           "season": 4861,
           "timestamp": "2022-02-25T00:00:06",
           "total bean vol": 8746605.958348,
           "total pod vol": 1790636.65017,
           "value": 1790636.65017,
           "variable": "total pod vol"
          },
          {
           "pod listing vol": 970675.63203,
           "pod order vol": 819961.01814,
           "season": 4861,
           "timestamp": "2022-02-25T00:00:06",
           "total bean vol": 8746605.958348,
           "total pod vol": 1790636.65017,
           "value": 8746605.958348,
           "variable": "total bean vol"
          },
          {
           "pod listing vol": 970675.63203,
           "pod order vol": 819961.01814,
           "season": 4861,
           "timestamp": "2022-02-25T00:00:06",
           "total bean vol": 8746605.958348,
           "total pod vol": 1790636.65017,
           "value": 819961.01814,
           "variable": "pod order vol"
          },
          {
           "pod listing vol": 970675.63203,
           "pod order vol": 819961.01814,
           "season": 4861,
           "timestamp": "2022-02-25T00:00:06",
           "total bean vol": 8746605.958348,
           "total pod vol": 1790636.65017,
           "value": 970675.63203,
           "variable": "pod listing vol"
          },
          {
           "pod listing vol": 974676.112126,
           "pod order vol": 919961.01814,
           "season": 4885,
           "timestamp": "2022-02-26T00:00:28",
           "total bean vol": 8982173.404675,
           "total pod vol": 1894637.130266,
           "value": 974676.112126,
           "variable": "pod listing vol"
          },
          {
           "pod listing vol": 974676.112126,
           "pod order vol": 919961.01814,
           "season": 4885,
           "timestamp": "2022-02-26T00:00:28",
           "total bean vol": 8982173.404675,
           "total pod vol": 1894637.130266,
           "value": 919961.01814,
           "variable": "pod order vol"
          },
          {
           "pod listing vol": 974676.112126,
           "pod order vol": 919961.01814,
           "season": 4885,
           "timestamp": "2022-02-26T00:00:28",
           "total bean vol": 8982173.404675,
           "total pod vol": 1894637.130266,
           "value": 8982173.404675,
           "variable": "total bean vol"
          },
          {
           "pod listing vol": 974676.112126,
           "pod order vol": 919961.01814,
           "season": 4885,
           "timestamp": "2022-02-26T00:00:28",
           "total bean vol": 8982173.404675,
           "total pod vol": 1894637.130266,
           "value": 1894637.130266,
           "variable": "total pod vol"
          },
          {
           "pod listing vol": 977116.960879,
           "pod order vol": 986627.684806,
           "season": 4909,
           "timestamp": "2022-02-27T00:00:02",
           "total bean vol": 9028225.316542,
           "total pod vol": 1963744.645685,
           "value": 977116.960879,
           "variable": "pod listing vol"
          },
          {
           "pod listing vol": 977116.960879,
           "pod order vol": 986627.684806,
           "season": 4909,
           "timestamp": "2022-02-27T00:00:02",
           "total bean vol": 9028225.316542,
           "total pod vol": 1963744.645685,
           "value": 986627.684806,
           "variable": "pod order vol"
          },
          {
           "pod listing vol": 977116.960879,
           "pod order vol": 986627.684806,
           "season": 4909,
           "timestamp": "2022-02-27T00:00:02",
           "total bean vol": 9028225.316542,
           "total pod vol": 1963744.645685,
           "value": 9028225.316542,
           "variable": "total bean vol"
          },
          {
           "pod listing vol": 977116.960879,
           "pod order vol": 986627.684806,
           "season": 4909,
           "timestamp": "2022-02-27T00:00:02",
           "total bean vol": 9028225.316542,
           "total pod vol": 1963744.645685,
           "value": 1963744.645685,
           "variable": "total pod vol"
          },
          {
           "pod listing vol": 977116.960879,
           "pod order vol": 986627.684806,
           "season": 4933,
           "timestamp": "2022-02-28T00:00:02",
           "total bean vol": 9028225.316542,
           "total pod vol": 1963744.645685,
           "value": 977116.960879,
           "variable": "pod listing vol"
          },
          {
           "pod listing vol": 977116.960879,
           "pod order vol": 986627.684806,
           "season": 4933,
           "timestamp": "2022-02-28T00:00:02",
           "total bean vol": 9028225.316542,
           "total pod vol": 1963744.645685,
           "value": 986627.684806,
           "variable": "pod order vol"
          },
          {
           "pod listing vol": 977116.960879,
           "pod order vol": 986627.684806,
           "season": 4933,
           "timestamp": "2022-02-28T00:00:02",
           "total bean vol": 9028225.316542,
           "total pod vol": 1963744.645685,
           "value": 9028225.316542,
           "variable": "total bean vol"
          },
          {
           "pod listing vol": 977116.960879,
           "pod order vol": 986627.684806,
           "season": 4933,
           "timestamp": "2022-02-28T00:00:02",
           "total bean vol": 9028225.316542,
           "total pod vol": 1963744.645685,
           "value": 1963744.645685,
           "variable": "total pod vol"
          },
          {
           "pod listing vol": 1510893.968534,
           "pod order vol": 986627.684806,
           "season": 4957,
           "timestamp": "2022-03-01T00:00:18",
           "total bean vol": 9100506.246433,
           "total pod vol": 2497521.65334,
           "value": 2497521.65334,
           "variable": "total pod vol"
          },
          {
           "pod listing vol": 1510893.968534,
           "pod order vol": 986627.684806,
           "season": 4957,
           "timestamp": "2022-03-01T00:00:18",
           "total bean vol": 9100506.246433,
           "total pod vol": 2497521.65334,
           "value": 9100506.246433,
           "variable": "total bean vol"
          },
          {
           "pod listing vol": 1510893.968534,
           "pod order vol": 986627.684806,
           "season": 4957,
           "timestamp": "2022-03-01T00:00:18",
           "total bean vol": 9100506.246433,
           "total pod vol": 2497521.65334,
           "value": 986627.684806,
           "variable": "pod order vol"
          },
          {
           "pod listing vol": 1510893.968534,
           "pod order vol": 986627.684806,
           "season": 4957,
           "timestamp": "2022-03-01T00:00:18",
           "total bean vol": 9100506.246433,
           "total pod vol": 2497521.65334,
           "value": 1510893.968534,
           "variable": "pod listing vol"
          },
          {
           "pod listing vol": 1781497.463999,
           "pod order vol": 986627.684806,
           "season": 4981,
           "timestamp": "2022-03-02T00:00:00",
           "total bean vol": 9399374.946187,
           "total pod vol": 2768125.148805,
           "value": 1781497.463999,
           "variable": "pod listing vol"
          },
          {
           "pod listing vol": 1781497.463999,
           "pod order vol": 986627.684806,
           "season": 4981,
           "timestamp": "2022-03-02T00:00:00",
           "total bean vol": 9399374.946187,
           "total pod vol": 2768125.148805,
           "value": 986627.684806,
           "variable": "pod order vol"
          },
          {
           "pod listing vol": 1781497.463999,
           "pod order vol": 986627.684806,
           "season": 4981,
           "timestamp": "2022-03-02T00:00:00",
           "total bean vol": 9399374.946187,
           "total pod vol": 2768125.148805,
           "value": 9399374.946187,
           "variable": "total bean vol"
          },
          {
           "pod listing vol": 1781497.463999,
           "pod order vol": 986627.684806,
           "season": 4981,
           "timestamp": "2022-03-02T00:00:00",
           "total bean vol": 9399374.946187,
           "total pod vol": 2768125.148805,
           "value": 2768125.148805,
           "variable": "total pod vol"
          },
          {
           "pod listing vol": 1808463.008658,
           "pod order vol": 1023139.559462,
           "season": 5005,
           "timestamp": "2022-03-03T00:00:02",
           "total bean vol": 9563875.244637,
           "total pod vol": 2831602.56812,
           "value": 1808463.008658,
           "variable": "pod listing vol"
          },
          {
           "pod listing vol": 1808463.008658,
           "pod order vol": 1023139.559462,
           "season": 5005,
           "timestamp": "2022-03-03T00:00:02",
           "total bean vol": 9563875.244637,
           "total pod vol": 2831602.56812,
           "value": 1023139.559462,
           "variable": "pod order vol"
          },
          {
           "pod listing vol": 1808463.008658,
           "pod order vol": 1023139.559462,
           "season": 5005,
           "timestamp": "2022-03-03T00:00:02",
           "total bean vol": 9563875.244637,
           "total pod vol": 2831602.56812,
           "value": 9563875.244637,
           "variable": "total bean vol"
          },
          {
           "pod listing vol": 1808463.008658,
           "pod order vol": 1023139.559462,
           "season": 5005,
           "timestamp": "2022-03-03T00:00:02",
           "total bean vol": 9563875.244637,
           "total pod vol": 2831602.56812,
           "value": 2831602.56812,
           "variable": "total pod vol"
          },
          {
           "pod listing vol": 1808956.440896,
           "pod order vol": 1041424.174862,
           "season": 5029,
           "timestamp": "2022-03-04T00:00:35",
           "total bean vol": 10080431.618176,
           "total pod vol": 2850380.615758,
           "value": 2850380.615758,
           "variable": "total pod vol"
          },
          {
           "pod listing vol": 1808956.440896,
           "pod order vol": 1041424.174862,
           "season": 5029,
           "timestamp": "2022-03-04T00:00:35",
           "total bean vol": 10080431.618176,
           "total pod vol": 2850380.615758,
           "value": 10080431.618176,
           "variable": "total bean vol"
          },
          {
           "pod listing vol": 1808956.440896,
           "pod order vol": 1041424.174862,
           "season": 5029,
           "timestamp": "2022-03-04T00:00:35",
           "total bean vol": 10080431.618176,
           "total pod vol": 2850380.615758,
           "value": 1041424.174862,
           "variable": "pod order vol"
          },
          {
           "pod listing vol": 1808956.440896,
           "pod order vol": 1041424.174862,
           "season": 5029,
           "timestamp": "2022-03-04T00:00:35",
           "total bean vol": 10080431.618176,
           "total pod vol": 2850380.615758,
           "value": 1808956.440896,
           "variable": "pod listing vol"
          },
          {
           "pod listing vol": 1821582.697854,
           "pod order vol": 1041424.174862,
           "season": 5053,
           "timestamp": "2022-03-05T00:00:30",
           "total bean vol": 10086229.59582,
           "total pod vol": 2863006.872716,
           "value": 1821582.697854,
           "variable": "pod listing vol"
          },
          {
           "pod listing vol": 1821582.697854,
           "pod order vol": 1041424.174862,
           "season": 5053,
           "timestamp": "2022-03-05T00:00:30",
           "total bean vol": 10086229.59582,
           "total pod vol": 2863006.872716,
           "value": 1041424.174862,
           "variable": "pod order vol"
          },
          {
           "pod listing vol": 1821582.697854,
           "pod order vol": 1041424.174862,
           "season": 5053,
           "timestamp": "2022-03-05T00:00:30",
           "total bean vol": 10086229.59582,
           "total pod vol": 2863006.872716,
           "value": 10086229.59582,
           "variable": "total bean vol"
          },
          {
           "pod listing vol": 1821582.697854,
           "pod order vol": 1041424.174862,
           "season": 5053,
           "timestamp": "2022-03-05T00:00:30",
           "total bean vol": 10086229.59582,
           "total pod vol": 2863006.872716,
           "value": 2863006.872716,
           "variable": "total pod vol"
          },
          {
           "pod listing vol": 2067546.741749,
           "pod order vol": 1041424.174862,
           "season": 5077,
           "timestamp": "2022-03-06T00:00:17",
           "total bean vol": 10233932.218177,
           "total pod vol": 3108970.916611,
           "value": 2067546.741749,
           "variable": "pod listing vol"
          },
          {
           "pod listing vol": 2067546.741749,
           "pod order vol": 1041424.174862,
           "season": 5077,
           "timestamp": "2022-03-06T00:00:17",
           "total bean vol": 10233932.218177,
           "total pod vol": 3108970.916611,
           "value": 1041424.174862,
           "variable": "pod order vol"
          },
          {
           "pod listing vol": 2067546.741749,
           "pod order vol": 1041424.174862,
           "season": 5077,
           "timestamp": "2022-03-06T00:00:17",
           "total bean vol": 10233932.218177,
           "total pod vol": 3108970.916611,
           "value": 10233932.218177,
           "variable": "total bean vol"
          },
          {
           "pod listing vol": 2067546.741749,
           "pod order vol": 1041424.174862,
           "season": 5077,
           "timestamp": "2022-03-06T00:00:17",
           "total bean vol": 10233932.218177,
           "total pod vol": 3108970.916611,
           "value": 3108970.916611,
           "variable": "total pod vol"
          },
          {
           "pod listing vol": 2108348.639589,
           "pod order vol": 1061613.474497,
           "season": 5101,
           "timestamp": "2022-03-07T00:00:15",
           "total bean vol": 10541730.957237,
           "total pod vol": 3169962.114086,
           "value": 10541730.957237,
           "variable": "total bean vol"
          },
          {
           "pod listing vol": 2108348.639589,
           "pod order vol": 1061613.474497,
           "season": 5101,
           "timestamp": "2022-03-07T00:00:15",
           "total bean vol": 10541730.957237,
           "total pod vol": 3169962.114086,
           "value": 3169962.114086,
           "variable": "total pod vol"
          },
          {
           "pod listing vol": 2108348.639589,
           "pod order vol": 1061613.474497,
           "season": 5101,
           "timestamp": "2022-03-07T00:00:15",
           "total bean vol": 10541730.957237,
           "total pod vol": 3169962.114086,
           "value": 2108348.639589,
           "variable": "pod listing vol"
          },
          {
           "pod listing vol": 2108348.639589,
           "pod order vol": 1061613.474497,
           "season": 5101,
           "timestamp": "2022-03-07T00:00:15",
           "total bean vol": 10541730.957237,
           "total pod vol": 3169962.114086,
           "value": 1061613.474497,
           "variable": "pod order vol"
          },
          {
           "pod listing vol": 2274088.006681,
           "pod order vol": 1065356.105445,
           "season": 5125,
           "timestamp": "2022-03-08T00:00:01",
           "total bean vol": 10569886.845864,
           "total pod vol": 3339444.112126,
           "value": 10569886.845864,
           "variable": "total bean vol"
          },
          {
           "pod listing vol": 2274088.006681,
           "pod order vol": 1065356.105445,
           "season": 5125,
           "timestamp": "2022-03-08T00:00:01",
           "total bean vol": 10569886.845864,
           "total pod vol": 3339444.112126,
           "value": 3339444.112126,
           "variable": "total pod vol"
          },
          {
           "pod listing vol": 2274088.006681,
           "pod order vol": 1065356.105445,
           "season": 5125,
           "timestamp": "2022-03-08T00:00:01",
           "total bean vol": 10569886.845864,
           "total pod vol": 3339444.112126,
           "value": 2274088.006681,
           "variable": "pod listing vol"
          },
          {
           "pod listing vol": 2274088.006681,
           "pod order vol": 1065356.105445,
           "season": 5125,
           "timestamp": "2022-03-08T00:00:01",
           "total bean vol": 10569886.845864,
           "total pod vol": 3339444.112126,
           "value": 1065356.105445,
           "variable": "pod order vol"
          },
          {
           "pod listing vol": 3573959.835924,
           "pod order vol": 1565356.105445,
           "season": 5149,
           "timestamp": "2022-03-09T00:00:04",
           "total bean vol": 11117712.548628,
           "total pod vol": 5139315.941369,
           "value": 5139315.941369,
           "variable": "total pod vol"
          },
          {
           "pod listing vol": 3573959.835924,
           "pod order vol": 1565356.105445,
           "season": 5149,
           "timestamp": "2022-03-09T00:00:04",
           "total bean vol": 11117712.548628,
           "total pod vol": 5139315.941369,
           "value": 11117712.548628,
           "variable": "total bean vol"
          },
          {
           "pod listing vol": 3573959.835924,
           "pod order vol": 1565356.105445,
           "season": 5149,
           "timestamp": "2022-03-09T00:00:04",
           "total bean vol": 11117712.548628,
           "total pod vol": 5139315.941369,
           "value": 1565356.105445,
           "variable": "pod order vol"
          },
          {
           "pod listing vol": 3573959.835924,
           "pod order vol": 1565356.105445,
           "season": 5149,
           "timestamp": "2022-03-09T00:00:04",
           "total bean vol": 11117712.548628,
           "total pod vol": 5139315.941369,
           "value": 3573959.835924,
           "variable": "pod listing vol"
          },
          {
           "pod listing vol": 3682345.382738,
           "pod order vol": 1565356.105445,
           "season": 5173,
           "timestamp": "2022-03-10T00:00:17",
           "total bean vol": 11187464.029358,
           "total pod vol": 5247701.488183,
           "value": 3682345.382738,
           "variable": "pod listing vol"
          },
          {
           "pod listing vol": 3682345.382738,
           "pod order vol": 1565356.105445,
           "season": 5173,
           "timestamp": "2022-03-10T00:00:17",
           "total bean vol": 11187464.029358,
           "total pod vol": 5247701.488183,
           "value": 1565356.105445,
           "variable": "pod order vol"
          },
          {
           "pod listing vol": 3682345.382738,
           "pod order vol": 1565356.105445,
           "season": 5173,
           "timestamp": "2022-03-10T00:00:17",
           "total bean vol": 11187464.029358,
           "total pod vol": 5247701.488183,
           "value": 11187464.029358,
           "variable": "total bean vol"
          },
          {
           "pod listing vol": 3682345.382738,
           "pod order vol": 1565356.105445,
           "season": 5173,
           "timestamp": "2022-03-10T00:00:17",
           "total bean vol": 11187464.029358,
           "total pod vol": 5247701.488183,
           "value": 5247701.488183,
           "variable": "total pod vol"
          },
          {
           "pod listing vol": 4445560.666243,
           "pod order vol": 1597289.016293,
           "season": 5197,
           "timestamp": "2022-03-11T00:00:09",
           "total bean vol": 11521729.207994,
           "total pod vol": 6042849.682536,
           "value": 4445560.666243,
           "variable": "pod listing vol"
          },
          {
           "pod listing vol": 4445560.666243,
           "pod order vol": 1597289.016293,
           "season": 5197,
           "timestamp": "2022-03-11T00:00:09",
           "total bean vol": 11521729.207994,
           "total pod vol": 6042849.682536,
           "value": 1597289.016293,
           "variable": "pod order vol"
          },
          {
           "pod listing vol": 4445560.666243,
           "pod order vol": 1597289.016293,
           "season": 5197,
           "timestamp": "2022-03-11T00:00:09",
           "total bean vol": 11521729.207994,
           "total pod vol": 6042849.682536,
           "value": 11521729.207994,
           "variable": "total bean vol"
          },
          {
           "pod listing vol": 4445560.666243,
           "pod order vol": 1597289.016293,
           "season": 5197,
           "timestamp": "2022-03-11T00:00:09",
           "total bean vol": 11521729.207994,
           "total pod vol": 6042849.682536,
           "value": 6042849.682536,
           "variable": "total pod vol"
          },
          {
           "pod listing vol": 4906983.099316,
           "pod order vol": 1890813.699831,
           "season": 5221,
           "timestamp": "2022-03-12T00:00:05",
           "total bean vol": 12221441.445248,
           "total pod vol": 6797796.799147,
           "value": 4906983.099316,
           "variable": "pod listing vol"
          },
          {
           "pod listing vol": 4906983.099316,
           "pod order vol": 1890813.699831,
           "season": 5221,
           "timestamp": "2022-03-12T00:00:05",
           "total bean vol": 12221441.445248,
           "total pod vol": 6797796.799147,
           "value": 1890813.699831,
           "variable": "pod order vol"
          },
          {
           "pod listing vol": 4906983.099316,
           "pod order vol": 1890813.699831,
           "season": 5221,
           "timestamp": "2022-03-12T00:00:05",
           "total bean vol": 12221441.445248,
           "total pod vol": 6797796.799147,
           "value": 12221441.445248,
           "variable": "total bean vol"
          },
          {
           "pod listing vol": 4906983.099316,
           "pod order vol": 1890813.699831,
           "season": 5221,
           "timestamp": "2022-03-12T00:00:05",
           "total bean vol": 12221441.445248,
           "total pod vol": 6797796.799147,
           "value": 6797796.799147,
           "variable": "total pod vol"
          },
          {
           "pod listing vol": 5090071.604789,
           "pod order vol": 1895256.376219,
           "season": 5245,
           "timestamp": "2022-03-13T00:00:01",
           "total bean vol": 13338301.63193,
           "total pod vol": 6985327.981008,
           "value": 6985327.981008,
           "variable": "total pod vol"
          },
          {
           "pod listing vol": 5090071.604789,
           "pod order vol": 1895256.376219,
           "season": 5245,
           "timestamp": "2022-03-13T00:00:01",
           "total bean vol": 13338301.63193,
           "total pod vol": 6985327.981008,
           "value": 13338301.63193,
           "variable": "total bean vol"
          },
          {
           "pod listing vol": 5090071.604789,
           "pod order vol": 1895256.376219,
           "season": 5245,
           "timestamp": "2022-03-13T00:00:01",
           "total bean vol": 13338301.63193,
           "total pod vol": 6985327.981008,
           "value": 1895256.376219,
           "variable": "pod order vol"
          },
          {
           "pod listing vol": 5090071.604789,
           "pod order vol": 1895256.376219,
           "season": 5245,
           "timestamp": "2022-03-13T00:00:01",
           "total bean vol": 13338301.63193,
           "total pod vol": 6985327.981008,
           "value": 5090071.604789,
           "variable": "pod listing vol"
          },
          {
           "pod listing vol": 5238159.67585,
           "pod order vol": 1926363.998853,
           "season": 5269,
           "timestamp": "2022-03-14T00:00:04",
           "total bean vol": 14339843.59263,
           "total pod vol": 7164523.674703,
           "value": 5238159.67585,
           "variable": "pod listing vol"
          },
          {
           "pod listing vol": 5238159.67585,
           "pod order vol": 1926363.998853,
           "season": 5269,
           "timestamp": "2022-03-14T00:00:04",
           "total bean vol": 14339843.59263,
           "total pod vol": 7164523.674703,
           "value": 1926363.998853,
           "variable": "pod order vol"
          },
          {
           "pod listing vol": 5238159.67585,
           "pod order vol": 1926363.998853,
           "season": 5269,
           "timestamp": "2022-03-14T00:00:04",
           "total bean vol": 14339843.59263,
           "total pod vol": 7164523.674703,
           "value": 14339843.59263,
           "variable": "total bean vol"
          },
          {
           "pod listing vol": 5238159.67585,
           "pod order vol": 1926363.998853,
           "season": 5269,
           "timestamp": "2022-03-14T00:00:04",
           "total bean vol": 14339843.59263,
           "total pod vol": 7164523.674703,
           "value": 7164523.674703,
           "variable": "total pod vol"
          },
          {
           "pod listing vol": 5560139.700207,
           "pod order vol": 2092955.004283,
           "season": 5293,
           "timestamp": "2022-03-15T00:00:14",
           "total bean vol": 15446889.692481,
           "total pod vol": 7653094.70449,
           "value": 5560139.700207,
           "variable": "pod listing vol"
          },
          {
           "pod listing vol": 5560139.700207,
           "pod order vol": 2092955.004283,
           "season": 5293,
           "timestamp": "2022-03-15T00:00:14",
           "total bean vol": 15446889.692481,
           "total pod vol": 7653094.70449,
           "value": 2092955.004283,
           "variable": "pod order vol"
          },
          {
           "pod listing vol": 5560139.700207,
           "pod order vol": 2092955.004283,
           "season": 5293,
           "timestamp": "2022-03-15T00:00:14",
           "total bean vol": 15446889.692481,
           "total pod vol": 7653094.70449,
           "value": 15446889.692481,
           "variable": "total bean vol"
          },
          {
           "pod listing vol": 5560139.700207,
           "pod order vol": 2092955.004283,
           "season": 5293,
           "timestamp": "2022-03-15T00:00:14",
           "total bean vol": 15446889.692481,
           "total pod vol": 7653094.70449,
           "value": 7653094.70449,
           "variable": "total pod vol"
          },
          {
           "pod listing vol": 5787420.060394,
           "pod order vol": 2126695.261873,
           "season": 5317,
           "timestamp": "2022-03-16T00:00:05",
           "total bean vol": 15901433.739202,
           "total pod vol": 7914115.322267,
           "value": 5787420.060394,
           "variable": "pod listing vol"
          },
          {
           "pod listing vol": 5787420.060394,
           "pod order vol": 2126695.261873,
           "season": 5317,
           "timestamp": "2022-03-16T00:00:05",
           "total bean vol": 15901433.739202,
           "total pod vol": 7914115.322267,
           "value": 2126695.261873,
           "variable": "pod order vol"
          },
          {
           "pod listing vol": 5787420.060394,
           "pod order vol": 2126695.261873,
           "season": 5317,
           "timestamp": "2022-03-16T00:00:05",
           "total bean vol": 15901433.739202,
           "total pod vol": 7914115.322267,
           "value": 15901433.739202,
           "variable": "total bean vol"
          },
          {
           "pod listing vol": 5787420.060394,
           "pod order vol": 2126695.261873,
           "season": 5317,
           "timestamp": "2022-03-16T00:00:05",
           "total bean vol": 15901433.739202,
           "total pod vol": 7914115.322267,
           "value": 7914115.322267,
           "variable": "total pod vol"
          },
          {
           "pod listing vol": 8195838.834535,
           "pod order vol": 2126695.261873,
           "season": 5341,
           "timestamp": "2022-03-17T00:00:07",
           "total bean vol": 16756173.14524,
           "total pod vol": 10322534.096408,
           "value": 10322534.096408,
           "variable": "total pod vol"
          },
          {
           "pod listing vol": 8195838.834535,
           "pod order vol": 2126695.261873,
           "season": 5341,
           "timestamp": "2022-03-17T00:00:07",
           "total bean vol": 16756173.14524,
           "total pod vol": 10322534.096408,
           "value": 16756173.14524,
           "variable": "total bean vol"
          },
          {
           "pod listing vol": 8195838.834535,
           "pod order vol": 2126695.261873,
           "season": 5341,
           "timestamp": "2022-03-17T00:00:07",
           "total bean vol": 16756173.14524,
           "total pod vol": 10322534.096408,
           "value": 2126695.261873,
           "variable": "pod order vol"
          },
          {
           "pod listing vol": 8195838.834535,
           "pod order vol": 2126695.261873,
           "season": 5341,
           "timestamp": "2022-03-17T00:00:07",
           "total bean vol": 16756173.14524,
           "total pod vol": 10322534.096408,
           "value": 8195838.834535,
           "variable": "pod listing vol"
          },
          {
           "pod listing vol": 8783559.585444,
           "pod order vol": 2126695.261873,
           "season": 5365,
           "timestamp": "2022-03-18T00:00:08",
           "total bean vol": 17388260.075979,
           "total pod vol": 10910254.847317,
           "value": 8783559.585444,
           "variable": "pod listing vol"
          },
          {
           "pod listing vol": 8783559.585444,
           "pod order vol": 2126695.261873,
           "season": 5365,
           "timestamp": "2022-03-18T00:00:08",
           "total bean vol": 17388260.075979,
           "total pod vol": 10910254.847317,
           "value": 2126695.261873,
           "variable": "pod order vol"
          },
          {
           "pod listing vol": 8783559.585444,
           "pod order vol": 2126695.261873,
           "season": 5365,
           "timestamp": "2022-03-18T00:00:08",
           "total bean vol": 17388260.075979,
           "total pod vol": 10910254.847317,
           "value": 17388260.075979,
           "variable": "total bean vol"
          },
          {
           "pod listing vol": 8783559.585444,
           "pod order vol": 2126695.261873,
           "season": 5365,
           "timestamp": "2022-03-18T00:00:08",
           "total bean vol": 17388260.075979,
           "total pod vol": 10910254.847317,
           "value": 10910254.847317,
           "variable": "total pod vol"
          },
          {
           "pod listing vol": 9075279.357225,
           "pod order vol": 2126695.261873,
           "season": 5389,
           "timestamp": "2022-03-19T00:00:09",
           "total bean vol": 17787963.937388,
           "total pod vol": 11201974.619098,
           "value": 9075279.357225,
           "variable": "pod listing vol"
          },
          {
           "pod listing vol": 9075279.357225,
           "pod order vol": 2126695.261873,
           "season": 5389,
           "timestamp": "2022-03-19T00:00:09",
           "total bean vol": 17787963.937388,
           "total pod vol": 11201974.619098,
           "value": 2126695.261873,
           "variable": "pod order vol"
          },
          {
           "pod listing vol": 9075279.357225,
           "pod order vol": 2126695.261873,
           "season": 5389,
           "timestamp": "2022-03-19T00:00:09",
           "total bean vol": 17787963.937388,
           "total pod vol": 11201974.619098,
           "value": 17787963.937388,
           "variable": "total bean vol"
          },
          {
           "pod listing vol": 9075279.357225,
           "pod order vol": 2126695.261873,
           "season": 5389,
           "timestamp": "2022-03-19T00:00:09",
           "total bean vol": 17787963.937388,
           "total pod vol": 11201974.619098,
           "value": 11201974.619098,
           "variable": "total pod vol"
          },
          {
           "pod listing vol": 9341500.669542,
           "pod order vol": 2126695.261873,
           "season": 5413,
           "timestamp": "2022-03-20T00:00:11",
           "total bean vol": 18209286.107689,
           "total pod vol": 11468195.931415,
           "value": 9341500.669542,
           "variable": "pod listing vol"
          },
          {
           "pod listing vol": 9341500.669542,
           "pod order vol": 2126695.261873,
           "season": 5413,
           "timestamp": "2022-03-20T00:00:11",
           "total bean vol": 18209286.107689,
           "total pod vol": 11468195.931415,
           "value": 2126695.261873,
           "variable": "pod order vol"
          },
          {
           "pod listing vol": 9341500.669542,
           "pod order vol": 2126695.261873,
           "season": 5413,
           "timestamp": "2022-03-20T00:00:11",
           "total bean vol": 18209286.107689,
           "total pod vol": 11468195.931415,
           "value": 18209286.107689,
           "variable": "total bean vol"
          },
          {
           "pod listing vol": 9341500.669542,
           "pod order vol": 2126695.261873,
           "season": 5413,
           "timestamp": "2022-03-20T00:00:11",
           "total bean vol": 18209286.107689,
           "total pod vol": 11468195.931415,
           "value": 11468195.931415,
           "variable": "total pod vol"
          },
          {
           "pod listing vol": 9793211.52467,
           "pod order vol": 2162745.261873,
           "season": 5437,
           "timestamp": "2022-03-21T00:00:14",
           "total bean vol": 18397763.690389,
           "total pod vol": 11955956.786543,
           "value": 11955956.786543,
           "variable": "total pod vol"
          },
          {
           "pod listing vol": 9793211.52467,
           "pod order vol": 2162745.261873,
           "season": 5437,
           "timestamp": "2022-03-21T00:00:14",
           "total bean vol": 18397763.690389,
           "total pod vol": 11955956.786543,
           "value": 18397763.690389,
           "variable": "total bean vol"
          },
          {
           "pod listing vol": 9793211.52467,
           "pod order vol": 2162745.261873,
           "season": 5437,
           "timestamp": "2022-03-21T00:00:14",
           "total bean vol": 18397763.690389,
           "total pod vol": 11955956.786543,
           "value": 9793211.52467,
           "variable": "pod listing vol"
          },
          {
           "pod listing vol": 9793211.52467,
           "pod order vol": 2162745.261873,
           "season": 5437,
           "timestamp": "2022-03-21T00:00:14",
           "total bean vol": 18397763.690389,
           "total pod vol": 11955956.786543,
           "value": 2162745.261873,
           "variable": "pod order vol"
          },
          {
           "pod listing vol": 9996861.507966,
           "pod order vol": 2162745.261873,
           "season": 5461,
           "timestamp": "2022-03-22T00:00:02",
           "total bean vol": 18985014.381717,
           "total pod vol": 12159606.769839,
           "value": 9996861.507966,
           "variable": "pod listing vol"
          },
          {
           "pod listing vol": 9996861.507966,
           "pod order vol": 2162745.261873,
           "season": 5461,
           "timestamp": "2022-03-22T00:00:02",
           "total bean vol": 18985014.381717,
           "total pod vol": 12159606.769839,
           "value": 2162745.261873,
           "variable": "pod order vol"
          },
          {
           "pod listing vol": 9996861.507966,
           "pod order vol": 2162745.261873,
           "season": 5461,
           "timestamp": "2022-03-22T00:00:02",
           "total bean vol": 18985014.381717,
           "total pod vol": 12159606.769839,
           "value": 18985014.381717,
           "variable": "total bean vol"
          },
          {
           "pod listing vol": 9996861.507966,
           "pod order vol": 2162745.261873,
           "season": 5461,
           "timestamp": "2022-03-22T00:00:02",
           "total bean vol": 18985014.381717,
           "total pod vol": 12159606.769839,
           "value": 12159606.769839,
           "variable": "total pod vol"
          },
          {
           "pod listing vol": 10255544.093748,
           "pod order vol": 2162745.261873,
           "season": 5485,
           "timestamp": "2022-03-23T00:00:07",
           "total bean vol": 19085630.201625,
           "total pod vol": 12418289.355621,
           "value": 10255544.093748,
           "variable": "pod listing vol"
          },
          {
           "pod listing vol": 10255544.093748,
           "pod order vol": 2162745.261873,
           "season": 5485,
           "timestamp": "2022-03-23T00:00:07",
           "total bean vol": 19085630.201625,
           "total pod vol": 12418289.355621,
           "value": 2162745.261873,
           "variable": "pod order vol"
          },
          {
           "pod listing vol": 10255544.093748,
           "pod order vol": 2162745.261873,
           "season": 5485,
           "timestamp": "2022-03-23T00:00:07",
           "total bean vol": 19085630.201625,
           "total pod vol": 12418289.355621,
           "value": 19085630.201625,
           "variable": "total bean vol"
          },
          {
           "pod listing vol": 10255544.093748,
           "pod order vol": 2162745.261873,
           "season": 5485,
           "timestamp": "2022-03-23T00:00:07",
           "total bean vol": 19085630.201625,
           "total pod vol": 12418289.355621,
           "value": 12418289.355621,
           "variable": "total pod vol"
          },
          {
           "pod listing vol": 10937702.097924,
           "pod order vol": 2162745.261873,
           "season": 5509,
           "timestamp": "2022-03-24T00:00:59",
           "total bean vol": 19481229.69575,
           "total pod vol": 13100447.359797,
           "value": 10937702.097924,
           "variable": "pod listing vol"
          },
          {
           "pod listing vol": 10937702.097924,
           "pod order vol": 2162745.261873,
           "season": 5509,
           "timestamp": "2022-03-24T00:00:59",
           "total bean vol": 19481229.69575,
           "total pod vol": 13100447.359797,
           "value": 2162745.261873,
           "variable": "pod order vol"
          },
          {
           "pod listing vol": 10937702.097924,
           "pod order vol": 2162745.261873,
           "season": 5509,
           "timestamp": "2022-03-24T00:00:59",
           "total bean vol": 19481229.69575,
           "total pod vol": 13100447.359797,
           "value": 19481229.69575,
           "variable": "total bean vol"
          },
          {
           "pod listing vol": 10937702.097924,
           "pod order vol": 2162745.261873,
           "season": 5509,
           "timestamp": "2022-03-24T00:00:59",
           "total bean vol": 19481229.69575,
           "total pod vol": 13100447.359797,
           "value": 13100447.359797,
           "variable": "total pod vol"
          },
          {
           "pod listing vol": 11439206.70357,
           "pod order vol": 2171783.151003,
           "season": 5533,
           "timestamp": "2022-03-25T00:00:02",
           "total bean vol": 19868145.749939,
           "total pod vol": 13610989.854573,
           "value": 19868145.749939,
           "variable": "total bean vol"
          },
          {
           "pod listing vol": 11439206.70357,
           "pod order vol": 2171783.151003,
           "season": 5533,
           "timestamp": "2022-03-25T00:00:02",
           "total bean vol": 19868145.749939,
           "total pod vol": 13610989.854573,
           "value": 13610989.854573,
           "variable": "total pod vol"
          },
          {
           "pod listing vol": 11439206.70357,
           "pod order vol": 2171783.151003,
           "season": 5533,
           "timestamp": "2022-03-25T00:00:02",
           "total bean vol": 19868145.749939,
           "total pod vol": 13610989.854573,
           "value": 2171783.151003,
           "variable": "pod order vol"
          },
          {
           "pod listing vol": 11439206.70357,
           "pod order vol": 2171783.151003,
           "season": 5533,
           "timestamp": "2022-03-25T00:00:02",
           "total bean vol": 19868145.749939,
           "total pod vol": 13610989.854573,
           "value": 11439206.70357,
           "variable": "pod listing vol"
          },
          {
           "pod listing vol": 12058582.051629,
           "pod order vol": 2181959.119836,
           "season": 5557,
           "timestamp": "2022-03-26T00:00:19",
           "total bean vol": 20339057.989237,
           "total pod vol": 14240541.171465,
           "value": 12058582.051629,
           "variable": "pod listing vol"
          },
          {
           "pod listing vol": 12058582.051629,
           "pod order vol": 2181959.119836,
           "season": 5557,
           "timestamp": "2022-03-26T00:00:19",
           "total bean vol": 20339057.989237,
           "total pod vol": 14240541.171465,
           "value": 2181959.119836,
           "variable": "pod order vol"
          },
          {
           "pod listing vol": 12058582.051629,
           "pod order vol": 2181959.119836,
           "season": 5557,
           "timestamp": "2022-03-26T00:00:19",
           "total bean vol": 20339057.989237,
           "total pod vol": 14240541.171465,
           "value": 20339057.989237,
           "variable": "total bean vol"
          },
          {
           "pod listing vol": 12058582.051629,
           "pod order vol": 2181959.119836,
           "season": 5557,
           "timestamp": "2022-03-26T00:00:19",
           "total bean vol": 20339057.989237,
           "total pod vol": 14240541.171465,
           "value": 14240541.171465,
           "variable": "total pod vol"
          },
          {
           "pod listing vol": 12234567.125877,
           "pod order vol": 2337763.856509,
           "season": 5581,
           "timestamp": "2022-03-27T00:00:05",
           "total bean vol": 20586624.191921,
           "total pod vol": 14572330.982386,
           "value": 12234567.125877,
           "variable": "pod listing vol"
          },
          {
           "pod listing vol": 12234567.125877,
           "pod order vol": 2337763.856509,
           "season": 5581,
           "timestamp": "2022-03-27T00:00:05",
           "total bean vol": 20586624.191921,
           "total pod vol": 14572330.982386,
           "value": 2337763.856509,
           "variable": "pod order vol"
          },
          {
           "pod listing vol": 12234567.125877,
           "pod order vol": 2337763.856509,
           "season": 5581,
           "timestamp": "2022-03-27T00:00:05",
           "total bean vol": 20586624.191921,
           "total pod vol": 14572330.982386,
           "value": 20586624.191921,
           "variable": "total bean vol"
          },
          {
           "pod listing vol": 12234567.125877,
           "pod order vol": 2337763.856509,
           "season": 5581,
           "timestamp": "2022-03-27T00:00:05",
           "total bean vol": 20586624.191921,
           "total pod vol": 14572330.982386,
           "value": 14572330.982386,
           "variable": "total pod vol"
          },
          {
           "pod listing vol": 12252077.043808,
           "pod order vol": 2338817.073105,
           "season": 5605,
           "timestamp": "2022-03-28T00:01:21",
           "total bean vol": 20853823.865145,
           "total pod vol": 14590894.116913,
           "value": 14590894.116913,
           "variable": "total pod vol"
          },
          {
           "pod listing vol": 12252077.043808,
           "pod order vol": 2338817.073105,
           "season": 5605,
           "timestamp": "2022-03-28T00:01:21",
           "total bean vol": 20853823.865145,
           "total pod vol": 14590894.116913,
           "value": 12252077.043808,
           "variable": "pod listing vol"
          },
          {
           "pod listing vol": 12252077.043808,
           "pod order vol": 2338817.073105,
           "season": 5605,
           "timestamp": "2022-03-28T00:01:21",
           "total bean vol": 20853823.865145,
           "total pod vol": 14590894.116913,
           "value": 2338817.073105,
           "variable": "pod order vol"
          },
          {
           "pod listing vol": 12252077.043808,
           "pod order vol": 2338817.073105,
           "season": 5605,
           "timestamp": "2022-03-28T00:01:21",
           "total bean vol": 20853823.865145,
           "total pod vol": 14590894.116913,
           "value": 20853823.865145,
           "variable": "total bean vol"
          },
          {
           "pod listing vol": 12463341.499955,
           "pod order vol": 2338817.073105,
           "season": 5629,
           "timestamp": "2022-03-29T00:00:19",
           "total bean vol": 21073646.244386,
           "total pod vol": 14802158.57306,
           "value": 14802158.57306,
           "variable": "total pod vol"
          },
          {
           "pod listing vol": 12463341.499955,
           "pod order vol": 2338817.073105,
           "season": 5629,
           "timestamp": "2022-03-29T00:00:19",
           "total bean vol": 21073646.244386,
           "total pod vol": 14802158.57306,
           "value": 21073646.244386,
           "variable": "total bean vol"
          },
          {
           "pod listing vol": 12463341.499955,
           "pod order vol": 2338817.073105,
           "season": 5629,
           "timestamp": "2022-03-29T00:00:19",
           "total bean vol": 21073646.244386,
           "total pod vol": 14802158.57306,
           "value": 12463341.499955,
           "variable": "pod listing vol"
          },
          {
           "pod listing vol": 12463341.499955,
           "pod order vol": 2338817.073105,
           "season": 5629,
           "timestamp": "2022-03-29T00:00:19",
           "total bean vol": 21073646.244386,
           "total pod vol": 14802158.57306,
           "value": 2338817.073105,
           "variable": "pod order vol"
          },
          {
           "pod listing vol": 12787830.030649,
           "pod order vol": 2338817.073105,
           "season": 5653,
           "timestamp": "2022-03-30T00:00:24",
           "total bean vol": 21121598.412575,
           "total pod vol": 15126647.103754,
           "value": 12787830.030649,
           "variable": "pod listing vol"
          },
          {
           "pod listing vol": 12787830.030649,
           "pod order vol": 2338817.073105,
           "season": 5653,
           "timestamp": "2022-03-30T00:00:24",
           "total bean vol": 21121598.412575,
           "total pod vol": 15126647.103754,
           "value": 2338817.073105,
           "variable": "pod order vol"
          },
          {
           "pod listing vol": 12787830.030649,
           "pod order vol": 2338817.073105,
           "season": 5653,
           "timestamp": "2022-03-30T00:00:24",
           "total bean vol": 21121598.412575,
           "total pod vol": 15126647.103754,
           "value": 21121598.412575,
           "variable": "total bean vol"
          },
          {
           "pod listing vol": 12787830.030649,
           "pod order vol": 2338817.073105,
           "season": 5653,
           "timestamp": "2022-03-30T00:00:24",
           "total bean vol": 21121598.412575,
           "total pod vol": 15126647.103754,
           "value": 15126647.103754,
           "variable": "total pod vol"
          },
          {
           "pod listing vol": 12882564.599452,
           "pod order vol": 2338817.073105,
           "season": 5677,
           "timestamp": "2022-03-31T00:00:03",
           "total bean vol": 21143783.354289,
           "total pod vol": 15221381.672557,
           "value": 21143783.354289,
           "variable": "total bean vol"
          },
          {
           "pod listing vol": 12882564.599452,
           "pod order vol": 2338817.073105,
           "season": 5677,
           "timestamp": "2022-03-31T00:00:03",
           "total bean vol": 21143783.354289,
           "total pod vol": 15221381.672557,
           "value": 12882564.599452,
           "variable": "pod listing vol"
          },
          {
           "pod listing vol": 12882564.599452,
           "pod order vol": 2338817.073105,
           "season": 5677,
           "timestamp": "2022-03-31T00:00:03",
           "total bean vol": 21143783.354289,
           "total pod vol": 15221381.672557,
           "value": 2338817.073105,
           "variable": "pod order vol"
          },
          {
           "pod listing vol": 12882564.599452,
           "pod order vol": 2338817.073105,
           "season": 5677,
           "timestamp": "2022-03-31T00:00:03",
           "total bean vol": 21143783.354289,
           "total pod vol": 15221381.672557,
           "value": 15221381.672557,
           "variable": "total pod vol"
          },
          {
           "pod listing vol": 13033401.919454,
           "pod order vol": 2347290.22673,
           "season": 5701,
           "timestamp": "2022-04-01T00:00:21",
           "total bean vol": 21534241.518434,
           "total pod vol": 15380692.146184,
           "value": 15380692.146184,
           "variable": "total pod vol"
          },
          {
           "pod listing vol": 13033401.919454,
           "pod order vol": 2347290.22673,
           "season": 5701,
           "timestamp": "2022-04-01T00:00:21",
           "total bean vol": 21534241.518434,
           "total pod vol": 15380692.146184,
           "value": 21534241.518434,
           "variable": "total bean vol"
          },
          {
           "pod listing vol": 13033401.919454,
           "pod order vol": 2347290.22673,
           "season": 5701,
           "timestamp": "2022-04-01T00:00:21",
           "total bean vol": 21534241.518434,
           "total pod vol": 15380692.146184,
           "value": 2347290.22673,
           "variable": "pod order vol"
          },
          {
           "pod listing vol": 13033401.919454,
           "pod order vol": 2347290.22673,
           "season": 5701,
           "timestamp": "2022-04-01T00:00:21",
           "total bean vol": 21534241.518434,
           "total pod vol": 15380692.146184,
           "value": 13033401.919454,
           "variable": "pod listing vol"
          },
          {
           "pod listing vol": 13207190.7293,
           "pod order vol": 2349002.45642,
           "season": 5725,
           "timestamp": "2022-04-02T00:00:09",
           "total bean vol": 21813662.539686,
           "total pod vol": 15556193.18572,
           "value": 13207190.7293,
           "variable": "pod listing vol"
          },
          {
           "pod listing vol": 13207190.7293,
           "pod order vol": 2349002.45642,
           "season": 5725,
           "timestamp": "2022-04-02T00:00:09",
           "total bean vol": 21813662.539686,
           "total pod vol": 15556193.18572,
           "value": 2349002.45642,
           "variable": "pod order vol"
          },
          {
           "pod listing vol": 13207190.7293,
           "pod order vol": 2349002.45642,
           "season": 5725,
           "timestamp": "2022-04-02T00:00:09",
           "total bean vol": 21813662.539686,
           "total pod vol": 15556193.18572,
           "value": 21813662.539686,
           "variable": "total bean vol"
          },
          {
           "pod listing vol": 13207190.7293,
           "pod order vol": 2349002.45642,
           "season": 5725,
           "timestamp": "2022-04-02T00:00:09",
           "total bean vol": 21813662.539686,
           "total pod vol": 15556193.18572,
           "value": 15556193.18572,
           "variable": "total pod vol"
          },
          {
           "pod listing vol": 13323910.753581,
           "pod order vol": 2349412.190742,
           "season": 5749,
           "timestamp": "2022-04-03T00:00:06",
           "total bean vol": 21878739.239363,
           "total pod vol": 15673322.944323,
           "value": 13323910.753581,
           "variable": "pod listing vol"
          },
          {
           "pod listing vol": 13323910.753581,
           "pod order vol": 2349412.190742,
           "season": 5749,
           "timestamp": "2022-04-03T00:00:06",
           "total bean vol": 21878739.239363,
           "total pod vol": 15673322.944323,
           "value": 2349412.190742,
           "variable": "pod order vol"
          },
          {
           "pod listing vol": 13323910.753581,
           "pod order vol": 2349412.190742,
           "season": 5749,
           "timestamp": "2022-04-03T00:00:06",
           "total bean vol": 21878739.239363,
           "total pod vol": 15673322.944323,
           "value": 21878739.239363,
           "variable": "total bean vol"
          },
          {
           "pod listing vol": 13323910.753581,
           "pod order vol": 2349412.190742,
           "season": 5749,
           "timestamp": "2022-04-03T00:00:06",
           "total bean vol": 21878739.239363,
           "total pod vol": 15673322.944323,
           "value": 15673322.944323,
           "variable": "total pod vol"
          },
          {
           "pod listing vol": 13559555.190347,
           "pod order vol": 2369412.190742,
           "season": 5773,
           "timestamp": "2022-04-04T00:00:00",
           "total bean vol": 22263124.378413,
           "total pod vol": 15928967.381089,
           "value": 22263124.378413,
           "variable": "total bean vol"
          },
          {
           "pod listing vol": 13559555.190347,
           "pod order vol": 2369412.190742,
           "season": 5773,
           "timestamp": "2022-04-04T00:00:00",
           "total bean vol": 22263124.378413,
           "total pod vol": 15928967.381089,
           "value": 15928967.381089,
           "variable": "total pod vol"
          },
          {
           "pod listing vol": 13559555.190347,
           "pod order vol": 2369412.190742,
           "season": 5773,
           "timestamp": "2022-04-04T00:00:00",
           "total bean vol": 22263124.378413,
           "total pod vol": 15928967.381089,
           "value": 13559555.190347,
           "variable": "pod listing vol"
          },
          {
           "pod listing vol": 13559555.190347,
           "pod order vol": 2369412.190742,
           "season": 5773,
           "timestamp": "2022-04-04T00:00:00",
           "total bean vol": 22263124.378413,
           "total pod vol": 15928967.381089,
           "value": 2369412.190742,
           "variable": "pod order vol"
          },
          {
           "pod listing vol": 13795715.296446,
           "pod order vol": 2369412.190742,
           "season": 5797,
           "timestamp": "2022-04-05T00:00:21",
           "total bean vol": 22551156.678567,
           "total pod vol": 16165127.487188,
           "value": 13795715.296446,
           "variable": "pod listing vol"
          },
          {
           "pod listing vol": 13795715.296446,
           "pod order vol": 2369412.190742,
           "season": 5797,
           "timestamp": "2022-04-05T00:00:21",
           "total bean vol": 22551156.678567,
           "total pod vol": 16165127.487188,
           "value": 2369412.190742,
           "variable": "pod order vol"
          },
          {
           "pod listing vol": 13795715.296446,
           "pod order vol": 2369412.190742,
           "season": 5797,
           "timestamp": "2022-04-05T00:00:21",
           "total bean vol": 22551156.678567,
           "total pod vol": 16165127.487188,
           "value": 22551156.678567,
           "variable": "total bean vol"
          },
          {
           "pod listing vol": 13795715.296446,
           "pod order vol": 2369412.190742,
           "season": 5797,
           "timestamp": "2022-04-05T00:00:21",
           "total bean vol": 22551156.678567,
           "total pod vol": 16165127.487188,
           "value": 16165127.487188,
           "variable": "total pod vol"
          },
          {
           "pod listing vol": 14074805.550379,
           "pod order vol": 2369412.190742,
           "season": 5821,
           "timestamp": "2022-04-06T00:00:27",
           "total bean vol": 22652265.293218,
           "total pod vol": 16444217.741121,
           "value": 14074805.550379,
           "variable": "pod listing vol"
          },
          {
           "pod listing vol": 14074805.550379,
           "pod order vol": 2369412.190742,
           "season": 5821,
           "timestamp": "2022-04-06T00:00:27",
           "total bean vol": 22652265.293218,
           "total pod vol": 16444217.741121,
           "value": 2369412.190742,
           "variable": "pod order vol"
          },
          {
           "pod listing vol": 14074805.550379,
           "pod order vol": 2369412.190742,
           "season": 5821,
           "timestamp": "2022-04-06T00:00:27",
           "total bean vol": 22652265.293218,
           "total pod vol": 16444217.741121,
           "value": 22652265.293218,
           "variable": "total bean vol"
          },
          {
           "pod listing vol": 14074805.550379,
           "pod order vol": 2369412.190742,
           "season": 5821,
           "timestamp": "2022-04-06T00:00:27",
           "total bean vol": 22652265.293218,
           "total pod vol": 16444217.741121,
           "value": 16444217.741121,
           "variable": "total pod vol"
          },
          {
           "pod listing vol": 14310063.076692,
           "pod order vol": 2459412.190742,
           "season": 5845,
           "timestamp": "2022-04-07T00:01:08",
           "total bean vol": 22745907.600655,
           "total pod vol": 16769475.267434,
           "value": 16769475.267434,
           "variable": "total pod vol"
          },
          {
           "pod listing vol": 14310063.076692,
           "pod order vol": 2459412.190742,
           "season": 5845,
           "timestamp": "2022-04-07T00:01:08",
           "total bean vol": 22745907.600655,
           "total pod vol": 16769475.267434,
           "value": 14310063.076692,
           "variable": "pod listing vol"
          },
          {
           "pod listing vol": 14310063.076692,
           "pod order vol": 2459412.190742,
           "season": 5845,
           "timestamp": "2022-04-07T00:01:08",
           "total bean vol": 22745907.600655,
           "total pod vol": 16769475.267434,
           "value": 2459412.190742,
           "variable": "pod order vol"
          },
          {
           "pod listing vol": 14310063.076692,
           "pod order vol": 2459412.190742,
           "season": 5845,
           "timestamp": "2022-04-07T00:01:08",
           "total bean vol": 22745907.600655,
           "total pod vol": 16769475.267434,
           "value": 22745907.600655,
           "variable": "total bean vol"
          },
          {
           "pod listing vol": 14404836.401523,
           "pod order vol": 2459412.190742,
           "season": 5869,
           "timestamp": "2022-04-08T00:00:13",
           "total bean vol": 22762963.307318,
           "total pod vol": 16864248.592265,
           "value": 22762963.307318,
           "variable": "total bean vol"
          },
          {
           "pod listing vol": 14404836.401523,
           "pod order vol": 2459412.190742,
           "season": 5869,
           "timestamp": "2022-04-08T00:00:13",
           "total bean vol": 22762963.307318,
           "total pod vol": 16864248.592265,
           "value": 16864248.592265,
           "variable": "total pod vol"
          },
          {
           "pod listing vol": 14404836.401523,
           "pod order vol": 2459412.190742,
           "season": 5869,
           "timestamp": "2022-04-08T00:00:13",
           "total bean vol": 22762963.307318,
           "total pod vol": 16864248.592265,
           "value": 14404836.401523,
           "variable": "pod listing vol"
          },
          {
           "pod listing vol": 14404836.401523,
           "pod order vol": 2459412.190742,
           "season": 5869,
           "timestamp": "2022-04-08T00:00:13",
           "total bean vol": 22762963.307318,
           "total pod vol": 16864248.592265,
           "value": 2459412.190742,
           "variable": "pod order vol"
          },
          {
           "pod listing vol": 14740685.914775,
           "pod order vol": 2521068.219765,
           "season": 5893,
           "timestamp": "2022-04-09T00:00:00",
           "total bean vol": 22901542.586502,
           "total pod vol": 17261754.13454,
           "value": 22901542.586502,
           "variable": "total bean vol"
          },
          {
           "pod listing vol": 14740685.914775,
           "pod order vol": 2521068.219765,
           "season": 5893,
           "timestamp": "2022-04-09T00:00:00",
           "total bean vol": 22901542.586502,
           "total pod vol": 17261754.13454,
           "value": 17261754.13454,
           "variable": "total pod vol"
          },
          {
           "pod listing vol": 14740685.914775,
           "pod order vol": 2521068.219765,
           "season": 5893,
           "timestamp": "2022-04-09T00:00:00",
           "total bean vol": 22901542.586502,
           "total pod vol": 17261754.13454,
           "value": 14740685.914775,
           "variable": "pod listing vol"
          },
          {
           "pod listing vol": 14740685.914775,
           "pod order vol": 2521068.219765,
           "season": 5893,
           "timestamp": "2022-04-09T00:00:00",
           "total bean vol": 22901542.586502,
           "total pod vol": 17261754.13454,
           "value": 2521068.219765,
           "variable": "pod order vol"
          },
          {
           "pod listing vol": 14971836.040466,
           "pod order vol": 2531166.357637,
           "season": 5917,
           "timestamp": "2022-04-10T00:02:19",
           "total bean vol": 23025553.990942,
           "total pod vol": 17503002.398103,
           "value": 17503002.398103,
           "variable": "total pod vol"
          },
          {
           "pod listing vol": 14971836.040466,
           "pod order vol": 2531166.357637,
           "season": 5917,
           "timestamp": "2022-04-10T00:02:19",
           "total bean vol": 23025553.990942,
           "total pod vol": 17503002.398103,
           "value": 23025553.990942,
           "variable": "total bean vol"
          },
          {
           "pod listing vol": 14971836.040466,
           "pod order vol": 2531166.357637,
           "season": 5917,
           "timestamp": "2022-04-10T00:02:19",
           "total bean vol": 23025553.990942,
           "total pod vol": 17503002.398103,
           "value": 2531166.357637,
           "variable": "pod order vol"
          },
          {
           "pod listing vol": 14971836.040466,
           "pod order vol": 2531166.357637,
           "season": 5917,
           "timestamp": "2022-04-10T00:02:19",
           "total bean vol": 23025553.990942,
           "total pod vol": 17503002.398103,
           "value": 14971836.040466,
           "variable": "pod listing vol"
          },
          {
           "pod listing vol": 15963434.629309,
           "pod order vol": 2577056.235948,
           "season": 5941,
           "timestamp": "2022-04-11T00:00:03",
           "total bean vol": 23353199.374269,
           "total pod vol": 18540490.865257,
           "value": 15963434.629309,
           "variable": "pod listing vol"
          },
          {
           "pod listing vol": 15963434.629309,
           "pod order vol": 2577056.235948,
           "season": 5941,
           "timestamp": "2022-04-11T00:00:03",
           "total bean vol": 23353199.374269,
           "total pod vol": 18540490.865257,
           "value": 2577056.235948,
           "variable": "pod order vol"
          },
          {
           "pod listing vol": 15963434.629309,
           "pod order vol": 2577056.235948,
           "season": 5941,
           "timestamp": "2022-04-11T00:00:03",
           "total bean vol": 23353199.374269,
           "total pod vol": 18540490.865257,
           "value": 23353199.374269,
           "variable": "total bean vol"
          },
          {
           "pod listing vol": 15963434.629309,
           "pod order vol": 2577056.235948,
           "season": 5941,
           "timestamp": "2022-04-11T00:00:03",
           "total bean vol": 23353199.374269,
           "total pod vol": 18540490.865257,
           "value": 18540490.865257,
           "variable": "total pod vol"
          },
          {
           "pod listing vol": 19783922.212272,
           "pod order vol": 2654243.776766,
           "season": 5965,
           "timestamp": "2022-04-12T00:00:14",
           "total bean vol": 25741144.675423,
           "total pod vol": 22438165.989038,
           "value": 19783922.212272,
           "variable": "pod listing vol"
          },
          {
           "pod listing vol": 19783922.212272,
           "pod order vol": 2654243.776766,
           "season": 5965,
           "timestamp": "2022-04-12T00:00:14",
           "total bean vol": 25741144.675423,
           "total pod vol": 22438165.989038,
           "value": 2654243.776766,
           "variable": "pod order vol"
          },
          {
           "pod listing vol": 19783922.212272,
           "pod order vol": 2654243.776766,
           "season": 5965,
           "timestamp": "2022-04-12T00:00:14",
           "total bean vol": 25741144.675423,
           "total pod vol": 22438165.989038,
           "value": 25741144.675423,
           "variable": "total bean vol"
          },
          {
           "pod listing vol": 19783922.212272,
           "pod order vol": 2654243.776766,
           "season": 5965,
           "timestamp": "2022-04-12T00:00:14",
           "total bean vol": 25741144.675423,
           "total pod vol": 22438165.989038,
           "value": 22438165.989038,
           "variable": "total pod vol"
          },
          {
           "pod listing vol": 23130227.433895,
           "pod order vol": 2655105.086016,
           "season": 5989,
           "timestamp": "2022-04-13T00:00:14",
           "total bean vol": 27715880.542333,
           "total pod vol": 25785332.519911,
           "value": 23130227.433895,
           "variable": "pod listing vol"
          },
          {
           "pod listing vol": 23130227.433895,
           "pod order vol": 2655105.086016,
           "season": 5989,
           "timestamp": "2022-04-13T00:00:14",
           "total bean vol": 27715880.542333,
           "total pod vol": 25785332.519911,
           "value": 2655105.086016,
           "variable": "pod order vol"
          },
          {
           "pod listing vol": 23130227.433895,
           "pod order vol": 2655105.086016,
           "season": 5989,
           "timestamp": "2022-04-13T00:00:14",
           "total bean vol": 27715880.542333,
           "total pod vol": 25785332.519911,
           "value": 27715880.542333,
           "variable": "total bean vol"
          },
          {
           "pod listing vol": 23130227.433895,
           "pod order vol": 2655105.086016,
           "season": 5989,
           "timestamp": "2022-04-13T00:00:14",
           "total bean vol": 27715880.542333,
           "total pod vol": 25785332.519911,
           "value": 25785332.519911,
           "variable": "total pod vol"
          },
          {
           "pod listing vol": 26180153.152342,
           "pod order vol": 2828133.005571,
           "season": 6013,
           "timestamp": "2022-04-14T00:00:06",
           "total bean vol": 30547964.527545,
           "total pod vol": 29008286.157913,
           "value": 29008286.157913,
           "variable": "total pod vol"
          },
          {
           "pod listing vol": 26180153.152342,
           "pod order vol": 2828133.005571,
           "season": 6013,
           "timestamp": "2022-04-14T00:00:06",
           "total bean vol": 30547964.527545,
           "total pod vol": 29008286.157913,
           "value": 30547964.527545,
           "variable": "total bean vol"
          },
          {
           "pod listing vol": 26180153.152342,
           "pod order vol": 2828133.005571,
           "season": 6013,
           "timestamp": "2022-04-14T00:00:06",
           "total bean vol": 30547964.527545,
           "total pod vol": 29008286.157913,
           "value": 2828133.005571,
           "variable": "pod order vol"
          },
          {
           "pod listing vol": 26180153.152342,
           "pod order vol": 2828133.005571,
           "season": 6013,
           "timestamp": "2022-04-14T00:00:06",
           "total bean vol": 30547964.527545,
           "total pod vol": 29008286.157913,
           "value": 26180153.152342,
           "variable": "pod listing vol"
          },
          {
           "pod listing vol": 30255895.358546,
           "pod order vol": 4498024.897462,
           "season": 6037,
           "timestamp": "2022-04-15T00:00:36",
           "total bean vol": 32750148.311866,
           "total pod vol": 34753920.256008,
           "value": 30255895.358546,
           "variable": "pod listing vol"
          },
          {
           "pod listing vol": 30255895.358546,
           "pod order vol": 4498024.897462,
           "season": 6037,
           "timestamp": "2022-04-15T00:00:36",
           "total bean vol": 32750148.311866,
           "total pod vol": 34753920.256008,
           "value": 4498024.897462,
           "variable": "pod order vol"
          },
          {
           "pod listing vol": 30255895.358546,
           "pod order vol": 4498024.897462,
           "season": 6037,
           "timestamp": "2022-04-15T00:00:36",
           "total bean vol": 32750148.311866,
           "total pod vol": 34753920.256008,
           "value": 32750148.311866,
           "variable": "total bean vol"
          },
          {
           "pod listing vol": 30255895.358546,
           "pod order vol": 4498024.897462,
           "season": 6037,
           "timestamp": "2022-04-15T00:00:36",
           "total bean vol": 32750148.311866,
           "total pod vol": 34753920.256008,
           "value": 34753920.256008,
           "variable": "total pod vol"
          },
          {
           "pod listing vol": 34725128.948987,
           "pod order vol": 4501396.092105,
           "season": 6061,
           "timestamp": "2022-04-16T00:00:56",
           "total bean vol": 36287896.898515,
           "total pod vol": 39226525.041092,
           "value": 34725128.948987,
           "variable": "pod listing vol"
          },
          {
           "pod listing vol": 34725128.948987,
           "pod order vol": 4501396.092105,
           "season": 6061,
           "timestamp": "2022-04-16T00:00:56",
           "total bean vol": 36287896.898515,
           "total pod vol": 39226525.041092,
           "value": 4501396.092105,
           "variable": "pod order vol"
          },
          {
           "pod listing vol": 34725128.948987,
           "pod order vol": 4501396.092105,
           "season": 6061,
           "timestamp": "2022-04-16T00:00:56",
           "total bean vol": 36287896.898515,
           "total pod vol": 39226525.041092,
           "value": 36287896.898515,
           "variable": "total bean vol"
          },
          {
           "pod listing vol": 34725128.948987,
           "pod order vol": 4501396.092105,
           "season": 6061,
           "timestamp": "2022-04-16T00:00:56",
           "total bean vol": 36287896.898515,
           "total pod vol": 39226525.041092,
           "value": 39226525.041092,
           "variable": "total pod vol"
          },
          {
           "pod listing vol": 36726401.595964,
           "pod order vol": 6612844.586573,
           "season": 6074,
           "timestamp": "2022-04-17T00:00:12",
           "total bean vol": 37641149.280764,
           "total pod vol": 43339246.182537,
           "value": 36726401.595964,
           "variable": "pod listing vol"
          },
          {
           "pod listing vol": 36726401.595964,
           "pod order vol": 6612844.586573,
           "season": 6074,
           "timestamp": "2022-04-17T00:00:12",
           "total bean vol": 37641149.280764,
           "total pod vol": 43339246.182537,
           "value": 6612844.586573,
           "variable": "pod order vol"
          },
          {
           "pod listing vol": 36726401.595964,
           "pod order vol": 6612844.586573,
           "season": 6074,
           "timestamp": "2022-04-17T00:00:12",
           "total bean vol": 37641149.280764,
           "total pod vol": 43339246.182537,
           "value": 37641149.280764,
           "variable": "total bean vol"
          },
          {
           "pod listing vol": 36726401.595964,
           "pod order vol": 6612844.586573,
           "season": 6074,
           "timestamp": "2022-04-17T00:00:12",
           "total bean vol": 37641149.280764,
           "total pod vol": 43339246.182537,
           "value": 43339246.182537,
           "variable": "total pod vol"
          },
          {
           "pod listing vol": 36726401.595964,
           "pod order vol": 6612844.586573,
           "season": 6074,
           "timestamp": "2022-08-04T20:23:24",
           "total bean vol": 37641149.280764,
           "total pod vol": 43339246.182537,
           "value": 43339246.182537,
           "variable": "total pod vol"
          },
          {
           "pod listing vol": 36726401.595964,
           "pod order vol": 6612844.586573,
           "season": 6074,
           "timestamp": "2022-08-04T20:23:24",
           "total bean vol": 37641149.280764,
           "total pod vol": 43339246.182537,
           "value": 37641149.280764,
           "variable": "total bean vol"
          },
          {
           "pod listing vol": 36726401.595964,
           "pod order vol": 6612844.586573,
           "season": 6074,
           "timestamp": "2022-08-04T20:23:24",
           "total bean vol": 37641149.280764,
           "total pod vol": 43339246.182537,
           "value": 6612844.586573,
           "variable": "pod order vol"
          },
          {
           "pod listing vol": 36726401.595964,
           "pod order vol": 6612844.586573,
           "season": 6074,
           "timestamp": "2022-08-04T20:23:24",
           "total bean vol": 37641149.280764,
           "total pod vol": 43339246.182537,
           "value": 36726401.595964,
           "variable": "pod listing vol"
          },
          {
           "pod listing vol": 36734580.012437,
           "pod order vol": 6612844.586573,
           "season": 6074,
           "timestamp": "2022-08-05T03:40:44",
           "total bean vol": 38466206.630887,
           "total pod vol": 43347424.59901,
           "value": 36734580.012437,
           "variable": "pod listing vol"
          },
          {
           "pod listing vol": 36734580.012437,
           "pod order vol": 6612844.586573,
           "season": 6074,
           "timestamp": "2022-08-05T03:40:44",
           "total bean vol": 38466206.630887,
           "total pod vol": 43347424.59901,
           "value": 6612844.586573,
           "variable": "pod order vol"
          },
          {
           "pod listing vol": 36734580.012437,
           "pod order vol": 6612844.586573,
           "season": 6074,
           "timestamp": "2022-08-05T03:40:44",
           "total bean vol": 38466206.630887,
           "total pod vol": 43347424.59901,
           "value": 38466206.630887,
           "variable": "total bean vol"
          },
          {
           "pod listing vol": 36734580.012437,
           "pod order vol": 6612844.586573,
           "season": 6074,
           "timestamp": "2022-08-05T03:40:44",
           "total bean vol": 38466206.630887,
           "total pod vol": 43347424.59901,
           "value": 43347424.59901,
           "variable": "total pod vol"
          },
          {
           "pod listing vol": 36743322.824056,
           "pod order vol": 6612844.586573,
           "season": 6081,
           "timestamp": "2022-08-06T01:25:25",
           "total bean vol": 38934205.070184,
           "total pod vol": 43356167.410629,
           "value": 36743322.824056,
           "variable": "pod listing vol"
          },
          {
           "pod listing vol": 36743322.824056,
           "pod order vol": 6612844.586573,
           "season": 6081,
           "timestamp": "2022-08-06T01:25:25",
           "total bean vol": 38934205.070184,
           "total pod vol": 43356167.410629,
           "value": 6612844.586573,
           "variable": "pod order vol"
          },
          {
           "pod listing vol": 36743322.824056,
           "pod order vol": 6612844.586573,
           "season": 6081,
           "timestamp": "2022-08-06T01:25:25",
           "total bean vol": 38934205.070184,
           "total pod vol": 43356167.410629,
           "value": 38934205.070184,
           "variable": "total bean vol"
          },
          {
           "pod listing vol": 36743322.824056,
           "pod order vol": 6612844.586573,
           "season": 6081,
           "timestamp": "2022-08-06T01:25:25",
           "total bean vol": 38934205.070184,
           "total pod vol": 43356167.410629,
           "value": 43356167.410629,
           "variable": "total pod vol"
          },
          {
           "pod listing vol": 37819221.832261,
           "pod order vol": 6660227.89123,
           "season": 6105,
           "timestamp": "2022-08-07T00:00:03",
           "total bean vol": 40078576.617375,
           "total pod vol": 44479449.723491,
           "value": 37819221.832261,
           "variable": "pod listing vol"
          },
          {
           "pod listing vol": 37819221.832261,
           "pod order vol": 6660227.89123,
           "season": 6105,
           "timestamp": "2022-08-07T00:00:03",
           "total bean vol": 40078576.617375,
           "total pod vol": 44479449.723491,
           "value": 6660227.89123,
           "variable": "pod order vol"
          },
          {
           "pod listing vol": 37819221.832261,
           "pod order vol": 6660227.89123,
           "season": 6105,
           "timestamp": "2022-08-07T00:00:03",
           "total bean vol": 40078576.617375,
           "total pod vol": 44479449.723491,
           "value": 40078576.617375,
           "variable": "total bean vol"
          },
          {
           "pod listing vol": 37819221.832261,
           "pod order vol": 6660227.89123,
           "season": 6105,
           "timestamp": "2022-08-07T00:00:03",
           "total bean vol": 40078576.617375,
           "total pod vol": 44479449.723491,
           "value": 44479449.723491,
           "variable": "total pod vol"
          },
          {
           "pod listing vol": 38017090.883594,
           "pod order vol": 6760227.89123,
           "season": 6129,
           "timestamp": "2022-08-08T00:00:00",
           "total bean vol": 42224606.716692,
           "total pod vol": 44777318.774824,
           "value": 44777318.774824,
           "variable": "total pod vol"
          },
          {
           "pod listing vol": 38017090.883594,
           "pod order vol": 6760227.89123,
           "season": 6129,
           "timestamp": "2022-08-08T00:00:00",
           "total bean vol": 42224606.716692,
           "total pod vol": 44777318.774824,
           "value": 42224606.716692,
           "variable": "total bean vol"
          },
          {
           "pod listing vol": 38017090.883594,
           "pod order vol": 6760227.89123,
           "season": 6129,
           "timestamp": "2022-08-08T00:00:00",
           "total bean vol": 42224606.716692,
           "total pod vol": 44777318.774824,
           "value": 38017090.883594,
           "variable": "pod listing vol"
          },
          {
           "pod listing vol": 38017090.883594,
           "pod order vol": 6760227.89123,
           "season": 6129,
           "timestamp": "2022-08-08T00:00:00",
           "total bean vol": 42224606.716692,
           "total pod vol": 44777318.774824,
           "value": 6760227.89123,
           "variable": "pod order vol"
          },
          {
           "pod listing vol": 38370466.500347,
           "pod order vol": 6760227.89123,
           "season": 6153,
           "timestamp": "2022-08-09T00:00:08",
           "total bean vol": 42743314.983064,
           "total pod vol": 45130694.391577,
           "value": 38370466.500347,
           "variable": "pod listing vol"
          },
          {
           "pod listing vol": 38370466.500347,
           "pod order vol": 6760227.89123,
           "season": 6153,
           "timestamp": "2022-08-09T00:00:08",
           "total bean vol": 42743314.983064,
           "total pod vol": 45130694.391577,
           "value": 6760227.89123,
           "variable": "pod order vol"
          },
          {
           "pod listing vol": 38370466.500347,
           "pod order vol": 6760227.89123,
           "season": 6153,
           "timestamp": "2022-08-09T00:00:08",
           "total bean vol": 42743314.983064,
           "total pod vol": 45130694.391577,
           "value": 42743314.983064,
           "variable": "total bean vol"
          },
          {
           "pod listing vol": 38370466.500347,
           "pod order vol": 6760227.89123,
           "season": 6153,
           "timestamp": "2022-08-09T00:00:08",
           "total bean vol": 42743314.983064,
           "total pod vol": 45130694.391577,
           "value": 45130694.391577,
           "variable": "total pod vol"
          },
          {
           "pod listing vol": 38472678.154532,
           "pod order vol": 6760227.89123,
           "season": 6177,
           "timestamp": "2022-08-10T00:00:24",
           "total bean vol": 43570993.596558,
           "total pod vol": 45232906.045762,
           "value": 38472678.154532,
           "variable": "pod listing vol"
          },
          {
           "pod listing vol": 38472678.154532,
           "pod order vol": 6760227.89123,
           "season": 6177,
           "timestamp": "2022-08-10T00:00:24",
           "total bean vol": 43570993.596558,
           "total pod vol": 45232906.045762,
           "value": 6760227.89123,
           "variable": "pod order vol"
          },
          {
           "pod listing vol": 38472678.154532,
           "pod order vol": 6760227.89123,
           "season": 6177,
           "timestamp": "2022-08-10T00:00:24",
           "total bean vol": 43570993.596558,
           "total pod vol": 45232906.045762,
           "value": 43570993.596558,
           "variable": "total bean vol"
          },
          {
           "pod listing vol": 38472678.154532,
           "pod order vol": 6760227.89123,
           "season": 6177,
           "timestamp": "2022-08-10T00:00:24",
           "total bean vol": 43570993.596558,
           "total pod vol": 45232906.045762,
           "value": 45232906.045762,
           "variable": "total pod vol"
          },
          {
           "pod listing vol": 38504134.101695,
           "pod order vol": 6760227.89123,
           "season": 6201,
           "timestamp": "2022-08-11T00:00:14",
           "total bean vol": 43785927.827369,
           "total pod vol": 45264361.992925,
           "value": 38504134.101695,
           "variable": "pod listing vol"
          },
          {
           "pod listing vol": 38504134.101695,
           "pod order vol": 6760227.89123,
           "season": 6201,
           "timestamp": "2022-08-11T00:00:14",
           "total bean vol": 43785927.827369,
           "total pod vol": 45264361.992925,
           "value": 6760227.89123,
           "variable": "pod order vol"
          },
          {
           "pod listing vol": 38504134.101695,
           "pod order vol": 6760227.89123,
           "season": 6201,
           "timestamp": "2022-08-11T00:00:14",
           "total bean vol": 43785927.827369,
           "total pod vol": 45264361.992925,
           "value": 43785927.827369,
           "variable": "total bean vol"
          },
          {
           "pod listing vol": 38504134.101695,
           "pod order vol": 6760227.89123,
           "season": 6201,
           "timestamp": "2022-08-11T00:00:14",
           "total bean vol": 43785927.827369,
           "total pod vol": 45264361.992925,
           "value": 45264361.992925,
           "variable": "total pod vol"
          },
          {
           "pod listing vol": 38524497.88974,
           "pod order vol": 6760227.89123,
           "season": 6225,
           "timestamp": "2022-08-12T00:00:17",
           "total bean vol": 44676998.298597,
           "total pod vol": 45284725.78097,
           "value": 45284725.78097,
           "variable": "total pod vol"
          },
          {
           "pod listing vol": 38524497.88974,
           "pod order vol": 6760227.89123,
           "season": 6225,
           "timestamp": "2022-08-12T00:00:17",
           "total bean vol": 44676998.298597,
           "total pod vol": 45284725.78097,
           "value": 44676998.298597,
           "variable": "total bean vol"
          },
          {
           "pod listing vol": 38524497.88974,
           "pod order vol": 6760227.89123,
           "season": 6225,
           "timestamp": "2022-08-12T00:00:17",
           "total bean vol": 44676998.298597,
           "total pod vol": 45284725.78097,
           "value": 6760227.89123,
           "variable": "pod order vol"
          },
          {
           "pod listing vol": 38524497.88974,
           "pod order vol": 6760227.89123,
           "season": 6225,
           "timestamp": "2022-08-12T00:00:17",
           "total bean vol": 44676998.298597,
           "total pod vol": 45284725.78097,
           "value": 38524497.88974,
           "variable": "pod listing vol"
          },
          {
           "pod listing vol": 38544497.88974,
           "pod order vol": 6891065.483696,
           "season": 6249,
           "timestamp": "2022-08-13T00:00:03",
           "total bean vol": 44801163.83047,
           "total pod vol": 45435563.373436,
           "value": 38544497.88974,
           "variable": "pod listing vol"
          },
          {
           "pod listing vol": 38544497.88974,
           "pod order vol": 6891065.483696,
           "season": 6249,
           "timestamp": "2022-08-13T00:00:03",
           "total bean vol": 44801163.83047,
           "total pod vol": 45435563.373436,
           "value": 6891065.483696,
           "variable": "pod order vol"
          },
          {
           "pod listing vol": 38544497.88974,
           "pod order vol": 6891065.483696,
           "season": 6249,
           "timestamp": "2022-08-13T00:00:03",
           "total bean vol": 44801163.83047,
           "total pod vol": 45435563.373436,
           "value": 44801163.83047,
           "variable": "total bean vol"
          },
          {
           "pod listing vol": 38544497.88974,
           "pod order vol": 6891065.483696,
           "season": 6249,
           "timestamp": "2022-08-13T00:00:03",
           "total bean vol": 44801163.83047,
           "total pod vol": 45435563.373436,
           "value": 45435563.373436,
           "variable": "total pod vol"
          },
          {
           "pod listing vol": 38544497.88974,
           "pod order vol": 6971306.670238,
           "season": 6273,
           "timestamp": "2022-08-14T00:00:04",
           "total bean vol": 45245341.201804,
           "total pod vol": 45515804.559978,
           "value": 38544497.88974,
           "variable": "pod listing vol"
          },
          {
           "pod listing vol": 38544497.88974,
           "pod order vol": 6971306.670238,
           "season": 6273,
           "timestamp": "2022-08-14T00:00:04",
           "total bean vol": 45245341.201804,
           "total pod vol": 45515804.559978,
           "value": 6971306.670238,
           "variable": "pod order vol"
          },
          {
           "pod listing vol": 38544497.88974,
           "pod order vol": 6971306.670238,
           "season": 6273,
           "timestamp": "2022-08-14T00:00:04",
           "total bean vol": 45245341.201804,
           "total pod vol": 45515804.559978,
           "value": 45245341.201804,
           "variable": "total bean vol"
          },
          {
           "pod listing vol": 38544497.88974,
           "pod order vol": 6971306.670238,
           "season": 6273,
           "timestamp": "2022-08-14T00:00:04",
           "total bean vol": 45245341.201804,
           "total pod vol": 45515804.559978,
           "value": 45515804.559978,
           "variable": "total pod vol"
          },
          {
           "pod listing vol": 38576407.890728,
           "pod order vol": 7505623.884586,
           "season": 6297,
           "timestamp": "2022-08-15T00:00:45",
           "total bean vol": 45362240.688539,
           "total pod vol": 46082031.775314,
           "value": 38576407.890728,
           "variable": "pod listing vol"
          },
          {
           "pod listing vol": 38576407.890728,
           "pod order vol": 7505623.884586,
           "season": 6297,
           "timestamp": "2022-08-15T00:00:45",
           "total bean vol": 45362240.688539,
           "total pod vol": 46082031.775314,
           "value": 7505623.884586,
           "variable": "pod order vol"
          },
          {
           "pod listing vol": 38576407.890728,
           "pod order vol": 7505623.884586,
           "season": 6297,
           "timestamp": "2022-08-15T00:00:45",
           "total bean vol": 45362240.688539,
           "total pod vol": 46082031.775314,
           "value": 45362240.688539,
           "variable": "total bean vol"
          },
          {
           "pod listing vol": 38576407.890728,
           "pod order vol": 7505623.884586,
           "season": 6297,
           "timestamp": "2022-08-15T00:00:45",
           "total bean vol": 45362240.688539,
           "total pod vol": 46082031.775314,
           "value": 46082031.775314,
           "variable": "total pod vol"
          },
          {
           "pod listing vol": 38727941.126168,
           "pod order vol": 7505623.884586,
           "season": 6321,
           "timestamp": "2022-08-16T00:00:07",
           "total bean vol": 45688834.137134,
           "total pod vol": 46233565.010754,
           "value": 46233565.010754,
           "variable": "total pod vol"
          },
          {
           "pod listing vol": 38727941.126168,
           "pod order vol": 7505623.884586,
           "season": 6321,
           "timestamp": "2022-08-16T00:00:07",
           "total bean vol": 45688834.137134,
           "total pod vol": 46233565.010754,
           "value": 45688834.137134,
           "variable": "total bean vol"
          },
          {
           "pod listing vol": 38727941.126168,
           "pod order vol": 7505623.884586,
           "season": 6321,
           "timestamp": "2022-08-16T00:00:07",
           "total bean vol": 45688834.137134,
           "total pod vol": 46233565.010754,
           "value": 7505623.884586,
           "variable": "pod order vol"
          },
          {
           "pod listing vol": 38727941.126168,
           "pod order vol": 7505623.884586,
           "season": 6321,
           "timestamp": "2022-08-16T00:00:07",
           "total bean vol": 45688834.137134,
           "total pod vol": 46233565.010754,
           "value": 38727941.126168,
           "variable": "pod listing vol"
          },
          {
           "pod listing vol": 38754831.185449,
           "pod order vol": 7505623.884586,
           "season": 6345,
           "timestamp": "2022-08-17T00:00:10",
           "total bean vol": 45813737.57482,
           "total pod vol": 46260455.070035,
           "value": 38754831.185449,
           "variable": "pod listing vol"
          },
          {
           "pod listing vol": 38754831.185449,
           "pod order vol": 7505623.884586,
           "season": 6345,
           "timestamp": "2022-08-17T00:00:10",
           "total bean vol": 45813737.57482,
           "total pod vol": 46260455.070035,
           "value": 7505623.884586,
           "variable": "pod order vol"
          },
          {
           "pod listing vol": 38754831.185449,
           "pod order vol": 7505623.884586,
           "season": 6345,
           "timestamp": "2022-08-17T00:00:10",
           "total bean vol": 45813737.57482,
           "total pod vol": 46260455.070035,
           "value": 45813737.57482,
           "variable": "total bean vol"
          },
          {
           "pod listing vol": 38754831.185449,
           "pod order vol": 7505623.884586,
           "season": 6345,
           "timestamp": "2022-08-17T00:00:10",
           "total bean vol": 45813737.57482,
           "total pod vol": 46260455.070035,
           "value": 46260455.070035,
           "variable": "total pod vol"
          },
          {
           "pod listing vol": 38764831.185449,
           "pod order vol": 7517130.699386,
           "season": 6369,
           "timestamp": "2022-08-18T00:00:18",
           "total bean vol": 46088619.930328,
           "total pod vol": 46281961.884835,
           "value": 38764831.185449,
           "variable": "pod listing vol"
          },
          {
           "pod listing vol": 38764831.185449,
           "pod order vol": 7517130.699386,
           "season": 6369,
           "timestamp": "2022-08-18T00:00:18",
           "total bean vol": 46088619.930328,
           "total pod vol": 46281961.884835,
           "value": 7517130.699386,
           "variable": "pod order vol"
          },
          {
           "pod listing vol": 38764831.185449,
           "pod order vol": 7517130.699386,
           "season": 6369,
           "timestamp": "2022-08-18T00:00:18",
           "total bean vol": 46088619.930328,
           "total pod vol": 46281961.884835,
           "value": 46088619.930328,
           "variable": "total bean vol"
          },
          {
           "pod listing vol": 38764831.185449,
           "pod order vol": 7517130.699386,
           "season": 6369,
           "timestamp": "2022-08-18T00:00:18",
           "total bean vol": 46088619.930328,
           "total pod vol": 46281961.884835,
           "value": 46281961.884835,
           "variable": "total pod vol"
          },
          {
           "pod listing vol": 38785331.03356,
           "pod order vol": 7517130.699386,
           "season": 6393,
           "timestamp": "2022-08-19T00:00:17",
           "total bean vol": 46110139.648752,
           "total pod vol": 46302461.732946,
           "value": 38785331.03356,
           "variable": "pod listing vol"
          },
          {
           "pod listing vol": 38785331.03356,
           "pod order vol": 7517130.699386,
           "season": 6393,
           "timestamp": "2022-08-19T00:00:17",
           "total bean vol": 46110139.648752,
           "total pod vol": 46302461.732946,
           "value": 7517130.699386,
           "variable": "pod order vol"
          },
          {
           "pod listing vol": 38785331.03356,
           "pod order vol": 7517130.699386,
           "season": 6393,
           "timestamp": "2022-08-19T00:00:17",
           "total bean vol": 46110139.648752,
           "total pod vol": 46302461.732946,
           "value": 46110139.648752,
           "variable": "total bean vol"
          },
          {
           "pod listing vol": 38785331.03356,
           "pod order vol": 7517130.699386,
           "season": 6393,
           "timestamp": "2022-08-19T00:00:17",
           "total bean vol": 46110139.648752,
           "total pod vol": 46302461.732946,
           "value": 46302461.732946,
           "variable": "total pod vol"
          },
          {
           "pod listing vol": 38785647.865697,
           "pod order vol": 7535745.565486,
           "season": 6417,
           "timestamp": "2022-08-20T00:00:36",
           "total bean vol": 46283383.884592,
           "total pod vol": 46321393.431183,
           "value": 46321393.431183,
           "variable": "total pod vol"
          },
          {
           "pod listing vol": 38785647.865697,
           "pod order vol": 7535745.565486,
           "season": 6417,
           "timestamp": "2022-08-20T00:00:36",
           "total bean vol": 46283383.884592,
           "total pod vol": 46321393.431183,
           "value": 46283383.884592,
           "variable": "total bean vol"
          },
          {
           "pod listing vol": 38785647.865697,
           "pod order vol": 7535745.565486,
           "season": 6417,
           "timestamp": "2022-08-20T00:00:36",
           "total bean vol": 46283383.884592,
           "total pod vol": 46321393.431183,
           "value": 38785647.865697,
           "variable": "pod listing vol"
          },
          {
           "pod listing vol": 38785647.865697,
           "pod order vol": 7535745.565486,
           "season": 6417,
           "timestamp": "2022-08-20T00:00:36",
           "total bean vol": 46283383.884592,
           "total pod vol": 46321393.431183,
           "value": 7535745.565486,
           "variable": "pod order vol"
          },
          {
           "pod listing vol": 38797290.400573,
           "pod order vol": 8319491.078891,
           "season": 6441,
           "timestamp": "2022-08-21T00:00:01",
           "total bean vol": 47194161.200023,
           "total pod vol": 47116781.479464,
           "value": 38797290.400573,
           "variable": "pod listing vol"
          },
          {
           "pod listing vol": 38797290.400573,
           "pod order vol": 8319491.078891,
           "season": 6441,
           "timestamp": "2022-08-21T00:00:01",
           "total bean vol": 47194161.200023,
           "total pod vol": 47116781.479464,
           "value": 8319491.078891,
           "variable": "pod order vol"
          },
          {
           "pod listing vol": 38797290.400573,
           "pod order vol": 8319491.078891,
           "season": 6441,
           "timestamp": "2022-08-21T00:00:01",
           "total bean vol": 47194161.200023,
           "total pod vol": 47116781.479464,
           "value": 47194161.200023,
           "variable": "total bean vol"
          },
          {
           "pod listing vol": 38797290.400573,
           "pod order vol": 8319491.078891,
           "season": 6441,
           "timestamp": "2022-08-21T00:00:01",
           "total bean vol": 47194161.200023,
           "total pod vol": 47116781.479464,
           "value": 47116781.479464,
           "variable": "total pod vol"
          },
          {
           "pod listing vol": 38805699.948575,
           "pod order vol": 8319491.078891,
           "season": 6465,
           "timestamp": "2022-08-22T00:00:48",
           "total bean vol": 47194386.810098,
           "total pod vol": 47125191.027466,
           "value": 38805699.948575,
           "variable": "pod listing vol"
          },
          {
           "pod listing vol": 38805699.948575,
           "pod order vol": 8319491.078891,
           "season": 6465,
           "timestamp": "2022-08-22T00:00:48",
           "total bean vol": 47194386.810098,
           "total pod vol": 47125191.027466,
           "value": 8319491.078891,
           "variable": "pod order vol"
          },
          {
           "pod listing vol": 38805699.948575,
           "pod order vol": 8319491.078891,
           "season": 6465,
           "timestamp": "2022-08-22T00:00:48",
           "total bean vol": 47194386.810098,
           "total pod vol": 47125191.027466,
           "value": 47194386.810098,
           "variable": "total bean vol"
          },
          {
           "pod listing vol": 38805699.948575,
           "pod order vol": 8319491.078891,
           "season": 6465,
           "timestamp": "2022-08-22T00:00:48",
           "total bean vol": 47194386.810098,
           "total pod vol": 47125191.027466,
           "value": 47125191.027466,
           "variable": "total pod vol"
          },
          {
           "pod listing vol": 38841200.669627,
           "pod order vol": 8328519.436816,
           "season": 6489,
           "timestamp": "2022-08-23T00:00:03",
           "total bean vol": 47426882.00759,
           "total pod vol": 47169720.106443,
           "value": 38841200.669627,
           "variable": "pod listing vol"
          },
          {
           "pod listing vol": 38841200.669627,
           "pod order vol": 8328519.436816,
           "season": 6489,
           "timestamp": "2022-08-23T00:00:03",
           "total bean vol": 47426882.00759,
           "total pod vol": 47169720.106443,
           "value": 8328519.436816,
           "variable": "pod order vol"
          },
          {
           "pod listing vol": 38841200.669627,
           "pod order vol": 8328519.436816,
           "season": 6489,
           "timestamp": "2022-08-23T00:00:03",
           "total bean vol": 47426882.00759,
           "total pod vol": 47169720.106443,
           "value": 47426882.00759,
           "variable": "total bean vol"
          },
          {
           "pod listing vol": 38841200.669627,
           "pod order vol": 8328519.436816,
           "season": 6489,
           "timestamp": "2022-08-23T00:00:03",
           "total bean vol": 47426882.00759,
           "total pod vol": 47169720.106443,
           "value": 47169720.106443,
           "variable": "total pod vol"
          },
          {
           "pod listing vol": 38869527.228707,
           "pod order vol": 8562692.748482,
           "season": 6513,
           "timestamp": "2022-08-24T00:00:13",
           "total bean vol": 48453463.675005,
           "total pod vol": 47432219.977189,
           "value": 8562692.748482,
           "variable": "pod order vol"
          },
          {
           "pod listing vol": 38869527.228707,
           "pod order vol": 8562692.748482,
           "season": 6513,
           "timestamp": "2022-08-24T00:00:13",
           "total bean vol": 48453463.675005,
           "total pod vol": 47432219.977189,
           "value": 47432219.977189,
           "variable": "total pod vol"
          },
          {
           "pod listing vol": 38869527.228707,
           "pod order vol": 8562692.748482,
           "season": 6513,
           "timestamp": "2022-08-24T00:00:13",
           "total bean vol": 48453463.675005,
           "total pod vol": 47432219.977189,
           "value": 38869527.228707,
           "variable": "pod listing vol"
          },
          {
           "pod listing vol": 38869527.228707,
           "pod order vol": 8562692.748482,
           "season": 6513,
           "timestamp": "2022-08-24T00:00:13",
           "total bean vol": 48453463.675005,
           "total pod vol": 47432219.977189,
           "value": 48453463.675005,
           "variable": "total bean vol"
          },
          {
           "pod listing vol": 39197571.141752,
           "pod order vol": 8562692.748482,
           "season": 6537,
           "timestamp": "2022-08-25T00:00:10",
           "total bean vol": 48726978.92377,
           "total pod vol": 47760263.890234,
           "value": 39197571.141752,
           "variable": "pod listing vol"
          },
          {
           "pod listing vol": 39197571.141752,
           "pod order vol": 8562692.748482,
           "season": 6537,
           "timestamp": "2022-08-25T00:00:10",
           "total bean vol": 48726978.92377,
           "total pod vol": 47760263.890234,
           "value": 8562692.748482,
           "variable": "pod order vol"
          },
          {
           "pod listing vol": 39197571.141752,
           "pod order vol": 8562692.748482,
           "season": 6537,
           "timestamp": "2022-08-25T00:00:10",
           "total bean vol": 48726978.92377,
           "total pod vol": 47760263.890234,
           "value": 48726978.92377,
           "variable": "total bean vol"
          },
          {
           "pod listing vol": 39197571.141752,
           "pod order vol": 8562692.748482,
           "season": 6537,
           "timestamp": "2022-08-25T00:00:10",
           "total bean vol": 48726978.92377,
           "total pod vol": 47760263.890234,
           "value": 47760263.890234,
           "variable": "total pod vol"
          },
          {
           "pod listing vol": 39205629.570921,
           "pod order vol": 8774468.193651,
           "season": 6561,
           "timestamp": "2022-08-26T00:00:05",
           "total bean vol": 49095534.631319,
           "total pod vol": 47980097.764572,
           "value": 39205629.570921,
           "variable": "pod listing vol"
          },
          {
           "pod listing vol": 39205629.570921,
           "pod order vol": 8774468.193651,
           "season": 6561,
           "timestamp": "2022-08-26T00:00:05",
           "total bean vol": 49095534.631319,
           "total pod vol": 47980097.764572,
           "value": 8774468.193651,
           "variable": "pod order vol"
          },
          {
           "pod listing vol": 39205629.570921,
           "pod order vol": 8774468.193651,
           "season": 6561,
           "timestamp": "2022-08-26T00:00:05",
           "total bean vol": 49095534.631319,
           "total pod vol": 47980097.764572,
           "value": 49095534.631319,
           "variable": "total bean vol"
          },
          {
           "pod listing vol": 39205629.570921,
           "pod order vol": 8774468.193651,
           "season": 6561,
           "timestamp": "2022-08-26T00:00:05",
           "total bean vol": 49095534.631319,
           "total pod vol": 47980097.764572,
           "value": 47980097.764572,
           "variable": "total pod vol"
          },
          {
           "pod listing vol": 39205629.570921,
           "pod order vol": 8774468.193651,
           "season": 6585,
           "timestamp": "2022-08-27T00:00:06",
           "total bean vol": 49243699.796524,
           "total pod vol": 47980097.764572,
           "value": 49243699.796524,
           "variable": "total bean vol"
          },
          {
           "pod listing vol": 39205629.570921,
           "pod order vol": 8774468.193651,
           "season": 6585,
           "timestamp": "2022-08-27T00:00:06",
           "total bean vol": 49243699.796524,
           "total pod vol": 47980097.764572,
           "value": 39205629.570921,
           "variable": "pod listing vol"
          },
          {
           "pod listing vol": 39205629.570921,
           "pod order vol": 8774468.193651,
           "season": 6585,
           "timestamp": "2022-08-27T00:00:06",
           "total bean vol": 49243699.796524,
           "total pod vol": 47980097.764572,
           "value": 8774468.193651,
           "variable": "pod order vol"
          },
          {
           "pod listing vol": 39205629.570921,
           "pod order vol": 8774468.193651,
           "season": 6585,
           "timestamp": "2022-08-27T00:00:06",
           "total bean vol": 49243699.796524,
           "total pod vol": 47980097.764572,
           "value": 47980097.764572,
           "variable": "total pod vol"
          },
          {
           "pod listing vol": 39374836.054937,
           "pod order vol": 8828496.551576,
           "season": 6609,
           "timestamp": "2022-08-28T00:00:11",
           "total bean vol": 49579905.906967,
           "total pod vol": 48203332.606513,
           "value": 48203332.606513,
           "variable": "total pod vol"
          },
          {
           "pod listing vol": 39374836.054937,
           "pod order vol": 8828496.551576,
           "season": 6609,
           "timestamp": "2022-08-28T00:00:11",
           "total bean vol": 49579905.906967,
           "total pod vol": 48203332.606513,
           "value": 8828496.551576,
           "variable": "pod order vol"
          },
          {
           "pod listing vol": 39374836.054937,
           "pod order vol": 8828496.551576,
           "season": 6609,
           "timestamp": "2022-08-28T00:00:11",
           "total bean vol": 49579905.906967,
           "total pod vol": 48203332.606513,
           "value": 39374836.054937,
           "variable": "pod listing vol"
          },
          {
           "pod listing vol": 39374836.054937,
           "pod order vol": 8828496.551576,
           "season": 6609,
           "timestamp": "2022-08-28T00:00:11",
           "total bean vol": 49579905.906967,
           "total pod vol": 48203332.606513,
           "value": 49579905.906967,
           "variable": "total bean vol"
          },
          {
           "pod listing vol": 39374836.054937,
           "pod order vol": 8828496.551576,
           "season": 6633,
           "timestamp": "2022-08-29T00:00:40",
           "total bean vol": 49627896.044296,
           "total pod vol": 48203332.606513,
           "value": 39374836.054937,
           "variable": "pod listing vol"
          },
          {
           "pod listing vol": 39374836.054937,
           "pod order vol": 8828496.551576,
           "season": 6633,
           "timestamp": "2022-08-29T00:00:40",
           "total bean vol": 49627896.044296,
           "total pod vol": 48203332.606513,
           "value": 8828496.551576,
           "variable": "pod order vol"
          },
          {
           "pod listing vol": 39374836.054937,
           "pod order vol": 8828496.551576,
           "season": 6633,
           "timestamp": "2022-08-29T00:00:40",
           "total bean vol": 49627896.044296,
           "total pod vol": 48203332.606513,
           "value": 49627896.044296,
           "variable": "total bean vol"
          },
          {
           "pod listing vol": 39374836.054937,
           "pod order vol": 8828496.551576,
           "season": 6633,
           "timestamp": "2022-08-29T00:00:40",
           "total bean vol": 49627896.044296,
           "total pod vol": 48203332.606513,
           "value": 48203332.606513,
           "variable": "total pod vol"
          },
          {
           "pod listing vol": 39559791.500646,
           "pod order vol": 8828496.551576,
           "season": 6657,
           "timestamp": "2022-08-30T00:00:20",
           "total bean vol": 50003813.972019,
           "total pod vol": 48388288.052222,
           "value": 39559791.500646,
           "variable": "pod listing vol"
          },
          {
           "pod listing vol": 39559791.500646,
           "pod order vol": 8828496.551576,
           "season": 6657,
           "timestamp": "2022-08-30T00:00:20",
           "total bean vol": 50003813.972019,
           "total pod vol": 48388288.052222,
           "value": 8828496.551576,
           "variable": "pod order vol"
          },
          {
           "pod listing vol": 39559791.500646,
           "pod order vol": 8828496.551576,
           "season": 6657,
           "timestamp": "2022-08-30T00:00:20",
           "total bean vol": 50003813.972019,
           "total pod vol": 48388288.052222,
           "value": 50003813.972019,
           "variable": "total bean vol"
          },
          {
           "pod listing vol": 39559791.500646,
           "pod order vol": 8828496.551576,
           "season": 6657,
           "timestamp": "2022-08-30T00:00:20",
           "total bean vol": 50003813.972019,
           "total pod vol": 48388288.052222,
           "value": 48388288.052222,
           "variable": "total pod vol"
          },
          {
           "pod listing vol": 39563744.218304,
           "pod order vol": 8945914.629593,
           "season": 6681,
           "timestamp": "2022-08-31T00:00:38",
           "total bean vol": 50045823.147551,
           "total pod vol": 48509658.847897,
           "value": 39563744.218304,
           "variable": "pod listing vol"
          },
          {
           "pod listing vol": 39563744.218304,
           "pod order vol": 8945914.629593,
           "season": 6681,
           "timestamp": "2022-08-31T00:00:38",
           "total bean vol": 50045823.147551,
           "total pod vol": 48509658.847897,
           "value": 8945914.629593,
           "variable": "pod order vol"
          },
          {
           "pod listing vol": 39563744.218304,
           "pod order vol": 8945914.629593,
           "season": 6681,
           "timestamp": "2022-08-31T00:00:38",
           "total bean vol": 50045823.147551,
           "total pod vol": 48509658.847897,
           "value": 50045823.147551,
           "variable": "total bean vol"
          },
          {
           "pod listing vol": 39563744.218304,
           "pod order vol": 8945914.629593,
           "season": 6681,
           "timestamp": "2022-08-31T00:00:38",
           "total bean vol": 50045823.147551,
           "total pod vol": 48509658.847897,
           "value": 48509658.847897,
           "variable": "total pod vol"
          },
          {
           "pod listing vol": 39775053.195434,
           "pod order vol": 8945914.629593,
           "season": 6705,
           "timestamp": "2022-09-01T00:00:03",
           "total bean vol": 50334070.906932,
           "total pod vol": 48720967.825027,
           "value": 48720967.825027,
           "variable": "total pod vol"
          },
          {
           "pod listing vol": 39775053.195434,
           "pod order vol": 8945914.629593,
           "season": 6705,
           "timestamp": "2022-09-01T00:00:03",
           "total bean vol": 50334070.906932,
           "total pod vol": 48720967.825027,
           "value": 50334070.906932,
           "variable": "total bean vol"
          },
          {
           "pod listing vol": 39775053.195434,
           "pod order vol": 8945914.629593,
           "season": 6705,
           "timestamp": "2022-09-01T00:00:03",
           "total bean vol": 50334070.906932,
           "total pod vol": 48720967.825027,
           "value": 8945914.629593,
           "variable": "pod order vol"
          },
          {
           "pod listing vol": 39775053.195434,
           "pod order vol": 8945914.629593,
           "season": 6705,
           "timestamp": "2022-09-01T00:00:03",
           "total bean vol": 50334070.906932,
           "total pod vol": 48720967.825027,
           "value": 39775053.195434,
           "variable": "pod listing vol"
          },
          {
           "pod listing vol": 39907046.59378,
           "pod order vol": 9305163.623793,
           "season": 6729,
           "timestamp": "2022-09-02T00:00:00",
           "total bean vol": 50357036.121422,
           "total pod vol": 49212210.217573,
           "value": 39907046.59378,
           "variable": "pod listing vol"
          },
          {
           "pod listing vol": 39907046.59378,
           "pod order vol": 9305163.623793,
           "season": 6729,
           "timestamp": "2022-09-02T00:00:00",
           "total bean vol": 50357036.121422,
           "total pod vol": 49212210.217573,
           "value": 9305163.623793,
           "variable": "pod order vol"
          },
          {
           "pod listing vol": 39907046.59378,
           "pod order vol": 9305163.623793,
           "season": 6729,
           "timestamp": "2022-09-02T00:00:00",
           "total bean vol": 50357036.121422,
           "total pod vol": 49212210.217573,
           "value": 50357036.121422,
           "variable": "total bean vol"
          },
          {
           "pod listing vol": 39907046.59378,
           "pod order vol": 9305163.623793,
           "season": 6729,
           "timestamp": "2022-09-02T00:00:00",
           "total bean vol": 50357036.121422,
           "total pod vol": 49212210.217573,
           "value": 49212210.217573,
           "variable": "total pod vol"
          },
          {
           "pod listing vol": 39983615.967615,
           "pod order vol": 9305163.623793,
           "season": 6753,
           "timestamp": "2022-09-03T00:00:30",
           "total bean vol": 50379545.902134,
           "total pod vol": 49288779.591408,
           "value": 39983615.967615,
           "variable": "pod listing vol"
          },
          {
           "pod listing vol": 39983615.967615,
           "pod order vol": 9305163.623793,
           "season": 6753,
           "timestamp": "2022-09-03T00:00:30",
           "total bean vol": 50379545.902134,
           "total pod vol": 49288779.591408,
           "value": 9305163.623793,
           "variable": "pod order vol"
          },
          {
           "pod listing vol": 39983615.967615,
           "pod order vol": 9305163.623793,
           "season": 6753,
           "timestamp": "2022-09-03T00:00:30",
           "total bean vol": 50379545.902134,
           "total pod vol": 49288779.591408,
           "value": 50379545.902134,
           "variable": "total bean vol"
          },
          {
           "pod listing vol": 39983615.967615,
           "pod order vol": 9305163.623793,
           "season": 6753,
           "timestamp": "2022-09-03T00:00:30",
           "total bean vol": 50379545.902134,
           "total pod vol": 49288779.591408,
           "value": 49288779.591408,
           "variable": "total pod vol"
          },
          {
           "pod listing vol": 39986390.287911,
           "pod order vol": 9364077.373793,
           "season": 6777,
           "timestamp": "2022-09-04T00:00:03",
           "total bean vol": 50386581.392712,
           "total pod vol": 49350467.661704,
           "value": 39986390.287911,
           "variable": "pod listing vol"
          },
          {
           "pod listing vol": 39986390.287911,
           "pod order vol": 9364077.373793,
           "season": 6777,
           "timestamp": "2022-09-04T00:00:03",
           "total bean vol": 50386581.392712,
           "total pod vol": 49350467.661704,
           "value": 9364077.373793,
           "variable": "pod order vol"
          },
          {
           "pod listing vol": 39986390.287911,
           "pod order vol": 9364077.373793,
           "season": 6777,
           "timestamp": "2022-09-04T00:00:03",
           "total bean vol": 50386581.392712,
           "total pod vol": 49350467.661704,
           "value": 50386581.392712,
           "variable": "total bean vol"
          },
          {
           "pod listing vol": 39986390.287911,
           "pod order vol": 9364077.373793,
           "season": 6777,
           "timestamp": "2022-09-04T00:00:03",
           "total bean vol": 50386581.392712,
           "total pod vol": 49350467.661704,
           "value": 49350467.661704,
           "variable": "total pod vol"
          },
          {
           "pod listing vol": 39986390.287911,
           "pod order vol": 9364077.373793,
           "season": 6801,
           "timestamp": "2022-09-05T00:00:02",
           "total bean vol": 50622629.619476,
           "total pod vol": 49350467.661704,
           "value": 49350467.661704,
           "variable": "total pod vol"
          },
          {
           "pod listing vol": 39986390.287911,
           "pod order vol": 9364077.373793,
           "season": 6801,
           "timestamp": "2022-09-05T00:00:02",
           "total bean vol": 50622629.619476,
           "total pod vol": 49350467.661704,
           "value": 50622629.619476,
           "variable": "total bean vol"
          },
          {
           "pod listing vol": 39986390.287911,
           "pod order vol": 9364077.373793,
           "season": 6801,
           "timestamp": "2022-09-05T00:00:02",
           "total bean vol": 50622629.619476,
           "total pod vol": 49350467.661704,
           "value": 39986390.287911,
           "variable": "pod listing vol"
          },
          {
           "pod listing vol": 39986390.287911,
           "pod order vol": 9364077.373793,
           "season": 6801,
           "timestamp": "2022-09-05T00:00:02",
           "total bean vol": 50622629.619476,
           "total pod vol": 49350467.661704,
           "value": 9364077.373793,
           "variable": "pod order vol"
          },
          {
           "pod listing vol": 40140737.158231,
           "pod order vol": 9398016.431338,
           "season": 6825,
           "timestamp": "2022-09-06T00:01:10",
           "total bean vol": 50860959.448296,
           "total pod vol": 49538753.589569,
           "value": 40140737.158231,
           "variable": "pod listing vol"
          },
          {
           "pod listing vol": 40140737.158231,
           "pod order vol": 9398016.431338,
           "season": 6825,
           "timestamp": "2022-09-06T00:01:10",
           "total bean vol": 50860959.448296,
           "total pod vol": 49538753.589569,
           "value": 9398016.431338,
           "variable": "pod order vol"
          },
          {
           "pod listing vol": 40140737.158231,
           "pod order vol": 9398016.431338,
           "season": 6825,
           "timestamp": "2022-09-06T00:01:10",
           "total bean vol": 50860959.448296,
           "total pod vol": 49538753.589569,
           "value": 50860959.448296,
           "variable": "total bean vol"
          },
          {
           "pod listing vol": 40140737.158231,
           "pod order vol": 9398016.431338,
           "season": 6825,
           "timestamp": "2022-09-06T00:01:10",
           "total bean vol": 50860959.448296,
           "total pod vol": 49538753.589569,
           "value": 49538753.589569,
           "variable": "total pod vol"
          },
          {
           "pod listing vol": 40227543.555723,
           "pod order vol": 9398016.431338,
           "season": 6849,
           "timestamp": "2022-09-07T00:00:02",
           "total bean vol": 50961187.718307,
           "total pod vol": 49625559.987061,
           "value": 40227543.555723,
           "variable": "pod listing vol"
          },
          {
           "pod listing vol": 40227543.555723,
           "pod order vol": 9398016.431338,
           "season": 6849,
           "timestamp": "2022-09-07T00:00:02",
           "total bean vol": 50961187.718307,
           "total pod vol": 49625559.987061,
           "value": 9398016.431338,
           "variable": "pod order vol"
          },
          {
           "pod listing vol": 40227543.555723,
           "pod order vol": 9398016.431338,
           "season": 6849,
           "timestamp": "2022-09-07T00:00:02",
           "total bean vol": 50961187.718307,
           "total pod vol": 49625559.987061,
           "value": 50961187.718307,
           "variable": "total bean vol"
          },
          {
           "pod listing vol": 40227543.555723,
           "pod order vol": 9398016.431338,
           "season": 6849,
           "timestamp": "2022-09-07T00:00:02",
           "total bean vol": 50961187.718307,
           "total pod vol": 49625559.987061,
           "value": 49625559.987061,
           "variable": "total pod vol"
          },
          {
           "pod listing vol": 40227543.555723,
           "pod order vol": 9462151.369958,
           "season": 6873,
           "timestamp": "2022-09-08T00:00:00",
           "total bean vol": 51182666.485623,
           "total pod vol": 49689694.925681,
           "value": 49689694.925681,
           "variable": "total pod vol"
          },
          {
           "pod listing vol": 40227543.555723,
           "pod order vol": 9462151.369958,
           "season": 6873,
           "timestamp": "2022-09-08T00:00:00",
           "total bean vol": 51182666.485623,
           "total pod vol": 49689694.925681,
           "value": 40227543.555723,
           "variable": "pod listing vol"
          },
          {
           "pod listing vol": 40227543.555723,
           "pod order vol": 9462151.369958,
           "season": 6873,
           "timestamp": "2022-09-08T00:00:00",
           "total bean vol": 51182666.485623,
           "total pod vol": 49689694.925681,
           "value": 9462151.369958,
           "variable": "pod order vol"
          },
          {
           "pod listing vol": 40227543.555723,
           "pod order vol": 9462151.369958,
           "season": 6873,
           "timestamp": "2022-09-08T00:00:00",
           "total bean vol": 51182666.485623,
           "total pod vol": 49689694.925681,
           "value": 51182666.485623,
           "variable": "total bean vol"
          },
          {
           "pod listing vol": 40227543.555723,
           "pod order vol": 9462151.369958,
           "season": 6897,
           "timestamp": "2022-09-09T00:00:25",
           "total bean vol": 51190325.467986,
           "total pod vol": 49689694.925681,
           "value": 49689694.925681,
           "variable": "total pod vol"
          },
          {
           "pod listing vol": 40227543.555723,
           "pod order vol": 9462151.369958,
           "season": 6897,
           "timestamp": "2022-09-09T00:00:25",
           "total bean vol": 51190325.467986,
           "total pod vol": 49689694.925681,
           "value": 51190325.467986,
           "variable": "total bean vol"
          },
          {
           "pod listing vol": 40227543.555723,
           "pod order vol": 9462151.369958,
           "season": 6897,
           "timestamp": "2022-09-09T00:00:25",
           "total bean vol": 51190325.467986,
           "total pod vol": 49689694.925681,
           "value": 9462151.369958,
           "variable": "pod order vol"
          },
          {
           "pod listing vol": 40227543.555723,
           "pod order vol": 9462151.369958,
           "season": 6897,
           "timestamp": "2022-09-09T00:00:25",
           "total bean vol": 51190325.467986,
           "total pod vol": 49689694.925681,
           "value": 40227543.555723,
           "variable": "pod listing vol"
          },
          {
           "pod listing vol": 40426854.261582,
           "pod order vol": 9492461.407908,
           "season": 6921,
           "timestamp": "2022-09-10T00:00:18",
           "total bean vol": 51213074.210108,
           "total pod vol": 49919315.66949,
           "value": 40426854.261582,
           "variable": "pod listing vol"
          },
          {
           "pod listing vol": 40426854.261582,
           "pod order vol": 9492461.407908,
           "season": 6921,
           "timestamp": "2022-09-10T00:00:18",
           "total bean vol": 51213074.210108,
           "total pod vol": 49919315.66949,
           "value": 9492461.407908,
           "variable": "pod order vol"
          },
          {
           "pod listing vol": 40426854.261582,
           "pod order vol": 9492461.407908,
           "season": 6921,
           "timestamp": "2022-09-10T00:00:18",
           "total bean vol": 51213074.210108,
           "total pod vol": 49919315.66949,
           "value": 51213074.210108,
           "variable": "total bean vol"
          },
          {
           "pod listing vol": 40426854.261582,
           "pod order vol": 9492461.407908,
           "season": 6921,
           "timestamp": "2022-09-10T00:00:18",
           "total bean vol": 51213074.210108,
           "total pod vol": 49919315.66949,
           "value": 49919315.66949,
           "variable": "total pod vol"
          },
          {
           "pod listing vol": 40426854.261582,
           "pod order vol": 9512151.369958,
           "season": 6945,
           "timestamp": "2022-09-11T00:00:09",
           "total bean vol": 51226895.440353,
           "total pod vol": 49939005.63154,
           "value": 49939005.63154,
           "variable": "total pod vol"
          },
          {
           "pod listing vol": 40426854.261582,
           "pod order vol": 9512151.369958,
           "season": 6945,
           "timestamp": "2022-09-11T00:00:09",
           "total bean vol": 51226895.440353,
           "total pod vol": 49939005.63154,
           "value": 40426854.261582,
           "variable": "pod listing vol"
          },
          {
           "pod listing vol": 40426854.261582,
           "pod order vol": 9512151.369958,
           "season": 6945,
           "timestamp": "2022-09-11T00:00:09",
           "total bean vol": 51226895.440353,
           "total pod vol": 49939005.63154,
           "value": 9512151.369958,
           "variable": "pod order vol"
          },
          {
           "pod listing vol": 40426854.261582,
           "pod order vol": 9512151.369958,
           "season": 6945,
           "timestamp": "2022-09-11T00:00:09",
           "total bean vol": 51226895.440353,
           "total pod vol": 49939005.63154,
           "value": 51226895.440353,
           "variable": "total bean vol"
          },
          {
           "pod listing vol": 40436960.607754,
           "pod order vol": 9517326.146238,
           "season": 6969,
           "timestamp": "2022-09-12T00:00:26",
           "total bean vol": 51503520.573218,
           "total pod vol": 49954286.753992,
           "value": 51503520.573218,
           "variable": "total bean vol"
          },
          {
           "pod listing vol": 40436960.607754,
           "pod order vol": 9517326.146238,
           "season": 6969,
           "timestamp": "2022-09-12T00:00:26",
           "total bean vol": 51503520.573218,
           "total pod vol": 49954286.753992,
           "value": 49954286.753992,
           "variable": "total pod vol"
          },
          {
           "pod listing vol": 40436960.607754,
           "pod order vol": 9517326.146238,
           "season": 6969,
           "timestamp": "2022-09-12T00:00:26",
           "total bean vol": 51503520.573218,
           "total pod vol": 49954286.753992,
           "value": 40436960.607754,
           "variable": "pod listing vol"
          },
          {
           "pod listing vol": 40436960.607754,
           "pod order vol": 9517326.146238,
           "season": 6969,
           "timestamp": "2022-09-12T00:00:26",
           "total bean vol": 51503520.573218,
           "total pod vol": 49954286.753992,
           "value": 9517326.146238,
           "variable": "pod order vol"
          },
          {
           "pod listing vol": 40436960.607754,
           "pod order vol": 9682871.67636,
           "season": 6993,
           "timestamp": "2022-09-13T00:00:01",
           "total bean vol": 51612396.867686,
           "total pod vol": 50119832.284114,
           "value": 50119832.284114,
           "variable": "total pod vol"
          },
          {
           "pod listing vol": 40436960.607754,
           "pod order vol": 9682871.67636,
           "season": 6993,
           "timestamp": "2022-09-13T00:00:01",
           "total bean vol": 51612396.867686,
           "total pod vol": 50119832.284114,
           "value": 51612396.867686,
           "variable": "total bean vol"
          },
          {
           "pod listing vol": 40436960.607754,
           "pod order vol": 9682871.67636,
           "season": 6993,
           "timestamp": "2022-09-13T00:00:01",
           "total bean vol": 51612396.867686,
           "total pod vol": 50119832.284114,
           "value": 9682871.67636,
           "variable": "pod order vol"
          },
          {
           "pod listing vol": 40436960.607754,
           "pod order vol": 9682871.67636,
           "season": 6993,
           "timestamp": "2022-09-13T00:00:01",
           "total bean vol": 51612396.867686,
           "total pod vol": 50119832.284114,
           "value": 40436960.607754,
           "variable": "pod listing vol"
          },
          {
           "pod listing vol": 40437440.898168,
           "pod order vol": 9682871.67636,
           "season": 7017,
           "timestamp": "2022-09-14T00:00:22",
           "total bean vol": 51612526.546097,
           "total pod vol": 50120312.574528,
           "value": 40437440.898168,
           "variable": "pod listing vol"
          },
          {
           "pod listing vol": 40437440.898168,
           "pod order vol": 9682871.67636,
           "season": 7017,
           "timestamp": "2022-09-14T00:00:22",
           "total bean vol": 51612526.546097,
           "total pod vol": 50120312.574528,
           "value": 9682871.67636,
           "variable": "pod order vol"
          },
          {
           "pod listing vol": 40437440.898168,
           "pod order vol": 9682871.67636,
           "season": 7017,
           "timestamp": "2022-09-14T00:00:22",
           "total bean vol": 51612526.546097,
           "total pod vol": 50120312.574528,
           "value": 51612526.546097,
           "variable": "total bean vol"
          },
          {
           "pod listing vol": 40437440.898168,
           "pod order vol": 9682871.67636,
           "season": 7017,
           "timestamp": "2022-09-14T00:00:22",
           "total bean vol": 51612526.546097,
           "total pod vol": 50120312.574528,
           "value": 50120312.574528,
           "variable": "total pod vol"
          },
          {
           "pod listing vol": 40437440.898168,
           "pod order vol": 9721821.697887,
           "season": 7041,
           "timestamp": "2022-09-15T00:00:12",
           "total bean vol": 51967328.221639,
           "total pod vol": 50159262.596055,
           "value": 40437440.898168,
           "variable": "pod listing vol"
          },
          {
           "pod listing vol": 40437440.898168,
           "pod order vol": 9721821.697887,
           "season": 7041,
           "timestamp": "2022-09-15T00:00:12",
           "total bean vol": 51967328.221639,
           "total pod vol": 50159262.596055,
           "value": 9721821.697887,
           "variable": "pod order vol"
          },
          {
           "pod listing vol": 40437440.898168,
           "pod order vol": 9721821.697887,
           "season": 7041,
           "timestamp": "2022-09-15T00:00:12",
           "total bean vol": 51967328.221639,
           "total pod vol": 50159262.596055,
           "value": 51967328.221639,
           "variable": "total bean vol"
          },
          {
           "pod listing vol": 40437440.898168,
           "pod order vol": 9721821.697887,
           "season": 7041,
           "timestamp": "2022-09-15T00:00:12",
           "total bean vol": 51967328.221639,
           "total pod vol": 50159262.596055,
           "value": 50159262.596055,
           "variable": "total pod vol"
          },
          {
           "pod listing vol": 40441662.408727,
           "pod order vol": 9721821.697887,
           "season": 7065,
           "timestamp": "2022-09-16T00:00:11",
           "total bean vol": 51967577.290761,
           "total pod vol": 50163484.106614,
           "value": 50163484.106614,
           "variable": "total pod vol"
          },
          {
           "pod listing vol": 40441662.408727,
           "pod order vol": 9721821.697887,
           "season": 7065,
           "timestamp": "2022-09-16T00:00:11",
           "total bean vol": 51967577.290761,
           "total pod vol": 50163484.106614,
           "value": 40441662.408727,
           "variable": "pod listing vol"
          },
          {
           "pod listing vol": 40441662.408727,
           "pod order vol": 9721821.697887,
           "season": 7065,
           "timestamp": "2022-09-16T00:00:11",
           "total bean vol": 51967577.290761,
           "total pod vol": 50163484.106614,
           "value": 9721821.697887,
           "variable": "pod order vol"
          },
          {
           "pod listing vol": 40441662.408727,
           "pod order vol": 9721821.697887,
           "season": 7065,
           "timestamp": "2022-09-16T00:00:11",
           "total bean vol": 51967577.290761,
           "total pod vol": 50163484.106614,
           "value": 51967577.290761,
           "variable": "total bean vol"
          },
          {
           "pod listing vol": 40442560.079111,
           "pod order vol": 9748386.932817,
           "season": 7089,
           "timestamp": "2022-09-17T00:00:11",
           "total bean vol": 52023905.190846,
           "total pod vol": 50190947.011928,
           "value": 50190947.011928,
           "variable": "total pod vol"
          },
          {
           "pod listing vol": 40442560.079111,
           "pod order vol": 9748386.932817,
           "season": 7089,
           "timestamp": "2022-09-17T00:00:11",
           "total bean vol": 52023905.190846,
           "total pod vol": 50190947.011928,
           "value": 52023905.190846,
           "variable": "total bean vol"
          },
          {
           "pod listing vol": 40442560.079111,
           "pod order vol": 9748386.932817,
           "season": 7089,
           "timestamp": "2022-09-17T00:00:11",
           "total bean vol": 52023905.190846,
           "total pod vol": 50190947.011928,
           "value": 40442560.079111,
           "variable": "pod listing vol"
          },
          {
           "pod listing vol": 40442560.079111,
           "pod order vol": 9748386.932817,
           "season": 7089,
           "timestamp": "2022-09-17T00:00:11",
           "total bean vol": 52023905.190846,
           "total pod vol": 50190947.011928,
           "value": 9748386.932817,
           "variable": "pod order vol"
          },
          {
           "pod listing vol": 40482566.0192,
           "pod order vol": 9753826.932817,
           "season": 7113,
           "timestamp": "2022-09-18T00:00:11",
           "total bean vol": 52142793.700502,
           "total pod vol": 50236392.952017,
           "value": 40482566.0192,
           "variable": "pod listing vol"
          },
          {
           "pod listing vol": 40482566.0192,
           "pod order vol": 9753826.932817,
           "season": 7113,
           "timestamp": "2022-09-18T00:00:11",
           "total bean vol": 52142793.700502,
           "total pod vol": 50236392.952017,
           "value": 9753826.932817,
           "variable": "pod order vol"
          },
          {
           "pod listing vol": 40482566.0192,
           "pod order vol": 9753826.932817,
           "season": 7113,
           "timestamp": "2022-09-18T00:00:11",
           "total bean vol": 52142793.700502,
           "total pod vol": 50236392.952017,
           "value": 52142793.700502,
           "variable": "total bean vol"
          },
          {
           "pod listing vol": 40482566.0192,
           "pod order vol": 9753826.932817,
           "season": 7113,
           "timestamp": "2022-09-18T00:00:11",
           "total bean vol": 52142793.700502,
           "total pod vol": 50236392.952017,
           "value": 50236392.952017,
           "variable": "total pod vol"
          },
          {
           "pod listing vol": 40490999.478786,
           "pod order vol": 9928022.320933,
           "season": 7137,
           "timestamp": "2022-09-19T00:00:11",
           "total bean vol": 52379501.566186,
           "total pod vol": 50419021.799719,
           "value": 52379501.566186,
           "variable": "total bean vol"
          },
          {
           "pod listing vol": 40490999.478786,
           "pod order vol": 9928022.320933,
           "season": 7137,
           "timestamp": "2022-09-19T00:00:11",
           "total bean vol": 52379501.566186,
           "total pod vol": 50419021.799719,
           "value": 40490999.478786,
           "variable": "pod listing vol"
          },
          {
           "pod listing vol": 40490999.478786,
           "pod order vol": 9928022.320933,
           "season": 7137,
           "timestamp": "2022-09-19T00:00:11",
           "total bean vol": 52379501.566186,
           "total pod vol": 50419021.799719,
           "value": 9928022.320933,
           "variable": "pod order vol"
          },
          {
           "pod listing vol": 40490999.478786,
           "pod order vol": 9928022.320933,
           "season": 7137,
           "timestamp": "2022-09-19T00:00:11",
           "total bean vol": 52379501.566186,
           "total pod vol": 50419021.799719,
           "value": 50419021.799719,
           "variable": "total pod vol"
          },
          {
           "pod listing vol": 40510849.189593,
           "pod order vol": 9928022.320933,
           "season": 7161,
           "timestamp": "2022-09-20T00:00:11",
           "total bean vol": 52531800.550728,
           "total pod vol": 50438871.510526,
           "value": 50438871.510526,
           "variable": "total pod vol"
          },
          {
           "pod listing vol": 40510849.189593,
           "pod order vol": 9928022.320933,
           "season": 7161,
           "timestamp": "2022-09-20T00:00:11",
           "total bean vol": 52531800.550728,
           "total pod vol": 50438871.510526,
           "value": 52531800.550728,
           "variable": "total bean vol"
          },
          {
           "pod listing vol": 40510849.189593,
           "pod order vol": 9928022.320933,
           "season": 7161,
           "timestamp": "2022-09-20T00:00:11",
           "total bean vol": 52531800.550728,
           "total pod vol": 50438871.510526,
           "value": 9928022.320933,
           "variable": "pod order vol"
          },
          {
           "pod listing vol": 40510849.189593,
           "pod order vol": 9928022.320933,
           "season": 7161,
           "timestamp": "2022-09-20T00:00:11",
           "total bean vol": 52531800.550728,
           "total pod vol": 50438871.510526,
           "value": 40510849.189593,
           "variable": "pod listing vol"
          },
          {
           "pod listing vol": 40639058.536478,
           "pod order vol": 9928022.320933,
           "season": 7185,
           "timestamp": "2022-09-21T00:00:23",
           "total bean vol": 52836971.46289,
           "total pod vol": 50567080.857411,
           "value": 40639058.536478,
           "variable": "pod listing vol"
          },
          {
           "pod listing vol": 40639058.536478,
           "pod order vol": 9928022.320933,
           "season": 7185,
           "timestamp": "2022-09-21T00:00:23",
           "total bean vol": 52836971.46289,
           "total pod vol": 50567080.857411,
           "value": 9928022.320933,
           "variable": "pod order vol"
          },
          {
           "pod listing vol": 40639058.536478,
           "pod order vol": 9928022.320933,
           "season": 7185,
           "timestamp": "2022-09-21T00:00:23",
           "total bean vol": 52836971.46289,
           "total pod vol": 50567080.857411,
           "value": 52836971.46289,
           "variable": "total bean vol"
          },
          {
           "pod listing vol": 40639058.536478,
           "pod order vol": 9928022.320933,
           "season": 7185,
           "timestamp": "2022-09-21T00:00:23",
           "total bean vol": 52836971.46289,
           "total pod vol": 50567080.857411,
           "value": 50567080.857411,
           "variable": "total pod vol"
          },
          {
           "pod listing vol": 40716755.214498,
           "pod order vol": 9951590.205773,
           "season": 7209,
           "timestamp": "2022-09-22T00:00:23",
           "total bean vol": 52963738.503166,
           "total pod vol": 50668345.420271,
           "value": 40716755.214498,
           "variable": "pod listing vol"
          },
          {
           "pod listing vol": 40716755.214498,
           "pod order vol": 9951590.205773,
           "season": 7209,
           "timestamp": "2022-09-22T00:00:23",
           "total bean vol": 52963738.503166,
           "total pod vol": 50668345.420271,
           "value": 9951590.205773,
           "variable": "pod order vol"
          },
          {
           "pod listing vol": 40716755.214498,
           "pod order vol": 9951590.205773,
           "season": 7209,
           "timestamp": "2022-09-22T00:00:23",
           "total bean vol": 52963738.503166,
           "total pod vol": 50668345.420271,
           "value": 52963738.503166,
           "variable": "total bean vol"
          },
          {
           "pod listing vol": 40716755.214498,
           "pod order vol": 9951590.205773,
           "season": 7209,
           "timestamp": "2022-09-22T00:00:23",
           "total bean vol": 52963738.503166,
           "total pod vol": 50668345.420271,
           "value": 50668345.420271,
           "variable": "total pod vol"
          },
          {
           "pod listing vol": 40716755.214498,
           "pod order vol": 10020820.975003,
           "season": 7233,
           "timestamp": "2022-09-23T00:00:11",
           "total bean vol": 53579248.081874,
           "total pod vol": 50737576.189501,
           "value": 53579248.081874,
           "variable": "total bean vol"
          },
          {
           "pod listing vol": 40716755.214498,
           "pod order vol": 10020820.975003,
           "season": 7233,
           "timestamp": "2022-09-23T00:00:11",
           "total bean vol": 53579248.081874,
           "total pod vol": 50737576.189501,
           "value": 50737576.189501,
           "variable": "total pod vol"
          },
          {
           "pod listing vol": 40716755.214498,
           "pod order vol": 10020820.975003,
           "season": 7233,
           "timestamp": "2022-09-23T00:00:11",
           "total bean vol": 53579248.081874,
           "total pod vol": 50737576.189501,
           "value": 40716755.214498,
           "variable": "pod listing vol"
          },
          {
           "pod listing vol": 40716755.214498,
           "pod order vol": 10020820.975003,
           "season": 7233,
           "timestamp": "2022-09-23T00:00:11",
           "total bean vol": 53579248.081874,
           "total pod vol": 50737576.189501,
           "value": 10020820.975003,
           "variable": "pod order vol"
          },
          {
           "pod listing vol": 40716755.214498,
           "pod order vol": 10020820.975003,
           "season": 7257,
           "timestamp": "2022-09-24T00:00:11",
           "total bean vol": 53693526.765179,
           "total pod vol": 50737576.189501,
           "value": 40716755.214498,
           "variable": "pod listing vol"
          },
          {
           "pod listing vol": 40716755.214498,
           "pod order vol": 10020820.975003,
           "season": 7257,
           "timestamp": "2022-09-24T00:00:11",
           "total bean vol": 53693526.765179,
           "total pod vol": 50737576.189501,
           "value": 10020820.975003,
           "variable": "pod order vol"
          },
          {
           "pod listing vol": 40716755.214498,
           "pod order vol": 10020820.975003,
           "season": 7257,
           "timestamp": "2022-09-24T00:00:11",
           "total bean vol": 53693526.765179,
           "total pod vol": 50737576.189501,
           "value": 53693526.765179,
           "variable": "total bean vol"
          },
          {
           "pod listing vol": 40716755.214498,
           "pod order vol": 10020820.975003,
           "season": 7257,
           "timestamp": "2022-09-24T00:00:11",
           "total bean vol": 53693526.765179,
           "total pod vol": 50737576.189501,
           "value": 50737576.189501,
           "variable": "total pod vol"
          },
          {
           "pod listing vol": 40716755.214498,
           "pod order vol": 10020820.975003,
           "season": 7281,
           "timestamp": "2022-09-25T00:00:11",
           "total bean vol": 53701063.230031,
           "total pod vol": 50737576.189501,
           "value": 40716755.214498,
           "variable": "pod listing vol"
          },
          {
           "pod listing vol": 40716755.214498,
           "pod order vol": 10020820.975003,
           "season": 7281,
           "timestamp": "2022-09-25T00:00:11",
           "total bean vol": 53701063.230031,
           "total pod vol": 50737576.189501,
           "value": 10020820.975003,
           "variable": "pod order vol"
          },
          {
           "pod listing vol": 40716755.214498,
           "pod order vol": 10020820.975003,
           "season": 7281,
           "timestamp": "2022-09-25T00:00:11",
           "total bean vol": 53701063.230031,
           "total pod vol": 50737576.189501,
           "value": 53701063.230031,
           "variable": "total bean vol"
          },
          {
           "pod listing vol": 40716755.214498,
           "pod order vol": 10020820.975003,
           "season": 7281,
           "timestamp": "2022-09-25T00:00:11",
           "total bean vol": 53701063.230031,
           "total pod vol": 50737576.189501,
           "value": 50737576.189501,
           "variable": "total pod vol"
          },
          {
           "pod listing vol": 40716755.214498,
           "pod order vol": 10084820.975003,
           "season": 7305,
           "timestamp": "2022-09-26T00:00:11",
           "total bean vol": 53707463.230031,
           "total pod vol": 50801576.189501,
           "value": 50801576.189501,
           "variable": "total pod vol"
          },
          {
           "pod listing vol": 40716755.214498,
           "pod order vol": 10084820.975003,
           "season": 7305,
           "timestamp": "2022-09-26T00:00:11",
           "total bean vol": 53707463.230031,
           "total pod vol": 50801576.189501,
           "value": 40716755.214498,
           "variable": "pod listing vol"
          },
          {
           "pod listing vol": 40716755.214498,
           "pod order vol": 10084820.975003,
           "season": 7305,
           "timestamp": "2022-09-26T00:00:11",
           "total bean vol": 53707463.230031,
           "total pod vol": 50801576.189501,
           "value": 10084820.975003,
           "variable": "pod order vol"
          },
          {
           "pod listing vol": 40716755.214498,
           "pod order vol": 10084820.975003,
           "season": 7305,
           "timestamp": "2022-09-26T00:00:11",
           "total bean vol": 53707463.230031,
           "total pod vol": 50801576.189501,
           "value": 53707463.230031,
           "variable": "total bean vol"
          },
          {
           "pod listing vol": 40716755.214498,
           "pod order vol": 10367979.234822,
           "season": 7329,
           "timestamp": "2022-09-27T00:00:11",
           "total bean vol": 53885003.047982,
           "total pod vol": 51084734.44932,
           "value": 53885003.047982,
           "variable": "total bean vol"
          },
          {
           "pod listing vol": 40716755.214498,
           "pod order vol": 10367979.234822,
           "season": 7329,
           "timestamp": "2022-09-27T00:00:11",
           "total bean vol": 53885003.047982,
           "total pod vol": 51084734.44932,
           "value": 51084734.44932,
           "variable": "total pod vol"
          },
          {
           "pod listing vol": 40716755.214498,
           "pod order vol": 10367979.234822,
           "season": 7329,
           "timestamp": "2022-09-27T00:00:11",
           "total bean vol": 53885003.047982,
           "total pod vol": 51084734.44932,
           "value": 40716755.214498,
           "variable": "pod listing vol"
          },
          {
           "pod listing vol": 40716755.214498,
           "pod order vol": 10367979.234822,
           "season": 7329,
           "timestamp": "2022-09-27T00:00:11",
           "total bean vol": 53885003.047982,
           "total pod vol": 51084734.44932,
           "value": 10367979.234822,
           "variable": "pod order vol"
          },
          {
           "pod listing vol": 40809235.277422,
           "pod order vol": 10367979.234822,
           "season": 7353,
           "timestamp": "2022-09-28T00:00:11",
           "total bean vol": 54115481.824028,
           "total pod vol": 51177214.512244,
           "value": 10367979.234822,
           "variable": "pod order vol"
          },
          {
           "pod listing vol": 40809235.277422,
           "pod order vol": 10367979.234822,
           "season": 7353,
           "timestamp": "2022-09-28T00:00:11",
           "total bean vol": 54115481.824028,
           "total pod vol": 51177214.512244,
           "value": 54115481.824028,
           "variable": "total bean vol"
          },
          {
           "pod listing vol": 40809235.277422,
           "pod order vol": 10367979.234822,
           "season": 7353,
           "timestamp": "2022-09-28T00:00:11",
           "total bean vol": 54115481.824028,
           "total pod vol": 51177214.512244,
           "value": 40809235.277422,
           "variable": "pod listing vol"
          },
          {
           "pod listing vol": 40809235.277422,
           "pod order vol": 10367979.234822,
           "season": 7353,
           "timestamp": "2022-09-28T00:00:11",
           "total bean vol": 54115481.824028,
           "total pod vol": 51177214.512244,
           "value": 51177214.512244,
           "variable": "total pod vol"
          },
          {
           "pod listing vol": 40814235.277422,
           "pod order vol": 10370551.509036,
           "season": 7377,
           "timestamp": "2022-09-29T00:00:11",
           "total bean vol": 54229979.799389,
           "total pod vol": 51184786.786458,
           "value": 51184786.786458,
           "variable": "total pod vol"
          },
          {
           "pod listing vol": 40814235.277422,
           "pod order vol": 10370551.509036,
           "season": 7377,
           "timestamp": "2022-09-29T00:00:11",
           "total bean vol": 54229979.799389,
           "total pod vol": 51184786.786458,
           "value": 54229979.799389,
           "variable": "total bean vol"
          },
          {
           "pod listing vol": 40814235.277422,
           "pod order vol": 10370551.509036,
           "season": 7377,
           "timestamp": "2022-09-29T00:00:11",
           "total bean vol": 54229979.799389,
           "total pod vol": 51184786.786458,
           "value": 10370551.509036,
           "variable": "pod order vol"
          },
          {
           "pod listing vol": 40814235.277422,
           "pod order vol": 10370551.509036,
           "season": 7377,
           "timestamp": "2022-09-29T00:00:11",
           "total bean vol": 54229979.799389,
           "total pod vol": 51184786.786458,
           "value": 40814235.277422,
           "variable": "pod listing vol"
          },
          {
           "pod listing vol": 40875328.12773,
           "pod order vol": 10370551.509036,
           "season": 7401,
           "timestamp": "2022-09-30T00:00:11",
           "total bean vol": 54231201.656395,
           "total pod vol": 51245879.636766,
           "value": 40875328.12773,
           "variable": "pod listing vol"
          },
          {
           "pod listing vol": 40875328.12773,
           "pod order vol": 10370551.509036,
           "season": 7401,
           "timestamp": "2022-09-30T00:00:11",
           "total bean vol": 54231201.656395,
           "total pod vol": 51245879.636766,
           "value": 10370551.509036,
           "variable": "pod order vol"
          },
          {
           "pod listing vol": 40875328.12773,
           "pod order vol": 10370551.509036,
           "season": 7401,
           "timestamp": "2022-09-30T00:00:11",
           "total bean vol": 54231201.656395,
           "total pod vol": 51245879.636766,
           "value": 54231201.656395,
           "variable": "total bean vol"
          },
          {
           "pod listing vol": 40875328.12773,
           "pod order vol": 10370551.509036,
           "season": 7401,
           "timestamp": "2022-09-30T00:00:11",
           "total bean vol": 54231201.656395,
           "total pod vol": 51245879.636766,
           "value": 51245879.636766,
           "variable": "total pod vol"
          },
          {
           "pod listing vol": 40875328.12773,
           "pod order vol": 10370551.509036,
           "season": 7425,
           "timestamp": "2022-10-01T00:00:11",
           "total bean vol": 54231201.656395,
           "total pod vol": 51245879.636766,
           "value": 40875328.12773,
           "variable": "pod listing vol"
          },
          {
           "pod listing vol": 40875328.12773,
           "pod order vol": 10370551.509036,
           "season": 7425,
           "timestamp": "2022-10-01T00:00:11",
           "total bean vol": 54231201.656395,
           "total pod vol": 51245879.636766,
           "value": 10370551.509036,
           "variable": "pod order vol"
          },
          {
           "pod listing vol": 40875328.12773,
           "pod order vol": 10370551.509036,
           "season": 7425,
           "timestamp": "2022-10-01T00:00:11",
           "total bean vol": 54231201.656395,
           "total pod vol": 51245879.636766,
           "value": 54231201.656395,
           "variable": "total bean vol"
          },
          {
           "pod listing vol": 40875328.12773,
           "pod order vol": 10370551.509036,
           "season": 7425,
           "timestamp": "2022-10-01T00:00:11",
           "total bean vol": 54231201.656395,
           "total pod vol": 51245879.636766,
           "value": 51245879.636766,
           "variable": "total pod vol"
          },
          {
           "pod listing vol": 40875328.12773,
           "pod order vol": 10401818.891059,
           "season": 7449,
           "timestamp": "2022-10-02T00:00:11",
           "total bean vol": 54263341.359559,
           "total pod vol": 51277147.018789,
           "value": 40875328.12773,
           "variable": "pod listing vol"
          },
          {
           "pod listing vol": 40875328.12773,
           "pod order vol": 10401818.891059,
           "season": 7449,
           "timestamp": "2022-10-02T00:00:11",
           "total bean vol": 54263341.359559,
           "total pod vol": 51277147.018789,
           "value": 10401818.891059,
           "variable": "pod order vol"
          },
          {
           "pod listing vol": 40875328.12773,
           "pod order vol": 10401818.891059,
           "season": 7449,
           "timestamp": "2022-10-02T00:00:11",
           "total bean vol": 54263341.359559,
           "total pod vol": 51277147.018789,
           "value": 54263341.359559,
           "variable": "total bean vol"
          },
          {
           "pod listing vol": 40875328.12773,
           "pod order vol": 10401818.891059,
           "season": 7449,
           "timestamp": "2022-10-02T00:00:11",
           "total bean vol": 54263341.359559,
           "total pod vol": 51277147.018789,
           "value": 51277147.018789,
           "variable": "total pod vol"
          },
          {
           "pod listing vol": 40875328.12773,
           "pod order vol": 10434487.618884,
           "season": 7473,
           "timestamp": "2022-10-03T00:00:11",
           "total bean vol": 54301194.000435,
           "total pod vol": 51309815.746614,
           "value": 51309815.746614,
           "variable": "total pod vol"
          },
          {
           "pod listing vol": 40875328.12773,
           "pod order vol": 10434487.618884,
           "season": 7473,
           "timestamp": "2022-10-03T00:00:11",
           "total bean vol": 54301194.000435,
           "total pod vol": 51309815.746614,
           "value": 54301194.000435,
           "variable": "total bean vol"
          },
          {
           "pod listing vol": 40875328.12773,
           "pod order vol": 10434487.618884,
           "season": 7473,
           "timestamp": "2022-10-03T00:00:11",
           "total bean vol": 54301194.000435,
           "total pod vol": 51309815.746614,
           "value": 10434487.618884,
           "variable": "pod order vol"
          },
          {
           "pod listing vol": 40875328.12773,
           "pod order vol": 10434487.618884,
           "season": 7473,
           "timestamp": "2022-10-03T00:00:11",
           "total bean vol": 54301194.000435,
           "total pod vol": 51309815.746614,
           "value": 40875328.12773,
           "variable": "pod listing vol"
          },
          {
           "pod listing vol": 40875328.12773,
           "pod order vol": 10434487.618884,
           "season": 7497,
           "timestamp": "2022-10-04T00:00:11",
           "total bean vol": 54363150.652299,
           "total pod vol": 51309815.746614,
           "value": 40875328.12773,
           "variable": "pod listing vol"
          },
          {
           "pod listing vol": 40875328.12773,
           "pod order vol": 10434487.618884,
           "season": 7497,
           "timestamp": "2022-10-04T00:00:11",
           "total bean vol": 54363150.652299,
           "total pod vol": 51309815.746614,
           "value": 10434487.618884,
           "variable": "pod order vol"
          },
          {
           "pod listing vol": 40875328.12773,
           "pod order vol": 10434487.618884,
           "season": 7497,
           "timestamp": "2022-10-04T00:00:11",
           "total bean vol": 54363150.652299,
           "total pod vol": 51309815.746614,
           "value": 54363150.652299,
           "variable": "total bean vol"
          },
          {
           "pod listing vol": 40875328.12773,
           "pod order vol": 10434487.618884,
           "season": 7497,
           "timestamp": "2022-10-04T00:00:11",
           "total bean vol": 54363150.652299,
           "total pod vol": 51309815.746614,
           "value": 51309815.746614,
           "variable": "total pod vol"
          },
          {
           "pod listing vol": 40946742.413442,
           "pod order vol": 10448923.90654,
           "season": 7521,
           "timestamp": "2022-10-05T00:00:11",
           "total bean vol": 54368440.125344,
           "total pod vol": 51395666.319982,
           "value": 40946742.413442,
           "variable": "pod listing vol"
          },
          {
           "pod listing vol": 40946742.413442,
           "pod order vol": 10448923.90654,
           "season": 7521,
           "timestamp": "2022-10-05T00:00:11",
           "total bean vol": 54368440.125344,
           "total pod vol": 51395666.319982,
           "value": 10448923.90654,
           "variable": "pod order vol"
          },
          {
           "pod listing vol": 40946742.413442,
           "pod order vol": 10448923.90654,
           "season": 7521,
           "timestamp": "2022-10-05T00:00:11",
           "total bean vol": 54368440.125344,
           "total pod vol": 51395666.319982,
           "value": 54368440.125344,
           "variable": "total bean vol"
          },
          {
           "pod listing vol": 40946742.413442,
           "pod order vol": 10448923.90654,
           "season": 7521,
           "timestamp": "2022-10-05T00:00:11",
           "total bean vol": 54368440.125344,
           "total pod vol": 51395666.319982,
           "value": 51395666.319982,
           "variable": "total pod vol"
          },
          {
           "pod listing vol": 40946742.413442,
           "pod order vol": 10466174.700152,
           "season": 7545,
           "timestamp": "2022-10-06T00:00:11",
           "total bean vol": 54390385.783638,
           "total pod vol": 51412917.113594,
           "value": 40946742.413442,
           "variable": "pod listing vol"
          },
          {
           "pod listing vol": 40946742.413442,
           "pod order vol": 10466174.700152,
           "season": 7545,
           "timestamp": "2022-10-06T00:00:11",
           "total bean vol": 54390385.783638,
           "total pod vol": 51412917.113594,
           "value": 10466174.700152,
           "variable": "pod order vol"
          },
          {
           "pod listing vol": 40946742.413442,
           "pod order vol": 10466174.700152,
           "season": 7545,
           "timestamp": "2022-10-06T00:00:11",
           "total bean vol": 54390385.783638,
           "total pod vol": 51412917.113594,
           "value": 54390385.783638,
           "variable": "total bean vol"
          },
          {
           "pod listing vol": 40946742.413442,
           "pod order vol": 10466174.700152,
           "season": 7545,
           "timestamp": "2022-10-06T00:00:11",
           "total bean vol": 54390385.783638,
           "total pod vol": 51412917.113594,
           "value": 51412917.113594,
           "variable": "total pod vol"
          },
          {
           "pod listing vol": 41021919.086459,
           "pod order vol": 10505857.239834,
           "season": 7569,
           "timestamp": "2022-10-07T00:00:11",
           "total bean vol": 54694945.166016,
           "total pod vol": 51527776.326293,
           "value": 51527776.326293,
           "variable": "total pod vol"
          },
          {
           "pod listing vol": 41021919.086459,
           "pod order vol": 10505857.239834,
           "season": 7569,
           "timestamp": "2022-10-07T00:00:11",
           "total bean vol": 54694945.166016,
           "total pod vol": 51527776.326293,
           "value": 54694945.166016,
           "variable": "total bean vol"
          },
          {
           "pod listing vol": 41021919.086459,
           "pod order vol": 10505857.239834,
           "season": 7569,
           "timestamp": "2022-10-07T00:00:11",
           "total bean vol": 54694945.166016,
           "total pod vol": 51527776.326293,
           "value": 41021919.086459,
           "variable": "pod listing vol"
          },
          {
           "pod listing vol": 41021919.086459,
           "pod order vol": 10505857.239834,
           "season": 7569,
           "timestamp": "2022-10-07T00:00:11",
           "total bean vol": 54694945.166016,
           "total pod vol": 51527776.326293,
           "value": 10505857.239834,
           "variable": "pod order vol"
          },
          {
           "pod listing vol": 41021919.086459,
           "pod order vol": 10539294.900959,
           "season": 7593,
           "timestamp": "2022-10-08T00:00:11",
           "total bean vol": 54712653.572151,
           "total pod vol": 51561213.987418,
           "value": 41021919.086459,
           "variable": "pod listing vol"
          },
          {
           "pod listing vol": 41021919.086459,
           "pod order vol": 10539294.900959,
           "season": 7593,
           "timestamp": "2022-10-08T00:00:11",
           "total bean vol": 54712653.572151,
           "total pod vol": 51561213.987418,
           "value": 10539294.900959,
           "variable": "pod order vol"
          },
          {
           "pod listing vol": 41021919.086459,
           "pod order vol": 10539294.900959,
           "season": 7593,
           "timestamp": "2022-10-08T00:00:11",
           "total bean vol": 54712653.572151,
           "total pod vol": 51561213.987418,
           "value": 54712653.572151,
           "variable": "total bean vol"
          },
          {
           "pod listing vol": 41021919.086459,
           "pod order vol": 10539294.900959,
           "season": 7593,
           "timestamp": "2022-10-08T00:00:11",
           "total bean vol": 54712653.572151,
           "total pod vol": 51561213.987418,
           "value": 51561213.987418,
           "variable": "total pod vol"
          },
          {
           "pod listing vol": 41021919.086459,
           "pod order vol": 10539294.900959,
           "season": 7617,
           "timestamp": "2022-10-09T00:00:11",
           "total bean vol": 54712653.572151,
           "total pod vol": 51561213.987418,
           "value": 41021919.086459,
           "variable": "pod listing vol"
          },
          {
           "pod listing vol": 41021919.086459,
           "pod order vol": 10539294.900959,
           "season": 7617,
           "timestamp": "2022-10-09T00:00:11",
           "total bean vol": 54712653.572151,
           "total pod vol": 51561213.987418,
           "value": 10539294.900959,
           "variable": "pod order vol"
          },
          {
           "pod listing vol": 41021919.086459,
           "pod order vol": 10539294.900959,
           "season": 7617,
           "timestamp": "2022-10-09T00:00:11",
           "total bean vol": 54712653.572151,
           "total pod vol": 51561213.987418,
           "value": 54712653.572151,
           "variable": "total bean vol"
          },
          {
           "pod listing vol": 41021919.086459,
           "pod order vol": 10539294.900959,
           "season": 7617,
           "timestamp": "2022-10-09T00:00:11",
           "total bean vol": 54712653.572151,
           "total pod vol": 51561213.987418,
           "value": 51561213.987418,
           "variable": "total pod vol"
          },
          {
           "pod listing vol": 41023274.829932,
           "pod order vol": 10539294.900959,
           "season": 7641,
           "timestamp": "2022-10-10T00:00:11",
           "total bean vol": 54715235.684659,
           "total pod vol": 51562569.730891,
           "value": 41023274.829932,
           "variable": "pod listing vol"
          },
          {
           "pod listing vol": 41023274.829932,
           "pod order vol": 10539294.900959,
           "season": 7641,
           "timestamp": "2022-10-10T00:00:11",
           "total bean vol": 54715235.684659,
           "total pod vol": 51562569.730891,
           "value": 10539294.900959,
           "variable": "pod order vol"
          },
          {
           "pod listing vol": 41023274.829932,
           "pod order vol": 10539294.900959,
           "season": 7641,
           "timestamp": "2022-10-10T00:00:11",
           "total bean vol": 54715235.684659,
           "total pod vol": 51562569.730891,
           "value": 54715235.684659,
           "variable": "total bean vol"
          },
          {
           "pod listing vol": 41023274.829932,
           "pod order vol": 10539294.900959,
           "season": 7641,
           "timestamp": "2022-10-10T00:00:11",
           "total bean vol": 54715235.684659,
           "total pod vol": 51562569.730891,
           "value": 51562569.730891,
           "variable": "total pod vol"
          },
          {
           "pod listing vol": 41040274.829932,
           "pod order vol": 10693583.664071,
           "season": 7665,
           "timestamp": "2022-10-11T00:00:11",
           "total bean vol": 54792888.574895,
           "total pod vol": 51733858.494003,
           "value": 10693583.664071,
           "variable": "pod order vol"
          },
          {
           "pod listing vol": 41040274.829932,
           "pod order vol": 10693583.664071,
           "season": 7665,
           "timestamp": "2022-10-11T00:00:11",
           "total bean vol": 54792888.574895,
           "total pod vol": 51733858.494003,
           "value": 51733858.494003,
           "variable": "total pod vol"
          },
          {
           "pod listing vol": 41040274.829932,
           "pod order vol": 10693583.664071,
           "season": 7665,
           "timestamp": "2022-10-11T00:00:11",
           "total bean vol": 54792888.574895,
           "total pod vol": 51733858.494003,
           "value": 41040274.829932,
           "variable": "pod listing vol"
          },
          {
           "pod listing vol": 41040274.829932,
           "pod order vol": 10693583.664071,
           "season": 7665,
           "timestamp": "2022-10-11T00:00:11",
           "total bean vol": 54792888.574895,
           "total pod vol": 51733858.494003,
           "value": 54792888.574895,
           "variable": "total bean vol"
          },
          {
           "pod listing vol": 41043192.625139,
           "pod order vol": 10693775.513387,
           "season": 7689,
           "timestamp": "2022-10-12T00:00:11",
           "total bean vol": 54795365.622802,
           "total pod vol": 51736968.138526,
           "value": 41043192.625139,
           "variable": "pod listing vol"
          },
          {
           "pod listing vol": 41043192.625139,
           "pod order vol": 10693775.513387,
           "season": 7689,
           "timestamp": "2022-10-12T00:00:11",
           "total bean vol": 54795365.622802,
           "total pod vol": 51736968.138526,
           "value": 10693775.513387,
           "variable": "pod order vol"
          },
          {
           "pod listing vol": 41043192.625139,
           "pod order vol": 10693775.513387,
           "season": 7689,
           "timestamp": "2022-10-12T00:00:11",
           "total bean vol": 54795365.622802,
           "total pod vol": 51736968.138526,
           "value": 54795365.622802,
           "variable": "total bean vol"
          },
          {
           "pod listing vol": 41043192.625139,
           "pod order vol": 10693775.513387,
           "season": 7689,
           "timestamp": "2022-10-12T00:00:11",
           "total bean vol": 54795365.622802,
           "total pod vol": 51736968.138526,
           "value": 51736968.138526,
           "variable": "total pod vol"
          },
          {
           "pod listing vol": 41043192.625139,
           "pod order vol": 10693775.513387,
           "season": 7713,
           "timestamp": "2022-10-13T00:00:11",
           "total bean vol": 54795365.622802,
           "total pod vol": 51736968.138526,
           "value": 41043192.625139,
           "variable": "pod listing vol"
          },
          {
           "pod listing vol": 41043192.625139,
           "pod order vol": 10693775.513387,
           "season": 7713,
           "timestamp": "2022-10-13T00:00:11",
           "total bean vol": 54795365.622802,
           "total pod vol": 51736968.138526,
           "value": 10693775.513387,
           "variable": "pod order vol"
          },
          {
           "pod listing vol": 41043192.625139,
           "pod order vol": 10693775.513387,
           "season": 7713,
           "timestamp": "2022-10-13T00:00:11",
           "total bean vol": 54795365.622802,
           "total pod vol": 51736968.138526,
           "value": 54795365.622802,
           "variable": "total bean vol"
          },
          {
           "pod listing vol": 41043192.625139,
           "pod order vol": 10693775.513387,
           "season": 7713,
           "timestamp": "2022-10-13T00:00:11",
           "total bean vol": 54795365.622802,
           "total pod vol": 51736968.138526,
           "value": 51736968.138526,
           "variable": "total pod vol"
          },
          {
           "pod listing vol": 41043192.625139,
           "pod order vol": 10726200.856299,
           "season": 7737,
           "timestamp": "2022-10-14T00:00:11",
           "total bean vol": 54828569.464273,
           "total pod vol": 51769393.481438,
           "value": 54828569.464273,
           "variable": "total bean vol"
          },
          {
           "pod listing vol": 41043192.625139,
           "pod order vol": 10726200.856299,
           "season": 7737,
           "timestamp": "2022-10-14T00:00:11",
           "total bean vol": 54828569.464273,
           "total pod vol": 51769393.481438,
           "value": 41043192.625139,
           "variable": "pod listing vol"
          },
          {
           "pod listing vol": 41043192.625139,
           "pod order vol": 10726200.856299,
           "season": 7737,
           "timestamp": "2022-10-14T00:00:11",
           "total bean vol": 54828569.464273,
           "total pod vol": 51769393.481438,
           "value": 10726200.856299,
           "variable": "pod order vol"
          },
          {
           "pod listing vol": 41043192.625139,
           "pod order vol": 10726200.856299,
           "season": 7737,
           "timestamp": "2022-10-14T00:00:11",
           "total bean vol": 54828569.464273,
           "total pod vol": 51769393.481438,
           "value": 51769393.481438,
           "variable": "total pod vol"
          },
          {
           "pod listing vol": 41043192.625139,
           "pod order vol": 10726200.856299,
           "season": 7761,
           "timestamp": "2022-10-15T00:00:11",
           "total bean vol": 54837711.771965,
           "total pod vol": 51769393.481438,
           "value": 51769393.481438,
           "variable": "total pod vol"
          },
          {
           "pod listing vol": 41043192.625139,
           "pod order vol": 10726200.856299,
           "season": 7761,
           "timestamp": "2022-10-15T00:00:11",
           "total bean vol": 54837711.771965,
           "total pod vol": 51769393.481438,
           "value": 54837711.771965,
           "variable": "total bean vol"
          },
          {
           "pod listing vol": 41043192.625139,
           "pod order vol": 10726200.856299,
           "season": 7761,
           "timestamp": "2022-10-15T00:00:11",
           "total bean vol": 54837711.771965,
           "total pod vol": 51769393.481438,
           "value": 10726200.856299,
           "variable": "pod order vol"
          },
          {
           "pod listing vol": 41043192.625139,
           "pod order vol": 10726200.856299,
           "season": 7761,
           "timestamp": "2022-10-15T00:00:11",
           "total bean vol": 54837711.771965,
           "total pod vol": 51769393.481438,
           "value": 41043192.625139,
           "variable": "pod listing vol"
          },
          {
           "pod listing vol": 41043192.625139,
           "pod order vol": 10726200.856299,
           "season": 7785,
           "timestamp": "2022-10-16T00:00:11",
           "total bean vol": 54837711.771965,
           "total pod vol": 51769393.481438,
           "value": 41043192.625139,
           "variable": "pod listing vol"
          },
          {
           "pod listing vol": 41043192.625139,
           "pod order vol": 10726200.856299,
           "season": 7785,
           "timestamp": "2022-10-16T00:00:11",
           "total bean vol": 54837711.771965,
           "total pod vol": 51769393.481438,
           "value": 10726200.856299,
           "variable": "pod order vol"
          },
          {
           "pod listing vol": 41043192.625139,
           "pod order vol": 10726200.856299,
           "season": 7785,
           "timestamp": "2022-10-16T00:00:11",
           "total bean vol": 54837711.771965,
           "total pod vol": 51769393.481438,
           "value": 54837711.771965,
           "variable": "total bean vol"
          },
          {
           "pod listing vol": 41043192.625139,
           "pod order vol": 10726200.856299,
           "season": 7785,
           "timestamp": "2022-10-16T00:00:11",
           "total bean vol": 54837711.771965,
           "total pod vol": 51769393.481438,
           "value": 51769393.481438,
           "variable": "total pod vol"
          },
          {
           "pod listing vol": 41043192.625139,
           "pod order vol": 10826200.856299,
           "season": 7809,
           "timestamp": "2022-10-17T00:00:11",
           "total bean vol": 54878921.709427,
           "total pod vol": 51869393.481438,
           "value": 41043192.625139,
           "variable": "pod listing vol"
          },
          {
           "pod listing vol": 41043192.625139,
           "pod order vol": 10826200.856299,
           "season": 7809,
           "timestamp": "2022-10-17T00:00:11",
           "total bean vol": 54878921.709427,
           "total pod vol": 51869393.481438,
           "value": 10826200.856299,
           "variable": "pod order vol"
          },
          {
           "pod listing vol": 41043192.625139,
           "pod order vol": 10826200.856299,
           "season": 7809,
           "timestamp": "2022-10-17T00:00:11",
           "total bean vol": 54878921.709427,
           "total pod vol": 51869393.481438,
           "value": 54878921.709427,
           "variable": "total bean vol"
          },
          {
           "pod listing vol": 41043192.625139,
           "pod order vol": 10826200.856299,
           "season": 7809,
           "timestamp": "2022-10-17T00:00:11",
           "total bean vol": 54878921.709427,
           "total pod vol": 51869393.481438,
           "value": 51869393.481438,
           "variable": "total pod vol"
          },
          {
           "pod listing vol": 41113895.562007,
           "pod order vol": 10826200.856299,
           "season": 7833,
           "timestamp": "2022-10-18T00:00:11",
           "total bean vol": 54892842.795797,
           "total pod vol": 51940096.418306,
           "value": 41113895.562007,
           "variable": "pod listing vol"
          },
          {
           "pod listing vol": 41113895.562007,
           "pod order vol": 10826200.856299,
           "season": 7833,
           "timestamp": "2022-10-18T00:00:11",
           "total bean vol": 54892842.795797,
           "total pod vol": 51940096.418306,
           "value": 10826200.856299,
           "variable": "pod order vol"
          },
          {
           "pod listing vol": 41113895.562007,
           "pod order vol": 10826200.856299,
           "season": 7833,
           "timestamp": "2022-10-18T00:00:11",
           "total bean vol": 54892842.795797,
           "total pod vol": 51940096.418306,
           "value": 54892842.795797,
           "variable": "total bean vol"
          },
          {
           "pod listing vol": 41113895.562007,
           "pod order vol": 10826200.856299,
           "season": 7833,
           "timestamp": "2022-10-18T00:00:11",
           "total bean vol": 54892842.795797,
           "total pod vol": 51940096.418306,
           "value": 51940096.418306,
           "variable": "total pod vol"
          },
          {
           "pod listing vol": 41252745.886656,
           "pod order vol": 10826200.856299,
           "season": 7857,
           "timestamp": "2022-10-19T00:00:11",
           "total bean vol": 54935371.228161,
           "total pod vol": 52078946.742955,
           "value": 52078946.742955,
           "variable": "total pod vol"
          },
          {
           "pod listing vol": 41252745.886656,
           "pod order vol": 10826200.856299,
           "season": 7857,
           "timestamp": "2022-10-19T00:00:11",
           "total bean vol": 54935371.228161,
           "total pod vol": 52078946.742955,
           "value": 54935371.228161,
           "variable": "total bean vol"
          },
          {
           "pod listing vol": 41252745.886656,
           "pod order vol": 10826200.856299,
           "season": 7857,
           "timestamp": "2022-10-19T00:00:11",
           "total bean vol": 54935371.228161,
           "total pod vol": 52078946.742955,
           "value": 41252745.886656,
           "variable": "pod listing vol"
          },
          {
           "pod listing vol": 41252745.886656,
           "pod order vol": 10826200.856299,
           "season": 7857,
           "timestamp": "2022-10-19T00:00:11",
           "total bean vol": 54935371.228161,
           "total pod vol": 52078946.742955,
           "value": 10826200.856299,
           "variable": "pod order vol"
          },
          {
           "pod listing vol": 41388317.402165,
           "pod order vol": 10878734.208348,
           "season": 7881,
           "timestamp": "2022-10-20T00:00:11",
           "total bean vol": 55077515.020264,
           "total pod vol": 52267051.610513,
           "value": 41388317.402165,
           "variable": "pod listing vol"
          },
          {
           "pod listing vol": 41388317.402165,
           "pod order vol": 10878734.208348,
           "season": 7881,
           "timestamp": "2022-10-20T00:00:11",
           "total bean vol": 55077515.020264,
           "total pod vol": 52267051.610513,
           "value": 10878734.208348,
           "variable": "pod order vol"
          },
          {
           "pod listing vol": 41388317.402165,
           "pod order vol": 10878734.208348,
           "season": 7881,
           "timestamp": "2022-10-20T00:00:11",
           "total bean vol": 55077515.020264,
           "total pod vol": 52267051.610513,
           "value": 55077515.020264,
           "variable": "total bean vol"
          },
          {
           "pod listing vol": 41388317.402165,
           "pod order vol": 10878734.208348,
           "season": 7881,
           "timestamp": "2022-10-20T00:00:11",
           "total bean vol": 55077515.020264,
           "total pod vol": 52267051.610513,
           "value": 52267051.610513,
           "variable": "total pod vol"
          },
          {
           "pod listing vol": 41390317.404778,
           "pod order vol": 11020726.905967,
           "season": 7905,
           "timestamp": "2022-10-21T00:00:11",
           "total bean vol": 55082536.867304,
           "total pod vol": 52411044.310745,
           "value": 41390317.404778,
           "variable": "pod listing vol"
          },
          {
           "pod listing vol": 41390317.404778,
           "pod order vol": 11020726.905967,
           "season": 7905,
           "timestamp": "2022-10-21T00:00:11",
           "total bean vol": 55082536.867304,
           "total pod vol": 52411044.310745,
           "value": 11020726.905967,
           "variable": "pod order vol"
          },
          {
           "pod listing vol": 41390317.404778,
           "pod order vol": 11020726.905967,
           "season": 7905,
           "timestamp": "2022-10-21T00:00:11",
           "total bean vol": 55082536.867304,
           "total pod vol": 52411044.310745,
           "value": 55082536.867304,
           "variable": "total bean vol"
          },
          {
           "pod listing vol": 41390317.404778,
           "pod order vol": 11020726.905967,
           "season": 7905,
           "timestamp": "2022-10-21T00:00:11",
           "total bean vol": 55082536.867304,
           "total pod vol": 52411044.310745,
           "value": 52411044.310745,
           "variable": "total pod vol"
          },
          {
           "pod listing vol": 41460043.789778,
           "pod order vol": 11020726.905967,
           "season": 7929,
           "timestamp": "2022-10-22T00:00:11",
           "total bean vol": 55084210.300544,
           "total pod vol": 52480770.695745,
           "value": 41460043.789778,
           "variable": "pod listing vol"
          },
          {
           "pod listing vol": 41460043.789778,
           "pod order vol": 11020726.905967,
           "season": 7929,
           "timestamp": "2022-10-22T00:00:11",
           "total bean vol": 55084210.300544,
           "total pod vol": 52480770.695745,
           "value": 11020726.905967,
           "variable": "pod order vol"
          },
          {
           "pod listing vol": 41460043.789778,
           "pod order vol": 11020726.905967,
           "season": 7929,
           "timestamp": "2022-10-22T00:00:11",
           "total bean vol": 55084210.300544,
           "total pod vol": 52480770.695745,
           "value": 55084210.300544,
           "variable": "total bean vol"
          },
          {
           "pod listing vol": 41460043.789778,
           "pod order vol": 11020726.905967,
           "season": 7929,
           "timestamp": "2022-10-22T00:00:11",
           "total bean vol": 55084210.300544,
           "total pod vol": 52480770.695745,
           "value": 52480770.695745,
           "variable": "total pod vol"
          },
          {
           "pod listing vol": 41460245.981838,
           "pod order vol": 11025726.905967,
           "season": 7953,
           "timestamp": "2022-10-23T00:00:11",
           "total bean vol": 55084490.629353,
           "total pod vol": 52485972.887805,
           "value": 52485972.887805,
           "variable": "total pod vol"
          },
          {
           "pod listing vol": 41460245.981838,
           "pod order vol": 11025726.905967,
           "season": 7953,
           "timestamp": "2022-10-23T00:00:11",
           "total bean vol": 55084490.629353,
           "total pod vol": 52485972.887805,
           "value": 55084490.629353,
           "variable": "total bean vol"
          },
          {
           "pod listing vol": 41460245.981838,
           "pod order vol": 11025726.905967,
           "season": 7953,
           "timestamp": "2022-10-23T00:00:11",
           "total bean vol": 55084490.629353,
           "total pod vol": 52485972.887805,
           "value": 11025726.905967,
           "variable": "pod order vol"
          },
          {
           "pod listing vol": 41460245.981838,
           "pod order vol": 11025726.905967,
           "season": 7953,
           "timestamp": "2022-10-23T00:00:11",
           "total bean vol": 55084490.629353,
           "total pod vol": 52485972.887805,
           "value": 41460245.981838,
           "variable": "pod listing vol"
          },
          {
           "pod listing vol": 41494623.416942,
           "pod order vol": 11039377.558114,
           "season": 7977,
           "timestamp": "2022-10-24T00:00:11",
           "total bean vol": 55087932.205783,
           "total pod vol": 52534000.975056,
           "value": 41494623.416942,
           "variable": "pod listing vol"
          },
          {
           "pod listing vol": 41494623.416942,
           "pod order vol": 11039377.558114,
           "season": 7977,
           "timestamp": "2022-10-24T00:00:11",
           "total bean vol": 55087932.205783,
           "total pod vol": 52534000.975056,
           "value": 11039377.558114,
           "variable": "pod order vol"
          },
          {
           "pod listing vol": 41494623.416942,
           "pod order vol": 11039377.558114,
           "season": 7977,
           "timestamp": "2022-10-24T00:00:11",
           "total bean vol": 55087932.205783,
           "total pod vol": 52534000.975056,
           "value": 55087932.205783,
           "variable": "total bean vol"
          },
          {
           "pod listing vol": 41494623.416942,
           "pod order vol": 11039377.558114,
           "season": 7977,
           "timestamp": "2022-10-24T00:00:11",
           "total bean vol": 55087932.205783,
           "total pod vol": 52534000.975056,
           "value": 52534000.975056,
           "variable": "total pod vol"
          },
          {
           "pod listing vol": 41494623.416942,
           "pod order vol": 11054074.069404,
           "season": 8001,
           "timestamp": "2022-10-25T00:00:11",
           "total bean vol": 55168227.593578,
           "total pod vol": 52548697.486346,
           "value": 41494623.416942,
           "variable": "pod listing vol"
          },
          {
           "pod listing vol": 41494623.416942,
           "pod order vol": 11054074.069404,
           "season": 8001,
           "timestamp": "2022-10-25T00:00:11",
           "total bean vol": 55168227.593578,
           "total pod vol": 52548697.486346,
           "value": 11054074.069404,
           "variable": "pod order vol"
          },
          {
           "pod listing vol": 41494623.416942,
           "pod order vol": 11054074.069404,
           "season": 8001,
           "timestamp": "2022-10-25T00:00:11",
           "total bean vol": 55168227.593578,
           "total pod vol": 52548697.486346,
           "value": 55168227.593578,
           "variable": "total bean vol"
          },
          {
           "pod listing vol": 41494623.416942,
           "pod order vol": 11054074.069404,
           "season": 8001,
           "timestamp": "2022-10-25T00:00:11",
           "total bean vol": 55168227.593578,
           "total pod vol": 52548697.486346,
           "value": 52548697.486346,
           "variable": "total pod vol"
          },
          {
           "pod listing vol": 41495923.164125,
           "pod order vol": 11084311.640525,
           "season": 8025,
           "timestamp": "2022-10-26T00:00:11",
           "total bean vol": 55168995.214988,
           "total pod vol": 52580234.80465,
           "value": 41495923.164125,
           "variable": "pod listing vol"
          },
          {
           "pod listing vol": 41495923.164125,
           "pod order vol": 11084311.640525,
           "season": 8025,
           "timestamp": "2022-10-26T00:00:11",
           "total bean vol": 55168995.214988,
           "total pod vol": 52580234.80465,
           "value": 11084311.640525,
           "variable": "pod order vol"
          },
          {
           "pod listing vol": 41495923.164125,
           "pod order vol": 11084311.640525,
           "season": 8025,
           "timestamp": "2022-10-26T00:00:11",
           "total bean vol": 55168995.214988,
           "total pod vol": 52580234.80465,
           "value": 55168995.214988,
           "variable": "total bean vol"
          },
          {
           "pod listing vol": 41495923.164125,
           "pod order vol": 11084311.640525,
           "season": 8025,
           "timestamp": "2022-10-26T00:00:11",
           "total bean vol": 55168995.214988,
           "total pod vol": 52580234.80465,
           "value": 52580234.80465,
           "variable": "total pod vol"
          },
          {
           "pod listing vol": 41496488.554812,
           "pod order vol": 11084311.640525,
           "season": 8049,
           "timestamp": "2022-10-27T00:00:11",
           "total bean vol": 55318241.140739,
           "total pod vol": 52580800.195337,
           "value": 52580800.195337,
           "variable": "total pod vol"
          },
          {
           "pod listing vol": 41496488.554812,
           "pod order vol": 11084311.640525,
           "season": 8049,
           "timestamp": "2022-10-27T00:00:11",
           "total bean vol": 55318241.140739,
           "total pod vol": 52580800.195337,
           "value": 55318241.140739,
           "variable": "total bean vol"
          },
          {
           "pod listing vol": 41496488.554812,
           "pod order vol": 11084311.640525,
           "season": 8049,
           "timestamp": "2022-10-27T00:00:11",
           "total bean vol": 55318241.140739,
           "total pod vol": 52580800.195337,
           "value": 11084311.640525,
           "variable": "pod order vol"
          },
          {
           "pod listing vol": 41496488.554812,
           "pod order vol": 11084311.640525,
           "season": 8049,
           "timestamp": "2022-10-27T00:00:11",
           "total bean vol": 55318241.140739,
           "total pod vol": 52580800.195337,
           "value": 41496488.554812,
           "variable": "pod listing vol"
          },
          {
           "pod listing vol": 41496488.554812,
           "pod order vol": 11084311.640525,
           "season": 8073,
           "timestamp": "2022-10-28T00:00:11",
           "total bean vol": 55318241.140739,
           "total pod vol": 52580800.195337,
           "value": 41496488.554812,
           "variable": "pod listing vol"
          },
          {
           "pod listing vol": 41496488.554812,
           "pod order vol": 11084311.640525,
           "season": 8073,
           "timestamp": "2022-10-28T00:00:11",
           "total bean vol": 55318241.140739,
           "total pod vol": 52580800.195337,
           "value": 11084311.640525,
           "variable": "pod order vol"
          },
          {
           "pod listing vol": 41496488.554812,
           "pod order vol": 11084311.640525,
           "season": 8073,
           "timestamp": "2022-10-28T00:00:11",
           "total bean vol": 55318241.140739,
           "total pod vol": 52580800.195337,
           "value": 55318241.140739,
           "variable": "total bean vol"
          },
          {
           "pod listing vol": 41496488.554812,
           "pod order vol": 11084311.640525,
           "season": 8073,
           "timestamp": "2022-10-28T00:00:11",
           "total bean vol": 55318241.140739,
           "total pod vol": 52580800.195337,
           "value": 52580800.195337,
           "variable": "total pod vol"
          },
          {
           "pod listing vol": 41509872.743971,
           "pod order vol": 11084311.640525,
           "season": 8097,
           "timestamp": "2022-10-29T00:00:11",
           "total bean vol": 55318887.583838,
           "total pod vol": 52594184.384496,
           "value": 41509872.743971,
           "variable": "pod listing vol"
          },
          {
           "pod listing vol": 41509872.743971,
           "pod order vol": 11084311.640525,
           "season": 8097,
           "timestamp": "2022-10-29T00:00:11",
           "total bean vol": 55318887.583838,
           "total pod vol": 52594184.384496,
           "value": 11084311.640525,
           "variable": "pod order vol"
          },
          {
           "pod listing vol": 41509872.743971,
           "pod order vol": 11084311.640525,
           "season": 8097,
           "timestamp": "2022-10-29T00:00:11",
           "total bean vol": 55318887.583838,
           "total pod vol": 52594184.384496,
           "value": 55318887.583838,
           "variable": "total bean vol"
          },
          {
           "pod listing vol": 41509872.743971,
           "pod order vol": 11084311.640525,
           "season": 8097,
           "timestamp": "2022-10-29T00:00:11",
           "total bean vol": 55318887.583838,
           "total pod vol": 52594184.384496,
           "value": 52594184.384496,
           "variable": "total pod vol"
          },
          {
           "pod listing vol": 41512754.899823,
           "pod order vol": 11084311.640525,
           "season": 8121,
           "timestamp": "2022-10-30T00:00:11",
           "total bean vol": 55318955.299749,
           "total pod vol": 52597066.540348,
           "value": 41512754.899823,
           "variable": "pod listing vol"
          },
          {
           "pod listing vol": 41512754.899823,
           "pod order vol": 11084311.640525,
           "season": 8121,
           "timestamp": "2022-10-30T00:00:11",
           "total bean vol": 55318955.299749,
           "total pod vol": 52597066.540348,
           "value": 11084311.640525,
           "variable": "pod order vol"
          },
          {
           "pod listing vol": 41512754.899823,
           "pod order vol": 11084311.640525,
           "season": 8121,
           "timestamp": "2022-10-30T00:00:11",
           "total bean vol": 55318955.299749,
           "total pod vol": 52597066.540348,
           "value": 55318955.299749,
           "variable": "total bean vol"
          },
          {
           "pod listing vol": 41512754.899823,
           "pod order vol": 11084311.640525,
           "season": 8121,
           "timestamp": "2022-10-30T00:00:11",
           "total bean vol": 55318955.299749,
           "total pod vol": 52597066.540348,
           "value": 52597066.540348,
           "variable": "total pod vol"
          },
          {
           "pod listing vol": 41516754.899823,
           "pod order vol": 11165000.911991,
           "season": 8145,
           "timestamp": "2022-10-31T00:00:11",
           "total bean vol": 55329710.32772,
           "total pod vol": 52681755.811814,
           "value": 52681755.811814,
           "variable": "total pod vol"
          },
          {
           "pod listing vol": 41516754.899823,
           "pod order vol": 11165000.911991,
           "season": 8145,
           "timestamp": "2022-10-31T00:00:11",
           "total bean vol": 55329710.32772,
           "total pod vol": 52681755.811814,
           "value": 55329710.32772,
           "variable": "total bean vol"
          },
          {
           "pod listing vol": 41516754.899823,
           "pod order vol": 11165000.911991,
           "season": 8145,
           "timestamp": "2022-10-31T00:00:11",
           "total bean vol": 55329710.32772,
           "total pod vol": 52681755.811814,
           "value": 11165000.911991,
           "variable": "pod order vol"
          },
          {
           "pod listing vol": 41516754.899823,
           "pod order vol": 11165000.911991,
           "season": 8145,
           "timestamp": "2022-10-31T00:00:11",
           "total bean vol": 55329710.32772,
           "total pod vol": 52681755.811814,
           "value": 41516754.899823,
           "variable": "pod listing vol"
          },
          {
           "pod listing vol": 41593231.428142,
           "pod order vol": 11165000.911991,
           "season": 8169,
           "timestamp": "2022-11-01T00:00:11",
           "total bean vol": 55633567.382527,
           "total pod vol": 52758232.340133,
           "value": 41593231.428142,
           "variable": "pod listing vol"
          },
          {
           "pod listing vol": 41593231.428142,
           "pod order vol": 11165000.911991,
           "season": 8169,
           "timestamp": "2022-11-01T00:00:11",
           "total bean vol": 55633567.382527,
           "total pod vol": 52758232.340133,
           "value": 11165000.911991,
           "variable": "pod order vol"
          },
          {
           "pod listing vol": 41593231.428142,
           "pod order vol": 11165000.911991,
           "season": 8169,
           "timestamp": "2022-11-01T00:00:11",
           "total bean vol": 55633567.382527,
           "total pod vol": 52758232.340133,
           "value": 55633567.382527,
           "variable": "total bean vol"
          },
          {
           "pod listing vol": 41593231.428142,
           "pod order vol": 11165000.911991,
           "season": 8169,
           "timestamp": "2022-11-01T00:00:11",
           "total bean vol": 55633567.382527,
           "total pod vol": 52758232.340133,
           "value": 52758232.340133,
           "variable": "total pod vol"
          },
          {
           "pod listing vol": 41643117.801732,
           "pod order vol": 11270592.357031,
           "season": 8193,
           "timestamp": "2022-11-02T00:00:11",
           "total bean vol": 55645724.027249,
           "total pod vol": 52913710.158763,
           "value": 41643117.801732,
           "variable": "pod listing vol"
          },
          {
           "pod listing vol": 41643117.801732,
           "pod order vol": 11270592.357031,
           "season": 8193,
           "timestamp": "2022-11-02T00:00:11",
           "total bean vol": 55645724.027249,
           "total pod vol": 52913710.158763,
           "value": 11270592.357031,
           "variable": "pod order vol"
          },
          {
           "pod listing vol": 41643117.801732,
           "pod order vol": 11270592.357031,
           "season": 8193,
           "timestamp": "2022-11-02T00:00:11",
           "total bean vol": 55645724.027249,
           "total pod vol": 52913710.158763,
           "value": 55645724.027249,
           "variable": "total bean vol"
          },
          {
           "pod listing vol": 41643117.801732,
           "pod order vol": 11270592.357031,
           "season": 8193,
           "timestamp": "2022-11-02T00:00:11",
           "total bean vol": 55645724.027249,
           "total pod vol": 52913710.158763,
           "value": 52913710.158763,
           "variable": "total pod vol"
          },
          {
           "pod listing vol": 41647408.473919,
           "pod order vol": 11390386.365751,
           "season": 8217,
           "timestamp": "2022-11-03T00:00:11",
           "total bean vol": 55755750.359038,
           "total pod vol": 53037794.83967,
           "value": 41647408.473919,
           "variable": "pod listing vol"
          },
          {
           "pod listing vol": 41647408.473919,
           "pod order vol": 11390386.365751,
           "season": 8217,
           "timestamp": "2022-11-03T00:00:11",
           "total bean vol": 55755750.359038,
           "total pod vol": 53037794.83967,
           "value": 11390386.365751,
           "variable": "pod order vol"
          },
          {
           "pod listing vol": 41647408.473919,
           "pod order vol": 11390386.365751,
           "season": 8217,
           "timestamp": "2022-11-03T00:00:11",
           "total bean vol": 55755750.359038,
           "total pod vol": 53037794.83967,
           "value": 55755750.359038,
           "variable": "total bean vol"
          },
          {
           "pod listing vol": 41647408.473919,
           "pod order vol": 11390386.365751,
           "season": 8217,
           "timestamp": "2022-11-03T00:00:11",
           "total bean vol": 55755750.359038,
           "total pod vol": 53037794.83967,
           "value": 53037794.83967,
           "variable": "total pod vol"
          },
          {
           "pod listing vol": 41796810.586002,
           "pod order vol": 11390386.365751,
           "season": 8241,
           "timestamp": "2022-11-04T00:00:11",
           "total bean vol": 55762888.776602,
           "total pod vol": 53187196.951753,
           "value": 53187196.951753,
           "variable": "total pod vol"
          },
          {
           "pod listing vol": 41796810.586002,
           "pod order vol": 11390386.365751,
           "season": 8241,
           "timestamp": "2022-11-04T00:00:11",
           "total bean vol": 55762888.776602,
           "total pod vol": 53187196.951753,
           "value": 55762888.776602,
           "variable": "total bean vol"
          },
          {
           "pod listing vol": 41796810.586002,
           "pod order vol": 11390386.365751,
           "season": 8241,
           "timestamp": "2022-11-04T00:00:11",
           "total bean vol": 55762888.776602,
           "total pod vol": 53187196.951753,
           "value": 11390386.365751,
           "variable": "pod order vol"
          },
          {
           "pod listing vol": 41796810.586002,
           "pod order vol": 11390386.365751,
           "season": 8241,
           "timestamp": "2022-11-04T00:00:11",
           "total bean vol": 55762888.776602,
           "total pod vol": 53187196.951753,
           "value": 41796810.586002,
           "variable": "pod listing vol"
          },
          {
           "pod listing vol": 41837183.204747,
           "pod order vol": 11422125.381525,
           "season": 8265,
           "timestamp": "2022-11-05T00:00:11",
           "total bean vol": 56102499.008111,
           "total pod vol": 53259308.586272,
           "value": 41837183.204747,
           "variable": "pod listing vol"
          },
          {
           "pod listing vol": 41837183.204747,
           "pod order vol": 11422125.381525,
           "season": 8265,
           "timestamp": "2022-11-05T00:00:11",
           "total bean vol": 56102499.008111,
           "total pod vol": 53259308.586272,
           "value": 11422125.381525,
           "variable": "pod order vol"
          },
          {
           "pod listing vol": 41837183.204747,
           "pod order vol": 11422125.381525,
           "season": 8265,
           "timestamp": "2022-11-05T00:00:11",
           "total bean vol": 56102499.008111,
           "total pod vol": 53259308.586272,
           "value": 56102499.008111,
           "variable": "total bean vol"
          },
          {
           "pod listing vol": 41837183.204747,
           "pod order vol": 11422125.381525,
           "season": 8265,
           "timestamp": "2022-11-05T00:00:11",
           "total bean vol": 56102499.008111,
           "total pod vol": 53259308.586272,
           "value": 53259308.586272,
           "variable": "total pod vol"
          },
          {
           "pod listing vol": 41855174.616369,
           "pod order vol": 11524708.702252,
           "season": 8289,
           "timestamp": "2022-11-06T00:00:11",
           "total bean vol": 56106635.633334,
           "total pod vol": 53379883.318621,
           "value": 41855174.616369,
           "variable": "pod listing vol"
          },
          {
           "pod listing vol": 41855174.616369,
           "pod order vol": 11524708.702252,
           "season": 8289,
           "timestamp": "2022-11-06T00:00:11",
           "total bean vol": 56106635.633334,
           "total pod vol": 53379883.318621,
           "value": 11524708.702252,
           "variable": "pod order vol"
          },
          {
           "pod listing vol": 41855174.616369,
           "pod order vol": 11524708.702252,
           "season": 8289,
           "timestamp": "2022-11-06T00:00:11",
           "total bean vol": 56106635.633334,
           "total pod vol": 53379883.318621,
           "value": 56106635.633334,
           "variable": "total bean vol"
          },
          {
           "pod listing vol": 41855174.616369,
           "pod order vol": 11524708.702252,
           "season": 8289,
           "timestamp": "2022-11-06T00:00:11",
           "total bean vol": 56106635.633334,
           "total pod vol": 53379883.318621,
           "value": 53379883.318621,
           "variable": "total pod vol"
          },
          {
           "pod listing vol": 41858033.62718,
           "pod order vol": 11570236.343444,
           "season": 8313,
           "timestamp": "2022-11-07T00:00:11",
           "total bean vol": 56111452.990082,
           "total pod vol": 53428269.970624,
           "value": 41858033.62718,
           "variable": "pod listing vol"
          },
          {
           "pod listing vol": 41858033.62718,
           "pod order vol": 11570236.343444,
           "season": 8313,
           "timestamp": "2022-11-07T00:00:11",
           "total bean vol": 56111452.990082,
           "total pod vol": 53428269.970624,
           "value": 11570236.343444,
           "variable": "pod order vol"
          },
          {
           "pod listing vol": 41858033.62718,
           "pod order vol": 11570236.343444,
           "season": 8313,
           "timestamp": "2022-11-07T00:00:11",
           "total bean vol": 56111452.990082,
           "total pod vol": 53428269.970624,
           "value": 56111452.990082,
           "variable": "total bean vol"
          },
          {
           "pod listing vol": 41858033.62718,
           "pod order vol": 11570236.343444,
           "season": 8313,
           "timestamp": "2022-11-07T00:00:11",
           "total bean vol": 56111452.990082,
           "total pod vol": 53428269.970624,
           "value": 53428269.970624,
           "variable": "total pod vol"
          },
          {
           "pod listing vol": 41858033.62718,
           "pod order vol": 11570236.343444,
           "season": 8337,
           "timestamp": "2022-11-08T00:00:11",
           "total bean vol": 56144268.445943,
           "total pod vol": 53428269.970624,
           "value": 53428269.970624,
           "variable": "total pod vol"
          },
          {
           "pod listing vol": 41858033.62718,
           "pod order vol": 11570236.343444,
           "season": 8337,
           "timestamp": "2022-11-08T00:00:11",
           "total bean vol": 56144268.445943,
           "total pod vol": 53428269.970624,
           "value": 56144268.445943,
           "variable": "total bean vol"
          },
          {
           "pod listing vol": 41858033.62718,
           "pod order vol": 11570236.343444,
           "season": 8337,
           "timestamp": "2022-11-08T00:00:11",
           "total bean vol": 56144268.445943,
           "total pod vol": 53428269.970624,
           "value": 11570236.343444,
           "variable": "pod order vol"
          },
          {
           "pod listing vol": 41858033.62718,
           "pod order vol": 11570236.343444,
           "season": 8337,
           "timestamp": "2022-11-08T00:00:11",
           "total bean vol": 56144268.445943,
           "total pod vol": 53428269.970624,
           "value": 41858033.62718,
           "variable": "pod listing vol"
          },
          {
           "pod listing vol": 41872339.402175,
           "pod order vol": 11570236.343444,
           "season": 8361,
           "timestamp": "2022-11-09T00:00:11",
           "total bean vol": 56223071.631575,
           "total pod vol": 53442575.745619,
           "value": 41872339.402175,
           "variable": "pod listing vol"
          },
          {
           "pod listing vol": 41872339.402175,
           "pod order vol": 11570236.343444,
           "season": 8361,
           "timestamp": "2022-11-09T00:00:11",
           "total bean vol": 56223071.631575,
           "total pod vol": 53442575.745619,
           "value": 11570236.343444,
           "variable": "pod order vol"
          },
          {
           "pod listing vol": 41872339.402175,
           "pod order vol": 11570236.343444,
           "season": 8361,
           "timestamp": "2022-11-09T00:00:11",
           "total bean vol": 56223071.631575,
           "total pod vol": 53442575.745619,
           "value": 56223071.631575,
           "variable": "total bean vol"
          },
          {
           "pod listing vol": 41872339.402175,
           "pod order vol": 11570236.343444,
           "season": 8361,
           "timestamp": "2022-11-09T00:00:11",
           "total bean vol": 56223071.631575,
           "total pod vol": 53442575.745619,
           "value": 53442575.745619,
           "variable": "total pod vol"
          },
          {
           "pod listing vol": 41872339.402175,
           "pod order vol": 11570236.343444,
           "season": 8385,
           "timestamp": "2022-11-10T00:00:11",
           "total bean vol": 56729290.942503,
           "total pod vol": 53442575.745619,
           "value": 41872339.402175,
           "variable": "pod listing vol"
          },
          {
           "pod listing vol": 41872339.402175,
           "pod order vol": 11570236.343444,
           "season": 8385,
           "timestamp": "2022-11-10T00:00:11",
           "total bean vol": 56729290.942503,
           "total pod vol": 53442575.745619,
           "value": 11570236.343444,
           "variable": "pod order vol"
          },
          {
           "pod listing vol": 41872339.402175,
           "pod order vol": 11570236.343444,
           "season": 8385,
           "timestamp": "2022-11-10T00:00:11",
           "total bean vol": 56729290.942503,
           "total pod vol": 53442575.745619,
           "value": 56729290.942503,
           "variable": "total bean vol"
          },
          {
           "pod listing vol": 41872339.402175,
           "pod order vol": 11570236.343444,
           "season": 8385,
           "timestamp": "2022-11-10T00:00:11",
           "total bean vol": 56729290.942503,
           "total pod vol": 53442575.745619,
           "value": 53442575.745619,
           "variable": "total pod vol"
          },
          {
           "pod listing vol": 41872339.402175,
           "pod order vol": 11570236.343444,
           "season": 8409,
           "timestamp": "2022-11-11T00:00:11",
           "total bean vol": 56874493.928118,
           "total pod vol": 53442575.745619,
           "value": 41872339.402175,
           "variable": "pod listing vol"
          },
          {
           "pod listing vol": 41872339.402175,
           "pod order vol": 11570236.343444,
           "season": 8409,
           "timestamp": "2022-11-11T00:00:11",
           "total bean vol": 56874493.928118,
           "total pod vol": 53442575.745619,
           "value": 11570236.343444,
           "variable": "pod order vol"
          },
          {
           "pod listing vol": 41872339.402175,
           "pod order vol": 11570236.343444,
           "season": 8409,
           "timestamp": "2022-11-11T00:00:11",
           "total bean vol": 56874493.928118,
           "total pod vol": 53442575.745619,
           "value": 56874493.928118,
           "variable": "total bean vol"
          },
          {
           "pod listing vol": 41872339.402175,
           "pod order vol": 11570236.343444,
           "season": 8409,
           "timestamp": "2022-11-11T00:00:11",
           "total bean vol": 56874493.928118,
           "total pod vol": 53442575.745619,
           "value": 53442575.745619,
           "variable": "total pod vol"
          },
          {
           "pod listing vol": 41872339.402175,
           "pod order vol": 11570236.343444,
           "season": 8433,
           "timestamp": "2022-11-12T00:00:11",
           "total bean vol": 56874493.928118,
           "total pod vol": 53442575.745619,
           "value": 53442575.745619,
           "variable": "total pod vol"
          },
          {
           "pod listing vol": 41872339.402175,
           "pod order vol": 11570236.343444,
           "season": 8433,
           "timestamp": "2022-11-12T00:00:11",
           "total bean vol": 56874493.928118,
           "total pod vol": 53442575.745619,
           "value": 56874493.928118,
           "variable": "total bean vol"
          },
          {
           "pod listing vol": 41872339.402175,
           "pod order vol": 11570236.343444,
           "season": 8433,
           "timestamp": "2022-11-12T00:00:11",
           "total bean vol": 56874493.928118,
           "total pod vol": 53442575.745619,
           "value": 41872339.402175,
           "variable": "pod listing vol"
          },
          {
           "pod listing vol": 41872339.402175,
           "pod order vol": 11570236.343444,
           "season": 8433,
           "timestamp": "2022-11-12T00:00:11",
           "total bean vol": 56874493.928118,
           "total pod vol": 53442575.745619,
           "value": 11570236.343444,
           "variable": "pod order vol"
          },
          {
           "pod listing vol": 41872339.402175,
           "pod order vol": 11570236.343444,
           "season": 8457,
           "timestamp": "2022-11-13T00:00:11",
           "total bean vol": 56874493.928118,
           "total pod vol": 53442575.745619,
           "value": 41872339.402175,
           "variable": "pod listing vol"
          },
          {
           "pod listing vol": 41872339.402175,
           "pod order vol": 11570236.343444,
           "season": 8457,
           "timestamp": "2022-11-13T00:00:11",
           "total bean vol": 56874493.928118,
           "total pod vol": 53442575.745619,
           "value": 11570236.343444,
           "variable": "pod order vol"
          },
          {
           "pod listing vol": 41872339.402175,
           "pod order vol": 11570236.343444,
           "season": 8457,
           "timestamp": "2022-11-13T00:00:11",
           "total bean vol": 56874493.928118,
           "total pod vol": 53442575.745619,
           "value": 56874493.928118,
           "variable": "total bean vol"
          },
          {
           "pod listing vol": 41872339.402175,
           "pod order vol": 11570236.343444,
           "season": 8457,
           "timestamp": "2022-11-13T00:00:11",
           "total bean vol": 56874493.928118,
           "total pod vol": 53442575.745619,
           "value": 53442575.745619,
           "variable": "total pod vol"
          },
          {
           "pod listing vol": 41876419.237715,
           "pod order vol": 11570236.343444,
           "season": 8481,
           "timestamp": "2022-11-14T00:00:11",
           "total bean vol": 56875309.895226,
           "total pod vol": 53446655.581159,
           "value": 41876419.237715,
           "variable": "pod listing vol"
          },
          {
           "pod listing vol": 41876419.237715,
           "pod order vol": 11570236.343444,
           "season": 8481,
           "timestamp": "2022-11-14T00:00:11",
           "total bean vol": 56875309.895226,
           "total pod vol": 53446655.581159,
           "value": 11570236.343444,
           "variable": "pod order vol"
          },
          {
           "pod listing vol": 41876419.237715,
           "pod order vol": 11570236.343444,
           "season": 8481,
           "timestamp": "2022-11-14T00:00:11",
           "total bean vol": 56875309.895226,
           "total pod vol": 53446655.581159,
           "value": 56875309.895226,
           "variable": "total bean vol"
          },
          {
           "pod listing vol": 41876419.237715,
           "pod order vol": 11570236.343444,
           "season": 8481,
           "timestamp": "2022-11-14T00:00:11",
           "total bean vol": 56875309.895226,
           "total pod vol": 53446655.581159,
           "value": 53446655.581159,
           "variable": "total pod vol"
          },
          {
           "pod listing vol": 41876419.237715,
           "pod order vol": 11570236.343444,
           "season": 8505,
           "timestamp": "2022-11-15T00:00:11",
           "total bean vol": 56875309.895226,
           "total pod vol": 53446655.581159,
           "value": 41876419.237715,
           "variable": "pod listing vol"
          },
          {
           "pod listing vol": 41876419.237715,
           "pod order vol": 11570236.343444,
           "season": 8505,
           "timestamp": "2022-11-15T00:00:11",
           "total bean vol": 56875309.895226,
           "total pod vol": 53446655.581159,
           "value": 11570236.343444,
           "variable": "pod order vol"
          },
          {
           "pod listing vol": 41876419.237715,
           "pod order vol": 11570236.343444,
           "season": 8505,
           "timestamp": "2022-11-15T00:00:11",
           "total bean vol": 56875309.895226,
           "total pod vol": 53446655.581159,
           "value": 56875309.895226,
           "variable": "total bean vol"
          },
          {
           "pod listing vol": 41876419.237715,
           "pod order vol": 11570236.343444,
           "season": 8505,
           "timestamp": "2022-11-15T00:00:11",
           "total bean vol": 56875309.895226,
           "total pod vol": 53446655.581159,
           "value": 53446655.581159,
           "variable": "total pod vol"
          },
          {
           "pod listing vol": 41876419.237715,
           "pod order vol": 11570236.343444,
           "season": 8529,
           "timestamp": "2022-11-16T00:00:11",
           "total bean vol": 56875309.895226,
           "total pod vol": 53446655.581159,
           "value": 53446655.581159,
           "variable": "total pod vol"
          },
          {
           "pod listing vol": 41876419.237715,
           "pod order vol": 11570236.343444,
           "season": 8529,
           "timestamp": "2022-11-16T00:00:11",
           "total bean vol": 56875309.895226,
           "total pod vol": 53446655.581159,
           "value": 11570236.343444,
           "variable": "pod order vol"
          },
          {
           "pod listing vol": 41876419.237715,
           "pod order vol": 11570236.343444,
           "season": 8529,
           "timestamp": "2022-11-16T00:00:11",
           "total bean vol": 56875309.895226,
           "total pod vol": 53446655.581159,
           "value": 41876419.237715,
           "variable": "pod listing vol"
          },
          {
           "pod listing vol": 41876419.237715,
           "pod order vol": 11570236.343444,
           "season": 8529,
           "timestamp": "2022-11-16T00:00:11",
           "total bean vol": 56875309.895226,
           "total pod vol": 53446655.581159,
           "value": 56875309.895226,
           "variable": "total bean vol"
          },
          {
           "pod listing vol": 41876419.237715,
           "pod order vol": 11570236.343444,
           "season": 8553,
           "timestamp": "2022-11-17T00:00:11",
           "total bean vol": 56887711.558932,
           "total pod vol": 53446655.581159,
           "value": 41876419.237715,
           "variable": "pod listing vol"
          },
          {
           "pod listing vol": 41876419.237715,
           "pod order vol": 11570236.343444,
           "season": 8553,
           "timestamp": "2022-11-17T00:00:11",
           "total bean vol": 56887711.558932,
           "total pod vol": 53446655.581159,
           "value": 11570236.343444,
           "variable": "pod order vol"
          },
          {
           "pod listing vol": 41876419.237715,
           "pod order vol": 11570236.343444,
           "season": 8553,
           "timestamp": "2022-11-17T00:00:11",
           "total bean vol": 56887711.558932,
           "total pod vol": 53446655.581159,
           "value": 56887711.558932,
           "variable": "total bean vol"
          },
          {
           "pod listing vol": 41876419.237715,
           "pod order vol": 11570236.343444,
           "season": 8553,
           "timestamp": "2022-11-17T00:00:11",
           "total bean vol": 56887711.558932,
           "total pod vol": 53446655.581159,
           "value": 53446655.581159,
           "variable": "total pod vol"
          },
          {
           "pod listing vol": 41886419.237715,
           "pod order vol": 11570236.343444,
           "season": 8577,
           "timestamp": "2022-11-18T00:00:11",
           "total bean vol": 56887961.558932,
           "total pod vol": 53456655.581159,
           "value": 41886419.237715,
           "variable": "pod listing vol"
          },
          {
           "pod listing vol": 41886419.237715,
           "pod order vol": 11570236.343444,
           "season": 8577,
           "timestamp": "2022-11-18T00:00:11",
           "total bean vol": 56887961.558932,
           "total pod vol": 53456655.581159,
           "value": 11570236.343444,
           "variable": "pod order vol"
          },
          {
           "pod listing vol": 41886419.237715,
           "pod order vol": 11570236.343444,
           "season": 8577,
           "timestamp": "2022-11-18T00:00:11",
           "total bean vol": 56887961.558932,
           "total pod vol": 53456655.581159,
           "value": 56887961.558932,
           "variable": "total bean vol"
          },
          {
           "pod listing vol": 41886419.237715,
           "pod order vol": 11570236.343444,
           "season": 8577,
           "timestamp": "2022-11-18T00:00:11",
           "total bean vol": 56887961.558932,
           "total pod vol": 53456655.581159,
           "value": 53456655.581159,
           "variable": "total pod vol"
          },
          {
           "pod listing vol": 41886419.237715,
           "pod order vol": 11570236.343444,
           "season": 8601,
           "timestamp": "2022-11-19T00:00:11",
           "total bean vol": 56907543.910193,
           "total pod vol": 53456655.581159,
           "value": 41886419.237715,
           "variable": "pod listing vol"
          },
          {
           "pod listing vol": 41886419.237715,
           "pod order vol": 11570236.343444,
           "season": 8601,
           "timestamp": "2022-11-19T00:00:11",
           "total bean vol": 56907543.910193,
           "total pod vol": 53456655.581159,
           "value": 11570236.343444,
           "variable": "pod order vol"
          },
          {
           "pod listing vol": 41886419.237715,
           "pod order vol": 11570236.343444,
           "season": 8601,
           "timestamp": "2022-11-19T00:00:11",
           "total bean vol": 56907543.910193,
           "total pod vol": 53456655.581159,
           "value": 56907543.910193,
           "variable": "total bean vol"
          },
          {
           "pod listing vol": 41886419.237715,
           "pod order vol": 11570236.343444,
           "season": 8601,
           "timestamp": "2022-11-19T00:00:11",
           "total bean vol": 56907543.910193,
           "total pod vol": 53456655.581159,
           "value": 53456655.581159,
           "variable": "total pod vol"
          },
          {
           "pod listing vol": 41886419.237715,
           "pod order vol": 11570236.343444,
           "season": 8625,
           "timestamp": "2022-11-20T00:00:11",
           "total bean vol": 57037344.794651,
           "total pod vol": 53456655.581159,
           "value": 53456655.581159,
           "variable": "total pod vol"
          },
          {
           "pod listing vol": 41886419.237715,
           "pod order vol": 11570236.343444,
           "season": 8625,
           "timestamp": "2022-11-20T00:00:11",
           "total bean vol": 57037344.794651,
           "total pod vol": 53456655.581159,
           "value": 57037344.794651,
           "variable": "total bean vol"
          },
          {
           "pod listing vol": 41886419.237715,
           "pod order vol": 11570236.343444,
           "season": 8625,
           "timestamp": "2022-11-20T00:00:11",
           "total bean vol": 57037344.794651,
           "total pod vol": 53456655.581159,
           "value": 41886419.237715,
           "variable": "pod listing vol"
          },
          {
           "pod listing vol": 41886419.237715,
           "pod order vol": 11570236.343444,
           "season": 8625,
           "timestamp": "2022-11-20T00:00:11",
           "total bean vol": 57037344.794651,
           "total pod vol": 53456655.581159,
           "value": 11570236.343444,
           "variable": "pod order vol"
          },
          {
           "pod listing vol": 41962554.237715,
           "pod order vol": 11570236.343444,
           "season": 8649,
           "timestamp": "2022-11-21T00:00:11",
           "total bean vol": 57038867.494651,
           "total pod vol": 53532790.581159,
           "value": 41962554.237715,
           "variable": "pod listing vol"
          },
          {
           "pod listing vol": 41962554.237715,
           "pod order vol": 11570236.343444,
           "season": 8649,
           "timestamp": "2022-11-21T00:00:11",
           "total bean vol": 57038867.494651,
           "total pod vol": 53532790.581159,
           "value": 11570236.343444,
           "variable": "pod order vol"
          },
          {
           "pod listing vol": 41962554.237715,
           "pod order vol": 11570236.343444,
           "season": 8649,
           "timestamp": "2022-11-21T00:00:11",
           "total bean vol": 57038867.494651,
           "total pod vol": 53532790.581159,
           "value": 57038867.494651,
           "variable": "total bean vol"
          },
          {
           "pod listing vol": 41962554.237715,
           "pod order vol": 11570236.343444,
           "season": 8649,
           "timestamp": "2022-11-21T00:00:11",
           "total bean vol": 57038867.494651,
           "total pod vol": 53532790.581159,
           "value": 53532790.581159,
           "variable": "total pod vol"
          },
          {
           "pod listing vol": 41962658.644455,
           "pod order vol": 11675155.636904,
           "season": 8673,
           "timestamp": "2022-11-22T00:00:11",
           "total bean vol": 57049385.525682,
           "total pod vol": 53637814.281359,
           "value": 41962658.644455,
           "variable": "pod listing vol"
          },
          {
           "pod listing vol": 41962658.644455,
           "pod order vol": 11675155.636904,
           "season": 8673,
           "timestamp": "2022-11-22T00:00:11",
           "total bean vol": 57049385.525682,
           "total pod vol": 53637814.281359,
           "value": 11675155.636904,
           "variable": "pod order vol"
          },
          {
           "pod listing vol": 41962658.644455,
           "pod order vol": 11675155.636904,
           "season": 8673,
           "timestamp": "2022-11-22T00:00:11",
           "total bean vol": 57049385.525682,
           "total pod vol": 53637814.281359,
           "value": 57049385.525682,
           "variable": "total bean vol"
          },
          {
           "pod listing vol": 41962658.644455,
           "pod order vol": 11675155.636904,
           "season": 8673,
           "timestamp": "2022-11-22T00:00:11",
           "total bean vol": 57049385.525682,
           "total pod vol": 53637814.281359,
           "value": 53637814.281359,
           "variable": "total pod vol"
          },
          {
           "pod listing vol": 41962773.648382,
           "pod order vol": 11675155.636904,
           "season": 8697,
           "timestamp": "2022-11-23T00:00:11",
           "total bean vol": 57049389.189465,
           "total pod vol": 53637929.285286,
           "value": 41962773.648382,
           "variable": "pod listing vol"
          },
          {
           "pod listing vol": 41962773.648382,
           "pod order vol": 11675155.636904,
           "season": 8697,
           "timestamp": "2022-11-23T00:00:11",
           "total bean vol": 57049389.189465,
           "total pod vol": 53637929.285286,
           "value": 11675155.636904,
           "variable": "pod order vol"
          },
          {
           "pod listing vol": 41962773.648382,
           "pod order vol": 11675155.636904,
           "season": 8697,
           "timestamp": "2022-11-23T00:00:11",
           "total bean vol": 57049389.189465,
           "total pod vol": 53637929.285286,
           "value": 57049389.189465,
           "variable": "total bean vol"
          },
          {
           "pod listing vol": 41962773.648382,
           "pod order vol": 11675155.636904,
           "season": 8697,
           "timestamp": "2022-11-23T00:00:11",
           "total bean vol": 57049389.189465,
           "total pod vol": 53637929.285286,
           "value": 53637929.285286,
           "variable": "total pod vol"
          },
          {
           "pod listing vol": 41962773.648382,
           "pod order vol": 11675155.636904,
           "season": 8721,
           "timestamp": "2022-11-24T00:00:11",
           "total bean vol": 57049389.189465,
           "total pod vol": 53637929.285286,
           "value": 57049389.189465,
           "variable": "total bean vol"
          },
          {
           "pod listing vol": 41962773.648382,
           "pod order vol": 11675155.636904,
           "season": 8721,
           "timestamp": "2022-11-24T00:00:11",
           "total bean vol": 57049389.189465,
           "total pod vol": 53637929.285286,
           "value": 53637929.285286,
           "variable": "total pod vol"
          },
          {
           "pod listing vol": 41962773.648382,
           "pod order vol": 11675155.636904,
           "season": 8721,
           "timestamp": "2022-11-24T00:00:11",
           "total bean vol": 57049389.189465,
           "total pod vol": 53637929.285286,
           "value": 11675155.636904,
           "variable": "pod order vol"
          },
          {
           "pod listing vol": 41962773.648382,
           "pod order vol": 11675155.636904,
           "season": 8721,
           "timestamp": "2022-11-24T00:00:11",
           "total bean vol": 57049389.189465,
           "total pod vol": 53637929.285286,
           "value": 41962773.648382,
           "variable": "pod listing vol"
          },
          {
           "pod listing vol": 41962773.648382,
           "pod order vol": 11675155.636904,
           "season": 8745,
           "timestamp": "2022-11-25T00:00:11",
           "total bean vol": 57049389.189465,
           "total pod vol": 53637929.285286,
           "value": 41962773.648382,
           "variable": "pod listing vol"
          },
          {
           "pod listing vol": 41962773.648382,
           "pod order vol": 11675155.636904,
           "season": 8745,
           "timestamp": "2022-11-25T00:00:11",
           "total bean vol": 57049389.189465,
           "total pod vol": 53637929.285286,
           "value": 11675155.636904,
           "variable": "pod order vol"
          },
          {
           "pod listing vol": 41962773.648382,
           "pod order vol": 11675155.636904,
           "season": 8745,
           "timestamp": "2022-11-25T00:00:11",
           "total bean vol": 57049389.189465,
           "total pod vol": 53637929.285286,
           "value": 57049389.189465,
           "variable": "total bean vol"
          },
          {
           "pod listing vol": 41962773.648382,
           "pod order vol": 11675155.636904,
           "season": 8745,
           "timestamp": "2022-11-25T00:00:11",
           "total bean vol": 57049389.189465,
           "total pod vol": 53637929.285286,
           "value": 53637929.285286,
           "variable": "total pod vol"
          },
          {
           "pod listing vol": 41962773.648382,
           "pod order vol": 11675155.636904,
           "season": 8769,
           "timestamp": "2022-11-26T00:00:11",
           "total bean vol": 57049389.189465,
           "total pod vol": 53637929.285286,
           "value": 41962773.648382,
           "variable": "pod listing vol"
          },
          {
           "pod listing vol": 41962773.648382,
           "pod order vol": 11675155.636904,
           "season": 8769,
           "timestamp": "2022-11-26T00:00:11",
           "total bean vol": 57049389.189465,
           "total pod vol": 53637929.285286,
           "value": 11675155.636904,
           "variable": "pod order vol"
          },
          {
           "pod listing vol": 41962773.648382,
           "pod order vol": 11675155.636904,
           "season": 8769,
           "timestamp": "2022-11-26T00:00:11",
           "total bean vol": 57049389.189465,
           "total pod vol": 53637929.285286,
           "value": 57049389.189465,
           "variable": "total bean vol"
          },
          {
           "pod listing vol": 41962773.648382,
           "pod order vol": 11675155.636904,
           "season": 8769,
           "timestamp": "2022-11-26T00:00:11",
           "total bean vol": 57049389.189465,
           "total pod vol": 53637929.285286,
           "value": 53637929.285286,
           "variable": "total pod vol"
          },
          {
           "pod listing vol": 41962773.648382,
           "pod order vol": 11675155.636904,
           "season": 8793,
           "timestamp": "2022-11-27T00:00:11",
           "total bean vol": 57049389.189465,
           "total pod vol": 53637929.285286,
           "value": 53637929.285286,
           "variable": "total pod vol"
          },
          {
           "pod listing vol": 41962773.648382,
           "pod order vol": 11675155.636904,
           "season": 8793,
           "timestamp": "2022-11-27T00:00:11",
           "total bean vol": 57049389.189465,
           "total pod vol": 53637929.285286,
           "value": 57049389.189465,
           "variable": "total bean vol"
          },
          {
           "pod listing vol": 41962773.648382,
           "pod order vol": 11675155.636904,
           "season": 8793,
           "timestamp": "2022-11-27T00:00:11",
           "total bean vol": 57049389.189465,
           "total pod vol": 53637929.285286,
           "value": 11675155.636904,
           "variable": "pod order vol"
          },
          {
           "pod listing vol": 41962773.648382,
           "pod order vol": 11675155.636904,
           "season": 8793,
           "timestamp": "2022-11-27T00:00:11",
           "total bean vol": 57049389.189465,
           "total pod vol": 53637929.285286,
           "value": 41962773.648382,
           "variable": "pod listing vol"
          },
          {
           "pod listing vol": 41962773.648382,
           "pod order vol": 11675155.636904,
           "season": 8817,
           "timestamp": "2022-11-28T00:00:11",
           "total bean vol": 57049389.189465,
           "total pod vol": 53637929.285286,
           "value": 41962773.648382,
           "variable": "pod listing vol"
          },
          {
           "pod listing vol": 41962773.648382,
           "pod order vol": 11675155.636904,
           "season": 8817,
           "timestamp": "2022-11-28T00:00:11",
           "total bean vol": 57049389.189465,
           "total pod vol": 53637929.285286,
           "value": 11675155.636904,
           "variable": "pod order vol"
          },
          {
           "pod listing vol": 41962773.648382,
           "pod order vol": 11675155.636904,
           "season": 8817,
           "timestamp": "2022-11-28T00:00:11",
           "total bean vol": 57049389.189465,
           "total pod vol": 53637929.285286,
           "value": 57049389.189465,
           "variable": "total bean vol"
          },
          {
           "pod listing vol": 41962773.648382,
           "pod order vol": 11675155.636904,
           "season": 8817,
           "timestamp": "2022-11-28T00:00:11",
           "total bean vol": 57049389.189465,
           "total pod vol": 53637929.285286,
           "value": 53637929.285286,
           "variable": "total pod vol"
          },
          {
           "pod listing vol": 41962773.648382,
           "pod order vol": 11675155.636904,
           "season": 8841,
           "timestamp": "2022-11-29T00:00:11",
           "total bean vol": 57049389.189465,
           "total pod vol": 53637929.285286,
           "value": 41962773.648382,
           "variable": "pod listing vol"
          },
          {
           "pod listing vol": 41962773.648382,
           "pod order vol": 11675155.636904,
           "season": 8841,
           "timestamp": "2022-11-29T00:00:11",
           "total bean vol": 57049389.189465,
           "total pod vol": 53637929.285286,
           "value": 11675155.636904,
           "variable": "pod order vol"
          },
          {
           "pod listing vol": 41962773.648382,
           "pod order vol": 11675155.636904,
           "season": 8841,
           "timestamp": "2022-11-29T00:00:11",
           "total bean vol": 57049389.189465,
           "total pod vol": 53637929.285286,
           "value": 57049389.189465,
           "variable": "total bean vol"
          },
          {
           "pod listing vol": 41962773.648382,
           "pod order vol": 11675155.636904,
           "season": 8841,
           "timestamp": "2022-11-29T00:00:11",
           "total bean vol": 57049389.189465,
           "total pod vol": 53637929.285286,
           "value": 53637929.285286,
           "variable": "total pod vol"
          },
          {
           "pod listing vol": 41962773.648382,
           "pod order vol": 11675155.636904,
           "season": 8865,
           "timestamp": "2022-11-30T00:00:11",
           "total bean vol": 57076508.005578,
           "total pod vol": 53637929.285286,
           "value": 57076508.005578,
           "variable": "total bean vol"
          },
          {
           "pod listing vol": 41962773.648382,
           "pod order vol": 11675155.636904,
           "season": 8865,
           "timestamp": "2022-11-30T00:00:11",
           "total bean vol": 57076508.005578,
           "total pod vol": 53637929.285286,
           "value": 53637929.285286,
           "variable": "total pod vol"
          },
          {
           "pod listing vol": 41962773.648382,
           "pod order vol": 11675155.636904,
           "season": 8865,
           "timestamp": "2022-11-30T00:00:11",
           "total bean vol": 57076508.005578,
           "total pod vol": 53637929.285286,
           "value": 41962773.648382,
           "variable": "pod listing vol"
          },
          {
           "pod listing vol": 41962773.648382,
           "pod order vol": 11675155.636904,
           "season": 8865,
           "timestamp": "2022-11-30T00:00:11",
           "total bean vol": 57076508.005578,
           "total pod vol": 53637929.285286,
           "value": 11675155.636904,
           "variable": "pod order vol"
          },
          {
           "pod listing vol": 41965273.650882,
           "pod order vol": 11675155.636904,
           "season": 8889,
           "timestamp": "2022-12-01T00:00:23",
           "total bean vol": 57077008.006078,
           "total pod vol": 53640429.287786,
           "value": 11675155.636904,
           "variable": "pod order vol"
          },
          {
           "pod listing vol": 41965273.650882,
           "pod order vol": 11675155.636904,
           "season": 8889,
           "timestamp": "2022-12-01T00:00:23",
           "total bean vol": 57077008.006078,
           "total pod vol": 53640429.287786,
           "value": 57077008.006078,
           "variable": "total bean vol"
          },
          {
           "pod listing vol": 41965273.650882,
           "pod order vol": 11675155.636904,
           "season": 8889,
           "timestamp": "2022-12-01T00:00:23",
           "total bean vol": 57077008.006078,
           "total pod vol": 53640429.287786,
           "value": 41965273.650882,
           "variable": "pod listing vol"
          },
          {
           "pod listing vol": 41965273.650882,
           "pod order vol": 11675155.636904,
           "season": 8889,
           "timestamp": "2022-12-01T00:00:23",
           "total bean vol": 57077008.006078,
           "total pod vol": 53640429.287786,
           "value": 53640429.287786,
           "variable": "total pod vol"
          },
          {
           "pod listing vol": 41975273.650882,
           "pod order vol": 11675155.636904,
           "season": 8913,
           "timestamp": "2022-12-02T00:00:11",
           "total bean vol": 57077008.106078,
           "total pod vol": 53650429.287786,
           "value": 53650429.287786,
           "variable": "total pod vol"
          },
          {
           "pod listing vol": 41975273.650882,
           "pod order vol": 11675155.636904,
           "season": 8913,
           "timestamp": "2022-12-02T00:00:11",
           "total bean vol": 57077008.106078,
           "total pod vol": 53650429.287786,
           "value": 57077008.106078,
           "variable": "total bean vol"
          },
          {
           "pod listing vol": 41975273.650882,
           "pod order vol": 11675155.636904,
           "season": 8913,
           "timestamp": "2022-12-02T00:00:11",
           "total bean vol": 57077008.106078,
           "total pod vol": 53650429.287786,
           "value": 11675155.636904,
           "variable": "pod order vol"
          },
          {
           "pod listing vol": 41975273.650882,
           "pod order vol": 11675155.636904,
           "season": 8913,
           "timestamp": "2022-12-02T00:00:11",
           "total bean vol": 57077008.106078,
           "total pod vol": 53650429.287786,
           "value": 41975273.650882,
           "variable": "pod listing vol"
          },
          {
           "pod listing vol": 41980829.206437,
           "pod order vol": 11675155.636904,
           "season": 8937,
           "timestamp": "2022-12-03T00:00:11",
           "total bean vol": 57077258.106078,
           "total pod vol": 53655984.843341,
           "value": 41980829.206437,
           "variable": "pod listing vol"
          },
          {
           "pod listing vol": 41980829.206437,
           "pod order vol": 11675155.636904,
           "season": 8937,
           "timestamp": "2022-12-03T00:00:11",
           "total bean vol": 57077258.106078,
           "total pod vol": 53655984.843341,
           "value": 11675155.636904,
           "variable": "pod order vol"
          },
          {
           "pod listing vol": 41980829.206437,
           "pod order vol": 11675155.636904,
           "season": 8937,
           "timestamp": "2022-12-03T00:00:11",
           "total bean vol": 57077258.106078,
           "total pod vol": 53655984.843341,
           "value": 57077258.106078,
           "variable": "total bean vol"
          },
          {
           "pod listing vol": 41980829.206437,
           "pod order vol": 11675155.636904,
           "season": 8937,
           "timestamp": "2022-12-03T00:00:11",
           "total bean vol": 57077258.106078,
           "total pod vol": 53655984.843341,
           "value": 53655984.843341,
           "variable": "total pod vol"
          },
          {
           "pod listing vol": 41980829.206437,
           "pod order vol": 11675155.636904,
           "season": 8961,
           "timestamp": "2022-12-04T00:00:11",
           "total bean vol": 57077258.106078,
           "total pod vol": 53655984.843341,
           "value": 41980829.206437,
           "variable": "pod listing vol"
          },
          {
           "pod listing vol": 41980829.206437,
           "pod order vol": 11675155.636904,
           "season": 8961,
           "timestamp": "2022-12-04T00:00:11",
           "total bean vol": 57077258.106078,
           "total pod vol": 53655984.843341,
           "value": 11675155.636904,
           "variable": "pod order vol"
          },
          {
           "pod listing vol": 41980829.206437,
           "pod order vol": 11675155.636904,
           "season": 8961,
           "timestamp": "2022-12-04T00:00:11",
           "total bean vol": 57077258.106078,
           "total pod vol": 53655984.843341,
           "value": 57077258.106078,
           "variable": "total bean vol"
          },
          {
           "pod listing vol": 41980829.206437,
           "pod order vol": 11675155.636904,
           "season": 8961,
           "timestamp": "2022-12-04T00:00:11",
           "total bean vol": 57077258.106078,
           "total pod vol": 53655984.843341,
           "value": 53655984.843341,
           "variable": "total pod vol"
          },
          {
           "pod listing vol": 41980829.206437,
           "pod order vol": 11675155.636904,
           "season": 8985,
           "timestamp": "2022-12-05T00:00:11",
           "total bean vol": 57077258.106078,
           "total pod vol": 53655984.843341,
           "value": 41980829.206437,
           "variable": "pod listing vol"
          },
          {
           "pod listing vol": 41980829.206437,
           "pod order vol": 11675155.636904,
           "season": 8985,
           "timestamp": "2022-12-05T00:00:11",
           "total bean vol": 57077258.106078,
           "total pod vol": 53655984.843341,
           "value": 11675155.636904,
           "variable": "pod order vol"
          },
          {
           "pod listing vol": 41980829.206437,
           "pod order vol": 11675155.636904,
           "season": 8985,
           "timestamp": "2022-12-05T00:00:11",
           "total bean vol": 57077258.106078,
           "total pod vol": 53655984.843341,
           "value": 57077258.106078,
           "variable": "total bean vol"
          },
          {
           "pod listing vol": 41980829.206437,
           "pod order vol": 11675155.636904,
           "season": 8985,
           "timestamp": "2022-12-05T00:00:11",
           "total bean vol": 57077258.106078,
           "total pod vol": 53655984.843341,
           "value": 53655984.843341,
           "variable": "total pod vol"
          },
          {
           "pod listing vol": 41980829.206437,
           "pod order vol": 11675155.636904,
           "season": 9009,
           "timestamp": "2022-12-06T00:00:11",
           "total bean vol": 57077258.106078,
           "total pod vol": 53655984.843341,
           "value": 53655984.843341,
           "variable": "total pod vol"
          },
          {
           "pod listing vol": 41980829.206437,
           "pod order vol": 11675155.636904,
           "season": 9009,
           "timestamp": "2022-12-06T00:00:11",
           "total bean vol": 57077258.106078,
           "total pod vol": 53655984.843341,
           "value": 57077258.106078,
           "variable": "total bean vol"
          },
          {
           "pod listing vol": 41980829.206437,
           "pod order vol": 11675155.636904,
           "season": 9009,
           "timestamp": "2022-12-06T00:00:11",
           "total bean vol": 57077258.106078,
           "total pod vol": 53655984.843341,
           "value": 41980829.206437,
           "variable": "pod listing vol"
          },
          {
           "pod listing vol": 41980829.206437,
           "pod order vol": 11675155.636904,
           "season": 9009,
           "timestamp": "2022-12-06T00:00:11",
           "total bean vol": 57077258.106078,
           "total pod vol": 53655984.843341,
           "value": 11675155.636904,
           "variable": "pod order vol"
          },
          {
           "pod listing vol": 41980829.206437,
           "pod order vol": 11675155.636904,
           "season": 9033,
           "timestamp": "2022-12-07T00:00:23",
           "total bean vol": 57077258.106078,
           "total pod vol": 53655984.843341,
           "value": 41980829.206437,
           "variable": "pod listing vol"
          },
          {
           "pod listing vol": 41980829.206437,
           "pod order vol": 11675155.636904,
           "season": 9033,
           "timestamp": "2022-12-07T00:00:23",
           "total bean vol": 57077258.106078,
           "total pod vol": 53655984.843341,
           "value": 11675155.636904,
           "variable": "pod order vol"
          },
          {
           "pod listing vol": 41980829.206437,
           "pod order vol": 11675155.636904,
           "season": 9033,
           "timestamp": "2022-12-07T00:00:23",
           "total bean vol": 57077258.106078,
           "total pod vol": 53655984.843341,
           "value": 57077258.106078,
           "variable": "total bean vol"
          },
          {
           "pod listing vol": 41980829.206437,
           "pod order vol": 11675155.636904,
           "season": 9033,
           "timestamp": "2022-12-07T00:00:23",
           "total bean vol": 57077258.106078,
           "total pod vol": 53655984.843341,
           "value": 53655984.843341,
           "variable": "total pod vol"
          },
          {
           "pod listing vol": 41980829.206437,
           "pod order vol": 11675155.636904,
           "season": 9057,
           "timestamp": "2022-12-08T00:00:23",
           "total bean vol": 57084264.810449,
           "total pod vol": 53655984.843341,
           "value": 41980829.206437,
           "variable": "pod listing vol"
          },
          {
           "pod listing vol": 41980829.206437,
           "pod order vol": 11675155.636904,
           "season": 9057,
           "timestamp": "2022-12-08T00:00:23",
           "total bean vol": 57084264.810449,
           "total pod vol": 53655984.843341,
           "value": 11675155.636904,
           "variable": "pod order vol"
          },
          {
           "pod listing vol": 41980829.206437,
           "pod order vol": 11675155.636904,
           "season": 9057,
           "timestamp": "2022-12-08T00:00:23",
           "total bean vol": 57084264.810449,
           "total pod vol": 53655984.843341,
           "value": 57084264.810449,
           "variable": "total bean vol"
          },
          {
           "pod listing vol": 41980829.206437,
           "pod order vol": 11675155.636904,
           "season": 9057,
           "timestamp": "2022-12-08T00:00:23",
           "total bean vol": 57084264.810449,
           "total pod vol": 53655984.843341,
           "value": 53655984.843341,
           "variable": "total pod vol"
          },
          {
           "pod listing vol": 41980829.206437,
           "pod order vol": 11675155.636904,
           "season": 9081,
           "timestamp": "2022-12-09T00:00:11",
           "total bean vol": 57084264.810449,
           "total pod vol": 53655984.843341,
           "value": 41980829.206437,
           "variable": "pod listing vol"
          },
          {
           "pod listing vol": 41980829.206437,
           "pod order vol": 11675155.636904,
           "season": 9081,
           "timestamp": "2022-12-09T00:00:11",
           "total bean vol": 57084264.810449,
           "total pod vol": 53655984.843341,
           "value": 11675155.636904,
           "variable": "pod order vol"
          },
          {
           "pod listing vol": 41980829.206437,
           "pod order vol": 11675155.636904,
           "season": 9081,
           "timestamp": "2022-12-09T00:00:11",
           "total bean vol": 57084264.810449,
           "total pod vol": 53655984.843341,
           "value": 57084264.810449,
           "variable": "total bean vol"
          },
          {
           "pod listing vol": 41980829.206437,
           "pod order vol": 11675155.636904,
           "season": 9081,
           "timestamp": "2022-12-09T00:00:11",
           "total bean vol": 57084264.810449,
           "total pod vol": 53655984.843341,
           "value": 53655984.843341,
           "variable": "total pod vol"
          },
          {
           "pod listing vol": 41980829.206437,
           "pod order vol": 11675155.636904,
           "season": 9105,
           "timestamp": "2022-12-10T00:00:11",
           "total bean vol": 57084264.810449,
           "total pod vol": 53655984.843341,
           "value": 53655984.843341,
           "variable": "total pod vol"
          },
          {
           "pod listing vol": 41980829.206437,
           "pod order vol": 11675155.636904,
           "season": 9105,
           "timestamp": "2022-12-10T00:00:11",
           "total bean vol": 57084264.810449,
           "total pod vol": 53655984.843341,
           "value": 57084264.810449,
           "variable": "total bean vol"
          },
          {
           "pod listing vol": 41980829.206437,
           "pod order vol": 11675155.636904,
           "season": 9105,
           "timestamp": "2022-12-10T00:00:11",
           "total bean vol": 57084264.810449,
           "total pod vol": 53655984.843341,
           "value": 11675155.636904,
           "variable": "pod order vol"
          },
          {
           "pod listing vol": 41980829.206437,
           "pod order vol": 11675155.636904,
           "season": 9105,
           "timestamp": "2022-12-10T00:00:11",
           "total bean vol": 57084264.810449,
           "total pod vol": 53655984.843341,
           "value": 41980829.206437,
           "variable": "pod listing vol"
          },
          {
           "pod listing vol": 41980829.206437,
           "pod order vol": 11675155.636904,
           "season": 9129,
           "timestamp": "2022-12-11T00:00:11",
           "total bean vol": 57091801.275301,
           "total pod vol": 53655984.843341,
           "value": 41980829.206437,
           "variable": "pod listing vol"
          },
          {
           "pod listing vol": 41980829.206437,
           "pod order vol": 11675155.636904,
           "season": 9129,
           "timestamp": "2022-12-11T00:00:11",
           "total bean vol": 57091801.275301,
           "total pod vol": 53655984.843341,
           "value": 11675155.636904,
           "variable": "pod order vol"
          },
          {
           "pod listing vol": 41980829.206437,
           "pod order vol": 11675155.636904,
           "season": 9129,
           "timestamp": "2022-12-11T00:00:11",
           "total bean vol": 57091801.275301,
           "total pod vol": 53655984.843341,
           "value": 57091801.275301,
           "variable": "total bean vol"
          },
          {
           "pod listing vol": 41980829.206437,
           "pod order vol": 11675155.636904,
           "season": 9129,
           "timestamp": "2022-12-11T00:00:11",
           "total bean vol": 57091801.275301,
           "total pod vol": 53655984.843341,
           "value": 53655984.843341,
           "variable": "total pod vol"
          },
          {
           "pod listing vol": 41980829.206437,
           "pod order vol": 11675155.636904,
           "season": 9153,
           "timestamp": "2022-12-12T00:00:11",
           "total bean vol": 57091801.275301,
           "total pod vol": 53655984.843341,
           "value": 41980829.206437,
           "variable": "pod listing vol"
          },
          {
           "pod listing vol": 41980829.206437,
           "pod order vol": 11675155.636904,
           "season": 9153,
           "timestamp": "2022-12-12T00:00:11",
           "total bean vol": 57091801.275301,
           "total pod vol": 53655984.843341,
           "value": 11675155.636904,
           "variable": "pod order vol"
          },
          {
           "pod listing vol": 41980829.206437,
           "pod order vol": 11675155.636904,
           "season": 9153,
           "timestamp": "2022-12-12T00:00:11",
           "total bean vol": 57091801.275301,
           "total pod vol": 53655984.843341,
           "value": 57091801.275301,
           "variable": "total bean vol"
          },
          {
           "pod listing vol": 41980829.206437,
           "pod order vol": 11675155.636904,
           "season": 9153,
           "timestamp": "2022-12-12T00:00:11",
           "total bean vol": 57091801.275301,
           "total pod vol": 53655984.843341,
           "value": 53655984.843341,
           "variable": "total pod vol"
          },
          {
           "pod listing vol": 41980829.206437,
           "pod order vol": 11675155.636904,
           "season": 9177,
           "timestamp": "2022-12-13T00:00:11",
           "total bean vol": 57091801.275301,
           "total pod vol": 53655984.843341,
           "value": 41980829.206437,
           "variable": "pod listing vol"
          },
          {
           "pod listing vol": 41980829.206437,
           "pod order vol": 11675155.636904,
           "season": 9177,
           "timestamp": "2022-12-13T00:00:11",
           "total bean vol": 57091801.275301,
           "total pod vol": 53655984.843341,
           "value": 11675155.636904,
           "variable": "pod order vol"
          },
          {
           "pod listing vol": 41980829.206437,
           "pod order vol": 11675155.636904,
           "season": 9177,
           "timestamp": "2022-12-13T00:00:11",
           "total bean vol": 57091801.275301,
           "total pod vol": 53655984.843341,
           "value": 57091801.275301,
           "variable": "total bean vol"
          },
          {
           "pod listing vol": 41980829.206437,
           "pod order vol": 11675155.636904,
           "season": 9177,
           "timestamp": "2022-12-13T00:00:11",
           "total bean vol": 57091801.275301,
           "total pod vol": 53655984.843341,
           "value": 53655984.843341,
           "variable": "total pod vol"
          },
          {
           "pod listing vol": 41980829.206437,
           "pod order vol": 11675155.636904,
           "season": 9201,
           "timestamp": "2022-12-14T00:00:11",
           "total bean vol": 57091801.275301,
           "total pod vol": 53655984.843341,
           "value": 53655984.843341,
           "variable": "total pod vol"
          },
          {
           "pod listing vol": 41980829.206437,
           "pod order vol": 11675155.636904,
           "season": 9201,
           "timestamp": "2022-12-14T00:00:11",
           "total bean vol": 57091801.275301,
           "total pod vol": 53655984.843341,
           "value": 57091801.275301,
           "variable": "total bean vol"
          },
          {
           "pod listing vol": 41980829.206437,
           "pod order vol": 11675155.636904,
           "season": 9201,
           "timestamp": "2022-12-14T00:00:11",
           "total bean vol": 57091801.275301,
           "total pod vol": 53655984.843341,
           "value": 11675155.636904,
           "variable": "pod order vol"
          },
          {
           "pod listing vol": 41980829.206437,
           "pod order vol": 11675155.636904,
           "season": 9201,
           "timestamp": "2022-12-14T00:00:11",
           "total bean vol": 57091801.275301,
           "total pod vol": 53655984.843341,
           "value": 41980829.206437,
           "variable": "pod listing vol"
          },
          {
           "pod listing vol": 41980829.206437,
           "pod order vol": 11675155.636904,
           "season": 9225,
           "timestamp": "2022-12-15T00:00:23",
           "total bean vol": 57091801.275301,
           "total pod vol": 53655984.843341,
           "value": 41980829.206437,
           "variable": "pod listing vol"
          },
          {
           "pod listing vol": 41980829.206437,
           "pod order vol": 11675155.636904,
           "season": 9225,
           "timestamp": "2022-12-15T00:00:23",
           "total bean vol": 57091801.275301,
           "total pod vol": 53655984.843341,
           "value": 11675155.636904,
           "variable": "pod order vol"
          },
          {
           "pod listing vol": 41980829.206437,
           "pod order vol": 11675155.636904,
           "season": 9225,
           "timestamp": "2022-12-15T00:00:23",
           "total bean vol": 57091801.275301,
           "total pod vol": 53655984.843341,
           "value": 57091801.275301,
           "variable": "total bean vol"
          },
          {
           "pod listing vol": 41980829.206437,
           "pod order vol": 11675155.636904,
           "season": 9225,
           "timestamp": "2022-12-15T00:00:23",
           "total bean vol": 57091801.275301,
           "total pod vol": 53655984.843341,
           "value": 53655984.843341,
           "variable": "total pod vol"
          },
          {
           "pod listing vol": 41980829.206437,
           "pod order vol": 11675155.636904,
           "season": 9249,
           "timestamp": "2022-12-16T00:00:11",
           "total bean vol": 57767376.478081,
           "total pod vol": 53655984.843341,
           "value": 41980829.206437,
           "variable": "pod listing vol"
          },
          {
           "pod listing vol": 41980829.206437,
           "pod order vol": 11675155.636904,
           "season": 9249,
           "timestamp": "2022-12-16T00:00:11",
           "total bean vol": 57767376.478081,
           "total pod vol": 53655984.843341,
           "value": 11675155.636904,
           "variable": "pod order vol"
          },
          {
           "pod listing vol": 41980829.206437,
           "pod order vol": 11675155.636904,
           "season": 9249,
           "timestamp": "2022-12-16T00:00:11",
           "total bean vol": 57767376.478081,
           "total pod vol": 53655984.843341,
           "value": 57767376.478081,
           "variable": "total bean vol"
          },
          {
           "pod listing vol": 41980829.206437,
           "pod order vol": 11675155.636904,
           "season": 9249,
           "timestamp": "2022-12-16T00:00:11",
           "total bean vol": 57767376.478081,
           "total pod vol": 53655984.843341,
           "value": 53655984.843341,
           "variable": "total pod vol"
          },
          {
           "pod listing vol": 42743595.873103,
           "pod order vol": 11675155.636904,
           "season": 9273,
           "timestamp": "2022-12-17T00:00:11",
           "total bean vol": 57769664.778081,
           "total pod vol": 54418751.510007,
           "value": 42743595.873103,
           "variable": "pod listing vol"
          },
          {
           "pod listing vol": 42743595.873103,
           "pod order vol": 11675155.636904,
           "season": 9273,
           "timestamp": "2022-12-17T00:00:11",
           "total bean vol": 57769664.778081,
           "total pod vol": 54418751.510007,
           "value": 11675155.636904,
           "variable": "pod order vol"
          },
          {
           "pod listing vol": 42743595.873103,
           "pod order vol": 11675155.636904,
           "season": 9273,
           "timestamp": "2022-12-17T00:00:11",
           "total bean vol": 57769664.778081,
           "total pod vol": 54418751.510007,
           "value": 57769664.778081,
           "variable": "total bean vol"
          },
          {
           "pod listing vol": 42743595.873103,
           "pod order vol": 11675155.636904,
           "season": 9273,
           "timestamp": "2022-12-17T00:00:11",
           "total bean vol": 57769664.778081,
           "total pod vol": 54418751.510007,
           "value": 54418751.510007,
           "variable": "total pod vol"
          },
          {
           "pod listing vol": 42743595.873103,
           "pod order vol": 11675155.636904,
           "season": 9297,
           "timestamp": "2022-12-18T00:00:11",
           "total bean vol": 58269664.778081,
           "total pod vol": 54418751.510007,
           "value": 54418751.510007,
           "variable": "total pod vol"
          },
          {
           "pod listing vol": 42743595.873103,
           "pod order vol": 11675155.636904,
           "season": 9297,
           "timestamp": "2022-12-18T00:00:11",
           "total bean vol": 58269664.778081,
           "total pod vol": 54418751.510007,
           "value": 58269664.778081,
           "variable": "total bean vol"
          },
          {
           "pod listing vol": 42743595.873103,
           "pod order vol": 11675155.636904,
           "season": 9297,
           "timestamp": "2022-12-18T00:00:11",
           "total bean vol": 58269664.778081,
           "total pod vol": 54418751.510007,
           "value": 11675155.636904,
           "variable": "pod order vol"
          },
          {
           "pod listing vol": 42743595.873103,
           "pod order vol": 11675155.636904,
           "season": 9297,
           "timestamp": "2022-12-18T00:00:11",
           "total bean vol": 58269664.778081,
           "total pod vol": 54418751.510007,
           "value": 42743595.873103,
           "variable": "pod listing vol"
          },
          {
           "pod listing vol": 43832395.873103,
           "pod order vol": 11675155.636904,
           "season": 9321,
           "timestamp": "2022-12-19T00:00:11",
           "total bean vol": 58292161.242933,
           "total pod vol": 55507551.510007,
           "value": 43832395.873103,
           "variable": "pod listing vol"
          },
          {
           "pod listing vol": 43832395.873103,
           "pod order vol": 11675155.636904,
           "season": 9321,
           "timestamp": "2022-12-19T00:00:11",
           "total bean vol": 58292161.242933,
           "total pod vol": 55507551.510007,
           "value": 11675155.636904,
           "variable": "pod order vol"
          },
          {
           "pod listing vol": 43832395.873103,
           "pod order vol": 11675155.636904,
           "season": 9321,
           "timestamp": "2022-12-19T00:00:11",
           "total bean vol": 58292161.242933,
           "total pod vol": 55507551.510007,
           "value": 58292161.242933,
           "variable": "total bean vol"
          },
          {
           "pod listing vol": 43832395.873103,
           "pod order vol": 11675155.636904,
           "season": 9321,
           "timestamp": "2022-12-19T00:00:11",
           "total bean vol": 58292161.242933,
           "total pod vol": 55507551.510007,
           "value": 55507551.510007,
           "variable": "total pod vol"
          },
          {
           "pod listing vol": 43832395.873103,
           "pod order vol": 11675155.636904,
           "season": 9345,
           "timestamp": "2022-12-20T00:00:11",
           "total bean vol": 58452033.242933,
           "total pod vol": 55507551.510007,
           "value": 43832395.873103,
           "variable": "pod listing vol"
          },
          {
           "pod listing vol": 43832395.873103,
           "pod order vol": 11675155.636904,
           "season": 9345,
           "timestamp": "2022-12-20T00:00:11",
           "total bean vol": 58452033.242933,
           "total pod vol": 55507551.510007,
           "value": 11675155.636904,
           "variable": "pod order vol"
          },
          {
           "pod listing vol": 43832395.873103,
           "pod order vol": 11675155.636904,
           "season": 9345,
           "timestamp": "2022-12-20T00:00:11",
           "total bean vol": 58452033.242933,
           "total pod vol": 55507551.510007,
           "value": 58452033.242933,
           "variable": "total bean vol"
          },
          {
           "pod listing vol": 43832395.873103,
           "pod order vol": 11675155.636904,
           "season": 9345,
           "timestamp": "2022-12-20T00:00:11",
           "total bean vol": 58452033.242933,
           "total pod vol": 55507551.510007,
           "value": 55507551.510007,
           "variable": "total pod vol"
          },
          {
           "pod listing vol": 43832400.847918,
           "pod order vol": 11675155.636904,
           "season": 9369,
           "timestamp": "2022-12-21T00:00:11",
           "total bean vol": 58452034.237896,
           "total pod vol": 55507556.484822,
           "value": 43832400.847918,
           "variable": "pod listing vol"
          },
          {
           "pod listing vol": 43832400.847918,
           "pod order vol": 11675155.636904,
           "season": 9369,
           "timestamp": "2022-12-21T00:00:11",
           "total bean vol": 58452034.237896,
           "total pod vol": 55507556.484822,
           "value": 11675155.636904,
           "variable": "pod order vol"
          },
          {
           "pod listing vol": 43832400.847918,
           "pod order vol": 11675155.636904,
           "season": 9369,
           "timestamp": "2022-12-21T00:00:11",
           "total bean vol": 58452034.237896,
           "total pod vol": 55507556.484822,
           "value": 58452034.237896,
           "variable": "total bean vol"
          },
          {
           "pod listing vol": 43832400.847918,
           "pod order vol": 11675155.636904,
           "season": 9369,
           "timestamp": "2022-12-21T00:00:11",
           "total bean vol": 58452034.237896,
           "total pod vol": 55507556.484822,
           "value": 55507556.484822,
           "variable": "total pod vol"
          },
          {
           "pod listing vol": 43832400.847918,
           "pod order vol": 11675155.636904,
           "season": 9393,
           "timestamp": "2022-12-22T00:00:11",
           "total bean vol": 58452034.237896,
           "total pod vol": 55507556.484822,
           "value": 55507556.484822,
           "variable": "total pod vol"
          },
          {
           "pod listing vol": 43832400.847918,
           "pod order vol": 11675155.636904,
           "season": 9393,
           "timestamp": "2022-12-22T00:00:11",
           "total bean vol": 58452034.237896,
           "total pod vol": 55507556.484822,
           "value": 58452034.237896,
           "variable": "total bean vol"
          },
          {
           "pod listing vol": 43832400.847918,
           "pod order vol": 11675155.636904,
           "season": 9393,
           "timestamp": "2022-12-22T00:00:11",
           "total bean vol": 58452034.237896,
           "total pod vol": 55507556.484822,
           "value": 11675155.636904,
           "variable": "pod order vol"
          },
          {
           "pod listing vol": 43832400.847918,
           "pod order vol": 11675155.636904,
           "season": 9393,
           "timestamp": "2022-12-22T00:00:11",
           "total bean vol": 58452034.237896,
           "total pod vol": 55507556.484822,
           "value": 43832400.847918,
           "variable": "pod listing vol"
          },
          {
           "pod listing vol": 43832400.847918,
           "pod order vol": 11675155.636904,
           "season": 9417,
           "timestamp": "2022-12-23T00:00:11",
           "total bean vol": 58452034.237896,
           "total pod vol": 55507556.484822,
           "value": 43832400.847918,
           "variable": "pod listing vol"
          },
          {
           "pod listing vol": 43832400.847918,
           "pod order vol": 11675155.636904,
           "season": 9417,
           "timestamp": "2022-12-23T00:00:11",
           "total bean vol": 58452034.237896,
           "total pod vol": 55507556.484822,
           "value": 11675155.636904,
           "variable": "pod order vol"
          },
          {
           "pod listing vol": 43832400.847918,
           "pod order vol": 11675155.636904,
           "season": 9417,
           "timestamp": "2022-12-23T00:00:11",
           "total bean vol": 58452034.237896,
           "total pod vol": 55507556.484822,
           "value": 58452034.237896,
           "variable": "total bean vol"
          },
          {
           "pod listing vol": 43832400.847918,
           "pod order vol": 11675155.636904,
           "season": 9417,
           "timestamp": "2022-12-23T00:00:11",
           "total bean vol": 58452034.237896,
           "total pod vol": 55507556.484822,
           "value": 55507556.484822,
           "variable": "total pod vol"
          },
          {
           "pod listing vol": 43832400.847918,
           "pod order vol": 11675155.636904,
           "season": 9441,
           "timestamp": "2022-12-24T00:00:11",
           "total bean vol": 58452034.237896,
           "total pod vol": 55507556.484822,
           "value": 43832400.847918,
           "variable": "pod listing vol"
          },
          {
           "pod listing vol": 43832400.847918,
           "pod order vol": 11675155.636904,
           "season": 9441,
           "timestamp": "2022-12-24T00:00:11",
           "total bean vol": 58452034.237896,
           "total pod vol": 55507556.484822,
           "value": 11675155.636904,
           "variable": "pod order vol"
          },
          {
           "pod listing vol": 43832400.847918,
           "pod order vol": 11675155.636904,
           "season": 9441,
           "timestamp": "2022-12-24T00:00:11",
           "total bean vol": 58452034.237896,
           "total pod vol": 55507556.484822,
           "value": 58452034.237896,
           "variable": "total bean vol"
          },
          {
           "pod listing vol": 43832400.847918,
           "pod order vol": 11675155.636904,
           "season": 9441,
           "timestamp": "2022-12-24T00:00:11",
           "total bean vol": 58452034.237896,
           "total pod vol": 55507556.484822,
           "value": 55507556.484822,
           "variable": "total pod vol"
          },
          {
           "pod listing vol": 43832400.847918,
           "pod order vol": 11675155.636904,
           "season": 9465,
           "timestamp": "2022-12-25T00:00:11",
           "total bean vol": 58452034.237896,
           "total pod vol": 55507556.484822,
           "value": 43832400.847918,
           "variable": "pod listing vol"
          },
          {
           "pod listing vol": 43832400.847918,
           "pod order vol": 11675155.636904,
           "season": 9465,
           "timestamp": "2022-12-25T00:00:11",
           "total bean vol": 58452034.237896,
           "total pod vol": 55507556.484822,
           "value": 11675155.636904,
           "variable": "pod order vol"
          },
          {
           "pod listing vol": 43832400.847918,
           "pod order vol": 11675155.636904,
           "season": 9465,
           "timestamp": "2022-12-25T00:00:11",
           "total bean vol": 58452034.237896,
           "total pod vol": 55507556.484822,
           "value": 58452034.237896,
           "variable": "total bean vol"
          },
          {
           "pod listing vol": 43832400.847918,
           "pod order vol": 11675155.636904,
           "season": 9465,
           "timestamp": "2022-12-25T00:00:11",
           "total bean vol": 58452034.237896,
           "total pod vol": 55507556.484822,
           "value": 55507556.484822,
           "variable": "total pod vol"
          },
          {
           "pod listing vol": 43832400.847918,
           "pod order vol": 11675155.636904,
           "season": 9489,
           "timestamp": "2022-12-26T00:00:11",
           "total bean vol": 58452034.237896,
           "total pod vol": 55507556.484822,
           "value": 55507556.484822,
           "variable": "total pod vol"
          },
          {
           "pod listing vol": 43832400.847918,
           "pod order vol": 11675155.636904,
           "season": 9489,
           "timestamp": "2022-12-26T00:00:11",
           "total bean vol": 58452034.237896,
           "total pod vol": 55507556.484822,
           "value": 11675155.636904,
           "variable": "pod order vol"
          },
          {
           "pod listing vol": 43832400.847918,
           "pod order vol": 11675155.636904,
           "season": 9489,
           "timestamp": "2022-12-26T00:00:11",
           "total bean vol": 58452034.237896,
           "total pod vol": 55507556.484822,
           "value": 43832400.847918,
           "variable": "pod listing vol"
          },
          {
           "pod listing vol": 43832400.847918,
           "pod order vol": 11675155.636904,
           "season": 9489,
           "timestamp": "2022-12-26T00:00:11",
           "total bean vol": 58452034.237896,
           "total pod vol": 55507556.484822,
           "value": 58452034.237896,
           "variable": "total bean vol"
          },
          {
           "pod listing vol": 43832400.847918,
           "pod order vol": 11675155.636904,
           "season": 9513,
           "timestamp": "2022-12-27T00:00:23",
           "total bean vol": 58452034.237896,
           "total pod vol": 55507556.484822,
           "value": 43832400.847918,
           "variable": "pod listing vol"
          },
          {
           "pod listing vol": 43832400.847918,
           "pod order vol": 11675155.636904,
           "season": 9513,
           "timestamp": "2022-12-27T00:00:23",
           "total bean vol": 58452034.237896,
           "total pod vol": 55507556.484822,
           "value": 11675155.636904,
           "variable": "pod order vol"
          },
          {
           "pod listing vol": 43832400.847918,
           "pod order vol": 11675155.636904,
           "season": 9513,
           "timestamp": "2022-12-27T00:00:23",
           "total bean vol": 58452034.237896,
           "total pod vol": 55507556.484822,
           "value": 58452034.237896,
           "variable": "total bean vol"
          },
          {
           "pod listing vol": 43832400.847918,
           "pod order vol": 11675155.636904,
           "season": 9513,
           "timestamp": "2022-12-27T00:00:23",
           "total bean vol": 58452034.237896,
           "total pod vol": 55507556.484822,
           "value": 55507556.484822,
           "variable": "total pod vol"
          },
          {
           "pod listing vol": 43832400.847918,
           "pod order vol": 11675155.636904,
           "season": 9537,
           "timestamp": "2022-12-28T00:00:11",
           "total bean vol": 59239654.007265,
           "total pod vol": 55507556.484822,
           "value": 43832400.847918,
           "variable": "pod listing vol"
          },
          {
           "pod listing vol": 43832400.847918,
           "pod order vol": 11675155.636904,
           "season": 9537,
           "timestamp": "2022-12-28T00:00:11",
           "total bean vol": 59239654.007265,
           "total pod vol": 55507556.484822,
           "value": 11675155.636904,
           "variable": "pod order vol"
          },
          {
           "pod listing vol": 43832400.847918,
           "pod order vol": 11675155.636904,
           "season": 9537,
           "timestamp": "2022-12-28T00:00:11",
           "total bean vol": 59239654.007265,
           "total pod vol": 55507556.484822,
           "value": 59239654.007265,
           "variable": "total bean vol"
          },
          {
           "pod listing vol": 43832400.847918,
           "pod order vol": 11675155.636904,
           "season": 9537,
           "timestamp": "2022-12-28T00:00:11",
           "total bean vol": 59239654.007265,
           "total pod vol": 55507556.484822,
           "value": 55507556.484822,
           "variable": "total pod vol"
          },
          {
           "pod listing vol": 43832400.847918,
           "pod order vol": 11675155.636904,
           "season": 9561,
           "timestamp": "2022-12-29T00:00:23",
           "total bean vol": 59239654.007265,
           "total pod vol": 55507556.484822,
           "value": 55507556.484822,
           "variable": "total pod vol"
          },
          {
           "pod listing vol": 43832400.847918,
           "pod order vol": 11675155.636904,
           "season": 9561,
           "timestamp": "2022-12-29T00:00:23",
           "total bean vol": 59239654.007265,
           "total pod vol": 55507556.484822,
           "value": 43832400.847918,
           "variable": "pod listing vol"
          },
          {
           "pod listing vol": 43832400.847918,
           "pod order vol": 11675155.636904,
           "season": 9561,
           "timestamp": "2022-12-29T00:00:23",
           "total bean vol": 59239654.007265,
           "total pod vol": 55507556.484822,
           "value": 11675155.636904,
           "variable": "pod order vol"
          },
          {
           "pod listing vol": 43832400.847918,
           "pod order vol": 11675155.636904,
           "season": 9561,
           "timestamp": "2022-12-29T00:00:23",
           "total bean vol": 59239654.007265,
           "total pod vol": 55507556.484822,
           "value": 59239654.007265,
           "variable": "total bean vol"
          },
          {
           "pod listing vol": 43832400.847918,
           "pod order vol": 11675155.636904,
           "season": 9585,
           "timestamp": "2022-12-30T00:00:11",
           "total bean vol": 59239654.007265,
           "total pod vol": 55507556.484822,
           "value": 55507556.484822,
           "variable": "total pod vol"
          },
          {
           "pod listing vol": 43832400.847918,
           "pod order vol": 11675155.636904,
           "season": 9585,
           "timestamp": "2022-12-30T00:00:11",
           "total bean vol": 59239654.007265,
           "total pod vol": 55507556.484822,
           "value": 59239654.007265,
           "variable": "total bean vol"
          },
          {
           "pod listing vol": 43832400.847918,
           "pod order vol": 11675155.636904,
           "season": 9585,
           "timestamp": "2022-12-30T00:00:11",
           "total bean vol": 59239654.007265,
           "total pod vol": 55507556.484822,
           "value": 11675155.636904,
           "variable": "pod order vol"
          },
          {
           "pod listing vol": 43832400.847918,
           "pod order vol": 11675155.636904,
           "season": 9585,
           "timestamp": "2022-12-30T00:00:11",
           "total bean vol": 59239654.007265,
           "total pod vol": 55507556.484822,
           "value": 43832400.847918,
           "variable": "pod listing vol"
          },
          {
           "pod listing vol": 43832400.847918,
           "pod order vol": 11675155.636904,
           "season": 9609,
           "timestamp": "2022-12-31T00:00:11",
           "total bean vol": 59504572.61608,
           "total pod vol": 55507556.484822,
           "value": 43832400.847918,
           "variable": "pod listing vol"
          },
          {
           "pod listing vol": 43832400.847918,
           "pod order vol": 11675155.636904,
           "season": 9609,
           "timestamp": "2022-12-31T00:00:11",
           "total bean vol": 59504572.61608,
           "total pod vol": 55507556.484822,
           "value": 11675155.636904,
           "variable": "pod order vol"
          },
          {
           "pod listing vol": 43832400.847918,
           "pod order vol": 11675155.636904,
           "season": 9609,
           "timestamp": "2022-12-31T00:00:11",
           "total bean vol": 59504572.61608,
           "total pod vol": 55507556.484822,
           "value": 59504572.61608,
           "variable": "total bean vol"
          },
          {
           "pod listing vol": 43832400.847918,
           "pod order vol": 11675155.636904,
           "season": 9609,
           "timestamp": "2022-12-31T00:00:11",
           "total bean vol": 59504572.61608,
           "total pod vol": 55507556.484822,
           "value": 55507556.484822,
           "variable": "total pod vol"
          },
          {
           "pod listing vol": 43832400.847918,
           "pod order vol": 11675155.636904,
           "season": 9633,
           "timestamp": "2023-01-01T00:00:11",
           "total bean vol": 59844075.590476,
           "total pod vol": 55507556.484822,
           "value": 55507556.484822,
           "variable": "total pod vol"
          },
          {
           "pod listing vol": 43832400.847918,
           "pod order vol": 11675155.636904,
           "season": 9633,
           "timestamp": "2023-01-01T00:00:11",
           "total bean vol": 59844075.590476,
           "total pod vol": 55507556.484822,
           "value": 43832400.847918,
           "variable": "pod listing vol"
          },
          {
           "pod listing vol": 43832400.847918,
           "pod order vol": 11675155.636904,
           "season": 9633,
           "timestamp": "2023-01-01T00:00:11",
           "total bean vol": 59844075.590476,
           "total pod vol": 55507556.484822,
           "value": 11675155.636904,
           "variable": "pod order vol"
          },
          {
           "pod listing vol": 43832400.847918,
           "pod order vol": 11675155.636904,
           "season": 9633,
           "timestamp": "2023-01-01T00:00:11",
           "total bean vol": 59844075.590476,
           "total pod vol": 55507556.484822,
           "value": 59844075.590476,
           "variable": "total bean vol"
          },
          {
           "pod listing vol": 43832400.847918,
           "pod order vol": 11675155.636904,
           "season": 9657,
           "timestamp": "2023-01-02T00:00:11",
           "total bean vol": 59844075.590476,
           "total pod vol": 55507556.484822,
           "value": 11675155.636904,
           "variable": "pod order vol"
          },
          {
           "pod listing vol": 43832400.847918,
           "pod order vol": 11675155.636904,
           "season": 9657,
           "timestamp": "2023-01-02T00:00:11",
           "total bean vol": 59844075.590476,
           "total pod vol": 55507556.484822,
           "value": 59844075.590476,
           "variable": "total bean vol"
          },
          {
           "pod listing vol": 43832400.847918,
           "pod order vol": 11675155.636904,
           "season": 9657,
           "timestamp": "2023-01-02T00:00:11",
           "total bean vol": 59844075.590476,
           "total pod vol": 55507556.484822,
           "value": 43832400.847918,
           "variable": "pod listing vol"
          },
          {
           "pod listing vol": 43832400.847918,
           "pod order vol": 11675155.636904,
           "season": 9657,
           "timestamp": "2023-01-02T00:00:11",
           "total bean vol": 59844075.590476,
           "total pod vol": 55507556.484822,
           "value": 55507556.484822,
           "variable": "total pod vol"
          },
          {
           "pod listing vol": 43832400.847918,
           "pod order vol": 11675155.636904,
           "season": 9681,
           "timestamp": "2023-01-03T00:00:11",
           "total bean vol": 59844075.590476,
           "total pod vol": 55507556.484822,
           "value": 55507556.484822,
           "variable": "total pod vol"
          },
          {
           "pod listing vol": 43832400.847918,
           "pod order vol": 11675155.636904,
           "season": 9681,
           "timestamp": "2023-01-03T00:00:11",
           "total bean vol": 59844075.590476,
           "total pod vol": 55507556.484822,
           "value": 59844075.590476,
           "variable": "total bean vol"
          },
          {
           "pod listing vol": 43832400.847918,
           "pod order vol": 11675155.636904,
           "season": 9681,
           "timestamp": "2023-01-03T00:00:11",
           "total bean vol": 59844075.590476,
           "total pod vol": 55507556.484822,
           "value": 11675155.636904,
           "variable": "pod order vol"
          },
          {
           "pod listing vol": 43832400.847918,
           "pod order vol": 11675155.636904,
           "season": 9681,
           "timestamp": "2023-01-03T00:00:11",
           "total bean vol": 59844075.590476,
           "total pod vol": 55507556.484822,
           "value": 43832400.847918,
           "variable": "pod listing vol"
          },
          {
           "pod listing vol": 43832400.847918,
           "pod order vol": 11675155.636904,
           "season": 9705,
           "timestamp": "2023-01-04T00:00:11",
           "total bean vol": 59844075.590476,
           "total pod vol": 55507556.484822,
           "value": 43832400.847918,
           "variable": "pod listing vol"
          },
          {
           "pod listing vol": 43832400.847918,
           "pod order vol": 11675155.636904,
           "season": 9705,
           "timestamp": "2023-01-04T00:00:11",
           "total bean vol": 59844075.590476,
           "total pod vol": 55507556.484822,
           "value": 11675155.636904,
           "variable": "pod order vol"
          },
          {
           "pod listing vol": 43832400.847918,
           "pod order vol": 11675155.636904,
           "season": 9705,
           "timestamp": "2023-01-04T00:00:11",
           "total bean vol": 59844075.590476,
           "total pod vol": 55507556.484822,
           "value": 59844075.590476,
           "variable": "total bean vol"
          },
          {
           "pod listing vol": 43832400.847918,
           "pod order vol": 11675155.636904,
           "season": 9705,
           "timestamp": "2023-01-04T00:00:11",
           "total bean vol": 59844075.590476,
           "total pod vol": 55507556.484822,
           "value": 55507556.484822,
           "variable": "total pod vol"
          },
          {
           "pod listing vol": 43832400.847918,
           "pod order vol": 11675155.636904,
           "season": 9729,
           "timestamp": "2023-01-05T00:00:23",
           "total bean vol": 59874685.404515,
           "total pod vol": 55507556.484822,
           "value": 43832400.847918,
           "variable": "pod listing vol"
          },
          {
           "pod listing vol": 43832400.847918,
           "pod order vol": 11675155.636904,
           "season": 9729,
           "timestamp": "2023-01-05T00:00:23",
           "total bean vol": 59874685.404515,
           "total pod vol": 55507556.484822,
           "value": 11675155.636904,
           "variable": "pod order vol"
          },
          {
           "pod listing vol": 43832400.847918,
           "pod order vol": 11675155.636904,
           "season": 9729,
           "timestamp": "2023-01-05T00:00:23",
           "total bean vol": 59874685.404515,
           "total pod vol": 55507556.484822,
           "value": 59874685.404515,
           "variable": "total bean vol"
          },
          {
           "pod listing vol": 43832400.847918,
           "pod order vol": 11675155.636904,
           "season": 9729,
           "timestamp": "2023-01-05T00:00:23",
           "total bean vol": 59874685.404515,
           "total pod vol": 55507556.484822,
           "value": 55507556.484822,
           "variable": "total pod vol"
          },
          {
           "pod listing vol": 43832400.847918,
           "pod order vol": 11675155.636904,
           "season": 9753,
           "timestamp": "2023-01-06T00:00:11",
           "total bean vol": 59874685.404515,
           "total pod vol": 55507556.484822,
           "value": 43832400.847918,
           "variable": "pod listing vol"
          },
          {
           "pod listing vol": 43832400.847918,
           "pod order vol": 11675155.636904,
           "season": 9753,
           "timestamp": "2023-01-06T00:00:11",
           "total bean vol": 59874685.404515,
           "total pod vol": 55507556.484822,
           "value": 11675155.636904,
           "variable": "pod order vol"
          },
          {
           "pod listing vol": 43832400.847918,
           "pod order vol": 11675155.636904,
           "season": 9753,
           "timestamp": "2023-01-06T00:00:11",
           "total bean vol": 59874685.404515,
           "total pod vol": 55507556.484822,
           "value": 59874685.404515,
           "variable": "total bean vol"
          },
          {
           "pod listing vol": 43832400.847918,
           "pod order vol": 11675155.636904,
           "season": 9753,
           "timestamp": "2023-01-06T00:00:11",
           "total bean vol": 59874685.404515,
           "total pod vol": 55507556.484822,
           "value": 55507556.484822,
           "variable": "total pod vol"
          },
          {
           "pod listing vol": 43832400.847918,
           "pod order vol": 11718957.653567,
           "season": 9777,
           "timestamp": "2023-01-07T00:00:11",
           "total bean vol": 59919144.451427,
           "total pod vol": 55551358.501485,
           "value": 55551358.501485,
           "variable": "total pod vol"
          },
          {
           "pod listing vol": 43832400.847918,
           "pod order vol": 11718957.653567,
           "season": 9777,
           "timestamp": "2023-01-07T00:00:11",
           "total bean vol": 59919144.451427,
           "total pod vol": 55551358.501485,
           "value": 59919144.451427,
           "variable": "total bean vol"
          },
          {
           "pod listing vol": 43832400.847918,
           "pod order vol": 11718957.653567,
           "season": 9777,
           "timestamp": "2023-01-07T00:00:11",
           "total bean vol": 59919144.451427,
           "total pod vol": 55551358.501485,
           "value": 11718957.653567,
           "variable": "pod order vol"
          },
          {
           "pod listing vol": 43832400.847918,
           "pod order vol": 11718957.653567,
           "season": 9777,
           "timestamp": "2023-01-07T00:00:11",
           "total bean vol": 59919144.451427,
           "total pod vol": 55551358.501485,
           "value": 43832400.847918,
           "variable": "pod listing vol"
          },
          {
           "pod listing vol": 43832400.847918,
           "pod order vol": 11718957.653567,
           "season": 9801,
           "timestamp": "2023-01-08T00:00:11",
           "total bean vol": 59919144.451427,
           "total pod vol": 55551358.501485,
           "value": 43832400.847918,
           "variable": "pod listing vol"
          },
          {
           "pod listing vol": 43832400.847918,
           "pod order vol": 11718957.653567,
           "season": 9801,
           "timestamp": "2023-01-08T00:00:11",
           "total bean vol": 59919144.451427,
           "total pod vol": 55551358.501485,
           "value": 11718957.653567,
           "variable": "pod order vol"
          },
          {
           "pod listing vol": 43832400.847918,
           "pod order vol": 11718957.653567,
           "season": 9801,
           "timestamp": "2023-01-08T00:00:11",
           "total bean vol": 59919144.451427,
           "total pod vol": 55551358.501485,
           "value": 59919144.451427,
           "variable": "total bean vol"
          },
          {
           "pod listing vol": 43832400.847918,
           "pod order vol": 11718957.653567,
           "season": 9801,
           "timestamp": "2023-01-08T00:00:11",
           "total bean vol": 59919144.451427,
           "total pod vol": 55551358.501485,
           "value": 55551358.501485,
           "variable": "total pod vol"
          },
          {
           "pod listing vol": 43896587.234253,
           "pod order vol": 11718957.653567,
           "season": 9825,
           "timestamp": "2023-01-09T00:00:11",
           "total bean vol": 59922420.134763,
           "total pod vol": 55615544.88782,
           "value": 43896587.234253,
           "variable": "pod listing vol"
          },
          {
           "pod listing vol": 43896587.234253,
           "pod order vol": 11718957.653567,
           "season": 9825,
           "timestamp": "2023-01-09T00:00:11",
           "total bean vol": 59922420.134763,
           "total pod vol": 55615544.88782,
           "value": 11718957.653567,
           "variable": "pod order vol"
          },
          {
           "pod listing vol": 43896587.234253,
           "pod order vol": 11718957.653567,
           "season": 9825,
           "timestamp": "2023-01-09T00:00:11",
           "total bean vol": 59922420.134763,
           "total pod vol": 55615544.88782,
           "value": 59922420.134763,
           "variable": "total bean vol"
          },
          {
           "pod listing vol": 43896587.234253,
           "pod order vol": 11718957.653567,
           "season": 9825,
           "timestamp": "2023-01-09T00:00:11",
           "total bean vol": 59922420.134763,
           "total pod vol": 55615544.88782,
           "value": 55615544.88782,
           "variable": "total pod vol"
          },
          {
           "pod listing vol": 43896587.234253,
           "pod order vol": 11718957.653567,
           "season": 9849,
           "timestamp": "2023-01-10T00:00:11",
           "total bean vol": 59936012.788888,
           "total pod vol": 55615544.88782,
           "value": 43896587.234253,
           "variable": "pod listing vol"
          },
          {
           "pod listing vol": 43896587.234253,
           "pod order vol": 11718957.653567,
           "season": 9849,
           "timestamp": "2023-01-10T00:00:11",
           "total bean vol": 59936012.788888,
           "total pod vol": 55615544.88782,
           "value": 11718957.653567,
           "variable": "pod order vol"
          },
          {
           "pod listing vol": 43896587.234253,
           "pod order vol": 11718957.653567,
           "season": 9849,
           "timestamp": "2023-01-10T00:00:11",
           "total bean vol": 59936012.788888,
           "total pod vol": 55615544.88782,
           "value": 59936012.788888,
           "variable": "total bean vol"
          },
          {
           "pod listing vol": 43896587.234253,
           "pod order vol": 11718957.653567,
           "season": 9849,
           "timestamp": "2023-01-10T00:00:11",
           "total bean vol": 59936012.788888,
           "total pod vol": 55615544.88782,
           "value": 55615544.88782,
           "variable": "total pod vol"
          },
          {
           "pod listing vol": 44374026.027803,
           "pod order vol": 11718957.653567,
           "season": 9873,
           "timestamp": "2023-01-11T00:00:11",
           "total bean vol": 59945561.564759,
           "total pod vol": 56092983.68137,
           "value": 56092983.68137,
           "variable": "total pod vol"
          },
          {
           "pod listing vol": 44374026.027803,
           "pod order vol": 11718957.653567,
           "season": 9873,
           "timestamp": "2023-01-11T00:00:11",
           "total bean vol": 59945561.564759,
           "total pod vol": 56092983.68137,
           "value": 59945561.564759,
           "variable": "total bean vol"
          },
          {
           "pod listing vol": 44374026.027803,
           "pod order vol": 11718957.653567,
           "season": 9873,
           "timestamp": "2023-01-11T00:00:11",
           "total bean vol": 59945561.564759,
           "total pod vol": 56092983.68137,
           "value": 44374026.027803,
           "variable": "pod listing vol"
          },
          {
           "pod listing vol": 44374026.027803,
           "pod order vol": 11718957.653567,
           "season": 9873,
           "timestamp": "2023-01-11T00:00:11",
           "total bean vol": 59945561.564759,
           "total pod vol": 56092983.68137,
           "value": 11718957.653567,
           "variable": "pod order vol"
          },
          {
           "pod listing vol": 44374026.027803,
           "pod order vol": 11718957.653567,
           "season": 9897,
           "timestamp": "2023-01-12T00:00:11",
           "total bean vol": 59945561.564759,
           "total pod vol": 56092983.68137,
           "value": 44374026.027803,
           "variable": "pod listing vol"
          },
          {
           "pod listing vol": 44374026.027803,
           "pod order vol": 11718957.653567,
           "season": 9897,
           "timestamp": "2023-01-12T00:00:11",
           "total bean vol": 59945561.564759,
           "total pod vol": 56092983.68137,
           "value": 11718957.653567,
           "variable": "pod order vol"
          },
          {
           "pod listing vol": 44374026.027803,
           "pod order vol": 11718957.653567,
           "season": 9897,
           "timestamp": "2023-01-12T00:00:11",
           "total bean vol": 59945561.564759,
           "total pod vol": 56092983.68137,
           "value": 59945561.564759,
           "variable": "total bean vol"
          },
          {
           "pod listing vol": 44374026.027803,
           "pod order vol": 11718957.653567,
           "season": 9897,
           "timestamp": "2023-01-12T00:00:11",
           "total bean vol": 59945561.564759,
           "total pod vol": 56092983.68137,
           "value": 56092983.68137,
           "variable": "total pod vol"
          },
          {
           "pod listing vol": 44668500.950192,
           "pod order vol": 11784351.842881,
           "season": 9921,
           "timestamp": "2023-01-13T00:00:11",
           "total bean vol": 59952431.976045,
           "total pod vol": 56452852.793073,
           "value": 44668500.950192,
           "variable": "pod listing vol"
          },
          {
           "pod listing vol": 44668500.950192,
           "pod order vol": 11784351.842881,
           "season": 9921,
           "timestamp": "2023-01-13T00:00:11",
           "total bean vol": 59952431.976045,
           "total pod vol": 56452852.793073,
           "value": 11784351.842881,
           "variable": "pod order vol"
          },
          {
           "pod listing vol": 44668500.950192,
           "pod order vol": 11784351.842881,
           "season": 9921,
           "timestamp": "2023-01-13T00:00:11",
           "total bean vol": 59952431.976045,
           "total pod vol": 56452852.793073,
           "value": 59952431.976045,
           "variable": "total bean vol"
          },
          {
           "pod listing vol": 44668500.950192,
           "pod order vol": 11784351.842881,
           "season": 9921,
           "timestamp": "2023-01-13T00:00:11",
           "total bean vol": 59952431.976045,
           "total pod vol": 56452852.793073,
           "value": 56452852.793073,
           "variable": "total pod vol"
          },
          {
           "pod listing vol": 44761484.970781,
           "pod order vol": 11784351.842881,
           "season": 9945,
           "timestamp": "2023-01-14T00:00:11",
           "total bean vol": 59997747.067467,
           "total pod vol": 56545836.813662,
           "value": 44761484.970781,
           "variable": "pod listing vol"
          },
          {
           "pod listing vol": 44761484.970781,
           "pod order vol": 11784351.842881,
           "season": 9945,
           "timestamp": "2023-01-14T00:00:11",
           "total bean vol": 59997747.067467,
           "total pod vol": 56545836.813662,
           "value": 11784351.842881,
           "variable": "pod order vol"
          },
          {
           "pod listing vol": 44761484.970781,
           "pod order vol": 11784351.842881,
           "season": 9945,
           "timestamp": "2023-01-14T00:00:11",
           "total bean vol": 59997747.067467,
           "total pod vol": 56545836.813662,
           "value": 59997747.067467,
           "variable": "total bean vol"
          },
          {
           "pod listing vol": 44761484.970781,
           "pod order vol": 11784351.842881,
           "season": 9945,
           "timestamp": "2023-01-14T00:00:11",
           "total bean vol": 59997747.067467,
           "total pod vol": 56545836.813662,
           "value": 56545836.813662,
           "variable": "total pod vol"
          },
          {
           "pod listing vol": 44761484.970781,
           "pod order vol": 11784351.842881,
           "season": 9969,
           "timestamp": "2023-01-15T00:00:11",
           "total bean vol": 60016742.183219,
           "total pod vol": 56545836.813662,
           "value": 11784351.842881,
           "variable": "pod order vol"
          },
          {
           "pod listing vol": 44761484.970781,
           "pod order vol": 11784351.842881,
           "season": 9969,
           "timestamp": "2023-01-15T00:00:11",
           "total bean vol": 60016742.183219,
           "total pod vol": 56545836.813662,
           "value": 56545836.813662,
           "variable": "total pod vol"
          },
          {
           "pod listing vol": 44761484.970781,
           "pod order vol": 11784351.842881,
           "season": 9969,
           "timestamp": "2023-01-15T00:00:11",
           "total bean vol": 60016742.183219,
           "total pod vol": 56545836.813662,
           "value": 44761484.970781,
           "variable": "pod listing vol"
          },
          {
           "pod listing vol": 44761484.970781,
           "pod order vol": 11784351.842881,
           "season": 9969,
           "timestamp": "2023-01-15T00:00:11",
           "total bean vol": 60016742.183219,
           "total pod vol": 56545836.813662,
           "value": 60016742.183219,
           "variable": "total bean vol"
          },
          {
           "pod listing vol": 44761484.970781,
           "pod order vol": 11784351.842881,
           "season": 9993,
           "timestamp": "2023-01-16T00:00:11",
           "total bean vol": 60016742.183219,
           "total pod vol": 56545836.813662,
           "value": 44761484.970781,
           "variable": "pod listing vol"
          },
          {
           "pod listing vol": 44761484.970781,
           "pod order vol": 11784351.842881,
           "season": 9993,
           "timestamp": "2023-01-16T00:00:11",
           "total bean vol": 60016742.183219,
           "total pod vol": 56545836.813662,
           "value": 11784351.842881,
           "variable": "pod order vol"
          },
          {
           "pod listing vol": 44761484.970781,
           "pod order vol": 11784351.842881,
           "season": 9993,
           "timestamp": "2023-01-16T00:00:11",
           "total bean vol": 60016742.183219,
           "total pod vol": 56545836.813662,
           "value": 60016742.183219,
           "variable": "total bean vol"
          },
          {
           "pod listing vol": 44761484.970781,
           "pod order vol": 11784351.842881,
           "season": 9993,
           "timestamp": "2023-01-16T00:00:11",
           "total bean vol": 60016742.183219,
           "total pod vol": 56545836.813662,
           "value": 56545836.813662,
           "variable": "total pod vol"
          },
          {
           "pod listing vol": 44797798.016862,
           "pod order vol": 11810146.244306,
           "season": 10017,
           "timestamp": "2023-01-17T00:00:11",
           "total bean vol": 60019600.953528,
           "total pod vol": 56607944.261168,
           "value": 44797798.016862,
           "variable": "pod listing vol"
          },
          {
           "pod listing vol": 44797798.016862,
           "pod order vol": 11810146.244306,
           "season": 10017,
           "timestamp": "2023-01-17T00:00:11",
           "total bean vol": 60019600.953528,
           "total pod vol": 56607944.261168,
           "value": 11810146.244306,
           "variable": "pod order vol"
          },
          {
           "pod listing vol": 44797798.016862,
           "pod order vol": 11810146.244306,
           "season": 10017,
           "timestamp": "2023-01-17T00:00:11",
           "total bean vol": 60019600.953528,
           "total pod vol": 56607944.261168,
           "value": 60019600.953528,
           "variable": "total bean vol"
          },
          {
           "pod listing vol": 44797798.016862,
           "pod order vol": 11810146.244306,
           "season": 10017,
           "timestamp": "2023-01-17T00:00:11",
           "total bean vol": 60019600.953528,
           "total pod vol": 56607944.261168,
           "value": 56607944.261168,
           "variable": "total pod vol"
          },
          {
           "pod listing vol": 44797798.016862,
           "pod order vol": 12090417.259054,
           "season": 10041,
           "timestamp": "2023-01-18T00:00:11",
           "total bean vol": 60221461.939335,
           "total pod vol": 56888215.275916,
           "value": 60221461.939335,
           "variable": "total bean vol"
          },
          {
           "pod listing vol": 44797798.016862,
           "pod order vol": 12090417.259054,
           "season": 10041,
           "timestamp": "2023-01-18T00:00:11",
           "total bean vol": 60221461.939335,
           "total pod vol": 56888215.275916,
           "value": 44797798.016862,
           "variable": "pod listing vol"
          },
          {
           "pod listing vol": 44797798.016862,
           "pod order vol": 12090417.259054,
           "season": 10041,
           "timestamp": "2023-01-18T00:00:11",
           "total bean vol": 60221461.939335,
           "total pod vol": 56888215.275916,
           "value": 12090417.259054,
           "variable": "pod order vol"
          },
          {
           "pod listing vol": 44797798.016862,
           "pod order vol": 12090417.259054,
           "season": 10041,
           "timestamp": "2023-01-18T00:00:11",
           "total bean vol": 60221461.939335,
           "total pod vol": 56888215.275916,
           "value": 56888215.275916,
           "variable": "total pod vol"
          },
          {
           "pod listing vol": 44797798.016862,
           "pod order vol": 12090417.259054,
           "season": 10065,
           "timestamp": "2023-01-19T00:00:11",
           "total bean vol": 60221461.939335,
           "total pod vol": 56888215.275916,
           "value": 56888215.275916,
           "variable": "total pod vol"
          },
          {
           "pod listing vol": 44797798.016862,
           "pod order vol": 12090417.259054,
           "season": 10065,
           "timestamp": "2023-01-19T00:00:11",
           "total bean vol": 60221461.939335,
           "total pod vol": 56888215.275916,
           "value": 60221461.939335,
           "variable": "total bean vol"
          },
          {
           "pod listing vol": 44797798.016862,
           "pod order vol": 12090417.259054,
           "season": 10065,
           "timestamp": "2023-01-19T00:00:11",
           "total bean vol": 60221461.939335,
           "total pod vol": 56888215.275916,
           "value": 12090417.259054,
           "variable": "pod order vol"
          },
          {
           "pod listing vol": 44797798.016862,
           "pod order vol": 12090417.259054,
           "season": 10065,
           "timestamp": "2023-01-19T00:00:11",
           "total bean vol": 60221461.939335,
           "total pod vol": 56888215.275916,
           "value": 44797798.016862,
           "variable": "pod listing vol"
          },
          {
           "pod listing vol": 44797798.016862,
           "pod order vol": 12148105.463654,
           "season": 10089,
           "timestamp": "2023-01-20T00:00:11",
           "total bean vol": 60223481.026496,
           "total pod vol": 56945903.480516,
           "value": 44797798.016862,
           "variable": "pod listing vol"
          },
          {
           "pod listing vol": 44797798.016862,
           "pod order vol": 12148105.463654,
           "season": 10089,
           "timestamp": "2023-01-20T00:00:11",
           "total bean vol": 60223481.026496,
           "total pod vol": 56945903.480516,
           "value": 12148105.463654,
           "variable": "pod order vol"
          },
          {
           "pod listing vol": 44797798.016862,
           "pod order vol": 12148105.463654,
           "season": 10089,
           "timestamp": "2023-01-20T00:00:11",
           "total bean vol": 60223481.026496,
           "total pod vol": 56945903.480516,
           "value": 60223481.026496,
           "variable": "total bean vol"
          },
          {
           "pod listing vol": 44797798.016862,
           "pod order vol": 12148105.463654,
           "season": 10089,
           "timestamp": "2023-01-20T00:00:11",
           "total bean vol": 60223481.026496,
           "total pod vol": 56945903.480516,
           "value": 56945903.480516,
           "variable": "total pod vol"
          },
          {
           "pod listing vol": 44845202.140162,
           "pod order vol": 12171061.071737,
           "season": 10113,
           "timestamp": "2023-01-21T00:00:11",
           "total bean vol": 60224674.798156,
           "total pod vol": 57016263.211899,
           "value": 44845202.140162,
           "variable": "pod listing vol"
          },
          {
           "pod listing vol": 44845202.140162,
           "pod order vol": 12171061.071737,
           "season": 10113,
           "timestamp": "2023-01-21T00:00:11",
           "total bean vol": 60224674.798156,
           "total pod vol": 57016263.211899,
           "value": 12171061.071737,
           "variable": "pod order vol"
          },
          {
           "pod listing vol": 44845202.140162,
           "pod order vol": 12171061.071737,
           "season": 10113,
           "timestamp": "2023-01-21T00:00:11",
           "total bean vol": 60224674.798156,
           "total pod vol": 57016263.211899,
           "value": 60224674.798156,
           "variable": "total bean vol"
          },
          {
           "pod listing vol": 44845202.140162,
           "pod order vol": 12171061.071737,
           "season": 10113,
           "timestamp": "2023-01-21T00:00:11",
           "total bean vol": 60224674.798156,
           "total pod vol": 57016263.211899,
           "value": 57016263.211899,
           "variable": "total pod vol"
          },
          {
           "pod listing vol": 44845202.140162,
           "pod order vol": 12171061.071737,
           "season": 10137,
           "timestamp": "2023-01-22T00:00:11",
           "total bean vol": 60224676.941488,
           "total pod vol": 57016263.211899,
           "value": 44845202.140162,
           "variable": "pod listing vol"
          },
          {
           "pod listing vol": 44845202.140162,
           "pod order vol": 12171061.071737,
           "season": 10137,
           "timestamp": "2023-01-22T00:00:11",
           "total bean vol": 60224676.941488,
           "total pod vol": 57016263.211899,
           "value": 12171061.071737,
           "variable": "pod order vol"
          },
          {
           "pod listing vol": 44845202.140162,
           "pod order vol": 12171061.071737,
           "season": 10137,
           "timestamp": "2023-01-22T00:00:11",
           "total bean vol": 60224676.941488,
           "total pod vol": 57016263.211899,
           "value": 60224676.941488,
           "variable": "total bean vol"
          },
          {
           "pod listing vol": 44845202.140162,
           "pod order vol": 12171061.071737,
           "season": 10137,
           "timestamp": "2023-01-22T00:00:11",
           "total bean vol": 60224676.941488,
           "total pod vol": 57016263.211899,
           "value": 57016263.211899,
           "variable": "total pod vol"
          },
          {
           "pod listing vol": 44845202.140162,
           "pod order vol": 12253025.415889,
           "season": 10161,
           "timestamp": "2023-01-23T00:00:11",
           "total bean vol": 60657164.973075,
           "total pod vol": 57098227.556051,
           "value": 57098227.556051,
           "variable": "total pod vol"
          },
          {
           "pod listing vol": 44845202.140162,
           "pod order vol": 12253025.415889,
           "season": 10161,
           "timestamp": "2023-01-23T00:00:11",
           "total bean vol": 60657164.973075,
           "total pod vol": 57098227.556051,
           "value": 60657164.973075,
           "variable": "total bean vol"
          },
          {
           "pod listing vol": 44845202.140162,
           "pod order vol": 12253025.415889,
           "season": 10161,
           "timestamp": "2023-01-23T00:00:11",
           "total bean vol": 60657164.973075,
           "total pod vol": 57098227.556051,
           "value": 44845202.140162,
           "variable": "pod listing vol"
          },
          {
           "pod listing vol": 44845202.140162,
           "pod order vol": 12253025.415889,
           "season": 10161,
           "timestamp": "2023-01-23T00:00:11",
           "total bean vol": 60657164.973075,
           "total pod vol": 57098227.556051,
           "value": 12253025.415889,
           "variable": "pod order vol"
          },
          {
           "pod listing vol": 44845202.140162,
           "pod order vol": 13081839.880087,
           "season": 10185,
           "timestamp": "2023-01-24T00:00:35",
           "total bean vol": 60665866.580592,
           "total pod vol": 57927042.020249,
           "value": 44845202.140162,
           "variable": "pod listing vol"
          },
          {
           "pod listing vol": 44845202.140162,
           "pod order vol": 13081839.880087,
           "season": 10185,
           "timestamp": "2023-01-24T00:00:35",
           "total bean vol": 60665866.580592,
           "total pod vol": 57927042.020249,
           "value": 13081839.880087,
           "variable": "pod order vol"
          },
          {
           "pod listing vol": 44845202.140162,
           "pod order vol": 13081839.880087,
           "season": 10185,
           "timestamp": "2023-01-24T00:00:35",
           "total bean vol": 60665866.580592,
           "total pod vol": 57927042.020249,
           "value": 60665866.580592,
           "variable": "total bean vol"
          },
          {
           "pod listing vol": 44845202.140162,
           "pod order vol": 13081839.880087,
           "season": 10185,
           "timestamp": "2023-01-24T00:00:35",
           "total bean vol": 60665866.580592,
           "total pod vol": 57927042.020249,
           "value": 57927042.020249,
           "variable": "total pod vol"
          },
          {
           "pod listing vol": 44845202.140162,
           "pod order vol": 13081839.880087,
           "season": 10209,
           "timestamp": "2023-01-25T00:00:11",
           "total bean vol": 60665866.580592,
           "total pod vol": 57927042.020249,
           "value": 44845202.140162,
           "variable": "pod listing vol"
          },
          {
           "pod listing vol": 44845202.140162,
           "pod order vol": 13081839.880087,
           "season": 10209,
           "timestamp": "2023-01-25T00:00:11",
           "total bean vol": 60665866.580592,
           "total pod vol": 57927042.020249,
           "value": 13081839.880087,
           "variable": "pod order vol"
          },
          {
           "pod listing vol": 44845202.140162,
           "pod order vol": 13081839.880087,
           "season": 10209,
           "timestamp": "2023-01-25T00:00:11",
           "total bean vol": 60665866.580592,
           "total pod vol": 57927042.020249,
           "value": 60665866.580592,
           "variable": "total bean vol"
          },
          {
           "pod listing vol": 44845202.140162,
           "pod order vol": 13081839.880087,
           "season": 10209,
           "timestamp": "2023-01-25T00:00:11",
           "total bean vol": 60665866.580592,
           "total pod vol": 57927042.020249,
           "value": 57927042.020249,
           "variable": "total pod vol"
          },
          {
           "pod listing vol": 44845202.140162,
           "pod order vol": 13200330.608174,
           "season": 10233,
           "timestamp": "2023-01-26T00:00:11",
           "total bean vol": 60667181.827673,
           "total pod vol": 58045532.748336,
           "value": 44845202.140162,
           "variable": "pod listing vol"
          },
          {
           "pod listing vol": 44845202.140162,
           "pod order vol": 13200330.608174,
           "season": 10233,
           "timestamp": "2023-01-26T00:00:11",
           "total bean vol": 60667181.827673,
           "total pod vol": 58045532.748336,
           "value": 13200330.608174,
           "variable": "pod order vol"
          },
          {
           "pod listing vol": 44845202.140162,
           "pod order vol": 13200330.608174,
           "season": 10233,
           "timestamp": "2023-01-26T00:00:11",
           "total bean vol": 60667181.827673,
           "total pod vol": 58045532.748336,
           "value": 60667181.827673,
           "variable": "total bean vol"
          },
          {
           "pod listing vol": 44845202.140162,
           "pod order vol": 13200330.608174,
           "season": 10233,
           "timestamp": "2023-01-26T00:00:11",
           "total bean vol": 60667181.827673,
           "total pod vol": 58045532.748336,
           "value": 58045532.748336,
           "variable": "total pod vol"
          },
          {
           "pod listing vol": 44895202.140162,
           "pod order vol": 13200330.608174,
           "season": 10257,
           "timestamp": "2023-01-27T00:00:11",
           "total bean vol": 60719681.827673,
           "total pod vol": 58095532.748336,
           "value": 58095532.748336,
           "variable": "total pod vol"
          },
          {
           "pod listing vol": 44895202.140162,
           "pod order vol": 13200330.608174,
           "season": 10257,
           "timestamp": "2023-01-27T00:00:11",
           "total bean vol": 60719681.827673,
           "total pod vol": 58095532.748336,
           "value": 60719681.827673,
           "variable": "total bean vol"
          },
          {
           "pod listing vol": 44895202.140162,
           "pod order vol": 13200330.608174,
           "season": 10257,
           "timestamp": "2023-01-27T00:00:11",
           "total bean vol": 60719681.827673,
           "total pod vol": 58095532.748336,
           "value": 13200330.608174,
           "variable": "pod order vol"
          },
          {
           "pod listing vol": 44895202.140162,
           "pod order vol": 13200330.608174,
           "season": 10257,
           "timestamp": "2023-01-27T00:00:11",
           "total bean vol": 60719681.827673,
           "total pod vol": 58095532.748336,
           "value": 44895202.140162,
           "variable": "pod listing vol"
          },
          {
           "pod listing vol": 44895202.140162,
           "pod order vol": 13200330.608174,
           "season": 10281,
           "timestamp": "2023-01-28T00:00:11",
           "total bean vol": 60719681.827673,
           "total pod vol": 58095532.748336,
           "value": 44895202.140162,
           "variable": "pod listing vol"
          },
          {
           "pod listing vol": 44895202.140162,
           "pod order vol": 13200330.608174,
           "season": 10281,
           "timestamp": "2023-01-28T00:00:11",
           "total bean vol": 60719681.827673,
           "total pod vol": 58095532.748336,
           "value": 13200330.608174,
           "variable": "pod order vol"
          },
          {
           "pod listing vol": 44895202.140162,
           "pod order vol": 13200330.608174,
           "season": 10281,
           "timestamp": "2023-01-28T00:00:11",
           "total bean vol": 60719681.827673,
           "total pod vol": 58095532.748336,
           "value": 60719681.827673,
           "variable": "total bean vol"
          },
          {
           "pod listing vol": 44895202.140162,
           "pod order vol": 13200330.608174,
           "season": 10281,
           "timestamp": "2023-01-28T00:00:11",
           "total bean vol": 60719681.827673,
           "total pod vol": 58095532.748336,
           "value": 58095532.748336,
           "variable": "total pod vol"
          },
          {
           "pod listing vol": 44895202.140162,
           "pod order vol": 13200330.608174,
           "season": 10305,
           "timestamp": "2023-01-29T00:00:11",
           "total bean vol": 60737532.89743,
           "total pod vol": 58095532.748336,
           "value": 44895202.140162,
           "variable": "pod listing vol"
          },
          {
           "pod listing vol": 44895202.140162,
           "pod order vol": 13200330.608174,
           "season": 10305,
           "timestamp": "2023-01-29T00:00:11",
           "total bean vol": 60737532.89743,
           "total pod vol": 58095532.748336,
           "value": 13200330.608174,
           "variable": "pod order vol"
          },
          {
           "pod listing vol": 44895202.140162,
           "pod order vol": 13200330.608174,
           "season": 10305,
           "timestamp": "2023-01-29T00:00:11",
           "total bean vol": 60737532.89743,
           "total pod vol": 58095532.748336,
           "value": 60737532.89743,
           "variable": "total bean vol"
          },
          {
           "pod listing vol": 44895202.140162,
           "pod order vol": 13200330.608174,
           "season": 10305,
           "timestamp": "2023-01-29T00:00:11",
           "total bean vol": 60737532.89743,
           "total pod vol": 58095532.748336,
           "value": 58095532.748336,
           "variable": "total pod vol"
          },
          {
           "pod listing vol": 44895202.140162,
           "pod order vol": 13216847.608174,
           "season": 10329,
           "timestamp": "2023-01-30T00:00:11",
           "total bean vol": 60738358.74743,
           "total pod vol": 58112049.748336,
           "value": 44895202.140162,
           "variable": "pod listing vol"
          },
          {
           "pod listing vol": 44895202.140162,
           "pod order vol": 13216847.608174,
           "season": 10329,
           "timestamp": "2023-01-30T00:00:11",
           "total bean vol": 60738358.74743,
           "total pod vol": 58112049.748336,
           "value": 13216847.608174,
           "variable": "pod order vol"
          },
          {
           "pod listing vol": 44895202.140162,
           "pod order vol": 13216847.608174,
           "season": 10329,
           "timestamp": "2023-01-30T00:00:11",
           "total bean vol": 60738358.74743,
           "total pod vol": 58112049.748336,
           "value": 60738358.74743,
           "variable": "total bean vol"
          },
          {
           "pod listing vol": 44895202.140162,
           "pod order vol": 13216847.608174,
           "season": 10329,
           "timestamp": "2023-01-30T00:00:11",
           "total bean vol": 60738358.74743,
           "total pod vol": 58112049.748336,
           "value": 58112049.748336,
           "variable": "total pod vol"
          },
          {
           "pod listing vol": 44895202.140162,
           "pod order vol": 13216847.608174,
           "season": 10353,
           "timestamp": "2023-01-31T00:00:11",
           "total bean vol": 60738358.74743,
           "total pod vol": 58112049.748336,
           "value": 58112049.748336,
           "variable": "total pod vol"
          },
          {
           "pod listing vol": 44895202.140162,
           "pod order vol": 13216847.608174,
           "season": 10353,
           "timestamp": "2023-01-31T00:00:11",
           "total bean vol": 60738358.74743,
           "total pod vol": 58112049.748336,
           "value": 60738358.74743,
           "variable": "total bean vol"
          },
          {
           "pod listing vol": 44895202.140162,
           "pod order vol": 13216847.608174,
           "season": 10353,
           "timestamp": "2023-01-31T00:00:11",
           "total bean vol": 60738358.74743,
           "total pod vol": 58112049.748336,
           "value": 13216847.608174,
           "variable": "pod order vol"
          },
          {
           "pod listing vol": 44895202.140162,
           "pod order vol": 13216847.608174,
           "season": 10353,
           "timestamp": "2023-01-31T00:00:11",
           "total bean vol": 60738358.74743,
           "total pod vol": 58112049.748336,
           "value": 44895202.140162,
           "variable": "pod listing vol"
          },
          {
           "pod listing vol": 45416861.486223,
           "pod order vol": 13216847.608174,
           "season": 10377,
           "timestamp": "2023-02-01T00:00:11",
           "total bean vol": 60820993.645382,
           "total pod vol": 58633709.094397,
           "value": 45416861.486223,
           "variable": "pod listing vol"
          },
          {
           "pod listing vol": 45416861.486223,
           "pod order vol": 13216847.608174,
           "season": 10377,
           "timestamp": "2023-02-01T00:00:11",
           "total bean vol": 60820993.645382,
           "total pod vol": 58633709.094397,
           "value": 13216847.608174,
           "variable": "pod order vol"
          },
          {
           "pod listing vol": 45416861.486223,
           "pod order vol": 13216847.608174,
           "season": 10377,
           "timestamp": "2023-02-01T00:00:11",
           "total bean vol": 60820993.645382,
           "total pod vol": 58633709.094397,
           "value": 60820993.645382,
           "variable": "total bean vol"
          },
          {
           "pod listing vol": 45416861.486223,
           "pod order vol": 13216847.608174,
           "season": 10377,
           "timestamp": "2023-02-01T00:00:11",
           "total bean vol": 60820993.645382,
           "total pod vol": 58633709.094397,
           "value": 58633709.094397,
           "variable": "total pod vol"
          },
          {
           "pod listing vol": 45465220.838391,
           "pod order vol": 13467197.462035,
           "season": 10401,
           "timestamp": "2023-02-02T00:00:11",
           "total bean vol": 60836067.300608,
           "total pod vol": 58932418.300426,
           "value": 45465220.838391,
           "variable": "pod listing vol"
          },
          {
           "pod listing vol": 45465220.838391,
           "pod order vol": 13467197.462035,
           "season": 10401,
           "timestamp": "2023-02-02T00:00:11",
           "total bean vol": 60836067.300608,
           "total pod vol": 58932418.300426,
           "value": 13467197.462035,
           "variable": "pod order vol"
          },
          {
           "pod listing vol": 45465220.838391,
           "pod order vol": 13467197.462035,
           "season": 10401,
           "timestamp": "2023-02-02T00:00:11",
           "total bean vol": 60836067.300608,
           "total pod vol": 58932418.300426,
           "value": 60836067.300608,
           "variable": "total bean vol"
          },
          {
           "pod listing vol": 45465220.838391,
           "pod order vol": 13467197.462035,
           "season": 10401,
           "timestamp": "2023-02-02T00:00:11",
           "total bean vol": 60836067.300608,
           "total pod vol": 58932418.300426,
           "value": 58932418.300426,
           "variable": "total pod vol"
          },
          {
           "pod listing vol": 45465220.838391,
           "pod order vol": 13475207.040745,
           "season": 10422,
           "timestamp": "2023-02-03T00:00:11",
           "total bean vol": 60836156.206931,
           "total pod vol": 58940427.879136,
           "value": 45465220.838391,
           "variable": "pod listing vol"
          },
          {
           "pod listing vol": 45465220.838391,
           "pod order vol": 13475207.040745,
           "season": 10422,
           "timestamp": "2023-02-03T00:00:11",
           "total bean vol": 60836156.206931,
           "total pod vol": 58940427.879136,
           "value": 13475207.040745,
           "variable": "pod order vol"
          },
          {
           "pod listing vol": 45465220.838391,
           "pod order vol": 13475207.040745,
           "season": 10422,
           "timestamp": "2023-02-03T00:00:11",
           "total bean vol": 60836156.206931,
           "total pod vol": 58940427.879136,
           "value": 60836156.206931,
           "variable": "total bean vol"
          },
          {
           "pod listing vol": 45465220.838391,
           "pod order vol": 13475207.040745,
           "season": 10422,
           "timestamp": "2023-02-03T00:00:11",
           "total bean vol": 60836156.206931,
           "total pod vol": 58940427.879136,
           "value": 58940427.879136,
           "variable": "total pod vol"
          }
         ]
        },
        "layer": [
         {
          "encoding": {
           "color": {
            "field": "variable",
            "legend": {
             "title": null
            },
            "scale": {
             "domain": [
              "pod listing vol",
              "pod order vol",
              "total bean vol",
              "total pod vol"
             ],
             "range": [
              "#B5E48C",
              "#52B69A",
              "#168AAD",
              "#184E77"
             ]
            },
            "type": "nominal"
           },
           "order": {
            "field": "stack_order",
            "sort": "ascending",
            "type": "quantitative"
           },
           "x": {
            "axis": {
             "formatType": "time",
             "labelAngle": 0,
             "labelExpr": "timeFormat(toDate(datum.value), '%b %e, %Y')",
             "labelOverlap": true,
             "labelPadding": 5,
             "labelSeparation": 50,
             "ticks": false,
             "title": "Date"
            },
            "field": "timestamp",
            "type": "ordinal"
           },
           "y": {
            "axis": {
             "format": ".3~s",
             "title": "Volume"
            },
            "field": "value",
            "type": "quantitative"
           }
          },
          "mark": "area",
          "title": "Farmer's Market Volume",
          "transform": [
           {
            "as": "stack_order",
            "calculate": "datum['variable'] === 'pod listing vol' ? 0 :  datum['variable'] === 'pod order vol' ? 1 :  datum['variable'] === 'total bean vol' ? 2 :  datum['variable'] === 'total pod vol' ? 3 : 4"
           },
           {
            "filter": "datum['variable'] == 'pod listing vol' | datum['variable'] == 'pod order vol' | datum['variable'] == 'total bean vol'"
           }
          ],
          "width": 700
         },
         {
          "encoding": {
           "color": {
            "field": "variable",
            "legend": {
             "title": null
            },
            "scale": {
             "domain": [
              "pod listing vol",
              "pod order vol",
              "total bean vol",
              "total pod vol"
             ],
             "range": [
              "#B5E48C",
              "#52B69A",
              "#168AAD",
              "#184E77"
             ]
            },
            "type": "nominal"
           },
           "order": {
            "field": "stack_order",
            "sort": "ascending",
            "type": "quantitative"
           },
           "x": {
            "axis": {
             "formatType": "time",
             "labelAngle": 0,
             "labelExpr": "timeFormat(toDate(datum.value), '%b %e, %Y')",
             "labelOverlap": true,
             "labelPadding": 5,
             "labelSeparation": 50,
             "ticks": false,
             "title": "Date"
            },
            "field": "timestamp",
            "type": "ordinal"
           },
           "y": {
            "axis": {
             "format": ".3~s",
             "title": "Volume"
            },
            "field": "value",
            "type": "quantitative"
           }
          },
          "mark": "line",
          "title": "Farmer's Market Volume",
          "transform": [
           {
            "as": "stack_order",
            "calculate": "datum['variable'] === 'pod listing vol' ? 0 :  datum['variable'] === 'pod order vol' ? 1 :  datum['variable'] === 'total bean vol' ? 2 :  datum['variable'] === 'total pod vol' ? 3 : 4"
           },
           {
            "filter": "datum['variable'] == 'total pod vol'"
           }
          ],
          "width": 700
         },
         {
          "encoding": {
           "x": {
            "axis": {
             "formatType": "time",
             "labelAngle": 0,
             "labelExpr": "timeFormat(toDate(datum.value), '%b %e, %Y')",
             "labelOverlap": true,
             "labelPadding": 5,
             "labelSeparation": 50,
             "ticks": false,
             "title": "Date"
            },
            "field": "timestamp",
            "type": "ordinal"
           }
          },
          "mark": {
           "color": "#474440",
           "opacity": 1,
           "strokeDash": [
            2.5,
            1
           ],
           "type": "rule"
          },
          "title": "Farmer's Market Volume",
          "transform": [
           {
            "as": "stack_order",
            "calculate": "datum['variable'] === 'pod listing vol' ? 0 :  datum['variable'] === 'pod order vol' ? 1 :  datum['variable'] === 'total bean vol' ? 2 :  datum['variable'] === 'total pod vol' ? 3 : 4"
           },
           {
            "groupby": [
             "timestamp"
            ],
            "pivot": "variable",
            "value": "value"
           },
           {
            "filter": "\n            year(datum['timestamp']) === 2022 && \n            month(datum['timestamp']) === 3 && \n            date(datum['timestamp']) === 17 \n        "
           }
          ],
          "width": 700
         },
         {
          "encoding": {
           "opacity": {
            "condition": {
             "selection": "selector001",
             "value": 1
            },
            "value": 0
           },
           "tooltip": [
            {
             "field": "timestamp",
             "timeUnit": "yearmonthdate",
             "title": "date",
             "type": "ordinal"
            },
            {
             "field": "pod listing vol",
             "format": ",d",
             "type": "quantitative"
            },
            {
             "field": "pod order vol",
             "format": ",d",
             "type": "quantitative"
            },
            {
             "field": "total bean vol",
             "format": ",d",
             "type": "quantitative"
            },
            {
             "field": "total pod vol",
             "format": ",d",
             "type": "quantitative"
            }
           ],
           "x": {
            "axis": {
             "formatType": "time",
             "labelAngle": 0,
             "labelExpr": "timeFormat(toDate(datum.value), '%b %e, %Y')",
             "labelOverlap": true,
             "labelPadding": 5,
             "labelSeparation": 50,
             "ticks": false,
             "title": "Date"
            },
            "field": "timestamp",
            "type": "ordinal"
           }
          },
          "mark": {
           "color": "#878787",
           "type": "rule"
          },
          "selection": {
           "selector001": {
            "clear": "mouseout",
            "empty": "none",
            "fields": [
             "timestamp"
            ],
            "nearest": true,
            "on": "mouseover",
            "type": "single"
           }
          },
          "title": "Farmer's Market Volume",
          "transform": [
           {
            "as": "stack_order",
            "calculate": "datum['variable'] === 'pod listing vol' ? 0 :  datum['variable'] === 'pod order vol' ? 1 :  datum['variable'] === 'total bean vol' ? 2 :  datum['variable'] === 'total pod vol' ? 3 : 4"
           },
           {
            "groupby": [
             "timestamp"
            ],
            "pivot": "variable",
            "value": "value"
           }
          ],
          "width": 700
         }
        ]
       },
       "width_paths": [
        {
         "factor": 1,
         "path": [
          "config",
          "view",
          "continuousWidth"
         ],
         "value": 400
        },
        {
         "factor": 1,
         "path": [
          "layer",
          0,
          "width"
         ],
         "value": 700
        },
        {
         "factor": 1,
         "path": [
          "layer",
          1,
          "width"
         ],
         "value": 700
        },
        {
         "factor": 1,
         "path": [
          "layer",
          2,
          "width"
         ],
         "value": 700
        },
        {
         "factor": 1,
         "path": [
          "layer",
          3,
          "width"
         ],
         "value": 700
        }
       ]
      },
      "text/plain": [
       "<IPython.core.display.JSON object>"
      ]
     },
     "execution_count": 19,
     "metadata": {
      "application/json": {
       "expanded": false,
       "root": "root"
      }
     },
     "output_type": "execute_result"
    }
   ],
   "source": [
    "output_chart(c, css=css)"
   ]
  },
  {
   "cell_type": "code",
   "execution_count": null,
   "id": "c87f7596-fc6b-4a1a-8500-e98483c426eb",
   "metadata": {},
   "outputs": [],
   "source": []
  }
 ],
 "metadata": {
  "kernelspec": {
   "display_name": "beanstalk-analytics",
   "language": "python",
   "name": "python3"
  },
  "language_info": {
   "codemirror_mode": {
    "name": "ipython",
    "version": 3
   },
   "file_extension": ".py",
   "mimetype": "text/x-python",
   "name": "python",
   "nbconvert_exporter": "python",
   "pygments_lexer": "ipython3",
   "version": "3.10.4"
  },
  "vscode": {
   "interpreter": {
    "hash": "a94408944539dbcddf5e43b63bea71259f40c1ae2c1f9a74554ba1216a3803a6"
   }
  }
 },
 "nbformat": 4,
 "nbformat_minor": 5
}
