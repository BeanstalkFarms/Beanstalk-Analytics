{
 "cells": [
  {
   "cell_type": "code",
   "execution_count": 1,
   "id": "bb524f98-4f94-476c-b760-7d5dbae7938d",
   "metadata": {},
   "outputs": [
    {
     "name": "stdout",
     "output_type": "stream",
     "text": [
      "https://api.thegraph.com/subgraphs/name/cujowolf/beanstalk\n"
     ]
    }
   ],
   "source": [
    "import os \n",
    "import sys \n",
    "import json \n",
    "import logging \n",
    "from pathlib import Path \n",
    "from functools import cache\n",
    "from itertools import product\n",
    "\n",
    "# Required when developing in a jupyter-notebook environment \n",
    "cur_path = os.path.abspath(\"../..\")\n",
    "if cur_path not in sys.path: \n",
    "    sys.path.append(cur_path)\n",
    "\n",
    "import numpy as np \n",
    "import pandas as pd \n",
    "import altair as alt \n",
    "from altair import datum\n",
    "from palettable.scientific.sequential import Batlow_5\n",
    "from palettable.tableau import Tableau_10\n",
    "from dotenv import load_dotenv\n",
    "from subgrounds.subgrounds import Subgrounds, Subgraph\n",
    "from subgrounds.subgraph import SyntheticField\n",
    "from subgrounds.pagination import ShallowStrategy\n",
    "\n",
    "# Required when developing in a jupyter-notebook environment \n",
    "load_dotenv('../../../../.env')\n",
    "\n",
    "print(os.environ['SUBGRAPH_URL'])\n",
    "# logging.basicConfig(level=logging.DEBUG)\n",
    "\n",
    "from utils_notebook.utils import ddf, remove_prefix, load_subgraph, remove_keys\n",
    "from utils_notebook.vega import (\n",
    "    output_chart, \n",
    "    apply_css, \n",
    "    chart_bin_count_value_aggregate\n",
    ")\n",
    "from utils_notebook.testing import validate_season_series\n",
    "from utils_notebook.constants import ADDR_BEANSTALK\n",
    "from utils_notebook.queries import QueryManager\n",
    "from utils_notebook.css import css_tooltip_timeseries_multi_colored"
   ]
  },
  {
   "cell_type": "code",
   "execution_count": 2,
   "id": "accd7cb5-73d7-45ba-a392-7485b86fb82c",
   "metadata": {},
   "outputs": [
    {
     "data": {
      "text/plain": [
       "'0xc1e088fc1323b20bcbee9bd1b9fc9546db5624c5'"
      ]
     },
     "execution_count": 2,
     "metadata": {},
     "output_type": "execute_result"
    }
   ],
   "source": [
    "ADDR_BEANSTALK.lower()"
   ]
  },
  {
   "cell_type": "code",
   "execution_count": 3,
   "id": "4dda51ef-cb6a-4692-9bad-6ea39ab9c6fe",
   "metadata": {},
   "outputs": [],
   "source": [
    "sg, bs = load_subgraph()\n",
    "q = QueryManager(sg, bs) "
   ]
  },
  {
   "cell_type": "code",
   "execution_count": 4,
   "id": "f5823889",
   "metadata": {},
   "outputs": [],
   "source": [
    "farmers = bs.Query.farmers(\n",
    "    first=100000, \n",
    "    where= {'silo_': {'id_not': \"0xc1e088fc1323b20bcbee9bd1b9fc9546db5624c5\"}}\n",
    ")\n",
    "df_farmers = sg.query_df(\n",
    "    [\n",
    "        farmers.id, \n",
    "        farmers.deposits.bdv, \n",
    "        farmers.deposits.removedBDV, \n",
    "    ], \n",
    "    pagination_strategy=ShallowStrategy\n",
    ")\n",
    "df_farmers = remove_prefix(df_farmers, \"farmers_\")\n",
    "df_farmers = remove_prefix(df_farmers, \"deposits_\")"
   ]
  },
  {
   "cell_type": "code",
   "execution_count": 5,
   "id": "6acb5471-d48b-4717-a714-0d5781cdced8",
   "metadata": {},
   "outputs": [
    {
     "data": {
      "text/html": [
       "<div>\n",
       "<style scoped>\n",
       "    .dataframe tbody tr th:only-of-type {\n",
       "        vertical-align: middle;\n",
       "    }\n",
       "\n",
       "    .dataframe tbody tr th {\n",
       "        vertical-align: top;\n",
       "    }\n",
       "\n",
       "    .dataframe thead th {\n",
       "        text-align: right;\n",
       "    }\n",
       "</style>\n",
       "<table border=\"1\" class=\"dataframe\">\n",
       "  <thead>\n",
       "    <tr style=\"text-align: right;\">\n",
       "      <th></th>\n",
       "      <th>address</th>\n",
       "      <th>bdv</th>\n",
       "    </tr>\n",
       "  </thead>\n",
       "  <tbody>\n",
       "    <tr>\n",
       "      <th>0</th>\n",
       "      <td>0x0000000002ce79aacd54227d2163ff3791338975</td>\n",
       "      <td>0.000000</td>\n",
       "    </tr>\n",
       "    <tr>\n",
       "      <th>1</th>\n",
       "      <td>0x0000002e4f99cb1e699042699b91623b1334d2f7</td>\n",
       "      <td>0.000000</td>\n",
       "    </tr>\n",
       "    <tr>\n",
       "      <th>2</th>\n",
       "      <td>0x0000002e4f99cb1e699042699b91623b1334d2f7</td>\n",
       "      <td>0.000000</td>\n",
       "    </tr>\n",
       "    <tr>\n",
       "      <th>3</th>\n",
       "      <td>0x0000002e4f99cb1e699042699b91623b1334d2f7</td>\n",
       "      <td>0.000167</td>\n",
       "    </tr>\n",
       "    <tr>\n",
       "      <th>4</th>\n",
       "      <td>0x0000002e4f99cb1e699042699b91623b1334d2f7</td>\n",
       "      <td>0.000000</td>\n",
       "    </tr>\n",
       "  </tbody>\n",
       "</table>\n",
       "</div>"
      ],
      "text/plain": [
       "                                      address       bdv\n",
       "0  0x0000000002ce79aacd54227d2163ff3791338975  0.000000\n",
       "1  0x0000002e4f99cb1e699042699b91623b1334d2f7  0.000000\n",
       "2  0x0000002e4f99cb1e699042699b91623b1334d2f7  0.000000\n",
       "3  0x0000002e4f99cb1e699042699b91623b1334d2f7  0.000167\n",
       "4  0x0000002e4f99cb1e699042699b91623b1334d2f7  0.000000"
      ]
     },
     "execution_count": 5,
     "metadata": {},
     "output_type": "execute_result"
    }
   ],
   "source": [
    "df_farmers.bdv = (df_farmers.bdv - df_farmers.removedBDV) / 1e6 \n",
    "df_farmers = df_farmers.drop(columns=['removedBDV']) \n",
    "df_farmers = df_farmers.rename(columns={\"id\": \"address\"})\n",
    "assert df_farmers.bdv.min() >= 0\n",
    "df_farmers.head()"
   ]
  },
  {
   "cell_type": "code",
   "execution_count": 6,
   "id": "013a35a6-f244-4bf6-b525-35b1970dfd20",
   "metadata": {},
   "outputs": [
    {
     "name": "stderr",
     "output_type": "stream",
     "text": [
      "/Users/ALEX/opt/anaconda3/envs/beanstalk/lib/python3.10/site-packages/altair/utils/core.py:317: FutureWarning: iteritems is deprecated and will be removed in a future version. Use .items instead.\n",
      "  for col_name, dtype in df.dtypes.iteritems():\n"
     ]
    },
    {
     "data": {
      "text/html": [
       "\n",
       "<div id=\"altair-viz-c08879abe65e45b7930bc49cecaef62d\"></div>\n",
       "<script type=\"text/javascript\">\n",
       "  var VEGA_DEBUG = (typeof VEGA_DEBUG == \"undefined\") ? {} : VEGA_DEBUG;\n",
       "  (function(spec, embedOpt){\n",
       "    let outputDiv = document.currentScript.previousElementSibling;\n",
       "    if (outputDiv.id !== \"altair-viz-c08879abe65e45b7930bc49cecaef62d\") {\n",
       "      outputDiv = document.getElementById(\"altair-viz-c08879abe65e45b7930bc49cecaef62d\");\n",
       "    }\n",
       "    const paths = {\n",
       "      \"vega\": \"https://cdn.jsdelivr.net/npm//vega@5?noext\",\n",
       "      \"vega-lib\": \"https://cdn.jsdelivr.net/npm//vega-lib?noext\",\n",
       "      \"vega-lite\": \"https://cdn.jsdelivr.net/npm//vega-lite@4.17.0?noext\",\n",
       "      \"vega-embed\": \"https://cdn.jsdelivr.net/npm//vega-embed@6?noext\",\n",
       "    };\n",
       "\n",
       "    function maybeLoadScript(lib, version) {\n",
       "      var key = `${lib.replace(\"-\", \"\")}_version`;\n",
       "      return (VEGA_DEBUG[key] == version) ?\n",
       "        Promise.resolve(paths[lib]) :\n",
       "        new Promise(function(resolve, reject) {\n",
       "          var s = document.createElement('script');\n",
       "          document.getElementsByTagName(\"head\")[0].appendChild(s);\n",
       "          s.async = true;\n",
       "          s.onload = () => {\n",
       "            VEGA_DEBUG[key] = version;\n",
       "            return resolve(paths[lib]);\n",
       "          };\n",
       "          s.onerror = () => reject(`Error loading script: ${paths[lib]}`);\n",
       "          s.src = paths[lib];\n",
       "        });\n",
       "    }\n",
       "\n",
       "    function showError(err) {\n",
       "      outputDiv.innerHTML = `<div class=\"error\" style=\"color:red;\">${err}</div>`;\n",
       "      throw err;\n",
       "    }\n",
       "\n",
       "    function displayChart(vegaEmbed) {\n",
       "      vegaEmbed(outputDiv, spec, embedOpt)\n",
       "        .catch(err => showError(`Javascript Error: ${err.message}<br>This usually means there's a typo in your chart specification. See the javascript console for the full traceback.`));\n",
       "    }\n",
       "\n",
       "    if(typeof define === \"function\" && define.amd) {\n",
       "      requirejs.config({paths});\n",
       "      require([\"vega-embed\"], displayChart, err => showError(`Error loading script: ${err.message}`));\n",
       "    } else {\n",
       "      maybeLoadScript(\"vega\", \"5\")\n",
       "        .then(() => maybeLoadScript(\"vega-lite\", \"4.17.0\"))\n",
       "        .then(() => maybeLoadScript(\"vega-embed\", \"6\"))\n",
       "        .catch(showError)\n",
       "        .then(() => displayChart(vegaEmbed));\n",
       "    }\n",
       "  })({\"config\": {\"view\": {\"continuousWidth\": 400, \"continuousHeight\": 300}}, \"vconcat\": [{\"layer\": [{\"mark\": \"bar\", \"encoding\": {\"color\": {\"field\": \"class\", \"legend\": null, \"scale\": {\"domain\": [\"001.1 - 1,000 bdv\", \"002.1,000 - 5,000 bdv\", \"003.5,000 - 10,000 bdv\", \"004.10,000 - 25,000 bdv\", \"005.25,000 - 50,000 bdv\", \"006.50,000 - 100,000 bdv\", \"007.100,000 - 250,000 bdv\", \"008.250,000 - 500,000 bdv\", \"009.500,000 - 1,000,000 bdv\", \"010.1,000,000 - 5,000,000 bdv\"], \"range\": [\"#1F77B4\", \"#AEC7E8\", \"#FF7F0E\", \"#FFBB78\", \"#2CA02C\", \"#98DF8A\", \"#D62728\", \"#FF9896\", \"#9467BD\", \"#C5B0D5\"]}, \"type\": \"ordinal\"}, \"stroke\": {\"condition\": {\"value\": \"black\", \"selection\": \"selector001\"}, \"value\": \"white\"}, \"x\": {\"axis\": null, \"field\": \"class\", \"type\": \"ordinal\"}, \"y\": {\"axis\": {\"title\": \"Unique Addresses\"}, \"field\": \"count\", \"type\": \"quantitative\"}}, \"height\": 200, \"selection\": {\"selector001\": {\"type\": \"single\", \"encodings\": [\"x\"], \"nearest\": true, \"on\": \"mouseover\", \"empty\": \"none\", \"clear\": \"mouseout\"}}, \"title\": \"Count Addresses by Classification\", \"width\": 400}, {\"mark\": {\"type\": \"text\", \"color\": \"black\", \"dy\": -10}, \"encoding\": {\"color\": {\"value\": \"black\"}, \"stroke\": {\"value\": \"black\"}, \"strokeWidth\": {\"condition\": {\"value\": 0.6, \"selection\": \"selector001\"}, \"value\": 0}, \"text\": {\"field\": \"count\", \"format\": \",d\", \"type\": \"quantitative\"}, \"x\": {\"axis\": null, \"field\": \"class\", \"type\": \"ordinal\"}, \"y\": {\"axis\": {\"title\": \"Unique Addresses\"}, \"field\": \"count\", \"type\": \"quantitative\"}}, \"height\": 200, \"title\": \"Count Addresses by Classification\", \"width\": 400}], \"data\": {\"name\": \"data-db59425bbe55769ac4d80eb88da25dbf\"}}, {\"layer\": [{\"mark\": \"bar\", \"encoding\": {\"color\": {\"field\": \"class\", \"legend\": null, \"scale\": {\"domain\": [\"001.1 - 1,000 bdv\", \"002.1,000 - 5,000 bdv\", \"003.5,000 - 10,000 bdv\", \"004.10,000 - 25,000 bdv\", \"005.25,000 - 50,000 bdv\", \"006.50,000 - 100,000 bdv\", \"007.100,000 - 250,000 bdv\", \"008.250,000 - 500,000 bdv\", \"009.500,000 - 1,000,000 bdv\", \"010.1,000,000 - 5,000,000 bdv\"], \"range\": [\"#1F77B4\", \"#AEC7E8\", \"#FF7F0E\", \"#FFBB78\", \"#2CA02C\", \"#98DF8A\", \"#D62728\", \"#FF9896\", \"#9467BD\", \"#C5B0D5\"]}, \"type\": \"ordinal\"}, \"stroke\": {\"condition\": {\"value\": \"black\", \"selection\": \"selector001\"}, \"value\": \"white\"}, \"x\": {\"axis\": {\"labelExpr\": \"split(datum.value, '.')[1]\", \"title\": \"Classification\"}, \"field\": \"class\", \"type\": \"ordinal\"}, \"y\": {\"axis\": {\"format\": \".2s\", \"title\": \"Bdv\"}, \"field\": \"bdv\", \"type\": \"quantitative\"}}, \"height\": 200, \"selection\": {\"selector001\": {\"type\": \"single\", \"encodings\": [\"x\"], \"nearest\": true, \"on\": \"mouseover\", \"empty\": \"none\", \"clear\": \"mouseout\"}}, \"title\": \"Cumulative Bdv by Classification\", \"width\": 400}, {\"mark\": {\"type\": \"text\", \"color\": \"black\", \"dy\": -5}, \"encoding\": {\"stroke\": {\"value\": \"black\"}, \"strokeWidth\": {\"condition\": {\"value\": 0.6, \"selection\": \"selector001\"}, \"value\": 0}, \"text\": {\"field\": \"bdv\", \"format\": \".3s\", \"type\": \"quantitative\"}, \"x\": {\"axis\": {\"labelExpr\": \"split(datum.value, '.')[1]\", \"title\": \"Classification\"}, \"field\": \"class\", \"type\": \"ordinal\"}, \"y\": {\"axis\": {\"format\": \".2s\", \"title\": \"Bdv\"}, \"field\": \"bdv\", \"type\": \"quantitative\"}}, \"height\": 200, \"title\": \"Cumulative Bdv by Classification\", \"width\": 400}], \"data\": {\"name\": \"data-900ed8545e85375504e50584fcb93e34\"}}], \"$schema\": \"https://vega.github.io/schema/vega-lite/v4.17.0.json\", \"datasets\": {\"data-db59425bbe55769ac4d80eb88da25dbf\": [{\"class\": \"001.1 - 1,000 bdv\", \"count\": 934}, {\"class\": \"002.1,000 - 5,000 bdv\", \"count\": 531}, {\"class\": \"003.5,000 - 10,000 bdv\", \"count\": 183}, {\"class\": \"004.10,000 - 25,000 bdv\", \"count\": 201}, {\"class\": \"005.25,000 - 50,000 bdv\", \"count\": 93}, {\"class\": \"006.50,000 - 100,000 bdv\", \"count\": 71}, {\"class\": \"007.100,000 - 250,000 bdv\", \"count\": 52}, {\"class\": \"008.250,000 - 500,000 bdv\", \"count\": 24}, {\"class\": \"009.500,000 - 1,000,000 bdv\", \"count\": 9}, {\"class\": \"010.1,000,000 - 5,000,000 bdv\", \"count\": 2}], \"data-900ed8545e85375504e50584fcb93e34\": [{\"class\": \"001.1 - 1,000 bdv\", \"bdv\": 249783.575712}, {\"class\": \"002.1,000 - 5,000 bdv\", \"bdv\": 1292163.92064}, {\"class\": \"003.5,000 - 10,000 bdv\", \"bdv\": 1299380.036869}, {\"class\": \"004.10,000 - 25,000 bdv\", \"bdv\": 3266105.704443}, {\"class\": \"005.25,000 - 50,000 bdv\", \"bdv\": 3360593.306951}, {\"class\": \"006.50,000 - 100,000 bdv\", \"bdv\": 5058320.43682}, {\"class\": \"007.100,000 - 250,000 bdv\", \"bdv\": 8548482.523311}, {\"class\": \"008.250,000 - 500,000 bdv\", \"bdv\": 7702598.317346999}, {\"class\": \"009.500,000 - 1,000,000 bdv\", \"bdv\": 6366740.021355}, {\"class\": \"010.1,000,000 - 5,000,000 bdv\", \"bdv\": 3376866.5263450006}]}}, {\"mode\": \"vega-lite\"});\n",
       "</script>"
      ],
      "text/plain": [
       "alt.VConcatChart(...)"
      ]
     },
     "execution_count": 6,
     "metadata": {},
     "output_type": "execute_result"
    }
   ],
   "source": [
    "breakpoints = [\n",
    "    1, 1e3, .5e4, 1e4, 2.5e4, 5e4, 1e5, 2.5e5, 5e5, 1e6, 5e6, float(\"inf\") \n",
    "]\n",
    "c = chart_bin_count_value_aggregate(df_farmers, \"bdv\", breakpoints)\n",
    "c"
   ]
  },
  {
   "cell_type": "code",
   "execution_count": 7,
   "id": "d6752862",
   "metadata": {},
   "outputs": [
    {
     "data": {
      "application/json": {
       "css": null,
       "spec": {
        "$schema": "https://vega.github.io/schema/vega-lite/v4.17.0.json",
        "config": {
         "view": {
          "continuousHeight": 300,
          "continuousWidth": 400
         }
        },
        "datasets": {
         "data-900ed8545e85375504e50584fcb93e34": [
          {
           "bdv": 249783.575712,
           "class": "001.1 - 1,000 bdv"
          },
          {
           "bdv": 1292163.92064,
           "class": "002.1,000 - 5,000 bdv"
          },
          {
           "bdv": 1299380.036869,
           "class": "003.5,000 - 10,000 bdv"
          },
          {
           "bdv": 3266105.704443,
           "class": "004.10,000 - 25,000 bdv"
          },
          {
           "bdv": 3360593.306951,
           "class": "005.25,000 - 50,000 bdv"
          },
          {
           "bdv": 5058320.43682,
           "class": "006.50,000 - 100,000 bdv"
          },
          {
           "bdv": 8548482.523311,
           "class": "007.100,000 - 250,000 bdv"
          },
          {
           "bdv": 7702598.317346999,
           "class": "008.250,000 - 500,000 bdv"
          },
          {
           "bdv": 6366740.021355,
           "class": "009.500,000 - 1,000,000 bdv"
          },
          {
           "bdv": 3376866.5263450006,
           "class": "010.1,000,000 - 5,000,000 bdv"
          }
         ],
         "data-db59425bbe55769ac4d80eb88da25dbf": [
          {
           "class": "001.1 - 1,000 bdv",
           "count": 934
          },
          {
           "class": "002.1,000 - 5,000 bdv",
           "count": 531
          },
          {
           "class": "003.5,000 - 10,000 bdv",
           "count": 183
          },
          {
           "class": "004.10,000 - 25,000 bdv",
           "count": 201
          },
          {
           "class": "005.25,000 - 50,000 bdv",
           "count": 93
          },
          {
           "class": "006.50,000 - 100,000 bdv",
           "count": 71
          },
          {
           "class": "007.100,000 - 250,000 bdv",
           "count": 52
          },
          {
           "class": "008.250,000 - 500,000 bdv",
           "count": 24
          },
          {
           "class": "009.500,000 - 1,000,000 bdv",
           "count": 9
          },
          {
           "class": "010.1,000,000 - 5,000,000 bdv",
           "count": 2
          }
         ]
        },
        "vconcat": [
         {
          "data": {
           "name": "data-db59425bbe55769ac4d80eb88da25dbf"
          },
          "layer": [
           {
            "encoding": {
             "color": {
              "field": "class",
              "legend": null,
              "scale": {
               "domain": [
                "001.1 - 1,000 bdv",
                "002.1,000 - 5,000 bdv",
                "003.5,000 - 10,000 bdv",
                "004.10,000 - 25,000 bdv",
                "005.25,000 - 50,000 bdv",
                "006.50,000 - 100,000 bdv",
                "007.100,000 - 250,000 bdv",
                "008.250,000 - 500,000 bdv",
                "009.500,000 - 1,000,000 bdv",
                "010.1,000,000 - 5,000,000 bdv"
               ],
               "range": [
                "#1F77B4",
                "#AEC7E8",
                "#FF7F0E",
                "#FFBB78",
                "#2CA02C",
                "#98DF8A",
                "#D62728",
                "#FF9896",
                "#9467BD",
                "#C5B0D5"
               ]
              },
              "type": "ordinal"
             },
             "stroke": {
              "condition": {
               "selection": "selector001",
               "value": "black"
              },
              "value": "white"
             },
             "x": {
              "axis": null,
              "field": "class",
              "type": "ordinal"
             },
             "y": {
              "axis": {
               "title": "Unique Addresses"
              },
              "field": "count",
              "type": "quantitative"
             }
            },
            "height": 200,
            "mark": "bar",
            "selection": {
             "selector001": {
              "clear": "mouseout",
              "empty": "none",
              "encodings": [
               "x"
              ],
              "nearest": true,
              "on": "mouseover",
              "type": "single"
             }
            },
            "title": "Count Addresses by Classification",
            "width": 400
           },
           {
            "encoding": {
             "color": {
              "value": "black"
             },
             "stroke": {
              "value": "black"
             },
             "strokeWidth": {
              "condition": {
               "selection": "selector001",
               "value": 0.6
              },
              "value": 0
             },
             "text": {
              "field": "count",
              "format": ",d",
              "type": "quantitative"
             },
             "x": {
              "axis": null,
              "field": "class",
              "type": "ordinal"
             },
             "y": {
              "axis": {
               "title": "Unique Addresses"
              },
              "field": "count",
              "type": "quantitative"
             }
            },
            "height": 200,
            "mark": {
             "color": "black",
             "dy": -10,
             "type": "text"
            },
            "title": "Count Addresses by Classification",
            "width": 400
           }
          ]
         },
         {
          "data": {
           "name": "data-900ed8545e85375504e50584fcb93e34"
          },
          "layer": [
           {
            "encoding": {
             "color": {
              "field": "class",
              "legend": null,
              "scale": {
               "domain": [
                "001.1 - 1,000 bdv",
                "002.1,000 - 5,000 bdv",
                "003.5,000 - 10,000 bdv",
                "004.10,000 - 25,000 bdv",
                "005.25,000 - 50,000 bdv",
                "006.50,000 - 100,000 bdv",
                "007.100,000 - 250,000 bdv",
                "008.250,000 - 500,000 bdv",
                "009.500,000 - 1,000,000 bdv",
                "010.1,000,000 - 5,000,000 bdv"
               ],
               "range": [
                "#1F77B4",
                "#AEC7E8",
                "#FF7F0E",
                "#FFBB78",
                "#2CA02C",
                "#98DF8A",
                "#D62728",
                "#FF9896",
                "#9467BD",
                "#C5B0D5"
               ]
              },
              "type": "ordinal"
             },
             "stroke": {
              "condition": {
               "selection": "selector001",
               "value": "black"
              },
              "value": "white"
             },
             "x": {
              "axis": {
               "labelExpr": "split(datum.value, '.')[1]",
               "title": "Classification"
              },
              "field": "class",
              "type": "ordinal"
             },
             "y": {
              "axis": {
               "format": ".2s",
               "title": "Bdv"
              },
              "field": "bdv",
              "type": "quantitative"
             }
            },
            "height": 200,
            "mark": "bar",
            "selection": {
             "selector001": {
              "clear": "mouseout",
              "empty": "none",
              "encodings": [
               "x"
              ],
              "nearest": true,
              "on": "mouseover",
              "type": "single"
             }
            },
            "title": "Cumulative Bdv by Classification",
            "width": 400
           },
           {
            "encoding": {
             "stroke": {
              "value": "black"
             },
             "strokeWidth": {
              "condition": {
               "selection": "selector001",
               "value": 0.6
              },
              "value": 0
             },
             "text": {
              "field": "bdv",
              "format": ".3s",
              "type": "quantitative"
             },
             "x": {
              "axis": {
               "labelExpr": "split(datum.value, '.')[1]",
               "title": "Classification"
              },
              "field": "class",
              "type": "ordinal"
             },
             "y": {
              "axis": {
               "format": ".2s",
               "title": "Bdv"
              },
              "field": "bdv",
              "type": "quantitative"
             }
            },
            "height": 200,
            "mark": {
             "color": "black",
             "dy": -5,
             "type": "text"
            },
            "title": "Cumulative Bdv by Classification",
            "width": 400
           }
          ]
         }
        ]
       },
       "width_paths": [
        {
         "factor": 1,
         "path": [
          "config",
          "view",
          "continuousWidth"
         ],
         "value": 400
        },
        {
         "factor": 1,
         "path": [
          "vconcat",
          0,
          "layer",
          0,
          "width"
         ],
         "value": 400
        },
        {
         "factor": 1,
         "path": [
          "vconcat",
          0,
          "layer",
          1,
          "width"
         ],
         "value": 400
        },
        {
         "factor": 1,
         "path": [
          "vconcat",
          1,
          "layer",
          0,
          "width"
         ],
         "value": 400
        },
        {
         "factor": 1,
         "path": [
          "vconcat",
          1,
          "layer",
          1,
          "width"
         ],
         "value": 400
        }
       ]
      },
      "text/plain": [
       "<IPython.core.display.JSON object>"
      ]
     },
     "execution_count": 7,
     "metadata": {
      "application/json": {
       "expanded": false,
       "root": "root"
      }
     },
     "output_type": "execute_result"
    }
   ],
   "source": [
    "output_chart(c)"
   ]
  },
  {
   "cell_type": "code",
   "execution_count": null,
   "id": "2b85c342",
   "metadata": {},
   "outputs": [],
   "source": []
  }
 ],
 "metadata": {
  "kernelspec": {
   "display_name": "beanstalk",
   "language": "python",
   "name": "beanstalk"
  },
  "language_info": {
   "codemirror_mode": {
    "name": "ipython",
    "version": 3
   },
   "file_extension": ".py",
   "mimetype": "text/x-python",
   "name": "python",
   "nbconvert_exporter": "python",
   "pygments_lexer": "ipython3",
   "version": "3.10.5"
  }
 },
 "nbformat": 4,
 "nbformat_minor": 5
}
