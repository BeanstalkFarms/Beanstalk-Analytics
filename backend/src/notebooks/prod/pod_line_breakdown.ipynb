{
 "cells": [
  {
   "cell_type": "code",
   "execution_count": 58,
   "id": "bb524f98-4f94-476c-b760-7d5dbae7938d",
   "metadata": {},
   "outputs": [
    {
     "name": "stdout",
     "output_type": "stream",
     "text": [
      "https://api.thegraph.com/subgraphs/name/cujowolf/beanstalk\n"
     ]
    }
   ],
   "source": [
    "import os \n",
    "import sys \n",
    "import json \n",
    "import logging \n",
    "from pathlib import Path \n",
    "from functools import cache\n",
    "from itertools import product\n",
    "\n",
    "# Required when developing in a jupyter-notebook environment \n",
    "cur_path = os.path.abspath(\"../..\")\n",
    "if cur_path not in sys.path: \n",
    "    sys.path.append(cur_path)\n",
    "\n",
    "import numpy as np \n",
    "import pandas as pd \n",
    "import altair as alt \n",
    "from altair import datum\n",
    "from dotenv import load_dotenv\n",
    "from subgrounds.subgrounds import Subgrounds, Subgraph\n",
    "from subgrounds.subgraph import SyntheticField\n",
    "from subgrounds.pagination import ShallowStrategy\n",
    "\n",
    "# Required when developing in a jupyter-notebook environment \n",
    "load_dotenv('../../../../.env')\n",
    "\n",
    "print(os.environ['SUBGRAPH_URL'])\n",
    "\n",
    "from utils_notebook.utils import ddf, remove_prefix, load_subgraph, remove_keys\n",
    "from utils_notebook.vega import (\n",
    "    output_chart, \n",
    "    apply_css, \n",
    "    wide_to_longwide, \n",
    "    chart, \n",
    ")\n",
    "from utils_notebook.testing import validate_season_series\n",
    "from utils_notebook.constants import ADDR_BEANSTALK\n",
    "from utils_notebook.queries import QueryManager\n",
    "from utils_notebook.css import css_tooltip_timeseries_multi_colored"
   ]
  },
  {
   "cell_type": "code",
   "execution_count": 51,
   "id": "4dda51ef-cb6a-4692-9bad-6ea39ab9c6fe",
   "metadata": {},
   "outputs": [],
   "source": [
    "sg, bs = load_subgraph()\n",
    "q = QueryManager(sg, bs) "
   ]
  },
  {
   "cell_type": "code",
   "execution_count": 52,
   "id": "f5823889",
   "metadata": {},
   "outputs": [],
   "source": [
    "@cache\n",
    "def query_field_daily_snapshots(**kwargs): \n",
    "    return q.query_field_daily_snapshots(fields=['season', 'timestamp', 'totalHarvestablePods', 'totalHarvestedPods', 'totalPods']) "
   ]
  },
  {
   "cell_type": "code",
   "execution_count": 68,
   "id": "19a0bd2a-15e2-4e6c-925b-91a138d3d7f8",
   "metadata": {},
   "outputs": [
    {
     "data": {
      "text/html": [
       "<div>\n",
       "<style scoped>\n",
       "    .dataframe tbody tr th:only-of-type {\n",
       "        vertical-align: middle;\n",
       "    }\n",
       "\n",
       "    .dataframe tbody tr th {\n",
       "        vertical-align: top;\n",
       "    }\n",
       "\n",
       "    .dataframe thead th {\n",
       "        text-align: right;\n",
       "    }\n",
       "</style>\n",
       "<table border=\"1\" class=\"dataframe\">\n",
       "  <thead>\n",
       "    <tr style=\"text-align: right;\">\n",
       "      <th></th>\n",
       "      <th>season</th>\n",
       "      <th>harvestable_pods</th>\n",
       "      <th>harvested_pods</th>\n",
       "      <th>timestamp</th>\n",
       "      <th>total_pods</th>\n",
       "      <th>unharvestable_pods</th>\n",
       "    </tr>\n",
       "  </thead>\n",
       "  <tbody>\n",
       "    <tr>\n",
       "      <th>0</th>\n",
       "      <td>25</td>\n",
       "      <td>5049.266341</td>\n",
       "      <td>0.000000</td>\n",
       "      <td>2021-08-07 00:06:08</td>\n",
       "      <td>4899.059312</td>\n",
       "      <td>0.0</td>\n",
       "    </tr>\n",
       "    <tr>\n",
       "      <th>1</th>\n",
       "      <td>49</td>\n",
       "      <td>337.098080</td>\n",
       "      <td>15526.430505</td>\n",
       "      <td>2021-08-08 00:08:15</td>\n",
       "      <td>2502.841552</td>\n",
       "      <td>0.0</td>\n",
       "    </tr>\n",
       "    <tr>\n",
       "      <th>2</th>\n",
       "      <td>73</td>\n",
       "      <td>1479.961469</td>\n",
       "      <td>21827.924952</td>\n",
       "      <td>2021-08-09 00:15:57</td>\n",
       "      <td>6821.395704</td>\n",
       "      <td>0.0</td>\n",
       "    </tr>\n",
       "    <tr>\n",
       "      <th>3</th>\n",
       "      <td>97</td>\n",
       "      <td>7611.092329</td>\n",
       "      <td>25843.746295</td>\n",
       "      <td>2021-08-10 00:01:29</td>\n",
       "      <td>0.000000</td>\n",
       "      <td>0.0</td>\n",
       "    </tr>\n",
       "    <tr>\n",
       "      <th>4</th>\n",
       "      <td>121</td>\n",
       "      <td>6904.487041</td>\n",
       "      <td>26550.351583</td>\n",
       "      <td>2021-08-11 00:00:05</td>\n",
       "      <td>0.000000</td>\n",
       "      <td>0.0</td>\n",
       "    </tr>\n",
       "  </tbody>\n",
       "</table>\n",
       "</div>"
      ],
      "text/plain": [
       "   season  harvestable_pods  harvested_pods           timestamp   total_pods  \\\n",
       "0      25       5049.266341        0.000000 2021-08-07 00:06:08  4899.059312   \n",
       "1      49        337.098080    15526.430505 2021-08-08 00:08:15  2502.841552   \n",
       "2      73       1479.961469    21827.924952 2021-08-09 00:15:57  6821.395704   \n",
       "3      97       7611.092329    25843.746295 2021-08-10 00:01:29     0.000000   \n",
       "4     121       6904.487041    26550.351583 2021-08-11 00:00:05     0.000000   \n",
       "\n",
       "   unharvestable_pods  \n",
       "0                 0.0  \n",
       "1                 0.0  \n",
       "2                 0.0  \n",
       "3                 0.0  \n",
       "4                 0.0  "
      ]
     },
     "execution_count": 68,
     "metadata": {},
     "output_type": "execute_result"
    }
   ],
   "source": [
    "df_field = query_field_daily_snapshots(cache=1).copy()\n",
    "df_field = df_field.rename(columns={\n",
    "    'totalHarvestablePods': 'harvestable_pods', \n",
    "    'totalHarvestedPods': 'harvested_pods', \n",
    "    'totalPods': 'total_pods', \n",
    "})\n",
    "df_field['unharvestable_pods'] = df_field.total_pods - df_field.harvestable_pods\n",
    "# TODO: Quick and dirty fix bc the subgraph is broken here. \n",
    "# See subgraph issue https://github.com/BeanstalkFarms/Beanstalk-Subgraph/issues/38\n",
    "df_field.loc[df_field.unharvestable_pods < 0, 'unharvestable_pods'] = 0\n",
    "df_field['harvestable_pods'] = df_field.harvestable_pods - df_field.harvested_pods \n",
    "# df_field['unharvestable_ratio'] = df_field.unharvestable_pods / df_field.total_pods\n",
    "df_field.head()"
   ]
  },
  {
   "cell_type": "code",
   "execution_count": 69,
   "id": "3724acbd-2f44-4aae-86e7-a53930c8c9f2",
   "metadata": {},
   "outputs": [
    {
     "data": {
      "text/html": [
       "<div>\n",
       "<style scoped>\n",
       "    .dataframe tbody tr th:only-of-type {\n",
       "        vertical-align: middle;\n",
       "    }\n",
       "\n",
       "    .dataframe tbody tr th {\n",
       "        vertical-align: top;\n",
       "    }\n",
       "\n",
       "    .dataframe thead th {\n",
       "        text-align: right;\n",
       "    }\n",
       "</style>\n",
       "<table border=\"1\" class=\"dataframe\">\n",
       "  <thead>\n",
       "    <tr style=\"text-align: right;\">\n",
       "      <th></th>\n",
       "      <th>timestamp</th>\n",
       "      <th>season</th>\n",
       "      <th>variable</th>\n",
       "      <th>value</th>\n",
       "      <th>unharvestable_pods</th>\n",
       "      <th>harvested_pods</th>\n",
       "      <th>harvestable_pods</th>\n",
       "    </tr>\n",
       "  </thead>\n",
       "  <tbody>\n",
       "    <tr>\n",
       "      <th>0</th>\n",
       "      <td>2021-08-07 00:06:08</td>\n",
       "      <td>25</td>\n",
       "      <td>unharvestable_pods</td>\n",
       "      <td>0.000000</td>\n",
       "      <td>0.0</td>\n",
       "      <td>0.000000</td>\n",
       "      <td>5049.266341</td>\n",
       "    </tr>\n",
       "    <tr>\n",
       "      <th>1</th>\n",
       "      <td>2021-08-07 00:06:08</td>\n",
       "      <td>25</td>\n",
       "      <td>harvested_pods</td>\n",
       "      <td>0.000000</td>\n",
       "      <td>0.0</td>\n",
       "      <td>0.000000</td>\n",
       "      <td>5049.266341</td>\n",
       "    </tr>\n",
       "    <tr>\n",
       "      <th>2</th>\n",
       "      <td>2021-08-07 00:06:08</td>\n",
       "      <td>25</td>\n",
       "      <td>harvestable_pods</td>\n",
       "      <td>5049.266341</td>\n",
       "      <td>0.0</td>\n",
       "      <td>0.000000</td>\n",
       "      <td>5049.266341</td>\n",
       "    </tr>\n",
       "    <tr>\n",
       "      <th>3</th>\n",
       "      <td>2021-08-08 00:08:15</td>\n",
       "      <td>49</td>\n",
       "      <td>unharvestable_pods</td>\n",
       "      <td>0.000000</td>\n",
       "      <td>0.0</td>\n",
       "      <td>15526.430505</td>\n",
       "      <td>337.098080</td>\n",
       "    </tr>\n",
       "    <tr>\n",
       "      <th>4</th>\n",
       "      <td>2021-08-08 00:08:15</td>\n",
       "      <td>49</td>\n",
       "      <td>harvested_pods</td>\n",
       "      <td>15526.430505</td>\n",
       "      <td>0.0</td>\n",
       "      <td>15526.430505</td>\n",
       "      <td>337.098080</td>\n",
       "    </tr>\n",
       "  </tbody>\n",
       "</table>\n",
       "</div>"
      ],
      "text/plain": [
       "            timestamp  season            variable         value  \\\n",
       "0 2021-08-07 00:06:08      25  unharvestable_pods      0.000000   \n",
       "1 2021-08-07 00:06:08      25      harvested_pods      0.000000   \n",
       "2 2021-08-07 00:06:08      25    harvestable_pods   5049.266341   \n",
       "3 2021-08-08 00:08:15      49  unharvestable_pods      0.000000   \n",
       "4 2021-08-08 00:08:15      49      harvested_pods  15526.430505   \n",
       "\n",
       "   unharvestable_pods  harvested_pods  harvestable_pods  \n",
       "0                 0.0        0.000000       5049.266341  \n",
       "1                 0.0        0.000000       5049.266341  \n",
       "2                 0.0        0.000000       5049.266341  \n",
       "3                 0.0    15526.430505        337.098080  \n",
       "4                 0.0    15526.430505        337.098080  "
      ]
     },
     "execution_count": 69,
     "metadata": {},
     "output_type": "execute_result"
    }
   ],
   "source": [
    "id_vars = ['timestamp', 'season']\n",
    "value_vars = [\n",
    "   'unharvestable_pods', 'harvested_pods', 'harvestable_pods', \n",
    "   # 'unharvestable_ratio'\n",
    "]\n",
    "df = wide_to_longwide(df_field, \"timestamp\", id_vars, value_vars, sort_col=\"timestamp\") \n",
    "df.head()"
   ]
  },
  {
   "cell_type": "code",
   "execution_count": 70,
   "id": "013a35a6-f244-4bf6-b525-35b1970dfd20",
   "metadata": {},
   "outputs": [
    {
     "data": {
      "text/html": [
       "<style></style>"
      ],
      "text/plain": [
       "<IPython.core.display.HTML object>"
      ]
     },
     "metadata": {},
     "output_type": "display_data"
    },
    {
     "name": "stderr",
     "output_type": "stream",
     "text": [
      "/Users/ALEX/opt/anaconda3/envs/beanstalk/lib/python3.10/site-packages/altair/utils/core.py:317: FutureWarning: iteritems is deprecated and will be removed in a future version. Use .items instead.\n",
      "  for col_name, dtype in df.dtypes.iteritems():\n"
     ]
    },
    {
     "data": {
      "text/html": [
       "\n",
       "<div id=\"altair-viz-7feb6bf72f3f4a8eb948d65886a01b0e\"></div>\n",
       "<script type=\"text/javascript\">\n",
       "  var VEGA_DEBUG = (typeof VEGA_DEBUG == \"undefined\") ? {} : VEGA_DEBUG;\n",
       "  (function(spec, embedOpt){\n",
       "    let outputDiv = document.currentScript.previousElementSibling;\n",
       "    if (outputDiv.id !== \"altair-viz-7feb6bf72f3f4a8eb948d65886a01b0e\") {\n",
       "      outputDiv = document.getElementById(\"altair-viz-7feb6bf72f3f4a8eb948d65886a01b0e\");\n",
       "    }\n",
       "    const paths = {\n",
       "      \"vega\": \"https://cdn.jsdelivr.net/npm//vega@5?noext\",\n",
       "      \"vega-lib\": \"https://cdn.jsdelivr.net/npm//vega-lib?noext\",\n",
       "      \"vega-lite\": \"https://cdn.jsdelivr.net/npm//vega-lite@4.17.0?noext\",\n",
       "      \"vega-embed\": \"https://cdn.jsdelivr.net/npm//vega-embed@6?noext\",\n",
       "    };\n",
       "\n",
       "    function maybeLoadScript(lib, version) {\n",
       "      var key = `${lib.replace(\"-\", \"\")}_version`;\n",
       "      return (VEGA_DEBUG[key] == version) ?\n",
       "        Promise.resolve(paths[lib]) :\n",
       "        new Promise(function(resolve, reject) {\n",
       "          var s = document.createElement('script');\n",
       "          document.getElementsByTagName(\"head\")[0].appendChild(s);\n",
       "          s.async = true;\n",
       "          s.onload = () => {\n",
       "            VEGA_DEBUG[key] = version;\n",
       "            return resolve(paths[lib]);\n",
       "          };\n",
       "          s.onerror = () => reject(`Error loading script: ${paths[lib]}`);\n",
       "          s.src = paths[lib];\n",
       "        });\n",
       "    }\n",
       "\n",
       "    function showError(err) {\n",
       "      outputDiv.innerHTML = `<div class=\"error\" style=\"color:red;\">${err}</div>`;\n",
       "      throw err;\n",
       "    }\n",
       "\n",
       "    function displayChart(vegaEmbed) {\n",
       "      vegaEmbed(outputDiv, spec, embedOpt)\n",
       "        .catch(err => showError(`Javascript Error: ${err.message}<br>This usually means there's a typo in your chart specification. See the javascript console for the full traceback.`));\n",
       "    }\n",
       "\n",
       "    if(typeof define === \"function\" && define.amd) {\n",
       "      requirejs.config({paths});\n",
       "      require([\"vega-embed\"], displayChart, err => showError(`Error loading script: ${err.message}`));\n",
       "    } else {\n",
       "      maybeLoadScript(\"vega\", \"5\")\n",
       "        .then(() => maybeLoadScript(\"vega-lite\", \"4.17.0\"))\n",
       "        .then(() => maybeLoadScript(\"vega-embed\", \"6\"))\n",
       "        .catch(showError)\n",
       "        .then(() => displayChart(vegaEmbed));\n",
       "    }\n",
       "  })({\"config\": {\"view\": {\"continuousWidth\": 400, \"continuousHeight\": 300}}, \"layer\": [{\"mark\": \"area\", \"encoding\": {\"color\": {\"field\": \"variable\", \"legend\": {\"title\": null}, \"scale\": {\"domain\": [\"unharvestable_pods\", \"harvested_pods\", \"harvestable_pods\"], \"range\": [\"#ff595e\", \"#8ac926\", \"#1982c4\"]}, \"type\": \"nominal\"}, \"order\": {\"field\": \"stack_order\", \"sort\": \"ascending\", \"type\": \"quantitative\"}, \"x\": {\"axis\": {\"formatType\": \"time\", \"labelAngle\": 0, \"labelExpr\": \"timeFormat(toDate(datum.value), '%b %e, %Y')\", \"labelOverlap\": true, \"labelPadding\": 5, \"labelSeparation\": 50, \"ticks\": false, \"title\": \"Date\"}, \"field\": \"timestamp\", \"type\": \"ordinal\"}, \"y\": {\"axis\": {\"format\": \".3~s\", \"title\": \"Pods\"}, \"field\": \"value\", \"type\": \"quantitative\"}}, \"title\": \"Pod Line Breakdown\", \"transform\": [{\"calculate\": \"datum['variable'] === 'unharvestable_pods' ? 0 :  datum['variable'] === 'harvested_pods' ? 1 :  datum['variable'] === 'harvestable_pods' ? 2 : 3\", \"as\": \"stack_order\"}, {\"filter\": \"datum['variable'] == 'unharvestable_pods' | datum['variable'] == 'harvested_pods' | datum['variable'] == 'harvestable_pods'\"}], \"width\": 700}, {\"mark\": {\"type\": \"rule\", \"color\": \"#474440\", \"opacity\": 1, \"strokeDash\": [2.5, 1]}, \"encoding\": {\"x\": {\"axis\": {\"formatType\": \"time\", \"labelAngle\": 0, \"labelExpr\": \"timeFormat(toDate(datum.value), '%b %e, %Y')\", \"labelOverlap\": true, \"labelPadding\": 5, \"labelSeparation\": 50, \"ticks\": false, \"title\": \"Date\"}, \"field\": \"timestamp\", \"type\": \"ordinal\"}}, \"title\": \"Pod Line Breakdown\", \"transform\": [{\"calculate\": \"datum['variable'] === 'unharvestable_pods' ? 0 :  datum['variable'] === 'harvested_pods' ? 1 :  datum['variable'] === 'harvestable_pods' ? 2 : 3\", \"as\": \"stack_order\"}, {\"pivot\": \"variable\", \"value\": \"value\", \"groupby\": [\"timestamp\"]}, {\"filter\": \"\\n            year(datum['timestamp']) === 2022 && \\n            month(datum['timestamp']) === 3 && \\n            date(datum['timestamp']) === 16 \\n        \"}], \"width\": 700}, {\"mark\": {\"type\": \"rule\", \"color\": \"#878787\"}, \"encoding\": {\"opacity\": {\"condition\": {\"value\": 1, \"selection\": \"selector013\"}, \"value\": 0}, \"tooltip\": [{\"field\": \"timestamp\", \"timeUnit\": \"yearmonthdate\", \"title\": \"date\", \"type\": \"ordinal\"}, {\"field\": \"unharvestable_pods\", \"format\": \",d\", \"type\": \"quantitative\"}, {\"field\": \"harvested_pods\", \"format\": \",d\", \"type\": \"quantitative\"}, {\"field\": \"harvestable_pods\", \"format\": \",d\", \"type\": \"quantitative\"}], \"x\": {\"axis\": {\"formatType\": \"time\", \"labelAngle\": 0, \"labelExpr\": \"timeFormat(toDate(datum.value), '%b %e, %Y')\", \"labelOverlap\": true, \"labelPadding\": 5, \"labelSeparation\": 50, \"ticks\": false, \"title\": \"Date\"}, \"field\": \"timestamp\", \"type\": \"ordinal\"}}, \"selection\": {\"selector013\": {\"type\": \"single\", \"fields\": [\"timestamp\"], \"nearest\": true, \"on\": \"mouseover\", \"empty\": \"none\", \"clear\": \"mouseout\"}}, \"title\": \"Pod Line Breakdown\", \"transform\": [{\"calculate\": \"datum['variable'] === 'unharvestable_pods' ? 0 :  datum['variable'] === 'harvested_pods' ? 1 :  datum['variable'] === 'harvestable_pods' ? 2 : 3\", \"as\": \"stack_order\"}, {\"pivot\": \"variable\", \"value\": \"value\", \"groupby\": [\"timestamp\"]}], \"width\": 700}], \"data\": {\"name\": \"data-e7f2654cf4a1f069cdd5be85cc7cdb22\"}, \"$schema\": \"https://vega.github.io/schema/vega-lite/v4.17.0.json\", \"datasets\": {\"data-e7f2654cf4a1f069cdd5be85cc7cdb22\": [{\"timestamp\": \"2021-08-07T00:06:08\", \"season\": 25, \"variable\": \"unharvestable_pods\", \"value\": 0.0, \"unharvestable_pods\": 0.0, \"harvested_pods\": 0.0, \"harvestable_pods\": 5049.266341}, {\"timestamp\": \"2021-08-07T00:06:08\", \"season\": 25, \"variable\": \"harvested_pods\", \"value\": 0.0, \"unharvestable_pods\": 0.0, \"harvested_pods\": 0.0, \"harvestable_pods\": 5049.266341}, {\"timestamp\": \"2021-08-07T00:06:08\", \"season\": 25, \"variable\": \"harvestable_pods\", \"value\": 5049.266341, \"unharvestable_pods\": 0.0, \"harvested_pods\": 0.0, \"harvestable_pods\": 5049.266341}, {\"timestamp\": \"2021-08-08T00:08:15\", \"season\": 49, \"variable\": \"unharvestable_pods\", \"value\": 0.0, \"unharvestable_pods\": 0.0, \"harvested_pods\": 15526.430505, \"harvestable_pods\": 337.09807999999975}, {\"timestamp\": \"2021-08-08T00:08:15\", \"season\": 49, \"variable\": \"harvested_pods\", \"value\": 15526.430505, \"unharvestable_pods\": 0.0, \"harvested_pods\": 15526.430505, \"harvestable_pods\": 337.09807999999975}, {\"timestamp\": \"2021-08-08T00:08:15\", \"season\": 49, \"variable\": \"harvestable_pods\", \"value\": 337.09807999999975, \"unharvestable_pods\": 0.0, \"harvested_pods\": 15526.430505, \"harvestable_pods\": 337.09807999999975}, {\"timestamp\": \"2021-08-09T00:15:57\", \"season\": 73, \"variable\": \"unharvestable_pods\", \"value\": 0.0, \"unharvestable_pods\": 0.0, \"harvested_pods\": 21827.924952, \"harvestable_pods\": 1479.961468999998}, {\"timestamp\": \"2021-08-09T00:15:57\", \"season\": 73, \"variable\": \"harvested_pods\", \"value\": 21827.924952, \"unharvestable_pods\": 0.0, \"harvested_pods\": 21827.924952, \"harvestable_pods\": 1479.961468999998}, {\"timestamp\": \"2021-08-09T00:15:57\", \"season\": 73, \"variable\": \"harvestable_pods\", \"value\": 1479.961468999998, \"unharvestable_pods\": 0.0, \"harvested_pods\": 21827.924952, \"harvestable_pods\": 1479.961468999998}, {\"timestamp\": \"2021-08-10T00:01:29\", \"season\": 97, \"variable\": \"unharvestable_pods\", \"value\": 0.0, \"unharvestable_pods\": 0.0, \"harvested_pods\": 25843.746295, \"harvestable_pods\": 7611.092329000003}, {\"timestamp\": \"2021-08-10T00:01:29\", \"season\": 97, \"variable\": \"harvested_pods\", \"value\": 25843.746295, \"unharvestable_pods\": 0.0, \"harvested_pods\": 25843.746295, \"harvestable_pods\": 7611.092329000003}, {\"timestamp\": \"2021-08-10T00:01:29\", \"season\": 97, \"variable\": \"harvestable_pods\", \"value\": 7611.092329000003, \"unharvestable_pods\": 0.0, \"harvested_pods\": 25843.746295, \"harvestable_pods\": 7611.092329000003}, {\"timestamp\": \"2021-08-11T00:00:05\", \"season\": 121, \"variable\": \"unharvestable_pods\", \"value\": 0.0, \"unharvestable_pods\": 0.0, \"harvested_pods\": 26550.351583, \"harvestable_pods\": 6904.487041000004}, {\"timestamp\": \"2021-08-11T00:00:05\", \"season\": 121, \"variable\": \"harvested_pods\", \"value\": 26550.351583, \"unharvestable_pods\": 0.0, \"harvested_pods\": 26550.351583, \"harvestable_pods\": 6904.487041000004}, {\"timestamp\": \"2021-08-11T00:00:05\", \"season\": 121, \"variable\": \"harvestable_pods\", \"value\": 6904.487041000004, \"unharvestable_pods\": 0.0, \"harvested_pods\": 26550.351583, \"harvestable_pods\": 6904.487041000004}, {\"timestamp\": \"2021-08-12T00:01:00\", \"season\": 145, \"variable\": \"harvestable_pods\", \"value\": 6904.487041000004, \"unharvestable_pods\": 0.0, \"harvested_pods\": 26550.351583, \"harvestable_pods\": 6904.487041000004}, {\"timestamp\": \"2021-08-12T00:01:00\", \"season\": 145, \"variable\": \"unharvestable_pods\", \"value\": 0.0, \"unharvestable_pods\": 0.0, \"harvested_pods\": 26550.351583, \"harvestable_pods\": 6904.487041000004}, {\"timestamp\": \"2021-08-12T00:01:00\", \"season\": 145, \"variable\": \"harvested_pods\", \"value\": 26550.351583, \"unharvestable_pods\": 0.0, \"harvested_pods\": 26550.351583, \"harvestable_pods\": 6904.487041000004}, {\"timestamp\": \"2021-08-13T00:00:10\", \"season\": 169, \"variable\": \"unharvestable_pods\", \"value\": 0.0, \"unharvestable_pods\": 0.0, \"harvested_pods\": 26550.351583, \"harvestable_pods\": 6904.487041000004}, {\"timestamp\": \"2021-08-13T00:00:10\", \"season\": 169, \"variable\": \"harvested_pods\", \"value\": 26550.351583, \"unharvestable_pods\": 0.0, \"harvested_pods\": 26550.351583, \"harvestable_pods\": 6904.487041000004}, {\"timestamp\": \"2021-08-13T00:00:10\", \"season\": 169, \"variable\": \"harvestable_pods\", \"value\": 6904.487041000004, \"unharvestable_pods\": 0.0, \"harvested_pods\": 26550.351583, \"harvestable_pods\": 6904.487041000004}, {\"timestamp\": \"2021-08-14T00:00:29\", \"season\": 193, \"variable\": \"unharvestable_pods\", \"value\": 0.0, \"unharvestable_pods\": 0.0, \"harvested_pods\": 32201.284959, \"harvestable_pods\": 17664.603034999996}, {\"timestamp\": \"2021-08-14T00:00:29\", \"season\": 193, \"variable\": \"harvested_pods\", \"value\": 32201.284959, \"unharvestable_pods\": 0.0, \"harvested_pods\": 32201.284959, \"harvestable_pods\": 17664.603034999996}, {\"timestamp\": \"2021-08-14T00:00:29\", \"season\": 193, \"variable\": \"harvestable_pods\", \"value\": 17664.603034999996, \"unharvestable_pods\": 0.0, \"harvested_pods\": 32201.284959, \"harvestable_pods\": 17664.603034999996}, {\"timestamp\": \"2021-08-15T00:00:28\", \"season\": 217, \"variable\": \"unharvestable_pods\", \"value\": 0.0, \"unharvestable_pods\": 0.0, \"harvested_pods\": 41481.027557, \"harvestable_pods\": 23001.045411}, {\"timestamp\": \"2021-08-15T00:00:28\", \"season\": 217, \"variable\": \"harvested_pods\", \"value\": 41481.027557, \"unharvestable_pods\": 0.0, \"harvested_pods\": 41481.027557, \"harvestable_pods\": 23001.045411}, {\"timestamp\": \"2021-08-15T00:00:28\", \"season\": 217, \"variable\": \"harvestable_pods\", \"value\": 23001.045411, \"unharvestable_pods\": 0.0, \"harvested_pods\": 41481.027557, \"harvestable_pods\": 23001.045411}, {\"timestamp\": \"2021-08-16T00:00:17\", \"season\": 241, \"variable\": \"harvestable_pods\", \"value\": 14326.598173999999, \"unharvestable_pods\": 0.0, \"harvested_pods\": 51201.027557, \"harvestable_pods\": 14326.598173999999}, {\"timestamp\": \"2021-08-16T00:00:17\", \"season\": 241, \"variable\": \"unharvestable_pods\", \"value\": 0.0, \"unharvestable_pods\": 0.0, \"harvested_pods\": 51201.027557, \"harvestable_pods\": 14326.598173999999}, {\"timestamp\": \"2021-08-16T00:00:17\", \"season\": 241, \"variable\": \"harvested_pods\", \"value\": 51201.027557, \"unharvestable_pods\": 0.0, \"harvested_pods\": 51201.027557, \"harvestable_pods\": 14326.598173999999}, {\"timestamp\": \"2021-08-17T00:00:04\", \"season\": 265, \"variable\": \"harvestable_pods\", \"value\": 12774.532055999996, \"unharvestable_pods\": 0.0, \"harvested_pods\": 97624.762629, \"harvestable_pods\": 12774.532055999996}, {\"timestamp\": \"2021-08-17T00:00:04\", \"season\": 265, \"variable\": \"harvested_pods\", \"value\": 97624.762629, \"unharvestable_pods\": 0.0, \"harvested_pods\": 97624.762629, \"harvestable_pods\": 12774.532055999996}, {\"timestamp\": \"2021-08-17T00:00:04\", \"season\": 265, \"variable\": \"unharvestable_pods\", \"value\": 0.0, \"unharvestable_pods\": 0.0, \"harvested_pods\": 97624.762629, \"harvestable_pods\": 12774.532055999996}, {\"timestamp\": \"2021-08-18T00:00:31\", \"season\": 289, \"variable\": \"unharvestable_pods\", \"value\": 0.0, \"unharvestable_pods\": 0.0, \"harvested_pods\": 104529.24967, \"harvestable_pods\": 44477.315885}, {\"timestamp\": \"2021-08-18T00:00:31\", \"season\": 289, \"variable\": \"harvested_pods\", \"value\": 104529.24967, \"unharvestable_pods\": 0.0, \"harvested_pods\": 104529.24967, \"harvestable_pods\": 44477.315885}, {\"timestamp\": \"2021-08-18T00:00:31\", \"season\": 289, \"variable\": \"harvestable_pods\", \"value\": 44477.315885, \"unharvestable_pods\": 0.0, \"harvested_pods\": 104529.24967, \"harvestable_pods\": 44477.315885}, {\"timestamp\": \"2021-08-19T00:00:40\", \"season\": 313, \"variable\": \"unharvestable_pods\", \"value\": 0.0, \"unharvestable_pods\": 0.0, \"harvested_pods\": 143283.399621, \"harvestable_pods\": 5723.165934000019}, {\"timestamp\": \"2021-08-19T00:00:40\", \"season\": 313, \"variable\": \"harvested_pods\", \"value\": 143283.399621, \"unharvestable_pods\": 0.0, \"harvested_pods\": 143283.399621, \"harvestable_pods\": 5723.165934000019}, {\"timestamp\": \"2021-08-19T00:00:40\", \"season\": 313, \"variable\": \"harvestable_pods\", \"value\": 5723.165934000019, \"unharvestable_pods\": 0.0, \"harvested_pods\": 143283.399621, \"harvestable_pods\": 5723.165934000019}, {\"timestamp\": \"2021-08-20T00:01:04\", \"season\": 337, \"variable\": \"unharvestable_pods\", \"value\": 0.0, \"unharvestable_pods\": 0.0, \"harvested_pods\": 143283.399621, \"harvestable_pods\": 37233.227182}, {\"timestamp\": \"2021-08-20T00:01:04\", \"season\": 337, \"variable\": \"harvested_pods\", \"value\": 143283.399621, \"unharvestable_pods\": 0.0, \"harvested_pods\": 143283.399621, \"harvestable_pods\": 37233.227182}, {\"timestamp\": \"2021-08-20T00:01:04\", \"season\": 337, \"variable\": \"harvestable_pods\", \"value\": 37233.227182, \"unharvestable_pods\": 0.0, \"harvested_pods\": 143283.399621, \"harvestable_pods\": 37233.227182}, {\"timestamp\": \"2021-08-21T00:00:44\", \"season\": 361, \"variable\": \"unharvestable_pods\", \"value\": 0.0, \"unharvestable_pods\": 0.0, \"harvested_pods\": 254167.231813, \"harvestable_pods\": 28096.697970999987}, {\"timestamp\": \"2021-08-21T00:00:44\", \"season\": 361, \"variable\": \"harvested_pods\", \"value\": 254167.231813, \"unharvestable_pods\": 0.0, \"harvested_pods\": 254167.231813, \"harvestable_pods\": 28096.697970999987}, {\"timestamp\": \"2021-08-21T00:00:44\", \"season\": 361, \"variable\": \"harvestable_pods\", \"value\": 28096.697970999987, \"unharvestable_pods\": 0.0, \"harvested_pods\": 254167.231813, \"harvestable_pods\": 28096.697970999987}, {\"timestamp\": \"2021-08-22T00:00:09\", \"season\": 385, \"variable\": \"harvested_pods\", \"value\": 314760.900618, \"unharvestable_pods\": 0.0, \"harvested_pods\": 314760.900618, \"harvestable_pods\": 28586.774829}, {\"timestamp\": \"2021-08-22T00:00:09\", \"season\": 385, \"variable\": \"harvestable_pods\", \"value\": 28586.774829, \"unharvestable_pods\": 0.0, \"harvested_pods\": 314760.900618, \"harvestable_pods\": 28586.774829}, {\"timestamp\": \"2021-08-22T00:00:09\", \"season\": 385, \"variable\": \"unharvestable_pods\", \"value\": 0.0, \"unharvestable_pods\": 0.0, \"harvested_pods\": 314760.900618, \"harvestable_pods\": 28586.774829}, {\"timestamp\": \"2021-08-23T00:00:29\", \"season\": 409, \"variable\": \"unharvestable_pods\", \"value\": 0.0, \"unharvestable_pods\": 0.0, \"harvested_pods\": 314760.900618, \"harvestable_pods\": 46759.331894}, {\"timestamp\": \"2021-08-23T00:00:29\", \"season\": 409, \"variable\": \"harvested_pods\", \"value\": 314760.900618, \"unharvestable_pods\": 0.0, \"harvested_pods\": 314760.900618, \"harvestable_pods\": 46759.331894}, {\"timestamp\": \"2021-08-23T00:00:29\", \"season\": 409, \"variable\": \"harvestable_pods\", \"value\": 46759.331894, \"unharvestable_pods\": 0.0, \"harvested_pods\": 314760.900618, \"harvestable_pods\": 46759.331894}, {\"timestamp\": \"2021-08-24T00:00:01\", \"season\": 433, \"variable\": \"unharvestable_pods\", \"value\": 0.0, \"unharvestable_pods\": 0.0, \"harvested_pods\": 331032.2237, \"harvestable_pods\": 34272.659944000014}, {\"timestamp\": \"2021-08-24T00:00:01\", \"season\": 433, \"variable\": \"harvested_pods\", \"value\": 331032.2237, \"unharvestable_pods\": 0.0, \"harvested_pods\": 331032.2237, \"harvestable_pods\": 34272.659944000014}, {\"timestamp\": \"2021-08-24T00:00:01\", \"season\": 433, \"variable\": \"harvestable_pods\", \"value\": 34272.659944000014, \"unharvestable_pods\": 0.0, \"harvested_pods\": 331032.2237, \"harvestable_pods\": 34272.659944000014}, {\"timestamp\": \"2021-08-25T00:00:23\", \"season\": 457, \"variable\": \"harvested_pods\", \"value\": 360937.2237, \"unharvestable_pods\": 0.0, \"harvested_pods\": 360937.2237, \"harvestable_pods\": 52124.72387300001}, {\"timestamp\": \"2021-08-25T00:00:23\", \"season\": 457, \"variable\": \"unharvestable_pods\", \"value\": 0.0, \"unharvestable_pods\": 0.0, \"harvested_pods\": 360937.2237, \"harvestable_pods\": 52124.72387300001}, {\"timestamp\": \"2021-08-25T00:00:23\", \"season\": 457, \"variable\": \"harvestable_pods\", \"value\": 52124.72387300001, \"unharvestable_pods\": 0.0, \"harvested_pods\": 360937.2237, \"harvestable_pods\": 52124.72387300001}, {\"timestamp\": \"2021-08-26T00:00:49\", \"season\": 481, \"variable\": \"unharvestable_pods\", \"value\": 0.0, \"unharvestable_pods\": 0.0, \"harvested_pods\": 481553.509585, \"harvestable_pods\": 11522.604041000013}, {\"timestamp\": \"2021-08-26T00:00:49\", \"season\": 481, \"variable\": \"harvested_pods\", \"value\": 481553.509585, \"unharvestable_pods\": 0.0, \"harvested_pods\": 481553.509585, \"harvestable_pods\": 11522.604041000013}, {\"timestamp\": \"2021-08-26T00:00:49\", \"season\": 481, \"variable\": \"harvestable_pods\", \"value\": 11522.604041000013, \"unharvestable_pods\": 0.0, \"harvested_pods\": 481553.509585, \"harvestable_pods\": 11522.604041000013}, {\"timestamp\": \"2021-08-27T00:02:11\", \"season\": 505, \"variable\": \"harvested_pods\", \"value\": 530358.688293, \"unharvestable_pods\": 0.0, \"harvested_pods\": 530358.688293, \"harvestable_pods\": 79987.43674400006}, {\"timestamp\": \"2021-08-27T00:02:11\", \"season\": 505, \"variable\": \"harvestable_pods\", \"value\": 79987.43674400006, \"unharvestable_pods\": 0.0, \"harvested_pods\": 530358.688293, \"harvestable_pods\": 79987.43674400006}, {\"timestamp\": \"2021-08-27T00:02:11\", \"season\": 505, \"variable\": \"unharvestable_pods\", \"value\": 0.0, \"unharvestable_pods\": 0.0, \"harvested_pods\": 530358.688293, \"harvestable_pods\": 79987.43674400006}, {\"timestamp\": \"2021-08-28T00:05:42\", \"season\": 529, \"variable\": \"harvestable_pods\", \"value\": 54913.30305400002, \"unharvestable_pods\": 0.0, \"harvested_pods\": 564828.688293, \"harvestable_pods\": 54913.30305400002}, {\"timestamp\": \"2021-08-28T00:05:42\", \"season\": 529, \"variable\": \"harvested_pods\", \"value\": 564828.688293, \"unharvestable_pods\": 0.0, \"harvested_pods\": 564828.688293, \"harvestable_pods\": 54913.30305400002}, {\"timestamp\": \"2021-08-28T00:05:42\", \"season\": 529, \"variable\": \"unharvestable_pods\", \"value\": 0.0, \"unharvestable_pods\": 0.0, \"harvested_pods\": 564828.688293, \"harvestable_pods\": 54913.30305400002}, {\"timestamp\": \"2021-08-29T00:00:21\", \"season\": 553, \"variable\": \"unharvestable_pods\", \"value\": 0.0, \"unharvestable_pods\": 0.0, \"harvested_pods\": 593623.85368, \"harvestable_pods\": 33700.57765800005}, {\"timestamp\": \"2021-08-29T00:00:21\", \"season\": 553, \"variable\": \"harvested_pods\", \"value\": 593623.85368, \"unharvestable_pods\": 0.0, \"harvested_pods\": 593623.85368, \"harvestable_pods\": 33700.57765800005}, {\"timestamp\": \"2021-08-29T00:00:21\", \"season\": 553, \"variable\": \"harvestable_pods\", \"value\": 33700.57765800005, \"unharvestable_pods\": 0.0, \"harvested_pods\": 593623.85368, \"harvestable_pods\": 33700.57765800005}, {\"timestamp\": \"2021-08-30T00:00:41\", \"season\": 577, \"variable\": \"unharvestable_pods\", \"value\": 0.0, \"unharvestable_pods\": 0.0, \"harvested_pods\": 593623.85368, \"harvestable_pods\": 53404.54862200003}, {\"timestamp\": \"2021-08-30T00:00:41\", \"season\": 577, \"variable\": \"harvested_pods\", \"value\": 593623.85368, \"unharvestable_pods\": 0.0, \"harvested_pods\": 593623.85368, \"harvestable_pods\": 53404.54862200003}, {\"timestamp\": \"2021-08-30T00:00:41\", \"season\": 577, \"variable\": \"harvestable_pods\", \"value\": 53404.54862200003, \"unharvestable_pods\": 0.0, \"harvested_pods\": 593623.85368, \"harvestable_pods\": 53404.54862200003}, {\"timestamp\": \"2021-08-31T00:00:55\", \"season\": 601, \"variable\": \"unharvestable_pods\", \"value\": 0.0, \"unharvestable_pods\": 0.0, \"harvested_pods\": 593623.85368, \"harvestable_pods\": 53404.54862200003}, {\"timestamp\": \"2021-08-31T00:00:55\", \"season\": 601, \"variable\": \"harvested_pods\", \"value\": 593623.85368, \"unharvestable_pods\": 0.0, \"harvested_pods\": 593623.85368, \"harvestable_pods\": 53404.54862200003}, {\"timestamp\": \"2021-08-31T00:00:55\", \"season\": 601, \"variable\": \"harvestable_pods\", \"value\": 53404.54862200003, \"unharvestable_pods\": 0.0, \"harvested_pods\": 593623.85368, \"harvestable_pods\": 53404.54862200003}, {\"timestamp\": \"2021-09-01T00:00:46\", \"season\": 625, \"variable\": \"unharvestable_pods\", \"value\": 0.0, \"unharvestable_pods\": 0.0, \"harvested_pods\": 612737.220849, \"harvestable_pods\": 40108.12784699991}, {\"timestamp\": \"2021-09-01T00:00:46\", \"season\": 625, \"variable\": \"harvested_pods\", \"value\": 612737.220849, \"unharvestable_pods\": 0.0, \"harvested_pods\": 612737.220849, \"harvestable_pods\": 40108.12784699991}, {\"timestamp\": \"2021-09-01T00:00:46\", \"season\": 625, \"variable\": \"harvestable_pods\", \"value\": 40108.12784699991, \"unharvestable_pods\": 0.0, \"harvested_pods\": 612737.220849, \"harvestable_pods\": 40108.12784699991}, {\"timestamp\": \"2021-09-02T00:02:18\", \"season\": 649, \"variable\": \"harvested_pods\", \"value\": 630808.81999, \"unharvestable_pods\": 0.0, \"harvested_pods\": 630808.81999, \"harvestable_pods\": 39282.219956999994}, {\"timestamp\": \"2021-09-02T00:02:18\", \"season\": 649, \"variable\": \"harvestable_pods\", \"value\": 39282.219956999994, \"unharvestable_pods\": 0.0, \"harvested_pods\": 630808.81999, \"harvestable_pods\": 39282.219956999994}, {\"timestamp\": \"2021-09-02T00:02:18\", \"season\": 649, \"variable\": \"unharvestable_pods\", \"value\": 0.0, \"unharvestable_pods\": 0.0, \"harvested_pods\": 630808.81999, \"harvestable_pods\": 39282.219956999994}, {\"timestamp\": \"2021-09-03T00:00:21\", \"season\": 673, \"variable\": \"unharvestable_pods\", \"value\": 0.0, \"unharvestable_pods\": 0.0, \"harvested_pods\": 643689.146625, \"harvestable_pods\": 32715.436743999948}, {\"timestamp\": \"2021-09-03T00:00:21\", \"season\": 673, \"variable\": \"harvested_pods\", \"value\": 643689.146625, \"unharvestable_pods\": 0.0, \"harvested_pods\": 643689.146625, \"harvestable_pods\": 32715.436743999948}, {\"timestamp\": \"2021-09-03T00:00:21\", \"season\": 673, \"variable\": \"harvestable_pods\", \"value\": 32715.436743999948, \"unharvestable_pods\": 0.0, \"harvested_pods\": 643689.146625, \"harvestable_pods\": 32715.436743999948}, {\"timestamp\": \"2021-09-04T00:02:33\", \"season\": 697, \"variable\": \"unharvestable_pods\", \"value\": 0.0, \"unharvestable_pods\": 0.0, \"harvested_pods\": 643689.146625, \"harvestable_pods\": 43770.215079999994}, {\"timestamp\": \"2021-09-04T00:02:33\", \"season\": 697, \"variable\": \"harvested_pods\", \"value\": 643689.146625, \"unharvestable_pods\": 0.0, \"harvested_pods\": 643689.146625, \"harvestable_pods\": 43770.215079999994}, {\"timestamp\": \"2021-09-04T00:02:33\", \"season\": 697, \"variable\": \"harvestable_pods\", \"value\": 43770.215079999994, \"unharvestable_pods\": 0.0, \"harvested_pods\": 643689.146625, \"harvestable_pods\": 43770.215079999994}, {\"timestamp\": \"2021-09-05T00:02:38\", \"season\": 721, \"variable\": \"harvested_pods\", \"value\": 703473.4368, \"unharvestable_pods\": 0.0, \"harvested_pods\": 703473.4368, \"harvestable_pods\": 3010.009844999993}, {\"timestamp\": \"2021-09-05T00:02:38\", \"season\": 721, \"variable\": \"unharvestable_pods\", \"value\": 0.0, \"unharvestable_pods\": 0.0, \"harvested_pods\": 703473.4368, \"harvestable_pods\": 3010.009844999993}, {\"timestamp\": \"2021-09-05T00:02:38\", \"season\": 721, \"variable\": \"harvestable_pods\", \"value\": 3010.009844999993, \"unharvestable_pods\": 0.0, \"harvested_pods\": 703473.4368, \"harvestable_pods\": 3010.009844999993}, {\"timestamp\": \"2021-09-06T00:00:31\", \"season\": 745, \"variable\": \"unharvestable_pods\", \"value\": 0.0, \"unharvestable_pods\": 0.0, \"harvested_pods\": 710912.291775, \"harvestable_pods\": 27614.523297999986}, {\"timestamp\": \"2021-09-06T00:00:31\", \"season\": 745, \"variable\": \"harvested_pods\", \"value\": 710912.291775, \"unharvestable_pods\": 0.0, \"harvested_pods\": 710912.291775, \"harvestable_pods\": 27614.523297999986}, {\"timestamp\": \"2021-09-06T00:00:31\", \"season\": 745, \"variable\": \"harvestable_pods\", \"value\": 27614.523297999986, \"unharvestable_pods\": 0.0, \"harvested_pods\": 710912.291775, \"harvestable_pods\": 27614.523297999986}, {\"timestamp\": \"2021-09-07T00:00:25\", \"season\": 769, \"variable\": \"harvested_pods\", \"value\": 758006.590898, \"unharvestable_pods\": 0.0, \"harvested_pods\": 758006.590898, \"harvestable_pods\": 30826.41968499997}, {\"timestamp\": \"2021-09-07T00:00:25\", \"season\": 769, \"variable\": \"harvestable_pods\", \"value\": 30826.41968499997, \"unharvestable_pods\": 0.0, \"harvested_pods\": 758006.590898, \"harvestable_pods\": 30826.41968499997}, {\"timestamp\": \"2021-09-07T00:00:25\", \"season\": 769, \"variable\": \"unharvestable_pods\", \"value\": 0.0, \"unharvestable_pods\": 0.0, \"harvested_pods\": 758006.590898, \"harvestable_pods\": 30826.41968499997}, {\"timestamp\": \"2021-09-08T00:00:43\", \"season\": 793, \"variable\": \"harvestable_pods\", \"value\": 116369.351914, \"unharvestable_pods\": 0.0, \"harvested_pods\": 758006.590898, \"harvestable_pods\": 116369.351914}, {\"timestamp\": \"2021-09-08T00:00:43\", \"season\": 793, \"variable\": \"harvested_pods\", \"value\": 758006.590898, \"unharvestable_pods\": 0.0, \"harvested_pods\": 758006.590898, \"harvestable_pods\": 116369.351914}, {\"timestamp\": \"2021-09-08T00:00:43\", \"season\": 793, \"variable\": \"unharvestable_pods\", \"value\": 0.0, \"unharvestable_pods\": 0.0, \"harvested_pods\": 758006.590898, \"harvestable_pods\": 116369.351914}, {\"timestamp\": \"2021-09-09T00:00:36\", \"season\": 817, \"variable\": \"unharvestable_pods\", \"value\": 0.0, \"unharvestable_pods\": 0.0, \"harvested_pods\": 784201.640921, \"harvestable_pods\": 111662.63340399996}, {\"timestamp\": \"2021-09-09T00:00:36\", \"season\": 817, \"variable\": \"harvested_pods\", \"value\": 784201.640921, \"unharvestable_pods\": 0.0, \"harvested_pods\": 784201.640921, \"harvestable_pods\": 111662.63340399996}, {\"timestamp\": \"2021-09-09T00:00:36\", \"season\": 817, \"variable\": \"harvestable_pods\", \"value\": 111662.63340399996, \"unharvestable_pods\": 0.0, \"harvested_pods\": 784201.640921, \"harvestable_pods\": 111662.63340399996}, {\"timestamp\": \"2021-09-10T00:00:47\", \"season\": 841, \"variable\": \"unharvestable_pods\", \"value\": 0.0, \"unharvestable_pods\": 0.0, \"harvested_pods\": 832681.871582, \"harvestable_pods\": 75915.45785899996}, {\"timestamp\": \"2021-09-10T00:00:47\", \"season\": 841, \"variable\": \"harvested_pods\", \"value\": 832681.871582, \"unharvestable_pods\": 0.0, \"harvested_pods\": 832681.871582, \"harvestable_pods\": 75915.45785899996}, {\"timestamp\": \"2021-09-10T00:00:47\", \"season\": 841, \"variable\": \"harvestable_pods\", \"value\": 75915.45785899996, \"unharvestable_pods\": 0.0, \"harvested_pods\": 832681.871582, \"harvestable_pods\": 75915.45785899996}, {\"timestamp\": \"2021-09-11T00:00:25\", \"season\": 865, \"variable\": \"unharvestable_pods\", \"value\": 0.0, \"unharvestable_pods\": 0.0, \"harvested_pods\": 873427.751646, \"harvestable_pods\": 82715.50115200004}, {\"timestamp\": \"2021-09-11T00:00:25\", \"season\": 865, \"variable\": \"harvested_pods\", \"value\": 873427.751646, \"unharvestable_pods\": 0.0, \"harvested_pods\": 873427.751646, \"harvestable_pods\": 82715.50115200004}, {\"timestamp\": \"2021-09-11T00:00:25\", \"season\": 865, \"variable\": \"harvestable_pods\", \"value\": 82715.50115200004, \"unharvestable_pods\": 0.0, \"harvested_pods\": 873427.751646, \"harvestable_pods\": 82715.50115200004}, {\"timestamp\": \"2021-09-12T00:00:06\", \"season\": 889, \"variable\": \"unharvestable_pods\", \"value\": 0.0, \"unharvestable_pods\": 0.0, \"harvested_pods\": 937356.244186, \"harvestable_pods\": 43355.370027999976}, {\"timestamp\": \"2021-09-12T00:00:06\", \"season\": 889, \"variable\": \"harvested_pods\", \"value\": 937356.244186, \"unharvestable_pods\": 0.0, \"harvested_pods\": 937356.244186, \"harvestable_pods\": 43355.370027999976}, {\"timestamp\": \"2021-09-12T00:00:06\", \"season\": 889, \"variable\": \"harvestable_pods\", \"value\": 43355.370027999976, \"unharvestable_pods\": 0.0, \"harvested_pods\": 937356.244186, \"harvestable_pods\": 43355.370027999976}, {\"timestamp\": \"2021-09-13T00:00:34\", \"season\": 913, \"variable\": \"harvested_pods\", \"value\": 976330.024314, \"unharvestable_pods\": 0.0, \"harvested_pods\": 976330.024314, \"harvestable_pods\": 30500.24680600001}, {\"timestamp\": \"2021-09-13T00:00:34\", \"season\": 913, \"variable\": \"harvestable_pods\", \"value\": 30500.24680600001, \"unharvestable_pods\": 0.0, \"harvested_pods\": 976330.024314, \"harvestable_pods\": 30500.24680600001}, {\"timestamp\": \"2021-09-13T00:00:34\", \"season\": 913, \"variable\": \"unharvestable_pods\", \"value\": 0.0, \"unharvestable_pods\": 0.0, \"harvested_pods\": 976330.024314, \"harvestable_pods\": 30500.24680600001}, {\"timestamp\": \"2021-09-14T00:01:09\", \"season\": 937, \"variable\": \"unharvestable_pods\", \"value\": 0.0, \"unharvestable_pods\": 0.0, \"harvested_pods\": 993469.008135, \"harvestable_pods\": 89057.04180500004}, {\"timestamp\": \"2021-09-14T00:01:09\", \"season\": 937, \"variable\": \"harvested_pods\", \"value\": 993469.008135, \"unharvestable_pods\": 0.0, \"harvested_pods\": 993469.008135, \"harvestable_pods\": 89057.04180500004}, {\"timestamp\": \"2021-09-14T00:01:09\", \"season\": 937, \"variable\": \"harvestable_pods\", \"value\": 89057.04180500004, \"unharvestable_pods\": 0.0, \"harvested_pods\": 993469.008135, \"harvestable_pods\": 89057.04180500004}, {\"timestamp\": \"2021-09-15T00:00:38\", \"season\": 961, \"variable\": \"unharvestable_pods\", \"value\": 0.0, \"unharvestable_pods\": 0.0, \"harvested_pods\": 1068516.490149, \"harvestable_pods\": 42658.86335400003}, {\"timestamp\": \"2021-09-15T00:00:38\", \"season\": 961, \"variable\": \"harvested_pods\", \"value\": 1068516.490149, \"unharvestable_pods\": 0.0, \"harvested_pods\": 1068516.490149, \"harvestable_pods\": 42658.86335400003}, {\"timestamp\": \"2021-09-15T00:00:38\", \"season\": 961, \"variable\": \"harvestable_pods\", \"value\": 42658.86335400003, \"unharvestable_pods\": 0.0, \"harvested_pods\": 1068516.490149, \"harvestable_pods\": 42658.86335400003}, {\"timestamp\": \"2021-09-16T00:00:42\", \"season\": 985, \"variable\": \"harvested_pods\", \"value\": 1114444.480103, \"unharvestable_pods\": 0.0, \"harvested_pods\": 1114444.480103, \"harvestable_pods\": 29131.22802000004}, {\"timestamp\": \"2021-09-16T00:00:42\", \"season\": 985, \"variable\": \"unharvestable_pods\", \"value\": 0.0, \"unharvestable_pods\": 0.0, \"harvested_pods\": 1114444.480103, \"harvestable_pods\": 29131.22802000004}, {\"timestamp\": \"2021-09-16T00:00:42\", \"season\": 985, \"variable\": \"harvestable_pods\", \"value\": 29131.22802000004, \"unharvestable_pods\": 0.0, \"harvested_pods\": 1114444.480103, \"harvestable_pods\": 29131.22802000004}, {\"timestamp\": \"2021-09-17T00:00:26\", \"season\": 1009, \"variable\": \"unharvestable_pods\", \"value\": 0.0, \"unharvestable_pods\": 0.0, \"harvested_pods\": 1164021.465089, \"harvestable_pods\": 29476.81179299997}, {\"timestamp\": \"2021-09-17T00:00:26\", \"season\": 1009, \"variable\": \"harvested_pods\", \"value\": 1164021.465089, \"unharvestable_pods\": 0.0, \"harvested_pods\": 1164021.465089, \"harvestable_pods\": 29476.81179299997}, {\"timestamp\": \"2021-09-17T00:00:26\", \"season\": 1009, \"variable\": \"harvestable_pods\", \"value\": 29476.81179299997, \"unharvestable_pods\": 0.0, \"harvested_pods\": 1164021.465089, \"harvestable_pods\": 29476.81179299997}, {\"timestamp\": \"2021-09-18T00:01:18\", \"season\": 1033, \"variable\": \"harvested_pods\", \"value\": 1292018.380774, \"unharvestable_pods\": 0.0, \"harvested_pods\": 1292018.380774, \"harvestable_pods\": 29948.2261630001}, {\"timestamp\": \"2021-09-18T00:01:18\", \"season\": 1033, \"variable\": \"harvestable_pods\", \"value\": 29948.2261630001, \"unharvestable_pods\": 0.0, \"harvested_pods\": 1292018.380774, \"harvestable_pods\": 29948.2261630001}, {\"timestamp\": \"2021-09-18T00:01:18\", \"season\": 1033, \"variable\": \"unharvestable_pods\", \"value\": 0.0, \"unharvestable_pods\": 0.0, \"harvested_pods\": 1292018.380774, \"harvestable_pods\": 29948.2261630001}, {\"timestamp\": \"2021-09-19T00:00:06\", \"season\": 1057, \"variable\": \"harvestable_pods\", \"value\": 52890.86466099997, \"unharvestable_pods\": 0.0, \"harvested_pods\": 1561259.973246, \"harvestable_pods\": 52890.86466099997}, {\"timestamp\": \"2021-09-19T00:00:06\", \"season\": 1057, \"variable\": \"unharvestable_pods\", \"value\": 0.0, \"unharvestable_pods\": 0.0, \"harvested_pods\": 1561259.973246, \"harvestable_pods\": 52890.86466099997}, {\"timestamp\": \"2021-09-19T00:00:06\", \"season\": 1057, \"variable\": \"harvested_pods\", \"value\": 1561259.973246, \"unharvestable_pods\": 0.0, \"harvested_pods\": 1561259.973246, \"harvestable_pods\": 52890.86466099997}, {\"timestamp\": \"2021-09-20T00:01:40\", \"season\": 1081, \"variable\": \"unharvestable_pods\", \"value\": 0.0, \"unharvestable_pods\": 0.0, \"harvested_pods\": 1709209.607215, \"harvestable_pods\": 18630.720659999875}, {\"timestamp\": \"2021-09-20T00:01:40\", \"season\": 1081, \"variable\": \"harvested_pods\", \"value\": 1709209.607215, \"unharvestable_pods\": 0.0, \"harvested_pods\": 1709209.607215, \"harvestable_pods\": 18630.720659999875}, {\"timestamp\": \"2021-09-20T00:01:40\", \"season\": 1081, \"variable\": \"harvestable_pods\", \"value\": 18630.720659999875, \"unharvestable_pods\": 0.0, \"harvested_pods\": 1709209.607215, \"harvestable_pods\": 18630.720659999875}, {\"timestamp\": \"2021-09-21T00:01:43\", \"season\": 1105, \"variable\": \"unharvestable_pods\", \"value\": 1310933.3650429999, \"unharvestable_pods\": 1310933.3650429999, \"harvested_pods\": 1722460.339216, \"harvestable_pods\": 5379.988659000024}, {\"timestamp\": \"2021-09-21T00:01:43\", \"season\": 1105, \"variable\": \"harvested_pods\", \"value\": 1722460.339216, \"unharvestable_pods\": 1310933.3650429999, \"harvested_pods\": 1722460.339216, \"harvestable_pods\": 5379.988659000024}, {\"timestamp\": \"2021-09-21T00:01:43\", \"season\": 1105, \"variable\": \"harvestable_pods\", \"value\": 5379.988659000024, \"unharvestable_pods\": 1310933.3650429999, \"harvested_pods\": 1722460.339216, \"harvestable_pods\": 5379.988659000024}, {\"timestamp\": \"2021-09-22T00:00:16\", \"season\": 1129, \"variable\": \"unharvestable_pods\", \"value\": 1749162.145036, \"unharvestable_pods\": 1749162.145036, \"harvested_pods\": 1761835.650094, \"harvestable_pods\": 5135.569747000001}, {\"timestamp\": \"2021-09-22T00:00:16\", \"season\": 1129, \"variable\": \"harvested_pods\", \"value\": 1761835.650094, \"unharvestable_pods\": 1749162.145036, \"harvested_pods\": 1761835.650094, \"harvestable_pods\": 5135.569747000001}, {\"timestamp\": \"2021-09-22T00:00:16\", \"season\": 1129, \"variable\": \"harvestable_pods\", \"value\": 5135.569747000001, \"unharvestable_pods\": 1749162.145036, \"harvested_pods\": 1761835.650094, \"harvestable_pods\": 5135.569747000001}, {\"timestamp\": \"2021-09-23T00:02:36\", \"season\": 1153, \"variable\": \"unharvestable_pods\", \"value\": 1856346.8076160003, \"unharvestable_pods\": 1856346.8076160003, \"harvested_pods\": 1761835.650094, \"harvestable_pods\": 5135.569747000001}, {\"timestamp\": \"2021-09-23T00:02:36\", \"season\": 1153, \"variable\": \"harvested_pods\", \"value\": 1761835.650094, \"unharvestable_pods\": 1856346.8076160003, \"harvested_pods\": 1761835.650094, \"harvestable_pods\": 5135.569747000001}, {\"timestamp\": \"2021-09-23T00:02:36\", \"season\": 1153, \"variable\": \"harvestable_pods\", \"value\": 5135.569747000001, \"unharvestable_pods\": 1856346.8076160003, \"harvested_pods\": 1761835.650094, \"harvestable_pods\": 5135.569747000001}, {\"timestamp\": \"2021-09-24T00:00:19\", \"season\": 1177, \"variable\": \"harvestable_pods\", \"value\": 5135.569747000001, \"unharvestable_pods\": 2351529.879768, \"harvested_pods\": 1761835.650094, \"harvestable_pods\": 5135.569747000001}, {\"timestamp\": \"2021-09-24T00:00:19\", \"season\": 1177, \"variable\": \"harvested_pods\", \"value\": 1761835.650094, \"unharvestable_pods\": 2351529.879768, \"harvested_pods\": 1761835.650094, \"harvestable_pods\": 5135.569747000001}, {\"timestamp\": \"2021-09-24T00:00:19\", \"season\": 1177, \"variable\": \"unharvestable_pods\", \"value\": 2351529.879768, \"unharvestable_pods\": 2351529.879768, \"harvested_pods\": 1761835.650094, \"harvestable_pods\": 5135.569747000001}, {\"timestamp\": \"2021-09-25T00:00:21\", \"season\": 1201, \"variable\": \"unharvestable_pods\", \"value\": 2871975.965969, \"unharvestable_pods\": 2871975.965969, \"harvested_pods\": 1761835.650094, \"harvestable_pods\": 5135.569747000001}, {\"timestamp\": \"2021-09-25T00:00:21\", \"season\": 1201, \"variable\": \"harvested_pods\", \"value\": 1761835.650094, \"unharvestable_pods\": 2871975.965969, \"harvested_pods\": 1761835.650094, \"harvestable_pods\": 5135.569747000001}, {\"timestamp\": \"2021-09-25T00:00:21\", \"season\": 1201, \"variable\": \"harvestable_pods\", \"value\": 5135.569747000001, \"unharvestable_pods\": 2871975.965969, \"harvested_pods\": 1761835.650094, \"harvestable_pods\": 5135.569747000001}, {\"timestamp\": \"2021-09-26T00:00:25\", \"season\": 1225, \"variable\": \"unharvestable_pods\", \"value\": 3555492.614283, \"unharvestable_pods\": 3555492.614283, \"harvested_pods\": 1761835.650094, \"harvestable_pods\": 5135.569747000001}, {\"timestamp\": \"2021-09-26T00:00:25\", \"season\": 1225, \"variable\": \"harvested_pods\", \"value\": 1761835.650094, \"unharvestable_pods\": 3555492.614283, \"harvested_pods\": 1761835.650094, \"harvestable_pods\": 5135.569747000001}, {\"timestamp\": \"2021-09-26T00:00:25\", \"season\": 1225, \"variable\": \"harvestable_pods\", \"value\": 5135.569747000001, \"unharvestable_pods\": 3555492.614283, \"harvested_pods\": 1761835.650094, \"harvestable_pods\": 5135.569747000001}, {\"timestamp\": \"2021-09-27T00:00:01\", \"season\": 1249, \"variable\": \"unharvestable_pods\", \"value\": 5071237.549070001, \"unharvestable_pods\": 5071237.549070001, \"harvested_pods\": 1761850.111983, \"harvestable_pods\": 5121.1078579998575}, {\"timestamp\": \"2021-09-27T00:00:01\", \"season\": 1249, \"variable\": \"harvested_pods\", \"value\": 1761850.111983, \"unharvestable_pods\": 5071237.549070001, \"harvested_pods\": 1761850.111983, \"harvestable_pods\": 5121.1078579998575}, {\"timestamp\": \"2021-09-27T00:00:01\", \"season\": 1249, \"variable\": \"harvestable_pods\", \"value\": 5121.1078579998575, \"unharvestable_pods\": 5071237.549070001, \"harvested_pods\": 1761850.111983, \"harvestable_pods\": 5121.1078579998575}, {\"timestamp\": \"2021-09-28T00:00:06\", \"season\": 1273, \"variable\": \"unharvestable_pods\", \"value\": 5906095.4669820005, \"unharvestable_pods\": 5906095.4669820005, \"harvested_pods\": 1761850.111983, \"harvestable_pods\": 5121.1078579998575}, {\"timestamp\": \"2021-09-28T00:00:06\", \"season\": 1273, \"variable\": \"harvested_pods\", \"value\": 1761850.111983, \"unharvestable_pods\": 5906095.4669820005, \"harvested_pods\": 1761850.111983, \"harvestable_pods\": 5121.1078579998575}, {\"timestamp\": \"2021-09-28T00:00:06\", \"season\": 1273, \"variable\": \"harvestable_pods\", \"value\": 5121.1078579998575, \"unharvestable_pods\": 5906095.4669820005, \"harvested_pods\": 1761850.111983, \"harvestable_pods\": 5121.1078579998575}, {\"timestamp\": \"2021-09-29T00:00:20\", \"season\": 1297, \"variable\": \"harvested_pods\", \"value\": 1761850.111983, \"unharvestable_pods\": 7795719.454109, \"harvested_pods\": 1761850.111983, \"harvestable_pods\": 5121.1078579998575}, {\"timestamp\": \"2021-09-29T00:00:20\", \"season\": 1297, \"variable\": \"harvestable_pods\", \"value\": 5121.1078579998575, \"unharvestable_pods\": 7795719.454109, \"harvested_pods\": 1761850.111983, \"harvestable_pods\": 5121.1078579998575}, {\"timestamp\": \"2021-09-29T00:00:20\", \"season\": 1297, \"variable\": \"unharvestable_pods\", \"value\": 7795719.454109, \"unharvestable_pods\": 7795719.454109, \"harvested_pods\": 1761850.111983, \"harvestable_pods\": 5121.1078579998575}, {\"timestamp\": \"2021-09-30T00:01:52\", \"season\": 1321, \"variable\": \"unharvestable_pods\", \"value\": 9042663.866529, \"unharvestable_pods\": 9042663.866529, \"harvested_pods\": 1761850.111983, \"harvestable_pods\": 5121.1078579998575}, {\"timestamp\": \"2021-09-30T00:01:52\", \"season\": 1321, \"variable\": \"harvested_pods\", \"value\": 1761850.111983, \"unharvestable_pods\": 9042663.866529, \"harvested_pods\": 1761850.111983, \"harvestable_pods\": 5121.1078579998575}, {\"timestamp\": \"2021-09-30T00:01:52\", \"season\": 1321, \"variable\": \"harvestable_pods\", \"value\": 5121.1078579998575, \"unharvestable_pods\": 9042663.866529, \"harvested_pods\": 1761850.111983, \"harvestable_pods\": 5121.1078579998575}, {\"timestamp\": \"2021-10-01T00:01:44\", \"season\": 1345, \"variable\": \"unharvestable_pods\", \"value\": 11691123.524688, \"unharvestable_pods\": 11691123.524688, \"harvested_pods\": 1774549.179391, \"harvestable_pods\": 9574.00044000009}, {\"timestamp\": \"2021-10-01T00:01:44\", \"season\": 1345, \"variable\": \"harvested_pods\", \"value\": 1774549.179391, \"unharvestable_pods\": 11691123.524688, \"harvested_pods\": 1774549.179391, \"harvestable_pods\": 9574.00044000009}, {\"timestamp\": \"2021-10-01T00:01:44\", \"season\": 1345, \"variable\": \"harvestable_pods\", \"value\": 9574.00044000009, \"unharvestable_pods\": 11691123.524688, \"harvested_pods\": 1774549.179391, \"harvestable_pods\": 9574.00044000009}, {\"timestamp\": \"2021-10-02T00:00:44\", \"season\": 1369, \"variable\": \"unharvestable_pods\", \"value\": 12300138.768626, \"unharvestable_pods\": 12300138.768626, \"harvested_pods\": 1896184.947802, \"harvestable_pods\": 60024.322716000024}, {\"timestamp\": \"2021-10-02T00:00:44\", \"season\": 1369, \"variable\": \"harvested_pods\", \"value\": 1896184.947802, \"unharvestable_pods\": 12300138.768626, \"harvested_pods\": 1896184.947802, \"harvestable_pods\": 60024.322716000024}, {\"timestamp\": \"2021-10-02T00:00:44\", \"season\": 1369, \"variable\": \"harvestable_pods\", \"value\": 60024.322716000024, \"unharvestable_pods\": 12300138.768626, \"harvested_pods\": 1896184.947802, \"harvestable_pods\": 60024.322716000024}, {\"timestamp\": \"2021-10-03T00:00:05\", \"season\": 1393, \"variable\": \"unharvestable_pods\", \"value\": 12420975.749130001, \"unharvestable_pods\": 12420975.749130001, \"harvested_pods\": 1913589.129855, \"harvestable_pods\": 42620.14066300006}, {\"timestamp\": \"2021-10-03T00:00:05\", \"season\": 1393, \"variable\": \"harvested_pods\", \"value\": 1913589.129855, \"unharvestable_pods\": 12420975.749130001, \"harvested_pods\": 1913589.129855, \"harvestable_pods\": 42620.14066300006}, {\"timestamp\": \"2021-10-03T00:00:05\", \"season\": 1393, \"variable\": \"harvestable_pods\", \"value\": 42620.14066300006, \"unharvestable_pods\": 12420975.749130001, \"harvested_pods\": 1913589.129855, \"harvestable_pods\": 42620.14066300006}, {\"timestamp\": \"2021-10-04T00:00:32\", \"season\": 1417, \"variable\": \"harvestable_pods\", \"value\": 42620.14066300006, \"unharvestable_pods\": 13075868.837169, \"harvested_pods\": 1913589.129855, \"harvestable_pods\": 42620.14066300006}, {\"timestamp\": \"2021-10-04T00:00:32\", \"season\": 1417, \"variable\": \"harvested_pods\", \"value\": 1913589.129855, \"unharvestable_pods\": 13075868.837169, \"harvested_pods\": 1913589.129855, \"harvestable_pods\": 42620.14066300006}, {\"timestamp\": \"2021-10-04T00:00:32\", \"season\": 1417, \"variable\": \"unharvestable_pods\", \"value\": 13075868.837169, \"unharvestable_pods\": 13075868.837169, \"harvested_pods\": 1913589.129855, \"harvestable_pods\": 42620.14066300006}, {\"timestamp\": \"2021-10-05T00:03:55\", \"season\": 1441, \"variable\": \"unharvestable_pods\", \"value\": 13385351.550535, \"unharvestable_pods\": 13385351.550535, \"harvested_pods\": 1913589.129855, \"harvestable_pods\": 42620.14066300006}, {\"timestamp\": \"2021-10-05T00:03:55\", \"season\": 1441, \"variable\": \"harvested_pods\", \"value\": 1913589.129855, \"unharvestable_pods\": 13385351.550535, \"harvested_pods\": 1913589.129855, \"harvestable_pods\": 42620.14066300006}, {\"timestamp\": \"2021-10-05T00:03:55\", \"season\": 1441, \"variable\": \"harvestable_pods\", \"value\": 42620.14066300006, \"unharvestable_pods\": 13385351.550535, \"harvested_pods\": 1913589.129855, \"harvestable_pods\": 42620.14066300006}, {\"timestamp\": \"2021-10-06T00:01:34\", \"season\": 1465, \"variable\": \"unharvestable_pods\", \"value\": 14247643.821707001, \"unharvestable_pods\": 14247643.821707001, \"harvested_pods\": 1913589.129855, \"harvestable_pods\": 42620.14066300006}, {\"timestamp\": \"2021-10-06T00:01:34\", \"season\": 1465, \"variable\": \"harvested_pods\", \"value\": 1913589.129855, \"unharvestable_pods\": 14247643.821707001, \"harvested_pods\": 1913589.129855, \"harvestable_pods\": 42620.14066300006}, {\"timestamp\": \"2021-10-06T00:01:34\", \"season\": 1465, \"variable\": \"harvestable_pods\", \"value\": 42620.14066300006, \"unharvestable_pods\": 14247643.821707001, \"harvested_pods\": 1913589.129855, \"harvestable_pods\": 42620.14066300006}, {\"timestamp\": \"2021-10-07T00:02:24\", \"season\": 1489, \"variable\": \"unharvestable_pods\", \"value\": 15219710.121581001, \"unharvestable_pods\": 15219710.121581001, \"harvested_pods\": 1913589.129855, \"harvestable_pods\": 42620.14066300006}, {\"timestamp\": \"2021-10-07T00:02:24\", \"season\": 1489, \"variable\": \"harvested_pods\", \"value\": 1913589.129855, \"unharvestable_pods\": 15219710.121581001, \"harvested_pods\": 1913589.129855, \"harvestable_pods\": 42620.14066300006}, {\"timestamp\": \"2021-10-07T00:02:24\", \"season\": 1489, \"variable\": \"harvestable_pods\", \"value\": 42620.14066300006, \"unharvestable_pods\": 15219710.121581001, \"harvested_pods\": 1913589.129855, \"harvestable_pods\": 42620.14066300006}, {\"timestamp\": \"2021-10-08T00:01:18\", \"season\": 1513, \"variable\": \"unharvestable_pods\", \"value\": 17628327.919436, \"unharvestable_pods\": 17628327.919436, \"harvested_pods\": 1939798.788053, \"harvestable_pods\": 73483.38632799988}, {\"timestamp\": \"2021-10-08T00:01:18\", \"season\": 1513, \"variable\": \"harvested_pods\", \"value\": 1939798.788053, \"unharvestable_pods\": 17628327.919436, \"harvested_pods\": 1939798.788053, \"harvestable_pods\": 73483.38632799988}, {\"timestamp\": \"2021-10-08T00:01:18\", \"season\": 1513, \"variable\": \"harvestable_pods\", \"value\": 73483.38632799988, \"unharvestable_pods\": 17628327.919436, \"harvested_pods\": 1939798.788053, \"harvestable_pods\": 73483.38632799988}, {\"timestamp\": \"2021-10-09T00:02:32\", \"season\": 1537, \"variable\": \"harvested_pods\", \"value\": 1940953.169997, \"unharvestable_pods\": 17848796.932812, \"harvested_pods\": 1940953.169997, \"harvestable_pods\": 72329.00438400009}, {\"timestamp\": \"2021-10-09T00:02:32\", \"season\": 1537, \"variable\": \"harvestable_pods\", \"value\": 72329.00438400009, \"unharvestable_pods\": 17848796.932812, \"harvested_pods\": 1940953.169997, \"harvestable_pods\": 72329.00438400009}, {\"timestamp\": \"2021-10-09T00:02:32\", \"season\": 1537, \"variable\": \"unharvestable_pods\", \"value\": 17848796.932812, \"unharvestable_pods\": 17848796.932812, \"harvested_pods\": 1940953.169997, \"harvestable_pods\": 72329.00438400009}, {\"timestamp\": \"2021-10-10T00:00:39\", \"season\": 1561, \"variable\": \"harvestable_pods\", \"value\": 71736.722021, \"unharvestable_pods\": 18139261.969577, \"harvested_pods\": 1941545.45236, \"harvestable_pods\": 71736.722021}, {\"timestamp\": \"2021-10-10T00:00:39\", \"season\": 1561, \"variable\": \"harvested_pods\", \"value\": 1941545.45236, \"unharvestable_pods\": 18139261.969577, \"harvested_pods\": 1941545.45236, \"harvestable_pods\": 71736.722021}, {\"timestamp\": \"2021-10-10T00:00:39\", \"season\": 1561, \"variable\": \"unharvestable_pods\", \"value\": 18139261.969577, \"unharvestable_pods\": 18139261.969577, \"harvested_pods\": 1941545.45236, \"harvestable_pods\": 71736.722021}, {\"timestamp\": \"2021-10-11T00:00:43\", \"season\": 1585, \"variable\": \"unharvestable_pods\", \"value\": 18379589.720036, \"unharvestable_pods\": 18379589.720036, \"harvested_pods\": 1946323.554864, \"harvestable_pods\": 66958.61951699993}, {\"timestamp\": \"2021-10-11T00:00:43\", \"season\": 1585, \"variable\": \"harvested_pods\", \"value\": 1946323.554864, \"unharvestable_pods\": 18379589.720036, \"harvested_pods\": 1946323.554864, \"harvestable_pods\": 66958.61951699993}, {\"timestamp\": \"2021-10-11T00:00:43\", \"season\": 1585, \"variable\": \"harvestable_pods\", \"value\": 66958.61951699993, \"unharvestable_pods\": 18379589.720036, \"harvested_pods\": 1946323.554864, \"harvestable_pods\": 66958.61951699993}, {\"timestamp\": \"2021-10-12T00:01:23\", \"season\": 1609, \"variable\": \"unharvestable_pods\", \"value\": 19857189.077624, \"unharvestable_pods\": 19857189.077624, \"harvested_pods\": 1950417.787806, \"harvestable_pods\": 62864.386574999895}, {\"timestamp\": \"2021-10-12T00:01:23\", \"season\": 1609, \"variable\": \"harvested_pods\", \"value\": 1950417.787806, \"unharvestable_pods\": 19857189.077624, \"harvested_pods\": 1950417.787806, \"harvestable_pods\": 62864.386574999895}, {\"timestamp\": \"2021-10-12T00:01:23\", \"season\": 1609, \"variable\": \"harvestable_pods\", \"value\": 62864.386574999895, \"unharvestable_pods\": 19857189.077624, \"harvested_pods\": 1950417.787806, \"harvestable_pods\": 62864.386574999895}, {\"timestamp\": \"2021-10-13T00:00:49\", \"season\": 1633, \"variable\": \"unharvestable_pods\", \"value\": 21032067.773341, \"unharvestable_pods\": 21032067.773341, \"harvested_pods\": 1950417.787806, \"harvestable_pods\": 62864.386574999895}, {\"timestamp\": \"2021-10-13T00:00:49\", \"season\": 1633, \"variable\": \"harvested_pods\", \"value\": 1950417.787806, \"unharvestable_pods\": 21032067.773341, \"harvested_pods\": 1950417.787806, \"harvestable_pods\": 62864.386574999895}, {\"timestamp\": \"2021-10-13T00:00:49\", \"season\": 1633, \"variable\": \"harvestable_pods\", \"value\": 62864.386574999895, \"unharvestable_pods\": 21032067.773341, \"harvested_pods\": 1950417.787806, \"harvestable_pods\": 62864.386574999895}, {\"timestamp\": \"2021-10-14T00:01:25\", \"season\": 1657, \"variable\": \"unharvestable_pods\", \"value\": 21442646.031522002, \"unharvestable_pods\": 21442646.031522002, \"harvested_pods\": 1994865.741893, \"harvestable_pods\": 18416.43248800002}, {\"timestamp\": \"2021-10-14T00:01:25\", \"season\": 1657, \"variable\": \"harvested_pods\", \"value\": 1994865.741893, \"unharvestable_pods\": 21442646.031522002, \"harvested_pods\": 1994865.741893, \"harvestable_pods\": 18416.43248800002}, {\"timestamp\": \"2021-10-14T00:01:25\", \"season\": 1657, \"variable\": \"harvestable_pods\", \"value\": 18416.43248800002, \"unharvestable_pods\": 21442646.031522002, \"harvested_pods\": 1994865.741893, \"harvestable_pods\": 18416.43248800002}, {\"timestamp\": \"2021-10-15T00:02:14\", \"season\": 1681, \"variable\": \"harvestable_pods\", \"value\": 18416.43248800002, \"unharvestable_pods\": 21671172.291175, \"harvested_pods\": 1994865.741893, \"harvestable_pods\": 18416.43248800002}, {\"timestamp\": \"2021-10-15T00:02:14\", \"season\": 1681, \"variable\": \"harvested_pods\", \"value\": 1994865.741893, \"unharvestable_pods\": 21671172.291175, \"harvested_pods\": 1994865.741893, \"harvestable_pods\": 18416.43248800002}, {\"timestamp\": \"2021-10-15T00:02:14\", \"season\": 1681, \"variable\": \"unharvestable_pods\", \"value\": 21671172.291175, \"unharvestable_pods\": 21671172.291175, \"harvested_pods\": 1994865.741893, \"harvestable_pods\": 18416.43248800002}, {\"timestamp\": \"2021-10-16T00:02:08\", \"season\": 1705, \"variable\": \"unharvestable_pods\", \"value\": 21987963.183862, \"unharvestable_pods\": 21987963.183862, \"harvested_pods\": 1994865.741893, \"harvestable_pods\": 18416.43248800002}, {\"timestamp\": \"2021-10-16T00:02:08\", \"season\": 1705, \"variable\": \"harvested_pods\", \"value\": 1994865.741893, \"unharvestable_pods\": 21987963.183862, \"harvested_pods\": 1994865.741893, \"harvestable_pods\": 18416.43248800002}, {\"timestamp\": \"2021-10-16T00:02:08\", \"season\": 1705, \"variable\": \"harvestable_pods\", \"value\": 18416.43248800002, \"unharvestable_pods\": 21987963.183862, \"harvested_pods\": 1994865.741893, \"harvestable_pods\": 18416.43248800002}, {\"timestamp\": \"2021-10-17T00:00:39\", \"season\": 1729, \"variable\": \"unharvestable_pods\", \"value\": 24134500.840471, \"unharvestable_pods\": 24134500.840471, \"harvested_pods\": 2039679.973857, \"harvestable_pods\": 48365.83789899992}, {\"timestamp\": \"2021-10-17T00:00:39\", \"season\": 1729, \"variable\": \"harvested_pods\", \"value\": 2039679.973857, \"unharvestable_pods\": 24134500.840471, \"harvested_pods\": 2039679.973857, \"harvestable_pods\": 48365.83789899992}, {\"timestamp\": \"2021-10-17T00:00:39\", \"season\": 1729, \"variable\": \"harvestable_pods\", \"value\": 48365.83789899992, \"unharvestable_pods\": 24134500.840471, \"harvested_pods\": 2039679.973857, \"harvestable_pods\": 48365.83789899992}, {\"timestamp\": \"2021-10-18T00:00:48\", \"season\": 1753, \"variable\": \"unharvestable_pods\", \"value\": 27141479.59942, \"unharvestable_pods\": 27141479.59942, \"harvested_pods\": 2091475.64403, \"harvestable_pods\": 93661.51890200004}, {\"timestamp\": \"2021-10-18T00:00:48\", \"season\": 1753, \"variable\": \"harvested_pods\", \"value\": 2091475.64403, \"unharvestable_pods\": 27141479.59942, \"harvested_pods\": 2091475.64403, \"harvestable_pods\": 93661.51890200004}, {\"timestamp\": \"2021-10-18T00:00:48\", \"season\": 1753, \"variable\": \"harvestable_pods\", \"value\": 93661.51890200004, \"unharvestable_pods\": 27141479.59942, \"harvested_pods\": 2091475.64403, \"harvestable_pods\": 93661.51890200004}, {\"timestamp\": \"2021-10-19T00:01:14\", \"season\": 1777, \"variable\": \"unharvestable_pods\", \"value\": 28180001.304651, \"unharvestable_pods\": 28180001.304651, \"harvested_pods\": 2178806.576211, \"harvestable_pods\": 103332.72230700031}, {\"timestamp\": \"2021-10-19T00:01:14\", \"season\": 1777, \"variable\": \"harvested_pods\", \"value\": 2178806.576211, \"unharvestable_pods\": 28180001.304651, \"harvested_pods\": 2178806.576211, \"harvestable_pods\": 103332.72230700031}, {\"timestamp\": \"2021-10-19T00:01:14\", \"season\": 1777, \"variable\": \"harvestable_pods\", \"value\": 103332.72230700031, \"unharvestable_pods\": 28180001.304651, \"harvested_pods\": 2178806.576211, \"harvestable_pods\": 103332.72230700031}, {\"timestamp\": \"2021-10-20T00:00:31\", \"season\": 1801, \"variable\": \"harvested_pods\", \"value\": 2188546.823076, \"unharvestable_pods\": 29005430.918351002, \"harvested_pods\": 2188546.823076, \"harvestable_pods\": 133527.92249300005}, {\"timestamp\": \"2021-10-20T00:00:31\", \"season\": 1801, \"variable\": \"harvestable_pods\", \"value\": 133527.92249300005, \"unharvestable_pods\": 29005430.918351002, \"harvested_pods\": 2188546.823076, \"harvestable_pods\": 133527.92249300005}, {\"timestamp\": \"2021-10-20T00:00:31\", \"season\": 1801, \"variable\": \"unharvestable_pods\", \"value\": 29005430.918351002, \"unharvestable_pods\": 29005430.918351002, \"harvested_pods\": 2188546.823076, \"harvestable_pods\": 133527.92249300005}, {\"timestamp\": \"2021-10-21T00:02:30\", \"season\": 1825, \"variable\": \"unharvestable_pods\", \"value\": 28610999.591392003, \"unharvestable_pods\": 28610999.591392003, \"harvested_pods\": 2251850.120014, \"harvestable_pods\": 329387.2166319997}, {\"timestamp\": \"2021-10-21T00:02:30\", \"season\": 1825, \"variable\": \"harvested_pods\", \"value\": 2251850.120014, \"unharvestable_pods\": 28610999.591392003, \"harvested_pods\": 2251850.120014, \"harvestable_pods\": 329387.2166319997}, {\"timestamp\": \"2021-10-21T00:02:30\", \"season\": 1825, \"variable\": \"harvestable_pods\", \"value\": 329387.2166319997, \"unharvestable_pods\": 28610999.591392003, \"harvested_pods\": 2251850.120014, \"harvestable_pods\": 329387.2166319997}, {\"timestamp\": \"2021-10-22T00:00:33\", \"season\": 1849, \"variable\": \"unharvestable_pods\", \"value\": 29870149.022693, \"unharvestable_pods\": 29870149.022693, \"harvested_pods\": 2312097.381269, \"harvestable_pods\": 329574.7408949998}, {\"timestamp\": \"2021-10-22T00:00:33\", \"season\": 1849, \"variable\": \"harvested_pods\", \"value\": 2312097.381269, \"unharvestable_pods\": 29870149.022693, \"harvested_pods\": 2312097.381269, \"harvestable_pods\": 329574.7408949998}, {\"timestamp\": \"2021-10-22T00:00:33\", \"season\": 1849, \"variable\": \"harvestable_pods\", \"value\": 329574.7408949998, \"unharvestable_pods\": 29870149.022693, \"harvested_pods\": 2312097.381269, \"harvestable_pods\": 329574.7408949998}, {\"timestamp\": \"2021-10-23T00:00:12\", \"season\": 1873, \"variable\": \"unharvestable_pods\", \"value\": 30829937.668865, \"unharvestable_pods\": 30829937.668865, \"harvested_pods\": 2312865.381271, \"harvestable_pods\": 359392.0718120001}, {\"timestamp\": \"2021-10-23T00:00:12\", \"season\": 1873, \"variable\": \"harvested_pods\", \"value\": 2312865.381271, \"unharvestable_pods\": 30829937.668865, \"harvested_pods\": 2312865.381271, \"harvestable_pods\": 359392.0718120001}, {\"timestamp\": \"2021-10-23T00:00:12\", \"season\": 1873, \"variable\": \"harvestable_pods\", \"value\": 359392.0718120001, \"unharvestable_pods\": 30829937.668865, \"harvested_pods\": 2312865.381271, \"harvestable_pods\": 359392.0718120001}, {\"timestamp\": \"2021-10-24T00:00:53\", \"season\": 1897, \"variable\": \"unharvestable_pods\", \"value\": 30826541.887272, \"unharvestable_pods\": 30826541.887272, \"harvested_pods\": 2317323.122158, \"harvestable_pods\": 459524.83499000035}, {\"timestamp\": \"2021-10-24T00:00:53\", \"season\": 1897, \"variable\": \"harvested_pods\", \"value\": 2317323.122158, \"unharvestable_pods\": 30826541.887272, \"harvested_pods\": 2317323.122158, \"harvestable_pods\": 459524.83499000035}, {\"timestamp\": \"2021-10-24T00:00:53\", \"season\": 1897, \"variable\": \"harvestable_pods\", \"value\": 459524.83499000035, \"unharvestable_pods\": 30826541.887272, \"harvested_pods\": 2317323.122158, \"harvestable_pods\": 459524.83499000035}, {\"timestamp\": \"2021-10-25T00:00:35\", \"season\": 1921, \"variable\": \"harvestable_pods\", \"value\": 488672.791189, \"unharvestable_pods\": 33501459.825739004, \"harvested_pods\": 2320758.905259, \"harvestable_pods\": 488672.791189}, {\"timestamp\": \"2021-10-25T00:00:35\", \"season\": 1921, \"variable\": \"harvested_pods\", \"value\": 2320758.905259, \"unharvestable_pods\": 33501459.825739004, \"harvested_pods\": 2320758.905259, \"harvestable_pods\": 488672.791189}, {\"timestamp\": \"2021-10-25T00:00:35\", \"season\": 1921, \"variable\": \"unharvestable_pods\", \"value\": 33501459.825739004, \"unharvestable_pods\": 33501459.825739004, \"harvested_pods\": 2320758.905259, \"harvestable_pods\": 488672.791189}, {\"timestamp\": \"2021-10-26T00:00:39\", \"season\": 1945, \"variable\": \"unharvestable_pods\", \"value\": 34209695.363988005, \"unharvestable_pods\": 34209695.363988005, \"harvested_pods\": 2322242.464822, \"harvestable_pods\": 554343.9560810002}, {\"timestamp\": \"2021-10-26T00:00:39\", \"season\": 1945, \"variable\": \"harvested_pods\", \"value\": 2322242.464822, \"unharvestable_pods\": 34209695.363988005, \"harvested_pods\": 2322242.464822, \"harvestable_pods\": 554343.9560810002}, {\"timestamp\": \"2021-10-26T00:00:39\", \"season\": 1945, \"variable\": \"harvestable_pods\", \"value\": 554343.9560810002, \"unharvestable_pods\": 34209695.363988005, \"harvested_pods\": 2322242.464822, \"harvestable_pods\": 554343.9560810002}, {\"timestamp\": \"2021-10-27T00:01:02\", \"season\": 1969, \"variable\": \"unharvestable_pods\", \"value\": 34806816.830363, \"unharvestable_pods\": 34806816.830363, \"harvested_pods\": 2342456.907984, \"harvestable_pods\": 571887.304023}, {\"timestamp\": \"2021-10-27T00:01:02\", \"season\": 1969, \"variable\": \"harvested_pods\", \"value\": 2342456.907984, \"unharvestable_pods\": 34806816.830363, \"harvested_pods\": 2342456.907984, \"harvestable_pods\": 571887.304023}, {\"timestamp\": \"2021-10-27T00:01:02\", \"season\": 1969, \"variable\": \"harvestable_pods\", \"value\": 571887.304023, \"unharvestable_pods\": 34806816.830363, \"harvested_pods\": 2342456.907984, \"harvestable_pods\": 571887.304023}, {\"timestamp\": \"2021-10-28T00:02:23\", \"season\": 1993, \"variable\": \"unharvestable_pods\", \"value\": 34637286.759434, \"unharvestable_pods\": 34637286.759434, \"harvested_pods\": 2342456.907984, \"harvestable_pods\": 737868.7173259999}, {\"timestamp\": \"2021-10-28T00:02:23\", \"season\": 1993, \"variable\": \"harvested_pods\", \"value\": 2342456.907984, \"unharvestable_pods\": 34637286.759434, \"harvested_pods\": 2342456.907984, \"harvestable_pods\": 737868.7173259999}, {\"timestamp\": \"2021-10-28T00:02:23\", \"season\": 1993, \"variable\": \"harvestable_pods\", \"value\": 737868.7173259999, \"unharvestable_pods\": 34637286.759434, \"harvested_pods\": 2342456.907984, \"harvestable_pods\": 737868.7173259999}, {\"timestamp\": \"2021-10-29T00:01:54\", \"season\": 2017, \"variable\": \"unharvestable_pods\", \"value\": 36006897.609383, \"unharvestable_pods\": 36006897.609383, \"harvested_pods\": 2351589.611307, \"harvestable_pods\": 890086.6674350002}, {\"timestamp\": \"2021-10-29T00:01:54\", \"season\": 2017, \"variable\": \"harvested_pods\", \"value\": 2351589.611307, \"unharvestable_pods\": 36006897.609383, \"harvested_pods\": 2351589.611307, \"harvestable_pods\": 890086.6674350002}, {\"timestamp\": \"2021-10-29T00:01:54\", \"season\": 2017, \"variable\": \"harvestable_pods\", \"value\": 890086.6674350002, \"unharvestable_pods\": 36006897.609383, \"harvested_pods\": 2351589.611307, \"harvestable_pods\": 890086.6674350002}, {\"timestamp\": \"2021-10-30T00:02:04\", \"season\": 2041, \"variable\": \"harvested_pods\", \"value\": 2404237.180391, \"unharvestable_pods\": 36824774.971055, \"harvested_pods\": 2404237.180391, \"harvestable_pods\": 903920.4965889999}, {\"timestamp\": \"2021-10-30T00:02:04\", \"season\": 2041, \"variable\": \"harvestable_pods\", \"value\": 903920.4965889999, \"unharvestable_pods\": 36824774.971055, \"harvested_pods\": 2404237.180391, \"harvestable_pods\": 903920.4965889999}, {\"timestamp\": \"2021-10-30T00:02:04\", \"season\": 2041, \"variable\": \"unharvestable_pods\", \"value\": 36824774.971055, \"unharvestable_pods\": 36824774.971055, \"harvested_pods\": 2404237.180391, \"harvestable_pods\": 903920.4965889999}, {\"timestamp\": \"2021-10-31T00:02:28\", \"season\": 2065, \"variable\": \"harvested_pods\", \"value\": 2421013.306022, \"unharvestable_pods\": 37160751.164471, \"harvested_pods\": 2421013.306022, \"harvestable_pods\": 965179.8361820001}, {\"timestamp\": \"2021-10-31T00:02:28\", \"season\": 2065, \"variable\": \"harvestable_pods\", \"value\": 965179.8361820001, \"unharvestable_pods\": 37160751.164471, \"harvested_pods\": 2421013.306022, \"harvestable_pods\": 965179.8361820001}, {\"timestamp\": \"2021-10-31T00:02:28\", \"season\": 2065, \"variable\": \"unharvestable_pods\", \"value\": 37160751.164471, \"unharvestable_pods\": 37160751.164471, \"harvested_pods\": 2421013.306022, \"harvestable_pods\": 965179.8361820001}, {\"timestamp\": \"2021-11-01T00:01:36\", \"season\": 2089, \"variable\": \"harvestable_pods\", \"value\": 1103898.936749, \"unharvestable_pods\": 37467595.956411, \"harvested_pods\": 2421013.306022, \"harvestable_pods\": 1103898.936749}, {\"timestamp\": \"2021-11-01T00:01:36\", \"season\": 2089, \"variable\": \"unharvestable_pods\", \"value\": 37467595.956411, \"unharvestable_pods\": 37467595.956411, \"harvested_pods\": 2421013.306022, \"harvestable_pods\": 1103898.936749}, {\"timestamp\": \"2021-11-01T00:01:36\", \"season\": 2089, \"variable\": \"harvested_pods\", \"value\": 2421013.306022, \"unharvestable_pods\": 37467595.956411, \"harvested_pods\": 2421013.306022, \"harvestable_pods\": 1103898.936749}, {\"timestamp\": \"2021-11-02T00:01:39\", \"season\": 2113, \"variable\": \"unharvestable_pods\", \"value\": 38142295.24017999, \"unharvestable_pods\": 38142295.24017999, \"harvested_pods\": 2444287.834122, \"harvestable_pods\": 1274102.0293110004}, {\"timestamp\": \"2021-11-02T00:01:39\", \"season\": 2113, \"variable\": \"harvested_pods\", \"value\": 2444287.834122, \"unharvestable_pods\": 38142295.24017999, \"harvested_pods\": 2444287.834122, \"harvestable_pods\": 1274102.0293110004}, {\"timestamp\": \"2021-11-02T00:01:39\", \"season\": 2113, \"variable\": \"harvestable_pods\", \"value\": 1274102.0293110004, \"unharvestable_pods\": 38142295.24017999, \"harvested_pods\": 2444287.834122, \"harvestable_pods\": 1274102.0293110004}, {\"timestamp\": \"2021-11-03T00:01:22\", \"season\": 2137, \"variable\": \"unharvestable_pods\", \"value\": 39286026.337112, \"unharvestable_pods\": 39286026.337112, \"harvested_pods\": 2444287.834122, \"harvestable_pods\": 1341197.448574}, {\"timestamp\": \"2021-11-03T00:01:22\", \"season\": 2137, \"variable\": \"harvested_pods\", \"value\": 2444287.834122, \"unharvestable_pods\": 39286026.337112, \"harvested_pods\": 2444287.834122, \"harvestable_pods\": 1341197.448574}, {\"timestamp\": \"2021-11-03T00:01:22\", \"season\": 2137, \"variable\": \"harvestable_pods\", \"value\": 1341197.448574, \"unharvestable_pods\": 39286026.337112, \"harvested_pods\": 2444287.834122, \"harvestable_pods\": 1341197.448574}, {\"timestamp\": \"2021-11-04T00:01:55\", \"season\": 2161, \"variable\": \"unharvestable_pods\", \"value\": 40309918.133658, \"unharvestable_pods\": 40309918.133658, \"harvested_pods\": 2444287.834122, \"harvestable_pods\": 1364984.4061000003}, {\"timestamp\": \"2021-11-04T00:01:55\", \"season\": 2161, \"variable\": \"harvested_pods\", \"value\": 2444287.834122, \"unharvestable_pods\": 40309918.133658, \"harvested_pods\": 2444287.834122, \"harvestable_pods\": 1364984.4061000003}, {\"timestamp\": \"2021-11-04T00:01:55\", \"season\": 2161, \"variable\": \"harvestable_pods\", \"value\": 1364984.4061000003, \"unharvestable_pods\": 40309918.133658, \"harvested_pods\": 2444287.834122, \"harvestable_pods\": 1364984.4061000003}, {\"timestamp\": \"2021-11-05T00:02:28\", \"season\": 2185, \"variable\": \"unharvestable_pods\", \"value\": 40539257.08687, \"unharvestable_pods\": 40539257.08687, \"harvested_pods\": 2444287.834122, \"harvestable_pods\": 1509839.9469700004}, {\"timestamp\": \"2021-11-05T00:02:28\", \"season\": 2185, \"variable\": \"harvested_pods\", \"value\": 2444287.834122, \"unharvestable_pods\": 40539257.08687, \"harvested_pods\": 2444287.834122, \"harvestable_pods\": 1509839.9469700004}, {\"timestamp\": \"2021-11-05T00:02:28\", \"season\": 2185, \"variable\": \"harvestable_pods\", \"value\": 1509839.9469700004, \"unharvestable_pods\": 40539257.08687, \"harvested_pods\": 2444287.834122, \"harvestable_pods\": 1509839.9469700004}, {\"timestamp\": \"2021-11-06T00:00:17\", \"season\": 2209, \"variable\": \"harvestable_pods\", \"value\": 1544130.1915610004, \"unharvestable_pods\": 41082146.555162, \"harvested_pods\": 2444287.834122, \"harvestable_pods\": 1544130.1915610004}, {\"timestamp\": \"2021-11-06T00:00:17\", \"season\": 2209, \"variable\": \"harvested_pods\", \"value\": 2444287.834122, \"unharvestable_pods\": 41082146.555162, \"harvested_pods\": 2444287.834122, \"harvestable_pods\": 1544130.1915610004}, {\"timestamp\": \"2021-11-06T00:00:17\", \"season\": 2209, \"variable\": \"unharvestable_pods\", \"value\": 41082146.555162, \"unharvestable_pods\": 41082146.555162, \"harvested_pods\": 2444287.834122, \"harvestable_pods\": 1544130.1915610004}, {\"timestamp\": \"2021-11-07T00:00:17\", \"season\": 2233, \"variable\": \"unharvestable_pods\", \"value\": 41621126.979845, \"unharvestable_pods\": 41621126.979845, \"harvested_pods\": 2444287.834122, \"harvestable_pods\": 1622130.9325280003}, {\"timestamp\": \"2021-11-07T00:00:17\", \"season\": 2233, \"variable\": \"harvested_pods\", \"value\": 2444287.834122, \"unharvestable_pods\": 41621126.979845, \"harvested_pods\": 2444287.834122, \"harvestable_pods\": 1622130.9325280003}, {\"timestamp\": \"2021-11-07T00:00:17\", \"season\": 2233, \"variable\": \"harvestable_pods\", \"value\": 1622130.9325280003, \"unharvestable_pods\": 41621126.979845, \"harvested_pods\": 2444287.834122, \"harvestable_pods\": 1622130.9325280003}, {\"timestamp\": \"2021-11-08T00:01:22\", \"season\": 2257, \"variable\": \"unharvestable_pods\", \"value\": 41579039.961897, \"unharvestable_pods\": 41579039.961897, \"harvested_pods\": 2444287.834122, \"harvestable_pods\": 1645972.8805320002}, {\"timestamp\": \"2021-11-08T00:01:22\", \"season\": 2257, \"variable\": \"harvested_pods\", \"value\": 2444287.834122, \"unharvestable_pods\": 41579039.961897, \"harvested_pods\": 2444287.834122, \"harvestable_pods\": 1645972.8805320002}, {\"timestamp\": \"2021-11-08T00:01:22\", \"season\": 2257, \"variable\": \"harvestable_pods\", \"value\": 1645972.8805320002, \"unharvestable_pods\": 41579039.961897, \"harvested_pods\": 2444287.834122, \"harvestable_pods\": 1645972.8805320002}, {\"timestamp\": \"2021-11-09T00:02:23\", \"season\": 2281, \"variable\": \"unharvestable_pods\", \"value\": 41826189.911509, \"unharvestable_pods\": 41826189.911509, \"harvested_pods\": 2444287.834122, \"harvestable_pods\": 1690412.50698}, {\"timestamp\": \"2021-11-09T00:02:23\", \"season\": 2281, \"variable\": \"harvested_pods\", \"value\": 2444287.834122, \"unharvestable_pods\": 41826189.911509, \"harvested_pods\": 2444287.834122, \"harvestable_pods\": 1690412.50698}, {\"timestamp\": \"2021-11-09T00:02:23\", \"season\": 2281, \"variable\": \"harvestable_pods\", \"value\": 1690412.50698, \"unharvestable_pods\": 41826189.911509, \"harvested_pods\": 2444287.834122, \"harvestable_pods\": 1690412.50698}, {\"timestamp\": \"2021-11-10T00:00:20\", \"season\": 2305, \"variable\": \"unharvestable_pods\", \"value\": 42524908.029381, \"unharvestable_pods\": 42524908.029381, \"harvested_pods\": 2444287.834122, \"harvestable_pods\": 1788523.88838}, {\"timestamp\": \"2021-11-10T00:00:20\", \"season\": 2305, \"variable\": \"harvested_pods\", \"value\": 2444287.834122, \"unharvestable_pods\": 42524908.029381, \"harvested_pods\": 2444287.834122, \"harvestable_pods\": 1788523.88838}, {\"timestamp\": \"2021-11-10T00:00:20\", \"season\": 2305, \"variable\": \"harvestable_pods\", \"value\": 1788523.88838, \"unharvestable_pods\": 42524908.029381, \"harvested_pods\": 2444287.834122, \"harvestable_pods\": 1788523.88838}, {\"timestamp\": \"2021-11-11T00:02:14\", \"season\": 2329, \"variable\": \"harvested_pods\", \"value\": 2545511.616523, \"unharvestable_pods\": 47933950.962907, \"harvested_pods\": 2545511.616523, \"harvestable_pods\": 1807783.8929910003}, {\"timestamp\": \"2021-11-11T00:02:14\", \"season\": 2329, \"variable\": \"harvestable_pods\", \"value\": 1807783.8929910003, \"unharvestable_pods\": 47933950.962907, \"harvested_pods\": 2545511.616523, \"harvestable_pods\": 1807783.8929910003}, {\"timestamp\": \"2021-11-11T00:02:14\", \"season\": 2329, \"variable\": \"unharvestable_pods\", \"value\": 47933950.962907, \"unharvestable_pods\": 47933950.962907, \"harvested_pods\": 2545511.616523, \"harvestable_pods\": 1807783.8929910003}, {\"timestamp\": \"2021-11-12T00:01:57\", \"season\": 2353, \"variable\": \"unharvestable_pods\", \"value\": 65017368.59460001, \"unharvestable_pods\": 65017368.59460001, \"harvested_pods\": 3324269.373112, \"harvestable_pods\": 1073758.404978}, {\"timestamp\": \"2021-11-12T00:01:57\", \"season\": 2353, \"variable\": \"harvested_pods\", \"value\": 3324269.373112, \"unharvestable_pods\": 65017368.59460001, \"harvested_pods\": 3324269.373112, \"harvestable_pods\": 1073758.404978}, {\"timestamp\": \"2021-11-12T00:01:57\", \"season\": 2353, \"variable\": \"harvestable_pods\", \"value\": 1073758.404978, \"unharvestable_pods\": 65017368.59460001, \"harvested_pods\": 3324269.373112, \"harvestable_pods\": 1073758.404978}, {\"timestamp\": \"2021-11-13T00:00:17\", \"season\": 2377, \"variable\": \"unharvestable_pods\", \"value\": 70218506.559914, \"unharvestable_pods\": 70218506.559914, \"harvested_pods\": 3548049.174483, \"harvestable_pods\": 932821.3075190005}, {\"timestamp\": \"2021-11-13T00:00:17\", \"season\": 2377, \"variable\": \"harvested_pods\", \"value\": 3548049.174483, \"unharvestable_pods\": 70218506.559914, \"harvested_pods\": 3548049.174483, \"harvestable_pods\": 932821.3075190005}, {\"timestamp\": \"2021-11-13T00:00:17\", \"season\": 2377, \"variable\": \"harvestable_pods\", \"value\": 932821.3075190005, \"unharvestable_pods\": 70218506.559914, \"harvested_pods\": 3548049.174483, \"harvestable_pods\": 932821.3075190005}, {\"timestamp\": \"2021-11-14T00:00:31\", \"season\": 2401, \"variable\": \"unharvestable_pods\", \"value\": 72384184.56610899, \"unharvestable_pods\": 72384184.56610899, \"harvested_pods\": 3640517.214227, \"harvestable_pods\": 881834.0385710006}, {\"timestamp\": \"2021-11-14T00:00:31\", \"season\": 2401, \"variable\": \"harvested_pods\", \"value\": 3640517.214227, \"unharvestable_pods\": 72384184.56610899, \"harvested_pods\": 3640517.214227, \"harvestable_pods\": 881834.0385710006}, {\"timestamp\": \"2021-11-14T00:00:31\", \"season\": 2401, \"variable\": \"harvestable_pods\", \"value\": 881834.0385710006, \"unharvestable_pods\": 72384184.56610899, \"harvested_pods\": 3640517.214227, \"harvestable_pods\": 881834.0385710006}, {\"timestamp\": \"2021-11-15T00:01:44\", \"season\": 2425, \"variable\": \"unharvestable_pods\", \"value\": 83581328.241115, \"unharvestable_pods\": 83581328.241115, \"harvested_pods\": 4038702.091539, \"harvestable_pods\": 643220.9590400001}, {\"timestamp\": \"2021-11-15T00:01:44\", \"season\": 2425, \"variable\": \"harvested_pods\", \"value\": 4038702.091539, \"unharvestable_pods\": 83581328.241115, \"harvested_pods\": 4038702.091539, \"harvestable_pods\": 643220.9590400001}, {\"timestamp\": \"2021-11-15T00:01:44\", \"season\": 2425, \"variable\": \"harvestable_pods\", \"value\": 643220.9590400001, \"unharvestable_pods\": 83581328.241115, \"harvested_pods\": 4038702.091539, \"harvestable_pods\": 643220.9590400001}, {\"timestamp\": \"2021-11-16T00:00:56\", \"season\": 2449, \"variable\": \"harvestable_pods\", \"value\": 477898.504187, \"unharvestable_pods\": 92874055.719544, \"harvested_pods\": 4336050.723231, \"harvestable_pods\": 477898.504187}, {\"timestamp\": \"2021-11-16T00:00:56\", \"season\": 2449, \"variable\": \"harvested_pods\", \"value\": 4336050.723231, \"unharvestable_pods\": 92874055.719544, \"harvested_pods\": 4336050.723231, \"harvestable_pods\": 477898.504187}, {\"timestamp\": \"2021-11-16T00:00:56\", \"season\": 2449, \"variable\": \"unharvestable_pods\", \"value\": 92874055.719544, \"unharvestable_pods\": 92874055.719544, \"harvested_pods\": 4336050.723231, \"harvestable_pods\": 477898.504187}, {\"timestamp\": \"2021-11-17T00:00:50\", \"season\": 2473, \"variable\": \"unharvestable_pods\", \"value\": 102548094.300176, \"unharvestable_pods\": 102548094.300176, \"harvested_pods\": 4988304.762608, \"harvestable_pods\": 346532.1186119998}, {\"timestamp\": \"2021-11-17T00:00:50\", \"season\": 2473, \"variable\": \"harvested_pods\", \"value\": 4988304.762608, \"unharvestable_pods\": 102548094.300176, \"harvested_pods\": 4988304.762608, \"harvestable_pods\": 346532.1186119998}, {\"timestamp\": \"2021-11-17T00:00:50\", \"season\": 2473, \"variable\": \"harvestable_pods\", \"value\": 346532.1186119998, \"unharvestable_pods\": 102548094.300176, \"harvested_pods\": 4988304.762608, \"harvestable_pods\": 346532.1186119998}, {\"timestamp\": \"2021-11-18T00:00:38\", \"season\": 2497, \"variable\": \"unharvestable_pods\", \"value\": 111038671.63081099, \"unharvestable_pods\": 111038671.63081099, \"harvested_pods\": 5312720.314864, \"harvestable_pods\": 358681.3959459998}, {\"timestamp\": \"2021-11-18T00:00:38\", \"season\": 2497, \"variable\": \"harvested_pods\", \"value\": 5312720.314864, \"unharvestable_pods\": 111038671.63081099, \"harvested_pods\": 5312720.314864, \"harvestable_pods\": 358681.3959459998}, {\"timestamp\": \"2021-11-18T00:00:38\", \"season\": 2497, \"variable\": \"harvestable_pods\", \"value\": 358681.3959459998, \"unharvestable_pods\": 111038671.63081099, \"harvested_pods\": 5312720.314864, \"harvestable_pods\": 358681.3959459998}, {\"timestamp\": \"2021-11-19T00:00:49\", \"season\": 2521, \"variable\": \"unharvestable_pods\", \"value\": 118703042.13422501, \"unharvestable_pods\": 118703042.13422501, \"harvested_pods\": 5641302.664122, \"harvestable_pods\": 156528.71932299994}, {\"timestamp\": \"2021-11-19T00:00:49\", \"season\": 2521, \"variable\": \"harvested_pods\", \"value\": 5641302.664122, \"unharvestable_pods\": 118703042.13422501, \"harvested_pods\": 5641302.664122, \"harvestable_pods\": 156528.71932299994}, {\"timestamp\": \"2021-11-19T00:00:49\", \"season\": 2521, \"variable\": \"harvestable_pods\", \"value\": 156528.71932299994, \"unharvestable_pods\": 118703042.13422501, \"harvested_pods\": 5641302.664122, \"harvestable_pods\": 156528.71932299994}, {\"timestamp\": \"2021-11-20T00:01:08\", \"season\": 2545, \"variable\": \"unharvestable_pods\", \"value\": 122050430.590826, \"unharvestable_pods\": 122050430.590826, \"harvested_pods\": 5802462.985656, \"harvestable_pods\": 203525.50348199997}, {\"timestamp\": \"2021-11-20T00:01:08\", \"season\": 2545, \"variable\": \"harvested_pods\", \"value\": 5802462.985656, \"unharvestable_pods\": 122050430.590826, \"harvested_pods\": 5802462.985656, \"harvestable_pods\": 203525.50348199997}, {\"timestamp\": \"2021-11-20T00:01:08\", \"season\": 2545, \"variable\": \"harvestable_pods\", \"value\": 203525.50348199997, \"unharvestable_pods\": 122050430.590826, \"harvested_pods\": 5802462.985656, \"harvestable_pods\": 203525.50348199997}, {\"timestamp\": \"2021-11-21T00:00:01\", \"season\": 2569, \"variable\": \"harvested_pods\", \"value\": 6137556.431239, \"unharvestable_pods\": 126667661.852723, \"harvested_pods\": 6137556.431239, \"harvestable_pods\": 365387.9938280005}, {\"timestamp\": \"2021-11-21T00:00:01\", \"season\": 2569, \"variable\": \"harvestable_pods\", \"value\": 365387.9938280005, \"unharvestable_pods\": 126667661.852723, \"harvested_pods\": 6137556.431239, \"harvestable_pods\": 365387.9938280005}, {\"timestamp\": \"2021-11-21T00:00:01\", \"season\": 2569, \"variable\": \"unharvestable_pods\", \"value\": 126667661.852723, \"unharvestable_pods\": 126667661.852723, \"harvested_pods\": 6137556.431239, \"harvestable_pods\": 365387.9938280005}, {\"timestamp\": \"2021-11-22T00:01:39\", \"season\": 2593, \"variable\": \"harvested_pods\", \"value\": 6818536.16825, \"unharvestable_pods\": 137373400.84392202, \"harvested_pods\": 6818536.16825, \"harvestable_pods\": 267833.80058200005}, {\"timestamp\": \"2021-11-22T00:01:39\", \"season\": 2593, \"variable\": \"harvestable_pods\", \"value\": 267833.80058200005, \"unharvestable_pods\": 137373400.84392202, \"harvested_pods\": 6818536.16825, \"harvestable_pods\": 267833.80058200005}, {\"timestamp\": \"2021-11-22T00:01:39\", \"season\": 2593, \"variable\": \"unharvestable_pods\", \"value\": 137373400.84392202, \"unharvestable_pods\": 137373400.84392202, \"harvested_pods\": 6818536.16825, \"harvestable_pods\": 267833.80058200005}, {\"timestamp\": \"2021-11-23T00:01:23\", \"season\": 2617, \"variable\": \"unharvestable_pods\", \"value\": 152720308.33047, \"unharvestable_pods\": 152720308.33047, \"harvested_pods\": 7539854.901993, \"harvestable_pods\": 392605.1556590004}, {\"timestamp\": \"2021-11-23T00:01:23\", \"season\": 2617, \"variable\": \"harvested_pods\", \"value\": 7539854.901993, \"unharvestable_pods\": 152720308.33047, \"harvested_pods\": 7539854.901993, \"harvestable_pods\": 392605.1556590004}, {\"timestamp\": \"2021-11-23T00:01:23\", \"season\": 2617, \"variable\": \"harvestable_pods\", \"value\": 392605.1556590004, \"unharvestable_pods\": 152720308.33047, \"harvested_pods\": 7539854.901993, \"harvestable_pods\": 392605.1556590004}, {\"timestamp\": \"2021-11-24T00:00:42\", \"season\": 2629, \"variable\": \"unharvestable_pods\", \"value\": 182557777.074706, \"unharvestable_pods\": 182557777.074706, \"harvested_pods\": 8744902.959668, \"harvestable_pods\": 814208.9425070006}, {\"timestamp\": \"2021-11-24T00:00:42\", \"season\": 2629, \"variable\": \"harvested_pods\", \"value\": 8744902.959668, \"unharvestable_pods\": 182557777.074706, \"harvested_pods\": 8744902.959668, \"harvestable_pods\": 814208.9425070006}, {\"timestamp\": \"2021-11-24T00:00:42\", \"season\": 2629, \"variable\": \"harvestable_pods\", \"value\": 814208.9425070006, \"unharvestable_pods\": 182557777.074706, \"harvested_pods\": 8744902.959668, \"harvestable_pods\": 814208.9425070006}, {\"timestamp\": \"2021-11-25T00:00:29\", \"season\": 2653, \"variable\": \"unharvestable_pods\", \"value\": 195608015.07665202, \"unharvestable_pods\": 195608015.07665202, \"harvested_pods\": 10778016.628453, \"harvestable_pods\": 753960.1080780011}, {\"timestamp\": \"2021-11-25T00:00:29\", \"season\": 2653, \"variable\": \"harvested_pods\", \"value\": 10778016.628453, \"unharvestable_pods\": 195608015.07665202, \"harvested_pods\": 10778016.628453, \"harvestable_pods\": 753960.1080780011}, {\"timestamp\": \"2021-11-25T00:00:29\", \"season\": 2653, \"variable\": \"harvestable_pods\", \"value\": 753960.1080780011, \"unharvestable_pods\": 195608015.07665202, \"harvested_pods\": 10778016.628453, \"harvestable_pods\": 753960.1080780011}, {\"timestamp\": \"2021-11-26T00:00:31\", \"season\": 2677, \"variable\": \"unharvestable_pods\", \"value\": 204898354.104481, \"unharvestable_pods\": 204898354.104481, \"harvested_pods\": 11611253.820139, \"harvestable_pods\": 945187.2535420004}, {\"timestamp\": \"2021-11-26T00:00:31\", \"season\": 2677, \"variable\": \"harvested_pods\", \"value\": 11611253.820139, \"unharvestable_pods\": 204898354.104481, \"harvested_pods\": 11611253.820139, \"harvestable_pods\": 945187.2535420004}, {\"timestamp\": \"2021-11-26T00:00:31\", \"season\": 2677, \"variable\": \"harvestable_pods\", \"value\": 945187.2535420004, \"unharvestable_pods\": 204898354.104481, \"harvested_pods\": 11611253.820139, \"harvestable_pods\": 945187.2535420004}, {\"timestamp\": \"2021-11-27T00:00:49\", \"season\": 2701, \"variable\": \"harvested_pods\", \"value\": 13260289.481039, \"unharvestable_pods\": 219017949.36698797, \"harvested_pods\": 13260289.481039, \"harvestable_pods\": 691882.454101}, {\"timestamp\": \"2021-11-27T00:00:49\", \"season\": 2701, \"variable\": \"harvestable_pods\", \"value\": 691882.454101, \"unharvestable_pods\": 219017949.36698797, \"harvested_pods\": 13260289.481039, \"harvestable_pods\": 691882.454101}, {\"timestamp\": \"2021-11-27T00:00:49\", \"season\": 2701, \"variable\": \"unharvestable_pods\", \"value\": 219017949.36698797, \"unharvestable_pods\": 219017949.36698797, \"harvested_pods\": 13260289.481039, \"harvestable_pods\": 691882.454101}, {\"timestamp\": \"2021-11-28T00:00:38\", \"season\": 2725, \"variable\": \"unharvestable_pods\", \"value\": 227655722.924725, \"unharvestable_pods\": 227655722.924725, \"harvested_pods\": 14751092.230032, \"harvestable_pods\": 637835.0070659984}, {\"timestamp\": \"2021-11-28T00:00:38\", \"season\": 2725, \"variable\": \"harvested_pods\", \"value\": 14751092.230032, \"unharvestable_pods\": 227655722.924725, \"harvested_pods\": 14751092.230032, \"harvestable_pods\": 637835.0070659984}, {\"timestamp\": \"2021-11-28T00:00:38\", \"season\": 2725, \"variable\": \"harvestable_pods\", \"value\": 637835.0070659984, \"unharvestable_pods\": 227655722.924725, \"harvested_pods\": 14751092.230032, \"harvestable_pods\": 637835.0070659984}, {\"timestamp\": \"2021-11-29T00:01:08\", \"season\": 2749, \"variable\": \"unharvestable_pods\", \"value\": 241904230.735486, \"unharvestable_pods\": 241904230.735486, \"harvested_pods\": 16434650.398223, \"harvestable_pods\": 795706.5450299997}, {\"timestamp\": \"2021-11-29T00:01:08\", \"season\": 2749, \"variable\": \"harvested_pods\", \"value\": 16434650.398223, \"unharvestable_pods\": 241904230.735486, \"harvested_pods\": 16434650.398223, \"harvestable_pods\": 795706.5450299997}, {\"timestamp\": \"2021-11-29T00:01:08\", \"season\": 2749, \"variable\": \"harvestable_pods\", \"value\": 795706.5450299997, \"unharvestable_pods\": 241904230.735486, \"harvested_pods\": 16434650.398223, \"harvestable_pods\": 795706.5450299997}, {\"timestamp\": \"2021-11-30T00:01:06\", \"season\": 2773, \"variable\": \"harvested_pods\", \"value\": 19411773.106953, \"unharvestable_pods\": 255626269.966228, \"harvested_pods\": 19411773.106953, \"harvestable_pods\": 1016208.7776620016}, {\"timestamp\": \"2021-11-30T00:01:06\", \"season\": 2773, \"variable\": \"unharvestable_pods\", \"value\": 255626269.966228, \"unharvestable_pods\": 255626269.966228, \"harvested_pods\": 19411773.106953, \"harvestable_pods\": 1016208.7776620016}, {\"timestamp\": \"2021-11-30T00:01:06\", \"season\": 2773, \"variable\": \"harvestable_pods\", \"value\": 1016208.7776620016, \"unharvestable_pods\": 255626269.966228, \"harvested_pods\": 19411773.106953, \"harvestable_pods\": 1016208.7776620016}, {\"timestamp\": \"2021-12-01T00:02:37\", \"season\": 2797, \"variable\": \"unharvestable_pods\", \"value\": 276310450.99421, \"unharvestable_pods\": 276310450.99421, \"harvested_pods\": 21136794.819107, \"harvestable_pods\": 797996.376747001}, {\"timestamp\": \"2021-12-01T00:02:37\", \"season\": 2797, \"variable\": \"harvested_pods\", \"value\": 21136794.819107, \"unharvestable_pods\": 276310450.99421, \"harvested_pods\": 21136794.819107, \"harvestable_pods\": 797996.376747001}, {\"timestamp\": \"2021-12-01T00:02:37\", \"season\": 2797, \"variable\": \"harvestable_pods\", \"value\": 797996.376747001, \"unharvestable_pods\": 276310450.99421, \"harvested_pods\": 21136794.819107, \"harvestable_pods\": 797996.376747001}, {\"timestamp\": \"2021-12-02T00:01:18\", \"season\": 2821, \"variable\": \"harvested_pods\", \"value\": 21476004.207805, \"unharvestable_pods\": 290527047.44132304, \"harvested_pods\": 21476004.207805, \"harvestable_pods\": 600233.096241001}, {\"timestamp\": \"2021-12-02T00:01:18\", \"season\": 2821, \"variable\": \"harvestable_pods\", \"value\": 600233.096241001, \"unharvestable_pods\": 290527047.44132304, \"harvested_pods\": 21476004.207805, \"harvestable_pods\": 600233.096241001}, {\"timestamp\": \"2021-12-02T00:01:18\", \"season\": 2821, \"variable\": \"unharvestable_pods\", \"value\": 290527047.44132304, \"unharvestable_pods\": 290527047.44132304, \"harvested_pods\": 21476004.207805, \"harvestable_pods\": 600233.096241001}, {\"timestamp\": \"2021-12-03T00:01:08\", \"season\": 2845, \"variable\": \"harvestable_pods\", \"value\": 469590.81818300113, \"unharvestable_pods\": 316153109.209296, \"harvested_pods\": 21677457.730471, \"harvestable_pods\": 469590.81818300113}, {\"timestamp\": \"2021-12-03T00:01:08\", \"season\": 2845, \"variable\": \"harvested_pods\", \"value\": 21677457.730471, \"unharvestable_pods\": 316153109.209296, \"harvested_pods\": 21677457.730471, \"harvestable_pods\": 469590.81818300113}, {\"timestamp\": \"2021-12-03T00:01:08\", \"season\": 2845, \"variable\": \"unharvestable_pods\", \"value\": 316153109.209296, \"unharvestable_pods\": 316153109.209296, \"harvested_pods\": 21677457.730471, \"harvestable_pods\": 469590.81818300113}, {\"timestamp\": \"2021-12-04T00:00:14\", \"season\": 2869, \"variable\": \"unharvestable_pods\", \"value\": 329369201.572774, \"unharvestable_pods\": 329369201.572774, \"harvested_pods\": 21811570.342467, \"harvestable_pods\": 463170.3509979993}, {\"timestamp\": \"2021-12-04T00:00:14\", \"season\": 2869, \"variable\": \"harvested_pods\", \"value\": 21811570.342467, \"unharvestable_pods\": 329369201.572774, \"harvested_pods\": 21811570.342467, \"harvestable_pods\": 463170.3509979993}, {\"timestamp\": \"2021-12-04T00:00:14\", \"season\": 2869, \"variable\": \"harvestable_pods\", \"value\": 463170.3509979993, \"unharvestable_pods\": 329369201.572774, \"harvested_pods\": 21811570.342467, \"harvestable_pods\": 463170.3509979993}, {\"timestamp\": \"2021-12-05T00:00:54\", \"season\": 2893, \"variable\": \"unharvestable_pods\", \"value\": 336548354.888647, \"unharvestable_pods\": 336548354.888647, \"harvested_pods\": 21873565.155148, \"harvestable_pods\": 418232.22349200025}, {\"timestamp\": \"2021-12-05T00:00:54\", \"season\": 2893, \"variable\": \"harvested_pods\", \"value\": 21873565.155148, \"unharvestable_pods\": 336548354.888647, \"harvested_pods\": 21873565.155148, \"harvestable_pods\": 418232.22349200025}, {\"timestamp\": \"2021-12-05T00:00:54\", \"season\": 2893, \"variable\": \"harvestable_pods\", \"value\": 418232.22349200025, \"unharvestable_pods\": 336548354.888647, \"harvested_pods\": 21873565.155148, \"harvestable_pods\": 418232.22349200025}, {\"timestamp\": \"2021-12-06T00:00:12\", \"season\": 2917, \"variable\": \"unharvestable_pods\", \"value\": 338509295.797626, \"unharvestable_pods\": 338509295.797626, \"harvested_pods\": 21888237.548419, \"harvestable_pods\": 403559.83022100106}, {\"timestamp\": \"2021-12-06T00:00:12\", \"season\": 2917, \"variable\": \"harvested_pods\", \"value\": 21888237.548419, \"unharvestable_pods\": 338509295.797626, \"harvested_pods\": 21888237.548419, \"harvestable_pods\": 403559.83022100106}, {\"timestamp\": \"2021-12-06T00:00:12\", \"season\": 2917, \"variable\": \"harvestable_pods\", \"value\": 403559.83022100106, \"unharvestable_pods\": 338509295.797626, \"harvested_pods\": 21888237.548419, \"harvestable_pods\": 403559.83022100106}, {\"timestamp\": \"2021-12-07T00:00:11\", \"season\": 2941, \"variable\": \"harvestable_pods\", \"value\": 401618.90022100136, \"unharvestable_pods\": 339625584.866187, \"harvested_pods\": 21890178.478419, \"harvestable_pods\": 401618.90022100136}, {\"timestamp\": \"2021-12-07T00:00:11\", \"season\": 2941, \"variable\": \"unharvestable_pods\", \"value\": 339625584.866187, \"unharvestable_pods\": 339625584.866187, \"harvested_pods\": 21890178.478419, \"harvestable_pods\": 401618.90022100136}, {\"timestamp\": \"2021-12-07T00:00:11\", \"season\": 2941, \"variable\": \"harvested_pods\", \"value\": 21890178.478419, \"unharvestable_pods\": 339625584.866187, \"harvested_pods\": 21890178.478419, \"harvestable_pods\": 401618.90022100136}, {\"timestamp\": \"2021-12-08T00:00:12\", \"season\": 2965, \"variable\": \"harvestable_pods\", \"value\": 400523.90022100136, \"unharvestable_pods\": 342089922.628389, \"harvested_pods\": 21891273.478419, \"harvestable_pods\": 400523.90022100136}, {\"timestamp\": \"2021-12-08T00:00:12\", \"season\": 2965, \"variable\": \"harvested_pods\", \"value\": 21891273.478419, \"unharvestable_pods\": 342089922.628389, \"harvested_pods\": 21891273.478419, \"harvestable_pods\": 400523.90022100136}, {\"timestamp\": \"2021-12-08T00:00:12\", \"season\": 2965, \"variable\": \"unharvestable_pods\", \"value\": 342089922.628389, \"unharvestable_pods\": 342089922.628389, \"harvested_pods\": 21891273.478419, \"harvestable_pods\": 400523.90022100136}, {\"timestamp\": \"2021-12-09T00:00:34\", \"season\": 2989, \"variable\": \"unharvestable_pods\", \"value\": 342595224.867066, \"unharvestable_pods\": 342595224.867066, \"harvested_pods\": 21891626.11802, \"harvestable_pods\": 400171.260619998}, {\"timestamp\": \"2021-12-09T00:00:34\", \"season\": 2989, \"variable\": \"harvested_pods\", \"value\": 21891626.11802, \"unharvestable_pods\": 342595224.867066, \"harvested_pods\": 21891626.11802, \"harvestable_pods\": 400171.260619998}, {\"timestamp\": \"2021-12-09T00:00:34\", \"season\": 2989, \"variable\": \"harvestable_pods\", \"value\": 400171.260619998, \"unharvestable_pods\": 342595224.867066, \"harvested_pods\": 21891626.11802, \"harvestable_pods\": 400171.260619998}, {\"timestamp\": \"2021-12-10T00:00:24\", \"season\": 3013, \"variable\": \"unharvestable_pods\", \"value\": 344648890.285113, \"unharvestable_pods\": 344648890.285113, \"harvested_pods\": 21891626.11802, \"harvestable_pods\": 400171.260619998}, {\"timestamp\": \"2021-12-10T00:00:24\", \"season\": 3013, \"variable\": \"harvested_pods\", \"value\": 21891626.11802, \"unharvestable_pods\": 344648890.285113, \"harvested_pods\": 21891626.11802, \"harvestable_pods\": 400171.260619998}, {\"timestamp\": \"2021-12-10T00:00:24\", \"season\": 3013, \"variable\": \"harvestable_pods\", \"value\": 400171.260619998, \"unharvestable_pods\": 344648890.285113, \"harvested_pods\": 21891626.11802, \"harvestable_pods\": 400171.260619998}, {\"timestamp\": \"2021-12-11T00:00:51\", \"season\": 3037, \"variable\": \"harvestable_pods\", \"value\": 400171.260619998, \"unharvestable_pods\": 350368880.542697, \"harvested_pods\": 21891626.11802, \"harvestable_pods\": 400171.260619998}, {\"timestamp\": \"2021-12-11T00:00:51\", \"season\": 3037, \"variable\": \"unharvestable_pods\", \"value\": 350368880.542697, \"unharvestable_pods\": 350368880.542697, \"harvested_pods\": 21891626.11802, \"harvestable_pods\": 400171.260619998}, {\"timestamp\": \"2021-12-11T00:00:51\", \"season\": 3037, \"variable\": \"harvested_pods\", \"value\": 21891626.11802, \"unharvestable_pods\": 350368880.542697, \"harvested_pods\": 21891626.11802, \"harvestable_pods\": 400171.260619998}, {\"timestamp\": \"2021-12-12T00:01:06\", \"season\": 3061, \"variable\": \"harvested_pods\", \"value\": 21892511.636818, \"unharvestable_pods\": 356047282.770507, \"harvested_pods\": 21892511.636818, \"harvestable_pods\": 399285.7418220006}, {\"timestamp\": \"2021-12-12T00:01:06\", \"season\": 3061, \"variable\": \"harvestable_pods\", \"value\": 399285.7418220006, \"unharvestable_pods\": 356047282.770507, \"harvested_pods\": 21892511.636818, \"harvestable_pods\": 399285.7418220006}, {\"timestamp\": \"2021-12-12T00:01:06\", \"season\": 3061, \"variable\": \"unharvestable_pods\", \"value\": 356047282.770507, \"unharvestable_pods\": 356047282.770507, \"harvested_pods\": 21892511.636818, \"harvestable_pods\": 399285.7418220006}, {\"timestamp\": \"2021-12-13T00:00:12\", \"season\": 3085, \"variable\": \"harvested_pods\", \"value\": 21895984.886408, \"unharvestable_pods\": 356868345.699452, \"harvested_pods\": 21895984.886408, \"harvestable_pods\": 395812.4922319986}, {\"timestamp\": \"2021-12-13T00:00:12\", \"season\": 3085, \"variable\": \"harvestable_pods\", \"value\": 395812.4922319986, \"unharvestable_pods\": 356868345.699452, \"harvested_pods\": 21895984.886408, \"harvestable_pods\": 395812.4922319986}, {\"timestamp\": \"2021-12-13T00:00:12\", \"season\": 3085, \"variable\": \"unharvestable_pods\", \"value\": 356868345.699452, \"unharvestable_pods\": 356868345.699452, \"harvested_pods\": 21895984.886408, \"harvestable_pods\": 395812.4922319986}, {\"timestamp\": \"2021-12-14T00:01:35\", \"season\": 3109, \"variable\": \"harvestable_pods\", \"value\": 355012.94426099956, \"unharvestable_pods\": 358557946.407727, \"harvested_pods\": 21936784.434379, \"harvestable_pods\": 355012.94426099956}, {\"timestamp\": \"2021-12-14T00:01:35\", \"season\": 3109, \"variable\": \"harvested_pods\", \"value\": 21936784.434379, \"unharvestable_pods\": 358557946.407727, \"harvested_pods\": 21936784.434379, \"harvestable_pods\": 355012.94426099956}, {\"timestamp\": \"2021-12-14T00:01:35\", \"season\": 3109, \"variable\": \"unharvestable_pods\", \"value\": 358557946.407727, \"unharvestable_pods\": 358557946.407727, \"harvested_pods\": 21936784.434379, \"harvestable_pods\": 355012.94426099956}, {\"timestamp\": \"2021-12-15T00:00:04\", \"season\": 3133, \"variable\": \"unharvestable_pods\", \"value\": 360153901.180973, \"unharvestable_pods\": 360153901.180973, \"harvested_pods\": 21936784.434379, \"harvestable_pods\": 355012.94426099956}, {\"timestamp\": \"2021-12-15T00:00:04\", \"season\": 3133, \"variable\": \"harvested_pods\", \"value\": 21936784.434379, \"unharvestable_pods\": 360153901.180973, \"harvested_pods\": 21936784.434379, \"harvestable_pods\": 355012.94426099956}, {\"timestamp\": \"2021-12-15T00:00:04\", \"season\": 3133, \"variable\": \"harvestable_pods\", \"value\": 355012.94426099956, \"unharvestable_pods\": 360153901.180973, \"harvested_pods\": 21936784.434379, \"harvestable_pods\": 355012.94426099956}, {\"timestamp\": \"2021-12-16T00:00:57\", \"season\": 3157, \"variable\": \"unharvestable_pods\", \"value\": 361241471.464755, \"unharvestable_pods\": 361241471.464755, \"harvested_pods\": 21938884.735599, \"harvestable_pods\": 354643.70074300095}, {\"timestamp\": \"2021-12-16T00:00:57\", \"season\": 3157, \"variable\": \"harvested_pods\", \"value\": 21938884.735599, \"unharvestable_pods\": 361241471.464755, \"harvested_pods\": 21938884.735599, \"harvestable_pods\": 354643.70074300095}, {\"timestamp\": \"2021-12-16T00:00:57\", \"season\": 3157, \"variable\": \"harvestable_pods\", \"value\": 354643.70074300095, \"unharvestable_pods\": 361241471.464755, \"harvested_pods\": 21938884.735599, \"harvestable_pods\": 354643.70074300095}, {\"timestamp\": \"2021-12-17T00:00:10\", \"season\": 3181, \"variable\": \"unharvestable_pods\", \"value\": 361772726.128126, \"unharvestable_pods\": 361772726.128126, \"harvested_pods\": 21940419.381158, \"harvestable_pods\": 353109.05518399924}, {\"timestamp\": \"2021-12-17T00:00:10\", \"season\": 3181, \"variable\": \"harvested_pods\", \"value\": 21940419.381158, \"unharvestable_pods\": 361772726.128126, \"harvested_pods\": 21940419.381158, \"harvestable_pods\": 353109.05518399924}, {\"timestamp\": \"2021-12-17T00:00:10\", \"season\": 3181, \"variable\": \"harvestable_pods\", \"value\": 353109.05518399924, \"unharvestable_pods\": 361772726.128126, \"harvested_pods\": 21940419.381158, \"harvestable_pods\": 353109.05518399924}, {\"timestamp\": \"2021-12-18T00:01:09\", \"season\": 3205, \"variable\": \"unharvestable_pods\", \"value\": 364017679.91092, \"unharvestable_pods\": 364017679.91092, \"harvested_pods\": 21940419.381158, \"harvestable_pods\": 353109.05518399924}, {\"timestamp\": \"2021-12-18T00:01:09\", \"season\": 3205, \"variable\": \"harvested_pods\", \"value\": 21940419.381158, \"unharvestable_pods\": 364017679.91092, \"harvested_pods\": 21940419.381158, \"harvestable_pods\": 353109.05518399924}, {\"timestamp\": \"2021-12-18T00:01:09\", \"season\": 3205, \"variable\": \"harvestable_pods\", \"value\": 353109.05518399924, \"unharvestable_pods\": 364017679.91092, \"harvested_pods\": 21940419.381158, \"harvestable_pods\": 353109.05518399924}, {\"timestamp\": \"2021-12-19T00:00:42\", \"season\": 3229, \"variable\": \"harvestable_pods\", \"value\": 345172.4769000001, \"unharvestable_pods\": 370012348.897916, \"harvested_pods\": 21948355.959442, \"harvestable_pods\": 345172.4769000001}, {\"timestamp\": \"2021-12-19T00:00:42\", \"season\": 3229, \"variable\": \"harvested_pods\", \"value\": 21948355.959442, \"unharvestable_pods\": 370012348.897916, \"harvested_pods\": 21948355.959442, \"harvestable_pods\": 345172.4769000001}, {\"timestamp\": \"2021-12-19T00:00:42\", \"season\": 3229, \"variable\": \"unharvestable_pods\", \"value\": 370012348.897916, \"unharvestable_pods\": 370012348.897916, \"harvested_pods\": 21948355.959442, \"harvestable_pods\": 345172.4769000001}, {\"timestamp\": \"2021-12-20T00:01:07\", \"season\": 3253, \"variable\": \"unharvestable_pods\", \"value\": 377771318.988354, \"unharvestable_pods\": 377771318.988354, \"harvested_pods\": 21952488.381341, \"harvestable_pods\": 341040.0550010018}, {\"timestamp\": \"2021-12-20T00:01:07\", \"season\": 3253, \"variable\": \"harvested_pods\", \"value\": 21952488.381341, \"unharvestable_pods\": 377771318.988354, \"harvested_pods\": 21952488.381341, \"harvestable_pods\": 341040.0550010018}, {\"timestamp\": \"2021-12-20T00:01:07\", \"season\": 3253, \"variable\": \"harvestable_pods\", \"value\": 341040.0550010018, \"unharvestable_pods\": 377771318.988354, \"harvested_pods\": 21952488.381341, \"harvestable_pods\": 341040.0550010018}, {\"timestamp\": \"2021-12-21T00:00:51\", \"season\": 3277, \"variable\": \"unharvestable_pods\", \"value\": 380481529.30289, \"unharvestable_pods\": 380481529.30289, \"harvested_pods\": 21952488.381341, \"harvestable_pods\": 341040.0550010018}, {\"timestamp\": \"2021-12-21T00:00:51\", \"season\": 3277, \"variable\": \"harvested_pods\", \"value\": 21952488.381341, \"unharvestable_pods\": 380481529.30289, \"harvested_pods\": 21952488.381341, \"harvestable_pods\": 341040.0550010018}, {\"timestamp\": \"2021-12-21T00:00:51\", \"season\": 3277, \"variable\": \"harvestable_pods\", \"value\": 341040.0550010018, \"unharvestable_pods\": 380481529.30289, \"harvested_pods\": 21952488.381341, \"harvestable_pods\": 341040.0550010018}, {\"timestamp\": \"2021-12-22T00:00:33\", \"season\": 3301, \"variable\": \"unharvestable_pods\", \"value\": 394758554.47294, \"unharvestable_pods\": 394758554.47294, \"harvested_pods\": 21993103.624895, \"harvestable_pods\": 305937.0142340027}, {\"timestamp\": \"2021-12-22T00:00:33\", \"season\": 3301, \"variable\": \"harvested_pods\", \"value\": 21993103.624895, \"unharvestable_pods\": 394758554.47294, \"harvested_pods\": 21993103.624895, \"harvestable_pods\": 305937.0142340027}, {\"timestamp\": \"2021-12-22T00:00:33\", \"season\": 3301, \"variable\": \"harvestable_pods\", \"value\": 305937.0142340027, \"unharvestable_pods\": 394758554.47294, \"harvested_pods\": 21993103.624895, \"harvestable_pods\": 305937.0142340027}, {\"timestamp\": \"2021-12-23T00:00:46\", \"season\": 3325, \"variable\": \"unharvestable_pods\", \"value\": 407253168.69067, \"unharvestable_pods\": 407253168.69067, \"harvested_pods\": 22053528.505966, \"harvestable_pods\": 300424.81144699827}, {\"timestamp\": \"2021-12-23T00:00:46\", \"season\": 3325, \"variable\": \"harvested_pods\", \"value\": 22053528.505966, \"unharvestable_pods\": 407253168.69067, \"harvested_pods\": 22053528.505966, \"harvestable_pods\": 300424.81144699827}, {\"timestamp\": \"2021-12-23T00:00:46\", \"season\": 3325, \"variable\": \"harvestable_pods\", \"value\": 300424.81144699827, \"unharvestable_pods\": 407253168.69067, \"harvested_pods\": 22053528.505966, \"harvestable_pods\": 300424.81144699827}, {\"timestamp\": \"2021-12-24T00:00:14\", \"season\": 3349, \"variable\": \"harvested_pods\", \"value\": 22085275.647319, \"unharvestable_pods\": 413253677.805133, \"harvested_pods\": 22085275.647319, \"harvestable_pods\": 290620.0656449981}, {\"timestamp\": \"2021-12-24T00:00:14\", \"season\": 3349, \"variable\": \"harvestable_pods\", \"value\": 290620.0656449981, \"unharvestable_pods\": 413253677.805133, \"harvested_pods\": 22085275.647319, \"harvestable_pods\": 290620.0656449981}, {\"timestamp\": \"2021-12-24T00:00:14\", \"season\": 3349, \"variable\": \"unharvestable_pods\", \"value\": 413253677.805133, \"unharvestable_pods\": 413253677.805133, \"harvested_pods\": 22085275.647319, \"harvestable_pods\": 290620.0656449981}, {\"timestamp\": \"2021-12-25T00:00:15\", \"season\": 3373, \"variable\": \"unharvestable_pods\", \"value\": 418898302.066666, \"unharvestable_pods\": 418898302.066666, \"harvested_pods\": 22116843.160187, \"harvestable_pods\": 304914.3406070024}, {\"timestamp\": \"2021-12-25T00:00:15\", \"season\": 3373, \"variable\": \"harvested_pods\", \"value\": 22116843.160187, \"unharvestable_pods\": 418898302.066666, \"harvested_pods\": 22116843.160187, \"harvestable_pods\": 304914.3406070024}, {\"timestamp\": \"2021-12-25T00:00:15\", \"season\": 3373, \"variable\": \"harvestable_pods\", \"value\": 304914.3406070024, \"unharvestable_pods\": 418898302.066666, \"harvested_pods\": 22116843.160187, \"harvestable_pods\": 304914.3406070024}, {\"timestamp\": \"2021-12-26T00:00:01\", \"season\": 3397, \"variable\": \"unharvestable_pods\", \"value\": 424407906.37322897, \"unharvestable_pods\": 424407906.37322897, \"harvested_pods\": 22116843.160187, \"harvestable_pods\": 311441.6731059998}, {\"timestamp\": \"2021-12-26T00:00:01\", \"season\": 3397, \"variable\": \"harvested_pods\", \"value\": 22116843.160187, \"unharvestable_pods\": 424407906.37322897, \"harvested_pods\": 22116843.160187, \"harvestable_pods\": 311441.6731059998}, {\"timestamp\": \"2021-12-26T00:00:01\", \"season\": 3397, \"variable\": \"harvestable_pods\", \"value\": 311441.6731059998, \"unharvestable_pods\": 424407906.37322897, \"harvested_pods\": 22116843.160187, \"harvestable_pods\": 311441.6731059998}, {\"timestamp\": \"2021-12-27T00:00:08\", \"season\": 3421, \"variable\": \"unharvestable_pods\", \"value\": 426063369.22520006, \"unharvestable_pods\": 426063369.22520006, \"harvested_pods\": 22116969.018301, \"harvestable_pods\": 320270.0241550021}, {\"timestamp\": \"2021-12-27T00:00:08\", \"season\": 3421, \"variable\": \"harvested_pods\", \"value\": 22116969.018301, \"unharvestable_pods\": 426063369.22520006, \"harvested_pods\": 22116969.018301, \"harvestable_pods\": 320270.0241550021}, {\"timestamp\": \"2021-12-27T00:00:08\", \"season\": 3421, \"variable\": \"harvestable_pods\", \"value\": 320270.0241550021, \"unharvestable_pods\": 426063369.22520006, \"harvested_pods\": 22116969.018301, \"harvestable_pods\": 320270.0241550021}, {\"timestamp\": \"2021-12-28T00:01:16\", \"season\": 3445, \"variable\": \"unharvestable_pods\", \"value\": 444791910.276194, \"unharvestable_pods\": 444791910.276194, \"harvested_pods\": 22116969.018301, \"harvestable_pods\": 320270.0241550021}, {\"timestamp\": \"2021-12-28T00:01:16\", \"season\": 3445, \"variable\": \"harvested_pods\", \"value\": 22116969.018301, \"unharvestable_pods\": 444791910.276194, \"harvested_pods\": 22116969.018301, \"harvestable_pods\": 320270.0241550021}, {\"timestamp\": \"2021-12-28T00:01:16\", \"season\": 3445, \"variable\": \"harvestable_pods\", \"value\": 320270.0241550021, \"unharvestable_pods\": 444791910.276194, \"harvested_pods\": 22116969.018301, \"harvestable_pods\": 320270.0241550021}, {\"timestamp\": \"2021-12-29T00:00:14\", \"season\": 3469, \"variable\": \"harvestable_pods\", \"value\": 320270.0241550021, \"unharvestable_pods\": 449102294.63588595, \"harvested_pods\": 22116969.018301, \"harvestable_pods\": 320270.0241550021}, {\"timestamp\": \"2021-12-29T00:00:14\", \"season\": 3469, \"variable\": \"harvested_pods\", \"value\": 22116969.018301, \"unharvestable_pods\": 449102294.63588595, \"harvested_pods\": 22116969.018301, \"harvestable_pods\": 320270.0241550021}, {\"timestamp\": \"2021-12-29T00:00:14\", \"season\": 3469, \"variable\": \"unharvestable_pods\", \"value\": 449102294.63588595, \"unharvestable_pods\": 449102294.63588595, \"harvested_pods\": 22116969.018301, \"harvestable_pods\": 320270.0241550021}, {\"timestamp\": \"2021-12-30T00:01:18\", \"season\": 3493, \"variable\": \"unharvestable_pods\", \"value\": 461274887.039474, \"unharvestable_pods\": 461274887.039474, \"harvested_pods\": 22128807.507142, \"harvestable_pods\": 315918.15204299986}, {\"timestamp\": \"2021-12-30T00:01:18\", \"season\": 3493, \"variable\": \"harvested_pods\", \"value\": 22128807.507142, \"unharvestable_pods\": 461274887.039474, \"harvested_pods\": 22128807.507142, \"harvestable_pods\": 315918.15204299986}, {\"timestamp\": \"2021-12-30T00:01:18\", \"season\": 3493, \"variable\": \"harvestable_pods\", \"value\": 315918.15204299986, \"unharvestable_pods\": 461274887.039474, \"harvested_pods\": 22128807.507142, \"harvestable_pods\": 315918.15204299986}, {\"timestamp\": \"2021-12-31T00:01:05\", \"season\": 3517, \"variable\": \"unharvestable_pods\", \"value\": 474761256.73859704, \"unharvestable_pods\": 474761256.73859704, \"harvested_pods\": 22128807.507142, \"harvestable_pods\": 324051.4035860002}, {\"timestamp\": \"2021-12-31T00:01:05\", \"season\": 3517, \"variable\": \"harvested_pods\", \"value\": 22128807.507142, \"unharvestable_pods\": 474761256.73859704, \"harvested_pods\": 22128807.507142, \"harvestable_pods\": 324051.4035860002}, {\"timestamp\": \"2021-12-31T00:01:05\", \"season\": 3517, \"variable\": \"harvestable_pods\", \"value\": 324051.4035860002, \"unharvestable_pods\": 474761256.73859704, \"harvested_pods\": 22128807.507142, \"harvestable_pods\": 324051.4035860002}, {\"timestamp\": \"2022-01-01T00:00:03\", \"season\": 3541, \"variable\": \"unharvestable_pods\", \"value\": 486521402.39299405, \"unharvestable_pods\": 486521402.39299405, \"harvested_pods\": 22128807.507142, \"harvestable_pods\": 324051.4035860002}, {\"timestamp\": \"2022-01-01T00:00:03\", \"season\": 3541, \"variable\": \"harvested_pods\", \"value\": 22128807.507142, \"unharvestable_pods\": 486521402.39299405, \"harvested_pods\": 22128807.507142, \"harvestable_pods\": 324051.4035860002}, {\"timestamp\": \"2022-01-01T00:00:03\", \"season\": 3541, \"variable\": \"harvestable_pods\", \"value\": 324051.4035860002, \"unharvestable_pods\": 486521402.39299405, \"harvested_pods\": 22128807.507142, \"harvestable_pods\": 324051.4035860002}, {\"timestamp\": \"2022-01-02T00:01:07\", \"season\": 3565, \"variable\": \"unharvestable_pods\", \"value\": 503319779.805347, \"unharvestable_pods\": 503319779.805347, \"harvested_pods\": 22144785.577367, \"harvestable_pods\": 312211.44696100056}, {\"timestamp\": \"2022-01-02T00:01:07\", \"season\": 3565, \"variable\": \"harvested_pods\", \"value\": 22144785.577367, \"unharvestable_pods\": 503319779.805347, \"harvested_pods\": 22144785.577367, \"harvestable_pods\": 312211.44696100056}, {\"timestamp\": \"2022-01-02T00:01:07\", \"season\": 3565, \"variable\": \"harvestable_pods\", \"value\": 312211.44696100056, \"unharvestable_pods\": 503319779.805347, \"harvested_pods\": 22144785.577367, \"harvestable_pods\": 312211.44696100056}, {\"timestamp\": \"2022-01-03T00:00:08\", \"season\": 3589, \"variable\": \"harvested_pods\", \"value\": 22216459.073867, \"unharvestable_pods\": 514451228.338918, \"harvested_pods\": 22216459.073867, \"harvestable_pods\": 240537.9504610002}, {\"timestamp\": \"2022-01-03T00:00:08\", \"season\": 3589, \"variable\": \"harvestable_pods\", \"value\": 240537.9504610002, \"unharvestable_pods\": 514451228.338918, \"harvested_pods\": 22216459.073867, \"harvestable_pods\": 240537.9504610002}, {\"timestamp\": \"2022-01-03T00:00:08\", \"season\": 3589, \"variable\": \"unharvestable_pods\", \"value\": 514451228.338918, \"unharvestable_pods\": 514451228.338918, \"harvested_pods\": 22216459.073867, \"harvestable_pods\": 240537.9504610002}, {\"timestamp\": \"2022-01-04T00:01:40\", \"season\": 3613, \"variable\": \"harvestable_pods\", \"value\": 240537.9504610002, \"unharvestable_pods\": 523879557.00581396, \"harvested_pods\": 22216459.073867, \"harvestable_pods\": 240537.9504610002}, {\"timestamp\": \"2022-01-04T00:01:40\", \"season\": 3613, \"variable\": \"harvested_pods\", \"value\": 22216459.073867, \"unharvestable_pods\": 523879557.00581396, \"harvested_pods\": 22216459.073867, \"harvestable_pods\": 240537.9504610002}, {\"timestamp\": \"2022-01-04T00:01:40\", \"season\": 3613, \"variable\": \"unharvestable_pods\", \"value\": 523879557.00581396, \"unharvestable_pods\": 523879557.00581396, \"harvested_pods\": 22216459.073867, \"harvestable_pods\": 240537.9504610002}, {\"timestamp\": \"2022-01-05T00:02:09\", \"season\": 3637, \"variable\": \"unharvestable_pods\", \"value\": 533351149.467656, \"unharvestable_pods\": 533351149.467656, \"harvested_pods\": 22216459.073867, \"harvestable_pods\": 240537.9504610002}, {\"timestamp\": \"2022-01-05T00:02:09\", \"season\": 3637, \"variable\": \"harvested_pods\", \"value\": 22216459.073867, \"unharvestable_pods\": 533351149.467656, \"harvested_pods\": 22216459.073867, \"harvestable_pods\": 240537.9504610002}, {\"timestamp\": \"2022-01-05T00:02:09\", \"season\": 3637, \"variable\": \"harvestable_pods\", \"value\": 240537.9504610002, \"unharvestable_pods\": 533351149.467656, \"harvested_pods\": 22216459.073867, \"harvestable_pods\": 240537.9504610002}, {\"timestamp\": \"2022-01-06T00:00:34\", \"season\": 3661, \"variable\": \"unharvestable_pods\", \"value\": 546693581.430881, \"unharvestable_pods\": 546693581.430881, \"harvested_pods\": 22216459.073867, \"harvestable_pods\": 240537.9504610002}, {\"timestamp\": \"2022-01-06T00:00:34\", \"season\": 3661, \"variable\": \"harvested_pods\", \"value\": 22216459.073867, \"unharvestable_pods\": 546693581.430881, \"harvested_pods\": 22216459.073867, \"harvestable_pods\": 240537.9504610002}, {\"timestamp\": \"2022-01-06T00:00:34\", \"season\": 3661, \"variable\": \"harvestable_pods\", \"value\": 240537.9504610002, \"unharvestable_pods\": 546693581.430881, \"harvested_pods\": 22216459.073867, \"harvestable_pods\": 240537.9504610002}, {\"timestamp\": \"2022-01-07T00:00:38\", \"season\": 3685, \"variable\": \"unharvestable_pods\", \"value\": 548811797.535427, \"unharvestable_pods\": 548811797.535427, \"harvested_pods\": 22216459.073867, \"harvestable_pods\": 240537.9504610002}, {\"timestamp\": \"2022-01-07T00:00:38\", \"season\": 3685, \"variable\": \"harvested_pods\", \"value\": 22216459.073867, \"unharvestable_pods\": 548811797.535427, \"harvested_pods\": 22216459.073867, \"harvestable_pods\": 240537.9504610002}, {\"timestamp\": \"2022-01-07T00:00:38\", \"season\": 3685, \"variable\": \"harvestable_pods\", \"value\": 240537.9504610002, \"unharvestable_pods\": 548811797.535427, \"harvested_pods\": 22216459.073867, \"harvestable_pods\": 240537.9504610002}, {\"timestamp\": \"2022-01-08T00:00:16\", \"season\": 3709, \"variable\": \"unharvestable_pods\", \"value\": 549428501.171265, \"unharvestable_pods\": 549428501.171265, \"harvested_pods\": 22218321.865599, \"harvestable_pods\": 238675.15872900188}, {\"timestamp\": \"2022-01-08T00:00:16\", \"season\": 3709, \"variable\": \"harvested_pods\", \"value\": 22218321.865599, \"unharvestable_pods\": 549428501.171265, \"harvested_pods\": 22218321.865599, \"harvestable_pods\": 238675.15872900188}, {\"timestamp\": \"2022-01-08T00:00:16\", \"season\": 3709, \"variable\": \"harvestable_pods\", \"value\": 238675.15872900188, \"unharvestable_pods\": 549428501.171265, \"harvested_pods\": 22218321.865599, \"harvestable_pods\": 238675.15872900188}, {\"timestamp\": \"2022-01-09T00:00:49\", \"season\": 3733, \"variable\": \"harvestable_pods\", \"value\": 238675.15872900188, \"unharvestable_pods\": 549646955.6189721, \"harvested_pods\": 22218321.865599, \"harvestable_pods\": 238675.15872900188}, {\"timestamp\": \"2022-01-09T00:00:49\", \"season\": 3733, \"variable\": \"harvested_pods\", \"value\": 22218321.865599, \"unharvestable_pods\": 549646955.6189721, \"harvested_pods\": 22218321.865599, \"harvestable_pods\": 238675.15872900188}, {\"timestamp\": \"2022-01-09T00:00:49\", \"season\": 3733, \"variable\": \"unharvestable_pods\", \"value\": 549646955.6189721, \"unharvestable_pods\": 549646955.6189721, \"harvested_pods\": 22218321.865599, \"harvestable_pods\": 238675.15872900188}, {\"timestamp\": \"2022-01-10T00:01:00\", \"season\": 3757, \"variable\": \"unharvestable_pods\", \"value\": 551091619.025906, \"unharvestable_pods\": 551091619.025906, \"harvested_pods\": 22218321.865599, \"harvestable_pods\": 238675.15872900188}, {\"timestamp\": \"2022-01-10T00:01:00\", \"season\": 3757, \"variable\": \"harvested_pods\", \"value\": 22218321.865599, \"unharvestable_pods\": 551091619.025906, \"harvested_pods\": 22218321.865599, \"harvestable_pods\": 238675.15872900188}, {\"timestamp\": \"2022-01-10T00:01:00\", \"season\": 3757, \"variable\": \"harvestable_pods\", \"value\": 238675.15872900188, \"unharvestable_pods\": 551091619.025906, \"harvested_pods\": 22218321.865599, \"harvestable_pods\": 238675.15872900188}, {\"timestamp\": \"2022-01-11T00:01:20\", \"season\": 3781, \"variable\": \"unharvestable_pods\", \"value\": 558499210.167815, \"unharvestable_pods\": 558499210.167815, \"harvested_pods\": 22218321.865599, \"harvestable_pods\": 238675.15872900188}, {\"timestamp\": \"2022-01-11T00:01:20\", \"season\": 3781, \"variable\": \"harvested_pods\", \"value\": 22218321.865599, \"unharvestable_pods\": 558499210.167815, \"harvested_pods\": 22218321.865599, \"harvestable_pods\": 238675.15872900188}, {\"timestamp\": \"2022-01-11T00:01:20\", \"season\": 3781, \"variable\": \"harvestable_pods\", \"value\": 238675.15872900188, \"unharvestable_pods\": 558499210.167815, \"harvested_pods\": 22218321.865599, \"harvestable_pods\": 238675.15872900188}, {\"timestamp\": \"2022-01-12T00:02:53\", \"season\": 3805, \"variable\": \"unharvestable_pods\", \"value\": 560232297.944525, \"unharvestable_pods\": 560232297.944525, \"harvested_pods\": 22222826.965599, \"harvestable_pods\": 234170.0587290004}, {\"timestamp\": \"2022-01-12T00:02:53\", \"season\": 3805, \"variable\": \"harvested_pods\", \"value\": 22222826.965599, \"unharvestable_pods\": 560232297.944525, \"harvested_pods\": 22222826.965599, \"harvestable_pods\": 234170.0587290004}, {\"timestamp\": \"2022-01-12T00:02:53\", \"season\": 3805, \"variable\": \"harvestable_pods\", \"value\": 234170.0587290004, \"unharvestable_pods\": 560232297.944525, \"harvested_pods\": 22222826.965599, \"harvestable_pods\": 234170.0587290004}, {\"timestamp\": \"2022-01-13T00:02:25\", \"season\": 3829, \"variable\": \"unharvestable_pods\", \"value\": 563741838.829006, \"unharvestable_pods\": 563741838.829006, \"harvested_pods\": 22222826.965599, \"harvestable_pods\": 234170.0587290004}, {\"timestamp\": \"2022-01-13T00:02:25\", \"season\": 3829, \"variable\": \"harvested_pods\", \"value\": 22222826.965599, \"unharvestable_pods\": 563741838.829006, \"harvested_pods\": 22222826.965599, \"harvestable_pods\": 234170.0587290004}, {\"timestamp\": \"2022-01-13T00:02:25\", \"season\": 3829, \"variable\": \"harvestable_pods\", \"value\": 234170.0587290004, \"unharvestable_pods\": 563741838.829006, \"harvested_pods\": 22222826.965599, \"harvestable_pods\": 234170.0587290004}, {\"timestamp\": \"2022-01-14T00:04:29\", \"season\": 3853, \"variable\": \"harvestable_pods\", \"value\": 189171.058728002, \"unharvestable_pods\": 563953363.95193, \"harvested_pods\": 22267825.9656, \"harvestable_pods\": 189171.058728002}, {\"timestamp\": \"2022-01-14T00:04:29\", \"season\": 3853, \"variable\": \"harvested_pods\", \"value\": 22267825.9656, \"unharvestable_pods\": 563953363.95193, \"harvested_pods\": 22267825.9656, \"harvestable_pods\": 189171.058728002}, {\"timestamp\": \"2022-01-14T00:04:29\", \"season\": 3853, \"variable\": \"unharvestable_pods\", \"value\": 563953363.95193, \"unharvestable_pods\": 563953363.95193, \"harvested_pods\": 22267825.9656, \"harvestable_pods\": 189171.058728002}, {\"timestamp\": \"2022-01-15T00:01:05\", \"season\": 3877, \"variable\": \"unharvestable_pods\", \"value\": 567362460.235761, \"unharvestable_pods\": 567362460.235761, \"harvested_pods\": 22267825.9656, \"harvestable_pods\": 189171.058728002}, {\"timestamp\": \"2022-01-15T00:01:05\", \"season\": 3877, \"variable\": \"harvested_pods\", \"value\": 22267825.9656, \"unharvestable_pods\": 567362460.235761, \"harvested_pods\": 22267825.9656, \"harvestable_pods\": 189171.058728002}, {\"timestamp\": \"2022-01-15T00:01:05\", \"season\": 3877, \"variable\": \"harvestable_pods\", \"value\": 189171.058728002, \"unharvestable_pods\": 567362460.235761, \"harvested_pods\": 22267825.9656, \"harvestable_pods\": 189171.058728002}, {\"timestamp\": \"2022-01-16T00:00:19\", \"season\": 3901, \"variable\": \"unharvestable_pods\", \"value\": 568054456.766556, \"unharvestable_pods\": 568054456.766556, \"harvested_pods\": 22312825.965598, \"harvestable_pods\": 144171.0587300025}, {\"timestamp\": \"2022-01-16T00:00:19\", \"season\": 3901, \"variable\": \"harvested_pods\", \"value\": 22312825.965598, \"unharvestable_pods\": 568054456.766556, \"harvested_pods\": 22312825.965598, \"harvestable_pods\": 144171.0587300025}, {\"timestamp\": \"2022-01-16T00:00:19\", \"season\": 3901, \"variable\": \"harvestable_pods\", \"value\": 144171.0587300025, \"unharvestable_pods\": 568054456.766556, \"harvested_pods\": 22312825.965598, \"harvestable_pods\": 144171.0587300025}, {\"timestamp\": \"2022-01-17T00:01:09\", \"season\": 3925, \"variable\": \"unharvestable_pods\", \"value\": 568950094.51262, \"unharvestable_pods\": 568950094.51262, \"harvested_pods\": 22312825.965598, \"harvestable_pods\": 144171.0587300025}, {\"timestamp\": \"2022-01-17T00:01:09\", \"season\": 3925, \"variable\": \"harvested_pods\", \"value\": 22312825.965598, \"unharvestable_pods\": 568950094.51262, \"harvested_pods\": 22312825.965598, \"harvestable_pods\": 144171.0587300025}, {\"timestamp\": \"2022-01-17T00:01:09\", \"season\": 3925, \"variable\": \"harvestable_pods\", \"value\": 144171.0587300025, \"unharvestable_pods\": 568950094.51262, \"harvested_pods\": 22312825.965598, \"harvestable_pods\": 144171.0587300025}, {\"timestamp\": \"2022-01-18T00:00:24\", \"season\": 3949, \"variable\": \"harvestable_pods\", \"value\": 144171.0587300025, \"unharvestable_pods\": 569022701.144924, \"harvested_pods\": 22312825.965598, \"harvestable_pods\": 144171.0587300025}, {\"timestamp\": \"2022-01-18T00:00:24\", \"season\": 3949, \"variable\": \"harvested_pods\", \"value\": 22312825.965598, \"unharvestable_pods\": 569022701.144924, \"harvested_pods\": 22312825.965598, \"harvestable_pods\": 144171.0587300025}, {\"timestamp\": \"2022-01-18T00:00:24\", \"season\": 3949, \"variable\": \"unharvestable_pods\", \"value\": 569022701.144924, \"unharvestable_pods\": 569022701.144924, \"harvested_pods\": 22312825.965598, \"harvestable_pods\": 144171.0587300025}, {\"timestamp\": \"2022-01-19T00:01:17\", \"season\": 3973, \"variable\": \"unharvestable_pods\", \"value\": 574808215.071842, \"unharvestable_pods\": 574808215.071842, \"harvested_pods\": 22312825.965598, \"harvestable_pods\": 144171.0587300025}, {\"timestamp\": \"2022-01-19T00:01:17\", \"season\": 3973, \"variable\": \"harvested_pods\", \"value\": 22312825.965598, \"unharvestable_pods\": 574808215.071842, \"harvested_pods\": 22312825.965598, \"harvestable_pods\": 144171.0587300025}, {\"timestamp\": \"2022-01-19T00:01:17\", \"season\": 3973, \"variable\": \"harvestable_pods\", \"value\": 144171.0587300025, \"unharvestable_pods\": 574808215.071842, \"harvested_pods\": 22312825.965598, \"harvestable_pods\": 144171.0587300025}, {\"timestamp\": \"2022-01-20T00:00:37\", \"season\": 3997, \"variable\": \"unharvestable_pods\", \"value\": 576716363.214001, \"unharvestable_pods\": 576716363.214001, \"harvested_pods\": 22312825.965598, \"harvestable_pods\": 144171.0587300025}, {\"timestamp\": \"2022-01-20T00:00:37\", \"season\": 3997, \"variable\": \"harvested_pods\", \"value\": 22312825.965598, \"unharvestable_pods\": 576716363.214001, \"harvested_pods\": 22312825.965598, \"harvestable_pods\": 144171.0587300025}, {\"timestamp\": \"2022-01-20T00:00:37\", \"season\": 3997, \"variable\": \"harvestable_pods\", \"value\": 144171.0587300025, \"unharvestable_pods\": 576716363.214001, \"harvested_pods\": 22312825.965598, \"harvestable_pods\": 144171.0587300025}, {\"timestamp\": \"2022-01-21T00:00:23\", \"season\": 4021, \"variable\": \"unharvestable_pods\", \"value\": 577637364.791708, \"unharvestable_pods\": 577637364.791708, \"harvested_pods\": 22312825.965598, \"harvestable_pods\": 144171.0587300025}, {\"timestamp\": \"2022-01-21T00:00:23\", \"season\": 4021, \"variable\": \"harvested_pods\", \"value\": 22312825.965598, \"unharvestable_pods\": 577637364.791708, \"harvested_pods\": 22312825.965598, \"harvestable_pods\": 144171.0587300025}, {\"timestamp\": \"2022-01-21T00:00:23\", \"season\": 4021, \"variable\": \"harvestable_pods\", \"value\": 144171.0587300025, \"unharvestable_pods\": 577637364.791708, \"harvested_pods\": 22312825.965598, \"harvestable_pods\": 144171.0587300025}, {\"timestamp\": \"2022-01-22T00:02:29\", \"season\": 4045, \"variable\": \"harvested_pods\", \"value\": 22312825.965598, \"unharvestable_pods\": 577989804.302539, \"harvested_pods\": 22312825.965598, \"harvestable_pods\": 144171.0587300025}, {\"timestamp\": \"2022-01-22T00:02:29\", \"season\": 4045, \"variable\": \"harvestable_pods\", \"value\": 144171.0587300025, \"unharvestable_pods\": 577989804.302539, \"harvested_pods\": 22312825.965598, \"harvestable_pods\": 144171.0587300025}, {\"timestamp\": \"2022-01-22T00:02:29\", \"season\": 4045, \"variable\": \"unharvestable_pods\", \"value\": 577989804.302539, \"unharvestable_pods\": 577989804.302539, \"harvested_pods\": 22312825.965598, \"harvestable_pods\": 144171.0587300025}, {\"timestamp\": \"2022-01-23T00:00:48\", \"season\": 4069, \"variable\": \"harvested_pods\", \"value\": 22312825.965598, \"unharvestable_pods\": 578038438.092613, \"harvested_pods\": 22312825.965598, \"harvestable_pods\": 144171.0587300025}, {\"timestamp\": \"2022-01-23T00:00:48\", \"season\": 4069, \"variable\": \"harvestable_pods\", \"value\": 144171.0587300025, \"unharvestable_pods\": 578038438.092613, \"harvested_pods\": 22312825.965598, \"harvestable_pods\": 144171.0587300025}, {\"timestamp\": \"2022-01-23T00:00:48\", \"season\": 4069, \"variable\": \"unharvestable_pods\", \"value\": 578038438.092613, \"unharvestable_pods\": 578038438.092613, \"harvested_pods\": 22312825.965598, \"harvestable_pods\": 144171.0587300025}, {\"timestamp\": \"2022-01-24T00:02:29\", \"season\": 4093, \"variable\": \"harvested_pods\", \"value\": 22312825.965598, \"unharvestable_pods\": 578100359.996215, \"harvested_pods\": 22312825.965598, \"harvestable_pods\": 144171.0587300025}, {\"timestamp\": \"2022-01-24T00:02:29\", \"season\": 4093, \"variable\": \"harvestable_pods\", \"value\": 144171.0587300025, \"unharvestable_pods\": 578100359.996215, \"harvested_pods\": 22312825.965598, \"harvestable_pods\": 144171.0587300025}, {\"timestamp\": \"2022-01-24T00:02:29\", \"season\": 4093, \"variable\": \"unharvestable_pods\", \"value\": 578100359.996215, \"unharvestable_pods\": 578100359.996215, \"harvested_pods\": 22312825.965598, \"harvestable_pods\": 144171.0587300025}, {\"timestamp\": \"2022-01-25T00:00:10\", \"season\": 4117, \"variable\": \"harvested_pods\", \"value\": 22312825.965598, \"unharvestable_pods\": 589090675.766215, \"harvested_pods\": 22312825.965598, \"harvestable_pods\": 144171.0587300025}, {\"timestamp\": \"2022-01-25T00:00:10\", \"season\": 4117, \"variable\": \"harvestable_pods\", \"value\": 144171.0587300025, \"unharvestable_pods\": 589090675.766215, \"harvested_pods\": 22312825.965598, \"harvestable_pods\": 144171.0587300025}, {\"timestamp\": \"2022-01-25T00:00:10\", \"season\": 4117, \"variable\": \"unharvestable_pods\", \"value\": 589090675.766215, \"unharvestable_pods\": 589090675.766215, \"harvested_pods\": 22312825.965598, \"harvestable_pods\": 144171.0587300025}, {\"timestamp\": \"2022-01-26T00:00:17\", \"season\": 4141, \"variable\": \"harvestable_pods\", \"value\": 144171.0587300025, \"unharvestable_pods\": 589627700.848223, \"harvested_pods\": 22312825.965598, \"harvestable_pods\": 144171.0587300025}, {\"timestamp\": \"2022-01-26T00:00:17\", \"season\": 4141, \"variable\": \"harvested_pods\", \"value\": 22312825.965598, \"unharvestable_pods\": 589627700.848223, \"harvested_pods\": 22312825.965598, \"harvestable_pods\": 144171.0587300025}, {\"timestamp\": \"2022-01-26T00:00:17\", \"season\": 4141, \"variable\": \"unharvestable_pods\", \"value\": 589627700.848223, \"unharvestable_pods\": 589627700.848223, \"harvested_pods\": 22312825.965598, \"harvestable_pods\": 144171.0587300025}, {\"timestamp\": \"2022-01-27T00:00:24\", \"season\": 4165, \"variable\": \"unharvestable_pods\", \"value\": 589735386.238103, \"unharvestable_pods\": 589735386.238103, \"harvested_pods\": 22312825.965598, \"harvestable_pods\": 144171.0587300025}, {\"timestamp\": \"2022-01-27T00:00:24\", \"season\": 4165, \"variable\": \"harvested_pods\", \"value\": 22312825.965598, \"unharvestable_pods\": 589735386.238103, \"harvested_pods\": 22312825.965598, \"harvestable_pods\": 144171.0587300025}, {\"timestamp\": \"2022-01-27T00:00:24\", \"season\": 4165, \"variable\": \"harvestable_pods\", \"value\": 144171.0587300025, \"unharvestable_pods\": 589735386.238103, \"harvested_pods\": 22312825.965598, \"harvestable_pods\": 144171.0587300025}, {\"timestamp\": \"2022-01-28T00:00:55\", \"season\": 4189, \"variable\": \"unharvestable_pods\", \"value\": 589865013.711426, \"unharvestable_pods\": 589865013.711426, \"harvested_pods\": 22312825.965598, \"harvestable_pods\": 144171.0587300025}, {\"timestamp\": \"2022-01-28T00:00:55\", \"season\": 4189, \"variable\": \"harvested_pods\", \"value\": 22312825.965598, \"unharvestable_pods\": 589865013.711426, \"harvested_pods\": 22312825.965598, \"harvestable_pods\": 144171.0587300025}, {\"timestamp\": \"2022-01-28T00:00:55\", \"season\": 4189, \"variable\": \"harvestable_pods\", \"value\": 144171.0587300025, \"unharvestable_pods\": 589865013.711426, \"harvested_pods\": 22312825.965598, \"harvestable_pods\": 144171.0587300025}, {\"timestamp\": \"2022-01-29T00:00:04\", \"season\": 4213, \"variable\": \"unharvestable_pods\", \"value\": 590070956.853196, \"unharvestable_pods\": 590070956.853196, \"harvested_pods\": 22312825.965598, \"harvestable_pods\": 146432.00059400126}, {\"timestamp\": \"2022-01-29T00:00:04\", \"season\": 4213, \"variable\": \"harvested_pods\", \"value\": 22312825.965598, \"unharvestable_pods\": 590070956.853196, \"harvested_pods\": 22312825.965598, \"harvestable_pods\": 146432.00059400126}, {\"timestamp\": \"2022-01-29T00:00:04\", \"season\": 4213, \"variable\": \"harvestable_pods\", \"value\": 146432.00059400126, \"unharvestable_pods\": 590070956.853196, \"harvested_pods\": 22312825.965598, \"harvestable_pods\": 146432.00059400126}, {\"timestamp\": \"2022-01-30T00:00:07\", \"season\": 4237, \"variable\": \"unharvestable_pods\", \"value\": 590597959.07388, \"unharvestable_pods\": 590597959.07388, \"harvested_pods\": 22312825.965598, \"harvestable_pods\": 146432.00059400126}, {\"timestamp\": \"2022-01-30T00:00:07\", \"season\": 4237, \"variable\": \"harvested_pods\", \"value\": 22312825.965598, \"unharvestable_pods\": 590597959.07388, \"harvested_pods\": 22312825.965598, \"harvestable_pods\": 146432.00059400126}, {\"timestamp\": \"2022-01-30T00:00:07\", \"season\": 4237, \"variable\": \"harvestable_pods\", \"value\": 146432.00059400126, \"unharvestable_pods\": 590597959.07388, \"harvested_pods\": 22312825.965598, \"harvestable_pods\": 146432.00059400126}, {\"timestamp\": \"2022-01-31T00:00:00\", \"season\": 4261, \"variable\": \"harvestable_pods\", \"value\": 152358.0460900031, \"unharvestable_pods\": 591494745.92255, \"harvested_pods\": 22312825.965598, \"harvestable_pods\": 152358.0460900031}, {\"timestamp\": \"2022-01-31T00:00:00\", \"season\": 4261, \"variable\": \"harvested_pods\", \"value\": 22312825.965598, \"unharvestable_pods\": 591494745.92255, \"harvested_pods\": 22312825.965598, \"harvestable_pods\": 152358.0460900031}, {\"timestamp\": \"2022-01-31T00:00:00\", \"season\": 4261, \"variable\": \"unharvestable_pods\", \"value\": 591494745.92255, \"unharvestable_pods\": 591494745.92255, \"harvested_pods\": 22312825.965598, \"harvestable_pods\": 152358.0460900031}, {\"timestamp\": \"2022-02-01T00:00:47\", \"season\": 4285, \"variable\": \"unharvestable_pods\", \"value\": 592924373.8111709, \"unharvestable_pods\": 592924373.8111709, \"harvested_pods\": 22325513.173866, \"harvestable_pods\": 151663.8060199991}, {\"timestamp\": \"2022-02-01T00:00:47\", \"season\": 4285, \"variable\": \"harvested_pods\", \"value\": 22325513.173866, \"unharvestable_pods\": 592924373.8111709, \"harvested_pods\": 22325513.173866, \"harvestable_pods\": 151663.8060199991}, {\"timestamp\": \"2022-02-01T00:00:47\", \"season\": 4285, \"variable\": \"harvestable_pods\", \"value\": 151663.8060199991, \"unharvestable_pods\": 592924373.8111709, \"harvested_pods\": 22325513.173866, \"harvestable_pods\": 151663.8060199991}, {\"timestamp\": \"2022-02-02T00:02:56\", \"season\": 4309, \"variable\": \"unharvestable_pods\", \"value\": 594072982.3164771, \"unharvestable_pods\": 594072982.3164771, \"harvested_pods\": 22325513.173866, \"harvestable_pods\": 154928.5135239996}, {\"timestamp\": \"2022-02-02T00:02:56\", \"season\": 4309, \"variable\": \"harvested_pods\", \"value\": 22325513.173866, \"unharvestable_pods\": 594072982.3164771, \"harvested_pods\": 22325513.173866, \"harvestable_pods\": 154928.5135239996}, {\"timestamp\": \"2022-02-02T00:02:56\", \"season\": 4309, \"variable\": \"harvestable_pods\", \"value\": 154928.5135239996, \"unharvestable_pods\": 594072982.3164771, \"harvested_pods\": 22325513.173866, \"harvestable_pods\": 154928.5135239996}, {\"timestamp\": \"2022-02-03T00:00:03\", \"season\": 4333, \"variable\": \"unharvestable_pods\", \"value\": 595257303.0470289, \"unharvestable_pods\": 595257303.0470289, \"harvested_pods\": 22339987.993866, \"harvestable_pods\": 149509.55509499833}, {\"timestamp\": \"2022-02-03T00:00:03\", \"season\": 4333, \"variable\": \"harvested_pods\", \"value\": 22339987.993866, \"unharvestable_pods\": 595257303.0470289, \"harvested_pods\": 22339987.993866, \"harvestable_pods\": 149509.55509499833}, {\"timestamp\": \"2022-02-03T00:00:03\", \"season\": 4333, \"variable\": \"harvestable_pods\", \"value\": 149509.55509499833, \"unharvestable_pods\": 595257303.0470289, \"harvested_pods\": 22339987.993866, \"harvestable_pods\": 149509.55509499833}, {\"timestamp\": \"2022-02-04T00:01:08\", \"season\": 4357, \"variable\": \"unharvestable_pods\", \"value\": 595792140.558453, \"unharvestable_pods\": 595792140.558453, \"harvested_pods\": 22339987.993866, \"harvestable_pods\": 198456.48030300066}, {\"timestamp\": \"2022-02-04T00:01:08\", \"season\": 4357, \"variable\": \"harvested_pods\", \"value\": 22339987.993866, \"unharvestable_pods\": 595792140.558453, \"harvested_pods\": 22339987.993866, \"harvestable_pods\": 198456.48030300066}, {\"timestamp\": \"2022-02-04T00:01:08\", \"season\": 4357, \"variable\": \"harvestable_pods\", \"value\": 198456.48030300066, \"unharvestable_pods\": 595792140.558453, \"harvested_pods\": 22339987.993866, \"harvestable_pods\": 198456.48030300066}, {\"timestamp\": \"2022-02-05T00:00:19\", \"season\": 4381, \"variable\": \"harvested_pods\", \"value\": 22339987.993866, \"unharvestable_pods\": 596453274.725368, \"harvested_pods\": 22339987.993866, \"harvestable_pods\": 231461.4179500006}, {\"timestamp\": \"2022-02-05T00:00:19\", \"season\": 4381, \"variable\": \"harvestable_pods\", \"value\": 231461.4179500006, \"unharvestable_pods\": 596453274.725368, \"harvested_pods\": 22339987.993866, \"harvestable_pods\": 231461.4179500006}, {\"timestamp\": \"2022-02-05T00:00:19\", \"season\": 4381, \"variable\": \"unharvestable_pods\", \"value\": 596453274.725368, \"unharvestable_pods\": 596453274.725368, \"harvested_pods\": 22339987.993866, \"harvestable_pods\": 231461.4179500006}, {\"timestamp\": \"2022-02-06T00:00:11\", \"season\": 4405, \"variable\": \"unharvestable_pods\", \"value\": 597840650.897767, \"unharvestable_pods\": 597840650.897767, \"harvested_pods\": 22339987.993866, \"harvestable_pods\": 267169.3758369982}, {\"timestamp\": \"2022-02-06T00:00:11\", \"season\": 4405, \"variable\": \"harvested_pods\", \"value\": 22339987.993866, \"unharvestable_pods\": 597840650.897767, \"harvested_pods\": 22339987.993866, \"harvestable_pods\": 267169.3758369982}, {\"timestamp\": \"2022-02-06T00:00:11\", \"season\": 4405, \"variable\": \"harvestable_pods\", \"value\": 267169.3758369982, \"unharvestable_pods\": 597840650.897767, \"harvested_pods\": 22339987.993866, \"harvestable_pods\": 267169.3758369982}, {\"timestamp\": \"2022-02-07T00:00:02\", \"season\": 4429, \"variable\": \"unharvestable_pods\", \"value\": 597833770.6706871, \"unharvestable_pods\": 597833770.6706871, \"harvested_pods\": 22404793.32572, \"harvestable_pods\": 309209.2530899979}, {\"timestamp\": \"2022-02-07T00:00:02\", \"season\": 4429, \"variable\": \"harvested_pods\", \"value\": 22404793.32572, \"unharvestable_pods\": 597833770.6706871, \"harvested_pods\": 22404793.32572, \"harvestable_pods\": 309209.2530899979}, {\"timestamp\": \"2022-02-07T00:00:02\", \"season\": 4429, \"variable\": \"harvestable_pods\", \"value\": 309209.2530899979, \"unharvestable_pods\": 597833770.6706871, \"harvested_pods\": 22404793.32572, \"harvestable_pods\": 309209.2530899979}, {\"timestamp\": \"2022-02-08T00:00:30\", \"season\": 4453, \"variable\": \"unharvestable_pods\", \"value\": 598042779.446015, \"unharvestable_pods\": 598042779.446015, \"harvested_pods\": 22489367.614652, \"harvestable_pods\": 251667.6326440014}, {\"timestamp\": \"2022-02-08T00:00:30\", \"season\": 4453, \"variable\": \"harvested_pods\", \"value\": 22489367.614652, \"unharvestable_pods\": 598042779.446015, \"harvested_pods\": 22489367.614652, \"harvestable_pods\": 251667.6326440014}, {\"timestamp\": \"2022-02-08T00:00:30\", \"season\": 4453, \"variable\": \"harvestable_pods\", \"value\": 251667.6326440014, \"unharvestable_pods\": 598042779.446015, \"harvested_pods\": 22489367.614652, \"harvestable_pods\": 251667.6326440014}, {\"timestamp\": \"2022-02-09T00:00:10\", \"season\": 4477, \"variable\": \"unharvestable_pods\", \"value\": 597995212.729509, \"unharvestable_pods\": 597995212.729509, \"harvested_pods\": 22549317.614652, \"harvestable_pods\": 224623.13769499958}, {\"timestamp\": \"2022-02-09T00:00:10\", \"season\": 4477, \"variable\": \"harvested_pods\", \"value\": 22549317.614652, \"unharvestable_pods\": 597995212.729509, \"harvested_pods\": 22549317.614652, \"harvestable_pods\": 224623.13769499958}, {\"timestamp\": \"2022-02-09T00:00:10\", \"season\": 4477, \"variable\": \"harvestable_pods\", \"value\": 224623.13769499958, \"unharvestable_pods\": 597995212.729509, \"harvested_pods\": 22549317.614652, \"harvestable_pods\": 224623.13769499958}, {\"timestamp\": \"2022-02-10T00:00:44\", \"season\": 4501, \"variable\": \"harvestable_pods\", \"value\": 252455.40424999967, \"unharvestable_pods\": 598089972.6967881, \"harvested_pods\": 22549317.614652, \"harvestable_pods\": 252455.40424999967}, {\"timestamp\": \"2022-02-10T00:00:44\", \"season\": 4501, \"variable\": \"harvested_pods\", \"value\": 22549317.614652, \"unharvestable_pods\": 598089972.6967881, \"harvested_pods\": 22549317.614652, \"harvestable_pods\": 252455.40424999967}, {\"timestamp\": \"2022-02-10T00:00:44\", \"season\": 4501, \"variable\": \"unharvestable_pods\", \"value\": 598089972.6967881, \"unharvestable_pods\": 598089972.6967881, \"harvested_pods\": 22549317.614652, \"harvestable_pods\": 252455.40424999967}, {\"timestamp\": \"2022-02-11T00:00:06\", \"season\": 4525, \"variable\": \"unharvestable_pods\", \"value\": 601502962.8341221, \"unharvestable_pods\": 601502962.8341221, \"harvested_pods\": 22549317.614652, \"harvestable_pods\": 285300.0470260009}, {\"timestamp\": \"2022-02-11T00:00:06\", \"season\": 4525, \"variable\": \"harvested_pods\", \"value\": 22549317.614652, \"unharvestable_pods\": 601502962.8341221, \"harvested_pods\": 22549317.614652, \"harvestable_pods\": 285300.0470260009}, {\"timestamp\": \"2022-02-11T00:00:06\", \"season\": 4525, \"variable\": \"harvestable_pods\", \"value\": 285300.0470260009, \"unharvestable_pods\": 601502962.8341221, \"harvested_pods\": 22549317.614652, \"harvestable_pods\": 285300.0470260009}, {\"timestamp\": \"2022-02-12T00:00:06\", \"season\": 4549, \"variable\": \"unharvestable_pods\", \"value\": 601830479.013485, \"unharvestable_pods\": 601830479.013485, \"harvested_pods\": 22549317.614652, \"harvestable_pods\": 290177.2386649996}, {\"timestamp\": \"2022-02-12T00:00:06\", \"season\": 4549, \"variable\": \"harvested_pods\", \"value\": 22549317.614652, \"unharvestable_pods\": 601830479.013485, \"harvested_pods\": 22549317.614652, \"harvestable_pods\": 290177.2386649996}, {\"timestamp\": \"2022-02-12T00:00:06\", \"season\": 4549, \"variable\": \"harvestable_pods\", \"value\": 290177.2386649996, \"unharvestable_pods\": 601830479.013485, \"harvested_pods\": 22549317.614652, \"harvestable_pods\": 290177.2386649996}, {\"timestamp\": \"2022-02-13T00:00:56\", \"season\": 4573, \"variable\": \"unharvestable_pods\", \"value\": 602093428.4393101, \"unharvestable_pods\": 602093428.4393101, \"harvested_pods\": 22549317.614652, \"harvestable_pods\": 291739.37441499904}, {\"timestamp\": \"2022-02-13T00:00:56\", \"season\": 4573, \"variable\": \"harvested_pods\", \"value\": 22549317.614652, \"unharvestable_pods\": 602093428.4393101, \"harvested_pods\": 22549317.614652, \"harvestable_pods\": 291739.37441499904}, {\"timestamp\": \"2022-02-13T00:00:56\", \"season\": 4573, \"variable\": \"harvestable_pods\", \"value\": 291739.37441499904, \"unharvestable_pods\": 602093428.4393101, \"harvested_pods\": 22549317.614652, \"harvestable_pods\": 291739.37441499904}, {\"timestamp\": \"2022-02-14T00:00:11\", \"season\": 4597, \"variable\": \"unharvestable_pods\", \"value\": 602382204.839563, \"unharvestable_pods\": 602382204.839563, \"harvested_pods\": 22549317.614652, \"harvestable_pods\": 301762.9650949985}, {\"timestamp\": \"2022-02-14T00:00:11\", \"season\": 4597, \"variable\": \"harvested_pods\", \"value\": 22549317.614652, \"unharvestable_pods\": 602382204.839563, \"harvested_pods\": 22549317.614652, \"harvestable_pods\": 301762.9650949985}, {\"timestamp\": \"2022-02-14T00:00:11\", \"season\": 4597, \"variable\": \"harvestable_pods\", \"value\": 301762.9650949985, \"unharvestable_pods\": 602382204.839563, \"harvested_pods\": 22549317.614652, \"harvestable_pods\": 301762.9650949985}, {\"timestamp\": \"2022-02-15T00:00:35\", \"season\": 4621, \"variable\": \"harvested_pods\", \"value\": 22549317.614652, \"unharvestable_pods\": 604286240.968136, \"harvested_pods\": 22549317.614652, \"harvestable_pods\": 377263.7500239983}, {\"timestamp\": \"2022-02-15T00:00:35\", \"season\": 4621, \"variable\": \"harvestable_pods\", \"value\": 377263.7500239983, \"unharvestable_pods\": 604286240.968136, \"harvested_pods\": 22549317.614652, \"harvestable_pods\": 377263.7500239983}, {\"timestamp\": \"2022-02-15T00:00:35\", \"season\": 4621, \"variable\": \"unharvestable_pods\", \"value\": 604286240.968136, \"unharvestable_pods\": 604286240.968136, \"harvested_pods\": 22549317.614652, \"harvestable_pods\": 377263.7500239983}, {\"timestamp\": \"2022-02-16T00:00:34\", \"season\": 4645, \"variable\": \"harvested_pods\", \"value\": 22549317.614652, \"unharvestable_pods\": 607136532.845837, \"harvested_pods\": 22549317.614652, \"harvestable_pods\": 420234.33016800135}, {\"timestamp\": \"2022-02-16T00:00:34\", \"season\": 4645, \"variable\": \"harvestable_pods\", \"value\": 420234.33016800135, \"unharvestable_pods\": 607136532.845837, \"harvested_pods\": 22549317.614652, \"harvestable_pods\": 420234.33016800135}, {\"timestamp\": \"2022-02-16T00:00:34\", \"season\": 4645, \"variable\": \"unharvestable_pods\", \"value\": 607136532.845837, \"unharvestable_pods\": 607136532.845837, \"harvested_pods\": 22549317.614652, \"harvestable_pods\": 420234.33016800135}, {\"timestamp\": \"2022-02-17T00:00:02\", \"season\": 4669, \"variable\": \"unharvestable_pods\", \"value\": 610922315.6451629, \"unharvestable_pods\": 610922315.6451629, \"harvested_pods\": 22833995.70609, \"harvestable_pods\": 135556.2387300022}, {\"timestamp\": \"2022-02-17T00:00:02\", \"season\": 4669, \"variable\": \"harvested_pods\", \"value\": 22833995.70609, \"unharvestable_pods\": 610922315.6451629, \"harvested_pods\": 22833995.70609, \"harvestable_pods\": 135556.2387300022}, {\"timestamp\": \"2022-02-17T00:00:02\", \"season\": 4669, \"variable\": \"harvestable_pods\", \"value\": 135556.2387300022, \"unharvestable_pods\": 610922315.6451629, \"harvested_pods\": 22833995.70609, \"harvestable_pods\": 135556.2387300022}, {\"timestamp\": \"2022-02-18T00:00:14\", \"season\": 4693, \"variable\": \"unharvestable_pods\", \"value\": 614285670.7027351, \"unharvestable_pods\": 614285670.7027351, \"harvested_pods\": 22834519.350377, \"harvestable_pods\": 142535.8137759976}, {\"timestamp\": \"2022-02-18T00:00:14\", \"season\": 4693, \"variable\": \"harvested_pods\", \"value\": 22834519.350377, \"unharvestable_pods\": 614285670.7027351, \"harvested_pods\": 22834519.350377, \"harvestable_pods\": 142535.8137759976}, {\"timestamp\": \"2022-02-18T00:00:14\", \"season\": 4693, \"variable\": \"harvestable_pods\", \"value\": 142535.8137759976, \"unharvestable_pods\": 614285670.7027351, \"harvested_pods\": 22834519.350377, \"harvestable_pods\": 142535.8137759976}, {\"timestamp\": \"2022-02-19T00:00:02\", \"season\": 4717, \"variable\": \"unharvestable_pods\", \"value\": 614350431.459134, \"unharvestable_pods\": 614350431.459134, \"harvested_pods\": 22834519.350377, \"harvestable_pods\": 147862.7830730006}, {\"timestamp\": \"2022-02-19T00:00:02\", \"season\": 4717, \"variable\": \"harvested_pods\", \"value\": 22834519.350377, \"unharvestable_pods\": 614350431.459134, \"harvested_pods\": 22834519.350377, \"harvestable_pods\": 147862.7830730006}, {\"timestamp\": \"2022-02-19T00:00:02\", \"season\": 4717, \"variable\": \"harvestable_pods\", \"value\": 147862.7830730006, \"unharvestable_pods\": 614350431.459134, \"harvested_pods\": 22834519.350377, \"harvestable_pods\": 147862.7830730006}, {\"timestamp\": \"2022-02-20T00:00:15\", \"season\": 4741, \"variable\": \"unharvestable_pods\", \"value\": 615568436.524098, \"unharvestable_pods\": 615568436.524098, \"harvested_pods\": 22834519.350377, \"harvestable_pods\": 150226.3104689978}, {\"timestamp\": \"2022-02-20T00:00:15\", \"season\": 4741, \"variable\": \"harvested_pods\", \"value\": 22834519.350377, \"unharvestable_pods\": 615568436.524098, \"harvested_pods\": 22834519.350377, \"harvestable_pods\": 150226.3104689978}, {\"timestamp\": \"2022-02-20T00:00:15\", \"season\": 4741, \"variable\": \"harvestable_pods\", \"value\": 150226.3104689978, \"unharvestable_pods\": 615568436.524098, \"harvested_pods\": 22834519.350377, \"harvestable_pods\": 150226.3104689978}, {\"timestamp\": \"2022-02-21T00:00:06\", \"season\": 4765, \"variable\": \"harvested_pods\", \"value\": 22834519.350377, \"unharvestable_pods\": 616045529.530858, \"harvested_pods\": 22834519.350377, \"harvestable_pods\": 174232.24984299764}, {\"timestamp\": \"2022-02-21T00:00:06\", \"season\": 4765, \"variable\": \"harvestable_pods\", \"value\": 174232.24984299764, \"unharvestable_pods\": 616045529.530858, \"harvested_pods\": 22834519.350377, \"harvestable_pods\": 174232.24984299764}, {\"timestamp\": \"2022-02-21T00:00:06\", \"season\": 4765, \"variable\": \"unharvestable_pods\", \"value\": 616045529.530858, \"unharvestable_pods\": 616045529.530858, \"harvested_pods\": 22834519.350377, \"harvestable_pods\": 174232.24984299764}, {\"timestamp\": \"2022-02-22T00:00:01\", \"season\": 4789, \"variable\": \"unharvestable_pods\", \"value\": 616650583.2901931, \"unharvestable_pods\": 616650583.2901931, \"harvested_pods\": 22834519.350377, \"harvestable_pods\": 174797.33576999977}, {\"timestamp\": \"2022-02-22T00:00:01\", \"season\": 4789, \"variable\": \"harvested_pods\", \"value\": 22834519.350377, \"unharvestable_pods\": 616650583.2901931, \"harvested_pods\": 22834519.350377, \"harvestable_pods\": 174797.33576999977}, {\"timestamp\": \"2022-02-22T00:00:01\", \"season\": 4789, \"variable\": \"harvestable_pods\", \"value\": 174797.33576999977, \"unharvestable_pods\": 616650583.2901931, \"harvested_pods\": 22834519.350377, \"harvestable_pods\": 174797.33576999977}, {\"timestamp\": \"2022-02-23T00:00:27\", \"season\": 4813, \"variable\": \"unharvestable_pods\", \"value\": 616810541.260539, \"unharvestable_pods\": 616810541.260539, \"harvested_pods\": 22834519.350377, \"harvestable_pods\": 185522.08518400043}, {\"timestamp\": \"2022-02-23T00:00:27\", \"season\": 4813, \"variable\": \"harvested_pods\", \"value\": 22834519.350377, \"unharvestable_pods\": 616810541.260539, \"harvested_pods\": 22834519.350377, \"harvestable_pods\": 185522.08518400043}, {\"timestamp\": \"2022-02-23T00:00:27\", \"season\": 4813, \"variable\": \"harvestable_pods\", \"value\": 185522.08518400043, \"unharvestable_pods\": 616810541.260539, \"harvested_pods\": 22834519.350377, \"harvestable_pods\": 185522.08518400043}, {\"timestamp\": \"2022-02-24T00:00:01\", \"season\": 4837, \"variable\": \"harvested_pods\", \"value\": 22834519.350377, \"unharvestable_pods\": 616993470.711901, \"harvested_pods\": 22834519.350377, \"harvestable_pods\": 185522.08518400043}, {\"timestamp\": \"2022-02-24T00:00:01\", \"season\": 4837, \"variable\": \"unharvestable_pods\", \"value\": 616993470.711901, \"unharvestable_pods\": 616993470.711901, \"harvested_pods\": 22834519.350377, \"harvestable_pods\": 185522.08518400043}, {\"timestamp\": \"2022-02-24T00:00:01\", \"season\": 4837, \"variable\": \"harvestable_pods\", \"value\": 185522.08518400043, \"unharvestable_pods\": 616993470.711901, \"harvested_pods\": 22834519.350377, \"harvestable_pods\": 185522.08518400043}, {\"timestamp\": \"2022-02-25T00:00:06\", \"season\": 4861, \"variable\": \"unharvestable_pods\", \"value\": 617046274.5953319, \"unharvestable_pods\": 617046274.5953319, \"harvested_pods\": 22834519.350377, \"harvestable_pods\": 191976.40773800015}, {\"timestamp\": \"2022-02-25T00:00:06\", \"season\": 4861, \"variable\": \"harvested_pods\", \"value\": 22834519.350377, \"unharvestable_pods\": 617046274.5953319, \"harvested_pods\": 22834519.350377, \"harvestable_pods\": 191976.40773800015}, {\"timestamp\": \"2022-02-25T00:00:06\", \"season\": 4861, \"variable\": \"harvestable_pods\", \"value\": 191976.40773800015, \"unharvestable_pods\": 617046274.5953319, \"harvested_pods\": 22834519.350377, \"harvestable_pods\": 191976.40773800015}, {\"timestamp\": \"2022-02-26T00:00:28\", \"season\": 4885, \"variable\": \"harvested_pods\", \"value\": 22834519.350377, \"unharvestable_pods\": 617197151.04651, \"harvested_pods\": 22834519.350377, \"harvestable_pods\": 207405.85760900006}, {\"timestamp\": \"2022-02-26T00:00:28\", \"season\": 4885, \"variable\": \"harvestable_pods\", \"value\": 207405.85760900006, \"unharvestable_pods\": 617197151.04651, \"harvested_pods\": 22834519.350377, \"harvestable_pods\": 207405.85760900006}, {\"timestamp\": \"2022-02-26T00:00:28\", \"season\": 4885, \"variable\": \"unharvestable_pods\", \"value\": 617197151.04651, \"unharvestable_pods\": 617197151.04651, \"harvested_pods\": 22834519.350377, \"harvestable_pods\": 207405.85760900006}, {\"timestamp\": \"2022-02-27T00:00:02\", \"season\": 4909, \"variable\": \"harvestable_pods\", \"value\": 219010.46420300007, \"unharvestable_pods\": 617173941.833322, \"harvested_pods\": 22834519.350377, \"harvestable_pods\": 219010.46420300007}, {\"timestamp\": \"2022-02-27T00:00:02\", \"season\": 4909, \"variable\": \"harvested_pods\", \"value\": 22834519.350377, \"unharvestable_pods\": 617173941.833322, \"harvested_pods\": 22834519.350377, \"harvestable_pods\": 219010.46420300007}, {\"timestamp\": \"2022-02-27T00:00:02\", \"season\": 4909, \"variable\": \"unharvestable_pods\", \"value\": 617173941.833322, \"unharvestable_pods\": 617173941.833322, \"harvested_pods\": 22834519.350377, \"harvestable_pods\": 219010.46420300007}, {\"timestamp\": \"2022-02-28T00:00:02\", \"season\": 4933, \"variable\": \"unharvestable_pods\", \"value\": 617753301.14624, \"unharvestable_pods\": 617753301.14624, \"harvested_pods\": 22834519.350377, \"harvestable_pods\": 230284.61199899763}, {\"timestamp\": \"2022-02-28T00:00:02\", \"season\": 4933, \"variable\": \"harvested_pods\", \"value\": 22834519.350377, \"unharvestable_pods\": 617753301.14624, \"harvested_pods\": 22834519.350377, \"harvestable_pods\": 230284.61199899763}, {\"timestamp\": \"2022-02-28T00:00:02\", \"season\": 4933, \"variable\": \"harvestable_pods\", \"value\": 230284.61199899763, \"unharvestable_pods\": 617753301.14624, \"harvested_pods\": 22834519.350377, \"harvestable_pods\": 230284.61199899763}, {\"timestamp\": \"2022-03-01T00:00:18\", \"season\": 4957, \"variable\": \"unharvestable_pods\", \"value\": 621229316.394279, \"unharvestable_pods\": 621229316.394279, \"harvested_pods\": 22834519.350377, \"harvestable_pods\": 244872.09226999804}, {\"timestamp\": \"2022-03-01T00:00:18\", \"season\": 4957, \"variable\": \"harvested_pods\", \"value\": 22834519.350377, \"unharvestable_pods\": 621229316.394279, \"harvested_pods\": 22834519.350377, \"harvestable_pods\": 244872.09226999804}, {\"timestamp\": \"2022-03-01T00:00:18\", \"season\": 4957, \"variable\": \"harvestable_pods\", \"value\": 244872.09226999804, \"unharvestable_pods\": 621229316.394279, \"harvested_pods\": 22834519.350377, \"harvestable_pods\": 244872.09226999804}, {\"timestamp\": \"2022-03-02T00:00:00\", \"season\": 4981, \"variable\": \"unharvestable_pods\", \"value\": 622562725.783247, \"unharvestable_pods\": 622562725.783247, \"harvested_pods\": 22834519.350377, \"harvestable_pods\": 280106.8222949989}, {\"timestamp\": \"2022-03-02T00:00:00\", \"season\": 4981, \"variable\": \"harvested_pods\", \"value\": 22834519.350377, \"unharvestable_pods\": 622562725.783247, \"harvested_pods\": 22834519.350377, \"harvestable_pods\": 280106.8222949989}, {\"timestamp\": \"2022-03-02T00:00:00\", \"season\": 4981, \"variable\": \"harvestable_pods\", \"value\": 280106.8222949989, \"unharvestable_pods\": 622562725.783247, \"harvested_pods\": 22834519.350377, \"harvestable_pods\": 280106.8222949989}, {\"timestamp\": \"2022-03-03T00:00:02\", \"season\": 5005, \"variable\": \"harvestable_pods\", \"value\": 288417.00350899994, \"unharvestable_pods\": 626338178.1562151, \"harvested_pods\": 22839583.026931, \"harvestable_pods\": 288417.00350899994}, {\"timestamp\": \"2022-03-03T00:00:02\", \"season\": 5005, \"variable\": \"unharvestable_pods\", \"value\": 626338178.1562151, \"unharvestable_pods\": 626338178.1562151, \"harvested_pods\": 22839583.026931, \"harvestable_pods\": 288417.00350899994}, {\"timestamp\": \"2022-03-03T00:00:02\", \"season\": 5005, \"variable\": \"harvested_pods\", \"value\": 22839583.026931, \"unharvestable_pods\": 626338178.1562151, \"harvested_pods\": 22839583.026931, \"harvestable_pods\": 288417.00350899994}, {\"timestamp\": \"2022-03-04T00:00:35\", \"season\": 5029, \"variable\": \"harvestable_pods\", \"value\": 141353.65560400113, \"unharvestable_pods\": 639469799.24948, \"harvested_pods\": 22990480.974133, \"harvestable_pods\": 141353.65560400113}, {\"timestamp\": \"2022-03-04T00:00:35\", \"season\": 5029, \"variable\": \"harvested_pods\", \"value\": 22990480.974133, \"unharvestable_pods\": 639469799.24948, \"harvested_pods\": 22990480.974133, \"harvestable_pods\": 141353.65560400113}, {\"timestamp\": \"2022-03-04T00:00:35\", \"season\": 5029, \"variable\": \"unharvestable_pods\", \"value\": 639469799.24948, \"unharvestable_pods\": 639469799.24948, \"harvested_pods\": 22990480.974133, \"harvestable_pods\": 141353.65560400113}, {\"timestamp\": \"2022-03-05T00:00:30\", \"season\": 5053, \"variable\": \"unharvestable_pods\", \"value\": 639530549.9497889, \"unharvestable_pods\": 639530549.9497889, \"harvested_pods\": 22990480.974133, \"harvestable_pods\": 141353.65560400113}, {\"timestamp\": \"2022-03-05T00:00:30\", \"season\": 5053, \"variable\": \"harvested_pods\", \"value\": 22990480.974133, \"unharvestable_pods\": 639530549.9497889, \"harvested_pods\": 22990480.974133, \"harvestable_pods\": 141353.65560400113}, {\"timestamp\": \"2022-03-05T00:00:30\", \"season\": 5053, \"variable\": \"harvestable_pods\", \"value\": 141353.65560400113, \"unharvestable_pods\": 639530549.9497889, \"harvested_pods\": 22990480.974133, \"harvestable_pods\": 141353.65560400113}, {\"timestamp\": \"2022-03-06T00:00:17\", \"season\": 5077, \"variable\": \"unharvestable_pods\", \"value\": 639719662.188633, \"unharvestable_pods\": 639719662.188633, \"harvested_pods\": 22990480.974133, \"harvestable_pods\": 141353.65560400113}, {\"timestamp\": \"2022-03-06T00:00:17\", \"season\": 5077, \"variable\": \"harvested_pods\", \"value\": 22990480.974133, \"unharvestable_pods\": 639719662.188633, \"harvested_pods\": 22990480.974133, \"harvestable_pods\": 141353.65560400113}, {\"timestamp\": \"2022-03-06T00:00:17\", \"season\": 5077, \"variable\": \"harvestable_pods\", \"value\": 141353.65560400113, \"unharvestable_pods\": 639719662.188633, \"harvested_pods\": 22990480.974133, \"harvestable_pods\": 141353.65560400113}, {\"timestamp\": \"2022-03-07T00:00:15\", \"season\": 5101, \"variable\": \"harvestable_pods\", \"value\": 141353.65560400113, \"unharvestable_pods\": 641140489.561964, \"harvested_pods\": 22990480.974133, \"harvestable_pods\": 141353.65560400113}, {\"timestamp\": \"2022-03-07T00:00:15\", \"season\": 5101, \"variable\": \"unharvestable_pods\", \"value\": 641140489.561964, \"unharvestable_pods\": 641140489.561964, \"harvested_pods\": 22990480.974133, \"harvestable_pods\": 141353.65560400113}, {\"timestamp\": \"2022-03-07T00:00:15\", \"season\": 5101, \"variable\": \"harvested_pods\", \"value\": 22990480.974133, \"unharvestable_pods\": 641140489.561964, \"harvested_pods\": 22990480.974133, \"harvestable_pods\": 141353.65560400113}, {\"timestamp\": \"2022-03-08T00:00:01\", \"season\": 5125, \"variable\": \"harvested_pods\", \"value\": 22993263.391564, \"unharvestable_pods\": 645182573.760388, \"harvested_pods\": 22993263.391564, \"harvestable_pods\": 146629.44389700145}, {\"timestamp\": \"2022-03-08T00:00:01\", \"season\": 5125, \"variable\": \"harvestable_pods\", \"value\": 146629.44389700145, \"unharvestable_pods\": 645182573.760388, \"harvested_pods\": 22993263.391564, \"harvestable_pods\": 146629.44389700145}, {\"timestamp\": \"2022-03-08T00:00:01\", \"season\": 5125, \"variable\": \"unharvestable_pods\", \"value\": 645182573.760388, \"unharvestable_pods\": 645182573.760388, \"harvested_pods\": 22993263.391564, \"harvestable_pods\": 146629.44389700145}, {\"timestamp\": \"2022-03-09T00:00:04\", \"season\": 5149, \"variable\": \"harvested_pods\", \"value\": 22993263.391564, \"unharvestable_pods\": 645790547.883266, \"harvested_pods\": 22993263.391564, \"harvestable_pods\": 203376.44428499788}, {\"timestamp\": \"2022-03-09T00:00:04\", \"season\": 5149, \"variable\": \"harvestable_pods\", \"value\": 203376.44428499788, \"unharvestable_pods\": 645790547.883266, \"harvested_pods\": 22993263.391564, \"harvestable_pods\": 203376.44428499788}, {\"timestamp\": \"2022-03-09T00:00:04\", \"season\": 5149, \"variable\": \"unharvestable_pods\", \"value\": 645790547.883266, \"unharvestable_pods\": 645790547.883266, \"harvested_pods\": 22993263.391564, \"harvestable_pods\": 203376.44428499788}, {\"timestamp\": \"2022-03-10T00:00:17\", \"season\": 5173, \"variable\": \"harvestable_pods\", \"value\": 229320.8824279979, \"unharvestable_pods\": 647090589.982697, \"harvested_pods\": 22993263.391564, \"harvestable_pods\": 229320.8824279979}, {\"timestamp\": \"2022-03-10T00:00:17\", \"season\": 5173, \"variable\": \"harvested_pods\", \"value\": 22993263.391564, \"unharvestable_pods\": 647090589.982697, \"harvested_pods\": 22993263.391564, \"harvestable_pods\": 229320.8824279979}, {\"timestamp\": \"2022-03-10T00:00:17\", \"season\": 5173, \"variable\": \"unharvestable_pods\", \"value\": 647090589.982697, \"unharvestable_pods\": 647090589.982697, \"harvested_pods\": 22993263.391564, \"harvestable_pods\": 229320.8824279979}, {\"timestamp\": \"2022-03-11T00:00:09\", \"season\": 5197, \"variable\": \"unharvestable_pods\", \"value\": 648042812.077786, \"unharvestable_pods\": 648042812.077786, \"harvested_pods\": 22993263.391564, \"harvestable_pods\": 272723.10846599936}, {\"timestamp\": \"2022-03-11T00:00:09\", \"season\": 5197, \"variable\": \"harvested_pods\", \"value\": 22993263.391564, \"unharvestable_pods\": 648042812.077786, \"harvested_pods\": 22993263.391564, \"harvestable_pods\": 272723.10846599936}, {\"timestamp\": \"2022-03-11T00:00:09\", \"season\": 5197, \"variable\": \"harvestable_pods\", \"value\": 272723.10846599936, \"unharvestable_pods\": 648042812.077786, \"harvested_pods\": 22993263.391564, \"harvestable_pods\": 272723.10846599936}, {\"timestamp\": \"2022-03-12T00:00:05\", \"season\": 5221, \"variable\": \"unharvestable_pods\", \"value\": 648601288.498656, \"unharvestable_pods\": 648601288.498656, \"harvested_pods\": 22993263.391564, \"harvestable_pods\": 340276.99687499925}, {\"timestamp\": \"2022-03-12T00:00:05\", \"season\": 5221, \"variable\": \"harvested_pods\", \"value\": 22993263.391564, \"unharvestable_pods\": 648601288.498656, \"harvested_pods\": 22993263.391564, \"harvestable_pods\": 340276.99687499925}, {\"timestamp\": \"2022-03-12T00:00:05\", \"season\": 5221, \"variable\": \"harvestable_pods\", \"value\": 340276.99687499925, \"unharvestable_pods\": 648601288.498656, \"harvested_pods\": 22993263.391564, \"harvestable_pods\": 340276.99687499925}, {\"timestamp\": \"2022-03-13T00:00:01\", \"season\": 5245, \"variable\": \"unharvestable_pods\", \"value\": 648657695.270716, \"unharvestable_pods\": 648657695.270716, \"harvested_pods\": 22993263.391564, \"harvestable_pods\": 428860.91194200143}, {\"timestamp\": \"2022-03-13T00:00:01\", \"season\": 5245, \"variable\": \"harvested_pods\", \"value\": 22993263.391564, \"unharvestable_pods\": 648657695.270716, \"harvested_pods\": 22993263.391564, \"harvestable_pods\": 428860.91194200143}, {\"timestamp\": \"2022-03-13T00:00:01\", \"season\": 5245, \"variable\": \"harvestable_pods\", \"value\": 428860.91194200143, \"unharvestable_pods\": 648657695.270716, \"harvested_pods\": 22993263.391564, \"harvestable_pods\": 428860.91194200143}, {\"timestamp\": \"2022-03-14T00:00:04\", \"season\": 5269, \"variable\": \"unharvestable_pods\", \"value\": 648535519.452534, \"unharvestable_pods\": 648535519.452534, \"harvested_pods\": 22993263.391564, \"harvestable_pods\": 551036.7292260006}, {\"timestamp\": \"2022-03-14T00:00:04\", \"season\": 5269, \"variable\": \"harvested_pods\", \"value\": 22993263.391564, \"unharvestable_pods\": 648535519.452534, \"harvested_pods\": 22993263.391564, \"harvestable_pods\": 551036.7292260006}, {\"timestamp\": \"2022-03-14T00:00:04\", \"season\": 5269, \"variable\": \"harvestable_pods\", \"value\": 551036.7292260006, \"unharvestable_pods\": 648535519.452534, \"harvested_pods\": 22993263.391564, \"harvestable_pods\": 551036.7292260006}, {\"timestamp\": \"2022-03-15T00:00:14\", \"season\": 5293, \"variable\": \"harvestable_pods\", \"value\": 705589.8563390002, \"unharvestable_pods\": 649568932.1028761, \"harvested_pods\": 22993263.391564, \"harvestable_pods\": 705589.8563390002}, {\"timestamp\": \"2022-03-15T00:00:14\", \"season\": 5293, \"variable\": \"harvested_pods\", \"value\": 22993263.391564, \"unharvestable_pods\": 649568932.1028761, \"harvested_pods\": 22993263.391564, \"harvestable_pods\": 705589.8563390002}, {\"timestamp\": \"2022-03-15T00:00:14\", \"season\": 5293, \"variable\": \"unharvestable_pods\", \"value\": 649568932.1028761, \"unharvestable_pods\": 649568932.1028761, \"harvested_pods\": 22993263.391564, \"harvestable_pods\": 705589.8563390002}, {\"timestamp\": \"2022-03-16T00:00:05\", \"season\": 5317, \"variable\": \"unharvestable_pods\", \"value\": 649442663.3225371, \"unharvestable_pods\": 649442663.3225371, \"harvested_pods\": 22993263.391564, \"harvestable_pods\": 862084.918903999}, {\"timestamp\": \"2022-03-16T00:00:05\", \"season\": 5317, \"variable\": \"harvested_pods\", \"value\": 22993263.391564, \"unharvestable_pods\": 649442663.3225371, \"harvested_pods\": 22993263.391564, \"harvestable_pods\": 862084.918903999}, {\"timestamp\": \"2022-03-16T00:00:05\", \"season\": 5317, \"variable\": \"harvestable_pods\", \"value\": 862084.918903999, \"unharvestable_pods\": 649442663.3225371, \"harvested_pods\": 22993263.391564, \"harvestable_pods\": 862084.918903999}, {\"timestamp\": \"2022-03-17T00:00:07\", \"season\": 5341, \"variable\": \"unharvestable_pods\", \"value\": 650003991.2034509, \"unharvestable_pods\": 650003991.2034509, \"harvested_pods\": 23061551.310913, \"harvestable_pods\": 900770.697900001}, {\"timestamp\": \"2022-03-17T00:00:07\", \"season\": 5341, \"variable\": \"harvested_pods\", \"value\": 23061551.310913, \"unharvestable_pods\": 650003991.2034509, \"harvested_pods\": 23061551.310913, \"harvestable_pods\": 900770.697900001}, {\"timestamp\": \"2022-03-17T00:00:07\", \"season\": 5341, \"variable\": \"harvestable_pods\", \"value\": 900770.697900001, \"unharvestable_pods\": 650003991.2034509, \"harvested_pods\": 23061551.310913, \"harvestable_pods\": 900770.697900001}, {\"timestamp\": \"2022-03-18T00:00:08\", \"season\": 5365, \"variable\": \"unharvestable_pods\", \"value\": 650153350.6702, \"unharvestable_pods\": 650153350.6702, \"harvested_pods\": 23922199.109166, \"harvestable_pods\": 145718.8239319995}, {\"timestamp\": \"2022-03-18T00:00:08\", \"season\": 5365, \"variable\": \"harvested_pods\", \"value\": 23922199.109166, \"unharvestable_pods\": 650153350.6702, \"harvested_pods\": 23922199.109166, \"harvestable_pods\": 145718.8239319995}, {\"timestamp\": \"2022-03-18T00:00:08\", \"season\": 5365, \"variable\": \"harvestable_pods\", \"value\": 145718.8239319995, \"unharvestable_pods\": 650153350.6702, \"harvested_pods\": 23922199.109166, \"harvestable_pods\": 145718.8239319995}, {\"timestamp\": \"2022-03-19T00:00:09\", \"season\": 5389, \"variable\": \"unharvestable_pods\", \"value\": 651838813.530128, \"unharvestable_pods\": 651838813.530128, \"harvested_pods\": 23999045.529753, \"harvestable_pods\": 120708.27456500009}, {\"timestamp\": \"2022-03-19T00:00:09\", \"season\": 5389, \"variable\": \"harvested_pods\", \"value\": 23999045.529753, \"unharvestable_pods\": 651838813.530128, \"harvested_pods\": 23999045.529753, \"harvestable_pods\": 120708.27456500009}, {\"timestamp\": \"2022-03-19T00:00:09\", \"season\": 5389, \"variable\": \"harvestable_pods\", \"value\": 120708.27456500009, \"unharvestable_pods\": 651838813.530128, \"harvested_pods\": 23999045.529753, \"harvestable_pods\": 120708.27456500009}, {\"timestamp\": \"2022-03-20T00:00:11\", \"season\": 5413, \"variable\": \"harvested_pods\", \"value\": 24022373.793534, \"unharvestable_pods\": 653337659.0792639, \"harvested_pods\": 24022373.793534, \"harvestable_pods\": 117900.37945700064}, {\"timestamp\": \"2022-03-20T00:00:11\", \"season\": 5413, \"variable\": \"harvestable_pods\", \"value\": 117900.37945700064, \"unharvestable_pods\": 653337659.0792639, \"harvested_pods\": 24022373.793534, \"harvestable_pods\": 117900.37945700064}, {\"timestamp\": \"2022-03-20T00:00:11\", \"season\": 5413, \"variable\": \"unharvestable_pods\", \"value\": 653337659.0792639, \"unharvestable_pods\": 653337659.0792639, \"harvested_pods\": 24022373.793534, \"harvestable_pods\": 117900.37945700064}, {\"timestamp\": \"2022-03-21T00:00:14\", \"season\": 5437, \"variable\": \"unharvestable_pods\", \"value\": 655766880.89617, \"unharvestable_pods\": 655766880.89617, \"harvested_pods\": 24085507.743794, \"harvestable_pods\": 120307.10878999904}, {\"timestamp\": \"2022-03-21T00:00:14\", \"season\": 5437, \"variable\": \"harvested_pods\", \"value\": 24085507.743794, \"unharvestable_pods\": 655766880.89617, \"harvested_pods\": 24085507.743794, \"harvestable_pods\": 120307.10878999904}, {\"timestamp\": \"2022-03-21T00:00:14\", \"season\": 5437, \"variable\": \"harvestable_pods\", \"value\": 120307.10878999904, \"unharvestable_pods\": 655766880.89617, \"harvested_pods\": 24085507.743794, \"harvestable_pods\": 120307.10878999904}, {\"timestamp\": \"2022-03-22T00:00:02\", \"season\": 5461, \"variable\": \"unharvestable_pods\", \"value\": 656158858.072695, \"unharvestable_pods\": 656158858.072695, \"harvested_pods\": 24128567.883227, \"harvestable_pods\": 171068.75337700173}, {\"timestamp\": \"2022-03-22T00:00:02\", \"season\": 5461, \"variable\": \"harvested_pods\", \"value\": 24128567.883227, \"unharvestable_pods\": 656158858.072695, \"harvested_pods\": 24128567.883227, \"harvestable_pods\": 171068.75337700173}, {\"timestamp\": \"2022-03-22T00:00:02\", \"season\": 5461, \"variable\": \"harvestable_pods\", \"value\": 171068.75337700173, \"unharvestable_pods\": 656158858.072695, \"harvested_pods\": 24128567.883227, \"harvestable_pods\": 171068.75337700173}, {\"timestamp\": \"2022-03-23T00:00:07\", \"season\": 5485, \"variable\": \"unharvestable_pods\", \"value\": 656068378.4768419, \"unharvestable_pods\": 656068378.4768419, \"harvested_pods\": 24265460.731187, \"harvestable_pods\": 127458.13851400092}, {\"timestamp\": \"2022-03-23T00:00:07\", \"season\": 5485, \"variable\": \"harvested_pods\", \"value\": 24265460.731187, \"unharvestable_pods\": 656068378.4768419, \"harvested_pods\": 24265460.731187, \"harvestable_pods\": 127458.13851400092}, {\"timestamp\": \"2022-03-23T00:00:07\", \"season\": 5485, \"variable\": \"harvestable_pods\", \"value\": 127458.13851400092, \"unharvestable_pods\": 656068378.4768419, \"harvested_pods\": 24265460.731187, \"harvestable_pods\": 127458.13851400092}, {\"timestamp\": \"2022-03-24T00:00:59\", \"season\": 5509, \"variable\": \"unharvestable_pods\", \"value\": 655920629.312904, \"unharvestable_pods\": 655920629.312904, \"harvested_pods\": 24385303.532868, \"harvestable_pods\": 143547.33602999896}, {\"timestamp\": \"2022-03-24T00:00:59\", \"season\": 5509, \"variable\": \"harvested_pods\", \"value\": 24385303.532868, \"unharvestable_pods\": 655920629.312904, \"harvested_pods\": 24385303.532868, \"harvestable_pods\": 143547.33602999896}, {\"timestamp\": \"2022-03-24T00:00:59\", \"season\": 5509, \"variable\": \"harvestable_pods\", \"value\": 143547.33602999896, \"unharvestable_pods\": 655920629.312904, \"harvested_pods\": 24385303.532868, \"harvestable_pods\": 143547.33602999896}, {\"timestamp\": \"2022-03-25T00:00:02\", \"season\": 5533, \"variable\": \"harvestable_pods\", \"value\": 151617.74227000028, \"unharvestable_pods\": 655799852.9873941, \"harvested_pods\": 24497604.624926, \"harvestable_pods\": 151617.74227000028}, {\"timestamp\": \"2022-03-25T00:00:02\", \"season\": 5533, \"variable\": \"harvested_pods\", \"value\": 24497604.624926, \"unharvestable_pods\": 655799852.9873941, \"harvested_pods\": 24497604.624926, \"harvestable_pods\": 151617.74227000028}, {\"timestamp\": \"2022-03-25T00:00:02\", \"season\": 5533, \"variable\": \"unharvestable_pods\", \"value\": 655799852.9873941, \"unharvestable_pods\": 655799852.9873941, \"harvested_pods\": 24497604.624926, \"harvestable_pods\": 151617.74227000028}, {\"timestamp\": \"2022-03-26T00:00:19\", \"season\": 5557, \"variable\": \"unharvestable_pods\", \"value\": 655669185.786973, \"unharvestable_pods\": 655669185.786973, \"harvested_pods\": 24517434.240243, \"harvestable_pods\": 257038.41843499988}, {\"timestamp\": \"2022-03-26T00:00:19\", \"season\": 5557, \"variable\": \"harvested_pods\", \"value\": 24517434.240243, \"unharvestable_pods\": 655669185.786973, \"harvested_pods\": 24517434.240243, \"harvestable_pods\": 257038.41843499988}, {\"timestamp\": \"2022-03-26T00:00:19\", \"season\": 5557, \"variable\": \"harvestable_pods\", \"value\": 257038.41843499988, \"unharvestable_pods\": 655669185.786973, \"harvested_pods\": 24517434.240243, \"harvestable_pods\": 257038.41843499988}, {\"timestamp\": \"2022-03-27T00:00:05\", \"season\": 5581, \"variable\": \"unharvestable_pods\", \"value\": 655538894.2027601, \"unharvestable_pods\": 655538894.2027601, \"harvested_pods\": 24743601.480617, \"harvestable_pods\": 160378.89624200016}, {\"timestamp\": \"2022-03-27T00:00:05\", \"season\": 5581, \"variable\": \"harvested_pods\", \"value\": 24743601.480617, \"unharvestable_pods\": 655538894.2027601, \"harvested_pods\": 24743601.480617, \"harvestable_pods\": 160378.89624200016}, {\"timestamp\": \"2022-03-27T00:00:05\", \"season\": 5581, \"variable\": \"harvestable_pods\", \"value\": 160378.89624200016, \"unharvestable_pods\": 655538894.2027601, \"harvested_pods\": 24743601.480617, \"harvestable_pods\": 160378.89624200016}, {\"timestamp\": \"2022-03-28T00:01:21\", \"season\": 5605, \"variable\": \"unharvestable_pods\", \"value\": 655348419.0035139, \"unharvestable_pods\": 655348419.0035139, \"harvested_pods\": 24830543.365786, \"harvestable_pods\": 253435.71094099805}, {\"timestamp\": \"2022-03-28T00:01:21\", \"season\": 5605, \"variable\": \"harvested_pods\", \"value\": 24830543.365786, \"unharvestable_pods\": 655348419.0035139, \"harvested_pods\": 24830543.365786, \"harvestable_pods\": 253435.71094099805}, {\"timestamp\": \"2022-03-28T00:01:21\", \"season\": 5605, \"variable\": \"harvestable_pods\", \"value\": 253435.71094099805, \"unharvestable_pods\": 655348419.0035139, \"harvested_pods\": 24830543.365786, \"harvestable_pods\": 253435.71094099805}, {\"timestamp\": \"2022-03-29T00:00:19\", \"season\": 5629, \"variable\": \"unharvestable_pods\", \"value\": 655170881.922768, \"unharvestable_pods\": 655170881.922768, \"harvested_pods\": 25035988.350535, \"harvestable_pods\": 222344.99606399983}, {\"timestamp\": \"2022-03-29T00:00:19\", \"season\": 5629, \"variable\": \"harvested_pods\", \"value\": 25035988.350535, \"unharvestable_pods\": 655170881.922768, \"harvested_pods\": 25035988.350535, \"harvestable_pods\": 222344.99606399983}, {\"timestamp\": \"2022-03-29T00:00:19\", \"season\": 5629, \"variable\": \"harvestable_pods\", \"value\": 222344.99606399983, \"unharvestable_pods\": 655170881.922768, \"harvested_pods\": 25035988.350535, \"harvestable_pods\": 222344.99606399983}, {\"timestamp\": \"2022-03-30T00:00:24\", \"season\": 5653, \"variable\": \"harvested_pods\", \"value\": 25087871.933574, \"unharvestable_pods\": 656789450.138268, \"harvested_pods\": 25087871.933574, \"harvestable_pods\": 382581.4013170004}, {\"timestamp\": \"2022-03-30T00:00:24\", \"season\": 5653, \"variable\": \"harvestable_pods\", \"value\": 382581.4013170004, \"unharvestable_pods\": 656789450.138268, \"harvested_pods\": 25087871.933574, \"harvestable_pods\": 382581.4013170004}, {\"timestamp\": \"2022-03-30T00:00:24\", \"season\": 5653, \"variable\": \"unharvestable_pods\", \"value\": 656789450.138268, \"unharvestable_pods\": 656789450.138268, \"harvested_pods\": 25087871.933574, \"harvestable_pods\": 382581.4013170004}, {\"timestamp\": \"2022-03-31T00:00:03\", \"season\": 5677, \"variable\": \"harvested_pods\", \"value\": 25260343.623763, \"unharvestable_pods\": 656604105.775028, \"harvested_pods\": 25260343.623763, \"harvestable_pods\": 387374.53076300025}, {\"timestamp\": \"2022-03-31T00:00:03\", \"season\": 5677, \"variable\": \"harvestable_pods\", \"value\": 387374.53076300025, \"unharvestable_pods\": 656604105.775028, \"harvested_pods\": 25260343.623763, \"harvestable_pods\": 387374.53076300025}, {\"timestamp\": \"2022-03-31T00:00:03\", \"season\": 5677, \"variable\": \"unharvestable_pods\", \"value\": 656604105.775028, \"unharvestable_pods\": 656604105.775028, \"harvested_pods\": 25260343.623763, \"harvestable_pods\": 387374.53076300025}, {\"timestamp\": \"2022-04-01T00:00:21\", \"season\": 5701, \"variable\": \"unharvestable_pods\", \"value\": 656418532.534335, \"unharvestable_pods\": 656418532.534335, \"harvested_pods\": 25473447.969591, \"harvestable_pods\": 357290.99630500004}, {\"timestamp\": \"2022-04-01T00:00:21\", \"season\": 5701, \"variable\": \"harvested_pods\", \"value\": 25473447.969591, \"unharvestable_pods\": 656418532.534335, \"harvested_pods\": 25473447.969591, \"harvestable_pods\": 357290.99630500004}, {\"timestamp\": \"2022-04-01T00:00:21\", \"season\": 5701, \"variable\": \"harvestable_pods\", \"value\": 357290.99630500004, \"unharvestable_pods\": 656418532.534335, \"harvested_pods\": 25473447.969591, \"harvestable_pods\": 357290.99630500004}, {\"timestamp\": \"2022-04-02T00:00:09\", \"season\": 5725, \"variable\": \"unharvestable_pods\", \"value\": 656126060.1160561, \"unharvestable_pods\": 656126060.1160561, \"harvested_pods\": 25569345.837924, \"harvestable_pods\": 551342.0708459988}, {\"timestamp\": \"2022-04-02T00:00:09\", \"season\": 5725, \"variable\": \"harvested_pods\", \"value\": 25569345.837924, \"unharvestable_pods\": 656126060.1160561, \"harvested_pods\": 25569345.837924, \"harvestable_pods\": 551342.0708459988}, {\"timestamp\": \"2022-04-02T00:00:09\", \"season\": 5725, \"variable\": \"harvestable_pods\", \"value\": 551342.0708459988, \"unharvestable_pods\": 656126060.1160561, \"harvested_pods\": 25569345.837924, \"harvestable_pods\": 551342.0708459988}, {\"timestamp\": \"2022-04-03T00:00:06\", \"season\": 5749, \"variable\": \"unharvestable_pods\", \"value\": 655812498.244249, \"unharvestable_pods\": 655812498.244249, \"harvested_pods\": 25905267.403178, \"harvestable_pods\": 525253.2166419998}, {\"timestamp\": \"2022-04-03T00:00:06\", \"season\": 5749, \"variable\": \"harvested_pods\", \"value\": 25905267.403178, \"unharvestable_pods\": 655812498.244249, \"harvested_pods\": 25905267.403178, \"harvestable_pods\": 525253.2166419998}, {\"timestamp\": \"2022-04-03T00:00:06\", \"season\": 5749, \"variable\": \"harvestable_pods\", \"value\": 525253.2166419998, \"unharvestable_pods\": 655812498.244249, \"harvested_pods\": 25905267.403178, \"harvestable_pods\": 525253.2166419998}, {\"timestamp\": \"2022-04-04T00:00:00\", \"season\": 5773, \"variable\": \"unharvestable_pods\", \"value\": 655445336.151811, \"unharvestable_pods\": 655445336.151811, \"harvested_pods\": 26015980.205595, \"harvestable_pods\": 779909.068744}, {\"timestamp\": \"2022-04-04T00:00:00\", \"season\": 5773, \"variable\": \"harvested_pods\", \"value\": 26015980.205595, \"unharvestable_pods\": 655445336.151811, \"harvested_pods\": 26015980.205595, \"harvestable_pods\": 779909.068744}, {\"timestamp\": \"2022-04-04T00:00:00\", \"season\": 5773, \"variable\": \"harvestable_pods\", \"value\": 779909.068744, \"unharvestable_pods\": 655445336.151811, \"harvested_pods\": 26015980.205595, \"harvestable_pods\": 779909.068744}, {\"timestamp\": \"2022-04-05T00:00:21\", \"season\": 5797, \"variable\": \"harvested_pods\", \"value\": 26651672.397288, \"unharvestable_pods\": 655238795.501984, \"harvested_pods\": 26651672.397288, \"harvestable_pods\": 348555.41450500116}, {\"timestamp\": \"2022-04-05T00:00:21\", \"season\": 5797, \"variable\": \"harvestable_pods\", \"value\": 348555.41450500116, \"unharvestable_pods\": 655238795.501984, \"harvested_pods\": 26651672.397288, \"harvestable_pods\": 348555.41450500116}, {\"timestamp\": \"2022-04-05T00:00:21\", \"season\": 5797, \"variable\": \"unharvestable_pods\", \"value\": 655238795.501984, \"unharvestable_pods\": 655238795.501984, \"harvested_pods\": 26651672.397288, \"harvestable_pods\": 348555.41450500116}, {\"timestamp\": \"2022-04-06T00:00:27\", \"season\": 5821, \"variable\": \"unharvestable_pods\", \"value\": 655053281.944697, \"unharvestable_pods\": 655053281.944697, \"harvested_pods\": 26906015.33346, \"harvestable_pods\": 279246.4609909989}, {\"timestamp\": \"2022-04-06T00:00:27\", \"season\": 5821, \"variable\": \"harvested_pods\", \"value\": 26906015.33346, \"unharvestable_pods\": 655053281.944697, \"harvested_pods\": 26906015.33346, \"harvestable_pods\": 279246.4609909989}, {\"timestamp\": \"2022-04-06T00:00:27\", \"season\": 5821, \"variable\": \"harvestable_pods\", \"value\": 279246.4609909989, \"unharvestable_pods\": 655053281.944697, \"harvested_pods\": 26906015.33346, \"harvestable_pods\": 279246.4609909989}, {\"timestamp\": \"2022-04-07T00:01:08\", \"season\": 5845, \"variable\": \"unharvestable_pods\", \"value\": 654777482.7901491, \"unharvestable_pods\": 654777482.7901491, \"harvested_pods\": 27095623.667981, \"harvestable_pods\": 359804.7133760005}, {\"timestamp\": \"2022-04-07T00:01:08\", \"season\": 5845, \"variable\": \"harvested_pods\", \"value\": 27095623.667981, \"unharvestable_pods\": 654777482.7901491, \"harvested_pods\": 27095623.667981, \"harvestable_pods\": 359804.7133760005}, {\"timestamp\": \"2022-04-07T00:01:08\", \"season\": 5845, \"variable\": \"harvestable_pods\", \"value\": 359804.7133760005, \"unharvestable_pods\": 654777482.7901491, \"harvested_pods\": 27095623.667981, \"harvestable_pods\": 359804.7133760005}, {\"timestamp\": \"2022-04-08T00:00:13\", \"season\": 5869, \"variable\": \"harvested_pods\", \"value\": 27262501.864033, \"unharvestable_pods\": 654581955.580975, \"harvested_pods\": 27262501.864033, \"harvestable_pods\": 386225.94682599977}, {\"timestamp\": \"2022-04-08T00:00:13\", \"season\": 5869, \"variable\": \"unharvestable_pods\", \"value\": 654581955.580975, \"unharvestable_pods\": 654581955.580975, \"harvested_pods\": 27262501.864033, \"harvestable_pods\": 386225.94682599977}, {\"timestamp\": \"2022-04-08T00:00:13\", \"season\": 5869, \"variable\": \"harvestable_pods\", \"value\": 386225.94682599977, \"unharvestable_pods\": 654581955.580975, \"harvested_pods\": 27262501.864033, \"harvestable_pods\": 386225.94682599977}, {\"timestamp\": \"2022-04-09T00:00:00\", \"season\": 5893, \"variable\": \"unharvestable_pods\", \"value\": 654130084.827446, \"unharvestable_pods\": 654130084.827446, \"harvested_pods\": 27710846.347326, \"harvestable_pods\": 386377.81337400153}, {\"timestamp\": \"2022-04-09T00:00:00\", \"season\": 5893, \"variable\": \"harvested_pods\", \"value\": 27710846.347326, \"unharvestable_pods\": 654130084.827446, \"harvested_pods\": 27710846.347326, \"harvestable_pods\": 386377.81337400153}, {\"timestamp\": \"2022-04-09T00:00:00\", \"season\": 5893, \"variable\": \"harvestable_pods\", \"value\": 386377.81337400153, \"unharvestable_pods\": 654130084.827446, \"harvested_pods\": 27710846.347326, \"harvestable_pods\": 386377.81337400153}, {\"timestamp\": \"2022-04-10T00:02:19\", \"season\": 5917, \"variable\": \"harvested_pods\", \"value\": 27999158.687811, \"unharvestable_pods\": 653617127.601748, \"harvested_pods\": 27999158.687811, \"harvestable_pods\": 609530.5459400006}, {\"timestamp\": \"2022-04-10T00:02:19\", \"season\": 5917, \"variable\": \"harvestable_pods\", \"value\": 609530.5459400006, \"unharvestable_pods\": 653617127.601748, \"harvested_pods\": 27999158.687811, \"harvestable_pods\": 609530.5459400006}, {\"timestamp\": \"2022-04-10T00:02:19\", \"season\": 5917, \"variable\": \"unharvestable_pods\", \"value\": 653617127.601748, \"unharvestable_pods\": 653617127.601748, \"harvested_pods\": 27999158.687811, \"harvestable_pods\": 609530.5459400006}, {\"timestamp\": \"2022-04-11T00:00:03\", \"season\": 5941, \"variable\": \"harvestable_pods\", \"value\": 591609.8118400015, \"unharvestable_pods\": 652954000.620748, \"harvested_pods\": 28679145.061848, \"harvestable_pods\": 591609.8118400015}, {\"timestamp\": \"2022-04-11T00:00:03\", \"season\": 5941, \"variable\": \"harvested_pods\", \"value\": 28679145.061848, \"unharvestable_pods\": 652954000.620748, \"harvested_pods\": 28679145.061848, \"harvestable_pods\": 591609.8118400015}, {\"timestamp\": \"2022-04-11T00:00:03\", \"season\": 5941, \"variable\": \"unharvestable_pods\", \"value\": 652954000.620748, \"unharvestable_pods\": 652954000.620748, \"harvested_pods\": 28679145.061848, \"harvestable_pods\": 591609.8118400015}, {\"timestamp\": \"2022-04-12T00:00:14\", \"season\": 5965, \"variable\": \"unharvestable_pods\", \"value\": 650434039.451118, \"unharvestable_pods\": 650434039.451118, \"harvested_pods\": 29499411.827778, \"harvestable_pods\": 2291304.111453999}, {\"timestamp\": \"2022-04-12T00:00:14\", \"season\": 5965, \"variable\": \"harvested_pods\", \"value\": 29499411.827778, \"unharvestable_pods\": 650434039.451118, \"harvested_pods\": 29499411.827778, \"harvestable_pods\": 2291304.111453999}, {\"timestamp\": \"2022-04-12T00:00:14\", \"season\": 5965, \"variable\": \"harvestable_pods\", \"value\": 2291304.111453999, \"unharvestable_pods\": 650434039.451118, \"harvested_pods\": 29499411.827778, \"harvestable_pods\": 2291304.111453999}, {\"timestamp\": \"2022-04-13T00:00:14\", \"season\": 5989, \"variable\": \"unharvestable_pods\", \"value\": 646286906.258978, \"unharvestable_pods\": 646286906.258978, \"harvested_pods\": 34900861.69022, \"harvestable_pods\": 1036987.4403069988}, {\"timestamp\": \"2022-04-13T00:00:14\", \"season\": 5989, \"variable\": \"harvested_pods\", \"value\": 34900861.69022, \"unharvestable_pods\": 646286906.258978, \"harvested_pods\": 34900861.69022, \"harvestable_pods\": 1036987.4403069988}, {\"timestamp\": \"2022-04-13T00:00:14\", \"season\": 5989, \"variable\": \"harvestable_pods\", \"value\": 1036987.4403069988, \"unharvestable_pods\": 646286906.258978, \"harvested_pods\": 34900861.69022, \"harvestable_pods\": 1036987.4403069988}, {\"timestamp\": \"2022-04-14T00:00:06\", \"season\": 6013, \"variable\": \"unharvestable_pods\", \"value\": 641361894.857203, \"unharvestable_pods\": 641361894.857203, \"harvested_pods\": 39950209.551699, \"harvestable_pods\": 912650.9798260033}, {\"timestamp\": \"2022-04-14T00:00:06\", \"season\": 6013, \"variable\": \"harvested_pods\", \"value\": 39950209.551699, \"unharvestable_pods\": 641361894.857203, \"harvested_pods\": 39950209.551699, \"harvestable_pods\": 912650.9798260033}, {\"timestamp\": \"2022-04-14T00:00:06\", \"season\": 6013, \"variable\": \"harvestable_pods\", \"value\": 912650.9798260033, \"unharvestable_pods\": 641361894.857203, \"harvested_pods\": 39950209.551699, \"harvestable_pods\": 912650.9798260033}, {\"timestamp\": \"2022-04-15T00:00:36\", \"season\": 6037, \"variable\": \"harvestable_pods\", \"value\": 1255123.866714999, \"unharvestable_pods\": 634793120.73511, \"harvested_pods\": 46176510.786144, \"harvestable_pods\": 1255123.866714999}, {\"timestamp\": \"2022-04-15T00:00:36\", \"season\": 6037, \"variable\": \"unharvestable_pods\", \"value\": 634793120.73511, \"unharvestable_pods\": 634793120.73511, \"harvested_pods\": 46176510.786144, \"harvestable_pods\": 1255123.866714999}, {\"timestamp\": \"2022-04-15T00:00:36\", \"season\": 6037, \"variable\": \"harvested_pods\", \"value\": 46176510.786144, \"unharvestable_pods\": 634793120.73511, \"harvested_pods\": 46176510.786144, \"harvestable_pods\": 1255123.866714999}, {\"timestamp\": \"2022-04-16T00:00:56\", \"season\": 6061, \"variable\": \"harvestable_pods\", \"value\": 3239997.1570799947, \"unharvestable_pods\": 629560531.1179891, \"harvested_pods\": 49424227.112225, \"harvestable_pods\": 3239997.1570799947}, {\"timestamp\": \"2022-04-16T00:00:56\", \"season\": 6061, \"variable\": \"harvested_pods\", \"value\": 49424227.112225, \"unharvestable_pods\": 629560531.1179891, \"harvested_pods\": 49424227.112225, \"harvestable_pods\": 3239997.1570799947}, {\"timestamp\": \"2022-04-16T00:00:56\", \"season\": 6061, \"variable\": \"unharvestable_pods\", \"value\": 629560531.1179891, \"unharvestable_pods\": 629560531.1179891, \"harvested_pods\": 49424227.112225, \"harvestable_pods\": 3239997.1570799947}, {\"timestamp\": \"2022-08-05T03:47:15\", \"season\": 6074, \"variable\": \"unharvestable_pods\", \"value\": 626785795.6926501, \"unharvestable_pods\": 626785795.6926501, \"harvested_pods\": 55438959.694302, \"harvestable_pods\": 0.0}, {\"timestamp\": \"2022-08-05T03:47:15\", \"season\": 6074, \"variable\": \"harvested_pods\", \"value\": 55438959.694302, \"unharvestable_pods\": 626785795.6926501, \"harvested_pods\": 55438959.694302, \"harvestable_pods\": 0.0}, {\"timestamp\": \"2022-08-05T03:47:15\", \"season\": 6074, \"variable\": \"harvestable_pods\", \"value\": 0.0, \"unharvestable_pods\": 626785795.6926501, \"harvested_pods\": 55438959.694302, \"harvestable_pods\": 0.0}, {\"timestamp\": \"2022-08-06T23:00:33\", \"season\": 6081, \"variable\": \"unharvestable_pods\", \"value\": 626705452.0801649, \"unharvestable_pods\": 626705452.0801649, \"harvested_pods\": 55438959.694302, \"harvestable_pods\": 53558.90904299915}, {\"timestamp\": \"2022-08-06T23:00:33\", \"season\": 6081, \"variable\": \"harvested_pods\", \"value\": 55438959.694302, \"unharvestable_pods\": 626705452.0801649, \"harvested_pods\": 55438959.694302, \"harvestable_pods\": 53558.90904299915}, {\"timestamp\": \"2022-08-06T23:00:33\", \"season\": 6081, \"variable\": \"harvestable_pods\", \"value\": 53558.90904299915, \"unharvestable_pods\": 626705452.0801649, \"harvested_pods\": 55438959.694302, \"harvestable_pods\": 53558.90904299915}, {\"timestamp\": \"2022-08-07T23:00:32\", \"season\": 6105, \"variable\": \"harvestable_pods\", \"value\": 0.0, \"unharvestable_pods\": 623916346.841867, \"harvested_pods\": 57351922.095057, \"harvestable_pods\": 0.0}, {\"timestamp\": \"2022-08-07T23:00:32\", \"season\": 6105, \"variable\": \"unharvestable_pods\", \"value\": 623916346.841867, \"unharvestable_pods\": 623916346.841867, \"harvested_pods\": 57351922.095057, \"harvestable_pods\": 0.0}, {\"timestamp\": \"2022-08-07T23:00:32\", \"season\": 6105, \"variable\": \"harvested_pods\", \"value\": 57351922.095057, \"unharvestable_pods\": 623916346.841867, \"harvested_pods\": 57351922.095057, \"harvestable_pods\": 0.0}, {\"timestamp\": \"2022-08-08T23:00:11\", \"season\": 6129, \"variable\": \"harvested_pods\", \"value\": 57430160.570953, \"unharvestable_pods\": 628764835.158426, \"harvested_pods\": 57430160.570953, \"harvestable_pods\": 5365.367425002158}, {\"timestamp\": \"2022-08-08T23:00:11\", \"season\": 6129, \"variable\": \"harvestable_pods\", \"value\": 5365.367425002158, \"unharvestable_pods\": 628764835.158426, \"harvested_pods\": 57430160.570953, \"harvestable_pods\": 5365.367425002158}, {\"timestamp\": \"2022-08-08T23:00:11\", \"season\": 6129, \"variable\": \"unharvestable_pods\", \"value\": 628764835.158426, \"unharvestable_pods\": 628764835.158426, \"harvested_pods\": 57430160.570953, \"harvestable_pods\": 5365.367425002158}, {\"timestamp\": \"2022-08-09T23:00:00\", \"season\": 6153, \"variable\": \"harvested_pods\", \"value\": 57437836.043772, \"unharvestable_pods\": 687384754.451816, \"harvested_pods\": 57437836.043772, \"harvestable_pods\": 0.0}, {\"timestamp\": \"2022-08-09T23:00:00\", \"season\": 6153, \"variable\": \"harvestable_pods\", \"value\": 0.0, \"unharvestable_pods\": 687384754.451816, \"harvested_pods\": 57437836.043772, \"harvestable_pods\": 0.0}, {\"timestamp\": \"2022-08-09T23:00:00\", \"season\": 6153, \"variable\": \"unharvestable_pods\", \"value\": 687384754.451816, \"unharvestable_pods\": 687384754.451816, \"harvested_pods\": 57437836.043772, \"harvestable_pods\": 0.0}, {\"timestamp\": \"2022-08-10T23:00:22\", \"season\": 6177, \"variable\": \"harvested_pods\", \"value\": 57437836.043772, \"unharvestable_pods\": 688030362.2638711, \"harvested_pods\": 57437836.043772, \"harvestable_pods\": 32909.71223000437}, {\"timestamp\": \"2022-08-10T23:00:22\", \"season\": 6177, \"variable\": \"harvestable_pods\", \"value\": 32909.71223000437, \"unharvestable_pods\": 688030362.2638711, \"harvested_pods\": 57437836.043772, \"harvestable_pods\": 32909.71223000437}, {\"timestamp\": \"2022-08-10T23:00:22\", \"season\": 6177, \"variable\": \"unharvestable_pods\", \"value\": 688030362.2638711, \"unharvestable_pods\": 688030362.2638711, \"harvested_pods\": 57437836.043772, \"harvestable_pods\": 32909.71223000437}, {\"timestamp\": \"2022-08-11T23:00:51\", \"season\": 6201, \"variable\": \"unharvestable_pods\", \"value\": 688738501.381566, \"unharvestable_pods\": 688738501.381566, \"harvested_pods\": 57474031.461465, \"harvestable_pods\": 795.1405740007758}, {\"timestamp\": \"2022-08-11T23:00:51\", \"season\": 6201, \"variable\": \"harvested_pods\", \"value\": 57474031.461465, \"unharvestable_pods\": 688738501.381566, \"harvested_pods\": 57474031.461465, \"harvestable_pods\": 795.1405740007758}, {\"timestamp\": \"2022-08-11T23:00:51\", \"season\": 6201, \"variable\": \"harvestable_pods\", \"value\": 795.1405740007758, \"unharvestable_pods\": 688738501.381566, \"harvested_pods\": 57474031.461465, \"harvestable_pods\": 795.1405740007758}, {\"timestamp\": \"2022-08-12T23:00:02\", \"season\": 6225, \"variable\": \"unharvestable_pods\", \"value\": 689814037.7710439, \"unharvestable_pods\": 689814037.7710439, \"harvested_pods\": 57474031.461465, \"harvestable_pods\": 11154.395695999265}, {\"timestamp\": \"2022-08-12T23:00:02\", \"season\": 6225, \"variable\": \"harvested_pods\", \"value\": 57474031.461465, \"unharvestable_pods\": 689814037.7710439, \"harvested_pods\": 57474031.461465, \"harvestable_pods\": 11154.395695999265}, {\"timestamp\": \"2022-08-12T23:00:02\", \"season\": 6225, \"variable\": \"harvestable_pods\", \"value\": 11154.395695999265, \"unharvestable_pods\": 689814037.7710439, \"harvested_pods\": 57474031.461465, \"harvestable_pods\": 11154.395695999265}, {\"timestamp\": \"2022-08-13T23:00:00\", \"season\": 6249, \"variable\": \"unharvestable_pods\", \"value\": 689964422.6165831, \"unharvestable_pods\": 689964422.6165831, \"harvested_pods\": 57504141.760129, \"harvestable_pods\": 3155.4095470011234}, {\"timestamp\": \"2022-08-13T23:00:00\", \"season\": 6249, \"variable\": \"harvested_pods\", \"value\": 57504141.760129, \"unharvestable_pods\": 689964422.6165831, \"harvested_pods\": 57504141.760129, \"harvestable_pods\": 3155.4095470011234}, {\"timestamp\": \"2022-08-13T23:00:00\", \"season\": 6249, \"variable\": \"harvestable_pods\", \"value\": 3155.4095470011234, \"unharvestable_pods\": 689964422.6165831, \"harvested_pods\": 57504141.760129, \"harvestable_pods\": 3155.4095470011234}, {\"timestamp\": \"2022-08-14T23:00:05\", \"season\": 6273, \"variable\": \"unharvestable_pods\", \"value\": 705783494.868748, \"unharvestable_pods\": 705783494.868748, \"harvested_pods\": 57504141.760129, \"harvestable_pods\": 3481.240357004106}, {\"timestamp\": \"2022-08-14T23:00:05\", \"season\": 6273, \"variable\": \"harvested_pods\", \"value\": 57504141.760129, \"unharvestable_pods\": 705783494.868748, \"harvested_pods\": 57504141.760129, \"harvestable_pods\": 3481.240357004106}, {\"timestamp\": \"2022-08-14T23:00:05\", \"season\": 6273, \"variable\": \"harvestable_pods\", \"value\": 3481.240357004106, \"unharvestable_pods\": 705783494.868748, \"harvested_pods\": 57504141.760129, \"harvestable_pods\": 3481.240357004106}, {\"timestamp\": \"2022-08-15T23:00:00\", \"season\": 6297, \"variable\": \"harvestable_pods\", \"value\": 7267.862732999027, \"unharvestable_pods\": 705951668.240551, \"harvested_pods\": 57504141.760129, \"harvestable_pods\": 7267.862732999027}, {\"timestamp\": \"2022-08-15T23:00:00\", \"season\": 6297, \"variable\": \"harvested_pods\", \"value\": 57504141.760129, \"unharvestable_pods\": 705951668.240551, \"harvested_pods\": 57504141.760129, \"harvestable_pods\": 7267.862732999027}, {\"timestamp\": \"2022-08-15T23:00:00\", \"season\": 6297, \"variable\": \"unharvestable_pods\", \"value\": 705951668.240551, \"unharvestable_pods\": 705951668.240551, \"harvested_pods\": 57504141.760129, \"harvestable_pods\": 7267.862732999027}, {\"timestamp\": \"2022-08-16T23:00:20\", \"season\": 6321, \"variable\": \"unharvestable_pods\", \"value\": 705943202.4427409, \"unharvestable_pods\": 705943202.4427409, \"harvested_pods\": 57504141.760129, \"harvestable_pods\": 12911.727531000972}, {\"timestamp\": \"2022-08-16T23:00:20\", \"season\": 6321, \"variable\": \"harvested_pods\", \"value\": 57504141.760129, \"unharvestable_pods\": 705943202.4427409, \"harvested_pods\": 57504141.760129, \"harvestable_pods\": 12911.727531000972}, {\"timestamp\": \"2022-08-16T23:00:20\", \"season\": 6321, \"variable\": \"harvestable_pods\", \"value\": 12911.727531000972, \"unharvestable_pods\": 705943202.4427409, \"harvested_pods\": 57504141.760129, \"harvestable_pods\": 12911.727531000972}, {\"timestamp\": \"2022-08-17T23:00:15\", \"season\": 6345, \"variable\": \"unharvestable_pods\", \"value\": 705939337.885033, \"unharvestable_pods\": 705939337.885033, \"harvested_pods\": 57518215.745694, \"harvestable_pods\": 1414.1133720055223}, {\"timestamp\": \"2022-08-17T23:00:15\", \"season\": 6345, \"variable\": \"harvested_pods\", \"value\": 57518215.745694, \"unharvestable_pods\": 705939337.885033, \"harvested_pods\": 57518215.745694, \"harvestable_pods\": 1414.1133720055223}, {\"timestamp\": \"2022-08-17T23:00:15\", \"season\": 6345, \"variable\": \"harvestable_pods\", \"value\": 1414.1133720055223, \"unharvestable_pods\": 705939337.885033, \"harvested_pods\": 57518215.745694, \"harvestable_pods\": 1414.1133720055223}, {\"timestamp\": \"2022-08-18T23:00:38\", \"season\": 6369, \"variable\": \"unharvestable_pods\", \"value\": 705951508.392923, \"unharvestable_pods\": 705951508.392923, \"harvested_pods\": 57518215.745694, \"harvestable_pods\": 2840.8263960033655}, {\"timestamp\": \"2022-08-18T23:00:38\", \"season\": 6369, \"variable\": \"harvested_pods\", \"value\": 57518215.745694, \"unharvestable_pods\": 705951508.392923, \"harvested_pods\": 57518215.745694, \"harvestable_pods\": 2840.8263960033655}, {\"timestamp\": \"2022-08-18T23:00:38\", \"season\": 6369, \"variable\": \"harvestable_pods\", \"value\": 2840.8263960033655, \"unharvestable_pods\": 705951508.392923, \"harvested_pods\": 57518215.745694, \"harvestable_pods\": 2840.8263960033655}, {\"timestamp\": \"2022-08-19T23:00:06\", \"season\": 6393, \"variable\": \"unharvestable_pods\", \"value\": 705948741.7652, \"unharvestable_pods\": 705948741.7652, \"harvested_pods\": 57518215.745694, \"harvestable_pods\": 4685.24443500489}, {\"timestamp\": \"2022-08-19T23:00:06\", \"season\": 6393, \"variable\": \"harvested_pods\", \"value\": 57518215.745694, \"unharvestable_pods\": 705948741.7652, \"harvested_pods\": 57518215.745694, \"harvestable_pods\": 4685.24443500489}, {\"timestamp\": \"2022-08-19T23:00:06\", \"season\": 6393, \"variable\": \"harvestable_pods\", \"value\": 4685.24443500489, \"unharvestable_pods\": 705948741.7652, \"harvested_pods\": 57518215.745694, \"harvestable_pods\": 4685.24443500489}, {\"timestamp\": \"2022-08-20T23:00:38\", \"season\": 6417, \"variable\": \"harvested_pods\", \"value\": 57518215.745694, \"unharvestable_pods\": 706018324.314496, \"harvested_pods\": 57518215.745694, \"harvestable_pods\": 7094.641499005258}, {\"timestamp\": \"2022-08-20T23:00:38\", \"season\": 6417, \"variable\": \"harvestable_pods\", \"value\": 7094.641499005258, \"unharvestable_pods\": 706018324.314496, \"harvested_pods\": 57518215.745694, \"harvestable_pods\": 7094.641499005258}, {\"timestamp\": \"2022-08-20T23:00:38\", \"season\": 6417, \"variable\": \"unharvestable_pods\", \"value\": 706018324.314496, \"unharvestable_pods\": 706018324.314496, \"harvested_pods\": 57518215.745694, \"harvestable_pods\": 7094.641499005258}, {\"timestamp\": \"2022-08-21T23:00:14\", \"season\": 6441, \"variable\": \"unharvestable_pods\", \"value\": 706017317.431061, \"unharvestable_pods\": 706017317.431061, \"harvested_pods\": 57528088.751133, \"harvestable_pods\": 22.716756999492645}, {\"timestamp\": \"2022-08-21T23:00:14\", \"season\": 6441, \"variable\": \"harvested_pods\", \"value\": 57528088.751133, \"unharvestable_pods\": 706017317.431061, \"harvested_pods\": 57528088.751133, \"harvestable_pods\": 22.716756999492645}, {\"timestamp\": \"2022-08-21T23:00:14\", \"season\": 6441, \"variable\": \"harvestable_pods\", \"value\": 22.716756999492645, \"unharvestable_pods\": 706017317.431061, \"harvested_pods\": 57528088.751133, \"harvestable_pods\": 22.716756999492645}, {\"timestamp\": \"2022-08-22T23:00:22\", \"season\": 6465, \"variable\": \"unharvestable_pods\", \"value\": 706014119.422623, \"unharvestable_pods\": 706014119.422623, \"harvested_pods\": 57528088.751133, \"harvestable_pods\": 2154.721969000995}, {\"timestamp\": \"2022-08-22T23:00:22\", \"season\": 6465, \"variable\": \"harvested_pods\", \"value\": 57528088.751133, \"unharvestable_pods\": 706014119.422623, \"harvested_pods\": 57528088.751133, \"harvestable_pods\": 2154.721969000995}, {\"timestamp\": \"2022-08-22T23:00:22\", \"season\": 6465, \"variable\": \"harvestable_pods\", \"value\": 2154.721969000995, \"unharvestable_pods\": 706014119.422623, \"harvested_pods\": 57528088.751133, \"harvestable_pods\": 2154.721969000995}, {\"timestamp\": \"2022-08-23T23:01:12\", \"season\": 6489, \"variable\": \"unharvestable_pods\", \"value\": 706032783.169343, \"unharvestable_pods\": 706032783.169343, \"harvested_pods\": 57528088.751133, \"harvestable_pods\": 3653.9036019966006}, {\"timestamp\": \"2022-08-23T23:01:12\", \"season\": 6489, \"variable\": \"harvested_pods\", \"value\": 57528088.751133, \"unharvestable_pods\": 706032783.169343, \"harvested_pods\": 57528088.751133, \"harvestable_pods\": 3653.9036019966006}, {\"timestamp\": \"2022-08-23T23:01:12\", \"season\": 6489, \"variable\": \"harvestable_pods\", \"value\": 3653.9036019966006, \"unharvestable_pods\": 706032783.169343, \"harvested_pods\": 57528088.751133, \"harvestable_pods\": 3653.9036019966006}, {\"timestamp\": \"2022-08-24T23:00:02\", \"season\": 6513, \"variable\": \"unharvestable_pods\", \"value\": 706028010.792417, \"unharvestable_pods\": 706028010.792417, \"harvested_pods\": 57533804.646497, \"harvestable_pods\": 1119.5924260020256}, {\"timestamp\": \"2022-08-24T23:00:02\", \"season\": 6513, \"variable\": \"harvested_pods\", \"value\": 57533804.646497, \"unharvestable_pods\": 706028010.792417, \"harvested_pods\": 57533804.646497, \"harvestable_pods\": 1119.5924260020256}, {\"timestamp\": \"2022-08-24T23:00:02\", \"season\": 6513, \"variable\": \"harvestable_pods\", \"value\": 1119.5924260020256, \"unharvestable_pods\": 706028010.792417, \"harvested_pods\": 57533804.646497, \"harvestable_pods\": 1119.5924260020256}, {\"timestamp\": \"2022-08-25T23:00:43\", \"season\": 6537, \"variable\": \"harvestable_pods\", \"value\": 4308.420289002359, \"unharvestable_pods\": 706023350.112736, \"harvested_pods\": 57533804.646497, \"harvestable_pods\": 4308.420289002359}, {\"timestamp\": \"2022-08-25T23:00:43\", \"season\": 6537, \"variable\": \"harvested_pods\", \"value\": 57533804.646497, \"unharvestable_pods\": 706023350.112736, \"harvested_pods\": 57533804.646497, \"harvestable_pods\": 4308.420289002359}, {\"timestamp\": \"2022-08-25T23:00:43\", \"season\": 6537, \"variable\": \"unharvestable_pods\", \"value\": 706023350.112736, \"unharvestable_pods\": 706023350.112736, \"harvested_pods\": 57533804.646497, \"harvestable_pods\": 4308.420289002359}, {\"timestamp\": \"2022-08-26T23:00:18\", \"season\": 6561, \"variable\": \"unharvestable_pods\", \"value\": 706019028.3085359, \"unharvestable_pods\": 706019028.3085359, \"harvested_pods\": 57540475.657702, \"harvestable_pods\": 518.6114839985967}, {\"timestamp\": \"2022-08-26T23:00:18\", \"season\": 6561, \"variable\": \"harvested_pods\", \"value\": 57540475.657702, \"unharvestable_pods\": 706019028.3085359, \"harvested_pods\": 57540475.657702, \"harvestable_pods\": 518.6114839985967}, {\"timestamp\": \"2022-08-26T23:00:18\", \"season\": 6561, \"variable\": \"harvestable_pods\", \"value\": 518.6114839985967, \"unharvestable_pods\": 706019028.3085359, \"harvested_pods\": 57540475.657702, \"harvestable_pods\": 518.6114839985967}, {\"timestamp\": \"2022-08-27T23:00:24\", \"season\": 6585, \"variable\": \"unharvestable_pods\", \"value\": 706016080.202402, \"unharvestable_pods\": 706016080.202402, \"harvested_pods\": 57540475.657702, \"harvestable_pods\": 2340.2299410030246}, {\"timestamp\": \"2022-08-27T23:00:24\", \"season\": 6585, \"variable\": \"harvested_pods\", \"value\": 57540475.657702, \"unharvestable_pods\": 706016080.202402, \"harvested_pods\": 57540475.657702, \"harvestable_pods\": 2340.2299410030246}, {\"timestamp\": \"2022-08-27T23:00:24\", \"season\": 6585, \"variable\": \"harvestable_pods\", \"value\": 2340.2299410030246, \"unharvestable_pods\": 706016080.202402, \"harvested_pods\": 57540475.657702, \"harvestable_pods\": 2340.2299410030246}, {\"timestamp\": \"2022-08-28T23:00:05\", \"season\": 6609, \"variable\": \"unharvestable_pods\", \"value\": 706394785.5035831, \"unharvestable_pods\": 706394785.5035831, \"harvested_pods\": 57543673.69252, \"harvestable_pods\": 97.33992499858141}, {\"timestamp\": \"2022-08-28T23:00:05\", \"season\": 6609, \"variable\": \"harvested_pods\", \"value\": 57543673.69252, \"unharvestable_pods\": 706394785.5035831, \"harvested_pods\": 57543673.69252, \"harvestable_pods\": 97.33992499858141}, {\"timestamp\": \"2022-08-28T23:00:05\", \"season\": 6609, \"variable\": \"harvestable_pods\", \"value\": 97.33992499858141, \"unharvestable_pods\": 706394785.5035831, \"harvested_pods\": 57543673.69252, \"harvestable_pods\": 97.33992499858141}, {\"timestamp\": \"2022-08-29T23:00:40\", \"season\": 6633, \"variable\": \"unharvestable_pods\", \"value\": 706394204.453702, \"unharvestable_pods\": 706394204.453702, \"harvested_pods\": 57543673.69252, \"harvestable_pods\": 780.8798869997263}, {\"timestamp\": \"2022-08-29T23:00:40\", \"season\": 6633, \"variable\": \"harvested_pods\", \"value\": 57543673.69252, \"unharvestable_pods\": 706394204.453702, \"harvested_pods\": 57543673.69252, \"harvestable_pods\": 780.8798869997263}, {\"timestamp\": \"2022-08-29T23:00:40\", \"season\": 6633, \"variable\": \"harvestable_pods\", \"value\": 780.8798869997263, \"unharvestable_pods\": 706394204.453702, \"harvested_pods\": 57543673.69252, \"harvestable_pods\": 780.8798869997263}, {\"timestamp\": \"2022-08-30T23:00:14\", \"season\": 6657, \"variable\": \"harvested_pods\", \"value\": 57543673.69252, \"unharvestable_pods\": 707844941.410975, \"harvested_pods\": 57543673.69252, \"harvestable_pods\": 2080.658766001463}, {\"timestamp\": \"2022-08-30T23:00:14\", \"season\": 6657, \"variable\": \"harvestable_pods\", \"value\": 2080.658766001463, \"unharvestable_pods\": 707844941.410975, \"harvested_pods\": 57543673.69252, \"harvestable_pods\": 2080.658766001463}, {\"timestamp\": \"2022-08-30T23:00:14\", \"season\": 6657, \"variable\": \"unharvestable_pods\", \"value\": 707844941.410975, \"unharvestable_pods\": 707844941.410975, \"harvested_pods\": 57543673.69252, \"harvestable_pods\": 2080.658766001463}, {\"timestamp\": \"2022-08-31T23:00:02\", \"season\": 6681, \"variable\": \"harvested_pods\", \"value\": 57543673.69252, \"unharvestable_pods\": 707893483.601911, \"harvested_pods\": 57543673.69252, \"harvestable_pods\": 3097.5343099981546}, {\"timestamp\": \"2022-08-31T23:00:02\", \"season\": 6681, \"variable\": \"harvestable_pods\", \"value\": 3097.5343099981546, \"unharvestable_pods\": 707893483.601911, \"harvested_pods\": 57543673.69252, \"harvestable_pods\": 3097.5343099981546}, {\"timestamp\": \"2022-08-31T23:00:02\", \"season\": 6681, \"variable\": \"unharvestable_pods\", \"value\": 707893483.601911, \"unharvestable_pods\": 707893483.601911, \"harvested_pods\": 57543673.69252, \"harvestable_pods\": 3097.5343099981546}, {\"timestamp\": \"2022-09-01T23:00:03\", \"season\": 6705, \"variable\": \"unharvestable_pods\", \"value\": 708327472.9080039, \"unharvestable_pods\": 708327472.9080039, \"harvested_pods\": 57547553.433924, \"harvestable_pods\": 929.0195760056376}, {\"timestamp\": \"2022-09-01T23:00:03\", \"season\": 6705, \"variable\": \"harvested_pods\", \"value\": 57547553.433924, \"unharvestable_pods\": 708327472.9080039, \"harvested_pods\": 57547553.433924, \"harvestable_pods\": 929.0195760056376}, {\"timestamp\": \"2022-09-01T23:00:03\", \"season\": 6705, \"variable\": \"harvestable_pods\", \"value\": 929.0195760056376, \"unharvestable_pods\": 708327472.9080039, \"harvested_pods\": 57547553.433924, \"harvestable_pods\": 929.0195760056376}, {\"timestamp\": \"2022-09-02T23:00:12\", \"season\": 6729, \"variable\": \"unharvestable_pods\", \"value\": 708969650.884507, \"unharvestable_pods\": 708969650.884507, \"harvested_pods\": 57547553.433924, \"harvestable_pods\": 2762.4343330040574}, {\"timestamp\": \"2022-09-02T23:00:12\", \"season\": 6729, \"variable\": \"harvested_pods\", \"value\": 57547553.433924, \"unharvestable_pods\": 708969650.884507, \"harvested_pods\": 57547553.433924, \"harvestable_pods\": 2762.4343330040574}, {\"timestamp\": \"2022-09-02T23:00:12\", \"season\": 6729, \"variable\": \"harvestable_pods\", \"value\": 2762.4343330040574, \"unharvestable_pods\": 708969650.884507, \"harvested_pods\": 57547553.433924, \"harvestable_pods\": 2762.4343330040574}, {\"timestamp\": \"2022-09-03T23:00:07\", \"season\": 6753, \"variable\": \"unharvestable_pods\", \"value\": 709902709.977596, \"unharvestable_pods\": 709902709.977596, \"harvested_pods\": 57551065.336568, \"harvestable_pods\": 478.23120199888945}, {\"timestamp\": \"2022-09-03T23:00:07\", \"season\": 6753, \"variable\": \"harvested_pods\", \"value\": 57551065.336568, \"unharvestable_pods\": 709902709.977596, \"harvested_pods\": 57551065.336568, \"harvestable_pods\": 478.23120199888945}, {\"timestamp\": \"2022-09-03T23:00:07\", \"season\": 6753, \"variable\": \"harvestable_pods\", \"value\": 478.23120199888945, \"unharvestable_pods\": 709902709.977596, \"harvested_pods\": 57551065.336568, \"harvestable_pods\": 478.23120199888945}, {\"timestamp\": \"2022-09-04T23:00:04\", \"season\": 6777, \"variable\": \"unharvestable_pods\", \"value\": 709901051.590847, \"unharvestable_pods\": 709901051.590847, \"harvested_pods\": 57551065.336568, \"harvestable_pods\": 1591.7717080041766}, {\"timestamp\": \"2022-09-04T23:00:04\", \"season\": 6777, \"variable\": \"harvested_pods\", \"value\": 57551065.336568, \"unharvestable_pods\": 709901051.590847, \"harvested_pods\": 57551065.336568, \"harvestable_pods\": 1591.7717080041766}, {\"timestamp\": \"2022-09-04T23:00:04\", \"season\": 6777, \"variable\": \"harvestable_pods\", \"value\": 1591.7717080041766, \"unharvestable_pods\": 709901051.590847, \"harvested_pods\": 57551065.336568, \"harvestable_pods\": 1591.7717080041766}, {\"timestamp\": \"2022-09-05T23:00:01\", \"season\": 6801, \"variable\": \"harvested_pods\", \"value\": 57551065.336568, \"unharvestable_pods\": 709919519.630573, \"harvested_pods\": 57551065.336568, \"harvestable_pods\": 2888.4421159997582}, {\"timestamp\": \"2022-09-05T23:00:01\", \"season\": 6801, \"variable\": \"harvestable_pods\", \"value\": 2888.4421159997582, \"unharvestable_pods\": 709919519.630573, \"harvested_pods\": 57551065.336568, \"harvestable_pods\": 2888.4421159997582}, {\"timestamp\": \"2022-09-05T23:00:01\", \"season\": 6801, \"variable\": \"unharvestable_pods\", \"value\": 709919519.630573, \"unharvestable_pods\": 709919519.630573, \"harvested_pods\": 57551065.336568, \"harvestable_pods\": 2888.4421159997582}, {\"timestamp\": \"2022-09-06T23:00:27\", \"season\": 6825, \"variable\": \"unharvestable_pods\", \"value\": 709924554.2152411, \"unharvestable_pods\": 709924554.2152411, \"harvested_pods\": 57551065.336568, \"harvestable_pods\": 3496.7287430018187}, {\"timestamp\": \"2022-09-06T23:00:27\", \"season\": 6825, \"variable\": \"harvested_pods\", \"value\": 57551065.336568, \"unharvestable_pods\": 709924554.2152411, \"harvested_pods\": 57551065.336568, \"harvestable_pods\": 3496.7287430018187}, {\"timestamp\": \"2022-09-06T23:00:27\", \"season\": 6825, \"variable\": \"harvestable_pods\", \"value\": 3496.7287430018187, \"unharvestable_pods\": 709924554.2152411, \"harvested_pods\": 57551065.336568, \"harvestable_pods\": 3496.7287430018187}, {\"timestamp\": \"2022-09-07T23:00:10\", \"season\": 6849, \"variable\": \"unharvestable_pods\", \"value\": 709958429.406623, \"unharvestable_pods\": 709958429.406623, \"harvested_pods\": 57554631.732468, \"harvestable_pods\": 385.4731469973922}, {\"timestamp\": \"2022-09-07T23:00:10\", \"season\": 6849, \"variable\": \"harvested_pods\", \"value\": 57554631.732468, \"unharvestable_pods\": 709958429.406623, \"harvested_pods\": 57554631.732468, \"harvestable_pods\": 385.4731469973922}, {\"timestamp\": \"2022-09-07T23:00:10\", \"season\": 6849, \"variable\": \"harvestable_pods\", \"value\": 385.4731469973922, \"unharvestable_pods\": 709958429.406623, \"harvested_pods\": 57554631.732468, \"harvestable_pods\": 385.4731469973922}, {\"timestamp\": \"2022-09-08T23:00:04\", \"season\": 6873, \"variable\": \"harvested_pods\", \"value\": 57554631.732468, \"unharvestable_pods\": 709992649.689741, \"harvested_pods\": 57554631.732468, \"harvestable_pods\": 1615.2813609987497}, {\"timestamp\": \"2022-09-08T23:00:04\", \"season\": 6873, \"variable\": \"unharvestable_pods\", \"value\": 709992649.689741, \"unharvestable_pods\": 709992649.689741, \"harvested_pods\": 57554631.732468, \"harvestable_pods\": 1615.2813609987497}, {\"timestamp\": \"2022-09-08T23:00:04\", \"season\": 6873, \"variable\": \"harvestable_pods\", \"value\": 1615.2813609987497, \"unharvestable_pods\": 709992649.689741, \"harvested_pods\": 57554631.732468, \"harvestable_pods\": 1615.2813609987497}, {\"timestamp\": \"2022-09-09T23:00:00\", \"season\": 6897, \"variable\": \"unharvestable_pods\", \"value\": 709993069.943769, \"unharvestable_pods\": 709993069.943769, \"harvested_pods\": 57554631.732468, \"harvestable_pods\": 2199.2506139948964}, {\"timestamp\": \"2022-09-09T23:00:00\", \"season\": 6897, \"variable\": \"harvested_pods\", \"value\": 57554631.732468, \"unharvestable_pods\": 709993069.943769, \"harvested_pods\": 57554631.732468, \"harvestable_pods\": 2199.2506139948964}, {\"timestamp\": \"2022-09-09T23:00:00\", \"season\": 6897, \"variable\": \"harvestable_pods\", \"value\": 2199.2506139948964, \"unharvestable_pods\": 709993069.943769, \"harvested_pods\": 57554631.732468, \"harvestable_pods\": 2199.2506139948964}, {\"timestamp\": \"2022-09-10T23:00:34\", \"season\": 6921, \"variable\": \"harvested_pods\", \"value\": 57554631.732468, \"unharvestable_pods\": 709995401.076908, \"harvested_pods\": 57554631.732468, \"harvestable_pods\": 2638.477678000927}, {\"timestamp\": \"2022-09-10T23:00:34\", \"season\": 6921, \"variable\": \"harvestable_pods\", \"value\": 2638.477678000927, \"unharvestable_pods\": 709995401.076908, \"harvested_pods\": 57554631.732468, \"harvestable_pods\": 2638.477678000927}, {\"timestamp\": \"2022-09-10T23:00:34\", \"season\": 6921, \"variable\": \"unharvestable_pods\", \"value\": 709995401.076908, \"unharvestable_pods\": 709995401.076908, \"harvested_pods\": 57554631.732468, \"harvestable_pods\": 2638.477678000927}, {\"timestamp\": \"2022-09-11T23:00:03\", \"season\": 6945, \"variable\": \"harvestable_pods\", \"value\": 2988.73146700114, \"unharvestable_pods\": 709997075.220181, \"harvested_pods\": 57554631.732468, \"harvestable_pods\": 2988.73146700114}, {\"timestamp\": \"2022-09-11T23:00:03\", \"season\": 6945, \"variable\": \"harvested_pods\", \"value\": 57554631.732468, \"unharvestable_pods\": 709997075.220181, \"harvested_pods\": 57554631.732468, \"harvestable_pods\": 2988.73146700114}, {\"timestamp\": \"2022-09-11T23:00:03\", \"season\": 6945, \"variable\": \"unharvestable_pods\", \"value\": 709997075.220181, \"unharvestable_pods\": 709997075.220181, \"harvested_pods\": 57554631.732468, \"harvestable_pods\": 2988.73146700114}, {\"timestamp\": \"2022-09-12T23:00:06\", \"season\": 6969, \"variable\": \"unharvestable_pods\", \"value\": 710069822.697562, \"unharvestable_pods\": 710069822.697562, \"harvested_pods\": 57557862.062926, \"harvestable_pods\": 108.88768199831247}, {\"timestamp\": \"2022-09-12T23:00:06\", \"season\": 6969, \"variable\": \"harvested_pods\", \"value\": 57557862.062926, \"unharvestable_pods\": 710069822.697562, \"harvested_pods\": 57557862.062926, \"harvestable_pods\": 108.88768199831247}, {\"timestamp\": \"2022-09-12T23:00:06\", \"season\": 6969, \"variable\": \"harvestable_pods\", \"value\": 108.88768199831247, \"unharvestable_pods\": 710069822.697562, \"harvested_pods\": 57557862.062926, \"harvestable_pods\": 108.88768199831247}, {\"timestamp\": \"2022-09-13T23:00:03\", \"season\": 6993, \"variable\": \"unharvestable_pods\", \"value\": 710071439.206368, \"unharvestable_pods\": 710071439.206368, \"harvested_pods\": 57557862.062926, \"harvestable_pods\": 451.63002199679613}, {\"timestamp\": \"2022-09-13T23:00:03\", \"season\": 6993, \"variable\": \"harvested_pods\", \"value\": 57557862.062926, \"unharvestable_pods\": 710071439.206368, \"harvested_pods\": 57557862.062926, \"harvestable_pods\": 451.63002199679613}, {\"timestamp\": \"2022-09-13T23:00:03\", \"season\": 6993, \"variable\": \"harvestable_pods\", \"value\": 451.63002199679613, \"unharvestable_pods\": 710071439.206368, \"harvested_pods\": 57557862.062926, \"harvestable_pods\": 451.63002199679613}, {\"timestamp\": \"2022-09-14T23:00:07\", \"season\": 7017, \"variable\": \"unharvestable_pods\", \"value\": 710071104.674896, \"unharvestable_pods\": 710071104.674896, \"harvested_pods\": 57557862.062926, \"harvestable_pods\": 1068.147362999618}, {\"timestamp\": \"2022-09-14T23:00:07\", \"season\": 7017, \"variable\": \"harvested_pods\", \"value\": 57557862.062926, \"unharvestable_pods\": 710071104.674896, \"harvested_pods\": 57557862.062926, \"harvestable_pods\": 1068.147362999618}, {\"timestamp\": \"2022-09-14T23:00:07\", \"season\": 7017, \"variable\": \"harvestable_pods\", \"value\": 1068.147362999618, \"unharvestable_pods\": 710071104.674896, \"harvested_pods\": 57557862.062926, \"harvestable_pods\": 1068.147362999618}, {\"timestamp\": \"2022-09-15T23:00:11\", \"season\": 7041, \"variable\": \"harvestable_pods\", \"value\": 1357.9434679970145, \"unharvestable_pods\": 710124889.7350509, \"harvested_pods\": 57557862.062926, \"harvestable_pods\": 1357.9434679970145}, {\"timestamp\": \"2022-09-15T23:00:11\", \"season\": 7041, \"variable\": \"unharvestable_pods\", \"value\": 710124889.7350509, \"unharvestable_pods\": 710124889.7350509, \"harvested_pods\": 57557862.062926, \"harvestable_pods\": 1357.9434679970145}, {\"timestamp\": \"2022-09-15T23:00:11\", \"season\": 7041, \"variable\": \"harvested_pods\", \"value\": 57557862.062926, \"unharvestable_pods\": 710124889.7350509, \"harvested_pods\": 57557862.062926, \"harvestable_pods\": 1357.9434679970145}, {\"timestamp\": \"2022-09-16T23:00:11\", \"season\": 7065, \"variable\": \"harvestable_pods\", \"value\": 101.62187100201845, \"unharvestable_pods\": 710462491.590432, \"harvested_pods\": 57559429.921489, \"harvestable_pods\": 101.62187100201845}, {\"timestamp\": \"2022-09-16T23:00:11\", \"season\": 7065, \"variable\": \"harvested_pods\", \"value\": 57559429.921489, \"unharvestable_pods\": 710462491.590432, \"harvested_pods\": 57559429.921489, \"harvestable_pods\": 101.62187100201845}, {\"timestamp\": \"2022-09-16T23:00:11\", \"season\": 7065, \"variable\": \"unharvestable_pods\", \"value\": 710462491.590432, \"unharvestable_pods\": 710462491.590432, \"harvested_pods\": 57559429.921489, \"harvestable_pods\": 101.62187100201845}, {\"timestamp\": \"2022-09-17T23:00:23\", \"season\": 7089, \"variable\": \"unharvestable_pods\", \"value\": 710462621.529756, \"unharvestable_pods\": 710462621.529756, \"harvested_pods\": 57559429.921489, \"harvestable_pods\": 338.23931500315666}, {\"timestamp\": \"2022-09-17T23:00:23\", \"season\": 7089, \"variable\": \"harvested_pods\", \"value\": 57559429.921489, \"unharvestable_pods\": 710462621.529756, \"harvested_pods\": 57559429.921489, \"harvestable_pods\": 338.23931500315666}, {\"timestamp\": \"2022-09-17T23:00:23\", \"season\": 7089, \"variable\": \"harvestable_pods\", \"value\": 338.23931500315666, \"unharvestable_pods\": 710462621.529756, \"harvested_pods\": 57559429.921489, \"harvestable_pods\": 338.23931500315666}, {\"timestamp\": \"2022-09-18T23:00:11\", \"season\": 7113, \"variable\": \"unharvestable_pods\", \"value\": 710462895.167336, \"unharvestable_pods\": 710462895.167336, \"harvested_pods\": 57559429.921489, \"harvestable_pods\": 746.9602459967136}, {\"timestamp\": \"2022-09-18T23:00:11\", \"season\": 7113, \"variable\": \"harvested_pods\", \"value\": 57559429.921489, \"unharvestable_pods\": 710462895.167336, \"harvested_pods\": 57559429.921489, \"harvestable_pods\": 746.9602459967136}, {\"timestamp\": \"2022-09-18T23:00:11\", \"season\": 7113, \"variable\": \"harvestable_pods\", \"value\": 746.9602459967136, \"unharvestable_pods\": 710462895.167336, \"harvested_pods\": 57559429.921489, \"harvestable_pods\": 746.9602459967136}, {\"timestamp\": \"2022-09-19T23:00:11\", \"season\": 7137, \"variable\": \"harvestable_pods\", \"value\": 23.012785993516445, \"unharvestable_pods\": 712458762.698541, \"harvested_pods\": 57560211.939542, \"harvestable_pods\": 23.012785993516445}, {\"timestamp\": \"2022-09-19T23:00:11\", \"season\": 7137, \"variable\": \"unharvestable_pods\", \"value\": 712458762.698541, \"unharvestable_pods\": 712458762.698541, \"harvested_pods\": 57560211.939542, \"harvestable_pods\": 23.012785993516445}, {\"timestamp\": \"2022-09-19T23:00:11\", \"season\": 7137, \"variable\": \"harvested_pods\", \"value\": 57560211.939542, \"unharvestable_pods\": 712458762.698541, \"harvested_pods\": 57560211.939542, \"harvestable_pods\": 23.012785993516445}, {\"timestamp\": \"2022-09-20T23:00:11\", \"season\": 7161, \"variable\": \"harvested_pods\", \"value\": 57560211.939542, \"unharvestable_pods\": 713140840.134128, \"harvested_pods\": 57560211.939542, \"harvestable_pods\": 23.012785993516445}, {\"timestamp\": \"2022-09-20T23:00:11\", \"season\": 7161, \"variable\": \"harvestable_pods\", \"value\": 23.012785993516445, \"unharvestable_pods\": 713140840.134128, \"harvested_pods\": 57560211.939542, \"harvestable_pods\": 23.012785993516445}, {\"timestamp\": \"2022-09-20T23:00:11\", \"season\": 7161, \"variable\": \"unharvestable_pods\", \"value\": 713140840.134128, \"unharvestable_pods\": 713140840.134128, \"harvested_pods\": 57560211.939542, \"harvestable_pods\": 23.012785993516445}, {\"timestamp\": \"2022-09-21T23:00:11\", \"season\": 7185, \"variable\": \"harvested_pods\", \"value\": 57560211.939542, \"unharvestable_pods\": 713309030.5738881, \"harvested_pods\": 57560211.939542, \"harvestable_pods\": 23.012785993516445}, {\"timestamp\": \"2022-09-21T23:00:11\", \"season\": 7185, \"variable\": \"harvestable_pods\", \"value\": 23.012785993516445, \"unharvestable_pods\": 713309030.5738881, \"harvested_pods\": 57560211.939542, \"harvestable_pods\": 23.012785993516445}, {\"timestamp\": \"2022-09-21T23:00:11\", \"season\": 7185, \"variable\": \"unharvestable_pods\", \"value\": 713309030.5738881, \"unharvestable_pods\": 713309030.5738881, \"harvested_pods\": 57560211.939542, \"harvestable_pods\": 23.012785993516445}, {\"timestamp\": \"2022-09-22T23:00:11\", \"season\": 7209, \"variable\": \"harvestable_pods\", \"value\": 23.012785993516445, \"unharvestable_pods\": 713316160.0360911, \"harvested_pods\": 57560211.939542, \"harvestable_pods\": 23.012785993516445}, {\"timestamp\": \"2022-09-22T23:00:11\", \"season\": 7209, \"variable\": \"unharvestable_pods\", \"value\": 713316160.0360911, \"unharvestable_pods\": 713316160.0360911, \"harvested_pods\": 57560211.939542, \"harvestable_pods\": 23.012785993516445}, {\"timestamp\": \"2022-09-22T23:00:11\", \"season\": 7209, \"variable\": \"harvested_pods\", \"value\": 57560211.939542, \"unharvestable_pods\": 713316160.0360911, \"harvested_pods\": 57560211.939542, \"harvestable_pods\": 23.012785993516445}, {\"timestamp\": \"2022-09-23T23:00:11\", \"season\": 7233, \"variable\": \"unharvestable_pods\", \"value\": 713329691.0867491, \"unharvestable_pods\": 713329691.0867491, \"harvested_pods\": 57560211.939542, \"harvestable_pods\": 23.012785993516445}, {\"timestamp\": \"2022-09-23T23:00:11\", \"season\": 7233, \"variable\": \"harvested_pods\", \"value\": 57560211.939542, \"unharvestable_pods\": 713329691.0867491, \"harvested_pods\": 57560211.939542, \"harvestable_pods\": 23.012785993516445}, {\"timestamp\": \"2022-09-23T23:00:11\", \"season\": 7233, \"variable\": \"harvestable_pods\", \"value\": 23.012785993516445, \"unharvestable_pods\": 713329691.0867491, \"harvested_pods\": 57560211.939542, \"harvestable_pods\": 23.012785993516445}, {\"timestamp\": \"2022-09-24T23:00:11\", \"season\": 7257, \"variable\": \"unharvestable_pods\", \"value\": 713511509.912667, \"unharvestable_pods\": 713511509.912667, \"harvested_pods\": 57560211.939542, \"harvestable_pods\": 23.012785993516445}, {\"timestamp\": \"2022-09-24T23:00:11\", \"season\": 7257, \"variable\": \"harvested_pods\", \"value\": 57560211.939542, \"unharvestable_pods\": 713511509.912667, \"harvested_pods\": 57560211.939542, \"harvestable_pods\": 23.012785993516445}, {\"timestamp\": \"2022-09-24T23:00:11\", \"season\": 7257, \"variable\": \"harvestable_pods\", \"value\": 23.012785993516445, \"unharvestable_pods\": 713511509.912667, \"harvested_pods\": 57560211.939542, \"harvestable_pods\": 23.012785993516445}, {\"timestamp\": \"2022-09-25T23:00:11\", \"season\": 7281, \"variable\": \"unharvestable_pods\", \"value\": 713511509.912667, \"unharvestable_pods\": 713511509.912667, \"harvested_pods\": 57560211.939542, \"harvestable_pods\": 23.012785993516445}, {\"timestamp\": \"2022-09-25T23:00:11\", \"season\": 7281, \"variable\": \"harvested_pods\", \"value\": 57560211.939542, \"unharvestable_pods\": 713511509.912667, \"harvested_pods\": 57560211.939542, \"harvestable_pods\": 23.012785993516445}, {\"timestamp\": \"2022-09-25T23:00:11\", \"season\": 7281, \"variable\": \"harvestable_pods\", \"value\": 23.012785993516445, \"unharvestable_pods\": 713511509.912667, \"harvested_pods\": 57560211.939542, \"harvestable_pods\": 23.012785993516445}, {\"timestamp\": \"2022-09-26T23:00:11\", \"season\": 7305, \"variable\": \"unharvestable_pods\", \"value\": 713515627.689214, \"unharvestable_pods\": 713515627.689214, \"harvested_pods\": 57560211.939542, \"harvestable_pods\": 23.012785993516445}, {\"timestamp\": \"2022-09-26T23:00:11\", \"season\": 7305, \"variable\": \"harvested_pods\", \"value\": 57560211.939542, \"unharvestable_pods\": 713515627.689214, \"harvested_pods\": 57560211.939542, \"harvestable_pods\": 23.012785993516445}, {\"timestamp\": \"2022-09-26T23:00:11\", \"season\": 7305, \"variable\": \"harvestable_pods\", \"value\": 23.012785993516445, \"unharvestable_pods\": 713515627.689214, \"harvested_pods\": 57560211.939542, \"harvestable_pods\": 23.012785993516445}, {\"timestamp\": \"2022-09-27T23:00:11\", \"season\": 7329, \"variable\": \"harvestable_pods\", \"value\": 23.012785993516445, \"unharvestable_pods\": 713519825.7058691, \"harvested_pods\": 57560211.939542, \"harvestable_pods\": 23.012785993516445}, {\"timestamp\": \"2022-09-27T23:00:11\", \"season\": 7329, \"variable\": \"harvested_pods\", \"value\": 57560211.939542, \"unharvestable_pods\": 713519825.7058691, \"harvested_pods\": 57560211.939542, \"harvestable_pods\": 23.012785993516445}, {\"timestamp\": \"2022-09-27T23:00:11\", \"season\": 7329, \"variable\": \"unharvestable_pods\", \"value\": 713519825.7058691, \"unharvestable_pods\": 713519825.7058691, \"harvested_pods\": 57560211.939542, \"harvestable_pods\": 23.012785993516445}, {\"timestamp\": \"2022-09-28T23:00:11\", \"season\": 7353, \"variable\": \"unharvestable_pods\", \"value\": 713519825.724895, \"unharvestable_pods\": 713519825.724895, \"harvested_pods\": 57560211.939542, \"harvestable_pods\": 23.012785993516445}, {\"timestamp\": \"2022-09-28T23:00:11\", \"season\": 7353, \"variable\": \"harvested_pods\", \"value\": 57560211.939542, \"unharvestable_pods\": 713519825.724895, \"harvested_pods\": 57560211.939542, \"harvestable_pods\": 23.012785993516445}, {\"timestamp\": \"2022-09-28T23:00:11\", \"season\": 7353, \"variable\": \"harvestable_pods\", \"value\": 23.012785993516445, \"unharvestable_pods\": 713519825.724895, \"harvested_pods\": 57560211.939542, \"harvestable_pods\": 23.012785993516445}, {\"timestamp\": \"2022-09-29T23:00:11\", \"season\": 7377, \"variable\": \"unharvestable_pods\", \"value\": 713519825.7520701, \"unharvestable_pods\": 713519825.7520701, \"harvested_pods\": 57560211.939542, \"harvestable_pods\": 23.012785993516445}, {\"timestamp\": \"2022-09-29T23:00:11\", \"season\": 7377, \"variable\": \"harvested_pods\", \"value\": 57560211.939542, \"unharvestable_pods\": 713519825.7520701, \"harvested_pods\": 57560211.939542, \"harvestable_pods\": 23.012785993516445}, {\"timestamp\": \"2022-09-29T23:00:11\", \"season\": 7377, \"variable\": \"harvestable_pods\", \"value\": 23.012785993516445, \"unharvestable_pods\": 713519825.7520701, \"harvested_pods\": 57560211.939542, \"harvestable_pods\": 23.012785993516445}, {\"timestamp\": \"2022-09-30T23:00:11\", \"season\": 7401, \"variable\": \"unharvestable_pods\", \"value\": 713519825.865232, \"unharvestable_pods\": 713519825.865232, \"harvested_pods\": 57560211.939542, \"harvestable_pods\": 23.012785993516445}, {\"timestamp\": \"2022-09-30T23:00:11\", \"season\": 7401, \"variable\": \"harvested_pods\", \"value\": 57560211.939542, \"unharvestable_pods\": 713519825.865232, \"harvested_pods\": 57560211.939542, \"harvestable_pods\": 23.012785993516445}, {\"timestamp\": \"2022-09-30T23:00:11\", \"season\": 7401, \"variable\": \"harvestable_pods\", \"value\": 23.012785993516445, \"unharvestable_pods\": 713519825.865232, \"harvested_pods\": 57560211.939542, \"harvestable_pods\": 23.012785993516445}, {\"timestamp\": \"2022-10-01T23:00:11\", \"season\": 7425, \"variable\": \"unharvestable_pods\", \"value\": 713519826.252629, \"unharvestable_pods\": 713519826.252629, \"harvested_pods\": 57560211.939542, \"harvestable_pods\": 23.012785993516445}, {\"timestamp\": \"2022-10-01T23:00:11\", \"season\": 7425, \"variable\": \"harvested_pods\", \"value\": 57560211.939542, \"unharvestable_pods\": 713519826.252629, \"harvested_pods\": 57560211.939542, \"harvestable_pods\": 23.012785993516445}, {\"timestamp\": \"2022-10-01T23:00:11\", \"season\": 7425, \"variable\": \"harvestable_pods\", \"value\": 23.012785993516445, \"unharvestable_pods\": 713519826.252629, \"harvested_pods\": 57560211.939542, \"harvestable_pods\": 23.012785993516445}, {\"timestamp\": \"2022-10-02T23:00:11\", \"season\": 7449, \"variable\": \"harvested_pods\", \"value\": 57560211.939542, \"unharvestable_pods\": 713586736.498222, \"harvested_pods\": 57560211.939542, \"harvestable_pods\": 23.012785993516445}, {\"timestamp\": \"2022-10-02T23:00:11\", \"season\": 7449, \"variable\": \"harvestable_pods\", \"value\": 23.012785993516445, \"unharvestable_pods\": 713586736.498222, \"harvested_pods\": 57560211.939542, \"harvestable_pods\": 23.012785993516445}, {\"timestamp\": \"2022-10-02T23:00:11\", \"season\": 7449, \"variable\": \"unharvestable_pods\", \"value\": 713586736.498222, \"unharvestable_pods\": 713586736.498222, \"harvested_pods\": 57560211.939542, \"harvestable_pods\": 23.012785993516445}, {\"timestamp\": \"2022-10-03T23:00:11\", \"season\": 7473, \"variable\": \"unharvestable_pods\", \"value\": 713591659.982704, \"unharvestable_pods\": 713591659.982704, \"harvested_pods\": 57560211.939542, \"harvestable_pods\": 23.012785993516445}, {\"timestamp\": \"2022-10-03T23:00:11\", \"season\": 7473, \"variable\": \"harvested_pods\", \"value\": 57560211.939542, \"unharvestable_pods\": 713591659.982704, \"harvested_pods\": 57560211.939542, \"harvestable_pods\": 23.012785993516445}, {\"timestamp\": \"2022-10-03T23:00:11\", \"season\": 7473, \"variable\": \"harvestable_pods\", \"value\": 23.012785993516445, \"unharvestable_pods\": 713591659.982704, \"harvested_pods\": 57560211.939542, \"harvestable_pods\": 23.012785993516445}, {\"timestamp\": \"2022-10-04T23:00:11\", \"season\": 7497, \"variable\": \"unharvestable_pods\", \"value\": 713635232.5660391, \"unharvestable_pods\": 713635232.5660391, \"harvested_pods\": 57560211.939542, \"harvestable_pods\": 23.012785993516445}, {\"timestamp\": \"2022-10-04T23:00:11\", \"season\": 7497, \"variable\": \"harvested_pods\", \"value\": 57560211.939542, \"unharvestable_pods\": 713635232.5660391, \"harvested_pods\": 57560211.939542, \"harvestable_pods\": 23.012785993516445}, {\"timestamp\": \"2022-10-04T23:00:11\", \"season\": 7497, \"variable\": \"harvestable_pods\", \"value\": 23.012785993516445, \"unharvestable_pods\": 713635232.5660391, \"harvested_pods\": 57560211.939542, \"harvestable_pods\": 23.012785993516445}, {\"timestamp\": \"2022-10-05T23:00:11\", \"season\": 7521, \"variable\": \"unharvestable_pods\", \"value\": 713650760.291915, \"unharvestable_pods\": 713650760.291915, \"harvested_pods\": 57560211.939542, \"harvestable_pods\": 23.012785993516445}, {\"timestamp\": \"2022-10-05T23:00:11\", \"season\": 7521, \"variable\": \"harvested_pods\", \"value\": 57560211.939542, \"unharvestable_pods\": 713650760.291915, \"harvested_pods\": 57560211.939542, \"harvestable_pods\": 23.012785993516445}, {\"timestamp\": \"2022-10-05T23:00:11\", \"season\": 7521, \"variable\": \"harvestable_pods\", \"value\": 23.012785993516445, \"unharvestable_pods\": 713650760.291915, \"harvested_pods\": 57560211.939542, \"harvestable_pods\": 23.012785993516445}, {\"timestamp\": \"2022-10-06T23:00:11\", \"season\": 7545, \"variable\": \"unharvestable_pods\", \"value\": 713691091.511716, \"unharvestable_pods\": 713691091.511716, \"harvested_pods\": 57560211.939542, \"harvestable_pods\": 23.012785993516445}, {\"timestamp\": \"2022-10-06T23:00:11\", \"season\": 7545, \"variable\": \"harvested_pods\", \"value\": 57560211.939542, \"unharvestable_pods\": 713691091.511716, \"harvested_pods\": 57560211.939542, \"harvestable_pods\": 23.012785993516445}, {\"timestamp\": \"2022-10-06T23:00:11\", \"season\": 7545, \"variable\": \"harvestable_pods\", \"value\": 23.012785993516445, \"unharvestable_pods\": 713691091.511716, \"harvested_pods\": 57560211.939542, \"harvestable_pods\": 23.012785993516445}, {\"timestamp\": \"2022-10-07T23:00:11\", \"season\": 7569, \"variable\": \"harvestable_pods\", \"value\": 158.47343900054693, \"unharvestable_pods\": 713832588.672594, \"harvested_pods\": 57560211.939542, \"harvestable_pods\": 158.47343900054693}, {\"timestamp\": \"2022-10-07T23:00:11\", \"season\": 7569, \"variable\": \"harvested_pods\", \"value\": 57560211.939542, \"unharvestable_pods\": 713832588.672594, \"harvested_pods\": 57560211.939542, \"harvestable_pods\": 158.47343900054693}, {\"timestamp\": \"2022-10-07T23:00:11\", \"season\": 7569, \"variable\": \"unharvestable_pods\", \"value\": 713832588.672594, \"unharvestable_pods\": 713832588.672594, \"harvested_pods\": 57560211.939542, \"harvestable_pods\": 158.47343900054693}, {\"timestamp\": \"2022-10-08T23:00:11\", \"season\": 7593, \"variable\": \"unharvestable_pods\", \"value\": 713856502.111691, \"unharvestable_pods\": 713856502.111691, \"harvested_pods\": 57560211.939542, \"harvestable_pods\": 172.44796899706125}, {\"timestamp\": \"2022-10-08T23:00:11\", \"season\": 7593, \"variable\": \"harvested_pods\", \"value\": 57560211.939542, \"unharvestable_pods\": 713856502.111691, \"harvested_pods\": 57560211.939542, \"harvestable_pods\": 172.44796899706125}, {\"timestamp\": \"2022-10-08T23:00:11\", \"season\": 7593, \"variable\": \"harvestable_pods\", \"value\": 172.44796899706125, \"unharvestable_pods\": 713856502.111691, \"harvested_pods\": 57560211.939542, \"harvestable_pods\": 172.44796899706125}, {\"timestamp\": \"2022-10-09T23:00:11\", \"season\": 7617, \"variable\": \"unharvestable_pods\", \"value\": 713856506.149431, \"unharvestable_pods\": 713856506.149431, \"harvested_pods\": 57560211.939542, \"harvestable_pods\": 172.44796899706125}, {\"timestamp\": \"2022-10-09T23:00:11\", \"season\": 7617, \"variable\": \"harvested_pods\", \"value\": 57560211.939542, \"unharvestable_pods\": 713856506.149431, \"harvested_pods\": 57560211.939542, \"harvestable_pods\": 172.44796899706125}, {\"timestamp\": \"2022-10-09T23:00:11\", \"season\": 7617, \"variable\": \"harvestable_pods\", \"value\": 172.44796899706125, \"unharvestable_pods\": 713856506.149431, \"harvested_pods\": 57560211.939542, \"harvestable_pods\": 172.44796899706125}, {\"timestamp\": \"2022-10-10T23:00:11\", \"season\": 7641, \"variable\": \"unharvestable_pods\", \"value\": 713861025.439469, \"unharvestable_pods\": 713861025.439469, \"harvested_pods\": 57560211.939542, \"harvestable_pods\": 172.44796899706125}, {\"timestamp\": \"2022-10-10T23:00:11\", \"season\": 7641, \"variable\": \"harvested_pods\", \"value\": 57560211.939542, \"unharvestable_pods\": 713861025.439469, \"harvested_pods\": 57560211.939542, \"harvestable_pods\": 172.44796899706125}, {\"timestamp\": \"2022-10-10T23:00:11\", \"season\": 7641, \"variable\": \"harvestable_pods\", \"value\": 172.44796899706125, \"unharvestable_pods\": 713861025.439469, \"harvested_pods\": 57560211.939542, \"harvestable_pods\": 172.44796899706125}, {\"timestamp\": \"2022-10-11T23:00:11\", \"season\": 7665, \"variable\": \"unharvestable_pods\", \"value\": 713870648.093422, \"unharvestable_pods\": 713870648.093422, \"harvested_pods\": 57560211.939542, \"harvestable_pods\": 599.9993169978261}, {\"timestamp\": \"2022-10-11T23:00:11\", \"season\": 7665, \"variable\": \"harvested_pods\", \"value\": 57560211.939542, \"unharvestable_pods\": 713870648.093422, \"harvested_pods\": 57560211.939542, \"harvestable_pods\": 599.9993169978261}, {\"timestamp\": \"2022-10-11T23:00:11\", \"season\": 7665, \"variable\": \"harvestable_pods\", \"value\": 599.9993169978261, \"unharvestable_pods\": 713870648.093422, \"harvested_pods\": 57560211.939542, \"harvestable_pods\": 599.9993169978261}, {\"timestamp\": \"2022-10-12T23:00:11\", \"season\": 7689, \"variable\": \"harvested_pods\", \"value\": 57560211.939542, \"unharvestable_pods\": 713871658.645513, \"harvested_pods\": 57560211.939542, \"harvestable_pods\": 1422.7234509959817}, {\"timestamp\": \"2022-10-12T23:00:11\", \"season\": 7689, \"variable\": \"harvestable_pods\", \"value\": 1422.7234509959817, \"unharvestable_pods\": 713871658.645513, \"harvested_pods\": 57560211.939542, \"harvestable_pods\": 1422.7234509959817}, {\"timestamp\": \"2022-10-12T23:00:11\", \"season\": 7689, \"variable\": \"unharvestable_pods\", \"value\": 713871658.645513, \"unharvestable_pods\": 713871658.645513, \"harvested_pods\": 57560211.939542, \"harvestable_pods\": 1422.7234509959817}, {\"timestamp\": \"2022-10-13T23:00:11\", \"season\": 7713, \"variable\": \"harvestable_pods\", \"value\": 1779.2332119941711, \"unharvestable_pods\": 713881926.8813709, \"harvested_pods\": 57560211.939542, \"harvestable_pods\": 1779.2332119941711}, {\"timestamp\": \"2022-10-13T23:00:11\", \"season\": 7713, \"variable\": \"unharvestable_pods\", \"value\": 713881926.8813709, \"unharvestable_pods\": 713881926.8813709, \"harvested_pods\": 57560211.939542, \"harvestable_pods\": 1779.2332119941711}, {\"timestamp\": \"2022-10-13T23:00:11\", \"season\": 7713, \"variable\": \"harvested_pods\", \"value\": 57560211.939542, \"unharvestable_pods\": 713881926.8813709, \"harvested_pods\": 57560211.939542, \"harvestable_pods\": 1779.2332119941711}, {\"timestamp\": \"2022-10-14T23:00:11\", \"season\": 7737, \"variable\": \"unharvestable_pods\", \"value\": 713881342.202204, \"unharvestable_pods\": 713881342.202204, \"harvested_pods\": 57560211.939542, \"harvestable_pods\": 2175.0126959979534}, {\"timestamp\": \"2022-10-14T23:00:11\", \"season\": 7737, \"variable\": \"harvested_pods\", \"value\": 57560211.939542, \"unharvestable_pods\": 713881342.202204, \"harvested_pods\": 57560211.939542, \"harvestable_pods\": 2175.0126959979534}, {\"timestamp\": \"2022-10-14T23:00:11\", \"season\": 7737, \"variable\": \"harvestable_pods\", \"value\": 2175.0126959979534, \"unharvestable_pods\": 713881342.202204, \"harvested_pods\": 57560211.939542, \"harvestable_pods\": 2175.0126959979534}, {\"timestamp\": \"2022-10-15T23:00:11\", \"season\": 7761, \"variable\": \"unharvestable_pods\", \"value\": 713881090.605566, \"unharvestable_pods\": 713881090.605566, \"harvested_pods\": 57560211.939542, \"harvestable_pods\": 2342.7469500005245}, {\"timestamp\": \"2022-10-15T23:00:11\", \"season\": 7761, \"variable\": \"harvested_pods\", \"value\": 57560211.939542, \"unharvestable_pods\": 713881090.605566, \"harvested_pods\": 57560211.939542, \"harvestable_pods\": 2342.7469500005245}, {\"timestamp\": \"2022-10-15T23:00:11\", \"season\": 7761, \"variable\": \"harvestable_pods\", \"value\": 2342.7469500005245, \"unharvestable_pods\": 713881090.605566, \"harvested_pods\": 57560211.939542, \"harvestable_pods\": 2342.7469500005245}, {\"timestamp\": \"2022-10-16T23:00:11\", \"season\": 7785, \"variable\": \"unharvestable_pods\", \"value\": 713881090.617053, \"unharvestable_pods\": 713881090.617053, \"harvested_pods\": 57560211.939542, \"harvestable_pods\": 2342.7469500005245}, {\"timestamp\": \"2022-10-16T23:00:11\", \"season\": 7785, \"variable\": \"harvested_pods\", \"value\": 57560211.939542, \"unharvestable_pods\": 713881090.617053, \"harvested_pods\": 57560211.939542, \"harvestable_pods\": 2342.7469500005245}, {\"timestamp\": \"2022-10-16T23:00:11\", \"season\": 7785, \"variable\": \"harvestable_pods\", \"value\": 2342.7469500005245, \"unharvestable_pods\": 713881090.617053, \"harvested_pods\": 57560211.939542, \"harvestable_pods\": 2342.7469500005245}, {\"timestamp\": \"2022-10-17T23:00:11\", \"season\": 7809, \"variable\": \"unharvestable_pods\", \"value\": 713887360.985649, \"unharvestable_pods\": 713887360.985649, \"harvested_pods\": 57560211.939542, \"harvestable_pods\": 3090.6734249964356}, {\"timestamp\": \"2022-10-17T23:00:11\", \"season\": 7809, \"variable\": \"harvested_pods\", \"value\": 57560211.939542, \"unharvestable_pods\": 713887360.985649, \"harvested_pods\": 57560211.939542, \"harvestable_pods\": 3090.6734249964356}, {\"timestamp\": \"2022-10-17T23:00:11\", \"season\": 7809, \"variable\": \"harvestable_pods\", \"value\": 3090.6734249964356, \"unharvestable_pods\": 713887360.985649, \"harvested_pods\": 57560211.939542, \"harvestable_pods\": 3090.6734249964356}, {\"timestamp\": \"2022-10-18T23:00:11\", \"season\": 7833, \"variable\": \"harvestable_pods\", \"value\": 4287.43548399955, \"unharvestable_pods\": 713972710.238109, \"harvested_pods\": 57560211.939542, \"harvestable_pods\": 4287.43548399955}, {\"timestamp\": \"2022-10-18T23:00:11\", \"season\": 7833, \"variable\": \"harvested_pods\", \"value\": 57560211.939542, \"unharvestable_pods\": 713972710.238109, \"harvested_pods\": 57560211.939542, \"harvestable_pods\": 4287.43548399955}, {\"timestamp\": \"2022-10-18T23:00:11\", \"season\": 7833, \"variable\": \"unharvestable_pods\", \"value\": 713972710.238109, \"unharvestable_pods\": 713972710.238109, \"harvested_pods\": 57560211.939542, \"harvestable_pods\": 4287.43548399955}, {\"timestamp\": \"2022-10-19T23:00:11\", \"season\": 7857, \"variable\": \"unharvestable_pods\", \"value\": 713978773.709326, \"unharvestable_pods\": 713978773.709326, \"harvested_pods\": 57566395.274156, \"harvestable_pods\": 0.0}, {\"timestamp\": \"2022-10-19T23:00:11\", \"season\": 7857, \"variable\": \"harvested_pods\", \"value\": 57566395.274156, \"unharvestable_pods\": 713978773.709326, \"harvested_pods\": 57566395.274156, \"harvestable_pods\": 0.0}, {\"timestamp\": \"2022-10-19T23:00:11\", \"season\": 7857, \"variable\": \"harvestable_pods\", \"value\": 0.0, \"unharvestable_pods\": 713978773.709326, \"harvested_pods\": 57566395.274156, \"harvestable_pods\": 0.0}, {\"timestamp\": \"2022-10-20T23:00:11\", \"season\": 7881, \"variable\": \"unharvestable_pods\", \"value\": 713976397.2566401, \"unharvestable_pods\": 713976397.2566401, \"harvested_pods\": 57566395.274156, \"harvestable_pods\": 1584.3018470034003}, {\"timestamp\": \"2022-10-20T23:00:11\", \"season\": 7881, \"variable\": \"harvested_pods\", \"value\": 57566395.274156, \"unharvestable_pods\": 713976397.2566401, \"harvested_pods\": 57566395.274156, \"harvestable_pods\": 1584.3018470034003}, {\"timestamp\": \"2022-10-20T23:00:11\", \"season\": 7881, \"variable\": \"harvestable_pods\", \"value\": 1584.3018470034003, \"unharvestable_pods\": 713976397.2566401, \"harvested_pods\": 57566395.274156, \"harvestable_pods\": 1584.3018470034003}, {\"timestamp\": \"2022-10-21T23:00:11\", \"season\": 7905, \"variable\": \"unharvestable_pods\", \"value\": 713995901.229468, \"unharvestable_pods\": 713995901.229468, \"harvested_pods\": 57566395.274156, \"harvestable_pods\": 2019.8237340003252}, {\"timestamp\": \"2022-10-21T23:00:11\", \"season\": 7905, \"variable\": \"harvested_pods\", \"value\": 57566395.274156, \"unharvestable_pods\": 713995901.229468, \"harvested_pods\": 57566395.274156, \"harvestable_pods\": 2019.8237340003252}, {\"timestamp\": \"2022-10-21T23:00:11\", \"season\": 7905, \"variable\": \"harvestable_pods\", \"value\": 2019.8237340003252, \"unharvestable_pods\": 713995901.229468, \"harvested_pods\": 57566395.274156, \"harvestable_pods\": 2019.8237340003252}, {\"timestamp\": \"2022-10-22T23:00:23\", \"season\": 7929, \"variable\": \"unharvestable_pods\", \"value\": 713992471.5211401, \"unharvestable_pods\": 713992471.5211401, \"harvested_pods\": 57566395.274156, \"harvestable_pods\": 5053.79625300318}, {\"timestamp\": \"2022-10-22T23:00:23\", \"season\": 7929, \"variable\": \"harvested_pods\", \"value\": 57566395.274156, \"unharvestable_pods\": 713992471.5211401, \"harvested_pods\": 57566395.274156, \"harvestable_pods\": 5053.79625300318}, {\"timestamp\": \"2022-10-22T23:00:23\", \"season\": 7929, \"variable\": \"harvestable_pods\", \"value\": 5053.79625300318, \"unharvestable_pods\": 713992471.5211401, \"harvested_pods\": 57566395.274156, \"harvestable_pods\": 5053.79625300318}, {\"timestamp\": \"2022-10-23T23:00:11\", \"season\": 7953, \"variable\": \"harvestable_pods\", \"value\": 5053.79625300318, \"unharvestable_pods\": 714041044.3811729, \"harvested_pods\": 57566395.274156, \"harvestable_pods\": 5053.79625300318}, {\"timestamp\": \"2022-10-23T23:00:11\", \"season\": 7953, \"variable\": \"unharvestable_pods\", \"value\": 714041044.3811729, \"unharvestable_pods\": 714041044.3811729, \"harvested_pods\": 57566395.274156, \"harvestable_pods\": 5053.79625300318}, {\"timestamp\": \"2022-10-23T23:00:11\", \"season\": 7953, \"variable\": \"harvested_pods\", \"value\": 57566395.274156, \"unharvestable_pods\": 714041044.3811729, \"harvested_pods\": 57566395.274156, \"harvestable_pods\": 5053.79625300318}, {\"timestamp\": \"2022-10-24T23:00:11\", \"season\": 7977, \"variable\": \"unharvestable_pods\", \"value\": 714034791.9952079, \"unharvestable_pods\": 714034791.9952079, \"harvested_pods\": 57566395.274156, \"harvestable_pods\": 9967.559969000518}, {\"timestamp\": \"2022-10-24T23:00:11\", \"season\": 7977, \"variable\": \"harvested_pods\", \"value\": 57566395.274156, \"unharvestable_pods\": 714034791.9952079, \"harvested_pods\": 57566395.274156, \"harvestable_pods\": 9967.559969000518}, {\"timestamp\": \"2022-10-24T23:00:11\", \"season\": 7977, \"variable\": \"harvestable_pods\", \"value\": 9967.559969000518, \"unharvestable_pods\": 714034791.9952079, \"harvested_pods\": 57566395.274156, \"harvestable_pods\": 9967.559969000518}, {\"timestamp\": \"2022-10-25T23:00:11\", \"season\": 8001, \"variable\": \"unharvestable_pods\", \"value\": 714027192.299523, \"unharvestable_pods\": 714027192.299523, \"harvested_pods\": 57577412.647476, \"harvestable_pods\": 4016.65012999624}, {\"timestamp\": \"2022-10-25T23:00:11\", \"season\": 8001, \"variable\": \"harvested_pods\", \"value\": 57577412.647476, \"unharvestable_pods\": 714027192.299523, \"harvested_pods\": 57577412.647476, \"harvestable_pods\": 4016.65012999624}, {\"timestamp\": \"2022-10-25T23:00:11\", \"season\": 8001, \"variable\": \"harvestable_pods\", \"value\": 4016.65012999624, \"unharvestable_pods\": 714027192.299523, \"harvested_pods\": 57577412.647476, \"harvestable_pods\": 4016.65012999624}, {\"timestamp\": \"2022-10-26T23:00:11\", \"season\": 8025, \"variable\": \"unharvestable_pods\", \"value\": 714012506.156442, \"unharvestable_pods\": 714012506.156442, \"harvested_pods\": 57577412.647476, \"harvestable_pods\": 13468.923271998763}, {\"timestamp\": \"2022-10-26T23:00:11\", \"season\": 8025, \"variable\": \"harvested_pods\", \"value\": 57577412.647476, \"unharvestable_pods\": 714012506.156442, \"harvested_pods\": 57577412.647476, \"harvestable_pods\": 13468.923271998763}, {\"timestamp\": \"2022-10-26T23:00:11\", \"season\": 8025, \"variable\": \"harvestable_pods\", \"value\": 13468.923271998763, \"unharvestable_pods\": 714012506.156442, \"harvested_pods\": 57577412.647476, \"harvestable_pods\": 13468.923271998763}, {\"timestamp\": \"2022-10-27T23:00:11\", \"season\": 8049, \"variable\": \"harvestable_pods\", \"value\": 19817.950658999383, \"unharvestable_pods\": 714002982.61603, \"harvested_pods\": 57577412.647476, \"harvestable_pods\": 19817.950658999383}, {\"timestamp\": \"2022-10-27T23:00:11\", \"season\": 8049, \"variable\": \"unharvestable_pods\", \"value\": 714002982.61603, \"unharvestable_pods\": 714002982.61603, \"harvested_pods\": 57577412.647476, \"harvestable_pods\": 19817.950658999383}, {\"timestamp\": \"2022-10-27T23:00:11\", \"season\": 8049, \"variable\": \"harvested_pods\", \"value\": 57577412.647476, \"unharvestable_pods\": 714002982.61603, \"harvested_pods\": 57577412.647476, \"harvestable_pods\": 19817.950658999383}, {\"timestamp\": \"2022-10-28T23:00:11\", \"season\": 8073, \"variable\": \"harvestable_pods\", \"value\": 28623.52862700075, \"unharvestable_pods\": 713992293.924497, \"harvested_pods\": 57577412.647476, \"harvestable_pods\": 28623.52862700075}, {\"timestamp\": \"2022-10-28T23:00:11\", \"season\": 8073, \"variable\": \"unharvestable_pods\", \"value\": 713992293.924497, \"unharvestable_pods\": 713992293.924497, \"harvested_pods\": 57577412.647476, \"harvestable_pods\": 28623.52862700075}, {\"timestamp\": \"2022-10-28T23:00:11\", \"season\": 8073, \"variable\": \"harvested_pods\", \"value\": 57577412.647476, \"unharvestable_pods\": 713992293.924497, \"harvested_pods\": 57577412.647476, \"harvestable_pods\": 28623.52862700075}, {\"timestamp\": \"2022-10-29T23:00:11\", \"season\": 8097, \"variable\": \"unharvestable_pods\", \"value\": 713991942.594104, \"unharvestable_pods\": 713991942.594104, \"harvested_pods\": 57607303.554024, \"harvestable_pods\": 2037.1121159940958}, {\"timestamp\": \"2022-10-29T23:00:11\", \"season\": 8097, \"variable\": \"harvested_pods\", \"value\": 57607303.554024, \"unharvestable_pods\": 713991942.594104, \"harvested_pods\": 57607303.554024, \"harvestable_pods\": 2037.1121159940958}, {\"timestamp\": \"2022-10-29T23:00:11\", \"season\": 8097, \"variable\": \"harvestable_pods\", \"value\": 2037.1121159940958, \"unharvestable_pods\": 713991942.594104, \"harvested_pods\": 57607303.554024, \"harvestable_pods\": 2037.1121159940958}, {\"timestamp\": \"2022-10-30T23:00:11\", \"season\": 8121, \"variable\": \"unharvestable_pods\", \"value\": 713973064.8906721, \"unharvestable_pods\": 713973064.8906721, \"harvested_pods\": 57607303.554024, \"harvestable_pods\": 14622.247429996729}, {\"timestamp\": \"2022-10-30T23:00:11\", \"season\": 8121, \"variable\": \"harvested_pods\", \"value\": 57607303.554024, \"unharvestable_pods\": 713973064.8906721, \"harvested_pods\": 57607303.554024, \"harvestable_pods\": 14622.247429996729}, {\"timestamp\": \"2022-10-30T23:00:11\", \"season\": 8121, \"variable\": \"harvestable_pods\", \"value\": 14622.247429996729, \"unharvestable_pods\": 713973064.8906721, \"harvested_pods\": 57607303.554024, \"harvestable_pods\": 14622.247429996729}, {\"timestamp\": \"2022-10-31T23:00:11\", \"season\": 8145, \"variable\": \"harvested_pods\", \"value\": 57607303.554024, \"unharvestable_pods\": 713961770.484684, \"harvested_pods\": 57607303.554024, \"harvestable_pods\": 21461.35740699619}, {\"timestamp\": \"2022-10-31T23:00:11\", \"season\": 8145, \"variable\": \"unharvestable_pods\", \"value\": 713961770.484684, \"unharvestable_pods\": 713961770.484684, \"harvested_pods\": 57607303.554024, \"harvestable_pods\": 21461.35740699619}, {\"timestamp\": \"2022-10-31T23:00:11\", \"season\": 8145, \"variable\": \"harvestable_pods\", \"value\": 21461.35740699619, \"unharvestable_pods\": 713961770.484684, \"harvested_pods\": 57607303.554024, \"harvestable_pods\": 21461.35740699619}, {\"timestamp\": \"2022-11-01T23:00:11\", \"season\": 8169, \"variable\": \"harvested_pods\", \"value\": 57629100.744598, \"unharvestable_pods\": 713945088.6034479, \"harvested_pods\": 57629100.744598, \"harvestable_pods\": 9733.702776998281}, {\"timestamp\": \"2022-11-01T23:00:11\", \"season\": 8169, \"variable\": \"unharvestable_pods\", \"value\": 713945088.6034479, \"unharvestable_pods\": 713945088.6034479, \"harvested_pods\": 57629100.744598, \"harvestable_pods\": 9733.702776998281}, {\"timestamp\": \"2022-11-01T23:00:11\", \"season\": 8169, \"variable\": \"harvestable_pods\", \"value\": 9733.702776998281, \"unharvestable_pods\": 713945088.6034479, \"harvested_pods\": 57629100.744598, \"harvestable_pods\": 9733.702776998281}, {\"timestamp\": \"2022-11-02T23:00:11\", \"season\": 8193, \"variable\": \"harvested_pods\", \"value\": 57641789.594232, \"unharvestable_pods\": 713956349.915567, \"harvested_pods\": 57641789.594232, \"harvestable_pods\": 2375.229322999716}, {\"timestamp\": \"2022-11-02T23:00:11\", \"season\": 8193, \"variable\": \"unharvestable_pods\", \"value\": 713956349.915567, \"unharvestable_pods\": 713956349.915567, \"harvested_pods\": 57641789.594232, \"harvestable_pods\": 2375.229322999716}, {\"timestamp\": \"2022-11-02T23:00:11\", \"season\": 8193, \"variable\": \"harvestable_pods\", \"value\": 2375.229322999716, \"unharvestable_pods\": 713956349.915567, \"harvested_pods\": 57641789.594232, \"harvestable_pods\": 2375.229322999716}, {\"timestamp\": \"2022-11-03T23:00:11\", \"season\": 8217, \"variable\": \"harvested_pods\", \"value\": 57641789.594232, \"unharvestable_pods\": 713941284.860767, \"harvested_pods\": 57641789.594232, \"harvestable_pods\": 11989.851322002709}, {\"timestamp\": \"2022-11-03T23:00:11\", \"season\": 8217, \"variable\": \"unharvestable_pods\", \"value\": 713941284.860767, \"unharvestable_pods\": 713941284.860767, \"harvested_pods\": 57641789.594232, \"harvestable_pods\": 11989.851322002709}, {\"timestamp\": \"2022-11-03T23:00:11\", \"season\": 8217, \"variable\": \"harvestable_pods\", \"value\": 11989.851322002709, \"unharvestable_pods\": 713941284.860767, \"harvested_pods\": 57641789.594232, \"harvestable_pods\": 11989.851322002709}, {\"timestamp\": \"2022-11-04T01:00:11\", \"season\": 8219, \"variable\": \"harvested_pods\", \"value\": 57641789.594232, \"unharvestable_pods\": 713939608.094002, \"harvested_pods\": 57641789.594232, \"harvestable_pods\": 13107.69581899792}, {\"timestamp\": \"2022-11-04T01:00:11\", \"season\": 8219, \"variable\": \"unharvestable_pods\", \"value\": 713939608.094002, \"unharvestable_pods\": 713939608.094002, \"harvested_pods\": 57641789.594232, \"harvestable_pods\": 13107.69581899792}, {\"timestamp\": \"2022-11-04T01:00:11\", \"season\": 8219, \"variable\": \"harvestable_pods\", \"value\": 13107.69581899792, \"unharvestable_pods\": 713939608.094002, \"harvested_pods\": 57641789.594232, \"harvestable_pods\": 13107.69581899792}]}}, {\"mode\": \"vega-lite\"});\n",
       "</script>"
      ],
      "text/plain": [
       "alt.LayerChart(...)"
      ]
     },
     "execution_count": 70,
     "metadata": {},
     "output_type": "execute_result"
    }
   ],
   "source": [
    "colors = {\n",
    "    'unharvestable_pods': '#ff595e', \n",
    "    'harvested_pods': \"#8ac926\", \n",
    "    'harvestable_pods': \"#1982c4\", \n",
    "    # 'unharvestable_ratio': \"#6a4c93\", \n",
    "} \n",
    "c = (\n",
    "    chart(\n",
    "        df, \n",
    "        \"timestamp\", \n",
    "        lmetrics=['unharvestable_pods', 'harvested_pods', 'harvestable_pods',], \n",
    "        # rmetrics=['unharvestable_ratio'],\n",
    "        lstrategy=\"stack_area\", \n",
    "        rstrategy=\"line\",\n",
    "        title=\"Pod Line Breakdown\", \n",
    "        tooltip_formats={\n",
    "            'unharvestable_pods': ',d', \n",
    "            'harvested_pods': ',d', \n",
    "            'harvestable_pods': ',d', \n",
    "            # 'unharvestable_ratio': '.0%', \n",
    "        },\n",
    "        yaxis_left_kwargs=dict(title=\"Pods\", format=\".3~s\"), \n",
    "        # yaxis_right_kwargs=dict(title=\"Ratio\", format=\".0%\"), \n",
    "        # dual_axes=True, \n",
    "        colors=colors, \n",
    "        show_exploit_rule=True, \n",
    "        exploit_day=16, \n",
    "    )\n",
    ")\n",
    "\n",
    "css_lines = css_tooltip_timeseries_multi_colored(value_vars, colors) \n",
    "css = \"\\n\".join(css_lines)\n",
    "\n",
    "apply_css(\"\")\n",
    "# apply_css(css)\n",
    "\n",
    "c"
   ]
  },
  {
   "cell_type": "code",
   "execution_count": null,
   "id": "d6752862",
   "metadata": {},
   "outputs": [
    {
     "data": {
      "application/json": {
       "css": "#vg-tooltip-element tr:nth-child(1) { font-weight: bold }\n#vg-tooltip-element tr:nth-child(1) td:first-child { opacity: 0 }\n\n#vg-tooltip-element tr:nth-child(2) td:first-child { color: #ff595e }\n\n#vg-tooltip-element tr:nth-child(3) td:first-child { color: #8ac926 }\n\n#vg-tooltip-element tr:nth-child(4) td:first-child { color: #1982c4 }\n\n#vg-tooltip-element tr:nth-child(5) td:first-child { color: #6a4c93 }\n",
       "spec": {
        "$schema": "https://vega.github.io/schema/vega-lite/v4.17.0.json",
        "config": {
         "view": {
          "continuousHeight": 300,
          "continuousWidth": 400
         }
        },
        "data": {
         "name": "data-e0dcec37108a602134a32363f04a3a35"
        },
        "datasets": {
         "data-e0dcec37108a602134a32363f04a3a35": [
          {
           "harvestable_pods": 5049.266341,
           "harvested_pods": 0,
           "season": 25,
           "timestamp": "2021-08-07T00:06:08",
           "unharvestable_pods": -150.20702899999924,
           "unharvestable_ratio": -0.030660381806783734,
           "value": -150.20702899999924,
           "variable": "unharvestable_pods"
          },
          {
           "harvestable_pods": 5049.266341,
           "harvested_pods": 0,
           "season": 25,
           "timestamp": "2021-08-07T00:06:08",
           "unharvestable_pods": -150.20702899999924,
           "unharvestable_ratio": -0.030660381806783734,
           "value": 0,
           "variable": "harvested_pods"
          },
          {
           "harvestable_pods": 5049.266341,
           "harvested_pods": 0,
           "season": 25,
           "timestamp": "2021-08-07T00:06:08",
           "unharvestable_pods": -150.20702899999924,
           "unharvestable_ratio": -0.030660381806783734,
           "value": 5049.266341,
           "variable": "harvestable_pods"
          },
          {
           "harvestable_pods": 5049.266341,
           "harvested_pods": 0,
           "season": 25,
           "timestamp": "2021-08-07T00:06:08",
           "unharvestable_pods": -150.20702899999924,
           "unharvestable_ratio": -0.030660381806783734,
           "value": -0.030660381806783734,
           "variable": "unharvestable_ratio"
          },
          {
           "harvestable_pods": 337.09807999999975,
           "harvested_pods": 15526.430505,
           "season": 49,
           "timestamp": "2021-08-08T00:08:15",
           "unharvestable_pods": -13360.687033,
           "unharvestable_ratio": -5.338207295752936,
           "value": -13360.687033,
           "variable": "unharvestable_pods"
          },
          {
           "harvestable_pods": 337.09807999999975,
           "harvested_pods": 15526.430505,
           "season": 49,
           "timestamp": "2021-08-08T00:08:15",
           "unharvestable_pods": -13360.687033,
           "unharvestable_ratio": -5.338207295752936,
           "value": 15526.430505,
           "variable": "harvested_pods"
          },
          {
           "harvestable_pods": 337.09807999999975,
           "harvested_pods": 15526.430505,
           "season": 49,
           "timestamp": "2021-08-08T00:08:15",
           "unharvestable_pods": -13360.687033,
           "unharvestable_ratio": -5.338207295752936,
           "value": 337.09807999999975,
           "variable": "harvestable_pods"
          },
          {
           "harvestable_pods": 337.09807999999975,
           "harvested_pods": 15526.430505,
           "season": 49,
           "timestamp": "2021-08-08T00:08:15",
           "unharvestable_pods": -13360.687033,
           "unharvestable_ratio": -5.338207295752936,
           "value": -5.338207295752936,
           "variable": "unharvestable_ratio"
          },
          {
           "harvestable_pods": 1479.961468999998,
           "harvested_pods": 21827.924952,
           "season": 73,
           "timestamp": "2021-08-09T00:15:57",
           "unharvestable_pods": -16486.490717,
           "unharvestable_ratio": -2.416879394246618,
           "value": -2.416879394246618,
           "variable": "unharvestable_ratio"
          },
          {
           "harvestable_pods": 1479.961468999998,
           "harvested_pods": 21827.924952,
           "season": 73,
           "timestamp": "2021-08-09T00:15:57",
           "unharvestable_pods": -16486.490717,
           "unharvestable_ratio": -2.416879394246618,
           "value": 1479.961468999998,
           "variable": "harvestable_pods"
          },
          {
           "harvestable_pods": 1479.961468999998,
           "harvested_pods": 21827.924952,
           "season": 73,
           "timestamp": "2021-08-09T00:15:57",
           "unharvestable_pods": -16486.490717,
           "unharvestable_ratio": -2.416879394246618,
           "value": -16486.490717,
           "variable": "unharvestable_pods"
          },
          {
           "harvestable_pods": 1479.961468999998,
           "harvested_pods": 21827.924952,
           "season": 73,
           "timestamp": "2021-08-09T00:15:57",
           "unharvestable_pods": -16486.490717,
           "unharvestable_ratio": -2.416879394246618,
           "value": 21827.924952,
           "variable": "harvested_pods"
          },
          {
           "harvestable_pods": 7611.092329000003,
           "harvested_pods": 25843.746295,
           "season": 97,
           "timestamp": "2021-08-10T00:01:29",
           "unharvestable_pods": -33454.838624,
           "unharvestable_ratio": null,
           "value": -33454.838624,
           "variable": "unharvestable_pods"
          },
          {
           "harvestable_pods": 7611.092329000003,
           "harvested_pods": 25843.746295,
           "season": 97,
           "timestamp": "2021-08-10T00:01:29",
           "unharvestable_pods": -33454.838624,
           "unharvestable_ratio": null,
           "value": 25843.746295,
           "variable": "harvested_pods"
          },
          {
           "harvestable_pods": 7611.092329000003,
           "harvested_pods": 25843.746295,
           "season": 97,
           "timestamp": "2021-08-10T00:01:29",
           "unharvestable_pods": -33454.838624,
           "unharvestable_ratio": null,
           "value": 7611.092329000003,
           "variable": "harvestable_pods"
          },
          {
           "harvestable_pods": 7611.092329000003,
           "harvested_pods": 25843.746295,
           "season": 97,
           "timestamp": "2021-08-10T00:01:29",
           "unharvestable_pods": -33454.838624,
           "unharvestable_ratio": null,
           "value": null,
           "variable": "unharvestable_ratio"
          },
          {
           "harvestable_pods": 6904.487041000004,
           "harvested_pods": 26550.351583,
           "season": 121,
           "timestamp": "2021-08-11T00:00:05",
           "unharvestable_pods": -33454.838624,
           "unharvestable_ratio": null,
           "value": -33454.838624,
           "variable": "unharvestable_pods"
          },
          {
           "harvestable_pods": 6904.487041000004,
           "harvested_pods": 26550.351583,
           "season": 121,
           "timestamp": "2021-08-11T00:00:05",
           "unharvestable_pods": -33454.838624,
           "unharvestable_ratio": null,
           "value": 26550.351583,
           "variable": "harvested_pods"
          },
          {
           "harvestable_pods": 6904.487041000004,
           "harvested_pods": 26550.351583,
           "season": 121,
           "timestamp": "2021-08-11T00:00:05",
           "unharvestable_pods": -33454.838624,
           "unharvestable_ratio": null,
           "value": 6904.487041000004,
           "variable": "harvestable_pods"
          },
          {
           "harvestable_pods": 6904.487041000004,
           "harvested_pods": 26550.351583,
           "season": 121,
           "timestamp": "2021-08-11T00:00:05",
           "unharvestable_pods": -33454.838624,
           "unharvestable_ratio": null,
           "value": null,
           "variable": "unharvestable_ratio"
          },
          {
           "harvestable_pods": 6904.487041000004,
           "harvested_pods": 26550.351583,
           "season": 145,
           "timestamp": "2021-08-12T00:01:00",
           "unharvestable_pods": -33454.838624,
           "unharvestable_ratio": null,
           "value": null,
           "variable": "unharvestable_ratio"
          },
          {
           "harvestable_pods": 6904.487041000004,
           "harvested_pods": 26550.351583,
           "season": 145,
           "timestamp": "2021-08-12T00:01:00",
           "unharvestable_pods": -33454.838624,
           "unharvestable_ratio": null,
           "value": 6904.487041000004,
           "variable": "harvestable_pods"
          },
          {
           "harvestable_pods": 6904.487041000004,
           "harvested_pods": 26550.351583,
           "season": 145,
           "timestamp": "2021-08-12T00:01:00",
           "unharvestable_pods": -33454.838624,
           "unharvestable_ratio": null,
           "value": -33454.838624,
           "variable": "unharvestable_pods"
          },
          {
           "harvestable_pods": 6904.487041000004,
           "harvested_pods": 26550.351583,
           "season": 145,
           "timestamp": "2021-08-12T00:01:00",
           "unharvestable_pods": -33454.838624,
           "unharvestable_ratio": null,
           "value": 26550.351583,
           "variable": "harvested_pods"
          },
          {
           "harvestable_pods": 6904.487041000004,
           "harvested_pods": 26550.351583,
           "season": 169,
           "timestamp": "2021-08-13T00:00:10",
           "unharvestable_pods": -33454.838624,
           "unharvestable_ratio": null,
           "value": -33454.838624,
           "variable": "unharvestable_pods"
          },
          {
           "harvestable_pods": 6904.487041000004,
           "harvested_pods": 26550.351583,
           "season": 169,
           "timestamp": "2021-08-13T00:00:10",
           "unharvestable_pods": -33454.838624,
           "unharvestable_ratio": null,
           "value": 26550.351583,
           "variable": "harvested_pods"
          },
          {
           "harvestable_pods": 6904.487041000004,
           "harvested_pods": 26550.351583,
           "season": 169,
           "timestamp": "2021-08-13T00:00:10",
           "unharvestable_pods": -33454.838624,
           "unharvestable_ratio": null,
           "value": 6904.487041000004,
           "variable": "harvestable_pods"
          },
          {
           "harvestable_pods": 6904.487041000004,
           "harvested_pods": 26550.351583,
           "season": 169,
           "timestamp": "2021-08-13T00:00:10",
           "unharvestable_pods": -33454.838624,
           "unharvestable_ratio": null,
           "value": null,
           "variable": "unharvestable_ratio"
          },
          {
           "harvestable_pods": 17664.603034999996,
           "harvested_pods": 32201.284959,
           "season": 193,
           "timestamp": "2021-08-14T00:00:29",
           "unharvestable_pods": -39050.368972,
           "unharvestable_ratio": -3.610586684981746,
           "value": -3.610586684981746,
           "variable": "unharvestable_ratio"
          },
          {
           "harvestable_pods": 17664.603034999996,
           "harvested_pods": 32201.284959,
           "season": 193,
           "timestamp": "2021-08-14T00:00:29",
           "unharvestable_pods": -39050.368972,
           "unharvestable_ratio": -3.610586684981746,
           "value": -39050.368972,
           "variable": "unharvestable_pods"
          },
          {
           "harvestable_pods": 17664.603034999996,
           "harvested_pods": 32201.284959,
           "season": 193,
           "timestamp": "2021-08-14T00:00:29",
           "unharvestable_pods": -39050.368972,
           "unharvestable_ratio": -3.610586684981746,
           "value": 32201.284959,
           "variable": "harvested_pods"
          },
          {
           "harvestable_pods": 17664.603034999996,
           "harvested_pods": 32201.284959,
           "season": 193,
           "timestamp": "2021-08-14T00:00:29",
           "unharvestable_pods": -39050.368972,
           "unharvestable_ratio": -3.610586684981746,
           "value": 17664.603034999996,
           "variable": "harvestable_pods"
          },
          {
           "harvestable_pods": 23001.045411,
           "harvested_pods": 41481.027557,
           "season": 217,
           "timestamp": "2021-08-15T00:00:28",
           "unharvestable_pods": -54232.15519,
           "unharvestable_ratio": -5.290984412226374,
           "value": -54232.15519,
           "variable": "unharvestable_pods"
          },
          {
           "harvestable_pods": 23001.045411,
           "harvested_pods": 41481.027557,
           "season": 217,
           "timestamp": "2021-08-15T00:00:28",
           "unharvestable_pods": -54232.15519,
           "unharvestable_ratio": -5.290984412226374,
           "value": 41481.027557,
           "variable": "harvested_pods"
          },
          {
           "harvestable_pods": 23001.045411,
           "harvested_pods": 41481.027557,
           "season": 217,
           "timestamp": "2021-08-15T00:00:28",
           "unharvestable_pods": -54232.15519,
           "unharvestable_ratio": -5.290984412226374,
           "value": 23001.045411,
           "variable": "harvestable_pods"
          },
          {
           "harvestable_pods": 23001.045411,
           "harvested_pods": 41481.027557,
           "season": 217,
           "timestamp": "2021-08-15T00:00:28",
           "unharvestable_pods": -54232.15519,
           "unharvestable_ratio": -5.290984412226374,
           "value": -5.290984412226374,
           "variable": "unharvestable_ratio"
          },
          {
           "harvestable_pods": 14326.598173999999,
           "harvested_pods": 51201.027557,
           "season": 241,
           "timestamp": "2021-08-16T00:00:17",
           "unharvestable_pods": -48984.330716,
           "unharvestable_ratio": -2.9609778869073744,
           "value": 14326.598173999999,
           "variable": "harvestable_pods"
          },
          {
           "harvestable_pods": 14326.598173999999,
           "harvested_pods": 51201.027557,
           "season": 241,
           "timestamp": "2021-08-16T00:00:17",
           "unharvestable_pods": -48984.330716,
           "unharvestable_ratio": -2.9609778869073744,
           "value": -2.9609778869073744,
           "variable": "unharvestable_ratio"
          },
          {
           "harvestable_pods": 14326.598173999999,
           "harvested_pods": 51201.027557,
           "season": 241,
           "timestamp": "2021-08-16T00:00:17",
           "unharvestable_pods": -48984.330716,
           "unharvestable_ratio": -2.9609778869073744,
           "value": -48984.330716,
           "variable": "unharvestable_pods"
          },
          {
           "harvestable_pods": 14326.598173999999,
           "harvested_pods": 51201.027557,
           "season": 241,
           "timestamp": "2021-08-16T00:00:17",
           "unharvestable_pods": -48984.330716,
           "unharvestable_ratio": -2.9609778869073744,
           "value": 51201.027557,
           "variable": "harvested_pods"
          },
          {
           "harvestable_pods": 12774.532055999996,
           "harvested_pods": 97624.762629,
           "season": 265,
           "timestamp": "2021-08-17T00:00:04",
           "unharvestable_pods": -38897.551049999995,
           "unharvestable_ratio": -0.5440084265435968,
           "value": -0.5440084265435968,
           "variable": "unharvestable_ratio"
          },
          {
           "harvestable_pods": 12774.532055999996,
           "harvested_pods": 97624.762629,
           "season": 265,
           "timestamp": "2021-08-17T00:00:04",
           "unharvestable_pods": -38897.551049999995,
           "unharvestable_ratio": -0.5440084265435968,
           "value": 12774.532055999996,
           "variable": "harvestable_pods"
          },
          {
           "harvestable_pods": 12774.532055999996,
           "harvested_pods": 97624.762629,
           "season": 265,
           "timestamp": "2021-08-17T00:00:04",
           "unharvestable_pods": -38897.551049999995,
           "unharvestable_ratio": -0.5440084265435968,
           "value": -38897.551049999995,
           "variable": "unharvestable_pods"
          },
          {
           "harvestable_pods": 12774.532055999996,
           "harvested_pods": 97624.762629,
           "season": 265,
           "timestamp": "2021-08-17T00:00:04",
           "unharvestable_pods": -38897.551049999995,
           "unharvestable_ratio": -0.5440084265435968,
           "value": 97624.762629,
           "variable": "harvested_pods"
          },
          {
           "harvestable_pods": 44477.315885,
           "harvested_pods": 104529.24967,
           "season": 289,
           "timestamp": "2021-08-18T00:00:31",
           "unharvestable_pods": -112655.973558,
           "unharvestable_ratio": -3.099151000547596,
           "value": -112655.973558,
           "variable": "unharvestable_pods"
          },
          {
           "harvestable_pods": 44477.315885,
           "harvested_pods": 104529.24967,
           "season": 289,
           "timestamp": "2021-08-18T00:00:31",
           "unharvestable_pods": -112655.973558,
           "unharvestable_ratio": -3.099151000547596,
           "value": 104529.24967,
           "variable": "harvested_pods"
          },
          {
           "harvestable_pods": 44477.315885,
           "harvested_pods": 104529.24967,
           "season": 289,
           "timestamp": "2021-08-18T00:00:31",
           "unharvestable_pods": -112655.973558,
           "unharvestable_ratio": -3.099151000547596,
           "value": 44477.315885,
           "variable": "harvestable_pods"
          },
          {
           "harvestable_pods": 44477.315885,
           "harvested_pods": 104529.24967,
           "season": 289,
           "timestamp": "2021-08-18T00:00:31",
           "unharvestable_pods": -112655.973558,
           "unharvestable_ratio": -3.099151000547596,
           "value": -3.099151000547596,
           "variable": "unharvestable_ratio"
          },
          {
           "harvestable_pods": 5723.165934000019,
           "harvested_pods": 143283.399621,
           "season": 313,
           "timestamp": "2021-08-19T00:00:40",
           "unharvestable_pods": -44740.566042000006,
           "unharvestable_ratio": -0.42910024601472985,
           "value": -0.42910024601472985,
           "variable": "unharvestable_ratio"
          },
          {
           "harvestable_pods": 5723.165934000019,
           "harvested_pods": 143283.399621,
           "season": 313,
           "timestamp": "2021-08-19T00:00:40",
           "unharvestable_pods": -44740.566042000006,
           "unharvestable_ratio": -0.42910024601472985,
           "value": 5723.165934000019,
           "variable": "harvestable_pods"
          },
          {
           "harvestable_pods": 5723.165934000019,
           "harvested_pods": 143283.399621,
           "season": 313,
           "timestamp": "2021-08-19T00:00:40",
           "unharvestable_pods": -44740.566042000006,
           "unharvestable_ratio": -0.42910024601472985,
           "value": -44740.566042000006,
           "variable": "unharvestable_pods"
          },
          {
           "harvestable_pods": 5723.165934000019,
           "harvested_pods": 143283.399621,
           "season": 313,
           "timestamp": "2021-08-19T00:00:40",
           "unharvestable_pods": -44740.566042000006,
           "unharvestable_ratio": -0.42910024601472985,
           "value": 143283.399621,
           "variable": "harvested_pods"
          },
          {
           "harvestable_pods": 37233.227182,
           "harvested_pods": 143283.399621,
           "season": 337,
           "timestamp": "2021-08-20T00:01:04",
           "unharvestable_pods": -87758.00969899999,
           "unharvestable_ratio": -0.9460901039588226,
           "value": -87758.00969899999,
           "variable": "unharvestable_pods"
          },
          {
           "harvestable_pods": 37233.227182,
           "harvested_pods": 143283.399621,
           "season": 337,
           "timestamp": "2021-08-20T00:01:04",
           "unharvestable_pods": -87758.00969899999,
           "unharvestable_ratio": -0.9460901039588226,
           "value": 143283.399621,
           "variable": "harvested_pods"
          },
          {
           "harvestable_pods": 37233.227182,
           "harvested_pods": 143283.399621,
           "season": 337,
           "timestamp": "2021-08-20T00:01:04",
           "unharvestable_pods": -87758.00969899999,
           "unharvestable_ratio": -0.9460901039588226,
           "value": 37233.227182,
           "variable": "harvestable_pods"
          },
          {
           "harvestable_pods": 37233.227182,
           "harvested_pods": 143283.399621,
           "season": 337,
           "timestamp": "2021-08-20T00:01:04",
           "unharvestable_pods": -87758.00969899999,
           "unharvestable_ratio": -0.9460901039588226,
           "value": -0.9460901039588226,
           "variable": "unharvestable_ratio"
          },
          {
           "harvestable_pods": 28096.697970999987,
           "harvested_pods": 254167.231813,
           "season": 361,
           "timestamp": "2021-08-21T00:00:44",
           "unharvestable_pods": -241840.23339699997,
           "unharvestable_ratio": -5.982635310777127,
           "value": 28096.697970999987,
           "variable": "harvestable_pods"
          },
          {
           "harvestable_pods": 28096.697970999987,
           "harvested_pods": 254167.231813,
           "season": 361,
           "timestamp": "2021-08-21T00:00:44",
           "unharvestable_pods": -241840.23339699997,
           "unharvestable_ratio": -5.982635310777127,
           "value": -241840.23339699997,
           "variable": "unharvestable_pods"
          },
          {
           "harvestable_pods": 28096.697970999987,
           "harvested_pods": 254167.231813,
           "season": 361,
           "timestamp": "2021-08-21T00:00:44",
           "unharvestable_pods": -241840.23339699997,
           "unharvestable_ratio": -5.982635310777127,
           "value": 254167.231813,
           "variable": "harvested_pods"
          },
          {
           "harvestable_pods": 28096.697970999987,
           "harvested_pods": 254167.231813,
           "season": 361,
           "timestamp": "2021-08-21T00:00:44",
           "unharvestable_pods": -241840.23339699997,
           "unharvestable_ratio": -5.982635310777127,
           "value": -5.982635310777127,
           "variable": "unharvestable_ratio"
          },
          {
           "harvestable_pods": 28586.774829,
           "harvested_pods": 314760.900618,
           "season": 385,
           "timestamp": "2021-08-22T00:00:09",
           "unharvestable_pods": -294805.731836,
           "unharvestable_ratio": -6.073216478484693,
           "value": -6.073216478484693,
           "variable": "unharvestable_ratio"
          },
          {
           "harvestable_pods": 28586.774829,
           "harvested_pods": 314760.900618,
           "season": 385,
           "timestamp": "2021-08-22T00:00:09",
           "unharvestable_pods": -294805.731836,
           "unharvestable_ratio": -6.073216478484693,
           "value": 28586.774829,
           "variable": "harvestable_pods"
          },
          {
           "harvestable_pods": 28586.774829,
           "harvested_pods": 314760.900618,
           "season": 385,
           "timestamp": "2021-08-22T00:00:09",
           "unharvestable_pods": -294805.731836,
           "unharvestable_ratio": -6.073216478484693,
           "value": 314760.900618,
           "variable": "harvested_pods"
          },
          {
           "harvestable_pods": 28586.774829,
           "harvested_pods": 314760.900618,
           "season": 385,
           "timestamp": "2021-08-22T00:00:09",
           "unharvestable_pods": -294805.731836,
           "unharvestable_ratio": -6.073216478484693,
           "value": -294805.731836,
           "variable": "unharvestable_pods"
          },
          {
           "harvestable_pods": 46759.331894,
           "harvested_pods": 314760.900618,
           "season": 409,
           "timestamp": "2021-08-23T00:00:29",
           "unharvestable_pods": -319655.962397,
           "unharvestable_ratio": -7.635531719982549,
           "value": -319655.962397,
           "variable": "unharvestable_pods"
          },
          {
           "harvestable_pods": 46759.331894,
           "harvested_pods": 314760.900618,
           "season": 409,
           "timestamp": "2021-08-23T00:00:29",
           "unharvestable_pods": -319655.962397,
           "unharvestable_ratio": -7.635531719982549,
           "value": 314760.900618,
           "variable": "harvested_pods"
          },
          {
           "harvestable_pods": 46759.331894,
           "harvested_pods": 314760.900618,
           "season": 409,
           "timestamp": "2021-08-23T00:00:29",
           "unharvestable_pods": -319655.962397,
           "unharvestable_ratio": -7.635531719982549,
           "value": 46759.331894,
           "variable": "harvestable_pods"
          },
          {
           "harvestable_pods": 46759.331894,
           "harvested_pods": 314760.900618,
           "season": 409,
           "timestamp": "2021-08-23T00:00:29",
           "unharvestable_pods": -319655.962397,
           "unharvestable_ratio": -7.635531719982549,
           "value": -7.635531719982549,
           "variable": "unharvestable_ratio"
          },
          {
           "harvestable_pods": 34272.659944000014,
           "harvested_pods": 331032.2237,
           "season": 433,
           "timestamp": "2021-08-24T00:00:01",
           "unharvestable_pods": -326075.264661,
           "unharvestable_ratio": -8.311966139724769,
           "value": 34272.659944000014,
           "variable": "harvestable_pods"
          },
          {
           "harvestable_pods": 34272.659944000014,
           "harvested_pods": 331032.2237,
           "season": 433,
           "timestamp": "2021-08-24T00:00:01",
           "unharvestable_pods": -326075.264661,
           "unharvestable_ratio": -8.311966139724769,
           "value": -8.311966139724769,
           "variable": "unharvestable_ratio"
          },
          {
           "harvestable_pods": 34272.659944000014,
           "harvested_pods": 331032.2237,
           "season": 433,
           "timestamp": "2021-08-24T00:00:01",
           "unharvestable_pods": -326075.264661,
           "unharvestable_ratio": -8.311966139724769,
           "value": -326075.264661,
           "variable": "unharvestable_pods"
          },
          {
           "harvestable_pods": 34272.659944000014,
           "harvested_pods": 331032.2237,
           "season": 433,
           "timestamp": "2021-08-24T00:00:01",
           "unharvestable_pods": -326075.264661,
           "unharvestable_ratio": -8.311966139724769,
           "value": 331032.2237,
           "variable": "harvested_pods"
          },
          {
           "harvestable_pods": 52124.72387300001,
           "harvested_pods": 360937.2237,
           "season": 457,
           "timestamp": "2021-08-25T00:00:23",
           "unharvestable_pods": -315515.22571699996,
           "unharvestable_ratio": -3.2345036277361374,
           "value": -315515.22571699996,
           "variable": "unharvestable_pods"
          },
          {
           "harvestable_pods": 52124.72387300001,
           "harvested_pods": 360937.2237,
           "season": 457,
           "timestamp": "2021-08-25T00:00:23",
           "unharvestable_pods": -315515.22571699996,
           "unharvestable_ratio": -3.2345036277361374,
           "value": 360937.2237,
           "variable": "harvested_pods"
          },
          {
           "harvestable_pods": 52124.72387300001,
           "harvested_pods": 360937.2237,
           "season": 457,
           "timestamp": "2021-08-25T00:00:23",
           "unharvestable_pods": -315515.22571699996,
           "unharvestable_ratio": -3.2345036277361374,
           "value": 52124.72387300001,
           "variable": "harvestable_pods"
          },
          {
           "harvestable_pods": 52124.72387300001,
           "harvested_pods": 360937.2237,
           "season": 457,
           "timestamp": "2021-08-25T00:00:23",
           "unharvestable_pods": -315515.22571699996,
           "unharvestable_ratio": -3.2345036277361374,
           "value": -3.2345036277361374,
           "variable": "unharvestable_ratio"
          },
          {
           "harvestable_pods": 11522.604041000013,
           "harvested_pods": 481553.509585,
           "season": 481,
           "timestamp": "2021-08-26T00:00:49",
           "unharvestable_pods": -432980.637823,
           "unharvestable_ratio": -7.204879103418055,
           "value": -7.204879103418055,
           "variable": "unharvestable_ratio"
          },
          {
           "harvestable_pods": 11522.604041000013,
           "harvested_pods": 481553.509585,
           "season": 481,
           "timestamp": "2021-08-26T00:00:49",
           "unharvestable_pods": -432980.637823,
           "unharvestable_ratio": -7.204879103418055,
           "value": -432980.637823,
           "variable": "unharvestable_pods"
          },
          {
           "harvestable_pods": 11522.604041000013,
           "harvested_pods": 481553.509585,
           "season": 481,
           "timestamp": "2021-08-26T00:00:49",
           "unharvestable_pods": -432980.637823,
           "unharvestable_ratio": -7.204879103418055,
           "value": 481553.509585,
           "variable": "harvested_pods"
          },
          {
           "harvestable_pods": 11522.604041000013,
           "harvested_pods": 481553.509585,
           "season": 481,
           "timestamp": "2021-08-26T00:00:49",
           "unharvestable_pods": -432980.637823,
           "unharvestable_ratio": -7.204879103418055,
           "value": 11522.604041000013,
           "variable": "harvestable_pods"
          },
          {
           "harvestable_pods": 79987.43674400006,
           "harvested_pods": 530358.688293,
           "season": 505,
           "timestamp": "2021-08-27T00:02:11",
           "unharvestable_pods": -610346.125037,
           "unharvestable_ratio": null,
           "value": 79987.43674400006,
           "variable": "harvestable_pods"
          },
          {
           "harvestable_pods": 79987.43674400006,
           "harvested_pods": 530358.688293,
           "season": 505,
           "timestamp": "2021-08-27T00:02:11",
           "unharvestable_pods": -610346.125037,
           "unharvestable_ratio": null,
           "value": null,
           "variable": "unharvestable_ratio"
          },
          {
           "harvestable_pods": 79987.43674400006,
           "harvested_pods": 530358.688293,
           "season": 505,
           "timestamp": "2021-08-27T00:02:11",
           "unharvestable_pods": -610346.125037,
           "unharvestable_ratio": null,
           "value": -610346.125037,
           "variable": "unharvestable_pods"
          },
          {
           "harvestable_pods": 79987.43674400006,
           "harvested_pods": 530358.688293,
           "season": 505,
           "timestamp": "2021-08-27T00:02:11",
           "unharvestable_pods": -610346.125037,
           "unharvestable_ratio": null,
           "value": 530358.688293,
           "variable": "harvested_pods"
          },
          {
           "harvestable_pods": 54913.30305400002,
           "harvested_pods": 564828.688293,
           "season": 529,
           "timestamp": "2021-08-28T00:05:42",
           "unharvestable_pods": -613144.69227,
           "unharvestable_ratio": -92.93874434275553,
           "value": -92.93874434275553,
           "variable": "unharvestable_ratio"
          },
          {
           "harvestable_pods": 54913.30305400002,
           "harvested_pods": 564828.688293,
           "season": 529,
           "timestamp": "2021-08-28T00:05:42",
           "unharvestable_pods": -613144.69227,
           "unharvestable_ratio": -92.93874434275553,
           "value": 54913.30305400002,
           "variable": "harvestable_pods"
          },
          {
           "harvestable_pods": 54913.30305400002,
           "harvested_pods": 564828.688293,
           "season": 529,
           "timestamp": "2021-08-28T00:05:42",
           "unharvestable_pods": -613144.69227,
           "unharvestable_ratio": -92.93874434275553,
           "value": 564828.688293,
           "variable": "harvested_pods"
          },
          {
           "harvestable_pods": 54913.30305400002,
           "harvested_pods": 564828.688293,
           "season": 529,
           "timestamp": "2021-08-28T00:05:42",
           "unharvestable_pods": -613144.69227,
           "unharvestable_ratio": -92.93874434275553,
           "value": -613144.69227,
           "variable": "unharvestable_pods"
          },
          {
           "harvestable_pods": 33700.57765800005,
           "harvested_pods": 593623.85368,
           "season": 553,
           "timestamp": "2021-08-29T00:00:21",
           "unharvestable_pods": -617920.460374,
           "unharvestable_ratio": -65.70846111068448,
           "value": -617920.460374,
           "variable": "unharvestable_pods"
          },
          {
           "harvestable_pods": 33700.57765800005,
           "harvested_pods": 593623.85368,
           "season": 553,
           "timestamp": "2021-08-29T00:00:21",
           "unharvestable_pods": -617920.460374,
           "unharvestable_ratio": -65.70846111068448,
           "value": 593623.85368,
           "variable": "harvested_pods"
          },
          {
           "harvestable_pods": 33700.57765800005,
           "harvested_pods": 593623.85368,
           "season": 553,
           "timestamp": "2021-08-29T00:00:21",
           "unharvestable_pods": -617920.460374,
           "unharvestable_ratio": -65.70846111068448,
           "value": 33700.57765800005,
           "variable": "harvestable_pods"
          },
          {
           "harvestable_pods": 33700.57765800005,
           "harvested_pods": 593623.85368,
           "season": 553,
           "timestamp": "2021-08-29T00:00:21",
           "unharvestable_pods": -617920.460374,
           "unharvestable_ratio": -65.70846111068448,
           "value": -65.70846111068448,
           "variable": "unharvestable_ratio"
          },
          {
           "harvestable_pods": 53404.54862200003,
           "harvested_pods": 593623.85368,
           "season": 577,
           "timestamp": "2021-08-30T00:00:41",
           "unharvestable_pods": -647028.402302,
           "unharvestable_ratio": null,
           "value": 53404.54862200003,
           "variable": "harvestable_pods"
          },
          {
           "harvestable_pods": 53404.54862200003,
           "harvested_pods": 593623.85368,
           "season": 577,
           "timestamp": "2021-08-30T00:00:41",
           "unharvestable_pods": -647028.402302,
           "unharvestable_ratio": null,
           "value": null,
           "variable": "unharvestable_ratio"
          },
          {
           "harvestable_pods": 53404.54862200003,
           "harvested_pods": 593623.85368,
           "season": 577,
           "timestamp": "2021-08-30T00:00:41",
           "unharvestable_pods": -647028.402302,
           "unharvestable_ratio": null,
           "value": -647028.402302,
           "variable": "unharvestable_pods"
          },
          {
           "harvestable_pods": 53404.54862200003,
           "harvested_pods": 593623.85368,
           "season": 577,
           "timestamp": "2021-08-30T00:00:41",
           "unharvestable_pods": -647028.402302,
           "unharvestable_ratio": null,
           "value": 593623.85368,
           "variable": "harvested_pods"
          },
          {
           "harvestable_pods": 53404.54862200003,
           "harvested_pods": 593623.85368,
           "season": 601,
           "timestamp": "2021-08-31T00:00:55",
           "unharvestable_pods": -647028.402302,
           "unharvestable_ratio": null,
           "value": -647028.402302,
           "variable": "unharvestable_pods"
          },
          {
           "harvestable_pods": 53404.54862200003,
           "harvested_pods": 593623.85368,
           "season": 601,
           "timestamp": "2021-08-31T00:00:55",
           "unharvestable_pods": -647028.402302,
           "unharvestable_ratio": null,
           "value": 593623.85368,
           "variable": "harvested_pods"
          },
          {
           "harvestable_pods": 53404.54862200003,
           "harvested_pods": 593623.85368,
           "season": 601,
           "timestamp": "2021-08-31T00:00:55",
           "unharvestable_pods": -647028.402302,
           "unharvestable_ratio": null,
           "value": 53404.54862200003,
           "variable": "harvestable_pods"
          },
          {
           "harvestable_pods": 53404.54862200003,
           "harvested_pods": 593623.85368,
           "season": 601,
           "timestamp": "2021-08-31T00:00:55",
           "unharvestable_pods": -647028.402302,
           "unharvestable_ratio": null,
           "value": null,
           "variable": "unharvestable_ratio"
          },
          {
           "harvestable_pods": 40108.12784699991,
           "harvested_pods": 612737.220849,
           "season": 625,
           "timestamp": "2021-09-01T00:00:46",
           "unharvestable_pods": -646622.2950899999,
           "unharvestable_ratio": -103.90755664816298,
           "value": -103.90755664816298,
           "variable": "unharvestable_ratio"
          },
          {
           "harvestable_pods": 40108.12784699991,
           "harvested_pods": 612737.220849,
           "season": 625,
           "timestamp": "2021-09-01T00:00:46",
           "unharvestable_pods": -646622.2950899999,
           "unharvestable_ratio": -103.90755664816298,
           "value": -646622.2950899999,
           "variable": "unharvestable_pods"
          },
          {
           "harvestable_pods": 40108.12784699991,
           "harvested_pods": 612737.220849,
           "season": 625,
           "timestamp": "2021-09-01T00:00:46",
           "unharvestable_pods": -646622.2950899999,
           "unharvestable_ratio": -103.90755664816298,
           "value": 612737.220849,
           "variable": "harvested_pods"
          },
          {
           "harvestable_pods": 40108.12784699991,
           "harvested_pods": 612737.220849,
           "season": 625,
           "timestamp": "2021-09-01T00:00:46",
           "unharvestable_pods": -646622.2950899999,
           "unharvestable_ratio": -103.90755664816298,
           "value": 40108.12784699991,
           "variable": "harvestable_pods"
          },
          {
           "harvestable_pods": 39282.219956999994,
           "harvested_pods": 630808.81999,
           "season": 649,
           "timestamp": "2021-09-02T00:02:18",
           "unharvestable_pods": -669026.281619,
           "unharvestable_ratio": -628.3362750265336,
           "value": 39282.219956999994,
           "variable": "harvestable_pods"
          },
          {
           "harvestable_pods": 39282.219956999994,
           "harvested_pods": 630808.81999,
           "season": 649,
           "timestamp": "2021-09-02T00:02:18",
           "unharvestable_pods": -669026.281619,
           "unharvestable_ratio": -628.3362750265336,
           "value": -628.3362750265336,
           "variable": "unharvestable_ratio"
          },
          {
           "harvestable_pods": 39282.219956999994,
           "harvested_pods": 630808.81999,
           "season": 649,
           "timestamp": "2021-09-02T00:02:18",
           "unharvestable_pods": -669026.281619,
           "unharvestable_ratio": -628.3362750265336,
           "value": -669026.281619,
           "variable": "unharvestable_pods"
          },
          {
           "harvestable_pods": 39282.219956999994,
           "harvested_pods": 630808.81999,
           "season": 649,
           "timestamp": "2021-09-02T00:02:18",
           "unharvestable_pods": -669026.281619,
           "unharvestable_ratio": -628.3362750265336,
           "value": 630808.81999,
           "variable": "harvested_pods"
          },
          {
           "harvestable_pods": 32715.436743999948,
           "harvested_pods": 643689.146625,
           "season": 673,
           "timestamp": "2021-09-03T00:00:21",
           "unharvestable_pods": -672773.368463,
           "unharvestable_ratio": -185.27500736774076,
           "value": -672773.368463,
           "variable": "unharvestable_pods"
          },
          {
           "harvestable_pods": 32715.436743999948,
           "harvested_pods": 643689.146625,
           "season": 673,
           "timestamp": "2021-09-03T00:00:21",
           "unharvestable_pods": -672773.368463,
           "unharvestable_ratio": -185.27500736774076,
           "value": 643689.146625,
           "variable": "harvested_pods"
          },
          {
           "harvestable_pods": 32715.436743999948,
           "harvested_pods": 643689.146625,
           "season": 673,
           "timestamp": "2021-09-03T00:00:21",
           "unharvestable_pods": -672773.368463,
           "unharvestable_ratio": -185.27500736774076,
           "value": 32715.436743999948,
           "variable": "harvestable_pods"
          },
          {
           "harvestable_pods": 32715.436743999948,
           "harvested_pods": 643689.146625,
           "season": 673,
           "timestamp": "2021-09-03T00:00:21",
           "unharvestable_pods": -672773.368463,
           "unharvestable_ratio": -185.27500736774076,
           "value": -185.27500736774076,
           "variable": "unharvestable_ratio"
          },
          {
           "harvestable_pods": 43770.215079999994,
           "harvested_pods": 643689.146625,
           "season": 697,
           "timestamp": "2021-09-04T00:02:33",
           "unharvestable_pods": -663742.925135,
           "unharvestable_ratio": -27.986621142511712,
           "value": -663742.925135,
           "variable": "unharvestable_pods"
          },
          {
           "harvestable_pods": 43770.215079999994,
           "harvested_pods": 643689.146625,
           "season": 697,
           "timestamp": "2021-09-04T00:02:33",
           "unharvestable_pods": -663742.925135,
           "unharvestable_ratio": -27.986621142511712,
           "value": 643689.146625,
           "variable": "harvested_pods"
          },
          {
           "harvestable_pods": 43770.215079999994,
           "harvested_pods": 643689.146625,
           "season": 697,
           "timestamp": "2021-09-04T00:02:33",
           "unharvestable_pods": -663742.925135,
           "unharvestable_ratio": -27.986621142511712,
           "value": 43770.215079999994,
           "variable": "harvestable_pods"
          },
          {
           "harvestable_pods": 43770.215079999994,
           "harvested_pods": 643689.146625,
           "season": 697,
           "timestamp": "2021-09-04T00:02:33",
           "unharvestable_pods": -663742.925135,
           "unharvestable_ratio": -27.986621142511712,
           "value": -27.986621142511712,
           "variable": "unharvestable_ratio"
          },
          {
           "harvestable_pods": 3010.009844999993,
           "harvested_pods": 703473.4368,
           "season": 721,
           "timestamp": "2021-09-05T00:02:38",
           "unharvestable_pods": -606936.725738,
           "unharvestable_ratio": -6.097003700453593,
           "value": -6.097003700453593,
           "variable": "unharvestable_ratio"
          },
          {
           "harvestable_pods": 3010.009844999993,
           "harvested_pods": 703473.4368,
           "season": 721,
           "timestamp": "2021-09-05T00:02:38",
           "unharvestable_pods": -606936.725738,
           "unharvestable_ratio": -6.097003700453593,
           "value": 3010.009844999993,
           "variable": "harvestable_pods"
          },
          {
           "harvestable_pods": 3010.009844999993,
           "harvested_pods": 703473.4368,
           "season": 721,
           "timestamp": "2021-09-05T00:02:38",
           "unharvestable_pods": -606936.725738,
           "unharvestable_ratio": -6.097003700453593,
           "value": 703473.4368,
           "variable": "harvested_pods"
          },
          {
           "harvestable_pods": 3010.009844999993,
           "harvested_pods": 703473.4368,
           "season": 721,
           "timestamp": "2021-09-05T00:02:38",
           "unharvestable_pods": -606936.725738,
           "unharvestable_ratio": -6.097003700453593,
           "value": -606936.725738,
           "variable": "unharvestable_pods"
          },
          {
           "harvestable_pods": 27614.523297999986,
           "harvested_pods": 710912.291775,
           "season": 745,
           "timestamp": "2021-09-06T00:00:31",
           "unharvestable_pods": -613008.14375,
           "unharvestable_ratio": -4.883800452066072,
           "value": -613008.14375,
           "variable": "unharvestable_pods"
          },
          {
           "harvestable_pods": 27614.523297999986,
           "harvested_pods": 710912.291775,
           "season": 745,
           "timestamp": "2021-09-06T00:00:31",
           "unharvestable_pods": -613008.14375,
           "unharvestable_ratio": -4.883800452066072,
           "value": 710912.291775,
           "variable": "harvested_pods"
          },
          {
           "harvestable_pods": 27614.523297999986,
           "harvested_pods": 710912.291775,
           "season": 745,
           "timestamp": "2021-09-06T00:00:31",
           "unharvestable_pods": -613008.14375,
           "unharvestable_ratio": -4.883800452066072,
           "value": 27614.523297999986,
           "variable": "harvestable_pods"
          },
          {
           "harvestable_pods": 27614.523297999986,
           "harvested_pods": 710912.291775,
           "season": 745,
           "timestamp": "2021-09-06T00:00:31",
           "unharvestable_pods": -613008.14375,
           "unharvestable_ratio": -4.883800452066072,
           "value": -4.883800452066072,
           "variable": "unharvestable_ratio"
          },
          {
           "harvestable_pods": 30826.41968499997,
           "harvested_pods": 758006.590898,
           "season": 769,
           "timestamp": "2021-09-07T00:00:25",
           "unharvestable_pods": -703290.078354,
           "unharvestable_ratio": -8.221486685437432,
           "value": -703290.078354,
           "variable": "unharvestable_pods"
          },
          {
           "harvestable_pods": 30826.41968499997,
           "harvested_pods": 758006.590898,
           "season": 769,
           "timestamp": "2021-09-07T00:00:25",
           "unharvestable_pods": -703290.078354,
           "unharvestable_ratio": -8.221486685437432,
           "value": 758006.590898,
           "variable": "harvested_pods"
          },
          {
           "harvestable_pods": 30826.41968499997,
           "harvested_pods": 758006.590898,
           "season": 769,
           "timestamp": "2021-09-07T00:00:25",
           "unharvestable_pods": -703290.078354,
           "unharvestable_ratio": -8.221486685437432,
           "value": 30826.41968499997,
           "variable": "harvestable_pods"
          },
          {
           "harvestable_pods": 30826.41968499997,
           "harvested_pods": 758006.590898,
           "season": 769,
           "timestamp": "2021-09-07T00:00:25",
           "unharvestable_pods": -703290.078354,
           "unharvestable_ratio": -8.221486685437432,
           "value": -8.221486685437432,
           "variable": "unharvestable_ratio"
          },
          {
           "harvestable_pods": 116369.351914,
           "harvested_pods": 758006.590898,
           "season": 793,
           "timestamp": "2021-09-08T00:00:43",
           "unharvestable_pods": -874375.942812,
           "unharvestable_ratio": null,
           "value": null,
           "variable": "unharvestable_ratio"
          },
          {
           "harvestable_pods": 116369.351914,
           "harvested_pods": 758006.590898,
           "season": 793,
           "timestamp": "2021-09-08T00:00:43",
           "unharvestable_pods": -874375.942812,
           "unharvestable_ratio": null,
           "value": 758006.590898,
           "variable": "harvested_pods"
          },
          {
           "harvestable_pods": 116369.351914,
           "harvested_pods": 758006.590898,
           "season": 793,
           "timestamp": "2021-09-08T00:00:43",
           "unharvestable_pods": -874375.942812,
           "unharvestable_ratio": null,
           "value": -874375.942812,
           "variable": "unharvestable_pods"
          },
          {
           "harvestable_pods": 116369.351914,
           "harvested_pods": 758006.590898,
           "season": 793,
           "timestamp": "2021-09-08T00:00:43",
           "unharvestable_pods": -874375.942812,
           "unharvestable_ratio": null,
           "value": 116369.351914,
           "variable": "harvestable_pods"
          },
          {
           "harvestable_pods": 111662.63340399996,
           "harvested_pods": 784201.640921,
           "season": 817,
           "timestamp": "2021-09-09T00:00:36",
           "unharvestable_pods": -882127.484676,
           "unharvestable_ratio": -64.21642226575234,
           "value": -882127.484676,
           "variable": "unharvestable_pods"
          },
          {
           "harvestable_pods": 111662.63340399996,
           "harvested_pods": 784201.640921,
           "season": 817,
           "timestamp": "2021-09-09T00:00:36",
           "unharvestable_pods": -882127.484676,
           "unharvestable_ratio": -64.21642226575234,
           "value": 784201.640921,
           "variable": "harvested_pods"
          },
          {
           "harvestable_pods": 111662.63340399996,
           "harvested_pods": 784201.640921,
           "season": 817,
           "timestamp": "2021-09-09T00:00:36",
           "unharvestable_pods": -882127.484676,
           "unharvestable_ratio": -64.21642226575234,
           "value": 111662.63340399996,
           "variable": "harvestable_pods"
          },
          {
           "harvestable_pods": 111662.63340399996,
           "harvested_pods": 784201.640921,
           "season": 817,
           "timestamp": "2021-09-09T00:00:36",
           "unharvestable_pods": -882127.484676,
           "unharvestable_ratio": -64.21642226575234,
           "value": -64.21642226575234,
           "variable": "unharvestable_ratio"
          },
          {
           "harvestable_pods": 75915.45785899996,
           "harvested_pods": 832681.871582,
           "season": 841,
           "timestamp": "2021-09-10T00:00:47",
           "unharvestable_pods": -848490.540704,
           "unharvestable_ratio": -14.116384497208944,
           "value": -14.116384497208944,
           "variable": "unharvestable_ratio"
          },
          {
           "harvestable_pods": 75915.45785899996,
           "harvested_pods": 832681.871582,
           "season": 841,
           "timestamp": "2021-09-10T00:00:47",
           "unharvestable_pods": -848490.540704,
           "unharvestable_ratio": -14.116384497208944,
           "value": -848490.540704,
           "variable": "unharvestable_pods"
          },
          {
           "harvestable_pods": 75915.45785899996,
           "harvested_pods": 832681.871582,
           "season": 841,
           "timestamp": "2021-09-10T00:00:47",
           "unharvestable_pods": -848490.540704,
           "unharvestable_ratio": -14.116384497208944,
           "value": 832681.871582,
           "variable": "harvested_pods"
          },
          {
           "harvestable_pods": 75915.45785899996,
           "harvested_pods": 832681.871582,
           "season": 841,
           "timestamp": "2021-09-10T00:00:47",
           "unharvestable_pods": -848490.540704,
           "unharvestable_ratio": -14.116384497208944,
           "value": 75915.45785899996,
           "variable": "harvestable_pods"
          },
          {
           "harvestable_pods": 82715.50115200004,
           "harvested_pods": 873427.751646,
           "season": 865,
           "timestamp": "2021-09-11T00:00:25",
           "unharvestable_pods": -916467.140207,
           "unharvestable_ratio": -23.09871306330773,
           "value": -23.09871306330773,
           "variable": "unharvestable_ratio"
          },
          {
           "harvestable_pods": 82715.50115200004,
           "harvested_pods": 873427.751646,
           "season": 865,
           "timestamp": "2021-09-11T00:00:25",
           "unharvestable_pods": -916467.140207,
           "unharvestable_ratio": -23.09871306330773,
           "value": 82715.50115200004,
           "variable": "harvestable_pods"
          },
          {
           "harvestable_pods": 82715.50115200004,
           "harvested_pods": 873427.751646,
           "season": 865,
           "timestamp": "2021-09-11T00:00:25",
           "unharvestable_pods": -916467.140207,
           "unharvestable_ratio": -23.09871306330773,
           "value": -916467.140207,
           "variable": "unharvestable_pods"
          },
          {
           "harvestable_pods": 82715.50115200004,
           "harvested_pods": 873427.751646,
           "season": 865,
           "timestamp": "2021-09-11T00:00:25",
           "unharvestable_pods": -916467.140207,
           "unharvestable_ratio": -23.09871306330773,
           "value": 873427.751646,
           "variable": "harvested_pods"
          },
          {
           "harvestable_pods": 43355.370027999976,
           "harvested_pods": 937356.244186,
           "season": 889,
           "timestamp": "2021-09-12T00:00:06",
           "unharvestable_pods": -926621.8913629999,
           "unharvestable_ratio": -17.131200577890716,
           "value": 43355.370027999976,
           "variable": "harvestable_pods"
          },
          {
           "harvestable_pods": 43355.370027999976,
           "harvested_pods": 937356.244186,
           "season": 889,
           "timestamp": "2021-09-12T00:00:06",
           "unharvestable_pods": -926621.8913629999,
           "unharvestable_ratio": -17.131200577890716,
           "value": -926621.8913629999,
           "variable": "unharvestable_pods"
          },
          {
           "harvestable_pods": 43355.370027999976,
           "harvested_pods": 937356.244186,
           "season": 889,
           "timestamp": "2021-09-12T00:00:06",
           "unharvestable_pods": -926621.8913629999,
           "unharvestable_ratio": -17.131200577890716,
           "value": 937356.244186,
           "variable": "harvested_pods"
          },
          {
           "harvestable_pods": 43355.370027999976,
           "harvested_pods": 937356.244186,
           "season": 889,
           "timestamp": "2021-09-12T00:00:06",
           "unharvestable_pods": -926621.8913629999,
           "unharvestable_ratio": -17.131200577890716,
           "value": -17.131200577890716,
           "variable": "unharvestable_ratio"
          },
          {
           "harvestable_pods": 30500.24680600001,
           "harvested_pods": 976330.024314,
           "season": 913,
           "timestamp": "2021-09-13T00:00:34",
           "unharvestable_pods": -917586.7416020001,
           "unharvestable_ratio": -10.281829355672528,
           "value": -10.281829355672528,
           "variable": "unharvestable_ratio"
          },
          {
           "harvestable_pods": 30500.24680600001,
           "harvested_pods": 976330.024314,
           "season": 913,
           "timestamp": "2021-09-13T00:00:34",
           "unharvestable_pods": -917586.7416020001,
           "unharvestable_ratio": -10.281829355672528,
           "value": 30500.24680600001,
           "variable": "harvestable_pods"
          },
          {
           "harvestable_pods": 30500.24680600001,
           "harvested_pods": 976330.024314,
           "season": 913,
           "timestamp": "2021-09-13T00:00:34",
           "unharvestable_pods": -917586.7416020001,
           "unharvestable_ratio": -10.281829355672528,
           "value": 976330.024314,
           "variable": "harvested_pods"
          },
          {
           "harvestable_pods": 30500.24680600001,
           "harvested_pods": 976330.024314,
           "season": 913,
           "timestamp": "2021-09-13T00:00:34",
           "unharvestable_pods": -917586.7416020001,
           "unharvestable_ratio": -10.281829355672528,
           "value": -917586.7416020001,
           "variable": "unharvestable_pods"
          },
          {
           "harvestable_pods": 89057.04180500004,
           "harvested_pods": 993469.008135,
           "season": 937,
           "timestamp": "2021-09-14T00:01:09",
           "unharvestable_pods": -1058136.368978,
           "unharvestable_ratio": -43.38459246870078,
           "value": -1058136.368978,
           "variable": "unharvestable_pods"
          },
          {
           "harvestable_pods": 89057.04180500004,
           "harvested_pods": 993469.008135,
           "season": 937,
           "timestamp": "2021-09-14T00:01:09",
           "unharvestable_pods": -1058136.368978,
           "unharvestable_ratio": -43.38459246870078,
           "value": 993469.008135,
           "variable": "harvested_pods"
          },
          {
           "harvestable_pods": 89057.04180500004,
           "harvested_pods": 993469.008135,
           "season": 937,
           "timestamp": "2021-09-14T00:01:09",
           "unharvestable_pods": -1058136.368978,
           "unharvestable_ratio": -43.38459246870078,
           "value": 89057.04180500004,
           "variable": "harvestable_pods"
          },
          {
           "harvestable_pods": 89057.04180500004,
           "harvested_pods": 993469.008135,
           "season": 937,
           "timestamp": "2021-09-14T00:01:09",
           "unharvestable_pods": -1058136.368978,
           "unharvestable_ratio": -43.38459246870078,
           "value": -43.38459246870078,
           "variable": "unharvestable_ratio"
          },
          {
           "harvestable_pods": 42658.86335400003,
           "harvested_pods": 1068516.490149,
           "season": 961,
           "timestamp": "2021-09-15T00:00:38",
           "unharvestable_pods": -1078881.87745,
           "unharvestable_ratio": -33.40866358515698,
           "value": 42658.86335400003,
           "variable": "harvestable_pods"
          },
          {
           "harvestable_pods": 42658.86335400003,
           "harvested_pods": 1068516.490149,
           "season": 961,
           "timestamp": "2021-09-15T00:00:38",
           "unharvestable_pods": -1078881.87745,
           "unharvestable_ratio": -33.40866358515698,
           "value": -33.40866358515698,
           "variable": "unharvestable_ratio"
          },
          {
           "harvestable_pods": 42658.86335400003,
           "harvested_pods": 1068516.490149,
           "season": 961,
           "timestamp": "2021-09-15T00:00:38",
           "unharvestable_pods": -1078881.87745,
           "unharvestable_ratio": -33.40866358515698,
           "value": -1078881.87745,
           "variable": "unharvestable_pods"
          },
          {
           "harvestable_pods": 42658.86335400003,
           "harvested_pods": 1068516.490149,
           "season": 961,
           "timestamp": "2021-09-15T00:00:38",
           "unharvestable_pods": -1078881.87745,
           "unharvestable_ratio": -33.40866358515698,
           "value": 1068516.490149,
           "variable": "harvested_pods"
          },
          {
           "harvestable_pods": 29131.22802000004,
           "harvested_pods": 1114444.480103,
           "season": 985,
           "timestamp": "2021-09-16T00:00:42",
           "unharvestable_pods": -1143575.708123,
           "unharvestable_ratio": null,
           "value": -1143575.708123,
           "variable": "unharvestable_pods"
          },
          {
           "harvestable_pods": 29131.22802000004,
           "harvested_pods": 1114444.480103,
           "season": 985,
           "timestamp": "2021-09-16T00:00:42",
           "unharvestable_pods": -1143575.708123,
           "unharvestable_ratio": null,
           "value": 1114444.480103,
           "variable": "harvested_pods"
          },
          {
           "harvestable_pods": 29131.22802000004,
           "harvested_pods": 1114444.480103,
           "season": 985,
           "timestamp": "2021-09-16T00:00:42",
           "unharvestable_pods": -1143575.708123,
           "unharvestable_ratio": null,
           "value": 29131.22802000004,
           "variable": "harvestable_pods"
          },
          {
           "harvestable_pods": 29131.22802000004,
           "harvested_pods": 1114444.480103,
           "season": 985,
           "timestamp": "2021-09-16T00:00:42",
           "unharvestable_pods": -1143575.708123,
           "unharvestable_ratio": null,
           "value": null,
           "variable": "unharvestable_ratio"
          },
          {
           "harvestable_pods": 29476.81179299997,
           "harvested_pods": 1164021.465089,
           "season": 1009,
           "timestamp": "2021-09-17T00:00:26",
           "unharvestable_pods": -1190445.412196,
           "unharvestable_ratio": -389.9437199608657,
           "value": -389.9437199608657,
           "variable": "unharvestable_ratio"
          },
          {
           "harvestable_pods": 29476.81179299997,
           "harvested_pods": 1164021.465089,
           "season": 1009,
           "timestamp": "2021-09-17T00:00:26",
           "unharvestable_pods": -1190445.412196,
           "unharvestable_ratio": -389.9437199608657,
           "value": -1190445.412196,
           "variable": "unharvestable_pods"
          },
          {
           "harvestable_pods": 29476.81179299997,
           "harvested_pods": 1164021.465089,
           "season": 1009,
           "timestamp": "2021-09-17T00:00:26",
           "unharvestable_pods": -1190445.412196,
           "unharvestable_ratio": -389.9437199608657,
           "value": 1164021.465089,
           "variable": "harvested_pods"
          },
          {
           "harvestable_pods": 29476.81179299997,
           "harvested_pods": 1164021.465089,
           "season": 1009,
           "timestamp": "2021-09-17T00:00:26",
           "unharvestable_pods": -1190445.412196,
           "unharvestable_ratio": -389.9437199608657,
           "value": 29476.81179299997,
           "variable": "harvestable_pods"
          },
          {
           "harvestable_pods": 29948.2261630001,
           "harvested_pods": 1292018.380774,
           "season": 1033,
           "timestamp": "2021-09-18T00:01:18",
           "unharvestable_pods": -1304186.421915,
           "unharvestable_ratio": -73.35055401849237,
           "value": 1292018.380774,
           "variable": "harvested_pods"
          },
          {
           "harvestable_pods": 29948.2261630001,
           "harvested_pods": 1292018.380774,
           "season": 1033,
           "timestamp": "2021-09-18T00:01:18",
           "unharvestable_pods": -1304186.421915,
           "unharvestable_ratio": -73.35055401849237,
           "value": 29948.2261630001,
           "variable": "harvestable_pods"
          },
          {
           "harvestable_pods": 29948.2261630001,
           "harvested_pods": 1292018.380774,
           "season": 1033,
           "timestamp": "2021-09-18T00:01:18",
           "unharvestable_pods": -1304186.421915,
           "unharvestable_ratio": -73.35055401849237,
           "value": -1304186.421915,
           "variable": "unharvestable_pods"
          },
          {
           "harvestable_pods": 29948.2261630001,
           "harvested_pods": 1292018.380774,
           "season": 1033,
           "timestamp": "2021-09-18T00:01:18",
           "unharvestable_pods": -1304186.421915,
           "unharvestable_ratio": -73.35055401849237,
           "value": -73.35055401849237,
           "variable": "unharvestable_ratio"
          },
          {
           "harvestable_pods": 52890.86466099997,
           "harvested_pods": 1561259.973246,
           "season": 1057,
           "timestamp": "2021-09-19T00:00:06",
           "unharvestable_pods": -1608324.956468,
           "unharvestable_ratio": -276.06551443039075,
           "value": -276.06551443039075,
           "variable": "unharvestable_ratio"
          },
          {
           "harvestable_pods": 52890.86466099997,
           "harvested_pods": 1561259.973246,
           "season": 1057,
           "timestamp": "2021-09-19T00:00:06",
           "unharvestable_pods": -1608324.956468,
           "unharvestable_ratio": -276.06551443039075,
           "value": 52890.86466099997,
           "variable": "harvestable_pods"
          },
          {
           "harvestable_pods": 52890.86466099997,
           "harvested_pods": 1561259.973246,
           "season": 1057,
           "timestamp": "2021-09-19T00:00:06",
           "unharvestable_pods": -1608324.956468,
           "unharvestable_ratio": -276.06551443039075,
           "value": -1608324.956468,
           "variable": "unharvestable_pods"
          },
          {
           "harvestable_pods": 52890.86466099997,
           "harvested_pods": 1561259.973246,
           "season": 1057,
           "timestamp": "2021-09-19T00:00:06",
           "unharvestable_pods": -1608324.956468,
           "unharvestable_ratio": -276.06551443039075,
           "value": 1561259.973246,
           "variable": "harvested_pods"
          },
          {
           "harvestable_pods": 18630.720659999875,
           "harvested_pods": 1709209.607215,
           "season": 1081,
           "timestamp": "2021-09-20T00:01:40",
           "unharvestable_pods": -1408143.266152,
           "unharvestable_ratio": -4.404617479318841,
           "value": -1408143.266152,
           "variable": "unharvestable_pods"
          },
          {
           "harvestable_pods": 18630.720659999875,
           "harvested_pods": 1709209.607215,
           "season": 1081,
           "timestamp": "2021-09-20T00:01:40",
           "unharvestable_pods": -1408143.266152,
           "unharvestable_ratio": -4.404617479318841,
           "value": 1709209.607215,
           "variable": "harvested_pods"
          },
          {
           "harvestable_pods": 18630.720659999875,
           "harvested_pods": 1709209.607215,
           "season": 1081,
           "timestamp": "2021-09-20T00:01:40",
           "unharvestable_pods": -1408143.266152,
           "unharvestable_ratio": -4.404617479318841,
           "value": 18630.720659999875,
           "variable": "harvestable_pods"
          },
          {
           "harvestable_pods": 18630.720659999875,
           "harvested_pods": 1709209.607215,
           "season": 1081,
           "timestamp": "2021-09-20T00:01:40",
           "unharvestable_pods": -1408143.266152,
           "unharvestable_ratio": -4.404617479318841,
           "value": -4.404617479318841,
           "variable": "unharvestable_ratio"
          },
          {
           "harvestable_pods": 5379.988659000024,
           "harvested_pods": 1722460.339216,
           "season": 1105,
           "timestamp": "2021-09-21T00:01:43",
           "unharvestable_pods": 1310933.3650429999,
           "unharvestable_ratio": 0.43140210411133595,
           "value": 5379.988659000024,
           "variable": "harvestable_pods"
          },
          {
           "harvestable_pods": 5379.988659000024,
           "harvested_pods": 1722460.339216,
           "season": 1105,
           "timestamp": "2021-09-21T00:01:43",
           "unharvestable_pods": 1310933.3650429999,
           "unharvestable_ratio": 0.43140210411133595,
           "value": 0.43140210411133595,
           "variable": "unharvestable_ratio"
          },
          {
           "harvestable_pods": 5379.988659000024,
           "harvested_pods": 1722460.339216,
           "season": 1105,
           "timestamp": "2021-09-21T00:01:43",
           "unharvestable_pods": 1310933.3650429999,
           "unharvestable_ratio": 0.43140210411133595,
           "value": 1310933.3650429999,
           "variable": "unharvestable_pods"
          },
          {
           "harvestable_pods": 5379.988659000024,
           "harvested_pods": 1722460.339216,
           "season": 1105,
           "timestamp": "2021-09-21T00:01:43",
           "unharvestable_pods": 1310933.3650429999,
           "unharvestable_ratio": 0.43140210411133595,
           "value": 1722460.339216,
           "variable": "harvested_pods"
          },
          {
           "harvestable_pods": 5135.569747000001,
           "harvested_pods": 1761835.650094,
           "season": 1129,
           "timestamp": "2021-09-22T00:00:16",
           "unharvestable_pods": 1749162.145036,
           "unharvestable_ratio": 0.49746752000608163,
           "value": 1749162.145036,
           "variable": "unharvestable_pods"
          },
          {
           "harvestable_pods": 5135.569747000001,
           "harvested_pods": 1761835.650094,
           "season": 1129,
           "timestamp": "2021-09-22T00:00:16",
           "unharvestable_pods": 1749162.145036,
           "unharvestable_ratio": 0.49746752000608163,
           "value": 1761835.650094,
           "variable": "harvested_pods"
          },
          {
           "harvestable_pods": 5135.569747000001,
           "harvested_pods": 1761835.650094,
           "season": 1129,
           "timestamp": "2021-09-22T00:00:16",
           "unharvestable_pods": 1749162.145036,
           "unharvestable_ratio": 0.49746752000608163,
           "value": 5135.569747000001,
           "variable": "harvestable_pods"
          },
          {
           "harvestable_pods": 5135.569747000001,
           "harvested_pods": 1761835.650094,
           "season": 1129,
           "timestamp": "2021-09-22T00:00:16",
           "unharvestable_pods": 1749162.145036,
           "unharvestable_ratio": 0.49746752000608163,
           "value": 0.49746752000608163,
           "variable": "unharvestable_ratio"
          },
          {
           "harvestable_pods": 5135.569747000001,
           "harvested_pods": 1761835.650094,
           "season": 1153,
           "timestamp": "2021-09-23T00:02:36",
           "unharvestable_pods": 1856346.8076160003,
           "unharvestable_ratio": 0.5123333898787968,
           "value": 0.5123333898787968,
           "variable": "unharvestable_ratio"
          },
          {
           "harvestable_pods": 5135.569747000001,
           "harvested_pods": 1761835.650094,
           "season": 1153,
           "timestamp": "2021-09-23T00:02:36",
           "unharvestable_pods": 1856346.8076160003,
           "unharvestable_ratio": 0.5123333898787968,
           "value": 1856346.8076160003,
           "variable": "unharvestable_pods"
          },
          {
           "harvestable_pods": 5135.569747000001,
           "harvested_pods": 1761835.650094,
           "season": 1153,
           "timestamp": "2021-09-23T00:02:36",
           "unharvestable_pods": 1856346.8076160003,
           "unharvestable_ratio": 0.5123333898787968,
           "value": 1761835.650094,
           "variable": "harvested_pods"
          },
          {
           "harvestable_pods": 5135.569747000001,
           "harvested_pods": 1761835.650094,
           "season": 1153,
           "timestamp": "2021-09-23T00:02:36",
           "unharvestable_pods": 1856346.8076160003,
           "unharvestable_ratio": 0.5123333898787968,
           "value": 5135.569747000001,
           "variable": "harvestable_pods"
          },
          {
           "harvestable_pods": 5135.569747000001,
           "harvested_pods": 1761835.650094,
           "season": 1177,
           "timestamp": "2021-09-24T00:00:19",
           "unharvestable_pods": 2351529.879768,
           "unharvestable_ratio": 0.5709674036486838,
           "value": 5135.569747000001,
           "variable": "harvestable_pods"
          },
          {
           "harvestable_pods": 5135.569747000001,
           "harvested_pods": 1761835.650094,
           "season": 1177,
           "timestamp": "2021-09-24T00:00:19",
           "unharvestable_pods": 2351529.879768,
           "unharvestable_ratio": 0.5709674036486838,
           "value": 0.5709674036486838,
           "variable": "unharvestable_ratio"
          },
          {
           "harvestable_pods": 5135.569747000001,
           "harvested_pods": 1761835.650094,
           "season": 1177,
           "timestamp": "2021-09-24T00:00:19",
           "unharvestable_pods": 2351529.879768,
           "unharvestable_ratio": 0.5709674036486838,
           "value": 2351529.879768,
           "variable": "unharvestable_pods"
          },
          {
           "harvestable_pods": 5135.569747000001,
           "harvested_pods": 1761835.650094,
           "season": 1177,
           "timestamp": "2021-09-24T00:00:19",
           "unharvestable_pods": 2351529.879768,
           "unharvestable_ratio": 0.5709674036486838,
           "value": 1761835.650094,
           "variable": "harvested_pods"
          },
          {
           "harvestable_pods": 5135.569747000001,
           "harvested_pods": 1761835.650094,
           "season": 1201,
           "timestamp": "2021-09-25T00:00:21",
           "unharvestable_pods": 2871975.965969,
           "unharvestable_ratio": 0.6191008112258835,
           "value": 2871975.965969,
           "variable": "unharvestable_pods"
          },
          {
           "harvestable_pods": 5135.569747000001,
           "harvested_pods": 1761835.650094,
           "season": 1201,
           "timestamp": "2021-09-25T00:00:21",
           "unharvestable_pods": 2871975.965969,
           "unharvestable_ratio": 0.6191008112258835,
           "value": 1761835.650094,
           "variable": "harvested_pods"
          },
          {
           "harvestable_pods": 5135.569747000001,
           "harvested_pods": 1761835.650094,
           "season": 1201,
           "timestamp": "2021-09-25T00:00:21",
           "unharvestable_pods": 2871975.965969,
           "unharvestable_ratio": 0.6191008112258835,
           "value": 5135.569747000001,
           "variable": "harvestable_pods"
          },
          {
           "harvestable_pods": 5135.569747000001,
           "harvested_pods": 1761835.650094,
           "season": 1201,
           "timestamp": "2021-09-25T00:00:21",
           "unharvestable_pods": 2871975.965969,
           "unharvestable_ratio": 0.6191008112258835,
           "value": 0.6191008112258835,
           "variable": "unharvestable_ratio"
          },
          {
           "harvestable_pods": 5135.569747000001,
           "harvested_pods": 1761835.650094,
           "season": 1225,
           "timestamp": "2021-09-26T00:00:25",
           "unharvestable_pods": 3555492.614283,
           "unharvestable_ratio": 0.6680163031804203,
           "value": 3555492.614283,
           "variable": "unharvestable_pods"
          },
          {
           "harvestable_pods": 5135.569747000001,
           "harvested_pods": 1761835.650094,
           "season": 1225,
           "timestamp": "2021-09-26T00:00:25",
           "unharvestable_pods": 3555492.614283,
           "unharvestable_ratio": 0.6680163031804203,
           "value": 1761835.650094,
           "variable": "harvested_pods"
          },
          {
           "harvestable_pods": 5135.569747000001,
           "harvested_pods": 1761835.650094,
           "season": 1225,
           "timestamp": "2021-09-26T00:00:25",
           "unharvestable_pods": 3555492.614283,
           "unharvestable_ratio": 0.6680163031804203,
           "value": 5135.569747000001,
           "variable": "harvestable_pods"
          },
          {
           "harvestable_pods": 5135.569747000001,
           "harvested_pods": 1761835.650094,
           "season": 1225,
           "timestamp": "2021-09-26T00:00:25",
           "unharvestable_pods": 3555492.614283,
           "unharvestable_ratio": 0.6680163031804203,
           "value": 0.6680163031804203,
           "variable": "unharvestable_ratio"
          },
          {
           "harvestable_pods": 5121.1078579998575,
           "harvested_pods": 1761850.111983,
           "season": 1249,
           "timestamp": "2021-09-27T00:00:01",
           "unharvestable_pods": 5071237.549070001,
           "unharvestable_ratio": 0.741603206401902,
           "value": 0.741603206401902,
           "variable": "unharvestable_ratio"
          },
          {
           "harvestable_pods": 5121.1078579998575,
           "harvested_pods": 1761850.111983,
           "season": 1249,
           "timestamp": "2021-09-27T00:00:01",
           "unharvestable_pods": 5071237.549070001,
           "unharvestable_ratio": 0.741603206401902,
           "value": 5121.1078579998575,
           "variable": "harvestable_pods"
          },
          {
           "harvestable_pods": 5121.1078579998575,
           "harvested_pods": 1761850.111983,
           "season": 1249,
           "timestamp": "2021-09-27T00:00:01",
           "unharvestable_pods": 5071237.549070001,
           "unharvestable_ratio": 0.741603206401902,
           "value": 1761850.111983,
           "variable": "harvested_pods"
          },
          {
           "harvestable_pods": 5121.1078579998575,
           "harvested_pods": 1761850.111983,
           "season": 1249,
           "timestamp": "2021-09-27T00:00:01",
           "unharvestable_pods": 5071237.549070001,
           "unharvestable_ratio": 0.741603206401902,
           "value": 5071237.549070001,
           "variable": "unharvestable_pods"
          },
          {
           "harvestable_pods": 5121.1078579998575,
           "harvested_pods": 1761850.111983,
           "season": 1273,
           "timestamp": "2021-09-28T00:00:06",
           "unharvestable_pods": 5906095.4669820005,
           "unharvestable_ratio": 0.7697177293043173,
           "value": 5906095.4669820005,
           "variable": "unharvestable_pods"
          },
          {
           "harvestable_pods": 5121.1078579998575,
           "harvested_pods": 1761850.111983,
           "season": 1273,
           "timestamp": "2021-09-28T00:00:06",
           "unharvestable_pods": 5906095.4669820005,
           "unharvestable_ratio": 0.7697177293043173,
           "value": 1761850.111983,
           "variable": "harvested_pods"
          },
          {
           "harvestable_pods": 5121.1078579998575,
           "harvested_pods": 1761850.111983,
           "season": 1273,
           "timestamp": "2021-09-28T00:00:06",
           "unharvestable_pods": 5906095.4669820005,
           "unharvestable_ratio": 0.7697177293043173,
           "value": 5121.1078579998575,
           "variable": "harvestable_pods"
          },
          {
           "harvestable_pods": 5121.1078579998575,
           "harvested_pods": 1761850.111983,
           "season": 1273,
           "timestamp": "2021-09-28T00:00:06",
           "unharvestable_pods": 5906095.4669820005,
           "unharvestable_ratio": 0.7697177293043173,
           "value": 0.7697177293043173,
           "variable": "unharvestable_ratio"
          },
          {
           "harvestable_pods": 5121.1078579998575,
           "harvested_pods": 1761850.111983,
           "season": 1297,
           "timestamp": "2021-09-29T00:00:20",
           "unharvestable_pods": 7795719.454109,
           "unharvestable_ratio": 0.8152223803856318,
           "value": 7795719.454109,
           "variable": "unharvestable_pods"
          },
          {
           "harvestable_pods": 5121.1078579998575,
           "harvested_pods": 1761850.111983,
           "season": 1297,
           "timestamp": "2021-09-29T00:00:20",
           "unharvestable_pods": 7795719.454109,
           "unharvestable_ratio": 0.8152223803856318,
           "value": 1761850.111983,
           "variable": "harvested_pods"
          },
          {
           "harvestable_pods": 5121.1078579998575,
           "harvested_pods": 1761850.111983,
           "season": 1297,
           "timestamp": "2021-09-29T00:00:20",
           "unharvestable_pods": 7795719.454109,
           "unharvestable_ratio": 0.8152223803856318,
           "value": 5121.1078579998575,
           "variable": "harvestable_pods"
          },
          {
           "harvestable_pods": 5121.1078579998575,
           "harvested_pods": 1761850.111983,
           "season": 1297,
           "timestamp": "2021-09-29T00:00:20",
           "unharvestable_pods": 7795719.454109,
           "unharvestable_ratio": 0.8152223803856318,
           "value": 0.8152223803856318,
           "variable": "unharvestable_ratio"
          },
          {
           "harvestable_pods": 5121.1078579998575,
           "harvested_pods": 1761850.111983,
           "season": 1321,
           "timestamp": "2021-09-30T00:01:52",
           "unharvestable_pods": 9042663.866529,
           "unharvestable_ratio": 0.8365373848679688,
           "value": 0.8365373848679688,
           "variable": "unharvestable_ratio"
          },
          {
           "harvestable_pods": 5121.1078579998575,
           "harvested_pods": 1761850.111983,
           "season": 1321,
           "timestamp": "2021-09-30T00:01:52",
           "unharvestable_pods": 9042663.866529,
           "unharvestable_ratio": 0.8365373848679688,
           "value": 5121.1078579998575,
           "variable": "harvestable_pods"
          },
          {
           "harvestable_pods": 5121.1078579998575,
           "harvested_pods": 1761850.111983,
           "season": 1321,
           "timestamp": "2021-09-30T00:01:52",
           "unharvestable_pods": 9042663.866529,
           "unharvestable_ratio": 0.8365373848679688,
           "value": 9042663.866529,
           "variable": "unharvestable_pods"
          },
          {
           "harvestable_pods": 5121.1078579998575,
           "harvested_pods": 1761850.111983,
           "season": 1321,
           "timestamp": "2021-09-30T00:01:52",
           "unharvestable_pods": 9042663.866529,
           "unharvestable_ratio": 0.8365373848679688,
           "value": 1761850.111983,
           "variable": "harvested_pods"
          },
          {
           "harvestable_pods": 9574.00044000009,
           "harvested_pods": 1774549.179391,
           "season": 1345,
           "timestamp": "2021-10-01T00:01:44",
           "unharvestable_pods": 11691123.524688,
           "unharvestable_ratio": 0.8675999616962349,
           "value": 11691123.524688,
           "variable": "unharvestable_pods"
          },
          {
           "harvestable_pods": 9574.00044000009,
           "harvested_pods": 1774549.179391,
           "season": 1345,
           "timestamp": "2021-10-01T00:01:44",
           "unharvestable_pods": 11691123.524688,
           "unharvestable_ratio": 0.8675999616962349,
           "value": 1774549.179391,
           "variable": "harvested_pods"
          },
          {
           "harvestable_pods": 9574.00044000009,
           "harvested_pods": 1774549.179391,
           "season": 1345,
           "timestamp": "2021-10-01T00:01:44",
           "unharvestable_pods": 11691123.524688,
           "unharvestable_ratio": 0.8675999616962349,
           "value": 9574.00044000009,
           "variable": "harvestable_pods"
          },
          {
           "harvestable_pods": 9574.00044000009,
           "harvested_pods": 1774549.179391,
           "season": 1345,
           "timestamp": "2021-10-01T00:01:44",
           "unharvestable_pods": 11691123.524688,
           "unharvestable_ratio": 0.8675999616962349,
           "value": 0.8675999616962349,
           "variable": "unharvestable_ratio"
          },
          {
           "harvestable_pods": 60024.322716000024,
           "harvested_pods": 1896184.947802,
           "season": 1369,
           "timestamp": "2021-10-02T00:00:44",
           "unharvestable_pods": 12300138.768626,
           "unharvestable_ratio": 0.8627832832681421,
           "value": 60024.322716000024,
           "variable": "harvestable_pods"
          },
          {
           "harvestable_pods": 60024.322716000024,
           "harvested_pods": 1896184.947802,
           "season": 1369,
           "timestamp": "2021-10-02T00:00:44",
           "unharvestable_pods": 12300138.768626,
           "unharvestable_ratio": 0.8627832832681421,
           "value": 0.8627832832681421,
           "variable": "unharvestable_ratio"
          },
          {
           "harvestable_pods": 60024.322716000024,
           "harvested_pods": 1896184.947802,
           "season": 1369,
           "timestamp": "2021-10-02T00:00:44",
           "unharvestable_pods": 12300138.768626,
           "unharvestable_ratio": 0.8627832832681421,
           "value": 12300138.768626,
           "variable": "unharvestable_pods"
          },
          {
           "harvestable_pods": 60024.322716000024,
           "harvested_pods": 1896184.947802,
           "season": 1369,
           "timestamp": "2021-10-02T00:00:44",
           "unharvestable_pods": 12300138.768626,
           "unharvestable_ratio": 0.8627832832681421,
           "value": 1896184.947802,
           "variable": "harvested_pods"
          },
          {
           "harvestable_pods": 42620.14066300006,
           "harvested_pods": 1913589.129855,
           "season": 1393,
           "timestamp": "2021-10-03T00:00:05",
           "unharvestable_pods": 12420975.749130001,
           "unharvestable_ratio": 0.8639365586625877,
           "value": 1913589.129855,
           "variable": "harvested_pods"
          },
          {
           "harvestable_pods": 42620.14066300006,
           "harvested_pods": 1913589.129855,
           "season": 1393,
           "timestamp": "2021-10-03T00:00:05",
           "unharvestable_pods": 12420975.749130001,
           "unharvestable_ratio": 0.8639365586625877,
           "value": 42620.14066300006,
           "variable": "harvestable_pods"
          },
          {
           "harvestable_pods": 42620.14066300006,
           "harvested_pods": 1913589.129855,
           "season": 1393,
           "timestamp": "2021-10-03T00:00:05",
           "unharvestable_pods": 12420975.749130001,
           "unharvestable_ratio": 0.8639365586625877,
           "value": 0.8639365586625877,
           "variable": "unharvestable_ratio"
          },
          {
           "harvestable_pods": 42620.14066300006,
           "harvested_pods": 1913589.129855,
           "season": 1393,
           "timestamp": "2021-10-03T00:00:05",
           "unharvestable_pods": 12420975.749130001,
           "unharvestable_ratio": 0.8639365586625877,
           "value": 12420975.749130001,
           "variable": "unharvestable_pods"
          },
          {
           "harvestable_pods": 42620.14066300006,
           "harvested_pods": 1913589.129855,
           "season": 1417,
           "timestamp": "2021-10-04T00:00:32",
           "unharvestable_pods": 13075868.837169,
           "unharvestable_ratio": 0.8698643489939261,
           "value": 13075868.837169,
           "variable": "unharvestable_pods"
          },
          {
           "harvestable_pods": 42620.14066300006,
           "harvested_pods": 1913589.129855,
           "season": 1417,
           "timestamp": "2021-10-04T00:00:32",
           "unharvestable_pods": 13075868.837169,
           "unharvestable_ratio": 0.8698643489939261,
           "value": 1913589.129855,
           "variable": "harvested_pods"
          },
          {
           "harvestable_pods": 42620.14066300006,
           "harvested_pods": 1913589.129855,
           "season": 1417,
           "timestamp": "2021-10-04T00:00:32",
           "unharvestable_pods": 13075868.837169,
           "unharvestable_ratio": 0.8698643489939261,
           "value": 42620.14066300006,
           "variable": "harvestable_pods"
          },
          {
           "harvestable_pods": 42620.14066300006,
           "harvested_pods": 1913589.129855,
           "season": 1417,
           "timestamp": "2021-10-04T00:00:32",
           "unharvestable_pods": 13075868.837169,
           "unharvestable_ratio": 0.8698643489939261,
           "value": 0.8698643489939261,
           "variable": "unharvestable_ratio"
          },
          {
           "harvestable_pods": 42620.14066300006,
           "harvested_pods": 1913589.129855,
           "season": 1441,
           "timestamp": "2021-10-05T00:03:55",
           "unharvestable_pods": 13385351.550535,
           "unharvestable_ratio": 0.8724895534857495,
           "value": 42620.14066300006,
           "variable": "harvestable_pods"
          },
          {
           "harvestable_pods": 42620.14066300006,
           "harvested_pods": 1913589.129855,
           "season": 1441,
           "timestamp": "2021-10-05T00:03:55",
           "unharvestable_pods": 13385351.550535,
           "unharvestable_ratio": 0.8724895534857495,
           "value": 0.8724895534857495,
           "variable": "unharvestable_ratio"
          },
          {
           "harvestable_pods": 42620.14066300006,
           "harvested_pods": 1913589.129855,
           "season": 1441,
           "timestamp": "2021-10-05T00:03:55",
           "unharvestable_pods": 13385351.550535,
           "unharvestable_ratio": 0.8724895534857495,
           "value": 1913589.129855,
           "variable": "harvested_pods"
          },
          {
           "harvestable_pods": 42620.14066300006,
           "harvested_pods": 1913589.129855,
           "season": 1441,
           "timestamp": "2021-10-05T00:03:55",
           "unharvestable_pods": 13385351.550535,
           "unharvestable_ratio": 0.8724895534857495,
           "value": 13385351.550535,
           "variable": "unharvestable_pods"
          },
          {
           "harvestable_pods": 42620.14066300006,
           "harvested_pods": 1913589.129855,
           "season": 1465,
           "timestamp": "2021-10-06T00:01:34",
           "unharvestable_pods": 14247643.821707001,
           "unharvestable_ratio": 0.8792750551745846,
           "value": 14247643.821707001,
           "variable": "unharvestable_pods"
          },
          {
           "harvestable_pods": 42620.14066300006,
           "harvested_pods": 1913589.129855,
           "season": 1465,
           "timestamp": "2021-10-06T00:01:34",
           "unharvestable_pods": 14247643.821707001,
           "unharvestable_ratio": 0.8792750551745846,
           "value": 1913589.129855,
           "variable": "harvested_pods"
          },
          {
           "harvestable_pods": 42620.14066300006,
           "harvested_pods": 1913589.129855,
           "season": 1465,
           "timestamp": "2021-10-06T00:01:34",
           "unharvestable_pods": 14247643.821707001,
           "unharvestable_ratio": 0.8792750551745846,
           "value": 42620.14066300006,
           "variable": "harvestable_pods"
          },
          {
           "harvestable_pods": 42620.14066300006,
           "harvested_pods": 1913589.129855,
           "season": 1465,
           "timestamp": "2021-10-06T00:01:34",
           "unharvestable_pods": 14247643.821707001,
           "unharvestable_ratio": 0.8792750551745846,
           "value": 0.8792750551745846,
           "variable": "unharvestable_ratio"
          },
          {
           "harvestable_pods": 42620.14066300006,
           "harvested_pods": 1913589.129855,
           "season": 1489,
           "timestamp": "2021-10-07T00:02:24",
           "unharvestable_pods": 15219710.121581001,
           "unharvestable_ratio": 0.8861074492805395,
           "value": 0.8861074492805395,
           "variable": "unharvestable_ratio"
          },
          {
           "harvestable_pods": 42620.14066300006,
           "harvested_pods": 1913589.129855,
           "season": 1489,
           "timestamp": "2021-10-07T00:02:24",
           "unharvestable_pods": 15219710.121581001,
           "unharvestable_ratio": 0.8861074492805395,
           "value": 15219710.121581001,
           "variable": "unharvestable_pods"
          },
          {
           "harvestable_pods": 42620.14066300006,
           "harvested_pods": 1913589.129855,
           "season": 1489,
           "timestamp": "2021-10-07T00:02:24",
           "unharvestable_pods": 15219710.121581001,
           "unharvestable_ratio": 0.8861074492805395,
           "value": 1913589.129855,
           "variable": "harvested_pods"
          },
          {
           "harvestable_pods": 42620.14066300006,
           "harvested_pods": 1913589.129855,
           "season": 1489,
           "timestamp": "2021-10-07T00:02:24",
           "unharvestable_pods": 15219710.121581001,
           "unharvestable_ratio": 0.8861074492805395,
           "value": 42620.14066300006,
           "variable": "harvestable_pods"
          },
          {
           "harvestable_pods": 73483.38632799988,
           "harvested_pods": 1939798.788053,
           "season": 1513,
           "timestamp": "2021-10-08T00:01:18",
           "unharvestable_pods": 17628327.919436,
           "unharvestable_ratio": 0.8974991273747582,
           "value": 17628327.919436,
           "variable": "unharvestable_pods"
          },
          {
           "harvestable_pods": 73483.38632799988,
           "harvested_pods": 1939798.788053,
           "season": 1513,
           "timestamp": "2021-10-08T00:01:18",
           "unharvestable_pods": 17628327.919436,
           "unharvestable_ratio": 0.8974991273747582,
           "value": 1939798.788053,
           "variable": "harvested_pods"
          },
          {
           "harvestable_pods": 73483.38632799988,
           "harvested_pods": 1939798.788053,
           "season": 1513,
           "timestamp": "2021-10-08T00:01:18",
           "unharvestable_pods": 17628327.919436,
           "unharvestable_ratio": 0.8974991273747582,
           "value": 73483.38632799988,
           "variable": "harvestable_pods"
          },
          {
           "harvestable_pods": 73483.38632799988,
           "harvested_pods": 1939798.788053,
           "season": 1513,
           "timestamp": "2021-10-08T00:01:18",
           "unharvestable_pods": 17628327.919436,
           "unharvestable_ratio": 0.8974991273747582,
           "value": 0.8974991273747582,
           "variable": "unharvestable_ratio"
          },
          {
           "harvestable_pods": 72329.00438400009,
           "harvested_pods": 1940953.169997,
           "season": 1537,
           "timestamp": "2021-10-09T00:02:32",
           "unharvestable_pods": 17848796.932812,
           "unharvestable_ratio": 0.8986368867269341,
           "value": 72329.00438400009,
           "variable": "harvestable_pods"
          },
          {
           "harvestable_pods": 72329.00438400009,
           "harvested_pods": 1940953.169997,
           "season": 1537,
           "timestamp": "2021-10-09T00:02:32",
           "unharvestable_pods": 17848796.932812,
           "unharvestable_ratio": 0.8986368867269341,
           "value": 0.8986368867269341,
           "variable": "unharvestable_ratio"
          },
          {
           "harvestable_pods": 72329.00438400009,
           "harvested_pods": 1940953.169997,
           "season": 1537,
           "timestamp": "2021-10-09T00:02:32",
           "unharvestable_pods": 17848796.932812,
           "unharvestable_ratio": 0.8986368867269341,
           "value": 17848796.932812,
           "variable": "unharvestable_pods"
          },
          {
           "harvestable_pods": 72329.00438400009,
           "harvested_pods": 1940953.169997,
           "season": 1537,
           "timestamp": "2021-10-09T00:02:32",
           "unharvestable_pods": 17848796.932812,
           "unharvestable_ratio": 0.8986368867269341,
           "value": 1940953.169997,
           "variable": "harvested_pods"
          },
          {
           "harvestable_pods": 71736.722021,
           "harvested_pods": 1941545.45236,
           "season": 1561,
           "timestamp": "2021-10-10T00:00:39",
           "unharvestable_pods": 18139261.969577,
           "unharvestable_ratio": 0.9000978655598376,
           "value": 71736.722021,
           "variable": "harvestable_pods"
          },
          {
           "harvestable_pods": 71736.722021,
           "harvested_pods": 1941545.45236,
           "season": 1561,
           "timestamp": "2021-10-10T00:00:39",
           "unharvestable_pods": 18139261.969577,
           "unharvestable_ratio": 0.9000978655598376,
           "value": 0.9000978655598376,
           "variable": "unharvestable_ratio"
          },
          {
           "harvestable_pods": 71736.722021,
           "harvested_pods": 1941545.45236,
           "season": 1561,
           "timestamp": "2021-10-10T00:00:39",
           "unharvestable_pods": 18139261.969577,
           "unharvestable_ratio": 0.9000978655598376,
           "value": 18139261.969577,
           "variable": "unharvestable_pods"
          },
          {
           "harvestable_pods": 71736.722021,
           "harvested_pods": 1941545.45236,
           "season": 1561,
           "timestamp": "2021-10-10T00:00:39",
           "unharvestable_pods": 18139261.969577,
           "unharvestable_ratio": 0.9000978655598376,
           "value": 1941545.45236,
           "variable": "harvested_pods"
          },
          {
           "harvestable_pods": 66958.61951699993,
           "harvested_pods": 1946323.554864,
           "season": 1585,
           "timestamp": "2021-10-11T00:00:43",
           "unharvestable_pods": 18379589.720036,
           "unharvestable_ratio": 0.901275201217138,
           "value": 0.901275201217138,
           "variable": "unharvestable_ratio"
          },
          {
           "harvestable_pods": 66958.61951699993,
           "harvested_pods": 1946323.554864,
           "season": 1585,
           "timestamp": "2021-10-11T00:00:43",
           "unharvestable_pods": 18379589.720036,
           "unharvestable_ratio": 0.901275201217138,
           "value": 66958.61951699993,
           "variable": "harvestable_pods"
          },
          {
           "harvestable_pods": 66958.61951699993,
           "harvested_pods": 1946323.554864,
           "season": 1585,
           "timestamp": "2021-10-11T00:00:43",
           "unharvestable_pods": 18379589.720036,
           "unharvestable_ratio": 0.901275201217138,
           "value": 18379589.720036,
           "variable": "unharvestable_pods"
          },
          {
           "harvestable_pods": 66958.61951699993,
           "harvested_pods": 1946323.554864,
           "season": 1585,
           "timestamp": "2021-10-11T00:00:43",
           "unharvestable_pods": 18379589.720036,
           "unharvestable_ratio": 0.901275201217138,
           "value": 1946323.554864,
           "variable": "harvested_pods"
          },
          {
           "harvestable_pods": 62864.386574999895,
           "harvested_pods": 1950417.787806,
           "season": 1609,
           "timestamp": "2021-10-12T00:01:23",
           "unharvestable_pods": 19857189.077624,
           "unharvestable_ratio": 0.9079451854885646,
           "value": 19857189.077624,
           "variable": "unharvestable_pods"
          },
          {
           "harvestable_pods": 62864.386574999895,
           "harvested_pods": 1950417.787806,
           "season": 1609,
           "timestamp": "2021-10-12T00:01:23",
           "unharvestable_pods": 19857189.077624,
           "unharvestable_ratio": 0.9079451854885646,
           "value": 1950417.787806,
           "variable": "harvested_pods"
          },
          {
           "harvestable_pods": 62864.386574999895,
           "harvested_pods": 1950417.787806,
           "season": 1609,
           "timestamp": "2021-10-12T00:01:23",
           "unharvestable_pods": 19857189.077624,
           "unharvestable_ratio": 0.9079451854885646,
           "value": 62864.386574999895,
           "variable": "harvestable_pods"
          },
          {
           "harvestable_pods": 62864.386574999895,
           "harvested_pods": 1950417.787806,
           "season": 1609,
           "timestamp": "2021-10-12T00:01:23",
           "unharvestable_pods": 19857189.077624,
           "unharvestable_ratio": 0.9079451854885646,
           "value": 0.9079451854885646,
           "variable": "unharvestable_ratio"
          },
          {
           "harvestable_pods": 62864.386574999895,
           "harvested_pods": 1950417.787806,
           "season": 1633,
           "timestamp": "2021-10-13T00:00:49",
           "unharvestable_pods": 21032067.773341,
           "unharvestable_ratio": 0.9126382468069222,
           "value": 21032067.773341,
           "variable": "unharvestable_pods"
          },
          {
           "harvestable_pods": 62864.386574999895,
           "harvested_pods": 1950417.787806,
           "season": 1633,
           "timestamp": "2021-10-13T00:00:49",
           "unharvestable_pods": 21032067.773341,
           "unharvestable_ratio": 0.9126382468069222,
           "value": 1950417.787806,
           "variable": "harvested_pods"
          },
          {
           "harvestable_pods": 62864.386574999895,
           "harvested_pods": 1950417.787806,
           "season": 1633,
           "timestamp": "2021-10-13T00:00:49",
           "unharvestable_pods": 21032067.773341,
           "unharvestable_ratio": 0.9126382468069222,
           "value": 62864.386574999895,
           "variable": "harvestable_pods"
          },
          {
           "harvestable_pods": 62864.386574999895,
           "harvested_pods": 1950417.787806,
           "season": 1633,
           "timestamp": "2021-10-13T00:00:49",
           "unharvestable_pods": 21032067.773341,
           "unharvestable_ratio": 0.9126382468069222,
           "value": 0.9126382468069222,
           "variable": "unharvestable_ratio"
          },
          {
           "harvestable_pods": 18416.43248800002,
           "harvested_pods": 1994865.741893,
           "season": 1657,
           "timestamp": "2021-10-14T00:01:25",
           "unharvestable_pods": 21442646.031522002,
           "unharvestable_ratio": 0.914167448130476,
           "value": 0.914167448130476,
           "variable": "unharvestable_ratio"
          },
          {
           "harvestable_pods": 18416.43248800002,
           "harvested_pods": 1994865.741893,
           "season": 1657,
           "timestamp": "2021-10-14T00:01:25",
           "unharvestable_pods": 21442646.031522002,
           "unharvestable_ratio": 0.914167448130476,
           "value": 18416.43248800002,
           "variable": "harvestable_pods"
          },
          {
           "harvestable_pods": 18416.43248800002,
           "harvested_pods": 1994865.741893,
           "season": 1657,
           "timestamp": "2021-10-14T00:01:25",
           "unharvestable_pods": 21442646.031522002,
           "unharvestable_ratio": 0.914167448130476,
           "value": 21442646.031522002,
           "variable": "unharvestable_pods"
          },
          {
           "harvestable_pods": 18416.43248800002,
           "harvested_pods": 1994865.741893,
           "season": 1657,
           "timestamp": "2021-10-14T00:01:25",
           "unharvestable_pods": 21442646.031522002,
           "unharvestable_ratio": 0.914167448130476,
           "value": 1994865.741893,
           "variable": "harvested_pods"
          },
          {
           "harvestable_pods": 18416.43248800002,
           "harvested_pods": 1994865.741893,
           "season": 1681,
           "timestamp": "2021-10-15T00:02:14",
           "unharvestable_pods": 21671172.291175,
           "unharvestable_ratio": 0.914995628153104,
           "value": 21671172.291175,
           "variable": "unharvestable_pods"
          },
          {
           "harvestable_pods": 18416.43248800002,
           "harvested_pods": 1994865.741893,
           "season": 1681,
           "timestamp": "2021-10-15T00:02:14",
           "unharvestable_pods": 21671172.291175,
           "unharvestable_ratio": 0.914995628153104,
           "value": 1994865.741893,
           "variable": "harvested_pods"
          },
          {
           "harvestable_pods": 18416.43248800002,
           "harvested_pods": 1994865.741893,
           "season": 1681,
           "timestamp": "2021-10-15T00:02:14",
           "unharvestable_pods": 21671172.291175,
           "unharvestable_ratio": 0.914995628153104,
           "value": 18416.43248800002,
           "variable": "harvestable_pods"
          },
          {
           "harvestable_pods": 18416.43248800002,
           "harvested_pods": 1994865.741893,
           "season": 1681,
           "timestamp": "2021-10-15T00:02:14",
           "unharvestable_pods": 21671172.291175,
           "unharvestable_ratio": 0.914995628153104,
           "value": 0.914995628153104,
           "variable": "unharvestable_ratio"
          },
          {
           "harvestable_pods": 18416.43248800002,
           "harvested_pods": 1994865.741893,
           "season": 1705,
           "timestamp": "2021-10-16T00:02:08",
           "unharvestable_pods": 21987963.183862,
           "unharvestable_ratio": 0.9161175953859596,
           "value": 0.9161175953859596,
           "variable": "unharvestable_ratio"
          },
          {
           "harvestable_pods": 18416.43248800002,
           "harvested_pods": 1994865.741893,
           "season": 1705,
           "timestamp": "2021-10-16T00:02:08",
           "unharvestable_pods": 21987963.183862,
           "unharvestable_ratio": 0.9161175953859596,
           "value": 18416.43248800002,
           "variable": "harvestable_pods"
          },
          {
           "harvestable_pods": 18416.43248800002,
           "harvested_pods": 1994865.741893,
           "season": 1705,
           "timestamp": "2021-10-16T00:02:08",
           "unharvestable_pods": 21987963.183862,
           "unharvestable_ratio": 0.9161175953859596,
           "value": 1994865.741893,
           "variable": "harvested_pods"
          },
          {
           "harvestable_pods": 18416.43248800002,
           "harvested_pods": 1994865.741893,
           "season": 1705,
           "timestamp": "2021-10-16T00:02:08",
           "unharvestable_pods": 21987963.183862,
           "unharvestable_ratio": 0.9161175953859596,
           "value": 21987963.183862,
           "variable": "unharvestable_pods"
          },
          {
           "harvestable_pods": 48365.83789899992,
           "harvested_pods": 2039679.973857,
           "season": 1729,
           "timestamp": "2021-10-17T00:00:39",
           "unharvestable_pods": 24134500.840471,
           "unharvestable_ratio": 0.9203721194799107,
           "value": 24134500.840471,
           "variable": "unharvestable_pods"
          },
          {
           "harvestable_pods": 48365.83789899992,
           "harvested_pods": 2039679.973857,
           "season": 1729,
           "timestamp": "2021-10-17T00:00:39",
           "unharvestable_pods": 24134500.840471,
           "unharvestable_ratio": 0.9203721194799107,
           "value": 2039679.973857,
           "variable": "harvested_pods"
          },
          {
           "harvestable_pods": 48365.83789899992,
           "harvested_pods": 2039679.973857,
           "season": 1729,
           "timestamp": "2021-10-17T00:00:39",
           "unharvestable_pods": 24134500.840471,
           "unharvestable_ratio": 0.9203721194799107,
           "value": 48365.83789899992,
           "variable": "harvestable_pods"
          },
          {
           "harvestable_pods": 48365.83789899992,
           "harvested_pods": 2039679.973857,
           "season": 1729,
           "timestamp": "2021-10-17T00:00:39",
           "unharvestable_pods": 24134500.840471,
           "unharvestable_ratio": 0.9203721194799107,
           "value": 0.9203721194799107,
           "variable": "unharvestable_ratio"
          },
          {
           "harvestable_pods": 93661.51890200004,
           "harvested_pods": 2091475.64403,
           "season": 1753,
           "timestamp": "2021-10-18T00:00:48",
           "unharvestable_pods": 27141479.59942,
           "unharvestable_ratio": 0.9254896266883001,
           "value": 93661.51890200004,
           "variable": "harvestable_pods"
          },
          {
           "harvestable_pods": 93661.51890200004,
           "harvested_pods": 2091475.64403,
           "season": 1753,
           "timestamp": "2021-10-18T00:00:48",
           "unharvestable_pods": 27141479.59942,
           "unharvestable_ratio": 0.9254896266883001,
           "value": 0.9254896266883001,
           "variable": "unharvestable_ratio"
          },
          {
           "harvestable_pods": 93661.51890200004,
           "harvested_pods": 2091475.64403,
           "season": 1753,
           "timestamp": "2021-10-18T00:00:48",
           "unharvestable_pods": 27141479.59942,
           "unharvestable_ratio": 0.9254896266883001,
           "value": 27141479.59942,
           "variable": "unharvestable_pods"
          },
          {
           "harvestable_pods": 93661.51890200004,
           "harvested_pods": 2091475.64403,
           "season": 1753,
           "timestamp": "2021-10-18T00:00:48",
           "unharvestable_pods": 27141479.59942,
           "unharvestable_ratio": 0.9254896266883001,
           "value": 2091475.64403,
           "variable": "harvested_pods"
          },
          {
           "harvestable_pods": 103332.72230700031,
           "harvested_pods": 2178806.576211,
           "season": 1777,
           "timestamp": "2021-10-19T00:01:14",
           "unharvestable_pods": 28180001.304651,
           "unharvestable_ratio": 0.9250827665643238,
           "value": 28180001.304651,
           "variable": "unharvestable_pods"
          },
          {
           "harvestable_pods": 103332.72230700031,
           "harvested_pods": 2178806.576211,
           "season": 1777,
           "timestamp": "2021-10-19T00:01:14",
           "unharvestable_pods": 28180001.304651,
           "unharvestable_ratio": 0.9250827665643238,
           "value": 2178806.576211,
           "variable": "harvested_pods"
          },
          {
           "harvestable_pods": 103332.72230700031,
           "harvested_pods": 2178806.576211,
           "season": 1777,
           "timestamp": "2021-10-19T00:01:14",
           "unharvestable_pods": 28180001.304651,
           "unharvestable_ratio": 0.9250827665643238,
           "value": 103332.72230700031,
           "variable": "harvestable_pods"
          },
          {
           "harvestable_pods": 103332.72230700031,
           "harvested_pods": 2178806.576211,
           "season": 1777,
           "timestamp": "2021-10-19T00:01:14",
           "unharvestable_pods": 28180001.304651,
           "unharvestable_ratio": 0.9250827665643238,
           "value": 0.9250827665643238,
           "variable": "unharvestable_ratio"
          },
          {
           "harvestable_pods": 133527.92249300005,
           "harvested_pods": 2188546.823076,
           "season": 1801,
           "timestamp": "2021-10-20T00:00:31",
           "unharvestable_pods": 29005430.918351002,
           "unharvestable_ratio": 0.925877445511299,
           "value": 133527.92249300005,
           "variable": "harvestable_pods"
          },
          {
           "harvestable_pods": 133527.92249300005,
           "harvested_pods": 2188546.823076,
           "season": 1801,
           "timestamp": "2021-10-20T00:00:31",
           "unharvestable_pods": 29005430.918351002,
           "unharvestable_ratio": 0.925877445511299,
           "value": 29005430.918351002,
           "variable": "unharvestable_pods"
          },
          {
           "harvestable_pods": 133527.92249300005,
           "harvested_pods": 2188546.823076,
           "season": 1801,
           "timestamp": "2021-10-20T00:00:31",
           "unharvestable_pods": 29005430.918351002,
           "unharvestable_ratio": 0.925877445511299,
           "value": 2188546.823076,
           "variable": "harvested_pods"
          },
          {
           "harvestable_pods": 133527.92249300005,
           "harvested_pods": 2188546.823076,
           "season": 1801,
           "timestamp": "2021-10-20T00:00:31",
           "unharvestable_pods": 29005430.918351002,
           "unharvestable_ratio": 0.925877445511299,
           "value": 0.925877445511299,
           "variable": "unharvestable_ratio"
          },
          {
           "harvestable_pods": 329387.2166319997,
           "harvested_pods": 2251850.120014,
           "season": 1825,
           "timestamp": "2021-10-21T00:02:30",
           "unharvestable_pods": 28610999.591392003,
           "unharvestable_ratio": 0.9172474438880085,
           "value": 0.9172474438880085,
           "variable": "unharvestable_ratio"
          },
          {
           "harvestable_pods": 329387.2166319997,
           "harvested_pods": 2251850.120014,
           "season": 1825,
           "timestamp": "2021-10-21T00:02:30",
           "unharvestable_pods": 28610999.591392003,
           "unharvestable_ratio": 0.9172474438880085,
           "value": 329387.2166319997,
           "variable": "harvestable_pods"
          },
          {
           "harvestable_pods": 329387.2166319997,
           "harvested_pods": 2251850.120014,
           "season": 1825,
           "timestamp": "2021-10-21T00:02:30",
           "unharvestable_pods": 28610999.591392003,
           "unharvestable_ratio": 0.9172474438880085,
           "value": 2251850.120014,
           "variable": "harvested_pods"
          },
          {
           "harvestable_pods": 329387.2166319997,
           "harvested_pods": 2251850.120014,
           "season": 1825,
           "timestamp": "2021-10-21T00:02:30",
           "unharvestable_pods": 28610999.591392003,
           "unharvestable_ratio": 0.9172474438880085,
           "value": 28610999.591392003,
           "variable": "unharvestable_pods"
          },
          {
           "harvestable_pods": 329574.7408949998,
           "harvested_pods": 2312097.381269,
           "season": 1849,
           "timestamp": "2021-10-22T00:00:33",
           "unharvestable_pods": 29870149.022693,
           "unharvestable_ratio": 0.9187473346880821,
           "value": 29870149.022693,
           "variable": "unharvestable_pods"
          },
          {
           "harvestable_pods": 329574.7408949998,
           "harvested_pods": 2312097.381269,
           "season": 1849,
           "timestamp": "2021-10-22T00:00:33",
           "unharvestable_pods": 29870149.022693,
           "unharvestable_ratio": 0.9187473346880821,
           "value": 2312097.381269,
           "variable": "harvested_pods"
          },
          {
           "harvestable_pods": 329574.7408949998,
           "harvested_pods": 2312097.381269,
           "season": 1849,
           "timestamp": "2021-10-22T00:00:33",
           "unharvestable_pods": 29870149.022693,
           "unharvestable_ratio": 0.9187473346880821,
           "value": 329574.7408949998,
           "variable": "harvestable_pods"
          },
          {
           "harvestable_pods": 329574.7408949998,
           "harvested_pods": 2312097.381269,
           "season": 1849,
           "timestamp": "2021-10-22T00:00:33",
           "unharvestable_pods": 29870149.022693,
           "unharvestable_ratio": 0.9187473346880821,
           "value": 0.9187473346880821,
           "variable": "unharvestable_ratio"
          },
          {
           "harvestable_pods": 359392.0718120001,
           "harvested_pods": 2312865.381271,
           "season": 1873,
           "timestamp": "2021-10-23T00:00:12",
           "unharvestable_pods": 30829937.668865,
           "unharvestable_ratio": 0.9202363473988501,
           "value": 30829937.668865,
           "variable": "unharvestable_pods"
          },
          {
           "harvestable_pods": 359392.0718120001,
           "harvested_pods": 2312865.381271,
           "season": 1873,
           "timestamp": "2021-10-23T00:00:12",
           "unharvestable_pods": 30829937.668865,
           "unharvestable_ratio": 0.9202363473988501,
           "value": 2312865.381271,
           "variable": "harvested_pods"
          },
          {
           "harvestable_pods": 359392.0718120001,
           "harvested_pods": 2312865.381271,
           "season": 1873,
           "timestamp": "2021-10-23T00:00:12",
           "unharvestable_pods": 30829937.668865,
           "unharvestable_ratio": 0.9202363473988501,
           "value": 359392.0718120001,
           "variable": "harvestable_pods"
          },
          {
           "harvestable_pods": 359392.0718120001,
           "harvested_pods": 2312865.381271,
           "season": 1873,
           "timestamp": "2021-10-23T00:00:12",
           "unharvestable_pods": 30829937.668865,
           "unharvestable_ratio": 0.9202363473988501,
           "value": 0.9202363473988501,
           "variable": "unharvestable_ratio"
          },
          {
           "harvestable_pods": 459524.83499000035,
           "harvested_pods": 2317323.122158,
           "season": 1897,
           "timestamp": "2021-10-24T00:00:53",
           "unharvestable_pods": 30826541.887272,
           "unharvestable_ratio": 0.9173640525552779,
           "value": 0.9173640525552779,
           "variable": "unharvestable_ratio"
          },
          {
           "harvestable_pods": 459524.83499000035,
           "harvested_pods": 2317323.122158,
           "season": 1897,
           "timestamp": "2021-10-24T00:00:53",
           "unharvestable_pods": 30826541.887272,
           "unharvestable_ratio": 0.9173640525552779,
           "value": 459524.83499000035,
           "variable": "harvestable_pods"
          },
          {
           "harvestable_pods": 459524.83499000035,
           "harvested_pods": 2317323.122158,
           "season": 1897,
           "timestamp": "2021-10-24T00:00:53",
           "unharvestable_pods": 30826541.887272,
           "unharvestable_ratio": 0.9173640525552779,
           "value": 30826541.887272,
           "variable": "unharvestable_pods"
          },
          {
           "harvestable_pods": 459524.83499000035,
           "harvested_pods": 2317323.122158,
           "season": 1897,
           "timestamp": "2021-10-24T00:00:53",
           "unharvestable_pods": 30826541.887272,
           "unharvestable_ratio": 0.9173640525552779,
           "value": 2317323.122158,
           "variable": "harvested_pods"
          },
          {
           "harvestable_pods": 488672.791189,
           "harvested_pods": 2320758.905259,
           "season": 1921,
           "timestamp": "2021-10-25T00:00:35",
           "unharvestable_pods": 33501459.825739004,
           "unharvestable_ratio": 0.922628402149494,
           "value": 33501459.825739004,
           "variable": "unharvestable_pods"
          },
          {
           "harvestable_pods": 488672.791189,
           "harvested_pods": 2320758.905259,
           "season": 1921,
           "timestamp": "2021-10-25T00:00:35",
           "unharvestable_pods": 33501459.825739004,
           "unharvestable_ratio": 0.922628402149494,
           "value": 2320758.905259,
           "variable": "harvested_pods"
          },
          {
           "harvestable_pods": 488672.791189,
           "harvested_pods": 2320758.905259,
           "season": 1921,
           "timestamp": "2021-10-25T00:00:35",
           "unharvestable_pods": 33501459.825739004,
           "unharvestable_ratio": 0.922628402149494,
           "value": 488672.791189,
           "variable": "harvestable_pods"
          },
          {
           "harvestable_pods": 488672.791189,
           "harvested_pods": 2320758.905259,
           "season": 1921,
           "timestamp": "2021-10-25T00:00:35",
           "unharvestable_pods": 33501459.825739004,
           "unharvestable_ratio": 0.922628402149494,
           "value": 0.922628402149494,
           "variable": "unharvestable_ratio"
          },
          {
           "harvestable_pods": 554343.9560810002,
           "harvested_pods": 2322242.464822,
           "season": 1945,
           "timestamp": "2021-10-26T00:00:39",
           "unharvestable_pods": 34209695.363988005,
           "unharvestable_ratio": 0.9224352972997438,
           "value": 0.9224352972997438,
           "variable": "unharvestable_ratio"
          },
          {
           "harvestable_pods": 554343.9560810002,
           "harvested_pods": 2322242.464822,
           "season": 1945,
           "timestamp": "2021-10-26T00:00:39",
           "unharvestable_pods": 34209695.363988005,
           "unharvestable_ratio": 0.9224352972997438,
           "value": 554343.9560810002,
           "variable": "harvestable_pods"
          },
          {
           "harvestable_pods": 554343.9560810002,
           "harvested_pods": 2322242.464822,
           "season": 1945,
           "timestamp": "2021-10-26T00:00:39",
           "unharvestable_pods": 34209695.363988005,
           "unharvestable_ratio": 0.9224352972997438,
           "value": 2322242.464822,
           "variable": "harvested_pods"
          },
          {
           "harvestable_pods": 554343.9560810002,
           "harvested_pods": 2322242.464822,
           "season": 1945,
           "timestamp": "2021-10-26T00:00:39",
           "unharvestable_pods": 34209695.363988005,
           "unharvestable_ratio": 0.9224352972997438,
           "value": 34209695.363988005,
           "variable": "unharvestable_pods"
          },
          {
           "harvestable_pods": 571887.304023,
           "harvested_pods": 2342456.907984,
           "season": 1969,
           "timestamp": "2021-10-27T00:01:02",
           "unharvestable_pods": 34806816.830363,
           "unharvestable_ratio": 0.9227398062129242,
           "value": 34806816.830363,
           "variable": "unharvestable_pods"
          },
          {
           "harvestable_pods": 571887.304023,
           "harvested_pods": 2342456.907984,
           "season": 1969,
           "timestamp": "2021-10-27T00:01:02",
           "unharvestable_pods": 34806816.830363,
           "unharvestable_ratio": 0.9227398062129242,
           "value": 2342456.907984,
           "variable": "harvested_pods"
          },
          {
           "harvestable_pods": 571887.304023,
           "harvested_pods": 2342456.907984,
           "season": 1969,
           "timestamp": "2021-10-27T00:01:02",
           "unharvestable_pods": 34806816.830363,
           "unharvestable_ratio": 0.9227398062129242,
           "value": 571887.304023,
           "variable": "harvestable_pods"
          },
          {
           "harvestable_pods": 571887.304023,
           "harvested_pods": 2342456.907984,
           "season": 1969,
           "timestamp": "2021-10-27T00:01:02",
           "unharvestable_pods": 34806816.830363,
           "unharvestable_ratio": 0.9227398062129242,
           "value": 0.9227398062129242,
           "variable": "unharvestable_ratio"
          },
          {
           "harvestable_pods": 737868.7173259999,
           "harvested_pods": 2342456.907984,
           "season": 1993,
           "timestamp": "2021-10-28T00:02:23",
           "unharvestable_pods": 34637286.759434,
           "unharvestable_ratio": 0.918331903040715,
           "value": 737868.7173259999,
           "variable": "harvestable_pods"
          },
          {
           "harvestable_pods": 737868.7173259999,
           "harvested_pods": 2342456.907984,
           "season": 1993,
           "timestamp": "2021-10-28T00:02:23",
           "unharvestable_pods": 34637286.759434,
           "unharvestable_ratio": 0.918331903040715,
           "value": 0.918331903040715,
           "variable": "unharvestable_ratio"
          },
          {
           "harvestable_pods": 737868.7173259999,
           "harvested_pods": 2342456.907984,
           "season": 1993,
           "timestamp": "2021-10-28T00:02:23",
           "unharvestable_pods": 34637286.759434,
           "unharvestable_ratio": 0.918331903040715,
           "value": 34637286.759434,
           "variable": "unharvestable_pods"
          },
          {
           "harvestable_pods": 737868.7173259999,
           "harvested_pods": 2342456.907984,
           "season": 1993,
           "timestamp": "2021-10-28T00:02:23",
           "unharvestable_pods": 34637286.759434,
           "unharvestable_ratio": 0.918331903040715,
           "value": 2342456.907984,
           "variable": "harvested_pods"
          },
          {
           "harvestable_pods": 890086.6674350002,
           "harvested_pods": 2351589.611307,
           "season": 2017,
           "timestamp": "2021-10-29T00:01:54",
           "unharvestable_pods": 36006897.609383,
           "unharvestable_ratio": 0.9174065206042353,
           "value": 36006897.609383,
           "variable": "unharvestable_pods"
          },
          {
           "harvestable_pods": 890086.6674350002,
           "harvested_pods": 2351589.611307,
           "season": 2017,
           "timestamp": "2021-10-29T00:01:54",
           "unharvestable_pods": 36006897.609383,
           "unharvestable_ratio": 0.9174065206042353,
           "value": 2351589.611307,
           "variable": "harvested_pods"
          },
          {
           "harvestable_pods": 890086.6674350002,
           "harvested_pods": 2351589.611307,
           "season": 2017,
           "timestamp": "2021-10-29T00:01:54",
           "unharvestable_pods": 36006897.609383,
           "unharvestable_ratio": 0.9174065206042353,
           "value": 890086.6674350002,
           "variable": "harvestable_pods"
          },
          {
           "harvestable_pods": 890086.6674350002,
           "harvested_pods": 2351589.611307,
           "season": 2017,
           "timestamp": "2021-10-29T00:01:54",
           "unharvestable_pods": 36006897.609383,
           "unharvestable_ratio": 0.9174065206042353,
           "value": 0.9174065206042353,
           "variable": "unharvestable_ratio"
          },
          {
           "harvestable_pods": 903920.4965889999,
           "harvested_pods": 2404237.180391,
           "season": 2041,
           "timestamp": "2021-10-30T00:02:04",
           "unharvestable_pods": 36824774.971055,
           "unharvestable_ratio": 0.9175699990331514,
           "value": 0.9175699990331514,
           "variable": "unharvestable_ratio"
          },
          {
           "harvestable_pods": 903920.4965889999,
           "harvested_pods": 2404237.180391,
           "season": 2041,
           "timestamp": "2021-10-30T00:02:04",
           "unharvestable_pods": 36824774.971055,
           "unharvestable_ratio": 0.9175699990331514,
           "value": 36824774.971055,
           "variable": "unharvestable_pods"
          },
          {
           "harvestable_pods": 903920.4965889999,
           "harvested_pods": 2404237.180391,
           "season": 2041,
           "timestamp": "2021-10-30T00:02:04",
           "unharvestable_pods": 36824774.971055,
           "unharvestable_ratio": 0.9175699990331514,
           "value": 2404237.180391,
           "variable": "harvested_pods"
          },
          {
           "harvestable_pods": 903920.4965889999,
           "harvested_pods": 2404237.180391,
           "season": 2041,
           "timestamp": "2021-10-30T00:02:04",
           "unharvestable_pods": 36824774.971055,
           "unharvestable_ratio": 0.9175699990331514,
           "value": 903920.4965889999,
           "variable": "harvestable_pods"
          },
          {
           "harvestable_pods": 965179.8361820001,
           "harvested_pods": 2421013.306022,
           "season": 2065,
           "timestamp": "2021-10-31T00:02:28",
           "unharvestable_pods": 37160751.164471,
           "unharvestable_ratio": 0.9164870941545513,
           "value": 2421013.306022,
           "variable": "harvested_pods"
          },
          {
           "harvestable_pods": 965179.8361820001,
           "harvested_pods": 2421013.306022,
           "season": 2065,
           "timestamp": "2021-10-31T00:02:28",
           "unharvestable_pods": 37160751.164471,
           "unharvestable_ratio": 0.9164870941545513,
           "value": 965179.8361820001,
           "variable": "harvestable_pods"
          },
          {
           "harvestable_pods": 965179.8361820001,
           "harvested_pods": 2421013.306022,
           "season": 2065,
           "timestamp": "2021-10-31T00:02:28",
           "unharvestable_pods": 37160751.164471,
           "unharvestable_ratio": 0.9164870941545513,
           "value": 37160751.164471,
           "variable": "unharvestable_pods"
          },
          {
           "harvestable_pods": 965179.8361820001,
           "harvested_pods": 2421013.306022,
           "season": 2065,
           "timestamp": "2021-10-31T00:02:28",
           "unharvestable_pods": 37160751.164471,
           "unharvestable_ratio": 0.9164870941545513,
           "value": 0.9164870941545513,
           "variable": "unharvestable_ratio"
          },
          {
           "harvestable_pods": 1103898.936749,
           "harvested_pods": 2421013.306022,
           "season": 2089,
           "timestamp": "2021-11-01T00:01:36",
           "unharvestable_pods": 37467595.956411,
           "unharvestable_ratio": 0.9140108181318523,
           "value": 0.9140108181318523,
           "variable": "unharvestable_ratio"
          },
          {
           "harvestable_pods": 1103898.936749,
           "harvested_pods": 2421013.306022,
           "season": 2089,
           "timestamp": "2021-11-01T00:01:36",
           "unharvestable_pods": 37467595.956411,
           "unharvestable_ratio": 0.9140108181318523,
           "value": 1103898.936749,
           "variable": "harvestable_pods"
          },
          {
           "harvestable_pods": 1103898.936749,
           "harvested_pods": 2421013.306022,
           "season": 2089,
           "timestamp": "2021-11-01T00:01:36",
           "unharvestable_pods": 37467595.956411,
           "unharvestable_ratio": 0.9140108181318523,
           "value": 37467595.956411,
           "variable": "unharvestable_pods"
          },
          {
           "harvestable_pods": 1103898.936749,
           "harvested_pods": 2421013.306022,
           "season": 2089,
           "timestamp": "2021-11-01T00:01:36",
           "unharvestable_pods": 37467595.956411,
           "unharvestable_ratio": 0.9140108181318523,
           "value": 2421013.306022,
           "variable": "harvested_pods"
          },
          {
           "harvestable_pods": 1274102.0293110004,
           "harvested_pods": 2444287.834122,
           "season": 2113,
           "timestamp": "2021-11-02T00:01:39",
           "unharvestable_pods": 38142295.24017999,
           "unharvestable_ratio": 0.9111722645190996,
           "value": 38142295.24017999,
           "variable": "unharvestable_pods"
          },
          {
           "harvestable_pods": 1274102.0293110004,
           "harvested_pods": 2444287.834122,
           "season": 2113,
           "timestamp": "2021-11-02T00:01:39",
           "unharvestable_pods": 38142295.24017999,
           "unharvestable_ratio": 0.9111722645190996,
           "value": 2444287.834122,
           "variable": "harvested_pods"
          },
          {
           "harvestable_pods": 1274102.0293110004,
           "harvested_pods": 2444287.834122,
           "season": 2113,
           "timestamp": "2021-11-02T00:01:39",
           "unharvestable_pods": 38142295.24017999,
           "unharvestable_ratio": 0.9111722645190996,
           "value": 1274102.0293110004,
           "variable": "harvestable_pods"
          },
          {
           "harvestable_pods": 1274102.0293110004,
           "harvested_pods": 2444287.834122,
           "season": 2113,
           "timestamp": "2021-11-02T00:01:39",
           "unharvestable_pods": 38142295.24017999,
           "unharvestable_ratio": 0.9111722645190996,
           "value": 0.9111722645190996,
           "variable": "unharvestable_ratio"
          },
          {
           "harvestable_pods": 1341197.448574,
           "harvested_pods": 2444287.834122,
           "season": 2137,
           "timestamp": "2021-11-03T00:01:22",
           "unharvestable_pods": 39286026.337112,
           "unharvestable_ratio": 0.9121116222687873,
           "value": 1341197.448574,
           "variable": "harvestable_pods"
          },
          {
           "harvestable_pods": 1341197.448574,
           "harvested_pods": 2444287.834122,
           "season": 2137,
           "timestamp": "2021-11-03T00:01:22",
           "unharvestable_pods": 39286026.337112,
           "unharvestable_ratio": 0.9121116222687873,
           "value": 0.9121116222687873,
           "variable": "unharvestable_ratio"
          },
          {
           "harvestable_pods": 1341197.448574,
           "harvested_pods": 2444287.834122,
           "season": 2137,
           "timestamp": "2021-11-03T00:01:22",
           "unharvestable_pods": 39286026.337112,
           "unharvestable_ratio": 0.9121116222687873,
           "value": 39286026.337112,
           "variable": "unharvestable_pods"
          },
          {
           "harvestable_pods": 1341197.448574,
           "harvested_pods": 2444287.834122,
           "season": 2137,
           "timestamp": "2021-11-03T00:01:22",
           "unharvestable_pods": 39286026.337112,
           "unharvestable_ratio": 0.9121116222687873,
           "value": 2444287.834122,
           "variable": "harvested_pods"
          },
          {
           "harvestable_pods": 1364984.4061000003,
           "harvested_pods": 2444287.834122,
           "season": 2161,
           "timestamp": "2021-11-04T00:01:55",
           "unharvestable_pods": 40309918.133658,
           "unharvestable_ratio": 0.9136595162345225,
           "value": 40309918.133658,
           "variable": "unharvestable_pods"
          },
          {
           "harvestable_pods": 1364984.4061000003,
           "harvested_pods": 2444287.834122,
           "season": 2161,
           "timestamp": "2021-11-04T00:01:55",
           "unharvestable_pods": 40309918.133658,
           "unharvestable_ratio": 0.9136595162345225,
           "value": 2444287.834122,
           "variable": "harvested_pods"
          },
          {
           "harvestable_pods": 1364984.4061000003,
           "harvested_pods": 2444287.834122,
           "season": 2161,
           "timestamp": "2021-11-04T00:01:55",
           "unharvestable_pods": 40309918.133658,
           "unharvestable_ratio": 0.9136595162345225,
           "value": 1364984.4061000003,
           "variable": "harvestable_pods"
          },
          {
           "harvestable_pods": 1364984.4061000003,
           "harvested_pods": 2444287.834122,
           "season": 2161,
           "timestamp": "2021-11-04T00:01:55",
           "unharvestable_pods": 40309918.133658,
           "unharvestable_ratio": 0.9136595162345225,
           "value": 0.9136595162345225,
           "variable": "unharvestable_ratio"
          },
          {
           "harvestable_pods": 1509839.9469700004,
           "harvested_pods": 2444287.834122,
           "season": 2185,
           "timestamp": "2021-11-05T00:02:28",
           "unharvestable_pods": 40539257.08687,
           "unharvestable_ratio": 0.9111299849893142,
           "value": 0.9111299849893142,
           "variable": "unharvestable_ratio"
          },
          {
           "harvestable_pods": 1509839.9469700004,
           "harvested_pods": 2444287.834122,
           "season": 2185,
           "timestamp": "2021-11-05T00:02:28",
           "unharvestable_pods": 40539257.08687,
           "unharvestable_ratio": 0.9111299849893142,
           "value": 40539257.08687,
           "variable": "unharvestable_pods"
          },
          {
           "harvestable_pods": 1509839.9469700004,
           "harvested_pods": 2444287.834122,
           "season": 2185,
           "timestamp": "2021-11-05T00:02:28",
           "unharvestable_pods": 40539257.08687,
           "unharvestable_ratio": 0.9111299849893142,
           "value": 2444287.834122,
           "variable": "harvested_pods"
          },
          {
           "harvestable_pods": 1509839.9469700004,
           "harvested_pods": 2444287.834122,
           "season": 2185,
           "timestamp": "2021-11-05T00:02:28",
           "unharvestable_pods": 40539257.08687,
           "unharvestable_ratio": 0.9111299849893142,
           "value": 1509839.9469700004,
           "variable": "harvestable_pods"
          },
          {
           "harvestable_pods": 1544130.1915610004,
           "harvested_pods": 2444287.834122,
           "season": 2209,
           "timestamp": "2021-11-06T00:00:17",
           "unharvestable_pods": 41082146.555162,
           "unharvestable_ratio": 0.9115072539522152,
           "value": 1544130.1915610004,
           "variable": "harvestable_pods"
          },
          {
           "harvestable_pods": 1544130.1915610004,
           "harvested_pods": 2444287.834122,
           "season": 2209,
           "timestamp": "2021-11-06T00:00:17",
           "unharvestable_pods": 41082146.555162,
           "unharvestable_ratio": 0.9115072539522152,
           "value": 0.9115072539522152,
           "variable": "unharvestable_ratio"
          },
          {
           "harvestable_pods": 1544130.1915610004,
           "harvested_pods": 2444287.834122,
           "season": 2209,
           "timestamp": "2021-11-06T00:00:17",
           "unharvestable_pods": 41082146.555162,
           "unharvestable_ratio": 0.9115072539522152,
           "value": 41082146.555162,
           "variable": "unharvestable_pods"
          },
          {
           "harvestable_pods": 1544130.1915610004,
           "harvested_pods": 2444287.834122,
           "season": 2209,
           "timestamp": "2021-11-06T00:00:17",
           "unharvestable_pods": 41082146.555162,
           "unharvestable_ratio": 0.9115072539522152,
           "value": 2444287.834122,
           "variable": "harvested_pods"
          },
          {
           "harvestable_pods": 1622130.9325280003,
           "harvested_pods": 2444287.834122,
           "season": 2233,
           "timestamp": "2021-11-07T00:00:17",
           "unharvestable_pods": 41621126.979845,
           "unharvestable_ratio": 0.9109950271959627,
           "value": 41621126.979845,
           "variable": "unharvestable_pods"
          },
          {
           "harvestable_pods": 1622130.9325280003,
           "harvested_pods": 2444287.834122,
           "season": 2233,
           "timestamp": "2021-11-07T00:00:17",
           "unharvestable_pods": 41621126.979845,
           "unharvestable_ratio": 0.9109950271959627,
           "value": 2444287.834122,
           "variable": "harvested_pods"
          },
          {
           "harvestable_pods": 1622130.9325280003,
           "harvested_pods": 2444287.834122,
           "season": 2233,
           "timestamp": "2021-11-07T00:00:17",
           "unharvestable_pods": 41621126.979845,
           "unharvestable_ratio": 0.9109950271959627,
           "value": 1622130.9325280003,
           "variable": "harvestable_pods"
          },
          {
           "harvestable_pods": 1622130.9325280003,
           "harvested_pods": 2444287.834122,
           "season": 2233,
           "timestamp": "2021-11-07T00:00:17",
           "unharvestable_pods": 41621126.979845,
           "unharvestable_ratio": 0.9109950271959627,
           "value": 0.9109950271959627,
           "variable": "unharvestable_ratio"
          },
          {
           "harvestable_pods": 1645972.8805320002,
           "harvested_pods": 2444287.834122,
           "season": 2257,
           "timestamp": "2021-11-08T00:01:22",
           "unharvestable_pods": 41579039.961897,
           "unharvestable_ratio": 0.9104374130091694,
           "value": 41579039.961897,
           "variable": "unharvestable_pods"
          },
          {
           "harvestable_pods": 1645972.8805320002,
           "harvested_pods": 2444287.834122,
           "season": 2257,
           "timestamp": "2021-11-08T00:01:22",
           "unharvestable_pods": 41579039.961897,
           "unharvestable_ratio": 0.9104374130091694,
           "value": 2444287.834122,
           "variable": "harvested_pods"
          },
          {
           "harvestable_pods": 1645972.8805320002,
           "harvested_pods": 2444287.834122,
           "season": 2257,
           "timestamp": "2021-11-08T00:01:22",
           "unharvestable_pods": 41579039.961897,
           "unharvestable_ratio": 0.9104374130091694,
           "value": 1645972.8805320002,
           "variable": "harvestable_pods"
          },
          {
           "harvestable_pods": 1645972.8805320002,
           "harvested_pods": 2444287.834122,
           "season": 2257,
           "timestamp": "2021-11-08T00:01:22",
           "unharvestable_pods": 41579039.961897,
           "unharvestable_ratio": 0.9104374130091694,
           "value": 0.9104374130091694,
           "variable": "unharvestable_ratio"
          },
          {
           "harvestable_pods": 1690412.50698,
           "harvested_pods": 2444287.834122,
           "season": 2281,
           "timestamp": "2021-11-09T00:02:23",
           "unharvestable_pods": 41826189.911509,
           "unharvestable_ratio": 0.9100387238285249,
           "value": 0.9100387238285249,
           "variable": "unharvestable_ratio"
          },
          {
           "harvestable_pods": 1690412.50698,
           "harvested_pods": 2444287.834122,
           "season": 2281,
           "timestamp": "2021-11-09T00:02:23",
           "unharvestable_pods": 41826189.911509,
           "unharvestable_ratio": 0.9100387238285249,
           "value": 1690412.50698,
           "variable": "harvestable_pods"
          },
          {
           "harvestable_pods": 1690412.50698,
           "harvested_pods": 2444287.834122,
           "season": 2281,
           "timestamp": "2021-11-09T00:02:23",
           "unharvestable_pods": 41826189.911509,
           "unharvestable_ratio": 0.9100387238285249,
           "value": 2444287.834122,
           "variable": "harvested_pods"
          },
          {
           "harvestable_pods": 1690412.50698,
           "harvested_pods": 2444287.834122,
           "season": 2281,
           "timestamp": "2021-11-09T00:02:23",
           "unharvestable_pods": 41826189.911509,
           "unharvestable_ratio": 0.9100387238285249,
           "value": 41826189.911509,
           "variable": "unharvestable_pods"
          },
          {
           "harvestable_pods": 1788523.88838,
           "harvested_pods": 2444287.834122,
           "season": 2305,
           "timestamp": "2021-11-10T00:00:20",
           "unharvestable_pods": 42524908.029381,
           "unharvestable_ratio": 0.9094735212717139,
           "value": 42524908.029381,
           "variable": "unharvestable_pods"
          },
          {
           "harvestable_pods": 1788523.88838,
           "harvested_pods": 2444287.834122,
           "season": 2305,
           "timestamp": "2021-11-10T00:00:20",
           "unharvestable_pods": 42524908.029381,
           "unharvestable_ratio": 0.9094735212717139,
           "value": 2444287.834122,
           "variable": "harvested_pods"
          },
          {
           "harvestable_pods": 1788523.88838,
           "harvested_pods": 2444287.834122,
           "season": 2305,
           "timestamp": "2021-11-10T00:00:20",
           "unharvestable_pods": 42524908.029381,
           "unharvestable_ratio": 0.9094735212717139,
           "value": 1788523.88838,
           "variable": "harvestable_pods"
          },
          {
           "harvestable_pods": 1788523.88838,
           "harvested_pods": 2444287.834122,
           "season": 2305,
           "timestamp": "2021-11-10T00:00:20",
           "unharvestable_pods": 42524908.029381,
           "unharvestable_ratio": 0.9094735212717139,
           "value": 0.9094735212717139,
           "variable": "unharvestable_ratio"
          },
          {
           "harvestable_pods": 1807783.8929910003,
           "harvested_pods": 2545511.616523,
           "season": 2329,
           "timestamp": "2021-11-11T00:02:14",
           "unharvestable_pods": 47933950.962907,
           "unharvestable_ratio": 0.9167426896000318,
           "value": 0.9167426896000318,
           "variable": "unharvestable_ratio"
          },
          {
           "harvestable_pods": 1807783.8929910003,
           "harvested_pods": 2545511.616523,
           "season": 2329,
           "timestamp": "2021-11-11T00:02:14",
           "unharvestable_pods": 47933950.962907,
           "unharvestable_ratio": 0.9167426896000318,
           "value": 47933950.962907,
           "variable": "unharvestable_pods"
          },
          {
           "harvestable_pods": 1807783.8929910003,
           "harvested_pods": 2545511.616523,
           "season": 2329,
           "timestamp": "2021-11-11T00:02:14",
           "unharvestable_pods": 47933950.962907,
           "unharvestable_ratio": 0.9167426896000318,
           "value": 2545511.616523,
           "variable": "harvested_pods"
          },
          {
           "harvestable_pods": 1807783.8929910003,
           "harvested_pods": 2545511.616523,
           "season": 2329,
           "timestamp": "2021-11-11T00:02:14",
           "unharvestable_pods": 47933950.962907,
           "unharvestable_ratio": 0.9167426896000318,
           "value": 1807783.8929910003,
           "variable": "harvestable_pods"
          },
          {
           "harvestable_pods": 1073758.404978,
           "harvested_pods": 3324269.373112,
           "season": 2353,
           "timestamp": "2021-11-12T00:01:57",
           "unharvestable_pods": 65017368.59460001,
           "unharvestable_ratio": 0.9366418977934367,
           "value": 0.9366418977934367,
           "variable": "unharvestable_ratio"
          },
          {
           "harvestable_pods": 1073758.404978,
           "harvested_pods": 3324269.373112,
           "season": 2353,
           "timestamp": "2021-11-12T00:01:57",
           "unharvestable_pods": 65017368.59460001,
           "unharvestable_ratio": 0.9366418977934367,
           "value": 1073758.404978,
           "variable": "harvestable_pods"
          },
          {
           "harvestable_pods": 1073758.404978,
           "harvested_pods": 3324269.373112,
           "season": 2353,
           "timestamp": "2021-11-12T00:01:57",
           "unharvestable_pods": 65017368.59460001,
           "unharvestable_ratio": 0.9366418977934367,
           "value": 3324269.373112,
           "variable": "harvested_pods"
          },
          {
           "harvestable_pods": 1073758.404978,
           "harvested_pods": 3324269.373112,
           "season": 2353,
           "timestamp": "2021-11-12T00:01:57",
           "unharvestable_pods": 65017368.59460001,
           "unharvestable_ratio": 0.9366418977934367,
           "value": 65017368.59460001,
           "variable": "unharvestable_pods"
          },
          {
           "harvestable_pods": 932821.3075190005,
           "harvested_pods": 3548049.174483,
           "season": 2377,
           "timestamp": "2021-11-13T00:00:17",
           "unharvestable_pods": 70218506.559914,
           "unharvestable_ratio": 0.9400146204768527,
           "value": 70218506.559914,
           "variable": "unharvestable_pods"
          },
          {
           "harvestable_pods": 932821.3075190005,
           "harvested_pods": 3548049.174483,
           "season": 2377,
           "timestamp": "2021-11-13T00:00:17",
           "unharvestable_pods": 70218506.559914,
           "unharvestable_ratio": 0.9400146204768527,
           "value": 3548049.174483,
           "variable": "harvested_pods"
          },
          {
           "harvestable_pods": 932821.3075190005,
           "harvested_pods": 3548049.174483,
           "season": 2377,
           "timestamp": "2021-11-13T00:00:17",
           "unharvestable_pods": 70218506.559914,
           "unharvestable_ratio": 0.9400146204768527,
           "value": 932821.3075190005,
           "variable": "harvestable_pods"
          },
          {
           "harvestable_pods": 932821.3075190005,
           "harvested_pods": 3548049.174483,
           "season": 2377,
           "timestamp": "2021-11-13T00:00:17",
           "unharvestable_pods": 70218506.559914,
           "unharvestable_ratio": 0.9400146204768527,
           "value": 0.9400146204768527,
           "variable": "unharvestable_ratio"
          },
          {
           "harvestable_pods": 881834.0385710006,
           "harvested_pods": 3640517.214227,
           "season": 2401,
           "timestamp": "2021-11-14T00:00:31",
           "unharvestable_pods": 72384184.56610899,
           "unharvestable_ratio": 0.9411967890031238,
           "value": 881834.0385710006,
           "variable": "harvestable_pods"
          },
          {
           "harvestable_pods": 881834.0385710006,
           "harvested_pods": 3640517.214227,
           "season": 2401,
           "timestamp": "2021-11-14T00:00:31",
           "unharvestable_pods": 72384184.56610899,
           "unharvestable_ratio": 0.9411967890031238,
           "value": 0.9411967890031238,
           "variable": "unharvestable_ratio"
          },
          {
           "harvestable_pods": 881834.0385710006,
           "harvested_pods": 3640517.214227,
           "season": 2401,
           "timestamp": "2021-11-14T00:00:31",
           "unharvestable_pods": 72384184.56610899,
           "unharvestable_ratio": 0.9411967890031238,
           "value": 72384184.56610899,
           "variable": "unharvestable_pods"
          },
          {
           "harvestable_pods": 881834.0385710006,
           "harvested_pods": 3640517.214227,
           "season": 2401,
           "timestamp": "2021-11-14T00:00:31",
           "unharvestable_pods": 72384184.56610899,
           "unharvestable_ratio": 0.9411967890031238,
           "value": 3640517.214227,
           "variable": "harvested_pods"
          },
          {
           "harvestable_pods": 643220.9590400001,
           "harvested_pods": 4038702.091539,
           "season": 2425,
           "timestamp": "2021-11-15T00:01:44",
           "unharvestable_pods": 83581328.241115,
           "unharvestable_ratio": 0.9469550126234746,
           "value": 83581328.241115,
           "variable": "unharvestable_pods"
          },
          {
           "harvestable_pods": 643220.9590400001,
           "harvested_pods": 4038702.091539,
           "season": 2425,
           "timestamp": "2021-11-15T00:01:44",
           "unharvestable_pods": 83581328.241115,
           "unharvestable_ratio": 0.9469550126234746,
           "value": 4038702.091539,
           "variable": "harvested_pods"
          },
          {
           "harvestable_pods": 643220.9590400001,
           "harvested_pods": 4038702.091539,
           "season": 2425,
           "timestamp": "2021-11-15T00:01:44",
           "unharvestable_pods": 83581328.241115,
           "unharvestable_ratio": 0.9469550126234746,
           "value": 643220.9590400001,
           "variable": "harvestable_pods"
          },
          {
           "harvestable_pods": 643220.9590400001,
           "harvested_pods": 4038702.091539,
           "season": 2425,
           "timestamp": "2021-11-15T00:01:44",
           "unharvestable_pods": 83581328.241115,
           "unharvestable_ratio": 0.9469550126234746,
           "value": 0.9469550126234746,
           "variable": "unharvestable_ratio"
          },
          {
           "harvestable_pods": 477898.504187,
           "harvested_pods": 4336050.723231,
           "season": 2449,
           "timestamp": "2021-11-16T00:00:56",
           "unharvestable_pods": 92874055.719544,
           "unharvestable_ratio": 0.9507211839362298,
           "value": 0.9507211839362298,
           "variable": "unharvestable_ratio"
          },
          {
           "harvestable_pods": 477898.504187,
           "harvested_pods": 4336050.723231,
           "season": 2449,
           "timestamp": "2021-11-16T00:00:56",
           "unharvestable_pods": 92874055.719544,
           "unharvestable_ratio": 0.9507211839362298,
           "value": 92874055.719544,
           "variable": "unharvestable_pods"
          },
          {
           "harvestable_pods": 477898.504187,
           "harvested_pods": 4336050.723231,
           "season": 2449,
           "timestamp": "2021-11-16T00:00:56",
           "unharvestable_pods": 92874055.719544,
           "unharvestable_ratio": 0.9507211839362298,
           "value": 4336050.723231,
           "variable": "harvested_pods"
          },
          {
           "harvestable_pods": 477898.504187,
           "harvested_pods": 4336050.723231,
           "season": 2449,
           "timestamp": "2021-11-16T00:00:56",
           "unharvestable_pods": 92874055.719544,
           "unharvestable_ratio": 0.9507211839362298,
           "value": 477898.504187,
           "variable": "harvestable_pods"
          },
          {
           "harvestable_pods": 346532.1186119998,
           "harvested_pods": 4988304.762608,
           "season": 2473,
           "timestamp": "2021-11-17T00:00:50",
           "unharvestable_pods": 102548094.300176,
           "unharvestable_ratio": 0.950549759607014,
           "value": 0.950549759607014,
           "variable": "unharvestable_ratio"
          },
          {
           "harvestable_pods": 346532.1186119998,
           "harvested_pods": 4988304.762608,
           "season": 2473,
           "timestamp": "2021-11-17T00:00:50",
           "unharvestable_pods": 102548094.300176,
           "unharvestable_ratio": 0.950549759607014,
           "value": 346532.1186119998,
           "variable": "harvestable_pods"
          },
          {
           "harvestable_pods": 346532.1186119998,
           "harvested_pods": 4988304.762608,
           "season": 2473,
           "timestamp": "2021-11-17T00:00:50",
           "unharvestable_pods": 102548094.300176,
           "unharvestable_ratio": 0.950549759607014,
           "value": 102548094.300176,
           "variable": "unharvestable_pods"
          },
          {
           "harvestable_pods": 346532.1186119998,
           "harvested_pods": 4988304.762608,
           "season": 2473,
           "timestamp": "2021-11-17T00:00:50",
           "unharvestable_pods": 102548094.300176,
           "unharvestable_ratio": 0.950549759607014,
           "value": 4988304.762608,
           "variable": "harvested_pods"
          },
          {
           "harvestable_pods": 358681.3959459998,
           "harvested_pods": 5312720.314864,
           "season": 2497,
           "timestamp": "2021-11-18T00:00:38",
           "unharvestable_pods": 111038671.63081099,
           "unharvestable_ratio": 0.9514060650599602,
           "value": 111038671.63081099,
           "variable": "unharvestable_pods"
          },
          {
           "harvestable_pods": 358681.3959459998,
           "harvested_pods": 5312720.314864,
           "season": 2497,
           "timestamp": "2021-11-18T00:00:38",
           "unharvestable_pods": 111038671.63081099,
           "unharvestable_ratio": 0.9514060650599602,
           "value": 5312720.314864,
           "variable": "harvested_pods"
          },
          {
           "harvestable_pods": 358681.3959459998,
           "harvested_pods": 5312720.314864,
           "season": 2497,
           "timestamp": "2021-11-18T00:00:38",
           "unharvestable_pods": 111038671.63081099,
           "unharvestable_ratio": 0.9514060650599602,
           "value": 358681.3959459998,
           "variable": "harvestable_pods"
          },
          {
           "harvestable_pods": 358681.3959459998,
           "harvested_pods": 5312720.314864,
           "season": 2497,
           "timestamp": "2021-11-18T00:00:38",
           "unharvestable_pods": 111038671.63081099,
           "unharvestable_ratio": 0.9514060650599602,
           "value": 0.9514060650599602,
           "variable": "unharvestable_ratio"
          },
          {
           "harvestable_pods": 156528.71932299994,
           "harvested_pods": 5641302.664122,
           "season": 2521,
           "timestamp": "2021-11-19T00:00:49",
           "unharvestable_pods": 118703042.13422501,
           "unharvestable_ratio": 0.9534313999602411,
           "value": 0.9534313999602411,
           "variable": "unharvestable_ratio"
          },
          {
           "harvestable_pods": 156528.71932299994,
           "harvested_pods": 5641302.664122,
           "season": 2521,
           "timestamp": "2021-11-19T00:00:49",
           "unharvestable_pods": 118703042.13422501,
           "unharvestable_ratio": 0.9534313999602411,
           "value": 118703042.13422501,
           "variable": "unharvestable_pods"
          },
          {
           "harvestable_pods": 156528.71932299994,
           "harvested_pods": 5641302.664122,
           "season": 2521,
           "timestamp": "2021-11-19T00:00:49",
           "unharvestable_pods": 118703042.13422501,
           "unharvestable_ratio": 0.9534313999602411,
           "value": 5641302.664122,
           "variable": "harvested_pods"
          },
          {
           "harvestable_pods": 156528.71932299994,
           "harvested_pods": 5641302.664122,
           "season": 2521,
           "timestamp": "2021-11-19T00:00:49",
           "unharvestable_pods": 118703042.13422501,
           "unharvestable_ratio": 0.9534313999602411,
           "value": 156528.71932299994,
           "variable": "harvestable_pods"
          },
          {
           "harvestable_pods": 203525.50348199997,
           "harvested_pods": 5802462.985656,
           "season": 2545,
           "timestamp": "2021-11-20T00:01:08",
           "unharvestable_pods": 122050430.590826,
           "unharvestable_ratio": 0.9530988877223906,
           "value": 0.9530988877223906,
           "variable": "unharvestable_ratio"
          },
          {
           "harvestable_pods": 203525.50348199997,
           "harvested_pods": 5802462.985656,
           "season": 2545,
           "timestamp": "2021-11-20T00:01:08",
           "unharvestable_pods": 122050430.590826,
           "unharvestable_ratio": 0.9530988877223906,
           "value": 203525.50348199997,
           "variable": "harvestable_pods"
          },
          {
           "harvestable_pods": 203525.50348199997,
           "harvested_pods": 5802462.985656,
           "season": 2545,
           "timestamp": "2021-11-20T00:01:08",
           "unharvestable_pods": 122050430.590826,
           "unharvestable_ratio": 0.9530988877223906,
           "value": 122050430.590826,
           "variable": "unharvestable_pods"
          },
          {
           "harvestable_pods": 203525.50348199997,
           "harvested_pods": 5802462.985656,
           "season": 2545,
           "timestamp": "2021-11-20T00:01:08",
           "unharvestable_pods": 122050430.590826,
           "unharvestable_ratio": 0.9530988877223906,
           "value": 5802462.985656,
           "variable": "harvested_pods"
          },
          {
           "harvestable_pods": 365387.9938280005,
           "harvested_pods": 6137556.431239,
           "season": 2569,
           "timestamp": "2021-11-21T00:00:01",
           "unharvestable_pods": 126667661.852723,
           "unharvestable_ratio": 0.9511683200457761,
           "value": 0.9511683200457761,
           "variable": "unharvestable_ratio"
          },
          {
           "harvestable_pods": 365387.9938280005,
           "harvested_pods": 6137556.431239,
           "season": 2569,
           "timestamp": "2021-11-21T00:00:01",
           "unharvestable_pods": 126667661.852723,
           "unharvestable_ratio": 0.9511683200457761,
           "value": 126667661.852723,
           "variable": "unharvestable_pods"
          },
          {
           "harvestable_pods": 365387.9938280005,
           "harvested_pods": 6137556.431239,
           "season": 2569,
           "timestamp": "2021-11-21T00:00:01",
           "unharvestable_pods": 126667661.852723,
           "unharvestable_ratio": 0.9511683200457761,
           "value": 6137556.431239,
           "variable": "harvested_pods"
          },
          {
           "harvestable_pods": 365387.9938280005,
           "harvested_pods": 6137556.431239,
           "season": 2569,
           "timestamp": "2021-11-21T00:00:01",
           "unharvestable_pods": 126667661.852723,
           "unharvestable_ratio": 0.9511683200457761,
           "value": 365387.9938280005,
           "variable": "harvestable_pods"
          },
          {
           "harvestable_pods": 267833.80058200005,
           "harvested_pods": 6818536.16825,
           "season": 2593,
           "timestamp": "2021-11-22T00:01:39",
           "unharvestable_pods": 137373400.84392202,
           "unharvestable_ratio": 0.9509457205354617,
           "value": 6818536.16825,
           "variable": "harvested_pods"
          },
          {
           "harvestable_pods": 267833.80058200005,
           "harvested_pods": 6818536.16825,
           "season": 2593,
           "timestamp": "2021-11-22T00:01:39",
           "unharvestable_pods": 137373400.84392202,
           "unharvestable_ratio": 0.9509457205354617,
           "value": 267833.80058200005,
           "variable": "harvestable_pods"
          },
          {
           "harvestable_pods": 267833.80058200005,
           "harvested_pods": 6818536.16825,
           "season": 2593,
           "timestamp": "2021-11-22T00:01:39",
           "unharvestable_pods": 137373400.84392202,
           "unharvestable_ratio": 0.9509457205354617,
           "value": 137373400.84392202,
           "variable": "unharvestable_pods"
          },
          {
           "harvestable_pods": 267833.80058200005,
           "harvested_pods": 6818536.16825,
           "season": 2593,
           "timestamp": "2021-11-22T00:01:39",
           "unharvestable_pods": 137373400.84392202,
           "unharvestable_ratio": 0.9509457205354617,
           "value": 0.9509457205354617,
           "variable": "unharvestable_ratio"
          },
          {
           "harvestable_pods": 392605.1556590004,
           "harvested_pods": 7539854.901993,
           "season": 2617,
           "timestamp": "2021-11-23T00:01:23",
           "unharvestable_pods": 152720308.33047,
           "unharvestable_ratio": 0.9506235707156449,
           "value": 0.9506235707156449,
           "variable": "unharvestable_ratio"
          },
          {
           "harvestable_pods": 392605.1556590004,
           "harvested_pods": 7539854.901993,
           "season": 2617,
           "timestamp": "2021-11-23T00:01:23",
           "unharvestable_pods": 152720308.33047,
           "unharvestable_ratio": 0.9506235707156449,
           "value": 392605.1556590004,
           "variable": "harvestable_pods"
          },
          {
           "harvestable_pods": 392605.1556590004,
           "harvested_pods": 7539854.901993,
           "season": 2617,
           "timestamp": "2021-11-23T00:01:23",
           "unharvestable_pods": 152720308.33047,
           "unharvestable_ratio": 0.9506235707156449,
           "value": 152720308.33047,
           "variable": "unharvestable_pods"
          },
          {
           "harvestable_pods": 392605.1556590004,
           "harvested_pods": 7539854.901993,
           "season": 2617,
           "timestamp": "2021-11-23T00:01:23",
           "unharvestable_pods": 152720308.33047,
           "unharvestable_ratio": 0.9506235707156449,
           "value": 7539854.901993,
           "variable": "harvested_pods"
          },
          {
           "harvestable_pods": 814208.9425070006,
           "harvested_pods": 8744902.959668,
           "season": 2629,
           "timestamp": "2021-11-24T00:00:42",
           "unharvestable_pods": 182557777.074706,
           "unharvestable_ratio": 0.9502432505903979,
           "value": 182557777.074706,
           "variable": "unharvestable_pods"
          },
          {
           "harvestable_pods": 814208.9425070006,
           "harvested_pods": 8744902.959668,
           "season": 2629,
           "timestamp": "2021-11-24T00:00:42",
           "unharvestable_pods": 182557777.074706,
           "unharvestable_ratio": 0.9502432505903979,
           "value": 8744902.959668,
           "variable": "harvested_pods"
          },
          {
           "harvestable_pods": 814208.9425070006,
           "harvested_pods": 8744902.959668,
           "season": 2629,
           "timestamp": "2021-11-24T00:00:42",
           "unharvestable_pods": 182557777.074706,
           "unharvestable_ratio": 0.9502432505903979,
           "value": 814208.9425070006,
           "variable": "harvestable_pods"
          },
          {
           "harvestable_pods": 814208.9425070006,
           "harvested_pods": 8744902.959668,
           "season": 2629,
           "timestamp": "2021-11-24T00:00:42",
           "unharvestable_pods": 182557777.074706,
           "unharvestable_ratio": 0.9502432505903979,
           "value": 0.9502432505903979,
           "variable": "unharvestable_ratio"
          },
          {
           "harvestable_pods": 753960.1080780011,
           "harvested_pods": 10778016.628453,
           "season": 2653,
           "timestamp": "2021-11-25T00:00:29",
           "unharvestable_pods": 195608015.07665202,
           "unharvestable_ratio": 0.9443276180732326,
           "value": 195608015.07665202,
           "variable": "unharvestable_pods"
          },
          {
           "harvestable_pods": 753960.1080780011,
           "harvested_pods": 10778016.628453,
           "season": 2653,
           "timestamp": "2021-11-25T00:00:29",
           "unharvestable_pods": 195608015.07665202,
           "unharvestable_ratio": 0.9443276180732326,
           "value": 10778016.628453,
           "variable": "harvested_pods"
          },
          {
           "harvestable_pods": 753960.1080780011,
           "harvested_pods": 10778016.628453,
           "season": 2653,
           "timestamp": "2021-11-25T00:00:29",
           "unharvestable_pods": 195608015.07665202,
           "unharvestable_ratio": 0.9443276180732326,
           "value": 753960.1080780011,
           "variable": "harvestable_pods"
          },
          {
           "harvestable_pods": 753960.1080780011,
           "harvested_pods": 10778016.628453,
           "season": 2653,
           "timestamp": "2021-11-25T00:00:29",
           "unharvestable_pods": 195608015.07665202,
           "unharvestable_ratio": 0.9443276180732326,
           "value": 0.9443276180732326,
           "variable": "unharvestable_ratio"
          },
          {
           "harvestable_pods": 945187.2535420004,
           "harvested_pods": 11611253.820139,
           "season": 2677,
           "timestamp": "2021-11-26T00:00:31",
           "unharvestable_pods": 204898354.104481,
           "unharvestable_ratio": 0.942257235287024,
           "value": 945187.2535420004,
           "variable": "harvestable_pods"
          },
          {
           "harvestable_pods": 945187.2535420004,
           "harvested_pods": 11611253.820139,
           "season": 2677,
           "timestamp": "2021-11-26T00:00:31",
           "unharvestable_pods": 204898354.104481,
           "unharvestable_ratio": 0.942257235287024,
           "value": 0.942257235287024,
           "variable": "unharvestable_ratio"
          },
          {
           "harvestable_pods": 945187.2535420004,
           "harvested_pods": 11611253.820139,
           "season": 2677,
           "timestamp": "2021-11-26T00:00:31",
           "unharvestable_pods": 204898354.104481,
           "unharvestable_ratio": 0.942257235287024,
           "value": 204898354.104481,
           "variable": "unharvestable_pods"
          },
          {
           "harvestable_pods": 945187.2535420004,
           "harvested_pods": 11611253.820139,
           "season": 2677,
           "timestamp": "2021-11-26T00:00:31",
           "unharvestable_pods": 204898354.104481,
           "unharvestable_ratio": 0.942257235287024,
           "value": 11611253.820139,
           "variable": "harvested_pods"
          },
          {
           "harvestable_pods": 691882.454101,
           "harvested_pods": 13260289.481039,
           "season": 2701,
           "timestamp": "2021-11-27T00:00:49",
           "unharvestable_pods": 219017949.36698797,
           "unharvestable_ratio": 0.9401117540002217,
           "value": 219017949.36698797,
           "variable": "unharvestable_pods"
          },
          {
           "harvestable_pods": 691882.454101,
           "harvested_pods": 13260289.481039,
           "season": 2701,
           "timestamp": "2021-11-27T00:00:49",
           "unharvestable_pods": 219017949.36698797,
           "unharvestable_ratio": 0.9401117540002217,
           "value": 13260289.481039,
           "variable": "harvested_pods"
          },
          {
           "harvestable_pods": 691882.454101,
           "harvested_pods": 13260289.481039,
           "season": 2701,
           "timestamp": "2021-11-27T00:00:49",
           "unharvestable_pods": 219017949.36698797,
           "unharvestable_ratio": 0.9401117540002217,
           "value": 691882.454101,
           "variable": "harvestable_pods"
          },
          {
           "harvestable_pods": 691882.454101,
           "harvested_pods": 13260289.481039,
           "season": 2701,
           "timestamp": "2021-11-27T00:00:49",
           "unharvestable_pods": 219017949.36698797,
           "unharvestable_ratio": 0.9401117540002217,
           "value": 0.9401117540002217,
           "variable": "unharvestable_ratio"
          },
          {
           "harvestable_pods": 637835.0070659984,
           "harvested_pods": 14751092.230032,
           "season": 2725,
           "timestamp": "2021-11-28T00:00:38",
           "unharvestable_pods": 227655722.924725,
           "unharvestable_ratio": 0.9366827155962831,
           "value": 0.9366827155962831,
           "variable": "unharvestable_ratio"
          },
          {
           "harvestable_pods": 637835.0070659984,
           "harvested_pods": 14751092.230032,
           "season": 2725,
           "timestamp": "2021-11-28T00:00:38",
           "unharvestable_pods": 227655722.924725,
           "unharvestable_ratio": 0.9366827155962831,
           "value": 637835.0070659984,
           "variable": "harvestable_pods"
          },
          {
           "harvestable_pods": 637835.0070659984,
           "harvested_pods": 14751092.230032,
           "season": 2725,
           "timestamp": "2021-11-28T00:00:38",
           "unharvestable_pods": 227655722.924725,
           "unharvestable_ratio": 0.9366827155962831,
           "value": 14751092.230032,
           "variable": "harvested_pods"
          },
          {
           "harvestable_pods": 637835.0070659984,
           "harvested_pods": 14751092.230032,
           "season": 2725,
           "timestamp": "2021-11-28T00:00:38",
           "unharvestable_pods": 227655722.924725,
           "unharvestable_ratio": 0.9366827155962831,
           "value": 227655722.924725,
           "variable": "unharvestable_pods"
          },
          {
           "harvestable_pods": 795706.5450299997,
           "harvested_pods": 16434650.398223,
           "season": 2749,
           "timestamp": "2021-11-29T00:01:08",
           "unharvestable_pods": 241904230.735486,
           "unharvestable_ratio": 0.9335080774141418,
           "value": 0.9335080774141418,
           "variable": "unharvestable_ratio"
          },
          {
           "harvestable_pods": 795706.5450299997,
           "harvested_pods": 16434650.398223,
           "season": 2749,
           "timestamp": "2021-11-29T00:01:08",
           "unharvestable_pods": 241904230.735486,
           "unharvestable_ratio": 0.9335080774141418,
           "value": 795706.5450299997,
           "variable": "harvestable_pods"
          },
          {
           "harvestable_pods": 795706.5450299997,
           "harvested_pods": 16434650.398223,
           "season": 2749,
           "timestamp": "2021-11-29T00:01:08",
           "unharvestable_pods": 241904230.735486,
           "unharvestable_ratio": 0.9335080774141418,
           "value": 241904230.735486,
           "variable": "unharvestable_pods"
          },
          {
           "harvestable_pods": 795706.5450299997,
           "harvested_pods": 16434650.398223,
           "season": 2749,
           "timestamp": "2021-11-29T00:01:08",
           "unharvestable_pods": 241904230.735486,
           "unharvestable_ratio": 0.9335080774141418,
           "value": 16434650.398223,
           "variable": "harvested_pods"
          },
          {
           "harvestable_pods": 1016208.7776620016,
           "harvested_pods": 19411773.106953,
           "season": 2773,
           "timestamp": "2021-11-30T00:01:06",
           "unharvestable_pods": 255626269.966228,
           "unharvestable_ratio": 0.926000118644604,
           "value": 255626269.966228,
           "variable": "unharvestable_pods"
          },
          {
           "harvestable_pods": 1016208.7776620016,
           "harvested_pods": 19411773.106953,
           "season": 2773,
           "timestamp": "2021-11-30T00:01:06",
           "unharvestable_pods": 255626269.966228,
           "unharvestable_ratio": 0.926000118644604,
           "value": 19411773.106953,
           "variable": "harvested_pods"
          },
          {
           "harvestable_pods": 1016208.7776620016,
           "harvested_pods": 19411773.106953,
           "season": 2773,
           "timestamp": "2021-11-30T00:01:06",
           "unharvestable_pods": 255626269.966228,
           "unharvestable_ratio": 0.926000118644604,
           "value": 1016208.7776620016,
           "variable": "harvestable_pods"
          },
          {
           "harvestable_pods": 1016208.7776620016,
           "harvested_pods": 19411773.106953,
           "season": 2773,
           "timestamp": "2021-11-30T00:01:06",
           "unharvestable_pods": 255626269.966228,
           "unharvestable_ratio": 0.926000118644604,
           "value": 0.926000118644604,
           "variable": "unharvestable_ratio"
          },
          {
           "harvestable_pods": 797996.376747001,
           "harvested_pods": 21136794.819107,
           "season": 2797,
           "timestamp": "2021-12-01T00:02:37",
           "unharvestable_pods": 276310450.99421,
           "unharvestable_ratio": 0.926453843706665,
           "value": 276310450.99421,
           "variable": "unharvestable_pods"
          },
          {
           "harvestable_pods": 797996.376747001,
           "harvested_pods": 21136794.819107,
           "season": 2797,
           "timestamp": "2021-12-01T00:02:37",
           "unharvestable_pods": 276310450.99421,
           "unharvestable_ratio": 0.926453843706665,
           "value": 21136794.819107,
           "variable": "harvested_pods"
          },
          {
           "harvestable_pods": 797996.376747001,
           "harvested_pods": 21136794.819107,
           "season": 2797,
           "timestamp": "2021-12-01T00:02:37",
           "unharvestable_pods": 276310450.99421,
           "unharvestable_ratio": 0.926453843706665,
           "value": 797996.376747001,
           "variable": "harvestable_pods"
          },
          {
           "harvestable_pods": 797996.376747001,
           "harvested_pods": 21136794.819107,
           "season": 2797,
           "timestamp": "2021-12-01T00:02:37",
           "unharvestable_pods": 276310450.99421,
           "unharvestable_ratio": 0.926453843706665,
           "value": 0.926453843706665,
           "variable": "unharvestable_ratio"
          },
          {
           "harvestable_pods": 600233.096241001,
           "harvested_pods": 21476004.207805,
           "season": 2821,
           "timestamp": "2021-12-02T00:01:18",
           "unharvestable_pods": 290527047.44132304,
           "unharvestable_ratio": 0.9293793815313611,
           "value": 0.9293793815313611,
           "variable": "unharvestable_ratio"
          },
          {
           "harvestable_pods": 600233.096241001,
           "harvested_pods": 21476004.207805,
           "season": 2821,
           "timestamp": "2021-12-02T00:01:18",
           "unharvestable_pods": 290527047.44132304,
           "unharvestable_ratio": 0.9293793815313611,
           "value": 290527047.44132304,
           "variable": "unharvestable_pods"
          },
          {
           "harvestable_pods": 600233.096241001,
           "harvested_pods": 21476004.207805,
           "season": 2821,
           "timestamp": "2021-12-02T00:01:18",
           "unharvestable_pods": 290527047.44132304,
           "unharvestable_ratio": 0.9293793815313611,
           "value": 21476004.207805,
           "variable": "harvested_pods"
          },
          {
           "harvestable_pods": 600233.096241001,
           "harvested_pods": 21476004.207805,
           "season": 2821,
           "timestamp": "2021-12-02T00:01:18",
           "unharvestable_pods": 290527047.44132304,
           "unharvestable_ratio": 0.9293793815313611,
           "value": 600233.096241001,
           "variable": "harvestable_pods"
          },
          {
           "harvestable_pods": 469590.81818300113,
           "harvested_pods": 21677457.730471,
           "season": 2845,
           "timestamp": "2021-12-03T00:01:08",
           "unharvestable_pods": 316153109.209296,
           "unharvestable_ratio": 0.9345343239109573,
           "value": 469590.81818300113,
           "variable": "harvestable_pods"
          },
          {
           "harvestable_pods": 469590.81818300113,
           "harvested_pods": 21677457.730471,
           "season": 2845,
           "timestamp": "2021-12-03T00:01:08",
           "unharvestable_pods": 316153109.209296,
           "unharvestable_ratio": 0.9345343239109573,
           "value": 0.9345343239109573,
           "variable": "unharvestable_ratio"
          },
          {
           "harvestable_pods": 469590.81818300113,
           "harvested_pods": 21677457.730471,
           "season": 2845,
           "timestamp": "2021-12-03T00:01:08",
           "unharvestable_pods": 316153109.209296,
           "unharvestable_ratio": 0.9345343239109573,
           "value": 316153109.209296,
           "variable": "unharvestable_pods"
          },
          {
           "harvestable_pods": 469590.81818300113,
           "harvested_pods": 21677457.730471,
           "season": 2845,
           "timestamp": "2021-12-03T00:01:08",
           "unharvestable_pods": 316153109.209296,
           "unharvestable_ratio": 0.9345343239109573,
           "value": 21677457.730471,
           "variable": "harvested_pods"
          },
          {
           "harvestable_pods": 463170.3509979993,
           "harvested_pods": 21811570.342467,
           "season": 2869,
           "timestamp": "2021-12-04T00:00:14",
           "unharvestable_pods": 329369201.572774,
           "unharvestable_ratio": 0.936655411863742,
           "value": 0.936655411863742,
           "variable": "unharvestable_ratio"
          },
          {
           "harvestable_pods": 463170.3509979993,
           "harvested_pods": 21811570.342467,
           "season": 2869,
           "timestamp": "2021-12-04T00:00:14",
           "unharvestable_pods": 329369201.572774,
           "unharvestable_ratio": 0.936655411863742,
           "value": 463170.3509979993,
           "variable": "harvestable_pods"
          },
          {
           "harvestable_pods": 463170.3509979993,
           "harvested_pods": 21811570.342467,
           "season": 2869,
           "timestamp": "2021-12-04T00:00:14",
           "unharvestable_pods": 329369201.572774,
           "unharvestable_ratio": 0.936655411863742,
           "value": 329369201.572774,
           "variable": "unharvestable_pods"
          },
          {
           "harvestable_pods": 463170.3509979993,
           "harvested_pods": 21811570.342467,
           "season": 2869,
           "timestamp": "2021-12-04T00:00:14",
           "unharvestable_pods": 329369201.572774,
           "unharvestable_ratio": 0.936655411863742,
           "value": 21811570.342467,
           "variable": "harvested_pods"
          },
          {
           "harvestable_pods": 418232.22349200025,
           "harvested_pods": 21873565.155148,
           "season": 2893,
           "timestamp": "2021-12-05T00:00:54",
           "unharvestable_pods": 336548354.888647,
           "unharvestable_ratio": 0.9378781966349305,
           "value": 336548354.888647,
           "variable": "unharvestable_pods"
          },
          {
           "harvestable_pods": 418232.22349200025,
           "harvested_pods": 21873565.155148,
           "season": 2893,
           "timestamp": "2021-12-05T00:00:54",
           "unharvestable_pods": 336548354.888647,
           "unharvestable_ratio": 0.9378781966349305,
           "value": 21873565.155148,
           "variable": "harvested_pods"
          },
          {
           "harvestable_pods": 418232.22349200025,
           "harvested_pods": 21873565.155148,
           "season": 2893,
           "timestamp": "2021-12-05T00:00:54",
           "unharvestable_pods": 336548354.888647,
           "unharvestable_ratio": 0.9378781966349305,
           "value": 418232.22349200025,
           "variable": "harvestable_pods"
          },
          {
           "harvestable_pods": 418232.22349200025,
           "harvested_pods": 21873565.155148,
           "season": 2893,
           "timestamp": "2021-12-05T00:00:54",
           "unharvestable_pods": 336548354.888647,
           "unharvestable_ratio": 0.9378781966349305,
           "value": 0.9378781966349305,
           "variable": "unharvestable_ratio"
          },
          {
           "harvestable_pods": 403559.83022100106,
           "harvested_pods": 21888237.548419,
           "season": 2917,
           "timestamp": "2021-12-06T00:00:12",
           "unharvestable_pods": 338509295.797626,
           "unharvestable_ratio": 0.9382158263923287,
           "value": 338509295.797626,
           "variable": "unharvestable_pods"
          },
          {
           "harvestable_pods": 403559.83022100106,
           "harvested_pods": 21888237.548419,
           "season": 2917,
           "timestamp": "2021-12-06T00:00:12",
           "unharvestable_pods": 338509295.797626,
           "unharvestable_ratio": 0.9382158263923287,
           "value": 21888237.548419,
           "variable": "harvested_pods"
          },
          {
           "harvestable_pods": 403559.83022100106,
           "harvested_pods": 21888237.548419,
           "season": 2917,
           "timestamp": "2021-12-06T00:00:12",
           "unharvestable_pods": 338509295.797626,
           "unharvestable_ratio": 0.9382158263923287,
           "value": 403559.83022100106,
           "variable": "harvestable_pods"
          },
          {
           "harvestable_pods": 403559.83022100106,
           "harvested_pods": 21888237.548419,
           "season": 2917,
           "timestamp": "2021-12-06T00:00:12",
           "unharvestable_pods": 338509295.797626,
           "unharvestable_ratio": 0.9382158263923287,
           "value": 0.9382158263923287,
           "variable": "unharvestable_ratio"
          },
          {
           "harvestable_pods": 401618.90022100136,
           "harvested_pods": 21890178.478419,
           "season": 2941,
           "timestamp": "2021-12-07T00:00:11",
           "unharvestable_pods": 339625584.866187,
           "unharvestable_ratio": 0.9384063919771606,
           "value": 0.9384063919771606,
           "variable": "unharvestable_ratio"
          },
          {
           "harvestable_pods": 401618.90022100136,
           "harvested_pods": 21890178.478419,
           "season": 2941,
           "timestamp": "2021-12-07T00:00:11",
           "unharvestable_pods": 339625584.866187,
           "unharvestable_ratio": 0.9384063919771606,
           "value": 401618.90022100136,
           "variable": "harvestable_pods"
          },
          {
           "harvestable_pods": 401618.90022100136,
           "harvested_pods": 21890178.478419,
           "season": 2941,
           "timestamp": "2021-12-07T00:00:11",
           "unharvestable_pods": 339625584.866187,
           "unharvestable_ratio": 0.9384063919771606,
           "value": 339625584.866187,
           "variable": "unharvestable_pods"
          },
          {
           "harvestable_pods": 401618.90022100136,
           "harvested_pods": 21890178.478419,
           "season": 2941,
           "timestamp": "2021-12-07T00:00:11",
           "unharvestable_pods": 339625584.866187,
           "unharvestable_ratio": 0.9384063919771606,
           "value": 21890178.478419,
           "variable": "harvested_pods"
          },
          {
           "harvestable_pods": 400523.90022100136,
           "harvested_pods": 21891273.478419,
           "season": 2965,
           "timestamp": "2021-12-08T00:00:12",
           "unharvestable_pods": 342089922.628389,
           "unharvestable_ratio": 0.9388229536371638,
           "value": 342089922.628389,
           "variable": "unharvestable_pods"
          },
          {
           "harvestable_pods": 400523.90022100136,
           "harvested_pods": 21891273.478419,
           "season": 2965,
           "timestamp": "2021-12-08T00:00:12",
           "unharvestable_pods": 342089922.628389,
           "unharvestable_ratio": 0.9388229536371638,
           "value": 21891273.478419,
           "variable": "harvested_pods"
          },
          {
           "harvestable_pods": 400523.90022100136,
           "harvested_pods": 21891273.478419,
           "season": 2965,
           "timestamp": "2021-12-08T00:00:12",
           "unharvestable_pods": 342089922.628389,
           "unharvestable_ratio": 0.9388229536371638,
           "value": 400523.90022100136,
           "variable": "harvestable_pods"
          },
          {
           "harvestable_pods": 400523.90022100136,
           "harvested_pods": 21891273.478419,
           "season": 2965,
           "timestamp": "2021-12-08T00:00:12",
           "unharvestable_pods": 342089922.628389,
           "unharvestable_ratio": 0.9388229536371638,
           "value": 0.9388229536371638,
           "variable": "unharvestable_ratio"
          },
          {
           "harvestable_pods": 400171.260619998,
           "harvested_pods": 21891626.11802,
           "season": 2989,
           "timestamp": "2021-12-09T00:00:34",
           "unharvestable_pods": 342595224.867066,
           "unharvestable_ratio": 0.9389076727326596,
           "value": 400171.260619998,
           "variable": "harvestable_pods"
          },
          {
           "harvestable_pods": 400171.260619998,
           "harvested_pods": 21891626.11802,
           "season": 2989,
           "timestamp": "2021-12-09T00:00:34",
           "unharvestable_pods": 342595224.867066,
           "unharvestable_ratio": 0.9389076727326596,
           "value": 0.9389076727326596,
           "variable": "unharvestable_ratio"
          },
          {
           "harvestable_pods": 400171.260619998,
           "harvested_pods": 21891626.11802,
           "season": 2989,
           "timestamp": "2021-12-09T00:00:34",
           "unharvestable_pods": 342595224.867066,
           "unharvestable_ratio": 0.9389076727326596,
           "value": 21891626.11802,
           "variable": "harvested_pods"
          },
          {
           "harvestable_pods": 400171.260619998,
           "harvested_pods": 21891626.11802,
           "season": 2989,
           "timestamp": "2021-12-09T00:00:34",
           "unharvestable_pods": 342595224.867066,
           "unharvestable_ratio": 0.9389076727326596,
           "value": 342595224.867066,
           "variable": "unharvestable_pods"
          },
          {
           "harvestable_pods": 400171.260619998,
           "harvested_pods": 21891626.11802,
           "season": 3013,
           "timestamp": "2021-12-10T00:00:24",
           "unharvestable_pods": 344648890.285113,
           "unharvestable_ratio": 0.9392495895710885,
           "value": 344648890.285113,
           "variable": "unharvestable_pods"
          },
          {
           "harvestable_pods": 400171.260619998,
           "harvested_pods": 21891626.11802,
           "season": 3013,
           "timestamp": "2021-12-10T00:00:24",
           "unharvestable_pods": 344648890.285113,
           "unharvestable_ratio": 0.9392495895710885,
           "value": 21891626.11802,
           "variable": "harvested_pods"
          },
          {
           "harvestable_pods": 400171.260619998,
           "harvested_pods": 21891626.11802,
           "season": 3013,
           "timestamp": "2021-12-10T00:00:24",
           "unharvestable_pods": 344648890.285113,
           "unharvestable_ratio": 0.9392495895710885,
           "value": 400171.260619998,
           "variable": "harvestable_pods"
          },
          {
           "harvestable_pods": 400171.260619998,
           "harvested_pods": 21891626.11802,
           "season": 3013,
           "timestamp": "2021-12-10T00:00:24",
           "unharvestable_pods": 344648890.285113,
           "unharvestable_ratio": 0.9392495895710885,
           "value": 0.9392495895710885,
           "variable": "unharvestable_ratio"
          },
          {
           "harvestable_pods": 400171.260619998,
           "harvested_pods": 21891626.11802,
           "season": 3037,
           "timestamp": "2021-12-11T00:00:51",
           "unharvestable_pods": 350368880.542697,
           "unharvestable_ratio": 0.9401820511276334,
           "value": 350368880.542697,
           "variable": "unharvestable_pods"
          },
          {
           "harvestable_pods": 400171.260619998,
           "harvested_pods": 21891626.11802,
           "season": 3037,
           "timestamp": "2021-12-11T00:00:51",
           "unharvestable_pods": 350368880.542697,
           "unharvestable_ratio": 0.9401820511276334,
           "value": 21891626.11802,
           "variable": "harvested_pods"
          },
          {
           "harvestable_pods": 400171.260619998,
           "harvested_pods": 21891626.11802,
           "season": 3037,
           "timestamp": "2021-12-11T00:00:51",
           "unharvestable_pods": 350368880.542697,
           "unharvestable_ratio": 0.9401820511276334,
           "value": 400171.260619998,
           "variable": "harvestable_pods"
          },
          {
           "harvestable_pods": 400171.260619998,
           "harvested_pods": 21891626.11802,
           "season": 3037,
           "timestamp": "2021-12-11T00:00:51",
           "unharvestable_pods": 350368880.542697,
           "unharvestable_ratio": 0.9401820511276334,
           "value": 0.9401820511276334,
           "variable": "unharvestable_ratio"
          },
          {
           "harvestable_pods": 399285.7418220006,
           "harvested_pods": 21892511.636818,
           "season": 3061,
           "timestamp": "2021-12-12T00:01:06",
           "unharvestable_pods": 356047282.770507,
           "unharvestable_ratio": 0.941079844646627,
           "value": 0.941079844646627,
           "variable": "unharvestable_ratio"
          },
          {
           "harvestable_pods": 399285.7418220006,
           "harvested_pods": 21892511.636818,
           "season": 3061,
           "timestamp": "2021-12-12T00:01:06",
           "unharvestable_pods": 356047282.770507,
           "unharvestable_ratio": 0.941079844646627,
           "value": 356047282.770507,
           "variable": "unharvestable_pods"
          },
          {
           "harvestable_pods": 399285.7418220006,
           "harvested_pods": 21892511.636818,
           "season": 3061,
           "timestamp": "2021-12-12T00:01:06",
           "unharvestable_pods": 356047282.770507,
           "unharvestable_ratio": 0.941079844646627,
           "value": 21892511.636818,
           "variable": "harvested_pods"
          },
          {
           "harvestable_pods": 399285.7418220006,
           "harvested_pods": 21892511.636818,
           "season": 3061,
           "timestamp": "2021-12-12T00:01:06",
           "unharvestable_pods": 356047282.770507,
           "unharvestable_ratio": 0.941079844646627,
           "value": 399285.7418220006,
           "variable": "harvestable_pods"
          },
          {
           "harvestable_pods": 395812.4922319986,
           "harvested_pods": 21895984.886408,
           "season": 3085,
           "timestamp": "2021-12-13T00:00:12",
           "unharvestable_pods": 356868345.699452,
           "unharvestable_ratio": 0.9412074349437917,
           "value": 21895984.886408,
           "variable": "harvested_pods"
          },
          {
           "harvestable_pods": 395812.4922319986,
           "harvested_pods": 21895984.886408,
           "season": 3085,
           "timestamp": "2021-12-13T00:00:12",
           "unharvestable_pods": 356868345.699452,
           "unharvestable_ratio": 0.9412074349437917,
           "value": 395812.4922319986,
           "variable": "harvestable_pods"
          },
          {
           "harvestable_pods": 395812.4922319986,
           "harvested_pods": 21895984.886408,
           "season": 3085,
           "timestamp": "2021-12-13T00:00:12",
           "unharvestable_pods": 356868345.699452,
           "unharvestable_ratio": 0.9412074349437917,
           "value": 356868345.699452,
           "variable": "unharvestable_pods"
          },
          {
           "harvestable_pods": 395812.4922319986,
           "harvested_pods": 21895984.886408,
           "season": 3085,
           "timestamp": "2021-12-13T00:00:12",
           "unharvestable_pods": 356868345.699452,
           "unharvestable_ratio": 0.9412074349437917,
           "value": 0.9412074349437917,
           "variable": "unharvestable_ratio"
          },
          {
           "harvestable_pods": 355012.94426099956,
           "harvested_pods": 21936784.434379,
           "season": 3109,
           "timestamp": "2021-12-14T00:01:35",
           "unharvestable_pods": 358557946.407727,
           "unharvestable_ratio": 0.9414682621103605,
           "value": 0.9414682621103605,
           "variable": "unharvestable_ratio"
          },
          {
           "harvestable_pods": 355012.94426099956,
           "harvested_pods": 21936784.434379,
           "season": 3109,
           "timestamp": "2021-12-14T00:01:35",
           "unharvestable_pods": 358557946.407727,
           "unharvestable_ratio": 0.9414682621103605,
           "value": 355012.94426099956,
           "variable": "harvestable_pods"
          },
          {
           "harvestable_pods": 355012.94426099956,
           "harvested_pods": 21936784.434379,
           "season": 3109,
           "timestamp": "2021-12-14T00:01:35",
           "unharvestable_pods": 358557946.407727,
           "unharvestable_ratio": 0.9414682621103605,
           "value": 21936784.434379,
           "variable": "harvested_pods"
          },
          {
           "harvestable_pods": 355012.94426099956,
           "harvested_pods": 21936784.434379,
           "season": 3109,
           "timestamp": "2021-12-14T00:01:35",
           "unharvestable_pods": 358557946.407727,
           "unharvestable_ratio": 0.9414682621103605,
           "value": 358557946.407727,
           "variable": "unharvestable_pods"
          },
          {
           "harvestable_pods": 355012.94426099956,
           "harvested_pods": 21936784.434379,
           "season": 3133,
           "timestamp": "2021-12-15T00:00:04",
           "unharvestable_pods": 360153901.180973,
           "unharvestable_ratio": 0.9417125164105741,
           "value": 360153901.180973,
           "variable": "unharvestable_pods"
          },
          {
           "harvestable_pods": 355012.94426099956,
           "harvested_pods": 21936784.434379,
           "season": 3133,
           "timestamp": "2021-12-15T00:00:04",
           "unharvestable_pods": 360153901.180973,
           "unharvestable_ratio": 0.9417125164105741,
           "value": 21936784.434379,
           "variable": "harvested_pods"
          },
          {
           "harvestable_pods": 355012.94426099956,
           "harvested_pods": 21936784.434379,
           "season": 3133,
           "timestamp": "2021-12-15T00:00:04",
           "unharvestable_pods": 360153901.180973,
           "unharvestable_ratio": 0.9417125164105741,
           "value": 355012.94426099956,
           "variable": "harvestable_pods"
          },
          {
           "harvestable_pods": 355012.94426099956,
           "harvested_pods": 21936784.434379,
           "season": 3133,
           "timestamp": "2021-12-15T00:00:04",
           "unharvestable_pods": 360153901.180973,
           "unharvestable_ratio": 0.9417125164105741,
           "value": 0.9417125164105741,
           "variable": "unharvestable_ratio"
          },
          {
           "harvestable_pods": 354643.70074300095,
           "harvested_pods": 21938884.735599,
           "season": 3157,
           "timestamp": "2021-12-16T00:00:57",
           "unharvestable_pods": 361241471.464755,
           "unharvestable_ratio": 0.9418735488492813,
           "value": 361241471.464755,
           "variable": "unharvestable_pods"
          },
          {
           "harvestable_pods": 354643.70074300095,
           "harvested_pods": 21938884.735599,
           "season": 3157,
           "timestamp": "2021-12-16T00:00:57",
           "unharvestable_pods": 361241471.464755,
           "unharvestable_ratio": 0.9418735488492813,
           "value": 21938884.735599,
           "variable": "harvested_pods"
          },
          {
           "harvestable_pods": 354643.70074300095,
           "harvested_pods": 21938884.735599,
           "season": 3157,
           "timestamp": "2021-12-16T00:00:57",
           "unharvestable_pods": 361241471.464755,
           "unharvestable_ratio": 0.9418735488492813,
           "value": 354643.70074300095,
           "variable": "harvestable_pods"
          },
          {
           "harvestable_pods": 354643.70074300095,
           "harvested_pods": 21938884.735599,
           "season": 3157,
           "timestamp": "2021-12-16T00:00:57",
           "unharvestable_pods": 361241471.464755,
           "unharvestable_ratio": 0.9418735488492813,
           "value": 0.9418735488492813,
           "variable": "unharvestable_ratio"
          },
          {
           "harvestable_pods": 353109.05518399924,
           "harvested_pods": 21940419.381158,
           "season": 3181,
           "timestamp": "2021-12-17T00:00:10",
           "unharvestable_pods": 361772726.128126,
           "unharvestable_ratio": 0.9419539515086456,
           "value": 0.9419539515086456,
           "variable": "unharvestable_ratio"
          },
          {
           "harvestable_pods": 353109.05518399924,
           "harvested_pods": 21940419.381158,
           "season": 3181,
           "timestamp": "2021-12-17T00:00:10",
           "unharvestable_pods": 361772726.128126,
           "unharvestable_ratio": 0.9419539515086456,
           "value": 353109.05518399924,
           "variable": "harvestable_pods"
          },
          {
           "harvestable_pods": 353109.05518399924,
           "harvested_pods": 21940419.381158,
           "season": 3181,
           "timestamp": "2021-12-17T00:00:10",
           "unharvestable_pods": 361772726.128126,
           "unharvestable_ratio": 0.9419539515086456,
           "value": 361772726.128126,
           "variable": "unharvestable_pods"
          },
          {
           "harvestable_pods": 353109.05518399924,
           "harvested_pods": 21940419.381158,
           "season": 3181,
           "timestamp": "2021-12-17T00:00:10",
           "unharvestable_pods": 361772726.128126,
           "unharvestable_ratio": 0.9419539515086456,
           "value": 21940419.381158,
           "variable": "harvested_pods"
          },
          {
           "harvestable_pods": 353109.05518399924,
           "harvested_pods": 21940419.381158,
           "season": 3205,
           "timestamp": "2021-12-18T00:01:09",
           "unharvestable_pods": 364017679.91092,
           "unharvestable_ratio": 0.9422912720246471,
           "value": 364017679.91092,
           "variable": "unharvestable_pods"
          },
          {
           "harvestable_pods": 353109.05518399924,
           "harvested_pods": 21940419.381158,
           "season": 3205,
           "timestamp": "2021-12-18T00:01:09",
           "unharvestable_pods": 364017679.91092,
           "unharvestable_ratio": 0.9422912720246471,
           "value": 21940419.381158,
           "variable": "harvested_pods"
          },
          {
           "harvestable_pods": 353109.05518399924,
           "harvested_pods": 21940419.381158,
           "season": 3205,
           "timestamp": "2021-12-18T00:01:09",
           "unharvestable_pods": 364017679.91092,
           "unharvestable_ratio": 0.9422912720246471,
           "value": 353109.05518399924,
           "variable": "harvestable_pods"
          },
          {
           "harvestable_pods": 353109.05518399924,
           "harvested_pods": 21940419.381158,
           "season": 3205,
           "timestamp": "2021-12-18T00:01:09",
           "unharvestable_pods": 364017679.91092,
           "unharvestable_ratio": 0.9422912720246471,
           "value": 0.9422912720246471,
           "variable": "unharvestable_ratio"
          },
          {
           "harvestable_pods": 345172.4769000001,
           "harvested_pods": 21948355.959442,
           "season": 3229,
           "timestamp": "2021-12-19T00:00:42",
           "unharvestable_pods": 370012348.897916,
           "unharvestable_ratio": 0.9431730959836038,
           "value": 0.9431730959836038,
           "variable": "unharvestable_ratio"
          },
          {
           "harvestable_pods": 345172.4769000001,
           "harvested_pods": 21948355.959442,
           "season": 3229,
           "timestamp": "2021-12-19T00:00:42",
           "unharvestable_pods": 370012348.897916,
           "unharvestable_ratio": 0.9431730959836038,
           "value": 345172.4769000001,
           "variable": "harvestable_pods"
          },
          {
           "harvestable_pods": 345172.4769000001,
           "harvested_pods": 21948355.959442,
           "season": 3229,
           "timestamp": "2021-12-19T00:00:42",
           "unharvestable_pods": 370012348.897916,
           "unharvestable_ratio": 0.9431730959836038,
           "value": 21948355.959442,
           "variable": "harvested_pods"
          },
          {
           "harvestable_pods": 345172.4769000001,
           "harvested_pods": 21948355.959442,
           "season": 3229,
           "timestamp": "2021-12-19T00:00:42",
           "unharvestable_pods": 370012348.897916,
           "unharvestable_ratio": 0.9431730959836038,
           "value": 370012348.897916,
           "variable": "unharvestable_pods"
          },
          {
           "harvestable_pods": 341040.0550010018,
           "harvested_pods": 21952488.381341,
           "season": 3253,
           "timestamp": "2021-12-20T00:01:07",
           "unharvestable_pods": 377771318.988354,
           "unharvestable_ratio": 0.9442752129314779,
           "value": 377771318.988354,
           "variable": "unharvestable_pods"
          },
          {
           "harvestable_pods": 341040.0550010018,
           "harvested_pods": 21952488.381341,
           "season": 3253,
           "timestamp": "2021-12-20T00:01:07",
           "unharvestable_pods": 377771318.988354,
           "unharvestable_ratio": 0.9442752129314779,
           "value": 21952488.381341,
           "variable": "harvested_pods"
          },
          {
           "harvestable_pods": 341040.0550010018,
           "harvested_pods": 21952488.381341,
           "season": 3253,
           "timestamp": "2021-12-20T00:01:07",
           "unharvestable_pods": 377771318.988354,
           "unharvestable_ratio": 0.9442752129314779,
           "value": 341040.0550010018,
           "variable": "harvestable_pods"
          },
          {
           "harvestable_pods": 341040.0550010018,
           "harvested_pods": 21952488.381341,
           "season": 3253,
           "timestamp": "2021-12-20T00:01:07",
           "unharvestable_pods": 377771318.988354,
           "unharvestable_ratio": 0.9442752129314779,
           "value": 0.9442752129314779,
           "variable": "unharvestable_ratio"
          },
          {
           "harvestable_pods": 341040.0550010018,
           "harvested_pods": 21952488.381341,
           "season": 3277,
           "timestamp": "2021-12-21T00:00:51",
           "unharvestable_pods": 380481529.30289,
           "unharvestable_ratio": 0.9446501763006997,
           "value": 341040.0550010018,
           "variable": "harvestable_pods"
          },
          {
           "harvestable_pods": 341040.0550010018,
           "harvested_pods": 21952488.381341,
           "season": 3277,
           "timestamp": "2021-12-21T00:00:51",
           "unharvestable_pods": 380481529.30289,
           "unharvestable_ratio": 0.9446501763006997,
           "value": 0.9446501763006997,
           "variable": "unharvestable_ratio"
          },
          {
           "harvestable_pods": 341040.0550010018,
           "harvested_pods": 21952488.381341,
           "season": 3277,
           "timestamp": "2021-12-21T00:00:51",
           "unharvestable_pods": 380481529.30289,
           "unharvestable_ratio": 0.9446501763006997,
           "value": 380481529.30289,
           "variable": "unharvestable_pods"
          },
          {
           "harvestable_pods": 341040.0550010018,
           "harvested_pods": 21952488.381341,
           "season": 3277,
           "timestamp": "2021-12-21T00:00:51",
           "unharvestable_pods": 380481529.30289,
           "unharvestable_ratio": 0.9446501763006997,
           "value": 21952488.381341,
           "variable": "harvested_pods"
          },
          {
           "harvestable_pods": 305937.0142340027,
           "harvested_pods": 21993103.624895,
           "season": 3301,
           "timestamp": "2021-12-22T00:00:33",
           "unharvestable_pods": 394758554.47294,
           "unharvestable_ratio": 0.9465324672168195,
           "value": 394758554.47294,
           "variable": "unharvestable_pods"
          },
          {
           "harvestable_pods": 305937.0142340027,
           "harvested_pods": 21993103.624895,
           "season": 3301,
           "timestamp": "2021-12-22T00:00:33",
           "unharvestable_pods": 394758554.47294,
           "unharvestable_ratio": 0.9465324672168195,
           "value": 21993103.624895,
           "variable": "harvested_pods"
          },
          {
           "harvestable_pods": 305937.0142340027,
           "harvested_pods": 21993103.624895,
           "season": 3301,
           "timestamp": "2021-12-22T00:00:33",
           "unharvestable_pods": 394758554.47294,
           "unharvestable_ratio": 0.9465324672168195,
           "value": 305937.0142340027,
           "variable": "harvestable_pods"
          },
          {
           "harvestable_pods": 305937.0142340027,
           "harvested_pods": 21993103.624895,
           "season": 3301,
           "timestamp": "2021-12-22T00:00:33",
           "unharvestable_pods": 394758554.47294,
           "unharvestable_ratio": 0.9465324672168195,
           "value": 0.9465324672168195,
           "variable": "unharvestable_ratio"
          },
          {
           "harvestable_pods": 300424.81144699827,
           "harvested_pods": 22053528.505966,
           "season": 3325,
           "timestamp": "2021-12-23T00:00:46",
           "unharvestable_pods": 407253168.69067,
           "unharvestable_ratio": 0.9479665206365169,
           "value": 0.9479665206365169,
           "variable": "unharvestable_ratio"
          },
          {
           "harvestable_pods": 300424.81144699827,
           "harvested_pods": 22053528.505966,
           "season": 3325,
           "timestamp": "2021-12-23T00:00:46",
           "unharvestable_pods": 407253168.69067,
           "unharvestable_ratio": 0.9479665206365169,
           "value": 407253168.69067,
           "variable": "unharvestable_pods"
          },
          {
           "harvestable_pods": 300424.81144699827,
           "harvested_pods": 22053528.505966,
           "season": 3325,
           "timestamp": "2021-12-23T00:00:46",
           "unharvestable_pods": 407253168.69067,
           "unharvestable_ratio": 0.9479665206365169,
           "value": 22053528.505966,
           "variable": "harvested_pods"
          },
          {
           "harvestable_pods": 300424.81144699827,
           "harvested_pods": 22053528.505966,
           "season": 3325,
           "timestamp": "2021-12-23T00:00:46",
           "unharvestable_pods": 407253168.69067,
           "unharvestable_ratio": 0.9479665206365169,
           "value": 300424.81144699827,
           "variable": "harvestable_pods"
          },
          {
           "harvestable_pods": 290620.0656449981,
           "harvested_pods": 22085275.647319,
           "season": 3349,
           "timestamp": "2021-12-24T00:00:14",
           "unharvestable_pods": 413253677.805133,
           "unharvestable_ratio": 0.9486354988889788,
           "value": 290620.0656449981,
           "variable": "harvestable_pods"
          },
          {
           "harvestable_pods": 290620.0656449981,
           "harvested_pods": 22085275.647319,
           "season": 3349,
           "timestamp": "2021-12-24T00:00:14",
           "unharvestable_pods": 413253677.805133,
           "unharvestable_ratio": 0.9486354988889788,
           "value": 0.9486354988889788,
           "variable": "unharvestable_ratio"
          },
          {
           "harvestable_pods": 290620.0656449981,
           "harvested_pods": 22085275.647319,
           "season": 3349,
           "timestamp": "2021-12-24T00:00:14",
           "unharvestable_pods": 413253677.805133,
           "unharvestable_ratio": 0.9486354988889788,
           "value": 413253677.805133,
           "variable": "unharvestable_pods"
          },
          {
           "harvestable_pods": 290620.0656449981,
           "harvested_pods": 22085275.647319,
           "season": 3349,
           "timestamp": "2021-12-24T00:00:14",
           "unharvestable_pods": 413253677.805133,
           "unharvestable_ratio": 0.9486354988889788,
           "value": 22085275.647319,
           "variable": "harvested_pods"
          },
          {
           "harvestable_pods": 304914.3406070024,
           "harvested_pods": 22116843.160187,
           "season": 3373,
           "timestamp": "2021-12-25T00:00:15",
           "unharvestable_pods": 418898302.066666,
           "unharvestable_ratio": 0.9491938854472881,
           "value": 418898302.066666,
           "variable": "unharvestable_pods"
          },
          {
           "harvestable_pods": 304914.3406070024,
           "harvested_pods": 22116843.160187,
           "season": 3373,
           "timestamp": "2021-12-25T00:00:15",
           "unharvestable_pods": 418898302.066666,
           "unharvestable_ratio": 0.9491938854472881,
           "value": 22116843.160187,
           "variable": "harvested_pods"
          },
          {
           "harvestable_pods": 304914.3406070024,
           "harvested_pods": 22116843.160187,
           "season": 3373,
           "timestamp": "2021-12-25T00:00:15",
           "unharvestable_pods": 418898302.066666,
           "unharvestable_ratio": 0.9491938854472881,
           "value": 304914.3406070024,
           "variable": "harvestable_pods"
          },
          {
           "harvestable_pods": 304914.3406070024,
           "harvested_pods": 22116843.160187,
           "season": 3373,
           "timestamp": "2021-12-25T00:00:15",
           "unharvestable_pods": 418898302.066666,
           "unharvestable_ratio": 0.9491938854472881,
           "value": 0.9491938854472881,
           "variable": "unharvestable_ratio"
          },
          {
           "harvestable_pods": 311441.6731059998,
           "harvested_pods": 22116843.160187,
           "season": 3397,
           "timestamp": "2021-12-26T00:00:01",
           "unharvestable_pods": 424407906.37322897,
           "unharvestable_ratio": 0.9498064720927519,
           "value": 311441.6731059998,
           "variable": "harvestable_pods"
          },
          {
           "harvestable_pods": 311441.6731059998,
           "harvested_pods": 22116843.160187,
           "season": 3397,
           "timestamp": "2021-12-26T00:00:01",
           "unharvestable_pods": 424407906.37322897,
           "unharvestable_ratio": 0.9498064720927519,
           "value": 0.9498064720927519,
           "variable": "unharvestable_ratio"
          },
          {
           "harvestable_pods": 311441.6731059998,
           "harvested_pods": 22116843.160187,
           "season": 3397,
           "timestamp": "2021-12-26T00:00:01",
           "unharvestable_pods": 424407906.37322897,
           "unharvestable_ratio": 0.9498064720927519,
           "value": 424407906.37322897,
           "variable": "unharvestable_pods"
          },
          {
           "harvestable_pods": 311441.6731059998,
           "harvested_pods": 22116843.160187,
           "season": 3397,
           "timestamp": "2021-12-26T00:00:01",
           "unharvestable_pods": 424407906.37322897,
           "unharvestable_ratio": 0.9498064720927519,
           "value": 22116843.160187,
           "variable": "harvested_pods"
          },
          {
           "harvestable_pods": 320270.0241550021,
           "harvested_pods": 22116969.018301,
           "season": 3421,
           "timestamp": "2021-12-27T00:00:08",
           "unharvestable_pods": 426063369.22520006,
           "unharvestable_ratio": 0.9499727790133433,
           "value": 426063369.22520006,
           "variable": "unharvestable_pods"
          },
          {
           "harvestable_pods": 320270.0241550021,
           "harvested_pods": 22116969.018301,
           "season": 3421,
           "timestamp": "2021-12-27T00:00:08",
           "unharvestable_pods": 426063369.22520006,
           "unharvestable_ratio": 0.9499727790133433,
           "value": 22116969.018301,
           "variable": "harvested_pods"
          },
          {
           "harvestable_pods": 320270.0241550021,
           "harvested_pods": 22116969.018301,
           "season": 3421,
           "timestamp": "2021-12-27T00:00:08",
           "unharvestable_pods": 426063369.22520006,
           "unharvestable_ratio": 0.9499727790133433,
           "value": 320270.0241550021,
           "variable": "harvestable_pods"
          },
          {
           "harvestable_pods": 320270.0241550021,
           "harvested_pods": 22116969.018301,
           "season": 3421,
           "timestamp": "2021-12-27T00:00:08",
           "unharvestable_pods": 426063369.22520006,
           "unharvestable_ratio": 0.9499727790133433,
           "value": 0.9499727790133433,
           "variable": "unharvestable_ratio"
          },
          {
           "harvestable_pods": 320270.0241550021,
           "harvested_pods": 22116969.018301,
           "season": 3445,
           "timestamp": "2021-12-28T00:01:16",
           "unharvestable_pods": 444791910.276194,
           "unharvestable_ratio": 0.9519780838263714,
           "value": 0.9519780838263714,
           "variable": "unharvestable_ratio"
          },
          {
           "harvestable_pods": 320270.0241550021,
           "harvested_pods": 22116969.018301,
           "season": 3445,
           "timestamp": "2021-12-28T00:01:16",
           "unharvestable_pods": 444791910.276194,
           "unharvestable_ratio": 0.9519780838263714,
           "value": 444791910.276194,
           "variable": "unharvestable_pods"
          },
          {
           "harvestable_pods": 320270.0241550021,
           "harvested_pods": 22116969.018301,
           "season": 3445,
           "timestamp": "2021-12-28T00:01:16",
           "unharvestable_pods": 444791910.276194,
           "unharvestable_ratio": 0.9519780838263714,
           "value": 22116969.018301,
           "variable": "harvested_pods"
          },
          {
           "harvestable_pods": 320270.0241550021,
           "harvested_pods": 22116969.018301,
           "season": 3445,
           "timestamp": "2021-12-28T00:01:16",
           "unharvestable_pods": 444791910.276194,
           "unharvestable_ratio": 0.9519780838263714,
           "value": 320270.0241550021,
           "variable": "harvestable_pods"
          },
          {
           "harvestable_pods": 320270.0241550021,
           "harvested_pods": 22116969.018301,
           "season": 3469,
           "timestamp": "2021-12-29T00:00:14",
           "unharvestable_pods": 449102294.63588595,
           "unharvestable_ratio": 0.9524170563867048,
           "value": 320270.0241550021,
           "variable": "harvestable_pods"
          },
          {
           "harvestable_pods": 320270.0241550021,
           "harvested_pods": 22116969.018301,
           "season": 3469,
           "timestamp": "2021-12-29T00:00:14",
           "unharvestable_pods": 449102294.63588595,
           "unharvestable_ratio": 0.9524170563867048,
           "value": 0.9524170563867048,
           "variable": "unharvestable_ratio"
          },
          {
           "harvestable_pods": 320270.0241550021,
           "harvested_pods": 22116969.018301,
           "season": 3469,
           "timestamp": "2021-12-29T00:00:14",
           "unharvestable_pods": 449102294.63588595,
           "unharvestable_ratio": 0.9524170563867048,
           "value": 449102294.63588595,
           "variable": "unharvestable_pods"
          },
          {
           "harvestable_pods": 320270.0241550021,
           "harvested_pods": 22116969.018301,
           "season": 3469,
           "timestamp": "2021-12-29T00:00:14",
           "unharvestable_pods": 449102294.63588595,
           "unharvestable_ratio": 0.9524170563867048,
           "value": 22116969.018301,
           "variable": "harvested_pods"
          },
          {
           "harvestable_pods": 315918.15204299986,
           "harvested_pods": 22128807.507142,
           "season": 3493,
           "timestamp": "2021-12-30T00:01:18",
           "unharvestable_pods": 461274887.039474,
           "unharvestable_ratio": 0.9535997196103617,
           "value": 461274887.039474,
           "variable": "unharvestable_pods"
          },
          {
           "harvestable_pods": 315918.15204299986,
           "harvested_pods": 22128807.507142,
           "season": 3493,
           "timestamp": "2021-12-30T00:01:18",
           "unharvestable_pods": 461274887.039474,
           "unharvestable_ratio": 0.9535997196103617,
           "value": 22128807.507142,
           "variable": "harvested_pods"
          },
          {
           "harvestable_pods": 315918.15204299986,
           "harvested_pods": 22128807.507142,
           "season": 3493,
           "timestamp": "2021-12-30T00:01:18",
           "unharvestable_pods": 461274887.039474,
           "unharvestable_ratio": 0.9535997196103617,
           "value": 315918.15204299986,
           "variable": "harvestable_pods"
          },
          {
           "harvestable_pods": 315918.15204299986,
           "harvested_pods": 22128807.507142,
           "season": 3493,
           "timestamp": "2021-12-30T00:01:18",
           "unharvestable_pods": 461274887.039474,
           "unharvestable_ratio": 0.9535997196103617,
           "value": 0.9535997196103617,
           "variable": "unharvestable_ratio"
          },
          {
           "harvestable_pods": 324051.4035860002,
           "harvested_pods": 22128807.507142,
           "season": 3517,
           "timestamp": "2021-12-31T00:01:05",
           "unharvestable_pods": 474761256.73859704,
           "unharvestable_ratio": 0.9548426760141228,
           "value": 474761256.73859704,
           "variable": "unharvestable_pods"
          },
          {
           "harvestable_pods": 324051.4035860002,
           "harvested_pods": 22128807.507142,
           "season": 3517,
           "timestamp": "2021-12-31T00:01:05",
           "unharvestable_pods": 474761256.73859704,
           "unharvestable_ratio": 0.9548426760141228,
           "value": 22128807.507142,
           "variable": "harvested_pods"
          },
          {
           "harvestable_pods": 324051.4035860002,
           "harvested_pods": 22128807.507142,
           "season": 3517,
           "timestamp": "2021-12-31T00:01:05",
           "unharvestable_pods": 474761256.73859704,
           "unharvestable_ratio": 0.9548426760141228,
           "value": 324051.4035860002,
           "variable": "harvestable_pods"
          },
          {
           "harvestable_pods": 324051.4035860002,
           "harvested_pods": 22128807.507142,
           "season": 3517,
           "timestamp": "2021-12-31T00:01:05",
           "unharvestable_pods": 474761256.73859704,
           "unharvestable_ratio": 0.9548426760141228,
           "value": 0.9548426760141228,
           "variable": "unharvestable_ratio"
          },
          {
           "harvestable_pods": 324051.4035860002,
           "harvested_pods": 22128807.507142,
           "season": 3541,
           "timestamp": "2022-01-01T00:00:03",
           "unharvestable_pods": 486521402.39299405,
           "unharvestable_ratio": 0.9558860621886544,
           "value": 0.9558860621886544,
           "variable": "unharvestable_ratio"
          },
          {
           "harvestable_pods": 324051.4035860002,
           "harvested_pods": 22128807.507142,
           "season": 3541,
           "timestamp": "2022-01-01T00:00:03",
           "unharvestable_pods": 486521402.39299405,
           "unharvestable_ratio": 0.9558860621886544,
           "value": 324051.4035860002,
           "variable": "harvestable_pods"
          },
          {
           "harvestable_pods": 324051.4035860002,
           "harvested_pods": 22128807.507142,
           "season": 3541,
           "timestamp": "2022-01-01T00:00:03",
           "unharvestable_pods": 486521402.39299405,
           "unharvestable_ratio": 0.9558860621886544,
           "value": 22128807.507142,
           "variable": "harvested_pods"
          },
          {
           "harvestable_pods": 324051.4035860002,
           "harvested_pods": 22128807.507142,
           "season": 3541,
           "timestamp": "2022-01-01T00:00:03",
           "unharvestable_pods": 486521402.39299405,
           "unharvestable_ratio": 0.9558860621886544,
           "value": 486521402.39299405,
           "variable": "unharvestable_pods"
          },
          {
           "harvestable_pods": 312211.44696100056,
           "harvested_pods": 22144785.577367,
           "season": 3565,
           "timestamp": "2022-01-02T00:01:07",
           "unharvestable_pods": 503319779.805347,
           "unharvestable_ratio": 0.9572879632308239,
           "value": 503319779.805347,
           "variable": "unharvestable_pods"
          },
          {
           "harvestable_pods": 312211.44696100056,
           "harvested_pods": 22144785.577367,
           "season": 3565,
           "timestamp": "2022-01-02T00:01:07",
           "unharvestable_pods": 503319779.805347,
           "unharvestable_ratio": 0.9572879632308239,
           "value": 22144785.577367,
           "variable": "harvested_pods"
          },
          {
           "harvestable_pods": 312211.44696100056,
           "harvested_pods": 22144785.577367,
           "season": 3565,
           "timestamp": "2022-01-02T00:01:07",
           "unharvestable_pods": 503319779.805347,
           "unharvestable_ratio": 0.9572879632308239,
           "value": 312211.44696100056,
           "variable": "harvestable_pods"
          },
          {
           "harvestable_pods": 312211.44696100056,
           "harvested_pods": 22144785.577367,
           "season": 3565,
           "timestamp": "2022-01-02T00:01:07",
           "unharvestable_pods": 503319779.805347,
           "unharvestable_ratio": 0.9572879632308239,
           "value": 0.9572879632308239,
           "variable": "unharvestable_ratio"
          },
          {
           "harvestable_pods": 240537.9504610002,
           "harvested_pods": 22216459.073867,
           "season": 3589,
           "timestamp": "2022-01-03T00:00:08",
           "unharvestable_pods": 514451228.338918,
           "unharvestable_ratio": 0.9581734904337986,
           "value": 0.9581734904337986,
           "variable": "unharvestable_ratio"
          },
          {
           "harvestable_pods": 240537.9504610002,
           "harvested_pods": 22216459.073867,
           "season": 3589,
           "timestamp": "2022-01-03T00:00:08",
           "unharvestable_pods": 514451228.338918,
           "unharvestable_ratio": 0.9581734904337986,
           "value": 514451228.338918,
           "variable": "unharvestable_pods"
          },
          {
           "harvestable_pods": 240537.9504610002,
           "harvested_pods": 22216459.073867,
           "season": 3589,
           "timestamp": "2022-01-03T00:00:08",
           "unharvestable_pods": 514451228.338918,
           "unharvestable_ratio": 0.9581734904337986,
           "value": 22216459.073867,
           "variable": "harvested_pods"
          },
          {
           "harvestable_pods": 240537.9504610002,
           "harvested_pods": 22216459.073867,
           "season": 3589,
           "timestamp": "2022-01-03T00:00:08",
           "unharvestable_pods": 514451228.338918,
           "unharvestable_ratio": 0.9581734904337986,
           "value": 240537.9504610002,
           "variable": "harvestable_pods"
          },
          {
           "harvestable_pods": 240537.9504610002,
           "harvested_pods": 22216459.073867,
           "season": 3613,
           "timestamp": "2022-01-04T00:01:40",
           "unharvestable_pods": 523879557.00581396,
           "unharvestable_ratio": 0.9588953057256187,
           "value": 240537.9504610002,
           "variable": "harvestable_pods"
          },
          {
           "harvestable_pods": 240537.9504610002,
           "harvested_pods": 22216459.073867,
           "season": 3613,
           "timestamp": "2022-01-04T00:01:40",
           "unharvestable_pods": 523879557.00581396,
           "unharvestable_ratio": 0.9588953057256187,
           "value": 0.9588953057256187,
           "variable": "unharvestable_ratio"
          },
          {
           "harvestable_pods": 240537.9504610002,
           "harvested_pods": 22216459.073867,
           "season": 3613,
           "timestamp": "2022-01-04T00:01:40",
           "unharvestable_pods": 523879557.00581396,
           "unharvestable_ratio": 0.9588953057256187,
           "value": 523879557.00581396,
           "variable": "unharvestable_pods"
          },
          {
           "harvestable_pods": 240537.9504610002,
           "harvested_pods": 22216459.073867,
           "season": 3613,
           "timestamp": "2022-01-04T00:01:40",
           "unharvestable_pods": 523879557.00581396,
           "unharvestable_ratio": 0.9588953057256187,
           "value": 22216459.073867,
           "variable": "harvested_pods"
          },
          {
           "harvestable_pods": 240537.9504610002,
           "harvested_pods": 22216459.073867,
           "season": 3637,
           "timestamp": "2022-01-05T00:02:09",
           "unharvestable_pods": 533351149.467656,
           "unharvestable_ratio": 0.9595957756897472,
           "value": 533351149.467656,
           "variable": "unharvestable_pods"
          },
          {
           "harvestable_pods": 240537.9504610002,
           "harvested_pods": 22216459.073867,
           "season": 3637,
           "timestamp": "2022-01-05T00:02:09",
           "unharvestable_pods": 533351149.467656,
           "unharvestable_ratio": 0.9595957756897472,
           "value": 22216459.073867,
           "variable": "harvested_pods"
          },
          {
           "harvestable_pods": 240537.9504610002,
           "harvested_pods": 22216459.073867,
           "season": 3637,
           "timestamp": "2022-01-05T00:02:09",
           "unharvestable_pods": 533351149.467656,
           "unharvestable_ratio": 0.9595957756897472,
           "value": 240537.9504610002,
           "variable": "harvestable_pods"
          },
          {
           "harvestable_pods": 240537.9504610002,
           "harvested_pods": 22216459.073867,
           "season": 3637,
           "timestamp": "2022-01-05T00:02:09",
           "unharvestable_pods": 533351149.467656,
           "unharvestable_ratio": 0.9595957756897472,
           "value": 0.9595957756897472,
           "variable": "unharvestable_ratio"
          },
          {
           "harvestable_pods": 240537.9504610002,
           "harvested_pods": 22216459.073867,
           "season": 3661,
           "timestamp": "2022-01-06T00:00:34",
           "unharvestable_pods": 546693581.430881,
           "unharvestable_ratio": 0.9605429602034652,
           "value": 240537.9504610002,
           "variable": "harvestable_pods"
          },
          {
           "harvestable_pods": 240537.9504610002,
           "harvested_pods": 22216459.073867,
           "season": 3661,
           "timestamp": "2022-01-06T00:00:34",
           "unharvestable_pods": 546693581.430881,
           "unharvestable_ratio": 0.9605429602034652,
           "value": 0.9605429602034652,
           "variable": "unharvestable_ratio"
          },
          {
           "harvestable_pods": 240537.9504610002,
           "harvested_pods": 22216459.073867,
           "season": 3661,
           "timestamp": "2022-01-06T00:00:34",
           "unharvestable_pods": 546693581.430881,
           "unharvestable_ratio": 0.9605429602034652,
           "value": 546693581.430881,
           "variable": "unharvestable_pods"
          },
          {
           "harvestable_pods": 240537.9504610002,
           "harvested_pods": 22216459.073867,
           "season": 3661,
           "timestamp": "2022-01-06T00:00:34",
           "unharvestable_pods": 546693581.430881,
           "unharvestable_ratio": 0.9605429602034652,
           "value": 22216459.073867,
           "variable": "harvested_pods"
          },
          {
           "harvestable_pods": 240537.9504610002,
           "harvested_pods": 22216459.073867,
           "season": 3685,
           "timestamp": "2022-01-07T00:00:38",
           "unharvestable_pods": 548811797.535427,
           "unharvestable_ratio": 0.9606892635512598,
           "value": 548811797.535427,
           "variable": "unharvestable_pods"
          },
          {
           "harvestable_pods": 240537.9504610002,
           "harvested_pods": 22216459.073867,
           "season": 3685,
           "timestamp": "2022-01-07T00:00:38",
           "unharvestable_pods": 548811797.535427,
           "unharvestable_ratio": 0.9606892635512598,
           "value": 22216459.073867,
           "variable": "harvested_pods"
          },
          {
           "harvestable_pods": 240537.9504610002,
           "harvested_pods": 22216459.073867,
           "season": 3685,
           "timestamp": "2022-01-07T00:00:38",
           "unharvestable_pods": 548811797.535427,
           "unharvestable_ratio": 0.9606892635512598,
           "value": 240537.9504610002,
           "variable": "harvestable_pods"
          },
          {
           "harvestable_pods": 240537.9504610002,
           "harvested_pods": 22216459.073867,
           "season": 3685,
           "timestamp": "2022-01-07T00:00:38",
           "unharvestable_pods": 548811797.535427,
           "unharvestable_ratio": 0.9606892635512598,
           "value": 0.9606892635512598,
           "variable": "unharvestable_ratio"
          },
          {
           "harvestable_pods": 238675.15872900188,
           "harvested_pods": 22218321.865599,
           "season": 3709,
           "timestamp": "2022-01-08T00:00:16",
           "unharvestable_pods": 549428501.171265,
           "unharvestable_ratio": 0.9607316550337714,
           "value": 0.9607316550337714,
           "variable": "unharvestable_ratio"
          },
          {
           "harvestable_pods": 238675.15872900188,
           "harvested_pods": 22218321.865599,
           "season": 3709,
           "timestamp": "2022-01-08T00:00:16",
           "unharvestable_pods": 549428501.171265,
           "unharvestable_ratio": 0.9607316550337714,
           "value": 549428501.171265,
           "variable": "unharvestable_pods"
          },
          {
           "harvestable_pods": 238675.15872900188,
           "harvested_pods": 22218321.865599,
           "season": 3709,
           "timestamp": "2022-01-08T00:00:16",
           "unharvestable_pods": 549428501.171265,
           "unharvestable_ratio": 0.9607316550337714,
           "value": 22218321.865599,
           "variable": "harvested_pods"
          },
          {
           "harvestable_pods": 238675.15872900188,
           "harvested_pods": 22218321.865599,
           "season": 3709,
           "timestamp": "2022-01-08T00:00:16",
           "unharvestable_pods": 549428501.171265,
           "unharvestable_ratio": 0.9607316550337714,
           "value": 238675.15872900188,
           "variable": "harvestable_pods"
          },
          {
           "harvestable_pods": 238675.15872900188,
           "harvested_pods": 22218321.865599,
           "season": 3733,
           "timestamp": "2022-01-09T00:00:49",
           "unharvestable_pods": 549646955.6189721,
           "unharvestable_ratio": 0.9607466494147268,
           "value": 238675.15872900188,
           "variable": "harvestable_pods"
          },
          {
           "harvestable_pods": 238675.15872900188,
           "harvested_pods": 22218321.865599,
           "season": 3733,
           "timestamp": "2022-01-09T00:00:49",
           "unharvestable_pods": 549646955.6189721,
           "unharvestable_ratio": 0.9607466494147268,
           "value": 0.9607466494147268,
           "variable": "unharvestable_ratio"
          },
          {
           "harvestable_pods": 238675.15872900188,
           "harvested_pods": 22218321.865599,
           "season": 3733,
           "timestamp": "2022-01-09T00:00:49",
           "unharvestable_pods": 549646955.6189721,
           "unharvestable_ratio": 0.9607466494147268,
           "value": 549646955.6189721,
           "variable": "unharvestable_pods"
          },
          {
           "harvestable_pods": 238675.15872900188,
           "harvested_pods": 22218321.865599,
           "season": 3733,
           "timestamp": "2022-01-09T00:00:49",
           "unharvestable_pods": 549646955.6189721,
           "unharvestable_ratio": 0.9607466494147268,
           "value": 22218321.865599,
           "variable": "harvested_pods"
          },
          {
           "harvestable_pods": 238675.15872900188,
           "harvested_pods": 22218321.865599,
           "season": 3757,
           "timestamp": "2022-01-10T00:01:00",
           "unharvestable_pods": 551091619.025906,
           "unharvestable_ratio": 0.9608455213805954,
           "value": 551091619.025906,
           "variable": "unharvestable_pods"
          },
          {
           "harvestable_pods": 238675.15872900188,
           "harvested_pods": 22218321.865599,
           "season": 3757,
           "timestamp": "2022-01-10T00:01:00",
           "unharvestable_pods": 551091619.025906,
           "unharvestable_ratio": 0.9608455213805954,
           "value": 22218321.865599,
           "variable": "harvested_pods"
          },
          {
           "harvestable_pods": 238675.15872900188,
           "harvested_pods": 22218321.865599,
           "season": 3757,
           "timestamp": "2022-01-10T00:01:00",
           "unharvestable_pods": 551091619.025906,
           "unharvestable_ratio": 0.9608455213805954,
           "value": 238675.15872900188,
           "variable": "harvestable_pods"
          },
          {
           "harvestable_pods": 238675.15872900188,
           "harvested_pods": 22218321.865599,
           "season": 3757,
           "timestamp": "2022-01-10T00:01:00",
           "unharvestable_pods": 551091619.025906,
           "unharvestable_ratio": 0.9608455213805954,
           "value": 0.9608455213805954,
           "variable": "unharvestable_ratio"
          },
          {
           "harvestable_pods": 238675.15872900188,
           "harvested_pods": 22218321.865599,
           "season": 3781,
           "timestamp": "2022-01-11T00:01:20",
           "unharvestable_pods": 558499210.167815,
           "unharvestable_ratio": 0.9613447679079524,
           "value": 558499210.167815,
           "variable": "unharvestable_pods"
          },
          {
           "harvestable_pods": 238675.15872900188,
           "harvested_pods": 22218321.865599,
           "season": 3781,
           "timestamp": "2022-01-11T00:01:20",
           "unharvestable_pods": 558499210.167815,
           "unharvestable_ratio": 0.9613447679079524,
           "value": 22218321.865599,
           "variable": "harvested_pods"
          },
          {
           "harvestable_pods": 238675.15872900188,
           "harvested_pods": 22218321.865599,
           "season": 3781,
           "timestamp": "2022-01-11T00:01:20",
           "unharvestable_pods": 558499210.167815,
           "unharvestable_ratio": 0.9613447679079524,
           "value": 238675.15872900188,
           "variable": "harvestable_pods"
          },
          {
           "harvestable_pods": 238675.15872900188,
           "harvested_pods": 22218321.865599,
           "season": 3781,
           "timestamp": "2022-01-11T00:01:20",
           "unharvestable_pods": 558499210.167815,
           "unharvestable_ratio": 0.9613447679079524,
           "value": 0.9613447679079524,
           "variable": "unharvestable_ratio"
          },
          {
           "harvestable_pods": 234170.0587290004,
           "harvested_pods": 22222826.965599,
           "season": 3805,
           "timestamp": "2022-01-12T00:02:53",
           "unharvestable_pods": 560232297.944525,
           "unharvestable_ratio": 0.9614597398335104,
           "value": 0.9614597398335104,
           "variable": "unharvestable_ratio"
          },
          {
           "harvestable_pods": 234170.0587290004,
           "harvested_pods": 22222826.965599,
           "season": 3805,
           "timestamp": "2022-01-12T00:02:53",
           "unharvestable_pods": 560232297.944525,
           "unharvestable_ratio": 0.9614597398335104,
           "value": 234170.0587290004,
           "variable": "harvestable_pods"
          },
          {
           "harvestable_pods": 234170.0587290004,
           "harvested_pods": 22222826.965599,
           "season": 3805,
           "timestamp": "2022-01-12T00:02:53",
           "unharvestable_pods": 560232297.944525,
           "unharvestable_ratio": 0.9614597398335104,
           "value": 22222826.965599,
           "variable": "harvested_pods"
          },
          {
           "harvestable_pods": 234170.0587290004,
           "harvested_pods": 22222826.965599,
           "season": 3805,
           "timestamp": "2022-01-12T00:02:53",
           "unharvestable_pods": 560232297.944525,
           "unharvestable_ratio": 0.9614597398335104,
           "value": 560232297.944525,
           "variable": "unharvestable_pods"
          },
          {
           "harvestable_pods": 234170.0587290004,
           "harvested_pods": 22222826.965599,
           "season": 3829,
           "timestamp": "2022-01-13T00:02:25",
           "unharvestable_pods": 563741838.829006,
           "unharvestable_ratio": 0.9616904782971171,
           "value": 563741838.829006,
           "variable": "unharvestable_pods"
          },
          {
           "harvestable_pods": 234170.0587290004,
           "harvested_pods": 22222826.965599,
           "season": 3829,
           "timestamp": "2022-01-13T00:02:25",
           "unharvestable_pods": 563741838.829006,
           "unharvestable_ratio": 0.9616904782971171,
           "value": 22222826.965599,
           "variable": "harvested_pods"
          },
          {
           "harvestable_pods": 234170.0587290004,
           "harvested_pods": 22222826.965599,
           "season": 3829,
           "timestamp": "2022-01-13T00:02:25",
           "unharvestable_pods": 563741838.829006,
           "unharvestable_ratio": 0.9616904782971171,
           "value": 234170.0587290004,
           "variable": "harvestable_pods"
          },
          {
           "harvestable_pods": 234170.0587290004,
           "harvested_pods": 22222826.965599,
           "season": 3829,
           "timestamp": "2022-01-13T00:02:25",
           "unharvestable_pods": 563741838.829006,
           "unharvestable_ratio": 0.9616904782971171,
           "value": 0.9616904782971171,
           "variable": "unharvestable_ratio"
          },
          {
           "harvestable_pods": 189171.058728002,
           "harvested_pods": 22267825.9656,
           "season": 3853,
           "timestamp": "2022-01-14T00:04:29",
           "unharvestable_pods": 563953363.95193,
           "unharvestable_ratio": 0.9617042969927382,
           "value": 563953363.95193,
           "variable": "unharvestable_pods"
          },
          {
           "harvestable_pods": 189171.058728002,
           "harvested_pods": 22267825.9656,
           "season": 3853,
           "timestamp": "2022-01-14T00:04:29",
           "unharvestable_pods": 563953363.95193,
           "unharvestable_ratio": 0.9617042969927382,
           "value": 22267825.9656,
           "variable": "harvested_pods"
          },
          {
           "harvestable_pods": 189171.058728002,
           "harvested_pods": 22267825.9656,
           "season": 3853,
           "timestamp": "2022-01-14T00:04:29",
           "unharvestable_pods": 563953363.95193,
           "unharvestable_ratio": 0.9617042969927382,
           "value": 189171.058728002,
           "variable": "harvestable_pods"
          },
          {
           "harvestable_pods": 189171.058728002,
           "harvested_pods": 22267825.9656,
           "season": 3853,
           "timestamp": "2022-01-14T00:04:29",
           "unharvestable_pods": 563953363.95193,
           "unharvestable_ratio": 0.9617042969927382,
           "value": 0.9617042969927382,
           "variable": "unharvestable_ratio"
          },
          {
           "harvestable_pods": 189171.058728002,
           "harvested_pods": 22267825.9656,
           "season": 3877,
           "timestamp": "2022-01-15T00:01:05",
           "unharvestable_pods": 567362460.235761,
           "unharvestable_ratio": 0.961925642248819,
           "value": 0.961925642248819,
           "variable": "unharvestable_ratio"
          },
          {
           "harvestable_pods": 189171.058728002,
           "harvested_pods": 22267825.9656,
           "season": 3877,
           "timestamp": "2022-01-15T00:01:05",
           "unharvestable_pods": 567362460.235761,
           "unharvestable_ratio": 0.961925642248819,
           "value": 189171.058728002,
           "variable": "harvestable_pods"
          },
          {
           "harvestable_pods": 189171.058728002,
           "harvested_pods": 22267825.9656,
           "season": 3877,
           "timestamp": "2022-01-15T00:01:05",
           "unharvestable_pods": 567362460.235761,
           "unharvestable_ratio": 0.961925642248819,
           "value": 567362460.235761,
           "variable": "unharvestable_pods"
          },
          {
           "harvestable_pods": 189171.058728002,
           "harvested_pods": 22267825.9656,
           "season": 3877,
           "timestamp": "2022-01-15T00:01:05",
           "unharvestable_pods": 567362460.235761,
           "unharvestable_ratio": 0.961925642248819,
           "value": 22267825.9656,
           "variable": "harvested_pods"
          },
          {
           "harvestable_pods": 144171.0587300025,
           "harvested_pods": 22312825.965598,
           "season": 3901,
           "timestamp": "2022-01-16T00:00:19",
           "unharvestable_pods": 568054456.766556,
           "unharvestable_ratio": 0.9619702600514153,
           "value": 568054456.766556,
           "variable": "unharvestable_pods"
          },
          {
           "harvestable_pods": 144171.0587300025,
           "harvested_pods": 22312825.965598,
           "season": 3901,
           "timestamp": "2022-01-16T00:00:19",
           "unharvestable_pods": 568054456.766556,
           "unharvestable_ratio": 0.9619702600514153,
           "value": 22312825.965598,
           "variable": "harvested_pods"
          },
          {
           "harvestable_pods": 144171.0587300025,
           "harvested_pods": 22312825.965598,
           "season": 3901,
           "timestamp": "2022-01-16T00:00:19",
           "unharvestable_pods": 568054456.766556,
           "unharvestable_ratio": 0.9619702600514153,
           "value": 144171.0587300025,
           "variable": "harvestable_pods"
          },
          {
           "harvestable_pods": 144171.0587300025,
           "harvested_pods": 22312825.965598,
           "season": 3901,
           "timestamp": "2022-01-16T00:00:19",
           "unharvestable_pods": 568054456.766556,
           "unharvestable_ratio": 0.9619702600514153,
           "value": 0.9619702600514153,
           "variable": "unharvestable_ratio"
          },
          {
           "harvestable_pods": 144171.0587300025,
           "harvested_pods": 22312825.965598,
           "season": 3925,
           "timestamp": "2022-01-17T00:01:09",
           "unharvestable_pods": 568950094.51262,
           "unharvestable_ratio": 0.9620278529870739,
           "value": 0.9620278529870739,
           "variable": "unharvestable_ratio"
          },
          {
           "harvestable_pods": 144171.0587300025,
           "harvested_pods": 22312825.965598,
           "season": 3925,
           "timestamp": "2022-01-17T00:01:09",
           "unharvestable_pods": 568950094.51262,
           "unharvestable_ratio": 0.9620278529870739,
           "value": 568950094.51262,
           "variable": "unharvestable_pods"
          },
          {
           "harvestable_pods": 144171.0587300025,
           "harvested_pods": 22312825.965598,
           "season": 3925,
           "timestamp": "2022-01-17T00:01:09",
           "unharvestable_pods": 568950094.51262,
           "unharvestable_ratio": 0.9620278529870739,
           "value": 22312825.965598,
           "variable": "harvested_pods"
          },
          {
           "harvestable_pods": 144171.0587300025,
           "harvested_pods": 22312825.965598,
           "season": 3925,
           "timestamp": "2022-01-17T00:01:09",
           "unharvestable_pods": 568950094.51262,
           "unharvestable_ratio": 0.9620278529870739,
           "value": 144171.0587300025,
           "variable": "harvestable_pods"
          },
          {
           "harvestable_pods": 144171.0587300025,
           "harvested_pods": 22312825.965598,
           "season": 3949,
           "timestamp": "2022-01-18T00:00:24",
           "unharvestable_pods": 569022701.144924,
           "unharvestable_ratio": 0.9620325142285747,
           "value": 0.9620325142285747,
           "variable": "unharvestable_ratio"
          },
          {
           "harvestable_pods": 144171.0587300025,
           "harvested_pods": 22312825.965598,
           "season": 3949,
           "timestamp": "2022-01-18T00:00:24",
           "unharvestable_pods": 569022701.144924,
           "unharvestable_ratio": 0.9620325142285747,
           "value": 144171.0587300025,
           "variable": "harvestable_pods"
          },
          {
           "harvestable_pods": 144171.0587300025,
           "harvested_pods": 22312825.965598,
           "season": 3949,
           "timestamp": "2022-01-18T00:00:24",
           "unharvestable_pods": 569022701.144924,
           "unharvestable_ratio": 0.9620325142285747,
           "value": 569022701.144924,
           "variable": "unharvestable_pods"
          },
          {
           "harvestable_pods": 144171.0587300025,
           "harvested_pods": 22312825.965598,
           "season": 3949,
           "timestamp": "2022-01-18T00:00:24",
           "unharvestable_pods": 569022701.144924,
           "unharvestable_ratio": 0.9620325142285747,
           "value": 22312825.965598,
           "variable": "harvested_pods"
          },
          {
           "harvestable_pods": 144171.0587300025,
           "harvested_pods": 22312825.965598,
           "season": 3973,
           "timestamp": "2022-01-19T00:01:17",
           "unharvestable_pods": 574808215.071842,
           "unharvestable_ratio": 0.9624002929192668,
           "value": 144171.0587300025,
           "variable": "harvestable_pods"
          },
          {
           "harvestable_pods": 144171.0587300025,
           "harvested_pods": 22312825.965598,
           "season": 3973,
           "timestamp": "2022-01-19T00:01:17",
           "unharvestable_pods": 574808215.071842,
           "unharvestable_ratio": 0.9624002929192668,
           "value": 574808215.071842,
           "variable": "unharvestable_pods"
          },
          {
           "harvestable_pods": 144171.0587300025,
           "harvested_pods": 22312825.965598,
           "season": 3973,
           "timestamp": "2022-01-19T00:01:17",
           "unharvestable_pods": 574808215.071842,
           "unharvestable_ratio": 0.9624002929192668,
           "value": 22312825.965598,
           "variable": "harvested_pods"
          },
          {
           "harvestable_pods": 144171.0587300025,
           "harvested_pods": 22312825.965598,
           "season": 3973,
           "timestamp": "2022-01-19T00:01:17",
           "unharvestable_pods": 574808215.071842,
           "unharvestable_ratio": 0.9624002929192668,
           "value": 0.9624002929192668,
           "variable": "unharvestable_ratio"
          },
          {
           "harvestable_pods": 144171.0587300025,
           "harvested_pods": 22312825.965598,
           "season": 3997,
           "timestamp": "2022-01-20T00:00:37",
           "unharvestable_pods": 576716363.214001,
           "unharvestable_ratio": 0.9625200342428518,
           "value": 0.9625200342428518,
           "variable": "unharvestable_ratio"
          },
          {
           "harvestable_pods": 144171.0587300025,
           "harvested_pods": 22312825.965598,
           "season": 3997,
           "timestamp": "2022-01-20T00:00:37",
           "unharvestable_pods": 576716363.214001,
           "unharvestable_ratio": 0.9625200342428518,
           "value": 144171.0587300025,
           "variable": "harvestable_pods"
          },
          {
           "harvestable_pods": 144171.0587300025,
           "harvested_pods": 22312825.965598,
           "season": 3997,
           "timestamp": "2022-01-20T00:00:37",
           "unharvestable_pods": 576716363.214001,
           "unharvestable_ratio": 0.9625200342428518,
           "value": 22312825.965598,
           "variable": "harvested_pods"
          },
          {
           "harvestable_pods": 144171.0587300025,
           "harvested_pods": 22312825.965598,
           "season": 3997,
           "timestamp": "2022-01-20T00:00:37",
           "unharvestable_pods": 576716363.214001,
           "unharvestable_ratio": 0.9625200342428518,
           "value": 576716363.214001,
           "variable": "unharvestable_pods"
          },
          {
           "harvestable_pods": 144171.0587300025,
           "harvested_pods": 22312825.965598,
           "season": 4021,
           "timestamp": "2022-01-21T00:00:23",
           "unharvestable_pods": 577637364.791708,
           "unharvestable_ratio": 0.96257755704225,
           "value": 577637364.791708,
           "variable": "unharvestable_pods"
          },
          {
           "harvestable_pods": 144171.0587300025,
           "harvested_pods": 22312825.965598,
           "season": 4021,
           "timestamp": "2022-01-21T00:00:23",
           "unharvestable_pods": 577637364.791708,
           "unharvestable_ratio": 0.96257755704225,
           "value": 22312825.965598,
           "variable": "harvested_pods"
          },
          {
           "harvestable_pods": 144171.0587300025,
           "harvested_pods": 22312825.965598,
           "season": 4021,
           "timestamp": "2022-01-21T00:00:23",
           "unharvestable_pods": 577637364.791708,
           "unharvestable_ratio": 0.96257755704225,
           "value": 144171.0587300025,
           "variable": "harvestable_pods"
          },
          {
           "harvestable_pods": 144171.0587300025,
           "harvested_pods": 22312825.965598,
           "season": 4021,
           "timestamp": "2022-01-21T00:00:23",
           "unharvestable_pods": 577637364.791708,
           "unharvestable_ratio": 0.96257755704225,
           "value": 0.96257755704225,
           "variable": "unharvestable_ratio"
          },
          {
           "harvestable_pods": 144171.0587300025,
           "harvested_pods": 22312825.965598,
           "season": 4045,
           "timestamp": "2022-01-22T00:02:29",
           "unharvestable_pods": 577989804.302539,
           "unharvestable_ratio": 0.962599522597668,
           "value": 144171.0587300025,
           "variable": "harvestable_pods"
          },
          {
           "harvestable_pods": 144171.0587300025,
           "harvested_pods": 22312825.965598,
           "season": 4045,
           "timestamp": "2022-01-22T00:02:29",
           "unharvestable_pods": 577989804.302539,
           "unharvestable_ratio": 0.962599522597668,
           "value": 0.962599522597668,
           "variable": "unharvestable_ratio"
          },
          {
           "harvestable_pods": 144171.0587300025,
           "harvested_pods": 22312825.965598,
           "season": 4045,
           "timestamp": "2022-01-22T00:02:29",
           "unharvestable_pods": 577989804.302539,
           "unharvestable_ratio": 0.962599522597668,
           "value": 577989804.302539,
           "variable": "unharvestable_pods"
          },
          {
           "harvestable_pods": 144171.0587300025,
           "harvested_pods": 22312825.965598,
           "season": 4045,
           "timestamp": "2022-01-22T00:02:29",
           "unharvestable_pods": 577989804.302539,
           "unharvestable_ratio": 0.962599522597668,
           "value": 22312825.965598,
           "variable": "harvested_pods"
          },
          {
           "harvestable_pods": 144171.0587300025,
           "harvested_pods": 22312825.965598,
           "season": 4069,
           "timestamp": "2022-01-23T00:00:48",
           "unharvestable_pods": 578038438.092613,
           "unharvestable_ratio": 0.9626025516414547,
           "value": 578038438.092613,
           "variable": "unharvestable_pods"
          },
          {
           "harvestable_pods": 144171.0587300025,
           "harvested_pods": 22312825.965598,
           "season": 4069,
           "timestamp": "2022-01-23T00:00:48",
           "unharvestable_pods": 578038438.092613,
           "unharvestable_ratio": 0.9626025516414547,
           "value": 22312825.965598,
           "variable": "harvested_pods"
          },
          {
           "harvestable_pods": 144171.0587300025,
           "harvested_pods": 22312825.965598,
           "season": 4069,
           "timestamp": "2022-01-23T00:00:48",
           "unharvestable_pods": 578038438.092613,
           "unharvestable_ratio": 0.9626025516414547,
           "value": 144171.0587300025,
           "variable": "harvestable_pods"
          },
          {
           "harvestable_pods": 144171.0587300025,
           "harvested_pods": 22312825.965598,
           "season": 4069,
           "timestamp": "2022-01-23T00:00:48",
           "unharvestable_pods": 578038438.092613,
           "unharvestable_ratio": 0.9626025516414547,
           "value": 0.9626025516414547,
           "variable": "unharvestable_ratio"
          },
          {
           "harvestable_pods": 144171.0587300025,
           "harvested_pods": 22312825.965598,
           "season": 4093,
           "timestamp": "2022-01-24T00:02:29",
           "unharvestable_pods": 578100359.996215,
           "unharvestable_ratio": 0.9626064075948706,
           "value": 0.9626064075948706,
           "variable": "unharvestable_ratio"
          },
          {
           "harvestable_pods": 144171.0587300025,
           "harvested_pods": 22312825.965598,
           "season": 4093,
           "timestamp": "2022-01-24T00:02:29",
           "unharvestable_pods": 578100359.996215,
           "unharvestable_ratio": 0.9626064075948706,
           "value": 578100359.996215,
           "variable": "unharvestable_pods"
          },
          {
           "harvestable_pods": 144171.0587300025,
           "harvested_pods": 22312825.965598,
           "season": 4093,
           "timestamp": "2022-01-24T00:02:29",
           "unharvestable_pods": 578100359.996215,
           "unharvestable_ratio": 0.9626064075948706,
           "value": 22312825.965598,
           "variable": "harvested_pods"
          },
          {
           "harvestable_pods": 144171.0587300025,
           "harvested_pods": 22312825.965598,
           "season": 4093,
           "timestamp": "2022-01-24T00:02:29",
           "unharvestable_pods": 578100359.996215,
           "unharvestable_ratio": 0.9626064075948706,
           "value": 144171.0587300025,
           "variable": "harvestable_pods"
          },
          {
           "harvestable_pods": 144171.0587300025,
           "harvested_pods": 22312825.965598,
           "season": 4117,
           "timestamp": "2022-01-25T00:00:10",
           "unharvestable_pods": 589090675.766215,
           "unharvestable_ratio": 0.9632784196171414,
           "value": 22312825.965598,
           "variable": "harvested_pods"
          },
          {
           "harvestable_pods": 144171.0587300025,
           "harvested_pods": 22312825.965598,
           "season": 4117,
           "timestamp": "2022-01-25T00:00:10",
           "unharvestable_pods": 589090675.766215,
           "unharvestable_ratio": 0.9632784196171414,
           "value": 144171.0587300025,
           "variable": "harvestable_pods"
          },
          {
           "harvestable_pods": 144171.0587300025,
           "harvested_pods": 22312825.965598,
           "season": 4117,
           "timestamp": "2022-01-25T00:00:10",
           "unharvestable_pods": 589090675.766215,
           "unharvestable_ratio": 0.9632784196171414,
           "value": 589090675.766215,
           "variable": "unharvestable_pods"
          },
          {
           "harvestable_pods": 144171.0587300025,
           "harvested_pods": 22312825.965598,
           "season": 4117,
           "timestamp": "2022-01-25T00:00:10",
           "unharvestable_pods": 589090675.766215,
           "unharvestable_ratio": 0.9632784196171414,
           "value": 0.9632784196171414,
           "variable": "unharvestable_ratio"
          },
          {
           "harvestable_pods": 144171.0587300025,
           "harvested_pods": 22312825.965598,
           "season": 4141,
           "timestamp": "2022-01-26T00:00:17",
           "unharvestable_pods": 589627700.848223,
           "unharvestable_ratio": 0.9633106380499582,
           "value": 0.9633106380499582,
           "variable": "unharvestable_ratio"
          },
          {
           "harvestable_pods": 144171.0587300025,
           "harvested_pods": 22312825.965598,
           "season": 4141,
           "timestamp": "2022-01-26T00:00:17",
           "unharvestable_pods": 589627700.848223,
           "unharvestable_ratio": 0.9633106380499582,
           "value": 144171.0587300025,
           "variable": "harvestable_pods"
          },
          {
           "harvestable_pods": 144171.0587300025,
           "harvested_pods": 22312825.965598,
           "season": 4141,
           "timestamp": "2022-01-26T00:00:17",
           "unharvestable_pods": 589627700.848223,
           "unharvestable_ratio": 0.9633106380499582,
           "value": 22312825.965598,
           "variable": "harvested_pods"
          },
          {
           "harvestable_pods": 144171.0587300025,
           "harvested_pods": 22312825.965598,
           "season": 4141,
           "timestamp": "2022-01-26T00:00:17",
           "unharvestable_pods": 589627700.848223,
           "unharvestable_ratio": 0.9633106380499582,
           "value": 589627700.848223,
           "variable": "unharvestable_pods"
          },
          {
           "harvestable_pods": 144171.0587300025,
           "harvested_pods": 22312825.965598,
           "season": 4165,
           "timestamp": "2022-01-27T00:00:24",
           "unharvestable_pods": 589735386.238103,
           "unharvestable_ratio": 0.9633170917536534,
           "value": 589735386.238103,
           "variable": "unharvestable_pods"
          },
          {
           "harvestable_pods": 144171.0587300025,
           "harvested_pods": 22312825.965598,
           "season": 4165,
           "timestamp": "2022-01-27T00:00:24",
           "unharvestable_pods": 589735386.238103,
           "unharvestable_ratio": 0.9633170917536534,
           "value": 22312825.965598,
           "variable": "harvested_pods"
          },
          {
           "harvestable_pods": 144171.0587300025,
           "harvested_pods": 22312825.965598,
           "season": 4165,
           "timestamp": "2022-01-27T00:00:24",
           "unharvestable_pods": 589735386.238103,
           "unharvestable_ratio": 0.9633170917536534,
           "value": 144171.0587300025,
           "variable": "harvestable_pods"
          },
          {
           "harvestable_pods": 144171.0587300025,
           "harvested_pods": 22312825.965598,
           "season": 4165,
           "timestamp": "2022-01-27T00:00:24",
           "unharvestable_pods": 589735386.238103,
           "unharvestable_ratio": 0.9633170917536534,
           "value": 0.9633170917536534,
           "variable": "unharvestable_ratio"
          },
          {
           "harvestable_pods": 144171.0587300025,
           "harvested_pods": 22312825.965598,
           "season": 4189,
           "timestamp": "2022-01-28T00:00:55",
           "unharvestable_pods": 589865013.711426,
           "unharvestable_ratio": 0.9633248574596492,
           "value": 144171.0587300025,
           "variable": "harvestable_pods"
          },
          {
           "harvestable_pods": 144171.0587300025,
           "harvested_pods": 22312825.965598,
           "season": 4189,
           "timestamp": "2022-01-28T00:00:55",
           "unharvestable_pods": 589865013.711426,
           "unharvestable_ratio": 0.9633248574596492,
           "value": 0.9633248574596492,
           "variable": "unharvestable_ratio"
          },
          {
           "harvestable_pods": 144171.0587300025,
           "harvested_pods": 22312825.965598,
           "season": 4189,
           "timestamp": "2022-01-28T00:00:55",
           "unharvestable_pods": 589865013.711426,
           "unharvestable_ratio": 0.9633248574596492,
           "value": 589865013.711426,
           "variable": "unharvestable_pods"
          },
          {
           "harvestable_pods": 144171.0587300025,
           "harvested_pods": 22312825.965598,
           "season": 4189,
           "timestamp": "2022-01-28T00:00:55",
           "unharvestable_pods": 589865013.711426,
           "unharvestable_ratio": 0.9633248574596492,
           "value": 22312825.965598,
           "variable": "harvested_pods"
          },
          {
           "harvestable_pods": 146432.00059400126,
           "harvested_pods": 22312825.965598,
           "season": 4213,
           "timestamp": "2022-01-29T00:00:04",
           "unharvestable_pods": 590070956.853196,
           "unharvestable_ratio": 0.963333632492212,
           "value": 590070956.853196,
           "variable": "unharvestable_pods"
          },
          {
           "harvestable_pods": 146432.00059400126,
           "harvested_pods": 22312825.965598,
           "season": 4213,
           "timestamp": "2022-01-29T00:00:04",
           "unharvestable_pods": 590070956.853196,
           "unharvestable_ratio": 0.963333632492212,
           "value": 22312825.965598,
           "variable": "harvested_pods"
          },
          {
           "harvestable_pods": 146432.00059400126,
           "harvested_pods": 22312825.965598,
           "season": 4213,
           "timestamp": "2022-01-29T00:00:04",
           "unharvestable_pods": 590070956.853196,
           "unharvestable_ratio": 0.963333632492212,
           "value": 146432.00059400126,
           "variable": "harvestable_pods"
          },
          {
           "harvestable_pods": 146432.00059400126,
           "harvested_pods": 22312825.965598,
           "season": 4213,
           "timestamp": "2022-01-29T00:00:04",
           "unharvestable_pods": 590070956.853196,
           "unharvestable_ratio": 0.963333632492212,
           "value": 0.963333632492212,
           "variable": "unharvestable_ratio"
          },
          {
           "harvestable_pods": 146432.00059400126,
           "harvested_pods": 22312825.965598,
           "season": 4237,
           "timestamp": "2022-01-30T00:00:07",
           "unharvestable_pods": 590597959.07388,
           "unharvestable_ratio": 0.9633651519924543,
           "value": 0.9633651519924543,
           "variable": "unharvestable_ratio"
          },
          {
           "harvestable_pods": 146432.00059400126,
           "harvested_pods": 22312825.965598,
           "season": 4237,
           "timestamp": "2022-01-30T00:00:07",
           "unharvestable_pods": 590597959.07388,
           "unharvestable_ratio": 0.9633651519924543,
           "value": 590597959.07388,
           "variable": "unharvestable_pods"
          },
          {
           "harvestable_pods": 146432.00059400126,
           "harvested_pods": 22312825.965598,
           "season": 4237,
           "timestamp": "2022-01-30T00:00:07",
           "unharvestable_pods": 590597959.07388,
           "unharvestable_ratio": 0.9633651519924543,
           "value": 22312825.965598,
           "variable": "harvested_pods"
          },
          {
           "harvestable_pods": 146432.00059400126,
           "harvested_pods": 22312825.965598,
           "season": 4237,
           "timestamp": "2022-01-30T00:00:07",
           "unharvestable_pods": 590597959.07388,
           "unharvestable_ratio": 0.9633651519924543,
           "value": 146432.00059400126,
           "variable": "harvestable_pods"
          },
          {
           "harvestable_pods": 152358.0460900031,
           "harvested_pods": 22312825.965598,
           "season": 4261,
           "timestamp": "2022-01-31T00:00:00",
           "unharvestable_pods": 591494745.92255,
           "unharvestable_ratio": 0.963409364493715,
           "value": 152358.0460900031,
           "variable": "harvestable_pods"
          },
          {
           "harvestable_pods": 152358.0460900031,
           "harvested_pods": 22312825.965598,
           "season": 4261,
           "timestamp": "2022-01-31T00:00:00",
           "unharvestable_pods": 591494745.92255,
           "unharvestable_ratio": 0.963409364493715,
           "value": 0.963409364493715,
           "variable": "unharvestable_ratio"
          },
          {
           "harvestable_pods": 152358.0460900031,
           "harvested_pods": 22312825.965598,
           "season": 4261,
           "timestamp": "2022-01-31T00:00:00",
           "unharvestable_pods": 591494745.92255,
           "unharvestable_ratio": 0.963409364493715,
           "value": 591494745.92255,
           "variable": "unharvestable_pods"
          },
          {
           "harvestable_pods": 152358.0460900031,
           "harvested_pods": 22312825.965598,
           "season": 4261,
           "timestamp": "2022-01-31T00:00:00",
           "unharvestable_pods": 591494745.92255,
           "unharvestable_ratio": 0.963409364493715,
           "value": 22312825.965598,
           "variable": "harvested_pods"
          },
          {
           "harvestable_pods": 151663.8060199991,
           "harvested_pods": 22325513.173866,
           "season": 4285,
           "timestamp": "2022-02-01T00:00:47",
           "unharvestable_pods": 592924373.8111709,
           "unharvestable_ratio": 0.9634755925606733,
           "value": 592924373.8111709,
           "variable": "unharvestable_pods"
          },
          {
           "harvestable_pods": 151663.8060199991,
           "harvested_pods": 22325513.173866,
           "season": 4285,
           "timestamp": "2022-02-01T00:00:47",
           "unharvestable_pods": 592924373.8111709,
           "unharvestable_ratio": 0.9634755925606733,
           "value": 22325513.173866,
           "variable": "harvested_pods"
          },
          {
           "harvestable_pods": 151663.8060199991,
           "harvested_pods": 22325513.173866,
           "season": 4285,
           "timestamp": "2022-02-01T00:00:47",
           "unharvestable_pods": 592924373.8111709,
           "unharvestable_ratio": 0.9634755925606733,
           "value": 151663.8060199991,
           "variable": "harvestable_pods"
          },
          {
           "harvestable_pods": 151663.8060199991,
           "harvested_pods": 22325513.173866,
           "season": 4285,
           "timestamp": "2022-02-01T00:00:47",
           "unharvestable_pods": 592924373.8111709,
           "unharvestable_ratio": 0.9634755925606733,
           "value": 0.9634755925606733,
           "variable": "unharvestable_ratio"
          },
          {
           "harvestable_pods": 154928.5135239996,
           "harvested_pods": 22325513.173866,
           "season": 4309,
           "timestamp": "2022-02-02T00:02:56",
           "unharvestable_pods": 594072982.3164771,
           "unharvestable_ratio": 0.9635385340309959,
           "value": 594072982.3164771,
           "variable": "unharvestable_pods"
          },
          {
           "harvestable_pods": 154928.5135239996,
           "harvested_pods": 22325513.173866,
           "season": 4309,
           "timestamp": "2022-02-02T00:02:56",
           "unharvestable_pods": 594072982.3164771,
           "unharvestable_ratio": 0.9635385340309959,
           "value": 22325513.173866,
           "variable": "harvested_pods"
          },
          {
           "harvestable_pods": 154928.5135239996,
           "harvested_pods": 22325513.173866,
           "season": 4309,
           "timestamp": "2022-02-02T00:02:56",
           "unharvestable_pods": 594072982.3164771,
           "unharvestable_ratio": 0.9635385340309959,
           "value": 154928.5135239996,
           "variable": "harvestable_pods"
          },
          {
           "harvestable_pods": 154928.5135239996,
           "harvested_pods": 22325513.173866,
           "season": 4309,
           "timestamp": "2022-02-02T00:02:56",
           "unharvestable_pods": 594072982.3164771,
           "unharvestable_ratio": 0.9635385340309959,
           "value": 0.9635385340309959,
           "variable": "unharvestable_ratio"
          },
          {
           "harvestable_pods": 149509.55509499833,
           "harvested_pods": 22339987.993866,
           "season": 4333,
           "timestamp": "2022-02-03T00:00:03",
           "unharvestable_pods": 595257303.0470289,
           "unharvestable_ratio": 0.9635943115735062,
           "value": 0.9635943115735062,
           "variable": "unharvestable_ratio"
          },
          {
           "harvestable_pods": 149509.55509499833,
           "harvested_pods": 22339987.993866,
           "season": 4333,
           "timestamp": "2022-02-03T00:00:03",
           "unharvestable_pods": 595257303.0470289,
           "unharvestable_ratio": 0.9635943115735062,
           "value": 149509.55509499833,
           "variable": "harvestable_pods"
          },
          {
           "harvestable_pods": 149509.55509499833,
           "harvested_pods": 22339987.993866,
           "season": 4333,
           "timestamp": "2022-02-03T00:00:03",
           "unharvestable_pods": 595257303.0470289,
           "unharvestable_ratio": 0.9635943115735062,
           "value": 22339987.993866,
           "variable": "harvested_pods"
          },
          {
           "harvestable_pods": 149509.55509499833,
           "harvested_pods": 22339987.993866,
           "season": 4333,
           "timestamp": "2022-02-03T00:00:03",
           "unharvestable_pods": 595257303.0470289,
           "unharvestable_ratio": 0.9635943115735062,
           "value": 595257303.0470289,
           "variable": "unharvestable_pods"
          },
          {
           "harvestable_pods": 198456.48030300066,
           "harvested_pods": 22339987.993866,
           "season": 4357,
           "timestamp": "2022-02-04T00:01:08",
           "unharvestable_pods": 595792140.558453,
           "unharvestable_ratio": 0.9635495234754077,
           "value": 595792140.558453,
           "variable": "unharvestable_pods"
          },
          {
           "harvestable_pods": 198456.48030300066,
           "harvested_pods": 22339987.993866,
           "season": 4357,
           "timestamp": "2022-02-04T00:01:08",
           "unharvestable_pods": 595792140.558453,
           "unharvestable_ratio": 0.9635495234754077,
           "value": 22339987.993866,
           "variable": "harvested_pods"
          },
          {
           "harvestable_pods": 198456.48030300066,
           "harvested_pods": 22339987.993866,
           "season": 4357,
           "timestamp": "2022-02-04T00:01:08",
           "unharvestable_pods": 595792140.558453,
           "unharvestable_ratio": 0.9635495234754077,
           "value": 198456.48030300066,
           "variable": "harvestable_pods"
          },
          {
           "harvestable_pods": 198456.48030300066,
           "harvested_pods": 22339987.993866,
           "season": 4357,
           "timestamp": "2022-02-04T00:01:08",
           "unharvestable_pods": 595792140.558453,
           "unharvestable_ratio": 0.9635495234754077,
           "value": 0.9635495234754077,
           "variable": "unharvestable_ratio"
          },
          {
           "harvestable_pods": 231461.4179500006,
           "harvested_pods": 22339987.993866,
           "season": 4381,
           "timestamp": "2022-02-05T00:00:19",
           "unharvestable_pods": 596453274.725368,
           "unharvestable_ratio": 0.9635370793254231,
           "value": 0.9635370793254231,
           "variable": "unharvestable_ratio"
          },
          {
           "harvestable_pods": 231461.4179500006,
           "harvested_pods": 22339987.993866,
           "season": 4381,
           "timestamp": "2022-02-05T00:00:19",
           "unharvestable_pods": 596453274.725368,
           "unharvestable_ratio": 0.9635370793254231,
           "value": 596453274.725368,
           "variable": "unharvestable_pods"
          },
          {
           "harvestable_pods": 231461.4179500006,
           "harvested_pods": 22339987.993866,
           "season": 4381,
           "timestamp": "2022-02-05T00:00:19",
           "unharvestable_pods": 596453274.725368,
           "unharvestable_ratio": 0.9635370793254231,
           "value": 22339987.993866,
           "variable": "harvested_pods"
          },
          {
           "harvestable_pods": 231461.4179500006,
           "harvested_pods": 22339987.993866,
           "season": 4381,
           "timestamp": "2022-02-05T00:00:19",
           "unharvestable_pods": 596453274.725368,
           "unharvestable_ratio": 0.9635370793254231,
           "value": 231461.4179500006,
           "variable": "harvestable_pods"
          },
          {
           "harvestable_pods": 267169.3758369982,
           "harvested_pods": 22339987.993866,
           "season": 4405,
           "timestamp": "2022-02-06T00:00:11",
           "unharvestable_pods": 597840650.897767,
           "unharvestable_ratio": 0.9635631602393262,
           "value": 0.9635631602393262,
           "variable": "unharvestable_ratio"
          },
          {
           "harvestable_pods": 267169.3758369982,
           "harvested_pods": 22339987.993866,
           "season": 4405,
           "timestamp": "2022-02-06T00:00:11",
           "unharvestable_pods": 597840650.897767,
           "unharvestable_ratio": 0.9635631602393262,
           "value": 267169.3758369982,
           "variable": "harvestable_pods"
          },
          {
           "harvestable_pods": 267169.3758369982,
           "harvested_pods": 22339987.993866,
           "season": 4405,
           "timestamp": "2022-02-06T00:00:11",
           "unharvestable_pods": 597840650.897767,
           "unharvestable_ratio": 0.9635631602393262,
           "value": 22339987.993866,
           "variable": "harvested_pods"
          },
          {
           "harvestable_pods": 267169.3758369982,
           "harvested_pods": 22339987.993866,
           "season": 4405,
           "timestamp": "2022-02-06T00:00:11",
           "unharvestable_pods": 597840650.897767,
           "unharvestable_ratio": 0.9635631602393262,
           "value": 597840650.897767,
           "variable": "unharvestable_pods"
          },
          {
           "harvestable_pods": 309209.2530899979,
           "harvested_pods": 22404793.32572,
           "season": 4429,
           "timestamp": "2022-02-07T00:00:02",
           "unharvestable_pods": 597833770.6706871,
           "unharvestable_ratio": 0.963396851043606,
           "value": 597833770.6706871,
           "variable": "unharvestable_pods"
          },
          {
           "harvestable_pods": 309209.2530899979,
           "harvested_pods": 22404793.32572,
           "season": 4429,
           "timestamp": "2022-02-07T00:00:02",
           "unharvestable_pods": 597833770.6706871,
           "unharvestable_ratio": 0.963396851043606,
           "value": 22404793.32572,
           "variable": "harvested_pods"
          },
          {
           "harvestable_pods": 309209.2530899979,
           "harvested_pods": 22404793.32572,
           "season": 4429,
           "timestamp": "2022-02-07T00:00:02",
           "unharvestable_pods": 597833770.6706871,
           "unharvestable_ratio": 0.963396851043606,
           "value": 309209.2530899979,
           "variable": "harvestable_pods"
          },
          {
           "harvestable_pods": 309209.2530899979,
           "harvested_pods": 22404793.32572,
           "season": 4429,
           "timestamp": "2022-02-07T00:00:02",
           "unharvestable_pods": 597833770.6706871,
           "unharvestable_ratio": 0.963396851043606,
           "value": 0.963396851043606,
           "variable": "unharvestable_ratio"
          },
          {
           "harvestable_pods": 251667.6326440014,
           "harvested_pods": 22489367.614652,
           "season": 4453,
           "timestamp": "2022-02-08T00:00:30",
           "unharvestable_pods": 598042779.446015,
           "unharvestable_ratio": 0.9633672226803612,
           "value": 251667.6326440014,
           "variable": "harvestable_pods"
          },
          {
           "harvestable_pods": 251667.6326440014,
           "harvested_pods": 22489367.614652,
           "season": 4453,
           "timestamp": "2022-02-08T00:00:30",
           "unharvestable_pods": 598042779.446015,
           "unharvestable_ratio": 0.9633672226803612,
           "value": 0.9633672226803612,
           "variable": "unharvestable_ratio"
          },
          {
           "harvestable_pods": 251667.6326440014,
           "harvested_pods": 22489367.614652,
           "season": 4453,
           "timestamp": "2022-02-08T00:00:30",
           "unharvestable_pods": 598042779.446015,
           "unharvestable_ratio": 0.9633672226803612,
           "value": 598042779.446015,
           "variable": "unharvestable_pods"
          },
          {
           "harvestable_pods": 251667.6326440014,
           "harvested_pods": 22489367.614652,
           "season": 4453,
           "timestamp": "2022-02-08T00:00:30",
           "unharvestable_pods": 598042779.446015,
           "unharvestable_ratio": 0.9633672226803612,
           "value": 22489367.614652,
           "variable": "harvested_pods"
          },
          {
           "harvestable_pods": 224623.13769499958,
           "harvested_pods": 22549317.614652,
           "season": 4477,
           "timestamp": "2022-02-09T00:00:10",
           "unharvestable_pods": 597995212.729509,
           "unharvestable_ratio": 0.963313349858624,
           "value": 597995212.729509,
           "variable": "unharvestable_pods"
          },
          {
           "harvestable_pods": 224623.13769499958,
           "harvested_pods": 22549317.614652,
           "season": 4477,
           "timestamp": "2022-02-09T00:00:10",
           "unharvestable_pods": 597995212.729509,
           "unharvestable_ratio": 0.963313349858624,
           "value": 22549317.614652,
           "variable": "harvested_pods"
          },
          {
           "harvestable_pods": 224623.13769499958,
           "harvested_pods": 22549317.614652,
           "season": 4477,
           "timestamp": "2022-02-09T00:00:10",
           "unharvestable_pods": 597995212.729509,
           "unharvestable_ratio": 0.963313349858624,
           "value": 224623.13769499958,
           "variable": "harvestable_pods"
          },
          {
           "harvestable_pods": 224623.13769499958,
           "harvested_pods": 22549317.614652,
           "season": 4477,
           "timestamp": "2022-02-09T00:00:10",
           "unharvestable_pods": 597995212.729509,
           "unharvestable_ratio": 0.963313349858624,
           "value": 0.963313349858624,
           "variable": "unharvestable_ratio"
          },
          {
           "harvestable_pods": 252455.40424999967,
           "harvested_pods": 22549317.614652,
           "season": 4501,
           "timestamp": "2022-02-10T00:00:44",
           "unharvestable_pods": 598089972.6967881,
           "unharvestable_ratio": 0.9632757671909155,
           "value": 0.9632757671909155,
           "variable": "unharvestable_ratio"
          },
          {
           "harvestable_pods": 252455.40424999967,
           "harvested_pods": 22549317.614652,
           "season": 4501,
           "timestamp": "2022-02-10T00:00:44",
           "unharvestable_pods": 598089972.6967881,
           "unharvestable_ratio": 0.9632757671909155,
           "value": 598089972.6967881,
           "variable": "unharvestable_pods"
          },
          {
           "harvestable_pods": 252455.40424999967,
           "harvested_pods": 22549317.614652,
           "season": 4501,
           "timestamp": "2022-02-10T00:00:44",
           "unharvestable_pods": 598089972.6967881,
           "unharvestable_ratio": 0.9632757671909155,
           "value": 22549317.614652,
           "variable": "harvested_pods"
          },
          {
           "harvestable_pods": 252455.40424999967,
           "harvested_pods": 22549317.614652,
           "season": 4501,
           "timestamp": "2022-02-10T00:00:44",
           "unharvestable_pods": 598089972.6967881,
           "unharvestable_ratio": 0.9632757671909155,
           "value": 252455.40424999967,
           "variable": "harvestable_pods"
          },
          {
           "harvestable_pods": 285300.0470260009,
           "harvested_pods": 22549317.614652,
           "season": 4525,
           "timestamp": "2022-02-11T00:00:06",
           "unharvestable_pods": 601502962.8341221,
           "unharvestable_ratio": 0.9634258478505419,
           "value": 0.9634258478505419,
           "variable": "unharvestable_ratio"
          },
          {
           "harvestable_pods": 285300.0470260009,
           "harvested_pods": 22549317.614652,
           "season": 4525,
           "timestamp": "2022-02-11T00:00:06",
           "unharvestable_pods": 601502962.8341221,
           "unharvestable_ratio": 0.9634258478505419,
           "value": 285300.0470260009,
           "variable": "harvestable_pods"
          },
          {
           "harvestable_pods": 285300.0470260009,
           "harvested_pods": 22549317.614652,
           "season": 4525,
           "timestamp": "2022-02-11T00:00:06",
           "unharvestable_pods": 601502962.8341221,
           "unharvestable_ratio": 0.9634258478505419,
           "value": 601502962.8341221,
           "variable": "unharvestable_pods"
          },
          {
           "harvestable_pods": 285300.0470260009,
           "harvested_pods": 22549317.614652,
           "season": 4525,
           "timestamp": "2022-02-11T00:00:06",
           "unharvestable_pods": 601502962.8341221,
           "unharvestable_ratio": 0.9634258478505419,
           "value": 22549317.614652,
           "variable": "harvested_pods"
          },
          {
           "harvestable_pods": 290177.2386649996,
           "harvested_pods": 22549317.614652,
           "season": 4549,
           "timestamp": "2022-02-12T00:00:06",
           "unharvestable_pods": 601830479.013485,
           "unharvestable_ratio": 0.963437501706802,
           "value": 601830479.013485,
           "variable": "unharvestable_pods"
          },
          {
           "harvestable_pods": 290177.2386649996,
           "harvested_pods": 22549317.614652,
           "season": 4549,
           "timestamp": "2022-02-12T00:00:06",
           "unharvestable_pods": 601830479.013485,
           "unharvestable_ratio": 0.963437501706802,
           "value": 22549317.614652,
           "variable": "harvested_pods"
          },
          {
           "harvestable_pods": 290177.2386649996,
           "harvested_pods": 22549317.614652,
           "season": 4549,
           "timestamp": "2022-02-12T00:00:06",
           "unharvestable_pods": 601830479.013485,
           "unharvestable_ratio": 0.963437501706802,
           "value": 290177.2386649996,
           "variable": "harvestable_pods"
          },
          {
           "harvestable_pods": 290177.2386649996,
           "harvested_pods": 22549317.614652,
           "season": 4549,
           "timestamp": "2022-02-12T00:00:06",
           "unharvestable_pods": 601830479.013485,
           "unharvestable_ratio": 0.963437501706802,
           "value": 0.963437501706802,
           "variable": "unharvestable_ratio"
          },
          {
           "harvestable_pods": 291739.37441499904,
           "harvested_pods": 22549317.614652,
           "season": 4573,
           "timestamp": "2022-02-13T00:00:56",
           "unharvestable_pods": 602093428.4393101,
           "unharvestable_ratio": 0.9634504775754054,
           "value": 0.9634504775754054,
           "variable": "unharvestable_ratio"
          },
          {
           "harvestable_pods": 291739.37441499904,
           "harvested_pods": 22549317.614652,
           "season": 4573,
           "timestamp": "2022-02-13T00:00:56",
           "unharvestable_pods": 602093428.4393101,
           "unharvestable_ratio": 0.9634504775754054,
           "value": 602093428.4393101,
           "variable": "unharvestable_pods"
          },
          {
           "harvestable_pods": 291739.37441499904,
           "harvested_pods": 22549317.614652,
           "season": 4573,
           "timestamp": "2022-02-13T00:00:56",
           "unharvestable_pods": 602093428.4393101,
           "unharvestable_ratio": 0.9634504775754054,
           "value": 22549317.614652,
           "variable": "harvested_pods"
          },
          {
           "harvestable_pods": 291739.37441499904,
           "harvested_pods": 22549317.614652,
           "season": 4573,
           "timestamp": "2022-02-13T00:00:56",
           "unharvestable_pods": 602093428.4393101,
           "unharvestable_ratio": 0.9634504775754054,
           "value": 291739.37441499904,
           "variable": "harvestable_pods"
          },
          {
           "harvestable_pods": 301762.9650949985,
           "harvested_pods": 22549317.614652,
           "season": 4597,
           "timestamp": "2022-02-14T00:00:11",
           "unharvestable_pods": 602382204.839563,
           "unharvestable_ratio": 0.9634519128897272,
           "value": 0.9634519128897272,
           "variable": "unharvestable_ratio"
          },
          {
           "harvestable_pods": 301762.9650949985,
           "harvested_pods": 22549317.614652,
           "season": 4597,
           "timestamp": "2022-02-14T00:00:11",
           "unharvestable_pods": 602382204.839563,
           "unharvestable_ratio": 0.9634519128897272,
           "value": 301762.9650949985,
           "variable": "harvestable_pods"
          },
          {
           "harvestable_pods": 301762.9650949985,
           "harvested_pods": 22549317.614652,
           "season": 4597,
           "timestamp": "2022-02-14T00:00:11",
           "unharvestable_pods": 602382204.839563,
           "unharvestable_ratio": 0.9634519128897272,
           "value": 602382204.839563,
           "variable": "unharvestable_pods"
          },
          {
           "harvestable_pods": 301762.9650949985,
           "harvested_pods": 22549317.614652,
           "season": 4597,
           "timestamp": "2022-02-14T00:00:11",
           "unharvestable_pods": 602382204.839563,
           "unharvestable_ratio": 0.9634519128897272,
           "value": 22549317.614652,
           "variable": "harvested_pods"
          },
          {
           "harvestable_pods": 377263.7500239983,
           "harvested_pods": 22549317.614652,
           "season": 4621,
           "timestamp": "2022-02-15T00:00:35",
           "unharvestable_pods": 604286240.968136,
           "unharvestable_ratio": 0.9634468866892669,
           "value": 0.9634468866892669,
           "variable": "unharvestable_ratio"
          },
          {
           "harvestable_pods": 377263.7500239983,
           "harvested_pods": 22549317.614652,
           "season": 4621,
           "timestamp": "2022-02-15T00:00:35",
           "unharvestable_pods": 604286240.968136,
           "unharvestable_ratio": 0.9634468866892669,
           "value": 604286240.968136,
           "variable": "unharvestable_pods"
          },
          {
           "harvestable_pods": 377263.7500239983,
           "harvested_pods": 22549317.614652,
           "season": 4621,
           "timestamp": "2022-02-15T00:00:35",
           "unharvestable_pods": 604286240.968136,
           "unharvestable_ratio": 0.9634468866892669,
           "value": 22549317.614652,
           "variable": "harvested_pods"
          },
          {
           "harvestable_pods": 377263.7500239983,
           "harvested_pods": 22549317.614652,
           "season": 4621,
           "timestamp": "2022-02-15T00:00:35",
           "unharvestable_pods": 604286240.968136,
           "unharvestable_ratio": 0.9634468866892669,
           "value": 377263.7500239983,
           "variable": "harvestable_pods"
          },
          {
           "harvestable_pods": 420234.33016800135,
           "harvested_pods": 22549317.614652,
           "season": 4645,
           "timestamp": "2022-02-16T00:00:34",
           "unharvestable_pods": 607136532.845837,
           "unharvestable_ratio": 0.963546532085226,
           "value": 22549317.614652,
           "variable": "harvested_pods"
          },
          {
           "harvestable_pods": 420234.33016800135,
           "harvested_pods": 22549317.614652,
           "season": 4645,
           "timestamp": "2022-02-16T00:00:34",
           "unharvestable_pods": 607136532.845837,
           "unharvestable_ratio": 0.963546532085226,
           "value": 420234.33016800135,
           "variable": "harvestable_pods"
          },
          {
           "harvestable_pods": 420234.33016800135,
           "harvested_pods": 22549317.614652,
           "season": 4645,
           "timestamp": "2022-02-16T00:00:34",
           "unharvestable_pods": 607136532.845837,
           "unharvestable_ratio": 0.963546532085226,
           "value": 607136532.845837,
           "variable": "unharvestable_pods"
          },
          {
           "harvestable_pods": 420234.33016800135,
           "harvested_pods": 22549317.614652,
           "season": 4645,
           "timestamp": "2022-02-16T00:00:34",
           "unharvestable_pods": 607136532.845837,
           "unharvestable_ratio": 0.963546532085226,
           "value": 0.963546532085226,
           "variable": "unharvestable_ratio"
          },
          {
           "harvestable_pods": 135556.2387300022,
           "harvested_pods": 22833995.70609,
           "season": 4669,
           "timestamp": "2022-02-17T00:00:02",
           "unharvestable_pods": 610922315.6451629,
           "unharvestable_ratio": 0.9637642425794973,
           "value": 0.9637642425794973,
           "variable": "unharvestable_ratio"
          },
          {
           "harvestable_pods": 135556.2387300022,
           "harvested_pods": 22833995.70609,
           "season": 4669,
           "timestamp": "2022-02-17T00:00:02",
           "unharvestable_pods": 610922315.6451629,
           "unharvestable_ratio": 0.9637642425794973,
           "value": 135556.2387300022,
           "variable": "harvestable_pods"
          },
          {
           "harvestable_pods": 135556.2387300022,
           "harvested_pods": 22833995.70609,
           "season": 4669,
           "timestamp": "2022-02-17T00:00:02",
           "unharvestable_pods": 610922315.6451629,
           "unharvestable_ratio": 0.9637642425794973,
           "value": 610922315.6451629,
           "variable": "unharvestable_pods"
          },
          {
           "harvestable_pods": 135556.2387300022,
           "harvested_pods": 22833995.70609,
           "season": 4669,
           "timestamp": "2022-02-17T00:00:02",
           "unharvestable_pods": 610922315.6451629,
           "unharvestable_ratio": 0.9637642425794973,
           "value": 22833995.70609,
           "variable": "harvested_pods"
          },
          {
           "harvestable_pods": 142535.8137759976,
           "harvested_pods": 22834519.350377,
           "season": 4693,
           "timestamp": "2022-02-18T00:00:14",
           "unharvestable_pods": 614285670.7027351,
           "unharvestable_ratio": 0.9639441407264224,
           "value": 614285670.7027351,
           "variable": "unharvestable_pods"
          },
          {
           "harvestable_pods": 142535.8137759976,
           "harvested_pods": 22834519.350377,
           "season": 4693,
           "timestamp": "2022-02-18T00:00:14",
           "unharvestable_pods": 614285670.7027351,
           "unharvestable_ratio": 0.9639441407264224,
           "value": 22834519.350377,
           "variable": "harvested_pods"
          },
          {
           "harvestable_pods": 142535.8137759976,
           "harvested_pods": 22834519.350377,
           "season": 4693,
           "timestamp": "2022-02-18T00:00:14",
           "unharvestable_pods": 614285670.7027351,
           "unharvestable_ratio": 0.9639441407264224,
           "value": 142535.8137759976,
           "variable": "harvestable_pods"
          },
          {
           "harvestable_pods": 142535.8137759976,
           "harvested_pods": 22834519.350377,
           "season": 4693,
           "timestamp": "2022-02-18T00:00:14",
           "unharvestable_pods": 614285670.7027351,
           "unharvestable_ratio": 0.9639441407264224,
           "value": 0.9639441407264224,
           "variable": "unharvestable_ratio"
          },
          {
           "harvestable_pods": 147862.7830730006,
           "harvested_pods": 22834519.350377,
           "season": 4717,
           "timestamp": "2022-02-19T00:00:02",
           "unharvestable_pods": 614350431.459134,
           "unharvestable_ratio": 0.9639397475803881,
           "value": 614350431.459134,
           "variable": "unharvestable_pods"
          },
          {
           "harvestable_pods": 147862.7830730006,
           "harvested_pods": 22834519.350377,
           "season": 4717,
           "timestamp": "2022-02-19T00:00:02",
           "unharvestable_pods": 614350431.459134,
           "unharvestable_ratio": 0.9639397475803881,
           "value": 22834519.350377,
           "variable": "harvested_pods"
          },
          {
           "harvestable_pods": 147862.7830730006,
           "harvested_pods": 22834519.350377,
           "season": 4717,
           "timestamp": "2022-02-19T00:00:02",
           "unharvestable_pods": 614350431.459134,
           "unharvestable_ratio": 0.9639397475803881,
           "value": 147862.7830730006,
           "variable": "harvestable_pods"
          },
          {
           "harvestable_pods": 147862.7830730006,
           "harvested_pods": 22834519.350377,
           "season": 4717,
           "timestamp": "2022-02-19T00:00:02",
           "unharvestable_pods": 614350431.459134,
           "unharvestable_ratio": 0.9639397475803881,
           "value": 0.9639397475803881,
           "variable": "unharvestable_ratio"
          },
          {
           "harvestable_pods": 150226.3104689978,
           "harvested_pods": 22834519.350377,
           "season": 4741,
           "timestamp": "2022-02-20T00:00:15",
           "unharvestable_pods": 615568436.524098,
           "unharvestable_ratio": 0.9640049626215959,
           "value": 150226.3104689978,
           "variable": "harvestable_pods"
          },
          {
           "harvestable_pods": 150226.3104689978,
           "harvested_pods": 22834519.350377,
           "season": 4741,
           "timestamp": "2022-02-20T00:00:15",
           "unharvestable_pods": 615568436.524098,
           "unharvestable_ratio": 0.9640049626215959,
           "value": 0.9640049626215959,
           "variable": "unharvestable_ratio"
          },
          {
           "harvestable_pods": 150226.3104689978,
           "harvested_pods": 22834519.350377,
           "season": 4741,
           "timestamp": "2022-02-20T00:00:15",
           "unharvestable_pods": 615568436.524098,
           "unharvestable_ratio": 0.9640049626215959,
           "value": 615568436.524098,
           "variable": "unharvestable_pods"
          },
          {
           "harvestable_pods": 150226.3104689978,
           "harvested_pods": 22834519.350377,
           "season": 4741,
           "timestamp": "2022-02-20T00:00:15",
           "unharvestable_pods": 615568436.524098,
           "unharvestable_ratio": 0.9640049626215959,
           "value": 22834519.350377,
           "variable": "harvested_pods"
          },
          {
           "harvestable_pods": 174232.24984299764,
           "harvested_pods": 22834519.350377,
           "season": 4765,
           "timestamp": "2022-02-21T00:00:06",
           "unharvestable_pods": 616045529.530858,
           "unharvestable_ratio": 0.9639956224696653,
           "value": 616045529.530858,
           "variable": "unharvestable_pods"
          },
          {
           "harvestable_pods": 174232.24984299764,
           "harvested_pods": 22834519.350377,
           "season": 4765,
           "timestamp": "2022-02-21T00:00:06",
           "unharvestable_pods": 616045529.530858,
           "unharvestable_ratio": 0.9639956224696653,
           "value": 22834519.350377,
           "variable": "harvested_pods"
          },
          {
           "harvestable_pods": 174232.24984299764,
           "harvested_pods": 22834519.350377,
           "season": 4765,
           "timestamp": "2022-02-21T00:00:06",
           "unharvestable_pods": 616045529.530858,
           "unharvestable_ratio": 0.9639956224696653,
           "value": 174232.24984299764,
           "variable": "harvestable_pods"
          },
          {
           "harvestable_pods": 174232.24984299764,
           "harvested_pods": 22834519.350377,
           "season": 4765,
           "timestamp": "2022-02-21T00:00:06",
           "unharvestable_pods": 616045529.530858,
           "unharvestable_ratio": 0.9639956224696653,
           "value": 0.9639956224696653,
           "variable": "unharvestable_ratio"
          },
          {
           "harvestable_pods": 174797.33576999977,
           "harvested_pods": 22834519.350377,
           "season": 4789,
           "timestamp": "2022-02-22T00:00:01",
           "unharvestable_pods": 616650583.2901931,
           "unharvestable_ratio": 0.9640288273706105,
           "value": 0.9640288273706105,
           "variable": "unharvestable_ratio"
          },
          {
           "harvestable_pods": 174797.33576999977,
           "harvested_pods": 22834519.350377,
           "season": 4789,
           "timestamp": "2022-02-22T00:00:01",
           "unharvestable_pods": 616650583.2901931,
           "unharvestable_ratio": 0.9640288273706105,
           "value": 174797.33576999977,
           "variable": "harvestable_pods"
          },
          {
           "harvestable_pods": 174797.33576999977,
           "harvested_pods": 22834519.350377,
           "season": 4789,
           "timestamp": "2022-02-22T00:00:01",
           "unharvestable_pods": 616650583.2901931,
           "unharvestable_ratio": 0.9640288273706105,
           "value": 22834519.350377,
           "variable": "harvested_pods"
          },
          {
           "harvestable_pods": 174797.33576999977,
           "harvested_pods": 22834519.350377,
           "season": 4789,
           "timestamp": "2022-02-22T00:00:01",
           "unharvestable_pods": 616650583.2901931,
           "unharvestable_ratio": 0.9640288273706105,
           "value": 616650583.2901931,
           "variable": "unharvestable_pods"
          },
          {
           "harvestable_pods": 185522.08518400043,
           "harvested_pods": 22834519.350377,
           "season": 4813,
           "timestamp": "2022-02-23T00:00:27",
           "unharvestable_pods": 616810541.260539,
           "unharvestable_ratio": 0.9640216612676441,
           "value": 0.9640216612676441,
           "variable": "unharvestable_ratio"
          },
          {
           "harvestable_pods": 185522.08518400043,
           "harvested_pods": 22834519.350377,
           "season": 4813,
           "timestamp": "2022-02-23T00:00:27",
           "unharvestable_pods": 616810541.260539,
           "unharvestable_ratio": 0.9640216612676441,
           "value": 185522.08518400043,
           "variable": "harvestable_pods"
          },
          {
           "harvestable_pods": 185522.08518400043,
           "harvested_pods": 22834519.350377,
           "season": 4813,
           "timestamp": "2022-02-23T00:00:27",
           "unharvestable_pods": 616810541.260539,
           "unharvestable_ratio": 0.9640216612676441,
           "value": 616810541.260539,
           "variable": "unharvestable_pods"
          },
          {
           "harvestable_pods": 185522.08518400043,
           "harvested_pods": 22834519.350377,
           "season": 4813,
           "timestamp": "2022-02-23T00:00:27",
           "unharvestable_pods": 616810541.260539,
           "unharvestable_ratio": 0.9640216612676441,
           "value": 22834519.350377,
           "variable": "harvested_pods"
          },
          {
           "harvestable_pods": 185522.08518400043,
           "harvested_pods": 22834519.350377,
           "season": 4837,
           "timestamp": "2022-02-24T00:00:01",
           "unharvestable_pods": 616993470.711901,
           "unharvestable_ratio": 0.964031944640792,
           "value": 616993470.711901,
           "variable": "unharvestable_pods"
          },
          {
           "harvestable_pods": 185522.08518400043,
           "harvested_pods": 22834519.350377,
           "season": 4837,
           "timestamp": "2022-02-24T00:00:01",
           "unharvestable_pods": 616993470.711901,
           "unharvestable_ratio": 0.964031944640792,
           "value": 22834519.350377,
           "variable": "harvested_pods"
          },
          {
           "harvestable_pods": 185522.08518400043,
           "harvested_pods": 22834519.350377,
           "season": 4837,
           "timestamp": "2022-02-24T00:00:01",
           "unharvestable_pods": 616993470.711901,
           "unharvestable_ratio": 0.964031944640792,
           "value": 185522.08518400043,
           "variable": "harvestable_pods"
          },
          {
           "harvestable_pods": 185522.08518400043,
           "harvested_pods": 22834519.350377,
           "season": 4837,
           "timestamp": "2022-02-24T00:00:01",
           "unharvestable_pods": 616993470.711901,
           "unharvestable_ratio": 0.964031944640792,
           "value": 0.964031944640792,
           "variable": "unharvestable_ratio"
          },
          {
           "harvestable_pods": 191976.40773800015,
           "harvested_pods": 22834519.350377,
           "season": 4861,
           "timestamp": "2022-02-25T00:00:06",
           "unharvestable_pods": 617046274.5953319,
           "unharvestable_ratio": 0.9640251908460348,
           "value": 617046274.5953319,
           "variable": "unharvestable_pods"
          },
          {
           "harvestable_pods": 191976.40773800015,
           "harvested_pods": 22834519.350377,
           "season": 4861,
           "timestamp": "2022-02-25T00:00:06",
           "unharvestable_pods": 617046274.5953319,
           "unharvestable_ratio": 0.9640251908460348,
           "value": 22834519.350377,
           "variable": "harvested_pods"
          },
          {
           "harvestable_pods": 191976.40773800015,
           "harvested_pods": 22834519.350377,
           "season": 4861,
           "timestamp": "2022-02-25T00:00:06",
           "unharvestable_pods": 617046274.5953319,
           "unharvestable_ratio": 0.9640251908460348,
           "value": 191976.40773800015,
           "variable": "harvestable_pods"
          },
          {
           "harvestable_pods": 191976.40773800015,
           "harvested_pods": 22834519.350377,
           "season": 4861,
           "timestamp": "2022-02-25T00:00:06",
           "unharvestable_pods": 617046274.5953319,
           "unharvestable_ratio": 0.9640251908460348,
           "value": 0.9640251908460348,
           "variable": "unharvestable_ratio"
          },
          {
           "harvestable_pods": 207405.85760900006,
           "harvested_pods": 22834519.350377,
           "season": 4885,
           "timestamp": "2022-02-26T00:00:28",
           "unharvestable_pods": 617197151.04651,
           "unharvestable_ratio": 0.9640104360033989,
           "value": 0.9640104360033989,
           "variable": "unharvestable_ratio"
          },
          {
           "harvestable_pods": 207405.85760900006,
           "harvested_pods": 22834519.350377,
           "season": 4885,
           "timestamp": "2022-02-26T00:00:28",
           "unharvestable_pods": 617197151.04651,
           "unharvestable_ratio": 0.9640104360033989,
           "value": 617197151.04651,
           "variable": "unharvestable_pods"
          },
          {
           "harvestable_pods": 207405.85760900006,
           "harvested_pods": 22834519.350377,
           "season": 4885,
           "timestamp": "2022-02-26T00:00:28",
           "unharvestable_pods": 617197151.04651,
           "unharvestable_ratio": 0.9640104360033989,
           "value": 22834519.350377,
           "variable": "harvested_pods"
          },
          {
           "harvestable_pods": 207405.85760900006,
           "harvested_pods": 22834519.350377,
           "season": 4885,
           "timestamp": "2022-02-26T00:00:28",
           "unharvestable_pods": 617197151.04651,
           "unharvestable_ratio": 0.9640104360033989,
           "value": 207405.85760900006,
           "variable": "harvestable_pods"
          },
          {
           "harvestable_pods": 219010.46420300007,
           "harvested_pods": 22834519.350377,
           "season": 4909,
           "timestamp": "2022-02-27T00:00:02",
           "unharvestable_pods": 617173941.833322,
           "unharvestable_ratio": 0.963991657909896,
           "value": 219010.46420300007,
           "variable": "harvestable_pods"
          },
          {
           "harvestable_pods": 219010.46420300007,
           "harvested_pods": 22834519.350377,
           "season": 4909,
           "timestamp": "2022-02-27T00:00:02",
           "unharvestable_pods": 617173941.833322,
           "unharvestable_ratio": 0.963991657909896,
           "value": 0.963991657909896,
           "variable": "unharvestable_ratio"
          },
          {
           "harvestable_pods": 219010.46420300007,
           "harvested_pods": 22834519.350377,
           "season": 4909,
           "timestamp": "2022-02-27T00:00:02",
           "unharvestable_pods": 617173941.833322,
           "unharvestable_ratio": 0.963991657909896,
           "value": 617173941.833322,
           "variable": "unharvestable_pods"
          },
          {
           "harvestable_pods": 219010.46420300007,
           "harvested_pods": 22834519.350377,
           "season": 4909,
           "timestamp": "2022-02-27T00:00:02",
           "unharvestable_pods": 617173941.833322,
           "unharvestable_ratio": 0.963991657909896,
           "value": 22834519.350377,
           "variable": "harvested_pods"
          },
          {
           "harvestable_pods": 230284.61199899763,
           "harvested_pods": 22834519.350377,
           "season": 4933,
           "timestamp": "2022-02-28T00:00:02",
           "unharvestable_pods": 617753301.14624,
           "unharvestable_ratio": 0.9640072529497795,
           "value": 0.9640072529497795,
           "variable": "unharvestable_ratio"
          },
          {
           "harvestable_pods": 230284.61199899763,
           "harvested_pods": 22834519.350377,
           "season": 4933,
           "timestamp": "2022-02-28T00:00:02",
           "unharvestable_pods": 617753301.14624,
           "unharvestable_ratio": 0.9640072529497795,
           "value": 230284.61199899763,
           "variable": "harvestable_pods"
          },
          {
           "harvestable_pods": 230284.61199899763,
           "harvested_pods": 22834519.350377,
           "season": 4933,
           "timestamp": "2022-02-28T00:00:02",
           "unharvestable_pods": 617753301.14624,
           "unharvestable_ratio": 0.9640072529497795,
           "value": 617753301.14624,
           "variable": "unharvestable_pods"
          },
          {
           "harvestable_pods": 230284.61199899763,
           "harvested_pods": 22834519.350377,
           "season": 4933,
           "timestamp": "2022-02-28T00:00:02",
           "unharvestable_pods": 617753301.14624,
           "unharvestable_ratio": 0.9640072529497795,
           "value": 22834519.350377,
           "variable": "harvested_pods"
          },
          {
           "harvestable_pods": 244872.09226999804,
           "harvested_pods": 22834519.350377,
           "season": 4957,
           "timestamp": "2022-03-01T00:00:18",
           "unharvestable_pods": 621229316.394279,
           "unharvestable_ratio": 0.9641796065117153,
           "value": 621229316.394279,
           "variable": "unharvestable_pods"
          },
          {
           "harvestable_pods": 244872.09226999804,
           "harvested_pods": 22834519.350377,
           "season": 4957,
           "timestamp": "2022-03-01T00:00:18",
           "unharvestable_pods": 621229316.394279,
           "unharvestable_ratio": 0.9641796065117153,
           "value": 22834519.350377,
           "variable": "harvested_pods"
          },
          {
           "harvestable_pods": 244872.09226999804,
           "harvested_pods": 22834519.350377,
           "season": 4957,
           "timestamp": "2022-03-01T00:00:18",
           "unharvestable_pods": 621229316.394279,
           "unharvestable_ratio": 0.9641796065117153,
           "value": 244872.09226999804,
           "variable": "harvestable_pods"
          },
          {
           "harvestable_pods": 244872.09226999804,
           "harvested_pods": 22834519.350377,
           "season": 4957,
           "timestamp": "2022-03-01T00:00:18",
           "unharvestable_pods": 621229316.394279,
           "unharvestable_ratio": 0.9641796065117153,
           "value": 0.9641796065117153,
           "variable": "unharvestable_ratio"
          },
          {
           "harvestable_pods": 280106.8222949989,
           "harvested_pods": 22834519.350377,
           "season": 4981,
           "timestamp": "2022-03-02T00:00:00",
           "unharvestable_pods": 622562725.783247,
           "unharvestable_ratio": 0.9642009649205566,
           "value": 622562725.783247,
           "variable": "unharvestable_pods"
          },
          {
           "harvestable_pods": 280106.8222949989,
           "harvested_pods": 22834519.350377,
           "season": 4981,
           "timestamp": "2022-03-02T00:00:00",
           "unharvestable_pods": 622562725.783247,
           "unharvestable_ratio": 0.9642009649205566,
           "value": 22834519.350377,
           "variable": "harvested_pods"
          },
          {
           "harvestable_pods": 280106.8222949989,
           "harvested_pods": 22834519.350377,
           "season": 4981,
           "timestamp": "2022-03-02T00:00:00",
           "unharvestable_pods": 622562725.783247,
           "unharvestable_ratio": 0.9642009649205566,
           "value": 280106.8222949989,
           "variable": "harvestable_pods"
          },
          {
           "harvestable_pods": 280106.8222949989,
           "harvested_pods": 22834519.350377,
           "season": 4981,
           "timestamp": "2022-03-02T00:00:00",
           "unharvestable_pods": 622562725.783247,
           "unharvestable_ratio": 0.9642009649205566,
           "value": 0.9642009649205566,
           "variable": "unharvestable_ratio"
          },
          {
           "harvestable_pods": 288417.00350899994,
           "harvested_pods": 22839583.026931,
           "season": 5005,
           "timestamp": "2022-03-03T00:00:02",
           "unharvestable_pods": 626338178.1562151,
           "unharvestable_ratio": 0.9643892156247234,
           "value": 0.9643892156247234,
           "variable": "unharvestable_ratio"
          },
          {
           "harvestable_pods": 288417.00350899994,
           "harvested_pods": 22839583.026931,
           "season": 5005,
           "timestamp": "2022-03-03T00:00:02",
           "unharvestable_pods": 626338178.1562151,
           "unharvestable_ratio": 0.9643892156247234,
           "value": 288417.00350899994,
           "variable": "harvestable_pods"
          },
          {
           "harvestable_pods": 288417.00350899994,
           "harvested_pods": 22839583.026931,
           "season": 5005,
           "timestamp": "2022-03-03T00:00:02",
           "unharvestable_pods": 626338178.1562151,
           "unharvestable_ratio": 0.9643892156247234,
           "value": 626338178.1562151,
           "variable": "unharvestable_pods"
          },
          {
           "harvestable_pods": 288417.00350899994,
           "harvested_pods": 22839583.026931,
           "season": 5005,
           "timestamp": "2022-03-03T00:00:02",
           "unharvestable_pods": 626338178.1562151,
           "unharvestable_ratio": 0.9643892156247234,
           "value": 22839583.026931,
           "variable": "harvested_pods"
          },
          {
           "harvestable_pods": 141353.65560400113,
           "harvested_pods": 22990480.974133,
           "season": 5029,
           "timestamp": "2022-03-04T00:00:35",
           "unharvestable_pods": 639469799.24948,
           "unharvestable_ratio": 0.9650893788258397,
           "value": 639469799.24948,
           "variable": "unharvestable_pods"
          },
          {
           "harvestable_pods": 141353.65560400113,
           "harvested_pods": 22990480.974133,
           "season": 5029,
           "timestamp": "2022-03-04T00:00:35",
           "unharvestable_pods": 639469799.24948,
           "unharvestable_ratio": 0.9650893788258397,
           "value": 22990480.974133,
           "variable": "harvested_pods"
          },
          {
           "harvestable_pods": 141353.65560400113,
           "harvested_pods": 22990480.974133,
           "season": 5029,
           "timestamp": "2022-03-04T00:00:35",
           "unharvestable_pods": 639469799.24948,
           "unharvestable_ratio": 0.9650893788258397,
           "value": 141353.65560400113,
           "variable": "harvestable_pods"
          },
          {
           "harvestable_pods": 141353.65560400113,
           "harvested_pods": 22990480.974133,
           "season": 5029,
           "timestamp": "2022-03-04T00:00:35",
           "unharvestable_pods": 639469799.24948,
           "unharvestable_ratio": 0.9650893788258397,
           "value": 0.9650893788258397,
           "variable": "unharvestable_ratio"
          },
          {
           "harvestable_pods": 141353.65560400113,
           "harvested_pods": 22990480.974133,
           "season": 5053,
           "timestamp": "2022-03-05T00:00:30",
           "unharvestable_pods": 639530549.9497889,
           "unharvestable_ratio": 0.9650925793163668,
           "value": 141353.65560400113,
           "variable": "harvestable_pods"
          },
          {
           "harvestable_pods": 141353.65560400113,
           "harvested_pods": 22990480.974133,
           "season": 5053,
           "timestamp": "2022-03-05T00:00:30",
           "unharvestable_pods": 639530549.9497889,
           "unharvestable_ratio": 0.9650925793163668,
           "value": 0.9650925793163668,
           "variable": "unharvestable_ratio"
          },
          {
           "harvestable_pods": 141353.65560400113,
           "harvested_pods": 22990480.974133,
           "season": 5053,
           "timestamp": "2022-03-05T00:00:30",
           "unharvestable_pods": 639530549.9497889,
           "unharvestable_ratio": 0.9650925793163668,
           "value": 22990480.974133,
           "variable": "harvested_pods"
          },
          {
           "harvestable_pods": 141353.65560400113,
           "harvested_pods": 22990480.974133,
           "season": 5053,
           "timestamp": "2022-03-05T00:00:30",
           "unharvestable_pods": 639530549.9497889,
           "unharvestable_ratio": 0.9650925793163668,
           "value": 639530549.9497889,
           "variable": "unharvestable_pods"
          },
          {
           "harvestable_pods": 141353.65560400113,
           "harvested_pods": 22990480.974133,
           "season": 5077,
           "timestamp": "2022-03-06T00:00:17",
           "unharvestable_pods": 639719662.188633,
           "unharvestable_ratio": 0.9651025384407098,
           "value": 639719662.188633,
           "variable": "unharvestable_pods"
          },
          {
           "harvestable_pods": 141353.65560400113,
           "harvested_pods": 22990480.974133,
           "season": 5077,
           "timestamp": "2022-03-06T00:00:17",
           "unharvestable_pods": 639719662.188633,
           "unharvestable_ratio": 0.9651025384407098,
           "value": 22990480.974133,
           "variable": "harvested_pods"
          },
          {
           "harvestable_pods": 141353.65560400113,
           "harvested_pods": 22990480.974133,
           "season": 5077,
           "timestamp": "2022-03-06T00:00:17",
           "unharvestable_pods": 639719662.188633,
           "unharvestable_ratio": 0.9651025384407098,
           "value": 141353.65560400113,
           "variable": "harvestable_pods"
          },
          {
           "harvestable_pods": 141353.65560400113,
           "harvested_pods": 22990480.974133,
           "season": 5077,
           "timestamp": "2022-03-06T00:00:17",
           "unharvestable_pods": 639719662.188633,
           "unharvestable_ratio": 0.9651025384407098,
           "value": 0.9651025384407098,
           "variable": "unharvestable_ratio"
          },
          {
           "harvestable_pods": 141353.65560400113,
           "harvested_pods": 22990480.974133,
           "season": 5101,
           "timestamp": "2022-03-07T00:00:15",
           "unharvestable_pods": 641140489.561964,
           "unharvestable_ratio": 0.9651771814249762,
           "value": 641140489.561964,
           "variable": "unharvestable_pods"
          },
          {
           "harvestable_pods": 141353.65560400113,
           "harvested_pods": 22990480.974133,
           "season": 5101,
           "timestamp": "2022-03-07T00:00:15",
           "unharvestable_pods": 641140489.561964,
           "unharvestable_ratio": 0.9651771814249762,
           "value": 22990480.974133,
           "variable": "harvested_pods"
          },
          {
           "harvestable_pods": 141353.65560400113,
           "harvested_pods": 22990480.974133,
           "season": 5101,
           "timestamp": "2022-03-07T00:00:15",
           "unharvestable_pods": 641140489.561964,
           "unharvestable_ratio": 0.9651771814249762,
           "value": 141353.65560400113,
           "variable": "harvestable_pods"
          },
          {
           "harvestable_pods": 141353.65560400113,
           "harvested_pods": 22990480.974133,
           "season": 5101,
           "timestamp": "2022-03-07T00:00:15",
           "unharvestable_pods": 641140489.561964,
           "unharvestable_ratio": 0.9651771814249762,
           "value": 0.9651771814249762,
           "variable": "unharvestable_ratio"
          },
          {
           "harvestable_pods": 146629.44389700145,
           "harvested_pods": 22993263.391564,
           "season": 5125,
           "timestamp": "2022-03-08T00:00:01",
           "unharvestable_pods": 645182573.760388,
           "unharvestable_ratio": 0.9653761559845118,
           "value": 0.9653761559845118,
           "variable": "unharvestable_ratio"
          },
          {
           "harvestable_pods": 146629.44389700145,
           "harvested_pods": 22993263.391564,
           "season": 5125,
           "timestamp": "2022-03-08T00:00:01",
           "unharvestable_pods": 645182573.760388,
           "unharvestable_ratio": 0.9653761559845118,
           "value": 645182573.760388,
           "variable": "unharvestable_pods"
          },
          {
           "harvestable_pods": 146629.44389700145,
           "harvested_pods": 22993263.391564,
           "season": 5125,
           "timestamp": "2022-03-08T00:00:01",
           "unharvestable_pods": 645182573.760388,
           "unharvestable_ratio": 0.9653761559845118,
           "value": 22993263.391564,
           "variable": "harvested_pods"
          },
          {
           "harvestable_pods": 146629.44389700145,
           "harvested_pods": 22993263.391564,
           "season": 5125,
           "timestamp": "2022-03-08T00:00:01",
           "unharvestable_pods": 645182573.760388,
           "unharvestable_ratio": 0.9653761559845118,
           "value": 146629.44389700145,
           "variable": "harvestable_pods"
          },
          {
           "harvestable_pods": 203376.44428499788,
           "harvested_pods": 22993263.391564,
           "season": 5149,
           "timestamp": "2022-03-09T00:00:04",
           "unharvestable_pods": 645790547.883266,
           "unharvestable_ratio": 0.9653257337932927,
           "value": 22993263.391564,
           "variable": "harvested_pods"
          },
          {
           "harvestable_pods": 203376.44428499788,
           "harvested_pods": 22993263.391564,
           "season": 5149,
           "timestamp": "2022-03-09T00:00:04",
           "unharvestable_pods": 645790547.883266,
           "unharvestable_ratio": 0.9653257337932927,
           "value": 203376.44428499788,
           "variable": "harvestable_pods"
          },
          {
           "harvestable_pods": 203376.44428499788,
           "harvested_pods": 22993263.391564,
           "season": 5149,
           "timestamp": "2022-03-09T00:00:04",
           "unharvestable_pods": 645790547.883266,
           "unharvestable_ratio": 0.9653257337932927,
           "value": 645790547.883266,
           "variable": "unharvestable_pods"
          },
          {
           "harvestable_pods": 203376.44428499788,
           "harvested_pods": 22993263.391564,
           "season": 5149,
           "timestamp": "2022-03-09T00:00:04",
           "unharvestable_pods": 645790547.883266,
           "unharvestable_ratio": 0.9653257337932927,
           "value": 0.9653257337932927,
           "variable": "unharvestable_ratio"
          },
          {
           "harvestable_pods": 229320.8824279979,
           "harvested_pods": 22993263.391564,
           "season": 5173,
           "timestamp": "2022-03-10T00:00:17",
           "unharvestable_pods": 647090589.982697,
           "unharvestable_ratio": 0.9653556200805041,
           "value": 0.9653556200805041,
           "variable": "unharvestable_ratio"
          },
          {
           "harvestable_pods": 229320.8824279979,
           "harvested_pods": 22993263.391564,
           "season": 5173,
           "timestamp": "2022-03-10T00:00:17",
           "unharvestable_pods": 647090589.982697,
           "unharvestable_ratio": 0.9653556200805041,
           "value": 229320.8824279979,
           "variable": "harvestable_pods"
          },
          {
           "harvestable_pods": 229320.8824279979,
           "harvested_pods": 22993263.391564,
           "season": 5173,
           "timestamp": "2022-03-10T00:00:17",
           "unharvestable_pods": 647090589.982697,
           "unharvestable_ratio": 0.9653556200805041,
           "value": 22993263.391564,
           "variable": "harvested_pods"
          },
          {
           "harvestable_pods": 229320.8824279979,
           "harvested_pods": 22993263.391564,
           "season": 5173,
           "timestamp": "2022-03-10T00:00:17",
           "unharvestable_pods": 647090589.982697,
           "unharvestable_ratio": 0.9653556200805041,
           "value": 647090589.982697,
           "variable": "unharvestable_pods"
          },
          {
           "harvestable_pods": 272723.10846599936,
           "harvested_pods": 22993263.391564,
           "season": 5197,
           "timestamp": "2022-03-11T00:00:09",
           "unharvestable_pods": 648042812.077786,
           "unharvestable_ratio": 0.9653423483360868,
           "value": 648042812.077786,
           "variable": "unharvestable_pods"
          },
          {
           "harvestable_pods": 272723.10846599936,
           "harvested_pods": 22993263.391564,
           "season": 5197,
           "timestamp": "2022-03-11T00:00:09",
           "unharvestable_pods": 648042812.077786,
           "unharvestable_ratio": 0.9653423483360868,
           "value": 22993263.391564,
           "variable": "harvested_pods"
          },
          {
           "harvestable_pods": 272723.10846599936,
           "harvested_pods": 22993263.391564,
           "season": 5197,
           "timestamp": "2022-03-11T00:00:09",
           "unharvestable_pods": 648042812.077786,
           "unharvestable_ratio": 0.9653423483360868,
           "value": 272723.10846599936,
           "variable": "harvestable_pods"
          },
          {
           "harvestable_pods": 272723.10846599936,
           "harvested_pods": 22993263.391564,
           "season": 5197,
           "timestamp": "2022-03-11T00:00:09",
           "unharvestable_pods": 648042812.077786,
           "unharvestable_ratio": 0.9653423483360868,
           "value": 0.9653423483360868,
           "variable": "unharvestable_ratio"
          },
          {
           "harvestable_pods": 340276.99687499925,
           "harvested_pods": 22993263.391564,
           "season": 5221,
           "timestamp": "2022-03-12T00:00:05",
           "unharvestable_pods": 648601288.498656,
           "unharvestable_ratio": 0.9652741019138931,
           "value": 648601288.498656,
           "variable": "unharvestable_pods"
          },
          {
           "harvestable_pods": 340276.99687499925,
           "harvested_pods": 22993263.391564,
           "season": 5221,
           "timestamp": "2022-03-12T00:00:05",
           "unharvestable_pods": 648601288.498656,
           "unharvestable_ratio": 0.9652741019138931,
           "value": 22993263.391564,
           "variable": "harvested_pods"
          },
          {
           "harvestable_pods": 340276.99687499925,
           "harvested_pods": 22993263.391564,
           "season": 5221,
           "timestamp": "2022-03-12T00:00:05",
           "unharvestable_pods": 648601288.498656,
           "unharvestable_ratio": 0.9652741019138931,
           "value": 340276.99687499925,
           "variable": "harvestable_pods"
          },
          {
           "harvestable_pods": 340276.99687499925,
           "harvested_pods": 22993263.391564,
           "season": 5221,
           "timestamp": "2022-03-12T00:00:05",
           "unharvestable_pods": 648601288.498656,
           "unharvestable_ratio": 0.9652741019138931,
           "value": 0.9652741019138931,
           "variable": "unharvestable_ratio"
          },
          {
           "harvestable_pods": 428860.91194200143,
           "harvested_pods": 22993263.391564,
           "season": 5245,
           "timestamp": "2022-03-13T00:00:01",
           "unharvestable_pods": 648657695.270716,
           "unharvestable_ratio": 0.9651497878357002,
           "value": 0.9651497878357002,
           "variable": "unharvestable_ratio"
          },
          {
           "harvestable_pods": 428860.91194200143,
           "harvested_pods": 22993263.391564,
           "season": 5245,
           "timestamp": "2022-03-13T00:00:01",
           "unharvestable_pods": 648657695.270716,
           "unharvestable_ratio": 0.9651497878357002,
           "value": 428860.91194200143,
           "variable": "harvestable_pods"
          },
          {
           "harvestable_pods": 428860.91194200143,
           "harvested_pods": 22993263.391564,
           "season": 5245,
           "timestamp": "2022-03-13T00:00:01",
           "unharvestable_pods": 648657695.270716,
           "unharvestable_ratio": 0.9651497878357002,
           "value": 648657695.270716,
           "variable": "unharvestable_pods"
          },
          {
           "harvestable_pods": 428860.91194200143,
           "harvested_pods": 22993263.391564,
           "season": 5245,
           "timestamp": "2022-03-13T00:00:01",
           "unharvestable_pods": 648657695.270716,
           "unharvestable_ratio": 0.9651497878357002,
           "value": 22993263.391564,
           "variable": "harvested_pods"
          },
          {
           "harvestable_pods": 551036.7292260006,
           "harvested_pods": 22993263.391564,
           "season": 5269,
           "timestamp": "2022-03-14T00:00:04",
           "unharvestable_pods": 648535519.452534,
           "unharvestable_ratio": 0.9649680001763223,
           "value": 648535519.452534,
           "variable": "unharvestable_pods"
          },
          {
           "harvestable_pods": 551036.7292260006,
           "harvested_pods": 22993263.391564,
           "season": 5269,
           "timestamp": "2022-03-14T00:00:04",
           "unharvestable_pods": 648535519.452534,
           "unharvestable_ratio": 0.9649680001763223,
           "value": 22993263.391564,
           "variable": "harvested_pods"
          },
          {
           "harvestable_pods": 551036.7292260006,
           "harvested_pods": 22993263.391564,
           "season": 5269,
           "timestamp": "2022-03-14T00:00:04",
           "unharvestable_pods": 648535519.452534,
           "unharvestable_ratio": 0.9649680001763223,
           "value": 551036.7292260006,
           "variable": "harvestable_pods"
          },
          {
           "harvestable_pods": 551036.7292260006,
           "harvested_pods": 22993263.391564,
           "season": 5269,
           "timestamp": "2022-03-14T00:00:04",
           "unharvestable_pods": 648535519.452534,
           "unharvestable_ratio": 0.9649680001763223,
           "value": 0.9649680001763223,
           "variable": "unharvestable_ratio"
          },
          {
           "harvestable_pods": 705589.8563390002,
           "harvested_pods": 22993263.391564,
           "season": 5293,
           "timestamp": "2022-03-15T00:00:14",
           "unharvestable_pods": 649568932.1028761,
           "unharvestable_ratio": 0.9648002566533677,
           "value": 0.9648002566533677,
           "variable": "unharvestable_ratio"
          },
          {
           "harvestable_pods": 705589.8563390002,
           "harvested_pods": 22993263.391564,
           "season": 5293,
           "timestamp": "2022-03-15T00:00:14",
           "unharvestable_pods": 649568932.1028761,
           "unharvestable_ratio": 0.9648002566533677,
           "value": 705589.8563390002,
           "variable": "harvestable_pods"
          },
          {
           "harvestable_pods": 705589.8563390002,
           "harvested_pods": 22993263.391564,
           "season": 5293,
           "timestamp": "2022-03-15T00:00:14",
           "unharvestable_pods": 649568932.1028761,
           "unharvestable_ratio": 0.9648002566533677,
           "value": 22993263.391564,
           "variable": "harvested_pods"
          },
          {
           "harvestable_pods": 705589.8563390002,
           "harvested_pods": 22993263.391564,
           "season": 5293,
           "timestamp": "2022-03-15T00:00:14",
           "unharvestable_pods": 649568932.1028761,
           "unharvestable_ratio": 0.9648002566533677,
           "value": 649568932.1028761,
           "variable": "unharvestable_pods"
          },
          {
           "harvestable_pods": 862084.918903999,
           "harvested_pods": 22993263.391564,
           "season": 5317,
           "timestamp": "2022-03-16T00:00:05",
           "unharvestable_pods": 649442663.3225371,
           "unharvestable_ratio": 0.9645694062683928,
           "value": 649442663.3225371,
           "variable": "unharvestable_pods"
          },
          {
           "harvestable_pods": 862084.918903999,
           "harvested_pods": 22993263.391564,
           "season": 5317,
           "timestamp": "2022-03-16T00:00:05",
           "unharvestable_pods": 649442663.3225371,
           "unharvestable_ratio": 0.9645694062683928,
           "value": 22993263.391564,
           "variable": "harvested_pods"
          },
          {
           "harvestable_pods": 862084.918903999,
           "harvested_pods": 22993263.391564,
           "season": 5317,
           "timestamp": "2022-03-16T00:00:05",
           "unharvestable_pods": 649442663.3225371,
           "unharvestable_ratio": 0.9645694062683928,
           "value": 862084.918903999,
           "variable": "harvestable_pods"
          },
          {
           "harvestable_pods": 862084.918903999,
           "harvested_pods": 22993263.391564,
           "season": 5317,
           "timestamp": "2022-03-16T00:00:05",
           "unharvestable_pods": 649442663.3225371,
           "unharvestable_ratio": 0.9645694062683928,
           "value": 0.9645694062683928,
           "variable": "unharvestable_ratio"
          },
          {
           "harvestable_pods": 900770.697900001,
           "harvested_pods": 23061551.310913,
           "season": 5341,
           "timestamp": "2022-03-17T00:00:07",
           "unharvestable_pods": 650003991.2034509,
           "unharvestable_ratio": 0.9644458164465171,
           "value": 900770.697900001,
           "variable": "harvestable_pods"
          },
          {
           "harvestable_pods": 900770.697900001,
           "harvested_pods": 23061551.310913,
           "season": 5341,
           "timestamp": "2022-03-17T00:00:07",
           "unharvestable_pods": 650003991.2034509,
           "unharvestable_ratio": 0.9644458164465171,
           "value": 0.9644458164465171,
           "variable": "unharvestable_ratio"
          },
          {
           "harvestable_pods": 900770.697900001,
           "harvested_pods": 23061551.310913,
           "season": 5341,
           "timestamp": "2022-03-17T00:00:07",
           "unharvestable_pods": 650003991.2034509,
           "unharvestable_ratio": 0.9644458164465171,
           "value": 650003991.2034509,
           "variable": "unharvestable_pods"
          },
          {
           "harvestable_pods": 900770.697900001,
           "harvested_pods": 23061551.310913,
           "season": 5341,
           "timestamp": "2022-03-17T00:00:07",
           "unharvestable_pods": 650003991.2034509,
           "unharvestable_ratio": 0.9644458164465171,
           "value": 23061551.310913,
           "variable": "harvested_pods"
          },
          {
           "harvestable_pods": 145718.8239319995,
           "harvested_pods": 23922199.109166,
           "season": 5365,
           "timestamp": "2022-03-18T00:00:08",
           "unharvestable_pods": 650153350.6702,
           "unharvestable_ratio": 0.9643026420941058,
           "value": 650153350.6702,
           "variable": "unharvestable_pods"
          },
          {
           "harvestable_pods": 145718.8239319995,
           "harvested_pods": 23922199.109166,
           "season": 5365,
           "timestamp": "2022-03-18T00:00:08",
           "unharvestable_pods": 650153350.6702,
           "unharvestable_ratio": 0.9643026420941058,
           "value": 23922199.109166,
           "variable": "harvested_pods"
          },
          {
           "harvestable_pods": 145718.8239319995,
           "harvested_pods": 23922199.109166,
           "season": 5365,
           "timestamp": "2022-03-18T00:00:08",
           "unharvestable_pods": 650153350.6702,
           "unharvestable_ratio": 0.9643026420941058,
           "value": 145718.8239319995,
           "variable": "harvestable_pods"
          },
          {
           "harvestable_pods": 145718.8239319995,
           "harvested_pods": 23922199.109166,
           "season": 5365,
           "timestamp": "2022-03-18T00:00:08",
           "unharvestable_pods": 650153350.6702,
           "unharvestable_ratio": 0.9643026420941058,
           "value": 0.9643026420941058,
           "variable": "unharvestable_ratio"
          },
          {
           "harvestable_pods": 120708.27456500009,
           "harvested_pods": 23999045.529753,
           "season": 5389,
           "timestamp": "2022-03-19T00:00:09",
           "unharvestable_pods": 651838813.530128,
           "unharvestable_ratio": 0.9643177038210625,
           "value": 0.9643177038210625,
           "variable": "unharvestable_ratio"
          },
          {
           "harvestable_pods": 120708.27456500009,
           "harvested_pods": 23999045.529753,
           "season": 5389,
           "timestamp": "2022-03-19T00:00:09",
           "unharvestable_pods": 651838813.530128,
           "unharvestable_ratio": 0.9643177038210625,
           "value": 651838813.530128,
           "variable": "unharvestable_pods"
          },
          {
           "harvestable_pods": 120708.27456500009,
           "harvested_pods": 23999045.529753,
           "season": 5389,
           "timestamp": "2022-03-19T00:00:09",
           "unharvestable_pods": 651838813.530128,
           "unharvestable_ratio": 0.9643177038210625,
           "value": 23999045.529753,
           "variable": "harvested_pods"
          },
          {
           "harvestable_pods": 120708.27456500009,
           "harvested_pods": 23999045.529753,
           "season": 5389,
           "timestamp": "2022-03-19T00:00:09",
           "unharvestable_pods": 651838813.530128,
           "unharvestable_ratio": 0.9643177038210625,
           "value": 120708.27456500009,
           "variable": "harvestable_pods"
          },
          {
           "harvestable_pods": 117900.37945700064,
           "harvested_pods": 24022373.793534,
           "season": 5413,
           "timestamp": "2022-03-20T00:00:11",
           "unharvestable_pods": 653337659.0792639,
           "unharvestable_ratio": 0.9643674384240017,
           "value": 117900.37945700064,
           "variable": "harvestable_pods"
          },
          {
           "harvestable_pods": 117900.37945700064,
           "harvested_pods": 24022373.793534,
           "season": 5413,
           "timestamp": "2022-03-20T00:00:11",
           "unharvestable_pods": 653337659.0792639,
           "unharvestable_ratio": 0.9643674384240017,
           "value": 0.9643674384240017,
           "variable": "unharvestable_ratio"
          },
          {
           "harvestable_pods": 117900.37945700064,
           "harvested_pods": 24022373.793534,
           "season": 5413,
           "timestamp": "2022-03-20T00:00:11",
           "unharvestable_pods": 653337659.0792639,
           "unharvestable_ratio": 0.9643674384240017,
           "value": 653337659.0792639,
           "variable": "unharvestable_pods"
          },
          {
           "harvestable_pods": 117900.37945700064,
           "harvested_pods": 24022373.793534,
           "season": 5413,
           "timestamp": "2022-03-20T00:00:11",
           "unharvestable_pods": 653337659.0792639,
           "unharvestable_ratio": 0.9643674384240017,
           "value": 24022373.793534,
           "variable": "harvested_pods"
          },
          {
           "harvestable_pods": 120307.10878999904,
           "harvested_pods": 24085507.743794,
           "season": 5437,
           "timestamp": "2022-03-21T00:00:14",
           "unharvestable_pods": 655766880.89617,
           "unharvestable_ratio": 0.9644017840658592,
           "value": 655766880.89617,
           "variable": "unharvestable_pods"
          },
          {
           "harvestable_pods": 120307.10878999904,
           "harvested_pods": 24085507.743794,
           "season": 5437,
           "timestamp": "2022-03-21T00:00:14",
           "unharvestable_pods": 655766880.89617,
           "unharvestable_ratio": 0.9644017840658592,
           "value": 24085507.743794,
           "variable": "harvested_pods"
          },
          {
           "harvestable_pods": 120307.10878999904,
           "harvested_pods": 24085507.743794,
           "season": 5437,
           "timestamp": "2022-03-21T00:00:14",
           "unharvestable_pods": 655766880.89617,
           "unharvestable_ratio": 0.9644017840658592,
           "value": 120307.10878999904,
           "variable": "harvestable_pods"
          },
          {
           "harvestable_pods": 120307.10878999904,
           "harvested_pods": 24085507.743794,
           "season": 5437,
           "timestamp": "2022-03-21T00:00:14",
           "unharvestable_pods": 655766880.89617,
           "unharvestable_ratio": 0.9644017840658592,
           "value": 0.9644017840658592,
           "variable": "unharvestable_ratio"
          },
          {
           "harvestable_pods": 171068.75337700173,
           "harvested_pods": 24128567.883227,
           "season": 5461,
           "timestamp": "2022-03-22T00:00:02",
           "unharvestable_pods": 656158858.072695,
           "unharvestable_ratio": 0.9642893184146594,
           "value": 171068.75337700173,
           "variable": "harvestable_pods"
          },
          {
           "harvestable_pods": 171068.75337700173,
           "harvested_pods": 24128567.883227,
           "season": 5461,
           "timestamp": "2022-03-22T00:00:02",
           "unharvestable_pods": 656158858.072695,
           "unharvestable_ratio": 0.9642893184146594,
           "value": 0.9642893184146594,
           "variable": "unharvestable_ratio"
          },
          {
           "harvestable_pods": 171068.75337700173,
           "harvested_pods": 24128567.883227,
           "season": 5461,
           "timestamp": "2022-03-22T00:00:02",
           "unharvestable_pods": 656158858.072695,
           "unharvestable_ratio": 0.9642893184146594,
           "value": 656158858.072695,
           "variable": "unharvestable_pods"
          },
          {
           "harvestable_pods": 171068.75337700173,
           "harvested_pods": 24128567.883227,
           "season": 5461,
           "timestamp": "2022-03-22T00:00:02",
           "unharvestable_pods": 656158858.072695,
           "unharvestable_ratio": 0.9642893184146594,
           "value": 24128567.883227,
           "variable": "harvested_pods"
          },
          {
           "harvestable_pods": 127458.13851400092,
           "harvested_pods": 24265460.731187,
           "season": 5485,
           "timestamp": "2022-03-23T00:00:07",
           "unharvestable_pods": 656068378.4768419,
           "unharvestable_ratio": 0.9641523787395093,
           "value": 656068378.4768419,
           "variable": "unharvestable_pods"
          },
          {
           "harvestable_pods": 127458.13851400092,
           "harvested_pods": 24265460.731187,
           "season": 5485,
           "timestamp": "2022-03-23T00:00:07",
           "unharvestable_pods": 656068378.4768419,
           "unharvestable_ratio": 0.9641523787395093,
           "value": 24265460.731187,
           "variable": "harvested_pods"
          },
          {
           "harvestable_pods": 127458.13851400092,
           "harvested_pods": 24265460.731187,
           "season": 5485,
           "timestamp": "2022-03-23T00:00:07",
           "unharvestable_pods": 656068378.4768419,
           "unharvestable_ratio": 0.9641523787395093,
           "value": 127458.13851400092,
           "variable": "harvestable_pods"
          },
          {
           "harvestable_pods": 127458.13851400092,
           "harvested_pods": 24265460.731187,
           "season": 5485,
           "timestamp": "2022-03-23T00:00:07",
           "unharvestable_pods": 656068378.4768419,
           "unharvestable_ratio": 0.9641523787395093,
           "value": 0.9641523787395093,
           "variable": "unharvestable_ratio"
          },
          {
           "harvestable_pods": 143547.33602999896,
           "harvested_pods": 24385303.532868,
           "season": 5509,
           "timestamp": "2022-03-24T00:00:59",
           "unharvestable_pods": 655920629.312904,
           "unharvestable_ratio": 0.9639519882323307,
           "value": 0.9639519882323307,
           "variable": "unharvestable_ratio"
          },
          {
           "harvestable_pods": 143547.33602999896,
           "harvested_pods": 24385303.532868,
           "season": 5509,
           "timestamp": "2022-03-24T00:00:59",
           "unharvestable_pods": 655920629.312904,
           "unharvestable_ratio": 0.9639519882323307,
           "value": 655920629.312904,
           "variable": "unharvestable_pods"
          },
          {
           "harvestable_pods": 143547.33602999896,
           "harvested_pods": 24385303.532868,
           "season": 5509,
           "timestamp": "2022-03-24T00:00:59",
           "unharvestable_pods": 655920629.312904,
           "unharvestable_ratio": 0.9639519882323307,
           "value": 24385303.532868,
           "variable": "harvested_pods"
          },
          {
           "harvestable_pods": 143547.33602999896,
           "harvested_pods": 24385303.532868,
           "season": 5509,
           "timestamp": "2022-03-24T00:00:59",
           "unharvestable_pods": 655920629.312904,
           "unharvestable_ratio": 0.9639519882323307,
           "value": 143547.33602999896,
           "variable": "harvestable_pods"
          },
          {
           "harvestable_pods": 151617.74227000028,
           "harvested_pods": 24497604.624926,
           "season": 5533,
           "timestamp": "2022-03-25T00:00:02",
           "unharvestable_pods": 655799852.9873941,
           "unharvestable_ratio": 0.9637750667023084,
           "value": 151617.74227000028,
           "variable": "harvestable_pods"
          },
          {
           "harvestable_pods": 151617.74227000028,
           "harvested_pods": 24497604.624926,
           "season": 5533,
           "timestamp": "2022-03-25T00:00:02",
           "unharvestable_pods": 655799852.9873941,
           "unharvestable_ratio": 0.9637750667023084,
           "value": 0.9637750667023084,
           "variable": "unharvestable_ratio"
          },
          {
           "harvestable_pods": 151617.74227000028,
           "harvested_pods": 24497604.624926,
           "season": 5533,
           "timestamp": "2022-03-25T00:00:02",
           "unharvestable_pods": 655799852.9873941,
           "unharvestable_ratio": 0.9637750667023084,
           "value": 655799852.9873941,
           "variable": "unharvestable_pods"
          },
          {
           "harvestable_pods": 151617.74227000028,
           "harvested_pods": 24497604.624926,
           "season": 5533,
           "timestamp": "2022-03-25T00:00:02",
           "unharvestable_pods": 655799852.9873941,
           "unharvestable_ratio": 0.9637750667023084,
           "value": 24497604.624926,
           "variable": "harvested_pods"
          },
          {
           "harvestable_pods": 257038.41843499988,
           "harvested_pods": 24517434.240243,
           "season": 5557,
           "timestamp": "2022-03-26T00:00:19",
           "unharvestable_pods": 655669185.786973,
           "unharvestable_ratio": 0.96359070681139,
           "value": 655669185.786973,
           "variable": "unharvestable_pods"
          },
          {
           "harvestable_pods": 257038.41843499988,
           "harvested_pods": 24517434.240243,
           "season": 5557,
           "timestamp": "2022-03-26T00:00:19",
           "unharvestable_pods": 655669185.786973,
           "unharvestable_ratio": 0.96359070681139,
           "value": 24517434.240243,
           "variable": "harvested_pods"
          },
          {
           "harvestable_pods": 257038.41843499988,
           "harvested_pods": 24517434.240243,
           "season": 5557,
           "timestamp": "2022-03-26T00:00:19",
           "unharvestable_pods": 655669185.786973,
           "unharvestable_ratio": 0.96359070681139,
           "value": 257038.41843499988,
           "variable": "harvestable_pods"
          },
          {
           "harvestable_pods": 257038.41843499988,
           "harvested_pods": 24517434.240243,
           "season": 5557,
           "timestamp": "2022-03-26T00:00:19",
           "unharvestable_pods": 655669185.786973,
           "unharvestable_ratio": 0.96359070681139,
           "value": 0.96359070681139,
           "variable": "unharvestable_ratio"
          },
          {
           "harvestable_pods": 160378.89624200016,
           "harvested_pods": 24743601.480617,
           "season": 5581,
           "timestamp": "2022-03-27T00:00:05",
           "unharvestable_pods": 655538894.2027601,
           "unharvestable_ratio": 0.9634003362997302,
           "value": 655538894.2027601,
           "variable": "unharvestable_pods"
          },
          {
           "harvestable_pods": 160378.89624200016,
           "harvested_pods": 24743601.480617,
           "season": 5581,
           "timestamp": "2022-03-27T00:00:05",
           "unharvestable_pods": 655538894.2027601,
           "unharvestable_ratio": 0.9634003362997302,
           "value": 24743601.480617,
           "variable": "harvested_pods"
          },
          {
           "harvestable_pods": 160378.89624200016,
           "harvested_pods": 24743601.480617,
           "season": 5581,
           "timestamp": "2022-03-27T00:00:05",
           "unharvestable_pods": 655538894.2027601,
           "unharvestable_ratio": 0.9634003362997302,
           "value": 160378.89624200016,
           "variable": "harvestable_pods"
          },
          {
           "harvestable_pods": 160378.89624200016,
           "harvested_pods": 24743601.480617,
           "season": 5581,
           "timestamp": "2022-03-27T00:00:05",
           "unharvestable_pods": 655538894.2027601,
           "unharvestable_ratio": 0.9634003362997302,
           "value": 0.9634003362997302,
           "variable": "unharvestable_ratio"
          },
          {
           "harvestable_pods": 253435.71094099805,
           "harvested_pods": 24830543.365786,
           "season": 5605,
           "timestamp": "2022-03-28T00:01:21",
           "unharvestable_pods": 655348419.0035139,
           "unharvestable_ratio": 0.9631352370235479,
           "value": 0.9631352370235479,
           "variable": "unharvestable_ratio"
          },
          {
           "harvestable_pods": 253435.71094099805,
           "harvested_pods": 24830543.365786,
           "season": 5605,
           "timestamp": "2022-03-28T00:01:21",
           "unharvestable_pods": 655348419.0035139,
           "unharvestable_ratio": 0.9631352370235479,
           "value": 253435.71094099805,
           "variable": "harvestable_pods"
          },
          {
           "harvestable_pods": 253435.71094099805,
           "harvested_pods": 24830543.365786,
           "season": 5605,
           "timestamp": "2022-03-28T00:01:21",
           "unharvestable_pods": 655348419.0035139,
           "unharvestable_ratio": 0.9631352370235479,
           "value": 24830543.365786,
           "variable": "harvested_pods"
          },
          {
           "harvestable_pods": 253435.71094099805,
           "harvested_pods": 24830543.365786,
           "season": 5605,
           "timestamp": "2022-03-28T00:01:21",
           "unharvestable_pods": 655348419.0035139,
           "unharvestable_ratio": 0.9631352370235479,
           "value": 655348419.0035139,
           "variable": "unharvestable_pods"
          },
          {
           "harvestable_pods": 222344.99606399983,
           "harvested_pods": 25035988.350535,
           "season": 5629,
           "timestamp": "2022-03-29T00:00:19",
           "unharvestable_pods": 655170881.922768,
           "unharvestable_ratio": 0.9628788229844014,
           "value": 655170881.922768,
           "variable": "unharvestable_pods"
          },
          {
           "harvestable_pods": 222344.99606399983,
           "harvested_pods": 25035988.350535,
           "season": 5629,
           "timestamp": "2022-03-29T00:00:19",
           "unharvestable_pods": 655170881.922768,
           "unharvestable_ratio": 0.9628788229844014,
           "value": 25035988.350535,
           "variable": "harvested_pods"
          },
          {
           "harvestable_pods": 222344.99606399983,
           "harvested_pods": 25035988.350535,
           "season": 5629,
           "timestamp": "2022-03-29T00:00:19",
           "unharvestable_pods": 655170881.922768,
           "unharvestable_ratio": 0.9628788229844014,
           "value": 222344.99606399983,
           "variable": "harvestable_pods"
          },
          {
           "harvestable_pods": 222344.99606399983,
           "harvested_pods": 25035988.350535,
           "season": 5629,
           "timestamp": "2022-03-29T00:00:19",
           "unharvestable_pods": 655170881.922768,
           "unharvestable_ratio": 0.9628788229844014,
           "value": 0.9628788229844014,
           "variable": "unharvestable_ratio"
          },
          {
           "harvestable_pods": 382581.4013170004,
           "harvested_pods": 25087871.933574,
           "season": 5653,
           "timestamp": "2022-03-30T00:00:24",
           "unharvestable_pods": 656789450.138268,
           "unharvestable_ratio": 0.9626675212697839,
           "value": 0.9626675212697839,
           "variable": "unharvestable_ratio"
          },
          {
           "harvestable_pods": 382581.4013170004,
           "harvested_pods": 25087871.933574,
           "season": 5653,
           "timestamp": "2022-03-30T00:00:24",
           "unharvestable_pods": 656789450.138268,
           "unharvestable_ratio": 0.9626675212697839,
           "value": 656789450.138268,
           "variable": "unharvestable_pods"
          },
          {
           "harvestable_pods": 382581.4013170004,
           "harvested_pods": 25087871.933574,
           "season": 5653,
           "timestamp": "2022-03-30T00:00:24",
           "unharvestable_pods": 656789450.138268,
           "unharvestable_ratio": 0.9626675212697839,
           "value": 25087871.933574,
           "variable": "harvested_pods"
          },
          {
           "harvestable_pods": 382581.4013170004,
           "harvested_pods": 25087871.933574,
           "season": 5653,
           "timestamp": "2022-03-30T00:00:24",
           "unharvestable_pods": 656789450.138268,
           "unharvestable_ratio": 0.9626675212697839,
           "value": 382581.4013170004,
           "variable": "harvestable_pods"
          },
          {
           "harvestable_pods": 387374.53076300025,
           "harvested_pods": 25260343.623763,
           "season": 5677,
           "timestamp": "2022-03-31T00:00:03",
           "unharvestable_pods": 656604105.775028,
           "unharvestable_ratio": 0.962407256008781,
           "value": 387374.53076300025,
           "variable": "harvestable_pods"
          },
          {
           "harvestable_pods": 387374.53076300025,
           "harvested_pods": 25260343.623763,
           "season": 5677,
           "timestamp": "2022-03-31T00:00:03",
           "unharvestable_pods": 656604105.775028,
           "unharvestable_ratio": 0.962407256008781,
           "value": 0.962407256008781,
           "variable": "unharvestable_ratio"
          },
          {
           "harvestable_pods": 387374.53076300025,
           "harvested_pods": 25260343.623763,
           "season": 5677,
           "timestamp": "2022-03-31T00:00:03",
           "unharvestable_pods": 656604105.775028,
           "unharvestable_ratio": 0.962407256008781,
           "value": 656604105.775028,
           "variable": "unharvestable_pods"
          },
          {
           "harvestable_pods": 387374.53076300025,
           "harvested_pods": 25260343.623763,
           "season": 5677,
           "timestamp": "2022-03-31T00:00:03",
           "unharvestable_pods": 656604105.775028,
           "unharvestable_ratio": 0.962407256008781,
           "value": 25260343.623763,
           "variable": "harvested_pods"
          },
          {
           "harvestable_pods": 357290.99630500004,
           "harvested_pods": 25473447.969591,
           "season": 5701,
           "timestamp": "2022-04-01T00:00:21",
           "unharvestable_pods": 656418532.534335,
           "unharvestable_ratio": 0.9621388544555048,
           "value": 656418532.534335,
           "variable": "unharvestable_pods"
          },
          {
           "harvestable_pods": 357290.99630500004,
           "harvested_pods": 25473447.969591,
           "season": 5701,
           "timestamp": "2022-04-01T00:00:21",
           "unharvestable_pods": 656418532.534335,
           "unharvestable_ratio": 0.9621388544555048,
           "value": 25473447.969591,
           "variable": "harvested_pods"
          },
          {
           "harvestable_pods": 357290.99630500004,
           "harvested_pods": 25473447.969591,
           "season": 5701,
           "timestamp": "2022-04-01T00:00:21",
           "unharvestable_pods": 656418532.534335,
           "unharvestable_ratio": 0.9621388544555048,
           "value": 357290.99630500004,
           "variable": "harvestable_pods"
          },
          {
           "harvestable_pods": 357290.99630500004,
           "harvested_pods": 25473447.969591,
           "season": 5701,
           "timestamp": "2022-04-01T00:00:21",
           "unharvestable_pods": 656418532.534335,
           "unharvestable_ratio": 0.9621388544555048,
           "value": 0.9621388544555048,
           "variable": "unharvestable_ratio"
          },
          {
           "harvestable_pods": 551342.0708459988,
           "harvested_pods": 25569345.837924,
           "season": 5725,
           "timestamp": "2022-04-02T00:00:09",
           "unharvestable_pods": 656126060.1160561,
           "unharvestable_ratio": 0.9617137231003416,
           "value": 656126060.1160561,
           "variable": "unharvestable_pods"
          },
          {
           "harvestable_pods": 551342.0708459988,
           "harvested_pods": 25569345.837924,
           "season": 5725,
           "timestamp": "2022-04-02T00:00:09",
           "unharvestable_pods": 656126060.1160561,
           "unharvestable_ratio": 0.9617137231003416,
           "value": 25569345.837924,
           "variable": "harvested_pods"
          },
          {
           "harvestable_pods": 551342.0708459988,
           "harvested_pods": 25569345.837924,
           "season": 5725,
           "timestamp": "2022-04-02T00:00:09",
           "unharvestable_pods": 656126060.1160561,
           "unharvestable_ratio": 0.9617137231003416,
           "value": 551342.0708459988,
           "variable": "harvestable_pods"
          },
          {
           "harvestable_pods": 551342.0708459988,
           "harvested_pods": 25569345.837924,
           "season": 5725,
           "timestamp": "2022-04-02T00:00:09",
           "unharvestable_pods": 656126060.1160561,
           "unharvestable_ratio": 0.9617137231003416,
           "value": 0.9617137231003416,
           "variable": "unharvestable_ratio"
          },
          {
           "harvestable_pods": 525253.2166419998,
           "harvested_pods": 25905267.403178,
           "season": 5749,
           "timestamp": "2022-04-03T00:00:06",
           "unharvestable_pods": 655812498.244249,
           "unharvestable_ratio": 0.9612593754878919,
           "value": 0.9612593754878919,
           "variable": "unharvestable_ratio"
          },
          {
           "harvestable_pods": 525253.2166419998,
           "harvested_pods": 25905267.403178,
           "season": 5749,
           "timestamp": "2022-04-03T00:00:06",
           "unharvestable_pods": 655812498.244249,
           "unharvestable_ratio": 0.9612593754878919,
           "value": 525253.2166419998,
           "variable": "harvestable_pods"
          },
          {
           "harvestable_pods": 525253.2166419998,
           "harvested_pods": 25905267.403178,
           "season": 5749,
           "timestamp": "2022-04-03T00:00:06",
           "unharvestable_pods": 655812498.244249,
           "unharvestable_ratio": 0.9612593754878919,
           "value": 655812498.244249,
           "variable": "unharvestable_pods"
          },
          {
           "harvestable_pods": 525253.2166419998,
           "harvested_pods": 25905267.403178,
           "season": 5749,
           "timestamp": "2022-04-03T00:00:06",
           "unharvestable_pods": 655812498.244249,
           "unharvestable_ratio": 0.9612593754878919,
           "value": 25905267.403178,
           "variable": "harvested_pods"
          },
          {
           "harvestable_pods": 779909.068744,
           "harvested_pods": 26015980.205595,
           "season": 5773,
           "timestamp": "2022-04-04T00:00:00",
           "unharvestable_pods": 655445336.151811,
           "unharvestable_ratio": 0.9607237319064069,
           "value": 0.9607237319064069,
           "variable": "unharvestable_ratio"
          },
          {
           "harvestable_pods": 779909.068744,
           "harvested_pods": 26015980.205595,
           "season": 5773,
           "timestamp": "2022-04-04T00:00:00",
           "unharvestable_pods": 655445336.151811,
           "unharvestable_ratio": 0.9607237319064069,
           "value": 655445336.151811,
           "variable": "unharvestable_pods"
          },
          {
           "harvestable_pods": 779909.068744,
           "harvested_pods": 26015980.205595,
           "season": 5773,
           "timestamp": "2022-04-04T00:00:00",
           "unharvestable_pods": 655445336.151811,
           "unharvestable_ratio": 0.9607237319064069,
           "value": 26015980.205595,
           "variable": "harvested_pods"
          },
          {
           "harvestable_pods": 779909.068744,
           "harvested_pods": 26015980.205595,
           "season": 5773,
           "timestamp": "2022-04-04T00:00:00",
           "unharvestable_pods": 655445336.151811,
           "unharvestable_ratio": 0.9607237319064069,
           "value": 779909.068744,
           "variable": "harvestable_pods"
          },
          {
           "harvestable_pods": 348555.41450500116,
           "harvested_pods": 26651672.397288,
           "season": 5797,
           "timestamp": "2022-04-05T00:00:21",
           "unharvestable_pods": 655238795.501984,
           "unharvestable_ratio": 0.9604240934787822,
           "value": 348555.41450500116,
           "variable": "harvestable_pods"
          },
          {
           "harvestable_pods": 348555.41450500116,
           "harvested_pods": 26651672.397288,
           "season": 5797,
           "timestamp": "2022-04-05T00:00:21",
           "unharvestable_pods": 655238795.501984,
           "unharvestable_ratio": 0.9604240934787822,
           "value": 0.9604240934787822,
           "variable": "unharvestable_ratio"
          },
          {
           "harvestable_pods": 348555.41450500116,
           "harvested_pods": 26651672.397288,
           "season": 5797,
           "timestamp": "2022-04-05T00:00:21",
           "unharvestable_pods": 655238795.501984,
           "unharvestable_ratio": 0.9604240934787822,
           "value": 655238795.501984,
           "variable": "unharvestable_pods"
          },
          {
           "harvestable_pods": 348555.41450500116,
           "harvested_pods": 26651672.397288,
           "season": 5797,
           "timestamp": "2022-04-05T00:00:21",
           "unharvestable_pods": 655238795.501984,
           "unharvestable_ratio": 0.9604240934787822,
           "value": 26651672.397288,
           "variable": "harvested_pods"
          },
          {
           "harvestable_pods": 279246.4609909989,
           "harvested_pods": 26906015.33346,
           "season": 5821,
           "timestamp": "2022-04-06T00:00:27",
           "unharvestable_pods": 655053281.944697,
           "unharvestable_ratio": 0.9601528496976195,
           "value": 0.9601528496976195,
           "variable": "unharvestable_ratio"
          },
          {
           "harvestable_pods": 279246.4609909989,
           "harvested_pods": 26906015.33346,
           "season": 5821,
           "timestamp": "2022-04-06T00:00:27",
           "unharvestable_pods": 655053281.944697,
           "unharvestable_ratio": 0.9601528496976195,
           "value": 279246.4609909989,
           "variable": "harvestable_pods"
          },
          {
           "harvestable_pods": 279246.4609909989,
           "harvested_pods": 26906015.33346,
           "season": 5821,
           "timestamp": "2022-04-06T00:00:27",
           "unharvestable_pods": 655053281.944697,
           "unharvestable_ratio": 0.9601528496976195,
           "value": 655053281.944697,
           "variable": "unharvestable_pods"
          },
          {
           "harvestable_pods": 279246.4609909989,
           "harvested_pods": 26906015.33346,
           "season": 5821,
           "timestamp": "2022-04-06T00:00:27",
           "unharvestable_pods": 655053281.944697,
           "unharvestable_ratio": 0.9601528496976195,
           "value": 26906015.33346,
           "variable": "harvested_pods"
          },
          {
           "harvestable_pods": 359804.7133760005,
           "harvested_pods": 27095623.667981,
           "season": 5845,
           "timestamp": "2022-04-07T00:01:08",
           "unharvestable_pods": 654777482.7901491,
           "unharvestable_ratio": 0.9597565172659122,
           "value": 654777482.7901491,
           "variable": "unharvestable_pods"
          },
          {
           "harvestable_pods": 359804.7133760005,
           "harvested_pods": 27095623.667981,
           "season": 5845,
           "timestamp": "2022-04-07T00:01:08",
           "unharvestable_pods": 654777482.7901491,
           "unharvestable_ratio": 0.9597565172659122,
           "value": 27095623.667981,
           "variable": "harvested_pods"
          },
          {
           "harvestable_pods": 359804.7133760005,
           "harvested_pods": 27095623.667981,
           "season": 5845,
           "timestamp": "2022-04-07T00:01:08",
           "unharvestable_pods": 654777482.7901491,
           "unharvestable_ratio": 0.9597565172659122,
           "value": 359804.7133760005,
           "variable": "harvestable_pods"
          },
          {
           "harvestable_pods": 359804.7133760005,
           "harvested_pods": 27095623.667981,
           "season": 5845,
           "timestamp": "2022-04-07T00:01:08",
           "unharvestable_pods": 654777482.7901491,
           "unharvestable_ratio": 0.9597565172659122,
           "value": 0.9597565172659122,
           "variable": "unharvestable_ratio"
          },
          {
           "harvestable_pods": 386225.94682599977,
           "harvested_pods": 27262501.864033,
           "season": 5869,
           "timestamp": "2022-04-08T00:00:13",
           "unharvestable_pods": 654581955.580975,
           "unharvestable_ratio": 0.9594730514414885,
           "value": 27262501.864033,
           "variable": "harvested_pods"
          },
          {
           "harvestable_pods": 386225.94682599977,
           "harvested_pods": 27262501.864033,
           "season": 5869,
           "timestamp": "2022-04-08T00:00:13",
           "unharvestable_pods": 654581955.580975,
           "unharvestable_ratio": 0.9594730514414885,
           "value": 654581955.580975,
           "variable": "unharvestable_pods"
          },
          {
           "harvestable_pods": 386225.94682599977,
           "harvested_pods": 27262501.864033,
           "season": 5869,
           "timestamp": "2022-04-08T00:00:13",
           "unharvestable_pods": 654581955.580975,
           "unharvestable_ratio": 0.9594730514414885,
           "value": 386225.94682599977,
           "variable": "harvestable_pods"
          },
          {
           "harvestable_pods": 386225.94682599977,
           "harvested_pods": 27262501.864033,
           "season": 5869,
           "timestamp": "2022-04-08T00:00:13",
           "unharvestable_pods": 654581955.580975,
           "unharvestable_ratio": 0.9594730514414885,
           "value": 0.9594730514414885,
           "variable": "unharvestable_ratio"
          },
          {
           "harvestable_pods": 386377.81337400153,
           "harvested_pods": 27710846.347326,
           "season": 5893,
           "timestamp": "2022-04-09T00:00:00",
           "unharvestable_pods": 654130084.827446,
           "unharvestable_ratio": 0.9588154508174516,
           "value": 0.9588154508174516,
           "variable": "unharvestable_ratio"
          },
          {
           "harvestable_pods": 386377.81337400153,
           "harvested_pods": 27710846.347326,
           "season": 5893,
           "timestamp": "2022-04-09T00:00:00",
           "unharvestable_pods": 654130084.827446,
           "unharvestable_ratio": 0.9588154508174516,
           "value": 386377.81337400153,
           "variable": "harvestable_pods"
          },
          {
           "harvestable_pods": 386377.81337400153,
           "harvested_pods": 27710846.347326,
           "season": 5893,
           "timestamp": "2022-04-09T00:00:00",
           "unharvestable_pods": 654130084.827446,
           "unharvestable_ratio": 0.9588154508174516,
           "value": 654130084.827446,
           "variable": "unharvestable_pods"
          },
          {
           "harvestable_pods": 386377.81337400153,
           "harvested_pods": 27710846.347326,
           "season": 5893,
           "timestamp": "2022-04-09T00:00:00",
           "unharvestable_pods": 654130084.827446,
           "unharvestable_ratio": 0.9588154508174516,
           "value": 27710846.347326,
           "variable": "harvested_pods"
          },
          {
           "harvestable_pods": 609530.5459400006,
           "harvested_pods": 27999158.687811,
           "season": 5917,
           "timestamp": "2022-04-10T00:02:19",
           "unharvestable_pods": 653617127.601748,
           "unharvestable_ratio": 0.9580656601849923,
           "value": 653617127.601748,
           "variable": "unharvestable_pods"
          },
          {
           "harvestable_pods": 609530.5459400006,
           "harvested_pods": 27999158.687811,
           "season": 5917,
           "timestamp": "2022-04-10T00:02:19",
           "unharvestable_pods": 653617127.601748,
           "unharvestable_ratio": 0.9580656601849923,
           "value": 27999158.687811,
           "variable": "harvested_pods"
          },
          {
           "harvestable_pods": 609530.5459400006,
           "harvested_pods": 27999158.687811,
           "season": 5917,
           "timestamp": "2022-04-10T00:02:19",
           "unharvestable_pods": 653617127.601748,
           "unharvestable_ratio": 0.9580656601849923,
           "value": 609530.5459400006,
           "variable": "harvestable_pods"
          },
          {
           "harvestable_pods": 609530.5459400006,
           "harvested_pods": 27999158.687811,
           "season": 5917,
           "timestamp": "2022-04-10T00:02:19",
           "unharvestable_pods": 653617127.601748,
           "unharvestable_ratio": 0.9580656601849923,
           "value": 0.9580656601849923,
           "variable": "unharvestable_ratio"
          },
          {
           "harvestable_pods": 591609.8118400015,
           "harvested_pods": 28679145.061848,
           "season": 5941,
           "timestamp": "2022-04-11T00:00:03",
           "unharvestable_pods": 652954000.620748,
           "unharvestable_ratio": 0.957095144029955,
           "value": 591609.8118400015,
           "variable": "harvestable_pods"
          },
          {
           "harvestable_pods": 591609.8118400015,
           "harvested_pods": 28679145.061848,
           "season": 5941,
           "timestamp": "2022-04-11T00:00:03",
           "unharvestable_pods": 652954000.620748,
           "unharvestable_ratio": 0.957095144029955,
           "value": 0.957095144029955,
           "variable": "unharvestable_ratio"
          },
          {
           "harvestable_pods": 591609.8118400015,
           "harvested_pods": 28679145.061848,
           "season": 5941,
           "timestamp": "2022-04-11T00:00:03",
           "unharvestable_pods": 652954000.620748,
           "unharvestable_ratio": 0.957095144029955,
           "value": 28679145.061848,
           "variable": "harvested_pods"
          },
          {
           "harvestable_pods": 591609.8118400015,
           "harvested_pods": 28679145.061848,
           "season": 5941,
           "timestamp": "2022-04-11T00:00:03",
           "unharvestable_pods": 652954000.620748,
           "unharvestable_ratio": 0.957095144029955,
           "value": 652954000.620748,
           "variable": "unharvestable_pods"
          },
          {
           "harvestable_pods": 2291304.111453999,
           "harvested_pods": 29499411.827778,
           "season": 5965,
           "timestamp": "2022-04-12T00:00:14",
           "unharvestable_pods": 650434039.451118,
           "unharvestable_ratio": 0.9534014037338147,
           "value": 650434039.451118,
           "variable": "unharvestable_pods"
          },
          {
           "harvestable_pods": 2291304.111453999,
           "harvested_pods": 29499411.827778,
           "season": 5965,
           "timestamp": "2022-04-12T00:00:14",
           "unharvestable_pods": 650434039.451118,
           "unharvestable_ratio": 0.9534014037338147,
           "value": 29499411.827778,
           "variable": "harvested_pods"
          },
          {
           "harvestable_pods": 2291304.111453999,
           "harvested_pods": 29499411.827778,
           "season": 5965,
           "timestamp": "2022-04-12T00:00:14",
           "unharvestable_pods": 650434039.451118,
           "unharvestable_ratio": 0.9534014037338147,
           "value": 2291304.111453999,
           "variable": "harvestable_pods"
          },
          {
           "harvestable_pods": 2291304.111453999,
           "harvested_pods": 29499411.827778,
           "season": 5965,
           "timestamp": "2022-04-12T00:00:14",
           "unharvestable_pods": 650434039.451118,
           "unharvestable_ratio": 0.9534014037338147,
           "value": 0.9534014037338147,
           "variable": "unharvestable_ratio"
          },
          {
           "harvestable_pods": 1036987.4403069988,
           "harvested_pods": 34900861.69022,
           "season": 5989,
           "timestamp": "2022-04-13T00:00:14",
           "unharvestable_pods": 646286906.258978,
           "unharvestable_ratio": 0.947322566578504,
           "value": 0.947322566578504,
           "variable": "unharvestable_ratio"
          },
          {
           "harvestable_pods": 1036987.4403069988,
           "harvested_pods": 34900861.69022,
           "season": 5989,
           "timestamp": "2022-04-13T00:00:14",
           "unharvestable_pods": 646286906.258978,
           "unharvestable_ratio": 0.947322566578504,
           "value": 646286906.258978,
           "variable": "unharvestable_pods"
          },
          {
           "harvestable_pods": 1036987.4403069988,
           "harvested_pods": 34900861.69022,
           "season": 5989,
           "timestamp": "2022-04-13T00:00:14",
           "unharvestable_pods": 646286906.258978,
           "unharvestable_ratio": 0.947322566578504,
           "value": 34900861.69022,
           "variable": "harvested_pods"
          },
          {
           "harvestable_pods": 1036987.4403069988,
           "harvested_pods": 34900861.69022,
           "season": 5989,
           "timestamp": "2022-04-13T00:00:14",
           "unharvestable_pods": 646286906.258978,
           "unharvestable_ratio": 0.947322566578504,
           "value": 1036987.4403069988,
           "variable": "harvestable_pods"
          },
          {
           "harvestable_pods": 912650.9798260033,
           "harvested_pods": 39950209.551699,
           "season": 6013,
           "timestamp": "2022-04-14T00:00:06",
           "unharvestable_pods": 641361894.857203,
           "unharvestable_ratio": 0.9401035212974036,
           "value": 0.9401035212974036,
           "variable": "unharvestable_ratio"
          },
          {
           "harvestable_pods": 912650.9798260033,
           "harvested_pods": 39950209.551699,
           "season": 6013,
           "timestamp": "2022-04-14T00:00:06",
           "unharvestable_pods": 641361894.857203,
           "unharvestable_ratio": 0.9401035212974036,
           "value": 912650.9798260033,
           "variable": "harvestable_pods"
          },
          {
           "harvestable_pods": 912650.9798260033,
           "harvested_pods": 39950209.551699,
           "season": 6013,
           "timestamp": "2022-04-14T00:00:06",
           "unharvestable_pods": 641361894.857203,
           "unharvestable_ratio": 0.9401035212974036,
           "value": 641361894.857203,
           "variable": "unharvestable_pods"
          },
          {
           "harvestable_pods": 912650.9798260033,
           "harvested_pods": 39950209.551699,
           "season": 6013,
           "timestamp": "2022-04-14T00:00:06",
           "unharvestable_pods": 641361894.857203,
           "unharvestable_ratio": 0.9401035212974036,
           "value": 39950209.551699,
           "variable": "harvested_pods"
          },
          {
           "harvestable_pods": 1255123.866714999,
           "harvested_pods": 46176510.786144,
           "season": 6037,
           "timestamp": "2022-04-15T00:00:36",
           "unharvestable_pods": 634793120.73511,
           "unharvestable_ratio": 0.9304750607798079,
           "value": 1255123.866714999,
           "variable": "harvestable_pods"
          },
          {
           "harvestable_pods": 1255123.866714999,
           "harvested_pods": 46176510.786144,
           "season": 6037,
           "timestamp": "2022-04-15T00:00:36",
           "unharvestable_pods": 634793120.73511,
           "unharvestable_ratio": 0.9304750607798079,
           "value": 634793120.73511,
           "variable": "unharvestable_pods"
          },
          {
           "harvestable_pods": 1255123.866714999,
           "harvested_pods": 46176510.786144,
           "season": 6037,
           "timestamp": "2022-04-15T00:00:36",
           "unharvestable_pods": 634793120.73511,
           "unharvestable_ratio": 0.9304750607798079,
           "value": 46176510.786144,
           "variable": "harvested_pods"
          },
          {
           "harvestable_pods": 1255123.866714999,
           "harvested_pods": 46176510.786144,
           "season": 6037,
           "timestamp": "2022-04-15T00:00:36",
           "unharvestable_pods": 634793120.73511,
           "unharvestable_ratio": 0.9304750607798079,
           "value": 0.9304750607798079,
           "variable": "unharvestable_ratio"
          },
          {
           "harvestable_pods": 3239997.1570799947,
           "harvested_pods": 49424227.112225,
           "season": 6061,
           "timestamp": "2022-04-16T00:00:56",
           "unharvestable_pods": 629560531.1179891,
           "unharvestable_ratio": 0.9228051696256494,
           "value": 0.9228051696256494,
           "variable": "unharvestable_ratio"
          },
          {
           "harvestable_pods": 3239997.1570799947,
           "harvested_pods": 49424227.112225,
           "season": 6061,
           "timestamp": "2022-04-16T00:00:56",
           "unharvestable_pods": 629560531.1179891,
           "unharvestable_ratio": 0.9228051696256494,
           "value": 3239997.1570799947,
           "variable": "harvestable_pods"
          },
          {
           "harvestable_pods": 3239997.1570799947,
           "harvested_pods": 49424227.112225,
           "season": 6061,
           "timestamp": "2022-04-16T00:00:56",
           "unharvestable_pods": 629560531.1179891,
           "unharvestable_ratio": 0.9228051696256494,
           "value": 49424227.112225,
           "variable": "harvested_pods"
          },
          {
           "harvestable_pods": 3239997.1570799947,
           "harvested_pods": 49424227.112225,
           "season": 6061,
           "timestamp": "2022-04-16T00:00:56",
           "unharvestable_pods": 629560531.1179891,
           "unharvestable_ratio": 0.9228051696256494,
           "value": 629560531.1179891,
           "variable": "unharvestable_pods"
          },
          {
           "harvestable_pods": 0,
           "harvested_pods": 55438959.694302,
           "season": 6074,
           "timestamp": "2022-08-05T03:47:15",
           "unharvestable_pods": 626785795.6926501,
           "unharvestable_ratio": 0.9187379829644888,
           "value": 626785795.6926501,
           "variable": "unharvestable_pods"
          },
          {
           "harvestable_pods": 0,
           "harvested_pods": 55438959.694302,
           "season": 6074,
           "timestamp": "2022-08-05T03:47:15",
           "unharvestable_pods": 626785795.6926501,
           "unharvestable_ratio": 0.9187379829644888,
           "value": 55438959.694302,
           "variable": "harvested_pods"
          },
          {
           "harvestable_pods": 0,
           "harvested_pods": 55438959.694302,
           "season": 6074,
           "timestamp": "2022-08-05T03:47:15",
           "unharvestable_pods": 626785795.6926501,
           "unharvestable_ratio": 0.9187379829644888,
           "value": 0,
           "variable": "harvestable_pods"
          },
          {
           "harvestable_pods": 0,
           "harvested_pods": 55438959.694302,
           "season": 6074,
           "timestamp": "2022-08-05T03:47:15",
           "unharvestable_pods": 626785795.6926501,
           "unharvestable_ratio": 0.9187379829644888,
           "value": 0.9187379829644888,
           "variable": "unharvestable_ratio"
          },
          {
           "harvestable_pods": 53558.90904299915,
           "harvested_pods": 55438959.694302,
           "season": 6081,
           "timestamp": "2022-08-06T23:00:33",
           "unharvestable_pods": 626705452.0801649,
           "unharvestable_ratio": 0.9186562830907489,
           "value": 53558.90904299915,
           "variable": "harvestable_pods"
          },
          {
           "harvestable_pods": 53558.90904299915,
           "harvested_pods": 55438959.694302,
           "season": 6081,
           "timestamp": "2022-08-06T23:00:33",
           "unharvestable_pods": 626705452.0801649,
           "unharvestable_ratio": 0.9186562830907489,
           "value": 0.9186562830907489,
           "variable": "unharvestable_ratio"
          },
          {
           "harvestable_pods": 53558.90904299915,
           "harvested_pods": 55438959.694302,
           "season": 6081,
           "timestamp": "2022-08-06T23:00:33",
           "unharvestable_pods": 626705452.0801649,
           "unharvestable_ratio": 0.9186562830907489,
           "value": 626705452.0801649,
           "variable": "unharvestable_pods"
          },
          {
           "harvestable_pods": 53558.90904299915,
           "harvested_pods": 55438959.694302,
           "season": 6081,
           "timestamp": "2022-08-06T23:00:33",
           "unharvestable_pods": 626705452.0801649,
           "unharvestable_ratio": 0.9186562830907489,
           "value": 55438959.694302,
           "variable": "harvested_pods"
          },
          {
           "harvestable_pods": 0,
           "harvested_pods": 57351922.095057,
           "season": 6105,
           "timestamp": "2022-08-07T23:00:32",
           "unharvestable_pods": 623916346.841867,
           "unharvestable_ratio": 0.9158159498833682,
           "value": 623916346.841867,
           "variable": "unharvestable_pods"
          },
          {
           "harvestable_pods": 0,
           "harvested_pods": 57351922.095057,
           "season": 6105,
           "timestamp": "2022-08-07T23:00:32",
           "unharvestable_pods": 623916346.841867,
           "unharvestable_ratio": 0.9158159498833682,
           "value": 57351922.095057,
           "variable": "harvested_pods"
          },
          {
           "harvestable_pods": 0,
           "harvested_pods": 57351922.095057,
           "season": 6105,
           "timestamp": "2022-08-07T23:00:32",
           "unharvestable_pods": 623916346.841867,
           "unharvestable_ratio": 0.9158159498833682,
           "value": 0,
           "variable": "harvestable_pods"
          },
          {
           "harvestable_pods": 0,
           "harvested_pods": 57351922.095057,
           "season": 6105,
           "timestamp": "2022-08-07T23:00:32",
           "unharvestable_pods": 623916346.841867,
           "unharvestable_ratio": 0.9158159498833682,
           "value": 0.9158159498833682,
           "variable": "unharvestable_ratio"
          },
          {
           "harvestable_pods": 5365.367425002158,
           "harvested_pods": 57430160.570953,
           "season": 6129,
           "timestamp": "2022-08-08T23:00:11",
           "unharvestable_pods": 628764835.158426,
           "unharvestable_ratio": 0.916299190156976,
           "value": 0.916299190156976,
           "variable": "unharvestable_ratio"
          },
          {
           "harvestable_pods": 5365.367425002158,
           "harvested_pods": 57430160.570953,
           "season": 6129,
           "timestamp": "2022-08-08T23:00:11",
           "unharvestable_pods": 628764835.158426,
           "unharvestable_ratio": 0.916299190156976,
           "value": 628764835.158426,
           "variable": "unharvestable_pods"
          },
          {
           "harvestable_pods": 5365.367425002158,
           "harvested_pods": 57430160.570953,
           "season": 6129,
           "timestamp": "2022-08-08T23:00:11",
           "unharvestable_pods": 628764835.158426,
           "unharvestable_ratio": 0.916299190156976,
           "value": 57430160.570953,
           "variable": "harvested_pods"
          },
          {
           "harvestable_pods": 5365.367425002158,
           "harvested_pods": 57430160.570953,
           "season": 6129,
           "timestamp": "2022-08-08T23:00:11",
           "unharvestable_pods": 628764835.158426,
           "unharvestable_ratio": 0.916299190156976,
           "value": 5365.367425002158,
           "variable": "harvestable_pods"
          },
          {
           "harvestable_pods": 0,
           "harvested_pods": 57437836.043772,
           "season": 6153,
           "timestamp": "2022-08-09T23:00:00",
           "unharvestable_pods": 687384754.451816,
           "unharvestable_ratio": 0.9228838695593884,
           "value": 0,
           "variable": "harvestable_pods"
          },
          {
           "harvestable_pods": 0,
           "harvested_pods": 57437836.043772,
           "season": 6153,
           "timestamp": "2022-08-09T23:00:00",
           "unharvestable_pods": 687384754.451816,
           "unharvestable_ratio": 0.9228838695593884,
           "value": 0.9228838695593884,
           "variable": "unharvestable_ratio"
          },
          {
           "harvestable_pods": 0,
           "harvested_pods": 57437836.043772,
           "season": 6153,
           "timestamp": "2022-08-09T23:00:00",
           "unharvestable_pods": 687384754.451816,
           "unharvestable_ratio": 0.9228838695593884,
           "value": 687384754.451816,
           "variable": "unharvestable_pods"
          },
          {
           "harvestable_pods": 0,
           "harvested_pods": 57437836.043772,
           "season": 6153,
           "timestamp": "2022-08-09T23:00:00",
           "unharvestable_pods": 687384754.451816,
           "unharvestable_ratio": 0.9228838695593884,
           "value": 57437836.043772,
           "variable": "harvested_pods"
          },
          {
           "harvestable_pods": 32909.71223000437,
           "harvested_pods": 57437836.043772,
           "season": 6177,
           "timestamp": "2022-08-10T23:00:22",
           "unharvestable_pods": 688030362.2638711,
           "unharvestable_ratio": 0.9229099123559318,
           "value": 32909.71223000437,
           "variable": "harvestable_pods"
          },
          {
           "harvestable_pods": 32909.71223000437,
           "harvested_pods": 57437836.043772,
           "season": 6177,
           "timestamp": "2022-08-10T23:00:22",
           "unharvestable_pods": 688030362.2638711,
           "unharvestable_ratio": 0.9229099123559318,
           "value": 0.9229099123559318,
           "variable": "unharvestable_ratio"
          },
          {
           "harvestable_pods": 32909.71223000437,
           "harvested_pods": 57437836.043772,
           "season": 6177,
           "timestamp": "2022-08-10T23:00:22",
           "unharvestable_pods": 688030362.2638711,
           "unharvestable_ratio": 0.9229099123559318,
           "value": 688030362.2638711,
           "variable": "unharvestable_pods"
          },
          {
           "harvestable_pods": 32909.71223000437,
           "harvested_pods": 57437836.043772,
           "season": 6177,
           "timestamp": "2022-08-10T23:00:22",
           "unharvestable_pods": 688030362.2638711,
           "unharvestable_ratio": 0.9229099123559318,
           "value": 57437836.043772,
           "variable": "harvested_pods"
          },
          {
           "harvestable_pods": 795.1405740007758,
           "harvested_pods": 57474031.461465,
           "season": 6201,
           "timestamp": "2022-08-11T23:00:51",
           "unharvestable_pods": 688738501.381566,
           "unharvestable_ratio": 0.9229780219051491,
           "value": 688738501.381566,
           "variable": "unharvestable_pods"
          },
          {
           "harvestable_pods": 795.1405740007758,
           "harvested_pods": 57474031.461465,
           "season": 6201,
           "timestamp": "2022-08-11T23:00:51",
           "unharvestable_pods": 688738501.381566,
           "unharvestable_ratio": 0.9229780219051491,
           "value": 57474031.461465,
           "variable": "harvested_pods"
          },
          {
           "harvestable_pods": 795.1405740007758,
           "harvested_pods": 57474031.461465,
           "season": 6201,
           "timestamp": "2022-08-11T23:00:51",
           "unharvestable_pods": 688738501.381566,
           "unharvestable_ratio": 0.9229780219051491,
           "value": 795.1405740007758,
           "variable": "harvestable_pods"
          },
          {
           "harvestable_pods": 795.1405740007758,
           "harvested_pods": 57474031.461465,
           "season": 6201,
           "timestamp": "2022-08-11T23:00:51",
           "unharvestable_pods": 688738501.381566,
           "unharvestable_ratio": 0.9229780219051491,
           "value": 0.9229780219051491,
           "variable": "unharvestable_ratio"
          },
          {
           "harvestable_pods": 11154.395695999265,
           "harvested_pods": 57474031.461465,
           "season": 6225,
           "timestamp": "2022-08-12T23:00:02",
           "unharvestable_pods": 689814037.7710439,
           "unharvestable_ratio": 0.923076079782252,
           "value": 689814037.7710439,
           "variable": "unharvestable_pods"
          },
          {
           "harvestable_pods": 11154.395695999265,
           "harvested_pods": 57474031.461465,
           "season": 6225,
           "timestamp": "2022-08-12T23:00:02",
           "unharvestable_pods": 689814037.7710439,
           "unharvestable_ratio": 0.923076079782252,
           "value": 57474031.461465,
           "variable": "harvested_pods"
          },
          {
           "harvestable_pods": 11154.395695999265,
           "harvested_pods": 57474031.461465,
           "season": 6225,
           "timestamp": "2022-08-12T23:00:02",
           "unharvestable_pods": 689814037.7710439,
           "unharvestable_ratio": 0.923076079782252,
           "value": 11154.395695999265,
           "variable": "harvestable_pods"
          },
          {
           "harvestable_pods": 11154.395695999265,
           "harvested_pods": 57474031.461465,
           "season": 6225,
           "timestamp": "2022-08-12T23:00:02",
           "unharvestable_pods": 689814037.7710439,
           "unharvestable_ratio": 0.923076079782252,
           "value": 0.923076079782252,
           "variable": "unharvestable_ratio"
          },
          {
           "harvestable_pods": 3155.4095470011234,
           "harvested_pods": 57504141.760129,
           "season": 6249,
           "timestamp": "2022-08-13T23:00:00",
           "unharvestable_pods": 689964422.6165831,
           "unharvestable_ratio": 0.923064250262043,
           "value": 0.923064250262043,
           "variable": "unharvestable_ratio"
          },
          {
           "harvestable_pods": 3155.4095470011234,
           "harvested_pods": 57504141.760129,
           "season": 6249,
           "timestamp": "2022-08-13T23:00:00",
           "unharvestable_pods": 689964422.6165831,
           "unharvestable_ratio": 0.923064250262043,
           "value": 3155.4095470011234,
           "variable": "harvestable_pods"
          },
          {
           "harvestable_pods": 3155.4095470011234,
           "harvested_pods": 57504141.760129,
           "season": 6249,
           "timestamp": "2022-08-13T23:00:00",
           "unharvestable_pods": 689964422.6165831,
           "unharvestable_ratio": 0.923064250262043,
           "value": 689964422.6165831,
           "variable": "unharvestable_pods"
          },
          {
           "harvestable_pods": 3155.4095470011234,
           "harvested_pods": 57504141.760129,
           "season": 6249,
           "timestamp": "2022-08-13T23:00:00",
           "unharvestable_pods": 689964422.6165831,
           "unharvestable_ratio": 0.923064250262043,
           "value": 57504141.760129,
           "variable": "harvested_pods"
          },
          {
           "harvestable_pods": 3481.240357004106,
           "harvested_pods": 57504141.760129,
           "season": 6273,
           "timestamp": "2022-08-14T23:00:05",
           "unharvestable_pods": 705783494.868748,
           "unharvestable_ratio": 0.9246583359164174,
           "value": 705783494.868748,
           "variable": "unharvestable_pods"
          },
          {
           "harvestable_pods": 3481.240357004106,
           "harvested_pods": 57504141.760129,
           "season": 6273,
           "timestamp": "2022-08-14T23:00:05",
           "unharvestable_pods": 705783494.868748,
           "unharvestable_ratio": 0.9246583359164174,
           "value": 57504141.760129,
           "variable": "harvested_pods"
          },
          {
           "harvestable_pods": 3481.240357004106,
           "harvested_pods": 57504141.760129,
           "season": 6273,
           "timestamp": "2022-08-14T23:00:05",
           "unharvestable_pods": 705783494.868748,
           "unharvestable_ratio": 0.9246583359164174,
           "value": 3481.240357004106,
           "variable": "harvestable_pods"
          },
          {
           "harvestable_pods": 3481.240357004106,
           "harvested_pods": 57504141.760129,
           "season": 6273,
           "timestamp": "2022-08-14T23:00:05",
           "unharvestable_pods": 705783494.868748,
           "unharvestable_ratio": 0.9246583359164174,
           "value": 0.9246583359164174,
           "variable": "unharvestable_ratio"
          },
          {
           "harvestable_pods": 7267.862732999027,
           "harvested_pods": 57504141.760129,
           "season": 6297,
           "timestamp": "2022-08-15T23:00:00",
           "unharvestable_pods": 705951668.240551,
           "unharvestable_ratio": 0.9246703458354393,
           "value": 705951668.240551,
           "variable": "unharvestable_pods"
          },
          {
           "harvestable_pods": 7267.862732999027,
           "harvested_pods": 57504141.760129,
           "season": 6297,
           "timestamp": "2022-08-15T23:00:00",
           "unharvestable_pods": 705951668.240551,
           "unharvestable_ratio": 0.9246703458354393,
           "value": 57504141.760129,
           "variable": "harvested_pods"
          },
          {
           "harvestable_pods": 7267.862732999027,
           "harvested_pods": 57504141.760129,
           "season": 6297,
           "timestamp": "2022-08-15T23:00:00",
           "unharvestable_pods": 705951668.240551,
           "unharvestable_ratio": 0.9246703458354393,
           "value": 7267.862732999027,
           "variable": "harvestable_pods"
          },
          {
           "harvestable_pods": 7267.862732999027,
           "harvested_pods": 57504141.760129,
           "season": 6297,
           "timestamp": "2022-08-15T23:00:00",
           "unharvestable_pods": 705951668.240551,
           "unharvestable_ratio": 0.9246703458354393,
           "value": 0.9246703458354393,
           "variable": "unharvestable_ratio"
          },
          {
           "harvestable_pods": 12911.727531000972,
           "harvested_pods": 57504141.760129,
           "season": 6321,
           "timestamp": "2022-08-16T23:00:20",
           "unharvestable_pods": 705943202.4427409,
           "unharvestable_ratio": 0.9246626749187276,
           "value": 0.9246626749187276,
           "variable": "unharvestable_ratio"
          },
          {
           "harvestable_pods": 12911.727531000972,
           "harvested_pods": 57504141.760129,
           "season": 6321,
           "timestamp": "2022-08-16T23:00:20",
           "unharvestable_pods": 705943202.4427409,
           "unharvestable_ratio": 0.9246626749187276,
           "value": 12911.727531000972,
           "variable": "harvestable_pods"
          },
          {
           "harvestable_pods": 12911.727531000972,
           "harvested_pods": 57504141.760129,
           "season": 6321,
           "timestamp": "2022-08-16T23:00:20",
           "unharvestable_pods": 705943202.4427409,
           "unharvestable_ratio": 0.9246626749187276,
           "value": 705943202.4427409,
           "variable": "unharvestable_pods"
          },
          {
           "harvestable_pods": 12911.727531000972,
           "harvested_pods": 57504141.760129,
           "season": 6321,
           "timestamp": "2022-08-16T23:00:20",
           "unharvestable_pods": 705943202.4427409,
           "unharvestable_ratio": 0.9246626749187276,
           "value": 57504141.760129,
           "variable": "harvested_pods"
          },
          {
           "harvestable_pods": 1414.1133720055223,
           "harvested_pods": 57518215.745694,
           "season": 6345,
           "timestamp": "2022-08-17T23:00:15",
           "unharvestable_pods": 705939337.885033,
           "unharvestable_ratio": 0.9246591731982303,
           "value": 705939337.885033,
           "variable": "unharvestable_pods"
          },
          {
           "harvestable_pods": 1414.1133720055223,
           "harvested_pods": 57518215.745694,
           "season": 6345,
           "timestamp": "2022-08-17T23:00:15",
           "unharvestable_pods": 705939337.885033,
           "unharvestable_ratio": 0.9246591731982303,
           "value": 57518215.745694,
           "variable": "harvested_pods"
          },
          {
           "harvestable_pods": 1414.1133720055223,
           "harvested_pods": 57518215.745694,
           "season": 6345,
           "timestamp": "2022-08-17T23:00:15",
           "unharvestable_pods": 705939337.885033,
           "unharvestable_ratio": 0.9246591731982303,
           "value": 1414.1133720055223,
           "variable": "harvestable_pods"
          },
          {
           "harvestable_pods": 1414.1133720055223,
           "harvested_pods": 57518215.745694,
           "season": 6345,
           "timestamp": "2022-08-17T23:00:15",
           "unharvestable_pods": 705939337.885033,
           "unharvestable_ratio": 0.9246591731982303,
           "value": 0.9246591731982303,
           "variable": "unharvestable_ratio"
          },
          {
           "harvestable_pods": 2840.8263960033655,
           "harvested_pods": 57518215.745694,
           "season": 6369,
           "timestamp": "2022-08-18T23:00:38",
           "unharvestable_pods": 705951508.392923,
           "unharvestable_ratio": 0.9246586462805956,
           "value": 0.9246586462805956,
           "variable": "unharvestable_ratio"
          },
          {
           "harvestable_pods": 2840.8263960033655,
           "harvested_pods": 57518215.745694,
           "season": 6369,
           "timestamp": "2022-08-18T23:00:38",
           "unharvestable_pods": 705951508.392923,
           "unharvestable_ratio": 0.9246586462805956,
           "value": 705951508.392923,
           "variable": "unharvestable_pods"
          },
          {
           "harvestable_pods": 2840.8263960033655,
           "harvested_pods": 57518215.745694,
           "season": 6369,
           "timestamp": "2022-08-18T23:00:38",
           "unharvestable_pods": 705951508.392923,
           "unharvestable_ratio": 0.9246586462805956,
           "value": 57518215.745694,
           "variable": "harvested_pods"
          },
          {
           "harvestable_pods": 2840.8263960033655,
           "harvested_pods": 57518215.745694,
           "season": 6369,
           "timestamp": "2022-08-18T23:00:38",
           "unharvestable_pods": 705951508.392923,
           "unharvestable_ratio": 0.9246586462805956,
           "value": 2840.8263960033655,
           "variable": "harvestable_pods"
          },
          {
           "harvestable_pods": 4685.24443500489,
           "harvested_pods": 57518215.745694,
           "season": 6393,
           "timestamp": "2022-08-19T23:00:06",
           "unharvestable_pods": 705948741.7652,
           "unharvestable_ratio": 0.9246561394441163,
           "value": 0.9246561394441163,
           "variable": "unharvestable_ratio"
          },
          {
           "harvestable_pods": 4685.24443500489,
           "harvested_pods": 57518215.745694,
           "season": 6393,
           "timestamp": "2022-08-19T23:00:06",
           "unharvestable_pods": 705948741.7652,
           "unharvestable_ratio": 0.9246561394441163,
           "value": 4685.24443500489,
           "variable": "harvestable_pods"
          },
          {
           "harvestable_pods": 4685.24443500489,
           "harvested_pods": 57518215.745694,
           "season": 6393,
           "timestamp": "2022-08-19T23:00:06",
           "unharvestable_pods": 705948741.7652,
           "unharvestable_ratio": 0.9246561394441163,
           "value": 705948741.7652,
           "variable": "unharvestable_pods"
          },
          {
           "harvestable_pods": 4685.24443500489,
           "harvested_pods": 57518215.745694,
           "season": 6393,
           "timestamp": "2022-08-19T23:00:06",
           "unharvestable_pods": 705948741.7652,
           "unharvestable_ratio": 0.9246561394441163,
           "value": 57518215.745694,
           "variable": "harvested_pods"
          },
          {
           "harvestable_pods": 7094.641499005258,
           "harvested_pods": 57518215.745694,
           "season": 6417,
           "timestamp": "2022-08-20T23:00:38",
           "unharvestable_pods": 706018324.314496,
           "unharvestable_ratio": 0.9246600878158486,
           "value": 7094.641499005258,
           "variable": "harvestable_pods"
          },
          {
           "harvestable_pods": 7094.641499005258,
           "harvested_pods": 57518215.745694,
           "season": 6417,
           "timestamp": "2022-08-20T23:00:38",
           "unharvestable_pods": 706018324.314496,
           "unharvestable_ratio": 0.9246600878158486,
           "value": 706018324.314496,
           "variable": "unharvestable_pods"
          },
          {
           "harvestable_pods": 7094.641499005258,
           "harvested_pods": 57518215.745694,
           "season": 6417,
           "timestamp": "2022-08-20T23:00:38",
           "unharvestable_pods": 706018324.314496,
           "unharvestable_ratio": 0.9246600878158486,
           "value": 57518215.745694,
           "variable": "harvested_pods"
          },
          {
           "harvestable_pods": 7094.641499005258,
           "harvested_pods": 57518215.745694,
           "season": 6417,
           "timestamp": "2022-08-20T23:00:38",
           "unharvestable_pods": 706018324.314496,
           "unharvestable_ratio": 0.9246600878158486,
           "value": 0.9246600878158486,
           "variable": "unharvestable_ratio"
          },
          {
           "harvestable_pods": 22.716756999492645,
           "harvested_pods": 57528088.751133,
           "season": 6441,
           "timestamp": "2022-08-21T23:00:14",
           "unharvestable_pods": 706017317.431061,
           "unharvestable_ratio": 0.9246565963326546,
           "value": 0.9246565963326546,
           "variable": "unharvestable_ratio"
          },
          {
           "harvestable_pods": 22.716756999492645,
           "harvested_pods": 57528088.751133,
           "season": 6441,
           "timestamp": "2022-08-21T23:00:14",
           "unharvestable_pods": 706017317.431061,
           "unharvestable_ratio": 0.9246565963326546,
           "value": 22.716756999492645,
           "variable": "harvestable_pods"
          },
          {
           "harvestable_pods": 22.716756999492645,
           "harvested_pods": 57528088.751133,
           "season": 6441,
           "timestamp": "2022-08-21T23:00:14",
           "unharvestable_pods": 706017317.431061,
           "unharvestable_ratio": 0.9246565963326546,
           "value": 706017317.431061,
           "variable": "unharvestable_pods"
          },
          {
           "harvestable_pods": 22.716756999492645,
           "harvested_pods": 57528088.751133,
           "season": 6441,
           "timestamp": "2022-08-21T23:00:14",
           "unharvestable_pods": 706017317.431061,
           "unharvestable_ratio": 0.9246565963326546,
           "value": 57528088.751133,
           "variable": "harvested_pods"
          },
          {
           "harvestable_pods": 2154.721969000995,
           "harvested_pods": 57528088.751133,
           "season": 6465,
           "timestamp": "2022-08-22T23:00:22",
           "unharvestable_pods": 706014119.422623,
           "unharvestable_ratio": 0.9246536988958706,
           "value": 706014119.422623,
           "variable": "unharvestable_pods"
          },
          {
           "harvestable_pods": 2154.721969000995,
           "harvested_pods": 57528088.751133,
           "season": 6465,
           "timestamp": "2022-08-22T23:00:22",
           "unharvestable_pods": 706014119.422623,
           "unharvestable_ratio": 0.9246536988958706,
           "value": 57528088.751133,
           "variable": "harvested_pods"
          },
          {
           "harvestable_pods": 2154.721969000995,
           "harvested_pods": 57528088.751133,
           "season": 6465,
           "timestamp": "2022-08-22T23:00:22",
           "unharvestable_pods": 706014119.422623,
           "unharvestable_ratio": 0.9246536988958706,
           "value": 2154.721969000995,
           "variable": "harvestable_pods"
          },
          {
           "harvestable_pods": 2154.721969000995,
           "harvested_pods": 57528088.751133,
           "season": 6465,
           "timestamp": "2022-08-22T23:00:22",
           "unharvestable_pods": 706014119.422623,
           "unharvestable_ratio": 0.9246536988958706,
           "value": 0.9246536988958706,
           "variable": "unharvestable_ratio"
          },
          {
           "harvestable_pods": 3653.9036019966006,
           "harvested_pods": 57528088.751133,
           "season": 6489,
           "timestamp": "2022-08-23T23:01:12",
           "unharvestable_pods": 706032783.169343,
           "unharvestable_ratio": 0.9246537251155772,
           "value": 706032783.169343,
           "variable": "unharvestable_pods"
          },
          {
           "harvestable_pods": 3653.9036019966006,
           "harvested_pods": 57528088.751133,
           "season": 6489,
           "timestamp": "2022-08-23T23:01:12",
           "unharvestable_pods": 706032783.169343,
           "unharvestable_ratio": 0.9246537251155772,
           "value": 57528088.751133,
           "variable": "harvested_pods"
          },
          {
           "harvestable_pods": 3653.9036019966006,
           "harvested_pods": 57528088.751133,
           "season": 6489,
           "timestamp": "2022-08-23T23:01:12",
           "unharvestable_pods": 706032783.169343,
           "unharvestable_ratio": 0.9246537251155772,
           "value": 3653.9036019966006,
           "variable": "harvestable_pods"
          },
          {
           "harvestable_pods": 3653.9036019966006,
           "harvested_pods": 57528088.751133,
           "season": 6489,
           "timestamp": "2022-08-23T23:01:12",
           "unharvestable_pods": 706032783.169343,
           "unharvestable_ratio": 0.9246537251155772,
           "value": 0.9246537251155772,
           "variable": "unharvestable_ratio"
          },
          {
           "harvestable_pods": 1119.5924260020256,
           "harvested_pods": 57533804.646497,
           "season": 6513,
           "timestamp": "2022-08-24T23:00:02",
           "unharvestable_pods": 706028010.792417,
           "unharvestable_ratio": 0.9246494013796499,
           "value": 0.9246494013796499,
           "variable": "unharvestable_ratio"
          },
          {
           "harvestable_pods": 1119.5924260020256,
           "harvested_pods": 57533804.646497,
           "season": 6513,
           "timestamp": "2022-08-24T23:00:02",
           "unharvestable_pods": 706028010.792417,
           "unharvestable_ratio": 0.9246494013796499,
           "value": 1119.5924260020256,
           "variable": "harvestable_pods"
          },
          {
           "harvestable_pods": 1119.5924260020256,
           "harvested_pods": 57533804.646497,
           "season": 6513,
           "timestamp": "2022-08-24T23:00:02",
           "unharvestable_pods": 706028010.792417,
           "unharvestable_ratio": 0.9246494013796499,
           "value": 706028010.792417,
           "variable": "unharvestable_pods"
          },
          {
           "harvestable_pods": 1119.5924260020256,
           "harvested_pods": 57533804.646497,
           "season": 6513,
           "timestamp": "2022-08-24T23:00:02",
           "unharvestable_pods": 706028010.792417,
           "unharvestable_ratio": 0.9246494013796499,
           "value": 57533804.646497,
           "variable": "harvested_pods"
          },
          {
           "harvestable_pods": 4308.420289002359,
           "harvested_pods": 57533804.646497,
           "season": 6537,
           "timestamp": "2022-08-25T23:00:43",
           "unharvestable_pods": 706023350.112736,
           "unharvestable_ratio": 0.9246450798771413,
           "value": 706023350.112736,
           "variable": "unharvestable_pods"
          },
          {
           "harvestable_pods": 4308.420289002359,
           "harvested_pods": 57533804.646497,
           "season": 6537,
           "timestamp": "2022-08-25T23:00:43",
           "unharvestable_pods": 706023350.112736,
           "unharvestable_ratio": 0.9246450798771413,
           "value": 57533804.646497,
           "variable": "harvested_pods"
          },
          {
           "harvestable_pods": 4308.420289002359,
           "harvested_pods": 57533804.646497,
           "season": 6537,
           "timestamp": "2022-08-25T23:00:43",
           "unharvestable_pods": 706023350.112736,
           "unharvestable_ratio": 0.9246450798771413,
           "value": 4308.420289002359,
           "variable": "harvestable_pods"
          },
          {
           "harvestable_pods": 4308.420289002359,
           "harvested_pods": 57533804.646497,
           "season": 6537,
           "timestamp": "2022-08-25T23:00:43",
           "unharvestable_pods": 706023350.112736,
           "unharvestable_ratio": 0.9246450798771413,
           "value": 0.9246450798771413,
           "variable": "unharvestable_ratio"
          },
          {
           "harvestable_pods": 518.6114839985967,
           "harvested_pods": 57540475.657702,
           "season": 6561,
           "timestamp": "2022-08-26T23:00:18",
           "unharvestable_pods": 706019028.3085359,
           "unharvestable_ratio": 0.9246411643253245,
           "value": 518.6114839985967,
           "variable": "harvestable_pods"
          },
          {
           "harvestable_pods": 518.6114839985967,
           "harvested_pods": 57540475.657702,
           "season": 6561,
           "timestamp": "2022-08-26T23:00:18",
           "unharvestable_pods": 706019028.3085359,
           "unharvestable_ratio": 0.9246411643253245,
           "value": 0.9246411643253245,
           "variable": "unharvestable_ratio"
          },
          {
           "harvestable_pods": 518.6114839985967,
           "harvested_pods": 57540475.657702,
           "season": 6561,
           "timestamp": "2022-08-26T23:00:18",
           "unharvestable_pods": 706019028.3085359,
           "unharvestable_ratio": 0.9246411643253245,
           "value": 57540475.657702,
           "variable": "harvested_pods"
          },
          {
           "harvestable_pods": 518.6114839985967,
           "harvested_pods": 57540475.657702,
           "season": 6561,
           "timestamp": "2022-08-26T23:00:18",
           "unharvestable_pods": 706019028.3085359,
           "unharvestable_ratio": 0.9246411643253245,
           "value": 706019028.3085359,
           "variable": "unharvestable_pods"
          },
          {
           "harvestable_pods": 2340.2299410030246,
           "harvested_pods": 57540475.657702,
           "season": 6585,
           "timestamp": "2022-08-27T23:00:24",
           "unharvestable_pods": 706016080.202402,
           "unharvestable_ratio": 0.9246386674527631,
           "value": 706016080.202402,
           "variable": "unharvestable_pods"
          },
          {
           "harvestable_pods": 2340.2299410030246,
           "harvested_pods": 57540475.657702,
           "season": 6585,
           "timestamp": "2022-08-27T23:00:24",
           "unharvestable_pods": 706016080.202402,
           "unharvestable_ratio": 0.9246386674527631,
           "value": 57540475.657702,
           "variable": "harvested_pods"
          },
          {
           "harvestable_pods": 2340.2299410030246,
           "harvested_pods": 57540475.657702,
           "season": 6585,
           "timestamp": "2022-08-27T23:00:24",
           "unharvestable_pods": 706016080.202402,
           "unharvestable_ratio": 0.9246386674527631,
           "value": 2340.2299410030246,
           "variable": "harvestable_pods"
          },
          {
           "harvestable_pods": 2340.2299410030246,
           "harvested_pods": 57540475.657702,
           "season": 6585,
           "timestamp": "2022-08-27T23:00:24",
           "unharvestable_pods": 706016080.202402,
           "unharvestable_ratio": 0.9246386674527631,
           "value": 0.9246386674527631,
           "variable": "unharvestable_ratio"
          },
          {
           "harvestable_pods": 97.33992499858141,
           "harvested_pods": 57543673.69252,
           "season": 6609,
           "timestamp": "2022-08-28T23:00:05",
           "unharvestable_pods": 706394785.5035831,
           "unharvestable_ratio": 0.9246748700662929,
           "value": 706394785.5035831,
           "variable": "unharvestable_pods"
          },
          {
           "harvestable_pods": 97.33992499858141,
           "harvested_pods": 57543673.69252,
           "season": 6609,
           "timestamp": "2022-08-28T23:00:05",
           "unharvestable_pods": 706394785.5035831,
           "unharvestable_ratio": 0.9246748700662929,
           "value": 57543673.69252,
           "variable": "harvested_pods"
          },
          {
           "harvestable_pods": 97.33992499858141,
           "harvested_pods": 57543673.69252,
           "season": 6609,
           "timestamp": "2022-08-28T23:00:05",
           "unharvestable_pods": 706394785.5035831,
           "unharvestable_ratio": 0.9246748700662929,
           "value": 97.33992499858141,
           "variable": "harvestable_pods"
          },
          {
           "harvestable_pods": 97.33992499858141,
           "harvested_pods": 57543673.69252,
           "season": 6609,
           "timestamp": "2022-08-28T23:00:05",
           "unharvestable_pods": 706394785.5035831,
           "unharvestable_ratio": 0.9246748700662929,
           "value": 0.9246748700662929,
           "variable": "unharvestable_ratio"
          },
          {
           "harvestable_pods": 780.8798869997263,
           "harvested_pods": 57543673.69252,
           "season": 6633,
           "timestamp": "2022-08-29T23:00:40",
           "unharvestable_pods": 706394204.453702,
           "unharvestable_ratio": 0.9246739854142657,
           "value": 0.9246739854142657,
           "variable": "unharvestable_ratio"
          },
          {
           "harvestable_pods": 780.8798869997263,
           "harvested_pods": 57543673.69252,
           "season": 6633,
           "timestamp": "2022-08-29T23:00:40",
           "unharvestable_pods": 706394204.453702,
           "unharvestable_ratio": 0.9246739854142657,
           "value": 706394204.453702,
           "variable": "unharvestable_pods"
          },
          {
           "harvestable_pods": 780.8798869997263,
           "harvested_pods": 57543673.69252,
           "season": 6633,
           "timestamp": "2022-08-29T23:00:40",
           "unharvestable_pods": 706394204.453702,
           "unharvestable_ratio": 0.9246739854142657,
           "value": 57543673.69252,
           "variable": "harvested_pods"
          },
          {
           "harvestable_pods": 780.8798869997263,
           "harvested_pods": 57543673.69252,
           "season": 6633,
           "timestamp": "2022-08-29T23:00:40",
           "unharvestable_pods": 706394204.453702,
           "unharvestable_ratio": 0.9246739854142657,
           "value": 780.8798869997263,
           "variable": "harvestable_pods"
          },
          {
           "harvestable_pods": 2080.658766001463,
           "harvested_pods": 57543673.69252,
           "season": 6657,
           "timestamp": "2022-08-30T23:00:14",
           "unharvestable_pods": 707844941.410975,
           "unharvestable_ratio": 0.9248151895889254,
           "value": 2080.658766001463,
           "variable": "harvestable_pods"
          },
          {
           "harvestable_pods": 2080.658766001463,
           "harvested_pods": 57543673.69252,
           "season": 6657,
           "timestamp": "2022-08-30T23:00:14",
           "unharvestable_pods": 707844941.410975,
           "unharvestable_ratio": 0.9248151895889254,
           "value": 0.9248151895889254,
           "variable": "unharvestable_ratio"
          },
          {
           "harvestable_pods": 2080.658766001463,
           "harvested_pods": 57543673.69252,
           "season": 6657,
           "timestamp": "2022-08-30T23:00:14",
           "unharvestable_pods": 707844941.410975,
           "unharvestable_ratio": 0.9248151895889254,
           "value": 707844941.410975,
           "variable": "unharvestable_pods"
          },
          {
           "harvestable_pods": 2080.658766001463,
           "harvested_pods": 57543673.69252,
           "season": 6657,
           "timestamp": "2022-08-30T23:00:14",
           "unharvestable_pods": 707844941.410975,
           "unharvestable_ratio": 0.9248151895889254,
           "value": 57543673.69252,
           "variable": "harvested_pods"
          },
          {
           "harvestable_pods": 3097.5343099981546,
           "harvested_pods": 57543673.69252,
           "season": 6681,
           "timestamp": "2022-08-31T23:00:02",
           "unharvestable_pods": 707893483.601911,
           "unharvestable_ratio": 0.9248187290075233,
           "value": 3097.5343099981546,
           "variable": "harvestable_pods"
          },
          {
           "harvestable_pods": 3097.5343099981546,
           "harvested_pods": 57543673.69252,
           "season": 6681,
           "timestamp": "2022-08-31T23:00:02",
           "unharvestable_pods": 707893483.601911,
           "unharvestable_ratio": 0.9248187290075233,
           "value": 0.9248187290075233,
           "variable": "unharvestable_ratio"
          },
          {
           "harvestable_pods": 3097.5343099981546,
           "harvested_pods": 57543673.69252,
           "season": 6681,
           "timestamp": "2022-08-31T23:00:02",
           "unharvestable_pods": 707893483.601911,
           "unharvestable_ratio": 0.9248187290075233,
           "value": 707893483.601911,
           "variable": "unharvestable_pods"
          },
          {
           "harvestable_pods": 3097.5343099981546,
           "harvested_pods": 57543673.69252,
           "season": 6681,
           "timestamp": "2022-08-31T23:00:02",
           "unharvestable_pods": 707893483.601911,
           "unharvestable_ratio": 0.9248187290075233,
           "value": 57543673.69252,
           "variable": "harvested_pods"
          },
          {
           "harvestable_pods": 929.0195760056376,
           "harvested_pods": 57547553.433924,
           "season": 6705,
           "timestamp": "2022-09-01T23:00:03",
           "unharvestable_pods": 708327472.9080039,
           "unharvestable_ratio": 0.9248592646751309,
           "value": 0.9248592646751309,
           "variable": "unharvestable_ratio"
          },
          {
           "harvestable_pods": 929.0195760056376,
           "harvested_pods": 57547553.433924,
           "season": 6705,
           "timestamp": "2022-09-01T23:00:03",
           "unharvestable_pods": 708327472.9080039,
           "unharvestable_ratio": 0.9248592646751309,
           "value": 929.0195760056376,
           "variable": "harvestable_pods"
          },
          {
           "harvestable_pods": 929.0195760056376,
           "harvested_pods": 57547553.433924,
           "season": 6705,
           "timestamp": "2022-09-01T23:00:03",
           "unharvestable_pods": 708327472.9080039,
           "unharvestable_ratio": 0.9248592646751309,
           "value": 708327472.9080039,
           "variable": "unharvestable_pods"
          },
          {
           "harvestable_pods": 929.0195760056376,
           "harvested_pods": 57547553.433924,
           "season": 6705,
           "timestamp": "2022-09-01T23:00:03",
           "unharvestable_pods": 708327472.9080039,
           "unharvestable_ratio": 0.9248592646751309,
           "value": 57547553.433924,
           "variable": "harvested_pods"
          },
          {
           "harvestable_pods": 2762.4343330040574,
           "harvested_pods": 57547553.433924,
           "season": 6729,
           "timestamp": "2022-09-02T23:00:12",
           "unharvestable_pods": 708969650.884507,
           "unharvestable_ratio": 0.9249200042210779,
           "value": 708969650.884507,
           "variable": "unharvestable_pods"
          },
          {
           "harvestable_pods": 2762.4343330040574,
           "harvested_pods": 57547553.433924,
           "season": 6729,
           "timestamp": "2022-09-02T23:00:12",
           "unharvestable_pods": 708969650.884507,
           "unharvestable_ratio": 0.9249200042210779,
           "value": 57547553.433924,
           "variable": "harvested_pods"
          },
          {
           "harvestable_pods": 2762.4343330040574,
           "harvested_pods": 57547553.433924,
           "season": 6729,
           "timestamp": "2022-09-02T23:00:12",
           "unharvestable_pods": 708969650.884507,
           "unharvestable_ratio": 0.9249200042210779,
           "value": 2762.4343330040574,
           "variable": "harvestable_pods"
          },
          {
           "harvestable_pods": 2762.4343330040574,
           "harvested_pods": 57547553.433924,
           "season": 6729,
           "timestamp": "2022-09-02T23:00:12",
           "unharvestable_pods": 708969650.884507,
           "unharvestable_ratio": 0.9249200042210779,
           "value": 0.9249200042210779,
           "variable": "unharvestable_ratio"
          },
          {
           "harvestable_pods": 478.23120199888945,
           "harvested_pods": 57551065.336568,
           "season": 6753,
           "timestamp": "2022-09-03T23:00:07",
           "unharvestable_pods": 709902709.977596,
           "unharvestable_ratio": 0.925009805728612,
           "value": 709902709.977596,
           "variable": "unharvestable_pods"
          },
          {
           "harvestable_pods": 478.23120199888945,
           "harvested_pods": 57551065.336568,
           "season": 6753,
           "timestamp": "2022-09-03T23:00:07",
           "unharvestable_pods": 709902709.977596,
           "unharvestable_ratio": 0.925009805728612,
           "value": 57551065.336568,
           "variable": "harvested_pods"
          },
          {
           "harvestable_pods": 478.23120199888945,
           "harvested_pods": 57551065.336568,
           "season": 6753,
           "timestamp": "2022-09-03T23:00:07",
           "unharvestable_pods": 709902709.977596,
           "unharvestable_ratio": 0.925009805728612,
           "value": 478.23120199888945,
           "variable": "harvestable_pods"
          },
          {
           "harvestable_pods": 478.23120199888945,
           "harvested_pods": 57551065.336568,
           "season": 6753,
           "timestamp": "2022-09-03T23:00:07",
           "unharvestable_pods": 709902709.977596,
           "unharvestable_ratio": 0.925009805728612,
           "value": 0.925009805728612,
           "variable": "unharvestable_ratio"
          },
          {
           "harvestable_pods": 1591.7717080041766,
           "harvested_pods": 57551065.336568,
           "season": 6777,
           "timestamp": "2022-09-04T23:00:04",
           "unharvestable_pods": 709901051.590847,
           "unharvestable_ratio": 0.9250083015354359,
           "value": 0.9250083015354359,
           "variable": "unharvestable_ratio"
          },
          {
           "harvestable_pods": 1591.7717080041766,
           "harvested_pods": 57551065.336568,
           "season": 6777,
           "timestamp": "2022-09-04T23:00:04",
           "unharvestable_pods": 709901051.590847,
           "unharvestable_ratio": 0.9250083015354359,
           "value": 1591.7717080041766,
           "variable": "harvestable_pods"
          },
          {
           "harvestable_pods": 1591.7717080041766,
           "harvested_pods": 57551065.336568,
           "season": 6777,
           "timestamp": "2022-09-04T23:00:04",
           "unharvestable_pods": 709901051.590847,
           "unharvestable_ratio": 0.9250083015354359,
           "value": 709901051.590847,
           "variable": "unharvestable_pods"
          },
          {
           "harvestable_pods": 1591.7717080041766,
           "harvested_pods": 57551065.336568,
           "season": 6777,
           "timestamp": "2022-09-04T23:00:04",
           "unharvestable_pods": 709901051.590847,
           "unharvestable_ratio": 0.9250083015354359,
           "value": 57551065.336568,
           "variable": "harvested_pods"
          },
          {
           "harvestable_pods": 2888.4421159997582,
           "harvested_pods": 57551065.336568,
           "season": 6801,
           "timestamp": "2022-09-05T23:00:01",
           "unharvestable_pods": 709919519.630573,
           "unharvestable_ratio": 0.9250085432620637,
           "value": 709919519.630573,
           "variable": "unharvestable_pods"
          },
          {
           "harvestable_pods": 2888.4421159997582,
           "harvested_pods": 57551065.336568,
           "season": 6801,
           "timestamp": "2022-09-05T23:00:01",
           "unharvestable_pods": 709919519.630573,
           "unharvestable_ratio": 0.9250085432620637,
           "value": 57551065.336568,
           "variable": "harvested_pods"
          },
          {
           "harvestable_pods": 2888.4421159997582,
           "harvested_pods": 57551065.336568,
           "season": 6801,
           "timestamp": "2022-09-05T23:00:01",
           "unharvestable_pods": 709919519.630573,
           "unharvestable_ratio": 0.9250085432620637,
           "value": 2888.4421159997582,
           "variable": "harvestable_pods"
          },
          {
           "harvestable_pods": 2888.4421159997582,
           "harvested_pods": 57551065.336568,
           "season": 6801,
           "timestamp": "2022-09-05T23:00:01",
           "unharvestable_pods": 709919519.630573,
           "unharvestable_ratio": 0.9250085432620637,
           "value": 0.9250085432620637,
           "variable": "unharvestable_ratio"
          },
          {
           "harvestable_pods": 3496.7287430018187,
           "harvested_pods": 57551065.336568,
           "season": 6825,
           "timestamp": "2022-09-06T23:00:27",
           "unharvestable_pods": 709924554.2152411,
           "unharvestable_ratio": 0.9250083020574701,
           "value": 0.9250083020574701,
           "variable": "unharvestable_ratio"
          },
          {
           "harvestable_pods": 3496.7287430018187,
           "harvested_pods": 57551065.336568,
           "season": 6825,
           "timestamp": "2022-09-06T23:00:27",
           "unharvestable_pods": 709924554.2152411,
           "unharvestable_ratio": 0.9250083020574701,
           "value": 3496.7287430018187,
           "variable": "harvestable_pods"
          },
          {
           "harvestable_pods": 3496.7287430018187,
           "harvested_pods": 57551065.336568,
           "season": 6825,
           "timestamp": "2022-09-06T23:00:27",
           "unharvestable_pods": 709924554.2152411,
           "unharvestable_ratio": 0.9250083020574701,
           "value": 57551065.336568,
           "variable": "harvested_pods"
          },
          {
           "harvestable_pods": 3496.7287430018187,
           "harvested_pods": 57551065.336568,
           "season": 6825,
           "timestamp": "2022-09-06T23:00:27",
           "unharvestable_pods": 709924554.2152411,
           "unharvestable_ratio": 0.9250083020574701,
           "value": 709924554.2152411,
           "variable": "unharvestable_pods"
          },
          {
           "harvestable_pods": 385.4731469973922,
           "harvested_pods": 57554631.732468,
           "season": 6849,
           "timestamp": "2022-09-07T23:00:10",
           "unharvestable_pods": 709958429.406623,
           "unharvestable_ratio": 0.9250110633765966,
           "value": 709958429.406623,
           "variable": "unharvestable_pods"
          },
          {
           "harvestable_pods": 385.4731469973922,
           "harvested_pods": 57554631.732468,
           "season": 6849,
           "timestamp": "2022-09-07T23:00:10",
           "unharvestable_pods": 709958429.406623,
           "unharvestable_ratio": 0.9250110633765966,
           "value": 57554631.732468,
           "variable": "harvested_pods"
          },
          {
           "harvestable_pods": 385.4731469973922,
           "harvested_pods": 57554631.732468,
           "season": 6849,
           "timestamp": "2022-09-07T23:00:10",
           "unharvestable_pods": 709958429.406623,
           "unharvestable_ratio": 0.9250110633765966,
           "value": 385.4731469973922,
           "variable": "harvestable_pods"
          },
          {
           "harvestable_pods": 385.4731469973922,
           "harvested_pods": 57554631.732468,
           "season": 6849,
           "timestamp": "2022-09-07T23:00:10",
           "unharvestable_pods": 709958429.406623,
           "unharvestable_ratio": 0.9250110633765966,
           "value": 0.9250110633765966,
           "variable": "unharvestable_ratio"
          },
          {
           "harvestable_pods": 1615.2813609987497,
           "harvested_pods": 57554631.732468,
           "season": 6873,
           "timestamp": "2022-09-08T23:00:04",
           "unharvestable_pods": 709992649.689741,
           "unharvestable_ratio": 0.9250129245693419,
           "value": 1615.2813609987497,
           "variable": "harvestable_pods"
          },
          {
           "harvestable_pods": 1615.2813609987497,
           "harvested_pods": 57554631.732468,
           "season": 6873,
           "timestamp": "2022-09-08T23:00:04",
           "unharvestable_pods": 709992649.689741,
           "unharvestable_ratio": 0.9250129245693419,
           "value": 0.9250129245693419,
           "variable": "unharvestable_ratio"
          },
          {
           "harvestable_pods": 1615.2813609987497,
           "harvested_pods": 57554631.732468,
           "season": 6873,
           "timestamp": "2022-09-08T23:00:04",
           "unharvestable_pods": 709992649.689741,
           "unharvestable_ratio": 0.9250129245693419,
           "value": 709992649.689741,
           "variable": "unharvestable_pods"
          },
          {
           "harvestable_pods": 1615.2813609987497,
           "harvested_pods": 57554631.732468,
           "season": 6873,
           "timestamp": "2022-09-08T23:00:04",
           "unharvestable_pods": 709992649.689741,
           "unharvestable_ratio": 0.9250129245693419,
           "value": 57554631.732468,
           "variable": "harvested_pods"
          },
          {
           "harvestable_pods": 2199.2506139948964,
           "harvested_pods": 57554631.732468,
           "season": 6897,
           "timestamp": "2022-09-09T23:00:00",
           "unharvestable_pods": 709993069.943769,
           "unharvestable_ratio": 0.9250122618560961,
           "value": 709993069.943769,
           "variable": "unharvestable_pods"
          },
          {
           "harvestable_pods": 2199.2506139948964,
           "harvested_pods": 57554631.732468,
           "season": 6897,
           "timestamp": "2022-09-09T23:00:00",
           "unharvestable_pods": 709993069.943769,
           "unharvestable_ratio": 0.9250122618560961,
           "value": 57554631.732468,
           "variable": "harvested_pods"
          },
          {
           "harvestable_pods": 2199.2506139948964,
           "harvested_pods": 57554631.732468,
           "season": 6897,
           "timestamp": "2022-09-09T23:00:00",
           "unharvestable_pods": 709993069.943769,
           "unharvestable_ratio": 0.9250122618560961,
           "value": 2199.2506139948964,
           "variable": "harvestable_pods"
          },
          {
           "harvestable_pods": 2199.2506139948964,
           "harvested_pods": 57554631.732468,
           "season": 6897,
           "timestamp": "2022-09-09T23:00:00",
           "unharvestable_pods": 709993069.943769,
           "unharvestable_ratio": 0.9250122618560961,
           "value": 0.9250122618560961,
           "variable": "unharvestable_ratio"
          },
          {
           "harvestable_pods": 2638.477678000927,
           "harvested_pods": 57554631.732468,
           "season": 6921,
           "timestamp": "2022-09-10T23:00:34",
           "unharvestable_pods": 709995401.076908,
           "unharvestable_ratio": 0.9250119602689516,
           "value": 2638.477678000927,
           "variable": "harvestable_pods"
          },
          {
           "harvestable_pods": 2638.477678000927,
           "harvested_pods": 57554631.732468,
           "season": 6921,
           "timestamp": "2022-09-10T23:00:34",
           "unharvestable_pods": 709995401.076908,
           "unharvestable_ratio": 0.9250119602689516,
           "value": 709995401.076908,
           "variable": "unharvestable_pods"
          },
          {
           "harvestable_pods": 2638.477678000927,
           "harvested_pods": 57554631.732468,
           "season": 6921,
           "timestamp": "2022-09-10T23:00:34",
           "unharvestable_pods": 709995401.076908,
           "unharvestable_ratio": 0.9250119602689516,
           "value": 57554631.732468,
           "variable": "harvested_pods"
          },
          {
           "harvestable_pods": 2638.477678000927,
           "harvested_pods": 57554631.732468,
           "season": 6921,
           "timestamp": "2022-09-10T23:00:34",
           "unharvestable_pods": 709995401.076908,
           "unharvestable_ratio": 0.9250119602689516,
           "value": 0.9250119602689516,
           "variable": "unharvestable_ratio"
          },
          {
           "harvestable_pods": 2988.73146700114,
           "harvested_pods": 57554631.732468,
           "season": 6945,
           "timestamp": "2022-09-11T23:00:03",
           "unharvestable_pods": 709997075.220181,
           "unharvestable_ratio": 0.9250117017229185,
           "value": 0.9250117017229185,
           "variable": "unharvestable_ratio"
          },
          {
           "harvestable_pods": 2988.73146700114,
           "harvested_pods": 57554631.732468,
           "season": 6945,
           "timestamp": "2022-09-11T23:00:03",
           "unharvestable_pods": 709997075.220181,
           "unharvestable_ratio": 0.9250117017229185,
           "value": 2988.73146700114,
           "variable": "harvestable_pods"
          },
          {
           "harvestable_pods": 2988.73146700114,
           "harvested_pods": 57554631.732468,
           "season": 6945,
           "timestamp": "2022-09-11T23:00:03",
           "unharvestable_pods": 709997075.220181,
           "unharvestable_ratio": 0.9250117017229185,
           "value": 57554631.732468,
           "variable": "harvested_pods"
          },
          {
           "harvestable_pods": 2988.73146700114,
           "harvested_pods": 57554631.732468,
           "season": 6945,
           "timestamp": "2022-09-11T23:00:03",
           "unharvestable_pods": 709997075.220181,
           "unharvestable_ratio": 0.9250117017229185,
           "value": 709997075.220181,
           "variable": "unharvestable_pods"
          },
          {
           "harvestable_pods": 108.88768199831247,
           "harvested_pods": 57557862.062926,
           "season": 6969,
           "timestamp": "2022-09-12T23:00:06",
           "unharvestable_pods": 710069822.697562,
           "unharvestable_ratio": 0.9250183859588221,
           "value": 710069822.697562,
           "variable": "unharvestable_pods"
          },
          {
           "harvestable_pods": 108.88768199831247,
           "harvested_pods": 57557862.062926,
           "season": 6969,
           "timestamp": "2022-09-12T23:00:06",
           "unharvestable_pods": 710069822.697562,
           "unharvestable_ratio": 0.9250183859588221,
           "value": 57557862.062926,
           "variable": "harvested_pods"
          },
          {
           "harvestable_pods": 108.88768199831247,
           "harvested_pods": 57557862.062926,
           "season": 6969,
           "timestamp": "2022-09-12T23:00:06",
           "unharvestable_pods": 710069822.697562,
           "unharvestable_ratio": 0.9250183859588221,
           "value": 108.88768199831247,
           "variable": "harvestable_pods"
          },
          {
           "harvestable_pods": 108.88768199831247,
           "harvested_pods": 57557862.062926,
           "season": 6969,
           "timestamp": "2022-09-12T23:00:06",
           "unharvestable_pods": 710069822.697562,
           "unharvestable_ratio": 0.9250183859588221,
           "value": 0.9250183859588221,
           "variable": "unharvestable_ratio"
          },
          {
           "harvestable_pods": 451.63002199679613,
           "harvested_pods": 57557862.062926,
           "season": 6993,
           "timestamp": "2022-09-13T23:00:03",
           "unharvestable_pods": 710071439.206368,
           "unharvestable_ratio": 0.9250181308429594,
           "value": 451.63002199679613,
           "variable": "harvestable_pods"
          },
          {
           "harvestable_pods": 451.63002199679613,
           "harvested_pods": 57557862.062926,
           "season": 6993,
           "timestamp": "2022-09-13T23:00:03",
           "unharvestable_pods": 710071439.206368,
           "unharvestable_ratio": 0.9250181308429594,
           "value": 0.9250181308429594,
           "variable": "unharvestable_ratio"
          },
          {
           "harvestable_pods": 451.63002199679613,
           "harvested_pods": 57557862.062926,
           "season": 6993,
           "timestamp": "2022-09-13T23:00:03",
           "unharvestable_pods": 710071439.206368,
           "unharvestable_ratio": 0.9250181308429594,
           "value": 710071439.206368,
           "variable": "unharvestable_pods"
          },
          {
           "harvestable_pods": 451.63002199679613,
           "harvested_pods": 57557862.062926,
           "season": 6993,
           "timestamp": "2022-09-13T23:00:03",
           "unharvestable_pods": 710071439.206368,
           "unharvestable_ratio": 0.9250181308429594,
           "value": 57557862.062926,
           "variable": "harvested_pods"
          },
          {
           "harvestable_pods": 1068.147362999618,
           "harvested_pods": 57557862.062926,
           "season": 7017,
           "timestamp": "2022-09-14T23:00:07",
           "unharvestable_pods": 710071104.674896,
           "unharvestable_ratio": 0.9250173552434043,
           "value": 710071104.674896,
           "variable": "unharvestable_pods"
          },
          {
           "harvestable_pods": 1068.147362999618,
           "harvested_pods": 57557862.062926,
           "season": 7017,
           "timestamp": "2022-09-14T23:00:07",
           "unharvestable_pods": 710071104.674896,
           "unharvestable_ratio": 0.9250173552434043,
           "value": 57557862.062926,
           "variable": "harvested_pods"
          },
          {
           "harvestable_pods": 1068.147362999618,
           "harvested_pods": 57557862.062926,
           "season": 7017,
           "timestamp": "2022-09-14T23:00:07",
           "unharvestable_pods": 710071104.674896,
           "unharvestable_ratio": 0.9250173552434043,
           "value": 1068.147362999618,
           "variable": "harvestable_pods"
          },
          {
           "harvestable_pods": 1068.147362999618,
           "harvested_pods": 57557862.062926,
           "season": 7017,
           "timestamp": "2022-09-14T23:00:07",
           "unharvestable_pods": 710071104.674896,
           "unharvestable_ratio": 0.9250173552434043,
           "value": 0.9250173552434043,
           "variable": "unharvestable_ratio"
          },
          {
           "harvestable_pods": 1357.9434679970145,
           "harvested_pods": 57557862.062926,
           "season": 7041,
           "timestamp": "2022-09-15T23:00:11",
           "unharvestable_pods": 710124889.7350509,
           "unharvestable_ratio": 0.9250222594476003,
           "value": 0.9250222594476003,
           "variable": "unharvestable_ratio"
          },
          {
           "harvestable_pods": 1357.9434679970145,
           "harvested_pods": 57557862.062926,
           "season": 7041,
           "timestamp": "2022-09-15T23:00:11",
           "unharvestable_pods": 710124889.7350509,
           "unharvestable_ratio": 0.9250222594476003,
           "value": 710124889.7350509,
           "variable": "unharvestable_pods"
          },
          {
           "harvestable_pods": 1357.9434679970145,
           "harvested_pods": 57557862.062926,
           "season": 7041,
           "timestamp": "2022-09-15T23:00:11",
           "unharvestable_pods": 710124889.7350509,
           "unharvestable_ratio": 0.9250222594476003,
           "value": 57557862.062926,
           "variable": "harvested_pods"
          },
          {
           "harvestable_pods": 1357.9434679970145,
           "harvested_pods": 57557862.062926,
           "season": 7041,
           "timestamp": "2022-09-15T23:00:11",
           "unharvestable_pods": 710124889.7350509,
           "unharvestable_ratio": 0.9250222594476003,
           "value": 1357.9434679970145,
           "variable": "harvestable_pods"
          },
          {
           "harvestable_pods": 101.62187100201845,
           "harvested_pods": 57559429.921489,
           "season": 7065,
           "timestamp": "2022-09-16T23:00:11",
           "unharvestable_pods": 710462491.590432,
           "unharvestable_ratio": 0.925054842426917,
           "value": 101.62187100201845,
           "variable": "harvestable_pods"
          },
          {
           "harvestable_pods": 101.62187100201845,
           "harvested_pods": 57559429.921489,
           "season": 7065,
           "timestamp": "2022-09-16T23:00:11",
           "unharvestable_pods": 710462491.590432,
           "unharvestable_ratio": 0.925054842426917,
           "value": 0.925054842426917,
           "variable": "unharvestable_ratio"
          },
          {
           "harvestable_pods": 101.62187100201845,
           "harvested_pods": 57559429.921489,
           "season": 7065,
           "timestamp": "2022-09-16T23:00:11",
           "unharvestable_pods": 710462491.590432,
           "unharvestable_ratio": 0.925054842426917,
           "value": 710462491.590432,
           "variable": "unharvestable_pods"
          },
          {
           "harvestable_pods": 101.62187100201845,
           "harvested_pods": 57559429.921489,
           "season": 7065,
           "timestamp": "2022-09-16T23:00:11",
           "unharvestable_pods": 710462491.590432,
           "unharvestable_ratio": 0.925054842426917,
           "value": 57559429.921489,
           "variable": "harvested_pods"
          },
          {
           "harvestable_pods": 338.23931500315666,
           "harvested_pods": 57559429.921489,
           "season": 7089,
           "timestamp": "2022-09-17T23:00:23",
           "unharvestable_pods": 710462621.529756,
           "unharvestable_ratio": 0.9250545701096095,
           "value": 710462621.529756,
           "variable": "unharvestable_pods"
          },
          {
           "harvestable_pods": 338.23931500315666,
           "harvested_pods": 57559429.921489,
           "season": 7089,
           "timestamp": "2022-09-17T23:00:23",
           "unharvestable_pods": 710462621.529756,
           "unharvestable_ratio": 0.9250545701096095,
           "value": 57559429.921489,
           "variable": "harvested_pods"
          },
          {
           "harvestable_pods": 338.23931500315666,
           "harvested_pods": 57559429.921489,
           "season": 7089,
           "timestamp": "2022-09-17T23:00:23",
           "unharvestable_pods": 710462621.529756,
           "unharvestable_ratio": 0.9250545701096095,
           "value": 338.23931500315666,
           "variable": "harvestable_pods"
          },
          {
           "harvestable_pods": 338.23931500315666,
           "harvested_pods": 57559429.921489,
           "season": 7089,
           "timestamp": "2022-09-17T23:00:23",
           "unharvestable_pods": 710462621.529756,
           "unharvestable_ratio": 0.9250545701096095,
           "value": 0.9250545701096095,
           "variable": "unharvestable_ratio"
          },
          {
           "harvestable_pods": 746.9602459967136,
           "harvested_pods": 57559429.921489,
           "season": 7113,
           "timestamp": "2022-09-18T23:00:11",
           "unharvestable_pods": 710462895.167336,
           "unharvestable_ratio": 0.9250541045229729,
           "value": 710462895.167336,
           "variable": "unharvestable_pods"
          },
          {
           "harvestable_pods": 746.9602459967136,
           "harvested_pods": 57559429.921489,
           "season": 7113,
           "timestamp": "2022-09-18T23:00:11",
           "unharvestable_pods": 710462895.167336,
           "unharvestable_ratio": 0.9250541045229729,
           "value": 57559429.921489,
           "variable": "harvested_pods"
          },
          {
           "harvestable_pods": 746.9602459967136,
           "harvested_pods": 57559429.921489,
           "season": 7113,
           "timestamp": "2022-09-18T23:00:11",
           "unharvestable_pods": 710462895.167336,
           "unharvestable_ratio": 0.9250541045229729,
           "value": 746.9602459967136,
           "variable": "harvestable_pods"
          },
          {
           "harvestable_pods": 746.9602459967136,
           "harvested_pods": 57559429.921489,
           "season": 7113,
           "timestamp": "2022-09-18T23:00:11",
           "unharvestable_pods": 710462895.167336,
           "unharvestable_ratio": 0.9250541045229729,
           "value": 0.9250541045229729,
           "variable": "unharvestable_ratio"
          },
          {
           "harvestable_pods": 23.012785993516445,
           "harvested_pods": 57560211.939542,
           "season": 7137,
           "timestamp": "2022-09-19T23:00:11",
           "unharvestable_pods": 712458762.698541,
           "unharvestable_ratio": 0.9252482924084606,
           "value": 0.9252482924084606,
           "variable": "unharvestable_ratio"
          },
          {
           "harvestable_pods": 23.012785993516445,
           "harvested_pods": 57560211.939542,
           "season": 7137,
           "timestamp": "2022-09-19T23:00:11",
           "unharvestable_pods": 712458762.698541,
           "unharvestable_ratio": 0.9252482924084606,
           "value": 23.012785993516445,
           "variable": "harvestable_pods"
          },
          {
           "harvestable_pods": 23.012785993516445,
           "harvested_pods": 57560211.939542,
           "season": 7137,
           "timestamp": "2022-09-19T23:00:11",
           "unharvestable_pods": 712458762.698541,
           "unharvestable_ratio": 0.9252482924084606,
           "value": 57560211.939542,
           "variable": "harvested_pods"
          },
          {
           "harvestable_pods": 23.012785993516445,
           "harvested_pods": 57560211.939542,
           "season": 7137,
           "timestamp": "2022-09-19T23:00:11",
           "unharvestable_pods": 712458762.698541,
           "unharvestable_ratio": 0.9252482924084606,
           "value": 712458762.698541,
           "variable": "unharvestable_pods"
          },
          {
           "harvestable_pods": 23.012785993516445,
           "harvested_pods": 57560211.939542,
           "season": 7161,
           "timestamp": "2022-09-20T23:00:11",
           "unharvestable_pods": 713140840.134128,
           "unharvestable_ratio": 0.9253144483470832,
           "value": 713140840.134128,
           "variable": "unharvestable_pods"
          },
          {
           "harvestable_pods": 23.012785993516445,
           "harvested_pods": 57560211.939542,
           "season": 7161,
           "timestamp": "2022-09-20T23:00:11",
           "unharvestable_pods": 713140840.134128,
           "unharvestable_ratio": 0.9253144483470832,
           "value": 57560211.939542,
           "variable": "harvested_pods"
          },
          {
           "harvestable_pods": 23.012785993516445,
           "harvested_pods": 57560211.939542,
           "season": 7161,
           "timestamp": "2022-09-20T23:00:11",
           "unharvestable_pods": 713140840.134128,
           "unharvestable_ratio": 0.9253144483470832,
           "value": 23.012785993516445,
           "variable": "harvestable_pods"
          },
          {
           "harvestable_pods": 23.012785993516445,
           "harvested_pods": 57560211.939542,
           "season": 7161,
           "timestamp": "2022-09-20T23:00:11",
           "unharvestable_pods": 713140840.134128,
           "unharvestable_ratio": 0.9253144483470832,
           "value": 0.9253144483470832,
           "variable": "unharvestable_ratio"
          },
          {
           "harvestable_pods": 23.012785993516445,
           "harvested_pods": 57560211.939542,
           "season": 7185,
           "timestamp": "2022-09-21T23:00:11",
           "unharvestable_pods": 713309030.5738881,
           "unharvestable_ratio": 0.9253307434522821,
           "value": 0.9253307434522821,
           "variable": "unharvestable_ratio"
          },
          {
           "harvestable_pods": 23.012785993516445,
           "harvested_pods": 57560211.939542,
           "season": 7185,
           "timestamp": "2022-09-21T23:00:11",
           "unharvestable_pods": 713309030.5738881,
           "unharvestable_ratio": 0.9253307434522821,
           "value": 713309030.5738881,
           "variable": "unharvestable_pods"
          },
          {
           "harvestable_pods": 23.012785993516445,
           "harvested_pods": 57560211.939542,
           "season": 7185,
           "timestamp": "2022-09-21T23:00:11",
           "unharvestable_pods": 713309030.5738881,
           "unharvestable_ratio": 0.9253307434522821,
           "value": 57560211.939542,
           "variable": "harvested_pods"
          },
          {
           "harvestable_pods": 23.012785993516445,
           "harvested_pods": 57560211.939542,
           "season": 7185,
           "timestamp": "2022-09-21T23:00:11",
           "unharvestable_pods": 713309030.5738881,
           "unharvestable_ratio": 0.9253307434522821,
           "value": 23.012785993516445,
           "variable": "harvestable_pods"
          },
          {
           "harvestable_pods": 23.012785993516445,
           "harvested_pods": 57560211.939542,
           "season": 7209,
           "timestamp": "2022-09-22T23:00:11",
           "unharvestable_pods": 713316160.0360911,
           "unharvestable_ratio": 0.9253314340320503,
           "value": 0.9253314340320503,
           "variable": "unharvestable_ratio"
          },
          {
           "harvestable_pods": 23.012785993516445,
           "harvested_pods": 57560211.939542,
           "season": 7209,
           "timestamp": "2022-09-22T23:00:11",
           "unharvestable_pods": 713316160.0360911,
           "unharvestable_ratio": 0.9253314340320503,
           "value": 23.012785993516445,
           "variable": "harvestable_pods"
          },
          {
           "harvestable_pods": 23.012785993516445,
           "harvested_pods": 57560211.939542,
           "season": 7209,
           "timestamp": "2022-09-22T23:00:11",
           "unharvestable_pods": 713316160.0360911,
           "unharvestable_ratio": 0.9253314340320503,
           "value": 713316160.0360911,
           "variable": "unharvestable_pods"
          },
          {
           "harvestable_pods": 23.012785993516445,
           "harvested_pods": 57560211.939542,
           "season": 7209,
           "timestamp": "2022-09-22T23:00:11",
           "unharvestable_pods": 713316160.0360911,
           "unharvestable_ratio": 0.9253314340320503,
           "value": 57560211.939542,
           "variable": "harvested_pods"
          },
          {
           "harvestable_pods": 23.012785993516445,
           "harvested_pods": 57560211.939542,
           "season": 7233,
           "timestamp": "2022-09-23T23:00:11",
           "unharvestable_pods": 713329691.0867491,
           "unharvestable_ratio": 0.9253327446525612,
           "value": 713329691.0867491,
           "variable": "unharvestable_pods"
          },
          {
           "harvestable_pods": 23.012785993516445,
           "harvested_pods": 57560211.939542,
           "season": 7233,
           "timestamp": "2022-09-23T23:00:11",
           "unharvestable_pods": 713329691.0867491,
           "unharvestable_ratio": 0.9253327446525612,
           "value": 57560211.939542,
           "variable": "harvested_pods"
          },
          {
           "harvestable_pods": 23.012785993516445,
           "harvested_pods": 57560211.939542,
           "season": 7233,
           "timestamp": "2022-09-23T23:00:11",
           "unharvestable_pods": 713329691.0867491,
           "unharvestable_ratio": 0.9253327446525612,
           "value": 23.012785993516445,
           "variable": "harvestable_pods"
          },
          {
           "harvestable_pods": 23.012785993516445,
           "harvested_pods": 57560211.939542,
           "season": 7233,
           "timestamp": "2022-09-23T23:00:11",
           "unharvestable_pods": 713329691.0867491,
           "unharvestable_ratio": 0.9253327446525612,
           "value": 0.9253327446525612,
           "variable": "unharvestable_ratio"
          },
          {
           "harvestable_pods": 23.012785993516445,
           "harvested_pods": 57560211.939542,
           "season": 7257,
           "timestamp": "2022-09-24T23:00:11",
           "unharvestable_pods": 713511509.912667,
           "unharvestable_ratio": 0.9253503512018768,
           "value": 713511509.912667,
           "variable": "unharvestable_pods"
          },
          {
           "harvestable_pods": 23.012785993516445,
           "harvested_pods": 57560211.939542,
           "season": 7257,
           "timestamp": "2022-09-24T23:00:11",
           "unharvestable_pods": 713511509.912667,
           "unharvestable_ratio": 0.9253503512018768,
           "value": 57560211.939542,
           "variable": "harvested_pods"
          },
          {
           "harvestable_pods": 23.012785993516445,
           "harvested_pods": 57560211.939542,
           "season": 7257,
           "timestamp": "2022-09-24T23:00:11",
           "unharvestable_pods": 713511509.912667,
           "unharvestable_ratio": 0.9253503512018768,
           "value": 23.012785993516445,
           "variable": "harvestable_pods"
          },
          {
           "harvestable_pods": 23.012785993516445,
           "harvested_pods": 57560211.939542,
           "season": 7257,
           "timestamp": "2022-09-24T23:00:11",
           "unharvestable_pods": 713511509.912667,
           "unharvestable_ratio": 0.9253503512018768,
           "value": 0.9253503512018768,
           "variable": "unharvestable_ratio"
          },
          {
           "harvestable_pods": 23.012785993516445,
           "harvested_pods": 57560211.939542,
           "season": 7281,
           "timestamp": "2022-09-25T23:00:11",
           "unharvestable_pods": 713511509.912667,
           "unharvestable_ratio": 0.9253503512018768,
           "value": 0.9253503512018768,
           "variable": "unharvestable_ratio"
          },
          {
           "harvestable_pods": 23.012785993516445,
           "harvested_pods": 57560211.939542,
           "season": 7281,
           "timestamp": "2022-09-25T23:00:11",
           "unharvestable_pods": 713511509.912667,
           "unharvestable_ratio": 0.9253503512018768,
           "value": 23.012785993516445,
           "variable": "harvestable_pods"
          },
          {
           "harvestable_pods": 23.012785993516445,
           "harvested_pods": 57560211.939542,
           "season": 7281,
           "timestamp": "2022-09-25T23:00:11",
           "unharvestable_pods": 713511509.912667,
           "unharvestable_ratio": 0.9253503512018768,
           "value": 713511509.912667,
           "variable": "unharvestable_pods"
          },
          {
           "harvestable_pods": 23.012785993516445,
           "harvested_pods": 57560211.939542,
           "season": 7281,
           "timestamp": "2022-09-25T23:00:11",
           "unharvestable_pods": 713511509.912667,
           "unharvestable_ratio": 0.9253503512018768,
           "value": 57560211.939542,
           "variable": "harvested_pods"
          },
          {
           "harvestable_pods": 23.012785993516445,
           "harvested_pods": 57560211.939542,
           "season": 7305,
           "timestamp": "2022-09-26T23:00:11",
           "unharvestable_pods": 713515627.689214,
           "unharvestable_ratio": 0.9253507498534076,
           "value": 0.9253507498534076,
           "variable": "unharvestable_ratio"
          },
          {
           "harvestable_pods": 23.012785993516445,
           "harvested_pods": 57560211.939542,
           "season": 7305,
           "timestamp": "2022-09-26T23:00:11",
           "unharvestable_pods": 713515627.689214,
           "unharvestable_ratio": 0.9253507498534076,
           "value": 713515627.689214,
           "variable": "unharvestable_pods"
          },
          {
           "harvestable_pods": 23.012785993516445,
           "harvested_pods": 57560211.939542,
           "season": 7305,
           "timestamp": "2022-09-26T23:00:11",
           "unharvestable_pods": 713515627.689214,
           "unharvestable_ratio": 0.9253507498534076,
           "value": 57560211.939542,
           "variable": "harvested_pods"
          },
          {
           "harvestable_pods": 23.012785993516445,
           "harvested_pods": 57560211.939542,
           "season": 7305,
           "timestamp": "2022-09-26T23:00:11",
           "unharvestable_pods": 713515627.689214,
           "unharvestable_ratio": 0.9253507498534076,
           "value": 23.012785993516445,
           "variable": "harvestable_pods"
          },
          {
           "harvestable_pods": 23.012785993516445,
           "harvested_pods": 57560211.939542,
           "season": 7329,
           "timestamp": "2022-09-27T23:00:11",
           "unharvestable_pods": 713519825.7058691,
           "unharvestable_ratio": 0.9253511562687871,
           "value": 23.012785993516445,
           "variable": "harvestable_pods"
          },
          {
           "harvestable_pods": 23.012785993516445,
           "harvested_pods": 57560211.939542,
           "season": 7329,
           "timestamp": "2022-09-27T23:00:11",
           "unharvestable_pods": 713519825.7058691,
           "unharvestable_ratio": 0.9253511562687871,
           "value": 0.9253511562687871,
           "variable": "unharvestable_ratio"
          },
          {
           "harvestable_pods": 23.012785993516445,
           "harvested_pods": 57560211.939542,
           "season": 7329,
           "timestamp": "2022-09-27T23:00:11",
           "unharvestable_pods": 713519825.7058691,
           "unharvestable_ratio": 0.9253511562687871,
           "value": 713519825.7058691,
           "variable": "unharvestable_pods"
          },
          {
           "harvestable_pods": 23.012785993516445,
           "harvested_pods": 57560211.939542,
           "season": 7329,
           "timestamp": "2022-09-27T23:00:11",
           "unharvestable_pods": 713519825.7058691,
           "unharvestable_ratio": 0.9253511562687871,
           "value": 57560211.939542,
           "variable": "harvested_pods"
          },
          {
           "harvestable_pods": 23.012785993516445,
           "harvested_pods": 57560211.939542,
           "season": 7353,
           "timestamp": "2022-09-28T23:00:11",
           "unharvestable_pods": 713519825.724895,
           "unharvestable_ratio": 0.9253511562706289,
           "value": 0.9253511562706289,
           "variable": "unharvestable_ratio"
          },
          {
           "harvestable_pods": 23.012785993516445,
           "harvested_pods": 57560211.939542,
           "season": 7353,
           "timestamp": "2022-09-28T23:00:11",
           "unharvestable_pods": 713519825.724895,
           "unharvestable_ratio": 0.9253511562706289,
           "value": 23.012785993516445,
           "variable": "harvestable_pods"
          },
          {
           "harvestable_pods": 23.012785993516445,
           "harvested_pods": 57560211.939542,
           "season": 7353,
           "timestamp": "2022-09-28T23:00:11",
           "unharvestable_pods": 713519825.724895,
           "unharvestable_ratio": 0.9253511562706289,
           "value": 713519825.724895,
           "variable": "unharvestable_pods"
          },
          {
           "harvestable_pods": 23.012785993516445,
           "harvested_pods": 57560211.939542,
           "season": 7353,
           "timestamp": "2022-09-28T23:00:11",
           "unharvestable_pods": 713519825.724895,
           "unharvestable_ratio": 0.9253511562706289,
           "value": 57560211.939542,
           "variable": "harvested_pods"
          },
          {
           "harvestable_pods": 23.012785993516445,
           "harvested_pods": 57560211.939542,
           "season": 7377,
           "timestamp": "2022-09-29T23:00:11",
           "unharvestable_pods": 713519825.7520701,
           "unharvestable_ratio": 0.9253511562732598,
           "value": 713519825.7520701,
           "variable": "unharvestable_pods"
          },
          {
           "harvestable_pods": 23.012785993516445,
           "harvested_pods": 57560211.939542,
           "season": 7377,
           "timestamp": "2022-09-29T23:00:11",
           "unharvestable_pods": 713519825.7520701,
           "unharvestable_ratio": 0.9253511562732598,
           "value": 57560211.939542,
           "variable": "harvested_pods"
          },
          {
           "harvestable_pods": 23.012785993516445,
           "harvested_pods": 57560211.939542,
           "season": 7377,
           "timestamp": "2022-09-29T23:00:11",
           "unharvestable_pods": 713519825.7520701,
           "unharvestable_ratio": 0.9253511562732598,
           "value": 23.012785993516445,
           "variable": "harvestable_pods"
          },
          {
           "harvestable_pods": 23.012785993516445,
           "harvested_pods": 57560211.939542,
           "season": 7377,
           "timestamp": "2022-09-29T23:00:11",
           "unharvestable_pods": 713519825.7520701,
           "unharvestable_ratio": 0.9253511562732598,
           "value": 0.9253511562732598,
           "variable": "unharvestable_ratio"
          },
          {
           "harvestable_pods": 23.012785993516445,
           "harvested_pods": 57560211.939542,
           "season": 7401,
           "timestamp": "2022-09-30T23:00:11",
           "unharvestable_pods": 713519825.865232,
           "unharvestable_ratio": 0.925351156284215,
           "value": 57560211.939542,
           "variable": "harvested_pods"
          },
          {
           "harvestable_pods": 23.012785993516445,
           "harvested_pods": 57560211.939542,
           "season": 7401,
           "timestamp": "2022-09-30T23:00:11",
           "unharvestable_pods": 713519825.865232,
           "unharvestable_ratio": 0.925351156284215,
           "value": 713519825.865232,
           "variable": "unharvestable_pods"
          },
          {
           "harvestable_pods": 23.012785993516445,
           "harvested_pods": 57560211.939542,
           "season": 7401,
           "timestamp": "2022-09-30T23:00:11",
           "unharvestable_pods": 713519825.865232,
           "unharvestable_ratio": 0.925351156284215,
           "value": 23.012785993516445,
           "variable": "harvestable_pods"
          },
          {
           "harvestable_pods": 23.012785993516445,
           "harvested_pods": 57560211.939542,
           "season": 7401,
           "timestamp": "2022-09-30T23:00:11",
           "unharvestable_pods": 713519825.865232,
           "unharvestable_ratio": 0.925351156284215,
           "value": 0.925351156284215,
           "variable": "unharvestable_ratio"
          },
          {
           "harvestable_pods": 23.012785993516445,
           "harvested_pods": 57560211.939542,
           "season": 7425,
           "timestamp": "2022-10-01T23:00:11",
           "unharvestable_pods": 713519826.252629,
           "unharvestable_ratio": 0.9253511563217193,
           "value": 0.9253511563217193,
           "variable": "unharvestable_ratio"
          },
          {
           "harvestable_pods": 23.012785993516445,
           "harvested_pods": 57560211.939542,
           "season": 7425,
           "timestamp": "2022-10-01T23:00:11",
           "unharvestable_pods": 713519826.252629,
           "unharvestable_ratio": 0.9253511563217193,
           "value": 23.012785993516445,
           "variable": "harvestable_pods"
          },
          {
           "harvestable_pods": 23.012785993516445,
           "harvested_pods": 57560211.939542,
           "season": 7425,
           "timestamp": "2022-10-01T23:00:11",
           "unharvestable_pods": 713519826.252629,
           "unharvestable_ratio": 0.9253511563217193,
           "value": 713519826.252629,
           "variable": "unharvestable_pods"
          },
          {
           "harvestable_pods": 23.012785993516445,
           "harvested_pods": 57560211.939542,
           "season": 7425,
           "timestamp": "2022-10-01T23:00:11",
           "unharvestable_pods": 713519826.252629,
           "unharvestable_ratio": 0.9253511563217193,
           "value": 57560211.939542,
           "variable": "harvested_pods"
          },
          {
           "harvestable_pods": 23.012785993516445,
           "harvested_pods": 57560211.939542,
           "season": 7449,
           "timestamp": "2022-10-02T23:00:11",
           "unharvestable_pods": 713586736.498222,
           "unharvestable_ratio": 0.925357633391135,
           "value": 713586736.498222,
           "variable": "unharvestable_pods"
          },
          {
           "harvestable_pods": 23.012785993516445,
           "harvested_pods": 57560211.939542,
           "season": 7449,
           "timestamp": "2022-10-02T23:00:11",
           "unharvestable_pods": 713586736.498222,
           "unharvestable_ratio": 0.925357633391135,
           "value": 57560211.939542,
           "variable": "harvested_pods"
          },
          {
           "harvestable_pods": 23.012785993516445,
           "harvested_pods": 57560211.939542,
           "season": 7449,
           "timestamp": "2022-10-02T23:00:11",
           "unharvestable_pods": 713586736.498222,
           "unharvestable_ratio": 0.925357633391135,
           "value": 23.012785993516445,
           "variable": "harvestable_pods"
          },
          {
           "harvestable_pods": 23.012785993516445,
           "harvested_pods": 57560211.939542,
           "season": 7449,
           "timestamp": "2022-10-02T23:00:11",
           "unharvestable_pods": 713586736.498222,
           "unharvestable_ratio": 0.925357633391135,
           "value": 0.925357633391135,
           "variable": "unharvestable_ratio"
          },
          {
           "harvestable_pods": 23.012785993516445,
           "harvested_pods": 57560211.939542,
           "season": 7473,
           "timestamp": "2022-10-03T23:00:11",
           "unharvestable_pods": 713591659.982704,
           "unharvestable_ratio": 0.9253581099516364,
           "value": 23.012785993516445,
           "variable": "harvestable_pods"
          },
          {
           "harvestable_pods": 23.012785993516445,
           "harvested_pods": 57560211.939542,
           "season": 7473,
           "timestamp": "2022-10-03T23:00:11",
           "unharvestable_pods": 713591659.982704,
           "unharvestable_ratio": 0.9253581099516364,
           "value": 0.9253581099516364,
           "variable": "unharvestable_ratio"
          },
          {
           "harvestable_pods": 23.012785993516445,
           "harvested_pods": 57560211.939542,
           "season": 7473,
           "timestamp": "2022-10-03T23:00:11",
           "unharvestable_pods": 713591659.982704,
           "unharvestable_ratio": 0.9253581099516364,
           "value": 57560211.939542,
           "variable": "harvested_pods"
          },
          {
           "harvestable_pods": 23.012785993516445,
           "harvested_pods": 57560211.939542,
           "season": 7473,
           "timestamp": "2022-10-03T23:00:11",
           "unharvestable_pods": 713591659.982704,
           "unharvestable_ratio": 0.9253581099516364,
           "value": 713591659.982704,
           "variable": "unharvestable_pods"
          },
          {
           "harvestable_pods": 23.012785993516445,
           "harvested_pods": 57560211.939542,
           "season": 7497,
           "timestamp": "2022-10-04T23:00:11",
           "unharvestable_pods": 713635232.5660391,
           "unharvestable_ratio": 0.9253623272222394,
           "value": 713635232.5660391,
           "variable": "unharvestable_pods"
          },
          {
           "harvestable_pods": 23.012785993516445,
           "harvested_pods": 57560211.939542,
           "season": 7497,
           "timestamp": "2022-10-04T23:00:11",
           "unharvestable_pods": 713635232.5660391,
           "unharvestable_ratio": 0.9253623272222394,
           "value": 57560211.939542,
           "variable": "harvested_pods"
          },
          {
           "harvestable_pods": 23.012785993516445,
           "harvested_pods": 57560211.939542,
           "season": 7497,
           "timestamp": "2022-10-04T23:00:11",
           "unharvestable_pods": 713635232.5660391,
           "unharvestable_ratio": 0.9253623272222394,
           "value": 23.012785993516445,
           "variable": "harvestable_pods"
          },
          {
           "harvestable_pods": 23.012785993516445,
           "harvested_pods": 57560211.939542,
           "season": 7497,
           "timestamp": "2022-10-04T23:00:11",
           "unharvestable_pods": 713635232.5660391,
           "unharvestable_ratio": 0.9253623272222394,
           "value": 0.9253623272222394,
           "variable": "unharvestable_ratio"
          },
          {
           "harvestable_pods": 23.012785993516445,
           "harvested_pods": 57560211.939542,
           "season": 7521,
           "timestamp": "2022-10-05T23:00:11",
           "unharvestable_pods": 713650760.291915,
           "unharvestable_ratio": 0.9253638299929857,
           "value": 0.9253638299929857,
           "variable": "unharvestable_ratio"
          },
          {
           "harvestable_pods": 23.012785993516445,
           "harvested_pods": 57560211.939542,
           "season": 7521,
           "timestamp": "2022-10-05T23:00:11",
           "unharvestable_pods": 713650760.291915,
           "unharvestable_ratio": 0.9253638299929857,
           "value": 713650760.291915,
           "variable": "unharvestable_pods"
          },
          {
           "harvestable_pods": 23.012785993516445,
           "harvested_pods": 57560211.939542,
           "season": 7521,
           "timestamp": "2022-10-05T23:00:11",
           "unharvestable_pods": 713650760.291915,
           "unharvestable_ratio": 0.9253638299929857,
           "value": 57560211.939542,
           "variable": "harvested_pods"
          },
          {
           "harvestable_pods": 23.012785993516445,
           "harvested_pods": 57560211.939542,
           "season": 7521,
           "timestamp": "2022-10-05T23:00:11",
           "unharvestable_pods": 713650760.291915,
           "unharvestable_ratio": 0.9253638299929857,
           "value": 23.012785993516445,
           "variable": "harvestable_pods"
          },
          {
           "harvestable_pods": 23.012785993516445,
           "harvested_pods": 57560211.939542,
           "season": 7545,
           "timestamp": "2022-10-06T23:00:11",
           "unharvestable_pods": 713691091.511716,
           "unharvestable_ratio": 0.9253677329590805,
           "value": 0.9253677329590805,
           "variable": "unharvestable_ratio"
          },
          {
           "harvestable_pods": 23.012785993516445,
           "harvested_pods": 57560211.939542,
           "season": 7545,
           "timestamp": "2022-10-06T23:00:11",
           "unharvestable_pods": 713691091.511716,
           "unharvestable_ratio": 0.9253677329590805,
           "value": 23.012785993516445,
           "variable": "harvestable_pods"
          },
          {
           "harvestable_pods": 23.012785993516445,
           "harvested_pods": 57560211.939542,
           "season": 7545,
           "timestamp": "2022-10-06T23:00:11",
           "unharvestable_pods": 713691091.511716,
           "unharvestable_ratio": 0.9253677329590805,
           "value": 713691091.511716,
           "variable": "unharvestable_pods"
          },
          {
           "harvestable_pods": 23.012785993516445,
           "harvested_pods": 57560211.939542,
           "season": 7545,
           "timestamp": "2022-10-06T23:00:11",
           "unharvestable_pods": 713691091.511716,
           "unharvestable_ratio": 0.9253677329590805,
           "value": 57560211.939542,
           "variable": "harvested_pods"
          },
          {
           "harvestable_pods": 158.47343900054693,
           "harvested_pods": 57560211.939542,
           "season": 7569,
           "timestamp": "2022-10-07T23:00:11",
           "unharvestable_pods": 713832588.672594,
           "unharvestable_ratio": 0.9253812603096426,
           "value": 0.9253812603096426,
           "variable": "unharvestable_ratio"
          },
          {
           "harvestable_pods": 158.47343900054693,
           "harvested_pods": 57560211.939542,
           "season": 7569,
           "timestamp": "2022-10-07T23:00:11",
           "unharvestable_pods": 713832588.672594,
           "unharvestable_ratio": 0.9253812603096426,
           "value": 713832588.672594,
           "variable": "unharvestable_pods"
          },
          {
           "harvestable_pods": 158.47343900054693,
           "harvested_pods": 57560211.939542,
           "season": 7569,
           "timestamp": "2022-10-07T23:00:11",
           "unharvestable_pods": 713832588.672594,
           "unharvestable_ratio": 0.9253812603096426,
           "value": 57560211.939542,
           "variable": "harvested_pods"
          },
          {
           "harvestable_pods": 158.47343900054693,
           "harvested_pods": 57560211.939542,
           "season": 7569,
           "timestamp": "2022-10-07T23:00:11",
           "unharvestable_pods": 713832588.672594,
           "unharvestable_ratio": 0.9253812603096426,
           "value": 158.47343900054693,
           "variable": "harvestable_pods"
          },
          {
           "harvestable_pods": 172.44796899706125,
           "harvested_pods": 57560211.939542,
           "season": 7593,
           "timestamp": "2022-10-08T23:00:11",
           "unharvestable_pods": 713856502.111691,
           "unharvestable_ratio": 0.9253835566800617,
           "value": 172.44796899706125,
           "variable": "harvestable_pods"
          },
          {
           "harvestable_pods": 172.44796899706125,
           "harvested_pods": 57560211.939542,
           "season": 7593,
           "timestamp": "2022-10-08T23:00:11",
           "unharvestable_pods": 713856502.111691,
           "unharvestable_ratio": 0.9253835566800617,
           "value": 0.9253835566800617,
           "variable": "unharvestable_ratio"
          },
          {
           "harvestable_pods": 172.44796899706125,
           "harvested_pods": 57560211.939542,
           "season": 7593,
           "timestamp": "2022-10-08T23:00:11",
           "unharvestable_pods": 713856502.111691,
           "unharvestable_ratio": 0.9253835566800617,
           "value": 713856502.111691,
           "variable": "unharvestable_pods"
          },
          {
           "harvestable_pods": 172.44796899706125,
           "harvested_pods": 57560211.939542,
           "season": 7593,
           "timestamp": "2022-10-08T23:00:11",
           "unharvestable_pods": 713856502.111691,
           "unharvestable_ratio": 0.9253835566800617,
           "value": 57560211.939542,
           "variable": "harvested_pods"
          },
          {
           "harvestable_pods": 172.44796899706125,
           "harvested_pods": 57560211.939542,
           "season": 7617,
           "timestamp": "2022-10-09T23:00:11",
           "unharvestable_pods": 713856506.149431,
           "unharvestable_ratio": 0.925383557070618,
           "value": 0.925383557070618,
           "variable": "unharvestable_ratio"
          },
          {
           "harvestable_pods": 172.44796899706125,
           "harvested_pods": 57560211.939542,
           "season": 7617,
           "timestamp": "2022-10-09T23:00:11",
           "unharvestable_pods": 713856506.149431,
           "unharvestable_ratio": 0.925383557070618,
           "value": 172.44796899706125,
           "variable": "harvestable_pods"
          },
          {
           "harvestable_pods": 172.44796899706125,
           "harvested_pods": 57560211.939542,
           "season": 7617,
           "timestamp": "2022-10-09T23:00:11",
           "unharvestable_pods": 713856506.149431,
           "unharvestable_ratio": 0.925383557070618,
           "value": 713856506.149431,
           "variable": "unharvestable_pods"
          },
          {
           "harvestable_pods": 172.44796899706125,
           "harvested_pods": 57560211.939542,
           "season": 7617,
           "timestamp": "2022-10-09T23:00:11",
           "unharvestable_pods": 713856506.149431,
           "unharvestable_ratio": 0.925383557070618,
           "value": 57560211.939542,
           "variable": "harvested_pods"
          },
          {
           "harvestable_pods": 172.44796899706125,
           "harvested_pods": 57560211.939542,
           "season": 7641,
           "timestamp": "2022-10-10T23:00:11",
           "unharvestable_pods": 713861025.439469,
           "unharvestable_ratio": 0.9253839942030893,
           "value": 713861025.439469,
           "variable": "unharvestable_pods"
          },
          {
           "harvestable_pods": 172.44796899706125,
           "harvested_pods": 57560211.939542,
           "season": 7641,
           "timestamp": "2022-10-10T23:00:11",
           "unharvestable_pods": 713861025.439469,
           "unharvestable_ratio": 0.9253839942030893,
           "value": 57560211.939542,
           "variable": "harvested_pods"
          },
          {
           "harvestable_pods": 172.44796899706125,
           "harvested_pods": 57560211.939542,
           "season": 7641,
           "timestamp": "2022-10-10T23:00:11",
           "unharvestable_pods": 713861025.439469,
           "unharvestable_ratio": 0.9253839942030893,
           "value": 172.44796899706125,
           "variable": "harvestable_pods"
          },
          {
           "harvestable_pods": 172.44796899706125,
           "harvested_pods": 57560211.939542,
           "season": 7641,
           "timestamp": "2022-10-10T23:00:11",
           "unharvestable_pods": 713861025.439469,
           "unharvestable_ratio": 0.9253839942030893,
           "value": 0.9253839942030893,
           "variable": "unharvestable_ratio"
          },
          {
           "harvestable_pods": 599.9993169978261,
           "harvested_pods": 57560211.939542,
           "season": 7665,
           "timestamp": "2022-10-11T23:00:11",
           "unharvestable_pods": 713870648.093422,
           "unharvestable_ratio": 0.9253844120688955,
           "value": 0.9253844120688955,
           "variable": "unharvestable_ratio"
          },
          {
           "harvestable_pods": 599.9993169978261,
           "harvested_pods": 57560211.939542,
           "season": 7665,
           "timestamp": "2022-10-11T23:00:11",
           "unharvestable_pods": 713870648.093422,
           "unharvestable_ratio": 0.9253844120688955,
           "value": 713870648.093422,
           "variable": "unharvestable_pods"
          },
          {
           "harvestable_pods": 599.9993169978261,
           "harvested_pods": 57560211.939542,
           "season": 7665,
           "timestamp": "2022-10-11T23:00:11",
           "unharvestable_pods": 713870648.093422,
           "unharvestable_ratio": 0.9253844120688955,
           "value": 57560211.939542,
           "variable": "harvested_pods"
          },
          {
           "harvestable_pods": 599.9993169978261,
           "harvested_pods": 57560211.939542,
           "season": 7665,
           "timestamp": "2022-10-11T23:00:11",
           "unharvestable_pods": 713870648.093422,
           "unharvestable_ratio": 0.9253844120688955,
           "value": 599.9993169978261,
           "variable": "harvestable_pods"
          },
          {
           "harvestable_pods": 1422.7234509959817,
           "harvested_pods": 57560211.939542,
           "season": 7689,
           "timestamp": "2022-10-12T23:00:11",
           "unharvestable_pods": 713871658.645513,
           "unharvestable_ratio": 0.9253835229017354,
           "value": 713871658.645513,
           "variable": "unharvestable_pods"
          },
          {
           "harvestable_pods": 1422.7234509959817,
           "harvested_pods": 57560211.939542,
           "season": 7689,
           "timestamp": "2022-10-12T23:00:11",
           "unharvestable_pods": 713871658.645513,
           "unharvestable_ratio": 0.9253835229017354,
           "value": 57560211.939542,
           "variable": "harvested_pods"
          },
          {
           "harvestable_pods": 1422.7234509959817,
           "harvested_pods": 57560211.939542,
           "season": 7689,
           "timestamp": "2022-10-12T23:00:11",
           "unharvestable_pods": 713871658.645513,
           "unharvestable_ratio": 0.9253835229017354,
           "value": 1422.7234509959817,
           "variable": "harvestable_pods"
          },
          {
           "harvestable_pods": 1422.7234509959817,
           "harvested_pods": 57560211.939542,
           "season": 7689,
           "timestamp": "2022-10-12T23:00:11",
           "unharvestable_pods": 713871658.645513,
           "unharvestable_ratio": 0.9253835229017354,
           "value": 0.9253835229017354,
           "variable": "unharvestable_ratio"
          },
          {
           "harvestable_pods": 1779.2332119941711,
           "harvested_pods": 57560211.939542,
           "season": 7713,
           "timestamp": "2022-10-13T23:00:11",
           "unharvestable_pods": 713881926.8813709,
           "unharvestable_ratio": 0.9253840884273904,
           "value": 57560211.939542,
           "variable": "harvested_pods"
          },
          {
           "harvestable_pods": 1779.2332119941711,
           "harvested_pods": 57560211.939542,
           "season": 7713,
           "timestamp": "2022-10-13T23:00:11",
           "unharvestable_pods": 713881926.8813709,
           "unharvestable_ratio": 0.9253840884273904,
           "value": 1779.2332119941711,
           "variable": "harvestable_pods"
          },
          {
           "harvestable_pods": 1779.2332119941711,
           "harvested_pods": 57560211.939542,
           "season": 7713,
           "timestamp": "2022-10-13T23:00:11",
           "unharvestable_pods": 713881926.8813709,
           "unharvestable_ratio": 0.9253840884273904,
           "value": 713881926.8813709,
           "variable": "unharvestable_pods"
          },
          {
           "harvestable_pods": 1779.2332119941711,
           "harvested_pods": 57560211.939542,
           "season": 7713,
           "timestamp": "2022-10-13T23:00:11",
           "unharvestable_pods": 713881926.8813709,
           "unharvestable_ratio": 0.9253840884273904,
           "value": 0.9253840884273904,
           "variable": "unharvestable_ratio"
          },
          {
           "harvestable_pods": 2175.0126959979534,
           "harvested_pods": 57560211.939542,
           "season": 7737,
           "timestamp": "2022-10-14T23:00:11",
           "unharvestable_pods": 713881342.202204,
           "unharvestable_ratio": 0.9253835571191557,
           "value": 0.9253835571191557,
           "variable": "unharvestable_ratio"
          },
          {
           "harvestable_pods": 2175.0126959979534,
           "harvested_pods": 57560211.939542,
           "season": 7737,
           "timestamp": "2022-10-14T23:00:11",
           "unharvestable_pods": 713881342.202204,
           "unharvestable_ratio": 0.9253835571191557,
           "value": 2175.0126959979534,
           "variable": "harvestable_pods"
          },
          {
           "harvestable_pods": 2175.0126959979534,
           "harvested_pods": 57560211.939542,
           "season": 7737,
           "timestamp": "2022-10-14T23:00:11",
           "unharvestable_pods": 713881342.202204,
           "unharvestable_ratio": 0.9253835571191557,
           "value": 713881342.202204,
           "variable": "unharvestable_pods"
          },
          {
           "harvestable_pods": 2175.0126959979534,
           "harvested_pods": 57560211.939542,
           "season": 7737,
           "timestamp": "2022-10-14T23:00:11",
           "unharvestable_pods": 713881342.202204,
           "unharvestable_ratio": 0.9253835571191557,
           "value": 57560211.939542,
           "variable": "harvested_pods"
          },
          {
           "harvestable_pods": 2342.7469500005245,
           "harvested_pods": 57560211.939542,
           "season": 7761,
           "timestamp": "2022-10-15T23:00:11",
           "unharvestable_pods": 713881090.605566,
           "unharvestable_ratio": 0.9253833315786799,
           "value": 713881090.605566,
           "variable": "unharvestable_pods"
          },
          {
           "harvestable_pods": 2342.7469500005245,
           "harvested_pods": 57560211.939542,
           "season": 7761,
           "timestamp": "2022-10-15T23:00:11",
           "unharvestable_pods": 713881090.605566,
           "unharvestable_ratio": 0.9253833315786799,
           "value": 57560211.939542,
           "variable": "harvested_pods"
          },
          {
           "harvestable_pods": 2342.7469500005245,
           "harvested_pods": 57560211.939542,
           "season": 7761,
           "timestamp": "2022-10-15T23:00:11",
           "unharvestable_pods": 713881090.605566,
           "unharvestable_ratio": 0.9253833315786799,
           "value": 2342.7469500005245,
           "variable": "harvestable_pods"
          },
          {
           "harvestable_pods": 2342.7469500005245,
           "harvested_pods": 57560211.939542,
           "season": 7761,
           "timestamp": "2022-10-15T23:00:11",
           "unharvestable_pods": 713881090.605566,
           "unharvestable_ratio": 0.9253833315786799,
           "value": 0.9253833315786799,
           "variable": "unharvestable_ratio"
          },
          {
           "harvestable_pods": 2342.7469500005245,
           "harvested_pods": 57560211.939542,
           "season": 7785,
           "timestamp": "2022-10-16T23:00:11",
           "unharvestable_pods": 713881090.617053,
           "unharvestable_ratio": 0.9253833315797909,
           "value": 713881090.617053,
           "variable": "unharvestable_pods"
          },
          {
           "harvestable_pods": 2342.7469500005245,
           "harvested_pods": 57560211.939542,
           "season": 7785,
           "timestamp": "2022-10-16T23:00:11",
           "unharvestable_pods": 713881090.617053,
           "unharvestable_ratio": 0.9253833315797909,
           "value": 57560211.939542,
           "variable": "harvested_pods"
          },
          {
           "harvestable_pods": 2342.7469500005245,
           "harvested_pods": 57560211.939542,
           "season": 7785,
           "timestamp": "2022-10-16T23:00:11",
           "unharvestable_pods": 713881090.617053,
           "unharvestable_ratio": 0.9253833315797909,
           "value": 2342.7469500005245,
           "variable": "harvestable_pods"
          },
          {
           "harvestable_pods": 2342.7469500005245,
           "harvested_pods": 57560211.939542,
           "season": 7785,
           "timestamp": "2022-10-16T23:00:11",
           "unharvestable_pods": 713881090.617053,
           "unharvestable_ratio": 0.9253833315797909,
           "value": 0.9253833315797909,
           "variable": "unharvestable_ratio"
          },
          {
           "harvestable_pods": 3090.6734249964356,
           "harvested_pods": 57560211.939542,
           "season": 7809,
           "timestamp": "2022-10-17T23:00:11",
           "unharvestable_pods": 713887360.985649,
           "unharvestable_ratio": 0.9253830409005688,
           "value": 0.9253830409005688,
           "variable": "unharvestable_ratio"
          },
          {
           "harvestable_pods": 3090.6734249964356,
           "harvested_pods": 57560211.939542,
           "season": 7809,
           "timestamp": "2022-10-17T23:00:11",
           "unharvestable_pods": 713887360.985649,
           "unharvestable_ratio": 0.9253830409005688,
           "value": 3090.6734249964356,
           "variable": "harvestable_pods"
          },
          {
           "harvestable_pods": 3090.6734249964356,
           "harvested_pods": 57560211.939542,
           "season": 7809,
           "timestamp": "2022-10-17T23:00:11",
           "unharvestable_pods": 713887360.985649,
           "unharvestable_ratio": 0.9253830409005688,
           "value": 713887360.985649,
           "variable": "unharvestable_pods"
          },
          {
           "harvestable_pods": 3090.6734249964356,
           "harvested_pods": 57560211.939542,
           "season": 7809,
           "timestamp": "2022-10-17T23:00:11",
           "unharvestable_pods": 713887360.985649,
           "unharvestable_ratio": 0.9253830409005688,
           "value": 57560211.939542,
           "variable": "harvested_pods"
          },
          {
           "harvestable_pods": 4287.43548399955,
           "harvested_pods": 57560211.939542,
           "season": 7833,
           "timestamp": "2022-10-18T23:00:11",
           "unharvestable_pods": 713972710.238109,
           "unharvestable_ratio": 0.9253898598048304,
           "value": 713972710.238109,
           "variable": "unharvestable_pods"
          },
          {
           "harvestable_pods": 4287.43548399955,
           "harvested_pods": 57560211.939542,
           "season": 7833,
           "timestamp": "2022-10-18T23:00:11",
           "unharvestable_pods": 713972710.238109,
           "unharvestable_ratio": 0.9253898598048304,
           "value": 57560211.939542,
           "variable": "harvested_pods"
          },
          {
           "harvestable_pods": 4287.43548399955,
           "harvested_pods": 57560211.939542,
           "season": 7833,
           "timestamp": "2022-10-18T23:00:11",
           "unharvestable_pods": 713972710.238109,
           "unharvestable_ratio": 0.9253898598048304,
           "value": 4287.43548399955,
           "variable": "harvestable_pods"
          },
          {
           "harvestable_pods": 4287.43548399955,
           "harvested_pods": 57560211.939542,
           "season": 7833,
           "timestamp": "2022-10-18T23:00:11",
           "unharvestable_pods": 713972710.238109,
           "unharvestable_ratio": 0.9253898598048304,
           "value": 0.9253898598048304,
           "variable": "unharvestable_ratio"
          },
          {
           "harvestable_pods": 0,
           "harvested_pods": 57566395.274156,
           "season": 7857,
           "timestamp": "2022-10-19T23:00:11",
           "unharvestable_pods": 713978773.709326,
           "unharvestable_ratio": 0.9253881722180954,
           "value": 713978773.709326,
           "variable": "unharvestable_pods"
          },
          {
           "harvestable_pods": 0,
           "harvested_pods": 57566395.274156,
           "season": 7857,
           "timestamp": "2022-10-19T23:00:11",
           "unharvestable_pods": 713978773.709326,
           "unharvestable_ratio": 0.9253881722180954,
           "value": 57566395.274156,
           "variable": "harvested_pods"
          },
          {
           "harvestable_pods": 0,
           "harvested_pods": 57566395.274156,
           "season": 7857,
           "timestamp": "2022-10-19T23:00:11",
           "unharvestable_pods": 713978773.709326,
           "unharvestable_ratio": 0.9253881722180954,
           "value": 0,
           "variable": "harvestable_pods"
          },
          {
           "harvestable_pods": 0,
           "harvested_pods": 57566395.274156,
           "season": 7857,
           "timestamp": "2022-10-19T23:00:11",
           "unharvestable_pods": 713978773.709326,
           "unharvestable_ratio": 0.9253881722180954,
           "value": 0.9253881722180954,
           "variable": "unharvestable_ratio"
          },
          {
           "harvestable_pods": 1584.3018470034003,
           "harvested_pods": 57566395.274156,
           "season": 7881,
           "timestamp": "2022-10-20T23:00:11",
           "unharvestable_pods": 713976397.2566401,
           "unharvestable_ratio": 0.9253860421971682,
           "value": 0.9253860421971682,
           "variable": "unharvestable_ratio"
          },
          {
           "harvestable_pods": 1584.3018470034003,
           "harvested_pods": 57566395.274156,
           "season": 7881,
           "timestamp": "2022-10-20T23:00:11",
           "unharvestable_pods": 713976397.2566401,
           "unharvestable_ratio": 0.9253860421971682,
           "value": 1584.3018470034003,
           "variable": "harvestable_pods"
          },
          {
           "harvestable_pods": 1584.3018470034003,
           "harvested_pods": 57566395.274156,
           "season": 7881,
           "timestamp": "2022-10-20T23:00:11",
           "unharvestable_pods": 713976397.2566401,
           "unharvestable_ratio": 0.9253860421971682,
           "value": 713976397.2566401,
           "variable": "unharvestable_pods"
          },
          {
           "harvestable_pods": 1584.3018470034003,
           "harvested_pods": 57566395.274156,
           "season": 7881,
           "timestamp": "2022-10-20T23:00:11",
           "unharvestable_pods": 713976397.2566401,
           "unharvestable_ratio": 0.9253860421971682,
           "value": 57566395.274156,
           "variable": "harvested_pods"
          },
          {
           "harvestable_pods": 2019.8237340003252,
           "harvested_pods": 57566395.274156,
           "season": 7905,
           "timestamp": "2022-10-21T23:00:11",
           "unharvestable_pods": 713995901.229468,
           "unharvestable_ratio": 0.9253874059755441,
           "value": 713995901.229468,
           "variable": "unharvestable_pods"
          },
          {
           "harvestable_pods": 2019.8237340003252,
           "harvested_pods": 57566395.274156,
           "season": 7905,
           "timestamp": "2022-10-21T23:00:11",
           "unharvestable_pods": 713995901.229468,
           "unharvestable_ratio": 0.9253874059755441,
           "value": 57566395.274156,
           "variable": "harvested_pods"
          },
          {
           "harvestable_pods": 2019.8237340003252,
           "harvested_pods": 57566395.274156,
           "season": 7905,
           "timestamp": "2022-10-21T23:00:11",
           "unharvestable_pods": 713995901.229468,
           "unharvestable_ratio": 0.9253874059755441,
           "value": 2019.8237340003252,
           "variable": "harvestable_pods"
          },
          {
           "harvestable_pods": 2019.8237340003252,
           "harvested_pods": 57566395.274156,
           "season": 7905,
           "timestamp": "2022-10-21T23:00:11",
           "unharvestable_pods": 713995901.229468,
           "unharvestable_ratio": 0.9253874059755441,
           "value": 0.9253874059755441,
           "variable": "unharvestable_ratio"
          },
          {
           "harvestable_pods": 5053.79625300318,
           "harvested_pods": 57566395.274156,
           "season": 7929,
           "timestamp": "2022-10-22T23:00:23",
           "unharvestable_pods": 713992471.5211401,
           "unharvestable_ratio": 0.9253834354692615,
           "value": 713992471.5211401,
           "variable": "unharvestable_pods"
          },
          {
           "harvestable_pods": 5053.79625300318,
           "harvested_pods": 57566395.274156,
           "season": 7929,
           "timestamp": "2022-10-22T23:00:23",
           "unharvestable_pods": 713992471.5211401,
           "unharvestable_ratio": 0.9253834354692615,
           "value": 57566395.274156,
           "variable": "harvested_pods"
          },
          {
           "harvestable_pods": 5053.79625300318,
           "harvested_pods": 57566395.274156,
           "season": 7929,
           "timestamp": "2022-10-22T23:00:23",
           "unharvestable_pods": 713992471.5211401,
           "unharvestable_ratio": 0.9253834354692615,
           "value": 5053.79625300318,
           "variable": "harvestable_pods"
          },
          {
           "harvestable_pods": 5053.79625300318,
           "harvested_pods": 57566395.274156,
           "season": 7929,
           "timestamp": "2022-10-22T23:00:23",
           "unharvestable_pods": 713992471.5211401,
           "unharvestable_ratio": 0.9253834354692615,
           "value": 0.9253834354692615,
           "variable": "unharvestable_ratio"
          },
          {
           "harvestable_pods": 5053.79625300318,
           "harvested_pods": 57566395.274156,
           "season": 7953,
           "timestamp": "2022-10-23T23:00:11",
           "unharvestable_pods": 714041044.3811729,
           "unharvestable_ratio": 0.9253881325678385,
           "value": 714041044.3811729,
           "variable": "unharvestable_pods"
          },
          {
           "harvestable_pods": 5053.79625300318,
           "harvested_pods": 57566395.274156,
           "season": 7953,
           "timestamp": "2022-10-23T23:00:11",
           "unharvestable_pods": 714041044.3811729,
           "unharvestable_ratio": 0.9253881325678385,
           "value": 57566395.274156,
           "variable": "harvested_pods"
          },
          {
           "harvestable_pods": 5053.79625300318,
           "harvested_pods": 57566395.274156,
           "season": 7953,
           "timestamp": "2022-10-23T23:00:11",
           "unharvestable_pods": 714041044.3811729,
           "unharvestable_ratio": 0.9253881325678385,
           "value": 5053.79625300318,
           "variable": "harvestable_pods"
          },
          {
           "harvestable_pods": 5053.79625300318,
           "harvested_pods": 57566395.274156,
           "season": 7953,
           "timestamp": "2022-10-23T23:00:11",
           "unharvestable_pods": 714041044.3811729,
           "unharvestable_ratio": 0.9253881325678385,
           "value": 0.9253881325678385,
           "variable": "unharvestable_ratio"
          },
          {
           "harvestable_pods": 9967.559969000518,
           "harvested_pods": 57566395.274156,
           "season": 7977,
           "timestamp": "2022-10-24T23:00:11",
           "unharvestable_pods": 714034791.9952079,
           "unharvestable_ratio": 0.9253816349416826,
           "value": 9967.559969000518,
           "variable": "harvestable_pods"
          },
          {
           "harvestable_pods": 9967.559969000518,
           "harvested_pods": 57566395.274156,
           "season": 7977,
           "timestamp": "2022-10-24T23:00:11",
           "unharvestable_pods": 714034791.9952079,
           "unharvestable_ratio": 0.9253816349416826,
           "value": 0.9253816349416826,
           "variable": "unharvestable_ratio"
          },
          {
           "harvestable_pods": 9967.559969000518,
           "harvested_pods": 57566395.274156,
           "season": 7977,
           "timestamp": "2022-10-24T23:00:11",
           "unharvestable_pods": 714034791.9952079,
           "unharvestable_ratio": 0.9253816349416826,
           "value": 714034791.9952079,
           "variable": "unharvestable_pods"
          },
          {
           "harvestable_pods": 9967.559969000518,
           "harvested_pods": 57566395.274156,
           "season": 7977,
           "timestamp": "2022-10-24T23:00:11",
           "unharvestable_pods": 714034791.9952079,
           "unharvestable_ratio": 0.9253816349416826,
           "value": 57566395.274156,
           "variable": "harvested_pods"
          },
          {
           "harvestable_pods": 4016.65012999624,
           "harvested_pods": 57577412.647476,
           "season": 8001,
           "timestamp": "2022-10-25T23:00:11",
           "unharvestable_pods": 714027192.299523,
           "unharvestable_ratio": 0.9253748238602881,
           "value": 0.9253748238602881,
           "variable": "unharvestable_ratio"
          },
          {
           "harvestable_pods": 4016.65012999624,
           "harvested_pods": 57577412.647476,
           "season": 8001,
           "timestamp": "2022-10-25T23:00:11",
           "unharvestable_pods": 714027192.299523,
           "unharvestable_ratio": 0.9253748238602881,
           "value": 4016.65012999624,
           "variable": "harvestable_pods"
          },
          {
           "harvestable_pods": 4016.65012999624,
           "harvested_pods": 57577412.647476,
           "season": 8001,
           "timestamp": "2022-10-25T23:00:11",
           "unharvestable_pods": 714027192.299523,
           "unharvestable_ratio": 0.9253748238602881,
           "value": 57577412.647476,
           "variable": "harvested_pods"
          },
          {
           "harvestable_pods": 4016.65012999624,
           "harvested_pods": 57577412.647476,
           "season": 8001,
           "timestamp": "2022-10-25T23:00:11",
           "unharvestable_pods": 714027192.299523,
           "unharvestable_ratio": 0.9253748238602881,
           "value": 714027192.299523,
           "variable": "unharvestable_pods"
          },
          {
           "harvestable_pods": 13468.923271998763,
           "harvested_pods": 57577412.647476,
           "season": 8025,
           "timestamp": "2022-10-26T23:00:11",
           "unharvestable_pods": 714012506.156442,
           "unharvestable_ratio": 0.9253620674989701,
           "value": 714012506.156442,
           "variable": "unharvestable_pods"
          },
          {
           "harvestable_pods": 13468.923271998763,
           "harvested_pods": 57577412.647476,
           "season": 8025,
           "timestamp": "2022-10-26T23:00:11",
           "unharvestable_pods": 714012506.156442,
           "unharvestable_ratio": 0.9253620674989701,
           "value": 57577412.647476,
           "variable": "harvested_pods"
          },
          {
           "harvestable_pods": 13468.923271998763,
           "harvested_pods": 57577412.647476,
           "season": 8025,
           "timestamp": "2022-10-26T23:00:11",
           "unharvestable_pods": 714012506.156442,
           "unharvestable_ratio": 0.9253620674989701,
           "value": 13468.923271998763,
           "variable": "harvestable_pods"
          },
          {
           "harvestable_pods": 13468.923271998763,
           "harvested_pods": 57577412.647476,
           "season": 8025,
           "timestamp": "2022-10-26T23:00:11",
           "unharvestable_pods": 714012506.156442,
           "unharvestable_ratio": 0.9253620674989701,
           "value": 0.9253620674989701,
           "variable": "unharvestable_ratio"
          },
          {
           "harvestable_pods": 19817.950658999383,
           "harvested_pods": 57577412.647476,
           "season": 8049,
           "timestamp": "2022-10-27T23:00:11",
           "unharvestable_pods": 714002982.61603,
           "unharvestable_ratio": 0.9253535320341489,
           "value": 714002982.61603,
           "variable": "unharvestable_pods"
          },
          {
           "harvestable_pods": 19817.950658999383,
           "harvested_pods": 57577412.647476,
           "season": 8049,
           "timestamp": "2022-10-27T23:00:11",
           "unharvestable_pods": 714002982.61603,
           "unharvestable_ratio": 0.9253535320341489,
           "value": 57577412.647476,
           "variable": "harvested_pods"
          },
          {
           "harvestable_pods": 19817.950658999383,
           "harvested_pods": 57577412.647476,
           "season": 8049,
           "timestamp": "2022-10-27T23:00:11",
           "unharvestable_pods": 714002982.61603,
           "unharvestable_ratio": 0.9253535320341489,
           "value": 19817.950658999383,
           "variable": "harvestable_pods"
          },
          {
           "harvestable_pods": 19817.950658999383,
           "harvested_pods": 57577412.647476,
           "season": 8049,
           "timestamp": "2022-10-27T23:00:11",
           "unharvestable_pods": 714002982.61603,
           "unharvestable_ratio": 0.9253535320341489,
           "value": 0.9253535320341489,
           "variable": "unharvestable_ratio"
          },
          {
           "harvestable_pods": 28623.52862700075,
           "harvested_pods": 57577412.647476,
           "season": 8073,
           "timestamp": "2022-10-28T23:00:11",
           "unharvestable_pods": 713992293.924497,
           "unharvestable_ratio": 0.9253419377299684,
           "value": 0.9253419377299684,
           "variable": "unharvestable_ratio"
          },
          {
           "harvestable_pods": 28623.52862700075,
           "harvested_pods": 57577412.647476,
           "season": 8073,
           "timestamp": "2022-10-28T23:00:11",
           "unharvestable_pods": 713992293.924497,
           "unharvestable_ratio": 0.9253419377299684,
           "value": 28623.52862700075,
           "variable": "harvestable_pods"
          },
          {
           "harvestable_pods": 28623.52862700075,
           "harvested_pods": 57577412.647476,
           "season": 8073,
           "timestamp": "2022-10-28T23:00:11",
           "unharvestable_pods": 713992293.924497,
           "unharvestable_ratio": 0.9253419377299684,
           "value": 713992293.924497,
           "variable": "unharvestable_pods"
          },
          {
           "harvestable_pods": 28623.52862700075,
           "harvested_pods": 57577412.647476,
           "season": 8073,
           "timestamp": "2022-10-28T23:00:11",
           "unharvestable_pods": 713992293.924497,
           "unharvestable_ratio": 0.9253419377299684,
           "value": 57577412.647476,
           "variable": "harvested_pods"
          },
          {
           "harvestable_pods": 2037.1121159940958,
           "harvested_pods": 57607303.554024,
           "season": 8097,
           "timestamp": "2022-10-29T23:00:11",
           "unharvestable_pods": 713991942.594104,
           "unharvestable_ratio": 0.9253379408303685,
           "value": 713991942.594104,
           "variable": "unharvestable_pods"
          },
          {
           "harvestable_pods": 2037.1121159940958,
           "harvested_pods": 57607303.554024,
           "season": 8097,
           "timestamp": "2022-10-29T23:00:11",
           "unharvestable_pods": 713991942.594104,
           "unharvestable_ratio": 0.9253379408303685,
           "value": 57607303.554024,
           "variable": "harvested_pods"
          },
          {
           "harvestable_pods": 2037.1121159940958,
           "harvested_pods": 57607303.554024,
           "season": 8097,
           "timestamp": "2022-10-29T23:00:11",
           "unharvestable_pods": 713991942.594104,
           "unharvestable_ratio": 0.9253379408303685,
           "value": 2037.1121159940958,
           "variable": "harvestable_pods"
          },
          {
           "harvestable_pods": 2037.1121159940958,
           "harvested_pods": 57607303.554024,
           "season": 8097,
           "timestamp": "2022-10-29T23:00:11",
           "unharvestable_pods": 713991942.594104,
           "unharvestable_ratio": 0.9253379408303685,
           "value": 0.9253379408303685,
           "variable": "unharvestable_ratio"
          },
          {
           "harvestable_pods": 14622.247429996729,
           "harvested_pods": 57607303.554024,
           "season": 8121,
           "timestamp": "2022-10-30T23:00:11",
           "unharvestable_pods": 713973064.8906721,
           "unharvestable_ratio": 0.9253210213952184,
           "value": 14622.247429996729,
           "variable": "harvestable_pods"
          },
          {
           "harvestable_pods": 14622.247429996729,
           "harvested_pods": 57607303.554024,
           "season": 8121,
           "timestamp": "2022-10-30T23:00:11",
           "unharvestable_pods": 713973064.8906721,
           "unharvestable_ratio": 0.9253210213952184,
           "value": 0.9253210213952184,
           "variable": "unharvestable_ratio"
          },
          {
           "harvestable_pods": 14622.247429996729,
           "harvested_pods": 57607303.554024,
           "season": 8121,
           "timestamp": "2022-10-30T23:00:11",
           "unharvestable_pods": 713973064.8906721,
           "unharvestable_ratio": 0.9253210213952184,
           "value": 57607303.554024,
           "variable": "harvested_pods"
          },
          {
           "harvestable_pods": 14622.247429996729,
           "harvested_pods": 57607303.554024,
           "season": 8121,
           "timestamp": "2022-10-30T23:00:11",
           "unharvestable_pods": 713973064.8906721,
           "unharvestable_ratio": 0.9253210213952184,
           "value": 713973064.8906721,
           "variable": "unharvestable_pods"
          },
          {
           "harvestable_pods": 21461.35740699619,
           "harvested_pods": 57607303.554024,
           "season": 8145,
           "timestamp": "2022-10-31T23:00:11",
           "unharvestable_pods": 713961770.484684,
           "unharvestable_ratio": 0.9253117265340148,
           "value": 713961770.484684,
           "variable": "unharvestable_pods"
          },
          {
           "harvestable_pods": 21461.35740699619,
           "harvested_pods": 57607303.554024,
           "season": 8145,
           "timestamp": "2022-10-31T23:00:11",
           "unharvestable_pods": 713961770.484684,
           "unharvestable_ratio": 0.9253117265340148,
           "value": 57607303.554024,
           "variable": "harvested_pods"
          },
          {
           "harvestable_pods": 21461.35740699619,
           "harvested_pods": 57607303.554024,
           "season": 8145,
           "timestamp": "2022-10-31T23:00:11",
           "unharvestable_pods": 713961770.484684,
           "unharvestable_ratio": 0.9253117265340148,
           "value": 21461.35740699619,
           "variable": "harvestable_pods"
          },
          {
           "harvestable_pods": 21461.35740699619,
           "harvested_pods": 57607303.554024,
           "season": 8145,
           "timestamp": "2022-10-31T23:00:11",
           "unharvestable_pods": 713961770.484684,
           "unharvestable_ratio": 0.9253117265340148,
           "value": 0.9253117265340148,
           "variable": "unharvestable_ratio"
          },
          {
           "harvestable_pods": 9733.702776998281,
           "harvested_pods": 57629100.744598,
           "season": 8169,
           "timestamp": "2022-11-01T23:00:11",
           "unharvestable_pods": 713945088.6034479,
           "unharvestable_ratio": 0.9252980359939686,
           "value": 713945088.6034479,
           "variable": "unharvestable_pods"
          },
          {
           "harvestable_pods": 9733.702776998281,
           "harvested_pods": 57629100.744598,
           "season": 8169,
           "timestamp": "2022-11-01T23:00:11",
           "unharvestable_pods": 713945088.6034479,
           "unharvestable_ratio": 0.9252980359939686,
           "value": 57629100.744598,
           "variable": "harvested_pods"
          },
          {
           "harvestable_pods": 9733.702776998281,
           "harvested_pods": 57629100.744598,
           "season": 8169,
           "timestamp": "2022-11-01T23:00:11",
           "unharvestable_pods": 713945088.6034479,
           "unharvestable_ratio": 0.9252980359939686,
           "value": 9733.702776998281,
           "variable": "harvestable_pods"
          },
          {
           "harvestable_pods": 9733.702776998281,
           "harvested_pods": 57629100.744598,
           "season": 8169,
           "timestamp": "2022-11-01T23:00:11",
           "unharvestable_pods": 713945088.6034479,
           "unharvestable_ratio": 0.9252980359939686,
           "value": 0.9252980359939686,
           "variable": "unharvestable_ratio"
          },
          {
           "harvestable_pods": 2375.229322999716,
           "harvested_pods": 57641789.594232,
           "season": 8193,
           "timestamp": "2022-11-02T23:00:11",
           "unharvestable_pods": 713956349.915567,
           "unharvestable_ratio": 0.9252927340995302,
           "value": 0.9252927340995302,
           "variable": "unharvestable_ratio"
          },
          {
           "harvestable_pods": 2375.229322999716,
           "harvested_pods": 57641789.594232,
           "season": 8193,
           "timestamp": "2022-11-02T23:00:11",
           "unharvestable_pods": 713956349.915567,
           "unharvestable_ratio": 0.9252927340995302,
           "value": 713956349.915567,
           "variable": "unharvestable_pods"
          },
          {
           "harvestable_pods": 2375.229322999716,
           "harvested_pods": 57641789.594232,
           "season": 8193,
           "timestamp": "2022-11-02T23:00:11",
           "unharvestable_pods": 713956349.915567,
           "unharvestable_ratio": 0.9252927340995302,
           "value": 57641789.594232,
           "variable": "harvested_pods"
          },
          {
           "harvestable_pods": 2375.229322999716,
           "harvested_pods": 57641789.594232,
           "season": 8193,
           "timestamp": "2022-11-02T23:00:11",
           "unharvestable_pods": 713956349.915567,
           "unharvestable_ratio": 0.9252927340995302,
           "value": 2375.229322999716,
           "variable": "harvestable_pods"
          },
          {
           "harvestable_pods": 11989.851322002709,
           "harvested_pods": 57641789.594232,
           "season": 8217,
           "timestamp": "2022-11-03T23:00:11",
           "unharvestable_pods": 713941284.860767,
           "unharvestable_ratio": 0.9252797456689463,
           "value": 11989.851322002709,
           "variable": "harvestable_pods"
          },
          {
           "harvestable_pods": 11989.851322002709,
           "harvested_pods": 57641789.594232,
           "season": 8217,
           "timestamp": "2022-11-03T23:00:11",
           "unharvestable_pods": 713941284.860767,
           "unharvestable_ratio": 0.9252797456689463,
           "value": 0.9252797456689463,
           "variable": "unharvestable_ratio"
          },
          {
           "harvestable_pods": 11989.851322002709,
           "harvested_pods": 57641789.594232,
           "season": 8217,
           "timestamp": "2022-11-03T23:00:11",
           "unharvestable_pods": 713941284.860767,
           "unharvestable_ratio": 0.9252797456689463,
           "value": 713941284.860767,
           "variable": "unharvestable_pods"
          },
          {
           "harvestable_pods": 11989.851322002709,
           "harvested_pods": 57641789.594232,
           "season": 8217,
           "timestamp": "2022-11-03T23:00:11",
           "unharvestable_pods": 713941284.860767,
           "unharvestable_ratio": 0.9252797456689463,
           "value": 57641789.594232,
           "variable": "harvested_pods"
          },
          {
           "harvestable_pods": 13107.69581899792,
           "harvested_pods": 57641789.594232,
           "season": 8219,
           "timestamp": "2022-11-04T01:00:11",
           "unharvestable_pods": 713939608.094002,
           "unharvestable_ratio": 0.9252782427975509,
           "value": 57641789.594232,
           "variable": "harvested_pods"
          },
          {
           "harvestable_pods": 13107.69581899792,
           "harvested_pods": 57641789.594232,
           "season": 8219,
           "timestamp": "2022-11-04T01:00:11",
           "unharvestable_pods": 713939608.094002,
           "unharvestable_ratio": 0.9252782427975509,
           "value": 13107.69581899792,
           "variable": "harvestable_pods"
          },
          {
           "harvestable_pods": 13107.69581899792,
           "harvested_pods": 57641789.594232,
           "season": 8219,
           "timestamp": "2022-11-04T01:00:11",
           "unharvestable_pods": 713939608.094002,
           "unharvestable_ratio": 0.9252782427975509,
           "value": 713939608.094002,
           "variable": "unharvestable_pods"
          },
          {
           "harvestable_pods": 13107.69581899792,
           "harvested_pods": 57641789.594232,
           "season": 8219,
           "timestamp": "2022-11-04T01:00:11",
           "unharvestable_pods": 713939608.094002,
           "unharvestable_ratio": 0.9252782427975509,
           "value": 0.9252782427975509,
           "variable": "unharvestable_ratio"
          }
         ]
        },
        "layer": [
         {
          "encoding": {
           "color": {
            "field": "variable",
            "legend": {
             "title": null
            },
            "scale": {
             "domain": [
              "unharvestable_pods",
              "harvested_pods",
              "harvestable_pods",
              "unharvestable_ratio"
             ],
             "range": [
              "#ff595e",
              "#8ac926",
              "#1982c4",
              "#6a4c93"
             ]
            },
            "type": "nominal"
           },
           "order": {
            "field": "stack_order",
            "sort": "ascending",
            "type": "quantitative"
           },
           "x": {
            "axis": {
             "formatType": "time",
             "labelAngle": 0,
             "labelExpr": "timeFormat(toDate(datum.value), '%b %e, %Y')",
             "labelOverlap": true,
             "labelPadding": 5,
             "labelSeparation": 50,
             "ticks": false,
             "title": "Date"
            },
            "field": "timestamp",
            "type": "ordinal"
           },
           "y": {
            "axis": {
             "format": ".3~s",
             "title": "Pods"
            },
            "field": "value",
            "type": "quantitative"
           }
          },
          "mark": "area",
          "title": "Pod Line Breakdown",
          "transform": [
           {
            "as": "stack_order",
            "calculate": "datum['variable'] === 'unharvestable_pods' ? 0 :  datum['variable'] === 'harvested_pods' ? 1 :  datum['variable'] === 'harvestable_pods' ? 2 :  datum['variable'] === 'unharvestable_ratio' ? 3 : 4"
           },
           {
            "filter": "datum['variable'] == 'unharvestable_pods' | datum['variable'] == 'harvested_pods' | datum['variable'] == 'harvestable_pods'"
           }
          ],
          "width": 700
         },
         {
          "layer": [
           {
            "encoding": {
             "color": {
              "field": "variable",
              "legend": {
               "title": null
              },
              "scale": {
               "domain": [
                "unharvestable_pods",
                "harvested_pods",
                "harvestable_pods",
                "unharvestable_ratio"
               ],
               "range": [
                "#ff595e",
                "#8ac926",
                "#1982c4",
                "#6a4c93"
               ]
              },
              "type": "nominal"
             },
             "order": {
              "field": "stack_order",
              "sort": "ascending",
              "type": "quantitative"
             },
             "x": {
              "axis": {
               "formatType": "time",
               "labelAngle": 0,
               "labelExpr": "timeFormat(toDate(datum.value), '%b %e, %Y')",
               "labelOverlap": true,
               "labelPadding": 5,
               "labelSeparation": 50,
               "ticks": false,
               "title": "Date"
              },
              "field": "timestamp",
              "type": "ordinal"
             },
             "y": {
              "axis": {
               "format": ".0%",
               "title": "Ratio"
              },
              "field": "value",
              "type": "quantitative"
             }
            },
            "mark": "line",
            "title": "Pod Line Breakdown",
            "transform": [
             {
              "as": "stack_order",
              "calculate": "datum['variable'] === 'unharvestable_pods' ? 0 :  datum['variable'] === 'harvested_pods' ? 1 :  datum['variable'] === 'harvestable_pods' ? 2 :  datum['variable'] === 'unharvestable_ratio' ? 3 : 4"
             },
             {
              "filter": "datum['variable'] == 'unharvestable_ratio'"
             }
            ],
            "width": 700
           },
           {
            "encoding": {
             "x": {
              "axis": {
               "formatType": "time",
               "labelAngle": 0,
               "labelExpr": "timeFormat(toDate(datum.value), '%b %e, %Y')",
               "labelOverlap": true,
               "labelPadding": 5,
               "labelSeparation": 50,
               "ticks": false,
               "title": "Date"
              },
              "field": "timestamp",
              "type": "ordinal"
             }
            },
            "mark": {
             "color": "#474440",
             "opacity": 1,
             "strokeDash": [
              2.5,
              1
             ],
             "type": "rule"
            },
            "title": "Pod Line Breakdown",
            "transform": [
             {
              "as": "stack_order",
              "calculate": "datum['variable'] === 'unharvestable_pods' ? 0 :  datum['variable'] === 'harvested_pods' ? 1 :  datum['variable'] === 'harvestable_pods' ? 2 :  datum['variable'] === 'unharvestable_ratio' ? 3 : 4"
             },
             {
              "groupby": [
               "timestamp"
              ],
              "pivot": "variable",
              "value": "value"
             },
             {
              "filter": "\n            year(datum['timestamp']) === 2022 && \n            month(datum['timestamp']) === 3 && \n            date(datum['timestamp']) === 16 \n        "
             }
            ],
            "width": 700
           },
           {
            "encoding": {
             "opacity": {
              "condition": {
               "selection": "selector010",
               "value": 1
              },
              "value": 0
             },
             "tooltip": [
              {
               "field": "timestamp",
               "timeUnit": "yearmonthdate",
               "title": "date",
               "type": "ordinal"
              },
              {
               "field": "unharvestable_pods",
               "format": ",d",
               "type": "quantitative"
              },
              {
               "field": "harvested_pods",
               "format": ",d",
               "type": "quantitative"
              },
              {
               "field": "harvestable_pods",
               "format": ",d",
               "type": "quantitative"
              },
              {
               "field": "unharvestable_ratio",
               "format": ".0%",
               "type": "quantitative"
              }
             ],
             "x": {
              "axis": {
               "formatType": "time",
               "labelAngle": 0,
               "labelExpr": "timeFormat(toDate(datum.value), '%b %e, %Y')",
               "labelOverlap": true,
               "labelPadding": 5,
               "labelSeparation": 50,
               "ticks": false,
               "title": "Date"
              },
              "field": "timestamp",
              "type": "ordinal"
             }
            },
            "mark": {
             "color": "#878787",
             "type": "rule"
            },
            "selection": {
             "selector010": {
              "clear": "mouseout",
              "empty": "none",
              "fields": [
               "timestamp"
              ],
              "nearest": true,
              "on": "mouseover",
              "type": "single"
             }
            },
            "title": "Pod Line Breakdown",
            "transform": [
             {
              "as": "stack_order",
              "calculate": "datum['variable'] === 'unharvestable_pods' ? 0 :  datum['variable'] === 'harvested_pods' ? 1 :  datum['variable'] === 'harvestable_pods' ? 2 :  datum['variable'] === 'unharvestable_ratio' ? 3 : 4"
             },
             {
              "groupby": [
               "timestamp"
              ],
              "pivot": "variable",
              "value": "value"
             }
            ],
            "width": 700
           }
          ]
         }
        ],
        "resolve": {
         "axis": {
          "y": "independent"
         },
         "scale": {
          "y": "independent"
         }
        }
       },
       "width_paths": [
        {
         "factor": 1,
         "path": [
          "config",
          "view",
          "continuousWidth"
         ],
         "value": 400
        },
        {
         "factor": 1,
         "path": [
          "layer",
          0,
          "width"
         ],
         "value": 700
        },
        {
         "factor": 1,
         "path": [
          "layer",
          1,
          "layer",
          0,
          "width"
         ],
         "value": 700
        },
        {
         "factor": 1,
         "path": [
          "layer",
          1,
          "layer",
          1,
          "width"
         ],
         "value": 700
        },
        {
         "factor": 1,
         "path": [
          "layer",
          1,
          "layer",
          2,
          "width"
         ],
         "value": 700
        }
       ]
      },
      "text/plain": [
       "<IPython.core.display.JSON object>"
      ]
     },
     "execution_count": 56,
     "metadata": {
      "application/json": {
       "expanded": false,
       "root": "root"
      }
     },
     "output_type": "execute_result"
    }
   ],
   "source": [
    "# TODO: update css for this chart \n",
    "output_chart(c, css=css)"
   ]
  }
 ],
 "metadata": {
  "kernelspec": {
   "display_name": "beanstalk",
   "language": "python",
   "name": "beanstalk"
  },
  "language_info": {
   "codemirror_mode": {
    "name": "ipython",
    "version": 3
   },
   "file_extension": ".py",
   "mimetype": "text/x-python",
   "name": "python",
   "nbconvert_exporter": "python",
   "pygments_lexer": "ipython3",
   "version": "3.10.5"
  }
 },
 "nbformat": 4,
 "nbformat_minor": 5
}
