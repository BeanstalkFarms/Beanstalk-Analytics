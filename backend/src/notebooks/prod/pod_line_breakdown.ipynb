{
 "cells": [
  {
   "cell_type": "code",
   "execution_count": 1,
   "id": "bb524f98-4f94-476c-b760-7d5dbae7938d",
   "metadata": {},
   "outputs": [
    {
     "name": "stdout",
     "output_type": "stream",
     "text": [
      "https://api.thegraph.com/subgraphs/name/cujowolf/beanstalk\n"
     ]
    }
   ],
   "source": [
    "import os \n",
    "import sys \n",
    "import json \n",
    "import logging \n",
    "from pathlib import Path \n",
    "from functools import cache\n",
    "from itertools import product\n",
    "\n",
    "# Required when developing in a jupyter-notebook environment \n",
    "cur_path = os.path.abspath(\"../..\")\n",
    "if cur_path not in sys.path: \n",
    "    sys.path.append(cur_path)\n",
    "\n",
    "import numpy as np \n",
    "import pandas as pd \n",
    "import altair as alt \n",
    "from altair import datum\n",
    "from dotenv import load_dotenv\n",
    "from subgrounds.subgrounds import Subgrounds, Subgraph\n",
    "from subgrounds.subgraph import SyntheticField\n",
    "from subgrounds.pagination import ShallowStrategy\n",
    "\n",
    "# Required when developing in a jupyter-notebook environment \n",
    "load_dotenv('../../../../.env')\n",
    "\n",
    "print(os.environ['SUBGRAPH_URL'])\n",
    "\n",
    "from utils_notebook.utils import ddf, remove_prefix, load_subgraph, remove_keys\n",
    "from utils_notebook.vega import (\n",
    "    output_chart, \n",
    "    apply_css, \n",
    "    wide_to_longwide, \n",
    "    chart, \n",
    ")\n",
    "from utils_notebook.testing import validate_season_series\n",
    "from utils_notebook.constants import ADDR_BEANSTALK\n",
    "from utils_notebook.queries import QueryManager\n",
    "from utils_notebook.css import css_tooltip_timeseries_multi_colored"
   ]
  },
  {
   "cell_type": "code",
   "execution_count": 2,
   "id": "4dda51ef-cb6a-4692-9bad-6ea39ab9c6fe",
   "metadata": {},
   "outputs": [],
   "source": [
    "sg, bs = load_subgraph()\n",
    "q = QueryManager(sg, bs) "
   ]
  },
  {
   "cell_type": "code",
   "execution_count": 3,
   "id": "f5823889",
   "metadata": {},
   "outputs": [],
   "source": [
    "@cache\n",
    "def query_field_daily_snapshots(**kwargs): \n",
    "    return q.query_field_daily_snapshots(fields=['season', 'timestamp', 'totalHarvestablePods', 'totalHarvestedPods', 'totalPods']) "
   ]
  },
  {
   "cell_type": "code",
   "execution_count": 8,
   "id": "19a0bd2a-15e2-4e6c-925b-91a138d3d7f8",
   "metadata": {},
   "outputs": [
    {
     "data": {
      "text/html": [
       "<div>\n",
       "<style scoped>\n",
       "    .dataframe tbody tr th:only-of-type {\n",
       "        vertical-align: middle;\n",
       "    }\n",
       "\n",
       "    .dataframe tbody tr th {\n",
       "        vertical-align: top;\n",
       "    }\n",
       "\n",
       "    .dataframe thead th {\n",
       "        text-align: right;\n",
       "    }\n",
       "</style>\n",
       "<table border=\"1\" class=\"dataframe\">\n",
       "  <thead>\n",
       "    <tr style=\"text-align: right;\">\n",
       "      <th></th>\n",
       "      <th>season</th>\n",
       "      <th>harvestable_pods</th>\n",
       "      <th>harvested_pods</th>\n",
       "      <th>timestamp</th>\n",
       "      <th>unharvestable_pods</th>\n",
       "      <th>unharvestable_ratio</th>\n",
       "    </tr>\n",
       "  </thead>\n",
       "  <tbody>\n",
       "    <tr>\n",
       "      <th>0</th>\n",
       "      <td>25</td>\n",
       "      <td>5049.266341</td>\n",
       "      <td>0.000000</td>\n",
       "      <td>2021-08-07 00:06:08</td>\n",
       "      <td>4899.059312</td>\n",
       "      <td>0.492451</td>\n",
       "    </tr>\n",
       "    <tr>\n",
       "      <th>1</th>\n",
       "      <td>49</td>\n",
       "      <td>337.098080</td>\n",
       "      <td>15526.430505</td>\n",
       "      <td>2021-08-08 00:08:15</td>\n",
       "      <td>2502.841552</td>\n",
       "      <td>0.136273</td>\n",
       "    </tr>\n",
       "    <tr>\n",
       "      <th>2</th>\n",
       "      <td>73</td>\n",
       "      <td>1479.961469</td>\n",
       "      <td>21827.924952</td>\n",
       "      <td>2021-08-09 00:15:57</td>\n",
       "      <td>6821.395704</td>\n",
       "      <td>0.226404</td>\n",
       "    </tr>\n",
       "    <tr>\n",
       "      <th>3</th>\n",
       "      <td>97</td>\n",
       "      <td>7611.092329</td>\n",
       "      <td>25843.746295</td>\n",
       "      <td>2021-08-10 00:01:29</td>\n",
       "      <td>0.000000</td>\n",
       "      <td>0.000000</td>\n",
       "    </tr>\n",
       "    <tr>\n",
       "      <th>4</th>\n",
       "      <td>121</td>\n",
       "      <td>6904.487041</td>\n",
       "      <td>26550.351583</td>\n",
       "      <td>2021-08-11 00:00:05</td>\n",
       "      <td>0.000000</td>\n",
       "      <td>0.000000</td>\n",
       "    </tr>\n",
       "  </tbody>\n",
       "</table>\n",
       "</div>"
      ],
      "text/plain": [
       "   season  harvestable_pods  harvested_pods           timestamp  \\\n",
       "0      25       5049.266341        0.000000 2021-08-07 00:06:08   \n",
       "1      49        337.098080    15526.430505 2021-08-08 00:08:15   \n",
       "2      73       1479.961469    21827.924952 2021-08-09 00:15:57   \n",
       "3      97       7611.092329    25843.746295 2021-08-10 00:01:29   \n",
       "4     121       6904.487041    26550.351583 2021-08-11 00:00:05   \n",
       "\n",
       "   unharvestable_pods  unharvestable_ratio  \n",
       "0         4899.059312             0.492451  \n",
       "1         2502.841552             0.136273  \n",
       "2         6821.395704             0.226404  \n",
       "3            0.000000             0.000000  \n",
       "4            0.000000             0.000000  "
      ]
     },
     "execution_count": 8,
     "metadata": {},
     "output_type": "execute_result"
    }
   ],
   "source": [
    "df_field = query_field_daily_snapshots(cache=1).copy()\n",
    "df_field = df_field.rename(columns={\n",
    "    'totalHarvestablePods': 'harvestable_pods', \n",
    "    'totalHarvestedPods': 'harvested_pods', \n",
    "    'totalPods': 'unharvestable_pods', \n",
    "})\n",
    "df_field['harvestable_pods'] = df_field.harvestable_pods - df_field.harvested_pods \n",
    "df_field['unharvestable_ratio'] = df_field.unharvestable_pods / (\n",
    "    df_field.harvested_pods + df_field.unharvestable_pods + df_field.harvestable_pods\n",
    ")\n",
    "df_field.head()"
   ]
  },
  {
   "cell_type": "code",
   "execution_count": 9,
   "id": "3724acbd-2f44-4aae-86e7-a53930c8c9f2",
   "metadata": {},
   "outputs": [
    {
     "data": {
      "text/html": [
       "<div>\n",
       "<style scoped>\n",
       "    .dataframe tbody tr th:only-of-type {\n",
       "        vertical-align: middle;\n",
       "    }\n",
       "\n",
       "    .dataframe tbody tr th {\n",
       "        vertical-align: top;\n",
       "    }\n",
       "\n",
       "    .dataframe thead th {\n",
       "        text-align: right;\n",
       "    }\n",
       "</style>\n",
       "<table border=\"1\" class=\"dataframe\">\n",
       "  <thead>\n",
       "    <tr style=\"text-align: right;\">\n",
       "      <th></th>\n",
       "      <th>timestamp</th>\n",
       "      <th>season</th>\n",
       "      <th>variable</th>\n",
       "      <th>value</th>\n",
       "      <th>unharvestable_pods</th>\n",
       "      <th>harvested_pods</th>\n",
       "      <th>harvestable_pods</th>\n",
       "      <th>unharvestable_ratio</th>\n",
       "    </tr>\n",
       "  </thead>\n",
       "  <tbody>\n",
       "    <tr>\n",
       "      <th>0</th>\n",
       "      <td>2021-08-07 00:06:08</td>\n",
       "      <td>25</td>\n",
       "      <td>unharvestable_pods</td>\n",
       "      <td>4899.059312</td>\n",
       "      <td>4899.059312</td>\n",
       "      <td>0.000000</td>\n",
       "      <td>5049.266341</td>\n",
       "      <td>0.492451</td>\n",
       "    </tr>\n",
       "    <tr>\n",
       "      <th>1</th>\n",
       "      <td>2021-08-07 00:06:08</td>\n",
       "      <td>25</td>\n",
       "      <td>harvested_pods</td>\n",
       "      <td>0.000000</td>\n",
       "      <td>4899.059312</td>\n",
       "      <td>0.000000</td>\n",
       "      <td>5049.266341</td>\n",
       "      <td>0.492451</td>\n",
       "    </tr>\n",
       "    <tr>\n",
       "      <th>2</th>\n",
       "      <td>2021-08-07 00:06:08</td>\n",
       "      <td>25</td>\n",
       "      <td>harvestable_pods</td>\n",
       "      <td>5049.266341</td>\n",
       "      <td>4899.059312</td>\n",
       "      <td>0.000000</td>\n",
       "      <td>5049.266341</td>\n",
       "      <td>0.492451</td>\n",
       "    </tr>\n",
       "    <tr>\n",
       "      <th>3</th>\n",
       "      <td>2021-08-07 00:06:08</td>\n",
       "      <td>25</td>\n",
       "      <td>unharvestable_ratio</td>\n",
       "      <td>0.492451</td>\n",
       "      <td>4899.059312</td>\n",
       "      <td>0.000000</td>\n",
       "      <td>5049.266341</td>\n",
       "      <td>0.492451</td>\n",
       "    </tr>\n",
       "    <tr>\n",
       "      <th>4</th>\n",
       "      <td>2021-08-08 00:08:15</td>\n",
       "      <td>49</td>\n",
       "      <td>unharvestable_pods</td>\n",
       "      <td>2502.841552</td>\n",
       "      <td>2502.841552</td>\n",
       "      <td>15526.430505</td>\n",
       "      <td>337.098080</td>\n",
       "      <td>0.136273</td>\n",
       "    </tr>\n",
       "  </tbody>\n",
       "</table>\n",
       "</div>"
      ],
      "text/plain": [
       "            timestamp  season             variable        value  \\\n",
       "0 2021-08-07 00:06:08      25   unharvestable_pods  4899.059312   \n",
       "1 2021-08-07 00:06:08      25       harvested_pods     0.000000   \n",
       "2 2021-08-07 00:06:08      25     harvestable_pods  5049.266341   \n",
       "3 2021-08-07 00:06:08      25  unharvestable_ratio     0.492451   \n",
       "4 2021-08-08 00:08:15      49   unharvestable_pods  2502.841552   \n",
       "\n",
       "   unharvestable_pods  harvested_pods  harvestable_pods  unharvestable_ratio  \n",
       "0         4899.059312        0.000000       5049.266341             0.492451  \n",
       "1         4899.059312        0.000000       5049.266341             0.492451  \n",
       "2         4899.059312        0.000000       5049.266341             0.492451  \n",
       "3         4899.059312        0.000000       5049.266341             0.492451  \n",
       "4         2502.841552    15526.430505        337.098080             0.136273  "
      ]
     },
     "execution_count": 9,
     "metadata": {},
     "output_type": "execute_result"
    }
   ],
   "source": [
    "id_vars = ['timestamp', 'season']\n",
    "value_vars = [\n",
    "   'unharvestable_pods', 'harvested_pods', 'harvestable_pods', \n",
    "   'unharvestable_ratio'\n",
    "]\n",
    "df = wide_to_longwide(df_field, \"timestamp\", id_vars, value_vars, sort_col=\"timestamp\") \n",
    "df.head()"
   ]
  },
  {
   "cell_type": "code",
   "execution_count": 10,
   "id": "013a35a6-f244-4bf6-b525-35b1970dfd20",
   "metadata": {},
   "outputs": [
    {
     "data": {
      "text/html": [
       "<style></style>"
      ],
      "text/plain": [
       "<IPython.core.display.HTML object>"
      ]
     },
     "metadata": {},
     "output_type": "display_data"
    },
    {
     "name": "stderr",
     "output_type": "stream",
     "text": [
      "/Users/ALEX/opt/anaconda3/envs/beanstalk/lib/python3.10/site-packages/altair/utils/core.py:317: FutureWarning: iteritems is deprecated and will be removed in a future version. Use .items instead.\n",
      "  for col_name, dtype in df.dtypes.iteritems():\n"
     ]
    },
    {
     "data": {
      "text/html": [
       "\n",
       "<div id=\"altair-viz-01b053be7b554f8bbd676b65f20a9a2f\"></div>\n",
       "<script type=\"text/javascript\">\n",
       "  var VEGA_DEBUG = (typeof VEGA_DEBUG == \"undefined\") ? {} : VEGA_DEBUG;\n",
       "  (function(spec, embedOpt){\n",
       "    let outputDiv = document.currentScript.previousElementSibling;\n",
       "    if (outputDiv.id !== \"altair-viz-01b053be7b554f8bbd676b65f20a9a2f\") {\n",
       "      outputDiv = document.getElementById(\"altair-viz-01b053be7b554f8bbd676b65f20a9a2f\");\n",
       "    }\n",
       "    const paths = {\n",
       "      \"vega\": \"https://cdn.jsdelivr.net/npm//vega@5?noext\",\n",
       "      \"vega-lib\": \"https://cdn.jsdelivr.net/npm//vega-lib?noext\",\n",
       "      \"vega-lite\": \"https://cdn.jsdelivr.net/npm//vega-lite@4.17.0?noext\",\n",
       "      \"vega-embed\": \"https://cdn.jsdelivr.net/npm//vega-embed@6?noext\",\n",
       "    };\n",
       "\n",
       "    function maybeLoadScript(lib, version) {\n",
       "      var key = `${lib.replace(\"-\", \"\")}_version`;\n",
       "      return (VEGA_DEBUG[key] == version) ?\n",
       "        Promise.resolve(paths[lib]) :\n",
       "        new Promise(function(resolve, reject) {\n",
       "          var s = document.createElement('script');\n",
       "          document.getElementsByTagName(\"head\")[0].appendChild(s);\n",
       "          s.async = true;\n",
       "          s.onload = () => {\n",
       "            VEGA_DEBUG[key] = version;\n",
       "            return resolve(paths[lib]);\n",
       "          };\n",
       "          s.onerror = () => reject(`Error loading script: ${paths[lib]}`);\n",
       "          s.src = paths[lib];\n",
       "        });\n",
       "    }\n",
       "\n",
       "    function showError(err) {\n",
       "      outputDiv.innerHTML = `<div class=\"error\" style=\"color:red;\">${err}</div>`;\n",
       "      throw err;\n",
       "    }\n",
       "\n",
       "    function displayChart(vegaEmbed) {\n",
       "      vegaEmbed(outputDiv, spec, embedOpt)\n",
       "        .catch(err => showError(`Javascript Error: ${err.message}<br>This usually means there's a typo in your chart specification. See the javascript console for the full traceback.`));\n",
       "    }\n",
       "\n",
       "    if(typeof define === \"function\" && define.amd) {\n",
       "      requirejs.config({paths});\n",
       "      require([\"vega-embed\"], displayChart, err => showError(`Error loading script: ${err.message}`));\n",
       "    } else {\n",
       "      maybeLoadScript(\"vega\", \"5\")\n",
       "        .then(() => maybeLoadScript(\"vega-lite\", \"4.17.0\"))\n",
       "        .then(() => maybeLoadScript(\"vega-embed\", \"6\"))\n",
       "        .catch(showError)\n",
       "        .then(() => displayChart(vegaEmbed));\n",
       "    }\n",
       "  })({\"config\": {\"view\": {\"continuousWidth\": 400, \"continuousHeight\": 300}}, \"layer\": [{\"mark\": \"area\", \"encoding\": {\"color\": {\"field\": \"variable\", \"legend\": {\"title\": null}, \"scale\": {\"domain\": [\"unharvestable_pods\", \"harvested_pods\", \"harvestable_pods\", \"unharvestable_ratio\"], \"range\": [\"#ff595e\", \"#8ac926\", \"#1982c4\", \"#6a4c93\"]}, \"type\": \"nominal\"}, \"order\": {\"field\": \"stack_order\", \"sort\": \"ascending\", \"type\": \"quantitative\"}, \"x\": {\"axis\": {\"formatType\": \"time\", \"labelAngle\": 0, \"labelExpr\": \"timeFormat(toDate(datum.value), '%b %e, %Y')\", \"labelOverlap\": true, \"labelPadding\": 5, \"labelSeparation\": 50, \"ticks\": false, \"title\": \"Date\"}, \"field\": \"timestamp\", \"type\": \"ordinal\"}, \"y\": {\"axis\": {\"format\": \".3~s\", \"title\": \"Pods\"}, \"field\": \"value\", \"type\": \"quantitative\"}}, \"title\": \"Pod Line Breakdown\", \"transform\": [{\"calculate\": \"datum['variable'] === 'unharvestable_pods' ? 0 :  datum['variable'] === 'harvested_pods' ? 1 :  datum['variable'] === 'harvestable_pods' ? 2 :  datum['variable'] === 'unharvestable_ratio' ? 3 : 4\", \"as\": \"stack_order\"}, {\"filter\": \"datum['variable'] == 'unharvestable_pods' | datum['variable'] == 'harvested_pods' | datum['variable'] == 'harvestable_pods'\"}], \"width\": 700}, {\"layer\": [{\"mark\": \"line\", \"encoding\": {\"color\": {\"field\": \"variable\", \"legend\": {\"title\": null}, \"scale\": {\"domain\": [\"unharvestable_pods\", \"harvested_pods\", \"harvestable_pods\", \"unharvestable_ratio\"], \"range\": [\"#ff595e\", \"#8ac926\", \"#1982c4\", \"#6a4c93\"]}, \"type\": \"nominal\"}, \"order\": {\"field\": \"stack_order\", \"sort\": \"ascending\", \"type\": \"quantitative\"}, \"x\": {\"axis\": {\"formatType\": \"time\", \"labelAngle\": 0, \"labelExpr\": \"timeFormat(toDate(datum.value), '%b %e, %Y')\", \"labelOverlap\": true, \"labelPadding\": 5, \"labelSeparation\": 50, \"ticks\": false, \"title\": \"Date\"}, \"field\": \"timestamp\", \"type\": \"ordinal\"}, \"y\": {\"axis\": {\"format\": \".0%\", \"title\": \"Ratio\"}, \"field\": \"value\", \"type\": \"quantitative\"}}, \"title\": \"Pod Line Breakdown\", \"transform\": [{\"calculate\": \"datum['variable'] === 'unharvestable_pods' ? 0 :  datum['variable'] === 'harvested_pods' ? 1 :  datum['variable'] === 'harvestable_pods' ? 2 :  datum['variable'] === 'unharvestable_ratio' ? 3 : 4\", \"as\": \"stack_order\"}, {\"filter\": \"datum['variable'] == 'unharvestable_ratio'\"}], \"width\": 700}, {\"mark\": {\"type\": \"rule\", \"color\": \"#474440\", \"opacity\": 1, \"strokeDash\": [2.5, 1]}, \"encoding\": {\"x\": {\"axis\": {\"formatType\": \"time\", \"labelAngle\": 0, \"labelExpr\": \"timeFormat(toDate(datum.value), '%b %e, %Y')\", \"labelOverlap\": true, \"labelPadding\": 5, \"labelSeparation\": 50, \"ticks\": false, \"title\": \"Date\"}, \"field\": \"timestamp\", \"type\": \"ordinal\"}}, \"title\": \"Pod Line Breakdown\", \"transform\": [{\"calculate\": \"datum['variable'] === 'unharvestable_pods' ? 0 :  datum['variable'] === 'harvested_pods' ? 1 :  datum['variable'] === 'harvestable_pods' ? 2 :  datum['variable'] === 'unharvestable_ratio' ? 3 : 4\", \"as\": \"stack_order\"}, {\"pivot\": \"variable\", \"value\": \"value\", \"groupby\": [\"timestamp\"]}, {\"filter\": \"\\n            year(datum['timestamp']) === 2022 && \\n            month(datum['timestamp']) === 3 && \\n            date(datum['timestamp']) === 16 \\n        \"}], \"width\": 700}, {\"mark\": {\"type\": \"rule\", \"color\": \"#878787\"}, \"encoding\": {\"opacity\": {\"condition\": {\"value\": 1, \"selection\": \"selector002\"}, \"value\": 0}, \"tooltip\": [{\"field\": \"timestamp\", \"timeUnit\": \"yearmonthdate\", \"title\": \"date\", \"type\": \"ordinal\"}, {\"field\": \"unharvestable_pods\", \"format\": \",d\", \"type\": \"quantitative\"}, {\"field\": \"harvested_pods\", \"format\": \",d\", \"type\": \"quantitative\"}, {\"field\": \"harvestable_pods\", \"format\": \",d\", \"type\": \"quantitative\"}, {\"field\": \"unharvestable_ratio\", \"format\": \".0%\", \"type\": \"quantitative\"}], \"x\": {\"axis\": {\"formatType\": \"time\", \"labelAngle\": 0, \"labelExpr\": \"timeFormat(toDate(datum.value), '%b %e, %Y')\", \"labelOverlap\": true, \"labelPadding\": 5, \"labelSeparation\": 50, \"ticks\": false, \"title\": \"Date\"}, \"field\": \"timestamp\", \"type\": \"ordinal\"}}, \"selection\": {\"selector002\": {\"type\": \"single\", \"fields\": [\"timestamp\"], \"nearest\": true, \"on\": \"mouseover\", \"empty\": \"none\", \"clear\": \"mouseout\"}}, \"title\": \"Pod Line Breakdown\", \"transform\": [{\"calculate\": \"datum['variable'] === 'unharvestable_pods' ? 0 :  datum['variable'] === 'harvested_pods' ? 1 :  datum['variable'] === 'harvestable_pods' ? 2 :  datum['variable'] === 'unharvestable_ratio' ? 3 : 4\", \"as\": \"stack_order\"}, {\"pivot\": \"variable\", \"value\": \"value\", \"groupby\": [\"timestamp\"]}], \"width\": 700}]}], \"data\": {\"name\": \"data-c63506d2ec4fcaf0a2e58a3c2be21587\"}, \"resolve\": {\"axis\": {\"y\": \"independent\"}, \"scale\": {\"y\": \"independent\"}}, \"$schema\": \"https://vega.github.io/schema/vega-lite/v4.17.0.json\", \"datasets\": {\"data-c63506d2ec4fcaf0a2e58a3c2be21587\": [{\"timestamp\": \"2021-08-07T00:06:08\", \"season\": 25, \"variable\": \"unharvestable_pods\", \"value\": 4899.059312, \"unharvestable_pods\": 4899.059312, \"harvested_pods\": 0.0, \"harvestable_pods\": 5049.266341, \"unharvestable_ratio\": 0.4924506377133572}, {\"timestamp\": \"2021-08-07T00:06:08\", \"season\": 25, \"variable\": \"harvested_pods\", \"value\": 0.0, \"unharvestable_pods\": 4899.059312, \"harvested_pods\": 0.0, \"harvestable_pods\": 5049.266341, \"unharvestable_ratio\": 0.4924506377133572}, {\"timestamp\": \"2021-08-07T00:06:08\", \"season\": 25, \"variable\": \"harvestable_pods\", \"value\": 5049.266341, \"unharvestable_pods\": 4899.059312, \"harvested_pods\": 0.0, \"harvestable_pods\": 5049.266341, \"unharvestable_ratio\": 0.4924506377133572}, {\"timestamp\": \"2021-08-07T00:06:08\", \"season\": 25, \"variable\": \"unharvestable_ratio\", \"value\": 0.4924506377133572, \"unharvestable_pods\": 4899.059312, \"harvested_pods\": 0.0, \"harvestable_pods\": 5049.266341, \"unharvestable_ratio\": 0.4924506377133572}, {\"timestamp\": \"2021-08-08T00:08:15\", \"season\": 49, \"variable\": \"unharvestable_pods\", \"value\": 2502.841552, \"unharvestable_pods\": 2502.841552, \"harvested_pods\": 15526.430505, \"harvestable_pods\": 337.09807999999975, \"unharvestable_ratio\": 0.13627306502757974}, {\"timestamp\": \"2021-08-08T00:08:15\", \"season\": 49, \"variable\": \"harvested_pods\", \"value\": 15526.430505, \"unharvestable_pods\": 2502.841552, \"harvested_pods\": 15526.430505, \"harvestable_pods\": 337.09807999999975, \"unharvestable_ratio\": 0.13627306502757974}, {\"timestamp\": \"2021-08-08T00:08:15\", \"season\": 49, \"variable\": \"harvestable_pods\", \"value\": 337.09807999999975, \"unharvestable_pods\": 2502.841552, \"harvested_pods\": 15526.430505, \"harvestable_pods\": 337.09807999999975, \"unharvestable_ratio\": 0.13627306502757974}, {\"timestamp\": \"2021-08-08T00:08:15\", \"season\": 49, \"variable\": \"unharvestable_ratio\", \"value\": 0.13627306502757974, \"unharvestable_pods\": 2502.841552, \"harvested_pods\": 15526.430505, \"harvestable_pods\": 337.09807999999975, \"unharvestable_ratio\": 0.13627306502757974}, {\"timestamp\": \"2021-08-09T00:15:57\", \"season\": 73, \"variable\": \"unharvestable_ratio\", \"value\": 0.2264041896418068, \"unharvestable_pods\": 6821.395704, \"harvested_pods\": 21827.924952, \"harvestable_pods\": 1479.961468999998, \"unharvestable_ratio\": 0.2264041896418068}, {\"timestamp\": \"2021-08-09T00:15:57\", \"season\": 73, \"variable\": \"harvestable_pods\", \"value\": 1479.961468999998, \"unharvestable_pods\": 6821.395704, \"harvested_pods\": 21827.924952, \"harvestable_pods\": 1479.961468999998, \"unharvestable_ratio\": 0.2264041896418068}, {\"timestamp\": \"2021-08-09T00:15:57\", \"season\": 73, \"variable\": \"unharvestable_pods\", \"value\": 6821.395704, \"unharvestable_pods\": 6821.395704, \"harvested_pods\": 21827.924952, \"harvestable_pods\": 1479.961468999998, \"unharvestable_ratio\": 0.2264041896418068}, {\"timestamp\": \"2021-08-09T00:15:57\", \"season\": 73, \"variable\": \"harvested_pods\", \"value\": 21827.924952, \"unharvestable_pods\": 6821.395704, \"harvested_pods\": 21827.924952, \"harvestable_pods\": 1479.961468999998, \"unharvestable_ratio\": 0.2264041896418068}, {\"timestamp\": \"2021-08-10T00:01:29\", \"season\": 97, \"variable\": \"unharvestable_pods\", \"value\": 0.0, \"unharvestable_pods\": 0.0, \"harvested_pods\": 25843.746295, \"harvestable_pods\": 7611.092329000003, \"unharvestable_ratio\": 0.0}, {\"timestamp\": \"2021-08-10T00:01:29\", \"season\": 97, \"variable\": \"harvested_pods\", \"value\": 25843.746295, \"unharvestable_pods\": 0.0, \"harvested_pods\": 25843.746295, \"harvestable_pods\": 7611.092329000003, \"unharvestable_ratio\": 0.0}, {\"timestamp\": \"2021-08-10T00:01:29\", \"season\": 97, \"variable\": \"harvestable_pods\", \"value\": 7611.092329000003, \"unharvestable_pods\": 0.0, \"harvested_pods\": 25843.746295, \"harvestable_pods\": 7611.092329000003, \"unharvestable_ratio\": 0.0}, {\"timestamp\": \"2021-08-10T00:01:29\", \"season\": 97, \"variable\": \"unharvestable_ratio\", \"value\": 0.0, \"unharvestable_pods\": 0.0, \"harvested_pods\": 25843.746295, \"harvestable_pods\": 7611.092329000003, \"unharvestable_ratio\": 0.0}, {\"timestamp\": \"2021-08-11T00:00:05\", \"season\": 121, \"variable\": \"unharvestable_pods\", \"value\": 0.0, \"unharvestable_pods\": 0.0, \"harvested_pods\": 26550.351583, \"harvestable_pods\": 6904.487041000004, \"unharvestable_ratio\": 0.0}, {\"timestamp\": \"2021-08-11T00:00:05\", \"season\": 121, \"variable\": \"harvested_pods\", \"value\": 26550.351583, \"unharvestable_pods\": 0.0, \"harvested_pods\": 26550.351583, \"harvestable_pods\": 6904.487041000004, \"unharvestable_ratio\": 0.0}, {\"timestamp\": \"2021-08-11T00:00:05\", \"season\": 121, \"variable\": \"harvestable_pods\", \"value\": 6904.487041000004, \"unharvestable_pods\": 0.0, \"harvested_pods\": 26550.351583, \"harvestable_pods\": 6904.487041000004, \"unharvestable_ratio\": 0.0}, {\"timestamp\": \"2021-08-11T00:00:05\", \"season\": 121, \"variable\": \"unharvestable_ratio\", \"value\": 0.0, \"unharvestable_pods\": 0.0, \"harvested_pods\": 26550.351583, \"harvestable_pods\": 6904.487041000004, \"unharvestable_ratio\": 0.0}, {\"timestamp\": \"2021-08-12T00:01:00\", \"season\": 145, \"variable\": \"unharvestable_ratio\", \"value\": 0.0, \"unharvestable_pods\": 0.0, \"harvested_pods\": 26550.351583, \"harvestable_pods\": 6904.487041000004, \"unharvestable_ratio\": 0.0}, {\"timestamp\": \"2021-08-12T00:01:00\", \"season\": 145, \"variable\": \"harvestable_pods\", \"value\": 6904.487041000004, \"unharvestable_pods\": 0.0, \"harvested_pods\": 26550.351583, \"harvestable_pods\": 6904.487041000004, \"unharvestable_ratio\": 0.0}, {\"timestamp\": \"2021-08-12T00:01:00\", \"season\": 145, \"variable\": \"unharvestable_pods\", \"value\": 0.0, \"unharvestable_pods\": 0.0, \"harvested_pods\": 26550.351583, \"harvestable_pods\": 6904.487041000004, \"unharvestable_ratio\": 0.0}, {\"timestamp\": \"2021-08-12T00:01:00\", \"season\": 145, \"variable\": \"harvested_pods\", \"value\": 26550.351583, \"unharvestable_pods\": 0.0, \"harvested_pods\": 26550.351583, \"harvestable_pods\": 6904.487041000004, \"unharvestable_ratio\": 0.0}, {\"timestamp\": \"2021-08-13T00:00:10\", \"season\": 169, \"variable\": \"unharvestable_pods\", \"value\": 0.0, \"unharvestable_pods\": 0.0, \"harvested_pods\": 26550.351583, \"harvestable_pods\": 6904.487041000004, \"unharvestable_ratio\": 0.0}, {\"timestamp\": \"2021-08-13T00:00:10\", \"season\": 169, \"variable\": \"harvested_pods\", \"value\": 26550.351583, \"unharvestable_pods\": 0.0, \"harvested_pods\": 26550.351583, \"harvestable_pods\": 6904.487041000004, \"unharvestable_ratio\": 0.0}, {\"timestamp\": \"2021-08-13T00:00:10\", \"season\": 169, \"variable\": \"harvestable_pods\", \"value\": 6904.487041000004, \"unharvestable_pods\": 0.0, \"harvested_pods\": 26550.351583, \"harvestable_pods\": 6904.487041000004, \"unharvestable_ratio\": 0.0}, {\"timestamp\": \"2021-08-13T00:00:10\", \"season\": 169, \"variable\": \"unharvestable_ratio\", \"value\": 0.0, \"unharvestable_pods\": 0.0, \"harvested_pods\": 26550.351583, \"harvestable_pods\": 6904.487041000004, \"unharvestable_ratio\": 0.0}, {\"timestamp\": \"2021-08-14T00:00:29\", \"season\": 193, \"variable\": \"unharvestable_ratio\", \"value\": 0.17823447994784053, \"unharvestable_pods\": 10815.519022, \"harvested_pods\": 32201.284959, \"harvestable_pods\": 17664.603034999996, \"unharvestable_ratio\": 0.17823447994784053}, {\"timestamp\": \"2021-08-14T00:00:29\", \"season\": 193, \"variable\": \"unharvestable_pods\", \"value\": 10815.519022, \"unharvestable_pods\": 10815.519022, \"harvested_pods\": 32201.284959, \"harvestable_pods\": 17664.603034999996, \"unharvestable_ratio\": 0.17823447994784053}, {\"timestamp\": \"2021-08-14T00:00:29\", \"season\": 193, \"variable\": \"harvested_pods\", \"value\": 32201.284959, \"unharvestable_pods\": 10815.519022, \"harvested_pods\": 32201.284959, \"harvestable_pods\": 17664.603034999996, \"unharvestable_ratio\": 0.17823447994784053}, {\"timestamp\": \"2021-08-14T00:00:29\", \"season\": 193, \"variable\": \"harvestable_pods\", \"value\": 17664.603034999996, \"unharvestable_pods\": 10815.519022, \"harvested_pods\": 32201.284959, \"harvestable_pods\": 17664.603034999996, \"unharvestable_ratio\": 0.17823447994784053}, {\"timestamp\": \"2021-08-15T00:00:28\", \"season\": 217, \"variable\": \"unharvestable_pods\", \"value\": 10249.917778, \"unharvestable_pods\": 10249.917778, \"harvested_pods\": 41481.027557, \"harvestable_pods\": 23001.045411, \"unharvestable_ratio\": 0.13715569029650965}, {\"timestamp\": \"2021-08-15T00:00:28\", \"season\": 217, \"variable\": \"harvested_pods\", \"value\": 41481.027557, \"unharvestable_pods\": 10249.917778, \"harvested_pods\": 41481.027557, \"harvestable_pods\": 23001.045411, \"unharvestable_ratio\": 0.13715569029650965}, {\"timestamp\": \"2021-08-15T00:00:28\", \"season\": 217, \"variable\": \"harvestable_pods\", \"value\": 23001.045411, \"unharvestable_pods\": 10249.917778, \"harvested_pods\": 41481.027557, \"harvestable_pods\": 23001.045411, \"unharvestable_ratio\": 0.13715569029650965}, {\"timestamp\": \"2021-08-15T00:00:28\", \"season\": 217, \"variable\": \"unharvestable_ratio\", \"value\": 0.13715569029650965, \"unharvestable_pods\": 10249.917778, \"harvested_pods\": 41481.027557, \"harvestable_pods\": 23001.045411, \"unharvestable_ratio\": 0.13715569029650965}, {\"timestamp\": \"2021-08-16T00:00:17\", \"season\": 241, \"variable\": \"harvestable_pods\", \"value\": 14326.598173999999, \"unharvestable_pods\": 16543.295015, \"harvested_pods\": 51201.027557, \"harvestable_pods\": 14326.598173999999, \"unharvestable_ratio\": 0.2015731621459394}, {\"timestamp\": \"2021-08-16T00:00:17\", \"season\": 241, \"variable\": \"unharvestable_ratio\", \"value\": 0.2015731621459394, \"unharvestable_pods\": 16543.295015, \"harvested_pods\": 51201.027557, \"harvestable_pods\": 14326.598173999999, \"unharvestable_ratio\": 0.2015731621459394}, {\"timestamp\": \"2021-08-16T00:00:17\", \"season\": 241, \"variable\": \"unharvestable_pods\", \"value\": 16543.295015, \"unharvestable_pods\": 16543.295015, \"harvested_pods\": 51201.027557, \"harvestable_pods\": 14326.598173999999, \"unharvestable_ratio\": 0.2015731621459394}, {\"timestamp\": \"2021-08-16T00:00:17\", \"season\": 241, \"variable\": \"harvested_pods\", \"value\": 51201.027557, \"unharvestable_pods\": 16543.295015, \"harvested_pods\": 51201.027557, \"harvestable_pods\": 14326.598173999999, \"unharvestable_ratio\": 0.2015731621459394}, {\"timestamp\": \"2021-08-17T00:00:04\", \"season\": 265, \"variable\": \"unharvestable_ratio\", \"value\": 0.393080458997789, \"unharvestable_pods\": 71501.743635, \"harvested_pods\": 97624.762629, \"harvestable_pods\": 12774.532055999996, \"unharvestable_ratio\": 0.393080458997789}, {\"timestamp\": \"2021-08-17T00:00:04\", \"season\": 265, \"variable\": \"harvestable_pods\", \"value\": 12774.532055999996, \"unharvestable_pods\": 71501.743635, \"harvested_pods\": 97624.762629, \"harvestable_pods\": 12774.532055999996, \"unharvestable_ratio\": 0.393080458997789}, {\"timestamp\": \"2021-08-17T00:00:04\", \"season\": 265, \"variable\": \"unharvestable_pods\", \"value\": 71501.743635, \"unharvestable_pods\": 71501.743635, \"harvested_pods\": 97624.762629, \"harvestable_pods\": 12774.532055999996, \"unharvestable_ratio\": 0.393080458997789}, {\"timestamp\": \"2021-08-17T00:00:04\", \"season\": 265, \"variable\": \"harvested_pods\", \"value\": 97624.762629, \"unharvestable_pods\": 71501.743635, \"harvested_pods\": 97624.762629, \"harvestable_pods\": 12774.532055999996, \"unharvestable_ratio\": 0.393080458997789}, {\"timestamp\": \"2021-08-18T00:00:31\", \"season\": 289, \"variable\": \"unharvestable_pods\", \"value\": 36350.591997, \"unharvestable_pods\": 36350.591997, \"harvested_pods\": 104529.24967, \"harvestable_pods\": 44477.315885, \"unharvestable_ratio\": 0.1961110780780193}, {\"timestamp\": \"2021-08-18T00:00:31\", \"season\": 289, \"variable\": \"harvested_pods\", \"value\": 104529.24967, \"unharvestable_pods\": 36350.591997, \"harvested_pods\": 104529.24967, \"harvestable_pods\": 44477.315885, \"unharvestable_ratio\": 0.1961110780780193}, {\"timestamp\": \"2021-08-18T00:00:31\", \"season\": 289, \"variable\": \"harvestable_pods\", \"value\": 44477.315885, \"unharvestable_pods\": 36350.591997, \"harvested_pods\": 104529.24967, \"harvestable_pods\": 44477.315885, \"unharvestable_ratio\": 0.1961110780780193}, {\"timestamp\": \"2021-08-18T00:00:31\", \"season\": 289, \"variable\": \"unharvestable_ratio\", \"value\": 0.1961110780780193, \"unharvestable_pods\": 36350.591997, \"harvested_pods\": 104529.24967, \"harvestable_pods\": 44477.315885, \"unharvestable_ratio\": 0.1961110780780193}, {\"timestamp\": \"2021-08-19T00:00:40\", \"season\": 313, \"variable\": \"unharvestable_ratio\", \"value\": 0.411675064312655, \"unharvestable_pods\": 104265.999513, \"harvested_pods\": 143283.399621, \"harvestable_pods\": 5723.165934000019, \"unharvestable_ratio\": 0.411675064312655}, {\"timestamp\": \"2021-08-19T00:00:40\", \"season\": 313, \"variable\": \"harvestable_pods\", \"value\": 5723.165934000019, \"unharvestable_pods\": 104265.999513, \"harvested_pods\": 143283.399621, \"harvestable_pods\": 5723.165934000019, \"unharvestable_ratio\": 0.411675064312655}, {\"timestamp\": \"2021-08-19T00:00:40\", \"season\": 313, \"variable\": \"unharvestable_pods\", \"value\": 104265.999513, \"unharvestable_pods\": 104265.999513, \"harvested_pods\": 143283.399621, \"harvestable_pods\": 5723.165934000019, \"unharvestable_ratio\": 0.411675064312655}, {\"timestamp\": \"2021-08-19T00:00:40\", \"season\": 313, \"variable\": \"harvested_pods\", \"value\": 143283.399621, \"unharvestable_pods\": 104265.999513, \"harvested_pods\": 143283.399621, \"harvestable_pods\": 5723.165934000019, \"unharvestable_ratio\": 0.411675064312655}, {\"timestamp\": \"2021-08-20T00:01:04\", \"season\": 337, \"variable\": \"unharvestable_pods\", \"value\": 92758.617104, \"unharvestable_pods\": 92758.617104, \"harvested_pods\": 143283.399621, \"harvestable_pods\": 37233.227182, \"unharvestable_ratio\": 0.3394329313472949}, {\"timestamp\": \"2021-08-20T00:01:04\", \"season\": 337, \"variable\": \"harvested_pods\", \"value\": 143283.399621, \"unharvestable_pods\": 92758.617104, \"harvested_pods\": 143283.399621, \"harvestable_pods\": 37233.227182, \"unharvestable_ratio\": 0.3394329313472949}, {\"timestamp\": \"2021-08-20T00:01:04\", \"season\": 337, \"variable\": \"harvestable_pods\", \"value\": 37233.227182, \"unharvestable_pods\": 92758.617104, \"harvested_pods\": 143283.399621, \"harvestable_pods\": 37233.227182, \"unharvestable_ratio\": 0.3394329313472949}, {\"timestamp\": \"2021-08-20T00:01:04\", \"season\": 337, \"variable\": \"unharvestable_ratio\", \"value\": 0.3394329313472949, \"unharvestable_pods\": 92758.617104, \"harvested_pods\": 143283.399621, \"harvestable_pods\": 37233.227182, \"unharvestable_ratio\": 0.3394329313472949}, {\"timestamp\": \"2021-08-21T00:00:44\", \"season\": 361, \"variable\": \"harvestable_pods\", \"value\": 28096.697970999987, \"unharvestable_pods\": 40423.696387, \"harvested_pods\": 254167.231813, \"harvestable_pods\": 28096.697970999987, \"unharvestable_ratio\": 0.12527191348074349}, {\"timestamp\": \"2021-08-21T00:00:44\", \"season\": 361, \"variable\": \"unharvestable_pods\", \"value\": 40423.696387, \"unharvestable_pods\": 40423.696387, \"harvested_pods\": 254167.231813, \"harvestable_pods\": 28096.697970999987, \"unharvestable_ratio\": 0.12527191348074349}, {\"timestamp\": \"2021-08-21T00:00:44\", \"season\": 361, \"variable\": \"harvested_pods\", \"value\": 254167.231813, \"unharvestable_pods\": 40423.696387, \"harvested_pods\": 254167.231813, \"harvestable_pods\": 28096.697970999987, \"unharvestable_ratio\": 0.12527191348074349}, {\"timestamp\": \"2021-08-21T00:00:44\", \"season\": 361, \"variable\": \"unharvestable_ratio\", \"value\": 0.12527191348074349, \"unharvestable_pods\": 40423.696387, \"harvested_pods\": 254167.231813, \"harvestable_pods\": 28096.697970999987, \"unharvestable_ratio\": 0.12527191348074349}, {\"timestamp\": \"2021-08-22T00:00:09\", \"season\": 385, \"variable\": \"unharvestable_ratio\", \"value\": 0.12386636759524816, \"unharvestable_pods\": 48541.943611, \"harvested_pods\": 314760.900618, \"harvestable_pods\": 28586.774829, \"unharvestable_ratio\": 0.12386636759524816}, {\"timestamp\": \"2021-08-22T00:00:09\", \"season\": 385, \"variable\": \"harvestable_pods\", \"value\": 28586.774829, \"unharvestable_pods\": 48541.943611, \"harvested_pods\": 314760.900618, \"harvestable_pods\": 28586.774829, \"unharvestable_ratio\": 0.12386636759524816}, {\"timestamp\": \"2021-08-22T00:00:09\", \"season\": 385, \"variable\": \"harvested_pods\", \"value\": 314760.900618, \"unharvestable_pods\": 48541.943611, \"harvested_pods\": 314760.900618, \"harvestable_pods\": 28586.774829, \"unharvestable_ratio\": 0.12386636759524816}, {\"timestamp\": \"2021-08-22T00:00:09\", \"season\": 385, \"variable\": \"unharvestable_pods\", \"value\": 48541.943611, \"unharvestable_pods\": 48541.943611, \"harvested_pods\": 314760.900618, \"harvestable_pods\": 28586.774829, \"unharvestable_ratio\": 0.12386636759524816}, {\"timestamp\": \"2021-08-23T00:00:29\", \"season\": 409, \"variable\": \"unharvestable_pods\", \"value\": 41864.270115, \"unharvestable_pods\": 41864.270115, \"harvested_pods\": 314760.900618, \"harvestable_pods\": 46759.331894, \"unharvestable_ratio\": 0.10378254455082744}, {\"timestamp\": \"2021-08-23T00:00:29\", \"season\": 409, \"variable\": \"harvested_pods\", \"value\": 314760.900618, \"unharvestable_pods\": 41864.270115, \"harvested_pods\": 314760.900618, \"harvestable_pods\": 46759.331894, \"unharvestable_ratio\": 0.10378254455082744}, {\"timestamp\": \"2021-08-23T00:00:29\", \"season\": 409, \"variable\": \"harvestable_pods\", \"value\": 46759.331894, \"unharvestable_pods\": 41864.270115, \"harvested_pods\": 314760.900618, \"harvestable_pods\": 46759.331894, \"unharvestable_ratio\": 0.10378254455082744}, {\"timestamp\": \"2021-08-23T00:00:29\", \"season\": 409, \"variable\": \"unharvestable_ratio\", \"value\": 0.10378254455082744, \"unharvestable_pods\": 41864.270115, \"harvested_pods\": 314760.900618, \"harvestable_pods\": 46759.331894, \"unharvestable_ratio\": 0.10378254455082744}, {\"timestamp\": \"2021-08-24T00:00:01\", \"season\": 433, \"variable\": \"harvestable_pods\", \"value\": 34272.659944000014, \"unharvestable_pods\": 39229.618983, \"harvested_pods\": 331032.2237, \"harvestable_pods\": 34272.659944000014, \"unharvestable_ratio\": 0.0969747171829533}, {\"timestamp\": \"2021-08-24T00:00:01\", \"season\": 433, \"variable\": \"unharvestable_ratio\", \"value\": 0.0969747171829533, \"unharvestable_pods\": 39229.618983, \"harvested_pods\": 331032.2237, \"harvestable_pods\": 34272.659944000014, \"unharvestable_ratio\": 0.0969747171829533}, {\"timestamp\": \"2021-08-24T00:00:01\", \"season\": 433, \"variable\": \"unharvestable_pods\", \"value\": 39229.618983, \"unharvestable_pods\": 39229.618983, \"harvested_pods\": 331032.2237, \"harvestable_pods\": 34272.659944000014, \"unharvestable_ratio\": 0.0969747171829533}, {\"timestamp\": \"2021-08-24T00:00:01\", \"season\": 433, \"variable\": \"harvested_pods\", \"value\": 331032.2237, \"unharvestable_pods\": 39229.618983, \"harvested_pods\": 331032.2237, \"harvestable_pods\": 34272.659944000014, \"unharvestable_ratio\": 0.0969747171829533}, {\"timestamp\": \"2021-08-25T00:00:23\", \"season\": 457, \"variable\": \"unharvestable_pods\", \"value\": 97546.721856, \"unharvestable_pods\": 97546.721856, \"harvested_pods\": 360937.2237, \"harvestable_pods\": 52124.72387300001, \"unharvestable_ratio\": 0.19104008156595517}, {\"timestamp\": \"2021-08-25T00:00:23\", \"season\": 457, \"variable\": \"harvested_pods\", \"value\": 360937.2237, \"unharvestable_pods\": 97546.721856, \"harvested_pods\": 360937.2237, \"harvestable_pods\": 52124.72387300001, \"unharvestable_ratio\": 0.19104008156595517}, {\"timestamp\": \"2021-08-25T00:00:23\", \"season\": 457, \"variable\": \"harvestable_pods\", \"value\": 52124.72387300001, \"unharvestable_pods\": 97546.721856, \"harvested_pods\": 360937.2237, \"harvestable_pods\": 52124.72387300001, \"unharvestable_ratio\": 0.19104008156595517}, {\"timestamp\": \"2021-08-25T00:00:23\", \"season\": 457, \"variable\": \"unharvestable_ratio\", \"value\": 0.19104008156595517, \"unharvestable_pods\": 97546.721856, \"harvested_pods\": 360937.2237, \"harvestable_pods\": 52124.72387300001, \"unharvestable_ratio\": 0.19104008156595517}, {\"timestamp\": \"2021-08-26T00:00:49\", \"season\": 481, \"variable\": \"unharvestable_ratio\", \"value\": 0.10863803736745106, \"unharvestable_pods\": 60095.475803, \"harvested_pods\": 481553.509585, \"harvestable_pods\": 11522.604041000013, \"unharvestable_ratio\": 0.10863803736745106}, {\"timestamp\": \"2021-08-26T00:00:49\", \"season\": 481, \"variable\": \"unharvestable_pods\", \"value\": 60095.475803, \"unharvestable_pods\": 60095.475803, \"harvested_pods\": 481553.509585, \"harvestable_pods\": 11522.604041000013, \"unharvestable_ratio\": 0.10863803736745106}, {\"timestamp\": \"2021-08-26T00:00:49\", \"season\": 481, \"variable\": \"harvested_pods\", \"value\": 481553.509585, \"unharvestable_pods\": 60095.475803, \"harvested_pods\": 481553.509585, \"harvestable_pods\": 11522.604041000013, \"unharvestable_ratio\": 0.10863803736745106}, {\"timestamp\": \"2021-08-26T00:00:49\", \"season\": 481, \"variable\": \"harvestable_pods\", \"value\": 11522.604041000013, \"unharvestable_pods\": 60095.475803, \"harvested_pods\": 481553.509585, \"harvestable_pods\": 11522.604041000013, \"unharvestable_ratio\": 0.10863803736745106}, {\"timestamp\": \"2021-08-27T00:02:11\", \"season\": 505, \"variable\": \"harvestable_pods\", \"value\": 79987.43674400006, \"unharvestable_pods\": 0.0, \"harvested_pods\": 530358.688293, \"harvestable_pods\": 79987.43674400006, \"unharvestable_ratio\": 0.0}, {\"timestamp\": \"2021-08-27T00:02:11\", \"season\": 505, \"variable\": \"unharvestable_ratio\", \"value\": 0.0, \"unharvestable_pods\": 0.0, \"harvested_pods\": 530358.688293, \"harvestable_pods\": 79987.43674400006, \"unharvestable_ratio\": 0.0}, {\"timestamp\": \"2021-08-27T00:02:11\", \"season\": 505, \"variable\": \"unharvestable_pods\", \"value\": 0.0, \"unharvestable_pods\": 0.0, \"harvested_pods\": 530358.688293, \"harvestable_pods\": 79987.43674400006, \"unharvestable_ratio\": 0.0}, {\"timestamp\": \"2021-08-27T00:02:11\", \"season\": 505, \"variable\": \"harvested_pods\", \"value\": 530358.688293, \"unharvestable_pods\": 0.0, \"harvested_pods\": 530358.688293, \"harvestable_pods\": 79987.43674400006, \"unharvestable_ratio\": 0.0}, {\"timestamp\": \"2021-08-28T00:05:42\", \"season\": 529, \"variable\": \"unharvestable_ratio\", \"value\": 0.010533107499186203, \"unharvestable_pods\": 6597.299077, \"harvested_pods\": 564828.688293, \"harvestable_pods\": 54913.30305400002, \"unharvestable_ratio\": 0.010533107499186203}, {\"timestamp\": \"2021-08-28T00:05:42\", \"season\": 529, \"variable\": \"harvestable_pods\", \"value\": 54913.30305400002, \"unharvestable_pods\": 6597.299077, \"harvested_pods\": 564828.688293, \"harvestable_pods\": 54913.30305400002, \"unharvestable_ratio\": 0.010533107499186203}, {\"timestamp\": \"2021-08-28T00:05:42\", \"season\": 529, \"variable\": \"harvested_pods\", \"value\": 564828.688293, \"unharvestable_pods\": 6597.299077, \"harvested_pods\": 564828.688293, \"harvestable_pods\": 54913.30305400002, \"unharvestable_ratio\": 0.010533107499186203}, {\"timestamp\": \"2021-08-28T00:05:42\", \"season\": 529, \"variable\": \"unharvestable_pods\", \"value\": 6597.299077, \"unharvestable_pods\": 6597.299077, \"harvested_pods\": 564828.688293, \"harvestable_pods\": 54913.30305400002, \"unharvestable_ratio\": 0.010533107499186203}, {\"timestamp\": \"2021-08-29T00:00:21\", \"season\": 553, \"variable\": \"unharvestable_pods\", \"value\": 9403.970964, \"unharvestable_pods\": 9403.970964, \"harvested_pods\": 593623.85368, \"harvestable_pods\": 33700.57765800005, \"unharvestable_ratio\": 0.014769202897187082}, {\"timestamp\": \"2021-08-29T00:00:21\", \"season\": 553, \"variable\": \"harvested_pods\", \"value\": 593623.85368, \"unharvestable_pods\": 9403.970964, \"harvested_pods\": 593623.85368, \"harvestable_pods\": 33700.57765800005, \"unharvestable_ratio\": 0.014769202897187082}, {\"timestamp\": \"2021-08-29T00:00:21\", \"season\": 553, \"variable\": \"harvestable_pods\", \"value\": 33700.57765800005, \"unharvestable_pods\": 9403.970964, \"harvested_pods\": 593623.85368, \"harvestable_pods\": 33700.57765800005, \"unharvestable_ratio\": 0.014769202897187082}, {\"timestamp\": \"2021-08-29T00:00:21\", \"season\": 553, \"variable\": \"unharvestable_ratio\", \"value\": 0.014769202897187082, \"unharvestable_pods\": 9403.970964, \"harvested_pods\": 593623.85368, \"harvestable_pods\": 33700.57765800005, \"unharvestable_ratio\": 0.014769202897187082}, {\"timestamp\": \"2021-08-30T00:00:41\", \"season\": 577, \"variable\": \"harvestable_pods\", \"value\": 53404.54862200003, \"unharvestable_pods\": 0.0, \"harvested_pods\": 593623.85368, \"harvestable_pods\": 53404.54862200003, \"unharvestable_ratio\": 0.0}, {\"timestamp\": \"2021-08-30T00:00:41\", \"season\": 577, \"variable\": \"unharvestable_ratio\", \"value\": 0.0, \"unharvestable_pods\": 0.0, \"harvested_pods\": 593623.85368, \"harvestable_pods\": 53404.54862200003, \"unharvestable_ratio\": 0.0}, {\"timestamp\": \"2021-08-30T00:00:41\", \"season\": 577, \"variable\": \"unharvestable_pods\", \"value\": 0.0, \"unharvestable_pods\": 0.0, \"harvested_pods\": 593623.85368, \"harvestable_pods\": 53404.54862200003, \"unharvestable_ratio\": 0.0}, {\"timestamp\": \"2021-08-30T00:00:41\", \"season\": 577, \"variable\": \"harvested_pods\", \"value\": 593623.85368, \"unharvestable_pods\": 0.0, \"harvested_pods\": 593623.85368, \"harvestable_pods\": 53404.54862200003, \"unharvestable_ratio\": 0.0}, {\"timestamp\": \"2021-08-31T00:00:55\", \"season\": 601, \"variable\": \"unharvestable_pods\", \"value\": 0.0, \"unharvestable_pods\": 0.0, \"harvested_pods\": 593623.85368, \"harvestable_pods\": 53404.54862200003, \"unharvestable_ratio\": 0.0}, {\"timestamp\": \"2021-08-31T00:00:55\", \"season\": 601, \"variable\": \"harvested_pods\", \"value\": 593623.85368, \"unharvestable_pods\": 0.0, \"harvested_pods\": 593623.85368, \"harvestable_pods\": 53404.54862200003, \"unharvestable_ratio\": 0.0}, {\"timestamp\": \"2021-08-31T00:00:55\", \"season\": 601, \"variable\": \"harvestable_pods\", \"value\": 53404.54862200003, \"unharvestable_pods\": 0.0, \"harvested_pods\": 593623.85368, \"harvestable_pods\": 53404.54862200003, \"unharvestable_ratio\": 0.0}, {\"timestamp\": \"2021-08-31T00:00:55\", \"season\": 601, \"variable\": \"unharvestable_ratio\", \"value\": 0.0, \"unharvestable_pods\": 0.0, \"harvested_pods\": 593623.85368, \"harvestable_pods\": 53404.54862200003, \"unharvestable_ratio\": 0.0}, {\"timestamp\": \"2021-09-01T00:00:46\", \"season\": 625, \"variable\": \"unharvestable_ratio\", \"value\": 0.009442196871013787, \"unharvestable_pods\": 6223.053606, \"harvested_pods\": 612737.220849, \"harvestable_pods\": 40108.12784699991, \"unharvestable_ratio\": 0.009442196871013787}, {\"timestamp\": \"2021-09-01T00:00:46\", \"season\": 625, \"variable\": \"unharvestable_pods\", \"value\": 6223.053606, \"unharvestable_pods\": 6223.053606, \"harvested_pods\": 612737.220849, \"harvestable_pods\": 40108.12784699991, \"unharvestable_ratio\": 0.009442196871013787}, {\"timestamp\": \"2021-09-01T00:00:46\", \"season\": 625, \"variable\": \"harvested_pods\", \"value\": 612737.220849, \"unharvestable_pods\": 6223.053606, \"harvested_pods\": 612737.220849, \"harvestable_pods\": 40108.12784699991, \"unharvestable_ratio\": 0.009442196871013787}, {\"timestamp\": \"2021-09-01T00:00:46\", \"season\": 625, \"variable\": \"harvestable_pods\", \"value\": 40108.12784699991, \"unharvestable_pods\": 6223.053606, \"harvested_pods\": 612737.220849, \"harvestable_pods\": 40108.12784699991, \"unharvestable_ratio\": 0.009442196871013787}, {\"timestamp\": \"2021-09-02T00:02:18\", \"season\": 649, \"variable\": \"harvestable_pods\", \"value\": 39282.219956999994, \"unharvestable_pods\": 1064.758328, \"harvested_pods\": 630808.81999, \"harvestable_pods\": 39282.219956999994, \"unharvestable_ratio\": 0.0015864547855157245}, {\"timestamp\": \"2021-09-02T00:02:18\", \"season\": 649, \"variable\": \"unharvestable_ratio\", \"value\": 0.0015864547855157245, \"unharvestable_pods\": 1064.758328, \"harvested_pods\": 630808.81999, \"harvestable_pods\": 39282.219956999994, \"unharvestable_ratio\": 0.0015864547855157245}, {\"timestamp\": \"2021-09-02T00:02:18\", \"season\": 649, \"variable\": \"unharvestable_pods\", \"value\": 1064.758328, \"unharvestable_pods\": 1064.758328, \"harvested_pods\": 630808.81999, \"harvestable_pods\": 39282.219956999994, \"unharvestable_ratio\": 0.0015864547855157245}, {\"timestamp\": \"2021-09-02T00:02:18\", \"season\": 649, \"variable\": \"harvested_pods\", \"value\": 630808.81999, \"unharvestable_pods\": 1064.758328, \"harvested_pods\": 630808.81999, \"harvestable_pods\": 39282.219956999994, \"unharvestable_ratio\": 0.0015864547855157245}, {\"timestamp\": \"2021-09-03T00:00:21\", \"season\": 673, \"variable\": \"unharvestable_pods\", \"value\": 3631.214906, \"unharvestable_pods\": 3631.214906, \"harvested_pods\": 643689.146625, \"harvestable_pods\": 32715.436743999948, \"unharvestable_ratio\": 0.005339740812485245}, {\"timestamp\": \"2021-09-03T00:00:21\", \"season\": 673, \"variable\": \"harvested_pods\", \"value\": 643689.146625, \"unharvestable_pods\": 3631.214906, \"harvested_pods\": 643689.146625, \"harvestable_pods\": 32715.436743999948, \"unharvestable_ratio\": 0.005339740812485245}, {\"timestamp\": \"2021-09-03T00:00:21\", \"season\": 673, \"variable\": \"harvestable_pods\", \"value\": 32715.436743999948, \"unharvestable_pods\": 3631.214906, \"harvested_pods\": 643689.146625, \"harvestable_pods\": 32715.436743999948, \"unharvestable_ratio\": 0.005339740812485245}, {\"timestamp\": \"2021-09-03T00:00:21\", \"season\": 673, \"variable\": \"unharvestable_ratio\", \"value\": 0.005339740812485245, \"unharvestable_pods\": 3631.214906, \"harvested_pods\": 643689.146625, \"harvestable_pods\": 32715.436743999948, \"unharvestable_ratio\": 0.005339740812485245}, {\"timestamp\": \"2021-09-04T00:02:33\", \"season\": 697, \"variable\": \"unharvestable_pods\", \"value\": 23716.43657, \"unharvestable_pods\": 23716.43657, \"harvested_pods\": 643689.146625, \"harvestable_pods\": 43770.215079999994, \"unharvestable_ratio\": 0.03334820536290135}, {\"timestamp\": \"2021-09-04T00:02:33\", \"season\": 697, \"variable\": \"harvested_pods\", \"value\": 643689.146625, \"unharvestable_pods\": 23716.43657, \"harvested_pods\": 643689.146625, \"harvestable_pods\": 43770.215079999994, \"unharvestable_ratio\": 0.03334820536290135}, {\"timestamp\": \"2021-09-04T00:02:33\", \"season\": 697, \"variable\": \"harvestable_pods\", \"value\": 43770.215079999994, \"unharvestable_pods\": 23716.43657, \"harvested_pods\": 643689.146625, \"harvestable_pods\": 43770.215079999994, \"unharvestable_ratio\": 0.03334820536290135}, {\"timestamp\": \"2021-09-04T00:02:33\", \"season\": 697, \"variable\": \"unharvestable_ratio\", \"value\": 0.03334820536290135, \"unharvestable_pods\": 23716.43657, \"harvested_pods\": 643689.146625, \"harvestable_pods\": 43770.215079999994, \"unharvestable_ratio\": 0.03334820536290135}, {\"timestamp\": \"2021-09-05T00:02:38\", \"season\": 721, \"variable\": \"unharvestable_ratio\", \"value\": 0.1235024753593703, \"unharvestable_pods\": 99546.720907, \"harvested_pods\": 703473.4368, \"harvestable_pods\": 3010.009844999993, \"unharvestable_ratio\": 0.1235024753593703}, {\"timestamp\": \"2021-09-05T00:02:38\", \"season\": 721, \"variable\": \"harvestable_pods\", \"value\": 3010.009844999993, \"unharvestable_pods\": 99546.720907, \"harvested_pods\": 703473.4368, \"harvestable_pods\": 3010.009844999993, \"unharvestable_ratio\": 0.1235024753593703}, {\"timestamp\": \"2021-09-05T00:02:38\", \"season\": 721, \"variable\": \"harvested_pods\", \"value\": 703473.4368, \"unharvestable_pods\": 99546.720907, \"harvested_pods\": 703473.4368, \"harvestable_pods\": 3010.009844999993, \"unharvestable_ratio\": 0.1235024753593703}, {\"timestamp\": \"2021-09-05T00:02:38\", \"season\": 721, \"variable\": \"unharvestable_pods\", \"value\": 99546.720907, \"unharvestable_pods\": 99546.720907, \"harvested_pods\": 703473.4368, \"harvestable_pods\": 3010.009844999993, \"unharvestable_ratio\": 0.1235024753593703}, {\"timestamp\": \"2021-09-06T00:00:31\", \"season\": 745, \"variable\": \"unharvestable_pods\", \"value\": 125518.671323, \"unharvestable_pods\": 125518.671323, \"harvested_pods\": 710912.291775, \"harvestable_pods\": 27614.523297999986, \"unharvestable_ratio\": 0.145268592104506}, {\"timestamp\": \"2021-09-06T00:00:31\", \"season\": 745, \"variable\": \"harvested_pods\", \"value\": 710912.291775, \"unharvestable_pods\": 125518.671323, \"harvested_pods\": 710912.291775, \"harvestable_pods\": 27614.523297999986, \"unharvestable_ratio\": 0.145268592104506}, {\"timestamp\": \"2021-09-06T00:00:31\", \"season\": 745, \"variable\": \"harvestable_pods\", \"value\": 27614.523297999986, \"unharvestable_pods\": 125518.671323, \"harvested_pods\": 710912.291775, \"harvestable_pods\": 27614.523297999986, \"unharvestable_ratio\": 0.145268592104506}, {\"timestamp\": \"2021-09-06T00:00:31\", \"season\": 745, \"variable\": \"unharvestable_ratio\", \"value\": 0.145268592104506, \"unharvestable_pods\": 125518.671323, \"harvested_pods\": 710912.291775, \"harvestable_pods\": 27614.523297999986, \"unharvestable_ratio\": 0.145268592104506}, {\"timestamp\": \"2021-09-07T00:00:25\", \"season\": 769, \"variable\": \"unharvestable_pods\", \"value\": 85542.932229, \"unharvestable_pods\": 85542.932229, \"harvested_pods\": 758006.590898, \"harvestable_pods\": 30826.41968499997, \"unharvestable_ratio\": 0.09783312650836806}, {\"timestamp\": \"2021-09-07T00:00:25\", \"season\": 769, \"variable\": \"harvested_pods\", \"value\": 758006.590898, \"unharvestable_pods\": 85542.932229, \"harvested_pods\": 758006.590898, \"harvestable_pods\": 30826.41968499997, \"unharvestable_ratio\": 0.09783312650836806}, {\"timestamp\": \"2021-09-07T00:00:25\", \"season\": 769, \"variable\": \"harvestable_pods\", \"value\": 30826.41968499997, \"unharvestable_pods\": 85542.932229, \"harvested_pods\": 758006.590898, \"harvestable_pods\": 30826.41968499997, \"unharvestable_ratio\": 0.09783312650836806}, {\"timestamp\": \"2021-09-07T00:00:25\", \"season\": 769, \"variable\": \"unharvestable_ratio\", \"value\": 0.09783312650836806, \"unharvestable_pods\": 85542.932229, \"harvested_pods\": 758006.590898, \"harvestable_pods\": 30826.41968499997, \"unharvestable_ratio\": 0.09783312650836806}, {\"timestamp\": \"2021-09-08T00:00:43\", \"season\": 793, \"variable\": \"unharvestable_ratio\", \"value\": 0.0, \"unharvestable_pods\": 0.0, \"harvested_pods\": 758006.590898, \"harvestable_pods\": 116369.351914, \"unharvestable_ratio\": 0.0}, {\"timestamp\": \"2021-09-08T00:00:43\", \"season\": 793, \"variable\": \"harvested_pods\", \"value\": 758006.590898, \"unharvestable_pods\": 0.0, \"harvested_pods\": 758006.590898, \"harvestable_pods\": 116369.351914, \"unharvestable_ratio\": 0.0}, {\"timestamp\": \"2021-09-08T00:00:43\", \"season\": 793, \"variable\": \"unharvestable_pods\", \"value\": 0.0, \"unharvestable_pods\": 0.0, \"harvested_pods\": 758006.590898, \"harvestable_pods\": 116369.351914, \"unharvestable_ratio\": 0.0}, {\"timestamp\": \"2021-09-08T00:00:43\", \"season\": 793, \"variable\": \"harvestable_pods\", \"value\": 116369.351914, \"unharvestable_pods\": 0.0, \"harvested_pods\": 758006.590898, \"harvestable_pods\": 116369.351914, \"unharvestable_ratio\": 0.0}, {\"timestamp\": \"2021-09-09T00:00:36\", \"season\": 817, \"variable\": \"unharvestable_pods\", \"value\": 13736.789649, \"unharvestable_pods\": 13736.789649, \"harvested_pods\": 784201.640921, \"harvestable_pods\": 111662.63340399996, \"unharvestable_ratio\": 0.015101993822417793}, {\"timestamp\": \"2021-09-09T00:00:36\", \"season\": 817, \"variable\": \"harvested_pods\", \"value\": 784201.640921, \"unharvestable_pods\": 13736.789649, \"harvested_pods\": 784201.640921, \"harvestable_pods\": 111662.63340399996, \"unharvestable_ratio\": 0.015101993822417793}, {\"timestamp\": \"2021-09-09T00:00:36\", \"season\": 817, \"variable\": \"harvestable_pods\", \"value\": 111662.63340399996, \"unharvestable_pods\": 13736.789649, \"harvested_pods\": 784201.640921, \"harvestable_pods\": 111662.63340399996, \"unharvestable_ratio\": 0.015101993822417793}, {\"timestamp\": \"2021-09-09T00:00:36\", \"season\": 817, \"variable\": \"unharvestable_ratio\", \"value\": 0.015101993822417793, \"unharvestable_pods\": 13736.789649, \"harvested_pods\": 784201.640921, \"harvestable_pods\": 111662.63340399996, \"unharvestable_ratio\": 0.015101993822417793}, {\"timestamp\": \"2021-09-10T00:00:47\", \"season\": 841, \"variable\": \"unharvestable_ratio\", \"value\": 0.06204865614699012, \"unharvestable_pods\": 60106.788737, \"harvested_pods\": 832681.871582, \"harvestable_pods\": 75915.45785899996, \"unharvestable_ratio\": 0.06204865614699012}, {\"timestamp\": \"2021-09-10T00:00:47\", \"season\": 841, \"variable\": \"unharvestable_pods\", \"value\": 60106.788737, \"unharvestable_pods\": 60106.788737, \"harvested_pods\": 832681.871582, \"harvestable_pods\": 75915.45785899996, \"unharvestable_ratio\": 0.06204865614699012}, {\"timestamp\": \"2021-09-10T00:00:47\", \"season\": 841, \"variable\": \"harvested_pods\", \"value\": 832681.871582, \"unharvestable_pods\": 60106.788737, \"harvested_pods\": 832681.871582, \"harvestable_pods\": 75915.45785899996, \"unharvestable_ratio\": 0.06204865614699012}, {\"timestamp\": \"2021-09-10T00:00:47\", \"season\": 841, \"variable\": \"harvestable_pods\", \"value\": 75915.45785899996, \"unharvestable_pods\": 60106.788737, \"harvested_pods\": 832681.871582, \"harvestable_pods\": 75915.45785899996, \"unharvestable_ratio\": 0.06204865614699012}, {\"timestamp\": \"2021-09-11T00:00:25\", \"season\": 865, \"variable\": \"unharvestable_ratio\", \"value\": 0.0398426802791701, \"unharvestable_pods\": 39676.112591, \"harvested_pods\": 873427.751646, \"harvestable_pods\": 82715.50115200004, \"unharvestable_ratio\": 0.0398426802791701}, {\"timestamp\": \"2021-09-11T00:00:25\", \"season\": 865, \"variable\": \"harvestable_pods\", \"value\": 82715.50115200004, \"unharvestable_pods\": 39676.112591, \"harvested_pods\": 873427.751646, \"harvestable_pods\": 82715.50115200004, \"unharvestable_ratio\": 0.0398426802791701}, {\"timestamp\": \"2021-09-11T00:00:25\", \"season\": 865, \"variable\": \"unharvestable_pods\", \"value\": 39676.112591, \"unharvestable_pods\": 39676.112591, \"harvested_pods\": 873427.751646, \"harvestable_pods\": 82715.50115200004, \"unharvestable_ratio\": 0.0398426802791701}, {\"timestamp\": \"2021-09-11T00:00:25\", \"season\": 865, \"variable\": \"harvested_pods\", \"value\": 873427.751646, \"unharvestable_pods\": 39676.112591, \"harvested_pods\": 873427.751646, \"harvestable_pods\": 82715.50115200004, \"unharvestable_ratio\": 0.0398426802791701}, {\"timestamp\": \"2021-09-12T00:00:06\", \"season\": 889, \"variable\": \"harvestable_pods\", \"value\": 43355.370027999976, \"unharvestable_pods\": 54089.722851, \"harvested_pods\": 937356.244186, \"harvestable_pods\": 43355.370027999976, \"unharvestable_ratio\": 0.05227063486834518}, {\"timestamp\": \"2021-09-12T00:00:06\", \"season\": 889, \"variable\": \"unharvestable_pods\", \"value\": 54089.722851, \"unharvestable_pods\": 54089.722851, \"harvested_pods\": 937356.244186, \"harvestable_pods\": 43355.370027999976, \"unharvestable_ratio\": 0.05227063486834518}, {\"timestamp\": \"2021-09-12T00:00:06\", \"season\": 889, \"variable\": \"harvested_pods\", \"value\": 937356.244186, \"unharvestable_pods\": 54089.722851, \"harvested_pods\": 937356.244186, \"harvestable_pods\": 43355.370027999976, \"unharvestable_ratio\": 0.05227063486834518}, {\"timestamp\": \"2021-09-12T00:00:06\", \"season\": 889, \"variable\": \"unharvestable_ratio\", \"value\": 0.05227063486834518, \"unharvestable_pods\": 54089.722851, \"harvested_pods\": 937356.244186, \"harvestable_pods\": 43355.370027999976, \"unharvestable_ratio\": 0.05227063486834518}, {\"timestamp\": \"2021-09-13T00:00:34\", \"season\": 913, \"variable\": \"unharvestable_ratio\", \"value\": 0.08142109542811199, \"unharvestable_pods\": 89243.529518, \"harvested_pods\": 976330.024314, \"harvestable_pods\": 30500.24680600001, \"unharvestable_ratio\": 0.08142109542811199}, {\"timestamp\": \"2021-09-13T00:00:34\", \"season\": 913, \"variable\": \"harvestable_pods\", \"value\": 30500.24680600001, \"unharvestable_pods\": 89243.529518, \"harvested_pods\": 976330.024314, \"harvestable_pods\": 30500.24680600001, \"unharvestable_ratio\": 0.08142109542811199}, {\"timestamp\": \"2021-09-13T00:00:34\", \"season\": 913, \"variable\": \"harvested_pods\", \"value\": 976330.024314, \"unharvestable_pods\": 89243.529518, \"harvested_pods\": 976330.024314, \"harvestable_pods\": 30500.24680600001, \"unharvestable_ratio\": 0.08142109542811199}, {\"timestamp\": \"2021-09-13T00:00:34\", \"season\": 913, \"variable\": \"unharvestable_pods\", \"value\": 89243.529518, \"unharvestable_pods\": 89243.529518, \"harvested_pods\": 976330.024314, \"harvestable_pods\": 30500.24680600001, \"unharvestable_ratio\": 0.08142109542811199}, {\"timestamp\": \"2021-09-14T00:01:09\", \"season\": 937, \"variable\": \"unharvestable_pods\", \"value\": 24389.680962, \"unharvestable_pods\": 24389.680962, \"harvested_pods\": 993469.008135, \"harvestable_pods\": 89057.04180500004, \"unharvestable_ratio\": 0.02203390943059903}, {\"timestamp\": \"2021-09-14T00:01:09\", \"season\": 937, \"variable\": \"harvested_pods\", \"value\": 993469.008135, \"unharvestable_pods\": 24389.680962, \"harvested_pods\": 993469.008135, \"harvestable_pods\": 89057.04180500004, \"unharvestable_ratio\": 0.02203390943059903}, {\"timestamp\": \"2021-09-14T00:01:09\", \"season\": 937, \"variable\": \"harvestable_pods\", \"value\": 89057.04180500004, \"unharvestable_pods\": 24389.680962, \"harvested_pods\": 993469.008135, \"harvestable_pods\": 89057.04180500004, \"unharvestable_ratio\": 0.02203390943059903}, {\"timestamp\": \"2021-09-14T00:01:09\", \"season\": 937, \"variable\": \"unharvestable_ratio\", \"value\": 0.02203390943059903, \"unharvestable_pods\": 24389.680962, \"harvested_pods\": 993469.008135, \"harvestable_pods\": 89057.04180500004, \"unharvestable_ratio\": 0.02203390943059903}, {\"timestamp\": \"2021-09-15T00:00:38\", \"season\": 961, \"variable\": \"harvestable_pods\", \"value\": 42658.86335400003, \"unharvestable_pods\": 32293.476053, \"harvested_pods\": 1068516.490149, \"harvestable_pods\": 42658.86335400003, \"unharvestable_ratio\": 0.028241675871076698}, {\"timestamp\": \"2021-09-15T00:00:38\", \"season\": 961, \"variable\": \"unharvestable_ratio\", \"value\": 0.028241675871076698, \"unharvestable_pods\": 32293.476053, \"harvested_pods\": 1068516.490149, \"harvestable_pods\": 42658.86335400003, \"unharvestable_ratio\": 0.028241675871076698}, {\"timestamp\": \"2021-09-15T00:00:38\", \"season\": 961, \"variable\": \"unharvestable_pods\", \"value\": 32293.476053, \"unharvestable_pods\": 32293.476053, \"harvested_pods\": 1068516.490149, \"harvestable_pods\": 42658.86335400003, \"unharvestable_ratio\": 0.028241675871076698}, {\"timestamp\": \"2021-09-15T00:00:38\", \"season\": 961, \"variable\": \"harvested_pods\", \"value\": 1068516.490149, \"unharvestable_pods\": 32293.476053, \"harvested_pods\": 1068516.490149, \"harvestable_pods\": 42658.86335400003, \"unharvestable_ratio\": 0.028241675871076698}, {\"timestamp\": \"2021-09-16T00:00:42\", \"season\": 985, \"variable\": \"unharvestable_pods\", \"value\": 0.0, \"unharvestable_pods\": 0.0, \"harvested_pods\": 1114444.480103, \"harvestable_pods\": 29131.22802000004, \"unharvestable_ratio\": 0.0}, {\"timestamp\": \"2021-09-16T00:00:42\", \"season\": 985, \"variable\": \"harvested_pods\", \"value\": 1114444.480103, \"unharvestable_pods\": 0.0, \"harvested_pods\": 1114444.480103, \"harvestable_pods\": 29131.22802000004, \"unharvestable_ratio\": 0.0}, {\"timestamp\": \"2021-09-16T00:00:42\", \"season\": 985, \"variable\": \"harvestable_pods\", \"value\": 29131.22802000004, \"unharvestable_pods\": 0.0, \"harvested_pods\": 1114444.480103, \"harvestable_pods\": 29131.22802000004, \"unharvestable_ratio\": 0.0}, {\"timestamp\": \"2021-09-16T00:00:42\", \"season\": 985, \"variable\": \"unharvestable_ratio\", \"value\": 0.0, \"unharvestable_pods\": 0.0, \"harvested_pods\": 1114444.480103, \"harvestable_pods\": 29131.22802000004, \"unharvestable_ratio\": 0.0}, {\"timestamp\": \"2021-09-17T00:00:26\", \"season\": 1009, \"variable\": \"unharvestable_ratio\", \"value\": 0.0025513867146534377, \"unharvestable_pods\": 3052.864686, \"harvested_pods\": 1164021.465089, \"harvestable_pods\": 29476.81179299997, \"unharvestable_ratio\": 0.0025513867146534377}, {\"timestamp\": \"2021-09-17T00:00:26\", \"season\": 1009, \"variable\": \"unharvestable_pods\", \"value\": 3052.864686, \"unharvestable_pods\": 3052.864686, \"harvested_pods\": 1164021.465089, \"harvestable_pods\": 29476.81179299997, \"unharvestable_ratio\": 0.0025513867146534377}, {\"timestamp\": \"2021-09-17T00:00:26\", \"season\": 1009, \"variable\": \"harvested_pods\", \"value\": 1164021.465089, \"unharvestable_pods\": 3052.864686, \"harvested_pods\": 1164021.465089, \"harvestable_pods\": 29476.81179299997, \"unharvestable_ratio\": 0.0025513867146534377}, {\"timestamp\": \"2021-09-17T00:00:26\", \"season\": 1009, \"variable\": \"harvestable_pods\", \"value\": 29476.81179299997, \"unharvestable_pods\": 3052.864686, \"harvested_pods\": 1164021.465089, \"harvestable_pods\": 29476.81179299997, \"unharvestable_ratio\": 0.0025513867146534377}, {\"timestamp\": \"2021-09-18T00:01:18\", \"season\": 1033, \"variable\": \"harvested_pods\", \"value\": 1292018.380774, \"unharvestable_pods\": 17780.185022, \"harvested_pods\": 1292018.380774, \"harvestable_pods\": 29948.2261630001, \"unharvestable_ratio\": 0.013271302554120333}, {\"timestamp\": \"2021-09-18T00:01:18\", \"season\": 1033, \"variable\": \"harvestable_pods\", \"value\": 29948.2261630001, \"unharvestable_pods\": 17780.185022, \"harvested_pods\": 1292018.380774, \"harvestable_pods\": 29948.2261630001, \"unharvestable_ratio\": 0.013271302554120333}, {\"timestamp\": \"2021-09-18T00:01:18\", \"season\": 1033, \"variable\": \"unharvestable_pods\", \"value\": 17780.185022, \"unharvestable_pods\": 17780.185022, \"harvested_pods\": 1292018.380774, \"harvestable_pods\": 29948.2261630001, \"unharvestable_ratio\": 0.013271302554120333}, {\"timestamp\": \"2021-09-18T00:01:18\", \"season\": 1033, \"variable\": \"unharvestable_ratio\", \"value\": 0.013271302554120333, \"unharvestable_pods\": 17780.185022, \"harvested_pods\": 1292018.380774, \"harvestable_pods\": 29948.2261630001, \"unharvestable_ratio\": 0.013271302554120333}, {\"timestamp\": \"2021-09-19T00:00:06\", \"season\": 1057, \"variable\": \"unharvestable_ratio\", \"value\": 0.0035962747917463677, \"unharvestable_pods\": 5825.881439, \"harvested_pods\": 1561259.973246, \"harvestable_pods\": 52890.86466099997, \"unharvestable_ratio\": 0.0035962747917463677}, {\"timestamp\": \"2021-09-19T00:00:06\", \"season\": 1057, \"variable\": \"harvestable_pods\", \"value\": 52890.86466099997, \"unharvestable_pods\": 5825.881439, \"harvested_pods\": 1561259.973246, \"harvestable_pods\": 52890.86466099997, \"unharvestable_ratio\": 0.0035962747917463677}, {\"timestamp\": \"2021-09-19T00:00:06\", \"season\": 1057, \"variable\": \"unharvestable_pods\", \"value\": 5825.881439, \"unharvestable_pods\": 5825.881439, \"harvested_pods\": 1561259.973246, \"harvestable_pods\": 52890.86466099997, \"unharvestable_ratio\": 0.0035962747917463677}, {\"timestamp\": \"2021-09-19T00:00:06\", \"season\": 1057, \"variable\": \"harvested_pods\", \"value\": 1561259.973246, \"unharvestable_pods\": 5825.881439, \"harvested_pods\": 1561259.973246, \"harvestable_pods\": 52890.86466099997, \"unharvestable_ratio\": 0.0035962747917463677}, {\"timestamp\": \"2021-09-20T00:01:40\", \"season\": 1081, \"variable\": \"unharvestable_pods\", \"value\": 319697.061723, \"unharvestable_pods\": 319697.061723, \"harvested_pods\": 1709209.607215, \"harvestable_pods\": 18630.720659999875, \"unharvestable_ratio\": 0.1561373498462791}, {\"timestamp\": \"2021-09-20T00:01:40\", \"season\": 1081, \"variable\": \"harvested_pods\", \"value\": 1709209.607215, \"unharvestable_pods\": 319697.061723, \"harvested_pods\": 1709209.607215, \"harvestable_pods\": 18630.720659999875, \"unharvestable_ratio\": 0.1561373498462791}, {\"timestamp\": \"2021-09-20T00:01:40\", \"season\": 1081, \"variable\": \"harvestable_pods\", \"value\": 18630.720659999875, \"unharvestable_pods\": 319697.061723, \"harvested_pods\": 1709209.607215, \"harvestable_pods\": 18630.720659999875, \"unharvestable_ratio\": 0.1561373498462791}, {\"timestamp\": \"2021-09-20T00:01:40\", \"season\": 1081, \"variable\": \"unharvestable_ratio\", \"value\": 0.1561373498462791, \"unharvestable_pods\": 319697.061723, \"harvested_pods\": 1709209.607215, \"harvestable_pods\": 18630.720659999875, \"unharvestable_ratio\": 0.1561373498462791}, {\"timestamp\": \"2021-09-21T00:01:43\", \"season\": 1105, \"variable\": \"harvestable_pods\", \"value\": 5379.988659000024, \"unharvestable_pods\": 3038773.692918, \"harvested_pods\": 1722460.339216, \"harvestable_pods\": 5379.988659000024, \"unharvestable_ratio\": 0.6375120116003126}, {\"timestamp\": \"2021-09-21T00:01:43\", \"season\": 1105, \"variable\": \"unharvestable_ratio\", \"value\": 0.6375120116003126, \"unharvestable_pods\": 3038773.692918, \"harvested_pods\": 1722460.339216, \"harvestable_pods\": 5379.988659000024, \"unharvestable_ratio\": 0.6375120116003126}, {\"timestamp\": \"2021-09-21T00:01:43\", \"season\": 1105, \"variable\": \"unharvestable_pods\", \"value\": 3038773.692918, \"unharvestable_pods\": 3038773.692918, \"harvested_pods\": 1722460.339216, \"harvestable_pods\": 5379.988659000024, \"unharvestable_ratio\": 0.6375120116003126}, {\"timestamp\": \"2021-09-21T00:01:43\", \"season\": 1105, \"variable\": \"harvested_pods\", \"value\": 1722460.339216, \"unharvestable_pods\": 3038773.692918, \"harvested_pods\": 1722460.339216, \"harvestable_pods\": 5379.988659000024, \"unharvestable_ratio\": 0.6375120116003126}, {\"timestamp\": \"2021-09-22T00:00:16\", \"season\": 1129, \"variable\": \"unharvestable_pods\", \"value\": 3516133.364877, \"unharvestable_pods\": 3516133.364877, \"harvested_pods\": 1761835.650094, \"harvestable_pods\": 5135.569747000001, \"unharvestable_ratio\": 0.6655430170827639}, {\"timestamp\": \"2021-09-22T00:00:16\", \"season\": 1129, \"variable\": \"harvested_pods\", \"value\": 1761835.650094, \"unharvestable_pods\": 3516133.364877, \"harvested_pods\": 1761835.650094, \"harvestable_pods\": 5135.569747000001, \"unharvestable_ratio\": 0.6655430170827639}, {\"timestamp\": \"2021-09-22T00:00:16\", \"season\": 1129, \"variable\": \"harvestable_pods\", \"value\": 5135.569747000001, \"unharvestable_pods\": 3516133.364877, \"harvested_pods\": 1761835.650094, \"harvestable_pods\": 5135.569747000001, \"unharvestable_ratio\": 0.6655430170827639}, {\"timestamp\": \"2021-09-22T00:00:16\", \"season\": 1129, \"variable\": \"unharvestable_ratio\", \"value\": 0.6655430170827639, \"unharvestable_pods\": 3516133.364877, \"harvested_pods\": 1761835.650094, \"harvestable_pods\": 5135.569747000001, \"unharvestable_ratio\": 0.6655430170827639}, {\"timestamp\": \"2021-09-23T00:02:36\", \"season\": 1153, \"variable\": \"unharvestable_ratio\", \"value\": 0.6721936173041674, \"unharvestable_pods\": 3623318.027457, \"harvested_pods\": 1761835.650094, \"harvestable_pods\": 5135.569747000001, \"unharvestable_ratio\": 0.6721936173041674}, {\"timestamp\": \"2021-09-23T00:02:36\", \"season\": 1153, \"variable\": \"unharvestable_pods\", \"value\": 3623318.027457, \"unharvestable_pods\": 3623318.027457, \"harvested_pods\": 1761835.650094, \"harvestable_pods\": 5135.569747000001, \"unharvestable_ratio\": 0.6721936173041674}, {\"timestamp\": \"2021-09-23T00:02:36\", \"season\": 1153, \"variable\": \"harvested_pods\", \"value\": 1761835.650094, \"unharvestable_pods\": 3623318.027457, \"harvested_pods\": 1761835.650094, \"harvestable_pods\": 5135.569747000001, \"unharvestable_ratio\": 0.6721936173041674}, {\"timestamp\": \"2021-09-23T00:02:36\", \"season\": 1153, \"variable\": \"harvestable_pods\", \"value\": 5135.569747000001, \"unharvestable_pods\": 3623318.027457, \"harvested_pods\": 1761835.650094, \"harvestable_pods\": 5135.569747000001, \"unharvestable_ratio\": 0.6721936173041674}, {\"timestamp\": \"2021-09-24T00:00:19\", \"season\": 1177, \"variable\": \"harvestable_pods\", \"value\": 5135.569747000001, \"unharvestable_pods\": 4118501.099609, \"harvested_pods\": 1761835.650094, \"harvestable_pods\": 5135.569747000001, \"unharvestable_ratio\": 0.6997741007120862}, {\"timestamp\": \"2021-09-24T00:00:19\", \"season\": 1177, \"variable\": \"unharvestable_ratio\", \"value\": 0.6997741007120862, \"unharvestable_pods\": 4118501.099609, \"harvested_pods\": 1761835.650094, \"harvestable_pods\": 5135.569747000001, \"unharvestable_ratio\": 0.6997741007120862}, {\"timestamp\": \"2021-09-24T00:00:19\", \"season\": 1177, \"variable\": \"unharvestable_pods\", \"value\": 4118501.099609, \"unharvestable_pods\": 4118501.099609, \"harvested_pods\": 1761835.650094, \"harvestable_pods\": 5135.569747000001, \"unharvestable_ratio\": 0.6997741007120862}, {\"timestamp\": \"2021-09-24T00:00:19\", \"season\": 1177, \"variable\": \"harvested_pods\", \"value\": 1761835.650094, \"unharvestable_pods\": 4118501.099609, \"harvested_pods\": 1761835.650094, \"harvestable_pods\": 5135.569747000001, \"unharvestable_ratio\": 0.6997741007120862}, {\"timestamp\": \"2021-09-25T00:00:21\", \"season\": 1201, \"variable\": \"unharvestable_pods\", \"value\": 4638947.18581, \"unharvestable_pods\": 4638947.18581, \"harvested_pods\": 1761835.650094, \"harvestable_pods\": 5135.569747000001, \"unharvestable_ratio\": 0.7241658247969158}, {\"timestamp\": \"2021-09-25T00:00:21\", \"season\": 1201, \"variable\": \"harvested_pods\", \"value\": 1761835.650094, \"unharvestable_pods\": 4638947.18581, \"harvested_pods\": 1761835.650094, \"harvestable_pods\": 5135.569747000001, \"unharvestable_ratio\": 0.7241658247969158}, {\"timestamp\": \"2021-09-25T00:00:21\", \"season\": 1201, \"variable\": \"harvestable_pods\", \"value\": 5135.569747000001, \"unharvestable_pods\": 4638947.18581, \"harvested_pods\": 1761835.650094, \"harvestable_pods\": 5135.569747000001, \"unharvestable_ratio\": 0.7241658247969158}, {\"timestamp\": \"2021-09-25T00:00:21\", \"season\": 1201, \"variable\": \"unharvestable_ratio\", \"value\": 0.7241658247969158, \"unharvestable_pods\": 4638947.18581, \"harvested_pods\": 1761835.650094, \"harvestable_pods\": 5135.569747000001, \"unharvestable_ratio\": 0.7241658247969158}, {\"timestamp\": \"2021-09-26T00:00:25\", \"season\": 1225, \"variable\": \"unharvestable_pods\", \"value\": 5322463.834124, \"unharvestable_pods\": 5322463.834124, \"harvested_pods\": 1761835.650094, \"harvestable_pods\": 5135.569747000001, \"unharvestable_ratio\": 0.7507599397708337}, {\"timestamp\": \"2021-09-26T00:00:25\", \"season\": 1225, \"variable\": \"harvested_pods\", \"value\": 1761835.650094, \"unharvestable_pods\": 5322463.834124, \"harvested_pods\": 1761835.650094, \"harvestable_pods\": 5135.569747000001, \"unharvestable_ratio\": 0.7507599397708337}, {\"timestamp\": \"2021-09-26T00:00:25\", \"season\": 1225, \"variable\": \"harvestable_pods\", \"value\": 5135.569747000001, \"unharvestable_pods\": 5322463.834124, \"harvested_pods\": 1761835.650094, \"harvestable_pods\": 5135.569747000001, \"unharvestable_ratio\": 0.7507599397708337}, {\"timestamp\": \"2021-09-26T00:00:25\", \"season\": 1225, \"variable\": \"unharvestable_ratio\", \"value\": 0.7507599397708337, \"unharvestable_pods\": 5322463.834124, \"harvested_pods\": 1761835.650094, \"harvestable_pods\": 5135.569747000001, \"unharvestable_ratio\": 0.7507599397708337}, {\"timestamp\": \"2021-09-27T00:00:01\", \"season\": 1249, \"variable\": \"unharvestable_ratio\", \"value\": 0.7946619103667044, \"unharvestable_pods\": 6838208.768911, \"harvested_pods\": 1761850.111983, \"harvestable_pods\": 5121.1078579998575, \"unharvestable_ratio\": 0.7946619103667044}, {\"timestamp\": \"2021-09-27T00:00:01\", \"season\": 1249, \"variable\": \"harvestable_pods\", \"value\": 5121.1078579998575, \"unharvestable_pods\": 6838208.768911, \"harvested_pods\": 1761850.111983, \"harvestable_pods\": 5121.1078579998575, \"unharvestable_ratio\": 0.7946619103667044}, {\"timestamp\": \"2021-09-27T00:00:01\", \"season\": 1249, \"variable\": \"harvested_pods\", \"value\": 1761850.111983, \"unharvestable_pods\": 6838208.768911, \"harvested_pods\": 1761850.111983, \"harvestable_pods\": 5121.1078579998575, \"unharvestable_ratio\": 0.7946619103667044}, {\"timestamp\": \"2021-09-27T00:00:01\", \"season\": 1249, \"variable\": \"unharvestable_pods\", \"value\": 6838208.768911, \"unharvestable_pods\": 6838208.768911, \"harvested_pods\": 1761850.111983, \"harvestable_pods\": 5121.1078579998575, \"unharvestable_ratio\": 0.7946619103667044}, {\"timestamp\": \"2021-09-28T00:00:06\", \"season\": 1273, \"variable\": \"unharvestable_pods\", \"value\": 7673066.686823, \"unharvestable_pods\": 7673066.686823, \"harvested_pods\": 1761850.111983, \"harvestable_pods\": 5121.1078579998575, \"unharvestable_ratio\": 0.8128215969775244}, {\"timestamp\": \"2021-09-28T00:00:06\", \"season\": 1273, \"variable\": \"harvested_pods\", \"value\": 1761850.111983, \"unharvestable_pods\": 7673066.686823, \"harvested_pods\": 1761850.111983, \"harvestable_pods\": 5121.1078579998575, \"unharvestable_ratio\": 0.8128215969775244}, {\"timestamp\": \"2021-09-28T00:00:06\", \"season\": 1273, \"variable\": \"harvestable_pods\", \"value\": 5121.1078579998575, \"unharvestable_pods\": 7673066.686823, \"harvested_pods\": 1761850.111983, \"harvestable_pods\": 5121.1078579998575, \"unharvestable_ratio\": 0.8128215969775244}, {\"timestamp\": \"2021-09-28T00:00:06\", \"season\": 1273, \"variable\": \"unharvestable_ratio\", \"value\": 0.8128215969775244, \"unharvestable_pods\": 7673066.686823, \"harvested_pods\": 1761850.111983, \"harvestable_pods\": 5121.1078579998575, \"unharvestable_ratio\": 0.8128215969775244}, {\"timestamp\": \"2021-09-29T00:00:20\", \"season\": 1297, \"variable\": \"unharvestable_pods\", \"value\": 9562690.67395, \"unharvestable_pods\": 9562690.67395, \"harvested_pods\": 1761850.111983, \"harvestable_pods\": 5121.1078579998575, \"unharvestable_ratio\": 0.8440402514739338}, {\"timestamp\": \"2021-09-29T00:00:20\", \"season\": 1297, \"variable\": \"harvested_pods\", \"value\": 1761850.111983, \"unharvestable_pods\": 9562690.67395, \"harvested_pods\": 1761850.111983, \"harvestable_pods\": 5121.1078579998575, \"unharvestable_ratio\": 0.8440402514739338}, {\"timestamp\": \"2021-09-29T00:00:20\", \"season\": 1297, \"variable\": \"harvestable_pods\", \"value\": 5121.1078579998575, \"unharvestable_pods\": 9562690.67395, \"harvested_pods\": 1761850.111983, \"harvestable_pods\": 5121.1078579998575, \"unharvestable_ratio\": 0.8440402514739338}, {\"timestamp\": \"2021-09-29T00:00:20\", \"season\": 1297, \"variable\": \"unharvestable_ratio\", \"value\": 0.8440402514739338, \"unharvestable_pods\": 9562690.67395, \"harvested_pods\": 1761850.111983, \"harvestable_pods\": 5121.1078579998575, \"unharvestable_ratio\": 0.8440402514739338}, {\"timestamp\": \"2021-09-30T00:01:52\", \"season\": 1321, \"variable\": \"unharvestable_ratio\", \"value\": 0.8595033368446642, \"unharvestable_pods\": 10809635.08637, \"harvested_pods\": 1761850.111983, \"harvestable_pods\": 5121.1078579998575, \"unharvestable_ratio\": 0.8595033368446642}, {\"timestamp\": \"2021-09-30T00:01:52\", \"season\": 1321, \"variable\": \"harvestable_pods\", \"value\": 5121.1078579998575, \"unharvestable_pods\": 10809635.08637, \"harvested_pods\": 1761850.111983, \"harvestable_pods\": 5121.1078579998575, \"unharvestable_ratio\": 0.8595033368446642}, {\"timestamp\": \"2021-09-30T00:01:52\", \"season\": 1321, \"variable\": \"unharvestable_pods\", \"value\": 10809635.08637, \"unharvestable_pods\": 10809635.08637, \"harvested_pods\": 1761850.111983, \"harvestable_pods\": 5121.1078579998575, \"unharvestable_ratio\": 0.8595033368446642}, {\"timestamp\": \"2021-09-30T00:01:52\", \"season\": 1321, \"variable\": \"harvested_pods\", \"value\": 1761850.111983, \"unharvestable_pods\": 10809635.08637, \"harvested_pods\": 1761850.111983, \"harvestable_pods\": 5121.1078579998575, \"unharvestable_ratio\": 0.8595033368446642}, {\"timestamp\": \"2021-10-01T00:01:44\", \"season\": 1345, \"variable\": \"unharvestable_pods\", \"value\": 13475246.704519, \"unharvestable_pods\": 13475246.704519, \"harvested_pods\": 1774549.179391, \"harvestable_pods\": 9574.00044000009, \"unharvestable_ratio\": 0.8830801538102306}, {\"timestamp\": \"2021-10-01T00:01:44\", \"season\": 1345, \"variable\": \"harvested_pods\", \"value\": 1774549.179391, \"unharvestable_pods\": 13475246.704519, \"harvested_pods\": 1774549.179391, \"harvestable_pods\": 9574.00044000009, \"unharvestable_ratio\": 0.8830801538102306}, {\"timestamp\": \"2021-10-01T00:01:44\", \"season\": 1345, \"variable\": \"harvestable_pods\", \"value\": 9574.00044000009, \"unharvestable_pods\": 13475246.704519, \"harvested_pods\": 1774549.179391, \"harvestable_pods\": 9574.00044000009, \"unharvestable_ratio\": 0.8830801538102306}, {\"timestamp\": \"2021-10-01T00:01:44\", \"season\": 1345, \"variable\": \"unharvestable_ratio\", \"value\": 0.8830801538102306, \"unharvestable_pods\": 13475246.704519, \"harvested_pods\": 1774549.179391, \"harvestable_pods\": 9574.00044000009, \"unharvestable_ratio\": 0.8830801538102306}, {\"timestamp\": \"2021-10-02T00:00:44\", \"season\": 1369, \"variable\": \"harvestable_pods\", \"value\": 60024.322716000024, \"unharvestable_pods\": 14256348.039144, \"harvested_pods\": 1896184.947802, \"harvestable_pods\": 60024.322716000024, \"unharvestable_ratio\": 0.8793398701294224}, {\"timestamp\": \"2021-10-02T00:00:44\", \"season\": 1369, \"variable\": \"unharvestable_ratio\", \"value\": 0.8793398701294224, \"unharvestable_pods\": 14256348.039144, \"harvested_pods\": 1896184.947802, \"harvestable_pods\": 60024.322716000024, \"unharvestable_ratio\": 0.8793398701294224}, {\"timestamp\": \"2021-10-02T00:00:44\", \"season\": 1369, \"variable\": \"unharvestable_pods\", \"value\": 14256348.039144, \"unharvestable_pods\": 14256348.039144, \"harvested_pods\": 1896184.947802, \"harvestable_pods\": 60024.322716000024, \"unharvestable_ratio\": 0.8793398701294224}, {\"timestamp\": \"2021-10-02T00:00:44\", \"season\": 1369, \"variable\": \"harvested_pods\", \"value\": 1896184.947802, \"unharvestable_pods\": 14256348.039144, \"harvested_pods\": 1896184.947802, \"harvestable_pods\": 60024.322716000024, \"unharvestable_ratio\": 0.8793398701294224}, {\"timestamp\": \"2021-10-03T00:00:05\", \"season\": 1393, \"variable\": \"harvested_pods\", \"value\": 1913589.129855, \"unharvestable_pods\": 14377185.019648, \"harvested_pods\": 1913589.129855, \"harvestable_pods\": 42620.14066300006, \"unharvestable_ratio\": 0.8802325324567845}, {\"timestamp\": \"2021-10-03T00:00:05\", \"season\": 1393, \"variable\": \"harvestable_pods\", \"value\": 42620.14066300006, \"unharvestable_pods\": 14377185.019648, \"harvested_pods\": 1913589.129855, \"harvestable_pods\": 42620.14066300006, \"unharvestable_ratio\": 0.8802325324567845}, {\"timestamp\": \"2021-10-03T00:00:05\", \"season\": 1393, \"variable\": \"unharvestable_ratio\", \"value\": 0.8802325324567845, \"unharvestable_pods\": 14377185.019648, \"harvested_pods\": 1913589.129855, \"harvestable_pods\": 42620.14066300006, \"unharvestable_ratio\": 0.8802325324567845}, {\"timestamp\": \"2021-10-03T00:00:05\", \"season\": 1393, \"variable\": \"unharvestable_pods\", \"value\": 14377185.019648, \"unharvestable_pods\": 14377185.019648, \"harvested_pods\": 1913589.129855, \"harvestable_pods\": 42620.14066300006, \"unharvestable_ratio\": 0.8802325324567845}, {\"timestamp\": \"2021-10-04T00:00:32\", \"season\": 1417, \"variable\": \"unharvestable_pods\", \"value\": 15032078.107687, \"unharvestable_pods\": 15032078.107687, \"harvested_pods\": 1913589.129855, \"harvestable_pods\": 42620.14066300006, \"unharvestable_ratio\": 0.8848495303283069}, {\"timestamp\": \"2021-10-04T00:00:32\", \"season\": 1417, \"variable\": \"harvested_pods\", \"value\": 1913589.129855, \"unharvestable_pods\": 15032078.107687, \"harvested_pods\": 1913589.129855, \"harvestable_pods\": 42620.14066300006, \"unharvestable_ratio\": 0.8848495303283069}, {\"timestamp\": \"2021-10-04T00:00:32\", \"season\": 1417, \"variable\": \"harvestable_pods\", \"value\": 42620.14066300006, \"unharvestable_pods\": 15032078.107687, \"harvested_pods\": 1913589.129855, \"harvestable_pods\": 42620.14066300006, \"unharvestable_ratio\": 0.8848495303283069}, {\"timestamp\": \"2021-10-04T00:00:32\", \"season\": 1417, \"variable\": \"unharvestable_ratio\", \"value\": 0.8848495303283069, \"unharvestable_pods\": 15032078.107687, \"harvested_pods\": 1913589.129855, \"harvestable_pods\": 42620.14066300006, \"unharvestable_ratio\": 0.8848495303283069}, {\"timestamp\": \"2021-10-05T00:03:55\", \"season\": 1441, \"variable\": \"harvestable_pods\", \"value\": 42620.14066300006, \"unharvestable_pods\": 15341560.821053, \"harvested_pods\": 1913589.129855, \"harvestable_pods\": 42620.14066300006, \"unharvestable_ratio\": 0.88690974269156}, {\"timestamp\": \"2021-10-05T00:03:55\", \"season\": 1441, \"variable\": \"unharvestable_ratio\", \"value\": 0.88690974269156, \"unharvestable_pods\": 15341560.821053, \"harvested_pods\": 1913589.129855, \"harvestable_pods\": 42620.14066300006, \"unharvestable_ratio\": 0.88690974269156}, {\"timestamp\": \"2021-10-05T00:03:55\", \"season\": 1441, \"variable\": \"harvested_pods\", \"value\": 1913589.129855, \"unharvestable_pods\": 15341560.821053, \"harvested_pods\": 1913589.129855, \"harvestable_pods\": 42620.14066300006, \"unharvestable_ratio\": 0.88690974269156}, {\"timestamp\": \"2021-10-05T00:03:55\", \"season\": 1441, \"variable\": \"unharvestable_pods\", \"value\": 15341560.821053, \"unharvestable_pods\": 15341560.821053, \"harvested_pods\": 1913589.129855, \"harvestable_pods\": 42620.14066300006, \"unharvestable_ratio\": 0.88690974269156}, {\"timestamp\": \"2021-10-06T00:01:34\", \"season\": 1465, \"variable\": \"unharvestable_pods\", \"value\": 16203853.092225, \"unharvestable_pods\": 16203853.092225, \"harvested_pods\": 1913589.129855, \"harvestable_pods\": 42620.14066300006, \"unharvestable_ratio\": 0.8922795951113395}, {\"timestamp\": \"2021-10-06T00:01:34\", \"season\": 1465, \"variable\": \"harvested_pods\", \"value\": 1913589.129855, \"unharvestable_pods\": 16203853.092225, \"harvested_pods\": 1913589.129855, \"harvestable_pods\": 42620.14066300006, \"unharvestable_ratio\": 0.8922795951113395}, {\"timestamp\": \"2021-10-06T00:01:34\", \"season\": 1465, \"variable\": \"harvestable_pods\", \"value\": 42620.14066300006, \"unharvestable_pods\": 16203853.092225, \"harvested_pods\": 1913589.129855, \"harvestable_pods\": 42620.14066300006, \"unharvestable_ratio\": 0.8922795951113395}, {\"timestamp\": \"2021-10-06T00:01:34\", \"season\": 1465, \"variable\": \"unharvestable_ratio\", \"value\": 0.8922795951113395, \"unharvestable_pods\": 16203853.092225, \"harvested_pods\": 1913589.129855, \"harvestable_pods\": 42620.14066300006, \"unharvestable_ratio\": 0.8922795951113395}, {\"timestamp\": \"2021-10-07T00:02:24\", \"season\": 1489, \"variable\": \"unharvestable_ratio\", \"value\": 0.8977526596744922, \"unharvestable_pods\": 17175919.392099, \"harvested_pods\": 1913589.129855, \"harvestable_pods\": 42620.14066300006, \"unharvestable_ratio\": 0.8977526596744922}, {\"timestamp\": \"2021-10-07T00:02:24\", \"season\": 1489, \"variable\": \"unharvestable_pods\", \"value\": 17175919.392099, \"unharvestable_pods\": 17175919.392099, \"harvested_pods\": 1913589.129855, \"harvestable_pods\": 42620.14066300006, \"unharvestable_ratio\": 0.8977526596744922}, {\"timestamp\": \"2021-10-07T00:02:24\", \"season\": 1489, \"variable\": \"harvested_pods\", \"value\": 1913589.129855, \"unharvestable_pods\": 17175919.392099, \"harvested_pods\": 1913589.129855, \"harvestable_pods\": 42620.14066300006, \"unharvestable_ratio\": 0.8977526596744922}, {\"timestamp\": \"2021-10-07T00:02:24\", \"season\": 1489, \"variable\": \"harvestable_pods\", \"value\": 42620.14066300006, \"unharvestable_pods\": 17175919.392099, \"harvested_pods\": 1913589.129855, \"harvestable_pods\": 42620.14066300006, \"unharvestable_ratio\": 0.8977526596744922}, {\"timestamp\": \"2021-10-08T00:01:18\", \"season\": 1513, \"variable\": \"unharvestable_pods\", \"value\": 19641610.093817, \"unharvestable_pods\": 19641610.093817, \"harvested_pods\": 1939798.788053, \"harvestable_pods\": 73483.38632799988, \"unharvestable_ratio\": 0.9070287605476721}, {\"timestamp\": \"2021-10-08T00:01:18\", \"season\": 1513, \"variable\": \"harvested_pods\", \"value\": 1939798.788053, \"unharvestable_pods\": 19641610.093817, \"harvested_pods\": 1939798.788053, \"harvestable_pods\": 73483.38632799988, \"unharvestable_ratio\": 0.9070287605476721}, {\"timestamp\": \"2021-10-08T00:01:18\", \"season\": 1513, \"variable\": \"harvestable_pods\", \"value\": 73483.38632799988, \"unharvestable_pods\": 19641610.093817, \"harvested_pods\": 1939798.788053, \"harvestable_pods\": 73483.38632799988, \"unharvestable_ratio\": 0.9070287605476721}, {\"timestamp\": \"2021-10-08T00:01:18\", \"season\": 1513, \"variable\": \"unharvestable_ratio\", \"value\": 0.9070287605476721, \"unharvestable_pods\": 19641610.093817, \"harvested_pods\": 1939798.788053, \"harvestable_pods\": 73483.38632799988, \"unharvestable_ratio\": 0.9070287605476721}, {\"timestamp\": \"2021-10-09T00:02:32\", \"season\": 1537, \"variable\": \"harvestable_pods\", \"value\": 72329.00438400009, \"unharvestable_pods\": 19862079.107193, \"harvested_pods\": 1940953.169997, \"harvestable_pods\": 72329.00438400009, \"unharvestable_ratio\": 0.9079657634693868}, {\"timestamp\": \"2021-10-09T00:02:32\", \"season\": 1537, \"variable\": \"unharvestable_ratio\", \"value\": 0.9079657634693868, \"unharvestable_pods\": 19862079.107193, \"harvested_pods\": 1940953.169997, \"harvestable_pods\": 72329.00438400009, \"unharvestable_ratio\": 0.9079657634693868}, {\"timestamp\": \"2021-10-09T00:02:32\", \"season\": 1537, \"variable\": \"unharvestable_pods\", \"value\": 19862079.107193, \"unharvestable_pods\": 19862079.107193, \"harvested_pods\": 1940953.169997, \"harvestable_pods\": 72329.00438400009, \"unharvestable_ratio\": 0.9079657634693868}, {\"timestamp\": \"2021-10-09T00:02:32\", \"season\": 1537, \"variable\": \"harvested_pods\", \"value\": 1940953.169997, \"unharvestable_pods\": 19862079.107193, \"harvested_pods\": 1940953.169997, \"harvestable_pods\": 72329.00438400009, \"unharvestable_ratio\": 0.9079657634693868}, {\"timestamp\": \"2021-10-10T00:00:39\", \"season\": 1561, \"variable\": \"harvestable_pods\", \"value\": 71736.722021, \"unharvestable_pods\": 20152544.143958, \"harvested_pods\": 1941545.45236, \"harvestable_pods\": 71736.722021, \"unharvestable_ratio\": 0.9091717969153579}, {\"timestamp\": \"2021-10-10T00:00:39\", \"season\": 1561, \"variable\": \"unharvestable_ratio\", \"value\": 0.9091717969153579, \"unharvestable_pods\": 20152544.143958, \"harvested_pods\": 1941545.45236, \"harvestable_pods\": 71736.722021, \"unharvestable_ratio\": 0.9091717969153579}, {\"timestamp\": \"2021-10-10T00:00:39\", \"season\": 1561, \"variable\": \"unharvestable_pods\", \"value\": 20152544.143958, \"unharvestable_pods\": 20152544.143958, \"harvested_pods\": 1941545.45236, \"harvestable_pods\": 71736.722021, \"unharvestable_ratio\": 0.9091717969153579}, {\"timestamp\": \"2021-10-10T00:00:39\", \"season\": 1561, \"variable\": \"harvested_pods\", \"value\": 1941545.45236, \"unharvestable_pods\": 20152544.143958, \"harvested_pods\": 1941545.45236, \"harvestable_pods\": 71736.722021, \"unharvestable_ratio\": 0.9091717969153579}, {\"timestamp\": \"2021-10-11T00:00:43\", \"season\": 1585, \"variable\": \"unharvestable_ratio\", \"value\": 0.910146017553962, \"unharvestable_pods\": 20392871.894417, \"harvested_pods\": 1946323.554864, \"harvestable_pods\": 66958.61951699993, \"unharvestable_ratio\": 0.910146017553962}, {\"timestamp\": \"2021-10-11T00:00:43\", \"season\": 1585, \"variable\": \"harvestable_pods\", \"value\": 66958.61951699993, \"unharvestable_pods\": 20392871.894417, \"harvested_pods\": 1946323.554864, \"harvestable_pods\": 66958.61951699993, \"unharvestable_ratio\": 0.910146017553962}, {\"timestamp\": \"2021-10-11T00:00:43\", \"season\": 1585, \"variable\": \"unharvestable_pods\", \"value\": 20392871.894417, \"unharvestable_pods\": 20392871.894417, \"harvested_pods\": 1946323.554864, \"harvestable_pods\": 66958.61951699993, \"unharvestable_ratio\": 0.910146017553962}, {\"timestamp\": \"2021-10-11T00:00:43\", \"season\": 1585, \"variable\": \"harvested_pods\", \"value\": 1946323.554864, \"unharvestable_pods\": 20392871.894417, \"harvested_pods\": 1946323.554864, \"harvestable_pods\": 66958.61951699993, \"unharvestable_ratio\": 0.910146017553962}, {\"timestamp\": \"2021-10-12T00:01:23\", \"season\": 1609, \"variable\": \"unharvestable_pods\", \"value\": 21870471.252005, \"unharvestable_pods\": 21870471.252005, \"harvested_pods\": 1950417.787806, \"harvestable_pods\": 62864.386574999895, \"unharvestable_ratio\": 0.9157049506231801}, {\"timestamp\": \"2021-10-12T00:01:23\", \"season\": 1609, \"variable\": \"harvested_pods\", \"value\": 1950417.787806, \"unharvestable_pods\": 21870471.252005, \"harvested_pods\": 1950417.787806, \"harvestable_pods\": 62864.386574999895, \"unharvestable_ratio\": 0.9157049506231801}, {\"timestamp\": \"2021-10-12T00:01:23\", \"season\": 1609, \"variable\": \"harvestable_pods\", \"value\": 62864.386574999895, \"unharvestable_pods\": 21870471.252005, \"harvested_pods\": 1950417.787806, \"harvestable_pods\": 62864.386574999895, \"unharvestable_ratio\": 0.9157049506231801}, {\"timestamp\": \"2021-10-12T00:01:23\", \"season\": 1609, \"variable\": \"unharvestable_ratio\", \"value\": 0.9157049506231801, \"unharvestable_pods\": 21870471.252005, \"harvested_pods\": 1950417.787806, \"harvestable_pods\": 62864.386574999895, \"unharvestable_ratio\": 0.9157049506231801}, {\"timestamp\": \"2021-10-13T00:00:49\", \"season\": 1633, \"variable\": \"unharvestable_pods\", \"value\": 23045349.947722, \"unharvestable_pods\": 23045349.947722, \"harvested_pods\": 1950417.787806, \"harvestable_pods\": 62864.386574999895, \"unharvestable_ratio\": 0.9196571399200525}, {\"timestamp\": \"2021-10-13T00:00:49\", \"season\": 1633, \"variable\": \"harvested_pods\", \"value\": 1950417.787806, \"unharvestable_pods\": 23045349.947722, \"harvested_pods\": 1950417.787806, \"harvestable_pods\": 62864.386574999895, \"unharvestable_ratio\": 0.9196571399200525}, {\"timestamp\": \"2021-10-13T00:00:49\", \"season\": 1633, \"variable\": \"harvestable_pods\", \"value\": 62864.386574999895, \"unharvestable_pods\": 23045349.947722, \"harvested_pods\": 1950417.787806, \"harvestable_pods\": 62864.386574999895, \"unharvestable_ratio\": 0.9196571399200525}, {\"timestamp\": \"2021-10-13T00:00:49\", \"season\": 1633, \"variable\": \"unharvestable_ratio\", \"value\": 0.9196571399200525, \"unharvestable_pods\": 23045349.947722, \"harvested_pods\": 1950417.787806, \"harvestable_pods\": 62864.386574999895, \"unharvestable_ratio\": 0.9196571399200525}, {\"timestamp\": \"2021-10-14T00:01:25\", \"season\": 1657, \"variable\": \"unharvestable_ratio\", \"value\": 0.9209523128388972, \"unharvestable_pods\": 23455928.205903, \"harvested_pods\": 1994865.741893, \"harvestable_pods\": 18416.43248800002, \"unharvestable_ratio\": 0.9209523128388972}, {\"timestamp\": \"2021-10-14T00:01:25\", \"season\": 1657, \"variable\": \"harvestable_pods\", \"value\": 18416.43248800002, \"unharvestable_pods\": 23455928.205903, \"harvested_pods\": 1994865.741893, \"harvestable_pods\": 18416.43248800002, \"unharvestable_ratio\": 0.9209523128388972}, {\"timestamp\": \"2021-10-14T00:01:25\", \"season\": 1657, \"variable\": \"unharvestable_pods\", \"value\": 23455928.205903, \"unharvestable_pods\": 23455928.205903, \"harvested_pods\": 1994865.741893, \"harvestable_pods\": 18416.43248800002, \"unharvestable_ratio\": 0.9209523128388972}, {\"timestamp\": \"2021-10-14T00:01:25\", \"season\": 1657, \"variable\": \"harvested_pods\", \"value\": 1994865.741893, \"unharvestable_pods\": 23455928.205903, \"harvested_pods\": 1994865.741893, \"harvestable_pods\": 18416.43248800002, \"unharvestable_ratio\": 0.9209523128388972}, {\"timestamp\": \"2021-10-15T00:02:14\", \"season\": 1681, \"variable\": \"unharvestable_pods\", \"value\": 23684454.465556, \"unharvestable_pods\": 23684454.465556, \"harvested_pods\": 1994865.741893, \"harvestable_pods\": 18416.43248800002, \"unharvestable_ratio\": 0.92165527250162}, {\"timestamp\": \"2021-10-15T00:02:14\", \"season\": 1681, \"variable\": \"harvested_pods\", \"value\": 1994865.741893, \"unharvestable_pods\": 23684454.465556, \"harvested_pods\": 1994865.741893, \"harvestable_pods\": 18416.43248800002, \"unharvestable_ratio\": 0.92165527250162}, {\"timestamp\": \"2021-10-15T00:02:14\", \"season\": 1681, \"variable\": \"harvestable_pods\", \"value\": 18416.43248800002, \"unharvestable_pods\": 23684454.465556, \"harvested_pods\": 1994865.741893, \"harvestable_pods\": 18416.43248800002, \"unharvestable_ratio\": 0.92165527250162}, {\"timestamp\": \"2021-10-15T00:02:14\", \"season\": 1681, \"variable\": \"unharvestable_ratio\", \"value\": 0.92165527250162, \"unharvestable_pods\": 23684454.465556, \"harvested_pods\": 1994865.741893, \"harvestable_pods\": 18416.43248800002, \"unharvestable_ratio\": 0.92165527250162}, {\"timestamp\": \"2021-10-16T00:02:08\", \"season\": 1705, \"variable\": \"unharvestable_ratio\", \"value\": 0.9226093123599417, \"unharvestable_pods\": 24001245.358243, \"harvested_pods\": 1994865.741893, \"harvestable_pods\": 18416.43248800002, \"unharvestable_ratio\": 0.9226093123599417}, {\"timestamp\": \"2021-10-16T00:02:08\", \"season\": 1705, \"variable\": \"harvestable_pods\", \"value\": 18416.43248800002, \"unharvestable_pods\": 24001245.358243, \"harvested_pods\": 1994865.741893, \"harvestable_pods\": 18416.43248800002, \"unharvestable_ratio\": 0.9226093123599417}, {\"timestamp\": \"2021-10-16T00:02:08\", \"season\": 1705, \"variable\": \"harvested_pods\", \"value\": 1994865.741893, \"unharvestable_pods\": 24001245.358243, \"harvested_pods\": 1994865.741893, \"harvestable_pods\": 18416.43248800002, \"unharvestable_ratio\": 0.9226093123599417}, {\"timestamp\": \"2021-10-16T00:02:08\", \"season\": 1705, \"variable\": \"unharvestable_pods\", \"value\": 24001245.358243, \"unharvestable_pods\": 24001245.358243, \"harvested_pods\": 1994865.741893, \"harvestable_pods\": 18416.43248800002, \"unharvestable_ratio\": 0.9226093123599417}, {\"timestamp\": \"2021-10-17T00:00:39\", \"season\": 1729, \"variable\": \"unharvestable_pods\", \"value\": 26222546.652227, \"unharvestable_pods\": 26222546.652227, \"harvested_pods\": 2039679.973857, \"harvestable_pods\": 48365.83789899992, \"unharvestable_ratio\": 0.9262450683639902}, {\"timestamp\": \"2021-10-17T00:00:39\", \"season\": 1729, \"variable\": \"harvested_pods\", \"value\": 2039679.973857, \"unharvestable_pods\": 26222546.652227, \"harvested_pods\": 2039679.973857, \"harvestable_pods\": 48365.83789899992, \"unharvestable_ratio\": 0.9262450683639902}, {\"timestamp\": \"2021-10-17T00:00:39\", \"season\": 1729, \"variable\": \"harvestable_pods\", \"value\": 48365.83789899992, \"unharvestable_pods\": 26222546.652227, \"harvested_pods\": 2039679.973857, \"harvestable_pods\": 48365.83789899992, \"unharvestable_ratio\": 0.9262450683639902}, {\"timestamp\": \"2021-10-17T00:00:39\", \"season\": 1729, \"variable\": \"unharvestable_ratio\", \"value\": 0.9262450683639902, \"unharvestable_pods\": 26222546.652227, \"harvested_pods\": 2039679.973857, \"harvestable_pods\": 48365.83789899992, \"unharvestable_ratio\": 0.9262450683639902}, {\"timestamp\": \"2021-10-18T00:00:48\", \"season\": 1753, \"variable\": \"harvestable_pods\", \"value\": 93661.51890200004, \"unharvestable_pods\": 29326616.762352, \"harvested_pods\": 2091475.64403, \"harvestable_pods\": 93661.51890200004, \"unharvestable_ratio\": 0.930656441145324}, {\"timestamp\": \"2021-10-18T00:00:48\", \"season\": 1753, \"variable\": \"unharvestable_ratio\", \"value\": 0.930656441145324, \"unharvestable_pods\": 29326616.762352, \"harvested_pods\": 2091475.64403, \"harvestable_pods\": 93661.51890200004, \"unharvestable_ratio\": 0.930656441145324}, {\"timestamp\": \"2021-10-18T00:00:48\", \"season\": 1753, \"variable\": \"unharvestable_pods\", \"value\": 29326616.762352, \"unharvestable_pods\": 29326616.762352, \"harvested_pods\": 2091475.64403, \"harvestable_pods\": 93661.51890200004, \"unharvestable_ratio\": 0.930656441145324}, {\"timestamp\": \"2021-10-18T00:00:48\", \"season\": 1753, \"variable\": \"harvested_pods\", \"value\": 2091475.64403, \"unharvestable_pods\": 29326616.762352, \"harvested_pods\": 2091475.64403, \"harvestable_pods\": 93661.51890200004, \"unharvestable_ratio\": 0.930656441145324}, {\"timestamp\": \"2021-10-19T00:01:14\", \"season\": 1777, \"variable\": \"unharvestable_pods\", \"value\": 30462140.603169, \"unharvestable_pods\": 30462140.603169, \"harvested_pods\": 2178806.576211, \"harvestable_pods\": 103332.72230700031, \"unharvestable_ratio\": 0.9303041842614953}, {\"timestamp\": \"2021-10-19T00:01:14\", \"season\": 1777, \"variable\": \"harvested_pods\", \"value\": 2178806.576211, \"unharvestable_pods\": 30462140.603169, \"harvested_pods\": 2178806.576211, \"harvestable_pods\": 103332.72230700031, \"unharvestable_ratio\": 0.9303041842614953}, {\"timestamp\": \"2021-10-19T00:01:14\", \"season\": 1777, \"variable\": \"harvestable_pods\", \"value\": 103332.72230700031, \"unharvestable_pods\": 30462140.603169, \"harvested_pods\": 2178806.576211, \"harvestable_pods\": 103332.72230700031, \"unharvestable_ratio\": 0.9303041842614953}, {\"timestamp\": \"2021-10-19T00:01:14\", \"season\": 1777, \"variable\": \"unharvestable_ratio\", \"value\": 0.9303041842614953, \"unharvestable_pods\": 30462140.603169, \"harvested_pods\": 2178806.576211, \"harvestable_pods\": 103332.72230700031, \"unharvestable_ratio\": 0.9303041842614953}, {\"timestamp\": \"2021-10-20T00:00:31\", \"season\": 1801, \"variable\": \"harvestable_pods\", \"value\": 133527.92249300005, \"unharvestable_pods\": 31327505.66392, \"harvested_pods\": 2188546.823076, \"harvestable_pods\": 133527.92249300005, \"unharvestable_ratio\": 0.9309924606098747}, {\"timestamp\": \"2021-10-20T00:00:31\", \"season\": 1801, \"variable\": \"unharvestable_pods\", \"value\": 31327505.66392, \"unharvestable_pods\": 31327505.66392, \"harvested_pods\": 2188546.823076, \"harvestable_pods\": 133527.92249300005, \"unharvestable_ratio\": 0.9309924606098747}, {\"timestamp\": \"2021-10-20T00:00:31\", \"season\": 1801, \"variable\": \"harvested_pods\", \"value\": 2188546.823076, \"unharvestable_pods\": 31327505.66392, \"harvested_pods\": 2188546.823076, \"harvestable_pods\": 133527.92249300005, \"unharvestable_ratio\": 0.9309924606098747}, {\"timestamp\": \"2021-10-20T00:00:31\", \"season\": 1801, \"variable\": \"unharvestable_ratio\", \"value\": 0.9309924606098747, \"unharvestable_pods\": 31327505.66392, \"harvested_pods\": 2188546.823076, \"harvestable_pods\": 133527.92249300005, \"unharvestable_ratio\": 0.9309924606098747}, {\"timestamp\": \"2021-10-21T00:02:30\", \"season\": 1825, \"variable\": \"unharvestable_ratio\", \"value\": 0.9235720519477285, \"unharvestable_pods\": 31192236.928038, \"harvested_pods\": 2251850.120014, \"harvestable_pods\": 329387.2166319997, \"unharvestable_ratio\": 0.9235720519477285}, {\"timestamp\": \"2021-10-21T00:02:30\", \"season\": 1825, \"variable\": \"harvestable_pods\", \"value\": 329387.2166319997, \"unharvestable_pods\": 31192236.928038, \"harvested_pods\": 2251850.120014, \"harvestable_pods\": 329387.2166319997, \"unharvestable_ratio\": 0.9235720519477285}, {\"timestamp\": \"2021-10-21T00:02:30\", \"season\": 1825, \"variable\": \"harvested_pods\", \"value\": 2251850.120014, \"unharvestable_pods\": 31192236.928038, \"harvested_pods\": 2251850.120014, \"harvestable_pods\": 329387.2166319997, \"unharvestable_ratio\": 0.9235720519477285}, {\"timestamp\": \"2021-10-21T00:02:30\", \"season\": 1825, \"variable\": \"unharvestable_pods\", \"value\": 31192236.928038, \"unharvestable_pods\": 31192236.928038, \"harvested_pods\": 2251850.120014, \"harvestable_pods\": 329387.2166319997, \"unharvestable_ratio\": 0.9235720519477285}, {\"timestamp\": \"2021-10-22T00:00:33\", \"season\": 1849, \"variable\": \"unharvestable_pods\", \"value\": 32511821.144857, \"unharvestable_pods\": 32511821.144857, \"harvested_pods\": 2312097.381269, \"harvestable_pods\": 329574.7408949998, \"unharvestable_ratio\": 0.9248532115400814}, {\"timestamp\": \"2021-10-22T00:00:33\", \"season\": 1849, \"variable\": \"harvested_pods\", \"value\": 2312097.381269, \"unharvestable_pods\": 32511821.144857, \"harvested_pods\": 2312097.381269, \"harvestable_pods\": 329574.7408949998, \"unharvestable_ratio\": 0.9248532115400814}, {\"timestamp\": \"2021-10-22T00:00:33\", \"season\": 1849, \"variable\": \"harvestable_pods\", \"value\": 329574.7408949998, \"unharvestable_pods\": 32511821.144857, \"harvested_pods\": 2312097.381269, \"harvestable_pods\": 329574.7408949998, \"unharvestable_ratio\": 0.9248532115400814}, {\"timestamp\": \"2021-10-22T00:00:33\", \"season\": 1849, \"variable\": \"unharvestable_ratio\", \"value\": 0.9248532115400814, \"unharvestable_pods\": 32511821.144857, \"harvested_pods\": 2312097.381269, \"harvestable_pods\": 329574.7408949998, \"unharvestable_ratio\": 0.9248532115400814}, {\"timestamp\": \"2021-10-23T00:00:12\", \"season\": 1873, \"variable\": \"unharvestable_pods\", \"value\": 33502195.121948, \"unharvestable_pods\": 33502195.121948, \"harvested_pods\": 2312865.381271, \"harvestable_pods\": 359392.0718120001, \"unharvestable_ratio\": 0.9261286000792865}, {\"timestamp\": \"2021-10-23T00:00:12\", \"season\": 1873, \"variable\": \"harvested_pods\", \"value\": 2312865.381271, \"unharvestable_pods\": 33502195.121948, \"harvested_pods\": 2312865.381271, \"harvestable_pods\": 359392.0718120001, \"unharvestable_ratio\": 0.9261286000792865}, {\"timestamp\": \"2021-10-23T00:00:12\", \"season\": 1873, \"variable\": \"harvestable_pods\", \"value\": 359392.0718120001, \"unharvestable_pods\": 33502195.121948, \"harvested_pods\": 2312865.381271, \"harvestable_pods\": 359392.0718120001, \"unharvestable_ratio\": 0.9261286000792865}, {\"timestamp\": \"2021-10-23T00:00:12\", \"season\": 1873, \"variable\": \"unharvestable_ratio\", \"value\": 0.9261286000792865, \"unharvestable_pods\": 33502195.121948, \"harvested_pods\": 2312865.381271, \"harvestable_pods\": 359392.0718120001, \"unharvestable_ratio\": 0.9261286000792865}, {\"timestamp\": \"2021-10-24T00:00:53\", \"season\": 1897, \"variable\": \"unharvestable_ratio\", \"value\": 0.9236715281440981, \"unharvestable_pods\": 33603389.84442, \"harvested_pods\": 2317323.122158, \"harvestable_pods\": 459524.83499000035, \"unharvestable_ratio\": 0.9236715281440981}, {\"timestamp\": \"2021-10-24T00:00:53\", \"season\": 1897, \"variable\": \"harvestable_pods\", \"value\": 459524.83499000035, \"unharvestable_pods\": 33603389.84442, \"harvested_pods\": 2317323.122158, \"harvestable_pods\": 459524.83499000035, \"unharvestable_ratio\": 0.9236715281440981}, {\"timestamp\": \"2021-10-24T00:00:53\", \"season\": 1897, \"variable\": \"unharvestable_pods\", \"value\": 33603389.84442, \"unharvestable_pods\": 33603389.84442, \"harvested_pods\": 2317323.122158, \"harvestable_pods\": 459524.83499000035, \"unharvestable_ratio\": 0.9236715281440981}, {\"timestamp\": \"2021-10-24T00:00:53\", \"season\": 1897, \"variable\": \"harvested_pods\", \"value\": 2317323.122158, \"unharvestable_pods\": 33603389.84442, \"harvested_pods\": 2317323.122158, \"harvestable_pods\": 459524.83499000035, \"unharvestable_ratio\": 0.9236715281440981}, {\"timestamp\": \"2021-10-25T00:00:35\", \"season\": 1921, \"variable\": \"unharvestable_pods\", \"value\": 36310891.522187, \"unharvestable_pods\": 36310891.522187, \"harvested_pods\": 2320758.905259, \"harvestable_pods\": 488672.791189, \"unharvestable_ratio\": 0.9281848546918517}, {\"timestamp\": \"2021-10-25T00:00:35\", \"season\": 1921, \"variable\": \"harvested_pods\", \"value\": 2320758.905259, \"unharvestable_pods\": 36310891.522187, \"harvested_pods\": 2320758.905259, \"harvestable_pods\": 488672.791189, \"unharvestable_ratio\": 0.9281848546918517}, {\"timestamp\": \"2021-10-25T00:00:35\", \"season\": 1921, \"variable\": \"harvestable_pods\", \"value\": 488672.791189, \"unharvestable_pods\": 36310891.522187, \"harvested_pods\": 2320758.905259, \"harvestable_pods\": 488672.791189, \"unharvestable_ratio\": 0.9281848546918517}, {\"timestamp\": \"2021-10-25T00:00:35\", \"season\": 1921, \"variable\": \"unharvestable_ratio\", \"value\": 0.9281848546918517, \"unharvestable_pods\": 36310891.522187, \"harvested_pods\": 2320758.905259, \"harvestable_pods\": 488672.791189, \"unharvestable_ratio\": 0.9281848546918517}, {\"timestamp\": \"2021-10-26T00:00:39\", \"season\": 1945, \"variable\": \"unharvestable_ratio\", \"value\": 0.9280185194393543, \"unharvestable_pods\": 37086281.784891, \"harvested_pods\": 2322242.464822, \"harvestable_pods\": 554343.9560810002, \"unharvestable_ratio\": 0.9280185194393543}, {\"timestamp\": \"2021-10-26T00:00:39\", \"season\": 1945, \"variable\": \"harvestable_pods\", \"value\": 554343.9560810002, \"unharvestable_pods\": 37086281.784891, \"harvested_pods\": 2322242.464822, \"harvestable_pods\": 554343.9560810002, \"unharvestable_ratio\": 0.9280185194393543}, {\"timestamp\": \"2021-10-26T00:00:39\", \"season\": 1945, \"variable\": \"harvested_pods\", \"value\": 2322242.464822, \"unharvestable_pods\": 37086281.784891, \"harvested_pods\": 2322242.464822, \"harvestable_pods\": 554343.9560810002, \"unharvestable_ratio\": 0.9280185194393543}, {\"timestamp\": \"2021-10-26T00:00:39\", \"season\": 1945, \"variable\": \"unharvestable_pods\", \"value\": 37086281.784891, \"unharvestable_pods\": 37086281.784891, \"harvested_pods\": 2322242.464822, \"harvestable_pods\": 554343.9560810002, \"unharvestable_ratio\": 0.9280185194393543}, {\"timestamp\": \"2021-10-27T00:01:02\", \"season\": 1969, \"variable\": \"unharvestable_pods\", \"value\": 37721161.04237, \"unharvestable_pods\": 37721161.04237, \"harvested_pods\": 2342456.907984, \"harvestable_pods\": 571887.304023, \"unharvestable_ratio\": 0.9282808422397286}, {\"timestamp\": \"2021-10-27T00:01:02\", \"season\": 1969, \"variable\": \"harvested_pods\", \"value\": 2342456.907984, \"unharvestable_pods\": 37721161.04237, \"harvested_pods\": 2342456.907984, \"harvestable_pods\": 571887.304023, \"unharvestable_ratio\": 0.9282808422397286}, {\"timestamp\": \"2021-10-27T00:01:02\", \"season\": 1969, \"variable\": \"harvestable_pods\", \"value\": 571887.304023, \"unharvestable_pods\": 37721161.04237, \"harvested_pods\": 2342456.907984, \"harvestable_pods\": 571887.304023, \"unharvestable_ratio\": 0.9282808422397286}, {\"timestamp\": \"2021-10-27T00:01:02\", \"season\": 1969, \"variable\": \"unharvestable_ratio\", \"value\": 0.9282808422397286, \"unharvestable_pods\": 37721161.04237, \"harvested_pods\": 2342456.907984, \"harvestable_pods\": 571887.304023, \"unharvestable_ratio\": 0.9282808422397286}, {\"timestamp\": \"2021-10-28T00:02:23\", \"season\": 1993, \"variable\": \"harvestable_pods\", \"value\": 737868.7173259999, \"unharvestable_pods\": 37717612.384744, \"harvested_pods\": 2342456.907984, \"harvestable_pods\": 737868.7173259999, \"unharvestable_ratio\": 0.9244980071161708}, {\"timestamp\": \"2021-10-28T00:02:23\", \"season\": 1993, \"variable\": \"unharvestable_ratio\", \"value\": 0.9244980071161708, \"unharvestable_pods\": 37717612.384744, \"harvested_pods\": 2342456.907984, \"harvestable_pods\": 737868.7173259999, \"unharvestable_ratio\": 0.9244980071161708}, {\"timestamp\": \"2021-10-28T00:02:23\", \"season\": 1993, \"variable\": \"unharvestable_pods\", \"value\": 37717612.384744, \"unharvestable_pods\": 37717612.384744, \"harvested_pods\": 2342456.907984, \"harvestable_pods\": 737868.7173259999, \"unharvestable_ratio\": 0.9244980071161708}, {\"timestamp\": \"2021-10-28T00:02:23\", \"season\": 1993, \"variable\": \"harvested_pods\", \"value\": 2342456.907984, \"unharvestable_pods\": 37717612.384744, \"harvested_pods\": 2342456.907984, \"harvestable_pods\": 737868.7173259999, \"unharvestable_ratio\": 0.9244980071161708}, {\"timestamp\": \"2021-10-29T00:01:54\", \"season\": 2017, \"variable\": \"unharvestable_pods\", \"value\": 39248573.888125, \"unharvestable_pods\": 39248573.888125, \"harvested_pods\": 2351589.611307, \"harvestable_pods\": 890086.6674350002, \"unharvestable_ratio\": 0.9237077619921902}, {\"timestamp\": \"2021-10-29T00:01:54\", \"season\": 2017, \"variable\": \"harvested_pods\", \"value\": 2351589.611307, \"unharvestable_pods\": 39248573.888125, \"harvested_pods\": 2351589.611307, \"harvestable_pods\": 890086.6674350002, \"unharvestable_ratio\": 0.9237077619921902}, {\"timestamp\": \"2021-10-29T00:01:54\", \"season\": 2017, \"variable\": \"harvestable_pods\", \"value\": 890086.6674350002, \"unharvestable_pods\": 39248573.888125, \"harvested_pods\": 2351589.611307, \"harvestable_pods\": 890086.6674350002, \"unharvestable_ratio\": 0.9237077619921902}, {\"timestamp\": \"2021-10-29T00:01:54\", \"season\": 2017, \"variable\": \"unharvestable_ratio\", \"value\": 0.9237077619921902, \"unharvestable_pods\": 39248573.888125, \"harvested_pods\": 2351589.611307, \"harvestable_pods\": 890086.6674350002, \"unharvestable_ratio\": 0.9237077619921902}, {\"timestamp\": \"2021-10-30T00:02:04\", \"season\": 2041, \"variable\": \"unharvestable_ratio\", \"value\": 0.9238472687441955, \"unharvestable_pods\": 40132932.648035, \"harvested_pods\": 2404237.180391, \"harvestable_pods\": 903920.4965889999, \"unharvestable_ratio\": 0.9238472687441955}, {\"timestamp\": \"2021-10-30T00:02:04\", \"season\": 2041, \"variable\": \"unharvestable_pods\", \"value\": 40132932.648035, \"unharvestable_pods\": 40132932.648035, \"harvested_pods\": 2404237.180391, \"harvestable_pods\": 903920.4965889999, \"unharvestable_ratio\": 0.9238472687441955}, {\"timestamp\": \"2021-10-30T00:02:04\", \"season\": 2041, \"variable\": \"harvested_pods\", \"value\": 2404237.180391, \"unharvestable_pods\": 40132932.648035, \"harvested_pods\": 2404237.180391, \"harvestable_pods\": 903920.4965889999, \"unharvestable_ratio\": 0.9238472687441955}, {\"timestamp\": \"2021-10-30T00:02:04\", \"season\": 2041, \"variable\": \"harvestable_pods\", \"value\": 903920.4965889999, \"unharvestable_pods\": 40132932.648035, \"harvested_pods\": 2404237.180391, \"harvestable_pods\": 903920.4965889999, \"unharvestable_ratio\": 0.9238472687441955}, {\"timestamp\": \"2021-10-31T00:02:28\", \"season\": 2065, \"variable\": \"harvested_pods\", \"value\": 2421013.306022, \"unharvestable_pods\": 40546944.306675, \"harvested_pods\": 2421013.306022, \"harvestable_pods\": 965179.8361820001, \"unharvestable_ratio\": 0.9229239399042646}, {\"timestamp\": \"2021-10-31T00:02:28\", \"season\": 2065, \"variable\": \"harvestable_pods\", \"value\": 965179.8361820001, \"unharvestable_pods\": 40546944.306675, \"harvested_pods\": 2421013.306022, \"harvestable_pods\": 965179.8361820001, \"unharvestable_ratio\": 0.9229239399042646}, {\"timestamp\": \"2021-10-31T00:02:28\", \"season\": 2065, \"variable\": \"unharvestable_pods\", \"value\": 40546944.306675, \"unharvestable_pods\": 40546944.306675, \"harvested_pods\": 2421013.306022, \"harvestable_pods\": 965179.8361820001, \"unharvestable_ratio\": 0.9229239399042646}, {\"timestamp\": \"2021-10-31T00:02:28\", \"season\": 2065, \"variable\": \"unharvestable_ratio\", \"value\": 0.9229239399042646, \"unharvestable_pods\": 40546944.306675, \"harvested_pods\": 2421013.306022, \"harvestable_pods\": 965179.8361820001, \"unharvestable_ratio\": 0.9229239399042646}, {\"timestamp\": \"2021-11-01T00:01:36\", \"season\": 2089, \"variable\": \"unharvestable_ratio\", \"value\": 0.9208194857703582, \"unharvestable_pods\": 40992508.199182, \"harvested_pods\": 2421013.306022, \"harvestable_pods\": 1103898.936749, \"unharvestable_ratio\": 0.9208194857703582}, {\"timestamp\": \"2021-11-01T00:01:36\", \"season\": 2089, \"variable\": \"harvestable_pods\", \"value\": 1103898.936749, \"unharvestable_pods\": 40992508.199182, \"harvested_pods\": 2421013.306022, \"harvestable_pods\": 1103898.936749, \"unharvestable_ratio\": 0.9208194857703582}, {\"timestamp\": \"2021-11-01T00:01:36\", \"season\": 2089, \"variable\": \"unharvestable_pods\", \"value\": 40992508.199182, \"unharvestable_pods\": 40992508.199182, \"harvested_pods\": 2421013.306022, \"harvestable_pods\": 1103898.936749, \"unharvestable_ratio\": 0.9208194857703582}, {\"timestamp\": \"2021-11-01T00:01:36\", \"season\": 2089, \"variable\": \"harvested_pods\", \"value\": 2421013.306022, \"unharvestable_pods\": 40992508.199182, \"harvested_pods\": 2421013.306022, \"harvestable_pods\": 1103898.936749, \"unharvestable_ratio\": 0.9208194857703582}, {\"timestamp\": \"2021-11-02T00:01:39\", \"season\": 2113, \"variable\": \"unharvestable_pods\", \"value\": 41860685.103613, \"unharvestable_pods\": 41860685.103613, \"harvested_pods\": 2444287.834122, \"harvestable_pods\": 1274102.0293110004, \"unharvestable_ratio\": 0.9184189265332519}, {\"timestamp\": \"2021-11-02T00:01:39\", \"season\": 2113, \"variable\": \"harvested_pods\", \"value\": 2444287.834122, \"unharvestable_pods\": 41860685.103613, \"harvested_pods\": 2444287.834122, \"harvestable_pods\": 1274102.0293110004, \"unharvestable_ratio\": 0.9184189265332519}, {\"timestamp\": \"2021-11-02T00:01:39\", \"season\": 2113, \"variable\": \"harvestable_pods\", \"value\": 1274102.0293110004, \"unharvestable_pods\": 41860685.103613, \"harvested_pods\": 2444287.834122, \"harvestable_pods\": 1274102.0293110004, \"unharvestable_ratio\": 0.9184189265332519}, {\"timestamp\": \"2021-11-02T00:01:39\", \"season\": 2113, \"variable\": \"unharvestable_ratio\", \"value\": 0.9184189265332519, \"unharvestable_pods\": 41860685.103613, \"harvested_pods\": 2444287.834122, \"harvestable_pods\": 1274102.0293110004, \"unharvestable_ratio\": 0.9184189265332519}, {\"timestamp\": \"2021-11-03T00:01:22\", \"season\": 2137, \"variable\": \"harvestable_pods\", \"value\": 1341197.448574, \"unharvestable_pods\": 43071511.619808, \"harvested_pods\": 2444287.834122, \"harvestable_pods\": 1341197.448574, \"unharvestable_ratio\": 0.9192119526871833}, {\"timestamp\": \"2021-11-03T00:01:22\", \"season\": 2137, \"variable\": \"unharvestable_ratio\", \"value\": 0.9192119526871833, \"unharvestable_pods\": 43071511.619808, \"harvested_pods\": 2444287.834122, \"harvestable_pods\": 1341197.448574, \"unharvestable_ratio\": 0.9192119526871833}, {\"timestamp\": \"2021-11-03T00:01:22\", \"season\": 2137, \"variable\": \"unharvestable_pods\", \"value\": 43071511.619808, \"unharvestable_pods\": 43071511.619808, \"harvested_pods\": 2444287.834122, \"harvestable_pods\": 1341197.448574, \"unharvestable_ratio\": 0.9192119526871833}, {\"timestamp\": \"2021-11-03T00:01:22\", \"season\": 2137, \"variable\": \"harvested_pods\", \"value\": 2444287.834122, \"unharvestable_pods\": 43071511.619808, \"harvested_pods\": 2444287.834122, \"harvestable_pods\": 1341197.448574, \"unharvestable_ratio\": 0.9192119526871833}, {\"timestamp\": \"2021-11-04T00:01:55\", \"season\": 2161, \"variable\": \"unharvestable_pods\", \"value\": 44119190.37388, \"unharvestable_pods\": 44119190.37388, \"harvested_pods\": 2444287.834122, \"harvestable_pods\": 1364984.4061000003, \"unharvestable_ratio\": 0.9205217102227435}, {\"timestamp\": \"2021-11-04T00:01:55\", \"season\": 2161, \"variable\": \"harvested_pods\", \"value\": 2444287.834122, \"unharvestable_pods\": 44119190.37388, \"harvested_pods\": 2444287.834122, \"harvestable_pods\": 1364984.4061000003, \"unharvestable_ratio\": 0.9205217102227435}, {\"timestamp\": \"2021-11-04T00:01:55\", \"season\": 2161, \"variable\": \"harvestable_pods\", \"value\": 1364984.4061000003, \"unharvestable_pods\": 44119190.37388, \"harvested_pods\": 2444287.834122, \"harvestable_pods\": 1364984.4061000003, \"unharvestable_ratio\": 0.9205217102227435}, {\"timestamp\": \"2021-11-04T00:01:55\", \"season\": 2161, \"variable\": \"unharvestable_ratio\", \"value\": 0.9205217102227435, \"unharvestable_pods\": 44119190.37388, \"harvested_pods\": 2444287.834122, \"harvestable_pods\": 1364984.4061000003, \"unharvestable_ratio\": 0.9205217102227435}, {\"timestamp\": \"2021-11-05T00:02:28\", \"season\": 2185, \"variable\": \"unharvestable_ratio\", \"value\": 0.9183832654168426, \"unharvestable_pods\": 44493384.867962, \"harvested_pods\": 2444287.834122, \"harvestable_pods\": 1509839.9469700004, \"unharvestable_ratio\": 0.9183832654168426}, {\"timestamp\": \"2021-11-05T00:02:28\", \"season\": 2185, \"variable\": \"unharvestable_pods\", \"value\": 44493384.867962, \"unharvestable_pods\": 44493384.867962, \"harvested_pods\": 2444287.834122, \"harvestable_pods\": 1509839.9469700004, \"unharvestable_ratio\": 0.9183832654168426}, {\"timestamp\": \"2021-11-05T00:02:28\", \"season\": 2185, \"variable\": \"harvested_pods\", \"value\": 2444287.834122, \"unharvestable_pods\": 44493384.867962, \"harvested_pods\": 2444287.834122, \"harvestable_pods\": 1509839.9469700004, \"unharvestable_ratio\": 0.9183832654168426}, {\"timestamp\": \"2021-11-05T00:02:28\", \"season\": 2185, \"variable\": \"harvestable_pods\", \"value\": 1509839.9469700004, \"unharvestable_pods\": 44493384.867962, \"harvested_pods\": 2444287.834122, \"harvestable_pods\": 1509839.9469700004, \"unharvestable_ratio\": 0.9183832654168426}, {\"timestamp\": \"2021-11-06T00:00:17\", \"season\": 2209, \"variable\": \"harvestable_pods\", \"value\": 1544130.1915610004, \"unharvestable_pods\": 45070564.580845, \"harvested_pods\": 2444287.834122, \"harvestable_pods\": 1544130.1915610004, \"unharvestable_ratio\": 0.91870157484366}, {\"timestamp\": \"2021-11-06T00:00:17\", \"season\": 2209, \"variable\": \"unharvestable_ratio\", \"value\": 0.91870157484366, \"unharvestable_pods\": 45070564.580845, \"harvested_pods\": 2444287.834122, \"harvestable_pods\": 1544130.1915610004, \"unharvestable_ratio\": 0.91870157484366}, {\"timestamp\": \"2021-11-06T00:00:17\", \"season\": 2209, \"variable\": \"unharvestable_pods\", \"value\": 45070564.580845, \"unharvestable_pods\": 45070564.580845, \"harvested_pods\": 2444287.834122, \"harvestable_pods\": 1544130.1915610004, \"unharvestable_ratio\": 0.91870157484366}, {\"timestamp\": \"2021-11-06T00:00:17\", \"season\": 2209, \"variable\": \"harvested_pods\", \"value\": 2444287.834122, \"unharvestable_pods\": 45070564.580845, \"harvested_pods\": 2444287.834122, \"harvestable_pods\": 1544130.1915610004, \"unharvestable_ratio\": 0.91870157484366}, {\"timestamp\": \"2021-11-07T00:00:17\", \"season\": 2233, \"variable\": \"unharvestable_pods\", \"value\": 45687545.746495, \"unharvestable_pods\": 45687545.746495, \"harvested_pods\": 2444287.834122, \"harvestable_pods\": 1622130.9325280003, \"unharvestable_ratio\": 0.9182694523654361}, {\"timestamp\": \"2021-11-07T00:00:17\", \"season\": 2233, \"variable\": \"harvested_pods\", \"value\": 2444287.834122, \"unharvestable_pods\": 45687545.746495, \"harvested_pods\": 2444287.834122, \"harvestable_pods\": 1622130.9325280003, \"unharvestable_ratio\": 0.9182694523654361}, {\"timestamp\": \"2021-11-07T00:00:17\", \"season\": 2233, \"variable\": \"harvestable_pods\", \"value\": 1622130.9325280003, \"unharvestable_pods\": 45687545.746495, \"harvested_pods\": 2444287.834122, \"harvestable_pods\": 1622130.9325280003, \"unharvestable_ratio\": 0.9182694523654361}, {\"timestamp\": \"2021-11-07T00:00:17\", \"season\": 2233, \"variable\": \"unharvestable_ratio\", \"value\": 0.9182694523654361, \"unharvestable_pods\": 45687545.746495, \"harvested_pods\": 2444287.834122, \"harvestable_pods\": 1622130.9325280003, \"unharvestable_ratio\": 0.9182694523654361}, {\"timestamp\": \"2021-11-08T00:01:22\", \"season\": 2257, \"variable\": \"unharvestable_pods\", \"value\": 45669300.676551, \"unharvestable_pods\": 45669300.676551, \"harvested_pods\": 2444287.834122, \"harvestable_pods\": 1645972.8805320002, \"unharvestable_ratio\": 0.9177995022404488}, {\"timestamp\": \"2021-11-08T00:01:22\", \"season\": 2257, \"variable\": \"harvested_pods\", \"value\": 2444287.834122, \"unharvestable_pods\": 45669300.676551, \"harvested_pods\": 2444287.834122, \"harvestable_pods\": 1645972.8805320002, \"unharvestable_ratio\": 0.9177995022404488}, {\"timestamp\": \"2021-11-08T00:01:22\", \"season\": 2257, \"variable\": \"harvestable_pods\", \"value\": 1645972.8805320002, \"unharvestable_pods\": 45669300.676551, \"harvested_pods\": 2444287.834122, \"harvestable_pods\": 1645972.8805320002, \"unharvestable_ratio\": 0.9177995022404488}, {\"timestamp\": \"2021-11-08T00:01:22\", \"season\": 2257, \"variable\": \"unharvestable_ratio\", \"value\": 0.9177995022404488, \"unharvestable_pods\": 45669300.676551, \"harvested_pods\": 2444287.834122, \"harvestable_pods\": 1645972.8805320002, \"unharvestable_ratio\": 0.9177995022404488}, {\"timestamp\": \"2021-11-09T00:02:23\", \"season\": 2281, \"variable\": \"unharvestable_ratio\", \"value\": 0.9174637868902397, \"unharvestable_pods\": 45960890.252611, \"harvested_pods\": 2444287.834122, \"harvestable_pods\": 1690412.50698, \"unharvestable_ratio\": 0.9174637868902397}, {\"timestamp\": \"2021-11-09T00:02:23\", \"season\": 2281, \"variable\": \"harvestable_pods\", \"value\": 1690412.50698, \"unharvestable_pods\": 45960890.252611, \"harvested_pods\": 2444287.834122, \"harvestable_pods\": 1690412.50698, \"unharvestable_ratio\": 0.9174637868902397}, {\"timestamp\": \"2021-11-09T00:02:23\", \"season\": 2281, \"variable\": \"harvested_pods\", \"value\": 2444287.834122, \"unharvestable_pods\": 45960890.252611, \"harvested_pods\": 2444287.834122, \"harvestable_pods\": 1690412.50698, \"unharvestable_ratio\": 0.9174637868902397}, {\"timestamp\": \"2021-11-09T00:02:23\", \"season\": 2281, \"variable\": \"unharvestable_pods\", \"value\": 45960890.252611, \"unharvestable_pods\": 45960890.252611, \"harvested_pods\": 2444287.834122, \"harvestable_pods\": 1690412.50698, \"unharvestable_ratio\": 0.9174637868902397}, {\"timestamp\": \"2021-11-10T00:00:20\", \"season\": 2305, \"variable\": \"unharvestable_pods\", \"value\": 46757719.751883, \"unharvestable_pods\": 46757719.751883, \"harvested_pods\": 2444287.834122, \"harvestable_pods\": 1788523.88838, \"unharvestable_ratio\": 0.9169882799784437}, {\"timestamp\": \"2021-11-10T00:00:20\", \"season\": 2305, \"variable\": \"harvested_pods\", \"value\": 2444287.834122, \"unharvestable_pods\": 46757719.751883, \"harvested_pods\": 2444287.834122, \"harvestable_pods\": 1788523.88838, \"unharvestable_ratio\": 0.9169882799784437}, {\"timestamp\": \"2021-11-10T00:00:20\", \"season\": 2305, \"variable\": \"harvestable_pods\", \"value\": 1788523.88838, \"unharvestable_pods\": 46757719.751883, \"harvested_pods\": 2444287.834122, \"harvestable_pods\": 1788523.88838, \"unharvestable_ratio\": 0.9169882799784437}, {\"timestamp\": \"2021-11-10T00:00:20\", \"season\": 2305, \"variable\": \"unharvestable_ratio\", \"value\": 0.9169882799784437, \"unharvestable_pods\": 46757719.751883, \"harvested_pods\": 2444287.834122, \"harvestable_pods\": 1788523.88838, \"unharvestable_ratio\": 0.9169882799784437}, {\"timestamp\": \"2021-11-11T00:02:14\", \"season\": 2329, \"variable\": \"unharvestable_ratio\", \"value\": 0.9231417045602699, \"unharvestable_pods\": 52287246.472421, \"harvested_pods\": 2545511.616523, \"harvestable_pods\": 1807783.8929910003, \"unharvestable_ratio\": 0.9231417045602699}, {\"timestamp\": \"2021-11-11T00:02:14\", \"season\": 2329, \"variable\": \"unharvestable_pods\", \"value\": 52287246.472421, \"unharvestable_pods\": 52287246.472421, \"harvested_pods\": 2545511.616523, \"harvestable_pods\": 1807783.8929910003, \"unharvestable_ratio\": 0.9231417045602699}, {\"timestamp\": \"2021-11-11T00:02:14\", \"season\": 2329, \"variable\": \"harvested_pods\", \"value\": 2545511.616523, \"unharvestable_pods\": 52287246.472421, \"harvested_pods\": 2545511.616523, \"harvestable_pods\": 1807783.8929910003, \"unharvestable_ratio\": 0.9231417045602699}, {\"timestamp\": \"2021-11-11T00:02:14\", \"season\": 2329, \"variable\": \"harvestable_pods\", \"value\": 1807783.8929910003, \"unharvestable_pods\": 52287246.472421, \"harvested_pods\": 2545511.616523, \"harvestable_pods\": 1807783.8929910003, \"unharvestable_ratio\": 0.9231417045602699}, {\"timestamp\": \"2021-11-12T00:01:57\", \"season\": 2353, \"variable\": \"unharvestable_ratio\", \"value\": 0.9404169657661989, \"unharvestable_pods\": 69415396.37269, \"harvested_pods\": 3324269.373112, \"harvestable_pods\": 1073758.404978, \"unharvestable_ratio\": 0.9404169657661989}, {\"timestamp\": \"2021-11-12T00:01:57\", \"season\": 2353, \"variable\": \"harvestable_pods\", \"value\": 1073758.404978, \"unharvestable_pods\": 69415396.37269, \"harvested_pods\": 3324269.373112, \"harvestable_pods\": 1073758.404978, \"unharvestable_ratio\": 0.9404169657661989}, {\"timestamp\": \"2021-11-12T00:01:57\", \"season\": 2353, \"variable\": \"harvested_pods\", \"value\": 3324269.373112, \"unharvestable_pods\": 69415396.37269, \"harvested_pods\": 3324269.373112, \"harvestable_pods\": 1073758.404978, \"unharvestable_ratio\": 0.9404169657661989}, {\"timestamp\": \"2021-11-12T00:01:57\", \"season\": 2353, \"variable\": \"unharvestable_pods\", \"value\": 69415396.37269, \"unharvestable_pods\": 69415396.37269, \"harvested_pods\": 3324269.373112, \"harvestable_pods\": 1073758.404978, \"unharvestable_ratio\": 0.9404169657661989}, {\"timestamp\": \"2021-11-13T00:00:17\", \"season\": 2377, \"variable\": \"unharvestable_pods\", \"value\": 74699377.041916, \"unharvestable_pods\": 74699377.041916, \"harvested_pods\": 3548049.174483, \"harvestable_pods\": 932821.3075190005, \"unharvestable_ratio\": 0.9434092387669227}, {\"timestamp\": \"2021-11-13T00:00:17\", \"season\": 2377, \"variable\": \"harvested_pods\", \"value\": 3548049.174483, \"unharvestable_pods\": 74699377.041916, \"harvested_pods\": 3548049.174483, \"harvestable_pods\": 932821.3075190005, \"unharvestable_ratio\": 0.9434092387669227}, {\"timestamp\": \"2021-11-13T00:00:17\", \"season\": 2377, \"variable\": \"harvestable_pods\", \"value\": 932821.3075190005, \"unharvestable_pods\": 74699377.041916, \"harvested_pods\": 3548049.174483, \"harvestable_pods\": 932821.3075190005, \"unharvestable_ratio\": 0.9434092387669227}, {\"timestamp\": \"2021-11-13T00:00:17\", \"season\": 2377, \"variable\": \"unharvestable_ratio\", \"value\": 0.9434092387669227, \"unharvestable_pods\": 74699377.041916, \"harvested_pods\": 3548049.174483, \"harvestable_pods\": 932821.3075190005, \"unharvestable_ratio\": 0.9434092387669227}, {\"timestamp\": \"2021-11-14T00:00:31\", \"season\": 2401, \"variable\": \"harvestable_pods\", \"value\": 881834.0385710006, \"unharvestable_pods\": 76906535.818907, \"harvested_pods\": 3640517.214227, \"harvestable_pods\": 881834.0385710006, \"unharvestable_ratio\": 0.9444625683166258}, {\"timestamp\": \"2021-11-14T00:00:31\", \"season\": 2401, \"variable\": \"unharvestable_ratio\", \"value\": 0.9444625683166258, \"unharvestable_pods\": 76906535.818907, \"harvested_pods\": 3640517.214227, \"harvestable_pods\": 881834.0385710006, \"unharvestable_ratio\": 0.9444625683166258}, {\"timestamp\": \"2021-11-14T00:00:31\", \"season\": 2401, \"variable\": \"unharvestable_pods\", \"value\": 76906535.818907, \"unharvestable_pods\": 76906535.818907, \"harvested_pods\": 3640517.214227, \"harvestable_pods\": 881834.0385710006, \"unharvestable_ratio\": 0.9444625683166258}, {\"timestamp\": \"2021-11-14T00:00:31\", \"season\": 2401, \"variable\": \"harvested_pods\", \"value\": 3640517.214227, \"unharvestable_pods\": 76906535.818907, \"harvested_pods\": 3640517.214227, \"harvestable_pods\": 881834.0385710006, \"unharvestable_ratio\": 0.9444625683166258}, {\"timestamp\": \"2021-11-15T00:01:44\", \"season\": 2425, \"variable\": \"unharvestable_pods\", \"value\": 88263251.291694, \"unharvestable_pods\": 88263251.291694, \"harvested_pods\": 4038702.091539, \"harvestable_pods\": 643220.9590400001, \"unharvestable_ratio\": 0.9496270453661457}, {\"timestamp\": \"2021-11-15T00:01:44\", \"season\": 2425, \"variable\": \"harvested_pods\", \"value\": 4038702.091539, \"unharvestable_pods\": 88263251.291694, \"harvested_pods\": 4038702.091539, \"harvestable_pods\": 643220.9590400001, \"unharvestable_ratio\": 0.9496270453661457}, {\"timestamp\": \"2021-11-15T00:01:44\", \"season\": 2425, \"variable\": \"harvestable_pods\", \"value\": 643220.9590400001, \"unharvestable_pods\": 88263251.291694, \"harvested_pods\": 4038702.091539, \"harvestable_pods\": 643220.9590400001, \"unharvestable_ratio\": 0.9496270453661457}, {\"timestamp\": \"2021-11-15T00:01:44\", \"season\": 2425, \"variable\": \"unharvestable_ratio\", \"value\": 0.9496270453661457, \"unharvestable_pods\": 88263251.291694, \"harvested_pods\": 4038702.091539, \"harvestable_pods\": 643220.9590400001, \"unharvestable_ratio\": 0.9496270453661457}, {\"timestamp\": \"2021-11-16T00:00:56\", \"season\": 2449, \"variable\": \"unharvestable_ratio\", \"value\": 0.9530355370666559, \"unharvestable_pods\": 97688004.946962, \"harvested_pods\": 4336050.723231, \"harvestable_pods\": 477898.504187, \"unharvestable_ratio\": 0.9530355370666559}, {\"timestamp\": \"2021-11-16T00:00:56\", \"season\": 2449, \"variable\": \"unharvestable_pods\", \"value\": 97688004.946962, \"unharvestable_pods\": 97688004.946962, \"harvested_pods\": 4336050.723231, \"harvestable_pods\": 477898.504187, \"unharvestable_ratio\": 0.9530355370666559}, {\"timestamp\": \"2021-11-16T00:00:56\", \"season\": 2449, \"variable\": \"harvested_pods\", \"value\": 4336050.723231, \"unharvestable_pods\": 97688004.946962, \"harvested_pods\": 4336050.723231, \"harvestable_pods\": 477898.504187, \"unharvestable_ratio\": 0.9530355370666559}, {\"timestamp\": \"2021-11-16T00:00:56\", \"season\": 2449, \"variable\": \"harvestable_pods\", \"value\": 477898.504187, \"unharvestable_pods\": 97688004.946962, \"harvested_pods\": 4336050.723231, \"harvestable_pods\": 477898.504187, \"unharvestable_ratio\": 0.9530355370666559}, {\"timestamp\": \"2021-11-17T00:00:50\", \"season\": 2473, \"variable\": \"unharvestable_ratio\", \"value\": 0.9528798617698457, \"unharvestable_pods\": 107882931.181396, \"harvested_pods\": 4988304.762608, \"harvestable_pods\": 346532.1186119998, \"unharvestable_ratio\": 0.9528798617698457}, {\"timestamp\": \"2021-11-17T00:00:50\", \"season\": 2473, \"variable\": \"harvestable_pods\", \"value\": 346532.1186119998, \"unharvestable_pods\": 107882931.181396, \"harvested_pods\": 4988304.762608, \"harvestable_pods\": 346532.1186119998, \"unharvestable_ratio\": 0.9528798617698457}, {\"timestamp\": \"2021-11-17T00:00:50\", \"season\": 2473, \"variable\": \"unharvestable_pods\", \"value\": 107882931.181396, \"unharvestable_pods\": 107882931.181396, \"harvested_pods\": 4988304.762608, \"harvestable_pods\": 346532.1186119998, \"unharvestable_ratio\": 0.9528798617698457}, {\"timestamp\": \"2021-11-17T00:00:50\", \"season\": 2473, \"variable\": \"harvested_pods\", \"value\": 4988304.762608, \"unharvestable_pods\": 107882931.181396, \"harvested_pods\": 4988304.762608, \"harvestable_pods\": 346532.1186119998, \"unharvestable_ratio\": 0.9528798617698457}, {\"timestamp\": \"2021-11-18T00:00:38\", \"season\": 2497, \"variable\": \"unharvestable_pods\", \"value\": 116710073.341621, \"unharvestable_pods\": 116710073.341621, \"harvested_pods\": 5312720.314864, \"harvestable_pods\": 358681.3959459998, \"unharvestable_ratio\": 0.9536580049522999}, {\"timestamp\": \"2021-11-18T00:00:38\", \"season\": 2497, \"variable\": \"harvested_pods\", \"value\": 5312720.314864, \"unharvestable_pods\": 116710073.341621, \"harvested_pods\": 5312720.314864, \"harvestable_pods\": 358681.3959459998, \"unharvestable_ratio\": 0.9536580049522999}, {\"timestamp\": \"2021-11-18T00:00:38\", \"season\": 2497, \"variable\": \"harvestable_pods\", \"value\": 358681.3959459998, \"unharvestable_pods\": 116710073.341621, \"harvested_pods\": 5312720.314864, \"harvestable_pods\": 358681.3959459998, \"unharvestable_ratio\": 0.9536580049522999}, {\"timestamp\": \"2021-11-18T00:00:38\", \"season\": 2497, \"variable\": \"unharvestable_ratio\", \"value\": 0.9536580049522999, \"unharvestable_pods\": 116710073.341621, \"harvested_pods\": 5312720.314864, \"harvestable_pods\": 358681.3959459998, \"unharvestable_ratio\": 0.9536580049522999}, {\"timestamp\": \"2021-11-19T00:00:49\", \"season\": 2521, \"variable\": \"unharvestable_ratio\", \"value\": 0.9555035379066505, \"unharvestable_pods\": 124500873.51767, \"harvested_pods\": 5641302.664122, \"harvestable_pods\": 156528.71932299994, \"unharvestable_ratio\": 0.9555035379066505}, {\"timestamp\": \"2021-11-19T00:00:49\", \"season\": 2521, \"variable\": \"unharvestable_pods\", \"value\": 124500873.51767, \"unharvestable_pods\": 124500873.51767, \"harvested_pods\": 5641302.664122, \"harvestable_pods\": 156528.71932299994, \"unharvestable_ratio\": 0.9555035379066505}, {\"timestamp\": \"2021-11-19T00:00:49\", \"season\": 2521, \"variable\": \"harvested_pods\", \"value\": 5641302.664122, \"unharvestable_pods\": 124500873.51767, \"harvested_pods\": 5641302.664122, \"harvestable_pods\": 156528.71932299994, \"unharvestable_ratio\": 0.9555035379066505}, {\"timestamp\": \"2021-11-19T00:00:49\", \"season\": 2521, \"variable\": \"harvestable_pods\", \"value\": 156528.71932299994, \"unharvestable_pods\": 124500873.51767, \"harvested_pods\": 5641302.664122, \"harvestable_pods\": 156528.71932299994, \"unharvestable_ratio\": 0.9555035379066505}, {\"timestamp\": \"2021-11-20T00:01:08\", \"season\": 2545, \"variable\": \"unharvestable_ratio\", \"value\": 0.9552000549740819, \"unharvestable_pods\": 128056419.079964, \"harvested_pods\": 5802462.985656, \"harvestable_pods\": 203525.50348199997, \"unharvestable_ratio\": 0.9552000549740819}, {\"timestamp\": \"2021-11-20T00:01:08\", \"season\": 2545, \"variable\": \"harvestable_pods\", \"value\": 203525.50348199997, \"unharvestable_pods\": 128056419.079964, \"harvested_pods\": 5802462.985656, \"harvestable_pods\": 203525.50348199997, \"unharvestable_ratio\": 0.9552000549740819}, {\"timestamp\": \"2021-11-20T00:01:08\", \"season\": 2545, \"variable\": \"unharvestable_pods\", \"value\": 128056419.079964, \"unharvestable_pods\": 128056419.079964, \"harvested_pods\": 5802462.985656, \"harvestable_pods\": 203525.50348199997, \"unharvestable_ratio\": 0.9552000549740819}, {\"timestamp\": \"2021-11-20T00:01:08\", \"season\": 2545, \"variable\": \"harvested_pods\", \"value\": 5802462.985656, \"unharvestable_pods\": 128056419.079964, \"harvested_pods\": 5802462.985656, \"harvestable_pods\": 203525.50348199997, \"unharvestable_ratio\": 0.9552000549740819}, {\"timestamp\": \"2021-11-21T00:00:01\", \"season\": 2569, \"variable\": \"unharvestable_ratio\", \"value\": 0.9534418335300903, \"unharvestable_pods\": 133170606.27779, \"harvested_pods\": 6137556.431239, \"harvestable_pods\": 365387.9938280005, \"unharvestable_ratio\": 0.9534418335300903}, {\"timestamp\": \"2021-11-21T00:00:01\", \"season\": 2569, \"variable\": \"unharvestable_pods\", \"value\": 133170606.27779, \"unharvestable_pods\": 133170606.27779, \"harvested_pods\": 6137556.431239, \"harvestable_pods\": 365387.9938280005, \"unharvestable_ratio\": 0.9534418335300903}, {\"timestamp\": \"2021-11-21T00:00:01\", \"season\": 2569, \"variable\": \"harvested_pods\", \"value\": 6137556.431239, \"unharvestable_pods\": 133170606.27779, \"harvested_pods\": 6137556.431239, \"harvestable_pods\": 365387.9938280005, \"unharvestable_ratio\": 0.9534418335300903}, {\"timestamp\": \"2021-11-21T00:00:01\", \"season\": 2569, \"variable\": \"harvestable_pods\", \"value\": 365387.9938280005, \"unharvestable_pods\": 133170606.27779, \"harvested_pods\": 6137556.431239, \"harvestable_pods\": 365387.9938280005, \"unharvestable_ratio\": 0.9534418335300903}, {\"timestamp\": \"2021-11-22T00:01:39\", \"season\": 2593, \"variable\": \"harvested_pods\", \"value\": 6818536.16825, \"unharvestable_pods\": 144459770.812754, \"harvested_pods\": 6818536.16825, \"harvestable_pods\": 267833.80058200005, \"unharvestable_ratio\": 0.953239522086906}, {\"timestamp\": \"2021-11-22T00:01:39\", \"season\": 2593, \"variable\": \"harvestable_pods\", \"value\": 267833.80058200005, \"unharvestable_pods\": 144459770.812754, \"harvested_pods\": 6818536.16825, \"harvestable_pods\": 267833.80058200005, \"unharvestable_ratio\": 0.953239522086906}, {\"timestamp\": \"2021-11-22T00:01:39\", \"season\": 2593, \"variable\": \"unharvestable_pods\", \"value\": 144459770.812754, \"unharvestable_pods\": 144459770.812754, \"harvested_pods\": 6818536.16825, \"harvestable_pods\": 267833.80058200005, \"unharvestable_ratio\": 0.953239522086906}, {\"timestamp\": \"2021-11-22T00:01:39\", \"season\": 2593, \"variable\": \"unharvestable_ratio\", \"value\": 0.953239522086906, \"unharvestable_pods\": 144459770.812754, \"harvested_pods\": 6818536.16825, \"harvestable_pods\": 267833.80058200005, \"unharvestable_ratio\": 0.953239522086906}, {\"timestamp\": \"2021-11-23T00:01:23\", \"season\": 2617, \"variable\": \"unharvestable_ratio\", \"value\": 0.9529468854965338, \"unharvestable_pods\": 160652768.388122, \"harvested_pods\": 7539854.901993, \"harvestable_pods\": 392605.1556590004, \"unharvestable_ratio\": 0.9529468854965338}, {\"timestamp\": \"2021-11-23T00:01:23\", \"season\": 2617, \"variable\": \"harvestable_pods\", \"value\": 392605.1556590004, \"unharvestable_pods\": 160652768.388122, \"harvested_pods\": 7539854.901993, \"harvestable_pods\": 392605.1556590004, \"unharvestable_ratio\": 0.9529468854965338}, {\"timestamp\": \"2021-11-23T00:01:23\", \"season\": 2617, \"variable\": \"unharvestable_pods\", \"value\": 160652768.388122, \"unharvestable_pods\": 160652768.388122, \"harvested_pods\": 7539854.901993, \"harvestable_pods\": 392605.1556590004, \"unharvestable_ratio\": 0.9529468854965338}, {\"timestamp\": \"2021-11-23T00:01:23\", \"season\": 2617, \"variable\": \"harvested_pods\", \"value\": 7539854.901993, \"unharvestable_pods\": 160652768.388122, \"harvested_pods\": 7539854.901993, \"harvestable_pods\": 392605.1556590004, \"unharvestable_ratio\": 0.9529468854965338}, {\"timestamp\": \"2021-11-24T00:00:42\", \"season\": 2629, \"variable\": \"unharvestable_pods\", \"value\": 192116888.976881, \"unharvestable_pods\": 192116888.976881, \"harvested_pods\": 8744902.959668, \"harvestable_pods\": 814208.9425070006, \"unharvestable_ratio\": 0.9526016389629446}, {\"timestamp\": \"2021-11-24T00:00:42\", \"season\": 2629, \"variable\": \"harvested_pods\", \"value\": 8744902.959668, \"unharvestable_pods\": 192116888.976881, \"harvested_pods\": 8744902.959668, \"harvestable_pods\": 814208.9425070006, \"unharvestable_ratio\": 0.9526016389629446}, {\"timestamp\": \"2021-11-24T00:00:42\", \"season\": 2629, \"variable\": \"harvestable_pods\", \"value\": 814208.9425070006, \"unharvestable_pods\": 192116888.976881, \"harvested_pods\": 8744902.959668, \"harvestable_pods\": 814208.9425070006, \"unharvestable_ratio\": 0.9526016389629446}, {\"timestamp\": \"2021-11-24T00:00:42\", \"season\": 2629, \"variable\": \"unharvestable_ratio\", \"value\": 0.9526016389629446, \"unharvestable_pods\": 192116888.976881, \"harvested_pods\": 8744902.959668, \"harvestable_pods\": 814208.9425070006, \"unharvestable_ratio\": 0.9526016389629446}, {\"timestamp\": \"2021-11-25T00:00:29\", \"season\": 2653, \"variable\": \"unharvestable_pods\", \"value\": 207139991.813183, \"unharvestable_pods\": 207139991.813183, \"harvested_pods\": 10778016.628453, \"harvestable_pods\": 753960.1080780011, \"unharvestable_ratio\": 0.94726358017896}, {\"timestamp\": \"2021-11-25T00:00:29\", \"season\": 2653, \"variable\": \"harvested_pods\", \"value\": 10778016.628453, \"unharvestable_pods\": 207139991.813183, \"harvested_pods\": 10778016.628453, \"harvestable_pods\": 753960.1080780011, \"unharvestable_ratio\": 0.94726358017896}, {\"timestamp\": \"2021-11-25T00:00:29\", \"season\": 2653, \"variable\": \"harvestable_pods\", \"value\": 753960.1080780011, \"unharvestable_pods\": 207139991.813183, \"harvested_pods\": 10778016.628453, \"harvestable_pods\": 753960.1080780011, \"unharvestable_ratio\": 0.94726358017896}, {\"timestamp\": \"2021-11-25T00:00:29\", \"season\": 2653, \"variable\": \"unharvestable_ratio\", \"value\": 0.94726358017896, \"unharvestable_pods\": 207139991.813183, \"harvested_pods\": 10778016.628453, \"harvestable_pods\": 753960.1080780011, \"unharvestable_ratio\": 0.94726358017896}, {\"timestamp\": \"2021-11-26T00:00:31\", \"season\": 2677, \"variable\": \"harvestable_pods\", \"value\": 945187.2535420004, \"unharvestable_pods\": 217454795.178162, \"harvested_pods\": 11611253.820139, \"harvestable_pods\": 945187.2535420004, \"unharvestable_ratio\": 0.9454094448675857}, {\"timestamp\": \"2021-11-26T00:00:31\", \"season\": 2677, \"variable\": \"unharvestable_ratio\", \"value\": 0.9454094448675857, \"unharvestable_pods\": 217454795.178162, \"harvested_pods\": 11611253.820139, \"harvestable_pods\": 945187.2535420004, \"unharvestable_ratio\": 0.9454094448675857}, {\"timestamp\": \"2021-11-26T00:00:31\", \"season\": 2677, \"variable\": \"unharvestable_pods\", \"value\": 217454795.178162, \"unharvestable_pods\": 217454795.178162, \"harvested_pods\": 11611253.820139, \"harvestable_pods\": 945187.2535420004, \"unharvestable_ratio\": 0.9454094448675857}, {\"timestamp\": \"2021-11-26T00:00:31\", \"season\": 2677, \"variable\": \"harvested_pods\", \"value\": 11611253.820139, \"unharvestable_pods\": 217454795.178162, \"harvested_pods\": 11611253.820139, \"harvestable_pods\": 945187.2535420004, \"unharvestable_ratio\": 0.9454094448675857}, {\"timestamp\": \"2021-11-27T00:00:49\", \"season\": 2701, \"variable\": \"unharvestable_pods\", \"value\": 232970121.302128, \"unharvestable_pods\": 232970121.302128, \"harvested_pods\": 13260289.481039, \"harvestable_pods\": 691882.454101, \"unharvestable_ratio\": 0.9434956975645236}, {\"timestamp\": \"2021-11-27T00:00:49\", \"season\": 2701, \"variable\": \"harvested_pods\", \"value\": 13260289.481039, \"unharvestable_pods\": 232970121.302128, \"harvested_pods\": 13260289.481039, \"harvestable_pods\": 691882.454101, \"unharvestable_ratio\": 0.9434956975645236}, {\"timestamp\": \"2021-11-27T00:00:49\", \"season\": 2701, \"variable\": \"harvestable_pods\", \"value\": 691882.454101, \"unharvestable_pods\": 232970121.302128, \"harvested_pods\": 13260289.481039, \"harvestable_pods\": 691882.454101, \"unharvestable_ratio\": 0.9434956975645236}, {\"timestamp\": \"2021-11-27T00:00:49\", \"season\": 2701, \"variable\": \"unharvestable_ratio\", \"value\": 0.9434956975645236, \"unharvestable_pods\": 232970121.302128, \"harvested_pods\": 13260289.481039, \"harvestable_pods\": 691882.454101, \"unharvestable_ratio\": 0.9434956975645236}, {\"timestamp\": \"2021-11-28T00:00:38\", \"season\": 2725, \"variable\": \"unharvestable_ratio\", \"value\": 0.9404530657665142, \"unharvestable_pods\": 243044650.161823, \"harvested_pods\": 14751092.230032, \"harvestable_pods\": 637835.0070659984, \"unharvestable_ratio\": 0.9404530657665142}, {\"timestamp\": \"2021-11-28T00:00:38\", \"season\": 2725, \"variable\": \"harvestable_pods\", \"value\": 637835.0070659984, \"unharvestable_pods\": 243044650.161823, \"harvested_pods\": 14751092.230032, \"harvestable_pods\": 637835.0070659984, \"unharvestable_ratio\": 0.9404530657665142}, {\"timestamp\": \"2021-11-28T00:00:38\", \"season\": 2725, \"variable\": \"harvested_pods\", \"value\": 14751092.230032, \"unharvestable_pods\": 243044650.161823, \"harvested_pods\": 14751092.230032, \"harvestable_pods\": 637835.0070659984, \"unharvestable_ratio\": 0.9404530657665142}, {\"timestamp\": \"2021-11-28T00:00:38\", \"season\": 2725, \"variable\": \"unharvestable_pods\", \"value\": 243044650.161823, \"unharvestable_pods\": 243044650.161823, \"harvested_pods\": 14751092.230032, \"harvestable_pods\": 637835.0070659984, \"unharvestable_ratio\": 0.9404530657665142}, {\"timestamp\": \"2021-11-29T00:01:08\", \"season\": 2749, \"variable\": \"unharvestable_ratio\", \"value\": 0.9376536088293672, \"unharvestable_pods\": 259134587.678739, \"harvested_pods\": 16434650.398223, \"harvestable_pods\": 795706.5450299997, \"unharvestable_ratio\": 0.9376536088293672}, {\"timestamp\": \"2021-11-29T00:01:08\", \"season\": 2749, \"variable\": \"harvestable_pods\", \"value\": 795706.5450299997, \"unharvestable_pods\": 259134587.678739, \"harvested_pods\": 16434650.398223, \"harvestable_pods\": 795706.5450299997, \"unharvestable_ratio\": 0.9376536088293672}, {\"timestamp\": \"2021-11-29T00:01:08\", \"season\": 2749, \"variable\": \"unharvestable_pods\", \"value\": 259134587.678739, \"unharvestable_pods\": 259134587.678739, \"harvested_pods\": 16434650.398223, \"harvestable_pods\": 795706.5450299997, \"unharvestable_ratio\": 0.9376536088293672}, {\"timestamp\": \"2021-11-29T00:01:08\", \"season\": 2749, \"variable\": \"harvested_pods\", \"value\": 16434650.398223, \"unharvestable_pods\": 259134587.678739, \"harvested_pods\": 16434650.398223, \"harvestable_pods\": 795706.5450299997, \"unharvestable_ratio\": 0.9376536088293672}, {\"timestamp\": \"2021-11-30T00:01:06\", \"season\": 2773, \"variable\": \"unharvestable_pods\", \"value\": 276054251.850843, \"unharvestable_pods\": 276054251.850843, \"harvested_pods\": 19411773.106953, \"harvestable_pods\": 1016208.7776620016, \"unharvestable_ratio\": 0.9310987993201567}, {\"timestamp\": \"2021-11-30T00:01:06\", \"season\": 2773, \"variable\": \"harvested_pods\", \"value\": 19411773.106953, \"unharvestable_pods\": 276054251.850843, \"harvested_pods\": 19411773.106953, \"harvestable_pods\": 1016208.7776620016, \"unharvestable_ratio\": 0.9310987993201567}, {\"timestamp\": \"2021-11-30T00:01:06\", \"season\": 2773, \"variable\": \"harvestable_pods\", \"value\": 1016208.7776620016, \"unharvestable_pods\": 276054251.850843, \"harvested_pods\": 19411773.106953, \"harvestable_pods\": 1016208.7776620016, \"unharvestable_ratio\": 0.9310987993201567}, {\"timestamp\": \"2021-11-30T00:01:06\", \"season\": 2773, \"variable\": \"unharvestable_ratio\", \"value\": 0.9310987993201567, \"unharvestable_pods\": 276054251.850843, \"harvested_pods\": 19411773.106953, \"harvestable_pods\": 1016208.7776620016, \"unharvestable_ratio\": 0.9310987993201567}, {\"timestamp\": \"2021-12-01T00:02:37\", \"season\": 2797, \"variable\": \"unharvestable_pods\", \"value\": 298245242.190064, \"unharvestable_pods\": 298245242.190064, \"harvested_pods\": 21136794.819107, \"harvestable_pods\": 797996.376747001, \"unharvestable_ratio\": 0.931492320230301}, {\"timestamp\": \"2021-12-01T00:02:37\", \"season\": 2797, \"variable\": \"harvested_pods\", \"value\": 21136794.819107, \"unharvestable_pods\": 298245242.190064, \"harvested_pods\": 21136794.819107, \"harvestable_pods\": 797996.376747001, \"unharvestable_ratio\": 0.931492320230301}, {\"timestamp\": \"2021-12-01T00:02:37\", \"season\": 2797, \"variable\": \"harvestable_pods\", \"value\": 797996.376747001, \"unharvestable_pods\": 298245242.190064, \"harvested_pods\": 21136794.819107, \"harvestable_pods\": 797996.376747001, \"unharvestable_ratio\": 0.931492320230301}, {\"timestamp\": \"2021-12-01T00:02:37\", \"season\": 2797, \"variable\": \"unharvestable_ratio\", \"value\": 0.931492320230301, \"unharvestable_pods\": 298245242.190064, \"harvested_pods\": 21136794.819107, \"harvestable_pods\": 797996.376747001, \"unharvestable_ratio\": 0.931492320230301}, {\"timestamp\": \"2021-12-02T00:01:18\", \"season\": 2821, \"variable\": \"unharvestable_ratio\", \"value\": 0.9340376812753233, \"unharvestable_pods\": 312603284.745369, \"harvested_pods\": 21476004.207805, \"harvestable_pods\": 600233.096241001, \"unharvestable_ratio\": 0.9340376812753233}, {\"timestamp\": \"2021-12-02T00:01:18\", \"season\": 2821, \"variable\": \"unharvestable_pods\", \"value\": 312603284.745369, \"unharvestable_pods\": 312603284.745369, \"harvested_pods\": 21476004.207805, \"harvestable_pods\": 600233.096241001, \"unharvestable_ratio\": 0.9340376812753233}, {\"timestamp\": \"2021-12-02T00:01:18\", \"season\": 2821, \"variable\": \"harvested_pods\", \"value\": 21476004.207805, \"unharvestable_pods\": 312603284.745369, \"harvested_pods\": 21476004.207805, \"harvestable_pods\": 600233.096241001, \"unharvestable_ratio\": 0.9340376812753233}, {\"timestamp\": \"2021-12-02T00:01:18\", \"season\": 2821, \"variable\": \"harvestable_pods\", \"value\": 600233.096241001, \"unharvestable_pods\": 312603284.745369, \"harvested_pods\": 21476004.207805, \"harvestable_pods\": 600233.096241001, \"unharvestable_ratio\": 0.9340376812753233}, {\"timestamp\": \"2021-12-03T00:01:08\", \"season\": 2845, \"variable\": \"harvestable_pods\", \"value\": 469590.81818300113, \"unharvestable_pods\": 338300157.75795, \"harvested_pods\": 21677457.730471, \"harvestable_pods\": 469590.81818300113, \"unharvestable_ratio\": 0.9385567479476723}, {\"timestamp\": \"2021-12-03T00:01:08\", \"season\": 2845, \"variable\": \"unharvestable_ratio\", \"value\": 0.9385567479476723, \"unharvestable_pods\": 338300157.75795, \"harvested_pods\": 21677457.730471, \"harvestable_pods\": 469590.81818300113, \"unharvestable_ratio\": 0.9385567479476723}, {\"timestamp\": \"2021-12-03T00:01:08\", \"season\": 2845, \"variable\": \"unharvestable_pods\", \"value\": 338300157.75795, \"unharvestable_pods\": 338300157.75795, \"harvested_pods\": 21677457.730471, \"harvestable_pods\": 469590.81818300113, \"unharvestable_ratio\": 0.9385567479476723}, {\"timestamp\": \"2021-12-03T00:01:08\", \"season\": 2845, \"variable\": \"harvested_pods\", \"value\": 21677457.730471, \"unharvestable_pods\": 338300157.75795, \"harvested_pods\": 21677457.730471, \"harvestable_pods\": 469590.81818300113, \"unharvestable_ratio\": 0.9385567479476723}, {\"timestamp\": \"2021-12-04T00:00:14\", \"season\": 2869, \"variable\": \"unharvestable_ratio\", \"value\": 0.9404289175465846, \"unharvestable_pods\": 351643942.266239, \"harvested_pods\": 21811570.342467, \"harvestable_pods\": 463170.3509979993, \"unharvestable_ratio\": 0.9404289175465846}, {\"timestamp\": \"2021-12-04T00:00:14\", \"season\": 2869, \"variable\": \"harvestable_pods\", \"value\": 463170.3509979993, \"unharvestable_pods\": 351643942.266239, \"harvested_pods\": 21811570.342467, \"harvestable_pods\": 463170.3509979993, \"unharvestable_ratio\": 0.9404289175465846}, {\"timestamp\": \"2021-12-04T00:00:14\", \"season\": 2869, \"variable\": \"unharvestable_pods\", \"value\": 351643942.266239, \"unharvestable_pods\": 351643942.266239, \"harvested_pods\": 21811570.342467, \"harvestable_pods\": 463170.3509979993, \"unharvestable_ratio\": 0.9404289175465846}, {\"timestamp\": \"2021-12-04T00:00:14\", \"season\": 2869, \"variable\": \"harvested_pods\", \"value\": 21811570.342467, \"unharvestable_pods\": 351643942.266239, \"harvested_pods\": 21811570.342467, \"harvestable_pods\": 463170.3509979993, \"unharvestable_ratio\": 0.9404289175465846}, {\"timestamp\": \"2021-12-05T00:00:54\", \"season\": 2893, \"variable\": \"unharvestable_pods\", \"value\": 358840152.267287, \"unharvestable_pods\": 358840152.267287, \"harvested_pods\": 21873565.155148, \"harvestable_pods\": 418232.22349200025, \"unharvestable_ratio\": 0.9415116014300318}, {\"timestamp\": \"2021-12-05T00:00:54\", \"season\": 2893, \"variable\": \"harvested_pods\", \"value\": 21873565.155148, \"unharvestable_pods\": 358840152.267287, \"harvested_pods\": 21873565.155148, \"harvestable_pods\": 418232.22349200025, \"unharvestable_ratio\": 0.9415116014300318}, {\"timestamp\": \"2021-12-05T00:00:54\", \"season\": 2893, \"variable\": \"harvestable_pods\", \"value\": 418232.22349200025, \"unharvestable_pods\": 358840152.267287, \"harvested_pods\": 21873565.155148, \"harvestable_pods\": 418232.22349200025, \"unharvestable_ratio\": 0.9415116014300318}, {\"timestamp\": \"2021-12-05T00:00:54\", \"season\": 2893, \"variable\": \"unharvestable_ratio\", \"value\": 0.9415116014300318, \"unharvestable_pods\": 358840152.267287, \"harvested_pods\": 21873565.155148, \"harvestable_pods\": 418232.22349200025, \"unharvestable_ratio\": 0.9415116014300318}, {\"timestamp\": \"2021-12-06T00:00:12\", \"season\": 2917, \"variable\": \"unharvestable_pods\", \"value\": 360801093.176266, \"unharvestable_pods\": 360801093.176266, \"harvested_pods\": 21888237.548419, \"harvestable_pods\": 403559.83022100106, \"unharvestable_ratio\": 0.9418109865042117}, {\"timestamp\": \"2021-12-06T00:00:12\", \"season\": 2917, \"variable\": \"harvested_pods\", \"value\": 21888237.548419, \"unharvestable_pods\": 360801093.176266, \"harvested_pods\": 21888237.548419, \"harvestable_pods\": 403559.83022100106, \"unharvestable_ratio\": 0.9418109865042117}, {\"timestamp\": \"2021-12-06T00:00:12\", \"season\": 2917, \"variable\": \"harvestable_pods\", \"value\": 403559.83022100106, \"unharvestable_pods\": 360801093.176266, \"harvested_pods\": 21888237.548419, \"harvestable_pods\": 403559.83022100106, \"unharvestable_ratio\": 0.9418109865042117}, {\"timestamp\": \"2021-12-06T00:00:12\", \"season\": 2917, \"variable\": \"unharvestable_ratio\", \"value\": 0.9418109865042117, \"unharvestable_pods\": 360801093.176266, \"harvested_pods\": 21888237.548419, \"harvestable_pods\": 403559.83022100106, \"unharvestable_ratio\": 0.9418109865042117}, {\"timestamp\": \"2021-12-07T00:00:11\", \"season\": 2941, \"variable\": \"unharvestable_ratio\", \"value\": 0.9419800500329367, \"unharvestable_pods\": 361917382.244827, \"harvested_pods\": 21890178.478419, \"harvestable_pods\": 401618.90022100136, \"unharvestable_ratio\": 0.9419800500329367}, {\"timestamp\": \"2021-12-07T00:00:11\", \"season\": 2941, \"variable\": \"harvestable_pods\", \"value\": 401618.90022100136, \"unharvestable_pods\": 361917382.244827, \"harvested_pods\": 21890178.478419, \"harvestable_pods\": 401618.90022100136, \"unharvestable_ratio\": 0.9419800500329367}, {\"timestamp\": \"2021-12-07T00:00:11\", \"season\": 2941, \"variable\": \"unharvestable_pods\", \"value\": 361917382.244827, \"unharvestable_pods\": 361917382.244827, \"harvested_pods\": 21890178.478419, \"harvestable_pods\": 401618.90022100136, \"unharvestable_ratio\": 0.9419800500329367}, {\"timestamp\": \"2021-12-07T00:00:11\", \"season\": 2941, \"variable\": \"harvested_pods\", \"value\": 21890178.478419, \"unharvestable_pods\": 361917382.244827, \"harvested_pods\": 21890178.478419, \"harvestable_pods\": 401618.90022100136, \"unharvestable_ratio\": 0.9419800500329367}, {\"timestamp\": \"2021-12-08T00:00:12\", \"season\": 2965, \"variable\": \"unharvestable_pods\", \"value\": 364381720.007029, \"unharvestable_pods\": 364381720.007029, \"harvested_pods\": 21891273.478419, \"harvestable_pods\": 400523.90022100136, \"unharvestable_ratio\": 0.9423498212927623}, {\"timestamp\": \"2021-12-08T00:00:12\", \"season\": 2965, \"variable\": \"harvested_pods\", \"value\": 21891273.478419, \"unharvestable_pods\": 364381720.007029, \"harvested_pods\": 21891273.478419, \"harvestable_pods\": 400523.90022100136, \"unharvestable_ratio\": 0.9423498212927623}, {\"timestamp\": \"2021-12-08T00:00:12\", \"season\": 2965, \"variable\": \"harvestable_pods\", \"value\": 400523.90022100136, \"unharvestable_pods\": 364381720.007029, \"harvested_pods\": 21891273.478419, \"harvestable_pods\": 400523.90022100136, \"unharvestable_ratio\": 0.9423498212927623}, {\"timestamp\": \"2021-12-08T00:00:12\", \"season\": 2965, \"variable\": \"unharvestable_ratio\", \"value\": 0.9423498212927623, \"unharvestable_pods\": 364381720.007029, \"harvested_pods\": 21891273.478419, \"harvestable_pods\": 400523.90022100136, \"unharvestable_ratio\": 0.9423498212927623}, {\"timestamp\": \"2021-12-09T00:00:34\", \"season\": 2989, \"variable\": \"harvestable_pods\", \"value\": 400171.260619998, \"unharvestable_pods\": 364887022.245706, \"harvested_pods\": 21891626.11802, \"harvestable_pods\": 400171.260619998, \"unharvestable_ratio\": 0.942425059820503}, {\"timestamp\": \"2021-12-09T00:00:34\", \"season\": 2989, \"variable\": \"unharvestable_ratio\", \"value\": 0.942425059820503, \"unharvestable_pods\": 364887022.245706, \"harvested_pods\": 21891626.11802, \"harvestable_pods\": 400171.260619998, \"unharvestable_ratio\": 0.942425059820503}, {\"timestamp\": \"2021-12-09T00:00:34\", \"season\": 2989, \"variable\": \"harvested_pods\", \"value\": 21891626.11802, \"unharvestable_pods\": 364887022.245706, \"harvested_pods\": 21891626.11802, \"harvestable_pods\": 400171.260619998, \"unharvestable_ratio\": 0.942425059820503}, {\"timestamp\": \"2021-12-09T00:00:34\", \"season\": 2989, \"variable\": \"unharvestable_pods\", \"value\": 364887022.245706, \"unharvestable_pods\": 364887022.245706, \"harvested_pods\": 21891626.11802, \"harvestable_pods\": 400171.260619998, \"unharvestable_ratio\": 0.942425059820503}, {\"timestamp\": \"2021-12-10T00:00:24\", \"season\": 3013, \"variable\": \"unharvestable_pods\", \"value\": 366940687.663753, \"unharvestable_pods\": 366940687.663753, \"harvested_pods\": 21891626.11802, \"harvestable_pods\": 400171.260619998, \"unharvestable_ratio\": 0.9427288362732311}, {\"timestamp\": \"2021-12-10T00:00:24\", \"season\": 3013, \"variable\": \"harvested_pods\", \"value\": 21891626.11802, \"unharvestable_pods\": 366940687.663753, \"harvested_pods\": 21891626.11802, \"harvestable_pods\": 400171.260619998, \"unharvestable_ratio\": 0.9427288362732311}, {\"timestamp\": \"2021-12-10T00:00:24\", \"season\": 3013, \"variable\": \"harvestable_pods\", \"value\": 400171.260619998, \"unharvestable_pods\": 366940687.663753, \"harvested_pods\": 21891626.11802, \"harvestable_pods\": 400171.260619998, \"unharvestable_ratio\": 0.9427288362732311}, {\"timestamp\": \"2021-12-10T00:00:24\", \"season\": 3013, \"variable\": \"unharvestable_ratio\", \"value\": 0.9427288362732311, \"unharvestable_pods\": 366940687.663753, \"harvested_pods\": 21891626.11802, \"harvestable_pods\": 400171.260619998, \"unharvestable_ratio\": 0.9427288362732311}, {\"timestamp\": \"2021-12-11T00:00:51\", \"season\": 3037, \"variable\": \"unharvestable_pods\", \"value\": 372660677.921337, \"unharvestable_pods\": 372660677.921337, \"harvested_pods\": 21891626.11802, \"harvestable_pods\": 400171.260619998, \"unharvestable_ratio\": 0.9435582791025457}, {\"timestamp\": \"2021-12-11T00:00:51\", \"season\": 3037, \"variable\": \"harvested_pods\", \"value\": 21891626.11802, \"unharvestable_pods\": 372660677.921337, \"harvested_pods\": 21891626.11802, \"harvestable_pods\": 400171.260619998, \"unharvestable_ratio\": 0.9435582791025457}, {\"timestamp\": \"2021-12-11T00:00:51\", \"season\": 3037, \"variable\": \"harvestable_pods\", \"value\": 400171.260619998, \"unharvestable_pods\": 372660677.921337, \"harvested_pods\": 21891626.11802, \"harvestable_pods\": 400171.260619998, \"unharvestable_ratio\": 0.9435582791025457}, {\"timestamp\": \"2021-12-11T00:00:51\", \"season\": 3037, \"variable\": \"unharvestable_ratio\", \"value\": 0.9435582791025457, \"unharvestable_pods\": 372660677.921337, \"harvested_pods\": 21891626.11802, \"harvestable_pods\": 400171.260619998, \"unharvestable_ratio\": 0.9435582791025457}, {\"timestamp\": \"2021-12-12T00:01:06\", \"season\": 3061, \"variable\": \"unharvestable_ratio\", \"value\": 0.9443582643549638, \"unharvestable_pods\": 378339080.149147, \"harvested_pods\": 21892511.636818, \"harvestable_pods\": 399285.7418220006, \"unharvestable_ratio\": 0.9443582643549638}, {\"timestamp\": \"2021-12-12T00:01:06\", \"season\": 3061, \"variable\": \"unharvestable_pods\", \"value\": 378339080.149147, \"unharvestable_pods\": 378339080.149147, \"harvested_pods\": 21892511.636818, \"harvestable_pods\": 399285.7418220006, \"unharvestable_ratio\": 0.9443582643549638}, {\"timestamp\": \"2021-12-12T00:01:06\", \"season\": 3061, \"variable\": \"harvested_pods\", \"value\": 21892511.636818, \"unharvestable_pods\": 378339080.149147, \"harvested_pods\": 21892511.636818, \"harvestable_pods\": 399285.7418220006, \"unharvestable_ratio\": 0.9443582643549638}, {\"timestamp\": \"2021-12-12T00:01:06\", \"season\": 3061, \"variable\": \"harvestable_pods\", \"value\": 399285.7418220006, \"unharvestable_pods\": 378339080.149147, \"harvested_pods\": 21892511.636818, \"harvestable_pods\": 399285.7418220006, \"unharvestable_ratio\": 0.9443582643549638}, {\"timestamp\": \"2021-12-13T00:00:12\", \"season\": 3085, \"variable\": \"harvested_pods\", \"value\": 21895984.886408, \"unharvestable_pods\": 379160143.078092, \"harvested_pods\": 21895984.886408, \"harvestable_pods\": 395812.4922319986, \"unharvestable_ratio\": 0.9444720646927783}, {\"timestamp\": \"2021-12-13T00:00:12\", \"season\": 3085, \"variable\": \"harvestable_pods\", \"value\": 395812.4922319986, \"unharvestable_pods\": 379160143.078092, \"harvested_pods\": 21895984.886408, \"harvestable_pods\": 395812.4922319986, \"unharvestable_ratio\": 0.9444720646927783}, {\"timestamp\": \"2021-12-13T00:00:12\", \"season\": 3085, \"variable\": \"unharvestable_pods\", \"value\": 379160143.078092, \"unharvestable_pods\": 379160143.078092, \"harvested_pods\": 21895984.886408, \"harvestable_pods\": 395812.4922319986, \"unharvestable_ratio\": 0.9444720646927783}, {\"timestamp\": \"2021-12-13T00:00:12\", \"season\": 3085, \"variable\": \"unharvestable_ratio\", \"value\": 0.9444720646927783, \"unharvestable_pods\": 379160143.078092, \"harvested_pods\": 21895984.886408, \"harvestable_pods\": 395812.4922319986, \"unharvestable_ratio\": 0.9444720646927783}, {\"timestamp\": \"2021-12-14T00:01:35\", \"season\": 3109, \"variable\": \"unharvestable_ratio\", \"value\": 0.9447047870228886, \"unharvestable_pods\": 380849743.786367, \"harvested_pods\": 21936784.434379, \"harvestable_pods\": 355012.94426099956, \"unharvestable_ratio\": 0.9447047870228886}, {\"timestamp\": \"2021-12-14T00:01:35\", \"season\": 3109, \"variable\": \"harvestable_pods\", \"value\": 355012.94426099956, \"unharvestable_pods\": 380849743.786367, \"harvested_pods\": 21936784.434379, \"harvestable_pods\": 355012.94426099956, \"unharvestable_ratio\": 0.9447047870228886}, {\"timestamp\": \"2021-12-14T00:01:35\", \"season\": 3109, \"variable\": \"harvested_pods\", \"value\": 21936784.434379, \"unharvestable_pods\": 380849743.786367, \"harvested_pods\": 21936784.434379, \"harvestable_pods\": 355012.94426099956, \"unharvestable_ratio\": 0.9447047870228886}, {\"timestamp\": \"2021-12-14T00:01:35\", \"season\": 3109, \"variable\": \"unharvestable_pods\", \"value\": 380849743.786367, \"unharvestable_pods\": 380849743.786367, \"harvested_pods\": 21936784.434379, \"harvestable_pods\": 355012.94426099956, \"unharvestable_ratio\": 0.9447047870228886}, {\"timestamp\": \"2021-12-15T00:00:04\", \"season\": 3133, \"variable\": \"unharvestable_pods\", \"value\": 382445698.559613, \"unharvestable_pods\": 382445698.559613, \"harvested_pods\": 21936784.434379, \"harvestable_pods\": 355012.94426099956, \"unharvestable_ratio\": 0.9449228262704851}, {\"timestamp\": \"2021-12-15T00:00:04\", \"season\": 3133, \"variable\": \"harvested_pods\", \"value\": 21936784.434379, \"unharvestable_pods\": 382445698.559613, \"harvested_pods\": 21936784.434379, \"harvestable_pods\": 355012.94426099956, \"unharvestable_ratio\": 0.9449228262704851}, {\"timestamp\": \"2021-12-15T00:00:04\", \"season\": 3133, \"variable\": \"harvestable_pods\", \"value\": 355012.94426099956, \"unharvestable_pods\": 382445698.559613, \"harvested_pods\": 21936784.434379, \"harvestable_pods\": 355012.94426099956, \"unharvestable_ratio\": 0.9449228262704851}, {\"timestamp\": \"2021-12-15T00:00:04\", \"season\": 3133, \"variable\": \"unharvestable_ratio\", \"value\": 0.9449228262704851, \"unharvestable_pods\": 382445698.559613, \"harvested_pods\": 21936784.434379, \"harvestable_pods\": 355012.94426099956, \"unharvestable_ratio\": 0.9449228262704851}, {\"timestamp\": \"2021-12-16T00:00:57\", \"season\": 3157, \"variable\": \"unharvestable_pods\", \"value\": 383534999.901097, \"unharvestable_pods\": 383534999.901097, \"harvested_pods\": 21938884.735599, \"harvestable_pods\": 354643.70074300095, \"unharvestable_ratio\": 0.945066630658835}, {\"timestamp\": \"2021-12-16T00:00:57\", \"season\": 3157, \"variable\": \"harvested_pods\", \"value\": 21938884.735599, \"unharvestable_pods\": 383534999.901097, \"harvested_pods\": 21938884.735599, \"harvestable_pods\": 354643.70074300095, \"unharvestable_ratio\": 0.945066630658835}, {\"timestamp\": \"2021-12-16T00:00:57\", \"season\": 3157, \"variable\": \"harvestable_pods\", \"value\": 354643.70074300095, \"unharvestable_pods\": 383534999.901097, \"harvested_pods\": 21938884.735599, \"harvestable_pods\": 354643.70074300095, \"unharvestable_ratio\": 0.945066630658835}, {\"timestamp\": \"2021-12-16T00:00:57\", \"season\": 3157, \"variable\": \"unharvestable_ratio\", \"value\": 0.945066630658835, \"unharvestable_pods\": 383534999.901097, \"harvested_pods\": 21938884.735599, \"harvestable_pods\": 354643.70074300095, \"unharvestable_ratio\": 0.945066630658835}, {\"timestamp\": \"2021-12-17T00:00:10\", \"season\": 3181, \"variable\": \"unharvestable_ratio\", \"value\": 0.9451384478264239, \"unharvestable_pods\": 384066254.564468, \"harvested_pods\": 21940419.381158, \"harvestable_pods\": 353109.05518399924, \"unharvestable_ratio\": 0.9451384478264239}, {\"timestamp\": \"2021-12-17T00:00:10\", \"season\": 3181, \"variable\": \"harvestable_pods\", \"value\": 353109.05518399924, \"unharvestable_pods\": 384066254.564468, \"harvested_pods\": 21940419.381158, \"harvestable_pods\": 353109.05518399924, \"unharvestable_ratio\": 0.9451384478264239}, {\"timestamp\": \"2021-12-17T00:00:10\", \"season\": 3181, \"variable\": \"unharvestable_pods\", \"value\": 384066254.564468, \"unharvestable_pods\": 384066254.564468, \"harvested_pods\": 21940419.381158, \"harvestable_pods\": 353109.05518399924, \"unharvestable_ratio\": 0.9451384478264239}, {\"timestamp\": \"2021-12-17T00:00:10\", \"season\": 3181, \"variable\": \"harvested_pods\", \"value\": 21940419.381158, \"unharvestable_pods\": 384066254.564468, \"harvested_pods\": 21940419.381158, \"harvestable_pods\": 353109.05518399924, \"unharvestable_ratio\": 0.9451384478264239}, {\"timestamp\": \"2021-12-18T00:01:09\", \"season\": 3205, \"variable\": \"unharvestable_pods\", \"value\": 386311208.347262, \"unharvestable_pods\": 386311208.347262, \"harvested_pods\": 21940419.381158, \"harvestable_pods\": 353109.05518399924, \"unharvestable_ratio\": 0.945439867849235}, {\"timestamp\": \"2021-12-18T00:01:09\", \"season\": 3205, \"variable\": \"harvested_pods\", \"value\": 21940419.381158, \"unharvestable_pods\": 386311208.347262, \"harvested_pods\": 21940419.381158, \"harvestable_pods\": 353109.05518399924, \"unharvestable_ratio\": 0.945439867849235}, {\"timestamp\": \"2021-12-18T00:01:09\", \"season\": 3205, \"variable\": \"harvestable_pods\", \"value\": 353109.05518399924, \"unharvestable_pods\": 386311208.347262, \"harvested_pods\": 21940419.381158, \"harvestable_pods\": 353109.05518399924, \"unharvestable_ratio\": 0.945439867849235}, {\"timestamp\": \"2021-12-18T00:01:09\", \"season\": 3205, \"variable\": \"unharvestable_ratio\", \"value\": 0.945439867849235, \"unharvestable_pods\": 386311208.347262, \"harvested_pods\": 21940419.381158, \"harvestable_pods\": 353109.05518399924, \"unharvestable_ratio\": 0.945439867849235}, {\"timestamp\": \"2021-12-19T00:00:42\", \"season\": 3229, \"variable\": \"unharvestable_ratio\", \"value\": 0.9462287496652199, \"unharvestable_pods\": 392305877.334258, \"harvested_pods\": 21948355.959442, \"harvestable_pods\": 345172.4769000001, \"unharvestable_ratio\": 0.9462287496652199}, {\"timestamp\": \"2021-12-19T00:00:42\", \"season\": 3229, \"variable\": \"harvestable_pods\", \"value\": 345172.4769000001, \"unharvestable_pods\": 392305877.334258, \"harvested_pods\": 21948355.959442, \"harvestable_pods\": 345172.4769000001, \"unharvestable_ratio\": 0.9462287496652199}, {\"timestamp\": \"2021-12-19T00:00:42\", \"season\": 3229, \"variable\": \"harvested_pods\", \"value\": 21948355.959442, \"unharvestable_pods\": 392305877.334258, \"harvested_pods\": 21948355.959442, \"harvestable_pods\": 345172.4769000001, \"unharvestable_ratio\": 0.9462287496652199}, {\"timestamp\": \"2021-12-19T00:00:42\", \"season\": 3229, \"variable\": \"unharvestable_pods\", \"value\": 392305877.334258, \"unharvestable_pods\": 392305877.334258, \"harvested_pods\": 21948355.959442, \"harvestable_pods\": 345172.4769000001, \"unharvestable_ratio\": 0.9462287496652199}, {\"timestamp\": \"2021-12-20T00:01:07\", \"season\": 3253, \"variable\": \"unharvestable_pods\", \"value\": 400064847.424696, \"unharvestable_pods\": 400064847.424696, \"harvested_pods\": 21952488.381341, \"harvestable_pods\": 341040.0550010018, \"unharvestable_ratio\": 0.947216558945011}, {\"timestamp\": \"2021-12-20T00:01:07\", \"season\": 3253, \"variable\": \"harvested_pods\", \"value\": 21952488.381341, \"unharvestable_pods\": 400064847.424696, \"harvested_pods\": 21952488.381341, \"harvestable_pods\": 341040.0550010018, \"unharvestable_ratio\": 0.947216558945011}, {\"timestamp\": \"2021-12-20T00:01:07\", \"season\": 3253, \"variable\": \"harvestable_pods\", \"value\": 341040.0550010018, \"unharvestable_pods\": 400064847.424696, \"harvested_pods\": 21952488.381341, \"harvestable_pods\": 341040.0550010018, \"unharvestable_ratio\": 0.947216558945011}, {\"timestamp\": \"2021-12-20T00:01:07\", \"season\": 3253, \"variable\": \"unharvestable_ratio\", \"value\": 0.947216558945011, \"unharvestable_pods\": 400064847.424696, \"harvested_pods\": 21952488.381341, \"harvestable_pods\": 341040.0550010018, \"unharvestable_ratio\": 0.947216558945011}, {\"timestamp\": \"2021-12-21T00:00:51\", \"season\": 3277, \"variable\": \"harvestable_pods\", \"value\": 341040.0550010018, \"unharvestable_pods\": 402775057.739232, \"harvested_pods\": 21952488.381341, \"harvestable_pods\": 341040.0550010018, \"unharvestable_ratio\": 0.9475531028135453}, {\"timestamp\": \"2021-12-21T00:00:51\", \"season\": 3277, \"variable\": \"unharvestable_ratio\", \"value\": 0.9475531028135453, \"unharvestable_pods\": 402775057.739232, \"harvested_pods\": 21952488.381341, \"harvestable_pods\": 341040.0550010018, \"unharvestable_ratio\": 0.9475531028135453}, {\"timestamp\": \"2021-12-21T00:00:51\", \"season\": 3277, \"variable\": \"unharvestable_pods\", \"value\": 402775057.739232, \"unharvestable_pods\": 402775057.739232, \"harvested_pods\": 21952488.381341, \"harvestable_pods\": 341040.0550010018, \"unharvestable_ratio\": 0.9475531028135453}, {\"timestamp\": \"2021-12-21T00:00:51\", \"season\": 3277, \"variable\": \"harvested_pods\", \"value\": 21952488.381341, \"unharvestable_pods\": 402775057.739232, \"harvested_pods\": 21952488.381341, \"harvestable_pods\": 341040.0550010018, \"unharvestable_ratio\": 0.9475531028135453}, {\"timestamp\": \"2021-12-22T00:00:33\", \"season\": 3301, \"variable\": \"unharvestable_pods\", \"value\": 417057595.112069, \"unharvestable_pods\": 417057595.112069, \"harvested_pods\": 21993103.624895, \"harvestable_pods\": 305937.0142340027, \"unharvestable_ratio\": 0.9492461503375207}, {\"timestamp\": \"2021-12-22T00:00:33\", \"season\": 3301, \"variable\": \"harvested_pods\", \"value\": 21993103.624895, \"unharvestable_pods\": 417057595.112069, \"harvested_pods\": 21993103.624895, \"harvestable_pods\": 305937.0142340027, \"unharvestable_ratio\": 0.9492461503375207}, {\"timestamp\": \"2021-12-22T00:00:33\", \"season\": 3301, \"variable\": \"harvestable_pods\", \"value\": 305937.0142340027, \"unharvestable_pods\": 417057595.112069, \"harvested_pods\": 21993103.624895, \"harvestable_pods\": 305937.0142340027, \"unharvestable_ratio\": 0.9492461503375207}, {\"timestamp\": \"2021-12-22T00:00:33\", \"season\": 3301, \"variable\": \"unharvestable_ratio\", \"value\": 0.9492461503375207, \"unharvestable_pods\": 417057595.112069, \"harvested_pods\": 21993103.624895, \"harvestable_pods\": 305937.0142340027, \"unharvestable_ratio\": 0.9492461503375207}, {\"timestamp\": \"2021-12-23T00:00:46\", \"season\": 3325, \"variable\": \"unharvestable_ratio\", \"value\": 0.9505400917516756, \"unharvestable_pods\": 429607122.008083, \"harvested_pods\": 22053528.505966, \"harvestable_pods\": 300424.81144699827, \"unharvestable_ratio\": 0.9505400917516756}, {\"timestamp\": \"2021-12-23T00:00:46\", \"season\": 3325, \"variable\": \"unharvestable_pods\", \"value\": 429607122.008083, \"unharvestable_pods\": 429607122.008083, \"harvested_pods\": 22053528.505966, \"harvestable_pods\": 300424.81144699827, \"unharvestable_ratio\": 0.9505400917516756}, {\"timestamp\": \"2021-12-23T00:00:46\", \"season\": 3325, \"variable\": \"harvested_pods\", \"value\": 22053528.505966, \"unharvestable_pods\": 429607122.008083, \"harvested_pods\": 22053528.505966, \"harvestable_pods\": 300424.81144699827, \"unharvestable_ratio\": 0.9505400917516756}, {\"timestamp\": \"2021-12-23T00:00:46\", \"season\": 3325, \"variable\": \"harvestable_pods\", \"value\": 300424.81144699827, \"unharvestable_pods\": 429607122.008083, \"harvested_pods\": 22053528.505966, \"harvestable_pods\": 300424.81144699827, \"unharvestable_ratio\": 0.9505400917516756}, {\"timestamp\": \"2021-12-24T00:00:14\", \"season\": 3349, \"variable\": \"harvestable_pods\", \"value\": 290620.0656449981, \"unharvestable_pods\": 435629573.518097, \"harvested_pods\": 22085275.647319, \"harvestable_pods\": 290620.0656449981, \"unharvestable_ratio\": 0.9511449159099987}, {\"timestamp\": \"2021-12-24T00:00:14\", \"season\": 3349, \"variable\": \"unharvestable_ratio\", \"value\": 0.9511449159099987, \"unharvestable_pods\": 435629573.518097, \"harvested_pods\": 22085275.647319, \"harvestable_pods\": 290620.0656449981, \"unharvestable_ratio\": 0.9511449159099987}, {\"timestamp\": \"2021-12-24T00:00:14\", \"season\": 3349, \"variable\": \"unharvestable_pods\", \"value\": 435629573.518097, \"unharvestable_pods\": 435629573.518097, \"harvested_pods\": 22085275.647319, \"harvestable_pods\": 290620.0656449981, \"unharvestable_ratio\": 0.9511449159099987}, {\"timestamp\": \"2021-12-24T00:00:14\", \"season\": 3349, \"variable\": \"harvested_pods\", \"value\": 22085275.647319, \"unharvestable_pods\": 435629573.518097, \"harvested_pods\": 22085275.647319, \"harvestable_pods\": 290620.0656449981, \"unharvestable_ratio\": 0.9511449159099987}, {\"timestamp\": \"2021-12-25T00:00:15\", \"season\": 3373, \"variable\": \"unharvestable_pods\", \"value\": 441320059.56746, \"unharvestable_pods\": 441320059.56746, \"harvested_pods\": 22116843.160187, \"harvestable_pods\": 304914.3406070024, \"unharvestable_ratio\": 0.951650343627532}, {\"timestamp\": \"2021-12-25T00:00:15\", \"season\": 3373, \"variable\": \"harvested_pods\", \"value\": 22116843.160187, \"unharvestable_pods\": 441320059.56746, \"harvested_pods\": 22116843.160187, \"harvestable_pods\": 304914.3406070024, \"unharvestable_ratio\": 0.951650343627532}, {\"timestamp\": \"2021-12-25T00:00:15\", \"season\": 3373, \"variable\": \"harvestable_pods\", \"value\": 304914.3406070024, \"unharvestable_pods\": 441320059.56746, \"harvested_pods\": 22116843.160187, \"harvestable_pods\": 304914.3406070024, \"unharvestable_ratio\": 0.951650343627532}, {\"timestamp\": \"2021-12-25T00:00:15\", \"season\": 3373, \"variable\": \"unharvestable_ratio\", \"value\": 0.951650343627532, \"unharvestable_pods\": 441320059.56746, \"harvested_pods\": 22116843.160187, \"harvestable_pods\": 304914.3406070024, \"unharvestable_ratio\": 0.951650343627532}, {\"timestamp\": \"2021-12-26T00:00:01\", \"season\": 3397, \"variable\": \"harvestable_pods\", \"value\": 311441.6731059998, \"unharvestable_pods\": 446836191.206522, \"harvested_pods\": 22116843.160187, \"harvestable_pods\": 311441.6731059998, \"unharvestable_ratio\": 0.9522054492115656}, {\"timestamp\": \"2021-12-26T00:00:01\", \"season\": 3397, \"variable\": \"unharvestable_ratio\", \"value\": 0.9522054492115656, \"unharvestable_pods\": 446836191.206522, \"harvested_pods\": 22116843.160187, \"harvestable_pods\": 311441.6731059998, \"unharvestable_ratio\": 0.9522054492115656}, {\"timestamp\": \"2021-12-26T00:00:01\", \"season\": 3397, \"variable\": \"unharvestable_pods\", \"value\": 446836191.206522, \"unharvestable_pods\": 446836191.206522, \"harvested_pods\": 22116843.160187, \"harvestable_pods\": 311441.6731059998, \"unharvestable_ratio\": 0.9522054492115656}, {\"timestamp\": \"2021-12-26T00:00:01\", \"season\": 3397, \"variable\": \"harvested_pods\", \"value\": 22116843.160187, \"unharvestable_pods\": 446836191.206522, \"harvested_pods\": 22116843.160187, \"harvestable_pods\": 311441.6731059998, \"unharvestable_ratio\": 0.9522054492115656}, {\"timestamp\": \"2021-12-27T00:00:08\", \"season\": 3421, \"variable\": \"unharvestable_pods\", \"value\": 448500608.267656, \"unharvestable_pods\": 448500608.267656, \"harvested_pods\": 22116969.018301, \"harvestable_pods\": 320270.0241550021, \"unharvestable_ratio\": 0.9523562627836936}, {\"timestamp\": \"2021-12-27T00:00:08\", \"season\": 3421, \"variable\": \"harvested_pods\", \"value\": 22116969.018301, \"unharvestable_pods\": 448500608.267656, \"harvested_pods\": 22116969.018301, \"harvestable_pods\": 320270.0241550021, \"unharvestable_ratio\": 0.9523562627836936}, {\"timestamp\": \"2021-12-27T00:00:08\", \"season\": 3421, \"variable\": \"harvestable_pods\", \"value\": 320270.0241550021, \"unharvestable_pods\": 448500608.267656, \"harvested_pods\": 22116969.018301, \"harvestable_pods\": 320270.0241550021, \"unharvestable_ratio\": 0.9523562627836936}, {\"timestamp\": \"2021-12-27T00:00:08\", \"season\": 3421, \"variable\": \"unharvestable_ratio\", \"value\": 0.9523562627836936, \"unharvestable_pods\": 448500608.267656, \"harvested_pods\": 22116969.018301, \"harvestable_pods\": 320270.0241550021, \"unharvestable_ratio\": 0.9523562627836936}, {\"timestamp\": \"2021-12-28T00:01:16\", \"season\": 3445, \"variable\": \"unharvestable_ratio\", \"value\": 0.9541785191392193, \"unharvestable_pods\": 467229149.31865, \"harvested_pods\": 22116969.018301, \"harvestable_pods\": 320270.0241550021, \"unharvestable_ratio\": 0.9541785191392193}, {\"timestamp\": \"2021-12-28T00:01:16\", \"season\": 3445, \"variable\": \"unharvestable_pods\", \"value\": 467229149.31865, \"unharvestable_pods\": 467229149.31865, \"harvested_pods\": 22116969.018301, \"harvestable_pods\": 320270.0241550021, \"unharvestable_ratio\": 0.9541785191392193}, {\"timestamp\": \"2021-12-28T00:01:16\", \"season\": 3445, \"variable\": \"harvested_pods\", \"value\": 22116969.018301, \"unharvestable_pods\": 467229149.31865, \"harvested_pods\": 22116969.018301, \"harvestable_pods\": 320270.0241550021, \"unharvestable_ratio\": 0.9541785191392193}, {\"timestamp\": \"2021-12-28T00:01:16\", \"season\": 3445, \"variable\": \"harvestable_pods\", \"value\": 320270.0241550021, \"unharvestable_pods\": 467229149.31865, \"harvested_pods\": 22116969.018301, \"harvestable_pods\": 320270.0241550021, \"unharvestable_ratio\": 0.9541785191392193}, {\"timestamp\": \"2021-12-29T00:00:14\", \"season\": 3469, \"variable\": \"harvestable_pods\", \"value\": 320270.0241550021, \"unharvestable_pods\": 471539533.678342, \"harvested_pods\": 22116969.018301, \"harvestable_pods\": 320270.0241550021, \"unharvestable_ratio\": 0.9545783520976646}, {\"timestamp\": \"2021-12-29T00:00:14\", \"season\": 3469, \"variable\": \"unharvestable_ratio\", \"value\": 0.9545783520976646, \"unharvestable_pods\": 471539533.678342, \"harvested_pods\": 22116969.018301, \"harvestable_pods\": 320270.0241550021, \"unharvestable_ratio\": 0.9545783520976646}, {\"timestamp\": \"2021-12-29T00:00:14\", \"season\": 3469, \"variable\": \"unharvestable_pods\", \"value\": 471539533.678342, \"unharvestable_pods\": 471539533.678342, \"harvested_pods\": 22116969.018301, \"harvestable_pods\": 320270.0241550021, \"unharvestable_ratio\": 0.9545783520976646}, {\"timestamp\": \"2021-12-29T00:00:14\", \"season\": 3469, \"variable\": \"harvested_pods\", \"value\": 22116969.018301, \"unharvestable_pods\": 471539533.678342, \"harvested_pods\": 22116969.018301, \"harvestable_pods\": 320270.0241550021, \"unharvestable_ratio\": 0.9545783520976646}, {\"timestamp\": \"2021-12-30T00:01:18\", \"season\": 3493, \"variable\": \"unharvestable_pods\", \"value\": 483719612.698659, \"unharvestable_pods\": 483719612.698659, \"harvested_pods\": 22128807.507142, \"harvestable_pods\": 315918.15204299986, \"unharvestable_ratio\": 0.9556572362802114}, {\"timestamp\": \"2021-12-30T00:01:18\", \"season\": 3493, \"variable\": \"harvested_pods\", \"value\": 22128807.507142, \"unharvestable_pods\": 483719612.698659, \"harvested_pods\": 22128807.507142, \"harvestable_pods\": 315918.15204299986, \"unharvestable_ratio\": 0.9556572362802114}, {\"timestamp\": \"2021-12-30T00:01:18\", \"season\": 3493, \"variable\": \"harvestable_pods\", \"value\": 315918.15204299986, \"unharvestable_pods\": 483719612.698659, \"harvested_pods\": 22128807.507142, \"harvestable_pods\": 315918.15204299986, \"unharvestable_ratio\": 0.9556572362802114}, {\"timestamp\": \"2021-12-30T00:01:18\", \"season\": 3493, \"variable\": \"unharvestable_ratio\", \"value\": 0.9556572362802114, \"unharvestable_pods\": 483719612.698659, \"harvested_pods\": 22128807.507142, \"harvestable_pods\": 315918.15204299986, \"unharvestable_ratio\": 0.9556572362802114}, {\"timestamp\": \"2021-12-31T00:01:05\", \"season\": 3517, \"variable\": \"unharvestable_pods\", \"value\": 497214115.649325, \"unharvestable_pods\": 497214115.649325, \"harvested_pods\": 22128807.507142, \"harvestable_pods\": 324051.4035860002, \"unharvestable_ratio\": 0.9567937544429557}, {\"timestamp\": \"2021-12-31T00:01:05\", \"season\": 3517, \"variable\": \"harvested_pods\", \"value\": 22128807.507142, \"unharvestable_pods\": 497214115.649325, \"harvested_pods\": 22128807.507142, \"harvestable_pods\": 324051.4035860002, \"unharvestable_ratio\": 0.9567937544429557}, {\"timestamp\": \"2021-12-31T00:01:05\", \"season\": 3517, \"variable\": \"harvestable_pods\", \"value\": 324051.4035860002, \"unharvestable_pods\": 497214115.649325, \"harvested_pods\": 22128807.507142, \"harvestable_pods\": 324051.4035860002, \"unharvestable_ratio\": 0.9567937544429557}, {\"timestamp\": \"2021-12-31T00:01:05\", \"season\": 3517, \"variable\": \"unharvestable_ratio\", \"value\": 0.9567937544429557, \"unharvestable_pods\": 497214115.649325, \"harvested_pods\": 22128807.507142, \"harvestable_pods\": 324051.4035860002, \"unharvestable_ratio\": 0.9567937544429557}, {\"timestamp\": \"2022-01-01T00:00:03\", \"season\": 3541, \"variable\": \"unharvestable_ratio\", \"value\": 0.9577498812976134, \"unharvestable_pods\": 508974261.303722, \"harvested_pods\": 22128807.507142, \"harvestable_pods\": 324051.4035860002, \"unharvestable_ratio\": 0.9577498812976134}, {\"timestamp\": \"2022-01-01T00:00:03\", \"season\": 3541, \"variable\": \"harvestable_pods\", \"value\": 324051.4035860002, \"unharvestable_pods\": 508974261.303722, \"harvested_pods\": 22128807.507142, \"harvestable_pods\": 324051.4035860002, \"unharvestable_ratio\": 0.9577498812976134}, {\"timestamp\": \"2022-01-01T00:00:03\", \"season\": 3541, \"variable\": \"harvested_pods\", \"value\": 22128807.507142, \"unharvestable_pods\": 508974261.303722, \"harvested_pods\": 22128807.507142, \"harvestable_pods\": 324051.4035860002, \"unharvestable_ratio\": 0.9577498812976134}, {\"timestamp\": \"2022-01-01T00:00:03\", \"season\": 3541, \"variable\": \"unharvestable_pods\", \"value\": 508974261.303722, \"unharvestable_pods\": 508974261.303722, \"harvested_pods\": 22128807.507142, \"harvestable_pods\": 324051.4035860002, \"unharvestable_ratio\": 0.9577498812976134}, {\"timestamp\": \"2022-01-02T00:01:07\", \"season\": 3565, \"variable\": \"unharvestable_pods\", \"value\": 525776776.829675, \"unharvestable_pods\": 525776776.829675, \"harvested_pods\": 22144785.577367, \"harvestable_pods\": 312211.44696100056, \"unharvestable_ratio\": 0.9590375527825317}, {\"timestamp\": \"2022-01-02T00:01:07\", \"season\": 3565, \"variable\": \"harvested_pods\", \"value\": 22144785.577367, \"unharvestable_pods\": 525776776.829675, \"harvested_pods\": 22144785.577367, \"harvestable_pods\": 312211.44696100056, \"unharvestable_ratio\": 0.9590375527825317}, {\"timestamp\": \"2022-01-02T00:01:07\", \"season\": 3565, \"variable\": \"harvestable_pods\", \"value\": 312211.44696100056, \"unharvestable_pods\": 525776776.829675, \"harvested_pods\": 22144785.577367, \"harvestable_pods\": 312211.44696100056, \"unharvestable_ratio\": 0.9590375527825317}, {\"timestamp\": \"2022-01-02T00:01:07\", \"season\": 3565, \"variable\": \"unharvestable_ratio\", \"value\": 0.9590375527825317, \"unharvestable_pods\": 525776776.829675, \"harvested_pods\": 22144785.577367, \"harvestable_pods\": 312211.44696100056, \"unharvestable_ratio\": 0.9590375527825317}, {\"timestamp\": \"2022-01-03T00:00:08\", \"season\": 3589, \"variable\": \"unharvestable_ratio\", \"value\": 0.9598527113851065, \"unharvestable_pods\": 536908225.363246, \"harvested_pods\": 22216459.073867, \"harvestable_pods\": 240537.9504610002, \"unharvestable_ratio\": 0.9598527113851065}, {\"timestamp\": \"2022-01-03T00:00:08\", \"season\": 3589, \"variable\": \"unharvestable_pods\", \"value\": 536908225.363246, \"unharvestable_pods\": 536908225.363246, \"harvested_pods\": 22216459.073867, \"harvestable_pods\": 240537.9504610002, \"unharvestable_ratio\": 0.9598527113851065}, {\"timestamp\": \"2022-01-03T00:00:08\", \"season\": 3589, \"variable\": \"harvested_pods\", \"value\": 22216459.073867, \"unharvestable_pods\": 536908225.363246, \"harvested_pods\": 22216459.073867, \"harvestable_pods\": 240537.9504610002, \"unharvestable_ratio\": 0.9598527113851065}, {\"timestamp\": \"2022-01-03T00:00:08\", \"season\": 3589, \"variable\": \"harvestable_pods\", \"value\": 240537.9504610002, \"unharvestable_pods\": 536908225.363246, \"harvested_pods\": 22216459.073867, \"harvestable_pods\": 240537.9504610002, \"unharvestable_ratio\": 0.9598527113851065}, {\"timestamp\": \"2022-01-04T00:01:40\", \"season\": 3613, \"variable\": \"harvestable_pods\", \"value\": 240537.9504610002, \"unharvestable_pods\": 546336554.030142, \"harvested_pods\": 22216459.073867, \"harvestable_pods\": 240537.9504610002, \"unharvestable_ratio\": 0.9605181933186556}, {\"timestamp\": \"2022-01-04T00:01:40\", \"season\": 3613, \"variable\": \"unharvestable_ratio\", \"value\": 0.9605181933186556, \"unharvestable_pods\": 546336554.030142, \"harvested_pods\": 22216459.073867, \"harvestable_pods\": 240537.9504610002, \"unharvestable_ratio\": 0.9605181933186556}, {\"timestamp\": \"2022-01-04T00:01:40\", \"season\": 3613, \"variable\": \"unharvestable_pods\", \"value\": 546336554.030142, \"unharvestable_pods\": 546336554.030142, \"harvested_pods\": 22216459.073867, \"harvestable_pods\": 240537.9504610002, \"unharvestable_ratio\": 0.9605181933186556}, {\"timestamp\": \"2022-01-04T00:01:40\", \"season\": 3613, \"variable\": \"harvested_pods\", \"value\": 22216459.073867, \"unharvestable_pods\": 546336554.030142, \"harvested_pods\": 22216459.073867, \"harvestable_pods\": 240537.9504610002, \"unharvestable_ratio\": 0.9605181933186556}, {\"timestamp\": \"2022-01-05T00:02:09\", \"season\": 3637, \"variable\": \"unharvestable_pods\", \"value\": 555808146.491984, \"unharvestable_pods\": 555808146.491984, \"harvested_pods\": 22216459.073867, \"harvestable_pods\": 240537.9504610002, \"unharvestable_ratio\": 0.9611648786441258}, {\"timestamp\": \"2022-01-05T00:02:09\", \"season\": 3637, \"variable\": \"harvested_pods\", \"value\": 22216459.073867, \"unharvestable_pods\": 555808146.491984, \"harvested_pods\": 22216459.073867, \"harvestable_pods\": 240537.9504610002, \"unharvestable_ratio\": 0.9611648786441258}, {\"timestamp\": \"2022-01-05T00:02:09\", \"season\": 3637, \"variable\": \"harvestable_pods\", \"value\": 240537.9504610002, \"unharvestable_pods\": 555808146.491984, \"harvested_pods\": 22216459.073867, \"harvestable_pods\": 240537.9504610002, \"unharvestable_ratio\": 0.9611648786441258}, {\"timestamp\": \"2022-01-05T00:02:09\", \"season\": 3637, \"variable\": \"unharvestable_ratio\", \"value\": 0.9611648786441258, \"unharvestable_pods\": 555808146.491984, \"harvested_pods\": 22216459.073867, \"harvestable_pods\": 240537.9504610002, \"unharvestable_ratio\": 0.9611648786441258}, {\"timestamp\": \"2022-01-06T00:00:34\", \"season\": 3661, \"variable\": \"harvestable_pods\", \"value\": 240537.9504610002, \"unharvestable_pods\": 569150578.455209, \"harvested_pods\": 22216459.073867, \"harvestable_pods\": 240537.9504610002, \"unharvestable_ratio\": 0.962040720986162}, {\"timestamp\": \"2022-01-06T00:00:34\", \"season\": 3661, \"variable\": \"unharvestable_ratio\", \"value\": 0.962040720986162, \"unharvestable_pods\": 569150578.455209, \"harvested_pods\": 22216459.073867, \"harvestable_pods\": 240537.9504610002, \"unharvestable_ratio\": 0.962040720986162}, {\"timestamp\": \"2022-01-06T00:00:34\", \"season\": 3661, \"variable\": \"unharvestable_pods\", \"value\": 569150578.455209, \"unharvestable_pods\": 569150578.455209, \"harvested_pods\": 22216459.073867, \"harvestable_pods\": 240537.9504610002, \"unharvestable_ratio\": 0.962040720986162}, {\"timestamp\": \"2022-01-06T00:00:34\", \"season\": 3661, \"variable\": \"harvested_pods\", \"value\": 22216459.073867, \"unharvestable_pods\": 569150578.455209, \"harvested_pods\": 22216459.073867, \"harvestable_pods\": 240537.9504610002, \"unharvestable_ratio\": 0.962040720986162}, {\"timestamp\": \"2022-01-07T00:00:38\", \"season\": 3685, \"variable\": \"unharvestable_pods\", \"value\": 571268794.559755, \"unharvestable_pods\": 571268794.559755, \"harvested_pods\": 22216459.073867, \"harvestable_pods\": 240537.9504610002, \"unharvestable_ratio\": 0.9621761470654461}, {\"timestamp\": \"2022-01-07T00:00:38\", \"season\": 3685, \"variable\": \"harvested_pods\", \"value\": 22216459.073867, \"unharvestable_pods\": 571268794.559755, \"harvested_pods\": 22216459.073867, \"harvestable_pods\": 240537.9504610002, \"unharvestable_ratio\": 0.9621761470654461}, {\"timestamp\": \"2022-01-07T00:00:38\", \"season\": 3685, \"variable\": \"harvestable_pods\", \"value\": 240537.9504610002, \"unharvestable_pods\": 571268794.559755, \"harvested_pods\": 22216459.073867, \"harvestable_pods\": 240537.9504610002, \"unharvestable_ratio\": 0.9621761470654461}, {\"timestamp\": \"2022-01-07T00:00:38\", \"season\": 3685, \"variable\": \"unharvestable_ratio\", \"value\": 0.9621761470654461, \"unharvestable_pods\": 571268794.559755, \"harvested_pods\": 22216459.073867, \"harvestable_pods\": 240537.9504610002, \"unharvestable_ratio\": 0.9621761470654461}, {\"timestamp\": \"2022-01-08T00:00:16\", \"season\": 3709, \"variable\": \"unharvestable_ratio\", \"value\": 0.962215393977477, \"unharvestable_pods\": 571885498.195593, \"harvested_pods\": 22218321.865599, \"harvestable_pods\": 238675.15872900188, \"unharvestable_ratio\": 0.962215393977477}, {\"timestamp\": \"2022-01-08T00:00:16\", \"season\": 3709, \"variable\": \"unharvestable_pods\", \"value\": 571885498.195593, \"unharvestable_pods\": 571885498.195593, \"harvested_pods\": 22218321.865599, \"harvestable_pods\": 238675.15872900188, \"unharvestable_ratio\": 0.962215393977477}, {\"timestamp\": \"2022-01-08T00:00:16\", \"season\": 3709, \"variable\": \"harvested_pods\", \"value\": 22218321.865599, \"unharvestable_pods\": 571885498.195593, \"harvested_pods\": 22218321.865599, \"harvestable_pods\": 238675.15872900188, \"unharvestable_ratio\": 0.962215393977477}, {\"timestamp\": \"2022-01-08T00:00:16\", \"season\": 3709, \"variable\": \"harvestable_pods\", \"value\": 238675.15872900188, \"unharvestable_pods\": 571885498.195593, \"harvested_pods\": 22218321.865599, \"harvestable_pods\": 238675.15872900188, \"unharvestable_ratio\": 0.962215393977477}, {\"timestamp\": \"2022-01-09T00:00:49\", \"season\": 3733, \"variable\": \"harvestable_pods\", \"value\": 238675.15872900188, \"unharvestable_pods\": 572103952.6433, \"harvested_pods\": 22218321.865599, \"harvestable_pods\": 238675.15872900188, \"unharvestable_ratio\": 0.9622292768523026}, {\"timestamp\": \"2022-01-09T00:00:49\", \"season\": 3733, \"variable\": \"unharvestable_ratio\", \"value\": 0.9622292768523026, \"unharvestable_pods\": 572103952.6433, \"harvested_pods\": 22218321.865599, \"harvestable_pods\": 238675.15872900188, \"unharvestable_ratio\": 0.9622292768523026}, {\"timestamp\": \"2022-01-09T00:00:49\", \"season\": 3733, \"variable\": \"unharvestable_pods\", \"value\": 572103952.6433, \"unharvestable_pods\": 572103952.6433, \"harvested_pods\": 22218321.865599, \"harvestable_pods\": 238675.15872900188, \"unharvestable_ratio\": 0.9622292768523026}, {\"timestamp\": \"2022-01-09T00:00:49\", \"season\": 3733, \"variable\": \"harvested_pods\", \"value\": 22218321.865599, \"unharvestable_pods\": 572103952.6433, \"harvested_pods\": 22218321.865599, \"harvestable_pods\": 238675.15872900188, \"unharvestable_ratio\": 0.9622292768523026}, {\"timestamp\": \"2022-01-10T00:01:00\", \"season\": 3757, \"variable\": \"unharvestable_pods\", \"value\": 573548616.050234, \"unharvestable_pods\": 573548616.050234, \"harvested_pods\": 22218321.865599, \"harvestable_pods\": 238675.15872900188, \"unharvestable_ratio\": 0.962320829650444}, {\"timestamp\": \"2022-01-10T00:01:00\", \"season\": 3757, \"variable\": \"harvested_pods\", \"value\": 22218321.865599, \"unharvestable_pods\": 573548616.050234, \"harvested_pods\": 22218321.865599, \"harvestable_pods\": 238675.15872900188, \"unharvestable_ratio\": 0.962320829650444}, {\"timestamp\": \"2022-01-10T00:01:00\", \"season\": 3757, \"variable\": \"harvestable_pods\", \"value\": 238675.15872900188, \"unharvestable_pods\": 573548616.050234, \"harvested_pods\": 22218321.865599, \"harvestable_pods\": 238675.15872900188, \"unharvestable_ratio\": 0.962320829650444}, {\"timestamp\": \"2022-01-10T00:01:00\", \"season\": 3757, \"variable\": \"unharvestable_ratio\", \"value\": 0.962320829650444, \"unharvestable_pods\": 573548616.050234, \"harvested_pods\": 22218321.865599, \"harvestable_pods\": 238675.15872900188, \"unharvestable_ratio\": 0.962320829650444}, {\"timestamp\": \"2022-01-11T00:01:20\", \"season\": 3781, \"variable\": \"unharvestable_pods\", \"value\": 580956207.192143, \"unharvestable_pods\": 580956207.192143, \"harvested_pods\": 22218321.865599, \"harvestable_pods\": 238675.15872900188, \"unharvestable_ratio\": 0.9627833848059585}, {\"timestamp\": \"2022-01-11T00:01:20\", \"season\": 3781, \"variable\": \"harvested_pods\", \"value\": 22218321.865599, \"unharvestable_pods\": 580956207.192143, \"harvested_pods\": 22218321.865599, \"harvestable_pods\": 238675.15872900188, \"unharvestable_ratio\": 0.9627833848059585}, {\"timestamp\": \"2022-01-11T00:01:20\", \"season\": 3781, \"variable\": \"harvestable_pods\", \"value\": 238675.15872900188, \"unharvestable_pods\": 580956207.192143, \"harvested_pods\": 22218321.865599, \"harvestable_pods\": 238675.15872900188, \"unharvestable_ratio\": 0.9627833848059585}, {\"timestamp\": \"2022-01-11T00:01:20\", \"season\": 3781, \"variable\": \"unharvestable_ratio\", \"value\": 0.9627833848059585, \"unharvestable_pods\": 580956207.192143, \"harvested_pods\": 22218321.865599, \"harvestable_pods\": 238675.15872900188, \"unharvestable_ratio\": 0.9627833848059585}, {\"timestamp\": \"2022-01-12T00:02:53\", \"season\": 3805, \"variable\": \"unharvestable_ratio\", \"value\": 0.9628899700428452, \"unharvestable_pods\": 582689294.968853, \"harvested_pods\": 22222826.965599, \"harvestable_pods\": 234170.0587290004, \"unharvestable_ratio\": 0.9628899700428452}, {\"timestamp\": \"2022-01-12T00:02:53\", \"season\": 3805, \"variable\": \"harvestable_pods\", \"value\": 234170.0587290004, \"unharvestable_pods\": 582689294.968853, \"harvested_pods\": 22222826.965599, \"harvestable_pods\": 234170.0587290004, \"unharvestable_ratio\": 0.9628899700428452}, {\"timestamp\": \"2022-01-12T00:02:53\", \"season\": 3805, \"variable\": \"harvested_pods\", \"value\": 22222826.965599, \"unharvestable_pods\": 582689294.968853, \"harvested_pods\": 22222826.965599, \"harvestable_pods\": 234170.0587290004, \"unharvestable_ratio\": 0.9628899700428452}, {\"timestamp\": \"2022-01-12T00:02:53\", \"season\": 3805, \"variable\": \"unharvestable_pods\", \"value\": 582689294.968853, \"unharvestable_pods\": 582689294.968853, \"harvested_pods\": 22222826.965599, \"harvestable_pods\": 234170.0587290004, \"unharvestable_ratio\": 0.9628899700428452}, {\"timestamp\": \"2022-01-13T00:02:25\", \"season\": 3829, \"variable\": \"unharvestable_pods\", \"value\": 586198835.853334, \"unharvestable_pods\": 586198835.853334, \"harvested_pods\": 22222826.965599, \"harvestable_pods\": 234170.0587290004, \"unharvestable_ratio\": 0.9631039483871308}, {\"timestamp\": \"2022-01-13T00:02:25\", \"season\": 3829, \"variable\": \"harvested_pods\", \"value\": 22222826.965599, \"unharvestable_pods\": 586198835.853334, \"harvested_pods\": 22222826.965599, \"harvestable_pods\": 234170.0587290004, \"unharvestable_ratio\": 0.9631039483871308}, {\"timestamp\": \"2022-01-13T00:02:25\", \"season\": 3829, \"variable\": \"harvestable_pods\", \"value\": 234170.0587290004, \"unharvestable_pods\": 586198835.853334, \"harvested_pods\": 22222826.965599, \"harvestable_pods\": 234170.0587290004, \"unharvestable_ratio\": 0.9631039483871308}, {\"timestamp\": \"2022-01-13T00:02:25\", \"season\": 3829, \"variable\": \"unharvestable_ratio\", \"value\": 0.9631039483871308, \"unharvestable_pods\": 586198835.853334, \"harvested_pods\": 22222826.965599, \"harvestable_pods\": 234170.0587290004, \"unharvestable_ratio\": 0.9631039483871308}, {\"timestamp\": \"2022-01-14T00:04:29\", \"season\": 3853, \"variable\": \"unharvestable_pods\", \"value\": 586410360.976258, \"unharvestable_pods\": 586410360.976258, \"harvested_pods\": 22267825.9656, \"harvestable_pods\": 189171.058728002, \"unharvestable_ratio\": 0.9631167663543784}, {\"timestamp\": \"2022-01-14T00:04:29\", \"season\": 3853, \"variable\": \"harvested_pods\", \"value\": 22267825.9656, \"unharvestable_pods\": 586410360.976258, \"harvested_pods\": 22267825.9656, \"harvestable_pods\": 189171.058728002, \"unharvestable_ratio\": 0.9631167663543784}, {\"timestamp\": \"2022-01-14T00:04:29\", \"season\": 3853, \"variable\": \"harvestable_pods\", \"value\": 189171.058728002, \"unharvestable_pods\": 586410360.976258, \"harvested_pods\": 22267825.9656, \"harvestable_pods\": 189171.058728002, \"unharvestable_ratio\": 0.9631167663543784}, {\"timestamp\": \"2022-01-14T00:04:29\", \"season\": 3853, \"variable\": \"unharvestable_ratio\", \"value\": 0.9631167663543784, \"unharvestable_pods\": 586410360.976258, \"harvested_pods\": 22267825.9656, \"harvestable_pods\": 189171.058728002, \"unharvestable_ratio\": 0.9631167663543784}, {\"timestamp\": \"2022-01-15T00:01:05\", \"season\": 3877, \"variable\": \"unharvestable_ratio\", \"value\": 0.9633221286443653, \"unharvestable_pods\": 589819457.260089, \"harvested_pods\": 22267825.9656, \"harvestable_pods\": 189171.058728002, \"unharvestable_ratio\": 0.9633221286443653}, {\"timestamp\": \"2022-01-15T00:01:05\", \"season\": 3877, \"variable\": \"harvestable_pods\", \"value\": 189171.058728002, \"unharvestable_pods\": 589819457.260089, \"harvested_pods\": 22267825.9656, \"harvestable_pods\": 189171.058728002, \"unharvestable_ratio\": 0.9633221286443653}, {\"timestamp\": \"2022-01-15T00:01:05\", \"season\": 3877, \"variable\": \"unharvestable_pods\", \"value\": 589819457.260089, \"unharvestable_pods\": 589819457.260089, \"harvested_pods\": 22267825.9656, \"harvestable_pods\": 189171.058728002, \"unharvestable_ratio\": 0.9633221286443653}, {\"timestamp\": \"2022-01-15T00:01:05\", \"season\": 3877, \"variable\": \"harvested_pods\", \"value\": 22267825.9656, \"unharvestable_pods\": 589819457.260089, \"harvested_pods\": 22267825.9656, \"harvestable_pods\": 189171.058728002, \"unharvestable_ratio\": 0.9633221286443653}, {\"timestamp\": \"2022-01-16T00:00:19\", \"season\": 3901, \"variable\": \"unharvestable_pods\", \"value\": 590511453.790884, \"unharvestable_pods\": 590511453.790884, \"harvested_pods\": 22312825.965598, \"harvestable_pods\": 144171.0587300025, \"unharvestable_ratio\": 0.9633635352774494}, {\"timestamp\": \"2022-01-16T00:00:19\", \"season\": 3901, \"variable\": \"harvested_pods\", \"value\": 22312825.965598, \"unharvestable_pods\": 590511453.790884, \"harvested_pods\": 22312825.965598, \"harvestable_pods\": 144171.0587300025, \"unharvestable_ratio\": 0.9633635352774494}, {\"timestamp\": \"2022-01-16T00:00:19\", \"season\": 3901, \"variable\": \"harvestable_pods\", \"value\": 144171.0587300025, \"unharvestable_pods\": 590511453.790884, \"harvested_pods\": 22312825.965598, \"harvestable_pods\": 144171.0587300025, \"unharvestable_ratio\": 0.9633635352774494}, {\"timestamp\": \"2022-01-16T00:00:19\", \"season\": 3901, \"variable\": \"unharvestable_ratio\", \"value\": 0.9633635352774494, \"unharvestable_pods\": 590511453.790884, \"harvested_pods\": 22312825.965598, \"harvestable_pods\": 144171.0587300025, \"unharvestable_ratio\": 0.9633635352774494}, {\"timestamp\": \"2022-01-17T00:01:09\", \"season\": 3925, \"variable\": \"unharvestable_ratio\", \"value\": 0.963416988478735, \"unharvestable_pods\": 591407091.536948, \"harvested_pods\": 22312825.965598, \"harvestable_pods\": 144171.0587300025, \"unharvestable_ratio\": 0.963416988478735}, {\"timestamp\": \"2022-01-17T00:01:09\", \"season\": 3925, \"variable\": \"unharvestable_pods\", \"value\": 591407091.536948, \"unharvestable_pods\": 591407091.536948, \"harvested_pods\": 22312825.965598, \"harvestable_pods\": 144171.0587300025, \"unharvestable_ratio\": 0.963416988478735}, {\"timestamp\": \"2022-01-17T00:01:09\", \"season\": 3925, \"variable\": \"harvested_pods\", \"value\": 22312825.965598, \"unharvestable_pods\": 591407091.536948, \"harvested_pods\": 22312825.965598, \"harvestable_pods\": 144171.0587300025, \"unharvestable_ratio\": 0.963416988478735}, {\"timestamp\": \"2022-01-17T00:01:09\", \"season\": 3925, \"variable\": \"harvestable_pods\", \"value\": 144171.0587300025, \"unharvestable_pods\": 591407091.536948, \"harvested_pods\": 22312825.965598, \"harvestable_pods\": 144171.0587300025, \"unharvestable_ratio\": 0.963416988478735}, {\"timestamp\": \"2022-01-18T00:00:24\", \"season\": 3949, \"variable\": \"unharvestable_ratio\", \"value\": 0.9634213149333791, \"unharvestable_pods\": 591479698.169252, \"harvested_pods\": 22312825.965598, \"harvestable_pods\": 144171.0587300025, \"unharvestable_ratio\": 0.9634213149333791}, {\"timestamp\": \"2022-01-18T00:00:24\", \"season\": 3949, \"variable\": \"harvestable_pods\", \"value\": 144171.0587300025, \"unharvestable_pods\": 591479698.169252, \"harvested_pods\": 22312825.965598, \"harvestable_pods\": 144171.0587300025, \"unharvestable_ratio\": 0.9634213149333791}, {\"timestamp\": \"2022-01-18T00:00:24\", \"season\": 3949, \"variable\": \"unharvestable_pods\", \"value\": 591479698.169252, \"unharvestable_pods\": 591479698.169252, \"harvested_pods\": 22312825.965598, \"harvestable_pods\": 144171.0587300025, \"unharvestable_ratio\": 0.9634213149333791}, {\"timestamp\": \"2022-01-18T00:00:24\", \"season\": 3949, \"variable\": \"harvested_pods\", \"value\": 22312825.965598, \"unharvestable_pods\": 591479698.169252, \"harvested_pods\": 22312825.965598, \"harvestable_pods\": 144171.0587300025, \"unharvestable_ratio\": 0.9634213149333791}, {\"timestamp\": \"2022-01-19T00:01:17\", \"season\": 3973, \"variable\": \"harvestable_pods\", \"value\": 144171.0587300025, \"unharvestable_pods\": 597265212.09617, \"harvested_pods\": 22312825.965598, \"harvestable_pods\": 144171.0587300025, \"unharvestable_ratio\": 0.9637628009875607}, {\"timestamp\": \"2022-01-19T00:01:17\", \"season\": 3973, \"variable\": \"unharvestable_pods\", \"value\": 597265212.09617, \"unharvestable_pods\": 597265212.09617, \"harvested_pods\": 22312825.965598, \"harvestable_pods\": 144171.0587300025, \"unharvestable_ratio\": 0.9637628009875607}, {\"timestamp\": \"2022-01-19T00:01:17\", \"season\": 3973, \"variable\": \"harvested_pods\", \"value\": 22312825.965598, \"unharvestable_pods\": 597265212.09617, \"harvested_pods\": 22312825.965598, \"harvestable_pods\": 144171.0587300025, \"unharvestable_ratio\": 0.9637628009875607}, {\"timestamp\": \"2022-01-19T00:01:17\", \"season\": 3973, \"variable\": \"unharvestable_ratio\", \"value\": 0.9637628009875607, \"unharvestable_pods\": 597265212.09617, \"harvested_pods\": 22312825.965598, \"harvestable_pods\": 144171.0587300025, \"unharvestable_ratio\": 0.9637628009875607}, {\"timestamp\": \"2022-01-20T00:00:37\", \"season\": 3997, \"variable\": \"unharvestable_ratio\", \"value\": 0.963874034203836, \"unharvestable_pods\": 599173360.238329, \"harvested_pods\": 22312825.965598, \"harvestable_pods\": 144171.0587300025, \"unharvestable_ratio\": 0.963874034203836}, {\"timestamp\": \"2022-01-20T00:00:37\", \"season\": 3997, \"variable\": \"harvestable_pods\", \"value\": 144171.0587300025, \"unharvestable_pods\": 599173360.238329, \"harvested_pods\": 22312825.965598, \"harvestable_pods\": 144171.0587300025, \"unharvestable_ratio\": 0.963874034203836}, {\"timestamp\": \"2022-01-20T00:00:37\", \"season\": 3997, \"variable\": \"harvested_pods\", \"value\": 22312825.965598, \"unharvestable_pods\": 599173360.238329, \"harvested_pods\": 22312825.965598, \"harvestable_pods\": 144171.0587300025, \"unharvestable_ratio\": 0.963874034203836}, {\"timestamp\": \"2022-01-20T00:00:37\", \"season\": 3997, \"variable\": \"unharvestable_pods\", \"value\": 599173360.238329, \"unharvestable_pods\": 599173360.238329, \"harvested_pods\": 22312825.965598, \"harvestable_pods\": 144171.0587300025, \"unharvestable_ratio\": 0.963874034203836}, {\"timestamp\": \"2022-01-21T00:00:23\", \"season\": 4021, \"variable\": \"unharvestable_pods\", \"value\": 600094361.816036, \"unharvestable_pods\": 600094361.816036, \"harvested_pods\": 22312825.965598, \"harvestable_pods\": 144171.0587300025, \"unharvestable_ratio\": 0.9639274789052601}, {\"timestamp\": \"2022-01-21T00:00:23\", \"season\": 4021, \"variable\": \"harvested_pods\", \"value\": 22312825.965598, \"unharvestable_pods\": 600094361.816036, \"harvested_pods\": 22312825.965598, \"harvestable_pods\": 144171.0587300025, \"unharvestable_ratio\": 0.9639274789052601}, {\"timestamp\": \"2022-01-21T00:00:23\", \"season\": 4021, \"variable\": \"harvestable_pods\", \"value\": 144171.0587300025, \"unharvestable_pods\": 600094361.816036, \"harvested_pods\": 22312825.965598, \"harvestable_pods\": 144171.0587300025, \"unharvestable_ratio\": 0.9639274789052601}, {\"timestamp\": \"2022-01-21T00:00:23\", \"season\": 4021, \"variable\": \"unharvestable_ratio\", \"value\": 0.9639274789052601, \"unharvestable_pods\": 600094361.816036, \"harvested_pods\": 22312825.965598, \"harvestable_pods\": 144171.0587300025, \"unharvestable_ratio\": 0.9639274789052601}, {\"timestamp\": \"2022-01-22T00:02:29\", \"season\": 4045, \"variable\": \"harvestable_pods\", \"value\": 144171.0587300025, \"unharvestable_pods\": 600446801.326867, \"harvested_pods\": 22312825.965598, \"harvestable_pods\": 144171.0587300025, \"unharvestable_ratio\": 0.9639478887690669}, {\"timestamp\": \"2022-01-22T00:02:29\", \"season\": 4045, \"variable\": \"unharvestable_ratio\", \"value\": 0.9639478887690669, \"unharvestable_pods\": 600446801.326867, \"harvested_pods\": 22312825.965598, \"harvestable_pods\": 144171.0587300025, \"unharvestable_ratio\": 0.9639478887690669}, {\"timestamp\": \"2022-01-22T00:02:29\", \"season\": 4045, \"variable\": \"unharvestable_pods\", \"value\": 600446801.326867, \"unharvestable_pods\": 600446801.326867, \"harvested_pods\": 22312825.965598, \"harvestable_pods\": 144171.0587300025, \"unharvestable_ratio\": 0.9639478887690669}, {\"timestamp\": \"2022-01-22T00:02:29\", \"season\": 4045, \"variable\": \"harvested_pods\", \"value\": 22312825.965598, \"unharvestable_pods\": 600446801.326867, \"harvested_pods\": 22312825.965598, \"harvestable_pods\": 144171.0587300025, \"unharvestable_ratio\": 0.9639478887690669}, {\"timestamp\": \"2022-01-23T00:00:48\", \"season\": 4069, \"variable\": \"unharvestable_pods\", \"value\": 600495435.116941, \"unharvestable_pods\": 600495435.116941, \"harvested_pods\": 22312825.965598, \"harvestable_pods\": 144171.0587300025, \"unharvestable_ratio\": 0.9639507033512387}, {\"timestamp\": \"2022-01-23T00:00:48\", \"season\": 4069, \"variable\": \"harvested_pods\", \"value\": 22312825.965598, \"unharvestable_pods\": 600495435.116941, \"harvested_pods\": 22312825.965598, \"harvestable_pods\": 144171.0587300025, \"unharvestable_ratio\": 0.9639507033512387}, {\"timestamp\": \"2022-01-23T00:00:48\", \"season\": 4069, \"variable\": \"harvestable_pods\", \"value\": 144171.0587300025, \"unharvestable_pods\": 600495435.116941, \"harvested_pods\": 22312825.965598, \"harvestable_pods\": 144171.0587300025, \"unharvestable_ratio\": 0.9639507033512387}, {\"timestamp\": \"2022-01-23T00:00:48\", \"season\": 4069, \"variable\": \"unharvestable_ratio\", \"value\": 0.9639507033512387, \"unharvestable_pods\": 600495435.116941, \"harvested_pods\": 22312825.965598, \"harvestable_pods\": 144171.0587300025, \"unharvestable_ratio\": 0.9639507033512387}, {\"timestamp\": \"2022-01-24T00:02:29\", \"season\": 4093, \"variable\": \"unharvestable_ratio\", \"value\": 0.9639542863201662, \"unharvestable_pods\": 600557357.020543, \"harvested_pods\": 22312825.965598, \"harvestable_pods\": 144171.0587300025, \"unharvestable_ratio\": 0.9639542863201662}, {\"timestamp\": \"2022-01-24T00:02:29\", \"season\": 4093, \"variable\": \"unharvestable_pods\", \"value\": 600557357.020543, \"unharvestable_pods\": 600557357.020543, \"harvested_pods\": 22312825.965598, \"harvestable_pods\": 144171.0587300025, \"unharvestable_ratio\": 0.9639542863201662}, {\"timestamp\": \"2022-01-24T00:02:29\", \"season\": 4093, \"variable\": \"harvested_pods\", \"value\": 22312825.965598, \"unharvestable_pods\": 600557357.020543, \"harvested_pods\": 22312825.965598, \"harvestable_pods\": 144171.0587300025, \"unharvestable_ratio\": 0.9639542863201662}, {\"timestamp\": \"2022-01-24T00:02:29\", \"season\": 4093, \"variable\": \"harvestable_pods\", \"value\": 144171.0587300025, \"unharvestable_pods\": 600557357.020543, \"harvested_pods\": 22312825.965598, \"harvestable_pods\": 144171.0587300025, \"unharvestable_ratio\": 0.9639542863201662}, {\"timestamp\": \"2022-01-25T00:00:10\", \"season\": 4117, \"variable\": \"harvested_pods\", \"value\": 22312825.965598, \"unharvestable_pods\": 611547672.790543, \"harvested_pods\": 22312825.965598, \"harvestable_pods\": 144171.0587300025, \"unharvestable_ratio\": 0.9645791299441289}, {\"timestamp\": \"2022-01-25T00:00:10\", \"season\": 4117, \"variable\": \"harvestable_pods\", \"value\": 144171.0587300025, \"unharvestable_pods\": 611547672.790543, \"harvested_pods\": 22312825.965598, \"harvestable_pods\": 144171.0587300025, \"unharvestable_ratio\": 0.9645791299441289}, {\"timestamp\": \"2022-01-25T00:00:10\", \"season\": 4117, \"variable\": \"unharvestable_pods\", \"value\": 611547672.790543, \"unharvestable_pods\": 611547672.790543, \"harvested_pods\": 22312825.965598, \"harvestable_pods\": 144171.0587300025, \"unharvestable_ratio\": 0.9645791299441289}, {\"timestamp\": \"2022-01-25T00:00:10\", \"season\": 4117, \"variable\": \"unharvestable_ratio\", \"value\": 0.9645791299441289, \"unharvestable_pods\": 611547672.790543, \"harvested_pods\": 22312825.965598, \"harvestable_pods\": 144171.0587300025, \"unharvestable_ratio\": 0.9645791299441289}, {\"timestamp\": \"2022-01-26T00:00:17\", \"season\": 4141, \"variable\": \"unharvestable_ratio\", \"value\": 0.9646091073211863, \"unharvestable_pods\": 612084697.872551, \"harvested_pods\": 22312825.965598, \"harvestable_pods\": 144171.0587300025, \"unharvestable_ratio\": 0.9646091073211863}, {\"timestamp\": \"2022-01-26T00:00:17\", \"season\": 4141, \"variable\": \"harvestable_pods\", \"value\": 144171.0587300025, \"unharvestable_pods\": 612084697.872551, \"harvested_pods\": 22312825.965598, \"harvestable_pods\": 144171.0587300025, \"unharvestable_ratio\": 0.9646091073211863}, {\"timestamp\": \"2022-01-26T00:00:17\", \"season\": 4141, \"variable\": \"harvested_pods\", \"value\": 22312825.965598, \"unharvestable_pods\": 612084697.872551, \"harvested_pods\": 22312825.965598, \"harvestable_pods\": 144171.0587300025, \"unharvestable_ratio\": 0.9646091073211863}, {\"timestamp\": \"2022-01-26T00:00:17\", \"season\": 4141, \"variable\": \"unharvestable_pods\", \"value\": 612084697.872551, \"unharvestable_pods\": 612084697.872551, \"harvested_pods\": 22312825.965598, \"harvestable_pods\": 144171.0587300025, \"unharvestable_ratio\": 0.9646091073211863}, {\"timestamp\": \"2022-01-27T00:00:24\", \"season\": 4165, \"variable\": \"unharvestable_pods\", \"value\": 612192383.262431, \"unharvestable_pods\": 612192383.262431, \"harvested_pods\": 22312825.965598, \"harvestable_pods\": 144171.0587300025, \"unharvestable_ratio\": 0.9646151123409573}, {\"timestamp\": \"2022-01-27T00:00:24\", \"season\": 4165, \"variable\": \"harvested_pods\", \"value\": 22312825.965598, \"unharvestable_pods\": 612192383.262431, \"harvested_pods\": 22312825.965598, \"harvestable_pods\": 144171.0587300025, \"unharvestable_ratio\": 0.9646151123409573}, {\"timestamp\": \"2022-01-27T00:00:24\", \"season\": 4165, \"variable\": \"harvestable_pods\", \"value\": 144171.0587300025, \"unharvestable_pods\": 612192383.262431, \"harvested_pods\": 22312825.965598, \"harvestable_pods\": 144171.0587300025, \"unharvestable_ratio\": 0.9646151123409573}, {\"timestamp\": \"2022-01-27T00:00:24\", \"season\": 4165, \"variable\": \"unharvestable_ratio\", \"value\": 0.9646151123409573, \"unharvestable_pods\": 612192383.262431, \"harvested_pods\": 22312825.965598, \"harvestable_pods\": 144171.0587300025, \"unharvestable_ratio\": 0.9646151123409573}, {\"timestamp\": \"2022-01-28T00:00:55\", \"season\": 4189, \"variable\": \"harvestable_pods\", \"value\": 144171.0587300025, \"unharvestable_pods\": 612322010.735754, \"harvested_pods\": 22312825.965598, \"harvestable_pods\": 144171.0587300025, \"unharvestable_ratio\": 0.9646223382471782}, {\"timestamp\": \"2022-01-28T00:00:55\", \"season\": 4189, \"variable\": \"unharvestable_ratio\", \"value\": 0.9646223382471782, \"unharvestable_pods\": 612322010.735754, \"harvested_pods\": 22312825.965598, \"harvestable_pods\": 144171.0587300025, \"unharvestable_ratio\": 0.9646223382471782}, {\"timestamp\": \"2022-01-28T00:00:55\", \"season\": 4189, \"variable\": \"unharvestable_pods\", \"value\": 612322010.735754, \"unharvestable_pods\": 612322010.735754, \"harvested_pods\": 22312825.965598, \"harvestable_pods\": 144171.0587300025, \"unharvestable_ratio\": 0.9646223382471782}, {\"timestamp\": \"2022-01-28T00:00:55\", \"season\": 4189, \"variable\": \"harvested_pods\", \"value\": 22312825.965598, \"unharvestable_pods\": 612322010.735754, \"harvested_pods\": 22312825.965598, \"harvestable_pods\": 144171.0587300025, \"unharvestable_ratio\": 0.9646223382471782}, {\"timestamp\": \"2022-01-29T00:00:04\", \"season\": 4213, \"variable\": \"unharvestable_pods\", \"value\": 612530214.819388, \"unharvestable_pods\": 612530214.819388, \"harvested_pods\": 22312825.965598, \"harvestable_pods\": 146432.00059400126, \"unharvestable_ratio\": 0.9646305034512345}, {\"timestamp\": \"2022-01-29T00:00:04\", \"season\": 4213, \"variable\": \"harvested_pods\", \"value\": 22312825.965598, \"unharvestable_pods\": 612530214.819388, \"harvested_pods\": 22312825.965598, \"harvestable_pods\": 146432.00059400126, \"unharvestable_ratio\": 0.9646305034512345}, {\"timestamp\": \"2022-01-29T00:00:04\", \"season\": 4213, \"variable\": \"harvestable_pods\", \"value\": 146432.00059400126, \"unharvestable_pods\": 612530214.819388, \"harvested_pods\": 22312825.965598, \"harvestable_pods\": 146432.00059400126, \"unharvestable_ratio\": 0.9646305034512345}, {\"timestamp\": \"2022-01-29T00:00:04\", \"season\": 4213, \"variable\": \"unharvestable_ratio\", \"value\": 0.9646305034512345, \"unharvestable_pods\": 612530214.819388, \"harvested_pods\": 22312825.965598, \"harvestable_pods\": 146432.00059400126, \"unharvestable_ratio\": 0.9646305034512345}, {\"timestamp\": \"2022-01-30T00:00:07\", \"season\": 4237, \"variable\": \"unharvestable_ratio\", \"value\": 0.964659833616476, \"unharvestable_pods\": 613057217.040072, \"harvested_pods\": 22312825.965598, \"harvestable_pods\": 146432.00059400126, \"unharvestable_ratio\": 0.964659833616476}, {\"timestamp\": \"2022-01-30T00:00:07\", \"season\": 4237, \"variable\": \"unharvestable_pods\", \"value\": 613057217.040072, \"unharvestable_pods\": 613057217.040072, \"harvested_pods\": 22312825.965598, \"harvestable_pods\": 146432.00059400126, \"unharvestable_ratio\": 0.964659833616476}, {\"timestamp\": \"2022-01-30T00:00:07\", \"season\": 4237, \"variable\": \"harvested_pods\", \"value\": 22312825.965598, \"unharvestable_pods\": 613057217.040072, \"harvested_pods\": 22312825.965598, \"harvestable_pods\": 146432.00059400126, \"unharvestable_ratio\": 0.964659833616476}, {\"timestamp\": \"2022-01-30T00:00:07\", \"season\": 4237, \"variable\": \"harvestable_pods\", \"value\": 146432.00059400126, \"unharvestable_pods\": 613057217.040072, \"harvested_pods\": 22312825.965598, \"harvestable_pods\": 146432.00059400126, \"unharvestable_ratio\": 0.964659833616476}, {\"timestamp\": \"2022-01-31T00:00:00\", \"season\": 4261, \"variable\": \"harvestable_pods\", \"value\": 152358.0460900031, \"unharvestable_pods\": 613959929.934238, \"harvested_pods\": 22312825.965598, \"harvestable_pods\": 152358.0460900031, \"unharvestable_ratio\": 0.9647009781364524}, {\"timestamp\": \"2022-01-31T00:00:00\", \"season\": 4261, \"variable\": \"unharvestable_ratio\", \"value\": 0.9647009781364524, \"unharvestable_pods\": 613959929.934238, \"harvested_pods\": 22312825.965598, \"harvestable_pods\": 152358.0460900031, \"unharvestable_ratio\": 0.9647009781364524}, {\"timestamp\": \"2022-01-31T00:00:00\", \"season\": 4261, \"variable\": \"unharvestable_pods\", \"value\": 613959929.934238, \"unharvestable_pods\": 613959929.934238, \"harvested_pods\": 22312825.965598, \"harvestable_pods\": 152358.0460900031, \"unharvestable_ratio\": 0.9647009781364524}, {\"timestamp\": \"2022-01-31T00:00:00\", \"season\": 4261, \"variable\": \"harvested_pods\", \"value\": 22312825.965598, \"unharvestable_pods\": 613959929.934238, \"harvested_pods\": 22312825.965598, \"harvestable_pods\": 152358.0460900031, \"unharvestable_ratio\": 0.9647009781364524}, {\"timestamp\": \"2022-02-01T00:00:47\", \"season\": 4285, \"variable\": \"unharvestable_pods\", \"value\": 615401550.791057, \"unharvestable_pods\": 615401550.791057, \"harvested_pods\": 22325513.173866, \"harvestable_pods\": 151663.8060199991, \"unharvestable_ratio\": 0.9647626170911324}, {\"timestamp\": \"2022-02-01T00:00:47\", \"season\": 4285, \"variable\": \"harvested_pods\", \"value\": 22325513.173866, \"unharvestable_pods\": 615401550.791057, \"harvested_pods\": 22325513.173866, \"harvestable_pods\": 151663.8060199991, \"unharvestable_ratio\": 0.9647626170911324}, {\"timestamp\": \"2022-02-01T00:00:47\", \"season\": 4285, \"variable\": \"harvestable_pods\", \"value\": 151663.8060199991, \"unharvestable_pods\": 615401550.791057, \"harvested_pods\": 22325513.173866, \"harvestable_pods\": 151663.8060199991, \"unharvestable_ratio\": 0.9647626170911324}, {\"timestamp\": \"2022-02-01T00:00:47\", \"season\": 4285, \"variable\": \"unharvestable_ratio\", \"value\": 0.9647626170911324, \"unharvestable_pods\": 615401550.791057, \"harvested_pods\": 22325513.173866, \"harvestable_pods\": 151663.8060199991, \"unharvestable_ratio\": 0.9647626170911324}, {\"timestamp\": \"2022-02-02T00:02:56\", \"season\": 4309, \"variable\": \"unharvestable_pods\", \"value\": 616553424.003867, \"unharvestable_pods\": 616553424.003867, \"harvested_pods\": 22325513.173866, \"harvestable_pods\": 154928.5135239996, \"unharvestable_ratio\": 0.9648212044864438}, {\"timestamp\": \"2022-02-02T00:02:56\", \"season\": 4309, \"variable\": \"harvested_pods\", \"value\": 22325513.173866, \"unharvestable_pods\": 616553424.003867, \"harvested_pods\": 22325513.173866, \"harvestable_pods\": 154928.5135239996, \"unharvestable_ratio\": 0.9648212044864438}, {\"timestamp\": \"2022-02-02T00:02:56\", \"season\": 4309, \"variable\": \"harvestable_pods\", \"value\": 154928.5135239996, \"unharvestable_pods\": 616553424.003867, \"harvested_pods\": 22325513.173866, \"harvestable_pods\": 154928.5135239996, \"unharvestable_ratio\": 0.9648212044864438}, {\"timestamp\": \"2022-02-02T00:02:56\", \"season\": 4309, \"variable\": \"unharvestable_ratio\", \"value\": 0.9648212044864438, \"unharvestable_pods\": 616553424.003867, \"harvested_pods\": 22325513.173866, \"harvestable_pods\": 154928.5135239996, \"unharvestable_ratio\": 0.9648212044864438}, {\"timestamp\": \"2022-02-03T00:00:03\", \"season\": 4333, \"variable\": \"unharvestable_ratio\", \"value\": 0.9648731294771586, \"unharvestable_pods\": 617746800.59599, \"harvested_pods\": 22339987.993866, \"harvestable_pods\": 149509.55509499833, \"unharvestable_ratio\": 0.9648731294771586}, {\"timestamp\": \"2022-02-03T00:00:03\", \"season\": 4333, \"variable\": \"harvestable_pods\", \"value\": 149509.55509499833, \"unharvestable_pods\": 617746800.59599, \"harvested_pods\": 22339987.993866, \"harvestable_pods\": 149509.55509499833, \"unharvestable_ratio\": 0.9648731294771586}, {\"timestamp\": \"2022-02-03T00:00:03\", \"season\": 4333, \"variable\": \"harvested_pods\", \"value\": 22339987.993866, \"unharvestable_pods\": 617746800.59599, \"harvested_pods\": 22339987.993866, \"harvestable_pods\": 149509.55509499833, \"unharvestable_ratio\": 0.9648731294771586}, {\"timestamp\": \"2022-02-03T00:00:03\", \"season\": 4333, \"variable\": \"unharvestable_pods\", \"value\": 617746800.59599, \"unharvestable_pods\": 617746800.59599, \"harvested_pods\": 22339987.993866, \"harvestable_pods\": 149509.55509499833, \"unharvestable_ratio\": 0.9648731294771586}, {\"timestamp\": \"2022-02-04T00:01:08\", \"season\": 4357, \"variable\": \"unharvestable_pods\", \"value\": 618330585.032622, \"unharvestable_pods\": 618330585.032622, \"harvested_pods\": 22339987.993866, \"harvestable_pods\": 198456.48030300066, \"unharvestable_ratio\": 0.9648314344484481}, {\"timestamp\": \"2022-02-04T00:01:08\", \"season\": 4357, \"variable\": \"harvested_pods\", \"value\": 22339987.993866, \"unharvestable_pods\": 618330585.032622, \"harvested_pods\": 22339987.993866, \"harvestable_pods\": 198456.48030300066, \"unharvestable_ratio\": 0.9648314344484481}, {\"timestamp\": \"2022-02-04T00:01:08\", \"season\": 4357, \"variable\": \"harvestable_pods\", \"value\": 198456.48030300066, \"unharvestable_pods\": 618330585.032622, \"harvested_pods\": 22339987.993866, \"harvestable_pods\": 198456.48030300066, \"unharvestable_ratio\": 0.9648314344484481}, {\"timestamp\": \"2022-02-04T00:01:08\", \"season\": 4357, \"variable\": \"unharvestable_ratio\", \"value\": 0.9648314344484481, \"unharvestable_pods\": 618330585.032622, \"harvested_pods\": 22339987.993866, \"harvestable_pods\": 198456.48030300066, \"unharvestable_ratio\": 0.9648314344484481}, {\"timestamp\": \"2022-02-05T00:00:19\", \"season\": 4381, \"variable\": \"unharvestable_ratio\", \"value\": 0.9648198503320841, \"unharvestable_pods\": 619024724.137184, \"harvested_pods\": 22339987.993866, \"harvestable_pods\": 231461.4179500006, \"unharvestable_ratio\": 0.9648198503320841}, {\"timestamp\": \"2022-02-05T00:00:19\", \"season\": 4381, \"variable\": \"unharvestable_pods\", \"value\": 619024724.137184, \"unharvestable_pods\": 619024724.137184, \"harvested_pods\": 22339987.993866, \"harvestable_pods\": 231461.4179500006, \"unharvestable_ratio\": 0.9648198503320841}, {\"timestamp\": \"2022-02-05T00:00:19\", \"season\": 4381, \"variable\": \"harvested_pods\", \"value\": 22339987.993866, \"unharvestable_pods\": 619024724.137184, \"harvested_pods\": 22339987.993866, \"harvestable_pods\": 231461.4179500006, \"unharvestable_ratio\": 0.9648198503320841}, {\"timestamp\": \"2022-02-05T00:00:19\", \"season\": 4381, \"variable\": \"harvestable_pods\", \"value\": 231461.4179500006, \"unharvestable_pods\": 619024724.137184, \"harvested_pods\": 22339987.993866, \"harvestable_pods\": 231461.4179500006, \"unharvestable_ratio\": 0.9648198503320841}, {\"timestamp\": \"2022-02-06T00:00:11\", \"season\": 4405, \"variable\": \"unharvestable_ratio\", \"value\": 0.9648441290748723, \"unharvestable_pods\": 620447808.26747, \"harvested_pods\": 22339987.993866, \"harvestable_pods\": 267169.3758369982, \"unharvestable_ratio\": 0.9648441290748723}, {\"timestamp\": \"2022-02-06T00:00:11\", \"season\": 4405, \"variable\": \"harvestable_pods\", \"value\": 267169.3758369982, \"unharvestable_pods\": 620447808.26747, \"harvested_pods\": 22339987.993866, \"harvestable_pods\": 267169.3758369982, \"unharvestable_ratio\": 0.9648441290748723}, {\"timestamp\": \"2022-02-06T00:00:11\", \"season\": 4405, \"variable\": \"harvested_pods\", \"value\": 22339987.993866, \"unharvestable_pods\": 620447808.26747, \"harvested_pods\": 22339987.993866, \"harvestable_pods\": 267169.3758369982, \"unharvestable_ratio\": 0.9648441290748723}, {\"timestamp\": \"2022-02-06T00:00:11\", \"season\": 4405, \"variable\": \"unharvestable_pods\", \"value\": 620447808.26747, \"unharvestable_pods\": 620447808.26747, \"harvested_pods\": 22339987.993866, \"harvestable_pods\": 267169.3758369982, \"unharvestable_ratio\": 0.9648441290748723}, {\"timestamp\": \"2022-02-07T00:00:02\", \"season\": 4429, \"variable\": \"unharvestable_pods\", \"value\": 620547773.249497, \"unharvestable_pods\": 620547773.249497, \"harvested_pods\": 22404793.32572, \"harvestable_pods\": 309209.2530899979, \"unharvestable_ratio\": 0.9646893326600016}, {\"timestamp\": \"2022-02-07T00:00:02\", \"season\": 4429, \"variable\": \"harvested_pods\", \"value\": 22404793.32572, \"unharvestable_pods\": 620547773.249497, \"harvested_pods\": 22404793.32572, \"harvestable_pods\": 309209.2530899979, \"unharvestable_ratio\": 0.9646893326600016}, {\"timestamp\": \"2022-02-07T00:00:02\", \"season\": 4429, \"variable\": \"harvestable_pods\", \"value\": 309209.2530899979, \"unharvestable_pods\": 620547773.249497, \"harvested_pods\": 22404793.32572, \"harvestable_pods\": 309209.2530899979, \"unharvestable_ratio\": 0.9646893326600016}, {\"timestamp\": \"2022-02-07T00:00:02\", \"season\": 4429, \"variable\": \"unharvestable_ratio\", \"value\": 0.9646893326600016, \"unharvestable_pods\": 620547773.249497, \"harvested_pods\": 22404793.32572, \"harvestable_pods\": 309209.2530899979, \"unharvestable_ratio\": 0.9646893326600016}, {\"timestamp\": \"2022-02-08T00:00:30\", \"season\": 4453, \"variable\": \"harvestable_pods\", \"value\": 251667.6326440014, \"unharvestable_pods\": 620783814.693311, \"harvested_pods\": 22489367.614652, \"harvestable_pods\": 251667.6326440014, \"unharvestable_ratio\": 0.9646617605374603}, {\"timestamp\": \"2022-02-08T00:00:30\", \"season\": 4453, \"variable\": \"unharvestable_ratio\", \"value\": 0.9646617605374603, \"unharvestable_pods\": 620783814.693311, \"harvested_pods\": 22489367.614652, \"harvestable_pods\": 251667.6326440014, \"unharvestable_ratio\": 0.9646617605374603}, {\"timestamp\": \"2022-02-08T00:00:30\", \"season\": 4453, \"variable\": \"unharvestable_pods\", \"value\": 620783814.693311, \"unharvestable_pods\": 620783814.693311, \"harvested_pods\": 22489367.614652, \"harvestable_pods\": 251667.6326440014, \"unharvestable_ratio\": 0.9646617605374603}, {\"timestamp\": \"2022-02-08T00:00:30\", \"season\": 4453, \"variable\": \"harvested_pods\", \"value\": 22489367.614652, \"unharvestable_pods\": 620783814.693311, \"harvested_pods\": 22489367.614652, \"harvestable_pods\": 251667.6326440014, \"unharvestable_ratio\": 0.9646617605374603}, {\"timestamp\": \"2022-02-09T00:00:10\", \"season\": 4477, \"variable\": \"unharvestable_pods\", \"value\": 620769153.481856, \"unharvestable_pods\": 620769153.481856, \"harvested_pods\": 22549317.614652, \"harvestable_pods\": 224623.13769499958, \"unharvestable_ratio\": 0.9646116305863754}, {\"timestamp\": \"2022-02-09T00:00:10\", \"season\": 4477, \"variable\": \"harvested_pods\", \"value\": 22549317.614652, \"unharvestable_pods\": 620769153.481856, \"harvested_pods\": 22549317.614652, \"harvestable_pods\": 224623.13769499958, \"unharvestable_ratio\": 0.9646116305863754}, {\"timestamp\": \"2022-02-09T00:00:10\", \"season\": 4477, \"variable\": \"harvestable_pods\", \"value\": 224623.13769499958, \"unharvestable_pods\": 620769153.481856, \"harvested_pods\": 22549317.614652, \"harvestable_pods\": 224623.13769499958, \"unharvestable_ratio\": 0.9646116305863754}, {\"timestamp\": \"2022-02-09T00:00:10\", \"season\": 4477, \"variable\": \"unharvestable_ratio\", \"value\": 0.9646116305863754, \"unharvestable_pods\": 620769153.481856, \"harvested_pods\": 22549317.614652, \"harvestable_pods\": 224623.13769499958, \"unharvestable_ratio\": 0.9646116305863754}, {\"timestamp\": \"2022-02-10T00:00:44\", \"season\": 4501, \"variable\": \"unharvestable_ratio\", \"value\": 0.9645766620988712, \"unharvestable_pods\": 620891745.71569, \"harvested_pods\": 22549317.614652, \"harvestable_pods\": 252455.40424999967, \"unharvestable_ratio\": 0.9645766620988712}, {\"timestamp\": \"2022-02-10T00:00:44\", \"season\": 4501, \"variable\": \"unharvestable_pods\", \"value\": 620891745.71569, \"unharvestable_pods\": 620891745.71569, \"harvested_pods\": 22549317.614652, \"harvestable_pods\": 252455.40424999967, \"unharvestable_ratio\": 0.9645766620988712}, {\"timestamp\": \"2022-02-10T00:00:44\", \"season\": 4501, \"variable\": \"harvested_pods\", \"value\": 22549317.614652, \"unharvestable_pods\": 620891745.71569, \"harvested_pods\": 22549317.614652, \"harvestable_pods\": 252455.40424999967, \"unharvestable_ratio\": 0.9645766620988712}, {\"timestamp\": \"2022-02-10T00:00:44\", \"season\": 4501, \"variable\": \"harvestable_pods\", \"value\": 252455.40424999967, \"unharvestable_pods\": 620891745.71569, \"harvested_pods\": 22549317.614652, \"harvestable_pods\": 252455.40424999967, \"unharvestable_ratio\": 0.9645766620988712}, {\"timestamp\": \"2022-02-11T00:00:06\", \"season\": 4525, \"variable\": \"unharvestable_ratio\", \"value\": 0.9647163185830773, \"unharvestable_pods\": 624337580.4958, \"harvested_pods\": 22549317.614652, \"harvestable_pods\": 285300.0470260009, \"unharvestable_ratio\": 0.9647163185830773}, {\"timestamp\": \"2022-02-11T00:00:06\", \"season\": 4525, \"variable\": \"harvestable_pods\", \"value\": 285300.0470260009, \"unharvestable_pods\": 624337580.4958, \"harvested_pods\": 22549317.614652, \"harvestable_pods\": 285300.0470260009, \"unharvestable_ratio\": 0.9647163185830773}, {\"timestamp\": \"2022-02-11T00:00:06\", \"season\": 4525, \"variable\": \"unharvestable_pods\", \"value\": 624337580.4958, \"unharvestable_pods\": 624337580.4958, \"harvested_pods\": 22549317.614652, \"harvestable_pods\": 285300.0470260009, \"unharvestable_ratio\": 0.9647163185830773}, {\"timestamp\": \"2022-02-11T00:00:06\", \"season\": 4525, \"variable\": \"harvested_pods\", \"value\": 22549317.614652, \"unharvestable_pods\": 624337580.4958, \"harvested_pods\": 22549317.614652, \"harvestable_pods\": 285300.0470260009, \"unharvestable_ratio\": 0.9647163185830773}, {\"timestamp\": \"2022-02-12T00:00:06\", \"season\": 4549, \"variable\": \"unharvestable_pods\", \"value\": 624669973.866802, \"unharvestable_pods\": 624669973.866802, \"harvested_pods\": 22549317.614652, \"harvestable_pods\": 290177.2386649996, \"unharvestable_ratio\": 0.964727164687704}, {\"timestamp\": \"2022-02-12T00:00:06\", \"season\": 4549, \"variable\": \"harvested_pods\", \"value\": 22549317.614652, \"unharvestable_pods\": 624669973.866802, \"harvested_pods\": 22549317.614652, \"harvestable_pods\": 290177.2386649996, \"unharvestable_ratio\": 0.964727164687704}, {\"timestamp\": \"2022-02-12T00:00:06\", \"season\": 4549, \"variable\": \"harvestable_pods\", \"value\": 290177.2386649996, \"unharvestable_pods\": 624669973.866802, \"harvested_pods\": 22549317.614652, \"harvestable_pods\": 290177.2386649996, \"unharvestable_ratio\": 0.964727164687704}, {\"timestamp\": \"2022-02-12T00:00:06\", \"season\": 4549, \"variable\": \"unharvestable_ratio\", \"value\": 0.964727164687704, \"unharvestable_pods\": 624669973.866802, \"harvested_pods\": 22549317.614652, \"harvestable_pods\": 290177.2386649996, \"unharvestable_ratio\": 0.964727164687704}, {\"timestamp\": \"2022-02-13T00:00:56\", \"season\": 4573, \"variable\": \"unharvestable_ratio\", \"value\": 0.964739241460358, \"unharvestable_pods\": 624934485.428377, \"harvested_pods\": 22549317.614652, \"harvestable_pods\": 291739.37441499904, \"unharvestable_ratio\": 0.964739241460358}, {\"timestamp\": \"2022-02-13T00:00:56\", \"season\": 4573, \"variable\": \"unharvestable_pods\", \"value\": 624934485.428377, \"unharvestable_pods\": 624934485.428377, \"harvested_pods\": 22549317.614652, \"harvestable_pods\": 291739.37441499904, \"unharvestable_ratio\": 0.964739241460358}, {\"timestamp\": \"2022-02-13T00:00:56\", \"season\": 4573, \"variable\": \"harvested_pods\", \"value\": 22549317.614652, \"unharvestable_pods\": 624934485.428377, \"harvested_pods\": 22549317.614652, \"harvestable_pods\": 291739.37441499904, \"unharvestable_ratio\": 0.964739241460358}, {\"timestamp\": \"2022-02-13T00:00:56\", \"season\": 4573, \"variable\": \"harvestable_pods\", \"value\": 291739.37441499904, \"unharvestable_pods\": 624934485.428377, \"harvested_pods\": 22549317.614652, \"harvestable_pods\": 291739.37441499904, \"unharvestable_ratio\": 0.964739241460358}, {\"timestamp\": \"2022-02-14T00:00:11\", \"season\": 4597, \"variable\": \"unharvestable_ratio\", \"value\": 0.9647405773405429, \"unharvestable_pods\": 625233285.41931, \"harvested_pods\": 22549317.614652, \"harvestable_pods\": 301762.9650949985, \"unharvestable_ratio\": 0.9647405773405429}, {\"timestamp\": \"2022-02-14T00:00:11\", \"season\": 4597, \"variable\": \"harvestable_pods\", \"value\": 301762.9650949985, \"unharvestable_pods\": 625233285.41931, \"harvested_pods\": 22549317.614652, \"harvestable_pods\": 301762.9650949985, \"unharvestable_ratio\": 0.9647405773405429}, {\"timestamp\": \"2022-02-14T00:00:11\", \"season\": 4597, \"variable\": \"unharvestable_pods\", \"value\": 625233285.41931, \"unharvestable_pods\": 625233285.41931, \"harvested_pods\": 22549317.614652, \"harvestable_pods\": 301762.9650949985, \"unharvestable_ratio\": 0.9647405773405429}, {\"timestamp\": \"2022-02-14T00:00:11\", \"season\": 4597, \"variable\": \"harvested_pods\", \"value\": 22549317.614652, \"unharvestable_pods\": 625233285.41931, \"harvested_pods\": 22549317.614652, \"harvestable_pods\": 301762.9650949985, \"unharvestable_ratio\": 0.9647405773405429}, {\"timestamp\": \"2022-02-15T00:00:35\", \"season\": 4621, \"variable\": \"unharvestable_ratio\", \"value\": 0.9647358993559113, \"unharvestable_pods\": 627212822.332812, \"harvested_pods\": 22549317.614652, \"harvestable_pods\": 377263.7500239983, \"unharvestable_ratio\": 0.9647358993559113}, {\"timestamp\": \"2022-02-15T00:00:35\", \"season\": 4621, \"variable\": \"unharvestable_pods\", \"value\": 627212822.332812, \"unharvestable_pods\": 627212822.332812, \"harvested_pods\": 22549317.614652, \"harvestable_pods\": 377263.7500239983, \"unharvestable_ratio\": 0.9647358993559113}, {\"timestamp\": \"2022-02-15T00:00:35\", \"season\": 4621, \"variable\": \"harvested_pods\", \"value\": 22549317.614652, \"unharvestable_pods\": 627212822.332812, \"harvested_pods\": 22549317.614652, \"harvestable_pods\": 377263.7500239983, \"unharvestable_ratio\": 0.9647358993559113}, {\"timestamp\": \"2022-02-15T00:00:35\", \"season\": 4621, \"variable\": \"harvestable_pods\", \"value\": 377263.7500239983, \"unharvestable_pods\": 627212822.332812, \"harvested_pods\": 22549317.614652, \"harvestable_pods\": 377263.7500239983, \"unharvestable_ratio\": 0.9647358993559113}, {\"timestamp\": \"2022-02-16T00:00:34\", \"season\": 4645, \"variable\": \"harvested_pods\", \"value\": 22549317.614652, \"unharvestable_pods\": 630106084.790657, \"harvested_pods\": 22549317.614652, \"harvestable_pods\": 420234.33016800135, \"unharvestable_ratio\": 0.9648286497722718}, {\"timestamp\": \"2022-02-16T00:00:34\", \"season\": 4645, \"variable\": \"harvestable_pods\", \"value\": 420234.33016800135, \"unharvestable_pods\": 630106084.790657, \"harvested_pods\": 22549317.614652, \"harvestable_pods\": 420234.33016800135, \"unharvestable_ratio\": 0.9648286497722718}, {\"timestamp\": \"2022-02-16T00:00:34\", \"season\": 4645, \"variable\": \"unharvestable_pods\", \"value\": 630106084.790657, \"unharvestable_pods\": 630106084.790657, \"harvested_pods\": 22549317.614652, \"harvestable_pods\": 420234.33016800135, \"unharvestable_ratio\": 0.9648286497722718}, {\"timestamp\": \"2022-02-16T00:00:34\", \"season\": 4645, \"variable\": \"unharvestable_ratio\", \"value\": 0.9648286497722718, \"unharvestable_pods\": 630106084.790657, \"harvested_pods\": 22549317.614652, \"harvestable_pods\": 420234.33016800135, \"unharvestable_ratio\": 0.9648286497722718}, {\"timestamp\": \"2022-02-17T00:00:02\", \"season\": 4669, \"variable\": \"unharvestable_ratio\", \"value\": 0.9650313578150361, \"unharvestable_pods\": 633891867.589983, \"harvested_pods\": 22833995.70609, \"harvestable_pods\": 135556.2387300022, \"unharvestable_ratio\": 0.9650313578150361}, {\"timestamp\": \"2022-02-17T00:00:02\", \"season\": 4669, \"variable\": \"harvestable_pods\", \"value\": 135556.2387300022, \"unharvestable_pods\": 633891867.589983, \"harvested_pods\": 22833995.70609, \"harvestable_pods\": 135556.2387300022, \"unharvestable_ratio\": 0.9650313578150361}, {\"timestamp\": \"2022-02-17T00:00:02\", \"season\": 4669, \"variable\": \"unharvestable_pods\", \"value\": 633891867.589983, \"unharvestable_pods\": 633891867.589983, \"harvested_pods\": 22833995.70609, \"harvestable_pods\": 135556.2387300022, \"unharvestable_ratio\": 0.9650313578150361}, {\"timestamp\": \"2022-02-17T00:00:02\", \"season\": 4669, \"variable\": \"harvested_pods\", \"value\": 22833995.70609, \"unharvestable_pods\": 633891867.589983, \"harvested_pods\": 22833995.70609, \"harvestable_pods\": 135556.2387300022, \"unharvestable_ratio\": 0.9650313578150361}, {\"timestamp\": \"2022-02-18T00:00:14\", \"season\": 4693, \"variable\": \"unharvestable_pods\", \"value\": 637262725.866888, \"unharvestable_pods\": 637262725.866888, \"harvested_pods\": 22834519.350377, \"harvestable_pods\": 142535.8137759976, \"unharvestable_ratio\": 0.9651989234452495}, {\"timestamp\": \"2022-02-18T00:00:14\", \"season\": 4693, \"variable\": \"harvested_pods\", \"value\": 22834519.350377, \"unharvestable_pods\": 637262725.866888, \"harvested_pods\": 22834519.350377, \"harvestable_pods\": 142535.8137759976, \"unharvestable_ratio\": 0.9651989234452495}, {\"timestamp\": \"2022-02-18T00:00:14\", \"season\": 4693, \"variable\": \"harvestable_pods\", \"value\": 142535.8137759976, \"unharvestable_pods\": 637262725.866888, \"harvested_pods\": 22834519.350377, \"harvestable_pods\": 142535.8137759976, \"unharvestable_ratio\": 0.9651989234452495}, {\"timestamp\": \"2022-02-18T00:00:14\", \"season\": 4693, \"variable\": \"unharvestable_ratio\", \"value\": 0.9651989234452495, \"unharvestable_pods\": 637262725.866888, \"harvested_pods\": 22834519.350377, \"harvestable_pods\": 142535.8137759976, \"unharvestable_ratio\": 0.9651989234452495}, {\"timestamp\": \"2022-02-19T00:00:02\", \"season\": 4717, \"variable\": \"unharvestable_pods\", \"value\": 637332813.592584, \"unharvestable_pods\": 637332813.592584, \"harvested_pods\": 22834519.350377, \"harvestable_pods\": 147862.7830730006, \"unharvestable_ratio\": 0.9651948307683875}, {\"timestamp\": \"2022-02-19T00:00:02\", \"season\": 4717, \"variable\": \"harvested_pods\", \"value\": 22834519.350377, \"unharvestable_pods\": 637332813.592584, \"harvested_pods\": 22834519.350377, \"harvestable_pods\": 147862.7830730006, \"unharvestable_ratio\": 0.9651948307683875}, {\"timestamp\": \"2022-02-19T00:00:02\", \"season\": 4717, \"variable\": \"harvestable_pods\", \"value\": 147862.7830730006, \"unharvestable_pods\": 637332813.592584, \"harvested_pods\": 22834519.350377, \"harvestable_pods\": 147862.7830730006, \"unharvestable_ratio\": 0.9651948307683875}, {\"timestamp\": \"2022-02-19T00:00:02\", \"season\": 4717, \"variable\": \"unharvestable_ratio\", \"value\": 0.9651948307683875, \"unharvestable_pods\": 637332813.592584, \"harvested_pods\": 22834519.350377, \"harvestable_pods\": 147862.7830730006, \"unharvestable_ratio\": 0.9651948307683875}, {\"timestamp\": \"2022-02-20T00:00:15\", \"season\": 4741, \"variable\": \"harvestable_pods\", \"value\": 150226.3104689978, \"unharvestable_pods\": 638553182.184944, \"harvested_pods\": 22834519.350377, \"harvestable_pods\": 150226.3104689978, \"unharvestable_ratio\": 0.9652555889944319}, {\"timestamp\": \"2022-02-20T00:00:15\", \"season\": 4741, \"variable\": \"unharvestable_ratio\", \"value\": 0.9652555889944319, \"unharvestable_pods\": 638553182.184944, \"harvested_pods\": 22834519.350377, \"harvestable_pods\": 150226.3104689978, \"unharvestable_ratio\": 0.9652555889944319}, {\"timestamp\": \"2022-02-20T00:00:15\", \"season\": 4741, \"variable\": \"unharvestable_pods\", \"value\": 638553182.184944, \"unharvestable_pods\": 638553182.184944, \"harvested_pods\": 22834519.350377, \"harvestable_pods\": 150226.3104689978, \"unharvestable_ratio\": 0.9652555889944319}, {\"timestamp\": \"2022-02-20T00:00:15\", \"season\": 4741, \"variable\": \"harvested_pods\", \"value\": 22834519.350377, \"unharvestable_pods\": 638553182.184944, \"harvested_pods\": 22834519.350377, \"harvestable_pods\": 150226.3104689978, \"unharvestable_ratio\": 0.9652555889944319}, {\"timestamp\": \"2022-02-21T00:00:06\", \"season\": 4765, \"variable\": \"unharvestable_pods\", \"value\": 639054281.131078, \"unharvestable_pods\": 639054281.131078, \"harvested_pods\": 22834519.350377, \"harvestable_pods\": 174232.24984299764, \"unharvestable_ratio\": 0.9652468866819238}, {\"timestamp\": \"2022-02-21T00:00:06\", \"season\": 4765, \"variable\": \"harvested_pods\", \"value\": 22834519.350377, \"unharvestable_pods\": 639054281.131078, \"harvested_pods\": 22834519.350377, \"harvestable_pods\": 174232.24984299764, \"unharvestable_ratio\": 0.9652468866819238}, {\"timestamp\": \"2022-02-21T00:00:06\", \"season\": 4765, \"variable\": \"harvestable_pods\", \"value\": 174232.24984299764, \"unharvestable_pods\": 639054281.131078, \"harvested_pods\": 22834519.350377, \"harvestable_pods\": 174232.24984299764, \"unharvestable_ratio\": 0.9652468866819238}, {\"timestamp\": \"2022-02-21T00:00:06\", \"season\": 4765, \"variable\": \"unharvestable_ratio\", \"value\": 0.9652468866819238, \"unharvestable_pods\": 639054281.131078, \"harvested_pods\": 22834519.350377, \"harvestable_pods\": 174232.24984299764, \"unharvestable_ratio\": 0.9652468866819238}, {\"timestamp\": \"2022-02-22T00:00:01\", \"season\": 4789, \"variable\": \"unharvestable_ratio\", \"value\": 0.9652778247312699, \"unharvestable_pods\": 639659899.97634, \"harvested_pods\": 22834519.350377, \"harvestable_pods\": 174797.33576999977, \"unharvestable_ratio\": 0.9652778247312699}, {\"timestamp\": \"2022-02-22T00:00:01\", \"season\": 4789, \"variable\": \"harvestable_pods\", \"value\": 174797.33576999977, \"unharvestable_pods\": 639659899.97634, \"harvested_pods\": 22834519.350377, \"harvestable_pods\": 174797.33576999977, \"unharvestable_ratio\": 0.9652778247312699}, {\"timestamp\": \"2022-02-22T00:00:01\", \"season\": 4789, \"variable\": \"harvested_pods\", \"value\": 22834519.350377, \"unharvestable_pods\": 639659899.97634, \"harvested_pods\": 22834519.350377, \"harvestable_pods\": 174797.33576999977, \"unharvestable_ratio\": 0.9652778247312699}, {\"timestamp\": \"2022-02-22T00:00:01\", \"season\": 4789, \"variable\": \"unharvestable_pods\", \"value\": 639659899.97634, \"unharvestable_pods\": 639659899.97634, \"harvested_pods\": 22834519.350377, \"harvestable_pods\": 174797.33576999977, \"unharvestable_ratio\": 0.9652778247312699}, {\"timestamp\": \"2022-02-23T00:00:27\", \"season\": 4813, \"variable\": \"unharvestable_ratio\", \"value\": 0.9652711476801921, \"unharvestable_pods\": 639830582.6961, \"harvested_pods\": 22834519.350377, \"harvestable_pods\": 185522.08518400043, \"unharvestable_ratio\": 0.9652711476801921}, {\"timestamp\": \"2022-02-23T00:00:27\", \"season\": 4813, \"variable\": \"harvestable_pods\", \"value\": 185522.08518400043, \"unharvestable_pods\": 639830582.6961, \"harvested_pods\": 22834519.350377, \"harvestable_pods\": 185522.08518400043, \"unharvestable_ratio\": 0.9652711476801921}, {\"timestamp\": \"2022-02-23T00:00:27\", \"season\": 4813, \"variable\": \"unharvestable_pods\", \"value\": 639830582.6961, \"unharvestable_pods\": 639830582.6961, \"harvested_pods\": 22834519.350377, \"harvestable_pods\": 185522.08518400043, \"unharvestable_ratio\": 0.9652711476801921}, {\"timestamp\": \"2022-02-23T00:00:27\", \"season\": 4813, \"variable\": \"harvested_pods\", \"value\": 22834519.350377, \"unharvestable_pods\": 639830582.6961, \"harvested_pods\": 22834519.350377, \"harvestable_pods\": 185522.08518400043, \"unharvestable_ratio\": 0.9652711476801921}, {\"timestamp\": \"2022-02-24T00:00:01\", \"season\": 4837, \"variable\": \"unharvestable_pods\", \"value\": 640013512.147462, \"unharvestable_pods\": 640013512.147462, \"harvested_pods\": 22834519.350377, \"harvestable_pods\": 185522.08518400043, \"unharvestable_ratio\": 0.9652807292916611}, {\"timestamp\": \"2022-02-24T00:00:01\", \"season\": 4837, \"variable\": \"harvested_pods\", \"value\": 22834519.350377, \"unharvestable_pods\": 640013512.147462, \"harvested_pods\": 22834519.350377, \"harvestable_pods\": 185522.08518400043, \"unharvestable_ratio\": 0.9652807292916611}, {\"timestamp\": \"2022-02-24T00:00:01\", \"season\": 4837, \"variable\": \"harvestable_pods\", \"value\": 185522.08518400043, \"unharvestable_pods\": 640013512.147462, \"harvested_pods\": 22834519.350377, \"harvestable_pods\": 185522.08518400043, \"unharvestable_ratio\": 0.9652807292916611}, {\"timestamp\": \"2022-02-24T00:00:01\", \"season\": 4837, \"variable\": \"unharvestable_ratio\", \"value\": 0.9652807292916611, \"unharvestable_pods\": 640013512.147462, \"harvested_pods\": 22834519.350377, \"harvestable_pods\": 185522.08518400043, \"unharvestable_ratio\": 0.9652807292916611}, {\"timestamp\": \"2022-02-25T00:00:06\", \"season\": 4861, \"variable\": \"unharvestable_pods\", \"value\": 640072770.353447, \"unharvestable_pods\": 640072770.353447, \"harvested_pods\": 22834519.350377, \"harvestable_pods\": 191976.40773800015, \"unharvestable_ratio\": 0.9652744363703746}, {\"timestamp\": \"2022-02-25T00:00:06\", \"season\": 4861, \"variable\": \"harvested_pods\", \"value\": 22834519.350377, \"unharvestable_pods\": 640072770.353447, \"harvested_pods\": 22834519.350377, \"harvestable_pods\": 191976.40773800015, \"unharvestable_ratio\": 0.9652744363703746}, {\"timestamp\": \"2022-02-25T00:00:06\", \"season\": 4861, \"variable\": \"harvestable_pods\", \"value\": 191976.40773800015, \"unharvestable_pods\": 640072770.353447, \"harvested_pods\": 22834519.350377, \"harvestable_pods\": 191976.40773800015, \"unharvestable_ratio\": 0.9652744363703746}, {\"timestamp\": \"2022-02-25T00:00:06\", \"season\": 4861, \"variable\": \"unharvestable_ratio\", \"value\": 0.9652744363703746, \"unharvestable_pods\": 640072770.353447, \"harvested_pods\": 22834519.350377, \"harvestable_pods\": 191976.40773800015, \"unharvestable_ratio\": 0.9652744363703746}, {\"timestamp\": \"2022-02-26T00:00:28\", \"season\": 4885, \"variable\": \"unharvestable_ratio\", \"value\": 0.9652606886716484, \"unharvestable_pods\": 640239076.254496, \"harvested_pods\": 22834519.350377, \"harvestable_pods\": 207405.85760900006, \"unharvestable_ratio\": 0.9652606886716484}, {\"timestamp\": \"2022-02-26T00:00:28\", \"season\": 4885, \"variable\": \"unharvestable_pods\", \"value\": 640239076.254496, \"unharvestable_pods\": 640239076.254496, \"harvested_pods\": 22834519.350377, \"harvestable_pods\": 207405.85760900006, \"unharvestable_ratio\": 0.9652606886716484}, {\"timestamp\": \"2022-02-26T00:00:28\", \"season\": 4885, \"variable\": \"harvested_pods\", \"value\": 22834519.350377, \"unharvestable_pods\": 640239076.254496, \"harvested_pods\": 22834519.350377, \"harvestable_pods\": 207405.85760900006, \"unharvestable_ratio\": 0.9652606886716484}, {\"timestamp\": \"2022-02-26T00:00:28\", \"season\": 4885, \"variable\": \"harvestable_pods\", \"value\": 207405.85760900006, \"unharvestable_pods\": 640239076.254496, \"harvested_pods\": 22834519.350377, \"harvestable_pods\": 207405.85760900006, \"unharvestable_ratio\": 0.9652606886716484}, {\"timestamp\": \"2022-02-27T00:00:02\", \"season\": 4909, \"variable\": \"harvestable_pods\", \"value\": 219010.46420300007, \"unharvestable_pods\": 640227471.647902, \"harvested_pods\": 22834519.350377, \"harvestable_pods\": 219010.46420300007, \"unharvestable_ratio\": 0.9652431929095681}, {\"timestamp\": \"2022-02-27T00:00:02\", \"season\": 4909, \"variable\": \"unharvestable_ratio\", \"value\": 0.9652431929095681, \"unharvestable_pods\": 640227471.647902, \"harvested_pods\": 22834519.350377, \"harvestable_pods\": 219010.46420300007, \"unharvestable_ratio\": 0.9652431929095681}, {\"timestamp\": \"2022-02-27T00:00:02\", \"season\": 4909, \"variable\": \"unharvestable_pods\", \"value\": 640227471.647902, \"unharvestable_pods\": 640227471.647902, \"harvested_pods\": 22834519.350377, \"harvestable_pods\": 219010.46420300007, \"unharvestable_ratio\": 0.9652431929095681}, {\"timestamp\": \"2022-02-27T00:00:02\", \"season\": 4909, \"variable\": \"harvested_pods\", \"value\": 22834519.350377, \"unharvestable_pods\": 640227471.647902, \"harvested_pods\": 22834519.350377, \"harvestable_pods\": 219010.46420300007, \"unharvestable_ratio\": 0.9652431929095681}, {\"timestamp\": \"2022-02-28T00:00:02\", \"season\": 4933, \"variable\": \"unharvestable_ratio\", \"value\": 0.9652577229399506, \"unharvestable_pods\": 640818105.108616, \"harvested_pods\": 22834519.350377, \"harvestable_pods\": 230284.61199899763, \"unharvestable_ratio\": 0.9652577229399506}, {\"timestamp\": \"2022-02-28T00:00:02\", \"season\": 4933, \"variable\": \"harvestable_pods\", \"value\": 230284.61199899763, \"unharvestable_pods\": 640818105.108616, \"harvested_pods\": 22834519.350377, \"harvestable_pods\": 230284.61199899763, \"unharvestable_ratio\": 0.9652577229399506}, {\"timestamp\": \"2022-02-28T00:00:02\", \"season\": 4933, \"variable\": \"unharvestable_pods\", \"value\": 640818105.108616, \"unharvestable_pods\": 640818105.108616, \"harvested_pods\": 22834519.350377, \"harvestable_pods\": 230284.61199899763, \"unharvestable_ratio\": 0.9652577229399506}, {\"timestamp\": \"2022-02-28T00:00:02\", \"season\": 4933, \"variable\": \"harvested_pods\", \"value\": 22834519.350377, \"unharvestable_pods\": 640818105.108616, \"harvested_pods\": 22834519.350377, \"harvestable_pods\": 230284.61199899763, \"unharvestable_ratio\": 0.9652577229399506}, {\"timestamp\": \"2022-03-01T00:00:18\", \"season\": 4957, \"variable\": \"unharvestable_pods\", \"value\": 644308707.836926, \"unharvestable_pods\": 644308707.836926, \"harvested_pods\": 22834519.350377, \"harvestable_pods\": 244872.09226999804, \"unharvestable_ratio\": 0.9654183353470633}, {\"timestamp\": \"2022-03-01T00:00:18\", \"season\": 4957, \"variable\": \"harvested_pods\", \"value\": 22834519.350377, \"unharvestable_pods\": 644308707.836926, \"harvested_pods\": 22834519.350377, \"harvestable_pods\": 244872.09226999804, \"unharvestable_ratio\": 0.9654183353470633}, {\"timestamp\": \"2022-03-01T00:00:18\", \"season\": 4957, \"variable\": \"harvestable_pods\", \"value\": 244872.09226999804, \"unharvestable_pods\": 644308707.836926, \"harvested_pods\": 22834519.350377, \"harvestable_pods\": 244872.09226999804, \"unharvestable_ratio\": 0.9654183353470633}, {\"timestamp\": \"2022-03-01T00:00:18\", \"season\": 4957, \"variable\": \"unharvestable_ratio\", \"value\": 0.9654183353470633, \"unharvestable_pods\": 644308707.836926, \"harvested_pods\": 22834519.350377, \"harvestable_pods\": 244872.09226999804, \"unharvestable_ratio\": 0.9654183353470633}, {\"timestamp\": \"2022-03-02T00:00:00\", \"season\": 4981, \"variable\": \"unharvestable_pods\", \"value\": 645677351.955919, \"unharvestable_pods\": 645677351.955919, \"harvested_pods\": 22834519.350377, \"harvestable_pods\": 280106.8222949989, \"unharvestable_ratio\": 0.9654382424900623}, {\"timestamp\": \"2022-03-02T00:00:00\", \"season\": 4981, \"variable\": \"harvested_pods\", \"value\": 22834519.350377, \"unharvestable_pods\": 645677351.955919, \"harvested_pods\": 22834519.350377, \"harvestable_pods\": 280106.8222949989, \"unharvestable_ratio\": 0.9654382424900623}, {\"timestamp\": \"2022-03-02T00:00:00\", \"season\": 4981, \"variable\": \"harvestable_pods\", \"value\": 280106.8222949989, \"unharvestable_pods\": 645677351.955919, \"harvested_pods\": 22834519.350377, \"harvestable_pods\": 280106.8222949989, \"unharvestable_ratio\": 0.9654382424900623}, {\"timestamp\": \"2022-03-02T00:00:00\", \"season\": 4981, \"variable\": \"unharvestable_ratio\", \"value\": 0.9654382424900623, \"unharvestable_pods\": 645677351.955919, \"harvested_pods\": 22834519.350377, \"harvestable_pods\": 280106.8222949989, \"unharvestable_ratio\": 0.9654382424900623}, {\"timestamp\": \"2022-03-03T00:00:02\", \"season\": 5005, \"variable\": \"unharvestable_ratio\", \"value\": 0.9656137374073805, \"unharvestable_pods\": 649466178.186655, \"harvested_pods\": 22839583.026931, \"harvestable_pods\": 288417.00350899994, \"unharvestable_ratio\": 0.9656137374073805}, {\"timestamp\": \"2022-03-03T00:00:02\", \"season\": 5005, \"variable\": \"harvestable_pods\", \"value\": 288417.00350899994, \"unharvestable_pods\": 649466178.186655, \"harvested_pods\": 22839583.026931, \"harvestable_pods\": 288417.00350899994, \"unharvestable_ratio\": 0.9656137374073805}, {\"timestamp\": \"2022-03-03T00:00:02\", \"season\": 5005, \"variable\": \"unharvestable_pods\", \"value\": 649466178.186655, \"unharvestable_pods\": 649466178.186655, \"harvested_pods\": 22839583.026931, \"harvestable_pods\": 288417.00350899994, \"unharvestable_ratio\": 0.9656137374073805}, {\"timestamp\": \"2022-03-03T00:00:02\", \"season\": 5005, \"variable\": \"harvested_pods\", \"value\": 22839583.026931, \"unharvestable_pods\": 649466178.186655, \"harvested_pods\": 22839583.026931, \"harvestable_pods\": 288417.00350899994, \"unharvestable_ratio\": 0.9656137374073805}, {\"timestamp\": \"2022-03-04T00:00:35\", \"season\": 5029, \"variable\": \"unharvestable_pods\", \"value\": 662601633.879217, \"unharvestable_pods\": 662601633.879217, \"harvested_pods\": 22990480.974133, \"harvestable_pods\": 141353.65560400113, \"unharvestable_ratio\": 0.9662670181753934}, {\"timestamp\": \"2022-03-04T00:00:35\", \"season\": 5029, \"variable\": \"harvested_pods\", \"value\": 22990480.974133, \"unharvestable_pods\": 662601633.879217, \"harvested_pods\": 22990480.974133, \"harvestable_pods\": 141353.65560400113, \"unharvestable_ratio\": 0.9662670181753934}, {\"timestamp\": \"2022-03-04T00:00:35\", \"season\": 5029, \"variable\": \"harvestable_pods\", \"value\": 141353.65560400113, \"unharvestable_pods\": 662601633.879217, \"harvested_pods\": 22990480.974133, \"harvestable_pods\": 141353.65560400113, \"unharvestable_ratio\": 0.9662670181753934}, {\"timestamp\": \"2022-03-04T00:00:35\", \"season\": 5029, \"variable\": \"unharvestable_ratio\", \"value\": 0.9662670181753934, \"unharvestable_pods\": 662601633.879217, \"harvested_pods\": 22990480.974133, \"harvestable_pods\": 141353.65560400113, \"unharvestable_ratio\": 0.9662670181753934}, {\"timestamp\": \"2022-03-05T00:00:30\", \"season\": 5053, \"variable\": \"harvestable_pods\", \"value\": 141353.65560400113, \"unharvestable_pods\": 662662384.579526, \"harvested_pods\": 22990480.974133, \"harvestable_pods\": 141353.65560400113, \"unharvestable_ratio\": 0.9662700063928673}, {\"timestamp\": \"2022-03-05T00:00:30\", \"season\": 5053, \"variable\": \"unharvestable_ratio\", \"value\": 0.9662700063928673, \"unharvestable_pods\": 662662384.579526, \"harvested_pods\": 22990480.974133, \"harvestable_pods\": 141353.65560400113, \"unharvestable_ratio\": 0.9662700063928673}, {\"timestamp\": \"2022-03-05T00:00:30\", \"season\": 5053, \"variable\": \"harvested_pods\", \"value\": 22990480.974133, \"unharvestable_pods\": 662662384.579526, \"harvested_pods\": 22990480.974133, \"harvestable_pods\": 141353.65560400113, \"unharvestable_ratio\": 0.9662700063928673}, {\"timestamp\": \"2022-03-05T00:00:30\", \"season\": 5053, \"variable\": \"unharvestable_pods\", \"value\": 662662384.579526, \"unharvestable_pods\": 662662384.579526, \"harvested_pods\": 22990480.974133, \"harvestable_pods\": 141353.65560400113, \"unharvestable_ratio\": 0.9662700063928673}, {\"timestamp\": \"2022-03-06T00:00:17\", \"season\": 5077, \"variable\": \"unharvestable_pods\", \"value\": 662851496.81837, \"unharvestable_pods\": 662851496.81837, \"harvested_pods\": 22990480.974133, \"harvestable_pods\": 141353.65560400113, \"unharvestable_ratio\": 0.9662793050949127}, {\"timestamp\": \"2022-03-06T00:00:17\", \"season\": 5077, \"variable\": \"harvested_pods\", \"value\": 22990480.974133, \"unharvestable_pods\": 662851496.81837, \"harvested_pods\": 22990480.974133, \"harvestable_pods\": 141353.65560400113, \"unharvestable_ratio\": 0.9662793050949127}, {\"timestamp\": \"2022-03-06T00:00:17\", \"season\": 5077, \"variable\": \"harvestable_pods\", \"value\": 141353.65560400113, \"unharvestable_pods\": 662851496.81837, \"harvested_pods\": 22990480.974133, \"harvestable_pods\": 141353.65560400113, \"unharvestable_ratio\": 0.9662793050949127}, {\"timestamp\": \"2022-03-06T00:00:17\", \"season\": 5077, \"variable\": \"unharvestable_ratio\", \"value\": 0.9662793050949127, \"unharvestable_pods\": 662851496.81837, \"harvested_pods\": 22990480.974133, \"harvestable_pods\": 141353.65560400113, \"unharvestable_ratio\": 0.9662793050949127}, {\"timestamp\": \"2022-03-07T00:00:15\", \"season\": 5101, \"variable\": \"unharvestable_pods\", \"value\": 664272324.191701, \"unharvestable_pods\": 664272324.191701, \"harvested_pods\": 22990480.974133, \"harvestable_pods\": 141353.65560400113, \"unharvestable_ratio\": 0.966349003955116}, {\"timestamp\": \"2022-03-07T00:00:15\", \"season\": 5101, \"variable\": \"harvested_pods\", \"value\": 22990480.974133, \"unharvestable_pods\": 664272324.191701, \"harvested_pods\": 22990480.974133, \"harvestable_pods\": 141353.65560400113, \"unharvestable_ratio\": 0.966349003955116}, {\"timestamp\": \"2022-03-07T00:00:15\", \"season\": 5101, \"variable\": \"harvestable_pods\", \"value\": 141353.65560400113, \"unharvestable_pods\": 664272324.191701, \"harvested_pods\": 22990480.974133, \"harvestable_pods\": 141353.65560400113, \"unharvestable_ratio\": 0.966349003955116}, {\"timestamp\": \"2022-03-07T00:00:15\", \"season\": 5101, \"variable\": \"unharvestable_ratio\", \"value\": 0.966349003955116, \"unharvestable_pods\": 664272324.191701, \"harvested_pods\": 22990480.974133, \"harvestable_pods\": 141353.65560400113, \"unharvestable_ratio\": 0.966349003955116}, {\"timestamp\": \"2022-03-08T00:00:01\", \"season\": 5125, \"variable\": \"unharvestable_ratio\", \"value\": 0.9665348481810458, \"unharvestable_pods\": 668322466.595849, \"harvested_pods\": 22993263.391564, \"harvestable_pods\": 146629.44389700145, \"unharvestable_ratio\": 0.9665348481810458}, {\"timestamp\": \"2022-03-08T00:00:01\", \"season\": 5125, \"variable\": \"unharvestable_pods\", \"value\": 668322466.595849, \"unharvestable_pods\": 668322466.595849, \"harvested_pods\": 22993263.391564, \"harvestable_pods\": 146629.44389700145, \"unharvestable_ratio\": 0.9665348481810458}, {\"timestamp\": \"2022-03-08T00:00:01\", \"season\": 5125, \"variable\": \"harvested_pods\", \"value\": 22993263.391564, \"unharvestable_pods\": 668322466.595849, \"harvested_pods\": 22993263.391564, \"harvestable_pods\": 146629.44389700145, \"unharvestable_ratio\": 0.9665348481810458}, {\"timestamp\": \"2022-03-08T00:00:01\", \"season\": 5125, \"variable\": \"harvestable_pods\", \"value\": 146629.44389700145, \"unharvestable_pods\": 668322466.595849, \"harvested_pods\": 22993263.391564, \"harvestable_pods\": 146629.44389700145, \"unharvestable_ratio\": 0.9665348481810458}, {\"timestamp\": \"2022-03-09T00:00:04\", \"season\": 5149, \"variable\": \"harvested_pods\", \"value\": 22993263.391564, \"unharvestable_pods\": 668987187.719115, \"harvested_pods\": 22993263.391564, \"harvestable_pods\": 203376.44428499788, \"unharvestable_ratio\": 0.966487746589244}, {\"timestamp\": \"2022-03-09T00:00:04\", \"season\": 5149, \"variable\": \"harvestable_pods\", \"value\": 203376.44428499788, \"unharvestable_pods\": 668987187.719115, \"harvested_pods\": 22993263.391564, \"harvestable_pods\": 203376.44428499788, \"unharvestable_ratio\": 0.966487746589244}, {\"timestamp\": \"2022-03-09T00:00:04\", \"season\": 5149, \"variable\": \"unharvestable_pods\", \"value\": 668987187.719115, \"unharvestable_pods\": 668987187.719115, \"harvested_pods\": 22993263.391564, \"harvestable_pods\": 203376.44428499788, \"unharvestable_ratio\": 0.966487746589244}, {\"timestamp\": \"2022-03-09T00:00:04\", \"season\": 5149, \"variable\": \"unharvestable_ratio\", \"value\": 0.966487746589244, \"unharvestable_pods\": 668987187.719115, \"harvested_pods\": 22993263.391564, \"harvestable_pods\": 203376.44428499788, \"unharvestable_ratio\": 0.966487746589244}, {\"timestamp\": \"2022-03-10T00:00:17\", \"season\": 5173, \"variable\": \"unharvestable_ratio\", \"value\": 0.9665156641336112, \"unharvestable_pods\": 670313174.256689, \"harvested_pods\": 22993263.391564, \"harvestable_pods\": 229320.8824279979, \"unharvestable_ratio\": 0.9665156641336112}, {\"timestamp\": \"2022-03-10T00:00:17\", \"season\": 5173, \"variable\": \"harvestable_pods\", \"value\": 229320.8824279979, \"unharvestable_pods\": 670313174.256689, \"harvested_pods\": 22993263.391564, \"harvestable_pods\": 229320.8824279979, \"unharvestable_ratio\": 0.9665156641336112}, {\"timestamp\": \"2022-03-10T00:00:17\", \"season\": 5173, \"variable\": \"harvested_pods\", \"value\": 22993263.391564, \"unharvestable_pods\": 670313174.256689, \"harvested_pods\": 22993263.391564, \"harvestable_pods\": 229320.8824279979, \"unharvestable_ratio\": 0.9665156641336112}, {\"timestamp\": \"2022-03-10T00:00:17\", \"season\": 5173, \"variable\": \"unharvestable_pods\", \"value\": 670313174.256689, \"unharvestable_pods\": 670313174.256689, \"harvested_pods\": 22993263.391564, \"harvestable_pods\": 229320.8824279979, \"unharvestable_ratio\": 0.9665156641336112}, {\"timestamp\": \"2022-03-11T00:00:09\", \"season\": 5197, \"variable\": \"unharvestable_pods\", \"value\": 671308798.577816, \"unharvestable_pods\": 671308798.577816, \"harvested_pods\": 22993263.391564, \"harvestable_pods\": 272723.10846599936, \"unharvestable_ratio\": 0.9665032664590286}, {\"timestamp\": \"2022-03-11T00:00:09\", \"season\": 5197, \"variable\": \"harvested_pods\", \"value\": 22993263.391564, \"unharvestable_pods\": 671308798.577816, \"harvested_pods\": 22993263.391564, \"harvestable_pods\": 272723.10846599936, \"unharvestable_ratio\": 0.9665032664590286}, {\"timestamp\": \"2022-03-11T00:00:09\", \"season\": 5197, \"variable\": \"harvestable_pods\", \"value\": 272723.10846599936, \"unharvestable_pods\": 671308798.577816, \"harvested_pods\": 22993263.391564, \"harvestable_pods\": 272723.10846599936, \"unharvestable_ratio\": 0.9665032664590286}, {\"timestamp\": \"2022-03-11T00:00:09\", \"season\": 5197, \"variable\": \"unharvestable_ratio\", \"value\": 0.9665032664590286, \"unharvestable_pods\": 671308798.577816, \"harvested_pods\": 22993263.391564, \"harvestable_pods\": 272723.10846599936, \"unharvestable_ratio\": 0.9665032664590286}, {\"timestamp\": \"2022-03-12T00:00:05\", \"season\": 5221, \"variable\": \"unharvestable_pods\", \"value\": 671934828.887095, \"unharvestable_pods\": 671934828.887095, \"harvested_pods\": 22993263.391564, \"harvestable_pods\": 340276.99687499925, \"unharvestable_ratio\": 0.9664395197314204}, {\"timestamp\": \"2022-03-12T00:00:05\", \"season\": 5221, \"variable\": \"harvested_pods\", \"value\": 22993263.391564, \"unharvestable_pods\": 671934828.887095, \"harvested_pods\": 22993263.391564, \"harvestable_pods\": 340276.99687499925, \"unharvestable_ratio\": 0.9664395197314204}, {\"timestamp\": \"2022-03-12T00:00:05\", \"season\": 5221, \"variable\": \"harvestable_pods\", \"value\": 340276.99687499925, \"unharvestable_pods\": 671934828.887095, \"harvested_pods\": 22993263.391564, \"harvestable_pods\": 340276.99687499925, \"unharvestable_ratio\": 0.9664395197314204}, {\"timestamp\": \"2022-03-12T00:00:05\", \"season\": 5221, \"variable\": \"unharvestable_ratio\", \"value\": 0.9664395197314204, \"unharvestable_pods\": 671934828.887095, \"harvested_pods\": 22993263.391564, \"harvestable_pods\": 340276.99687499925, \"unharvestable_ratio\": 0.9664395197314204}, {\"timestamp\": \"2022-03-13T00:00:01\", \"season\": 5245, \"variable\": \"unharvestable_ratio\", \"value\": 0.9663234236659104, \"unharvestable_pods\": 672079819.574222, \"harvested_pods\": 22993263.391564, \"harvestable_pods\": 428860.91194200143, \"unharvestable_ratio\": 0.9663234236659104}, {\"timestamp\": \"2022-03-13T00:00:01\", \"season\": 5245, \"variable\": \"harvestable_pods\", \"value\": 428860.91194200143, \"unharvestable_pods\": 672079819.574222, \"harvested_pods\": 22993263.391564, \"harvestable_pods\": 428860.91194200143, \"unharvestable_ratio\": 0.9663234236659104}, {\"timestamp\": \"2022-03-13T00:00:01\", \"season\": 5245, \"variable\": \"unharvestable_pods\", \"value\": 672079819.574222, \"unharvestable_pods\": 672079819.574222, \"harvested_pods\": 22993263.391564, \"harvestable_pods\": 428860.91194200143, \"unharvestable_ratio\": 0.9663234236659104}, {\"timestamp\": \"2022-03-13T00:00:01\", \"season\": 5245, \"variable\": \"harvested_pods\", \"value\": 22993263.391564, \"unharvestable_pods\": 672079819.574222, \"harvested_pods\": 22993263.391564, \"harvestable_pods\": 428860.91194200143, \"unharvestable_ratio\": 0.9663234236659104}, {\"timestamp\": \"2022-03-14T00:00:04\", \"season\": 5269, \"variable\": \"unharvestable_pods\", \"value\": 672079819.573324, \"unharvestable_pods\": 672079819.573324, \"harvested_pods\": 22993263.391564, \"harvestable_pods\": 551036.7292260006, \"unharvestable_ratio\": 0.9661537036249647}, {\"timestamp\": \"2022-03-14T00:00:04\", \"season\": 5269, \"variable\": \"harvested_pods\", \"value\": 22993263.391564, \"unharvestable_pods\": 672079819.573324, \"harvested_pods\": 22993263.391564, \"harvestable_pods\": 551036.7292260006, \"unharvestable_ratio\": 0.9661537036249647}, {\"timestamp\": \"2022-03-14T00:00:04\", \"season\": 5269, \"variable\": \"harvestable_pods\", \"value\": 551036.7292260006, \"unharvestable_pods\": 672079819.573324, \"harvested_pods\": 22993263.391564, \"harvestable_pods\": 551036.7292260006, \"unharvestable_ratio\": 0.9661537036249647}, {\"timestamp\": \"2022-03-14T00:00:04\", \"season\": 5269, \"variable\": \"unharvestable_ratio\", \"value\": 0.9661537036249647, \"unharvestable_pods\": 672079819.573324, \"harvested_pods\": 22993263.391564, \"harvestable_pods\": 551036.7292260006, \"unharvestable_ratio\": 0.9661537036249647}, {\"timestamp\": \"2022-03-15T00:00:14\", \"season\": 5293, \"variable\": \"unharvestable_ratio\", \"value\": 0.9659971483060483, \"unharvestable_pods\": 673267785.350779, \"harvested_pods\": 22993263.391564, \"harvestable_pods\": 705589.8563390002, \"unharvestable_ratio\": 0.9659971483060483}, {\"timestamp\": \"2022-03-15T00:00:14\", \"season\": 5293, \"variable\": \"harvestable_pods\", \"value\": 705589.8563390002, \"unharvestable_pods\": 673267785.350779, \"harvested_pods\": 22993263.391564, \"harvestable_pods\": 705589.8563390002, \"unharvestable_ratio\": 0.9659971483060483}, {\"timestamp\": \"2022-03-15T00:00:14\", \"season\": 5293, \"variable\": \"harvested_pods\", \"value\": 22993263.391564, \"unharvestable_pods\": 673267785.350779, \"harvested_pods\": 22993263.391564, \"harvestable_pods\": 705589.8563390002, \"unharvestable_ratio\": 0.9659971483060483}, {\"timestamp\": \"2022-03-15T00:00:14\", \"season\": 5293, \"variable\": \"unharvestable_pods\", \"value\": 673267785.350779, \"unharvestable_pods\": 673267785.350779, \"harvested_pods\": 22993263.391564, \"harvestable_pods\": 705589.8563390002, \"unharvestable_ratio\": 0.9659971483060483}, {\"timestamp\": \"2022-03-16T00:00:05\", \"season\": 5317, \"variable\": \"unharvestable_pods\", \"value\": 673298011.633005, \"unharvestable_pods\": 673298011.633005, \"harvested_pods\": 22993263.391564, \"harvestable_pods\": 862084.918903999, \"unharvestable_ratio\": 0.9657817781837812}, {\"timestamp\": \"2022-03-16T00:00:05\", \"season\": 5317, \"variable\": \"harvested_pods\", \"value\": 22993263.391564, \"unharvestable_pods\": 673298011.633005, \"harvested_pods\": 22993263.391564, \"harvestable_pods\": 862084.918903999, \"unharvestable_ratio\": 0.9657817781837812}, {\"timestamp\": \"2022-03-16T00:00:05\", \"season\": 5317, \"variable\": \"harvestable_pods\", \"value\": 862084.918903999, \"unharvestable_pods\": 673298011.633005, \"harvested_pods\": 22993263.391564, \"harvestable_pods\": 862084.918903999, \"unharvestable_ratio\": 0.9657817781837812}, {\"timestamp\": \"2022-03-16T00:00:05\", \"season\": 5317, \"variable\": \"unharvestable_ratio\", \"value\": 0.9657817781837812, \"unharvestable_pods\": 673298011.633005, \"harvested_pods\": 22993263.391564, \"harvestable_pods\": 862084.918903999, \"unharvestable_ratio\": 0.9657817781837812}, {\"timestamp\": \"2022-03-17T00:00:07\", \"season\": 5341, \"variable\": \"harvestable_pods\", \"value\": 900770.697900001, \"unharvestable_pods\": 673966313.212264, \"harvested_pods\": 23061551.310913, \"harvestable_pods\": 900770.697900001, \"unharvestable_ratio\": 0.9656665154579556}, {\"timestamp\": \"2022-03-17T00:00:07\", \"season\": 5341, \"variable\": \"unharvestable_ratio\", \"value\": 0.9656665154579556, \"unharvestable_pods\": 673966313.212264, \"harvested_pods\": 23061551.310913, \"harvestable_pods\": 900770.697900001, \"unharvestable_ratio\": 0.9656665154579556}, {\"timestamp\": \"2022-03-17T00:00:07\", \"season\": 5341, \"variable\": \"unharvestable_pods\", \"value\": 673966313.212264, \"unharvestable_pods\": 673966313.212264, \"harvested_pods\": 23061551.310913, \"harvestable_pods\": 900770.697900001, \"unharvestable_ratio\": 0.9656665154579556}, {\"timestamp\": \"2022-03-17T00:00:07\", \"season\": 5341, \"variable\": \"harvested_pods\", \"value\": 23061551.310913, \"unharvestable_pods\": 673966313.212264, \"harvested_pods\": 23061551.310913, \"harvestable_pods\": 900770.697900001, \"unharvestable_ratio\": 0.9656665154579556}, {\"timestamp\": \"2022-03-18T00:00:08\", \"season\": 5365, \"variable\": \"unharvestable_pods\", \"value\": 674221268.603298, \"unharvestable_pods\": 674221268.603298, \"harvested_pods\": 23922199.109166, \"harvestable_pods\": 145718.8239319995, \"unharvestable_ratio\": 0.9655330221387531}, {\"timestamp\": \"2022-03-18T00:00:08\", \"season\": 5365, \"variable\": \"harvested_pods\", \"value\": 23922199.109166, \"unharvestable_pods\": 674221268.603298, \"harvested_pods\": 23922199.109166, \"harvestable_pods\": 145718.8239319995, \"unharvestable_ratio\": 0.9655330221387531}, {\"timestamp\": \"2022-03-18T00:00:08\", \"season\": 5365, \"variable\": \"harvestable_pods\", \"value\": 145718.8239319995, \"unharvestable_pods\": 674221268.603298, \"harvested_pods\": 23922199.109166, \"harvestable_pods\": 145718.8239319995, \"unharvestable_ratio\": 0.9655330221387531}, {\"timestamp\": \"2022-03-18T00:00:08\", \"season\": 5365, \"variable\": \"unharvestable_ratio\", \"value\": 0.9655330221387531, \"unharvestable_pods\": 674221268.603298, \"harvested_pods\": 23922199.109166, \"harvestable_pods\": 145718.8239319995, \"unharvestable_ratio\": 0.9655330221387531}, {\"timestamp\": \"2022-03-19T00:00:09\", \"season\": 5389, \"variable\": \"unharvestable_ratio\", \"value\": 0.9655470636984099, \"unharvestable_pods\": 675958567.334446, \"harvested_pods\": 23999045.529753, \"harvestable_pods\": 120708.27456500009, \"unharvestable_ratio\": 0.9655470636984099}, {\"timestamp\": \"2022-03-19T00:00:09\", \"season\": 5389, \"variable\": \"unharvestable_pods\", \"value\": 675958567.334446, \"unharvestable_pods\": 675958567.334446, \"harvested_pods\": 23999045.529753, \"harvestable_pods\": 120708.27456500009, \"unharvestable_ratio\": 0.9655470636984099}, {\"timestamp\": \"2022-03-19T00:00:09\", \"season\": 5389, \"variable\": \"harvested_pods\", \"value\": 23999045.529753, \"unharvestable_pods\": 675958567.334446, \"harvested_pods\": 23999045.529753, \"harvestable_pods\": 120708.27456500009, \"unharvestable_ratio\": 0.9655470636984099}, {\"timestamp\": \"2022-03-19T00:00:09\", \"season\": 5389, \"variable\": \"harvestable_pods\", \"value\": 120708.27456500009, \"unharvestable_pods\": 675958567.334446, \"harvested_pods\": 23999045.529753, \"harvestable_pods\": 120708.27456500009, \"unharvestable_ratio\": 0.9655470636984099}, {\"timestamp\": \"2022-03-20T00:00:11\", \"season\": 5413, \"variable\": \"harvestable_pods\", \"value\": 117900.37945700064, \"unharvestable_pods\": 677477933.252255, \"harvested_pods\": 24022373.793534, \"harvestable_pods\": 117900.37945700064, \"unharvestable_ratio\": 0.965593432557032}, {\"timestamp\": \"2022-03-20T00:00:11\", \"season\": 5413, \"variable\": \"unharvestable_ratio\", \"value\": 0.965593432557032, \"unharvestable_pods\": 677477933.252255, \"harvested_pods\": 24022373.793534, \"harvestable_pods\": 117900.37945700064, \"unharvestable_ratio\": 0.965593432557032}, {\"timestamp\": \"2022-03-20T00:00:11\", \"season\": 5413, \"variable\": \"unharvestable_pods\", \"value\": 677477933.252255, \"unharvestable_pods\": 677477933.252255, \"harvested_pods\": 24022373.793534, \"harvestable_pods\": 117900.37945700064, \"unharvestable_ratio\": 0.965593432557032}, {\"timestamp\": \"2022-03-20T00:00:11\", \"season\": 5413, \"variable\": \"harvested_pods\", \"value\": 24022373.793534, \"unharvestable_pods\": 677477933.252255, \"harvested_pods\": 24022373.793534, \"harvestable_pods\": 117900.37945700064, \"unharvestable_ratio\": 0.965593432557032}, {\"timestamp\": \"2022-03-21T00:00:14\", \"season\": 5437, \"variable\": \"unharvestable_pods\", \"value\": 679972695.748754, \"unharvestable_pods\": 679972695.748754, \"harvested_pods\": 24085507.743794, \"harvestable_pods\": 120307.10878999904, \"unharvestable_ratio\": 0.9656254564884218}, {\"timestamp\": \"2022-03-21T00:00:14\", \"season\": 5437, \"variable\": \"harvested_pods\", \"value\": 24085507.743794, \"unharvestable_pods\": 679972695.748754, \"harvested_pods\": 24085507.743794, \"harvestable_pods\": 120307.10878999904, \"unharvestable_ratio\": 0.9656254564884218}, {\"timestamp\": \"2022-03-21T00:00:14\", \"season\": 5437, \"variable\": \"harvestable_pods\", \"value\": 120307.10878999904, \"unharvestable_pods\": 679972695.748754, \"harvested_pods\": 24085507.743794, \"harvestable_pods\": 120307.10878999904, \"unharvestable_ratio\": 0.9656254564884218}, {\"timestamp\": \"2022-03-21T00:00:14\", \"season\": 5437, \"variable\": \"unharvestable_ratio\", \"value\": 0.9656254564884218, \"unharvestable_pods\": 679972695.748754, \"harvested_pods\": 24085507.743794, \"harvestable_pods\": 120307.10878999904, \"unharvestable_ratio\": 0.9656254564884218}, {\"timestamp\": \"2022-03-22T00:00:02\", \"season\": 5461, \"variable\": \"harvestable_pods\", \"value\": 171068.75337700173, \"unharvestable_pods\": 680458494.709299, \"harvested_pods\": 24128567.883227, \"harvestable_pods\": 171068.75337700173, \"unharvestable_ratio\": 0.9655206012448583}, {\"timestamp\": \"2022-03-22T00:00:02\", \"season\": 5461, \"variable\": \"unharvestable_ratio\", \"value\": 0.9655206012448583, \"unharvestable_pods\": 680458494.709299, \"harvested_pods\": 24128567.883227, \"harvestable_pods\": 171068.75337700173, \"unharvestable_ratio\": 0.9655206012448583}, {\"timestamp\": \"2022-03-22T00:00:02\", \"season\": 5461, \"variable\": \"unharvestable_pods\", \"value\": 680458494.709299, \"unharvestable_pods\": 680458494.709299, \"harvested_pods\": 24128567.883227, \"harvestable_pods\": 171068.75337700173, \"unharvestable_ratio\": 0.9655206012448583}, {\"timestamp\": \"2022-03-22T00:00:02\", \"season\": 5461, \"variable\": \"harvested_pods\", \"value\": 24128567.883227, \"unharvestable_pods\": 680458494.709299, \"harvested_pods\": 24128567.883227, \"harvestable_pods\": 171068.75337700173, \"unharvestable_ratio\": 0.9655206012448583}, {\"timestamp\": \"2022-03-23T00:00:07\", \"season\": 5485, \"variable\": \"unharvestable_pods\", \"value\": 680461297.346543, \"unharvestable_pods\": 680461297.346543, \"harvested_pods\": 24265460.731187, \"harvestable_pods\": 127458.13851400092, \"unharvestable_ratio\": 0.9653929588438221}, {\"timestamp\": \"2022-03-23T00:00:07\", \"season\": 5485, \"variable\": \"harvested_pods\", \"value\": 24265460.731187, \"unharvestable_pods\": 680461297.346543, \"harvested_pods\": 24265460.731187, \"harvestable_pods\": 127458.13851400092, \"unharvestable_ratio\": 0.9653929588438221}, {\"timestamp\": \"2022-03-23T00:00:07\", \"season\": 5485, \"variable\": \"harvestable_pods\", \"value\": 127458.13851400092, \"unharvestable_pods\": 680461297.346543, \"harvested_pods\": 24265460.731187, \"harvestable_pods\": 127458.13851400092, \"unharvestable_ratio\": 0.9653929588438221}, {\"timestamp\": \"2022-03-23T00:00:07\", \"season\": 5485, \"variable\": \"unharvestable_ratio\", \"value\": 0.9653929588438221, \"unharvestable_pods\": 680461297.346543, \"harvested_pods\": 24265460.731187, \"harvestable_pods\": 127458.13851400092, \"unharvestable_ratio\": 0.9653929588438221}, {\"timestamp\": \"2022-03-24T00:00:59\", \"season\": 5509, \"variable\": \"unharvestable_ratio\", \"value\": 0.965206234307457, \"unharvestable_pods\": 680449480.181802, \"harvested_pods\": 24385303.532868, \"harvestable_pods\": 143547.33602999896, \"unharvestable_ratio\": 0.965206234307457}, {\"timestamp\": \"2022-03-24T00:00:59\", \"season\": 5509, \"variable\": \"unharvestable_pods\", \"value\": 680449480.181802, \"unharvestable_pods\": 680449480.181802, \"harvested_pods\": 24385303.532868, \"harvestable_pods\": 143547.33602999896, \"unharvestable_ratio\": 0.965206234307457}, {\"timestamp\": \"2022-03-24T00:00:59\", \"season\": 5509, \"variable\": \"harvested_pods\", \"value\": 24385303.532868, \"unharvestable_pods\": 680449480.181802, \"harvested_pods\": 24385303.532868, \"harvestable_pods\": 143547.33602999896, \"unharvestable_ratio\": 0.965206234307457}, {\"timestamp\": \"2022-03-24T00:00:59\", \"season\": 5509, \"variable\": \"harvestable_pods\", \"value\": 143547.33602999896, \"unharvestable_pods\": 680449480.181802, \"harvested_pods\": 24385303.532868, \"harvestable_pods\": 143547.33602999896, \"unharvestable_ratio\": 0.965206234307457}, {\"timestamp\": \"2022-03-25T00:00:02\", \"season\": 5533, \"variable\": \"harvestable_pods\", \"value\": 151617.74227000028, \"unharvestable_pods\": 680449075.35459, \"harvested_pods\": 24497604.624926, \"harvestable_pods\": 151617.74227000028, \"unharvestable_ratio\": 0.9650414382691902}, {\"timestamp\": \"2022-03-25T00:00:02\", \"season\": 5533, \"variable\": \"unharvestable_ratio\", \"value\": 0.9650414382691902, \"unharvestable_pods\": 680449075.35459, \"harvested_pods\": 24497604.624926, \"harvestable_pods\": 151617.74227000028, \"unharvestable_ratio\": 0.9650414382691902}, {\"timestamp\": \"2022-03-25T00:00:02\", \"season\": 5533, \"variable\": \"unharvestable_pods\", \"value\": 680449075.35459, \"unharvestable_pods\": 680449075.35459, \"harvested_pods\": 24497604.624926, \"harvestable_pods\": 151617.74227000028, \"unharvestable_ratio\": 0.9650414382691902}, {\"timestamp\": \"2022-03-25T00:00:02\", \"season\": 5533, \"variable\": \"harvested_pods\", \"value\": 24497604.624926, \"unharvestable_pods\": 680449075.35459, \"harvested_pods\": 24497604.624926, \"harvestable_pods\": 151617.74227000028, \"unharvestable_ratio\": 0.9650414382691902}, {\"timestamp\": \"2022-03-26T00:00:19\", \"season\": 5557, \"variable\": \"unharvestable_pods\", \"value\": 680443658.445651, \"unharvestable_pods\": 680443658.445651, \"harvested_pods\": 24517434.240243, \"harvestable_pods\": 257038.41843499988, \"unharvestable_ratio\": 0.964869773526834}, {\"timestamp\": \"2022-03-26T00:00:19\", \"season\": 5557, \"variable\": \"harvested_pods\", \"value\": 24517434.240243, \"unharvestable_pods\": 680443658.445651, \"harvested_pods\": 24517434.240243, \"harvestable_pods\": 257038.41843499988, \"unharvestable_ratio\": 0.964869773526834}, {\"timestamp\": \"2022-03-26T00:00:19\", \"season\": 5557, \"variable\": \"harvestable_pods\", \"value\": 257038.41843499988, \"unharvestable_pods\": 680443658.445651, \"harvested_pods\": 24517434.240243, \"harvestable_pods\": 257038.41843499988, \"unharvestable_ratio\": 0.964869773526834}, {\"timestamp\": \"2022-03-26T00:00:19\", \"season\": 5557, \"variable\": \"unharvestable_ratio\", \"value\": 0.964869773526834, \"unharvestable_pods\": 680443658.445651, \"harvested_pods\": 24517434.240243, \"harvestable_pods\": 257038.41843499988, \"unharvestable_ratio\": 0.964869773526834}, {\"timestamp\": \"2022-03-27T00:00:05\", \"season\": 5581, \"variable\": \"unharvestable_pods\", \"value\": 680442874.579619, \"unharvestable_pods\": 680442874.579619, \"harvested_pods\": 24743601.480617, \"harvestable_pods\": 160378.89624200016, \"unharvestable_ratio\": 0.9646925761391596}, {\"timestamp\": \"2022-03-27T00:00:05\", \"season\": 5581, \"variable\": \"harvested_pods\", \"value\": 24743601.480617, \"unharvestable_pods\": 680442874.579619, \"harvested_pods\": 24743601.480617, \"harvestable_pods\": 160378.89624200016, \"unharvestable_ratio\": 0.9646925761391596}, {\"timestamp\": \"2022-03-27T00:00:05\", \"season\": 5581, \"variable\": \"harvestable_pods\", \"value\": 160378.89624200016, \"unharvestable_pods\": 680442874.579619, \"harvested_pods\": 24743601.480617, \"harvestable_pods\": 160378.89624200016, \"unharvestable_ratio\": 0.9646925761391596}, {\"timestamp\": \"2022-03-27T00:00:05\", \"season\": 5581, \"variable\": \"unharvestable_ratio\", \"value\": 0.9646925761391596, \"unharvestable_pods\": 680442874.579619, \"harvested_pods\": 24743601.480617, \"harvestable_pods\": 160378.89624200016, \"unharvestable_ratio\": 0.9646925761391596}, {\"timestamp\": \"2022-03-28T00:01:21\", \"season\": 5605, \"variable\": \"unharvestable_ratio\", \"value\": 0.9644459294087427, \"unharvestable_pods\": 680432398.080241, \"harvested_pods\": 24830543.365786, \"harvestable_pods\": 253435.71094099805, \"unharvestable_ratio\": 0.9644459294087427}, {\"timestamp\": \"2022-03-28T00:01:21\", \"season\": 5605, \"variable\": \"harvestable_pods\", \"value\": 253435.71094099805, \"unharvestable_pods\": 680432398.080241, \"harvested_pods\": 24830543.365786, \"harvestable_pods\": 253435.71094099805, \"unharvestable_ratio\": 0.9644459294087427}, {\"timestamp\": \"2022-03-28T00:01:21\", \"season\": 5605, \"variable\": \"harvested_pods\", \"value\": 24830543.365786, \"unharvestable_pods\": 680432398.080241, \"harvested_pods\": 24830543.365786, \"harvestable_pods\": 253435.71094099805, \"unharvestable_ratio\": 0.9644459294087427}, {\"timestamp\": \"2022-03-28T00:01:21\", \"season\": 5605, \"variable\": \"unharvestable_pods\", \"value\": 680432398.080241, \"unharvestable_pods\": 680432398.080241, \"harvested_pods\": 24830543.365786, \"harvestable_pods\": 253435.71094099805, \"unharvestable_ratio\": 0.9644459294087427}, {\"timestamp\": \"2022-03-29T00:00:19\", \"season\": 5629, \"variable\": \"unharvestable_pods\", \"value\": 680429215.269367, \"unharvestable_pods\": 680429215.269367, \"harvested_pods\": 25035988.350535, \"harvestable_pods\": 222344.99606399983, \"unharvestable_ratio\": 0.9642074833314871}, {\"timestamp\": \"2022-03-29T00:00:19\", \"season\": 5629, \"variable\": \"harvested_pods\", \"value\": 25035988.350535, \"unharvestable_pods\": 680429215.269367, \"harvested_pods\": 25035988.350535, \"harvestable_pods\": 222344.99606399983, \"unharvestable_ratio\": 0.9642074833314871}, {\"timestamp\": \"2022-03-29T00:00:19\", \"season\": 5629, \"variable\": \"harvestable_pods\", \"value\": 222344.99606399983, \"unharvestable_pods\": 680429215.269367, \"harvested_pods\": 25035988.350535, \"harvestable_pods\": 222344.99606399983, \"unharvestable_ratio\": 0.9642074833314871}, {\"timestamp\": \"2022-03-29T00:00:19\", \"season\": 5629, \"variable\": \"unharvestable_ratio\", \"value\": 0.9642074833314871, \"unharvestable_pods\": 680429215.269367, \"harvested_pods\": 25035988.350535, \"harvestable_pods\": 222344.99606399983, \"unharvestable_ratio\": 0.9642074833314871}, {\"timestamp\": \"2022-03-30T00:00:24\", \"season\": 5653, \"variable\": \"unharvestable_ratio\", \"value\": 0.9640110769732052, \"unharvestable_pods\": 682259903.473159, \"harvested_pods\": 25087871.933574, \"harvestable_pods\": 382581.4013170004, \"unharvestable_ratio\": 0.9640110769732052}, {\"timestamp\": \"2022-03-30T00:00:24\", \"season\": 5653, \"variable\": \"unharvestable_pods\", \"value\": 682259903.473159, \"unharvestable_pods\": 682259903.473159, \"harvested_pods\": 25087871.933574, \"harvestable_pods\": 382581.4013170004, \"unharvestable_ratio\": 0.9640110769732052}, {\"timestamp\": \"2022-03-30T00:00:24\", \"season\": 5653, \"variable\": \"harvested_pods\", \"value\": 25087871.933574, \"unharvestable_pods\": 682259903.473159, \"harvested_pods\": 25087871.933574, \"harvestable_pods\": 382581.4013170004, \"unharvestable_ratio\": 0.9640110769732052}, {\"timestamp\": \"2022-03-30T00:00:24\", \"season\": 5653, \"variable\": \"harvestable_pods\", \"value\": 382581.4013170004, \"unharvestable_pods\": 682259903.473159, \"harvested_pods\": 25087871.933574, \"harvestable_pods\": 382581.4013170004, \"unharvestable_ratio\": 0.9640110769732052}, {\"timestamp\": \"2022-03-31T00:00:03\", \"season\": 5677, \"variable\": \"harvestable_pods\", \"value\": 387374.53076300025, \"unharvestable_pods\": 682251823.929554, \"harvested_pods\": 25260343.623763, \"harvestable_pods\": 387374.53076300025, \"unharvestable_ratio\": 0.9637692686182304}, {\"timestamp\": \"2022-03-31T00:00:03\", \"season\": 5677, \"variable\": \"unharvestable_ratio\", \"value\": 0.9637692686182304, \"unharvestable_pods\": 682251823.929554, \"harvested_pods\": 25260343.623763, \"harvestable_pods\": 387374.53076300025, \"unharvestable_ratio\": 0.9637692686182304}, {\"timestamp\": \"2022-03-31T00:00:03\", \"season\": 5677, \"variable\": \"unharvestable_pods\", \"value\": 682251823.929554, \"unharvestable_pods\": 682251823.929554, \"harvested_pods\": 25260343.623763, \"harvestable_pods\": 387374.53076300025, \"unharvestable_ratio\": 0.9637692686182304}, {\"timestamp\": \"2022-03-31T00:00:03\", \"season\": 5677, \"variable\": \"harvested_pods\", \"value\": 25260343.623763, \"unharvestable_pods\": 682251823.929554, \"harvested_pods\": 25260343.623763, \"harvestable_pods\": 387374.53076300025, \"unharvestable_ratio\": 0.9637692686182304}, {\"timestamp\": \"2022-04-01T00:00:21\", \"season\": 5701, \"variable\": \"unharvestable_pods\", \"value\": 682249271.500231, \"unharvestable_pods\": 682249271.500231, \"harvested_pods\": 25473447.969591, \"harvestable_pods\": 357290.99630500004, \"unharvestable_ratio\": 0.9635200279854085}, {\"timestamp\": \"2022-04-01T00:00:21\", \"season\": 5701, \"variable\": \"harvested_pods\", \"value\": 25473447.969591, \"unharvestable_pods\": 682249271.500231, \"harvested_pods\": 25473447.969591, \"harvestable_pods\": 357290.99630500004, \"unharvestable_ratio\": 0.9635200279854085}, {\"timestamp\": \"2022-04-01T00:00:21\", \"season\": 5701, \"variable\": \"harvestable_pods\", \"value\": 357290.99630500004, \"unharvestable_pods\": 682249271.500231, \"harvested_pods\": 25473447.969591, \"harvestable_pods\": 357290.99630500004, \"unharvestable_ratio\": 0.9635200279854085}, {\"timestamp\": \"2022-04-01T00:00:21\", \"season\": 5701, \"variable\": \"unharvestable_ratio\", \"value\": 0.9635200279854085, \"unharvestable_pods\": 682249271.500231, \"harvested_pods\": 25473447.969591, \"harvestable_pods\": 357290.99630500004, \"unharvestable_ratio\": 0.9635200279854085}, {\"timestamp\": \"2022-04-02T00:00:09\", \"season\": 5725, \"variable\": \"unharvestable_pods\", \"value\": 682246748.024826, \"unharvestable_pods\": 682246748.024826, \"harvested_pods\": 25569345.837924, \"harvestable_pods\": 551342.0708459988, \"unharvestable_ratio\": 0.9631255100337242}, {\"timestamp\": \"2022-04-02T00:00:09\", \"season\": 5725, \"variable\": \"harvested_pods\", \"value\": 25569345.837924, \"unharvestable_pods\": 682246748.024826, \"harvested_pods\": 25569345.837924, \"harvestable_pods\": 551342.0708459988, \"unharvestable_ratio\": 0.9631255100337242}, {\"timestamp\": \"2022-04-02T00:00:09\", \"season\": 5725, \"variable\": \"harvestable_pods\", \"value\": 551342.0708459988, \"unharvestable_pods\": 682246748.024826, \"harvested_pods\": 25569345.837924, \"harvestable_pods\": 551342.0708459988, \"unharvestable_ratio\": 0.9631255100337242}, {\"timestamp\": \"2022-04-02T00:00:09\", \"season\": 5725, \"variable\": \"unharvestable_ratio\", \"value\": 0.9631255100337242, \"unharvestable_pods\": 682246748.024826, \"harvested_pods\": 25569345.837924, \"harvestable_pods\": 551342.0708459988, \"unharvestable_ratio\": 0.9631255100337242}, {\"timestamp\": \"2022-04-03T00:00:06\", \"season\": 5749, \"variable\": \"unharvestable_ratio\", \"value\": 0.9627042366516623, \"unharvestable_pods\": 682243018.864069, \"harvested_pods\": 25905267.403178, \"harvestable_pods\": 525253.2166419998, \"unharvestable_ratio\": 0.9627042366516623}, {\"timestamp\": \"2022-04-03T00:00:06\", \"season\": 5749, \"variable\": \"harvestable_pods\", \"value\": 525253.2166419998, \"unharvestable_pods\": 682243018.864069, \"harvested_pods\": 25905267.403178, \"harvestable_pods\": 525253.2166419998, \"unharvestable_ratio\": 0.9627042366516623}, {\"timestamp\": \"2022-04-03T00:00:06\", \"season\": 5749, \"variable\": \"unharvestable_pods\", \"value\": 682243018.864069, \"unharvestable_pods\": 682243018.864069, \"harvested_pods\": 25905267.403178, \"harvestable_pods\": 525253.2166419998, \"unharvestable_ratio\": 0.9627042366516623}, {\"timestamp\": \"2022-04-03T00:00:06\", \"season\": 5749, \"variable\": \"harvested_pods\", \"value\": 25905267.403178, \"unharvestable_pods\": 682243018.864069, \"harvested_pods\": 25905267.403178, \"harvestable_pods\": 525253.2166419998, \"unharvestable_ratio\": 0.9627042366516623}, {\"timestamp\": \"2022-04-04T00:00:00\", \"season\": 5773, \"variable\": \"unharvestable_ratio\", \"value\": 0.962208058338867, \"unharvestable_pods\": 682241225.42615, \"harvested_pods\": 26015980.205595, \"harvestable_pods\": 779909.068744, \"unharvestable_ratio\": 0.962208058338867}, {\"timestamp\": \"2022-04-04T00:00:00\", \"season\": 5773, \"variable\": \"unharvestable_pods\", \"value\": 682241225.42615, \"unharvestable_pods\": 682241225.42615, \"harvested_pods\": 26015980.205595, \"harvestable_pods\": 779909.068744, \"unharvestable_ratio\": 0.962208058338867}, {\"timestamp\": \"2022-04-04T00:00:00\", \"season\": 5773, \"variable\": \"harvested_pods\", \"value\": 26015980.205595, \"unharvestable_pods\": 682241225.42615, \"harvested_pods\": 26015980.205595, \"harvestable_pods\": 779909.068744, \"unharvestable_ratio\": 0.962208058338867}, {\"timestamp\": \"2022-04-04T00:00:00\", \"season\": 5773, \"variable\": \"harvestable_pods\", \"value\": 779909.068744, \"unharvestable_pods\": 682241225.42615, \"harvested_pods\": 26015980.205595, \"harvestable_pods\": 779909.068744, \"unharvestable_ratio\": 0.962208058338867}, {\"timestamp\": \"2022-04-05T00:00:21\", \"season\": 5797, \"variable\": \"harvestable_pods\", \"value\": 348555.41450500116, \"unharvestable_pods\": 682239023.313777, \"harvested_pods\": 26651672.397288, \"harvestable_pods\": 348555.41450500116, \"unharvestable_ratio\": 0.961930719755085}, {\"timestamp\": \"2022-04-05T00:00:21\", \"season\": 5797, \"variable\": \"unharvestable_ratio\", \"value\": 0.961930719755085, \"unharvestable_pods\": 682239023.313777, \"harvested_pods\": 26651672.397288, \"harvestable_pods\": 348555.41450500116, \"unharvestable_ratio\": 0.961930719755085}, {\"timestamp\": \"2022-04-05T00:00:21\", \"season\": 5797, \"variable\": \"unharvestable_pods\", \"value\": 682239023.313777, \"unharvestable_pods\": 682239023.313777, \"harvested_pods\": 26651672.397288, \"harvestable_pods\": 348555.41450500116, \"unharvestable_ratio\": 0.961930719755085}, {\"timestamp\": \"2022-04-05T00:00:21\", \"season\": 5797, \"variable\": \"harvested_pods\", \"value\": 26651672.397288, \"unharvestable_pods\": 682239023.313777, \"harvested_pods\": 26651672.397288, \"harvestable_pods\": 348555.41450500116, \"unharvestable_ratio\": 0.961930719755085}, {\"timestamp\": \"2022-04-06T00:00:27\", \"season\": 5821, \"variable\": \"unharvestable_ratio\", \"value\": 0.9616798004487552, \"unharvestable_pods\": 682238543.739148, \"harvested_pods\": 26906015.33346, \"harvestable_pods\": 279246.4609909989, \"unharvestable_ratio\": 0.9616798004487552}, {\"timestamp\": \"2022-04-06T00:00:27\", \"season\": 5821, \"variable\": \"harvestable_pods\", \"value\": 279246.4609909989, \"unharvestable_pods\": 682238543.739148, \"harvested_pods\": 26906015.33346, \"harvestable_pods\": 279246.4609909989, \"unharvestable_ratio\": 0.9616798004487552}, {\"timestamp\": \"2022-04-06T00:00:27\", \"season\": 5821, \"variable\": \"unharvestable_pods\", \"value\": 682238543.739148, \"unharvestable_pods\": 682238543.739148, \"harvested_pods\": 26906015.33346, \"harvestable_pods\": 279246.4609909989, \"unharvestable_ratio\": 0.9616798004487552}, {\"timestamp\": \"2022-04-06T00:00:27\", \"season\": 5821, \"variable\": \"harvested_pods\", \"value\": 26906015.33346, \"unharvestable_pods\": 682238543.739148, \"harvested_pods\": 26906015.33346, \"harvestable_pods\": 279246.4609909989, \"unharvestable_ratio\": 0.9616798004487552}, {\"timestamp\": \"2022-04-07T00:01:08\", \"season\": 5845, \"variable\": \"unharvestable_pods\", \"value\": 682232911.171506, \"unharvestable_pods\": 682232911.171506, \"harvested_pods\": 27095623.667981, \"harvestable_pods\": 359804.7133760005, \"unharvestable_ratio\": 0.9613134007546816}, {\"timestamp\": \"2022-04-07T00:01:08\", \"season\": 5845, \"variable\": \"harvested_pods\", \"value\": 27095623.667981, \"unharvestable_pods\": 682232911.171506, \"harvested_pods\": 27095623.667981, \"harvestable_pods\": 359804.7133760005, \"unharvestable_ratio\": 0.9613134007546816}, {\"timestamp\": \"2022-04-07T00:01:08\", \"season\": 5845, \"variable\": \"harvestable_pods\", \"value\": 359804.7133760005, \"unharvestable_pods\": 682232911.171506, \"harvested_pods\": 27095623.667981, \"harvestable_pods\": 359804.7133760005, \"unharvestable_ratio\": 0.9613134007546816}, {\"timestamp\": \"2022-04-07T00:01:08\", \"season\": 5845, \"variable\": \"unharvestable_ratio\", \"value\": 0.9613134007546816, \"unharvestable_pods\": 682232911.171506, \"harvested_pods\": 27095623.667981, \"harvestable_pods\": 359804.7133760005, \"unharvestable_ratio\": 0.9613134007546816}, {\"timestamp\": \"2022-04-08T00:00:13\", \"season\": 5869, \"variable\": \"harvested_pods\", \"value\": 27262501.864033, \"unharvestable_pods\": 682230683.391834, \"harvested_pods\": 27262501.864033, \"harvestable_pods\": 386225.94682599977, \"unharvestable_ratio\": 0.9610515147016084}, {\"timestamp\": \"2022-04-08T00:00:13\", \"season\": 5869, \"variable\": \"unharvestable_pods\", \"value\": 682230683.391834, \"unharvestable_pods\": 682230683.391834, \"harvested_pods\": 27262501.864033, \"harvestable_pods\": 386225.94682599977, \"unharvestable_ratio\": 0.9610515147016084}, {\"timestamp\": \"2022-04-08T00:00:13\", \"season\": 5869, \"variable\": \"harvestable_pods\", \"value\": 386225.94682599977, \"unharvestable_pods\": 682230683.391834, \"harvested_pods\": 27262501.864033, \"harvestable_pods\": 386225.94682599977, \"unharvestable_ratio\": 0.9610515147016084}, {\"timestamp\": \"2022-04-08T00:00:13\", \"season\": 5869, \"variable\": \"unharvestable_ratio\", \"value\": 0.9610515147016084, \"unharvestable_pods\": 682230683.391834, \"harvested_pods\": 27262501.864033, \"harvestable_pods\": 386225.94682599977, \"unharvestable_ratio\": 0.9610515147016084}, {\"timestamp\": \"2022-04-09T00:00:00\", \"season\": 5893, \"variable\": \"unharvestable_ratio\", \"value\": 0.960444525214206, \"unharvestable_pods\": 682227308.988146, \"harvested_pods\": 27710846.347326, \"harvestable_pods\": 386377.81337400153, \"unharvestable_ratio\": 0.960444525214206}, {\"timestamp\": \"2022-04-09T00:00:00\", \"season\": 5893, \"variable\": \"harvestable_pods\", \"value\": 386377.81337400153, \"unharvestable_pods\": 682227308.988146, \"harvested_pods\": 27710846.347326, \"harvestable_pods\": 386377.81337400153, \"unharvestable_ratio\": 0.960444525214206}, {\"timestamp\": \"2022-04-09T00:00:00\", \"season\": 5893, \"variable\": \"unharvestable_pods\", \"value\": 682227308.988146, \"unharvestable_pods\": 682227308.988146, \"harvested_pods\": 27710846.347326, \"harvestable_pods\": 386377.81337400153, \"unharvestable_ratio\": 0.960444525214206}, {\"timestamp\": \"2022-04-09T00:00:00\", \"season\": 5893, \"variable\": \"harvested_pods\", \"value\": 27710846.347326, \"unharvestable_pods\": 682227308.988146, \"harvested_pods\": 27710846.347326, \"harvestable_pods\": 386377.81337400153, \"unharvestable_ratio\": 0.960444525214206}, {\"timestamp\": \"2022-04-10T00:02:19\", \"season\": 5917, \"variable\": \"unharvestable_pods\", \"value\": 682225816.835499, \"unharvestable_pods\": 682225816.835499, \"harvested_pods\": 27999158.687811, \"harvestable_pods\": 609530.5459400006, \"unharvestable_ratio\": 0.9597533758005777}, {\"timestamp\": \"2022-04-10T00:02:19\", \"season\": 5917, \"variable\": \"harvested_pods\", \"value\": 27999158.687811, \"unharvestable_pods\": 682225816.835499, \"harvested_pods\": 27999158.687811, \"harvestable_pods\": 609530.5459400006, \"unharvestable_ratio\": 0.9597533758005777}, {\"timestamp\": \"2022-04-10T00:02:19\", \"season\": 5917, \"variable\": \"harvestable_pods\", \"value\": 609530.5459400006, \"unharvestable_pods\": 682225816.835499, \"harvested_pods\": 27999158.687811, \"harvestable_pods\": 609530.5459400006, \"unharvestable_ratio\": 0.9597533758005777}, {\"timestamp\": \"2022-04-10T00:02:19\", \"season\": 5917, \"variable\": \"unharvestable_ratio\", \"value\": 0.9597533758005777, \"unharvestable_pods\": 682225816.835499, \"harvested_pods\": 27999158.687811, \"harvestable_pods\": 609530.5459400006, \"unharvestable_ratio\": 0.9597533758005777}, {\"timestamp\": \"2022-04-11T00:00:03\", \"season\": 5941, \"variable\": \"harvestable_pods\", \"value\": 591609.8118400015, \"unharvestable_pods\": 682224755.494436, \"harvested_pods\": 28679145.061848, \"harvestable_pods\": 591609.8118400015, \"unharvestable_ratio\": 0.9588602395276625}, {\"timestamp\": \"2022-04-11T00:00:03\", \"season\": 5941, \"variable\": \"unharvestable_ratio\", \"value\": 0.9588602395276625, \"unharvestable_pods\": 682224755.494436, \"harvested_pods\": 28679145.061848, \"harvestable_pods\": 591609.8118400015, \"unharvestable_ratio\": 0.9588602395276625}, {\"timestamp\": \"2022-04-11T00:00:03\", \"season\": 5941, \"variable\": \"harvested_pods\", \"value\": 28679145.061848, \"unharvestable_pods\": 682224755.494436, \"harvested_pods\": 28679145.061848, \"harvestable_pods\": 591609.8118400015, \"unharvestable_ratio\": 0.9588602395276625}, {\"timestamp\": \"2022-04-11T00:00:03\", \"season\": 5941, \"variable\": \"unharvestable_pods\", \"value\": 682224755.494436, \"unharvestable_pods\": 682224755.494436, \"harvested_pods\": 28679145.061848, \"harvestable_pods\": 591609.8118400015, \"unharvestable_ratio\": 0.9588602395276625}, {\"timestamp\": \"2022-04-12T00:00:14\", \"season\": 5965, \"variable\": \"unharvestable_pods\", \"value\": 682224755.39035, \"unharvestable_pods\": 682224755.39035, \"harvested_pods\": 29499411.827778, \"harvestable_pods\": 2291304.111453999, \"unharvestable_ratio\": 0.9554761525264517}, {\"timestamp\": \"2022-04-12T00:00:14\", \"season\": 5965, \"variable\": \"harvested_pods\", \"value\": 29499411.827778, \"unharvestable_pods\": 682224755.39035, \"harvested_pods\": 29499411.827778, \"harvestable_pods\": 2291304.111453999, \"unharvestable_ratio\": 0.9554761525264517}, {\"timestamp\": \"2022-04-12T00:00:14\", \"season\": 5965, \"variable\": \"harvestable_pods\", \"value\": 2291304.111453999, \"unharvestable_pods\": 682224755.39035, \"harvested_pods\": 29499411.827778, \"harvestable_pods\": 2291304.111453999, \"unharvestable_ratio\": 0.9554761525264517}, {\"timestamp\": \"2022-04-12T00:00:14\", \"season\": 5965, \"variable\": \"unharvestable_ratio\", \"value\": 0.9554761525264517, \"unharvestable_pods\": 682224755.39035, \"harvested_pods\": 29499411.827778, \"harvestable_pods\": 2291304.111453999, \"unharvestable_ratio\": 0.9554761525264517}, {\"timestamp\": \"2022-04-13T00:00:14\", \"season\": 5989, \"variable\": \"unharvestable_ratio\", \"value\": 0.9499586181397661, \"unharvestable_pods\": 682224755.389505, \"harvested_pods\": 34900861.69022, \"harvestable_pods\": 1036987.4403069988, \"unharvestable_ratio\": 0.9499586181397661}, {\"timestamp\": \"2022-04-13T00:00:14\", \"season\": 5989, \"variable\": \"unharvestable_pods\", \"value\": 682224755.389505, \"unharvestable_pods\": 682224755.389505, \"harvested_pods\": 34900861.69022, \"harvestable_pods\": 1036987.4403069988, \"unharvestable_ratio\": 0.9499586181397661}, {\"timestamp\": \"2022-04-13T00:00:14\", \"season\": 5989, \"variable\": \"harvested_pods\", \"value\": 34900861.69022, \"unharvestable_pods\": 682224755.389505, \"harvested_pods\": 34900861.69022, \"harvestable_pods\": 1036987.4403069988, \"unharvestable_ratio\": 0.9499586181397661}, {\"timestamp\": \"2022-04-13T00:00:14\", \"season\": 5989, \"variable\": \"harvestable_pods\", \"value\": 1036987.4403069988, \"unharvestable_pods\": 682224755.389505, \"harvested_pods\": 34900861.69022, \"harvestable_pods\": 1036987.4403069988, \"unharvestable_ratio\": 0.9499586181397661}, {\"timestamp\": \"2022-04-14T00:00:06\", \"season\": 6013, \"variable\": \"unharvestable_ratio\", \"value\": 0.9434883690000415, \"unharvestable_pods\": 682224755.388728, \"harvested_pods\": 39950209.551699, \"harvestable_pods\": 912650.9798260033, \"unharvestable_ratio\": 0.9434883690000415}, {\"timestamp\": \"2022-04-14T00:00:06\", \"season\": 6013, \"variable\": \"harvestable_pods\", \"value\": 912650.9798260033, \"unharvestable_pods\": 682224755.388728, \"harvested_pods\": 39950209.551699, \"harvestable_pods\": 912650.9798260033, \"unharvestable_ratio\": 0.9434883690000415}, {\"timestamp\": \"2022-04-14T00:00:06\", \"season\": 6013, \"variable\": \"unharvestable_pods\", \"value\": 682224755.388728, \"unharvestable_pods\": 682224755.388728, \"harvested_pods\": 39950209.551699, \"harvestable_pods\": 912650.9798260033, \"unharvestable_ratio\": 0.9434883690000415}, {\"timestamp\": \"2022-04-14T00:00:06\", \"season\": 6013, \"variable\": \"harvested_pods\", \"value\": 39950209.551699, \"unharvestable_pods\": 682224755.388728, \"harvested_pods\": 39950209.551699, \"harvestable_pods\": 912650.9798260033, \"unharvestable_ratio\": 0.9434883690000415}, {\"timestamp\": \"2022-04-15T00:00:36\", \"season\": 6037, \"variable\": \"harvestable_pods\", \"value\": 1255123.866714999, \"unharvestable_pods\": 682224755.387969, \"harvested_pods\": 46176510.786144, \"harvestable_pods\": 1255123.866714999, \"unharvestable_ratio\": 0.9349945600418782}, {\"timestamp\": \"2022-04-15T00:00:36\", \"season\": 6037, \"variable\": \"unharvestable_pods\", \"value\": 682224755.387969, \"unharvestable_pods\": 682224755.387969, \"harvested_pods\": 46176510.786144, \"harvestable_pods\": 1255123.866714999, \"unharvestable_ratio\": 0.9349945600418782}, {\"timestamp\": \"2022-04-15T00:00:36\", \"season\": 6037, \"variable\": \"harvested_pods\", \"value\": 46176510.786144, \"unharvestable_pods\": 682224755.387969, \"harvested_pods\": 46176510.786144, \"harvestable_pods\": 1255123.866714999, \"unharvestable_ratio\": 0.9349945600418782}, {\"timestamp\": \"2022-04-15T00:00:36\", \"season\": 6037, \"variable\": \"unharvestable_ratio\", \"value\": 0.9349945600418782, \"unharvestable_pods\": 682224755.387969, \"harvested_pods\": 46176510.786144, \"harvestable_pods\": 1255123.866714999, \"unharvestable_ratio\": 0.9349945600418782}, {\"timestamp\": \"2022-04-16T00:00:56\", \"season\": 6061, \"variable\": \"unharvestable_ratio\", \"value\": 0.9283371696580427, \"unharvestable_pods\": 682224755.387294, \"harvested_pods\": 49424227.112225, \"harvestable_pods\": 3239997.1570799947, \"unharvestable_ratio\": 0.9283371696580427}, {\"timestamp\": \"2022-04-16T00:00:56\", \"season\": 6061, \"variable\": \"harvestable_pods\", \"value\": 3239997.1570799947, \"unharvestable_pods\": 682224755.387294, \"harvested_pods\": 49424227.112225, \"harvestable_pods\": 3239997.1570799947, \"unharvestable_ratio\": 0.9283371696580427}, {\"timestamp\": \"2022-04-16T00:00:56\", \"season\": 6061, \"variable\": \"harvested_pods\", \"value\": 49424227.112225, \"unharvestable_pods\": 682224755.387294, \"harvested_pods\": 49424227.112225, \"harvestable_pods\": 3239997.1570799947, \"unharvestable_ratio\": 0.9283371696580427}, {\"timestamp\": \"2022-04-16T00:00:56\", \"season\": 6061, \"variable\": \"unharvestable_pods\", \"value\": 682224755.387294, \"unharvestable_pods\": 682224755.387294, \"harvested_pods\": 49424227.112225, \"harvestable_pods\": 3239997.1570799947, \"unharvestable_ratio\": 0.9283371696580427}, {\"timestamp\": \"2022-08-05T03:47:15\", \"season\": 6074, \"variable\": \"unharvestable_pods\", \"value\": 682224755.386952, \"unharvestable_pods\": 682224755.386952, \"harvested_pods\": 55438959.694302, \"harvestable_pods\": 0.0, \"unharvestable_ratio\": 0.9248452125801045}, {\"timestamp\": \"2022-08-05T03:47:15\", \"season\": 6074, \"variable\": \"harvested_pods\", \"value\": 55438959.694302, \"unharvestable_pods\": 682224755.386952, \"harvested_pods\": 55438959.694302, \"harvestable_pods\": 0.0, \"unharvestable_ratio\": 0.9248452125801045}, {\"timestamp\": \"2022-08-05T03:47:15\", \"season\": 6074, \"variable\": \"harvestable_pods\", \"value\": 0.0, \"unharvestable_pods\": 682224755.386952, \"harvested_pods\": 55438959.694302, \"harvestable_pods\": 0.0, \"unharvestable_ratio\": 0.9248452125801045}, {\"timestamp\": \"2022-08-05T03:47:15\", \"season\": 6074, \"variable\": \"unharvestable_ratio\", \"value\": 0.9248452125801045, \"unharvestable_pods\": 682224755.386952, \"harvested_pods\": 55438959.694302, \"harvestable_pods\": 0.0, \"unharvestable_ratio\": 0.9248452125801045}, {\"timestamp\": \"2022-08-06T23:00:33\", \"season\": 6081, \"variable\": \"harvestable_pods\", \"value\": 53558.90904299915, \"unharvestable_pods\": 682197970.68351, \"harvested_pods\": 55438959.694302, \"harvestable_pods\": 53558.90904299915, \"unharvestable_ratio\": 0.9247753367987827}, {\"timestamp\": \"2022-08-06T23:00:33\", \"season\": 6081, \"variable\": \"unharvestable_ratio\", \"value\": 0.9247753367987827, \"unharvestable_pods\": 682197970.68351, \"harvested_pods\": 55438959.694302, \"harvestable_pods\": 53558.90904299915, \"unharvestable_ratio\": 0.9247753367987827}, {\"timestamp\": \"2022-08-06T23:00:33\", \"season\": 6081, \"variable\": \"unharvestable_pods\", \"value\": 682197970.68351, \"unharvestable_pods\": 682197970.68351, \"harvested_pods\": 55438959.694302, \"harvestable_pods\": 53558.90904299915, \"unharvestable_ratio\": 0.9247753367987827}, {\"timestamp\": \"2022-08-06T23:00:33\", \"season\": 6081, \"variable\": \"harvested_pods\", \"value\": 55438959.694302, \"unharvestable_pods\": 682197970.68351, \"harvested_pods\": 55438959.694302, \"harvestable_pods\": 53558.90904299915, \"unharvestable_ratio\": 0.9247753367987827}, {\"timestamp\": \"2022-08-07T23:00:32\", \"season\": 6105, \"variable\": \"unharvestable_pods\", \"value\": 681268268.936924, \"unharvestable_pods\": 681268268.936924, \"harvested_pods\": 57351922.095057, \"harvestable_pods\": 0.0, \"unharvestable_ratio\": 0.9223526207496083}, {\"timestamp\": \"2022-08-07T23:00:32\", \"season\": 6105, \"variable\": \"harvested_pods\", \"value\": 57351922.095057, \"unharvestable_pods\": 681268268.936924, \"harvested_pods\": 57351922.095057, \"harvestable_pods\": 0.0, \"unharvestable_ratio\": 0.9223526207496083}, {\"timestamp\": \"2022-08-07T23:00:32\", \"season\": 6105, \"variable\": \"harvestable_pods\", \"value\": 0.0, \"unharvestable_pods\": 681268268.936924, \"harvested_pods\": 57351922.095057, \"harvestable_pods\": 0.0, \"unharvestable_ratio\": 0.9223526207496083}, {\"timestamp\": \"2022-08-07T23:00:32\", \"season\": 6105, \"variable\": \"unharvestable_ratio\", \"value\": 0.9223526207496083, \"unharvestable_pods\": 681268268.936924, \"harvested_pods\": 57351922.095057, \"harvestable_pods\": 0.0, \"unharvestable_ratio\": 0.9223526207496083}, {\"timestamp\": \"2022-08-08T23:00:11\", \"season\": 6129, \"variable\": \"unharvestable_ratio\", \"value\": 0.9227639131734633, \"unharvestable_pods\": 686200361.096804, \"harvested_pods\": 57430160.570953, \"harvestable_pods\": 5365.367425002158, \"unharvestable_ratio\": 0.9227639131734633}, {\"timestamp\": \"2022-08-08T23:00:11\", \"season\": 6129, \"variable\": \"unharvestable_pods\", \"value\": 686200361.096804, \"unharvestable_pods\": 686200361.096804, \"harvested_pods\": 57430160.570953, \"harvestable_pods\": 5365.367425002158, \"unharvestable_ratio\": 0.9227639131734633}, {\"timestamp\": \"2022-08-08T23:00:11\", \"season\": 6129, \"variable\": \"harvested_pods\", \"value\": 57430160.570953, \"unharvestable_pods\": 686200361.096804, \"harvested_pods\": 57430160.570953, \"harvestable_pods\": 5365.367425002158, \"unharvestable_ratio\": 0.9227639131734633}, {\"timestamp\": \"2022-08-08T23:00:11\", \"season\": 6129, \"variable\": \"harvestable_pods\", \"value\": 5365.367425002158, \"unharvestable_pods\": 686200361.096804, \"harvested_pods\": 57430160.570953, \"harvestable_pods\": 5365.367425002158, \"unharvestable_ratio\": 0.9227639131734633}, {\"timestamp\": \"2022-08-09T23:00:00\", \"season\": 6153, \"variable\": \"harvestable_pods\", \"value\": 0.0, \"unharvestable_pods\": 744822590.495588, \"harvested_pods\": 57437836.043772, \"harvestable_pods\": 0.0, \"unharvestable_ratio\": 0.9284049989957295}, {\"timestamp\": \"2022-08-09T23:00:00\", \"season\": 6153, \"variable\": \"unharvestable_ratio\", \"value\": 0.9284049989957295, \"unharvestable_pods\": 744822590.495588, \"harvested_pods\": 57437836.043772, \"harvestable_pods\": 0.0, \"unharvestable_ratio\": 0.9284049989957295}, {\"timestamp\": \"2022-08-09T23:00:00\", \"season\": 6153, \"variable\": \"unharvestable_pods\", \"value\": 744822590.495588, \"unharvestable_pods\": 744822590.495588, \"harvested_pods\": 57437836.043772, \"harvestable_pods\": 0.0, \"unharvestable_ratio\": 0.9284049989957295}, {\"timestamp\": \"2022-08-09T23:00:00\", \"season\": 6153, \"variable\": \"harvested_pods\", \"value\": 57437836.043772, \"unharvestable_pods\": 744822590.495588, \"harvested_pods\": 57437836.043772, \"harvestable_pods\": 0.0, \"unharvestable_ratio\": 0.9284049989957295}, {\"timestamp\": \"2022-08-10T23:00:22\", \"season\": 6177, \"variable\": \"harvestable_pods\", \"value\": 32909.71223000437, \"unharvestable_pods\": 745501108.019873, \"harvested_pods\": 57437836.043772, \"harvestable_pods\": 32909.71223000437, \"unharvestable_ratio\": 0.9284274467582482}, {\"timestamp\": \"2022-08-10T23:00:22\", \"season\": 6177, \"variable\": \"unharvestable_ratio\", \"value\": 0.9284274467582482, \"unharvestable_pods\": 745501108.019873, \"harvested_pods\": 57437836.043772, \"harvestable_pods\": 32909.71223000437, \"unharvestable_ratio\": 0.9284274467582482}, {\"timestamp\": \"2022-08-10T23:00:22\", \"season\": 6177, \"variable\": \"unharvestable_pods\", \"value\": 745501108.019873, \"unharvestable_pods\": 745501108.019873, \"harvested_pods\": 57437836.043772, \"harvestable_pods\": 32909.71223000437, \"unharvestable_ratio\": 0.9284274467582482}, {\"timestamp\": \"2022-08-10T23:00:22\", \"season\": 6177, \"variable\": \"harvested_pods\", \"value\": 57437836.043772, \"unharvestable_pods\": 745501108.019873, \"harvested_pods\": 57437836.043772, \"harvestable_pods\": 32909.71223000437, \"unharvestable_ratio\": 0.9284274467582482}, {\"timestamp\": \"2022-08-11T23:00:51\", \"season\": 6201, \"variable\": \"unharvestable_pods\", \"value\": 746213327.983605, \"unharvestable_pods\": 746213327.983605, \"harvested_pods\": 57474031.461465, \"harvestable_pods\": 795.1405740007758, \"unharvestable_ratio\": 0.928486159371515}, {\"timestamp\": \"2022-08-11T23:00:51\", \"season\": 6201, \"variable\": \"harvested_pods\", \"value\": 57474031.461465, \"unharvestable_pods\": 746213327.983605, \"harvested_pods\": 57474031.461465, \"harvestable_pods\": 795.1405740007758, \"unharvestable_ratio\": 0.928486159371515}, {\"timestamp\": \"2022-08-11T23:00:51\", \"season\": 6201, \"variable\": \"harvestable_pods\", \"value\": 795.1405740007758, \"unharvestable_pods\": 746213327.983605, \"harvested_pods\": 57474031.461465, \"harvestable_pods\": 795.1405740007758, \"unharvestable_ratio\": 0.928486159371515}, {\"timestamp\": \"2022-08-11T23:00:51\", \"season\": 6201, \"variable\": \"unharvestable_ratio\", \"value\": 0.928486159371515, \"unharvestable_pods\": 746213327.983605, \"harvested_pods\": 57474031.461465, \"harvestable_pods\": 795.1405740007758, \"unharvestable_ratio\": 0.928486159371515}, {\"timestamp\": \"2022-08-12T23:00:02\", \"season\": 6225, \"variable\": \"unharvestable_pods\", \"value\": 747299223.628205, \"unharvestable_pods\": 747299223.628205, \"harvested_pods\": 57474031.461465, \"harvestable_pods\": 11154.395695999265, \"unharvestable_ratio\": 0.9285707014454704}, {\"timestamp\": \"2022-08-12T23:00:02\", \"season\": 6225, \"variable\": \"harvested_pods\", \"value\": 57474031.461465, \"unharvestable_pods\": 747299223.628205, \"harvested_pods\": 57474031.461465, \"harvestable_pods\": 11154.395695999265, \"unharvestable_ratio\": 0.9285707014454704}, {\"timestamp\": \"2022-08-12T23:00:02\", \"season\": 6225, \"variable\": \"harvestable_pods\", \"value\": 11154.395695999265, \"unharvestable_pods\": 747299223.628205, \"harvested_pods\": 57474031.461465, \"harvestable_pods\": 11154.395695999265, \"unharvestable_ratio\": 0.9285707014454704}, {\"timestamp\": \"2022-08-12T23:00:02\", \"season\": 6225, \"variable\": \"unharvestable_ratio\", \"value\": 0.9285707014454704, \"unharvestable_pods\": 747299223.628205, \"harvested_pods\": 57474031.461465, \"harvestable_pods\": 11154.395695999265, \"unharvestable_ratio\": 0.9285707014454704}, {\"timestamp\": \"2022-08-13T23:00:00\", \"season\": 6249, \"variable\": \"unharvestable_ratio\", \"value\": 0.9285605016300394, \"unharvestable_pods\": 747471719.786259, \"harvested_pods\": 57504141.760129, \"harvestable_pods\": 3155.4095470011234, \"unharvestable_ratio\": 0.9285605016300394}, {\"timestamp\": \"2022-08-13T23:00:00\", \"season\": 6249, \"variable\": \"harvestable_pods\", \"value\": 3155.4095470011234, \"unharvestable_pods\": 747471719.786259, \"harvested_pods\": 57504141.760129, \"harvestable_pods\": 3155.4095470011234, \"unharvestable_ratio\": 0.9285605016300394}, {\"timestamp\": \"2022-08-13T23:00:00\", \"season\": 6249, \"variable\": \"unharvestable_pods\", \"value\": 747471719.786259, \"unharvestable_pods\": 747471719.786259, \"harvested_pods\": 57504141.760129, \"harvestable_pods\": 3155.4095470011234, \"unharvestable_ratio\": 0.9285605016300394}, {\"timestamp\": \"2022-08-13T23:00:00\", \"season\": 6249, \"variable\": \"harvested_pods\", \"value\": 57504141.760129, \"unharvestable_pods\": 747471719.786259, \"harvested_pods\": 57504141.760129, \"harvestable_pods\": 3155.4095470011234, \"unharvestable_ratio\": 0.9285605016300394}, {\"timestamp\": \"2022-08-14T23:00:05\", \"season\": 6273, \"variable\": \"unharvestable_pods\", \"value\": 763291117.869234, \"unharvestable_pods\": 763291117.869234, \"harvested_pods\": 57504141.760129, \"harvestable_pods\": 3481.240357004106, \"unharvestable_ratio\": 0.9299369990022758}, {\"timestamp\": \"2022-08-14T23:00:05\", \"season\": 6273, \"variable\": \"harvested_pods\", \"value\": 57504141.760129, \"unharvestable_pods\": 763291117.869234, \"harvested_pods\": 57504141.760129, \"harvestable_pods\": 3481.240357004106, \"unharvestable_ratio\": 0.9299369990022758}, {\"timestamp\": \"2022-08-14T23:00:05\", \"season\": 6273, \"variable\": \"harvestable_pods\", \"value\": 3481.240357004106, \"unharvestable_pods\": 763291117.869234, \"harvested_pods\": 57504141.760129, \"harvestable_pods\": 3481.240357004106, \"unharvestable_ratio\": 0.9299369990022758}, {\"timestamp\": \"2022-08-14T23:00:05\", \"season\": 6273, \"variable\": \"unharvestable_ratio\", \"value\": 0.9299369990022758, \"unharvestable_pods\": 763291117.869234, \"harvested_pods\": 57504141.760129, \"harvestable_pods\": 3481.240357004106, \"unharvestable_ratio\": 0.9299369990022758}, {\"timestamp\": \"2022-08-15T23:00:00\", \"season\": 6297, \"variable\": \"unharvestable_pods\", \"value\": 763463077.863413, \"unharvestable_pods\": 763463077.863413, \"harvested_pods\": 57504141.760129, \"harvestable_pods\": 7267.862732999027, \"unharvestable_ratio\": 0.9299473850899375}, {\"timestamp\": \"2022-08-15T23:00:00\", \"season\": 6297, \"variable\": \"harvested_pods\", \"value\": 57504141.760129, \"unharvestable_pods\": 763463077.863413, \"harvested_pods\": 57504141.760129, \"harvestable_pods\": 7267.862732999027, \"unharvestable_ratio\": 0.9299473850899375}, {\"timestamp\": \"2022-08-15T23:00:00\", \"season\": 6297, \"variable\": \"harvestable_pods\", \"value\": 7267.862732999027, \"unharvestable_pods\": 763463077.863413, \"harvested_pods\": 57504141.760129, \"harvestable_pods\": 7267.862732999027, \"unharvestable_ratio\": 0.9299473850899375}, {\"timestamp\": \"2022-08-15T23:00:00\", \"season\": 6297, \"variable\": \"unharvestable_ratio\", \"value\": 0.9299473850899375, \"unharvestable_pods\": 763463077.863413, \"harvested_pods\": 57504141.760129, \"harvestable_pods\": 7267.862732999027, \"unharvestable_ratio\": 0.9299473850899375}, {\"timestamp\": \"2022-08-16T23:00:20\", \"season\": 6321, \"variable\": \"unharvestable_ratio\", \"value\": 0.9299407513120793, \"unharvestable_pods\": 763460255.930401, \"harvested_pods\": 57504141.760129, \"harvestable_pods\": 12911.727531000972, \"unharvestable_ratio\": 0.9299407513120793}, {\"timestamp\": \"2022-08-16T23:00:20\", \"season\": 6321, \"variable\": \"harvestable_pods\", \"value\": 12911.727531000972, \"unharvestable_pods\": 763460255.930401, \"harvested_pods\": 57504141.760129, \"harvestable_pods\": 12911.727531000972, \"unharvestable_ratio\": 0.9299407513120793}, {\"timestamp\": \"2022-08-16T23:00:20\", \"season\": 6321, \"variable\": \"unharvestable_pods\", \"value\": 763460255.930401, \"unharvestable_pods\": 763460255.930401, \"harvested_pods\": 57504141.760129, \"harvestable_pods\": 12911.727531000972, \"unharvestable_ratio\": 0.9299407513120793}, {\"timestamp\": \"2022-08-16T23:00:20\", \"season\": 6321, \"variable\": \"harvested_pods\", \"value\": 57504141.760129, \"unharvestable_pods\": 763460255.930401, \"harvested_pods\": 57504141.760129, \"harvestable_pods\": 12911.727531000972, \"unharvestable_ratio\": 0.9299407513120793}, {\"timestamp\": \"2022-08-17T23:00:15\", \"season\": 6345, \"variable\": \"unharvestable_pods\", \"value\": 763458967.744099, \"unharvestable_pods\": 763458967.744099, \"harvested_pods\": 57518215.745694, \"harvestable_pods\": 1414.1133720055223, \"unharvestable_ratio\": 0.9299377230697685}, {\"timestamp\": \"2022-08-17T23:00:15\", \"season\": 6345, \"variable\": \"harvested_pods\", \"value\": 57518215.745694, \"unharvestable_pods\": 763458967.744099, \"harvested_pods\": 57518215.745694, \"harvestable_pods\": 1414.1133720055223, \"unharvestable_ratio\": 0.9299377230697685}, {\"timestamp\": \"2022-08-17T23:00:15\", \"season\": 6345, \"variable\": \"harvestable_pods\", \"value\": 1414.1133720055223, \"unharvestable_pods\": 763458967.744099, \"harvested_pods\": 57518215.745694, \"harvestable_pods\": 1414.1133720055223, \"unharvestable_ratio\": 0.9299377230697685}, {\"timestamp\": \"2022-08-17T23:00:15\", \"season\": 6345, \"variable\": \"unharvestable_ratio\", \"value\": 0.9299377230697685, \"unharvestable_pods\": 763458967.744099, \"harvested_pods\": 57518215.745694, \"harvestable_pods\": 1414.1133720055223, \"unharvestable_ratio\": 0.9299377230697685}, {\"timestamp\": \"2022-08-18T23:00:38\", \"season\": 6369, \"variable\": \"unharvestable_ratio\", \"value\": 0.929937267399963, \"unharvestable_pods\": 763472564.965013, \"harvested_pods\": 57518215.745694, \"harvestable_pods\": 2840.8263960033655, \"unharvestable_ratio\": 0.929937267399963}, {\"timestamp\": \"2022-08-18T23:00:38\", \"season\": 6369, \"variable\": \"unharvestable_pods\", \"value\": 763472564.965013, \"unharvestable_pods\": 763472564.965013, \"harvested_pods\": 57518215.745694, \"harvestable_pods\": 2840.8263960033655, \"unharvestable_ratio\": 0.929937267399963}, {\"timestamp\": \"2022-08-18T23:00:38\", \"season\": 6369, \"variable\": \"harvested_pods\", \"value\": 57518215.745694, \"unharvestable_pods\": 763472564.965013, \"harvested_pods\": 57518215.745694, \"harvestable_pods\": 2840.8263960033655, \"unharvestable_ratio\": 0.929937267399963}, {\"timestamp\": \"2022-08-18T23:00:38\", \"season\": 6369, \"variable\": \"harvestable_pods\", \"value\": 2840.8263960033655, \"unharvestable_pods\": 763472564.965013, \"harvested_pods\": 57518215.745694, \"harvestable_pods\": 2840.8263960033655, \"unharvestable_ratio\": 0.929937267399963}, {\"timestamp\": \"2022-08-19T23:00:06\", \"season\": 6393, \"variable\": \"unharvestable_ratio\", \"value\": 0.9299350995346402, \"unharvestable_pods\": 763471642.755329, \"harvested_pods\": 57518215.745694, \"harvestable_pods\": 4685.24443500489, \"unharvestable_ratio\": 0.9299350995346402}, {\"timestamp\": \"2022-08-19T23:00:06\", \"season\": 6393, \"variable\": \"harvestable_pods\", \"value\": 4685.24443500489, \"unharvestable_pods\": 763471642.755329, \"harvested_pods\": 57518215.745694, \"harvestable_pods\": 4685.24443500489, \"unharvestable_ratio\": 0.9299350995346402}, {\"timestamp\": \"2022-08-19T23:00:06\", \"season\": 6393, \"variable\": \"unharvestable_pods\", \"value\": 763471642.755329, \"unharvestable_pods\": 763471642.755329, \"harvested_pods\": 57518215.745694, \"harvestable_pods\": 4685.24443500489, \"unharvestable_ratio\": 0.9299350995346402}, {\"timestamp\": \"2022-08-19T23:00:06\", \"season\": 6393, \"variable\": \"harvested_pods\", \"value\": 57518215.745694, \"unharvestable_pods\": 763471642.755329, \"harvested_pods\": 57518215.745694, \"harvestable_pods\": 4685.24443500489, \"unharvestable_ratio\": 0.9299350995346402}, {\"timestamp\": \"2022-08-20T23:00:38\", \"season\": 6417, \"variable\": \"harvestable_pods\", \"value\": 7094.641499005258, \"unharvestable_pods\": 763543634.701689, \"harvested_pods\": 57518215.745694, \"harvestable_pods\": 7094.641499005258, \"unharvestable_ratio\": 0.929938514017278}, {\"timestamp\": \"2022-08-20T23:00:38\", \"season\": 6417, \"variable\": \"unharvestable_pods\", \"value\": 763543634.701689, \"unharvestable_pods\": 763543634.701689, \"harvested_pods\": 57518215.745694, \"harvestable_pods\": 7094.641499005258, \"unharvestable_ratio\": 0.929938514017278}, {\"timestamp\": \"2022-08-20T23:00:38\", \"season\": 6417, \"variable\": \"harvested_pods\", \"value\": 57518215.745694, \"unharvestable_pods\": 763543634.701689, \"harvested_pods\": 57518215.745694, \"harvestable_pods\": 7094.641499005258, \"unharvestable_ratio\": 0.929938514017278}, {\"timestamp\": \"2022-08-20T23:00:38\", \"season\": 6417, \"variable\": \"unharvestable_ratio\", \"value\": 0.929938514017278, \"unharvestable_pods\": 763543634.701689, \"harvested_pods\": 57518215.745694, \"harvestable_pods\": 7094.641499005258, \"unharvestable_ratio\": 0.929938514017278}, {\"timestamp\": \"2022-08-21T23:00:14\", \"season\": 6441, \"variable\": \"unharvestable_ratio\", \"value\": 0.9299354946425535, \"unharvestable_pods\": 763545428.898951, \"harvested_pods\": 57528088.751133, \"harvestable_pods\": 22.716756999492645, \"unharvestable_ratio\": 0.9299354946425535}, {\"timestamp\": \"2022-08-21T23:00:14\", \"season\": 6441, \"variable\": \"harvestable_pods\", \"value\": 22.716756999492645, \"unharvestable_pods\": 763545428.898951, \"harvested_pods\": 57528088.751133, \"harvestable_pods\": 22.716756999492645, \"unharvestable_ratio\": 0.9299354946425535}, {\"timestamp\": \"2022-08-21T23:00:14\", \"season\": 6441, \"variable\": \"unharvestable_pods\", \"value\": 763545428.898951, \"unharvestable_pods\": 763545428.898951, \"harvested_pods\": 57528088.751133, \"harvestable_pods\": 22.716756999492645, \"unharvestable_ratio\": 0.9299354946425535}, {\"timestamp\": \"2022-08-21T23:00:14\", \"season\": 6441, \"variable\": \"harvested_pods\", \"value\": 57528088.751133, \"unharvestable_pods\": 763545428.898951, \"harvested_pods\": 57528088.751133, \"harvestable_pods\": 22.716756999492645, \"unharvestable_ratio\": 0.9299354946425535}, {\"timestamp\": \"2022-08-22T23:00:22\", \"season\": 6465, \"variable\": \"unharvestable_pods\", \"value\": 763544362.895725, \"unharvestable_pods\": 763544362.895725, \"harvested_pods\": 57528088.751133, \"harvestable_pods\": 2154.721969000995, \"unharvestable_ratio\": 0.9299329890038527}, {\"timestamp\": \"2022-08-22T23:00:22\", \"season\": 6465, \"variable\": \"harvested_pods\", \"value\": 57528088.751133, \"unharvestable_pods\": 763544362.895725, \"harvested_pods\": 57528088.751133, \"harvestable_pods\": 2154.721969000995, \"unharvestable_ratio\": 0.9299329890038527}, {\"timestamp\": \"2022-08-22T23:00:22\", \"season\": 6465, \"variable\": \"harvestable_pods\", \"value\": 2154.721969000995, \"unharvestable_pods\": 763544362.895725, \"harvested_pods\": 57528088.751133, \"harvestable_pods\": 2154.721969000995, \"unharvestable_ratio\": 0.9299329890038527}, {\"timestamp\": \"2022-08-22T23:00:22\", \"season\": 6465, \"variable\": \"unharvestable_ratio\", \"value\": 0.9299329890038527, \"unharvestable_pods\": 763544362.895725, \"harvested_pods\": 57528088.751133, \"harvestable_pods\": 2154.721969000995, \"unharvestable_ratio\": 0.9299329890038527}, {\"timestamp\": \"2022-08-23T23:01:12\", \"season\": 6489, \"variable\": \"unharvestable_pods\", \"value\": 763564525.824078, \"unharvestable_pods\": 763564525.824078, \"harvested_pods\": 57528088.751133, \"harvestable_pods\": 3653.9036019966006, \"unharvestable_ratio\": 0.9299330116780095}, {\"timestamp\": \"2022-08-23T23:01:12\", \"season\": 6489, \"variable\": \"harvested_pods\", \"value\": 57528088.751133, \"unharvestable_pods\": 763564525.824078, \"harvested_pods\": 57528088.751133, \"harvestable_pods\": 3653.9036019966006, \"unharvestable_ratio\": 0.9299330116780095}, {\"timestamp\": \"2022-08-23T23:01:12\", \"season\": 6489, \"variable\": \"harvestable_pods\", \"value\": 3653.9036019966006, \"unharvestable_pods\": 763564525.824078, \"harvested_pods\": 57528088.751133, \"harvestable_pods\": 3653.9036019966006, \"unharvestable_ratio\": 0.9299330116780095}, {\"timestamp\": \"2022-08-23T23:01:12\", \"season\": 6489, \"variable\": \"unharvestable_ratio\", \"value\": 0.9299330116780095, \"unharvestable_pods\": 763564525.824078, \"harvested_pods\": 57528088.751133, \"harvestable_pods\": 3653.9036019966006, \"unharvestable_ratio\": 0.9299330116780095}, {\"timestamp\": \"2022-08-24T23:00:02\", \"season\": 6513, \"variable\": \"unharvestable_ratio\", \"value\": 0.9299292726325505, \"unharvestable_pods\": 763562935.03134, \"harvested_pods\": 57533804.646497, \"harvestable_pods\": 1119.5924260020256, \"unharvestable_ratio\": 0.9299292726325505}, {\"timestamp\": \"2022-08-24T23:00:02\", \"season\": 6513, \"variable\": \"harvestable_pods\", \"value\": 1119.5924260020256, \"unharvestable_pods\": 763562935.03134, \"harvested_pods\": 57533804.646497, \"harvestable_pods\": 1119.5924260020256, \"unharvestable_ratio\": 0.9299292726325505}, {\"timestamp\": \"2022-08-24T23:00:02\", \"season\": 6513, \"variable\": \"unharvestable_pods\", \"value\": 763562935.03134, \"unharvestable_pods\": 763562935.03134, \"harvested_pods\": 57533804.646497, \"harvestable_pods\": 1119.5924260020256, \"unharvestable_ratio\": 0.9299292726325505}, {\"timestamp\": \"2022-08-24T23:00:02\", \"season\": 6513, \"variable\": \"harvested_pods\", \"value\": 57533804.646497, \"unharvestable_pods\": 763562935.03134, \"harvested_pods\": 57533804.646497, \"harvestable_pods\": 1119.5924260020256, \"unharvestable_ratio\": 0.9299292726325505}, {\"timestamp\": \"2022-08-25T23:00:43\", \"season\": 6537, \"variable\": \"unharvestable_pods\", \"value\": 763561463.179522, \"unharvestable_pods\": 763561463.179522, \"harvested_pods\": 57533804.646497, \"harvestable_pods\": 4308.420289002359, \"unharvestable_ratio\": 0.9299255355485336}, {\"timestamp\": \"2022-08-25T23:00:43\", \"season\": 6537, \"variable\": \"harvested_pods\", \"value\": 57533804.646497, \"unharvestable_pods\": 763561463.179522, \"harvested_pods\": 57533804.646497, \"harvestable_pods\": 4308.420289002359, \"unharvestable_ratio\": 0.9299255355485336}, {\"timestamp\": \"2022-08-25T23:00:43\", \"season\": 6537, \"variable\": \"harvestable_pods\", \"value\": 4308.420289002359, \"unharvestable_pods\": 763561463.179522, \"harvested_pods\": 57533804.646497, \"harvestable_pods\": 4308.420289002359, \"unharvestable_ratio\": 0.9299255355485336}, {\"timestamp\": \"2022-08-25T23:00:43\", \"season\": 6537, \"variable\": \"unharvestable_ratio\", \"value\": 0.9299255355485336, \"unharvestable_pods\": 763561463.179522, \"harvested_pods\": 57533804.646497, \"harvestable_pods\": 4308.420289002359, \"unharvestable_ratio\": 0.9299255355485336}, {\"timestamp\": \"2022-08-26T23:00:18\", \"season\": 6561, \"variable\": \"harvestable_pods\", \"value\": 518.6114839985967, \"unharvestable_pods\": 763560022.577722, \"harvested_pods\": 57540475.657702, \"harvestable_pods\": 518.6114839985967, \"unharvestable_ratio\": 0.9299221495423938}, {\"timestamp\": \"2022-08-26T23:00:18\", \"season\": 6561, \"variable\": \"unharvestable_ratio\", \"value\": 0.9299221495423938, \"unharvestable_pods\": 763560022.577722, \"harvested_pods\": 57540475.657702, \"harvestable_pods\": 518.6114839985967, \"unharvestable_ratio\": 0.9299221495423938}, {\"timestamp\": \"2022-08-26T23:00:18\", \"season\": 6561, \"variable\": \"harvested_pods\", \"value\": 57540475.657702, \"unharvestable_pods\": 763560022.577722, \"harvested_pods\": 57540475.657702, \"harvestable_pods\": 518.6114839985967, \"unharvestable_ratio\": 0.9299221495423938}, {\"timestamp\": \"2022-08-26T23:00:18\", \"season\": 6561, \"variable\": \"unharvestable_pods\", \"value\": 763560022.577722, \"unharvestable_pods\": 763560022.577722, \"harvested_pods\": 57540475.657702, \"harvestable_pods\": 518.6114839985967, \"unharvestable_ratio\": 0.9299221495423938}, {\"timestamp\": \"2022-08-27T23:00:24\", \"season\": 6585, \"variable\": \"unharvestable_pods\", \"value\": 763558896.090045, \"unharvestable_pods\": 763558896.090045, \"harvested_pods\": 57540475.657702, \"harvestable_pods\": 2340.2299410030246, \"unharvestable_ratio\": 0.9299199903638654}, {\"timestamp\": \"2022-08-27T23:00:24\", \"season\": 6585, \"variable\": \"harvested_pods\", \"value\": 57540475.657702, \"unharvestable_pods\": 763558896.090045, \"harvested_pods\": 57540475.657702, \"harvestable_pods\": 2340.2299410030246, \"unharvestable_ratio\": 0.9299199903638654}, {\"timestamp\": \"2022-08-27T23:00:24\", \"season\": 6585, \"variable\": \"harvestable_pods\", \"value\": 2340.2299410030246, \"unharvestable_pods\": 763558896.090045, \"harvested_pods\": 57540475.657702, \"harvestable_pods\": 2340.2299410030246, \"unharvestable_ratio\": 0.9299199903638654}, {\"timestamp\": \"2022-08-27T23:00:24\", \"season\": 6585, \"variable\": \"unharvestable_ratio\", \"value\": 0.9299199903638654, \"unharvestable_pods\": 763558896.090045, \"harvested_pods\": 57540475.657702, \"harvestable_pods\": 2340.2299410030246, \"unharvestable_ratio\": 0.9299199903638654}, {\"timestamp\": \"2022-08-28T23:00:05\", \"season\": 6609, \"variable\": \"unharvestable_pods\", \"value\": 763938556.536028, \"unharvestable_pods\": 763938556.536028, \"harvested_pods\": 57543673.69252, \"harvestable_pods\": 97.33992499858141, \"unharvestable_ratio\": 0.9299512976709184}, {\"timestamp\": \"2022-08-28T23:00:05\", \"season\": 6609, \"variable\": \"harvested_pods\", \"value\": 57543673.69252, \"unharvestable_pods\": 763938556.536028, \"harvested_pods\": 57543673.69252, \"harvestable_pods\": 97.33992499858141, \"unharvestable_ratio\": 0.9299512976709184}, {\"timestamp\": \"2022-08-28T23:00:05\", \"season\": 6609, \"variable\": \"harvestable_pods\", \"value\": 97.33992499858141, \"unharvestable_pods\": 763938556.536028, \"harvested_pods\": 57543673.69252, \"harvestable_pods\": 97.33992499858141, \"unharvestable_ratio\": 0.9299512976709184}, {\"timestamp\": \"2022-08-28T23:00:05\", \"season\": 6609, \"variable\": \"unharvestable_ratio\", \"value\": 0.9299512976709184, \"unharvestable_pods\": 763938556.536028, \"harvested_pods\": 57543673.69252, \"harvestable_pods\": 97.33992499858141, \"unharvestable_ratio\": 0.9299512976709184}, {\"timestamp\": \"2022-08-29T23:00:40\", \"season\": 6633, \"variable\": \"unharvestable_ratio\", \"value\": 0.9299505326161449, \"unharvestable_pods\": 763938659.026109, \"harvested_pods\": 57543673.69252, \"harvestable_pods\": 780.8798869997263, \"unharvestable_ratio\": 0.9299505326161449}, {\"timestamp\": \"2022-08-29T23:00:40\", \"season\": 6633, \"variable\": \"unharvestable_pods\", \"value\": 763938659.026109, \"unharvestable_pods\": 763938659.026109, \"harvested_pods\": 57543673.69252, \"harvestable_pods\": 780.8798869997263, \"unharvestable_ratio\": 0.9299505326161449}, {\"timestamp\": \"2022-08-29T23:00:40\", \"season\": 6633, \"variable\": \"harvested_pods\", \"value\": 57543673.69252, \"unharvestable_pods\": 763938659.026109, \"harvested_pods\": 57543673.69252, \"harvestable_pods\": 780.8798869997263, \"unharvestable_ratio\": 0.9299505326161449}, {\"timestamp\": \"2022-08-29T23:00:40\", \"season\": 6633, \"variable\": \"harvestable_pods\", \"value\": 780.8798869997263, \"unharvestable_pods\": 763938659.026109, \"harvested_pods\": 57543673.69252, \"harvestable_pods\": 780.8798869997263, \"unharvestable_ratio\": 0.9299505326161449}, {\"timestamp\": \"2022-08-30T23:00:14\", \"season\": 6657, \"variable\": \"harvestable_pods\", \"value\": 2080.658766001463, \"unharvestable_pods\": 765390695.762261, \"harvested_pods\": 57543673.69252, \"harvestable_pods\": 2080.658766001463, \"unharvestable_ratio\": 0.9300726631523661}, {\"timestamp\": \"2022-08-30T23:00:14\", \"season\": 6657, \"variable\": \"unharvestable_ratio\", \"value\": 0.9300726631523661, \"unharvestable_pods\": 765390695.762261, \"harvested_pods\": 57543673.69252, \"harvestable_pods\": 2080.658766001463, \"unharvestable_ratio\": 0.9300726631523661}, {\"timestamp\": \"2022-08-30T23:00:14\", \"season\": 6657, \"variable\": \"unharvestable_pods\", \"value\": 765390695.762261, \"unharvestable_pods\": 765390695.762261, \"harvested_pods\": 57543673.69252, \"harvestable_pods\": 2080.658766001463, \"unharvestable_ratio\": 0.9300726631523661}, {\"timestamp\": \"2022-08-30T23:00:14\", \"season\": 6657, \"variable\": \"harvested_pods\", \"value\": 57543673.69252, \"unharvestable_pods\": 765390695.762261, \"harvested_pods\": 57543673.69252, \"harvestable_pods\": 2080.658766001463, \"unharvestable_ratio\": 0.9300726631523661}, {\"timestamp\": \"2022-08-31T23:00:02\", \"season\": 6681, \"variable\": \"harvestable_pods\", \"value\": 3097.5343099981546, \"unharvestable_pods\": 765440254.828741, \"harvested_pods\": 57543673.69252, \"harvestable_pods\": 3097.5343099981546, \"unharvestable_ratio\": 0.9300757248839737}, {\"timestamp\": \"2022-08-31T23:00:02\", \"season\": 6681, \"variable\": \"unharvestable_ratio\", \"value\": 0.9300757248839737, \"unharvestable_pods\": 765440254.828741, \"harvested_pods\": 57543673.69252, \"harvestable_pods\": 3097.5343099981546, \"unharvestable_ratio\": 0.9300757248839737}, {\"timestamp\": \"2022-08-31T23:00:02\", \"season\": 6681, \"variable\": \"unharvestable_pods\", \"value\": 765440254.828741, \"unharvestable_pods\": 765440254.828741, \"harvested_pods\": 57543673.69252, \"harvestable_pods\": 3097.5343099981546, \"unharvestable_ratio\": 0.9300757248839737}, {\"timestamp\": \"2022-08-31T23:00:02\", \"season\": 6681, \"variable\": \"harvested_pods\", \"value\": 57543673.69252, \"unharvestable_pods\": 765440254.828741, \"harvested_pods\": 57543673.69252, \"harvestable_pods\": 3097.5343099981546, \"unharvestable_ratio\": 0.9300757248839737}, {\"timestamp\": \"2022-09-01T23:00:03\", \"season\": 6705, \"variable\": \"unharvestable_ratio\", \"value\": 0.9301107912145435, \"unharvestable_pods\": 765875955.361504, \"harvested_pods\": 57547553.433924, \"harvestable_pods\": 929.0195760056376, \"unharvestable_ratio\": 0.9301107912145435}, {\"timestamp\": \"2022-09-01T23:00:03\", \"season\": 6705, \"variable\": \"harvestable_pods\", \"value\": 929.0195760056376, \"unharvestable_pods\": 765875955.361504, \"harvested_pods\": 57547553.433924, \"harvestable_pods\": 929.0195760056376, \"unharvestable_ratio\": 0.9301107912145435}, {\"timestamp\": \"2022-09-01T23:00:03\", \"season\": 6705, \"variable\": \"unharvestable_pods\", \"value\": 765875955.361504, \"unharvestable_pods\": 765875955.361504, \"harvested_pods\": 57547553.433924, \"harvestable_pods\": 929.0195760056376, \"unharvestable_ratio\": 0.9301107912145435}, {\"timestamp\": \"2022-09-01T23:00:03\", \"season\": 6705, \"variable\": \"harvested_pods\", \"value\": 57547553.433924, \"unharvestable_pods\": 765875955.361504, \"harvested_pods\": 57547553.433924, \"harvestable_pods\": 929.0195760056376, \"unharvestable_ratio\": 0.9301107912145435}, {\"timestamp\": \"2022-09-02T23:00:12\", \"season\": 6729, \"variable\": \"unharvestable_pods\", \"value\": 766519966.752764, \"unharvestable_pods\": 766519966.752764, \"harvested_pods\": 57547553.433924, \"harvestable_pods\": 2762.4343330040574, \"unharvestable_ratio\": 0.9301633403340143}, {\"timestamp\": \"2022-09-02T23:00:12\", \"season\": 6729, \"variable\": \"harvested_pods\", \"value\": 57547553.433924, \"unharvestable_pods\": 766519966.752764, \"harvested_pods\": 57547553.433924, \"harvestable_pods\": 2762.4343330040574, \"unharvestable_ratio\": 0.9301633403340143}, {\"timestamp\": \"2022-09-02T23:00:12\", \"season\": 6729, \"variable\": \"harvestable_pods\", \"value\": 2762.4343330040574, \"unharvestable_pods\": 766519966.752764, \"harvested_pods\": 57547553.433924, \"harvestable_pods\": 2762.4343330040574, \"unharvestable_ratio\": 0.9301633403340143}, {\"timestamp\": \"2022-09-02T23:00:12\", \"season\": 6729, \"variable\": \"unharvestable_ratio\", \"value\": 0.9301633403340143, \"unharvestable_pods\": 766519966.752764, \"harvested_pods\": 57547553.433924, \"harvestable_pods\": 2762.4343330040574, \"unharvestable_ratio\": 0.9301633403340143}, {\"timestamp\": \"2022-09-03T23:00:07\", \"season\": 6753, \"variable\": \"unharvestable_pods\", \"value\": 767454253.545366, \"unharvestable_pods\": 767454253.545366, \"harvested_pods\": 57551065.336568, \"harvestable_pods\": 478.23120199888945, \"unharvestable_ratio\": 0.9302410434336891}, {\"timestamp\": \"2022-09-03T23:00:07\", \"season\": 6753, \"variable\": \"harvested_pods\", \"value\": 57551065.336568, \"unharvestable_pods\": 767454253.545366, \"harvested_pods\": 57551065.336568, \"harvestable_pods\": 478.23120199888945, \"unharvestable_ratio\": 0.9302410434336891}, {\"timestamp\": \"2022-09-03T23:00:07\", \"season\": 6753, \"variable\": \"harvestable_pods\", \"value\": 478.23120199888945, \"unharvestable_pods\": 767454253.545366, \"harvested_pods\": 57551065.336568, \"harvestable_pods\": 478.23120199888945, \"unharvestable_ratio\": 0.9302410434336891}, {\"timestamp\": \"2022-09-03T23:00:07\", \"season\": 6753, \"variable\": \"unharvestable_ratio\", \"value\": 0.9302410434336891, \"unharvestable_pods\": 767454253.545366, \"harvested_pods\": 57551065.336568, \"harvestable_pods\": 478.23120199888945, \"unharvestable_ratio\": 0.9302410434336891}, {\"timestamp\": \"2022-09-04T23:00:04\", \"season\": 6777, \"variable\": \"unharvestable_ratio\", \"value\": 0.9302397417843539, \"unharvestable_pods\": 767453708.699123, \"harvested_pods\": 57551065.336568, \"harvestable_pods\": 1591.7717080041766, \"unharvestable_ratio\": 0.9302397417843539}, {\"timestamp\": \"2022-09-04T23:00:04\", \"season\": 6777, \"variable\": \"harvestable_pods\", \"value\": 1591.7717080041766, \"unharvestable_pods\": 767453708.699123, \"harvested_pods\": 57551065.336568, \"harvestable_pods\": 1591.7717080041766, \"unharvestable_ratio\": 0.9302397417843539}, {\"timestamp\": \"2022-09-04T23:00:04\", \"season\": 6777, \"variable\": \"unharvestable_pods\", \"value\": 767453708.699123, \"unharvestable_pods\": 767453708.699123, \"harvested_pods\": 57551065.336568, \"harvestable_pods\": 1591.7717080041766, \"unharvestable_ratio\": 0.9302397417843539}, {\"timestamp\": \"2022-09-04T23:00:04\", \"season\": 6777, \"variable\": \"harvested_pods\", \"value\": 57551065.336568, \"unharvestable_pods\": 767453708.699123, \"harvested_pods\": 57551065.336568, \"harvestable_pods\": 1591.7717080041766, \"unharvestable_ratio\": 0.9302397417843539}, {\"timestamp\": \"2022-09-05T23:00:01\", \"season\": 6801, \"variable\": \"unharvestable_pods\", \"value\": 767473473.409257, \"unharvestable_pods\": 767473473.409257, \"harvested_pods\": 57551065.336568, \"harvestable_pods\": 2888.4421159997582, \"unharvestable_ratio\": 0.9302399509615658}, {\"timestamp\": \"2022-09-05T23:00:01\", \"season\": 6801, \"variable\": \"harvested_pods\", \"value\": 57551065.336568, \"unharvestable_pods\": 767473473.409257, \"harvested_pods\": 57551065.336568, \"harvestable_pods\": 2888.4421159997582, \"unharvestable_ratio\": 0.9302399509615658}, {\"timestamp\": \"2022-09-05T23:00:01\", \"season\": 6801, \"variable\": \"harvestable_pods\", \"value\": 2888.4421159997582, \"unharvestable_pods\": 767473473.409257, \"harvested_pods\": 57551065.336568, \"harvestable_pods\": 2888.4421159997582, \"unharvestable_ratio\": 0.9302399509615658}, {\"timestamp\": \"2022-09-05T23:00:01\", \"season\": 6801, \"variable\": \"unharvestable_ratio\", \"value\": 0.9302399509615658, \"unharvestable_pods\": 767473473.409257, \"harvested_pods\": 57551065.336568, \"harvestable_pods\": 2888.4421159997582, \"unharvestable_ratio\": 0.9302399509615658}, {\"timestamp\": \"2022-09-06T23:00:27\", \"season\": 6825, \"variable\": \"unharvestable_ratio\", \"value\": 0.930239742236094, \"unharvestable_pods\": 767479116.280552, \"harvested_pods\": 57551065.336568, \"harvestable_pods\": 3496.7287430018187, \"unharvestable_ratio\": 0.930239742236094}, {\"timestamp\": \"2022-09-06T23:00:27\", \"season\": 6825, \"variable\": \"harvestable_pods\", \"value\": 3496.7287430018187, \"unharvestable_pods\": 767479116.280552, \"harvested_pods\": 57551065.336568, \"harvestable_pods\": 3496.7287430018187, \"unharvestable_ratio\": 0.930239742236094}, {\"timestamp\": \"2022-09-06T23:00:27\", \"season\": 6825, \"variable\": \"harvested_pods\", \"value\": 57551065.336568, \"unharvestable_pods\": 767479116.280552, \"harvested_pods\": 57551065.336568, \"harvestable_pods\": 3496.7287430018187, \"unharvestable_ratio\": 0.930239742236094}, {\"timestamp\": \"2022-09-06T23:00:27\", \"season\": 6825, \"variable\": \"unharvestable_pods\", \"value\": 767479116.280552, \"unharvestable_pods\": 767479116.280552, \"harvested_pods\": 57551065.336568, \"harvestable_pods\": 3496.7287430018187, \"unharvestable_ratio\": 0.930239742236094}, {\"timestamp\": \"2022-09-07T23:00:10\", \"season\": 6849, \"variable\": \"unharvestable_pods\", \"value\": 767513446.612238, \"unharvestable_pods\": 767513446.612238, \"harvested_pods\": 57554631.732468, \"harvestable_pods\": 385.4731469973922, \"unharvestable_ratio\": 0.930242131738632}, {\"timestamp\": \"2022-09-07T23:00:10\", \"season\": 6849, \"variable\": \"harvested_pods\", \"value\": 57554631.732468, \"unharvestable_pods\": 767513446.612238, \"harvested_pods\": 57554631.732468, \"harvestable_pods\": 385.4731469973922, \"unharvestable_ratio\": 0.930242131738632}, {\"timestamp\": \"2022-09-07T23:00:10\", \"season\": 6849, \"variable\": \"harvestable_pods\", \"value\": 385.4731469973922, \"unharvestable_pods\": 767513446.612238, \"harvested_pods\": 57554631.732468, \"harvestable_pods\": 385.4731469973922, \"unharvestable_ratio\": 0.930242131738632}, {\"timestamp\": \"2022-09-07T23:00:10\", \"season\": 6849, \"variable\": \"unharvestable_ratio\", \"value\": 0.930242131738632, \"unharvestable_pods\": 767513446.612238, \"harvested_pods\": 57554631.732468, \"harvestable_pods\": 385.4731469973922, \"unharvestable_ratio\": 0.930242131738632}, {\"timestamp\": \"2022-09-08T23:00:04\", \"season\": 6873, \"variable\": \"harvestable_pods\", \"value\": 1615.2813609987497, \"unharvestable_pods\": 767548896.70357, \"harvested_pods\": 57554631.732468, \"harvestable_pods\": 1615.2813609987497, \"unharvestable_ratio\": 0.9302437423253512}, {\"timestamp\": \"2022-09-08T23:00:04\", \"season\": 6873, \"variable\": \"unharvestable_ratio\", \"value\": 0.9302437423253512, \"unharvestable_pods\": 767548896.70357, \"harvested_pods\": 57554631.732468, \"harvestable_pods\": 1615.2813609987497, \"unharvestable_ratio\": 0.9302437423253512}, {\"timestamp\": \"2022-09-08T23:00:04\", \"season\": 6873, \"variable\": \"unharvestable_pods\", \"value\": 767548896.70357, \"unharvestable_pods\": 767548896.70357, \"harvested_pods\": 57554631.732468, \"harvestable_pods\": 1615.2813609987497, \"unharvestable_ratio\": 0.9302437423253512}, {\"timestamp\": \"2022-09-08T23:00:04\", \"season\": 6873, \"variable\": \"harvested_pods\", \"value\": 57554631.732468, \"unharvestable_pods\": 767548896.70357, \"harvested_pods\": 57554631.732468, \"harvestable_pods\": 1615.2813609987497, \"unharvestable_ratio\": 0.9302437423253512}, {\"timestamp\": \"2022-09-09T23:00:00\", \"season\": 6897, \"variable\": \"unharvestable_pods\", \"value\": 767549900.926851, \"unharvestable_pods\": 767549900.926851, \"harvested_pods\": 57554631.732468, \"harvestable_pods\": 2199.2506139948964, \"unharvestable_ratio\": 0.930243168844531}, {\"timestamp\": \"2022-09-09T23:00:00\", \"season\": 6897, \"variable\": \"harvested_pods\", \"value\": 57554631.732468, \"unharvestable_pods\": 767549900.926851, \"harvested_pods\": 57554631.732468, \"harvestable_pods\": 2199.2506139948964, \"unharvestable_ratio\": 0.930243168844531}, {\"timestamp\": \"2022-09-09T23:00:00\", \"season\": 6897, \"variable\": \"harvestable_pods\", \"value\": 2199.2506139948964, \"unharvestable_pods\": 767549900.926851, \"harvested_pods\": 57554631.732468, \"harvestable_pods\": 2199.2506139948964, \"unharvestable_ratio\": 0.930243168844531}, {\"timestamp\": \"2022-09-09T23:00:00\", \"season\": 6897, \"variable\": \"unharvestable_ratio\", \"value\": 0.930243168844531, \"unharvestable_pods\": 767549900.926851, \"harvested_pods\": 57554631.732468, \"harvestable_pods\": 2199.2506139948964, \"unharvestable_ratio\": 0.930243168844531}, {\"timestamp\": \"2022-09-10T23:00:34\", \"season\": 6921, \"variable\": \"harvestable_pods\", \"value\": 2638.477678000927, \"unharvestable_pods\": 767552671.287054, \"harvested_pods\": 57554631.732468, \"harvestable_pods\": 2638.477678000927, \"unharvestable_ratio\": 0.9302429078654588}, {\"timestamp\": \"2022-09-10T23:00:34\", \"season\": 6921, \"variable\": \"unharvestable_pods\", \"value\": 767552671.287054, \"unharvestable_pods\": 767552671.287054, \"harvested_pods\": 57554631.732468, \"harvestable_pods\": 2638.477678000927, \"unharvestable_ratio\": 0.9302429078654588}, {\"timestamp\": \"2022-09-10T23:00:34\", \"season\": 6921, \"variable\": \"harvested_pods\", \"value\": 57554631.732468, \"unharvestable_pods\": 767552671.287054, \"harvested_pods\": 57554631.732468, \"harvestable_pods\": 2638.477678000927, \"unharvestable_ratio\": 0.9302429078654588}, {\"timestamp\": \"2022-09-10T23:00:34\", \"season\": 6921, \"variable\": \"unharvestable_ratio\", \"value\": 0.9302429078654588, \"unharvestable_pods\": 767552671.287054, \"harvested_pods\": 57554631.732468, \"harvestable_pods\": 2638.477678000927, \"unharvestable_ratio\": 0.9302429078654588}, {\"timestamp\": \"2022-09-11T23:00:03\", \"season\": 6945, \"variable\": \"unharvestable_ratio\", \"value\": 0.9302426841322201, \"unharvestable_pods\": 767554695.684116, \"harvested_pods\": 57554631.732468, \"harvestable_pods\": 2988.73146700114, \"unharvestable_ratio\": 0.9302426841322201}, {\"timestamp\": \"2022-09-11T23:00:03\", \"season\": 6945, \"variable\": \"harvestable_pods\", \"value\": 2988.73146700114, \"unharvestable_pods\": 767554695.684116, \"harvested_pods\": 57554631.732468, \"harvestable_pods\": 2988.73146700114, \"unharvestable_ratio\": 0.9302426841322201}, {\"timestamp\": \"2022-09-11T23:00:03\", \"season\": 6945, \"variable\": \"harvested_pods\", \"value\": 57554631.732468, \"unharvestable_pods\": 767554695.684116, \"harvested_pods\": 57554631.732468, \"harvestable_pods\": 2988.73146700114, \"unharvestable_ratio\": 0.9302426841322201}, {\"timestamp\": \"2022-09-11T23:00:03\", \"season\": 6945, \"variable\": \"unharvestable_pods\", \"value\": 767554695.684116, \"unharvestable_pods\": 767554695.684116, \"harvested_pods\": 57554631.732468, \"harvestable_pods\": 2988.73146700114, \"unharvestable_ratio\": 0.9302426841322201}, {\"timestamp\": \"2022-09-12T23:00:06\", \"season\": 6969, \"variable\": \"unharvestable_pods\", \"value\": 767627793.64817, \"unharvestable_pods\": 767627793.64817, \"harvested_pods\": 57557862.062926, \"harvestable_pods\": 108.88768199831247, \"unharvestable_ratio\": 0.9302484683814269}, {\"timestamp\": \"2022-09-12T23:00:06\", \"season\": 6969, \"variable\": \"harvested_pods\", \"value\": 57557862.062926, \"unharvestable_pods\": 767627793.64817, \"harvested_pods\": 57557862.062926, \"harvestable_pods\": 108.88768199831247, \"unharvestable_ratio\": 0.9302484683814269}, {\"timestamp\": \"2022-09-12T23:00:06\", \"season\": 6969, \"variable\": \"harvestable_pods\", \"value\": 108.88768199831247, \"unharvestable_pods\": 767627793.64817, \"harvested_pods\": 57557862.062926, \"harvestable_pods\": 108.88768199831247, \"unharvestable_ratio\": 0.9302484683814269}, {\"timestamp\": \"2022-09-12T23:00:06\", \"season\": 6969, \"variable\": \"unharvestable_ratio\", \"value\": 0.9302484683814269, \"unharvestable_pods\": 767627793.64817, \"harvested_pods\": 57557862.062926, \"harvestable_pods\": 108.88768199831247, \"unharvestable_ratio\": 0.9302484683814269}, {\"timestamp\": \"2022-09-13T23:00:03\", \"season\": 6993, \"variable\": \"harvestable_pods\", \"value\": 451.63002199679613, \"unharvestable_pods\": 767629752.899316, \"harvested_pods\": 57557862.062926, \"harvestable_pods\": 451.63002199679613, \"unharvestable_ratio\": 0.9302482476138516}, {\"timestamp\": \"2022-09-13T23:00:03\", \"season\": 6993, \"variable\": \"unharvestable_ratio\", \"value\": 0.9302482476138516, \"unharvestable_pods\": 767629752.899316, \"harvested_pods\": 57557862.062926, \"harvestable_pods\": 451.63002199679613, \"unharvestable_ratio\": 0.9302482476138516}, {\"timestamp\": \"2022-09-13T23:00:03\", \"season\": 6993, \"variable\": \"unharvestable_pods\", \"value\": 767629752.899316, \"unharvestable_pods\": 767629752.899316, \"harvested_pods\": 57557862.062926, \"harvestable_pods\": 451.63002199679613, \"unharvestable_ratio\": 0.9302482476138516}, {\"timestamp\": \"2022-09-13T23:00:03\", \"season\": 6993, \"variable\": \"harvested_pods\", \"value\": 57557862.062926, \"unharvestable_pods\": 767629752.899316, \"harvested_pods\": 57557862.062926, \"harvestable_pods\": 451.63002199679613, \"unharvestable_ratio\": 0.9302482476138516}, {\"timestamp\": \"2022-09-14T23:00:07\", \"season\": 7017, \"variable\": \"unharvestable_pods\", \"value\": 767630034.885185, \"unharvestable_pods\": 767630034.885185, \"harvested_pods\": 57557862.062926, \"harvestable_pods\": 1068.147362999618, \"unharvestable_ratio\": 0.9302475764401074}, {\"timestamp\": \"2022-09-14T23:00:07\", \"season\": 7017, \"variable\": \"harvested_pods\", \"value\": 57557862.062926, \"unharvestable_pods\": 767630034.885185, \"harvested_pods\": 57557862.062926, \"harvestable_pods\": 1068.147362999618, \"unharvestable_ratio\": 0.9302475764401074}, {\"timestamp\": \"2022-09-14T23:00:07\", \"season\": 7017, \"variable\": \"harvestable_pods\", \"value\": 1068.147362999618, \"unharvestable_pods\": 767630034.885185, \"harvested_pods\": 57557862.062926, \"harvestable_pods\": 1068.147362999618, \"unharvestable_ratio\": 0.9302475764401074}, {\"timestamp\": \"2022-09-14T23:00:07\", \"season\": 7017, \"variable\": \"unharvestable_ratio\", \"value\": 0.9302475764401074, \"unharvestable_pods\": 767630034.885185, \"harvested_pods\": 57557862.062926, \"harvestable_pods\": 1068.147362999618, \"unharvestable_ratio\": 0.9302475764401074}, {\"timestamp\": \"2022-09-15T23:00:11\", \"season\": 7041, \"variable\": \"unharvestable_ratio\", \"value\": 0.930251820364326, \"unharvestable_pods\": 767684109.741445, \"harvested_pods\": 57557862.062926, \"harvestable_pods\": 1357.9434679970145, \"unharvestable_ratio\": 0.930251820364326}, {\"timestamp\": \"2022-09-15T23:00:11\", \"season\": 7041, \"variable\": \"unharvestable_pods\", \"value\": 767684109.741445, \"unharvestable_pods\": 767684109.741445, \"harvested_pods\": 57557862.062926, \"harvestable_pods\": 1357.9434679970145, \"unharvestable_ratio\": 0.930251820364326}, {\"timestamp\": \"2022-09-15T23:00:11\", \"season\": 7041, \"variable\": \"harvested_pods\", \"value\": 57557862.062926, \"unharvestable_pods\": 767684109.741445, \"harvested_pods\": 57557862.062926, \"harvestable_pods\": 1357.9434679970145, \"unharvestable_ratio\": 0.930251820364326}, {\"timestamp\": \"2022-09-15T23:00:11\", \"season\": 7041, \"variable\": \"harvestable_pods\", \"value\": 1357.9434679970145, \"unharvestable_pods\": 767684109.741445, \"harvested_pods\": 57557862.062926, \"harvestable_pods\": 1357.9434679970145, \"unharvestable_ratio\": 0.930251820364326}, {\"timestamp\": \"2022-09-16T23:00:11\", \"season\": 7065, \"variable\": \"harvestable_pods\", \"value\": 101.62187100201845, \"unharvestable_pods\": 768022023.133792, \"harvested_pods\": 57559429.921489, \"harvestable_pods\": 101.62187100201845, \"unharvestable_ratio\": 0.9302800175012765}, {\"timestamp\": \"2022-09-16T23:00:11\", \"season\": 7065, \"variable\": \"unharvestable_ratio\", \"value\": 0.9302800175012765, \"unharvestable_pods\": 768022023.133792, \"harvested_pods\": 57559429.921489, \"harvestable_pods\": 101.62187100201845, \"unharvestable_ratio\": 0.9302800175012765}, {\"timestamp\": \"2022-09-16T23:00:11\", \"season\": 7065, \"variable\": \"unharvestable_pods\", \"value\": 768022023.133792, \"unharvestable_pods\": 768022023.133792, \"harvested_pods\": 57559429.921489, \"harvestable_pods\": 101.62187100201845, \"unharvestable_ratio\": 0.9302800175012765}, {\"timestamp\": \"2022-09-16T23:00:11\", \"season\": 7065, \"variable\": \"harvested_pods\", \"value\": 57559429.921489, \"unharvestable_pods\": 768022023.133792, \"harvested_pods\": 57559429.921489, \"harvestable_pods\": 101.62187100201845, \"unharvestable_ratio\": 0.9302800175012765}, {\"timestamp\": \"2022-09-17T23:00:23\", \"season\": 7089, \"variable\": \"unharvestable_pods\", \"value\": 768022389.69056, \"unharvestable_pods\": 768022389.69056, \"harvested_pods\": 57559429.921489, \"harvestable_pods\": 338.23931500315666, \"unharvestable_ratio\": 0.9302797818322438}, {\"timestamp\": \"2022-09-17T23:00:23\", \"season\": 7089, \"variable\": \"harvested_pods\", \"value\": 57559429.921489, \"unharvestable_pods\": 768022389.69056, \"harvested_pods\": 57559429.921489, \"harvestable_pods\": 338.23931500315666, \"unharvestable_ratio\": 0.9302797818322438}, {\"timestamp\": \"2022-09-17T23:00:23\", \"season\": 7089, \"variable\": \"harvestable_pods\", \"value\": 338.23931500315666, \"unharvestable_pods\": 768022389.69056, \"harvested_pods\": 57559429.921489, \"harvestable_pods\": 338.23931500315666, \"unharvestable_ratio\": 0.9302797818322438}, {\"timestamp\": \"2022-09-17T23:00:23\", \"season\": 7089, \"variable\": \"unharvestable_ratio\", \"value\": 0.9302797818322438, \"unharvestable_pods\": 768022389.69056, \"harvested_pods\": 57559429.921489, \"harvestable_pods\": 338.23931500315666, \"unharvestable_ratio\": 0.9302797818322438}, {\"timestamp\": \"2022-09-18T23:00:11\", \"season\": 7113, \"variable\": \"unharvestable_pods\", \"value\": 768023072.049071, \"unharvestable_pods\": 768023072.049071, \"harvested_pods\": 57559429.921489, \"harvestable_pods\": 746.9602459967136, \"unharvestable_ratio\": 0.9302793789042112}, {\"timestamp\": \"2022-09-18T23:00:11\", \"season\": 7113, \"variable\": \"harvested_pods\", \"value\": 57559429.921489, \"unharvestable_pods\": 768023072.049071, \"harvested_pods\": 57559429.921489, \"harvestable_pods\": 746.9602459967136, \"unharvestable_ratio\": 0.9302793789042112}, {\"timestamp\": \"2022-09-18T23:00:11\", \"season\": 7113, \"variable\": \"harvestable_pods\", \"value\": 746.9602459967136, \"unharvestable_pods\": 768023072.049071, \"harvested_pods\": 57559429.921489, \"harvestable_pods\": 746.9602459967136, \"unharvestable_ratio\": 0.9302793789042112}, {\"timestamp\": \"2022-09-18T23:00:11\", \"season\": 7113, \"variable\": \"unharvestable_ratio\", \"value\": 0.9302793789042112, \"unharvestable_pods\": 768023072.049071, \"harvested_pods\": 57559429.921489, \"harvestable_pods\": 746.9602459967136, \"unharvestable_ratio\": 0.9302793789042112}, {\"timestamp\": \"2022-09-19T23:00:11\", \"season\": 7137, \"variable\": \"unharvestable_ratio\", \"value\": 0.9304474632945184, \"unharvestable_pods\": 770018997.650869, \"harvested_pods\": 57560211.939542, \"harvestable_pods\": 23.012785993516445, \"unharvestable_ratio\": 0.9304474632945184}, {\"timestamp\": \"2022-09-19T23:00:11\", \"season\": 7137, \"variable\": \"harvestable_pods\", \"value\": 23.012785993516445, \"unharvestable_pods\": 770018997.650869, \"harvested_pods\": 57560211.939542, \"harvestable_pods\": 23.012785993516445, \"unharvestable_ratio\": 0.9304474632945184}, {\"timestamp\": \"2022-09-19T23:00:11\", \"season\": 7137, \"variable\": \"harvested_pods\", \"value\": 57560211.939542, \"unharvestable_pods\": 770018997.650869, \"harvested_pods\": 57560211.939542, \"harvestable_pods\": 23.012785993516445, \"unharvestable_ratio\": 0.9304474632945184}, {\"timestamp\": \"2022-09-19T23:00:11\", \"season\": 7137, \"variable\": \"unharvestable_pods\", \"value\": 770018997.650869, \"unharvestable_pods\": 770018997.650869, \"harvested_pods\": 57560211.939542, \"harvestable_pods\": 23.012785993516445, \"unharvestable_ratio\": 0.9304474632945184}, {\"timestamp\": \"2022-09-20T23:00:11\", \"season\": 7161, \"variable\": \"unharvestable_pods\", \"value\": 770701075.086456, \"unharvestable_pods\": 770701075.086456, \"harvested_pods\": 57560211.939542, \"harvestable_pods\": 23.012785993516445, \"unharvestable_ratio\": 0.9305047401651143}, {\"timestamp\": \"2022-09-20T23:00:11\", \"season\": 7161, \"variable\": \"harvested_pods\", \"value\": 57560211.939542, \"unharvestable_pods\": 770701075.086456, \"harvested_pods\": 57560211.939542, \"harvestable_pods\": 23.012785993516445, \"unharvestable_ratio\": 0.9305047401651143}, {\"timestamp\": \"2022-09-20T23:00:11\", \"season\": 7161, \"variable\": \"harvestable_pods\", \"value\": 23.012785993516445, \"unharvestable_pods\": 770701075.086456, \"harvested_pods\": 57560211.939542, \"harvestable_pods\": 23.012785993516445, \"unharvestable_ratio\": 0.9305047401651143}, {\"timestamp\": \"2022-09-20T23:00:11\", \"season\": 7161, \"variable\": \"unharvestable_ratio\", \"value\": 0.9305047401651143, \"unharvestable_pods\": 770701075.086456, \"harvested_pods\": 57560211.939542, \"harvestable_pods\": 23.012785993516445, \"unharvestable_ratio\": 0.9305047401651143}, {\"timestamp\": \"2022-09-21T23:00:11\", \"season\": 7185, \"variable\": \"unharvestable_ratio\", \"value\": 0.9305188493178016, \"unharvestable_pods\": 770869265.526216, \"harvested_pods\": 57560211.939542, \"harvestable_pods\": 23.012785993516445, \"unharvestable_ratio\": 0.9305188493178016}, {\"timestamp\": \"2022-09-21T23:00:11\", \"season\": 7185, \"variable\": \"unharvestable_pods\", \"value\": 770869265.526216, \"unharvestable_pods\": 770869265.526216, \"harvested_pods\": 57560211.939542, \"harvestable_pods\": 23.012785993516445, \"unharvestable_ratio\": 0.9305188493178016}, {\"timestamp\": \"2022-09-21T23:00:11\", \"season\": 7185, \"variable\": \"harvested_pods\", \"value\": 57560211.939542, \"unharvestable_pods\": 770869265.526216, \"harvested_pods\": 57560211.939542, \"harvestable_pods\": 23.012785993516445, \"unharvestable_ratio\": 0.9305188493178016}, {\"timestamp\": \"2022-09-21T23:00:11\", \"season\": 7185, \"variable\": \"harvestable_pods\", \"value\": 23.012785993516445, \"unharvestable_pods\": 770869265.526216, \"harvested_pods\": 57560211.939542, \"harvestable_pods\": 23.012785993516445, \"unharvestable_ratio\": 0.9305188493178016}, {\"timestamp\": \"2022-09-22T23:00:11\", \"season\": 7209, \"variable\": \"unharvestable_ratio\", \"value\": 0.9305194472672641, \"unharvestable_pods\": 770876394.988419, \"harvested_pods\": 57560211.939542, \"harvestable_pods\": 23.012785993516445, \"unharvestable_ratio\": 0.9305194472672641}, {\"timestamp\": \"2022-09-22T23:00:11\", \"season\": 7209, \"variable\": \"harvestable_pods\", \"value\": 23.012785993516445, \"unharvestable_pods\": 770876394.988419, \"harvested_pods\": 57560211.939542, \"harvestable_pods\": 23.012785993516445, \"unharvestable_ratio\": 0.9305194472672641}, {\"timestamp\": \"2022-09-22T23:00:11\", \"season\": 7209, \"variable\": \"unharvestable_pods\", \"value\": 770876394.988419, \"unharvestable_pods\": 770876394.988419, \"harvested_pods\": 57560211.939542, \"harvestable_pods\": 23.012785993516445, \"unharvestable_ratio\": 0.9305194472672641}, {\"timestamp\": \"2022-09-22T23:00:11\", \"season\": 7209, \"variable\": \"harvested_pods\", \"value\": 57560211.939542, \"unharvestable_pods\": 770876394.988419, \"harvested_pods\": 57560211.939542, \"harvestable_pods\": 23.012785993516445, \"unharvestable_ratio\": 0.9305194472672641}, {\"timestamp\": \"2022-09-23T23:00:11\", \"season\": 7233, \"variable\": \"unharvestable_pods\", \"value\": 770889926.039077, \"unharvestable_pods\": 770889926.039077, \"harvested_pods\": 57560211.939542, \"harvestable_pods\": 23.012785993516445, \"unharvestable_ratio\": 0.9305205820909663}, {\"timestamp\": \"2022-09-23T23:00:11\", \"season\": 7233, \"variable\": \"harvested_pods\", \"value\": 57560211.939542, \"unharvestable_pods\": 770889926.039077, \"harvested_pods\": 57560211.939542, \"harvestable_pods\": 23.012785993516445, \"unharvestable_ratio\": 0.9305205820909663}, {\"timestamp\": \"2022-09-23T23:00:11\", \"season\": 7233, \"variable\": \"harvestable_pods\", \"value\": 23.012785993516445, \"unharvestable_pods\": 770889926.039077, \"harvested_pods\": 57560211.939542, \"harvestable_pods\": 23.012785993516445, \"unharvestable_ratio\": 0.9305205820909663}, {\"timestamp\": \"2022-09-23T23:00:11\", \"season\": 7233, \"variable\": \"unharvestable_ratio\", \"value\": 0.9305205820909663, \"unharvestable_pods\": 770889926.039077, \"harvested_pods\": 57560211.939542, \"harvestable_pods\": 23.012785993516445, \"unharvestable_ratio\": 0.9305205820909663}, {\"timestamp\": \"2022-09-24T23:00:11\", \"season\": 7257, \"variable\": \"unharvestable_pods\", \"value\": 771071744.864995, \"unharvestable_pods\": 771071744.864995, \"harvested_pods\": 57560211.939542, \"harvestable_pods\": 23.012785993516445, \"unharvestable_ratio\": 0.9305358272981239}, {\"timestamp\": \"2022-09-24T23:00:11\", \"season\": 7257, \"variable\": \"harvested_pods\", \"value\": 57560211.939542, \"unharvestable_pods\": 771071744.864995, \"harvested_pods\": 57560211.939542, \"harvestable_pods\": 23.012785993516445, \"unharvestable_ratio\": 0.9305358272981239}, {\"timestamp\": \"2022-09-24T23:00:11\", \"season\": 7257, \"variable\": \"harvestable_pods\", \"value\": 23.012785993516445, \"unharvestable_pods\": 771071744.864995, \"harvested_pods\": 57560211.939542, \"harvestable_pods\": 23.012785993516445, \"unharvestable_ratio\": 0.9305358272981239}, {\"timestamp\": \"2022-09-24T23:00:11\", \"season\": 7257, \"variable\": \"unharvestable_ratio\", \"value\": 0.9305358272981239, \"unharvestable_pods\": 771071744.864995, \"harvested_pods\": 57560211.939542, \"harvestable_pods\": 23.012785993516445, \"unharvestable_ratio\": 0.9305358272981239}, {\"timestamp\": \"2022-09-25T23:00:11\", \"season\": 7281, \"variable\": \"unharvestable_ratio\", \"value\": 0.9305358272981239, \"unharvestable_pods\": 771071744.864995, \"harvested_pods\": 57560211.939542, \"harvestable_pods\": 23.012785993516445, \"unharvestable_ratio\": 0.9305358272981239}, {\"timestamp\": \"2022-09-25T23:00:11\", \"season\": 7281, \"variable\": \"harvestable_pods\", \"value\": 23.012785993516445, \"unharvestable_pods\": 771071744.864995, \"harvested_pods\": 57560211.939542, \"harvestable_pods\": 23.012785993516445, \"unharvestable_ratio\": 0.9305358272981239}, {\"timestamp\": \"2022-09-25T23:00:11\", \"season\": 7281, \"variable\": \"unharvestable_pods\", \"value\": 771071744.864995, \"unharvestable_pods\": 771071744.864995, \"harvested_pods\": 57560211.939542, \"harvestable_pods\": 23.012785993516445, \"unharvestable_ratio\": 0.9305358272981239}, {\"timestamp\": \"2022-09-25T23:00:11\", \"season\": 7281, \"variable\": \"harvested_pods\", \"value\": 57560211.939542, \"unharvestable_pods\": 771071744.864995, \"harvested_pods\": 57560211.939542, \"harvestable_pods\": 23.012785993516445, \"unharvestable_ratio\": 0.9305358272981239}, {\"timestamp\": \"2022-09-26T23:00:11\", \"season\": 7305, \"variable\": \"unharvestable_ratio\", \"value\": 0.930536172489387, \"unharvestable_pods\": 771075862.641542, \"harvested_pods\": 57560211.939542, \"harvestable_pods\": 23.012785993516445, \"unharvestable_ratio\": 0.930536172489387}, {\"timestamp\": \"2022-09-26T23:00:11\", \"season\": 7305, \"variable\": \"unharvestable_pods\", \"value\": 771075862.641542, \"unharvestable_pods\": 771075862.641542, \"harvested_pods\": 57560211.939542, \"harvestable_pods\": 23.012785993516445, \"unharvestable_ratio\": 0.930536172489387}, {\"timestamp\": \"2022-09-26T23:00:11\", \"season\": 7305, \"variable\": \"harvested_pods\", \"value\": 57560211.939542, \"unharvestable_pods\": 771075862.641542, \"harvested_pods\": 57560211.939542, \"harvestable_pods\": 23.012785993516445, \"unharvestable_ratio\": 0.930536172489387}, {\"timestamp\": \"2022-09-26T23:00:11\", \"season\": 7305, \"variable\": \"harvestable_pods\", \"value\": 23.012785993516445, \"unharvestable_pods\": 771075862.641542, \"harvested_pods\": 57560211.939542, \"harvestable_pods\": 23.012785993516445, \"unharvestable_ratio\": 0.930536172489387}, {\"timestamp\": \"2022-09-27T23:00:11\", \"season\": 7329, \"variable\": \"harvestable_pods\", \"value\": 23.012785993516445, \"unharvestable_pods\": 771080060.658197, \"harvested_pods\": 57560211.939542, \"harvestable_pods\": 23.012785993516445, \"unharvestable_ratio\": 0.9305365244036088}, {\"timestamp\": \"2022-09-27T23:00:11\", \"season\": 7329, \"variable\": \"unharvestable_ratio\", \"value\": 0.9305365244036088, \"unharvestable_pods\": 771080060.658197, \"harvested_pods\": 57560211.939542, \"harvestable_pods\": 23.012785993516445, \"unharvestable_ratio\": 0.9305365244036088}, {\"timestamp\": \"2022-09-27T23:00:11\", \"season\": 7329, \"variable\": \"unharvestable_pods\", \"value\": 771080060.658197, \"unharvestable_pods\": 771080060.658197, \"harvested_pods\": 57560211.939542, \"harvestable_pods\": 23.012785993516445, \"unharvestable_ratio\": 0.9305365244036088}, {\"timestamp\": \"2022-09-27T23:00:11\", \"season\": 7329, \"variable\": \"harvested_pods\", \"value\": 57560211.939542, \"unharvestable_pods\": 771080060.658197, \"harvested_pods\": 57560211.939542, \"harvestable_pods\": 23.012785993516445, \"unharvestable_ratio\": 0.9305365244036088}, {\"timestamp\": \"2022-09-28T23:00:11\", \"season\": 7353, \"variable\": \"unharvestable_ratio\", \"value\": 0.9305365244052037, \"unharvestable_pods\": 771080060.677223, \"harvested_pods\": 57560211.939542, \"harvestable_pods\": 23.012785993516445, \"unharvestable_ratio\": 0.9305365244052037}, {\"timestamp\": \"2022-09-28T23:00:11\", \"season\": 7353, \"variable\": \"harvestable_pods\", \"value\": 23.012785993516445, \"unharvestable_pods\": 771080060.677223, \"harvested_pods\": 57560211.939542, \"harvestable_pods\": 23.012785993516445, \"unharvestable_ratio\": 0.9305365244052037}, {\"timestamp\": \"2022-09-28T23:00:11\", \"season\": 7353, \"variable\": \"unharvestable_pods\", \"value\": 771080060.677223, \"unharvestable_pods\": 771080060.677223, \"harvested_pods\": 57560211.939542, \"harvestable_pods\": 23.012785993516445, \"unharvestable_ratio\": 0.9305365244052037}, {\"timestamp\": \"2022-09-28T23:00:11\", \"season\": 7353, \"variable\": \"harvested_pods\", \"value\": 57560211.939542, \"unharvestable_pods\": 771080060.677223, \"harvested_pods\": 57560211.939542, \"harvestable_pods\": 23.012785993516445, \"unharvestable_ratio\": 0.9305365244052037}, {\"timestamp\": \"2022-09-29T23:00:11\", \"season\": 7377, \"variable\": \"unharvestable_pods\", \"value\": 771080060.704398, \"unharvestable_pods\": 771080060.704398, \"harvested_pods\": 57560211.939542, \"harvestable_pods\": 23.012785993516445, \"unharvestable_ratio\": 0.9305365244074818}, {\"timestamp\": \"2022-09-29T23:00:11\", \"season\": 7377, \"variable\": \"harvested_pods\", \"value\": 57560211.939542, \"unharvestable_pods\": 771080060.704398, \"harvested_pods\": 57560211.939542, \"harvestable_pods\": 23.012785993516445, \"unharvestable_ratio\": 0.9305365244074818}, {\"timestamp\": \"2022-09-29T23:00:11\", \"season\": 7377, \"variable\": \"harvestable_pods\", \"value\": 23.012785993516445, \"unharvestable_pods\": 771080060.704398, \"harvested_pods\": 57560211.939542, \"harvestable_pods\": 23.012785993516445, \"unharvestable_ratio\": 0.9305365244074818}, {\"timestamp\": \"2022-09-29T23:00:11\", \"season\": 7377, \"variable\": \"unharvestable_ratio\", \"value\": 0.9305365244074818, \"unharvestable_pods\": 771080060.704398, \"harvested_pods\": 57560211.939542, \"harvestable_pods\": 23.012785993516445, \"unharvestable_ratio\": 0.9305365244074818}, {\"timestamp\": \"2022-09-30T23:00:11\", \"season\": 7401, \"variable\": \"harvested_pods\", \"value\": 57560211.939542, \"unharvestable_pods\": 771080060.81756, \"harvested_pods\": 57560211.939542, \"harvestable_pods\": 23.012785993516445, \"unharvestable_ratio\": 0.9305365244169679}, {\"timestamp\": \"2022-09-30T23:00:11\", \"season\": 7401, \"variable\": \"unharvestable_pods\", \"value\": 771080060.81756, \"unharvestable_pods\": 771080060.81756, \"harvested_pods\": 57560211.939542, \"harvestable_pods\": 23.012785993516445, \"unharvestable_ratio\": 0.9305365244169679}, {\"timestamp\": \"2022-09-30T23:00:11\", \"season\": 7401, \"variable\": \"harvestable_pods\", \"value\": 23.012785993516445, \"unharvestable_pods\": 771080060.81756, \"harvested_pods\": 57560211.939542, \"harvestable_pods\": 23.012785993516445, \"unharvestable_ratio\": 0.9305365244169679}, {\"timestamp\": \"2022-09-30T23:00:11\", \"season\": 7401, \"variable\": \"unharvestable_ratio\", \"value\": 0.9305365244169679, \"unharvestable_pods\": 771080060.81756, \"harvested_pods\": 57560211.939542, \"harvestable_pods\": 23.012785993516445, \"unharvestable_ratio\": 0.9305365244169679}, {\"timestamp\": \"2022-10-01T23:00:11\", \"season\": 7425, \"variable\": \"unharvestable_ratio\", \"value\": 0.9305365244494428, \"unharvestable_pods\": 771080061.204957, \"harvested_pods\": 57560211.939542, \"harvestable_pods\": 23.012785993516445, \"unharvestable_ratio\": 0.9305365244494428}, {\"timestamp\": \"2022-10-01T23:00:11\", \"season\": 7425, \"variable\": \"harvestable_pods\", \"value\": 23.012785993516445, \"unharvestable_pods\": 771080061.204957, \"harvested_pods\": 57560211.939542, \"harvestable_pods\": 23.012785993516445, \"unharvestable_ratio\": 0.9305365244494428}, {\"timestamp\": \"2022-10-01T23:00:11\", \"season\": 7425, \"variable\": \"unharvestable_pods\", \"value\": 771080061.204957, \"unharvestable_pods\": 771080061.204957, \"harvested_pods\": 57560211.939542, \"harvestable_pods\": 23.012785993516445, \"unharvestable_ratio\": 0.9305365244494428}, {\"timestamp\": \"2022-10-01T23:00:11\", \"season\": 7425, \"variable\": \"harvested_pods\", \"value\": 57560211.939542, \"unharvestable_pods\": 771080061.204957, \"harvested_pods\": 57560211.939542, \"harvestable_pods\": 23.012785993516445, \"unharvestable_ratio\": 0.9305365244494428}, {\"timestamp\": \"2022-10-02T23:00:11\", \"season\": 7449, \"variable\": \"unharvestable_pods\", \"value\": 771146971.45055, \"unharvestable_pods\": 771146971.45055, \"harvested_pods\": 57560211.939542, \"harvestable_pods\": 23.012785993516445, \"unharvestable_ratio\": 0.9305421329661455}, {\"timestamp\": \"2022-10-02T23:00:11\", \"season\": 7449, \"variable\": \"harvested_pods\", \"value\": 57560211.939542, \"unharvestable_pods\": 771146971.45055, \"harvested_pods\": 57560211.939542, \"harvestable_pods\": 23.012785993516445, \"unharvestable_ratio\": 0.9305421329661455}, {\"timestamp\": \"2022-10-02T23:00:11\", \"season\": 7449, \"variable\": \"harvestable_pods\", \"value\": 23.012785993516445, \"unharvestable_pods\": 771146971.45055, \"harvested_pods\": 57560211.939542, \"harvestable_pods\": 23.012785993516445, \"unharvestable_ratio\": 0.9305421329661455}, {\"timestamp\": \"2022-10-02T23:00:11\", \"season\": 7449, \"variable\": \"unharvestable_ratio\", \"value\": 0.9305421329661455, \"unharvestable_pods\": 771146971.45055, \"harvested_pods\": 57560211.939542, \"harvestable_pods\": 23.012785993516445, \"unharvestable_ratio\": 0.9305421329661455}, {\"timestamp\": \"2022-10-03T23:00:11\", \"season\": 7473, \"variable\": \"harvestable_pods\", \"value\": 23.012785993516445, \"unharvestable_pods\": 771151894.935032, \"harvested_pods\": 57560211.939542, \"harvestable_pods\": 23.012785993516445, \"unharvestable_ratio\": 0.9305425456241943}, {\"timestamp\": \"2022-10-03T23:00:11\", \"season\": 7473, \"variable\": \"unharvestable_ratio\", \"value\": 0.9305425456241943, \"unharvestable_pods\": 771151894.935032, \"harvested_pods\": 57560211.939542, \"harvestable_pods\": 23.012785993516445, \"unharvestable_ratio\": 0.9305425456241943}, {\"timestamp\": \"2022-10-03T23:00:11\", \"season\": 7473, \"variable\": \"harvested_pods\", \"value\": 57560211.939542, \"unharvestable_pods\": 771151894.935032, \"harvested_pods\": 57560211.939542, \"harvestable_pods\": 23.012785993516445, \"unharvestable_ratio\": 0.9305425456241943}, {\"timestamp\": \"2022-10-03T23:00:11\", \"season\": 7473, \"variable\": \"unharvestable_pods\", \"value\": 771151894.935032, \"unharvestable_pods\": 771151894.935032, \"harvested_pods\": 57560211.939542, \"harvestable_pods\": 23.012785993516445, \"unharvestable_ratio\": 0.9305425456241943}, {\"timestamp\": \"2022-10-04T23:00:11\", \"season\": 7497, \"variable\": \"unharvestable_pods\", \"value\": 771195467.518367, \"unharvestable_pods\": 771195467.518367, \"harvested_pods\": 57560211.939542, \"harvestable_pods\": 23.012785993516445, \"unharvestable_ratio\": 0.930546197412906}, {\"timestamp\": \"2022-10-04T23:00:11\", \"season\": 7497, \"variable\": \"harvested_pods\", \"value\": 57560211.939542, \"unharvestable_pods\": 771195467.518367, \"harvested_pods\": 57560211.939542, \"harvestable_pods\": 23.012785993516445, \"unharvestable_ratio\": 0.930546197412906}, {\"timestamp\": \"2022-10-04T23:00:11\", \"season\": 7497, \"variable\": \"harvestable_pods\", \"value\": 23.012785993516445, \"unharvestable_pods\": 771195467.518367, \"harvested_pods\": 57560211.939542, \"harvestable_pods\": 23.012785993516445, \"unharvestable_ratio\": 0.930546197412906}, {\"timestamp\": \"2022-10-04T23:00:11\", \"season\": 7497, \"variable\": \"unharvestable_ratio\", \"value\": 0.930546197412906, \"unharvestable_pods\": 771195467.518367, \"harvested_pods\": 57560211.939542, \"harvestable_pods\": 23.012785993516445, \"unharvestable_ratio\": 0.930546197412906}, {\"timestamp\": \"2022-10-05T23:00:11\", \"season\": 7521, \"variable\": \"unharvestable_ratio\", \"value\": 0.9305474986882982, \"unharvestable_pods\": 771210995.244243, \"harvested_pods\": 57560211.939542, \"harvestable_pods\": 23.012785993516445, \"unharvestable_ratio\": 0.9305474986882982}, {\"timestamp\": \"2022-10-05T23:00:11\", \"season\": 7521, \"variable\": \"unharvestable_pods\", \"value\": 771210995.244243, \"unharvestable_pods\": 771210995.244243, \"harvested_pods\": 57560211.939542, \"harvestable_pods\": 23.012785993516445, \"unharvestable_ratio\": 0.9305474986882982}, {\"timestamp\": \"2022-10-05T23:00:11\", \"season\": 7521, \"variable\": \"harvested_pods\", \"value\": 57560211.939542, \"unharvestable_pods\": 771210995.244243, \"harvested_pods\": 57560211.939542, \"harvestable_pods\": 23.012785993516445, \"unharvestable_ratio\": 0.9305474986882982}, {\"timestamp\": \"2022-10-05T23:00:11\", \"season\": 7521, \"variable\": \"harvestable_pods\", \"value\": 23.012785993516445, \"unharvestable_pods\": 771210995.244243, \"harvested_pods\": 57560211.939542, \"harvestable_pods\": 23.012785993516445, \"unharvestable_ratio\": 0.9305474986882982}, {\"timestamp\": \"2022-10-06T23:00:11\", \"season\": 7545, \"variable\": \"unharvestable_ratio\", \"value\": 0.9305508783516939, \"unharvestable_pods\": 771251326.464044, \"harvested_pods\": 57560211.939542, \"harvestable_pods\": 23.012785993516445, \"unharvestable_ratio\": 0.9305508783516939}, {\"timestamp\": \"2022-10-06T23:00:11\", \"season\": 7545, \"variable\": \"harvestable_pods\", \"value\": 23.012785993516445, \"unharvestable_pods\": 771251326.464044, \"harvested_pods\": 57560211.939542, \"harvestable_pods\": 23.012785993516445, \"unharvestable_ratio\": 0.9305508783516939}, {\"timestamp\": \"2022-10-06T23:00:11\", \"season\": 7545, \"variable\": \"unharvestable_pods\", \"value\": 771251326.464044, \"unharvestable_pods\": 771251326.464044, \"harvested_pods\": 57560211.939542, \"harvestable_pods\": 23.012785993516445, \"unharvestable_ratio\": 0.9305508783516939}, {\"timestamp\": \"2022-10-06T23:00:11\", \"season\": 7545, \"variable\": \"harvested_pods\", \"value\": 57560211.939542, \"unharvestable_pods\": 771251326.464044, \"harvested_pods\": 57560211.939542, \"harvestable_pods\": 23.012785993516445, \"unharvestable_ratio\": 0.9305508783516939}, {\"timestamp\": \"2022-10-07T23:00:11\", \"season\": 7569, \"variable\": \"unharvestable_ratio\", \"value\": 0.9305625921693323, \"unharvestable_pods\": 771392959.085575, \"harvested_pods\": 57560211.939542, \"harvestable_pods\": 158.47343900054693, \"unharvestable_ratio\": 0.9305625921693323}, {\"timestamp\": \"2022-10-07T23:00:11\", \"season\": 7569, \"variable\": \"unharvestable_pods\", \"value\": 771392959.085575, \"unharvestable_pods\": 771392959.085575, \"harvested_pods\": 57560211.939542, \"harvestable_pods\": 158.47343900054693, \"unharvestable_ratio\": 0.9305625921693323}, {\"timestamp\": \"2022-10-07T23:00:11\", \"season\": 7569, \"variable\": \"harvested_pods\", \"value\": 57560211.939542, \"unharvestable_pods\": 771392959.085575, \"harvested_pods\": 57560211.939542, \"harvestable_pods\": 158.47343900054693, \"unharvestable_ratio\": 0.9305625921693323}, {\"timestamp\": \"2022-10-07T23:00:11\", \"season\": 7569, \"variable\": \"harvestable_pods\", \"value\": 158.47343900054693, \"unharvestable_pods\": 771392959.085575, \"harvested_pods\": 57560211.939542, \"harvestable_pods\": 158.47343900054693, \"unharvestable_ratio\": 0.9305625921693323}, {\"timestamp\": \"2022-10-08T23:00:11\", \"season\": 7593, \"variable\": \"harvestable_pods\", \"value\": 172.44796899706125, \"unharvestable_pods\": 771416886.499202, \"harvested_pods\": 57560211.939542, \"harvestable_pods\": 172.44796899706125, \"unharvestable_ratio\": 0.9305645807080553}, {\"timestamp\": \"2022-10-08T23:00:11\", \"season\": 7593, \"variable\": \"unharvestable_ratio\", \"value\": 0.9305645807080553, \"unharvestable_pods\": 771416886.499202, \"harvested_pods\": 57560211.939542, \"harvestable_pods\": 172.44796899706125, \"unharvestable_ratio\": 0.9305645807080553}, {\"timestamp\": \"2022-10-08T23:00:11\", \"season\": 7593, \"variable\": \"unharvestable_pods\", \"value\": 771416886.499202, \"unharvestable_pods\": 771416886.499202, \"harvested_pods\": 57560211.939542, \"harvestable_pods\": 172.44796899706125, \"unharvestable_ratio\": 0.9305645807080553}, {\"timestamp\": \"2022-10-08T23:00:11\", \"season\": 7593, \"variable\": \"harvested_pods\", \"value\": 57560211.939542, \"unharvestable_pods\": 771416886.499202, \"harvested_pods\": 57560211.939542, \"harvestable_pods\": 172.44796899706125, \"unharvestable_ratio\": 0.9305645807080553}, {\"timestamp\": \"2022-10-09T23:00:11\", \"season\": 7617, \"variable\": \"unharvestable_ratio\", \"value\": 0.9305645810462577, \"unharvestable_pods\": 771416890.536942, \"harvested_pods\": 57560211.939542, \"harvestable_pods\": 172.44796899706125, \"unharvestable_ratio\": 0.9305645810462577}, {\"timestamp\": \"2022-10-09T23:00:11\", \"season\": 7617, \"variable\": \"harvestable_pods\", \"value\": 172.44796899706125, \"unharvestable_pods\": 771416890.536942, \"harvested_pods\": 57560211.939542, \"harvestable_pods\": 172.44796899706125, \"unharvestable_ratio\": 0.9305645810462577}, {\"timestamp\": \"2022-10-09T23:00:11\", \"season\": 7617, \"variable\": \"unharvestable_pods\", \"value\": 771416890.536942, \"unharvestable_pods\": 771416890.536942, \"harvested_pods\": 57560211.939542, \"harvestable_pods\": 172.44796899706125, \"unharvestable_ratio\": 0.9305645810462577}, {\"timestamp\": \"2022-10-09T23:00:11\", \"season\": 7617, \"variable\": \"harvested_pods\", \"value\": 57560211.939542, \"unharvestable_pods\": 771416890.536942, \"harvested_pods\": 57560211.939542, \"harvestable_pods\": 172.44796899706125, \"unharvestable_ratio\": 0.9305645810462577}, {\"timestamp\": \"2022-10-10T23:00:11\", \"season\": 7641, \"variable\": \"unharvestable_pods\", \"value\": 771421409.82698, \"unharvestable_pods\": 771421409.82698, \"harvested_pods\": 57560211.939542, \"harvestable_pods\": 172.44796899706125, \"unharvestable_ratio\": 0.9305649595814672}, {\"timestamp\": \"2022-10-10T23:00:11\", \"season\": 7641, \"variable\": \"harvested_pods\", \"value\": 57560211.939542, \"unharvestable_pods\": 771421409.82698, \"harvested_pods\": 57560211.939542, \"harvestable_pods\": 172.44796899706125, \"unharvestable_ratio\": 0.9305649595814672}, {\"timestamp\": \"2022-10-10T23:00:11\", \"season\": 7641, \"variable\": \"harvestable_pods\", \"value\": 172.44796899706125, \"unharvestable_pods\": 771421409.82698, \"harvested_pods\": 57560211.939542, \"harvestable_pods\": 172.44796899706125, \"unharvestable_ratio\": 0.9305649595814672}, {\"timestamp\": \"2022-10-10T23:00:11\", \"season\": 7641, \"variable\": \"unharvestable_ratio\", \"value\": 0.9305649595814672, \"unharvestable_pods\": 771421409.82698, \"harvested_pods\": 57560211.939542, \"harvestable_pods\": 172.44796899706125, \"unharvestable_ratio\": 0.9305649595814672}, {\"timestamp\": \"2022-10-11T23:00:11\", \"season\": 7665, \"variable\": \"unharvestable_ratio\", \"value\": 0.9305653214329808, \"unharvestable_pods\": 771431460.032281, \"harvested_pods\": 57560211.939542, \"harvestable_pods\": 599.9993169978261, \"unharvestable_ratio\": 0.9305653214329808}, {\"timestamp\": \"2022-10-11T23:00:11\", \"season\": 7665, \"variable\": \"unharvestable_pods\", \"value\": 771431460.032281, \"unharvestable_pods\": 771431460.032281, \"harvested_pods\": 57560211.939542, \"harvestable_pods\": 599.9993169978261, \"unharvestable_ratio\": 0.9305653214329808}, {\"timestamp\": \"2022-10-11T23:00:11\", \"season\": 7665, \"variable\": \"harvested_pods\", \"value\": 57560211.939542, \"unharvestable_pods\": 771431460.032281, \"harvested_pods\": 57560211.939542, \"harvestable_pods\": 599.9993169978261, \"unharvestable_ratio\": 0.9305653214329808}, {\"timestamp\": \"2022-10-11T23:00:11\", \"season\": 7665, \"variable\": \"harvestable_pods\", \"value\": 599.9993169978261, \"unharvestable_pods\": 771431460.032281, \"harvested_pods\": 57560211.939542, \"harvestable_pods\": 599.9993169978261, \"unharvestable_ratio\": 0.9305653214329808}, {\"timestamp\": \"2022-10-12T23:00:11\", \"season\": 7689, \"variable\": \"unharvestable_pods\", \"value\": 771433293.308506, \"unharvestable_pods\": 771433293.308506, \"harvested_pods\": 57560211.939542, \"harvestable_pods\": 1422.7234509959817, \"unharvestable_ratio\": 0.9305645514576996}, {\"timestamp\": \"2022-10-12T23:00:11\", \"season\": 7689, \"variable\": \"harvested_pods\", \"value\": 57560211.939542, \"unharvestable_pods\": 771433293.308506, \"harvested_pods\": 57560211.939542, \"harvestable_pods\": 1422.7234509959817, \"unharvestable_ratio\": 0.9305645514576996}, {\"timestamp\": \"2022-10-12T23:00:11\", \"season\": 7689, \"variable\": \"harvestable_pods\", \"value\": 1422.7234509959817, \"unharvestable_pods\": 771433293.308506, \"harvested_pods\": 57560211.939542, \"harvestable_pods\": 1422.7234509959817, \"unharvestable_ratio\": 0.9305645514576996}, {\"timestamp\": \"2022-10-12T23:00:11\", \"season\": 7689, \"variable\": \"unharvestable_ratio\", \"value\": 0.9305645514576996, \"unharvestable_pods\": 771433293.308506, \"harvested_pods\": 57560211.939542, \"harvestable_pods\": 1422.7234509959817, \"unharvestable_ratio\": 0.9305645514576996}, {\"timestamp\": \"2022-10-13T23:00:11\", \"season\": 7713, \"variable\": \"harvested_pods\", \"value\": 57560211.939542, \"unharvestable_pods\": 771443918.054125, \"harvested_pods\": 57560211.939542, \"harvestable_pods\": 1779.2332119941711, \"unharvestable_ratio\": 0.9305650411751157}, {\"timestamp\": \"2022-10-13T23:00:11\", \"season\": 7713, \"variable\": \"harvestable_pods\", \"value\": 1779.2332119941711, \"unharvestable_pods\": 771443918.054125, \"harvested_pods\": 57560211.939542, \"harvestable_pods\": 1779.2332119941711, \"unharvestable_ratio\": 0.9305650411751157}, {\"timestamp\": \"2022-10-13T23:00:11\", \"season\": 7713, \"variable\": \"unharvestable_pods\", \"value\": 771443918.054125, \"unharvestable_pods\": 771443918.054125, \"harvested_pods\": 57560211.939542, \"harvestable_pods\": 1779.2332119941711, \"unharvestable_ratio\": 0.9305650411751157}, {\"timestamp\": \"2022-10-13T23:00:11\", \"season\": 7713, \"variable\": \"unharvestable_ratio\", \"value\": 0.9305650411751157, \"unharvestable_pods\": 771443918.054125, \"harvested_pods\": 57560211.939542, \"harvestable_pods\": 1779.2332119941711, \"unharvestable_ratio\": 0.9305650411751157}, {\"timestamp\": \"2022-10-14T23:00:11\", \"season\": 7737, \"variable\": \"unharvestable_ratio\", \"value\": 0.9305645810882888, \"unharvestable_pods\": 771443729.154442, \"harvested_pods\": 57560211.939542, \"harvestable_pods\": 2175.0126959979534, \"unharvestable_ratio\": 0.9305645810882888}, {\"timestamp\": \"2022-10-14T23:00:11\", \"season\": 7737, \"variable\": \"harvestable_pods\", \"value\": 2175.0126959979534, \"unharvestable_pods\": 771443729.154442, \"harvested_pods\": 57560211.939542, \"harvestable_pods\": 2175.0126959979534, \"unharvestable_ratio\": 0.9305645810882888}, {\"timestamp\": \"2022-10-14T23:00:11\", \"season\": 7737, \"variable\": \"unharvestable_pods\", \"value\": 771443729.154442, \"unharvestable_pods\": 771443729.154442, \"harvested_pods\": 57560211.939542, \"harvestable_pods\": 2175.0126959979534, \"unharvestable_ratio\": 0.9305645810882888}, {\"timestamp\": \"2022-10-14T23:00:11\", \"season\": 7737, \"variable\": \"harvested_pods\", \"value\": 57560211.939542, \"unharvestable_pods\": 771443729.154442, \"harvested_pods\": 57560211.939542, \"harvestable_pods\": 2175.0126959979534, \"unharvestable_ratio\": 0.9305645810882888}, {\"timestamp\": \"2022-10-15T23:00:11\", \"season\": 7761, \"variable\": \"unharvestable_pods\", \"value\": 771443645.292058, \"unharvestable_pods\": 771443645.292058, \"harvested_pods\": 57560211.939542, \"harvestable_pods\": 2342.7469500005245, \"unharvestable_ratio\": 0.9305643857814556}, {\"timestamp\": \"2022-10-15T23:00:11\", \"season\": 7761, \"variable\": \"harvested_pods\", \"value\": 57560211.939542, \"unharvestable_pods\": 771443645.292058, \"harvested_pods\": 57560211.939542, \"harvestable_pods\": 2342.7469500005245, \"unharvestable_ratio\": 0.9305643857814556}, {\"timestamp\": \"2022-10-15T23:00:11\", \"season\": 7761, \"variable\": \"harvestable_pods\", \"value\": 2342.7469500005245, \"unharvestable_pods\": 771443645.292058, \"harvested_pods\": 57560211.939542, \"harvestable_pods\": 2342.7469500005245, \"unharvestable_ratio\": 0.9305643857814556}, {\"timestamp\": \"2022-10-15T23:00:11\", \"season\": 7761, \"variable\": \"unharvestable_ratio\", \"value\": 0.9305643857814556, \"unharvestable_pods\": 771443645.292058, \"harvested_pods\": 57560211.939542, \"harvestable_pods\": 2342.7469500005245, \"unharvestable_ratio\": 0.9305643857814556}, {\"timestamp\": \"2022-10-16T23:00:11\", \"season\": 7785, \"variable\": \"unharvestable_pods\", \"value\": 771443645.303545, \"unharvestable_pods\": 771443645.303545, \"harvested_pods\": 57560211.939542, \"harvestable_pods\": 2342.7469500005245, \"unharvestable_ratio\": 0.9305643857824177}, {\"timestamp\": \"2022-10-16T23:00:11\", \"season\": 7785, \"variable\": \"harvested_pods\", \"value\": 57560211.939542, \"unharvestable_pods\": 771443645.303545, \"harvested_pods\": 57560211.939542, \"harvestable_pods\": 2342.7469500005245, \"unharvestable_ratio\": 0.9305643857824177}, {\"timestamp\": \"2022-10-16T23:00:11\", \"season\": 7785, \"variable\": \"harvestable_pods\", \"value\": 2342.7469500005245, \"unharvestable_pods\": 771443645.303545, \"harvested_pods\": 57560211.939542, \"harvestable_pods\": 2342.7469500005245, \"unharvestable_ratio\": 0.9305643857824177}, {\"timestamp\": \"2022-10-16T23:00:11\", \"season\": 7785, \"variable\": \"unharvestable_ratio\", \"value\": 0.9305643857824177, \"unharvestable_pods\": 771443645.303545, \"harvested_pods\": 57560211.939542, \"harvestable_pods\": 2342.7469500005245, \"unharvestable_ratio\": 0.9305643857824177}, {\"timestamp\": \"2022-10-17T23:00:11\", \"season\": 7809, \"variable\": \"unharvestable_ratio\", \"value\": 0.9305641340687913, \"unharvestable_pods\": 771450663.598616, \"harvested_pods\": 57560211.939542, \"harvestable_pods\": 3090.6734249964356, \"unharvestable_ratio\": 0.9305641340687913}, {\"timestamp\": \"2022-10-17T23:00:11\", \"season\": 7809, \"variable\": \"harvestable_pods\", \"value\": 3090.6734249964356, \"unharvestable_pods\": 771450663.598616, \"harvested_pods\": 57560211.939542, \"harvestable_pods\": 3090.6734249964356, \"unharvestable_ratio\": 0.9305641340687913}, {\"timestamp\": \"2022-10-17T23:00:11\", \"season\": 7809, \"variable\": \"unharvestable_pods\", \"value\": 771450663.598616, \"unharvestable_pods\": 771450663.598616, \"harvested_pods\": 57560211.939542, \"harvestable_pods\": 3090.6734249964356, \"unharvestable_ratio\": 0.9305641340687913}, {\"timestamp\": \"2022-10-17T23:00:11\", \"season\": 7809, \"variable\": \"harvested_pods\", \"value\": 57560211.939542, \"unharvestable_pods\": 771450663.598616, \"harvested_pods\": 57560211.939542, \"harvestable_pods\": 3090.6734249964356, \"unharvestable_ratio\": 0.9305641340687913}, {\"timestamp\": \"2022-10-18T23:00:11\", \"season\": 7833, \"variable\": \"unharvestable_pods\", \"value\": 771537209.613135, \"unharvestable_pods\": 771537209.613135, \"harvested_pods\": 57560211.939542, \"harvestable_pods\": 4287.43548399955, \"unharvestable_ratio\": 0.9305700389337298}, {\"timestamp\": \"2022-10-18T23:00:11\", \"season\": 7833, \"variable\": \"harvested_pods\", \"value\": 57560211.939542, \"unharvestable_pods\": 771537209.613135, \"harvested_pods\": 57560211.939542, \"harvestable_pods\": 4287.43548399955, \"unharvestable_ratio\": 0.9305700389337298}, {\"timestamp\": \"2022-10-18T23:00:11\", \"season\": 7833, \"variable\": \"harvestable_pods\", \"value\": 4287.43548399955, \"unharvestable_pods\": 771537209.613135, \"harvested_pods\": 57560211.939542, \"harvestable_pods\": 4287.43548399955, \"unharvestable_ratio\": 0.9305700389337298}, {\"timestamp\": \"2022-10-18T23:00:11\", \"season\": 7833, \"variable\": \"unharvestable_ratio\", \"value\": 0.9305700389337298, \"unharvestable_pods\": 771537209.613135, \"harvested_pods\": 57560211.939542, \"harvestable_pods\": 4287.43548399955, \"unharvestable_ratio\": 0.9305700389337298}, {\"timestamp\": \"2022-10-19T23:00:11\", \"season\": 7857, \"variable\": \"unharvestable_pods\", \"value\": 771545168.983482, \"unharvestable_pods\": 771545168.983482, \"harvested_pods\": 57566395.274156, \"harvestable_pods\": 0.0, \"unharvestable_ratio\": 0.9305685775524078}, {\"timestamp\": \"2022-10-19T23:00:11\", \"season\": 7857, \"variable\": \"harvested_pods\", \"value\": 57566395.274156, \"unharvestable_pods\": 771545168.983482, \"harvested_pods\": 57566395.274156, \"harvestable_pods\": 0.0, \"unharvestable_ratio\": 0.9305685775524078}, {\"timestamp\": \"2022-10-19T23:00:11\", \"season\": 7857, \"variable\": \"harvestable_pods\", \"value\": 0.0, \"unharvestable_pods\": 771545168.983482, \"harvested_pods\": 57566395.274156, \"harvestable_pods\": 0.0, \"unharvestable_ratio\": 0.9305685775524078}, {\"timestamp\": \"2022-10-19T23:00:11\", \"season\": 7857, \"variable\": \"unharvestable_ratio\", \"value\": 0.9305685775524078, \"unharvestable_pods\": 771545168.983482, \"harvested_pods\": 57566395.274156, \"harvestable_pods\": 0.0, \"unharvestable_ratio\": 0.9305685775524078}, {\"timestamp\": \"2022-10-20T23:00:11\", \"season\": 7881, \"variable\": \"unharvestable_ratio\", \"value\": 0.9305667330476627, \"unharvestable_pods\": 771544376.832643, \"harvested_pods\": 57566395.274156, \"harvestable_pods\": 1584.3018470034003, \"unharvestable_ratio\": 0.9305667330476627}, {\"timestamp\": \"2022-10-20T23:00:11\", \"season\": 7881, \"variable\": \"harvestable_pods\", \"value\": 1584.3018470034003, \"unharvestable_pods\": 771544376.832643, \"harvested_pods\": 57566395.274156, \"harvestable_pods\": 1584.3018470034003, \"unharvestable_ratio\": 0.9305667330476627}, {\"timestamp\": \"2022-10-20T23:00:11\", \"season\": 7881, \"variable\": \"unharvestable_pods\", \"value\": 771544376.832643, \"unharvestable_pods\": 771544376.832643, \"harvested_pods\": 57566395.274156, \"harvestable_pods\": 1584.3018470034003, \"unharvestable_ratio\": 0.9305667330476627}, {\"timestamp\": \"2022-10-20T23:00:11\", \"season\": 7881, \"variable\": \"harvested_pods\", \"value\": 57566395.274156, \"unharvestable_pods\": 771544376.832643, \"harvested_pods\": 57566395.274156, \"harvestable_pods\": 1584.3018470034003, \"unharvestable_ratio\": 0.9305667330476627}, {\"timestamp\": \"2022-10-21T23:00:11\", \"season\": 7905, \"variable\": \"unharvestable_pods\", \"value\": 771564316.327358, \"unharvestable_pods\": 771564316.327358, \"harvested_pods\": 57566395.274156, \"harvestable_pods\": 2019.8237340003252, \"unharvestable_ratio\": 0.9305679140191075}, {\"timestamp\": \"2022-10-21T23:00:11\", \"season\": 7905, \"variable\": \"harvested_pods\", \"value\": 57566395.274156, \"unharvestable_pods\": 771564316.327358, \"harvested_pods\": 57566395.274156, \"harvestable_pods\": 2019.8237340003252, \"unharvestable_ratio\": 0.9305679140191075}, {\"timestamp\": \"2022-10-21T23:00:11\", \"season\": 7905, \"variable\": \"harvestable_pods\", \"value\": 2019.8237340003252, \"unharvestable_pods\": 771564316.327358, \"harvested_pods\": 57566395.274156, \"harvestable_pods\": 2019.8237340003252, \"unharvestable_ratio\": 0.9305679140191075}, {\"timestamp\": \"2022-10-21T23:00:11\", \"season\": 7905, \"variable\": \"unharvestable_ratio\", \"value\": 0.9305679140191075, \"unharvestable_pods\": 771564316.327358, \"harvested_pods\": 57566395.274156, \"harvestable_pods\": 2019.8237340003252, \"unharvestable_ratio\": 0.9305679140191075}, {\"timestamp\": \"2022-10-22T23:00:23\", \"season\": 7929, \"variable\": \"unharvestable_pods\", \"value\": 771563920.591549, \"unharvestable_pods\": 771563920.591549, \"harvested_pods\": 57566395.274156, \"harvestable_pods\": 5053.79625300318, \"unharvestable_ratio\": 0.9305644757455215}, {\"timestamp\": \"2022-10-22T23:00:23\", \"season\": 7929, \"variable\": \"harvested_pods\", \"value\": 57566395.274156, \"unharvestable_pods\": 771563920.591549, \"harvested_pods\": 57566395.274156, \"harvestable_pods\": 5053.79625300318, \"unharvestable_ratio\": 0.9305644757455215}, {\"timestamp\": \"2022-10-22T23:00:23\", \"season\": 7929, \"variable\": \"harvestable_pods\", \"value\": 5053.79625300318, \"unharvestable_pods\": 771563920.591549, \"harvested_pods\": 57566395.274156, \"harvestable_pods\": 5053.79625300318, \"unharvestable_ratio\": 0.9305644757455215}, {\"timestamp\": \"2022-10-22T23:00:23\", \"season\": 7929, \"variable\": \"unharvestable_ratio\", \"value\": 0.9305644757455215, \"unharvestable_pods\": 771563920.591549, \"harvested_pods\": 57566395.274156, \"harvestable_pods\": 5053.79625300318, \"unharvestable_ratio\": 0.9305644757455215}, {\"timestamp\": \"2022-10-23T23:00:11\", \"season\": 7953, \"variable\": \"unharvestable_pods\", \"value\": 771612493.451582, \"unharvestable_pods\": 771612493.451582, \"harvested_pods\": 57566395.274156, \"harvestable_pods\": 5053.79625300318, \"unharvestable_ratio\": 0.9305685432169568}, {\"timestamp\": \"2022-10-23T23:00:11\", \"season\": 7953, \"variable\": \"harvested_pods\", \"value\": 57566395.274156, \"unharvestable_pods\": 771612493.451582, \"harvested_pods\": 57566395.274156, \"harvestable_pods\": 5053.79625300318, \"unharvestable_ratio\": 0.9305685432169568}, {\"timestamp\": \"2022-10-23T23:00:11\", \"season\": 7953, \"variable\": \"harvestable_pods\", \"value\": 5053.79625300318, \"unharvestable_pods\": 771612493.451582, \"harvested_pods\": 57566395.274156, \"harvestable_pods\": 5053.79625300318, \"unharvestable_ratio\": 0.9305685432169568}, {\"timestamp\": \"2022-10-23T23:00:11\", \"season\": 7953, \"variable\": \"unharvestable_ratio\", \"value\": 0.9305685432169568, \"unharvestable_pods\": 771612493.451582, \"harvested_pods\": 57566395.274156, \"harvestable_pods\": 5053.79625300318, \"unharvestable_ratio\": 0.9305685432169568}, {\"timestamp\": \"2022-10-24T23:00:11\", \"season\": 7977, \"variable\": \"harvestable_pods\", \"value\": 9967.559969000518, \"unharvestable_pods\": 771611154.829333, \"harvested_pods\": 57566395.274156, \"harvestable_pods\": 9967.559969000518, \"unharvestable_ratio\": 0.9305629165808386}, {\"timestamp\": \"2022-10-24T23:00:11\", \"season\": 7977, \"variable\": \"unharvestable_ratio\", \"value\": 0.9305629165808386, \"unharvestable_pods\": 771611154.829333, \"harvested_pods\": 57566395.274156, \"harvestable_pods\": 9967.559969000518, \"unharvestable_ratio\": 0.9305629165808386}, {\"timestamp\": \"2022-10-24T23:00:11\", \"season\": 7977, \"variable\": \"unharvestable_pods\", \"value\": 771611154.829333, \"unharvestable_pods\": 771611154.829333, \"harvested_pods\": 57566395.274156, \"harvestable_pods\": 9967.559969000518, \"unharvestable_ratio\": 0.9305629165808386}, {\"timestamp\": \"2022-10-24T23:00:11\", \"season\": 7977, \"variable\": \"harvested_pods\", \"value\": 57566395.274156, \"unharvestable_pods\": 771611154.829333, \"harvested_pods\": 57566395.274156, \"harvestable_pods\": 9967.559969000518, \"unharvestable_ratio\": 0.9305629165808386}, {\"timestamp\": \"2022-10-25T23:00:11\", \"season\": 8001, \"variable\": \"unharvestable_ratio\", \"value\": 0.9305570185803931, \"unharvestable_pods\": 771608621.597129, \"harvested_pods\": 57577412.647476, \"harvestable_pods\": 4016.65012999624, \"unharvestable_ratio\": 0.9305570185803931}, {\"timestamp\": \"2022-10-25T23:00:11\", \"season\": 8001, \"variable\": \"harvestable_pods\", \"value\": 4016.65012999624, \"unharvestable_pods\": 771608621.597129, \"harvested_pods\": 57577412.647476, \"harvestable_pods\": 4016.65012999624, \"unharvestable_ratio\": 0.9305570185803931}, {\"timestamp\": \"2022-10-25T23:00:11\", \"season\": 8001, \"variable\": \"harvested_pods\", \"value\": 57577412.647476, \"unharvestable_pods\": 771608621.597129, \"harvested_pods\": 57577412.647476, \"harvestable_pods\": 4016.65012999624, \"unharvestable_ratio\": 0.9305570185803931}, {\"timestamp\": \"2022-10-25T23:00:11\", \"season\": 8001, \"variable\": \"unharvestable_pods\", \"value\": 771608621.597129, \"unharvestable_pods\": 771608621.597129, \"harvested_pods\": 57577412.647476, \"harvestable_pods\": 4016.65012999624, \"unharvestable_ratio\": 0.9305570185803931}, {\"timestamp\": \"2022-10-26T23:00:11\", \"season\": 8025, \"variable\": \"unharvestable_pods\", \"value\": 771603387.72719, \"unharvestable_pods\": 771603387.72719, \"harvested_pods\": 57577412.647476, \"harvestable_pods\": 13468.923271998763, \"unharvestable_ratio\": 0.9305459725143674}, {\"timestamp\": \"2022-10-26T23:00:11\", \"season\": 8025, \"variable\": \"harvested_pods\", \"value\": 57577412.647476, \"unharvestable_pods\": 771603387.72719, \"harvested_pods\": 57577412.647476, \"harvestable_pods\": 13468.923271998763, \"unharvestable_ratio\": 0.9305459725143674}, {\"timestamp\": \"2022-10-26T23:00:11\", \"season\": 8025, \"variable\": \"harvestable_pods\", \"value\": 13468.923271998763, \"unharvestable_pods\": 771603387.72719, \"harvested_pods\": 57577412.647476, \"harvestable_pods\": 13468.923271998763, \"unharvestable_ratio\": 0.9305459725143674}, {\"timestamp\": \"2022-10-26T23:00:11\", \"season\": 8025, \"variable\": \"unharvestable_ratio\", \"value\": 0.9305459725143674, \"unharvestable_pods\": 771603387.72719, \"harvested_pods\": 57577412.647476, \"harvestable_pods\": 13468.923271998763, \"unharvestable_ratio\": 0.9305459725143674}, {\"timestamp\": \"2022-10-27T23:00:11\", \"season\": 8049, \"variable\": \"unharvestable_pods\", \"value\": 771600213.214165, \"unharvestable_pods\": 771600213.214165, \"harvested_pods\": 57577412.647476, \"harvestable_pods\": 19817.950658999383, \"unharvestable_ratio\": 0.9305385815791626}, {\"timestamp\": \"2022-10-27T23:00:11\", \"season\": 8049, \"variable\": \"harvested_pods\", \"value\": 57577412.647476, \"unharvestable_pods\": 771600213.214165, \"harvested_pods\": 57577412.647476, \"harvestable_pods\": 19817.950658999383, \"unharvestable_ratio\": 0.9305385815791626}, {\"timestamp\": \"2022-10-27T23:00:11\", \"season\": 8049, \"variable\": \"harvestable_pods\", \"value\": 19817.950658999383, \"unharvestable_pods\": 771600213.214165, \"harvested_pods\": 57577412.647476, \"harvestable_pods\": 19817.950658999383, \"unharvestable_ratio\": 0.9305385815791626}, {\"timestamp\": \"2022-10-27T23:00:11\", \"season\": 8049, \"variable\": \"unharvestable_ratio\", \"value\": 0.9305385815791626, \"unharvestable_pods\": 771600213.214165, \"harvested_pods\": 57577412.647476, \"harvestable_pods\": 19817.950658999383, \"unharvestable_ratio\": 0.9305385815791626}, {\"timestamp\": \"2022-10-28T23:00:11\", \"season\": 8073, \"variable\": \"unharvestable_ratio\", \"value\": 0.9305285421556981, \"unharvestable_pods\": 771598330.1006, \"harvested_pods\": 57577412.647476, \"harvestable_pods\": 28623.52862700075, \"unharvestable_ratio\": 0.9305285421556981}, {\"timestamp\": \"2022-10-28T23:00:11\", \"season\": 8073, \"variable\": \"harvestable_pods\", \"value\": 28623.52862700075, \"unharvestable_pods\": 771598330.1006, \"harvested_pods\": 57577412.647476, \"harvestable_pods\": 28623.52862700075, \"unharvestable_ratio\": 0.9305285421556981}, {\"timestamp\": \"2022-10-28T23:00:11\", \"season\": 8073, \"variable\": \"unharvestable_pods\", \"value\": 771598330.1006, \"unharvestable_pods\": 771598330.1006, \"harvested_pods\": 57577412.647476, \"harvestable_pods\": 28623.52862700075, \"unharvestable_ratio\": 0.9305285421556981}, {\"timestamp\": \"2022-10-28T23:00:11\", \"season\": 8073, \"variable\": \"harvested_pods\", \"value\": 57577412.647476, \"unharvestable_pods\": 771598330.1006, \"harvested_pods\": 57577412.647476, \"harvestable_pods\": 28623.52862700075, \"unharvestable_ratio\": 0.9305285421556981}, {\"timestamp\": \"2022-10-29T23:00:11\", \"season\": 8097, \"variable\": \"unharvestable_pods\", \"value\": 771601283.260244, \"unharvestable_pods\": 771601283.260244, \"harvested_pods\": 57607303.554024, \"harvestable_pods\": 2037.1121159940958, \"unharvestable_ratio\": 0.9305250813196836}, {\"timestamp\": \"2022-10-29T23:00:11\", \"season\": 8097, \"variable\": \"harvested_pods\", \"value\": 57607303.554024, \"unharvestable_pods\": 771601283.260244, \"harvested_pods\": 57607303.554024, \"harvestable_pods\": 2037.1121159940958, \"unharvestable_ratio\": 0.9305250813196836}, {\"timestamp\": \"2022-10-29T23:00:11\", \"season\": 8097, \"variable\": \"harvestable_pods\", \"value\": 2037.1121159940958, \"unharvestable_pods\": 771601283.260244, \"harvested_pods\": 57607303.554024, \"harvestable_pods\": 2037.1121159940958, \"unharvestable_ratio\": 0.9305250813196836}, {\"timestamp\": \"2022-10-29T23:00:11\", \"season\": 8097, \"variable\": \"unharvestable_ratio\", \"value\": 0.9305250813196836, \"unharvestable_pods\": 771601283.260244, \"harvested_pods\": 57607303.554024, \"harvestable_pods\": 2037.1121159940958, \"unharvestable_ratio\": 0.9305250813196836}, {\"timestamp\": \"2022-10-30T23:00:11\", \"season\": 8121, \"variable\": \"harvestable_pods\", \"value\": 14622.247429996729, \"unharvestable_pods\": 771594990.692126, \"harvested_pods\": 57607303.554024, \"harvestable_pods\": 14622.247429996729, \"unharvestable_ratio\": 0.9305104314018176}, {\"timestamp\": \"2022-10-30T23:00:11\", \"season\": 8121, \"variable\": \"unharvestable_ratio\", \"value\": 0.9305104314018176, \"unharvestable_pods\": 771594990.692126, \"harvested_pods\": 57607303.554024, \"harvestable_pods\": 14622.247429996729, \"unharvestable_ratio\": 0.9305104314018176}, {\"timestamp\": \"2022-10-30T23:00:11\", \"season\": 8121, \"variable\": \"harvested_pods\", \"value\": 57607303.554024, \"unharvestable_pods\": 771594990.692126, \"harvested_pods\": 57607303.554024, \"harvestable_pods\": 14622.247429996729, \"unharvestable_ratio\": 0.9305104314018176}, {\"timestamp\": \"2022-10-30T23:00:11\", \"season\": 8121, \"variable\": \"unharvestable_pods\", \"value\": 771594990.692126, \"unharvestable_pods\": 771594990.692126, \"harvested_pods\": 57607303.554024, \"harvestable_pods\": 14622.247429996729, \"unharvestable_ratio\": 0.9305104314018176}, {\"timestamp\": \"2022-10-31T23:00:11\", \"season\": 8145, \"variable\": \"unharvestable_pods\", \"value\": 771590535.396115, \"unharvestable_pods\": 771590535.396115, \"harvested_pods\": 57607303.554024, \"harvestable_pods\": 21461.35740699619, \"unharvestable_ratio\": 0.9305023835189832}, {\"timestamp\": \"2022-10-31T23:00:11\", \"season\": 8145, \"variable\": \"harvested_pods\", \"value\": 57607303.554024, \"unharvestable_pods\": 771590535.396115, \"harvested_pods\": 57607303.554024, \"harvestable_pods\": 21461.35740699619, \"unharvestable_ratio\": 0.9305023835189832}, {\"timestamp\": \"2022-10-31T23:00:11\", \"season\": 8145, \"variable\": \"harvestable_pods\", \"value\": 21461.35740699619, \"unharvestable_pods\": 771590535.396115, \"harvested_pods\": 57607303.554024, \"harvestable_pods\": 21461.35740699619, \"unharvestable_ratio\": 0.9305023835189832}, {\"timestamp\": \"2022-10-31T23:00:11\", \"season\": 8145, \"variable\": \"unharvestable_ratio\", \"value\": 0.9305023835189832, \"unharvestable_pods\": 771590535.396115, \"harvested_pods\": 57607303.554024, \"harvestable_pods\": 21461.35740699619, \"unharvestable_ratio\": 0.9305023835189832}, {\"timestamp\": \"2022-11-01T23:00:11\", \"season\": 8169, \"variable\": \"unharvestable_pods\", \"value\": 771583923.050823, \"unharvestable_pods\": 771583923.050823, \"harvested_pods\": 57629100.744598, \"harvestable_pods\": 9733.702776998281, \"unharvestable_ratio\": 0.9304905299255486}, {\"timestamp\": \"2022-11-01T23:00:11\", \"season\": 8169, \"variable\": \"harvested_pods\", \"value\": 57629100.744598, \"unharvestable_pods\": 771583923.050823, \"harvested_pods\": 57629100.744598, \"harvestable_pods\": 9733.702776998281, \"unharvestable_ratio\": 0.9304905299255486}, {\"timestamp\": \"2022-11-01T23:00:11\", \"season\": 8169, \"variable\": \"harvestable_pods\", \"value\": 9733.702776998281, \"unharvestable_pods\": 771583923.050823, \"harvested_pods\": 57629100.744598, \"harvestable_pods\": 9733.702776998281, \"unharvestable_ratio\": 0.9304905299255486}, {\"timestamp\": \"2022-11-01T23:00:11\", \"season\": 8169, \"variable\": \"unharvestable_ratio\", \"value\": 0.9304905299255486, \"unharvestable_pods\": 771583923.050823, \"harvested_pods\": 57629100.744598, \"harvestable_pods\": 9733.702776998281, \"unharvestable_ratio\": 0.9304905299255486}, {\"timestamp\": \"2022-11-02T23:00:11\", \"season\": 8193, \"variable\": \"unharvestable_ratio\", \"value\": 0.9304859395010467, \"unharvestable_pods\": 771600514.739122, \"harvested_pods\": 57641789.594232, \"harvestable_pods\": 2375.229322999716, \"unharvestable_ratio\": 0.9304859395010467}, {\"timestamp\": \"2022-11-02T23:00:11\", \"season\": 8193, \"variable\": \"unharvestable_pods\", \"value\": 771600514.739122, \"unharvestable_pods\": 771600514.739122, \"harvested_pods\": 57641789.594232, \"harvestable_pods\": 2375.229322999716, \"unharvestable_ratio\": 0.9304859395010467}, {\"timestamp\": \"2022-11-02T23:00:11\", \"season\": 8193, \"variable\": \"harvested_pods\", \"value\": 57641789.594232, \"unharvestable_pods\": 771600514.739122, \"harvested_pods\": 57641789.594232, \"harvestable_pods\": 2375.229322999716, \"unharvestable_ratio\": 0.9304859395010467}, {\"timestamp\": \"2022-11-02T23:00:11\", \"season\": 8193, \"variable\": \"harvestable_pods\", \"value\": 2375.229322999716, \"unharvestable_pods\": 771600514.739122, \"harvested_pods\": 57641789.594232, \"harvestable_pods\": 2375.229322999716, \"unharvestable_ratio\": 0.9304859395010467}, {\"timestamp\": \"2022-11-03T23:00:11\", \"season\": 8217, \"variable\": \"harvestable_pods\", \"value\": 11989.851322002709, \"unharvestable_pods\": 771595064.306321, \"harvested_pods\": 57641789.594232, \"harvestable_pods\": 11989.851322002709, \"unharvestable_ratio\": 0.9304746942007133}, {\"timestamp\": \"2022-11-03T23:00:11\", \"season\": 8217, \"variable\": \"unharvestable_ratio\", \"value\": 0.9304746942007133, \"unharvestable_pods\": 771595064.306321, \"harvested_pods\": 57641789.594232, \"harvestable_pods\": 11989.851322002709, \"unharvestable_ratio\": 0.9304746942007133}, {\"timestamp\": \"2022-11-03T23:00:11\", \"season\": 8217, \"variable\": \"unharvestable_pods\", \"value\": 771595064.306321, \"unharvestable_pods\": 771595064.306321, \"harvested_pods\": 57641789.594232, \"harvestable_pods\": 11989.851322002709, \"unharvestable_ratio\": 0.9304746942007133}, {\"timestamp\": \"2022-11-03T23:00:11\", \"season\": 8217, \"variable\": \"harvested_pods\", \"value\": 57641789.594232, \"unharvestable_pods\": 771595064.306321, \"harvested_pods\": 57641789.594232, \"harvestable_pods\": 11989.851322002709, \"unharvestable_ratio\": 0.9304746942007133}, {\"timestamp\": \"2022-11-04T14:00:11\", \"season\": 8232, \"variable\": \"harvested_pods\", \"value\": 57641789.594232, \"unharvestable_pods\": 771590754.934507, \"harvested_pods\": 57641789.594232, \"harvestable_pods\": 20608.594466999173, \"unharvestable_ratio\": 0.9304646621221447}, {\"timestamp\": \"2022-11-04T14:00:11\", \"season\": 8232, \"variable\": \"harvestable_pods\", \"value\": 20608.594466999173, \"unharvestable_pods\": 771590754.934507, \"harvested_pods\": 57641789.594232, \"harvestable_pods\": 20608.594466999173, \"unharvestable_ratio\": 0.9304646621221447}, {\"timestamp\": \"2022-11-04T14:00:11\", \"season\": 8232, \"variable\": \"unharvestable_pods\", \"value\": 771590754.934507, \"unharvestable_pods\": 771590754.934507, \"harvested_pods\": 57641789.594232, \"harvestable_pods\": 20608.594466999173, \"unharvestable_ratio\": 0.9304646621221447}, {\"timestamp\": \"2022-11-04T14:00:11\", \"season\": 8232, \"variable\": \"unharvestable_ratio\", \"value\": 0.9304646621221447, \"unharvestable_pods\": 771590754.934507, \"harvested_pods\": 57641789.594232, \"harvestable_pods\": 20608.594466999173, \"unharvestable_ratio\": 0.9304646621221447}]}}, {\"mode\": \"vega-lite\"});\n",
       "</script>"
      ],
      "text/plain": [
       "alt.LayerChart(...)"
      ]
     },
     "execution_count": 10,
     "metadata": {},
     "output_type": "execute_result"
    }
   ],
   "source": [
    "colors = {\n",
    "    'unharvestable_pods': '#ff595e', \n",
    "    'harvested_pods': \"#8ac926\", \n",
    "    'harvestable_pods': \"#1982c4\", \n",
    "    'unharvestable_ratio': \"#6a4c93\", \n",
    "} \n",
    "c = (\n",
    "    chart(\n",
    "        df, \n",
    "        \"timestamp\", \n",
    "        lmetrics=['unharvestable_pods', 'harvested_pods', 'harvestable_pods',], \n",
    "        rmetrics=['unharvestable_ratio'],\n",
    "        lstrategy=\"stack_area\", \n",
    "        rstrategy=\"line\",\n",
    "        title=\"Pod Line Breakdown\", \n",
    "        tooltip_formats={\n",
    "            'unharvestable_pods': ',d', \n",
    "            'harvested_pods': ',d', \n",
    "            'harvestable_pods': ',d', \n",
    "            'unharvestable_ratio': '.0%', \n",
    "        },\n",
    "        yaxis_left_kwargs=dict(title=\"Pods\", format=\".3~s\"), \n",
    "        yaxis_right_kwargs=dict(title=\"Ratio\", format=\".0%\"), \n",
    "        dual_axes=True, \n",
    "        colors=colors, \n",
    "        show_exploit_rule=True, \n",
    "        exploit_day=16, \n",
    "    )\n",
    ")\n",
    "\n",
    "css_lines = css_tooltip_timeseries_multi_colored(value_vars, colors) \n",
    "css = \"\\n\".join(css_lines)\n",
    "\n",
    "apply_css(\"\")\n",
    "# apply_css(css)\n",
    "\n",
    "c"
   ]
  },
  {
   "cell_type": "code",
   "execution_count": null,
   "id": "d6752862",
   "metadata": {},
   "outputs": [
    {
     "data": {
      "application/json": {
       "css": "#vg-tooltip-element tr:nth-child(1) { font-weight: bold }\n#vg-tooltip-element tr:nth-child(1) td:first-child { opacity: 0 }\n\n#vg-tooltip-element tr:nth-child(2) td:first-child { color: #ff595e }\n\n#vg-tooltip-element tr:nth-child(3) td:first-child { color: #8ac926 }\n\n#vg-tooltip-element tr:nth-child(4) td:first-child { color: #1982c4 }\n\n#vg-tooltip-element tr:nth-child(5) td:first-child { color: #6a4c93 }\n",
       "spec": {
        "$schema": "https://vega.github.io/schema/vega-lite/v4.17.0.json",
        "config": {
         "view": {
          "continuousHeight": 300,
          "continuousWidth": 400
         }
        },
        "data": {
         "name": "data-e0dcec37108a602134a32363f04a3a35"
        },
        "datasets": {
         "data-e0dcec37108a602134a32363f04a3a35": [
          {
           "harvestable_pods": 5049.266341,
           "harvested_pods": 0,
           "season": 25,
           "timestamp": "2021-08-07T00:06:08",
           "unharvestable_pods": -150.20702899999924,
           "unharvestable_ratio": -0.030660381806783734,
           "value": -150.20702899999924,
           "variable": "unharvestable_pods"
          },
          {
           "harvestable_pods": 5049.266341,
           "harvested_pods": 0,
           "season": 25,
           "timestamp": "2021-08-07T00:06:08",
           "unharvestable_pods": -150.20702899999924,
           "unharvestable_ratio": -0.030660381806783734,
           "value": 0,
           "variable": "harvested_pods"
          },
          {
           "harvestable_pods": 5049.266341,
           "harvested_pods": 0,
           "season": 25,
           "timestamp": "2021-08-07T00:06:08",
           "unharvestable_pods": -150.20702899999924,
           "unharvestable_ratio": -0.030660381806783734,
           "value": 5049.266341,
           "variable": "harvestable_pods"
          },
          {
           "harvestable_pods": 5049.266341,
           "harvested_pods": 0,
           "season": 25,
           "timestamp": "2021-08-07T00:06:08",
           "unharvestable_pods": -150.20702899999924,
           "unharvestable_ratio": -0.030660381806783734,
           "value": -0.030660381806783734,
           "variable": "unharvestable_ratio"
          },
          {
           "harvestable_pods": 337.09807999999975,
           "harvested_pods": 15526.430505,
           "season": 49,
           "timestamp": "2021-08-08T00:08:15",
           "unharvestable_pods": -13360.687033,
           "unharvestable_ratio": -5.338207295752936,
           "value": -13360.687033,
           "variable": "unharvestable_pods"
          },
          {
           "harvestable_pods": 337.09807999999975,
           "harvested_pods": 15526.430505,
           "season": 49,
           "timestamp": "2021-08-08T00:08:15",
           "unharvestable_pods": -13360.687033,
           "unharvestable_ratio": -5.338207295752936,
           "value": 15526.430505,
           "variable": "harvested_pods"
          },
          {
           "harvestable_pods": 337.09807999999975,
           "harvested_pods": 15526.430505,
           "season": 49,
           "timestamp": "2021-08-08T00:08:15",
           "unharvestable_pods": -13360.687033,
           "unharvestable_ratio": -5.338207295752936,
           "value": 337.09807999999975,
           "variable": "harvestable_pods"
          },
          {
           "harvestable_pods": 337.09807999999975,
           "harvested_pods": 15526.430505,
           "season": 49,
           "timestamp": "2021-08-08T00:08:15",
           "unharvestable_pods": -13360.687033,
           "unharvestable_ratio": -5.338207295752936,
           "value": -5.338207295752936,
           "variable": "unharvestable_ratio"
          },
          {
           "harvestable_pods": 1479.961468999998,
           "harvested_pods": 21827.924952,
           "season": 73,
           "timestamp": "2021-08-09T00:15:57",
           "unharvestable_pods": -16486.490717,
           "unharvestable_ratio": -2.416879394246618,
           "value": -2.416879394246618,
           "variable": "unharvestable_ratio"
          },
          {
           "harvestable_pods": 1479.961468999998,
           "harvested_pods": 21827.924952,
           "season": 73,
           "timestamp": "2021-08-09T00:15:57",
           "unharvestable_pods": -16486.490717,
           "unharvestable_ratio": -2.416879394246618,
           "value": 1479.961468999998,
           "variable": "harvestable_pods"
          },
          {
           "harvestable_pods": 1479.961468999998,
           "harvested_pods": 21827.924952,
           "season": 73,
           "timestamp": "2021-08-09T00:15:57",
           "unharvestable_pods": -16486.490717,
           "unharvestable_ratio": -2.416879394246618,
           "value": -16486.490717,
           "variable": "unharvestable_pods"
          },
          {
           "harvestable_pods": 1479.961468999998,
           "harvested_pods": 21827.924952,
           "season": 73,
           "timestamp": "2021-08-09T00:15:57",
           "unharvestable_pods": -16486.490717,
           "unharvestable_ratio": -2.416879394246618,
           "value": 21827.924952,
           "variable": "harvested_pods"
          },
          {
           "harvestable_pods": 7611.092329000003,
           "harvested_pods": 25843.746295,
           "season": 97,
           "timestamp": "2021-08-10T00:01:29",
           "unharvestable_pods": -33454.838624,
           "unharvestable_ratio": null,
           "value": -33454.838624,
           "variable": "unharvestable_pods"
          },
          {
           "harvestable_pods": 7611.092329000003,
           "harvested_pods": 25843.746295,
           "season": 97,
           "timestamp": "2021-08-10T00:01:29",
           "unharvestable_pods": -33454.838624,
           "unharvestable_ratio": null,
           "value": 25843.746295,
           "variable": "harvested_pods"
          },
          {
           "harvestable_pods": 7611.092329000003,
           "harvested_pods": 25843.746295,
           "season": 97,
           "timestamp": "2021-08-10T00:01:29",
           "unharvestable_pods": -33454.838624,
           "unharvestable_ratio": null,
           "value": 7611.092329000003,
           "variable": "harvestable_pods"
          },
          {
           "harvestable_pods": 7611.092329000003,
           "harvested_pods": 25843.746295,
           "season": 97,
           "timestamp": "2021-08-10T00:01:29",
           "unharvestable_pods": -33454.838624,
           "unharvestable_ratio": null,
           "value": null,
           "variable": "unharvestable_ratio"
          },
          {
           "harvestable_pods": 6904.487041000004,
           "harvested_pods": 26550.351583,
           "season": 121,
           "timestamp": "2021-08-11T00:00:05",
           "unharvestable_pods": -33454.838624,
           "unharvestable_ratio": null,
           "value": -33454.838624,
           "variable": "unharvestable_pods"
          },
          {
           "harvestable_pods": 6904.487041000004,
           "harvested_pods": 26550.351583,
           "season": 121,
           "timestamp": "2021-08-11T00:00:05",
           "unharvestable_pods": -33454.838624,
           "unharvestable_ratio": null,
           "value": 26550.351583,
           "variable": "harvested_pods"
          },
          {
           "harvestable_pods": 6904.487041000004,
           "harvested_pods": 26550.351583,
           "season": 121,
           "timestamp": "2021-08-11T00:00:05",
           "unharvestable_pods": -33454.838624,
           "unharvestable_ratio": null,
           "value": 6904.487041000004,
           "variable": "harvestable_pods"
          },
          {
           "harvestable_pods": 6904.487041000004,
           "harvested_pods": 26550.351583,
           "season": 121,
           "timestamp": "2021-08-11T00:00:05",
           "unharvestable_pods": -33454.838624,
           "unharvestable_ratio": null,
           "value": null,
           "variable": "unharvestable_ratio"
          },
          {
           "harvestable_pods": 6904.487041000004,
           "harvested_pods": 26550.351583,
           "season": 145,
           "timestamp": "2021-08-12T00:01:00",
           "unharvestable_pods": -33454.838624,
           "unharvestable_ratio": null,
           "value": null,
           "variable": "unharvestable_ratio"
          },
          {
           "harvestable_pods": 6904.487041000004,
           "harvested_pods": 26550.351583,
           "season": 145,
           "timestamp": "2021-08-12T00:01:00",
           "unharvestable_pods": -33454.838624,
           "unharvestable_ratio": null,
           "value": 6904.487041000004,
           "variable": "harvestable_pods"
          },
          {
           "harvestable_pods": 6904.487041000004,
           "harvested_pods": 26550.351583,
           "season": 145,
           "timestamp": "2021-08-12T00:01:00",
           "unharvestable_pods": -33454.838624,
           "unharvestable_ratio": null,
           "value": -33454.838624,
           "variable": "unharvestable_pods"
          },
          {
           "harvestable_pods": 6904.487041000004,
           "harvested_pods": 26550.351583,
           "season": 145,
           "timestamp": "2021-08-12T00:01:00",
           "unharvestable_pods": -33454.838624,
           "unharvestable_ratio": null,
           "value": 26550.351583,
           "variable": "harvested_pods"
          },
          {
           "harvestable_pods": 6904.487041000004,
           "harvested_pods": 26550.351583,
           "season": 169,
           "timestamp": "2021-08-13T00:00:10",
           "unharvestable_pods": -33454.838624,
           "unharvestable_ratio": null,
           "value": -33454.838624,
           "variable": "unharvestable_pods"
          },
          {
           "harvestable_pods": 6904.487041000004,
           "harvested_pods": 26550.351583,
           "season": 169,
           "timestamp": "2021-08-13T00:00:10",
           "unharvestable_pods": -33454.838624,
           "unharvestable_ratio": null,
           "value": 26550.351583,
           "variable": "harvested_pods"
          },
          {
           "harvestable_pods": 6904.487041000004,
           "harvested_pods": 26550.351583,
           "season": 169,
           "timestamp": "2021-08-13T00:00:10",
           "unharvestable_pods": -33454.838624,
           "unharvestable_ratio": null,
           "value": 6904.487041000004,
           "variable": "harvestable_pods"
          },
          {
           "harvestable_pods": 6904.487041000004,
           "harvested_pods": 26550.351583,
           "season": 169,
           "timestamp": "2021-08-13T00:00:10",
           "unharvestable_pods": -33454.838624,
           "unharvestable_ratio": null,
           "value": null,
           "variable": "unharvestable_ratio"
          },
          {
           "harvestable_pods": 17664.603034999996,
           "harvested_pods": 32201.284959,
           "season": 193,
           "timestamp": "2021-08-14T00:00:29",
           "unharvestable_pods": -39050.368972,
           "unharvestable_ratio": -3.610586684981746,
           "value": -3.610586684981746,
           "variable": "unharvestable_ratio"
          },
          {
           "harvestable_pods": 17664.603034999996,
           "harvested_pods": 32201.284959,
           "season": 193,
           "timestamp": "2021-08-14T00:00:29",
           "unharvestable_pods": -39050.368972,
           "unharvestable_ratio": -3.610586684981746,
           "value": -39050.368972,
           "variable": "unharvestable_pods"
          },
          {
           "harvestable_pods": 17664.603034999996,
           "harvested_pods": 32201.284959,
           "season": 193,
           "timestamp": "2021-08-14T00:00:29",
           "unharvestable_pods": -39050.368972,
           "unharvestable_ratio": -3.610586684981746,
           "value": 32201.284959,
           "variable": "harvested_pods"
          },
          {
           "harvestable_pods": 17664.603034999996,
           "harvested_pods": 32201.284959,
           "season": 193,
           "timestamp": "2021-08-14T00:00:29",
           "unharvestable_pods": -39050.368972,
           "unharvestable_ratio": -3.610586684981746,
           "value": 17664.603034999996,
           "variable": "harvestable_pods"
          },
          {
           "harvestable_pods": 23001.045411,
           "harvested_pods": 41481.027557,
           "season": 217,
           "timestamp": "2021-08-15T00:00:28",
           "unharvestable_pods": -54232.15519,
           "unharvestable_ratio": -5.290984412226374,
           "value": -54232.15519,
           "variable": "unharvestable_pods"
          },
          {
           "harvestable_pods": 23001.045411,
           "harvested_pods": 41481.027557,
           "season": 217,
           "timestamp": "2021-08-15T00:00:28",
           "unharvestable_pods": -54232.15519,
           "unharvestable_ratio": -5.290984412226374,
           "value": 41481.027557,
           "variable": "harvested_pods"
          },
          {
           "harvestable_pods": 23001.045411,
           "harvested_pods": 41481.027557,
           "season": 217,
           "timestamp": "2021-08-15T00:00:28",
           "unharvestable_pods": -54232.15519,
           "unharvestable_ratio": -5.290984412226374,
           "value": 23001.045411,
           "variable": "harvestable_pods"
          },
          {
           "harvestable_pods": 23001.045411,
           "harvested_pods": 41481.027557,
           "season": 217,
           "timestamp": "2021-08-15T00:00:28",
           "unharvestable_pods": -54232.15519,
           "unharvestable_ratio": -5.290984412226374,
           "value": -5.290984412226374,
           "variable": "unharvestable_ratio"
          },
          {
           "harvestable_pods": 14326.598173999999,
           "harvested_pods": 51201.027557,
           "season": 241,
           "timestamp": "2021-08-16T00:00:17",
           "unharvestable_pods": -48984.330716,
           "unharvestable_ratio": -2.9609778869073744,
           "value": 14326.598173999999,
           "variable": "harvestable_pods"
          },
          {
           "harvestable_pods": 14326.598173999999,
           "harvested_pods": 51201.027557,
           "season": 241,
           "timestamp": "2021-08-16T00:00:17",
           "unharvestable_pods": -48984.330716,
           "unharvestable_ratio": -2.9609778869073744,
           "value": -2.9609778869073744,
           "variable": "unharvestable_ratio"
          },
          {
           "harvestable_pods": 14326.598173999999,
           "harvested_pods": 51201.027557,
           "season": 241,
           "timestamp": "2021-08-16T00:00:17",
           "unharvestable_pods": -48984.330716,
           "unharvestable_ratio": -2.9609778869073744,
           "value": -48984.330716,
           "variable": "unharvestable_pods"
          },
          {
           "harvestable_pods": 14326.598173999999,
           "harvested_pods": 51201.027557,
           "season": 241,
           "timestamp": "2021-08-16T00:00:17",
           "unharvestable_pods": -48984.330716,
           "unharvestable_ratio": -2.9609778869073744,
           "value": 51201.027557,
           "variable": "harvested_pods"
          },
          {
           "harvestable_pods": 12774.532055999996,
           "harvested_pods": 97624.762629,
           "season": 265,
           "timestamp": "2021-08-17T00:00:04",
           "unharvestable_pods": -38897.551049999995,
           "unharvestable_ratio": -0.5440084265435968,
           "value": -0.5440084265435968,
           "variable": "unharvestable_ratio"
          },
          {
           "harvestable_pods": 12774.532055999996,
           "harvested_pods": 97624.762629,
           "season": 265,
           "timestamp": "2021-08-17T00:00:04",
           "unharvestable_pods": -38897.551049999995,
           "unharvestable_ratio": -0.5440084265435968,
           "value": 12774.532055999996,
           "variable": "harvestable_pods"
          },
          {
           "harvestable_pods": 12774.532055999996,
           "harvested_pods": 97624.762629,
           "season": 265,
           "timestamp": "2021-08-17T00:00:04",
           "unharvestable_pods": -38897.551049999995,
           "unharvestable_ratio": -0.5440084265435968,
           "value": -38897.551049999995,
           "variable": "unharvestable_pods"
          },
          {
           "harvestable_pods": 12774.532055999996,
           "harvested_pods": 97624.762629,
           "season": 265,
           "timestamp": "2021-08-17T00:00:04",
           "unharvestable_pods": -38897.551049999995,
           "unharvestable_ratio": -0.5440084265435968,
           "value": 97624.762629,
           "variable": "harvested_pods"
          },
          {
           "harvestable_pods": 44477.315885,
           "harvested_pods": 104529.24967,
           "season": 289,
           "timestamp": "2021-08-18T00:00:31",
           "unharvestable_pods": -112655.973558,
           "unharvestable_ratio": -3.099151000547596,
           "value": -112655.973558,
           "variable": "unharvestable_pods"
          },
          {
           "harvestable_pods": 44477.315885,
           "harvested_pods": 104529.24967,
           "season": 289,
           "timestamp": "2021-08-18T00:00:31",
           "unharvestable_pods": -112655.973558,
           "unharvestable_ratio": -3.099151000547596,
           "value": 104529.24967,
           "variable": "harvested_pods"
          },
          {
           "harvestable_pods": 44477.315885,
           "harvested_pods": 104529.24967,
           "season": 289,
           "timestamp": "2021-08-18T00:00:31",
           "unharvestable_pods": -112655.973558,
           "unharvestable_ratio": -3.099151000547596,
           "value": 44477.315885,
           "variable": "harvestable_pods"
          },
          {
           "harvestable_pods": 44477.315885,
           "harvested_pods": 104529.24967,
           "season": 289,
           "timestamp": "2021-08-18T00:00:31",
           "unharvestable_pods": -112655.973558,
           "unharvestable_ratio": -3.099151000547596,
           "value": -3.099151000547596,
           "variable": "unharvestable_ratio"
          },
          {
           "harvestable_pods": 5723.165934000019,
           "harvested_pods": 143283.399621,
           "season": 313,
           "timestamp": "2021-08-19T00:00:40",
           "unharvestable_pods": -44740.566042000006,
           "unharvestable_ratio": -0.42910024601472985,
           "value": -0.42910024601472985,
           "variable": "unharvestable_ratio"
          },
          {
           "harvestable_pods": 5723.165934000019,
           "harvested_pods": 143283.399621,
           "season": 313,
           "timestamp": "2021-08-19T00:00:40",
           "unharvestable_pods": -44740.566042000006,
           "unharvestable_ratio": -0.42910024601472985,
           "value": 5723.165934000019,
           "variable": "harvestable_pods"
          },
          {
           "harvestable_pods": 5723.165934000019,
           "harvested_pods": 143283.399621,
           "season": 313,
           "timestamp": "2021-08-19T00:00:40",
           "unharvestable_pods": -44740.566042000006,
           "unharvestable_ratio": -0.42910024601472985,
           "value": -44740.566042000006,
           "variable": "unharvestable_pods"
          },
          {
           "harvestable_pods": 5723.165934000019,
           "harvested_pods": 143283.399621,
           "season": 313,
           "timestamp": "2021-08-19T00:00:40",
           "unharvestable_pods": -44740.566042000006,
           "unharvestable_ratio": -0.42910024601472985,
           "value": 143283.399621,
           "variable": "harvested_pods"
          },
          {
           "harvestable_pods": 37233.227182,
           "harvested_pods": 143283.399621,
           "season": 337,
           "timestamp": "2021-08-20T00:01:04",
           "unharvestable_pods": -87758.00969899999,
           "unharvestable_ratio": -0.9460901039588226,
           "value": -87758.00969899999,
           "variable": "unharvestable_pods"
          },
          {
           "harvestable_pods": 37233.227182,
           "harvested_pods": 143283.399621,
           "season": 337,
           "timestamp": "2021-08-20T00:01:04",
           "unharvestable_pods": -87758.00969899999,
           "unharvestable_ratio": -0.9460901039588226,
           "value": 143283.399621,
           "variable": "harvested_pods"
          },
          {
           "harvestable_pods": 37233.227182,
           "harvested_pods": 143283.399621,
           "season": 337,
           "timestamp": "2021-08-20T00:01:04",
           "unharvestable_pods": -87758.00969899999,
           "unharvestable_ratio": -0.9460901039588226,
           "value": 37233.227182,
           "variable": "harvestable_pods"
          },
          {
           "harvestable_pods": 37233.227182,
           "harvested_pods": 143283.399621,
           "season": 337,
           "timestamp": "2021-08-20T00:01:04",
           "unharvestable_pods": -87758.00969899999,
           "unharvestable_ratio": -0.9460901039588226,
           "value": -0.9460901039588226,
           "variable": "unharvestable_ratio"
          },
          {
           "harvestable_pods": 28096.697970999987,
           "harvested_pods": 254167.231813,
           "season": 361,
           "timestamp": "2021-08-21T00:00:44",
           "unharvestable_pods": -241840.23339699997,
           "unharvestable_ratio": -5.982635310777127,
           "value": 28096.697970999987,
           "variable": "harvestable_pods"
          },
          {
           "harvestable_pods": 28096.697970999987,
           "harvested_pods": 254167.231813,
           "season": 361,
           "timestamp": "2021-08-21T00:00:44",
           "unharvestable_pods": -241840.23339699997,
           "unharvestable_ratio": -5.982635310777127,
           "value": -241840.23339699997,
           "variable": "unharvestable_pods"
          },
          {
           "harvestable_pods": 28096.697970999987,
           "harvested_pods": 254167.231813,
           "season": 361,
           "timestamp": "2021-08-21T00:00:44",
           "unharvestable_pods": -241840.23339699997,
           "unharvestable_ratio": -5.982635310777127,
           "value": 254167.231813,
           "variable": "harvested_pods"
          },
          {
           "harvestable_pods": 28096.697970999987,
           "harvested_pods": 254167.231813,
           "season": 361,
           "timestamp": "2021-08-21T00:00:44",
           "unharvestable_pods": -241840.23339699997,
           "unharvestable_ratio": -5.982635310777127,
           "value": -5.982635310777127,
           "variable": "unharvestable_ratio"
          },
          {
           "harvestable_pods": 28586.774829,
           "harvested_pods": 314760.900618,
           "season": 385,
           "timestamp": "2021-08-22T00:00:09",
           "unharvestable_pods": -294805.731836,
           "unharvestable_ratio": -6.073216478484693,
           "value": -6.073216478484693,
           "variable": "unharvestable_ratio"
          },
          {
           "harvestable_pods": 28586.774829,
           "harvested_pods": 314760.900618,
           "season": 385,
           "timestamp": "2021-08-22T00:00:09",
           "unharvestable_pods": -294805.731836,
           "unharvestable_ratio": -6.073216478484693,
           "value": 28586.774829,
           "variable": "harvestable_pods"
          },
          {
           "harvestable_pods": 28586.774829,
           "harvested_pods": 314760.900618,
           "season": 385,
           "timestamp": "2021-08-22T00:00:09",
           "unharvestable_pods": -294805.731836,
           "unharvestable_ratio": -6.073216478484693,
           "value": 314760.900618,
           "variable": "harvested_pods"
          },
          {
           "harvestable_pods": 28586.774829,
           "harvested_pods": 314760.900618,
           "season": 385,
           "timestamp": "2021-08-22T00:00:09",
           "unharvestable_pods": -294805.731836,
           "unharvestable_ratio": -6.073216478484693,
           "value": -294805.731836,
           "variable": "unharvestable_pods"
          },
          {
           "harvestable_pods": 46759.331894,
           "harvested_pods": 314760.900618,
           "season": 409,
           "timestamp": "2021-08-23T00:00:29",
           "unharvestable_pods": -319655.962397,
           "unharvestable_ratio": -7.635531719982549,
           "value": -319655.962397,
           "variable": "unharvestable_pods"
          },
          {
           "harvestable_pods": 46759.331894,
           "harvested_pods": 314760.900618,
           "season": 409,
           "timestamp": "2021-08-23T00:00:29",
           "unharvestable_pods": -319655.962397,
           "unharvestable_ratio": -7.635531719982549,
           "value": 314760.900618,
           "variable": "harvested_pods"
          },
          {
           "harvestable_pods": 46759.331894,
           "harvested_pods": 314760.900618,
           "season": 409,
           "timestamp": "2021-08-23T00:00:29",
           "unharvestable_pods": -319655.962397,
           "unharvestable_ratio": -7.635531719982549,
           "value": 46759.331894,
           "variable": "harvestable_pods"
          },
          {
           "harvestable_pods": 46759.331894,
           "harvested_pods": 314760.900618,
           "season": 409,
           "timestamp": "2021-08-23T00:00:29",
           "unharvestable_pods": -319655.962397,
           "unharvestable_ratio": -7.635531719982549,
           "value": -7.635531719982549,
           "variable": "unharvestable_ratio"
          },
          {
           "harvestable_pods": 34272.659944000014,
           "harvested_pods": 331032.2237,
           "season": 433,
           "timestamp": "2021-08-24T00:00:01",
           "unharvestable_pods": -326075.264661,
           "unharvestable_ratio": -8.311966139724769,
           "value": 34272.659944000014,
           "variable": "harvestable_pods"
          },
          {
           "harvestable_pods": 34272.659944000014,
           "harvested_pods": 331032.2237,
           "season": 433,
           "timestamp": "2021-08-24T00:00:01",
           "unharvestable_pods": -326075.264661,
           "unharvestable_ratio": -8.311966139724769,
           "value": -8.311966139724769,
           "variable": "unharvestable_ratio"
          },
          {
           "harvestable_pods": 34272.659944000014,
           "harvested_pods": 331032.2237,
           "season": 433,
           "timestamp": "2021-08-24T00:00:01",
           "unharvestable_pods": -326075.264661,
           "unharvestable_ratio": -8.311966139724769,
           "value": -326075.264661,
           "variable": "unharvestable_pods"
          },
          {
           "harvestable_pods": 34272.659944000014,
           "harvested_pods": 331032.2237,
           "season": 433,
           "timestamp": "2021-08-24T00:00:01",
           "unharvestable_pods": -326075.264661,
           "unharvestable_ratio": -8.311966139724769,
           "value": 331032.2237,
           "variable": "harvested_pods"
          },
          {
           "harvestable_pods": 52124.72387300001,
           "harvested_pods": 360937.2237,
           "season": 457,
           "timestamp": "2021-08-25T00:00:23",
           "unharvestable_pods": -315515.22571699996,
           "unharvestable_ratio": -3.2345036277361374,
           "value": -315515.22571699996,
           "variable": "unharvestable_pods"
          },
          {
           "harvestable_pods": 52124.72387300001,
           "harvested_pods": 360937.2237,
           "season": 457,
           "timestamp": "2021-08-25T00:00:23",
           "unharvestable_pods": -315515.22571699996,
           "unharvestable_ratio": -3.2345036277361374,
           "value": 360937.2237,
           "variable": "harvested_pods"
          },
          {
           "harvestable_pods": 52124.72387300001,
           "harvested_pods": 360937.2237,
           "season": 457,
           "timestamp": "2021-08-25T00:00:23",
           "unharvestable_pods": -315515.22571699996,
           "unharvestable_ratio": -3.2345036277361374,
           "value": 52124.72387300001,
           "variable": "harvestable_pods"
          },
          {
           "harvestable_pods": 52124.72387300001,
           "harvested_pods": 360937.2237,
           "season": 457,
           "timestamp": "2021-08-25T00:00:23",
           "unharvestable_pods": -315515.22571699996,
           "unharvestable_ratio": -3.2345036277361374,
           "value": -3.2345036277361374,
           "variable": "unharvestable_ratio"
          },
          {
           "harvestable_pods": 11522.604041000013,
           "harvested_pods": 481553.509585,
           "season": 481,
           "timestamp": "2021-08-26T00:00:49",
           "unharvestable_pods": -432980.637823,
           "unharvestable_ratio": -7.204879103418055,
           "value": -7.204879103418055,
           "variable": "unharvestable_ratio"
          },
          {
           "harvestable_pods": 11522.604041000013,
           "harvested_pods": 481553.509585,
           "season": 481,
           "timestamp": "2021-08-26T00:00:49",
           "unharvestable_pods": -432980.637823,
           "unharvestable_ratio": -7.204879103418055,
           "value": -432980.637823,
           "variable": "unharvestable_pods"
          },
          {
           "harvestable_pods": 11522.604041000013,
           "harvested_pods": 481553.509585,
           "season": 481,
           "timestamp": "2021-08-26T00:00:49",
           "unharvestable_pods": -432980.637823,
           "unharvestable_ratio": -7.204879103418055,
           "value": 481553.509585,
           "variable": "harvested_pods"
          },
          {
           "harvestable_pods": 11522.604041000013,
           "harvested_pods": 481553.509585,
           "season": 481,
           "timestamp": "2021-08-26T00:00:49",
           "unharvestable_pods": -432980.637823,
           "unharvestable_ratio": -7.204879103418055,
           "value": 11522.604041000013,
           "variable": "harvestable_pods"
          },
          {
           "harvestable_pods": 79987.43674400006,
           "harvested_pods": 530358.688293,
           "season": 505,
           "timestamp": "2021-08-27T00:02:11",
           "unharvestable_pods": -610346.125037,
           "unharvestable_ratio": null,
           "value": 79987.43674400006,
           "variable": "harvestable_pods"
          },
          {
           "harvestable_pods": 79987.43674400006,
           "harvested_pods": 530358.688293,
           "season": 505,
           "timestamp": "2021-08-27T00:02:11",
           "unharvestable_pods": -610346.125037,
           "unharvestable_ratio": null,
           "value": null,
           "variable": "unharvestable_ratio"
          },
          {
           "harvestable_pods": 79987.43674400006,
           "harvested_pods": 530358.688293,
           "season": 505,
           "timestamp": "2021-08-27T00:02:11",
           "unharvestable_pods": -610346.125037,
           "unharvestable_ratio": null,
           "value": -610346.125037,
           "variable": "unharvestable_pods"
          },
          {
           "harvestable_pods": 79987.43674400006,
           "harvested_pods": 530358.688293,
           "season": 505,
           "timestamp": "2021-08-27T00:02:11",
           "unharvestable_pods": -610346.125037,
           "unharvestable_ratio": null,
           "value": 530358.688293,
           "variable": "harvested_pods"
          },
          {
           "harvestable_pods": 54913.30305400002,
           "harvested_pods": 564828.688293,
           "season": 529,
           "timestamp": "2021-08-28T00:05:42",
           "unharvestable_pods": -613144.69227,
           "unharvestable_ratio": -92.93874434275553,
           "value": -92.93874434275553,
           "variable": "unharvestable_ratio"
          },
          {
           "harvestable_pods": 54913.30305400002,
           "harvested_pods": 564828.688293,
           "season": 529,
           "timestamp": "2021-08-28T00:05:42",
           "unharvestable_pods": -613144.69227,
           "unharvestable_ratio": -92.93874434275553,
           "value": 54913.30305400002,
           "variable": "harvestable_pods"
          },
          {
           "harvestable_pods": 54913.30305400002,
           "harvested_pods": 564828.688293,
           "season": 529,
           "timestamp": "2021-08-28T00:05:42",
           "unharvestable_pods": -613144.69227,
           "unharvestable_ratio": -92.93874434275553,
           "value": 564828.688293,
           "variable": "harvested_pods"
          },
          {
           "harvestable_pods": 54913.30305400002,
           "harvested_pods": 564828.688293,
           "season": 529,
           "timestamp": "2021-08-28T00:05:42",
           "unharvestable_pods": -613144.69227,
           "unharvestable_ratio": -92.93874434275553,
           "value": -613144.69227,
           "variable": "unharvestable_pods"
          },
          {
           "harvestable_pods": 33700.57765800005,
           "harvested_pods": 593623.85368,
           "season": 553,
           "timestamp": "2021-08-29T00:00:21",
           "unharvestable_pods": -617920.460374,
           "unharvestable_ratio": -65.70846111068448,
           "value": -617920.460374,
           "variable": "unharvestable_pods"
          },
          {
           "harvestable_pods": 33700.57765800005,
           "harvested_pods": 593623.85368,
           "season": 553,
           "timestamp": "2021-08-29T00:00:21",
           "unharvestable_pods": -617920.460374,
           "unharvestable_ratio": -65.70846111068448,
           "value": 593623.85368,
           "variable": "harvested_pods"
          },
          {
           "harvestable_pods": 33700.57765800005,
           "harvested_pods": 593623.85368,
           "season": 553,
           "timestamp": "2021-08-29T00:00:21",
           "unharvestable_pods": -617920.460374,
           "unharvestable_ratio": -65.70846111068448,
           "value": 33700.57765800005,
           "variable": "harvestable_pods"
          },
          {
           "harvestable_pods": 33700.57765800005,
           "harvested_pods": 593623.85368,
           "season": 553,
           "timestamp": "2021-08-29T00:00:21",
           "unharvestable_pods": -617920.460374,
           "unharvestable_ratio": -65.70846111068448,
           "value": -65.70846111068448,
           "variable": "unharvestable_ratio"
          },
          {
           "harvestable_pods": 53404.54862200003,
           "harvested_pods": 593623.85368,
           "season": 577,
           "timestamp": "2021-08-30T00:00:41",
           "unharvestable_pods": -647028.402302,
           "unharvestable_ratio": null,
           "value": 53404.54862200003,
           "variable": "harvestable_pods"
          },
          {
           "harvestable_pods": 53404.54862200003,
           "harvested_pods": 593623.85368,
           "season": 577,
           "timestamp": "2021-08-30T00:00:41",
           "unharvestable_pods": -647028.402302,
           "unharvestable_ratio": null,
           "value": null,
           "variable": "unharvestable_ratio"
          },
          {
           "harvestable_pods": 53404.54862200003,
           "harvested_pods": 593623.85368,
           "season": 577,
           "timestamp": "2021-08-30T00:00:41",
           "unharvestable_pods": -647028.402302,
           "unharvestable_ratio": null,
           "value": -647028.402302,
           "variable": "unharvestable_pods"
          },
          {
           "harvestable_pods": 53404.54862200003,
           "harvested_pods": 593623.85368,
           "season": 577,
           "timestamp": "2021-08-30T00:00:41",
           "unharvestable_pods": -647028.402302,
           "unharvestable_ratio": null,
           "value": 593623.85368,
           "variable": "harvested_pods"
          },
          {
           "harvestable_pods": 53404.54862200003,
           "harvested_pods": 593623.85368,
           "season": 601,
           "timestamp": "2021-08-31T00:00:55",
           "unharvestable_pods": -647028.402302,
           "unharvestable_ratio": null,
           "value": -647028.402302,
           "variable": "unharvestable_pods"
          },
          {
           "harvestable_pods": 53404.54862200003,
           "harvested_pods": 593623.85368,
           "season": 601,
           "timestamp": "2021-08-31T00:00:55",
           "unharvestable_pods": -647028.402302,
           "unharvestable_ratio": null,
           "value": 593623.85368,
           "variable": "harvested_pods"
          },
          {
           "harvestable_pods": 53404.54862200003,
           "harvested_pods": 593623.85368,
           "season": 601,
           "timestamp": "2021-08-31T00:00:55",
           "unharvestable_pods": -647028.402302,
           "unharvestable_ratio": null,
           "value": 53404.54862200003,
           "variable": "harvestable_pods"
          },
          {
           "harvestable_pods": 53404.54862200003,
           "harvested_pods": 593623.85368,
           "season": 601,
           "timestamp": "2021-08-31T00:00:55",
           "unharvestable_pods": -647028.402302,
           "unharvestable_ratio": null,
           "value": null,
           "variable": "unharvestable_ratio"
          },
          {
           "harvestable_pods": 40108.12784699991,
           "harvested_pods": 612737.220849,
           "season": 625,
           "timestamp": "2021-09-01T00:00:46",
           "unharvestable_pods": -646622.2950899999,
           "unharvestable_ratio": -103.90755664816298,
           "value": -103.90755664816298,
           "variable": "unharvestable_ratio"
          },
          {
           "harvestable_pods": 40108.12784699991,
           "harvested_pods": 612737.220849,
           "season": 625,
           "timestamp": "2021-09-01T00:00:46",
           "unharvestable_pods": -646622.2950899999,
           "unharvestable_ratio": -103.90755664816298,
           "value": -646622.2950899999,
           "variable": "unharvestable_pods"
          },
          {
           "harvestable_pods": 40108.12784699991,
           "harvested_pods": 612737.220849,
           "season": 625,
           "timestamp": "2021-09-01T00:00:46",
           "unharvestable_pods": -646622.2950899999,
           "unharvestable_ratio": -103.90755664816298,
           "value": 612737.220849,
           "variable": "harvested_pods"
          },
          {
           "harvestable_pods": 40108.12784699991,
           "harvested_pods": 612737.220849,
           "season": 625,
           "timestamp": "2021-09-01T00:00:46",
           "unharvestable_pods": -646622.2950899999,
           "unharvestable_ratio": -103.90755664816298,
           "value": 40108.12784699991,
           "variable": "harvestable_pods"
          },
          {
           "harvestable_pods": 39282.219956999994,
           "harvested_pods": 630808.81999,
           "season": 649,
           "timestamp": "2021-09-02T00:02:18",
           "unharvestable_pods": -669026.281619,
           "unharvestable_ratio": -628.3362750265336,
           "value": 39282.219956999994,
           "variable": "harvestable_pods"
          },
          {
           "harvestable_pods": 39282.219956999994,
           "harvested_pods": 630808.81999,
           "season": 649,
           "timestamp": "2021-09-02T00:02:18",
           "unharvestable_pods": -669026.281619,
           "unharvestable_ratio": -628.3362750265336,
           "value": -628.3362750265336,
           "variable": "unharvestable_ratio"
          },
          {
           "harvestable_pods": 39282.219956999994,
           "harvested_pods": 630808.81999,
           "season": 649,
           "timestamp": "2021-09-02T00:02:18",
           "unharvestable_pods": -669026.281619,
           "unharvestable_ratio": -628.3362750265336,
           "value": -669026.281619,
           "variable": "unharvestable_pods"
          },
          {
           "harvestable_pods": 39282.219956999994,
           "harvested_pods": 630808.81999,
           "season": 649,
           "timestamp": "2021-09-02T00:02:18",
           "unharvestable_pods": -669026.281619,
           "unharvestable_ratio": -628.3362750265336,
           "value": 630808.81999,
           "variable": "harvested_pods"
          },
          {
           "harvestable_pods": 32715.436743999948,
           "harvested_pods": 643689.146625,
           "season": 673,
           "timestamp": "2021-09-03T00:00:21",
           "unharvestable_pods": -672773.368463,
           "unharvestable_ratio": -185.27500736774076,
           "value": -672773.368463,
           "variable": "unharvestable_pods"
          },
          {
           "harvestable_pods": 32715.436743999948,
           "harvested_pods": 643689.146625,
           "season": 673,
           "timestamp": "2021-09-03T00:00:21",
           "unharvestable_pods": -672773.368463,
           "unharvestable_ratio": -185.27500736774076,
           "value": 643689.146625,
           "variable": "harvested_pods"
          },
          {
           "harvestable_pods": 32715.436743999948,
           "harvested_pods": 643689.146625,
           "season": 673,
           "timestamp": "2021-09-03T00:00:21",
           "unharvestable_pods": -672773.368463,
           "unharvestable_ratio": -185.27500736774076,
           "value": 32715.436743999948,
           "variable": "harvestable_pods"
          },
          {
           "harvestable_pods": 32715.436743999948,
           "harvested_pods": 643689.146625,
           "season": 673,
           "timestamp": "2021-09-03T00:00:21",
           "unharvestable_pods": -672773.368463,
           "unharvestable_ratio": -185.27500736774076,
           "value": -185.27500736774076,
           "variable": "unharvestable_ratio"
          },
          {
           "harvestable_pods": 43770.215079999994,
           "harvested_pods": 643689.146625,
           "season": 697,
           "timestamp": "2021-09-04T00:02:33",
           "unharvestable_pods": -663742.925135,
           "unharvestable_ratio": -27.986621142511712,
           "value": -663742.925135,
           "variable": "unharvestable_pods"
          },
          {
           "harvestable_pods": 43770.215079999994,
           "harvested_pods": 643689.146625,
           "season": 697,
           "timestamp": "2021-09-04T00:02:33",
           "unharvestable_pods": -663742.925135,
           "unharvestable_ratio": -27.986621142511712,
           "value": 643689.146625,
           "variable": "harvested_pods"
          },
          {
           "harvestable_pods": 43770.215079999994,
           "harvested_pods": 643689.146625,
           "season": 697,
           "timestamp": "2021-09-04T00:02:33",
           "unharvestable_pods": -663742.925135,
           "unharvestable_ratio": -27.986621142511712,
           "value": 43770.215079999994,
           "variable": "harvestable_pods"
          },
          {
           "harvestable_pods": 43770.215079999994,
           "harvested_pods": 643689.146625,
           "season": 697,
           "timestamp": "2021-09-04T00:02:33",
           "unharvestable_pods": -663742.925135,
           "unharvestable_ratio": -27.986621142511712,
           "value": -27.986621142511712,
           "variable": "unharvestable_ratio"
          },
          {
           "harvestable_pods": 3010.009844999993,
           "harvested_pods": 703473.4368,
           "season": 721,
           "timestamp": "2021-09-05T00:02:38",
           "unharvestable_pods": -606936.725738,
           "unharvestable_ratio": -6.097003700453593,
           "value": -6.097003700453593,
           "variable": "unharvestable_ratio"
          },
          {
           "harvestable_pods": 3010.009844999993,
           "harvested_pods": 703473.4368,
           "season": 721,
           "timestamp": "2021-09-05T00:02:38",
           "unharvestable_pods": -606936.725738,
           "unharvestable_ratio": -6.097003700453593,
           "value": 3010.009844999993,
           "variable": "harvestable_pods"
          },
          {
           "harvestable_pods": 3010.009844999993,
           "harvested_pods": 703473.4368,
           "season": 721,
           "timestamp": "2021-09-05T00:02:38",
           "unharvestable_pods": -606936.725738,
           "unharvestable_ratio": -6.097003700453593,
           "value": 703473.4368,
           "variable": "harvested_pods"
          },
          {
           "harvestable_pods": 3010.009844999993,
           "harvested_pods": 703473.4368,
           "season": 721,
           "timestamp": "2021-09-05T00:02:38",
           "unharvestable_pods": -606936.725738,
           "unharvestable_ratio": -6.097003700453593,
           "value": -606936.725738,
           "variable": "unharvestable_pods"
          },
          {
           "harvestable_pods": 27614.523297999986,
           "harvested_pods": 710912.291775,
           "season": 745,
           "timestamp": "2021-09-06T00:00:31",
           "unharvestable_pods": -613008.14375,
           "unharvestable_ratio": -4.883800452066072,
           "value": -613008.14375,
           "variable": "unharvestable_pods"
          },
          {
           "harvestable_pods": 27614.523297999986,
           "harvested_pods": 710912.291775,
           "season": 745,
           "timestamp": "2021-09-06T00:00:31",
           "unharvestable_pods": -613008.14375,
           "unharvestable_ratio": -4.883800452066072,
           "value": 710912.291775,
           "variable": "harvested_pods"
          },
          {
           "harvestable_pods": 27614.523297999986,
           "harvested_pods": 710912.291775,
           "season": 745,
           "timestamp": "2021-09-06T00:00:31",
           "unharvestable_pods": -613008.14375,
           "unharvestable_ratio": -4.883800452066072,
           "value": 27614.523297999986,
           "variable": "harvestable_pods"
          },
          {
           "harvestable_pods": 27614.523297999986,
           "harvested_pods": 710912.291775,
           "season": 745,
           "timestamp": "2021-09-06T00:00:31",
           "unharvestable_pods": -613008.14375,
           "unharvestable_ratio": -4.883800452066072,
           "value": -4.883800452066072,
           "variable": "unharvestable_ratio"
          },
          {
           "harvestable_pods": 30826.41968499997,
           "harvested_pods": 758006.590898,
           "season": 769,
           "timestamp": "2021-09-07T00:00:25",
           "unharvestable_pods": -703290.078354,
           "unharvestable_ratio": -8.221486685437432,
           "value": -703290.078354,
           "variable": "unharvestable_pods"
          },
          {
           "harvestable_pods": 30826.41968499997,
           "harvested_pods": 758006.590898,
           "season": 769,
           "timestamp": "2021-09-07T00:00:25",
           "unharvestable_pods": -703290.078354,
           "unharvestable_ratio": -8.221486685437432,
           "value": 758006.590898,
           "variable": "harvested_pods"
          },
          {
           "harvestable_pods": 30826.41968499997,
           "harvested_pods": 758006.590898,
           "season": 769,
           "timestamp": "2021-09-07T00:00:25",
           "unharvestable_pods": -703290.078354,
           "unharvestable_ratio": -8.221486685437432,
           "value": 30826.41968499997,
           "variable": "harvestable_pods"
          },
          {
           "harvestable_pods": 30826.41968499997,
           "harvested_pods": 758006.590898,
           "season": 769,
           "timestamp": "2021-09-07T00:00:25",
           "unharvestable_pods": -703290.078354,
           "unharvestable_ratio": -8.221486685437432,
           "value": -8.221486685437432,
           "variable": "unharvestable_ratio"
          },
          {
           "harvestable_pods": 116369.351914,
           "harvested_pods": 758006.590898,
           "season": 793,
           "timestamp": "2021-09-08T00:00:43",
           "unharvestable_pods": -874375.942812,
           "unharvestable_ratio": null,
           "value": null,
           "variable": "unharvestable_ratio"
          },
          {
           "harvestable_pods": 116369.351914,
           "harvested_pods": 758006.590898,
           "season": 793,
           "timestamp": "2021-09-08T00:00:43",
           "unharvestable_pods": -874375.942812,
           "unharvestable_ratio": null,
           "value": 758006.590898,
           "variable": "harvested_pods"
          },
          {
           "harvestable_pods": 116369.351914,
           "harvested_pods": 758006.590898,
           "season": 793,
           "timestamp": "2021-09-08T00:00:43",
           "unharvestable_pods": -874375.942812,
           "unharvestable_ratio": null,
           "value": -874375.942812,
           "variable": "unharvestable_pods"
          },
          {
           "harvestable_pods": 116369.351914,
           "harvested_pods": 758006.590898,
           "season": 793,
           "timestamp": "2021-09-08T00:00:43",
           "unharvestable_pods": -874375.942812,
           "unharvestable_ratio": null,
           "value": 116369.351914,
           "variable": "harvestable_pods"
          },
          {
           "harvestable_pods": 111662.63340399996,
           "harvested_pods": 784201.640921,
           "season": 817,
           "timestamp": "2021-09-09T00:00:36",
           "unharvestable_pods": -882127.484676,
           "unharvestable_ratio": -64.21642226575234,
           "value": -882127.484676,
           "variable": "unharvestable_pods"
          },
          {
           "harvestable_pods": 111662.63340399996,
           "harvested_pods": 784201.640921,
           "season": 817,
           "timestamp": "2021-09-09T00:00:36",
           "unharvestable_pods": -882127.484676,
           "unharvestable_ratio": -64.21642226575234,
           "value": 784201.640921,
           "variable": "harvested_pods"
          },
          {
           "harvestable_pods": 111662.63340399996,
           "harvested_pods": 784201.640921,
           "season": 817,
           "timestamp": "2021-09-09T00:00:36",
           "unharvestable_pods": -882127.484676,
           "unharvestable_ratio": -64.21642226575234,
           "value": 111662.63340399996,
           "variable": "harvestable_pods"
          },
          {
           "harvestable_pods": 111662.63340399996,
           "harvested_pods": 784201.640921,
           "season": 817,
           "timestamp": "2021-09-09T00:00:36",
           "unharvestable_pods": -882127.484676,
           "unharvestable_ratio": -64.21642226575234,
           "value": -64.21642226575234,
           "variable": "unharvestable_ratio"
          },
          {
           "harvestable_pods": 75915.45785899996,
           "harvested_pods": 832681.871582,
           "season": 841,
           "timestamp": "2021-09-10T00:00:47",
           "unharvestable_pods": -848490.540704,
           "unharvestable_ratio": -14.116384497208944,
           "value": -14.116384497208944,
           "variable": "unharvestable_ratio"
          },
          {
           "harvestable_pods": 75915.45785899996,
           "harvested_pods": 832681.871582,
           "season": 841,
           "timestamp": "2021-09-10T00:00:47",
           "unharvestable_pods": -848490.540704,
           "unharvestable_ratio": -14.116384497208944,
           "value": -848490.540704,
           "variable": "unharvestable_pods"
          },
          {
           "harvestable_pods": 75915.45785899996,
           "harvested_pods": 832681.871582,
           "season": 841,
           "timestamp": "2021-09-10T00:00:47",
           "unharvestable_pods": -848490.540704,
           "unharvestable_ratio": -14.116384497208944,
           "value": 832681.871582,
           "variable": "harvested_pods"
          },
          {
           "harvestable_pods": 75915.45785899996,
           "harvested_pods": 832681.871582,
           "season": 841,
           "timestamp": "2021-09-10T00:00:47",
           "unharvestable_pods": -848490.540704,
           "unharvestable_ratio": -14.116384497208944,
           "value": 75915.45785899996,
           "variable": "harvestable_pods"
          },
          {
           "harvestable_pods": 82715.50115200004,
           "harvested_pods": 873427.751646,
           "season": 865,
           "timestamp": "2021-09-11T00:00:25",
           "unharvestable_pods": -916467.140207,
           "unharvestable_ratio": -23.09871306330773,
           "value": -23.09871306330773,
           "variable": "unharvestable_ratio"
          },
          {
           "harvestable_pods": 82715.50115200004,
           "harvested_pods": 873427.751646,
           "season": 865,
           "timestamp": "2021-09-11T00:00:25",
           "unharvestable_pods": -916467.140207,
           "unharvestable_ratio": -23.09871306330773,
           "value": 82715.50115200004,
           "variable": "harvestable_pods"
          },
          {
           "harvestable_pods": 82715.50115200004,
           "harvested_pods": 873427.751646,
           "season": 865,
           "timestamp": "2021-09-11T00:00:25",
           "unharvestable_pods": -916467.140207,
           "unharvestable_ratio": -23.09871306330773,
           "value": -916467.140207,
           "variable": "unharvestable_pods"
          },
          {
           "harvestable_pods": 82715.50115200004,
           "harvested_pods": 873427.751646,
           "season": 865,
           "timestamp": "2021-09-11T00:00:25",
           "unharvestable_pods": -916467.140207,
           "unharvestable_ratio": -23.09871306330773,
           "value": 873427.751646,
           "variable": "harvested_pods"
          },
          {
           "harvestable_pods": 43355.370027999976,
           "harvested_pods": 937356.244186,
           "season": 889,
           "timestamp": "2021-09-12T00:00:06",
           "unharvestable_pods": -926621.8913629999,
           "unharvestable_ratio": -17.131200577890716,
           "value": 43355.370027999976,
           "variable": "harvestable_pods"
          },
          {
           "harvestable_pods": 43355.370027999976,
           "harvested_pods": 937356.244186,
           "season": 889,
           "timestamp": "2021-09-12T00:00:06",
           "unharvestable_pods": -926621.8913629999,
           "unharvestable_ratio": -17.131200577890716,
           "value": -926621.8913629999,
           "variable": "unharvestable_pods"
          },
          {
           "harvestable_pods": 43355.370027999976,
           "harvested_pods": 937356.244186,
           "season": 889,
           "timestamp": "2021-09-12T00:00:06",
           "unharvestable_pods": -926621.8913629999,
           "unharvestable_ratio": -17.131200577890716,
           "value": 937356.244186,
           "variable": "harvested_pods"
          },
          {
           "harvestable_pods": 43355.370027999976,
           "harvested_pods": 937356.244186,
           "season": 889,
           "timestamp": "2021-09-12T00:00:06",
           "unharvestable_pods": -926621.8913629999,
           "unharvestable_ratio": -17.131200577890716,
           "value": -17.131200577890716,
           "variable": "unharvestable_ratio"
          },
          {
           "harvestable_pods": 30500.24680600001,
           "harvested_pods": 976330.024314,
           "season": 913,
           "timestamp": "2021-09-13T00:00:34",
           "unharvestable_pods": -917586.7416020001,
           "unharvestable_ratio": -10.281829355672528,
           "value": -10.281829355672528,
           "variable": "unharvestable_ratio"
          },
          {
           "harvestable_pods": 30500.24680600001,
           "harvested_pods": 976330.024314,
           "season": 913,
           "timestamp": "2021-09-13T00:00:34",
           "unharvestable_pods": -917586.7416020001,
           "unharvestable_ratio": -10.281829355672528,
           "value": 30500.24680600001,
           "variable": "harvestable_pods"
          },
          {
           "harvestable_pods": 30500.24680600001,
           "harvested_pods": 976330.024314,
           "season": 913,
           "timestamp": "2021-09-13T00:00:34",
           "unharvestable_pods": -917586.7416020001,
           "unharvestable_ratio": -10.281829355672528,
           "value": 976330.024314,
           "variable": "harvested_pods"
          },
          {
           "harvestable_pods": 30500.24680600001,
           "harvested_pods": 976330.024314,
           "season": 913,
           "timestamp": "2021-09-13T00:00:34",
           "unharvestable_pods": -917586.7416020001,
           "unharvestable_ratio": -10.281829355672528,
           "value": -917586.7416020001,
           "variable": "unharvestable_pods"
          },
          {
           "harvestable_pods": 89057.04180500004,
           "harvested_pods": 993469.008135,
           "season": 937,
           "timestamp": "2021-09-14T00:01:09",
           "unharvestable_pods": -1058136.368978,
           "unharvestable_ratio": -43.38459246870078,
           "value": -1058136.368978,
           "variable": "unharvestable_pods"
          },
          {
           "harvestable_pods": 89057.04180500004,
           "harvested_pods": 993469.008135,
           "season": 937,
           "timestamp": "2021-09-14T00:01:09",
           "unharvestable_pods": -1058136.368978,
           "unharvestable_ratio": -43.38459246870078,
           "value": 993469.008135,
           "variable": "harvested_pods"
          },
          {
           "harvestable_pods": 89057.04180500004,
           "harvested_pods": 993469.008135,
           "season": 937,
           "timestamp": "2021-09-14T00:01:09",
           "unharvestable_pods": -1058136.368978,
           "unharvestable_ratio": -43.38459246870078,
           "value": 89057.04180500004,
           "variable": "harvestable_pods"
          },
          {
           "harvestable_pods": 89057.04180500004,
           "harvested_pods": 993469.008135,
           "season": 937,
           "timestamp": "2021-09-14T00:01:09",
           "unharvestable_pods": -1058136.368978,
           "unharvestable_ratio": -43.38459246870078,
           "value": -43.38459246870078,
           "variable": "unharvestable_ratio"
          },
          {
           "harvestable_pods": 42658.86335400003,
           "harvested_pods": 1068516.490149,
           "season": 961,
           "timestamp": "2021-09-15T00:00:38",
           "unharvestable_pods": -1078881.87745,
           "unharvestable_ratio": -33.40866358515698,
           "value": 42658.86335400003,
           "variable": "harvestable_pods"
          },
          {
           "harvestable_pods": 42658.86335400003,
           "harvested_pods": 1068516.490149,
           "season": 961,
           "timestamp": "2021-09-15T00:00:38",
           "unharvestable_pods": -1078881.87745,
           "unharvestable_ratio": -33.40866358515698,
           "value": -33.40866358515698,
           "variable": "unharvestable_ratio"
          },
          {
           "harvestable_pods": 42658.86335400003,
           "harvested_pods": 1068516.490149,
           "season": 961,
           "timestamp": "2021-09-15T00:00:38",
           "unharvestable_pods": -1078881.87745,
           "unharvestable_ratio": -33.40866358515698,
           "value": -1078881.87745,
           "variable": "unharvestable_pods"
          },
          {
           "harvestable_pods": 42658.86335400003,
           "harvested_pods": 1068516.490149,
           "season": 961,
           "timestamp": "2021-09-15T00:00:38",
           "unharvestable_pods": -1078881.87745,
           "unharvestable_ratio": -33.40866358515698,
           "value": 1068516.490149,
           "variable": "harvested_pods"
          },
          {
           "harvestable_pods": 29131.22802000004,
           "harvested_pods": 1114444.480103,
           "season": 985,
           "timestamp": "2021-09-16T00:00:42",
           "unharvestable_pods": -1143575.708123,
           "unharvestable_ratio": null,
           "value": -1143575.708123,
           "variable": "unharvestable_pods"
          },
          {
           "harvestable_pods": 29131.22802000004,
           "harvested_pods": 1114444.480103,
           "season": 985,
           "timestamp": "2021-09-16T00:00:42",
           "unharvestable_pods": -1143575.708123,
           "unharvestable_ratio": null,
           "value": 1114444.480103,
           "variable": "harvested_pods"
          },
          {
           "harvestable_pods": 29131.22802000004,
           "harvested_pods": 1114444.480103,
           "season": 985,
           "timestamp": "2021-09-16T00:00:42",
           "unharvestable_pods": -1143575.708123,
           "unharvestable_ratio": null,
           "value": 29131.22802000004,
           "variable": "harvestable_pods"
          },
          {
           "harvestable_pods": 29131.22802000004,
           "harvested_pods": 1114444.480103,
           "season": 985,
           "timestamp": "2021-09-16T00:00:42",
           "unharvestable_pods": -1143575.708123,
           "unharvestable_ratio": null,
           "value": null,
           "variable": "unharvestable_ratio"
          },
          {
           "harvestable_pods": 29476.81179299997,
           "harvested_pods": 1164021.465089,
           "season": 1009,
           "timestamp": "2021-09-17T00:00:26",
           "unharvestable_pods": -1190445.412196,
           "unharvestable_ratio": -389.9437199608657,
           "value": -389.9437199608657,
           "variable": "unharvestable_ratio"
          },
          {
           "harvestable_pods": 29476.81179299997,
           "harvested_pods": 1164021.465089,
           "season": 1009,
           "timestamp": "2021-09-17T00:00:26",
           "unharvestable_pods": -1190445.412196,
           "unharvestable_ratio": -389.9437199608657,
           "value": -1190445.412196,
           "variable": "unharvestable_pods"
          },
          {
           "harvestable_pods": 29476.81179299997,
           "harvested_pods": 1164021.465089,
           "season": 1009,
           "timestamp": "2021-09-17T00:00:26",
           "unharvestable_pods": -1190445.412196,
           "unharvestable_ratio": -389.9437199608657,
           "value": 1164021.465089,
           "variable": "harvested_pods"
          },
          {
           "harvestable_pods": 29476.81179299997,
           "harvested_pods": 1164021.465089,
           "season": 1009,
           "timestamp": "2021-09-17T00:00:26",
           "unharvestable_pods": -1190445.412196,
           "unharvestable_ratio": -389.9437199608657,
           "value": 29476.81179299997,
           "variable": "harvestable_pods"
          },
          {
           "harvestable_pods": 29948.2261630001,
           "harvested_pods": 1292018.380774,
           "season": 1033,
           "timestamp": "2021-09-18T00:01:18",
           "unharvestable_pods": -1304186.421915,
           "unharvestable_ratio": -73.35055401849237,
           "value": 1292018.380774,
           "variable": "harvested_pods"
          },
          {
           "harvestable_pods": 29948.2261630001,
           "harvested_pods": 1292018.380774,
           "season": 1033,
           "timestamp": "2021-09-18T00:01:18",
           "unharvestable_pods": -1304186.421915,
           "unharvestable_ratio": -73.35055401849237,
           "value": 29948.2261630001,
           "variable": "harvestable_pods"
          },
          {
           "harvestable_pods": 29948.2261630001,
           "harvested_pods": 1292018.380774,
           "season": 1033,
           "timestamp": "2021-09-18T00:01:18",
           "unharvestable_pods": -1304186.421915,
           "unharvestable_ratio": -73.35055401849237,
           "value": -1304186.421915,
           "variable": "unharvestable_pods"
          },
          {
           "harvestable_pods": 29948.2261630001,
           "harvested_pods": 1292018.380774,
           "season": 1033,
           "timestamp": "2021-09-18T00:01:18",
           "unharvestable_pods": -1304186.421915,
           "unharvestable_ratio": -73.35055401849237,
           "value": -73.35055401849237,
           "variable": "unharvestable_ratio"
          },
          {
           "harvestable_pods": 52890.86466099997,
           "harvested_pods": 1561259.973246,
           "season": 1057,
           "timestamp": "2021-09-19T00:00:06",
           "unharvestable_pods": -1608324.956468,
           "unharvestable_ratio": -276.06551443039075,
           "value": -276.06551443039075,
           "variable": "unharvestable_ratio"
          },
          {
           "harvestable_pods": 52890.86466099997,
           "harvested_pods": 1561259.973246,
           "season": 1057,
           "timestamp": "2021-09-19T00:00:06",
           "unharvestable_pods": -1608324.956468,
           "unharvestable_ratio": -276.06551443039075,
           "value": 52890.86466099997,
           "variable": "harvestable_pods"
          },
          {
           "harvestable_pods": 52890.86466099997,
           "harvested_pods": 1561259.973246,
           "season": 1057,
           "timestamp": "2021-09-19T00:00:06",
           "unharvestable_pods": -1608324.956468,
           "unharvestable_ratio": -276.06551443039075,
           "value": -1608324.956468,
           "variable": "unharvestable_pods"
          },
          {
           "harvestable_pods": 52890.86466099997,
           "harvested_pods": 1561259.973246,
           "season": 1057,
           "timestamp": "2021-09-19T00:00:06",
           "unharvestable_pods": -1608324.956468,
           "unharvestable_ratio": -276.06551443039075,
           "value": 1561259.973246,
           "variable": "harvested_pods"
          },
          {
           "harvestable_pods": 18630.720659999875,
           "harvested_pods": 1709209.607215,
           "season": 1081,
           "timestamp": "2021-09-20T00:01:40",
           "unharvestable_pods": -1408143.266152,
           "unharvestable_ratio": -4.404617479318841,
           "value": -1408143.266152,
           "variable": "unharvestable_pods"
          },
          {
           "harvestable_pods": 18630.720659999875,
           "harvested_pods": 1709209.607215,
           "season": 1081,
           "timestamp": "2021-09-20T00:01:40",
           "unharvestable_pods": -1408143.266152,
           "unharvestable_ratio": -4.404617479318841,
           "value": 1709209.607215,
           "variable": "harvested_pods"
          },
          {
           "harvestable_pods": 18630.720659999875,
           "harvested_pods": 1709209.607215,
           "season": 1081,
           "timestamp": "2021-09-20T00:01:40",
           "unharvestable_pods": -1408143.266152,
           "unharvestable_ratio": -4.404617479318841,
           "value": 18630.720659999875,
           "variable": "harvestable_pods"
          },
          {
           "harvestable_pods": 18630.720659999875,
           "harvested_pods": 1709209.607215,
           "season": 1081,
           "timestamp": "2021-09-20T00:01:40",
           "unharvestable_pods": -1408143.266152,
           "unharvestable_ratio": -4.404617479318841,
           "value": -4.404617479318841,
           "variable": "unharvestable_ratio"
          },
          {
           "harvestable_pods": 5379.988659000024,
           "harvested_pods": 1722460.339216,
           "season": 1105,
           "timestamp": "2021-09-21T00:01:43",
           "unharvestable_pods": 1310933.3650429999,
           "unharvestable_ratio": 0.43140210411133595,
           "value": 5379.988659000024,
           "variable": "harvestable_pods"
          },
          {
           "harvestable_pods": 5379.988659000024,
           "harvested_pods": 1722460.339216,
           "season": 1105,
           "timestamp": "2021-09-21T00:01:43",
           "unharvestable_pods": 1310933.3650429999,
           "unharvestable_ratio": 0.43140210411133595,
           "value": 0.43140210411133595,
           "variable": "unharvestable_ratio"
          },
          {
           "harvestable_pods": 5379.988659000024,
           "harvested_pods": 1722460.339216,
           "season": 1105,
           "timestamp": "2021-09-21T00:01:43",
           "unharvestable_pods": 1310933.3650429999,
           "unharvestable_ratio": 0.43140210411133595,
           "value": 1310933.3650429999,
           "variable": "unharvestable_pods"
          },
          {
           "harvestable_pods": 5379.988659000024,
           "harvested_pods": 1722460.339216,
           "season": 1105,
           "timestamp": "2021-09-21T00:01:43",
           "unharvestable_pods": 1310933.3650429999,
           "unharvestable_ratio": 0.43140210411133595,
           "value": 1722460.339216,
           "variable": "harvested_pods"
          },
          {
           "harvestable_pods": 5135.569747000001,
           "harvested_pods": 1761835.650094,
           "season": 1129,
           "timestamp": "2021-09-22T00:00:16",
           "unharvestable_pods": 1749162.145036,
           "unharvestable_ratio": 0.49746752000608163,
           "value": 1749162.145036,
           "variable": "unharvestable_pods"
          },
          {
           "harvestable_pods": 5135.569747000001,
           "harvested_pods": 1761835.650094,
           "season": 1129,
           "timestamp": "2021-09-22T00:00:16",
           "unharvestable_pods": 1749162.145036,
           "unharvestable_ratio": 0.49746752000608163,
           "value": 1761835.650094,
           "variable": "harvested_pods"
          },
          {
           "harvestable_pods": 5135.569747000001,
           "harvested_pods": 1761835.650094,
           "season": 1129,
           "timestamp": "2021-09-22T00:00:16",
           "unharvestable_pods": 1749162.145036,
           "unharvestable_ratio": 0.49746752000608163,
           "value": 5135.569747000001,
           "variable": "harvestable_pods"
          },
          {
           "harvestable_pods": 5135.569747000001,
           "harvested_pods": 1761835.650094,
           "season": 1129,
           "timestamp": "2021-09-22T00:00:16",
           "unharvestable_pods": 1749162.145036,
           "unharvestable_ratio": 0.49746752000608163,
           "value": 0.49746752000608163,
           "variable": "unharvestable_ratio"
          },
          {
           "harvestable_pods": 5135.569747000001,
           "harvested_pods": 1761835.650094,
           "season": 1153,
           "timestamp": "2021-09-23T00:02:36",
           "unharvestable_pods": 1856346.8076160003,
           "unharvestable_ratio": 0.5123333898787968,
           "value": 0.5123333898787968,
           "variable": "unharvestable_ratio"
          },
          {
           "harvestable_pods": 5135.569747000001,
           "harvested_pods": 1761835.650094,
           "season": 1153,
           "timestamp": "2021-09-23T00:02:36",
           "unharvestable_pods": 1856346.8076160003,
           "unharvestable_ratio": 0.5123333898787968,
           "value": 1856346.8076160003,
           "variable": "unharvestable_pods"
          },
          {
           "harvestable_pods": 5135.569747000001,
           "harvested_pods": 1761835.650094,
           "season": 1153,
           "timestamp": "2021-09-23T00:02:36",
           "unharvestable_pods": 1856346.8076160003,
           "unharvestable_ratio": 0.5123333898787968,
           "value": 1761835.650094,
           "variable": "harvested_pods"
          },
          {
           "harvestable_pods": 5135.569747000001,
           "harvested_pods": 1761835.650094,
           "season": 1153,
           "timestamp": "2021-09-23T00:02:36",
           "unharvestable_pods": 1856346.8076160003,
           "unharvestable_ratio": 0.5123333898787968,
           "value": 5135.569747000001,
           "variable": "harvestable_pods"
          },
          {
           "harvestable_pods": 5135.569747000001,
           "harvested_pods": 1761835.650094,
           "season": 1177,
           "timestamp": "2021-09-24T00:00:19",
           "unharvestable_pods": 2351529.879768,
           "unharvestable_ratio": 0.5709674036486838,
           "value": 5135.569747000001,
           "variable": "harvestable_pods"
          },
          {
           "harvestable_pods": 5135.569747000001,
           "harvested_pods": 1761835.650094,
           "season": 1177,
           "timestamp": "2021-09-24T00:00:19",
           "unharvestable_pods": 2351529.879768,
           "unharvestable_ratio": 0.5709674036486838,
           "value": 0.5709674036486838,
           "variable": "unharvestable_ratio"
          },
          {
           "harvestable_pods": 5135.569747000001,
           "harvested_pods": 1761835.650094,
           "season": 1177,
           "timestamp": "2021-09-24T00:00:19",
           "unharvestable_pods": 2351529.879768,
           "unharvestable_ratio": 0.5709674036486838,
           "value": 2351529.879768,
           "variable": "unharvestable_pods"
          },
          {
           "harvestable_pods": 5135.569747000001,
           "harvested_pods": 1761835.650094,
           "season": 1177,
           "timestamp": "2021-09-24T00:00:19",
           "unharvestable_pods": 2351529.879768,
           "unharvestable_ratio": 0.5709674036486838,
           "value": 1761835.650094,
           "variable": "harvested_pods"
          },
          {
           "harvestable_pods": 5135.569747000001,
           "harvested_pods": 1761835.650094,
           "season": 1201,
           "timestamp": "2021-09-25T00:00:21",
           "unharvestable_pods": 2871975.965969,
           "unharvestable_ratio": 0.6191008112258835,
           "value": 2871975.965969,
           "variable": "unharvestable_pods"
          },
          {
           "harvestable_pods": 5135.569747000001,
           "harvested_pods": 1761835.650094,
           "season": 1201,
           "timestamp": "2021-09-25T00:00:21",
           "unharvestable_pods": 2871975.965969,
           "unharvestable_ratio": 0.6191008112258835,
           "value": 1761835.650094,
           "variable": "harvested_pods"
          },
          {
           "harvestable_pods": 5135.569747000001,
           "harvested_pods": 1761835.650094,
           "season": 1201,
           "timestamp": "2021-09-25T00:00:21",
           "unharvestable_pods": 2871975.965969,
           "unharvestable_ratio": 0.6191008112258835,
           "value": 5135.569747000001,
           "variable": "harvestable_pods"
          },
          {
           "harvestable_pods": 5135.569747000001,
           "harvested_pods": 1761835.650094,
           "season": 1201,
           "timestamp": "2021-09-25T00:00:21",
           "unharvestable_pods": 2871975.965969,
           "unharvestable_ratio": 0.6191008112258835,
           "value": 0.6191008112258835,
           "variable": "unharvestable_ratio"
          },
          {
           "harvestable_pods": 5135.569747000001,
           "harvested_pods": 1761835.650094,
           "season": 1225,
           "timestamp": "2021-09-26T00:00:25",
           "unharvestable_pods": 3555492.614283,
           "unharvestable_ratio": 0.6680163031804203,
           "value": 3555492.614283,
           "variable": "unharvestable_pods"
          },
          {
           "harvestable_pods": 5135.569747000001,
           "harvested_pods": 1761835.650094,
           "season": 1225,
           "timestamp": "2021-09-26T00:00:25",
           "unharvestable_pods": 3555492.614283,
           "unharvestable_ratio": 0.6680163031804203,
           "value": 1761835.650094,
           "variable": "harvested_pods"
          },
          {
           "harvestable_pods": 5135.569747000001,
           "harvested_pods": 1761835.650094,
           "season": 1225,
           "timestamp": "2021-09-26T00:00:25",
           "unharvestable_pods": 3555492.614283,
           "unharvestable_ratio": 0.6680163031804203,
           "value": 5135.569747000001,
           "variable": "harvestable_pods"
          },
          {
           "harvestable_pods": 5135.569747000001,
           "harvested_pods": 1761835.650094,
           "season": 1225,
           "timestamp": "2021-09-26T00:00:25",
           "unharvestable_pods": 3555492.614283,
           "unharvestable_ratio": 0.6680163031804203,
           "value": 0.6680163031804203,
           "variable": "unharvestable_ratio"
          },
          {
           "harvestable_pods": 5121.1078579998575,
           "harvested_pods": 1761850.111983,
           "season": 1249,
           "timestamp": "2021-09-27T00:00:01",
           "unharvestable_pods": 5071237.549070001,
           "unharvestable_ratio": 0.741603206401902,
           "value": 0.741603206401902,
           "variable": "unharvestable_ratio"
          },
          {
           "harvestable_pods": 5121.1078579998575,
           "harvested_pods": 1761850.111983,
           "season": 1249,
           "timestamp": "2021-09-27T00:00:01",
           "unharvestable_pods": 5071237.549070001,
           "unharvestable_ratio": 0.741603206401902,
           "value": 5121.1078579998575,
           "variable": "harvestable_pods"
          },
          {
           "harvestable_pods": 5121.1078579998575,
           "harvested_pods": 1761850.111983,
           "season": 1249,
           "timestamp": "2021-09-27T00:00:01",
           "unharvestable_pods": 5071237.549070001,
           "unharvestable_ratio": 0.741603206401902,
           "value": 1761850.111983,
           "variable": "harvested_pods"
          },
          {
           "harvestable_pods": 5121.1078579998575,
           "harvested_pods": 1761850.111983,
           "season": 1249,
           "timestamp": "2021-09-27T00:00:01",
           "unharvestable_pods": 5071237.549070001,
           "unharvestable_ratio": 0.741603206401902,
           "value": 5071237.549070001,
           "variable": "unharvestable_pods"
          },
          {
           "harvestable_pods": 5121.1078579998575,
           "harvested_pods": 1761850.111983,
           "season": 1273,
           "timestamp": "2021-09-28T00:00:06",
           "unharvestable_pods": 5906095.4669820005,
           "unharvestable_ratio": 0.7697177293043173,
           "value": 5906095.4669820005,
           "variable": "unharvestable_pods"
          },
          {
           "harvestable_pods": 5121.1078579998575,
           "harvested_pods": 1761850.111983,
           "season": 1273,
           "timestamp": "2021-09-28T00:00:06",
           "unharvestable_pods": 5906095.4669820005,
           "unharvestable_ratio": 0.7697177293043173,
           "value": 1761850.111983,
           "variable": "harvested_pods"
          },
          {
           "harvestable_pods": 5121.1078579998575,
           "harvested_pods": 1761850.111983,
           "season": 1273,
           "timestamp": "2021-09-28T00:00:06",
           "unharvestable_pods": 5906095.4669820005,
           "unharvestable_ratio": 0.7697177293043173,
           "value": 5121.1078579998575,
           "variable": "harvestable_pods"
          },
          {
           "harvestable_pods": 5121.1078579998575,
           "harvested_pods": 1761850.111983,
           "season": 1273,
           "timestamp": "2021-09-28T00:00:06",
           "unharvestable_pods": 5906095.4669820005,
           "unharvestable_ratio": 0.7697177293043173,
           "value": 0.7697177293043173,
           "variable": "unharvestable_ratio"
          },
          {
           "harvestable_pods": 5121.1078579998575,
           "harvested_pods": 1761850.111983,
           "season": 1297,
           "timestamp": "2021-09-29T00:00:20",
           "unharvestable_pods": 7795719.454109,
           "unharvestable_ratio": 0.8152223803856318,
           "value": 7795719.454109,
           "variable": "unharvestable_pods"
          },
          {
           "harvestable_pods": 5121.1078579998575,
           "harvested_pods": 1761850.111983,
           "season": 1297,
           "timestamp": "2021-09-29T00:00:20",
           "unharvestable_pods": 7795719.454109,
           "unharvestable_ratio": 0.8152223803856318,
           "value": 1761850.111983,
           "variable": "harvested_pods"
          },
          {
           "harvestable_pods": 5121.1078579998575,
           "harvested_pods": 1761850.111983,
           "season": 1297,
           "timestamp": "2021-09-29T00:00:20",
           "unharvestable_pods": 7795719.454109,
           "unharvestable_ratio": 0.8152223803856318,
           "value": 5121.1078579998575,
           "variable": "harvestable_pods"
          },
          {
           "harvestable_pods": 5121.1078579998575,
           "harvested_pods": 1761850.111983,
           "season": 1297,
           "timestamp": "2021-09-29T00:00:20",
           "unharvestable_pods": 7795719.454109,
           "unharvestable_ratio": 0.8152223803856318,
           "value": 0.8152223803856318,
           "variable": "unharvestable_ratio"
          },
          {
           "harvestable_pods": 5121.1078579998575,
           "harvested_pods": 1761850.111983,
           "season": 1321,
           "timestamp": "2021-09-30T00:01:52",
           "unharvestable_pods": 9042663.866529,
           "unharvestable_ratio": 0.8365373848679688,
           "value": 0.8365373848679688,
           "variable": "unharvestable_ratio"
          },
          {
           "harvestable_pods": 5121.1078579998575,
           "harvested_pods": 1761850.111983,
           "season": 1321,
           "timestamp": "2021-09-30T00:01:52",
           "unharvestable_pods": 9042663.866529,
           "unharvestable_ratio": 0.8365373848679688,
           "value": 5121.1078579998575,
           "variable": "harvestable_pods"
          },
          {
           "harvestable_pods": 5121.1078579998575,
           "harvested_pods": 1761850.111983,
           "season": 1321,
           "timestamp": "2021-09-30T00:01:52",
           "unharvestable_pods": 9042663.866529,
           "unharvestable_ratio": 0.8365373848679688,
           "value": 9042663.866529,
           "variable": "unharvestable_pods"
          },
          {
           "harvestable_pods": 5121.1078579998575,
           "harvested_pods": 1761850.111983,
           "season": 1321,
           "timestamp": "2021-09-30T00:01:52",
           "unharvestable_pods": 9042663.866529,
           "unharvestable_ratio": 0.8365373848679688,
           "value": 1761850.111983,
           "variable": "harvested_pods"
          },
          {
           "harvestable_pods": 9574.00044000009,
           "harvested_pods": 1774549.179391,
           "season": 1345,
           "timestamp": "2021-10-01T00:01:44",
           "unharvestable_pods": 11691123.524688,
           "unharvestable_ratio": 0.8675999616962349,
           "value": 11691123.524688,
           "variable": "unharvestable_pods"
          },
          {
           "harvestable_pods": 9574.00044000009,
           "harvested_pods": 1774549.179391,
           "season": 1345,
           "timestamp": "2021-10-01T00:01:44",
           "unharvestable_pods": 11691123.524688,
           "unharvestable_ratio": 0.8675999616962349,
           "value": 1774549.179391,
           "variable": "harvested_pods"
          },
          {
           "harvestable_pods": 9574.00044000009,
           "harvested_pods": 1774549.179391,
           "season": 1345,
           "timestamp": "2021-10-01T00:01:44",
           "unharvestable_pods": 11691123.524688,
           "unharvestable_ratio": 0.8675999616962349,
           "value": 9574.00044000009,
           "variable": "harvestable_pods"
          },
          {
           "harvestable_pods": 9574.00044000009,
           "harvested_pods": 1774549.179391,
           "season": 1345,
           "timestamp": "2021-10-01T00:01:44",
           "unharvestable_pods": 11691123.524688,
           "unharvestable_ratio": 0.8675999616962349,
           "value": 0.8675999616962349,
           "variable": "unharvestable_ratio"
          },
          {
           "harvestable_pods": 60024.322716000024,
           "harvested_pods": 1896184.947802,
           "season": 1369,
           "timestamp": "2021-10-02T00:00:44",
           "unharvestable_pods": 12300138.768626,
           "unharvestable_ratio": 0.8627832832681421,
           "value": 60024.322716000024,
           "variable": "harvestable_pods"
          },
          {
           "harvestable_pods": 60024.322716000024,
           "harvested_pods": 1896184.947802,
           "season": 1369,
           "timestamp": "2021-10-02T00:00:44",
           "unharvestable_pods": 12300138.768626,
           "unharvestable_ratio": 0.8627832832681421,
           "value": 0.8627832832681421,
           "variable": "unharvestable_ratio"
          },
          {
           "harvestable_pods": 60024.322716000024,
           "harvested_pods": 1896184.947802,
           "season": 1369,
           "timestamp": "2021-10-02T00:00:44",
           "unharvestable_pods": 12300138.768626,
           "unharvestable_ratio": 0.8627832832681421,
           "value": 12300138.768626,
           "variable": "unharvestable_pods"
          },
          {
           "harvestable_pods": 60024.322716000024,
           "harvested_pods": 1896184.947802,
           "season": 1369,
           "timestamp": "2021-10-02T00:00:44",
           "unharvestable_pods": 12300138.768626,
           "unharvestable_ratio": 0.8627832832681421,
           "value": 1896184.947802,
           "variable": "harvested_pods"
          },
          {
           "harvestable_pods": 42620.14066300006,
           "harvested_pods": 1913589.129855,
           "season": 1393,
           "timestamp": "2021-10-03T00:00:05",
           "unharvestable_pods": 12420975.749130001,
           "unharvestable_ratio": 0.8639365586625877,
           "value": 1913589.129855,
           "variable": "harvested_pods"
          },
          {
           "harvestable_pods": 42620.14066300006,
           "harvested_pods": 1913589.129855,
           "season": 1393,
           "timestamp": "2021-10-03T00:00:05",
           "unharvestable_pods": 12420975.749130001,
           "unharvestable_ratio": 0.8639365586625877,
           "value": 42620.14066300006,
           "variable": "harvestable_pods"
          },
          {
           "harvestable_pods": 42620.14066300006,
           "harvested_pods": 1913589.129855,
           "season": 1393,
           "timestamp": "2021-10-03T00:00:05",
           "unharvestable_pods": 12420975.749130001,
           "unharvestable_ratio": 0.8639365586625877,
           "value": 0.8639365586625877,
           "variable": "unharvestable_ratio"
          },
          {
           "harvestable_pods": 42620.14066300006,
           "harvested_pods": 1913589.129855,
           "season": 1393,
           "timestamp": "2021-10-03T00:00:05",
           "unharvestable_pods": 12420975.749130001,
           "unharvestable_ratio": 0.8639365586625877,
           "value": 12420975.749130001,
           "variable": "unharvestable_pods"
          },
          {
           "harvestable_pods": 42620.14066300006,
           "harvested_pods": 1913589.129855,
           "season": 1417,
           "timestamp": "2021-10-04T00:00:32",
           "unharvestable_pods": 13075868.837169,
           "unharvestable_ratio": 0.8698643489939261,
           "value": 13075868.837169,
           "variable": "unharvestable_pods"
          },
          {
           "harvestable_pods": 42620.14066300006,
           "harvested_pods": 1913589.129855,
           "season": 1417,
           "timestamp": "2021-10-04T00:00:32",
           "unharvestable_pods": 13075868.837169,
           "unharvestable_ratio": 0.8698643489939261,
           "value": 1913589.129855,
           "variable": "harvested_pods"
          },
          {
           "harvestable_pods": 42620.14066300006,
           "harvested_pods": 1913589.129855,
           "season": 1417,
           "timestamp": "2021-10-04T00:00:32",
           "unharvestable_pods": 13075868.837169,
           "unharvestable_ratio": 0.8698643489939261,
           "value": 42620.14066300006,
           "variable": "harvestable_pods"
          },
          {
           "harvestable_pods": 42620.14066300006,
           "harvested_pods": 1913589.129855,
           "season": 1417,
           "timestamp": "2021-10-04T00:00:32",
           "unharvestable_pods": 13075868.837169,
           "unharvestable_ratio": 0.8698643489939261,
           "value": 0.8698643489939261,
           "variable": "unharvestable_ratio"
          },
          {
           "harvestable_pods": 42620.14066300006,
           "harvested_pods": 1913589.129855,
           "season": 1441,
           "timestamp": "2021-10-05T00:03:55",
           "unharvestable_pods": 13385351.550535,
           "unharvestable_ratio": 0.8724895534857495,
           "value": 42620.14066300006,
           "variable": "harvestable_pods"
          },
          {
           "harvestable_pods": 42620.14066300006,
           "harvested_pods": 1913589.129855,
           "season": 1441,
           "timestamp": "2021-10-05T00:03:55",
           "unharvestable_pods": 13385351.550535,
           "unharvestable_ratio": 0.8724895534857495,
           "value": 0.8724895534857495,
           "variable": "unharvestable_ratio"
          },
          {
           "harvestable_pods": 42620.14066300006,
           "harvested_pods": 1913589.129855,
           "season": 1441,
           "timestamp": "2021-10-05T00:03:55",
           "unharvestable_pods": 13385351.550535,
           "unharvestable_ratio": 0.8724895534857495,
           "value": 1913589.129855,
           "variable": "harvested_pods"
          },
          {
           "harvestable_pods": 42620.14066300006,
           "harvested_pods": 1913589.129855,
           "season": 1441,
           "timestamp": "2021-10-05T00:03:55",
           "unharvestable_pods": 13385351.550535,
           "unharvestable_ratio": 0.8724895534857495,
           "value": 13385351.550535,
           "variable": "unharvestable_pods"
          },
          {
           "harvestable_pods": 42620.14066300006,
           "harvested_pods": 1913589.129855,
           "season": 1465,
           "timestamp": "2021-10-06T00:01:34",
           "unharvestable_pods": 14247643.821707001,
           "unharvestable_ratio": 0.8792750551745846,
           "value": 14247643.821707001,
           "variable": "unharvestable_pods"
          },
          {
           "harvestable_pods": 42620.14066300006,
           "harvested_pods": 1913589.129855,
           "season": 1465,
           "timestamp": "2021-10-06T00:01:34",
           "unharvestable_pods": 14247643.821707001,
           "unharvestable_ratio": 0.8792750551745846,
           "value": 1913589.129855,
           "variable": "harvested_pods"
          },
          {
           "harvestable_pods": 42620.14066300006,
           "harvested_pods": 1913589.129855,
           "season": 1465,
           "timestamp": "2021-10-06T00:01:34",
           "unharvestable_pods": 14247643.821707001,
           "unharvestable_ratio": 0.8792750551745846,
           "value": 42620.14066300006,
           "variable": "harvestable_pods"
          },
          {
           "harvestable_pods": 42620.14066300006,
           "harvested_pods": 1913589.129855,
           "season": 1465,
           "timestamp": "2021-10-06T00:01:34",
           "unharvestable_pods": 14247643.821707001,
           "unharvestable_ratio": 0.8792750551745846,
           "value": 0.8792750551745846,
           "variable": "unharvestable_ratio"
          },
          {
           "harvestable_pods": 42620.14066300006,
           "harvested_pods": 1913589.129855,
           "season": 1489,
           "timestamp": "2021-10-07T00:02:24",
           "unharvestable_pods": 15219710.121581001,
           "unharvestable_ratio": 0.8861074492805395,
           "value": 0.8861074492805395,
           "variable": "unharvestable_ratio"
          },
          {
           "harvestable_pods": 42620.14066300006,
           "harvested_pods": 1913589.129855,
           "season": 1489,
           "timestamp": "2021-10-07T00:02:24",
           "unharvestable_pods": 15219710.121581001,
           "unharvestable_ratio": 0.8861074492805395,
           "value": 15219710.121581001,
           "variable": "unharvestable_pods"
          },
          {
           "harvestable_pods": 42620.14066300006,
           "harvested_pods": 1913589.129855,
           "season": 1489,
           "timestamp": "2021-10-07T00:02:24",
           "unharvestable_pods": 15219710.121581001,
           "unharvestable_ratio": 0.8861074492805395,
           "value": 1913589.129855,
           "variable": "harvested_pods"
          },
          {
           "harvestable_pods": 42620.14066300006,
           "harvested_pods": 1913589.129855,
           "season": 1489,
           "timestamp": "2021-10-07T00:02:24",
           "unharvestable_pods": 15219710.121581001,
           "unharvestable_ratio": 0.8861074492805395,
           "value": 42620.14066300006,
           "variable": "harvestable_pods"
          },
          {
           "harvestable_pods": 73483.38632799988,
           "harvested_pods": 1939798.788053,
           "season": 1513,
           "timestamp": "2021-10-08T00:01:18",
           "unharvestable_pods": 17628327.919436,
           "unharvestable_ratio": 0.8974991273747582,
           "value": 17628327.919436,
           "variable": "unharvestable_pods"
          },
          {
           "harvestable_pods": 73483.38632799988,
           "harvested_pods": 1939798.788053,
           "season": 1513,
           "timestamp": "2021-10-08T00:01:18",
           "unharvestable_pods": 17628327.919436,
           "unharvestable_ratio": 0.8974991273747582,
           "value": 1939798.788053,
           "variable": "harvested_pods"
          },
          {
           "harvestable_pods": 73483.38632799988,
           "harvested_pods": 1939798.788053,
           "season": 1513,
           "timestamp": "2021-10-08T00:01:18",
           "unharvestable_pods": 17628327.919436,
           "unharvestable_ratio": 0.8974991273747582,
           "value": 73483.38632799988,
           "variable": "harvestable_pods"
          },
          {
           "harvestable_pods": 73483.38632799988,
           "harvested_pods": 1939798.788053,
           "season": 1513,
           "timestamp": "2021-10-08T00:01:18",
           "unharvestable_pods": 17628327.919436,
           "unharvestable_ratio": 0.8974991273747582,
           "value": 0.8974991273747582,
           "variable": "unharvestable_ratio"
          },
          {
           "harvestable_pods": 72329.00438400009,
           "harvested_pods": 1940953.169997,
           "season": 1537,
           "timestamp": "2021-10-09T00:02:32",
           "unharvestable_pods": 17848796.932812,
           "unharvestable_ratio": 0.8986368867269341,
           "value": 72329.00438400009,
           "variable": "harvestable_pods"
          },
          {
           "harvestable_pods": 72329.00438400009,
           "harvested_pods": 1940953.169997,
           "season": 1537,
           "timestamp": "2021-10-09T00:02:32",
           "unharvestable_pods": 17848796.932812,
           "unharvestable_ratio": 0.8986368867269341,
           "value": 0.8986368867269341,
           "variable": "unharvestable_ratio"
          },
          {
           "harvestable_pods": 72329.00438400009,
           "harvested_pods": 1940953.169997,
           "season": 1537,
           "timestamp": "2021-10-09T00:02:32",
           "unharvestable_pods": 17848796.932812,
           "unharvestable_ratio": 0.8986368867269341,
           "value": 17848796.932812,
           "variable": "unharvestable_pods"
          },
          {
           "harvestable_pods": 72329.00438400009,
           "harvested_pods": 1940953.169997,
           "season": 1537,
           "timestamp": "2021-10-09T00:02:32",
           "unharvestable_pods": 17848796.932812,
           "unharvestable_ratio": 0.8986368867269341,
           "value": 1940953.169997,
           "variable": "harvested_pods"
          },
          {
           "harvestable_pods": 71736.722021,
           "harvested_pods": 1941545.45236,
           "season": 1561,
           "timestamp": "2021-10-10T00:00:39",
           "unharvestable_pods": 18139261.969577,
           "unharvestable_ratio": 0.9000978655598376,
           "value": 71736.722021,
           "variable": "harvestable_pods"
          },
          {
           "harvestable_pods": 71736.722021,
           "harvested_pods": 1941545.45236,
           "season": 1561,
           "timestamp": "2021-10-10T00:00:39",
           "unharvestable_pods": 18139261.969577,
           "unharvestable_ratio": 0.9000978655598376,
           "value": 0.9000978655598376,
           "variable": "unharvestable_ratio"
          },
          {
           "harvestable_pods": 71736.722021,
           "harvested_pods": 1941545.45236,
           "season": 1561,
           "timestamp": "2021-10-10T00:00:39",
           "unharvestable_pods": 18139261.969577,
           "unharvestable_ratio": 0.9000978655598376,
           "value": 18139261.969577,
           "variable": "unharvestable_pods"
          },
          {
           "harvestable_pods": 71736.722021,
           "harvested_pods": 1941545.45236,
           "season": 1561,
           "timestamp": "2021-10-10T00:00:39",
           "unharvestable_pods": 18139261.969577,
           "unharvestable_ratio": 0.9000978655598376,
           "value": 1941545.45236,
           "variable": "harvested_pods"
          },
          {
           "harvestable_pods": 66958.61951699993,
           "harvested_pods": 1946323.554864,
           "season": 1585,
           "timestamp": "2021-10-11T00:00:43",
           "unharvestable_pods": 18379589.720036,
           "unharvestable_ratio": 0.901275201217138,
           "value": 0.901275201217138,
           "variable": "unharvestable_ratio"
          },
          {
           "harvestable_pods": 66958.61951699993,
           "harvested_pods": 1946323.554864,
           "season": 1585,
           "timestamp": "2021-10-11T00:00:43",
           "unharvestable_pods": 18379589.720036,
           "unharvestable_ratio": 0.901275201217138,
           "value": 66958.61951699993,
           "variable": "harvestable_pods"
          },
          {
           "harvestable_pods": 66958.61951699993,
           "harvested_pods": 1946323.554864,
           "season": 1585,
           "timestamp": "2021-10-11T00:00:43",
           "unharvestable_pods": 18379589.720036,
           "unharvestable_ratio": 0.901275201217138,
           "value": 18379589.720036,
           "variable": "unharvestable_pods"
          },
          {
           "harvestable_pods": 66958.61951699993,
           "harvested_pods": 1946323.554864,
           "season": 1585,
           "timestamp": "2021-10-11T00:00:43",
           "unharvestable_pods": 18379589.720036,
           "unharvestable_ratio": 0.901275201217138,
           "value": 1946323.554864,
           "variable": "harvested_pods"
          },
          {
           "harvestable_pods": 62864.386574999895,
           "harvested_pods": 1950417.787806,
           "season": 1609,
           "timestamp": "2021-10-12T00:01:23",
           "unharvestable_pods": 19857189.077624,
           "unharvestable_ratio": 0.9079451854885646,
           "value": 19857189.077624,
           "variable": "unharvestable_pods"
          },
          {
           "harvestable_pods": 62864.386574999895,
           "harvested_pods": 1950417.787806,
           "season": 1609,
           "timestamp": "2021-10-12T00:01:23",
           "unharvestable_pods": 19857189.077624,
           "unharvestable_ratio": 0.9079451854885646,
           "value": 1950417.787806,
           "variable": "harvested_pods"
          },
          {
           "harvestable_pods": 62864.386574999895,
           "harvested_pods": 1950417.787806,
           "season": 1609,
           "timestamp": "2021-10-12T00:01:23",
           "unharvestable_pods": 19857189.077624,
           "unharvestable_ratio": 0.9079451854885646,
           "value": 62864.386574999895,
           "variable": "harvestable_pods"
          },
          {
           "harvestable_pods": 62864.386574999895,
           "harvested_pods": 1950417.787806,
           "season": 1609,
           "timestamp": "2021-10-12T00:01:23",
           "unharvestable_pods": 19857189.077624,
           "unharvestable_ratio": 0.9079451854885646,
           "value": 0.9079451854885646,
           "variable": "unharvestable_ratio"
          },
          {
           "harvestable_pods": 62864.386574999895,
           "harvested_pods": 1950417.787806,
           "season": 1633,
           "timestamp": "2021-10-13T00:00:49",
           "unharvestable_pods": 21032067.773341,
           "unharvestable_ratio": 0.9126382468069222,
           "value": 21032067.773341,
           "variable": "unharvestable_pods"
          },
          {
           "harvestable_pods": 62864.386574999895,
           "harvested_pods": 1950417.787806,
           "season": 1633,
           "timestamp": "2021-10-13T00:00:49",
           "unharvestable_pods": 21032067.773341,
           "unharvestable_ratio": 0.9126382468069222,
           "value": 1950417.787806,
           "variable": "harvested_pods"
          },
          {
           "harvestable_pods": 62864.386574999895,
           "harvested_pods": 1950417.787806,
           "season": 1633,
           "timestamp": "2021-10-13T00:00:49",
           "unharvestable_pods": 21032067.773341,
           "unharvestable_ratio": 0.9126382468069222,
           "value": 62864.386574999895,
           "variable": "harvestable_pods"
          },
          {
           "harvestable_pods": 62864.386574999895,
           "harvested_pods": 1950417.787806,
           "season": 1633,
           "timestamp": "2021-10-13T00:00:49",
           "unharvestable_pods": 21032067.773341,
           "unharvestable_ratio": 0.9126382468069222,
           "value": 0.9126382468069222,
           "variable": "unharvestable_ratio"
          },
          {
           "harvestable_pods": 18416.43248800002,
           "harvested_pods": 1994865.741893,
           "season": 1657,
           "timestamp": "2021-10-14T00:01:25",
           "unharvestable_pods": 21442646.031522002,
           "unharvestable_ratio": 0.914167448130476,
           "value": 0.914167448130476,
           "variable": "unharvestable_ratio"
          },
          {
           "harvestable_pods": 18416.43248800002,
           "harvested_pods": 1994865.741893,
           "season": 1657,
           "timestamp": "2021-10-14T00:01:25",
           "unharvestable_pods": 21442646.031522002,
           "unharvestable_ratio": 0.914167448130476,
           "value": 18416.43248800002,
           "variable": "harvestable_pods"
          },
          {
           "harvestable_pods": 18416.43248800002,
           "harvested_pods": 1994865.741893,
           "season": 1657,
           "timestamp": "2021-10-14T00:01:25",
           "unharvestable_pods": 21442646.031522002,
           "unharvestable_ratio": 0.914167448130476,
           "value": 21442646.031522002,
           "variable": "unharvestable_pods"
          },
          {
           "harvestable_pods": 18416.43248800002,
           "harvested_pods": 1994865.741893,
           "season": 1657,
           "timestamp": "2021-10-14T00:01:25",
           "unharvestable_pods": 21442646.031522002,
           "unharvestable_ratio": 0.914167448130476,
           "value": 1994865.741893,
           "variable": "harvested_pods"
          },
          {
           "harvestable_pods": 18416.43248800002,
           "harvested_pods": 1994865.741893,
           "season": 1681,
           "timestamp": "2021-10-15T00:02:14",
           "unharvestable_pods": 21671172.291175,
           "unharvestable_ratio": 0.914995628153104,
           "value": 21671172.291175,
           "variable": "unharvestable_pods"
          },
          {
           "harvestable_pods": 18416.43248800002,
           "harvested_pods": 1994865.741893,
           "season": 1681,
           "timestamp": "2021-10-15T00:02:14",
           "unharvestable_pods": 21671172.291175,
           "unharvestable_ratio": 0.914995628153104,
           "value": 1994865.741893,
           "variable": "harvested_pods"
          },
          {
           "harvestable_pods": 18416.43248800002,
           "harvested_pods": 1994865.741893,
           "season": 1681,
           "timestamp": "2021-10-15T00:02:14",
           "unharvestable_pods": 21671172.291175,
           "unharvestable_ratio": 0.914995628153104,
           "value": 18416.43248800002,
           "variable": "harvestable_pods"
          },
          {
           "harvestable_pods": 18416.43248800002,
           "harvested_pods": 1994865.741893,
           "season": 1681,
           "timestamp": "2021-10-15T00:02:14",
           "unharvestable_pods": 21671172.291175,
           "unharvestable_ratio": 0.914995628153104,
           "value": 0.914995628153104,
           "variable": "unharvestable_ratio"
          },
          {
           "harvestable_pods": 18416.43248800002,
           "harvested_pods": 1994865.741893,
           "season": 1705,
           "timestamp": "2021-10-16T00:02:08",
           "unharvestable_pods": 21987963.183862,
           "unharvestable_ratio": 0.9161175953859596,
           "value": 0.9161175953859596,
           "variable": "unharvestable_ratio"
          },
          {
           "harvestable_pods": 18416.43248800002,
           "harvested_pods": 1994865.741893,
           "season": 1705,
           "timestamp": "2021-10-16T00:02:08",
           "unharvestable_pods": 21987963.183862,
           "unharvestable_ratio": 0.9161175953859596,
           "value": 18416.43248800002,
           "variable": "harvestable_pods"
          },
          {
           "harvestable_pods": 18416.43248800002,
           "harvested_pods": 1994865.741893,
           "season": 1705,
           "timestamp": "2021-10-16T00:02:08",
           "unharvestable_pods": 21987963.183862,
           "unharvestable_ratio": 0.9161175953859596,
           "value": 1994865.741893,
           "variable": "harvested_pods"
          },
          {
           "harvestable_pods": 18416.43248800002,
           "harvested_pods": 1994865.741893,
           "season": 1705,
           "timestamp": "2021-10-16T00:02:08",
           "unharvestable_pods": 21987963.183862,
           "unharvestable_ratio": 0.9161175953859596,
           "value": 21987963.183862,
           "variable": "unharvestable_pods"
          },
          {
           "harvestable_pods": 48365.83789899992,
           "harvested_pods": 2039679.973857,
           "season": 1729,
           "timestamp": "2021-10-17T00:00:39",
           "unharvestable_pods": 24134500.840471,
           "unharvestable_ratio": 0.9203721194799107,
           "value": 24134500.840471,
           "variable": "unharvestable_pods"
          },
          {
           "harvestable_pods": 48365.83789899992,
           "harvested_pods": 2039679.973857,
           "season": 1729,
           "timestamp": "2021-10-17T00:00:39",
           "unharvestable_pods": 24134500.840471,
           "unharvestable_ratio": 0.9203721194799107,
           "value": 2039679.973857,
           "variable": "harvested_pods"
          },
          {
           "harvestable_pods": 48365.83789899992,
           "harvested_pods": 2039679.973857,
           "season": 1729,
           "timestamp": "2021-10-17T00:00:39",
           "unharvestable_pods": 24134500.840471,
           "unharvestable_ratio": 0.9203721194799107,
           "value": 48365.83789899992,
           "variable": "harvestable_pods"
          },
          {
           "harvestable_pods": 48365.83789899992,
           "harvested_pods": 2039679.973857,
           "season": 1729,
           "timestamp": "2021-10-17T00:00:39",
           "unharvestable_pods": 24134500.840471,
           "unharvestable_ratio": 0.9203721194799107,
           "value": 0.9203721194799107,
           "variable": "unharvestable_ratio"
          },
          {
           "harvestable_pods": 93661.51890200004,
           "harvested_pods": 2091475.64403,
           "season": 1753,
           "timestamp": "2021-10-18T00:00:48",
           "unharvestable_pods": 27141479.59942,
           "unharvestable_ratio": 0.9254896266883001,
           "value": 93661.51890200004,
           "variable": "harvestable_pods"
          },
          {
           "harvestable_pods": 93661.51890200004,
           "harvested_pods": 2091475.64403,
           "season": 1753,
           "timestamp": "2021-10-18T00:00:48",
           "unharvestable_pods": 27141479.59942,
           "unharvestable_ratio": 0.9254896266883001,
           "value": 0.9254896266883001,
           "variable": "unharvestable_ratio"
          },
          {
           "harvestable_pods": 93661.51890200004,
           "harvested_pods": 2091475.64403,
           "season": 1753,
           "timestamp": "2021-10-18T00:00:48",
           "unharvestable_pods": 27141479.59942,
           "unharvestable_ratio": 0.9254896266883001,
           "value": 27141479.59942,
           "variable": "unharvestable_pods"
          },
          {
           "harvestable_pods": 93661.51890200004,
           "harvested_pods": 2091475.64403,
           "season": 1753,
           "timestamp": "2021-10-18T00:00:48",
           "unharvestable_pods": 27141479.59942,
           "unharvestable_ratio": 0.9254896266883001,
           "value": 2091475.64403,
           "variable": "harvested_pods"
          },
          {
           "harvestable_pods": 103332.72230700031,
           "harvested_pods": 2178806.576211,
           "season": 1777,
           "timestamp": "2021-10-19T00:01:14",
           "unharvestable_pods": 28180001.304651,
           "unharvestable_ratio": 0.9250827665643238,
           "value": 28180001.304651,
           "variable": "unharvestable_pods"
          },
          {
           "harvestable_pods": 103332.72230700031,
           "harvested_pods": 2178806.576211,
           "season": 1777,
           "timestamp": "2021-10-19T00:01:14",
           "unharvestable_pods": 28180001.304651,
           "unharvestable_ratio": 0.9250827665643238,
           "value": 2178806.576211,
           "variable": "harvested_pods"
          },
          {
           "harvestable_pods": 103332.72230700031,
           "harvested_pods": 2178806.576211,
           "season": 1777,
           "timestamp": "2021-10-19T00:01:14",
           "unharvestable_pods": 28180001.304651,
           "unharvestable_ratio": 0.9250827665643238,
           "value": 103332.72230700031,
           "variable": "harvestable_pods"
          },
          {
           "harvestable_pods": 103332.72230700031,
           "harvested_pods": 2178806.576211,
           "season": 1777,
           "timestamp": "2021-10-19T00:01:14",
           "unharvestable_pods": 28180001.304651,
           "unharvestable_ratio": 0.9250827665643238,
           "value": 0.9250827665643238,
           "variable": "unharvestable_ratio"
          },
          {
           "harvestable_pods": 133527.92249300005,
           "harvested_pods": 2188546.823076,
           "season": 1801,
           "timestamp": "2021-10-20T00:00:31",
           "unharvestable_pods": 29005430.918351002,
           "unharvestable_ratio": 0.925877445511299,
           "value": 133527.92249300005,
           "variable": "harvestable_pods"
          },
          {
           "harvestable_pods": 133527.92249300005,
           "harvested_pods": 2188546.823076,
           "season": 1801,
           "timestamp": "2021-10-20T00:00:31",
           "unharvestable_pods": 29005430.918351002,
           "unharvestable_ratio": 0.925877445511299,
           "value": 29005430.918351002,
           "variable": "unharvestable_pods"
          },
          {
           "harvestable_pods": 133527.92249300005,
           "harvested_pods": 2188546.823076,
           "season": 1801,
           "timestamp": "2021-10-20T00:00:31",
           "unharvestable_pods": 29005430.918351002,
           "unharvestable_ratio": 0.925877445511299,
           "value": 2188546.823076,
           "variable": "harvested_pods"
          },
          {
           "harvestable_pods": 133527.92249300005,
           "harvested_pods": 2188546.823076,
           "season": 1801,
           "timestamp": "2021-10-20T00:00:31",
           "unharvestable_pods": 29005430.918351002,
           "unharvestable_ratio": 0.925877445511299,
           "value": 0.925877445511299,
           "variable": "unharvestable_ratio"
          },
          {
           "harvestable_pods": 329387.2166319997,
           "harvested_pods": 2251850.120014,
           "season": 1825,
           "timestamp": "2021-10-21T00:02:30",
           "unharvestable_pods": 28610999.591392003,
           "unharvestable_ratio": 0.9172474438880085,
           "value": 0.9172474438880085,
           "variable": "unharvestable_ratio"
          },
          {
           "harvestable_pods": 329387.2166319997,
           "harvested_pods": 2251850.120014,
           "season": 1825,
           "timestamp": "2021-10-21T00:02:30",
           "unharvestable_pods": 28610999.591392003,
           "unharvestable_ratio": 0.9172474438880085,
           "value": 329387.2166319997,
           "variable": "harvestable_pods"
          },
          {
           "harvestable_pods": 329387.2166319997,
           "harvested_pods": 2251850.120014,
           "season": 1825,
           "timestamp": "2021-10-21T00:02:30",
           "unharvestable_pods": 28610999.591392003,
           "unharvestable_ratio": 0.9172474438880085,
           "value": 2251850.120014,
           "variable": "harvested_pods"
          },
          {
           "harvestable_pods": 329387.2166319997,
           "harvested_pods": 2251850.120014,
           "season": 1825,
           "timestamp": "2021-10-21T00:02:30",
           "unharvestable_pods": 28610999.591392003,
           "unharvestable_ratio": 0.9172474438880085,
           "value": 28610999.591392003,
           "variable": "unharvestable_pods"
          },
          {
           "harvestable_pods": 329574.7408949998,
           "harvested_pods": 2312097.381269,
           "season": 1849,
           "timestamp": "2021-10-22T00:00:33",
           "unharvestable_pods": 29870149.022693,
           "unharvestable_ratio": 0.9187473346880821,
           "value": 29870149.022693,
           "variable": "unharvestable_pods"
          },
          {
           "harvestable_pods": 329574.7408949998,
           "harvested_pods": 2312097.381269,
           "season": 1849,
           "timestamp": "2021-10-22T00:00:33",
           "unharvestable_pods": 29870149.022693,
           "unharvestable_ratio": 0.9187473346880821,
           "value": 2312097.381269,
           "variable": "harvested_pods"
          },
          {
           "harvestable_pods": 329574.7408949998,
           "harvested_pods": 2312097.381269,
           "season": 1849,
           "timestamp": "2021-10-22T00:00:33",
           "unharvestable_pods": 29870149.022693,
           "unharvestable_ratio": 0.9187473346880821,
           "value": 329574.7408949998,
           "variable": "harvestable_pods"
          },
          {
           "harvestable_pods": 329574.7408949998,
           "harvested_pods": 2312097.381269,
           "season": 1849,
           "timestamp": "2021-10-22T00:00:33",
           "unharvestable_pods": 29870149.022693,
           "unharvestable_ratio": 0.9187473346880821,
           "value": 0.9187473346880821,
           "variable": "unharvestable_ratio"
          },
          {
           "harvestable_pods": 359392.0718120001,
           "harvested_pods": 2312865.381271,
           "season": 1873,
           "timestamp": "2021-10-23T00:00:12",
           "unharvestable_pods": 30829937.668865,
           "unharvestable_ratio": 0.9202363473988501,
           "value": 30829937.668865,
           "variable": "unharvestable_pods"
          },
          {
           "harvestable_pods": 359392.0718120001,
           "harvested_pods": 2312865.381271,
           "season": 1873,
           "timestamp": "2021-10-23T00:00:12",
           "unharvestable_pods": 30829937.668865,
           "unharvestable_ratio": 0.9202363473988501,
           "value": 2312865.381271,
           "variable": "harvested_pods"
          },
          {
           "harvestable_pods": 359392.0718120001,
           "harvested_pods": 2312865.381271,
           "season": 1873,
           "timestamp": "2021-10-23T00:00:12",
           "unharvestable_pods": 30829937.668865,
           "unharvestable_ratio": 0.9202363473988501,
           "value": 359392.0718120001,
           "variable": "harvestable_pods"
          },
          {
           "harvestable_pods": 359392.0718120001,
           "harvested_pods": 2312865.381271,
           "season": 1873,
           "timestamp": "2021-10-23T00:00:12",
           "unharvestable_pods": 30829937.668865,
           "unharvestable_ratio": 0.9202363473988501,
           "value": 0.9202363473988501,
           "variable": "unharvestable_ratio"
          },
          {
           "harvestable_pods": 459524.83499000035,
           "harvested_pods": 2317323.122158,
           "season": 1897,
           "timestamp": "2021-10-24T00:00:53",
           "unharvestable_pods": 30826541.887272,
           "unharvestable_ratio": 0.9173640525552779,
           "value": 0.9173640525552779,
           "variable": "unharvestable_ratio"
          },
          {
           "harvestable_pods": 459524.83499000035,
           "harvested_pods": 2317323.122158,
           "season": 1897,
           "timestamp": "2021-10-24T00:00:53",
           "unharvestable_pods": 30826541.887272,
           "unharvestable_ratio": 0.9173640525552779,
           "value": 459524.83499000035,
           "variable": "harvestable_pods"
          },
          {
           "harvestable_pods": 459524.83499000035,
           "harvested_pods": 2317323.122158,
           "season": 1897,
           "timestamp": "2021-10-24T00:00:53",
           "unharvestable_pods": 30826541.887272,
           "unharvestable_ratio": 0.9173640525552779,
           "value": 30826541.887272,
           "variable": "unharvestable_pods"
          },
          {
           "harvestable_pods": 459524.83499000035,
           "harvested_pods": 2317323.122158,
           "season": 1897,
           "timestamp": "2021-10-24T00:00:53",
           "unharvestable_pods": 30826541.887272,
           "unharvestable_ratio": 0.9173640525552779,
           "value": 2317323.122158,
           "variable": "harvested_pods"
          },
          {
           "harvestable_pods": 488672.791189,
           "harvested_pods": 2320758.905259,
           "season": 1921,
           "timestamp": "2021-10-25T00:00:35",
           "unharvestable_pods": 33501459.825739004,
           "unharvestable_ratio": 0.922628402149494,
           "value": 33501459.825739004,
           "variable": "unharvestable_pods"
          },
          {
           "harvestable_pods": 488672.791189,
           "harvested_pods": 2320758.905259,
           "season": 1921,
           "timestamp": "2021-10-25T00:00:35",
           "unharvestable_pods": 33501459.825739004,
           "unharvestable_ratio": 0.922628402149494,
           "value": 2320758.905259,
           "variable": "harvested_pods"
          },
          {
           "harvestable_pods": 488672.791189,
           "harvested_pods": 2320758.905259,
           "season": 1921,
           "timestamp": "2021-10-25T00:00:35",
           "unharvestable_pods": 33501459.825739004,
           "unharvestable_ratio": 0.922628402149494,
           "value": 488672.791189,
           "variable": "harvestable_pods"
          },
          {
           "harvestable_pods": 488672.791189,
           "harvested_pods": 2320758.905259,
           "season": 1921,
           "timestamp": "2021-10-25T00:00:35",
           "unharvestable_pods": 33501459.825739004,
           "unharvestable_ratio": 0.922628402149494,
           "value": 0.922628402149494,
           "variable": "unharvestable_ratio"
          },
          {
           "harvestable_pods": 554343.9560810002,
           "harvested_pods": 2322242.464822,
           "season": 1945,
           "timestamp": "2021-10-26T00:00:39",
           "unharvestable_pods": 34209695.363988005,
           "unharvestable_ratio": 0.9224352972997438,
           "value": 0.9224352972997438,
           "variable": "unharvestable_ratio"
          },
          {
           "harvestable_pods": 554343.9560810002,
           "harvested_pods": 2322242.464822,
           "season": 1945,
           "timestamp": "2021-10-26T00:00:39",
           "unharvestable_pods": 34209695.363988005,
           "unharvestable_ratio": 0.9224352972997438,
           "value": 554343.9560810002,
           "variable": "harvestable_pods"
          },
          {
           "harvestable_pods": 554343.9560810002,
           "harvested_pods": 2322242.464822,
           "season": 1945,
           "timestamp": "2021-10-26T00:00:39",
           "unharvestable_pods": 34209695.363988005,
           "unharvestable_ratio": 0.9224352972997438,
           "value": 2322242.464822,
           "variable": "harvested_pods"
          },
          {
           "harvestable_pods": 554343.9560810002,
           "harvested_pods": 2322242.464822,
           "season": 1945,
           "timestamp": "2021-10-26T00:00:39",
           "unharvestable_pods": 34209695.363988005,
           "unharvestable_ratio": 0.9224352972997438,
           "value": 34209695.363988005,
           "variable": "unharvestable_pods"
          },
          {
           "harvestable_pods": 571887.304023,
           "harvested_pods": 2342456.907984,
           "season": 1969,
           "timestamp": "2021-10-27T00:01:02",
           "unharvestable_pods": 34806816.830363,
           "unharvestable_ratio": 0.9227398062129242,
           "value": 34806816.830363,
           "variable": "unharvestable_pods"
          },
          {
           "harvestable_pods": 571887.304023,
           "harvested_pods": 2342456.907984,
           "season": 1969,
           "timestamp": "2021-10-27T00:01:02",
           "unharvestable_pods": 34806816.830363,
           "unharvestable_ratio": 0.9227398062129242,
           "value": 2342456.907984,
           "variable": "harvested_pods"
          },
          {
           "harvestable_pods": 571887.304023,
           "harvested_pods": 2342456.907984,
           "season": 1969,
           "timestamp": "2021-10-27T00:01:02",
           "unharvestable_pods": 34806816.830363,
           "unharvestable_ratio": 0.9227398062129242,
           "value": 571887.304023,
           "variable": "harvestable_pods"
          },
          {
           "harvestable_pods": 571887.304023,
           "harvested_pods": 2342456.907984,
           "season": 1969,
           "timestamp": "2021-10-27T00:01:02",
           "unharvestable_pods": 34806816.830363,
           "unharvestable_ratio": 0.9227398062129242,
           "value": 0.9227398062129242,
           "variable": "unharvestable_ratio"
          },
          {
           "harvestable_pods": 737868.7173259999,
           "harvested_pods": 2342456.907984,
           "season": 1993,
           "timestamp": "2021-10-28T00:02:23",
           "unharvestable_pods": 34637286.759434,
           "unharvestable_ratio": 0.918331903040715,
           "value": 737868.7173259999,
           "variable": "harvestable_pods"
          },
          {
           "harvestable_pods": 737868.7173259999,
           "harvested_pods": 2342456.907984,
           "season": 1993,
           "timestamp": "2021-10-28T00:02:23",
           "unharvestable_pods": 34637286.759434,
           "unharvestable_ratio": 0.918331903040715,
           "value": 0.918331903040715,
           "variable": "unharvestable_ratio"
          },
          {
           "harvestable_pods": 737868.7173259999,
           "harvested_pods": 2342456.907984,
           "season": 1993,
           "timestamp": "2021-10-28T00:02:23",
           "unharvestable_pods": 34637286.759434,
           "unharvestable_ratio": 0.918331903040715,
           "value": 34637286.759434,
           "variable": "unharvestable_pods"
          },
          {
           "harvestable_pods": 737868.7173259999,
           "harvested_pods": 2342456.907984,
           "season": 1993,
           "timestamp": "2021-10-28T00:02:23",
           "unharvestable_pods": 34637286.759434,
           "unharvestable_ratio": 0.918331903040715,
           "value": 2342456.907984,
           "variable": "harvested_pods"
          },
          {
           "harvestable_pods": 890086.6674350002,
           "harvested_pods": 2351589.611307,
           "season": 2017,
           "timestamp": "2021-10-29T00:01:54",
           "unharvestable_pods": 36006897.609383,
           "unharvestable_ratio": 0.9174065206042353,
           "value": 36006897.609383,
           "variable": "unharvestable_pods"
          },
          {
           "harvestable_pods": 890086.6674350002,
           "harvested_pods": 2351589.611307,
           "season": 2017,
           "timestamp": "2021-10-29T00:01:54",
           "unharvestable_pods": 36006897.609383,
           "unharvestable_ratio": 0.9174065206042353,
           "value": 2351589.611307,
           "variable": "harvested_pods"
          },
          {
           "harvestable_pods": 890086.6674350002,
           "harvested_pods": 2351589.611307,
           "season": 2017,
           "timestamp": "2021-10-29T00:01:54",
           "unharvestable_pods": 36006897.609383,
           "unharvestable_ratio": 0.9174065206042353,
           "value": 890086.6674350002,
           "variable": "harvestable_pods"
          },
          {
           "harvestable_pods": 890086.6674350002,
           "harvested_pods": 2351589.611307,
           "season": 2017,
           "timestamp": "2021-10-29T00:01:54",
           "unharvestable_pods": 36006897.609383,
           "unharvestable_ratio": 0.9174065206042353,
           "value": 0.9174065206042353,
           "variable": "unharvestable_ratio"
          },
          {
           "harvestable_pods": 903920.4965889999,
           "harvested_pods": 2404237.180391,
           "season": 2041,
           "timestamp": "2021-10-30T00:02:04",
           "unharvestable_pods": 36824774.971055,
           "unharvestable_ratio": 0.9175699990331514,
           "value": 0.9175699990331514,
           "variable": "unharvestable_ratio"
          },
          {
           "harvestable_pods": 903920.4965889999,
           "harvested_pods": 2404237.180391,
           "season": 2041,
           "timestamp": "2021-10-30T00:02:04",
           "unharvestable_pods": 36824774.971055,
           "unharvestable_ratio": 0.9175699990331514,
           "value": 36824774.971055,
           "variable": "unharvestable_pods"
          },
          {
           "harvestable_pods": 903920.4965889999,
           "harvested_pods": 2404237.180391,
           "season": 2041,
           "timestamp": "2021-10-30T00:02:04",
           "unharvestable_pods": 36824774.971055,
           "unharvestable_ratio": 0.9175699990331514,
           "value": 2404237.180391,
           "variable": "harvested_pods"
          },
          {
           "harvestable_pods": 903920.4965889999,
           "harvested_pods": 2404237.180391,
           "season": 2041,
           "timestamp": "2021-10-30T00:02:04",
           "unharvestable_pods": 36824774.971055,
           "unharvestable_ratio": 0.9175699990331514,
           "value": 903920.4965889999,
           "variable": "harvestable_pods"
          },
          {
           "harvestable_pods": 965179.8361820001,
           "harvested_pods": 2421013.306022,
           "season": 2065,
           "timestamp": "2021-10-31T00:02:28",
           "unharvestable_pods": 37160751.164471,
           "unharvestable_ratio": 0.9164870941545513,
           "value": 2421013.306022,
           "variable": "harvested_pods"
          },
          {
           "harvestable_pods": 965179.8361820001,
           "harvested_pods": 2421013.306022,
           "season": 2065,
           "timestamp": "2021-10-31T00:02:28",
           "unharvestable_pods": 37160751.164471,
           "unharvestable_ratio": 0.9164870941545513,
           "value": 965179.8361820001,
           "variable": "harvestable_pods"
          },
          {
           "harvestable_pods": 965179.8361820001,
           "harvested_pods": 2421013.306022,
           "season": 2065,
           "timestamp": "2021-10-31T00:02:28",
           "unharvestable_pods": 37160751.164471,
           "unharvestable_ratio": 0.9164870941545513,
           "value": 37160751.164471,
           "variable": "unharvestable_pods"
          },
          {
           "harvestable_pods": 965179.8361820001,
           "harvested_pods": 2421013.306022,
           "season": 2065,
           "timestamp": "2021-10-31T00:02:28",
           "unharvestable_pods": 37160751.164471,
           "unharvestable_ratio": 0.9164870941545513,
           "value": 0.9164870941545513,
           "variable": "unharvestable_ratio"
          },
          {
           "harvestable_pods": 1103898.936749,
           "harvested_pods": 2421013.306022,
           "season": 2089,
           "timestamp": "2021-11-01T00:01:36",
           "unharvestable_pods": 37467595.956411,
           "unharvestable_ratio": 0.9140108181318523,
           "value": 0.9140108181318523,
           "variable": "unharvestable_ratio"
          },
          {
           "harvestable_pods": 1103898.936749,
           "harvested_pods": 2421013.306022,
           "season": 2089,
           "timestamp": "2021-11-01T00:01:36",
           "unharvestable_pods": 37467595.956411,
           "unharvestable_ratio": 0.9140108181318523,
           "value": 1103898.936749,
           "variable": "harvestable_pods"
          },
          {
           "harvestable_pods": 1103898.936749,
           "harvested_pods": 2421013.306022,
           "season": 2089,
           "timestamp": "2021-11-01T00:01:36",
           "unharvestable_pods": 37467595.956411,
           "unharvestable_ratio": 0.9140108181318523,
           "value": 37467595.956411,
           "variable": "unharvestable_pods"
          },
          {
           "harvestable_pods": 1103898.936749,
           "harvested_pods": 2421013.306022,
           "season": 2089,
           "timestamp": "2021-11-01T00:01:36",
           "unharvestable_pods": 37467595.956411,
           "unharvestable_ratio": 0.9140108181318523,
           "value": 2421013.306022,
           "variable": "harvested_pods"
          },
          {
           "harvestable_pods": 1274102.0293110004,
           "harvested_pods": 2444287.834122,
           "season": 2113,
           "timestamp": "2021-11-02T00:01:39",
           "unharvestable_pods": 38142295.24017999,
           "unharvestable_ratio": 0.9111722645190996,
           "value": 38142295.24017999,
           "variable": "unharvestable_pods"
          },
          {
           "harvestable_pods": 1274102.0293110004,
           "harvested_pods": 2444287.834122,
           "season": 2113,
           "timestamp": "2021-11-02T00:01:39",
           "unharvestable_pods": 38142295.24017999,
           "unharvestable_ratio": 0.9111722645190996,
           "value": 2444287.834122,
           "variable": "harvested_pods"
          },
          {
           "harvestable_pods": 1274102.0293110004,
           "harvested_pods": 2444287.834122,
           "season": 2113,
           "timestamp": "2021-11-02T00:01:39",
           "unharvestable_pods": 38142295.24017999,
           "unharvestable_ratio": 0.9111722645190996,
           "value": 1274102.0293110004,
           "variable": "harvestable_pods"
          },
          {
           "harvestable_pods": 1274102.0293110004,
           "harvested_pods": 2444287.834122,
           "season": 2113,
           "timestamp": "2021-11-02T00:01:39",
           "unharvestable_pods": 38142295.24017999,
           "unharvestable_ratio": 0.9111722645190996,
           "value": 0.9111722645190996,
           "variable": "unharvestable_ratio"
          },
          {
           "harvestable_pods": 1341197.448574,
           "harvested_pods": 2444287.834122,
           "season": 2137,
           "timestamp": "2021-11-03T00:01:22",
           "unharvestable_pods": 39286026.337112,
           "unharvestable_ratio": 0.9121116222687873,
           "value": 1341197.448574,
           "variable": "harvestable_pods"
          },
          {
           "harvestable_pods": 1341197.448574,
           "harvested_pods": 2444287.834122,
           "season": 2137,
           "timestamp": "2021-11-03T00:01:22",
           "unharvestable_pods": 39286026.337112,
           "unharvestable_ratio": 0.9121116222687873,
           "value": 0.9121116222687873,
           "variable": "unharvestable_ratio"
          },
          {
           "harvestable_pods": 1341197.448574,
           "harvested_pods": 2444287.834122,
           "season": 2137,
           "timestamp": "2021-11-03T00:01:22",
           "unharvestable_pods": 39286026.337112,
           "unharvestable_ratio": 0.9121116222687873,
           "value": 39286026.337112,
           "variable": "unharvestable_pods"
          },
          {
           "harvestable_pods": 1341197.448574,
           "harvested_pods": 2444287.834122,
           "season": 2137,
           "timestamp": "2021-11-03T00:01:22",
           "unharvestable_pods": 39286026.337112,
           "unharvestable_ratio": 0.9121116222687873,
           "value": 2444287.834122,
           "variable": "harvested_pods"
          },
          {
           "harvestable_pods": 1364984.4061000003,
           "harvested_pods": 2444287.834122,
           "season": 2161,
           "timestamp": "2021-11-04T00:01:55",
           "unharvestable_pods": 40309918.133658,
           "unharvestable_ratio": 0.9136595162345225,
           "value": 40309918.133658,
           "variable": "unharvestable_pods"
          },
          {
           "harvestable_pods": 1364984.4061000003,
           "harvested_pods": 2444287.834122,
           "season": 2161,
           "timestamp": "2021-11-04T00:01:55",
           "unharvestable_pods": 40309918.133658,
           "unharvestable_ratio": 0.9136595162345225,
           "value": 2444287.834122,
           "variable": "harvested_pods"
          },
          {
           "harvestable_pods": 1364984.4061000003,
           "harvested_pods": 2444287.834122,
           "season": 2161,
           "timestamp": "2021-11-04T00:01:55",
           "unharvestable_pods": 40309918.133658,
           "unharvestable_ratio": 0.9136595162345225,
           "value": 1364984.4061000003,
           "variable": "harvestable_pods"
          },
          {
           "harvestable_pods": 1364984.4061000003,
           "harvested_pods": 2444287.834122,
           "season": 2161,
           "timestamp": "2021-11-04T00:01:55",
           "unharvestable_pods": 40309918.133658,
           "unharvestable_ratio": 0.9136595162345225,
           "value": 0.9136595162345225,
           "variable": "unharvestable_ratio"
          },
          {
           "harvestable_pods": 1509839.9469700004,
           "harvested_pods": 2444287.834122,
           "season": 2185,
           "timestamp": "2021-11-05T00:02:28",
           "unharvestable_pods": 40539257.08687,
           "unharvestable_ratio": 0.9111299849893142,
           "value": 0.9111299849893142,
           "variable": "unharvestable_ratio"
          },
          {
           "harvestable_pods": 1509839.9469700004,
           "harvested_pods": 2444287.834122,
           "season": 2185,
           "timestamp": "2021-11-05T00:02:28",
           "unharvestable_pods": 40539257.08687,
           "unharvestable_ratio": 0.9111299849893142,
           "value": 40539257.08687,
           "variable": "unharvestable_pods"
          },
          {
           "harvestable_pods": 1509839.9469700004,
           "harvested_pods": 2444287.834122,
           "season": 2185,
           "timestamp": "2021-11-05T00:02:28",
           "unharvestable_pods": 40539257.08687,
           "unharvestable_ratio": 0.9111299849893142,
           "value": 2444287.834122,
           "variable": "harvested_pods"
          },
          {
           "harvestable_pods": 1509839.9469700004,
           "harvested_pods": 2444287.834122,
           "season": 2185,
           "timestamp": "2021-11-05T00:02:28",
           "unharvestable_pods": 40539257.08687,
           "unharvestable_ratio": 0.9111299849893142,
           "value": 1509839.9469700004,
           "variable": "harvestable_pods"
          },
          {
           "harvestable_pods": 1544130.1915610004,
           "harvested_pods": 2444287.834122,
           "season": 2209,
           "timestamp": "2021-11-06T00:00:17",
           "unharvestable_pods": 41082146.555162,
           "unharvestable_ratio": 0.9115072539522152,
           "value": 1544130.1915610004,
           "variable": "harvestable_pods"
          },
          {
           "harvestable_pods": 1544130.1915610004,
           "harvested_pods": 2444287.834122,
           "season": 2209,
           "timestamp": "2021-11-06T00:00:17",
           "unharvestable_pods": 41082146.555162,
           "unharvestable_ratio": 0.9115072539522152,
           "value": 0.9115072539522152,
           "variable": "unharvestable_ratio"
          },
          {
           "harvestable_pods": 1544130.1915610004,
           "harvested_pods": 2444287.834122,
           "season": 2209,
           "timestamp": "2021-11-06T00:00:17",
           "unharvestable_pods": 41082146.555162,
           "unharvestable_ratio": 0.9115072539522152,
           "value": 41082146.555162,
           "variable": "unharvestable_pods"
          },
          {
           "harvestable_pods": 1544130.1915610004,
           "harvested_pods": 2444287.834122,
           "season": 2209,
           "timestamp": "2021-11-06T00:00:17",
           "unharvestable_pods": 41082146.555162,
           "unharvestable_ratio": 0.9115072539522152,
           "value": 2444287.834122,
           "variable": "harvested_pods"
          },
          {
           "harvestable_pods": 1622130.9325280003,
           "harvested_pods": 2444287.834122,
           "season": 2233,
           "timestamp": "2021-11-07T00:00:17",
           "unharvestable_pods": 41621126.979845,
           "unharvestable_ratio": 0.9109950271959627,
           "value": 41621126.979845,
           "variable": "unharvestable_pods"
          },
          {
           "harvestable_pods": 1622130.9325280003,
           "harvested_pods": 2444287.834122,
           "season": 2233,
           "timestamp": "2021-11-07T00:00:17",
           "unharvestable_pods": 41621126.979845,
           "unharvestable_ratio": 0.9109950271959627,
           "value": 2444287.834122,
           "variable": "harvested_pods"
          },
          {
           "harvestable_pods": 1622130.9325280003,
           "harvested_pods": 2444287.834122,
           "season": 2233,
           "timestamp": "2021-11-07T00:00:17",
           "unharvestable_pods": 41621126.979845,
           "unharvestable_ratio": 0.9109950271959627,
           "value": 1622130.9325280003,
           "variable": "harvestable_pods"
          },
          {
           "harvestable_pods": 1622130.9325280003,
           "harvested_pods": 2444287.834122,
           "season": 2233,
           "timestamp": "2021-11-07T00:00:17",
           "unharvestable_pods": 41621126.979845,
           "unharvestable_ratio": 0.9109950271959627,
           "value": 0.9109950271959627,
           "variable": "unharvestable_ratio"
          },
          {
           "harvestable_pods": 1645972.8805320002,
           "harvested_pods": 2444287.834122,
           "season": 2257,
           "timestamp": "2021-11-08T00:01:22",
           "unharvestable_pods": 41579039.961897,
           "unharvestable_ratio": 0.9104374130091694,
           "value": 41579039.961897,
           "variable": "unharvestable_pods"
          },
          {
           "harvestable_pods": 1645972.8805320002,
           "harvested_pods": 2444287.834122,
           "season": 2257,
           "timestamp": "2021-11-08T00:01:22",
           "unharvestable_pods": 41579039.961897,
           "unharvestable_ratio": 0.9104374130091694,
           "value": 2444287.834122,
           "variable": "harvested_pods"
          },
          {
           "harvestable_pods": 1645972.8805320002,
           "harvested_pods": 2444287.834122,
           "season": 2257,
           "timestamp": "2021-11-08T00:01:22",
           "unharvestable_pods": 41579039.961897,
           "unharvestable_ratio": 0.9104374130091694,
           "value": 1645972.8805320002,
           "variable": "harvestable_pods"
          },
          {
           "harvestable_pods": 1645972.8805320002,
           "harvested_pods": 2444287.834122,
           "season": 2257,
           "timestamp": "2021-11-08T00:01:22",
           "unharvestable_pods": 41579039.961897,
           "unharvestable_ratio": 0.9104374130091694,
           "value": 0.9104374130091694,
           "variable": "unharvestable_ratio"
          },
          {
           "harvestable_pods": 1690412.50698,
           "harvested_pods": 2444287.834122,
           "season": 2281,
           "timestamp": "2021-11-09T00:02:23",
           "unharvestable_pods": 41826189.911509,
           "unharvestable_ratio": 0.9100387238285249,
           "value": 0.9100387238285249,
           "variable": "unharvestable_ratio"
          },
          {
           "harvestable_pods": 1690412.50698,
           "harvested_pods": 2444287.834122,
           "season": 2281,
           "timestamp": "2021-11-09T00:02:23",
           "unharvestable_pods": 41826189.911509,
           "unharvestable_ratio": 0.9100387238285249,
           "value": 1690412.50698,
           "variable": "harvestable_pods"
          },
          {
           "harvestable_pods": 1690412.50698,
           "harvested_pods": 2444287.834122,
           "season": 2281,
           "timestamp": "2021-11-09T00:02:23",
           "unharvestable_pods": 41826189.911509,
           "unharvestable_ratio": 0.9100387238285249,
           "value": 2444287.834122,
           "variable": "harvested_pods"
          },
          {
           "harvestable_pods": 1690412.50698,
           "harvested_pods": 2444287.834122,
           "season": 2281,
           "timestamp": "2021-11-09T00:02:23",
           "unharvestable_pods": 41826189.911509,
           "unharvestable_ratio": 0.9100387238285249,
           "value": 41826189.911509,
           "variable": "unharvestable_pods"
          },
          {
           "harvestable_pods": 1788523.88838,
           "harvested_pods": 2444287.834122,
           "season": 2305,
           "timestamp": "2021-11-10T00:00:20",
           "unharvestable_pods": 42524908.029381,
           "unharvestable_ratio": 0.9094735212717139,
           "value": 42524908.029381,
           "variable": "unharvestable_pods"
          },
          {
           "harvestable_pods": 1788523.88838,
           "harvested_pods": 2444287.834122,
           "season": 2305,
           "timestamp": "2021-11-10T00:00:20",
           "unharvestable_pods": 42524908.029381,
           "unharvestable_ratio": 0.9094735212717139,
           "value": 2444287.834122,
           "variable": "harvested_pods"
          },
          {
           "harvestable_pods": 1788523.88838,
           "harvested_pods": 2444287.834122,
           "season": 2305,
           "timestamp": "2021-11-10T00:00:20",
           "unharvestable_pods": 42524908.029381,
           "unharvestable_ratio": 0.9094735212717139,
           "value": 1788523.88838,
           "variable": "harvestable_pods"
          },
          {
           "harvestable_pods": 1788523.88838,
           "harvested_pods": 2444287.834122,
           "season": 2305,
           "timestamp": "2021-11-10T00:00:20",
           "unharvestable_pods": 42524908.029381,
           "unharvestable_ratio": 0.9094735212717139,
           "value": 0.9094735212717139,
           "variable": "unharvestable_ratio"
          },
          {
           "harvestable_pods": 1807783.8929910003,
           "harvested_pods": 2545511.616523,
           "season": 2329,
           "timestamp": "2021-11-11T00:02:14",
           "unharvestable_pods": 47933950.962907,
           "unharvestable_ratio": 0.9167426896000318,
           "value": 0.9167426896000318,
           "variable": "unharvestable_ratio"
          },
          {
           "harvestable_pods": 1807783.8929910003,
           "harvested_pods": 2545511.616523,
           "season": 2329,
           "timestamp": "2021-11-11T00:02:14",
           "unharvestable_pods": 47933950.962907,
           "unharvestable_ratio": 0.9167426896000318,
           "value": 47933950.962907,
           "variable": "unharvestable_pods"
          },
          {
           "harvestable_pods": 1807783.8929910003,
           "harvested_pods": 2545511.616523,
           "season": 2329,
           "timestamp": "2021-11-11T00:02:14",
           "unharvestable_pods": 47933950.962907,
           "unharvestable_ratio": 0.9167426896000318,
           "value": 2545511.616523,
           "variable": "harvested_pods"
          },
          {
           "harvestable_pods": 1807783.8929910003,
           "harvested_pods": 2545511.616523,
           "season": 2329,
           "timestamp": "2021-11-11T00:02:14",
           "unharvestable_pods": 47933950.962907,
           "unharvestable_ratio": 0.9167426896000318,
           "value": 1807783.8929910003,
           "variable": "harvestable_pods"
          },
          {
           "harvestable_pods": 1073758.404978,
           "harvested_pods": 3324269.373112,
           "season": 2353,
           "timestamp": "2021-11-12T00:01:57",
           "unharvestable_pods": 65017368.59460001,
           "unharvestable_ratio": 0.9366418977934367,
           "value": 0.9366418977934367,
           "variable": "unharvestable_ratio"
          },
          {
           "harvestable_pods": 1073758.404978,
           "harvested_pods": 3324269.373112,
           "season": 2353,
           "timestamp": "2021-11-12T00:01:57",
           "unharvestable_pods": 65017368.59460001,
           "unharvestable_ratio": 0.9366418977934367,
           "value": 1073758.404978,
           "variable": "harvestable_pods"
          },
          {
           "harvestable_pods": 1073758.404978,
           "harvested_pods": 3324269.373112,
           "season": 2353,
           "timestamp": "2021-11-12T00:01:57",
           "unharvestable_pods": 65017368.59460001,
           "unharvestable_ratio": 0.9366418977934367,
           "value": 3324269.373112,
           "variable": "harvested_pods"
          },
          {
           "harvestable_pods": 1073758.404978,
           "harvested_pods": 3324269.373112,
           "season": 2353,
           "timestamp": "2021-11-12T00:01:57",
           "unharvestable_pods": 65017368.59460001,
           "unharvestable_ratio": 0.9366418977934367,
           "value": 65017368.59460001,
           "variable": "unharvestable_pods"
          },
          {
           "harvestable_pods": 932821.3075190005,
           "harvested_pods": 3548049.174483,
           "season": 2377,
           "timestamp": "2021-11-13T00:00:17",
           "unharvestable_pods": 70218506.559914,
           "unharvestable_ratio": 0.9400146204768527,
           "value": 70218506.559914,
           "variable": "unharvestable_pods"
          },
          {
           "harvestable_pods": 932821.3075190005,
           "harvested_pods": 3548049.174483,
           "season": 2377,
           "timestamp": "2021-11-13T00:00:17",
           "unharvestable_pods": 70218506.559914,
           "unharvestable_ratio": 0.9400146204768527,
           "value": 3548049.174483,
           "variable": "harvested_pods"
          },
          {
           "harvestable_pods": 932821.3075190005,
           "harvested_pods": 3548049.174483,
           "season": 2377,
           "timestamp": "2021-11-13T00:00:17",
           "unharvestable_pods": 70218506.559914,
           "unharvestable_ratio": 0.9400146204768527,
           "value": 932821.3075190005,
           "variable": "harvestable_pods"
          },
          {
           "harvestable_pods": 932821.3075190005,
           "harvested_pods": 3548049.174483,
           "season": 2377,
           "timestamp": "2021-11-13T00:00:17",
           "unharvestable_pods": 70218506.559914,
           "unharvestable_ratio": 0.9400146204768527,
           "value": 0.9400146204768527,
           "variable": "unharvestable_ratio"
          },
          {
           "harvestable_pods": 881834.0385710006,
           "harvested_pods": 3640517.214227,
           "season": 2401,
           "timestamp": "2021-11-14T00:00:31",
           "unharvestable_pods": 72384184.56610899,
           "unharvestable_ratio": 0.9411967890031238,
           "value": 881834.0385710006,
           "variable": "harvestable_pods"
          },
          {
           "harvestable_pods": 881834.0385710006,
           "harvested_pods": 3640517.214227,
           "season": 2401,
           "timestamp": "2021-11-14T00:00:31",
           "unharvestable_pods": 72384184.56610899,
           "unharvestable_ratio": 0.9411967890031238,
           "value": 0.9411967890031238,
           "variable": "unharvestable_ratio"
          },
          {
           "harvestable_pods": 881834.0385710006,
           "harvested_pods": 3640517.214227,
           "season": 2401,
           "timestamp": "2021-11-14T00:00:31",
           "unharvestable_pods": 72384184.56610899,
           "unharvestable_ratio": 0.9411967890031238,
           "value": 72384184.56610899,
           "variable": "unharvestable_pods"
          },
          {
           "harvestable_pods": 881834.0385710006,
           "harvested_pods": 3640517.214227,
           "season": 2401,
           "timestamp": "2021-11-14T00:00:31",
           "unharvestable_pods": 72384184.56610899,
           "unharvestable_ratio": 0.9411967890031238,
           "value": 3640517.214227,
           "variable": "harvested_pods"
          },
          {
           "harvestable_pods": 643220.9590400001,
           "harvested_pods": 4038702.091539,
           "season": 2425,
           "timestamp": "2021-11-15T00:01:44",
           "unharvestable_pods": 83581328.241115,
           "unharvestable_ratio": 0.9469550126234746,
           "value": 83581328.241115,
           "variable": "unharvestable_pods"
          },
          {
           "harvestable_pods": 643220.9590400001,
           "harvested_pods": 4038702.091539,
           "season": 2425,
           "timestamp": "2021-11-15T00:01:44",
           "unharvestable_pods": 83581328.241115,
           "unharvestable_ratio": 0.9469550126234746,
           "value": 4038702.091539,
           "variable": "harvested_pods"
          },
          {
           "harvestable_pods": 643220.9590400001,
           "harvested_pods": 4038702.091539,
           "season": 2425,
           "timestamp": "2021-11-15T00:01:44",
           "unharvestable_pods": 83581328.241115,
           "unharvestable_ratio": 0.9469550126234746,
           "value": 643220.9590400001,
           "variable": "harvestable_pods"
          },
          {
           "harvestable_pods": 643220.9590400001,
           "harvested_pods": 4038702.091539,
           "season": 2425,
           "timestamp": "2021-11-15T00:01:44",
           "unharvestable_pods": 83581328.241115,
           "unharvestable_ratio": 0.9469550126234746,
           "value": 0.9469550126234746,
           "variable": "unharvestable_ratio"
          },
          {
           "harvestable_pods": 477898.504187,
           "harvested_pods": 4336050.723231,
           "season": 2449,
           "timestamp": "2021-11-16T00:00:56",
           "unharvestable_pods": 92874055.719544,
           "unharvestable_ratio": 0.9507211839362298,
           "value": 0.9507211839362298,
           "variable": "unharvestable_ratio"
          },
          {
           "harvestable_pods": 477898.504187,
           "harvested_pods": 4336050.723231,
           "season": 2449,
           "timestamp": "2021-11-16T00:00:56",
           "unharvestable_pods": 92874055.719544,
           "unharvestable_ratio": 0.9507211839362298,
           "value": 92874055.719544,
           "variable": "unharvestable_pods"
          },
          {
           "harvestable_pods": 477898.504187,
           "harvested_pods": 4336050.723231,
           "season": 2449,
           "timestamp": "2021-11-16T00:00:56",
           "unharvestable_pods": 92874055.719544,
           "unharvestable_ratio": 0.9507211839362298,
           "value": 4336050.723231,
           "variable": "harvested_pods"
          },
          {
           "harvestable_pods": 477898.504187,
           "harvested_pods": 4336050.723231,
           "season": 2449,
           "timestamp": "2021-11-16T00:00:56",
           "unharvestable_pods": 92874055.719544,
           "unharvestable_ratio": 0.9507211839362298,
           "value": 477898.504187,
           "variable": "harvestable_pods"
          },
          {
           "harvestable_pods": 346532.1186119998,
           "harvested_pods": 4988304.762608,
           "season": 2473,
           "timestamp": "2021-11-17T00:00:50",
           "unharvestable_pods": 102548094.300176,
           "unharvestable_ratio": 0.950549759607014,
           "value": 0.950549759607014,
           "variable": "unharvestable_ratio"
          },
          {
           "harvestable_pods": 346532.1186119998,
           "harvested_pods": 4988304.762608,
           "season": 2473,
           "timestamp": "2021-11-17T00:00:50",
           "unharvestable_pods": 102548094.300176,
           "unharvestable_ratio": 0.950549759607014,
           "value": 346532.1186119998,
           "variable": "harvestable_pods"
          },
          {
           "harvestable_pods": 346532.1186119998,
           "harvested_pods": 4988304.762608,
           "season": 2473,
           "timestamp": "2021-11-17T00:00:50",
           "unharvestable_pods": 102548094.300176,
           "unharvestable_ratio": 0.950549759607014,
           "value": 102548094.300176,
           "variable": "unharvestable_pods"
          },
          {
           "harvestable_pods": 346532.1186119998,
           "harvested_pods": 4988304.762608,
           "season": 2473,
           "timestamp": "2021-11-17T00:00:50",
           "unharvestable_pods": 102548094.300176,
           "unharvestable_ratio": 0.950549759607014,
           "value": 4988304.762608,
           "variable": "harvested_pods"
          },
          {
           "harvestable_pods": 358681.3959459998,
           "harvested_pods": 5312720.314864,
           "season": 2497,
           "timestamp": "2021-11-18T00:00:38",
           "unharvestable_pods": 111038671.63081099,
           "unharvestable_ratio": 0.9514060650599602,
           "value": 111038671.63081099,
           "variable": "unharvestable_pods"
          },
          {
           "harvestable_pods": 358681.3959459998,
           "harvested_pods": 5312720.314864,
           "season": 2497,
           "timestamp": "2021-11-18T00:00:38",
           "unharvestable_pods": 111038671.63081099,
           "unharvestable_ratio": 0.9514060650599602,
           "value": 5312720.314864,
           "variable": "harvested_pods"
          },
          {
           "harvestable_pods": 358681.3959459998,
           "harvested_pods": 5312720.314864,
           "season": 2497,
           "timestamp": "2021-11-18T00:00:38",
           "unharvestable_pods": 111038671.63081099,
           "unharvestable_ratio": 0.9514060650599602,
           "value": 358681.3959459998,
           "variable": "harvestable_pods"
          },
          {
           "harvestable_pods": 358681.3959459998,
           "harvested_pods": 5312720.314864,
           "season": 2497,
           "timestamp": "2021-11-18T00:00:38",
           "unharvestable_pods": 111038671.63081099,
           "unharvestable_ratio": 0.9514060650599602,
           "value": 0.9514060650599602,
           "variable": "unharvestable_ratio"
          },
          {
           "harvestable_pods": 156528.71932299994,
           "harvested_pods": 5641302.664122,
           "season": 2521,
           "timestamp": "2021-11-19T00:00:49",
           "unharvestable_pods": 118703042.13422501,
           "unharvestable_ratio": 0.9534313999602411,
           "value": 0.9534313999602411,
           "variable": "unharvestable_ratio"
          },
          {
           "harvestable_pods": 156528.71932299994,
           "harvested_pods": 5641302.664122,
           "season": 2521,
           "timestamp": "2021-11-19T00:00:49",
           "unharvestable_pods": 118703042.13422501,
           "unharvestable_ratio": 0.9534313999602411,
           "value": 118703042.13422501,
           "variable": "unharvestable_pods"
          },
          {
           "harvestable_pods": 156528.71932299994,
           "harvested_pods": 5641302.664122,
           "season": 2521,
           "timestamp": "2021-11-19T00:00:49",
           "unharvestable_pods": 118703042.13422501,
           "unharvestable_ratio": 0.9534313999602411,
           "value": 5641302.664122,
           "variable": "harvested_pods"
          },
          {
           "harvestable_pods": 156528.71932299994,
           "harvested_pods": 5641302.664122,
           "season": 2521,
           "timestamp": "2021-11-19T00:00:49",
           "unharvestable_pods": 118703042.13422501,
           "unharvestable_ratio": 0.9534313999602411,
           "value": 156528.71932299994,
           "variable": "harvestable_pods"
          },
          {
           "harvestable_pods": 203525.50348199997,
           "harvested_pods": 5802462.985656,
           "season": 2545,
           "timestamp": "2021-11-20T00:01:08",
           "unharvestable_pods": 122050430.590826,
           "unharvestable_ratio": 0.9530988877223906,
           "value": 0.9530988877223906,
           "variable": "unharvestable_ratio"
          },
          {
           "harvestable_pods": 203525.50348199997,
           "harvested_pods": 5802462.985656,
           "season": 2545,
           "timestamp": "2021-11-20T00:01:08",
           "unharvestable_pods": 122050430.590826,
           "unharvestable_ratio": 0.9530988877223906,
           "value": 203525.50348199997,
           "variable": "harvestable_pods"
          },
          {
           "harvestable_pods": 203525.50348199997,
           "harvested_pods": 5802462.985656,
           "season": 2545,
           "timestamp": "2021-11-20T00:01:08",
           "unharvestable_pods": 122050430.590826,
           "unharvestable_ratio": 0.9530988877223906,
           "value": 122050430.590826,
           "variable": "unharvestable_pods"
          },
          {
           "harvestable_pods": 203525.50348199997,
           "harvested_pods": 5802462.985656,
           "season": 2545,
           "timestamp": "2021-11-20T00:01:08",
           "unharvestable_pods": 122050430.590826,
           "unharvestable_ratio": 0.9530988877223906,
           "value": 5802462.985656,
           "variable": "harvested_pods"
          },
          {
           "harvestable_pods": 365387.9938280005,
           "harvested_pods": 6137556.431239,
           "season": 2569,
           "timestamp": "2021-11-21T00:00:01",
           "unharvestable_pods": 126667661.852723,
           "unharvestable_ratio": 0.9511683200457761,
           "value": 0.9511683200457761,
           "variable": "unharvestable_ratio"
          },
          {
           "harvestable_pods": 365387.9938280005,
           "harvested_pods": 6137556.431239,
           "season": 2569,
           "timestamp": "2021-11-21T00:00:01",
           "unharvestable_pods": 126667661.852723,
           "unharvestable_ratio": 0.9511683200457761,
           "value": 126667661.852723,
           "variable": "unharvestable_pods"
          },
          {
           "harvestable_pods": 365387.9938280005,
           "harvested_pods": 6137556.431239,
           "season": 2569,
           "timestamp": "2021-11-21T00:00:01",
           "unharvestable_pods": 126667661.852723,
           "unharvestable_ratio": 0.9511683200457761,
           "value": 6137556.431239,
           "variable": "harvested_pods"
          },
          {
           "harvestable_pods": 365387.9938280005,
           "harvested_pods": 6137556.431239,
           "season": 2569,
           "timestamp": "2021-11-21T00:00:01",
           "unharvestable_pods": 126667661.852723,
           "unharvestable_ratio": 0.9511683200457761,
           "value": 365387.9938280005,
           "variable": "harvestable_pods"
          },
          {
           "harvestable_pods": 267833.80058200005,
           "harvested_pods": 6818536.16825,
           "season": 2593,
           "timestamp": "2021-11-22T00:01:39",
           "unharvestable_pods": 137373400.84392202,
           "unharvestable_ratio": 0.9509457205354617,
           "value": 6818536.16825,
           "variable": "harvested_pods"
          },
          {
           "harvestable_pods": 267833.80058200005,
           "harvested_pods": 6818536.16825,
           "season": 2593,
           "timestamp": "2021-11-22T00:01:39",
           "unharvestable_pods": 137373400.84392202,
           "unharvestable_ratio": 0.9509457205354617,
           "value": 267833.80058200005,
           "variable": "harvestable_pods"
          },
          {
           "harvestable_pods": 267833.80058200005,
           "harvested_pods": 6818536.16825,
           "season": 2593,
           "timestamp": "2021-11-22T00:01:39",
           "unharvestable_pods": 137373400.84392202,
           "unharvestable_ratio": 0.9509457205354617,
           "value": 137373400.84392202,
           "variable": "unharvestable_pods"
          },
          {
           "harvestable_pods": 267833.80058200005,
           "harvested_pods": 6818536.16825,
           "season": 2593,
           "timestamp": "2021-11-22T00:01:39",
           "unharvestable_pods": 137373400.84392202,
           "unharvestable_ratio": 0.9509457205354617,
           "value": 0.9509457205354617,
           "variable": "unharvestable_ratio"
          },
          {
           "harvestable_pods": 392605.1556590004,
           "harvested_pods": 7539854.901993,
           "season": 2617,
           "timestamp": "2021-11-23T00:01:23",
           "unharvestable_pods": 152720308.33047,
           "unharvestable_ratio": 0.9506235707156449,
           "value": 0.9506235707156449,
           "variable": "unharvestable_ratio"
          },
          {
           "harvestable_pods": 392605.1556590004,
           "harvested_pods": 7539854.901993,
           "season": 2617,
           "timestamp": "2021-11-23T00:01:23",
           "unharvestable_pods": 152720308.33047,
           "unharvestable_ratio": 0.9506235707156449,
           "value": 392605.1556590004,
           "variable": "harvestable_pods"
          },
          {
           "harvestable_pods": 392605.1556590004,
           "harvested_pods": 7539854.901993,
           "season": 2617,
           "timestamp": "2021-11-23T00:01:23",
           "unharvestable_pods": 152720308.33047,
           "unharvestable_ratio": 0.9506235707156449,
           "value": 152720308.33047,
           "variable": "unharvestable_pods"
          },
          {
           "harvestable_pods": 392605.1556590004,
           "harvested_pods": 7539854.901993,
           "season": 2617,
           "timestamp": "2021-11-23T00:01:23",
           "unharvestable_pods": 152720308.33047,
           "unharvestable_ratio": 0.9506235707156449,
           "value": 7539854.901993,
           "variable": "harvested_pods"
          },
          {
           "harvestable_pods": 814208.9425070006,
           "harvested_pods": 8744902.959668,
           "season": 2629,
           "timestamp": "2021-11-24T00:00:42",
           "unharvestable_pods": 182557777.074706,
           "unharvestable_ratio": 0.9502432505903979,
           "value": 182557777.074706,
           "variable": "unharvestable_pods"
          },
          {
           "harvestable_pods": 814208.9425070006,
           "harvested_pods": 8744902.959668,
           "season": 2629,
           "timestamp": "2021-11-24T00:00:42",
           "unharvestable_pods": 182557777.074706,
           "unharvestable_ratio": 0.9502432505903979,
           "value": 8744902.959668,
           "variable": "harvested_pods"
          },
          {
           "harvestable_pods": 814208.9425070006,
           "harvested_pods": 8744902.959668,
           "season": 2629,
           "timestamp": "2021-11-24T00:00:42",
           "unharvestable_pods": 182557777.074706,
           "unharvestable_ratio": 0.9502432505903979,
           "value": 814208.9425070006,
           "variable": "harvestable_pods"
          },
          {
           "harvestable_pods": 814208.9425070006,
           "harvested_pods": 8744902.959668,
           "season": 2629,
           "timestamp": "2021-11-24T00:00:42",
           "unharvestable_pods": 182557777.074706,
           "unharvestable_ratio": 0.9502432505903979,
           "value": 0.9502432505903979,
           "variable": "unharvestable_ratio"
          },
          {
           "harvestable_pods": 753960.1080780011,
           "harvested_pods": 10778016.628453,
           "season": 2653,
           "timestamp": "2021-11-25T00:00:29",
           "unharvestable_pods": 195608015.07665202,
           "unharvestable_ratio": 0.9443276180732326,
           "value": 195608015.07665202,
           "variable": "unharvestable_pods"
          },
          {
           "harvestable_pods": 753960.1080780011,
           "harvested_pods": 10778016.628453,
           "season": 2653,
           "timestamp": "2021-11-25T00:00:29",
           "unharvestable_pods": 195608015.07665202,
           "unharvestable_ratio": 0.9443276180732326,
           "value": 10778016.628453,
           "variable": "harvested_pods"
          },
          {
           "harvestable_pods": 753960.1080780011,
           "harvested_pods": 10778016.628453,
           "season": 2653,
           "timestamp": "2021-11-25T00:00:29",
           "unharvestable_pods": 195608015.07665202,
           "unharvestable_ratio": 0.9443276180732326,
           "value": 753960.1080780011,
           "variable": "harvestable_pods"
          },
          {
           "harvestable_pods": 753960.1080780011,
           "harvested_pods": 10778016.628453,
           "season": 2653,
           "timestamp": "2021-11-25T00:00:29",
           "unharvestable_pods": 195608015.07665202,
           "unharvestable_ratio": 0.9443276180732326,
           "value": 0.9443276180732326,
           "variable": "unharvestable_ratio"
          },
          {
           "harvestable_pods": 945187.2535420004,
           "harvested_pods": 11611253.820139,
           "season": 2677,
           "timestamp": "2021-11-26T00:00:31",
           "unharvestable_pods": 204898354.104481,
           "unharvestable_ratio": 0.942257235287024,
           "value": 945187.2535420004,
           "variable": "harvestable_pods"
          },
          {
           "harvestable_pods": 945187.2535420004,
           "harvested_pods": 11611253.820139,
           "season": 2677,
           "timestamp": "2021-11-26T00:00:31",
           "unharvestable_pods": 204898354.104481,
           "unharvestable_ratio": 0.942257235287024,
           "value": 0.942257235287024,
           "variable": "unharvestable_ratio"
          },
          {
           "harvestable_pods": 945187.2535420004,
           "harvested_pods": 11611253.820139,
           "season": 2677,
           "timestamp": "2021-11-26T00:00:31",
           "unharvestable_pods": 204898354.104481,
           "unharvestable_ratio": 0.942257235287024,
           "value": 204898354.104481,
           "variable": "unharvestable_pods"
          },
          {
           "harvestable_pods": 945187.2535420004,
           "harvested_pods": 11611253.820139,
           "season": 2677,
           "timestamp": "2021-11-26T00:00:31",
           "unharvestable_pods": 204898354.104481,
           "unharvestable_ratio": 0.942257235287024,
           "value": 11611253.820139,
           "variable": "harvested_pods"
          },
          {
           "harvestable_pods": 691882.454101,
           "harvested_pods": 13260289.481039,
           "season": 2701,
           "timestamp": "2021-11-27T00:00:49",
           "unharvestable_pods": 219017949.36698797,
           "unharvestable_ratio": 0.9401117540002217,
           "value": 219017949.36698797,
           "variable": "unharvestable_pods"
          },
          {
           "harvestable_pods": 691882.454101,
           "harvested_pods": 13260289.481039,
           "season": 2701,
           "timestamp": "2021-11-27T00:00:49",
           "unharvestable_pods": 219017949.36698797,
           "unharvestable_ratio": 0.9401117540002217,
           "value": 13260289.481039,
           "variable": "harvested_pods"
          },
          {
           "harvestable_pods": 691882.454101,
           "harvested_pods": 13260289.481039,
           "season": 2701,
           "timestamp": "2021-11-27T00:00:49",
           "unharvestable_pods": 219017949.36698797,
           "unharvestable_ratio": 0.9401117540002217,
           "value": 691882.454101,
           "variable": "harvestable_pods"
          },
          {
           "harvestable_pods": 691882.454101,
           "harvested_pods": 13260289.481039,
           "season": 2701,
           "timestamp": "2021-11-27T00:00:49",
           "unharvestable_pods": 219017949.36698797,
           "unharvestable_ratio": 0.9401117540002217,
           "value": 0.9401117540002217,
           "variable": "unharvestable_ratio"
          },
          {
           "harvestable_pods": 637835.0070659984,
           "harvested_pods": 14751092.230032,
           "season": 2725,
           "timestamp": "2021-11-28T00:00:38",
           "unharvestable_pods": 227655722.924725,
           "unharvestable_ratio": 0.9366827155962831,
           "value": 0.9366827155962831,
           "variable": "unharvestable_ratio"
          },
          {
           "harvestable_pods": 637835.0070659984,
           "harvested_pods": 14751092.230032,
           "season": 2725,
           "timestamp": "2021-11-28T00:00:38",
           "unharvestable_pods": 227655722.924725,
           "unharvestable_ratio": 0.9366827155962831,
           "value": 637835.0070659984,
           "variable": "harvestable_pods"
          },
          {
           "harvestable_pods": 637835.0070659984,
           "harvested_pods": 14751092.230032,
           "season": 2725,
           "timestamp": "2021-11-28T00:00:38",
           "unharvestable_pods": 227655722.924725,
           "unharvestable_ratio": 0.9366827155962831,
           "value": 14751092.230032,
           "variable": "harvested_pods"
          },
          {
           "harvestable_pods": 637835.0070659984,
           "harvested_pods": 14751092.230032,
           "season": 2725,
           "timestamp": "2021-11-28T00:00:38",
           "unharvestable_pods": 227655722.924725,
           "unharvestable_ratio": 0.9366827155962831,
           "value": 227655722.924725,
           "variable": "unharvestable_pods"
          },
          {
           "harvestable_pods": 795706.5450299997,
           "harvested_pods": 16434650.398223,
           "season": 2749,
           "timestamp": "2021-11-29T00:01:08",
           "unharvestable_pods": 241904230.735486,
           "unharvestable_ratio": 0.9335080774141418,
           "value": 0.9335080774141418,
           "variable": "unharvestable_ratio"
          },
          {
           "harvestable_pods": 795706.5450299997,
           "harvested_pods": 16434650.398223,
           "season": 2749,
           "timestamp": "2021-11-29T00:01:08",
           "unharvestable_pods": 241904230.735486,
           "unharvestable_ratio": 0.9335080774141418,
           "value": 795706.5450299997,
           "variable": "harvestable_pods"
          },
          {
           "harvestable_pods": 795706.5450299997,
           "harvested_pods": 16434650.398223,
           "season": 2749,
           "timestamp": "2021-11-29T00:01:08",
           "unharvestable_pods": 241904230.735486,
           "unharvestable_ratio": 0.9335080774141418,
           "value": 241904230.735486,
           "variable": "unharvestable_pods"
          },
          {
           "harvestable_pods": 795706.5450299997,
           "harvested_pods": 16434650.398223,
           "season": 2749,
           "timestamp": "2021-11-29T00:01:08",
           "unharvestable_pods": 241904230.735486,
           "unharvestable_ratio": 0.9335080774141418,
           "value": 16434650.398223,
           "variable": "harvested_pods"
          },
          {
           "harvestable_pods": 1016208.7776620016,
           "harvested_pods": 19411773.106953,
           "season": 2773,
           "timestamp": "2021-11-30T00:01:06",
           "unharvestable_pods": 255626269.966228,
           "unharvestable_ratio": 0.926000118644604,
           "value": 255626269.966228,
           "variable": "unharvestable_pods"
          },
          {
           "harvestable_pods": 1016208.7776620016,
           "harvested_pods": 19411773.106953,
           "season": 2773,
           "timestamp": "2021-11-30T00:01:06",
           "unharvestable_pods": 255626269.966228,
           "unharvestable_ratio": 0.926000118644604,
           "value": 19411773.106953,
           "variable": "harvested_pods"
          },
          {
           "harvestable_pods": 1016208.7776620016,
           "harvested_pods": 19411773.106953,
           "season": 2773,
           "timestamp": "2021-11-30T00:01:06",
           "unharvestable_pods": 255626269.966228,
           "unharvestable_ratio": 0.926000118644604,
           "value": 1016208.7776620016,
           "variable": "harvestable_pods"
          },
          {
           "harvestable_pods": 1016208.7776620016,
           "harvested_pods": 19411773.106953,
           "season": 2773,
           "timestamp": "2021-11-30T00:01:06",
           "unharvestable_pods": 255626269.966228,
           "unharvestable_ratio": 0.926000118644604,
           "value": 0.926000118644604,
           "variable": "unharvestable_ratio"
          },
          {
           "harvestable_pods": 797996.376747001,
           "harvested_pods": 21136794.819107,
           "season": 2797,
           "timestamp": "2021-12-01T00:02:37",
           "unharvestable_pods": 276310450.99421,
           "unharvestable_ratio": 0.926453843706665,
           "value": 276310450.99421,
           "variable": "unharvestable_pods"
          },
          {
           "harvestable_pods": 797996.376747001,
           "harvested_pods": 21136794.819107,
           "season": 2797,
           "timestamp": "2021-12-01T00:02:37",
           "unharvestable_pods": 276310450.99421,
           "unharvestable_ratio": 0.926453843706665,
           "value": 21136794.819107,
           "variable": "harvested_pods"
          },
          {
           "harvestable_pods": 797996.376747001,
           "harvested_pods": 21136794.819107,
           "season": 2797,
           "timestamp": "2021-12-01T00:02:37",
           "unharvestable_pods": 276310450.99421,
           "unharvestable_ratio": 0.926453843706665,
           "value": 797996.376747001,
           "variable": "harvestable_pods"
          },
          {
           "harvestable_pods": 797996.376747001,
           "harvested_pods": 21136794.819107,
           "season": 2797,
           "timestamp": "2021-12-01T00:02:37",
           "unharvestable_pods": 276310450.99421,
           "unharvestable_ratio": 0.926453843706665,
           "value": 0.926453843706665,
           "variable": "unharvestable_ratio"
          },
          {
           "harvestable_pods": 600233.096241001,
           "harvested_pods": 21476004.207805,
           "season": 2821,
           "timestamp": "2021-12-02T00:01:18",
           "unharvestable_pods": 290527047.44132304,
           "unharvestable_ratio": 0.9293793815313611,
           "value": 0.9293793815313611,
           "variable": "unharvestable_ratio"
          },
          {
           "harvestable_pods": 600233.096241001,
           "harvested_pods": 21476004.207805,
           "season": 2821,
           "timestamp": "2021-12-02T00:01:18",
           "unharvestable_pods": 290527047.44132304,
           "unharvestable_ratio": 0.9293793815313611,
           "value": 290527047.44132304,
           "variable": "unharvestable_pods"
          },
          {
           "harvestable_pods": 600233.096241001,
           "harvested_pods": 21476004.207805,
           "season": 2821,
           "timestamp": "2021-12-02T00:01:18",
           "unharvestable_pods": 290527047.44132304,
           "unharvestable_ratio": 0.9293793815313611,
           "value": 21476004.207805,
           "variable": "harvested_pods"
          },
          {
           "harvestable_pods": 600233.096241001,
           "harvested_pods": 21476004.207805,
           "season": 2821,
           "timestamp": "2021-12-02T00:01:18",
           "unharvestable_pods": 290527047.44132304,
           "unharvestable_ratio": 0.9293793815313611,
           "value": 600233.096241001,
           "variable": "harvestable_pods"
          },
          {
           "harvestable_pods": 469590.81818300113,
           "harvested_pods": 21677457.730471,
           "season": 2845,
           "timestamp": "2021-12-03T00:01:08",
           "unharvestable_pods": 316153109.209296,
           "unharvestable_ratio": 0.9345343239109573,
           "value": 469590.81818300113,
           "variable": "harvestable_pods"
          },
          {
           "harvestable_pods": 469590.81818300113,
           "harvested_pods": 21677457.730471,
           "season": 2845,
           "timestamp": "2021-12-03T00:01:08",
           "unharvestable_pods": 316153109.209296,
           "unharvestable_ratio": 0.9345343239109573,
           "value": 0.9345343239109573,
           "variable": "unharvestable_ratio"
          },
          {
           "harvestable_pods": 469590.81818300113,
           "harvested_pods": 21677457.730471,
           "season": 2845,
           "timestamp": "2021-12-03T00:01:08",
           "unharvestable_pods": 316153109.209296,
           "unharvestable_ratio": 0.9345343239109573,
           "value": 316153109.209296,
           "variable": "unharvestable_pods"
          },
          {
           "harvestable_pods": 469590.81818300113,
           "harvested_pods": 21677457.730471,
           "season": 2845,
           "timestamp": "2021-12-03T00:01:08",
           "unharvestable_pods": 316153109.209296,
           "unharvestable_ratio": 0.9345343239109573,
           "value": 21677457.730471,
           "variable": "harvested_pods"
          },
          {
           "harvestable_pods": 463170.3509979993,
           "harvested_pods": 21811570.342467,
           "season": 2869,
           "timestamp": "2021-12-04T00:00:14",
           "unharvestable_pods": 329369201.572774,
           "unharvestable_ratio": 0.936655411863742,
           "value": 0.936655411863742,
           "variable": "unharvestable_ratio"
          },
          {
           "harvestable_pods": 463170.3509979993,
           "harvested_pods": 21811570.342467,
           "season": 2869,
           "timestamp": "2021-12-04T00:00:14",
           "unharvestable_pods": 329369201.572774,
           "unharvestable_ratio": 0.936655411863742,
           "value": 463170.3509979993,
           "variable": "harvestable_pods"
          },
          {
           "harvestable_pods": 463170.3509979993,
           "harvested_pods": 21811570.342467,
           "season": 2869,
           "timestamp": "2021-12-04T00:00:14",
           "unharvestable_pods": 329369201.572774,
           "unharvestable_ratio": 0.936655411863742,
           "value": 329369201.572774,
           "variable": "unharvestable_pods"
          },
          {
           "harvestable_pods": 463170.3509979993,
           "harvested_pods": 21811570.342467,
           "season": 2869,
           "timestamp": "2021-12-04T00:00:14",
           "unharvestable_pods": 329369201.572774,
           "unharvestable_ratio": 0.936655411863742,
           "value": 21811570.342467,
           "variable": "harvested_pods"
          },
          {
           "harvestable_pods": 418232.22349200025,
           "harvested_pods": 21873565.155148,
           "season": 2893,
           "timestamp": "2021-12-05T00:00:54",
           "unharvestable_pods": 336548354.888647,
           "unharvestable_ratio": 0.9378781966349305,
           "value": 336548354.888647,
           "variable": "unharvestable_pods"
          },
          {
           "harvestable_pods": 418232.22349200025,
           "harvested_pods": 21873565.155148,
           "season": 2893,
           "timestamp": "2021-12-05T00:00:54",
           "unharvestable_pods": 336548354.888647,
           "unharvestable_ratio": 0.9378781966349305,
           "value": 21873565.155148,
           "variable": "harvested_pods"
          },
          {
           "harvestable_pods": 418232.22349200025,
           "harvested_pods": 21873565.155148,
           "season": 2893,
           "timestamp": "2021-12-05T00:00:54",
           "unharvestable_pods": 336548354.888647,
           "unharvestable_ratio": 0.9378781966349305,
           "value": 418232.22349200025,
           "variable": "harvestable_pods"
          },
          {
           "harvestable_pods": 418232.22349200025,
           "harvested_pods": 21873565.155148,
           "season": 2893,
           "timestamp": "2021-12-05T00:00:54",
           "unharvestable_pods": 336548354.888647,
           "unharvestable_ratio": 0.9378781966349305,
           "value": 0.9378781966349305,
           "variable": "unharvestable_ratio"
          },
          {
           "harvestable_pods": 403559.83022100106,
           "harvested_pods": 21888237.548419,
           "season": 2917,
           "timestamp": "2021-12-06T00:00:12",
           "unharvestable_pods": 338509295.797626,
           "unharvestable_ratio": 0.9382158263923287,
           "value": 338509295.797626,
           "variable": "unharvestable_pods"
          },
          {
           "harvestable_pods": 403559.83022100106,
           "harvested_pods": 21888237.548419,
           "season": 2917,
           "timestamp": "2021-12-06T00:00:12",
           "unharvestable_pods": 338509295.797626,
           "unharvestable_ratio": 0.9382158263923287,
           "value": 21888237.548419,
           "variable": "harvested_pods"
          },
          {
           "harvestable_pods": 403559.83022100106,
           "harvested_pods": 21888237.548419,
           "season": 2917,
           "timestamp": "2021-12-06T00:00:12",
           "unharvestable_pods": 338509295.797626,
           "unharvestable_ratio": 0.9382158263923287,
           "value": 403559.83022100106,
           "variable": "harvestable_pods"
          },
          {
           "harvestable_pods": 403559.83022100106,
           "harvested_pods": 21888237.548419,
           "season": 2917,
           "timestamp": "2021-12-06T00:00:12",
           "unharvestable_pods": 338509295.797626,
           "unharvestable_ratio": 0.9382158263923287,
           "value": 0.9382158263923287,
           "variable": "unharvestable_ratio"
          },
          {
           "harvestable_pods": 401618.90022100136,
           "harvested_pods": 21890178.478419,
           "season": 2941,
           "timestamp": "2021-12-07T00:00:11",
           "unharvestable_pods": 339625584.866187,
           "unharvestable_ratio": 0.9384063919771606,
           "value": 0.9384063919771606,
           "variable": "unharvestable_ratio"
          },
          {
           "harvestable_pods": 401618.90022100136,
           "harvested_pods": 21890178.478419,
           "season": 2941,
           "timestamp": "2021-12-07T00:00:11",
           "unharvestable_pods": 339625584.866187,
           "unharvestable_ratio": 0.9384063919771606,
           "value": 401618.90022100136,
           "variable": "harvestable_pods"
          },
          {
           "harvestable_pods": 401618.90022100136,
           "harvested_pods": 21890178.478419,
           "season": 2941,
           "timestamp": "2021-12-07T00:00:11",
           "unharvestable_pods": 339625584.866187,
           "unharvestable_ratio": 0.9384063919771606,
           "value": 339625584.866187,
           "variable": "unharvestable_pods"
          },
          {
           "harvestable_pods": 401618.90022100136,
           "harvested_pods": 21890178.478419,
           "season": 2941,
           "timestamp": "2021-12-07T00:00:11",
           "unharvestable_pods": 339625584.866187,
           "unharvestable_ratio": 0.9384063919771606,
           "value": 21890178.478419,
           "variable": "harvested_pods"
          },
          {
           "harvestable_pods": 400523.90022100136,
           "harvested_pods": 21891273.478419,
           "season": 2965,
           "timestamp": "2021-12-08T00:00:12",
           "unharvestable_pods": 342089922.628389,
           "unharvestable_ratio": 0.9388229536371638,
           "value": 342089922.628389,
           "variable": "unharvestable_pods"
          },
          {
           "harvestable_pods": 400523.90022100136,
           "harvested_pods": 21891273.478419,
           "season": 2965,
           "timestamp": "2021-12-08T00:00:12",
           "unharvestable_pods": 342089922.628389,
           "unharvestable_ratio": 0.9388229536371638,
           "value": 21891273.478419,
           "variable": "harvested_pods"
          },
          {
           "harvestable_pods": 400523.90022100136,
           "harvested_pods": 21891273.478419,
           "season": 2965,
           "timestamp": "2021-12-08T00:00:12",
           "unharvestable_pods": 342089922.628389,
           "unharvestable_ratio": 0.9388229536371638,
           "value": 400523.90022100136,
           "variable": "harvestable_pods"
          },
          {
           "harvestable_pods": 400523.90022100136,
           "harvested_pods": 21891273.478419,
           "season": 2965,
           "timestamp": "2021-12-08T00:00:12",
           "unharvestable_pods": 342089922.628389,
           "unharvestable_ratio": 0.9388229536371638,
           "value": 0.9388229536371638,
           "variable": "unharvestable_ratio"
          },
          {
           "harvestable_pods": 400171.260619998,
           "harvested_pods": 21891626.11802,
           "season": 2989,
           "timestamp": "2021-12-09T00:00:34",
           "unharvestable_pods": 342595224.867066,
           "unharvestable_ratio": 0.9389076727326596,
           "value": 400171.260619998,
           "variable": "harvestable_pods"
          },
          {
           "harvestable_pods": 400171.260619998,
           "harvested_pods": 21891626.11802,
           "season": 2989,
           "timestamp": "2021-12-09T00:00:34",
           "unharvestable_pods": 342595224.867066,
           "unharvestable_ratio": 0.9389076727326596,
           "value": 0.9389076727326596,
           "variable": "unharvestable_ratio"
          },
          {
           "harvestable_pods": 400171.260619998,
           "harvested_pods": 21891626.11802,
           "season": 2989,
           "timestamp": "2021-12-09T00:00:34",
           "unharvestable_pods": 342595224.867066,
           "unharvestable_ratio": 0.9389076727326596,
           "value": 21891626.11802,
           "variable": "harvested_pods"
          },
          {
           "harvestable_pods": 400171.260619998,
           "harvested_pods": 21891626.11802,
           "season": 2989,
           "timestamp": "2021-12-09T00:00:34",
           "unharvestable_pods": 342595224.867066,
           "unharvestable_ratio": 0.9389076727326596,
           "value": 342595224.867066,
           "variable": "unharvestable_pods"
          },
          {
           "harvestable_pods": 400171.260619998,
           "harvested_pods": 21891626.11802,
           "season": 3013,
           "timestamp": "2021-12-10T00:00:24",
           "unharvestable_pods": 344648890.285113,
           "unharvestable_ratio": 0.9392495895710885,
           "value": 344648890.285113,
           "variable": "unharvestable_pods"
          },
          {
           "harvestable_pods": 400171.260619998,
           "harvested_pods": 21891626.11802,
           "season": 3013,
           "timestamp": "2021-12-10T00:00:24",
           "unharvestable_pods": 344648890.285113,
           "unharvestable_ratio": 0.9392495895710885,
           "value": 21891626.11802,
           "variable": "harvested_pods"
          },
          {
           "harvestable_pods": 400171.260619998,
           "harvested_pods": 21891626.11802,
           "season": 3013,
           "timestamp": "2021-12-10T00:00:24",
           "unharvestable_pods": 344648890.285113,
           "unharvestable_ratio": 0.9392495895710885,
           "value": 400171.260619998,
           "variable": "harvestable_pods"
          },
          {
           "harvestable_pods": 400171.260619998,
           "harvested_pods": 21891626.11802,
           "season": 3013,
           "timestamp": "2021-12-10T00:00:24",
           "unharvestable_pods": 344648890.285113,
           "unharvestable_ratio": 0.9392495895710885,
           "value": 0.9392495895710885,
           "variable": "unharvestable_ratio"
          },
          {
           "harvestable_pods": 400171.260619998,
           "harvested_pods": 21891626.11802,
           "season": 3037,
           "timestamp": "2021-12-11T00:00:51",
           "unharvestable_pods": 350368880.542697,
           "unharvestable_ratio": 0.9401820511276334,
           "value": 350368880.542697,
           "variable": "unharvestable_pods"
          },
          {
           "harvestable_pods": 400171.260619998,
           "harvested_pods": 21891626.11802,
           "season": 3037,
           "timestamp": "2021-12-11T00:00:51",
           "unharvestable_pods": 350368880.542697,
           "unharvestable_ratio": 0.9401820511276334,
           "value": 21891626.11802,
           "variable": "harvested_pods"
          },
          {
           "harvestable_pods": 400171.260619998,
           "harvested_pods": 21891626.11802,
           "season": 3037,
           "timestamp": "2021-12-11T00:00:51",
           "unharvestable_pods": 350368880.542697,
           "unharvestable_ratio": 0.9401820511276334,
           "value": 400171.260619998,
           "variable": "harvestable_pods"
          },
          {
           "harvestable_pods": 400171.260619998,
           "harvested_pods": 21891626.11802,
           "season": 3037,
           "timestamp": "2021-12-11T00:00:51",
           "unharvestable_pods": 350368880.542697,
           "unharvestable_ratio": 0.9401820511276334,
           "value": 0.9401820511276334,
           "variable": "unharvestable_ratio"
          },
          {
           "harvestable_pods": 399285.7418220006,
           "harvested_pods": 21892511.636818,
           "season": 3061,
           "timestamp": "2021-12-12T00:01:06",
           "unharvestable_pods": 356047282.770507,
           "unharvestable_ratio": 0.941079844646627,
           "value": 0.941079844646627,
           "variable": "unharvestable_ratio"
          },
          {
           "harvestable_pods": 399285.7418220006,
           "harvested_pods": 21892511.636818,
           "season": 3061,
           "timestamp": "2021-12-12T00:01:06",
           "unharvestable_pods": 356047282.770507,
           "unharvestable_ratio": 0.941079844646627,
           "value": 356047282.770507,
           "variable": "unharvestable_pods"
          },
          {
           "harvestable_pods": 399285.7418220006,
           "harvested_pods": 21892511.636818,
           "season": 3061,
           "timestamp": "2021-12-12T00:01:06",
           "unharvestable_pods": 356047282.770507,
           "unharvestable_ratio": 0.941079844646627,
           "value": 21892511.636818,
           "variable": "harvested_pods"
          },
          {
           "harvestable_pods": 399285.7418220006,
           "harvested_pods": 21892511.636818,
           "season": 3061,
           "timestamp": "2021-12-12T00:01:06",
           "unharvestable_pods": 356047282.770507,
           "unharvestable_ratio": 0.941079844646627,
           "value": 399285.7418220006,
           "variable": "harvestable_pods"
          },
          {
           "harvestable_pods": 395812.4922319986,
           "harvested_pods": 21895984.886408,
           "season": 3085,
           "timestamp": "2021-12-13T00:00:12",
           "unharvestable_pods": 356868345.699452,
           "unharvestable_ratio": 0.9412074349437917,
           "value": 21895984.886408,
           "variable": "harvested_pods"
          },
          {
           "harvestable_pods": 395812.4922319986,
           "harvested_pods": 21895984.886408,
           "season": 3085,
           "timestamp": "2021-12-13T00:00:12",
           "unharvestable_pods": 356868345.699452,
           "unharvestable_ratio": 0.9412074349437917,
           "value": 395812.4922319986,
           "variable": "harvestable_pods"
          },
          {
           "harvestable_pods": 395812.4922319986,
           "harvested_pods": 21895984.886408,
           "season": 3085,
           "timestamp": "2021-12-13T00:00:12",
           "unharvestable_pods": 356868345.699452,
           "unharvestable_ratio": 0.9412074349437917,
           "value": 356868345.699452,
           "variable": "unharvestable_pods"
          },
          {
           "harvestable_pods": 395812.4922319986,
           "harvested_pods": 21895984.886408,
           "season": 3085,
           "timestamp": "2021-12-13T00:00:12",
           "unharvestable_pods": 356868345.699452,
           "unharvestable_ratio": 0.9412074349437917,
           "value": 0.9412074349437917,
           "variable": "unharvestable_ratio"
          },
          {
           "harvestable_pods": 355012.94426099956,
           "harvested_pods": 21936784.434379,
           "season": 3109,
           "timestamp": "2021-12-14T00:01:35",
           "unharvestable_pods": 358557946.407727,
           "unharvestable_ratio": 0.9414682621103605,
           "value": 0.9414682621103605,
           "variable": "unharvestable_ratio"
          },
          {
           "harvestable_pods": 355012.94426099956,
           "harvested_pods": 21936784.434379,
           "season": 3109,
           "timestamp": "2021-12-14T00:01:35",
           "unharvestable_pods": 358557946.407727,
           "unharvestable_ratio": 0.9414682621103605,
           "value": 355012.94426099956,
           "variable": "harvestable_pods"
          },
          {
           "harvestable_pods": 355012.94426099956,
           "harvested_pods": 21936784.434379,
           "season": 3109,
           "timestamp": "2021-12-14T00:01:35",
           "unharvestable_pods": 358557946.407727,
           "unharvestable_ratio": 0.9414682621103605,
           "value": 21936784.434379,
           "variable": "harvested_pods"
          },
          {
           "harvestable_pods": 355012.94426099956,
           "harvested_pods": 21936784.434379,
           "season": 3109,
           "timestamp": "2021-12-14T00:01:35",
           "unharvestable_pods": 358557946.407727,
           "unharvestable_ratio": 0.9414682621103605,
           "value": 358557946.407727,
           "variable": "unharvestable_pods"
          },
          {
           "harvestable_pods": 355012.94426099956,
           "harvested_pods": 21936784.434379,
           "season": 3133,
           "timestamp": "2021-12-15T00:00:04",
           "unharvestable_pods": 360153901.180973,
           "unharvestable_ratio": 0.9417125164105741,
           "value": 360153901.180973,
           "variable": "unharvestable_pods"
          },
          {
           "harvestable_pods": 355012.94426099956,
           "harvested_pods": 21936784.434379,
           "season": 3133,
           "timestamp": "2021-12-15T00:00:04",
           "unharvestable_pods": 360153901.180973,
           "unharvestable_ratio": 0.9417125164105741,
           "value": 21936784.434379,
           "variable": "harvested_pods"
          },
          {
           "harvestable_pods": 355012.94426099956,
           "harvested_pods": 21936784.434379,
           "season": 3133,
           "timestamp": "2021-12-15T00:00:04",
           "unharvestable_pods": 360153901.180973,
           "unharvestable_ratio": 0.9417125164105741,
           "value": 355012.94426099956,
           "variable": "harvestable_pods"
          },
          {
           "harvestable_pods": 355012.94426099956,
           "harvested_pods": 21936784.434379,
           "season": 3133,
           "timestamp": "2021-12-15T00:00:04",
           "unharvestable_pods": 360153901.180973,
           "unharvestable_ratio": 0.9417125164105741,
           "value": 0.9417125164105741,
           "variable": "unharvestable_ratio"
          },
          {
           "harvestable_pods": 354643.70074300095,
           "harvested_pods": 21938884.735599,
           "season": 3157,
           "timestamp": "2021-12-16T00:00:57",
           "unharvestable_pods": 361241471.464755,
           "unharvestable_ratio": 0.9418735488492813,
           "value": 361241471.464755,
           "variable": "unharvestable_pods"
          },
          {
           "harvestable_pods": 354643.70074300095,
           "harvested_pods": 21938884.735599,
           "season": 3157,
           "timestamp": "2021-12-16T00:00:57",
           "unharvestable_pods": 361241471.464755,
           "unharvestable_ratio": 0.9418735488492813,
           "value": 21938884.735599,
           "variable": "harvested_pods"
          },
          {
           "harvestable_pods": 354643.70074300095,
           "harvested_pods": 21938884.735599,
           "season": 3157,
           "timestamp": "2021-12-16T00:00:57",
           "unharvestable_pods": 361241471.464755,
           "unharvestable_ratio": 0.9418735488492813,
           "value": 354643.70074300095,
           "variable": "harvestable_pods"
          },
          {
           "harvestable_pods": 354643.70074300095,
           "harvested_pods": 21938884.735599,
           "season": 3157,
           "timestamp": "2021-12-16T00:00:57",
           "unharvestable_pods": 361241471.464755,
           "unharvestable_ratio": 0.9418735488492813,
           "value": 0.9418735488492813,
           "variable": "unharvestable_ratio"
          },
          {
           "harvestable_pods": 353109.05518399924,
           "harvested_pods": 21940419.381158,
           "season": 3181,
           "timestamp": "2021-12-17T00:00:10",
           "unharvestable_pods": 361772726.128126,
           "unharvestable_ratio": 0.9419539515086456,
           "value": 0.9419539515086456,
           "variable": "unharvestable_ratio"
          },
          {
           "harvestable_pods": 353109.05518399924,
           "harvested_pods": 21940419.381158,
           "season": 3181,
           "timestamp": "2021-12-17T00:00:10",
           "unharvestable_pods": 361772726.128126,
           "unharvestable_ratio": 0.9419539515086456,
           "value": 353109.05518399924,
           "variable": "harvestable_pods"
          },
          {
           "harvestable_pods": 353109.05518399924,
           "harvested_pods": 21940419.381158,
           "season": 3181,
           "timestamp": "2021-12-17T00:00:10",
           "unharvestable_pods": 361772726.128126,
           "unharvestable_ratio": 0.9419539515086456,
           "value": 361772726.128126,
           "variable": "unharvestable_pods"
          },
          {
           "harvestable_pods": 353109.05518399924,
           "harvested_pods": 21940419.381158,
           "season": 3181,
           "timestamp": "2021-12-17T00:00:10",
           "unharvestable_pods": 361772726.128126,
           "unharvestable_ratio": 0.9419539515086456,
           "value": 21940419.381158,
           "variable": "harvested_pods"
          },
          {
           "harvestable_pods": 353109.05518399924,
           "harvested_pods": 21940419.381158,
           "season": 3205,
           "timestamp": "2021-12-18T00:01:09",
           "unharvestable_pods": 364017679.91092,
           "unharvestable_ratio": 0.9422912720246471,
           "value": 364017679.91092,
           "variable": "unharvestable_pods"
          },
          {
           "harvestable_pods": 353109.05518399924,
           "harvested_pods": 21940419.381158,
           "season": 3205,
           "timestamp": "2021-12-18T00:01:09",
           "unharvestable_pods": 364017679.91092,
           "unharvestable_ratio": 0.9422912720246471,
           "value": 21940419.381158,
           "variable": "harvested_pods"
          },
          {
           "harvestable_pods": 353109.05518399924,
           "harvested_pods": 21940419.381158,
           "season": 3205,
           "timestamp": "2021-12-18T00:01:09",
           "unharvestable_pods": 364017679.91092,
           "unharvestable_ratio": 0.9422912720246471,
           "value": 353109.05518399924,
           "variable": "harvestable_pods"
          },
          {
           "harvestable_pods": 353109.05518399924,
           "harvested_pods": 21940419.381158,
           "season": 3205,
           "timestamp": "2021-12-18T00:01:09",
           "unharvestable_pods": 364017679.91092,
           "unharvestable_ratio": 0.9422912720246471,
           "value": 0.9422912720246471,
           "variable": "unharvestable_ratio"
          },
          {
           "harvestable_pods": 345172.4769000001,
           "harvested_pods": 21948355.959442,
           "season": 3229,
           "timestamp": "2021-12-19T00:00:42",
           "unharvestable_pods": 370012348.897916,
           "unharvestable_ratio": 0.9431730959836038,
           "value": 0.9431730959836038,
           "variable": "unharvestable_ratio"
          },
          {
           "harvestable_pods": 345172.4769000001,
           "harvested_pods": 21948355.959442,
           "season": 3229,
           "timestamp": "2021-12-19T00:00:42",
           "unharvestable_pods": 370012348.897916,
           "unharvestable_ratio": 0.9431730959836038,
           "value": 345172.4769000001,
           "variable": "harvestable_pods"
          },
          {
           "harvestable_pods": 345172.4769000001,
           "harvested_pods": 21948355.959442,
           "season": 3229,
           "timestamp": "2021-12-19T00:00:42",
           "unharvestable_pods": 370012348.897916,
           "unharvestable_ratio": 0.9431730959836038,
           "value": 21948355.959442,
           "variable": "harvested_pods"
          },
          {
           "harvestable_pods": 345172.4769000001,
           "harvested_pods": 21948355.959442,
           "season": 3229,
           "timestamp": "2021-12-19T00:00:42",
           "unharvestable_pods": 370012348.897916,
           "unharvestable_ratio": 0.9431730959836038,
           "value": 370012348.897916,
           "variable": "unharvestable_pods"
          },
          {
           "harvestable_pods": 341040.0550010018,
           "harvested_pods": 21952488.381341,
           "season": 3253,
           "timestamp": "2021-12-20T00:01:07",
           "unharvestable_pods": 377771318.988354,
           "unharvestable_ratio": 0.9442752129314779,
           "value": 377771318.988354,
           "variable": "unharvestable_pods"
          },
          {
           "harvestable_pods": 341040.0550010018,
           "harvested_pods": 21952488.381341,
           "season": 3253,
           "timestamp": "2021-12-20T00:01:07",
           "unharvestable_pods": 377771318.988354,
           "unharvestable_ratio": 0.9442752129314779,
           "value": 21952488.381341,
           "variable": "harvested_pods"
          },
          {
           "harvestable_pods": 341040.0550010018,
           "harvested_pods": 21952488.381341,
           "season": 3253,
           "timestamp": "2021-12-20T00:01:07",
           "unharvestable_pods": 377771318.988354,
           "unharvestable_ratio": 0.9442752129314779,
           "value": 341040.0550010018,
           "variable": "harvestable_pods"
          },
          {
           "harvestable_pods": 341040.0550010018,
           "harvested_pods": 21952488.381341,
           "season": 3253,
           "timestamp": "2021-12-20T00:01:07",
           "unharvestable_pods": 377771318.988354,
           "unharvestable_ratio": 0.9442752129314779,
           "value": 0.9442752129314779,
           "variable": "unharvestable_ratio"
          },
          {
           "harvestable_pods": 341040.0550010018,
           "harvested_pods": 21952488.381341,
           "season": 3277,
           "timestamp": "2021-12-21T00:00:51",
           "unharvestable_pods": 380481529.30289,
           "unharvestable_ratio": 0.9446501763006997,
           "value": 341040.0550010018,
           "variable": "harvestable_pods"
          },
          {
           "harvestable_pods": 341040.0550010018,
           "harvested_pods": 21952488.381341,
           "season": 3277,
           "timestamp": "2021-12-21T00:00:51",
           "unharvestable_pods": 380481529.30289,
           "unharvestable_ratio": 0.9446501763006997,
           "value": 0.9446501763006997,
           "variable": "unharvestable_ratio"
          },
          {
           "harvestable_pods": 341040.0550010018,
           "harvested_pods": 21952488.381341,
           "season": 3277,
           "timestamp": "2021-12-21T00:00:51",
           "unharvestable_pods": 380481529.30289,
           "unharvestable_ratio": 0.9446501763006997,
           "value": 380481529.30289,
           "variable": "unharvestable_pods"
          },
          {
           "harvestable_pods": 341040.0550010018,
           "harvested_pods": 21952488.381341,
           "season": 3277,
           "timestamp": "2021-12-21T00:00:51",
           "unharvestable_pods": 380481529.30289,
           "unharvestable_ratio": 0.9446501763006997,
           "value": 21952488.381341,
           "variable": "harvested_pods"
          },
          {
           "harvestable_pods": 305937.0142340027,
           "harvested_pods": 21993103.624895,
           "season": 3301,
           "timestamp": "2021-12-22T00:00:33",
           "unharvestable_pods": 394758554.47294,
           "unharvestable_ratio": 0.9465324672168195,
           "value": 394758554.47294,
           "variable": "unharvestable_pods"
          },
          {
           "harvestable_pods": 305937.0142340027,
           "harvested_pods": 21993103.624895,
           "season": 3301,
           "timestamp": "2021-12-22T00:00:33",
           "unharvestable_pods": 394758554.47294,
           "unharvestable_ratio": 0.9465324672168195,
           "value": 21993103.624895,
           "variable": "harvested_pods"
          },
          {
           "harvestable_pods": 305937.0142340027,
           "harvested_pods": 21993103.624895,
           "season": 3301,
           "timestamp": "2021-12-22T00:00:33",
           "unharvestable_pods": 394758554.47294,
           "unharvestable_ratio": 0.9465324672168195,
           "value": 305937.0142340027,
           "variable": "harvestable_pods"
          },
          {
           "harvestable_pods": 305937.0142340027,
           "harvested_pods": 21993103.624895,
           "season": 3301,
           "timestamp": "2021-12-22T00:00:33",
           "unharvestable_pods": 394758554.47294,
           "unharvestable_ratio": 0.9465324672168195,
           "value": 0.9465324672168195,
           "variable": "unharvestable_ratio"
          },
          {
           "harvestable_pods": 300424.81144699827,
           "harvested_pods": 22053528.505966,
           "season": 3325,
           "timestamp": "2021-12-23T00:00:46",
           "unharvestable_pods": 407253168.69067,
           "unharvestable_ratio": 0.9479665206365169,
           "value": 0.9479665206365169,
           "variable": "unharvestable_ratio"
          },
          {
           "harvestable_pods": 300424.81144699827,
           "harvested_pods": 22053528.505966,
           "season": 3325,
           "timestamp": "2021-12-23T00:00:46",
           "unharvestable_pods": 407253168.69067,
           "unharvestable_ratio": 0.9479665206365169,
           "value": 407253168.69067,
           "variable": "unharvestable_pods"
          },
          {
           "harvestable_pods": 300424.81144699827,
           "harvested_pods": 22053528.505966,
           "season": 3325,
           "timestamp": "2021-12-23T00:00:46",
           "unharvestable_pods": 407253168.69067,
           "unharvestable_ratio": 0.9479665206365169,
           "value": 22053528.505966,
           "variable": "harvested_pods"
          },
          {
           "harvestable_pods": 300424.81144699827,
           "harvested_pods": 22053528.505966,
           "season": 3325,
           "timestamp": "2021-12-23T00:00:46",
           "unharvestable_pods": 407253168.69067,
           "unharvestable_ratio": 0.9479665206365169,
           "value": 300424.81144699827,
           "variable": "harvestable_pods"
          },
          {
           "harvestable_pods": 290620.0656449981,
           "harvested_pods": 22085275.647319,
           "season": 3349,
           "timestamp": "2021-12-24T00:00:14",
           "unharvestable_pods": 413253677.805133,
           "unharvestable_ratio": 0.9486354988889788,
           "value": 290620.0656449981,
           "variable": "harvestable_pods"
          },
          {
           "harvestable_pods": 290620.0656449981,
           "harvested_pods": 22085275.647319,
           "season": 3349,
           "timestamp": "2021-12-24T00:00:14",
           "unharvestable_pods": 413253677.805133,
           "unharvestable_ratio": 0.9486354988889788,
           "value": 0.9486354988889788,
           "variable": "unharvestable_ratio"
          },
          {
           "harvestable_pods": 290620.0656449981,
           "harvested_pods": 22085275.647319,
           "season": 3349,
           "timestamp": "2021-12-24T00:00:14",
           "unharvestable_pods": 413253677.805133,
           "unharvestable_ratio": 0.9486354988889788,
           "value": 413253677.805133,
           "variable": "unharvestable_pods"
          },
          {
           "harvestable_pods": 290620.0656449981,
           "harvested_pods": 22085275.647319,
           "season": 3349,
           "timestamp": "2021-12-24T00:00:14",
           "unharvestable_pods": 413253677.805133,
           "unharvestable_ratio": 0.9486354988889788,
           "value": 22085275.647319,
           "variable": "harvested_pods"
          },
          {
           "harvestable_pods": 304914.3406070024,
           "harvested_pods": 22116843.160187,
           "season": 3373,
           "timestamp": "2021-12-25T00:00:15",
           "unharvestable_pods": 418898302.066666,
           "unharvestable_ratio": 0.9491938854472881,
           "value": 418898302.066666,
           "variable": "unharvestable_pods"
          },
          {
           "harvestable_pods": 304914.3406070024,
           "harvested_pods": 22116843.160187,
           "season": 3373,
           "timestamp": "2021-12-25T00:00:15",
           "unharvestable_pods": 418898302.066666,
           "unharvestable_ratio": 0.9491938854472881,
           "value": 22116843.160187,
           "variable": "harvested_pods"
          },
          {
           "harvestable_pods": 304914.3406070024,
           "harvested_pods": 22116843.160187,
           "season": 3373,
           "timestamp": "2021-12-25T00:00:15",
           "unharvestable_pods": 418898302.066666,
           "unharvestable_ratio": 0.9491938854472881,
           "value": 304914.3406070024,
           "variable": "harvestable_pods"
          },
          {
           "harvestable_pods": 304914.3406070024,
           "harvested_pods": 22116843.160187,
           "season": 3373,
           "timestamp": "2021-12-25T00:00:15",
           "unharvestable_pods": 418898302.066666,
           "unharvestable_ratio": 0.9491938854472881,
           "value": 0.9491938854472881,
           "variable": "unharvestable_ratio"
          },
          {
           "harvestable_pods": 311441.6731059998,
           "harvested_pods": 22116843.160187,
           "season": 3397,
           "timestamp": "2021-12-26T00:00:01",
           "unharvestable_pods": 424407906.37322897,
           "unharvestable_ratio": 0.9498064720927519,
           "value": 311441.6731059998,
           "variable": "harvestable_pods"
          },
          {
           "harvestable_pods": 311441.6731059998,
           "harvested_pods": 22116843.160187,
           "season": 3397,
           "timestamp": "2021-12-26T00:00:01",
           "unharvestable_pods": 424407906.37322897,
           "unharvestable_ratio": 0.9498064720927519,
           "value": 0.9498064720927519,
           "variable": "unharvestable_ratio"
          },
          {
           "harvestable_pods": 311441.6731059998,
           "harvested_pods": 22116843.160187,
           "season": 3397,
           "timestamp": "2021-12-26T00:00:01",
           "unharvestable_pods": 424407906.37322897,
           "unharvestable_ratio": 0.9498064720927519,
           "value": 424407906.37322897,
           "variable": "unharvestable_pods"
          },
          {
           "harvestable_pods": 311441.6731059998,
           "harvested_pods": 22116843.160187,
           "season": 3397,
           "timestamp": "2021-12-26T00:00:01",
           "unharvestable_pods": 424407906.37322897,
           "unharvestable_ratio": 0.9498064720927519,
           "value": 22116843.160187,
           "variable": "harvested_pods"
          },
          {
           "harvestable_pods": 320270.0241550021,
           "harvested_pods": 22116969.018301,
           "season": 3421,
           "timestamp": "2021-12-27T00:00:08",
           "unharvestable_pods": 426063369.22520006,
           "unharvestable_ratio": 0.9499727790133433,
           "value": 426063369.22520006,
           "variable": "unharvestable_pods"
          },
          {
           "harvestable_pods": 320270.0241550021,
           "harvested_pods": 22116969.018301,
           "season": 3421,
           "timestamp": "2021-12-27T00:00:08",
           "unharvestable_pods": 426063369.22520006,
           "unharvestable_ratio": 0.9499727790133433,
           "value": 22116969.018301,
           "variable": "harvested_pods"
          },
          {
           "harvestable_pods": 320270.0241550021,
           "harvested_pods": 22116969.018301,
           "season": 3421,
           "timestamp": "2021-12-27T00:00:08",
           "unharvestable_pods": 426063369.22520006,
           "unharvestable_ratio": 0.9499727790133433,
           "value": 320270.0241550021,
           "variable": "harvestable_pods"
          },
          {
           "harvestable_pods": 320270.0241550021,
           "harvested_pods": 22116969.018301,
           "season": 3421,
           "timestamp": "2021-12-27T00:00:08",
           "unharvestable_pods": 426063369.22520006,
           "unharvestable_ratio": 0.9499727790133433,
           "value": 0.9499727790133433,
           "variable": "unharvestable_ratio"
          },
          {
           "harvestable_pods": 320270.0241550021,
           "harvested_pods": 22116969.018301,
           "season": 3445,
           "timestamp": "2021-12-28T00:01:16",
           "unharvestable_pods": 444791910.276194,
           "unharvestable_ratio": 0.9519780838263714,
           "value": 0.9519780838263714,
           "variable": "unharvestable_ratio"
          },
          {
           "harvestable_pods": 320270.0241550021,
           "harvested_pods": 22116969.018301,
           "season": 3445,
           "timestamp": "2021-12-28T00:01:16",
           "unharvestable_pods": 444791910.276194,
           "unharvestable_ratio": 0.9519780838263714,
           "value": 444791910.276194,
           "variable": "unharvestable_pods"
          },
          {
           "harvestable_pods": 320270.0241550021,
           "harvested_pods": 22116969.018301,
           "season": 3445,
           "timestamp": "2021-12-28T00:01:16",
           "unharvestable_pods": 444791910.276194,
           "unharvestable_ratio": 0.9519780838263714,
           "value": 22116969.018301,
           "variable": "harvested_pods"
          },
          {
           "harvestable_pods": 320270.0241550021,
           "harvested_pods": 22116969.018301,
           "season": 3445,
           "timestamp": "2021-12-28T00:01:16",
           "unharvestable_pods": 444791910.276194,
           "unharvestable_ratio": 0.9519780838263714,
           "value": 320270.0241550021,
           "variable": "harvestable_pods"
          },
          {
           "harvestable_pods": 320270.0241550021,
           "harvested_pods": 22116969.018301,
           "season": 3469,
           "timestamp": "2021-12-29T00:00:14",
           "unharvestable_pods": 449102294.63588595,
           "unharvestable_ratio": 0.9524170563867048,
           "value": 320270.0241550021,
           "variable": "harvestable_pods"
          },
          {
           "harvestable_pods": 320270.0241550021,
           "harvested_pods": 22116969.018301,
           "season": 3469,
           "timestamp": "2021-12-29T00:00:14",
           "unharvestable_pods": 449102294.63588595,
           "unharvestable_ratio": 0.9524170563867048,
           "value": 0.9524170563867048,
           "variable": "unharvestable_ratio"
          },
          {
           "harvestable_pods": 320270.0241550021,
           "harvested_pods": 22116969.018301,
           "season": 3469,
           "timestamp": "2021-12-29T00:00:14",
           "unharvestable_pods": 449102294.63588595,
           "unharvestable_ratio": 0.9524170563867048,
           "value": 449102294.63588595,
           "variable": "unharvestable_pods"
          },
          {
           "harvestable_pods": 320270.0241550021,
           "harvested_pods": 22116969.018301,
           "season": 3469,
           "timestamp": "2021-12-29T00:00:14",
           "unharvestable_pods": 449102294.63588595,
           "unharvestable_ratio": 0.9524170563867048,
           "value": 22116969.018301,
           "variable": "harvested_pods"
          },
          {
           "harvestable_pods": 315918.15204299986,
           "harvested_pods": 22128807.507142,
           "season": 3493,
           "timestamp": "2021-12-30T00:01:18",
           "unharvestable_pods": 461274887.039474,
           "unharvestable_ratio": 0.9535997196103617,
           "value": 461274887.039474,
           "variable": "unharvestable_pods"
          },
          {
           "harvestable_pods": 315918.15204299986,
           "harvested_pods": 22128807.507142,
           "season": 3493,
           "timestamp": "2021-12-30T00:01:18",
           "unharvestable_pods": 461274887.039474,
           "unharvestable_ratio": 0.9535997196103617,
           "value": 22128807.507142,
           "variable": "harvested_pods"
          },
          {
           "harvestable_pods": 315918.15204299986,
           "harvested_pods": 22128807.507142,
           "season": 3493,
           "timestamp": "2021-12-30T00:01:18",
           "unharvestable_pods": 461274887.039474,
           "unharvestable_ratio": 0.9535997196103617,
           "value": 315918.15204299986,
           "variable": "harvestable_pods"
          },
          {
           "harvestable_pods": 315918.15204299986,
           "harvested_pods": 22128807.507142,
           "season": 3493,
           "timestamp": "2021-12-30T00:01:18",
           "unharvestable_pods": 461274887.039474,
           "unharvestable_ratio": 0.9535997196103617,
           "value": 0.9535997196103617,
           "variable": "unharvestable_ratio"
          },
          {
           "harvestable_pods": 324051.4035860002,
           "harvested_pods": 22128807.507142,
           "season": 3517,
           "timestamp": "2021-12-31T00:01:05",
           "unharvestable_pods": 474761256.73859704,
           "unharvestable_ratio": 0.9548426760141228,
           "value": 474761256.73859704,
           "variable": "unharvestable_pods"
          },
          {
           "harvestable_pods": 324051.4035860002,
           "harvested_pods": 22128807.507142,
           "season": 3517,
           "timestamp": "2021-12-31T00:01:05",
           "unharvestable_pods": 474761256.73859704,
           "unharvestable_ratio": 0.9548426760141228,
           "value": 22128807.507142,
           "variable": "harvested_pods"
          },
          {
           "harvestable_pods": 324051.4035860002,
           "harvested_pods": 22128807.507142,
           "season": 3517,
           "timestamp": "2021-12-31T00:01:05",
           "unharvestable_pods": 474761256.73859704,
           "unharvestable_ratio": 0.9548426760141228,
           "value": 324051.4035860002,
           "variable": "harvestable_pods"
          },
          {
           "harvestable_pods": 324051.4035860002,
           "harvested_pods": 22128807.507142,
           "season": 3517,
           "timestamp": "2021-12-31T00:01:05",
           "unharvestable_pods": 474761256.73859704,
           "unharvestable_ratio": 0.9548426760141228,
           "value": 0.9548426760141228,
           "variable": "unharvestable_ratio"
          },
          {
           "harvestable_pods": 324051.4035860002,
           "harvested_pods": 22128807.507142,
           "season": 3541,
           "timestamp": "2022-01-01T00:00:03",
           "unharvestable_pods": 486521402.39299405,
           "unharvestable_ratio": 0.9558860621886544,
           "value": 0.9558860621886544,
           "variable": "unharvestable_ratio"
          },
          {
           "harvestable_pods": 324051.4035860002,
           "harvested_pods": 22128807.507142,
           "season": 3541,
           "timestamp": "2022-01-01T00:00:03",
           "unharvestable_pods": 486521402.39299405,
           "unharvestable_ratio": 0.9558860621886544,
           "value": 324051.4035860002,
           "variable": "harvestable_pods"
          },
          {
           "harvestable_pods": 324051.4035860002,
           "harvested_pods": 22128807.507142,
           "season": 3541,
           "timestamp": "2022-01-01T00:00:03",
           "unharvestable_pods": 486521402.39299405,
           "unharvestable_ratio": 0.9558860621886544,
           "value": 22128807.507142,
           "variable": "harvested_pods"
          },
          {
           "harvestable_pods": 324051.4035860002,
           "harvested_pods": 22128807.507142,
           "season": 3541,
           "timestamp": "2022-01-01T00:00:03",
           "unharvestable_pods": 486521402.39299405,
           "unharvestable_ratio": 0.9558860621886544,
           "value": 486521402.39299405,
           "variable": "unharvestable_pods"
          },
          {
           "harvestable_pods": 312211.44696100056,
           "harvested_pods": 22144785.577367,
           "season": 3565,
           "timestamp": "2022-01-02T00:01:07",
           "unharvestable_pods": 503319779.805347,
           "unharvestable_ratio": 0.9572879632308239,
           "value": 503319779.805347,
           "variable": "unharvestable_pods"
          },
          {
           "harvestable_pods": 312211.44696100056,
           "harvested_pods": 22144785.577367,
           "season": 3565,
           "timestamp": "2022-01-02T00:01:07",
           "unharvestable_pods": 503319779.805347,
           "unharvestable_ratio": 0.9572879632308239,
           "value": 22144785.577367,
           "variable": "harvested_pods"
          },
          {
           "harvestable_pods": 312211.44696100056,
           "harvested_pods": 22144785.577367,
           "season": 3565,
           "timestamp": "2022-01-02T00:01:07",
           "unharvestable_pods": 503319779.805347,
           "unharvestable_ratio": 0.9572879632308239,
           "value": 312211.44696100056,
           "variable": "harvestable_pods"
          },
          {
           "harvestable_pods": 312211.44696100056,
           "harvested_pods": 22144785.577367,
           "season": 3565,
           "timestamp": "2022-01-02T00:01:07",
           "unharvestable_pods": 503319779.805347,
           "unharvestable_ratio": 0.9572879632308239,
           "value": 0.9572879632308239,
           "variable": "unharvestable_ratio"
          },
          {
           "harvestable_pods": 240537.9504610002,
           "harvested_pods": 22216459.073867,
           "season": 3589,
           "timestamp": "2022-01-03T00:00:08",
           "unharvestable_pods": 514451228.338918,
           "unharvestable_ratio": 0.9581734904337986,
           "value": 0.9581734904337986,
           "variable": "unharvestable_ratio"
          },
          {
           "harvestable_pods": 240537.9504610002,
           "harvested_pods": 22216459.073867,
           "season": 3589,
           "timestamp": "2022-01-03T00:00:08",
           "unharvestable_pods": 514451228.338918,
           "unharvestable_ratio": 0.9581734904337986,
           "value": 514451228.338918,
           "variable": "unharvestable_pods"
          },
          {
           "harvestable_pods": 240537.9504610002,
           "harvested_pods": 22216459.073867,
           "season": 3589,
           "timestamp": "2022-01-03T00:00:08",
           "unharvestable_pods": 514451228.338918,
           "unharvestable_ratio": 0.9581734904337986,
           "value": 22216459.073867,
           "variable": "harvested_pods"
          },
          {
           "harvestable_pods": 240537.9504610002,
           "harvested_pods": 22216459.073867,
           "season": 3589,
           "timestamp": "2022-01-03T00:00:08",
           "unharvestable_pods": 514451228.338918,
           "unharvestable_ratio": 0.9581734904337986,
           "value": 240537.9504610002,
           "variable": "harvestable_pods"
          },
          {
           "harvestable_pods": 240537.9504610002,
           "harvested_pods": 22216459.073867,
           "season": 3613,
           "timestamp": "2022-01-04T00:01:40",
           "unharvestable_pods": 523879557.00581396,
           "unharvestable_ratio": 0.9588953057256187,
           "value": 240537.9504610002,
           "variable": "harvestable_pods"
          },
          {
           "harvestable_pods": 240537.9504610002,
           "harvested_pods": 22216459.073867,
           "season": 3613,
           "timestamp": "2022-01-04T00:01:40",
           "unharvestable_pods": 523879557.00581396,
           "unharvestable_ratio": 0.9588953057256187,
           "value": 0.9588953057256187,
           "variable": "unharvestable_ratio"
          },
          {
           "harvestable_pods": 240537.9504610002,
           "harvested_pods": 22216459.073867,
           "season": 3613,
           "timestamp": "2022-01-04T00:01:40",
           "unharvestable_pods": 523879557.00581396,
           "unharvestable_ratio": 0.9588953057256187,
           "value": 523879557.00581396,
           "variable": "unharvestable_pods"
          },
          {
           "harvestable_pods": 240537.9504610002,
           "harvested_pods": 22216459.073867,
           "season": 3613,
           "timestamp": "2022-01-04T00:01:40",
           "unharvestable_pods": 523879557.00581396,
           "unharvestable_ratio": 0.9588953057256187,
           "value": 22216459.073867,
           "variable": "harvested_pods"
          },
          {
           "harvestable_pods": 240537.9504610002,
           "harvested_pods": 22216459.073867,
           "season": 3637,
           "timestamp": "2022-01-05T00:02:09",
           "unharvestable_pods": 533351149.467656,
           "unharvestable_ratio": 0.9595957756897472,
           "value": 533351149.467656,
           "variable": "unharvestable_pods"
          },
          {
           "harvestable_pods": 240537.9504610002,
           "harvested_pods": 22216459.073867,
           "season": 3637,
           "timestamp": "2022-01-05T00:02:09",
           "unharvestable_pods": 533351149.467656,
           "unharvestable_ratio": 0.9595957756897472,
           "value": 22216459.073867,
           "variable": "harvested_pods"
          },
          {
           "harvestable_pods": 240537.9504610002,
           "harvested_pods": 22216459.073867,
           "season": 3637,
           "timestamp": "2022-01-05T00:02:09",
           "unharvestable_pods": 533351149.467656,
           "unharvestable_ratio": 0.9595957756897472,
           "value": 240537.9504610002,
           "variable": "harvestable_pods"
          },
          {
           "harvestable_pods": 240537.9504610002,
           "harvested_pods": 22216459.073867,
           "season": 3637,
           "timestamp": "2022-01-05T00:02:09",
           "unharvestable_pods": 533351149.467656,
           "unharvestable_ratio": 0.9595957756897472,
           "value": 0.9595957756897472,
           "variable": "unharvestable_ratio"
          },
          {
           "harvestable_pods": 240537.9504610002,
           "harvested_pods": 22216459.073867,
           "season": 3661,
           "timestamp": "2022-01-06T00:00:34",
           "unharvestable_pods": 546693581.430881,
           "unharvestable_ratio": 0.9605429602034652,
           "value": 240537.9504610002,
           "variable": "harvestable_pods"
          },
          {
           "harvestable_pods": 240537.9504610002,
           "harvested_pods": 22216459.073867,
           "season": 3661,
           "timestamp": "2022-01-06T00:00:34",
           "unharvestable_pods": 546693581.430881,
           "unharvestable_ratio": 0.9605429602034652,
           "value": 0.9605429602034652,
           "variable": "unharvestable_ratio"
          },
          {
           "harvestable_pods": 240537.9504610002,
           "harvested_pods": 22216459.073867,
           "season": 3661,
           "timestamp": "2022-01-06T00:00:34",
           "unharvestable_pods": 546693581.430881,
           "unharvestable_ratio": 0.9605429602034652,
           "value": 546693581.430881,
           "variable": "unharvestable_pods"
          },
          {
           "harvestable_pods": 240537.9504610002,
           "harvested_pods": 22216459.073867,
           "season": 3661,
           "timestamp": "2022-01-06T00:00:34",
           "unharvestable_pods": 546693581.430881,
           "unharvestable_ratio": 0.9605429602034652,
           "value": 22216459.073867,
           "variable": "harvested_pods"
          },
          {
           "harvestable_pods": 240537.9504610002,
           "harvested_pods": 22216459.073867,
           "season": 3685,
           "timestamp": "2022-01-07T00:00:38",
           "unharvestable_pods": 548811797.535427,
           "unharvestable_ratio": 0.9606892635512598,
           "value": 548811797.535427,
           "variable": "unharvestable_pods"
          },
          {
           "harvestable_pods": 240537.9504610002,
           "harvested_pods": 22216459.073867,
           "season": 3685,
           "timestamp": "2022-01-07T00:00:38",
           "unharvestable_pods": 548811797.535427,
           "unharvestable_ratio": 0.9606892635512598,
           "value": 22216459.073867,
           "variable": "harvested_pods"
          },
          {
           "harvestable_pods": 240537.9504610002,
           "harvested_pods": 22216459.073867,
           "season": 3685,
           "timestamp": "2022-01-07T00:00:38",
           "unharvestable_pods": 548811797.535427,
           "unharvestable_ratio": 0.9606892635512598,
           "value": 240537.9504610002,
           "variable": "harvestable_pods"
          },
          {
           "harvestable_pods": 240537.9504610002,
           "harvested_pods": 22216459.073867,
           "season": 3685,
           "timestamp": "2022-01-07T00:00:38",
           "unharvestable_pods": 548811797.535427,
           "unharvestable_ratio": 0.9606892635512598,
           "value": 0.9606892635512598,
           "variable": "unharvestable_ratio"
          },
          {
           "harvestable_pods": 238675.15872900188,
           "harvested_pods": 22218321.865599,
           "season": 3709,
           "timestamp": "2022-01-08T00:00:16",
           "unharvestable_pods": 549428501.171265,
           "unharvestable_ratio": 0.9607316550337714,
           "value": 0.9607316550337714,
           "variable": "unharvestable_ratio"
          },
          {
           "harvestable_pods": 238675.15872900188,
           "harvested_pods": 22218321.865599,
           "season": 3709,
           "timestamp": "2022-01-08T00:00:16",
           "unharvestable_pods": 549428501.171265,
           "unharvestable_ratio": 0.9607316550337714,
           "value": 549428501.171265,
           "variable": "unharvestable_pods"
          },
          {
           "harvestable_pods": 238675.15872900188,
           "harvested_pods": 22218321.865599,
           "season": 3709,
           "timestamp": "2022-01-08T00:00:16",
           "unharvestable_pods": 549428501.171265,
           "unharvestable_ratio": 0.9607316550337714,
           "value": 22218321.865599,
           "variable": "harvested_pods"
          },
          {
           "harvestable_pods": 238675.15872900188,
           "harvested_pods": 22218321.865599,
           "season": 3709,
           "timestamp": "2022-01-08T00:00:16",
           "unharvestable_pods": 549428501.171265,
           "unharvestable_ratio": 0.9607316550337714,
           "value": 238675.15872900188,
           "variable": "harvestable_pods"
          },
          {
           "harvestable_pods": 238675.15872900188,
           "harvested_pods": 22218321.865599,
           "season": 3733,
           "timestamp": "2022-01-09T00:00:49",
           "unharvestable_pods": 549646955.6189721,
           "unharvestable_ratio": 0.9607466494147268,
           "value": 238675.15872900188,
           "variable": "harvestable_pods"
          },
          {
           "harvestable_pods": 238675.15872900188,
           "harvested_pods": 22218321.865599,
           "season": 3733,
           "timestamp": "2022-01-09T00:00:49",
           "unharvestable_pods": 549646955.6189721,
           "unharvestable_ratio": 0.9607466494147268,
           "value": 0.9607466494147268,
           "variable": "unharvestable_ratio"
          },
          {
           "harvestable_pods": 238675.15872900188,
           "harvested_pods": 22218321.865599,
           "season": 3733,
           "timestamp": "2022-01-09T00:00:49",
           "unharvestable_pods": 549646955.6189721,
           "unharvestable_ratio": 0.9607466494147268,
           "value": 549646955.6189721,
           "variable": "unharvestable_pods"
          },
          {
           "harvestable_pods": 238675.15872900188,
           "harvested_pods": 22218321.865599,
           "season": 3733,
           "timestamp": "2022-01-09T00:00:49",
           "unharvestable_pods": 549646955.6189721,
           "unharvestable_ratio": 0.9607466494147268,
           "value": 22218321.865599,
           "variable": "harvested_pods"
          },
          {
           "harvestable_pods": 238675.15872900188,
           "harvested_pods": 22218321.865599,
           "season": 3757,
           "timestamp": "2022-01-10T00:01:00",
           "unharvestable_pods": 551091619.025906,
           "unharvestable_ratio": 0.9608455213805954,
           "value": 551091619.025906,
           "variable": "unharvestable_pods"
          },
          {
           "harvestable_pods": 238675.15872900188,
           "harvested_pods": 22218321.865599,
           "season": 3757,
           "timestamp": "2022-01-10T00:01:00",
           "unharvestable_pods": 551091619.025906,
           "unharvestable_ratio": 0.9608455213805954,
           "value": 22218321.865599,
           "variable": "harvested_pods"
          },
          {
           "harvestable_pods": 238675.15872900188,
           "harvested_pods": 22218321.865599,
           "season": 3757,
           "timestamp": "2022-01-10T00:01:00",
           "unharvestable_pods": 551091619.025906,
           "unharvestable_ratio": 0.9608455213805954,
           "value": 238675.15872900188,
           "variable": "harvestable_pods"
          },
          {
           "harvestable_pods": 238675.15872900188,
           "harvested_pods": 22218321.865599,
           "season": 3757,
           "timestamp": "2022-01-10T00:01:00",
           "unharvestable_pods": 551091619.025906,
           "unharvestable_ratio": 0.9608455213805954,
           "value": 0.9608455213805954,
           "variable": "unharvestable_ratio"
          },
          {
           "harvestable_pods": 238675.15872900188,
           "harvested_pods": 22218321.865599,
           "season": 3781,
           "timestamp": "2022-01-11T00:01:20",
           "unharvestable_pods": 558499210.167815,
           "unharvestable_ratio": 0.9613447679079524,
           "value": 558499210.167815,
           "variable": "unharvestable_pods"
          },
          {
           "harvestable_pods": 238675.15872900188,
           "harvested_pods": 22218321.865599,
           "season": 3781,
           "timestamp": "2022-01-11T00:01:20",
           "unharvestable_pods": 558499210.167815,
           "unharvestable_ratio": 0.9613447679079524,
           "value": 22218321.865599,
           "variable": "harvested_pods"
          },
          {
           "harvestable_pods": 238675.15872900188,
           "harvested_pods": 22218321.865599,
           "season": 3781,
           "timestamp": "2022-01-11T00:01:20",
           "unharvestable_pods": 558499210.167815,
           "unharvestable_ratio": 0.9613447679079524,
           "value": 238675.15872900188,
           "variable": "harvestable_pods"
          },
          {
           "harvestable_pods": 238675.15872900188,
           "harvested_pods": 22218321.865599,
           "season": 3781,
           "timestamp": "2022-01-11T00:01:20",
           "unharvestable_pods": 558499210.167815,
           "unharvestable_ratio": 0.9613447679079524,
           "value": 0.9613447679079524,
           "variable": "unharvestable_ratio"
          },
          {
           "harvestable_pods": 234170.0587290004,
           "harvested_pods": 22222826.965599,
           "season": 3805,
           "timestamp": "2022-01-12T00:02:53",
           "unharvestable_pods": 560232297.944525,
           "unharvestable_ratio": 0.9614597398335104,
           "value": 0.9614597398335104,
           "variable": "unharvestable_ratio"
          },
          {
           "harvestable_pods": 234170.0587290004,
           "harvested_pods": 22222826.965599,
           "season": 3805,
           "timestamp": "2022-01-12T00:02:53",
           "unharvestable_pods": 560232297.944525,
           "unharvestable_ratio": 0.9614597398335104,
           "value": 234170.0587290004,
           "variable": "harvestable_pods"
          },
          {
           "harvestable_pods": 234170.0587290004,
           "harvested_pods": 22222826.965599,
           "season": 3805,
           "timestamp": "2022-01-12T00:02:53",
           "unharvestable_pods": 560232297.944525,
           "unharvestable_ratio": 0.9614597398335104,
           "value": 22222826.965599,
           "variable": "harvested_pods"
          },
          {
           "harvestable_pods": 234170.0587290004,
           "harvested_pods": 22222826.965599,
           "season": 3805,
           "timestamp": "2022-01-12T00:02:53",
           "unharvestable_pods": 560232297.944525,
           "unharvestable_ratio": 0.9614597398335104,
           "value": 560232297.944525,
           "variable": "unharvestable_pods"
          },
          {
           "harvestable_pods": 234170.0587290004,
           "harvested_pods": 22222826.965599,
           "season": 3829,
           "timestamp": "2022-01-13T00:02:25",
           "unharvestable_pods": 563741838.829006,
           "unharvestable_ratio": 0.9616904782971171,
           "value": 563741838.829006,
           "variable": "unharvestable_pods"
          },
          {
           "harvestable_pods": 234170.0587290004,
           "harvested_pods": 22222826.965599,
           "season": 3829,
           "timestamp": "2022-01-13T00:02:25",
           "unharvestable_pods": 563741838.829006,
           "unharvestable_ratio": 0.9616904782971171,
           "value": 22222826.965599,
           "variable": "harvested_pods"
          },
          {
           "harvestable_pods": 234170.0587290004,
           "harvested_pods": 22222826.965599,
           "season": 3829,
           "timestamp": "2022-01-13T00:02:25",
           "unharvestable_pods": 563741838.829006,
           "unharvestable_ratio": 0.9616904782971171,
           "value": 234170.0587290004,
           "variable": "harvestable_pods"
          },
          {
           "harvestable_pods": 234170.0587290004,
           "harvested_pods": 22222826.965599,
           "season": 3829,
           "timestamp": "2022-01-13T00:02:25",
           "unharvestable_pods": 563741838.829006,
           "unharvestable_ratio": 0.9616904782971171,
           "value": 0.9616904782971171,
           "variable": "unharvestable_ratio"
          },
          {
           "harvestable_pods": 189171.058728002,
           "harvested_pods": 22267825.9656,
           "season": 3853,
           "timestamp": "2022-01-14T00:04:29",
           "unharvestable_pods": 563953363.95193,
           "unharvestable_ratio": 0.9617042969927382,
           "value": 563953363.95193,
           "variable": "unharvestable_pods"
          },
          {
           "harvestable_pods": 189171.058728002,
           "harvested_pods": 22267825.9656,
           "season": 3853,
           "timestamp": "2022-01-14T00:04:29",
           "unharvestable_pods": 563953363.95193,
           "unharvestable_ratio": 0.9617042969927382,
           "value": 22267825.9656,
           "variable": "harvested_pods"
          },
          {
           "harvestable_pods": 189171.058728002,
           "harvested_pods": 22267825.9656,
           "season": 3853,
           "timestamp": "2022-01-14T00:04:29",
           "unharvestable_pods": 563953363.95193,
           "unharvestable_ratio": 0.9617042969927382,
           "value": 189171.058728002,
           "variable": "harvestable_pods"
          },
          {
           "harvestable_pods": 189171.058728002,
           "harvested_pods": 22267825.9656,
           "season": 3853,
           "timestamp": "2022-01-14T00:04:29",
           "unharvestable_pods": 563953363.95193,
           "unharvestable_ratio": 0.9617042969927382,
           "value": 0.9617042969927382,
           "variable": "unharvestable_ratio"
          },
          {
           "harvestable_pods": 189171.058728002,
           "harvested_pods": 22267825.9656,
           "season": 3877,
           "timestamp": "2022-01-15T00:01:05",
           "unharvestable_pods": 567362460.235761,
           "unharvestable_ratio": 0.961925642248819,
           "value": 0.961925642248819,
           "variable": "unharvestable_ratio"
          },
          {
           "harvestable_pods": 189171.058728002,
           "harvested_pods": 22267825.9656,
           "season": 3877,
           "timestamp": "2022-01-15T00:01:05",
           "unharvestable_pods": 567362460.235761,
           "unharvestable_ratio": 0.961925642248819,
           "value": 189171.058728002,
           "variable": "harvestable_pods"
          },
          {
           "harvestable_pods": 189171.058728002,
           "harvested_pods": 22267825.9656,
           "season": 3877,
           "timestamp": "2022-01-15T00:01:05",
           "unharvestable_pods": 567362460.235761,
           "unharvestable_ratio": 0.961925642248819,
           "value": 567362460.235761,
           "variable": "unharvestable_pods"
          },
          {
           "harvestable_pods": 189171.058728002,
           "harvested_pods": 22267825.9656,
           "season": 3877,
           "timestamp": "2022-01-15T00:01:05",
           "unharvestable_pods": 567362460.235761,
           "unharvestable_ratio": 0.961925642248819,
           "value": 22267825.9656,
           "variable": "harvested_pods"
          },
          {
           "harvestable_pods": 144171.0587300025,
           "harvested_pods": 22312825.965598,
           "season": 3901,
           "timestamp": "2022-01-16T00:00:19",
           "unharvestable_pods": 568054456.766556,
           "unharvestable_ratio": 0.9619702600514153,
           "value": 568054456.766556,
           "variable": "unharvestable_pods"
          },
          {
           "harvestable_pods": 144171.0587300025,
           "harvested_pods": 22312825.965598,
           "season": 3901,
           "timestamp": "2022-01-16T00:00:19",
           "unharvestable_pods": 568054456.766556,
           "unharvestable_ratio": 0.9619702600514153,
           "value": 22312825.965598,
           "variable": "harvested_pods"
          },
          {
           "harvestable_pods": 144171.0587300025,
           "harvested_pods": 22312825.965598,
           "season": 3901,
           "timestamp": "2022-01-16T00:00:19",
           "unharvestable_pods": 568054456.766556,
           "unharvestable_ratio": 0.9619702600514153,
           "value": 144171.0587300025,
           "variable": "harvestable_pods"
          },
          {
           "harvestable_pods": 144171.0587300025,
           "harvested_pods": 22312825.965598,
           "season": 3901,
           "timestamp": "2022-01-16T00:00:19",
           "unharvestable_pods": 568054456.766556,
           "unharvestable_ratio": 0.9619702600514153,
           "value": 0.9619702600514153,
           "variable": "unharvestable_ratio"
          },
          {
           "harvestable_pods": 144171.0587300025,
           "harvested_pods": 22312825.965598,
           "season": 3925,
           "timestamp": "2022-01-17T00:01:09",
           "unharvestable_pods": 568950094.51262,
           "unharvestable_ratio": 0.9620278529870739,
           "value": 0.9620278529870739,
           "variable": "unharvestable_ratio"
          },
          {
           "harvestable_pods": 144171.0587300025,
           "harvested_pods": 22312825.965598,
           "season": 3925,
           "timestamp": "2022-01-17T00:01:09",
           "unharvestable_pods": 568950094.51262,
           "unharvestable_ratio": 0.9620278529870739,
           "value": 568950094.51262,
           "variable": "unharvestable_pods"
          },
          {
           "harvestable_pods": 144171.0587300025,
           "harvested_pods": 22312825.965598,
           "season": 3925,
           "timestamp": "2022-01-17T00:01:09",
           "unharvestable_pods": 568950094.51262,
           "unharvestable_ratio": 0.9620278529870739,
           "value": 22312825.965598,
           "variable": "harvested_pods"
          },
          {
           "harvestable_pods": 144171.0587300025,
           "harvested_pods": 22312825.965598,
           "season": 3925,
           "timestamp": "2022-01-17T00:01:09",
           "unharvestable_pods": 568950094.51262,
           "unharvestable_ratio": 0.9620278529870739,
           "value": 144171.0587300025,
           "variable": "harvestable_pods"
          },
          {
           "harvestable_pods": 144171.0587300025,
           "harvested_pods": 22312825.965598,
           "season": 3949,
           "timestamp": "2022-01-18T00:00:24",
           "unharvestable_pods": 569022701.144924,
           "unharvestable_ratio": 0.9620325142285747,
           "value": 0.9620325142285747,
           "variable": "unharvestable_ratio"
          },
          {
           "harvestable_pods": 144171.0587300025,
           "harvested_pods": 22312825.965598,
           "season": 3949,
           "timestamp": "2022-01-18T00:00:24",
           "unharvestable_pods": 569022701.144924,
           "unharvestable_ratio": 0.9620325142285747,
           "value": 144171.0587300025,
           "variable": "harvestable_pods"
          },
          {
           "harvestable_pods": 144171.0587300025,
           "harvested_pods": 22312825.965598,
           "season": 3949,
           "timestamp": "2022-01-18T00:00:24",
           "unharvestable_pods": 569022701.144924,
           "unharvestable_ratio": 0.9620325142285747,
           "value": 569022701.144924,
           "variable": "unharvestable_pods"
          },
          {
           "harvestable_pods": 144171.0587300025,
           "harvested_pods": 22312825.965598,
           "season": 3949,
           "timestamp": "2022-01-18T00:00:24",
           "unharvestable_pods": 569022701.144924,
           "unharvestable_ratio": 0.9620325142285747,
           "value": 22312825.965598,
           "variable": "harvested_pods"
          },
          {
           "harvestable_pods": 144171.0587300025,
           "harvested_pods": 22312825.965598,
           "season": 3973,
           "timestamp": "2022-01-19T00:01:17",
           "unharvestable_pods": 574808215.071842,
           "unharvestable_ratio": 0.9624002929192668,
           "value": 144171.0587300025,
           "variable": "harvestable_pods"
          },
          {
           "harvestable_pods": 144171.0587300025,
           "harvested_pods": 22312825.965598,
           "season": 3973,
           "timestamp": "2022-01-19T00:01:17",
           "unharvestable_pods": 574808215.071842,
           "unharvestable_ratio": 0.9624002929192668,
           "value": 574808215.071842,
           "variable": "unharvestable_pods"
          },
          {
           "harvestable_pods": 144171.0587300025,
           "harvested_pods": 22312825.965598,
           "season": 3973,
           "timestamp": "2022-01-19T00:01:17",
           "unharvestable_pods": 574808215.071842,
           "unharvestable_ratio": 0.9624002929192668,
           "value": 22312825.965598,
           "variable": "harvested_pods"
          },
          {
           "harvestable_pods": 144171.0587300025,
           "harvested_pods": 22312825.965598,
           "season": 3973,
           "timestamp": "2022-01-19T00:01:17",
           "unharvestable_pods": 574808215.071842,
           "unharvestable_ratio": 0.9624002929192668,
           "value": 0.9624002929192668,
           "variable": "unharvestable_ratio"
          },
          {
           "harvestable_pods": 144171.0587300025,
           "harvested_pods": 22312825.965598,
           "season": 3997,
           "timestamp": "2022-01-20T00:00:37",
           "unharvestable_pods": 576716363.214001,
           "unharvestable_ratio": 0.9625200342428518,
           "value": 0.9625200342428518,
           "variable": "unharvestable_ratio"
          },
          {
           "harvestable_pods": 144171.0587300025,
           "harvested_pods": 22312825.965598,
           "season": 3997,
           "timestamp": "2022-01-20T00:00:37",
           "unharvestable_pods": 576716363.214001,
           "unharvestable_ratio": 0.9625200342428518,
           "value": 144171.0587300025,
           "variable": "harvestable_pods"
          },
          {
           "harvestable_pods": 144171.0587300025,
           "harvested_pods": 22312825.965598,
           "season": 3997,
           "timestamp": "2022-01-20T00:00:37",
           "unharvestable_pods": 576716363.214001,
           "unharvestable_ratio": 0.9625200342428518,
           "value": 22312825.965598,
           "variable": "harvested_pods"
          },
          {
           "harvestable_pods": 144171.0587300025,
           "harvested_pods": 22312825.965598,
           "season": 3997,
           "timestamp": "2022-01-20T00:00:37",
           "unharvestable_pods": 576716363.214001,
           "unharvestable_ratio": 0.9625200342428518,
           "value": 576716363.214001,
           "variable": "unharvestable_pods"
          },
          {
           "harvestable_pods": 144171.0587300025,
           "harvested_pods": 22312825.965598,
           "season": 4021,
           "timestamp": "2022-01-21T00:00:23",
           "unharvestable_pods": 577637364.791708,
           "unharvestable_ratio": 0.96257755704225,
           "value": 577637364.791708,
           "variable": "unharvestable_pods"
          },
          {
           "harvestable_pods": 144171.0587300025,
           "harvested_pods": 22312825.965598,
           "season": 4021,
           "timestamp": "2022-01-21T00:00:23",
           "unharvestable_pods": 577637364.791708,
           "unharvestable_ratio": 0.96257755704225,
           "value": 22312825.965598,
           "variable": "harvested_pods"
          },
          {
           "harvestable_pods": 144171.0587300025,
           "harvested_pods": 22312825.965598,
           "season": 4021,
           "timestamp": "2022-01-21T00:00:23",
           "unharvestable_pods": 577637364.791708,
           "unharvestable_ratio": 0.96257755704225,
           "value": 144171.0587300025,
           "variable": "harvestable_pods"
          },
          {
           "harvestable_pods": 144171.0587300025,
           "harvested_pods": 22312825.965598,
           "season": 4021,
           "timestamp": "2022-01-21T00:00:23",
           "unharvestable_pods": 577637364.791708,
           "unharvestable_ratio": 0.96257755704225,
           "value": 0.96257755704225,
           "variable": "unharvestable_ratio"
          },
          {
           "harvestable_pods": 144171.0587300025,
           "harvested_pods": 22312825.965598,
           "season": 4045,
           "timestamp": "2022-01-22T00:02:29",
           "unharvestable_pods": 577989804.302539,
           "unharvestable_ratio": 0.962599522597668,
           "value": 144171.0587300025,
           "variable": "harvestable_pods"
          },
          {
           "harvestable_pods": 144171.0587300025,
           "harvested_pods": 22312825.965598,
           "season": 4045,
           "timestamp": "2022-01-22T00:02:29",
           "unharvestable_pods": 577989804.302539,
           "unharvestable_ratio": 0.962599522597668,
           "value": 0.962599522597668,
           "variable": "unharvestable_ratio"
          },
          {
           "harvestable_pods": 144171.0587300025,
           "harvested_pods": 22312825.965598,
           "season": 4045,
           "timestamp": "2022-01-22T00:02:29",
           "unharvestable_pods": 577989804.302539,
           "unharvestable_ratio": 0.962599522597668,
           "value": 577989804.302539,
           "variable": "unharvestable_pods"
          },
          {
           "harvestable_pods": 144171.0587300025,
           "harvested_pods": 22312825.965598,
           "season": 4045,
           "timestamp": "2022-01-22T00:02:29",
           "unharvestable_pods": 577989804.302539,
           "unharvestable_ratio": 0.962599522597668,
           "value": 22312825.965598,
           "variable": "harvested_pods"
          },
          {
           "harvestable_pods": 144171.0587300025,
           "harvested_pods": 22312825.965598,
           "season": 4069,
           "timestamp": "2022-01-23T00:00:48",
           "unharvestable_pods": 578038438.092613,
           "unharvestable_ratio": 0.9626025516414547,
           "value": 578038438.092613,
           "variable": "unharvestable_pods"
          },
          {
           "harvestable_pods": 144171.0587300025,
           "harvested_pods": 22312825.965598,
           "season": 4069,
           "timestamp": "2022-01-23T00:00:48",
           "unharvestable_pods": 578038438.092613,
           "unharvestable_ratio": 0.9626025516414547,
           "value": 22312825.965598,
           "variable": "harvested_pods"
          },
          {
           "harvestable_pods": 144171.0587300025,
           "harvested_pods": 22312825.965598,
           "season": 4069,
           "timestamp": "2022-01-23T00:00:48",
           "unharvestable_pods": 578038438.092613,
           "unharvestable_ratio": 0.9626025516414547,
           "value": 144171.0587300025,
           "variable": "harvestable_pods"
          },
          {
           "harvestable_pods": 144171.0587300025,
           "harvested_pods": 22312825.965598,
           "season": 4069,
           "timestamp": "2022-01-23T00:00:48",
           "unharvestable_pods": 578038438.092613,
           "unharvestable_ratio": 0.9626025516414547,
           "value": 0.9626025516414547,
           "variable": "unharvestable_ratio"
          },
          {
           "harvestable_pods": 144171.0587300025,
           "harvested_pods": 22312825.965598,
           "season": 4093,
           "timestamp": "2022-01-24T00:02:29",
           "unharvestable_pods": 578100359.996215,
           "unharvestable_ratio": 0.9626064075948706,
           "value": 0.9626064075948706,
           "variable": "unharvestable_ratio"
          },
          {
           "harvestable_pods": 144171.0587300025,
           "harvested_pods": 22312825.965598,
           "season": 4093,
           "timestamp": "2022-01-24T00:02:29",
           "unharvestable_pods": 578100359.996215,
           "unharvestable_ratio": 0.9626064075948706,
           "value": 578100359.996215,
           "variable": "unharvestable_pods"
          },
          {
           "harvestable_pods": 144171.0587300025,
           "harvested_pods": 22312825.965598,
           "season": 4093,
           "timestamp": "2022-01-24T00:02:29",
           "unharvestable_pods": 578100359.996215,
           "unharvestable_ratio": 0.9626064075948706,
           "value": 22312825.965598,
           "variable": "harvested_pods"
          },
          {
           "harvestable_pods": 144171.0587300025,
           "harvested_pods": 22312825.965598,
           "season": 4093,
           "timestamp": "2022-01-24T00:02:29",
           "unharvestable_pods": 578100359.996215,
           "unharvestable_ratio": 0.9626064075948706,
           "value": 144171.0587300025,
           "variable": "harvestable_pods"
          },
          {
           "harvestable_pods": 144171.0587300025,
           "harvested_pods": 22312825.965598,
           "season": 4117,
           "timestamp": "2022-01-25T00:00:10",
           "unharvestable_pods": 589090675.766215,
           "unharvestable_ratio": 0.9632784196171414,
           "value": 22312825.965598,
           "variable": "harvested_pods"
          },
          {
           "harvestable_pods": 144171.0587300025,
           "harvested_pods": 22312825.965598,
           "season": 4117,
           "timestamp": "2022-01-25T00:00:10",
           "unharvestable_pods": 589090675.766215,
           "unharvestable_ratio": 0.9632784196171414,
           "value": 144171.0587300025,
           "variable": "harvestable_pods"
          },
          {
           "harvestable_pods": 144171.0587300025,
           "harvested_pods": 22312825.965598,
           "season": 4117,
           "timestamp": "2022-01-25T00:00:10",
           "unharvestable_pods": 589090675.766215,
           "unharvestable_ratio": 0.9632784196171414,
           "value": 589090675.766215,
           "variable": "unharvestable_pods"
          },
          {
           "harvestable_pods": 144171.0587300025,
           "harvested_pods": 22312825.965598,
           "season": 4117,
           "timestamp": "2022-01-25T00:00:10",
           "unharvestable_pods": 589090675.766215,
           "unharvestable_ratio": 0.9632784196171414,
           "value": 0.9632784196171414,
           "variable": "unharvestable_ratio"
          },
          {
           "harvestable_pods": 144171.0587300025,
           "harvested_pods": 22312825.965598,
           "season": 4141,
           "timestamp": "2022-01-26T00:00:17",
           "unharvestable_pods": 589627700.848223,
           "unharvestable_ratio": 0.9633106380499582,
           "value": 0.9633106380499582,
           "variable": "unharvestable_ratio"
          },
          {
           "harvestable_pods": 144171.0587300025,
           "harvested_pods": 22312825.965598,
           "season": 4141,
           "timestamp": "2022-01-26T00:00:17",
           "unharvestable_pods": 589627700.848223,
           "unharvestable_ratio": 0.9633106380499582,
           "value": 144171.0587300025,
           "variable": "harvestable_pods"
          },
          {
           "harvestable_pods": 144171.0587300025,
           "harvested_pods": 22312825.965598,
           "season": 4141,
           "timestamp": "2022-01-26T00:00:17",
           "unharvestable_pods": 589627700.848223,
           "unharvestable_ratio": 0.9633106380499582,
           "value": 22312825.965598,
           "variable": "harvested_pods"
          },
          {
           "harvestable_pods": 144171.0587300025,
           "harvested_pods": 22312825.965598,
           "season": 4141,
           "timestamp": "2022-01-26T00:00:17",
           "unharvestable_pods": 589627700.848223,
           "unharvestable_ratio": 0.9633106380499582,
           "value": 589627700.848223,
           "variable": "unharvestable_pods"
          },
          {
           "harvestable_pods": 144171.0587300025,
           "harvested_pods": 22312825.965598,
           "season": 4165,
           "timestamp": "2022-01-27T00:00:24",
           "unharvestable_pods": 589735386.238103,
           "unharvestable_ratio": 0.9633170917536534,
           "value": 589735386.238103,
           "variable": "unharvestable_pods"
          },
          {
           "harvestable_pods": 144171.0587300025,
           "harvested_pods": 22312825.965598,
           "season": 4165,
           "timestamp": "2022-01-27T00:00:24",
           "unharvestable_pods": 589735386.238103,
           "unharvestable_ratio": 0.9633170917536534,
           "value": 22312825.965598,
           "variable": "harvested_pods"
          },
          {
           "harvestable_pods": 144171.0587300025,
           "harvested_pods": 22312825.965598,
           "season": 4165,
           "timestamp": "2022-01-27T00:00:24",
           "unharvestable_pods": 589735386.238103,
           "unharvestable_ratio": 0.9633170917536534,
           "value": 144171.0587300025,
           "variable": "harvestable_pods"
          },
          {
           "harvestable_pods": 144171.0587300025,
           "harvested_pods": 22312825.965598,
           "season": 4165,
           "timestamp": "2022-01-27T00:00:24",
           "unharvestable_pods": 589735386.238103,
           "unharvestable_ratio": 0.9633170917536534,
           "value": 0.9633170917536534,
           "variable": "unharvestable_ratio"
          },
          {
           "harvestable_pods": 144171.0587300025,
           "harvested_pods": 22312825.965598,
           "season": 4189,
           "timestamp": "2022-01-28T00:00:55",
           "unharvestable_pods": 589865013.711426,
           "unharvestable_ratio": 0.9633248574596492,
           "value": 144171.0587300025,
           "variable": "harvestable_pods"
          },
          {
           "harvestable_pods": 144171.0587300025,
           "harvested_pods": 22312825.965598,
           "season": 4189,
           "timestamp": "2022-01-28T00:00:55",
           "unharvestable_pods": 589865013.711426,
           "unharvestable_ratio": 0.9633248574596492,
           "value": 0.9633248574596492,
           "variable": "unharvestable_ratio"
          },
          {
           "harvestable_pods": 144171.0587300025,
           "harvested_pods": 22312825.965598,
           "season": 4189,
           "timestamp": "2022-01-28T00:00:55",
           "unharvestable_pods": 589865013.711426,
           "unharvestable_ratio": 0.9633248574596492,
           "value": 589865013.711426,
           "variable": "unharvestable_pods"
          },
          {
           "harvestable_pods": 144171.0587300025,
           "harvested_pods": 22312825.965598,
           "season": 4189,
           "timestamp": "2022-01-28T00:00:55",
           "unharvestable_pods": 589865013.711426,
           "unharvestable_ratio": 0.9633248574596492,
           "value": 22312825.965598,
           "variable": "harvested_pods"
          },
          {
           "harvestable_pods": 146432.00059400126,
           "harvested_pods": 22312825.965598,
           "season": 4213,
           "timestamp": "2022-01-29T00:00:04",
           "unharvestable_pods": 590070956.853196,
           "unharvestable_ratio": 0.963333632492212,
           "value": 590070956.853196,
           "variable": "unharvestable_pods"
          },
          {
           "harvestable_pods": 146432.00059400126,
           "harvested_pods": 22312825.965598,
           "season": 4213,
           "timestamp": "2022-01-29T00:00:04",
           "unharvestable_pods": 590070956.853196,
           "unharvestable_ratio": 0.963333632492212,
           "value": 22312825.965598,
           "variable": "harvested_pods"
          },
          {
           "harvestable_pods": 146432.00059400126,
           "harvested_pods": 22312825.965598,
           "season": 4213,
           "timestamp": "2022-01-29T00:00:04",
           "unharvestable_pods": 590070956.853196,
           "unharvestable_ratio": 0.963333632492212,
           "value": 146432.00059400126,
           "variable": "harvestable_pods"
          },
          {
           "harvestable_pods": 146432.00059400126,
           "harvested_pods": 22312825.965598,
           "season": 4213,
           "timestamp": "2022-01-29T00:00:04",
           "unharvestable_pods": 590070956.853196,
           "unharvestable_ratio": 0.963333632492212,
           "value": 0.963333632492212,
           "variable": "unharvestable_ratio"
          },
          {
           "harvestable_pods": 146432.00059400126,
           "harvested_pods": 22312825.965598,
           "season": 4237,
           "timestamp": "2022-01-30T00:00:07",
           "unharvestable_pods": 590597959.07388,
           "unharvestable_ratio": 0.9633651519924543,
           "value": 0.9633651519924543,
           "variable": "unharvestable_ratio"
          },
          {
           "harvestable_pods": 146432.00059400126,
           "harvested_pods": 22312825.965598,
           "season": 4237,
           "timestamp": "2022-01-30T00:00:07",
           "unharvestable_pods": 590597959.07388,
           "unharvestable_ratio": 0.9633651519924543,
           "value": 590597959.07388,
           "variable": "unharvestable_pods"
          },
          {
           "harvestable_pods": 146432.00059400126,
           "harvested_pods": 22312825.965598,
           "season": 4237,
           "timestamp": "2022-01-30T00:00:07",
           "unharvestable_pods": 590597959.07388,
           "unharvestable_ratio": 0.9633651519924543,
           "value": 22312825.965598,
           "variable": "harvested_pods"
          },
          {
           "harvestable_pods": 146432.00059400126,
           "harvested_pods": 22312825.965598,
           "season": 4237,
           "timestamp": "2022-01-30T00:00:07",
           "unharvestable_pods": 590597959.07388,
           "unharvestable_ratio": 0.9633651519924543,
           "value": 146432.00059400126,
           "variable": "harvestable_pods"
          },
          {
           "harvestable_pods": 152358.0460900031,
           "harvested_pods": 22312825.965598,
           "season": 4261,
           "timestamp": "2022-01-31T00:00:00",
           "unharvestable_pods": 591494745.92255,
           "unharvestable_ratio": 0.963409364493715,
           "value": 152358.0460900031,
           "variable": "harvestable_pods"
          },
          {
           "harvestable_pods": 152358.0460900031,
           "harvested_pods": 22312825.965598,
           "season": 4261,
           "timestamp": "2022-01-31T00:00:00",
           "unharvestable_pods": 591494745.92255,
           "unharvestable_ratio": 0.963409364493715,
           "value": 0.963409364493715,
           "variable": "unharvestable_ratio"
          },
          {
           "harvestable_pods": 152358.0460900031,
           "harvested_pods": 22312825.965598,
           "season": 4261,
           "timestamp": "2022-01-31T00:00:00",
           "unharvestable_pods": 591494745.92255,
           "unharvestable_ratio": 0.963409364493715,
           "value": 591494745.92255,
           "variable": "unharvestable_pods"
          },
          {
           "harvestable_pods": 152358.0460900031,
           "harvested_pods": 22312825.965598,
           "season": 4261,
           "timestamp": "2022-01-31T00:00:00",
           "unharvestable_pods": 591494745.92255,
           "unharvestable_ratio": 0.963409364493715,
           "value": 22312825.965598,
           "variable": "harvested_pods"
          },
          {
           "harvestable_pods": 151663.8060199991,
           "harvested_pods": 22325513.173866,
           "season": 4285,
           "timestamp": "2022-02-01T00:00:47",
           "unharvestable_pods": 592924373.8111709,
           "unharvestable_ratio": 0.9634755925606733,
           "value": 592924373.8111709,
           "variable": "unharvestable_pods"
          },
          {
           "harvestable_pods": 151663.8060199991,
           "harvested_pods": 22325513.173866,
           "season": 4285,
           "timestamp": "2022-02-01T00:00:47",
           "unharvestable_pods": 592924373.8111709,
           "unharvestable_ratio": 0.9634755925606733,
           "value": 22325513.173866,
           "variable": "harvested_pods"
          },
          {
           "harvestable_pods": 151663.8060199991,
           "harvested_pods": 22325513.173866,
           "season": 4285,
           "timestamp": "2022-02-01T00:00:47",
           "unharvestable_pods": 592924373.8111709,
           "unharvestable_ratio": 0.9634755925606733,
           "value": 151663.8060199991,
           "variable": "harvestable_pods"
          },
          {
           "harvestable_pods": 151663.8060199991,
           "harvested_pods": 22325513.173866,
           "season": 4285,
           "timestamp": "2022-02-01T00:00:47",
           "unharvestable_pods": 592924373.8111709,
           "unharvestable_ratio": 0.9634755925606733,
           "value": 0.9634755925606733,
           "variable": "unharvestable_ratio"
          },
          {
           "harvestable_pods": 154928.5135239996,
           "harvested_pods": 22325513.173866,
           "season": 4309,
           "timestamp": "2022-02-02T00:02:56",
           "unharvestable_pods": 594072982.3164771,
           "unharvestable_ratio": 0.9635385340309959,
           "value": 594072982.3164771,
           "variable": "unharvestable_pods"
          },
          {
           "harvestable_pods": 154928.5135239996,
           "harvested_pods": 22325513.173866,
           "season": 4309,
           "timestamp": "2022-02-02T00:02:56",
           "unharvestable_pods": 594072982.3164771,
           "unharvestable_ratio": 0.9635385340309959,
           "value": 22325513.173866,
           "variable": "harvested_pods"
          },
          {
           "harvestable_pods": 154928.5135239996,
           "harvested_pods": 22325513.173866,
           "season": 4309,
           "timestamp": "2022-02-02T00:02:56",
           "unharvestable_pods": 594072982.3164771,
           "unharvestable_ratio": 0.9635385340309959,
           "value": 154928.5135239996,
           "variable": "harvestable_pods"
          },
          {
           "harvestable_pods": 154928.5135239996,
           "harvested_pods": 22325513.173866,
           "season": 4309,
           "timestamp": "2022-02-02T00:02:56",
           "unharvestable_pods": 594072982.3164771,
           "unharvestable_ratio": 0.9635385340309959,
           "value": 0.9635385340309959,
           "variable": "unharvestable_ratio"
          },
          {
           "harvestable_pods": 149509.55509499833,
           "harvested_pods": 22339987.993866,
           "season": 4333,
           "timestamp": "2022-02-03T00:00:03",
           "unharvestable_pods": 595257303.0470289,
           "unharvestable_ratio": 0.9635943115735062,
           "value": 0.9635943115735062,
           "variable": "unharvestable_ratio"
          },
          {
           "harvestable_pods": 149509.55509499833,
           "harvested_pods": 22339987.993866,
           "season": 4333,
           "timestamp": "2022-02-03T00:00:03",
           "unharvestable_pods": 595257303.0470289,
           "unharvestable_ratio": 0.9635943115735062,
           "value": 149509.55509499833,
           "variable": "harvestable_pods"
          },
          {
           "harvestable_pods": 149509.55509499833,
           "harvested_pods": 22339987.993866,
           "season": 4333,
           "timestamp": "2022-02-03T00:00:03",
           "unharvestable_pods": 595257303.0470289,
           "unharvestable_ratio": 0.9635943115735062,
           "value": 22339987.993866,
           "variable": "harvested_pods"
          },
          {
           "harvestable_pods": 149509.55509499833,
           "harvested_pods": 22339987.993866,
           "season": 4333,
           "timestamp": "2022-02-03T00:00:03",
           "unharvestable_pods": 595257303.0470289,
           "unharvestable_ratio": 0.9635943115735062,
           "value": 595257303.0470289,
           "variable": "unharvestable_pods"
          },
          {
           "harvestable_pods": 198456.48030300066,
           "harvested_pods": 22339987.993866,
           "season": 4357,
           "timestamp": "2022-02-04T00:01:08",
           "unharvestable_pods": 595792140.558453,
           "unharvestable_ratio": 0.9635495234754077,
           "value": 595792140.558453,
           "variable": "unharvestable_pods"
          },
          {
           "harvestable_pods": 198456.48030300066,
           "harvested_pods": 22339987.993866,
           "season": 4357,
           "timestamp": "2022-02-04T00:01:08",
           "unharvestable_pods": 595792140.558453,
           "unharvestable_ratio": 0.9635495234754077,
           "value": 22339987.993866,
           "variable": "harvested_pods"
          },
          {
           "harvestable_pods": 198456.48030300066,
           "harvested_pods": 22339987.993866,
           "season": 4357,
           "timestamp": "2022-02-04T00:01:08",
           "unharvestable_pods": 595792140.558453,
           "unharvestable_ratio": 0.9635495234754077,
           "value": 198456.48030300066,
           "variable": "harvestable_pods"
          },
          {
           "harvestable_pods": 198456.48030300066,
           "harvested_pods": 22339987.993866,
           "season": 4357,
           "timestamp": "2022-02-04T00:01:08",
           "unharvestable_pods": 595792140.558453,
           "unharvestable_ratio": 0.9635495234754077,
           "value": 0.9635495234754077,
           "variable": "unharvestable_ratio"
          },
          {
           "harvestable_pods": 231461.4179500006,
           "harvested_pods": 22339987.993866,
           "season": 4381,
           "timestamp": "2022-02-05T00:00:19",
           "unharvestable_pods": 596453274.725368,
           "unharvestable_ratio": 0.9635370793254231,
           "value": 0.9635370793254231,
           "variable": "unharvestable_ratio"
          },
          {
           "harvestable_pods": 231461.4179500006,
           "harvested_pods": 22339987.993866,
           "season": 4381,
           "timestamp": "2022-02-05T00:00:19",
           "unharvestable_pods": 596453274.725368,
           "unharvestable_ratio": 0.9635370793254231,
           "value": 596453274.725368,
           "variable": "unharvestable_pods"
          },
          {
           "harvestable_pods": 231461.4179500006,
           "harvested_pods": 22339987.993866,
           "season": 4381,
           "timestamp": "2022-02-05T00:00:19",
           "unharvestable_pods": 596453274.725368,
           "unharvestable_ratio": 0.9635370793254231,
           "value": 22339987.993866,
           "variable": "harvested_pods"
          },
          {
           "harvestable_pods": 231461.4179500006,
           "harvested_pods": 22339987.993866,
           "season": 4381,
           "timestamp": "2022-02-05T00:00:19",
           "unharvestable_pods": 596453274.725368,
           "unharvestable_ratio": 0.9635370793254231,
           "value": 231461.4179500006,
           "variable": "harvestable_pods"
          },
          {
           "harvestable_pods": 267169.3758369982,
           "harvested_pods": 22339987.993866,
           "season": 4405,
           "timestamp": "2022-02-06T00:00:11",
           "unharvestable_pods": 597840650.897767,
           "unharvestable_ratio": 0.9635631602393262,
           "value": 0.9635631602393262,
           "variable": "unharvestable_ratio"
          },
          {
           "harvestable_pods": 267169.3758369982,
           "harvested_pods": 22339987.993866,
           "season": 4405,
           "timestamp": "2022-02-06T00:00:11",
           "unharvestable_pods": 597840650.897767,
           "unharvestable_ratio": 0.9635631602393262,
           "value": 267169.3758369982,
           "variable": "harvestable_pods"
          },
          {
           "harvestable_pods": 267169.3758369982,
           "harvested_pods": 22339987.993866,
           "season": 4405,
           "timestamp": "2022-02-06T00:00:11",
           "unharvestable_pods": 597840650.897767,
           "unharvestable_ratio": 0.9635631602393262,
           "value": 22339987.993866,
           "variable": "harvested_pods"
          },
          {
           "harvestable_pods": 267169.3758369982,
           "harvested_pods": 22339987.993866,
           "season": 4405,
           "timestamp": "2022-02-06T00:00:11",
           "unharvestable_pods": 597840650.897767,
           "unharvestable_ratio": 0.9635631602393262,
           "value": 597840650.897767,
           "variable": "unharvestable_pods"
          },
          {
           "harvestable_pods": 309209.2530899979,
           "harvested_pods": 22404793.32572,
           "season": 4429,
           "timestamp": "2022-02-07T00:00:02",
           "unharvestable_pods": 597833770.6706871,
           "unharvestable_ratio": 0.963396851043606,
           "value": 597833770.6706871,
           "variable": "unharvestable_pods"
          },
          {
           "harvestable_pods": 309209.2530899979,
           "harvested_pods": 22404793.32572,
           "season": 4429,
           "timestamp": "2022-02-07T00:00:02",
           "unharvestable_pods": 597833770.6706871,
           "unharvestable_ratio": 0.963396851043606,
           "value": 22404793.32572,
           "variable": "harvested_pods"
          },
          {
           "harvestable_pods": 309209.2530899979,
           "harvested_pods": 22404793.32572,
           "season": 4429,
           "timestamp": "2022-02-07T00:00:02",
           "unharvestable_pods": 597833770.6706871,
           "unharvestable_ratio": 0.963396851043606,
           "value": 309209.2530899979,
           "variable": "harvestable_pods"
          },
          {
           "harvestable_pods": 309209.2530899979,
           "harvested_pods": 22404793.32572,
           "season": 4429,
           "timestamp": "2022-02-07T00:00:02",
           "unharvestable_pods": 597833770.6706871,
           "unharvestable_ratio": 0.963396851043606,
           "value": 0.963396851043606,
           "variable": "unharvestable_ratio"
          },
          {
           "harvestable_pods": 251667.6326440014,
           "harvested_pods": 22489367.614652,
           "season": 4453,
           "timestamp": "2022-02-08T00:00:30",
           "unharvestable_pods": 598042779.446015,
           "unharvestable_ratio": 0.9633672226803612,
           "value": 251667.6326440014,
           "variable": "harvestable_pods"
          },
          {
           "harvestable_pods": 251667.6326440014,
           "harvested_pods": 22489367.614652,
           "season": 4453,
           "timestamp": "2022-02-08T00:00:30",
           "unharvestable_pods": 598042779.446015,
           "unharvestable_ratio": 0.9633672226803612,
           "value": 0.9633672226803612,
           "variable": "unharvestable_ratio"
          },
          {
           "harvestable_pods": 251667.6326440014,
           "harvested_pods": 22489367.614652,
           "season": 4453,
           "timestamp": "2022-02-08T00:00:30",
           "unharvestable_pods": 598042779.446015,
           "unharvestable_ratio": 0.9633672226803612,
           "value": 598042779.446015,
           "variable": "unharvestable_pods"
          },
          {
           "harvestable_pods": 251667.6326440014,
           "harvested_pods": 22489367.614652,
           "season": 4453,
           "timestamp": "2022-02-08T00:00:30",
           "unharvestable_pods": 598042779.446015,
           "unharvestable_ratio": 0.9633672226803612,
           "value": 22489367.614652,
           "variable": "harvested_pods"
          },
          {
           "harvestable_pods": 224623.13769499958,
           "harvested_pods": 22549317.614652,
           "season": 4477,
           "timestamp": "2022-02-09T00:00:10",
           "unharvestable_pods": 597995212.729509,
           "unharvestable_ratio": 0.963313349858624,
           "value": 597995212.729509,
           "variable": "unharvestable_pods"
          },
          {
           "harvestable_pods": 224623.13769499958,
           "harvested_pods": 22549317.614652,
           "season": 4477,
           "timestamp": "2022-02-09T00:00:10",
           "unharvestable_pods": 597995212.729509,
           "unharvestable_ratio": 0.963313349858624,
           "value": 22549317.614652,
           "variable": "harvested_pods"
          },
          {
           "harvestable_pods": 224623.13769499958,
           "harvested_pods": 22549317.614652,
           "season": 4477,
           "timestamp": "2022-02-09T00:00:10",
           "unharvestable_pods": 597995212.729509,
           "unharvestable_ratio": 0.963313349858624,
           "value": 224623.13769499958,
           "variable": "harvestable_pods"
          },
          {
           "harvestable_pods": 224623.13769499958,
           "harvested_pods": 22549317.614652,
           "season": 4477,
           "timestamp": "2022-02-09T00:00:10",
           "unharvestable_pods": 597995212.729509,
           "unharvestable_ratio": 0.963313349858624,
           "value": 0.963313349858624,
           "variable": "unharvestable_ratio"
          },
          {
           "harvestable_pods": 252455.40424999967,
           "harvested_pods": 22549317.614652,
           "season": 4501,
           "timestamp": "2022-02-10T00:00:44",
           "unharvestable_pods": 598089972.6967881,
           "unharvestable_ratio": 0.9632757671909155,
           "value": 0.9632757671909155,
           "variable": "unharvestable_ratio"
          },
          {
           "harvestable_pods": 252455.40424999967,
           "harvested_pods": 22549317.614652,
           "season": 4501,
           "timestamp": "2022-02-10T00:00:44",
           "unharvestable_pods": 598089972.6967881,
           "unharvestable_ratio": 0.9632757671909155,
           "value": 598089972.6967881,
           "variable": "unharvestable_pods"
          },
          {
           "harvestable_pods": 252455.40424999967,
           "harvested_pods": 22549317.614652,
           "season": 4501,
           "timestamp": "2022-02-10T00:00:44",
           "unharvestable_pods": 598089972.6967881,
           "unharvestable_ratio": 0.9632757671909155,
           "value": 22549317.614652,
           "variable": "harvested_pods"
          },
          {
           "harvestable_pods": 252455.40424999967,
           "harvested_pods": 22549317.614652,
           "season": 4501,
           "timestamp": "2022-02-10T00:00:44",
           "unharvestable_pods": 598089972.6967881,
           "unharvestable_ratio": 0.9632757671909155,
           "value": 252455.40424999967,
           "variable": "harvestable_pods"
          },
          {
           "harvestable_pods": 285300.0470260009,
           "harvested_pods": 22549317.614652,
           "season": 4525,
           "timestamp": "2022-02-11T00:00:06",
           "unharvestable_pods": 601502962.8341221,
           "unharvestable_ratio": 0.9634258478505419,
           "value": 0.9634258478505419,
           "variable": "unharvestable_ratio"
          },
          {
           "harvestable_pods": 285300.0470260009,
           "harvested_pods": 22549317.614652,
           "season": 4525,
           "timestamp": "2022-02-11T00:00:06",
           "unharvestable_pods": 601502962.8341221,
           "unharvestable_ratio": 0.9634258478505419,
           "value": 285300.0470260009,
           "variable": "harvestable_pods"
          },
          {
           "harvestable_pods": 285300.0470260009,
           "harvested_pods": 22549317.614652,
           "season": 4525,
           "timestamp": "2022-02-11T00:00:06",
           "unharvestable_pods": 601502962.8341221,
           "unharvestable_ratio": 0.9634258478505419,
           "value": 601502962.8341221,
           "variable": "unharvestable_pods"
          },
          {
           "harvestable_pods": 285300.0470260009,
           "harvested_pods": 22549317.614652,
           "season": 4525,
           "timestamp": "2022-02-11T00:00:06",
           "unharvestable_pods": 601502962.8341221,
           "unharvestable_ratio": 0.9634258478505419,
           "value": 22549317.614652,
           "variable": "harvested_pods"
          },
          {
           "harvestable_pods": 290177.2386649996,
           "harvested_pods": 22549317.614652,
           "season": 4549,
           "timestamp": "2022-02-12T00:00:06",
           "unharvestable_pods": 601830479.013485,
           "unharvestable_ratio": 0.963437501706802,
           "value": 601830479.013485,
           "variable": "unharvestable_pods"
          },
          {
           "harvestable_pods": 290177.2386649996,
           "harvested_pods": 22549317.614652,
           "season": 4549,
           "timestamp": "2022-02-12T00:00:06",
           "unharvestable_pods": 601830479.013485,
           "unharvestable_ratio": 0.963437501706802,
           "value": 22549317.614652,
           "variable": "harvested_pods"
          },
          {
           "harvestable_pods": 290177.2386649996,
           "harvested_pods": 22549317.614652,
           "season": 4549,
           "timestamp": "2022-02-12T00:00:06",
           "unharvestable_pods": 601830479.013485,
           "unharvestable_ratio": 0.963437501706802,
           "value": 290177.2386649996,
           "variable": "harvestable_pods"
          },
          {
           "harvestable_pods": 290177.2386649996,
           "harvested_pods": 22549317.614652,
           "season": 4549,
           "timestamp": "2022-02-12T00:00:06",
           "unharvestable_pods": 601830479.013485,
           "unharvestable_ratio": 0.963437501706802,
           "value": 0.963437501706802,
           "variable": "unharvestable_ratio"
          },
          {
           "harvestable_pods": 291739.37441499904,
           "harvested_pods": 22549317.614652,
           "season": 4573,
           "timestamp": "2022-02-13T00:00:56",
           "unharvestable_pods": 602093428.4393101,
           "unharvestable_ratio": 0.9634504775754054,
           "value": 0.9634504775754054,
           "variable": "unharvestable_ratio"
          },
          {
           "harvestable_pods": 291739.37441499904,
           "harvested_pods": 22549317.614652,
           "season": 4573,
           "timestamp": "2022-02-13T00:00:56",
           "unharvestable_pods": 602093428.4393101,
           "unharvestable_ratio": 0.9634504775754054,
           "value": 602093428.4393101,
           "variable": "unharvestable_pods"
          },
          {
           "harvestable_pods": 291739.37441499904,
           "harvested_pods": 22549317.614652,
           "season": 4573,
           "timestamp": "2022-02-13T00:00:56",
           "unharvestable_pods": 602093428.4393101,
           "unharvestable_ratio": 0.9634504775754054,
           "value": 22549317.614652,
           "variable": "harvested_pods"
          },
          {
           "harvestable_pods": 291739.37441499904,
           "harvested_pods": 22549317.614652,
           "season": 4573,
           "timestamp": "2022-02-13T00:00:56",
           "unharvestable_pods": 602093428.4393101,
           "unharvestable_ratio": 0.9634504775754054,
           "value": 291739.37441499904,
           "variable": "harvestable_pods"
          },
          {
           "harvestable_pods": 301762.9650949985,
           "harvested_pods": 22549317.614652,
           "season": 4597,
           "timestamp": "2022-02-14T00:00:11",
           "unharvestable_pods": 602382204.839563,
           "unharvestable_ratio": 0.9634519128897272,
           "value": 0.9634519128897272,
           "variable": "unharvestable_ratio"
          },
          {
           "harvestable_pods": 301762.9650949985,
           "harvested_pods": 22549317.614652,
           "season": 4597,
           "timestamp": "2022-02-14T00:00:11",
           "unharvestable_pods": 602382204.839563,
           "unharvestable_ratio": 0.9634519128897272,
           "value": 301762.9650949985,
           "variable": "harvestable_pods"
          },
          {
           "harvestable_pods": 301762.9650949985,
           "harvested_pods": 22549317.614652,
           "season": 4597,
           "timestamp": "2022-02-14T00:00:11",
           "unharvestable_pods": 602382204.839563,
           "unharvestable_ratio": 0.9634519128897272,
           "value": 602382204.839563,
           "variable": "unharvestable_pods"
          },
          {
           "harvestable_pods": 301762.9650949985,
           "harvested_pods": 22549317.614652,
           "season": 4597,
           "timestamp": "2022-02-14T00:00:11",
           "unharvestable_pods": 602382204.839563,
           "unharvestable_ratio": 0.9634519128897272,
           "value": 22549317.614652,
           "variable": "harvested_pods"
          },
          {
           "harvestable_pods": 377263.7500239983,
           "harvested_pods": 22549317.614652,
           "season": 4621,
           "timestamp": "2022-02-15T00:00:35",
           "unharvestable_pods": 604286240.968136,
           "unharvestable_ratio": 0.9634468866892669,
           "value": 0.9634468866892669,
           "variable": "unharvestable_ratio"
          },
          {
           "harvestable_pods": 377263.7500239983,
           "harvested_pods": 22549317.614652,
           "season": 4621,
           "timestamp": "2022-02-15T00:00:35",
           "unharvestable_pods": 604286240.968136,
           "unharvestable_ratio": 0.9634468866892669,
           "value": 604286240.968136,
           "variable": "unharvestable_pods"
          },
          {
           "harvestable_pods": 377263.7500239983,
           "harvested_pods": 22549317.614652,
           "season": 4621,
           "timestamp": "2022-02-15T00:00:35",
           "unharvestable_pods": 604286240.968136,
           "unharvestable_ratio": 0.9634468866892669,
           "value": 22549317.614652,
           "variable": "harvested_pods"
          },
          {
           "harvestable_pods": 377263.7500239983,
           "harvested_pods": 22549317.614652,
           "season": 4621,
           "timestamp": "2022-02-15T00:00:35",
           "unharvestable_pods": 604286240.968136,
           "unharvestable_ratio": 0.9634468866892669,
           "value": 377263.7500239983,
           "variable": "harvestable_pods"
          },
          {
           "harvestable_pods": 420234.33016800135,
           "harvested_pods": 22549317.614652,
           "season": 4645,
           "timestamp": "2022-02-16T00:00:34",
           "unharvestable_pods": 607136532.845837,
           "unharvestable_ratio": 0.963546532085226,
           "value": 22549317.614652,
           "variable": "harvested_pods"
          },
          {
           "harvestable_pods": 420234.33016800135,
           "harvested_pods": 22549317.614652,
           "season": 4645,
           "timestamp": "2022-02-16T00:00:34",
           "unharvestable_pods": 607136532.845837,
           "unharvestable_ratio": 0.963546532085226,
           "value": 420234.33016800135,
           "variable": "harvestable_pods"
          },
          {
           "harvestable_pods": 420234.33016800135,
           "harvested_pods": 22549317.614652,
           "season": 4645,
           "timestamp": "2022-02-16T00:00:34",
           "unharvestable_pods": 607136532.845837,
           "unharvestable_ratio": 0.963546532085226,
           "value": 607136532.845837,
           "variable": "unharvestable_pods"
          },
          {
           "harvestable_pods": 420234.33016800135,
           "harvested_pods": 22549317.614652,
           "season": 4645,
           "timestamp": "2022-02-16T00:00:34",
           "unharvestable_pods": 607136532.845837,
           "unharvestable_ratio": 0.963546532085226,
           "value": 0.963546532085226,
           "variable": "unharvestable_ratio"
          },
          {
           "harvestable_pods": 135556.2387300022,
           "harvested_pods": 22833995.70609,
           "season": 4669,
           "timestamp": "2022-02-17T00:00:02",
           "unharvestable_pods": 610922315.6451629,
           "unharvestable_ratio": 0.9637642425794973,
           "value": 0.9637642425794973,
           "variable": "unharvestable_ratio"
          },
          {
           "harvestable_pods": 135556.2387300022,
           "harvested_pods": 22833995.70609,
           "season": 4669,
           "timestamp": "2022-02-17T00:00:02",
           "unharvestable_pods": 610922315.6451629,
           "unharvestable_ratio": 0.9637642425794973,
           "value": 135556.2387300022,
           "variable": "harvestable_pods"
          },
          {
           "harvestable_pods": 135556.2387300022,
           "harvested_pods": 22833995.70609,
           "season": 4669,
           "timestamp": "2022-02-17T00:00:02",
           "unharvestable_pods": 610922315.6451629,
           "unharvestable_ratio": 0.9637642425794973,
           "value": 610922315.6451629,
           "variable": "unharvestable_pods"
          },
          {
           "harvestable_pods": 135556.2387300022,
           "harvested_pods": 22833995.70609,
           "season": 4669,
           "timestamp": "2022-02-17T00:00:02",
           "unharvestable_pods": 610922315.6451629,
           "unharvestable_ratio": 0.9637642425794973,
           "value": 22833995.70609,
           "variable": "harvested_pods"
          },
          {
           "harvestable_pods": 142535.8137759976,
           "harvested_pods": 22834519.350377,
           "season": 4693,
           "timestamp": "2022-02-18T00:00:14",
           "unharvestable_pods": 614285670.7027351,
           "unharvestable_ratio": 0.9639441407264224,
           "value": 614285670.7027351,
           "variable": "unharvestable_pods"
          },
          {
           "harvestable_pods": 142535.8137759976,
           "harvested_pods": 22834519.350377,
           "season": 4693,
           "timestamp": "2022-02-18T00:00:14",
           "unharvestable_pods": 614285670.7027351,
           "unharvestable_ratio": 0.9639441407264224,
           "value": 22834519.350377,
           "variable": "harvested_pods"
          },
          {
           "harvestable_pods": 142535.8137759976,
           "harvested_pods": 22834519.350377,
           "season": 4693,
           "timestamp": "2022-02-18T00:00:14",
           "unharvestable_pods": 614285670.7027351,
           "unharvestable_ratio": 0.9639441407264224,
           "value": 142535.8137759976,
           "variable": "harvestable_pods"
          },
          {
           "harvestable_pods": 142535.8137759976,
           "harvested_pods": 22834519.350377,
           "season": 4693,
           "timestamp": "2022-02-18T00:00:14",
           "unharvestable_pods": 614285670.7027351,
           "unharvestable_ratio": 0.9639441407264224,
           "value": 0.9639441407264224,
           "variable": "unharvestable_ratio"
          },
          {
           "harvestable_pods": 147862.7830730006,
           "harvested_pods": 22834519.350377,
           "season": 4717,
           "timestamp": "2022-02-19T00:00:02",
           "unharvestable_pods": 614350431.459134,
           "unharvestable_ratio": 0.9639397475803881,
           "value": 614350431.459134,
           "variable": "unharvestable_pods"
          },
          {
           "harvestable_pods": 147862.7830730006,
           "harvested_pods": 22834519.350377,
           "season": 4717,
           "timestamp": "2022-02-19T00:00:02",
           "unharvestable_pods": 614350431.459134,
           "unharvestable_ratio": 0.9639397475803881,
           "value": 22834519.350377,
           "variable": "harvested_pods"
          },
          {
           "harvestable_pods": 147862.7830730006,
           "harvested_pods": 22834519.350377,
           "season": 4717,
           "timestamp": "2022-02-19T00:00:02",
           "unharvestable_pods": 614350431.459134,
           "unharvestable_ratio": 0.9639397475803881,
           "value": 147862.7830730006,
           "variable": "harvestable_pods"
          },
          {
           "harvestable_pods": 147862.7830730006,
           "harvested_pods": 22834519.350377,
           "season": 4717,
           "timestamp": "2022-02-19T00:00:02",
           "unharvestable_pods": 614350431.459134,
           "unharvestable_ratio": 0.9639397475803881,
           "value": 0.9639397475803881,
           "variable": "unharvestable_ratio"
          },
          {
           "harvestable_pods": 150226.3104689978,
           "harvested_pods": 22834519.350377,
           "season": 4741,
           "timestamp": "2022-02-20T00:00:15",
           "unharvestable_pods": 615568436.524098,
           "unharvestable_ratio": 0.9640049626215959,
           "value": 150226.3104689978,
           "variable": "harvestable_pods"
          },
          {
           "harvestable_pods": 150226.3104689978,
           "harvested_pods": 22834519.350377,
           "season": 4741,
           "timestamp": "2022-02-20T00:00:15",
           "unharvestable_pods": 615568436.524098,
           "unharvestable_ratio": 0.9640049626215959,
           "value": 0.9640049626215959,
           "variable": "unharvestable_ratio"
          },
          {
           "harvestable_pods": 150226.3104689978,
           "harvested_pods": 22834519.350377,
           "season": 4741,
           "timestamp": "2022-02-20T00:00:15",
           "unharvestable_pods": 615568436.524098,
           "unharvestable_ratio": 0.9640049626215959,
           "value": 615568436.524098,
           "variable": "unharvestable_pods"
          },
          {
           "harvestable_pods": 150226.3104689978,
           "harvested_pods": 22834519.350377,
           "season": 4741,
           "timestamp": "2022-02-20T00:00:15",
           "unharvestable_pods": 615568436.524098,
           "unharvestable_ratio": 0.9640049626215959,
           "value": 22834519.350377,
           "variable": "harvested_pods"
          },
          {
           "harvestable_pods": 174232.24984299764,
           "harvested_pods": 22834519.350377,
           "season": 4765,
           "timestamp": "2022-02-21T00:00:06",
           "unharvestable_pods": 616045529.530858,
           "unharvestable_ratio": 0.9639956224696653,
           "value": 616045529.530858,
           "variable": "unharvestable_pods"
          },
          {
           "harvestable_pods": 174232.24984299764,
           "harvested_pods": 22834519.350377,
           "season": 4765,
           "timestamp": "2022-02-21T00:00:06",
           "unharvestable_pods": 616045529.530858,
           "unharvestable_ratio": 0.9639956224696653,
           "value": 22834519.350377,
           "variable": "harvested_pods"
          },
          {
           "harvestable_pods": 174232.24984299764,
           "harvested_pods": 22834519.350377,
           "season": 4765,
           "timestamp": "2022-02-21T00:00:06",
           "unharvestable_pods": 616045529.530858,
           "unharvestable_ratio": 0.9639956224696653,
           "value": 174232.24984299764,
           "variable": "harvestable_pods"
          },
          {
           "harvestable_pods": 174232.24984299764,
           "harvested_pods": 22834519.350377,
           "season": 4765,
           "timestamp": "2022-02-21T00:00:06",
           "unharvestable_pods": 616045529.530858,
           "unharvestable_ratio": 0.9639956224696653,
           "value": 0.9639956224696653,
           "variable": "unharvestable_ratio"
          },
          {
           "harvestable_pods": 174797.33576999977,
           "harvested_pods": 22834519.350377,
           "season": 4789,
           "timestamp": "2022-02-22T00:00:01",
           "unharvestable_pods": 616650583.2901931,
           "unharvestable_ratio": 0.9640288273706105,
           "value": 0.9640288273706105,
           "variable": "unharvestable_ratio"
          },
          {
           "harvestable_pods": 174797.33576999977,
           "harvested_pods": 22834519.350377,
           "season": 4789,
           "timestamp": "2022-02-22T00:00:01",
           "unharvestable_pods": 616650583.2901931,
           "unharvestable_ratio": 0.9640288273706105,
           "value": 174797.33576999977,
           "variable": "harvestable_pods"
          },
          {
           "harvestable_pods": 174797.33576999977,
           "harvested_pods": 22834519.350377,
           "season": 4789,
           "timestamp": "2022-02-22T00:00:01",
           "unharvestable_pods": 616650583.2901931,
           "unharvestable_ratio": 0.9640288273706105,
           "value": 22834519.350377,
           "variable": "harvested_pods"
          },
          {
           "harvestable_pods": 174797.33576999977,
           "harvested_pods": 22834519.350377,
           "season": 4789,
           "timestamp": "2022-02-22T00:00:01",
           "unharvestable_pods": 616650583.2901931,
           "unharvestable_ratio": 0.9640288273706105,
           "value": 616650583.2901931,
           "variable": "unharvestable_pods"
          },
          {
           "harvestable_pods": 185522.08518400043,
           "harvested_pods": 22834519.350377,
           "season": 4813,
           "timestamp": "2022-02-23T00:00:27",
           "unharvestable_pods": 616810541.260539,
           "unharvestable_ratio": 0.9640216612676441,
           "value": 0.9640216612676441,
           "variable": "unharvestable_ratio"
          },
          {
           "harvestable_pods": 185522.08518400043,
           "harvested_pods": 22834519.350377,
           "season": 4813,
           "timestamp": "2022-02-23T00:00:27",
           "unharvestable_pods": 616810541.260539,
           "unharvestable_ratio": 0.9640216612676441,
           "value": 185522.08518400043,
           "variable": "harvestable_pods"
          },
          {
           "harvestable_pods": 185522.08518400043,
           "harvested_pods": 22834519.350377,
           "season": 4813,
           "timestamp": "2022-02-23T00:00:27",
           "unharvestable_pods": 616810541.260539,
           "unharvestable_ratio": 0.9640216612676441,
           "value": 616810541.260539,
           "variable": "unharvestable_pods"
          },
          {
           "harvestable_pods": 185522.08518400043,
           "harvested_pods": 22834519.350377,
           "season": 4813,
           "timestamp": "2022-02-23T00:00:27",
           "unharvestable_pods": 616810541.260539,
           "unharvestable_ratio": 0.9640216612676441,
           "value": 22834519.350377,
           "variable": "harvested_pods"
          },
          {
           "harvestable_pods": 185522.08518400043,
           "harvested_pods": 22834519.350377,
           "season": 4837,
           "timestamp": "2022-02-24T00:00:01",
           "unharvestable_pods": 616993470.711901,
           "unharvestable_ratio": 0.964031944640792,
           "value": 616993470.711901,
           "variable": "unharvestable_pods"
          },
          {
           "harvestable_pods": 185522.08518400043,
           "harvested_pods": 22834519.350377,
           "season": 4837,
           "timestamp": "2022-02-24T00:00:01",
           "unharvestable_pods": 616993470.711901,
           "unharvestable_ratio": 0.964031944640792,
           "value": 22834519.350377,
           "variable": "harvested_pods"
          },
          {
           "harvestable_pods": 185522.08518400043,
           "harvested_pods": 22834519.350377,
           "season": 4837,
           "timestamp": "2022-02-24T00:00:01",
           "unharvestable_pods": 616993470.711901,
           "unharvestable_ratio": 0.964031944640792,
           "value": 185522.08518400043,
           "variable": "harvestable_pods"
          },
          {
           "harvestable_pods": 185522.08518400043,
           "harvested_pods": 22834519.350377,
           "season": 4837,
           "timestamp": "2022-02-24T00:00:01",
           "unharvestable_pods": 616993470.711901,
           "unharvestable_ratio": 0.964031944640792,
           "value": 0.964031944640792,
           "variable": "unharvestable_ratio"
          },
          {
           "harvestable_pods": 191976.40773800015,
           "harvested_pods": 22834519.350377,
           "season": 4861,
           "timestamp": "2022-02-25T00:00:06",
           "unharvestable_pods": 617046274.5953319,
           "unharvestable_ratio": 0.9640251908460348,
           "value": 617046274.5953319,
           "variable": "unharvestable_pods"
          },
          {
           "harvestable_pods": 191976.40773800015,
           "harvested_pods": 22834519.350377,
           "season": 4861,
           "timestamp": "2022-02-25T00:00:06",
           "unharvestable_pods": 617046274.5953319,
           "unharvestable_ratio": 0.9640251908460348,
           "value": 22834519.350377,
           "variable": "harvested_pods"
          },
          {
           "harvestable_pods": 191976.40773800015,
           "harvested_pods": 22834519.350377,
           "season": 4861,
           "timestamp": "2022-02-25T00:00:06",
           "unharvestable_pods": 617046274.5953319,
           "unharvestable_ratio": 0.9640251908460348,
           "value": 191976.40773800015,
           "variable": "harvestable_pods"
          },
          {
           "harvestable_pods": 191976.40773800015,
           "harvested_pods": 22834519.350377,
           "season": 4861,
           "timestamp": "2022-02-25T00:00:06",
           "unharvestable_pods": 617046274.5953319,
           "unharvestable_ratio": 0.9640251908460348,
           "value": 0.9640251908460348,
           "variable": "unharvestable_ratio"
          },
          {
           "harvestable_pods": 207405.85760900006,
           "harvested_pods": 22834519.350377,
           "season": 4885,
           "timestamp": "2022-02-26T00:00:28",
           "unharvestable_pods": 617197151.04651,
           "unharvestable_ratio": 0.9640104360033989,
           "value": 0.9640104360033989,
           "variable": "unharvestable_ratio"
          },
          {
           "harvestable_pods": 207405.85760900006,
           "harvested_pods": 22834519.350377,
           "season": 4885,
           "timestamp": "2022-02-26T00:00:28",
           "unharvestable_pods": 617197151.04651,
           "unharvestable_ratio": 0.9640104360033989,
           "value": 617197151.04651,
           "variable": "unharvestable_pods"
          },
          {
           "harvestable_pods": 207405.85760900006,
           "harvested_pods": 22834519.350377,
           "season": 4885,
           "timestamp": "2022-02-26T00:00:28",
           "unharvestable_pods": 617197151.04651,
           "unharvestable_ratio": 0.9640104360033989,
           "value": 22834519.350377,
           "variable": "harvested_pods"
          },
          {
           "harvestable_pods": 207405.85760900006,
           "harvested_pods": 22834519.350377,
           "season": 4885,
           "timestamp": "2022-02-26T00:00:28",
           "unharvestable_pods": 617197151.04651,
           "unharvestable_ratio": 0.9640104360033989,
           "value": 207405.85760900006,
           "variable": "harvestable_pods"
          },
          {
           "harvestable_pods": 219010.46420300007,
           "harvested_pods": 22834519.350377,
           "season": 4909,
           "timestamp": "2022-02-27T00:00:02",
           "unharvestable_pods": 617173941.833322,
           "unharvestable_ratio": 0.963991657909896,
           "value": 219010.46420300007,
           "variable": "harvestable_pods"
          },
          {
           "harvestable_pods": 219010.46420300007,
           "harvested_pods": 22834519.350377,
           "season": 4909,
           "timestamp": "2022-02-27T00:00:02",
           "unharvestable_pods": 617173941.833322,
           "unharvestable_ratio": 0.963991657909896,
           "value": 0.963991657909896,
           "variable": "unharvestable_ratio"
          },
          {
           "harvestable_pods": 219010.46420300007,
           "harvested_pods": 22834519.350377,
           "season": 4909,
           "timestamp": "2022-02-27T00:00:02",
           "unharvestable_pods": 617173941.833322,
           "unharvestable_ratio": 0.963991657909896,
           "value": 617173941.833322,
           "variable": "unharvestable_pods"
          },
          {
           "harvestable_pods": 219010.46420300007,
           "harvested_pods": 22834519.350377,
           "season": 4909,
           "timestamp": "2022-02-27T00:00:02",
           "unharvestable_pods": 617173941.833322,
           "unharvestable_ratio": 0.963991657909896,
           "value": 22834519.350377,
           "variable": "harvested_pods"
          },
          {
           "harvestable_pods": 230284.61199899763,
           "harvested_pods": 22834519.350377,
           "season": 4933,
           "timestamp": "2022-02-28T00:00:02",
           "unharvestable_pods": 617753301.14624,
           "unharvestable_ratio": 0.9640072529497795,
           "value": 0.9640072529497795,
           "variable": "unharvestable_ratio"
          },
          {
           "harvestable_pods": 230284.61199899763,
           "harvested_pods": 22834519.350377,
           "season": 4933,
           "timestamp": "2022-02-28T00:00:02",
           "unharvestable_pods": 617753301.14624,
           "unharvestable_ratio": 0.9640072529497795,
           "value": 230284.61199899763,
           "variable": "harvestable_pods"
          },
          {
           "harvestable_pods": 230284.61199899763,
           "harvested_pods": 22834519.350377,
           "season": 4933,
           "timestamp": "2022-02-28T00:00:02",
           "unharvestable_pods": 617753301.14624,
           "unharvestable_ratio": 0.9640072529497795,
           "value": 617753301.14624,
           "variable": "unharvestable_pods"
          },
          {
           "harvestable_pods": 230284.61199899763,
           "harvested_pods": 22834519.350377,
           "season": 4933,
           "timestamp": "2022-02-28T00:00:02",
           "unharvestable_pods": 617753301.14624,
           "unharvestable_ratio": 0.9640072529497795,
           "value": 22834519.350377,
           "variable": "harvested_pods"
          },
          {
           "harvestable_pods": 244872.09226999804,
           "harvested_pods": 22834519.350377,
           "season": 4957,
           "timestamp": "2022-03-01T00:00:18",
           "unharvestable_pods": 621229316.394279,
           "unharvestable_ratio": 0.9641796065117153,
           "value": 621229316.394279,
           "variable": "unharvestable_pods"
          },
          {
           "harvestable_pods": 244872.09226999804,
           "harvested_pods": 22834519.350377,
           "season": 4957,
           "timestamp": "2022-03-01T00:00:18",
           "unharvestable_pods": 621229316.394279,
           "unharvestable_ratio": 0.9641796065117153,
           "value": 22834519.350377,
           "variable": "harvested_pods"
          },
          {
           "harvestable_pods": 244872.09226999804,
           "harvested_pods": 22834519.350377,
           "season": 4957,
           "timestamp": "2022-03-01T00:00:18",
           "unharvestable_pods": 621229316.394279,
           "unharvestable_ratio": 0.9641796065117153,
           "value": 244872.09226999804,
           "variable": "harvestable_pods"
          },
          {
           "harvestable_pods": 244872.09226999804,
           "harvested_pods": 22834519.350377,
           "season": 4957,
           "timestamp": "2022-03-01T00:00:18",
           "unharvestable_pods": 621229316.394279,
           "unharvestable_ratio": 0.9641796065117153,
           "value": 0.9641796065117153,
           "variable": "unharvestable_ratio"
          },
          {
           "harvestable_pods": 280106.8222949989,
           "harvested_pods": 22834519.350377,
           "season": 4981,
           "timestamp": "2022-03-02T00:00:00",
           "unharvestable_pods": 622562725.783247,
           "unharvestable_ratio": 0.9642009649205566,
           "value": 622562725.783247,
           "variable": "unharvestable_pods"
          },
          {
           "harvestable_pods": 280106.8222949989,
           "harvested_pods": 22834519.350377,
           "season": 4981,
           "timestamp": "2022-03-02T00:00:00",
           "unharvestable_pods": 622562725.783247,
           "unharvestable_ratio": 0.9642009649205566,
           "value": 22834519.350377,
           "variable": "harvested_pods"
          },
          {
           "harvestable_pods": 280106.8222949989,
           "harvested_pods": 22834519.350377,
           "season": 4981,
           "timestamp": "2022-03-02T00:00:00",
           "unharvestable_pods": 622562725.783247,
           "unharvestable_ratio": 0.9642009649205566,
           "value": 280106.8222949989,
           "variable": "harvestable_pods"
          },
          {
           "harvestable_pods": 280106.8222949989,
           "harvested_pods": 22834519.350377,
           "season": 4981,
           "timestamp": "2022-03-02T00:00:00",
           "unharvestable_pods": 622562725.783247,
           "unharvestable_ratio": 0.9642009649205566,
           "value": 0.9642009649205566,
           "variable": "unharvestable_ratio"
          },
          {
           "harvestable_pods": 288417.00350899994,
           "harvested_pods": 22839583.026931,
           "season": 5005,
           "timestamp": "2022-03-03T00:00:02",
           "unharvestable_pods": 626338178.1562151,
           "unharvestable_ratio": 0.9643892156247234,
           "value": 0.9643892156247234,
           "variable": "unharvestable_ratio"
          },
          {
           "harvestable_pods": 288417.00350899994,
           "harvested_pods": 22839583.026931,
           "season": 5005,
           "timestamp": "2022-03-03T00:00:02",
           "unharvestable_pods": 626338178.1562151,
           "unharvestable_ratio": 0.9643892156247234,
           "value": 288417.00350899994,
           "variable": "harvestable_pods"
          },
          {
           "harvestable_pods": 288417.00350899994,
           "harvested_pods": 22839583.026931,
           "season": 5005,
           "timestamp": "2022-03-03T00:00:02",
           "unharvestable_pods": 626338178.1562151,
           "unharvestable_ratio": 0.9643892156247234,
           "value": 626338178.1562151,
           "variable": "unharvestable_pods"
          },
          {
           "harvestable_pods": 288417.00350899994,
           "harvested_pods": 22839583.026931,
           "season": 5005,
           "timestamp": "2022-03-03T00:00:02",
           "unharvestable_pods": 626338178.1562151,
           "unharvestable_ratio": 0.9643892156247234,
           "value": 22839583.026931,
           "variable": "harvested_pods"
          },
          {
           "harvestable_pods": 141353.65560400113,
           "harvested_pods": 22990480.974133,
           "season": 5029,
           "timestamp": "2022-03-04T00:00:35",
           "unharvestable_pods": 639469799.24948,
           "unharvestable_ratio": 0.9650893788258397,
           "value": 639469799.24948,
           "variable": "unharvestable_pods"
          },
          {
           "harvestable_pods": 141353.65560400113,
           "harvested_pods": 22990480.974133,
           "season": 5029,
           "timestamp": "2022-03-04T00:00:35",
           "unharvestable_pods": 639469799.24948,
           "unharvestable_ratio": 0.9650893788258397,
           "value": 22990480.974133,
           "variable": "harvested_pods"
          },
          {
           "harvestable_pods": 141353.65560400113,
           "harvested_pods": 22990480.974133,
           "season": 5029,
           "timestamp": "2022-03-04T00:00:35",
           "unharvestable_pods": 639469799.24948,
           "unharvestable_ratio": 0.9650893788258397,
           "value": 141353.65560400113,
           "variable": "harvestable_pods"
          },
          {
           "harvestable_pods": 141353.65560400113,
           "harvested_pods": 22990480.974133,
           "season": 5029,
           "timestamp": "2022-03-04T00:00:35",
           "unharvestable_pods": 639469799.24948,
           "unharvestable_ratio": 0.9650893788258397,
           "value": 0.9650893788258397,
           "variable": "unharvestable_ratio"
          },
          {
           "harvestable_pods": 141353.65560400113,
           "harvested_pods": 22990480.974133,
           "season": 5053,
           "timestamp": "2022-03-05T00:00:30",
           "unharvestable_pods": 639530549.9497889,
           "unharvestable_ratio": 0.9650925793163668,
           "value": 141353.65560400113,
           "variable": "harvestable_pods"
          },
          {
           "harvestable_pods": 141353.65560400113,
           "harvested_pods": 22990480.974133,
           "season": 5053,
           "timestamp": "2022-03-05T00:00:30",
           "unharvestable_pods": 639530549.9497889,
           "unharvestable_ratio": 0.9650925793163668,
           "value": 0.9650925793163668,
           "variable": "unharvestable_ratio"
          },
          {
           "harvestable_pods": 141353.65560400113,
           "harvested_pods": 22990480.974133,
           "season": 5053,
           "timestamp": "2022-03-05T00:00:30",
           "unharvestable_pods": 639530549.9497889,
           "unharvestable_ratio": 0.9650925793163668,
           "value": 22990480.974133,
           "variable": "harvested_pods"
          },
          {
           "harvestable_pods": 141353.65560400113,
           "harvested_pods": 22990480.974133,
           "season": 5053,
           "timestamp": "2022-03-05T00:00:30",
           "unharvestable_pods": 639530549.9497889,
           "unharvestable_ratio": 0.9650925793163668,
           "value": 639530549.9497889,
           "variable": "unharvestable_pods"
          },
          {
           "harvestable_pods": 141353.65560400113,
           "harvested_pods": 22990480.974133,
           "season": 5077,
           "timestamp": "2022-03-06T00:00:17",
           "unharvestable_pods": 639719662.188633,
           "unharvestable_ratio": 0.9651025384407098,
           "value": 639719662.188633,
           "variable": "unharvestable_pods"
          },
          {
           "harvestable_pods": 141353.65560400113,
           "harvested_pods": 22990480.974133,
           "season": 5077,
           "timestamp": "2022-03-06T00:00:17",
           "unharvestable_pods": 639719662.188633,
           "unharvestable_ratio": 0.9651025384407098,
           "value": 22990480.974133,
           "variable": "harvested_pods"
          },
          {
           "harvestable_pods": 141353.65560400113,
           "harvested_pods": 22990480.974133,
           "season": 5077,
           "timestamp": "2022-03-06T00:00:17",
           "unharvestable_pods": 639719662.188633,
           "unharvestable_ratio": 0.9651025384407098,
           "value": 141353.65560400113,
           "variable": "harvestable_pods"
          },
          {
           "harvestable_pods": 141353.65560400113,
           "harvested_pods": 22990480.974133,
           "season": 5077,
           "timestamp": "2022-03-06T00:00:17",
           "unharvestable_pods": 639719662.188633,
           "unharvestable_ratio": 0.9651025384407098,
           "value": 0.9651025384407098,
           "variable": "unharvestable_ratio"
          },
          {
           "harvestable_pods": 141353.65560400113,
           "harvested_pods": 22990480.974133,
           "season": 5101,
           "timestamp": "2022-03-07T00:00:15",
           "unharvestable_pods": 641140489.561964,
           "unharvestable_ratio": 0.9651771814249762,
           "value": 641140489.561964,
           "variable": "unharvestable_pods"
          },
          {
           "harvestable_pods": 141353.65560400113,
           "harvested_pods": 22990480.974133,
           "season": 5101,
           "timestamp": "2022-03-07T00:00:15",
           "unharvestable_pods": 641140489.561964,
           "unharvestable_ratio": 0.9651771814249762,
           "value": 22990480.974133,
           "variable": "harvested_pods"
          },
          {
           "harvestable_pods": 141353.65560400113,
           "harvested_pods": 22990480.974133,
           "season": 5101,
           "timestamp": "2022-03-07T00:00:15",
           "unharvestable_pods": 641140489.561964,
           "unharvestable_ratio": 0.9651771814249762,
           "value": 141353.65560400113,
           "variable": "harvestable_pods"
          },
          {
           "harvestable_pods": 141353.65560400113,
           "harvested_pods": 22990480.974133,
           "season": 5101,
           "timestamp": "2022-03-07T00:00:15",
           "unharvestable_pods": 641140489.561964,
           "unharvestable_ratio": 0.9651771814249762,
           "value": 0.9651771814249762,
           "variable": "unharvestable_ratio"
          },
          {
           "harvestable_pods": 146629.44389700145,
           "harvested_pods": 22993263.391564,
           "season": 5125,
           "timestamp": "2022-03-08T00:00:01",
           "unharvestable_pods": 645182573.760388,
           "unharvestable_ratio": 0.9653761559845118,
           "value": 0.9653761559845118,
           "variable": "unharvestable_ratio"
          },
          {
           "harvestable_pods": 146629.44389700145,
           "harvested_pods": 22993263.391564,
           "season": 5125,
           "timestamp": "2022-03-08T00:00:01",
           "unharvestable_pods": 645182573.760388,
           "unharvestable_ratio": 0.9653761559845118,
           "value": 645182573.760388,
           "variable": "unharvestable_pods"
          },
          {
           "harvestable_pods": 146629.44389700145,
           "harvested_pods": 22993263.391564,
           "season": 5125,
           "timestamp": "2022-03-08T00:00:01",
           "unharvestable_pods": 645182573.760388,
           "unharvestable_ratio": 0.9653761559845118,
           "value": 22993263.391564,
           "variable": "harvested_pods"
          },
          {
           "harvestable_pods": 146629.44389700145,
           "harvested_pods": 22993263.391564,
           "season": 5125,
           "timestamp": "2022-03-08T00:00:01",
           "unharvestable_pods": 645182573.760388,
           "unharvestable_ratio": 0.9653761559845118,
           "value": 146629.44389700145,
           "variable": "harvestable_pods"
          },
          {
           "harvestable_pods": 203376.44428499788,
           "harvested_pods": 22993263.391564,
           "season": 5149,
           "timestamp": "2022-03-09T00:00:04",
           "unharvestable_pods": 645790547.883266,
           "unharvestable_ratio": 0.9653257337932927,
           "value": 22993263.391564,
           "variable": "harvested_pods"
          },
          {
           "harvestable_pods": 203376.44428499788,
           "harvested_pods": 22993263.391564,
           "season": 5149,
           "timestamp": "2022-03-09T00:00:04",
           "unharvestable_pods": 645790547.883266,
           "unharvestable_ratio": 0.9653257337932927,
           "value": 203376.44428499788,
           "variable": "harvestable_pods"
          },
          {
           "harvestable_pods": 203376.44428499788,
           "harvested_pods": 22993263.391564,
           "season": 5149,
           "timestamp": "2022-03-09T00:00:04",
           "unharvestable_pods": 645790547.883266,
           "unharvestable_ratio": 0.9653257337932927,
           "value": 645790547.883266,
           "variable": "unharvestable_pods"
          },
          {
           "harvestable_pods": 203376.44428499788,
           "harvested_pods": 22993263.391564,
           "season": 5149,
           "timestamp": "2022-03-09T00:00:04",
           "unharvestable_pods": 645790547.883266,
           "unharvestable_ratio": 0.9653257337932927,
           "value": 0.9653257337932927,
           "variable": "unharvestable_ratio"
          },
          {
           "harvestable_pods": 229320.8824279979,
           "harvested_pods": 22993263.391564,
           "season": 5173,
           "timestamp": "2022-03-10T00:00:17",
           "unharvestable_pods": 647090589.982697,
           "unharvestable_ratio": 0.9653556200805041,
           "value": 0.9653556200805041,
           "variable": "unharvestable_ratio"
          },
          {
           "harvestable_pods": 229320.8824279979,
           "harvested_pods": 22993263.391564,
           "season": 5173,
           "timestamp": "2022-03-10T00:00:17",
           "unharvestable_pods": 647090589.982697,
           "unharvestable_ratio": 0.9653556200805041,
           "value": 229320.8824279979,
           "variable": "harvestable_pods"
          },
          {
           "harvestable_pods": 229320.8824279979,
           "harvested_pods": 22993263.391564,
           "season": 5173,
           "timestamp": "2022-03-10T00:00:17",
           "unharvestable_pods": 647090589.982697,
           "unharvestable_ratio": 0.9653556200805041,
           "value": 22993263.391564,
           "variable": "harvested_pods"
          },
          {
           "harvestable_pods": 229320.8824279979,
           "harvested_pods": 22993263.391564,
           "season": 5173,
           "timestamp": "2022-03-10T00:00:17",
           "unharvestable_pods": 647090589.982697,
           "unharvestable_ratio": 0.9653556200805041,
           "value": 647090589.982697,
           "variable": "unharvestable_pods"
          },
          {
           "harvestable_pods": 272723.10846599936,
           "harvested_pods": 22993263.391564,
           "season": 5197,
           "timestamp": "2022-03-11T00:00:09",
           "unharvestable_pods": 648042812.077786,
           "unharvestable_ratio": 0.9653423483360868,
           "value": 648042812.077786,
           "variable": "unharvestable_pods"
          },
          {
           "harvestable_pods": 272723.10846599936,
           "harvested_pods": 22993263.391564,
           "season": 5197,
           "timestamp": "2022-03-11T00:00:09",
           "unharvestable_pods": 648042812.077786,
           "unharvestable_ratio": 0.9653423483360868,
           "value": 22993263.391564,
           "variable": "harvested_pods"
          },
          {
           "harvestable_pods": 272723.10846599936,
           "harvested_pods": 22993263.391564,
           "season": 5197,
           "timestamp": "2022-03-11T00:00:09",
           "unharvestable_pods": 648042812.077786,
           "unharvestable_ratio": 0.9653423483360868,
           "value": 272723.10846599936,
           "variable": "harvestable_pods"
          },
          {
           "harvestable_pods": 272723.10846599936,
           "harvested_pods": 22993263.391564,
           "season": 5197,
           "timestamp": "2022-03-11T00:00:09",
           "unharvestable_pods": 648042812.077786,
           "unharvestable_ratio": 0.9653423483360868,
           "value": 0.9653423483360868,
           "variable": "unharvestable_ratio"
          },
          {
           "harvestable_pods": 340276.99687499925,
           "harvested_pods": 22993263.391564,
           "season": 5221,
           "timestamp": "2022-03-12T00:00:05",
           "unharvestable_pods": 648601288.498656,
           "unharvestable_ratio": 0.9652741019138931,
           "value": 648601288.498656,
           "variable": "unharvestable_pods"
          },
          {
           "harvestable_pods": 340276.99687499925,
           "harvested_pods": 22993263.391564,
           "season": 5221,
           "timestamp": "2022-03-12T00:00:05",
           "unharvestable_pods": 648601288.498656,
           "unharvestable_ratio": 0.9652741019138931,
           "value": 22993263.391564,
           "variable": "harvested_pods"
          },
          {
           "harvestable_pods": 340276.99687499925,
           "harvested_pods": 22993263.391564,
           "season": 5221,
           "timestamp": "2022-03-12T00:00:05",
           "unharvestable_pods": 648601288.498656,
           "unharvestable_ratio": 0.9652741019138931,
           "value": 340276.99687499925,
           "variable": "harvestable_pods"
          },
          {
           "harvestable_pods": 340276.99687499925,
           "harvested_pods": 22993263.391564,
           "season": 5221,
           "timestamp": "2022-03-12T00:00:05",
           "unharvestable_pods": 648601288.498656,
           "unharvestable_ratio": 0.9652741019138931,
           "value": 0.9652741019138931,
           "variable": "unharvestable_ratio"
          },
          {
           "harvestable_pods": 428860.91194200143,
           "harvested_pods": 22993263.391564,
           "season": 5245,
           "timestamp": "2022-03-13T00:00:01",
           "unharvestable_pods": 648657695.270716,
           "unharvestable_ratio": 0.9651497878357002,
           "value": 0.9651497878357002,
           "variable": "unharvestable_ratio"
          },
          {
           "harvestable_pods": 428860.91194200143,
           "harvested_pods": 22993263.391564,
           "season": 5245,
           "timestamp": "2022-03-13T00:00:01",
           "unharvestable_pods": 648657695.270716,
           "unharvestable_ratio": 0.9651497878357002,
           "value": 428860.91194200143,
           "variable": "harvestable_pods"
          },
          {
           "harvestable_pods": 428860.91194200143,
           "harvested_pods": 22993263.391564,
           "season": 5245,
           "timestamp": "2022-03-13T00:00:01",
           "unharvestable_pods": 648657695.270716,
           "unharvestable_ratio": 0.9651497878357002,
           "value": 648657695.270716,
           "variable": "unharvestable_pods"
          },
          {
           "harvestable_pods": 428860.91194200143,
           "harvested_pods": 22993263.391564,
           "season": 5245,
           "timestamp": "2022-03-13T00:00:01",
           "unharvestable_pods": 648657695.270716,
           "unharvestable_ratio": 0.9651497878357002,
           "value": 22993263.391564,
           "variable": "harvested_pods"
          },
          {
           "harvestable_pods": 551036.7292260006,
           "harvested_pods": 22993263.391564,
           "season": 5269,
           "timestamp": "2022-03-14T00:00:04",
           "unharvestable_pods": 648535519.452534,
           "unharvestable_ratio": 0.9649680001763223,
           "value": 648535519.452534,
           "variable": "unharvestable_pods"
          },
          {
           "harvestable_pods": 551036.7292260006,
           "harvested_pods": 22993263.391564,
           "season": 5269,
           "timestamp": "2022-03-14T00:00:04",
           "unharvestable_pods": 648535519.452534,
           "unharvestable_ratio": 0.9649680001763223,
           "value": 22993263.391564,
           "variable": "harvested_pods"
          },
          {
           "harvestable_pods": 551036.7292260006,
           "harvested_pods": 22993263.391564,
           "season": 5269,
           "timestamp": "2022-03-14T00:00:04",
           "unharvestable_pods": 648535519.452534,
           "unharvestable_ratio": 0.9649680001763223,
           "value": 551036.7292260006,
           "variable": "harvestable_pods"
          },
          {
           "harvestable_pods": 551036.7292260006,
           "harvested_pods": 22993263.391564,
           "season": 5269,
           "timestamp": "2022-03-14T00:00:04",
           "unharvestable_pods": 648535519.452534,
           "unharvestable_ratio": 0.9649680001763223,
           "value": 0.9649680001763223,
           "variable": "unharvestable_ratio"
          },
          {
           "harvestable_pods": 705589.8563390002,
           "harvested_pods": 22993263.391564,
           "season": 5293,
           "timestamp": "2022-03-15T00:00:14",
           "unharvestable_pods": 649568932.1028761,
           "unharvestable_ratio": 0.9648002566533677,
           "value": 0.9648002566533677,
           "variable": "unharvestable_ratio"
          },
          {
           "harvestable_pods": 705589.8563390002,
           "harvested_pods": 22993263.391564,
           "season": 5293,
           "timestamp": "2022-03-15T00:00:14",
           "unharvestable_pods": 649568932.1028761,
           "unharvestable_ratio": 0.9648002566533677,
           "value": 705589.8563390002,
           "variable": "harvestable_pods"
          },
          {
           "harvestable_pods": 705589.8563390002,
           "harvested_pods": 22993263.391564,
           "season": 5293,
           "timestamp": "2022-03-15T00:00:14",
           "unharvestable_pods": 649568932.1028761,
           "unharvestable_ratio": 0.9648002566533677,
           "value": 22993263.391564,
           "variable": "harvested_pods"
          },
          {
           "harvestable_pods": 705589.8563390002,
           "harvested_pods": 22993263.391564,
           "season": 5293,
           "timestamp": "2022-03-15T00:00:14",
           "unharvestable_pods": 649568932.1028761,
           "unharvestable_ratio": 0.9648002566533677,
           "value": 649568932.1028761,
           "variable": "unharvestable_pods"
          },
          {
           "harvestable_pods": 862084.918903999,
           "harvested_pods": 22993263.391564,
           "season": 5317,
           "timestamp": "2022-03-16T00:00:05",
           "unharvestable_pods": 649442663.3225371,
           "unharvestable_ratio": 0.9645694062683928,
           "value": 649442663.3225371,
           "variable": "unharvestable_pods"
          },
          {
           "harvestable_pods": 862084.918903999,
           "harvested_pods": 22993263.391564,
           "season": 5317,
           "timestamp": "2022-03-16T00:00:05",
           "unharvestable_pods": 649442663.3225371,
           "unharvestable_ratio": 0.9645694062683928,
           "value": 22993263.391564,
           "variable": "harvested_pods"
          },
          {
           "harvestable_pods": 862084.918903999,
           "harvested_pods": 22993263.391564,
           "season": 5317,
           "timestamp": "2022-03-16T00:00:05",
           "unharvestable_pods": 649442663.3225371,
           "unharvestable_ratio": 0.9645694062683928,
           "value": 862084.918903999,
           "variable": "harvestable_pods"
          },
          {
           "harvestable_pods": 862084.918903999,
           "harvested_pods": 22993263.391564,
           "season": 5317,
           "timestamp": "2022-03-16T00:00:05",
           "unharvestable_pods": 649442663.3225371,
           "unharvestable_ratio": 0.9645694062683928,
           "value": 0.9645694062683928,
           "variable": "unharvestable_ratio"
          },
          {
           "harvestable_pods": 900770.697900001,
           "harvested_pods": 23061551.310913,
           "season": 5341,
           "timestamp": "2022-03-17T00:00:07",
           "unharvestable_pods": 650003991.2034509,
           "unharvestable_ratio": 0.9644458164465171,
           "value": 900770.697900001,
           "variable": "harvestable_pods"
          },
          {
           "harvestable_pods": 900770.697900001,
           "harvested_pods": 23061551.310913,
           "season": 5341,
           "timestamp": "2022-03-17T00:00:07",
           "unharvestable_pods": 650003991.2034509,
           "unharvestable_ratio": 0.9644458164465171,
           "value": 0.9644458164465171,
           "variable": "unharvestable_ratio"
          },
          {
           "harvestable_pods": 900770.697900001,
           "harvested_pods": 23061551.310913,
           "season": 5341,
           "timestamp": "2022-03-17T00:00:07",
           "unharvestable_pods": 650003991.2034509,
           "unharvestable_ratio": 0.9644458164465171,
           "value": 650003991.2034509,
           "variable": "unharvestable_pods"
          },
          {
           "harvestable_pods": 900770.697900001,
           "harvested_pods": 23061551.310913,
           "season": 5341,
           "timestamp": "2022-03-17T00:00:07",
           "unharvestable_pods": 650003991.2034509,
           "unharvestable_ratio": 0.9644458164465171,
           "value": 23061551.310913,
           "variable": "harvested_pods"
          },
          {
           "harvestable_pods": 145718.8239319995,
           "harvested_pods": 23922199.109166,
           "season": 5365,
           "timestamp": "2022-03-18T00:00:08",
           "unharvestable_pods": 650153350.6702,
           "unharvestable_ratio": 0.9643026420941058,
           "value": 650153350.6702,
           "variable": "unharvestable_pods"
          },
          {
           "harvestable_pods": 145718.8239319995,
           "harvested_pods": 23922199.109166,
           "season": 5365,
           "timestamp": "2022-03-18T00:00:08",
           "unharvestable_pods": 650153350.6702,
           "unharvestable_ratio": 0.9643026420941058,
           "value": 23922199.109166,
           "variable": "harvested_pods"
          },
          {
           "harvestable_pods": 145718.8239319995,
           "harvested_pods": 23922199.109166,
           "season": 5365,
           "timestamp": "2022-03-18T00:00:08",
           "unharvestable_pods": 650153350.6702,
           "unharvestable_ratio": 0.9643026420941058,
           "value": 145718.8239319995,
           "variable": "harvestable_pods"
          },
          {
           "harvestable_pods": 145718.8239319995,
           "harvested_pods": 23922199.109166,
           "season": 5365,
           "timestamp": "2022-03-18T00:00:08",
           "unharvestable_pods": 650153350.6702,
           "unharvestable_ratio": 0.9643026420941058,
           "value": 0.9643026420941058,
           "variable": "unharvestable_ratio"
          },
          {
           "harvestable_pods": 120708.27456500009,
           "harvested_pods": 23999045.529753,
           "season": 5389,
           "timestamp": "2022-03-19T00:00:09",
           "unharvestable_pods": 651838813.530128,
           "unharvestable_ratio": 0.9643177038210625,
           "value": 0.9643177038210625,
           "variable": "unharvestable_ratio"
          },
          {
           "harvestable_pods": 120708.27456500009,
           "harvested_pods": 23999045.529753,
           "season": 5389,
           "timestamp": "2022-03-19T00:00:09",
           "unharvestable_pods": 651838813.530128,
           "unharvestable_ratio": 0.9643177038210625,
           "value": 651838813.530128,
           "variable": "unharvestable_pods"
          },
          {
           "harvestable_pods": 120708.27456500009,
           "harvested_pods": 23999045.529753,
           "season": 5389,
           "timestamp": "2022-03-19T00:00:09",
           "unharvestable_pods": 651838813.530128,
           "unharvestable_ratio": 0.9643177038210625,
           "value": 23999045.529753,
           "variable": "harvested_pods"
          },
          {
           "harvestable_pods": 120708.27456500009,
           "harvested_pods": 23999045.529753,
           "season": 5389,
           "timestamp": "2022-03-19T00:00:09",
           "unharvestable_pods": 651838813.530128,
           "unharvestable_ratio": 0.9643177038210625,
           "value": 120708.27456500009,
           "variable": "harvestable_pods"
          },
          {
           "harvestable_pods": 117900.37945700064,
           "harvested_pods": 24022373.793534,
           "season": 5413,
           "timestamp": "2022-03-20T00:00:11",
           "unharvestable_pods": 653337659.0792639,
           "unharvestable_ratio": 0.9643674384240017,
           "value": 117900.37945700064,
           "variable": "harvestable_pods"
          },
          {
           "harvestable_pods": 117900.37945700064,
           "harvested_pods": 24022373.793534,
           "season": 5413,
           "timestamp": "2022-03-20T00:00:11",
           "unharvestable_pods": 653337659.0792639,
           "unharvestable_ratio": 0.9643674384240017,
           "value": 0.9643674384240017,
           "variable": "unharvestable_ratio"
          },
          {
           "harvestable_pods": 117900.37945700064,
           "harvested_pods": 24022373.793534,
           "season": 5413,
           "timestamp": "2022-03-20T00:00:11",
           "unharvestable_pods": 653337659.0792639,
           "unharvestable_ratio": 0.9643674384240017,
           "value": 653337659.0792639,
           "variable": "unharvestable_pods"
          },
          {
           "harvestable_pods": 117900.37945700064,
           "harvested_pods": 24022373.793534,
           "season": 5413,
           "timestamp": "2022-03-20T00:00:11",
           "unharvestable_pods": 653337659.0792639,
           "unharvestable_ratio": 0.9643674384240017,
           "value": 24022373.793534,
           "variable": "harvested_pods"
          },
          {
           "harvestable_pods": 120307.10878999904,
           "harvested_pods": 24085507.743794,
           "season": 5437,
           "timestamp": "2022-03-21T00:00:14",
           "unharvestable_pods": 655766880.89617,
           "unharvestable_ratio": 0.9644017840658592,
           "value": 655766880.89617,
           "variable": "unharvestable_pods"
          },
          {
           "harvestable_pods": 120307.10878999904,
           "harvested_pods": 24085507.743794,
           "season": 5437,
           "timestamp": "2022-03-21T00:00:14",
           "unharvestable_pods": 655766880.89617,
           "unharvestable_ratio": 0.9644017840658592,
           "value": 24085507.743794,
           "variable": "harvested_pods"
          },
          {
           "harvestable_pods": 120307.10878999904,
           "harvested_pods": 24085507.743794,
           "season": 5437,
           "timestamp": "2022-03-21T00:00:14",
           "unharvestable_pods": 655766880.89617,
           "unharvestable_ratio": 0.9644017840658592,
           "value": 120307.10878999904,
           "variable": "harvestable_pods"
          },
          {
           "harvestable_pods": 120307.10878999904,
           "harvested_pods": 24085507.743794,
           "season": 5437,
           "timestamp": "2022-03-21T00:00:14",
           "unharvestable_pods": 655766880.89617,
           "unharvestable_ratio": 0.9644017840658592,
           "value": 0.9644017840658592,
           "variable": "unharvestable_ratio"
          },
          {
           "harvestable_pods": 171068.75337700173,
           "harvested_pods": 24128567.883227,
           "season": 5461,
           "timestamp": "2022-03-22T00:00:02",
           "unharvestable_pods": 656158858.072695,
           "unharvestable_ratio": 0.9642893184146594,
           "value": 171068.75337700173,
           "variable": "harvestable_pods"
          },
          {
           "harvestable_pods": 171068.75337700173,
           "harvested_pods": 24128567.883227,
           "season": 5461,
           "timestamp": "2022-03-22T00:00:02",
           "unharvestable_pods": 656158858.072695,
           "unharvestable_ratio": 0.9642893184146594,
           "value": 0.9642893184146594,
           "variable": "unharvestable_ratio"
          },
          {
           "harvestable_pods": 171068.75337700173,
           "harvested_pods": 24128567.883227,
           "season": 5461,
           "timestamp": "2022-03-22T00:00:02",
           "unharvestable_pods": 656158858.072695,
           "unharvestable_ratio": 0.9642893184146594,
           "value": 656158858.072695,
           "variable": "unharvestable_pods"
          },
          {
           "harvestable_pods": 171068.75337700173,
           "harvested_pods": 24128567.883227,
           "season": 5461,
           "timestamp": "2022-03-22T00:00:02",
           "unharvestable_pods": 656158858.072695,
           "unharvestable_ratio": 0.9642893184146594,
           "value": 24128567.883227,
           "variable": "harvested_pods"
          },
          {
           "harvestable_pods": 127458.13851400092,
           "harvested_pods": 24265460.731187,
           "season": 5485,
           "timestamp": "2022-03-23T00:00:07",
           "unharvestable_pods": 656068378.4768419,
           "unharvestable_ratio": 0.9641523787395093,
           "value": 656068378.4768419,
           "variable": "unharvestable_pods"
          },
          {
           "harvestable_pods": 127458.13851400092,
           "harvested_pods": 24265460.731187,
           "season": 5485,
           "timestamp": "2022-03-23T00:00:07",
           "unharvestable_pods": 656068378.4768419,
           "unharvestable_ratio": 0.9641523787395093,
           "value": 24265460.731187,
           "variable": "harvested_pods"
          },
          {
           "harvestable_pods": 127458.13851400092,
           "harvested_pods": 24265460.731187,
           "season": 5485,
           "timestamp": "2022-03-23T00:00:07",
           "unharvestable_pods": 656068378.4768419,
           "unharvestable_ratio": 0.9641523787395093,
           "value": 127458.13851400092,
           "variable": "harvestable_pods"
          },
          {
           "harvestable_pods": 127458.13851400092,
           "harvested_pods": 24265460.731187,
           "season": 5485,
           "timestamp": "2022-03-23T00:00:07",
           "unharvestable_pods": 656068378.4768419,
           "unharvestable_ratio": 0.9641523787395093,
           "value": 0.9641523787395093,
           "variable": "unharvestable_ratio"
          },
          {
           "harvestable_pods": 143547.33602999896,
           "harvested_pods": 24385303.532868,
           "season": 5509,
           "timestamp": "2022-03-24T00:00:59",
           "unharvestable_pods": 655920629.312904,
           "unharvestable_ratio": 0.9639519882323307,
           "value": 0.9639519882323307,
           "variable": "unharvestable_ratio"
          },
          {
           "harvestable_pods": 143547.33602999896,
           "harvested_pods": 24385303.532868,
           "season": 5509,
           "timestamp": "2022-03-24T00:00:59",
           "unharvestable_pods": 655920629.312904,
           "unharvestable_ratio": 0.9639519882323307,
           "value": 655920629.312904,
           "variable": "unharvestable_pods"
          },
          {
           "harvestable_pods": 143547.33602999896,
           "harvested_pods": 24385303.532868,
           "season": 5509,
           "timestamp": "2022-03-24T00:00:59",
           "unharvestable_pods": 655920629.312904,
           "unharvestable_ratio": 0.9639519882323307,
           "value": 24385303.532868,
           "variable": "harvested_pods"
          },
          {
           "harvestable_pods": 143547.33602999896,
           "harvested_pods": 24385303.532868,
           "season": 5509,
           "timestamp": "2022-03-24T00:00:59",
           "unharvestable_pods": 655920629.312904,
           "unharvestable_ratio": 0.9639519882323307,
           "value": 143547.33602999896,
           "variable": "harvestable_pods"
          },
          {
           "harvestable_pods": 151617.74227000028,
           "harvested_pods": 24497604.624926,
           "season": 5533,
           "timestamp": "2022-03-25T00:00:02",
           "unharvestable_pods": 655799852.9873941,
           "unharvestable_ratio": 0.9637750667023084,
           "value": 151617.74227000028,
           "variable": "harvestable_pods"
          },
          {
           "harvestable_pods": 151617.74227000028,
           "harvested_pods": 24497604.624926,
           "season": 5533,
           "timestamp": "2022-03-25T00:00:02",
           "unharvestable_pods": 655799852.9873941,
           "unharvestable_ratio": 0.9637750667023084,
           "value": 0.9637750667023084,
           "variable": "unharvestable_ratio"
          },
          {
           "harvestable_pods": 151617.74227000028,
           "harvested_pods": 24497604.624926,
           "season": 5533,
           "timestamp": "2022-03-25T00:00:02",
           "unharvestable_pods": 655799852.9873941,
           "unharvestable_ratio": 0.9637750667023084,
           "value": 655799852.9873941,
           "variable": "unharvestable_pods"
          },
          {
           "harvestable_pods": 151617.74227000028,
           "harvested_pods": 24497604.624926,
           "season": 5533,
           "timestamp": "2022-03-25T00:00:02",
           "unharvestable_pods": 655799852.9873941,
           "unharvestable_ratio": 0.9637750667023084,
           "value": 24497604.624926,
           "variable": "harvested_pods"
          },
          {
           "harvestable_pods": 257038.41843499988,
           "harvested_pods": 24517434.240243,
           "season": 5557,
           "timestamp": "2022-03-26T00:00:19",
           "unharvestable_pods": 655669185.786973,
           "unharvestable_ratio": 0.96359070681139,
           "value": 655669185.786973,
           "variable": "unharvestable_pods"
          },
          {
           "harvestable_pods": 257038.41843499988,
           "harvested_pods": 24517434.240243,
           "season": 5557,
           "timestamp": "2022-03-26T00:00:19",
           "unharvestable_pods": 655669185.786973,
           "unharvestable_ratio": 0.96359070681139,
           "value": 24517434.240243,
           "variable": "harvested_pods"
          },
          {
           "harvestable_pods": 257038.41843499988,
           "harvested_pods": 24517434.240243,
           "season": 5557,
           "timestamp": "2022-03-26T00:00:19",
           "unharvestable_pods": 655669185.786973,
           "unharvestable_ratio": 0.96359070681139,
           "value": 257038.41843499988,
           "variable": "harvestable_pods"
          },
          {
           "harvestable_pods": 257038.41843499988,
           "harvested_pods": 24517434.240243,
           "season": 5557,
           "timestamp": "2022-03-26T00:00:19",
           "unharvestable_pods": 655669185.786973,
           "unharvestable_ratio": 0.96359070681139,
           "value": 0.96359070681139,
           "variable": "unharvestable_ratio"
          },
          {
           "harvestable_pods": 160378.89624200016,
           "harvested_pods": 24743601.480617,
           "season": 5581,
           "timestamp": "2022-03-27T00:00:05",
           "unharvestable_pods": 655538894.2027601,
           "unharvestable_ratio": 0.9634003362997302,
           "value": 655538894.2027601,
           "variable": "unharvestable_pods"
          },
          {
           "harvestable_pods": 160378.89624200016,
           "harvested_pods": 24743601.480617,
           "season": 5581,
           "timestamp": "2022-03-27T00:00:05",
           "unharvestable_pods": 655538894.2027601,
           "unharvestable_ratio": 0.9634003362997302,
           "value": 24743601.480617,
           "variable": "harvested_pods"
          },
          {
           "harvestable_pods": 160378.89624200016,
           "harvested_pods": 24743601.480617,
           "season": 5581,
           "timestamp": "2022-03-27T00:00:05",
           "unharvestable_pods": 655538894.2027601,
           "unharvestable_ratio": 0.9634003362997302,
           "value": 160378.89624200016,
           "variable": "harvestable_pods"
          },
          {
           "harvestable_pods": 160378.89624200016,
           "harvested_pods": 24743601.480617,
           "season": 5581,
           "timestamp": "2022-03-27T00:00:05",
           "unharvestable_pods": 655538894.2027601,
           "unharvestable_ratio": 0.9634003362997302,
           "value": 0.9634003362997302,
           "variable": "unharvestable_ratio"
          },
          {
           "harvestable_pods": 253435.71094099805,
           "harvested_pods": 24830543.365786,
           "season": 5605,
           "timestamp": "2022-03-28T00:01:21",
           "unharvestable_pods": 655348419.0035139,
           "unharvestable_ratio": 0.9631352370235479,
           "value": 0.9631352370235479,
           "variable": "unharvestable_ratio"
          },
          {
           "harvestable_pods": 253435.71094099805,
           "harvested_pods": 24830543.365786,
           "season": 5605,
           "timestamp": "2022-03-28T00:01:21",
           "unharvestable_pods": 655348419.0035139,
           "unharvestable_ratio": 0.9631352370235479,
           "value": 253435.71094099805,
           "variable": "harvestable_pods"
          },
          {
           "harvestable_pods": 253435.71094099805,
           "harvested_pods": 24830543.365786,
           "season": 5605,
           "timestamp": "2022-03-28T00:01:21",
           "unharvestable_pods": 655348419.0035139,
           "unharvestable_ratio": 0.9631352370235479,
           "value": 24830543.365786,
           "variable": "harvested_pods"
          },
          {
           "harvestable_pods": 253435.71094099805,
           "harvested_pods": 24830543.365786,
           "season": 5605,
           "timestamp": "2022-03-28T00:01:21",
           "unharvestable_pods": 655348419.0035139,
           "unharvestable_ratio": 0.9631352370235479,
           "value": 655348419.0035139,
           "variable": "unharvestable_pods"
          },
          {
           "harvestable_pods": 222344.99606399983,
           "harvested_pods": 25035988.350535,
           "season": 5629,
           "timestamp": "2022-03-29T00:00:19",
           "unharvestable_pods": 655170881.922768,
           "unharvestable_ratio": 0.9628788229844014,
           "value": 655170881.922768,
           "variable": "unharvestable_pods"
          },
          {
           "harvestable_pods": 222344.99606399983,
           "harvested_pods": 25035988.350535,
           "season": 5629,
           "timestamp": "2022-03-29T00:00:19",
           "unharvestable_pods": 655170881.922768,
           "unharvestable_ratio": 0.9628788229844014,
           "value": 25035988.350535,
           "variable": "harvested_pods"
          },
          {
           "harvestable_pods": 222344.99606399983,
           "harvested_pods": 25035988.350535,
           "season": 5629,
           "timestamp": "2022-03-29T00:00:19",
           "unharvestable_pods": 655170881.922768,
           "unharvestable_ratio": 0.9628788229844014,
           "value": 222344.99606399983,
           "variable": "harvestable_pods"
          },
          {
           "harvestable_pods": 222344.99606399983,
           "harvested_pods": 25035988.350535,
           "season": 5629,
           "timestamp": "2022-03-29T00:00:19",
           "unharvestable_pods": 655170881.922768,
           "unharvestable_ratio": 0.9628788229844014,
           "value": 0.9628788229844014,
           "variable": "unharvestable_ratio"
          },
          {
           "harvestable_pods": 382581.4013170004,
           "harvested_pods": 25087871.933574,
           "season": 5653,
           "timestamp": "2022-03-30T00:00:24",
           "unharvestable_pods": 656789450.138268,
           "unharvestable_ratio": 0.9626675212697839,
           "value": 0.9626675212697839,
           "variable": "unharvestable_ratio"
          },
          {
           "harvestable_pods": 382581.4013170004,
           "harvested_pods": 25087871.933574,
           "season": 5653,
           "timestamp": "2022-03-30T00:00:24",
           "unharvestable_pods": 656789450.138268,
           "unharvestable_ratio": 0.9626675212697839,
           "value": 656789450.138268,
           "variable": "unharvestable_pods"
          },
          {
           "harvestable_pods": 382581.4013170004,
           "harvested_pods": 25087871.933574,
           "season": 5653,
           "timestamp": "2022-03-30T00:00:24",
           "unharvestable_pods": 656789450.138268,
           "unharvestable_ratio": 0.9626675212697839,
           "value": 25087871.933574,
           "variable": "harvested_pods"
          },
          {
           "harvestable_pods": 382581.4013170004,
           "harvested_pods": 25087871.933574,
           "season": 5653,
           "timestamp": "2022-03-30T00:00:24",
           "unharvestable_pods": 656789450.138268,
           "unharvestable_ratio": 0.9626675212697839,
           "value": 382581.4013170004,
           "variable": "harvestable_pods"
          },
          {
           "harvestable_pods": 387374.53076300025,
           "harvested_pods": 25260343.623763,
           "season": 5677,
           "timestamp": "2022-03-31T00:00:03",
           "unharvestable_pods": 656604105.775028,
           "unharvestable_ratio": 0.962407256008781,
           "value": 387374.53076300025,
           "variable": "harvestable_pods"
          },
          {
           "harvestable_pods": 387374.53076300025,
           "harvested_pods": 25260343.623763,
           "season": 5677,
           "timestamp": "2022-03-31T00:00:03",
           "unharvestable_pods": 656604105.775028,
           "unharvestable_ratio": 0.962407256008781,
           "value": 0.962407256008781,
           "variable": "unharvestable_ratio"
          },
          {
           "harvestable_pods": 387374.53076300025,
           "harvested_pods": 25260343.623763,
           "season": 5677,
           "timestamp": "2022-03-31T00:00:03",
           "unharvestable_pods": 656604105.775028,
           "unharvestable_ratio": 0.962407256008781,
           "value": 656604105.775028,
           "variable": "unharvestable_pods"
          },
          {
           "harvestable_pods": 387374.53076300025,
           "harvested_pods": 25260343.623763,
           "season": 5677,
           "timestamp": "2022-03-31T00:00:03",
           "unharvestable_pods": 656604105.775028,
           "unharvestable_ratio": 0.962407256008781,
           "value": 25260343.623763,
           "variable": "harvested_pods"
          },
          {
           "harvestable_pods": 357290.99630500004,
           "harvested_pods": 25473447.969591,
           "season": 5701,
           "timestamp": "2022-04-01T00:00:21",
           "unharvestable_pods": 656418532.534335,
           "unharvestable_ratio": 0.9621388544555048,
           "value": 656418532.534335,
           "variable": "unharvestable_pods"
          },
          {
           "harvestable_pods": 357290.99630500004,
           "harvested_pods": 25473447.969591,
           "season": 5701,
           "timestamp": "2022-04-01T00:00:21",
           "unharvestable_pods": 656418532.534335,
           "unharvestable_ratio": 0.9621388544555048,
           "value": 25473447.969591,
           "variable": "harvested_pods"
          },
          {
           "harvestable_pods": 357290.99630500004,
           "harvested_pods": 25473447.969591,
           "season": 5701,
           "timestamp": "2022-04-01T00:00:21",
           "unharvestable_pods": 656418532.534335,
           "unharvestable_ratio": 0.9621388544555048,
           "value": 357290.99630500004,
           "variable": "harvestable_pods"
          },
          {
           "harvestable_pods": 357290.99630500004,
           "harvested_pods": 25473447.969591,
           "season": 5701,
           "timestamp": "2022-04-01T00:00:21",
           "unharvestable_pods": 656418532.534335,
           "unharvestable_ratio": 0.9621388544555048,
           "value": 0.9621388544555048,
           "variable": "unharvestable_ratio"
          },
          {
           "harvestable_pods": 551342.0708459988,
           "harvested_pods": 25569345.837924,
           "season": 5725,
           "timestamp": "2022-04-02T00:00:09",
           "unharvestable_pods": 656126060.1160561,
           "unharvestable_ratio": 0.9617137231003416,
           "value": 656126060.1160561,
           "variable": "unharvestable_pods"
          },
          {
           "harvestable_pods": 551342.0708459988,
           "harvested_pods": 25569345.837924,
           "season": 5725,
           "timestamp": "2022-04-02T00:00:09",
           "unharvestable_pods": 656126060.1160561,
           "unharvestable_ratio": 0.9617137231003416,
           "value": 25569345.837924,
           "variable": "harvested_pods"
          },
          {
           "harvestable_pods": 551342.0708459988,
           "harvested_pods": 25569345.837924,
           "season": 5725,
           "timestamp": "2022-04-02T00:00:09",
           "unharvestable_pods": 656126060.1160561,
           "unharvestable_ratio": 0.9617137231003416,
           "value": 551342.0708459988,
           "variable": "harvestable_pods"
          },
          {
           "harvestable_pods": 551342.0708459988,
           "harvested_pods": 25569345.837924,
           "season": 5725,
           "timestamp": "2022-04-02T00:00:09",
           "unharvestable_pods": 656126060.1160561,
           "unharvestable_ratio": 0.9617137231003416,
           "value": 0.9617137231003416,
           "variable": "unharvestable_ratio"
          },
          {
           "harvestable_pods": 525253.2166419998,
           "harvested_pods": 25905267.403178,
           "season": 5749,
           "timestamp": "2022-04-03T00:00:06",
           "unharvestable_pods": 655812498.244249,
           "unharvestable_ratio": 0.9612593754878919,
           "value": 0.9612593754878919,
           "variable": "unharvestable_ratio"
          },
          {
           "harvestable_pods": 525253.2166419998,
           "harvested_pods": 25905267.403178,
           "season": 5749,
           "timestamp": "2022-04-03T00:00:06",
           "unharvestable_pods": 655812498.244249,
           "unharvestable_ratio": 0.9612593754878919,
           "value": 525253.2166419998,
           "variable": "harvestable_pods"
          },
          {
           "harvestable_pods": 525253.2166419998,
           "harvested_pods": 25905267.403178,
           "season": 5749,
           "timestamp": "2022-04-03T00:00:06",
           "unharvestable_pods": 655812498.244249,
           "unharvestable_ratio": 0.9612593754878919,
           "value": 655812498.244249,
           "variable": "unharvestable_pods"
          },
          {
           "harvestable_pods": 525253.2166419998,
           "harvested_pods": 25905267.403178,
           "season": 5749,
           "timestamp": "2022-04-03T00:00:06",
           "unharvestable_pods": 655812498.244249,
           "unharvestable_ratio": 0.9612593754878919,
           "value": 25905267.403178,
           "variable": "harvested_pods"
          },
          {
           "harvestable_pods": 779909.068744,
           "harvested_pods": 26015980.205595,
           "season": 5773,
           "timestamp": "2022-04-04T00:00:00",
           "unharvestable_pods": 655445336.151811,
           "unharvestable_ratio": 0.9607237319064069,
           "value": 0.9607237319064069,
           "variable": "unharvestable_ratio"
          },
          {
           "harvestable_pods": 779909.068744,
           "harvested_pods": 26015980.205595,
           "season": 5773,
           "timestamp": "2022-04-04T00:00:00",
           "unharvestable_pods": 655445336.151811,
           "unharvestable_ratio": 0.9607237319064069,
           "value": 655445336.151811,
           "variable": "unharvestable_pods"
          },
          {
           "harvestable_pods": 779909.068744,
           "harvested_pods": 26015980.205595,
           "season": 5773,
           "timestamp": "2022-04-04T00:00:00",
           "unharvestable_pods": 655445336.151811,
           "unharvestable_ratio": 0.9607237319064069,
           "value": 26015980.205595,
           "variable": "harvested_pods"
          },
          {
           "harvestable_pods": 779909.068744,
           "harvested_pods": 26015980.205595,
           "season": 5773,
           "timestamp": "2022-04-04T00:00:00",
           "unharvestable_pods": 655445336.151811,
           "unharvestable_ratio": 0.9607237319064069,
           "value": 779909.068744,
           "variable": "harvestable_pods"
          },
          {
           "harvestable_pods": 348555.41450500116,
           "harvested_pods": 26651672.397288,
           "season": 5797,
           "timestamp": "2022-04-05T00:00:21",
           "unharvestable_pods": 655238795.501984,
           "unharvestable_ratio": 0.9604240934787822,
           "value": 348555.41450500116,
           "variable": "harvestable_pods"
          },
          {
           "harvestable_pods": 348555.41450500116,
           "harvested_pods": 26651672.397288,
           "season": 5797,
           "timestamp": "2022-04-05T00:00:21",
           "unharvestable_pods": 655238795.501984,
           "unharvestable_ratio": 0.9604240934787822,
           "value": 0.9604240934787822,
           "variable": "unharvestable_ratio"
          },
          {
           "harvestable_pods": 348555.41450500116,
           "harvested_pods": 26651672.397288,
           "season": 5797,
           "timestamp": "2022-04-05T00:00:21",
           "unharvestable_pods": 655238795.501984,
           "unharvestable_ratio": 0.9604240934787822,
           "value": 655238795.501984,
           "variable": "unharvestable_pods"
          },
          {
           "harvestable_pods": 348555.41450500116,
           "harvested_pods": 26651672.397288,
           "season": 5797,
           "timestamp": "2022-04-05T00:00:21",
           "unharvestable_pods": 655238795.501984,
           "unharvestable_ratio": 0.9604240934787822,
           "value": 26651672.397288,
           "variable": "harvested_pods"
          },
          {
           "harvestable_pods": 279246.4609909989,
           "harvested_pods": 26906015.33346,
           "season": 5821,
           "timestamp": "2022-04-06T00:00:27",
           "unharvestable_pods": 655053281.944697,
           "unharvestable_ratio": 0.9601528496976195,
           "value": 0.9601528496976195,
           "variable": "unharvestable_ratio"
          },
          {
           "harvestable_pods": 279246.4609909989,
           "harvested_pods": 26906015.33346,
           "season": 5821,
           "timestamp": "2022-04-06T00:00:27",
           "unharvestable_pods": 655053281.944697,
           "unharvestable_ratio": 0.9601528496976195,
           "value": 279246.4609909989,
           "variable": "harvestable_pods"
          },
          {
           "harvestable_pods": 279246.4609909989,
           "harvested_pods": 26906015.33346,
           "season": 5821,
           "timestamp": "2022-04-06T00:00:27",
           "unharvestable_pods": 655053281.944697,
           "unharvestable_ratio": 0.9601528496976195,
           "value": 655053281.944697,
           "variable": "unharvestable_pods"
          },
          {
           "harvestable_pods": 279246.4609909989,
           "harvested_pods": 26906015.33346,
           "season": 5821,
           "timestamp": "2022-04-06T00:00:27",
           "unharvestable_pods": 655053281.944697,
           "unharvestable_ratio": 0.9601528496976195,
           "value": 26906015.33346,
           "variable": "harvested_pods"
          },
          {
           "harvestable_pods": 359804.7133760005,
           "harvested_pods": 27095623.667981,
           "season": 5845,
           "timestamp": "2022-04-07T00:01:08",
           "unharvestable_pods": 654777482.7901491,
           "unharvestable_ratio": 0.9597565172659122,
           "value": 654777482.7901491,
           "variable": "unharvestable_pods"
          },
          {
           "harvestable_pods": 359804.7133760005,
           "harvested_pods": 27095623.667981,
           "season": 5845,
           "timestamp": "2022-04-07T00:01:08",
           "unharvestable_pods": 654777482.7901491,
           "unharvestable_ratio": 0.9597565172659122,
           "value": 27095623.667981,
           "variable": "harvested_pods"
          },
          {
           "harvestable_pods": 359804.7133760005,
           "harvested_pods": 27095623.667981,
           "season": 5845,
           "timestamp": "2022-04-07T00:01:08",
           "unharvestable_pods": 654777482.7901491,
           "unharvestable_ratio": 0.9597565172659122,
           "value": 359804.7133760005,
           "variable": "harvestable_pods"
          },
          {
           "harvestable_pods": 359804.7133760005,
           "harvested_pods": 27095623.667981,
           "season": 5845,
           "timestamp": "2022-04-07T00:01:08",
           "unharvestable_pods": 654777482.7901491,
           "unharvestable_ratio": 0.9597565172659122,
           "value": 0.9597565172659122,
           "variable": "unharvestable_ratio"
          },
          {
           "harvestable_pods": 386225.94682599977,
           "harvested_pods": 27262501.864033,
           "season": 5869,
           "timestamp": "2022-04-08T00:00:13",
           "unharvestable_pods": 654581955.580975,
           "unharvestable_ratio": 0.9594730514414885,
           "value": 27262501.864033,
           "variable": "harvested_pods"
          },
          {
           "harvestable_pods": 386225.94682599977,
           "harvested_pods": 27262501.864033,
           "season": 5869,
           "timestamp": "2022-04-08T00:00:13",
           "unharvestable_pods": 654581955.580975,
           "unharvestable_ratio": 0.9594730514414885,
           "value": 654581955.580975,
           "variable": "unharvestable_pods"
          },
          {
           "harvestable_pods": 386225.94682599977,
           "harvested_pods": 27262501.864033,
           "season": 5869,
           "timestamp": "2022-04-08T00:00:13",
           "unharvestable_pods": 654581955.580975,
           "unharvestable_ratio": 0.9594730514414885,
           "value": 386225.94682599977,
           "variable": "harvestable_pods"
          },
          {
           "harvestable_pods": 386225.94682599977,
           "harvested_pods": 27262501.864033,
           "season": 5869,
           "timestamp": "2022-04-08T00:00:13",
           "unharvestable_pods": 654581955.580975,
           "unharvestable_ratio": 0.9594730514414885,
           "value": 0.9594730514414885,
           "variable": "unharvestable_ratio"
          },
          {
           "harvestable_pods": 386377.81337400153,
           "harvested_pods": 27710846.347326,
           "season": 5893,
           "timestamp": "2022-04-09T00:00:00",
           "unharvestable_pods": 654130084.827446,
           "unharvestable_ratio": 0.9588154508174516,
           "value": 0.9588154508174516,
           "variable": "unharvestable_ratio"
          },
          {
           "harvestable_pods": 386377.81337400153,
           "harvested_pods": 27710846.347326,
           "season": 5893,
           "timestamp": "2022-04-09T00:00:00",
           "unharvestable_pods": 654130084.827446,
           "unharvestable_ratio": 0.9588154508174516,
           "value": 386377.81337400153,
           "variable": "harvestable_pods"
          },
          {
           "harvestable_pods": 386377.81337400153,
           "harvested_pods": 27710846.347326,
           "season": 5893,
           "timestamp": "2022-04-09T00:00:00",
           "unharvestable_pods": 654130084.827446,
           "unharvestable_ratio": 0.9588154508174516,
           "value": 654130084.827446,
           "variable": "unharvestable_pods"
          },
          {
           "harvestable_pods": 386377.81337400153,
           "harvested_pods": 27710846.347326,
           "season": 5893,
           "timestamp": "2022-04-09T00:00:00",
           "unharvestable_pods": 654130084.827446,
           "unharvestable_ratio": 0.9588154508174516,
           "value": 27710846.347326,
           "variable": "harvested_pods"
          },
          {
           "harvestable_pods": 609530.5459400006,
           "harvested_pods": 27999158.687811,
           "season": 5917,
           "timestamp": "2022-04-10T00:02:19",
           "unharvestable_pods": 653617127.601748,
           "unharvestable_ratio": 0.9580656601849923,
           "value": 653617127.601748,
           "variable": "unharvestable_pods"
          },
          {
           "harvestable_pods": 609530.5459400006,
           "harvested_pods": 27999158.687811,
           "season": 5917,
           "timestamp": "2022-04-10T00:02:19",
           "unharvestable_pods": 653617127.601748,
           "unharvestable_ratio": 0.9580656601849923,
           "value": 27999158.687811,
           "variable": "harvested_pods"
          },
          {
           "harvestable_pods": 609530.5459400006,
           "harvested_pods": 27999158.687811,
           "season": 5917,
           "timestamp": "2022-04-10T00:02:19",
           "unharvestable_pods": 653617127.601748,
           "unharvestable_ratio": 0.9580656601849923,
           "value": 609530.5459400006,
           "variable": "harvestable_pods"
          },
          {
           "harvestable_pods": 609530.5459400006,
           "harvested_pods": 27999158.687811,
           "season": 5917,
           "timestamp": "2022-04-10T00:02:19",
           "unharvestable_pods": 653617127.601748,
           "unharvestable_ratio": 0.9580656601849923,
           "value": 0.9580656601849923,
           "variable": "unharvestable_ratio"
          },
          {
           "harvestable_pods": 591609.8118400015,
           "harvested_pods": 28679145.061848,
           "season": 5941,
           "timestamp": "2022-04-11T00:00:03",
           "unharvestable_pods": 652954000.620748,
           "unharvestable_ratio": 0.957095144029955,
           "value": 591609.8118400015,
           "variable": "harvestable_pods"
          },
          {
           "harvestable_pods": 591609.8118400015,
           "harvested_pods": 28679145.061848,
           "season": 5941,
           "timestamp": "2022-04-11T00:00:03",
           "unharvestable_pods": 652954000.620748,
           "unharvestable_ratio": 0.957095144029955,
           "value": 0.957095144029955,
           "variable": "unharvestable_ratio"
          },
          {
           "harvestable_pods": 591609.8118400015,
           "harvested_pods": 28679145.061848,
           "season": 5941,
           "timestamp": "2022-04-11T00:00:03",
           "unharvestable_pods": 652954000.620748,
           "unharvestable_ratio": 0.957095144029955,
           "value": 28679145.061848,
           "variable": "harvested_pods"
          },
          {
           "harvestable_pods": 591609.8118400015,
           "harvested_pods": 28679145.061848,
           "season": 5941,
           "timestamp": "2022-04-11T00:00:03",
           "unharvestable_pods": 652954000.620748,
           "unharvestable_ratio": 0.957095144029955,
           "value": 652954000.620748,
           "variable": "unharvestable_pods"
          },
          {
           "harvestable_pods": 2291304.111453999,
           "harvested_pods": 29499411.827778,
           "season": 5965,
           "timestamp": "2022-04-12T00:00:14",
           "unharvestable_pods": 650434039.451118,
           "unharvestable_ratio": 0.9534014037338147,
           "value": 650434039.451118,
           "variable": "unharvestable_pods"
          },
          {
           "harvestable_pods": 2291304.111453999,
           "harvested_pods": 29499411.827778,
           "season": 5965,
           "timestamp": "2022-04-12T00:00:14",
           "unharvestable_pods": 650434039.451118,
           "unharvestable_ratio": 0.9534014037338147,
           "value": 29499411.827778,
           "variable": "harvested_pods"
          },
          {
           "harvestable_pods": 2291304.111453999,
           "harvested_pods": 29499411.827778,
           "season": 5965,
           "timestamp": "2022-04-12T00:00:14",
           "unharvestable_pods": 650434039.451118,
           "unharvestable_ratio": 0.9534014037338147,
           "value": 2291304.111453999,
           "variable": "harvestable_pods"
          },
          {
           "harvestable_pods": 2291304.111453999,
           "harvested_pods": 29499411.827778,
           "season": 5965,
           "timestamp": "2022-04-12T00:00:14",
           "unharvestable_pods": 650434039.451118,
           "unharvestable_ratio": 0.9534014037338147,
           "value": 0.9534014037338147,
           "variable": "unharvestable_ratio"
          },
          {
           "harvestable_pods": 1036987.4403069988,
           "harvested_pods": 34900861.69022,
           "season": 5989,
           "timestamp": "2022-04-13T00:00:14",
           "unharvestable_pods": 646286906.258978,
           "unharvestable_ratio": 0.947322566578504,
           "value": 0.947322566578504,
           "variable": "unharvestable_ratio"
          },
          {
           "harvestable_pods": 1036987.4403069988,
           "harvested_pods": 34900861.69022,
           "season": 5989,
           "timestamp": "2022-04-13T00:00:14",
           "unharvestable_pods": 646286906.258978,
           "unharvestable_ratio": 0.947322566578504,
           "value": 646286906.258978,
           "variable": "unharvestable_pods"
          },
          {
           "harvestable_pods": 1036987.4403069988,
           "harvested_pods": 34900861.69022,
           "season": 5989,
           "timestamp": "2022-04-13T00:00:14",
           "unharvestable_pods": 646286906.258978,
           "unharvestable_ratio": 0.947322566578504,
           "value": 34900861.69022,
           "variable": "harvested_pods"
          },
          {
           "harvestable_pods": 1036987.4403069988,
           "harvested_pods": 34900861.69022,
           "season": 5989,
           "timestamp": "2022-04-13T00:00:14",
           "unharvestable_pods": 646286906.258978,
           "unharvestable_ratio": 0.947322566578504,
           "value": 1036987.4403069988,
           "variable": "harvestable_pods"
          },
          {
           "harvestable_pods": 912650.9798260033,
           "harvested_pods": 39950209.551699,
           "season": 6013,
           "timestamp": "2022-04-14T00:00:06",
           "unharvestable_pods": 641361894.857203,
           "unharvestable_ratio": 0.9401035212974036,
           "value": 0.9401035212974036,
           "variable": "unharvestable_ratio"
          },
          {
           "harvestable_pods": 912650.9798260033,
           "harvested_pods": 39950209.551699,
           "season": 6013,
           "timestamp": "2022-04-14T00:00:06",
           "unharvestable_pods": 641361894.857203,
           "unharvestable_ratio": 0.9401035212974036,
           "value": 912650.9798260033,
           "variable": "harvestable_pods"
          },
          {
           "harvestable_pods": 912650.9798260033,
           "harvested_pods": 39950209.551699,
           "season": 6013,
           "timestamp": "2022-04-14T00:00:06",
           "unharvestable_pods": 641361894.857203,
           "unharvestable_ratio": 0.9401035212974036,
           "value": 641361894.857203,
           "variable": "unharvestable_pods"
          },
          {
           "harvestable_pods": 912650.9798260033,
           "harvested_pods": 39950209.551699,
           "season": 6013,
           "timestamp": "2022-04-14T00:00:06",
           "unharvestable_pods": 641361894.857203,
           "unharvestable_ratio": 0.9401035212974036,
           "value": 39950209.551699,
           "variable": "harvested_pods"
          },
          {
           "harvestable_pods": 1255123.866714999,
           "harvested_pods": 46176510.786144,
           "season": 6037,
           "timestamp": "2022-04-15T00:00:36",
           "unharvestable_pods": 634793120.73511,
           "unharvestable_ratio": 0.9304750607798079,
           "value": 1255123.866714999,
           "variable": "harvestable_pods"
          },
          {
           "harvestable_pods": 1255123.866714999,
           "harvested_pods": 46176510.786144,
           "season": 6037,
           "timestamp": "2022-04-15T00:00:36",
           "unharvestable_pods": 634793120.73511,
           "unharvestable_ratio": 0.9304750607798079,
           "value": 634793120.73511,
           "variable": "unharvestable_pods"
          },
          {
           "harvestable_pods": 1255123.866714999,
           "harvested_pods": 46176510.786144,
           "season": 6037,
           "timestamp": "2022-04-15T00:00:36",
           "unharvestable_pods": 634793120.73511,
           "unharvestable_ratio": 0.9304750607798079,
           "value": 46176510.786144,
           "variable": "harvested_pods"
          },
          {
           "harvestable_pods": 1255123.866714999,
           "harvested_pods": 46176510.786144,
           "season": 6037,
           "timestamp": "2022-04-15T00:00:36",
           "unharvestable_pods": 634793120.73511,
           "unharvestable_ratio": 0.9304750607798079,
           "value": 0.9304750607798079,
           "variable": "unharvestable_ratio"
          },
          {
           "harvestable_pods": 3239997.1570799947,
           "harvested_pods": 49424227.112225,
           "season": 6061,
           "timestamp": "2022-04-16T00:00:56",
           "unharvestable_pods": 629560531.1179891,
           "unharvestable_ratio": 0.9228051696256494,
           "value": 0.9228051696256494,
           "variable": "unharvestable_ratio"
          },
          {
           "harvestable_pods": 3239997.1570799947,
           "harvested_pods": 49424227.112225,
           "season": 6061,
           "timestamp": "2022-04-16T00:00:56",
           "unharvestable_pods": 629560531.1179891,
           "unharvestable_ratio": 0.9228051696256494,
           "value": 3239997.1570799947,
           "variable": "harvestable_pods"
          },
          {
           "harvestable_pods": 3239997.1570799947,
           "harvested_pods": 49424227.112225,
           "season": 6061,
           "timestamp": "2022-04-16T00:00:56",
           "unharvestable_pods": 629560531.1179891,
           "unharvestable_ratio": 0.9228051696256494,
           "value": 49424227.112225,
           "variable": "harvested_pods"
          },
          {
           "harvestable_pods": 3239997.1570799947,
           "harvested_pods": 49424227.112225,
           "season": 6061,
           "timestamp": "2022-04-16T00:00:56",
           "unharvestable_pods": 629560531.1179891,
           "unharvestable_ratio": 0.9228051696256494,
           "value": 629560531.1179891,
           "variable": "unharvestable_pods"
          },
          {
           "harvestable_pods": 0,
           "harvested_pods": 55438959.694302,
           "season": 6074,
           "timestamp": "2022-08-05T03:47:15",
           "unharvestable_pods": 626785795.6926501,
           "unharvestable_ratio": 0.9187379829644888,
           "value": 626785795.6926501,
           "variable": "unharvestable_pods"
          },
          {
           "harvestable_pods": 0,
           "harvested_pods": 55438959.694302,
           "season": 6074,
           "timestamp": "2022-08-05T03:47:15",
           "unharvestable_pods": 626785795.6926501,
           "unharvestable_ratio": 0.9187379829644888,
           "value": 55438959.694302,
           "variable": "harvested_pods"
          },
          {
           "harvestable_pods": 0,
           "harvested_pods": 55438959.694302,
           "season": 6074,
           "timestamp": "2022-08-05T03:47:15",
           "unharvestable_pods": 626785795.6926501,
           "unharvestable_ratio": 0.9187379829644888,
           "value": 0,
           "variable": "harvestable_pods"
          },
          {
           "harvestable_pods": 0,
           "harvested_pods": 55438959.694302,
           "season": 6074,
           "timestamp": "2022-08-05T03:47:15",
           "unharvestable_pods": 626785795.6926501,
           "unharvestable_ratio": 0.9187379829644888,
           "value": 0.9187379829644888,
           "variable": "unharvestable_ratio"
          },
          {
           "harvestable_pods": 53558.90904299915,
           "harvested_pods": 55438959.694302,
           "season": 6081,
           "timestamp": "2022-08-06T23:00:33",
           "unharvestable_pods": 626705452.0801649,
           "unharvestable_ratio": 0.9186562830907489,
           "value": 53558.90904299915,
           "variable": "harvestable_pods"
          },
          {
           "harvestable_pods": 53558.90904299915,
           "harvested_pods": 55438959.694302,
           "season": 6081,
           "timestamp": "2022-08-06T23:00:33",
           "unharvestable_pods": 626705452.0801649,
           "unharvestable_ratio": 0.9186562830907489,
           "value": 0.9186562830907489,
           "variable": "unharvestable_ratio"
          },
          {
           "harvestable_pods": 53558.90904299915,
           "harvested_pods": 55438959.694302,
           "season": 6081,
           "timestamp": "2022-08-06T23:00:33",
           "unharvestable_pods": 626705452.0801649,
           "unharvestable_ratio": 0.9186562830907489,
           "value": 626705452.0801649,
           "variable": "unharvestable_pods"
          },
          {
           "harvestable_pods": 53558.90904299915,
           "harvested_pods": 55438959.694302,
           "season": 6081,
           "timestamp": "2022-08-06T23:00:33",
           "unharvestable_pods": 626705452.0801649,
           "unharvestable_ratio": 0.9186562830907489,
           "value": 55438959.694302,
           "variable": "harvested_pods"
          },
          {
           "harvestable_pods": 0,
           "harvested_pods": 57351922.095057,
           "season": 6105,
           "timestamp": "2022-08-07T23:00:32",
           "unharvestable_pods": 623916346.841867,
           "unharvestable_ratio": 0.9158159498833682,
           "value": 623916346.841867,
           "variable": "unharvestable_pods"
          },
          {
           "harvestable_pods": 0,
           "harvested_pods": 57351922.095057,
           "season": 6105,
           "timestamp": "2022-08-07T23:00:32",
           "unharvestable_pods": 623916346.841867,
           "unharvestable_ratio": 0.9158159498833682,
           "value": 57351922.095057,
           "variable": "harvested_pods"
          },
          {
           "harvestable_pods": 0,
           "harvested_pods": 57351922.095057,
           "season": 6105,
           "timestamp": "2022-08-07T23:00:32",
           "unharvestable_pods": 623916346.841867,
           "unharvestable_ratio": 0.9158159498833682,
           "value": 0,
           "variable": "harvestable_pods"
          },
          {
           "harvestable_pods": 0,
           "harvested_pods": 57351922.095057,
           "season": 6105,
           "timestamp": "2022-08-07T23:00:32",
           "unharvestable_pods": 623916346.841867,
           "unharvestable_ratio": 0.9158159498833682,
           "value": 0.9158159498833682,
           "variable": "unharvestable_ratio"
          },
          {
           "harvestable_pods": 5365.367425002158,
           "harvested_pods": 57430160.570953,
           "season": 6129,
           "timestamp": "2022-08-08T23:00:11",
           "unharvestable_pods": 628764835.158426,
           "unharvestable_ratio": 0.916299190156976,
           "value": 0.916299190156976,
           "variable": "unharvestable_ratio"
          },
          {
           "harvestable_pods": 5365.367425002158,
           "harvested_pods": 57430160.570953,
           "season": 6129,
           "timestamp": "2022-08-08T23:00:11",
           "unharvestable_pods": 628764835.158426,
           "unharvestable_ratio": 0.916299190156976,
           "value": 628764835.158426,
           "variable": "unharvestable_pods"
          },
          {
           "harvestable_pods": 5365.367425002158,
           "harvested_pods": 57430160.570953,
           "season": 6129,
           "timestamp": "2022-08-08T23:00:11",
           "unharvestable_pods": 628764835.158426,
           "unharvestable_ratio": 0.916299190156976,
           "value": 57430160.570953,
           "variable": "harvested_pods"
          },
          {
           "harvestable_pods": 5365.367425002158,
           "harvested_pods": 57430160.570953,
           "season": 6129,
           "timestamp": "2022-08-08T23:00:11",
           "unharvestable_pods": 628764835.158426,
           "unharvestable_ratio": 0.916299190156976,
           "value": 5365.367425002158,
           "variable": "harvestable_pods"
          },
          {
           "harvestable_pods": 0,
           "harvested_pods": 57437836.043772,
           "season": 6153,
           "timestamp": "2022-08-09T23:00:00",
           "unharvestable_pods": 687384754.451816,
           "unharvestable_ratio": 0.9228838695593884,
           "value": 0,
           "variable": "harvestable_pods"
          },
          {
           "harvestable_pods": 0,
           "harvested_pods": 57437836.043772,
           "season": 6153,
           "timestamp": "2022-08-09T23:00:00",
           "unharvestable_pods": 687384754.451816,
           "unharvestable_ratio": 0.9228838695593884,
           "value": 0.9228838695593884,
           "variable": "unharvestable_ratio"
          },
          {
           "harvestable_pods": 0,
           "harvested_pods": 57437836.043772,
           "season": 6153,
           "timestamp": "2022-08-09T23:00:00",
           "unharvestable_pods": 687384754.451816,
           "unharvestable_ratio": 0.9228838695593884,
           "value": 687384754.451816,
           "variable": "unharvestable_pods"
          },
          {
           "harvestable_pods": 0,
           "harvested_pods": 57437836.043772,
           "season": 6153,
           "timestamp": "2022-08-09T23:00:00",
           "unharvestable_pods": 687384754.451816,
           "unharvestable_ratio": 0.9228838695593884,
           "value": 57437836.043772,
           "variable": "harvested_pods"
          },
          {
           "harvestable_pods": 32909.71223000437,
           "harvested_pods": 57437836.043772,
           "season": 6177,
           "timestamp": "2022-08-10T23:00:22",
           "unharvestable_pods": 688030362.2638711,
           "unharvestable_ratio": 0.9229099123559318,
           "value": 32909.71223000437,
           "variable": "harvestable_pods"
          },
          {
           "harvestable_pods": 32909.71223000437,
           "harvested_pods": 57437836.043772,
           "season": 6177,
           "timestamp": "2022-08-10T23:00:22",
           "unharvestable_pods": 688030362.2638711,
           "unharvestable_ratio": 0.9229099123559318,
           "value": 0.9229099123559318,
           "variable": "unharvestable_ratio"
          },
          {
           "harvestable_pods": 32909.71223000437,
           "harvested_pods": 57437836.043772,
           "season": 6177,
           "timestamp": "2022-08-10T23:00:22",
           "unharvestable_pods": 688030362.2638711,
           "unharvestable_ratio": 0.9229099123559318,
           "value": 688030362.2638711,
           "variable": "unharvestable_pods"
          },
          {
           "harvestable_pods": 32909.71223000437,
           "harvested_pods": 57437836.043772,
           "season": 6177,
           "timestamp": "2022-08-10T23:00:22",
           "unharvestable_pods": 688030362.2638711,
           "unharvestable_ratio": 0.9229099123559318,
           "value": 57437836.043772,
           "variable": "harvested_pods"
          },
          {
           "harvestable_pods": 795.1405740007758,
           "harvested_pods": 57474031.461465,
           "season": 6201,
           "timestamp": "2022-08-11T23:00:51",
           "unharvestable_pods": 688738501.381566,
           "unharvestable_ratio": 0.9229780219051491,
           "value": 688738501.381566,
           "variable": "unharvestable_pods"
          },
          {
           "harvestable_pods": 795.1405740007758,
           "harvested_pods": 57474031.461465,
           "season": 6201,
           "timestamp": "2022-08-11T23:00:51",
           "unharvestable_pods": 688738501.381566,
           "unharvestable_ratio": 0.9229780219051491,
           "value": 57474031.461465,
           "variable": "harvested_pods"
          },
          {
           "harvestable_pods": 795.1405740007758,
           "harvested_pods": 57474031.461465,
           "season": 6201,
           "timestamp": "2022-08-11T23:00:51",
           "unharvestable_pods": 688738501.381566,
           "unharvestable_ratio": 0.9229780219051491,
           "value": 795.1405740007758,
           "variable": "harvestable_pods"
          },
          {
           "harvestable_pods": 795.1405740007758,
           "harvested_pods": 57474031.461465,
           "season": 6201,
           "timestamp": "2022-08-11T23:00:51",
           "unharvestable_pods": 688738501.381566,
           "unharvestable_ratio": 0.9229780219051491,
           "value": 0.9229780219051491,
           "variable": "unharvestable_ratio"
          },
          {
           "harvestable_pods": 11154.395695999265,
           "harvested_pods": 57474031.461465,
           "season": 6225,
           "timestamp": "2022-08-12T23:00:02",
           "unharvestable_pods": 689814037.7710439,
           "unharvestable_ratio": 0.923076079782252,
           "value": 689814037.7710439,
           "variable": "unharvestable_pods"
          },
          {
           "harvestable_pods": 11154.395695999265,
           "harvested_pods": 57474031.461465,
           "season": 6225,
           "timestamp": "2022-08-12T23:00:02",
           "unharvestable_pods": 689814037.7710439,
           "unharvestable_ratio": 0.923076079782252,
           "value": 57474031.461465,
           "variable": "harvested_pods"
          },
          {
           "harvestable_pods": 11154.395695999265,
           "harvested_pods": 57474031.461465,
           "season": 6225,
           "timestamp": "2022-08-12T23:00:02",
           "unharvestable_pods": 689814037.7710439,
           "unharvestable_ratio": 0.923076079782252,
           "value": 11154.395695999265,
           "variable": "harvestable_pods"
          },
          {
           "harvestable_pods": 11154.395695999265,
           "harvested_pods": 57474031.461465,
           "season": 6225,
           "timestamp": "2022-08-12T23:00:02",
           "unharvestable_pods": 689814037.7710439,
           "unharvestable_ratio": 0.923076079782252,
           "value": 0.923076079782252,
           "variable": "unharvestable_ratio"
          },
          {
           "harvestable_pods": 3155.4095470011234,
           "harvested_pods": 57504141.760129,
           "season": 6249,
           "timestamp": "2022-08-13T23:00:00",
           "unharvestable_pods": 689964422.6165831,
           "unharvestable_ratio": 0.923064250262043,
           "value": 0.923064250262043,
           "variable": "unharvestable_ratio"
          },
          {
           "harvestable_pods": 3155.4095470011234,
           "harvested_pods": 57504141.760129,
           "season": 6249,
           "timestamp": "2022-08-13T23:00:00",
           "unharvestable_pods": 689964422.6165831,
           "unharvestable_ratio": 0.923064250262043,
           "value": 3155.4095470011234,
           "variable": "harvestable_pods"
          },
          {
           "harvestable_pods": 3155.4095470011234,
           "harvested_pods": 57504141.760129,
           "season": 6249,
           "timestamp": "2022-08-13T23:00:00",
           "unharvestable_pods": 689964422.6165831,
           "unharvestable_ratio": 0.923064250262043,
           "value": 689964422.6165831,
           "variable": "unharvestable_pods"
          },
          {
           "harvestable_pods": 3155.4095470011234,
           "harvested_pods": 57504141.760129,
           "season": 6249,
           "timestamp": "2022-08-13T23:00:00",
           "unharvestable_pods": 689964422.6165831,
           "unharvestable_ratio": 0.923064250262043,
           "value": 57504141.760129,
           "variable": "harvested_pods"
          },
          {
           "harvestable_pods": 3481.240357004106,
           "harvested_pods": 57504141.760129,
           "season": 6273,
           "timestamp": "2022-08-14T23:00:05",
           "unharvestable_pods": 705783494.868748,
           "unharvestable_ratio": 0.9246583359164174,
           "value": 705783494.868748,
           "variable": "unharvestable_pods"
          },
          {
           "harvestable_pods": 3481.240357004106,
           "harvested_pods": 57504141.760129,
           "season": 6273,
           "timestamp": "2022-08-14T23:00:05",
           "unharvestable_pods": 705783494.868748,
           "unharvestable_ratio": 0.9246583359164174,
           "value": 57504141.760129,
           "variable": "harvested_pods"
          },
          {
           "harvestable_pods": 3481.240357004106,
           "harvested_pods": 57504141.760129,
           "season": 6273,
           "timestamp": "2022-08-14T23:00:05",
           "unharvestable_pods": 705783494.868748,
           "unharvestable_ratio": 0.9246583359164174,
           "value": 3481.240357004106,
           "variable": "harvestable_pods"
          },
          {
           "harvestable_pods": 3481.240357004106,
           "harvested_pods": 57504141.760129,
           "season": 6273,
           "timestamp": "2022-08-14T23:00:05",
           "unharvestable_pods": 705783494.868748,
           "unharvestable_ratio": 0.9246583359164174,
           "value": 0.9246583359164174,
           "variable": "unharvestable_ratio"
          },
          {
           "harvestable_pods": 7267.862732999027,
           "harvested_pods": 57504141.760129,
           "season": 6297,
           "timestamp": "2022-08-15T23:00:00",
           "unharvestable_pods": 705951668.240551,
           "unharvestable_ratio": 0.9246703458354393,
           "value": 705951668.240551,
           "variable": "unharvestable_pods"
          },
          {
           "harvestable_pods": 7267.862732999027,
           "harvested_pods": 57504141.760129,
           "season": 6297,
           "timestamp": "2022-08-15T23:00:00",
           "unharvestable_pods": 705951668.240551,
           "unharvestable_ratio": 0.9246703458354393,
           "value": 57504141.760129,
           "variable": "harvested_pods"
          },
          {
           "harvestable_pods": 7267.862732999027,
           "harvested_pods": 57504141.760129,
           "season": 6297,
           "timestamp": "2022-08-15T23:00:00",
           "unharvestable_pods": 705951668.240551,
           "unharvestable_ratio": 0.9246703458354393,
           "value": 7267.862732999027,
           "variable": "harvestable_pods"
          },
          {
           "harvestable_pods": 7267.862732999027,
           "harvested_pods": 57504141.760129,
           "season": 6297,
           "timestamp": "2022-08-15T23:00:00",
           "unharvestable_pods": 705951668.240551,
           "unharvestable_ratio": 0.9246703458354393,
           "value": 0.9246703458354393,
           "variable": "unharvestable_ratio"
          },
          {
           "harvestable_pods": 12911.727531000972,
           "harvested_pods": 57504141.760129,
           "season": 6321,
           "timestamp": "2022-08-16T23:00:20",
           "unharvestable_pods": 705943202.4427409,
           "unharvestable_ratio": 0.9246626749187276,
           "value": 0.9246626749187276,
           "variable": "unharvestable_ratio"
          },
          {
           "harvestable_pods": 12911.727531000972,
           "harvested_pods": 57504141.760129,
           "season": 6321,
           "timestamp": "2022-08-16T23:00:20",
           "unharvestable_pods": 705943202.4427409,
           "unharvestable_ratio": 0.9246626749187276,
           "value": 12911.727531000972,
           "variable": "harvestable_pods"
          },
          {
           "harvestable_pods": 12911.727531000972,
           "harvested_pods": 57504141.760129,
           "season": 6321,
           "timestamp": "2022-08-16T23:00:20",
           "unharvestable_pods": 705943202.4427409,
           "unharvestable_ratio": 0.9246626749187276,
           "value": 705943202.4427409,
           "variable": "unharvestable_pods"
          },
          {
           "harvestable_pods": 12911.727531000972,
           "harvested_pods": 57504141.760129,
           "season": 6321,
           "timestamp": "2022-08-16T23:00:20",
           "unharvestable_pods": 705943202.4427409,
           "unharvestable_ratio": 0.9246626749187276,
           "value": 57504141.760129,
           "variable": "harvested_pods"
          },
          {
           "harvestable_pods": 1414.1133720055223,
           "harvested_pods": 57518215.745694,
           "season": 6345,
           "timestamp": "2022-08-17T23:00:15",
           "unharvestable_pods": 705939337.885033,
           "unharvestable_ratio": 0.9246591731982303,
           "value": 705939337.885033,
           "variable": "unharvestable_pods"
          },
          {
           "harvestable_pods": 1414.1133720055223,
           "harvested_pods": 57518215.745694,
           "season": 6345,
           "timestamp": "2022-08-17T23:00:15",
           "unharvestable_pods": 705939337.885033,
           "unharvestable_ratio": 0.9246591731982303,
           "value": 57518215.745694,
           "variable": "harvested_pods"
          },
          {
           "harvestable_pods": 1414.1133720055223,
           "harvested_pods": 57518215.745694,
           "season": 6345,
           "timestamp": "2022-08-17T23:00:15",
           "unharvestable_pods": 705939337.885033,
           "unharvestable_ratio": 0.9246591731982303,
           "value": 1414.1133720055223,
           "variable": "harvestable_pods"
          },
          {
           "harvestable_pods": 1414.1133720055223,
           "harvested_pods": 57518215.745694,
           "season": 6345,
           "timestamp": "2022-08-17T23:00:15",
           "unharvestable_pods": 705939337.885033,
           "unharvestable_ratio": 0.9246591731982303,
           "value": 0.9246591731982303,
           "variable": "unharvestable_ratio"
          },
          {
           "harvestable_pods": 2840.8263960033655,
           "harvested_pods": 57518215.745694,
           "season": 6369,
           "timestamp": "2022-08-18T23:00:38",
           "unharvestable_pods": 705951508.392923,
           "unharvestable_ratio": 0.9246586462805956,
           "value": 0.9246586462805956,
           "variable": "unharvestable_ratio"
          },
          {
           "harvestable_pods": 2840.8263960033655,
           "harvested_pods": 57518215.745694,
           "season": 6369,
           "timestamp": "2022-08-18T23:00:38",
           "unharvestable_pods": 705951508.392923,
           "unharvestable_ratio": 0.9246586462805956,
           "value": 705951508.392923,
           "variable": "unharvestable_pods"
          },
          {
           "harvestable_pods": 2840.8263960033655,
           "harvested_pods": 57518215.745694,
           "season": 6369,
           "timestamp": "2022-08-18T23:00:38",
           "unharvestable_pods": 705951508.392923,
           "unharvestable_ratio": 0.9246586462805956,
           "value": 57518215.745694,
           "variable": "harvested_pods"
          },
          {
           "harvestable_pods": 2840.8263960033655,
           "harvested_pods": 57518215.745694,
           "season": 6369,
           "timestamp": "2022-08-18T23:00:38",
           "unharvestable_pods": 705951508.392923,
           "unharvestable_ratio": 0.9246586462805956,
           "value": 2840.8263960033655,
           "variable": "harvestable_pods"
          },
          {
           "harvestable_pods": 4685.24443500489,
           "harvested_pods": 57518215.745694,
           "season": 6393,
           "timestamp": "2022-08-19T23:00:06",
           "unharvestable_pods": 705948741.7652,
           "unharvestable_ratio": 0.9246561394441163,
           "value": 0.9246561394441163,
           "variable": "unharvestable_ratio"
          },
          {
           "harvestable_pods": 4685.24443500489,
           "harvested_pods": 57518215.745694,
           "season": 6393,
           "timestamp": "2022-08-19T23:00:06",
           "unharvestable_pods": 705948741.7652,
           "unharvestable_ratio": 0.9246561394441163,
           "value": 4685.24443500489,
           "variable": "harvestable_pods"
          },
          {
           "harvestable_pods": 4685.24443500489,
           "harvested_pods": 57518215.745694,
           "season": 6393,
           "timestamp": "2022-08-19T23:00:06",
           "unharvestable_pods": 705948741.7652,
           "unharvestable_ratio": 0.9246561394441163,
           "value": 705948741.7652,
           "variable": "unharvestable_pods"
          },
          {
           "harvestable_pods": 4685.24443500489,
           "harvested_pods": 57518215.745694,
           "season": 6393,
           "timestamp": "2022-08-19T23:00:06",
           "unharvestable_pods": 705948741.7652,
           "unharvestable_ratio": 0.9246561394441163,
           "value": 57518215.745694,
           "variable": "harvested_pods"
          },
          {
           "harvestable_pods": 7094.641499005258,
           "harvested_pods": 57518215.745694,
           "season": 6417,
           "timestamp": "2022-08-20T23:00:38",
           "unharvestable_pods": 706018324.314496,
           "unharvestable_ratio": 0.9246600878158486,
           "value": 7094.641499005258,
           "variable": "harvestable_pods"
          },
          {
           "harvestable_pods": 7094.641499005258,
           "harvested_pods": 57518215.745694,
           "season": 6417,
           "timestamp": "2022-08-20T23:00:38",
           "unharvestable_pods": 706018324.314496,
           "unharvestable_ratio": 0.9246600878158486,
           "value": 706018324.314496,
           "variable": "unharvestable_pods"
          },
          {
           "harvestable_pods": 7094.641499005258,
           "harvested_pods": 57518215.745694,
           "season": 6417,
           "timestamp": "2022-08-20T23:00:38",
           "unharvestable_pods": 706018324.314496,
           "unharvestable_ratio": 0.9246600878158486,
           "value": 57518215.745694,
           "variable": "harvested_pods"
          },
          {
           "harvestable_pods": 7094.641499005258,
           "harvested_pods": 57518215.745694,
           "season": 6417,
           "timestamp": "2022-08-20T23:00:38",
           "unharvestable_pods": 706018324.314496,
           "unharvestable_ratio": 0.9246600878158486,
           "value": 0.9246600878158486,
           "variable": "unharvestable_ratio"
          },
          {
           "harvestable_pods": 22.716756999492645,
           "harvested_pods": 57528088.751133,
           "season": 6441,
           "timestamp": "2022-08-21T23:00:14",
           "unharvestable_pods": 706017317.431061,
           "unharvestable_ratio": 0.9246565963326546,
           "value": 0.9246565963326546,
           "variable": "unharvestable_ratio"
          },
          {
           "harvestable_pods": 22.716756999492645,
           "harvested_pods": 57528088.751133,
           "season": 6441,
           "timestamp": "2022-08-21T23:00:14",
           "unharvestable_pods": 706017317.431061,
           "unharvestable_ratio": 0.9246565963326546,
           "value": 22.716756999492645,
           "variable": "harvestable_pods"
          },
          {
           "harvestable_pods": 22.716756999492645,
           "harvested_pods": 57528088.751133,
           "season": 6441,
           "timestamp": "2022-08-21T23:00:14",
           "unharvestable_pods": 706017317.431061,
           "unharvestable_ratio": 0.9246565963326546,
           "value": 706017317.431061,
           "variable": "unharvestable_pods"
          },
          {
           "harvestable_pods": 22.716756999492645,
           "harvested_pods": 57528088.751133,
           "season": 6441,
           "timestamp": "2022-08-21T23:00:14",
           "unharvestable_pods": 706017317.431061,
           "unharvestable_ratio": 0.9246565963326546,
           "value": 57528088.751133,
           "variable": "harvested_pods"
          },
          {
           "harvestable_pods": 2154.721969000995,
           "harvested_pods": 57528088.751133,
           "season": 6465,
           "timestamp": "2022-08-22T23:00:22",
           "unharvestable_pods": 706014119.422623,
           "unharvestable_ratio": 0.9246536988958706,
           "value": 706014119.422623,
           "variable": "unharvestable_pods"
          },
          {
           "harvestable_pods": 2154.721969000995,
           "harvested_pods": 57528088.751133,
           "season": 6465,
           "timestamp": "2022-08-22T23:00:22",
           "unharvestable_pods": 706014119.422623,
           "unharvestable_ratio": 0.9246536988958706,
           "value": 57528088.751133,
           "variable": "harvested_pods"
          },
          {
           "harvestable_pods": 2154.721969000995,
           "harvested_pods": 57528088.751133,
           "season": 6465,
           "timestamp": "2022-08-22T23:00:22",
           "unharvestable_pods": 706014119.422623,
           "unharvestable_ratio": 0.9246536988958706,
           "value": 2154.721969000995,
           "variable": "harvestable_pods"
          },
          {
           "harvestable_pods": 2154.721969000995,
           "harvested_pods": 57528088.751133,
           "season": 6465,
           "timestamp": "2022-08-22T23:00:22",
           "unharvestable_pods": 706014119.422623,
           "unharvestable_ratio": 0.9246536988958706,
           "value": 0.9246536988958706,
           "variable": "unharvestable_ratio"
          },
          {
           "harvestable_pods": 3653.9036019966006,
           "harvested_pods": 57528088.751133,
           "season": 6489,
           "timestamp": "2022-08-23T23:01:12",
           "unharvestable_pods": 706032783.169343,
           "unharvestable_ratio": 0.9246537251155772,
           "value": 706032783.169343,
           "variable": "unharvestable_pods"
          },
          {
           "harvestable_pods": 3653.9036019966006,
           "harvested_pods": 57528088.751133,
           "season": 6489,
           "timestamp": "2022-08-23T23:01:12",
           "unharvestable_pods": 706032783.169343,
           "unharvestable_ratio": 0.9246537251155772,
           "value": 57528088.751133,
           "variable": "harvested_pods"
          },
          {
           "harvestable_pods": 3653.9036019966006,
           "harvested_pods": 57528088.751133,
           "season": 6489,
           "timestamp": "2022-08-23T23:01:12",
           "unharvestable_pods": 706032783.169343,
           "unharvestable_ratio": 0.9246537251155772,
           "value": 3653.9036019966006,
           "variable": "harvestable_pods"
          },
          {
           "harvestable_pods": 3653.9036019966006,
           "harvested_pods": 57528088.751133,
           "season": 6489,
           "timestamp": "2022-08-23T23:01:12",
           "unharvestable_pods": 706032783.169343,
           "unharvestable_ratio": 0.9246537251155772,
           "value": 0.9246537251155772,
           "variable": "unharvestable_ratio"
          },
          {
           "harvestable_pods": 1119.5924260020256,
           "harvested_pods": 57533804.646497,
           "season": 6513,
           "timestamp": "2022-08-24T23:00:02",
           "unharvestable_pods": 706028010.792417,
           "unharvestable_ratio": 0.9246494013796499,
           "value": 0.9246494013796499,
           "variable": "unharvestable_ratio"
          },
          {
           "harvestable_pods": 1119.5924260020256,
           "harvested_pods": 57533804.646497,
           "season": 6513,
           "timestamp": "2022-08-24T23:00:02",
           "unharvestable_pods": 706028010.792417,
           "unharvestable_ratio": 0.9246494013796499,
           "value": 1119.5924260020256,
           "variable": "harvestable_pods"
          },
          {
           "harvestable_pods": 1119.5924260020256,
           "harvested_pods": 57533804.646497,
           "season": 6513,
           "timestamp": "2022-08-24T23:00:02",
           "unharvestable_pods": 706028010.792417,
           "unharvestable_ratio": 0.9246494013796499,
           "value": 706028010.792417,
           "variable": "unharvestable_pods"
          },
          {
           "harvestable_pods": 1119.5924260020256,
           "harvested_pods": 57533804.646497,
           "season": 6513,
           "timestamp": "2022-08-24T23:00:02",
           "unharvestable_pods": 706028010.792417,
           "unharvestable_ratio": 0.9246494013796499,
           "value": 57533804.646497,
           "variable": "harvested_pods"
          },
          {
           "harvestable_pods": 4308.420289002359,
           "harvested_pods": 57533804.646497,
           "season": 6537,
           "timestamp": "2022-08-25T23:00:43",
           "unharvestable_pods": 706023350.112736,
           "unharvestable_ratio": 0.9246450798771413,
           "value": 706023350.112736,
           "variable": "unharvestable_pods"
          },
          {
           "harvestable_pods": 4308.420289002359,
           "harvested_pods": 57533804.646497,
           "season": 6537,
           "timestamp": "2022-08-25T23:00:43",
           "unharvestable_pods": 706023350.112736,
           "unharvestable_ratio": 0.9246450798771413,
           "value": 57533804.646497,
           "variable": "harvested_pods"
          },
          {
           "harvestable_pods": 4308.420289002359,
           "harvested_pods": 57533804.646497,
           "season": 6537,
           "timestamp": "2022-08-25T23:00:43",
           "unharvestable_pods": 706023350.112736,
           "unharvestable_ratio": 0.9246450798771413,
           "value": 4308.420289002359,
           "variable": "harvestable_pods"
          },
          {
           "harvestable_pods": 4308.420289002359,
           "harvested_pods": 57533804.646497,
           "season": 6537,
           "timestamp": "2022-08-25T23:00:43",
           "unharvestable_pods": 706023350.112736,
           "unharvestable_ratio": 0.9246450798771413,
           "value": 0.9246450798771413,
           "variable": "unharvestable_ratio"
          },
          {
           "harvestable_pods": 518.6114839985967,
           "harvested_pods": 57540475.657702,
           "season": 6561,
           "timestamp": "2022-08-26T23:00:18",
           "unharvestable_pods": 706019028.3085359,
           "unharvestable_ratio": 0.9246411643253245,
           "value": 518.6114839985967,
           "variable": "harvestable_pods"
          },
          {
           "harvestable_pods": 518.6114839985967,
           "harvested_pods": 57540475.657702,
           "season": 6561,
           "timestamp": "2022-08-26T23:00:18",
           "unharvestable_pods": 706019028.3085359,
           "unharvestable_ratio": 0.9246411643253245,
           "value": 0.9246411643253245,
           "variable": "unharvestable_ratio"
          },
          {
           "harvestable_pods": 518.6114839985967,
           "harvested_pods": 57540475.657702,
           "season": 6561,
           "timestamp": "2022-08-26T23:00:18",
           "unharvestable_pods": 706019028.3085359,
           "unharvestable_ratio": 0.9246411643253245,
           "value": 57540475.657702,
           "variable": "harvested_pods"
          },
          {
           "harvestable_pods": 518.6114839985967,
           "harvested_pods": 57540475.657702,
           "season": 6561,
           "timestamp": "2022-08-26T23:00:18",
           "unharvestable_pods": 706019028.3085359,
           "unharvestable_ratio": 0.9246411643253245,
           "value": 706019028.3085359,
           "variable": "unharvestable_pods"
          },
          {
           "harvestable_pods": 2340.2299410030246,
           "harvested_pods": 57540475.657702,
           "season": 6585,
           "timestamp": "2022-08-27T23:00:24",
           "unharvestable_pods": 706016080.202402,
           "unharvestable_ratio": 0.9246386674527631,
           "value": 706016080.202402,
           "variable": "unharvestable_pods"
          },
          {
           "harvestable_pods": 2340.2299410030246,
           "harvested_pods": 57540475.657702,
           "season": 6585,
           "timestamp": "2022-08-27T23:00:24",
           "unharvestable_pods": 706016080.202402,
           "unharvestable_ratio": 0.9246386674527631,
           "value": 57540475.657702,
           "variable": "harvested_pods"
          },
          {
           "harvestable_pods": 2340.2299410030246,
           "harvested_pods": 57540475.657702,
           "season": 6585,
           "timestamp": "2022-08-27T23:00:24",
           "unharvestable_pods": 706016080.202402,
           "unharvestable_ratio": 0.9246386674527631,
           "value": 2340.2299410030246,
           "variable": "harvestable_pods"
          },
          {
           "harvestable_pods": 2340.2299410030246,
           "harvested_pods": 57540475.657702,
           "season": 6585,
           "timestamp": "2022-08-27T23:00:24",
           "unharvestable_pods": 706016080.202402,
           "unharvestable_ratio": 0.9246386674527631,
           "value": 0.9246386674527631,
           "variable": "unharvestable_ratio"
          },
          {
           "harvestable_pods": 97.33992499858141,
           "harvested_pods": 57543673.69252,
           "season": 6609,
           "timestamp": "2022-08-28T23:00:05",
           "unharvestable_pods": 706394785.5035831,
           "unharvestable_ratio": 0.9246748700662929,
           "value": 706394785.5035831,
           "variable": "unharvestable_pods"
          },
          {
           "harvestable_pods": 97.33992499858141,
           "harvested_pods": 57543673.69252,
           "season": 6609,
           "timestamp": "2022-08-28T23:00:05",
           "unharvestable_pods": 706394785.5035831,
           "unharvestable_ratio": 0.9246748700662929,
           "value": 57543673.69252,
           "variable": "harvested_pods"
          },
          {
           "harvestable_pods": 97.33992499858141,
           "harvested_pods": 57543673.69252,
           "season": 6609,
           "timestamp": "2022-08-28T23:00:05",
           "unharvestable_pods": 706394785.5035831,
           "unharvestable_ratio": 0.9246748700662929,
           "value": 97.33992499858141,
           "variable": "harvestable_pods"
          },
          {
           "harvestable_pods": 97.33992499858141,
           "harvested_pods": 57543673.69252,
           "season": 6609,
           "timestamp": "2022-08-28T23:00:05",
           "unharvestable_pods": 706394785.5035831,
           "unharvestable_ratio": 0.9246748700662929,
           "value": 0.9246748700662929,
           "variable": "unharvestable_ratio"
          },
          {
           "harvestable_pods": 780.8798869997263,
           "harvested_pods": 57543673.69252,
           "season": 6633,
           "timestamp": "2022-08-29T23:00:40",
           "unharvestable_pods": 706394204.453702,
           "unharvestable_ratio": 0.9246739854142657,
           "value": 0.9246739854142657,
           "variable": "unharvestable_ratio"
          },
          {
           "harvestable_pods": 780.8798869997263,
           "harvested_pods": 57543673.69252,
           "season": 6633,
           "timestamp": "2022-08-29T23:00:40",
           "unharvestable_pods": 706394204.453702,
           "unharvestable_ratio": 0.9246739854142657,
           "value": 706394204.453702,
           "variable": "unharvestable_pods"
          },
          {
           "harvestable_pods": 780.8798869997263,
           "harvested_pods": 57543673.69252,
           "season": 6633,
           "timestamp": "2022-08-29T23:00:40",
           "unharvestable_pods": 706394204.453702,
           "unharvestable_ratio": 0.9246739854142657,
           "value": 57543673.69252,
           "variable": "harvested_pods"
          },
          {
           "harvestable_pods": 780.8798869997263,
           "harvested_pods": 57543673.69252,
           "season": 6633,
           "timestamp": "2022-08-29T23:00:40",
           "unharvestable_pods": 706394204.453702,
           "unharvestable_ratio": 0.9246739854142657,
           "value": 780.8798869997263,
           "variable": "harvestable_pods"
          },
          {
           "harvestable_pods": 2080.658766001463,
           "harvested_pods": 57543673.69252,
           "season": 6657,
           "timestamp": "2022-08-30T23:00:14",
           "unharvestable_pods": 707844941.410975,
           "unharvestable_ratio": 0.9248151895889254,
           "value": 2080.658766001463,
           "variable": "harvestable_pods"
          },
          {
           "harvestable_pods": 2080.658766001463,
           "harvested_pods": 57543673.69252,
           "season": 6657,
           "timestamp": "2022-08-30T23:00:14",
           "unharvestable_pods": 707844941.410975,
           "unharvestable_ratio": 0.9248151895889254,
           "value": 0.9248151895889254,
           "variable": "unharvestable_ratio"
          },
          {
           "harvestable_pods": 2080.658766001463,
           "harvested_pods": 57543673.69252,
           "season": 6657,
           "timestamp": "2022-08-30T23:00:14",
           "unharvestable_pods": 707844941.410975,
           "unharvestable_ratio": 0.9248151895889254,
           "value": 707844941.410975,
           "variable": "unharvestable_pods"
          },
          {
           "harvestable_pods": 2080.658766001463,
           "harvested_pods": 57543673.69252,
           "season": 6657,
           "timestamp": "2022-08-30T23:00:14",
           "unharvestable_pods": 707844941.410975,
           "unharvestable_ratio": 0.9248151895889254,
           "value": 57543673.69252,
           "variable": "harvested_pods"
          },
          {
           "harvestable_pods": 3097.5343099981546,
           "harvested_pods": 57543673.69252,
           "season": 6681,
           "timestamp": "2022-08-31T23:00:02",
           "unharvestable_pods": 707893483.601911,
           "unharvestable_ratio": 0.9248187290075233,
           "value": 3097.5343099981546,
           "variable": "harvestable_pods"
          },
          {
           "harvestable_pods": 3097.5343099981546,
           "harvested_pods": 57543673.69252,
           "season": 6681,
           "timestamp": "2022-08-31T23:00:02",
           "unharvestable_pods": 707893483.601911,
           "unharvestable_ratio": 0.9248187290075233,
           "value": 0.9248187290075233,
           "variable": "unharvestable_ratio"
          },
          {
           "harvestable_pods": 3097.5343099981546,
           "harvested_pods": 57543673.69252,
           "season": 6681,
           "timestamp": "2022-08-31T23:00:02",
           "unharvestable_pods": 707893483.601911,
           "unharvestable_ratio": 0.9248187290075233,
           "value": 707893483.601911,
           "variable": "unharvestable_pods"
          },
          {
           "harvestable_pods": 3097.5343099981546,
           "harvested_pods": 57543673.69252,
           "season": 6681,
           "timestamp": "2022-08-31T23:00:02",
           "unharvestable_pods": 707893483.601911,
           "unharvestable_ratio": 0.9248187290075233,
           "value": 57543673.69252,
           "variable": "harvested_pods"
          },
          {
           "harvestable_pods": 929.0195760056376,
           "harvested_pods": 57547553.433924,
           "season": 6705,
           "timestamp": "2022-09-01T23:00:03",
           "unharvestable_pods": 708327472.9080039,
           "unharvestable_ratio": 0.9248592646751309,
           "value": 0.9248592646751309,
           "variable": "unharvestable_ratio"
          },
          {
           "harvestable_pods": 929.0195760056376,
           "harvested_pods": 57547553.433924,
           "season": 6705,
           "timestamp": "2022-09-01T23:00:03",
           "unharvestable_pods": 708327472.9080039,
           "unharvestable_ratio": 0.9248592646751309,
           "value": 929.0195760056376,
           "variable": "harvestable_pods"
          },
          {
           "harvestable_pods": 929.0195760056376,
           "harvested_pods": 57547553.433924,
           "season": 6705,
           "timestamp": "2022-09-01T23:00:03",
           "unharvestable_pods": 708327472.9080039,
           "unharvestable_ratio": 0.9248592646751309,
           "value": 708327472.9080039,
           "variable": "unharvestable_pods"
          },
          {
           "harvestable_pods": 929.0195760056376,
           "harvested_pods": 57547553.433924,
           "season": 6705,
           "timestamp": "2022-09-01T23:00:03",
           "unharvestable_pods": 708327472.9080039,
           "unharvestable_ratio": 0.9248592646751309,
           "value": 57547553.433924,
           "variable": "harvested_pods"
          },
          {
           "harvestable_pods": 2762.4343330040574,
           "harvested_pods": 57547553.433924,
           "season": 6729,
           "timestamp": "2022-09-02T23:00:12",
           "unharvestable_pods": 708969650.884507,
           "unharvestable_ratio": 0.9249200042210779,
           "value": 708969650.884507,
           "variable": "unharvestable_pods"
          },
          {
           "harvestable_pods": 2762.4343330040574,
           "harvested_pods": 57547553.433924,
           "season": 6729,
           "timestamp": "2022-09-02T23:00:12",
           "unharvestable_pods": 708969650.884507,
           "unharvestable_ratio": 0.9249200042210779,
           "value": 57547553.433924,
           "variable": "harvested_pods"
          },
          {
           "harvestable_pods": 2762.4343330040574,
           "harvested_pods": 57547553.433924,
           "season": 6729,
           "timestamp": "2022-09-02T23:00:12",
           "unharvestable_pods": 708969650.884507,
           "unharvestable_ratio": 0.9249200042210779,
           "value": 2762.4343330040574,
           "variable": "harvestable_pods"
          },
          {
           "harvestable_pods": 2762.4343330040574,
           "harvested_pods": 57547553.433924,
           "season": 6729,
           "timestamp": "2022-09-02T23:00:12",
           "unharvestable_pods": 708969650.884507,
           "unharvestable_ratio": 0.9249200042210779,
           "value": 0.9249200042210779,
           "variable": "unharvestable_ratio"
          },
          {
           "harvestable_pods": 478.23120199888945,
           "harvested_pods": 57551065.336568,
           "season": 6753,
           "timestamp": "2022-09-03T23:00:07",
           "unharvestable_pods": 709902709.977596,
           "unharvestable_ratio": 0.925009805728612,
           "value": 709902709.977596,
           "variable": "unharvestable_pods"
          },
          {
           "harvestable_pods": 478.23120199888945,
           "harvested_pods": 57551065.336568,
           "season": 6753,
           "timestamp": "2022-09-03T23:00:07",
           "unharvestable_pods": 709902709.977596,
           "unharvestable_ratio": 0.925009805728612,
           "value": 57551065.336568,
           "variable": "harvested_pods"
          },
          {
           "harvestable_pods": 478.23120199888945,
           "harvested_pods": 57551065.336568,
           "season": 6753,
           "timestamp": "2022-09-03T23:00:07",
           "unharvestable_pods": 709902709.977596,
           "unharvestable_ratio": 0.925009805728612,
           "value": 478.23120199888945,
           "variable": "harvestable_pods"
          },
          {
           "harvestable_pods": 478.23120199888945,
           "harvested_pods": 57551065.336568,
           "season": 6753,
           "timestamp": "2022-09-03T23:00:07",
           "unharvestable_pods": 709902709.977596,
           "unharvestable_ratio": 0.925009805728612,
           "value": 0.925009805728612,
           "variable": "unharvestable_ratio"
          },
          {
           "harvestable_pods": 1591.7717080041766,
           "harvested_pods": 57551065.336568,
           "season": 6777,
           "timestamp": "2022-09-04T23:00:04",
           "unharvestable_pods": 709901051.590847,
           "unharvestable_ratio": 0.9250083015354359,
           "value": 0.9250083015354359,
           "variable": "unharvestable_ratio"
          },
          {
           "harvestable_pods": 1591.7717080041766,
           "harvested_pods": 57551065.336568,
           "season": 6777,
           "timestamp": "2022-09-04T23:00:04",
           "unharvestable_pods": 709901051.590847,
           "unharvestable_ratio": 0.9250083015354359,
           "value": 1591.7717080041766,
           "variable": "harvestable_pods"
          },
          {
           "harvestable_pods": 1591.7717080041766,
           "harvested_pods": 57551065.336568,
           "season": 6777,
           "timestamp": "2022-09-04T23:00:04",
           "unharvestable_pods": 709901051.590847,
           "unharvestable_ratio": 0.9250083015354359,
           "value": 709901051.590847,
           "variable": "unharvestable_pods"
          },
          {
           "harvestable_pods": 1591.7717080041766,
           "harvested_pods": 57551065.336568,
           "season": 6777,
           "timestamp": "2022-09-04T23:00:04",
           "unharvestable_pods": 709901051.590847,
           "unharvestable_ratio": 0.9250083015354359,
           "value": 57551065.336568,
           "variable": "harvested_pods"
          },
          {
           "harvestable_pods": 2888.4421159997582,
           "harvested_pods": 57551065.336568,
           "season": 6801,
           "timestamp": "2022-09-05T23:00:01",
           "unharvestable_pods": 709919519.630573,
           "unharvestable_ratio": 0.9250085432620637,
           "value": 709919519.630573,
           "variable": "unharvestable_pods"
          },
          {
           "harvestable_pods": 2888.4421159997582,
           "harvested_pods": 57551065.336568,
           "season": 6801,
           "timestamp": "2022-09-05T23:00:01",
           "unharvestable_pods": 709919519.630573,
           "unharvestable_ratio": 0.9250085432620637,
           "value": 57551065.336568,
           "variable": "harvested_pods"
          },
          {
           "harvestable_pods": 2888.4421159997582,
           "harvested_pods": 57551065.336568,
           "season": 6801,
           "timestamp": "2022-09-05T23:00:01",
           "unharvestable_pods": 709919519.630573,
           "unharvestable_ratio": 0.9250085432620637,
           "value": 2888.4421159997582,
           "variable": "harvestable_pods"
          },
          {
           "harvestable_pods": 2888.4421159997582,
           "harvested_pods": 57551065.336568,
           "season": 6801,
           "timestamp": "2022-09-05T23:00:01",
           "unharvestable_pods": 709919519.630573,
           "unharvestable_ratio": 0.9250085432620637,
           "value": 0.9250085432620637,
           "variable": "unharvestable_ratio"
          },
          {
           "harvestable_pods": 3496.7287430018187,
           "harvested_pods": 57551065.336568,
           "season": 6825,
           "timestamp": "2022-09-06T23:00:27",
           "unharvestable_pods": 709924554.2152411,
           "unharvestable_ratio": 0.9250083020574701,
           "value": 0.9250083020574701,
           "variable": "unharvestable_ratio"
          },
          {
           "harvestable_pods": 3496.7287430018187,
           "harvested_pods": 57551065.336568,
           "season": 6825,
           "timestamp": "2022-09-06T23:00:27",
           "unharvestable_pods": 709924554.2152411,
           "unharvestable_ratio": 0.9250083020574701,
           "value": 3496.7287430018187,
           "variable": "harvestable_pods"
          },
          {
           "harvestable_pods": 3496.7287430018187,
           "harvested_pods": 57551065.336568,
           "season": 6825,
           "timestamp": "2022-09-06T23:00:27",
           "unharvestable_pods": 709924554.2152411,
           "unharvestable_ratio": 0.9250083020574701,
           "value": 57551065.336568,
           "variable": "harvested_pods"
          },
          {
           "harvestable_pods": 3496.7287430018187,
           "harvested_pods": 57551065.336568,
           "season": 6825,
           "timestamp": "2022-09-06T23:00:27",
           "unharvestable_pods": 709924554.2152411,
           "unharvestable_ratio": 0.9250083020574701,
           "value": 709924554.2152411,
           "variable": "unharvestable_pods"
          },
          {
           "harvestable_pods": 385.4731469973922,
           "harvested_pods": 57554631.732468,
           "season": 6849,
           "timestamp": "2022-09-07T23:00:10",
           "unharvestable_pods": 709958429.406623,
           "unharvestable_ratio": 0.9250110633765966,
           "value": 709958429.406623,
           "variable": "unharvestable_pods"
          },
          {
           "harvestable_pods": 385.4731469973922,
           "harvested_pods": 57554631.732468,
           "season": 6849,
           "timestamp": "2022-09-07T23:00:10",
           "unharvestable_pods": 709958429.406623,
           "unharvestable_ratio": 0.9250110633765966,
           "value": 57554631.732468,
           "variable": "harvested_pods"
          },
          {
           "harvestable_pods": 385.4731469973922,
           "harvested_pods": 57554631.732468,
           "season": 6849,
           "timestamp": "2022-09-07T23:00:10",
           "unharvestable_pods": 709958429.406623,
           "unharvestable_ratio": 0.9250110633765966,
           "value": 385.4731469973922,
           "variable": "harvestable_pods"
          },
          {
           "harvestable_pods": 385.4731469973922,
           "harvested_pods": 57554631.732468,
           "season": 6849,
           "timestamp": "2022-09-07T23:00:10",
           "unharvestable_pods": 709958429.406623,
           "unharvestable_ratio": 0.9250110633765966,
           "value": 0.9250110633765966,
           "variable": "unharvestable_ratio"
          },
          {
           "harvestable_pods": 1615.2813609987497,
           "harvested_pods": 57554631.732468,
           "season": 6873,
           "timestamp": "2022-09-08T23:00:04",
           "unharvestable_pods": 709992649.689741,
           "unharvestable_ratio": 0.9250129245693419,
           "value": 1615.2813609987497,
           "variable": "harvestable_pods"
          },
          {
           "harvestable_pods": 1615.2813609987497,
           "harvested_pods": 57554631.732468,
           "season": 6873,
           "timestamp": "2022-09-08T23:00:04",
           "unharvestable_pods": 709992649.689741,
           "unharvestable_ratio": 0.9250129245693419,
           "value": 0.9250129245693419,
           "variable": "unharvestable_ratio"
          },
          {
           "harvestable_pods": 1615.2813609987497,
           "harvested_pods": 57554631.732468,
           "season": 6873,
           "timestamp": "2022-09-08T23:00:04",
           "unharvestable_pods": 709992649.689741,
           "unharvestable_ratio": 0.9250129245693419,
           "value": 709992649.689741,
           "variable": "unharvestable_pods"
          },
          {
           "harvestable_pods": 1615.2813609987497,
           "harvested_pods": 57554631.732468,
           "season": 6873,
           "timestamp": "2022-09-08T23:00:04",
           "unharvestable_pods": 709992649.689741,
           "unharvestable_ratio": 0.9250129245693419,
           "value": 57554631.732468,
           "variable": "harvested_pods"
          },
          {
           "harvestable_pods": 2199.2506139948964,
           "harvested_pods": 57554631.732468,
           "season": 6897,
           "timestamp": "2022-09-09T23:00:00",
           "unharvestable_pods": 709993069.943769,
           "unharvestable_ratio": 0.9250122618560961,
           "value": 709993069.943769,
           "variable": "unharvestable_pods"
          },
          {
           "harvestable_pods": 2199.2506139948964,
           "harvested_pods": 57554631.732468,
           "season": 6897,
           "timestamp": "2022-09-09T23:00:00",
           "unharvestable_pods": 709993069.943769,
           "unharvestable_ratio": 0.9250122618560961,
           "value": 57554631.732468,
           "variable": "harvested_pods"
          },
          {
           "harvestable_pods": 2199.2506139948964,
           "harvested_pods": 57554631.732468,
           "season": 6897,
           "timestamp": "2022-09-09T23:00:00",
           "unharvestable_pods": 709993069.943769,
           "unharvestable_ratio": 0.9250122618560961,
           "value": 2199.2506139948964,
           "variable": "harvestable_pods"
          },
          {
           "harvestable_pods": 2199.2506139948964,
           "harvested_pods": 57554631.732468,
           "season": 6897,
           "timestamp": "2022-09-09T23:00:00",
           "unharvestable_pods": 709993069.943769,
           "unharvestable_ratio": 0.9250122618560961,
           "value": 0.9250122618560961,
           "variable": "unharvestable_ratio"
          },
          {
           "harvestable_pods": 2638.477678000927,
           "harvested_pods": 57554631.732468,
           "season": 6921,
           "timestamp": "2022-09-10T23:00:34",
           "unharvestable_pods": 709995401.076908,
           "unharvestable_ratio": 0.9250119602689516,
           "value": 2638.477678000927,
           "variable": "harvestable_pods"
          },
          {
           "harvestable_pods": 2638.477678000927,
           "harvested_pods": 57554631.732468,
           "season": 6921,
           "timestamp": "2022-09-10T23:00:34",
           "unharvestable_pods": 709995401.076908,
           "unharvestable_ratio": 0.9250119602689516,
           "value": 709995401.076908,
           "variable": "unharvestable_pods"
          },
          {
           "harvestable_pods": 2638.477678000927,
           "harvested_pods": 57554631.732468,
           "season": 6921,
           "timestamp": "2022-09-10T23:00:34",
           "unharvestable_pods": 709995401.076908,
           "unharvestable_ratio": 0.9250119602689516,
           "value": 57554631.732468,
           "variable": "harvested_pods"
          },
          {
           "harvestable_pods": 2638.477678000927,
           "harvested_pods": 57554631.732468,
           "season": 6921,
           "timestamp": "2022-09-10T23:00:34",
           "unharvestable_pods": 709995401.076908,
           "unharvestable_ratio": 0.9250119602689516,
           "value": 0.9250119602689516,
           "variable": "unharvestable_ratio"
          },
          {
           "harvestable_pods": 2988.73146700114,
           "harvested_pods": 57554631.732468,
           "season": 6945,
           "timestamp": "2022-09-11T23:00:03",
           "unharvestable_pods": 709997075.220181,
           "unharvestable_ratio": 0.9250117017229185,
           "value": 0.9250117017229185,
           "variable": "unharvestable_ratio"
          },
          {
           "harvestable_pods": 2988.73146700114,
           "harvested_pods": 57554631.732468,
           "season": 6945,
           "timestamp": "2022-09-11T23:00:03",
           "unharvestable_pods": 709997075.220181,
           "unharvestable_ratio": 0.9250117017229185,
           "value": 2988.73146700114,
           "variable": "harvestable_pods"
          },
          {
           "harvestable_pods": 2988.73146700114,
           "harvested_pods": 57554631.732468,
           "season": 6945,
           "timestamp": "2022-09-11T23:00:03",
           "unharvestable_pods": 709997075.220181,
           "unharvestable_ratio": 0.9250117017229185,
           "value": 57554631.732468,
           "variable": "harvested_pods"
          },
          {
           "harvestable_pods": 2988.73146700114,
           "harvested_pods": 57554631.732468,
           "season": 6945,
           "timestamp": "2022-09-11T23:00:03",
           "unharvestable_pods": 709997075.220181,
           "unharvestable_ratio": 0.9250117017229185,
           "value": 709997075.220181,
           "variable": "unharvestable_pods"
          },
          {
           "harvestable_pods": 108.88768199831247,
           "harvested_pods": 57557862.062926,
           "season": 6969,
           "timestamp": "2022-09-12T23:00:06",
           "unharvestable_pods": 710069822.697562,
           "unharvestable_ratio": 0.9250183859588221,
           "value": 710069822.697562,
           "variable": "unharvestable_pods"
          },
          {
           "harvestable_pods": 108.88768199831247,
           "harvested_pods": 57557862.062926,
           "season": 6969,
           "timestamp": "2022-09-12T23:00:06",
           "unharvestable_pods": 710069822.697562,
           "unharvestable_ratio": 0.9250183859588221,
           "value": 57557862.062926,
           "variable": "harvested_pods"
          },
          {
           "harvestable_pods": 108.88768199831247,
           "harvested_pods": 57557862.062926,
           "season": 6969,
           "timestamp": "2022-09-12T23:00:06",
           "unharvestable_pods": 710069822.697562,
           "unharvestable_ratio": 0.9250183859588221,
           "value": 108.88768199831247,
           "variable": "harvestable_pods"
          },
          {
           "harvestable_pods": 108.88768199831247,
           "harvested_pods": 57557862.062926,
           "season": 6969,
           "timestamp": "2022-09-12T23:00:06",
           "unharvestable_pods": 710069822.697562,
           "unharvestable_ratio": 0.9250183859588221,
           "value": 0.9250183859588221,
           "variable": "unharvestable_ratio"
          },
          {
           "harvestable_pods": 451.63002199679613,
           "harvested_pods": 57557862.062926,
           "season": 6993,
           "timestamp": "2022-09-13T23:00:03",
           "unharvestable_pods": 710071439.206368,
           "unharvestable_ratio": 0.9250181308429594,
           "value": 451.63002199679613,
           "variable": "harvestable_pods"
          },
          {
           "harvestable_pods": 451.63002199679613,
           "harvested_pods": 57557862.062926,
           "season": 6993,
           "timestamp": "2022-09-13T23:00:03",
           "unharvestable_pods": 710071439.206368,
           "unharvestable_ratio": 0.9250181308429594,
           "value": 0.9250181308429594,
           "variable": "unharvestable_ratio"
          },
          {
           "harvestable_pods": 451.63002199679613,
           "harvested_pods": 57557862.062926,
           "season": 6993,
           "timestamp": "2022-09-13T23:00:03",
           "unharvestable_pods": 710071439.206368,
           "unharvestable_ratio": 0.9250181308429594,
           "value": 710071439.206368,
           "variable": "unharvestable_pods"
          },
          {
           "harvestable_pods": 451.63002199679613,
           "harvested_pods": 57557862.062926,
           "season": 6993,
           "timestamp": "2022-09-13T23:00:03",
           "unharvestable_pods": 710071439.206368,
           "unharvestable_ratio": 0.9250181308429594,
           "value": 57557862.062926,
           "variable": "harvested_pods"
          },
          {
           "harvestable_pods": 1068.147362999618,
           "harvested_pods": 57557862.062926,
           "season": 7017,
           "timestamp": "2022-09-14T23:00:07",
           "unharvestable_pods": 710071104.674896,
           "unharvestable_ratio": 0.9250173552434043,
           "value": 710071104.674896,
           "variable": "unharvestable_pods"
          },
          {
           "harvestable_pods": 1068.147362999618,
           "harvested_pods": 57557862.062926,
           "season": 7017,
           "timestamp": "2022-09-14T23:00:07",
           "unharvestable_pods": 710071104.674896,
           "unharvestable_ratio": 0.9250173552434043,
           "value": 57557862.062926,
           "variable": "harvested_pods"
          },
          {
           "harvestable_pods": 1068.147362999618,
           "harvested_pods": 57557862.062926,
           "season": 7017,
           "timestamp": "2022-09-14T23:00:07",
           "unharvestable_pods": 710071104.674896,
           "unharvestable_ratio": 0.9250173552434043,
           "value": 1068.147362999618,
           "variable": "harvestable_pods"
          },
          {
           "harvestable_pods": 1068.147362999618,
           "harvested_pods": 57557862.062926,
           "season": 7017,
           "timestamp": "2022-09-14T23:00:07",
           "unharvestable_pods": 710071104.674896,
           "unharvestable_ratio": 0.9250173552434043,
           "value": 0.9250173552434043,
           "variable": "unharvestable_ratio"
          },
          {
           "harvestable_pods": 1357.9434679970145,
           "harvested_pods": 57557862.062926,
           "season": 7041,
           "timestamp": "2022-09-15T23:00:11",
           "unharvestable_pods": 710124889.7350509,
           "unharvestable_ratio": 0.9250222594476003,
           "value": 0.9250222594476003,
           "variable": "unharvestable_ratio"
          },
          {
           "harvestable_pods": 1357.9434679970145,
           "harvested_pods": 57557862.062926,
           "season": 7041,
           "timestamp": "2022-09-15T23:00:11",
           "unharvestable_pods": 710124889.7350509,
           "unharvestable_ratio": 0.9250222594476003,
           "value": 710124889.7350509,
           "variable": "unharvestable_pods"
          },
          {
           "harvestable_pods": 1357.9434679970145,
           "harvested_pods": 57557862.062926,
           "season": 7041,
           "timestamp": "2022-09-15T23:00:11",
           "unharvestable_pods": 710124889.7350509,
           "unharvestable_ratio": 0.9250222594476003,
           "value": 57557862.062926,
           "variable": "harvested_pods"
          },
          {
           "harvestable_pods": 1357.9434679970145,
           "harvested_pods": 57557862.062926,
           "season": 7041,
           "timestamp": "2022-09-15T23:00:11",
           "unharvestable_pods": 710124889.7350509,
           "unharvestable_ratio": 0.9250222594476003,
           "value": 1357.9434679970145,
           "variable": "harvestable_pods"
          },
          {
           "harvestable_pods": 101.62187100201845,
           "harvested_pods": 57559429.921489,
           "season": 7065,
           "timestamp": "2022-09-16T23:00:11",
           "unharvestable_pods": 710462491.590432,
           "unharvestable_ratio": 0.925054842426917,
           "value": 101.62187100201845,
           "variable": "harvestable_pods"
          },
          {
           "harvestable_pods": 101.62187100201845,
           "harvested_pods": 57559429.921489,
           "season": 7065,
           "timestamp": "2022-09-16T23:00:11",
           "unharvestable_pods": 710462491.590432,
           "unharvestable_ratio": 0.925054842426917,
           "value": 0.925054842426917,
           "variable": "unharvestable_ratio"
          },
          {
           "harvestable_pods": 101.62187100201845,
           "harvested_pods": 57559429.921489,
           "season": 7065,
           "timestamp": "2022-09-16T23:00:11",
           "unharvestable_pods": 710462491.590432,
           "unharvestable_ratio": 0.925054842426917,
           "value": 710462491.590432,
           "variable": "unharvestable_pods"
          },
          {
           "harvestable_pods": 101.62187100201845,
           "harvested_pods": 57559429.921489,
           "season": 7065,
           "timestamp": "2022-09-16T23:00:11",
           "unharvestable_pods": 710462491.590432,
           "unharvestable_ratio": 0.925054842426917,
           "value": 57559429.921489,
           "variable": "harvested_pods"
          },
          {
           "harvestable_pods": 338.23931500315666,
           "harvested_pods": 57559429.921489,
           "season": 7089,
           "timestamp": "2022-09-17T23:00:23",
           "unharvestable_pods": 710462621.529756,
           "unharvestable_ratio": 0.9250545701096095,
           "value": 710462621.529756,
           "variable": "unharvestable_pods"
          },
          {
           "harvestable_pods": 338.23931500315666,
           "harvested_pods": 57559429.921489,
           "season": 7089,
           "timestamp": "2022-09-17T23:00:23",
           "unharvestable_pods": 710462621.529756,
           "unharvestable_ratio": 0.9250545701096095,
           "value": 57559429.921489,
           "variable": "harvested_pods"
          },
          {
           "harvestable_pods": 338.23931500315666,
           "harvested_pods": 57559429.921489,
           "season": 7089,
           "timestamp": "2022-09-17T23:00:23",
           "unharvestable_pods": 710462621.529756,
           "unharvestable_ratio": 0.9250545701096095,
           "value": 338.23931500315666,
           "variable": "harvestable_pods"
          },
          {
           "harvestable_pods": 338.23931500315666,
           "harvested_pods": 57559429.921489,
           "season": 7089,
           "timestamp": "2022-09-17T23:00:23",
           "unharvestable_pods": 710462621.529756,
           "unharvestable_ratio": 0.9250545701096095,
           "value": 0.9250545701096095,
           "variable": "unharvestable_ratio"
          },
          {
           "harvestable_pods": 746.9602459967136,
           "harvested_pods": 57559429.921489,
           "season": 7113,
           "timestamp": "2022-09-18T23:00:11",
           "unharvestable_pods": 710462895.167336,
           "unharvestable_ratio": 0.9250541045229729,
           "value": 710462895.167336,
           "variable": "unharvestable_pods"
          },
          {
           "harvestable_pods": 746.9602459967136,
           "harvested_pods": 57559429.921489,
           "season": 7113,
           "timestamp": "2022-09-18T23:00:11",
           "unharvestable_pods": 710462895.167336,
           "unharvestable_ratio": 0.9250541045229729,
           "value": 57559429.921489,
           "variable": "harvested_pods"
          },
          {
           "harvestable_pods": 746.9602459967136,
           "harvested_pods": 57559429.921489,
           "season": 7113,
           "timestamp": "2022-09-18T23:00:11",
           "unharvestable_pods": 710462895.167336,
           "unharvestable_ratio": 0.9250541045229729,
           "value": 746.9602459967136,
           "variable": "harvestable_pods"
          },
          {
           "harvestable_pods": 746.9602459967136,
           "harvested_pods": 57559429.921489,
           "season": 7113,
           "timestamp": "2022-09-18T23:00:11",
           "unharvestable_pods": 710462895.167336,
           "unharvestable_ratio": 0.9250541045229729,
           "value": 0.9250541045229729,
           "variable": "unharvestable_ratio"
          },
          {
           "harvestable_pods": 23.012785993516445,
           "harvested_pods": 57560211.939542,
           "season": 7137,
           "timestamp": "2022-09-19T23:00:11",
           "unharvestable_pods": 712458762.698541,
           "unharvestable_ratio": 0.9252482924084606,
           "value": 0.9252482924084606,
           "variable": "unharvestable_ratio"
          },
          {
           "harvestable_pods": 23.012785993516445,
           "harvested_pods": 57560211.939542,
           "season": 7137,
           "timestamp": "2022-09-19T23:00:11",
           "unharvestable_pods": 712458762.698541,
           "unharvestable_ratio": 0.9252482924084606,
           "value": 23.012785993516445,
           "variable": "harvestable_pods"
          },
          {
           "harvestable_pods": 23.012785993516445,
           "harvested_pods": 57560211.939542,
           "season": 7137,
           "timestamp": "2022-09-19T23:00:11",
           "unharvestable_pods": 712458762.698541,
           "unharvestable_ratio": 0.9252482924084606,
           "value": 57560211.939542,
           "variable": "harvested_pods"
          },
          {
           "harvestable_pods": 23.012785993516445,
           "harvested_pods": 57560211.939542,
           "season": 7137,
           "timestamp": "2022-09-19T23:00:11",
           "unharvestable_pods": 712458762.698541,
           "unharvestable_ratio": 0.9252482924084606,
           "value": 712458762.698541,
           "variable": "unharvestable_pods"
          },
          {
           "harvestable_pods": 23.012785993516445,
           "harvested_pods": 57560211.939542,
           "season": 7161,
           "timestamp": "2022-09-20T23:00:11",
           "unharvestable_pods": 713140840.134128,
           "unharvestable_ratio": 0.9253144483470832,
           "value": 713140840.134128,
           "variable": "unharvestable_pods"
          },
          {
           "harvestable_pods": 23.012785993516445,
           "harvested_pods": 57560211.939542,
           "season": 7161,
           "timestamp": "2022-09-20T23:00:11",
           "unharvestable_pods": 713140840.134128,
           "unharvestable_ratio": 0.9253144483470832,
           "value": 57560211.939542,
           "variable": "harvested_pods"
          },
          {
           "harvestable_pods": 23.012785993516445,
           "harvested_pods": 57560211.939542,
           "season": 7161,
           "timestamp": "2022-09-20T23:00:11",
           "unharvestable_pods": 713140840.134128,
           "unharvestable_ratio": 0.9253144483470832,
           "value": 23.012785993516445,
           "variable": "harvestable_pods"
          },
          {
           "harvestable_pods": 23.012785993516445,
           "harvested_pods": 57560211.939542,
           "season": 7161,
           "timestamp": "2022-09-20T23:00:11",
           "unharvestable_pods": 713140840.134128,
           "unharvestable_ratio": 0.9253144483470832,
           "value": 0.9253144483470832,
           "variable": "unharvestable_ratio"
          },
          {
           "harvestable_pods": 23.012785993516445,
           "harvested_pods": 57560211.939542,
           "season": 7185,
           "timestamp": "2022-09-21T23:00:11",
           "unharvestable_pods": 713309030.5738881,
           "unharvestable_ratio": 0.9253307434522821,
           "value": 0.9253307434522821,
           "variable": "unharvestable_ratio"
          },
          {
           "harvestable_pods": 23.012785993516445,
           "harvested_pods": 57560211.939542,
           "season": 7185,
           "timestamp": "2022-09-21T23:00:11",
           "unharvestable_pods": 713309030.5738881,
           "unharvestable_ratio": 0.9253307434522821,
           "value": 713309030.5738881,
           "variable": "unharvestable_pods"
          },
          {
           "harvestable_pods": 23.012785993516445,
           "harvested_pods": 57560211.939542,
           "season": 7185,
           "timestamp": "2022-09-21T23:00:11",
           "unharvestable_pods": 713309030.5738881,
           "unharvestable_ratio": 0.9253307434522821,
           "value": 57560211.939542,
           "variable": "harvested_pods"
          },
          {
           "harvestable_pods": 23.012785993516445,
           "harvested_pods": 57560211.939542,
           "season": 7185,
           "timestamp": "2022-09-21T23:00:11",
           "unharvestable_pods": 713309030.5738881,
           "unharvestable_ratio": 0.9253307434522821,
           "value": 23.012785993516445,
           "variable": "harvestable_pods"
          },
          {
           "harvestable_pods": 23.012785993516445,
           "harvested_pods": 57560211.939542,
           "season": 7209,
           "timestamp": "2022-09-22T23:00:11",
           "unharvestable_pods": 713316160.0360911,
           "unharvestable_ratio": 0.9253314340320503,
           "value": 0.9253314340320503,
           "variable": "unharvestable_ratio"
          },
          {
           "harvestable_pods": 23.012785993516445,
           "harvested_pods": 57560211.939542,
           "season": 7209,
           "timestamp": "2022-09-22T23:00:11",
           "unharvestable_pods": 713316160.0360911,
           "unharvestable_ratio": 0.9253314340320503,
           "value": 23.012785993516445,
           "variable": "harvestable_pods"
          },
          {
           "harvestable_pods": 23.012785993516445,
           "harvested_pods": 57560211.939542,
           "season": 7209,
           "timestamp": "2022-09-22T23:00:11",
           "unharvestable_pods": 713316160.0360911,
           "unharvestable_ratio": 0.9253314340320503,
           "value": 713316160.0360911,
           "variable": "unharvestable_pods"
          },
          {
           "harvestable_pods": 23.012785993516445,
           "harvested_pods": 57560211.939542,
           "season": 7209,
           "timestamp": "2022-09-22T23:00:11",
           "unharvestable_pods": 713316160.0360911,
           "unharvestable_ratio": 0.9253314340320503,
           "value": 57560211.939542,
           "variable": "harvested_pods"
          },
          {
           "harvestable_pods": 23.012785993516445,
           "harvested_pods": 57560211.939542,
           "season": 7233,
           "timestamp": "2022-09-23T23:00:11",
           "unharvestable_pods": 713329691.0867491,
           "unharvestable_ratio": 0.9253327446525612,
           "value": 713329691.0867491,
           "variable": "unharvestable_pods"
          },
          {
           "harvestable_pods": 23.012785993516445,
           "harvested_pods": 57560211.939542,
           "season": 7233,
           "timestamp": "2022-09-23T23:00:11",
           "unharvestable_pods": 713329691.0867491,
           "unharvestable_ratio": 0.9253327446525612,
           "value": 57560211.939542,
           "variable": "harvested_pods"
          },
          {
           "harvestable_pods": 23.012785993516445,
           "harvested_pods": 57560211.939542,
           "season": 7233,
           "timestamp": "2022-09-23T23:00:11",
           "unharvestable_pods": 713329691.0867491,
           "unharvestable_ratio": 0.9253327446525612,
           "value": 23.012785993516445,
           "variable": "harvestable_pods"
          },
          {
           "harvestable_pods": 23.012785993516445,
           "harvested_pods": 57560211.939542,
           "season": 7233,
           "timestamp": "2022-09-23T23:00:11",
           "unharvestable_pods": 713329691.0867491,
           "unharvestable_ratio": 0.9253327446525612,
           "value": 0.9253327446525612,
           "variable": "unharvestable_ratio"
          },
          {
           "harvestable_pods": 23.012785993516445,
           "harvested_pods": 57560211.939542,
           "season": 7257,
           "timestamp": "2022-09-24T23:00:11",
           "unharvestable_pods": 713511509.912667,
           "unharvestable_ratio": 0.9253503512018768,
           "value": 713511509.912667,
           "variable": "unharvestable_pods"
          },
          {
           "harvestable_pods": 23.012785993516445,
           "harvested_pods": 57560211.939542,
           "season": 7257,
           "timestamp": "2022-09-24T23:00:11",
           "unharvestable_pods": 713511509.912667,
           "unharvestable_ratio": 0.9253503512018768,
           "value": 57560211.939542,
           "variable": "harvested_pods"
          },
          {
           "harvestable_pods": 23.012785993516445,
           "harvested_pods": 57560211.939542,
           "season": 7257,
           "timestamp": "2022-09-24T23:00:11",
           "unharvestable_pods": 713511509.912667,
           "unharvestable_ratio": 0.9253503512018768,
           "value": 23.012785993516445,
           "variable": "harvestable_pods"
          },
          {
           "harvestable_pods": 23.012785993516445,
           "harvested_pods": 57560211.939542,
           "season": 7257,
           "timestamp": "2022-09-24T23:00:11",
           "unharvestable_pods": 713511509.912667,
           "unharvestable_ratio": 0.9253503512018768,
           "value": 0.9253503512018768,
           "variable": "unharvestable_ratio"
          },
          {
           "harvestable_pods": 23.012785993516445,
           "harvested_pods": 57560211.939542,
           "season": 7281,
           "timestamp": "2022-09-25T23:00:11",
           "unharvestable_pods": 713511509.912667,
           "unharvestable_ratio": 0.9253503512018768,
           "value": 0.9253503512018768,
           "variable": "unharvestable_ratio"
          },
          {
           "harvestable_pods": 23.012785993516445,
           "harvested_pods": 57560211.939542,
           "season": 7281,
           "timestamp": "2022-09-25T23:00:11",
           "unharvestable_pods": 713511509.912667,
           "unharvestable_ratio": 0.9253503512018768,
           "value": 23.012785993516445,
           "variable": "harvestable_pods"
          },
          {
           "harvestable_pods": 23.012785993516445,
           "harvested_pods": 57560211.939542,
           "season": 7281,
           "timestamp": "2022-09-25T23:00:11",
           "unharvestable_pods": 713511509.912667,
           "unharvestable_ratio": 0.9253503512018768,
           "value": 713511509.912667,
           "variable": "unharvestable_pods"
          },
          {
           "harvestable_pods": 23.012785993516445,
           "harvested_pods": 57560211.939542,
           "season": 7281,
           "timestamp": "2022-09-25T23:00:11",
           "unharvestable_pods": 713511509.912667,
           "unharvestable_ratio": 0.9253503512018768,
           "value": 57560211.939542,
           "variable": "harvested_pods"
          },
          {
           "harvestable_pods": 23.012785993516445,
           "harvested_pods": 57560211.939542,
           "season": 7305,
           "timestamp": "2022-09-26T23:00:11",
           "unharvestable_pods": 713515627.689214,
           "unharvestable_ratio": 0.9253507498534076,
           "value": 0.9253507498534076,
           "variable": "unharvestable_ratio"
          },
          {
           "harvestable_pods": 23.012785993516445,
           "harvested_pods": 57560211.939542,
           "season": 7305,
           "timestamp": "2022-09-26T23:00:11",
           "unharvestable_pods": 713515627.689214,
           "unharvestable_ratio": 0.9253507498534076,
           "value": 713515627.689214,
           "variable": "unharvestable_pods"
          },
          {
           "harvestable_pods": 23.012785993516445,
           "harvested_pods": 57560211.939542,
           "season": 7305,
           "timestamp": "2022-09-26T23:00:11",
           "unharvestable_pods": 713515627.689214,
           "unharvestable_ratio": 0.9253507498534076,
           "value": 57560211.939542,
           "variable": "harvested_pods"
          },
          {
           "harvestable_pods": 23.012785993516445,
           "harvested_pods": 57560211.939542,
           "season": 7305,
           "timestamp": "2022-09-26T23:00:11",
           "unharvestable_pods": 713515627.689214,
           "unharvestable_ratio": 0.9253507498534076,
           "value": 23.012785993516445,
           "variable": "harvestable_pods"
          },
          {
           "harvestable_pods": 23.012785993516445,
           "harvested_pods": 57560211.939542,
           "season": 7329,
           "timestamp": "2022-09-27T23:00:11",
           "unharvestable_pods": 713519825.7058691,
           "unharvestable_ratio": 0.9253511562687871,
           "value": 23.012785993516445,
           "variable": "harvestable_pods"
          },
          {
           "harvestable_pods": 23.012785993516445,
           "harvested_pods": 57560211.939542,
           "season": 7329,
           "timestamp": "2022-09-27T23:00:11",
           "unharvestable_pods": 713519825.7058691,
           "unharvestable_ratio": 0.9253511562687871,
           "value": 0.9253511562687871,
           "variable": "unharvestable_ratio"
          },
          {
           "harvestable_pods": 23.012785993516445,
           "harvested_pods": 57560211.939542,
           "season": 7329,
           "timestamp": "2022-09-27T23:00:11",
           "unharvestable_pods": 713519825.7058691,
           "unharvestable_ratio": 0.9253511562687871,
           "value": 713519825.7058691,
           "variable": "unharvestable_pods"
          },
          {
           "harvestable_pods": 23.012785993516445,
           "harvested_pods": 57560211.939542,
           "season": 7329,
           "timestamp": "2022-09-27T23:00:11",
           "unharvestable_pods": 713519825.7058691,
           "unharvestable_ratio": 0.9253511562687871,
           "value": 57560211.939542,
           "variable": "harvested_pods"
          },
          {
           "harvestable_pods": 23.012785993516445,
           "harvested_pods": 57560211.939542,
           "season": 7353,
           "timestamp": "2022-09-28T23:00:11",
           "unharvestable_pods": 713519825.724895,
           "unharvestable_ratio": 0.9253511562706289,
           "value": 0.9253511562706289,
           "variable": "unharvestable_ratio"
          },
          {
           "harvestable_pods": 23.012785993516445,
           "harvested_pods": 57560211.939542,
           "season": 7353,
           "timestamp": "2022-09-28T23:00:11",
           "unharvestable_pods": 713519825.724895,
           "unharvestable_ratio": 0.9253511562706289,
           "value": 23.012785993516445,
           "variable": "harvestable_pods"
          },
          {
           "harvestable_pods": 23.012785993516445,
           "harvested_pods": 57560211.939542,
           "season": 7353,
           "timestamp": "2022-09-28T23:00:11",
           "unharvestable_pods": 713519825.724895,
           "unharvestable_ratio": 0.9253511562706289,
           "value": 713519825.724895,
           "variable": "unharvestable_pods"
          },
          {
           "harvestable_pods": 23.012785993516445,
           "harvested_pods": 57560211.939542,
           "season": 7353,
           "timestamp": "2022-09-28T23:00:11",
           "unharvestable_pods": 713519825.724895,
           "unharvestable_ratio": 0.9253511562706289,
           "value": 57560211.939542,
           "variable": "harvested_pods"
          },
          {
           "harvestable_pods": 23.012785993516445,
           "harvested_pods": 57560211.939542,
           "season": 7377,
           "timestamp": "2022-09-29T23:00:11",
           "unharvestable_pods": 713519825.7520701,
           "unharvestable_ratio": 0.9253511562732598,
           "value": 713519825.7520701,
           "variable": "unharvestable_pods"
          },
          {
           "harvestable_pods": 23.012785993516445,
           "harvested_pods": 57560211.939542,
           "season": 7377,
           "timestamp": "2022-09-29T23:00:11",
           "unharvestable_pods": 713519825.7520701,
           "unharvestable_ratio": 0.9253511562732598,
           "value": 57560211.939542,
           "variable": "harvested_pods"
          },
          {
           "harvestable_pods": 23.012785993516445,
           "harvested_pods": 57560211.939542,
           "season": 7377,
           "timestamp": "2022-09-29T23:00:11",
           "unharvestable_pods": 713519825.7520701,
           "unharvestable_ratio": 0.9253511562732598,
           "value": 23.012785993516445,
           "variable": "harvestable_pods"
          },
          {
           "harvestable_pods": 23.012785993516445,
           "harvested_pods": 57560211.939542,
           "season": 7377,
           "timestamp": "2022-09-29T23:00:11",
           "unharvestable_pods": 713519825.7520701,
           "unharvestable_ratio": 0.9253511562732598,
           "value": 0.9253511562732598,
           "variable": "unharvestable_ratio"
          },
          {
           "harvestable_pods": 23.012785993516445,
           "harvested_pods": 57560211.939542,
           "season": 7401,
           "timestamp": "2022-09-30T23:00:11",
           "unharvestable_pods": 713519825.865232,
           "unharvestable_ratio": 0.925351156284215,
           "value": 57560211.939542,
           "variable": "harvested_pods"
          },
          {
           "harvestable_pods": 23.012785993516445,
           "harvested_pods": 57560211.939542,
           "season": 7401,
           "timestamp": "2022-09-30T23:00:11",
           "unharvestable_pods": 713519825.865232,
           "unharvestable_ratio": 0.925351156284215,
           "value": 713519825.865232,
           "variable": "unharvestable_pods"
          },
          {
           "harvestable_pods": 23.012785993516445,
           "harvested_pods": 57560211.939542,
           "season": 7401,
           "timestamp": "2022-09-30T23:00:11",
           "unharvestable_pods": 713519825.865232,
           "unharvestable_ratio": 0.925351156284215,
           "value": 23.012785993516445,
           "variable": "harvestable_pods"
          },
          {
           "harvestable_pods": 23.012785993516445,
           "harvested_pods": 57560211.939542,
           "season": 7401,
           "timestamp": "2022-09-30T23:00:11",
           "unharvestable_pods": 713519825.865232,
           "unharvestable_ratio": 0.925351156284215,
           "value": 0.925351156284215,
           "variable": "unharvestable_ratio"
          },
          {
           "harvestable_pods": 23.012785993516445,
           "harvested_pods": 57560211.939542,
           "season": 7425,
           "timestamp": "2022-10-01T23:00:11",
           "unharvestable_pods": 713519826.252629,
           "unharvestable_ratio": 0.9253511563217193,
           "value": 0.9253511563217193,
           "variable": "unharvestable_ratio"
          },
          {
           "harvestable_pods": 23.012785993516445,
           "harvested_pods": 57560211.939542,
           "season": 7425,
           "timestamp": "2022-10-01T23:00:11",
           "unharvestable_pods": 713519826.252629,
           "unharvestable_ratio": 0.9253511563217193,
           "value": 23.012785993516445,
           "variable": "harvestable_pods"
          },
          {
           "harvestable_pods": 23.012785993516445,
           "harvested_pods": 57560211.939542,
           "season": 7425,
           "timestamp": "2022-10-01T23:00:11",
           "unharvestable_pods": 713519826.252629,
           "unharvestable_ratio": 0.9253511563217193,
           "value": 713519826.252629,
           "variable": "unharvestable_pods"
          },
          {
           "harvestable_pods": 23.012785993516445,
           "harvested_pods": 57560211.939542,
           "season": 7425,
           "timestamp": "2022-10-01T23:00:11",
           "unharvestable_pods": 713519826.252629,
           "unharvestable_ratio": 0.9253511563217193,
           "value": 57560211.939542,
           "variable": "harvested_pods"
          },
          {
           "harvestable_pods": 23.012785993516445,
           "harvested_pods": 57560211.939542,
           "season": 7449,
           "timestamp": "2022-10-02T23:00:11",
           "unharvestable_pods": 713586736.498222,
           "unharvestable_ratio": 0.925357633391135,
           "value": 713586736.498222,
           "variable": "unharvestable_pods"
          },
          {
           "harvestable_pods": 23.012785993516445,
           "harvested_pods": 57560211.939542,
           "season": 7449,
           "timestamp": "2022-10-02T23:00:11",
           "unharvestable_pods": 713586736.498222,
           "unharvestable_ratio": 0.925357633391135,
           "value": 57560211.939542,
           "variable": "harvested_pods"
          },
          {
           "harvestable_pods": 23.012785993516445,
           "harvested_pods": 57560211.939542,
           "season": 7449,
           "timestamp": "2022-10-02T23:00:11",
           "unharvestable_pods": 713586736.498222,
           "unharvestable_ratio": 0.925357633391135,
           "value": 23.012785993516445,
           "variable": "harvestable_pods"
          },
          {
           "harvestable_pods": 23.012785993516445,
           "harvested_pods": 57560211.939542,
           "season": 7449,
           "timestamp": "2022-10-02T23:00:11",
           "unharvestable_pods": 713586736.498222,
           "unharvestable_ratio": 0.925357633391135,
           "value": 0.925357633391135,
           "variable": "unharvestable_ratio"
          },
          {
           "harvestable_pods": 23.012785993516445,
           "harvested_pods": 57560211.939542,
           "season": 7473,
           "timestamp": "2022-10-03T23:00:11",
           "unharvestable_pods": 713591659.982704,
           "unharvestable_ratio": 0.9253581099516364,
           "value": 23.012785993516445,
           "variable": "harvestable_pods"
          },
          {
           "harvestable_pods": 23.012785993516445,
           "harvested_pods": 57560211.939542,
           "season": 7473,
           "timestamp": "2022-10-03T23:00:11",
           "unharvestable_pods": 713591659.982704,
           "unharvestable_ratio": 0.9253581099516364,
           "value": 0.9253581099516364,
           "variable": "unharvestable_ratio"
          },
          {
           "harvestable_pods": 23.012785993516445,
           "harvested_pods": 57560211.939542,
           "season": 7473,
           "timestamp": "2022-10-03T23:00:11",
           "unharvestable_pods": 713591659.982704,
           "unharvestable_ratio": 0.9253581099516364,
           "value": 57560211.939542,
           "variable": "harvested_pods"
          },
          {
           "harvestable_pods": 23.012785993516445,
           "harvested_pods": 57560211.939542,
           "season": 7473,
           "timestamp": "2022-10-03T23:00:11",
           "unharvestable_pods": 713591659.982704,
           "unharvestable_ratio": 0.9253581099516364,
           "value": 713591659.982704,
           "variable": "unharvestable_pods"
          },
          {
           "harvestable_pods": 23.012785993516445,
           "harvested_pods": 57560211.939542,
           "season": 7497,
           "timestamp": "2022-10-04T23:00:11",
           "unharvestable_pods": 713635232.5660391,
           "unharvestable_ratio": 0.9253623272222394,
           "value": 713635232.5660391,
           "variable": "unharvestable_pods"
          },
          {
           "harvestable_pods": 23.012785993516445,
           "harvested_pods": 57560211.939542,
           "season": 7497,
           "timestamp": "2022-10-04T23:00:11",
           "unharvestable_pods": 713635232.5660391,
           "unharvestable_ratio": 0.9253623272222394,
           "value": 57560211.939542,
           "variable": "harvested_pods"
          },
          {
           "harvestable_pods": 23.012785993516445,
           "harvested_pods": 57560211.939542,
           "season": 7497,
           "timestamp": "2022-10-04T23:00:11",
           "unharvestable_pods": 713635232.5660391,
           "unharvestable_ratio": 0.9253623272222394,
           "value": 23.012785993516445,
           "variable": "harvestable_pods"
          },
          {
           "harvestable_pods": 23.012785993516445,
           "harvested_pods": 57560211.939542,
           "season": 7497,
           "timestamp": "2022-10-04T23:00:11",
           "unharvestable_pods": 713635232.5660391,
           "unharvestable_ratio": 0.9253623272222394,
           "value": 0.9253623272222394,
           "variable": "unharvestable_ratio"
          },
          {
           "harvestable_pods": 23.012785993516445,
           "harvested_pods": 57560211.939542,
           "season": 7521,
           "timestamp": "2022-10-05T23:00:11",
           "unharvestable_pods": 713650760.291915,
           "unharvestable_ratio": 0.9253638299929857,
           "value": 0.9253638299929857,
           "variable": "unharvestable_ratio"
          },
          {
           "harvestable_pods": 23.012785993516445,
           "harvested_pods": 57560211.939542,
           "season": 7521,
           "timestamp": "2022-10-05T23:00:11",
           "unharvestable_pods": 713650760.291915,
           "unharvestable_ratio": 0.9253638299929857,
           "value": 713650760.291915,
           "variable": "unharvestable_pods"
          },
          {
           "harvestable_pods": 23.012785993516445,
           "harvested_pods": 57560211.939542,
           "season": 7521,
           "timestamp": "2022-10-05T23:00:11",
           "unharvestable_pods": 713650760.291915,
           "unharvestable_ratio": 0.9253638299929857,
           "value": 57560211.939542,
           "variable": "harvested_pods"
          },
          {
           "harvestable_pods": 23.012785993516445,
           "harvested_pods": 57560211.939542,
           "season": 7521,
           "timestamp": "2022-10-05T23:00:11",
           "unharvestable_pods": 713650760.291915,
           "unharvestable_ratio": 0.9253638299929857,
           "value": 23.012785993516445,
           "variable": "harvestable_pods"
          },
          {
           "harvestable_pods": 23.012785993516445,
           "harvested_pods": 57560211.939542,
           "season": 7545,
           "timestamp": "2022-10-06T23:00:11",
           "unharvestable_pods": 713691091.511716,
           "unharvestable_ratio": 0.9253677329590805,
           "value": 0.9253677329590805,
           "variable": "unharvestable_ratio"
          },
          {
           "harvestable_pods": 23.012785993516445,
           "harvested_pods": 57560211.939542,
           "season": 7545,
           "timestamp": "2022-10-06T23:00:11",
           "unharvestable_pods": 713691091.511716,
           "unharvestable_ratio": 0.9253677329590805,
           "value": 23.012785993516445,
           "variable": "harvestable_pods"
          },
          {
           "harvestable_pods": 23.012785993516445,
           "harvested_pods": 57560211.939542,
           "season": 7545,
           "timestamp": "2022-10-06T23:00:11",
           "unharvestable_pods": 713691091.511716,
           "unharvestable_ratio": 0.9253677329590805,
           "value": 713691091.511716,
           "variable": "unharvestable_pods"
          },
          {
           "harvestable_pods": 23.012785993516445,
           "harvested_pods": 57560211.939542,
           "season": 7545,
           "timestamp": "2022-10-06T23:00:11",
           "unharvestable_pods": 713691091.511716,
           "unharvestable_ratio": 0.9253677329590805,
           "value": 57560211.939542,
           "variable": "harvested_pods"
          },
          {
           "harvestable_pods": 158.47343900054693,
           "harvested_pods": 57560211.939542,
           "season": 7569,
           "timestamp": "2022-10-07T23:00:11",
           "unharvestable_pods": 713832588.672594,
           "unharvestable_ratio": 0.9253812603096426,
           "value": 0.9253812603096426,
           "variable": "unharvestable_ratio"
          },
          {
           "harvestable_pods": 158.47343900054693,
           "harvested_pods": 57560211.939542,
           "season": 7569,
           "timestamp": "2022-10-07T23:00:11",
           "unharvestable_pods": 713832588.672594,
           "unharvestable_ratio": 0.9253812603096426,
           "value": 713832588.672594,
           "variable": "unharvestable_pods"
          },
          {
           "harvestable_pods": 158.47343900054693,
           "harvested_pods": 57560211.939542,
           "season": 7569,
           "timestamp": "2022-10-07T23:00:11",
           "unharvestable_pods": 713832588.672594,
           "unharvestable_ratio": 0.9253812603096426,
           "value": 57560211.939542,
           "variable": "harvested_pods"
          },
          {
           "harvestable_pods": 158.47343900054693,
           "harvested_pods": 57560211.939542,
           "season": 7569,
           "timestamp": "2022-10-07T23:00:11",
           "unharvestable_pods": 713832588.672594,
           "unharvestable_ratio": 0.9253812603096426,
           "value": 158.47343900054693,
           "variable": "harvestable_pods"
          },
          {
           "harvestable_pods": 172.44796899706125,
           "harvested_pods": 57560211.939542,
           "season": 7593,
           "timestamp": "2022-10-08T23:00:11",
           "unharvestable_pods": 713856502.111691,
           "unharvestable_ratio": 0.9253835566800617,
           "value": 172.44796899706125,
           "variable": "harvestable_pods"
          },
          {
           "harvestable_pods": 172.44796899706125,
           "harvested_pods": 57560211.939542,
           "season": 7593,
           "timestamp": "2022-10-08T23:00:11",
           "unharvestable_pods": 713856502.111691,
           "unharvestable_ratio": 0.9253835566800617,
           "value": 0.9253835566800617,
           "variable": "unharvestable_ratio"
          },
          {
           "harvestable_pods": 172.44796899706125,
           "harvested_pods": 57560211.939542,
           "season": 7593,
           "timestamp": "2022-10-08T23:00:11",
           "unharvestable_pods": 713856502.111691,
           "unharvestable_ratio": 0.9253835566800617,
           "value": 713856502.111691,
           "variable": "unharvestable_pods"
          },
          {
           "harvestable_pods": 172.44796899706125,
           "harvested_pods": 57560211.939542,
           "season": 7593,
           "timestamp": "2022-10-08T23:00:11",
           "unharvestable_pods": 713856502.111691,
           "unharvestable_ratio": 0.9253835566800617,
           "value": 57560211.939542,
           "variable": "harvested_pods"
          },
          {
           "harvestable_pods": 172.44796899706125,
           "harvested_pods": 57560211.939542,
           "season": 7617,
           "timestamp": "2022-10-09T23:00:11",
           "unharvestable_pods": 713856506.149431,
           "unharvestable_ratio": 0.925383557070618,
           "value": 0.925383557070618,
           "variable": "unharvestable_ratio"
          },
          {
           "harvestable_pods": 172.44796899706125,
           "harvested_pods": 57560211.939542,
           "season": 7617,
           "timestamp": "2022-10-09T23:00:11",
           "unharvestable_pods": 713856506.149431,
           "unharvestable_ratio": 0.925383557070618,
           "value": 172.44796899706125,
           "variable": "harvestable_pods"
          },
          {
           "harvestable_pods": 172.44796899706125,
           "harvested_pods": 57560211.939542,
           "season": 7617,
           "timestamp": "2022-10-09T23:00:11",
           "unharvestable_pods": 713856506.149431,
           "unharvestable_ratio": 0.925383557070618,
           "value": 713856506.149431,
           "variable": "unharvestable_pods"
          },
          {
           "harvestable_pods": 172.44796899706125,
           "harvested_pods": 57560211.939542,
           "season": 7617,
           "timestamp": "2022-10-09T23:00:11",
           "unharvestable_pods": 713856506.149431,
           "unharvestable_ratio": 0.925383557070618,
           "value": 57560211.939542,
           "variable": "harvested_pods"
          },
          {
           "harvestable_pods": 172.44796899706125,
           "harvested_pods": 57560211.939542,
           "season": 7641,
           "timestamp": "2022-10-10T23:00:11",
           "unharvestable_pods": 713861025.439469,
           "unharvestable_ratio": 0.9253839942030893,
           "value": 713861025.439469,
           "variable": "unharvestable_pods"
          },
          {
           "harvestable_pods": 172.44796899706125,
           "harvested_pods": 57560211.939542,
           "season": 7641,
           "timestamp": "2022-10-10T23:00:11",
           "unharvestable_pods": 713861025.439469,
           "unharvestable_ratio": 0.9253839942030893,
           "value": 57560211.939542,
           "variable": "harvested_pods"
          },
          {
           "harvestable_pods": 172.44796899706125,
           "harvested_pods": 57560211.939542,
           "season": 7641,
           "timestamp": "2022-10-10T23:00:11",
           "unharvestable_pods": 713861025.439469,
           "unharvestable_ratio": 0.9253839942030893,
           "value": 172.44796899706125,
           "variable": "harvestable_pods"
          },
          {
           "harvestable_pods": 172.44796899706125,
           "harvested_pods": 57560211.939542,
           "season": 7641,
           "timestamp": "2022-10-10T23:00:11",
           "unharvestable_pods": 713861025.439469,
           "unharvestable_ratio": 0.9253839942030893,
           "value": 0.9253839942030893,
           "variable": "unharvestable_ratio"
          },
          {
           "harvestable_pods": 599.9993169978261,
           "harvested_pods": 57560211.939542,
           "season": 7665,
           "timestamp": "2022-10-11T23:00:11",
           "unharvestable_pods": 713870648.093422,
           "unharvestable_ratio": 0.9253844120688955,
           "value": 0.9253844120688955,
           "variable": "unharvestable_ratio"
          },
          {
           "harvestable_pods": 599.9993169978261,
           "harvested_pods": 57560211.939542,
           "season": 7665,
           "timestamp": "2022-10-11T23:00:11",
           "unharvestable_pods": 713870648.093422,
           "unharvestable_ratio": 0.9253844120688955,
           "value": 713870648.093422,
           "variable": "unharvestable_pods"
          },
          {
           "harvestable_pods": 599.9993169978261,
           "harvested_pods": 57560211.939542,
           "season": 7665,
           "timestamp": "2022-10-11T23:00:11",
           "unharvestable_pods": 713870648.093422,
           "unharvestable_ratio": 0.9253844120688955,
           "value": 57560211.939542,
           "variable": "harvested_pods"
          },
          {
           "harvestable_pods": 599.9993169978261,
           "harvested_pods": 57560211.939542,
           "season": 7665,
           "timestamp": "2022-10-11T23:00:11",
           "unharvestable_pods": 713870648.093422,
           "unharvestable_ratio": 0.9253844120688955,
           "value": 599.9993169978261,
           "variable": "harvestable_pods"
          },
          {
           "harvestable_pods": 1422.7234509959817,
           "harvested_pods": 57560211.939542,
           "season": 7689,
           "timestamp": "2022-10-12T23:00:11",
           "unharvestable_pods": 713871658.645513,
           "unharvestable_ratio": 0.9253835229017354,
           "value": 713871658.645513,
           "variable": "unharvestable_pods"
          },
          {
           "harvestable_pods": 1422.7234509959817,
           "harvested_pods": 57560211.939542,
           "season": 7689,
           "timestamp": "2022-10-12T23:00:11",
           "unharvestable_pods": 713871658.645513,
           "unharvestable_ratio": 0.9253835229017354,
           "value": 57560211.939542,
           "variable": "harvested_pods"
          },
          {
           "harvestable_pods": 1422.7234509959817,
           "harvested_pods": 57560211.939542,
           "season": 7689,
           "timestamp": "2022-10-12T23:00:11",
           "unharvestable_pods": 713871658.645513,
           "unharvestable_ratio": 0.9253835229017354,
           "value": 1422.7234509959817,
           "variable": "harvestable_pods"
          },
          {
           "harvestable_pods": 1422.7234509959817,
           "harvested_pods": 57560211.939542,
           "season": 7689,
           "timestamp": "2022-10-12T23:00:11",
           "unharvestable_pods": 713871658.645513,
           "unharvestable_ratio": 0.9253835229017354,
           "value": 0.9253835229017354,
           "variable": "unharvestable_ratio"
          },
          {
           "harvestable_pods": 1779.2332119941711,
           "harvested_pods": 57560211.939542,
           "season": 7713,
           "timestamp": "2022-10-13T23:00:11",
           "unharvestable_pods": 713881926.8813709,
           "unharvestable_ratio": 0.9253840884273904,
           "value": 57560211.939542,
           "variable": "harvested_pods"
          },
          {
           "harvestable_pods": 1779.2332119941711,
           "harvested_pods": 57560211.939542,
           "season": 7713,
           "timestamp": "2022-10-13T23:00:11",
           "unharvestable_pods": 713881926.8813709,
           "unharvestable_ratio": 0.9253840884273904,
           "value": 1779.2332119941711,
           "variable": "harvestable_pods"
          },
          {
           "harvestable_pods": 1779.2332119941711,
           "harvested_pods": 57560211.939542,
           "season": 7713,
           "timestamp": "2022-10-13T23:00:11",
           "unharvestable_pods": 713881926.8813709,
           "unharvestable_ratio": 0.9253840884273904,
           "value": 713881926.8813709,
           "variable": "unharvestable_pods"
          },
          {
           "harvestable_pods": 1779.2332119941711,
           "harvested_pods": 57560211.939542,
           "season": 7713,
           "timestamp": "2022-10-13T23:00:11",
           "unharvestable_pods": 713881926.8813709,
           "unharvestable_ratio": 0.9253840884273904,
           "value": 0.9253840884273904,
           "variable": "unharvestable_ratio"
          },
          {
           "harvestable_pods": 2175.0126959979534,
           "harvested_pods": 57560211.939542,
           "season": 7737,
           "timestamp": "2022-10-14T23:00:11",
           "unharvestable_pods": 713881342.202204,
           "unharvestable_ratio": 0.9253835571191557,
           "value": 0.9253835571191557,
           "variable": "unharvestable_ratio"
          },
          {
           "harvestable_pods": 2175.0126959979534,
           "harvested_pods": 57560211.939542,
           "season": 7737,
           "timestamp": "2022-10-14T23:00:11",
           "unharvestable_pods": 713881342.202204,
           "unharvestable_ratio": 0.9253835571191557,
           "value": 2175.0126959979534,
           "variable": "harvestable_pods"
          },
          {
           "harvestable_pods": 2175.0126959979534,
           "harvested_pods": 57560211.939542,
           "season": 7737,
           "timestamp": "2022-10-14T23:00:11",
           "unharvestable_pods": 713881342.202204,
           "unharvestable_ratio": 0.9253835571191557,
           "value": 713881342.202204,
           "variable": "unharvestable_pods"
          },
          {
           "harvestable_pods": 2175.0126959979534,
           "harvested_pods": 57560211.939542,
           "season": 7737,
           "timestamp": "2022-10-14T23:00:11",
           "unharvestable_pods": 713881342.202204,
           "unharvestable_ratio": 0.9253835571191557,
           "value": 57560211.939542,
           "variable": "harvested_pods"
          },
          {
           "harvestable_pods": 2342.7469500005245,
           "harvested_pods": 57560211.939542,
           "season": 7761,
           "timestamp": "2022-10-15T23:00:11",
           "unharvestable_pods": 713881090.605566,
           "unharvestable_ratio": 0.9253833315786799,
           "value": 713881090.605566,
           "variable": "unharvestable_pods"
          },
          {
           "harvestable_pods": 2342.7469500005245,
           "harvested_pods": 57560211.939542,
           "season": 7761,
           "timestamp": "2022-10-15T23:00:11",
           "unharvestable_pods": 713881090.605566,
           "unharvestable_ratio": 0.9253833315786799,
           "value": 57560211.939542,
           "variable": "harvested_pods"
          },
          {
           "harvestable_pods": 2342.7469500005245,
           "harvested_pods": 57560211.939542,
           "season": 7761,
           "timestamp": "2022-10-15T23:00:11",
           "unharvestable_pods": 713881090.605566,
           "unharvestable_ratio": 0.9253833315786799,
           "value": 2342.7469500005245,
           "variable": "harvestable_pods"
          },
          {
           "harvestable_pods": 2342.7469500005245,
           "harvested_pods": 57560211.939542,
           "season": 7761,
           "timestamp": "2022-10-15T23:00:11",
           "unharvestable_pods": 713881090.605566,
           "unharvestable_ratio": 0.9253833315786799,
           "value": 0.9253833315786799,
           "variable": "unharvestable_ratio"
          },
          {
           "harvestable_pods": 2342.7469500005245,
           "harvested_pods": 57560211.939542,
           "season": 7785,
           "timestamp": "2022-10-16T23:00:11",
           "unharvestable_pods": 713881090.617053,
           "unharvestable_ratio": 0.9253833315797909,
           "value": 713881090.617053,
           "variable": "unharvestable_pods"
          },
          {
           "harvestable_pods": 2342.7469500005245,
           "harvested_pods": 57560211.939542,
           "season": 7785,
           "timestamp": "2022-10-16T23:00:11",
           "unharvestable_pods": 713881090.617053,
           "unharvestable_ratio": 0.9253833315797909,
           "value": 57560211.939542,
           "variable": "harvested_pods"
          },
          {
           "harvestable_pods": 2342.7469500005245,
           "harvested_pods": 57560211.939542,
           "season": 7785,
           "timestamp": "2022-10-16T23:00:11",
           "unharvestable_pods": 713881090.617053,
           "unharvestable_ratio": 0.9253833315797909,
           "value": 2342.7469500005245,
           "variable": "harvestable_pods"
          },
          {
           "harvestable_pods": 2342.7469500005245,
           "harvested_pods": 57560211.939542,
           "season": 7785,
           "timestamp": "2022-10-16T23:00:11",
           "unharvestable_pods": 713881090.617053,
           "unharvestable_ratio": 0.9253833315797909,
           "value": 0.9253833315797909,
           "variable": "unharvestable_ratio"
          },
          {
           "harvestable_pods": 3090.6734249964356,
           "harvested_pods": 57560211.939542,
           "season": 7809,
           "timestamp": "2022-10-17T23:00:11",
           "unharvestable_pods": 713887360.985649,
           "unharvestable_ratio": 0.9253830409005688,
           "value": 0.9253830409005688,
           "variable": "unharvestable_ratio"
          },
          {
           "harvestable_pods": 3090.6734249964356,
           "harvested_pods": 57560211.939542,
           "season": 7809,
           "timestamp": "2022-10-17T23:00:11",
           "unharvestable_pods": 713887360.985649,
           "unharvestable_ratio": 0.9253830409005688,
           "value": 3090.6734249964356,
           "variable": "harvestable_pods"
          },
          {
           "harvestable_pods": 3090.6734249964356,
           "harvested_pods": 57560211.939542,
           "season": 7809,
           "timestamp": "2022-10-17T23:00:11",
           "unharvestable_pods": 713887360.985649,
           "unharvestable_ratio": 0.9253830409005688,
           "value": 713887360.985649,
           "variable": "unharvestable_pods"
          },
          {
           "harvestable_pods": 3090.6734249964356,
           "harvested_pods": 57560211.939542,
           "season": 7809,
           "timestamp": "2022-10-17T23:00:11",
           "unharvestable_pods": 713887360.985649,
           "unharvestable_ratio": 0.9253830409005688,
           "value": 57560211.939542,
           "variable": "harvested_pods"
          },
          {
           "harvestable_pods": 4287.43548399955,
           "harvested_pods": 57560211.939542,
           "season": 7833,
           "timestamp": "2022-10-18T23:00:11",
           "unharvestable_pods": 713972710.238109,
           "unharvestable_ratio": 0.9253898598048304,
           "value": 713972710.238109,
           "variable": "unharvestable_pods"
          },
          {
           "harvestable_pods": 4287.43548399955,
           "harvested_pods": 57560211.939542,
           "season": 7833,
           "timestamp": "2022-10-18T23:00:11",
           "unharvestable_pods": 713972710.238109,
           "unharvestable_ratio": 0.9253898598048304,
           "value": 57560211.939542,
           "variable": "harvested_pods"
          },
          {
           "harvestable_pods": 4287.43548399955,
           "harvested_pods": 57560211.939542,
           "season": 7833,
           "timestamp": "2022-10-18T23:00:11",
           "unharvestable_pods": 713972710.238109,
           "unharvestable_ratio": 0.9253898598048304,
           "value": 4287.43548399955,
           "variable": "harvestable_pods"
          },
          {
           "harvestable_pods": 4287.43548399955,
           "harvested_pods": 57560211.939542,
           "season": 7833,
           "timestamp": "2022-10-18T23:00:11",
           "unharvestable_pods": 713972710.238109,
           "unharvestable_ratio": 0.9253898598048304,
           "value": 0.9253898598048304,
           "variable": "unharvestable_ratio"
          },
          {
           "harvestable_pods": 0,
           "harvested_pods": 57566395.274156,
           "season": 7857,
           "timestamp": "2022-10-19T23:00:11",
           "unharvestable_pods": 713978773.709326,
           "unharvestable_ratio": 0.9253881722180954,
           "value": 713978773.709326,
           "variable": "unharvestable_pods"
          },
          {
           "harvestable_pods": 0,
           "harvested_pods": 57566395.274156,
           "season": 7857,
           "timestamp": "2022-10-19T23:00:11",
           "unharvestable_pods": 713978773.709326,
           "unharvestable_ratio": 0.9253881722180954,
           "value": 57566395.274156,
           "variable": "harvested_pods"
          },
          {
           "harvestable_pods": 0,
           "harvested_pods": 57566395.274156,
           "season": 7857,
           "timestamp": "2022-10-19T23:00:11",
           "unharvestable_pods": 713978773.709326,
           "unharvestable_ratio": 0.9253881722180954,
           "value": 0,
           "variable": "harvestable_pods"
          },
          {
           "harvestable_pods": 0,
           "harvested_pods": 57566395.274156,
           "season": 7857,
           "timestamp": "2022-10-19T23:00:11",
           "unharvestable_pods": 713978773.709326,
           "unharvestable_ratio": 0.9253881722180954,
           "value": 0.9253881722180954,
           "variable": "unharvestable_ratio"
          },
          {
           "harvestable_pods": 1584.3018470034003,
           "harvested_pods": 57566395.274156,
           "season": 7881,
           "timestamp": "2022-10-20T23:00:11",
           "unharvestable_pods": 713976397.2566401,
           "unharvestable_ratio": 0.9253860421971682,
           "value": 0.9253860421971682,
           "variable": "unharvestable_ratio"
          },
          {
           "harvestable_pods": 1584.3018470034003,
           "harvested_pods": 57566395.274156,
           "season": 7881,
           "timestamp": "2022-10-20T23:00:11",
           "unharvestable_pods": 713976397.2566401,
           "unharvestable_ratio": 0.9253860421971682,
           "value": 1584.3018470034003,
           "variable": "harvestable_pods"
          },
          {
           "harvestable_pods": 1584.3018470034003,
           "harvested_pods": 57566395.274156,
           "season": 7881,
           "timestamp": "2022-10-20T23:00:11",
           "unharvestable_pods": 713976397.2566401,
           "unharvestable_ratio": 0.9253860421971682,
           "value": 713976397.2566401,
           "variable": "unharvestable_pods"
          },
          {
           "harvestable_pods": 1584.3018470034003,
           "harvested_pods": 57566395.274156,
           "season": 7881,
           "timestamp": "2022-10-20T23:00:11",
           "unharvestable_pods": 713976397.2566401,
           "unharvestable_ratio": 0.9253860421971682,
           "value": 57566395.274156,
           "variable": "harvested_pods"
          },
          {
           "harvestable_pods": 2019.8237340003252,
           "harvested_pods": 57566395.274156,
           "season": 7905,
           "timestamp": "2022-10-21T23:00:11",
           "unharvestable_pods": 713995901.229468,
           "unharvestable_ratio": 0.9253874059755441,
           "value": 713995901.229468,
           "variable": "unharvestable_pods"
          },
          {
           "harvestable_pods": 2019.8237340003252,
           "harvested_pods": 57566395.274156,
           "season": 7905,
           "timestamp": "2022-10-21T23:00:11",
           "unharvestable_pods": 713995901.229468,
           "unharvestable_ratio": 0.9253874059755441,
           "value": 57566395.274156,
           "variable": "harvested_pods"
          },
          {
           "harvestable_pods": 2019.8237340003252,
           "harvested_pods": 57566395.274156,
           "season": 7905,
           "timestamp": "2022-10-21T23:00:11",
           "unharvestable_pods": 713995901.229468,
           "unharvestable_ratio": 0.9253874059755441,
           "value": 2019.8237340003252,
           "variable": "harvestable_pods"
          },
          {
           "harvestable_pods": 2019.8237340003252,
           "harvested_pods": 57566395.274156,
           "season": 7905,
           "timestamp": "2022-10-21T23:00:11",
           "unharvestable_pods": 713995901.229468,
           "unharvestable_ratio": 0.9253874059755441,
           "value": 0.9253874059755441,
           "variable": "unharvestable_ratio"
          },
          {
           "harvestable_pods": 5053.79625300318,
           "harvested_pods": 57566395.274156,
           "season": 7929,
           "timestamp": "2022-10-22T23:00:23",
           "unharvestable_pods": 713992471.5211401,
           "unharvestable_ratio": 0.9253834354692615,
           "value": 713992471.5211401,
           "variable": "unharvestable_pods"
          },
          {
           "harvestable_pods": 5053.79625300318,
           "harvested_pods": 57566395.274156,
           "season": 7929,
           "timestamp": "2022-10-22T23:00:23",
           "unharvestable_pods": 713992471.5211401,
           "unharvestable_ratio": 0.9253834354692615,
           "value": 57566395.274156,
           "variable": "harvested_pods"
          },
          {
           "harvestable_pods": 5053.79625300318,
           "harvested_pods": 57566395.274156,
           "season": 7929,
           "timestamp": "2022-10-22T23:00:23",
           "unharvestable_pods": 713992471.5211401,
           "unharvestable_ratio": 0.9253834354692615,
           "value": 5053.79625300318,
           "variable": "harvestable_pods"
          },
          {
           "harvestable_pods": 5053.79625300318,
           "harvested_pods": 57566395.274156,
           "season": 7929,
           "timestamp": "2022-10-22T23:00:23",
           "unharvestable_pods": 713992471.5211401,
           "unharvestable_ratio": 0.9253834354692615,
           "value": 0.9253834354692615,
           "variable": "unharvestable_ratio"
          },
          {
           "harvestable_pods": 5053.79625300318,
           "harvested_pods": 57566395.274156,
           "season": 7953,
           "timestamp": "2022-10-23T23:00:11",
           "unharvestable_pods": 714041044.3811729,
           "unharvestable_ratio": 0.9253881325678385,
           "value": 714041044.3811729,
           "variable": "unharvestable_pods"
          },
          {
           "harvestable_pods": 5053.79625300318,
           "harvested_pods": 57566395.274156,
           "season": 7953,
           "timestamp": "2022-10-23T23:00:11",
           "unharvestable_pods": 714041044.3811729,
           "unharvestable_ratio": 0.9253881325678385,
           "value": 57566395.274156,
           "variable": "harvested_pods"
          },
          {
           "harvestable_pods": 5053.79625300318,
           "harvested_pods": 57566395.274156,
           "season": 7953,
           "timestamp": "2022-10-23T23:00:11",
           "unharvestable_pods": 714041044.3811729,
           "unharvestable_ratio": 0.9253881325678385,
           "value": 5053.79625300318,
           "variable": "harvestable_pods"
          },
          {
           "harvestable_pods": 5053.79625300318,
           "harvested_pods": 57566395.274156,
           "season": 7953,
           "timestamp": "2022-10-23T23:00:11",
           "unharvestable_pods": 714041044.3811729,
           "unharvestable_ratio": 0.9253881325678385,
           "value": 0.9253881325678385,
           "variable": "unharvestable_ratio"
          },
          {
           "harvestable_pods": 9967.559969000518,
           "harvested_pods": 57566395.274156,
           "season": 7977,
           "timestamp": "2022-10-24T23:00:11",
           "unharvestable_pods": 714034791.9952079,
           "unharvestable_ratio": 0.9253816349416826,
           "value": 9967.559969000518,
           "variable": "harvestable_pods"
          },
          {
           "harvestable_pods": 9967.559969000518,
           "harvested_pods": 57566395.274156,
           "season": 7977,
           "timestamp": "2022-10-24T23:00:11",
           "unharvestable_pods": 714034791.9952079,
           "unharvestable_ratio": 0.9253816349416826,
           "value": 0.9253816349416826,
           "variable": "unharvestable_ratio"
          },
          {
           "harvestable_pods": 9967.559969000518,
           "harvested_pods": 57566395.274156,
           "season": 7977,
           "timestamp": "2022-10-24T23:00:11",
           "unharvestable_pods": 714034791.9952079,
           "unharvestable_ratio": 0.9253816349416826,
           "value": 714034791.9952079,
           "variable": "unharvestable_pods"
          },
          {
           "harvestable_pods": 9967.559969000518,
           "harvested_pods": 57566395.274156,
           "season": 7977,
           "timestamp": "2022-10-24T23:00:11",
           "unharvestable_pods": 714034791.9952079,
           "unharvestable_ratio": 0.9253816349416826,
           "value": 57566395.274156,
           "variable": "harvested_pods"
          },
          {
           "harvestable_pods": 4016.65012999624,
           "harvested_pods": 57577412.647476,
           "season": 8001,
           "timestamp": "2022-10-25T23:00:11",
           "unharvestable_pods": 714027192.299523,
           "unharvestable_ratio": 0.9253748238602881,
           "value": 0.9253748238602881,
           "variable": "unharvestable_ratio"
          },
          {
           "harvestable_pods": 4016.65012999624,
           "harvested_pods": 57577412.647476,
           "season": 8001,
           "timestamp": "2022-10-25T23:00:11",
           "unharvestable_pods": 714027192.299523,
           "unharvestable_ratio": 0.9253748238602881,
           "value": 4016.65012999624,
           "variable": "harvestable_pods"
          },
          {
           "harvestable_pods": 4016.65012999624,
           "harvested_pods": 57577412.647476,
           "season": 8001,
           "timestamp": "2022-10-25T23:00:11",
           "unharvestable_pods": 714027192.299523,
           "unharvestable_ratio": 0.9253748238602881,
           "value": 57577412.647476,
           "variable": "harvested_pods"
          },
          {
           "harvestable_pods": 4016.65012999624,
           "harvested_pods": 57577412.647476,
           "season": 8001,
           "timestamp": "2022-10-25T23:00:11",
           "unharvestable_pods": 714027192.299523,
           "unharvestable_ratio": 0.9253748238602881,
           "value": 714027192.299523,
           "variable": "unharvestable_pods"
          },
          {
           "harvestable_pods": 13468.923271998763,
           "harvested_pods": 57577412.647476,
           "season": 8025,
           "timestamp": "2022-10-26T23:00:11",
           "unharvestable_pods": 714012506.156442,
           "unharvestable_ratio": 0.9253620674989701,
           "value": 714012506.156442,
           "variable": "unharvestable_pods"
          },
          {
           "harvestable_pods": 13468.923271998763,
           "harvested_pods": 57577412.647476,
           "season": 8025,
           "timestamp": "2022-10-26T23:00:11",
           "unharvestable_pods": 714012506.156442,
           "unharvestable_ratio": 0.9253620674989701,
           "value": 57577412.647476,
           "variable": "harvested_pods"
          },
          {
           "harvestable_pods": 13468.923271998763,
           "harvested_pods": 57577412.647476,
           "season": 8025,
           "timestamp": "2022-10-26T23:00:11",
           "unharvestable_pods": 714012506.156442,
           "unharvestable_ratio": 0.9253620674989701,
           "value": 13468.923271998763,
           "variable": "harvestable_pods"
          },
          {
           "harvestable_pods": 13468.923271998763,
           "harvested_pods": 57577412.647476,
           "season": 8025,
           "timestamp": "2022-10-26T23:00:11",
           "unharvestable_pods": 714012506.156442,
           "unharvestable_ratio": 0.9253620674989701,
           "value": 0.9253620674989701,
           "variable": "unharvestable_ratio"
          },
          {
           "harvestable_pods": 19817.950658999383,
           "harvested_pods": 57577412.647476,
           "season": 8049,
           "timestamp": "2022-10-27T23:00:11",
           "unharvestable_pods": 714002982.61603,
           "unharvestable_ratio": 0.9253535320341489,
           "value": 714002982.61603,
           "variable": "unharvestable_pods"
          },
          {
           "harvestable_pods": 19817.950658999383,
           "harvested_pods": 57577412.647476,
           "season": 8049,
           "timestamp": "2022-10-27T23:00:11",
           "unharvestable_pods": 714002982.61603,
           "unharvestable_ratio": 0.9253535320341489,
           "value": 57577412.647476,
           "variable": "harvested_pods"
          },
          {
           "harvestable_pods": 19817.950658999383,
           "harvested_pods": 57577412.647476,
           "season": 8049,
           "timestamp": "2022-10-27T23:00:11",
           "unharvestable_pods": 714002982.61603,
           "unharvestable_ratio": 0.9253535320341489,
           "value": 19817.950658999383,
           "variable": "harvestable_pods"
          },
          {
           "harvestable_pods": 19817.950658999383,
           "harvested_pods": 57577412.647476,
           "season": 8049,
           "timestamp": "2022-10-27T23:00:11",
           "unharvestable_pods": 714002982.61603,
           "unharvestable_ratio": 0.9253535320341489,
           "value": 0.9253535320341489,
           "variable": "unharvestable_ratio"
          },
          {
           "harvestable_pods": 28623.52862700075,
           "harvested_pods": 57577412.647476,
           "season": 8073,
           "timestamp": "2022-10-28T23:00:11",
           "unharvestable_pods": 713992293.924497,
           "unharvestable_ratio": 0.9253419377299684,
           "value": 0.9253419377299684,
           "variable": "unharvestable_ratio"
          },
          {
           "harvestable_pods": 28623.52862700075,
           "harvested_pods": 57577412.647476,
           "season": 8073,
           "timestamp": "2022-10-28T23:00:11",
           "unharvestable_pods": 713992293.924497,
           "unharvestable_ratio": 0.9253419377299684,
           "value": 28623.52862700075,
           "variable": "harvestable_pods"
          },
          {
           "harvestable_pods": 28623.52862700075,
           "harvested_pods": 57577412.647476,
           "season": 8073,
           "timestamp": "2022-10-28T23:00:11",
           "unharvestable_pods": 713992293.924497,
           "unharvestable_ratio": 0.9253419377299684,
           "value": 713992293.924497,
           "variable": "unharvestable_pods"
          },
          {
           "harvestable_pods": 28623.52862700075,
           "harvested_pods": 57577412.647476,
           "season": 8073,
           "timestamp": "2022-10-28T23:00:11",
           "unharvestable_pods": 713992293.924497,
           "unharvestable_ratio": 0.9253419377299684,
           "value": 57577412.647476,
           "variable": "harvested_pods"
          },
          {
           "harvestable_pods": 2037.1121159940958,
           "harvested_pods": 57607303.554024,
           "season": 8097,
           "timestamp": "2022-10-29T23:00:11",
           "unharvestable_pods": 713991942.594104,
           "unharvestable_ratio": 0.9253379408303685,
           "value": 713991942.594104,
           "variable": "unharvestable_pods"
          },
          {
           "harvestable_pods": 2037.1121159940958,
           "harvested_pods": 57607303.554024,
           "season": 8097,
           "timestamp": "2022-10-29T23:00:11",
           "unharvestable_pods": 713991942.594104,
           "unharvestable_ratio": 0.9253379408303685,
           "value": 57607303.554024,
           "variable": "harvested_pods"
          },
          {
           "harvestable_pods": 2037.1121159940958,
           "harvested_pods": 57607303.554024,
           "season": 8097,
           "timestamp": "2022-10-29T23:00:11",
           "unharvestable_pods": 713991942.594104,
           "unharvestable_ratio": 0.9253379408303685,
           "value": 2037.1121159940958,
           "variable": "harvestable_pods"
          },
          {
           "harvestable_pods": 2037.1121159940958,
           "harvested_pods": 57607303.554024,
           "season": 8097,
           "timestamp": "2022-10-29T23:00:11",
           "unharvestable_pods": 713991942.594104,
           "unharvestable_ratio": 0.9253379408303685,
           "value": 0.9253379408303685,
           "variable": "unharvestable_ratio"
          },
          {
           "harvestable_pods": 14622.247429996729,
           "harvested_pods": 57607303.554024,
           "season": 8121,
           "timestamp": "2022-10-30T23:00:11",
           "unharvestable_pods": 713973064.8906721,
           "unharvestable_ratio": 0.9253210213952184,
           "value": 14622.247429996729,
           "variable": "harvestable_pods"
          },
          {
           "harvestable_pods": 14622.247429996729,
           "harvested_pods": 57607303.554024,
           "season": 8121,
           "timestamp": "2022-10-30T23:00:11",
           "unharvestable_pods": 713973064.8906721,
           "unharvestable_ratio": 0.9253210213952184,
           "value": 0.9253210213952184,
           "variable": "unharvestable_ratio"
          },
          {
           "harvestable_pods": 14622.247429996729,
           "harvested_pods": 57607303.554024,
           "season": 8121,
           "timestamp": "2022-10-30T23:00:11",
           "unharvestable_pods": 713973064.8906721,
           "unharvestable_ratio": 0.9253210213952184,
           "value": 57607303.554024,
           "variable": "harvested_pods"
          },
          {
           "harvestable_pods": 14622.247429996729,
           "harvested_pods": 57607303.554024,
           "season": 8121,
           "timestamp": "2022-10-30T23:00:11",
           "unharvestable_pods": 713973064.8906721,
           "unharvestable_ratio": 0.9253210213952184,
           "value": 713973064.8906721,
           "variable": "unharvestable_pods"
          },
          {
           "harvestable_pods": 21461.35740699619,
           "harvested_pods": 57607303.554024,
           "season": 8145,
           "timestamp": "2022-10-31T23:00:11",
           "unharvestable_pods": 713961770.484684,
           "unharvestable_ratio": 0.9253117265340148,
           "value": 713961770.484684,
           "variable": "unharvestable_pods"
          },
          {
           "harvestable_pods": 21461.35740699619,
           "harvested_pods": 57607303.554024,
           "season": 8145,
           "timestamp": "2022-10-31T23:00:11",
           "unharvestable_pods": 713961770.484684,
           "unharvestable_ratio": 0.9253117265340148,
           "value": 57607303.554024,
           "variable": "harvested_pods"
          },
          {
           "harvestable_pods": 21461.35740699619,
           "harvested_pods": 57607303.554024,
           "season": 8145,
           "timestamp": "2022-10-31T23:00:11",
           "unharvestable_pods": 713961770.484684,
           "unharvestable_ratio": 0.9253117265340148,
           "value": 21461.35740699619,
           "variable": "harvestable_pods"
          },
          {
           "harvestable_pods": 21461.35740699619,
           "harvested_pods": 57607303.554024,
           "season": 8145,
           "timestamp": "2022-10-31T23:00:11",
           "unharvestable_pods": 713961770.484684,
           "unharvestable_ratio": 0.9253117265340148,
           "value": 0.9253117265340148,
           "variable": "unharvestable_ratio"
          },
          {
           "harvestable_pods": 9733.702776998281,
           "harvested_pods": 57629100.744598,
           "season": 8169,
           "timestamp": "2022-11-01T23:00:11",
           "unharvestable_pods": 713945088.6034479,
           "unharvestable_ratio": 0.9252980359939686,
           "value": 713945088.6034479,
           "variable": "unharvestable_pods"
          },
          {
           "harvestable_pods": 9733.702776998281,
           "harvested_pods": 57629100.744598,
           "season": 8169,
           "timestamp": "2022-11-01T23:00:11",
           "unharvestable_pods": 713945088.6034479,
           "unharvestable_ratio": 0.9252980359939686,
           "value": 57629100.744598,
           "variable": "harvested_pods"
          },
          {
           "harvestable_pods": 9733.702776998281,
           "harvested_pods": 57629100.744598,
           "season": 8169,
           "timestamp": "2022-11-01T23:00:11",
           "unharvestable_pods": 713945088.6034479,
           "unharvestable_ratio": 0.9252980359939686,
           "value": 9733.702776998281,
           "variable": "harvestable_pods"
          },
          {
           "harvestable_pods": 9733.702776998281,
           "harvested_pods": 57629100.744598,
           "season": 8169,
           "timestamp": "2022-11-01T23:00:11",
           "unharvestable_pods": 713945088.6034479,
           "unharvestable_ratio": 0.9252980359939686,
           "value": 0.9252980359939686,
           "variable": "unharvestable_ratio"
          },
          {
           "harvestable_pods": 2375.229322999716,
           "harvested_pods": 57641789.594232,
           "season": 8193,
           "timestamp": "2022-11-02T23:00:11",
           "unharvestable_pods": 713956349.915567,
           "unharvestable_ratio": 0.9252927340995302,
           "value": 0.9252927340995302,
           "variable": "unharvestable_ratio"
          },
          {
           "harvestable_pods": 2375.229322999716,
           "harvested_pods": 57641789.594232,
           "season": 8193,
           "timestamp": "2022-11-02T23:00:11",
           "unharvestable_pods": 713956349.915567,
           "unharvestable_ratio": 0.9252927340995302,
           "value": 713956349.915567,
           "variable": "unharvestable_pods"
          },
          {
           "harvestable_pods": 2375.229322999716,
           "harvested_pods": 57641789.594232,
           "season": 8193,
           "timestamp": "2022-11-02T23:00:11",
           "unharvestable_pods": 713956349.915567,
           "unharvestable_ratio": 0.9252927340995302,
           "value": 57641789.594232,
           "variable": "harvested_pods"
          },
          {
           "harvestable_pods": 2375.229322999716,
           "harvested_pods": 57641789.594232,
           "season": 8193,
           "timestamp": "2022-11-02T23:00:11",
           "unharvestable_pods": 713956349.915567,
           "unharvestable_ratio": 0.9252927340995302,
           "value": 2375.229322999716,
           "variable": "harvestable_pods"
          },
          {
           "harvestable_pods": 11989.851322002709,
           "harvested_pods": 57641789.594232,
           "season": 8217,
           "timestamp": "2022-11-03T23:00:11",
           "unharvestable_pods": 713941284.860767,
           "unharvestable_ratio": 0.9252797456689463,
           "value": 11989.851322002709,
           "variable": "harvestable_pods"
          },
          {
           "harvestable_pods": 11989.851322002709,
           "harvested_pods": 57641789.594232,
           "season": 8217,
           "timestamp": "2022-11-03T23:00:11",
           "unharvestable_pods": 713941284.860767,
           "unharvestable_ratio": 0.9252797456689463,
           "value": 0.9252797456689463,
           "variable": "unharvestable_ratio"
          },
          {
           "harvestable_pods": 11989.851322002709,
           "harvested_pods": 57641789.594232,
           "season": 8217,
           "timestamp": "2022-11-03T23:00:11",
           "unharvestable_pods": 713941284.860767,
           "unharvestable_ratio": 0.9252797456689463,
           "value": 713941284.860767,
           "variable": "unharvestable_pods"
          },
          {
           "harvestable_pods": 11989.851322002709,
           "harvested_pods": 57641789.594232,
           "season": 8217,
           "timestamp": "2022-11-03T23:00:11",
           "unharvestable_pods": 713941284.860767,
           "unharvestable_ratio": 0.9252797456689463,
           "value": 57641789.594232,
           "variable": "harvested_pods"
          },
          {
           "harvestable_pods": 13107.69581899792,
           "harvested_pods": 57641789.594232,
           "season": 8219,
           "timestamp": "2022-11-04T01:00:11",
           "unharvestable_pods": 713939608.094002,
           "unharvestable_ratio": 0.9252782427975509,
           "value": 57641789.594232,
           "variable": "harvested_pods"
          },
          {
           "harvestable_pods": 13107.69581899792,
           "harvested_pods": 57641789.594232,
           "season": 8219,
           "timestamp": "2022-11-04T01:00:11",
           "unharvestable_pods": 713939608.094002,
           "unharvestable_ratio": 0.9252782427975509,
           "value": 13107.69581899792,
           "variable": "harvestable_pods"
          },
          {
           "harvestable_pods": 13107.69581899792,
           "harvested_pods": 57641789.594232,
           "season": 8219,
           "timestamp": "2022-11-04T01:00:11",
           "unharvestable_pods": 713939608.094002,
           "unharvestable_ratio": 0.9252782427975509,
           "value": 713939608.094002,
           "variable": "unharvestable_pods"
          },
          {
           "harvestable_pods": 13107.69581899792,
           "harvested_pods": 57641789.594232,
           "season": 8219,
           "timestamp": "2022-11-04T01:00:11",
           "unharvestable_pods": 713939608.094002,
           "unharvestable_ratio": 0.9252782427975509,
           "value": 0.9252782427975509,
           "variable": "unharvestable_ratio"
          }
         ]
        },
        "layer": [
         {
          "encoding": {
           "color": {
            "field": "variable",
            "legend": {
             "title": null
            },
            "scale": {
             "domain": [
              "unharvestable_pods",
              "harvested_pods",
              "harvestable_pods",
              "unharvestable_ratio"
             ],
             "range": [
              "#ff595e",
              "#8ac926",
              "#1982c4",
              "#6a4c93"
             ]
            },
            "type": "nominal"
           },
           "order": {
            "field": "stack_order",
            "sort": "ascending",
            "type": "quantitative"
           },
           "x": {
            "axis": {
             "formatType": "time",
             "labelAngle": 0,
             "labelExpr": "timeFormat(toDate(datum.value), '%b %e, %Y')",
             "labelOverlap": true,
             "labelPadding": 5,
             "labelSeparation": 50,
             "ticks": false,
             "title": "Date"
            },
            "field": "timestamp",
            "type": "ordinal"
           },
           "y": {
            "axis": {
             "format": ".3~s",
             "title": "Pods"
            },
            "field": "value",
            "type": "quantitative"
           }
          },
          "mark": "area",
          "title": "Pod Line Breakdown",
          "transform": [
           {
            "as": "stack_order",
            "calculate": "datum['variable'] === 'unharvestable_pods' ? 0 :  datum['variable'] === 'harvested_pods' ? 1 :  datum['variable'] === 'harvestable_pods' ? 2 :  datum['variable'] === 'unharvestable_ratio' ? 3 : 4"
           },
           {
            "filter": "datum['variable'] == 'unharvestable_pods' | datum['variable'] == 'harvested_pods' | datum['variable'] == 'harvestable_pods'"
           }
          ],
          "width": 700
         },
         {
          "layer": [
           {
            "encoding": {
             "color": {
              "field": "variable",
              "legend": {
               "title": null
              },
              "scale": {
               "domain": [
                "unharvestable_pods",
                "harvested_pods",
                "harvestable_pods",
                "unharvestable_ratio"
               ],
               "range": [
                "#ff595e",
                "#8ac926",
                "#1982c4",
                "#6a4c93"
               ]
              },
              "type": "nominal"
             },
             "order": {
              "field": "stack_order",
              "sort": "ascending",
              "type": "quantitative"
             },
             "x": {
              "axis": {
               "formatType": "time",
               "labelAngle": 0,
               "labelExpr": "timeFormat(toDate(datum.value), '%b %e, %Y')",
               "labelOverlap": true,
               "labelPadding": 5,
               "labelSeparation": 50,
               "ticks": false,
               "title": "Date"
              },
              "field": "timestamp",
              "type": "ordinal"
             },
             "y": {
              "axis": {
               "format": ".0%",
               "title": "Ratio"
              },
              "field": "value",
              "type": "quantitative"
             }
            },
            "mark": "line",
            "title": "Pod Line Breakdown",
            "transform": [
             {
              "as": "stack_order",
              "calculate": "datum['variable'] === 'unharvestable_pods' ? 0 :  datum['variable'] === 'harvested_pods' ? 1 :  datum['variable'] === 'harvestable_pods' ? 2 :  datum['variable'] === 'unharvestable_ratio' ? 3 : 4"
             },
             {
              "filter": "datum['variable'] == 'unharvestable_ratio'"
             }
            ],
            "width": 700
           },
           {
            "encoding": {
             "x": {
              "axis": {
               "formatType": "time",
               "labelAngle": 0,
               "labelExpr": "timeFormat(toDate(datum.value), '%b %e, %Y')",
               "labelOverlap": true,
               "labelPadding": 5,
               "labelSeparation": 50,
               "ticks": false,
               "title": "Date"
              },
              "field": "timestamp",
              "type": "ordinal"
             }
            },
            "mark": {
             "color": "#474440",
             "opacity": 1,
             "strokeDash": [
              2.5,
              1
             ],
             "type": "rule"
            },
            "title": "Pod Line Breakdown",
            "transform": [
             {
              "as": "stack_order",
              "calculate": "datum['variable'] === 'unharvestable_pods' ? 0 :  datum['variable'] === 'harvested_pods' ? 1 :  datum['variable'] === 'harvestable_pods' ? 2 :  datum['variable'] === 'unharvestable_ratio' ? 3 : 4"
             },
             {
              "groupby": [
               "timestamp"
              ],
              "pivot": "variable",
              "value": "value"
             },
             {
              "filter": "\n            year(datum['timestamp']) === 2022 && \n            month(datum['timestamp']) === 3 && \n            date(datum['timestamp']) === 16 \n        "
             }
            ],
            "width": 700
           },
           {
            "encoding": {
             "opacity": {
              "condition": {
               "selection": "selector010",
               "value": 1
              },
              "value": 0
             },
             "tooltip": [
              {
               "field": "timestamp",
               "timeUnit": "yearmonthdate",
               "title": "date",
               "type": "ordinal"
              },
              {
               "field": "unharvestable_pods",
               "format": ",d",
               "type": "quantitative"
              },
              {
               "field": "harvested_pods",
               "format": ",d",
               "type": "quantitative"
              },
              {
               "field": "harvestable_pods",
               "format": ",d",
               "type": "quantitative"
              },
              {
               "field": "unharvestable_ratio",
               "format": ".0%",
               "type": "quantitative"
              }
             ],
             "x": {
              "axis": {
               "formatType": "time",
               "labelAngle": 0,
               "labelExpr": "timeFormat(toDate(datum.value), '%b %e, %Y')",
               "labelOverlap": true,
               "labelPadding": 5,
               "labelSeparation": 50,
               "ticks": false,
               "title": "Date"
              },
              "field": "timestamp",
              "type": "ordinal"
             }
            },
            "mark": {
             "color": "#878787",
             "type": "rule"
            },
            "selection": {
             "selector010": {
              "clear": "mouseout",
              "empty": "none",
              "fields": [
               "timestamp"
              ],
              "nearest": true,
              "on": "mouseover",
              "type": "single"
             }
            },
            "title": "Pod Line Breakdown",
            "transform": [
             {
              "as": "stack_order",
              "calculate": "datum['variable'] === 'unharvestable_pods' ? 0 :  datum['variable'] === 'harvested_pods' ? 1 :  datum['variable'] === 'harvestable_pods' ? 2 :  datum['variable'] === 'unharvestable_ratio' ? 3 : 4"
             },
             {
              "groupby": [
               "timestamp"
              ],
              "pivot": "variable",
              "value": "value"
             }
            ],
            "width": 700
           }
          ]
         }
        ],
        "resolve": {
         "axis": {
          "y": "independent"
         },
         "scale": {
          "y": "independent"
         }
        }
       },
       "width_paths": [
        {
         "factor": 1,
         "path": [
          "config",
          "view",
          "continuousWidth"
         ],
         "value": 400
        },
        {
         "factor": 1,
         "path": [
          "layer",
          0,
          "width"
         ],
         "value": 700
        },
        {
         "factor": 1,
         "path": [
          "layer",
          1,
          "layer",
          0,
          "width"
         ],
         "value": 700
        },
        {
         "factor": 1,
         "path": [
          "layer",
          1,
          "layer",
          1,
          "width"
         ],
         "value": 700
        },
        {
         "factor": 1,
         "path": [
          "layer",
          1,
          "layer",
          2,
          "width"
         ],
         "value": 700
        }
       ]
      },
      "text/plain": [
       "<IPython.core.display.JSON object>"
      ]
     },
     "execution_count": 56,
     "metadata": {
      "application/json": {
       "expanded": false,
       "root": "root"
      }
     },
     "output_type": "execute_result"
    }
   ],
   "source": [
    "# TODO: update css for this chart \n",
    "output_chart(c, css=css)"
   ]
  }
 ],
 "metadata": {
  "kernelspec": {
   "display_name": "beanstalk",
   "language": "python",
   "name": "beanstalk"
  },
  "language_info": {
   "codemirror_mode": {
    "name": "ipython",
    "version": 3
   },
   "file_extension": ".py",
   "mimetype": "text/x-python",
   "name": "python",
   "nbconvert_exporter": "python",
   "pygments_lexer": "ipython3",
   "version": "3.10.5"
  }
 },
 "nbformat": 4,
 "nbformat_minor": 5
}
