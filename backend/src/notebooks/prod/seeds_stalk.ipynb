{
 "cells": [
  {
   "cell_type": "code",
   "execution_count": 1,
   "id": "bb524f98-4f94-476c-b760-7d5dbae7938d",
   "metadata": {},
   "outputs": [
    {
     "name": "stdout",
     "output_type": "stream",
     "text": [
      "https://api.thegraph.com/subgraphs/name/cujowolf/beanstalk\n"
     ]
    }
   ],
   "source": [
    "import os \n",
    "import sys \n",
    "import json \n",
    "import logging \n",
    "from pathlib import Path \n",
    "from functools import cache\n",
    "from itertools import product\n",
    "\n",
    "# Required when developing in a jupyter-notebook environment \n",
    "cur_path = os.path.abspath(\"../..\")\n",
    "if cur_path not in sys.path: \n",
    "    sys.path.append(cur_path)\n",
    "\n",
    "import numpy as np \n",
    "import pandas as pd \n",
    "import altair as alt \n",
    "from altair import datum\n",
    "from palettable.tableau import GreenOrange_6\n",
    "from dotenv import load_dotenv\n",
    "from subgrounds.subgrounds import Subgrounds, Subgraph\n",
    "from subgrounds.subgraph import SyntheticField\n",
    "from subgrounds.pagination import ShallowStrategy\n",
    "\n",
    "# Required when developing in a jupyter-notebook environment \n",
    "load_dotenv('../../../../.env')\n",
    "\n",
    "print(os.environ['SUBGRAPH_URL'])\n",
    "# logging.basicConfig(level=logging.DEBUG)\n",
    "\n",
    "from utils_notebook.utils import (\n",
    "    ddf, remove_prefix, load_subgraph, remove_keys, camel_to_snake_cols\n",
    ")\n",
    "from utils_notebook.vega import (\n",
    "    output_chart, \n",
    "    apply_css, \n",
    "    wide_to_longwide, \n",
    "    chart\n",
    ")\n",
    "from utils_notebook.testing import validate_season_series\n",
    "from utils_notebook.constants import ADDR_BEANSTALK\n",
    "from utils_notebook.queries import QueryManager\n",
    "from utils_notebook.css import css_tooltip_timeseries_multi_colored"
   ]
  },
  {
   "cell_type": "code",
   "execution_count": 2,
   "id": "4dda51ef-cb6a-4692-9bad-6ea39ab9c6fe",
   "metadata": {},
   "outputs": [],
   "source": [
    "sg, bs = load_subgraph()\n",
    "q = QueryManager(sg, bs) "
   ]
  },
  {
   "cell_type": "code",
   "execution_count": 3,
   "id": "f5823889",
   "metadata": {},
   "outputs": [
    {
     "data": {
      "text/html": [
       "<div>\n",
       "<style scoped>\n",
       "    .dataframe tbody tr th:only-of-type {\n",
       "        vertical-align: middle;\n",
       "    }\n",
       "\n",
       "    .dataframe tbody tr th {\n",
       "        vertical-align: top;\n",
       "    }\n",
       "\n",
       "    .dataframe thead th {\n",
       "        text-align: right;\n",
       "    }\n",
       "</style>\n",
       "<table border=\"1\" class=\"dataframe\">\n",
       "  <thead>\n",
       "    <tr style=\"text-align: right;\">\n",
       "      <th></th>\n",
       "      <th>timestamp</th>\n",
       "      <th>total_seeds</th>\n",
       "      <th>total_stalk</th>\n",
       "      <th>total_deposited_bdv</th>\n",
       "      <th>seeds_per_stalk</th>\n",
       "      <th>stalk_per_bdv</th>\n",
       "      <th>seeds_per_bdv</th>\n",
       "    </tr>\n",
       "  </thead>\n",
       "  <tbody>\n",
       "    <tr>\n",
       "      <th>254</th>\n",
       "      <td>2022-08-04</td>\n",
       "      <td>1.173153e+08</td>\n",
       "      <td>4.068514e+07</td>\n",
       "      <td>3.231789e+07</td>\n",
       "      <td>2.883492</td>\n",
       "      <td>1.258905</td>\n",
       "      <td>3.630042</td>\n",
       "    </tr>\n",
       "    <tr>\n",
       "      <th>255</th>\n",
       "      <td>2022-08-05</td>\n",
       "      <td>1.193253e+08</td>\n",
       "      <td>4.101390e+07</td>\n",
       "      <td>3.264577e+07</td>\n",
       "      <td>2.909387</td>\n",
       "      <td>1.256331</td>\n",
       "      <td>3.655154</td>\n",
       "    </tr>\n",
       "    <tr>\n",
       "      <th>256</th>\n",
       "      <td>2022-08-06</td>\n",
       "      <td>1.221543e+08</td>\n",
       "      <td>4.169738e+07</td>\n",
       "      <td>3.337104e+07</td>\n",
       "      <td>2.929544</td>\n",
       "      <td>1.249508</td>\n",
       "      <td>3.660488</td>\n",
       "    </tr>\n",
       "    <tr>\n",
       "      <th>257</th>\n",
       "      <td>2022-08-07</td>\n",
       "      <td>1.525817e+08</td>\n",
       "      <td>5.000249e+07</td>\n",
       "      <td>4.213115e+07</td>\n",
       "      <td>3.051482</td>\n",
       "      <td>1.186829</td>\n",
       "      <td>3.621588</td>\n",
       "    </tr>\n",
       "    <tr>\n",
       "      <th>258</th>\n",
       "      <td>2022-08-08</td>\n",
       "      <td>1.568419e+08</td>\n",
       "      <td>5.189329e+07</td>\n",
       "      <td>4.340395e+07</td>\n",
       "      <td>3.022393</td>\n",
       "      <td>1.195589</td>\n",
       "      <td>3.613540</td>\n",
       "    </tr>\n",
       "  </tbody>\n",
       "</table>\n",
       "</div>"
      ],
      "text/plain": [
       "     timestamp   total_seeds   total_stalk  total_deposited_bdv  \\\n",
       "254 2022-08-04  1.173153e+08  4.068514e+07         3.231789e+07   \n",
       "255 2022-08-05  1.193253e+08  4.101390e+07         3.264577e+07   \n",
       "256 2022-08-06  1.221543e+08  4.169738e+07         3.337104e+07   \n",
       "257 2022-08-07  1.525817e+08  5.000249e+07         4.213115e+07   \n",
       "258 2022-08-08  1.568419e+08  5.189329e+07         4.340395e+07   \n",
       "\n",
       "     seeds_per_stalk  stalk_per_bdv  seeds_per_bdv  \n",
       "254         2.883492       1.258905       3.630042  \n",
       "255         2.909387       1.256331       3.655154  \n",
       "256         2.929544       1.249508       3.660488  \n",
       "257         3.051482       1.186829       3.621588  \n",
       "258         3.022393       1.195589       3.613540  "
      ]
     },
     "execution_count": 3,
     "metadata": {},
     "output_type": "execute_result"
    }
   ],
   "source": [
    "q = bs.Query.siloDailySnapshots(\n",
    "    first=10000, orderBy=\"season\", orderDirection=\"asc\", where={'silo': ADDR_BEANSTALK}\n",
    ")\n",
    "df = sg.query_df([\n",
    "    q.timestamp, q.totalSeeds, q.totalStalk, q.totalDepositedBDV\n",
    "])\n",
    "df = remove_prefix(df, \"siloDailySnapshots_\")\n",
    "df.timestamp = pd.to_datetime(df.timestamp, unit='s')\n",
    "df = df.sort_values('timestamp').reset_index(drop=True)\n",
    "df = df.loc[(df.totalSeeds > 0) & (df.totalStalk > 0)] \n",
    "df.totalSeeds /= 1e6\n",
    "df.totalStalk /= 1e10\n",
    "df.totalDepositedBDV /= 1e6 \n",
    "df['seedsPerStalk'] = df.totalSeeds / df.totalStalk \n",
    "df['stalkPerBdv'] = df.totalStalk / df.totalDepositedBDV\n",
    "df['seedsPerBdv'] = df.totalSeeds / df.totalDepositedBDV\n",
    "df = camel_to_snake_cols(df)\n",
    "df.head()"
   ]
  },
  {
   "cell_type": "code",
   "execution_count": null,
   "id": "63c7fc9c",
   "metadata": {},
   "outputs": [],
   "source": []
  },
  {
   "cell_type": "code",
   "execution_count": 6,
   "id": "364409e9-99b5-4180-8dae-3e14c2014334",
   "metadata": {},
   "outputs": [
    {
     "data": {
      "text/html": [
       "<style></style>"
      ],
      "text/plain": [
       "<IPython.core.display.HTML object>"
      ]
     },
     "metadata": {},
     "output_type": "display_data"
    },
    {
     "name": "stderr",
     "output_type": "stream",
     "text": [
      "/Users/ALEX/opt/anaconda3/envs/beanstalk/lib/python3.10/site-packages/altair/utils/core.py:317: FutureWarning: iteritems is deprecated and will be removed in a future version. Use .items instead.\n",
      "  for col_name, dtype in df.dtypes.iteritems():\n"
     ]
    },
    {
     "data": {
      "text/html": [
       "\n",
       "<div id=\"altair-viz-2f93141738c74271a60d7b51755871cc\"></div>\n",
       "<script type=\"text/javascript\">\n",
       "  var VEGA_DEBUG = (typeof VEGA_DEBUG == \"undefined\") ? {} : VEGA_DEBUG;\n",
       "  (function(spec, embedOpt){\n",
       "    let outputDiv = document.currentScript.previousElementSibling;\n",
       "    if (outputDiv.id !== \"altair-viz-2f93141738c74271a60d7b51755871cc\") {\n",
       "      outputDiv = document.getElementById(\"altair-viz-2f93141738c74271a60d7b51755871cc\");\n",
       "    }\n",
       "    const paths = {\n",
       "      \"vega\": \"https://cdn.jsdelivr.net/npm//vega@5?noext\",\n",
       "      \"vega-lib\": \"https://cdn.jsdelivr.net/npm//vega-lib?noext\",\n",
       "      \"vega-lite\": \"https://cdn.jsdelivr.net/npm//vega-lite@4.17.0?noext\",\n",
       "      \"vega-embed\": \"https://cdn.jsdelivr.net/npm//vega-embed@6?noext\",\n",
       "    };\n",
       "\n",
       "    function maybeLoadScript(lib, version) {\n",
       "      var key = `${lib.replace(\"-\", \"\")}_version`;\n",
       "      return (VEGA_DEBUG[key] == version) ?\n",
       "        Promise.resolve(paths[lib]) :\n",
       "        new Promise(function(resolve, reject) {\n",
       "          var s = document.createElement('script');\n",
       "          document.getElementsByTagName(\"head\")[0].appendChild(s);\n",
       "          s.async = true;\n",
       "          s.onload = () => {\n",
       "            VEGA_DEBUG[key] = version;\n",
       "            return resolve(paths[lib]);\n",
       "          };\n",
       "          s.onerror = () => reject(`Error loading script: ${paths[lib]}`);\n",
       "          s.src = paths[lib];\n",
       "        });\n",
       "    }\n",
       "\n",
       "    function showError(err) {\n",
       "      outputDiv.innerHTML = `<div class=\"error\" style=\"color:red;\">${err}</div>`;\n",
       "      throw err;\n",
       "    }\n",
       "\n",
       "    function displayChart(vegaEmbed) {\n",
       "      vegaEmbed(outputDiv, spec, embedOpt)\n",
       "        .catch(err => showError(`Javascript Error: ${err.message}<br>This usually means there's a typo in your chart specification. See the javascript console for the full traceback.`));\n",
       "    }\n",
       "\n",
       "    if(typeof define === \"function\" && define.amd) {\n",
       "      requirejs.config({paths});\n",
       "      require([\"vega-embed\"], displayChart, err => showError(`Error loading script: ${err.message}`));\n",
       "    } else {\n",
       "      maybeLoadScript(\"vega\", \"5\")\n",
       "        .then(() => maybeLoadScript(\"vega-lite\", \"4.17.0\"))\n",
       "        .then(() => maybeLoadScript(\"vega-embed\", \"6\"))\n",
       "        .catch(showError)\n",
       "        .then(() => displayChart(vegaEmbed));\n",
       "    }\n",
       "  })({\"config\": {\"view\": {\"continuousWidth\": 400, \"continuousHeight\": 300}}, \"hconcat\": [{\"layer\": [{\"mark\": \"line\", \"encoding\": {\"color\": {\"field\": \"variable\", \"legend\": {\"title\": null}, \"scale\": {\"domain\": [\"total_seeds\", \"total_stalk\", \"total_deposited_bdv\", \"seeds_per_stalk\", \"stalk_per_bdv\", \"seeds_per_bdv\"], \"range\": [\"#32A251\", \"#FF7F0F\", \"#3CB7CC\", \"#FFD94A\", \"#39737C\", \"#B85A0D\"]}, \"type\": \"nominal\"}, \"order\": {\"field\": \"stack_order\", \"sort\": \"ascending\", \"type\": \"quantitative\"}, \"x\": {\"axis\": {\"formatType\": \"time\", \"labelAngle\": 0, \"labelExpr\": \"timeFormat(toDate(datum.value), '%b %e, %Y')\", \"labelOverlap\": true, \"labelPadding\": 5, \"labelSeparation\": 10, \"ticks\": false, \"title\": \"Date\"}, \"field\": \"timestamp\", \"type\": \"ordinal\"}, \"y\": {\"axis\": {\"format\": \".2s\", \"title\": null}, \"field\": \"value\", \"type\": \"quantitative\"}}, \"title\": \"\", \"transform\": [{\"calculate\": \"datum['variable'] === 'total_seeds' ? 0 :  datum['variable'] === 'total_stalk' ? 1 :  datum['variable'] === 'total_deposited_bdv' ? 2 :  datum['variable'] === 'seeds_per_stalk' ? 3 :  datum['variable'] === 'stalk_per_bdv' ? 4 :  datum['variable'] === 'seeds_per_bdv' ? 5 : 6\", \"as\": \"stack_order\"}, {\"filter\": \"datum['variable'] == 'total_seeds' | datum['variable'] == 'total_stalk' | datum['variable'] == 'total_deposited_bdv'\"}], \"width\": 400}, {\"mark\": {\"type\": \"rule\", \"color\": \"#474440\", \"opacity\": 1, \"strokeDash\": [2.5, 1]}, \"encoding\": {\"x\": {\"axis\": {\"formatType\": \"time\", \"labelAngle\": 0, \"labelExpr\": \"timeFormat(toDate(datum.value), '%b %e, %Y')\", \"labelOverlap\": true, \"labelPadding\": 5, \"labelSeparation\": 10, \"ticks\": false, \"title\": \"Date\"}, \"field\": \"timestamp\", \"type\": \"ordinal\"}}, \"title\": \"\", \"transform\": [{\"calculate\": \"datum['variable'] === 'total_seeds' ? 0 :  datum['variable'] === 'total_stalk' ? 1 :  datum['variable'] === 'total_deposited_bdv' ? 2 :  datum['variable'] === 'seeds_per_stalk' ? 3 :  datum['variable'] === 'stalk_per_bdv' ? 4 :  datum['variable'] === 'seeds_per_bdv' ? 5 : 6\", \"as\": \"stack_order\"}, {\"pivot\": \"variable\", \"value\": \"value\", \"groupby\": [\"timestamp\"]}, {\"filter\": \"\\n            year(datum['timestamp']) === 2022 && \\n            month(datum['timestamp']) === 3 && \\n            date(datum['timestamp']) === 17 \\n        \"}], \"width\": 400}, {\"mark\": {\"type\": \"rule\", \"color\": \"#878787\"}, \"encoding\": {\"opacity\": {\"condition\": {\"value\": 1, \"selection\": \"selector002\"}, \"value\": 0}, \"tooltip\": [{\"field\": \"timestamp\", \"timeUnit\": \"yearmonthdate\", \"title\": \"date\", \"type\": \"ordinal\"}, {\"field\": \"total_seeds\", \"format\": \",d\", \"type\": \"quantitative\"}, {\"field\": \"total_stalk\", \"format\": \",d\", \"type\": \"quantitative\"}, {\"field\": \"total_deposited_bdv\", \"format\": \",d\", \"type\": \"quantitative\"}, {\"field\": \"seeds_per_stalk\", \"format\": \".2f\", \"type\": \"quantitative\"}, {\"field\": \"stalk_per_bdv\", \"format\": \".2f\", \"type\": \"quantitative\"}, {\"field\": \"seeds_per_bdv\", \"format\": \".2f\", \"type\": \"quantitative\"}], \"x\": {\"axis\": {\"formatType\": \"time\", \"labelAngle\": 0, \"labelExpr\": \"timeFormat(toDate(datum.value), '%b %e, %Y')\", \"labelOverlap\": true, \"labelPadding\": 5, \"labelSeparation\": 10, \"ticks\": false, \"title\": \"Date\"}, \"field\": \"timestamp\", \"type\": \"ordinal\"}}, \"selection\": {\"selector002\": {\"type\": \"single\", \"fields\": [\"timestamp\"], \"nearest\": true, \"on\": \"mouseover\", \"empty\": \"none\", \"clear\": \"mouseout\"}}, \"title\": \"\", \"transform\": [{\"calculate\": \"datum['variable'] === 'total_seeds' ? 0 :  datum['variable'] === 'total_stalk' ? 1 :  datum['variable'] === 'total_deposited_bdv' ? 2 :  datum['variable'] === 'seeds_per_stalk' ? 3 :  datum['variable'] === 'stalk_per_bdv' ? 4 :  datum['variable'] === 'seeds_per_bdv' ? 5 : 6\", \"as\": \"stack_order\"}, {\"pivot\": \"variable\", \"value\": \"value\", \"groupby\": [\"timestamp\"]}], \"width\": 400}]}, {\"layer\": [{\"mark\": \"line\", \"encoding\": {\"color\": {\"field\": \"variable\", \"legend\": {\"orient\": \"top\", \"title\": null}, \"scale\": {\"domain\": [\"total_seeds\", \"total_stalk\", \"total_deposited_bdv\", \"seeds_per_stalk\", \"stalk_per_bdv\", \"seeds_per_bdv\"], \"range\": [\"#32A251\", \"#FF7F0F\", \"#3CB7CC\", \"#FFD94A\", \"#39737C\", \"#B85A0D\"]}, \"type\": \"nominal\"}, \"order\": {\"field\": \"stack_order\", \"sort\": \"ascending\", \"type\": \"quantitative\"}, \"x\": {\"axis\": {\"formatType\": \"time\", \"labelAngle\": 0, \"labelExpr\": \"timeFormat(toDate(datum.value), '%b %e, %Y')\", \"labelOverlap\": true, \"labelPadding\": 5, \"labelSeparation\": 50, \"ticks\": false, \"title\": \"Date\"}, \"field\": \"timestamp\", \"type\": \"ordinal\"}, \"y\": {\"axis\": {\"title\": null}, \"field\": \"value\", \"type\": \"quantitative\"}}, \"title\": \"\", \"transform\": [{\"calculate\": \"datum['variable'] === 'total_seeds' ? 0 :  datum['variable'] === 'total_stalk' ? 1 :  datum['variable'] === 'total_deposited_bdv' ? 2 :  datum['variable'] === 'seeds_per_stalk' ? 3 :  datum['variable'] === 'stalk_per_bdv' ? 4 :  datum['variable'] === 'seeds_per_bdv' ? 5 : 6\", \"as\": \"stack_order\"}, {\"filter\": \"datum['variable'] == 'seeds_per_stalk' | datum['variable'] == 'stalk_per_bdv' | datum['variable'] == 'seeds_per_bdv'\"}], \"width\": 400}, {\"mark\": {\"type\": \"rule\", \"color\": \"#474440\", \"opacity\": 1, \"strokeDash\": [2.5, 1]}, \"encoding\": {\"x\": {\"axis\": {\"formatType\": \"time\", \"labelAngle\": 0, \"labelExpr\": \"timeFormat(toDate(datum.value), '%b %e, %Y')\", \"labelOverlap\": true, \"labelPadding\": 5, \"labelSeparation\": 50, \"ticks\": false, \"title\": \"Date\"}, \"field\": \"timestamp\", \"type\": \"ordinal\"}}, \"title\": \"\", \"transform\": [{\"calculate\": \"datum['variable'] === 'total_seeds' ? 0 :  datum['variable'] === 'total_stalk' ? 1 :  datum['variable'] === 'total_deposited_bdv' ? 2 :  datum['variable'] === 'seeds_per_stalk' ? 3 :  datum['variable'] === 'stalk_per_bdv' ? 4 :  datum['variable'] === 'seeds_per_bdv' ? 5 : 6\", \"as\": \"stack_order\"}, {\"pivot\": \"variable\", \"value\": \"value\", \"groupby\": [\"timestamp\"]}, {\"filter\": \"\\n            year(datum['timestamp']) === 2022 && \\n            month(datum['timestamp']) === 3 && \\n            date(datum['timestamp']) === 17 \\n        \"}], \"width\": 400}, {\"mark\": {\"type\": \"rule\", \"color\": \"#878787\"}, \"encoding\": {\"opacity\": {\"condition\": {\"value\": 1, \"selection\": \"selector002\"}, \"value\": 0}, \"tooltip\": [{\"field\": \"timestamp\", \"timeUnit\": \"yearmonthdate\", \"title\": \"date\", \"type\": \"ordinal\"}, {\"field\": \"total_seeds\", \"format\": \",d\", \"type\": \"quantitative\"}, {\"field\": \"total_stalk\", \"format\": \",d\", \"type\": \"quantitative\"}, {\"field\": \"total_deposited_bdv\", \"format\": \",d\", \"type\": \"quantitative\"}, {\"field\": \"seeds_per_stalk\", \"format\": \".2f\", \"type\": \"quantitative\"}, {\"field\": \"stalk_per_bdv\", \"format\": \".2f\", \"type\": \"quantitative\"}, {\"field\": \"seeds_per_bdv\", \"format\": \".2f\", \"type\": \"quantitative\"}], \"x\": {\"axis\": {\"formatType\": \"time\", \"labelAngle\": 0, \"labelExpr\": \"timeFormat(toDate(datum.value), '%b %e, %Y')\", \"labelOverlap\": true, \"labelPadding\": 5, \"labelSeparation\": 50, \"ticks\": false, \"title\": \"Date\"}, \"field\": \"timestamp\", \"type\": \"ordinal\"}}, \"selection\": {\"selector002\": {\"type\": \"single\", \"fields\": [\"timestamp\"], \"nearest\": true, \"on\": \"mouseover\", \"empty\": \"none\", \"clear\": \"mouseout\"}}, \"title\": \"\", \"transform\": [{\"calculate\": \"datum['variable'] === 'total_seeds' ? 0 :  datum['variable'] === 'total_stalk' ? 1 :  datum['variable'] === 'total_deposited_bdv' ? 2 :  datum['variable'] === 'seeds_per_stalk' ? 3 :  datum['variable'] === 'stalk_per_bdv' ? 4 :  datum['variable'] === 'seeds_per_bdv' ? 5 : 6\", \"as\": \"stack_order\"}, {\"pivot\": \"variable\", \"value\": \"value\", \"groupby\": [\"timestamp\"]}], \"width\": 400}]}], \"data\": {\"name\": \"data-d4c6e0a3230dcd48dd9e29c22b09da8e\"}, \"$schema\": \"https://vega.github.io/schema/vega-lite/v4.17.0.json\", \"datasets\": {\"data-d4c6e0a3230dcd48dd9e29c22b09da8e\": [{\"timestamp\": \"2022-08-04T00:00:00\", \"variable\": \"total_seeds\", \"value\": 117315281.252474, \"total_seeds\": 117315281.252474, \"total_stalk\": 40685136.90995149, \"total_deposited_bdv\": 32317887.140979, \"seeds_per_stalk\": 2.8834923552580927, \"stalk_per_bdv\": 1.2589046038954335, \"seeds_per_bdv\": 3.6300418013317}, {\"timestamp\": \"2022-08-04T00:00:00\", \"variable\": \"total_stalk\", \"value\": 40685136.90995149, \"total_seeds\": 117315281.252474, \"total_stalk\": 40685136.90995149, \"total_deposited_bdv\": 32317887.140979, \"seeds_per_stalk\": 2.8834923552580927, \"stalk_per_bdv\": 1.2589046038954335, \"seeds_per_bdv\": 3.6300418013317}, {\"timestamp\": \"2022-08-04T00:00:00\", \"variable\": \"total_deposited_bdv\", \"value\": 32317887.140979, \"total_seeds\": 117315281.252474, \"total_stalk\": 40685136.90995149, \"total_deposited_bdv\": 32317887.140979, \"seeds_per_stalk\": 2.8834923552580927, \"stalk_per_bdv\": 1.2589046038954335, \"seeds_per_bdv\": 3.6300418013317}, {\"timestamp\": \"2022-08-04T00:00:00\", \"variable\": \"seeds_per_stalk\", \"value\": 2.8834923552580927, \"total_seeds\": 117315281.252474, \"total_stalk\": 40685136.90995149, \"total_deposited_bdv\": 32317887.140979, \"seeds_per_stalk\": 2.8834923552580927, \"stalk_per_bdv\": 1.2589046038954335, \"seeds_per_bdv\": 3.6300418013317}, {\"timestamp\": \"2022-08-04T00:00:00\", \"variable\": \"stalk_per_bdv\", \"value\": 1.2589046038954335, \"total_seeds\": 117315281.252474, \"total_stalk\": 40685136.90995149, \"total_deposited_bdv\": 32317887.140979, \"seeds_per_stalk\": 2.8834923552580927, \"stalk_per_bdv\": 1.2589046038954335, \"seeds_per_bdv\": 3.6300418013317}, {\"timestamp\": \"2022-08-04T00:00:00\", \"variable\": \"seeds_per_bdv\", \"value\": 3.6300418013317, \"total_seeds\": 117315281.252474, \"total_stalk\": 40685136.90995149, \"total_deposited_bdv\": 32317887.140979, \"seeds_per_stalk\": 2.8834923552580927, \"stalk_per_bdv\": 1.2589046038954335, \"seeds_per_bdv\": 3.6300418013317}, {\"timestamp\": \"2022-08-05T00:00:00\", \"variable\": \"total_seeds\", \"value\": 119325315.88271, \"total_seeds\": 119325315.88271, \"total_stalk\": 41013904.7793162, \"total_deposited_bdv\": 32645767.088951, \"seeds_per_stalk\": 2.9093868658632855, \"stalk_per_bdv\": 1.2563314768363159, \"seeds_per_bdv\": 3.6551542978782017}, {\"timestamp\": \"2022-08-05T00:00:00\", \"variable\": \"total_stalk\", \"value\": 41013904.7793162, \"total_seeds\": 119325315.88271, \"total_stalk\": 41013904.7793162, \"total_deposited_bdv\": 32645767.088951, \"seeds_per_stalk\": 2.9093868658632855, \"stalk_per_bdv\": 1.2563314768363159, \"seeds_per_bdv\": 3.6551542978782017}, {\"timestamp\": \"2022-08-05T00:00:00\", \"variable\": \"total_deposited_bdv\", \"value\": 32645767.088951, \"total_seeds\": 119325315.88271, \"total_stalk\": 41013904.7793162, \"total_deposited_bdv\": 32645767.088951, \"seeds_per_stalk\": 2.9093868658632855, \"stalk_per_bdv\": 1.2563314768363159, \"seeds_per_bdv\": 3.6551542978782017}, {\"timestamp\": \"2022-08-05T00:00:00\", \"variable\": \"seeds_per_stalk\", \"value\": 2.9093868658632855, \"total_seeds\": 119325315.88271, \"total_stalk\": 41013904.7793162, \"total_deposited_bdv\": 32645767.088951, \"seeds_per_stalk\": 2.9093868658632855, \"stalk_per_bdv\": 1.2563314768363159, \"seeds_per_bdv\": 3.6551542978782017}, {\"timestamp\": \"2022-08-05T00:00:00\", \"variable\": \"stalk_per_bdv\", \"value\": 1.2563314768363159, \"total_seeds\": 119325315.88271, \"total_stalk\": 41013904.7793162, \"total_deposited_bdv\": 32645767.088951, \"seeds_per_stalk\": 2.9093868658632855, \"stalk_per_bdv\": 1.2563314768363159, \"seeds_per_bdv\": 3.6551542978782017}, {\"timestamp\": \"2022-08-05T00:00:00\", \"variable\": \"seeds_per_bdv\", \"value\": 3.6551542978782017, \"total_seeds\": 119325315.88271, \"total_stalk\": 41013904.7793162, \"total_deposited_bdv\": 32645767.088951, \"seeds_per_stalk\": 2.9093868658632855, \"stalk_per_bdv\": 1.2563314768363159, \"seeds_per_bdv\": 3.6551542978782017}, {\"timestamp\": \"2022-08-06T00:00:00\", \"variable\": \"total_seeds\", \"value\": 122154304.784718, \"total_seeds\": 122154304.784718, \"total_stalk\": 41697375.87699083, \"total_deposited_bdv\": 33371039.858399, \"seeds_per_stalk\": 2.9295441791128245, \"stalk_per_bdv\": 1.2495078383509293, \"seeds_per_bdv\": 3.660488414596813}, {\"timestamp\": \"2022-08-06T00:00:00\", \"variable\": \"total_stalk\", \"value\": 41697375.87699083, \"total_seeds\": 122154304.784718, \"total_stalk\": 41697375.87699083, \"total_deposited_bdv\": 33371039.858399, \"seeds_per_stalk\": 2.9295441791128245, \"stalk_per_bdv\": 1.2495078383509293, \"seeds_per_bdv\": 3.660488414596813}, {\"timestamp\": \"2022-08-06T00:00:00\", \"variable\": \"total_deposited_bdv\", \"value\": 33371039.858399, \"total_seeds\": 122154304.784718, \"total_stalk\": 41697375.87699083, \"total_deposited_bdv\": 33371039.858399, \"seeds_per_stalk\": 2.9295441791128245, \"stalk_per_bdv\": 1.2495078383509293, \"seeds_per_bdv\": 3.660488414596813}, {\"timestamp\": \"2022-08-06T00:00:00\", \"variable\": \"seeds_per_stalk\", \"value\": 2.9295441791128245, \"total_seeds\": 122154304.784718, \"total_stalk\": 41697375.87699083, \"total_deposited_bdv\": 33371039.858399, \"seeds_per_stalk\": 2.9295441791128245, \"stalk_per_bdv\": 1.2495078383509293, \"seeds_per_bdv\": 3.660488414596813}, {\"timestamp\": \"2022-08-06T00:00:00\", \"variable\": \"stalk_per_bdv\", \"value\": 1.2495078383509293, \"total_seeds\": 122154304.784718, \"total_stalk\": 41697375.87699083, \"total_deposited_bdv\": 33371039.858399, \"seeds_per_stalk\": 2.9295441791128245, \"stalk_per_bdv\": 1.2495078383509293, \"seeds_per_bdv\": 3.660488414596813}, {\"timestamp\": \"2022-08-06T00:00:00\", \"variable\": \"seeds_per_bdv\", \"value\": 3.660488414596813, \"total_seeds\": 122154304.784718, \"total_stalk\": 41697375.87699083, \"total_deposited_bdv\": 33371039.858399, \"seeds_per_stalk\": 2.9295441791128245, \"stalk_per_bdv\": 1.2495078383509293, \"seeds_per_bdv\": 3.660488414596813}, {\"timestamp\": \"2022-08-07T00:00:00\", \"variable\": \"total_seeds\", \"value\": 152581666.5032, \"total_seeds\": 152581666.5032, \"total_stalk\": 50002487.600811996, \"total_deposited_bdv\": 42131149.240254, \"seeds_per_stalk\": 3.051481512706224, \"stalk_per_bdv\": 1.1868294243689266, \"seeds_per_bdv\": 3.6215880471975495}, {\"timestamp\": \"2022-08-07T00:00:00\", \"variable\": \"total_stalk\", \"value\": 50002487.600811996, \"total_seeds\": 152581666.5032, \"total_stalk\": 50002487.600811996, \"total_deposited_bdv\": 42131149.240254, \"seeds_per_stalk\": 3.051481512706224, \"stalk_per_bdv\": 1.1868294243689266, \"seeds_per_bdv\": 3.6215880471975495}, {\"timestamp\": \"2022-08-07T00:00:00\", \"variable\": \"total_deposited_bdv\", \"value\": 42131149.240254, \"total_seeds\": 152581666.5032, \"total_stalk\": 50002487.600811996, \"total_deposited_bdv\": 42131149.240254, \"seeds_per_stalk\": 3.051481512706224, \"stalk_per_bdv\": 1.1868294243689266, \"seeds_per_bdv\": 3.6215880471975495}, {\"timestamp\": \"2022-08-07T00:00:00\", \"variable\": \"seeds_per_stalk\", \"value\": 3.051481512706224, \"total_seeds\": 152581666.5032, \"total_stalk\": 50002487.600811996, \"total_deposited_bdv\": 42131149.240254, \"seeds_per_stalk\": 3.051481512706224, \"stalk_per_bdv\": 1.1868294243689266, \"seeds_per_bdv\": 3.6215880471975495}, {\"timestamp\": \"2022-08-07T00:00:00\", \"variable\": \"stalk_per_bdv\", \"value\": 1.1868294243689266, \"total_seeds\": 152581666.5032, \"total_stalk\": 50002487.600811996, \"total_deposited_bdv\": 42131149.240254, \"seeds_per_stalk\": 3.051481512706224, \"stalk_per_bdv\": 1.1868294243689266, \"seeds_per_bdv\": 3.6215880471975495}, {\"timestamp\": \"2022-08-07T00:00:00\", \"variable\": \"seeds_per_bdv\", \"value\": 3.6215880471975495, \"total_seeds\": 152581666.5032, \"total_stalk\": 50002487.600811996, \"total_deposited_bdv\": 42131149.240254, \"seeds_per_stalk\": 3.051481512706224, \"stalk_per_bdv\": 1.1868294243689266, \"seeds_per_bdv\": 3.6215880471975495}, {\"timestamp\": \"2022-08-08T00:00:00\", \"variable\": \"total_seeds\", \"value\": 156841917.191148, \"total_seeds\": 156841917.191148, \"total_stalk\": 51893294.67383813, \"total_deposited_bdv\": 43403950.030373, \"seeds_per_stalk\": 3.022392742201806, \"stalk_per_bdv\": 1.1955892179749654, \"seeds_per_bdv\": 3.6135401750622687}, {\"timestamp\": \"2022-08-08T00:00:00\", \"variable\": \"total_stalk\", \"value\": 51893294.67383813, \"total_seeds\": 156841917.191148, \"total_stalk\": 51893294.67383813, \"total_deposited_bdv\": 43403950.030373, \"seeds_per_stalk\": 3.022392742201806, \"stalk_per_bdv\": 1.1955892179749654, \"seeds_per_bdv\": 3.6135401750622687}, {\"timestamp\": \"2022-08-08T00:00:00\", \"variable\": \"total_deposited_bdv\", \"value\": 43403950.030373, \"total_seeds\": 156841917.191148, \"total_stalk\": 51893294.67383813, \"total_deposited_bdv\": 43403950.030373, \"seeds_per_stalk\": 3.022392742201806, \"stalk_per_bdv\": 1.1955892179749654, \"seeds_per_bdv\": 3.6135401750622687}, {\"timestamp\": \"2022-08-08T00:00:00\", \"variable\": \"seeds_per_stalk\", \"value\": 3.022392742201806, \"total_seeds\": 156841917.191148, \"total_stalk\": 51893294.67383813, \"total_deposited_bdv\": 43403950.030373, \"seeds_per_stalk\": 3.022392742201806, \"stalk_per_bdv\": 1.1955892179749654, \"seeds_per_bdv\": 3.6135401750622687}, {\"timestamp\": \"2022-08-08T00:00:00\", \"variable\": \"stalk_per_bdv\", \"value\": 1.1955892179749654, \"total_seeds\": 156841917.191148, \"total_stalk\": 51893294.67383813, \"total_deposited_bdv\": 43403950.030373, \"seeds_per_stalk\": 3.022392742201806, \"stalk_per_bdv\": 1.1955892179749654, \"seeds_per_bdv\": 3.6135401750622687}, {\"timestamp\": \"2022-08-08T00:00:00\", \"variable\": \"seeds_per_bdv\", \"value\": 3.6135401750622687, \"total_seeds\": 156841917.191148, \"total_stalk\": 51893294.67383813, \"total_deposited_bdv\": 43403950.030373, \"seeds_per_stalk\": 3.022392742201806, \"stalk_per_bdv\": 1.1955892179749654, \"seeds_per_bdv\": 3.6135401750622687}, {\"timestamp\": \"2022-08-09T00:00:00\", \"variable\": \"total_seeds\", \"value\": 148522196.084286, \"total_seeds\": 148522196.084286, \"total_stalk\": 50183663.7906471, \"total_deposited_bdv\": 41497757.892978, \"seeds_per_stalk\": 2.9595725952549246, \"stalk_per_bdv\": 1.209310245629894, \"seeds_per_bdv\": 3.5790414621272357}, {\"timestamp\": \"2022-08-09T00:00:00\", \"variable\": \"total_stalk\", \"value\": 50183663.7906471, \"total_seeds\": 148522196.084286, \"total_stalk\": 50183663.7906471, \"total_deposited_bdv\": 41497757.892978, \"seeds_per_stalk\": 2.9595725952549246, \"stalk_per_bdv\": 1.209310245629894, \"seeds_per_bdv\": 3.5790414621272357}, {\"timestamp\": \"2022-08-09T00:00:00\", \"variable\": \"total_deposited_bdv\", \"value\": 41497757.892978, \"total_seeds\": 148522196.084286, \"total_stalk\": 50183663.7906471, \"total_deposited_bdv\": 41497757.892978, \"seeds_per_stalk\": 2.9595725952549246, \"stalk_per_bdv\": 1.209310245629894, \"seeds_per_bdv\": 3.5790414621272357}, {\"timestamp\": \"2022-08-09T00:00:00\", \"variable\": \"seeds_per_stalk\", \"value\": 2.9595725952549246, \"total_seeds\": 148522196.084286, \"total_stalk\": 50183663.7906471, \"total_deposited_bdv\": 41497757.892978, \"seeds_per_stalk\": 2.9595725952549246, \"stalk_per_bdv\": 1.209310245629894, \"seeds_per_bdv\": 3.5790414621272357}, {\"timestamp\": \"2022-08-09T00:00:00\", \"variable\": \"stalk_per_bdv\", \"value\": 1.209310245629894, \"total_seeds\": 148522196.084286, \"total_stalk\": 50183663.7906471, \"total_deposited_bdv\": 41497757.892978, \"seeds_per_stalk\": 2.9595725952549246, \"stalk_per_bdv\": 1.209310245629894, \"seeds_per_bdv\": 3.5790414621272357}, {\"timestamp\": \"2022-08-09T00:00:00\", \"variable\": \"seeds_per_bdv\", \"value\": 3.5790414621272357, \"total_seeds\": 148522196.084286, \"total_stalk\": 50183663.7906471, \"total_deposited_bdv\": 41497757.892978, \"seeds_per_stalk\": 2.9595725952549246, \"stalk_per_bdv\": 1.209310245629894, \"seeds_per_bdv\": 3.5790414621272357}, {\"timestamp\": \"2022-08-10T00:00:00\", \"variable\": \"total_seeds\", \"value\": 148878657.744294, \"total_seeds\": 148878657.744294, \"total_stalk\": 50447352.00813754, \"total_deposited_bdv\": 41601629.764988, \"seeds_per_stalk\": 2.951168927960356, \"stalk_per_bdv\": 1.2126292237376266, \"seeds_per_bdv\": 3.5786736862311708}, {\"timestamp\": \"2022-08-10T00:00:00\", \"variable\": \"total_stalk\", \"value\": 50447352.00813754, \"total_seeds\": 148878657.744294, \"total_stalk\": 50447352.00813754, \"total_deposited_bdv\": 41601629.764988, \"seeds_per_stalk\": 2.951168927960356, \"stalk_per_bdv\": 1.2126292237376266, \"seeds_per_bdv\": 3.5786736862311708}, {\"timestamp\": \"2022-08-10T00:00:00\", \"variable\": \"total_deposited_bdv\", \"value\": 41601629.764988, \"total_seeds\": 148878657.744294, \"total_stalk\": 50447352.00813754, \"total_deposited_bdv\": 41601629.764988, \"seeds_per_stalk\": 2.951168927960356, \"stalk_per_bdv\": 1.2126292237376266, \"seeds_per_bdv\": 3.5786736862311708}, {\"timestamp\": \"2022-08-10T00:00:00\", \"variable\": \"seeds_per_stalk\", \"value\": 2.951168927960356, \"total_seeds\": 148878657.744294, \"total_stalk\": 50447352.00813754, \"total_deposited_bdv\": 41601629.764988, \"seeds_per_stalk\": 2.951168927960356, \"stalk_per_bdv\": 1.2126292237376266, \"seeds_per_bdv\": 3.5786736862311708}, {\"timestamp\": \"2022-08-10T00:00:00\", \"variable\": \"stalk_per_bdv\", \"value\": 1.2126292237376266, \"total_seeds\": 148878657.744294, \"total_stalk\": 50447352.00813754, \"total_deposited_bdv\": 41601629.764988, \"seeds_per_stalk\": 2.951168927960356, \"stalk_per_bdv\": 1.2126292237376266, \"seeds_per_bdv\": 3.5786736862311708}, {\"timestamp\": \"2022-08-10T00:00:00\", \"variable\": \"seeds_per_bdv\", \"value\": 3.5786736862311708, \"total_seeds\": 148878657.744294, \"total_stalk\": 50447352.00813754, \"total_deposited_bdv\": 41601629.764988, \"seeds_per_stalk\": 2.951168927960356, \"stalk_per_bdv\": 1.2126292237376266, \"seeds_per_bdv\": 3.5786736862311708}, {\"timestamp\": \"2022-08-11T00:00:00\", \"variable\": \"total_seeds\", \"value\": 148567349.772558, \"total_seeds\": 148567349.772558, \"total_stalk\": 50712519.90009628, \"total_deposited_bdv\": 41616163.176115, \"seeds_per_stalk\": 2.9295990431009113, \"stalk_per_bdv\": 1.2185774956111766, \"seeds_per_bdv\": 3.569943465086808}, {\"timestamp\": \"2022-08-11T00:00:00\", \"variable\": \"total_stalk\", \"value\": 50712519.90009628, \"total_seeds\": 148567349.772558, \"total_stalk\": 50712519.90009628, \"total_deposited_bdv\": 41616163.176115, \"seeds_per_stalk\": 2.9295990431009113, \"stalk_per_bdv\": 1.2185774956111766, \"seeds_per_bdv\": 3.569943465086808}, {\"timestamp\": \"2022-08-11T00:00:00\", \"variable\": \"total_deposited_bdv\", \"value\": 41616163.176115, \"total_seeds\": 148567349.772558, \"total_stalk\": 50712519.90009628, \"total_deposited_bdv\": 41616163.176115, \"seeds_per_stalk\": 2.9295990431009113, \"stalk_per_bdv\": 1.2185774956111766, \"seeds_per_bdv\": 3.569943465086808}, {\"timestamp\": \"2022-08-11T00:00:00\", \"variable\": \"seeds_per_stalk\", \"value\": 2.9295990431009113, \"total_seeds\": 148567349.772558, \"total_stalk\": 50712519.90009628, \"total_deposited_bdv\": 41616163.176115, \"seeds_per_stalk\": 2.9295990431009113, \"stalk_per_bdv\": 1.2185774956111766, \"seeds_per_bdv\": 3.569943465086808}, {\"timestamp\": \"2022-08-11T00:00:00\", \"variable\": \"stalk_per_bdv\", \"value\": 1.2185774956111766, \"total_seeds\": 148567349.772558, \"total_stalk\": 50712519.90009628, \"total_deposited_bdv\": 41616163.176115, \"seeds_per_stalk\": 2.9295990431009113, \"stalk_per_bdv\": 1.2185774956111766, \"seeds_per_bdv\": 3.569943465086808}, {\"timestamp\": \"2022-08-11T00:00:00\", \"variable\": \"seeds_per_bdv\", \"value\": 3.569943465086808, \"total_seeds\": 148567349.772558, \"total_stalk\": 50712519.90009628, \"total_deposited_bdv\": 41616163.176115, \"seeds_per_stalk\": 2.9295990431009113, \"stalk_per_bdv\": 1.2185774956111766, \"seeds_per_bdv\": 3.569943465086808}, {\"timestamp\": \"2022-08-12T00:00:00\", \"variable\": \"total_seeds\", \"value\": 148726459.722724, \"total_seeds\": 148726459.722724, \"total_stalk\": 50861217.4912992, \"total_deposited_bdv\": 41655989.769856, \"seeds_per_stalk\": 2.9241623983571876, \"stalk_per_bdv\": 1.220982090986216, \"seeds_per_bdv\": 3.5703499195294266}, {\"timestamp\": \"2022-08-12T00:00:00\", \"variable\": \"total_stalk\", \"value\": 50861217.4912992, \"total_seeds\": 148726459.722724, \"total_stalk\": 50861217.4912992, \"total_deposited_bdv\": 41655989.769856, \"seeds_per_stalk\": 2.9241623983571876, \"stalk_per_bdv\": 1.220982090986216, \"seeds_per_bdv\": 3.5703499195294266}, {\"timestamp\": \"2022-08-12T00:00:00\", \"variable\": \"total_deposited_bdv\", \"value\": 41655989.769856, \"total_seeds\": 148726459.722724, \"total_stalk\": 50861217.4912992, \"total_deposited_bdv\": 41655989.769856, \"seeds_per_stalk\": 2.9241623983571876, \"stalk_per_bdv\": 1.220982090986216, \"seeds_per_bdv\": 3.5703499195294266}, {\"timestamp\": \"2022-08-12T00:00:00\", \"variable\": \"seeds_per_stalk\", \"value\": 2.9241623983571876, \"total_seeds\": 148726459.722724, \"total_stalk\": 50861217.4912992, \"total_deposited_bdv\": 41655989.769856, \"seeds_per_stalk\": 2.9241623983571876, \"stalk_per_bdv\": 1.220982090986216, \"seeds_per_bdv\": 3.5703499195294266}, {\"timestamp\": \"2022-08-12T00:00:00\", \"variable\": \"stalk_per_bdv\", \"value\": 1.220982090986216, \"total_seeds\": 148726459.722724, \"total_stalk\": 50861217.4912992, \"total_deposited_bdv\": 41655989.769856, \"seeds_per_stalk\": 2.9241623983571876, \"stalk_per_bdv\": 1.220982090986216, \"seeds_per_bdv\": 3.5703499195294266}, {\"timestamp\": \"2022-08-12T00:00:00\", \"variable\": \"seeds_per_bdv\", \"value\": 3.5703499195294266, \"total_seeds\": 148726459.722724, \"total_stalk\": 50861217.4912992, \"total_deposited_bdv\": 41655989.769856, \"seeds_per_stalk\": 2.9241623983571876, \"stalk_per_bdv\": 1.220982090986216, \"seeds_per_bdv\": 3.5703499195294266}, {\"timestamp\": \"2022-08-13T00:00:00\", \"variable\": \"total_seeds\", \"value\": 149233563.966976, \"total_seeds\": 149233563.966976, \"total_stalk\": 51218706.914144106, \"total_deposited_bdv\": 41819484.501842, \"seeds_per_stalk\": 2.9136534863547086, \"stalk_per_bdv\": 1.2247570127720753, \"seeds_per_bdv\": 3.568517540200735}, {\"timestamp\": \"2022-08-13T00:00:00\", \"variable\": \"total_stalk\", \"value\": 51218706.914144106, \"total_seeds\": 149233563.966976, \"total_stalk\": 51218706.914144106, \"total_deposited_bdv\": 41819484.501842, \"seeds_per_stalk\": 2.9136534863547086, \"stalk_per_bdv\": 1.2247570127720753, \"seeds_per_bdv\": 3.568517540200735}, {\"timestamp\": \"2022-08-13T00:00:00\", \"variable\": \"total_deposited_bdv\", \"value\": 41819484.501842, \"total_seeds\": 149233563.966976, \"total_stalk\": 51218706.914144106, \"total_deposited_bdv\": 41819484.501842, \"seeds_per_stalk\": 2.9136534863547086, \"stalk_per_bdv\": 1.2247570127720753, \"seeds_per_bdv\": 3.568517540200735}, {\"timestamp\": \"2022-08-13T00:00:00\", \"variable\": \"seeds_per_stalk\", \"value\": 2.9136534863547086, \"total_seeds\": 149233563.966976, \"total_stalk\": 51218706.914144106, \"total_deposited_bdv\": 41819484.501842, \"seeds_per_stalk\": 2.9136534863547086, \"stalk_per_bdv\": 1.2247570127720753, \"seeds_per_bdv\": 3.568517540200735}, {\"timestamp\": \"2022-08-13T00:00:00\", \"variable\": \"stalk_per_bdv\", \"value\": 1.2247570127720753, \"total_seeds\": 149233563.966976, \"total_stalk\": 51218706.914144106, \"total_deposited_bdv\": 41819484.501842, \"seeds_per_stalk\": 2.9136534863547086, \"stalk_per_bdv\": 1.2247570127720753, \"seeds_per_bdv\": 3.568517540200735}, {\"timestamp\": \"2022-08-13T00:00:00\", \"variable\": \"seeds_per_bdv\", \"value\": 3.568517540200735, \"total_seeds\": 149233563.966976, \"total_stalk\": 51218706.914144106, \"total_deposited_bdv\": 41819484.501842, \"seeds_per_stalk\": 2.9136534863547086, \"stalk_per_bdv\": 1.2247570127720753, \"seeds_per_bdv\": 3.568517540200735}, {\"timestamp\": \"2022-08-14T00:00:00\", \"variable\": \"total_seeds\", \"value\": 135283395.554616, \"total_seeds\": 135283395.554616, \"total_stalk\": 49303310.858826704, \"total_deposited_bdv\": 39354436.47285, \"seeds_per_stalk\": 2.743900829337436, \"stalk_per_bdv\": 1.252801851014695, \"seeds_per_bdv\": 3.4375640379946963}, {\"timestamp\": \"2022-08-14T00:00:00\", \"variable\": \"total_stalk\", \"value\": 49303310.858826704, \"total_seeds\": 135283395.554616, \"total_stalk\": 49303310.858826704, \"total_deposited_bdv\": 39354436.47285, \"seeds_per_stalk\": 2.743900829337436, \"stalk_per_bdv\": 1.252801851014695, \"seeds_per_bdv\": 3.4375640379946963}, {\"timestamp\": \"2022-08-14T00:00:00\", \"variable\": \"total_deposited_bdv\", \"value\": 39354436.47285, \"total_seeds\": 135283395.554616, \"total_stalk\": 49303310.858826704, \"total_deposited_bdv\": 39354436.47285, \"seeds_per_stalk\": 2.743900829337436, \"stalk_per_bdv\": 1.252801851014695, \"seeds_per_bdv\": 3.4375640379946963}, {\"timestamp\": \"2022-08-14T00:00:00\", \"variable\": \"seeds_per_stalk\", \"value\": 2.743900829337436, \"total_seeds\": 135283395.554616, \"total_stalk\": 49303310.858826704, \"total_deposited_bdv\": 39354436.47285, \"seeds_per_stalk\": 2.743900829337436, \"stalk_per_bdv\": 1.252801851014695, \"seeds_per_bdv\": 3.4375640379946963}, {\"timestamp\": \"2022-08-14T00:00:00\", \"variable\": \"stalk_per_bdv\", \"value\": 1.252801851014695, \"total_seeds\": 135283395.554616, \"total_stalk\": 49303310.858826704, \"total_deposited_bdv\": 39354436.47285, \"seeds_per_stalk\": 2.743900829337436, \"stalk_per_bdv\": 1.252801851014695, \"seeds_per_bdv\": 3.4375640379946963}, {\"timestamp\": \"2022-08-14T00:00:00\", \"variable\": \"seeds_per_bdv\", \"value\": 3.4375640379946963, \"total_seeds\": 135283395.554616, \"total_stalk\": 49303310.858826704, \"total_deposited_bdv\": 39354436.47285, \"seeds_per_stalk\": 2.743900829337436, \"stalk_per_bdv\": 1.252801851014695, \"seeds_per_bdv\": 3.4375640379946963}, {\"timestamp\": \"2022-08-15T00:00:00\", \"variable\": \"total_seeds\", \"value\": 135309557.853984, \"total_seeds\": 135309557.853984, \"total_stalk\": 49377682.04512283, \"total_deposited_bdv\": 39370892.757622, \"seeds_per_stalk\": 2.740297888635882, \"stalk_per_bdv\": 1.2541671927305627, \"seeds_per_bdv\": 3.436791710235952}, {\"timestamp\": \"2022-08-15T00:00:00\", \"variable\": \"total_stalk\", \"value\": 49377682.04512283, \"total_seeds\": 135309557.853984, \"total_stalk\": 49377682.04512283, \"total_deposited_bdv\": 39370892.757622, \"seeds_per_stalk\": 2.740297888635882, \"stalk_per_bdv\": 1.2541671927305627, \"seeds_per_bdv\": 3.436791710235952}, {\"timestamp\": \"2022-08-15T00:00:00\", \"variable\": \"total_deposited_bdv\", \"value\": 39370892.757622, \"total_seeds\": 135309557.853984, \"total_stalk\": 49377682.04512283, \"total_deposited_bdv\": 39370892.757622, \"seeds_per_stalk\": 2.740297888635882, \"stalk_per_bdv\": 1.2541671927305627, \"seeds_per_bdv\": 3.436791710235952}, {\"timestamp\": \"2022-08-15T00:00:00\", \"variable\": \"seeds_per_stalk\", \"value\": 2.740297888635882, \"total_seeds\": 135309557.853984, \"total_stalk\": 49377682.04512283, \"total_deposited_bdv\": 39370892.757622, \"seeds_per_stalk\": 2.740297888635882, \"stalk_per_bdv\": 1.2541671927305627, \"seeds_per_bdv\": 3.436791710235952}, {\"timestamp\": \"2022-08-15T00:00:00\", \"variable\": \"stalk_per_bdv\", \"value\": 1.2541671927305627, \"total_seeds\": 135309557.853984, \"total_stalk\": 49377682.04512283, \"total_deposited_bdv\": 39370892.757622, \"seeds_per_stalk\": 2.740297888635882, \"stalk_per_bdv\": 1.2541671927305627, \"seeds_per_bdv\": 3.436791710235952}, {\"timestamp\": \"2022-08-15T00:00:00\", \"variable\": \"seeds_per_bdv\", \"value\": 3.436791710235952, \"total_seeds\": 135309557.853984, \"total_stalk\": 49377682.04512283, \"total_deposited_bdv\": 39370892.757622, \"seeds_per_stalk\": 2.740297888635882, \"stalk_per_bdv\": 1.2541671927305627, \"seeds_per_bdv\": 3.436791710235952}, {\"timestamp\": \"2022-08-16T00:00:00\", \"variable\": \"total_seeds\", \"value\": 135831488.30495, \"total_seeds\": 135831488.30495, \"total_stalk\": 49890557.1146091, \"total_deposited_bdv\": 39528847.946184, \"seeds_per_stalk\": 2.7225891262933084, \"stalk_per_bdv\": 1.2621303100594254, \"seeds_per_bdv\": 3.436262258132994}, {\"timestamp\": \"2022-08-16T00:00:00\", \"variable\": \"total_stalk\", \"value\": 49890557.1146091, \"total_seeds\": 135831488.30495, \"total_stalk\": 49890557.1146091, \"total_deposited_bdv\": 39528847.946184, \"seeds_per_stalk\": 2.7225891262933084, \"stalk_per_bdv\": 1.2621303100594254, \"seeds_per_bdv\": 3.436262258132994}, {\"timestamp\": \"2022-08-16T00:00:00\", \"variable\": \"total_deposited_bdv\", \"value\": 39528847.946184, \"total_seeds\": 135831488.30495, \"total_stalk\": 49890557.1146091, \"total_deposited_bdv\": 39528847.946184, \"seeds_per_stalk\": 2.7225891262933084, \"stalk_per_bdv\": 1.2621303100594254, \"seeds_per_bdv\": 3.436262258132994}, {\"timestamp\": \"2022-08-16T00:00:00\", \"variable\": \"seeds_per_stalk\", \"value\": 2.7225891262933084, \"total_seeds\": 135831488.30495, \"total_stalk\": 49890557.1146091, \"total_deposited_bdv\": 39528847.946184, \"seeds_per_stalk\": 2.7225891262933084, \"stalk_per_bdv\": 1.2621303100594254, \"seeds_per_bdv\": 3.436262258132994}, {\"timestamp\": \"2022-08-16T00:00:00\", \"variable\": \"stalk_per_bdv\", \"value\": 1.2621303100594254, \"total_seeds\": 135831488.30495, \"total_stalk\": 49890557.1146091, \"total_deposited_bdv\": 39528847.946184, \"seeds_per_stalk\": 2.7225891262933084, \"stalk_per_bdv\": 1.2621303100594254, \"seeds_per_bdv\": 3.436262258132994}, {\"timestamp\": \"2022-08-16T00:00:00\", \"variable\": \"seeds_per_bdv\", \"value\": 3.436262258132994, \"total_seeds\": 135831488.30495, \"total_stalk\": 49890557.1146091, \"total_deposited_bdv\": 39528847.946184, \"seeds_per_stalk\": 2.7225891262933084, \"stalk_per_bdv\": 1.2621303100594254, \"seeds_per_bdv\": 3.436262258132994}, {\"timestamp\": \"2022-08-17T00:00:00\", \"variable\": \"total_seeds\", \"value\": 135938885.827018, \"total_seeds\": 135938885.827018, \"total_stalk\": 50036117.86474424, \"total_deposited_bdv\": 39559616.44853, \"seeds_per_stalk\": 2.716815205257988, \"stalk_per_bdv\": 1.2648281848193583, \"seeds_per_bdv\": 3.4363044445560935}, {\"timestamp\": \"2022-08-17T00:00:00\", \"variable\": \"total_stalk\", \"value\": 50036117.86474424, \"total_seeds\": 135938885.827018, \"total_stalk\": 50036117.86474424, \"total_deposited_bdv\": 39559616.44853, \"seeds_per_stalk\": 2.716815205257988, \"stalk_per_bdv\": 1.2648281848193583, \"seeds_per_bdv\": 3.4363044445560935}, {\"timestamp\": \"2022-08-17T00:00:00\", \"variable\": \"total_deposited_bdv\", \"value\": 39559616.44853, \"total_seeds\": 135938885.827018, \"total_stalk\": 50036117.86474424, \"total_deposited_bdv\": 39559616.44853, \"seeds_per_stalk\": 2.716815205257988, \"stalk_per_bdv\": 1.2648281848193583, \"seeds_per_bdv\": 3.4363044445560935}, {\"timestamp\": \"2022-08-17T00:00:00\", \"variable\": \"seeds_per_stalk\", \"value\": 2.716815205257988, \"total_seeds\": 135938885.827018, \"total_stalk\": 50036117.86474424, \"total_deposited_bdv\": 39559616.44853, \"seeds_per_stalk\": 2.716815205257988, \"stalk_per_bdv\": 1.2648281848193583, \"seeds_per_bdv\": 3.4363044445560935}, {\"timestamp\": \"2022-08-17T00:00:00\", \"variable\": \"stalk_per_bdv\", \"value\": 1.2648281848193583, \"total_seeds\": 135938885.827018, \"total_stalk\": 50036117.86474424, \"total_deposited_bdv\": 39559616.44853, \"seeds_per_stalk\": 2.716815205257988, \"stalk_per_bdv\": 1.2648281848193583, \"seeds_per_bdv\": 3.4363044445560935}, {\"timestamp\": \"2022-08-17T00:00:00\", \"variable\": \"seeds_per_bdv\", \"value\": 3.4363044445560935, \"total_seeds\": 135938885.827018, \"total_stalk\": 50036117.86474424, \"total_deposited_bdv\": 39559616.44853, \"seeds_per_stalk\": 2.716815205257988, \"stalk_per_bdv\": 1.2648281848193583, \"seeds_per_bdv\": 3.4363044445560935}, {\"timestamp\": \"2022-08-18T00:00:00\", \"variable\": \"total_seeds\", \"value\": 135949209.874694, \"total_seeds\": 135949209.874694, \"total_stalk\": 50200092.384371035, \"total_deposited_bdv\": 39566941.796253, \"seeds_per_stalk\": 2.7081466072564346, \"stalk_per_bdv\": 1.268738247268961, \"seeds_per_bdv\": 3.4359291798379124}, {\"timestamp\": \"2022-08-18T00:00:00\", \"variable\": \"total_stalk\", \"value\": 50200092.384371035, \"total_seeds\": 135949209.874694, \"total_stalk\": 50200092.384371035, \"total_deposited_bdv\": 39566941.796253, \"seeds_per_stalk\": 2.7081466072564346, \"stalk_per_bdv\": 1.268738247268961, \"seeds_per_bdv\": 3.4359291798379124}, {\"timestamp\": \"2022-08-18T00:00:00\", \"variable\": \"total_deposited_bdv\", \"value\": 39566941.796253, \"total_seeds\": 135949209.874694, \"total_stalk\": 50200092.384371035, \"total_deposited_bdv\": 39566941.796253, \"seeds_per_stalk\": 2.7081466072564346, \"stalk_per_bdv\": 1.268738247268961, \"seeds_per_bdv\": 3.4359291798379124}, {\"timestamp\": \"2022-08-18T00:00:00\", \"variable\": \"seeds_per_stalk\", \"value\": 2.7081466072564346, \"total_seeds\": 135949209.874694, \"total_stalk\": 50200092.384371035, \"total_deposited_bdv\": 39566941.796253, \"seeds_per_stalk\": 2.7081466072564346, \"stalk_per_bdv\": 1.268738247268961, \"seeds_per_bdv\": 3.4359291798379124}, {\"timestamp\": \"2022-08-18T00:00:00\", \"variable\": \"stalk_per_bdv\", \"value\": 1.268738247268961, \"total_seeds\": 135949209.874694, \"total_stalk\": 50200092.384371035, \"total_deposited_bdv\": 39566941.796253, \"seeds_per_stalk\": 2.7081466072564346, \"stalk_per_bdv\": 1.268738247268961, \"seeds_per_bdv\": 3.4359291798379124}, {\"timestamp\": \"2022-08-18T00:00:00\", \"variable\": \"seeds_per_bdv\", \"value\": 3.4359291798379124, \"total_seeds\": 135949209.874694, \"total_stalk\": 50200092.384371035, \"total_deposited_bdv\": 39566941.796253, \"seeds_per_stalk\": 2.7081466072564346, \"stalk_per_bdv\": 1.268738247268961, \"seeds_per_bdv\": 3.4359291798379124}, {\"timestamp\": \"2022-08-19T00:00:00\", \"variable\": \"total_seeds\", \"value\": 136814345.185398, \"total_seeds\": 136814345.185398, \"total_stalk\": 50861691.10718905, \"total_deposited_bdv\": 39799775.533911, \"seeds_per_stalk\": 2.689929143273413, \"stalk_per_bdv\": 1.277939144753539, \"seeds_per_bdv\": 3.4375657488024456}, {\"timestamp\": \"2022-08-19T00:00:00\", \"variable\": \"total_stalk\", \"value\": 50861691.10718905, \"total_seeds\": 136814345.185398, \"total_stalk\": 50861691.10718905, \"total_deposited_bdv\": 39799775.533911, \"seeds_per_stalk\": 2.689929143273413, \"stalk_per_bdv\": 1.277939144753539, \"seeds_per_bdv\": 3.4375657488024456}, {\"timestamp\": \"2022-08-19T00:00:00\", \"variable\": \"total_deposited_bdv\", \"value\": 39799775.533911, \"total_seeds\": 136814345.185398, \"total_stalk\": 50861691.10718905, \"total_deposited_bdv\": 39799775.533911, \"seeds_per_stalk\": 2.689929143273413, \"stalk_per_bdv\": 1.277939144753539, \"seeds_per_bdv\": 3.4375657488024456}, {\"timestamp\": \"2022-08-19T00:00:00\", \"variable\": \"seeds_per_stalk\", \"value\": 2.689929143273413, \"total_seeds\": 136814345.185398, \"total_stalk\": 50861691.10718905, \"total_deposited_bdv\": 39799775.533911, \"seeds_per_stalk\": 2.689929143273413, \"stalk_per_bdv\": 1.277939144753539, \"seeds_per_bdv\": 3.4375657488024456}, {\"timestamp\": \"2022-08-19T00:00:00\", \"variable\": \"stalk_per_bdv\", \"value\": 1.277939144753539, \"total_seeds\": 136814345.185398, \"total_stalk\": 50861691.10718905, \"total_deposited_bdv\": 39799775.533911, \"seeds_per_stalk\": 2.689929143273413, \"stalk_per_bdv\": 1.277939144753539, \"seeds_per_bdv\": 3.4375657488024456}, {\"timestamp\": \"2022-08-19T00:00:00\", \"variable\": \"seeds_per_bdv\", \"value\": 3.4375657488024456, \"total_seeds\": 136814345.185398, \"total_stalk\": 50861691.10718905, \"total_deposited_bdv\": 39799775.533911, \"seeds_per_stalk\": 2.689929143273413, \"stalk_per_bdv\": 1.277939144753539, \"seeds_per_bdv\": 3.4375657488024456}, {\"timestamp\": \"2022-08-20T00:00:00\", \"variable\": \"total_seeds\", \"value\": 136771404.392826, \"total_seeds\": 136771404.392826, \"total_stalk\": 51036993.609287165, \"total_deposited_bdv\": 39812280.18079, \"seeds_per_stalk\": 2.679848375080185, \"stalk_per_bdv\": 1.2819409834735678, \"seeds_per_bdv\": 3.435407461510335}, {\"timestamp\": \"2022-08-20T00:00:00\", \"variable\": \"total_stalk\", \"value\": 51036993.609287165, \"total_seeds\": 136771404.392826, \"total_stalk\": 51036993.609287165, \"total_deposited_bdv\": 39812280.18079, \"seeds_per_stalk\": 2.679848375080185, \"stalk_per_bdv\": 1.2819409834735678, \"seeds_per_bdv\": 3.435407461510335}, {\"timestamp\": \"2022-08-20T00:00:00\", \"variable\": \"total_deposited_bdv\", \"value\": 39812280.18079, \"total_seeds\": 136771404.392826, \"total_stalk\": 51036993.609287165, \"total_deposited_bdv\": 39812280.18079, \"seeds_per_stalk\": 2.679848375080185, \"stalk_per_bdv\": 1.2819409834735678, \"seeds_per_bdv\": 3.435407461510335}, {\"timestamp\": \"2022-08-20T00:00:00\", \"variable\": \"seeds_per_stalk\", \"value\": 2.679848375080185, \"total_seeds\": 136771404.392826, \"total_stalk\": 51036993.609287165, \"total_deposited_bdv\": 39812280.18079, \"seeds_per_stalk\": 2.679848375080185, \"stalk_per_bdv\": 1.2819409834735678, \"seeds_per_bdv\": 3.435407461510335}, {\"timestamp\": \"2022-08-20T00:00:00\", \"variable\": \"stalk_per_bdv\", \"value\": 1.2819409834735678, \"total_seeds\": 136771404.392826, \"total_stalk\": 51036993.609287165, \"total_deposited_bdv\": 39812280.18079, \"seeds_per_stalk\": 2.679848375080185, \"stalk_per_bdv\": 1.2819409834735678, \"seeds_per_bdv\": 3.435407461510335}, {\"timestamp\": \"2022-08-20T00:00:00\", \"variable\": \"seeds_per_bdv\", \"value\": 3.435407461510335, \"total_seeds\": 136771404.392826, \"total_stalk\": 51036993.609287165, \"total_deposited_bdv\": 39812280.18079, \"seeds_per_stalk\": 2.679848375080185, \"stalk_per_bdv\": 1.2819409834735678, \"seeds_per_bdv\": 3.435407461510335}, {\"timestamp\": \"2022-08-21T00:00:00\", \"variable\": \"total_seeds\", \"value\": 136936326.677508, \"total_seeds\": 136936326.677508, \"total_stalk\": 51360455.030686654, \"total_deposited_bdv\": 39855892.850034, \"seeds_per_stalk\": 2.6661821160986947, \"stalk_per_bdv\": 1.288653982083426, \"seeds_per_bdv\": 3.435786200870198}, {\"timestamp\": \"2022-08-21T00:00:00\", \"variable\": \"total_stalk\", \"value\": 51360455.030686654, \"total_seeds\": 136936326.677508, \"total_stalk\": 51360455.030686654, \"total_deposited_bdv\": 39855892.850034, \"seeds_per_stalk\": 2.6661821160986947, \"stalk_per_bdv\": 1.288653982083426, \"seeds_per_bdv\": 3.435786200870198}, {\"timestamp\": \"2022-08-21T00:00:00\", \"variable\": \"total_deposited_bdv\", \"value\": 39855892.850034, \"total_seeds\": 136936326.677508, \"total_stalk\": 51360455.030686654, \"total_deposited_bdv\": 39855892.850034, \"seeds_per_stalk\": 2.6661821160986947, \"stalk_per_bdv\": 1.288653982083426, \"seeds_per_bdv\": 3.435786200870198}, {\"timestamp\": \"2022-08-21T00:00:00\", \"variable\": \"seeds_per_stalk\", \"value\": 2.6661821160986947, \"total_seeds\": 136936326.677508, \"total_stalk\": 51360455.030686654, \"total_deposited_bdv\": 39855892.850034, \"seeds_per_stalk\": 2.6661821160986947, \"stalk_per_bdv\": 1.288653982083426, \"seeds_per_bdv\": 3.435786200870198}, {\"timestamp\": \"2022-08-21T00:00:00\", \"variable\": \"stalk_per_bdv\", \"value\": 1.288653982083426, \"total_seeds\": 136936326.677508, \"total_stalk\": 51360455.030686654, \"total_deposited_bdv\": 39855892.850034, \"seeds_per_stalk\": 2.6661821160986947, \"stalk_per_bdv\": 1.288653982083426, \"seeds_per_bdv\": 3.435786200870198}, {\"timestamp\": \"2022-08-21T00:00:00\", \"variable\": \"seeds_per_bdv\", \"value\": 3.435786200870198, \"total_seeds\": 136936326.677508, \"total_stalk\": 51360455.030686654, \"total_deposited_bdv\": 39855892.850034, \"seeds_per_stalk\": 2.6661821160986947, \"stalk_per_bdv\": 1.288653982083426, \"seeds_per_bdv\": 3.435786200870198}, {\"timestamp\": \"2022-08-22T00:00:00\", \"variable\": \"total_seeds\", \"value\": 137039380.927196, \"total_seeds\": 137039380.927196, \"total_stalk\": 51512457.926718816, \"total_deposited_bdv\": 39878487.793065, \"seeds_per_stalk\": 2.6603153187166306, \"stalk_per_bdv\": 1.2917354889188402, \"seeds_per_bdv\": 3.4364237089007075}, {\"timestamp\": \"2022-08-22T00:00:00\", \"variable\": \"total_stalk\", \"value\": 51512457.926718816, \"total_seeds\": 137039380.927196, \"total_stalk\": 51512457.926718816, \"total_deposited_bdv\": 39878487.793065, \"seeds_per_stalk\": 2.6603153187166306, \"stalk_per_bdv\": 1.2917354889188402, \"seeds_per_bdv\": 3.4364237089007075}, {\"timestamp\": \"2022-08-22T00:00:00\", \"variable\": \"total_deposited_bdv\", \"value\": 39878487.793065, \"total_seeds\": 137039380.927196, \"total_stalk\": 51512457.926718816, \"total_deposited_bdv\": 39878487.793065, \"seeds_per_stalk\": 2.6603153187166306, \"stalk_per_bdv\": 1.2917354889188402, \"seeds_per_bdv\": 3.4364237089007075}, {\"timestamp\": \"2022-08-22T00:00:00\", \"variable\": \"seeds_per_stalk\", \"value\": 2.6603153187166306, \"total_seeds\": 137039380.927196, \"total_stalk\": 51512457.926718816, \"total_deposited_bdv\": 39878487.793065, \"seeds_per_stalk\": 2.6603153187166306, \"stalk_per_bdv\": 1.2917354889188402, \"seeds_per_bdv\": 3.4364237089007075}, {\"timestamp\": \"2022-08-22T00:00:00\", \"variable\": \"stalk_per_bdv\", \"value\": 1.2917354889188402, \"total_seeds\": 137039380.927196, \"total_stalk\": 51512457.926718816, \"total_deposited_bdv\": 39878487.793065, \"seeds_per_stalk\": 2.6603153187166306, \"stalk_per_bdv\": 1.2917354889188402, \"seeds_per_bdv\": 3.4364237089007075}, {\"timestamp\": \"2022-08-22T00:00:00\", \"variable\": \"seeds_per_bdv\", \"value\": 3.4364237089007075, \"total_seeds\": 137039380.927196, \"total_stalk\": 51512457.926718816, \"total_deposited_bdv\": 39878487.793065, \"seeds_per_stalk\": 2.6603153187166306, \"stalk_per_bdv\": 1.2917354889188402, \"seeds_per_bdv\": 3.4364237089007075}, {\"timestamp\": \"2022-08-23T00:00:00\", \"variable\": \"total_seeds\", \"value\": 136907846.201732, \"total_seeds\": 136907846.201732, \"total_stalk\": 51690176.61135672, \"total_deposited_bdv\": 39841389.579848, \"seeds_per_stalk\": 2.6486240747657326, \"stalk_per_bdv\": 1.2973989400586043, \"seeds_per_bdv\": 3.436322067214763}, {\"timestamp\": \"2022-08-23T00:00:00\", \"variable\": \"total_stalk\", \"value\": 51690176.61135672, \"total_seeds\": 136907846.201732, \"total_stalk\": 51690176.61135672, \"total_deposited_bdv\": 39841389.579848, \"seeds_per_stalk\": 2.6486240747657326, \"stalk_per_bdv\": 1.2973989400586043, \"seeds_per_bdv\": 3.436322067214763}, {\"timestamp\": \"2022-08-23T00:00:00\", \"variable\": \"total_deposited_bdv\", \"value\": 39841389.579848, \"total_seeds\": 136907846.201732, \"total_stalk\": 51690176.61135672, \"total_deposited_bdv\": 39841389.579848, \"seeds_per_stalk\": 2.6486240747657326, \"stalk_per_bdv\": 1.2973989400586043, \"seeds_per_bdv\": 3.436322067214763}, {\"timestamp\": \"2022-08-23T00:00:00\", \"variable\": \"seeds_per_stalk\", \"value\": 2.6486240747657326, \"total_seeds\": 136907846.201732, \"total_stalk\": 51690176.61135672, \"total_deposited_bdv\": 39841389.579848, \"seeds_per_stalk\": 2.6486240747657326, \"stalk_per_bdv\": 1.2973989400586043, \"seeds_per_bdv\": 3.436322067214763}, {\"timestamp\": \"2022-08-23T00:00:00\", \"variable\": \"stalk_per_bdv\", \"value\": 1.2973989400586043, \"total_seeds\": 136907846.201732, \"total_stalk\": 51690176.61135672, \"total_deposited_bdv\": 39841389.579848, \"seeds_per_stalk\": 2.6486240747657326, \"stalk_per_bdv\": 1.2973989400586043, \"seeds_per_bdv\": 3.436322067214763}, {\"timestamp\": \"2022-08-23T00:00:00\", \"variable\": \"seeds_per_bdv\", \"value\": 3.436322067214763, \"total_seeds\": 136907846.201732, \"total_stalk\": 51690176.61135672, \"total_deposited_bdv\": 39841389.579848, \"seeds_per_stalk\": 2.6486240747657326, \"stalk_per_bdv\": 1.2973989400586043, \"seeds_per_bdv\": 3.436322067214763}, {\"timestamp\": \"2022-08-24T00:00:00\", \"variable\": \"total_seeds\", \"value\": 137021507.319102, \"total_seeds\": 137021507.319102, \"total_stalk\": 51814512.40714714, \"total_deposited_bdv\": 39894820.508675, \"seeds_per_stalk\": 2.64446196545124, \"stalk_per_bdv\": 1.2987779302298212, \"seeds_per_bdv\": 3.4345688380602466}, {\"timestamp\": \"2022-08-24T00:00:00\", \"variable\": \"total_stalk\", \"value\": 51814512.40714714, \"total_seeds\": 137021507.319102, \"total_stalk\": 51814512.40714714, \"total_deposited_bdv\": 39894820.508675, \"seeds_per_stalk\": 2.64446196545124, \"stalk_per_bdv\": 1.2987779302298212, \"seeds_per_bdv\": 3.4345688380602466}, {\"timestamp\": \"2022-08-24T00:00:00\", \"variable\": \"total_deposited_bdv\", \"value\": 39894820.508675, \"total_seeds\": 137021507.319102, \"total_stalk\": 51814512.40714714, \"total_deposited_bdv\": 39894820.508675, \"seeds_per_stalk\": 2.64446196545124, \"stalk_per_bdv\": 1.2987779302298212, \"seeds_per_bdv\": 3.4345688380602466}, {\"timestamp\": \"2022-08-24T00:00:00\", \"variable\": \"seeds_per_stalk\", \"value\": 2.64446196545124, \"total_seeds\": 137021507.319102, \"total_stalk\": 51814512.40714714, \"total_deposited_bdv\": 39894820.508675, \"seeds_per_stalk\": 2.64446196545124, \"stalk_per_bdv\": 1.2987779302298212, \"seeds_per_bdv\": 3.4345688380602466}, {\"timestamp\": \"2022-08-24T00:00:00\", \"variable\": \"stalk_per_bdv\", \"value\": 1.2987779302298212, \"total_seeds\": 137021507.319102, \"total_stalk\": 51814512.40714714, \"total_deposited_bdv\": 39894820.508675, \"seeds_per_stalk\": 2.64446196545124, \"stalk_per_bdv\": 1.2987779302298212, \"seeds_per_bdv\": 3.4345688380602466}, {\"timestamp\": \"2022-08-24T00:00:00\", \"variable\": \"seeds_per_bdv\", \"value\": 3.4345688380602466, \"total_seeds\": 137021507.319102, \"total_stalk\": 51814512.40714714, \"total_deposited_bdv\": 39894820.508675, \"seeds_per_stalk\": 2.64446196545124, \"stalk_per_bdv\": 1.2987779302298212, \"seeds_per_bdv\": 3.4345688380602466}, {\"timestamp\": \"2022-08-25T00:00:00\", \"variable\": \"total_seeds\", \"value\": 137078337.751476, \"total_seeds\": 137078337.751476, \"total_stalk\": 52047291.755094014, \"total_deposited_bdv\": 39926616.4265, \"seeds_per_stalk\": 2.633726619177255, \"stalk_per_bdv\": 1.3035738165017487, \"seeds_per_bdv\": 3.4332570605831423}, {\"timestamp\": \"2022-08-25T00:00:00\", \"variable\": \"total_stalk\", \"value\": 52047291.755094014, \"total_seeds\": 137078337.751476, \"total_stalk\": 52047291.755094014, \"total_deposited_bdv\": 39926616.4265, \"seeds_per_stalk\": 2.633726619177255, \"stalk_per_bdv\": 1.3035738165017487, \"seeds_per_bdv\": 3.4332570605831423}, {\"timestamp\": \"2022-08-25T00:00:00\", \"variable\": \"total_deposited_bdv\", \"value\": 39926616.4265, \"total_seeds\": 137078337.751476, \"total_stalk\": 52047291.755094014, \"total_deposited_bdv\": 39926616.4265, \"seeds_per_stalk\": 2.633726619177255, \"stalk_per_bdv\": 1.3035738165017487, \"seeds_per_bdv\": 3.4332570605831423}, {\"timestamp\": \"2022-08-25T00:00:00\", \"variable\": \"seeds_per_stalk\", \"value\": 2.633726619177255, \"total_seeds\": 137078337.751476, \"total_stalk\": 52047291.755094014, \"total_deposited_bdv\": 39926616.4265, \"seeds_per_stalk\": 2.633726619177255, \"stalk_per_bdv\": 1.3035738165017487, \"seeds_per_bdv\": 3.4332570605831423}, {\"timestamp\": \"2022-08-25T00:00:00\", \"variable\": \"stalk_per_bdv\", \"value\": 1.3035738165017487, \"total_seeds\": 137078337.751476, \"total_stalk\": 52047291.755094014, \"total_deposited_bdv\": 39926616.4265, \"seeds_per_stalk\": 2.633726619177255, \"stalk_per_bdv\": 1.3035738165017487, \"seeds_per_bdv\": 3.4332570605831423}, {\"timestamp\": \"2022-08-25T00:00:00\", \"variable\": \"seeds_per_bdv\", \"value\": 3.4332570605831423, \"total_seeds\": 137078337.751476, \"total_stalk\": 52047291.755094014, \"total_deposited_bdv\": 39926616.4265, \"seeds_per_stalk\": 2.633726619177255, \"stalk_per_bdv\": 1.3035738165017487, \"seeds_per_bdv\": 3.4332570605831423}, {\"timestamp\": \"2022-08-26T00:00:00\", \"variable\": \"total_seeds\", \"value\": 137150160.837494, \"total_seeds\": 137150160.837494, \"total_stalk\": 52136800.77694727, \"total_deposited_bdv\": 39946239.01339, \"seeds_per_stalk\": 2.6305825979666957, \"stalk_per_bdv\": 1.305174205748656, \"seeds_per_bdv\": 3.4333685529574183}, {\"timestamp\": \"2022-08-26T00:00:00\", \"variable\": \"total_stalk\", \"value\": 52136800.77694727, \"total_seeds\": 137150160.837494, \"total_stalk\": 52136800.77694727, \"total_deposited_bdv\": 39946239.01339, \"seeds_per_stalk\": 2.6305825979666957, \"stalk_per_bdv\": 1.305174205748656, \"seeds_per_bdv\": 3.4333685529574183}, {\"timestamp\": \"2022-08-26T00:00:00\", \"variable\": \"total_deposited_bdv\", \"value\": 39946239.01339, \"total_seeds\": 137150160.837494, \"total_stalk\": 52136800.77694727, \"total_deposited_bdv\": 39946239.01339, \"seeds_per_stalk\": 2.6305825979666957, \"stalk_per_bdv\": 1.305174205748656, \"seeds_per_bdv\": 3.4333685529574183}, {\"timestamp\": \"2022-08-26T00:00:00\", \"variable\": \"seeds_per_stalk\", \"value\": 2.6305825979666957, \"total_seeds\": 137150160.837494, \"total_stalk\": 52136800.77694727, \"total_deposited_bdv\": 39946239.01339, \"seeds_per_stalk\": 2.6305825979666957, \"stalk_per_bdv\": 1.305174205748656, \"seeds_per_bdv\": 3.4333685529574183}, {\"timestamp\": \"2022-08-26T00:00:00\", \"variable\": \"stalk_per_bdv\", \"value\": 1.305174205748656, \"total_seeds\": 137150160.837494, \"total_stalk\": 52136800.77694727, \"total_deposited_bdv\": 39946239.01339, \"seeds_per_stalk\": 2.6305825979666957, \"stalk_per_bdv\": 1.305174205748656, \"seeds_per_bdv\": 3.4333685529574183}, {\"timestamp\": \"2022-08-26T00:00:00\", \"variable\": \"seeds_per_bdv\", \"value\": 3.4333685529574183, \"total_seeds\": 137150160.837494, \"total_stalk\": 52136800.77694727, \"total_deposited_bdv\": 39946239.01339, \"seeds_per_stalk\": 2.6305825979666957, \"stalk_per_bdv\": 1.305174205748656, \"seeds_per_bdv\": 3.4333685529574183}, {\"timestamp\": \"2022-08-27T00:00:00\", \"variable\": \"total_seeds\", \"value\": 137142008.42872, \"total_seeds\": 137142008.42872, \"total_stalk\": 52472597.29574919, \"total_deposited_bdv\": 39942925.057197, \"seeds_per_stalk\": 2.613592913187659, \"stalk_per_bdv\": 1.3136894010794176, \"seeds_per_bdv\": 3.433449308790906}, {\"timestamp\": \"2022-08-27T00:00:00\", \"variable\": \"total_stalk\", \"value\": 52472597.29574919, \"total_seeds\": 137142008.42872, \"total_stalk\": 52472597.29574919, \"total_deposited_bdv\": 39942925.057197, \"seeds_per_stalk\": 2.613592913187659, \"stalk_per_bdv\": 1.3136894010794176, \"seeds_per_bdv\": 3.433449308790906}, {\"timestamp\": \"2022-08-27T00:00:00\", \"variable\": \"total_deposited_bdv\", \"value\": 39942925.057197, \"total_seeds\": 137142008.42872, \"total_stalk\": 52472597.29574919, \"total_deposited_bdv\": 39942925.057197, \"seeds_per_stalk\": 2.613592913187659, \"stalk_per_bdv\": 1.3136894010794176, \"seeds_per_bdv\": 3.433449308790906}, {\"timestamp\": \"2022-08-27T00:00:00\", \"variable\": \"seeds_per_stalk\", \"value\": 2.613592913187659, \"total_seeds\": 137142008.42872, \"total_stalk\": 52472597.29574919, \"total_deposited_bdv\": 39942925.057197, \"seeds_per_stalk\": 2.613592913187659, \"stalk_per_bdv\": 1.3136894010794176, \"seeds_per_bdv\": 3.433449308790906}, {\"timestamp\": \"2022-08-27T00:00:00\", \"variable\": \"stalk_per_bdv\", \"value\": 1.3136894010794176, \"total_seeds\": 137142008.42872, \"total_stalk\": 52472597.29574919, \"total_deposited_bdv\": 39942925.057197, \"seeds_per_stalk\": 2.613592913187659, \"stalk_per_bdv\": 1.3136894010794176, \"seeds_per_bdv\": 3.433449308790906}, {\"timestamp\": \"2022-08-27T00:00:00\", \"variable\": \"seeds_per_bdv\", \"value\": 3.433449308790906, \"total_seeds\": 137142008.42872, \"total_stalk\": 52472597.29574919, \"total_deposited_bdv\": 39942925.057197, \"seeds_per_stalk\": 2.613592913187659, \"stalk_per_bdv\": 1.3136894010794176, \"seeds_per_bdv\": 3.433449308790906}, {\"timestamp\": \"2022-08-28T00:00:00\", \"variable\": \"total_seeds\", \"value\": 136904235.534482, \"total_seeds\": 136904235.534482, \"total_stalk\": 52758388.92407437, \"total_deposited_bdv\": 39904205.537426, \"seeds_per_stalk\": 2.5949282820501507, \"stalk_per_bdv\": 1.3221260319189283, \"seeds_per_bdv\": 3.4308222326611677}, {\"timestamp\": \"2022-08-28T00:00:00\", \"variable\": \"total_stalk\", \"value\": 52758388.92407437, \"total_seeds\": 136904235.534482, \"total_stalk\": 52758388.92407437, \"total_deposited_bdv\": 39904205.537426, \"seeds_per_stalk\": 2.5949282820501507, \"stalk_per_bdv\": 1.3221260319189283, \"seeds_per_bdv\": 3.4308222326611677}, {\"timestamp\": \"2022-08-28T00:00:00\", \"variable\": \"total_deposited_bdv\", \"value\": 39904205.537426, \"total_seeds\": 136904235.534482, \"total_stalk\": 52758388.92407437, \"total_deposited_bdv\": 39904205.537426, \"seeds_per_stalk\": 2.5949282820501507, \"stalk_per_bdv\": 1.3221260319189283, \"seeds_per_bdv\": 3.4308222326611677}, {\"timestamp\": \"2022-08-28T00:00:00\", \"variable\": \"seeds_per_stalk\", \"value\": 2.5949282820501507, \"total_seeds\": 136904235.534482, \"total_stalk\": 52758388.92407437, \"total_deposited_bdv\": 39904205.537426, \"seeds_per_stalk\": 2.5949282820501507, \"stalk_per_bdv\": 1.3221260319189283, \"seeds_per_bdv\": 3.4308222326611677}, {\"timestamp\": \"2022-08-28T00:00:00\", \"variable\": \"stalk_per_bdv\", \"value\": 1.3221260319189283, \"total_seeds\": 136904235.534482, \"total_stalk\": 52758388.92407437, \"total_deposited_bdv\": 39904205.537426, \"seeds_per_stalk\": 2.5949282820501507, \"stalk_per_bdv\": 1.3221260319189283, \"seeds_per_bdv\": 3.4308222326611677}, {\"timestamp\": \"2022-08-28T00:00:00\", \"variable\": \"seeds_per_bdv\", \"value\": 3.4308222326611677, \"total_seeds\": 136904235.534482, \"total_stalk\": 52758388.92407437, \"total_deposited_bdv\": 39904205.537426, \"seeds_per_stalk\": 2.5949282820501507, \"stalk_per_bdv\": 1.3221260319189283, \"seeds_per_bdv\": 3.4308222326611677}, {\"timestamp\": \"2022-08-29T00:00:00\", \"variable\": \"total_seeds\", \"value\": 138823291.707132, \"total_seeds\": 138823291.707132, \"total_stalk\": 53927089.02055043, \"total_deposited_bdv\": 40858333.483333, \"seeds_per_stalk\": 2.5742774963104256, \"stalk_per_bdv\": 1.3198553250476666, \"seeds_per_bdv\": 3.39767386165569}, {\"timestamp\": \"2022-08-29T00:00:00\", \"variable\": \"total_stalk\", \"value\": 53927089.02055043, \"total_seeds\": 138823291.707132, \"total_stalk\": 53927089.02055043, \"total_deposited_bdv\": 40858333.483333, \"seeds_per_stalk\": 2.5742774963104256, \"stalk_per_bdv\": 1.3198553250476666, \"seeds_per_bdv\": 3.39767386165569}, {\"timestamp\": \"2022-08-29T00:00:00\", \"variable\": \"total_deposited_bdv\", \"value\": 40858333.483333, \"total_seeds\": 138823291.707132, \"total_stalk\": 53927089.02055043, \"total_deposited_bdv\": 40858333.483333, \"seeds_per_stalk\": 2.5742774963104256, \"stalk_per_bdv\": 1.3198553250476666, \"seeds_per_bdv\": 3.39767386165569}, {\"timestamp\": \"2022-08-29T00:00:00\", \"variable\": \"seeds_per_stalk\", \"value\": 2.5742774963104256, \"total_seeds\": 138823291.707132, \"total_stalk\": 53927089.02055043, \"total_deposited_bdv\": 40858333.483333, \"seeds_per_stalk\": 2.5742774963104256, \"stalk_per_bdv\": 1.3198553250476666, \"seeds_per_bdv\": 3.39767386165569}, {\"timestamp\": \"2022-08-29T00:00:00\", \"variable\": \"stalk_per_bdv\", \"value\": 1.3198553250476666, \"total_seeds\": 138823291.707132, \"total_stalk\": 53927089.02055043, \"total_deposited_bdv\": 40858333.483333, \"seeds_per_stalk\": 2.5742774963104256, \"stalk_per_bdv\": 1.3198553250476666, \"seeds_per_bdv\": 3.39767386165569}, {\"timestamp\": \"2022-08-29T00:00:00\", \"variable\": \"seeds_per_bdv\", \"value\": 3.39767386165569, \"total_seeds\": 138823291.707132, \"total_stalk\": 53927089.02055043, \"total_deposited_bdv\": 40858333.483333, \"seeds_per_stalk\": 2.5742774963104256, \"stalk_per_bdv\": 1.3198553250476666, \"seeds_per_bdv\": 3.39767386165569}, {\"timestamp\": \"2022-08-30T00:00:00\", \"variable\": \"total_seeds\", \"value\": 138529947.872214, \"total_seeds\": 138529947.872214, \"total_stalk\": 53989425.25205667, \"total_deposited_bdv\": 40837610.264716, \"seeds_per_stalk\": 2.5658718763066815, \"stalk_per_bdv\": 1.3220515329395741, \"seeds_per_bdv\": 3.39221484739779}, {\"timestamp\": \"2022-08-30T00:00:00\", \"variable\": \"total_stalk\", \"value\": 53989425.25205667, \"total_seeds\": 138529947.872214, \"total_stalk\": 53989425.25205667, \"total_deposited_bdv\": 40837610.264716, \"seeds_per_stalk\": 2.5658718763066815, \"stalk_per_bdv\": 1.3220515329395741, \"seeds_per_bdv\": 3.39221484739779}, {\"timestamp\": \"2022-08-30T00:00:00\", \"variable\": \"total_deposited_bdv\", \"value\": 40837610.264716, \"total_seeds\": 138529947.872214, \"total_stalk\": 53989425.25205667, \"total_deposited_bdv\": 40837610.264716, \"seeds_per_stalk\": 2.5658718763066815, \"stalk_per_bdv\": 1.3220515329395741, \"seeds_per_bdv\": 3.39221484739779}, {\"timestamp\": \"2022-08-30T00:00:00\", \"variable\": \"seeds_per_stalk\", \"value\": 2.5658718763066815, \"total_seeds\": 138529947.872214, \"total_stalk\": 53989425.25205667, \"total_deposited_bdv\": 40837610.264716, \"seeds_per_stalk\": 2.5658718763066815, \"stalk_per_bdv\": 1.3220515329395741, \"seeds_per_bdv\": 3.39221484739779}, {\"timestamp\": \"2022-08-30T00:00:00\", \"variable\": \"stalk_per_bdv\", \"value\": 1.3220515329395741, \"total_seeds\": 138529947.872214, \"total_stalk\": 53989425.25205667, \"total_deposited_bdv\": 40837610.264716, \"seeds_per_stalk\": 2.5658718763066815, \"stalk_per_bdv\": 1.3220515329395741, \"seeds_per_bdv\": 3.39221484739779}, {\"timestamp\": \"2022-08-30T00:00:00\", \"variable\": \"seeds_per_bdv\", \"value\": 3.39221484739779, \"total_seeds\": 138529947.872214, \"total_stalk\": 53989425.25205667, \"total_deposited_bdv\": 40837610.264716, \"seeds_per_stalk\": 2.5658718763066815, \"stalk_per_bdv\": 1.3220515329395741, \"seeds_per_bdv\": 3.39221484739779}, {\"timestamp\": \"2022-08-31T00:00:00\", \"variable\": \"total_seeds\", \"value\": 138409559.799872, \"total_seeds\": 138409559.799872, \"total_stalk\": 54064612.316959165, \"total_deposited_bdv\": 40850259.458272, \"seeds_per_stalk\": 2.5600768019648825, \"stalk_per_bdv\": 1.3234827155060165, \"seeds_per_bdv\": 3.388217397768441}, {\"timestamp\": \"2022-08-31T00:00:00\", \"variable\": \"total_stalk\", \"value\": 54064612.316959165, \"total_seeds\": 138409559.799872, \"total_stalk\": 54064612.316959165, \"total_deposited_bdv\": 40850259.458272, \"seeds_per_stalk\": 2.5600768019648825, \"stalk_per_bdv\": 1.3234827155060165, \"seeds_per_bdv\": 3.388217397768441}, {\"timestamp\": \"2022-08-31T00:00:00\", \"variable\": \"total_deposited_bdv\", \"value\": 40850259.458272, \"total_seeds\": 138409559.799872, \"total_stalk\": 54064612.316959165, \"total_deposited_bdv\": 40850259.458272, \"seeds_per_stalk\": 2.5600768019648825, \"stalk_per_bdv\": 1.3234827155060165, \"seeds_per_bdv\": 3.388217397768441}, {\"timestamp\": \"2022-08-31T00:00:00\", \"variable\": \"seeds_per_stalk\", \"value\": 2.5600768019648825, \"total_seeds\": 138409559.799872, \"total_stalk\": 54064612.316959165, \"total_deposited_bdv\": 40850259.458272, \"seeds_per_stalk\": 2.5600768019648825, \"stalk_per_bdv\": 1.3234827155060165, \"seeds_per_bdv\": 3.388217397768441}, {\"timestamp\": \"2022-08-31T00:00:00\", \"variable\": \"stalk_per_bdv\", \"value\": 1.3234827155060165, \"total_seeds\": 138409559.799872, \"total_stalk\": 54064612.316959165, \"total_deposited_bdv\": 40850259.458272, \"seeds_per_stalk\": 2.5600768019648825, \"stalk_per_bdv\": 1.3234827155060165, \"seeds_per_bdv\": 3.388217397768441}, {\"timestamp\": \"2022-08-31T00:00:00\", \"variable\": \"seeds_per_bdv\", \"value\": 3.388217397768441, \"total_seeds\": 138409559.799872, \"total_stalk\": 54064612.316959165, \"total_deposited_bdv\": 40850259.458272, \"seeds_per_stalk\": 2.5600768019648825, \"stalk_per_bdv\": 1.3234827155060165, \"seeds_per_bdv\": 3.388217397768441}, {\"timestamp\": \"2022-09-01T00:00:00\", \"variable\": \"total_seeds\", \"value\": 138282589.222908, \"total_seeds\": 138282589.222908, \"total_stalk\": 54291294.8220151, \"total_deposited_bdv\": 40828282.370543, \"seeds_per_stalk\": 2.5470490191152053, \"stalk_per_bdv\": 1.3297472161401886, \"seeds_per_bdv\": 3.3869313425410423}, {\"timestamp\": \"2022-09-01T00:00:00\", \"variable\": \"total_stalk\", \"value\": 54291294.8220151, \"total_seeds\": 138282589.222908, \"total_stalk\": 54291294.8220151, \"total_deposited_bdv\": 40828282.370543, \"seeds_per_stalk\": 2.5470490191152053, \"stalk_per_bdv\": 1.3297472161401886, \"seeds_per_bdv\": 3.3869313425410423}, {\"timestamp\": \"2022-09-01T00:00:00\", \"variable\": \"total_deposited_bdv\", \"value\": 40828282.370543, \"total_seeds\": 138282589.222908, \"total_stalk\": 54291294.8220151, \"total_deposited_bdv\": 40828282.370543, \"seeds_per_stalk\": 2.5470490191152053, \"stalk_per_bdv\": 1.3297472161401886, \"seeds_per_bdv\": 3.3869313425410423}, {\"timestamp\": \"2022-09-01T00:00:00\", \"variable\": \"seeds_per_stalk\", \"value\": 2.5470490191152053, \"total_seeds\": 138282589.222908, \"total_stalk\": 54291294.8220151, \"total_deposited_bdv\": 40828282.370543, \"seeds_per_stalk\": 2.5470490191152053, \"stalk_per_bdv\": 1.3297472161401886, \"seeds_per_bdv\": 3.3869313425410423}, {\"timestamp\": \"2022-09-01T00:00:00\", \"variable\": \"stalk_per_bdv\", \"value\": 1.3297472161401886, \"total_seeds\": 138282589.222908, \"total_stalk\": 54291294.8220151, \"total_deposited_bdv\": 40828282.370543, \"seeds_per_stalk\": 2.5470490191152053, \"stalk_per_bdv\": 1.3297472161401886, \"seeds_per_bdv\": 3.3869313425410423}, {\"timestamp\": \"2022-09-01T00:00:00\", \"variable\": \"seeds_per_bdv\", \"value\": 3.3869313425410423, \"total_seeds\": 138282589.222908, \"total_stalk\": 54291294.8220151, \"total_deposited_bdv\": 40828282.370543, \"seeds_per_stalk\": 2.5470490191152053, \"stalk_per_bdv\": 1.3297472161401886, \"seeds_per_bdv\": 3.3869313425410423}, {\"timestamp\": \"2022-09-02T00:00:00\", \"variable\": \"total_seeds\", \"value\": 137933625.990772, \"total_seeds\": 137933625.990772, \"total_stalk\": 54370746.82044549, \"total_deposited_bdv\": 40765756.285696, \"seeds_per_stalk\": 2.5369087985178025, \"stalk_per_bdv\": 1.3337357570261306, \"seeds_per_bdv\": 3.3835659768973927}, {\"timestamp\": \"2022-09-02T00:00:00\", \"variable\": \"total_stalk\", \"value\": 54370746.82044549, \"total_seeds\": 137933625.990772, \"total_stalk\": 54370746.82044549, \"total_deposited_bdv\": 40765756.285696, \"seeds_per_stalk\": 2.5369087985178025, \"stalk_per_bdv\": 1.3337357570261306, \"seeds_per_bdv\": 3.3835659768973927}, {\"timestamp\": \"2022-09-02T00:00:00\", \"variable\": \"total_deposited_bdv\", \"value\": 40765756.285696, \"total_seeds\": 137933625.990772, \"total_stalk\": 54370746.82044549, \"total_deposited_bdv\": 40765756.285696, \"seeds_per_stalk\": 2.5369087985178025, \"stalk_per_bdv\": 1.3337357570261306, \"seeds_per_bdv\": 3.3835659768973927}, {\"timestamp\": \"2022-09-02T00:00:00\", \"variable\": \"seeds_per_stalk\", \"value\": 2.5369087985178025, \"total_seeds\": 137933625.990772, \"total_stalk\": 54370746.82044549, \"total_deposited_bdv\": 40765756.285696, \"seeds_per_stalk\": 2.5369087985178025, \"stalk_per_bdv\": 1.3337357570261306, \"seeds_per_bdv\": 3.3835659768973927}, {\"timestamp\": \"2022-09-02T00:00:00\", \"variable\": \"stalk_per_bdv\", \"value\": 1.3337357570261306, \"total_seeds\": 137933625.990772, \"total_stalk\": 54370746.82044549, \"total_deposited_bdv\": 40765756.285696, \"seeds_per_stalk\": 2.5369087985178025, \"stalk_per_bdv\": 1.3337357570261306, \"seeds_per_bdv\": 3.3835659768973927}, {\"timestamp\": \"2022-09-02T00:00:00\", \"variable\": \"seeds_per_bdv\", \"value\": 3.3835659768973927, \"total_seeds\": 137933625.990772, \"total_stalk\": 54370746.82044549, \"total_deposited_bdv\": 40765756.285696, \"seeds_per_stalk\": 2.5369087985178025, \"stalk_per_bdv\": 1.3337357570261306, \"seeds_per_bdv\": 3.3835659768973927}, {\"timestamp\": \"2022-09-03T00:00:00\", \"variable\": \"total_seeds\", \"value\": 137537757.155438, \"total_seeds\": 137537757.155438, \"total_stalk\": 54442093.77130956, \"total_deposited_bdv\": 40710937.534698, \"seeds_per_stalk\": 2.526312777998245, \"stalk_per_bdv\": 1.3372842058699452, \"seeds_per_bdv\": 3.378398177104478}, {\"timestamp\": \"2022-09-03T00:00:00\", \"variable\": \"total_stalk\", \"value\": 54442093.77130956, \"total_seeds\": 137537757.155438, \"total_stalk\": 54442093.77130956, \"total_deposited_bdv\": 40710937.534698, \"seeds_per_stalk\": 2.526312777998245, \"stalk_per_bdv\": 1.3372842058699452, \"seeds_per_bdv\": 3.378398177104478}, {\"timestamp\": \"2022-09-03T00:00:00\", \"variable\": \"total_deposited_bdv\", \"value\": 40710937.534698, \"total_seeds\": 137537757.155438, \"total_stalk\": 54442093.77130956, \"total_deposited_bdv\": 40710937.534698, \"seeds_per_stalk\": 2.526312777998245, \"stalk_per_bdv\": 1.3372842058699452, \"seeds_per_bdv\": 3.378398177104478}, {\"timestamp\": \"2022-09-03T00:00:00\", \"variable\": \"seeds_per_stalk\", \"value\": 2.526312777998245, \"total_seeds\": 137537757.155438, \"total_stalk\": 54442093.77130956, \"total_deposited_bdv\": 40710937.534698, \"seeds_per_stalk\": 2.526312777998245, \"stalk_per_bdv\": 1.3372842058699452, \"seeds_per_bdv\": 3.378398177104478}, {\"timestamp\": \"2022-09-03T00:00:00\", \"variable\": \"stalk_per_bdv\", \"value\": 1.3372842058699452, \"total_seeds\": 137537757.155438, \"total_stalk\": 54442093.77130956, \"total_deposited_bdv\": 40710937.534698, \"seeds_per_stalk\": 2.526312777998245, \"stalk_per_bdv\": 1.3372842058699452, \"seeds_per_bdv\": 3.378398177104478}, {\"timestamp\": \"2022-09-03T00:00:00\", \"variable\": \"seeds_per_bdv\", \"value\": 3.378398177104478, \"total_seeds\": 137537757.155438, \"total_stalk\": 54442093.77130956, \"total_deposited_bdv\": 40710937.534698, \"seeds_per_stalk\": 2.526312777998245, \"stalk_per_bdv\": 1.3372842058699452, \"seeds_per_bdv\": 3.378398177104478}, {\"timestamp\": \"2022-09-04T00:00:00\", \"variable\": \"total_seeds\", \"value\": 137548103.96991, \"total_seeds\": 137548103.96991, \"total_stalk\": 54658913.88699274, \"total_deposited_bdv\": 40712642.769339, \"seeds_per_stalk\": 2.516480738243182, \"stalk_per_bdv\": 1.342553815449111, \"seeds_per_bdv\": 3.3785108166325797}, {\"timestamp\": \"2022-09-04T00:00:00\", \"variable\": \"total_stalk\", \"value\": 54658913.88699274, \"total_seeds\": 137548103.96991, \"total_stalk\": 54658913.88699274, \"total_deposited_bdv\": 40712642.769339, \"seeds_per_stalk\": 2.516480738243182, \"stalk_per_bdv\": 1.342553815449111, \"seeds_per_bdv\": 3.3785108166325797}, {\"timestamp\": \"2022-09-04T00:00:00\", \"variable\": \"total_deposited_bdv\", \"value\": 40712642.769339, \"total_seeds\": 137548103.96991, \"total_stalk\": 54658913.88699274, \"total_deposited_bdv\": 40712642.769339, \"seeds_per_stalk\": 2.516480738243182, \"stalk_per_bdv\": 1.342553815449111, \"seeds_per_bdv\": 3.3785108166325797}, {\"timestamp\": \"2022-09-04T00:00:00\", \"variable\": \"seeds_per_stalk\", \"value\": 2.516480738243182, \"total_seeds\": 137548103.96991, \"total_stalk\": 54658913.88699274, \"total_deposited_bdv\": 40712642.769339, \"seeds_per_stalk\": 2.516480738243182, \"stalk_per_bdv\": 1.342553815449111, \"seeds_per_bdv\": 3.3785108166325797}, {\"timestamp\": \"2022-09-04T00:00:00\", \"variable\": \"stalk_per_bdv\", \"value\": 1.342553815449111, \"total_seeds\": 137548103.96991, \"total_stalk\": 54658913.88699274, \"total_deposited_bdv\": 40712642.769339, \"seeds_per_stalk\": 2.516480738243182, \"stalk_per_bdv\": 1.342553815449111, \"seeds_per_bdv\": 3.3785108166325797}, {\"timestamp\": \"2022-09-04T00:00:00\", \"variable\": \"seeds_per_bdv\", \"value\": 3.3785108166325797, \"total_seeds\": 137548103.96991, \"total_stalk\": 54658913.88699274, \"total_deposited_bdv\": 40712642.769339, \"seeds_per_stalk\": 2.516480738243182, \"stalk_per_bdv\": 1.342553815449111, \"seeds_per_bdv\": 3.3785108166325797}, {\"timestamp\": \"2022-09-05T00:00:00\", \"variable\": \"total_seeds\", \"value\": 137418552.885022, \"total_seeds\": 137418552.885022, \"total_stalk\": 54780366.326513045, \"total_deposited_bdv\": 40708127.996226, \"seeds_per_stalk\": 2.50853658162766, \"stalk_per_bdv\": 1.3456862062434232, \"seeds_per_bdv\": 3.3757030757533713}, {\"timestamp\": \"2022-09-05T00:00:00\", \"variable\": \"total_stalk\", \"value\": 54780366.326513045, \"total_seeds\": 137418552.885022, \"total_stalk\": 54780366.326513045, \"total_deposited_bdv\": 40708127.996226, \"seeds_per_stalk\": 2.50853658162766, \"stalk_per_bdv\": 1.3456862062434232, \"seeds_per_bdv\": 3.3757030757533713}, {\"timestamp\": \"2022-09-05T00:00:00\", \"variable\": \"total_deposited_bdv\", \"value\": 40708127.996226, \"total_seeds\": 137418552.885022, \"total_stalk\": 54780366.326513045, \"total_deposited_bdv\": 40708127.996226, \"seeds_per_stalk\": 2.50853658162766, \"stalk_per_bdv\": 1.3456862062434232, \"seeds_per_bdv\": 3.3757030757533713}, {\"timestamp\": \"2022-09-05T00:00:00\", \"variable\": \"seeds_per_stalk\", \"value\": 2.50853658162766, \"total_seeds\": 137418552.885022, \"total_stalk\": 54780366.326513045, \"total_deposited_bdv\": 40708127.996226, \"seeds_per_stalk\": 2.50853658162766, \"stalk_per_bdv\": 1.3456862062434232, \"seeds_per_bdv\": 3.3757030757533713}, {\"timestamp\": \"2022-09-05T00:00:00\", \"variable\": \"stalk_per_bdv\", \"value\": 1.3456862062434232, \"total_seeds\": 137418552.885022, \"total_stalk\": 54780366.326513045, \"total_deposited_bdv\": 40708127.996226, \"seeds_per_stalk\": 2.50853658162766, \"stalk_per_bdv\": 1.3456862062434232, \"seeds_per_bdv\": 3.3757030757533713}, {\"timestamp\": \"2022-09-05T00:00:00\", \"variable\": \"seeds_per_bdv\", \"value\": 3.3757030757533713, \"total_seeds\": 137418552.885022, \"total_stalk\": 54780366.326513045, \"total_deposited_bdv\": 40708127.996226, \"seeds_per_stalk\": 2.50853658162766, \"stalk_per_bdv\": 1.3456862062434232, \"seeds_per_bdv\": 3.3757030757533713}, {\"timestamp\": \"2022-09-06T00:00:00\", \"variable\": \"total_seeds\", \"value\": 137404372.173588, \"total_seeds\": 137404372.173588, \"total_stalk\": 54865426.534044445, \"total_deposited_bdv\": 40698738.596294, \"seeds_per_stalk\": 2.5043890270009563, \"stalk_per_bdv\": 1.3480866588587699, \"seeds_per_bdv\": 3.3761334358922848}, {\"timestamp\": \"2022-09-06T00:00:00\", \"variable\": \"total_stalk\", \"value\": 54865426.534044445, \"total_seeds\": 137404372.173588, \"total_stalk\": 54865426.534044445, \"total_deposited_bdv\": 40698738.596294, \"seeds_per_stalk\": 2.5043890270009563, \"stalk_per_bdv\": 1.3480866588587699, \"seeds_per_bdv\": 3.3761334358922848}, {\"timestamp\": \"2022-09-06T00:00:00\", \"variable\": \"total_deposited_bdv\", \"value\": 40698738.596294, \"total_seeds\": 137404372.173588, \"total_stalk\": 54865426.534044445, \"total_deposited_bdv\": 40698738.596294, \"seeds_per_stalk\": 2.5043890270009563, \"stalk_per_bdv\": 1.3480866588587699, \"seeds_per_bdv\": 3.3761334358922848}, {\"timestamp\": \"2022-09-06T00:00:00\", \"variable\": \"seeds_per_stalk\", \"value\": 2.5043890270009563, \"total_seeds\": 137404372.173588, \"total_stalk\": 54865426.534044445, \"total_deposited_bdv\": 40698738.596294, \"seeds_per_stalk\": 2.5043890270009563, \"stalk_per_bdv\": 1.3480866588587699, \"seeds_per_bdv\": 3.3761334358922848}, {\"timestamp\": \"2022-09-06T00:00:00\", \"variable\": \"stalk_per_bdv\", \"value\": 1.3480866588587699, \"total_seeds\": 137404372.173588, \"total_stalk\": 54865426.534044445, \"total_deposited_bdv\": 40698738.596294, \"seeds_per_stalk\": 2.5043890270009563, \"stalk_per_bdv\": 1.3480866588587699, \"seeds_per_bdv\": 3.3761334358922848}, {\"timestamp\": \"2022-09-06T00:00:00\", \"variable\": \"seeds_per_bdv\", \"value\": 3.3761334358922848, \"total_seeds\": 137404372.173588, \"total_stalk\": 54865426.534044445, \"total_deposited_bdv\": 40698738.596294, \"seeds_per_stalk\": 2.5043890270009563, \"stalk_per_bdv\": 1.3480866588587699, \"seeds_per_bdv\": 3.3761334358922848}, {\"timestamp\": \"2022-09-07T00:00:00\", \"variable\": \"total_seeds\", \"value\": 137226037.67959, \"total_seeds\": 137226037.67959, \"total_stalk\": 54997063.711165436, \"total_deposited_bdv\": 40699037.992429, \"seeds_per_stalk\": 2.495152075759465, \"stalk_per_bdv\": 1.351311146995568, \"seeds_per_bdv\": 3.371726813422895}, {\"timestamp\": \"2022-09-07T00:00:00\", \"variable\": \"total_stalk\", \"value\": 54997063.711165436, \"total_seeds\": 137226037.67959, \"total_stalk\": 54997063.711165436, \"total_deposited_bdv\": 40699037.992429, \"seeds_per_stalk\": 2.495152075759465, \"stalk_per_bdv\": 1.351311146995568, \"seeds_per_bdv\": 3.371726813422895}, {\"timestamp\": \"2022-09-07T00:00:00\", \"variable\": \"total_deposited_bdv\", \"value\": 40699037.992429, \"total_seeds\": 137226037.67959, \"total_stalk\": 54997063.711165436, \"total_deposited_bdv\": 40699037.992429, \"seeds_per_stalk\": 2.495152075759465, \"stalk_per_bdv\": 1.351311146995568, \"seeds_per_bdv\": 3.371726813422895}, {\"timestamp\": \"2022-09-07T00:00:00\", \"variable\": \"seeds_per_stalk\", \"value\": 2.495152075759465, \"total_seeds\": 137226037.67959, \"total_stalk\": 54997063.711165436, \"total_deposited_bdv\": 40699037.992429, \"seeds_per_stalk\": 2.495152075759465, \"stalk_per_bdv\": 1.351311146995568, \"seeds_per_bdv\": 3.371726813422895}, {\"timestamp\": \"2022-09-07T00:00:00\", \"variable\": \"stalk_per_bdv\", \"value\": 1.351311146995568, \"total_seeds\": 137226037.67959, \"total_stalk\": 54997063.711165436, \"total_deposited_bdv\": 40699037.992429, \"seeds_per_stalk\": 2.495152075759465, \"stalk_per_bdv\": 1.351311146995568, \"seeds_per_bdv\": 3.371726813422895}, {\"timestamp\": \"2022-09-07T00:00:00\", \"variable\": \"seeds_per_bdv\", \"value\": 3.371726813422895, \"total_seeds\": 137226037.67959, \"total_stalk\": 54997063.711165436, \"total_deposited_bdv\": 40699037.992429, \"seeds_per_stalk\": 2.495152075759465, \"stalk_per_bdv\": 1.351311146995568, \"seeds_per_bdv\": 3.371726813422895}, {\"timestamp\": \"2022-09-08T00:00:00\", \"variable\": \"total_seeds\", \"value\": 137041518.347364, \"total_seeds\": 137041518.347364, \"total_stalk\": 55136653.473798916, \"total_deposited_bdv\": 40698987.374194, \"seeds_per_stalk\": 2.4854885038042163, \"stalk_per_bdv\": 1.3547426368833786, \"seeds_per_bdv\": 3.367197249587047}, {\"timestamp\": \"2022-09-08T00:00:00\", \"variable\": \"total_stalk\", \"value\": 55136653.473798916, \"total_seeds\": 137041518.347364, \"total_stalk\": 55136653.473798916, \"total_deposited_bdv\": 40698987.374194, \"seeds_per_stalk\": 2.4854885038042163, \"stalk_per_bdv\": 1.3547426368833786, \"seeds_per_bdv\": 3.367197249587047}, {\"timestamp\": \"2022-09-08T00:00:00\", \"variable\": \"total_deposited_bdv\", \"value\": 40698987.374194, \"total_seeds\": 137041518.347364, \"total_stalk\": 55136653.473798916, \"total_deposited_bdv\": 40698987.374194, \"seeds_per_stalk\": 2.4854885038042163, \"stalk_per_bdv\": 1.3547426368833786, \"seeds_per_bdv\": 3.367197249587047}, {\"timestamp\": \"2022-09-08T00:00:00\", \"variable\": \"seeds_per_stalk\", \"value\": 2.4854885038042163, \"total_seeds\": 137041518.347364, \"total_stalk\": 55136653.473798916, \"total_deposited_bdv\": 40698987.374194, \"seeds_per_stalk\": 2.4854885038042163, \"stalk_per_bdv\": 1.3547426368833786, \"seeds_per_bdv\": 3.367197249587047}, {\"timestamp\": \"2022-09-08T00:00:00\", \"variable\": \"stalk_per_bdv\", \"value\": 1.3547426368833786, \"total_seeds\": 137041518.347364, \"total_stalk\": 55136653.473798916, \"total_deposited_bdv\": 40698987.374194, \"seeds_per_stalk\": 2.4854885038042163, \"stalk_per_bdv\": 1.3547426368833786, \"seeds_per_bdv\": 3.367197249587047}, {\"timestamp\": \"2022-09-08T00:00:00\", \"variable\": \"seeds_per_bdv\", \"value\": 3.367197249587047, \"total_seeds\": 137041518.347364, \"total_stalk\": 55136653.473798916, \"total_deposited_bdv\": 40698987.374194, \"seeds_per_stalk\": 2.4854885038042163, \"stalk_per_bdv\": 1.3547426368833786, \"seeds_per_bdv\": 3.367197249587047}, {\"timestamp\": \"2022-09-09T00:00:00\", \"variable\": \"total_seeds\", \"value\": 137042685.046018, \"total_seeds\": 137042685.046018, \"total_stalk\": 55245110.82721428, \"total_deposited_bdv\": 40698777.635842, \"seeds_per_stalk\": 2.4806301045288057, \"stalk_per_bdv\": 1.3574144983303338, \"seeds_per_bdv\": 3.367243268882092}, {\"timestamp\": \"2022-09-09T00:00:00\", \"variable\": \"total_stalk\", \"value\": 55245110.82721428, \"total_seeds\": 137042685.046018, \"total_stalk\": 55245110.82721428, \"total_deposited_bdv\": 40698777.635842, \"seeds_per_stalk\": 2.4806301045288057, \"stalk_per_bdv\": 1.3574144983303338, \"seeds_per_bdv\": 3.367243268882092}, {\"timestamp\": \"2022-09-09T00:00:00\", \"variable\": \"total_deposited_bdv\", \"value\": 40698777.635842, \"total_seeds\": 137042685.046018, \"total_stalk\": 55245110.82721428, \"total_deposited_bdv\": 40698777.635842, \"seeds_per_stalk\": 2.4806301045288057, \"stalk_per_bdv\": 1.3574144983303338, \"seeds_per_bdv\": 3.367243268882092}, {\"timestamp\": \"2022-09-09T00:00:00\", \"variable\": \"seeds_per_stalk\", \"value\": 2.4806301045288057, \"total_seeds\": 137042685.046018, \"total_stalk\": 55245110.82721428, \"total_deposited_bdv\": 40698777.635842, \"seeds_per_stalk\": 2.4806301045288057, \"stalk_per_bdv\": 1.3574144983303338, \"seeds_per_bdv\": 3.367243268882092}, {\"timestamp\": \"2022-09-09T00:00:00\", \"variable\": \"stalk_per_bdv\", \"value\": 1.3574144983303338, \"total_seeds\": 137042685.046018, \"total_stalk\": 55245110.82721428, \"total_deposited_bdv\": 40698777.635842, \"seeds_per_stalk\": 2.4806301045288057, \"stalk_per_bdv\": 1.3574144983303338, \"seeds_per_bdv\": 3.367243268882092}, {\"timestamp\": \"2022-09-09T00:00:00\", \"variable\": \"seeds_per_bdv\", \"value\": 3.367243268882092, \"total_seeds\": 137042685.046018, \"total_stalk\": 55245110.82721428, \"total_deposited_bdv\": 40698777.635842, \"seeds_per_stalk\": 2.4806301045288057, \"stalk_per_bdv\": 1.3574144983303338, \"seeds_per_bdv\": 3.367243268882092}, {\"timestamp\": \"2022-09-10T00:00:00\", \"variable\": \"total_seeds\", \"value\": 137026972.22365, \"total_seeds\": 137026972.22365, \"total_stalk\": 55343785.11392031, \"total_deposited_bdv\": 40695099.730869, \"seeds_per_stalk\": 2.4759233930529336, \"stalk_per_bdv\": 1.359961899096653, \"seeds_per_bdv\": 3.3671614796340967}, {\"timestamp\": \"2022-09-10T00:00:00\", \"variable\": \"total_stalk\", \"value\": 55343785.11392031, \"total_seeds\": 137026972.22365, \"total_stalk\": 55343785.11392031, \"total_deposited_bdv\": 40695099.730869, \"seeds_per_stalk\": 2.4759233930529336, \"stalk_per_bdv\": 1.359961899096653, \"seeds_per_bdv\": 3.3671614796340967}, {\"timestamp\": \"2022-09-10T00:00:00\", \"variable\": \"total_deposited_bdv\", \"value\": 40695099.730869, \"total_seeds\": 137026972.22365, \"total_stalk\": 55343785.11392031, \"total_deposited_bdv\": 40695099.730869, \"seeds_per_stalk\": 2.4759233930529336, \"stalk_per_bdv\": 1.359961899096653, \"seeds_per_bdv\": 3.3671614796340967}, {\"timestamp\": \"2022-09-10T00:00:00\", \"variable\": \"seeds_per_stalk\", \"value\": 2.4759233930529336, \"total_seeds\": 137026972.22365, \"total_stalk\": 55343785.11392031, \"total_deposited_bdv\": 40695099.730869, \"seeds_per_stalk\": 2.4759233930529336, \"stalk_per_bdv\": 1.359961899096653, \"seeds_per_bdv\": 3.3671614796340967}, {\"timestamp\": \"2022-09-10T00:00:00\", \"variable\": \"stalk_per_bdv\", \"value\": 1.359961899096653, \"total_seeds\": 137026972.22365, \"total_stalk\": 55343785.11392031, \"total_deposited_bdv\": 40695099.730869, \"seeds_per_stalk\": 2.4759233930529336, \"stalk_per_bdv\": 1.359961899096653, \"seeds_per_bdv\": 3.3671614796340967}, {\"timestamp\": \"2022-09-10T00:00:00\", \"variable\": \"seeds_per_bdv\", \"value\": 3.3671614796340967, \"total_seeds\": 137026972.22365, \"total_stalk\": 55343785.11392031, \"total_deposited_bdv\": 40695099.730869, \"seeds_per_stalk\": 2.4759233930529336, \"stalk_per_bdv\": 1.359961899096653, \"seeds_per_bdv\": 3.3671614796340967}, {\"timestamp\": \"2022-09-11T00:00:00\", \"variable\": \"total_seeds\", \"value\": 137045376.920174, \"total_seeds\": 137045376.920174, \"total_stalk\": 55521971.286524735, \"total_deposited_bdv\": 40697602.889839, \"seeds_per_stalk\": 2.4683089188772214, \"stalk_per_bdv\": 1.3642565493798886, \"seeds_per_bdv\": 3.3674066084710415}, {\"timestamp\": \"2022-09-11T00:00:00\", \"variable\": \"total_stalk\", \"value\": 55521971.286524735, \"total_seeds\": 137045376.920174, \"total_stalk\": 55521971.286524735, \"total_deposited_bdv\": 40697602.889839, \"seeds_per_stalk\": 2.4683089188772214, \"stalk_per_bdv\": 1.3642565493798886, \"seeds_per_bdv\": 3.3674066084710415}, {\"timestamp\": \"2022-09-11T00:00:00\", \"variable\": \"total_deposited_bdv\", \"value\": 40697602.889839, \"total_seeds\": 137045376.920174, \"total_stalk\": 55521971.286524735, \"total_deposited_bdv\": 40697602.889839, \"seeds_per_stalk\": 2.4683089188772214, \"stalk_per_bdv\": 1.3642565493798886, \"seeds_per_bdv\": 3.3674066084710415}, {\"timestamp\": \"2022-09-11T00:00:00\", \"variable\": \"seeds_per_stalk\", \"value\": 2.4683089188772214, \"total_seeds\": 137045376.920174, \"total_stalk\": 55521971.286524735, \"total_deposited_bdv\": 40697602.889839, \"seeds_per_stalk\": 2.4683089188772214, \"stalk_per_bdv\": 1.3642565493798886, \"seeds_per_bdv\": 3.3674066084710415}, {\"timestamp\": \"2022-09-11T00:00:00\", \"variable\": \"stalk_per_bdv\", \"value\": 1.3642565493798886, \"total_seeds\": 137045376.920174, \"total_stalk\": 55521971.286524735, \"total_deposited_bdv\": 40697602.889839, \"seeds_per_stalk\": 2.4683089188772214, \"stalk_per_bdv\": 1.3642565493798886, \"seeds_per_bdv\": 3.3674066084710415}, {\"timestamp\": \"2022-09-11T00:00:00\", \"variable\": \"seeds_per_bdv\", \"value\": 3.3674066084710415, \"total_seeds\": 137045376.920174, \"total_stalk\": 55521971.286524735, \"total_deposited_bdv\": 40697602.889839, \"seeds_per_stalk\": 2.4683089188772214, \"stalk_per_bdv\": 1.3642565493798886, \"seeds_per_bdv\": 3.3674066084710415}, {\"timestamp\": \"2022-09-12T00:00:00\", \"variable\": \"total_seeds\", \"value\": 136791438.343724, \"total_seeds\": 136791438.343724, \"total_stalk\": 55601734.18836555, \"total_deposited_bdv\": 40666919.023678, \"seeds_per_stalk\": 2.4602009333073482, \"stalk_per_bdv\": 1.3672472742769588, \"seeds_per_bdv\": 3.363703020238102}, {\"timestamp\": \"2022-09-12T00:00:00\", \"variable\": \"total_stalk\", \"value\": 55601734.18836555, \"total_seeds\": 136791438.343724, \"total_stalk\": 55601734.18836555, \"total_deposited_bdv\": 40666919.023678, \"seeds_per_stalk\": 2.4602009333073482, \"stalk_per_bdv\": 1.3672472742769588, \"seeds_per_bdv\": 3.363703020238102}, {\"timestamp\": \"2022-09-12T00:00:00\", \"variable\": \"total_deposited_bdv\", \"value\": 40666919.023678, \"total_seeds\": 136791438.343724, \"total_stalk\": 55601734.18836555, \"total_deposited_bdv\": 40666919.023678, \"seeds_per_stalk\": 2.4602009333073482, \"stalk_per_bdv\": 1.3672472742769588, \"seeds_per_bdv\": 3.363703020238102}, {\"timestamp\": \"2022-09-12T00:00:00\", \"variable\": \"seeds_per_stalk\", \"value\": 2.4602009333073482, \"total_seeds\": 136791438.343724, \"total_stalk\": 55601734.18836555, \"total_deposited_bdv\": 40666919.023678, \"seeds_per_stalk\": 2.4602009333073482, \"stalk_per_bdv\": 1.3672472742769588, \"seeds_per_bdv\": 3.363703020238102}, {\"timestamp\": \"2022-09-12T00:00:00\", \"variable\": \"stalk_per_bdv\", \"value\": 1.3672472742769588, \"total_seeds\": 136791438.343724, \"total_stalk\": 55601734.18836555, \"total_deposited_bdv\": 40666919.023678, \"seeds_per_stalk\": 2.4602009333073482, \"stalk_per_bdv\": 1.3672472742769588, \"seeds_per_bdv\": 3.363703020238102}, {\"timestamp\": \"2022-09-12T00:00:00\", \"variable\": \"seeds_per_bdv\", \"value\": 3.363703020238102, \"total_seeds\": 136791438.343724, \"total_stalk\": 55601734.18836555, \"total_deposited_bdv\": 40666919.023678, \"seeds_per_stalk\": 2.4602009333073482, \"stalk_per_bdv\": 1.3672472742769588, \"seeds_per_bdv\": 3.363703020238102}, {\"timestamp\": \"2022-09-13T00:00:00\", \"variable\": \"total_seeds\", \"value\": 136843633.347876, \"total_seeds\": 136843633.347876, \"total_stalk\": 55723447.37665226, \"total_deposited_bdv\": 40677313.340917, \"seeds_per_stalk\": 2.455763951984287, \"stalk_per_bdv\": 1.3698900640175877, \"seeds_per_bdv\": 3.3641266373958394}, {\"timestamp\": \"2022-09-13T00:00:00\", \"variable\": \"total_stalk\", \"value\": 55723447.37665226, \"total_seeds\": 136843633.347876, \"total_stalk\": 55723447.37665226, \"total_deposited_bdv\": 40677313.340917, \"seeds_per_stalk\": 2.455763951984287, \"stalk_per_bdv\": 1.3698900640175877, \"seeds_per_bdv\": 3.3641266373958394}, {\"timestamp\": \"2022-09-13T00:00:00\", \"variable\": \"total_deposited_bdv\", \"value\": 40677313.340917, \"total_seeds\": 136843633.347876, \"total_stalk\": 55723447.37665226, \"total_deposited_bdv\": 40677313.340917, \"seeds_per_stalk\": 2.455763951984287, \"stalk_per_bdv\": 1.3698900640175877, \"seeds_per_bdv\": 3.3641266373958394}, {\"timestamp\": \"2022-09-13T00:00:00\", \"variable\": \"seeds_per_stalk\", \"value\": 2.455763951984287, \"total_seeds\": 136843633.347876, \"total_stalk\": 55723447.37665226, \"total_deposited_bdv\": 40677313.340917, \"seeds_per_stalk\": 2.455763951984287, \"stalk_per_bdv\": 1.3698900640175877, \"seeds_per_bdv\": 3.3641266373958394}, {\"timestamp\": \"2022-09-13T00:00:00\", \"variable\": \"stalk_per_bdv\", \"value\": 1.3698900640175877, \"total_seeds\": 136843633.347876, \"total_stalk\": 55723447.37665226, \"total_deposited_bdv\": 40677313.340917, \"seeds_per_stalk\": 2.455763951984287, \"stalk_per_bdv\": 1.3698900640175877, \"seeds_per_bdv\": 3.3641266373958394}, {\"timestamp\": \"2022-09-13T00:00:00\", \"variable\": \"seeds_per_bdv\", \"value\": 3.3641266373958394, \"total_seeds\": 136843633.347876, \"total_stalk\": 55723447.37665226, \"total_deposited_bdv\": 40677313.340917, \"seeds_per_stalk\": 2.455763951984287, \"stalk_per_bdv\": 1.3698900640175877, \"seeds_per_bdv\": 3.3641266373958394}, {\"timestamp\": \"2022-09-14T00:00:00\", \"variable\": \"total_seeds\", \"value\": 136880493.64615, \"total_seeds\": 136880493.64615, \"total_stalk\": 55839021.192761466, \"total_deposited_bdv\": 40691557.002684, \"seeds_per_stalk\": 2.4513412076767227, \"stalk_per_bdv\": 1.372250788758915, \"seeds_per_bdv\": 3.3638549057516136}, {\"timestamp\": \"2022-09-14T00:00:00\", \"variable\": \"total_stalk\", \"value\": 55839021.192761466, \"total_seeds\": 136880493.64615, \"total_stalk\": 55839021.192761466, \"total_deposited_bdv\": 40691557.002684, \"seeds_per_stalk\": 2.4513412076767227, \"stalk_per_bdv\": 1.372250788758915, \"seeds_per_bdv\": 3.3638549057516136}, {\"timestamp\": \"2022-09-14T00:00:00\", \"variable\": \"total_deposited_bdv\", \"value\": 40691557.002684, \"total_seeds\": 136880493.64615, \"total_stalk\": 55839021.192761466, \"total_deposited_bdv\": 40691557.002684, \"seeds_per_stalk\": 2.4513412076767227, \"stalk_per_bdv\": 1.372250788758915, \"seeds_per_bdv\": 3.3638549057516136}, {\"timestamp\": \"2022-09-14T00:00:00\", \"variable\": \"seeds_per_stalk\", \"value\": 2.4513412076767227, \"total_seeds\": 136880493.64615, \"total_stalk\": 55839021.192761466, \"total_deposited_bdv\": 40691557.002684, \"seeds_per_stalk\": 2.4513412076767227, \"stalk_per_bdv\": 1.372250788758915, \"seeds_per_bdv\": 3.3638549057516136}, {\"timestamp\": \"2022-09-14T00:00:00\", \"variable\": \"stalk_per_bdv\", \"value\": 1.372250788758915, \"total_seeds\": 136880493.64615, \"total_stalk\": 55839021.192761466, \"total_deposited_bdv\": 40691557.002684, \"seeds_per_stalk\": 2.4513412076767227, \"stalk_per_bdv\": 1.372250788758915, \"seeds_per_bdv\": 3.3638549057516136}, {\"timestamp\": \"2022-09-14T00:00:00\", \"variable\": \"seeds_per_bdv\", \"value\": 3.3638549057516136, \"total_seeds\": 136880493.64615, \"total_stalk\": 55839021.192761466, \"total_deposited_bdv\": 40691557.002684, \"seeds_per_stalk\": 2.4513412076767227, \"stalk_per_bdv\": 1.372250788758915, \"seeds_per_bdv\": 3.3638549057516136}, {\"timestamp\": \"2022-09-15T00:00:00\", \"variable\": \"total_seeds\", \"value\": 136814829.666068, \"total_seeds\": 136814829.666068, \"total_stalk\": 55944210.164876446, \"total_deposited_bdv\": 40666685.4074, \"seeds_per_stalk\": 2.445558338617223, \"stalk_per_bdv\": 1.375676665172629, \"seeds_per_bdv\": 3.364297539754056}, {\"timestamp\": \"2022-09-15T00:00:00\", \"variable\": \"total_stalk\", \"value\": 55944210.164876446, \"total_seeds\": 136814829.666068, \"total_stalk\": 55944210.164876446, \"total_deposited_bdv\": 40666685.4074, \"seeds_per_stalk\": 2.445558338617223, \"stalk_per_bdv\": 1.375676665172629, \"seeds_per_bdv\": 3.364297539754056}, {\"timestamp\": \"2022-09-15T00:00:00\", \"variable\": \"total_deposited_bdv\", \"value\": 40666685.4074, \"total_seeds\": 136814829.666068, \"total_stalk\": 55944210.164876446, \"total_deposited_bdv\": 40666685.4074, \"seeds_per_stalk\": 2.445558338617223, \"stalk_per_bdv\": 1.375676665172629, \"seeds_per_bdv\": 3.364297539754056}, {\"timestamp\": \"2022-09-15T00:00:00\", \"variable\": \"seeds_per_stalk\", \"value\": 2.445558338617223, \"total_seeds\": 136814829.666068, \"total_stalk\": 55944210.164876446, \"total_deposited_bdv\": 40666685.4074, \"seeds_per_stalk\": 2.445558338617223, \"stalk_per_bdv\": 1.375676665172629, \"seeds_per_bdv\": 3.364297539754056}, {\"timestamp\": \"2022-09-15T00:00:00\", \"variable\": \"stalk_per_bdv\", \"value\": 1.375676665172629, \"total_seeds\": 136814829.666068, \"total_stalk\": 55944210.164876446, \"total_deposited_bdv\": 40666685.4074, \"seeds_per_stalk\": 2.445558338617223, \"stalk_per_bdv\": 1.375676665172629, \"seeds_per_bdv\": 3.364297539754056}, {\"timestamp\": \"2022-09-15T00:00:00\", \"variable\": \"seeds_per_bdv\", \"value\": 3.364297539754056, \"total_seeds\": 136814829.666068, \"total_stalk\": 55944210.164876446, \"total_deposited_bdv\": 40666685.4074, \"seeds_per_stalk\": 2.445558338617223, \"stalk_per_bdv\": 1.375676665172629, \"seeds_per_bdv\": 3.364297539754056}, {\"timestamp\": \"2022-09-16T00:00:00\", \"variable\": \"total_seeds\", \"value\": 136603789.616094, \"total_seeds\": 136603789.616094, \"total_stalk\": 56112079.596232004, \"total_deposited_bdv\": 40652084.951309, \"seeds_per_stalk\": 2.4344809637970912, \"stalk_per_bdv\": 1.380300165746485, \"seeds_per_bdv\": 3.3603144778357876}, {\"timestamp\": \"2022-09-16T00:00:00\", \"variable\": \"total_stalk\", \"value\": 56112079.596232004, \"total_seeds\": 136603789.616094, \"total_stalk\": 56112079.596232004, \"total_deposited_bdv\": 40652084.951309, \"seeds_per_stalk\": 2.4344809637970912, \"stalk_per_bdv\": 1.380300165746485, \"seeds_per_bdv\": 3.3603144778357876}, {\"timestamp\": \"2022-09-16T00:00:00\", \"variable\": \"total_deposited_bdv\", \"value\": 40652084.951309, \"total_seeds\": 136603789.616094, \"total_stalk\": 56112079.596232004, \"total_deposited_bdv\": 40652084.951309, \"seeds_per_stalk\": 2.4344809637970912, \"stalk_per_bdv\": 1.380300165746485, \"seeds_per_bdv\": 3.3603144778357876}, {\"timestamp\": \"2022-09-16T00:00:00\", \"variable\": \"seeds_per_stalk\", \"value\": 2.4344809637970912, \"total_seeds\": 136603789.616094, \"total_stalk\": 56112079.596232004, \"total_deposited_bdv\": 40652084.951309, \"seeds_per_stalk\": 2.4344809637970912, \"stalk_per_bdv\": 1.380300165746485, \"seeds_per_bdv\": 3.3603144778357876}, {\"timestamp\": \"2022-09-16T00:00:00\", \"variable\": \"stalk_per_bdv\", \"value\": 1.380300165746485, \"total_seeds\": 136603789.616094, \"total_stalk\": 56112079.596232004, \"total_deposited_bdv\": 40652084.951309, \"seeds_per_stalk\": 2.4344809637970912, \"stalk_per_bdv\": 1.380300165746485, \"seeds_per_bdv\": 3.3603144778357876}, {\"timestamp\": \"2022-09-16T00:00:00\", \"variable\": \"seeds_per_bdv\", \"value\": 3.3603144778357876, \"total_seeds\": 136603789.616094, \"total_stalk\": 56112079.596232004, \"total_deposited_bdv\": 40652084.951309, \"seeds_per_stalk\": 2.4344809637970912, \"stalk_per_bdv\": 1.380300165746485, \"seeds_per_bdv\": 3.3603144778357876}, {\"timestamp\": \"2022-09-17T00:00:00\", \"variable\": \"total_seeds\", \"value\": 136606422.660814, \"total_seeds\": 136606422.660814, \"total_stalk\": 56191543.68473089, \"total_deposited_bdv\": 40652972.26472, \"seeds_per_stalk\": 2.4310850655262297, \"stalk_per_bdv\": 1.3822247317816851, \"seeds_per_bdv\": 3.3603059026354534}, {\"timestamp\": \"2022-09-17T00:00:00\", \"variable\": \"total_stalk\", \"value\": 56191543.68473089, \"total_seeds\": 136606422.660814, \"total_stalk\": 56191543.68473089, \"total_deposited_bdv\": 40652972.26472, \"seeds_per_stalk\": 2.4310850655262297, \"stalk_per_bdv\": 1.3822247317816851, \"seeds_per_bdv\": 3.3603059026354534}, {\"timestamp\": \"2022-09-17T00:00:00\", \"variable\": \"total_deposited_bdv\", \"value\": 40652972.26472, \"total_seeds\": 136606422.660814, \"total_stalk\": 56191543.68473089, \"total_deposited_bdv\": 40652972.26472, \"seeds_per_stalk\": 2.4310850655262297, \"stalk_per_bdv\": 1.3822247317816851, \"seeds_per_bdv\": 3.3603059026354534}, {\"timestamp\": \"2022-09-17T00:00:00\", \"variable\": \"seeds_per_stalk\", \"value\": 2.4310850655262297, \"total_seeds\": 136606422.660814, \"total_stalk\": 56191543.68473089, \"total_deposited_bdv\": 40652972.26472, \"seeds_per_stalk\": 2.4310850655262297, \"stalk_per_bdv\": 1.3822247317816851, \"seeds_per_bdv\": 3.3603059026354534}, {\"timestamp\": \"2022-09-17T00:00:00\", \"variable\": \"stalk_per_bdv\", \"value\": 1.3822247317816851, \"total_seeds\": 136606422.660814, \"total_stalk\": 56191543.68473089, \"total_deposited_bdv\": 40652972.26472, \"seeds_per_stalk\": 2.4310850655262297, \"stalk_per_bdv\": 1.3822247317816851, \"seeds_per_bdv\": 3.3603059026354534}, {\"timestamp\": \"2022-09-17T00:00:00\", \"variable\": \"seeds_per_bdv\", \"value\": 3.3603059026354534, \"total_seeds\": 136606422.660814, \"total_stalk\": 56191543.68473089, \"total_deposited_bdv\": 40652972.26472, \"seeds_per_stalk\": 2.4310850655262297, \"stalk_per_bdv\": 1.3822247317816851, \"seeds_per_bdv\": 3.3603059026354534}, {\"timestamp\": \"2022-09-18T00:00:00\", \"variable\": \"total_seeds\", \"value\": 136605710.08929, \"total_seeds\": 136605710.08929, \"total_stalk\": 56322531.57867602, \"total_deposited_bdv\": 40651785.506719, \"seeds_per_stalk\": 2.4254185005598994, \"stalk_per_bdv\": 1.3854872763059063, \"seeds_per_bdv\": 3.3603864722426904}, {\"timestamp\": \"2022-09-18T00:00:00\", \"variable\": \"total_stalk\", \"value\": 56322531.57867602, \"total_seeds\": 136605710.08929, \"total_stalk\": 56322531.57867602, \"total_deposited_bdv\": 40651785.506719, \"seeds_per_stalk\": 2.4254185005598994, \"stalk_per_bdv\": 1.3854872763059063, \"seeds_per_bdv\": 3.3603864722426904}, {\"timestamp\": \"2022-09-18T00:00:00\", \"variable\": \"total_deposited_bdv\", \"value\": 40651785.506719, \"total_seeds\": 136605710.08929, \"total_stalk\": 56322531.57867602, \"total_deposited_bdv\": 40651785.506719, \"seeds_per_stalk\": 2.4254185005598994, \"stalk_per_bdv\": 1.3854872763059063, \"seeds_per_bdv\": 3.3603864722426904}, {\"timestamp\": \"2022-09-18T00:00:00\", \"variable\": \"seeds_per_stalk\", \"value\": 2.4254185005598994, \"total_seeds\": 136605710.08929, \"total_stalk\": 56322531.57867602, \"total_deposited_bdv\": 40651785.506719, \"seeds_per_stalk\": 2.4254185005598994, \"stalk_per_bdv\": 1.3854872763059063, \"seeds_per_bdv\": 3.3603864722426904}, {\"timestamp\": \"2022-09-18T00:00:00\", \"variable\": \"stalk_per_bdv\", \"value\": 1.3854872763059063, \"total_seeds\": 136605710.08929, \"total_stalk\": 56322531.57867602, \"total_deposited_bdv\": 40651785.506719, \"seeds_per_stalk\": 2.4254185005598994, \"stalk_per_bdv\": 1.3854872763059063, \"seeds_per_bdv\": 3.3603864722426904}, {\"timestamp\": \"2022-09-18T00:00:00\", \"variable\": \"seeds_per_bdv\", \"value\": 3.3603864722426904, \"total_seeds\": 136605710.08929, \"total_stalk\": 56322531.57867602, \"total_deposited_bdv\": 40651785.506719, \"seeds_per_stalk\": 2.4254185005598994, \"stalk_per_bdv\": 1.3854872763059063, \"seeds_per_bdv\": 3.3603864722426904}, {\"timestamp\": \"2022-09-19T00:00:00\", \"variable\": \"total_seeds\", \"value\": 134726596.66444, \"total_seeds\": 134726596.66444, \"total_stalk\": 56133696.78603716, \"total_deposited_bdv\": 40244918.443045, \"seeds_per_stalk\": 2.4001019775692423, \"stalk_per_bdv\": 1.3948021006795708, \"seeds_per_bdv\": 3.347667280158771}, {\"timestamp\": \"2022-09-19T00:00:00\", \"variable\": \"total_stalk\", \"value\": 56133696.78603716, \"total_seeds\": 134726596.66444, \"total_stalk\": 56133696.78603716, \"total_deposited_bdv\": 40244918.443045, \"seeds_per_stalk\": 2.4001019775692423, \"stalk_per_bdv\": 1.3948021006795708, \"seeds_per_bdv\": 3.347667280158771}, {\"timestamp\": \"2022-09-19T00:00:00\", \"variable\": \"total_deposited_bdv\", \"value\": 40244918.443045, \"total_seeds\": 134726596.66444, \"total_stalk\": 56133696.78603716, \"total_deposited_bdv\": 40244918.443045, \"seeds_per_stalk\": 2.4001019775692423, \"stalk_per_bdv\": 1.3948021006795708, \"seeds_per_bdv\": 3.347667280158771}, {\"timestamp\": \"2022-09-19T00:00:00\", \"variable\": \"seeds_per_stalk\", \"value\": 2.4001019775692423, \"total_seeds\": 134726596.66444, \"total_stalk\": 56133696.78603716, \"total_deposited_bdv\": 40244918.443045, \"seeds_per_stalk\": 2.4001019775692423, \"stalk_per_bdv\": 1.3948021006795708, \"seeds_per_bdv\": 3.347667280158771}, {\"timestamp\": \"2022-09-19T00:00:00\", \"variable\": \"stalk_per_bdv\", \"value\": 1.3948021006795708, \"total_seeds\": 134726596.66444, \"total_stalk\": 56133696.78603716, \"total_deposited_bdv\": 40244918.443045, \"seeds_per_stalk\": 2.4001019775692423, \"stalk_per_bdv\": 1.3948021006795708, \"seeds_per_bdv\": 3.347667280158771}, {\"timestamp\": \"2022-09-19T00:00:00\", \"variable\": \"seeds_per_bdv\", \"value\": 3.347667280158771, \"total_seeds\": 134726596.66444, \"total_stalk\": 56133696.78603716, \"total_deposited_bdv\": 40244918.443045, \"seeds_per_stalk\": 2.4001019775692423, \"stalk_per_bdv\": 1.3948021006795708, \"seeds_per_bdv\": 3.347667280158771}, {\"timestamp\": \"2022-09-20T00:00:00\", \"variable\": \"total_seeds\", \"value\": 134464022.550472, \"total_seeds\": 134464022.550472, \"total_stalk\": 56256684.816112354, \"total_deposited_bdv\": 40239669.026844, \"seeds_per_stalk\": 2.3901874593214645, \"stalk_per_bdv\": 1.398040445575816, \"seeds_per_bdv\": 3.3415787406395077}, {\"timestamp\": \"2022-09-20T00:00:00\", \"variable\": \"total_stalk\", \"value\": 56256684.816112354, \"total_seeds\": 134464022.550472, \"total_stalk\": 56256684.816112354, \"total_deposited_bdv\": 40239669.026844, \"seeds_per_stalk\": 2.3901874593214645, \"stalk_per_bdv\": 1.398040445575816, \"seeds_per_bdv\": 3.3415787406395077}, {\"timestamp\": \"2022-09-20T00:00:00\", \"variable\": \"total_deposited_bdv\", \"value\": 40239669.026844, \"total_seeds\": 134464022.550472, \"total_stalk\": 56256684.816112354, \"total_deposited_bdv\": 40239669.026844, \"seeds_per_stalk\": 2.3901874593214645, \"stalk_per_bdv\": 1.398040445575816, \"seeds_per_bdv\": 3.3415787406395077}, {\"timestamp\": \"2022-09-20T00:00:00\", \"variable\": \"seeds_per_stalk\", \"value\": 2.3901874593214645, \"total_seeds\": 134464022.550472, \"total_stalk\": 56256684.816112354, \"total_deposited_bdv\": 40239669.026844, \"seeds_per_stalk\": 2.3901874593214645, \"stalk_per_bdv\": 1.398040445575816, \"seeds_per_bdv\": 3.3415787406395077}, {\"timestamp\": \"2022-09-20T00:00:00\", \"variable\": \"stalk_per_bdv\", \"value\": 1.398040445575816, \"total_seeds\": 134464022.550472, \"total_stalk\": 56256684.816112354, \"total_deposited_bdv\": 40239669.026844, \"seeds_per_stalk\": 2.3901874593214645, \"stalk_per_bdv\": 1.398040445575816, \"seeds_per_bdv\": 3.3415787406395077}, {\"timestamp\": \"2022-09-20T00:00:00\", \"variable\": \"seeds_per_bdv\", \"value\": 3.3415787406395077, \"total_seeds\": 134464022.550472, \"total_stalk\": 56256684.816112354, \"total_deposited_bdv\": 40239669.026844, \"seeds_per_stalk\": 2.3901874593214645, \"stalk_per_bdv\": 1.398040445575816, \"seeds_per_bdv\": 3.3415787406395077}, {\"timestamp\": \"2022-09-21T00:00:00\", \"variable\": \"total_seeds\", \"value\": 134437823.490868, \"total_seeds\": 134437823.490868, \"total_stalk\": 56401656.77228124, \"total_deposited_bdv\": 40236651.798708, \"seeds_per_stalk\": 2.383579334090375, \"stalk_per_bdv\": 1.4017482631119993, \"seeds_per_bdv\": 3.341178191550839}, {\"timestamp\": \"2022-09-21T00:00:00\", \"variable\": \"total_stalk\", \"value\": 56401656.77228124, \"total_seeds\": 134437823.490868, \"total_stalk\": 56401656.77228124, \"total_deposited_bdv\": 40236651.798708, \"seeds_per_stalk\": 2.383579334090375, \"stalk_per_bdv\": 1.4017482631119993, \"seeds_per_bdv\": 3.341178191550839}, {\"timestamp\": \"2022-09-21T00:00:00\", \"variable\": \"total_deposited_bdv\", \"value\": 40236651.798708, \"total_seeds\": 134437823.490868, \"total_stalk\": 56401656.77228124, \"total_deposited_bdv\": 40236651.798708, \"seeds_per_stalk\": 2.383579334090375, \"stalk_per_bdv\": 1.4017482631119993, \"seeds_per_bdv\": 3.341178191550839}, {\"timestamp\": \"2022-09-21T00:00:00\", \"variable\": \"seeds_per_stalk\", \"value\": 2.383579334090375, \"total_seeds\": 134437823.490868, \"total_stalk\": 56401656.77228124, \"total_deposited_bdv\": 40236651.798708, \"seeds_per_stalk\": 2.383579334090375, \"stalk_per_bdv\": 1.4017482631119993, \"seeds_per_bdv\": 3.341178191550839}, {\"timestamp\": \"2022-09-21T00:00:00\", \"variable\": \"stalk_per_bdv\", \"value\": 1.4017482631119993, \"total_seeds\": 134437823.490868, \"total_stalk\": 56401656.77228124, \"total_deposited_bdv\": 40236651.798708, \"seeds_per_stalk\": 2.383579334090375, \"stalk_per_bdv\": 1.4017482631119993, \"seeds_per_bdv\": 3.341178191550839}, {\"timestamp\": \"2022-09-21T00:00:00\", \"variable\": \"seeds_per_bdv\", \"value\": 3.341178191550839, \"total_seeds\": 134437823.490868, \"total_stalk\": 56401656.77228124, \"total_deposited_bdv\": 40236651.798708, \"seeds_per_stalk\": 2.383579334090375, \"stalk_per_bdv\": 1.4017482631119993, \"seeds_per_bdv\": 3.341178191550839}, {\"timestamp\": \"2022-09-22T00:00:00\", \"variable\": \"total_seeds\", \"value\": 134458337.973662, \"total_seeds\": 134458337.973662, \"total_stalk\": 56540711.1019317, \"total_deposited_bdv\": 40239579.937693, \"seeds_per_stalk\": 2.3780800657292804, \"stalk_per_bdv\": 1.4051019217765042, \"seeds_per_bdv\": 3.3414448704946076}, {\"timestamp\": \"2022-09-22T00:00:00\", \"variable\": \"total_stalk\", \"value\": 56540711.1019317, \"total_seeds\": 134458337.973662, \"total_stalk\": 56540711.1019317, \"total_deposited_bdv\": 40239579.937693, \"seeds_per_stalk\": 2.3780800657292804, \"stalk_per_bdv\": 1.4051019217765042, \"seeds_per_bdv\": 3.3414448704946076}, {\"timestamp\": \"2022-09-22T00:00:00\", \"variable\": \"total_deposited_bdv\", \"value\": 40239579.937693, \"total_seeds\": 134458337.973662, \"total_stalk\": 56540711.1019317, \"total_deposited_bdv\": 40239579.937693, \"seeds_per_stalk\": 2.3780800657292804, \"stalk_per_bdv\": 1.4051019217765042, \"seeds_per_bdv\": 3.3414448704946076}, {\"timestamp\": \"2022-09-22T00:00:00\", \"variable\": \"seeds_per_stalk\", \"value\": 2.3780800657292804, \"total_seeds\": 134458337.973662, \"total_stalk\": 56540711.1019317, \"total_deposited_bdv\": 40239579.937693, \"seeds_per_stalk\": 2.3780800657292804, \"stalk_per_bdv\": 1.4051019217765042, \"seeds_per_bdv\": 3.3414448704946076}, {\"timestamp\": \"2022-09-22T00:00:00\", \"variable\": \"stalk_per_bdv\", \"value\": 1.4051019217765042, \"total_seeds\": 134458337.973662, \"total_stalk\": 56540711.1019317, \"total_deposited_bdv\": 40239579.937693, \"seeds_per_stalk\": 2.3780800657292804, \"stalk_per_bdv\": 1.4051019217765042, \"seeds_per_bdv\": 3.3414448704946076}, {\"timestamp\": \"2022-09-22T00:00:00\", \"variable\": \"seeds_per_bdv\", \"value\": 3.3414448704946076, \"total_seeds\": 134458337.973662, \"total_stalk\": 56540711.1019317, \"total_deposited_bdv\": 40239579.937693, \"seeds_per_stalk\": 2.3780800657292804, \"stalk_per_bdv\": 1.4051019217765042, \"seeds_per_bdv\": 3.3414448704946076}, {\"timestamp\": \"2022-09-23T00:00:00\", \"variable\": \"total_seeds\", \"value\": 134458265.729524, \"total_seeds\": 134458265.729524, \"total_stalk\": 56599671.97135703, \"total_deposited_bdv\": 40240918.258485, \"seeds_per_stalk\": 2.375601501675986, \"stalk_per_bdv\": 1.4065203882225703, \"seeds_per_bdv\": 3.341331946399429}, {\"timestamp\": \"2022-09-23T00:00:00\", \"variable\": \"total_stalk\", \"value\": 56599671.97135703, \"total_seeds\": 134458265.729524, \"total_stalk\": 56599671.97135703, \"total_deposited_bdv\": 40240918.258485, \"seeds_per_stalk\": 2.375601501675986, \"stalk_per_bdv\": 1.4065203882225703, \"seeds_per_bdv\": 3.341331946399429}, {\"timestamp\": \"2022-09-23T00:00:00\", \"variable\": \"total_deposited_bdv\", \"value\": 40240918.258485, \"total_seeds\": 134458265.729524, \"total_stalk\": 56599671.97135703, \"total_deposited_bdv\": 40240918.258485, \"seeds_per_stalk\": 2.375601501675986, \"stalk_per_bdv\": 1.4065203882225703, \"seeds_per_bdv\": 3.341331946399429}, {\"timestamp\": \"2022-09-23T00:00:00\", \"variable\": \"seeds_per_stalk\", \"value\": 2.375601501675986, \"total_seeds\": 134458265.729524, \"total_stalk\": 56599671.97135703, \"total_deposited_bdv\": 40240918.258485, \"seeds_per_stalk\": 2.375601501675986, \"stalk_per_bdv\": 1.4065203882225703, \"seeds_per_bdv\": 3.341331946399429}, {\"timestamp\": \"2022-09-23T00:00:00\", \"variable\": \"stalk_per_bdv\", \"value\": 1.4065203882225703, \"total_seeds\": 134458265.729524, \"total_stalk\": 56599671.97135703, \"total_deposited_bdv\": 40240918.258485, \"seeds_per_stalk\": 2.375601501675986, \"stalk_per_bdv\": 1.4065203882225703, \"seeds_per_bdv\": 3.341331946399429}, {\"timestamp\": \"2022-09-23T00:00:00\", \"variable\": \"seeds_per_bdv\", \"value\": 3.341331946399429, \"total_seeds\": 134458265.729524, \"total_stalk\": 56599671.97135703, \"total_deposited_bdv\": 40240918.258485, \"seeds_per_stalk\": 2.375601501675986, \"stalk_per_bdv\": 1.4065203882225703, \"seeds_per_bdv\": 3.341331946399429}, {\"timestamp\": \"2022-09-24T00:00:00\", \"variable\": \"total_seeds\", \"value\": 134450516.028804, \"total_seeds\": 134450516.028804, \"total_stalk\": 56643669.17801071, \"total_deposited_bdv\": 40237278.231398, \"seeds_per_stalk\": 2.3736194702760924, \"stalk_per_bdv\": 1.407741071656543, \"seeds_per_bdv\": 3.341441616791302}, {\"timestamp\": \"2022-09-24T00:00:00\", \"variable\": \"total_stalk\", \"value\": 56643669.17801071, \"total_seeds\": 134450516.028804, \"total_stalk\": 56643669.17801071, \"total_deposited_bdv\": 40237278.231398, \"seeds_per_stalk\": 2.3736194702760924, \"stalk_per_bdv\": 1.407741071656543, \"seeds_per_bdv\": 3.341441616791302}, {\"timestamp\": \"2022-09-24T00:00:00\", \"variable\": \"total_deposited_bdv\", \"value\": 40237278.231398, \"total_seeds\": 134450516.028804, \"total_stalk\": 56643669.17801071, \"total_deposited_bdv\": 40237278.231398, \"seeds_per_stalk\": 2.3736194702760924, \"stalk_per_bdv\": 1.407741071656543, \"seeds_per_bdv\": 3.341441616791302}, {\"timestamp\": \"2022-09-24T00:00:00\", \"variable\": \"seeds_per_stalk\", \"value\": 2.3736194702760924, \"total_seeds\": 134450516.028804, \"total_stalk\": 56643669.17801071, \"total_deposited_bdv\": 40237278.231398, \"seeds_per_stalk\": 2.3736194702760924, \"stalk_per_bdv\": 1.407741071656543, \"seeds_per_bdv\": 3.341441616791302}, {\"timestamp\": \"2022-09-24T00:00:00\", \"variable\": \"stalk_per_bdv\", \"value\": 1.407741071656543, \"total_seeds\": 134450516.028804, \"total_stalk\": 56643669.17801071, \"total_deposited_bdv\": 40237278.231398, \"seeds_per_stalk\": 2.3736194702760924, \"stalk_per_bdv\": 1.407741071656543, \"seeds_per_bdv\": 3.341441616791302}, {\"timestamp\": \"2022-09-24T00:00:00\", \"variable\": \"seeds_per_bdv\", \"value\": 3.341441616791302, \"total_seeds\": 134450516.028804, \"total_stalk\": 56643669.17801071, \"total_deposited_bdv\": 40237278.231398, \"seeds_per_stalk\": 2.3736194702760924, \"stalk_per_bdv\": 1.407741071656543, \"seeds_per_bdv\": 3.341441616791302}, {\"timestamp\": \"2022-09-25T00:00:00\", \"variable\": \"total_seeds\", \"value\": 134443822.596702, \"total_seeds\": 134443822.596702, \"total_stalk\": 56671038.02332411, \"total_deposited_bdv\": 40236695.541752, \"seeds_per_stalk\": 2.3723550385890046, \"stalk_per_bdv\": 1.4084416540746705, \"seeds_per_bdv\": 3.341323654602676}, {\"timestamp\": \"2022-09-25T00:00:00\", \"variable\": \"total_stalk\", \"value\": 56671038.02332411, \"total_seeds\": 134443822.596702, \"total_stalk\": 56671038.02332411, \"total_deposited_bdv\": 40236695.541752, \"seeds_per_stalk\": 2.3723550385890046, \"stalk_per_bdv\": 1.4084416540746705, \"seeds_per_bdv\": 3.341323654602676}, {\"timestamp\": \"2022-09-25T00:00:00\", \"variable\": \"total_deposited_bdv\", \"value\": 40236695.541752, \"total_seeds\": 134443822.596702, \"total_stalk\": 56671038.02332411, \"total_deposited_bdv\": 40236695.541752, \"seeds_per_stalk\": 2.3723550385890046, \"stalk_per_bdv\": 1.4084416540746705, \"seeds_per_bdv\": 3.341323654602676}, {\"timestamp\": \"2022-09-25T00:00:00\", \"variable\": \"seeds_per_stalk\", \"value\": 2.3723550385890046, \"total_seeds\": 134443822.596702, \"total_stalk\": 56671038.02332411, \"total_deposited_bdv\": 40236695.541752, \"seeds_per_stalk\": 2.3723550385890046, \"stalk_per_bdv\": 1.4084416540746705, \"seeds_per_bdv\": 3.341323654602676}, {\"timestamp\": \"2022-09-25T00:00:00\", \"variable\": \"stalk_per_bdv\", \"value\": 1.4084416540746705, \"total_seeds\": 134443822.596702, \"total_stalk\": 56671038.02332411, \"total_deposited_bdv\": 40236695.541752, \"seeds_per_stalk\": 2.3723550385890046, \"stalk_per_bdv\": 1.4084416540746705, \"seeds_per_bdv\": 3.341323654602676}, {\"timestamp\": \"2022-09-25T00:00:00\", \"variable\": \"seeds_per_bdv\", \"value\": 3.341323654602676, \"total_seeds\": 134443822.596702, \"total_stalk\": 56671038.02332411, \"total_deposited_bdv\": 40236695.541752, \"seeds_per_stalk\": 2.3723550385890046, \"stalk_per_bdv\": 1.4084416540746705, \"seeds_per_bdv\": 3.341323654602676}, {\"timestamp\": \"2022-09-26T00:00:00\", \"variable\": \"total_seeds\", \"value\": 134497158.996024, \"total_seeds\": 134497158.996024, \"total_stalk\": 57277168.24777125, \"total_deposited_bdv\": 40248226.667543, \"seeds_per_stalk\": 2.3481810136669514, \"stalk_per_bdv\": 1.4230979347460477, \"seeds_per_bdv\": 3.3416915509593195}, {\"timestamp\": \"2022-09-26T00:00:00\", \"variable\": \"total_stalk\", \"value\": 57277168.24777125, \"total_seeds\": 134497158.996024, \"total_stalk\": 57277168.24777125, \"total_deposited_bdv\": 40248226.667543, \"seeds_per_stalk\": 2.3481810136669514, \"stalk_per_bdv\": 1.4230979347460477, \"seeds_per_bdv\": 3.3416915509593195}, {\"timestamp\": \"2022-09-26T00:00:00\", \"variable\": \"total_deposited_bdv\", \"value\": 40248226.667543, \"total_seeds\": 134497158.996024, \"total_stalk\": 57277168.24777125, \"total_deposited_bdv\": 40248226.667543, \"seeds_per_stalk\": 2.3481810136669514, \"stalk_per_bdv\": 1.4230979347460477, \"seeds_per_bdv\": 3.3416915509593195}, {\"timestamp\": \"2022-09-26T00:00:00\", \"variable\": \"seeds_per_stalk\", \"value\": 2.3481810136669514, \"total_seeds\": 134497158.996024, \"total_stalk\": 57277168.24777125, \"total_deposited_bdv\": 40248226.667543, \"seeds_per_stalk\": 2.3481810136669514, \"stalk_per_bdv\": 1.4230979347460477, \"seeds_per_bdv\": 3.3416915509593195}, {\"timestamp\": \"2022-09-26T00:00:00\", \"variable\": \"stalk_per_bdv\", \"value\": 1.4230979347460477, \"total_seeds\": 134497158.996024, \"total_stalk\": 57277168.24777125, \"total_deposited_bdv\": 40248226.667543, \"seeds_per_stalk\": 2.3481810136669514, \"stalk_per_bdv\": 1.4230979347460477, \"seeds_per_bdv\": 3.3416915509593195}, {\"timestamp\": \"2022-09-26T00:00:00\", \"variable\": \"seeds_per_bdv\", \"value\": 3.3416915509593195, \"total_seeds\": 134497158.996024, \"total_stalk\": 57277168.24777125, \"total_deposited_bdv\": 40248226.667543, \"seeds_per_stalk\": 2.3481810136669514, \"stalk_per_bdv\": 1.4230979347460477, \"seeds_per_bdv\": 3.3416915509593195}, {\"timestamp\": \"2022-09-27T00:00:00\", \"variable\": \"total_seeds\", \"value\": 134427710.606004, \"total_seeds\": 134427710.606004, \"total_stalk\": 57352181.59948958, \"total_deposited_bdv\": 40228508.294896, \"seeds_per_stalk\": 2.3438988170451807, \"stalk_per_bdv\": 1.425660160676804, \"seeds_per_bdv\": 3.3416031641188035}, {\"timestamp\": \"2022-09-27T00:00:00\", \"variable\": \"total_stalk\", \"value\": 57352181.59948958, \"total_seeds\": 134427710.606004, \"total_stalk\": 57352181.59948958, \"total_deposited_bdv\": 40228508.294896, \"seeds_per_stalk\": 2.3438988170451807, \"stalk_per_bdv\": 1.425660160676804, \"seeds_per_bdv\": 3.3416031641188035}, {\"timestamp\": \"2022-09-27T00:00:00\", \"variable\": \"total_deposited_bdv\", \"value\": 40228508.294896, \"total_seeds\": 134427710.606004, \"total_stalk\": 57352181.59948958, \"total_deposited_bdv\": 40228508.294896, \"seeds_per_stalk\": 2.3438988170451807, \"stalk_per_bdv\": 1.425660160676804, \"seeds_per_bdv\": 3.3416031641188035}, {\"timestamp\": \"2022-09-27T00:00:00\", \"variable\": \"seeds_per_stalk\", \"value\": 2.3438988170451807, \"total_seeds\": 134427710.606004, \"total_stalk\": 57352181.59948958, \"total_deposited_bdv\": 40228508.294896, \"seeds_per_stalk\": 2.3438988170451807, \"stalk_per_bdv\": 1.425660160676804, \"seeds_per_bdv\": 3.3416031641188035}, {\"timestamp\": \"2022-09-27T00:00:00\", \"variable\": \"stalk_per_bdv\", \"value\": 1.425660160676804, \"total_seeds\": 134427710.606004, \"total_stalk\": 57352181.59948958, \"total_deposited_bdv\": 40228508.294896, \"seeds_per_stalk\": 2.3438988170451807, \"stalk_per_bdv\": 1.425660160676804, \"seeds_per_bdv\": 3.3416031641188035}, {\"timestamp\": \"2022-09-27T00:00:00\", \"variable\": \"seeds_per_bdv\", \"value\": 3.3416031641188035, \"total_seeds\": 134427710.606004, \"total_stalk\": 57352181.59948958, \"total_deposited_bdv\": 40228508.294896, \"seeds_per_stalk\": 2.3438988170451807, \"stalk_per_bdv\": 1.425660160676804, \"seeds_per_bdv\": 3.3416031641188035}, {\"timestamp\": \"2022-09-28T00:00:00\", \"variable\": \"total_seeds\", \"value\": 134311649.82605, \"total_seeds\": 134311649.82605, \"total_stalk\": 57412357.88532982, \"total_deposited_bdv\": 40223036.525358, \"seeds_per_stalk\": 2.339420549393073, \"stalk_per_bdv\": 1.427350166592596, \"seeds_per_bdv\": 3.3391723109063456}, {\"timestamp\": \"2022-09-28T00:00:00\", \"variable\": \"total_stalk\", \"value\": 57412357.88532982, \"total_seeds\": 134311649.82605, \"total_stalk\": 57412357.88532982, \"total_deposited_bdv\": 40223036.525358, \"seeds_per_stalk\": 2.339420549393073, \"stalk_per_bdv\": 1.427350166592596, \"seeds_per_bdv\": 3.3391723109063456}, {\"timestamp\": \"2022-09-28T00:00:00\", \"variable\": \"total_deposited_bdv\", \"value\": 40223036.525358, \"total_seeds\": 134311649.82605, \"total_stalk\": 57412357.88532982, \"total_deposited_bdv\": 40223036.525358, \"seeds_per_stalk\": 2.339420549393073, \"stalk_per_bdv\": 1.427350166592596, \"seeds_per_bdv\": 3.3391723109063456}, {\"timestamp\": \"2022-09-28T00:00:00\", \"variable\": \"seeds_per_stalk\", \"value\": 2.339420549393073, \"total_seeds\": 134311649.82605, \"total_stalk\": 57412357.88532982, \"total_deposited_bdv\": 40223036.525358, \"seeds_per_stalk\": 2.339420549393073, \"stalk_per_bdv\": 1.427350166592596, \"seeds_per_bdv\": 3.3391723109063456}, {\"timestamp\": \"2022-09-28T00:00:00\", \"variable\": \"stalk_per_bdv\", \"value\": 1.427350166592596, \"total_seeds\": 134311649.82605, \"total_stalk\": 57412357.88532982, \"total_deposited_bdv\": 40223036.525358, \"seeds_per_stalk\": 2.339420549393073, \"stalk_per_bdv\": 1.427350166592596, \"seeds_per_bdv\": 3.3391723109063456}, {\"timestamp\": \"2022-09-28T00:00:00\", \"variable\": \"seeds_per_bdv\", \"value\": 3.3391723109063456, \"total_seeds\": 134311649.82605, \"total_stalk\": 57412357.88532982, \"total_deposited_bdv\": 40223036.525358, \"seeds_per_stalk\": 2.339420549393073, \"stalk_per_bdv\": 1.427350166592596, \"seeds_per_bdv\": 3.3391723109063456}, {\"timestamp\": \"2022-09-29T00:00:00\", \"variable\": \"total_seeds\", \"value\": 134351814.535276, \"total_seeds\": 134351814.535276, \"total_stalk\": 57767518.95698066, \"total_deposited_bdv\": 40227518.2545, \"seeds_per_stalk\": 2.3257328159675246, \"stalk_per_bdv\": 1.4360199550843176, \"seeds_per_bdv\": 3.3397987339238084}, {\"timestamp\": \"2022-09-29T00:00:00\", \"variable\": \"total_stalk\", \"value\": 57767518.95698066, \"total_seeds\": 134351814.535276, \"total_stalk\": 57767518.95698066, \"total_deposited_bdv\": 40227518.2545, \"seeds_per_stalk\": 2.3257328159675246, \"stalk_per_bdv\": 1.4360199550843176, \"seeds_per_bdv\": 3.3397987339238084}, {\"timestamp\": \"2022-09-29T00:00:00\", \"variable\": \"total_deposited_bdv\", \"value\": 40227518.2545, \"total_seeds\": 134351814.535276, \"total_stalk\": 57767518.95698066, \"total_deposited_bdv\": 40227518.2545, \"seeds_per_stalk\": 2.3257328159675246, \"stalk_per_bdv\": 1.4360199550843176, \"seeds_per_bdv\": 3.3397987339238084}, {\"timestamp\": \"2022-09-29T00:00:00\", \"variable\": \"seeds_per_stalk\", \"value\": 2.3257328159675246, \"total_seeds\": 134351814.535276, \"total_stalk\": 57767518.95698066, \"total_deposited_bdv\": 40227518.2545, \"seeds_per_stalk\": 2.3257328159675246, \"stalk_per_bdv\": 1.4360199550843176, \"seeds_per_bdv\": 3.3397987339238084}, {\"timestamp\": \"2022-09-29T00:00:00\", \"variable\": \"stalk_per_bdv\", \"value\": 1.4360199550843176, \"total_seeds\": 134351814.535276, \"total_stalk\": 57767518.95698066, \"total_deposited_bdv\": 40227518.2545, \"seeds_per_stalk\": 2.3257328159675246, \"stalk_per_bdv\": 1.4360199550843176, \"seeds_per_bdv\": 3.3397987339238084}, {\"timestamp\": \"2022-09-29T00:00:00\", \"variable\": \"seeds_per_bdv\", \"value\": 3.3397987339238084, \"total_seeds\": 134351814.535276, \"total_stalk\": 57767518.95698066, \"total_deposited_bdv\": 40227518.2545, \"seeds_per_stalk\": 2.3257328159675246, \"stalk_per_bdv\": 1.4360199550843176, \"seeds_per_bdv\": 3.3397987339238084}, {\"timestamp\": \"2022-09-30T00:00:00\", \"variable\": \"total_seeds\", \"value\": 134301669.19399, \"total_seeds\": 134301669.19399, \"total_stalk\": 57835069.49030621, \"total_deposited_bdv\": 40201497.097444, \"seeds_per_stalk\": 2.3221493529371555, \"stalk_per_bdv\": 1.4386297443132623, \"seeds_per_bdv\": 3.3407131298731874}, {\"timestamp\": \"2022-09-30T00:00:00\", \"variable\": \"total_stalk\", \"value\": 57835069.49030621, \"total_seeds\": 134301669.19399, \"total_stalk\": 57835069.49030621, \"total_deposited_bdv\": 40201497.097444, \"seeds_per_stalk\": 2.3221493529371555, \"stalk_per_bdv\": 1.4386297443132623, \"seeds_per_bdv\": 3.3407131298731874}, {\"timestamp\": \"2022-09-30T00:00:00\", \"variable\": \"total_deposited_bdv\", \"value\": 40201497.097444, \"total_seeds\": 134301669.19399, \"total_stalk\": 57835069.49030621, \"total_deposited_bdv\": 40201497.097444, \"seeds_per_stalk\": 2.3221493529371555, \"stalk_per_bdv\": 1.4386297443132623, \"seeds_per_bdv\": 3.3407131298731874}, {\"timestamp\": \"2022-09-30T00:00:00\", \"variable\": \"seeds_per_stalk\", \"value\": 2.3221493529371555, \"total_seeds\": 134301669.19399, \"total_stalk\": 57835069.49030621, \"total_deposited_bdv\": 40201497.097444, \"seeds_per_stalk\": 2.3221493529371555, \"stalk_per_bdv\": 1.4386297443132623, \"seeds_per_bdv\": 3.3407131298731874}, {\"timestamp\": \"2022-09-30T00:00:00\", \"variable\": \"stalk_per_bdv\", \"value\": 1.4386297443132623, \"total_seeds\": 134301669.19399, \"total_stalk\": 57835069.49030621, \"total_deposited_bdv\": 40201497.097444, \"seeds_per_stalk\": 2.3221493529371555, \"stalk_per_bdv\": 1.4386297443132623, \"seeds_per_bdv\": 3.3407131298731874}, {\"timestamp\": \"2022-09-30T00:00:00\", \"variable\": \"seeds_per_bdv\", \"value\": 3.3407131298731874, \"total_seeds\": 134301669.19399, \"total_stalk\": 57835069.49030621, \"total_deposited_bdv\": 40201497.097444, \"seeds_per_stalk\": 2.3221493529371555, \"stalk_per_bdv\": 1.4386297443132623, \"seeds_per_bdv\": 3.3407131298731874}, {\"timestamp\": \"2022-10-01T00:00:00\", \"variable\": \"total_seeds\", \"value\": 134026422.734726, \"total_seeds\": 134026422.734726, \"total_stalk\": 57915909.56450649, \"total_deposited_bdv\": 40064688.901105, \"seeds_per_stalk\": 2.314155535888596, \"stalk_per_bdv\": 1.4455599470013394, \"seeds_per_bdv\": 3.345250553811975}, {\"timestamp\": \"2022-10-01T00:00:00\", \"variable\": \"total_stalk\", \"value\": 57915909.56450649, \"total_seeds\": 134026422.734726, \"total_stalk\": 57915909.56450649, \"total_deposited_bdv\": 40064688.901105, \"seeds_per_stalk\": 2.314155535888596, \"stalk_per_bdv\": 1.4455599470013394, \"seeds_per_bdv\": 3.345250553811975}, {\"timestamp\": \"2022-10-01T00:00:00\", \"variable\": \"total_deposited_bdv\", \"value\": 40064688.901105, \"total_seeds\": 134026422.734726, \"total_stalk\": 57915909.56450649, \"total_deposited_bdv\": 40064688.901105, \"seeds_per_stalk\": 2.314155535888596, \"stalk_per_bdv\": 1.4455599470013394, \"seeds_per_bdv\": 3.345250553811975}, {\"timestamp\": \"2022-10-01T00:00:00\", \"variable\": \"seeds_per_stalk\", \"value\": 2.314155535888596, \"total_seeds\": 134026422.734726, \"total_stalk\": 57915909.56450649, \"total_deposited_bdv\": 40064688.901105, \"seeds_per_stalk\": 2.314155535888596, \"stalk_per_bdv\": 1.4455599470013394, \"seeds_per_bdv\": 3.345250553811975}, {\"timestamp\": \"2022-10-01T00:00:00\", \"variable\": \"stalk_per_bdv\", \"value\": 1.4455599470013394, \"total_seeds\": 134026422.734726, \"total_stalk\": 57915909.56450649, \"total_deposited_bdv\": 40064688.901105, \"seeds_per_stalk\": 2.314155535888596, \"stalk_per_bdv\": 1.4455599470013394, \"seeds_per_bdv\": 3.345250553811975}, {\"timestamp\": \"2022-10-01T00:00:00\", \"variable\": \"seeds_per_bdv\", \"value\": 3.345250553811975, \"total_seeds\": 134026422.734726, \"total_stalk\": 57915909.56450649, \"total_deposited_bdv\": 40064688.901105, \"seeds_per_stalk\": 2.314155535888596, \"stalk_per_bdv\": 1.4455599470013394, \"seeds_per_bdv\": 3.345250553811975}, {\"timestamp\": \"2022-10-02T00:00:00\", \"variable\": \"total_seeds\", \"value\": 134072587.26983, \"total_seeds\": 134072587.26983, \"total_stalk\": 58207368.08988828, \"total_deposited_bdv\": 40070844.369166, \"seeds_per_stalk\": 2.303361097907482, \"stalk_per_bdv\": 1.4526114686686789, \"seeds_per_bdv\": 3.3458887473056875}, {\"timestamp\": \"2022-10-02T00:00:00\", \"variable\": \"total_stalk\", \"value\": 58207368.08988828, \"total_seeds\": 134072587.26983, \"total_stalk\": 58207368.08988828, \"total_deposited_bdv\": 40070844.369166, \"seeds_per_stalk\": 2.303361097907482, \"stalk_per_bdv\": 1.4526114686686789, \"seeds_per_bdv\": 3.3458887473056875}, {\"timestamp\": \"2022-10-02T00:00:00\", \"variable\": \"total_deposited_bdv\", \"value\": 40070844.369166, \"total_seeds\": 134072587.26983, \"total_stalk\": 58207368.08988828, \"total_deposited_bdv\": 40070844.369166, \"seeds_per_stalk\": 2.303361097907482, \"stalk_per_bdv\": 1.4526114686686789, \"seeds_per_bdv\": 3.3458887473056875}, {\"timestamp\": \"2022-10-02T00:00:00\", \"variable\": \"seeds_per_stalk\", \"value\": 2.303361097907482, \"total_seeds\": 134072587.26983, \"total_stalk\": 58207368.08988828, \"total_deposited_bdv\": 40070844.369166, \"seeds_per_stalk\": 2.303361097907482, \"stalk_per_bdv\": 1.4526114686686789, \"seeds_per_bdv\": 3.3458887473056875}, {\"timestamp\": \"2022-10-02T00:00:00\", \"variable\": \"stalk_per_bdv\", \"value\": 1.4526114686686789, \"total_seeds\": 134072587.26983, \"total_stalk\": 58207368.08988828, \"total_deposited_bdv\": 40070844.369166, \"seeds_per_stalk\": 2.303361097907482, \"stalk_per_bdv\": 1.4526114686686789, \"seeds_per_bdv\": 3.3458887473056875}, {\"timestamp\": \"2022-10-02T00:00:00\", \"variable\": \"seeds_per_bdv\", \"value\": 3.3458887473056875, \"total_seeds\": 134072587.26983, \"total_stalk\": 58207368.08988828, \"total_deposited_bdv\": 40070844.369166, \"seeds_per_stalk\": 2.303361097907482, \"stalk_per_bdv\": 1.4526114686686789, \"seeds_per_bdv\": 3.3458887473056875}, {\"timestamp\": \"2022-10-03T00:00:00\", \"variable\": \"total_seeds\", \"value\": 133665904.518616, \"total_seeds\": 133665904.518616, \"total_stalk\": 58232103.201472886, \"total_deposited_bdv\": 39968982.195875, \"seeds_per_stalk\": 2.2953988808570998, \"stalk_per_bdv\": 1.4569323510940626, \"seeds_per_bdv\": 3.3442408881858143}, {\"timestamp\": \"2022-10-03T00:00:00\", \"variable\": \"total_stalk\", \"value\": 58232103.201472886, \"total_seeds\": 133665904.518616, \"total_stalk\": 58232103.201472886, \"total_deposited_bdv\": 39968982.195875, \"seeds_per_stalk\": 2.2953988808570998, \"stalk_per_bdv\": 1.4569323510940626, \"seeds_per_bdv\": 3.3442408881858143}, {\"timestamp\": \"2022-10-03T00:00:00\", \"variable\": \"total_deposited_bdv\", \"value\": 39968982.195875, \"total_seeds\": 133665904.518616, \"total_stalk\": 58232103.201472886, \"total_deposited_bdv\": 39968982.195875, \"seeds_per_stalk\": 2.2953988808570998, \"stalk_per_bdv\": 1.4569323510940626, \"seeds_per_bdv\": 3.3442408881858143}, {\"timestamp\": \"2022-10-03T00:00:00\", \"variable\": \"seeds_per_stalk\", \"value\": 2.2953988808570998, \"total_seeds\": 133665904.518616, \"total_stalk\": 58232103.201472886, \"total_deposited_bdv\": 39968982.195875, \"seeds_per_stalk\": 2.2953988808570998, \"stalk_per_bdv\": 1.4569323510940626, \"seeds_per_bdv\": 3.3442408881858143}, {\"timestamp\": \"2022-10-03T00:00:00\", \"variable\": \"stalk_per_bdv\", \"value\": 1.4569323510940626, \"total_seeds\": 133665904.518616, \"total_stalk\": 58232103.201472886, \"total_deposited_bdv\": 39968982.195875, \"seeds_per_stalk\": 2.2953988808570998, \"stalk_per_bdv\": 1.4569323510940626, \"seeds_per_bdv\": 3.3442408881858143}, {\"timestamp\": \"2022-10-03T00:00:00\", \"variable\": \"seeds_per_bdv\", \"value\": 3.3442408881858143, \"total_seeds\": 133665904.518616, \"total_stalk\": 58232103.201472886, \"total_deposited_bdv\": 39968982.195875, \"seeds_per_stalk\": 2.2953988808570998, \"stalk_per_bdv\": 1.4569323510940626, \"seeds_per_bdv\": 3.3442408881858143}, {\"timestamp\": \"2022-10-04T00:00:00\", \"variable\": \"total_seeds\", \"value\": 133623762.631842, \"total_seeds\": 133623762.631842, \"total_stalk\": 58375937.58712704, \"total_deposited_bdv\": 39956924.314489, \"seeds_per_stalk\": 2.289021267237145, \"stalk_per_bdv\": 1.4609717486678278, \"seeds_per_bdv\": 3.3441954035332984}, {\"timestamp\": \"2022-10-04T00:00:00\", \"variable\": \"total_stalk\", \"value\": 58375937.58712704, \"total_seeds\": 133623762.631842, \"total_stalk\": 58375937.58712704, \"total_deposited_bdv\": 39956924.314489, \"seeds_per_stalk\": 2.289021267237145, \"stalk_per_bdv\": 1.4609717486678278, \"seeds_per_bdv\": 3.3441954035332984}, {\"timestamp\": \"2022-10-04T00:00:00\", \"variable\": \"total_deposited_bdv\", \"value\": 39956924.314489, \"total_seeds\": 133623762.631842, \"total_stalk\": 58375937.58712704, \"total_deposited_bdv\": 39956924.314489, \"seeds_per_stalk\": 2.289021267237145, \"stalk_per_bdv\": 1.4609717486678278, \"seeds_per_bdv\": 3.3441954035332984}, {\"timestamp\": \"2022-10-04T00:00:00\", \"variable\": \"seeds_per_stalk\", \"value\": 2.289021267237145, \"total_seeds\": 133623762.631842, \"total_stalk\": 58375937.58712704, \"total_deposited_bdv\": 39956924.314489, \"seeds_per_stalk\": 2.289021267237145, \"stalk_per_bdv\": 1.4609717486678278, \"seeds_per_bdv\": 3.3441954035332984}, {\"timestamp\": \"2022-10-04T00:00:00\", \"variable\": \"stalk_per_bdv\", \"value\": 1.4609717486678278, \"total_seeds\": 133623762.631842, \"total_stalk\": 58375937.58712704, \"total_deposited_bdv\": 39956924.314489, \"seeds_per_stalk\": 2.289021267237145, \"stalk_per_bdv\": 1.4609717486678278, \"seeds_per_bdv\": 3.3441954035332984}, {\"timestamp\": \"2022-10-04T00:00:00\", \"variable\": \"seeds_per_bdv\", \"value\": 3.3441954035332984, \"total_seeds\": 133623762.631842, \"total_stalk\": 58375937.58712704, \"total_deposited_bdv\": 39956924.314489, \"seeds_per_stalk\": 2.289021267237145, \"stalk_per_bdv\": 1.4609717486678278, \"seeds_per_bdv\": 3.3441954035332984}, {\"timestamp\": \"2022-10-05T00:00:00\", \"variable\": \"total_seeds\", \"value\": 133655573.186554, \"total_seeds\": 133655573.186554, \"total_stalk\": 58685089.4166687, \"total_deposited_bdv\": 39962899.987182, \"seeds_per_stalk\": 2.277504805992354, \"stalk_per_bdv\": 1.468489259675644, \"seeds_per_bdv\": 3.3444913464594337}, {\"timestamp\": \"2022-10-05T00:00:00\", \"variable\": \"total_stalk\", \"value\": 58685089.4166687, \"total_seeds\": 133655573.186554, \"total_stalk\": 58685089.4166687, \"total_deposited_bdv\": 39962899.987182, \"seeds_per_stalk\": 2.277504805992354, \"stalk_per_bdv\": 1.468489259675644, \"seeds_per_bdv\": 3.3444913464594337}, {\"timestamp\": \"2022-10-05T00:00:00\", \"variable\": \"total_deposited_bdv\", \"value\": 39962899.987182, \"total_seeds\": 133655573.186554, \"total_stalk\": 58685089.4166687, \"total_deposited_bdv\": 39962899.987182, \"seeds_per_stalk\": 2.277504805992354, \"stalk_per_bdv\": 1.468489259675644, \"seeds_per_bdv\": 3.3444913464594337}, {\"timestamp\": \"2022-10-05T00:00:00\", \"variable\": \"seeds_per_stalk\", \"value\": 2.277504805992354, \"total_seeds\": 133655573.186554, \"total_stalk\": 58685089.4166687, \"total_deposited_bdv\": 39962899.987182, \"seeds_per_stalk\": 2.277504805992354, \"stalk_per_bdv\": 1.468489259675644, \"seeds_per_bdv\": 3.3444913464594337}, {\"timestamp\": \"2022-10-05T00:00:00\", \"variable\": \"stalk_per_bdv\", \"value\": 1.468489259675644, \"total_seeds\": 133655573.186554, \"total_stalk\": 58685089.4166687, \"total_deposited_bdv\": 39962899.987182, \"seeds_per_stalk\": 2.277504805992354, \"stalk_per_bdv\": 1.468489259675644, \"seeds_per_bdv\": 3.3444913464594337}, {\"timestamp\": \"2022-10-05T00:00:00\", \"variable\": \"seeds_per_bdv\", \"value\": 3.3444913464594337, \"total_seeds\": 133655573.186554, \"total_stalk\": 58685089.4166687, \"total_deposited_bdv\": 39962899.987182, \"seeds_per_stalk\": 2.277504805992354, \"stalk_per_bdv\": 1.468489259675644, \"seeds_per_bdv\": 3.3444913464594337}, {\"timestamp\": \"2022-10-06T00:00:00\", \"variable\": \"total_seeds\", \"value\": 133636271.048672, \"total_seeds\": 133636271.048672, \"total_stalk\": 58705593.74759446, \"total_deposited_bdv\": 39957257.263578, \"seeds_per_stalk\": 2.2763805374875017, \"stalk_per_bdv\": 1.469209794865125, \"seeds_per_bdv\": 3.344480582516976}, {\"timestamp\": \"2022-10-06T00:00:00\", \"variable\": \"total_stalk\", \"value\": 58705593.74759446, \"total_seeds\": 133636271.048672, \"total_stalk\": 58705593.74759446, \"total_deposited_bdv\": 39957257.263578, \"seeds_per_stalk\": 2.2763805374875017, \"stalk_per_bdv\": 1.469209794865125, \"seeds_per_bdv\": 3.344480582516976}, {\"timestamp\": \"2022-10-06T00:00:00\", \"variable\": \"total_deposited_bdv\", \"value\": 39957257.263578, \"total_seeds\": 133636271.048672, \"total_stalk\": 58705593.74759446, \"total_deposited_bdv\": 39957257.263578, \"seeds_per_stalk\": 2.2763805374875017, \"stalk_per_bdv\": 1.469209794865125, \"seeds_per_bdv\": 3.344480582516976}, {\"timestamp\": \"2022-10-06T00:00:00\", \"variable\": \"seeds_per_stalk\", \"value\": 2.2763805374875017, \"total_seeds\": 133636271.048672, \"total_stalk\": 58705593.74759446, \"total_deposited_bdv\": 39957257.263578, \"seeds_per_stalk\": 2.2763805374875017, \"stalk_per_bdv\": 1.469209794865125, \"seeds_per_bdv\": 3.344480582516976}, {\"timestamp\": \"2022-10-06T00:00:00\", \"variable\": \"stalk_per_bdv\", \"value\": 1.469209794865125, \"total_seeds\": 133636271.048672, \"total_stalk\": 58705593.74759446, \"total_deposited_bdv\": 39957257.263578, \"seeds_per_stalk\": 2.2763805374875017, \"stalk_per_bdv\": 1.469209794865125, \"seeds_per_bdv\": 3.344480582516976}, {\"timestamp\": \"2022-10-06T00:00:00\", \"variable\": \"seeds_per_bdv\", \"value\": 3.344480582516976, \"total_seeds\": 133636271.048672, \"total_stalk\": 58705593.74759446, \"total_deposited_bdv\": 39957257.263578, \"seeds_per_stalk\": 2.2763805374875017, \"stalk_per_bdv\": 1.469209794865125, \"seeds_per_bdv\": 3.344480582516976}, {\"timestamp\": \"2022-10-07T00:00:00\", \"variable\": \"total_seeds\", \"value\": 133426919.796736, \"total_seeds\": 133426919.796736, \"total_stalk\": 60231250.866346955, \"total_deposited_bdv\": 40596297.97124, \"seeds_per_stalk\": 2.215244044869832, \"stalk_per_bdv\": 1.4836636313246376, \"seeds_per_bdv\": 3.2866770238818535}, {\"timestamp\": \"2022-10-07T00:00:00\", \"variable\": \"total_stalk\", \"value\": 60231250.866346955, \"total_seeds\": 133426919.796736, \"total_stalk\": 60231250.866346955, \"total_deposited_bdv\": 40596297.97124, \"seeds_per_stalk\": 2.215244044869832, \"stalk_per_bdv\": 1.4836636313246376, \"seeds_per_bdv\": 3.2866770238818535}, {\"timestamp\": \"2022-10-07T00:00:00\", \"variable\": \"total_deposited_bdv\", \"value\": 40596297.97124, \"total_seeds\": 133426919.796736, \"total_stalk\": 60231250.866346955, \"total_deposited_bdv\": 40596297.97124, \"seeds_per_stalk\": 2.215244044869832, \"stalk_per_bdv\": 1.4836636313246376, \"seeds_per_bdv\": 3.2866770238818535}, {\"timestamp\": \"2022-10-07T00:00:00\", \"variable\": \"seeds_per_stalk\", \"value\": 2.215244044869832, \"total_seeds\": 133426919.796736, \"total_stalk\": 60231250.866346955, \"total_deposited_bdv\": 40596297.97124, \"seeds_per_stalk\": 2.215244044869832, \"stalk_per_bdv\": 1.4836636313246376, \"seeds_per_bdv\": 3.2866770238818535}, {\"timestamp\": \"2022-10-07T00:00:00\", \"variable\": \"stalk_per_bdv\", \"value\": 1.4836636313246376, \"total_seeds\": 133426919.796736, \"total_stalk\": 60231250.866346955, \"total_deposited_bdv\": 40596297.97124, \"seeds_per_stalk\": 2.215244044869832, \"stalk_per_bdv\": 1.4836636313246376, \"seeds_per_bdv\": 3.2866770238818535}, {\"timestamp\": \"2022-10-07T00:00:00\", \"variable\": \"seeds_per_bdv\", \"value\": 3.2866770238818535, \"total_seeds\": 133426919.796736, \"total_stalk\": 60231250.866346955, \"total_deposited_bdv\": 40596297.97124, \"seeds_per_stalk\": 2.215244044869832, \"stalk_per_bdv\": 1.4836636313246376, \"seeds_per_bdv\": 3.2866770238818535}, {\"timestamp\": \"2022-10-08T00:00:00\", \"variable\": \"total_seeds\", \"value\": 133428751.37382, \"total_seeds\": 133428751.37382, \"total_stalk\": 60270178.06084448, \"total_deposited_bdv\": 40596715.826813, \"seeds_per_stalk\": 2.2138436564617385, \"stalk_per_bdv\": 1.4846072356680071, \"seeds_per_bdv\": 3.286688311020815}, {\"timestamp\": \"2022-10-08T00:00:00\", \"variable\": \"total_stalk\", \"value\": 60270178.06084448, \"total_seeds\": 133428751.37382, \"total_stalk\": 60270178.06084448, \"total_deposited_bdv\": 40596715.826813, \"seeds_per_stalk\": 2.2138436564617385, \"stalk_per_bdv\": 1.4846072356680071, \"seeds_per_bdv\": 3.286688311020815}, {\"timestamp\": \"2022-10-08T00:00:00\", \"variable\": \"total_deposited_bdv\", \"value\": 40596715.826813, \"total_seeds\": 133428751.37382, \"total_stalk\": 60270178.06084448, \"total_deposited_bdv\": 40596715.826813, \"seeds_per_stalk\": 2.2138436564617385, \"stalk_per_bdv\": 1.4846072356680071, \"seeds_per_bdv\": 3.286688311020815}, {\"timestamp\": \"2022-10-08T00:00:00\", \"variable\": \"seeds_per_stalk\", \"value\": 2.2138436564617385, \"total_seeds\": 133428751.37382, \"total_stalk\": 60270178.06084448, \"total_deposited_bdv\": 40596715.826813, \"seeds_per_stalk\": 2.2138436564617385, \"stalk_per_bdv\": 1.4846072356680071, \"seeds_per_bdv\": 3.286688311020815}, {\"timestamp\": \"2022-10-08T00:00:00\", \"variable\": \"stalk_per_bdv\", \"value\": 1.4846072356680071, \"total_seeds\": 133428751.37382, \"total_stalk\": 60270178.06084448, \"total_deposited_bdv\": 40596715.826813, \"seeds_per_stalk\": 2.2138436564617385, \"stalk_per_bdv\": 1.4846072356680071, \"seeds_per_bdv\": 3.286688311020815}, {\"timestamp\": \"2022-10-08T00:00:00\", \"variable\": \"seeds_per_bdv\", \"value\": 3.286688311020815, \"total_seeds\": 133428751.37382, \"total_stalk\": 60270178.06084448, \"total_deposited_bdv\": 40596715.826813, \"seeds_per_stalk\": 2.2138436564617385, \"stalk_per_bdv\": 1.4846072356680071, \"seeds_per_bdv\": 3.286688311020815}, {\"timestamp\": \"2022-10-09T00:00:00\", \"variable\": \"total_seeds\", \"value\": 133362250.977878, \"total_seeds\": 133362250.977878, \"total_stalk\": 60322998.53278501, \"total_deposited_bdv\": 40597675.319777, \"seeds_per_stalk\": 2.21080274889513, \"stalk_per_bdv\": 1.4858732195288755, \"seeds_per_bdv\": 3.284972598244095}, {\"timestamp\": \"2022-10-09T00:00:00\", \"variable\": \"total_stalk\", \"value\": 60322998.53278501, \"total_seeds\": 133362250.977878, \"total_stalk\": 60322998.53278501, \"total_deposited_bdv\": 40597675.319777, \"seeds_per_stalk\": 2.21080274889513, \"stalk_per_bdv\": 1.4858732195288755, \"seeds_per_bdv\": 3.284972598244095}, {\"timestamp\": \"2022-10-09T00:00:00\", \"variable\": \"total_deposited_bdv\", \"value\": 40597675.319777, \"total_seeds\": 133362250.977878, \"total_stalk\": 60322998.53278501, \"total_deposited_bdv\": 40597675.319777, \"seeds_per_stalk\": 2.21080274889513, \"stalk_per_bdv\": 1.4858732195288755, \"seeds_per_bdv\": 3.284972598244095}, {\"timestamp\": \"2022-10-09T00:00:00\", \"variable\": \"seeds_per_stalk\", \"value\": 2.21080274889513, \"total_seeds\": 133362250.977878, \"total_stalk\": 60322998.53278501, \"total_deposited_bdv\": 40597675.319777, \"seeds_per_stalk\": 2.21080274889513, \"stalk_per_bdv\": 1.4858732195288755, \"seeds_per_bdv\": 3.284972598244095}, {\"timestamp\": \"2022-10-09T00:00:00\", \"variable\": \"stalk_per_bdv\", \"value\": 1.4858732195288755, \"total_seeds\": 133362250.977878, \"total_stalk\": 60322998.53278501, \"total_deposited_bdv\": 40597675.319777, \"seeds_per_stalk\": 2.21080274889513, \"stalk_per_bdv\": 1.4858732195288755, \"seeds_per_bdv\": 3.284972598244095}, {\"timestamp\": \"2022-10-09T00:00:00\", \"variable\": \"seeds_per_bdv\", \"value\": 3.284972598244095, \"total_seeds\": 133362250.977878, \"total_stalk\": 60322998.53278501, \"total_deposited_bdv\": 40597675.319777, \"seeds_per_stalk\": 2.21080274889513, \"stalk_per_bdv\": 1.4858732195288755, \"seeds_per_bdv\": 3.284972598244095}, {\"timestamp\": \"2022-10-10T00:00:00\", \"variable\": \"total_seeds\", \"value\": 133353536.178612, \"total_seeds\": 133353536.178612, \"total_stalk\": 60349189.652838334, \"total_deposited_bdv\": 40594633.000048, \"seeds_per_stalk\": 2.209698869955582, \"stalk_per_bdv\": 1.4866297634164345, \"seeds_per_bdv\": 3.28500410826363}, {\"timestamp\": \"2022-10-10T00:00:00\", \"variable\": \"total_stalk\", \"value\": 60349189.652838334, \"total_seeds\": 133353536.178612, \"total_stalk\": 60349189.652838334, \"total_deposited_bdv\": 40594633.000048, \"seeds_per_stalk\": 2.209698869955582, \"stalk_per_bdv\": 1.4866297634164345, \"seeds_per_bdv\": 3.28500410826363}, {\"timestamp\": \"2022-10-10T00:00:00\", \"variable\": \"total_deposited_bdv\", \"value\": 40594633.000048, \"total_seeds\": 133353536.178612, \"total_stalk\": 60349189.652838334, \"total_deposited_bdv\": 40594633.000048, \"seeds_per_stalk\": 2.209698869955582, \"stalk_per_bdv\": 1.4866297634164345, \"seeds_per_bdv\": 3.28500410826363}, {\"timestamp\": \"2022-10-10T00:00:00\", \"variable\": \"seeds_per_stalk\", \"value\": 2.209698869955582, \"total_seeds\": 133353536.178612, \"total_stalk\": 60349189.652838334, \"total_deposited_bdv\": 40594633.000048, \"seeds_per_stalk\": 2.209698869955582, \"stalk_per_bdv\": 1.4866297634164345, \"seeds_per_bdv\": 3.28500410826363}, {\"timestamp\": \"2022-10-10T00:00:00\", \"variable\": \"stalk_per_bdv\", \"value\": 1.4866297634164345, \"total_seeds\": 133353536.178612, \"total_stalk\": 60349189.652838334, \"total_deposited_bdv\": 40594633.000048, \"seeds_per_stalk\": 2.209698869955582, \"stalk_per_bdv\": 1.4866297634164345, \"seeds_per_bdv\": 3.28500410826363}, {\"timestamp\": \"2022-10-10T00:00:00\", \"variable\": \"seeds_per_bdv\", \"value\": 3.28500410826363, \"total_seeds\": 133353536.178612, \"total_stalk\": 60349189.652838334, \"total_deposited_bdv\": 40594633.000048, \"seeds_per_stalk\": 2.209698869955582, \"stalk_per_bdv\": 1.4866297634164345, \"seeds_per_bdv\": 3.28500410826363}, {\"timestamp\": \"2022-10-11T00:00:00\", \"variable\": \"total_seeds\", \"value\": 133204171.925386, \"total_seeds\": 133204171.925386, \"total_stalk\": 60508037.92868754, \"total_deposited_bdv\": 40595726.326056, \"seeds_per_stalk\": 2.2014293717865274, \"stalk_per_bdv\": 1.4905026564298962, \"seeds_per_bdv\": 3.2812363265906166}, {\"timestamp\": \"2022-10-11T00:00:00\", \"variable\": \"total_stalk\", \"value\": 60508037.92868754, \"total_seeds\": 133204171.925386, \"total_stalk\": 60508037.92868754, \"total_deposited_bdv\": 40595726.326056, \"seeds_per_stalk\": 2.2014293717865274, \"stalk_per_bdv\": 1.4905026564298962, \"seeds_per_bdv\": 3.2812363265906166}, {\"timestamp\": \"2022-10-11T00:00:00\", \"variable\": \"total_deposited_bdv\", \"value\": 40595726.326056, \"total_seeds\": 133204171.925386, \"total_stalk\": 60508037.92868754, \"total_deposited_bdv\": 40595726.326056, \"seeds_per_stalk\": 2.2014293717865274, \"stalk_per_bdv\": 1.4905026564298962, \"seeds_per_bdv\": 3.2812363265906166}, {\"timestamp\": \"2022-10-11T00:00:00\", \"variable\": \"seeds_per_stalk\", \"value\": 2.2014293717865274, \"total_seeds\": 133204171.925386, \"total_stalk\": 60508037.92868754, \"total_deposited_bdv\": 40595726.326056, \"seeds_per_stalk\": 2.2014293717865274, \"stalk_per_bdv\": 1.4905026564298962, \"seeds_per_bdv\": 3.2812363265906166}, {\"timestamp\": \"2022-10-11T00:00:00\", \"variable\": \"stalk_per_bdv\", \"value\": 1.4905026564298962, \"total_seeds\": 133204171.925386, \"total_stalk\": 60508037.92868754, \"total_deposited_bdv\": 40595726.326056, \"seeds_per_stalk\": 2.2014293717865274, \"stalk_per_bdv\": 1.4905026564298962, \"seeds_per_bdv\": 3.2812363265906166}, {\"timestamp\": \"2022-10-11T00:00:00\", \"variable\": \"seeds_per_bdv\", \"value\": 3.2812363265906166, \"total_seeds\": 133204171.925386, \"total_stalk\": 60508037.92868754, \"total_deposited_bdv\": 40595726.326056, \"seeds_per_stalk\": 2.2014293717865274, \"stalk_per_bdv\": 1.4905026564298962, \"seeds_per_bdv\": 3.2812363265906166}, {\"timestamp\": \"2022-10-12T00:00:00\", \"variable\": \"total_seeds\", \"value\": 133246975.715342, \"total_seeds\": 133246975.715342, \"total_stalk\": 60684900.77126748, \"total_deposited_bdv\": 40607112.783099, \"seeds_per_stalk\": 2.1957187705978836, \"stalk_per_bdv\": 1.4944401759222097, \"seeds_per_bdv\": 3.281370345807999}, {\"timestamp\": \"2022-10-12T00:00:00\", \"variable\": \"total_stalk\", \"value\": 60684900.77126748, \"total_seeds\": 133246975.715342, \"total_stalk\": 60684900.77126748, \"total_deposited_bdv\": 40607112.783099, \"seeds_per_stalk\": 2.1957187705978836, \"stalk_per_bdv\": 1.4944401759222097, \"seeds_per_bdv\": 3.281370345807999}, {\"timestamp\": \"2022-10-12T00:00:00\", \"variable\": \"total_deposited_bdv\", \"value\": 40607112.783099, \"total_seeds\": 133246975.715342, \"total_stalk\": 60684900.77126748, \"total_deposited_bdv\": 40607112.783099, \"seeds_per_stalk\": 2.1957187705978836, \"stalk_per_bdv\": 1.4944401759222097, \"seeds_per_bdv\": 3.281370345807999}, {\"timestamp\": \"2022-10-12T00:00:00\", \"variable\": \"seeds_per_stalk\", \"value\": 2.1957187705978836, \"total_seeds\": 133246975.715342, \"total_stalk\": 60684900.77126748, \"total_deposited_bdv\": 40607112.783099, \"seeds_per_stalk\": 2.1957187705978836, \"stalk_per_bdv\": 1.4944401759222097, \"seeds_per_bdv\": 3.281370345807999}, {\"timestamp\": \"2022-10-12T00:00:00\", \"variable\": \"stalk_per_bdv\", \"value\": 1.4944401759222097, \"total_seeds\": 133246975.715342, \"total_stalk\": 60684900.77126748, \"total_deposited_bdv\": 40607112.783099, \"seeds_per_stalk\": 2.1957187705978836, \"stalk_per_bdv\": 1.4944401759222097, \"seeds_per_bdv\": 3.281370345807999}, {\"timestamp\": \"2022-10-12T00:00:00\", \"variable\": \"seeds_per_bdv\", \"value\": 3.281370345807999, \"total_seeds\": 133246975.715342, \"total_stalk\": 60684900.77126748, \"total_deposited_bdv\": 40607112.783099, \"seeds_per_stalk\": 2.1957187705978836, \"stalk_per_bdv\": 1.4944401759222097, \"seeds_per_bdv\": 3.281370345807999}, {\"timestamp\": \"2022-10-13T00:00:00\", \"variable\": \"total_seeds\", \"value\": 133236030.471452, \"total_seeds\": 133236030.471452, \"total_stalk\": 60727906.18132696, \"total_deposited_bdv\": 40607469.292864, \"seeds_per_stalk\": 2.193983604071967, \"stalk_per_bdv\": 1.4954861073304746, \"seeds_per_bdv\": 3.2810719996004707}, {\"timestamp\": \"2022-10-13T00:00:00\", \"variable\": \"total_stalk\", \"value\": 60727906.18132696, \"total_seeds\": 133236030.471452, \"total_stalk\": 60727906.18132696, \"total_deposited_bdv\": 40607469.292864, \"seeds_per_stalk\": 2.193983604071967, \"stalk_per_bdv\": 1.4954861073304746, \"seeds_per_bdv\": 3.2810719996004707}, {\"timestamp\": \"2022-10-13T00:00:00\", \"variable\": \"total_deposited_bdv\", \"value\": 40607469.292864, \"total_seeds\": 133236030.471452, \"total_stalk\": 60727906.18132696, \"total_deposited_bdv\": 40607469.292864, \"seeds_per_stalk\": 2.193983604071967, \"stalk_per_bdv\": 1.4954861073304746, \"seeds_per_bdv\": 3.2810719996004707}, {\"timestamp\": \"2022-10-13T00:00:00\", \"variable\": \"seeds_per_stalk\", \"value\": 2.193983604071967, \"total_seeds\": 133236030.471452, \"total_stalk\": 60727906.18132696, \"total_deposited_bdv\": 40607469.292864, \"seeds_per_stalk\": 2.193983604071967, \"stalk_per_bdv\": 1.4954861073304746, \"seeds_per_bdv\": 3.2810719996004707}, {\"timestamp\": \"2022-10-13T00:00:00\", \"variable\": \"stalk_per_bdv\", \"value\": 1.4954861073304746, \"total_seeds\": 133236030.471452, \"total_stalk\": 60727906.18132696, \"total_deposited_bdv\": 40607469.292864, \"seeds_per_stalk\": 2.193983604071967, \"stalk_per_bdv\": 1.4954861073304746, \"seeds_per_bdv\": 3.2810719996004707}, {\"timestamp\": \"2022-10-13T00:00:00\", \"variable\": \"seeds_per_bdv\", \"value\": 3.2810719996004707, \"total_seeds\": 133236030.471452, \"total_stalk\": 60727906.18132696, \"total_deposited_bdv\": 40607469.292864, \"seeds_per_stalk\": 2.193983604071967, \"stalk_per_bdv\": 1.4954861073304746, \"seeds_per_bdv\": 3.2810719996004707}, {\"timestamp\": \"2022-10-14T00:00:00\", \"variable\": \"total_seeds\", \"value\": 133170380.484032, \"total_seeds\": 133170380.484032, \"total_stalk\": 60873771.32366673, \"total_deposited_bdv\": 40603303.800588, \"seeds_per_stalk\": 2.187647940784926, \"stalk_per_bdv\": 1.499231974388872, \"seeds_per_bdv\": 3.2797917415307345}, {\"timestamp\": \"2022-10-14T00:00:00\", \"variable\": \"total_stalk\", \"value\": 60873771.32366673, \"total_seeds\": 133170380.484032, \"total_stalk\": 60873771.32366673, \"total_deposited_bdv\": 40603303.800588, \"seeds_per_stalk\": 2.187647940784926, \"stalk_per_bdv\": 1.499231974388872, \"seeds_per_bdv\": 3.2797917415307345}, {\"timestamp\": \"2022-10-14T00:00:00\", \"variable\": \"total_deposited_bdv\", \"value\": 40603303.800588, \"total_seeds\": 133170380.484032, \"total_stalk\": 60873771.32366673, \"total_deposited_bdv\": 40603303.800588, \"seeds_per_stalk\": 2.187647940784926, \"stalk_per_bdv\": 1.499231974388872, \"seeds_per_bdv\": 3.2797917415307345}, {\"timestamp\": \"2022-10-14T00:00:00\", \"variable\": \"seeds_per_stalk\", \"value\": 2.187647940784926, \"total_seeds\": 133170380.484032, \"total_stalk\": 60873771.32366673, \"total_deposited_bdv\": 40603303.800588, \"seeds_per_stalk\": 2.187647940784926, \"stalk_per_bdv\": 1.499231974388872, \"seeds_per_bdv\": 3.2797917415307345}, {\"timestamp\": \"2022-10-14T00:00:00\", \"variable\": \"stalk_per_bdv\", \"value\": 1.499231974388872, \"total_seeds\": 133170380.484032, \"total_stalk\": 60873771.32366673, \"total_deposited_bdv\": 40603303.800588, \"seeds_per_stalk\": 2.187647940784926, \"stalk_per_bdv\": 1.499231974388872, \"seeds_per_bdv\": 3.2797917415307345}, {\"timestamp\": \"2022-10-14T00:00:00\", \"variable\": \"seeds_per_bdv\", \"value\": 3.2797917415307345, \"total_seeds\": 133170380.484032, \"total_stalk\": 60873771.32366673, \"total_deposited_bdv\": 40603303.800588, \"seeds_per_stalk\": 2.187647940784926, \"stalk_per_bdv\": 1.499231974388872, \"seeds_per_bdv\": 3.2797917415307345}, {\"timestamp\": \"2022-10-15T00:00:00\", \"variable\": \"total_seeds\", \"value\": 133132425.679638, \"total_seeds\": 133132425.679638, \"total_stalk\": 61049226.25432796, \"total_deposited_bdv\": 40604958.092815, \"seeds_per_stalk\": 2.180738951956821, \"stalk_per_bdv\": 1.5034919163019789, \"seeds_per_bdv\": 3.27872338583193}, {\"timestamp\": \"2022-10-15T00:00:00\", \"variable\": \"total_stalk\", \"value\": 61049226.25432796, \"total_seeds\": 133132425.679638, \"total_stalk\": 61049226.25432796, \"total_deposited_bdv\": 40604958.092815, \"seeds_per_stalk\": 2.180738951956821, \"stalk_per_bdv\": 1.5034919163019789, \"seeds_per_bdv\": 3.27872338583193}, {\"timestamp\": \"2022-10-15T00:00:00\", \"variable\": \"total_deposited_bdv\", \"value\": 40604958.092815, \"total_seeds\": 133132425.679638, \"total_stalk\": 61049226.25432796, \"total_deposited_bdv\": 40604958.092815, \"seeds_per_stalk\": 2.180738951956821, \"stalk_per_bdv\": 1.5034919163019789, \"seeds_per_bdv\": 3.27872338583193}, {\"timestamp\": \"2022-10-15T00:00:00\", \"variable\": \"seeds_per_stalk\", \"value\": 2.180738951956821, \"total_seeds\": 133132425.679638, \"total_stalk\": 61049226.25432796, \"total_deposited_bdv\": 40604958.092815, \"seeds_per_stalk\": 2.180738951956821, \"stalk_per_bdv\": 1.5034919163019789, \"seeds_per_bdv\": 3.27872338583193}, {\"timestamp\": \"2022-10-15T00:00:00\", \"variable\": \"stalk_per_bdv\", \"value\": 1.5034919163019789, \"total_seeds\": 133132425.679638, \"total_stalk\": 61049226.25432796, \"total_deposited_bdv\": 40604958.092815, \"seeds_per_stalk\": 2.180738951956821, \"stalk_per_bdv\": 1.5034919163019789, \"seeds_per_bdv\": 3.27872338583193}, {\"timestamp\": \"2022-10-15T00:00:00\", \"variable\": \"seeds_per_bdv\", \"value\": 3.27872338583193, \"total_seeds\": 133132425.679638, \"total_stalk\": 61049226.25432796, \"total_deposited_bdv\": 40604958.092815, \"seeds_per_stalk\": 2.180738951956821, \"stalk_per_bdv\": 1.5034919163019789, \"seeds_per_bdv\": 3.27872338583193}, {\"timestamp\": \"2022-10-16T00:00:00\", \"variable\": \"total_seeds\", \"value\": 133034309.429396, \"total_seeds\": 133034309.429396, \"total_stalk\": 61134155.71460411, \"total_deposited_bdv\": 40566869.854084, \"seeds_per_stalk\": 2.1761044685142505, \"stalk_per_bdv\": 1.5069971120399257, \"seeds_per_bdv\": 3.2793831495481527}, {\"timestamp\": \"2022-10-16T00:00:00\", \"variable\": \"total_stalk\", \"value\": 61134155.71460411, \"total_seeds\": 133034309.429396, \"total_stalk\": 61134155.71460411, \"total_deposited_bdv\": 40566869.854084, \"seeds_per_stalk\": 2.1761044685142505, \"stalk_per_bdv\": 1.5069971120399257, \"seeds_per_bdv\": 3.2793831495481527}, {\"timestamp\": \"2022-10-16T00:00:00\", \"variable\": \"total_deposited_bdv\", \"value\": 40566869.854084, \"total_seeds\": 133034309.429396, \"total_stalk\": 61134155.71460411, \"total_deposited_bdv\": 40566869.854084, \"seeds_per_stalk\": 2.1761044685142505, \"stalk_per_bdv\": 1.5069971120399257, \"seeds_per_bdv\": 3.2793831495481527}, {\"timestamp\": \"2022-10-16T00:00:00\", \"variable\": \"seeds_per_stalk\", \"value\": 2.1761044685142505, \"total_seeds\": 133034309.429396, \"total_stalk\": 61134155.71460411, \"total_deposited_bdv\": 40566869.854084, \"seeds_per_stalk\": 2.1761044685142505, \"stalk_per_bdv\": 1.5069971120399257, \"seeds_per_bdv\": 3.2793831495481527}, {\"timestamp\": \"2022-10-16T00:00:00\", \"variable\": \"stalk_per_bdv\", \"value\": 1.5069971120399257, \"total_seeds\": 133034309.429396, \"total_stalk\": 61134155.71460411, \"total_deposited_bdv\": 40566869.854084, \"seeds_per_stalk\": 2.1761044685142505, \"stalk_per_bdv\": 1.5069971120399257, \"seeds_per_bdv\": 3.2793831495481527}, {\"timestamp\": \"2022-10-16T00:00:00\", \"variable\": \"seeds_per_bdv\", \"value\": 3.2793831495481527, \"total_seeds\": 133034309.429396, \"total_stalk\": 61134155.71460411, \"total_deposited_bdv\": 40566869.854084, \"seeds_per_stalk\": 2.1761044685142505, \"stalk_per_bdv\": 1.5069971120399257, \"seeds_per_bdv\": 3.2793831495481527}, {\"timestamp\": \"2022-10-17T00:00:00\", \"variable\": \"total_seeds\", \"value\": 132867782.988592, \"total_seeds\": 132867782.988592, \"total_stalk\": 61392919.52179265, \"total_deposited_bdv\": 40562429.825593, \"seeds_per_stalk\": 2.1642199788434544, \"stalk_per_bdv\": 1.5135414664694613, \"seeds_per_bdv\": 3.2756366805412287}, {\"timestamp\": \"2022-10-17T00:00:00\", \"variable\": \"total_stalk\", \"value\": 61392919.52179265, \"total_seeds\": 132867782.988592, \"total_stalk\": 61392919.52179265, \"total_deposited_bdv\": 40562429.825593, \"seeds_per_stalk\": 2.1642199788434544, \"stalk_per_bdv\": 1.5135414664694613, \"seeds_per_bdv\": 3.2756366805412287}, {\"timestamp\": \"2022-10-17T00:00:00\", \"variable\": \"total_deposited_bdv\", \"value\": 40562429.825593, \"total_seeds\": 132867782.988592, \"total_stalk\": 61392919.52179265, \"total_deposited_bdv\": 40562429.825593, \"seeds_per_stalk\": 2.1642199788434544, \"stalk_per_bdv\": 1.5135414664694613, \"seeds_per_bdv\": 3.2756366805412287}, {\"timestamp\": \"2022-10-17T00:00:00\", \"variable\": \"seeds_per_stalk\", \"value\": 2.1642199788434544, \"total_seeds\": 132867782.988592, \"total_stalk\": 61392919.52179265, \"total_deposited_bdv\": 40562429.825593, \"seeds_per_stalk\": 2.1642199788434544, \"stalk_per_bdv\": 1.5135414664694613, \"seeds_per_bdv\": 3.2756366805412287}, {\"timestamp\": \"2022-10-17T00:00:00\", \"variable\": \"stalk_per_bdv\", \"value\": 1.5135414664694613, \"total_seeds\": 132867782.988592, \"total_stalk\": 61392919.52179265, \"total_deposited_bdv\": 40562429.825593, \"seeds_per_stalk\": 2.1642199788434544, \"stalk_per_bdv\": 1.5135414664694613, \"seeds_per_bdv\": 3.2756366805412287}, {\"timestamp\": \"2022-10-17T00:00:00\", \"variable\": \"seeds_per_bdv\", \"value\": 3.2756366805412287, \"total_seeds\": 132867782.988592, \"total_stalk\": 61392919.52179265, \"total_deposited_bdv\": 40562429.825593, \"seeds_per_stalk\": 2.1642199788434544, \"stalk_per_bdv\": 1.5135414664694613, \"seeds_per_bdv\": 3.2756366805412287}, {\"timestamp\": \"2022-10-18T00:00:00\", \"variable\": \"total_seeds\", \"value\": 132863709.749222, \"total_seeds\": 132863709.749222, \"total_stalk\": 61708315.22834368, \"total_deposited_bdv\": 40560101.144969, \"seeds_per_stalk\": 2.1530924844986763, \"stalk_per_bdv\": 1.521404372434556, \"seeds_per_bdv\": 3.2757243201722677}, {\"timestamp\": \"2022-10-18T00:00:00\", \"variable\": \"total_stalk\", \"value\": 61708315.22834368, \"total_seeds\": 132863709.749222, \"total_stalk\": 61708315.22834368, \"total_deposited_bdv\": 40560101.144969, \"seeds_per_stalk\": 2.1530924844986763, \"stalk_per_bdv\": 1.521404372434556, \"seeds_per_bdv\": 3.2757243201722677}, {\"timestamp\": \"2022-10-18T00:00:00\", \"variable\": \"total_deposited_bdv\", \"value\": 40560101.144969, \"total_seeds\": 132863709.749222, \"total_stalk\": 61708315.22834368, \"total_deposited_bdv\": 40560101.144969, \"seeds_per_stalk\": 2.1530924844986763, \"stalk_per_bdv\": 1.521404372434556, \"seeds_per_bdv\": 3.2757243201722677}, {\"timestamp\": \"2022-10-18T00:00:00\", \"variable\": \"seeds_per_stalk\", \"value\": 2.1530924844986763, \"total_seeds\": 132863709.749222, \"total_stalk\": 61708315.22834368, \"total_deposited_bdv\": 40560101.144969, \"seeds_per_stalk\": 2.1530924844986763, \"stalk_per_bdv\": 1.521404372434556, \"seeds_per_bdv\": 3.2757243201722677}, {\"timestamp\": \"2022-10-18T00:00:00\", \"variable\": \"stalk_per_bdv\", \"value\": 1.521404372434556, \"total_seeds\": 132863709.749222, \"total_stalk\": 61708315.22834368, \"total_deposited_bdv\": 40560101.144969, \"seeds_per_stalk\": 2.1530924844986763, \"stalk_per_bdv\": 1.521404372434556, \"seeds_per_bdv\": 3.2757243201722677}, {\"timestamp\": \"2022-10-18T00:00:00\", \"variable\": \"seeds_per_bdv\", \"value\": 3.2757243201722677, \"total_seeds\": 132863709.749222, \"total_stalk\": 61708315.22834368, \"total_deposited_bdv\": 40560101.144969, \"seeds_per_stalk\": 2.1530924844986763, \"stalk_per_bdv\": 1.521404372434556, \"seeds_per_bdv\": 3.2757243201722677}, {\"timestamp\": \"2022-10-19T00:00:00\", \"variable\": \"total_seeds\", \"value\": 132845639.963214, \"total_seeds\": 132845639.963214, \"total_stalk\": 61898177.5551889, \"total_deposited_bdv\": 40561662.347027, \"seeds_per_stalk\": 2.146196305129788, \"stalk_per_bdv\": 1.5260266461866494, \"seeds_per_bdv\": 3.275152749575389}, {\"timestamp\": \"2022-10-19T00:00:00\", \"variable\": \"total_stalk\", \"value\": 61898177.5551889, \"total_seeds\": 132845639.963214, \"total_stalk\": 61898177.5551889, \"total_deposited_bdv\": 40561662.347027, \"seeds_per_stalk\": 2.146196305129788, \"stalk_per_bdv\": 1.5260266461866494, \"seeds_per_bdv\": 3.275152749575389}, {\"timestamp\": \"2022-10-19T00:00:00\", \"variable\": \"total_deposited_bdv\", \"value\": 40561662.347027, \"total_seeds\": 132845639.963214, \"total_stalk\": 61898177.5551889, \"total_deposited_bdv\": 40561662.347027, \"seeds_per_stalk\": 2.146196305129788, \"stalk_per_bdv\": 1.5260266461866494, \"seeds_per_bdv\": 3.275152749575389}, {\"timestamp\": \"2022-10-19T00:00:00\", \"variable\": \"seeds_per_stalk\", \"value\": 2.146196305129788, \"total_seeds\": 132845639.963214, \"total_stalk\": 61898177.5551889, \"total_deposited_bdv\": 40561662.347027, \"seeds_per_stalk\": 2.146196305129788, \"stalk_per_bdv\": 1.5260266461866494, \"seeds_per_bdv\": 3.275152749575389}, {\"timestamp\": \"2022-10-19T00:00:00\", \"variable\": \"stalk_per_bdv\", \"value\": 1.5260266461866494, \"total_seeds\": 132845639.963214, \"total_stalk\": 61898177.5551889, \"total_deposited_bdv\": 40561662.347027, \"seeds_per_stalk\": 2.146196305129788, \"stalk_per_bdv\": 1.5260266461866494, \"seeds_per_bdv\": 3.275152749575389}, {\"timestamp\": \"2022-10-19T00:00:00\", \"variable\": \"seeds_per_bdv\", \"value\": 3.275152749575389, \"total_seeds\": 132845639.963214, \"total_stalk\": 61898177.5551889, \"total_deposited_bdv\": 40561662.347027, \"seeds_per_stalk\": 2.146196305129788, \"stalk_per_bdv\": 1.5260266461866494, \"seeds_per_bdv\": 3.275152749575389}, {\"timestamp\": \"2022-10-20T00:00:00\", \"variable\": \"total_seeds\", \"value\": 132767979.428324, \"total_seeds\": 132767979.428324, \"total_stalk\": 61950593.19365115, \"total_deposited_bdv\": 40563445.743447, \"seeds_per_stalk\": 2.143126846474335, \"stalk_per_bdv\": 1.5272517425041297, \"seeds_per_bdv\": 3.2730942106853087}, {\"timestamp\": \"2022-10-20T00:00:00\", \"variable\": \"total_stalk\", \"value\": 61950593.19365115, \"total_seeds\": 132767979.428324, \"total_stalk\": 61950593.19365115, \"total_deposited_bdv\": 40563445.743447, \"seeds_per_stalk\": 2.143126846474335, \"stalk_per_bdv\": 1.5272517425041297, \"seeds_per_bdv\": 3.2730942106853087}, {\"timestamp\": \"2022-10-20T00:00:00\", \"variable\": \"total_deposited_bdv\", \"value\": 40563445.743447, \"total_seeds\": 132767979.428324, \"total_stalk\": 61950593.19365115, \"total_deposited_bdv\": 40563445.743447, \"seeds_per_stalk\": 2.143126846474335, \"stalk_per_bdv\": 1.5272517425041297, \"seeds_per_bdv\": 3.2730942106853087}, {\"timestamp\": \"2022-10-20T00:00:00\", \"variable\": \"seeds_per_stalk\", \"value\": 2.143126846474335, \"total_seeds\": 132767979.428324, \"total_stalk\": 61950593.19365115, \"total_deposited_bdv\": 40563445.743447, \"seeds_per_stalk\": 2.143126846474335, \"stalk_per_bdv\": 1.5272517425041297, \"seeds_per_bdv\": 3.2730942106853087}, {\"timestamp\": \"2022-10-20T00:00:00\", \"variable\": \"stalk_per_bdv\", \"value\": 1.5272517425041297, \"total_seeds\": 132767979.428324, \"total_stalk\": 61950593.19365115, \"total_deposited_bdv\": 40563445.743447, \"seeds_per_stalk\": 2.143126846474335, \"stalk_per_bdv\": 1.5272517425041297, \"seeds_per_bdv\": 3.2730942106853087}, {\"timestamp\": \"2022-10-20T00:00:00\", \"variable\": \"seeds_per_bdv\", \"value\": 3.2730942106853087, \"total_seeds\": 132767979.428324, \"total_stalk\": 61950593.19365115, \"total_deposited_bdv\": 40563445.743447, \"seeds_per_stalk\": 2.143126846474335, \"stalk_per_bdv\": 1.5272517425041297, \"seeds_per_bdv\": 3.2730942106853087}, {\"timestamp\": \"2022-10-21T00:00:00\", \"variable\": \"total_seeds\", \"value\": 132807688.34611, \"total_seeds\": 132807688.34611, \"total_stalk\": 62028035.74700031, \"total_deposited_bdv\": 40582004.515139, \"seeds_per_stalk\": 2.1410913105132887, \"stalk_per_bdv\": 1.5284616047948278, \"seeds_per_bdv\": 3.272575860479402}, {\"timestamp\": \"2022-10-21T00:00:00\", \"variable\": \"total_stalk\", \"value\": 62028035.74700031, \"total_seeds\": 132807688.34611, \"total_stalk\": 62028035.74700031, \"total_deposited_bdv\": 40582004.515139, \"seeds_per_stalk\": 2.1410913105132887, \"stalk_per_bdv\": 1.5284616047948278, \"seeds_per_bdv\": 3.272575860479402}, {\"timestamp\": \"2022-10-21T00:00:00\", \"variable\": \"total_deposited_bdv\", \"value\": 40582004.515139, \"total_seeds\": 132807688.34611, \"total_stalk\": 62028035.74700031, \"total_deposited_bdv\": 40582004.515139, \"seeds_per_stalk\": 2.1410913105132887, \"stalk_per_bdv\": 1.5284616047948278, \"seeds_per_bdv\": 3.272575860479402}, {\"timestamp\": \"2022-10-21T00:00:00\", \"variable\": \"seeds_per_stalk\", \"value\": 2.1410913105132887, \"total_seeds\": 132807688.34611, \"total_stalk\": 62028035.74700031, \"total_deposited_bdv\": 40582004.515139, \"seeds_per_stalk\": 2.1410913105132887, \"stalk_per_bdv\": 1.5284616047948278, \"seeds_per_bdv\": 3.272575860479402}, {\"timestamp\": \"2022-10-21T00:00:00\", \"variable\": \"stalk_per_bdv\", \"value\": 1.5284616047948278, \"total_seeds\": 132807688.34611, \"total_stalk\": 62028035.74700031, \"total_deposited_bdv\": 40582004.515139, \"seeds_per_stalk\": 2.1410913105132887, \"stalk_per_bdv\": 1.5284616047948278, \"seeds_per_bdv\": 3.272575860479402}, {\"timestamp\": \"2022-10-21T00:00:00\", \"variable\": \"seeds_per_bdv\", \"value\": 3.272575860479402, \"total_seeds\": 132807688.34611, \"total_stalk\": 62028035.74700031, \"total_deposited_bdv\": 40582004.515139, \"seeds_per_stalk\": 2.1410913105132887, \"stalk_per_bdv\": 1.5284616047948278, \"seeds_per_bdv\": 3.272575860479402}, {\"timestamp\": \"2022-10-22T00:00:00\", \"variable\": \"total_seeds\", \"value\": 132764720.703708, \"total_seeds\": 132764720.703708, \"total_stalk\": 62393623.09054798, \"total_deposited_bdv\": 40577142.304378, \"seeds_per_stalk\": 2.127857209238111, \"stalk_per_bdv\": 1.5376544415700788, \"seeds_per_bdv\": 3.2719090888118942}, {\"timestamp\": \"2022-10-22T00:00:00\", \"variable\": \"total_stalk\", \"value\": 62393623.09054798, \"total_seeds\": 132764720.703708, \"total_stalk\": 62393623.09054798, \"total_deposited_bdv\": 40577142.304378, \"seeds_per_stalk\": 2.127857209238111, \"stalk_per_bdv\": 1.5376544415700788, \"seeds_per_bdv\": 3.2719090888118942}, {\"timestamp\": \"2022-10-22T00:00:00\", \"variable\": \"total_deposited_bdv\", \"value\": 40577142.304378, \"total_seeds\": 132764720.703708, \"total_stalk\": 62393623.09054798, \"total_deposited_bdv\": 40577142.304378, \"seeds_per_stalk\": 2.127857209238111, \"stalk_per_bdv\": 1.5376544415700788, \"seeds_per_bdv\": 3.2719090888118942}, {\"timestamp\": \"2022-10-22T00:00:00\", \"variable\": \"seeds_per_stalk\", \"value\": 2.127857209238111, \"total_seeds\": 132764720.703708, \"total_stalk\": 62393623.09054798, \"total_deposited_bdv\": 40577142.304378, \"seeds_per_stalk\": 2.127857209238111, \"stalk_per_bdv\": 1.5376544415700788, \"seeds_per_bdv\": 3.2719090888118942}, {\"timestamp\": \"2022-10-22T00:00:00\", \"variable\": \"stalk_per_bdv\", \"value\": 1.5376544415700788, \"total_seeds\": 132764720.703708, \"total_stalk\": 62393623.09054798, \"total_deposited_bdv\": 40577142.304378, \"seeds_per_stalk\": 2.127857209238111, \"stalk_per_bdv\": 1.5376544415700788, \"seeds_per_bdv\": 3.2719090888118942}, {\"timestamp\": \"2022-10-22T00:00:00\", \"variable\": \"seeds_per_bdv\", \"value\": 3.2719090888118942, \"total_seeds\": 132764720.703708, \"total_stalk\": 62393623.09054798, \"total_deposited_bdv\": 40577142.304378, \"seeds_per_stalk\": 2.127857209238111, \"stalk_per_bdv\": 1.5376544415700788, \"seeds_per_bdv\": 3.2719090888118942}, {\"timestamp\": \"2022-10-23T00:00:00\", \"variable\": \"total_seeds\", \"value\": 132713452.280782, \"total_seeds\": 132713452.280782, \"total_stalk\": 62583806.01362952, \"total_deposited_bdv\": 40577590.061938, \"seeds_per_stalk\": 2.120571769826201, \"stalk_per_bdv\": 1.5423243696360731, \"seeds_per_bdv\": 3.270609518165248}, {\"timestamp\": \"2022-10-23T00:00:00\", \"variable\": \"total_stalk\", \"value\": 62583806.01362952, \"total_seeds\": 132713452.280782, \"total_stalk\": 62583806.01362952, \"total_deposited_bdv\": 40577590.061938, \"seeds_per_stalk\": 2.120571769826201, \"stalk_per_bdv\": 1.5423243696360731, \"seeds_per_bdv\": 3.270609518165248}, {\"timestamp\": \"2022-10-23T00:00:00\", \"variable\": \"total_deposited_bdv\", \"value\": 40577590.061938, \"total_seeds\": 132713452.280782, \"total_stalk\": 62583806.01362952, \"total_deposited_bdv\": 40577590.061938, \"seeds_per_stalk\": 2.120571769826201, \"stalk_per_bdv\": 1.5423243696360731, \"seeds_per_bdv\": 3.270609518165248}, {\"timestamp\": \"2022-10-23T00:00:00\", \"variable\": \"seeds_per_stalk\", \"value\": 2.120571769826201, \"total_seeds\": 132713452.280782, \"total_stalk\": 62583806.01362952, \"total_deposited_bdv\": 40577590.061938, \"seeds_per_stalk\": 2.120571769826201, \"stalk_per_bdv\": 1.5423243696360731, \"seeds_per_bdv\": 3.270609518165248}, {\"timestamp\": \"2022-10-23T00:00:00\", \"variable\": \"stalk_per_bdv\", \"value\": 1.5423243696360731, \"total_seeds\": 132713452.280782, \"total_stalk\": 62583806.01362952, \"total_deposited_bdv\": 40577590.061938, \"seeds_per_stalk\": 2.120571769826201, \"stalk_per_bdv\": 1.5423243696360731, \"seeds_per_bdv\": 3.270609518165248}, {\"timestamp\": \"2022-10-23T00:00:00\", \"variable\": \"seeds_per_bdv\", \"value\": 3.270609518165248, \"total_seeds\": 132713452.280782, \"total_stalk\": 62583806.01362952, \"total_deposited_bdv\": 40577590.061938, \"seeds_per_stalk\": 2.120571769826201, \"stalk_per_bdv\": 1.5423243696360731, \"seeds_per_bdv\": 3.270609518165248}, {\"timestamp\": \"2022-10-24T00:00:00\", \"variable\": \"total_seeds\", \"value\": 132728348.06384, \"total_seeds\": 132728348.06384, \"total_stalk\": 62874159.571526706, \"total_deposited_bdv\": 40579423.545079, \"seeds_per_stalk\": 2.1110158603845193, \"stalk_per_bdv\": 1.5494098752211416, \"seeds_per_bdv\": 3.270828820828229}, {\"timestamp\": \"2022-10-24T00:00:00\", \"variable\": \"total_stalk\", \"value\": 62874159.571526706, \"total_seeds\": 132728348.06384, \"total_stalk\": 62874159.571526706, \"total_deposited_bdv\": 40579423.545079, \"seeds_per_stalk\": 2.1110158603845193, \"stalk_per_bdv\": 1.5494098752211416, \"seeds_per_bdv\": 3.270828820828229}, {\"timestamp\": \"2022-10-24T00:00:00\", \"variable\": \"total_deposited_bdv\", \"value\": 40579423.545079, \"total_seeds\": 132728348.06384, \"total_stalk\": 62874159.571526706, \"total_deposited_bdv\": 40579423.545079, \"seeds_per_stalk\": 2.1110158603845193, \"stalk_per_bdv\": 1.5494098752211416, \"seeds_per_bdv\": 3.270828820828229}, {\"timestamp\": \"2022-10-24T00:00:00\", \"variable\": \"seeds_per_stalk\", \"value\": 2.1110158603845193, \"total_seeds\": 132728348.06384, \"total_stalk\": 62874159.571526706, \"total_deposited_bdv\": 40579423.545079, \"seeds_per_stalk\": 2.1110158603845193, \"stalk_per_bdv\": 1.5494098752211416, \"seeds_per_bdv\": 3.270828820828229}, {\"timestamp\": \"2022-10-24T00:00:00\", \"variable\": \"stalk_per_bdv\", \"value\": 1.5494098752211416, \"total_seeds\": 132728348.06384, \"total_stalk\": 62874159.571526706, \"total_deposited_bdv\": 40579423.545079, \"seeds_per_stalk\": 2.1110158603845193, \"stalk_per_bdv\": 1.5494098752211416, \"seeds_per_bdv\": 3.270828820828229}, {\"timestamp\": \"2022-10-24T00:00:00\", \"variable\": \"seeds_per_bdv\", \"value\": 3.270828820828229, \"total_seeds\": 132728348.06384, \"total_stalk\": 62874159.571526706, \"total_deposited_bdv\": 40579423.545079, \"seeds_per_stalk\": 2.1110158603845193, \"stalk_per_bdv\": 1.5494098752211416, \"seeds_per_bdv\": 3.270828820828229}, {\"timestamp\": \"2022-10-25T00:00:00\", \"variable\": \"total_seeds\", \"value\": 132797925.511796, \"total_seeds\": 132797925.511796, \"total_stalk\": 63702419.79654675, \"total_deposited_bdv\": 40599436.68612, \"seeds_per_stalk\": 2.084660613143535, \"stalk_per_bdv\": 1.569046888237371, \"seeds_per_bdv\": 3.270930248083873}, {\"timestamp\": \"2022-10-25T00:00:00\", \"variable\": \"total_stalk\", \"value\": 63702419.79654675, \"total_seeds\": 132797925.511796, \"total_stalk\": 63702419.79654675, \"total_deposited_bdv\": 40599436.68612, \"seeds_per_stalk\": 2.084660613143535, \"stalk_per_bdv\": 1.569046888237371, \"seeds_per_bdv\": 3.270930248083873}, {\"timestamp\": \"2022-10-25T00:00:00\", \"variable\": \"total_deposited_bdv\", \"value\": 40599436.68612, \"total_seeds\": 132797925.511796, \"total_stalk\": 63702419.79654675, \"total_deposited_bdv\": 40599436.68612, \"seeds_per_stalk\": 2.084660613143535, \"stalk_per_bdv\": 1.569046888237371, \"seeds_per_bdv\": 3.270930248083873}, {\"timestamp\": \"2022-10-25T00:00:00\", \"variable\": \"seeds_per_stalk\", \"value\": 2.084660613143535, \"total_seeds\": 132797925.511796, \"total_stalk\": 63702419.79654675, \"total_deposited_bdv\": 40599436.68612, \"seeds_per_stalk\": 2.084660613143535, \"stalk_per_bdv\": 1.569046888237371, \"seeds_per_bdv\": 3.270930248083873}, {\"timestamp\": \"2022-10-25T00:00:00\", \"variable\": \"stalk_per_bdv\", \"value\": 1.569046888237371, \"total_seeds\": 132797925.511796, \"total_stalk\": 63702419.79654675, \"total_deposited_bdv\": 40599436.68612, \"seeds_per_stalk\": 2.084660613143535, \"stalk_per_bdv\": 1.569046888237371, \"seeds_per_bdv\": 3.270930248083873}, {\"timestamp\": \"2022-10-25T00:00:00\", \"variable\": \"seeds_per_bdv\", \"value\": 3.270930248083873, \"total_seeds\": 132797925.511796, \"total_stalk\": 63702419.79654675, \"total_deposited_bdv\": 40599436.68612, \"seeds_per_stalk\": 2.084660613143535, \"stalk_per_bdv\": 1.569046888237371, \"seeds_per_bdv\": 3.270930248083873}, {\"timestamp\": \"2022-10-26T00:00:00\", \"variable\": \"total_seeds\", \"value\": 132870812.134578, \"total_seeds\": 132870812.134578, \"total_stalk\": 63990019.73421057, \"total_deposited_bdv\": 40618689.945258, \"seeds_per_stalk\": 2.076430241566907, \"stalk_per_bdv\": 1.5753836428612107, \"seeds_per_bdv\": 3.2711742381068576}, {\"timestamp\": \"2022-10-26T00:00:00\", \"variable\": \"total_stalk\", \"value\": 63990019.73421057, \"total_seeds\": 132870812.134578, \"total_stalk\": 63990019.73421057, \"total_deposited_bdv\": 40618689.945258, \"seeds_per_stalk\": 2.076430241566907, \"stalk_per_bdv\": 1.5753836428612107, \"seeds_per_bdv\": 3.2711742381068576}, {\"timestamp\": \"2022-10-26T00:00:00\", \"variable\": \"total_deposited_bdv\", \"value\": 40618689.945258, \"total_seeds\": 132870812.134578, \"total_stalk\": 63990019.73421057, \"total_deposited_bdv\": 40618689.945258, \"seeds_per_stalk\": 2.076430241566907, \"stalk_per_bdv\": 1.5753836428612107, \"seeds_per_bdv\": 3.2711742381068576}, {\"timestamp\": \"2022-10-26T00:00:00\", \"variable\": \"seeds_per_stalk\", \"value\": 2.076430241566907, \"total_seeds\": 132870812.134578, \"total_stalk\": 63990019.73421057, \"total_deposited_bdv\": 40618689.945258, \"seeds_per_stalk\": 2.076430241566907, \"stalk_per_bdv\": 1.5753836428612107, \"seeds_per_bdv\": 3.2711742381068576}, {\"timestamp\": \"2022-10-26T00:00:00\", \"variable\": \"stalk_per_bdv\", \"value\": 1.5753836428612107, \"total_seeds\": 132870812.134578, \"total_stalk\": 63990019.73421057, \"total_deposited_bdv\": 40618689.945258, \"seeds_per_stalk\": 2.076430241566907, \"stalk_per_bdv\": 1.5753836428612107, \"seeds_per_bdv\": 3.2711742381068576}, {\"timestamp\": \"2022-10-26T00:00:00\", \"variable\": \"seeds_per_bdv\", \"value\": 3.2711742381068576, \"total_seeds\": 132870812.134578, \"total_stalk\": 63990019.73421057, \"total_deposited_bdv\": 40618689.945258, \"seeds_per_stalk\": 2.076430241566907, \"stalk_per_bdv\": 1.5753836428612107, \"seeds_per_bdv\": 3.2711742381068576}, {\"timestamp\": \"2022-10-27T00:00:00\", \"variable\": \"total_seeds\", \"value\": 132831483.9552, \"total_seeds\": 132831483.9552, \"total_stalk\": 64271759.846611775, \"total_deposited_bdv\": 40636275.384033, \"seeds_per_stalk\": 2.066716148308525, \"stalk_per_bdv\": 1.581635109005727, \"seeds_per_bdv\": 3.26879082051385}, {\"timestamp\": \"2022-10-27T00:00:00\", \"variable\": \"total_stalk\", \"value\": 64271759.846611775, \"total_seeds\": 132831483.9552, \"total_stalk\": 64271759.846611775, \"total_deposited_bdv\": 40636275.384033, \"seeds_per_stalk\": 2.066716148308525, \"stalk_per_bdv\": 1.581635109005727, \"seeds_per_bdv\": 3.26879082051385}, {\"timestamp\": \"2022-10-27T00:00:00\", \"variable\": \"total_deposited_bdv\", \"value\": 40636275.384033, \"total_seeds\": 132831483.9552, \"total_stalk\": 64271759.846611775, \"total_deposited_bdv\": 40636275.384033, \"seeds_per_stalk\": 2.066716148308525, \"stalk_per_bdv\": 1.581635109005727, \"seeds_per_bdv\": 3.26879082051385}, {\"timestamp\": \"2022-10-27T00:00:00\", \"variable\": \"seeds_per_stalk\", \"value\": 2.066716148308525, \"total_seeds\": 132831483.9552, \"total_stalk\": 64271759.846611775, \"total_deposited_bdv\": 40636275.384033, \"seeds_per_stalk\": 2.066716148308525, \"stalk_per_bdv\": 1.581635109005727, \"seeds_per_bdv\": 3.26879082051385}, {\"timestamp\": \"2022-10-27T00:00:00\", \"variable\": \"stalk_per_bdv\", \"value\": 1.581635109005727, \"total_seeds\": 132831483.9552, \"total_stalk\": 64271759.846611775, \"total_deposited_bdv\": 40636275.384033, \"seeds_per_stalk\": 2.066716148308525, \"stalk_per_bdv\": 1.581635109005727, \"seeds_per_bdv\": 3.26879082051385}, {\"timestamp\": \"2022-10-27T00:00:00\", \"variable\": \"seeds_per_bdv\", \"value\": 3.26879082051385, \"total_seeds\": 132831483.9552, \"total_stalk\": 64271759.846611775, \"total_deposited_bdv\": 40636275.384033, \"seeds_per_stalk\": 2.066716148308525, \"stalk_per_bdv\": 1.581635109005727, \"seeds_per_bdv\": 3.26879082051385}, {\"timestamp\": \"2022-10-28T00:00:00\", \"variable\": \"total_seeds\", \"value\": 133072495.808978, \"total_seeds\": 133072495.808978, \"total_stalk\": 64875295.194297075, \"total_deposited_bdv\": 40699017.957629, \"seeds_per_stalk\": 2.0512044748379945, \"stalk_per_bdv\": 1.5940260588557087, \"seeds_per_bdv\": 3.2696733849332023}, {\"timestamp\": \"2022-10-28T00:00:00\", \"variable\": \"total_stalk\", \"value\": 64875295.194297075, \"total_seeds\": 133072495.808978, \"total_stalk\": 64875295.194297075, \"total_deposited_bdv\": 40699017.957629, \"seeds_per_stalk\": 2.0512044748379945, \"stalk_per_bdv\": 1.5940260588557087, \"seeds_per_bdv\": 3.2696733849332023}, {\"timestamp\": \"2022-10-28T00:00:00\", \"variable\": \"total_deposited_bdv\", \"value\": 40699017.957629, \"total_seeds\": 133072495.808978, \"total_stalk\": 64875295.194297075, \"total_deposited_bdv\": 40699017.957629, \"seeds_per_stalk\": 2.0512044748379945, \"stalk_per_bdv\": 1.5940260588557087, \"seeds_per_bdv\": 3.2696733849332023}, {\"timestamp\": \"2022-10-28T00:00:00\", \"variable\": \"seeds_per_stalk\", \"value\": 2.0512044748379945, \"total_seeds\": 133072495.808978, \"total_stalk\": 64875295.194297075, \"total_deposited_bdv\": 40699017.957629, \"seeds_per_stalk\": 2.0512044748379945, \"stalk_per_bdv\": 1.5940260588557087, \"seeds_per_bdv\": 3.2696733849332023}, {\"timestamp\": \"2022-10-28T00:00:00\", \"variable\": \"stalk_per_bdv\", \"value\": 1.5940260588557087, \"total_seeds\": 133072495.808978, \"total_stalk\": 64875295.194297075, \"total_deposited_bdv\": 40699017.957629, \"seeds_per_stalk\": 2.0512044748379945, \"stalk_per_bdv\": 1.5940260588557087, \"seeds_per_bdv\": 3.2696733849332023}, {\"timestamp\": \"2022-10-28T00:00:00\", \"variable\": \"seeds_per_bdv\", \"value\": 3.2696733849332023, \"total_seeds\": 133072495.808978, \"total_stalk\": 64875295.194297075, \"total_deposited_bdv\": 40699017.957629, \"seeds_per_stalk\": 2.0512044748379945, \"stalk_per_bdv\": 1.5940260588557087, \"seeds_per_bdv\": 3.2696733849332023}, {\"timestamp\": \"2022-10-29T00:00:00\", \"variable\": \"total_seeds\", \"value\": 133070465.592224, \"total_seeds\": 133070465.592224, \"total_stalk\": 65107497.81505578, \"total_deposited_bdv\": 40755099.897229, \"seeds_per_stalk\": 2.0438577745718884, \"stalk_per_bdv\": 1.597530075480996, \"seeds_per_bdv\": 3.26512426488425}, {\"timestamp\": \"2022-10-29T00:00:00\", \"variable\": \"total_stalk\", \"value\": 65107497.81505578, \"total_seeds\": 133070465.592224, \"total_stalk\": 65107497.81505578, \"total_deposited_bdv\": 40755099.897229, \"seeds_per_stalk\": 2.0438577745718884, \"stalk_per_bdv\": 1.597530075480996, \"seeds_per_bdv\": 3.26512426488425}, {\"timestamp\": \"2022-10-29T00:00:00\", \"variable\": \"total_deposited_bdv\", \"value\": 40755099.897229, \"total_seeds\": 133070465.592224, \"total_stalk\": 65107497.81505578, \"total_deposited_bdv\": 40755099.897229, \"seeds_per_stalk\": 2.0438577745718884, \"stalk_per_bdv\": 1.597530075480996, \"seeds_per_bdv\": 3.26512426488425}, {\"timestamp\": \"2022-10-29T00:00:00\", \"variable\": \"seeds_per_stalk\", \"value\": 2.0438577745718884, \"total_seeds\": 133070465.592224, \"total_stalk\": 65107497.81505578, \"total_deposited_bdv\": 40755099.897229, \"seeds_per_stalk\": 2.0438577745718884, \"stalk_per_bdv\": 1.597530075480996, \"seeds_per_bdv\": 3.26512426488425}, {\"timestamp\": \"2022-10-29T00:00:00\", \"variable\": \"stalk_per_bdv\", \"value\": 1.597530075480996, \"total_seeds\": 133070465.592224, \"total_stalk\": 65107497.81505578, \"total_deposited_bdv\": 40755099.897229, \"seeds_per_stalk\": 2.0438577745718884, \"stalk_per_bdv\": 1.597530075480996, \"seeds_per_bdv\": 3.26512426488425}, {\"timestamp\": \"2022-10-29T00:00:00\", \"variable\": \"seeds_per_bdv\", \"value\": 3.26512426488425, \"total_seeds\": 133070465.592224, \"total_stalk\": 65107497.81505578, \"total_deposited_bdv\": 40755099.897229, \"seeds_per_stalk\": 2.0438577745718884, \"stalk_per_bdv\": 1.597530075480996, \"seeds_per_bdv\": 3.26512426488425}, {\"timestamp\": \"2022-10-30T00:00:00\", \"variable\": \"total_seeds\", \"value\": 133205769.845352, \"total_seeds\": 133205769.845352, \"total_stalk\": 65300670.26544648, \"total_deposited_bdv\": 40793099.657241, \"seeds_per_stalk\": 2.0398836536267098, \"stalk_per_bdv\": 1.6007773573012916, \"seeds_per_bdv\": 3.2653995642546674}, {\"timestamp\": \"2022-10-30T00:00:00\", \"variable\": \"total_stalk\", \"value\": 65300670.26544648, \"total_seeds\": 133205769.845352, \"total_stalk\": 65300670.26544648, \"total_deposited_bdv\": 40793099.657241, \"seeds_per_stalk\": 2.0398836536267098, \"stalk_per_bdv\": 1.6007773573012916, \"seeds_per_bdv\": 3.2653995642546674}, {\"timestamp\": \"2022-10-30T00:00:00\", \"variable\": \"total_deposited_bdv\", \"value\": 40793099.657241, \"total_seeds\": 133205769.845352, \"total_stalk\": 65300670.26544648, \"total_deposited_bdv\": 40793099.657241, \"seeds_per_stalk\": 2.0398836536267098, \"stalk_per_bdv\": 1.6007773573012916, \"seeds_per_bdv\": 3.2653995642546674}, {\"timestamp\": \"2022-10-30T00:00:00\", \"variable\": \"seeds_per_stalk\", \"value\": 2.0398836536267098, \"total_seeds\": 133205769.845352, \"total_stalk\": 65300670.26544648, \"total_deposited_bdv\": 40793099.657241, \"seeds_per_stalk\": 2.0398836536267098, \"stalk_per_bdv\": 1.6007773573012916, \"seeds_per_bdv\": 3.2653995642546674}, {\"timestamp\": \"2022-10-30T00:00:00\", \"variable\": \"stalk_per_bdv\", \"value\": 1.6007773573012916, \"total_seeds\": 133205769.845352, \"total_stalk\": 65300670.26544648, \"total_deposited_bdv\": 40793099.657241, \"seeds_per_stalk\": 2.0398836536267098, \"stalk_per_bdv\": 1.6007773573012916, \"seeds_per_bdv\": 3.2653995642546674}, {\"timestamp\": \"2022-10-30T00:00:00\", \"variable\": \"seeds_per_bdv\", \"value\": 3.2653995642546674, \"total_seeds\": 133205769.845352, \"total_stalk\": 65300670.26544648, \"total_deposited_bdv\": 40793099.657241, \"seeds_per_stalk\": 2.0398836536267098, \"stalk_per_bdv\": 1.6007773573012916, \"seeds_per_bdv\": 3.2653995642546674}, {\"timestamp\": \"2022-10-31T00:00:00\", \"variable\": \"total_seeds\", \"value\": 133026480.410498, \"total_seeds\": 133026480.410498, \"total_stalk\": 66570528.284040086, \"total_deposited_bdv\": 40790747.178227, \"seeds_per_stalk\": 1.99827887564459, \"stalk_per_bdv\": 1.6320007082285966, \"seeds_per_bdv\": 3.261192540290214}, {\"timestamp\": \"2022-10-31T00:00:00\", \"variable\": \"total_stalk\", \"value\": 66570528.284040086, \"total_seeds\": 133026480.410498, \"total_stalk\": 66570528.284040086, \"total_deposited_bdv\": 40790747.178227, \"seeds_per_stalk\": 1.99827887564459, \"stalk_per_bdv\": 1.6320007082285966, \"seeds_per_bdv\": 3.261192540290214}, {\"timestamp\": \"2022-10-31T00:00:00\", \"variable\": \"total_deposited_bdv\", \"value\": 40790747.178227, \"total_seeds\": 133026480.410498, \"total_stalk\": 66570528.284040086, \"total_deposited_bdv\": 40790747.178227, \"seeds_per_stalk\": 1.99827887564459, \"stalk_per_bdv\": 1.6320007082285966, \"seeds_per_bdv\": 3.261192540290214}, {\"timestamp\": \"2022-10-31T00:00:00\", \"variable\": \"seeds_per_stalk\", \"value\": 1.99827887564459, \"total_seeds\": 133026480.410498, \"total_stalk\": 66570528.284040086, \"total_deposited_bdv\": 40790747.178227, \"seeds_per_stalk\": 1.99827887564459, \"stalk_per_bdv\": 1.6320007082285966, \"seeds_per_bdv\": 3.261192540290214}, {\"timestamp\": \"2022-10-31T00:00:00\", \"variable\": \"stalk_per_bdv\", \"value\": 1.6320007082285966, \"total_seeds\": 133026480.410498, \"total_stalk\": 66570528.284040086, \"total_deposited_bdv\": 40790747.178227, \"seeds_per_stalk\": 1.99827887564459, \"stalk_per_bdv\": 1.6320007082285966, \"seeds_per_bdv\": 3.261192540290214}, {\"timestamp\": \"2022-10-31T00:00:00\", \"variable\": \"seeds_per_bdv\", \"value\": 3.261192540290214, \"total_seeds\": 133026480.410498, \"total_stalk\": 66570528.284040086, \"total_deposited_bdv\": 40790747.178227, \"seeds_per_stalk\": 1.99827887564459, \"stalk_per_bdv\": 1.6320007082285966, \"seeds_per_bdv\": 3.261192540290214}, {\"timestamp\": \"2022-11-01T00:00:00\", \"variable\": \"total_seeds\", \"value\": 133034780.078226, \"total_seeds\": 133034780.078226, \"total_stalk\": 66834089.21102643, \"total_deposited_bdv\": 40811749.87212, \"seeds_per_stalk\": 1.990522825233289, \"stalk_per_bdv\": 1.6376188088098433, \"seeds_per_bdv\": 3.2597176179673424}, {\"timestamp\": \"2022-11-01T00:00:00\", \"variable\": \"total_stalk\", \"value\": 66834089.21102643, \"total_seeds\": 133034780.078226, \"total_stalk\": 66834089.21102643, \"total_deposited_bdv\": 40811749.87212, \"seeds_per_stalk\": 1.990522825233289, \"stalk_per_bdv\": 1.6376188088098433, \"seeds_per_bdv\": 3.2597176179673424}, {\"timestamp\": \"2022-11-01T00:00:00\", \"variable\": \"total_deposited_bdv\", \"value\": 40811749.87212, \"total_seeds\": 133034780.078226, \"total_stalk\": 66834089.21102643, \"total_deposited_bdv\": 40811749.87212, \"seeds_per_stalk\": 1.990522825233289, \"stalk_per_bdv\": 1.6376188088098433, \"seeds_per_bdv\": 3.2597176179673424}, {\"timestamp\": \"2022-11-01T00:00:00\", \"variable\": \"seeds_per_stalk\", \"value\": 1.990522825233289, \"total_seeds\": 133034780.078226, \"total_stalk\": 66834089.21102643, \"total_deposited_bdv\": 40811749.87212, \"seeds_per_stalk\": 1.990522825233289, \"stalk_per_bdv\": 1.6376188088098433, \"seeds_per_bdv\": 3.2597176179673424}, {\"timestamp\": \"2022-11-01T00:00:00\", \"variable\": \"stalk_per_bdv\", \"value\": 1.6376188088098433, \"total_seeds\": 133034780.078226, \"total_stalk\": 66834089.21102643, \"total_deposited_bdv\": 40811749.87212, \"seeds_per_stalk\": 1.990522825233289, \"stalk_per_bdv\": 1.6376188088098433, \"seeds_per_bdv\": 3.2597176179673424}, {\"timestamp\": \"2022-11-01T00:00:00\", \"variable\": \"seeds_per_bdv\", \"value\": 3.2597176179673424, \"total_seeds\": 133034780.078226, \"total_stalk\": 66834089.21102643, \"total_deposited_bdv\": 40811749.87212, \"seeds_per_stalk\": 1.990522825233289, \"stalk_per_bdv\": 1.6376188088098433, \"seeds_per_bdv\": 3.2597176179673424}, {\"timestamp\": \"2022-11-02T00:00:00\", \"variable\": \"total_seeds\", \"value\": 133108382.976994, \"total_seeds\": 133108382.976994, \"total_stalk\": 67116636.79148012, \"total_deposited_bdv\": 40851143.987682, \"seeds_per_stalk\": 1.9832397649861226, \"stalk_per_bdv\": 1.6429561143188072, \"seeds_per_bdv\": 3.2583758980441444}, {\"timestamp\": \"2022-11-02T00:00:00\", \"variable\": \"total_stalk\", \"value\": 67116636.79148012, \"total_seeds\": 133108382.976994, \"total_stalk\": 67116636.79148012, \"total_deposited_bdv\": 40851143.987682, \"seeds_per_stalk\": 1.9832397649861226, \"stalk_per_bdv\": 1.6429561143188072, \"seeds_per_bdv\": 3.2583758980441444}, {\"timestamp\": \"2022-11-02T00:00:00\", \"variable\": \"total_deposited_bdv\", \"value\": 40851143.987682, \"total_seeds\": 133108382.976994, \"total_stalk\": 67116636.79148012, \"total_deposited_bdv\": 40851143.987682, \"seeds_per_stalk\": 1.9832397649861226, \"stalk_per_bdv\": 1.6429561143188072, \"seeds_per_bdv\": 3.2583758980441444}, {\"timestamp\": \"2022-11-02T00:00:00\", \"variable\": \"seeds_per_stalk\", \"value\": 1.9832397649861226, \"total_seeds\": 133108382.976994, \"total_stalk\": 67116636.79148012, \"total_deposited_bdv\": 40851143.987682, \"seeds_per_stalk\": 1.9832397649861226, \"stalk_per_bdv\": 1.6429561143188072, \"seeds_per_bdv\": 3.2583758980441444}, {\"timestamp\": \"2022-11-02T00:00:00\", \"variable\": \"stalk_per_bdv\", \"value\": 1.6429561143188072, \"total_seeds\": 133108382.976994, \"total_stalk\": 67116636.79148012, \"total_deposited_bdv\": 40851143.987682, \"seeds_per_stalk\": 1.9832397649861226, \"stalk_per_bdv\": 1.6429561143188072, \"seeds_per_bdv\": 3.2583758980441444}, {\"timestamp\": \"2022-11-02T00:00:00\", \"variable\": \"seeds_per_bdv\", \"value\": 3.2583758980441444, \"total_seeds\": 133108382.976994, \"total_stalk\": 67116636.79148012, \"total_deposited_bdv\": 40851143.987682, \"seeds_per_stalk\": 1.9832397649861226, \"stalk_per_bdv\": 1.6429561143188072, \"seeds_per_bdv\": 3.2583758980441444}, {\"timestamp\": \"2022-11-03T00:00:00\", \"variable\": \"total_seeds\", \"value\": 133012238.946166, \"total_seeds\": 133012238.946166, \"total_stalk\": 67222654.38163884, \"total_deposited_bdv\": 40860036.107087, \"seeds_per_stalk\": 1.9786817430776267, \"stalk_per_bdv\": 1.6451932202277069, \"seeds_per_bdv\": 3.255313788699653}, {\"timestamp\": \"2022-11-03T00:00:00\", \"variable\": \"total_stalk\", \"value\": 67222654.38163884, \"total_seeds\": 133012238.946166, \"total_stalk\": 67222654.38163884, \"total_deposited_bdv\": 40860036.107087, \"seeds_per_stalk\": 1.9786817430776267, \"stalk_per_bdv\": 1.6451932202277069, \"seeds_per_bdv\": 3.255313788699653}, {\"timestamp\": \"2022-11-03T00:00:00\", \"variable\": \"total_deposited_bdv\", \"value\": 40860036.107087, \"total_seeds\": 133012238.946166, \"total_stalk\": 67222654.38163884, \"total_deposited_bdv\": 40860036.107087, \"seeds_per_stalk\": 1.9786817430776267, \"stalk_per_bdv\": 1.6451932202277069, \"seeds_per_bdv\": 3.255313788699653}, {\"timestamp\": \"2022-11-03T00:00:00\", \"variable\": \"seeds_per_stalk\", \"value\": 1.9786817430776267, \"total_seeds\": 133012238.946166, \"total_stalk\": 67222654.38163884, \"total_deposited_bdv\": 40860036.107087, \"seeds_per_stalk\": 1.9786817430776267, \"stalk_per_bdv\": 1.6451932202277069, \"seeds_per_bdv\": 3.255313788699653}, {\"timestamp\": \"2022-11-03T00:00:00\", \"variable\": \"stalk_per_bdv\", \"value\": 1.6451932202277069, \"total_seeds\": 133012238.946166, \"total_stalk\": 67222654.38163884, \"total_deposited_bdv\": 40860036.107087, \"seeds_per_stalk\": 1.9786817430776267, \"stalk_per_bdv\": 1.6451932202277069, \"seeds_per_bdv\": 3.255313788699653}, {\"timestamp\": \"2022-11-03T00:00:00\", \"variable\": \"seeds_per_bdv\", \"value\": 3.255313788699653, \"total_seeds\": 133012238.946166, \"total_stalk\": 67222654.38163884, \"total_deposited_bdv\": 40860036.107087, \"seeds_per_stalk\": 1.9786817430776267, \"stalk_per_bdv\": 1.6451932202277069, \"seeds_per_bdv\": 3.255313788699653}, {\"timestamp\": \"2022-11-04T00:00:00\", \"variable\": \"total_seeds\", \"value\": 133534999.849344, \"total_seeds\": 133534999.849344, \"total_stalk\": 67665141.3742596, \"total_deposited_bdv\": 40994579.407563, \"seeds_per_stalk\": 1.9734681275659294, \"stalk_per_bdv\": 1.650587525280872, \"seeds_per_bdv\": 3.2573818728997233}, {\"timestamp\": \"2022-11-04T00:00:00\", \"variable\": \"total_stalk\", \"value\": 67665141.3742596, \"total_seeds\": 133534999.849344, \"total_stalk\": 67665141.3742596, \"total_deposited_bdv\": 40994579.407563, \"seeds_per_stalk\": 1.9734681275659294, \"stalk_per_bdv\": 1.650587525280872, \"seeds_per_bdv\": 3.2573818728997233}, {\"timestamp\": \"2022-11-04T00:00:00\", \"variable\": \"total_deposited_bdv\", \"value\": 40994579.407563, \"total_seeds\": 133534999.849344, \"total_stalk\": 67665141.3742596, \"total_deposited_bdv\": 40994579.407563, \"seeds_per_stalk\": 1.9734681275659294, \"stalk_per_bdv\": 1.650587525280872, \"seeds_per_bdv\": 3.2573818728997233}, {\"timestamp\": \"2022-11-04T00:00:00\", \"variable\": \"seeds_per_stalk\", \"value\": 1.9734681275659294, \"total_seeds\": 133534999.849344, \"total_stalk\": 67665141.3742596, \"total_deposited_bdv\": 40994579.407563, \"seeds_per_stalk\": 1.9734681275659294, \"stalk_per_bdv\": 1.650587525280872, \"seeds_per_bdv\": 3.2573818728997233}, {\"timestamp\": \"2022-11-04T00:00:00\", \"variable\": \"stalk_per_bdv\", \"value\": 1.650587525280872, \"total_seeds\": 133534999.849344, \"total_stalk\": 67665141.3742596, \"total_deposited_bdv\": 40994579.407563, \"seeds_per_stalk\": 1.9734681275659294, \"stalk_per_bdv\": 1.650587525280872, \"seeds_per_bdv\": 3.2573818728997233}, {\"timestamp\": \"2022-11-04T00:00:00\", \"variable\": \"seeds_per_bdv\", \"value\": 3.2573818728997233, \"total_seeds\": 133534999.849344, \"total_stalk\": 67665141.3742596, \"total_deposited_bdv\": 40994579.407563, \"seeds_per_stalk\": 1.9734681275659294, \"stalk_per_bdv\": 1.650587525280872, \"seeds_per_bdv\": 3.2573818728997233}, {\"timestamp\": \"2022-11-05T00:00:00\", \"variable\": \"total_seeds\", \"value\": 133440489.232452, \"total_seeds\": 133440489.232452, \"total_stalk\": 67959146.35108383, \"total_deposited_bdv\": 41030435.955276, \"seeds_per_stalk\": 1.9635398088004952, \"stalk_per_bdv\": 1.6563106086701265, \"seeds_per_bdv\": 3.2522318158623715}, {\"timestamp\": \"2022-11-05T00:00:00\", \"variable\": \"total_stalk\", \"value\": 67959146.35108383, \"total_seeds\": 133440489.232452, \"total_stalk\": 67959146.35108383, \"total_deposited_bdv\": 41030435.955276, \"seeds_per_stalk\": 1.9635398088004952, \"stalk_per_bdv\": 1.6563106086701265, \"seeds_per_bdv\": 3.2522318158623715}, {\"timestamp\": \"2022-11-05T00:00:00\", \"variable\": \"total_deposited_bdv\", \"value\": 41030435.955276, \"total_seeds\": 133440489.232452, \"total_stalk\": 67959146.35108383, \"total_deposited_bdv\": 41030435.955276, \"seeds_per_stalk\": 1.9635398088004952, \"stalk_per_bdv\": 1.6563106086701265, \"seeds_per_bdv\": 3.2522318158623715}, {\"timestamp\": \"2022-11-05T00:00:00\", \"variable\": \"seeds_per_stalk\", \"value\": 1.9635398088004952, \"total_seeds\": 133440489.232452, \"total_stalk\": 67959146.35108383, \"total_deposited_bdv\": 41030435.955276, \"seeds_per_stalk\": 1.9635398088004952, \"stalk_per_bdv\": 1.6563106086701265, \"seeds_per_bdv\": 3.2522318158623715}, {\"timestamp\": \"2022-11-05T00:00:00\", \"variable\": \"stalk_per_bdv\", \"value\": 1.6563106086701265, \"total_seeds\": 133440489.232452, \"total_stalk\": 67959146.35108383, \"total_deposited_bdv\": 41030435.955276, \"seeds_per_stalk\": 1.9635398088004952, \"stalk_per_bdv\": 1.6563106086701265, \"seeds_per_bdv\": 3.2522318158623715}, {\"timestamp\": \"2022-11-05T00:00:00\", \"variable\": \"seeds_per_bdv\", \"value\": 3.2522318158623715, \"total_seeds\": 133440489.232452, \"total_stalk\": 67959146.35108383, \"total_deposited_bdv\": 41030435.955276, \"seeds_per_stalk\": 1.9635398088004952, \"stalk_per_bdv\": 1.6563106086701265, \"seeds_per_bdv\": 3.2522318158623715}, {\"timestamp\": \"2022-11-06T00:00:00\", \"variable\": \"total_seeds\", \"value\": 133501036.553274, \"total_seeds\": 133501036.553274, \"total_stalk\": 68344882.74961337, \"total_deposited_bdv\": 41082966.012445, \"seeds_per_stalk\": 1.9533435596394995, \"stalk_per_bdv\": 1.6635819996275365, \"seeds_per_bdv\": 3.2495471849046482}, {\"timestamp\": \"2022-11-06T00:00:00\", \"variable\": \"total_stalk\", \"value\": 68344882.74961337, \"total_seeds\": 133501036.553274, \"total_stalk\": 68344882.74961337, \"total_deposited_bdv\": 41082966.012445, \"seeds_per_stalk\": 1.9533435596394995, \"stalk_per_bdv\": 1.6635819996275365, \"seeds_per_bdv\": 3.2495471849046482}, {\"timestamp\": \"2022-11-06T00:00:00\", \"variable\": \"total_deposited_bdv\", \"value\": 41082966.012445, \"total_seeds\": 133501036.553274, \"total_stalk\": 68344882.74961337, \"total_deposited_bdv\": 41082966.012445, \"seeds_per_stalk\": 1.9533435596394995, \"stalk_per_bdv\": 1.6635819996275365, \"seeds_per_bdv\": 3.2495471849046482}, {\"timestamp\": \"2022-11-06T00:00:00\", \"variable\": \"seeds_per_stalk\", \"value\": 1.9533435596394995, \"total_seeds\": 133501036.553274, \"total_stalk\": 68344882.74961337, \"total_deposited_bdv\": 41082966.012445, \"seeds_per_stalk\": 1.9533435596394995, \"stalk_per_bdv\": 1.6635819996275365, \"seeds_per_bdv\": 3.2495471849046482}, {\"timestamp\": \"2022-11-06T00:00:00\", \"variable\": \"stalk_per_bdv\", \"value\": 1.6635819996275365, \"total_seeds\": 133501036.553274, \"total_stalk\": 68344882.74961337, \"total_deposited_bdv\": 41082966.012445, \"seeds_per_stalk\": 1.9533435596394995, \"stalk_per_bdv\": 1.6635819996275365, \"seeds_per_bdv\": 3.2495471849046482}, {\"timestamp\": \"2022-11-06T00:00:00\", \"variable\": \"seeds_per_bdv\", \"value\": 3.2495471849046482, \"total_seeds\": 133501036.553274, \"total_stalk\": 68344882.74961337, \"total_deposited_bdv\": 41082966.012445, \"seeds_per_stalk\": 1.9533435596394995, \"stalk_per_bdv\": 1.6635819996275365, \"seeds_per_bdv\": 3.2495471849046482}, {\"timestamp\": \"2022-11-07T00:00:00\", \"variable\": \"total_seeds\", \"value\": 133512290.973814, \"total_seeds\": 133512290.973814, \"total_stalk\": 68512548.30061477, \"total_deposited_bdv\": 41089792.670897, \"seeds_per_stalk\": 1.9487275584612282, \"stalk_per_bdv\": 1.6673860792960562, \"seeds_per_bdv\": 3.2492812033188434}, {\"timestamp\": \"2022-11-07T00:00:00\", \"variable\": \"total_stalk\", \"value\": 68512548.30061477, \"total_seeds\": 133512290.973814, \"total_stalk\": 68512548.30061477, \"total_deposited_bdv\": 41089792.670897, \"seeds_per_stalk\": 1.9487275584612282, \"stalk_per_bdv\": 1.6673860792960562, \"seeds_per_bdv\": 3.2492812033188434}, {\"timestamp\": \"2022-11-07T00:00:00\", \"variable\": \"total_deposited_bdv\", \"value\": 41089792.670897, \"total_seeds\": 133512290.973814, \"total_stalk\": 68512548.30061477, \"total_deposited_bdv\": 41089792.670897, \"seeds_per_stalk\": 1.9487275584612282, \"stalk_per_bdv\": 1.6673860792960562, \"seeds_per_bdv\": 3.2492812033188434}, {\"timestamp\": \"2022-11-07T00:00:00\", \"variable\": \"seeds_per_stalk\", \"value\": 1.9487275584612282, \"total_seeds\": 133512290.973814, \"total_stalk\": 68512548.30061477, \"total_deposited_bdv\": 41089792.670897, \"seeds_per_stalk\": 1.9487275584612282, \"stalk_per_bdv\": 1.6673860792960562, \"seeds_per_bdv\": 3.2492812033188434}, {\"timestamp\": \"2022-11-07T00:00:00\", \"variable\": \"stalk_per_bdv\", \"value\": 1.6673860792960562, \"total_seeds\": 133512290.973814, \"total_stalk\": 68512548.30061477, \"total_deposited_bdv\": 41089792.670897, \"seeds_per_stalk\": 1.9487275584612282, \"stalk_per_bdv\": 1.6673860792960562, \"seeds_per_bdv\": 3.2492812033188434}, {\"timestamp\": \"2022-11-07T00:00:00\", \"variable\": \"seeds_per_bdv\", \"value\": 3.2492812033188434, \"total_seeds\": 133512290.973814, \"total_stalk\": 68512548.30061477, \"total_deposited_bdv\": 41089792.670897, \"seeds_per_stalk\": 1.9487275584612282, \"stalk_per_bdv\": 1.6673860792960562, \"seeds_per_bdv\": 3.2492812033188434}]}}, {\"mode\": \"vega-lite\"});\n",
       "</script>"
      ],
      "text/plain": [
       "alt.HConcatChart(...)"
      ]
     },
     "execution_count": 6,
     "metadata": {},
     "output_type": "execute_result"
    }
   ],
   "source": [
    "m1 = ['total_seeds', 'total_stalk', 'total_deposited_bdv']\n",
    "m2 = ['seeds_per_stalk', 'stalk_per_bdv', 'seeds_per_bdv']\n",
    "tooltip_metrics = m1 + m2 \n",
    "data = wide_to_longwide(df, 'timestamp', ['timestamp'], tooltip_metrics)\n",
    "tooltip_formats = {'seeds_per_stalk': '.2f', 'stalk_per_bdv': '.2f', 'seeds_per_bdv': '.2f'}\n",
    "colors = {\n",
    "    m: GreenOrange_6.hex_colors[i] for i, m in enumerate(tooltip_metrics)\n",
    "}\n",
    "\n",
    "chart_seed_stalk, selection_nearest = chart(\n",
    "    data, \n",
    "    'timestamp', \n",
    "    lmetrics=m1,\n",
    "    xaxis_kwargs=dict(labelSeparation=10), \n",
    "    yaxis_left_kwargs=dict(title=None, format=\".2s\"), \n",
    "    tooltip_metrics=tooltip_metrics, \n",
    "    tooltip_formats=tooltip_formats, \n",
    "    return_selection=True, \n",
    "    colors=colors, \n",
    "    width=400\n",
    ")\n",
    "chart_seeds_per_stalk = chart(\n",
    "    data, \n",
    "    'timestamp', \n",
    "    lmetrics=m2, \n",
    "    yaxis_left_kwargs=dict(title=None), \n",
    "    tooltip_metrics=tooltip_metrics, \n",
    "    tooltip_formats=tooltip_formats, \n",
    "    selection_nearest=selection_nearest, \n",
    "    create_selection=False, \n",
    "    colors=colors,\n",
    "    legend_kwargs=dict(title=None, orient=\"top\"), \n",
    "    width=400\n",
    ")\n",
    "c = chart_seed_stalk | chart_seeds_per_stalk\n",
    "\n",
    "css_lines = css_tooltip_timeseries_multi_colored(tooltip_metrics, colors)\n",
    "css = '\\n'.join(css_lines)\n",
    "# apply_css(css)\n",
    "apply_css(\"\")\n",
    "c"
   ]
  },
  {
   "cell_type": "code",
   "execution_count": 5,
   "id": "d6752862",
   "metadata": {},
   "outputs": [
    {
     "data": {
      "application/json": {
       "css": "#vg-tooltip-element tr:nth-child(1) { font-weight: bold }\n#vg-tooltip-element tr:nth-child(1) td:first-child { opacity: 0 }\n\n#vg-tooltip-element tr:nth-child(2) td:first-child { color: #32A251; font-weight: bold; }\n\n#vg-tooltip-element tr:nth-child(3) td:first-child { color: #FF7F0F; font-weight: bold; }\n\n#vg-tooltip-element tr:nth-child(4) td:first-child { color: #3CB7CC; font-weight: bold; }\n\n#vg-tooltip-element tr:nth-child(5) td:first-child { color: #FFD94A; font-weight: bold; }\n\n#vg-tooltip-element tr:nth-child(6) td:first-child { color: #39737C; font-weight: bold; }\n\n#vg-tooltip-element tr:nth-child(7) td:first-child { color: #B85A0D; font-weight: bold; }\n",
       "spec": {
        "$schema": "https://vega.github.io/schema/vega-lite/v4.17.0.json",
        "config": {
         "view": {
          "continuousHeight": 300,
          "continuousWidth": 400
         }
        },
        "data": {
         "name": "data-d4c6e0a3230dcd48dd9e29c22b09da8e"
        },
        "datasets": {
         "data-d4c6e0a3230dcd48dd9e29c22b09da8e": [
          {
           "seeds_per_bdv": 3.6300418013317,
           "seeds_per_stalk": 2.8834923552580927,
           "stalk_per_bdv": 1.2589046038954335,
           "timestamp": "2022-08-04T00:00:00",
           "total_deposited_bdv": 32317887.140979,
           "total_seeds": 117315281.252474,
           "total_stalk": 40685136.90995149,
           "value": 117315281.252474,
           "variable": "total_seeds"
          },
          {
           "seeds_per_bdv": 3.6300418013317,
           "seeds_per_stalk": 2.8834923552580927,
           "stalk_per_bdv": 1.2589046038954335,
           "timestamp": "2022-08-04T00:00:00",
           "total_deposited_bdv": 32317887.140979,
           "total_seeds": 117315281.252474,
           "total_stalk": 40685136.90995149,
           "value": 40685136.90995149,
           "variable": "total_stalk"
          },
          {
           "seeds_per_bdv": 3.6300418013317,
           "seeds_per_stalk": 2.8834923552580927,
           "stalk_per_bdv": 1.2589046038954335,
           "timestamp": "2022-08-04T00:00:00",
           "total_deposited_bdv": 32317887.140979,
           "total_seeds": 117315281.252474,
           "total_stalk": 40685136.90995149,
           "value": 32317887.140979,
           "variable": "total_deposited_bdv"
          },
          {
           "seeds_per_bdv": 3.6300418013317,
           "seeds_per_stalk": 2.8834923552580927,
           "stalk_per_bdv": 1.2589046038954335,
           "timestamp": "2022-08-04T00:00:00",
           "total_deposited_bdv": 32317887.140979,
           "total_seeds": 117315281.252474,
           "total_stalk": 40685136.90995149,
           "value": 2.8834923552580927,
           "variable": "seeds_per_stalk"
          },
          {
           "seeds_per_bdv": 3.6300418013317,
           "seeds_per_stalk": 2.8834923552580927,
           "stalk_per_bdv": 1.2589046038954335,
           "timestamp": "2022-08-04T00:00:00",
           "total_deposited_bdv": 32317887.140979,
           "total_seeds": 117315281.252474,
           "total_stalk": 40685136.90995149,
           "value": 1.2589046038954335,
           "variable": "stalk_per_bdv"
          },
          {
           "seeds_per_bdv": 3.6300418013317,
           "seeds_per_stalk": 2.8834923552580927,
           "stalk_per_bdv": 1.2589046038954335,
           "timestamp": "2022-08-04T00:00:00",
           "total_deposited_bdv": 32317887.140979,
           "total_seeds": 117315281.252474,
           "total_stalk": 40685136.90995149,
           "value": 3.6300418013317,
           "variable": "seeds_per_bdv"
          },
          {
           "seeds_per_bdv": 3.6551542978782017,
           "seeds_per_stalk": 2.9093868658632855,
           "stalk_per_bdv": 1.2563314768363159,
           "timestamp": "2022-08-05T00:00:00",
           "total_deposited_bdv": 32645767.088951,
           "total_seeds": 119325315.88271,
           "total_stalk": 41013904.7793162,
           "value": 119325315.88271,
           "variable": "total_seeds"
          },
          {
           "seeds_per_bdv": 3.6551542978782017,
           "seeds_per_stalk": 2.9093868658632855,
           "stalk_per_bdv": 1.2563314768363159,
           "timestamp": "2022-08-05T00:00:00",
           "total_deposited_bdv": 32645767.088951,
           "total_seeds": 119325315.88271,
           "total_stalk": 41013904.7793162,
           "value": 41013904.7793162,
           "variable": "total_stalk"
          },
          {
           "seeds_per_bdv": 3.6551542978782017,
           "seeds_per_stalk": 2.9093868658632855,
           "stalk_per_bdv": 1.2563314768363159,
           "timestamp": "2022-08-05T00:00:00",
           "total_deposited_bdv": 32645767.088951,
           "total_seeds": 119325315.88271,
           "total_stalk": 41013904.7793162,
           "value": 32645767.088951,
           "variable": "total_deposited_bdv"
          },
          {
           "seeds_per_bdv": 3.6551542978782017,
           "seeds_per_stalk": 2.9093868658632855,
           "stalk_per_bdv": 1.2563314768363159,
           "timestamp": "2022-08-05T00:00:00",
           "total_deposited_bdv": 32645767.088951,
           "total_seeds": 119325315.88271,
           "total_stalk": 41013904.7793162,
           "value": 2.9093868658632855,
           "variable": "seeds_per_stalk"
          },
          {
           "seeds_per_bdv": 3.6551542978782017,
           "seeds_per_stalk": 2.9093868658632855,
           "stalk_per_bdv": 1.2563314768363159,
           "timestamp": "2022-08-05T00:00:00",
           "total_deposited_bdv": 32645767.088951,
           "total_seeds": 119325315.88271,
           "total_stalk": 41013904.7793162,
           "value": 1.2563314768363159,
           "variable": "stalk_per_bdv"
          },
          {
           "seeds_per_bdv": 3.6551542978782017,
           "seeds_per_stalk": 2.9093868658632855,
           "stalk_per_bdv": 1.2563314768363159,
           "timestamp": "2022-08-05T00:00:00",
           "total_deposited_bdv": 32645767.088951,
           "total_seeds": 119325315.88271,
           "total_stalk": 41013904.7793162,
           "value": 3.6551542978782017,
           "variable": "seeds_per_bdv"
          },
          {
           "seeds_per_bdv": 3.660488414596813,
           "seeds_per_stalk": 2.9295441791128245,
           "stalk_per_bdv": 1.2495078383509293,
           "timestamp": "2022-08-06T00:00:00",
           "total_deposited_bdv": 33371039.858399,
           "total_seeds": 122154304.784718,
           "total_stalk": 41697375.87699083,
           "value": 122154304.784718,
           "variable": "total_seeds"
          },
          {
           "seeds_per_bdv": 3.660488414596813,
           "seeds_per_stalk": 2.9295441791128245,
           "stalk_per_bdv": 1.2495078383509293,
           "timestamp": "2022-08-06T00:00:00",
           "total_deposited_bdv": 33371039.858399,
           "total_seeds": 122154304.784718,
           "total_stalk": 41697375.87699083,
           "value": 41697375.87699083,
           "variable": "total_stalk"
          },
          {
           "seeds_per_bdv": 3.660488414596813,
           "seeds_per_stalk": 2.9295441791128245,
           "stalk_per_bdv": 1.2495078383509293,
           "timestamp": "2022-08-06T00:00:00",
           "total_deposited_bdv": 33371039.858399,
           "total_seeds": 122154304.784718,
           "total_stalk": 41697375.87699083,
           "value": 33371039.858399,
           "variable": "total_deposited_bdv"
          },
          {
           "seeds_per_bdv": 3.660488414596813,
           "seeds_per_stalk": 2.9295441791128245,
           "stalk_per_bdv": 1.2495078383509293,
           "timestamp": "2022-08-06T00:00:00",
           "total_deposited_bdv": 33371039.858399,
           "total_seeds": 122154304.784718,
           "total_stalk": 41697375.87699083,
           "value": 2.9295441791128245,
           "variable": "seeds_per_stalk"
          },
          {
           "seeds_per_bdv": 3.660488414596813,
           "seeds_per_stalk": 2.9295441791128245,
           "stalk_per_bdv": 1.2495078383509293,
           "timestamp": "2022-08-06T00:00:00",
           "total_deposited_bdv": 33371039.858399,
           "total_seeds": 122154304.784718,
           "total_stalk": 41697375.87699083,
           "value": 1.2495078383509293,
           "variable": "stalk_per_bdv"
          },
          {
           "seeds_per_bdv": 3.660488414596813,
           "seeds_per_stalk": 2.9295441791128245,
           "stalk_per_bdv": 1.2495078383509293,
           "timestamp": "2022-08-06T00:00:00",
           "total_deposited_bdv": 33371039.858399,
           "total_seeds": 122154304.784718,
           "total_stalk": 41697375.87699083,
           "value": 3.660488414596813,
           "variable": "seeds_per_bdv"
          },
          {
           "seeds_per_bdv": 3.6215880471975495,
           "seeds_per_stalk": 3.051481512706224,
           "stalk_per_bdv": 1.1868294243689266,
           "timestamp": "2022-08-07T00:00:00",
           "total_deposited_bdv": 42131149.240254,
           "total_seeds": 152581666.5032,
           "total_stalk": 50002487.600811996,
           "value": 152581666.5032,
           "variable": "total_seeds"
          },
          {
           "seeds_per_bdv": 3.6215880471975495,
           "seeds_per_stalk": 3.051481512706224,
           "stalk_per_bdv": 1.1868294243689266,
           "timestamp": "2022-08-07T00:00:00",
           "total_deposited_bdv": 42131149.240254,
           "total_seeds": 152581666.5032,
           "total_stalk": 50002487.600811996,
           "value": 50002487.600811996,
           "variable": "total_stalk"
          },
          {
           "seeds_per_bdv": 3.6215880471975495,
           "seeds_per_stalk": 3.051481512706224,
           "stalk_per_bdv": 1.1868294243689266,
           "timestamp": "2022-08-07T00:00:00",
           "total_deposited_bdv": 42131149.240254,
           "total_seeds": 152581666.5032,
           "total_stalk": 50002487.600811996,
           "value": 42131149.240254,
           "variable": "total_deposited_bdv"
          },
          {
           "seeds_per_bdv": 3.6215880471975495,
           "seeds_per_stalk": 3.051481512706224,
           "stalk_per_bdv": 1.1868294243689266,
           "timestamp": "2022-08-07T00:00:00",
           "total_deposited_bdv": 42131149.240254,
           "total_seeds": 152581666.5032,
           "total_stalk": 50002487.600811996,
           "value": 3.051481512706224,
           "variable": "seeds_per_stalk"
          },
          {
           "seeds_per_bdv": 3.6215880471975495,
           "seeds_per_stalk": 3.051481512706224,
           "stalk_per_bdv": 1.1868294243689266,
           "timestamp": "2022-08-07T00:00:00",
           "total_deposited_bdv": 42131149.240254,
           "total_seeds": 152581666.5032,
           "total_stalk": 50002487.600811996,
           "value": 1.1868294243689266,
           "variable": "stalk_per_bdv"
          },
          {
           "seeds_per_bdv": 3.6215880471975495,
           "seeds_per_stalk": 3.051481512706224,
           "stalk_per_bdv": 1.1868294243689266,
           "timestamp": "2022-08-07T00:00:00",
           "total_deposited_bdv": 42131149.240254,
           "total_seeds": 152581666.5032,
           "total_stalk": 50002487.600811996,
           "value": 3.6215880471975495,
           "variable": "seeds_per_bdv"
          },
          {
           "seeds_per_bdv": 3.6135401750622687,
           "seeds_per_stalk": 3.022392742201806,
           "stalk_per_bdv": 1.1955892179749654,
           "timestamp": "2022-08-08T00:00:00",
           "total_deposited_bdv": 43403950.030373,
           "total_seeds": 156841917.191148,
           "total_stalk": 51893294.67383813,
           "value": 156841917.191148,
           "variable": "total_seeds"
          },
          {
           "seeds_per_bdv": 3.6135401750622687,
           "seeds_per_stalk": 3.022392742201806,
           "stalk_per_bdv": 1.1955892179749654,
           "timestamp": "2022-08-08T00:00:00",
           "total_deposited_bdv": 43403950.030373,
           "total_seeds": 156841917.191148,
           "total_stalk": 51893294.67383813,
           "value": 51893294.67383813,
           "variable": "total_stalk"
          },
          {
           "seeds_per_bdv": 3.6135401750622687,
           "seeds_per_stalk": 3.022392742201806,
           "stalk_per_bdv": 1.1955892179749654,
           "timestamp": "2022-08-08T00:00:00",
           "total_deposited_bdv": 43403950.030373,
           "total_seeds": 156841917.191148,
           "total_stalk": 51893294.67383813,
           "value": 43403950.030373,
           "variable": "total_deposited_bdv"
          },
          {
           "seeds_per_bdv": 3.6135401750622687,
           "seeds_per_stalk": 3.022392742201806,
           "stalk_per_bdv": 1.1955892179749654,
           "timestamp": "2022-08-08T00:00:00",
           "total_deposited_bdv": 43403950.030373,
           "total_seeds": 156841917.191148,
           "total_stalk": 51893294.67383813,
           "value": 3.022392742201806,
           "variable": "seeds_per_stalk"
          },
          {
           "seeds_per_bdv": 3.6135401750622687,
           "seeds_per_stalk": 3.022392742201806,
           "stalk_per_bdv": 1.1955892179749654,
           "timestamp": "2022-08-08T00:00:00",
           "total_deposited_bdv": 43403950.030373,
           "total_seeds": 156841917.191148,
           "total_stalk": 51893294.67383813,
           "value": 1.1955892179749654,
           "variable": "stalk_per_bdv"
          },
          {
           "seeds_per_bdv": 3.6135401750622687,
           "seeds_per_stalk": 3.022392742201806,
           "stalk_per_bdv": 1.1955892179749654,
           "timestamp": "2022-08-08T00:00:00",
           "total_deposited_bdv": 43403950.030373,
           "total_seeds": 156841917.191148,
           "total_stalk": 51893294.67383813,
           "value": 3.6135401750622687,
           "variable": "seeds_per_bdv"
          },
          {
           "seeds_per_bdv": 3.5790414621272357,
           "seeds_per_stalk": 2.9595725952549246,
           "stalk_per_bdv": 1.209310245629894,
           "timestamp": "2022-08-09T00:00:00",
           "total_deposited_bdv": 41497757.892978,
           "total_seeds": 148522196.084286,
           "total_stalk": 50183663.7906471,
           "value": 148522196.084286,
           "variable": "total_seeds"
          },
          {
           "seeds_per_bdv": 3.5790414621272357,
           "seeds_per_stalk": 2.9595725952549246,
           "stalk_per_bdv": 1.209310245629894,
           "timestamp": "2022-08-09T00:00:00",
           "total_deposited_bdv": 41497757.892978,
           "total_seeds": 148522196.084286,
           "total_stalk": 50183663.7906471,
           "value": 50183663.7906471,
           "variable": "total_stalk"
          },
          {
           "seeds_per_bdv": 3.5790414621272357,
           "seeds_per_stalk": 2.9595725952549246,
           "stalk_per_bdv": 1.209310245629894,
           "timestamp": "2022-08-09T00:00:00",
           "total_deposited_bdv": 41497757.892978,
           "total_seeds": 148522196.084286,
           "total_stalk": 50183663.7906471,
           "value": 41497757.892978,
           "variable": "total_deposited_bdv"
          },
          {
           "seeds_per_bdv": 3.5790414621272357,
           "seeds_per_stalk": 2.9595725952549246,
           "stalk_per_bdv": 1.209310245629894,
           "timestamp": "2022-08-09T00:00:00",
           "total_deposited_bdv": 41497757.892978,
           "total_seeds": 148522196.084286,
           "total_stalk": 50183663.7906471,
           "value": 2.9595725952549246,
           "variable": "seeds_per_stalk"
          },
          {
           "seeds_per_bdv": 3.5790414621272357,
           "seeds_per_stalk": 2.9595725952549246,
           "stalk_per_bdv": 1.209310245629894,
           "timestamp": "2022-08-09T00:00:00",
           "total_deposited_bdv": 41497757.892978,
           "total_seeds": 148522196.084286,
           "total_stalk": 50183663.7906471,
           "value": 1.209310245629894,
           "variable": "stalk_per_bdv"
          },
          {
           "seeds_per_bdv": 3.5790414621272357,
           "seeds_per_stalk": 2.9595725952549246,
           "stalk_per_bdv": 1.209310245629894,
           "timestamp": "2022-08-09T00:00:00",
           "total_deposited_bdv": 41497757.892978,
           "total_seeds": 148522196.084286,
           "total_stalk": 50183663.7906471,
           "value": 3.5790414621272357,
           "variable": "seeds_per_bdv"
          },
          {
           "seeds_per_bdv": 3.5786736862311708,
           "seeds_per_stalk": 2.951168927960356,
           "stalk_per_bdv": 1.2126292237376266,
           "timestamp": "2022-08-10T00:00:00",
           "total_deposited_bdv": 41601629.764988,
           "total_seeds": 148878657.744294,
           "total_stalk": 50447352.00813754,
           "value": 148878657.744294,
           "variable": "total_seeds"
          },
          {
           "seeds_per_bdv": 3.5786736862311708,
           "seeds_per_stalk": 2.951168927960356,
           "stalk_per_bdv": 1.2126292237376266,
           "timestamp": "2022-08-10T00:00:00",
           "total_deposited_bdv": 41601629.764988,
           "total_seeds": 148878657.744294,
           "total_stalk": 50447352.00813754,
           "value": 50447352.00813754,
           "variable": "total_stalk"
          },
          {
           "seeds_per_bdv": 3.5786736862311708,
           "seeds_per_stalk": 2.951168927960356,
           "stalk_per_bdv": 1.2126292237376266,
           "timestamp": "2022-08-10T00:00:00",
           "total_deposited_bdv": 41601629.764988,
           "total_seeds": 148878657.744294,
           "total_stalk": 50447352.00813754,
           "value": 41601629.764988,
           "variable": "total_deposited_bdv"
          },
          {
           "seeds_per_bdv": 3.5786736862311708,
           "seeds_per_stalk": 2.951168927960356,
           "stalk_per_bdv": 1.2126292237376266,
           "timestamp": "2022-08-10T00:00:00",
           "total_deposited_bdv": 41601629.764988,
           "total_seeds": 148878657.744294,
           "total_stalk": 50447352.00813754,
           "value": 2.951168927960356,
           "variable": "seeds_per_stalk"
          },
          {
           "seeds_per_bdv": 3.5786736862311708,
           "seeds_per_stalk": 2.951168927960356,
           "stalk_per_bdv": 1.2126292237376266,
           "timestamp": "2022-08-10T00:00:00",
           "total_deposited_bdv": 41601629.764988,
           "total_seeds": 148878657.744294,
           "total_stalk": 50447352.00813754,
           "value": 1.2126292237376266,
           "variable": "stalk_per_bdv"
          },
          {
           "seeds_per_bdv": 3.5786736862311708,
           "seeds_per_stalk": 2.951168927960356,
           "stalk_per_bdv": 1.2126292237376266,
           "timestamp": "2022-08-10T00:00:00",
           "total_deposited_bdv": 41601629.764988,
           "total_seeds": 148878657.744294,
           "total_stalk": 50447352.00813754,
           "value": 3.5786736862311708,
           "variable": "seeds_per_bdv"
          },
          {
           "seeds_per_bdv": 3.569943465086808,
           "seeds_per_stalk": 2.9295990431009113,
           "stalk_per_bdv": 1.2185774956111766,
           "timestamp": "2022-08-11T00:00:00",
           "total_deposited_bdv": 41616163.176115,
           "total_seeds": 148567349.772558,
           "total_stalk": 50712519.90009628,
           "value": 148567349.772558,
           "variable": "total_seeds"
          },
          {
           "seeds_per_bdv": 3.569943465086808,
           "seeds_per_stalk": 2.9295990431009113,
           "stalk_per_bdv": 1.2185774956111766,
           "timestamp": "2022-08-11T00:00:00",
           "total_deposited_bdv": 41616163.176115,
           "total_seeds": 148567349.772558,
           "total_stalk": 50712519.90009628,
           "value": 50712519.90009628,
           "variable": "total_stalk"
          },
          {
           "seeds_per_bdv": 3.569943465086808,
           "seeds_per_stalk": 2.9295990431009113,
           "stalk_per_bdv": 1.2185774956111766,
           "timestamp": "2022-08-11T00:00:00",
           "total_deposited_bdv": 41616163.176115,
           "total_seeds": 148567349.772558,
           "total_stalk": 50712519.90009628,
           "value": 41616163.176115,
           "variable": "total_deposited_bdv"
          },
          {
           "seeds_per_bdv": 3.569943465086808,
           "seeds_per_stalk": 2.9295990431009113,
           "stalk_per_bdv": 1.2185774956111766,
           "timestamp": "2022-08-11T00:00:00",
           "total_deposited_bdv": 41616163.176115,
           "total_seeds": 148567349.772558,
           "total_stalk": 50712519.90009628,
           "value": 2.9295990431009113,
           "variable": "seeds_per_stalk"
          },
          {
           "seeds_per_bdv": 3.569943465086808,
           "seeds_per_stalk": 2.9295990431009113,
           "stalk_per_bdv": 1.2185774956111766,
           "timestamp": "2022-08-11T00:00:00",
           "total_deposited_bdv": 41616163.176115,
           "total_seeds": 148567349.772558,
           "total_stalk": 50712519.90009628,
           "value": 1.2185774956111766,
           "variable": "stalk_per_bdv"
          },
          {
           "seeds_per_bdv": 3.569943465086808,
           "seeds_per_stalk": 2.9295990431009113,
           "stalk_per_bdv": 1.2185774956111766,
           "timestamp": "2022-08-11T00:00:00",
           "total_deposited_bdv": 41616163.176115,
           "total_seeds": 148567349.772558,
           "total_stalk": 50712519.90009628,
           "value": 3.569943465086808,
           "variable": "seeds_per_bdv"
          },
          {
           "seeds_per_bdv": 3.5703499195294266,
           "seeds_per_stalk": 2.9241623983571876,
           "stalk_per_bdv": 1.220982090986216,
           "timestamp": "2022-08-12T00:00:00",
           "total_deposited_bdv": 41655989.769856,
           "total_seeds": 148726459.722724,
           "total_stalk": 50861217.4912992,
           "value": 148726459.722724,
           "variable": "total_seeds"
          },
          {
           "seeds_per_bdv": 3.5703499195294266,
           "seeds_per_stalk": 2.9241623983571876,
           "stalk_per_bdv": 1.220982090986216,
           "timestamp": "2022-08-12T00:00:00",
           "total_deposited_bdv": 41655989.769856,
           "total_seeds": 148726459.722724,
           "total_stalk": 50861217.4912992,
           "value": 50861217.4912992,
           "variable": "total_stalk"
          },
          {
           "seeds_per_bdv": 3.5703499195294266,
           "seeds_per_stalk": 2.9241623983571876,
           "stalk_per_bdv": 1.220982090986216,
           "timestamp": "2022-08-12T00:00:00",
           "total_deposited_bdv": 41655989.769856,
           "total_seeds": 148726459.722724,
           "total_stalk": 50861217.4912992,
           "value": 41655989.769856,
           "variable": "total_deposited_bdv"
          },
          {
           "seeds_per_bdv": 3.5703499195294266,
           "seeds_per_stalk": 2.9241623983571876,
           "stalk_per_bdv": 1.220982090986216,
           "timestamp": "2022-08-12T00:00:00",
           "total_deposited_bdv": 41655989.769856,
           "total_seeds": 148726459.722724,
           "total_stalk": 50861217.4912992,
           "value": 2.9241623983571876,
           "variable": "seeds_per_stalk"
          },
          {
           "seeds_per_bdv": 3.5703499195294266,
           "seeds_per_stalk": 2.9241623983571876,
           "stalk_per_bdv": 1.220982090986216,
           "timestamp": "2022-08-12T00:00:00",
           "total_deposited_bdv": 41655989.769856,
           "total_seeds": 148726459.722724,
           "total_stalk": 50861217.4912992,
           "value": 1.220982090986216,
           "variable": "stalk_per_bdv"
          },
          {
           "seeds_per_bdv": 3.5703499195294266,
           "seeds_per_stalk": 2.9241623983571876,
           "stalk_per_bdv": 1.220982090986216,
           "timestamp": "2022-08-12T00:00:00",
           "total_deposited_bdv": 41655989.769856,
           "total_seeds": 148726459.722724,
           "total_stalk": 50861217.4912992,
           "value": 3.5703499195294266,
           "variable": "seeds_per_bdv"
          },
          {
           "seeds_per_bdv": 3.568517540200735,
           "seeds_per_stalk": 2.9136534863547086,
           "stalk_per_bdv": 1.2247570127720753,
           "timestamp": "2022-08-13T00:00:00",
           "total_deposited_bdv": 41819484.501842,
           "total_seeds": 149233563.966976,
           "total_stalk": 51218706.914144106,
           "value": 149233563.966976,
           "variable": "total_seeds"
          },
          {
           "seeds_per_bdv": 3.568517540200735,
           "seeds_per_stalk": 2.9136534863547086,
           "stalk_per_bdv": 1.2247570127720753,
           "timestamp": "2022-08-13T00:00:00",
           "total_deposited_bdv": 41819484.501842,
           "total_seeds": 149233563.966976,
           "total_stalk": 51218706.914144106,
           "value": 51218706.914144106,
           "variable": "total_stalk"
          },
          {
           "seeds_per_bdv": 3.568517540200735,
           "seeds_per_stalk": 2.9136534863547086,
           "stalk_per_bdv": 1.2247570127720753,
           "timestamp": "2022-08-13T00:00:00",
           "total_deposited_bdv": 41819484.501842,
           "total_seeds": 149233563.966976,
           "total_stalk": 51218706.914144106,
           "value": 41819484.501842,
           "variable": "total_deposited_bdv"
          },
          {
           "seeds_per_bdv": 3.568517540200735,
           "seeds_per_stalk": 2.9136534863547086,
           "stalk_per_bdv": 1.2247570127720753,
           "timestamp": "2022-08-13T00:00:00",
           "total_deposited_bdv": 41819484.501842,
           "total_seeds": 149233563.966976,
           "total_stalk": 51218706.914144106,
           "value": 2.9136534863547086,
           "variable": "seeds_per_stalk"
          },
          {
           "seeds_per_bdv": 3.568517540200735,
           "seeds_per_stalk": 2.9136534863547086,
           "stalk_per_bdv": 1.2247570127720753,
           "timestamp": "2022-08-13T00:00:00",
           "total_deposited_bdv": 41819484.501842,
           "total_seeds": 149233563.966976,
           "total_stalk": 51218706.914144106,
           "value": 1.2247570127720753,
           "variable": "stalk_per_bdv"
          },
          {
           "seeds_per_bdv": 3.568517540200735,
           "seeds_per_stalk": 2.9136534863547086,
           "stalk_per_bdv": 1.2247570127720753,
           "timestamp": "2022-08-13T00:00:00",
           "total_deposited_bdv": 41819484.501842,
           "total_seeds": 149233563.966976,
           "total_stalk": 51218706.914144106,
           "value": 3.568517540200735,
           "variable": "seeds_per_bdv"
          },
          {
           "seeds_per_bdv": 3.4375640379946963,
           "seeds_per_stalk": 2.743900829337436,
           "stalk_per_bdv": 1.252801851014695,
           "timestamp": "2022-08-14T00:00:00",
           "total_deposited_bdv": 39354436.47285,
           "total_seeds": 135283395.554616,
           "total_stalk": 49303310.858826704,
           "value": 135283395.554616,
           "variable": "total_seeds"
          },
          {
           "seeds_per_bdv": 3.4375640379946963,
           "seeds_per_stalk": 2.743900829337436,
           "stalk_per_bdv": 1.252801851014695,
           "timestamp": "2022-08-14T00:00:00",
           "total_deposited_bdv": 39354436.47285,
           "total_seeds": 135283395.554616,
           "total_stalk": 49303310.858826704,
           "value": 49303310.858826704,
           "variable": "total_stalk"
          },
          {
           "seeds_per_bdv": 3.4375640379946963,
           "seeds_per_stalk": 2.743900829337436,
           "stalk_per_bdv": 1.252801851014695,
           "timestamp": "2022-08-14T00:00:00",
           "total_deposited_bdv": 39354436.47285,
           "total_seeds": 135283395.554616,
           "total_stalk": 49303310.858826704,
           "value": 39354436.47285,
           "variable": "total_deposited_bdv"
          },
          {
           "seeds_per_bdv": 3.4375640379946963,
           "seeds_per_stalk": 2.743900829337436,
           "stalk_per_bdv": 1.252801851014695,
           "timestamp": "2022-08-14T00:00:00",
           "total_deposited_bdv": 39354436.47285,
           "total_seeds": 135283395.554616,
           "total_stalk": 49303310.858826704,
           "value": 2.743900829337436,
           "variable": "seeds_per_stalk"
          },
          {
           "seeds_per_bdv": 3.4375640379946963,
           "seeds_per_stalk": 2.743900829337436,
           "stalk_per_bdv": 1.252801851014695,
           "timestamp": "2022-08-14T00:00:00",
           "total_deposited_bdv": 39354436.47285,
           "total_seeds": 135283395.554616,
           "total_stalk": 49303310.858826704,
           "value": 1.252801851014695,
           "variable": "stalk_per_bdv"
          },
          {
           "seeds_per_bdv": 3.4375640379946963,
           "seeds_per_stalk": 2.743900829337436,
           "stalk_per_bdv": 1.252801851014695,
           "timestamp": "2022-08-14T00:00:00",
           "total_deposited_bdv": 39354436.47285,
           "total_seeds": 135283395.554616,
           "total_stalk": 49303310.858826704,
           "value": 3.4375640379946963,
           "variable": "seeds_per_bdv"
          },
          {
           "seeds_per_bdv": 3.436791710235952,
           "seeds_per_stalk": 2.740297888635882,
           "stalk_per_bdv": 1.2541671927305627,
           "timestamp": "2022-08-15T00:00:00",
           "total_deposited_bdv": 39370892.757622,
           "total_seeds": 135309557.853984,
           "total_stalk": 49377682.04512283,
           "value": 135309557.853984,
           "variable": "total_seeds"
          },
          {
           "seeds_per_bdv": 3.436791710235952,
           "seeds_per_stalk": 2.740297888635882,
           "stalk_per_bdv": 1.2541671927305627,
           "timestamp": "2022-08-15T00:00:00",
           "total_deposited_bdv": 39370892.757622,
           "total_seeds": 135309557.853984,
           "total_stalk": 49377682.04512283,
           "value": 49377682.04512283,
           "variable": "total_stalk"
          },
          {
           "seeds_per_bdv": 3.436791710235952,
           "seeds_per_stalk": 2.740297888635882,
           "stalk_per_bdv": 1.2541671927305627,
           "timestamp": "2022-08-15T00:00:00",
           "total_deposited_bdv": 39370892.757622,
           "total_seeds": 135309557.853984,
           "total_stalk": 49377682.04512283,
           "value": 39370892.757622,
           "variable": "total_deposited_bdv"
          },
          {
           "seeds_per_bdv": 3.436791710235952,
           "seeds_per_stalk": 2.740297888635882,
           "stalk_per_bdv": 1.2541671927305627,
           "timestamp": "2022-08-15T00:00:00",
           "total_deposited_bdv": 39370892.757622,
           "total_seeds": 135309557.853984,
           "total_stalk": 49377682.04512283,
           "value": 2.740297888635882,
           "variable": "seeds_per_stalk"
          },
          {
           "seeds_per_bdv": 3.436791710235952,
           "seeds_per_stalk": 2.740297888635882,
           "stalk_per_bdv": 1.2541671927305627,
           "timestamp": "2022-08-15T00:00:00",
           "total_deposited_bdv": 39370892.757622,
           "total_seeds": 135309557.853984,
           "total_stalk": 49377682.04512283,
           "value": 1.2541671927305627,
           "variable": "stalk_per_bdv"
          },
          {
           "seeds_per_bdv": 3.436791710235952,
           "seeds_per_stalk": 2.740297888635882,
           "stalk_per_bdv": 1.2541671927305627,
           "timestamp": "2022-08-15T00:00:00",
           "total_deposited_bdv": 39370892.757622,
           "total_seeds": 135309557.853984,
           "total_stalk": 49377682.04512283,
           "value": 3.436791710235952,
           "variable": "seeds_per_bdv"
          },
          {
           "seeds_per_bdv": 3.436262258132994,
           "seeds_per_stalk": 2.7225891262933084,
           "stalk_per_bdv": 1.2621303100594254,
           "timestamp": "2022-08-16T00:00:00",
           "total_deposited_bdv": 39528847.946184,
           "total_seeds": 135831488.30495,
           "total_stalk": 49890557.1146091,
           "value": 135831488.30495,
           "variable": "total_seeds"
          },
          {
           "seeds_per_bdv": 3.436262258132994,
           "seeds_per_stalk": 2.7225891262933084,
           "stalk_per_bdv": 1.2621303100594254,
           "timestamp": "2022-08-16T00:00:00",
           "total_deposited_bdv": 39528847.946184,
           "total_seeds": 135831488.30495,
           "total_stalk": 49890557.1146091,
           "value": 49890557.1146091,
           "variable": "total_stalk"
          },
          {
           "seeds_per_bdv": 3.436262258132994,
           "seeds_per_stalk": 2.7225891262933084,
           "stalk_per_bdv": 1.2621303100594254,
           "timestamp": "2022-08-16T00:00:00",
           "total_deposited_bdv": 39528847.946184,
           "total_seeds": 135831488.30495,
           "total_stalk": 49890557.1146091,
           "value": 39528847.946184,
           "variable": "total_deposited_bdv"
          },
          {
           "seeds_per_bdv": 3.436262258132994,
           "seeds_per_stalk": 2.7225891262933084,
           "stalk_per_bdv": 1.2621303100594254,
           "timestamp": "2022-08-16T00:00:00",
           "total_deposited_bdv": 39528847.946184,
           "total_seeds": 135831488.30495,
           "total_stalk": 49890557.1146091,
           "value": 2.7225891262933084,
           "variable": "seeds_per_stalk"
          },
          {
           "seeds_per_bdv": 3.436262258132994,
           "seeds_per_stalk": 2.7225891262933084,
           "stalk_per_bdv": 1.2621303100594254,
           "timestamp": "2022-08-16T00:00:00",
           "total_deposited_bdv": 39528847.946184,
           "total_seeds": 135831488.30495,
           "total_stalk": 49890557.1146091,
           "value": 1.2621303100594254,
           "variable": "stalk_per_bdv"
          },
          {
           "seeds_per_bdv": 3.436262258132994,
           "seeds_per_stalk": 2.7225891262933084,
           "stalk_per_bdv": 1.2621303100594254,
           "timestamp": "2022-08-16T00:00:00",
           "total_deposited_bdv": 39528847.946184,
           "total_seeds": 135831488.30495,
           "total_stalk": 49890557.1146091,
           "value": 3.436262258132994,
           "variable": "seeds_per_bdv"
          },
          {
           "seeds_per_bdv": 3.4363044445560935,
           "seeds_per_stalk": 2.716815205257988,
           "stalk_per_bdv": 1.2648281848193583,
           "timestamp": "2022-08-17T00:00:00",
           "total_deposited_bdv": 39559616.44853,
           "total_seeds": 135938885.827018,
           "total_stalk": 50036117.86474424,
           "value": 135938885.827018,
           "variable": "total_seeds"
          },
          {
           "seeds_per_bdv": 3.4363044445560935,
           "seeds_per_stalk": 2.716815205257988,
           "stalk_per_bdv": 1.2648281848193583,
           "timestamp": "2022-08-17T00:00:00",
           "total_deposited_bdv": 39559616.44853,
           "total_seeds": 135938885.827018,
           "total_stalk": 50036117.86474424,
           "value": 50036117.86474424,
           "variable": "total_stalk"
          },
          {
           "seeds_per_bdv": 3.4363044445560935,
           "seeds_per_stalk": 2.716815205257988,
           "stalk_per_bdv": 1.2648281848193583,
           "timestamp": "2022-08-17T00:00:00",
           "total_deposited_bdv": 39559616.44853,
           "total_seeds": 135938885.827018,
           "total_stalk": 50036117.86474424,
           "value": 39559616.44853,
           "variable": "total_deposited_bdv"
          },
          {
           "seeds_per_bdv": 3.4363044445560935,
           "seeds_per_stalk": 2.716815205257988,
           "stalk_per_bdv": 1.2648281848193583,
           "timestamp": "2022-08-17T00:00:00",
           "total_deposited_bdv": 39559616.44853,
           "total_seeds": 135938885.827018,
           "total_stalk": 50036117.86474424,
           "value": 2.716815205257988,
           "variable": "seeds_per_stalk"
          },
          {
           "seeds_per_bdv": 3.4363044445560935,
           "seeds_per_stalk": 2.716815205257988,
           "stalk_per_bdv": 1.2648281848193583,
           "timestamp": "2022-08-17T00:00:00",
           "total_deposited_bdv": 39559616.44853,
           "total_seeds": 135938885.827018,
           "total_stalk": 50036117.86474424,
           "value": 1.2648281848193583,
           "variable": "stalk_per_bdv"
          },
          {
           "seeds_per_bdv": 3.4363044445560935,
           "seeds_per_stalk": 2.716815205257988,
           "stalk_per_bdv": 1.2648281848193583,
           "timestamp": "2022-08-17T00:00:00",
           "total_deposited_bdv": 39559616.44853,
           "total_seeds": 135938885.827018,
           "total_stalk": 50036117.86474424,
           "value": 3.4363044445560935,
           "variable": "seeds_per_bdv"
          },
          {
           "seeds_per_bdv": 3.4359291798379124,
           "seeds_per_stalk": 2.7081466072564346,
           "stalk_per_bdv": 1.268738247268961,
           "timestamp": "2022-08-18T00:00:00",
           "total_deposited_bdv": 39566941.796253,
           "total_seeds": 135949209.874694,
           "total_stalk": 50200092.384371035,
           "value": 135949209.874694,
           "variable": "total_seeds"
          },
          {
           "seeds_per_bdv": 3.4359291798379124,
           "seeds_per_stalk": 2.7081466072564346,
           "stalk_per_bdv": 1.268738247268961,
           "timestamp": "2022-08-18T00:00:00",
           "total_deposited_bdv": 39566941.796253,
           "total_seeds": 135949209.874694,
           "total_stalk": 50200092.384371035,
           "value": 50200092.384371035,
           "variable": "total_stalk"
          },
          {
           "seeds_per_bdv": 3.4359291798379124,
           "seeds_per_stalk": 2.7081466072564346,
           "stalk_per_bdv": 1.268738247268961,
           "timestamp": "2022-08-18T00:00:00",
           "total_deposited_bdv": 39566941.796253,
           "total_seeds": 135949209.874694,
           "total_stalk": 50200092.384371035,
           "value": 39566941.796253,
           "variable": "total_deposited_bdv"
          },
          {
           "seeds_per_bdv": 3.4359291798379124,
           "seeds_per_stalk": 2.7081466072564346,
           "stalk_per_bdv": 1.268738247268961,
           "timestamp": "2022-08-18T00:00:00",
           "total_deposited_bdv": 39566941.796253,
           "total_seeds": 135949209.874694,
           "total_stalk": 50200092.384371035,
           "value": 2.7081466072564346,
           "variable": "seeds_per_stalk"
          },
          {
           "seeds_per_bdv": 3.4359291798379124,
           "seeds_per_stalk": 2.7081466072564346,
           "stalk_per_bdv": 1.268738247268961,
           "timestamp": "2022-08-18T00:00:00",
           "total_deposited_bdv": 39566941.796253,
           "total_seeds": 135949209.874694,
           "total_stalk": 50200092.384371035,
           "value": 1.268738247268961,
           "variable": "stalk_per_bdv"
          },
          {
           "seeds_per_bdv": 3.4359291798379124,
           "seeds_per_stalk": 2.7081466072564346,
           "stalk_per_bdv": 1.268738247268961,
           "timestamp": "2022-08-18T00:00:00",
           "total_deposited_bdv": 39566941.796253,
           "total_seeds": 135949209.874694,
           "total_stalk": 50200092.384371035,
           "value": 3.4359291798379124,
           "variable": "seeds_per_bdv"
          },
          {
           "seeds_per_bdv": 3.4375657488024456,
           "seeds_per_stalk": 2.689929143273413,
           "stalk_per_bdv": 1.277939144753539,
           "timestamp": "2022-08-19T00:00:00",
           "total_deposited_bdv": 39799775.533911,
           "total_seeds": 136814345.185398,
           "total_stalk": 50861691.10718905,
           "value": 136814345.185398,
           "variable": "total_seeds"
          },
          {
           "seeds_per_bdv": 3.4375657488024456,
           "seeds_per_stalk": 2.689929143273413,
           "stalk_per_bdv": 1.277939144753539,
           "timestamp": "2022-08-19T00:00:00",
           "total_deposited_bdv": 39799775.533911,
           "total_seeds": 136814345.185398,
           "total_stalk": 50861691.10718905,
           "value": 50861691.10718905,
           "variable": "total_stalk"
          },
          {
           "seeds_per_bdv": 3.4375657488024456,
           "seeds_per_stalk": 2.689929143273413,
           "stalk_per_bdv": 1.277939144753539,
           "timestamp": "2022-08-19T00:00:00",
           "total_deposited_bdv": 39799775.533911,
           "total_seeds": 136814345.185398,
           "total_stalk": 50861691.10718905,
           "value": 39799775.533911,
           "variable": "total_deposited_bdv"
          },
          {
           "seeds_per_bdv": 3.4375657488024456,
           "seeds_per_stalk": 2.689929143273413,
           "stalk_per_bdv": 1.277939144753539,
           "timestamp": "2022-08-19T00:00:00",
           "total_deposited_bdv": 39799775.533911,
           "total_seeds": 136814345.185398,
           "total_stalk": 50861691.10718905,
           "value": 2.689929143273413,
           "variable": "seeds_per_stalk"
          },
          {
           "seeds_per_bdv": 3.4375657488024456,
           "seeds_per_stalk": 2.689929143273413,
           "stalk_per_bdv": 1.277939144753539,
           "timestamp": "2022-08-19T00:00:00",
           "total_deposited_bdv": 39799775.533911,
           "total_seeds": 136814345.185398,
           "total_stalk": 50861691.10718905,
           "value": 1.277939144753539,
           "variable": "stalk_per_bdv"
          },
          {
           "seeds_per_bdv": 3.4375657488024456,
           "seeds_per_stalk": 2.689929143273413,
           "stalk_per_bdv": 1.277939144753539,
           "timestamp": "2022-08-19T00:00:00",
           "total_deposited_bdv": 39799775.533911,
           "total_seeds": 136814345.185398,
           "total_stalk": 50861691.10718905,
           "value": 3.4375657488024456,
           "variable": "seeds_per_bdv"
          },
          {
           "seeds_per_bdv": 3.435407461510335,
           "seeds_per_stalk": 2.679848375080185,
           "stalk_per_bdv": 1.2819409834735678,
           "timestamp": "2022-08-20T00:00:00",
           "total_deposited_bdv": 39812280.18079,
           "total_seeds": 136771404.392826,
           "total_stalk": 51036993.609287165,
           "value": 136771404.392826,
           "variable": "total_seeds"
          },
          {
           "seeds_per_bdv": 3.435407461510335,
           "seeds_per_stalk": 2.679848375080185,
           "stalk_per_bdv": 1.2819409834735678,
           "timestamp": "2022-08-20T00:00:00",
           "total_deposited_bdv": 39812280.18079,
           "total_seeds": 136771404.392826,
           "total_stalk": 51036993.609287165,
           "value": 51036993.609287165,
           "variable": "total_stalk"
          },
          {
           "seeds_per_bdv": 3.435407461510335,
           "seeds_per_stalk": 2.679848375080185,
           "stalk_per_bdv": 1.2819409834735678,
           "timestamp": "2022-08-20T00:00:00",
           "total_deposited_bdv": 39812280.18079,
           "total_seeds": 136771404.392826,
           "total_stalk": 51036993.609287165,
           "value": 39812280.18079,
           "variable": "total_deposited_bdv"
          },
          {
           "seeds_per_bdv": 3.435407461510335,
           "seeds_per_stalk": 2.679848375080185,
           "stalk_per_bdv": 1.2819409834735678,
           "timestamp": "2022-08-20T00:00:00",
           "total_deposited_bdv": 39812280.18079,
           "total_seeds": 136771404.392826,
           "total_stalk": 51036993.609287165,
           "value": 2.679848375080185,
           "variable": "seeds_per_stalk"
          },
          {
           "seeds_per_bdv": 3.435407461510335,
           "seeds_per_stalk": 2.679848375080185,
           "stalk_per_bdv": 1.2819409834735678,
           "timestamp": "2022-08-20T00:00:00",
           "total_deposited_bdv": 39812280.18079,
           "total_seeds": 136771404.392826,
           "total_stalk": 51036993.609287165,
           "value": 1.2819409834735678,
           "variable": "stalk_per_bdv"
          },
          {
           "seeds_per_bdv": 3.435407461510335,
           "seeds_per_stalk": 2.679848375080185,
           "stalk_per_bdv": 1.2819409834735678,
           "timestamp": "2022-08-20T00:00:00",
           "total_deposited_bdv": 39812280.18079,
           "total_seeds": 136771404.392826,
           "total_stalk": 51036993.609287165,
           "value": 3.435407461510335,
           "variable": "seeds_per_bdv"
          },
          {
           "seeds_per_bdv": 3.435786200870198,
           "seeds_per_stalk": 2.6661821160986947,
           "stalk_per_bdv": 1.288653982083426,
           "timestamp": "2022-08-21T00:00:00",
           "total_deposited_bdv": 39855892.850034,
           "total_seeds": 136936326.677508,
           "total_stalk": 51360455.030686654,
           "value": 136936326.677508,
           "variable": "total_seeds"
          },
          {
           "seeds_per_bdv": 3.435786200870198,
           "seeds_per_stalk": 2.6661821160986947,
           "stalk_per_bdv": 1.288653982083426,
           "timestamp": "2022-08-21T00:00:00",
           "total_deposited_bdv": 39855892.850034,
           "total_seeds": 136936326.677508,
           "total_stalk": 51360455.030686654,
           "value": 51360455.030686654,
           "variable": "total_stalk"
          },
          {
           "seeds_per_bdv": 3.435786200870198,
           "seeds_per_stalk": 2.6661821160986947,
           "stalk_per_bdv": 1.288653982083426,
           "timestamp": "2022-08-21T00:00:00",
           "total_deposited_bdv": 39855892.850034,
           "total_seeds": 136936326.677508,
           "total_stalk": 51360455.030686654,
           "value": 39855892.850034,
           "variable": "total_deposited_bdv"
          },
          {
           "seeds_per_bdv": 3.435786200870198,
           "seeds_per_stalk": 2.6661821160986947,
           "stalk_per_bdv": 1.288653982083426,
           "timestamp": "2022-08-21T00:00:00",
           "total_deposited_bdv": 39855892.850034,
           "total_seeds": 136936326.677508,
           "total_stalk": 51360455.030686654,
           "value": 2.6661821160986947,
           "variable": "seeds_per_stalk"
          },
          {
           "seeds_per_bdv": 3.435786200870198,
           "seeds_per_stalk": 2.6661821160986947,
           "stalk_per_bdv": 1.288653982083426,
           "timestamp": "2022-08-21T00:00:00",
           "total_deposited_bdv": 39855892.850034,
           "total_seeds": 136936326.677508,
           "total_stalk": 51360455.030686654,
           "value": 1.288653982083426,
           "variable": "stalk_per_bdv"
          },
          {
           "seeds_per_bdv": 3.435786200870198,
           "seeds_per_stalk": 2.6661821160986947,
           "stalk_per_bdv": 1.288653982083426,
           "timestamp": "2022-08-21T00:00:00",
           "total_deposited_bdv": 39855892.850034,
           "total_seeds": 136936326.677508,
           "total_stalk": 51360455.030686654,
           "value": 3.435786200870198,
           "variable": "seeds_per_bdv"
          },
          {
           "seeds_per_bdv": 3.4364237089007075,
           "seeds_per_stalk": 2.6603153187166306,
           "stalk_per_bdv": 1.2917354889188402,
           "timestamp": "2022-08-22T00:00:00",
           "total_deposited_bdv": 39878487.793065,
           "total_seeds": 137039380.927196,
           "total_stalk": 51512457.926718816,
           "value": 137039380.927196,
           "variable": "total_seeds"
          },
          {
           "seeds_per_bdv": 3.4364237089007075,
           "seeds_per_stalk": 2.6603153187166306,
           "stalk_per_bdv": 1.2917354889188402,
           "timestamp": "2022-08-22T00:00:00",
           "total_deposited_bdv": 39878487.793065,
           "total_seeds": 137039380.927196,
           "total_stalk": 51512457.926718816,
           "value": 51512457.926718816,
           "variable": "total_stalk"
          },
          {
           "seeds_per_bdv": 3.4364237089007075,
           "seeds_per_stalk": 2.6603153187166306,
           "stalk_per_bdv": 1.2917354889188402,
           "timestamp": "2022-08-22T00:00:00",
           "total_deposited_bdv": 39878487.793065,
           "total_seeds": 137039380.927196,
           "total_stalk": 51512457.926718816,
           "value": 39878487.793065,
           "variable": "total_deposited_bdv"
          },
          {
           "seeds_per_bdv": 3.4364237089007075,
           "seeds_per_stalk": 2.6603153187166306,
           "stalk_per_bdv": 1.2917354889188402,
           "timestamp": "2022-08-22T00:00:00",
           "total_deposited_bdv": 39878487.793065,
           "total_seeds": 137039380.927196,
           "total_stalk": 51512457.926718816,
           "value": 2.6603153187166306,
           "variable": "seeds_per_stalk"
          },
          {
           "seeds_per_bdv": 3.4364237089007075,
           "seeds_per_stalk": 2.6603153187166306,
           "stalk_per_bdv": 1.2917354889188402,
           "timestamp": "2022-08-22T00:00:00",
           "total_deposited_bdv": 39878487.793065,
           "total_seeds": 137039380.927196,
           "total_stalk": 51512457.926718816,
           "value": 1.2917354889188402,
           "variable": "stalk_per_bdv"
          },
          {
           "seeds_per_bdv": 3.4364237089007075,
           "seeds_per_stalk": 2.6603153187166306,
           "stalk_per_bdv": 1.2917354889188402,
           "timestamp": "2022-08-22T00:00:00",
           "total_deposited_bdv": 39878487.793065,
           "total_seeds": 137039380.927196,
           "total_stalk": 51512457.926718816,
           "value": 3.4364237089007075,
           "variable": "seeds_per_bdv"
          },
          {
           "seeds_per_bdv": 3.436322067214763,
           "seeds_per_stalk": 2.6486240747657326,
           "stalk_per_bdv": 1.2973989400586043,
           "timestamp": "2022-08-23T00:00:00",
           "total_deposited_bdv": 39841389.579848,
           "total_seeds": 136907846.201732,
           "total_stalk": 51690176.61135672,
           "value": 136907846.201732,
           "variable": "total_seeds"
          },
          {
           "seeds_per_bdv": 3.436322067214763,
           "seeds_per_stalk": 2.6486240747657326,
           "stalk_per_bdv": 1.2973989400586043,
           "timestamp": "2022-08-23T00:00:00",
           "total_deposited_bdv": 39841389.579848,
           "total_seeds": 136907846.201732,
           "total_stalk": 51690176.61135672,
           "value": 51690176.61135672,
           "variable": "total_stalk"
          },
          {
           "seeds_per_bdv": 3.436322067214763,
           "seeds_per_stalk": 2.6486240747657326,
           "stalk_per_bdv": 1.2973989400586043,
           "timestamp": "2022-08-23T00:00:00",
           "total_deposited_bdv": 39841389.579848,
           "total_seeds": 136907846.201732,
           "total_stalk": 51690176.61135672,
           "value": 39841389.579848,
           "variable": "total_deposited_bdv"
          },
          {
           "seeds_per_bdv": 3.436322067214763,
           "seeds_per_stalk": 2.6486240747657326,
           "stalk_per_bdv": 1.2973989400586043,
           "timestamp": "2022-08-23T00:00:00",
           "total_deposited_bdv": 39841389.579848,
           "total_seeds": 136907846.201732,
           "total_stalk": 51690176.61135672,
           "value": 2.6486240747657326,
           "variable": "seeds_per_stalk"
          },
          {
           "seeds_per_bdv": 3.436322067214763,
           "seeds_per_stalk": 2.6486240747657326,
           "stalk_per_bdv": 1.2973989400586043,
           "timestamp": "2022-08-23T00:00:00",
           "total_deposited_bdv": 39841389.579848,
           "total_seeds": 136907846.201732,
           "total_stalk": 51690176.61135672,
           "value": 1.2973989400586043,
           "variable": "stalk_per_bdv"
          },
          {
           "seeds_per_bdv": 3.436322067214763,
           "seeds_per_stalk": 2.6486240747657326,
           "stalk_per_bdv": 1.2973989400586043,
           "timestamp": "2022-08-23T00:00:00",
           "total_deposited_bdv": 39841389.579848,
           "total_seeds": 136907846.201732,
           "total_stalk": 51690176.61135672,
           "value": 3.436322067214763,
           "variable": "seeds_per_bdv"
          },
          {
           "seeds_per_bdv": 3.4345688380602466,
           "seeds_per_stalk": 2.64446196545124,
           "stalk_per_bdv": 1.2987779302298212,
           "timestamp": "2022-08-24T00:00:00",
           "total_deposited_bdv": 39894820.508675,
           "total_seeds": 137021507.319102,
           "total_stalk": 51814512.40714714,
           "value": 137021507.319102,
           "variable": "total_seeds"
          },
          {
           "seeds_per_bdv": 3.4345688380602466,
           "seeds_per_stalk": 2.64446196545124,
           "stalk_per_bdv": 1.2987779302298212,
           "timestamp": "2022-08-24T00:00:00",
           "total_deposited_bdv": 39894820.508675,
           "total_seeds": 137021507.319102,
           "total_stalk": 51814512.40714714,
           "value": 51814512.40714714,
           "variable": "total_stalk"
          },
          {
           "seeds_per_bdv": 3.4345688380602466,
           "seeds_per_stalk": 2.64446196545124,
           "stalk_per_bdv": 1.2987779302298212,
           "timestamp": "2022-08-24T00:00:00",
           "total_deposited_bdv": 39894820.508675,
           "total_seeds": 137021507.319102,
           "total_stalk": 51814512.40714714,
           "value": 39894820.508675,
           "variable": "total_deposited_bdv"
          },
          {
           "seeds_per_bdv": 3.4345688380602466,
           "seeds_per_stalk": 2.64446196545124,
           "stalk_per_bdv": 1.2987779302298212,
           "timestamp": "2022-08-24T00:00:00",
           "total_deposited_bdv": 39894820.508675,
           "total_seeds": 137021507.319102,
           "total_stalk": 51814512.40714714,
           "value": 2.64446196545124,
           "variable": "seeds_per_stalk"
          },
          {
           "seeds_per_bdv": 3.4345688380602466,
           "seeds_per_stalk": 2.64446196545124,
           "stalk_per_bdv": 1.2987779302298212,
           "timestamp": "2022-08-24T00:00:00",
           "total_deposited_bdv": 39894820.508675,
           "total_seeds": 137021507.319102,
           "total_stalk": 51814512.40714714,
           "value": 1.2987779302298212,
           "variable": "stalk_per_bdv"
          },
          {
           "seeds_per_bdv": 3.4345688380602466,
           "seeds_per_stalk": 2.64446196545124,
           "stalk_per_bdv": 1.2987779302298212,
           "timestamp": "2022-08-24T00:00:00",
           "total_deposited_bdv": 39894820.508675,
           "total_seeds": 137021507.319102,
           "total_stalk": 51814512.40714714,
           "value": 3.4345688380602466,
           "variable": "seeds_per_bdv"
          },
          {
           "seeds_per_bdv": 3.4332570605831423,
           "seeds_per_stalk": 2.633726619177255,
           "stalk_per_bdv": 1.3035738165017487,
           "timestamp": "2022-08-25T00:00:00",
           "total_deposited_bdv": 39926616.4265,
           "total_seeds": 137078337.751476,
           "total_stalk": 52047291.755094014,
           "value": 137078337.751476,
           "variable": "total_seeds"
          },
          {
           "seeds_per_bdv": 3.4332570605831423,
           "seeds_per_stalk": 2.633726619177255,
           "stalk_per_bdv": 1.3035738165017487,
           "timestamp": "2022-08-25T00:00:00",
           "total_deposited_bdv": 39926616.4265,
           "total_seeds": 137078337.751476,
           "total_stalk": 52047291.755094014,
           "value": 52047291.755094014,
           "variable": "total_stalk"
          },
          {
           "seeds_per_bdv": 3.4332570605831423,
           "seeds_per_stalk": 2.633726619177255,
           "stalk_per_bdv": 1.3035738165017487,
           "timestamp": "2022-08-25T00:00:00",
           "total_deposited_bdv": 39926616.4265,
           "total_seeds": 137078337.751476,
           "total_stalk": 52047291.755094014,
           "value": 39926616.4265,
           "variable": "total_deposited_bdv"
          },
          {
           "seeds_per_bdv": 3.4332570605831423,
           "seeds_per_stalk": 2.633726619177255,
           "stalk_per_bdv": 1.3035738165017487,
           "timestamp": "2022-08-25T00:00:00",
           "total_deposited_bdv": 39926616.4265,
           "total_seeds": 137078337.751476,
           "total_stalk": 52047291.755094014,
           "value": 2.633726619177255,
           "variable": "seeds_per_stalk"
          },
          {
           "seeds_per_bdv": 3.4332570605831423,
           "seeds_per_stalk": 2.633726619177255,
           "stalk_per_bdv": 1.3035738165017487,
           "timestamp": "2022-08-25T00:00:00",
           "total_deposited_bdv": 39926616.4265,
           "total_seeds": 137078337.751476,
           "total_stalk": 52047291.755094014,
           "value": 1.3035738165017487,
           "variable": "stalk_per_bdv"
          },
          {
           "seeds_per_bdv": 3.4332570605831423,
           "seeds_per_stalk": 2.633726619177255,
           "stalk_per_bdv": 1.3035738165017487,
           "timestamp": "2022-08-25T00:00:00",
           "total_deposited_bdv": 39926616.4265,
           "total_seeds": 137078337.751476,
           "total_stalk": 52047291.755094014,
           "value": 3.4332570605831423,
           "variable": "seeds_per_bdv"
          },
          {
           "seeds_per_bdv": 3.4333685529574183,
           "seeds_per_stalk": 2.6305825979666957,
           "stalk_per_bdv": 1.305174205748656,
           "timestamp": "2022-08-26T00:00:00",
           "total_deposited_bdv": 39946239.01339,
           "total_seeds": 137150160.837494,
           "total_stalk": 52136800.77694727,
           "value": 137150160.837494,
           "variable": "total_seeds"
          },
          {
           "seeds_per_bdv": 3.4333685529574183,
           "seeds_per_stalk": 2.6305825979666957,
           "stalk_per_bdv": 1.305174205748656,
           "timestamp": "2022-08-26T00:00:00",
           "total_deposited_bdv": 39946239.01339,
           "total_seeds": 137150160.837494,
           "total_stalk": 52136800.77694727,
           "value": 52136800.77694727,
           "variable": "total_stalk"
          },
          {
           "seeds_per_bdv": 3.4333685529574183,
           "seeds_per_stalk": 2.6305825979666957,
           "stalk_per_bdv": 1.305174205748656,
           "timestamp": "2022-08-26T00:00:00",
           "total_deposited_bdv": 39946239.01339,
           "total_seeds": 137150160.837494,
           "total_stalk": 52136800.77694727,
           "value": 39946239.01339,
           "variable": "total_deposited_bdv"
          },
          {
           "seeds_per_bdv": 3.4333685529574183,
           "seeds_per_stalk": 2.6305825979666957,
           "stalk_per_bdv": 1.305174205748656,
           "timestamp": "2022-08-26T00:00:00",
           "total_deposited_bdv": 39946239.01339,
           "total_seeds": 137150160.837494,
           "total_stalk": 52136800.77694727,
           "value": 2.6305825979666957,
           "variable": "seeds_per_stalk"
          },
          {
           "seeds_per_bdv": 3.4333685529574183,
           "seeds_per_stalk": 2.6305825979666957,
           "stalk_per_bdv": 1.305174205748656,
           "timestamp": "2022-08-26T00:00:00",
           "total_deposited_bdv": 39946239.01339,
           "total_seeds": 137150160.837494,
           "total_stalk": 52136800.77694727,
           "value": 1.305174205748656,
           "variable": "stalk_per_bdv"
          },
          {
           "seeds_per_bdv": 3.4333685529574183,
           "seeds_per_stalk": 2.6305825979666957,
           "stalk_per_bdv": 1.305174205748656,
           "timestamp": "2022-08-26T00:00:00",
           "total_deposited_bdv": 39946239.01339,
           "total_seeds": 137150160.837494,
           "total_stalk": 52136800.77694727,
           "value": 3.4333685529574183,
           "variable": "seeds_per_bdv"
          },
          {
           "seeds_per_bdv": 3.433449308790906,
           "seeds_per_stalk": 2.613592913187659,
           "stalk_per_bdv": 1.3136894010794176,
           "timestamp": "2022-08-27T00:00:00",
           "total_deposited_bdv": 39942925.057197,
           "total_seeds": 137142008.42872,
           "total_stalk": 52472597.29574919,
           "value": 137142008.42872,
           "variable": "total_seeds"
          },
          {
           "seeds_per_bdv": 3.433449308790906,
           "seeds_per_stalk": 2.613592913187659,
           "stalk_per_bdv": 1.3136894010794176,
           "timestamp": "2022-08-27T00:00:00",
           "total_deposited_bdv": 39942925.057197,
           "total_seeds": 137142008.42872,
           "total_stalk": 52472597.29574919,
           "value": 52472597.29574919,
           "variable": "total_stalk"
          },
          {
           "seeds_per_bdv": 3.433449308790906,
           "seeds_per_stalk": 2.613592913187659,
           "stalk_per_bdv": 1.3136894010794176,
           "timestamp": "2022-08-27T00:00:00",
           "total_deposited_bdv": 39942925.057197,
           "total_seeds": 137142008.42872,
           "total_stalk": 52472597.29574919,
           "value": 39942925.057197,
           "variable": "total_deposited_bdv"
          },
          {
           "seeds_per_bdv": 3.433449308790906,
           "seeds_per_stalk": 2.613592913187659,
           "stalk_per_bdv": 1.3136894010794176,
           "timestamp": "2022-08-27T00:00:00",
           "total_deposited_bdv": 39942925.057197,
           "total_seeds": 137142008.42872,
           "total_stalk": 52472597.29574919,
           "value": 2.613592913187659,
           "variable": "seeds_per_stalk"
          },
          {
           "seeds_per_bdv": 3.433449308790906,
           "seeds_per_stalk": 2.613592913187659,
           "stalk_per_bdv": 1.3136894010794176,
           "timestamp": "2022-08-27T00:00:00",
           "total_deposited_bdv": 39942925.057197,
           "total_seeds": 137142008.42872,
           "total_stalk": 52472597.29574919,
           "value": 1.3136894010794176,
           "variable": "stalk_per_bdv"
          },
          {
           "seeds_per_bdv": 3.433449308790906,
           "seeds_per_stalk": 2.613592913187659,
           "stalk_per_bdv": 1.3136894010794176,
           "timestamp": "2022-08-27T00:00:00",
           "total_deposited_bdv": 39942925.057197,
           "total_seeds": 137142008.42872,
           "total_stalk": 52472597.29574919,
           "value": 3.433449308790906,
           "variable": "seeds_per_bdv"
          },
          {
           "seeds_per_bdv": 3.4308222326611677,
           "seeds_per_stalk": 2.5949282820501507,
           "stalk_per_bdv": 1.3221260319189283,
           "timestamp": "2022-08-28T00:00:00",
           "total_deposited_bdv": 39904205.537426,
           "total_seeds": 136904235.534482,
           "total_stalk": 52758388.92407437,
           "value": 136904235.534482,
           "variable": "total_seeds"
          },
          {
           "seeds_per_bdv": 3.4308222326611677,
           "seeds_per_stalk": 2.5949282820501507,
           "stalk_per_bdv": 1.3221260319189283,
           "timestamp": "2022-08-28T00:00:00",
           "total_deposited_bdv": 39904205.537426,
           "total_seeds": 136904235.534482,
           "total_stalk": 52758388.92407437,
           "value": 52758388.92407437,
           "variable": "total_stalk"
          },
          {
           "seeds_per_bdv": 3.4308222326611677,
           "seeds_per_stalk": 2.5949282820501507,
           "stalk_per_bdv": 1.3221260319189283,
           "timestamp": "2022-08-28T00:00:00",
           "total_deposited_bdv": 39904205.537426,
           "total_seeds": 136904235.534482,
           "total_stalk": 52758388.92407437,
           "value": 39904205.537426,
           "variable": "total_deposited_bdv"
          },
          {
           "seeds_per_bdv": 3.4308222326611677,
           "seeds_per_stalk": 2.5949282820501507,
           "stalk_per_bdv": 1.3221260319189283,
           "timestamp": "2022-08-28T00:00:00",
           "total_deposited_bdv": 39904205.537426,
           "total_seeds": 136904235.534482,
           "total_stalk": 52758388.92407437,
           "value": 2.5949282820501507,
           "variable": "seeds_per_stalk"
          },
          {
           "seeds_per_bdv": 3.4308222326611677,
           "seeds_per_stalk": 2.5949282820501507,
           "stalk_per_bdv": 1.3221260319189283,
           "timestamp": "2022-08-28T00:00:00",
           "total_deposited_bdv": 39904205.537426,
           "total_seeds": 136904235.534482,
           "total_stalk": 52758388.92407437,
           "value": 1.3221260319189283,
           "variable": "stalk_per_bdv"
          },
          {
           "seeds_per_bdv": 3.4308222326611677,
           "seeds_per_stalk": 2.5949282820501507,
           "stalk_per_bdv": 1.3221260319189283,
           "timestamp": "2022-08-28T00:00:00",
           "total_deposited_bdv": 39904205.537426,
           "total_seeds": 136904235.534482,
           "total_stalk": 52758388.92407437,
           "value": 3.4308222326611677,
           "variable": "seeds_per_bdv"
          },
          {
           "seeds_per_bdv": 3.39767386165569,
           "seeds_per_stalk": 2.5742774963104256,
           "stalk_per_bdv": 1.3198553250476666,
           "timestamp": "2022-08-29T00:00:00",
           "total_deposited_bdv": 40858333.483333,
           "total_seeds": 138823291.707132,
           "total_stalk": 53927089.02055043,
           "value": 138823291.707132,
           "variable": "total_seeds"
          },
          {
           "seeds_per_bdv": 3.39767386165569,
           "seeds_per_stalk": 2.5742774963104256,
           "stalk_per_bdv": 1.3198553250476666,
           "timestamp": "2022-08-29T00:00:00",
           "total_deposited_bdv": 40858333.483333,
           "total_seeds": 138823291.707132,
           "total_stalk": 53927089.02055043,
           "value": 53927089.02055043,
           "variable": "total_stalk"
          },
          {
           "seeds_per_bdv": 3.39767386165569,
           "seeds_per_stalk": 2.5742774963104256,
           "stalk_per_bdv": 1.3198553250476666,
           "timestamp": "2022-08-29T00:00:00",
           "total_deposited_bdv": 40858333.483333,
           "total_seeds": 138823291.707132,
           "total_stalk": 53927089.02055043,
           "value": 40858333.483333,
           "variable": "total_deposited_bdv"
          },
          {
           "seeds_per_bdv": 3.39767386165569,
           "seeds_per_stalk": 2.5742774963104256,
           "stalk_per_bdv": 1.3198553250476666,
           "timestamp": "2022-08-29T00:00:00",
           "total_deposited_bdv": 40858333.483333,
           "total_seeds": 138823291.707132,
           "total_stalk": 53927089.02055043,
           "value": 2.5742774963104256,
           "variable": "seeds_per_stalk"
          },
          {
           "seeds_per_bdv": 3.39767386165569,
           "seeds_per_stalk": 2.5742774963104256,
           "stalk_per_bdv": 1.3198553250476666,
           "timestamp": "2022-08-29T00:00:00",
           "total_deposited_bdv": 40858333.483333,
           "total_seeds": 138823291.707132,
           "total_stalk": 53927089.02055043,
           "value": 1.3198553250476666,
           "variable": "stalk_per_bdv"
          },
          {
           "seeds_per_bdv": 3.39767386165569,
           "seeds_per_stalk": 2.5742774963104256,
           "stalk_per_bdv": 1.3198553250476666,
           "timestamp": "2022-08-29T00:00:00",
           "total_deposited_bdv": 40858333.483333,
           "total_seeds": 138823291.707132,
           "total_stalk": 53927089.02055043,
           "value": 3.39767386165569,
           "variable": "seeds_per_bdv"
          },
          {
           "seeds_per_bdv": 3.39221484739779,
           "seeds_per_stalk": 2.5658718763066815,
           "stalk_per_bdv": 1.3220515329395741,
           "timestamp": "2022-08-30T00:00:00",
           "total_deposited_bdv": 40837610.264716,
           "total_seeds": 138529947.872214,
           "total_stalk": 53989425.25205667,
           "value": 138529947.872214,
           "variable": "total_seeds"
          },
          {
           "seeds_per_bdv": 3.39221484739779,
           "seeds_per_stalk": 2.5658718763066815,
           "stalk_per_bdv": 1.3220515329395741,
           "timestamp": "2022-08-30T00:00:00",
           "total_deposited_bdv": 40837610.264716,
           "total_seeds": 138529947.872214,
           "total_stalk": 53989425.25205667,
           "value": 53989425.25205667,
           "variable": "total_stalk"
          },
          {
           "seeds_per_bdv": 3.39221484739779,
           "seeds_per_stalk": 2.5658718763066815,
           "stalk_per_bdv": 1.3220515329395741,
           "timestamp": "2022-08-30T00:00:00",
           "total_deposited_bdv": 40837610.264716,
           "total_seeds": 138529947.872214,
           "total_stalk": 53989425.25205667,
           "value": 40837610.264716,
           "variable": "total_deposited_bdv"
          },
          {
           "seeds_per_bdv": 3.39221484739779,
           "seeds_per_stalk": 2.5658718763066815,
           "stalk_per_bdv": 1.3220515329395741,
           "timestamp": "2022-08-30T00:00:00",
           "total_deposited_bdv": 40837610.264716,
           "total_seeds": 138529947.872214,
           "total_stalk": 53989425.25205667,
           "value": 2.5658718763066815,
           "variable": "seeds_per_stalk"
          },
          {
           "seeds_per_bdv": 3.39221484739779,
           "seeds_per_stalk": 2.5658718763066815,
           "stalk_per_bdv": 1.3220515329395741,
           "timestamp": "2022-08-30T00:00:00",
           "total_deposited_bdv": 40837610.264716,
           "total_seeds": 138529947.872214,
           "total_stalk": 53989425.25205667,
           "value": 1.3220515329395741,
           "variable": "stalk_per_bdv"
          },
          {
           "seeds_per_bdv": 3.39221484739779,
           "seeds_per_stalk": 2.5658718763066815,
           "stalk_per_bdv": 1.3220515329395741,
           "timestamp": "2022-08-30T00:00:00",
           "total_deposited_bdv": 40837610.264716,
           "total_seeds": 138529947.872214,
           "total_stalk": 53989425.25205667,
           "value": 3.39221484739779,
           "variable": "seeds_per_bdv"
          },
          {
           "seeds_per_bdv": 3.388217397768441,
           "seeds_per_stalk": 2.5600768019648825,
           "stalk_per_bdv": 1.3234827155060165,
           "timestamp": "2022-08-31T00:00:00",
           "total_deposited_bdv": 40850259.458272,
           "total_seeds": 138409559.799872,
           "total_stalk": 54064612.316959165,
           "value": 138409559.799872,
           "variable": "total_seeds"
          },
          {
           "seeds_per_bdv": 3.388217397768441,
           "seeds_per_stalk": 2.5600768019648825,
           "stalk_per_bdv": 1.3234827155060165,
           "timestamp": "2022-08-31T00:00:00",
           "total_deposited_bdv": 40850259.458272,
           "total_seeds": 138409559.799872,
           "total_stalk": 54064612.316959165,
           "value": 54064612.316959165,
           "variable": "total_stalk"
          },
          {
           "seeds_per_bdv": 3.388217397768441,
           "seeds_per_stalk": 2.5600768019648825,
           "stalk_per_bdv": 1.3234827155060165,
           "timestamp": "2022-08-31T00:00:00",
           "total_deposited_bdv": 40850259.458272,
           "total_seeds": 138409559.799872,
           "total_stalk": 54064612.316959165,
           "value": 40850259.458272,
           "variable": "total_deposited_bdv"
          },
          {
           "seeds_per_bdv": 3.388217397768441,
           "seeds_per_stalk": 2.5600768019648825,
           "stalk_per_bdv": 1.3234827155060165,
           "timestamp": "2022-08-31T00:00:00",
           "total_deposited_bdv": 40850259.458272,
           "total_seeds": 138409559.799872,
           "total_stalk": 54064612.316959165,
           "value": 2.5600768019648825,
           "variable": "seeds_per_stalk"
          },
          {
           "seeds_per_bdv": 3.388217397768441,
           "seeds_per_stalk": 2.5600768019648825,
           "stalk_per_bdv": 1.3234827155060165,
           "timestamp": "2022-08-31T00:00:00",
           "total_deposited_bdv": 40850259.458272,
           "total_seeds": 138409559.799872,
           "total_stalk": 54064612.316959165,
           "value": 1.3234827155060165,
           "variable": "stalk_per_bdv"
          },
          {
           "seeds_per_bdv": 3.388217397768441,
           "seeds_per_stalk": 2.5600768019648825,
           "stalk_per_bdv": 1.3234827155060165,
           "timestamp": "2022-08-31T00:00:00",
           "total_deposited_bdv": 40850259.458272,
           "total_seeds": 138409559.799872,
           "total_stalk": 54064612.316959165,
           "value": 3.388217397768441,
           "variable": "seeds_per_bdv"
          },
          {
           "seeds_per_bdv": 3.3869313425410423,
           "seeds_per_stalk": 2.5470490191152053,
           "stalk_per_bdv": 1.3297472161401886,
           "timestamp": "2022-09-01T00:00:00",
           "total_deposited_bdv": 40828282.370543,
           "total_seeds": 138282589.222908,
           "total_stalk": 54291294.8220151,
           "value": 138282589.222908,
           "variable": "total_seeds"
          },
          {
           "seeds_per_bdv": 3.3869313425410423,
           "seeds_per_stalk": 2.5470490191152053,
           "stalk_per_bdv": 1.3297472161401886,
           "timestamp": "2022-09-01T00:00:00",
           "total_deposited_bdv": 40828282.370543,
           "total_seeds": 138282589.222908,
           "total_stalk": 54291294.8220151,
           "value": 54291294.8220151,
           "variable": "total_stalk"
          },
          {
           "seeds_per_bdv": 3.3869313425410423,
           "seeds_per_stalk": 2.5470490191152053,
           "stalk_per_bdv": 1.3297472161401886,
           "timestamp": "2022-09-01T00:00:00",
           "total_deposited_bdv": 40828282.370543,
           "total_seeds": 138282589.222908,
           "total_stalk": 54291294.8220151,
           "value": 40828282.370543,
           "variable": "total_deposited_bdv"
          },
          {
           "seeds_per_bdv": 3.3869313425410423,
           "seeds_per_stalk": 2.5470490191152053,
           "stalk_per_bdv": 1.3297472161401886,
           "timestamp": "2022-09-01T00:00:00",
           "total_deposited_bdv": 40828282.370543,
           "total_seeds": 138282589.222908,
           "total_stalk": 54291294.8220151,
           "value": 2.5470490191152053,
           "variable": "seeds_per_stalk"
          },
          {
           "seeds_per_bdv": 3.3869313425410423,
           "seeds_per_stalk": 2.5470490191152053,
           "stalk_per_bdv": 1.3297472161401886,
           "timestamp": "2022-09-01T00:00:00",
           "total_deposited_bdv": 40828282.370543,
           "total_seeds": 138282589.222908,
           "total_stalk": 54291294.8220151,
           "value": 1.3297472161401886,
           "variable": "stalk_per_bdv"
          },
          {
           "seeds_per_bdv": 3.3869313425410423,
           "seeds_per_stalk": 2.5470490191152053,
           "stalk_per_bdv": 1.3297472161401886,
           "timestamp": "2022-09-01T00:00:00",
           "total_deposited_bdv": 40828282.370543,
           "total_seeds": 138282589.222908,
           "total_stalk": 54291294.8220151,
           "value": 3.3869313425410423,
           "variable": "seeds_per_bdv"
          },
          {
           "seeds_per_bdv": 3.3835659768973927,
           "seeds_per_stalk": 2.5369087985178025,
           "stalk_per_bdv": 1.3337357570261306,
           "timestamp": "2022-09-02T00:00:00",
           "total_deposited_bdv": 40765756.285696,
           "total_seeds": 137933625.990772,
           "total_stalk": 54370746.82044549,
           "value": 137933625.990772,
           "variable": "total_seeds"
          },
          {
           "seeds_per_bdv": 3.3835659768973927,
           "seeds_per_stalk": 2.5369087985178025,
           "stalk_per_bdv": 1.3337357570261306,
           "timestamp": "2022-09-02T00:00:00",
           "total_deposited_bdv": 40765756.285696,
           "total_seeds": 137933625.990772,
           "total_stalk": 54370746.82044549,
           "value": 54370746.82044549,
           "variable": "total_stalk"
          },
          {
           "seeds_per_bdv": 3.3835659768973927,
           "seeds_per_stalk": 2.5369087985178025,
           "stalk_per_bdv": 1.3337357570261306,
           "timestamp": "2022-09-02T00:00:00",
           "total_deposited_bdv": 40765756.285696,
           "total_seeds": 137933625.990772,
           "total_stalk": 54370746.82044549,
           "value": 40765756.285696,
           "variable": "total_deposited_bdv"
          },
          {
           "seeds_per_bdv": 3.3835659768973927,
           "seeds_per_stalk": 2.5369087985178025,
           "stalk_per_bdv": 1.3337357570261306,
           "timestamp": "2022-09-02T00:00:00",
           "total_deposited_bdv": 40765756.285696,
           "total_seeds": 137933625.990772,
           "total_stalk": 54370746.82044549,
           "value": 2.5369087985178025,
           "variable": "seeds_per_stalk"
          },
          {
           "seeds_per_bdv": 3.3835659768973927,
           "seeds_per_stalk": 2.5369087985178025,
           "stalk_per_bdv": 1.3337357570261306,
           "timestamp": "2022-09-02T00:00:00",
           "total_deposited_bdv": 40765756.285696,
           "total_seeds": 137933625.990772,
           "total_stalk": 54370746.82044549,
           "value": 1.3337357570261306,
           "variable": "stalk_per_bdv"
          },
          {
           "seeds_per_bdv": 3.3835659768973927,
           "seeds_per_stalk": 2.5369087985178025,
           "stalk_per_bdv": 1.3337357570261306,
           "timestamp": "2022-09-02T00:00:00",
           "total_deposited_bdv": 40765756.285696,
           "total_seeds": 137933625.990772,
           "total_stalk": 54370746.82044549,
           "value": 3.3835659768973927,
           "variable": "seeds_per_bdv"
          },
          {
           "seeds_per_bdv": 3.378398177104478,
           "seeds_per_stalk": 2.526312777998245,
           "stalk_per_bdv": 1.3372842058699452,
           "timestamp": "2022-09-03T00:00:00",
           "total_deposited_bdv": 40710937.534698,
           "total_seeds": 137537757.155438,
           "total_stalk": 54442093.77130956,
           "value": 137537757.155438,
           "variable": "total_seeds"
          },
          {
           "seeds_per_bdv": 3.378398177104478,
           "seeds_per_stalk": 2.526312777998245,
           "stalk_per_bdv": 1.3372842058699452,
           "timestamp": "2022-09-03T00:00:00",
           "total_deposited_bdv": 40710937.534698,
           "total_seeds": 137537757.155438,
           "total_stalk": 54442093.77130956,
           "value": 54442093.77130956,
           "variable": "total_stalk"
          },
          {
           "seeds_per_bdv": 3.378398177104478,
           "seeds_per_stalk": 2.526312777998245,
           "stalk_per_bdv": 1.3372842058699452,
           "timestamp": "2022-09-03T00:00:00",
           "total_deposited_bdv": 40710937.534698,
           "total_seeds": 137537757.155438,
           "total_stalk": 54442093.77130956,
           "value": 40710937.534698,
           "variable": "total_deposited_bdv"
          },
          {
           "seeds_per_bdv": 3.378398177104478,
           "seeds_per_stalk": 2.526312777998245,
           "stalk_per_bdv": 1.3372842058699452,
           "timestamp": "2022-09-03T00:00:00",
           "total_deposited_bdv": 40710937.534698,
           "total_seeds": 137537757.155438,
           "total_stalk": 54442093.77130956,
           "value": 2.526312777998245,
           "variable": "seeds_per_stalk"
          },
          {
           "seeds_per_bdv": 3.378398177104478,
           "seeds_per_stalk": 2.526312777998245,
           "stalk_per_bdv": 1.3372842058699452,
           "timestamp": "2022-09-03T00:00:00",
           "total_deposited_bdv": 40710937.534698,
           "total_seeds": 137537757.155438,
           "total_stalk": 54442093.77130956,
           "value": 1.3372842058699452,
           "variable": "stalk_per_bdv"
          },
          {
           "seeds_per_bdv": 3.378398177104478,
           "seeds_per_stalk": 2.526312777998245,
           "stalk_per_bdv": 1.3372842058699452,
           "timestamp": "2022-09-03T00:00:00",
           "total_deposited_bdv": 40710937.534698,
           "total_seeds": 137537757.155438,
           "total_stalk": 54442093.77130956,
           "value": 3.378398177104478,
           "variable": "seeds_per_bdv"
          },
          {
           "seeds_per_bdv": 3.3785108166325797,
           "seeds_per_stalk": 2.516480738243182,
           "stalk_per_bdv": 1.342553815449111,
           "timestamp": "2022-09-04T00:00:00",
           "total_deposited_bdv": 40712642.769339,
           "total_seeds": 137548103.96991,
           "total_stalk": 54658913.88699274,
           "value": 137548103.96991,
           "variable": "total_seeds"
          },
          {
           "seeds_per_bdv": 3.3785108166325797,
           "seeds_per_stalk": 2.516480738243182,
           "stalk_per_bdv": 1.342553815449111,
           "timestamp": "2022-09-04T00:00:00",
           "total_deposited_bdv": 40712642.769339,
           "total_seeds": 137548103.96991,
           "total_stalk": 54658913.88699274,
           "value": 54658913.88699274,
           "variable": "total_stalk"
          },
          {
           "seeds_per_bdv": 3.3785108166325797,
           "seeds_per_stalk": 2.516480738243182,
           "stalk_per_bdv": 1.342553815449111,
           "timestamp": "2022-09-04T00:00:00",
           "total_deposited_bdv": 40712642.769339,
           "total_seeds": 137548103.96991,
           "total_stalk": 54658913.88699274,
           "value": 40712642.769339,
           "variable": "total_deposited_bdv"
          },
          {
           "seeds_per_bdv": 3.3785108166325797,
           "seeds_per_stalk": 2.516480738243182,
           "stalk_per_bdv": 1.342553815449111,
           "timestamp": "2022-09-04T00:00:00",
           "total_deposited_bdv": 40712642.769339,
           "total_seeds": 137548103.96991,
           "total_stalk": 54658913.88699274,
           "value": 2.516480738243182,
           "variable": "seeds_per_stalk"
          },
          {
           "seeds_per_bdv": 3.3785108166325797,
           "seeds_per_stalk": 2.516480738243182,
           "stalk_per_bdv": 1.342553815449111,
           "timestamp": "2022-09-04T00:00:00",
           "total_deposited_bdv": 40712642.769339,
           "total_seeds": 137548103.96991,
           "total_stalk": 54658913.88699274,
           "value": 1.342553815449111,
           "variable": "stalk_per_bdv"
          },
          {
           "seeds_per_bdv": 3.3785108166325797,
           "seeds_per_stalk": 2.516480738243182,
           "stalk_per_bdv": 1.342553815449111,
           "timestamp": "2022-09-04T00:00:00",
           "total_deposited_bdv": 40712642.769339,
           "total_seeds": 137548103.96991,
           "total_stalk": 54658913.88699274,
           "value": 3.3785108166325797,
           "variable": "seeds_per_bdv"
          },
          {
           "seeds_per_bdv": 3.3757030757533713,
           "seeds_per_stalk": 2.50853658162766,
           "stalk_per_bdv": 1.3456862062434232,
           "timestamp": "2022-09-05T00:00:00",
           "total_deposited_bdv": 40708127.996226,
           "total_seeds": 137418552.885022,
           "total_stalk": 54780366.326513045,
           "value": 137418552.885022,
           "variable": "total_seeds"
          },
          {
           "seeds_per_bdv": 3.3757030757533713,
           "seeds_per_stalk": 2.50853658162766,
           "stalk_per_bdv": 1.3456862062434232,
           "timestamp": "2022-09-05T00:00:00",
           "total_deposited_bdv": 40708127.996226,
           "total_seeds": 137418552.885022,
           "total_stalk": 54780366.326513045,
           "value": 54780366.326513045,
           "variable": "total_stalk"
          },
          {
           "seeds_per_bdv": 3.3757030757533713,
           "seeds_per_stalk": 2.50853658162766,
           "stalk_per_bdv": 1.3456862062434232,
           "timestamp": "2022-09-05T00:00:00",
           "total_deposited_bdv": 40708127.996226,
           "total_seeds": 137418552.885022,
           "total_stalk": 54780366.326513045,
           "value": 40708127.996226,
           "variable": "total_deposited_bdv"
          },
          {
           "seeds_per_bdv": 3.3757030757533713,
           "seeds_per_stalk": 2.50853658162766,
           "stalk_per_bdv": 1.3456862062434232,
           "timestamp": "2022-09-05T00:00:00",
           "total_deposited_bdv": 40708127.996226,
           "total_seeds": 137418552.885022,
           "total_stalk": 54780366.326513045,
           "value": 2.50853658162766,
           "variable": "seeds_per_stalk"
          },
          {
           "seeds_per_bdv": 3.3757030757533713,
           "seeds_per_stalk": 2.50853658162766,
           "stalk_per_bdv": 1.3456862062434232,
           "timestamp": "2022-09-05T00:00:00",
           "total_deposited_bdv": 40708127.996226,
           "total_seeds": 137418552.885022,
           "total_stalk": 54780366.326513045,
           "value": 1.3456862062434232,
           "variable": "stalk_per_bdv"
          },
          {
           "seeds_per_bdv": 3.3757030757533713,
           "seeds_per_stalk": 2.50853658162766,
           "stalk_per_bdv": 1.3456862062434232,
           "timestamp": "2022-09-05T00:00:00",
           "total_deposited_bdv": 40708127.996226,
           "total_seeds": 137418552.885022,
           "total_stalk": 54780366.326513045,
           "value": 3.3757030757533713,
           "variable": "seeds_per_bdv"
          },
          {
           "seeds_per_bdv": 3.3761334358922848,
           "seeds_per_stalk": 2.5043890270009563,
           "stalk_per_bdv": 1.3480866588587699,
           "timestamp": "2022-09-06T00:00:00",
           "total_deposited_bdv": 40698738.596294,
           "total_seeds": 137404372.173588,
           "total_stalk": 54865426.534044445,
           "value": 137404372.173588,
           "variable": "total_seeds"
          },
          {
           "seeds_per_bdv": 3.3761334358922848,
           "seeds_per_stalk": 2.5043890270009563,
           "stalk_per_bdv": 1.3480866588587699,
           "timestamp": "2022-09-06T00:00:00",
           "total_deposited_bdv": 40698738.596294,
           "total_seeds": 137404372.173588,
           "total_stalk": 54865426.534044445,
           "value": 54865426.534044445,
           "variable": "total_stalk"
          },
          {
           "seeds_per_bdv": 3.3761334358922848,
           "seeds_per_stalk": 2.5043890270009563,
           "stalk_per_bdv": 1.3480866588587699,
           "timestamp": "2022-09-06T00:00:00",
           "total_deposited_bdv": 40698738.596294,
           "total_seeds": 137404372.173588,
           "total_stalk": 54865426.534044445,
           "value": 40698738.596294,
           "variable": "total_deposited_bdv"
          },
          {
           "seeds_per_bdv": 3.3761334358922848,
           "seeds_per_stalk": 2.5043890270009563,
           "stalk_per_bdv": 1.3480866588587699,
           "timestamp": "2022-09-06T00:00:00",
           "total_deposited_bdv": 40698738.596294,
           "total_seeds": 137404372.173588,
           "total_stalk": 54865426.534044445,
           "value": 2.5043890270009563,
           "variable": "seeds_per_stalk"
          },
          {
           "seeds_per_bdv": 3.3761334358922848,
           "seeds_per_stalk": 2.5043890270009563,
           "stalk_per_bdv": 1.3480866588587699,
           "timestamp": "2022-09-06T00:00:00",
           "total_deposited_bdv": 40698738.596294,
           "total_seeds": 137404372.173588,
           "total_stalk": 54865426.534044445,
           "value": 1.3480866588587699,
           "variable": "stalk_per_bdv"
          },
          {
           "seeds_per_bdv": 3.3761334358922848,
           "seeds_per_stalk": 2.5043890270009563,
           "stalk_per_bdv": 1.3480866588587699,
           "timestamp": "2022-09-06T00:00:00",
           "total_deposited_bdv": 40698738.596294,
           "total_seeds": 137404372.173588,
           "total_stalk": 54865426.534044445,
           "value": 3.3761334358922848,
           "variable": "seeds_per_bdv"
          },
          {
           "seeds_per_bdv": 3.371726813422895,
           "seeds_per_stalk": 2.495152075759465,
           "stalk_per_bdv": 1.351311146995568,
           "timestamp": "2022-09-07T00:00:00",
           "total_deposited_bdv": 40699037.992429,
           "total_seeds": 137226037.67959,
           "total_stalk": 54997063.711165436,
           "value": 137226037.67959,
           "variable": "total_seeds"
          },
          {
           "seeds_per_bdv": 3.371726813422895,
           "seeds_per_stalk": 2.495152075759465,
           "stalk_per_bdv": 1.351311146995568,
           "timestamp": "2022-09-07T00:00:00",
           "total_deposited_bdv": 40699037.992429,
           "total_seeds": 137226037.67959,
           "total_stalk": 54997063.711165436,
           "value": 54997063.711165436,
           "variable": "total_stalk"
          },
          {
           "seeds_per_bdv": 3.371726813422895,
           "seeds_per_stalk": 2.495152075759465,
           "stalk_per_bdv": 1.351311146995568,
           "timestamp": "2022-09-07T00:00:00",
           "total_deposited_bdv": 40699037.992429,
           "total_seeds": 137226037.67959,
           "total_stalk": 54997063.711165436,
           "value": 40699037.992429,
           "variable": "total_deposited_bdv"
          },
          {
           "seeds_per_bdv": 3.371726813422895,
           "seeds_per_stalk": 2.495152075759465,
           "stalk_per_bdv": 1.351311146995568,
           "timestamp": "2022-09-07T00:00:00",
           "total_deposited_bdv": 40699037.992429,
           "total_seeds": 137226037.67959,
           "total_stalk": 54997063.711165436,
           "value": 2.495152075759465,
           "variable": "seeds_per_stalk"
          },
          {
           "seeds_per_bdv": 3.371726813422895,
           "seeds_per_stalk": 2.495152075759465,
           "stalk_per_bdv": 1.351311146995568,
           "timestamp": "2022-09-07T00:00:00",
           "total_deposited_bdv": 40699037.992429,
           "total_seeds": 137226037.67959,
           "total_stalk": 54997063.711165436,
           "value": 1.351311146995568,
           "variable": "stalk_per_bdv"
          },
          {
           "seeds_per_bdv": 3.371726813422895,
           "seeds_per_stalk": 2.495152075759465,
           "stalk_per_bdv": 1.351311146995568,
           "timestamp": "2022-09-07T00:00:00",
           "total_deposited_bdv": 40699037.992429,
           "total_seeds": 137226037.67959,
           "total_stalk": 54997063.711165436,
           "value": 3.371726813422895,
           "variable": "seeds_per_bdv"
          },
          {
           "seeds_per_bdv": 3.367197249587047,
           "seeds_per_stalk": 2.4854885038042163,
           "stalk_per_bdv": 1.3547426368833786,
           "timestamp": "2022-09-08T00:00:00",
           "total_deposited_bdv": 40698987.374194,
           "total_seeds": 137041518.347364,
           "total_stalk": 55136653.473798916,
           "value": 137041518.347364,
           "variable": "total_seeds"
          },
          {
           "seeds_per_bdv": 3.367197249587047,
           "seeds_per_stalk": 2.4854885038042163,
           "stalk_per_bdv": 1.3547426368833786,
           "timestamp": "2022-09-08T00:00:00",
           "total_deposited_bdv": 40698987.374194,
           "total_seeds": 137041518.347364,
           "total_stalk": 55136653.473798916,
           "value": 55136653.473798916,
           "variable": "total_stalk"
          },
          {
           "seeds_per_bdv": 3.367197249587047,
           "seeds_per_stalk": 2.4854885038042163,
           "stalk_per_bdv": 1.3547426368833786,
           "timestamp": "2022-09-08T00:00:00",
           "total_deposited_bdv": 40698987.374194,
           "total_seeds": 137041518.347364,
           "total_stalk": 55136653.473798916,
           "value": 40698987.374194,
           "variable": "total_deposited_bdv"
          },
          {
           "seeds_per_bdv": 3.367197249587047,
           "seeds_per_stalk": 2.4854885038042163,
           "stalk_per_bdv": 1.3547426368833786,
           "timestamp": "2022-09-08T00:00:00",
           "total_deposited_bdv": 40698987.374194,
           "total_seeds": 137041518.347364,
           "total_stalk": 55136653.473798916,
           "value": 2.4854885038042163,
           "variable": "seeds_per_stalk"
          },
          {
           "seeds_per_bdv": 3.367197249587047,
           "seeds_per_stalk": 2.4854885038042163,
           "stalk_per_bdv": 1.3547426368833786,
           "timestamp": "2022-09-08T00:00:00",
           "total_deposited_bdv": 40698987.374194,
           "total_seeds": 137041518.347364,
           "total_stalk": 55136653.473798916,
           "value": 1.3547426368833786,
           "variable": "stalk_per_bdv"
          },
          {
           "seeds_per_bdv": 3.367197249587047,
           "seeds_per_stalk": 2.4854885038042163,
           "stalk_per_bdv": 1.3547426368833786,
           "timestamp": "2022-09-08T00:00:00",
           "total_deposited_bdv": 40698987.374194,
           "total_seeds": 137041518.347364,
           "total_stalk": 55136653.473798916,
           "value": 3.367197249587047,
           "variable": "seeds_per_bdv"
          },
          {
           "seeds_per_bdv": 3.367243268882092,
           "seeds_per_stalk": 2.4806301045288057,
           "stalk_per_bdv": 1.3574144983303338,
           "timestamp": "2022-09-09T00:00:00",
           "total_deposited_bdv": 40698777.635842,
           "total_seeds": 137042685.046018,
           "total_stalk": 55245110.82721428,
           "value": 137042685.046018,
           "variable": "total_seeds"
          },
          {
           "seeds_per_bdv": 3.367243268882092,
           "seeds_per_stalk": 2.4806301045288057,
           "stalk_per_bdv": 1.3574144983303338,
           "timestamp": "2022-09-09T00:00:00",
           "total_deposited_bdv": 40698777.635842,
           "total_seeds": 137042685.046018,
           "total_stalk": 55245110.82721428,
           "value": 55245110.82721428,
           "variable": "total_stalk"
          },
          {
           "seeds_per_bdv": 3.367243268882092,
           "seeds_per_stalk": 2.4806301045288057,
           "stalk_per_bdv": 1.3574144983303338,
           "timestamp": "2022-09-09T00:00:00",
           "total_deposited_bdv": 40698777.635842,
           "total_seeds": 137042685.046018,
           "total_stalk": 55245110.82721428,
           "value": 40698777.635842,
           "variable": "total_deposited_bdv"
          },
          {
           "seeds_per_bdv": 3.367243268882092,
           "seeds_per_stalk": 2.4806301045288057,
           "stalk_per_bdv": 1.3574144983303338,
           "timestamp": "2022-09-09T00:00:00",
           "total_deposited_bdv": 40698777.635842,
           "total_seeds": 137042685.046018,
           "total_stalk": 55245110.82721428,
           "value": 2.4806301045288057,
           "variable": "seeds_per_stalk"
          },
          {
           "seeds_per_bdv": 3.367243268882092,
           "seeds_per_stalk": 2.4806301045288057,
           "stalk_per_bdv": 1.3574144983303338,
           "timestamp": "2022-09-09T00:00:00",
           "total_deposited_bdv": 40698777.635842,
           "total_seeds": 137042685.046018,
           "total_stalk": 55245110.82721428,
           "value": 1.3574144983303338,
           "variable": "stalk_per_bdv"
          },
          {
           "seeds_per_bdv": 3.367243268882092,
           "seeds_per_stalk": 2.4806301045288057,
           "stalk_per_bdv": 1.3574144983303338,
           "timestamp": "2022-09-09T00:00:00",
           "total_deposited_bdv": 40698777.635842,
           "total_seeds": 137042685.046018,
           "total_stalk": 55245110.82721428,
           "value": 3.367243268882092,
           "variable": "seeds_per_bdv"
          },
          {
           "seeds_per_bdv": 3.3671614796340967,
           "seeds_per_stalk": 2.4759233930529336,
           "stalk_per_bdv": 1.359961899096653,
           "timestamp": "2022-09-10T00:00:00",
           "total_deposited_bdv": 40695099.730869,
           "total_seeds": 137026972.22365,
           "total_stalk": 55343785.11392031,
           "value": 137026972.22365,
           "variable": "total_seeds"
          },
          {
           "seeds_per_bdv": 3.3671614796340967,
           "seeds_per_stalk": 2.4759233930529336,
           "stalk_per_bdv": 1.359961899096653,
           "timestamp": "2022-09-10T00:00:00",
           "total_deposited_bdv": 40695099.730869,
           "total_seeds": 137026972.22365,
           "total_stalk": 55343785.11392031,
           "value": 55343785.11392031,
           "variable": "total_stalk"
          },
          {
           "seeds_per_bdv": 3.3671614796340967,
           "seeds_per_stalk": 2.4759233930529336,
           "stalk_per_bdv": 1.359961899096653,
           "timestamp": "2022-09-10T00:00:00",
           "total_deposited_bdv": 40695099.730869,
           "total_seeds": 137026972.22365,
           "total_stalk": 55343785.11392031,
           "value": 40695099.730869,
           "variable": "total_deposited_bdv"
          },
          {
           "seeds_per_bdv": 3.3671614796340967,
           "seeds_per_stalk": 2.4759233930529336,
           "stalk_per_bdv": 1.359961899096653,
           "timestamp": "2022-09-10T00:00:00",
           "total_deposited_bdv": 40695099.730869,
           "total_seeds": 137026972.22365,
           "total_stalk": 55343785.11392031,
           "value": 2.4759233930529336,
           "variable": "seeds_per_stalk"
          },
          {
           "seeds_per_bdv": 3.3671614796340967,
           "seeds_per_stalk": 2.4759233930529336,
           "stalk_per_bdv": 1.359961899096653,
           "timestamp": "2022-09-10T00:00:00",
           "total_deposited_bdv": 40695099.730869,
           "total_seeds": 137026972.22365,
           "total_stalk": 55343785.11392031,
           "value": 1.359961899096653,
           "variable": "stalk_per_bdv"
          },
          {
           "seeds_per_bdv": 3.3671614796340967,
           "seeds_per_stalk": 2.4759233930529336,
           "stalk_per_bdv": 1.359961899096653,
           "timestamp": "2022-09-10T00:00:00",
           "total_deposited_bdv": 40695099.730869,
           "total_seeds": 137026972.22365,
           "total_stalk": 55343785.11392031,
           "value": 3.3671614796340967,
           "variable": "seeds_per_bdv"
          },
          {
           "seeds_per_bdv": 3.3674066084710415,
           "seeds_per_stalk": 2.4683089188772214,
           "stalk_per_bdv": 1.3642565493798886,
           "timestamp": "2022-09-11T00:00:00",
           "total_deposited_bdv": 40697602.889839,
           "total_seeds": 137045376.920174,
           "total_stalk": 55521971.286524735,
           "value": 137045376.920174,
           "variable": "total_seeds"
          },
          {
           "seeds_per_bdv": 3.3674066084710415,
           "seeds_per_stalk": 2.4683089188772214,
           "stalk_per_bdv": 1.3642565493798886,
           "timestamp": "2022-09-11T00:00:00",
           "total_deposited_bdv": 40697602.889839,
           "total_seeds": 137045376.920174,
           "total_stalk": 55521971.286524735,
           "value": 55521971.286524735,
           "variable": "total_stalk"
          },
          {
           "seeds_per_bdv": 3.3674066084710415,
           "seeds_per_stalk": 2.4683089188772214,
           "stalk_per_bdv": 1.3642565493798886,
           "timestamp": "2022-09-11T00:00:00",
           "total_deposited_bdv": 40697602.889839,
           "total_seeds": 137045376.920174,
           "total_stalk": 55521971.286524735,
           "value": 40697602.889839,
           "variable": "total_deposited_bdv"
          },
          {
           "seeds_per_bdv": 3.3674066084710415,
           "seeds_per_stalk": 2.4683089188772214,
           "stalk_per_bdv": 1.3642565493798886,
           "timestamp": "2022-09-11T00:00:00",
           "total_deposited_bdv": 40697602.889839,
           "total_seeds": 137045376.920174,
           "total_stalk": 55521971.286524735,
           "value": 2.4683089188772214,
           "variable": "seeds_per_stalk"
          },
          {
           "seeds_per_bdv": 3.3674066084710415,
           "seeds_per_stalk": 2.4683089188772214,
           "stalk_per_bdv": 1.3642565493798886,
           "timestamp": "2022-09-11T00:00:00",
           "total_deposited_bdv": 40697602.889839,
           "total_seeds": 137045376.920174,
           "total_stalk": 55521971.286524735,
           "value": 1.3642565493798886,
           "variable": "stalk_per_bdv"
          },
          {
           "seeds_per_bdv": 3.3674066084710415,
           "seeds_per_stalk": 2.4683089188772214,
           "stalk_per_bdv": 1.3642565493798886,
           "timestamp": "2022-09-11T00:00:00",
           "total_deposited_bdv": 40697602.889839,
           "total_seeds": 137045376.920174,
           "total_stalk": 55521971.286524735,
           "value": 3.3674066084710415,
           "variable": "seeds_per_bdv"
          },
          {
           "seeds_per_bdv": 3.363703020238102,
           "seeds_per_stalk": 2.4602009333073482,
           "stalk_per_bdv": 1.3672472742769588,
           "timestamp": "2022-09-12T00:00:00",
           "total_deposited_bdv": 40666919.023678,
           "total_seeds": 136791438.343724,
           "total_stalk": 55601734.18836555,
           "value": 136791438.343724,
           "variable": "total_seeds"
          },
          {
           "seeds_per_bdv": 3.363703020238102,
           "seeds_per_stalk": 2.4602009333073482,
           "stalk_per_bdv": 1.3672472742769588,
           "timestamp": "2022-09-12T00:00:00",
           "total_deposited_bdv": 40666919.023678,
           "total_seeds": 136791438.343724,
           "total_stalk": 55601734.18836555,
           "value": 55601734.18836555,
           "variable": "total_stalk"
          },
          {
           "seeds_per_bdv": 3.363703020238102,
           "seeds_per_stalk": 2.4602009333073482,
           "stalk_per_bdv": 1.3672472742769588,
           "timestamp": "2022-09-12T00:00:00",
           "total_deposited_bdv": 40666919.023678,
           "total_seeds": 136791438.343724,
           "total_stalk": 55601734.18836555,
           "value": 40666919.023678,
           "variable": "total_deposited_bdv"
          },
          {
           "seeds_per_bdv": 3.363703020238102,
           "seeds_per_stalk": 2.4602009333073482,
           "stalk_per_bdv": 1.3672472742769588,
           "timestamp": "2022-09-12T00:00:00",
           "total_deposited_bdv": 40666919.023678,
           "total_seeds": 136791438.343724,
           "total_stalk": 55601734.18836555,
           "value": 2.4602009333073482,
           "variable": "seeds_per_stalk"
          },
          {
           "seeds_per_bdv": 3.363703020238102,
           "seeds_per_stalk": 2.4602009333073482,
           "stalk_per_bdv": 1.3672472742769588,
           "timestamp": "2022-09-12T00:00:00",
           "total_deposited_bdv": 40666919.023678,
           "total_seeds": 136791438.343724,
           "total_stalk": 55601734.18836555,
           "value": 1.3672472742769588,
           "variable": "stalk_per_bdv"
          },
          {
           "seeds_per_bdv": 3.363703020238102,
           "seeds_per_stalk": 2.4602009333073482,
           "stalk_per_bdv": 1.3672472742769588,
           "timestamp": "2022-09-12T00:00:00",
           "total_deposited_bdv": 40666919.023678,
           "total_seeds": 136791438.343724,
           "total_stalk": 55601734.18836555,
           "value": 3.363703020238102,
           "variable": "seeds_per_bdv"
          },
          {
           "seeds_per_bdv": 3.3641266373958394,
           "seeds_per_stalk": 2.455763951984287,
           "stalk_per_bdv": 1.3698900640175877,
           "timestamp": "2022-09-13T00:00:00",
           "total_deposited_bdv": 40677313.340917,
           "total_seeds": 136843633.347876,
           "total_stalk": 55723447.37665226,
           "value": 136843633.347876,
           "variable": "total_seeds"
          },
          {
           "seeds_per_bdv": 3.3641266373958394,
           "seeds_per_stalk": 2.455763951984287,
           "stalk_per_bdv": 1.3698900640175877,
           "timestamp": "2022-09-13T00:00:00",
           "total_deposited_bdv": 40677313.340917,
           "total_seeds": 136843633.347876,
           "total_stalk": 55723447.37665226,
           "value": 55723447.37665226,
           "variable": "total_stalk"
          },
          {
           "seeds_per_bdv": 3.3641266373958394,
           "seeds_per_stalk": 2.455763951984287,
           "stalk_per_bdv": 1.3698900640175877,
           "timestamp": "2022-09-13T00:00:00",
           "total_deposited_bdv": 40677313.340917,
           "total_seeds": 136843633.347876,
           "total_stalk": 55723447.37665226,
           "value": 40677313.340917,
           "variable": "total_deposited_bdv"
          },
          {
           "seeds_per_bdv": 3.3641266373958394,
           "seeds_per_stalk": 2.455763951984287,
           "stalk_per_bdv": 1.3698900640175877,
           "timestamp": "2022-09-13T00:00:00",
           "total_deposited_bdv": 40677313.340917,
           "total_seeds": 136843633.347876,
           "total_stalk": 55723447.37665226,
           "value": 2.455763951984287,
           "variable": "seeds_per_stalk"
          },
          {
           "seeds_per_bdv": 3.3641266373958394,
           "seeds_per_stalk": 2.455763951984287,
           "stalk_per_bdv": 1.3698900640175877,
           "timestamp": "2022-09-13T00:00:00",
           "total_deposited_bdv": 40677313.340917,
           "total_seeds": 136843633.347876,
           "total_stalk": 55723447.37665226,
           "value": 1.3698900640175877,
           "variable": "stalk_per_bdv"
          },
          {
           "seeds_per_bdv": 3.3641266373958394,
           "seeds_per_stalk": 2.455763951984287,
           "stalk_per_bdv": 1.3698900640175877,
           "timestamp": "2022-09-13T00:00:00",
           "total_deposited_bdv": 40677313.340917,
           "total_seeds": 136843633.347876,
           "total_stalk": 55723447.37665226,
           "value": 3.3641266373958394,
           "variable": "seeds_per_bdv"
          },
          {
           "seeds_per_bdv": 3.3638549057516136,
           "seeds_per_stalk": 2.4513412076767227,
           "stalk_per_bdv": 1.372250788758915,
           "timestamp": "2022-09-14T00:00:00",
           "total_deposited_bdv": 40691557.002684,
           "total_seeds": 136880493.64615,
           "total_stalk": 55839021.192761466,
           "value": 136880493.64615,
           "variable": "total_seeds"
          },
          {
           "seeds_per_bdv": 3.3638549057516136,
           "seeds_per_stalk": 2.4513412076767227,
           "stalk_per_bdv": 1.372250788758915,
           "timestamp": "2022-09-14T00:00:00",
           "total_deposited_bdv": 40691557.002684,
           "total_seeds": 136880493.64615,
           "total_stalk": 55839021.192761466,
           "value": 55839021.192761466,
           "variable": "total_stalk"
          },
          {
           "seeds_per_bdv": 3.3638549057516136,
           "seeds_per_stalk": 2.4513412076767227,
           "stalk_per_bdv": 1.372250788758915,
           "timestamp": "2022-09-14T00:00:00",
           "total_deposited_bdv": 40691557.002684,
           "total_seeds": 136880493.64615,
           "total_stalk": 55839021.192761466,
           "value": 40691557.002684,
           "variable": "total_deposited_bdv"
          },
          {
           "seeds_per_bdv": 3.3638549057516136,
           "seeds_per_stalk": 2.4513412076767227,
           "stalk_per_bdv": 1.372250788758915,
           "timestamp": "2022-09-14T00:00:00",
           "total_deposited_bdv": 40691557.002684,
           "total_seeds": 136880493.64615,
           "total_stalk": 55839021.192761466,
           "value": 2.4513412076767227,
           "variable": "seeds_per_stalk"
          },
          {
           "seeds_per_bdv": 3.3638549057516136,
           "seeds_per_stalk": 2.4513412076767227,
           "stalk_per_bdv": 1.372250788758915,
           "timestamp": "2022-09-14T00:00:00",
           "total_deposited_bdv": 40691557.002684,
           "total_seeds": 136880493.64615,
           "total_stalk": 55839021.192761466,
           "value": 1.372250788758915,
           "variable": "stalk_per_bdv"
          },
          {
           "seeds_per_bdv": 3.3638549057516136,
           "seeds_per_stalk": 2.4513412076767227,
           "stalk_per_bdv": 1.372250788758915,
           "timestamp": "2022-09-14T00:00:00",
           "total_deposited_bdv": 40691557.002684,
           "total_seeds": 136880493.64615,
           "total_stalk": 55839021.192761466,
           "value": 3.3638549057516136,
           "variable": "seeds_per_bdv"
          },
          {
           "seeds_per_bdv": 3.364297539754056,
           "seeds_per_stalk": 2.445558338617223,
           "stalk_per_bdv": 1.375676665172629,
           "timestamp": "2022-09-15T00:00:00",
           "total_deposited_bdv": 40666685.4074,
           "total_seeds": 136814829.666068,
           "total_stalk": 55944210.164876446,
           "value": 136814829.666068,
           "variable": "total_seeds"
          },
          {
           "seeds_per_bdv": 3.364297539754056,
           "seeds_per_stalk": 2.445558338617223,
           "stalk_per_bdv": 1.375676665172629,
           "timestamp": "2022-09-15T00:00:00",
           "total_deposited_bdv": 40666685.4074,
           "total_seeds": 136814829.666068,
           "total_stalk": 55944210.164876446,
           "value": 55944210.164876446,
           "variable": "total_stalk"
          },
          {
           "seeds_per_bdv": 3.364297539754056,
           "seeds_per_stalk": 2.445558338617223,
           "stalk_per_bdv": 1.375676665172629,
           "timestamp": "2022-09-15T00:00:00",
           "total_deposited_bdv": 40666685.4074,
           "total_seeds": 136814829.666068,
           "total_stalk": 55944210.164876446,
           "value": 40666685.4074,
           "variable": "total_deposited_bdv"
          },
          {
           "seeds_per_bdv": 3.364297539754056,
           "seeds_per_stalk": 2.445558338617223,
           "stalk_per_bdv": 1.375676665172629,
           "timestamp": "2022-09-15T00:00:00",
           "total_deposited_bdv": 40666685.4074,
           "total_seeds": 136814829.666068,
           "total_stalk": 55944210.164876446,
           "value": 2.445558338617223,
           "variable": "seeds_per_stalk"
          },
          {
           "seeds_per_bdv": 3.364297539754056,
           "seeds_per_stalk": 2.445558338617223,
           "stalk_per_bdv": 1.375676665172629,
           "timestamp": "2022-09-15T00:00:00",
           "total_deposited_bdv": 40666685.4074,
           "total_seeds": 136814829.666068,
           "total_stalk": 55944210.164876446,
           "value": 1.375676665172629,
           "variable": "stalk_per_bdv"
          },
          {
           "seeds_per_bdv": 3.364297539754056,
           "seeds_per_stalk": 2.445558338617223,
           "stalk_per_bdv": 1.375676665172629,
           "timestamp": "2022-09-15T00:00:00",
           "total_deposited_bdv": 40666685.4074,
           "total_seeds": 136814829.666068,
           "total_stalk": 55944210.164876446,
           "value": 3.364297539754056,
           "variable": "seeds_per_bdv"
          },
          {
           "seeds_per_bdv": 3.3603144778357876,
           "seeds_per_stalk": 2.4344809637970912,
           "stalk_per_bdv": 1.380300165746485,
           "timestamp": "2022-09-16T00:00:00",
           "total_deposited_bdv": 40652084.951309,
           "total_seeds": 136603789.616094,
           "total_stalk": 56112079.596232004,
           "value": 136603789.616094,
           "variable": "total_seeds"
          },
          {
           "seeds_per_bdv": 3.3603144778357876,
           "seeds_per_stalk": 2.4344809637970912,
           "stalk_per_bdv": 1.380300165746485,
           "timestamp": "2022-09-16T00:00:00",
           "total_deposited_bdv": 40652084.951309,
           "total_seeds": 136603789.616094,
           "total_stalk": 56112079.596232004,
           "value": 56112079.596232004,
           "variable": "total_stalk"
          },
          {
           "seeds_per_bdv": 3.3603144778357876,
           "seeds_per_stalk": 2.4344809637970912,
           "stalk_per_bdv": 1.380300165746485,
           "timestamp": "2022-09-16T00:00:00",
           "total_deposited_bdv": 40652084.951309,
           "total_seeds": 136603789.616094,
           "total_stalk": 56112079.596232004,
           "value": 40652084.951309,
           "variable": "total_deposited_bdv"
          },
          {
           "seeds_per_bdv": 3.3603144778357876,
           "seeds_per_stalk": 2.4344809637970912,
           "stalk_per_bdv": 1.380300165746485,
           "timestamp": "2022-09-16T00:00:00",
           "total_deposited_bdv": 40652084.951309,
           "total_seeds": 136603789.616094,
           "total_stalk": 56112079.596232004,
           "value": 2.4344809637970912,
           "variable": "seeds_per_stalk"
          },
          {
           "seeds_per_bdv": 3.3603144778357876,
           "seeds_per_stalk": 2.4344809637970912,
           "stalk_per_bdv": 1.380300165746485,
           "timestamp": "2022-09-16T00:00:00",
           "total_deposited_bdv": 40652084.951309,
           "total_seeds": 136603789.616094,
           "total_stalk": 56112079.596232004,
           "value": 1.380300165746485,
           "variable": "stalk_per_bdv"
          },
          {
           "seeds_per_bdv": 3.3603144778357876,
           "seeds_per_stalk": 2.4344809637970912,
           "stalk_per_bdv": 1.380300165746485,
           "timestamp": "2022-09-16T00:00:00",
           "total_deposited_bdv": 40652084.951309,
           "total_seeds": 136603789.616094,
           "total_stalk": 56112079.596232004,
           "value": 3.3603144778357876,
           "variable": "seeds_per_bdv"
          },
          {
           "seeds_per_bdv": 3.3603059026354534,
           "seeds_per_stalk": 2.4310850655262297,
           "stalk_per_bdv": 1.3822247317816851,
           "timestamp": "2022-09-17T00:00:00",
           "total_deposited_bdv": 40652972.26472,
           "total_seeds": 136606422.660814,
           "total_stalk": 56191543.68473089,
           "value": 136606422.660814,
           "variable": "total_seeds"
          },
          {
           "seeds_per_bdv": 3.3603059026354534,
           "seeds_per_stalk": 2.4310850655262297,
           "stalk_per_bdv": 1.3822247317816851,
           "timestamp": "2022-09-17T00:00:00",
           "total_deposited_bdv": 40652972.26472,
           "total_seeds": 136606422.660814,
           "total_stalk": 56191543.68473089,
           "value": 56191543.68473089,
           "variable": "total_stalk"
          },
          {
           "seeds_per_bdv": 3.3603059026354534,
           "seeds_per_stalk": 2.4310850655262297,
           "stalk_per_bdv": 1.3822247317816851,
           "timestamp": "2022-09-17T00:00:00",
           "total_deposited_bdv": 40652972.26472,
           "total_seeds": 136606422.660814,
           "total_stalk": 56191543.68473089,
           "value": 40652972.26472,
           "variable": "total_deposited_bdv"
          },
          {
           "seeds_per_bdv": 3.3603059026354534,
           "seeds_per_stalk": 2.4310850655262297,
           "stalk_per_bdv": 1.3822247317816851,
           "timestamp": "2022-09-17T00:00:00",
           "total_deposited_bdv": 40652972.26472,
           "total_seeds": 136606422.660814,
           "total_stalk": 56191543.68473089,
           "value": 2.4310850655262297,
           "variable": "seeds_per_stalk"
          },
          {
           "seeds_per_bdv": 3.3603059026354534,
           "seeds_per_stalk": 2.4310850655262297,
           "stalk_per_bdv": 1.3822247317816851,
           "timestamp": "2022-09-17T00:00:00",
           "total_deposited_bdv": 40652972.26472,
           "total_seeds": 136606422.660814,
           "total_stalk": 56191543.68473089,
           "value": 1.3822247317816851,
           "variable": "stalk_per_bdv"
          },
          {
           "seeds_per_bdv": 3.3603059026354534,
           "seeds_per_stalk": 2.4310850655262297,
           "stalk_per_bdv": 1.3822247317816851,
           "timestamp": "2022-09-17T00:00:00",
           "total_deposited_bdv": 40652972.26472,
           "total_seeds": 136606422.660814,
           "total_stalk": 56191543.68473089,
           "value": 3.3603059026354534,
           "variable": "seeds_per_bdv"
          },
          {
           "seeds_per_bdv": 3.3603864722426904,
           "seeds_per_stalk": 2.4254185005598994,
           "stalk_per_bdv": 1.3854872763059063,
           "timestamp": "2022-09-18T00:00:00",
           "total_deposited_bdv": 40651785.506719,
           "total_seeds": 136605710.08929,
           "total_stalk": 56322531.57867602,
           "value": 136605710.08929,
           "variable": "total_seeds"
          },
          {
           "seeds_per_bdv": 3.3603864722426904,
           "seeds_per_stalk": 2.4254185005598994,
           "stalk_per_bdv": 1.3854872763059063,
           "timestamp": "2022-09-18T00:00:00",
           "total_deposited_bdv": 40651785.506719,
           "total_seeds": 136605710.08929,
           "total_stalk": 56322531.57867602,
           "value": 56322531.57867602,
           "variable": "total_stalk"
          },
          {
           "seeds_per_bdv": 3.3603864722426904,
           "seeds_per_stalk": 2.4254185005598994,
           "stalk_per_bdv": 1.3854872763059063,
           "timestamp": "2022-09-18T00:00:00",
           "total_deposited_bdv": 40651785.506719,
           "total_seeds": 136605710.08929,
           "total_stalk": 56322531.57867602,
           "value": 40651785.506719,
           "variable": "total_deposited_bdv"
          },
          {
           "seeds_per_bdv": 3.3603864722426904,
           "seeds_per_stalk": 2.4254185005598994,
           "stalk_per_bdv": 1.3854872763059063,
           "timestamp": "2022-09-18T00:00:00",
           "total_deposited_bdv": 40651785.506719,
           "total_seeds": 136605710.08929,
           "total_stalk": 56322531.57867602,
           "value": 2.4254185005598994,
           "variable": "seeds_per_stalk"
          },
          {
           "seeds_per_bdv": 3.3603864722426904,
           "seeds_per_stalk": 2.4254185005598994,
           "stalk_per_bdv": 1.3854872763059063,
           "timestamp": "2022-09-18T00:00:00",
           "total_deposited_bdv": 40651785.506719,
           "total_seeds": 136605710.08929,
           "total_stalk": 56322531.57867602,
           "value": 1.3854872763059063,
           "variable": "stalk_per_bdv"
          },
          {
           "seeds_per_bdv": 3.3603864722426904,
           "seeds_per_stalk": 2.4254185005598994,
           "stalk_per_bdv": 1.3854872763059063,
           "timestamp": "2022-09-18T00:00:00",
           "total_deposited_bdv": 40651785.506719,
           "total_seeds": 136605710.08929,
           "total_stalk": 56322531.57867602,
           "value": 3.3603864722426904,
           "variable": "seeds_per_bdv"
          },
          {
           "seeds_per_bdv": 3.347667280158771,
           "seeds_per_stalk": 2.4001019775692423,
           "stalk_per_bdv": 1.3948021006795708,
           "timestamp": "2022-09-19T00:00:00",
           "total_deposited_bdv": 40244918.443045,
           "total_seeds": 134726596.66444,
           "total_stalk": 56133696.78603716,
           "value": 134726596.66444,
           "variable": "total_seeds"
          },
          {
           "seeds_per_bdv": 3.347667280158771,
           "seeds_per_stalk": 2.4001019775692423,
           "stalk_per_bdv": 1.3948021006795708,
           "timestamp": "2022-09-19T00:00:00",
           "total_deposited_bdv": 40244918.443045,
           "total_seeds": 134726596.66444,
           "total_stalk": 56133696.78603716,
           "value": 56133696.78603716,
           "variable": "total_stalk"
          },
          {
           "seeds_per_bdv": 3.347667280158771,
           "seeds_per_stalk": 2.4001019775692423,
           "stalk_per_bdv": 1.3948021006795708,
           "timestamp": "2022-09-19T00:00:00",
           "total_deposited_bdv": 40244918.443045,
           "total_seeds": 134726596.66444,
           "total_stalk": 56133696.78603716,
           "value": 40244918.443045,
           "variable": "total_deposited_bdv"
          },
          {
           "seeds_per_bdv": 3.347667280158771,
           "seeds_per_stalk": 2.4001019775692423,
           "stalk_per_bdv": 1.3948021006795708,
           "timestamp": "2022-09-19T00:00:00",
           "total_deposited_bdv": 40244918.443045,
           "total_seeds": 134726596.66444,
           "total_stalk": 56133696.78603716,
           "value": 2.4001019775692423,
           "variable": "seeds_per_stalk"
          },
          {
           "seeds_per_bdv": 3.347667280158771,
           "seeds_per_stalk": 2.4001019775692423,
           "stalk_per_bdv": 1.3948021006795708,
           "timestamp": "2022-09-19T00:00:00",
           "total_deposited_bdv": 40244918.443045,
           "total_seeds": 134726596.66444,
           "total_stalk": 56133696.78603716,
           "value": 1.3948021006795708,
           "variable": "stalk_per_bdv"
          },
          {
           "seeds_per_bdv": 3.347667280158771,
           "seeds_per_stalk": 2.4001019775692423,
           "stalk_per_bdv": 1.3948021006795708,
           "timestamp": "2022-09-19T00:00:00",
           "total_deposited_bdv": 40244918.443045,
           "total_seeds": 134726596.66444,
           "total_stalk": 56133696.78603716,
           "value": 3.347667280158771,
           "variable": "seeds_per_bdv"
          },
          {
           "seeds_per_bdv": 3.3415787406395077,
           "seeds_per_stalk": 2.3901874593214645,
           "stalk_per_bdv": 1.398040445575816,
           "timestamp": "2022-09-20T00:00:00",
           "total_deposited_bdv": 40239669.026844,
           "total_seeds": 134464022.550472,
           "total_stalk": 56256684.816112354,
           "value": 134464022.550472,
           "variable": "total_seeds"
          },
          {
           "seeds_per_bdv": 3.3415787406395077,
           "seeds_per_stalk": 2.3901874593214645,
           "stalk_per_bdv": 1.398040445575816,
           "timestamp": "2022-09-20T00:00:00",
           "total_deposited_bdv": 40239669.026844,
           "total_seeds": 134464022.550472,
           "total_stalk": 56256684.816112354,
           "value": 56256684.816112354,
           "variable": "total_stalk"
          },
          {
           "seeds_per_bdv": 3.3415787406395077,
           "seeds_per_stalk": 2.3901874593214645,
           "stalk_per_bdv": 1.398040445575816,
           "timestamp": "2022-09-20T00:00:00",
           "total_deposited_bdv": 40239669.026844,
           "total_seeds": 134464022.550472,
           "total_stalk": 56256684.816112354,
           "value": 40239669.026844,
           "variable": "total_deposited_bdv"
          },
          {
           "seeds_per_bdv": 3.3415787406395077,
           "seeds_per_stalk": 2.3901874593214645,
           "stalk_per_bdv": 1.398040445575816,
           "timestamp": "2022-09-20T00:00:00",
           "total_deposited_bdv": 40239669.026844,
           "total_seeds": 134464022.550472,
           "total_stalk": 56256684.816112354,
           "value": 2.3901874593214645,
           "variable": "seeds_per_stalk"
          },
          {
           "seeds_per_bdv": 3.3415787406395077,
           "seeds_per_stalk": 2.3901874593214645,
           "stalk_per_bdv": 1.398040445575816,
           "timestamp": "2022-09-20T00:00:00",
           "total_deposited_bdv": 40239669.026844,
           "total_seeds": 134464022.550472,
           "total_stalk": 56256684.816112354,
           "value": 1.398040445575816,
           "variable": "stalk_per_bdv"
          },
          {
           "seeds_per_bdv": 3.3415787406395077,
           "seeds_per_stalk": 2.3901874593214645,
           "stalk_per_bdv": 1.398040445575816,
           "timestamp": "2022-09-20T00:00:00",
           "total_deposited_bdv": 40239669.026844,
           "total_seeds": 134464022.550472,
           "total_stalk": 56256684.816112354,
           "value": 3.3415787406395077,
           "variable": "seeds_per_bdv"
          },
          {
           "seeds_per_bdv": 3.341178191550839,
           "seeds_per_stalk": 2.383579334090375,
           "stalk_per_bdv": 1.4017482631119993,
           "timestamp": "2022-09-21T00:00:00",
           "total_deposited_bdv": 40236651.798708,
           "total_seeds": 134437823.490868,
           "total_stalk": 56401656.77228124,
           "value": 134437823.490868,
           "variable": "total_seeds"
          },
          {
           "seeds_per_bdv": 3.341178191550839,
           "seeds_per_stalk": 2.383579334090375,
           "stalk_per_bdv": 1.4017482631119993,
           "timestamp": "2022-09-21T00:00:00",
           "total_deposited_bdv": 40236651.798708,
           "total_seeds": 134437823.490868,
           "total_stalk": 56401656.77228124,
           "value": 56401656.77228124,
           "variable": "total_stalk"
          },
          {
           "seeds_per_bdv": 3.341178191550839,
           "seeds_per_stalk": 2.383579334090375,
           "stalk_per_bdv": 1.4017482631119993,
           "timestamp": "2022-09-21T00:00:00",
           "total_deposited_bdv": 40236651.798708,
           "total_seeds": 134437823.490868,
           "total_stalk": 56401656.77228124,
           "value": 40236651.798708,
           "variable": "total_deposited_bdv"
          },
          {
           "seeds_per_bdv": 3.341178191550839,
           "seeds_per_stalk": 2.383579334090375,
           "stalk_per_bdv": 1.4017482631119993,
           "timestamp": "2022-09-21T00:00:00",
           "total_deposited_bdv": 40236651.798708,
           "total_seeds": 134437823.490868,
           "total_stalk": 56401656.77228124,
           "value": 2.383579334090375,
           "variable": "seeds_per_stalk"
          },
          {
           "seeds_per_bdv": 3.341178191550839,
           "seeds_per_stalk": 2.383579334090375,
           "stalk_per_bdv": 1.4017482631119993,
           "timestamp": "2022-09-21T00:00:00",
           "total_deposited_bdv": 40236651.798708,
           "total_seeds": 134437823.490868,
           "total_stalk": 56401656.77228124,
           "value": 1.4017482631119993,
           "variable": "stalk_per_bdv"
          },
          {
           "seeds_per_bdv": 3.341178191550839,
           "seeds_per_stalk": 2.383579334090375,
           "stalk_per_bdv": 1.4017482631119993,
           "timestamp": "2022-09-21T00:00:00",
           "total_deposited_bdv": 40236651.798708,
           "total_seeds": 134437823.490868,
           "total_stalk": 56401656.77228124,
           "value": 3.341178191550839,
           "variable": "seeds_per_bdv"
          },
          {
           "seeds_per_bdv": 3.3414448704946076,
           "seeds_per_stalk": 2.3780800657292804,
           "stalk_per_bdv": 1.4051019217765042,
           "timestamp": "2022-09-22T00:00:00",
           "total_deposited_bdv": 40239579.937693,
           "total_seeds": 134458337.973662,
           "total_stalk": 56540711.1019317,
           "value": 134458337.973662,
           "variable": "total_seeds"
          },
          {
           "seeds_per_bdv": 3.3414448704946076,
           "seeds_per_stalk": 2.3780800657292804,
           "stalk_per_bdv": 1.4051019217765042,
           "timestamp": "2022-09-22T00:00:00",
           "total_deposited_bdv": 40239579.937693,
           "total_seeds": 134458337.973662,
           "total_stalk": 56540711.1019317,
           "value": 56540711.1019317,
           "variable": "total_stalk"
          },
          {
           "seeds_per_bdv": 3.3414448704946076,
           "seeds_per_stalk": 2.3780800657292804,
           "stalk_per_bdv": 1.4051019217765042,
           "timestamp": "2022-09-22T00:00:00",
           "total_deposited_bdv": 40239579.937693,
           "total_seeds": 134458337.973662,
           "total_stalk": 56540711.1019317,
           "value": 40239579.937693,
           "variable": "total_deposited_bdv"
          },
          {
           "seeds_per_bdv": 3.3414448704946076,
           "seeds_per_stalk": 2.3780800657292804,
           "stalk_per_bdv": 1.4051019217765042,
           "timestamp": "2022-09-22T00:00:00",
           "total_deposited_bdv": 40239579.937693,
           "total_seeds": 134458337.973662,
           "total_stalk": 56540711.1019317,
           "value": 2.3780800657292804,
           "variable": "seeds_per_stalk"
          },
          {
           "seeds_per_bdv": 3.3414448704946076,
           "seeds_per_stalk": 2.3780800657292804,
           "stalk_per_bdv": 1.4051019217765042,
           "timestamp": "2022-09-22T00:00:00",
           "total_deposited_bdv": 40239579.937693,
           "total_seeds": 134458337.973662,
           "total_stalk": 56540711.1019317,
           "value": 1.4051019217765042,
           "variable": "stalk_per_bdv"
          },
          {
           "seeds_per_bdv": 3.3414448704946076,
           "seeds_per_stalk": 2.3780800657292804,
           "stalk_per_bdv": 1.4051019217765042,
           "timestamp": "2022-09-22T00:00:00",
           "total_deposited_bdv": 40239579.937693,
           "total_seeds": 134458337.973662,
           "total_stalk": 56540711.1019317,
           "value": 3.3414448704946076,
           "variable": "seeds_per_bdv"
          },
          {
           "seeds_per_bdv": 3.341331946399429,
           "seeds_per_stalk": 2.375601501675986,
           "stalk_per_bdv": 1.4065203882225703,
           "timestamp": "2022-09-23T00:00:00",
           "total_deposited_bdv": 40240918.258485,
           "total_seeds": 134458265.729524,
           "total_stalk": 56599671.97135703,
           "value": 134458265.729524,
           "variable": "total_seeds"
          },
          {
           "seeds_per_bdv": 3.341331946399429,
           "seeds_per_stalk": 2.375601501675986,
           "stalk_per_bdv": 1.4065203882225703,
           "timestamp": "2022-09-23T00:00:00",
           "total_deposited_bdv": 40240918.258485,
           "total_seeds": 134458265.729524,
           "total_stalk": 56599671.97135703,
           "value": 56599671.97135703,
           "variable": "total_stalk"
          },
          {
           "seeds_per_bdv": 3.341331946399429,
           "seeds_per_stalk": 2.375601501675986,
           "stalk_per_bdv": 1.4065203882225703,
           "timestamp": "2022-09-23T00:00:00",
           "total_deposited_bdv": 40240918.258485,
           "total_seeds": 134458265.729524,
           "total_stalk": 56599671.97135703,
           "value": 40240918.258485,
           "variable": "total_deposited_bdv"
          },
          {
           "seeds_per_bdv": 3.341331946399429,
           "seeds_per_stalk": 2.375601501675986,
           "stalk_per_bdv": 1.4065203882225703,
           "timestamp": "2022-09-23T00:00:00",
           "total_deposited_bdv": 40240918.258485,
           "total_seeds": 134458265.729524,
           "total_stalk": 56599671.97135703,
           "value": 2.375601501675986,
           "variable": "seeds_per_stalk"
          },
          {
           "seeds_per_bdv": 3.341331946399429,
           "seeds_per_stalk": 2.375601501675986,
           "stalk_per_bdv": 1.4065203882225703,
           "timestamp": "2022-09-23T00:00:00",
           "total_deposited_bdv": 40240918.258485,
           "total_seeds": 134458265.729524,
           "total_stalk": 56599671.97135703,
           "value": 1.4065203882225703,
           "variable": "stalk_per_bdv"
          },
          {
           "seeds_per_bdv": 3.341331946399429,
           "seeds_per_stalk": 2.375601501675986,
           "stalk_per_bdv": 1.4065203882225703,
           "timestamp": "2022-09-23T00:00:00",
           "total_deposited_bdv": 40240918.258485,
           "total_seeds": 134458265.729524,
           "total_stalk": 56599671.97135703,
           "value": 3.341331946399429,
           "variable": "seeds_per_bdv"
          },
          {
           "seeds_per_bdv": 3.341441616791302,
           "seeds_per_stalk": 2.3736194702760924,
           "stalk_per_bdv": 1.407741071656543,
           "timestamp": "2022-09-24T00:00:00",
           "total_deposited_bdv": 40237278.231398,
           "total_seeds": 134450516.028804,
           "total_stalk": 56643669.17801071,
           "value": 134450516.028804,
           "variable": "total_seeds"
          },
          {
           "seeds_per_bdv": 3.341441616791302,
           "seeds_per_stalk": 2.3736194702760924,
           "stalk_per_bdv": 1.407741071656543,
           "timestamp": "2022-09-24T00:00:00",
           "total_deposited_bdv": 40237278.231398,
           "total_seeds": 134450516.028804,
           "total_stalk": 56643669.17801071,
           "value": 56643669.17801071,
           "variable": "total_stalk"
          },
          {
           "seeds_per_bdv": 3.341441616791302,
           "seeds_per_stalk": 2.3736194702760924,
           "stalk_per_bdv": 1.407741071656543,
           "timestamp": "2022-09-24T00:00:00",
           "total_deposited_bdv": 40237278.231398,
           "total_seeds": 134450516.028804,
           "total_stalk": 56643669.17801071,
           "value": 40237278.231398,
           "variable": "total_deposited_bdv"
          },
          {
           "seeds_per_bdv": 3.341441616791302,
           "seeds_per_stalk": 2.3736194702760924,
           "stalk_per_bdv": 1.407741071656543,
           "timestamp": "2022-09-24T00:00:00",
           "total_deposited_bdv": 40237278.231398,
           "total_seeds": 134450516.028804,
           "total_stalk": 56643669.17801071,
           "value": 2.3736194702760924,
           "variable": "seeds_per_stalk"
          },
          {
           "seeds_per_bdv": 3.341441616791302,
           "seeds_per_stalk": 2.3736194702760924,
           "stalk_per_bdv": 1.407741071656543,
           "timestamp": "2022-09-24T00:00:00",
           "total_deposited_bdv": 40237278.231398,
           "total_seeds": 134450516.028804,
           "total_stalk": 56643669.17801071,
           "value": 1.407741071656543,
           "variable": "stalk_per_bdv"
          },
          {
           "seeds_per_bdv": 3.341441616791302,
           "seeds_per_stalk": 2.3736194702760924,
           "stalk_per_bdv": 1.407741071656543,
           "timestamp": "2022-09-24T00:00:00",
           "total_deposited_bdv": 40237278.231398,
           "total_seeds": 134450516.028804,
           "total_stalk": 56643669.17801071,
           "value": 3.341441616791302,
           "variable": "seeds_per_bdv"
          },
          {
           "seeds_per_bdv": 3.341323654602676,
           "seeds_per_stalk": 2.3723550385890046,
           "stalk_per_bdv": 1.4084416540746705,
           "timestamp": "2022-09-25T00:00:00",
           "total_deposited_bdv": 40236695.541752,
           "total_seeds": 134443822.596702,
           "total_stalk": 56671038.02332411,
           "value": 134443822.596702,
           "variable": "total_seeds"
          },
          {
           "seeds_per_bdv": 3.341323654602676,
           "seeds_per_stalk": 2.3723550385890046,
           "stalk_per_bdv": 1.4084416540746705,
           "timestamp": "2022-09-25T00:00:00",
           "total_deposited_bdv": 40236695.541752,
           "total_seeds": 134443822.596702,
           "total_stalk": 56671038.02332411,
           "value": 56671038.02332411,
           "variable": "total_stalk"
          },
          {
           "seeds_per_bdv": 3.341323654602676,
           "seeds_per_stalk": 2.3723550385890046,
           "stalk_per_bdv": 1.4084416540746705,
           "timestamp": "2022-09-25T00:00:00",
           "total_deposited_bdv": 40236695.541752,
           "total_seeds": 134443822.596702,
           "total_stalk": 56671038.02332411,
           "value": 40236695.541752,
           "variable": "total_deposited_bdv"
          },
          {
           "seeds_per_bdv": 3.341323654602676,
           "seeds_per_stalk": 2.3723550385890046,
           "stalk_per_bdv": 1.4084416540746705,
           "timestamp": "2022-09-25T00:00:00",
           "total_deposited_bdv": 40236695.541752,
           "total_seeds": 134443822.596702,
           "total_stalk": 56671038.02332411,
           "value": 2.3723550385890046,
           "variable": "seeds_per_stalk"
          },
          {
           "seeds_per_bdv": 3.341323654602676,
           "seeds_per_stalk": 2.3723550385890046,
           "stalk_per_bdv": 1.4084416540746705,
           "timestamp": "2022-09-25T00:00:00",
           "total_deposited_bdv": 40236695.541752,
           "total_seeds": 134443822.596702,
           "total_stalk": 56671038.02332411,
           "value": 1.4084416540746705,
           "variable": "stalk_per_bdv"
          },
          {
           "seeds_per_bdv": 3.341323654602676,
           "seeds_per_stalk": 2.3723550385890046,
           "stalk_per_bdv": 1.4084416540746705,
           "timestamp": "2022-09-25T00:00:00",
           "total_deposited_bdv": 40236695.541752,
           "total_seeds": 134443822.596702,
           "total_stalk": 56671038.02332411,
           "value": 3.341323654602676,
           "variable": "seeds_per_bdv"
          },
          {
           "seeds_per_bdv": 3.3416915509593195,
           "seeds_per_stalk": 2.3481810136669514,
           "stalk_per_bdv": 1.4230979347460477,
           "timestamp": "2022-09-26T00:00:00",
           "total_deposited_bdv": 40248226.667543,
           "total_seeds": 134497158.996024,
           "total_stalk": 57277168.24777125,
           "value": 134497158.996024,
           "variable": "total_seeds"
          },
          {
           "seeds_per_bdv": 3.3416915509593195,
           "seeds_per_stalk": 2.3481810136669514,
           "stalk_per_bdv": 1.4230979347460477,
           "timestamp": "2022-09-26T00:00:00",
           "total_deposited_bdv": 40248226.667543,
           "total_seeds": 134497158.996024,
           "total_stalk": 57277168.24777125,
           "value": 57277168.24777125,
           "variable": "total_stalk"
          },
          {
           "seeds_per_bdv": 3.3416915509593195,
           "seeds_per_stalk": 2.3481810136669514,
           "stalk_per_bdv": 1.4230979347460477,
           "timestamp": "2022-09-26T00:00:00",
           "total_deposited_bdv": 40248226.667543,
           "total_seeds": 134497158.996024,
           "total_stalk": 57277168.24777125,
           "value": 40248226.667543,
           "variable": "total_deposited_bdv"
          },
          {
           "seeds_per_bdv": 3.3416915509593195,
           "seeds_per_stalk": 2.3481810136669514,
           "stalk_per_bdv": 1.4230979347460477,
           "timestamp": "2022-09-26T00:00:00",
           "total_deposited_bdv": 40248226.667543,
           "total_seeds": 134497158.996024,
           "total_stalk": 57277168.24777125,
           "value": 2.3481810136669514,
           "variable": "seeds_per_stalk"
          },
          {
           "seeds_per_bdv": 3.3416915509593195,
           "seeds_per_stalk": 2.3481810136669514,
           "stalk_per_bdv": 1.4230979347460477,
           "timestamp": "2022-09-26T00:00:00",
           "total_deposited_bdv": 40248226.667543,
           "total_seeds": 134497158.996024,
           "total_stalk": 57277168.24777125,
           "value": 1.4230979347460477,
           "variable": "stalk_per_bdv"
          },
          {
           "seeds_per_bdv": 3.3416915509593195,
           "seeds_per_stalk": 2.3481810136669514,
           "stalk_per_bdv": 1.4230979347460477,
           "timestamp": "2022-09-26T00:00:00",
           "total_deposited_bdv": 40248226.667543,
           "total_seeds": 134497158.996024,
           "total_stalk": 57277168.24777125,
           "value": 3.3416915509593195,
           "variable": "seeds_per_bdv"
          },
          {
           "seeds_per_bdv": 3.3416031641188035,
           "seeds_per_stalk": 2.3438988170451807,
           "stalk_per_bdv": 1.425660160676804,
           "timestamp": "2022-09-27T00:00:00",
           "total_deposited_bdv": 40228508.294896,
           "total_seeds": 134427710.606004,
           "total_stalk": 57352181.59948958,
           "value": 134427710.606004,
           "variable": "total_seeds"
          },
          {
           "seeds_per_bdv": 3.3416031641188035,
           "seeds_per_stalk": 2.3438988170451807,
           "stalk_per_bdv": 1.425660160676804,
           "timestamp": "2022-09-27T00:00:00",
           "total_deposited_bdv": 40228508.294896,
           "total_seeds": 134427710.606004,
           "total_stalk": 57352181.59948958,
           "value": 57352181.59948958,
           "variable": "total_stalk"
          },
          {
           "seeds_per_bdv": 3.3416031641188035,
           "seeds_per_stalk": 2.3438988170451807,
           "stalk_per_bdv": 1.425660160676804,
           "timestamp": "2022-09-27T00:00:00",
           "total_deposited_bdv": 40228508.294896,
           "total_seeds": 134427710.606004,
           "total_stalk": 57352181.59948958,
           "value": 40228508.294896,
           "variable": "total_deposited_bdv"
          },
          {
           "seeds_per_bdv": 3.3416031641188035,
           "seeds_per_stalk": 2.3438988170451807,
           "stalk_per_bdv": 1.425660160676804,
           "timestamp": "2022-09-27T00:00:00",
           "total_deposited_bdv": 40228508.294896,
           "total_seeds": 134427710.606004,
           "total_stalk": 57352181.59948958,
           "value": 2.3438988170451807,
           "variable": "seeds_per_stalk"
          },
          {
           "seeds_per_bdv": 3.3416031641188035,
           "seeds_per_stalk": 2.3438988170451807,
           "stalk_per_bdv": 1.425660160676804,
           "timestamp": "2022-09-27T00:00:00",
           "total_deposited_bdv": 40228508.294896,
           "total_seeds": 134427710.606004,
           "total_stalk": 57352181.59948958,
           "value": 1.425660160676804,
           "variable": "stalk_per_bdv"
          },
          {
           "seeds_per_bdv": 3.3416031641188035,
           "seeds_per_stalk": 2.3438988170451807,
           "stalk_per_bdv": 1.425660160676804,
           "timestamp": "2022-09-27T00:00:00",
           "total_deposited_bdv": 40228508.294896,
           "total_seeds": 134427710.606004,
           "total_stalk": 57352181.59948958,
           "value": 3.3416031641188035,
           "variable": "seeds_per_bdv"
          },
          {
           "seeds_per_bdv": 3.3391723109063456,
           "seeds_per_stalk": 2.339420549393073,
           "stalk_per_bdv": 1.427350166592596,
           "timestamp": "2022-09-28T00:00:00",
           "total_deposited_bdv": 40223036.525358,
           "total_seeds": 134311649.82605,
           "total_stalk": 57412357.88532982,
           "value": 134311649.82605,
           "variable": "total_seeds"
          },
          {
           "seeds_per_bdv": 3.3391723109063456,
           "seeds_per_stalk": 2.339420549393073,
           "stalk_per_bdv": 1.427350166592596,
           "timestamp": "2022-09-28T00:00:00",
           "total_deposited_bdv": 40223036.525358,
           "total_seeds": 134311649.82605,
           "total_stalk": 57412357.88532982,
           "value": 57412357.88532982,
           "variable": "total_stalk"
          },
          {
           "seeds_per_bdv": 3.3391723109063456,
           "seeds_per_stalk": 2.339420549393073,
           "stalk_per_bdv": 1.427350166592596,
           "timestamp": "2022-09-28T00:00:00",
           "total_deposited_bdv": 40223036.525358,
           "total_seeds": 134311649.82605,
           "total_stalk": 57412357.88532982,
           "value": 40223036.525358,
           "variable": "total_deposited_bdv"
          },
          {
           "seeds_per_bdv": 3.3391723109063456,
           "seeds_per_stalk": 2.339420549393073,
           "stalk_per_bdv": 1.427350166592596,
           "timestamp": "2022-09-28T00:00:00",
           "total_deposited_bdv": 40223036.525358,
           "total_seeds": 134311649.82605,
           "total_stalk": 57412357.88532982,
           "value": 2.339420549393073,
           "variable": "seeds_per_stalk"
          },
          {
           "seeds_per_bdv": 3.3391723109063456,
           "seeds_per_stalk": 2.339420549393073,
           "stalk_per_bdv": 1.427350166592596,
           "timestamp": "2022-09-28T00:00:00",
           "total_deposited_bdv": 40223036.525358,
           "total_seeds": 134311649.82605,
           "total_stalk": 57412357.88532982,
           "value": 1.427350166592596,
           "variable": "stalk_per_bdv"
          },
          {
           "seeds_per_bdv": 3.3391723109063456,
           "seeds_per_stalk": 2.339420549393073,
           "stalk_per_bdv": 1.427350166592596,
           "timestamp": "2022-09-28T00:00:00",
           "total_deposited_bdv": 40223036.525358,
           "total_seeds": 134311649.82605,
           "total_stalk": 57412357.88532982,
           "value": 3.3391723109063456,
           "variable": "seeds_per_bdv"
          },
          {
           "seeds_per_bdv": 3.3397987339238084,
           "seeds_per_stalk": 2.3257328159675246,
           "stalk_per_bdv": 1.4360199550843176,
           "timestamp": "2022-09-29T00:00:00",
           "total_deposited_bdv": 40227518.2545,
           "total_seeds": 134351814.535276,
           "total_stalk": 57767518.95698066,
           "value": 134351814.535276,
           "variable": "total_seeds"
          },
          {
           "seeds_per_bdv": 3.3397987339238084,
           "seeds_per_stalk": 2.3257328159675246,
           "stalk_per_bdv": 1.4360199550843176,
           "timestamp": "2022-09-29T00:00:00",
           "total_deposited_bdv": 40227518.2545,
           "total_seeds": 134351814.535276,
           "total_stalk": 57767518.95698066,
           "value": 57767518.95698066,
           "variable": "total_stalk"
          },
          {
           "seeds_per_bdv": 3.3397987339238084,
           "seeds_per_stalk": 2.3257328159675246,
           "stalk_per_bdv": 1.4360199550843176,
           "timestamp": "2022-09-29T00:00:00",
           "total_deposited_bdv": 40227518.2545,
           "total_seeds": 134351814.535276,
           "total_stalk": 57767518.95698066,
           "value": 40227518.2545,
           "variable": "total_deposited_bdv"
          },
          {
           "seeds_per_bdv": 3.3397987339238084,
           "seeds_per_stalk": 2.3257328159675246,
           "stalk_per_bdv": 1.4360199550843176,
           "timestamp": "2022-09-29T00:00:00",
           "total_deposited_bdv": 40227518.2545,
           "total_seeds": 134351814.535276,
           "total_stalk": 57767518.95698066,
           "value": 2.3257328159675246,
           "variable": "seeds_per_stalk"
          },
          {
           "seeds_per_bdv": 3.3397987339238084,
           "seeds_per_stalk": 2.3257328159675246,
           "stalk_per_bdv": 1.4360199550843176,
           "timestamp": "2022-09-29T00:00:00",
           "total_deposited_bdv": 40227518.2545,
           "total_seeds": 134351814.535276,
           "total_stalk": 57767518.95698066,
           "value": 1.4360199550843176,
           "variable": "stalk_per_bdv"
          },
          {
           "seeds_per_bdv": 3.3397987339238084,
           "seeds_per_stalk": 2.3257328159675246,
           "stalk_per_bdv": 1.4360199550843176,
           "timestamp": "2022-09-29T00:00:00",
           "total_deposited_bdv": 40227518.2545,
           "total_seeds": 134351814.535276,
           "total_stalk": 57767518.95698066,
           "value": 3.3397987339238084,
           "variable": "seeds_per_bdv"
          },
          {
           "seeds_per_bdv": 3.3407131298731874,
           "seeds_per_stalk": 2.3221493529371555,
           "stalk_per_bdv": 1.4386297443132623,
           "timestamp": "2022-09-30T00:00:00",
           "total_deposited_bdv": 40201497.097444,
           "total_seeds": 134301669.19399,
           "total_stalk": 57835069.49030621,
           "value": 134301669.19399,
           "variable": "total_seeds"
          },
          {
           "seeds_per_bdv": 3.3407131298731874,
           "seeds_per_stalk": 2.3221493529371555,
           "stalk_per_bdv": 1.4386297443132623,
           "timestamp": "2022-09-30T00:00:00",
           "total_deposited_bdv": 40201497.097444,
           "total_seeds": 134301669.19399,
           "total_stalk": 57835069.49030621,
           "value": 57835069.49030621,
           "variable": "total_stalk"
          },
          {
           "seeds_per_bdv": 3.3407131298731874,
           "seeds_per_stalk": 2.3221493529371555,
           "stalk_per_bdv": 1.4386297443132623,
           "timestamp": "2022-09-30T00:00:00",
           "total_deposited_bdv": 40201497.097444,
           "total_seeds": 134301669.19399,
           "total_stalk": 57835069.49030621,
           "value": 40201497.097444,
           "variable": "total_deposited_bdv"
          },
          {
           "seeds_per_bdv": 3.3407131298731874,
           "seeds_per_stalk": 2.3221493529371555,
           "stalk_per_bdv": 1.4386297443132623,
           "timestamp": "2022-09-30T00:00:00",
           "total_deposited_bdv": 40201497.097444,
           "total_seeds": 134301669.19399,
           "total_stalk": 57835069.49030621,
           "value": 2.3221493529371555,
           "variable": "seeds_per_stalk"
          },
          {
           "seeds_per_bdv": 3.3407131298731874,
           "seeds_per_stalk": 2.3221493529371555,
           "stalk_per_bdv": 1.4386297443132623,
           "timestamp": "2022-09-30T00:00:00",
           "total_deposited_bdv": 40201497.097444,
           "total_seeds": 134301669.19399,
           "total_stalk": 57835069.49030621,
           "value": 1.4386297443132623,
           "variable": "stalk_per_bdv"
          },
          {
           "seeds_per_bdv": 3.3407131298731874,
           "seeds_per_stalk": 2.3221493529371555,
           "stalk_per_bdv": 1.4386297443132623,
           "timestamp": "2022-09-30T00:00:00",
           "total_deposited_bdv": 40201497.097444,
           "total_seeds": 134301669.19399,
           "total_stalk": 57835069.49030621,
           "value": 3.3407131298731874,
           "variable": "seeds_per_bdv"
          },
          {
           "seeds_per_bdv": 3.345250553811975,
           "seeds_per_stalk": 2.314155535888596,
           "stalk_per_bdv": 1.4455599470013394,
           "timestamp": "2022-10-01T00:00:00",
           "total_deposited_bdv": 40064688.901105,
           "total_seeds": 134026422.734726,
           "total_stalk": 57915909.56450649,
           "value": 134026422.734726,
           "variable": "total_seeds"
          },
          {
           "seeds_per_bdv": 3.345250553811975,
           "seeds_per_stalk": 2.314155535888596,
           "stalk_per_bdv": 1.4455599470013394,
           "timestamp": "2022-10-01T00:00:00",
           "total_deposited_bdv": 40064688.901105,
           "total_seeds": 134026422.734726,
           "total_stalk": 57915909.56450649,
           "value": 57915909.56450649,
           "variable": "total_stalk"
          },
          {
           "seeds_per_bdv": 3.345250553811975,
           "seeds_per_stalk": 2.314155535888596,
           "stalk_per_bdv": 1.4455599470013394,
           "timestamp": "2022-10-01T00:00:00",
           "total_deposited_bdv": 40064688.901105,
           "total_seeds": 134026422.734726,
           "total_stalk": 57915909.56450649,
           "value": 40064688.901105,
           "variable": "total_deposited_bdv"
          },
          {
           "seeds_per_bdv": 3.345250553811975,
           "seeds_per_stalk": 2.314155535888596,
           "stalk_per_bdv": 1.4455599470013394,
           "timestamp": "2022-10-01T00:00:00",
           "total_deposited_bdv": 40064688.901105,
           "total_seeds": 134026422.734726,
           "total_stalk": 57915909.56450649,
           "value": 2.314155535888596,
           "variable": "seeds_per_stalk"
          },
          {
           "seeds_per_bdv": 3.345250553811975,
           "seeds_per_stalk": 2.314155535888596,
           "stalk_per_bdv": 1.4455599470013394,
           "timestamp": "2022-10-01T00:00:00",
           "total_deposited_bdv": 40064688.901105,
           "total_seeds": 134026422.734726,
           "total_stalk": 57915909.56450649,
           "value": 1.4455599470013394,
           "variable": "stalk_per_bdv"
          },
          {
           "seeds_per_bdv": 3.345250553811975,
           "seeds_per_stalk": 2.314155535888596,
           "stalk_per_bdv": 1.4455599470013394,
           "timestamp": "2022-10-01T00:00:00",
           "total_deposited_bdv": 40064688.901105,
           "total_seeds": 134026422.734726,
           "total_stalk": 57915909.56450649,
           "value": 3.345250553811975,
           "variable": "seeds_per_bdv"
          },
          {
           "seeds_per_bdv": 3.3458887473056875,
           "seeds_per_stalk": 2.303361097907482,
           "stalk_per_bdv": 1.4526114686686789,
           "timestamp": "2022-10-02T00:00:00",
           "total_deposited_bdv": 40070844.369166,
           "total_seeds": 134072587.26983,
           "total_stalk": 58207368.08988828,
           "value": 134072587.26983,
           "variable": "total_seeds"
          },
          {
           "seeds_per_bdv": 3.3458887473056875,
           "seeds_per_stalk": 2.303361097907482,
           "stalk_per_bdv": 1.4526114686686789,
           "timestamp": "2022-10-02T00:00:00",
           "total_deposited_bdv": 40070844.369166,
           "total_seeds": 134072587.26983,
           "total_stalk": 58207368.08988828,
           "value": 58207368.08988828,
           "variable": "total_stalk"
          },
          {
           "seeds_per_bdv": 3.3458887473056875,
           "seeds_per_stalk": 2.303361097907482,
           "stalk_per_bdv": 1.4526114686686789,
           "timestamp": "2022-10-02T00:00:00",
           "total_deposited_bdv": 40070844.369166,
           "total_seeds": 134072587.26983,
           "total_stalk": 58207368.08988828,
           "value": 40070844.369166,
           "variable": "total_deposited_bdv"
          },
          {
           "seeds_per_bdv": 3.3458887473056875,
           "seeds_per_stalk": 2.303361097907482,
           "stalk_per_bdv": 1.4526114686686789,
           "timestamp": "2022-10-02T00:00:00",
           "total_deposited_bdv": 40070844.369166,
           "total_seeds": 134072587.26983,
           "total_stalk": 58207368.08988828,
           "value": 2.303361097907482,
           "variable": "seeds_per_stalk"
          },
          {
           "seeds_per_bdv": 3.3458887473056875,
           "seeds_per_stalk": 2.303361097907482,
           "stalk_per_bdv": 1.4526114686686789,
           "timestamp": "2022-10-02T00:00:00",
           "total_deposited_bdv": 40070844.369166,
           "total_seeds": 134072587.26983,
           "total_stalk": 58207368.08988828,
           "value": 1.4526114686686789,
           "variable": "stalk_per_bdv"
          },
          {
           "seeds_per_bdv": 3.3458887473056875,
           "seeds_per_stalk": 2.303361097907482,
           "stalk_per_bdv": 1.4526114686686789,
           "timestamp": "2022-10-02T00:00:00",
           "total_deposited_bdv": 40070844.369166,
           "total_seeds": 134072587.26983,
           "total_stalk": 58207368.08988828,
           "value": 3.3458887473056875,
           "variable": "seeds_per_bdv"
          },
          {
           "seeds_per_bdv": 3.3442408881858143,
           "seeds_per_stalk": 2.2953988808570998,
           "stalk_per_bdv": 1.4569323510940626,
           "timestamp": "2022-10-03T00:00:00",
           "total_deposited_bdv": 39968982.195875,
           "total_seeds": 133665904.518616,
           "total_stalk": 58232103.201472886,
           "value": 133665904.518616,
           "variable": "total_seeds"
          },
          {
           "seeds_per_bdv": 3.3442408881858143,
           "seeds_per_stalk": 2.2953988808570998,
           "stalk_per_bdv": 1.4569323510940626,
           "timestamp": "2022-10-03T00:00:00",
           "total_deposited_bdv": 39968982.195875,
           "total_seeds": 133665904.518616,
           "total_stalk": 58232103.201472886,
           "value": 58232103.201472886,
           "variable": "total_stalk"
          },
          {
           "seeds_per_bdv": 3.3442408881858143,
           "seeds_per_stalk": 2.2953988808570998,
           "stalk_per_bdv": 1.4569323510940626,
           "timestamp": "2022-10-03T00:00:00",
           "total_deposited_bdv": 39968982.195875,
           "total_seeds": 133665904.518616,
           "total_stalk": 58232103.201472886,
           "value": 39968982.195875,
           "variable": "total_deposited_bdv"
          },
          {
           "seeds_per_bdv": 3.3442408881858143,
           "seeds_per_stalk": 2.2953988808570998,
           "stalk_per_bdv": 1.4569323510940626,
           "timestamp": "2022-10-03T00:00:00",
           "total_deposited_bdv": 39968982.195875,
           "total_seeds": 133665904.518616,
           "total_stalk": 58232103.201472886,
           "value": 2.2953988808570998,
           "variable": "seeds_per_stalk"
          },
          {
           "seeds_per_bdv": 3.3442408881858143,
           "seeds_per_stalk": 2.2953988808570998,
           "stalk_per_bdv": 1.4569323510940626,
           "timestamp": "2022-10-03T00:00:00",
           "total_deposited_bdv": 39968982.195875,
           "total_seeds": 133665904.518616,
           "total_stalk": 58232103.201472886,
           "value": 1.4569323510940626,
           "variable": "stalk_per_bdv"
          },
          {
           "seeds_per_bdv": 3.3442408881858143,
           "seeds_per_stalk": 2.2953988808570998,
           "stalk_per_bdv": 1.4569323510940626,
           "timestamp": "2022-10-03T00:00:00",
           "total_deposited_bdv": 39968982.195875,
           "total_seeds": 133665904.518616,
           "total_stalk": 58232103.201472886,
           "value": 3.3442408881858143,
           "variable": "seeds_per_bdv"
          },
          {
           "seeds_per_bdv": 3.3441954035332984,
           "seeds_per_stalk": 2.289021267237145,
           "stalk_per_bdv": 1.4609717486678278,
           "timestamp": "2022-10-04T00:00:00",
           "total_deposited_bdv": 39956924.314489,
           "total_seeds": 133623762.631842,
           "total_stalk": 58375937.58712704,
           "value": 133623762.631842,
           "variable": "total_seeds"
          },
          {
           "seeds_per_bdv": 3.3441954035332984,
           "seeds_per_stalk": 2.289021267237145,
           "stalk_per_bdv": 1.4609717486678278,
           "timestamp": "2022-10-04T00:00:00",
           "total_deposited_bdv": 39956924.314489,
           "total_seeds": 133623762.631842,
           "total_stalk": 58375937.58712704,
           "value": 58375937.58712704,
           "variable": "total_stalk"
          },
          {
           "seeds_per_bdv": 3.3441954035332984,
           "seeds_per_stalk": 2.289021267237145,
           "stalk_per_bdv": 1.4609717486678278,
           "timestamp": "2022-10-04T00:00:00",
           "total_deposited_bdv": 39956924.314489,
           "total_seeds": 133623762.631842,
           "total_stalk": 58375937.58712704,
           "value": 39956924.314489,
           "variable": "total_deposited_bdv"
          },
          {
           "seeds_per_bdv": 3.3441954035332984,
           "seeds_per_stalk": 2.289021267237145,
           "stalk_per_bdv": 1.4609717486678278,
           "timestamp": "2022-10-04T00:00:00",
           "total_deposited_bdv": 39956924.314489,
           "total_seeds": 133623762.631842,
           "total_stalk": 58375937.58712704,
           "value": 2.289021267237145,
           "variable": "seeds_per_stalk"
          },
          {
           "seeds_per_bdv": 3.3441954035332984,
           "seeds_per_stalk": 2.289021267237145,
           "stalk_per_bdv": 1.4609717486678278,
           "timestamp": "2022-10-04T00:00:00",
           "total_deposited_bdv": 39956924.314489,
           "total_seeds": 133623762.631842,
           "total_stalk": 58375937.58712704,
           "value": 1.4609717486678278,
           "variable": "stalk_per_bdv"
          },
          {
           "seeds_per_bdv": 3.3441954035332984,
           "seeds_per_stalk": 2.289021267237145,
           "stalk_per_bdv": 1.4609717486678278,
           "timestamp": "2022-10-04T00:00:00",
           "total_deposited_bdv": 39956924.314489,
           "total_seeds": 133623762.631842,
           "total_stalk": 58375937.58712704,
           "value": 3.3441954035332984,
           "variable": "seeds_per_bdv"
          },
          {
           "seeds_per_bdv": 3.3444913464594337,
           "seeds_per_stalk": 2.277504805992354,
           "stalk_per_bdv": 1.468489259675644,
           "timestamp": "2022-10-05T00:00:00",
           "total_deposited_bdv": 39962899.987182,
           "total_seeds": 133655573.186554,
           "total_stalk": 58685089.4166687,
           "value": 133655573.186554,
           "variable": "total_seeds"
          },
          {
           "seeds_per_bdv": 3.3444913464594337,
           "seeds_per_stalk": 2.277504805992354,
           "stalk_per_bdv": 1.468489259675644,
           "timestamp": "2022-10-05T00:00:00",
           "total_deposited_bdv": 39962899.987182,
           "total_seeds": 133655573.186554,
           "total_stalk": 58685089.4166687,
           "value": 58685089.4166687,
           "variable": "total_stalk"
          },
          {
           "seeds_per_bdv": 3.3444913464594337,
           "seeds_per_stalk": 2.277504805992354,
           "stalk_per_bdv": 1.468489259675644,
           "timestamp": "2022-10-05T00:00:00",
           "total_deposited_bdv": 39962899.987182,
           "total_seeds": 133655573.186554,
           "total_stalk": 58685089.4166687,
           "value": 39962899.987182,
           "variable": "total_deposited_bdv"
          },
          {
           "seeds_per_bdv": 3.3444913464594337,
           "seeds_per_stalk": 2.277504805992354,
           "stalk_per_bdv": 1.468489259675644,
           "timestamp": "2022-10-05T00:00:00",
           "total_deposited_bdv": 39962899.987182,
           "total_seeds": 133655573.186554,
           "total_stalk": 58685089.4166687,
           "value": 2.277504805992354,
           "variable": "seeds_per_stalk"
          },
          {
           "seeds_per_bdv": 3.3444913464594337,
           "seeds_per_stalk": 2.277504805992354,
           "stalk_per_bdv": 1.468489259675644,
           "timestamp": "2022-10-05T00:00:00",
           "total_deposited_bdv": 39962899.987182,
           "total_seeds": 133655573.186554,
           "total_stalk": 58685089.4166687,
           "value": 1.468489259675644,
           "variable": "stalk_per_bdv"
          },
          {
           "seeds_per_bdv": 3.3444913464594337,
           "seeds_per_stalk": 2.277504805992354,
           "stalk_per_bdv": 1.468489259675644,
           "timestamp": "2022-10-05T00:00:00",
           "total_deposited_bdv": 39962899.987182,
           "total_seeds": 133655573.186554,
           "total_stalk": 58685089.4166687,
           "value": 3.3444913464594337,
           "variable": "seeds_per_bdv"
          },
          {
           "seeds_per_bdv": 3.344480582516976,
           "seeds_per_stalk": 2.2763805374875017,
           "stalk_per_bdv": 1.469209794865125,
           "timestamp": "2022-10-06T00:00:00",
           "total_deposited_bdv": 39957257.263578,
           "total_seeds": 133636271.048672,
           "total_stalk": 58705593.74759446,
           "value": 133636271.048672,
           "variable": "total_seeds"
          },
          {
           "seeds_per_bdv": 3.344480582516976,
           "seeds_per_stalk": 2.2763805374875017,
           "stalk_per_bdv": 1.469209794865125,
           "timestamp": "2022-10-06T00:00:00",
           "total_deposited_bdv": 39957257.263578,
           "total_seeds": 133636271.048672,
           "total_stalk": 58705593.74759446,
           "value": 58705593.74759446,
           "variable": "total_stalk"
          },
          {
           "seeds_per_bdv": 3.344480582516976,
           "seeds_per_stalk": 2.2763805374875017,
           "stalk_per_bdv": 1.469209794865125,
           "timestamp": "2022-10-06T00:00:00",
           "total_deposited_bdv": 39957257.263578,
           "total_seeds": 133636271.048672,
           "total_stalk": 58705593.74759446,
           "value": 39957257.263578,
           "variable": "total_deposited_bdv"
          },
          {
           "seeds_per_bdv": 3.344480582516976,
           "seeds_per_stalk": 2.2763805374875017,
           "stalk_per_bdv": 1.469209794865125,
           "timestamp": "2022-10-06T00:00:00",
           "total_deposited_bdv": 39957257.263578,
           "total_seeds": 133636271.048672,
           "total_stalk": 58705593.74759446,
           "value": 2.2763805374875017,
           "variable": "seeds_per_stalk"
          },
          {
           "seeds_per_bdv": 3.344480582516976,
           "seeds_per_stalk": 2.2763805374875017,
           "stalk_per_bdv": 1.469209794865125,
           "timestamp": "2022-10-06T00:00:00",
           "total_deposited_bdv": 39957257.263578,
           "total_seeds": 133636271.048672,
           "total_stalk": 58705593.74759446,
           "value": 1.469209794865125,
           "variable": "stalk_per_bdv"
          },
          {
           "seeds_per_bdv": 3.344480582516976,
           "seeds_per_stalk": 2.2763805374875017,
           "stalk_per_bdv": 1.469209794865125,
           "timestamp": "2022-10-06T00:00:00",
           "total_deposited_bdv": 39957257.263578,
           "total_seeds": 133636271.048672,
           "total_stalk": 58705593.74759446,
           "value": 3.344480582516976,
           "variable": "seeds_per_bdv"
          },
          {
           "seeds_per_bdv": 3.2866770238818535,
           "seeds_per_stalk": 2.215244044869832,
           "stalk_per_bdv": 1.4836636313246376,
           "timestamp": "2022-10-07T00:00:00",
           "total_deposited_bdv": 40596297.97124,
           "total_seeds": 133426919.796736,
           "total_stalk": 60231250.866346955,
           "value": 133426919.796736,
           "variable": "total_seeds"
          },
          {
           "seeds_per_bdv": 3.2866770238818535,
           "seeds_per_stalk": 2.215244044869832,
           "stalk_per_bdv": 1.4836636313246376,
           "timestamp": "2022-10-07T00:00:00",
           "total_deposited_bdv": 40596297.97124,
           "total_seeds": 133426919.796736,
           "total_stalk": 60231250.866346955,
           "value": 60231250.866346955,
           "variable": "total_stalk"
          },
          {
           "seeds_per_bdv": 3.2866770238818535,
           "seeds_per_stalk": 2.215244044869832,
           "stalk_per_bdv": 1.4836636313246376,
           "timestamp": "2022-10-07T00:00:00",
           "total_deposited_bdv": 40596297.97124,
           "total_seeds": 133426919.796736,
           "total_stalk": 60231250.866346955,
           "value": 40596297.97124,
           "variable": "total_deposited_bdv"
          },
          {
           "seeds_per_bdv": 3.2866770238818535,
           "seeds_per_stalk": 2.215244044869832,
           "stalk_per_bdv": 1.4836636313246376,
           "timestamp": "2022-10-07T00:00:00",
           "total_deposited_bdv": 40596297.97124,
           "total_seeds": 133426919.796736,
           "total_stalk": 60231250.866346955,
           "value": 2.215244044869832,
           "variable": "seeds_per_stalk"
          },
          {
           "seeds_per_bdv": 3.2866770238818535,
           "seeds_per_stalk": 2.215244044869832,
           "stalk_per_bdv": 1.4836636313246376,
           "timestamp": "2022-10-07T00:00:00",
           "total_deposited_bdv": 40596297.97124,
           "total_seeds": 133426919.796736,
           "total_stalk": 60231250.866346955,
           "value": 1.4836636313246376,
           "variable": "stalk_per_bdv"
          },
          {
           "seeds_per_bdv": 3.2866770238818535,
           "seeds_per_stalk": 2.215244044869832,
           "stalk_per_bdv": 1.4836636313246376,
           "timestamp": "2022-10-07T00:00:00",
           "total_deposited_bdv": 40596297.97124,
           "total_seeds": 133426919.796736,
           "total_stalk": 60231250.866346955,
           "value": 3.2866770238818535,
           "variable": "seeds_per_bdv"
          },
          {
           "seeds_per_bdv": 3.286688311020815,
           "seeds_per_stalk": 2.2138436564617385,
           "stalk_per_bdv": 1.4846072356680071,
           "timestamp": "2022-10-08T00:00:00",
           "total_deposited_bdv": 40596715.826813,
           "total_seeds": 133428751.37382,
           "total_stalk": 60270178.06084448,
           "value": 133428751.37382,
           "variable": "total_seeds"
          },
          {
           "seeds_per_bdv": 3.286688311020815,
           "seeds_per_stalk": 2.2138436564617385,
           "stalk_per_bdv": 1.4846072356680071,
           "timestamp": "2022-10-08T00:00:00",
           "total_deposited_bdv": 40596715.826813,
           "total_seeds": 133428751.37382,
           "total_stalk": 60270178.06084448,
           "value": 60270178.06084448,
           "variable": "total_stalk"
          },
          {
           "seeds_per_bdv": 3.286688311020815,
           "seeds_per_stalk": 2.2138436564617385,
           "stalk_per_bdv": 1.4846072356680071,
           "timestamp": "2022-10-08T00:00:00",
           "total_deposited_bdv": 40596715.826813,
           "total_seeds": 133428751.37382,
           "total_stalk": 60270178.06084448,
           "value": 40596715.826813,
           "variable": "total_deposited_bdv"
          },
          {
           "seeds_per_bdv": 3.286688311020815,
           "seeds_per_stalk": 2.2138436564617385,
           "stalk_per_bdv": 1.4846072356680071,
           "timestamp": "2022-10-08T00:00:00",
           "total_deposited_bdv": 40596715.826813,
           "total_seeds": 133428751.37382,
           "total_stalk": 60270178.06084448,
           "value": 2.2138436564617385,
           "variable": "seeds_per_stalk"
          },
          {
           "seeds_per_bdv": 3.286688311020815,
           "seeds_per_stalk": 2.2138436564617385,
           "stalk_per_bdv": 1.4846072356680071,
           "timestamp": "2022-10-08T00:00:00",
           "total_deposited_bdv": 40596715.826813,
           "total_seeds": 133428751.37382,
           "total_stalk": 60270178.06084448,
           "value": 1.4846072356680071,
           "variable": "stalk_per_bdv"
          },
          {
           "seeds_per_bdv": 3.286688311020815,
           "seeds_per_stalk": 2.2138436564617385,
           "stalk_per_bdv": 1.4846072356680071,
           "timestamp": "2022-10-08T00:00:00",
           "total_deposited_bdv": 40596715.826813,
           "total_seeds": 133428751.37382,
           "total_stalk": 60270178.06084448,
           "value": 3.286688311020815,
           "variable": "seeds_per_bdv"
          },
          {
           "seeds_per_bdv": 3.284972598244095,
           "seeds_per_stalk": 2.21080274889513,
           "stalk_per_bdv": 1.4858732195288755,
           "timestamp": "2022-10-09T00:00:00",
           "total_deposited_bdv": 40597675.319777,
           "total_seeds": 133362250.977878,
           "total_stalk": 60322998.53278501,
           "value": 133362250.977878,
           "variable": "total_seeds"
          },
          {
           "seeds_per_bdv": 3.284972598244095,
           "seeds_per_stalk": 2.21080274889513,
           "stalk_per_bdv": 1.4858732195288755,
           "timestamp": "2022-10-09T00:00:00",
           "total_deposited_bdv": 40597675.319777,
           "total_seeds": 133362250.977878,
           "total_stalk": 60322998.53278501,
           "value": 60322998.53278501,
           "variable": "total_stalk"
          },
          {
           "seeds_per_bdv": 3.284972598244095,
           "seeds_per_stalk": 2.21080274889513,
           "stalk_per_bdv": 1.4858732195288755,
           "timestamp": "2022-10-09T00:00:00",
           "total_deposited_bdv": 40597675.319777,
           "total_seeds": 133362250.977878,
           "total_stalk": 60322998.53278501,
           "value": 40597675.319777,
           "variable": "total_deposited_bdv"
          },
          {
           "seeds_per_bdv": 3.284972598244095,
           "seeds_per_stalk": 2.21080274889513,
           "stalk_per_bdv": 1.4858732195288755,
           "timestamp": "2022-10-09T00:00:00",
           "total_deposited_bdv": 40597675.319777,
           "total_seeds": 133362250.977878,
           "total_stalk": 60322998.53278501,
           "value": 2.21080274889513,
           "variable": "seeds_per_stalk"
          },
          {
           "seeds_per_bdv": 3.284972598244095,
           "seeds_per_stalk": 2.21080274889513,
           "stalk_per_bdv": 1.4858732195288755,
           "timestamp": "2022-10-09T00:00:00",
           "total_deposited_bdv": 40597675.319777,
           "total_seeds": 133362250.977878,
           "total_stalk": 60322998.53278501,
           "value": 1.4858732195288755,
           "variable": "stalk_per_bdv"
          },
          {
           "seeds_per_bdv": 3.284972598244095,
           "seeds_per_stalk": 2.21080274889513,
           "stalk_per_bdv": 1.4858732195288755,
           "timestamp": "2022-10-09T00:00:00",
           "total_deposited_bdv": 40597675.319777,
           "total_seeds": 133362250.977878,
           "total_stalk": 60322998.53278501,
           "value": 3.284972598244095,
           "variable": "seeds_per_bdv"
          },
          {
           "seeds_per_bdv": 3.28500410826363,
           "seeds_per_stalk": 2.209698869955582,
           "stalk_per_bdv": 1.4866297634164345,
           "timestamp": "2022-10-10T00:00:00",
           "total_deposited_bdv": 40594633.000048,
           "total_seeds": 133353536.178612,
           "total_stalk": 60349189.652838334,
           "value": 133353536.178612,
           "variable": "total_seeds"
          },
          {
           "seeds_per_bdv": 3.28500410826363,
           "seeds_per_stalk": 2.209698869955582,
           "stalk_per_bdv": 1.4866297634164345,
           "timestamp": "2022-10-10T00:00:00",
           "total_deposited_bdv": 40594633.000048,
           "total_seeds": 133353536.178612,
           "total_stalk": 60349189.652838334,
           "value": 60349189.652838334,
           "variable": "total_stalk"
          },
          {
           "seeds_per_bdv": 3.28500410826363,
           "seeds_per_stalk": 2.209698869955582,
           "stalk_per_bdv": 1.4866297634164345,
           "timestamp": "2022-10-10T00:00:00",
           "total_deposited_bdv": 40594633.000048,
           "total_seeds": 133353536.178612,
           "total_stalk": 60349189.652838334,
           "value": 40594633.000048,
           "variable": "total_deposited_bdv"
          },
          {
           "seeds_per_bdv": 3.28500410826363,
           "seeds_per_stalk": 2.209698869955582,
           "stalk_per_bdv": 1.4866297634164345,
           "timestamp": "2022-10-10T00:00:00",
           "total_deposited_bdv": 40594633.000048,
           "total_seeds": 133353536.178612,
           "total_stalk": 60349189.652838334,
           "value": 2.209698869955582,
           "variable": "seeds_per_stalk"
          },
          {
           "seeds_per_bdv": 3.28500410826363,
           "seeds_per_stalk": 2.209698869955582,
           "stalk_per_bdv": 1.4866297634164345,
           "timestamp": "2022-10-10T00:00:00",
           "total_deposited_bdv": 40594633.000048,
           "total_seeds": 133353536.178612,
           "total_stalk": 60349189.652838334,
           "value": 1.4866297634164345,
           "variable": "stalk_per_bdv"
          },
          {
           "seeds_per_bdv": 3.28500410826363,
           "seeds_per_stalk": 2.209698869955582,
           "stalk_per_bdv": 1.4866297634164345,
           "timestamp": "2022-10-10T00:00:00",
           "total_deposited_bdv": 40594633.000048,
           "total_seeds": 133353536.178612,
           "total_stalk": 60349189.652838334,
           "value": 3.28500410826363,
           "variable": "seeds_per_bdv"
          },
          {
           "seeds_per_bdv": 3.2812363265906166,
           "seeds_per_stalk": 2.2014293717865274,
           "stalk_per_bdv": 1.4905026564298962,
           "timestamp": "2022-10-11T00:00:00",
           "total_deposited_bdv": 40595726.326056,
           "total_seeds": 133204171.925386,
           "total_stalk": 60508037.92868754,
           "value": 133204171.925386,
           "variable": "total_seeds"
          },
          {
           "seeds_per_bdv": 3.2812363265906166,
           "seeds_per_stalk": 2.2014293717865274,
           "stalk_per_bdv": 1.4905026564298962,
           "timestamp": "2022-10-11T00:00:00",
           "total_deposited_bdv": 40595726.326056,
           "total_seeds": 133204171.925386,
           "total_stalk": 60508037.92868754,
           "value": 60508037.92868754,
           "variable": "total_stalk"
          },
          {
           "seeds_per_bdv": 3.2812363265906166,
           "seeds_per_stalk": 2.2014293717865274,
           "stalk_per_bdv": 1.4905026564298962,
           "timestamp": "2022-10-11T00:00:00",
           "total_deposited_bdv": 40595726.326056,
           "total_seeds": 133204171.925386,
           "total_stalk": 60508037.92868754,
           "value": 40595726.326056,
           "variable": "total_deposited_bdv"
          },
          {
           "seeds_per_bdv": 3.2812363265906166,
           "seeds_per_stalk": 2.2014293717865274,
           "stalk_per_bdv": 1.4905026564298962,
           "timestamp": "2022-10-11T00:00:00",
           "total_deposited_bdv": 40595726.326056,
           "total_seeds": 133204171.925386,
           "total_stalk": 60508037.92868754,
           "value": 2.2014293717865274,
           "variable": "seeds_per_stalk"
          },
          {
           "seeds_per_bdv": 3.2812363265906166,
           "seeds_per_stalk": 2.2014293717865274,
           "stalk_per_bdv": 1.4905026564298962,
           "timestamp": "2022-10-11T00:00:00",
           "total_deposited_bdv": 40595726.326056,
           "total_seeds": 133204171.925386,
           "total_stalk": 60508037.92868754,
           "value": 1.4905026564298962,
           "variable": "stalk_per_bdv"
          },
          {
           "seeds_per_bdv": 3.2812363265906166,
           "seeds_per_stalk": 2.2014293717865274,
           "stalk_per_bdv": 1.4905026564298962,
           "timestamp": "2022-10-11T00:00:00",
           "total_deposited_bdv": 40595726.326056,
           "total_seeds": 133204171.925386,
           "total_stalk": 60508037.92868754,
           "value": 3.2812363265906166,
           "variable": "seeds_per_bdv"
          },
          {
           "seeds_per_bdv": 3.281370345807999,
           "seeds_per_stalk": 2.1957187705978836,
           "stalk_per_bdv": 1.4944401759222097,
           "timestamp": "2022-10-12T00:00:00",
           "total_deposited_bdv": 40607112.783099,
           "total_seeds": 133246975.715342,
           "total_stalk": 60684900.77126748,
           "value": 133246975.715342,
           "variable": "total_seeds"
          },
          {
           "seeds_per_bdv": 3.281370345807999,
           "seeds_per_stalk": 2.1957187705978836,
           "stalk_per_bdv": 1.4944401759222097,
           "timestamp": "2022-10-12T00:00:00",
           "total_deposited_bdv": 40607112.783099,
           "total_seeds": 133246975.715342,
           "total_stalk": 60684900.77126748,
           "value": 60684900.77126748,
           "variable": "total_stalk"
          },
          {
           "seeds_per_bdv": 3.281370345807999,
           "seeds_per_stalk": 2.1957187705978836,
           "stalk_per_bdv": 1.4944401759222097,
           "timestamp": "2022-10-12T00:00:00",
           "total_deposited_bdv": 40607112.783099,
           "total_seeds": 133246975.715342,
           "total_stalk": 60684900.77126748,
           "value": 40607112.783099,
           "variable": "total_deposited_bdv"
          },
          {
           "seeds_per_bdv": 3.281370345807999,
           "seeds_per_stalk": 2.1957187705978836,
           "stalk_per_bdv": 1.4944401759222097,
           "timestamp": "2022-10-12T00:00:00",
           "total_deposited_bdv": 40607112.783099,
           "total_seeds": 133246975.715342,
           "total_stalk": 60684900.77126748,
           "value": 2.1957187705978836,
           "variable": "seeds_per_stalk"
          },
          {
           "seeds_per_bdv": 3.281370345807999,
           "seeds_per_stalk": 2.1957187705978836,
           "stalk_per_bdv": 1.4944401759222097,
           "timestamp": "2022-10-12T00:00:00",
           "total_deposited_bdv": 40607112.783099,
           "total_seeds": 133246975.715342,
           "total_stalk": 60684900.77126748,
           "value": 1.4944401759222097,
           "variable": "stalk_per_bdv"
          },
          {
           "seeds_per_bdv": 3.281370345807999,
           "seeds_per_stalk": 2.1957187705978836,
           "stalk_per_bdv": 1.4944401759222097,
           "timestamp": "2022-10-12T00:00:00",
           "total_deposited_bdv": 40607112.783099,
           "total_seeds": 133246975.715342,
           "total_stalk": 60684900.77126748,
           "value": 3.281370345807999,
           "variable": "seeds_per_bdv"
          },
          {
           "seeds_per_bdv": 3.2810719996004707,
           "seeds_per_stalk": 2.193983604071967,
           "stalk_per_bdv": 1.4954861073304746,
           "timestamp": "2022-10-13T00:00:00",
           "total_deposited_bdv": 40607469.292864,
           "total_seeds": 133236030.471452,
           "total_stalk": 60727906.18132696,
           "value": 133236030.471452,
           "variable": "total_seeds"
          },
          {
           "seeds_per_bdv": 3.2810719996004707,
           "seeds_per_stalk": 2.193983604071967,
           "stalk_per_bdv": 1.4954861073304746,
           "timestamp": "2022-10-13T00:00:00",
           "total_deposited_bdv": 40607469.292864,
           "total_seeds": 133236030.471452,
           "total_stalk": 60727906.18132696,
           "value": 60727906.18132696,
           "variable": "total_stalk"
          },
          {
           "seeds_per_bdv": 3.2810719996004707,
           "seeds_per_stalk": 2.193983604071967,
           "stalk_per_bdv": 1.4954861073304746,
           "timestamp": "2022-10-13T00:00:00",
           "total_deposited_bdv": 40607469.292864,
           "total_seeds": 133236030.471452,
           "total_stalk": 60727906.18132696,
           "value": 40607469.292864,
           "variable": "total_deposited_bdv"
          },
          {
           "seeds_per_bdv": 3.2810719996004707,
           "seeds_per_stalk": 2.193983604071967,
           "stalk_per_bdv": 1.4954861073304746,
           "timestamp": "2022-10-13T00:00:00",
           "total_deposited_bdv": 40607469.292864,
           "total_seeds": 133236030.471452,
           "total_stalk": 60727906.18132696,
           "value": 2.193983604071967,
           "variable": "seeds_per_stalk"
          },
          {
           "seeds_per_bdv": 3.2810719996004707,
           "seeds_per_stalk": 2.193983604071967,
           "stalk_per_bdv": 1.4954861073304746,
           "timestamp": "2022-10-13T00:00:00",
           "total_deposited_bdv": 40607469.292864,
           "total_seeds": 133236030.471452,
           "total_stalk": 60727906.18132696,
           "value": 1.4954861073304746,
           "variable": "stalk_per_bdv"
          },
          {
           "seeds_per_bdv": 3.2810719996004707,
           "seeds_per_stalk": 2.193983604071967,
           "stalk_per_bdv": 1.4954861073304746,
           "timestamp": "2022-10-13T00:00:00",
           "total_deposited_bdv": 40607469.292864,
           "total_seeds": 133236030.471452,
           "total_stalk": 60727906.18132696,
           "value": 3.2810719996004707,
           "variable": "seeds_per_bdv"
          },
          {
           "seeds_per_bdv": 3.2797917415307345,
           "seeds_per_stalk": 2.187647940784926,
           "stalk_per_bdv": 1.499231974388872,
           "timestamp": "2022-10-14T00:00:00",
           "total_deposited_bdv": 40603303.800588,
           "total_seeds": 133170380.484032,
           "total_stalk": 60873771.32366673,
           "value": 133170380.484032,
           "variable": "total_seeds"
          },
          {
           "seeds_per_bdv": 3.2797917415307345,
           "seeds_per_stalk": 2.187647940784926,
           "stalk_per_bdv": 1.499231974388872,
           "timestamp": "2022-10-14T00:00:00",
           "total_deposited_bdv": 40603303.800588,
           "total_seeds": 133170380.484032,
           "total_stalk": 60873771.32366673,
           "value": 60873771.32366673,
           "variable": "total_stalk"
          },
          {
           "seeds_per_bdv": 3.2797917415307345,
           "seeds_per_stalk": 2.187647940784926,
           "stalk_per_bdv": 1.499231974388872,
           "timestamp": "2022-10-14T00:00:00",
           "total_deposited_bdv": 40603303.800588,
           "total_seeds": 133170380.484032,
           "total_stalk": 60873771.32366673,
           "value": 40603303.800588,
           "variable": "total_deposited_bdv"
          },
          {
           "seeds_per_bdv": 3.2797917415307345,
           "seeds_per_stalk": 2.187647940784926,
           "stalk_per_bdv": 1.499231974388872,
           "timestamp": "2022-10-14T00:00:00",
           "total_deposited_bdv": 40603303.800588,
           "total_seeds": 133170380.484032,
           "total_stalk": 60873771.32366673,
           "value": 2.187647940784926,
           "variable": "seeds_per_stalk"
          },
          {
           "seeds_per_bdv": 3.2797917415307345,
           "seeds_per_stalk": 2.187647940784926,
           "stalk_per_bdv": 1.499231974388872,
           "timestamp": "2022-10-14T00:00:00",
           "total_deposited_bdv": 40603303.800588,
           "total_seeds": 133170380.484032,
           "total_stalk": 60873771.32366673,
           "value": 1.499231974388872,
           "variable": "stalk_per_bdv"
          },
          {
           "seeds_per_bdv": 3.2797917415307345,
           "seeds_per_stalk": 2.187647940784926,
           "stalk_per_bdv": 1.499231974388872,
           "timestamp": "2022-10-14T00:00:00",
           "total_deposited_bdv": 40603303.800588,
           "total_seeds": 133170380.484032,
           "total_stalk": 60873771.32366673,
           "value": 3.2797917415307345,
           "variable": "seeds_per_bdv"
          },
          {
           "seeds_per_bdv": 3.27872338583193,
           "seeds_per_stalk": 2.180738951956821,
           "stalk_per_bdv": 1.5034919163019789,
           "timestamp": "2022-10-15T00:00:00",
           "total_deposited_bdv": 40604958.092815,
           "total_seeds": 133132425.679638,
           "total_stalk": 61049226.25432796,
           "value": 133132425.679638,
           "variable": "total_seeds"
          },
          {
           "seeds_per_bdv": 3.27872338583193,
           "seeds_per_stalk": 2.180738951956821,
           "stalk_per_bdv": 1.5034919163019789,
           "timestamp": "2022-10-15T00:00:00",
           "total_deposited_bdv": 40604958.092815,
           "total_seeds": 133132425.679638,
           "total_stalk": 61049226.25432796,
           "value": 61049226.25432796,
           "variable": "total_stalk"
          },
          {
           "seeds_per_bdv": 3.27872338583193,
           "seeds_per_stalk": 2.180738951956821,
           "stalk_per_bdv": 1.5034919163019789,
           "timestamp": "2022-10-15T00:00:00",
           "total_deposited_bdv": 40604958.092815,
           "total_seeds": 133132425.679638,
           "total_stalk": 61049226.25432796,
           "value": 40604958.092815,
           "variable": "total_deposited_bdv"
          },
          {
           "seeds_per_bdv": 3.27872338583193,
           "seeds_per_stalk": 2.180738951956821,
           "stalk_per_bdv": 1.5034919163019789,
           "timestamp": "2022-10-15T00:00:00",
           "total_deposited_bdv": 40604958.092815,
           "total_seeds": 133132425.679638,
           "total_stalk": 61049226.25432796,
           "value": 2.180738951956821,
           "variable": "seeds_per_stalk"
          },
          {
           "seeds_per_bdv": 3.27872338583193,
           "seeds_per_stalk": 2.180738951956821,
           "stalk_per_bdv": 1.5034919163019789,
           "timestamp": "2022-10-15T00:00:00",
           "total_deposited_bdv": 40604958.092815,
           "total_seeds": 133132425.679638,
           "total_stalk": 61049226.25432796,
           "value": 1.5034919163019789,
           "variable": "stalk_per_bdv"
          },
          {
           "seeds_per_bdv": 3.27872338583193,
           "seeds_per_stalk": 2.180738951956821,
           "stalk_per_bdv": 1.5034919163019789,
           "timestamp": "2022-10-15T00:00:00",
           "total_deposited_bdv": 40604958.092815,
           "total_seeds": 133132425.679638,
           "total_stalk": 61049226.25432796,
           "value": 3.27872338583193,
           "variable": "seeds_per_bdv"
          },
          {
           "seeds_per_bdv": 3.2793831495481527,
           "seeds_per_stalk": 2.1761044685142505,
           "stalk_per_bdv": 1.5069971120399257,
           "timestamp": "2022-10-16T00:00:00",
           "total_deposited_bdv": 40566869.854084,
           "total_seeds": 133034309.429396,
           "total_stalk": 61134155.71460411,
           "value": 133034309.429396,
           "variable": "total_seeds"
          },
          {
           "seeds_per_bdv": 3.2793831495481527,
           "seeds_per_stalk": 2.1761044685142505,
           "stalk_per_bdv": 1.5069971120399257,
           "timestamp": "2022-10-16T00:00:00",
           "total_deposited_bdv": 40566869.854084,
           "total_seeds": 133034309.429396,
           "total_stalk": 61134155.71460411,
           "value": 61134155.71460411,
           "variable": "total_stalk"
          },
          {
           "seeds_per_bdv": 3.2793831495481527,
           "seeds_per_stalk": 2.1761044685142505,
           "stalk_per_bdv": 1.5069971120399257,
           "timestamp": "2022-10-16T00:00:00",
           "total_deposited_bdv": 40566869.854084,
           "total_seeds": 133034309.429396,
           "total_stalk": 61134155.71460411,
           "value": 40566869.854084,
           "variable": "total_deposited_bdv"
          },
          {
           "seeds_per_bdv": 3.2793831495481527,
           "seeds_per_stalk": 2.1761044685142505,
           "stalk_per_bdv": 1.5069971120399257,
           "timestamp": "2022-10-16T00:00:00",
           "total_deposited_bdv": 40566869.854084,
           "total_seeds": 133034309.429396,
           "total_stalk": 61134155.71460411,
           "value": 2.1761044685142505,
           "variable": "seeds_per_stalk"
          },
          {
           "seeds_per_bdv": 3.2793831495481527,
           "seeds_per_stalk": 2.1761044685142505,
           "stalk_per_bdv": 1.5069971120399257,
           "timestamp": "2022-10-16T00:00:00",
           "total_deposited_bdv": 40566869.854084,
           "total_seeds": 133034309.429396,
           "total_stalk": 61134155.71460411,
           "value": 1.5069971120399257,
           "variable": "stalk_per_bdv"
          },
          {
           "seeds_per_bdv": 3.2793831495481527,
           "seeds_per_stalk": 2.1761044685142505,
           "stalk_per_bdv": 1.5069971120399257,
           "timestamp": "2022-10-16T00:00:00",
           "total_deposited_bdv": 40566869.854084,
           "total_seeds": 133034309.429396,
           "total_stalk": 61134155.71460411,
           "value": 3.2793831495481527,
           "variable": "seeds_per_bdv"
          },
          {
           "seeds_per_bdv": 3.2756366805412287,
           "seeds_per_stalk": 2.1642199788434544,
           "stalk_per_bdv": 1.5135414664694613,
           "timestamp": "2022-10-17T00:00:00",
           "total_deposited_bdv": 40562429.825593,
           "total_seeds": 132867782.988592,
           "total_stalk": 61392919.52179265,
           "value": 132867782.988592,
           "variable": "total_seeds"
          },
          {
           "seeds_per_bdv": 3.2756366805412287,
           "seeds_per_stalk": 2.1642199788434544,
           "stalk_per_bdv": 1.5135414664694613,
           "timestamp": "2022-10-17T00:00:00",
           "total_deposited_bdv": 40562429.825593,
           "total_seeds": 132867782.988592,
           "total_stalk": 61392919.52179265,
           "value": 61392919.52179265,
           "variable": "total_stalk"
          },
          {
           "seeds_per_bdv": 3.2756366805412287,
           "seeds_per_stalk": 2.1642199788434544,
           "stalk_per_bdv": 1.5135414664694613,
           "timestamp": "2022-10-17T00:00:00",
           "total_deposited_bdv": 40562429.825593,
           "total_seeds": 132867782.988592,
           "total_stalk": 61392919.52179265,
           "value": 40562429.825593,
           "variable": "total_deposited_bdv"
          },
          {
           "seeds_per_bdv": 3.2756366805412287,
           "seeds_per_stalk": 2.1642199788434544,
           "stalk_per_bdv": 1.5135414664694613,
           "timestamp": "2022-10-17T00:00:00",
           "total_deposited_bdv": 40562429.825593,
           "total_seeds": 132867782.988592,
           "total_stalk": 61392919.52179265,
           "value": 2.1642199788434544,
           "variable": "seeds_per_stalk"
          },
          {
           "seeds_per_bdv": 3.2756366805412287,
           "seeds_per_stalk": 2.1642199788434544,
           "stalk_per_bdv": 1.5135414664694613,
           "timestamp": "2022-10-17T00:00:00",
           "total_deposited_bdv": 40562429.825593,
           "total_seeds": 132867782.988592,
           "total_stalk": 61392919.52179265,
           "value": 1.5135414664694613,
           "variable": "stalk_per_bdv"
          },
          {
           "seeds_per_bdv": 3.2756366805412287,
           "seeds_per_stalk": 2.1642199788434544,
           "stalk_per_bdv": 1.5135414664694613,
           "timestamp": "2022-10-17T00:00:00",
           "total_deposited_bdv": 40562429.825593,
           "total_seeds": 132867782.988592,
           "total_stalk": 61392919.52179265,
           "value": 3.2756366805412287,
           "variable": "seeds_per_bdv"
          },
          {
           "seeds_per_bdv": 3.2757243201722677,
           "seeds_per_stalk": 2.1530924844986763,
           "stalk_per_bdv": 1.521404372434556,
           "timestamp": "2022-10-18T00:00:00",
           "total_deposited_bdv": 40560101.144969,
           "total_seeds": 132863709.749222,
           "total_stalk": 61708315.22834368,
           "value": 132863709.749222,
           "variable": "total_seeds"
          },
          {
           "seeds_per_bdv": 3.2757243201722677,
           "seeds_per_stalk": 2.1530924844986763,
           "stalk_per_bdv": 1.521404372434556,
           "timestamp": "2022-10-18T00:00:00",
           "total_deposited_bdv": 40560101.144969,
           "total_seeds": 132863709.749222,
           "total_stalk": 61708315.22834368,
           "value": 61708315.22834368,
           "variable": "total_stalk"
          },
          {
           "seeds_per_bdv": 3.2757243201722677,
           "seeds_per_stalk": 2.1530924844986763,
           "stalk_per_bdv": 1.521404372434556,
           "timestamp": "2022-10-18T00:00:00",
           "total_deposited_bdv": 40560101.144969,
           "total_seeds": 132863709.749222,
           "total_stalk": 61708315.22834368,
           "value": 40560101.144969,
           "variable": "total_deposited_bdv"
          },
          {
           "seeds_per_bdv": 3.2757243201722677,
           "seeds_per_stalk": 2.1530924844986763,
           "stalk_per_bdv": 1.521404372434556,
           "timestamp": "2022-10-18T00:00:00",
           "total_deposited_bdv": 40560101.144969,
           "total_seeds": 132863709.749222,
           "total_stalk": 61708315.22834368,
           "value": 2.1530924844986763,
           "variable": "seeds_per_stalk"
          },
          {
           "seeds_per_bdv": 3.2757243201722677,
           "seeds_per_stalk": 2.1530924844986763,
           "stalk_per_bdv": 1.521404372434556,
           "timestamp": "2022-10-18T00:00:00",
           "total_deposited_bdv": 40560101.144969,
           "total_seeds": 132863709.749222,
           "total_stalk": 61708315.22834368,
           "value": 1.521404372434556,
           "variable": "stalk_per_bdv"
          },
          {
           "seeds_per_bdv": 3.2757243201722677,
           "seeds_per_stalk": 2.1530924844986763,
           "stalk_per_bdv": 1.521404372434556,
           "timestamp": "2022-10-18T00:00:00",
           "total_deposited_bdv": 40560101.144969,
           "total_seeds": 132863709.749222,
           "total_stalk": 61708315.22834368,
           "value": 3.2757243201722677,
           "variable": "seeds_per_bdv"
          },
          {
           "seeds_per_bdv": 3.275152749575389,
           "seeds_per_stalk": 2.146196305129788,
           "stalk_per_bdv": 1.5260266461866494,
           "timestamp": "2022-10-19T00:00:00",
           "total_deposited_bdv": 40561662.347027,
           "total_seeds": 132845639.963214,
           "total_stalk": 61898177.5551889,
           "value": 132845639.963214,
           "variable": "total_seeds"
          },
          {
           "seeds_per_bdv": 3.275152749575389,
           "seeds_per_stalk": 2.146196305129788,
           "stalk_per_bdv": 1.5260266461866494,
           "timestamp": "2022-10-19T00:00:00",
           "total_deposited_bdv": 40561662.347027,
           "total_seeds": 132845639.963214,
           "total_stalk": 61898177.5551889,
           "value": 61898177.5551889,
           "variable": "total_stalk"
          },
          {
           "seeds_per_bdv": 3.275152749575389,
           "seeds_per_stalk": 2.146196305129788,
           "stalk_per_bdv": 1.5260266461866494,
           "timestamp": "2022-10-19T00:00:00",
           "total_deposited_bdv": 40561662.347027,
           "total_seeds": 132845639.963214,
           "total_stalk": 61898177.5551889,
           "value": 40561662.347027,
           "variable": "total_deposited_bdv"
          },
          {
           "seeds_per_bdv": 3.275152749575389,
           "seeds_per_stalk": 2.146196305129788,
           "stalk_per_bdv": 1.5260266461866494,
           "timestamp": "2022-10-19T00:00:00",
           "total_deposited_bdv": 40561662.347027,
           "total_seeds": 132845639.963214,
           "total_stalk": 61898177.5551889,
           "value": 2.146196305129788,
           "variable": "seeds_per_stalk"
          },
          {
           "seeds_per_bdv": 3.275152749575389,
           "seeds_per_stalk": 2.146196305129788,
           "stalk_per_bdv": 1.5260266461866494,
           "timestamp": "2022-10-19T00:00:00",
           "total_deposited_bdv": 40561662.347027,
           "total_seeds": 132845639.963214,
           "total_stalk": 61898177.5551889,
           "value": 1.5260266461866494,
           "variable": "stalk_per_bdv"
          },
          {
           "seeds_per_bdv": 3.275152749575389,
           "seeds_per_stalk": 2.146196305129788,
           "stalk_per_bdv": 1.5260266461866494,
           "timestamp": "2022-10-19T00:00:00",
           "total_deposited_bdv": 40561662.347027,
           "total_seeds": 132845639.963214,
           "total_stalk": 61898177.5551889,
           "value": 3.275152749575389,
           "variable": "seeds_per_bdv"
          },
          {
           "seeds_per_bdv": 3.2730942106853087,
           "seeds_per_stalk": 2.143126846474335,
           "stalk_per_bdv": 1.5272517425041297,
           "timestamp": "2022-10-20T00:00:00",
           "total_deposited_bdv": 40563445.743447,
           "total_seeds": 132767979.428324,
           "total_stalk": 61950593.19365115,
           "value": 132767979.428324,
           "variable": "total_seeds"
          },
          {
           "seeds_per_bdv": 3.2730942106853087,
           "seeds_per_stalk": 2.143126846474335,
           "stalk_per_bdv": 1.5272517425041297,
           "timestamp": "2022-10-20T00:00:00",
           "total_deposited_bdv": 40563445.743447,
           "total_seeds": 132767979.428324,
           "total_stalk": 61950593.19365115,
           "value": 61950593.19365115,
           "variable": "total_stalk"
          },
          {
           "seeds_per_bdv": 3.2730942106853087,
           "seeds_per_stalk": 2.143126846474335,
           "stalk_per_bdv": 1.5272517425041297,
           "timestamp": "2022-10-20T00:00:00",
           "total_deposited_bdv": 40563445.743447,
           "total_seeds": 132767979.428324,
           "total_stalk": 61950593.19365115,
           "value": 40563445.743447,
           "variable": "total_deposited_bdv"
          },
          {
           "seeds_per_bdv": 3.2730942106853087,
           "seeds_per_stalk": 2.143126846474335,
           "stalk_per_bdv": 1.5272517425041297,
           "timestamp": "2022-10-20T00:00:00",
           "total_deposited_bdv": 40563445.743447,
           "total_seeds": 132767979.428324,
           "total_stalk": 61950593.19365115,
           "value": 2.143126846474335,
           "variable": "seeds_per_stalk"
          },
          {
           "seeds_per_bdv": 3.2730942106853087,
           "seeds_per_stalk": 2.143126846474335,
           "stalk_per_bdv": 1.5272517425041297,
           "timestamp": "2022-10-20T00:00:00",
           "total_deposited_bdv": 40563445.743447,
           "total_seeds": 132767979.428324,
           "total_stalk": 61950593.19365115,
           "value": 1.5272517425041297,
           "variable": "stalk_per_bdv"
          },
          {
           "seeds_per_bdv": 3.2730942106853087,
           "seeds_per_stalk": 2.143126846474335,
           "stalk_per_bdv": 1.5272517425041297,
           "timestamp": "2022-10-20T00:00:00",
           "total_deposited_bdv": 40563445.743447,
           "total_seeds": 132767979.428324,
           "total_stalk": 61950593.19365115,
           "value": 3.2730942106853087,
           "variable": "seeds_per_bdv"
          },
          {
           "seeds_per_bdv": 3.272575860479402,
           "seeds_per_stalk": 2.1410913105132887,
           "stalk_per_bdv": 1.5284616047948278,
           "timestamp": "2022-10-21T00:00:00",
           "total_deposited_bdv": 40582004.515139,
           "total_seeds": 132807688.34611,
           "total_stalk": 62028035.74700031,
           "value": 132807688.34611,
           "variable": "total_seeds"
          },
          {
           "seeds_per_bdv": 3.272575860479402,
           "seeds_per_stalk": 2.1410913105132887,
           "stalk_per_bdv": 1.5284616047948278,
           "timestamp": "2022-10-21T00:00:00",
           "total_deposited_bdv": 40582004.515139,
           "total_seeds": 132807688.34611,
           "total_stalk": 62028035.74700031,
           "value": 62028035.74700031,
           "variable": "total_stalk"
          },
          {
           "seeds_per_bdv": 3.272575860479402,
           "seeds_per_stalk": 2.1410913105132887,
           "stalk_per_bdv": 1.5284616047948278,
           "timestamp": "2022-10-21T00:00:00",
           "total_deposited_bdv": 40582004.515139,
           "total_seeds": 132807688.34611,
           "total_stalk": 62028035.74700031,
           "value": 40582004.515139,
           "variable": "total_deposited_bdv"
          },
          {
           "seeds_per_bdv": 3.272575860479402,
           "seeds_per_stalk": 2.1410913105132887,
           "stalk_per_bdv": 1.5284616047948278,
           "timestamp": "2022-10-21T00:00:00",
           "total_deposited_bdv": 40582004.515139,
           "total_seeds": 132807688.34611,
           "total_stalk": 62028035.74700031,
           "value": 2.1410913105132887,
           "variable": "seeds_per_stalk"
          },
          {
           "seeds_per_bdv": 3.272575860479402,
           "seeds_per_stalk": 2.1410913105132887,
           "stalk_per_bdv": 1.5284616047948278,
           "timestamp": "2022-10-21T00:00:00",
           "total_deposited_bdv": 40582004.515139,
           "total_seeds": 132807688.34611,
           "total_stalk": 62028035.74700031,
           "value": 1.5284616047948278,
           "variable": "stalk_per_bdv"
          },
          {
           "seeds_per_bdv": 3.272575860479402,
           "seeds_per_stalk": 2.1410913105132887,
           "stalk_per_bdv": 1.5284616047948278,
           "timestamp": "2022-10-21T00:00:00",
           "total_deposited_bdv": 40582004.515139,
           "total_seeds": 132807688.34611,
           "total_stalk": 62028035.74700031,
           "value": 3.272575860479402,
           "variable": "seeds_per_bdv"
          },
          {
           "seeds_per_bdv": 3.2719090888118942,
           "seeds_per_stalk": 2.127857209238111,
           "stalk_per_bdv": 1.5376544415700788,
           "timestamp": "2022-10-22T00:00:00",
           "total_deposited_bdv": 40577142.304378,
           "total_seeds": 132764720.703708,
           "total_stalk": 62393623.09054798,
           "value": 132764720.703708,
           "variable": "total_seeds"
          },
          {
           "seeds_per_bdv": 3.2719090888118942,
           "seeds_per_stalk": 2.127857209238111,
           "stalk_per_bdv": 1.5376544415700788,
           "timestamp": "2022-10-22T00:00:00",
           "total_deposited_bdv": 40577142.304378,
           "total_seeds": 132764720.703708,
           "total_stalk": 62393623.09054798,
           "value": 62393623.09054798,
           "variable": "total_stalk"
          },
          {
           "seeds_per_bdv": 3.2719090888118942,
           "seeds_per_stalk": 2.127857209238111,
           "stalk_per_bdv": 1.5376544415700788,
           "timestamp": "2022-10-22T00:00:00",
           "total_deposited_bdv": 40577142.304378,
           "total_seeds": 132764720.703708,
           "total_stalk": 62393623.09054798,
           "value": 40577142.304378,
           "variable": "total_deposited_bdv"
          },
          {
           "seeds_per_bdv": 3.2719090888118942,
           "seeds_per_stalk": 2.127857209238111,
           "stalk_per_bdv": 1.5376544415700788,
           "timestamp": "2022-10-22T00:00:00",
           "total_deposited_bdv": 40577142.304378,
           "total_seeds": 132764720.703708,
           "total_stalk": 62393623.09054798,
           "value": 2.127857209238111,
           "variable": "seeds_per_stalk"
          },
          {
           "seeds_per_bdv": 3.2719090888118942,
           "seeds_per_stalk": 2.127857209238111,
           "stalk_per_bdv": 1.5376544415700788,
           "timestamp": "2022-10-22T00:00:00",
           "total_deposited_bdv": 40577142.304378,
           "total_seeds": 132764720.703708,
           "total_stalk": 62393623.09054798,
           "value": 1.5376544415700788,
           "variable": "stalk_per_bdv"
          },
          {
           "seeds_per_bdv": 3.2719090888118942,
           "seeds_per_stalk": 2.127857209238111,
           "stalk_per_bdv": 1.5376544415700788,
           "timestamp": "2022-10-22T00:00:00",
           "total_deposited_bdv": 40577142.304378,
           "total_seeds": 132764720.703708,
           "total_stalk": 62393623.09054798,
           "value": 3.2719090888118942,
           "variable": "seeds_per_bdv"
          },
          {
           "seeds_per_bdv": 3.270609518165248,
           "seeds_per_stalk": 2.120571769826201,
           "stalk_per_bdv": 1.5423243696360731,
           "timestamp": "2022-10-23T00:00:00",
           "total_deposited_bdv": 40577590.061938,
           "total_seeds": 132713452.280782,
           "total_stalk": 62583806.01362952,
           "value": 132713452.280782,
           "variable": "total_seeds"
          },
          {
           "seeds_per_bdv": 3.270609518165248,
           "seeds_per_stalk": 2.120571769826201,
           "stalk_per_bdv": 1.5423243696360731,
           "timestamp": "2022-10-23T00:00:00",
           "total_deposited_bdv": 40577590.061938,
           "total_seeds": 132713452.280782,
           "total_stalk": 62583806.01362952,
           "value": 62583806.01362952,
           "variable": "total_stalk"
          },
          {
           "seeds_per_bdv": 3.270609518165248,
           "seeds_per_stalk": 2.120571769826201,
           "stalk_per_bdv": 1.5423243696360731,
           "timestamp": "2022-10-23T00:00:00",
           "total_deposited_bdv": 40577590.061938,
           "total_seeds": 132713452.280782,
           "total_stalk": 62583806.01362952,
           "value": 40577590.061938,
           "variable": "total_deposited_bdv"
          },
          {
           "seeds_per_bdv": 3.270609518165248,
           "seeds_per_stalk": 2.120571769826201,
           "stalk_per_bdv": 1.5423243696360731,
           "timestamp": "2022-10-23T00:00:00",
           "total_deposited_bdv": 40577590.061938,
           "total_seeds": 132713452.280782,
           "total_stalk": 62583806.01362952,
           "value": 2.120571769826201,
           "variable": "seeds_per_stalk"
          },
          {
           "seeds_per_bdv": 3.270609518165248,
           "seeds_per_stalk": 2.120571769826201,
           "stalk_per_bdv": 1.5423243696360731,
           "timestamp": "2022-10-23T00:00:00",
           "total_deposited_bdv": 40577590.061938,
           "total_seeds": 132713452.280782,
           "total_stalk": 62583806.01362952,
           "value": 1.5423243696360731,
           "variable": "stalk_per_bdv"
          },
          {
           "seeds_per_bdv": 3.270609518165248,
           "seeds_per_stalk": 2.120571769826201,
           "stalk_per_bdv": 1.5423243696360731,
           "timestamp": "2022-10-23T00:00:00",
           "total_deposited_bdv": 40577590.061938,
           "total_seeds": 132713452.280782,
           "total_stalk": 62583806.01362952,
           "value": 3.270609518165248,
           "variable": "seeds_per_bdv"
          },
          {
           "seeds_per_bdv": 3.270828820828229,
           "seeds_per_stalk": 2.1110158603845193,
           "stalk_per_bdv": 1.5494098752211416,
           "timestamp": "2022-10-24T00:00:00",
           "total_deposited_bdv": 40579423.545079,
           "total_seeds": 132728348.06384,
           "total_stalk": 62874159.571526706,
           "value": 132728348.06384,
           "variable": "total_seeds"
          },
          {
           "seeds_per_bdv": 3.270828820828229,
           "seeds_per_stalk": 2.1110158603845193,
           "stalk_per_bdv": 1.5494098752211416,
           "timestamp": "2022-10-24T00:00:00",
           "total_deposited_bdv": 40579423.545079,
           "total_seeds": 132728348.06384,
           "total_stalk": 62874159.571526706,
           "value": 62874159.571526706,
           "variable": "total_stalk"
          },
          {
           "seeds_per_bdv": 3.270828820828229,
           "seeds_per_stalk": 2.1110158603845193,
           "stalk_per_bdv": 1.5494098752211416,
           "timestamp": "2022-10-24T00:00:00",
           "total_deposited_bdv": 40579423.545079,
           "total_seeds": 132728348.06384,
           "total_stalk": 62874159.571526706,
           "value": 40579423.545079,
           "variable": "total_deposited_bdv"
          },
          {
           "seeds_per_bdv": 3.270828820828229,
           "seeds_per_stalk": 2.1110158603845193,
           "stalk_per_bdv": 1.5494098752211416,
           "timestamp": "2022-10-24T00:00:00",
           "total_deposited_bdv": 40579423.545079,
           "total_seeds": 132728348.06384,
           "total_stalk": 62874159.571526706,
           "value": 2.1110158603845193,
           "variable": "seeds_per_stalk"
          },
          {
           "seeds_per_bdv": 3.270828820828229,
           "seeds_per_stalk": 2.1110158603845193,
           "stalk_per_bdv": 1.5494098752211416,
           "timestamp": "2022-10-24T00:00:00",
           "total_deposited_bdv": 40579423.545079,
           "total_seeds": 132728348.06384,
           "total_stalk": 62874159.571526706,
           "value": 1.5494098752211416,
           "variable": "stalk_per_bdv"
          },
          {
           "seeds_per_bdv": 3.270828820828229,
           "seeds_per_stalk": 2.1110158603845193,
           "stalk_per_bdv": 1.5494098752211416,
           "timestamp": "2022-10-24T00:00:00",
           "total_deposited_bdv": 40579423.545079,
           "total_seeds": 132728348.06384,
           "total_stalk": 62874159.571526706,
           "value": 3.270828820828229,
           "variable": "seeds_per_bdv"
          },
          {
           "seeds_per_bdv": 3.270930248083873,
           "seeds_per_stalk": 2.084660613143535,
           "stalk_per_bdv": 1.569046888237371,
           "timestamp": "2022-10-25T00:00:00",
           "total_deposited_bdv": 40599436.68612,
           "total_seeds": 132797925.511796,
           "total_stalk": 63702419.79654675,
           "value": 132797925.511796,
           "variable": "total_seeds"
          },
          {
           "seeds_per_bdv": 3.270930248083873,
           "seeds_per_stalk": 2.084660613143535,
           "stalk_per_bdv": 1.569046888237371,
           "timestamp": "2022-10-25T00:00:00",
           "total_deposited_bdv": 40599436.68612,
           "total_seeds": 132797925.511796,
           "total_stalk": 63702419.79654675,
           "value": 63702419.79654675,
           "variable": "total_stalk"
          },
          {
           "seeds_per_bdv": 3.270930248083873,
           "seeds_per_stalk": 2.084660613143535,
           "stalk_per_bdv": 1.569046888237371,
           "timestamp": "2022-10-25T00:00:00",
           "total_deposited_bdv": 40599436.68612,
           "total_seeds": 132797925.511796,
           "total_stalk": 63702419.79654675,
           "value": 40599436.68612,
           "variable": "total_deposited_bdv"
          },
          {
           "seeds_per_bdv": 3.270930248083873,
           "seeds_per_stalk": 2.084660613143535,
           "stalk_per_bdv": 1.569046888237371,
           "timestamp": "2022-10-25T00:00:00",
           "total_deposited_bdv": 40599436.68612,
           "total_seeds": 132797925.511796,
           "total_stalk": 63702419.79654675,
           "value": 2.084660613143535,
           "variable": "seeds_per_stalk"
          },
          {
           "seeds_per_bdv": 3.270930248083873,
           "seeds_per_stalk": 2.084660613143535,
           "stalk_per_bdv": 1.569046888237371,
           "timestamp": "2022-10-25T00:00:00",
           "total_deposited_bdv": 40599436.68612,
           "total_seeds": 132797925.511796,
           "total_stalk": 63702419.79654675,
           "value": 1.569046888237371,
           "variable": "stalk_per_bdv"
          },
          {
           "seeds_per_bdv": 3.270930248083873,
           "seeds_per_stalk": 2.084660613143535,
           "stalk_per_bdv": 1.569046888237371,
           "timestamp": "2022-10-25T00:00:00",
           "total_deposited_bdv": 40599436.68612,
           "total_seeds": 132797925.511796,
           "total_stalk": 63702419.79654675,
           "value": 3.270930248083873,
           "variable": "seeds_per_bdv"
          },
          {
           "seeds_per_bdv": 3.2711742381068576,
           "seeds_per_stalk": 2.076430241566907,
           "stalk_per_bdv": 1.5753836428612107,
           "timestamp": "2022-10-26T00:00:00",
           "total_deposited_bdv": 40618689.945258,
           "total_seeds": 132870812.134578,
           "total_stalk": 63990019.73421057,
           "value": 132870812.134578,
           "variable": "total_seeds"
          },
          {
           "seeds_per_bdv": 3.2711742381068576,
           "seeds_per_stalk": 2.076430241566907,
           "stalk_per_bdv": 1.5753836428612107,
           "timestamp": "2022-10-26T00:00:00",
           "total_deposited_bdv": 40618689.945258,
           "total_seeds": 132870812.134578,
           "total_stalk": 63990019.73421057,
           "value": 63990019.73421057,
           "variable": "total_stalk"
          },
          {
           "seeds_per_bdv": 3.2711742381068576,
           "seeds_per_stalk": 2.076430241566907,
           "stalk_per_bdv": 1.5753836428612107,
           "timestamp": "2022-10-26T00:00:00",
           "total_deposited_bdv": 40618689.945258,
           "total_seeds": 132870812.134578,
           "total_stalk": 63990019.73421057,
           "value": 40618689.945258,
           "variable": "total_deposited_bdv"
          },
          {
           "seeds_per_bdv": 3.2711742381068576,
           "seeds_per_stalk": 2.076430241566907,
           "stalk_per_bdv": 1.5753836428612107,
           "timestamp": "2022-10-26T00:00:00",
           "total_deposited_bdv": 40618689.945258,
           "total_seeds": 132870812.134578,
           "total_stalk": 63990019.73421057,
           "value": 2.076430241566907,
           "variable": "seeds_per_stalk"
          },
          {
           "seeds_per_bdv": 3.2711742381068576,
           "seeds_per_stalk": 2.076430241566907,
           "stalk_per_bdv": 1.5753836428612107,
           "timestamp": "2022-10-26T00:00:00",
           "total_deposited_bdv": 40618689.945258,
           "total_seeds": 132870812.134578,
           "total_stalk": 63990019.73421057,
           "value": 1.5753836428612107,
           "variable": "stalk_per_bdv"
          },
          {
           "seeds_per_bdv": 3.2711742381068576,
           "seeds_per_stalk": 2.076430241566907,
           "stalk_per_bdv": 1.5753836428612107,
           "timestamp": "2022-10-26T00:00:00",
           "total_deposited_bdv": 40618689.945258,
           "total_seeds": 132870812.134578,
           "total_stalk": 63990019.73421057,
           "value": 3.2711742381068576,
           "variable": "seeds_per_bdv"
          },
          {
           "seeds_per_bdv": 3.26879082051385,
           "seeds_per_stalk": 2.066716148308525,
           "stalk_per_bdv": 1.581635109005727,
           "timestamp": "2022-10-27T00:00:00",
           "total_deposited_bdv": 40636275.384033,
           "total_seeds": 132831483.9552,
           "total_stalk": 64271759.846611775,
           "value": 132831483.9552,
           "variable": "total_seeds"
          },
          {
           "seeds_per_bdv": 3.26879082051385,
           "seeds_per_stalk": 2.066716148308525,
           "stalk_per_bdv": 1.581635109005727,
           "timestamp": "2022-10-27T00:00:00",
           "total_deposited_bdv": 40636275.384033,
           "total_seeds": 132831483.9552,
           "total_stalk": 64271759.846611775,
           "value": 64271759.846611775,
           "variable": "total_stalk"
          },
          {
           "seeds_per_bdv": 3.26879082051385,
           "seeds_per_stalk": 2.066716148308525,
           "stalk_per_bdv": 1.581635109005727,
           "timestamp": "2022-10-27T00:00:00",
           "total_deposited_bdv": 40636275.384033,
           "total_seeds": 132831483.9552,
           "total_stalk": 64271759.846611775,
           "value": 40636275.384033,
           "variable": "total_deposited_bdv"
          },
          {
           "seeds_per_bdv": 3.26879082051385,
           "seeds_per_stalk": 2.066716148308525,
           "stalk_per_bdv": 1.581635109005727,
           "timestamp": "2022-10-27T00:00:00",
           "total_deposited_bdv": 40636275.384033,
           "total_seeds": 132831483.9552,
           "total_stalk": 64271759.846611775,
           "value": 2.066716148308525,
           "variable": "seeds_per_stalk"
          },
          {
           "seeds_per_bdv": 3.26879082051385,
           "seeds_per_stalk": 2.066716148308525,
           "stalk_per_bdv": 1.581635109005727,
           "timestamp": "2022-10-27T00:00:00",
           "total_deposited_bdv": 40636275.384033,
           "total_seeds": 132831483.9552,
           "total_stalk": 64271759.846611775,
           "value": 1.581635109005727,
           "variable": "stalk_per_bdv"
          },
          {
           "seeds_per_bdv": 3.26879082051385,
           "seeds_per_stalk": 2.066716148308525,
           "stalk_per_bdv": 1.581635109005727,
           "timestamp": "2022-10-27T00:00:00",
           "total_deposited_bdv": 40636275.384033,
           "total_seeds": 132831483.9552,
           "total_stalk": 64271759.846611775,
           "value": 3.26879082051385,
           "variable": "seeds_per_bdv"
          },
          {
           "seeds_per_bdv": 3.2696733849332023,
           "seeds_per_stalk": 2.0512044748379945,
           "stalk_per_bdv": 1.5940260588557087,
           "timestamp": "2022-10-28T00:00:00",
           "total_deposited_bdv": 40699017.957629,
           "total_seeds": 133072495.808978,
           "total_stalk": 64875295.194297075,
           "value": 133072495.808978,
           "variable": "total_seeds"
          },
          {
           "seeds_per_bdv": 3.2696733849332023,
           "seeds_per_stalk": 2.0512044748379945,
           "stalk_per_bdv": 1.5940260588557087,
           "timestamp": "2022-10-28T00:00:00",
           "total_deposited_bdv": 40699017.957629,
           "total_seeds": 133072495.808978,
           "total_stalk": 64875295.194297075,
           "value": 64875295.194297075,
           "variable": "total_stalk"
          },
          {
           "seeds_per_bdv": 3.2696733849332023,
           "seeds_per_stalk": 2.0512044748379945,
           "stalk_per_bdv": 1.5940260588557087,
           "timestamp": "2022-10-28T00:00:00",
           "total_deposited_bdv": 40699017.957629,
           "total_seeds": 133072495.808978,
           "total_stalk": 64875295.194297075,
           "value": 40699017.957629,
           "variable": "total_deposited_bdv"
          },
          {
           "seeds_per_bdv": 3.2696733849332023,
           "seeds_per_stalk": 2.0512044748379945,
           "stalk_per_bdv": 1.5940260588557087,
           "timestamp": "2022-10-28T00:00:00",
           "total_deposited_bdv": 40699017.957629,
           "total_seeds": 133072495.808978,
           "total_stalk": 64875295.194297075,
           "value": 2.0512044748379945,
           "variable": "seeds_per_stalk"
          },
          {
           "seeds_per_bdv": 3.2696733849332023,
           "seeds_per_stalk": 2.0512044748379945,
           "stalk_per_bdv": 1.5940260588557087,
           "timestamp": "2022-10-28T00:00:00",
           "total_deposited_bdv": 40699017.957629,
           "total_seeds": 133072495.808978,
           "total_stalk": 64875295.194297075,
           "value": 1.5940260588557087,
           "variable": "stalk_per_bdv"
          },
          {
           "seeds_per_bdv": 3.2696733849332023,
           "seeds_per_stalk": 2.0512044748379945,
           "stalk_per_bdv": 1.5940260588557087,
           "timestamp": "2022-10-28T00:00:00",
           "total_deposited_bdv": 40699017.957629,
           "total_seeds": 133072495.808978,
           "total_stalk": 64875295.194297075,
           "value": 3.2696733849332023,
           "variable": "seeds_per_bdv"
          },
          {
           "seeds_per_bdv": 3.26512426488425,
           "seeds_per_stalk": 2.0438577745718884,
           "stalk_per_bdv": 1.597530075480996,
           "timestamp": "2022-10-29T00:00:00",
           "total_deposited_bdv": 40755099.897229,
           "total_seeds": 133070465.592224,
           "total_stalk": 65107497.81505578,
           "value": 133070465.592224,
           "variable": "total_seeds"
          },
          {
           "seeds_per_bdv": 3.26512426488425,
           "seeds_per_stalk": 2.0438577745718884,
           "stalk_per_bdv": 1.597530075480996,
           "timestamp": "2022-10-29T00:00:00",
           "total_deposited_bdv": 40755099.897229,
           "total_seeds": 133070465.592224,
           "total_stalk": 65107497.81505578,
           "value": 65107497.81505578,
           "variable": "total_stalk"
          },
          {
           "seeds_per_bdv": 3.26512426488425,
           "seeds_per_stalk": 2.0438577745718884,
           "stalk_per_bdv": 1.597530075480996,
           "timestamp": "2022-10-29T00:00:00",
           "total_deposited_bdv": 40755099.897229,
           "total_seeds": 133070465.592224,
           "total_stalk": 65107497.81505578,
           "value": 40755099.897229,
           "variable": "total_deposited_bdv"
          },
          {
           "seeds_per_bdv": 3.26512426488425,
           "seeds_per_stalk": 2.0438577745718884,
           "stalk_per_bdv": 1.597530075480996,
           "timestamp": "2022-10-29T00:00:00",
           "total_deposited_bdv": 40755099.897229,
           "total_seeds": 133070465.592224,
           "total_stalk": 65107497.81505578,
           "value": 2.0438577745718884,
           "variable": "seeds_per_stalk"
          },
          {
           "seeds_per_bdv": 3.26512426488425,
           "seeds_per_stalk": 2.0438577745718884,
           "stalk_per_bdv": 1.597530075480996,
           "timestamp": "2022-10-29T00:00:00",
           "total_deposited_bdv": 40755099.897229,
           "total_seeds": 133070465.592224,
           "total_stalk": 65107497.81505578,
           "value": 1.597530075480996,
           "variable": "stalk_per_bdv"
          },
          {
           "seeds_per_bdv": 3.26512426488425,
           "seeds_per_stalk": 2.0438577745718884,
           "stalk_per_bdv": 1.597530075480996,
           "timestamp": "2022-10-29T00:00:00",
           "total_deposited_bdv": 40755099.897229,
           "total_seeds": 133070465.592224,
           "total_stalk": 65107497.81505578,
           "value": 3.26512426488425,
           "variable": "seeds_per_bdv"
          },
          {
           "seeds_per_bdv": 3.2653995642546674,
           "seeds_per_stalk": 2.0398836536267098,
           "stalk_per_bdv": 1.6007773573012916,
           "timestamp": "2022-10-30T00:00:00",
           "total_deposited_bdv": 40793099.657241,
           "total_seeds": 133205769.845352,
           "total_stalk": 65300670.26544648,
           "value": 133205769.845352,
           "variable": "total_seeds"
          },
          {
           "seeds_per_bdv": 3.2653995642546674,
           "seeds_per_stalk": 2.0398836536267098,
           "stalk_per_bdv": 1.6007773573012916,
           "timestamp": "2022-10-30T00:00:00",
           "total_deposited_bdv": 40793099.657241,
           "total_seeds": 133205769.845352,
           "total_stalk": 65300670.26544648,
           "value": 65300670.26544648,
           "variable": "total_stalk"
          },
          {
           "seeds_per_bdv": 3.2653995642546674,
           "seeds_per_stalk": 2.0398836536267098,
           "stalk_per_bdv": 1.6007773573012916,
           "timestamp": "2022-10-30T00:00:00",
           "total_deposited_bdv": 40793099.657241,
           "total_seeds": 133205769.845352,
           "total_stalk": 65300670.26544648,
           "value": 40793099.657241,
           "variable": "total_deposited_bdv"
          },
          {
           "seeds_per_bdv": 3.2653995642546674,
           "seeds_per_stalk": 2.0398836536267098,
           "stalk_per_bdv": 1.6007773573012916,
           "timestamp": "2022-10-30T00:00:00",
           "total_deposited_bdv": 40793099.657241,
           "total_seeds": 133205769.845352,
           "total_stalk": 65300670.26544648,
           "value": 2.0398836536267098,
           "variable": "seeds_per_stalk"
          },
          {
           "seeds_per_bdv": 3.2653995642546674,
           "seeds_per_stalk": 2.0398836536267098,
           "stalk_per_bdv": 1.6007773573012916,
           "timestamp": "2022-10-30T00:00:00",
           "total_deposited_bdv": 40793099.657241,
           "total_seeds": 133205769.845352,
           "total_stalk": 65300670.26544648,
           "value": 1.6007773573012916,
           "variable": "stalk_per_bdv"
          },
          {
           "seeds_per_bdv": 3.2653995642546674,
           "seeds_per_stalk": 2.0398836536267098,
           "stalk_per_bdv": 1.6007773573012916,
           "timestamp": "2022-10-30T00:00:00",
           "total_deposited_bdv": 40793099.657241,
           "total_seeds": 133205769.845352,
           "total_stalk": 65300670.26544648,
           "value": 3.2653995642546674,
           "variable": "seeds_per_bdv"
          },
          {
           "seeds_per_bdv": 3.261192540290214,
           "seeds_per_stalk": 1.99827887564459,
           "stalk_per_bdv": 1.6320007082285966,
           "timestamp": "2022-10-31T00:00:00",
           "total_deposited_bdv": 40790747.178227,
           "total_seeds": 133026480.410498,
           "total_stalk": 66570528.284040086,
           "value": 133026480.410498,
           "variable": "total_seeds"
          },
          {
           "seeds_per_bdv": 3.261192540290214,
           "seeds_per_stalk": 1.99827887564459,
           "stalk_per_bdv": 1.6320007082285966,
           "timestamp": "2022-10-31T00:00:00",
           "total_deposited_bdv": 40790747.178227,
           "total_seeds": 133026480.410498,
           "total_stalk": 66570528.284040086,
           "value": 66570528.284040086,
           "variable": "total_stalk"
          },
          {
           "seeds_per_bdv": 3.261192540290214,
           "seeds_per_stalk": 1.99827887564459,
           "stalk_per_bdv": 1.6320007082285966,
           "timestamp": "2022-10-31T00:00:00",
           "total_deposited_bdv": 40790747.178227,
           "total_seeds": 133026480.410498,
           "total_stalk": 66570528.284040086,
           "value": 40790747.178227,
           "variable": "total_deposited_bdv"
          },
          {
           "seeds_per_bdv": 3.261192540290214,
           "seeds_per_stalk": 1.99827887564459,
           "stalk_per_bdv": 1.6320007082285966,
           "timestamp": "2022-10-31T00:00:00",
           "total_deposited_bdv": 40790747.178227,
           "total_seeds": 133026480.410498,
           "total_stalk": 66570528.284040086,
           "value": 1.99827887564459,
           "variable": "seeds_per_stalk"
          },
          {
           "seeds_per_bdv": 3.261192540290214,
           "seeds_per_stalk": 1.99827887564459,
           "stalk_per_bdv": 1.6320007082285966,
           "timestamp": "2022-10-31T00:00:00",
           "total_deposited_bdv": 40790747.178227,
           "total_seeds": 133026480.410498,
           "total_stalk": 66570528.284040086,
           "value": 1.6320007082285966,
           "variable": "stalk_per_bdv"
          },
          {
           "seeds_per_bdv": 3.261192540290214,
           "seeds_per_stalk": 1.99827887564459,
           "stalk_per_bdv": 1.6320007082285966,
           "timestamp": "2022-10-31T00:00:00",
           "total_deposited_bdv": 40790747.178227,
           "total_seeds": 133026480.410498,
           "total_stalk": 66570528.284040086,
           "value": 3.261192540290214,
           "variable": "seeds_per_bdv"
          },
          {
           "seeds_per_bdv": 3.2597176179673424,
           "seeds_per_stalk": 1.990522825233289,
           "stalk_per_bdv": 1.6376188088098433,
           "timestamp": "2022-11-01T00:00:00",
           "total_deposited_bdv": 40811749.87212,
           "total_seeds": 133034780.078226,
           "total_stalk": 66834089.21102643,
           "value": 133034780.078226,
           "variable": "total_seeds"
          },
          {
           "seeds_per_bdv": 3.2597176179673424,
           "seeds_per_stalk": 1.990522825233289,
           "stalk_per_bdv": 1.6376188088098433,
           "timestamp": "2022-11-01T00:00:00",
           "total_deposited_bdv": 40811749.87212,
           "total_seeds": 133034780.078226,
           "total_stalk": 66834089.21102643,
           "value": 66834089.21102643,
           "variable": "total_stalk"
          },
          {
           "seeds_per_bdv": 3.2597176179673424,
           "seeds_per_stalk": 1.990522825233289,
           "stalk_per_bdv": 1.6376188088098433,
           "timestamp": "2022-11-01T00:00:00",
           "total_deposited_bdv": 40811749.87212,
           "total_seeds": 133034780.078226,
           "total_stalk": 66834089.21102643,
           "value": 40811749.87212,
           "variable": "total_deposited_bdv"
          },
          {
           "seeds_per_bdv": 3.2597176179673424,
           "seeds_per_stalk": 1.990522825233289,
           "stalk_per_bdv": 1.6376188088098433,
           "timestamp": "2022-11-01T00:00:00",
           "total_deposited_bdv": 40811749.87212,
           "total_seeds": 133034780.078226,
           "total_stalk": 66834089.21102643,
           "value": 1.990522825233289,
           "variable": "seeds_per_stalk"
          },
          {
           "seeds_per_bdv": 3.2597176179673424,
           "seeds_per_stalk": 1.990522825233289,
           "stalk_per_bdv": 1.6376188088098433,
           "timestamp": "2022-11-01T00:00:00",
           "total_deposited_bdv": 40811749.87212,
           "total_seeds": 133034780.078226,
           "total_stalk": 66834089.21102643,
           "value": 1.6376188088098433,
           "variable": "stalk_per_bdv"
          },
          {
           "seeds_per_bdv": 3.2597176179673424,
           "seeds_per_stalk": 1.990522825233289,
           "stalk_per_bdv": 1.6376188088098433,
           "timestamp": "2022-11-01T00:00:00",
           "total_deposited_bdv": 40811749.87212,
           "total_seeds": 133034780.078226,
           "total_stalk": 66834089.21102643,
           "value": 3.2597176179673424,
           "variable": "seeds_per_bdv"
          },
          {
           "seeds_per_bdv": 3.2583758980441444,
           "seeds_per_stalk": 1.9832397649861226,
           "stalk_per_bdv": 1.6429561143188072,
           "timestamp": "2022-11-02T00:00:00",
           "total_deposited_bdv": 40851143.987682,
           "total_seeds": 133108382.976994,
           "total_stalk": 67116636.79148012,
           "value": 133108382.976994,
           "variable": "total_seeds"
          },
          {
           "seeds_per_bdv": 3.2583758980441444,
           "seeds_per_stalk": 1.9832397649861226,
           "stalk_per_bdv": 1.6429561143188072,
           "timestamp": "2022-11-02T00:00:00",
           "total_deposited_bdv": 40851143.987682,
           "total_seeds": 133108382.976994,
           "total_stalk": 67116636.79148012,
           "value": 67116636.79148012,
           "variable": "total_stalk"
          },
          {
           "seeds_per_bdv": 3.2583758980441444,
           "seeds_per_stalk": 1.9832397649861226,
           "stalk_per_bdv": 1.6429561143188072,
           "timestamp": "2022-11-02T00:00:00",
           "total_deposited_bdv": 40851143.987682,
           "total_seeds": 133108382.976994,
           "total_stalk": 67116636.79148012,
           "value": 40851143.987682,
           "variable": "total_deposited_bdv"
          },
          {
           "seeds_per_bdv": 3.2583758980441444,
           "seeds_per_stalk": 1.9832397649861226,
           "stalk_per_bdv": 1.6429561143188072,
           "timestamp": "2022-11-02T00:00:00",
           "total_deposited_bdv": 40851143.987682,
           "total_seeds": 133108382.976994,
           "total_stalk": 67116636.79148012,
           "value": 1.9832397649861226,
           "variable": "seeds_per_stalk"
          },
          {
           "seeds_per_bdv": 3.2583758980441444,
           "seeds_per_stalk": 1.9832397649861226,
           "stalk_per_bdv": 1.6429561143188072,
           "timestamp": "2022-11-02T00:00:00",
           "total_deposited_bdv": 40851143.987682,
           "total_seeds": 133108382.976994,
           "total_stalk": 67116636.79148012,
           "value": 1.6429561143188072,
           "variable": "stalk_per_bdv"
          },
          {
           "seeds_per_bdv": 3.2583758980441444,
           "seeds_per_stalk": 1.9832397649861226,
           "stalk_per_bdv": 1.6429561143188072,
           "timestamp": "2022-11-02T00:00:00",
           "total_deposited_bdv": 40851143.987682,
           "total_seeds": 133108382.976994,
           "total_stalk": 67116636.79148012,
           "value": 3.2583758980441444,
           "variable": "seeds_per_bdv"
          },
          {
           "seeds_per_bdv": 3.255313788699653,
           "seeds_per_stalk": 1.9786817430776267,
           "stalk_per_bdv": 1.6451932202277069,
           "timestamp": "2022-11-03T00:00:00",
           "total_deposited_bdv": 40860036.107087,
           "total_seeds": 133012238.946166,
           "total_stalk": 67222654.38163884,
           "value": 133012238.946166,
           "variable": "total_seeds"
          },
          {
           "seeds_per_bdv": 3.255313788699653,
           "seeds_per_stalk": 1.9786817430776267,
           "stalk_per_bdv": 1.6451932202277069,
           "timestamp": "2022-11-03T00:00:00",
           "total_deposited_bdv": 40860036.107087,
           "total_seeds": 133012238.946166,
           "total_stalk": 67222654.38163884,
           "value": 67222654.38163884,
           "variable": "total_stalk"
          },
          {
           "seeds_per_bdv": 3.255313788699653,
           "seeds_per_stalk": 1.9786817430776267,
           "stalk_per_bdv": 1.6451932202277069,
           "timestamp": "2022-11-03T00:00:00",
           "total_deposited_bdv": 40860036.107087,
           "total_seeds": 133012238.946166,
           "total_stalk": 67222654.38163884,
           "value": 40860036.107087,
           "variable": "total_deposited_bdv"
          },
          {
           "seeds_per_bdv": 3.255313788699653,
           "seeds_per_stalk": 1.9786817430776267,
           "stalk_per_bdv": 1.6451932202277069,
           "timestamp": "2022-11-03T00:00:00",
           "total_deposited_bdv": 40860036.107087,
           "total_seeds": 133012238.946166,
           "total_stalk": 67222654.38163884,
           "value": 1.9786817430776267,
           "variable": "seeds_per_stalk"
          },
          {
           "seeds_per_bdv": 3.255313788699653,
           "seeds_per_stalk": 1.9786817430776267,
           "stalk_per_bdv": 1.6451932202277069,
           "timestamp": "2022-11-03T00:00:00",
           "total_deposited_bdv": 40860036.107087,
           "total_seeds": 133012238.946166,
           "total_stalk": 67222654.38163884,
           "value": 1.6451932202277069,
           "variable": "stalk_per_bdv"
          },
          {
           "seeds_per_bdv": 3.255313788699653,
           "seeds_per_stalk": 1.9786817430776267,
           "stalk_per_bdv": 1.6451932202277069,
           "timestamp": "2022-11-03T00:00:00",
           "total_deposited_bdv": 40860036.107087,
           "total_seeds": 133012238.946166,
           "total_stalk": 67222654.38163884,
           "value": 3.255313788699653,
           "variable": "seeds_per_bdv"
          },
          {
           "seeds_per_bdv": 3.2573818728997233,
           "seeds_per_stalk": 1.9734681275659294,
           "stalk_per_bdv": 1.650587525280872,
           "timestamp": "2022-11-04T00:00:00",
           "total_deposited_bdv": 40994579.407563,
           "total_seeds": 133534999.849344,
           "total_stalk": 67665141.3742596,
           "value": 133534999.849344,
           "variable": "total_seeds"
          },
          {
           "seeds_per_bdv": 3.2573818728997233,
           "seeds_per_stalk": 1.9734681275659294,
           "stalk_per_bdv": 1.650587525280872,
           "timestamp": "2022-11-04T00:00:00",
           "total_deposited_bdv": 40994579.407563,
           "total_seeds": 133534999.849344,
           "total_stalk": 67665141.3742596,
           "value": 67665141.3742596,
           "variable": "total_stalk"
          },
          {
           "seeds_per_bdv": 3.2573818728997233,
           "seeds_per_stalk": 1.9734681275659294,
           "stalk_per_bdv": 1.650587525280872,
           "timestamp": "2022-11-04T00:00:00",
           "total_deposited_bdv": 40994579.407563,
           "total_seeds": 133534999.849344,
           "total_stalk": 67665141.3742596,
           "value": 40994579.407563,
           "variable": "total_deposited_bdv"
          },
          {
           "seeds_per_bdv": 3.2573818728997233,
           "seeds_per_stalk": 1.9734681275659294,
           "stalk_per_bdv": 1.650587525280872,
           "timestamp": "2022-11-04T00:00:00",
           "total_deposited_bdv": 40994579.407563,
           "total_seeds": 133534999.849344,
           "total_stalk": 67665141.3742596,
           "value": 1.9734681275659294,
           "variable": "seeds_per_stalk"
          },
          {
           "seeds_per_bdv": 3.2573818728997233,
           "seeds_per_stalk": 1.9734681275659294,
           "stalk_per_bdv": 1.650587525280872,
           "timestamp": "2022-11-04T00:00:00",
           "total_deposited_bdv": 40994579.407563,
           "total_seeds": 133534999.849344,
           "total_stalk": 67665141.3742596,
           "value": 1.650587525280872,
           "variable": "stalk_per_bdv"
          },
          {
           "seeds_per_bdv": 3.2573818728997233,
           "seeds_per_stalk": 1.9734681275659294,
           "stalk_per_bdv": 1.650587525280872,
           "timestamp": "2022-11-04T00:00:00",
           "total_deposited_bdv": 40994579.407563,
           "total_seeds": 133534999.849344,
           "total_stalk": 67665141.3742596,
           "value": 3.2573818728997233,
           "variable": "seeds_per_bdv"
          },
          {
           "seeds_per_bdv": 3.2522318158623715,
           "seeds_per_stalk": 1.9635398088004952,
           "stalk_per_bdv": 1.6563106086701265,
           "timestamp": "2022-11-05T00:00:00",
           "total_deposited_bdv": 41030435.955276,
           "total_seeds": 133440489.232452,
           "total_stalk": 67959146.35108383,
           "value": 133440489.232452,
           "variable": "total_seeds"
          },
          {
           "seeds_per_bdv": 3.2522318158623715,
           "seeds_per_stalk": 1.9635398088004952,
           "stalk_per_bdv": 1.6563106086701265,
           "timestamp": "2022-11-05T00:00:00",
           "total_deposited_bdv": 41030435.955276,
           "total_seeds": 133440489.232452,
           "total_stalk": 67959146.35108383,
           "value": 67959146.35108383,
           "variable": "total_stalk"
          },
          {
           "seeds_per_bdv": 3.2522318158623715,
           "seeds_per_stalk": 1.9635398088004952,
           "stalk_per_bdv": 1.6563106086701265,
           "timestamp": "2022-11-05T00:00:00",
           "total_deposited_bdv": 41030435.955276,
           "total_seeds": 133440489.232452,
           "total_stalk": 67959146.35108383,
           "value": 41030435.955276,
           "variable": "total_deposited_bdv"
          },
          {
           "seeds_per_bdv": 3.2522318158623715,
           "seeds_per_stalk": 1.9635398088004952,
           "stalk_per_bdv": 1.6563106086701265,
           "timestamp": "2022-11-05T00:00:00",
           "total_deposited_bdv": 41030435.955276,
           "total_seeds": 133440489.232452,
           "total_stalk": 67959146.35108383,
           "value": 1.9635398088004952,
           "variable": "seeds_per_stalk"
          },
          {
           "seeds_per_bdv": 3.2522318158623715,
           "seeds_per_stalk": 1.9635398088004952,
           "stalk_per_bdv": 1.6563106086701265,
           "timestamp": "2022-11-05T00:00:00",
           "total_deposited_bdv": 41030435.955276,
           "total_seeds": 133440489.232452,
           "total_stalk": 67959146.35108383,
           "value": 1.6563106086701265,
           "variable": "stalk_per_bdv"
          },
          {
           "seeds_per_bdv": 3.2522318158623715,
           "seeds_per_stalk": 1.9635398088004952,
           "stalk_per_bdv": 1.6563106086701265,
           "timestamp": "2022-11-05T00:00:00",
           "total_deposited_bdv": 41030435.955276,
           "total_seeds": 133440489.232452,
           "total_stalk": 67959146.35108383,
           "value": 3.2522318158623715,
           "variable": "seeds_per_bdv"
          },
          {
           "seeds_per_bdv": 3.2495471849046482,
           "seeds_per_stalk": 1.9533435596394995,
           "stalk_per_bdv": 1.6635819996275365,
           "timestamp": "2022-11-06T00:00:00",
           "total_deposited_bdv": 41082966.012445,
           "total_seeds": 133501036.553274,
           "total_stalk": 68344882.74961337,
           "value": 133501036.553274,
           "variable": "total_seeds"
          },
          {
           "seeds_per_bdv": 3.2495471849046482,
           "seeds_per_stalk": 1.9533435596394995,
           "stalk_per_bdv": 1.6635819996275365,
           "timestamp": "2022-11-06T00:00:00",
           "total_deposited_bdv": 41082966.012445,
           "total_seeds": 133501036.553274,
           "total_stalk": 68344882.74961337,
           "value": 68344882.74961337,
           "variable": "total_stalk"
          },
          {
           "seeds_per_bdv": 3.2495471849046482,
           "seeds_per_stalk": 1.9533435596394995,
           "stalk_per_bdv": 1.6635819996275365,
           "timestamp": "2022-11-06T00:00:00",
           "total_deposited_bdv": 41082966.012445,
           "total_seeds": 133501036.553274,
           "total_stalk": 68344882.74961337,
           "value": 41082966.012445,
           "variable": "total_deposited_bdv"
          },
          {
           "seeds_per_bdv": 3.2495471849046482,
           "seeds_per_stalk": 1.9533435596394995,
           "stalk_per_bdv": 1.6635819996275365,
           "timestamp": "2022-11-06T00:00:00",
           "total_deposited_bdv": 41082966.012445,
           "total_seeds": 133501036.553274,
           "total_stalk": 68344882.74961337,
           "value": 1.9533435596394995,
           "variable": "seeds_per_stalk"
          },
          {
           "seeds_per_bdv": 3.2495471849046482,
           "seeds_per_stalk": 1.9533435596394995,
           "stalk_per_bdv": 1.6635819996275365,
           "timestamp": "2022-11-06T00:00:00",
           "total_deposited_bdv": 41082966.012445,
           "total_seeds": 133501036.553274,
           "total_stalk": 68344882.74961337,
           "value": 1.6635819996275365,
           "variable": "stalk_per_bdv"
          },
          {
           "seeds_per_bdv": 3.2495471849046482,
           "seeds_per_stalk": 1.9533435596394995,
           "stalk_per_bdv": 1.6635819996275365,
           "timestamp": "2022-11-06T00:00:00",
           "total_deposited_bdv": 41082966.012445,
           "total_seeds": 133501036.553274,
           "total_stalk": 68344882.74961337,
           "value": 3.2495471849046482,
           "variable": "seeds_per_bdv"
          },
          {
           "seeds_per_bdv": 3.2492812033188434,
           "seeds_per_stalk": 1.9487275584612282,
           "stalk_per_bdv": 1.6673860792960562,
           "timestamp": "2022-11-07T00:00:00",
           "total_deposited_bdv": 41089792.670897,
           "total_seeds": 133512290.973814,
           "total_stalk": 68512548.30061477,
           "value": 133512290.973814,
           "variable": "total_seeds"
          },
          {
           "seeds_per_bdv": 3.2492812033188434,
           "seeds_per_stalk": 1.9487275584612282,
           "stalk_per_bdv": 1.6673860792960562,
           "timestamp": "2022-11-07T00:00:00",
           "total_deposited_bdv": 41089792.670897,
           "total_seeds": 133512290.973814,
           "total_stalk": 68512548.30061477,
           "value": 68512548.30061477,
           "variable": "total_stalk"
          },
          {
           "seeds_per_bdv": 3.2492812033188434,
           "seeds_per_stalk": 1.9487275584612282,
           "stalk_per_bdv": 1.6673860792960562,
           "timestamp": "2022-11-07T00:00:00",
           "total_deposited_bdv": 41089792.670897,
           "total_seeds": 133512290.973814,
           "total_stalk": 68512548.30061477,
           "value": 41089792.670897,
           "variable": "total_deposited_bdv"
          },
          {
           "seeds_per_bdv": 3.2492812033188434,
           "seeds_per_stalk": 1.9487275584612282,
           "stalk_per_bdv": 1.6673860792960562,
           "timestamp": "2022-11-07T00:00:00",
           "total_deposited_bdv": 41089792.670897,
           "total_seeds": 133512290.973814,
           "total_stalk": 68512548.30061477,
           "value": 1.9487275584612282,
           "variable": "seeds_per_stalk"
          },
          {
           "seeds_per_bdv": 3.2492812033188434,
           "seeds_per_stalk": 1.9487275584612282,
           "stalk_per_bdv": 1.6673860792960562,
           "timestamp": "2022-11-07T00:00:00",
           "total_deposited_bdv": 41089792.670897,
           "total_seeds": 133512290.973814,
           "total_stalk": 68512548.30061477,
           "value": 1.6673860792960562,
           "variable": "stalk_per_bdv"
          },
          {
           "seeds_per_bdv": 3.2492812033188434,
           "seeds_per_stalk": 1.9487275584612282,
           "stalk_per_bdv": 1.6673860792960562,
           "timestamp": "2022-11-07T00:00:00",
           "total_deposited_bdv": 41089792.670897,
           "total_seeds": 133512290.973814,
           "total_stalk": 68512548.30061477,
           "value": 3.2492812033188434,
           "variable": "seeds_per_bdv"
          }
         ]
        },
        "hconcat": [
         {
          "layer": [
           {
            "encoding": {
             "color": {
              "field": "variable",
              "legend": {
               "title": null
              },
              "scale": {
               "domain": [
                "total_seeds",
                "total_stalk",
                "total_deposited_bdv",
                "seeds_per_stalk",
                "stalk_per_bdv",
                "seeds_per_bdv"
               ],
               "range": [
                "#32A251",
                "#FF7F0F",
                "#3CB7CC",
                "#FFD94A",
                "#39737C",
                "#B85A0D"
               ]
              },
              "type": "nominal"
             },
             "order": {
              "field": "stack_order",
              "sort": "ascending",
              "type": "quantitative"
             },
             "x": {
              "axis": {
               "formatType": "time",
               "labelAngle": 0,
               "labelExpr": "timeFormat(toDate(datum.value), '%b %e, %Y')",
               "labelOverlap": true,
               "labelPadding": 5,
               "labelSeparation": 10,
               "ticks": false,
               "title": "Date"
              },
              "field": "timestamp",
              "type": "ordinal"
             },
             "y": {
              "axis": {
               "format": ".2s",
               "title": null
              },
              "field": "value",
              "type": "quantitative"
             }
            },
            "mark": "line",
            "title": "",
            "transform": [
             {
              "as": "stack_order",
              "calculate": "datum['variable'] === 'total_seeds' ? 0 :  datum['variable'] === 'total_stalk' ? 1 :  datum['variable'] === 'total_deposited_bdv' ? 2 :  datum['variable'] === 'seeds_per_stalk' ? 3 :  datum['variable'] === 'stalk_per_bdv' ? 4 :  datum['variable'] === 'seeds_per_bdv' ? 5 : 6"
             },
             {
              "filter": "datum['variable'] == 'total_seeds' | datum['variable'] == 'total_stalk' | datum['variable'] == 'total_deposited_bdv'"
             }
            ],
            "width": 400
           },
           {
            "encoding": {
             "x": {
              "axis": {
               "formatType": "time",
               "labelAngle": 0,
               "labelExpr": "timeFormat(toDate(datum.value), '%b %e, %Y')",
               "labelOverlap": true,
               "labelPadding": 5,
               "labelSeparation": 10,
               "ticks": false,
               "title": "Date"
              },
              "field": "timestamp",
              "type": "ordinal"
             }
            },
            "mark": {
             "color": "#474440",
             "opacity": 1,
             "strokeDash": [
              2.5,
              1
             ],
             "type": "rule"
            },
            "title": "",
            "transform": [
             {
              "as": "stack_order",
              "calculate": "datum['variable'] === 'total_seeds' ? 0 :  datum['variable'] === 'total_stalk' ? 1 :  datum['variable'] === 'total_deposited_bdv' ? 2 :  datum['variable'] === 'seeds_per_stalk' ? 3 :  datum['variable'] === 'stalk_per_bdv' ? 4 :  datum['variable'] === 'seeds_per_bdv' ? 5 : 6"
             },
             {
              "groupby": [
               "timestamp"
              ],
              "pivot": "variable",
              "value": "value"
             },
             {
              "filter": "\n            year(datum['timestamp']) === 2022 && \n            month(datum['timestamp']) === 3 && \n            date(datum['timestamp']) === 17 \n        "
             }
            ],
            "width": 400
           },
           {
            "encoding": {
             "opacity": {
              "condition": {
               "selection": "selector001",
               "value": 1
              },
              "value": 0
             },
             "tooltip": [
              {
               "field": "timestamp",
               "timeUnit": "yearmonthdate",
               "title": "date",
               "type": "ordinal"
              },
              {
               "field": "total_seeds",
               "format": ",d",
               "type": "quantitative"
              },
              {
               "field": "total_stalk",
               "format": ",d",
               "type": "quantitative"
              },
              {
               "field": "total_deposited_bdv",
               "format": ",d",
               "type": "quantitative"
              },
              {
               "field": "seeds_per_stalk",
               "format": ".2f",
               "type": "quantitative"
              },
              {
               "field": "stalk_per_bdv",
               "format": ".2f",
               "type": "quantitative"
              },
              {
               "field": "seeds_per_bdv",
               "format": ".2f",
               "type": "quantitative"
              }
             ],
             "x": {
              "axis": {
               "formatType": "time",
               "labelAngle": 0,
               "labelExpr": "timeFormat(toDate(datum.value), '%b %e, %Y')",
               "labelOverlap": true,
               "labelPadding": 5,
               "labelSeparation": 10,
               "ticks": false,
               "title": "Date"
              },
              "field": "timestamp",
              "type": "ordinal"
             }
            },
            "mark": {
             "color": "#878787",
             "type": "rule"
            },
            "selection": {
             "selector001": {
              "clear": "mouseout",
              "empty": "none",
              "fields": [
               "timestamp"
              ],
              "nearest": true,
              "on": "mouseover",
              "type": "single"
             }
            },
            "title": "",
            "transform": [
             {
              "as": "stack_order",
              "calculate": "datum['variable'] === 'total_seeds' ? 0 :  datum['variable'] === 'total_stalk' ? 1 :  datum['variable'] === 'total_deposited_bdv' ? 2 :  datum['variable'] === 'seeds_per_stalk' ? 3 :  datum['variable'] === 'stalk_per_bdv' ? 4 :  datum['variable'] === 'seeds_per_bdv' ? 5 : 6"
             },
             {
              "groupby": [
               "timestamp"
              ],
              "pivot": "variable",
              "value": "value"
             }
            ],
            "width": 400
           }
          ]
         },
         {
          "layer": [
           {
            "encoding": {
             "color": {
              "field": "variable",
              "legend": {
               "orient": "bottom-right",
               "title": null
              },
              "scale": {
               "domain": [
                "total_seeds",
                "total_stalk",
                "total_deposited_bdv",
                "seeds_per_stalk",
                "stalk_per_bdv",
                "seeds_per_bdv"
               ],
               "range": [
                "#32A251",
                "#FF7F0F",
                "#3CB7CC",
                "#FFD94A",
                "#39737C",
                "#B85A0D"
               ]
              },
              "type": "nominal"
             },
             "order": {
              "field": "stack_order",
              "sort": "ascending",
              "type": "quantitative"
             },
             "x": {
              "axis": {
               "formatType": "time",
               "labelAngle": 0,
               "labelExpr": "timeFormat(toDate(datum.value), '%b %e, %Y')",
               "labelOverlap": true,
               "labelPadding": 5,
               "labelSeparation": 50,
               "ticks": false,
               "title": "Date"
              },
              "field": "timestamp",
              "type": "ordinal"
             },
             "y": {
              "axis": {
               "title": null
              },
              "field": "value",
              "type": "quantitative"
             }
            },
            "mark": "line",
            "title": "",
            "transform": [
             {
              "as": "stack_order",
              "calculate": "datum['variable'] === 'total_seeds' ? 0 :  datum['variable'] === 'total_stalk' ? 1 :  datum['variable'] === 'total_deposited_bdv' ? 2 :  datum['variable'] === 'seeds_per_stalk' ? 3 :  datum['variable'] === 'stalk_per_bdv' ? 4 :  datum['variable'] === 'seeds_per_bdv' ? 5 : 6"
             },
             {
              "filter": "datum['variable'] == 'seeds_per_stalk' | datum['variable'] == 'stalk_per_bdv' | datum['variable'] == 'seeds_per_bdv'"
             }
            ],
            "width": 400
           },
           {
            "encoding": {
             "x": {
              "axis": {
               "formatType": "time",
               "labelAngle": 0,
               "labelExpr": "timeFormat(toDate(datum.value), '%b %e, %Y')",
               "labelOverlap": true,
               "labelPadding": 5,
               "labelSeparation": 50,
               "ticks": false,
               "title": "Date"
              },
              "field": "timestamp",
              "type": "ordinal"
             }
            },
            "mark": {
             "color": "#474440",
             "opacity": 1,
             "strokeDash": [
              2.5,
              1
             ],
             "type": "rule"
            },
            "title": "",
            "transform": [
             {
              "as": "stack_order",
              "calculate": "datum['variable'] === 'total_seeds' ? 0 :  datum['variable'] === 'total_stalk' ? 1 :  datum['variable'] === 'total_deposited_bdv' ? 2 :  datum['variable'] === 'seeds_per_stalk' ? 3 :  datum['variable'] === 'stalk_per_bdv' ? 4 :  datum['variable'] === 'seeds_per_bdv' ? 5 : 6"
             },
             {
              "groupby": [
               "timestamp"
              ],
              "pivot": "variable",
              "value": "value"
             },
             {
              "filter": "\n            year(datum['timestamp']) === 2022 && \n            month(datum['timestamp']) === 3 && \n            date(datum['timestamp']) === 17 \n        "
             }
            ],
            "width": 400
           },
           {
            "encoding": {
             "opacity": {
              "condition": {
               "selection": "selector001",
               "value": 1
              },
              "value": 0
             },
             "tooltip": [
              {
               "field": "timestamp",
               "timeUnit": "yearmonthdate",
               "title": "date",
               "type": "ordinal"
              },
              {
               "field": "total_seeds",
               "format": ",d",
               "type": "quantitative"
              },
              {
               "field": "total_stalk",
               "format": ",d",
               "type": "quantitative"
              },
              {
               "field": "total_deposited_bdv",
               "format": ",d",
               "type": "quantitative"
              },
              {
               "field": "seeds_per_stalk",
               "format": ".2f",
               "type": "quantitative"
              },
              {
               "field": "stalk_per_bdv",
               "format": ".2f",
               "type": "quantitative"
              },
              {
               "field": "seeds_per_bdv",
               "format": ".2f",
               "type": "quantitative"
              }
             ],
             "x": {
              "axis": {
               "formatType": "time",
               "labelAngle": 0,
               "labelExpr": "timeFormat(toDate(datum.value), '%b %e, %Y')",
               "labelOverlap": true,
               "labelPadding": 5,
               "labelSeparation": 50,
               "ticks": false,
               "title": "Date"
              },
              "field": "timestamp",
              "type": "ordinal"
             }
            },
            "mark": {
             "color": "#878787",
             "type": "rule"
            },
            "selection": {
             "selector001": {
              "clear": "mouseout",
              "empty": "none",
              "fields": [
               "timestamp"
              ],
              "nearest": true,
              "on": "mouseover",
              "type": "single"
             }
            },
            "title": "",
            "transform": [
             {
              "as": "stack_order",
              "calculate": "datum['variable'] === 'total_seeds' ? 0 :  datum['variable'] === 'total_stalk' ? 1 :  datum['variable'] === 'total_deposited_bdv' ? 2 :  datum['variable'] === 'seeds_per_stalk' ? 3 :  datum['variable'] === 'stalk_per_bdv' ? 4 :  datum['variable'] === 'seeds_per_bdv' ? 5 : 6"
             },
             {
              "groupby": [
               "timestamp"
              ],
              "pivot": "variable",
              "value": "value"
             }
            ],
            "width": 400
           }
          ]
         }
        ]
       },
       "width_paths": [
        {
         "factor": 1,
         "path": [
          "config",
          "view",
          "continuousWidth"
         ],
         "value": 400
        },
        {
         "factor": 1,
         "path": [
          "hconcat",
          0,
          "layer",
          0,
          "width"
         ],
         "value": 400
        },
        {
         "factor": 1,
         "path": [
          "hconcat",
          0,
          "layer",
          1,
          "width"
         ],
         "value": 400
        },
        {
         "factor": 1,
         "path": [
          "hconcat",
          0,
          "layer",
          2,
          "width"
         ],
         "value": 400
        },
        {
         "factor": 1,
         "path": [
          "hconcat",
          1,
          "layer",
          0,
          "width"
         ],
         "value": 400
        },
        {
         "factor": 1,
         "path": [
          "hconcat",
          1,
          "layer",
          1,
          "width"
         ],
         "value": 400
        },
        {
         "factor": 1,
         "path": [
          "hconcat",
          1,
          "layer",
          2,
          "width"
         ],
         "value": 400
        }
       ]
      },
      "text/plain": [
       "<IPython.core.display.JSON object>"
      ]
     },
     "execution_count": 5,
     "metadata": {
      "application/json": {
       "expanded": false,
       "root": "root"
      }
     },
     "output_type": "execute_result"
    }
   ],
   "source": [
    "output_chart(c, css=css)"
   ]
  },
  {
   "cell_type": "code",
   "execution_count": null,
   "id": "20e68d4a",
   "metadata": {},
   "outputs": [],
   "source": []
  }
 ],
 "metadata": {
  "kernelspec": {
   "display_name": "beanstalk",
   "language": "python",
   "name": "beanstalk"
  },
  "language_info": {
   "codemirror_mode": {
    "name": "ipython",
    "version": 3
   },
   "file_extension": ".py",
   "mimetype": "text/x-python",
   "name": "python",
   "nbconvert_exporter": "python",
   "pygments_lexer": "ipython3",
   "version": "3.10.5"
  }
 },
 "nbformat": 4,
 "nbformat_minor": 5
}
