{
 "cells": [
  {
   "cell_type": "code",
   "execution_count": 1,
   "id": "bb524f98-4f94-476c-b760-7d5dbae7938d",
   "metadata": {},
   "outputs": [],
   "source": [
    "import os \n",
    "import sys \n",
    "\n",
    "cur_path = os.path.abspath(\"../..\")\n",
    "if cur_path not in sys.path: \n",
    "    sys.path.append(cur_path)\n",
    "\n",
    "from functools import cache \n",
    "import numpy as np \n",
    "import pandas as pd \n",
    "import altair as alt \n",
    "from IPython.display import clear_output\n",
    "from altair import datum\n",
    "from dotenv import load_dotenv\n",
    "from subgrounds.subgrounds import Subgrounds, Subgraph\n",
    "from subgrounds.pagination import ShallowStrategy\n",
    "\n",
    "# Required when developing in a jupyter-notebook environment \n",
    "load_dotenv('../../../.env')\n",
    "\n",
    "from utils_notebook.utils import ddf, load_subgraph, remove_prefix\n",
    "from utils_notebook.vega import (\n",
    "    output_chart, \n",
    "    apply_css, \n",
    "    stack_order_expr, \n",
    "    wide_to_longwide, \n",
    "    chart_stack_area_overlay_line_timeseries,\n",
    ")\n",
    "from utils_notebook.queries import adjust_precision, QueryManager\n",
    "from utils_notebook.testing import validate_season_series\n",
    "from utils_notebook.css import css_tooltip_timeseries_multi_colored"
   ]
  },
  {
   "cell_type": "code",
   "execution_count": 2,
   "id": "4dda51ef-cb6a-4692-9bad-6ea39ab9c6fe",
   "metadata": {},
   "outputs": [],
   "source": [
    "sg: Subgrounds\n",
    "bs: Subgraph\n",
    "sg, bs = load_subgraph()"
   ]
  },
  {
   "cell_type": "code",
   "execution_count": 3,
   "id": "2e605896-d5d2-42d6-b814-1a11977c91e4",
   "metadata": {},
   "outputs": [],
   "source": [
    "q = QueryManager(sg, bs) "
   ]
  },
  {
   "cell_type": "code",
   "execution_count": 4,
   "id": "e8d14cc9-8e93-4403-8274-e4cd43732976",
   "metadata": {},
   "outputs": [],
   "source": [
    "df = q.query_silo_daily_snapshots()"
   ]
  },
  {
   "cell_type": "code",
   "execution_count": 5,
   "id": "dc72b273-afd6-4769-ba82-411e80841edf",
   "metadata": {},
   "outputs": [],
   "source": [
    "df['totalBeanMints'] = df.dailyBeanMints.cumsum()"
   ]
  },
  {
   "cell_type": "code",
   "execution_count": 6,
   "id": "dbed5d6b-8ea4-499e-8348-e49428f57393",
   "metadata": {},
   "outputs": [
    {
     "data": {
      "text/html": [
       "<div>\n",
       "<style scoped>\n",
       "    .dataframe tbody tr th:only-of-type {\n",
       "        vertical-align: middle;\n",
       "    }\n",
       "\n",
       "    .dataframe tbody tr th {\n",
       "        vertical-align: top;\n",
       "    }\n",
       "\n",
       "    .dataframe thead th {\n",
       "        text-align: right;\n",
       "    }\n",
       "</style>\n",
       "<table border=\"1\" class=\"dataframe\">\n",
       "  <thead>\n",
       "    <tr style=\"text-align: right;\">\n",
       "      <th></th>\n",
       "      <th>season</th>\n",
       "      <th>dailyBeanMints</th>\n",
       "      <th>totalBeanMints</th>\n",
       "    </tr>\n",
       "  </thead>\n",
       "  <tbody>\n",
       "    <tr>\n",
       "      <th>2800</th>\n",
       "      <td>7593</td>\n",
       "      <td>13.974532</td>\n",
       "      <td>7.625468e+07</td>\n",
       "    </tr>\n",
       "    <tr>\n",
       "      <th>2801</th>\n",
       "      <td>7610</td>\n",
       "      <td>0.000000</td>\n",
       "      <td>7.625468e+07</td>\n",
       "    </tr>\n",
       "    <tr>\n",
       "      <th>2802</th>\n",
       "      <td>7641</td>\n",
       "      <td>0.000000</td>\n",
       "      <td>7.625468e+07</td>\n",
       "    </tr>\n",
       "    <tr>\n",
       "      <th>2803</th>\n",
       "      <td>7665</td>\n",
       "      <td>427.551354</td>\n",
       "      <td>7.625511e+07</td>\n",
       "    </tr>\n",
       "    <tr>\n",
       "      <th>2804</th>\n",
       "      <td>7688</td>\n",
       "      <td>822.724146</td>\n",
       "      <td>7.625593e+07</td>\n",
       "    </tr>\n",
       "  </tbody>\n",
       "</table>\n",
       "</div>"
      ],
      "text/plain": [
       "      season  dailyBeanMints  totalBeanMints\n",
       "2800    7593       13.974532    7.625468e+07\n",
       "2801    7610        0.000000    7.625468e+07\n",
       "2802    7641        0.000000    7.625468e+07\n",
       "2803    7665      427.551354    7.625511e+07\n",
       "2804    7688      822.724146    7.625593e+07"
      ]
     },
     "execution_count": 6,
     "metadata": {},
     "output_type": "execute_result"
    }
   ],
   "source": [
    "df.tail()"
   ]
  },
  {
   "cell_type": "code",
   "execution_count": null,
   "id": "0f0f82d3-b0d2-42d8-ab7f-c0bc31c0675f",
   "metadata": {},
   "outputs": [],
   "source": [
    "base = alt.Chart(df)\n",
    "\n",
    "bar = (\n",
    "    base\n",
    "    .mark_bar()\n",
    "    .encode(x=\")\n",
    ")"
   ]
  },
  {
   "cell_type": "code",
   "execution_count": 8,
   "id": "ba49b373",
   "metadata": {},
   "outputs": [],
   "source": [
    "# colors = {\n",
    "#     'pod listing vol': '#B5E48C', # light green yellow \n",
    "#     'pod order vol': '#52B69A', # light blue green \n",
    "#     'total bean vol': '#168AAD', # darker blue\n",
    "#     'total pod vol': '#184E77', # mid blue \n",
    "# }\n",
    "# c = chart_stack_area_overlay_line_timeseries(\n",
    "#     df_snaps, \n",
    "#     \"timestamp\", \n",
    "#     value_vars, \n",
    "#     ['pod listing vol', 'pod order vol', 'total bean vol',], \n",
    "#     \"Farmer's Market Volume\", \n",
    "#     yaxis_area_kwargs=dict(title=\"Volume\", format=\".3~s\"), \n",
    "#     color_map=colors, \n",
    "# )\n",
    "\n",
    "# css_lines = css_tooltip_timeseries_multi_colored(value_vars, colors) \n",
    "# css = \"\\n\".join(css_lines)\n",
    "\n",
    "# apply_css(\"\")\n",
    "# # apply_css(css)\n",
    "\n",
    "# c"
   ]
  },
  {
   "cell_type": "code",
   "execution_count": 9,
   "id": "a3a0694b",
   "metadata": {},
   "outputs": [],
   "source": [
    "# output_chart(c, css=css)"
   ]
  },
  {
   "cell_type": "code",
   "execution_count": null,
   "id": "8aec264e-ab7b-48af-b03a-55f064adf308",
   "metadata": {},
   "outputs": [],
   "source": []
  }
 ],
 "metadata": {
  "kernelspec": {
   "display_name": "Python 3 (ipykernel)",
   "language": "python",
   "name": "python3"
  },
  "language_info": {
   "codemirror_mode": {
    "name": "ipython",
    "version": 3
   },
   "file_extension": ".py",
   "mimetype": "text/x-python",
   "name": "python",
   "nbconvert_exporter": "python",
   "pygments_lexer": "ipython3",
   "version": "3.10.5"
  },
  "vscode": {
   "interpreter": {
    "hash": "65a1606879e7cc55db7359bc7bbaab6708e6dced52e1818b18aa46c0dd2503e5"
   }
  }
 },
 "nbformat": 4,
 "nbformat_minor": 5
}
