{
 "cells": [
  {
   "cell_type": "code",
   "execution_count": 1,
   "id": "bb524f98-4f94-476c-b760-7d5dbae7938d",
   "metadata": {},
   "outputs": [
    {
     "name": "stdout",
     "output_type": "stream",
     "text": [
      "https://api.thegraph.com/subgraphs/name/cujowolf/beanstalk\n"
     ]
    }
   ],
   "source": [
    "import os \n",
    "import sys \n",
    "import json \n",
    "import logging \n",
    "from pathlib import Path \n",
    "from functools import cache\n",
    "from itertools import product\n",
    "\n",
    "# Required when developing in a jupyter-notebook environment \n",
    "cur_path = os.path.abspath(\"../..\")\n",
    "if cur_path not in sys.path: \n",
    "    sys.path.append(cur_path)\n",
    "\n",
    "import numpy as np \n",
    "import pandas as pd \n",
    "import altair as alt \n",
    "from altair import datum\n",
    "from palettable.scientific.sequential import Batlow_5\n",
    "from palettable.tableau import Tableau_10\n",
    "from dotenv import load_dotenv\n",
    "from subgrounds.subgrounds import Subgrounds, Subgraph\n",
    "from subgrounds.subgraph import SyntheticField\n",
    "from subgrounds.pagination import ShallowStrategy\n",
    "\n",
    "# Required when developing in a jupyter-notebook environment \n",
    "load_dotenv('../../../../.env')\n",
    "\n",
    "print(os.environ['SUBGRAPH_URL'])\n",
    "# logging.basicConfig(level=logging.DEBUG)\n",
    "\n",
    "from utils_notebook.utils import ddf, remove_prefix, load_subgraph, remove_keys\n",
    "from utils_notebook.vega import (\n",
    "    output_chart, \n",
    "    apply_css, \n",
    "    wide_to_longwide, \n",
    "    chart, \n",
    ")\n",
    "from utils_notebook.testing import validate_season_series\n",
    "from utils_notebook.constants import ADDR_BEANSTALK\n",
    "from utils_notebook.queries import QueryManager\n",
    "from utils_notebook.css import css_tooltip_timeseries_multi_colored"
   ]
  },
  {
   "cell_type": "code",
   "execution_count": 3,
   "id": "accd7cb5-73d7-45ba-a392-7485b86fb82c",
   "metadata": {},
   "outputs": [
    {
     "data": {
      "text/plain": [
       "'0xc1e088fc1323b20bcbee9bd1b9fc9546db5624c5'"
      ]
     },
     "execution_count": 3,
     "metadata": {},
     "output_type": "execute_result"
    }
   ],
   "source": [
    "ADDR_BEANSTALK.lower()"
   ]
  },
  {
   "cell_type": "code",
   "execution_count": 4,
   "id": "4dda51ef-cb6a-4692-9bad-6ea39ab9c6fe",
   "metadata": {},
   "outputs": [],
   "source": [
    "sg, bs = load_subgraph()\n",
    "q = QueryManager(sg, bs) "
   ]
  },
  {
   "cell_type": "code",
   "execution_count": 28,
   "id": "f5823889",
   "metadata": {},
   "outputs": [],
   "source": [
    "farmers = bs.Query.farmers(\n",
    "    first=100000, \n",
    "    where= {'silo_': {'id_not': \"0xc1e088fc1323b20bcbee9bd1b9fc9546db5624c5\"}}\n",
    ")\n",
    "df_farmers = sg.query_df(\n",
    "    [\n",
    "        farmers.id, \n",
    "        farmers.deposits.bdv, \n",
    "        farmers.deposits.removedBDV, \n",
    "    ], \n",
    "    pagination_strategy=ShallowStrategy\n",
    ")\n",
    "df_farmers = remove_prefix(df_farmers, \"farmers_\")\n",
    "df_farmers = remove_prefix(df_farmers, \"deposits_\")"
   ]
  },
  {
   "cell_type": "code",
   "execution_count": 29,
   "id": "6acb5471-d48b-4717-a714-0d5781cdced8",
   "metadata": {},
   "outputs": [
    {
     "data": {
      "text/html": [
       "<div>\n",
       "<style scoped>\n",
       "    .dataframe tbody tr th:only-of-type {\n",
       "        vertical-align: middle;\n",
       "    }\n",
       "\n",
       "    .dataframe tbody tr th {\n",
       "        vertical-align: top;\n",
       "    }\n",
       "\n",
       "    .dataframe thead th {\n",
       "        text-align: right;\n",
       "    }\n",
       "</style>\n",
       "<table border=\"1\" class=\"dataframe\">\n",
       "  <thead>\n",
       "    <tr style=\"text-align: right;\">\n",
       "      <th></th>\n",
       "      <th>address</th>\n",
       "      <th>bdv</th>\n",
       "    </tr>\n",
       "  </thead>\n",
       "  <tbody>\n",
       "    <tr>\n",
       "      <th>0</th>\n",
       "      <td>0x0000000002ce79aacd54227d2163ff3791338975</td>\n",
       "      <td>0.000000</td>\n",
       "    </tr>\n",
       "    <tr>\n",
       "      <th>1</th>\n",
       "      <td>0x0000002e4f99cb1e699042699b91623b1334d2f7</td>\n",
       "      <td>0.000000</td>\n",
       "    </tr>\n",
       "    <tr>\n",
       "      <th>2</th>\n",
       "      <td>0x0000002e4f99cb1e699042699b91623b1334d2f7</td>\n",
       "      <td>0.000000</td>\n",
       "    </tr>\n",
       "    <tr>\n",
       "      <th>3</th>\n",
       "      <td>0x0000002e4f99cb1e699042699b91623b1334d2f7</td>\n",
       "      <td>0.000167</td>\n",
       "    </tr>\n",
       "    <tr>\n",
       "      <th>4</th>\n",
       "      <td>0x0000002e4f99cb1e699042699b91623b1334d2f7</td>\n",
       "      <td>0.000000</td>\n",
       "    </tr>\n",
       "  </tbody>\n",
       "</table>\n",
       "</div>"
      ],
      "text/plain": [
       "                                      address       bdv\n",
       "0  0x0000000002ce79aacd54227d2163ff3791338975  0.000000\n",
       "1  0x0000002e4f99cb1e699042699b91623b1334d2f7  0.000000\n",
       "2  0x0000002e4f99cb1e699042699b91623b1334d2f7  0.000000\n",
       "3  0x0000002e4f99cb1e699042699b91623b1334d2f7  0.000167\n",
       "4  0x0000002e4f99cb1e699042699b91623b1334d2f7  0.000000"
      ]
     },
     "execution_count": 29,
     "metadata": {},
     "output_type": "execute_result"
    }
   ],
   "source": [
    "df_farmers.bdv = (df_farmers.bdv - df_farmers.removedBDV) / 1e6 \n",
    "df_farmers = df_farmers.drop(columns=['removedBDV']) \n",
    "df_farmers = df_farmers.rename(columns={\"id\": \"address\"})\n",
    "assert df_farmers.bdv.min() >= 0\n",
    "df_farmers.head()"
   ]
  },
  {
   "cell_type": "code",
   "execution_count": 45,
   "id": "19a0bd2a-15e2-4e6c-925b-91a138d3d7f8",
   "metadata": {},
   "outputs": [
    {
     "data": {
      "text/html": [
       "<div>\n",
       "<style scoped>\n",
       "    .dataframe tbody tr th:only-of-type {\n",
       "        vertical-align: middle;\n",
       "    }\n",
       "\n",
       "    .dataframe tbody tr th {\n",
       "        vertical-align: top;\n",
       "    }\n",
       "\n",
       "    .dataframe thead th {\n",
       "        text-align: right;\n",
       "    }\n",
       "</style>\n",
       "<table border=\"1\" class=\"dataframe\">\n",
       "  <thead>\n",
       "    <tr style=\"text-align: right;\">\n",
       "      <th></th>\n",
       "      <th>address</th>\n",
       "      <th>bdv</th>\n",
       "      <th>class</th>\n",
       "      <th>order</th>\n",
       "    </tr>\n",
       "  </thead>\n",
       "  <tbody>\n",
       "    <tr>\n",
       "      <th>2317</th>\n",
       "      <td>0xfb4570e63a5b87fd415ec6f855373902cae7a1f7</td>\n",
       "      <td>7.525624e+05</td>\n",
       "      <td>500,000 - 1,000,000 bdv</td>\n",
       "      <td>9.0</td>\n",
       "    </tr>\n",
       "    <tr>\n",
       "      <th>2318</th>\n",
       "      <td>0xc06320d9028f851c6ce46e43f04aff0a426f446c</td>\n",
       "      <td>8.949305e+05</td>\n",
       "      <td>500,000 - 1,000,000 bdv</td>\n",
       "      <td>9.0</td>\n",
       "    </tr>\n",
       "    <tr>\n",
       "      <th>2319</th>\n",
       "      <td>0xef764bac8a438e7e498c2e5fccf0f174c3e3f8db</td>\n",
       "      <td>9.276108e+05</td>\n",
       "      <td>500,000 - 1,000,000 bdv</td>\n",
       "      <td>9.0</td>\n",
       "    </tr>\n",
       "    <tr>\n",
       "      <th>2320</th>\n",
       "      <td>0x10bf1dcb5ab7860bab1c3320163c6dddf8dcc0e4</td>\n",
       "      <td>1.432913e+06</td>\n",
       "      <td>1,000,000 - 5,000,000 bdv</td>\n",
       "      <td>10.0</td>\n",
       "    </tr>\n",
       "    <tr>\n",
       "      <th>2321</th>\n",
       "      <td>0xc46c1b39e6c86115620f5297e98859529b92ad14</td>\n",
       "      <td>1.943953e+06</td>\n",
       "      <td>1,000,000 - 5,000,000 bdv</td>\n",
       "      <td>10.0</td>\n",
       "    </tr>\n",
       "  </tbody>\n",
       "</table>\n",
       "</div>"
      ],
      "text/plain": [
       "                                         address           bdv  \\\n",
       "2317  0xfb4570e63a5b87fd415ec6f855373902cae7a1f7  7.525624e+05   \n",
       "2318  0xc06320d9028f851c6ce46e43f04aff0a426f446c  8.949305e+05   \n",
       "2319  0xef764bac8a438e7e498c2e5fccf0f174c3e3f8db  9.276108e+05   \n",
       "2320  0x10bf1dcb5ab7860bab1c3320163c6dddf8dcc0e4  1.432913e+06   \n",
       "2321  0xc46c1b39e6c86115620f5297e98859529b92ad14  1.943953e+06   \n",
       "\n",
       "                          class  order  \n",
       "2317    500,000 - 1,000,000 bdv    9.0  \n",
       "2318    500,000 - 1,000,000 bdv    9.0  \n",
       "2319    500,000 - 1,000,000 bdv    9.0  \n",
       "2320  1,000,000 - 5,000,000 bdv   10.0  \n",
       "2321  1,000,000 - 5,000,000 bdv   10.0  "
      ]
     },
     "execution_count": 45,
     "metadata": {},
     "output_type": "execute_result"
    }
   ],
   "source": [
    "from functools import partial \n",
    "\n",
    "breakpoints = [\n",
    "    1, 1e3, .5e4, 1e4, 2.5e4, 5e4, 1e5, 2.5e5, 5e5, 1e6, 5e6, float(\"inf\") \n",
    "]\n",
    "\n",
    "def classify(order, bdv):\n",
    "    for i in range(1, len(breakpoints)):\n",
    "        b0 = breakpoints[i-1] \n",
    "        b1 = breakpoints[i]\n",
    "        if b0 <= bdv < b1: \n",
    "            if order: \n",
    "                return i \n",
    "            else: \n",
    "                if b1 == float('inf'): \n",
    "                    return f\"{int(b0):,}+ bdv\"\n",
    "                else: \n",
    "                    return f\"{int(b0):,} - {int(b1):,} bdv\"\n",
    "            \n",
    "df_class_order = pd.DataFrame(data=[\n",
    "    {'class': classify(False, breakpoints[i]), 'order': i}   \n",
    "    for i in range(len(breakpoints))\n",
    "]) \n",
    "df = df_farmers.groupby(by=\"address\").sum().reset_index()\n",
    "df['class'] = df.bdv.apply(partial(classify, False))\n",
    "df['order'] = df.bdv.apply(partial(classify, True))\n",
    "df = df.sort_values('bdv').reset_index(drop=True)\n",
    "df = df.dropna(subset=\"class\")\n",
    "df.tail()"
   ]
  },
  {
   "cell_type": "code",
   "execution_count": 46,
   "id": "3724acbd-2f44-4aae-86e7-a53930c8c9f2",
   "metadata": {},
   "outputs": [
    {
     "data": {
      "text/html": [
       "<div>\n",
       "<style scoped>\n",
       "    .dataframe tbody tr th:only-of-type {\n",
       "        vertical-align: middle;\n",
       "    }\n",
       "\n",
       "    .dataframe tbody tr th {\n",
       "        vertical-align: top;\n",
       "    }\n",
       "\n",
       "    .dataframe thead th {\n",
       "        text-align: right;\n",
       "    }\n",
       "</style>\n",
       "<table border=\"1\" class=\"dataframe\">\n",
       "  <thead>\n",
       "    <tr style=\"text-align: right;\">\n",
       "      <th></th>\n",
       "      <th>class</th>\n",
       "      <th>count</th>\n",
       "      <th>order</th>\n",
       "    </tr>\n",
       "  </thead>\n",
       "  <tbody>\n",
       "    <tr>\n",
       "      <th>0</th>\n",
       "      <td>1 - 1,000 bdv</td>\n",
       "      <td>934</td>\n",
       "      <td>0</td>\n",
       "    </tr>\n",
       "    <tr>\n",
       "      <th>1</th>\n",
       "      <td>1,000 - 5,000 bdv</td>\n",
       "      <td>531</td>\n",
       "      <td>1</td>\n",
       "    </tr>\n",
       "    <tr>\n",
       "      <th>2</th>\n",
       "      <td>1,000,000 - 5,000,000 bdv</td>\n",
       "      <td>2</td>\n",
       "      <td>9</td>\n",
       "    </tr>\n",
       "    <tr>\n",
       "      <th>3</th>\n",
       "      <td>10,000 - 25,000 bdv</td>\n",
       "      <td>201</td>\n",
       "      <td>3</td>\n",
       "    </tr>\n",
       "    <tr>\n",
       "      <th>4</th>\n",
       "      <td>100,000 - 250,000 bdv</td>\n",
       "      <td>53</td>\n",
       "      <td>6</td>\n",
       "    </tr>\n",
       "  </tbody>\n",
       "</table>\n",
       "</div>"
      ],
      "text/plain": [
       "                       class  count  order\n",
       "0              1 - 1,000 bdv    934      0\n",
       "1          1,000 - 5,000 bdv    531      1\n",
       "2  1,000,000 - 5,000,000 bdv      2      9\n",
       "3        10,000 - 25,000 bdv    201      3\n",
       "4      100,000 - 250,000 bdv     53      6"
      ]
     },
     "execution_count": 46,
     "metadata": {},
     "output_type": "execute_result"
    }
   ],
   "source": [
    "# Get the count of pod holders by classification \n",
    "df_count_class = (\n",
    "    df[['class', 'bdv']]\n",
    "    .groupby('class').count()\n",
    "    .reset_index()\n",
    "    .merge(df_class_order, how=\"left\", on=\"class\")\n",
    "    .rename(columns={\"bdv\": \"count\"})\n",
    ")\n",
    "# Sum value held by each class of holders \n",
    "df_class_value = (\n",
    "    df[['class', 'bdv']]\n",
    "    .groupby('class').sum()\n",
    "    .reset_index()\n",
    "    .merge(df_class_order, how=\"left\", on=\"class\")\n",
    ")\n",
    "color_domain = list(sorted(df_count_class['class'].unique()))\n",
    "color_range = [Tableau_10.hex_colors[i] for i in range(len(color_domain))]\n",
    "df_count_class.head()"
   ]
  },
  {
   "cell_type": "code",
   "execution_count": 48,
   "id": "013a35a6-f244-4bf6-b525-35b1970dfd20",
   "metadata": {},
   "outputs": [
    {
     "data": {
      "text/html": [
       "\n",
       "<div id=\"altair-viz-46d6e9b5683e48feb2192214e6a095d8\"></div>\n",
       "<script type=\"text/javascript\">\n",
       "  var VEGA_DEBUG = (typeof VEGA_DEBUG == \"undefined\") ? {} : VEGA_DEBUG;\n",
       "  (function(spec, embedOpt){\n",
       "    let outputDiv = document.currentScript.previousElementSibling;\n",
       "    if (outputDiv.id !== \"altair-viz-46d6e9b5683e48feb2192214e6a095d8\") {\n",
       "      outputDiv = document.getElementById(\"altair-viz-46d6e9b5683e48feb2192214e6a095d8\");\n",
       "    }\n",
       "    const paths = {\n",
       "      \"vega\": \"https://cdn.jsdelivr.net/npm//vega@5?noext\",\n",
       "      \"vega-lib\": \"https://cdn.jsdelivr.net/npm//vega-lib?noext\",\n",
       "      \"vega-lite\": \"https://cdn.jsdelivr.net/npm//vega-lite@4.17.0?noext\",\n",
       "      \"vega-embed\": \"https://cdn.jsdelivr.net/npm//vega-embed@6?noext\",\n",
       "    };\n",
       "\n",
       "    function maybeLoadScript(lib, version) {\n",
       "      var key = `${lib.replace(\"-\", \"\")}_version`;\n",
       "      return (VEGA_DEBUG[key] == version) ?\n",
       "        Promise.resolve(paths[lib]) :\n",
       "        new Promise(function(resolve, reject) {\n",
       "          var s = document.createElement('script');\n",
       "          document.getElementsByTagName(\"head\")[0].appendChild(s);\n",
       "          s.async = true;\n",
       "          s.onload = () => {\n",
       "            VEGA_DEBUG[key] = version;\n",
       "            return resolve(paths[lib]);\n",
       "          };\n",
       "          s.onerror = () => reject(`Error loading script: ${paths[lib]}`);\n",
       "          s.src = paths[lib];\n",
       "        });\n",
       "    }\n",
       "\n",
       "    function showError(err) {\n",
       "      outputDiv.innerHTML = `<div class=\"error\" style=\"color:red;\">${err}</div>`;\n",
       "      throw err;\n",
       "    }\n",
       "\n",
       "    function displayChart(vegaEmbed) {\n",
       "      vegaEmbed(outputDiv, spec, embedOpt)\n",
       "        .catch(err => showError(`Javascript Error: ${err.message}<br>This usually means there's a typo in your chart specification. See the javascript console for the full traceback.`));\n",
       "    }\n",
       "\n",
       "    if(typeof define === \"function\" && define.amd) {\n",
       "      requirejs.config({paths});\n",
       "      require([\"vega-embed\"], displayChart, err => showError(`Error loading script: ${err.message}`));\n",
       "    } else {\n",
       "      maybeLoadScript(\"vega\", \"5\")\n",
       "        .then(() => maybeLoadScript(\"vega-lite\", \"4.17.0\"))\n",
       "        .then(() => maybeLoadScript(\"vega-embed\", \"6\"))\n",
       "        .catch(showError)\n",
       "        .then(() => displayChart(vegaEmbed));\n",
       "    }\n",
       "  })({\"config\": {\"view\": {\"continuousWidth\": 400, \"continuousHeight\": 300}}, \"hconcat\": [{\"layer\": [{\"mark\": \"bar\", \"encoding\": {\"color\": {\"field\": \"class\", \"legend\": null, \"scale\": {\"domain\": [\"1 - 1,000 bdv\", \"1,000 - 5,000 bdv\", \"1,000,000 - 5,000,000 bdv\", \"10,000 - 25,000 bdv\", \"100,000 - 250,000 bdv\", \"25,000 - 50,000 bdv\", \"250,000 - 500,000 bdv\", \"5,000 - 10,000 bdv\", \"50,000 - 100,000 bdv\", \"500,000 - 1,000,000 bdv\"], \"range\": [\"#1F77B4\", \"#FF7F0E\", \"#2CA02C\", \"#D62728\", \"#9467BD\", \"#8C564B\", \"#E377C2\", \"#7F7F7F\", \"#BCBD22\", \"#17BECF\"]}, \"type\": \"ordinal\"}, \"stroke\": {\"condition\": {\"value\": \"black\", \"selection\": \"selector006\"}, \"value\": \"white\"}, \"x\": {\"axis\": {\"title\": \"Classification\"}, \"field\": \"class\", \"sort\": {\"field\": \"order\"}, \"type\": \"ordinal\"}, \"y\": {\"axis\": {\"title\": \"Unique Addresses\"}, \"field\": \"count\", \"type\": \"quantitative\"}}, \"selection\": {\"selector006\": {\"type\": \"single\", \"encodings\": [\"x\"], \"nearest\": true, \"on\": \"mouseover\", \"empty\": \"none\", \"clear\": \"mouseout\"}}, \"title\": \"Count of Holders by BDV Held Classification\", \"width\": 500}, {\"mark\": {\"type\": \"text\", \"color\": \"black\", \"dy\": -10}, \"encoding\": {\"stroke\": {\"value\": \"black\"}, \"strokeWidth\": {\"condition\": {\"value\": 0.6, \"selection\": \"selector006\"}, \"value\": 0}, \"text\": {\"field\": \"count\", \"format\": \",d\", \"type\": \"quantitative\"}, \"x\": {\"axis\": {\"title\": \"Classification\"}, \"field\": \"class\", \"sort\": {\"field\": \"order\"}, \"type\": \"ordinal\"}, \"y\": {\"axis\": {\"title\": \"Unique Addresses\"}, \"field\": \"count\", \"type\": \"quantitative\"}}, \"title\": \"Count of Holders by BDV Held Classification\", \"width\": 500}], \"data\": {\"name\": \"data-829ef2388040c5d2877b51154f7d98e9\"}}, {\"layer\": [{\"mark\": \"bar\", \"encoding\": {\"color\": {\"field\": \"class\", \"legend\": null, \"scale\": {\"domain\": [\"1 - 1,000 bdv\", \"1,000 - 5,000 bdv\", \"1,000,000 - 5,000,000 bdv\", \"10,000 - 25,000 bdv\", \"100,000 - 250,000 bdv\", \"25,000 - 50,000 bdv\", \"250,000 - 500,000 bdv\", \"5,000 - 10,000 bdv\", \"50,000 - 100,000 bdv\", \"500,000 - 1,000,000 bdv\"], \"range\": [\"#1F77B4\", \"#FF7F0E\", \"#2CA02C\", \"#D62728\", \"#9467BD\", \"#8C564B\", \"#E377C2\", \"#7F7F7F\", \"#BCBD22\", \"#17BECF\"]}, \"type\": \"ordinal\"}, \"stroke\": {\"condition\": {\"value\": \"black\", \"selection\": \"selector006\"}, \"value\": \"white\"}, \"x\": {\"axis\": {\"title\": \"Classification\"}, \"field\": \"class\", \"sort\": {\"field\": \"order\"}, \"type\": \"ordinal\"}, \"y\": {\"axis\": {\"title\": \"BDV\"}, \"field\": \"bdv\", \"type\": \"quantitative\"}}, \"selection\": {\"selector006\": {\"type\": \"single\", \"encodings\": [\"x\"], \"nearest\": true, \"on\": \"mouseover\", \"empty\": \"none\", \"clear\": \"mouseout\"}}, \"title\": \"Cumulative BDV by BDV Held Classification\", \"width\": 500}, {\"mark\": {\"type\": \"text\", \"color\": \"black\", \"dy\": -10}, \"encoding\": {\"stroke\": {\"value\": \"black\"}, \"strokeWidth\": {\"condition\": {\"value\": 0.6, \"selection\": \"selector006\"}, \"value\": 0}, \"text\": {\"field\": \"bdv\", \"format\": \".3s\", \"type\": \"quantitative\"}, \"x\": {\"axis\": {\"title\": \"Classification\"}, \"field\": \"class\", \"sort\": {\"field\": \"order\"}, \"type\": \"ordinal\"}, \"y\": {\"axis\": {\"title\": \"BDV\"}, \"field\": \"bdv\", \"type\": \"quantitative\"}}, \"title\": \"Cumulative BDV by BDV Held Classification\", \"width\": 500}], \"data\": {\"name\": \"data-462be8a8fb9be453a6e468cccea2a6c5\"}}], \"$schema\": \"https://vega.github.io/schema/vega-lite/v4.17.0.json\", \"datasets\": {\"data-829ef2388040c5d2877b51154f7d98e9\": [{\"class\": \"1 - 1,000 bdv\", \"count\": 934, \"order\": 0}, {\"class\": \"1,000 - 5,000 bdv\", \"count\": 531, \"order\": 1}, {\"class\": \"1,000,000 - 5,000,000 bdv\", \"count\": 2, \"order\": 9}, {\"class\": \"10,000 - 25,000 bdv\", \"count\": 201, \"order\": 3}, {\"class\": \"100,000 - 250,000 bdv\", \"count\": 53, \"order\": 6}, {\"class\": \"25,000 - 50,000 bdv\", \"count\": 93, \"order\": 4}, {\"class\": \"250,000 - 500,000 bdv\", \"count\": 24, \"order\": 7}, {\"class\": \"5,000 - 10,000 bdv\", \"count\": 183, \"order\": 2}, {\"class\": \"50,000 - 100,000 bdv\", \"count\": 70, \"order\": 5}, {\"class\": \"500,000 - 1,000,000 bdv\", \"count\": 9, \"order\": 8}], \"data-462be8a8fb9be453a6e468cccea2a6c5\": [{\"class\": \"1 - 1,000 bdv\", \"bdv\": 248994.723669, \"order\": 0}, {\"class\": \"1,000 - 5,000 bdv\", \"bdv\": 1291685.975006, \"order\": 1}, {\"class\": \"1,000,000 - 5,000,000 bdv\", \"bdv\": 3376866.5263450006, \"order\": 9}, {\"class\": \"10,000 - 25,000 bdv\", \"bdv\": 3265859.379406, \"order\": 3}, {\"class\": \"100,000 - 250,000 bdv\", \"bdv\": 8655629.925689, \"order\": 6}, {\"class\": \"25,000 - 50,000 bdv\", \"bdv\": 3360593.306951, \"order\": 4}, {\"class\": \"250,000 - 500,000 bdv\", \"bdv\": 7702316.228203, \"order\": 7}, {\"class\": \"5,000 - 10,000 bdv\", \"bdv\": 1299380.036869, \"order\": 2}, {\"class\": \"50,000 - 100,000 bdv\", \"bdv\": 4960731.350029, \"order\": 5}, {\"class\": \"500,000 - 1,000,000 bdv\", \"bdv\": 6366740.021355, \"order\": 8}]}}, {\"mode\": \"vega-lite\"});\n",
       "</script>"
      ],
      "text/plain": [
       "alt.HConcatChart(...)"
      ]
     },
     "execution_count": 48,
     "metadata": {},
     "output_type": "execute_result"
    }
   ],
   "source": [
    "width = 500 \n",
    "x = alt.X(\"class:O\", sort=alt.SortField(\"order\"), axis=alt.Axis(title=\"Classification\"))\n",
    "color = alt.Color(\n",
    "    \"class:O\", \n",
    "    legend=None, \n",
    "    scale=alt.Scale(domain=color_domain, range=color_range)\n",
    ")\n",
    "selection = alt.selection_single(\n",
    "    encodings=['x'], nearest=True, on='mouseover', empty='none', clear='mouseout'\n",
    ")\n",
    "\n",
    "# Chart count class \n",
    "base_count_class = (\n",
    "    alt.Chart(df_count_class, width=width, title=\"Count of Holders by BDV Held Classification\")\n",
    "    .mark_bar()\n",
    "    .encode(x=x, y=alt.Y(\"count:Q\", axis=alt.Axis(title=\"Unique Addresses\")))\n",
    ")\n",
    "chart_count_class_histogram = (\n",
    "    base_count_class\n",
    "    .encode(\n",
    "        color=color, \n",
    "        stroke=alt.condition(selection, alt.value(\"black\"), alt.value(\"white\"))\n",
    "    )\n",
    "    .mark_bar()\n",
    ")\n",
    "chart_count_class_text = (\n",
    "    base_count_class\n",
    "    .encode(\n",
    "        text=alt.Text(\"count:Q\", format=\",d\"),\n",
    "        stroke=alt.value(\"black\"), \n",
    "        strokeWidth=alt.condition(selection, alt.value(.6), alt.value(0)),\n",
    "    )\n",
    "    .mark_text(color='black', dy=-10)\n",
    ")\n",
    "\n",
    "# Chart class value \n",
    "base_class_value = (\n",
    "    alt.Chart(df_class_value, width=width, title=\"Cumulative BDV by BDV Held Classification\")\n",
    "    .mark_bar()\n",
    "    .encode(x=x, y=alt.Y(\"bdv:Q\", axis=alt.Axis(title=\"BDV\")),)\n",
    ")\n",
    "chart_class_value_histogram = (\n",
    "    base_class_value\n",
    "    .encode(\n",
    "        color=color,\n",
    "        stroke=alt.condition(selection, alt.value(\"black\"), alt.value(\"white\")),\n",
    "    )\n",
    "    .mark_bar()\n",
    ")\n",
    "chart_class_value_text = (\n",
    "    base_class_value\n",
    "    .encode(\n",
    "        text=alt.Text(\"bdv:Q\", format=\".3s\"),\n",
    "        stroke=alt.value(\"black\"), \n",
    "        strokeWidth=alt.condition(selection, alt.value(.6), alt.value(0)),\n",
    "    )\n",
    "    .mark_text(color='black', dy=-10)\n",
    ")\n",
    "\n",
    "c = (\n",
    "    alt.hconcat(\n",
    "        alt.layer(chart_count_class_histogram, chart_count_class_text).add_selection(selection), \n",
    "        alt.layer(chart_class_value_histogram, chart_class_value_text).add_selection(selection), \n",
    "    )\n",
    ")\n",
    "c"
   ]
  },
  {
   "cell_type": "code",
   "execution_count": 49,
   "id": "d6752862",
   "metadata": {},
   "outputs": [
    {
     "data": {
      "application/json": {
       "css": null,
       "spec": {
        "$schema": "https://vega.github.io/schema/vega-lite/v4.17.0.json",
        "config": {
         "view": {
          "continuousHeight": 300,
          "continuousWidth": 400
         }
        },
        "datasets": {
         "data-462be8a8fb9be453a6e468cccea2a6c5": [
          {
           "bdv": 248994.723669,
           "class": "1 - 1,000 bdv",
           "order": 0
          },
          {
           "bdv": 1291685.975006,
           "class": "1,000 - 5,000 bdv",
           "order": 1
          },
          {
           "bdv": 3376866.5263450006,
           "class": "1,000,000 - 5,000,000 bdv",
           "order": 9
          },
          {
           "bdv": 3265859.379406,
           "class": "10,000 - 25,000 bdv",
           "order": 3
          },
          {
           "bdv": 8655629.925689,
           "class": "100,000 - 250,000 bdv",
           "order": 6
          },
          {
           "bdv": 3360593.306951,
           "class": "25,000 - 50,000 bdv",
           "order": 4
          },
          {
           "bdv": 7702316.228203,
           "class": "250,000 - 500,000 bdv",
           "order": 7
          },
          {
           "bdv": 1299380.036869,
           "class": "5,000 - 10,000 bdv",
           "order": 2
          },
          {
           "bdv": 4960731.350029,
           "class": "50,000 - 100,000 bdv",
           "order": 5
          },
          {
           "bdv": 6366740.021355,
           "class": "500,000 - 1,000,000 bdv",
           "order": 8
          }
         ],
         "data-829ef2388040c5d2877b51154f7d98e9": [
          {
           "class": "1 - 1,000 bdv",
           "count": 934,
           "order": 0
          },
          {
           "class": "1,000 - 5,000 bdv",
           "count": 531,
           "order": 1
          },
          {
           "class": "1,000,000 - 5,000,000 bdv",
           "count": 2,
           "order": 9
          },
          {
           "class": "10,000 - 25,000 bdv",
           "count": 201,
           "order": 3
          },
          {
           "class": "100,000 - 250,000 bdv",
           "count": 53,
           "order": 6
          },
          {
           "class": "25,000 - 50,000 bdv",
           "count": 93,
           "order": 4
          },
          {
           "class": "250,000 - 500,000 bdv",
           "count": 24,
           "order": 7
          },
          {
           "class": "5,000 - 10,000 bdv",
           "count": 183,
           "order": 2
          },
          {
           "class": "50,000 - 100,000 bdv",
           "count": 70,
           "order": 5
          },
          {
           "class": "500,000 - 1,000,000 bdv",
           "count": 9,
           "order": 8
          }
         ]
        },
        "hconcat": [
         {
          "data": {
           "name": "data-829ef2388040c5d2877b51154f7d98e9"
          },
          "layer": [
           {
            "encoding": {
             "color": {
              "field": "class",
              "legend": null,
              "scale": {
               "domain": [
                "1 - 1,000 bdv",
                "1,000 - 5,000 bdv",
                "1,000,000 - 5,000,000 bdv",
                "10,000 - 25,000 bdv",
                "100,000 - 250,000 bdv",
                "25,000 - 50,000 bdv",
                "250,000 - 500,000 bdv",
                "5,000 - 10,000 bdv",
                "50,000 - 100,000 bdv",
                "500,000 - 1,000,000 bdv"
               ],
               "range": [
                "#1F77B4",
                "#FF7F0E",
                "#2CA02C",
                "#D62728",
                "#9467BD",
                "#8C564B",
                "#E377C2",
                "#7F7F7F",
                "#BCBD22",
                "#17BECF"
               ]
              },
              "type": "ordinal"
             },
             "stroke": {
              "condition": {
               "selection": "selector006",
               "value": "black"
              },
              "value": "white"
             },
             "x": {
              "axis": {
               "title": "Classification"
              },
              "field": "class",
              "sort": {
               "field": "order"
              },
              "type": "ordinal"
             },
             "y": {
              "axis": {
               "title": "Unique Addresses"
              },
              "field": "count",
              "type": "quantitative"
             }
            },
            "mark": "bar",
            "selection": {
             "selector006": {
              "clear": "mouseout",
              "empty": "none",
              "encodings": [
               "x"
              ],
              "nearest": true,
              "on": "mouseover",
              "type": "single"
             }
            },
            "title": "Count of Holders by BDV Held Classification",
            "width": 500
           },
           {
            "encoding": {
             "stroke": {
              "value": "black"
             },
             "strokeWidth": {
              "condition": {
               "selection": "selector006",
               "value": 0.6
              },
              "value": 0
             },
             "text": {
              "field": "count",
              "format": ",d",
              "type": "quantitative"
             },
             "x": {
              "axis": {
               "title": "Classification"
              },
              "field": "class",
              "sort": {
               "field": "order"
              },
              "type": "ordinal"
             },
             "y": {
              "axis": {
               "title": "Unique Addresses"
              },
              "field": "count",
              "type": "quantitative"
             }
            },
            "mark": {
             "color": "black",
             "dy": -10,
             "type": "text"
            },
            "title": "Count of Holders by BDV Held Classification",
            "width": 500
           }
          ]
         },
         {
          "data": {
           "name": "data-462be8a8fb9be453a6e468cccea2a6c5"
          },
          "layer": [
           {
            "encoding": {
             "color": {
              "field": "class",
              "legend": null,
              "scale": {
               "domain": [
                "1 - 1,000 bdv",
                "1,000 - 5,000 bdv",
                "1,000,000 - 5,000,000 bdv",
                "10,000 - 25,000 bdv",
                "100,000 - 250,000 bdv",
                "25,000 - 50,000 bdv",
                "250,000 - 500,000 bdv",
                "5,000 - 10,000 bdv",
                "50,000 - 100,000 bdv",
                "500,000 - 1,000,000 bdv"
               ],
               "range": [
                "#1F77B4",
                "#FF7F0E",
                "#2CA02C",
                "#D62728",
                "#9467BD",
                "#8C564B",
                "#E377C2",
                "#7F7F7F",
                "#BCBD22",
                "#17BECF"
               ]
              },
              "type": "ordinal"
             },
             "stroke": {
              "condition": {
               "selection": "selector006",
               "value": "black"
              },
              "value": "white"
             },
             "x": {
              "axis": {
               "title": "Classification"
              },
              "field": "class",
              "sort": {
               "field": "order"
              },
              "type": "ordinal"
             },
             "y": {
              "axis": {
               "title": "BDV"
              },
              "field": "bdv",
              "type": "quantitative"
             }
            },
            "mark": "bar",
            "selection": {
             "selector006": {
              "clear": "mouseout",
              "empty": "none",
              "encodings": [
               "x"
              ],
              "nearest": true,
              "on": "mouseover",
              "type": "single"
             }
            },
            "title": "Cumulative BDV by BDV Held Classification",
            "width": 500
           },
           {
            "encoding": {
             "stroke": {
              "value": "black"
             },
             "strokeWidth": {
              "condition": {
               "selection": "selector006",
               "value": 0.6
              },
              "value": 0
             },
             "text": {
              "field": "bdv",
              "format": ".3s",
              "type": "quantitative"
             },
             "x": {
              "axis": {
               "title": "Classification"
              },
              "field": "class",
              "sort": {
               "field": "order"
              },
              "type": "ordinal"
             },
             "y": {
              "axis": {
               "title": "BDV"
              },
              "field": "bdv",
              "type": "quantitative"
             }
            },
            "mark": {
             "color": "black",
             "dy": -10,
             "type": "text"
            },
            "title": "Cumulative BDV by BDV Held Classification",
            "width": 500
           }
          ]
         }
        ]
       },
       "width_paths": [
        {
         "factor": 1,
         "path": [
          "config",
          "view",
          "continuousWidth"
         ],
         "value": 400
        },
        {
         "factor": 1,
         "path": [
          "hconcat",
          0,
          "layer",
          0,
          "width"
         ],
         "value": 500
        },
        {
         "factor": 1,
         "path": [
          "hconcat",
          0,
          "layer",
          1,
          "width"
         ],
         "value": 500
        },
        {
         "factor": 1,
         "path": [
          "hconcat",
          1,
          "layer",
          0,
          "width"
         ],
         "value": 500
        },
        {
         "factor": 1,
         "path": [
          "hconcat",
          1,
          "layer",
          1,
          "width"
         ],
         "value": 500
        }
       ]
      },
      "text/plain": [
       "<IPython.core.display.JSON object>"
      ]
     },
     "execution_count": 49,
     "metadata": {
      "application/json": {
       "expanded": false,
       "root": "root"
      }
     },
     "output_type": "execute_result"
    }
   ],
   "source": [
    "output_chart(c)"
   ]
  },
  {
   "cell_type": "code",
   "execution_count": null,
   "id": "2b85c342",
   "metadata": {},
   "outputs": [],
   "source": []
  }
 ],
 "metadata": {
  "kernelspec": {
   "display_name": "beanstalk",
   "language": "python",
   "name": "beanstalk"
  },
  "language_info": {
   "codemirror_mode": {
    "name": "ipython",
    "version": 3
   },
   "file_extension": ".py",
   "mimetype": "text/x-python",
   "name": "python",
   "nbconvert_exporter": "python",
   "pygments_lexer": "ipython3",
   "version": "3.10.5"
  }
 },
 "nbformat": 4,
 "nbformat_minor": 5
}
