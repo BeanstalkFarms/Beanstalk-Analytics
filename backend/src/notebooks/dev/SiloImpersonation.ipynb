{
 "cells": [
  {
   "cell_type": "code",
   "execution_count": 1,
   "id": "bb524f98-4f94-476c-b760-7d5dbae7938d",
   "metadata": {},
   "outputs": [
    {
     "name": "stdout",
     "output_type": "stream",
     "text": [
      "https://api.thegraph.com/subgraphs/name/cujowolf/beanstalk\n"
     ]
    }
   ],
   "source": [
    "import os \n",
    "import sys \n",
    "\n",
    "cur_path = os.path.abspath(\"../..\")\n",
    "if cur_path not in sys.path: \n",
    "    sys.path.append(cur_path)\n",
    "\n",
    "from functools import cache \n",
    "import numpy as np \n",
    "import pandas as pd \n",
    "import altair as alt \n",
    "from IPython.display import clear_output\n",
    "from altair import datum\n",
    "from dotenv import load_dotenv\n",
    "from subgrounds.subgrounds import Subgrounds, Subgraph\n",
    "from subgrounds.pagination import ShallowStrategy\n",
    "\n",
    "# Required when developing in a jupyter-notebook environment \n",
    "load_dotenv('../../../.env')\n",
    "\n",
    "print(os.environ['SUBGRAPH_URL'])\n",
    "\n",
    "from utils_notebook.utils import ddf, load_subgraph, remove_prefix\n",
    "from utils_notebook.vega import (\n",
    "    output_chart, \n",
    "    apply_css, \n",
    "    stack_order_expr, \n",
    "    wide_to_longwide, \n",
    ")\n",
    "from utils_notebook.queries import adjust_precision, QueryManager\n",
    "from utils_notebook.testing import validate_season_series\n",
    "from utils_notebook.css import css_tooltip_timeseries_multi_colored\n",
    "from utils_notebook.queries import QueryManager"
   ]
  },
  {
   "cell_type": "code",
   "execution_count": 2,
   "id": "9ef8dcc6",
   "metadata": {},
   "outputs": [],
   "source": [
    "sg: Subgrounds\n",
    "bs: Subgraph\n",
    "sg, bs = load_subgraph()"
   ]
  },
  {
   "cell_type": "code",
   "execution_count": 15,
   "id": "b27660a3-da88-451e-bd9d-0067e67183cc",
   "metadata": {},
   "outputs": [],
   "source": [
    "from utils_notebook.utils import add_silo_token_name_adjust_precision\n",
    "\n",
    "farmer_address = \"\" # Input farmer address here \n",
    "silo_deposits = bs.Query.siloDeposits(\n",
    "    first=100, orderBy=\"season\", orderDirection=\"asc\", where={\n",
    "        \"farmer_\": {\"id\": farmer_address}\n",
    "    }\n",
    ")\n",
    "df = sg.query_df([\n",
    "    silo_deposits.season, \n",
    "    silo_deposits.updatedAt, \n",
    "    silo_deposits.bdv, \n",
    "    silo_deposits.removedBDV, \n",
    "    silo_deposits.removedTokenAmount, \n",
    "    silo_deposits.token, \n",
    "    silo_deposits.tokenAmount,\n",
    "])\n",
    "df = remove_prefix(df, \"siloDeposits_\")\n",
    "df.updatedAt = pd.to_datetime(df.updatedAt, unit=\"s\")\n",
    "add_silo_token_name_adjust_precision(df, \"token\", ['tokenAmount', 'removedTokenAmount'])\n",
    "df.removedBDV /= 1e6\n",
    "df.bdv /= 1e6 \n",
    "df['bdv_remaining'] = df.bdv - df.removedBDV\n",
    "df['amount_remaining'] = df.tokenAmount - df.removedTokenAmount"
   ]
  },
  {
   "cell_type": "code",
   "execution_count": 2,
   "id": "f399d4ce-3a54-4a36-af28-52f363ddaae0",
   "metadata": {},
   "outputs": [],
   "source": [
    "# df.head(50)"
   ]
  },
  {
   "cell_type": "code",
   "execution_count": 20,
   "id": "238d8cf7-335b-44bc-8ae7-7ea78073eeaa",
   "metadata": {},
   "outputs": [],
   "source": [
    "from utils_notebook.utils import add_silo_token_name_adjust_precision\n",
    "\n",
    "add_deposits = bs.Query.addDeposits(\n",
    "    first=100, orderBy=\"season\", orderDirection=\"asc\", where={\n",
    "        \"account\": farmer_address\n",
    "    }\n",
    ")\n",
    "df = sg.query_df([\n",
    "    add_deposits.season,\n",
    "    add_deposits.timestamp,\n",
    "    add_deposits.token,\n",
    "    add_deposits.amount,\n",
    "    add_deposits.bdv,\n",
    "])\n",
    "df = remove_prefix(df, \"addDeposits_\")\n",
    "df.timestamp = pd.to_datetime(df.timestamp, unit=\"s\")\n",
    "add_silo_token_name_adjust_precision(df, \"token\", ['amount'])\n",
    "df.bdv /= 1e6 "
   ]
  },
  {
   "cell_type": "code",
   "execution_count": 1,
   "id": "b48570f8-1e71-4ac6-8fe2-62eda2002c4b",
   "metadata": {},
   "outputs": [],
   "source": [
    "# df.head(50)"
   ]
  },
  {
   "cell_type": "code",
   "execution_count": null,
   "id": "81e17079-165c-4d67-9405-d13ec75064a7",
   "metadata": {},
   "outputs": [],
   "source": []
  }
 ],
 "metadata": {
  "kernelspec": {
   "display_name": "beanstalk",
   "language": "python",
   "name": "beanstalk"
  },
  "language_info": {
   "codemirror_mode": {
    "name": "ipython",
    "version": 3
   },
   "file_extension": ".py",
   "mimetype": "text/x-python",
   "name": "python",
   "nbconvert_exporter": "python",
   "pygments_lexer": "ipython3",
   "version": "3.10.5"
  }
 },
 "nbformat": 4,
 "nbformat_minor": 5
}
