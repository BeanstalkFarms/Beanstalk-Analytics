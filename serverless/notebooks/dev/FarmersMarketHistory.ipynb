{
 "cells": [
  {
   "cell_type": "code",
   "execution_count": 1,
   "id": "bb524f98-4f94-476c-b760-7d5dbae7938d",
   "metadata": {},
   "outputs": [],
   "source": [
    "import os \n",
    "import sys \n",
    "\n",
    "cur_path = os.path.abspath(\"../..\")\n",
    "if cur_path not in sys.path: \n",
    "    sys.path.append(cur_path)\n",
    "\n",
    "from functools import cache \n",
    "import numpy as np \n",
    "import pandas as pd \n",
    "import altair as alt \n",
    "from altair import datum\n",
    "from subgrounds.subgrounds import Subgrounds, Subgraph\n",
    "from subgrounds.pagination import ShallowStrategy\n",
    "\n",
    "from dotenv import load_dotenv\n",
    "\n",
    "# Required when developing in a jupyter-notebook environment \n",
    "assert load_dotenv('../../../.env')\n",
    "\n",
    "from utils_notebook.utils import ddf, load_subgraph, remove_prefix\n",
    "from utils_notebook.vega import output_chart"
   ]
  },
  {
   "cell_type": "code",
   "execution_count": 2,
   "id": "4dda51ef-cb6a-4692-9bad-6ea39ab9c6fe",
   "metadata": {},
   "outputs": [],
   "source": [
    "sg: Subgrounds\n",
    "bs: Subgraph\n",
    "sg, bs = load_subgraph()"
   ]
  },
  {
   "cell_type": "code",
   "execution_count": 3,
   "id": "31d2f2a1",
   "metadata": {},
   "outputs": [],
   "source": [
    "@cache \n",
    "def query_marketplace_fills(*args):\n",
    "    # Query historical farmer's market order and listing fills \n",
    "    q = bs.Query.podFills(first=10000)\n",
    "    df = sg.query_df(\n",
    "        [\n",
    "            q.amount, \n",
    "            q.index, \n",
    "            q.start, \n",
    "            # q.listing.status, \n",
    "            # q.order.status, \n",
    "            q.listing.pricePerPod, \n",
    "            q.order.pricePerPod, \n",
    "            q.transaction.timestamp, \n",
    "        ],\n",
    "        pagination_strategy=ShallowStrategy\n",
    "    )\n",
    "    df = remove_prefix(df, \"podFills_\")\n",
    "    return df \n",
    "    "
   ]
  },
  {
   "cell_type": "code",
   "execution_count": 4,
   "id": "14f414c2",
   "metadata": {},
   "outputs": [
    {
     "ename": "KeyError",
     "evalue": "'TypeMeta.ObjectMeta.field: no field named transaction for interface PodFill'",
     "output_type": "error",
     "traceback": [
      "\u001b[0;31m---------------------------------------------------------------------------\u001b[0m",
      "\u001b[0;31mAttributeError\u001b[0m                            Traceback (most recent call last)",
      "File \u001b[0;32m~/opt/anaconda3/envs/beanstalk/lib/python3.10/site-packages/subgrounds/subgraph/fieldpath.py:485\u001b[0m, in \u001b[0;36mFieldPath.__getattribute__\u001b[0;34m(self, _FieldPath__name)\u001b[0m\n\u001b[1;32m    484\u001b[0m \u001b[38;5;28;01mtry\u001b[39;00m:\n\u001b[0;32m--> 485\u001b[0m   \u001b[38;5;28;01mmatch\u001b[39;00m \u001b[38;5;28;43msuper\u001b[39;49m\u001b[43m(\u001b[49m\u001b[43m)\u001b[49m\u001b[38;5;241;43m.\u001b[39;49m\u001b[38;5;21;43m__getattribute__\u001b[39;49m\u001b[43m(\u001b[49m\u001b[43m__name\u001b[49m\u001b[43m)\u001b[49m:\n\u001b[1;32m    486\u001b[0m     \u001b[38;5;28;01mcase\u001b[39;00m FieldPath() \u001b[38;5;241m|\u001b[39m SyntheticField() \u001b[38;5;241m|\u001b[39m \u001b[38;5;28;01mNone\u001b[39;00m:\n\u001b[1;32m    487\u001b[0m       \u001b[38;5;28;01mreturn\u001b[39;00m \u001b[38;5;28mself\u001b[39m\u001b[38;5;241m.\u001b[39m_select(__name)\n\u001b[1;32m    488\u001b[0m     \u001b[38;5;28;01mcase\u001b[39;00m value:\n\u001b[1;32m    489\u001b[0m       \u001b[38;5;28;01mreturn\u001b[39;00m value\n\u001b[1;32m    490\u001b[0m \u001b[38;5;28;01mexcept\u001b[39;00m \u001b[38;5;167;01mAttributeError\u001b[39;00m:\n",
      "\u001b[0;31mAttributeError\u001b[0m: 'FieldPath' object has no attribute 'transaction'",
      "\nDuring handling of the above exception, another exception occurred:\n",
      "\u001b[0;31mStopIteration\u001b[0m                             Traceback (most recent call last)",
      "File \u001b[0;32m~/opt/anaconda3/envs/beanstalk/lib/python3.10/site-packages/subgrounds/schema.py:214\u001b[0m, in \u001b[0;36mTypeMeta.ObjectMeta.field\u001b[0;34m(self, fname)\u001b[0m\n\u001b[1;32m    213\u001b[0m \u001b[38;5;28;01mtry\u001b[39;00m:\n\u001b[0;32m--> 214\u001b[0m   \u001b[38;5;28;01mreturn\u001b[39;00m \u001b[38;5;28;43mnext\u001b[39;49m\u001b[43m(\u001b[49m\n\u001b[1;32m    215\u001b[0m \u001b[43m    \u001b[49m\u001b[38;5;28;43mself\u001b[39;49m\u001b[38;5;241;43m.\u001b[39;49m\u001b[43mfields\u001b[49m\n\u001b[1;32m    216\u001b[0m \u001b[43m    \u001b[49m\u001b[38;5;241;43m|\u001b[39;49m\u001b[43m \u001b[49m\u001b[43mwhere\u001b[49m\u001b[43m(\u001b[49m\u001b[38;5;28;43;01mlambda\u001b[39;49;00m\u001b[43m \u001b[49m\u001b[43mfmeta\u001b[49m\u001b[43m:\u001b[49m\u001b[43m \u001b[49m\u001b[43mfmeta\u001b[49m\u001b[38;5;241;43m.\u001b[39;49m\u001b[43mname\u001b[49m\u001b[43m \u001b[49m\u001b[38;5;241;43m==\u001b[39;49m\u001b[43m \u001b[49m\u001b[43mfname\u001b[49m\u001b[43m)\u001b[49m\n\u001b[1;32m    217\u001b[0m \u001b[43m  \u001b[49m\u001b[43m)\u001b[49m\n\u001b[1;32m    218\u001b[0m \u001b[38;5;28;01mexcept\u001b[39;00m \u001b[38;5;167;01mStopIteration\u001b[39;00m:\n",
      "\u001b[0;31mStopIteration\u001b[0m: ",
      "\nDuring handling of the above exception, another exception occurred:\n",
      "\u001b[0;31mKeyError\u001b[0m                                  Traceback (most recent call last)",
      "Input \u001b[0;32mIn [4]\u001b[0m, in \u001b[0;36m<cell line: 2>\u001b[0;34m()\u001b[0m\n\u001b[1;32m      1\u001b[0m \u001b[38;5;66;03m# history of all marketplace listing and order fills \u001b[39;00m\n\u001b[0;32m----> 2\u001b[0m df_fills \u001b[38;5;241m=\u001b[39m \u001b[43mquery_marketplace_fills\u001b[49m\u001b[43m(\u001b[49m\u001b[38;5;241;43m1\u001b[39;49m\u001b[43m)\u001b[49m\u001b[38;5;241m.\u001b[39mcopy()\n\u001b[1;32m      3\u001b[0m df_fills \u001b[38;5;241m=\u001b[39m df_fills\u001b[38;5;241m.\u001b[39mrename(columns\u001b[38;5;241m=\u001b[39m{\n\u001b[1;32m      4\u001b[0m     \u001b[38;5;124m\"\u001b[39m\u001b[38;5;124mlisting_pricePerPod\u001b[39m\u001b[38;5;124m\"\u001b[39m: \u001b[38;5;124m\"\u001b[39m\u001b[38;5;124mlisting_price_per_pod\u001b[39m\u001b[38;5;124m\"\u001b[39m,\n\u001b[1;32m      5\u001b[0m     \u001b[38;5;124m\"\u001b[39m\u001b[38;5;124morder_pricePerPod\u001b[39m\u001b[38;5;124m\"\u001b[39m: \u001b[38;5;124m\"\u001b[39m\u001b[38;5;124morder_price_per_pod\u001b[39m\u001b[38;5;124m\"\u001b[39m, \n\u001b[1;32m      6\u001b[0m })\n\u001b[1;32m      7\u001b[0m df_fills\u001b[38;5;241m.\u001b[39mamount \u001b[38;5;241m/\u001b[39m\u001b[38;5;241m=\u001b[39m \u001b[38;5;241m10\u001b[39m\u001b[38;5;241m*\u001b[39m\u001b[38;5;241m*\u001b[39m\u001b[38;5;241m6\u001b[39m \n",
      "Input \u001b[0;32mIn [3]\u001b[0m, in \u001b[0;36mquery_marketplace_fills\u001b[0;34m(*args)\u001b[0m\n\u001b[1;32m      1\u001b[0m \u001b[38;5;129m@cache\u001b[39m \n\u001b[1;32m      2\u001b[0m \u001b[38;5;28;01mdef\u001b[39;00m \u001b[38;5;21mquery_marketplace_fills\u001b[39m(\u001b[38;5;241m*\u001b[39margs):\n\u001b[1;32m      3\u001b[0m     \u001b[38;5;66;03m# Query historical farmer's market order and listing fills \u001b[39;00m\n\u001b[1;32m      4\u001b[0m     q \u001b[38;5;241m=\u001b[39m bs\u001b[38;5;241m.\u001b[39mQuery\u001b[38;5;241m.\u001b[39mpodFills(first\u001b[38;5;241m=\u001b[39m\u001b[38;5;241m10000\u001b[39m)\n\u001b[1;32m      5\u001b[0m     df \u001b[38;5;241m=\u001b[39m sg\u001b[38;5;241m.\u001b[39mquery_df(\n\u001b[1;32m      6\u001b[0m         [\n\u001b[1;32m      7\u001b[0m             q\u001b[38;5;241m.\u001b[39mamount, \n\u001b[1;32m      8\u001b[0m             q\u001b[38;5;241m.\u001b[39mindex, \n\u001b[1;32m      9\u001b[0m             q\u001b[38;5;241m.\u001b[39mstart, \n\u001b[1;32m     10\u001b[0m             \u001b[38;5;66;03m# q.listing.status, \u001b[39;00m\n\u001b[1;32m     11\u001b[0m             \u001b[38;5;66;03m# q.order.status, \u001b[39;00m\n\u001b[1;32m     12\u001b[0m             q\u001b[38;5;241m.\u001b[39mlisting\u001b[38;5;241m.\u001b[39mpricePerPod, \n\u001b[1;32m     13\u001b[0m             q\u001b[38;5;241m.\u001b[39morder\u001b[38;5;241m.\u001b[39mpricePerPod, \n\u001b[0;32m---> 14\u001b[0m             \u001b[43mq\u001b[49m\u001b[38;5;241;43m.\u001b[39;49m\u001b[43mtransaction\u001b[49m\u001b[38;5;241m.\u001b[39mtimestamp, \n\u001b[1;32m     15\u001b[0m         ],\n\u001b[1;32m     16\u001b[0m         pagination_strategy\u001b[38;5;241m=\u001b[39mShallowStrategy\n\u001b[1;32m     17\u001b[0m     )\n\u001b[1;32m     18\u001b[0m     df \u001b[38;5;241m=\u001b[39m remove_prefix(df, \u001b[38;5;124m\"\u001b[39m\u001b[38;5;124mpodFills_\u001b[39m\u001b[38;5;124m\"\u001b[39m)\n\u001b[1;32m     19\u001b[0m     \u001b[38;5;28;01mreturn\u001b[39;00m df\n",
      "File \u001b[0;32m~/opt/anaconda3/envs/beanstalk/lib/python3.10/site-packages/subgrounds/subgraph/fieldpath.py:491\u001b[0m, in \u001b[0;36mFieldPath.__getattribute__\u001b[0;34m(self, _FieldPath__name)\u001b[0m\n\u001b[1;32m    485\u001b[0m   \u001b[38;5;28;01mmatch\u001b[39;00m \u001b[38;5;28msuper\u001b[39m()\u001b[38;5;241m.\u001b[39m\u001b[38;5;21m__getattribute__\u001b[39m(__name):\n\u001b[1;32m    486\u001b[0m     \u001b[38;5;28;01mcase\u001b[39;00m FieldPath() \u001b[38;5;241m|\u001b[39m SyntheticField() \u001b[38;5;241m|\u001b[39m \u001b[38;5;28;01mNone\u001b[39;00m:\n\u001b[1;32m    487\u001b[0m       \u001b[38;5;28;01mreturn\u001b[39;00m \u001b[38;5;28mself\u001b[39m\u001b[38;5;241m.\u001b[39m_select(__name)\n\u001b[1;32m    488\u001b[0m     \u001b[38;5;28;01mcase\u001b[39;00m value:\n\u001b[1;32m    489\u001b[0m       \u001b[38;5;28;01mreturn\u001b[39;00m value\n\u001b[1;32m    490\u001b[0m \u001b[38;5;28;01mexcept\u001b[39;00m \u001b[38;5;167;01mAttributeError\u001b[39;00m:\n\u001b[0;32m--> 491\u001b[0m   \u001b[38;5;28;01mreturn\u001b[39;00m \u001b[38;5;28;43mself\u001b[39;49m\u001b[38;5;241;43m.\u001b[39;49m\u001b[43m_select\u001b[49m\u001b[43m(\u001b[49m\u001b[43m__name\u001b[49m\u001b[43m)\u001b[49m\n",
      "File \u001b[0;32m~/opt/anaconda3/envs/beanstalk/lib/python3.10/site-packages/subgrounds/subgraph/fieldpath.py:399\u001b[0m, in \u001b[0;36mFieldPath._select\u001b[0;34m(self, name)\u001b[0m\n\u001b[1;32m    381\u001b[0m \u001b[38;5;28;01mdef\u001b[39;00m \u001b[38;5;21m_select\u001b[39m(\u001b[38;5;28mself\u001b[39m, name: \u001b[38;5;28mstr\u001b[39m) \u001b[38;5;241m-\u001b[39m\u001b[38;5;241m>\u001b[39m FieldPath:\n\u001b[1;32m    382\u001b[0m   \u001b[38;5;124;03m\"\"\" Returns a new FieldPath corresponding to the FieldPath `self` extended with an additional\u001b[39;00m\n\u001b[1;32m    383\u001b[0m \u001b[38;5;124;03m  selection on the field named `name`.\u001b[39;00m\n\u001b[1;32m    384\u001b[0m \u001b[38;5;124;03m  Args:\u001b[39;00m\n\u001b[0;32m   (...)\u001b[0m\n\u001b[1;32m    391\u001b[0m \u001b[38;5;124;03m    FieldPath: A new FieldPath containing `fpath` extended with the field named `name`\u001b[39;00m\n\u001b[1;32m    392\u001b[0m \u001b[38;5;124;03m  \"\"\"\u001b[39;00m\n\u001b[1;32m    393\u001b[0m   \u001b[38;5;28;01mmatch\u001b[39;00m \u001b[38;5;28mself\u001b[39m\u001b[38;5;241m.\u001b[39m_schema\u001b[38;5;241m.\u001b[39mtype_of_typeref(\u001b[38;5;28mself\u001b[39m\u001b[38;5;241m.\u001b[39m_type):\n\u001b[1;32m    394\u001b[0m     \u001b[38;5;66;03m# If the FieldPath fpath\u001b[39;00m\n\u001b[1;32m    395\u001b[0m     \u001b[38;5;28;01mcase\u001b[39;00m TypeMeta\u001b[38;5;241m.\u001b[39mEnumMeta() \u001b[38;5;241m|\u001b[39m TypeMeta\u001b[38;5;241m.\u001b[39mScalarMeta():\n\u001b[1;32m    396\u001b[0m       \u001b[38;5;28;01mraise\u001b[39;00m \u001b[38;5;167;01mTypeError\u001b[39;00m(\u001b[38;5;124mf\u001b[39m\u001b[38;5;124m\"\u001b[39m\u001b[38;5;124mFieldPath: path \u001b[39m\u001b[38;5;132;01m{\u001b[39;00m\u001b[38;5;28mself\u001b[39m\u001b[38;5;132;01m}\u001b[39;00m\u001b[38;5;124m ends with a scalar field! cannot select field \u001b[39m\u001b[38;5;132;01m{\u001b[39;00mname\u001b[38;5;132;01m}\u001b[39;00m\u001b[38;5;124m\"\u001b[39m)\n\u001b[1;32m    397\u001b[0m \n\u001b[1;32m    398\u001b[0m     \u001b[38;5;28;01mcase\u001b[39;00m TypeMeta\u001b[38;5;241m.\u001b[39mObjectMeta() \u001b[38;5;241m|\u001b[39m TypeMeta\u001b[38;5;241m.\u001b[39mInterfaceMeta() \u001b[38;5;28;01mas\u001b[39;00m obj:\n\u001b[0;32m--> 399\u001b[0m       field \u001b[38;5;241m=\u001b[39m \u001b[43mobj\u001b[49m\u001b[38;5;241;43m.\u001b[39;49m\u001b[43mfield\u001b[49m\u001b[43m(\u001b[49m\u001b[43mname\u001b[49m\u001b[43m)\u001b[49m\n\u001b[1;32m    400\u001b[0m \n\u001b[1;32m    401\u001b[0m       \u001b[38;5;28;01mmatch\u001b[39;00m \u001b[38;5;28mself\u001b[39m\u001b[38;5;241m.\u001b[39m_schema\u001b[38;5;241m.\u001b[39mtype_of_typeref(field\u001b[38;5;241m.\u001b[39mtype_):\n\u001b[1;32m    402\u001b[0m         \u001b[38;5;28;01mcase\u001b[39;00m TypeMeta\u001b[38;5;241m.\u001b[39mObjectMeta() \u001b[38;5;241m|\u001b[39m TypeMeta\u001b[38;5;241m.\u001b[39mInterfaceMeta() \u001b[38;5;241m|\u001b[39m TypeMeta\u001b[38;5;241m.\u001b[39mEnumMeta() \u001b[38;5;241m|\u001b[39m TypeMeta\u001b[38;5;241m.\u001b[39mScalarMeta():\n\u001b[1;32m    403\u001b[0m           \u001b[38;5;66;03m# Copy current path and append newly selected field\u001b[39;00m\n\u001b[1;32m    404\u001b[0m           path \u001b[38;5;241m=\u001b[39m \u001b[38;5;28mself\u001b[39m\u001b[38;5;241m.\u001b[39m_path\u001b[38;5;241m.\u001b[39mcopy()\n\u001b[1;32m    405\u001b[0m           path\u001b[38;5;241m.\u001b[39mappend((\u001b[38;5;28;01mNone\u001b[39;00m, field))\n\u001b[1;32m    406\u001b[0m \n\u001b[1;32m    407\u001b[0m           \u001b[38;5;66;03m# Return new FieldPath\u001b[39;00m\n\u001b[1;32m    408\u001b[0m           \u001b[38;5;28;01mreturn\u001b[39;00m FieldPath(\n\u001b[1;32m    409\u001b[0m             subgraph\u001b[38;5;241m=\u001b[39m\u001b[38;5;28mself\u001b[39m\u001b[38;5;241m.\u001b[39m_subgraph,\n\u001b[1;32m    410\u001b[0m             root_type\u001b[38;5;241m=\u001b[39m\u001b[38;5;28mself\u001b[39m\u001b[38;5;241m.\u001b[39m_root_type,\n\u001b[1;32m    411\u001b[0m             type_\u001b[38;5;241m=\u001b[39mfield\u001b[38;5;241m.\u001b[39mtype_,\n\u001b[1;32m    412\u001b[0m             path\u001b[38;5;241m=\u001b[39mpath\n\u001b[1;32m    413\u001b[0m           )\n\u001b[1;32m    414\u001b[0m         \u001b[38;5;28;01mcase\u001b[39;00m \u001b[38;5;28;01m_\u001b[39;00m:\n\u001b[1;32m    415\u001b[0m           \u001b[38;5;28;01mraise\u001b[39;00m \u001b[38;5;167;01mTypeError\u001b[39;00m(\u001b[38;5;124mf\u001b[39m\u001b[38;5;124m\"\u001b[39m\u001b[38;5;124mFieldPath: field \u001b[39m\u001b[38;5;132;01m{\u001b[39;00mname\u001b[38;5;132;01m}\u001b[39;00m\u001b[38;5;124m is not a valid field for object \u001b[39m\u001b[38;5;132;01m{\u001b[39;00m\u001b[38;5;28mself\u001b[39m\u001b[38;5;241m.\u001b[39m_type\u001b[38;5;241m.\u001b[39mname\u001b[38;5;132;01m}\u001b[39;00m\u001b[38;5;124m at path \u001b[39m\u001b[38;5;132;01m{\u001b[39;00m\u001b[38;5;28mself\u001b[39m\u001b[38;5;132;01m}\u001b[39;00m\u001b[38;5;124m\"\u001b[39m)\n\u001b[1;32m    416\u001b[0m \n\u001b[1;32m    417\u001b[0m     \u001b[38;5;28;01mcase\u001b[39;00m \u001b[38;5;28;01m_\u001b[39;00m:\n\u001b[1;32m    418\u001b[0m       \u001b[38;5;28;01mraise\u001b[39;00m \u001b[38;5;167;01mTypeError\u001b[39;00m(\u001b[38;5;124mf\u001b[39m\u001b[38;5;124m\"\u001b[39m\u001b[38;5;124mFieldPath: Unexpected type \u001b[39m\u001b[38;5;132;01m{\u001b[39;00m\u001b[38;5;28mself\u001b[39m\u001b[38;5;241m.\u001b[39m_type\u001b[38;5;241m.\u001b[39mname\u001b[38;5;132;01m}\u001b[39;00m\u001b[38;5;124m when selection \u001b[39m\u001b[38;5;132;01m{\u001b[39;00mname\u001b[38;5;132;01m}\u001b[39;00m\u001b[38;5;124m on \u001b[39m\u001b[38;5;132;01m{\u001b[39;00m\u001b[38;5;28mself\u001b[39m\u001b[38;5;132;01m}\u001b[39;00m\u001b[38;5;124m\"\u001b[39m)\n",
      "File \u001b[0;32m~/opt/anaconda3/envs/beanstalk/lib/python3.10/site-packages/subgrounds/schema.py:219\u001b[0m, in \u001b[0;36mTypeMeta.ObjectMeta.field\u001b[0;34m(self, fname)\u001b[0m\n\u001b[1;32m    214\u001b[0m   \u001b[38;5;28;01mreturn\u001b[39;00m \u001b[38;5;28mnext\u001b[39m(\n\u001b[1;32m    215\u001b[0m     \u001b[38;5;28mself\u001b[39m\u001b[38;5;241m.\u001b[39mfields\n\u001b[1;32m    216\u001b[0m     \u001b[38;5;241m|\u001b[39m where(\u001b[38;5;28;01mlambda\u001b[39;00m fmeta: fmeta\u001b[38;5;241m.\u001b[39mname \u001b[38;5;241m==\u001b[39m fname)\n\u001b[1;32m    217\u001b[0m   )\n\u001b[1;32m    218\u001b[0m \u001b[38;5;28;01mexcept\u001b[39;00m \u001b[38;5;167;01mStopIteration\u001b[39;00m:\n\u001b[0;32m--> 219\u001b[0m   \u001b[38;5;28;01mraise\u001b[39;00m \u001b[38;5;167;01mKeyError\u001b[39;00m(\u001b[38;5;124mf\u001b[39m\u001b[38;5;124m'\u001b[39m\u001b[38;5;124mTypeMeta.ObjectMeta.field: no field named \u001b[39m\u001b[38;5;132;01m{\u001b[39;00mfname\u001b[38;5;132;01m}\u001b[39;00m\u001b[38;5;124m for interface \u001b[39m\u001b[38;5;132;01m{\u001b[39;00m\u001b[38;5;28mself\u001b[39m\u001b[38;5;241m.\u001b[39mname\u001b[38;5;132;01m}\u001b[39;00m\u001b[38;5;124m'\u001b[39m)\n",
      "\u001b[0;31mKeyError\u001b[0m: 'TypeMeta.ObjectMeta.field: no field named transaction for interface PodFill'"
     ]
    }
   ],
   "source": [
    "# history of all marketplace listing and order fills \n",
    "df_fills = query_marketplace_fills(1).copy()\n",
    "df_fills = df_fills.rename(columns={\n",
    "    \"listing_pricePerPod\": \"listing_price_per_pod\",\n",
    "    \"order_pricePerPod\": \"order_price_per_pod\", \n",
    "})\n",
    "df_fills.amount /= 10**6 \n",
    "df_fills['index'] /= 10**6 # Must use bracket notation for column name \"index\" to avoid clashing with dataframe index. \n",
    "df_fills.start /= 10**6\n",
    "df_fills['place_in_line'] = df_fills['index'] + df_fills.start\n",
    "df_fills.listing_price_per_pod = df_fills.listing_price_per_pod.fillna(0) / 1e6 \n",
    "df_fills.order_price_per_pod = df_fills.order_price_per_pod.fillna(0) / 1e6 \n",
    "df_fills['price_per_pod'] = df_fills.listing_price_per_pod + df_fills.order_price_per_pod\n",
    "df_fills[\"datetime\"] = pd.to_datetime(df_fills[\"transaction_timestamp\"], unit=\"s\")\n",
    "df_fills[\"date\"] = pd.to_datetime(df_fills[\"datetime\"].dt.date)\n",
    "df_fills = df_fills[[\n",
    "    \"date\", \"datetime\", \"amount\", \"index\", \n",
    "    \"start\", \"place_in_line\", \"price_per_pod\", \n",
    "]].sort_values('datetime').reset_index(drop=True)\n",
    "df_fills.head()"
   ]
  },
  {
   "cell_type": "code",
   "execution_count": null,
   "id": "ce9a0715",
   "metadata": {},
   "outputs": [],
   "source": [
    "# https://observablehq.com/@mdeagen/vega-lite-table-using-text-marks\n",
    "\n",
    "from IPython.display import display, HTML\n",
    "\n",
    "# display(HTML(\"\"\"\n",
    "# <style>\n",
    "# form.vega-bindings {\n",
    "#   position: absolute;\n",
    "#   left: 0px;\n",
    "#   top: 20px;\n",
    "#   -webkit-transform: rotate(90deg);\n",
    "\n",
    "# }\n",
    "# </style>\n",
    "# \"\"\"))\n",
    "\n",
    "cols = ['date', 'amount', 'place_in_line', 'price_per_pod']\n",
    "df = df_fills[cols].copy()\n",
    "sort_cols = []\n",
    "for c in cols: \n",
    "    scol = f\"sort_{c}\"\n",
    "    df_sort = df.sort_values(c)\n",
    "    df.loc[df_sort.index, scol] = df.index.values\n",
    "    sort_cols.append(scol) \n",
    "    \n",
    "df['date'] = df['date'].dt.strftime(\"%Y-%m-%d\")\n",
    "df['amount'] = df.amount.astype(int)\n",
    "df['place_in_line'] = df.place_in_line.astype(int)\n",
    "\n",
    "nrows = 10\n",
    "radio = alt.binding_radio(name=\"Sort By\", options=cols)\n",
    "slider = alt.binding_range(min=1, max=len(df) - nrows, step=1, name='Scroll Offset:')\n",
    "\n",
    "select_scroll = alt.selection_single(\n",
    "    name=\"scroller\", fields=['offset'],\n",
    "    bind=slider, init={'offset': 1}\n",
    ")\n",
    "select_radio = alt.selection_single(\n",
    "    name=\"sortby\", fields=[\"sort_col\"], \n",
    "    bind=radio, init={\"sort_col\": \"date\"}\n",
    ")\n",
    "\n",
    "alt.Chart(df).add_selection(\n",
    "    select_scroll, select_radio \n",
    ").transform_calculate(\n",
    "    sort_num=f\"datum['sort_' + {select_radio.name}.sort_col]\"\n",
    ").transform_fold(\n",
    "    ['date', 'amount', 'place_in_line', 'price_per_pod']\n",
    ").transform_filter(\n",
    "    filter=(\n",
    "        \"datum.sort_num >= parseInt(scroller.offset)\"\n",
    "        f\" & datum.sort_num < (parseInt(scroller.offset) + {nrows})\"\n",
    "    )\n",
    ").mark_text().encode(\n",
    "    x=alt.X(\n",
    "        \"key:N\", \n",
    "        axis=alt.Axis(orient=\"top\", labelAngle=0, title=None, domain=False, ticks=False), \n",
    "        scale=alt.Scale(padding=15)\n",
    "    ),\n",
    "    text=\"value:N\",\n",
    "    y=alt.Y(\"sort_num:O\", axis=None), \n",
    "    order=alt.Order(\"order:N\", sort='descending'),\n",
    ").properties(width=500)"
   ]
  },
  {
   "cell_type": "code",
   "execution_count": null,
   "id": "7fa090d8-0b12-4a6b-a34d-2b480a5cc77c",
   "metadata": {},
   "outputs": [],
   "source": []
  },
  {
   "cell_type": "code",
   "execution_count": null,
   "id": "3a588c7d-aba2-4c66-a274-b6428303036c",
   "metadata": {},
   "outputs": [],
   "source": []
  },
  {
   "cell_type": "code",
   "execution_count": null,
   "id": "cccd3cd3-ae5f-430e-afdd-19c732e1c1dd",
   "metadata": {},
   "outputs": [],
   "source": []
  },
  {
   "cell_type": "code",
   "execution_count": null,
   "id": "fd5d967c-0212-416a-9e9c-c28d3e3512ea",
   "metadata": {},
   "outputs": [],
   "source": []
  },
  {
   "cell_type": "code",
   "execution_count": null,
   "id": "47228260-a52b-4774-8753-746e477cec22",
   "metadata": {},
   "outputs": [],
   "source": []
  },
  {
   "cell_type": "code",
   "execution_count": null,
   "id": "21734488-08a1-4d7a-82a9-0621b2cf9411",
   "metadata": {},
   "outputs": [],
   "source": []
  },
  {
   "cell_type": "code",
   "execution_count": null,
   "id": "7c53eb77-4158-4293-b2ed-078488cb12ec",
   "metadata": {},
   "outputs": [],
   "source": []
  },
  {
   "cell_type": "code",
   "execution_count": null,
   "id": "c2f171d3-87c9-4ffc-be96-4c1f1a0ea3bf",
   "metadata": {},
   "outputs": [],
   "source": []
  },
  {
   "cell_type": "code",
   "execution_count": null,
   "id": "f0922a26-1673-4185-bc39-51942a10bb36",
   "metadata": {},
   "outputs": [],
   "source": []
  },
  {
   "cell_type": "code",
   "execution_count": null,
   "id": "c579067d-57a7-4ae4-b340-8a5023eb9d49",
   "metadata": {},
   "outputs": [],
   "source": []
  },
  {
   "cell_type": "code",
   "execution_count": null,
   "id": "b70d38da-e568-4f96-baa8-a4b5d39ab3ed",
   "metadata": {},
   "outputs": [],
   "source": []
  },
  {
   "cell_type": "code",
   "execution_count": null,
   "id": "77359000-abb8-4696-8cd8-eec8aa95e2b7",
   "metadata": {},
   "outputs": [],
   "source": []
  },
  {
   "cell_type": "code",
   "execution_count": null,
   "id": "62a54f10-2bb6-495c-b1ec-cd4bb2973dc0",
   "metadata": {},
   "outputs": [],
   "source": []
  },
  {
   "cell_type": "code",
   "execution_count": null,
   "id": "a8a82a35-cc10-41e4-9126-a7fa445d3f87",
   "metadata": {},
   "outputs": [],
   "source": []
  },
  {
   "cell_type": "code",
   "execution_count": null,
   "id": "dd5f6e49-8b1d-4483-ac28-21c18d910a55",
   "metadata": {},
   "outputs": [],
   "source": []
  },
  {
   "cell_type": "code",
   "execution_count": null,
   "id": "a2929e9d-9fe2-4658-afe5-efdb1a7cd380",
   "metadata": {},
   "outputs": [],
   "source": []
  },
  {
   "cell_type": "code",
   "execution_count": null,
   "id": "07da6950-7f0f-4757-8ae2-149a9b978045",
   "metadata": {},
   "outputs": [],
   "source": []
  },
  {
   "cell_type": "code",
   "execution_count": null,
   "id": "c7645847-0d17-466f-8f4e-9298cd05418d",
   "metadata": {},
   "outputs": [],
   "source": []
  },
  {
   "cell_type": "code",
   "execution_count": null,
   "id": "9811555d-e36f-414d-8c92-3f88eb28244d",
   "metadata": {},
   "outputs": [],
   "source": []
  },
  {
   "cell_type": "code",
   "execution_count": null,
   "id": "ea2a0775-46fd-4e96-8168-ed1e2b84a288",
   "metadata": {},
   "outputs": [],
   "source": []
  },
  {
   "cell_type": "code",
   "execution_count": null,
   "id": "bf9d3810-6bec-431f-8ba5-954954ded15e",
   "metadata": {},
   "outputs": [],
   "source": []
  },
  {
   "cell_type": "code",
   "execution_count": null,
   "id": "825a24ba-1e4b-4b1c-827f-36b5c7152ce0",
   "metadata": {},
   "outputs": [],
   "source": []
  },
  {
   "cell_type": "code",
   "execution_count": null,
   "id": "4700c82e-5062-4d94-b9de-b8710e287ed3",
   "metadata": {},
   "outputs": [],
   "source": []
  },
  {
   "cell_type": "code",
   "execution_count": null,
   "id": "d2409fe2-8904-4417-9460-a5ee51fab567",
   "metadata": {},
   "outputs": [],
   "source": []
  },
  {
   "cell_type": "code",
   "execution_count": null,
   "id": "d8b5fdf6-580e-4e1f-bf68-873019aa9625",
   "metadata": {},
   "outputs": [],
   "source": []
  },
  {
   "cell_type": "code",
   "execution_count": null,
   "id": "04f2a197-376c-412f-aede-c89567a2a11a",
   "metadata": {},
   "outputs": [],
   "source": []
  },
  {
   "cell_type": "code",
   "execution_count": null,
   "id": "943c705a-5eed-4b0c-957d-90fe1d7a0bcd",
   "metadata": {},
   "outputs": [],
   "source": []
  },
  {
   "cell_type": "code",
   "execution_count": null,
   "id": "71742df1-d10f-45b9-b90e-7e0275652eb1",
   "metadata": {},
   "outputs": [],
   "source": []
  },
  {
   "cell_type": "code",
   "execution_count": null,
   "id": "1f7d61e4-d6a6-4a6c-904e-4343265f45a7",
   "metadata": {},
   "outputs": [],
   "source": []
  },
  {
   "cell_type": "code",
   "execution_count": null,
   "id": "e4650a37-bd86-4fc2-9ca5-c8911ec39bbd",
   "metadata": {},
   "outputs": [],
   "source": []
  },
  {
   "cell_type": "code",
   "execution_count": null,
   "id": "bbdb9676-a054-41f5-8d6c-6d8a26ef221a",
   "metadata": {},
   "outputs": [],
   "source": []
  },
  {
   "cell_type": "code",
   "execution_count": null,
   "id": "676db8fc-f2bf-4f12-bb8d-737e02d69fe2",
   "metadata": {},
   "outputs": [],
   "source": []
  },
  {
   "cell_type": "code",
   "execution_count": null,
   "id": "5519662a-3a16-405e-b2c5-0d0cd52fc85f",
   "metadata": {},
   "outputs": [],
   "source": []
  },
  {
   "cell_type": "code",
   "execution_count": null,
   "id": "f74bb15d-ecf5-44ff-83b5-ceb9be87717d",
   "metadata": {},
   "outputs": [],
   "source": []
  },
  {
   "cell_type": "code",
   "execution_count": null,
   "id": "4bf52431-b36b-4adc-bfe8-c54ec86ca7ad",
   "metadata": {},
   "outputs": [],
   "source": []
  },
  {
   "cell_type": "code",
   "execution_count": null,
   "id": "6ebe76db-76e6-424a-baac-b286ddb16452",
   "metadata": {},
   "outputs": [],
   "source": []
  },
  {
   "cell_type": "code",
   "execution_count": null,
   "id": "01d3fbdb-bb69-4b26-ba66-ac07072c04bc",
   "metadata": {},
   "outputs": [],
   "source": []
  },
  {
   "cell_type": "code",
   "execution_count": null,
   "id": "9122ae03-21f0-4351-80e0-758d6bb3ca32",
   "metadata": {},
   "outputs": [],
   "source": []
  },
  {
   "cell_type": "code",
   "execution_count": null,
   "id": "4df83370-c348-472a-8f30-51a92290e9f3",
   "metadata": {},
   "outputs": [],
   "source": []
  },
  {
   "cell_type": "code",
   "execution_count": null,
   "id": "66b476e0-803e-4dc7-9be1-779b3e5c7461",
   "metadata": {},
   "outputs": [],
   "source": []
  },
  {
   "cell_type": "code",
   "execution_count": null,
   "id": "81d5df1b-cb38-4f62-8d5b-7497997d58e8",
   "metadata": {},
   "outputs": [],
   "source": []
  },
  {
   "cell_type": "code",
   "execution_count": null,
   "id": "4815da9a-6a2e-4dc5-83bc-ecd8a0d038aa",
   "metadata": {},
   "outputs": [],
   "source": []
  },
  {
   "cell_type": "code",
   "execution_count": null,
   "id": "d7bbd46f-13c5-4e35-a8bd-0b637a3ce73c",
   "metadata": {},
   "outputs": [],
   "source": []
  },
  {
   "cell_type": "code",
   "execution_count": null,
   "id": "30489e76-428b-4480-91f9-65cb461b7995",
   "metadata": {},
   "outputs": [],
   "source": []
  },
  {
   "cell_type": "code",
   "execution_count": null,
   "id": "39d1585c-8fa9-4fdd-8a72-760e886a9d95",
   "metadata": {},
   "outputs": [],
   "source": []
  },
  {
   "cell_type": "code",
   "execution_count": null,
   "id": "79e02e30-5d5a-4cfa-9a8f-a825db90c846",
   "metadata": {},
   "outputs": [],
   "source": []
  },
  {
   "cell_type": "code",
   "execution_count": null,
   "id": "981b22de-8cd7-4c23-b1b7-3716d4209cdc",
   "metadata": {},
   "outputs": [],
   "source": []
  },
  {
   "cell_type": "code",
   "execution_count": null,
   "id": "f1a97f34-7249-4094-95e1-10c9a8f74f0b",
   "metadata": {},
   "outputs": [],
   "source": []
  },
  {
   "cell_type": "code",
   "execution_count": null,
   "id": "7890dca2-5b7a-4627-8138-606b1ffa1a1d",
   "metadata": {},
   "outputs": [],
   "source": []
  },
  {
   "cell_type": "code",
   "execution_count": null,
   "id": "d554b0f0-00ce-410b-90c1-db6036c37054",
   "metadata": {},
   "outputs": [],
   "source": []
  },
  {
   "cell_type": "code",
   "execution_count": null,
   "id": "978080ca-92c5-4b3d-baa1-81ca0e70441c",
   "metadata": {},
   "outputs": [],
   "source": []
  },
  {
   "cell_type": "code",
   "execution_count": null,
   "id": "e4291236-6e23-40b2-9ab7-bc63bbab81d5",
   "metadata": {},
   "outputs": [],
   "source": []
  },
  {
   "cell_type": "code",
   "execution_count": null,
   "id": "835dc481-ffde-4fe8-830f-43b59328f7be",
   "metadata": {},
   "outputs": [],
   "source": []
  },
  {
   "cell_type": "code",
   "execution_count": null,
   "id": "9ee9a810-0da0-4250-afc6-7a4a52600c7e",
   "metadata": {},
   "outputs": [],
   "source": []
  },
  {
   "cell_type": "code",
   "execution_count": null,
   "id": "8f115584-edca-4d10-ba4c-bbff044b0ad2",
   "metadata": {},
   "outputs": [],
   "source": []
  },
  {
   "cell_type": "code",
   "execution_count": null,
   "id": "fba12870-4cf0-417f-9324-b96beb1dc1e7",
   "metadata": {},
   "outputs": [],
   "source": []
  },
  {
   "cell_type": "code",
   "execution_count": null,
   "id": "32997897-4318-44c5-9081-e2094886adbd",
   "metadata": {},
   "outputs": [],
   "source": []
  },
  {
   "cell_type": "code",
   "execution_count": null,
   "id": "ce904e4f-1bf0-4a41-9aa3-bdd07441b07f",
   "metadata": {},
   "outputs": [],
   "source": []
  },
  {
   "cell_type": "code",
   "execution_count": null,
   "id": "afe0ed60-c0e8-46d7-b28e-69325f478a56",
   "metadata": {},
   "outputs": [],
   "source": []
  },
  {
   "cell_type": "code",
   "execution_count": null,
   "id": "3906114a-ae0a-4140-96ce-6ad211e94eaa",
   "metadata": {},
   "outputs": [],
   "source": []
  },
  {
   "cell_type": "code",
   "execution_count": null,
   "id": "d3f60a58-2f29-4e58-81fb-10f84ed915c0",
   "metadata": {},
   "outputs": [],
   "source": []
  },
  {
   "cell_type": "code",
   "execution_count": null,
   "id": "d09542dd-8fea-4b75-8c6e-2a8b7e0d1318",
   "metadata": {},
   "outputs": [],
   "source": []
  },
  {
   "cell_type": "code",
   "execution_count": null,
   "id": "3f30b4ff-296e-44b5-a9f5-11ce5242d9cd",
   "metadata": {},
   "outputs": [],
   "source": []
  },
  {
   "cell_type": "code",
   "execution_count": null,
   "id": "e96bc5c6-dda7-4412-91a2-39af0eb3baa9",
   "metadata": {},
   "outputs": [],
   "source": []
  },
  {
   "cell_type": "code",
   "execution_count": null,
   "id": "b41693a6-8657-48cc-bff9-77d6276f14a7",
   "metadata": {},
   "outputs": [],
   "source": []
  },
  {
   "cell_type": "code",
   "execution_count": null,
   "id": "1dcc112e-d7fa-4569-8b2b-54aa14e384e4",
   "metadata": {},
   "outputs": [],
   "source": []
  },
  {
   "cell_type": "code",
   "execution_count": null,
   "id": "c8bad761-3020-4636-99be-1ddd62e942d8",
   "metadata": {},
   "outputs": [],
   "source": []
  },
  {
   "cell_type": "code",
   "execution_count": null,
   "id": "4106eec4-bb91-4411-8568-b7711a89d54a",
   "metadata": {},
   "outputs": [],
   "source": []
  },
  {
   "cell_type": "code",
   "execution_count": null,
   "id": "34736235",
   "metadata": {},
   "outputs": [],
   "source": []
  },
  {
   "cell_type": "code",
   "execution_count": null,
   "id": "6cdddfc0",
   "metadata": {},
   "outputs": [],
   "source": [
    "\"\"\"\n",
    "Some notes: \n",
    "    ser why is vega-lite so hard ʕっ•ᴥ•ʔっ\n",
    "\n",
    "    Cross filtering by temporal domain through an interval selection: \n",
    "        In order to have the separate time axis perform cross filtering to the histogram and heatmap plots, it is necessary \n",
    "        that the encoding (brush uses encoding x, and in time axis, the encoding spec for x is date:T) that is used in the \n",
    "        plot housing the selection also exists and is of the same type within the cross filtered chart. This is why the detail \n",
    "        encoding of the heatmap uses this same value. See the following github link for reference. \n",
    "        https://stackoverflow.com/questions/71249346/use-interval-selection-from-one-dataset-chart-to-filter-data-in-another-dataset\n",
    "        Also it's a bit strange but if this encoding is made ordinal (i.e. date:O in the time axis x encoding) then the inclusion \n",
    "        of the detail encoding in the heatmap is not necessary. Tbh not sure why this is true but documenting nonetheless. \n",
    "        \n",
    "    Filtering by selection when the selection's mapped encoding is binned:\n",
    "        In this case, make sure not to use condition's for encodings as they don't accurately reflect binning. This could be rectified \n",
    "        with an explicit bin transform. See this issue: \n",
    "        https://stackoverflow.com/questions/60994128/how-to-click-on-square-of-heatmap-to-filter-linked-bar-chart-altair\n",
    "\"\"\"\n",
    "\n",
    "width = 750\n",
    "sel_point = alt.selection_single(encodings=['x'], nearest=True, on=\"mouseover\", clear=\"mouseout\", empty=\"none\")\n",
    "sel_brush = alt.selection_interval(encodings=['x'])\n",
    "\n",
    "base = alt.Chart(df_fills[['amount', 'place_in_line', 'price_per_pod', 'date']]\n",
    ").transform_filter(sel_brush)\n",
    "\n",
    "xbin = alt.Bin(extent=[df_fills.place_in_line.min(), df_fills.place_in_line.max()], maxbins=50)\n",
    "\n",
    "histogram_place_in_line = base.mark_rect(\n",
    ").encode(\n",
    "    x=alt.X(\"place_in_line:Q\", bin=xbin, axis=None), \n",
    "    y=alt.Y(\"sum(amount):Q\", axis=alt.Axis(title=\"Bin Volume (Pods)\")), \n",
    "    tooltip=alt.Tooltip(\"sum(amount)\", format=\",d\"),\n",
    ").properties(width=width, height=100)\n",
    "\n",
    "heatmap_base = base.properties(width=width, height=250)\n",
    "heatmap = heatmap_base.mark_rect(\n",
    ").encode(\n",
    "    x=alt.X(\"place_in_line:Q\", bin=xbin), \n",
    "    y=alt.Y(\n",
    "        \"price_per_pod:Q\", \n",
    "        scale=alt.Scale(domain=(0,1)), \n",
    "        bin=alt.Bin(extent=[0,1], step=.1), \n",
    "        axis=alt.Axis(title=\"Price Per Pod ($)\")\n",
    "    ), \n",
    "    color=alt.Color(\"sum(amount)\", scale=alt.Scale(type=\"log\", scheme=\"plasma\")), \n",
    "    detail='date:T',\n",
    "    tooltip=alt.Tooltip(\"sum(amount)\", format=\",d\",)\n",
    ")\n",
    "\n",
    "yield_curve_base = heatmap_base.encode(\n",
    "    x=alt.X(\"place_in_line:Q\", bin=xbin), \n",
    "    y=alt.Y(\"mean(price_per_pod)\"), \n",
    "    color=alt.value(\"#03dbfc\"),\n",
    ")\n",
    "yield_curve_point_size = alt.Size(\"sum(amount)\", scale=alt.Scale(range=[5, 125]))\n",
    "# scatter plot of yield curve \n",
    "yield_curve_points = yield_curve_base.mark_point(\n",
    ").encode(\n",
    "    size=yield_curve_point_size,\n",
    "    tooltip=alt.Tooltip(\"mean(price_per_pod)\")\n",
    ").add_selection(sel_point)\n",
    "# single mark for currently selected point (to visually highlight selection) \n",
    "yield_curve_point_selected = yield_curve_base.mark_point(filled=True\n",
    ").encode(size=yield_curve_point_size\n",
    ").transform_filter(sel_point)\n",
    "# single mark showing value of currently selected point\n",
    "yield_curve_text = yield_curve_base.mark_text(dy=-15, fontSize=15, stroke=\"black\", strokeWidth=.4\n",
    ").encode(\n",
    "    text=alt.Text('mean(price_per_pod):Q', format='.2f')\n",
    ").transform_filter(sel_point)\n",
    "\n",
    "time_axis = alt.Chart(df_vol_daily\n",
    ").mark_bar(\n",
    ").encode(\n",
    "    x=alt.X('date:T', axis=alt.Axis(title=\"Date\", format=\"%b %Y\", tickCount=8)), \n",
    "    y=alt.Y('pod_volume:Q', axis=alt.Axis(title=\"Farmer's Market Total Volume (Pods)\")), \n",
    ").properties(width=width, height=100\n",
    ").add_selection(sel_brush)\n",
    "\n",
    "c = alt.vconcat(\n",
    "    histogram_place_in_line, \n",
    "    alt.layer(heatmap, yield_curve_points, yield_curve_point_selected, yield_curve_text), \n",
    "    bounds=\"flush\"\n",
    ") & time_axis\n",
    "#c.save(\"../schemas/farmers_market_history.json\")\n",
    "c"
   ]
  },
  {
   "cell_type": "code",
   "execution_count": null,
   "id": "a3a0694b",
   "metadata": {},
   "outputs": [],
   "source": [
    "output_chart(c)"
   ]
  },
  {
   "cell_type": "code",
   "execution_count": null,
   "id": "50882068",
   "metadata": {},
   "outputs": [],
   "source": []
  }
 ],
 "metadata": {
  "kernelspec": {
   "display_name": "Python 3 (ipykernel)",
   "language": "python",
   "name": "python3"
  },
  "language_info": {
   "codemirror_mode": {
    "name": "ipython",
    "version": 3
   },
   "file_extension": ".py",
   "mimetype": "text/x-python",
   "name": "python",
   "nbconvert_exporter": "python",
   "pygments_lexer": "ipython3",
   "version": "3.10.5"
  },
  "vscode": {
   "interpreter": {
    "hash": "65a1606879e7cc55db7359bc7bbaab6708e6dced52e1818b18aa46c0dd2503e5"
   }
  }
 },
 "nbformat": 4,
 "nbformat_minor": 5
}
