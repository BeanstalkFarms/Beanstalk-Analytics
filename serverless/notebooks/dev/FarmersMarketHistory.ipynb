{
 "cells": [
  {
   "cell_type": "code",
   "execution_count": 1,
   "id": "bb524f98-4f94-476c-b760-7d5dbae7938d",
   "metadata": {},
   "outputs": [],
   "source": [
    "import os \n",
    "import sys \n",
    "\n",
    "cur_path = os.path.abspath(\"../..\")\n",
    "if cur_path not in sys.path: \n",
    "    sys.path.append(cur_path)\n",
    "\n",
    "from functools import cache \n",
    "import numpy as np \n",
    "import pandas as pd \n",
    "import altair as alt \n",
    "from altair import datum\n",
    "from subgrounds.subgrounds import Subgrounds, Subgraph\n",
    "from subgrounds.pagination import ShallowStrategy\n",
    "\n",
    "from dotenv import load_dotenv\n",
    "\n",
    "\n",
    "os.environ['SUBGRAPH_URL'] = 'https://graph.node.bean.money/subgraphs/name/beanstalk-dev'\n",
    "\n",
    "\n",
    "from utils_notebook.utils import ddf, load_subgraph, remove_prefix\n",
    "from utils_notebook.vega import output_chart"
   ]
  },
  {
   "cell_type": "code",
   "execution_count": 2,
   "id": "4dda51ef-cb6a-4692-9bad-6ea39ab9c6fe",
   "metadata": {},
   "outputs": [],
   "source": [
    "sg: Subgrounds\n",
    "bs: Subgraph\n",
    "sg, bs = load_subgraph()"
   ]
  },
  {
   "cell_type": "code",
   "execution_count": 3,
   "id": "31d2f2a1",
   "metadata": {},
   "outputs": [],
   "source": [
    "@cache \n",
    "def query_marketplace_fills(*args):\n",
    "    # Query historical farmer's market order and listing fills \n",
    "    q = bs.Query.podFills(first=10000)\n",
    "    df = sg.query_df(\n",
    "        [\n",
    "            q.amount, \n",
    "            q.index, \n",
    "            q.start, \n",
    "            # q.listing.status, \n",
    "            # q.order.status, \n",
    "            q.listing.pricePerPod, \n",
    "            q.order.pricePerPod, \n",
    "            q.transaction.timestamp, \n",
    "        ],\n",
    "        pagination_strategy=ShallowStrategy\n",
    "    )\n",
    "    df = remove_prefix(df, \"podFills_\")\n",
    "    return df \n",
    "    "
   ]
  },
  {
   "cell_type": "code",
   "execution_count": 74,
   "id": "14f414c2",
   "metadata": {},
   "outputs": [
    {
     "data": {
      "text/html": [
       "<div>\n",
       "<style scoped>\n",
       "    .dataframe tbody tr th:only-of-type {\n",
       "        vertical-align: middle;\n",
       "    }\n",
       "\n",
       "    .dataframe tbody tr th {\n",
       "        vertical-align: top;\n",
       "    }\n",
       "\n",
       "    .dataframe thead th {\n",
       "        text-align: right;\n",
       "    }\n",
       "</style>\n",
       "<table border=\"1\" class=\"dataframe\">\n",
       "  <thead>\n",
       "    <tr style=\"text-align: right;\">\n",
       "      <th></th>\n",
       "      <th>date</th>\n",
       "      <th>datetime</th>\n",
       "      <th>amount</th>\n",
       "      <th>index</th>\n",
       "      <th>start</th>\n",
       "      <th>place_in_line</th>\n",
       "      <th>price_per_pod</th>\n",
       "    </tr>\n",
       "  </thead>\n",
       "  <tbody>\n",
       "    <tr>\n",
       "      <th>0</th>\n",
       "      <td>2022-02-05</td>\n",
       "      <td>2022-02-05 22:37:02</td>\n",
       "      <td>20000.000000</td>\n",
       "      <td>2.221972e+08</td>\n",
       "      <td>0.0</td>\n",
       "      <td>2.221972e+08</td>\n",
       "      <td>0.20</td>\n",
       "    </tr>\n",
       "    <tr>\n",
       "      <th>1</th>\n",
       "      <td>2022-02-05</td>\n",
       "      <td>2022-02-05 23:06:54</td>\n",
       "      <td>35453.723781</td>\n",
       "      <td>3.872656e+08</td>\n",
       "      <td>0.0</td>\n",
       "      <td>3.872656e+08</td>\n",
       "      <td>0.05</td>\n",
       "    </tr>\n",
       "    <tr>\n",
       "      <th>2</th>\n",
       "      <td>2022-02-05</td>\n",
       "      <td>2022-02-05 23:12:59</td>\n",
       "      <td>10157.189840</td>\n",
       "      <td>2.505160e+08</td>\n",
       "      <td>0.0</td>\n",
       "      <td>2.505160e+08</td>\n",
       "      <td>0.10</td>\n",
       "    </tr>\n",
       "    <tr>\n",
       "      <th>3</th>\n",
       "      <td>2022-02-06</td>\n",
       "      <td>2022-02-06 00:03:45</td>\n",
       "      <td>20044.080960</td>\n",
       "      <td>3.873011e+08</td>\n",
       "      <td>0.0</td>\n",
       "      <td>3.873011e+08</td>\n",
       "      <td>0.05</td>\n",
       "    </tr>\n",
       "    <tr>\n",
       "      <th>4</th>\n",
       "      <td>2022-02-06</td>\n",
       "      <td>2022-02-06 01:01:35</td>\n",
       "      <td>995.305321</td>\n",
       "      <td>5.019992e+07</td>\n",
       "      <td>0.0</td>\n",
       "      <td>5.019992e+07</td>\n",
       "      <td>0.60</td>\n",
       "    </tr>\n",
       "  </tbody>\n",
       "</table>\n",
       "</div>"
      ],
      "text/plain": [
       "        date            datetime        amount         index  start  \\\n",
       "0 2022-02-05 2022-02-05 22:37:02  20000.000000  2.221972e+08    0.0   \n",
       "1 2022-02-05 2022-02-05 23:06:54  35453.723781  3.872656e+08    0.0   \n",
       "2 2022-02-05 2022-02-05 23:12:59  10157.189840  2.505160e+08    0.0   \n",
       "3 2022-02-06 2022-02-06 00:03:45  20044.080960  3.873011e+08    0.0   \n",
       "4 2022-02-06 2022-02-06 01:01:35    995.305321  5.019992e+07    0.0   \n",
       "\n",
       "   place_in_line  price_per_pod  \n",
       "0   2.221972e+08           0.20  \n",
       "1   3.872656e+08           0.05  \n",
       "2   2.505160e+08           0.10  \n",
       "3   3.873011e+08           0.05  \n",
       "4   5.019992e+07           0.60  "
      ]
     },
     "execution_count": 74,
     "metadata": {},
     "output_type": "execute_result"
    }
   ],
   "source": [
    "# history of all marketplace listing and order fills \n",
    "df_fills = query_marketplace_fills(1).copy()\n",
    "df_fills = df_fills.rename(columns={\n",
    "    \"listing_pricePerPod\": \"listing_price_per_pod\",\n",
    "    \"order_pricePerPod\": \"order_price_per_pod\", \n",
    "})\n",
    "df_fills.amount /= 10**6 \n",
    "df_fills['index'] /= 10**6 # Must use bracket notation for column name \"index\" to avoid clashing with dataframe index. \n",
    "df_fills.start /= 10**6\n",
    "df_fills['place_in_line'] = df_fills['index'] + df_fills.start\n",
    "df_fills.listing_price_per_pod = df_fills.listing_price_per_pod.fillna(0) / 1e6 \n",
    "df_fills.order_price_per_pod = df_fills.order_price_per_pod.fillna(0) / 1e6 \n",
    "df_fills['price_per_pod'] = df_fills.listing_price_per_pod + df_fills.order_price_per_pod\n",
    "df_fills[\"datetime\"] = pd.to_datetime(df_fills[\"transaction_timestamp\"], unit=\"s\")\n",
    "df_fills[\"date\"] = pd.to_datetime(df_fills[\"datetime\"].dt.date)\n",
    "df_fills = df_fills[[\n",
    "    \"date\", \"datetime\", \"amount\", \"index\", \n",
    "    \"start\", \"place_in_line\", \"price_per_pod\", \n",
    "]].sort_values('datetime').reset_index(drop=True)\n",
    "df_fills.head()"
   ]
  },
  {
   "cell_type": "code",
   "execution_count": 78,
   "id": "ce9a0715",
   "metadata": {},
   "outputs": [
    {
     "data": {
      "text/html": [
       "\n",
       "<div id=\"altair-viz-0de53f2f70bc430bb2e3b337b2e14a45\"></div>\n",
       "<script type=\"text/javascript\">\n",
       "  var VEGA_DEBUG = (typeof VEGA_DEBUG == \"undefined\") ? {} : VEGA_DEBUG;\n",
       "  (function(spec, embedOpt){\n",
       "    let outputDiv = document.currentScript.previousElementSibling;\n",
       "    if (outputDiv.id !== \"altair-viz-0de53f2f70bc430bb2e3b337b2e14a45\") {\n",
       "      outputDiv = document.getElementById(\"altair-viz-0de53f2f70bc430bb2e3b337b2e14a45\");\n",
       "    }\n",
       "    const paths = {\n",
       "      \"vega\": \"https://cdn.jsdelivr.net/npm//vega@5?noext\",\n",
       "      \"vega-lib\": \"https://cdn.jsdelivr.net/npm//vega-lib?noext\",\n",
       "      \"vega-lite\": \"https://cdn.jsdelivr.net/npm//vega-lite@4.17.0?noext\",\n",
       "      \"vega-embed\": \"https://cdn.jsdelivr.net/npm//vega-embed@6?noext\",\n",
       "    };\n",
       "\n",
       "    function maybeLoadScript(lib, version) {\n",
       "      var key = `${lib.replace(\"-\", \"\")}_version`;\n",
       "      return (VEGA_DEBUG[key] == version) ?\n",
       "        Promise.resolve(paths[lib]) :\n",
       "        new Promise(function(resolve, reject) {\n",
       "          var s = document.createElement('script');\n",
       "          document.getElementsByTagName(\"head\")[0].appendChild(s);\n",
       "          s.async = true;\n",
       "          s.onload = () => {\n",
       "            VEGA_DEBUG[key] = version;\n",
       "            return resolve(paths[lib]);\n",
       "          };\n",
       "          s.onerror = () => reject(`Error loading script: ${paths[lib]}`);\n",
       "          s.src = paths[lib];\n",
       "        });\n",
       "    }\n",
       "\n",
       "    function showError(err) {\n",
       "      outputDiv.innerHTML = `<div class=\"error\" style=\"color:red;\">${err}</div>`;\n",
       "      throw err;\n",
       "    }\n",
       "\n",
       "    function displayChart(vegaEmbed) {\n",
       "      vegaEmbed(outputDiv, spec, embedOpt)\n",
       "        .catch(err => showError(`Javascript Error: ${err.message}<br>This usually means there's a typo in your chart specification. See the javascript console for the full traceback.`));\n",
       "    }\n",
       "\n",
       "    if(typeof define === \"function\" && define.amd) {\n",
       "      requirejs.config({paths});\n",
       "      require([\"vega-embed\"], displayChart, err => showError(`Error loading script: ${err.message}`));\n",
       "    } else {\n",
       "      maybeLoadScript(\"vega\", \"5\")\n",
       "        .then(() => maybeLoadScript(\"vega-lite\", \"4.17.0\"))\n",
       "        .then(() => maybeLoadScript(\"vega-embed\", \"6\"))\n",
       "        .catch(showError)\n",
       "        .then(() => displayChart(vegaEmbed));\n",
       "    }\n",
       "  })({\"config\": {\"view\": {\"continuousWidth\": 400, \"continuousHeight\": 300}}, \"data\": {\"name\": \"data-4c30aaa07da1a1aca3758fa672d5a708\"}, \"mark\": \"text\", \"encoding\": {\"order\": {\"field\": \"order\", \"sort\": \"descending\", \"type\": \"nominal\"}, \"text\": {\"field\": \"value\", \"type\": \"nominal\"}, \"x\": {\"axis\": {\"domain\": false, \"labelAngle\": 0, \"orient\": \"top\", \"ticks\": false, \"title\": null}, \"field\": \"key\", \"scale\": {\"padding\": 15}, \"type\": \"nominal\"}, \"y\": {\"axis\": null, \"field\": \"sort_num\", \"type\": \"ordinal\"}}, \"selection\": {\"scroller\": {\"type\": \"single\", \"fields\": [\"offset\"], \"bind\": {\"input\": \"range\", \"max\": 1495, \"min\": 1, \"name\": \"Scroll Offset:\", \"step\": 1}, \"init\": {\"offset\": 1}}, \"sortby\": {\"type\": \"single\", \"fields\": [\"sort_col\"], \"bind\": {\"input\": \"radio\", \"options\": [\"date\", \"amount\", \"place_in_line\", \"price_per_pod\"], \"name\": \"Sort By\"}, \"init\": {\"sort_col\": \"date\"}}}, \"transform\": [{\"calculate\": \"datum['sort_' + sortby.sort_col]\", \"as\": \"sort_num\"}, {\"fold\": [\"date\", \"amount\", \"place_in_line\", \"price_per_pod\"]}, {\"filter\": \"datum.sort_num >= parseInt(scroller.offset) & datum.sort_num < (parseInt(scroller.offset) + 10)\"}], \"width\": 500, \"$schema\": \"https://vega.github.io/schema/vega-lite/v4.17.0.json\", \"datasets\": {\"data-4c30aaa07da1a1aca3758fa672d5a708\": [{\"date\": \"2022-02-05\", \"amount\": 20000, \"place_in_line\": 222197249, \"price_per_pod\": 0.2, \"sort_date\": 0.0, \"sort_amount\": 964.0, \"sort_place_in_line\": 626.0, \"sort_price_per_pod\": 987.0}, {\"date\": \"2022-02-05\", \"amount\": 35453, \"place_in_line\": 387265643, \"price_per_pod\": 0.05, \"sort_date\": 1.0, \"sort_amount\": 1158.0, \"sort_place_in_line\": 818.0, \"sort_price_per_pod\": 519.0}, {\"date\": \"2022-02-05\", \"amount\": 10157, \"place_in_line\": 250515993, \"price_per_pod\": 0.1, \"sort_date\": 2.0, \"sort_amount\": 713.0, \"sort_place_in_line\": 650.0, \"sort_price_per_pod\": 788.0}, {\"date\": \"2022-02-06\", \"amount\": 20044, \"place_in_line\": 387301097, \"price_per_pod\": 0.05, \"sort_date\": 18.0, \"sort_amount\": 977.0, \"sort_place_in_line\": 819.0, \"sort_price_per_pod\": 521.0}, {\"date\": \"2022-02-06\", \"amount\": 995, \"place_in_line\": 50199919, \"price_per_pod\": 0.6, \"sort_date\": 17.0, \"sort_amount\": 121.0, \"sort_place_in_line\": 296.0, \"sort_price_per_pod\": 1245.0}, {\"date\": \"2022-02-06\", \"amount\": 6285, \"place_in_line\": 128557679, \"price_per_pod\": 0.35, \"sort_date\": 16.0, \"sort_amount\": 493.0, \"sort_place_in_line\": 448.0, \"sort_price_per_pod\": 1083.0}, {\"date\": \"2022-02-06\", \"amount\": 5931, \"place_in_line\": 40016336, \"price_per_pod\": 0.2, \"sort_date\": 15.0, \"sort_amount\": 475.0, \"sort_place_in_line\": 147.0, \"sort_price_per_pod\": 966.0}, {\"date\": \"2022-02-06\", \"amount\": 1108, \"place_in_line\": 30093619, \"price_per_pod\": 0.2, \"sort_date\": 14.0, \"sort_amount\": 140.0, \"sort_place_in_line\": 82.0, \"sort_price_per_pod\": 965.0}, {\"date\": \"2022-02-06\", \"amount\": 1107, \"place_in_line\": 30475915, \"price_per_pod\": 0.2, \"sort_date\": 13.0, \"sort_amount\": 139.0, \"sort_place_in_line\": 85.0, \"sort_price_per_pod\": 976.0}, {\"date\": \"2022-02-06\", \"amount\": 1069, \"place_in_line\": 32955503, \"price_per_pod\": 0.2, \"sort_date\": 12.0, \"sort_amount\": 135.0, \"sort_place_in_line\": 118.0, \"sort_price_per_pod\": 963.0}, {\"date\": \"2022-02-06\", \"amount\": 597, \"place_in_line\": 32537929, \"price_per_pod\": 0.2, \"sort_date\": 19.0, \"sort_amount\": 87.0, \"sort_place_in_line\": 108.0, \"sort_price_per_pod\": 964.0}, {\"date\": \"2022-02-06\", \"amount\": 16604, \"place_in_line\": 128204663, \"price_per_pod\": 0.2, \"sort_date\": 10.0, \"sort_amount\": 895.0, \"sort_place_in_line\": 446.0, \"sort_price_per_pod\": 967.0}, {\"date\": \"2022-02-06\", \"amount\": 21300, \"place_in_line\": 387321141, \"price_per_pod\": 0.025, \"sort_date\": 11.0, \"sort_amount\": 1009.0, \"sort_place_in_line\": 820.0, \"sort_price_per_pod\": 52.0}, {\"date\": \"2022-02-06\", \"amount\": 12000, \"place_in_line\": 27205591, \"price_per_pod\": 0.7, \"sort_date\": 9.0, \"sort_amount\": 783.0, \"sort_place_in_line\": 41.0, \"sort_price_per_pod\": 1313.0}, {\"date\": \"2022-02-06\", \"amount\": 31843, \"place_in_line\": 327752156, \"price_per_pod\": 0.0349, \"sort_date\": 8.0, \"sort_amount\": 1126.0, \"sort_place_in_line\": 789.0, \"sort_price_per_pod\": 337.0}, {\"date\": \"2022-02-06\", \"amount\": 10000, \"place_in_line\": 321145443, \"price_per_pod\": 0.05, \"sort_date\": 7.0, \"sort_amount\": 687.0, \"sort_place_in_line\": 777.0, \"sort_price_per_pod\": 526.0}, {\"date\": \"2022-02-06\", \"amount\": 5555, \"place_in_line\": 117233333, \"price_per_pod\": 0.18, \"sort_date\": 6.0, \"sort_amount\": 455.0, \"sort_place_in_line\": 435.0, \"sort_price_per_pod\": 945.0}, {\"date\": \"2022-02-06\", \"amount\": 16000, \"place_in_line\": 47581305, \"price_per_pod\": 0.25, \"sort_date\": 5.0, \"sort_amount\": 884.0, \"sort_place_in_line\": 247.0, \"sort_price_per_pod\": 1044.0}, {\"date\": \"2022-02-06\", \"amount\": 20000, \"place_in_line\": 47561305, \"price_per_pod\": 0.25, \"sort_date\": 4.0, \"sort_amount\": 965.0, \"sort_place_in_line\": 236.0, \"sort_price_per_pod\": 1034.0}, {\"date\": \"2022-02-06\", \"amount\": 1501, \"place_in_line\": 26012876, \"price_per_pod\": 0.4, \"sort_date\": 3.0, \"sort_amount\": 171.0, \"sort_place_in_line\": 19.0, \"sort_price_per_pod\": 1112.0}, {\"date\": \"2022-02-07\", \"amount\": 51666, \"place_in_line\": 81428887, \"price_per_pod\": 0.2, \"sort_date\": 32.0, \"sort_amount\": 1256.0, \"sort_place_in_line\": 338.0, \"sort_price_per_pod\": 986.0}, {\"date\": \"2022-02-07\", \"amount\": 10998, \"place_in_line\": 27636610, \"price_per_pod\": 0.4, \"sort_date\": 31.0, \"sort_amount\": 746.0, \"sort_place_in_line\": 57.0, \"sort_price_per_pod\": 1113.0}, {\"date\": \"2022-02-07\", \"amount\": 9004, \"place_in_line\": 50200914, \"price_per_pod\": 0.49, \"sort_date\": 26.0, \"sort_amount\": 642.0, \"sort_place_in_line\": 298.0, \"sort_price_per_pod\": 1145.0}, {\"date\": \"2022-02-07\", \"amount\": 33333, \"place_in_line\": 28039831, \"price_per_pod\": 0.45, \"sort_date\": 29.0, \"sort_amount\": 1137.0, \"sort_place_in_line\": 73.0, \"sort_price_per_pod\": 1125.0}, {\"date\": \"2022-02-07\", \"amount\": 25000, \"place_in_line\": 27611610, \"price_per_pod\": 0.4, \"sort_date\": 28.0, \"sort_amount\": 1059.0, \"sort_place_in_line\": 47.0, \"sort_price_per_pod\": 1104.0}, {\"date\": \"2022-02-07\", \"amount\": 14523, \"place_in_line\": 47597305, \"price_per_pod\": 0.265, \"sort_date\": 27.0, \"sort_amount\": 848.0, \"sort_place_in_line\": 249.0, \"sort_price_per_pod\": 1049.0}, {\"date\": \"2022-02-07\", \"amount\": 30759, \"place_in_line\": 47530545, \"price_per_pod\": 0.265, \"sort_date\": 30.0, \"sort_amount\": 1121.0, \"sort_place_in_line\": 235.0, \"sort_price_per_pod\": 1050.0}, {\"date\": \"2022-02-07\", \"amount\": 10000, \"place_in_line\": 47561305, \"price_per_pod\": 0.49, \"sort_date\": 25.0, \"sort_amount\": 693.0, \"sort_place_in_line\": 237.0, \"sort_price_per_pod\": 1144.0}, {\"date\": \"2022-02-07\", \"amount\": 5561, \"place_in_line\": 490256846, \"price_per_pod\": 0.05, \"sort_date\": 20.0, \"sort_amount\": 456.0, \"sort_place_in_line\": 872.0, \"sort_price_per_pod\": 533.0}, {\"date\": \"2022-02-07\", \"amount\": 6000, \"place_in_line\": 27211591, \"price_per_pod\": 0.79, \"sort_date\": 24.0, \"sort_amount\": 479.0, \"sort_place_in_line\": 45.0, \"sort_price_per_pod\": 1362.0}, {\"date\": \"2022-02-07\", \"amount\": 25000, \"place_in_line\": 28014831, \"price_per_pod\": 0.4, \"sort_date\": 23.0, \"sort_amount\": 1060.0, \"sort_place_in_line\": 67.0, \"sort_price_per_pod\": 1110.0}, {\"date\": \"2022-02-07\", \"amount\": 20000, \"place_in_line\": 36360237, \"price_per_pod\": 0.25, \"sort_date\": 22.0, \"sort_amount\": 969.0, \"sort_place_in_line\": 135.0, \"sort_price_per_pod\": 1023.0}, {\"date\": \"2022-02-07\", \"amount\": 27121, \"place_in_line\": 261754319, \"price_per_pod\": 0.06, \"sort_date\": 21.0, \"sort_amount\": 1082.0, \"sort_place_in_line\": 665.0, \"sort_price_per_pod\": 644.0}, {\"date\": \"2022-02-08\", \"amount\": 16250, \"place_in_line\": 27998581, \"price_per_pod\": 0.4, \"sort_date\": 35.0, \"sort_amount\": 890.0, \"sort_place_in_line\": 65.0, \"sort_price_per_pod\": 1106.0}, {\"date\": \"2022-02-08\", \"amount\": 3810, \"place_in_line\": 228808276, \"price_per_pod\": 0.37, \"sort_date\": 33.0, \"sort_amount\": 341.0, \"sort_place_in_line\": 630.0, \"sort_price_per_pod\": 1089.0}, {\"date\": \"2022-02-08\", \"amount\": 46584, \"place_in_line\": 36313652, \"price_per_pod\": 0.25, \"sort_date\": 34.0, \"sort_amount\": 1233.0, \"sort_place_in_line\": 130.0, \"sort_price_per_pod\": 1043.0}, {\"date\": \"2022-02-09\", \"amount\": 10000, \"place_in_line\": 128563965, \"price_per_pod\": 0.15, \"sort_date\": 36.0, \"sort_amount\": 692.0, \"sort_place_in_line\": 449.0, \"sort_price_per_pod\": 905.0}, {\"date\": \"2022-02-09\", \"amount\": 2000, \"place_in_line\": 47571305, \"price_per_pod\": 0.49, \"sort_date\": 37.0, \"sort_amount\": 213.0, \"sort_place_in_line\": 246.0, \"sort_price_per_pod\": 1142.0}, {\"date\": \"2022-02-10\", \"amount\": 13113, \"place_in_line\": 43644802, \"price_per_pod\": 0.38, \"sort_date\": 38.0, \"sort_amount\": 821.0, \"sort_place_in_line\": 198.0, \"sort_price_per_pod\": 1098.0}, {\"date\": \"2022-02-11\", \"amount\": 2007, \"place_in_line\": 36360237, \"price_per_pod\": 0.38, \"sort_date\": 39.0, \"sort_amount\": 214.0, \"sort_place_in_line\": 136.0, \"sort_price_per_pod\": 1095.0}, {\"date\": \"2022-02-12\", \"amount\": 1531, \"place_in_line\": 36362244, \"price_per_pod\": 0.38, \"sort_date\": 40.0, \"sort_amount\": 172.0, \"sort_place_in_line\": 137.0, \"sort_price_per_pod\": 1094.0}, {\"date\": \"2022-02-13\", \"amount\": 3845, \"place_in_line\": 36363776, \"price_per_pod\": 0.38, \"sort_date\": 41.0, \"sort_amount\": 343.0, \"sort_place_in_line\": 138.0, \"sort_price_per_pod\": 1097.0}, {\"date\": \"2022-02-16\", \"amount\": 1000, \"place_in_line\": 27611610, \"price_per_pod\": 0.59, \"sort_date\": 48.0, \"sort_amount\": 123.0, \"sort_place_in_line\": 46.0, \"sort_price_per_pod\": 1237.0}, {\"date\": \"2022-02-16\", \"amount\": 1000, \"place_in_line\": 36367621, \"price_per_pod\": 0.38, \"sort_date\": 46.0, \"sort_amount\": 124.0, \"sort_place_in_line\": 139.0, \"sort_price_per_pod\": 1096.0}, {\"date\": \"2022-02-16\", \"amount\": 1069, \"place_in_line\": 32955503, \"price_per_pod\": 0.25, \"sort_date\": 47.0, \"sort_amount\": 136.0, \"sort_place_in_line\": 120.0, \"sort_price_per_pod\": 1037.0}, {\"date\": \"2022-02-16\", \"amount\": 345, \"place_in_line\": 32538182, \"price_per_pod\": 0.25, \"sort_date\": 44.0, \"sort_amount\": 54.0, \"sort_place_in_line\": 109.0, \"sort_price_per_pod\": 1036.0}, {\"date\": \"2022-02-16\", \"amount\": 4716, \"place_in_line\": 131580722, \"price_per_pod\": 0.075, \"sort_date\": 42.0, \"sort_amount\": 406.0, \"sort_place_in_line\": 456.0, \"sort_price_per_pod\": 720.0}, {\"date\": \"2022-02-16\", \"amount\": 18433, \"place_in_line\": 131585439, \"price_per_pod\": 0.075, \"sort_date\": 43.0, \"sort_amount\": 940.0, \"sort_place_in_line\": 457.0, \"sort_price_per_pod\": 718.0}, {\"date\": \"2022-02-16\", \"amount\": 42647, \"place_in_line\": 131603872, \"price_per_pod\": 0.075, \"sort_date\": 45.0, \"sort_amount\": 1209.0, \"sort_place_in_line\": 458.0, \"sort_price_per_pod\": 715.0}, {\"date\": \"2022-02-17\", \"amount\": 8711, \"place_in_line\": 36368621, \"price_per_pod\": 0.38, \"sort_date\": 49.0, \"sort_amount\": 627.0, \"sort_place_in_line\": 141.0, \"sort_price_per_pod\": 1099.0}, {\"date\": \"2022-02-17\", \"amount\": 1087, \"place_in_line\": 36377332, \"price_per_pod\": 0.38, \"sort_date\": 50.0, \"sort_amount\": 137.0, \"sort_place_in_line\": 142.0, \"sort_price_per_pod\": 1100.0}, {\"date\": \"2022-02-18\", \"amount\": 18, \"place_in_line\": 26012878, \"price_per_pod\": 0.8, \"sort_date\": 51.0, \"sort_amount\": 6.0, \"sort_place_in_line\": 20.0, \"sort_price_per_pod\": 1365.0}, {\"date\": \"2022-02-18\", \"amount\": 56092, \"place_in_line\": 145620692, \"price_per_pod\": 0.225, \"sort_date\": 52.0, \"sort_amount\": 1265.0, \"sort_place_in_line\": 521.0, \"sort_price_per_pod\": 1002.0}, {\"date\": \"2022-02-18\", \"amount\": 17601, \"place_in_line\": 235869811, \"price_per_pod\": 0.06, \"sort_date\": 53.0, \"sort_amount\": 921.0, \"sort_place_in_line\": 639.0, \"sort_price_per_pod\": 638.0}, {\"date\": \"2022-02-18\", \"amount\": 222000, \"place_in_line\": 260462773, \"price_per_pod\": 0.05, \"sort_date\": 54.0, \"sort_amount\": 1470.0, \"sort_place_in_line\": 662.0, \"sort_price_per_pod\": 507.0}, {\"date\": \"2022-02-18\", \"amount\": 12500, \"place_in_line\": 24002560, \"price_per_pod\": 0.8, \"sort_date\": 55.0, \"sort_amount\": 799.0, \"sort_place_in_line\": 0.0, \"sort_price_per_pod\": 1368.0}, {\"date\": \"2022-02-18\", \"amount\": 7745, \"place_in_line\": 36313652, \"price_per_pod\": 0.38, \"sort_date\": 56.0, \"sort_amount\": 571.0, \"sort_place_in_line\": 129.0, \"sort_price_per_pod\": 1101.0}, {\"date\": \"2022-02-18\", \"amount\": 85000, \"place_in_line\": 359920402, \"price_per_pod\": 0.042, \"sort_date\": 57.0, \"sort_amount\": 1346.0, \"sort_place_in_line\": 799.0, \"sort_price_per_pod\": 441.0}, {\"date\": \"2022-02-19\", \"amount\": 20023, \"place_in_line\": 221182031, \"price_per_pod\": 0.03, \"sort_date\": 60.0, \"sort_amount\": 976.0, \"sort_place_in_line\": 620.0, \"sort_price_per_pod\": 220.0}, {\"date\": \"2022-02-19\", \"amount\": 136363, \"place_in_line\": 221045668, \"price_per_pod\": 0.011, \"sort_date\": 58.0, \"sort_amount\": 1412.0, \"sort_place_in_line\": 619.0, \"sort_price_per_pod\": 14.0}, {\"date\": \"2022-02-19\", \"amount\": 42005, \"place_in_line\": 221003663, \"price_per_pod\": 0.01, \"sort_date\": 59.0, \"sort_amount\": 1202.0, \"sort_place_in_line\": 618.0, \"sort_price_per_pod\": 12.0}, {\"date\": \"2022-02-20\", \"amount\": 575, \"place_in_line\": 26258981, \"price_per_pod\": 0.55, \"sort_date\": 61.0, \"sort_amount\": 85.0, \"sort_place_in_line\": 31.0, \"sort_price_per_pod\": 1215.0}, {\"date\": \"2022-02-20\", \"amount\": 529, \"place_in_line\": 25475014, \"price_per_pod\": 0.55, \"sort_date\": 62.0, \"sort_amount\": 83.0, \"sort_place_in_line\": 14.0, \"sort_price_per_pod\": 1213.0}, {\"date\": \"2022-02-20\", \"amount\": 529, \"place_in_line\": 25471822, \"price_per_pod\": 0.55, \"sort_date\": 63.0, \"sort_amount\": 82.0, \"sort_place_in_line\": 13.0, \"sort_price_per_pod\": 1204.0}, {\"date\": \"2022-02-22\", \"amount\": 500, \"place_in_line\": 25354186, \"price_per_pod\": 0.55, \"sort_date\": 64.0, \"sort_amount\": 78.0, \"sort_place_in_line\": 12.0, \"sort_price_per_pod\": 1200.0}, {\"date\": \"2022-02-22\", \"amount\": 499, \"place_in_line\": 25353686, \"price_per_pod\": 0.55, \"sort_date\": 65.0, \"sort_amount\": 75.0, \"sort_place_in_line\": 11.0, \"sort_price_per_pod\": 1202.0}, {\"date\": \"2022-02-22\", \"amount\": 64805, \"place_in_line\": 122173282, \"price_per_pod\": 0.08, \"sort_date\": 66.0, \"sort_amount\": 1290.0, \"sort_place_in_line\": 437.0, \"sort_price_per_pod\": 732.0}, {\"date\": \"2022-02-22\", \"amount\": 122328, \"place_in_line\": 122238087, \"price_per_pod\": 0.08, \"sort_date\": 67.0, \"sort_amount\": 1396.0, \"sort_place_in_line\": 444.0, \"sort_price_per_pod\": 731.0}, {\"date\": \"2022-02-23\", \"amount\": 483, \"place_in_line\": 25348206, \"price_per_pod\": 0.55, \"sort_date\": 68.0, \"sort_amount\": 71.0, \"sort_place_in_line\": 10.0, \"sort_price_per_pod\": 1211.0}, {\"date\": \"2022-02-24\", \"amount\": 312607, \"place_in_line\": 52707434, \"price_per_pod\": 0.12, \"sort_date\": 69.0, \"sort_amount\": 1492.0, \"sort_place_in_line\": 301.0, \"sort_price_per_pod\": 843.0}, {\"date\": \"2022-02-24\", \"amount\": 3745, \"place_in_line\": 93475780, \"price_per_pod\": 0.09, \"sort_date\": 70.0, \"sort_amount\": 335.0, \"sort_place_in_line\": 376.0, \"sort_price_per_pod\": 766.0}, {\"date\": \"2022-02-26\", \"amount\": 4000, \"place_in_line\": 663099266, \"price_per_pod\": 0.001, \"sort_date\": 72.0, \"sort_amount\": 353.0, \"sort_place_in_line\": 917.0, \"sort_price_per_pod\": 2.0}, {\"date\": \"2022-02-26\", \"amount\": 66346, \"place_in_line\": 131492704, \"price_per_pod\": 0.03, \"sort_date\": 73.0, \"sort_amount\": 1296.0, \"sort_place_in_line\": 455.0, \"sort_price_per_pod\": 219.0}, {\"date\": \"2022-02-26\", \"amount\": 33653, \"place_in_line\": 128226216, \"price_per_pod\": 0.03, \"sort_date\": 71.0, \"sort_amount\": 1143.0, \"sort_place_in_line\": 447.0, \"sort_price_per_pod\": 218.0}, {\"date\": \"2022-02-27\", \"amount\": 66666, \"place_in_line\": 168002025, \"price_per_pod\": 0.03, \"sort_date\": 74.0, \"sort_amount\": 1297.0, \"sort_place_in_line\": 564.0, \"sort_price_per_pod\": 217.0}, {\"date\": \"2022-02-27\", \"amount\": 302, \"place_in_line\": 93479526, \"price_per_pod\": 0.09, \"sort_date\": 75.0, \"sort_amount\": 41.0, \"sort_place_in_line\": 378.0, \"sort_price_per_pod\": 773.0}, {\"date\": \"2022-02-27\", \"amount\": 2138, \"place_in_line\": 36321398, \"price_per_pod\": 0.38, \"sort_date\": 76.0, \"sort_amount\": 220.0, \"sort_place_in_line\": 131.0, \"sort_price_per_pod\": 1102.0}, {\"date\": \"2022-03-01\", \"amount\": 50949, \"place_in_line\": 93479828, \"price_per_pod\": 0.09, \"sort_date\": 77.0, \"sort_amount\": 1255.0, \"sort_place_in_line\": 381.0, \"sort_price_per_pod\": 760.0}, {\"date\": \"2022-03-01\", \"amount\": 2349, \"place_in_line\": 46865951, \"price_per_pod\": 0.25, \"sort_date\": 78.0, \"sort_amount\": 237.0, \"sort_place_in_line\": 221.0, \"sort_price_per_pod\": 1031.0}, {\"date\": \"2022-03-01\", \"amount\": 478845, \"place_in_line\": 93530777, \"price_per_pod\": 0.09, \"sort_date\": 79.0, \"sort_amount\": 1499.0, \"sort_place_in_line\": 382.0, \"sort_price_per_pod\": 746.0}, {\"date\": \"2022-03-01\", \"amount\": 1632, \"place_in_line\": 28014831, \"price_per_pod\": 0.49, \"sort_date\": 80.0, \"sort_amount\": 187.0, \"sort_place_in_line\": 68.0, \"sort_price_per_pod\": 1141.0}, {\"date\": \"2022-03-02\", \"amount\": 64911, \"place_in_line\": 94009622, \"price_per_pod\": 0.09, \"sort_date\": 82.0, \"sort_amount\": 1291.0, \"sort_place_in_line\": 383.0, \"sort_price_per_pod\": 759.0}, {\"date\": \"2022-03-02\", \"amount\": 161247, \"place_in_line\": 94074534, \"price_per_pod\": 0.09, \"sort_date\": 81.0, \"sort_amount\": 1444.0, \"sort_place_in_line\": 384.0, \"sort_price_per_pod\": 757.0}, {\"date\": \"2022-03-02\", \"amount\": 44444, \"place_in_line\": 94235781, \"price_per_pod\": 0.09, \"sort_date\": 83.0, \"sort_amount\": 1223.0, \"sort_place_in_line\": 385.0, \"sort_price_per_pod\": 755.0}, {\"date\": \"2022-03-03\", \"amount\": 9392, \"place_in_line\": 28278581, \"price_per_pod\": 0.15, \"sort_date\": 86.0, \"sort_amount\": 663.0, \"sort_place_in_line\": 81.0, \"sort_price_per_pod\": 901.0}, {\"date\": \"2022-03-03\", \"amount\": 36511, \"place_in_line\": 401405678, \"price_per_pod\": 0.011, \"sort_date\": 87.0, \"sort_amount\": 1164.0, \"sort_place_in_line\": 824.0, \"sort_price_per_pod\": 13.0}, {\"date\": \"2022-03-03\", \"amount\": 500, \"place_in_line\": 46868301, \"price_per_pod\": 0.18, \"sort_date\": 85.0, \"sort_amount\": 77.0, \"sort_place_in_line\": 222.0, \"sort_price_per_pod\": 947.0}, {\"date\": \"2022-03-03\", \"amount\": 17072, \"place_in_line\": 46868801, \"price_per_pod\": 0.18, \"sort_date\": 84.0, \"sort_amount\": 908.0, \"sort_place_in_line\": 223.0, \"sort_price_per_pod\": 940.0}, {\"date\": \"2022-03-04\", \"amount\": 18284, \"place_in_line\": 629670321, \"price_per_pod\": 0.01, \"sort_date\": 88.0, \"sort_amount\": 935.0, \"sort_place_in_line\": 902.0, \"sort_price_per_pod\": 5.0}, {\"date\": \"2022-03-04\", \"amount\": 493, \"place_in_line\": 48279460, \"price_per_pod\": 0.42, \"sort_date\": 89.0, \"sort_amount\": 73.0, \"sort_place_in_line\": 254.0, \"sort_price_per_pod\": 1117.0}, {\"date\": \"2022-03-05\", \"amount\": 12626, \"place_in_line\": 36323537, \"price_per_pod\": 0.38, \"sort_date\": 90.0, \"sort_amount\": 805.0, \"sort_place_in_line\": 132.0, \"sort_price_per_pod\": 1103.0}, {\"date\": \"2022-03-06\", \"amount\": 16250, \"place_in_line\": 27998581, \"price_per_pod\": 0.49, \"sort_date\": 103.0, \"sort_amount\": 891.0, \"sort_place_in_line\": 66.0, \"sort_price_per_pod\": 1143.0}, {\"date\": \"2022-03-06\", \"amount\": 10000, \"place_in_line\": 25058632, \"price_per_pod\": 0.73, \"sort_date\": 102.0, \"sort_amount\": 689.0, \"sort_place_in_line\": 6.0, \"sort_price_per_pod\": 1324.0}, {\"date\": \"2022-03-06\", \"amount\": 15093, \"place_in_line\": 27958581, \"price_per_pod\": 0.7, \"sort_date\": 101.0, \"sort_amount\": 863.0, \"sort_place_in_line\": 60.0, \"sort_price_per_pod\": 1314.0}, {\"date\": \"2022-03-06\", \"amount\": 12566, \"place_in_line\": 48279953, \"price_per_pod\": 0.21, \"sort_date\": 97.0, \"sort_amount\": 804.0, \"sort_place_in_line\": 255.0, \"sort_price_per_pod\": 991.0}, {\"date\": \"2022-03-06\", \"amount\": 10151, \"place_in_line\": 48292520, \"price_per_pod\": 0.21, \"sort_date\": 99.0, \"sort_amount\": 711.0, \"sort_place_in_line\": 256.0, \"sort_price_per_pod\": 995.0}, {\"date\": \"2022-03-06\", \"amount\": 84912, \"place_in_line\": 230527620, \"price_per_pod\": 0.05, \"sort_date\": 98.0, \"sort_amount\": 1345.0, \"sort_place_in_line\": 636.0, \"sort_price_per_pod\": 538.0}, {\"date\": \"2022-03-06\", \"amount\": 2058, \"place_in_line\": 94280226, \"price_per_pod\": 0.09, \"sort_date\": 100.0, \"sort_amount\": 217.0, \"sort_place_in_line\": 393.0, \"sort_price_per_pod\": 768.0}, {\"date\": \"2022-03-06\", \"amount\": 33796, \"place_in_line\": 401405678, \"price_per_pod\": 0.024, \"sort_date\": 96.0, \"sort_amount\": 1144.0, \"sort_place_in_line\": 825.0, \"sort_price_per_pod\": 47.0}, {\"date\": \"2022-03-06\", \"amount\": 11111, \"place_in_line\": 94282285, \"price_per_pod\": 0.09, \"sort_date\": 93.0, \"sort_amount\": 751.0, \"sort_place_in_line\": 396.0, \"sort_price_per_pod\": 771.0}, {\"date\": \"2022-03-06\", \"amount\": 24906, \"place_in_line\": 27973674, \"price_per_pod\": 0.7, \"sort_date\": 91.0, \"sort_amount\": 1052.0, \"sort_place_in_line\": 61.0, \"sort_price_per_pod\": 1320.0}, {\"date\": \"2022-03-06\", \"amount\": 4460, \"place_in_line\": 35443835, \"price_per_pod\": 0.45, \"sort_date\": 92.0, \"sort_amount\": 386.0, \"sort_place_in_line\": 124.0, \"sort_price_per_pod\": 1121.0}, {\"date\": \"2022-03-06\", \"amount\": 655, \"place_in_line\": 40848235, \"price_per_pod\": 0.4, \"sort_date\": 95.0, \"sort_amount\": 93.0, \"sort_place_in_line\": 148.0, \"sort_price_per_pod\": 1108.0}, {\"date\": \"2022-03-06\", \"amount\": 20000, \"place_in_line\": 43657916, \"price_per_pod\": 0.297, \"sort_date\": 94.0, \"sort_amount\": 972.0, \"sort_place_in_line\": 200.0, \"sort_price_per_pod\": 1062.0}, {\"date\": \"2022-03-07\", \"amount\": 11277, \"place_in_line\": 94293396, \"price_per_pod\": 0.09, \"sort_date\": 109.0, \"sort_amount\": 756.0, \"sort_place_in_line\": 399.0, \"sort_price_per_pod\": 770.0}, {\"date\": \"2022-03-07\", \"amount\": 17745, \"place_in_line\": 27940835, \"price_per_pod\": 0.4, \"sort_date\": 108.0, \"sort_amount\": 925.0, \"sort_place_in_line\": 58.0, \"sort_price_per_pod\": 1111.0}, {\"date\": \"2022-03-07\", \"amount\": 13913, \"place_in_line\": 396658256, \"price_per_pod\": 0.03, \"sort_date\": 107.0, \"sort_amount\": 837.0, \"sort_place_in_line\": 821.0, \"sort_price_per_pod\": 205.0}, {\"date\": \"2022-03-07\", \"amount\": 11111, \"place_in_line\": 94304673, \"price_per_pod\": 0.09, \"sort_date\": 110.0, \"sort_amount\": 752.0, \"sort_place_in_line\": 400.0, \"sort_price_per_pod\": 756.0}, {\"date\": \"2022-03-07\", \"amount\": 2443, \"place_in_line\": 24729327, \"price_per_pod\": 0.53, \"sort_date\": 106.0, \"sort_amount\": 242.0, \"sort_place_in_line\": 3.0, \"sort_price_per_pod\": 1186.0}, {\"date\": \"2022-03-07\", \"amount\": 500, \"place_in_line\": 94315784, \"price_per_pod\": 0.09, \"sort_date\": 105.0, \"sort_amount\": 76.0, \"sort_place_in_line\": 401.0, \"sort_price_per_pod\": 745.0}, {\"date\": \"2022-03-07\", \"amount\": 4000, \"place_in_line\": 27612610, \"price_per_pod\": 0.65, \"sort_date\": 104.0, \"sort_amount\": 352.0, \"sort_place_in_line\": 48.0, \"sort_price_per_pod\": 1268.0}, {\"date\": \"2022-03-08\", \"amount\": 38071, \"place_in_line\": 271616769, \"price_per_pod\": 0.04, \"sort_date\": 120.0, \"sort_amount\": 1173.0, \"sort_place_in_line\": 688.0, \"sort_price_per_pod\": 412.0}, {\"date\": \"2022-03-08\", \"amount\": 16000, \"place_in_line\": 47581305, \"price_per_pod\": 0.25, \"sort_date\": 119.0, \"sort_amount\": 885.0, \"sort_place_in_line\": 248.0, \"sort_price_per_pod\": 1032.0}, {\"date\": \"2022-03-08\", \"amount\": 3742, \"place_in_line\": 25068632, \"price_per_pod\": 0.4, \"sort_date\": 118.0, \"sort_amount\": 334.0, \"sort_place_in_line\": 7.0, \"sort_price_per_pod\": 1109.0}, {\"date\": \"2022-03-08\", \"amount\": 10064, \"place_in_line\": 24719262, \"price_per_pod\": 0.845, \"sort_date\": 117.0, \"sort_amount\": 703.0, \"sort_place_in_line\": 1.0, \"sort_price_per_pod\": 1403.0}, {\"date\": \"2022-03-08\", \"amount\": 1481, \"place_in_line\": 26012896, \"price_per_pod\": 0.8, \"sort_date\": 116.0, \"sort_amount\": 167.0, \"sort_place_in_line\": 22.0, \"sort_price_per_pod\": 1371.0}, {\"date\": \"2022-03-08\", \"amount\": 4615, \"place_in_line\": 27616610, \"price_per_pod\": 0.65, \"sort_date\": 115.0, \"sort_amount\": 400.0, \"sort_place_in_line\": 51.0, \"sort_price_per_pod\": 1278.0}, {\"date\": \"2022-03-08\", \"amount\": 29930, \"place_in_line\": 128573965, \"price_per_pod\": 0.08, \"sort_date\": 111.0, \"sort_amount\": 1106.0, \"sort_place_in_line\": 450.0, \"sort_price_per_pod\": 733.0}, {\"date\": \"2022-03-08\", \"amount\": 28075, \"place_in_line\": 94316284, \"price_per_pod\": 0.09, \"sort_date\": 114.0, \"sort_amount\": 1088.0, \"sort_place_in_line\": 402.0, \"sort_price_per_pod\": 762.0}, {\"date\": \"2022-03-08\", \"amount\": 12500, \"place_in_line\": 94344360, \"price_per_pod\": 0.09, \"sort_date\": 113.0, \"sort_amount\": 798.0, \"sort_place_in_line\": 403.0, \"sort_price_per_pod\": 772.0}, {\"date\": \"2022-03-08\", \"amount\": 25000, \"place_in_line\": 94356860, \"price_per_pod\": 0.09, \"sort_date\": 112.0, \"sort_amount\": 1057.0, \"sort_place_in_line\": 404.0, \"sort_price_per_pod\": 752.0}, {\"date\": \"2022-03-09\", \"amount\": 47500, \"place_in_line\": 94381860, \"price_per_pod\": 0.09, \"sort_date\": 137.0, \"sort_amount\": 1235.0, \"sort_place_in_line\": 405.0, \"sort_price_per_pod\": 750.0}, {\"date\": \"2022-03-09\", \"amount\": 19146, \"place_in_line\": 93005074, \"price_per_pod\": 0.12, \"sort_date\": 138.0, \"sort_amount\": 951.0, \"sort_place_in_line\": 366.0, \"sort_price_per_pod\": 850.0}, {\"date\": \"2022-03-09\", \"amount\": 86512, \"place_in_line\": 94429360, \"price_per_pod\": 0.09, \"sort_date\": 139.0, \"sort_amount\": 1350.0, \"sort_place_in_line\": 406.0, \"sort_price_per_pod\": 751.0}, {\"date\": \"2022-03-09\", \"amount\": 37500, \"place_in_line\": 93024220, \"price_per_pod\": 0.12, \"sort_date\": 142.0, \"sort_amount\": 1169.0, \"sort_place_in_line\": 371.0, \"sort_price_per_pod\": 848.0}, {\"date\": \"2022-03-09\", \"amount\": 20195, \"place_in_line\": 36336163, \"price_per_pod\": 0.45, \"sort_date\": 140.0, \"sort_amount\": 982.0, \"sort_place_in_line\": 133.0, \"sort_price_per_pod\": 1126.0}, {\"date\": \"2022-03-09\", \"amount\": 20412, \"place_in_line\": 43677916, \"price_per_pod\": 0.297, \"sort_date\": 141.0, \"sort_amount\": 988.0, \"sort_place_in_line\": 209.0, \"sort_price_per_pod\": 1061.0}, {\"date\": \"2022-03-09\", \"amount\": 5444, \"place_in_line\": 27621225, \"price_per_pod\": 0.65, \"sort_date\": 148.0, \"sort_amount\": 448.0, \"sort_place_in_line\": 53.0, \"sort_price_per_pod\": 1269.0}, {\"date\": \"2022-03-09\", \"amount\": 500000, \"place_in_line\": 490699224, \"price_per_pod\": 0.012, \"sort_date\": 143.0, \"sort_amount\": 1502.0, \"sort_place_in_line\": 873.0, \"sort_price_per_pod\": 15.0}, {\"date\": \"2022-03-09\", \"amount\": 4742, \"place_in_line\": 31200843, \"price_per_pod\": 0.55, \"sort_date\": 144.0, \"sort_amount\": 409.0, \"sort_place_in_line\": 87.0, \"sort_price_per_pod\": 1206.0}, {\"date\": \"2022-03-09\", \"amount\": 512, \"place_in_line\": 31205585, \"price_per_pod\": 0.55, \"sort_date\": 145.0, \"sort_amount\": 80.0, \"sort_place_in_line\": 89.0, \"sort_price_per_pod\": 1207.0}, {\"date\": \"2022-03-09\", \"amount\": 125375, \"place_in_line\": 128603895, \"price_per_pod\": 0.08, \"sort_date\": 146.0, \"sort_amount\": 1397.0, \"sort_place_in_line\": 451.0, \"sort_price_per_pod\": 725.0}, {\"date\": \"2022-03-09\", \"amount\": 31250, \"place_in_line\": 128729271, \"price_per_pod\": 0.08, \"sort_date\": 147.0, \"sort_amount\": 1122.0, \"sort_place_in_line\": 452.0, \"sort_price_per_pod\": 724.0}, {\"date\": \"2022-03-09\", \"amount\": 62132, \"place_in_line\": 271654840, \"price_per_pod\": 0.04, \"sort_date\": 135.0, \"sort_amount\": 1286.0, \"sort_place_in_line\": 689.0, \"sort_price_per_pod\": 415.0}, {\"date\": \"2022-03-09\", \"amount\": 5334, \"place_in_line\": 43698328, \"price_per_pod\": 0.297, \"sort_date\": 136.0, \"sort_amount\": 442.0, \"sort_place_in_line\": 210.0, \"sort_price_per_pod\": 1064.0}, {\"date\": \"2022-03-09\", \"amount\": 275, \"place_in_line\": 25475268, \"price_per_pod\": 0.82, \"sort_date\": 133.0, \"sort_amount\": 36.0, \"sort_place_in_line\": 15.0, \"sort_price_per_pod\": 1389.0}, {\"date\": \"2022-03-09\", \"amount\": 7011, \"place_in_line\": 28016464, \"price_per_pod\": 0.69, \"sort_date\": 127.0, \"sort_amount\": 537.0, \"sort_place_in_line\": 69.0, \"sort_price_per_pod\": 1306.0}, {\"date\": \"2022-03-09\", \"amount\": 70000, \"place_in_line\": 27121152, \"price_per_pod\": 0.93, \"sort_date\": 121.0, \"sort_amount\": 1306.0, \"sort_place_in_line\": 39.0, \"sort_price_per_pod\": 1473.0}, {\"date\": \"2022-03-09\", \"amount\": 41139, \"place_in_line\": 43703663, \"price_per_pod\": 0.297, \"sort_date\": 122.0, \"sort_amount\": 1198.0, \"sort_place_in_line\": 211.0, \"sort_price_per_pod\": 1063.0}, {\"date\": \"2022-03-09\", \"amount\": 32339, \"place_in_line\": 48383341, \"price_per_pod\": 0.37, \"sort_date\": 123.0, \"sort_amount\": 1130.0, \"sort_place_in_line\": 257.0, \"sort_price_per_pod\": 1088.0}, {\"date\": \"2022-03-09\", \"amount\": 37500, \"place_in_line\": 128760521, \"price_per_pod\": 0.08, \"sort_date\": 124.0, \"sort_amount\": 1170.0, \"sort_place_in_line\": 453.0, \"sort_price_per_pod\": 729.0}, {\"date\": \"2022-03-09\", \"amount\": 13946, \"place_in_line\": 128798021, \"price_per_pod\": 0.08, \"sort_date\": 125.0, \"sort_amount\": 838.0, \"sort_place_in_line\": 454.0, \"sort_price_per_pod\": 730.0}, {\"date\": \"2022-03-09\", \"amount\": 40691, \"place_in_line\": 641335218, \"price_per_pod\": 0.02, \"sort_date\": 132.0, \"sort_amount\": 1192.0, \"sort_place_in_line\": 908.0, \"sort_price_per_pod\": 27.0}, {\"date\": \"2022-03-09\", \"amount\": 100000, \"place_in_line\": 277275034, \"price_per_pod\": 0.09, \"sort_date\": 134.0, \"sort_amount\": 1373.0, \"sort_place_in_line\": 704.0, \"sort_price_per_pod\": 775.0}, {\"date\": \"2022-03-09\", \"amount\": 40316, \"place_in_line\": 276364944, \"price_per_pod\": 0.05, \"sort_date\": 128.0, \"sort_amount\": 1190.0, \"sort_place_in_line\": 697.0, \"sort_price_per_pod\": 554.0}, {\"date\": \"2022-03-09\", \"amount\": 135654, \"place_in_line\": 277396766, \"price_per_pod\": 0.06, \"sort_date\": 129.0, \"sort_amount\": 1408.0, \"sort_place_in_line\": 705.0, \"sort_price_per_pod\": 643.0}, {\"date\": \"2022-03-09\", \"amount\": 200000, \"place_in_line\": 299905735, \"price_per_pod\": 0.0549, \"sort_date\": 130.0, \"sort_amount\": 1461.0, \"sort_place_in_line\": 752.0, \"sort_price_per_pod\": 592.0}, {\"date\": \"2022-03-09\", \"amount\": 111570, \"place_in_line\": 490699224, \"price_per_pod\": 0.03, \"sort_date\": 131.0, \"sort_amount\": 1391.0, \"sort_place_in_line\": 874.0, \"sort_price_per_pod\": 222.0}, {\"date\": \"2022-03-09\", \"amount\": 3368, \"place_in_line\": 28023476, \"price_per_pod\": 0.69, \"sort_date\": 126.0, \"sort_amount\": 308.0, \"sort_place_in_line\": 70.0, \"sort_price_per_pod\": 1308.0}, {\"date\": \"2022-03-10\", \"amount\": 16603, \"place_in_line\": 641375909, \"price_per_pod\": 0.02, \"sort_date\": 160.0, \"sort_amount\": 894.0, \"sort_place_in_line\": 909.0, \"sort_price_per_pod\": 35.0}, {\"date\": \"2022-03-10\", \"amount\": 12525, \"place_in_line\": 656295710, \"price_per_pod\": 0.02, \"sort_date\": 159.0, \"sort_amount\": 802.0, \"sort_place_in_line\": 914.0, \"sort_price_per_pod\": 37.0}, {\"date\": \"2022-03-10\", \"amount\": 10664, \"place_in_line\": 35448296, \"price_per_pod\": 0.5, \"sort_date\": 158.0, \"sort_amount\": 731.0, \"sort_place_in_line\": 125.0, \"sort_price_per_pod\": 1155.0}, {\"date\": \"2022-03-10\", \"amount\": 315, \"place_in_line\": 31206097, \"price_per_pod\": 0.55, \"sort_date\": 157.0, \"sort_amount\": 52.0, \"sort_place_in_line\": 90.0, \"sort_price_per_pod\": 1212.0}, {\"date\": \"2022-03-10\", \"amount\": 8622, \"place_in_line\": 35458960, \"price_per_pod\": 0.5, \"sort_date\": 156.0, \"sort_amount\": 620.0, \"sort_place_in_line\": 126.0, \"sort_price_per_pod\": 1154.0}, {\"date\": \"2022-03-10\", \"amount\": 7520, \"place_in_line\": 28026844, \"price_per_pod\": 0.69, \"sort_date\": 161.0, \"sort_amount\": 563.0, \"sort_place_in_line\": 71.0, \"sort_price_per_pod\": 1299.0}, {\"date\": \"2022-03-10\", \"amount\": 6434, \"place_in_line\": 94235781, \"price_per_pod\": 0.2, \"sort_date\": 154.0, \"sort_amount\": 503.0, \"sort_place_in_line\": 386.0, \"sort_price_per_pod\": 978.0}, {\"date\": \"2022-03-10\", \"amount\": 10448, \"place_in_line\": 35467583, \"price_per_pod\": 0.5, \"sort_date\": 149.0, \"sort_amount\": 721.0, \"sort_place_in_line\": 127.0, \"sort_price_per_pod\": 1152.0}, {\"date\": \"2022-03-10\", \"amount\": 2067, \"place_in_line\": 35478032, \"price_per_pod\": 0.5, \"sort_date\": 153.0, \"sort_amount\": 218.0, \"sort_place_in_line\": 128.0, \"sort_price_per_pod\": 1151.0}, {\"date\": \"2022-03-10\", \"amount\": 16666, \"place_in_line\": 490810794, \"price_per_pod\": 0.03, \"sort_date\": 152.0, \"sort_amount\": 897.0, \"sort_place_in_line\": 875.0, \"sort_price_per_pod\": 203.0}, {\"date\": \"2022-03-10\", \"amount\": 3484, \"place_in_line\": 48415681, \"price_per_pod\": 0.37, \"sort_date\": 151.0, \"sort_amount\": 312.0, \"sort_place_in_line\": 258.0, \"sort_price_per_pod\": 1091.0}, {\"date\": \"2022-03-10\", \"amount\": 1640, \"place_in_line\": 94242216, \"price_per_pod\": 0.2, \"sort_date\": 150.0, \"sort_amount\": 188.0, \"sort_place_in_line\": 387.0, \"sort_price_per_pod\": 981.0}, {\"date\": \"2022-03-10\", \"amount\": 11391, \"place_in_line\": 94243857, \"price_per_pod\": 0.2, \"sort_date\": 155.0, \"sort_amount\": 762.0, \"sort_place_in_line\": 388.0, \"sort_price_per_pod\": 983.0}, {\"date\": \"2022-03-11\", \"amount\": 9435, \"place_in_line\": 48419166, \"price_per_pod\": 0.37, \"sort_date\": 172.0, \"sort_amount\": 664.0, \"sort_place_in_line\": 259.0, \"sort_price_per_pod\": 1093.0}, {\"date\": \"2022-03-11\", \"amount\": 861, \"place_in_line\": 81428887, \"price_per_pod\": 0.33, \"sort_date\": 171.0, \"sort_amount\": 109.0, \"sort_place_in_line\": 339.0, \"sort_price_per_pod\": 1077.0}, {\"date\": \"2022-03-11\", \"amount\": 134211, \"place_in_line\": 490827460, \"price_per_pod\": 0.03, \"sort_date\": 170.0, \"sort_amount\": 1407.0, \"sort_place_in_line\": 876.0, \"sort_price_per_pod\": 204.0}, {\"date\": \"2022-03-11\", \"amount\": 483255, \"place_in_line\": 405009250, \"price_per_pod\": 0.05, \"sort_date\": 169.0, \"sort_amount\": 1500.0, \"sort_place_in_line\": 837.0, \"sort_price_per_pod\": 541.0}, {\"date\": \"2022-03-11\", \"amount\": 4954, \"place_in_line\": 228812087, \"price_per_pod\": 0.07, \"sort_date\": 168.0, \"sort_amount\": 420.0, \"sort_place_in_line\": 631.0, \"sort_price_per_pod\": 710.0}, {\"date\": \"2022-03-11\", \"amount\": 7229, \"place_in_line\": 228817042, \"price_per_pod\": 0.07, \"sort_date\": 173.0, \"sort_amount\": 544.0, \"sort_place_in_line\": 632.0, \"sort_price_per_pod\": 708.0}, {\"date\": \"2022-03-11\", \"amount\": 11277, \"place_in_line\": 94293396, \"price_per_pod\": 0.1, \"sort_date\": 166.0, \"sort_amount\": 757.0, \"sort_place_in_line\": 397.0, \"sort_price_per_pod\": 831.0}, {\"date\": \"2022-03-11\", \"amount\": 56385, \"place_in_line\": 693193337, \"price_per_pod\": 0.02, \"sort_date\": 165.0, \"sort_amount\": 1267.0, \"sort_place_in_line\": 923.0, \"sort_price_per_pod\": 32.0}, {\"date\": \"2022-03-11\", \"amount\": 655, \"place_in_line\": 40848235, \"price_per_pod\": 0.25, \"sort_date\": 164.0, \"sort_amount\": 92.0, \"sort_place_in_line\": 149.0, \"sort_price_per_pod\": 1027.0}, {\"date\": \"2022-03-11\", \"amount\": 20000, \"place_in_line\": 43657916, \"price_per_pod\": 0.25, \"sort_date\": 163.0, \"sort_amount\": 971.0, \"sort_place_in_line\": 201.0, \"sort_price_per_pod\": 1028.0}, {\"date\": \"2022-03-11\", \"amount\": 37903, \"place_in_line\": 693249722, \"price_per_pod\": 0.02, \"sort_date\": 167.0, \"sort_amount\": 1172.0, \"sort_place_in_line\": 924.0, \"sort_price_per_pod\": 29.0}, {\"date\": \"2022-03-11\", \"amount\": 28977, \"place_in_line\": 228824271, \"price_per_pod\": 0.07, \"sort_date\": 162.0, \"sort_amount\": 1093.0, \"sort_place_in_line\": 633.0, \"sort_price_per_pod\": 702.0}, {\"date\": \"2022-03-12\", \"amount\": 138626, \"place_in_line\": 693535758, \"price_per_pod\": 0.017, \"sort_date\": 191.0, \"sort_amount\": 1415.0, \"sort_place_in_line\": 925.0, \"sort_price_per_pod\": 18.0}, {\"date\": \"2022-03-12\", \"amount\": 72530, \"place_in_line\": 693083416, \"price_per_pod\": 0.017, \"sort_date\": 192.0, \"sort_amount\": 1314.0, \"sort_place_in_line\": 922.0, \"sort_price_per_pod\": 19.0}, {\"date\": \"2022-03-12\", \"amount\": 3759, \"place_in_line\": 202229243, \"price_per_pod\": 0.133, \"sort_date\": 193.0, \"sort_amount\": 336.0, \"sort_place_in_line\": 583.0, \"sort_price_per_pod\": 860.0}, {\"date\": \"2022-03-12\", \"amount\": 2961, \"place_in_line\": 32787450, \"price_per_pod\": 0.75, \"sort_date\": 194.0, \"sort_amount\": 280.0, \"sort_place_in_line\": 112.0, \"sort_price_per_pod\": 1338.0}, {\"date\": \"2022-03-12\", \"amount\": 3000, \"place_in_line\": 27205591, \"price_per_pod\": 0.79, \"sort_date\": 195.0, \"sort_amount\": 286.0, \"sort_place_in_line\": 40.0, \"sort_price_per_pod\": 1364.0}, {\"date\": \"2022-03-12\", \"amount\": 18284, \"place_in_line\": 92734901, \"price_per_pod\": 0.1, \"sort_date\": 197.0, \"sort_amount\": 936.0, \"sort_place_in_line\": 356.0, \"sort_price_per_pod\": 805.0}, {\"date\": \"2022-03-12\", \"amount\": 15764, \"place_in_line\": 92719137, \"price_per_pod\": 0.1, \"sort_date\": 196.0, \"sort_amount\": 880.0, \"sort_place_in_line\": 354.0, \"sort_price_per_pod\": 790.0}, {\"date\": \"2022-03-12\", \"amount\": 508, \"place_in_line\": 25072374, \"price_per_pod\": 0.7, \"sort_date\": 204.0, \"sort_amount\": 79.0, \"sort_place_in_line\": 9.0, \"sort_price_per_pod\": 1319.0}, {\"date\": \"2022-03-12\", \"amount\": 476, \"place_in_line\": 24937249, \"price_per_pod\": 0.7, \"sort_date\": 198.0, \"sort_amount\": 66.0, \"sort_place_in_line\": 5.0, \"sort_price_per_pod\": 1318.0}, {\"date\": \"2022-03-12\", \"amount\": 2326, \"place_in_line\": 202233002, \"price_per_pod\": 0.133, \"sort_date\": 199.0, \"sort_amount\": 233.0, \"sort_place_in_line\": 584.0, \"sort_price_per_pod\": 861.0}, {\"date\": \"2022-03-12\", \"amount\": 3855, \"place_in_line\": 218671968, \"price_per_pod\": 0.12, \"sort_date\": 189.0, \"sort_amount\": 345.0, \"sort_place_in_line\": 607.0, \"sort_price_per_pod\": 846.0}, {\"date\": \"2022-03-12\", \"amount\": 8976, \"place_in_line\": 694491673, \"price_per_pod\": 0.02, \"sort_date\": 201.0, \"sort_amount\": 640.0, \"sort_place_in_line\": 927.0, \"sort_price_per_pod\": 33.0}, {\"date\": \"2022-03-12\", \"amount\": 2818, \"place_in_line\": 27208591, \"price_per_pod\": 0.79, \"sort_date\": 202.0, \"sort_amount\": 273.0, \"sort_place_in_line\": 43.0, \"sort_price_per_pod\": 1361.0}, {\"date\": \"2022-03-12\", \"amount\": 1466, \"place_in_line\": 202235329, \"price_per_pod\": 0.14, \"sort_date\": 203.0, \"sort_amount\": 164.0, \"sort_place_in_line\": 585.0, \"sort_price_per_pod\": 870.0}, {\"date\": \"2022-03-12\", \"amount\": 42152, \"place_in_line\": 694663168, \"price_per_pod\": 0.016, \"sort_date\": 190.0, \"sort_amount\": 1203.0, \"sort_place_in_line\": 930.0, \"sort_price_per_pod\": 17.0}, {\"date\": \"2022-03-12\", \"amount\": 7142, \"place_in_line\": 228853249, \"price_per_pod\": 0.07, \"sort_date\": 200.0, \"sort_amount\": 543.0, \"sort_place_in_line\": 634.0, \"sort_price_per_pod\": 706.0}, {\"date\": \"2022-03-12\", \"amount\": 3742, \"place_in_line\": 25068632, \"price_per_pod\": 0.9, \"sort_date\": 188.0, \"sort_amount\": 333.0, \"sort_place_in_line\": 8.0, \"sort_price_per_pod\": 1451.0}, {\"date\": \"2022-03-12\", \"amount\": 74135, \"place_in_line\": 694500649, \"price_per_pod\": 0.02, \"sort_date\": 186.0, \"sort_amount\": 1317.0, \"sort_place_in_line\": 928.0, \"sort_price_per_pod\": 36.0}, {\"date\": \"2022-03-12\", \"amount\": 48943, \"place_in_line\": 221365023, \"price_per_pod\": 0.08, \"sort_date\": 174.0, \"sort_amount\": 1238.0, \"sort_place_in_line\": 621.0, \"sort_price_per_pod\": 726.0}, {\"date\": \"2022-03-12\", \"amount\": 27884, \"place_in_line\": 228860392, \"price_per_pod\": 0.07, \"sort_date\": 175.0, \"sort_amount\": 1084.0, \"sort_place_in_line\": 635.0, \"sort_price_per_pod\": 696.0}, {\"date\": \"2022-03-12\", \"amount\": 24695, \"place_in_line\": 277250339, \"price_per_pod\": 0.09, \"sort_date\": 176.0, \"sort_amount\": 1050.0, \"sort_place_in_line\": 702.0, \"sort_price_per_pod\": 754.0}, {\"date\": \"2022-03-12\", \"amount\": 89966, \"place_in_line\": 296679653, \"price_per_pod\": 0.08, \"sort_date\": 177.0, \"sort_amount\": 1353.0, \"sort_place_in_line\": 741.0, \"sort_price_per_pod\": 727.0}, {\"date\": \"2022-03-12\", \"amount\": 28239, \"place_in_line\": 296769619, \"price_per_pod\": 0.08, \"sort_date\": 178.0, \"sort_amount\": 1089.0, \"sort_place_in_line\": 742.0, \"sort_price_per_pod\": 734.0}, {\"date\": \"2022-03-12\", \"amount\": 127509, \"place_in_line\": 490961672, \"price_per_pod\": 0.04, \"sort_date\": 179.0, \"sort_amount\": 1399.0, \"sort_place_in_line\": 877.0, \"sort_price_per_pod\": 424.0}, {\"date\": \"2022-03-12\", \"amount\": 3344, \"place_in_line\": 42446543, \"price_per_pod\": 0.25, \"sort_date\": 187.0, \"sort_amount\": 307.0, \"sort_place_in_line\": 171.0, \"sort_price_per_pod\": 1029.0}, {\"date\": \"2022-03-12\", \"amount\": 306, \"place_in_line\": 28269223, \"price_per_pod\": 0.5, \"sort_date\": 181.0, \"sort_amount\": 48.0, \"sort_place_in_line\": 74.0, \"sort_price_per_pod\": 1161.0}, {\"date\": \"2022-03-12\", \"amount\": 306, \"place_in_line\": 28269529, \"price_per_pod\": 0.5, \"sort_date\": 180.0, \"sort_amount\": 49.0, \"sort_place_in_line\": 75.0, \"sort_price_per_pod\": 1183.0}, {\"date\": \"2022-03-12\", \"amount\": 306, \"place_in_line\": 28278274, \"price_per_pod\": 0.5, \"sort_date\": 182.0, \"sort_amount\": 50.0, \"sort_place_in_line\": 79.0, \"sort_price_per_pod\": 1163.0}, {\"date\": \"2022-03-12\", \"amount\": 306, \"place_in_line\": 28277968, \"price_per_pod\": 0.5, \"sort_date\": 183.0, \"sort_amount\": 45.0, \"sort_place_in_line\": 78.0, \"sort_price_per_pod\": 1182.0}, {\"date\": \"2022-03-12\", \"amount\": 306, \"place_in_line\": 28277662, \"price_per_pod\": 0.5, \"sort_date\": 184.0, \"sort_amount\": 46.0, \"sort_place_in_line\": 77.0, \"sort_price_per_pod\": 1174.0}, {\"date\": \"2022-03-12\", \"amount\": 306, \"place_in_line\": 28277356, \"price_per_pod\": 0.5, \"sort_date\": 185.0, \"sort_amount\": 47.0, \"sort_place_in_line\": 76.0, \"sort_price_per_pod\": 1160.0}, {\"date\": \"2022-03-13\", \"amount\": 950, \"place_in_line\": 94281335, \"price_per_pod\": 0.28, \"sort_date\": 214.0, \"sort_amount\": 116.0, \"sort_place_in_line\": 395.0, \"sort_price_per_pod\": 1052.0}, {\"date\": \"2022-03-13\", \"amount\": 4442, \"place_in_line\": 695155947, \"price_per_pod\": 0.015, \"sort_date\": 213.0, \"sort_amount\": 383.0, \"sort_place_in_line\": 931.0, \"sort_price_per_pod\": 16.0}, {\"date\": \"2022-03-13\", \"amount\": 860, \"place_in_line\": 26197232, \"price_per_pod\": 0.89, \"sort_date\": 212.0, \"sort_amount\": 106.0, \"sort_place_in_line\": 24.0, \"sort_price_per_pod\": 1445.0}, {\"date\": \"2022-03-13\", \"amount\": 25140, \"place_in_line\": 202236795, \"price_per_pod\": 0.14, \"sort_date\": 211.0, \"sort_amount\": 1063.0, \"sort_place_in_line\": 586.0, \"sort_price_per_pod\": 868.0}, {\"date\": \"2022-03-13\", \"amount\": 730, \"place_in_line\": 48269460, \"price_per_pod\": 0.42, \"sort_date\": 215.0, \"sort_amount\": 97.0, \"sort_place_in_line\": 251.0, \"sort_price_per_pod\": 1116.0}, {\"date\": \"2022-03-13\", \"amount\": 2542, \"place_in_line\": 94255248, \"price_per_pod\": 0.2, \"sort_date\": 209.0, \"sort_amount\": 252.0, \"sort_place_in_line\": 389.0, \"sort_price_per_pod\": 984.0}, {\"date\": \"2022-03-13\", \"amount\": 88383, \"place_in_line\": 694574785, \"price_per_pod\": 0.03, \"sort_date\": 205.0, \"sort_amount\": 1352.0, \"sort_place_in_line\": 929.0, \"sort_price_per_pod\": 185.0}, {\"date\": \"2022-03-13\", \"amount\": 190, \"place_in_line\": 31343225, \"price_per_pod\": 0.85, \"sort_date\": 208.0, \"sort_amount\": 27.0, \"sort_place_in_line\": 92.0, \"sort_price_per_pod\": 1411.0}, {\"date\": \"2022-03-13\", \"amount\": 3057, \"place_in_line\": 27091152, \"price_per_pod\": 0.93, \"sort_date\": 210.0, \"sort_amount\": 289.0, \"sort_place_in_line\": 32.0, \"sort_price_per_pod\": 1477.0}, {\"date\": \"2022-03-13\", \"amount\": 56964, \"place_in_line\": 695196582, \"price_per_pod\": 0.03, \"sort_date\": 207.0, \"sort_amount\": 1269.0, \"sort_place_in_line\": 934.0, \"sort_price_per_pod\": 147.0}, {\"date\": \"2022-03-13\", \"amount\": 4269, \"place_in_line\": 48275191, \"price_per_pod\": 0.52, \"sort_date\": 206.0, \"sort_amount\": 369.0, \"sort_place_in_line\": 253.0, \"sort_price_per_pod\": 1184.0}, {\"date\": \"2022-03-14\", \"amount\": 26604, \"place_in_line\": 491089182, \"price_per_pod\": 0.04, \"sort_date\": 228.0, \"sort_amount\": 1074.0, \"sort_place_in_line\": 879.0, \"sort_price_per_pod\": 434.0}, {\"date\": \"2022-03-14\", \"amount\": 3058, \"place_in_line\": 27094209, \"price_per_pod\": 0.82, \"sort_date\": 227.0, \"sort_amount\": 290.0, \"sort_place_in_line\": 33.0, \"sort_price_per_pod\": 1392.0}, {\"date\": \"2022-03-14\", \"amount\": 6097, \"place_in_line\": 27097268, \"price_per_pod\": 0.82, \"sort_date\": 226.0, \"sort_amount\": 485.0, \"sort_place_in_line\": 34.0, \"sort_price_per_pod\": 1387.0}, {\"date\": \"2022-03-14\", \"amount\": 4694, \"place_in_line\": 27103365, \"price_per_pod\": 0.82, \"sort_date\": 225.0, \"sort_amount\": 404.0, \"sort_place_in_line\": 36.0, \"sort_price_per_pod\": 1388.0}, {\"date\": \"2022-03-14\", \"amount\": 30303, \"place_in_line\": 323099144, \"price_per_pod\": 0.066, \"sort_date\": 224.0, \"sort_amount\": 1116.0, \"sort_place_in_line\": 778.0, \"sort_price_per_pod\": 686.0}, {\"date\": \"2022-03-14\", \"amount\": 1941, \"place_in_line\": 323129447, \"price_per_pod\": 0.066, \"sort_date\": 223.0, \"sort_amount\": 204.0, \"sort_place_in_line\": 779.0, \"sort_price_per_pod\": 685.0}, {\"date\": \"2022-03-14\", \"amount\": 65269, \"place_in_line\": 323131389, \"price_per_pod\": 0.066, \"sort_date\": 229.0, \"sort_amount\": 1293.0, \"sort_place_in_line\": 782.0, \"sort_price_per_pod\": 684.0}, {\"date\": \"2022-03-14\", \"amount\": 3000, \"place_in_line\": 27205591, \"price_per_pod\": 0.79, \"sort_date\": 222.0, \"sort_amount\": 284.0, \"sort_place_in_line\": 42.0, \"sort_price_per_pod\": 1360.0}, {\"date\": \"2022-03-14\", \"amount\": 4030, \"place_in_line\": 26254950, \"price_per_pod\": 0.825, \"sort_date\": 221.0, \"sort_amount\": 354.0, \"sort_place_in_line\": 28.0, \"sort_price_per_pod\": 1401.0}, {\"date\": \"2022-03-14\", \"amount\": 4894, \"place_in_line\": 25484600, \"price_per_pod\": 0.7, \"sort_date\": 220.0, \"sort_amount\": 416.0, \"sort_place_in_line\": 18.0, \"sort_price_per_pod\": 1321.0}, {\"date\": \"2022-03-14\", \"amount\": 20680, \"place_in_line\": 48503965, \"price_per_pod\": 0.35, \"sort_date\": 219.0, \"sort_amount\": 996.0, \"sort_place_in_line\": 268.0, \"sort_price_per_pod\": 1086.0}, {\"date\": \"2022-03-14\", \"amount\": 2857, \"place_in_line\": 262192846, \"price_per_pod\": 0.09, \"sort_date\": 218.0, \"sort_amount\": 278.0, \"sort_place_in_line\": 666.0, \"sort_price_per_pod\": 758.0}, {\"date\": \"2022-03-14\", \"amount\": 230, \"place_in_line\": 42612301, \"price_per_pod\": 0.67, \"sort_date\": 217.0, \"sort_amount\": 32.0, \"sort_place_in_line\": 173.0, \"sort_price_per_pod\": 1284.0}, {\"date\": \"2022-03-14\", \"amount\": 5533, \"place_in_line\": 25479067, \"price_per_pod\": 0.7, \"sort_date\": 216.0, \"sort_amount\": 451.0, \"sort_place_in_line\": 17.0, \"sort_price_per_pod\": 1312.0}, {\"date\": \"2022-03-15\", \"amount\": 64, \"place_in_line\": 94280226, \"price_per_pod\": 0.28, \"sort_date\": 245.0, \"sort_amount\": 17.0, \"sort_place_in_line\": 392.0, \"sort_price_per_pod\": 1055.0}, {\"date\": \"2022-03-15\", \"amount\": 1894, \"place_in_line\": 218675824, \"price_per_pod\": 0.12, \"sort_date\": 244.0, \"sort_amount\": 203.0, \"sort_place_in_line\": 608.0, \"sort_price_per_pod\": 854.0}, {\"date\": \"2022-03-15\", \"amount\": 302, \"place_in_line\": 93479526, \"price_per_pod\": 0.15, \"sort_date\": 243.0, \"sort_amount\": 42.0, \"sort_place_in_line\": 377.0, \"sort_price_per_pod\": 894.0}, {\"date\": \"2022-03-15\", \"amount\": 302, \"place_in_line\": 27108060, \"price_per_pod\": 0.82, \"sort_date\": 242.0, \"sort_amount\": 43.0, \"sort_place_in_line\": 37.0, \"sort_price_per_pod\": 1391.0}, {\"date\": \"2022-03-15\", \"amount\": 12789, \"place_in_line\": 27108363, \"price_per_pod\": 0.82, \"sort_date\": 240.0, \"sort_amount\": 812.0, \"sort_place_in_line\": 38.0, \"sort_price_per_pod\": 1385.0}, {\"date\": \"2022-03-15\", \"amount\": 143420, \"place_in_line\": 695628520, \"price_per_pod\": 0.033, \"sort_date\": 239.0, \"sort_amount\": 1420.0, \"sort_place_in_line\": 958.0, \"sort_price_per_pod\": 315.0}, {\"date\": \"2022-03-15\", \"amount\": 18658, \"place_in_line\": 40848891, \"price_per_pod\": 0.6, \"sort_date\": 238.0, \"sort_amount\": 944.0, \"sort_place_in_line\": 150.0, \"sort_price_per_pod\": 1252.0}, {\"date\": \"2022-03-15\", \"amount\": 74656, \"place_in_line\": 250526151, \"price_per_pod\": 0.1, \"sort_date\": 241.0, \"sort_amount\": 1319.0, \"sort_place_in_line\": 651.0, \"sort_price_per_pod\": 802.0}, {\"date\": \"2022-03-15\", \"amount\": 25133, \"place_in_line\": 262195704, \"price_per_pod\": 0.09, \"sort_date\": 236.0, \"sort_amount\": 1061.0, \"sort_place_in_line\": 667.0, \"sort_price_per_pod\": 744.0}, {\"date\": \"2022-03-15\", \"amount\": 20160, \"place_in_line\": 309147120, \"price_per_pod\": 0.1, \"sort_date\": 230.0, \"sort_amount\": 980.0, \"sort_place_in_line\": 755.0, \"sort_price_per_pod\": 793.0}, {\"date\": \"2022-03-15\", \"amount\": 10500, \"place_in_line\": 40867549, \"price_per_pod\": 0.6, \"sort_date\": 235.0, \"sort_amount\": 727.0, \"sort_place_in_line\": 151.0, \"sort_price_per_pod\": 1253.0}, {\"date\": \"2022-03-15\", \"amount\": 3523, \"place_in_line\": 25475543, \"price_per_pod\": 0.855, \"sort_date\": 237.0, \"sort_amount\": 314.0, \"sort_place_in_line\": 16.0, \"sort_price_per_pod\": 1425.0}, {\"date\": \"2022-03-15\", \"amount\": 6000, \"place_in_line\": 27211591, \"price_per_pod\": 0.85, \"sort_date\": 234.0, \"sort_amount\": 478.0, \"sort_place_in_line\": 44.0, \"sort_price_per_pod\": 1406.0}, {\"date\": \"2022-03-15\", \"amount\": 4615, \"place_in_line\": 27616610, \"price_per_pod\": 0.9, \"sort_date\": 233.0, \"sort_amount\": 399.0, \"sort_place_in_line\": 52.0, \"sort_price_per_pod\": 1459.0}, {\"date\": \"2022-03-15\", \"amount\": 166288, \"place_in_line\": 470702637, \"price_per_pod\": 0.018, \"sort_date\": 232.0, \"sort_amount\": 1447.0, \"sort_place_in_line\": 870.0, \"sort_price_per_pod\": 20.0}, {\"date\": \"2022-03-15\", \"amount\": 262, \"place_in_line\": 405492506, \"price_per_pod\": 0.05, \"sort_date\": 231.0, \"sort_amount\": 35.0, \"sort_place_in_line\": 838.0, \"sort_price_per_pod\": 530.0}, {\"date\": \"2022-03-16\", \"amount\": 61656, \"place_in_line\": 323131389, \"price_per_pod\": 0.084, \"sort_date\": 258.0, \"sort_amount\": 1283.0, \"sort_place_in_line\": 781.0, \"sort_price_per_pod\": 739.0}, {\"date\": \"2022-03-16\", \"amount\": 34430, \"place_in_line\": 136878766, \"price_per_pod\": 0.15, \"sort_date\": 257.0, \"sort_amount\": 1150.0, \"sort_place_in_line\": 466.0, \"sort_price_per_pod\": 909.0}, {\"date\": \"2022-03-16\", \"amount\": 7813, \"place_in_line\": 81429748, \"price_per_pod\": 0.33, \"sort_date\": 256.0, \"sort_amount\": 573.0, \"sort_place_in_line\": 340.0, \"sort_price_per_pod\": 1081.0}, {\"date\": \"2022-03-16\", \"amount\": 1570, \"place_in_line\": 411688335, \"price_per_pod\": 0.05, \"sort_date\": 255.0, \"sort_amount\": 179.0, \"sort_place_in_line\": 847.0, \"sort_price_per_pod\": 531.0}, {\"date\": \"2022-03-16\", \"amount\": 3204, \"place_in_line\": 422363385, \"price_per_pod\": 0.05, \"sort_date\": 254.0, \"sort_amount\": 298.0, \"sort_place_in_line\": 849.0, \"sort_price_per_pod\": 532.0}, {\"date\": \"2022-03-16\", \"amount\": 10064, \"place_in_line\": 24719262, \"price_per_pod\": 0.94, \"sort_date\": 253.0, \"sort_amount\": 702.0, \"sort_place_in_line\": 2.0, \"sort_price_per_pod\": 1481.0}, {\"date\": \"2022-03-16\", \"amount\": 8579, \"place_in_line\": 28278581, \"price_per_pod\": 0.82, \"sort_date\": 259.0, \"sort_amount\": 616.0, \"sort_place_in_line\": 80.0, \"sort_price_per_pod\": 1396.0}, {\"date\": \"2022-03-16\", \"amount\": 21058, \"place_in_line\": 122360416, \"price_per_pod\": 0.1, \"sort_date\": 252.0, \"sort_amount\": 1005.0, \"sort_place_in_line\": 445.0, \"sort_price_per_pod\": 798.0}, {\"date\": \"2022-03-16\", \"amount\": 12681, \"place_in_line\": 117244875, \"price_per_pod\": 0.1, \"sort_date\": 251.0, \"sort_amount\": 807.0, \"sort_place_in_line\": 436.0, \"sort_price_per_pod\": 783.0}, {\"date\": \"2022-03-16\", \"amount\": 20000, \"place_in_line\": 695447106, \"price_per_pod\": 0.033, \"sort_date\": 250.0, \"sort_amount\": 966.0, \"sort_place_in_line\": 945.0, \"sort_price_per_pod\": 317.0}, {\"date\": \"2022-03-16\", \"amount\": 70921, \"place_in_line\": 695993270, \"price_per_pod\": 0.033, \"sort_date\": 249.0, \"sort_amount\": 1310.0, \"sort_place_in_line\": 975.0, \"sort_price_per_pod\": 316.0}, {\"date\": \"2022-03-16\", \"amount\": 1481, \"place_in_line\": 26012896, \"price_per_pod\": 0.94, \"sort_date\": 248.0, \"sort_amount\": 166.0, \"sort_place_in_line\": 21.0, \"sort_price_per_pod\": 1480.0}, {\"date\": \"2022-03-16\", \"amount\": 3002, \"place_in_line\": 27626670, \"price_per_pod\": 0.88, \"sort_date\": 247.0, \"sort_amount\": 287.0, \"sort_place_in_line\": 54.0, \"sort_price_per_pod\": 1432.0}, {\"date\": \"2022-03-16\", \"amount\": 4557, \"place_in_line\": 40878049, \"price_per_pod\": 0.6, \"sort_date\": 246.0, \"sort_amount\": 393.0, \"sort_place_in_line\": 152.0, \"sort_price_per_pod\": 1242.0}, {\"date\": \"2022-03-17\", \"amount\": 13667, \"place_in_line\": 40882607, \"price_per_pod\": 0.6, \"sort_date\": 276.0, \"sort_amount\": 830.0, \"sort_place_in_line\": 153.0, \"sort_price_per_pod\": 1244.0}, {\"date\": \"2022-03-17\", \"amount\": 54252, \"place_in_line\": 40896274, \"price_per_pod\": 0.6, \"sort_date\": 275.0, \"sort_amount\": 1263.0, \"sort_place_in_line\": 154.0, \"sort_price_per_pod\": 1248.0}, {\"date\": \"2022-03-17\", \"amount\": 60606, \"place_in_line\": 695337036, \"price_per_pod\": 0.033, \"sort_date\": 274.0, \"sort_amount\": 1279.0, \"sort_place_in_line\": 939.0, \"sort_price_per_pod\": 314.0}, {\"date\": \"2022-03-17\", \"amount\": 6937, \"place_in_line\": 27629672, \"price_per_pod\": 0.88, \"sort_date\": 273.0, \"sort_amount\": 533.0, \"sort_place_in_line\": 55.0, \"sort_price_per_pod\": 1434.0}, {\"date\": \"2022-03-17\", \"amount\": 28471, \"place_in_line\": 695467106, \"price_per_pod\": 0.033, \"sort_date\": 272.0, \"sort_amount\": 1090.0, \"sort_place_in_line\": 946.0, \"sort_price_per_pod\": 309.0}, {\"date\": \"2022-03-17\", \"amount\": 233865, \"place_in_line\": 697462003, \"price_per_pod\": 0.03, \"sort_date\": 269.0, \"sort_amount\": 1476.0, \"sort_place_in_line\": 978.0, \"sort_price_per_pod\": 149.0}, {\"date\": \"2022-03-17\", \"amount\": 3344, \"place_in_line\": 42446543, \"price_per_pod\": 0.65, \"sort_date\": 271.0, \"sort_amount\": 306.0, \"sort_place_in_line\": 172.0, \"sort_price_per_pod\": 1271.0}, {\"date\": \"2022-03-17\", \"amount\": 25133, \"place_in_line\": 262195704, \"price_per_pod\": 0.085, \"sort_date\": 270.0, \"sort_amount\": 1062.0, \"sort_place_in_line\": 668.0, \"sort_price_per_pod\": 741.0}, {\"date\": \"2022-03-17\", \"amount\": 4395, \"place_in_line\": 693862296, \"price_per_pod\": 0.032, \"sort_date\": 277.0, \"sort_amount\": 380.0, \"sort_place_in_line\": 926.0, \"sort_price_per_pod\": 295.0}, {\"date\": \"2022-03-17\", \"amount\": 10587, \"place_in_line\": 695397642, \"price_per_pod\": 0.033, \"sort_date\": 268.0, \"sort_amount\": 729.0, \"sort_place_in_line\": 941.0, \"sort_price_per_pod\": 313.0}, {\"date\": \"2022-03-17\", \"amount\": 3613, \"place_in_line\": 323193045, \"price_per_pod\": 0.084, \"sort_date\": 260.0, \"sort_amount\": 322.0, \"sort_place_in_line\": 784.0, \"sort_price_per_pod\": 740.0}, {\"date\": \"2022-03-17\", \"amount\": 54054, \"place_in_line\": 491115786, \"price_per_pod\": 0.074, \"sort_date\": 267.0, \"sort_amount\": 1262.0, \"sort_place_in_line\": 881.0, \"sort_price_per_pod\": 712.0}, {\"date\": \"2022-03-17\", \"amount\": 2725, \"place_in_line\": 43657916, \"price_per_pod\": 0.55, \"sort_date\": 265.0, \"sort_amount\": 266.0, \"sort_place_in_line\": 199.0, \"sort_price_per_pod\": 1210.0}, {\"date\": \"2022-03-17\", \"amount\": 151773, \"place_in_line\": 697695869, \"price_per_pod\": 0.033, \"sort_date\": 264.0, \"sort_amount\": 1436.0, \"sort_place_in_line\": 979.0, \"sort_price_per_pod\": 312.0}, {\"date\": \"2022-03-17\", \"amount\": 961997, \"place_in_line\": 312055923, \"price_per_pod\": 0.1, \"sort_date\": 263.0, \"sort_amount\": 1504.0, \"sort_place_in_line\": 772.0, \"sort_price_per_pod\": 825.0}, {\"date\": \"2022-03-17\", \"amount\": 197207, \"place_in_line\": 250600807, \"price_per_pod\": 0.1, \"sort_date\": 262.0, \"sort_amount\": 1460.0, \"sort_place_in_line\": 652.0, \"sort_price_per_pod\": 808.0}, {\"date\": \"2022-03-17\", \"amount\": 107637, \"place_in_line\": 384284223, \"price_per_pod\": 0.09, \"sort_date\": 261.0, \"sort_amount\": 1386.0, \"sort_place_in_line\": 817.0, \"sort_price_per_pod\": 764.0}, {\"date\": \"2022-03-17\", \"amount\": 488149, \"place_in_line\": 636847008, \"price_per_pod\": 0.05, \"sort_date\": 266.0, \"sort_amount\": 1501.0, \"sort_place_in_line\": 905.0, \"sort_price_per_pod\": 536.0}, {\"date\": \"2022-03-18\", \"amount\": 482, \"place_in_line\": 43660641, \"price_per_pod\": 0.55, \"sort_date\": 296.0, \"sort_amount\": 70.0, \"sort_place_in_line\": 202.0, \"sort_price_per_pod\": 1209.0}, {\"date\": \"2022-03-18\", \"amount\": 8422, \"place_in_line\": 697847642, \"price_per_pod\": 0.033, \"sort_date\": 293.0, \"sort_amount\": 608.0, \"sort_place_in_line\": 980.0, \"sort_price_per_pod\": 323.0}, {\"date\": \"2022-03-18\", \"amount\": 2935, \"place_in_line\": 136913196, \"price_per_pod\": 0.15, \"sort_date\": 297.0, \"sort_amount\": 279.0, \"sort_place_in_line\": 472.0, \"sort_price_per_pod\": 896.0}, {\"date\": \"2022-03-18\", \"amount\": 21000, \"place_in_line\": 695771940, \"price_per_pod\": 0.033, \"sort_date\": 298.0, \"sort_amount\": 1004.0, \"sort_place_in_line\": 960.0, \"sort_price_per_pod\": 332.0}, {\"date\": \"2022-03-18\", \"amount\": 30000, \"place_in_line\": 697856064, \"price_per_pod\": 0.033, \"sort_date\": 299.0, \"sort_amount\": 1109.0, \"sort_place_in_line\": 981.0, \"sort_price_per_pod\": 318.0}, {\"date\": \"2022-03-18\", \"amount\": 22691, \"place_in_line\": 697886064, \"price_per_pod\": 0.033, \"sort_date\": 301.0, \"sort_amount\": 1031.0, \"sort_place_in_line\": 982.0, \"sort_price_per_pod\": 310.0}, {\"date\": \"2022-03-18\", \"amount\": 8643, \"place_in_line\": 695426166, \"price_per_pod\": 0.033, \"sort_date\": 300.0, \"sort_amount\": 622.0, \"sort_place_in_line\": 944.0, \"sort_price_per_pod\": 330.0}, {\"date\": \"2022-03-18\", \"amount\": 20000, \"place_in_line\": 695792940, \"price_per_pod\": 0.033, \"sort_date\": 308.0, \"sort_amount\": 974.0, \"sort_place_in_line\": 962.0, \"sort_price_per_pod\": 327.0}, {\"date\": \"2022-03-18\", \"amount\": 4987, \"place_in_line\": 43661123, \"price_per_pod\": 0.55, \"sort_date\": 302.0, \"sort_amount\": 425.0, \"sort_place_in_line\": 204.0, \"sort_price_per_pod\": 1208.0}, {\"date\": \"2022-03-18\", \"amount\": 8000, \"place_in_line\": 136916132, \"price_per_pod\": 0.15, \"sort_date\": 303.0, \"sort_amount\": 587.0, \"sort_place_in_line\": 473.0, \"sort_price_per_pod\": 886.0}, {\"date\": \"2022-03-18\", \"amount\": 1544, \"place_in_line\": 26254950, \"price_per_pod\": 0.9, \"sort_date\": 304.0, \"sort_amount\": 175.0, \"sort_place_in_line\": 29.0, \"sort_price_per_pod\": 1458.0}, {\"date\": \"2022-03-18\", \"amount\": 6167, \"place_in_line\": 331554473, \"price_per_pod\": 0.09, \"sort_date\": 305.0, \"sort_amount\": 489.0, \"sort_place_in_line\": 790.0, \"sort_price_per_pod\": 743.0}, {\"date\": \"2022-03-18\", \"amount\": 55399, \"place_in_line\": 136924132, \"price_per_pod\": 0.15, \"sort_date\": 306.0, \"sort_amount\": 1264.0, \"sort_place_in_line\": 474.0, \"sort_price_per_pod\": 887.0}, {\"date\": \"2022-03-18\", \"amount\": 8038, \"place_in_line\": 695504899, \"price_per_pod\": 0.033, \"sort_date\": 307.0, \"sort_amount\": 590.0, \"sort_place_in_line\": 947.0, \"sort_price_per_pod\": 326.0}, {\"date\": \"2022-03-18\", \"amount\": 1458, \"place_in_line\": 695408230, \"price_per_pod\": 0.033, \"sort_date\": 294.0, \"sort_amount\": 163.0, \"sort_place_in_line\": 942.0, \"sort_price_per_pod\": 333.0}, {\"date\": \"2022-03-18\", \"amount\": 9388, \"place_in_line\": 697945151, \"price_per_pod\": 0.033, \"sort_date\": 295.0, \"sort_amount\": 662.0, \"sort_place_in_line\": 983.0, \"sort_price_per_pod\": 328.0}, {\"date\": \"2022-03-18\", \"amount\": 85060, \"place_in_line\": 697954557, \"price_per_pod\": 0.033, \"sort_date\": 292.0, \"sort_amount\": 1348.0, \"sort_place_in_line\": 985.0, \"sort_price_per_pod\": 331.0}, {\"date\": \"2022-03-18\", \"amount\": 14524, \"place_in_line\": 695812940, \"price_per_pod\": 0.033, \"sort_date\": 290.0, \"sort_amount\": 849.0, \"sort_place_in_line\": 963.0, \"sort_price_per_pod\": 329.0}, {\"date\": \"2022-03-18\", \"amount\": 4263, \"place_in_line\": 43666111, \"price_per_pod\": 0.55, \"sort_date\": 278.0, \"sort_amount\": 368.0, \"sort_place_in_line\": 206.0, \"sort_price_per_pod\": 1205.0}, {\"date\": \"2022-03-18\", \"amount\": 4593, \"place_in_line\": 218677718, \"price_per_pod\": 0.12, \"sort_date\": 279.0, \"sort_amount\": 397.0, \"sort_place_in_line\": 609.0, \"sort_price_per_pod\": 849.0}, {\"date\": \"2022-03-18\", \"amount\": 400, \"place_in_line\": 26197232, \"price_per_pod\": 0.96, \"sort_date\": 280.0, \"sort_amount\": 58.0, \"sort_place_in_line\": 25.0, \"sort_price_per_pod\": 1491.0}, {\"date\": \"2022-03-18\", \"amount\": 1000, \"place_in_line\": 136979532, \"price_per_pod\": 0.15, \"sort_date\": 281.0, \"sort_amount\": 122.0, \"sort_place_in_line\": 476.0, \"sort_price_per_pod\": 882.0}, {\"date\": \"2022-03-18\", \"amount\": 1260, \"place_in_line\": 697954557, \"price_per_pod\": 0.066, \"sort_date\": 282.0, \"sort_amount\": 154.0, \"sort_place_in_line\": 986.0, \"sort_price_per_pod\": 687.0}, {\"date\": \"2022-03-18\", \"amount\": 7541, \"place_in_line\": 43670374, \"price_per_pod\": 0.55, \"sort_date\": 283.0, \"sort_amount\": 566.0, \"sort_place_in_line\": 208.0, \"sort_price_per_pod\": 1203.0}, {\"date\": \"2022-03-18\", \"amount\": 42992, \"place_in_line\": 81437561, \"price_per_pod\": 0.33, \"sort_date\": 291.0, \"sort_amount\": 1212.0, \"sort_place_in_line\": 342.0, \"sort_price_per_pod\": 1078.0}, {\"date\": \"2022-03-18\", \"amount\": 22434, \"place_in_line\": 94257791, \"price_per_pod\": 0.24, \"sort_date\": 285.0, \"sort_amount\": 1027.0, \"sort_place_in_line\": 391.0, \"sort_price_per_pod\": 1019.0}, {\"date\": \"2022-03-18\", \"amount\": 110395, \"place_in_line\": 136980532, \"price_per_pod\": 0.15, \"sort_date\": 286.0, \"sort_amount\": 1390.0, \"sort_place_in_line\": 478.0, \"sort_price_per_pod\": 881.0}, {\"date\": \"2022-03-18\", \"amount\": 4848, \"place_in_line\": 695271790, \"price_per_pod\": 0.04, \"sort_date\": 284.0, \"sort_amount\": 413.0, \"sort_place_in_line\": 935.0, \"sort_price_per_pod\": 413.0}, {\"date\": \"2022-03-18\", \"amount\": 56157, \"place_in_line\": 698115995, \"price_per_pod\": 0.035, \"sort_date\": 287.0, \"sort_amount\": 1266.0, \"sort_place_in_line\": 990.0, \"sort_price_per_pod\": 370.0}, {\"date\": \"2022-03-18\", \"amount\": 20630, \"place_in_line\": 698039662, \"price_per_pod\": 0.035, \"sort_date\": 289.0, \"sort_amount\": 995.0, \"sort_place_in_line\": 988.0, \"sort_price_per_pod\": 363.0}, {\"date\": \"2022-03-18\", \"amount\": 2455, \"place_in_line\": 26256495, \"price_per_pod\": 0.9, \"sort_date\": 288.0, \"sort_amount\": 243.0, \"sort_place_in_line\": 30.0, \"sort_price_per_pod\": 1465.0}, {\"date\": \"2022-03-19\", \"amount\": 6326, \"place_in_line\": 698258586, \"price_per_pod\": 0.035, \"sort_date\": 318.0, \"sort_amount\": 498.0, \"sort_place_in_line\": 995.0, \"sort_price_per_pod\": 341.0}, {\"date\": \"2022-03-19\", \"amount\": 33939, \"place_in_line\": 698298390, \"price_per_pod\": 0.033, \"sort_date\": 317.0, \"sort_amount\": 1147.0, \"sort_place_in_line\": 1001.0, \"sort_price_per_pod\": 324.0}, {\"date\": \"2022-03-19\", \"amount\": 44433, \"place_in_line\": 698332329, \"price_per_pod\": 0.033, \"sort_date\": 316.0, \"sort_amount\": 1222.0, \"sort_place_in_line\": 1002.0, \"sort_price_per_pod\": 325.0}, {\"date\": \"2022-03-19\", \"amount\": 33932, \"place_in_line\": 137090927, \"price_per_pod\": 0.15, \"sort_date\": 315.0, \"sort_amount\": 1145.0, \"sort_place_in_line\": 480.0, \"sort_price_per_pod\": 878.0}, {\"date\": \"2022-03-19\", \"amount\": 10000, \"place_in_line\": 31729127, \"price_per_pod\": 0.74, \"sort_date\": 319.0, \"sort_amount\": 697.0, \"sort_place_in_line\": 105.0, \"sort_price_per_pod\": 1331.0}, {\"date\": \"2022-03-19\", \"amount\": 10998, \"place_in_line\": 27636610, \"price_per_pod\": 0.88, \"sort_date\": 313.0, \"sort_amount\": 745.0, \"sort_place_in_line\": 56.0, \"sort_price_per_pod\": 1433.0}, {\"date\": \"2022-03-19\", \"amount\": 33333, \"place_in_line\": 137124860, \"price_per_pod\": 0.15, \"sort_date\": 309.0, \"sort_amount\": 1138.0, \"sort_place_in_line\": 482.0, \"sort_price_per_pod\": 877.0}, {\"date\": \"2022-03-19\", \"amount\": 17624, \"place_in_line\": 262220837, \"price_per_pod\": 0.1, \"sort_date\": 312.0, \"sort_amount\": 922.0, \"sort_place_in_line\": 669.0, \"sort_price_per_pod\": 829.0}, {\"date\": \"2022-03-19\", \"amount\": 8808, \"place_in_line\": 698376762, \"price_per_pod\": 0.03, \"sort_date\": 314.0, \"sort_amount\": 629.0, \"sort_place_in_line\": 1003.0, \"sort_price_per_pod\": 150.0}, {\"date\": \"2022-03-19\", \"amount\": 653, \"place_in_line\": 204483741, \"price_per_pod\": 0.135, \"sort_date\": 311.0, \"sort_amount\": 91.0, \"sort_place_in_line\": 590.0, \"sort_price_per_pod\": 862.0}, {\"date\": \"2022-03-19\", \"amount\": 91670, \"place_in_line\": 698385571, \"price_per_pod\": 0.03, \"sort_date\": 310.0, \"sort_amount\": 1357.0, \"sort_place_in_line\": 1004.0, \"sort_price_per_pod\": 151.0}, {\"date\": \"2022-03-20\", \"amount\": 19019, \"place_in_line\": 695276639, \"price_per_pod\": 0.029, \"sort_date\": 328.0, \"sort_amount\": 948.0, \"sort_place_in_line\": 936.0, \"sort_price_per_pod\": 95.0}, {\"date\": \"2022-03-20\", \"amount\": 7335, \"place_in_line\": 31719127, \"price_per_pod\": 0.74, \"sort_date\": 327.0, \"sort_amount\": 554.0, \"sort_place_in_line\": 103.0, \"sort_price_per_pod\": 1330.0}, {\"date\": \"2022-03-20\", \"amount\": 2308, \"place_in_line\": 695948584, \"price_per_pod\": 0.029, \"sort_date\": 326.0, \"sort_amount\": 232.0, \"sort_place_in_line\": 973.0, \"sort_price_per_pod\": 101.0}, {\"date\": \"2022-03-20\", \"amount\": 8954, \"place_in_line\": 46856996, \"price_per_pod\": 0.42069, \"sort_date\": 325.0, \"sort_amount\": 637.0, \"sort_place_in_line\": 220.0, \"sort_price_per_pod\": 1118.0}, {\"date\": \"2022-03-20\", \"amount\": 70534, \"place_in_line\": 137158194, \"price_per_pod\": 0.15, \"sort_date\": 329.0, \"sort_amount\": 1309.0, \"sort_place_in_line\": 487.0, \"sort_price_per_pod\": 884.0}, {\"date\": \"2022-03-20\", \"amount\": 5382, \"place_in_line\": 700304517, \"price_per_pod\": 0.028, \"sort_date\": 323.0, \"sort_amount\": 445.0, \"sort_place_in_line\": 1014.0, \"sort_price_per_pod\": 85.0}, {\"date\": \"2022-03-20\", \"amount\": 65168, \"place_in_line\": 700134813, \"price_per_pod\": 0.028, \"sort_date\": 322.0, \"sort_amount\": 1292.0, \"sort_place_in_line\": 1012.0, \"sort_price_per_pod\": 88.0}, {\"date\": \"2022-03-20\", \"amount\": 5830, \"place_in_line\": 698249185, \"price_per_pod\": 0.029, \"sort_date\": 324.0, \"sort_amount\": 469.0, \"sort_place_in_line\": 992.0, \"sort_price_per_pod\": 108.0}, {\"date\": \"2022-03-20\", \"amount\": 77913, \"place_in_line\": 700846296, \"price_per_pod\": 0.028, \"sort_date\": 321.0, \"sort_amount\": 1325.0, \"sort_place_in_line\": 1016.0, \"sort_price_per_pod\": 84.0}, {\"date\": \"2022-03-20\", \"amount\": 3774, \"place_in_line\": 640240084, \"price_per_pod\": 0.034, \"sort_date\": 320.0, \"sort_amount\": 338.0, \"sort_place_in_line\": 906.0, \"sort_price_per_pod\": 334.0}, {\"date\": \"2022-03-21\", \"amount\": 7614, \"place_in_line\": 31711512, \"price_per_pod\": 0.74, \"sort_date\": 350.0, \"sort_amount\": 567.0, \"sort_place_in_line\": 102.0, \"sort_price_per_pod\": 1329.0}, {\"date\": \"2022-03-21\", \"amount\": 2664, \"place_in_line\": 31726462, \"price_per_pod\": 0.75, \"sort_date\": 341.0, \"sort_amount\": 261.0, \"sort_place_in_line\": 104.0, \"sort_price_per_pod\": 1344.0}, {\"date\": \"2022-03-21\", \"amount\": 1168, \"place_in_line\": 31876153, \"price_per_pod\": 0.75, \"sort_date\": 349.0, \"sort_amount\": 144.0, \"sort_place_in_line\": 106.0, \"sort_price_per_pod\": 1348.0}, {\"date\": \"2022-03-21\", \"amount\": 2044, \"place_in_line\": 31877321, \"price_per_pod\": 0.75, \"sort_date\": 348.0, \"sort_amount\": 216.0, \"sort_place_in_line\": 107.0, \"sort_price_per_pod\": 1354.0}, {\"date\": \"2022-03-21\", \"amount\": 5000, \"place_in_line\": 40950527, \"price_per_pod\": 0.6, \"sort_date\": 347.0, \"sort_amount\": 429.0, \"sort_place_in_line\": 155.0, \"sort_price_per_pod\": 1247.0}, {\"date\": \"2022-03-21\", \"amount\": 18025, \"place_in_line\": 405644627, \"price_per_pod\": 0.02, \"sort_date\": 346.0, \"sort_amount\": 932.0, \"sort_place_in_line\": 839.0, \"sort_price_per_pod\": 26.0}, {\"date\": \"2022-03-21\", \"amount\": 18025, \"place_in_line\": 405662652, \"price_per_pod\": 0.02, \"sort_date\": 345.0, \"sort_amount\": 933.0, \"sort_place_in_line\": 840.0, \"sort_price_per_pod\": 23.0}, {\"date\": \"2022-03-21\", \"amount\": 3088, \"place_in_line\": 26198092, \"price_per_pod\": 0.93, \"sort_date\": 344.0, \"sort_amount\": 292.0, \"sort_place_in_line\": 26.0, \"sort_price_per_pod\": 1478.0}, {\"date\": \"2022-03-21\", \"amount\": 7385, \"place_in_line\": 695950893, \"price_per_pod\": 0.029, \"sort_date\": 343.0, \"sort_amount\": 558.0, \"sort_place_in_line\": 974.0, \"sort_price_per_pod\": 111.0}, {\"date\": \"2022-03-21\", \"amount\": 3618, \"place_in_line\": 695883029, \"price_per_pod\": 0.029, \"sort_date\": 342.0, \"sort_amount\": 324.0, \"sort_place_in_line\": 967.0, \"sort_price_per_pod\": 110.0}, {\"date\": \"2022-03-21\", \"amount\": 201965, \"place_in_line\": 701813606, \"price_per_pod\": 0.027, \"sort_date\": 351.0, \"sort_amount\": 1462.0, \"sort_place_in_line\": 1019.0, \"sort_price_per_pod\": 81.0}, {\"date\": \"2022-03-21\", \"amount\": 2442, \"place_in_line\": 695170871, \"price_per_pod\": 0.03, \"sort_date\": 340.0, \"sort_amount\": 241.0, \"sort_place_in_line\": 932.0, \"sort_price_per_pod\": 137.0}, {\"date\": \"2022-03-21\", \"amount\": 19937, \"place_in_line\": 698060293, \"price_per_pod\": 0.035, \"sort_date\": 330.0, \"sort_amount\": 963.0, \"sort_place_in_line\": 989.0, \"sort_price_per_pod\": 362.0}, {\"date\": \"2022-03-21\", \"amount\": 86043, \"place_in_line\": 700924209, \"price_per_pod\": 0.029, \"sort_date\": 339.0, \"sort_amount\": 1349.0, \"sort_place_in_line\": 1017.0, \"sort_price_per_pod\": 107.0}, {\"date\": \"2022-03-21\", \"amount\": 21159, \"place_in_line\": 630926654, \"price_per_pod\": 0.041, \"sort_date\": 338.0, \"sort_amount\": 1006.0, \"sort_place_in_line\": 903.0, \"sort_price_per_pod\": 437.0}, {\"date\": \"2022-03-21\", \"amount\": 19406, \"place_in_line\": 137228728, \"price_per_pod\": 0.15, \"sort_date\": 337.0, \"sort_amount\": 954.0, \"sort_place_in_line\": 488.0, \"sort_price_per_pod\": 885.0}, {\"date\": \"2022-03-21\", \"amount\": 3801, \"place_in_line\": 702368636, \"price_per_pod\": 0.027, \"sort_date\": 336.0, \"sort_amount\": 340.0, \"sort_place_in_line\": 1024.0, \"sort_price_per_pod\": 80.0}, {\"date\": \"2022-03-21\", \"amount\": 3665, \"place_in_line\": 698477241, \"price_per_pod\": 0.028, \"sort_date\": 335.0, \"sort_amount\": 326.0, \"sort_place_in_line\": 1005.0, \"sort_price_per_pod\": 91.0}, {\"date\": \"2022-03-21\", \"amount\": 962, \"place_in_line\": 137248134, \"price_per_pod\": 0.15, \"sort_date\": 334.0, \"sort_amount\": 119.0, \"sort_place_in_line\": 489.0, \"sort_price_per_pod\": 876.0}, {\"date\": \"2022-03-21\", \"amount\": 43462, \"place_in_line\": 700510367, \"price_per_pod\": 0.027, \"sort_date\": 333.0, \"sort_amount\": 1215.0, \"sort_place_in_line\": 1015.0, \"sort_price_per_pod\": 82.0}, {\"date\": \"2022-03-21\", \"amount\": 6666, \"place_in_line\": 137249097, \"price_per_pod\": 0.15, \"sort_date\": 331.0, \"sort_amount\": 518.0, \"sort_place_in_line\": 491.0, \"sort_price_per_pod\": 889.0}, {\"date\": \"2022-03-21\", \"amount\": 9614, \"place_in_line\": 137255763, \"price_per_pod\": 0.15, \"sort_date\": 332.0, \"sort_amount\": 675.0, \"sort_place_in_line\": 492.0, \"sort_price_per_pod\": 880.0}, {\"date\": \"2022-03-22\", \"amount\": 810, \"place_in_line\": 137265377, \"price_per_pod\": 0.15, \"sort_date\": 360.0, \"sort_amount\": 101.0, \"sort_place_in_line\": 493.0, \"sort_price_per_pod\": 875.0}, {\"date\": \"2022-03-22\", \"amount\": 1990, \"place_in_line\": 137266188, \"price_per_pod\": 0.15, \"sort_date\": 359.0, \"sort_amount\": 207.0, \"sort_place_in_line\": 494.0, \"sort_price_per_pod\": 883.0}, {\"date\": \"2022-03-22\", \"amount\": 1990, \"place_in_line\": 137268178, \"price_per_pod\": 0.15, \"sort_date\": 358.0, \"sort_amount\": 208.0, \"sort_place_in_line\": 495.0, \"sort_price_per_pod\": 911.0}, {\"date\": \"2022-03-22\", \"amount\": 5973, \"place_in_line\": 137270169, \"price_per_pod\": 0.15, \"sort_date\": 357.0, \"sort_amount\": 477.0, \"sort_place_in_line\": 496.0, \"sort_price_per_pod\": 892.0}, {\"date\": \"2022-03-22\", \"amount\": 39760, \"place_in_line\": 137276142, \"price_per_pod\": 0.15, \"sort_date\": 361.0, \"sort_amount\": 1181.0, \"sort_place_in_line\": 498.0, \"sort_price_per_pod\": 908.0}, {\"date\": \"2022-03-22\", \"amount\": 1044, \"place_in_line\": 94280290, \"price_per_pod\": 0.29, \"sort_date\": 356.0, \"sort_amount\": 130.0, \"sort_place_in_line\": 394.0, \"sort_price_per_pod\": 1057.0}, {\"date\": \"2022-03-22\", \"amount\": 3938, \"place_in_line\": 137315903, \"price_per_pod\": 0.15, \"sort_date\": 355.0, \"sort_amount\": 347.0, \"sort_place_in_line\": 501.0, \"sort_price_per_pod\": 910.0}, {\"date\": \"2022-03-22\", \"amount\": 3333, \"place_in_line\": 137319841, \"price_per_pod\": 0.15, \"sort_date\": 354.0, \"sort_amount\": 303.0, \"sort_place_in_line\": 502.0, \"sort_price_per_pod\": 913.0}, {\"date\": \"2022-03-22\", \"amount\": 91376, \"place_in_line\": 136980532, \"price_per_pod\": 0.2, \"sort_date\": 353.0, \"sort_amount\": 1356.0, \"sort_place_in_line\": 477.0, \"sort_price_per_pod\": 969.0}, {\"date\": \"2022-03-22\", \"amount\": 53432, \"place_in_line\": 26201181, \"price_per_pod\": 0.93, \"sort_date\": 352.0, \"sort_amount\": 1259.0, \"sort_place_in_line\": 27.0, \"sort_price_per_pod\": 1476.0}, {\"date\": \"2022-03-23\", \"amount\": 490, \"place_in_line\": 40955527, \"price_per_pod\": 0.6, \"sort_date\": 362.0, \"sort_amount\": 72.0, \"sort_place_in_line\": 156.0, \"sort_price_per_pod\": 1254.0}, {\"date\": \"2022-03-23\", \"amount\": 258192, \"place_in_line\": 698480907, \"price_per_pod\": 0.024, \"sort_date\": 363.0, \"sort_amount\": 1484.0, \"sort_place_in_line\": 1006.0, \"sort_price_per_pod\": 49.0}, {\"date\": \"2022-03-24\", \"amount\": 7983, \"place_in_line\": 137323174, \"price_per_pod\": 0.15, \"sort_date\": 376.0, \"sort_amount\": 582.0, \"sort_place_in_line\": 505.0, \"sort_price_per_pod\": 917.0}, {\"date\": \"2022-03-24\", \"amount\": 8000, \"place_in_line\": 137331158, \"price_per_pod\": 0.15, \"sort_date\": 375.0, \"sort_amount\": 585.0, \"sort_place_in_line\": 506.0, \"sort_price_per_pod\": 920.0}, {\"date\": \"2022-03-24\", \"amount\": 5833, \"place_in_line\": 137339158, \"price_per_pod\": 0.15, \"sort_date\": 373.0, \"sort_amount\": 470.0, \"sort_place_in_line\": 507.0, \"sort_price_per_pod\": 919.0}, {\"date\": \"2022-03-24\", \"amount\": 7329, \"place_in_line\": 137344991, \"price_per_pod\": 0.15, \"sort_date\": 372.0, \"sort_amount\": 551.0, \"sort_place_in_line\": 509.0, \"sort_price_per_pod\": 907.0}, {\"date\": \"2022-03-24\", \"amount\": 5955, \"place_in_line\": 262238461, \"price_per_pod\": 0.1, \"sort_date\": 371.0, \"sort_amount\": 476.0, \"sort_place_in_line\": 670.0, \"sort_price_per_pod\": 803.0}, {\"date\": \"2022-03-24\", \"amount\": 22434, \"place_in_line\": 94257791, \"price_per_pod\": 0.3, \"sort_date\": 374.0, \"sort_amount\": 1026.0, \"sort_place_in_line\": 390.0, \"sort_price_per_pod\": 1074.0}, {\"date\": \"2022-03-24\", \"amount\": 150901, \"place_in_line\": 698739309, \"price_per_pod\": 0.025, \"sort_date\": 369.0, \"sort_amount\": 1433.0, \"sort_place_in_line\": 1007.0, \"sort_price_per_pod\": 62.0}, {\"date\": \"2022-03-24\", \"amount\": 1054, \"place_in_line\": 48503965, \"price_per_pod\": 0.5, \"sort_date\": 364.0, \"sort_amount\": 132.0, \"sort_place_in_line\": 269.0, \"sort_price_per_pod\": 1181.0}, {\"date\": \"2022-03-24\", \"amount\": 20304, \"place_in_line\": 24916944, \"price_per_pod\": 0.969, \"sort_date\": 368.0, \"sort_amount\": 985.0, \"sort_place_in_line\": 4.0, \"sort_price_per_pod\": 1493.0}, {\"date\": \"2022-03-24\", \"amount\": 42992, \"place_in_line\": 81437561, \"price_per_pod\": 0.4, \"sort_date\": 367.0, \"sort_amount\": 1213.0, \"sort_place_in_line\": 343.0, \"sort_price_per_pod\": 1114.0}, {\"date\": \"2022-03-24\", \"amount\": 17177, \"place_in_line\": 42612531, \"price_per_pod\": 0.54, \"sort_date\": 370.0, \"sort_amount\": 914.0, \"sort_place_in_line\": 174.0, \"sort_price_per_pod\": 1199.0}, {\"date\": \"2022-03-24\", \"amount\": 11397, \"place_in_line\": 42629708, \"price_per_pod\": 0.54, \"sort_date\": 366.0, \"sort_amount\": 763.0, \"sort_place_in_line\": 175.0, \"sort_price_per_pod\": 1198.0}, {\"date\": \"2022-03-24\", \"amount\": 380793, \"place_in_line\": 698890211, \"price_per_pod\": 0.025, \"sort_date\": 365.0, \"sort_amount\": 1497.0, \"sort_place_in_line\": 1008.0, \"sort_price_per_pod\": 55.0}, {\"date\": \"2022-03-25\", \"amount\": 109344, \"place_in_line\": 702015571, \"price_per_pod\": 0.025, \"sort_date\": 389.0, \"sort_amount\": 1387.0, \"sort_place_in_line\": 1020.0, \"sort_price_per_pod\": 56.0}, {\"date\": \"2022-03-25\", \"amount\": 19019, \"place_in_line\": 137071908, \"price_per_pod\": 0.2, \"sort_date\": 388.0, \"sort_amount\": 947.0, \"sort_place_in_line\": 479.0, \"sort_price_per_pod\": 974.0}, {\"date\": \"2022-03-25\", \"amount\": 154715, \"place_in_line\": 702703326, \"price_per_pod\": 0.025, \"sort_date\": 387.0, \"sort_amount\": 1440.0, \"sort_place_in_line\": 1027.0, \"sort_price_per_pod\": 57.0}, {\"date\": \"2022-03-25\", \"amount\": 4607, \"place_in_line\": 204484394, \"price_per_pod\": 0.135, \"sort_date\": 386.0, \"sort_amount\": 398.0, \"sort_place_in_line\": 591.0, \"sort_price_per_pod\": 866.0}, {\"date\": \"2022-03-25\", \"amount\": 40000, \"place_in_line\": 704261722, \"price_per_pod\": 0.025, \"sort_date\": 385.0, \"sort_amount\": 1188.0, \"sort_place_in_line\": 1033.0, \"sort_price_per_pod\": 54.0}, {\"date\": \"2022-03-25\", \"amount\": 17125, \"place_in_line\": 48505019, \"price_per_pod\": 0.5, \"sort_date\": 384.0, \"sort_amount\": 910.0, \"sort_place_in_line\": 270.0, \"sort_price_per_pod\": 1166.0}, {\"date\": \"2022-03-25\", \"amount\": 25432, \"place_in_line\": 170650277, \"price_per_pod\": 0.1667, \"sort_date\": 390.0, \"sort_amount\": 1065.0, \"sort_place_in_line\": 567.0, \"sort_price_per_pod\": 933.0}, {\"date\": \"2022-03-25\", \"amount\": 9037, \"place_in_line\": 260684773, \"price_per_pod\": 0.05, \"sort_date\": 382.0, \"sort_amount\": 647.0, \"sort_place_in_line\": 663.0, \"sort_price_per_pod\": 552.0}, {\"date\": \"2022-03-25\", \"amount\": 71871, \"place_in_line\": 42641106, \"price_per_pod\": 0.54, \"sort_date\": 381.0, \"sort_amount\": 1311.0, \"sort_place_in_line\": 178.0, \"sort_price_per_pod\": 1197.0}, {\"date\": \"2022-03-25\", \"amount\": 2500, \"place_in_line\": 48522144, \"price_per_pod\": 0.5, \"sort_date\": 380.0, \"sort_amount\": 247.0, \"sort_place_in_line\": 271.0, \"sort_price_per_pod\": 1173.0}, {\"date\": \"2022-03-25\", \"amount\": 42886, \"place_in_line\": 40956017, \"price_per_pod\": 0.6, \"sort_date\": 383.0, \"sort_amount\": 1211.0, \"sort_place_in_line\": 157.0, \"sort_price_per_pod\": 1243.0}, {\"date\": \"2022-03-25\", \"amount\": 7541, \"place_in_line\": 43670374, \"price_per_pod\": 0.6, \"sort_date\": 379.0, \"sort_amount\": 565.0, \"sort_place_in_line\": 207.0, \"sort_price_per_pod\": 1249.0}, {\"date\": \"2022-03-25\", \"amount\": 3344, \"place_in_line\": 42446543, \"price_per_pod\": 0.69, \"sort_date\": 378.0, \"sort_amount\": 305.0, \"sort_place_in_line\": 170.0, \"sort_price_per_pod\": 1290.0}, {\"date\": \"2022-03-25\", \"amount\": 3116, \"place_in_line\": 46868801, \"price_per_pod\": 0.655, \"sort_date\": 377.0, \"sort_amount\": 293.0, \"sort_place_in_line\": 224.0, \"sort_price_per_pod\": 1279.0}, {\"date\": \"2022-03-26\", \"amount\": 17745, \"place_in_line\": 27940835, \"price_per_pod\": 0.87, \"sort_date\": 406.0, \"sort_amount\": 924.0, \"sort_place_in_line\": 59.0, \"sort_price_per_pod\": 1426.0}, {\"date\": \"2022-03-26\", \"amount\": 3602, \"place_in_line\": 27612610, \"price_per_pod\": 0.85, \"sort_date\": 407.0, \"sort_amount\": 321.0, \"sort_place_in_line\": 49.0, \"sort_price_per_pod\": 1421.0}, {\"date\": \"2022-03-26\", \"amount\": 2638, \"place_in_line\": 640243859, \"price_per_pod\": 0.034, \"sort_date\": 412.0, \"sort_amount\": 257.0, \"sort_place_in_line\": 907.0, \"sort_price_per_pod\": 336.0}, {\"date\": \"2022-03-26\", \"amount\": 5637, \"place_in_line\": 695173314, \"price_per_pod\": 0.028, \"sort_date\": 409.0, \"sort_amount\": 459.0, \"sort_place_in_line\": 933.0, \"sort_price_per_pod\": 87.0}, {\"date\": \"2022-03-26\", \"amount\": 5903, \"place_in_line\": 695518171, \"price_per_pod\": 0.038, \"sort_date\": 410.0, \"sort_amount\": 474.0, \"sort_place_in_line\": 948.0, \"sort_price_per_pod\": 390.0}, {\"date\": \"2022-03-26\", \"amount\": 8588, \"place_in_line\": 695529046, \"price_per_pod\": 0.025, \"sort_date\": 411.0, \"sort_amount\": 617.0, \"sort_place_in_line\": 950.0, \"sort_price_per_pod\": 59.0}, {\"date\": \"2022-03-26\", \"amount\": 7448, \"place_in_line\": 695602559, \"price_per_pod\": 0.032, \"sort_date\": 417.0, \"sort_amount\": 559.0, \"sort_place_in_line\": 951.0, \"sort_price_per_pod\": 308.0}, {\"date\": \"2022-03-26\", \"amount\": 8643, \"place_in_line\": 695426166, \"price_per_pod\": 0.045, \"sort_date\": 404.0, \"sort_amount\": 623.0, \"sort_place_in_line\": 943.0, \"sort_price_per_pod\": 476.0}, {\"date\": \"2022-03-26\", \"amount\": 971, \"place_in_line\": 697182071, \"price_per_pod\": 0.032, \"sort_date\": 413.0, \"sort_amount\": 120.0, \"sort_place_in_line\": 977.0, \"sort_price_per_pod\": 301.0}, {\"date\": \"2022-03-26\", \"amount\": 8232, \"place_in_line\": 697000732, \"price_per_pod\": 0.032, \"sort_date\": 414.0, \"sort_amount\": 602.0, \"sort_place_in_line\": 976.0, \"sort_price_per_pod\": 293.0}, {\"date\": \"2022-03-26\", \"amount\": 72498, \"place_in_line\": 698172153, \"price_per_pod\": 0.035, \"sort_date\": 415.0, \"sort_amount\": 1313.0, \"sort_place_in_line\": 991.0, \"sort_price_per_pod\": 372.0}, {\"date\": \"2022-03-26\", \"amount\": 3549, \"place_in_line\": 698255015, \"price_per_pod\": 0.029, \"sort_date\": 416.0, \"sort_amount\": 315.0, \"sort_place_in_line\": 993.0, \"sort_price_per_pod\": 123.0}, {\"date\": \"2022-03-26\", \"amount\": 224172, \"place_in_line\": 702372437, \"price_per_pod\": 0.027, \"sort_date\": 405.0, \"sort_amount\": 1471.0, \"sort_place_in_line\": 1025.0, \"sort_price_per_pod\": 79.0}, {\"date\": \"2022-03-26\", \"amount\": 131685, \"place_in_line\": 704301722, \"price_per_pod\": 0.025, \"sort_date\": 408.0, \"sort_amount\": 1405.0, \"sort_place_in_line\": 1034.0, \"sort_price_per_pod\": 60.0}, {\"date\": \"2022-03-26\", \"amount\": 4579, \"place_in_line\": 704242041, \"price_per_pod\": 0.025, \"sort_date\": 403.0, \"sort_amount\": 396.0, \"sort_place_in_line\": 1032.0, \"sort_price_per_pod\": 61.0}, {\"date\": \"2022-03-26\", \"amount\": 6326, \"place_in_line\": 698258586, \"price_per_pod\": 0.035, \"sort_date\": 401.0, \"sort_amount\": 497.0, \"sort_place_in_line\": 994.0, \"sort_price_per_pod\": 360.0}, {\"date\": \"2022-03-26\", \"amount\": 53884, \"place_in_line\": 700080929, \"price_per_pod\": 0.026, \"sort_date\": 391.0, \"sort_amount\": 1260.0, \"sort_place_in_line\": 1011.0, \"sort_price_per_pod\": 76.0}, {\"date\": \"2022-03-26\", \"amount\": 5554, \"place_in_line\": 704210645, \"price_per_pod\": 0.026, \"sort_date\": 392.0, \"sort_amount\": 454.0, \"sort_place_in_line\": 1031.0, \"sort_price_per_pod\": 78.0}, {\"date\": \"2022-03-26\", \"amount\": 3222, \"place_in_line\": 699422093, \"price_per_pod\": 0.031, \"sort_date\": 393.0, \"sort_amount\": 301.0, \"sort_place_in_line\": 1010.0, \"sort_price_per_pod\": 271.0}, {\"date\": \"2022-03-26\", \"amount\": 4230, \"place_in_line\": 704178510, \"price_per_pod\": 0.033, \"sort_date\": 394.0, \"sort_amount\": 365.0, \"sort_place_in_line\": 1029.0, \"sort_price_per_pod\": 319.0}, {\"date\": \"2022-03-26\", \"amount\": 15119, \"place_in_line\": 235571347, \"price_per_pod\": 0.11, \"sort_date\": 395.0, \"sort_amount\": 864.0, \"sort_place_in_line\": 638.0, \"sort_price_per_pod\": 836.0}, {\"date\": \"2022-03-26\", \"amount\": 3993, \"place_in_line\": 405968762, \"price_per_pod\": 0.05, \"sort_date\": 402.0, \"sort_amount\": 350.0, \"sort_place_in_line\": 844.0, \"sort_price_per_pod\": 539.0}, {\"date\": \"2022-03-26\", \"amount\": 479, \"place_in_line\": 405968282, \"price_per_pod\": 0.05, \"sort_date\": 397.0, \"sort_amount\": 67.0, \"sort_place_in_line\": 842.0, \"sort_price_per_pod\": 540.0}, {\"date\": \"2022-03-26\", \"amount\": 5702, \"place_in_line\": 405962579, \"price_per_pod\": 0.02, \"sort_date\": 398.0, \"sort_amount\": 463.0, \"sort_place_in_line\": 841.0, \"sort_price_per_pod\": 34.0}, {\"date\": \"2022-03-26\", \"amount\": 4742, \"place_in_line\": 31200843, \"price_per_pod\": 0.77, \"sort_date\": 396.0, \"sort_amount\": 408.0, \"sort_place_in_line\": 86.0, \"sort_price_per_pod\": 1355.0}, {\"date\": \"2022-03-26\", \"amount\": 397, \"place_in_line\": 27616212, \"price_per_pod\": 0.85, \"sort_date\": 399.0, \"sort_amount\": 57.0, \"sort_place_in_line\": 50.0, \"sort_price_per_pod\": 1416.0}, {\"date\": \"2022-03-26\", \"amount\": 20000, \"place_in_line\": 48447512, \"price_per_pod\": 0.5, \"sort_date\": 400.0, \"sort_amount\": 967.0, \"sort_place_in_line\": 260.0, \"sort_price_per_pod\": 1168.0}, {\"date\": \"2022-03-27\", \"amount\": 135804, \"place_in_line\": 659059601, \"price_per_pod\": 0.021, \"sort_date\": 435.0, \"sort_amount\": 1409.0, \"sort_place_in_line\": 916.0, \"sort_price_per_pod\": 39.0}, {\"date\": \"2022-03-27\", \"amount\": 4384, \"place_in_line\": 31343416, \"price_per_pod\": 0.85, \"sort_date\": 434.0, \"sort_amount\": 378.0, \"sort_place_in_line\": 93.0, \"sort_price_per_pod\": 1415.0}, {\"date\": \"2022-03-27\", \"amount\": 10000, \"place_in_line\": 48493965, \"price_per_pod\": 0.45, \"sort_date\": 433.0, \"sort_amount\": 694.0, \"sort_place_in_line\": 266.0, \"sort_price_per_pod\": 1124.0}, {\"date\": \"2022-03-27\", \"amount\": 1500, \"place_in_line\": 612614464, \"price_per_pod\": 0.9971, \"sort_date\": 427.0, \"sort_amount\": 169.0, \"sort_place_in_line\": 894.0, \"sort_price_per_pod\": 1504.0}, {\"date\": \"2022-03-27\", \"amount\": 19191, \"place_in_line\": 702596610, \"price_per_pod\": 0.039, \"sort_date\": 432.0, \"sort_amount\": 952.0, \"sort_place_in_line\": 1026.0, \"sort_price_per_pod\": 391.0}, {\"date\": \"2022-03-27\", \"amount\": 11317, \"place_in_line\": 704892188, \"price_per_pod\": 0.035, \"sort_date\": 431.0, \"sort_amount\": 759.0, \"sort_place_in_line\": 1038.0, \"sort_price_per_pod\": 353.0}, {\"date\": \"2022-03-27\", \"amount\": 10154, \"place_in_line\": 705001660, \"price_per_pod\": 0.035, \"sort_date\": 430.0, \"sort_amount\": 712.0, \"sort_place_in_line\": 1040.0, \"sort_price_per_pod\": 373.0}, {\"date\": \"2022-03-27\", \"amount\": 9736, \"place_in_line\": 700200685, \"price_per_pod\": 0.035, \"sort_date\": 429.0, \"sort_amount\": 676.0, \"sort_place_in_line\": 1013.0, \"sort_price_per_pod\": 348.0}, {\"date\": \"2022-03-27\", \"amount\": 7640, \"place_in_line\": 695616479, \"price_per_pod\": 0.035, \"sort_date\": 428.0, \"sort_amount\": 568.0, \"sort_place_in_line\": 955.0, \"sort_price_per_pod\": 350.0}, {\"date\": \"2022-03-27\", \"amount\": 3879, \"place_in_line\": 36356358, \"price_per_pod\": 0.75, \"sort_date\": 436.0, \"sort_amount\": 346.0, \"sort_place_in_line\": 134.0, \"sort_price_per_pod\": 1340.0}, {\"date\": \"2022-03-27\", \"amount\": 7310, \"place_in_line\": 31347800, \"price_per_pod\": 0.85, \"sort_date\": 426.0, \"sort_amount\": 548.0, \"sort_place_in_line\": 95.0, \"sort_price_per_pod\": 1418.0}, {\"date\": \"2022-03-27\", \"amount\": 4694, \"place_in_line\": 27103365, \"price_per_pod\": 0.96, \"sort_date\": 418.0, \"sort_amount\": 403.0, \"sort_place_in_line\": 35.0, \"sort_price_per_pod\": 1485.0}, {\"date\": \"2022-03-27\", \"amount\": 50, \"place_in_line\": 26197232, \"price_per_pod\": 0.965, \"sort_date\": 425.0, \"sort_amount\": 13.0, \"sort_place_in_line\": 23.0, \"sort_price_per_pod\": 1492.0}, {\"date\": \"2022-03-27\", \"amount\": 4987, \"place_in_line\": 705213144, \"price_per_pod\": 0.03, \"sort_date\": 424.0, \"sort_amount\": 424.0, \"sort_place_in_line\": 1053.0, \"sort_price_per_pod\": 191.0}, {\"date\": \"2022-03-27\", \"amount\": 285, \"place_in_line\": 698277791, \"price_per_pod\": 0.035, \"sort_date\": 423.0, \"sort_amount\": 38.0, \"sort_place_in_line\": 998.0, \"sort_price_per_pod\": 340.0}, {\"date\": \"2022-03-27\", \"amount\": 10000, \"place_in_line\": 48483965, \"price_per_pod\": 0.45, \"sort_date\": 422.0, \"sort_amount\": 699.0, \"sort_place_in_line\": 265.0, \"sort_price_per_pod\": 1129.0}, {\"date\": \"2022-03-27\", \"amount\": 44468, \"place_in_line\": 33653504, \"price_per_pod\": 0.83, \"sort_date\": 421.0, \"sort_amount\": 1224.0, \"sort_place_in_line\": 121.0, \"sort_price_per_pod\": 1402.0}, {\"date\": \"2022-03-27\", \"amount\": 37672, \"place_in_line\": 31355110, \"price_per_pod\": 0.85, \"sort_date\": 420.0, \"sort_amount\": 1171.0, \"sort_place_in_line\": 96.0, \"sort_price_per_pod\": 1420.0}, {\"date\": \"2022-03-27\", \"amount\": 8711, \"place_in_line\": 36368621, \"price_per_pod\": 0.78, \"sort_date\": 419.0, \"sort_amount\": 626.0, \"sort_place_in_line\": 140.0, \"sort_price_per_pod\": 1359.0}, {\"date\": \"2022-03-28\", \"amount\": 1053, \"place_in_line\": 30094742, \"price_per_pod\": 0.735, \"sort_date\": 440.0, \"sort_amount\": 131.0, \"sort_place_in_line\": 83.0, \"sort_price_per_pod\": 1325.0}, {\"date\": \"2022-03-28\", \"amount\": 857, \"place_in_line\": 695610007, \"price_per_pod\": 0.035, \"sort_date\": 441.0, \"sort_amount\": 105.0, \"sort_place_in_line\": 952.0, \"sort_price_per_pod\": 365.0}, {\"date\": \"2022-03-28\", \"amount\": 4578, \"place_in_line\": 48467512, \"price_per_pod\": 0.55, \"sort_date\": 439.0, \"sort_amount\": 395.0, \"sort_place_in_line\": 261.0, \"sort_price_per_pod\": 1216.0}, {\"date\": \"2022-03-28\", \"amount\": 11874, \"place_in_line\": 48472090, \"price_per_pod\": 0.55, \"sort_date\": 438.0, \"sort_amount\": 779.0, \"sort_place_in_line\": 263.0, \"sort_price_per_pod\": 1214.0}, {\"date\": \"2022-03-28\", \"amount\": 200, \"place_in_line\": 170675709, \"price_per_pod\": 0.1667, \"sort_date\": 437.0, \"sort_amount\": 28.0, \"sort_place_in_line\": 568.0, \"sort_price_per_pod\": 932.0}, {\"date\": \"2022-03-29\", \"amount\": 12728, \"place_in_line\": 705395019, \"price_per_pod\": 0.029, \"sort_date\": 459.0, \"sort_amount\": 808.0, \"sort_place_in_line\": 1068.0, \"sort_price_per_pod\": 97.0}, {\"date\": \"2022-03-29\", \"amount\": 9438, \"place_in_line\": 705375333, \"price_per_pod\": 0.029, \"sort_date\": 458.0, \"sort_amount\": 665.0, \"sort_place_in_line\": 1066.0, \"sort_price_per_pod\": 105.0}, {\"date\": \"2022-03-29\", \"amount\": 11087, \"place_in_line\": 705364047, \"price_per_pod\": 0.029, \"sort_date\": 457.0, \"sort_amount\": 750.0, \"sort_place_in_line\": 1065.0, \"sort_price_per_pod\": 100.0}, {\"date\": \"2022-03-29\", \"amount\": 7138, \"place_in_line\": 705356630, \"price_per_pod\": 0.029, \"sort_date\": 456.0, \"sort_amount\": 542.0, \"sort_place_in_line\": 1064.0, \"sort_price_per_pod\": 98.0}, {\"date\": \"2022-03-29\", \"amount\": 9775, \"place_in_line\": 705346854, \"price_per_pod\": 0.029, \"sort_date\": 455.0, \"sort_amount\": 678.0, \"sort_place_in_line\": 1063.0, \"sort_price_per_pod\": 96.0}, {\"date\": \"2022-03-29\", \"amount\": 5533, \"place_in_line\": 705310449, \"price_per_pod\": 0.03, \"sort_date\": 454.0, \"sort_amount\": 452.0, \"sort_place_in_line\": 1060.0, \"sort_price_per_pod\": 199.0}, {\"date\": \"2022-03-29\", \"amount\": 9969, \"place_in_line\": 705218131, \"price_per_pod\": 0.026, \"sort_date\": 453.0, \"sort_amount\": 686.0, \"sort_place_in_line\": 1054.0, \"sort_price_per_pod\": 77.0}, {\"date\": \"2022-03-29\", \"amount\": 6586, \"place_in_line\": 705272797, \"price_per_pod\": 0.03, \"sort_date\": 451.0, \"sort_amount\": 515.0, \"sort_place_in_line\": 1058.0, \"sort_price_per_pod\": 183.0}, {\"date\": \"2022-03-29\", \"amount\": 6258, \"place_in_line\": 705157865, \"price_per_pod\": 0.03, \"sort_date\": 452.0, \"sort_amount\": 492.0, \"sort_place_in_line\": 1046.0, \"sort_price_per_pod\": 182.0}, {\"date\": \"2022-03-29\", \"amount\": 11803, \"place_in_line\": 705241078, \"price_per_pod\": 0.035, \"sort_date\": 460.0, \"sort_amount\": 777.0, \"sort_place_in_line\": 1056.0, \"sort_price_per_pod\": 358.0}, {\"date\": \"2022-03-29\", \"amount\": 8688, \"place_in_line\": 705202416, \"price_per_pod\": 0.03, \"sort_date\": 450.0, \"sort_amount\": 624.0, \"sort_place_in_line\": 1052.0, \"sort_price_per_pod\": 167.0}, {\"date\": \"2022-03-29\", \"amount\": 5026, \"place_in_line\": 698264912, \"price_per_pod\": 0.034, \"sort_date\": 449.0, \"sort_amount\": 433.0, \"sort_place_in_line\": 996.0, \"sort_price_per_pod\": 335.0}, {\"date\": \"2022-03-29\", \"amount\": 4800, \"place_in_line\": 695313182, \"price_per_pod\": 0.032, \"sort_date\": 448.0, \"sort_amount\": 411.0, \"sort_place_in_line\": 937.0, \"sort_price_per_pod\": 298.0}, {\"date\": \"2022-03-29\", \"amount\": 75915, \"place_in_line\": 631117707, \"price_per_pod\": 0.0395, \"sort_date\": 447.0, \"sort_amount\": 1322.0, \"sort_place_in_line\": 904.0, \"sort_price_per_pod\": 393.0}, {\"date\": \"2022-03-29\", \"amount\": 4971, \"place_in_line\": 695524075, \"price_per_pod\": 0.032, \"sort_date\": 446.0, \"sort_amount\": 423.0, \"sort_place_in_line\": 949.0, \"sort_price_per_pod\": 292.0}, {\"date\": \"2022-03-29\", \"amount\": 5619, \"place_in_line\": 705181050, \"price_per_pod\": 0.032, \"sort_date\": 445.0, \"sort_amount\": 458.0, \"sort_place_in_line\": 1049.0, \"sort_price_per_pod\": 300.0}, {\"date\": \"2022-03-29\", \"amount\": 3739, \"place_in_line\": 705164124, \"price_per_pod\": 0.032, \"sort_date\": 444.0, \"sort_amount\": 332.0, \"sort_place_in_line\": 1047.0, \"sort_price_per_pod\": 299.0}, {\"date\": \"2022-03-29\", \"amount\": 5282, \"place_in_line\": 705228100, \"price_per_pod\": 0.032, \"sort_date\": 443.0, \"sort_amount\": 441.0, \"sort_place_in_line\": 1055.0, \"sort_price_per_pod\": 302.0}, {\"date\": \"2022-03-29\", \"amount\": 6901, \"place_in_line\": 702361734, \"price_per_pod\": 0.032, \"sort_date\": 442.0, \"sort_amount\": 531.0, \"sort_place_in_line\": 1023.0, \"sort_price_per_pod\": 303.0}, {\"date\": \"2022-03-30\", \"amount\": 9001, \"place_in_line\": 81480553, \"price_per_pod\": 0.37, \"sort_date\": 481.0, \"sort_amount\": 641.0, \"sort_place_in_line\": 344.0, \"sort_price_per_pod\": 1087.0}, {\"date\": \"2022-03-30\", \"amount\": 8190, \"place_in_line\": 136878766, \"price_per_pod\": 0.25, \"sort_date\": 480.0, \"sort_amount\": 600.0, \"sort_place_in_line\": 467.0, \"sort_price_per_pod\": 1041.0}, {\"date\": \"2022-03-30\", \"amount\": 19294, \"place_in_line\": 218682312, \"price_per_pod\": 0.12, \"sort_date\": 472.0, \"sort_amount\": 953.0, \"sort_place_in_line\": 610.0, \"sort_price_per_pod\": 851.0}, {\"date\": \"2022-03-30\", \"amount\": 9954, \"place_in_line\": 262244417, \"price_per_pod\": 0.1, \"sort_date\": 479.0, \"sort_amount\": 684.0, \"sort_place_in_line\": 671.0, \"sort_price_per_pod\": 819.0}, {\"date\": \"2022-03-30\", \"amount\": 20006, \"place_in_line\": 262254371, \"price_per_pod\": 0.1, \"sort_date\": 478.0, \"sort_amount\": 975.0, \"sort_place_in_line\": 672.0, \"sort_price_per_pod\": 818.0}, {\"date\": \"2022-03-30\", \"amount\": 1568, \"place_in_line\": 170675910, \"price_per_pod\": 0.157, \"sort_date\": 477.0, \"sort_amount\": 178.0, \"sort_place_in_line\": 569.0, \"sort_price_per_pod\": 922.0}, {\"date\": \"2022-03-30\", \"amount\": 31847, \"place_in_line\": 170677478, \"price_per_pod\": 0.157, \"sort_date\": 476.0, \"sort_amount\": 1127.0, \"sort_place_in_line\": 571.0, \"sort_price_per_pod\": 923.0}, {\"date\": \"2022-03-30\", \"amount\": 8448, \"place_in_line\": 262274378, \"price_per_pod\": 0.1, \"sort_date\": 475.0, \"sort_amount\": 610.0, \"sort_place_in_line\": 673.0, \"sort_price_per_pod\": 814.0}, {\"date\": \"2022-03-30\", \"amount\": 3827, \"place_in_line\": 695610864, \"price_per_pod\": 0.035, \"sort_date\": 474.0, \"sort_amount\": 342.0, \"sort_place_in_line\": 953.0, \"sort_price_per_pod\": 351.0}, {\"date\": \"2022-03-30\", \"amount\": 4046, \"place_in_line\": 99853968, \"price_per_pod\": 0.29, \"sort_date\": 473.0, \"sort_amount\": 355.0, \"sort_place_in_line\": 407.0, \"sort_price_per_pod\": 1059.0}, {\"date\": \"2022-03-30\", \"amount\": 4967, \"place_in_line\": 81489555, \"price_per_pod\": 0.37, \"sort_date\": 482.0, \"sort_amount\": 421.0, \"sort_place_in_line\": 345.0, \"sort_price_per_pod\": 1090.0}, {\"date\": \"2022-03-30\", \"amount\": 4520, \"place_in_line\": 99858014, \"price_per_pod\": 0.29, \"sort_date\": 471.0, \"sort_amount\": 391.0, \"sort_place_in_line\": 408.0, \"sort_price_per_pod\": 1060.0}, {\"date\": \"2022-03-30\", \"amount\": 70301, \"place_in_line\": 699271094, \"price_per_pod\": 0.033, \"sort_date\": 469.0, \"sort_amount\": 1308.0, \"sort_place_in_line\": 1009.0, \"sort_price_per_pod\": 321.0}, {\"date\": \"2022-03-30\", \"amount\": 14591, \"place_in_line\": 705624046, \"price_per_pod\": 0.031, \"sort_date\": 461.0, \"sort_amount\": 851.0, \"sort_place_in_line\": 1080.0, \"sort_price_per_pod\": 232.0}, {\"date\": \"2022-03-30\", \"amount\": 12970, \"place_in_line\": 705592675, \"price_per_pod\": 0.031, \"sort_date\": 462.0, \"sort_amount\": 816.0, \"sort_place_in_line\": 1079.0, \"sort_price_per_pod\": 233.0}, {\"date\": \"2022-03-30\", \"amount\": 11609, \"place_in_line\": 705718829, \"price_per_pod\": 0.031, \"sort_date\": 463.0, \"sort_amount\": 770.0, \"sort_place_in_line\": 1088.0, \"sort_price_per_pod\": 243.0}, {\"date\": \"2022-03-30\", \"amount\": 11034, \"place_in_line\": 705531861, \"price_per_pod\": 0.031, \"sort_date\": 464.0, \"sort_amount\": 748.0, \"sort_place_in_line\": 1075.0, \"sort_price_per_pod\": 244.0}, {\"date\": \"2022-03-30\", \"amount\": 10697, \"place_in_line\": 705556052, \"price_per_pod\": 0.031, \"sort_date\": 470.0, \"sort_amount\": 732.0, \"sort_place_in_line\": 1077.0, \"sort_price_per_pod\": 245.0}, {\"date\": \"2022-03-30\", \"amount\": 6037, \"place_in_line\": 204489002, \"price_per_pod\": 0.135, \"sort_date\": 466.0, \"sort_amount\": 482.0, \"sort_place_in_line\": 592.0, \"sort_price_per_pod\": 864.0}, {\"date\": \"2022-03-30\", \"amount\": 7468, \"place_in_line\": 491169840, \"price_per_pod\": 0.069, \"sort_date\": 467.0, \"sort_amount\": 561.0, \"sort_place_in_line\": 882.0, \"sort_price_per_pod\": 693.0}, {\"date\": \"2022-03-30\", \"amount\": 36237, \"place_in_line\": 99862535, \"price_per_pod\": 0.29, \"sort_date\": 468.0, \"sort_amount\": 1161.0, \"sort_place_in_line\": 409.0, \"sort_price_per_pod\": 1058.0}, {\"date\": \"2022-03-30\", \"amount\": 17865, \"place_in_line\": 99898772, \"price_per_pod\": 0.29, \"sort_date\": 465.0, \"sort_amount\": 929.0, \"sort_place_in_line\": 410.0, \"sort_price_per_pod\": 1056.0}, {\"date\": \"2022-03-31\", \"amount\": 4296, \"place_in_line\": 170709325, \"price_per_pod\": 0.157, \"sort_date\": 493.0, \"sort_amount\": 372.0, \"sort_place_in_line\": 573.0, \"sort_price_per_pod\": 924.0}, {\"date\": \"2022-03-31\", \"amount\": 1273, \"place_in_line\": 170713622, \"price_per_pod\": 0.157, \"sort_date\": 492.0, \"sort_amount\": 156.0, \"sort_place_in_line\": 574.0, \"sort_price_per_pod\": 925.0}, {\"date\": \"2022-03-31\", \"amount\": 3949, \"place_in_line\": 31392783, \"price_per_pod\": 0.85, \"sort_date\": 491.0, \"sort_amount\": 348.0, \"sort_place_in_line\": 97.0, \"sort_price_per_pod\": 1424.0}, {\"date\": \"2022-03-31\", \"amount\": 4263, \"place_in_line\": 43666111, \"price_per_pod\": 0.65, \"sort_date\": 490.0, \"sort_amount\": 367.0, \"sort_place_in_line\": 205.0, \"sort_price_per_pod\": 1274.0}, {\"date\": \"2022-03-31\", \"amount\": 7943, \"place_in_line\": 46871917, \"price_per_pod\": 0.655, \"sort_date\": 489.0, \"sort_amount\": 581.0, \"sort_place_in_line\": 225.0, \"sort_price_per_pod\": 1280.0}, {\"date\": \"2022-03-31\", \"amount\": 2654, \"place_in_line\": 136886956, \"price_per_pod\": 0.25, \"sort_date\": 494.0, \"sort_amount\": 259.0, \"sort_place_in_line\": 468.0, \"sort_price_per_pod\": 1035.0}, {\"date\": \"2022-03-31\", \"amount\": 24923, \"place_in_line\": 170714896, \"price_per_pod\": 0.157, \"sort_date\": 487.0, \"sort_amount\": 1053.0, \"sort_place_in_line\": 575.0, \"sort_price_per_pod\": 921.0}, {\"date\": \"2022-03-31\", \"amount\": 14171, \"place_in_line\": 707828423, \"price_per_pod\": 0.031, \"sort_date\": 486.0, \"sort_amount\": 842.0, \"sort_place_in_line\": 1101.0, \"sort_price_per_pod\": 253.0}, {\"date\": \"2022-03-31\", \"amount\": 8376, \"place_in_line\": 705667171, \"price_per_pod\": 0.031, \"sort_date\": 485.0, \"sort_amount\": 607.0, \"sort_place_in_line\": 1082.0, \"sort_price_per_pod\": 274.0}, {\"date\": \"2022-03-31\", \"amount\": 8036, \"place_in_line\": 705696667, \"price_per_pod\": 0.031, \"sort_date\": 488.0, \"sort_amount\": 589.0, \"sort_place_in_line\": 1085.0, \"sort_price_per_pod\": 259.0}, {\"date\": \"2022-03-31\", \"amount\": 8071, \"place_in_line\": 705576972, \"price_per_pod\": 0.031, \"sort_date\": 484.0, \"sort_amount\": 592.0, \"sort_place_in_line\": 1078.0, \"sort_price_per_pod\": 257.0}, {\"date\": \"2022-03-31\", \"amount\": 6773, \"place_in_line\": 705544231, \"price_per_pod\": 0.031, \"sort_date\": 483.0, \"sort_amount\": 528.0, \"sort_place_in_line\": 1076.0, \"sort_price_per_pod\": 280.0}, {\"date\": \"2022-04-01\", \"amount\": 5746, \"place_in_line\": 145580692, \"price_per_pod\": 0.225, \"sort_date\": 506.0, \"sort_amount\": 466.0, \"sort_place_in_line\": 519.0, \"sort_price_per_pod\": 1003.0}, {\"date\": \"2022-04-01\", \"amount\": 6740, \"place_in_line\": 705687548, \"price_per_pod\": 0.031, \"sort_date\": 505.0, \"sort_amount\": 526.0, \"sort_place_in_line\": 1084.0, \"sort_price_per_pod\": 226.0}, {\"date\": \"2022-04-01\", \"amount\": 6316, \"place_in_line\": 705712512, \"price_per_pod\": 0.031, \"sort_date\": 504.0, \"sort_amount\": 496.0, \"sort_place_in_line\": 1087.0, \"sort_price_per_pod\": 255.0}, {\"date\": \"2022-04-01\", \"amount\": 21915, \"place_in_line\": 491177308, \"price_per_pod\": 0.069, \"sort_date\": 503.0, \"sort_amount\": 1018.0, \"sort_place_in_line\": 884.0, \"sort_price_per_pod\": 694.0}, {\"date\": \"2022-04-01\", \"amount\": 5646, \"place_in_line\": 701398278, \"price_per_pod\": 0.035, \"sort_date\": 502.0, \"sort_amount\": 460.0, \"sort_place_in_line\": 1018.0, \"sort_price_per_pod\": 359.0}, {\"date\": \"2022-04-01\", \"amount\": 9388, \"place_in_line\": 697945151, \"price_per_pod\": 0.066, \"sort_date\": 501.0, \"sort_amount\": 661.0, \"sort_place_in_line\": 984.0, \"sort_price_per_pod\": 688.0}, {\"date\": \"2022-04-01\", \"amount\": 20462, \"place_in_line\": 437580444, \"price_per_pod\": 0.072, \"sort_date\": 507.0, \"sort_amount\": 990.0, \"sort_place_in_line\": 851.0, \"sort_price_per_pod\": 711.0}, {\"date\": \"2022-04-01\", \"amount\": 10948, \"place_in_line\": 204495039, \"price_per_pod\": 0.135, \"sort_date\": 500.0, \"sort_amount\": 742.0, \"sort_place_in_line\": 593.0, \"sort_price_per_pod\": 863.0}, {\"date\": \"2022-04-01\", \"amount\": 8000, \"place_in_line\": 136889611, \"price_per_pod\": 0.25, \"sort_date\": 499.0, \"sort_amount\": 586.0, \"sort_place_in_line\": 469.0, \"sort_price_per_pod\": 1021.0}, {\"date\": \"2022-04-01\", \"amount\": 3500, \"place_in_line\": 137323174, \"price_per_pod\": 0.24, \"sort_date\": 498.0, \"sort_amount\": 313.0, \"sort_place_in_line\": 504.0, \"sort_price_per_pod\": 1018.0}, {\"date\": \"2022-04-01\", \"amount\": 30301, \"place_in_line\": 218701606, \"price_per_pod\": 0.12, \"sort_date\": 497.0, \"sort_amount\": 1115.0, \"sort_place_in_line\": 611.0, \"sort_price_per_pod\": 840.0}, {\"date\": \"2022-04-01\", \"amount\": 21869, \"place_in_line\": 707806553, \"price_per_pod\": 0.032, \"sort_date\": 496.0, \"sort_amount\": 1016.0, \"sort_place_in_line\": 1100.0, \"sort_price_per_pod\": 297.0}, {\"date\": \"2022-04-01\", \"amount\": 8473, \"place_in_line\": 451952602, \"price_per_pod\": 0.04, \"sort_date\": 495.0, \"sort_amount\": 613.0, \"sort_place_in_line\": 863.0, \"sort_price_per_pod\": 396.0}, {\"date\": \"2022-04-02\", \"amount\": 8954, \"place_in_line\": 46856996, \"price_per_pod\": 0.64, \"sort_date\": 517.0, \"sort_amount\": 636.0, \"sort_place_in_line\": 219.0, \"sort_price_per_pod\": 1264.0}, {\"date\": \"2022-04-02\", \"amount\": 24321, \"place_in_line\": 262282827, \"price_per_pod\": 0.1, \"sort_date\": 516.0, \"sort_amount\": 1047.0, \"sort_place_in_line\": 674.0, \"sort_price_per_pod\": 817.0}, {\"date\": \"2022-04-02\", \"amount\": 68900, \"place_in_line\": 262307148, \"price_per_pod\": 0.1, \"sort_date\": 515.0, \"sort_amount\": 1302.0, \"sort_place_in_line\": 675.0, \"sort_price_per_pod\": 823.0}, {\"date\": \"2022-04-02\", \"amount\": 1712, \"place_in_line\": 32562193, \"price_per_pod\": 0.75, \"sort_date\": 514.0, \"sort_amount\": 195.0, \"sort_place_in_line\": 111.0, \"sort_price_per_pod\": 1342.0}, {\"date\": \"2022-04-02\", \"amount\": 8917, \"place_in_line\": 27973674, \"price_per_pod\": 0.96, \"sort_date\": 518.0, \"sort_amount\": 632.0, \"sort_place_in_line\": 62.0, \"sort_price_per_pod\": 1489.0}, {\"date\": \"2022-04-02\", \"amount\": 9148, \"place_in_line\": 707849276, \"price_per_pod\": 0.03, \"sort_date\": 512.0, \"sort_amount\": 653.0, \"sort_place_in_line\": 1103.0, \"sort_price_per_pod\": 198.0}, {\"date\": \"2022-04-02\", \"amount\": 28885, \"place_in_line\": 218731907, \"price_per_pod\": 0.12, \"sort_date\": 513.0, \"sort_amount\": 1092.0, \"sort_place_in_line\": 612.0, \"sort_price_per_pod\": 841.0}, {\"date\": \"2022-04-02\", \"amount\": 1029, \"place_in_line\": 31396733, \"price_per_pod\": 0.85, \"sort_date\": 511.0, \"sort_amount\": 128.0, \"sort_place_in_line\": 98.0, \"sort_price_per_pod\": 1405.0}, {\"date\": \"2022-04-02\", \"amount\": 5486, \"place_in_line\": 698269939, \"price_per_pod\": 0.032, \"sort_date\": 510.0, \"sort_amount\": 449.0, \"sort_place_in_line\": 997.0, \"sort_price_per_pod\": 296.0}, {\"date\": \"2022-04-02\", \"amount\": 6658, \"place_in_line\": 218760793, \"price_per_pod\": 0.12, \"sort_date\": 509.0, \"sort_amount\": 517.0, \"sort_place_in_line\": 613.0, \"sort_price_per_pod\": 839.0}, {\"date\": \"2022-04-02\", \"amount\": 11486, \"place_in_line\": 708237083, \"price_per_pod\": 0.031, \"sort_date\": 508.0, \"sort_amount\": 765.0, \"sort_place_in_line\": 1136.0, \"sort_price_per_pod\": 267.0}, {\"date\": \"2022-04-03\", \"amount\": 14444, \"place_in_line\": 707792108, \"price_per_pod\": 0.031, \"sort_date\": 525.0, \"sort_amount\": 847.0, \"sort_place_in_line\": 1099.0, \"sort_price_per_pod\": 268.0}, {\"date\": \"2022-04-03\", \"amount\": 13448, \"place_in_line\": 262376049, \"price_per_pod\": 0.1, \"sort_date\": 524.0, \"sort_amount\": 828.0, \"sort_place_in_line\": 676.0, \"sort_price_per_pod\": 832.0}, {\"date\": \"2022-04-03\", \"amount\": 2181, \"place_in_line\": 707740682, \"price_per_pod\": 0.031, \"sort_date\": 523.0, \"sort_amount\": 225.0, \"sort_place_in_line\": 1094.0, \"sort_price_per_pod\": 270.0}, {\"date\": \"2022-04-03\", \"amount\": 409, \"place_in_line\": 50209919, \"price_per_pod\": 0.45, \"sort_date\": 526.0, \"sort_amount\": 61.0, \"sort_place_in_line\": 300.0, \"sort_price_per_pod\": 1128.0}, {\"date\": \"2022-04-03\", \"amount\": 458, \"place_in_line\": 42982676, \"price_per_pod\": 0.85, \"sort_date\": 521.0, \"sort_amount\": 65.0, \"sort_place_in_line\": 193.0, \"sort_price_per_pod\": 1408.0}, {\"date\": \"2022-04-03\", \"amount\": 3633, \"place_in_line\": 31397762, \"price_per_pod\": 0.85, \"sort_date\": 520.0, \"sort_amount\": 325.0, \"sort_place_in_line\": 99.0, \"sort_price_per_pod\": 1409.0}, {\"date\": \"2022-04-03\", \"amount\": 22379, \"place_in_line\": 708463798, \"price_per_pod\": 0.031, \"sort_date\": 519.0, \"sort_amount\": 1025.0, \"sort_place_in_line\": 1152.0, \"sort_price_per_pod\": 273.0}, {\"date\": \"2022-04-03\", \"amount\": 60174, \"place_in_line\": 218767451, \"price_per_pod\": 0.12, \"sort_date\": 522.0, \"sort_amount\": 1277.0, \"sort_place_in_line\": 614.0, \"sort_price_per_pod\": 845.0}, {\"date\": \"2022-04-04\", \"amount\": 43767, \"place_in_line\": 31401396, \"price_per_pod\": 0.85, \"sort_date\": 533.0, \"sort_amount\": 1220.0, \"sort_place_in_line\": 100.0, \"sort_price_per_pod\": 1410.0}, {\"date\": \"2022-04-04\", \"amount\": 20000, \"place_in_line\": 139698958, \"price_per_pod\": 0.2, \"sort_date\": 532.0, \"sort_amount\": 968.0, \"sort_place_in_line\": 511.0, \"sort_price_per_pod\": 979.0}, {\"date\": \"2022-04-04\", \"amount\": 66013, \"place_in_line\": 262389497, \"price_per_pod\": 0.1, \"sort_date\": 531.0, \"sort_amount\": 1295.0, \"sort_place_in_line\": 677.0, \"sort_price_per_pod\": 827.0}, {\"date\": \"2022-04-04\", \"amount\": 7310, \"place_in_line\": 31347800, \"price_per_pod\": 0.875, \"sort_date\": 534.0, \"sort_amount\": 547.0, \"sort_place_in_line\": 94.0, \"sort_price_per_pod\": 1428.0}, {\"date\": \"2022-04-04\", \"amount\": 9061, \"place_in_line\": 31445163, \"price_per_pod\": 0.85, \"sort_date\": 530.0, \"sort_amount\": 649.0, \"sort_place_in_line\": 101.0, \"sort_price_per_pod\": 1413.0}, {\"date\": \"2022-04-04\", \"amount\": 36470, \"place_in_line\": 36806228, \"price_per_pod\": 0.85, \"sort_date\": 529.0, \"sort_amount\": 1163.0, \"sort_place_in_line\": 143.0, \"sort_price_per_pod\": 1407.0}, {\"date\": \"2022-04-04\", \"amount\": 46563, \"place_in_line\": 702124915, \"price_per_pod\": 0.03, \"sort_date\": 528.0, \"sort_amount\": 1232.0, \"sort_place_in_line\": 1022.0, \"sort_price_per_pod\": 189.0}, {\"date\": \"2022-04-04\", \"amount\": 26457, \"place_in_line\": 708608176, \"price_per_pod\": 0.031, \"sort_date\": 527.0, \"sort_amount\": 1073.0, \"sort_place_in_line\": 1164.0, \"sort_price_per_pod\": 277.0}, {\"date\": \"2022-04-05\", \"amount\": 315, \"place_in_line\": 31206097, \"price_per_pod\": 0.9, \"sort_date\": 540.0, \"sort_amount\": 51.0, \"sort_place_in_line\": 91.0, \"sort_price_per_pod\": 1450.0}, {\"date\": \"2022-04-05\", \"amount\": 23870, \"place_in_line\": 708439927, \"price_per_pod\": 0.031, \"sort_date\": 543.0, \"sort_amount\": 1044.0, \"sort_place_in_line\": 1151.0, \"sort_price_per_pod\": 279.0}, {\"date\": \"2022-04-05\", \"amount\": 20307, \"place_in_line\": 708587869, \"price_per_pod\": 0.031, \"sort_date\": 542.0, \"sort_amount\": 986.0, \"sort_place_in_line\": 1163.0, \"sort_price_per_pod\": 254.0}, {\"date\": \"2022-04-05\", \"amount\": 28726, \"place_in_line\": 708825794, \"price_per_pod\": 0.03, \"sort_date\": 541.0, \"sort_amount\": 1091.0, \"sort_place_in_line\": 1179.0, \"sort_price_per_pod\": 187.0}, {\"date\": \"2022-04-05\", \"amount\": 30143, \"place_in_line\": 708766515, \"price_per_pod\": 0.031, \"sort_date\": 544.0, \"sort_amount\": 1112.0, \"sort_place_in_line\": 1178.0, \"sort_price_per_pod\": 252.0}, {\"date\": \"2022-04-05\", \"amount\": 6012, \"place_in_line\": 46879861, \"price_per_pod\": 0.655, \"sort_date\": 539.0, \"sort_amount\": 481.0, \"sort_place_in_line\": 226.0, \"sort_price_per_pod\": 1281.0}, {\"date\": \"2022-04-05\", \"amount\": 15989, \"place_in_line\": 27982592, \"price_per_pod\": 0.96, \"sort_date\": 535.0, \"sort_amount\": 883.0, \"sort_place_in_line\": 64.0, \"sort_price_per_pod\": 1488.0}, {\"date\": \"2022-04-05\", \"amount\": 100323, \"place_in_line\": 470702637, \"price_per_pod\": 0.069, \"sort_date\": 538.0, \"sort_amount\": 1380.0, \"sort_place_in_line\": 871.0, \"sort_price_per_pod\": 692.0}, {\"date\": \"2022-04-05\", \"amount\": 2592, \"place_in_line\": 136897611, \"price_per_pod\": 0.25, \"sort_date\": 537.0, \"sort_amount\": 254.0, \"sort_place_in_line\": 470.0, \"sort_price_per_pod\": 1045.0}, {\"date\": \"2022-04-05\", \"amount\": 7878, \"place_in_line\": 297495649, \"price_per_pod\": 0.1, \"sort_date\": 536.0, \"sort_amount\": 577.0, \"sort_place_in_line\": 749.0, \"sort_price_per_pod\": 796.0}, {\"date\": \"2022-04-06\", \"amount\": 12993, \"place_in_line\": 136900203, \"price_per_pod\": 0.25, \"sort_date\": 560.0, \"sort_amount\": 817.0, \"sort_place_in_line\": 471.0, \"sort_price_per_pod\": 1022.0}, {\"date\": \"2022-04-06\", \"amount\": 34754, \"place_in_line\": 708854521, \"price_per_pod\": 0.031, \"sort_date\": 564.0, \"sort_amount\": 1154.0, \"sort_place_in_line\": 1180.0, \"sort_price_per_pod\": 230.0}, {\"date\": \"2022-04-06\", \"amount\": 12287, \"place_in_line\": 708321754, \"price_per_pod\": 0.031, \"sort_date\": 561.0, \"sort_amount\": 793.0, \"sort_place_in_line\": 1142.0, \"sort_price_per_pod\": 231.0}, {\"date\": \"2022-04-06\", \"amount\": 30093, \"place_in_line\": 221777246, \"price_per_pod\": 0.18, \"sort_date\": 562.0, \"sort_amount\": 1111.0, \"sort_place_in_line\": 622.0, \"sort_price_per_pod\": 944.0}, {\"date\": \"2022-04-06\", \"amount\": 10735, \"place_in_line\": 705448059, \"price_per_pod\": 0.03, \"sort_date\": 563.0, \"sort_amount\": 734.0, \"sort_place_in_line\": 1071.0, \"sort_price_per_pod\": 201.0}, {\"date\": \"2022-04-06\", \"amount\": 4969, \"place_in_line\": 707887650, \"price_per_pod\": 0.03, \"sort_date\": 569.0, \"sort_amount\": 422.0, \"sort_place_in_line\": 1108.0, \"sort_price_per_pod\": 164.0}, {\"date\": \"2022-04-06\", \"amount\": 6953, \"place_in_line\": 708634811, \"price_per_pod\": 0.03, \"sort_date\": 565.0, \"sort_amount\": 534.0, \"sort_place_in_line\": 1165.0, \"sort_price_per_pod\": 154.0}, {\"date\": \"2022-04-06\", \"amount\": 6381, \"place_in_line\": 708500406, \"price_per_pod\": 0.03, \"sort_date\": 566.0, \"sort_amount\": 501.0, \"sort_place_in_line\": 1155.0, \"sort_price_per_pod\": 142.0}, {\"date\": \"2022-04-06\", \"amount\": 7654, \"place_in_line\": 708927210, \"price_per_pod\": 0.028, \"sort_date\": 567.0, \"sort_amount\": 569.0, \"sort_place_in_line\": 1182.0, \"sort_price_per_pod\": 89.0}, {\"date\": \"2022-04-06\", \"amount\": 3568, \"place_in_line\": 709235682, \"price_per_pod\": 0.03, \"sort_date\": 568.0, \"sort_amount\": 317.0, \"sort_place_in_line\": 1197.0, \"sort_price_per_pod\": 141.0}, {\"date\": \"2022-04-06\", \"amount\": 10900, \"place_in_line\": 705045633, \"price_per_pod\": 0.031, \"sort_date\": 558.0, \"sort_amount\": 740.0, \"sort_place_in_line\": 1042.0, \"sort_price_per_pod\": 234.0}, {\"date\": \"2022-04-06\", \"amount\": 11854, \"place_in_line\": 705136406, \"price_per_pod\": 0.031, \"sort_date\": 559.0, \"sort_amount\": 778.0, \"sort_place_in_line\": 1045.0, \"sort_price_per_pod\": 235.0}, {\"date\": \"2022-04-06\", \"amount\": 6902, \"place_in_line\": 705038731, \"price_per_pod\": 0.031, \"sort_date\": 556.0, \"sort_amount\": 532.0, \"sort_place_in_line\": 1041.0, \"sort_price_per_pod\": 236.0}, {\"date\": \"2022-04-06\", \"amount\": 8204, \"place_in_line\": 705128202, \"price_per_pod\": 0.031, \"sort_date\": 545.0, \"sort_amount\": 601.0, \"sort_place_in_line\": 1044.0, \"sort_price_per_pod\": 237.0}, {\"date\": \"2022-04-06\", \"amount\": 6544, \"place_in_line\": 705174505, \"price_per_pod\": 0.031, \"sort_date\": 555.0, \"sort_amount\": 512.0, \"sort_place_in_line\": 1048.0, \"sort_price_per_pod\": 238.0}, {\"date\": \"2022-04-06\", \"amount\": 8182, \"place_in_line\": 705186670, \"price_per_pod\": 0.031, \"sort_date\": 557.0, \"sort_amount\": 599.0, \"sort_place_in_line\": 1050.0, \"sort_price_per_pod\": 239.0}, {\"date\": \"2022-04-06\", \"amount\": 24834, \"place_in_line\": 709107547, \"price_per_pod\": 0.031, \"sort_date\": 553.0, \"sort_amount\": 1051.0, \"sort_place_in_line\": 1189.0, \"sort_price_per_pod\": 240.0}, {\"date\": \"2022-04-06\", \"amount\": 19873, \"place_in_line\": 708746641, \"price_per_pod\": 0.031, \"sort_date\": 552.0, \"sort_amount\": 960.0, \"sort_place_in_line\": 1177.0, \"sort_price_per_pod\": 241.0}, {\"date\": \"2022-04-06\", \"amount\": 15762, \"place_in_line\": 708248570, \"price_per_pod\": 0.031, \"sort_date\": 551.0, \"sort_amount\": 879.0, \"sort_place_in_line\": 1137.0, \"sort_price_per_pod\": 242.0}, {\"date\": \"2022-04-06\", \"amount\": 4892, \"place_in_line\": 28034365, \"price_per_pod\": 0.96, \"sort_date\": 550.0, \"sort_amount\": 415.0, \"sort_place_in_line\": 72.0, \"sort_price_per_pod\": 1490.0}, {\"date\": \"2022-04-06\", \"amount\": 1434, \"place_in_line\": 27974674, \"price_per_pod\": 0.97, \"sort_date\": 549.0, \"sort_amount\": 162.0, \"sort_place_in_line\": 63.0, \"sort_price_per_pod\": 1494.0}, {\"date\": \"2022-04-06\", \"amount\": 1422, \"place_in_line\": 48472090, \"price_per_pod\": 0.69, \"sort_date\": 548.0, \"sort_amount\": 160.0, \"sort_place_in_line\": 262.0, \"sort_price_per_pod\": 1302.0}, {\"date\": \"2022-04-06\", \"amount\": 5268, \"place_in_line\": 137124860, \"price_per_pod\": 0.3, \"sort_date\": 547.0, \"sort_amount\": 440.0, \"sort_place_in_line\": 481.0, \"sort_price_per_pod\": 1073.0}, {\"date\": \"2022-04-06\", \"amount\": 15764, \"place_in_line\": 92719137, \"price_per_pod\": 0.5, \"sort_date\": 546.0, \"sort_amount\": 881.0, \"sort_place_in_line\": 355.0, \"sort_price_per_pod\": 1171.0}, {\"date\": \"2022-04-06\", \"amount\": 6856, \"place_in_line\": 137276142, \"price_per_pod\": 0.26, \"sort_date\": 554.0, \"sort_amount\": 530.0, \"sort_place_in_line\": 497.0, \"sort_price_per_pod\": 1048.0}, {\"date\": \"2022-04-07\", \"amount\": 1788, \"place_in_line\": 695614691, \"price_per_pod\": 0.035, \"sort_date\": 583.0, \"sort_amount\": 199.0, \"sort_place_in_line\": 954.0, \"sort_price_per_pod\": 369.0}, {\"date\": \"2022-04-07\", \"amount\": 4742, \"place_in_line\": 31200843, \"price_per_pod\": 0.9, \"sort_date\": 582.0, \"sort_amount\": 407.0, \"sort_place_in_line\": 88.0, \"sort_price_per_pod\": 1449.0}, {\"date\": \"2022-04-07\", \"amount\": 5663, \"place_in_line\": 48712174, \"price_per_pod\": 0.65, \"sort_date\": 581.0, \"sort_amount\": 462.0, \"sort_place_in_line\": 277.0, \"sort_price_per_pod\": 1275.0}, {\"date\": \"2022-04-07\", \"amount\": 4910, \"place_in_line\": 698278077, \"price_per_pod\": 0.03, \"sort_date\": 580.0, \"sort_amount\": 418.0, \"sort_place_in_line\": 999.0, \"sort_price_per_pod\": 134.0}, {\"date\": \"2022-04-07\", \"amount\": 6674, \"place_in_line\": 705525186, \"price_per_pod\": 0.03, \"sort_date\": 579.0, \"sort_amount\": 521.0, \"sort_place_in_line\": 1074.0, \"sort_price_per_pod\": 131.0}, {\"date\": \"2022-04-07\", \"amount\": 6225, \"place_in_line\": 705654108, \"price_per_pod\": 0.03, \"sort_date\": 578.0, \"sort_amount\": 491.0, \"sort_place_in_line\": 1081.0, \"sort_price_per_pod\": 130.0}, {\"date\": \"2022-04-07\", \"amount\": 12756, \"place_in_line\": 709037114, \"price_per_pod\": 0.03, \"sort_date\": 584.0, \"sort_amount\": 810.0, \"sort_place_in_line\": 1187.0, \"sort_price_per_pod\": 144.0}, {\"date\": \"2022-04-07\", \"amount\": 23544, \"place_in_line\": 708213538, \"price_per_pod\": 0.031, \"sort_date\": 576.0, \"sort_amount\": 1038.0, \"sort_place_in_line\": 1135.0, \"sort_price_per_pod\": 281.0}, {\"date\": \"2022-04-07\", \"amount\": 14347, \"place_in_line\": 705458794, \"price_per_pod\": 0.031, \"sort_date\": 570.0, \"sort_amount\": 846.0, \"sort_place_in_line\": 1072.0, \"sort_price_per_pod\": 249.0}, {\"date\": \"2022-04-07\", \"amount\": 90000, \"place_in_line\": 225413555, \"price_per_pod\": 0.06, \"sort_date\": 575.0, \"sort_amount\": 1354.0, \"sort_place_in_line\": 628.0, \"sort_price_per_pod\": 634.0}, {\"date\": \"2022-04-07\", \"amount\": 27885, \"place_in_line\": 48717838, \"price_per_pod\": 0.65, \"sort_date\": 574.0, \"sort_amount\": 1085.0, \"sort_place_in_line\": 278.0, \"sort_price_per_pod\": 1276.0}, {\"date\": \"2022-04-07\", \"amount\": 60000, \"place_in_line\": 462281867, \"price_per_pod\": 0.059, \"sort_date\": 577.0, \"sort_amount\": 1276.0, \"sort_place_in_line\": 865.0, \"sort_price_per_pod\": 623.0}, {\"date\": \"2022-04-07\", \"amount\": 38776, \"place_in_line\": 403097227, \"price_per_pod\": 0.05, \"sort_date\": 573.0, \"sort_amount\": 1177.0, \"sort_place_in_line\": 830.0, \"sort_price_per_pod\": 513.0}, {\"date\": \"2022-04-07\", \"amount\": 6675, \"place_in_line\": 456553811, \"price_per_pod\": 0.058, \"sort_date\": 572.0, \"sort_amount\": 523.0, \"sort_place_in_line\": 864.0, \"sort_price_per_pod\": 607.0}, {\"date\": \"2022-04-07\", \"amount\": 21267, \"place_in_line\": 274414876, \"price_per_pod\": 0.12, \"sort_date\": 571.0, \"sort_amount\": 1008.0, \"sort_place_in_line\": 693.0, \"sort_price_per_pod\": 852.0}, {\"date\": \"2022-04-08\", \"amount\": 10452, \"place_in_line\": 48473512, \"price_per_pod\": 0.64, \"sort_date\": 591.0, \"sort_amount\": 722.0, \"sort_place_in_line\": 264.0, \"sort_price_per_pod\": 1263.0}, {\"date\": \"2022-04-08\", \"amount\": 6666, \"place_in_line\": 137249097, \"price_per_pod\": 0.3, \"sort_date\": 590.0, \"sort_amount\": 519.0, \"sort_place_in_line\": 490.0, \"sort_price_per_pod\": 1069.0}, {\"date\": \"2022-04-08\", \"amount\": 20797, \"place_in_line\": 709612099, \"price_per_pod\": 0.03, \"sort_date\": 589.0, \"sort_amount\": 999.0, \"sort_place_in_line\": 1218.0, \"sort_price_per_pod\": 159.0}, {\"date\": \"2022-04-08\", \"amount\": 21586, \"place_in_line\": 709581451, \"price_per_pod\": 0.03, \"sort_date\": 592.0, \"sort_amount\": 1011.0, \"sort_place_in_line\": 1216.0, \"sort_price_per_pod\": 158.0}, {\"date\": \"2022-04-08\", \"amount\": 20715, \"place_in_line\": 709545211, \"price_per_pod\": 0.031, \"sort_date\": 587.0, \"sort_amount\": 997.0, \"sort_place_in_line\": 1215.0, \"sort_price_per_pod\": 289.0}, {\"date\": \"2022-04-08\", \"amount\": 4744, \"place_in_line\": 709753706, \"price_per_pod\": 0.025, \"sort_date\": 586.0, \"sort_amount\": 410.0, \"sort_place_in_line\": 1229.0, \"sort_price_per_pod\": 73.0}, {\"date\": \"2022-04-08\", \"amount\": 4269, \"place_in_line\": 48275191, \"price_per_pod\": 0.64, \"sort_date\": 588.0, \"sort_amount\": 370.0, \"sort_place_in_line\": 252.0, \"sort_price_per_pod\": 1262.0}, {\"date\": \"2022-04-08\", \"amount\": 5541, \"place_in_line\": 48745724, \"price_per_pod\": 0.65, \"sort_date\": 585.0, \"sort_amount\": 453.0, \"sort_place_in_line\": 279.0, \"sort_price_per_pod\": 1272.0}, {\"date\": \"2022-04-09\", \"amount\": 3682, \"place_in_line\": 36842699, \"price_per_pod\": 0.85, \"sort_date\": 608.0, \"sort_amount\": 328.0, \"sort_place_in_line\": 144.0, \"sort_price_per_pod\": 1412.0}, {\"date\": \"2022-04-09\", \"amount\": 1055, \"place_in_line\": 41577617, \"price_per_pod\": 0.8, \"sort_date\": 609.0, \"sort_amount\": 133.0, \"sort_place_in_line\": 158.0, \"sort_price_per_pod\": 1377.0}, {\"date\": \"2022-04-09\", \"amount\": 23321, \"place_in_line\": 709889561, \"price_per_pod\": 0.03, \"sort_date\": 612.0, \"sort_amount\": 1036.0, \"sort_place_in_line\": 1234.0, \"sort_price_per_pod\": 155.0}, {\"date\": \"2022-04-09\", \"amount\": 23277, \"place_in_line\": 709912903, \"price_per_pod\": 0.03, \"sort_date\": 610.0, \"sort_amount\": 1035.0, \"sort_place_in_line\": 1235.0, \"sort_price_per_pod\": 153.0}, {\"date\": \"2022-04-09\", \"amount\": 41844, \"place_in_line\": 710018569, \"price_per_pod\": 0.03, \"sort_date\": 611.0, \"sort_amount\": 1201.0, \"sort_place_in_line\": 1239.0, \"sort_price_per_pod\": 152.0}, {\"date\": \"2022-04-09\", \"amount\": 17642, \"place_in_line\": 708000395, \"price_per_pod\": 0.031, \"sort_date\": 617.0, \"sort_amount\": 923.0, \"sort_place_in_line\": 1120.0, \"sort_price_per_pod\": 291.0}, {\"date\": \"2022-04-09\", \"amount\": 29093, \"place_in_line\": 708967767, \"price_per_pod\": 0.032, \"sort_date\": 613.0, \"sort_amount\": 1096.0, \"sort_place_in_line\": 1184.0, \"sort_price_per_pod\": 304.0}, {\"date\": \"2022-04-09\", \"amount\": 378, \"place_in_line\": 41578673, \"price_per_pod\": 0.8, \"sort_date\": 614.0, \"sort_amount\": 56.0, \"sort_place_in_line\": 159.0, \"sort_price_per_pod\": 1376.0}, {\"date\": \"2022-04-09\", \"amount\": 1107, \"place_in_line\": 30475915, \"price_per_pod\": 0.9125, \"sort_date\": 615.0, \"sort_amount\": 138.0, \"sort_place_in_line\": 84.0, \"sort_price_per_pod\": 1468.0}, {\"date\": \"2022-04-09\", \"amount\": 20989, \"place_in_line\": 709936198, \"price_per_pod\": 0.031, \"sort_date\": 616.0, \"sort_amount\": 1003.0, \"sort_place_in_line\": 1236.0, \"sort_price_per_pod\": 286.0}, {\"date\": \"2022-04-09\", \"amount\": 20297, \"place_in_line\": 709957188, \"price_per_pod\": 0.031, \"sort_date\": 606.0, \"sort_amount\": 984.0, \"sort_place_in_line\": 1237.0, \"sort_price_per_pod\": 285.0}, {\"date\": \"2022-04-09\", \"amount\": 8114, \"place_in_line\": 709372924, \"price_per_pod\": 0.03, \"sort_date\": 607.0, \"sort_amount\": 595.0, \"sort_place_in_line\": 1203.0, \"sort_price_per_pod\": 148.0}, {\"date\": \"2022-04-09\", \"amount\": 8545, \"place_in_line\": 709381038, \"price_per_pod\": 0.03, \"sort_date\": 604.0, \"sort_amount\": 615.0, \"sort_place_in_line\": 1204.0, \"sort_price_per_pod\": 193.0}, {\"date\": \"2022-04-09\", \"amount\": 7516, \"place_in_line\": 705194853, \"price_per_pod\": 0.031, \"sort_date\": 605.0, \"sort_amount\": 562.0, \"sort_place_in_line\": 1051.0, \"sort_price_per_pod\": 284.0}, {\"date\": \"2022-04-09\", \"amount\": 12054, \"place_in_line\": 705435715, \"price_per_pod\": 0.031, \"sort_date\": 603.0, \"sort_amount\": 786.0, \"sort_place_in_line\": 1070.0, \"sort_price_per_pod\": 283.0}, {\"date\": \"2022-04-09\", \"amount\": 5347, \"place_in_line\": 42882676, \"price_per_pod\": 0.85, \"sort_date\": 602.0, \"sort_amount\": 443.0, \"sort_place_in_line\": 188.0, \"sort_price_per_pod\": 1404.0}, {\"date\": \"2022-04-09\", \"amount\": 4335, \"place_in_line\": 702866240, \"price_per_pod\": 0.035, \"sort_date\": 601.0, \"sort_amount\": 374.0, \"sort_place_in_line\": 1028.0, \"sort_price_per_pod\": 361.0}, {\"date\": \"2022-04-09\", \"amount\": 22222, \"place_in_line\": 32803608, \"price_per_pod\": 0.9, \"sort_date\": 600.0, \"sort_amount\": 1021.0, \"sort_place_in_line\": 113.0, \"sort_price_per_pod\": 1453.0}, {\"date\": \"2022-04-09\", \"amount\": 21768, \"place_in_line\": 403097227, \"price_per_pod\": 0.075, \"sort_date\": 599.0, \"sort_amount\": 1015.0, \"sort_place_in_line\": 829.0, \"sort_price_per_pod\": 719.0}, {\"date\": \"2022-04-09\", \"amount\": 61656, \"place_in_line\": 323131389, \"price_per_pod\": 0.06, \"sort_date\": 598.0, \"sort_amount\": 1284.0, \"sort_place_in_line\": 780.0, \"sort_price_per_pod\": 641.0}, {\"date\": \"2022-04-09\", \"amount\": 49538, \"place_in_line\": 441693260, \"price_per_pod\": 0.068, \"sort_date\": 597.0, \"sort_amount\": 1241.0, \"sort_place_in_line\": 859.0, \"sort_price_per_pod\": 690.0}, {\"date\": \"2022-04-09\", \"amount\": 7790, \"place_in_line\": 32825830, \"price_per_pod\": 0.9, \"sort_date\": 596.0, \"sort_amount\": 572.0, \"sort_place_in_line\": 114.0, \"sort_price_per_pod\": 1448.0}, {\"date\": \"2022-04-09\", \"amount\": 2166, \"place_in_line\": 47561305, \"price_per_pod\": 0.74, \"sort_date\": 595.0, \"sort_amount\": 224.0, \"sort_place_in_line\": 238.0, \"sort_price_per_pod\": 1328.0}, {\"date\": \"2022-04-09\", \"amount\": 2160, \"place_in_line\": 47563471, \"price_per_pod\": 0.74, \"sort_date\": 594.0, \"sort_amount\": 222.0, \"sort_place_in_line\": 240.0, \"sort_price_per_pod\": 1326.0}, {\"date\": \"2022-04-09\", \"amount\": 1598, \"place_in_line\": 41579051, \"price_per_pod\": 0.8, \"sort_date\": 593.0, \"sort_amount\": 182.0, \"sort_place_in_line\": 160.0, \"sort_price_per_pod\": 1374.0}, {\"date\": \"2022-04-10\", \"amount\": 10237, \"place_in_line\": 709788524, \"price_per_pod\": 0.029, \"sort_date\": 629.0, \"sort_amount\": 715.0, \"sort_place_in_line\": 1231.0, \"sort_price_per_pod\": 102.0}, {\"date\": \"2022-04-10\", \"amount\": 428, \"place_in_line\": 42888024, \"price_per_pod\": 0.75, \"sort_date\": 628.0, \"sort_amount\": 62.0, \"sort_place_in_line\": 189.0, \"sort_price_per_pod\": 1335.0}, {\"date\": \"2022-04-10\", \"amount\": 1241, \"place_in_line\": 137282998, \"price_per_pod\": 0.26, \"sort_date\": 627.0, \"sort_amount\": 149.0, \"sort_place_in_line\": 499.0, \"sort_price_per_pod\": 1047.0}, {\"date\": \"2022-04-10\", \"amount\": 5435, \"place_in_line\": 32833621, \"price_per_pod\": 0.9, \"sort_date\": 626.0, \"sort_amount\": 447.0, \"sort_place_in_line\": 115.0, \"sort_price_per_pod\": 1446.0}, {\"date\": \"2022-04-10\", \"amount\": 10098, \"place_in_line\": 276395162, \"price_per_pod\": 0.0047, \"sort_date\": 625.0, \"sort_amount\": 707.0, \"sort_place_in_line\": 701.0, \"sort_price_per_pod\": 4.0}, {\"date\": \"2022-04-10\", \"amount\": 8888, \"place_in_line\": 32839057, \"price_per_pod\": 0.9, \"sort_date\": 630.0, \"sort_amount\": 630.0, \"sort_place_in_line\": 116.0, \"sort_price_per_pod\": 1455.0}, {\"date\": \"2022-04-10\", \"amount\": 1712, \"place_in_line\": 32562193, \"price_per_pod\": 0.9, \"sort_date\": 623.0, \"sort_amount\": 196.0, \"sort_place_in_line\": 110.0, \"sort_price_per_pod\": 1452.0}, {\"date\": \"2022-04-10\", \"amount\": 8000, \"place_in_line\": 42888453, \"price_per_pod\": 0.75, \"sort_date\": 618.0, \"sort_amount\": 583.0, \"sort_place_in_line\": 190.0, \"sort_price_per_pod\": 1337.0}, {\"date\": \"2022-04-10\", \"amount\": 3137, \"place_in_line\": 32847946, \"price_per_pod\": 0.9, \"sort_date\": 622.0, \"sort_amount\": 295.0, \"sort_place_in_line\": 117.0, \"sort_price_per_pod\": 1447.0}, {\"date\": \"2022-04-10\", \"amount\": 376, \"place_in_line\": 47421517, \"price_per_pod\": 0.69, \"sort_date\": 621.0, \"sort_amount\": 55.0, \"sort_place_in_line\": 230.0, \"sort_price_per_pod\": 1303.0}, {\"date\": \"2022-04-10\", \"amount\": 135804, \"place_in_line\": 659059601, \"price_per_pod\": 0.055, \"sort_date\": 620.0, \"sort_amount\": 1410.0, \"sort_place_in_line\": 915.0, \"sort_price_per_pod\": 601.0}, {\"date\": \"2022-04-10\", \"amount\": 50000, \"place_in_line\": 47421894, \"price_per_pod\": 0.68, \"sort_date\": 619.0, \"sort_amount\": 1244.0, \"sort_place_in_line\": 231.0, \"sort_price_per_pod\": 1288.0}, {\"date\": \"2022-04-10\", \"amount\": 5887, \"place_in_line\": 47471894, \"price_per_pod\": 0.68, \"sort_date\": 624.0, \"sort_amount\": 473.0, \"sort_place_in_line\": 232.0, \"sort_price_per_pod\": 1285.0}, {\"date\": \"2022-04-11\", \"amount\": 3679, \"place_in_line\": 215055564, \"price_per_pod\": 0.07, \"sort_date\": 658.0, \"sort_amount\": 327.0, \"sort_place_in_line\": 605.0, \"sort_price_per_pod\": 698.0}, {\"date\": \"2022-04-11\", \"amount\": 2541, \"place_in_line\": 221825594, \"price_per_pod\": 0.07, \"sort_date\": 659.0, \"sort_amount\": 251.0, \"sort_place_in_line\": 624.0, \"sort_price_per_pod\": 699.0}, {\"date\": \"2022-04-11\", \"amount\": 287, \"place_in_line\": 211307962, \"price_per_pod\": 0.07, \"sort_date\": 660.0, \"sort_amount\": 39.0, \"sort_place_in_line\": 596.0, \"sort_price_per_pod\": 700.0}, {\"date\": \"2022-04-11\", \"amount\": 4380, \"place_in_line\": 383565939, \"price_per_pod\": 0.025, \"sort_date\": 668.0, \"sort_amount\": 377.0, \"sort_place_in_line\": 814.0, \"sort_price_per_pod\": 64.0}, {\"date\": \"2022-04-11\", \"amount\": 3384, \"place_in_line\": 48493965, \"price_per_pod\": 0.7, \"sort_date\": 661.0, \"sort_amount\": 309.0, \"sort_place_in_line\": 267.0, \"sort_price_per_pod\": 1315.0}, {\"date\": \"2022-04-11\", \"amount\": 1069, \"place_in_line\": 32955503, \"price_per_pod\": 0.9, \"sort_date\": 662.0, \"sort_amount\": 134.0, \"sort_place_in_line\": 119.0, \"sort_price_per_pod\": 1454.0}, {\"date\": \"2022-04-11\", \"amount\": 11277, \"place_in_line\": 94293396, \"price_per_pod\": 0.45, \"sort_date\": 663.0, \"sort_amount\": 755.0, \"sort_place_in_line\": 398.0, \"sort_price_per_pod\": 1131.0}, {\"date\": \"2022-04-11\", \"amount\": 31663, \"place_in_line\": 137284240, \"price_per_pod\": 0.26, \"sort_date\": 664.0, \"sort_amount\": 1125.0, \"sort_place_in_line\": 500.0, \"sort_price_per_pod\": 1046.0}, {\"date\": \"2022-04-11\", \"amount\": 36390, \"place_in_line\": 710635821, \"price_per_pod\": 0.029, \"sort_date\": 665.0, \"sort_amount\": 1162.0, \"sort_place_in_line\": 1253.0, \"sort_price_per_pod\": 103.0}, {\"date\": \"2022-04-11\", \"amount\": 32352, \"place_in_line\": 47477781, \"price_per_pod\": 0.68, \"sort_date\": 666.0, \"sort_amount\": 1131.0, \"sort_place_in_line\": 233.0, \"sort_price_per_pod\": 1286.0}, {\"date\": \"2022-04-11\", \"amount\": 12205, \"place_in_line\": 710785654, \"price_per_pod\": 0.029, \"sort_date\": 667.0, \"sort_amount\": 790.0, \"sort_place_in_line\": 1254.0, \"sort_price_per_pod\": 117.0}, {\"date\": \"2022-04-11\", \"amount\": 7377, \"place_in_line\": 709416427, \"price_per_pod\": 0.029, \"sort_date\": 671.0, \"sort_amount\": 556.0, \"sort_place_in_line\": 1207.0, \"sort_price_per_pod\": 115.0}, {\"date\": \"2022-04-11\", \"amount\": 11761, \"place_in_line\": 708280126, \"price_per_pod\": 0.03, \"sort_date\": 669.0, \"sort_amount\": 776.0, \"sort_place_in_line\": 1138.0, \"sort_price_per_pod\": 136.0}, {\"date\": \"2022-04-11\", \"amount\": 9799, \"place_in_line\": 708130960, \"price_per_pod\": 0.03, \"sort_date\": 678.0, \"sort_amount\": 681.0, \"sort_place_in_line\": 1129.0, \"sort_price_per_pod\": 143.0}, {\"date\": \"2022-04-11\", \"amount\": 8605, \"place_in_line\": 708043128, \"price_per_pod\": 0.03, \"sort_date\": 677.0, \"sort_amount\": 618.0, \"sort_place_in_line\": 1122.0, \"sort_price_per_pod\": 133.0}, {\"date\": \"2022-04-11\", \"amount\": 23748, \"place_in_line\": 710390043, \"price_per_pod\": 0.03, \"sort_date\": 676.0, \"sort_amount\": 1041.0, \"sort_place_in_line\": 1247.0, \"sort_price_per_pod\": 132.0}, {\"date\": \"2022-04-11\", \"amount\": 7534, \"place_in_line\": 710365381, \"price_per_pod\": 0.029, \"sort_date\": 675.0, \"sort_amount\": 564.0, \"sort_place_in_line\": 1244.0, \"sort_price_per_pod\": 109.0}, {\"date\": \"2022-04-11\", \"amount\": 22440, \"place_in_line\": 710342922, \"price_per_pod\": 0.03, \"sort_date\": 679.0, \"sort_amount\": 1028.0, \"sort_place_in_line\": 1243.0, \"sort_price_per_pod\": 145.0}, {\"date\": \"2022-04-11\", \"amount\": 21544, \"place_in_line\": 709758451, \"price_per_pod\": 0.031, \"sort_date\": 673.0, \"sort_amount\": 1010.0, \"sort_place_in_line\": 1230.0, \"sort_price_per_pod\": 287.0}, {\"date\": \"2022-04-11\", \"amount\": 14199, \"place_in_line\": 705745621, \"price_per_pod\": 0.031, \"sort_date\": 674.0, \"sort_amount\": 844.0, \"sort_place_in_line\": 1090.0, \"sort_price_per_pod\": 288.0}, {\"date\": \"2022-04-11\", \"amount\": 12249, \"place_in_line\": 705771520, \"price_per_pod\": 0.031, \"sort_date\": 672.0, \"sort_amount\": 792.0, \"sort_place_in_line\": 1091.0, \"sort_price_per_pod\": 290.0}, {\"date\": \"2022-04-11\", \"amount\": 11688, \"place_in_line\": 709163494, \"price_per_pod\": 0.03, \"sort_date\": 670.0, \"sort_amount\": 774.0, \"sort_place_in_line\": 1193.0, \"sort_price_per_pod\": 163.0}, {\"date\": \"2022-04-11\", \"amount\": 10357, \"place_in_line\": 709362566, \"price_per_pod\": 0.03, \"sort_date\": 655.0, \"sort_amount\": 718.0, \"sort_place_in_line\": 1202.0, \"sort_price_per_pod\": 156.0}, {\"date\": \"2022-04-11\", \"amount\": 10268, \"place_in_line\": 709146555, \"price_per_pod\": 0.03, \"sort_date\": 656.0, \"sort_amount\": 717.0, \"sort_place_in_line\": 1192.0, \"sort_price_per_pod\": 157.0}, {\"date\": \"2022-04-11\", \"amount\": 10150, \"place_in_line\": 709879411, \"price_per_pod\": 0.03, \"sort_date\": 657.0, \"sort_amount\": 710.0, \"sort_place_in_line\": 1233.0, \"sort_price_per_pod\": 160.0}, {\"date\": \"2022-04-11\", \"amount\": 11667, \"place_in_line\": 710822838, \"price_per_pod\": 0.0305, \"sort_date\": 654.0, \"sort_amount\": 773.0, \"sort_place_in_line\": 1255.0, \"sort_price_per_pod\": 225.0}, {\"date\": \"2022-04-11\", \"amount\": 6063, \"place_in_line\": 709400057, \"price_per_pod\": 0.029, \"sort_date\": 639.0, \"sort_amount\": 484.0, \"sort_place_in_line\": 1206.0, \"sort_price_per_pod\": 114.0}, {\"date\": \"2022-04-11\", \"amount\": 9285, \"place_in_line\": 708295349, \"price_per_pod\": 0.03, \"sort_date\": 638.0, \"sort_amount\": 657.0, \"sort_place_in_line\": 1139.0, \"sort_price_per_pod\": 161.0}, {\"date\": \"2022-04-11\", \"amount\": 9601, \"place_in_line\": 705300848, \"price_per_pod\": 0.03, \"sort_date\": 637.0, \"sort_amount\": 674.0, \"sort_place_in_line\": 1059.0, \"sort_price_per_pod\": 162.0}, {\"date\": \"2022-04-11\", \"amount\": 8952, \"place_in_line\": 709391104, \"price_per_pod\": 0.03, \"sort_date\": 635.0, \"sort_amount\": 634.0, \"sort_place_in_line\": 1205.0, \"sort_price_per_pod\": 146.0}, {\"date\": \"2022-04-11\", \"amount\": 8111, \"place_in_line\": 708656471, \"price_per_pod\": 0.03, \"sort_date\": 640.0, \"sort_amount\": 594.0, \"sort_place_in_line\": 1168.0, \"sort_price_per_pod\": 135.0}, {\"date\": \"2022-04-11\", \"amount\": 10138, \"place_in_line\": 42896453, \"price_per_pod\": 0.75, \"sort_date\": 634.0, \"sort_amount\": 709.0, \"sort_place_in_line\": 191.0, \"sort_price_per_pod\": 1334.0}, {\"date\": \"2022-04-11\", \"amount\": 8956, \"place_in_line\": 708664583, \"price_per_pod\": 0.029, \"sort_date\": 633.0, \"sort_amount\": 638.0, \"sort_place_in_line\": 1169.0, \"sort_price_per_pod\": 112.0}, {\"date\": \"2022-04-11\", \"amount\": 27103, \"place_in_line\": 117206229, \"price_per_pod\": 0.2, \"sort_date\": 632.0, \"sort_amount\": 1081.0, \"sort_place_in_line\": 429.0, \"sort_price_per_pod\": 972.0}, {\"date\": \"2022-04-11\", \"amount\": 7896, \"place_in_line\": 133657386, \"price_per_pod\": 0.2, \"sort_date\": 631.0, \"sort_amount\": 578.0, \"sort_place_in_line\": 461.0, \"sort_price_per_pod\": 973.0}, {\"date\": \"2022-04-11\", \"amount\": 77355, \"place_in_line\": 225413555, \"price_per_pod\": 0.16, \"sort_date\": 636.0, \"sort_amount\": 1324.0, \"sort_place_in_line\": 627.0, \"sort_price_per_pod\": 928.0}, {\"date\": \"2022-04-11\", \"amount\": 103299, \"place_in_line\": 360158682, \"price_per_pod\": 0.094, \"sort_date\": 641.0, \"sort_amount\": 1382.0, \"sort_place_in_line\": 800.0, \"sort_price_per_pod\": 779.0}, {\"date\": \"2022-04-11\", \"amount\": 61656, \"place_in_line\": 323131389, \"price_per_pod\": 0.1, \"sort_date\": 653.0, \"sort_amount\": 1285.0, \"sort_place_in_line\": 783.0, \"sort_price_per_pod\": 813.0}, {\"date\": \"2022-04-11\", \"amount\": 96553, \"place_in_line\": 360752435, \"price_per_pod\": 0.094, \"sort_date\": 643.0, \"sort_amount\": 1366.0, \"sort_place_in_line\": 801.0, \"sort_price_per_pod\": 780.0}, {\"date\": \"2022-04-11\", \"amount\": 42326, \"place_in_line\": 401959009, \"price_per_pod\": 0.09, \"sort_date\": 642.0, \"sort_amount\": 1207.0, \"sort_place_in_line\": 827.0, \"sort_price_per_pod\": 777.0}, {\"date\": \"2022-04-11\", \"amount\": 53919, \"place_in_line\": 402764778, \"price_per_pod\": 0.09, \"sort_date\": 644.0, \"sort_amount\": 1261.0, \"sort_place_in_line\": 828.0, \"sort_price_per_pod\": 776.0}, {\"date\": \"2022-04-11\", \"amount\": 17007, \"place_in_line\": 403118995, \"price_per_pod\": 0.075, \"sort_date\": 645.0, \"sort_amount\": 907.0, \"sort_place_in_line\": 831.0, \"sort_price_per_pod\": 716.0}, {\"date\": \"2022-04-11\", \"amount\": 56782, \"place_in_line\": 404743790, \"price_per_pod\": 0.09, \"sort_date\": 646.0, \"sort_amount\": 1268.0, \"sort_place_in_line\": 833.0, \"sort_price_per_pod\": 767.0}, {\"date\": \"2022-04-11\", \"amount\": 11383, \"place_in_line\": 47510134, \"price_per_pod\": 0.68, \"sort_date\": 647.0, \"sort_amount\": 761.0, \"sort_place_in_line\": 234.0, \"sort_price_per_pod\": 1287.0}, {\"date\": \"2022-04-11\", \"amount\": 7329, \"place_in_line\": 137344991, \"price_per_pod\": 0.3, \"sort_date\": 648.0, \"sort_amount\": 552.0, \"sort_place_in_line\": 508.0, \"sort_price_per_pod\": 1072.0}, {\"date\": \"2022-04-11\", \"amount\": 15004, \"place_in_line\": 708568373, \"price_per_pod\": 0.03, \"sort_date\": 649.0, \"sort_amount\": 860.0, \"sort_place_in_line\": 1161.0, \"sort_price_per_pod\": 138.0}, {\"date\": \"2022-04-11\", \"amount\": 30312, \"place_in_line\": 47321517, \"price_per_pod\": 0.69, \"sort_date\": 650.0, \"sort_amount\": 1118.0, \"sort_place_in_line\": 228.0, \"sort_price_per_pod\": 1297.0}, {\"date\": \"2022-04-11\", \"amount\": 26072, \"place_in_line\": 66034079, \"price_per_pod\": 0.89, \"sort_date\": 651.0, \"sort_amount\": 1069.0, \"sort_place_in_line\": 321.0, \"sort_price_per_pod\": 1442.0}, {\"date\": \"2022-04-11\", \"amount\": 9748, \"place_in_line\": 708517643, \"price_per_pod\": 0.03, \"sort_date\": 652.0, \"sort_amount\": 677.0, \"sort_place_in_line\": 1156.0, \"sort_price_per_pod\": 139.0}, {\"date\": \"2022-04-12\", \"amount\": 84842, \"place_in_line\": 228686945, \"price_per_pod\": 0.18, \"sort_date\": 770.0, \"sort_amount\": 1343.0, \"sort_place_in_line\": 629.0, \"sort_price_per_pod\": 949.0}, {\"date\": \"2022-04-12\", \"amount\": 18253, \"place_in_line\": 221807340, \"price_per_pod\": 0.18, \"sort_date\": 771.0, \"sort_amount\": 934.0, \"sort_place_in_line\": 623.0, \"sort_price_per_pod\": 948.0}, {\"date\": \"2022-04-12\", \"amount\": 10461, \"place_in_line\": 441742798, \"price_per_pod\": 0.068, \"sort_date\": 772.0, \"sort_amount\": 723.0, \"sort_place_in_line\": 860.0, \"sort_price_per_pod\": 689.0}, {\"date\": \"2022-04-12\", \"amount\": 16235, \"place_in_line\": 446779863, \"price_per_pod\": 0.075, \"sort_date\": 773.0, \"sort_amount\": 889.0, \"sort_place_in_line\": 861.0, \"sort_price_per_pod\": 717.0}, {\"date\": \"2022-04-12\", \"amount\": 12500, \"place_in_line\": 274436143, \"price_per_pod\": 0.12, \"sort_date\": 774.0, \"sort_amount\": 797.0, \"sort_place_in_line\": 694.0, \"sort_price_per_pod\": 838.0}, {\"date\": \"2022-04-12\", \"amount\": 76085, \"place_in_line\": 42906591, \"price_per_pod\": 0.75, \"sort_date\": 786.0, \"sort_amount\": 1323.0, \"sort_place_in_line\": 192.0, \"sort_price_per_pod\": 1353.0}, {\"date\": \"2022-04-12\", \"amount\": 69687, \"place_in_line\": 47351830, \"price_per_pod\": 0.69, \"sort_date\": 775.0, \"sort_amount\": 1303.0, \"sort_place_in_line\": 229.0, \"sort_price_per_pod\": 1300.0}, {\"date\": \"2022-04-12\", \"amount\": 94264, \"place_in_line\": 704463555, \"price_per_pod\": 0.049, \"sort_date\": 777.0, \"sort_amount\": 1363.0, \"sort_place_in_line\": 1035.0, \"sort_price_per_pod\": 500.0}, {\"date\": \"2022-04-12\", \"amount\": 117747, \"place_in_line\": 704557819, \"price_per_pod\": 0.049, \"sort_date\": 784.0, \"sort_amount\": 1394.0, \"sort_place_in_line\": 1036.0, \"sort_price_per_pod\": 501.0}, {\"date\": \"2022-04-12\", \"amount\": 16988, \"place_in_line\": 274448643, \"price_per_pod\": 0.12, \"sort_date\": 778.0, \"sort_amount\": 905.0, \"sort_place_in_line\": 695.0, \"sort_price_per_pod\": 847.0}, {\"date\": \"2022-04-12\", \"amount\": 50268, \"place_in_line\": 265200621, \"price_per_pod\": 0.15, \"sort_date\": 779.0, \"sort_amount\": 1250.0, \"sort_place_in_line\": 679.0, \"sort_price_per_pod\": 899.0}, {\"date\": \"2022-04-12\", \"amount\": 35213, \"place_in_line\": 331560641, \"price_per_pod\": 0.14, \"sort_date\": 780.0, \"sort_amount\": 1157.0, \"sort_place_in_line\": 791.0, \"sort_price_per_pod\": 867.0}, {\"date\": \"2022-04-12\", \"amount\": 14981, \"place_in_line\": 211471591, \"price_per_pod\": 0.209, \"sort_date\": 781.0, \"sort_amount\": 857.0, \"sort_place_in_line\": 597.0, \"sort_price_per_pod\": 989.0}, {\"date\": \"2022-04-12\", \"amount\": 6700, \"place_in_line\": 42983135, \"price_per_pod\": 0.75, \"sort_date\": 782.0, \"sort_amount\": 525.0, \"sort_place_in_line\": 194.0, \"sort_price_per_pod\": 1346.0}, {\"date\": \"2022-04-12\", \"amount\": 8000, \"place_in_line\": 42989835, \"price_per_pod\": 0.75, \"sort_date\": 783.0, \"sort_amount\": 584.0, \"sort_place_in_line\": 195.0, \"sort_price_per_pod\": 1345.0}, {\"date\": \"2022-04-12\", \"amount\": 50000, \"place_in_line\": 711528414, \"price_per_pod\": 0.03, \"sort_date\": 769.0, \"sort_amount\": 1246.0, \"sort_place_in_line\": 1264.0, \"sort_price_per_pod\": 140.0}, {\"date\": \"2022-04-12\", \"amount\": 4502, \"place_in_line\": 707919740, \"price_per_pod\": 0.029, \"sort_date\": 776.0, \"sort_amount\": 390.0, \"sort_place_in_line\": 1111.0, \"sort_price_per_pod\": 116.0}, {\"date\": \"2022-04-12\", \"amount\": 5027, \"place_in_line\": 708651444, \"price_per_pod\": 0.029, \"sort_date\": 768.0, \"sort_amount\": 434.0, \"sort_place_in_line\": 1167.0, \"sort_price_per_pod\": 119.0}, {\"date\": \"2022-04-12\", \"amount\": 6826, \"place_in_line\": 708691820, \"price_per_pod\": 0.029, \"sort_date\": 758.0, \"sort_amount\": 529.0, \"sort_place_in_line\": 1172.0, \"sort_price_per_pod\": 125.0}, {\"date\": \"2022-04-12\", \"amount\": 9096, \"place_in_line\": 709870314, \"price_per_pod\": 0.029, \"sort_date\": 752.0, \"sort_amount\": 651.0, \"sort_place_in_line\": 1232.0, \"sort_price_per_pod\": 120.0}, {\"date\": \"2022-04-12\", \"amount\": 10429, \"place_in_line\": 710834506, \"price_per_pod\": 0.029, \"sort_date\": 753.0, \"sort_amount\": 720.0, \"sort_place_in_line\": 1256.0, \"sort_price_per_pod\": 121.0}, {\"date\": \"2022-04-12\", \"amount\": 41084, \"place_in_line\": 709977485, \"price_per_pod\": 0.032, \"sort_date\": 754.0, \"sort_amount\": 1195.0, \"sort_place_in_line\": 1238.0, \"sort_price_per_pod\": 307.0}, {\"date\": \"2022-04-12\", \"amount\": 39224, \"place_in_line\": 711196004, \"price_per_pod\": 0.03, \"sort_date\": 755.0, \"sort_amount\": 1180.0, \"sort_place_in_line\": 1260.0, \"sort_price_per_pod\": 166.0}, {\"date\": \"2022-04-12\", \"amount\": 50659, \"place_in_line\": 711627994, \"price_per_pod\": 0.03, \"sort_date\": 756.0, \"sort_amount\": 1253.0, \"sort_place_in_line\": 1266.0, \"sort_price_per_pod\": 186.0}, {\"date\": \"2022-04-12\", \"amount\": 60485, \"place_in_line\": 711718808, \"price_per_pod\": 0.03, \"sort_date\": 757.0, \"sort_amount\": 1278.0, \"sort_place_in_line\": 1268.0, \"sort_price_per_pod\": 188.0}, {\"date\": \"2022-04-12\", \"amount\": 952, \"place_in_line\": 33697972, \"price_per_pod\": 0.93, \"sort_date\": 759.0, \"sort_amount\": 118.0, \"sort_place_in_line\": 122.0, \"sort_price_per_pod\": 1479.0}, {\"date\": \"2022-04-12\", \"amount\": 33581, \"place_in_line\": 710494268, \"price_per_pod\": 0.031, \"sort_date\": 766.0, \"sort_amount\": 1142.0, \"sort_place_in_line\": 1252.0, \"sort_price_per_pod\": 275.0}, {\"date\": \"2022-04-12\", \"amount\": 21205, \"place_in_line\": 708418722, \"price_per_pod\": 0.03, \"sort_date\": 760.0, \"sort_amount\": 1007.0, \"sort_place_in_line\": 1150.0, \"sort_price_per_pod\": 192.0}, {\"date\": \"2022-04-12\", \"amount\": 15181, \"place_in_line\": 705730439, \"price_per_pod\": 0.032, \"sort_date\": 761.0, \"sort_amount\": 865.0, \"sort_place_in_line\": 1089.0, \"sort_price_per_pod\": 294.0}, {\"date\": \"2022-04-12\", \"amount\": 15852, \"place_in_line\": 708402870, \"price_per_pod\": 0.03, \"sort_date\": 762.0, \"sort_amount\": 882.0, \"sort_place_in_line\": 1149.0, \"sort_price_per_pod\": 194.0}, {\"date\": \"2022-04-12\", \"amount\": 10074, \"place_in_line\": 708490332, \"price_per_pod\": 0.03, \"sort_date\": 763.0, \"sort_amount\": 704.0, \"sort_place_in_line\": 1154.0, \"sort_price_per_pod\": 195.0}, {\"date\": \"2022-04-12\", \"amount\": 8173, \"place_in_line\": 709702070, \"price_per_pod\": 0.029, \"sort_date\": 764.0, \"sort_amount\": 598.0, \"sort_place_in_line\": 1225.0, \"sort_price_per_pod\": 99.0}, {\"date\": \"2022-04-12\", \"amount\": 9033, \"place_in_line\": 708545172, \"price_per_pod\": 0.03, \"sort_date\": 765.0, \"sort_amount\": 645.0, \"sort_place_in_line\": 1159.0, \"sort_price_per_pod\": 196.0}, {\"date\": \"2022-04-12\", \"amount\": 7345, \"place_in_line\": 708709415, \"price_per_pod\": 0.03, \"sort_date\": 767.0, \"sort_amount\": 555.0, \"sort_place_in_line\": 1174.0, \"sort_price_per_pod\": 197.0}, {\"date\": \"2022-04-12\", \"amount\": 4909, \"place_in_line\": 93005074, \"price_per_pod\": 0.475, \"sort_date\": 785.0, \"sort_amount\": 417.0, \"sort_place_in_line\": 365.0, \"sort_price_per_pod\": 1134.0}, {\"date\": \"2022-04-12\", \"amount\": 67704, \"place_in_line\": 704675567, \"price_per_pod\": 0.049, \"sort_date\": 801.0, \"sort_amount\": 1300.0, \"sort_place_in_line\": 1037.0, \"sort_price_per_pod\": 503.0}, {\"date\": \"2022-04-12\", \"amount\": 3385, \"place_in_line\": 41580649, \"price_per_pod\": 0.8, \"sort_date\": 787.0, \"sort_amount\": 310.0, \"sort_place_in_line\": 164.0, \"sort_price_per_pod\": 1370.0}, {\"date\": \"2022-04-12\", \"amount\": 12762, \"place_in_line\": 41584034, \"price_per_pod\": 0.8, \"sort_date\": 817.0, \"sort_amount\": 811.0, \"sort_place_in_line\": 165.0, \"sort_price_per_pod\": 1373.0}, {\"date\": \"2022-04-12\", \"amount\": 555, \"place_in_line\": 404800573, \"price_per_pod\": 0.09, \"sort_date\": 807.0, \"sort_amount\": 84.0, \"sort_place_in_line\": 834.0, \"sort_price_per_pod\": 753.0}, {\"date\": \"2022-04-12\", \"amount\": 6052, \"place_in_line\": 41596797, \"price_per_pod\": 0.8, \"sort_date\": 812.0, \"sort_amount\": 483.0, \"sort_place_in_line\": 166.0, \"sort_price_per_pod\": 1372.0}, {\"date\": \"2022-04-12\", \"amount\": 1488, \"place_in_line\": 41602849, \"price_per_pod\": 0.8, \"sort_date\": 808.0, \"sort_amount\": 168.0, \"sort_place_in_line\": 167.0, \"sort_price_per_pod\": 1378.0}, {\"date\": \"2022-04-12\", \"amount\": 4110, \"place_in_line\": 42997835, \"price_per_pod\": 0.77, \"sort_date\": 809.0, \"sort_amount\": 359.0, \"sort_place_in_line\": 196.0, \"sort_price_per_pod\": 1357.0}, {\"date\": \"2022-04-12\", \"amount\": 80731, \"place_in_line\": 43001945, \"price_per_pod\": 0.77, \"sort_date\": 810.0, \"sort_amount\": 1331.0, \"sort_place_in_line\": 197.0, \"sort_price_per_pod\": 1356.0}, {\"date\": \"2022-04-12\", \"amount\": 41102, \"place_in_line\": 41604338, \"price_per_pod\": 0.8, \"sort_date\": 811.0, \"sort_amount\": 1196.0, \"sort_place_in_line\": 168.0, \"sort_price_per_pod\": 1366.0}, {\"date\": \"2022-04-12\", \"amount\": 100000, \"place_in_line\": 42171298, \"price_per_pod\": 0.8, \"sort_date\": 815.0, \"sort_amount\": 1377.0, \"sort_place_in_line\": 169.0, \"sort_price_per_pod\": 1367.0}, {\"date\": \"2022-04-12\", \"amount\": 5841, \"place_in_line\": 298378540, \"price_per_pod\": 0.15, \"sort_date\": 813.0, \"sort_amount\": 471.0, \"sort_place_in_line\": 750.0, \"sort_price_per_pod\": 898.0}, {\"date\": \"2022-04-12\", \"amount\": 2271, \"place_in_line\": 93009983, \"price_per_pod\": 0.475, \"sort_date\": 819.0, \"sort_amount\": 229.0, \"sort_place_in_line\": 367.0, \"sort_price_per_pod\": 1133.0}, {\"date\": \"2022-04-12\", \"amount\": 3405, \"place_in_line\": 707764396, \"price_per_pod\": 0.031, \"sort_date\": 818.0, \"sort_amount\": 311.0, \"sort_place_in_line\": 1098.0, \"sort_price_per_pod\": 272.0}, {\"date\": \"2022-04-12\", \"amount\": 1213, \"place_in_line\": 707742863, \"price_per_pod\": 0.031, \"sort_date\": 820.0, \"sort_amount\": 146.0, \"sort_place_in_line\": 1095.0, \"sort_price_per_pod\": 269.0}, {\"date\": \"2022-04-12\", \"amount\": 3556, \"place_in_line\": 705391462, \"price_per_pod\": 0.031, \"sort_date\": 816.0, \"sort_amount\": 316.0, \"sort_place_in_line\": 1067.0, \"sort_price_per_pod\": 266.0}, {\"date\": \"2022-04-12\", \"amount\": 5707, \"place_in_line\": 709666192, \"price_per_pod\": 0.031, \"sort_date\": 814.0, \"sort_amount\": 464.0, \"sort_place_in_line\": 1221.0, \"sort_price_per_pod\": 265.0}, {\"date\": \"2022-04-12\", \"amount\": 6654, \"place_in_line\": 709671899, \"price_per_pod\": 0.031, \"sort_date\": 805.0, \"sort_amount\": 516.0, \"sort_place_in_line\": 1222.0, \"sort_price_per_pod\": 264.0}, {\"date\": \"2022-04-12\", \"amount\": 6581, \"place_in_line\": 707744077, \"price_per_pod\": 0.031, \"sort_date\": 806.0, \"sort_amount\": 514.0, \"sort_place_in_line\": 1096.0, \"sort_price_per_pod\": 263.0}, {\"date\": \"2022-04-12\", \"amount\": 4990, \"place_in_line\": 704205655, \"price_per_pod\": 0.031, \"sort_date\": 803.0, \"sort_amount\": 426.0, \"sort_place_in_line\": 1030.0, \"sort_price_per_pod\": 262.0}, {\"date\": \"2022-04-12\", \"amount\": 9785, \"place_in_line\": 709678554, \"price_per_pod\": 0.031, \"sort_date\": 794.0, \"sort_amount\": 679.0, \"sort_place_in_line\": 1223.0, \"sort_price_per_pod\": 261.0}, {\"date\": \"2022-04-12\", \"amount\": 45464, \"place_in_line\": 33698925, \"price_per_pod\": 0.93, \"sort_date\": 788.0, \"sort_amount\": 1230.0, \"sort_place_in_line\": 123.0, \"sort_price_per_pod\": 1475.0}, {\"date\": \"2022-04-12\", \"amount\": 50046, \"place_in_line\": 262916671, \"price_per_pod\": 0.2, \"sort_date\": 789.0, \"sort_amount\": 1248.0, \"sort_place_in_line\": 678.0, \"sort_price_per_pod\": 985.0}, {\"date\": \"2022-04-12\", \"amount\": 1857, \"place_in_line\": 711348151, \"price_per_pod\": 0.031, \"sort_date\": 790.0, \"sort_amount\": 201.0, \"sort_place_in_line\": 1263.0, \"sort_price_per_pod\": 260.0}, {\"date\": \"2022-04-12\", \"amount\": 22243, \"place_in_line\": 209232169, \"price_per_pod\": 0.22, \"sort_date\": 791.0, \"sort_amount\": 1023.0, \"sort_place_in_line\": 595.0, \"sort_price_per_pod\": 997.0}, {\"date\": \"2022-04-12\", \"amount\": 37360, \"place_in_line\": 265200621, \"price_per_pod\": 0.19, \"sort_date\": 792.0, \"sort_amount\": 1168.0, \"sort_place_in_line\": 680.0, \"sort_price_per_pod\": 955.0}, {\"date\": \"2022-04-12\", \"amount\": 10898, \"place_in_line\": 66060152, \"price_per_pod\": 0.6, \"sort_date\": 793.0, \"sort_amount\": 739.0, \"sort_place_in_line\": 322.0, \"sort_price_per_pod\": 1255.0}, {\"date\": \"2022-04-12\", \"amount\": 23976, \"place_in_line\": 36846381, \"price_per_pod\": 0.9, \"sort_date\": 795.0, \"sort_amount\": 1045.0, \"sort_place_in_line\": 145.0, \"sort_price_per_pod\": 1457.0}, {\"date\": \"2022-04-12\", \"amount\": 10845, \"place_in_line\": 36870358, \"price_per_pod\": 0.9, \"sort_date\": 802.0, \"sort_amount\": 737.0, \"sort_place_in_line\": 146.0, \"sort_price_per_pod\": 1456.0}, {\"date\": \"2022-04-12\", \"amount\": 17984, \"place_in_line\": 708175718, \"price_per_pod\": 0.03, \"sort_date\": 796.0, \"sort_amount\": 930.0, \"sort_place_in_line\": 1133.0, \"sort_price_per_pod\": 184.0}, {\"date\": \"2022-04-12\", \"amount\": 100, \"place_in_line\": 41579051, \"price_per_pod\": 0.9, \"sort_date\": 797.0, \"sort_amount\": 21.0, \"sort_place_in_line\": 161.0, \"sort_price_per_pod\": 1461.0}, {\"date\": \"2022-04-12\", \"amount\": 8161, \"place_in_line\": 705261555, \"price_per_pod\": 0.031, \"sort_date\": 798.0, \"sort_amount\": 597.0, \"sort_place_in_line\": 1057.0, \"sort_price_per_pod\": 258.0}, {\"date\": \"2022-04-12\", \"amount\": 4143, \"place_in_line\": 46885874, \"price_per_pod\": 0.79, \"sort_date\": 804.0, \"sort_amount\": 360.0, \"sort_place_in_line\": 227.0, \"sort_price_per_pod\": 1363.0}, {\"date\": \"2022-04-12\", \"amount\": 4423, \"place_in_line\": 47565632, \"price_per_pod\": 0.74, \"sort_date\": 799.0, \"sort_amount\": 382.0, \"sort_place_in_line\": 244.0, \"sort_price_per_pod\": 1332.0}, {\"date\": \"2022-04-12\", \"amount\": 15352, \"place_in_line\": 708018123, \"price_per_pod\": 0.03, \"sort_date\": 751.0, \"sort_amount\": 868.0, \"sort_place_in_line\": 1121.0, \"sort_price_per_pod\": 173.0}, {\"date\": \"2022-04-12\", \"amount\": 16711, \"place_in_line\": 708304635, \"price_per_pod\": 0.03, \"sort_date\": 800.0, \"sort_amount\": 899.0, \"sort_place_in_line\": 1140.0, \"sort_price_per_pod\": 180.0}, {\"date\": \"2022-04-12\", \"amount\": 17103, \"place_in_line\": 708367435, \"price_per_pod\": 0.03, \"sort_date\": 749.0, \"sort_amount\": 909.0, \"sort_place_in_line\": 1146.0, \"sort_price_per_pod\": 200.0}, {\"date\": \"2022-04-12\", \"amount\": 30073, \"place_in_line\": 711279024, \"price_per_pod\": 0.03, \"sort_date\": 729.0, \"sort_amount\": 1110.0, \"sort_place_in_line\": 1262.0, \"sort_price_per_pod\": 165.0}, {\"date\": \"2022-04-12\", \"amount\": 18406, \"place_in_line\": 708157311, \"price_per_pod\": 0.03, \"sort_date\": 750.0, \"sort_amount\": 939.0, \"sort_place_in_line\": 1131.0, \"sort_price_per_pod\": 202.0}, {\"date\": \"2022-04-12\", \"amount\": 10238, \"place_in_line\": 47633593, \"price_per_pod\": 0.78, \"sort_date\": 697.0, \"sort_amount\": 716.0, \"sort_place_in_line\": 250.0, \"sort_price_per_pod\": 1358.0}, {\"date\": \"2022-04-12\", \"amount\": 1249, \"place_in_line\": 47570055, \"price_per_pod\": 0.74, \"sort_date\": 698.0, \"sort_amount\": 150.0, \"sort_place_in_line\": 245.0, \"sort_price_per_pod\": 1327.0}, {\"date\": \"2022-04-12\", \"amount\": 105079, \"place_in_line\": 712749505, \"price_per_pod\": 0.03, \"sort_date\": 699.0, \"sort_amount\": 1385.0, \"sort_place_in_line\": 1273.0, \"sort_price_per_pod\": 179.0}, {\"date\": \"2022-04-12\", \"amount\": 130210, \"place_in_line\": 712856258, \"price_per_pod\": 0.031, \"sort_date\": 700.0, \"sort_amount\": 1403.0, \"sort_place_in_line\": 1274.0, \"sort_price_per_pod\": 256.0}, {\"date\": \"2022-04-12\", \"amount\": 18606, \"place_in_line\": 711260418, \"price_per_pod\": 0.03, \"sort_date\": 701.0, \"sort_amount\": 942.0, \"sort_place_in_line\": 1261.0, \"sort_price_per_pod\": 178.0}, {\"date\": \"2022-04-12\", \"amount\": 23670, \"place_in_line\": 710903226, \"price_per_pod\": 0.03, \"sort_date\": 695.0, \"sort_amount\": 1040.0, \"sort_place_in_line\": 1259.0, \"sort_price_per_pod\": 177.0}, {\"date\": \"2022-04-12\", \"amount\": 33400, \"place_in_line\": 710460867, \"price_per_pod\": 0.031, \"sort_date\": 703.0, \"sort_amount\": 1139.0, \"sort_place_in_line\": 1251.0, \"sort_price_per_pod\": 228.0}, {\"date\": \"2022-04-12\", \"amount\": 10944, \"place_in_line\": 705821777, \"price_per_pod\": 0.031, \"sort_date\": 704.0, \"sort_amount\": 741.0, \"sort_place_in_line\": 1092.0, \"sort_price_per_pod\": 247.0}, {\"date\": \"2022-04-12\", \"amount\": 16250, \"place_in_line\": 710844935, \"price_per_pod\": 0.03, \"sort_date\": 705.0, \"sort_amount\": 892.0, \"sort_place_in_line\": 1257.0, \"sort_price_per_pod\": 176.0}, {\"date\": \"2022-04-12\", \"amount\": 10087, \"place_in_line\": 705425628, \"price_per_pod\": 0.031, \"sort_date\": 706.0, \"sort_amount\": 705.0, \"sort_place_in_line\": 1069.0, \"sort_price_per_pod\": 250.0}, {\"date\": \"2022-04-12\", \"amount\": 8465, \"place_in_line\": 705329714, \"price_per_pod\": 0.031, \"sort_date\": 707.0, \"sort_amount\": 612.0, \"sort_place_in_line\": 1061.0, \"sort_price_per_pod\": 282.0}, {\"date\": \"2022-04-12\", \"amount\": 8462, \"place_in_line\": 705338392, \"price_per_pod\": 0.031, \"sort_date\": 708.0, \"sort_amount\": 611.0, \"sort_place_in_line\": 1062.0, \"sort_price_per_pod\": 248.0}, {\"date\": \"2022-04-12\", \"amount\": 16552, \"place_in_line\": 708140759, \"price_per_pod\": 0.03, \"sort_date\": 709.0, \"sort_amount\": 893.0, \"sort_place_in_line\": 1130.0, \"sort_price_per_pod\": 175.0}, {\"date\": \"2022-04-12\", \"amount\": 12655, \"place_in_line\": 708051734, \"price_per_pod\": 0.03, \"sort_date\": 710.0, \"sort_amount\": 806.0, \"sort_place_in_line\": 1123.0, \"sort_price_per_pod\": 181.0}, {\"date\": \"2022-04-12\", \"amount\": 13680, \"place_in_line\": 708081968, \"price_per_pod\": 0.03, \"sort_date\": 711.0, \"sort_amount\": 831.0, \"sort_place_in_line\": 1125.0, \"sort_price_per_pod\": 174.0}, {\"date\": \"2022-04-12\", \"amount\": 35590, \"place_in_line\": 513181895, \"price_per_pod\": 0.065, \"sort_date\": 696.0, \"sort_amount\": 1159.0, \"sort_place_in_line\": 887.0, \"sort_price_per_pod\": 675.0}, {\"date\": \"2022-04-12\", \"amount\": 8641, \"place_in_line\": 707750658, \"price_per_pod\": 0.031, \"sort_date\": 712.0, \"sort_amount\": 621.0, \"sort_place_in_line\": 1097.0, \"sort_price_per_pod\": 246.0}, {\"date\": \"2022-04-12\", \"amount\": 29049, \"place_in_line\": 710431818, \"price_per_pod\": 0.031, \"sort_date\": 694.0, \"sort_amount\": 1095.0, \"sort_place_in_line\": 1248.0, \"sort_price_per_pod\": 229.0}, {\"date\": \"2022-04-12\", \"amount\": 14065, \"place_in_line\": 203059138, \"price_per_pod\": 0.25, \"sort_date\": 692.0, \"sort_amount\": 839.0, \"sort_place_in_line\": 587.0, \"sort_price_per_pod\": 1040.0}, {\"date\": \"2022-04-12\", \"amount\": 6681, \"place_in_line\": 707842595, \"price_per_pod\": 0.03, \"sort_date\": 680.0, \"sort_amount\": 524.0, \"sort_place_in_line\": 1102.0, \"sort_price_per_pod\": 172.0}, {\"date\": \"2022-04-12\", \"amount\": 4541, \"place_in_line\": 708334042, \"price_per_pod\": 0.031, \"sort_date\": 682.0, \"sort_amount\": 392.0, \"sort_place_in_line\": 1143.0, \"sort_price_per_pod\": 227.0}, {\"date\": \"2022-04-12\", \"amount\": 4154, \"place_in_line\": 708486177, \"price_per_pod\": 0.031, \"sort_date\": 683.0, \"sort_amount\": 361.0, \"sort_place_in_line\": 1153.0, \"sort_price_per_pod\": 251.0}, {\"date\": \"2022-04-12\", \"amount\": 4491, \"place_in_line\": 708583377, \"price_per_pod\": 0.03, \"sort_date\": 684.0, \"sort_amount\": 388.0, \"sort_place_in_line\": 1162.0, \"sort_price_per_pod\": 171.0}, {\"date\": \"2022-04-12\", \"amount\": 8096, \"place_in_line\": 705488811, \"price_per_pod\": 0.031, \"sort_date\": 681.0, \"sort_amount\": 593.0, \"sort_place_in_line\": 1073.0, \"sort_price_per_pod\": 278.0}, {\"date\": \"2022-04-12\", \"amount\": 7279, \"place_in_line\": 704919725, \"price_per_pod\": 0.035, \"sort_date\": 685.0, \"sort_amount\": 546.0, \"sort_place_in_line\": 1039.0, \"sort_price_per_pod\": 355.0}, {\"date\": \"2022-04-12\", \"amount\": 7056, \"place_in_line\": 705704703, \"price_per_pod\": 0.031, \"sort_date\": 693.0, \"sort_amount\": 540.0, \"sort_place_in_line\": 1086.0, \"sort_price_per_pod\": 276.0}, {\"date\": \"2022-04-12\", \"amount\": 6498, \"place_in_line\": 709734977, \"price_per_pod\": 0.03, \"sort_date\": 687.0, \"sort_amount\": 508.0, \"sort_place_in_line\": 1228.0, \"sort_price_per_pod\": 170.0}, {\"date\": \"2022-04-12\", \"amount\": 2539, \"place_in_line\": 711578414, \"price_per_pod\": 0.03, \"sort_date\": 688.0, \"sort_amount\": 249.0, \"sort_place_in_line\": 1265.0, \"sort_price_per_pod\": 169.0}, {\"date\": \"2022-04-12\", \"amount\": 12907, \"place_in_line\": 265237981, \"price_per_pod\": 0.19, \"sort_date\": 689.0, \"sort_amount\": 814.0, \"sort_place_in_line\": 681.0, \"sort_price_per_pod\": 957.0}, {\"date\": \"2022-04-12\", \"amount\": 16988, \"place_in_line\": 274448643, \"price_per_pod\": 0.166, \"sort_date\": 686.0, \"sort_amount\": 906.0, \"sort_place_in_line\": 696.0, \"sort_price_per_pod\": 930.0}, {\"date\": \"2022-04-12\", \"amount\": 1759, \"place_in_line\": 708527392, \"price_per_pod\": 0.03, \"sort_date\": 690.0, \"sort_amount\": 198.0, \"sort_place_in_line\": 1157.0, \"sort_price_per_pod\": 168.0}, {\"date\": \"2022-04-12\", \"amount\": 1687, \"place_in_line\": 42712977, \"price_per_pod\": 0.85, \"sort_date\": 691.0, \"sort_amount\": 193.0, \"sort_place_in_line\": 179.0, \"sort_price_per_pod\": 1423.0}, {\"date\": \"2022-04-12\", \"amount\": 10228, \"place_in_line\": 707868262, \"price_per_pod\": 0.033, \"sort_date\": 702.0, \"sort_amount\": 714.0, \"sort_place_in_line\": 1106.0, \"sort_price_per_pod\": 320.0}, {\"date\": \"2022-04-12\", \"amount\": 6518, \"place_in_line\": 404801128, \"price_per_pod\": 0.09, \"sort_date\": 713.0, \"sort_amount\": 510.0, \"sort_place_in_line\": 835.0, \"sort_price_per_pod\": 749.0}, {\"date\": \"2022-04-12\", \"amount\": 9060, \"place_in_line\": 709603038, \"price_per_pod\": 0.035, \"sort_date\": 731.0, \"sort_amount\": 648.0, \"sort_place_in_line\": 1217.0, \"sort_price_per_pod\": 366.0}, {\"date\": \"2022-04-12\", \"amount\": 6518, \"place_in_line\": 404801128, \"price_per_pod\": 0.035, \"sort_date\": 715.0, \"sort_amount\": 509.0, \"sort_place_in_line\": 836.0, \"sort_price_per_pod\": 364.0}, {\"date\": \"2022-04-12\", \"amount\": 30000, \"place_in_line\": 42832676, \"price_per_pod\": 0.85, \"sort_date\": 734.0, \"sort_amount\": 1108.0, \"sort_place_in_line\": 186.0, \"sort_price_per_pod\": 1414.0}, {\"date\": \"2022-04-12\", \"amount\": 20000, \"place_in_line\": 42862676, \"price_per_pod\": 0.85, \"sort_date\": 735.0, \"sort_amount\": 970.0, \"sort_place_in_line\": 187.0, \"sort_price_per_pod\": 1422.0}, {\"date\": \"2022-04-12\", \"amount\": 41700, \"place_in_line\": 298384382, \"price_per_pod\": 0.15, \"sort_date\": 736.0, \"sort_amount\": 1200.0, \"sort_place_in_line\": 751.0, \"sort_price_per_pod\": 893.0}, {\"date\": \"2022-04-12\", \"amount\": 9515, \"place_in_line\": 709722752, \"price_per_pod\": 0.036, \"sort_date\": 737.0, \"sort_amount\": 668.0, \"sort_place_in_line\": 1227.0, \"sort_price_per_pod\": 375.0}, {\"date\": \"2022-04-12\", \"amount\": 1160, \"place_in_line\": 334799194, \"price_per_pod\": 0.15, \"sort_date\": 738.0, \"sort_amount\": 142.0, \"sort_place_in_line\": 793.0, \"sort_price_per_pod\": 906.0}, {\"date\": \"2022-04-12\", \"amount\": 305, \"place_in_line\": 93012255, \"price_per_pod\": 0.475, \"sort_date\": 739.0, \"sort_amount\": 44.0, \"sort_place_in_line\": 368.0, \"sort_price_per_pod\": 1136.0}, {\"date\": \"2022-04-12\", \"amount\": 11659, \"place_in_line\": 93012561, \"price_per_pod\": 0.475, \"sort_date\": 741.0, \"sort_amount\": 772.0, \"sort_place_in_line\": 369.0, \"sort_price_per_pod\": 1138.0}, {\"date\": \"2022-04-12\", \"amount\": 10764, \"place_in_line\": 708120196, \"price_per_pod\": 0.037, \"sort_date\": 748.0, \"sort_amount\": 735.0, \"sort_place_in_line\": 1128.0, \"sort_price_per_pod\": 383.0}, {\"date\": \"2022-04-12\", \"amount\": 5788, \"place_in_line\": 622995115, \"price_per_pod\": 0.05, \"sort_date\": 742.0, \"sort_amount\": 468.0, \"sort_place_in_line\": 896.0, \"sort_price_per_pod\": 544.0}, {\"date\": \"2022-04-12\", \"amount\": 397510, \"place_in_line\": 591794773, \"price_per_pod\": 0.06, \"sort_date\": 714.0, \"sort_amount\": 1498.0, \"sort_place_in_line\": 890.0, \"sort_price_per_pod\": 632.0}, {\"date\": \"2022-04-12\", \"amount\": 13450, \"place_in_line\": 623000903, \"price_per_pod\": 0.05, \"sort_date\": 743.0, \"sort_amount\": 829.0, \"sort_place_in_line\": 897.0, \"sort_price_per_pod\": 543.0}, {\"date\": \"2022-04-12\", \"amount\": 23583, \"place_in_line\": 42714665, \"price_per_pod\": 0.85, \"sort_date\": 744.0, \"sort_amount\": 1039.0, \"sort_place_in_line\": 180.0, \"sort_price_per_pod\": 1419.0}, {\"date\": \"2022-04-12\", \"amount\": 3993, \"place_in_line\": 405968762, \"price_per_pod\": 0.1, \"sort_date\": 745.0, \"sort_amount\": 351.0, \"sort_place_in_line\": 843.0, \"sort_price_per_pod\": 826.0}, {\"date\": \"2022-04-12\", \"amount\": 6561, \"place_in_line\": 592967559, \"price_per_pod\": 0.055, \"sort_date\": 746.0, \"sort_amount\": 513.0, \"sort_place_in_line\": 892.0, \"sort_price_per_pod\": 595.0}, {\"date\": \"2022-04-12\", \"amount\": 26917, \"place_in_line\": 384105638, \"price_per_pod\": 0.04, \"sort_date\": 747.0, \"sort_amount\": 1078.0, \"sort_place_in_line\": 816.0, \"sort_price_per_pod\": 405.0}, {\"date\": \"2022-04-12\", \"amount\": 11578, \"place_in_line\": 709470442, \"price_per_pod\": 0.039, \"sort_date\": 733.0, \"sort_amount\": 769.0, \"sort_place_in_line\": 1211.0, \"sort_price_per_pod\": 392.0}, {\"date\": \"2022-04-12\", \"amount\": 8239, \"place_in_line\": 334800355, \"price_per_pod\": 0.15, \"sort_date\": 740.0, \"sort_amount\": 603.0, \"sort_place_in_line\": 794.0, \"sort_price_per_pod\": 904.0}, {\"date\": \"2022-04-12\", \"amount\": 91918, \"place_in_line\": 712016403, \"price_per_pod\": 0.044, \"sort_date\": 732.0, \"sort_amount\": 1359.0, \"sort_place_in_line\": 1270.0, \"sort_price_per_pod\": 445.0}, {\"date\": \"2022-04-12\", \"amount\": 45416, \"place_in_line\": 42738249, \"price_per_pod\": 0.85, \"sort_date\": 722.0, \"sort_amount\": 1229.0, \"sort_place_in_line\": 181.0, \"sort_price_per_pod\": 1417.0}, {\"date\": \"2022-04-12\", \"amount\": 52835, \"place_in_line\": 592192283, \"price_per_pod\": 0.06, \"sort_date\": 716.0, \"sort_amount\": 1258.0, \"sort_place_in_line\": 891.0, \"sort_price_per_pod\": 631.0}, {\"date\": \"2022-04-12\", \"amount\": 15686, \"place_in_line\": 621047974, \"price_per_pod\": 0.09, \"sort_date\": 717.0, \"sort_amount\": 876.0, \"sort_place_in_line\": 895.0, \"sort_price_per_pod\": 774.0}, {\"date\": \"2022-04-12\", \"amount\": 11928, \"place_in_line\": 708716761, \"price_per_pod\": 0.04, \"sort_date\": 718.0, \"sort_amount\": 781.0, \"sort_place_in_line\": 1175.0, \"sort_price_per_pod\": 401.0}, {\"date\": \"2022-04-12\", \"amount\": 8953, \"place_in_line\": 707909046, \"price_per_pod\": 0.04, \"sort_date\": 719.0, \"sort_amount\": 635.0, \"sort_place_in_line\": 1110.0, \"sort_price_per_pod\": 409.0}, {\"date\": \"2022-04-12\", \"amount\": 253050, \"place_in_line\": 625298680, \"price_per_pod\": 0.09, \"sort_date\": 720.0, \"sort_amount\": 1483.0, \"sort_place_in_line\": 899.0, \"sort_price_per_pod\": 742.0}, {\"date\": \"2022-04-12\", \"amount\": 20502, \"place_in_line\": 334808594, \"price_per_pod\": 0.15, \"sort_date\": 721.0, \"sort_amount\": 993.0, \"sort_place_in_line\": 795.0, \"sort_price_per_pod\": 897.0}, {\"date\": \"2022-04-12\", \"amount\": 21915, \"place_in_line\": 491177308, \"price_per_pod\": 0.166, \"sort_date\": 723.0, \"sort_amount\": 1017.0, \"sort_place_in_line\": 883.0, \"sort_price_per_pod\": 931.0}, {\"date\": \"2022-04-12\", \"amount\": 114580, \"place_in_line\": 643112195, \"price_per_pod\": 0.145, \"sort_date\": 730.0, \"sort_amount\": 1392.0, \"sort_place_in_line\": 910.0, \"sort_price_per_pod\": 871.0}, {\"date\": \"2022-04-12\", \"amount\": 126027, \"place_in_line\": 712108719, \"price_per_pod\": 0.054, \"sort_date\": 724.0, \"sort_amount\": 1398.0, \"sort_place_in_line\": 1271.0, \"sort_price_per_pod\": 589.0}, {\"date\": \"2022-04-12\", \"amount\": 44602, \"place_in_line\": 270707790, \"price_per_pod\": 0.2, \"sort_date\": 725.0, \"sort_amount\": 1225.0, \"sort_place_in_line\": 683.0, \"sort_price_per_pod\": 988.0}, {\"date\": \"2022-04-12\", \"amount\": 25981, \"place_in_line\": 48646656, \"price_per_pod\": 0.82, \"sort_date\": 726.0, \"sort_amount\": 1067.0, \"sort_place_in_line\": 272.0, \"sort_price_per_pod\": 1383.0}, {\"date\": \"2022-04-12\", \"amount\": 49011, \"place_in_line\": 42783665, \"price_per_pod\": 0.87, \"sort_date\": 727.0, \"sort_amount\": 1239.0, \"sort_place_in_line\": 183.0, \"sort_price_per_pod\": 1427.0}, {\"date\": \"2022-04-12\", \"amount\": 29698, \"place_in_line\": 48672637, \"price_per_pod\": 0.82, \"sort_date\": 728.0, \"sort_amount\": 1101.0, \"sort_place_in_line\": 273.0, \"sort_price_per_pod\": 1395.0}, {\"date\": \"2022-04-13\", \"amount\": 407, \"place_in_line\": 708321346, \"price_per_pod\": 0.03, \"sort_date\": 909.0, \"sort_amount\": 60.0, \"sort_place_in_line\": 1141.0, \"sort_price_per_pod\": 190.0}, {\"date\": \"2022-04-13\", \"amount\": 7915, \"place_in_line\": 707901130, \"price_per_pod\": 0.04, \"sort_date\": 908.0, \"sort_amount\": 579.0, \"sort_place_in_line\": 1109.0, \"sort_price_per_pod\": 403.0}, {\"date\": \"2022-04-13\", \"amount\": 6157, \"place_in_line\": 708064389, \"price_per_pod\": 0.053, \"sort_date\": 907.0, \"sort_amount\": 487.0, \"sort_place_in_line\": 1124.0, \"sort_price_per_pod\": 581.0}, {\"date\": \"2022-04-13\", \"amount\": 25689, \"place_in_line\": 122173282, \"price_per_pod\": 0.45, \"sort_date\": 906.0, \"sort_amount\": 1066.0, \"sort_place_in_line\": 438.0, \"sort_price_per_pod\": 1123.0}, {\"date\": \"2022-04-13\", \"amount\": 641, \"place_in_line\": 122198972, \"price_per_pod\": 0.45, \"sort_date\": 905.0, \"sort_amount\": 90.0, \"sort_place_in_line\": 439.0, \"sort_price_per_pod\": 1122.0}, {\"date\": \"2022-04-13\", \"amount\": 880, \"place_in_line\": 48702336, \"price_per_pod\": 0.82, \"sort_date\": 904.0, \"sort_amount\": 111.0, \"sort_place_in_line\": 275.0, \"sort_price_per_pod\": 1400.0}, {\"date\": \"2022-04-13\", \"amount\": 861, \"place_in_line\": 81428887, \"price_per_pod\": 0.69, \"sort_date\": 903.0, \"sort_amount\": 107.0, \"sort_place_in_line\": 336.0, \"sort_price_per_pod\": 1293.0}, {\"date\": \"2022-04-13\", \"amount\": 63542, \"place_in_line\": 714015471, \"price_per_pod\": 0.045, \"sort_date\": 902.0, \"sort_amount\": 1289.0, \"sort_place_in_line\": 1280.0, \"sort_price_per_pod\": 478.0}, {\"date\": \"2022-04-13\", \"amount\": 861, \"place_in_line\": 81428887, \"price_per_pod\": 0.0825, \"sort_date\": 901.0, \"sort_amount\": 108.0, \"sort_place_in_line\": 337.0, \"sort_price_per_pod\": 738.0}, {\"date\": \"2022-04-13\", \"amount\": 7323, \"place_in_line\": 707860938, \"price_per_pod\": 0.04, \"sort_date\": 900.0, \"sort_amount\": 549.0, \"sort_place_in_line\": 1105.0, \"sort_price_per_pod\": 423.0}, {\"date\": \"2022-04-13\", \"amount\": 129174, \"place_in_line\": 714079013, \"price_per_pod\": 0.045, \"sort_date\": 899.0, \"sort_amount\": 1401.0, \"sort_place_in_line\": 1281.0, \"sort_price_per_pod\": 474.0}, {\"date\": \"2022-04-13\", \"amount\": 14576, \"place_in_line\": 709428056, \"price_per_pod\": 0.04, \"sort_date\": 898.0, \"sort_amount\": 850.0, \"sort_place_in_line\": 1208.0, \"sort_price_per_pod\": 431.0}, {\"date\": \"2022-04-13\", \"amount\": 13030, \"place_in_line\": 709506330, \"price_per_pod\": 0.04, \"sort_date\": 912.0, \"sort_amount\": 818.0, \"sort_place_in_line\": 1214.0, \"sort_price_per_pod\": 435.0}, {\"date\": \"2022-04-13\", \"amount\": 24458, \"place_in_line\": 714426818, \"price_per_pod\": 0.045, \"sort_date\": 896.0, \"sort_amount\": 1048.0, \"sort_place_in_line\": 1284.0, \"sort_price_per_pod\": 473.0}, {\"date\": \"2022-04-13\", \"amount\": 139231, \"place_in_line\": 714451277, \"price_per_pod\": 0.045, \"sort_date\": 895.0, \"sort_amount\": 1416.0, \"sort_place_in_line\": 1286.0, \"sort_price_per_pod\": 472.0}, {\"date\": \"2022-04-13\", \"amount\": 16002, \"place_in_line\": 714590509, \"price_per_pod\": 0.045, \"sort_date\": 894.0, \"sort_amount\": 886.0, \"sort_place_in_line\": 1288.0, \"sort_price_per_pod\": 471.0}, {\"date\": \"2022-04-13\", \"amount\": 9963, \"place_in_line\": 707990432, \"price_per_pod\": 0.045, \"sort_date\": 893.0, \"sort_amount\": 685.0, \"sort_place_in_line\": 1119.0, \"sort_price_per_pod\": 483.0}, {\"date\": \"2022-04-13\", \"amount\": 13082, \"place_in_line\": 707977350, \"price_per_pod\": 0.045, \"sort_date\": 892.0, \"sort_amount\": 820.0, \"sort_place_in_line\": 1118.0, \"sort_price_per_pod\": 470.0}, {\"date\": \"2022-04-13\", \"amount\": 19836, \"place_in_line\": 708193702, \"price_per_pod\": 0.045, \"sort_date\": 891.0, \"sort_amount\": 959.0, \"sort_place_in_line\": 1134.0, \"sort_price_per_pod\": 484.0}, {\"date\": \"2022-04-13\", \"amount\": 6479, \"place_in_line\": 708113716, \"price_per_pod\": 0.053, \"sort_date\": 890.0, \"sort_amount\": 506.0, \"sort_place_in_line\": 1127.0, \"sort_price_per_pod\": 582.0}, {\"date\": \"2022-04-13\", \"amount\": 41130, \"place_in_line\": 713814719, \"price_per_pod\": 0.054, \"sort_date\": 889.0, \"sort_amount\": 1197.0, \"sort_place_in_line\": 1277.0, \"sort_price_per_pod\": 591.0}, {\"date\": \"2022-04-13\", \"amount\": 16139, \"place_in_line\": 713855849, \"price_per_pod\": 0.054, \"sort_date\": 888.0, \"sort_amount\": 888.0, \"sort_place_in_line\": 1278.0, \"sort_price_per_pod\": 584.0}, {\"date\": \"2022-04-13\", \"amount\": 141663, \"place_in_line\": 713871988, \"price_per_pod\": 0.054, \"sort_date\": 887.0, \"sort_amount\": 1418.0, \"sort_place_in_line\": 1279.0, \"sort_price_per_pod\": 590.0}, {\"date\": \"2022-04-13\", \"amount\": 83800, \"place_in_line\": 697955818, \"price_per_pod\": 0.066, \"sort_date\": 886.0, \"sort_amount\": 1338.0, \"sort_place_in_line\": 987.0, \"sort_price_per_pod\": 682.0}, {\"date\": \"2022-04-13\", \"amount\": 94598, \"place_in_line\": 672599944, \"price_per_pod\": 0.06, \"sort_date\": 885.0, \"sort_amount\": 1365.0, \"sort_place_in_line\": 918.0, \"sort_price_per_pod\": 624.0}, {\"date\": \"2022-04-13\", \"amount\": 6300, \"place_in_line\": 707924243, \"price_per_pod\": 0.054, \"sort_date\": 884.0, \"sort_amount\": 495.0, \"sort_place_in_line\": 1112.0, \"sort_price_per_pod\": 585.0}, {\"date\": \"2022-04-13\", \"amount\": 6350, \"place_in_line\": 707970999, \"price_per_pod\": 0.054, \"sort_date\": 883.0, \"sort_amount\": 499.0, \"sort_place_in_line\": 1117.0, \"sort_price_per_pod\": 583.0}, {\"date\": \"2022-04-13\", \"amount\": 119019, \"place_in_line\": 714608893, \"price_per_pod\": 0.059, \"sort_date\": 910.0, \"sort_amount\": 1395.0, \"sort_place_in_line\": 1289.0, \"sort_price_per_pod\": 617.0}, {\"date\": \"2022-04-13\", \"amount\": 8958, \"place_in_line\": 48703216, \"price_per_pod\": 0.82, \"sort_date\": 911.0, \"sort_amount\": 639.0, \"sort_place_in_line\": 276.0, \"sort_price_per_pod\": 1386.0}, {\"date\": \"2022-04-13\", \"amount\": 2475, \"place_in_line\": 48751265, \"price_per_pod\": 0.82, \"sort_date\": 914.0, \"sort_amount\": 245.0, \"sort_place_in_line\": 280.0, \"sort_price_per_pod\": 1393.0}, {\"date\": \"2022-04-13\", \"amount\": 12557, \"place_in_line\": 48753741, \"price_per_pod\": 0.82, \"sort_date\": 913.0, \"sort_amount\": 803.0, \"sort_place_in_line\": 281.0, \"sort_price_per_pod\": 1394.0}, {\"date\": \"2022-04-13\", \"amount\": 10981, \"place_in_line\": 278128513, \"price_per_pod\": 0.2, \"sort_date\": 930.0, \"sort_amount\": 744.0, \"sort_place_in_line\": 706.0, \"sort_price_per_pod\": 968.0}, {\"date\": \"2022-04-13\", \"amount\": 716, \"place_in_line\": 48766299, \"price_per_pod\": 0.82, \"sort_date\": 932.0, \"sort_amount\": 96.0, \"sort_place_in_line\": 282.0, \"sort_price_per_pod\": 1397.0}, {\"date\": \"2022-04-13\", \"amount\": 1224, \"place_in_line\": 270752393, \"price_per_pod\": 0.24, \"sort_date\": 933.0, \"sort_amount\": 147.0, \"sort_place_in_line\": 684.0, \"sort_price_per_pod\": 1017.0}, {\"date\": \"2022-04-13\", \"amount\": 20871, \"place_in_line\": 251882385, \"price_per_pod\": 0.25, \"sort_date\": 934.0, \"sort_amount\": 1001.0, \"sort_place_in_line\": 653.0, \"sort_price_per_pod\": 1038.0}, {\"date\": \"2022-04-13\", \"amount\": 7813, \"place_in_line\": 81429748, \"price_per_pod\": 0.6, \"sort_date\": 936.0, \"sort_amount\": 574.0, \"sort_place_in_line\": 341.0, \"sort_price_per_pod\": 1241.0}, {\"date\": \"2022-04-13\", \"amount\": 1000, \"place_in_line\": 136979532, \"price_per_pod\": 0.5, \"sort_date\": 935.0, \"sort_amount\": 127.0, \"sort_place_in_line\": 475.0, \"sort_price_per_pod\": 1169.0}, {\"date\": \"2022-04-13\", \"amount\": 947, \"place_in_line\": 48767016, \"price_per_pod\": 0.82, \"sort_date\": 941.0, \"sort_amount\": 115.0, \"sort_place_in_line\": 283.0, \"sort_price_per_pod\": 1398.0}, {\"date\": \"2022-04-13\", \"amount\": 11265, \"place_in_line\": 122199613, \"price_per_pod\": 0.6, \"sort_date\": 937.0, \"sort_amount\": 754.0, \"sort_place_in_line\": 440.0, \"sort_price_per_pod\": 1240.0}, {\"date\": \"2022-04-13\", \"amount\": 5000, \"place_in_line\": 49781331, \"price_per_pod\": 0.81, \"sort_date\": 938.0, \"sort_amount\": 431.0, \"sort_place_in_line\": 287.0, \"sort_price_per_pod\": 1380.0}, {\"date\": \"2022-04-13\", \"amount\": 15239, \"place_in_line\": 709639001, \"price_per_pod\": 0.05, \"sort_date\": 939.0, \"sort_amount\": 867.0, \"sort_place_in_line\": 1219.0, \"sort_price_per_pod\": 534.0}, {\"date\": \"2022-04-13\", \"amount\": 28016, \"place_in_line\": 49786331, \"price_per_pod\": 0.81, \"sort_date\": 940.0, \"sort_amount\": 1087.0, \"sort_place_in_line\": 288.0, \"sort_price_per_pod\": 1382.0}, {\"date\": \"2022-04-13\", \"amount\": 3000, \"place_in_line\": 146155109, \"price_per_pod\": 0.4, \"sort_date\": 881.0, \"sort_amount\": 285.0, \"sort_place_in_line\": 524.0, \"sort_price_per_pod\": 1105.0}, {\"date\": \"2022-04-13\", \"amount\": 819, \"place_in_line\": 41579151, \"price_per_pod\": 0.9, \"sort_date\": 929.0, \"sort_amount\": 102.0, \"sort_place_in_line\": 162.0, \"sort_price_per_pod\": 1460.0}, {\"date\": \"2022-04-13\", \"amount\": 12362, \"place_in_line\": 157839880, \"price_per_pod\": 0.45, \"sort_date\": 931.0, \"sort_amount\": 795.0, \"sort_place_in_line\": 559.0, \"sort_price_per_pod\": 1132.0}, {\"date\": \"2022-04-13\", \"amount\": 27095, \"place_in_line\": 48767963, \"price_per_pod\": 0.82, \"sort_date\": 927.0, \"sort_amount\": 1080.0, \"sort_place_in_line\": 284.0, \"sort_price_per_pod\": 1399.0}, {\"date\": \"2022-04-13\", \"amount\": 6440, \"place_in_line\": 66071050, \"price_per_pod\": 0.75, \"sort_date\": 926.0, \"sort_amount\": 504.0, \"sort_place_in_line\": 323.0, \"sort_price_per_pod\": 1350.0}, {\"date\": \"2022-04-13\", \"amount\": 14262, \"place_in_line\": 48795058, \"price_per_pod\": 0.82, \"sort_date\": 925.0, \"sort_amount\": 845.0, \"sort_place_in_line\": 285.0, \"sort_price_per_pod\": 1390.0}, {\"date\": \"2022-04-13\", \"amount\": 166611, \"place_in_line\": 714990004, \"price_per_pod\": 0.05, \"sort_date\": 924.0, \"sort_amount\": 1448.0, \"sort_place_in_line\": 1292.0, \"sort_price_per_pod\": 509.0}, {\"date\": \"2022-04-13\", \"amount\": 2843, \"place_in_line\": 715484660, \"price_per_pod\": 0.049, \"sort_date\": 923.0, \"sort_amount\": 275.0, \"sort_place_in_line\": 1295.0, \"sort_price_per_pod\": 502.0}, {\"date\": \"2022-04-13\", \"amount\": 13816, \"place_in_line\": 709492513, \"price_per_pod\": 0.051, \"sort_date\": 922.0, \"sort_amount\": 834.0, \"sort_place_in_line\": 1213.0, \"sort_price_per_pod\": 573.0}, {\"date\": \"2022-04-13\", \"amount\": 3579, \"place_in_line\": 712478227, \"price_per_pod\": 0.049, \"sort_date\": 921.0, \"sort_amount\": 319.0, \"sort_place_in_line\": 1272.0, \"sort_price_per_pod\": 505.0}, {\"date\": \"2022-04-13\", \"amount\": 78606, \"place_in_line\": 714727913, \"price_per_pod\": 0.059, \"sort_date\": 928.0, \"sort_amount\": 1326.0, \"sort_place_in_line\": 1290.0, \"sort_price_per_pod\": 614.0}, {\"date\": \"2022-04-13\", \"amount\": 9357, \"place_in_line\": 707930543, \"price_per_pod\": 0.058, \"sort_date\": 920.0, \"sort_amount\": 660.0, \"sort_place_in_line\": 1113.0, \"sort_price_per_pod\": 603.0}, {\"date\": \"2022-04-13\", \"amount\": 8313, \"place_in_line\": 707952799, \"price_per_pod\": 0.058, \"sort_date\": 919.0, \"sort_amount\": 606.0, \"sort_place_in_line\": 1115.0, \"sort_price_per_pod\": 606.0}, {\"date\": \"2022-04-13\", \"amount\": 180127, \"place_in_line\": 714808266, \"price_per_pod\": 0.06, \"sort_date\": 918.0, \"sort_amount\": 1456.0, \"sort_place_in_line\": 1291.0, \"sort_price_per_pod\": 653.0}, {\"date\": \"2022-04-13\", \"amount\": 9508, \"place_in_line\": 49814348, \"price_per_pod\": 0.81, \"sort_date\": 917.0, \"sort_amount\": 667.0, \"sort_place_in_line\": 289.0, \"sort_price_per_pod\": 1381.0}, {\"date\": \"2022-04-13\", \"amount\": 9556, \"place_in_line\": 707961290, \"price_per_pod\": 0.058, \"sort_date\": 916.0, \"sort_amount\": 672.0, \"sort_place_in_line\": 1116.0, \"sort_price_per_pod\": 604.0}, {\"date\": \"2022-04-13\", \"amount\": 14166, \"place_in_line\": 708554206, \"price_per_pod\": 0.058, \"sort_date\": 915.0, \"sort_amount\": 841.0, \"sort_place_in_line\": 1160.0, \"sort_price_per_pod\": 608.0}, {\"date\": \"2022-04-13\", \"amount\": 6672, \"place_in_line\": 707880777, \"price_per_pod\": 0.058, \"sort_date\": 882.0, \"sort_amount\": 520.0, \"sort_place_in_line\": 1107.0, \"sort_price_per_pod\": 609.0}, {\"date\": \"2022-04-13\", \"amount\": 35690, \"place_in_line\": 49823857, \"price_per_pod\": 0.81, \"sort_date\": 897.0, \"sort_amount\": 1160.0, \"sort_place_in_line\": 290.0, \"sort_price_per_pod\": 1379.0}, {\"date\": \"2022-04-13\", \"amount\": 10768, \"place_in_line\": 708698646, \"price_per_pod\": 0.059, \"sort_date\": 880.0, \"sort_amount\": 736.0, \"sort_place_in_line\": 1173.0, \"sort_price_per_pod\": 610.0}, {\"date\": \"2022-04-13\", \"amount\": 13439, \"place_in_line\": 708934865, \"price_per_pod\": 0.059, \"sort_date\": 852.0, \"sort_amount\": 827.0, \"sort_place_in_line\": 1183.0, \"sort_price_per_pod\": 611.0}, {\"date\": \"2022-04-13\", \"amount\": 7042, \"place_in_line\": 705832722, \"price_per_pod\": 0.059, \"sort_date\": 847.0, \"sort_amount\": 538.0, \"sort_place_in_line\": 1093.0, \"sort_price_per_pod\": 612.0}, {\"date\": \"2022-04-13\", \"amount\": 173240, \"place_in_line\": 715158664, \"price_per_pod\": 0.061, \"sort_date\": 845.0, \"sort_amount\": 1451.0, \"sort_place_in_line\": 1293.0, \"sort_price_per_pod\": 654.0}, {\"date\": \"2022-04-13\", \"amount\": 9545, \"place_in_line\": 708641764, \"price_per_pod\": 0.06, \"sort_date\": 844.0, \"sort_amount\": 671.0, \"sort_place_in_line\": 1166.0, \"sort_price_per_pod\": 650.0}, {\"date\": \"2022-04-13\", \"amount\": 2156, \"place_in_line\": 711848288, \"price_per_pod\": 0.059, \"sort_date\": 843.0, \"sort_amount\": 221.0, \"sort_place_in_line\": 1269.0, \"sort_price_per_pod\": 613.0}, {\"date\": \"2022-04-13\", \"amount\": 7458, \"place_in_line\": 708095822, \"price_per_pod\": 0.059, \"sort_date\": 842.0, \"sort_amount\": 560.0, \"sort_place_in_line\": 1126.0, \"sort_price_per_pod\": 618.0}, {\"date\": \"2022-04-13\", \"amount\": 16021, \"place_in_line\": 708529151, \"price_per_pod\": 0.06, \"sort_date\": 841.0, \"sort_amount\": 887.0, \"sort_place_in_line\": 1158.0, \"sort_price_per_pod\": 640.0}, {\"date\": \"2022-04-13\", \"amount\": 2000, \"place_in_line\": 405970755, \"price_per_pod\": 0.221, \"sort_date\": 840.0, \"sort_amount\": 211.0, \"sort_place_in_line\": 845.0, \"sort_price_per_pod\": 1001.0}, {\"date\": \"2022-04-13\", \"amount\": 151205, \"place_in_line\": 715333455, \"price_per_pod\": 0.062, \"sort_date\": 834.0, \"sort_amount\": 1434.0, \"sort_place_in_line\": 1294.0, \"sort_price_per_pod\": 662.0}, {\"date\": \"2022-04-13\", \"amount\": 12509, \"place_in_line\": 709710243, \"price_per_pod\": 0.061, \"sort_date\": 839.0, \"sort_amount\": 801.0, \"sort_place_in_line\": 1226.0, \"sort_price_per_pod\": 657.0}, {\"date\": \"2022-04-13\", \"amount\": 11917, \"place_in_line\": 709654242, \"price_per_pod\": 0.061, \"sort_date\": 838.0, \"sort_amount\": 780.0, \"sort_place_in_line\": 1220.0, \"sort_price_per_pod\": 655.0}, {\"date\": \"2022-04-13\", \"amount\": 13731, \"place_in_line\": 709688339, \"price_per_pod\": 0.061, \"sort_date\": 837.0, \"sort_amount\": 832.0, \"sort_place_in_line\": 1224.0, \"sort_price_per_pod\": 656.0}, {\"date\": \"2022-04-13\", \"amount\": 7267, \"place_in_line\": 373918682, \"price_per_pod\": 0.2, \"sort_date\": 836.0, \"sort_amount\": 545.0, \"sort_place_in_line\": 804.0, \"sort_price_per_pod\": 975.0}, {\"date\": \"2022-04-13\", \"amount\": 679, \"place_in_line\": 41579970, \"price_per_pod\": 0.9, \"sort_date\": 835.0, \"sort_amount\": 95.0, \"sort_place_in_line\": 163.0, \"sort_price_per_pod\": 1462.0}, {\"date\": \"2022-04-13\", \"amount\": 2853, \"place_in_line\": 48809321, \"price_per_pod\": 0.82, \"sort_date\": 848.0, \"sort_amount\": 276.0, \"sort_place_in_line\": 286.0, \"sort_price_per_pod\": 1384.0}, {\"date\": \"2022-04-13\", \"amount\": 895, \"place_in_line\": 47563471, \"price_per_pod\": 0.89, \"sort_date\": 822.0, \"sort_amount\": 112.0, \"sort_place_in_line\": 241.0, \"sort_price_per_pod\": 1435.0}, {\"date\": \"2022-04-13\", \"amount\": 2548, \"place_in_line\": 715683731, \"price_per_pod\": 0.059, \"sort_date\": 832.0, \"sort_amount\": 253.0, \"sort_place_in_line\": 1300.0, \"sort_price_per_pod\": 620.0}, {\"date\": \"2022-04-13\", \"amount\": 4297, \"place_in_line\": 66077490, \"price_per_pod\": 0.75, \"sort_date\": 831.0, \"sort_amount\": 373.0, \"sort_place_in_line\": 325.0, \"sort_price_per_pod\": 1351.0}, {\"date\": \"2022-04-13\", \"amount\": 2369, \"place_in_line\": 716106491, \"price_per_pod\": 0.06, \"sort_date\": 830.0, \"sort_amount\": 238.0, \"sort_place_in_line\": 1303.0, \"sort_price_per_pod\": 652.0}, {\"date\": \"2022-04-13\", \"amount\": 11229, \"place_in_line\": 705056534, \"price_per_pod\": 0.06, \"sort_date\": 829.0, \"sort_amount\": 753.0, \"sort_place_in_line\": 1043.0, \"sort_price_per_pod\": 651.0}, {\"date\": \"2022-04-13\", \"amount\": 8729, \"place_in_line\": 707939900, \"price_per_pod\": 0.061, \"sort_date\": 828.0, \"sort_amount\": 628.0, \"sort_place_in_line\": 1114.0, \"sort_price_per_pod\": 658.0}, {\"date\": \"2022-04-13\", \"amount\": 291, \"place_in_line\": 705675547, \"price_per_pod\": 0.06, \"sort_date\": 827.0, \"sort_amount\": 40.0, \"sort_place_in_line\": 1083.0, \"sort_price_per_pod\": 647.0}, {\"date\": \"2022-04-13\", \"amount\": 2981, \"place_in_line\": 66081788, \"price_per_pod\": 0.75, \"sort_date\": 826.0, \"sort_amount\": 283.0, \"sort_place_in_line\": 329.0, \"sort_price_per_pod\": 1349.0}, {\"date\": \"2022-04-13\", \"amount\": 214025, \"place_in_line\": 714211331, \"price_per_pod\": 0.062, \"sort_date\": 833.0, \"sort_amount\": 1467.0, \"sort_place_in_line\": 1283.0, \"sort_price_per_pod\": 661.0}, {\"date\": \"2022-04-13\", \"amount\": 17313, \"place_in_line\": 157852242, \"price_per_pod\": 0.45, \"sort_date\": 824.0, \"sort_amount\": 917.0, \"sort_place_in_line\": 560.0, \"sort_price_per_pod\": 1130.0}, {\"date\": \"2022-04-13\", \"amount\": 2727, \"place_in_line\": 270753617, \"price_per_pod\": 0.22, \"sort_date\": 823.0, \"sort_amount\": 267.0, \"sort_place_in_line\": 685.0, \"sort_price_per_pod\": 999.0}, {\"date\": \"2022-04-13\", \"amount\": 1801, \"place_in_line\": 716940669, \"price_per_pod\": 0.04, \"sort_date\": 821.0, \"sort_amount\": 200.0, \"sort_place_in_line\": 1311.0, \"sort_price_per_pod\": 421.0}, {\"date\": \"2022-04-13\", \"amount\": 23536, \"place_in_line\": 716108861, \"price_per_pod\": 0.06, \"sort_date\": 825.0, \"sort_amount\": 1037.0, \"sort_place_in_line\": 1304.0, \"sort_price_per_pod\": 645.0}, {\"date\": \"2022-04-13\", \"amount\": 7048, \"place_in_line\": 66084769, \"price_per_pod\": 0.75, \"sort_date\": 846.0, \"sort_amount\": 539.0, \"sort_place_in_line\": 330.0, \"sort_price_per_pod\": 1343.0}, {\"date\": \"2022-04-13\", \"amount\": 12155, \"place_in_line\": 463414838, \"price_per_pod\": 0.15, \"sort_date\": 849.0, \"sort_amount\": 788.0, \"sort_place_in_line\": 866.0, \"sort_price_per_pod\": 873.0}, {\"date\": \"2022-04-13\", \"amount\": 21743, \"place_in_line\": 147350708, \"price_per_pod\": 0.44, \"sort_date\": 879.0, \"sort_amount\": 1014.0, \"sort_place_in_line\": 525.0, \"sort_price_per_pod\": 1120.0}, {\"date\": \"2022-04-13\", \"amount\": 163273, \"place_in_line\": 716132397, \"price_per_pod\": 0.06, \"sort_date\": 851.0, \"sort_amount\": 1446.0, \"sort_place_in_line\": 1305.0, \"sort_price_per_pod\": 627.0}, {\"date\": \"2022-04-13\", \"amount\": 144680, \"place_in_line\": 716466017, \"price_per_pod\": 0.056, \"sort_date\": 878.0, \"sort_amount\": 1421.0, \"sort_place_in_line\": 1307.0, \"sort_price_per_pod\": 602.0}, {\"date\": \"2022-04-13\", \"amount\": 5532, \"place_in_line\": 713215936, \"price_per_pod\": 0.061, \"sort_date\": 877.0, \"sort_amount\": 450.0, \"sort_place_in_line\": 1276.0, \"sort_price_per_pod\": 659.0}, {\"date\": \"2022-04-13\", \"amount\": 3786, \"place_in_line\": 713120110, \"price_per_pod\": 0.062, \"sort_date\": 876.0, \"sort_amount\": 339.0, \"sort_place_in_line\": 1275.0, \"sort_price_per_pod\": 660.0}, {\"date\": \"2022-04-13\", \"amount\": 2469, \"place_in_line\": 715899465, \"price_per_pod\": 0.06, \"sort_date\": 875.0, \"sort_amount\": 244.0, \"sort_place_in_line\": 1301.0, \"sort_price_per_pod\": 628.0}, {\"date\": \"2022-04-13\", \"amount\": 52642, \"place_in_line\": 716768803, \"price_per_pod\": 0.06, \"sort_date\": 874.0, \"sort_amount\": 1257.0, \"sort_place_in_line\": 1308.0, \"sort_price_per_pod\": 629.0}, {\"date\": \"2022-04-13\", \"amount\": 29699, \"place_in_line\": 708854521, \"price_per_pod\": 0.1, \"sort_date\": 873.0, \"sort_amount\": 1102.0, \"sort_place_in_line\": 1181.0, \"sort_price_per_pod\": 804.0}, {\"date\": \"2022-04-13\", \"amount\": 50144, \"place_in_line\": 717249342, \"price_per_pod\": 0.055, \"sort_date\": 872.0, \"sort_amount\": 1249.0, \"sort_place_in_line\": 1315.0, \"sort_price_per_pod\": 599.0}, {\"date\": \"2022-04-13\", \"amount\": 32609, \"place_in_line\": 250261928, \"price_per_pod\": 0.21, \"sort_date\": 871.0, \"sort_amount\": 1132.0, \"sort_place_in_line\": 649.0, \"sort_price_per_pod\": 994.0}, {\"date\": \"2022-04-13\", \"amount\": 17152, \"place_in_line\": 206610169, \"price_per_pod\": 0.35, \"sort_date\": 870.0, \"sort_amount\": 912.0, \"sort_place_in_line\": 594.0, \"sort_price_per_pod\": 1082.0}, {\"date\": \"2022-04-13\", \"amount\": 6537, \"place_in_line\": 66091818, \"price_per_pod\": 0.75, \"sort_date\": 869.0, \"sort_amount\": 511.0, \"sort_place_in_line\": 331.0, \"sort_price_per_pod\": 1347.0}, {\"date\": \"2022-04-13\", \"amount\": 11538, \"place_in_line\": 709304868, \"price_per_pod\": 0.059, \"sort_date\": 868.0, \"sort_amount\": 767.0, \"sort_place_in_line\": 1201.0, \"sort_price_per_pod\": 621.0}, {\"date\": \"2022-04-13\", \"amount\": 34725, \"place_in_line\": 152069659, \"price_per_pod\": 0.33, \"sort_date\": 867.0, \"sort_amount\": 1153.0, \"sort_place_in_line\": 557.0, \"sort_price_per_pod\": 1079.0}, {\"date\": \"2022-04-13\", \"amount\": 11659, \"place_in_line\": 93012561, \"price_per_pod\": 0.68, \"sort_date\": 866.0, \"sort_amount\": 771.0, \"sort_place_in_line\": 370.0, \"sort_price_per_pod\": 1289.0}, {\"date\": \"2022-04-13\", \"amount\": 25000, \"place_in_line\": 311844690, \"price_per_pod\": 0.169, \"sort_date\": 865.0, \"sort_amount\": 1054.0, \"sort_place_in_line\": 769.0, \"sort_price_per_pod\": 934.0}, {\"date\": \"2022-04-13\", \"amount\": 34267, \"place_in_line\": 361632377, \"price_per_pod\": 0.12, \"sort_date\": 850.0, \"sort_amount\": 1149.0, \"sort_place_in_line\": 803.0, \"sort_price_per_pod\": 855.0}, {\"date\": \"2022-04-13\", \"amount\": 1500, \"place_in_line\": 714451277, \"price_per_pod\": 0.058, \"sort_date\": 864.0, \"sort_amount\": 170.0, \"sort_place_in_line\": 1285.0, \"sort_price_per_pod\": 605.0}, {\"date\": \"2022-04-13\", \"amount\": 2166, \"place_in_line\": 47561305, \"price_per_pod\": 0.9, \"sort_date\": 863.0, \"sort_amount\": 223.0, \"sort_place_in_line\": 239.0, \"sort_price_per_pod\": 1466.0}, {\"date\": \"2022-04-13\", \"amount\": 1264, \"place_in_line\": 47564367, \"price_per_pod\": 0.89, \"sort_date\": 862.0, \"sort_amount\": 155.0, \"sort_place_in_line\": 242.0, \"sort_price_per_pod\": 1438.0}, {\"date\": \"2022-04-13\", \"amount\": 2250, \"place_in_line\": 170677478, \"price_per_pod\": 0.4, \"sort_date\": 861.0, \"sort_amount\": 228.0, \"sort_place_in_line\": 570.0, \"sort_price_per_pod\": 1115.0}, {\"date\": \"2022-04-13\", \"amount\": 11761, \"place_in_line\": 139698958, \"price_per_pod\": 0.5, \"sort_date\": 860.0, \"sort_amount\": 775.0, \"sort_place_in_line\": 512.0, \"sort_price_per_pod\": 1164.0}, {\"date\": \"2022-04-13\", \"amount\": 23784, \"place_in_line\": 284738104, \"price_per_pod\": 0.188, \"sort_date\": 859.0, \"sort_amount\": 1042.0, \"sort_place_in_line\": 717.0, \"sort_price_per_pod\": 950.0}, {\"date\": \"2022-04-13\", \"amount\": 1610, \"place_in_line\": 219659688, \"price_per_pod\": 0.28, \"sort_date\": 858.0, \"sort_amount\": 185.0, \"sort_place_in_line\": 615.0, \"sort_price_per_pod\": 1054.0}, {\"date\": \"2022-04-13\", \"amount\": 4486, \"place_in_line\": 92734901, \"price_per_pod\": 0.69, \"sort_date\": 857.0, \"sort_amount\": 387.0, \"sort_place_in_line\": 357.0, \"sort_price_per_pod\": 1292.0}, {\"date\": \"2022-04-13\", \"amount\": 4456, \"place_in_line\": 92739387, \"price_per_pod\": 0.69, \"sort_date\": 856.0, \"sort_amount\": 385.0, \"sort_place_in_line\": 358.0, \"sort_price_per_pod\": 1291.0}, {\"date\": \"2022-04-13\", \"amount\": 2331, \"place_in_line\": 99898772, \"price_per_pod\": 0.66, \"sort_date\": 855.0, \"sort_amount\": 234.0, \"sort_place_in_line\": 411.0, \"sort_price_per_pod\": 1282.0}, {\"date\": \"2022-04-13\", \"amount\": 5000, \"place_in_line\": 718009928, \"price_per_pod\": 0.045, \"sort_date\": 854.0, \"sort_amount\": 428.0, \"sort_place_in_line\": 1322.0, \"sort_price_per_pod\": 460.0}, {\"date\": \"2022-04-13\", \"amount\": 146287, \"place_in_line\": 717100914, \"price_per_pod\": 0.05, \"sort_date\": 853.0, \"sort_amount\": 1423.0, \"sort_place_in_line\": 1314.0, \"sort_price_per_pod\": 508.0}, {\"date\": \"2022-04-14\", \"amount\": 50000, \"place_in_line\": 44683804, \"price_per_pod\": 0.89, \"sort_date\": 991.0, \"sort_amount\": 1243.0, \"sort_place_in_line\": 213.0, \"sort_price_per_pod\": 1440.0}, {\"date\": \"2022-04-14\", \"amount\": 9255, \"place_in_line\": 718014928, \"price_per_pod\": 0.045, \"sort_date\": 990.0, \"sort_amount\": 655.0, \"sort_place_in_line\": 1323.0, \"sort_price_per_pod\": 459.0}, {\"date\": \"2022-04-14\", \"amount\": 48622, \"place_in_line\": 718024184, \"price_per_pod\": 0.045, \"sort_date\": 989.0, \"sort_amount\": 1237.0, \"sort_place_in_line\": 1325.0, \"sort_price_per_pod\": 458.0}, {\"date\": \"2022-04-14\", \"amount\": 9899, \"place_in_line\": 44733804, \"price_per_pod\": 0.89, \"sort_date\": 988.0, \"sort_amount\": 683.0, \"sort_place_in_line\": 214.0, \"sort_price_per_pod\": 1443.0}, {\"date\": \"2022-04-14\", \"amount\": 72107, \"place_in_line\": 149815249, \"price_per_pod\": 0.5, \"sort_date\": 987.0, \"sort_amount\": 1312.0, \"sort_place_in_line\": 543.0, \"sort_price_per_pod\": 1179.0}, {\"date\": \"2022-04-14\", \"amount\": 10000, \"place_in_line\": 718072806, \"price_per_pod\": 0.045, \"sort_date\": 993.0, \"sort_amount\": 690.0, \"sort_place_in_line\": 1326.0, \"sort_price_per_pod\": 457.0}, {\"date\": \"2022-04-14\", \"amount\": 14187, \"place_in_line\": 44743703, \"price_per_pod\": 0.89, \"sort_date\": 986.0, \"sort_amount\": 843.0, \"sort_place_in_line\": 215.0, \"sort_price_per_pod\": 1437.0}, {\"date\": \"2022-04-14\", \"amount\": 4912, \"place_in_line\": 167963234, \"price_per_pod\": 0.33, \"sort_date\": 995.0, \"sort_amount\": 419.0, \"sort_place_in_line\": 563.0, \"sort_price_per_pod\": 1080.0}, {\"date\": \"2022-04-14\", \"amount\": 45100, \"place_in_line\": 44757890, \"price_per_pod\": 0.89, \"sort_date\": 984.0, \"sort_amount\": 1227.0, \"sort_place_in_line\": 216.0, \"sort_price_per_pod\": 1439.0}, {\"date\": \"2022-04-14\", \"amount\": 1993, \"place_in_line\": 44517420, \"price_per_pod\": 0.9, \"sort_date\": 977.0, \"sort_amount\": 210.0, \"sort_place_in_line\": 212.0, \"sort_price_per_pod\": 1463.0}, {\"date\": \"2022-04-14\", \"amount\": 75000, \"place_in_line\": 718795450, \"price_per_pod\": 0.04, \"sort_date\": 983.0, \"sort_amount\": 1320.0, \"sort_place_in_line\": 1342.0, \"sort_price_per_pod\": 414.0}, {\"date\": \"2022-04-14\", \"amount\": 25000, \"place_in_line\": 718311098, \"price_per_pod\": 0.04, \"sort_date\": 982.0, \"sort_amount\": 1055.0, \"sort_place_in_line\": 1336.0, \"sort_price_per_pod\": 436.0}, {\"date\": \"2022-04-14\", \"amount\": 22663, \"place_in_line\": 718336098, \"price_per_pod\": 0.04, \"sort_date\": 981.0, \"sort_amount\": 1030.0, \"sort_place_in_line\": 1337.0, \"sort_price_per_pod\": 416.0}, {\"date\": \"2022-04-14\", \"amount\": 2979, \"place_in_line\": 718358762, \"price_per_pod\": 0.04, \"sort_date\": 980.0, \"sort_amount\": 281.0, \"sort_place_in_line\": 1338.0, \"sort_price_per_pod\": 420.0}, {\"date\": \"2022-04-14\", \"amount\": 150000, \"place_in_line\": 609009158, \"price_per_pod\": 0.06, \"sort_date\": 979.0, \"sort_amount\": 1427.0, \"sort_place_in_line\": 893.0, \"sort_price_per_pod\": 635.0}, {\"date\": \"2022-04-14\", \"amount\": 9341, \"place_in_line\": 92743843, \"price_per_pod\": 0.69, \"sort_date\": 985.0, \"sort_amount\": 659.0, \"sort_place_in_line\": 361.0, \"sort_price_per_pod\": 1294.0}, {\"date\": \"2022-04-14\", \"amount\": 97443, \"place_in_line\": 718361741, \"price_per_pod\": 0.04, \"sort_date\": 994.0, \"sort_amount\": 1369.0, \"sort_place_in_line\": 1339.0, \"sort_price_per_pod\": 427.0}, {\"date\": \"2022-04-14\", \"amount\": 84888, \"place_in_line\": 718870450, \"price_per_pod\": 0.04, \"sort_date\": 997.0, \"sort_amount\": 1344.0, \"sort_place_in_line\": 1343.0, \"sort_price_per_pod\": 425.0}, {\"date\": \"2022-04-14\", \"amount\": 482, \"place_in_line\": 43660641, \"price_per_pod\": 0.9, \"sort_date\": 996.0, \"sort_amount\": 69.0, \"sort_place_in_line\": 203.0, \"sort_price_per_pod\": 1464.0}, {\"date\": \"2022-04-14\", \"amount\": 15534, \"place_in_line\": 99901104, \"price_per_pod\": 0.66, \"sort_date\": 1011.0, \"sort_amount\": 873.0, \"sort_place_in_line\": 412.0, \"sort_price_per_pod\": 1283.0}, {\"date\": \"2022-04-14\", \"amount\": 4423, \"place_in_line\": 47565632, \"price_per_pod\": 0.92, \"sort_date\": 1010.0, \"sort_amount\": 381.0, \"sort_place_in_line\": 243.0, \"sort_price_per_pod\": 1469.0}, {\"date\": \"2022-04-14\", \"amount\": 35105, \"place_in_line\": 718760344, \"price_per_pod\": 0.042, \"sort_date\": 1009.0, \"sort_amount\": 1156.0, \"sort_place_in_line\": 1341.0, \"sort_price_per_pod\": 440.0}, {\"date\": \"2022-04-14\", \"amount\": 19609, \"place_in_line\": 718082806, \"price_per_pod\": 0.045, \"sort_date\": 1008.0, \"sort_amount\": 957.0, \"sort_place_in_line\": 1328.0, \"sort_price_per_pod\": 466.0}, {\"date\": \"2022-04-14\", \"amount\": 2406, \"place_in_line\": 422363385, \"price_per_pod\": 0.15, \"sort_date\": 1007.0, \"sort_amount\": 239.0, \"sort_place_in_line\": 848.0, \"sort_price_per_pod\": 874.0}, {\"date\": \"2022-04-14\", \"amount\": 29698, \"place_in_line\": 48672637, \"price_per_pod\": 0.93, \"sort_date\": 1006.0, \"sort_amount\": 1100.0, \"sort_place_in_line\": 274.0, \"sort_price_per_pod\": 1474.0}, {\"date\": \"2022-04-14\", \"amount\": 2433, \"place_in_line\": 42783665, \"price_per_pod\": 0.97, \"sort_date\": 1004.0, \"sort_amount\": 240.0, \"sort_place_in_line\": 182.0, \"sort_price_per_pod\": 1499.0}, {\"date\": \"2022-04-14\", \"amount\": 22484, \"place_in_line\": 42786099, \"price_per_pod\": 0.97, \"sort_date\": 1003.0, \"sort_amount\": 1029.0, \"sort_place_in_line\": 184.0, \"sort_price_per_pod\": 1498.0}, {\"date\": \"2022-04-14\", \"amount\": 15036, \"place_in_line\": 719100357, \"price_per_pod\": 0.04, \"sort_date\": 1002.0, \"sort_amount\": 862.0, \"sort_place_in_line\": 1345.0, \"sort_price_per_pod\": 430.0}, {\"date\": \"2022-04-14\", \"amount\": 10494, \"place_in_line\": 709175183, \"price_per_pod\": 0.042, \"sort_date\": 1005.0, \"sort_amount\": 726.0, \"sort_place_in_line\": 1194.0, \"sort_price_per_pod\": 439.0}, {\"date\": \"2022-04-14\", \"amount\": 80000, \"place_in_line\": 719115393, \"price_per_pod\": 0.04, \"sort_date\": 1000.0, \"sort_amount\": 1330.0, \"sort_place_in_line\": 1346.0, \"sort_price_per_pod\": 428.0}, {\"date\": \"2022-04-14\", \"amount\": 2015, \"place_in_line\": 719195393, \"price_per_pod\": 0.04, \"sort_date\": 999.0, \"sort_amount\": 215.0, \"sort_place_in_line\": 1347.0, \"sort_price_per_pod\": 407.0}, {\"date\": \"2022-04-14\", \"amount\": 22000, \"place_in_line\": 219661298, \"price_per_pod\": 0.25, \"sort_date\": 998.0, \"sort_amount\": 1020.0, \"sort_place_in_line\": 616.0, \"sort_price_per_pod\": 1042.0}, {\"date\": \"2022-04-14\", \"amount\": 7000, \"place_in_line\": 42808583, \"price_per_pod\": 0.97, \"sort_date\": 1001.0, \"sort_amount\": 536.0, \"sort_place_in_line\": 185.0, \"sort_price_per_pod\": 1497.0}, {\"date\": \"2022-04-14\", \"amount\": 3333, \"place_in_line\": 137319841, \"price_per_pod\": 0.5, \"sort_date\": 978.0, \"sort_amount\": 302.0, \"sort_place_in_line\": 503.0, \"sort_price_per_pod\": 1180.0}, {\"date\": \"2022-04-14\", \"amount\": 41555, \"place_in_line\": 719234620, \"price_per_pod\": 0.04, \"sort_date\": 992.0, \"sort_amount\": 1199.0, \"sort_place_in_line\": 1349.0, \"sort_price_per_pod\": 408.0}, {\"date\": \"2022-04-14\", \"amount\": 11308, \"place_in_line\": 42629708, \"price_per_pod\": 0.97, \"sort_date\": 976.0, \"sort_amount\": 758.0, \"sort_place_in_line\": 176.0, \"sort_price_per_pod\": 1496.0}, {\"date\": \"2022-04-14\", \"amount\": 83262, \"place_in_line\": 219683298, \"price_per_pod\": 0.24, \"sort_date\": 960.0, \"sort_amount\": 1337.0, \"sort_place_in_line\": 617.0, \"sort_price_per_pod\": 1020.0}, {\"date\": \"2022-04-14\", \"amount\": 82507, \"place_in_line\": 719276176, \"price_per_pod\": 0.04, \"sort_date\": 955.0, \"sort_amount\": 1335.0, \"sort_place_in_line\": 1350.0, \"sort_price_per_pod\": 398.0}, {\"date\": \"2022-04-14\", \"amount\": 37212, \"place_in_line\": 719197408, \"price_per_pod\": 0.04, \"sort_date\": 953.0, \"sort_amount\": 1167.0, \"sort_place_in_line\": 1348.0, \"sort_price_per_pod\": 400.0}, {\"date\": \"2022-04-14\", \"amount\": 29767, \"place_in_line\": 719358683, \"price_per_pod\": 0.04, \"sort_date\": 949.0, \"sort_amount\": 1103.0, \"sort_place_in_line\": 1351.0, \"sort_price_per_pod\": 395.0}, {\"date\": \"2022-04-14\", \"amount\": 14666, \"place_in_line\": 718102416, \"price_per_pod\": 0.045, \"sort_date\": 952.0, \"sort_amount\": 855.0, \"sort_place_in_line\": 1332.0, \"sort_price_per_pod\": 469.0}, {\"date\": \"2022-04-14\", \"amount\": 138280, \"place_in_line\": 270896539, \"price_per_pod\": 0.2, \"sort_date\": 951.0, \"sort_amount\": 1414.0, \"sort_place_in_line\": 687.0, \"sort_price_per_pod\": 971.0}, {\"date\": \"2022-04-14\", \"amount\": 174474, \"place_in_line\": 720495799, \"price_per_pod\": 0.04, \"sort_date\": 950.0, \"sort_amount\": 1453.0, \"sort_place_in_line\": 1361.0, \"sort_price_per_pod\": 397.0}, {\"date\": \"2022-04-14\", \"amount\": 1259, \"place_in_line\": 89188612, \"price_per_pod\": 0.75, \"sort_date\": 956.0, \"sort_amount\": 153.0, \"sort_place_in_line\": 346.0, \"sort_price_per_pod\": 1352.0}, {\"date\": \"2022-04-14\", \"amount\": 20262, \"place_in_line\": 288613470, \"price_per_pod\": 0.1, \"sort_date\": 948.0, \"sort_amount\": 983.0, \"sort_place_in_line\": 725.0, \"sort_price_per_pod\": 789.0}, {\"date\": \"2022-04-14\", \"amount\": 6745, \"place_in_line\": 311869690, \"price_per_pod\": 0.159, \"sort_date\": 943.0, \"sort_amount\": 527.0, \"sort_place_in_line\": 770.0, \"sort_price_per_pod\": 926.0}, {\"date\": \"2022-04-14\", \"amount\": 4160, \"place_in_line\": 695877378, \"price_per_pod\": 0.05, \"sort_date\": 947.0, \"sort_amount\": 362.0, \"sort_place_in_line\": 965.0, \"sort_price_per_pod\": 527.0}, {\"date\": \"2022-04-14\", \"amount\": 162851, \"place_in_line\": 720332948, \"price_per_pod\": 0.04, \"sort_date\": 946.0, \"sort_amount\": 1445.0, \"sort_place_in_line\": 1360.0, \"sort_price_per_pod\": 394.0}, {\"date\": \"2022-04-14\", \"amount\": 136033, \"place_in_line\": 720005914, \"price_per_pod\": 0.04, \"sort_date\": 944.0, \"sort_amount\": 1411.0, \"sort_place_in_line\": 1356.0, \"sort_price_per_pod\": 433.0}, {\"date\": \"2022-04-14\", \"amount\": 2126, \"place_in_line\": 720670274, \"price_per_pod\": 0.04, \"sort_date\": 942.0, \"sort_amount\": 219.0, \"sort_place_in_line\": 1362.0, \"sort_price_per_pod\": 432.0}, {\"date\": \"2022-04-14\", \"amount\": 17161, \"place_in_line\": 311876435, \"price_per_pod\": 0.159, \"sort_date\": 945.0, \"sort_amount\": 913.0, \"sort_place_in_line\": 771.0, \"sort_price_per_pod\": 927.0}, {\"date\": \"2022-04-14\", \"amount\": 34267, \"place_in_line\": 361632377, \"price_per_pod\": 0.148, \"sort_date\": 954.0, \"sort_amount\": 1148.0, \"sort_place_in_line\": 802.0, \"sort_price_per_pod\": 872.0}, {\"date\": \"2022-04-14\", \"amount\": 26917, \"place_in_line\": 384105638, \"price_per_pod\": 0.15, \"sort_date\": 957.0, \"sort_amount\": 1077.0, \"sort_place_in_line\": 815.0, \"sort_price_per_pod\": 888.0}, {\"date\": \"2022-04-14\", \"amount\": 167217, \"place_in_line\": 719838697, \"price_per_pod\": 0.04, \"sort_date\": 975.0, \"sort_amount\": 1449.0, \"sort_place_in_line\": 1355.0, \"sort_price_per_pod\": 426.0}, {\"date\": \"2022-04-14\", \"amount\": 33268, \"place_in_line\": 720141948, \"price_per_pod\": 0.04, \"sort_date\": 959.0, \"sort_amount\": 1136.0, \"sort_place_in_line\": 1357.0, \"sort_price_per_pod\": 422.0}, {\"date\": \"2022-04-14\", \"amount\": 19072, \"place_in_line\": 718117083, \"price_per_pod\": 0.045, \"sort_date\": 974.0, \"sort_amount\": 949.0, \"sort_place_in_line\": 1333.0, \"sort_price_per_pod\": 451.0}, {\"date\": \"2022-04-14\", \"amount\": 85000, \"place_in_line\": 279257880, \"price_per_pod\": 0.1888, \"sort_date\": 973.0, \"sort_amount\": 1347.0, \"sort_place_in_line\": 714.0, \"sort_price_per_pod\": 951.0}, {\"date\": \"2022-04-14\", \"amount\": 142619, \"place_in_line\": 720949940, \"price_per_pod\": 0.04, \"sort_date\": 972.0, \"sort_amount\": 1419.0, \"sort_place_in_line\": 1368.0, \"sort_price_per_pod\": 418.0}, {\"date\": \"2022-04-14\", \"amount\": 62724, \"place_in_line\": 721092559, \"price_per_pod\": 0.04, \"sort_date\": 971.0, \"sort_amount\": 1287.0, \"sort_place_in_line\": 1370.0, \"sort_price_per_pod\": 417.0}, {\"date\": \"2022-04-14\", \"amount\": 31263, \"place_in_line\": 720678752, \"price_per_pod\": 0.04, \"sort_date\": 970.0, \"sort_amount\": 1123.0, \"sort_place_in_line\": 1364.0, \"sort_price_per_pod\": 419.0}, {\"date\": \"2022-04-14\", \"amount\": 277271, \"place_in_line\": 252622959, \"price_per_pod\": 0.2399, \"sort_date\": 969.0, \"sort_amount\": 1487.0, \"sort_place_in_line\": 658.0, \"sort_price_per_pod\": 1012.0}, {\"date\": \"2022-04-14\", \"amount\": 2541, \"place_in_line\": 221825594, \"price_per_pod\": 0.28, \"sort_date\": 968.0, \"sort_amount\": 250.0, \"sort_place_in_line\": 625.0, \"sort_price_per_pod\": 1053.0}, {\"date\": \"2022-04-14\", \"amount\": 10981, \"place_in_line\": 278128513, \"price_per_pod\": 0.1999, \"sort_date\": 967.0, \"sort_amount\": 743.0, \"sort_place_in_line\": 707.0, \"sort_price_per_pod\": 962.0}, {\"date\": \"2022-04-14\", \"amount\": 29596, \"place_in_line\": 170679729, \"price_per_pod\": 0.4, \"sort_date\": 966.0, \"sort_amount\": 1099.0, \"sort_place_in_line\": 572.0, \"sort_price_per_pod\": 1107.0}, {\"date\": \"2022-04-14\", \"amount\": 2765, \"place_in_line\": 379499473, \"price_per_pod\": 0.06, \"sort_date\": 965.0, \"sort_amount\": 269.0, \"sort_place_in_line\": 812.0, \"sort_price_per_pod\": 636.0}, {\"date\": \"2022-04-14\", \"amount\": 4499, \"place_in_line\": 296937641, \"price_per_pod\": 0.25, \"sort_date\": 964.0, \"sort_amount\": 389.0, \"sort_place_in_line\": 743.0, \"sort_price_per_pod\": 1033.0}, {\"date\": \"2022-04-14\", \"amount\": 34934, \"place_in_line\": 722432205, \"price_per_pod\": 0.035, \"sort_date\": 963.0, \"sort_amount\": 1155.0, \"sort_place_in_line\": 1376.0, \"sort_price_per_pod\": 367.0}, {\"date\": \"2022-04-14\", \"amount\": 218560, \"place_in_line\": 722467139, \"price_per_pod\": 0.035, \"sort_date\": 958.0, \"sort_amount\": 1469.0, \"sort_place_in_line\": 1377.0, \"sort_price_per_pod\": 368.0}, {\"date\": \"2022-04-14\", \"amount\": 65999, \"place_in_line\": 722685699, \"price_per_pod\": 0.035, \"sort_date\": 962.0, \"sort_amount\": 1294.0, \"sort_place_in_line\": 1378.0, \"sort_price_per_pod\": 371.0}, {\"date\": \"2022-04-14\", \"amount\": 4363, \"place_in_line\": 168574996, \"price_per_pod\": 0.43, \"sort_date\": 961.0, \"sort_amount\": 375.0, \"sort_place_in_line\": 565.0, \"sort_price_per_pod\": 1119.0}, {\"date\": \"2022-04-15\", \"amount\": 1000, \"place_in_line\": 139710719, \"price_per_pod\": 0.5, \"sort_date\": 1073.0, \"sort_amount\": 126.0, \"sort_place_in_line\": 514.0, \"sort_price_per_pod\": 1170.0}, {\"date\": \"2022-04-15\", \"amount\": 279, \"place_in_line\": 93479526, \"price_per_pod\": 0.69, \"sort_date\": 1072.0, \"sort_amount\": 37.0, \"sort_place_in_line\": 379.0, \"sort_price_per_pod\": 1301.0}, {\"date\": \"2022-04-15\", \"amount\": 96716, \"place_in_line\": 722990899, \"price_per_pod\": 0.035, \"sort_date\": 1071.0, \"sort_amount\": 1367.0, \"sort_place_in_line\": 1379.0, \"sort_price_per_pod\": 374.0}, {\"date\": \"2022-04-15\", \"amount\": 40499, \"place_in_line\": 723087615, \"price_per_pod\": 0.035, \"sort_date\": 1070.0, \"sort_amount\": 1191.0, \"sort_place_in_line\": 1380.0, \"sort_price_per_pod\": 357.0}, {\"date\": \"2022-04-15\", \"amount\": 89, \"place_in_line\": 42641016, \"price_per_pod\": 0.97, \"sort_date\": 1069.0, \"sort_amount\": 20.0, \"sort_place_in_line\": 177.0, \"sort_price_per_pod\": 1495.0}, {\"date\": \"2022-04-15\", \"amount\": 25000, \"place_in_line\": 723128115, \"price_per_pod\": 0.035, \"sort_date\": 1068.0, \"sort_amount\": 1058.0, \"sort_place_in_line\": 1381.0, \"sort_price_per_pod\": 352.0}, {\"date\": \"2022-04-15\", \"amount\": 79777, \"place_in_line\": 723153115, \"price_per_pod\": 0.035, \"sort_date\": 1067.0, \"sort_amount\": 1328.0, \"sort_place_in_line\": 1382.0, \"sort_price_per_pod\": 339.0}, {\"date\": \"2022-04-15\", \"amount\": 18772, \"place_in_line\": 89189871, \"price_per_pod\": 0.7, \"sort_date\": 1077.0, \"sort_amount\": 945.0, \"sort_place_in_line\": 347.0, \"sort_price_per_pod\": 1317.0}, {\"date\": \"2022-04-15\", \"amount\": 39968, \"place_in_line\": 89208643, \"price_per_pod\": 0.7, \"sort_date\": 1075.0, \"sort_amount\": 1184.0, \"sort_place_in_line\": 350.0, \"sort_price_per_pod\": 1316.0}, {\"date\": \"2022-04-15\", \"amount\": 130876, \"place_in_line\": 723232893, \"price_per_pod\": 0.035, \"sort_date\": 1066.0, \"sort_amount\": 1404.0, \"sort_place_in_line\": 1383.0, \"sort_price_per_pod\": 342.0}, {\"date\": \"2022-04-15\", \"amount\": 57106, \"place_in_line\": 723363770, \"price_per_pod\": 0.035, \"sort_date\": 1064.0, \"sort_amount\": 1271.0, \"sort_place_in_line\": 1384.0, \"sort_price_per_pod\": 346.0}, {\"date\": \"2022-04-15\", \"amount\": 306309, \"place_in_line\": 721513519, \"price_per_pod\": 0.037, \"sort_date\": 1063.0, \"sort_amount\": 1491.0, \"sort_place_in_line\": 1374.0, \"sort_price_per_pod\": 388.0}, {\"date\": \"2022-04-15\", \"amount\": 322801, \"place_in_line\": 722109403, \"price_per_pod\": 0.037, \"sort_date\": 1062.0, \"sort_amount\": 1493.0, \"sort_place_in_line\": 1375.0, \"sort_price_per_pod\": 387.0}, {\"date\": \"2022-04-15\", \"amount\": 145018, \"place_in_line\": 718955338, \"price_per_pod\": 0.037, \"sort_date\": 1061.0, \"sort_amount\": 1422.0, \"sort_place_in_line\": 1344.0, \"sort_price_per_pod\": 385.0}, {\"date\": \"2022-04-15\", \"amount\": 109437, \"place_in_line\": 715574293, \"price_per_pod\": 0.037, \"sort_date\": 1060.0, \"sort_amount\": 1388.0, \"sort_place_in_line\": 1299.0, \"sort_price_per_pod\": 384.0}, {\"date\": \"2022-04-15\", \"amount\": 348266, \"place_in_line\": 723782462, \"price_per_pod\": 0.035, \"sort_date\": 1059.0, \"sort_amount\": 1495.0, \"sort_place_in_line\": 1385.0, \"sort_price_per_pod\": 349.0}, {\"date\": \"2022-04-15\", \"amount\": 153179, \"place_in_line\": 718459184, \"price_per_pod\": 0.035, \"sort_date\": 1058.0, \"sort_amount\": 1439.0, \"sort_place_in_line\": 1340.0, \"sort_price_per_pod\": 354.0}, {\"date\": \"2022-04-15\", \"amount\": 379699, \"place_in_line\": 724130728, \"price_per_pod\": 0.035, \"sort_date\": 1057.0, \"sort_amount\": 1496.0, \"sort_place_in_line\": 1386.0, \"sort_price_per_pod\": 338.0}, {\"date\": \"2022-04-15\", \"amount\": 204556, \"place_in_line\": 715901934, \"price_per_pod\": 0.035, \"sort_date\": 1065.0, \"sort_amount\": 1463.0, \"sort_place_in_line\": 1302.0, \"sort_price_per_pod\": 343.0}, {\"date\": \"2022-04-15\", \"amount\": 16707, \"place_in_line\": 709010774, \"price_per_pod\": 0.037, \"sort_date\": 1076.0, \"sort_amount\": 898.0, \"sort_place_in_line\": 1186.0, \"sort_price_per_pod\": 386.0}, {\"date\": \"2022-04-15\", \"amount\": 17834, \"place_in_line\": 709064906, \"price_per_pod\": 0.037, \"sort_date\": 1080.0, \"sort_amount\": 928.0, \"sort_place_in_line\": 1188.0, \"sort_price_per_pod\": 377.0}, {\"date\": \"2022-04-15\", \"amount\": 73188, \"place_in_line\": 278393127, \"price_per_pod\": 0.195, \"sort_date\": 1078.0, \"sort_amount\": 1316.0, \"sort_place_in_line\": 708.0, \"sort_price_per_pod\": 961.0}, {\"date\": \"2022-04-15\", \"amount\": 167255, \"place_in_line\": 716297300, \"price_per_pod\": 0.037, \"sort_date\": 1098.0, \"sort_amount\": 1450.0, \"sort_place_in_line\": 1306.0, \"sort_price_per_pod\": 381.0}, {\"date\": \"2022-04-15\", \"amount\": 150002, \"place_in_line\": 719388450, \"price_per_pod\": 0.037, \"sort_date\": 1097.0, \"sort_amount\": 1430.0, \"sort_place_in_line\": 1352.0, \"sort_price_per_pod\": 378.0}, {\"date\": \"2022-04-15\", \"amount\": 148762, \"place_in_line\": 719689934, \"price_per_pod\": 0.037, \"sort_date\": 1095.0, \"sort_amount\": 1425.0, \"sort_place_in_line\": 1354.0, \"sort_price_per_pod\": 379.0}, {\"date\": \"2022-04-15\", \"amount\": 155690, \"place_in_line\": 717698520, \"price_per_pod\": 0.037, \"sort_date\": 1094.0, \"sort_amount\": 1441.0, \"sort_place_in_line\": 1320.0, \"sort_price_per_pod\": 380.0}, {\"date\": \"2022-04-15\", \"amount\": 2695, \"place_in_line\": 711716112, \"price_per_pod\": 0.037, \"sort_date\": 1093.0, \"sort_amount\": 264.0, \"sort_place_in_line\": 1267.0, \"sort_price_per_pod\": 382.0}, {\"date\": \"2022-04-15\", \"amount\": 148493, \"place_in_line\": 718162604, \"price_per_pod\": 0.037, \"sort_date\": 1092.0, \"sort_amount\": 1424.0, \"sort_place_in_line\": 1335.0, \"sort_price_per_pod\": 389.0}, {\"date\": \"2022-04-15\", \"amount\": 13424, \"place_in_line\": 715560868, \"price_per_pod\": 0.037, \"sort_date\": 1091.0, \"sort_amount\": 826.0, \"sort_place_in_line\": 1298.0, \"sort_price_per_pod\": 376.0}, {\"date\": \"2022-04-15\", \"amount\": 26811, \"place_in_line\": 278466316, \"price_per_pod\": 0.195, \"sort_date\": 1090.0, \"sort_amount\": 1075.0, \"sort_place_in_line\": 709.0, \"sort_price_per_pod\": 960.0}, {\"date\": \"2022-04-15\", \"amount\": 150000, \"place_in_line\": 720710015, \"price_per_pod\": 0.04, \"sort_date\": 1089.0, \"sort_amount\": 1429.0, \"sort_place_in_line\": 1365.0, \"sort_price_per_pod\": 399.0}, {\"date\": \"2022-04-15\", \"amount\": 8618, \"place_in_line\": 720860015, \"price_per_pod\": 0.04, \"sort_date\": 1096.0, \"sort_amount\": 619.0, \"sort_place_in_line\": 1366.0, \"sort_price_per_pod\": 406.0}, {\"date\": \"2022-04-15\", \"amount\": 12043, \"place_in_line\": 464408576, \"price_per_pod\": 0.119, \"sort_date\": 1087.0, \"sort_amount\": 784.0, \"sort_place_in_line\": 867.0, \"sort_price_per_pod\": 837.0}, {\"date\": \"2022-04-15\", \"amount\": 57, \"place_in_line\": 139711719, \"price_per_pod\": 0.5, \"sort_date\": 1086.0, \"sort_amount\": 16.0, \"sort_place_in_line\": 515.0, \"sort_price_per_pod\": 1175.0}, {\"date\": \"2022-04-15\", \"amount\": 4380, \"place_in_line\": 383565939, \"price_per_pod\": 0.15, \"sort_date\": 1085.0, \"sort_amount\": 376.0, \"sort_place_in_line\": 813.0, \"sort_price_per_pod\": 895.0}, {\"date\": \"2022-04-15\", \"amount\": 42190, \"place_in_line\": 721155284, \"price_per_pod\": 0.04, \"sort_date\": 1084.0, \"sort_amount\": 1204.0, \"sort_place_in_line\": 1371.0, \"sort_price_per_pod\": 411.0}, {\"date\": \"2022-04-15\", \"amount\": 81305, \"place_in_line\": 720868634, \"price_per_pod\": 0.04, \"sort_date\": 1088.0, \"sort_amount\": 1332.0, \"sort_place_in_line\": 1367.0, \"sort_price_per_pod\": 404.0}, {\"date\": \"2022-04-15\", \"amount\": 26160, \"place_in_line\": 721197474, \"price_per_pod\": 0.04, \"sort_date\": 1083.0, \"sort_amount\": 1070.0, \"sort_place_in_line\": 1372.0, \"sort_price_per_pod\": 402.0}, {\"date\": \"2022-04-15\", \"amount\": 6350, \"place_in_line\": 720672401, \"price_per_pod\": 0.04, \"sort_date\": 1082.0, \"sort_amount\": 500.0, \"sort_place_in_line\": 1363.0, \"sort_price_per_pod\": 410.0}, {\"date\": \"2022-04-15\", \"amount\": 26448, \"place_in_line\": 718136155, \"price_per_pod\": 0.045, \"sort_date\": 1081.0, \"sort_amount\": 1072.0, \"sort_place_in_line\": 1334.0, \"sort_price_per_pod\": 479.0}, {\"date\": \"2022-04-15\", \"amount\": 62724, \"place_in_line\": 721092559, \"price_per_pod\": 0.05, \"sort_date\": 1079.0, \"sort_amount\": 1288.0, \"sort_place_in_line\": 1369.0, \"sort_price_per_pod\": 537.0}, {\"date\": \"2022-04-15\", \"amount\": 3850, \"place_in_line\": 709185678, \"price_per_pod\": 0.042, \"sort_date\": 1056.0, \"sort_amount\": 344.0, \"sort_place_in_line\": 1196.0, \"sort_price_per_pod\": 438.0}, {\"date\": \"2022-04-15\", \"amount\": 100000, \"place_in_line\": 725499911, \"price_per_pod\": 0.045, \"sort_date\": 1074.0, \"sort_amount\": 1375.0, \"sort_place_in_line\": 1391.0, \"sort_price_per_pod\": 480.0}, {\"date\": \"2022-04-15\", \"amount\": 50493, \"place_in_line\": 725599911, \"price_per_pod\": 0.045, \"sort_date\": 1054.0, \"sort_amount\": 1251.0, \"sort_place_in_line\": 1392.0, \"sort_price_per_pod\": 481.0}, {\"date\": \"2022-04-15\", \"amount\": 98010, \"place_in_line\": 725650404, \"price_per_pod\": 0.045, \"sort_date\": 1039.0, \"sort_amount\": 1370.0, \"sort_place_in_line\": 1393.0, \"sort_price_per_pod\": 482.0}, {\"date\": \"2022-04-15\", \"amount\": 6395, \"place_in_line\": 50200914, \"price_per_pod\": 0.975, \"sort_date\": 1029.0, \"sort_amount\": 502.0, \"sort_place_in_line\": 297.0, \"sort_price_per_pod\": 1501.0}, {\"date\": \"2022-04-15\", \"amount\": 865, \"place_in_line\": 139711776, \"price_per_pod\": 0.5, \"sort_date\": 1027.0, \"sort_amount\": 110.0, \"sort_place_in_line\": 516.0, \"sort_price_per_pod\": 1177.0}, {\"date\": \"2022-04-15\", \"amount\": 3684, \"place_in_line\": 708384539, \"price_per_pod\": 0.047, \"sort_date\": 1021.0, \"sort_amount\": 329.0, \"sort_place_in_line\": 1147.0, \"sort_price_per_pod\": 490.0}, {\"date\": \"2022-04-15\", \"amount\": 125, \"place_in_line\": 117206229, \"price_per_pod\": 0.69, \"sort_date\": 1026.0, \"sort_amount\": 24.0, \"sort_place_in_line\": 430.0, \"sort_price_per_pod\": 1304.0}, {\"date\": \"2022-04-15\", \"amount\": 156683, \"place_in_line\": 716942581, \"price_per_pod\": 0.045, \"sort_date\": 1025.0, \"sort_amount\": 1443.0, \"sort_place_in_line\": 1312.0, \"sort_price_per_pod\": 456.0}, {\"date\": \"2022-04-15\", \"amount\": 151481, \"place_in_line\": 719538452, \"price_per_pod\": 0.045, \"sort_date\": 1024.0, \"sort_amount\": 1435.0, \"sort_place_in_line\": 1353.0, \"sort_price_per_pod\": 449.0}, {\"date\": \"2022-04-15\", \"amount\": 1178, \"place_in_line\": 139712642, \"price_per_pod\": 0.5, \"sort_date\": 1023.0, \"sort_amount\": 145.0, \"sort_place_in_line\": 517.0, \"sort_price_per_pod\": 1159.0}, {\"date\": \"2022-04-15\", \"amount\": 17747, \"place_in_line\": 708728894, \"price_per_pod\": 0.047, \"sort_date\": 1022.0, \"sort_amount\": 926.0, \"sort_place_in_line\": 1176.0, \"sort_price_per_pod\": 491.0}, {\"date\": \"2022-04-15\", \"amount\": 14647, \"place_in_line\": 708388223, \"price_per_pod\": 0.047, \"sort_date\": 1055.0, \"sort_amount\": 854.0, \"sort_place_in_line\": 1148.0, \"sort_price_per_pod\": 492.0}, {\"date\": \"2022-04-15\", \"amount\": 5137, \"place_in_line\": 139713821, \"price_per_pod\": 0.5, \"sort_date\": 1030.0, \"sort_amount\": 436.0, \"sort_place_in_line\": 518.0, \"sort_price_per_pod\": 1172.0}, {\"date\": \"2022-04-15\", \"amount\": 10494, \"place_in_line\": 709175183, \"price_per_pod\": 0.069, \"sort_date\": 1020.0, \"sort_amount\": 725.0, \"sort_place_in_line\": 1195.0, \"sort_price_per_pod\": 691.0}, {\"date\": \"2022-04-15\", \"amount\": 137731, \"place_in_line\": 714452777, \"price_per_pod\": 0.054, \"sort_date\": 1018.0, \"sort_amount\": 1413.0, \"sort_place_in_line\": 1287.0, \"sort_price_per_pod\": 588.0}, {\"date\": \"2022-04-15\", \"amount\": 2715, \"place_in_line\": 401439474, \"price_per_pod\": 0.15, \"sort_date\": 1017.0, \"sort_amount\": 265.0, \"sort_place_in_line\": 826.0, \"sort_price_per_pod\": 903.0}, {\"date\": \"2022-04-15\", \"amount\": 15403, \"place_in_line\": 725748414, \"price_per_pod\": 0.045, \"sort_date\": 1016.0, \"sort_amount\": 871.0, \"sort_place_in_line\": 1394.0, \"sort_price_per_pod\": 454.0}, {\"date\": \"2022-04-15\", \"amount\": 34675, \"place_in_line\": 725763818, \"price_per_pod\": 0.045, \"sort_date\": 1015.0, \"sort_amount\": 1151.0, \"sort_place_in_line\": 1395.0, \"sort_price_per_pod\": 450.0}, {\"date\": \"2022-04-15\", \"amount\": 3333, \"place_in_line\": 133657386, \"price_per_pod\": 0.6, \"sort_date\": 1014.0, \"sort_amount\": 304.0, \"sort_place_in_line\": 462.0, \"sort_price_per_pod\": 1246.0}, {\"date\": \"2022-04-15\", \"amount\": 3033, \"place_in_line\": 92739387, \"price_per_pod\": 0.89, \"sort_date\": 1013.0, \"sort_amount\": 288.0, \"sort_place_in_line\": 359.0, \"sort_price_per_pod\": 1444.0}, {\"date\": \"2022-04-15\", \"amount\": 10416, \"place_in_line\": 50095590, \"price_per_pod\": 0.96, \"sort_date\": 1019.0, \"sort_amount\": 719.0, \"sort_place_in_line\": 291.0, \"sort_price_per_pod\": 1487.0}, {\"date\": \"2022-04-15\", \"amount\": 4063, \"place_in_line\": 133660720, \"price_per_pod\": 0.6, \"sort_date\": 1012.0, \"sort_amount\": 357.0, \"sort_place_in_line\": 463.0, \"sort_price_per_pod\": 1256.0}, {\"date\": \"2022-04-15\", \"amount\": 100000, \"place_in_line\": 725798493, \"price_per_pod\": 0.045, \"sort_date\": 1028.0, \"sort_amount\": 1378.0, \"sort_place_in_line\": 1396.0, \"sort_price_per_pod\": 452.0}, {\"date\": \"2022-04-15\", \"amount\": 15747, \"place_in_line\": 45779640, \"price_per_pod\": 0.99, \"sort_date\": 1031.0, \"sort_amount\": 878.0, \"sort_place_in_line\": 217.0, \"sort_price_per_pod\": 1503.0}, {\"date\": \"2022-04-15\", \"amount\": 12191, \"place_in_line\": 709132382, \"price_per_pod\": 0.047, \"sort_date\": 1053.0, \"sort_amount\": 789.0, \"sort_place_in_line\": 1190.0, \"sort_price_per_pod\": 486.0}, {\"date\": \"2022-04-15\", \"amount\": 46663, \"place_in_line\": 50106007, \"price_per_pod\": 0.96, \"sort_date\": 1033.0, \"sort_amount\": 1234.0, \"sort_place_in_line\": 292.0, \"sort_price_per_pod\": 1486.0}, {\"date\": \"2022-04-15\", \"amount\": 30400, \"place_in_line\": 296942140, \"price_per_pod\": 0.19, \"sort_date\": 1052.0, \"sort_amount\": 1119.0, \"sort_place_in_line\": 744.0, \"sort_price_per_pod\": 956.0}, {\"date\": \"2022-04-15\", \"amount\": 98973, \"place_in_line\": 725898493, \"price_per_pod\": 0.045, \"sort_date\": 1051.0, \"sort_amount\": 1371.0, \"sort_place_in_line\": 1397.0, \"sort_price_per_pod\": 453.0}, {\"date\": \"2022-04-15\", \"amount\": 10000, \"place_in_line\": 296972540, \"price_per_pod\": 0.19, \"sort_date\": 1050.0, \"sort_amount\": 698.0, \"sort_place_in_line\": 745.0, \"sort_price_per_pod\": 959.0}, {\"date\": \"2022-04-15\", \"amount\": 150312, \"place_in_line\": 717546656, \"price_per_pod\": 0.049, \"sort_date\": 1049.0, \"sort_amount\": 1431.0, \"sort_place_in_line\": 1318.0, \"sort_price_per_pod\": 499.0}, {\"date\": \"2022-04-15\", \"amount\": 109968, \"place_in_line\": 725211130, \"price_per_pod\": 0.05, \"sort_date\": 1048.0, \"sort_amount\": 1389.0, \"sort_place_in_line\": 1389.0, \"sort_price_per_pod\": 525.0}, {\"date\": \"2022-04-15\", \"amount\": 178812, \"place_in_line\": 725321098, \"price_per_pod\": 0.05, \"sort_date\": 1047.0, \"sort_amount\": 1455.0, \"sort_place_in_line\": 1390.0, \"sort_price_per_pod\": 524.0}, {\"date\": \"2022-04-15\", \"amount\": 13246, \"place_in_line\": 45795387, \"price_per_pod\": 0.99, \"sort_date\": 1046.0, \"sort_amount\": 823.0, \"sort_place_in_line\": 218.0, \"sort_price_per_pod\": 1502.0}, {\"date\": \"2022-04-15\", \"amount\": 115005, \"place_in_line\": 725997467, \"price_per_pod\": 0.05, \"sort_date\": 1045.0, \"sort_amount\": 1393.0, \"sort_place_in_line\": 1398.0, \"sort_price_per_pod\": 522.0}, {\"date\": \"2022-04-15\", \"amount\": 19899, \"place_in_line\": 710119139, \"price_per_pod\": 0.047, \"sort_date\": 1044.0, \"sort_amount\": 961.0, \"sort_place_in_line\": 1240.0, \"sort_price_per_pod\": 497.0}, {\"date\": \"2022-04-15\", \"amount\": 42239, \"place_in_line\": 270756344, \"price_per_pod\": 0.22, \"sort_date\": 1043.0, \"sort_amount\": 1205.0, \"sort_place_in_line\": 686.0, \"sort_price_per_pod\": 1000.0}, {\"date\": \"2022-04-15\", \"amount\": 75343, \"place_in_line\": 726112472, \"price_per_pod\": 0.05, \"sort_date\": 1042.0, \"sort_amount\": 1321.0, \"sort_place_in_line\": 1399.0, \"sort_price_per_pod\": 520.0}, {\"date\": \"2022-04-15\", \"amount\": 11371, \"place_in_line\": 117206354, \"price_per_pod\": 0.69, \"sort_date\": 1041.0, \"sort_amount\": 760.0, \"sort_place_in_line\": 431.0, \"sort_price_per_pod\": 1298.0}, {\"date\": \"2022-04-15\", \"amount\": 3119, \"place_in_line\": 54329725, \"price_per_pod\": 0.92, \"sort_date\": 1040.0, \"sort_amount\": 294.0, \"sort_place_in_line\": 302.0, \"sort_price_per_pod\": 1470.0}, {\"date\": \"2022-04-15\", \"amount\": 3171, \"place_in_line\": 54332844, \"price_per_pod\": 0.92, \"sort_date\": 1032.0, \"sort_amount\": 296.0, \"sort_place_in_line\": 303.0, \"sort_price_per_pod\": 1472.0}, {\"date\": \"2022-04-15\", \"amount\": 3709, \"place_in_line\": 54336016, \"price_per_pod\": 0.92, \"sort_date\": 1038.0, \"sort_amount\": 330.0, \"sort_place_in_line\": 304.0, \"sort_price_per_pod\": 1471.0}, {\"date\": \"2022-04-15\", \"amount\": 42247, \"place_in_line\": 319161563, \"price_per_pod\": 0.2269, \"sort_date\": 1037.0, \"sort_amount\": 1206.0, \"sort_place_in_line\": 773.0, \"sort_price_per_pod\": 1005.0}, {\"date\": \"2022-04-15\", \"amount\": 16950, \"place_in_line\": 709241915, \"price_per_pod\": 0.047, \"sort_date\": 1036.0, \"sort_amount\": 904.0, \"sort_place_in_line\": 1198.0, \"sort_price_per_pod\": 485.0}, {\"date\": \"2022-04-15\", \"amount\": 12056, \"place_in_line\": 709258865, \"price_per_pod\": 0.047, \"sort_date\": 1035.0, \"sort_amount\": 787.0, \"sort_place_in_line\": 1199.0, \"sort_price_per_pod\": 487.0}, {\"date\": \"2022-04-15\", \"amount\": 1533, \"place_in_line\": 296982540, \"price_per_pod\": 0.19, \"sort_date\": 1034.0, \"sort_amount\": 173.0, \"sort_place_in_line\": 746.0, \"sort_price_per_pod\": 954.0}, {\"date\": \"2022-04-16\", \"amount\": 1982, \"place_in_line\": 709144573, \"price_per_pod\": 0.047, \"sort_date\": 1180.0, \"sort_amount\": 206.0, \"sort_place_in_line\": 1191.0, \"sort_price_per_pod\": 496.0}, {\"date\": \"2022-04-16\", \"amount\": 2631, \"place_in_line\": 296984074, \"price_per_pod\": 0.19, \"sort_date\": 1176.0, \"sort_amount\": 256.0, \"sort_place_in_line\": 747.0, \"sort_price_per_pod\": 953.0}, {\"date\": \"2022-04-16\", \"amount\": 207192, \"place_in_line\": 729235941, \"price_per_pod\": 0.047, \"sort_date\": 1175.0, \"sort_amount\": 1465.0, \"sort_place_in_line\": 1408.0, \"sort_price_per_pod\": 494.0}, {\"date\": \"2022-04-16\", \"amount\": 17352, \"place_in_line\": 137130130, \"price_per_pod\": 0.59, \"sort_date\": 1174.0, \"sort_amount\": 918.0, \"sort_place_in_line\": 483.0, \"sort_price_per_pod\": 1238.0}, {\"date\": \"2022-04-16\", \"amount\": 838, \"place_in_line\": 215055564, \"price_per_pod\": 0.35, \"sort_date\": 1173.0, \"sort_amount\": 103.0, \"sort_place_in_line\": 604.0, \"sort_price_per_pod\": 1085.0}, {\"date\": \"2022-04-16\", \"amount\": 25000, \"place_in_line\": 728440989, \"price_per_pod\": 0.047, \"sort_date\": 1172.0, \"sort_amount\": 1056.0, \"sort_place_in_line\": 1405.0, \"sort_price_per_pod\": 493.0}, {\"date\": \"2022-04-16\", \"amount\": 1570, \"place_in_line\": 411688335, \"price_per_pod\": 0.15, \"sort_date\": 1171.0, \"sort_amount\": 180.0, \"sort_place_in_line\": 846.0, \"sort_price_per_pod\": 912.0}, {\"date\": \"2022-04-16\", \"amount\": 798, \"place_in_line\": 422365791, \"price_per_pod\": 0.15, \"sort_date\": 1170.0, \"sort_amount\": 99.0, \"sort_place_in_line\": 850.0, \"sort_price_per_pod\": 916.0}, {\"date\": \"2022-04-16\", \"amount\": 935, \"place_in_line\": 296986706, \"price_per_pod\": 0.19, \"sort_date\": 1169.0, \"sort_amount\": 114.0, \"sort_place_in_line\": 748.0, \"sort_price_per_pod\": 952.0}, {\"date\": \"2022-04-16\", \"amount\": 9037, \"place_in_line\": 260684773, \"price_per_pod\": 0.23, \"sort_date\": 1168.0, \"sort_amount\": 646.0, \"sort_place_in_line\": 664.0, \"sort_price_per_pod\": 1007.0}, {\"date\": \"2022-04-16\", \"amount\": 3600, \"place_in_line\": 148977930, \"price_per_pod\": 0.5, \"sort_date\": 1167.0, \"sort_amount\": 320.0, \"sort_place_in_line\": 540.0, \"sort_price_per_pod\": 1162.0}, {\"date\": \"2022-04-16\", \"amount\": 3573, \"place_in_line\": 50152670, \"price_per_pod\": 0.96, \"sort_date\": 1166.0, \"sort_amount\": 318.0, \"sort_place_in_line\": 293.0, \"sort_price_per_pod\": 1482.0}, {\"date\": \"2022-04-16\", \"amount\": 156533, \"place_in_line\": 252122959, \"price_per_pod\": 0.2399, \"sort_date\": 1165.0, \"sort_amount\": 1442.0, \"sort_place_in_line\": 654.0, \"sort_price_per_pod\": 1016.0}, {\"date\": \"2022-04-16\", \"amount\": 38918, \"place_in_line\": 325360140, \"price_per_pod\": 0.21, \"sort_date\": 1164.0, \"sort_amount\": 1178.0, \"sort_place_in_line\": 785.0, \"sort_price_per_pod\": 990.0}, {\"date\": \"2022-04-16\", \"amount\": 19118, \"place_in_line\": 50156243, \"price_per_pod\": 0.96, \"sort_date\": 1163.0, \"sort_amount\": 950.0, \"sort_place_in_line\": 294.0, \"sort_price_per_pod\": 1483.0}, {\"date\": \"2022-04-16\", \"amount\": 800, \"place_in_line\": 148981530, \"price_per_pod\": 0.5, \"sort_date\": 1162.0, \"sort_amount\": 100.0, \"sort_place_in_line\": 541.0, \"sort_price_per_pod\": 1165.0}, {\"date\": \"2022-04-16\", \"amount\": 327574, \"place_in_line\": 252279493, \"price_per_pod\": 0.2399, \"sort_date\": 1161.0, \"sort_amount\": 1494.0, \"sort_place_in_line\": 655.0, \"sort_price_per_pod\": 1015.0}, {\"date\": \"2022-04-16\", \"amount\": 13807, \"place_in_line\": 708996860, \"price_per_pod\": 0.045, \"sort_date\": 1160.0, \"sort_amount\": 833.0, \"sort_place_in_line\": 1185.0, \"sort_price_per_pod\": 477.0}, {\"date\": \"2022-04-16\", \"amount\": 24556, \"place_in_line\": 50175362, \"price_per_pod\": 0.96, \"sort_date\": 1159.0, \"sort_amount\": 1049.0, \"sort_place_in_line\": 295.0, \"sort_price_per_pod\": 1484.0}, {\"date\": \"2022-04-16\", \"amount\": 226407, \"place_in_line\": 730236470, \"price_per_pod\": 0.045, \"sort_date\": 1158.0, \"sort_amount\": 1473.0, \"sort_place_in_line\": 1424.0, \"sort_price_per_pod\": 465.0}, {\"date\": \"2022-04-16\", \"amount\": 6103, \"place_in_line\": 252607067, \"price_per_pod\": 0.2399, \"sort_date\": 1157.0, \"sort_amount\": 486.0, \"sort_place_in_line\": 656.0, \"sort_price_per_pod\": 1014.0}, {\"date\": \"2022-04-16\", \"amount\": 90152, \"place_in_line\": 148982330, \"price_per_pod\": 0.5, \"sort_date\": 1156.0, \"sort_amount\": 1355.0, \"sort_place_in_line\": 542.0, \"sort_price_per_pod\": 1167.0}, {\"date\": \"2022-04-16\", \"amount\": 17808, \"place_in_line\": 730033021, \"price_per_pod\": 0.045, \"sort_date\": 1155.0, \"sort_amount\": 927.0, \"sort_place_in_line\": 1421.0, \"sort_price_per_pod\": 464.0}, {\"date\": \"2022-04-16\", \"amount\": 2240, \"place_in_line\": 65959662, \"price_per_pod\": 0.89, \"sort_date\": 1178.0, \"sort_amount\": 227.0, \"sort_place_in_line\": 320.0, \"sort_price_per_pod\": 1441.0}, {\"date\": \"2022-04-16\", \"amount\": 9788, \"place_in_line\": 252613171, \"price_per_pod\": 0.2399, \"sort_date\": 1179.0, \"sort_amount\": 680.0, \"sort_place_in_line\": 657.0, \"sort_price_per_pod\": 1013.0}, {\"date\": \"2022-04-16\", \"amount\": 103450, \"place_in_line\": 730050830, \"price_per_pod\": 0.045, \"sort_date\": 1201.0, \"sort_amount\": 1383.0, \"sort_place_in_line\": 1422.0, \"sort_price_per_pod\": 463.0}, {\"date\": \"2022-04-16\", \"amount\": 7692, \"place_in_line\": 513181895, \"price_per_pod\": 0.13, \"sort_date\": 1181.0, \"sort_amount\": 570.0, \"sort_place_in_line\": 886.0, \"sort_price_per_pod\": 859.0}, {\"date\": \"2022-04-16\", \"amount\": 2765, \"place_in_line\": 379499473, \"price_per_pod\": 0.15, \"sort_date\": 1195.0, \"sort_amount\": 270.0, \"sort_place_in_line\": 811.0, \"sort_price_per_pod\": 902.0}, {\"date\": \"2022-04-16\", \"amount\": 17271, \"place_in_line\": 254477220, \"price_per_pod\": 0.25, \"sort_date\": 1153.0, \"sort_amount\": 915.0, \"sort_place_in_line\": 660.0, \"sort_price_per_pod\": 1024.0}, {\"date\": \"2022-04-16\", \"amount\": 1598, \"place_in_line\": 709270922, \"price_per_pod\": 0.047, \"sort_date\": 1197.0, \"sort_amount\": 183.0, \"sort_place_in_line\": 1200.0, \"sort_price_per_pod\": 495.0}, {\"date\": \"2022-04-16\", \"amount\": 42398, \"place_in_line\": 254434821, \"price_per_pod\": 0.25, \"sort_date\": 1198.0, \"sort_amount\": 1208.0, \"sort_place_in_line\": 659.0, \"sort_price_per_pod\": 1025.0}, {\"date\": \"2022-04-16\", \"amount\": 10533, \"place_in_line\": 710431818, \"price_per_pod\": 0.054, \"sort_date\": 1199.0, \"sort_amount\": 728.0, \"sort_place_in_line\": 1249.0, \"sort_price_per_pod\": 586.0}, {\"date\": \"2022-04-16\", \"amount\": 19569, \"place_in_line\": 325399058, \"price_per_pod\": 0.21, \"sort_date\": 1200.0, \"sort_amount\": 955.0, \"sort_place_in_line\": 786.0, \"sort_price_per_pod\": 993.0}, {\"date\": \"2022-04-16\", \"amount\": 499, \"place_in_line\": 133664784, \"price_per_pod\": 0.6, \"sort_date\": 1206.0, \"sort_amount\": 74.0, \"sort_place_in_line\": 464.0, \"sort_price_per_pod\": 1250.0}, {\"date\": \"2022-04-16\", \"amount\": 33543, \"place_in_line\": 729443134, \"price_per_pod\": 0.044, \"sort_date\": 1202.0, \"sort_amount\": 1141.0, \"sort_place_in_line\": 1411.0, \"sort_price_per_pod\": 443.0}, {\"date\": \"2022-04-16\", \"amount\": 13343, \"place_in_line\": 729476677, \"price_per_pod\": 0.044, \"sort_date\": 1203.0, \"sort_amount\": 824.0, \"sort_place_in_line\": 1415.0, \"sort_price_per_pod\": 442.0}, {\"date\": \"2022-04-16\", \"amount\": 2609, \"place_in_line\": 50207309, \"price_per_pod\": 0.975, \"sort_date\": 1204.0, \"sort_amount\": 255.0, \"sort_place_in_line\": 299.0, \"sort_price_per_pod\": 1500.0}, {\"date\": \"2022-04-16\", \"amount\": 103496, \"place_in_line\": 729490021, \"price_per_pod\": 0.044, \"sort_date\": 1205.0, \"sort_amount\": 1384.0, \"sort_place_in_line\": 1416.0, \"sort_price_per_pod\": 444.0}, {\"date\": \"2022-04-16\", \"amount\": 39772, \"place_in_line\": 729593518, \"price_per_pod\": 0.044, \"sort_date\": 1194.0, \"sort_amount\": 1182.0, \"sort_place_in_line\": 1417.0, \"sort_price_per_pod\": 447.0}, {\"date\": \"2022-04-16\", \"amount\": 13882, \"place_in_line\": 325418628, \"price_per_pod\": 0.21, \"sort_date\": 1196.0, \"sort_amount\": 836.0, \"sort_place_in_line\": 787.0, \"sort_price_per_pod\": 996.0}, {\"date\": \"2022-04-16\", \"amount\": 1373, \"place_in_line\": 117217726, \"price_per_pod\": 0.69, \"sort_date\": 1192.0, \"sort_amount\": 159.0, \"sort_place_in_line\": 432.0, \"sort_price_per_pod\": 1305.0}, {\"date\": \"2022-04-16\", \"amount\": 23099, \"place_in_line\": 729633290, \"price_per_pod\": 0.044, \"sort_date\": 1191.0, \"sort_amount\": 1033.0, \"sort_place_in_line\": 1418.0, \"sort_price_per_pod\": 446.0}, {\"date\": \"2022-04-16\", \"amount\": 280660, \"place_in_line\": 726280644, \"price_per_pod\": 0.045, \"sort_date\": 1190.0, \"sort_amount\": 1488.0, \"sort_place_in_line\": 1402.0, \"sort_price_per_pod\": 461.0}, {\"date\": \"2022-04-16\", \"amount\": 40000, \"place_in_line\": 290578447, \"price_per_pod\": 0.23, \"sort_date\": 1189.0, \"sort_amount\": 1187.0, \"sort_place_in_line\": 726.0, \"sort_price_per_pod\": 1006.0}, {\"date\": \"2022-04-16\", \"amount\": 9804, \"place_in_line\": 325432511, \"price_per_pod\": 0.21, \"sort_date\": 1193.0, \"sort_amount\": 682.0, \"sort_place_in_line\": 788.0, \"sort_price_per_pod\": 992.0}, {\"date\": \"2022-04-16\", \"amount\": 82189, \"place_in_line\": 730154281, \"price_per_pod\": 0.045, \"sort_date\": 1188.0, \"sort_amount\": 1334.0, \"sort_place_in_line\": 1423.0, \"sort_price_per_pod\": 462.0}, {\"date\": \"2022-04-16\", \"amount\": 2981, \"place_in_line\": 66081788, \"price_per_pod\": 0.91, \"sort_date\": 1187.0, \"sort_amount\": 282.0, \"sort_place_in_line\": 328.0, \"sort_price_per_pod\": 1467.0}, {\"date\": \"2022-04-16\", \"amount\": 1943, \"place_in_line\": 247321163, \"price_per_pod\": 0.3, \"sort_date\": 1186.0, \"sort_amount\": 205.0, \"sort_place_in_line\": 645.0, \"sort_price_per_pod\": 1070.0}, {\"date\": \"2022-04-16\", \"amount\": 100000, \"place_in_line\": 728465989, \"price_per_pod\": 0.047, \"sort_date\": 1185.0, \"sort_amount\": 1376.0, \"sort_place_in_line\": 1406.0, \"sort_price_per_pod\": 488.0}, {\"date\": \"2022-04-16\", \"amount\": 20833, \"place_in_line\": 149887356, \"price_per_pod\": 0.5, \"sort_date\": 1184.0, \"sort_amount\": 1000.0, \"sort_place_in_line\": 544.0, \"sort_price_per_pod\": 1176.0}, {\"date\": \"2022-04-16\", \"amount\": 84653, \"place_in_line\": 728565989, \"price_per_pod\": 0.047, \"sort_date\": 1183.0, \"sort_amount\": 1341.0, \"sort_place_in_line\": 1407.0, \"sort_price_per_pod\": 489.0}, {\"date\": \"2022-04-16\", \"amount\": 4883, \"place_in_line\": 247323106, \"price_per_pod\": 0.3, \"sort_date\": 1182.0, \"sort_amount\": 414.0, \"sort_place_in_line\": 646.0, \"sort_price_per_pod\": 1065.0}, {\"date\": \"2022-04-16\", \"amount\": 29006, \"place_in_line\": 149908190, \"price_per_pod\": 0.5, \"sort_date\": 1154.0, \"sort_amount\": 1094.0, \"sort_place_in_line\": 545.0, \"sort_price_per_pod\": 1178.0}, {\"date\": \"2022-04-16\", \"amount\": 174542, \"place_in_line\": 730867543, \"price_per_pod\": 0.049, \"sort_date\": 1177.0, \"sort_amount\": 1454.0, \"sort_place_in_line\": 1426.0, \"sort_price_per_pod\": 504.0}, {\"date\": \"2022-04-16\", \"amount\": 92828, \"place_in_line\": 726187815, \"price_per_pod\": 0.05, \"sort_date\": 1152.0, \"sort_amount\": 1360.0, \"sort_place_in_line\": 1400.0, \"sort_price_per_pod\": 514.0}, {\"date\": \"2022-04-16\", \"amount\": 7830, \"place_in_line\": 319203810, \"price_per_pod\": 0.2269, \"sort_date\": 1127.0, \"sort_amount\": 575.0, \"sort_place_in_line\": 774.0, \"sort_price_per_pod\": 1004.0}, {\"date\": \"2022-04-16\", \"amount\": 1422, \"place_in_line\": 92742421, \"price_per_pod\": 0.89, \"sort_date\": 1121.0, \"sort_amount\": 161.0, \"sort_place_in_line\": 360.0, \"sort_price_per_pod\": 1436.0}, {\"date\": \"2022-04-16\", \"amount\": 11945, \"place_in_line\": 117219099, \"price_per_pod\": 0.69, \"sort_date\": 1120.0, \"sort_amount\": 782.0, \"sort_place_in_line\": 433.0, \"sort_price_per_pod\": 1307.0}, {\"date\": \"2022-04-16\", \"amount\": 33543, \"place_in_line\": 729443134, \"price_per_pod\": 0.05, \"sort_date\": 1119.0, \"sort_amount\": 1140.0, \"sort_place_in_line\": 1409.0, \"sort_price_per_pod\": 506.0}, {\"date\": \"2022-04-16\", \"amount\": 2287, \"place_in_line\": 117231045, \"price_per_pod\": 0.69, \"sort_date\": 1111.0, \"sort_amount\": 231.0, \"sort_place_in_line\": 434.0, \"sort_price_per_pod\": 1296.0}, {\"date\": \"2022-04-16\", \"amount\": 2751, \"place_in_line\": 122210879, \"price_per_pod\": 0.725, \"sort_date\": 1118.0, \"sort_amount\": 268.0, \"sort_place_in_line\": 441.0, \"sort_price_per_pod\": 1323.0}, {\"date\": \"2022-04-16\", \"amount\": 30000, \"place_in_line\": 149937196, \"price_per_pod\": 0.5, \"sort_date\": 1117.0, \"sort_amount\": 1107.0, \"sort_place_in_line\": 546.0, \"sort_price_per_pod\": 1158.0}, {\"date\": \"2022-04-16\", \"amount\": 32886, \"place_in_line\": 290618447, \"price_per_pod\": 0.23, \"sort_date\": 1116.0, \"sort_amount\": 1133.0, \"sort_place_in_line\": 727.0, \"sort_price_per_pod\": 1009.0}, {\"date\": \"2022-04-16\", \"amount\": 0, \"place_in_line\": 695881538, \"price_per_pod\": 0.05, \"sort_date\": 1115.0, \"sort_amount\": 1.0, \"sort_place_in_line\": 966.0, \"sort_price_per_pod\": 511.0}, {\"date\": \"2022-04-16\", \"amount\": 17128, \"place_in_line\": 157869555, \"price_per_pod\": 0.485, \"sort_date\": 1114.0, \"sort_amount\": 911.0, \"sort_place_in_line\": 561.0, \"sort_price_per_pod\": 1140.0}, {\"date\": \"2022-04-16\", \"amount\": 1685, \"place_in_line\": 467317258, \"price_per_pod\": 0.07, \"sort_date\": 1113.0, \"sort_amount\": 191.0, \"sort_place_in_line\": 869.0, \"sort_price_per_pod\": 697.0}, {\"date\": \"2022-04-16\", \"amount\": 1685, \"place_in_line\": 467315572, \"price_per_pod\": 0.07, \"sort_date\": 1112.0, \"sort_amount\": 192.0, \"sort_place_in_line\": 868.0, \"sort_price_per_pod\": 701.0}, {\"date\": \"2022-04-16\", \"amount\": 10087, \"place_in_line\": 137147483, \"price_per_pod\": 0.59, \"sort_date\": 1123.0, \"sort_amount\": 706.0, \"sort_place_in_line\": 484.0, \"sort_price_per_pod\": 1234.0}, {\"date\": \"2022-04-16\", \"amount\": 2840, \"place_in_line\": 215056402, \"price_per_pod\": 0.35, \"sort_date\": 1110.0, \"sort_amount\": 274.0, \"sort_place_in_line\": 606.0, \"sort_price_per_pod\": 1084.0}, {\"date\": \"2022-04-16\", \"amount\": 2694, \"place_in_line\": 451881155, \"price_per_pod\": 0.18, \"sort_date\": 1107.0, \"sort_amount\": 263.0, \"sort_place_in_line\": 862.0, \"sort_price_per_pod\": 943.0}, {\"date\": \"2022-04-16\", \"amount\": 14596, \"place_in_line\": 149967196, \"price_per_pod\": 0.5, \"sort_date\": 1099.0, \"sort_amount\": 852.0, \"sort_place_in_line\": 547.0, \"sort_price_per_pod\": 1157.0}, {\"date\": \"2022-04-16\", \"amount\": 20082, \"place_in_line\": 732580722, \"price_per_pod\": 0.051, \"sort_date\": 1100.0, \"sort_amount\": 978.0, \"sort_place_in_line\": 1442.0, \"sort_price_per_pod\": 570.0}, {\"date\": \"2022-04-16\", \"amount\": 238241, \"place_in_line\": 732342480, \"price_per_pod\": 0.052, \"sort_date\": 1101.0, \"sort_amount\": 1480.0, \"sort_place_in_line\": 1441.0, \"sort_price_per_pod\": 577.0}, {\"date\": \"2022-04-16\", \"amount\": 268948, \"place_in_line\": 726561304, \"price_per_pod\": 0.051, \"sort_date\": 1102.0, \"sort_amount\": 1485.0, \"sort_place_in_line\": 1403.0, \"sort_price_per_pod\": 569.0}, {\"date\": \"2022-04-16\", \"amount\": 224577, \"place_in_line\": 732600804, \"price_per_pod\": 0.051, \"sort_date\": 1109.0, \"sort_amount\": 1472.0, \"sort_place_in_line\": 1443.0, \"sort_price_per_pod\": 567.0}, {\"date\": \"2022-04-16\", \"amount\": 188830, \"place_in_line\": 730678712, \"price_per_pod\": 0.051, \"sort_date\": 1104.0, \"sort_amount\": 1458.0, \"sort_place_in_line\": 1425.0, \"sort_price_per_pod\": 572.0}, {\"date\": \"2022-04-16\", \"amount\": 1550, \"place_in_line\": 717696969, \"price_per_pod\": 0.065, \"sort_date\": 1105.0, \"sort_amount\": 176.0, \"sort_place_in_line\": 1319.0, \"sort_price_per_pod\": 669.0}, {\"date\": \"2022-04-16\", \"amount\": 11407, \"place_in_line\": 729656390, \"price_per_pod\": 0.051, \"sort_date\": 1103.0, \"sort_amount\": 764.0, \"sort_place_in_line\": 1419.0, \"sort_price_per_pod\": 574.0}, {\"date\": \"2022-04-16\", \"amount\": 623, \"place_in_line\": 137157571, \"price_per_pod\": 0.59, \"sort_date\": 1106.0, \"sort_amount\": 89.0, \"sort_place_in_line\": 485.0, \"sort_price_per_pod\": 1236.0}, {\"date\": \"2022-04-16\", \"amount\": 5000, \"place_in_line\": 157886684, \"price_per_pod\": 0.485, \"sort_date\": 1122.0, \"sort_amount\": 432.0, \"sort_place_in_line\": 562.0, \"sort_price_per_pod\": 1139.0}, {\"date\": \"2022-04-16\", \"amount\": 173806, \"place_in_line\": 729667797, \"price_per_pod\": 0.051, \"sort_date\": 1124.0, \"sort_amount\": 1452.0, \"sort_place_in_line\": 1420.0, \"sort_price_per_pod\": 571.0}, {\"date\": \"2022-04-16\", \"amount\": 68703, \"place_in_line\": 731211078, \"price_per_pod\": 0.052, \"sort_date\": 1138.0, \"sort_amount\": 1301.0, \"sort_place_in_line\": 1432.0, \"sort_price_per_pod\": 579.0}, {\"date\": \"2022-04-16\", \"amount\": 4811, \"place_in_line\": 149981793, \"price_per_pod\": 0.5, \"sort_date\": 1126.0, \"sort_amount\": 412.0, \"sort_place_in_line\": 548.0, \"sort_price_per_pod\": 1148.0}, {\"date\": \"2022-04-16\", \"amount\": 1258, \"place_in_line\": 293793662, \"price_per_pod\": 0.15, \"sort_date\": 1150.0, \"sort_amount\": 152.0, \"sort_place_in_line\": 739.0, \"sort_price_per_pod\": 918.0}, {\"date\": \"2022-04-16\", \"amount\": 1354, \"place_in_line\": 149986604, \"price_per_pod\": 0.5, \"sort_date\": 1149.0, \"sort_amount\": 158.0, \"sort_place_in_line\": 549.0, \"sort_price_per_pod\": 1149.0}, {\"date\": \"2022-04-16\", \"amount\": 14602, \"place_in_line\": 625899610, \"price_per_pod\": 0.1, \"sort_date\": 1148.0, \"sort_amount\": 853.0, \"sort_place_in_line\": 900.0, \"sort_price_per_pod\": 828.0}, {\"date\": \"2022-04-16\", \"amount\": 5000, \"place_in_line\": 733741602, \"price_per_pod\": 0.05, \"sort_date\": 1147.0, \"sort_amount\": 427.0, \"sort_place_in_line\": 1452.0, \"sort_price_per_pod\": 566.0}, {\"date\": \"2022-04-16\", \"amount\": 3710, \"place_in_line\": 214864041, \"price_per_pod\": 0.25, \"sort_date\": 1146.0, \"sort_amount\": 331.0, \"sort_place_in_line\": 601.0, \"sort_price_per_pod\": 1039.0}, {\"date\": \"2022-04-16\", \"amount\": 15000, \"place_in_line\": 733746602, \"price_per_pod\": 0.05, \"sort_date\": 1145.0, \"sort_amount\": 859.0, \"sort_place_in_line\": 1453.0, \"sort_price_per_pod\": 542.0}, {\"date\": \"2022-04-16\", \"amount\": 129174, \"place_in_line\": 714079013, \"price_per_pod\": 0.059, \"sort_date\": 1144.0, \"sort_amount\": 1400.0, \"sort_place_in_line\": 1282.0, \"sort_price_per_pod\": 619.0}, {\"date\": \"2022-04-16\", \"amount\": 5730, \"place_in_line\": 731279781, \"price_per_pod\": 0.052, \"sort_date\": 1143.0, \"sort_amount\": 465.0, \"sort_place_in_line\": 1433.0, \"sort_price_per_pod\": 578.0}, {\"date\": \"2022-04-16\", \"amount\": 18516, \"place_in_line\": 710442351, \"price_per_pod\": 0.054, \"sort_date\": 1142.0, \"sort_amount\": 941.0, \"sort_place_in_line\": 1250.0, \"sort_price_per_pod\": 587.0}, {\"date\": \"2022-04-16\", \"amount\": 31920, \"place_in_line\": 214867751, \"price_per_pod\": 0.3, \"sort_date\": 1141.0, \"sort_amount\": 1128.0, \"sort_place_in_line\": 602.0, \"sort_price_per_pod\": 1067.0}, {\"date\": \"2022-04-16\", \"amount\": 3184, \"place_in_line\": 708357952, \"price_per_pod\": 0.055, \"sort_date\": 1140.0, \"sort_amount\": 297.0, \"sort_place_in_line\": 1144.0, \"sort_price_per_pod\": 596.0}, {\"date\": \"2022-04-16\", \"amount\": 16663, \"place_in_line\": 731285511, \"price_per_pod\": 0.052, \"sort_date\": 1151.0, \"sort_amount\": 896.0, \"sort_place_in_line\": 1434.0, \"sort_price_per_pod\": 576.0}, {\"date\": \"2022-04-16\", \"amount\": 102136, \"place_in_line\": 717299487, \"price_per_pod\": 0.055, \"sort_date\": 1139.0, \"sort_amount\": 1381.0, \"sort_place_in_line\": 1316.0, \"sort_price_per_pod\": 600.0}, {\"date\": \"2022-04-16\", \"amount\": 6298, \"place_in_line\": 708361137, \"price_per_pod\": 0.055, \"sort_date\": 1137.0, \"sort_amount\": 494.0, \"sort_place_in_line\": 1145.0, \"sort_price_per_pod\": 593.0}, {\"date\": \"2022-04-16\", \"amount\": 84542, \"place_in_line\": 716821446, \"price_per_pod\": 0.06, \"sort_date\": 1136.0, \"sort_amount\": 1340.0, \"sort_place_in_line\": 1309.0, \"sort_price_per_pod\": 637.0}, {\"date\": \"2022-04-16\", \"amount\": 17500, \"place_in_line\": 733761602, \"price_per_pod\": 0.05, \"sort_date\": 1135.0, \"sort_amount\": 920.0, \"sort_place_in_line\": 1454.0, \"sort_price_per_pod\": 545.0}, {\"date\": \"2022-04-16\", \"amount\": 29376, \"place_in_line\": 733779102, \"price_per_pod\": 0.05, \"sort_date\": 1134.0, \"sort_amount\": 1097.0, \"sort_place_in_line\": 1455.0, \"sort_price_per_pod\": 546.0}, {\"date\": \"2022-04-16\", \"amount\": 5603, \"place_in_line\": 139698958, \"price_per_pod\": 0.58, \"sort_date\": 1133.0, \"sort_amount\": 457.0, \"sort_place_in_line\": 510.0, \"sort_price_per_pod\": 1232.0}, {\"date\": \"2022-04-16\", \"amount\": 6157, \"place_in_line\": 139704561, \"price_per_pod\": 0.58, \"sort_date\": 1125.0, \"sort_amount\": 488.0, \"sort_place_in_line\": 513.0, \"sort_price_per_pod\": 1233.0}, {\"date\": \"2022-04-16\", \"amount\": 1862, \"place_in_line\": 214899672, \"price_per_pod\": 0.3, \"sort_date\": 1132.0, \"sort_amount\": 202.0, \"sort_place_in_line\": 603.0, \"sort_price_per_pod\": 1066.0}, {\"date\": \"2022-04-16\", \"amount\": 2191, \"place_in_line\": 149987959, \"price_per_pod\": 0.5, \"sort_date\": 1131.0, \"sort_amount\": 226.0, \"sort_place_in_line\": 550.0, \"sort_price_per_pod\": 1156.0}, {\"date\": \"2022-04-16\", \"amount\": 5663, \"place_in_line\": 437600907, \"price_per_pod\": 0.174, \"sort_date\": 1130.0, \"sort_amount\": 461.0, \"sort_place_in_line\": 852.0, \"sort_price_per_pod\": 938.0}, {\"date\": \"2022-04-16\", \"amount\": 4057, \"place_in_line\": 149990150, \"price_per_pod\": 0.5, \"sort_date\": 1129.0, \"sort_amount\": 356.0, \"sort_place_in_line\": 551.0, \"sort_price_per_pod\": 1147.0}, {\"date\": \"2022-04-16\", \"amount\": 4454, \"place_in_line\": 149994207, \"price_per_pod\": 0.5, \"sort_date\": 1128.0, \"sort_amount\": 384.0, \"sort_place_in_line\": 552.0, \"sort_price_per_pod\": 1146.0}, {\"date\": \"2022-04-16\", \"amount\": 7120, \"place_in_line\": 733808479, \"price_per_pod\": 0.05, \"sort_date\": 1108.0, \"sort_amount\": 541.0, \"sort_place_in_line\": 1456.0, \"sort_price_per_pod\": 565.0}, {\"date\": \"2022-04-17\", \"amount\": 9156, \"place_in_line\": 733815599, \"price_per_pod\": 0.05, \"sort_date\": 1280.0, \"sort_amount\": 654.0, \"sort_place_in_line\": 1457.0, \"sort_price_per_pod\": 555.0}, {\"date\": \"2022-04-17\", \"amount\": 12050, \"place_in_line\": 149998662, \"price_per_pod\": 0.5, \"sort_date\": 1279.0, \"sort_amount\": 785.0, \"sort_place_in_line\": 553.0, \"sort_price_per_pod\": 1153.0}, {\"date\": \"2022-04-17\", \"amount\": 230049, \"place_in_line\": 734888979, \"price_per_pod\": 0.05, \"sort_date\": 1278.0, \"sort_amount\": 1474.0, \"sort_place_in_line\": 1468.0, \"sort_price_per_pod\": 557.0}, {\"date\": \"2022-04-17\", \"amount\": 273039, \"place_in_line\": 734615940, \"price_per_pod\": 0.05, \"sort_date\": 1277.0, \"sort_amount\": 1486.0, \"sort_place_in_line\": 1467.0, \"sort_price_per_pod\": 558.0}, {\"date\": \"2022-04-17\", \"amount\": 23198, \"place_in_line\": 154135094, \"price_per_pod\": 0.5, \"sort_date\": 1276.0, \"sort_amount\": 1034.0, \"sort_place_in_line\": 558.0, \"sort_price_per_pod\": 1150.0}, {\"date\": \"2022-04-17\", \"amount\": 240472, \"place_in_line\": 734375467, \"price_per_pod\": 0.05, \"sort_date\": 1275.0, \"sort_amount\": 1481.0, \"sort_place_in_line\": 1466.0, \"sort_price_per_pod\": 559.0}, {\"date\": \"2022-04-17\", \"amount\": 205321, \"place_in_line\": 734170146, \"price_per_pod\": 0.05, \"sort_date\": 1274.0, \"sort_amount\": 1464.0, \"sort_place_in_line\": 1465.0, \"sort_price_per_pod\": 560.0}, {\"date\": \"2022-04-17\", \"amount\": 210961, \"place_in_line\": 733959185, \"price_per_pod\": 0.05, \"sort_date\": 1273.0, \"sort_amount\": 1466.0, \"sort_place_in_line\": 1464.0, \"sort_price_per_pod\": 561.0}, {\"date\": \"2022-04-17\", \"amount\": 214433, \"place_in_line\": 733527169, \"price_per_pod\": 0.05, \"sort_date\": 1272.0, \"sort_amount\": 1468.0, \"sort_place_in_line\": 1451.0, \"sort_price_per_pod\": 563.0}, {\"date\": \"2022-04-17\", \"amount\": 252155, \"place_in_line\": 733056587, \"price_per_pod\": 0.05, \"sort_date\": 1271.0, \"sort_amount\": 1482.0, \"sort_place_in_line\": 1445.0, \"sort_price_per_pod\": 564.0}, {\"date\": \"2022-04-17\", \"amount\": 231205, \"place_in_line\": 732825382, \"price_per_pod\": 0.05, \"sort_date\": 1281.0, \"sort_amount\": 1475.0, \"sort_place_in_line\": 1444.0, \"sort_price_per_pod\": 512.0}, {\"date\": \"2022-04-17\", \"amount\": 9313, \"place_in_line\": 718000615, \"price_per_pod\": 0.05, \"sort_date\": 1283.0, \"sort_amount\": 658.0, \"sort_place_in_line\": 1321.0, \"sort_price_per_pod\": 516.0}, {\"date\": \"2022-04-17\", \"amount\": 18389, \"place_in_line\": 710324533, \"price_per_pod\": 0.05, \"sort_date\": 1268.0, \"sort_amount\": 938.0, \"sort_place_in_line\": 1242.0, \"sort_price_per_pod\": 562.0}, {\"date\": \"2022-04-17\", \"amount\": 16767, \"place_in_line\": 710296450, \"price_per_pod\": 0.05, \"sort_date\": 1267.0, \"sort_amount\": 902.0, \"sort_place_in_line\": 1241.0, \"sort_price_per_pod\": 556.0}, {\"date\": \"2022-04-17\", \"amount\": 10493, \"place_in_line\": 709482020, \"price_per_pod\": 0.05, \"sort_date\": 1266.0, \"sort_amount\": 724.0, \"sort_place_in_line\": 1212.0, \"sort_price_per_pod\": 553.0}, {\"date\": \"2022-04-17\", \"amount\": 12731, \"place_in_line\": 709457711, \"price_per_pod\": 0.05, \"sort_date\": 1265.0, \"sort_amount\": 809.0, \"sort_place_in_line\": 1210.0, \"sort_price_per_pod\": 550.0}, {\"date\": \"2022-04-17\", \"amount\": 24123, \"place_in_line\": 733824755, \"price_per_pod\": 0.05, \"sort_date\": 1264.0, \"sort_amount\": 1046.0, \"sort_place_in_line\": 1458.0, \"sort_price_per_pod\": 549.0}, {\"date\": \"2022-04-17\", \"amount\": 43461, \"place_in_line\": 715517406, \"price_per_pod\": 0.05, \"sort_date\": 1263.0, \"sort_amount\": 1214.0, \"sort_place_in_line\": 1297.0, \"sort_price_per_pod\": 548.0}, {\"date\": \"2022-04-17\", \"amount\": 10876, \"place_in_line\": 733848878, \"price_per_pod\": 0.05, \"sort_date\": 1262.0, \"sort_amount\": 738.0, \"sort_place_in_line\": 1459.0, \"sort_price_per_pod\": 547.0}, {\"date\": \"2022-04-17\", \"amount\": 2500, \"place_in_line\": 122213630, \"price_per_pod\": 0.725, \"sort_date\": 1261.0, \"sort_amount\": 246.0, \"sort_place_in_line\": 442.0, \"sort_price_per_pod\": 1322.0}, {\"date\": \"2022-04-17\", \"amount\": 42703, \"place_in_line\": 724808689, \"price_per_pod\": 0.055, \"sort_date\": 1260.0, \"sort_amount\": 1210.0, \"sort_place_in_line\": 1387.0, \"sort_price_per_pod\": 594.0}, {\"date\": \"2022-04-17\", \"amount\": 6167, \"place_in_line\": 147968440, \"price_per_pod\": 0.54, \"sort_date\": 1259.0, \"sort_amount\": 490.0, \"sort_place_in_line\": 528.0, \"sort_price_per_pod\": 1191.0}, {\"date\": \"2022-04-17\", \"amount\": 40000, \"place_in_line\": 731302174, \"price_per_pod\": 0.052, \"sort_date\": 1269.0, \"sort_amount\": 1186.0, \"sort_place_in_line\": 1435.0, \"sort_price_per_pod\": 575.0}, {\"date\": \"2022-04-17\", \"amount\": 43650, \"place_in_line\": 731342174, \"price_per_pod\": 0.052, \"sort_date\": 1282.0, \"sort_amount\": 1218.0, \"sort_place_in_line\": 1438.0, \"sort_price_per_pod\": 580.0}, {\"date\": \"2022-04-17\", \"amount\": 132759, \"place_in_line\": 147974607, \"price_per_pod\": 0.54, \"sort_date\": 1294.0, \"sort_amount\": 1406.0, \"sort_place_in_line\": 529.0, \"sort_price_per_pod\": 1194.0}, {\"date\": \"2022-04-17\", \"amount\": 15454, \"place_in_line\": 170714896, \"price_per_pod\": 0.475, \"sort_date\": 1284.0, \"sort_amount\": 872.0, \"sort_place_in_line\": 576.0, \"sort_price_per_pod\": 1135.0}, {\"date\": \"2022-04-17\", \"amount\": 49195, \"place_in_line\": 247327990, \"price_per_pod\": 0.3, \"sort_date\": 1305.0, \"sort_amount\": 1240.0, \"sort_place_in_line\": 647.0, \"sort_price_per_pod\": 1068.0}, {\"date\": \"2022-04-17\", \"amount\": 27307, \"place_in_line\": 148107367, \"price_per_pod\": 0.54, \"sort_date\": 1304.0, \"sort_amount\": 1083.0, \"sort_place_in_line\": 530.0, \"sort_price_per_pod\": 1190.0}, {\"date\": \"2022-04-17\", \"amount\": 38741, \"place_in_line\": 293794920, \"price_per_pod\": 0.23, \"sort_date\": 1303.0, \"sort_amount\": 1176.0, \"sort_place_in_line\": 740.0, \"sort_price_per_pod\": 1008.0}, {\"date\": \"2022-04-17\", \"amount\": 97094, \"place_in_line\": 291557509, \"price_per_pod\": 0.25, \"sort_date\": 1302.0, \"sort_amount\": 1368.0, \"sort_place_in_line\": 731.0, \"sort_price_per_pod\": 1026.0}, {\"date\": \"2022-04-17\", \"amount\": 9469, \"place_in_line\": 170730350, \"price_per_pod\": 0.475, \"sort_date\": 1301.0, \"sort_amount\": 666.0, \"sort_place_in_line\": 577.0, \"sort_price_per_pod\": 1137.0}, {\"date\": \"2022-04-17\", \"amount\": 13825, \"place_in_line\": 148134674, \"price_per_pod\": 0.54, \"sort_date\": 1300.0, \"sort_amount\": 835.0, \"sort_place_in_line\": 531.0, \"sort_price_per_pod\": 1189.0}, {\"date\": \"2022-04-17\", \"amount\": 29419, \"place_in_line\": 148148500, \"price_per_pod\": 0.54, \"sort_date\": 1299.0, \"sort_amount\": 1098.0, \"sort_place_in_line\": 532.0, \"sort_price_per_pod\": 1188.0}, {\"date\": \"2022-04-17\", \"amount\": 2000, \"place_in_line\": 148177920, \"price_per_pod\": 0.54, \"sort_date\": 1298.0, \"sort_amount\": 212.0, \"sort_place_in_line\": 533.0, \"sort_price_per_pod\": 1193.0}, {\"date\": \"2022-04-17\", \"amount\": 15687, \"place_in_line\": 724851392, \"price_per_pod\": 0.055, \"sort_date\": 1297.0, \"sort_amount\": 877.0, \"sort_place_in_line\": 1388.0, \"sort_price_per_pod\": 597.0}, {\"date\": \"2022-04-17\", \"amount\": 34680, \"place_in_line\": 716905989, \"price_per_pod\": 0.06, \"sort_date\": 1296.0, \"sort_amount\": 1152.0, \"sort_place_in_line\": 1310.0, \"sort_price_per_pod\": 642.0}, {\"date\": \"2022-04-17\", \"amount\": 140966, \"place_in_line\": 720175216, \"price_per_pod\": 0.065, \"sort_date\": 1295.0, \"sort_amount\": 1417.0, \"sort_place_in_line\": 1358.0, \"sort_price_per_pod\": 678.0}, {\"date\": \"2022-04-17\", \"amount\": 1607, \"place_in_line\": 247377186, \"price_per_pod\": 0.3, \"sort_date\": 1257.0, \"sort_amount\": 184.0, \"sort_place_in_line\": 648.0, \"sort_price_per_pod\": 1071.0}, {\"date\": \"2022-04-17\", \"amount\": 21956, \"place_in_line\": 122216130, \"price_per_pod\": 0.8, \"sort_date\": 1293.0, \"sort_amount\": 1019.0, \"sort_place_in_line\": 443.0, \"sort_price_per_pod\": 1375.0}, {\"date\": \"2022-04-17\", \"amount\": 8428, \"place_in_line\": 437606570, \"price_per_pod\": 0.174, \"sort_date\": 1292.0, \"sort_amount\": 609.0, \"sort_place_in_line\": 853.0, \"sort_price_per_pod\": 937.0}, {\"date\": \"2022-04-17\", \"amount\": 1561, \"place_in_line\": 695624119, \"price_per_pod\": 0.06, \"sort_date\": 1291.0, \"sort_amount\": 177.0, \"sort_place_in_line\": 956.0, \"sort_price_per_pod\": 648.0}, {\"date\": \"2022-04-17\", \"amount\": 12909, \"place_in_line\": 148179920, \"price_per_pod\": 0.54, \"sort_date\": 1290.0, \"sort_amount\": 815.0, \"sort_place_in_line\": 534.0, \"sort_price_per_pod\": 1192.0}, {\"date\": \"2022-04-17\", \"amount\": 1293, \"place_in_line\": 102401954, \"price_per_pod\": 0.57, \"sort_date\": 1289.0, \"sort_amount\": 157.0, \"sort_place_in_line\": 413.0, \"sort_price_per_pod\": 1229.0}, {\"date\": \"2022-04-17\", \"amount\": 57490, \"place_in_line\": 735061538, \"price_per_pod\": 0.051, \"sort_date\": 1288.0, \"sort_amount\": 1272.0, \"sort_place_in_line\": 1469.0, \"sort_price_per_pod\": 568.0}, {\"date\": \"2022-04-17\", \"amount\": 10701, \"place_in_line\": 102403247, \"price_per_pod\": 0.57, \"sort_date\": 1287.0, \"sort_amount\": 733.0, \"sort_place_in_line\": 414.0, \"sort_price_per_pod\": 1228.0}, {\"date\": \"2022-04-17\", \"amount\": 3211, \"place_in_line\": 437614998, \"price_per_pod\": 0.174, \"sort_date\": 1286.0, \"sort_amount\": 300.0, \"sort_place_in_line\": 854.0, \"sort_price_per_pod\": 936.0}, {\"date\": \"2022-04-17\", \"amount\": 521, \"place_in_line\": 102413949, \"price_per_pod\": 0.57, \"sort_date\": 1285.0, \"sort_amount\": 81.0, \"sort_place_in_line\": 415.0, \"sort_price_per_pod\": 1227.0}, {\"date\": \"2022-04-17\", \"amount\": 5129, \"place_in_line\": 102414470, \"price_per_pod\": 0.57, \"sort_date\": 1306.0, \"sort_amount\": 435.0, \"sort_place_in_line\": 416.0, \"sort_price_per_pod\": 1225.0}, {\"date\": \"2022-04-17\", \"amount\": 40999, \"place_in_line\": 102419600, \"price_per_pod\": 0.57, \"sort_date\": 1307.0, \"sort_amount\": 1194.0, \"sort_place_in_line\": 417.0, \"sort_price_per_pod\": 1224.0}, {\"date\": \"2022-04-17\", \"amount\": 1580, \"place_in_line\": 102460599, \"price_per_pod\": 0.57, \"sort_date\": 1258.0, \"sort_amount\": 181.0, \"sort_place_in_line\": 418.0, \"sort_price_per_pod\": 1223.0}, {\"date\": \"2022-04-17\", \"amount\": 668, \"place_in_line\": 102462180, \"price_per_pod\": 0.57, \"sort_date\": 1270.0, \"sort_amount\": 94.0, \"sort_place_in_line\": 419.0, \"sort_price_per_pod\": 1230.0}, {\"date\": \"2022-04-17\", \"amount\": 1537, \"place_in_line\": 102462849, \"price_per_pod\": 0.57, \"sort_date\": 1256.0, \"sort_amount\": 174.0, \"sort_place_in_line\": 420.0, \"sort_price_per_pod\": 1220.0}, {\"date\": \"2022-04-17\", \"amount\": 3615, \"place_in_line\": 102464387, \"price_per_pod\": 0.57, \"sort_date\": 1233.0, \"sort_amount\": 323.0, \"sort_place_in_line\": 421.0, \"sort_price_per_pod\": 1219.0}, {\"date\": \"2022-04-17\", \"amount\": 1257, \"place_in_line\": 102468002, \"price_per_pod\": 0.57, \"sort_date\": 1217.0, \"sort_amount\": 151.0, \"sort_place_in_line\": 422.0, \"sort_price_per_pod\": 1218.0}, {\"date\": \"2022-04-17\", \"amount\": 5263, \"place_in_line\": 102469260, \"price_per_pod\": 0.57, \"sort_date\": 1227.0, \"sort_amount\": 439.0, \"sort_place_in_line\": 423.0, \"sort_price_per_pod\": 1217.0}, {\"date\": \"2022-04-17\", \"amount\": 14114, \"place_in_line\": 721499405, \"price_per_pod\": 0.06, \"sort_date\": 1226.0, \"sort_amount\": 840.0, \"sort_place_in_line\": 1373.0, \"sort_price_per_pod\": 649.0}, {\"date\": \"2022-04-17\", \"amount\": 7918, \"place_in_line\": 102474523, \"price_per_pod\": 0.57, \"sort_date\": 1225.0, \"sort_amount\": 580.0, \"sort_place_in_line\": 424.0, \"sort_price_per_pod\": 1221.0}, {\"date\": \"2022-04-17\", \"amount\": 30150, \"place_in_line\": 623883983, \"price_per_pod\": 0.1, \"sort_date\": 1224.0, \"sort_amount\": 1113.0, \"sort_place_in_line\": 898.0, \"sort_price_per_pod\": 807.0}, {\"date\": \"2022-04-17\", \"amount\": 2768, \"place_in_line\": 695625680, \"price_per_pod\": 0.06, \"sort_date\": 1223.0, \"sort_amount\": 271.0, \"sort_place_in_line\": 957.0, \"sort_price_per_pod\": 646.0}, {\"date\": \"2022-04-17\", \"amount\": 29902, \"place_in_line\": 715487504, \"price_per_pod\": 0.06, \"sort_date\": 1222.0, \"sort_amount\": 1105.0, \"sort_place_in_line\": 1296.0, \"sort_price_per_pod\": 626.0}, {\"date\": \"2022-04-17\", \"amount\": 2338, \"place_in_line\": 695875040, \"price_per_pod\": 0.06, \"sort_date\": 1221.0, \"sort_amount\": 236.0, \"sort_place_in_line\": 964.0, \"sort_price_per_pod\": 630.0}, {\"date\": \"2022-04-17\", \"amount\": 16752, \"place_in_line\": 102482441, \"price_per_pod\": 0.57, \"sort_date\": 1220.0, \"sort_amount\": 900.0, \"sort_place_in_line\": 425.0, \"sort_price_per_pod\": 1222.0}, {\"date\": \"2022-04-17\", \"amount\": 20467, \"place_in_line\": 643671292, \"price_per_pod\": 0.075, \"sort_date\": 1219.0, \"sort_amount\": 992.0, \"sort_place_in_line\": 911.0, \"sort_price_per_pod\": 723.0}, {\"date\": \"2022-04-17\", \"amount\": 15032, \"place_in_line\": 695933552, \"price_per_pod\": 0.06, \"sort_date\": 1218.0, \"sort_amount\": 861.0, \"sort_place_in_line\": 972.0, \"sort_price_per_pod\": 633.0}, {\"date\": \"2022-04-17\", \"amount\": 2693, \"place_in_line\": 102499194, \"price_per_pod\": 0.57, \"sort_date\": 1229.0, \"sort_amount\": 262.0, \"sort_place_in_line\": 426.0, \"sort_price_per_pod\": 1231.0}, {\"date\": \"2022-04-17\", \"amount\": 20750, \"place_in_line\": 735386014, \"price_per_pod\": 0.07, \"sort_date\": 1207.0, \"sort_amount\": 998.0, \"sort_place_in_line\": 1470.0, \"sort_price_per_pod\": 705.0}, {\"date\": \"2022-04-17\", \"amount\": 8274, \"place_in_line\": 437618210, \"price_per_pod\": 0.174, \"sort_date\": 1215.0, \"sort_amount\": 605.0, \"sort_place_in_line\": 856.0, \"sort_price_per_pod\": 935.0}, {\"date\": \"2022-04-17\", \"amount\": 66, \"place_in_line\": 102501887, \"price_per_pod\": 0.57, \"sort_date\": 1214.0, \"sort_amount\": 18.0, \"sort_place_in_line\": 427.0, \"sort_price_per_pod\": 1226.0}, {\"date\": \"2022-04-17\", \"amount\": 45302, \"place_in_line\": 373925950, \"price_per_pod\": 0.2, \"sort_date\": 1213.0, \"sort_amount\": 1228.0, \"sort_place_in_line\": 805.0, \"sort_price_per_pod\": 977.0}, {\"date\": \"2022-04-17\", \"amount\": 1648, \"place_in_line\": 717099265, \"price_per_pod\": 0.065, \"sort_date\": 1212.0, \"sort_amount\": 189.0, \"sort_place_in_line\": 1313.0, \"sort_price_per_pod\": 666.0}, {\"date\": \"2022-04-17\", \"amount\": 4678, \"place_in_line\": 717541977, \"price_per_pod\": 0.065, \"sort_date\": 1211.0, \"sort_amount\": 402.0, \"sort_place_in_line\": 1317.0, \"sort_price_per_pod\": 673.0}, {\"date\": \"2022-04-17\", \"amount\": 16766, \"place_in_line\": 720316182, \"price_per_pod\": 0.065, \"sort_date\": 1210.0, \"sort_amount\": 901.0, \"sort_place_in_line\": 1359.0, \"sort_price_per_pod\": 676.0}, {\"date\": \"2022-04-17\", \"amount\": 1759, \"place_in_line\": 643691759, \"price_per_pod\": 0.075, \"sort_date\": 1209.0, \"sort_amount\": 197.0, \"sort_place_in_line\": 913.0, \"sort_price_per_pod\": 714.0}, {\"date\": \"2022-04-17\", \"amount\": 31956, \"place_in_line\": 148192829, \"price_per_pod\": 0.54, \"sort_date\": 1208.0, \"sort_amount\": 1129.0, \"sort_place_in_line\": 535.0, \"sort_price_per_pod\": 1196.0}, {\"date\": \"2022-04-17\", \"amount\": 3972, \"place_in_line\": 718082806, \"price_per_pod\": 0.066, \"sort_date\": 1216.0, \"sort_amount\": 349.0, \"sort_place_in_line\": 1327.0, \"sort_price_per_pod\": 683.0}, {\"date\": \"2022-04-17\", \"amount\": 1165, \"place_in_line\": 625914213, \"price_per_pod\": 0.1, \"sort_date\": 1228.0, \"sort_amount\": 143.0, \"sort_place_in_line\": 901.0, \"sort_price_per_pod\": 824.0}, {\"date\": \"2022-04-17\", \"amount\": 21683, \"place_in_line\": 733308742, \"price_per_pod\": 0.065, \"sort_date\": 1230.0, \"sort_amount\": 1012.0, \"sort_place_in_line\": 1446.0, \"sort_price_per_pod\": 679.0}, {\"date\": \"2022-04-17\", \"amount\": 150000, \"place_in_line\": 733330425, \"price_per_pod\": 0.065, \"sort_date\": 1243.0, \"sort_amount\": 1428.0, \"sort_place_in_line\": 1447.0, \"sort_price_per_pod\": 677.0}, {\"date\": \"2022-04-17\", \"amount\": 21728, \"place_in_line\": 733480425, \"price_per_pod\": 0.065, \"sort_date\": 1232.0, \"sort_amount\": 1013.0, \"sort_place_in_line\": 1448.0, \"sort_price_per_pod\": 671.0}, {\"date\": \"2022-04-17\", \"amount\": 153138, \"place_in_line\": 736132449, \"price_per_pod\": 0.065, \"sort_date\": 1254.0, \"sort_amount\": 1438.0, \"sort_place_in_line\": 1473.0, \"sort_price_per_pod\": 668.0}, {\"date\": \"2022-04-17\", \"amount\": 22359, \"place_in_line\": 733502153, \"price_per_pod\": 0.065, \"sort_date\": 1253.0, \"sort_amount\": 1024.0, \"sort_place_in_line\": 1449.0, \"sort_price_per_pod\": 672.0}, {\"date\": \"2022-04-17\", \"amount\": 83910, \"place_in_line\": 736285587, \"price_per_pod\": 0.065, \"sort_date\": 1252.0, \"sort_amount\": 1339.0, \"sort_place_in_line\": 1476.0, \"sort_price_per_pod\": 674.0}, {\"date\": \"2022-04-17\", \"amount\": 217, \"place_in_line\": 148224785, \"price_per_pod\": 0.54, \"sort_date\": 1251.0, \"sort_amount\": 30.0, \"sort_place_in_line\": 536.0, \"sort_price_per_pod\": 1195.0}, {\"date\": \"2022-04-17\", \"amount\": 2656, \"place_in_line\": 733524513, \"price_per_pod\": 0.065, \"sort_date\": 1250.0, \"sort_amount\": 260.0, \"sort_place_in_line\": 1450.0, \"sort_price_per_pod\": 680.0}, {\"date\": \"2022-04-17\", \"amount\": 15637, \"place_in_line\": 718086779, \"price_per_pod\": 0.066, \"sort_date\": 1249.0, \"sort_amount\": 875.0, \"sort_place_in_line\": 1330.0, \"sort_price_per_pod\": 681.0}, {\"date\": \"2022-04-17\", \"amount\": 31281, \"place_in_line\": 736369497, \"price_per_pod\": 0.065, \"sort_date\": 1248.0, \"sort_amount\": 1124.0, \"sort_place_in_line\": 1477.0, \"sort_price_per_pod\": 665.0}, {\"date\": \"2022-04-17\", \"amount\": 13068, \"place_in_line\": 735406764, \"price_per_pod\": 0.07, \"sort_date\": 1247.0, \"sort_amount\": 819.0, \"sort_place_in_line\": 1471.0, \"sort_price_per_pod\": 707.0}, {\"date\": \"2022-04-17\", \"amount\": 5868, \"place_in_line\": 168579359, \"price_per_pod\": 0.45, \"sort_date\": 1246.0, \"sort_amount\": 472.0, \"sort_place_in_line\": 566.0, \"sort_price_per_pod\": 1127.0}, {\"date\": \"2022-04-17\", \"amount\": 447, \"place_in_line\": 148225003, \"price_per_pod\": 0.54, \"sort_date\": 1245.0, \"sort_amount\": 64.0, \"sort_place_in_line\": 537.0, \"sort_price_per_pod\": 1187.0}, {\"date\": \"2022-04-17\", \"amount\": 99429, \"place_in_line\": 733859755, \"price_per_pod\": 0.065, \"sort_date\": 1231.0, \"sort_amount\": 1372.0, \"sort_place_in_line\": 1461.0, \"sort_price_per_pod\": 670.0}, {\"date\": \"2022-04-17\", \"amount\": 81750, \"place_in_line\": 319877964, \"price_per_pod\": 0.235, \"sort_date\": 1255.0, \"sort_amount\": 1333.0, \"sort_place_in_line\": 775.0, \"sort_price_per_pod\": 1010.0}, {\"date\": \"2022-04-17\", \"amount\": 40000, \"place_in_line\": 293753662, \"price_per_pod\": 0.15, \"sort_date\": 1244.0, \"sort_amount\": 1185.0, \"sort_place_in_line\": 738.0, \"sort_price_per_pod\": 879.0}, {\"date\": \"2022-04-17\", \"amount\": 40248, \"place_in_line\": 373971252, \"price_per_pod\": 0.2, \"sort_date\": 1242.0, \"sort_amount\": 1189.0, \"sort_place_in_line\": 806.0, \"sort_price_per_pod\": 980.0}, {\"date\": \"2022-04-17\", \"amount\": 18797, \"place_in_line\": 437626485, \"price_per_pod\": 0.174, \"sort_date\": 1241.0, \"sort_amount\": 946.0, \"sort_place_in_line\": 858.0, \"sort_price_per_pod\": 939.0}, {\"date\": \"2022-04-17\", \"amount\": 14803, \"place_in_line\": 319959714, \"price_per_pod\": 0.235, \"sort_date\": 1240.0, \"sort_amount\": 856.0, \"sort_place_in_line\": 776.0, \"sort_price_per_pod\": 1011.0}, {\"date\": \"2022-04-17\", \"amount\": 9076, \"place_in_line\": 731385825, \"price_per_pod\": 0.065, \"sort_date\": 1239.0, \"sort_amount\": 650.0, \"sort_place_in_line\": 1439.0, \"sort_price_per_pod\": 667.0}, {\"date\": \"2022-04-17\", \"amount\": 4560, \"place_in_line\": 404072352, \"price_per_pod\": 0.2, \"sort_date\": 1238.0, \"sort_amount\": 394.0, \"sort_place_in_line\": 832.0, \"sort_price_per_pod\": 982.0}, {\"date\": \"2022-04-17\", \"amount\": 9255, \"place_in_line\": 718014928, \"price_per_pod\": 0.08, \"sort_date\": 1237.0, \"sort_amount\": 656.0, \"sort_place_in_line\": 1324.0, \"sort_price_per_pod\": 736.0}, {\"date\": \"2022-04-17\", \"amount\": 12471, \"place_in_line\": 692168843, \"price_per_pod\": 0.001, \"sort_date\": 1236.0, \"sort_amount\": 796.0, \"sort_place_in_line\": 920.0, \"sort_price_per_pod\": 0.0}, {\"date\": \"2022-04-17\", \"amount\": 8536, \"place_in_line\": 695893457, \"price_per_pod\": 0.001, \"sort_date\": 1235.0, \"sort_amount\": 614.0, \"sort_place_in_line\": 969.0, \"sort_price_per_pod\": 1.0}, {\"date\": \"2022-04-17\", \"amount\": 3760, \"place_in_line\": 731394902, \"price_per_pod\": 0.065, \"sort_date\": 1234.0, \"sort_amount\": 337.0, \"sort_place_in_line\": 1440.0, \"sort_price_per_pod\": 664.0}, {\"date\": \"2022-08-05\", \"amount\": 19, \"place_in_line\": 137157571, \"price_per_pod\": 0.8, \"sort_date\": 1309.0, \"sort_amount\": 7.0, \"sort_place_in_line\": 486.0, \"sort_price_per_pod\": 1369.0}, {\"date\": \"2022-08-05\", \"amount\": 8159, \"place_in_line\": 708673539, \"price_per_pod\": 0.029, \"sort_date\": 1308.0, \"sort_amount\": 596.0, \"sort_place_in_line\": 1170.0, \"sort_price_per_pod\": 104.0}, {\"date\": \"2022-08-06\", \"amount\": 4669, \"place_in_line\": 710372916, \"price_per_pod\": 0.029, \"sort_date\": 1310.0, \"sort_amount\": 401.0, \"sort_place_in_line\": 1245.0, \"sort_price_per_pod\": 106.0}, {\"date\": \"2022-08-06\", \"amount\": 4073, \"place_in_line\": 310740918, \"price_per_pod\": 0.1, \"sort_date\": 1311.0, \"sort_amount\": 358.0, \"sort_place_in_line\": 756.0, \"sort_price_per_pod\": 812.0}, {\"date\": \"2022-08-07\", \"amount\": 26915, \"place_in_line\": 541679847, \"price_per_pod\": 0.0212, \"sort_date\": 1349.0, \"sort_amount\": 1076.0, \"sort_place_in_line\": 889.0, \"sort_price_per_pod\": 40.0}, {\"date\": \"2022-08-07\", \"amount\": 20467, \"place_in_line\": 643671292, \"price_per_pod\": 0.0212, \"sort_date\": 1339.0, \"sort_amount\": 991.0, \"sort_place_in_line\": 912.0, \"sort_price_per_pod\": 41.0}, {\"date\": \"2022-08-07\", \"amount\": 67236, \"place_in_line\": 310744992, \"price_per_pod\": 0.1, \"sort_date\": 1340.0, \"sort_amount\": 1299.0, \"sort_place_in_line\": 757.0, \"sort_price_per_pod\": 810.0}, {\"date\": \"2022-08-07\", \"amount\": 43650, \"place_in_line\": 731342174, \"price_per_pod\": 0.0233, \"sort_date\": 1341.0, \"sort_amount\": 1219.0, \"sort_place_in_line\": 1437.0, \"sort_price_per_pod\": 44.0}, {\"date\": \"2022-08-07\", \"amount\": 10002, \"place_in_line\": 310812228, \"price_per_pod\": 0.1, \"sort_date\": 1342.0, \"sort_amount\": 701.0, \"sort_place_in_line\": 758.0, \"sort_price_per_pod\": 830.0}, {\"date\": \"2022-08-07\", \"amount\": 8691, \"place_in_line\": 310822231, \"price_per_pod\": 0.1, \"sort_date\": 1343.0, \"sort_amount\": 625.0, \"sort_place_in_line\": 759.0, \"sort_price_per_pod\": 820.0}, {\"date\": \"2022-08-07\", \"amount\": 33133, \"place_in_line\": 310830922, \"price_per_pod\": 0.1, \"sort_date\": 1344.0, \"sort_amount\": 1135.0, \"sort_place_in_line\": 760.0, \"sort_price_per_pod\": 815.0}, {\"date\": \"2022-08-07\", \"amount\": 50000, \"place_in_line\": 310864055, \"price_per_pod\": 0.1, \"sort_date\": 1345.0, \"sort_amount\": 1247.0, \"sort_place_in_line\": 761.0, \"sort_price_per_pod\": 816.0}, {\"date\": \"2022-08-07\", \"amount\": 235946, \"place_in_line\": 310914055, \"price_per_pod\": 0.1, \"sort_date\": 1346.0, \"sort_amount\": 1479.0, \"sort_place_in_line\": 764.0, \"sort_price_per_pod\": 822.0}, {\"date\": \"2022-08-07\", \"amount\": 39829, \"place_in_line\": 311150001, \"price_per_pod\": 0.1, \"sort_date\": 1347.0, \"sort_amount\": 1183.0, \"sort_place_in_line\": 765.0, \"sort_price_per_pod\": 834.0}, {\"date\": \"2022-08-07\", \"amount\": 27049, \"place_in_line\": 311189831, \"price_per_pod\": 0.1, \"sort_date\": 1348.0, \"sort_amount\": 1079.0, \"sort_place_in_line\": 766.0, \"sort_price_per_pod\": 833.0}, {\"date\": \"2022-08-07\", \"amount\": 5374, \"place_in_line\": 311216880, \"price_per_pod\": 0.1, \"sort_date\": 1351.0, \"sort_amount\": 444.0, \"sort_place_in_line\": 767.0, \"sort_price_per_pod\": 809.0}, {\"date\": \"2022-08-07\", \"amount\": 16840, \"place_in_line\": 311222254, \"price_per_pod\": 0.1, \"sort_date\": 1350.0, \"sort_amount\": 903.0, \"sort_place_in_line\": 768.0, \"sort_price_per_pod\": 787.0}, {\"date\": \"2022-08-07\", \"amount\": 6488, \"place_in_line\": 293521542, \"price_per_pod\": 0.15, \"sort_date\": 1359.0, \"sort_amount\": 507.0, \"sort_place_in_line\": 732.0, \"sort_price_per_pod\": 890.0}, {\"date\": \"2022-08-07\", \"amount\": 6009, \"place_in_line\": 709442632, \"price_per_pod\": 0.04, \"sort_date\": 1358.0, \"sort_amount\": 480.0, \"sort_place_in_line\": 1209.0, \"sort_price_per_pod\": 429.0}, {\"date\": \"2022-08-07\", \"amount\": 4285, \"place_in_line\": 66077490, \"price_per_pod\": 0.88, \"sort_date\": 1357.0, \"sort_amount\": 371.0, \"sort_place_in_line\": 324.0, \"sort_price_per_pod\": 1431.0}, {\"date\": \"2022-08-07\", \"amount\": 11, \"place_in_line\": 66081776, \"price_per_pod\": 0.88, \"sort_date\": 1356.0, \"sort_amount\": 5.0, \"sort_place_in_line\": 326.0, \"sort_price_per_pod\": 1430.0}, {\"date\": \"2022-08-07\", \"amount\": 84709, \"place_in_line\": 293653662, \"price_per_pod\": 0.09, \"sort_date\": 1336.0, \"sort_amount\": 1342.0, \"sort_place_in_line\": 734.0, \"sort_price_per_pod\": 769.0}, {\"date\": \"2022-08-07\", \"amount\": 12502, \"place_in_line\": 293738371, \"price_per_pod\": 0.1, \"sort_date\": 1360.0, \"sort_amount\": 800.0, \"sort_place_in_line\": 735.0, \"sort_price_per_pod\": 792.0}, {\"date\": \"2022-08-07\", \"amount\": 2641, \"place_in_line\": 293750873, \"price_per_pod\": 0.1, \"sort_date\": 1354.0, \"sort_amount\": 258.0, \"sort_place_in_line\": 736.0, \"sort_price_per_pod\": 801.0}, {\"date\": \"2022-08-07\", \"amount\": 15374, \"place_in_line\": 729443134, \"price_per_pod\": 0.0299, \"sort_date\": 1353.0, \"sort_amount\": 870.0, \"sort_place_in_line\": 1410.0, \"sort_price_per_pod\": 126.0}, {\"date\": \"2022-08-07\", \"amount\": 8274, \"place_in_line\": 437618210, \"price_per_pod\": 0.05, \"sort_date\": 1352.0, \"sort_amount\": 604.0, \"sort_place_in_line\": 857.0, \"sort_price_per_pod\": 551.0}, {\"date\": \"2022-08-07\", \"amount\": 0, \"place_in_line\": 66081788, \"price_per_pod\": 0.88, \"sort_date\": 1355.0, \"sort_amount\": 0.0, \"sort_place_in_line\": 327.0, \"sort_price_per_pod\": 1429.0}, {\"date\": \"2022-08-07\", \"amount\": 10654, \"place_in_line\": 285585338, \"price_per_pod\": 0.095, \"sort_date\": 1337.0, \"sort_amount\": 730.0, \"sort_place_in_line\": 720.0, \"sort_price_per_pod\": 782.0}, {\"date\": \"2022-08-07\", \"amount\": 12303, \"place_in_line\": 729458509, \"price_per_pod\": 0.0299, \"sort_date\": 1338.0, \"sort_amount\": 794.0, \"sort_place_in_line\": 1412.0, \"sort_price_per_pod\": 129.0}, {\"date\": \"2022-08-07\", \"amount\": 22871, \"place_in_line\": 737935681, \"price_per_pod\": 0.03, \"sort_date\": 1335.0, \"sort_amount\": 1032.0, \"sort_place_in_line\": 1480.0, \"sort_price_per_pod\": 206.0}, {\"date\": \"2022-08-07\", \"amount\": 3211, \"place_in_line\": 437614998, \"price_per_pod\": 0.09, \"sort_date\": 1312.0, \"sort_amount\": 299.0, \"sort_place_in_line\": 855.0, \"sort_price_per_pod\": 761.0}, {\"date\": \"2022-08-07\", \"amount\": 56976, \"place_in_line\": 285595992, \"price_per_pod\": 0.127, \"sort_date\": 1313.0, \"sort_amount\": 1270.0, \"sort_place_in_line\": 721.0, \"sort_price_per_pod\": 856.0}, {\"date\": \"2022-08-07\", \"amount\": 10000, \"place_in_line\": 737958552, \"price_per_pod\": 0.03, \"sort_date\": 1314.0, \"sort_amount\": 691.0, \"sort_place_in_line\": 1481.0, \"sort_price_per_pod\": 207.0}, {\"date\": \"2022-08-07\", \"amount\": 8919, \"place_in_line\": 285652969, \"price_per_pod\": 0.127, \"sort_date\": 1315.0, \"sort_amount\": 633.0, \"sort_place_in_line\": 722.0, \"sort_price_per_pod\": 858.0}, {\"date\": \"2022-08-07\", \"amount\": 146, \"place_in_line\": 293753514, \"price_per_pod\": 0.1, \"sort_date\": 1316.0, \"sort_amount\": 26.0, \"sort_place_in_line\": 737.0, \"sort_price_per_pod\": 795.0}, {\"date\": \"2022-08-07\", \"amount\": 5403, \"place_in_line\": 276364944, \"price_per_pod\": 0.15, \"sort_date\": 1318.0, \"sort_amount\": 446.0, \"sort_place_in_line\": 698.0, \"sort_price_per_pod\": 915.0}, {\"date\": \"2022-08-07\", \"amount\": 6674, \"place_in_line\": 285661889, \"price_per_pod\": 0.127, \"sort_date\": 1319.0, \"sort_amount\": 522.0, \"sort_place_in_line\": 723.0, \"sort_price_per_pod\": 857.0}, {\"date\": \"2022-08-07\", \"amount\": 7331, \"place_in_line\": 728214888, \"price_per_pod\": 0.064, \"sort_date\": 1320.0, \"sort_amount\": 553.0, \"sort_place_in_line\": 1404.0, \"sort_price_per_pod\": 663.0}, {\"date\": \"2022-08-07\", \"amount\": 50, \"place_in_line\": 79180247, \"price_per_pod\": 0.75, \"sort_date\": 1321.0, \"sort_amount\": 12.0, \"sort_place_in_line\": 332.0, \"sort_price_per_pod\": 1339.0}, {\"date\": \"2022-08-07\", \"amount\": 25, \"place_in_line\": 708681698, \"price_per_pod\": 0.029, \"sort_date\": 1322.0, \"sort_amount\": 10.0, \"sort_place_in_line\": 1171.0, \"sort_price_per_pod\": 124.0}, {\"date\": \"2022-08-07\", \"amount\": 4162, \"place_in_line\": 729470812, \"price_per_pod\": 0.0299, \"sort_date\": 1334.0, \"sort_amount\": 363.0, \"sort_place_in_line\": 1413.0, \"sort_price_per_pod\": 128.0}, {\"date\": \"2022-08-07\", \"amount\": 13229, \"place_in_line\": 737968552, \"price_per_pod\": 0.03, \"sort_date\": 1323.0, \"sort_amount\": 822.0, \"sort_place_in_line\": 1482.0, \"sort_price_per_pod\": 208.0}, {\"date\": \"2022-08-07\", \"amount\": 1702, \"place_in_line\": 729474974, \"price_per_pod\": 0.0299, \"sort_date\": 1324.0, \"sort_amount\": 194.0, \"sort_place_in_line\": 1414.0, \"sort_price_per_pod\": 127.0}, {\"date\": \"2022-08-07\", \"amount\": 233, \"place_in_line\": 89189871, \"price_per_pod\": 0.695, \"sort_date\": 1325.0, \"sort_amount\": 33.0, \"sort_place_in_line\": 348.0, \"sort_price_per_pod\": 1309.0}, {\"date\": \"2022-08-07\", \"amount\": 12839, \"place_in_line\": 737981782, \"price_per_pod\": 0.03, \"sort_date\": 1326.0, \"sort_amount\": 813.0, \"sort_place_in_line\": 1483.0, \"sort_price_per_pod\": 209.0}, {\"date\": \"2022-08-07\", \"amount\": 2, \"place_in_line\": 89190104, \"price_per_pod\": 0.695, \"sort_date\": 1327.0, \"sort_amount\": 3.0, \"sort_place_in_line\": 349.0, \"sort_price_per_pod\": 1310.0}, {\"date\": \"2022-08-07\", \"amount\": 1232, \"place_in_line\": 79180297, \"price_per_pod\": 0.75, \"sort_date\": 1328.0, \"sort_amount\": 148.0, \"sort_place_in_line\": 333.0, \"sort_price_per_pod\": 1333.0}, {\"date\": \"2022-08-07\", \"amount\": 60968, \"place_in_line\": 196687575, \"price_per_pod\": 0.18, \"sort_date\": 1329.0, \"sort_amount\": 1280.0, \"sort_place_in_line\": 578.0, \"sort_price_per_pod\": 946.0}, {\"date\": \"2022-08-07\", \"amount\": 133, \"place_in_line\": 79181530, \"price_per_pod\": 0.75, \"sort_date\": 1330.0, \"sort_amount\": 25.0, \"sort_place_in_line\": 334.0, \"sort_price_per_pod\": 1341.0}, {\"date\": \"2022-08-07\", \"amount\": 91774, \"place_in_line\": 285668563, \"price_per_pod\": 0.105, \"sort_date\": 1331.0, \"sort_amount\": 1358.0, \"sort_place_in_line\": 724.0, \"sort_price_per_pod\": 835.0}, {\"date\": \"2022-08-07\", \"amount\": 13348, \"place_in_line\": 737994621, \"price_per_pod\": 0.03, \"sort_date\": 1332.0, \"sort_amount\": 825.0, \"sort_place_in_line\": 1484.0, \"sort_price_per_pod\": 210.0}, {\"date\": \"2022-08-07\", \"amount\": 10000, \"place_in_line\": 310904055, \"price_per_pod\": 0.12, \"sort_date\": 1333.0, \"sort_amount\": 700.0, \"sort_place_in_line\": 763.0, \"sort_price_per_pod\": 844.0}, {\"date\": \"2022-08-07\", \"amount\": 43650, \"place_in_line\": 731342174, \"price_per_pod\": 0.03, \"sort_date\": 1317.0, \"sort_amount\": 1217.0, \"sort_place_in_line\": 1436.0, \"sort_price_per_pod\": 211.0}, {\"date\": \"2022-08-08\", \"amount\": 11008, \"place_in_line\": 214830162, \"price_per_pod\": 0.25, \"sort_date\": 1376.0, \"sort_amount\": 747.0, \"sort_place_in_line\": 598.0, \"sort_price_per_pod\": 1030.0}, {\"date\": \"2022-08-08\", \"amount\": 22234, \"place_in_line\": 737858120, \"price_per_pod\": 0.033, \"sort_date\": 1375.0, \"sort_amount\": 1022.0, \"sort_place_in_line\": 1478.0, \"sort_price_per_pod\": 322.0}, {\"date\": \"2022-08-08\", \"amount\": 2857, \"place_in_line\": 738620191, \"price_per_pod\": 0.035, \"sort_date\": 1374.0, \"sort_amount\": 277.0, \"sort_place_in_line\": 1487.0, \"sort_price_per_pod\": 356.0}, {\"date\": \"2022-08-08\", \"amount\": 12216, \"place_in_line\": 214841171, \"price_per_pod\": 0.18, \"sort_date\": 1373.0, \"sort_amount\": 791.0, \"sort_place_in_line\": 599.0, \"sort_price_per_pod\": 942.0}, {\"date\": \"2022-08-08\", \"amount\": 7868, \"place_in_line\": 214853387, \"price_per_pod\": 0.18, \"sort_date\": 1369.0, \"sort_amount\": 576.0, \"sort_place_in_line\": 600.0, \"sort_price_per_pod\": 941.0}, {\"date\": \"2022-08-08\", \"amount\": 4711, \"place_in_line\": 310884055, \"price_per_pod\": 0.12, \"sort_date\": 1372.0, \"sort_amount\": 405.0, \"sort_place_in_line\": 762.0, \"sort_price_per_pod\": 853.0}, {\"date\": \"2022-08-08\", \"amount\": 17365, \"place_in_line\": 738623048, \"price_per_pod\": 0.035, \"sort_date\": 1371.0, \"sort_amount\": 919.0, \"sort_place_in_line\": 1488.0, \"sort_price_per_pod\": 347.0}, {\"date\": \"2022-08-08\", \"amount\": 100000, \"place_in_line\": 730867543, \"price_per_pod\": 0.02, \"sort_date\": 1370.0, \"sort_amount\": 1379.0, \"sort_place_in_line\": 1427.0, \"sort_price_per_pod\": 28.0}, {\"date\": \"2022-08-08\", \"amount\": 401, \"place_in_line\": 738007970, \"price_per_pod\": 0.03, \"sort_date\": 1377.0, \"sort_amount\": 59.0, \"sort_place_in_line\": 1485.0, \"sort_price_per_pod\": 212.0}, {\"date\": \"2022-08-08\", \"amount\": 10000, \"place_in_line\": 203073203, \"price_per_pod\": 0.19, \"sort_date\": 1368.0, \"sort_amount\": 696.0, \"sort_place_in_line\": 588.0, \"sort_price_per_pod\": 958.0}, {\"date\": \"2022-08-08\", \"amount\": 1000, \"place_in_line\": 79181663, \"price_per_pod\": 0.75, \"sort_date\": 1361.0, \"sort_amount\": 125.0, \"sort_place_in_line\": 335.0, \"sort_price_per_pod\": 1336.0}, {\"date\": \"2022-08-08\", \"amount\": 209, \"place_in_line\": 145586439, \"price_per_pod\": 0.61, \"sort_date\": 1367.0, \"sort_amount\": 29.0, \"sort_place_in_line\": 520.0, \"sort_price_per_pod\": 1257.0}, {\"date\": \"2022-08-08\", \"amount\": 9, \"place_in_line\": 710377585, \"price_per_pod\": 0.029, \"sort_date\": 1366.0, \"sort_amount\": 4.0, \"sort_place_in_line\": 1246.0, \"sort_price_per_pod\": 118.0}, {\"date\": \"2022-08-08\", \"amount\": 9542, \"place_in_line\": 491089182, \"price_per_pod\": 0.08, \"sort_date\": 1365.0, \"sort_amount\": 670.0, \"sort_place_in_line\": 878.0, \"sort_price_per_pod\": 735.0}, {\"date\": \"2022-08-08\", \"amount\": 5150, \"place_in_line\": 276370348, \"price_per_pod\": 0.1, \"sort_date\": 1364.0, \"sort_amount\": 437.0, \"sort_place_in_line\": 699.0, \"sort_price_per_pod\": 794.0}, {\"date\": \"2022-08-08\", \"amount\": 93293, \"place_in_line\": 730867543, \"price_per_pod\": 0.03, \"sort_date\": 1363.0, \"sort_amount\": 1362.0, \"sort_place_in_line\": 1428.0, \"sort_price_per_pod\": 213.0}, {\"date\": \"2022-08-08\", \"amount\": 0, \"place_in_line\": 89248611, \"price_per_pod\": 0.7, \"sort_date\": 1362.0, \"sort_amount\": 2.0, \"sort_place_in_line\": 351.0, \"sort_price_per_pod\": 1311.0}, {\"date\": \"2022-08-09\", \"amount\": 74368, \"place_in_line\": 730967543, \"price_per_pod\": 0.035, \"sort_date\": 1384.0, \"sort_amount\": 1318.0, \"sort_place_in_line\": 1431.0, \"sort_price_per_pod\": 345.0}, {\"date\": \"2022-08-09\", \"amount\": 50583, \"place_in_line\": 738250713, \"price_per_pod\": 0.035, \"sort_date\": 1382.0, \"sort_amount\": 1252.0, \"sort_place_in_line\": 1486.0, \"sort_price_per_pod\": 344.0}, {\"date\": \"2022-08-09\", \"amount\": 69757, \"place_in_line\": 285515580, \"price_per_pod\": 0.095, \"sort_date\": 1383.0, \"sort_amount\": 1304.0, \"sort_place_in_line\": 719.0, \"sort_price_per_pod\": 781.0}, {\"date\": \"2022-08-09\", \"amount\": 26274, \"place_in_line\": 331595854, \"price_per_pod\": 0.09, \"sort_date\": 1385.0, \"sort_amount\": 1071.0, \"sort_place_in_line\": 792.0, \"sort_price_per_pod\": 748.0}, {\"date\": \"2022-08-09\", \"amount\": 19663, \"place_in_line\": 276375498, \"price_per_pod\": 0.1, \"sort_date\": 1381.0, \"sort_amount\": 958.0, \"sort_place_in_line\": 700.0, \"sort_price_per_pod\": 800.0}, {\"date\": \"2022-08-09\", \"amount\": 5755, \"place_in_line\": 730960837, \"price_per_pod\": 0.03, \"sort_date\": 1380.0, \"sort_amount\": 467.0, \"sort_place_in_line\": 1429.0, \"sort_price_per_pod\": 214.0}, {\"date\": \"2022-08-09\", \"amount\": 100000, \"place_in_line\": 277275034, \"price_per_pod\": 0.08, \"sort_date\": 1379.0, \"sort_amount\": 1374.0, \"sort_place_in_line\": 703.0, \"sort_price_per_pod\": 728.0}, {\"date\": \"2022-08-09\", \"amount\": 6971, \"place_in_line\": 761165787, \"price_per_pod\": 0.03, \"sort_date\": 1378.0, \"sort_amount\": 535.0, \"sort_place_in_line\": 1500.0, \"sort_price_per_pod\": 215.0}, {\"date\": \"2022-08-10\", \"amount\": 47, \"place_in_line\": 737880354, \"price_per_pod\": 0.033, \"sort_date\": 1386.0, \"sort_amount\": 11.0, \"sort_place_in_line\": 1479.0, \"sort_price_per_pod\": 311.0}, {\"date\": \"2022-08-10\", \"amount\": 30687, \"place_in_line\": 203083203, \"price_per_pod\": 0.15, \"sort_date\": 1387.0, \"sort_amount\": 1120.0, \"sort_place_in_line\": 589.0, \"sort_price_per_pod\": 891.0}, {\"date\": \"2022-08-10\", \"amount\": 1476, \"place_in_line\": 112305865, \"price_per_pod\": 0.37, \"sort_date\": 1388.0, \"sort_amount\": 165.0, \"sort_place_in_line\": 428.0, \"sort_price_per_pod\": 1092.0}, {\"date\": \"2022-08-10\", \"amount\": 70000, \"place_in_line\": 291392435, \"price_per_pod\": 0.075, \"sort_date\": 1389.0, \"sort_amount\": 1307.0, \"sort_place_in_line\": 730.0, \"sort_price_per_pod\": 713.0}, {\"date\": \"2022-08-11\", \"amount\": 225, \"place_in_line\": 710903001, \"price_per_pod\": 0.01, \"sort_date\": 1390.0, \"sort_amount\": 31.0, \"sort_place_in_line\": 1258.0, \"sort_price_per_pod\": 6.0}, {\"date\": \"2022-08-11\", \"amount\": 30279, \"place_in_line\": 746123766, \"price_per_pod\": 0.028, \"sort_date\": 1391.0, \"sort_amount\": 1114.0, \"sort_place_in_line\": 1499.0, \"sort_price_per_pod\": 92.0}, {\"date\": \"2022-08-11\", \"amount\": 950, \"place_in_line\": 730966592, \"price_per_pod\": 0.03, \"sort_date\": 1392.0, \"sort_amount\": 117.0, \"sort_place_in_line\": 1430.0, \"sort_price_per_pod\": 216.0}, {\"date\": \"2022-08-12\", \"amount\": 435, \"place_in_line\": 61648545, \"price_per_pod\": 0.64, \"sort_date\": 1394.0, \"sort_amount\": 63.0, \"sort_place_in_line\": 318.0, \"sort_price_per_pod\": 1266.0}, {\"date\": \"2022-08-12\", \"amount\": 19928, \"place_in_line\": 279405824, \"price_per_pod\": 0.082, \"sort_date\": 1393.0, \"sort_amount\": 962.0, \"sort_place_in_line\": 715.0, \"sort_price_per_pod\": 737.0}, {\"date\": \"2022-08-13\", \"amount\": 50896, \"place_in_line\": 273566063, \"price_per_pod\": 0.075, \"sort_date\": 1395.0, \"sort_amount\": 1254.0, \"sort_place_in_line\": 691.0, \"sort_price_per_pod\": 722.0}, {\"date\": \"2022-08-13\", \"amount\": 20000, \"place_in_line\": 133684865, \"price_per_pod\": 0.22, \"sort_date\": 1396.0, \"sort_amount\": 973.0, \"sort_place_in_line\": 465.0, \"sort_price_per_pod\": 998.0}, {\"date\": \"2022-08-13\", \"amount\": 79941, \"place_in_line\": 291312494, \"price_per_pod\": 0.075, \"sort_date\": 1397.0, \"sort_amount\": 1329.0, \"sort_place_in_line\": 729.0, \"sort_price_per_pod\": 721.0}, {\"date\": \"2022-08-14\", \"amount\": 36881, \"place_in_line\": 273616959, \"price_per_pod\": 0.07, \"sort_date\": 1398.0, \"sort_amount\": 1165.0, \"sort_place_in_line\": 692.0, \"sort_price_per_pod\": 709.0}, {\"date\": \"2022-08-14\", \"amount\": 23784, \"place_in_line\": 284738104, \"price_per_pod\": 0.07, \"sort_date\": 1399.0, \"sort_amount\": 1043.0, \"sort_place_in_line\": 718.0, \"sort_price_per_pod\": 703.0}, {\"date\": \"2022-08-14\", \"amount\": 19574, \"place_in_line\": 291292919, \"price_per_pod\": 0.07, \"sort_date\": 1400.0, \"sort_amount\": 956.0, \"sort_place_in_line\": 728.0, \"sort_price_per_pod\": 704.0}, {\"date\": \"2022-08-15\", \"amount\": 78790, \"place_in_line\": 399960218, \"price_per_pod\": 0.01, \"sort_date\": 1407.0, \"sort_amount\": 1327.0, \"sort_place_in_line\": 822.0, \"sort_price_per_pod\": 7.0}, {\"date\": \"2022-08-15\", \"amount\": 15000, \"place_in_line\": 93142202, \"price_per_pod\": 0.32, \"sort_date\": 1405.0, \"sort_amount\": 858.0, \"sort_place_in_line\": 372.0, \"sort_price_per_pod\": 1075.0}, {\"date\": \"2022-08-15\", \"amount\": 72913, \"place_in_line\": 400039008, \"price_per_pod\": 0.01, \"sort_date\": 1406.0, \"sort_amount\": 1315.0, \"sort_place_in_line\": 823.0, \"sort_price_per_pod\": 8.0}, {\"date\": \"2022-08-15\", \"amount\": 29857, \"place_in_line\": 538324084, \"price_per_pod\": 0.01, \"sort_date\": 1408.0, \"sort_amount\": 1104.0, \"sort_place_in_line\": 888.0, \"sort_price_per_pod\": 9.0}, {\"date\": \"2022-08-15\", \"amount\": 61560, \"place_in_line\": 506102777, \"price_per_pod\": 0.01, \"sort_date\": 1404.0, \"sort_amount\": 1282.0, \"sort_place_in_line\": 885.0, \"sort_price_per_pod\": 10.0}, {\"date\": \"2022-08-15\", \"amount\": 291195, \"place_in_line\": 378988426, \"price_per_pod\": 0.01, \"sort_date\": 1403.0, \"sort_amount\": 1489.0, \"sort_place_in_line\": 810.0, \"sort_price_per_pod\": 11.0}, {\"date\": \"2022-08-15\", \"amount\": 9531, \"place_in_line\": 93299924, \"price_per_pod\": 0.32, \"sort_date\": 1401.0, \"sort_amount\": 669.0, \"sort_place_in_line\": 373.0, \"sort_price_per_pod\": 1076.0}, {\"date\": \"2022-08-15\", \"amount\": 7378, \"place_in_line\": 293603662, \"price_per_pod\": 0.09, \"sort_date\": 1402.0, \"sort_amount\": 557.0, \"sort_place_in_line\": 733.0, \"sort_price_per_pod\": 763.0}, {\"date\": \"2022-08-16\", \"amount\": 844, \"place_in_line\": 740628963, \"price_per_pod\": 0.025, \"sort_date\": 1409.0, \"sort_amount\": 104.0, \"sort_place_in_line\": 1489.0, \"sort_price_per_pod\": 53.0}, {\"date\": \"2022-08-16\", \"amount\": 150688, \"place_in_line\": 740629807, \"price_per_pod\": 0.025, \"sort_date\": 1410.0, \"sort_amount\": 1432.0, \"sort_place_in_line\": 1490.0, \"sort_price_per_pod\": 51.0}, {\"date\": \"2022-08-17\", \"amount\": 22, \"place_in_line\": 93479805, \"price_per_pod\": 0.69, \"sort_date\": 1411.0, \"sort_amount\": 8.0, \"sort_place_in_line\": 380.0, \"sort_price_per_pod\": 1295.0}, {\"date\": \"2022-08-17\", \"amount\": 9564, \"place_in_line\": 61648981, \"price_per_pod\": 0.6, \"sort_date\": 1412.0, \"sort_amount\": 673.0, \"sort_place_in_line\": 319.0, \"sort_price_per_pod\": 1239.0}, {\"date\": \"2022-08-17\", \"amount\": 17303, \"place_in_line\": 740780496, \"price_per_pod\": 0.025, \"sort_date\": 1413.0, \"sort_amount\": 916.0, \"sort_place_in_line\": 1491.0, \"sort_price_per_pod\": 58.0}, {\"date\": \"2022-08-18\", \"amount\": 10000, \"place_in_line\": 61638545, \"price_per_pod\": 0.64, \"sort_date\": 1414.0, \"sort_amount\": 688.0, \"sort_place_in_line\": 317.0, \"sort_price_per_pod\": 1265.0}, {\"date\": \"2022-08-18\", \"amount\": 11506, \"place_in_line\": 197040534, \"price_per_pod\": 0.06, \"sort_date\": 1415.0, \"sort_amount\": 766.0, \"sort_place_in_line\": 579.0, \"sort_price_per_pod\": 625.0}, {\"date\": \"2022-08-19\", \"amount\": 111, \"place_in_line\": 241628702, \"price_per_pod\": 0.09, \"sort_date\": 1416.0, \"sort_amount\": 22.0, \"sort_place_in_line\": 640.0, \"sort_price_per_pod\": 765.0}, {\"date\": \"2022-08-19\", \"amount\": 20388, \"place_in_line\": 740797799, \"price_per_pod\": 0.025, \"sort_date\": 1417.0, \"sort_amount\": 987.0, \"sort_place_in_line\": 1492.0, \"sort_price_per_pod\": 63.0}, {\"date\": \"2022-08-20\", \"amount\": 316, \"place_in_line\": 61628545, \"price_per_pod\": 0.64, \"sort_date\": 1418.0, \"sort_amount\": 53.0, \"sort_place_in_line\": 314.0, \"sort_price_per_pod\": 1261.0}, {\"date\": \"2022-08-20\", \"amount\": 18614, \"place_in_line\": 241628813, \"price_per_pod\": 0.06, \"sort_date\": 1419.0, \"sort_amount\": 943.0, \"sort_place_in_line\": 641.0, \"sort_price_per_pod\": 639.0}, {\"date\": \"2022-08-21\", \"amount\": 183632, \"place_in_line\": 197052041, \"price_per_pod\": 0.055, \"sort_date\": 1422.0, \"sort_amount\": 1457.0, \"sort_place_in_line\": 580.0, \"sort_price_per_pod\": 598.0}, {\"date\": \"2022-08-21\", \"amount\": 94477, \"place_in_line\": 241647428, \"price_per_pod\": 0.05, \"sort_date\": 1423.0, \"sort_amount\": 1364.0, \"sort_place_in_line\": 642.0, \"sort_price_per_pod\": 510.0}, {\"date\": \"2022-08-21\", \"amount\": 11565, \"place_in_line\": 692168843, \"price_per_pod\": 0.025, \"sort_date\": 1424.0, \"sort_amount\": 768.0, \"sort_place_in_line\": 919.0, \"sort_price_per_pod\": 74.0}, {\"date\": \"2022-08-21\", \"amount\": 505635, \"place_in_line\": 197235673, \"price_per_pod\": 0.05, \"sort_date\": 1421.0, \"sort_amount\": 1503.0, \"sort_place_in_line\": 581.0, \"sort_price_per_pod\": 515.0}, {\"date\": \"2022-08-21\", \"amount\": 76, \"place_in_line\": 61618545, \"price_per_pod\": 0.64, \"sort_date\": 1420.0, \"sort_amount\": 19.0, \"sort_place_in_line\": 308.0, \"sort_price_per_pod\": 1260.0}, {\"date\": \"2022-08-22\", \"amount\": 24, \"place_in_line\": 61618622, \"price_per_pod\": 0.65, \"sort_date\": 1425.0, \"sort_amount\": 9.0, \"sort_place_in_line\": 309.0, \"sort_price_per_pod\": 1273.0}, {\"date\": \"2022-08-22\", \"amount\": 905, \"place_in_line\": 692180409, \"price_per_pod\": 0.025, \"sort_date\": 1426.0, \"sort_amount\": 113.0, \"sort_place_in_line\": 921.0, \"sort_price_per_pod\": 75.0}, {\"date\": \"2022-08-22\", \"amount\": 3085, \"place_in_line\": 695893457, \"price_per_pod\": 0.025, \"sort_date\": 1427.0, \"sort_amount\": 291.0, \"sort_place_in_line\": 968.0, \"sort_price_per_pod\": 71.0}, {\"date\": \"2022-08-22\", \"amount\": 4394, \"place_in_line\": 695896543, \"price_per_pod\": 0.025, \"sort_date\": 1428.0, \"sort_amount\": 379.0, \"sort_place_in_line\": 970.0, \"sort_price_per_pod\": 70.0}, {\"date\": \"2022-08-23\", \"amount\": 616, \"place_in_line\": 61618647, \"price_per_pod\": 0.65, \"sort_date\": 1433.0, \"sort_amount\": 88.0, \"sort_place_in_line\": 310.0, \"sort_price_per_pod\": 1277.0}, {\"date\": \"2022-08-23\", \"amount\": 253, \"place_in_line\": 61619263, \"price_per_pod\": 0.65, \"sort_date\": 1432.0, \"sort_amount\": 34.0, \"sort_place_in_line\": 311.0, \"sort_price_per_pod\": 1270.0}, {\"date\": \"2022-08-23\", \"amount\": 33005, \"place_in_line\": 740818188, \"price_per_pod\": 0.025, \"sort_date\": 1431.0, \"sort_amount\": 1134.0, \"sort_place_in_line\": 1493.0, \"sort_price_per_pod\": 65.0}, {\"date\": \"2022-08-23\", \"amount\": 9028, \"place_in_line\": 61619517, \"price_per_pod\": 0.55, \"sort_date\": 1430.0, \"sort_amount\": 644.0, \"sort_place_in_line\": 313.0, \"sort_price_per_pod\": 1201.0}, {\"date\": \"2022-08-23\", \"amount\": 1624, \"place_in_line\": 61628862, \"price_per_pod\": 0.62, \"sort_date\": 1429.0, \"sort_amount\": 186.0, \"sort_place_in_line\": 315.0, \"sort_price_per_pod\": 1258.0}, {\"date\": \"2022-08-24\", \"amount\": 234173, \"place_in_line\": 272603524, \"price_per_pod\": 0.045, \"sort_date\": 1434.0, \"sort_amount\": 1478.0, \"sort_place_in_line\": 690.0, \"sort_price_per_pod\": 455.0}, {\"date\": \"2022-08-24\", \"amount\": 25988, \"place_in_line\": 740851194, \"price_per_pod\": 0.025, \"sort_date\": 1435.0, \"sort_amount\": 1068.0, \"sort_place_in_line\": 1494.0, \"sort_price_per_pod\": 68.0}, {\"date\": \"2022-08-24\", \"amount\": 2338, \"place_in_line\": 740877182, \"price_per_pod\": 0.025, \"sort_date\": 1436.0, \"sort_amount\": 235.0, \"sort_place_in_line\": 1495.0, \"sort_price_per_pod\": 67.0}, {\"date\": \"2022-08-25\", \"amount\": 92828, \"place_in_line\": 726187815, \"price_per_pod\": 0.028, \"sort_date\": 1437.0, \"sort_amount\": 1361.0, \"sort_place_in_line\": 1401.0, \"sort_price_per_pod\": 90.0}, {\"date\": \"2022-08-25\", \"amount\": 1148, \"place_in_line\": 743973017, \"price_per_pod\": 0.02, \"sort_date\": 1438.0, \"sort_amount\": 141.0, \"sort_place_in_line\": 1498.0, \"sort_price_per_pod\": 22.0}, {\"date\": \"2022-08-25\", \"amount\": 234067, \"place_in_line\": 740879520, \"price_per_pod\": 0.025, \"sort_date\": 1439.0, \"sort_amount\": 1477.0, \"sort_place_in_line\": 1496.0, \"sort_price_per_pod\": 72.0}, {\"date\": \"2022-08-26\", \"amount\": 153138, \"place_in_line\": 736132449, \"price_per_pod\": 0.02, \"sort_date\": 1442.0, \"sort_amount\": 1437.0, \"sort_place_in_line\": 1472.0, \"sort_price_per_pod\": 24.0}, {\"date\": \"2022-08-26\", \"amount\": 58636, \"place_in_line\": 733900548, \"price_per_pod\": 0.02, \"sort_date\": 1440.0, \"sort_amount\": 1274.0, \"sort_place_in_line\": 1463.0, \"sort_price_per_pod\": 25.0}, {\"date\": \"2022-08-26\", \"amount\": 8058, \"place_in_line\": 61630487, \"price_per_pod\": 0.62, \"sort_date\": 1441.0, \"sort_amount\": 591.0, \"sort_place_in_line\": 316.0, \"sort_price_per_pod\": 1259.0}, {\"date\": \"2022-08-28\", \"amount\": 45000, \"place_in_line\": 246852209, \"price_per_pod\": 0.045, \"sort_date\": 1443.0, \"sort_amount\": 1226.0, \"sort_place_in_line\": 644.0, \"sort_price_per_pod\": 468.0}, {\"date\": \"2022-08-28\", \"amount\": 48039, \"place_in_line\": 803330678, \"price_per_pod\": 0.024, \"sort_date\": 1444.0, \"sort_amount\": 1236.0, \"sort_place_in_line\": 1501.0, \"sort_price_per_pod\": 46.0}, {\"date\": \"2022-08-28\", \"amount\": 69815, \"place_in_line\": 736215587, \"price_per_pod\": 0.028, \"sort_date\": 1445.0, \"sort_amount\": 1305.0, \"sort_place_in_line\": 1475.0, \"sort_price_per_pod\": 93.0}, {\"date\": \"2022-08-28\", \"amount\": 49547, \"place_in_line\": 695337036, \"price_per_pod\": 0.03, \"sort_date\": 1446.0, \"sort_amount\": 1242.0, \"sort_place_in_line\": 938.0, \"sort_price_per_pod\": 223.0}, {\"date\": \"2022-08-28\", \"amount\": 9028, \"place_in_line\": 61619517, \"price_per_pod\": 0.59, \"sort_date\": 1447.0, \"sort_amount\": 643.0, \"sort_place_in_line\": 312.0, \"sort_price_per_pod\": 1235.0}, {\"date\": \"2022-08-28\", \"amount\": 1040, \"place_in_line\": 695900937, \"price_per_pod\": 0.025, \"sort_date\": 1448.0, \"sort_amount\": 129.0, \"sort_place_in_line\": 971.0, \"sort_price_per_pod\": 66.0}, {\"date\": \"2022-08-28\", \"amount\": 763, \"place_in_line\": 61590791, \"price_per_pod\": 0.64, \"sort_date\": 1449.0, \"sort_amount\": 98.0, \"sort_place_in_line\": 305.0, \"sort_price_per_pod\": 1267.0}, {\"date\": \"2022-08-30\", \"amount\": 4230, \"place_in_line\": 376423657, \"price_per_pod\": 0.05, \"sort_date\": 1451.0, \"sort_amount\": 366.0, \"sort_place_in_line\": 807.0, \"sort_price_per_pod\": 518.0}, {\"date\": \"2022-08-30\", \"amount\": 83138, \"place_in_line\": 736132449, \"price_per_pod\": 0.028, \"sort_date\": 1450.0, \"sort_amount\": 1336.0, \"sort_place_in_line\": 1474.0, \"sort_price_per_pod\": 86.0}, {\"date\": \"2022-08-30\", \"amount\": 58636, \"place_in_line\": 733900548, \"price_per_pod\": 0.029, \"sort_date\": 1452.0, \"sort_amount\": 1275.0, \"sort_place_in_line\": 1462.0, \"sort_price_per_pod\": 122.0}, {\"date\": \"2022-08-30\", \"amount\": 38949, \"place_in_line\": 376427887, \"price_per_pod\": 0.05, \"sort_date\": 1453.0, \"sort_amount\": 1179.0, \"sort_place_in_line\": 808.0, \"sort_price_per_pod\": 535.0}, {\"date\": \"2022-08-31\", \"amount\": 1666, \"place_in_line\": 61591555, \"price_per_pod\": 0.6, \"sort_date\": 1459.0, \"sort_amount\": 190.0, \"sort_place_in_line\": 306.0, \"sort_price_per_pod\": 1251.0}, {\"date\": \"2022-08-31\", \"amount\": 40793, \"place_in_line\": 733859755, \"price_per_pod\": 0.02, \"sort_date\": 1458.0, \"sort_amount\": 1193.0, \"sort_place_in_line\": 1460.0, \"sort_price_per_pod\": 30.0}, {\"date\": \"2022-08-31\", \"amount\": 15637, \"place_in_line\": 718086779, \"price_per_pod\": 0.02, \"sort_date\": 1460.0, \"sort_amount\": 874.0, \"sort_place_in_line\": 1329.0, \"sort_price_per_pod\": 21.0}, {\"date\": \"2022-08-31\", \"amount\": 17984, \"place_in_line\": 708175718, \"price_per_pod\": 0.02, \"sort_date\": 1456.0, \"sort_amount\": 931.0, \"sort_place_in_line\": 1132.0, \"sort_price_per_pod\": 31.0}, {\"date\": \"2022-08-31\", \"amount\": 7323, \"place_in_line\": 707860938, \"price_per_pod\": 0.02, \"sort_date\": 1455.0, \"sort_amount\": 550.0, \"sort_place_in_line\": 1104.0, \"sort_price_per_pod\": 38.0}, {\"date\": \"2022-08-31\", \"amount\": 2286, \"place_in_line\": 278493127, \"price_per_pod\": 0.0695, \"sort_date\": 1454.0, \"sort_amount\": 230.0, \"sort_place_in_line\": 710.0, \"sort_price_per_pod\": 695.0}, {\"date\": \"2022-08-31\", \"amount\": 15229, \"place_in_line\": 201269337, \"price_per_pod\": 0.05, \"sort_date\": 1457.0, \"sort_amount\": 866.0, \"sort_place_in_line\": 582.0, \"sort_price_per_pod\": 517.0}, {\"date\": \"2022-08-31\", \"amount\": 20450, \"place_in_line\": 92771013, \"price_per_pod\": 0.12, \"sort_date\": 1461.0, \"sort_amount\": 989.0, \"sort_place_in_line\": 362.0, \"sort_price_per_pod\": 842.0}, {\"date\": \"2022-09-01\", \"amount\": 20948, \"place_in_line\": 695771940, \"price_per_pod\": 0.023, \"sort_date\": 1463.0, \"sort_amount\": 1002.0, \"sort_place_in_line\": 959.0, \"sort_price_per_pod\": 42.0}, {\"date\": \"2022-09-01\", \"amount\": 190360, \"place_in_line\": 821102020, \"price_per_pod\": 0.028, \"sort_date\": 1462.0, \"sort_amount\": 1459.0, \"sort_place_in_line\": 1503.0, \"sort_price_per_pod\": 83.0}, {\"date\": \"2022-09-02\", \"amount\": 292114, \"place_in_line\": 265250889, \"price_per_pod\": 0.045, \"sort_date\": 1464.0, \"sort_amount\": 1490.0, \"sort_place_in_line\": 682.0, \"sort_price_per_pod\": 467.0}, {\"date\": \"2022-09-02\", \"amount\": 67134, \"place_in_line\": 246719681, \"price_per_pod\": 0.045, \"sort_date\": 1465.0, \"sort_amount\": 1298.0, \"sort_place_in_line\": 643.0, \"sort_price_per_pod\": 475.0}, {\"date\": \"2022-09-02\", \"amount\": 130000, \"place_in_line\": 376466837, \"price_per_pod\": 0.05, \"sort_date\": 1466.0, \"sort_amount\": 1402.0, \"sort_place_in_line\": 809.0, \"sort_price_per_pod\": 529.0}, {\"date\": \"2022-09-02\", \"amount\": 1993, \"place_in_line\": 147408661, \"price_per_pod\": 0.15, \"sort_date\": 1467.0, \"sort_amount\": 209.0, \"sort_place_in_line\": 526.0, \"sort_price_per_pod\": 900.0}, {\"date\": \"2022-09-03\", \"amount\": 51, \"place_in_line\": 695792889, \"price_per_pod\": 0.023, \"sort_date\": 1472.0, \"sort_amount\": 14.0, \"sort_place_in_line\": 961.0, \"sort_price_per_pod\": 43.0}, {\"date\": \"2022-09-03\", \"amount\": 125, \"place_in_line\": 803378718, \"price_per_pod\": 0.024, \"sort_date\": 1471.0, \"sort_amount\": 23.0, \"sort_place_in_line\": 1502.0, \"sort_price_per_pod\": 48.0}, {\"date\": \"2022-09-03\", \"amount\": 582, \"place_in_line\": 741113587, \"price_per_pod\": 0.025, \"sort_date\": 1473.0, \"sort_amount\": 86.0, \"sort_place_in_line\": 1497.0, \"sort_price_per_pod\": 69.0}, {\"date\": \"2022-09-03\", \"amount\": 11058, \"place_in_line\": 695386584, \"price_per_pod\": 0.03, \"sort_date\": 1469.0, \"sort_amount\": 749.0, \"sort_place_in_line\": 940.0, \"sort_price_per_pod\": 221.0}, {\"date\": \"2022-09-03\", \"amount\": 58283, \"place_in_line\": 821423984, \"price_per_pod\": 0.028, \"sort_date\": 1470.0, \"sort_amount\": 1273.0, \"sort_place_in_line\": 1504.0, \"sort_price_per_pod\": 94.0}, {\"date\": \"2022-09-03\", \"amount\": 6469, \"place_in_line\": 491098724, \"price_per_pod\": 0.048, \"sort_date\": 1468.0, \"sort_amount\": 505.0, \"sort_place_in_line\": 880.0, \"sort_price_per_pod\": 498.0}, {\"date\": \"2022-09-04\", \"amount\": 2774, \"place_in_line\": 256773707, \"price_per_pod\": 0.0911, \"sort_date\": 1474.0, \"sort_amount\": 272.0, \"sort_place_in_line\": 661.0, \"sort_price_per_pod\": 778.0}, {\"date\": \"2022-09-04\", \"amount\": 50000, \"place_in_line\": 145676784, \"price_per_pod\": 0.1, \"sort_date\": 1475.0, \"sort_amount\": 1245.0, \"sort_place_in_line\": 522.0, \"sort_price_per_pod\": 821.0}, {\"date\": \"2022-09-04\", \"amount\": 8913, \"place_in_line\": 93309924, \"price_per_pod\": 0.2, \"sort_date\": 1476.0, \"sort_amount\": 631.0, \"sort_place_in_line\": 375.0, \"sort_price_per_pod\": 970.0}, {\"date\": \"2022-09-06\", \"amount\": 33939, \"place_in_line\": 698298390, \"price_per_pod\": 0.025, \"sort_date\": 1477.0, \"sort_amount\": 1146.0, \"sort_place_in_line\": 1000.0, \"sort_price_per_pod\": 50.0}, {\"date\": \"2022-09-06\", \"amount\": 5000, \"place_in_line\": 339785493, \"price_per_pod\": 0.05, \"sort_date\": 1478.0, \"sort_amount\": 430.0, \"sort_place_in_line\": 796.0, \"sort_price_per_pod\": 528.0}, {\"date\": \"2022-09-06\", \"amount\": 149346, \"place_in_line\": 339790493, \"price_per_pod\": 0.05, \"sort_date\": 1479.0, \"sort_amount\": 1426.0, \"sort_place_in_line\": 797.0, \"sort_price_per_pod\": 523.0}, {\"date\": \"2022-09-07\", \"amount\": 61482, \"place_in_line\": 339939840, \"price_per_pod\": 0.0041, \"sort_date\": 1481.0, \"sort_amount\": 1281.0, \"sort_place_in_line\": 798.0, \"sort_price_per_pod\": 3.0}, {\"date\": \"2022-09-07\", \"amount\": 25323, \"place_in_line\": 61593222, \"price_per_pod\": 0.52, \"sort_date\": 1480.0, \"sort_amount\": 1064.0, \"sort_place_in_line\": 307.0, \"sort_price_per_pod\": 1185.0}, {\"date\": \"2022-09-08\", \"amount\": 20159, \"place_in_line\": 150059373, \"price_per_pod\": 0.09, \"sort_date\": 1483.0, \"sort_amount\": 979.0, \"sort_place_in_line\": 554.0, \"sort_price_per_pod\": 747.0}, {\"date\": \"2022-09-08\", \"amount\": 43975, \"place_in_line\": 306145738, \"price_per_pod\": 0.03, \"sort_date\": 1482.0, \"sort_amount\": 1221.0, \"sort_place_in_line\": 754.0, \"sort_price_per_pod\": 224.0}, {\"date\": \"2022-09-10\", \"amount\": 15360, \"place_in_line\": 278495413, \"price_per_pod\": 0.059, \"sort_date\": 1484.0, \"sort_amount\": 869.0, \"sort_place_in_line\": 711.0, \"sort_price_per_pod\": 615.0}, {\"date\": \"2022-09-10\", \"amount\": 20160, \"place_in_line\": 131646520, \"price_per_pod\": 0.16, \"sort_date\": 1485.0, \"sort_amount\": 981.0, \"sort_place_in_line\": 459.0, \"sort_price_per_pod\": 929.0}, {\"date\": \"2022-09-10\", \"amount\": 36912, \"place_in_line\": 145689762, \"price_per_pod\": 0.14, \"sort_date\": 1486.0, \"sort_amount\": 1166.0, \"sort_place_in_line\": 523.0, \"sort_price_per_pod\": 869.0}, {\"date\": \"2022-09-10\", \"amount\": 38582, \"place_in_line\": 147410655, \"price_per_pod\": 0.135, \"sort_date\": 1487.0, \"sort_amount\": 1175.0, \"sort_place_in_line\": 527.0, \"sort_price_per_pod\": 865.0}, {\"date\": \"2022-09-10\", \"amount\": 88294, \"place_in_line\": 278510774, \"price_per_pod\": 0.059, \"sort_date\": 1488.0, \"sort_amount\": 1351.0, \"sort_place_in_line\": 712.0, \"sort_price_per_pod\": 616.0}, {\"date\": \"2022-09-10\", \"amount\": 30310, \"place_in_line\": 150079532, \"price_per_pod\": 0.1, \"sort_date\": 1489.0, \"sort_amount\": 1117.0, \"sort_place_in_line\": 556.0, \"sort_price_per_pod\": 785.0}, {\"date\": \"2022-09-11\", \"amount\": 9142, \"place_in_line\": 92707474, \"price_per_pod\": 0.1, \"sort_date\": 1492.0, \"sort_amount\": 652.0, \"sort_place_in_line\": 352.0, \"sort_price_per_pod\": 806.0}, {\"date\": \"2022-09-11\", \"amount\": 2520, \"place_in_line\": 92716616, \"price_per_pod\": 0.1, \"sort_date\": 1490.0, \"sort_amount\": 248.0, \"sort_place_in_line\": 353.0, \"sort_price_per_pod\": 799.0}, {\"date\": \"2022-09-11\", \"amount\": 8027, \"place_in_line\": 92791464, \"price_per_pod\": 0.1, \"sort_date\": 1491.0, \"sort_amount\": 588.0, \"sort_place_in_line\": 363.0, \"sort_price_per_pod\": 797.0}, {\"date\": \"2022-09-12\", \"amount\": 5174, \"place_in_line\": 150079532, \"price_per_pod\": 0.1, \"sort_date\": 1493.0, \"sort_amount\": 438.0, \"sort_place_in_line\": 555.0, \"sort_price_per_pod\": 786.0}, {\"date\": \"2022-09-12\", \"amount\": 10106, \"place_in_line\": 718086779, \"price_per_pod\": 0.029, \"sort_date\": 1494.0, \"sort_amount\": 708.0, \"sort_place_in_line\": 1331.0, \"sort_price_per_pod\": 113.0}, {\"date\": \"2022-09-13\", \"amount\": 45604, \"place_in_line\": 280560810, \"price_per_pod\": 0.032, \"sort_date\": 1496.0, \"sort_amount\": 1231.0, \"sort_place_in_line\": 716.0, \"sort_price_per_pod\": 305.0}, {\"date\": \"2022-09-13\", \"amount\": 38451, \"place_in_line\": 232984186, \"price_per_pod\": 0.045, \"sort_date\": 1497.0, \"sort_amount\": 1174.0, \"sort_place_in_line\": 637.0, \"sort_price_per_pod\": 448.0}, {\"date\": \"2022-09-13\", \"amount\": 56, \"place_in_line\": 131666681, \"price_per_pod\": 0.1, \"sort_date\": 1498.0, \"sort_amount\": 15.0, \"sort_place_in_line\": 460.0, \"sort_price_per_pod\": 791.0}, {\"date\": \"2022-09-13\", \"amount\": 43494, \"place_in_line\": 702015571, \"price_per_pod\": 0.024, \"sort_date\": 1499.0, \"sort_amount\": 1216.0, \"sort_place_in_line\": 1021.0, \"sort_price_per_pod\": 45.0}, {\"date\": \"2022-09-13\", \"amount\": 27938, \"place_in_line\": 302500361, \"price_per_pod\": 0.032, \"sort_date\": 1500.0, \"sort_amount\": 1086.0, \"sort_place_in_line\": 753.0, \"sort_price_per_pod\": 306.0}, {\"date\": \"2022-09-13\", \"amount\": 10000, \"place_in_line\": 92799491, \"price_per_pod\": 0.15, \"sort_date\": 1495.0, \"sort_amount\": 695.0, \"sort_place_in_line\": 364.0, \"sort_price_per_pod\": 914.0}, {\"date\": \"2022-09-14\", \"amount\": 480, \"place_in_line\": 93309924, \"price_per_pod\": 0.27, \"sort_date\": 1501.0, \"sort_amount\": 68.0, \"sort_place_in_line\": 374.0, \"sort_price_per_pod\": 1051.0}, {\"date\": \"2022-09-15\", \"amount\": 18335, \"place_in_line\": 148225450, \"price_per_pod\": 0.1, \"sort_date\": 1503.0, \"sort_amount\": 937.0, \"sort_place_in_line\": 538.0, \"sort_price_per_pod\": 784.0}, {\"date\": \"2022-09-15\", \"amount\": 20614, \"place_in_line\": 148895359, \"price_per_pod\": 0.1, \"sort_date\": 1502.0, \"sort_amount\": 994.0, \"sort_place_in_line\": 539.0, \"sort_price_per_pod\": 811.0}, {\"date\": \"2022-09-16\", \"amount\": 4221, \"place_in_line\": 278599069, \"price_per_pod\": 0.059, \"sort_date\": 1504.0, \"sort_amount\": 364.0, \"sort_place_in_line\": 713.0, \"sort_price_per_pod\": 622.0}]}}, {\"mode\": \"vega-lite\"});\n",
       "</script>"
      ],
      "text/plain": [
       "alt.Chart(...)"
      ]
     },
     "execution_count": 78,
     "metadata": {},
     "output_type": "execute_result"
    }
   ],
   "source": [
    "# https://observablehq.com/@mdeagen/vega-lite-table-using-text-marks\n",
    "\n",
    "from IPython.display import display, HTML\n",
    "\n",
    "# display(HTML(\"\"\"\n",
    "# <style>\n",
    "# form.vega-bindings {\n",
    "#   position: absolute;\n",
    "#   left: 0px;\n",
    "#   top: 20px;\n",
    "#   -webkit-transform: rotate(90deg);\n",
    "\n",
    "# }\n",
    "# </style>\n",
    "# \"\"\"))\n",
    "\n",
    "cols = ['date', 'amount', 'place_in_line', 'price_per_pod']\n",
    "df = df_fills[cols].copy()\n",
    "sort_cols = []\n",
    "for c in cols: \n",
    "    scol = f\"sort_{c}\"\n",
    "    df_sort = df.sort_values(c)\n",
    "    df.loc[df_sort.index, scol] = df.index.values\n",
    "    sort_cols.append(scol) \n",
    "    \n",
    "df['date'] = df['date'].dt.strftime(\"%Y-%m-%d\")\n",
    "df['amount'] = df.amount.astype(int)\n",
    "df['place_in_line'] = df.place_in_line.astype(int)\n",
    "\n",
    "nrows = 10\n",
    "radio = alt.binding_radio(name=\"Sort By\", options=cols)\n",
    "slider = alt.binding_range(min=1, max=len(df) - nrows, step=1, name='Scroll Offset:')\n",
    "\n",
    "select_scroll = alt.selection_single(\n",
    "    name=\"scroller\", fields=['offset'],\n",
    "    bind=slider, init={'offset': 1}\n",
    ")\n",
    "select_radio = alt.selection_single(\n",
    "    name=\"sortby\", fields=[\"sort_col\"], \n",
    "    bind=radio, init={\"sort_col\": \"date\"}\n",
    ")\n",
    "\n",
    "alt.Chart(df).add_selection(\n",
    "    select_scroll, select_radio \n",
    ").transform_calculate(\n",
    "    sort_num=f\"datum['sort_' + {select_radio.name}.sort_col]\"\n",
    ").transform_fold(\n",
    "    ['date', 'amount', 'place_in_line', 'price_per_pod']\n",
    ").transform_filter(\n",
    "    filter=(\n",
    "        \"datum.sort_num >= parseInt(scroller.offset)\"\n",
    "        f\" & datum.sort_num < (parseInt(scroller.offset) + {nrows})\"\n",
    "    )\n",
    ").mark_text().encode(\n",
    "    x=alt.X(\n",
    "        \"key:N\", \n",
    "        axis=alt.Axis(orient=\"top\", labelAngle=0, title=None, domain=False, ticks=False), \n",
    "        scale=alt.Scale(padding=15)\n",
    "    ),\n",
    "    text=\"value:N\",\n",
    "    y=alt.Y(\"sort_num:O\", axis=None), \n",
    "    order=alt.Order(\"order:N\", sort='descending'),\n",
    ").properties(width=500)"
   ]
  },
  {
   "cell_type": "code",
   "execution_count": null,
   "id": "7fa090d8-0b12-4a6b-a34d-2b480a5cc77c",
   "metadata": {},
   "outputs": [],
   "source": []
  },
  {
   "cell_type": "code",
   "execution_count": null,
   "id": "3a588c7d-aba2-4c66-a274-b6428303036c",
   "metadata": {},
   "outputs": [],
   "source": []
  },
  {
   "cell_type": "code",
   "execution_count": null,
   "id": "cccd3cd3-ae5f-430e-afdd-19c732e1c1dd",
   "metadata": {},
   "outputs": [],
   "source": []
  },
  {
   "cell_type": "code",
   "execution_count": null,
   "id": "fd5d967c-0212-416a-9e9c-c28d3e3512ea",
   "metadata": {},
   "outputs": [],
   "source": []
  },
  {
   "cell_type": "code",
   "execution_count": null,
   "id": "47228260-a52b-4774-8753-746e477cec22",
   "metadata": {},
   "outputs": [],
   "source": []
  },
  {
   "cell_type": "code",
   "execution_count": null,
   "id": "21734488-08a1-4d7a-82a9-0621b2cf9411",
   "metadata": {},
   "outputs": [],
   "source": []
  },
  {
   "cell_type": "code",
   "execution_count": null,
   "id": "7c53eb77-4158-4293-b2ed-078488cb12ec",
   "metadata": {},
   "outputs": [],
   "source": []
  },
  {
   "cell_type": "code",
   "execution_count": null,
   "id": "c2f171d3-87c9-4ffc-be96-4c1f1a0ea3bf",
   "metadata": {},
   "outputs": [],
   "source": []
  },
  {
   "cell_type": "code",
   "execution_count": null,
   "id": "f0922a26-1673-4185-bc39-51942a10bb36",
   "metadata": {},
   "outputs": [],
   "source": []
  },
  {
   "cell_type": "code",
   "execution_count": null,
   "id": "c579067d-57a7-4ae4-b340-8a5023eb9d49",
   "metadata": {},
   "outputs": [],
   "source": []
  },
  {
   "cell_type": "code",
   "execution_count": null,
   "id": "b70d38da-e568-4f96-baa8-a4b5d39ab3ed",
   "metadata": {},
   "outputs": [],
   "source": []
  },
  {
   "cell_type": "code",
   "execution_count": null,
   "id": "77359000-abb8-4696-8cd8-eec8aa95e2b7",
   "metadata": {},
   "outputs": [],
   "source": []
  },
  {
   "cell_type": "code",
   "execution_count": null,
   "id": "62a54f10-2bb6-495c-b1ec-cd4bb2973dc0",
   "metadata": {},
   "outputs": [],
   "source": []
  },
  {
   "cell_type": "code",
   "execution_count": null,
   "id": "a8a82a35-cc10-41e4-9126-a7fa445d3f87",
   "metadata": {},
   "outputs": [],
   "source": []
  },
  {
   "cell_type": "code",
   "execution_count": null,
   "id": "dd5f6e49-8b1d-4483-ac28-21c18d910a55",
   "metadata": {},
   "outputs": [],
   "source": []
  },
  {
   "cell_type": "code",
   "execution_count": null,
   "id": "a2929e9d-9fe2-4658-afe5-efdb1a7cd380",
   "metadata": {},
   "outputs": [],
   "source": []
  },
  {
   "cell_type": "code",
   "execution_count": null,
   "id": "07da6950-7f0f-4757-8ae2-149a9b978045",
   "metadata": {},
   "outputs": [],
   "source": []
  },
  {
   "cell_type": "code",
   "execution_count": null,
   "id": "c7645847-0d17-466f-8f4e-9298cd05418d",
   "metadata": {},
   "outputs": [],
   "source": []
  },
  {
   "cell_type": "code",
   "execution_count": null,
   "id": "9811555d-e36f-414d-8c92-3f88eb28244d",
   "metadata": {},
   "outputs": [],
   "source": []
  },
  {
   "cell_type": "code",
   "execution_count": null,
   "id": "ea2a0775-46fd-4e96-8168-ed1e2b84a288",
   "metadata": {},
   "outputs": [],
   "source": []
  },
  {
   "cell_type": "code",
   "execution_count": null,
   "id": "bf9d3810-6bec-431f-8ba5-954954ded15e",
   "metadata": {},
   "outputs": [],
   "source": []
  },
  {
   "cell_type": "code",
   "execution_count": null,
   "id": "825a24ba-1e4b-4b1c-827f-36b5c7152ce0",
   "metadata": {},
   "outputs": [],
   "source": []
  },
  {
   "cell_type": "code",
   "execution_count": null,
   "id": "4700c82e-5062-4d94-b9de-b8710e287ed3",
   "metadata": {},
   "outputs": [],
   "source": []
  },
  {
   "cell_type": "code",
   "execution_count": null,
   "id": "d2409fe2-8904-4417-9460-a5ee51fab567",
   "metadata": {},
   "outputs": [],
   "source": []
  },
  {
   "cell_type": "code",
   "execution_count": null,
   "id": "d8b5fdf6-580e-4e1f-bf68-873019aa9625",
   "metadata": {},
   "outputs": [],
   "source": []
  },
  {
   "cell_type": "code",
   "execution_count": null,
   "id": "04f2a197-376c-412f-aede-c89567a2a11a",
   "metadata": {},
   "outputs": [],
   "source": []
  },
  {
   "cell_type": "code",
   "execution_count": null,
   "id": "943c705a-5eed-4b0c-957d-90fe1d7a0bcd",
   "metadata": {},
   "outputs": [],
   "source": []
  },
  {
   "cell_type": "code",
   "execution_count": null,
   "id": "71742df1-d10f-45b9-b90e-7e0275652eb1",
   "metadata": {},
   "outputs": [],
   "source": []
  },
  {
   "cell_type": "code",
   "execution_count": null,
   "id": "1f7d61e4-d6a6-4a6c-904e-4343265f45a7",
   "metadata": {},
   "outputs": [],
   "source": []
  },
  {
   "cell_type": "code",
   "execution_count": null,
   "id": "e4650a37-bd86-4fc2-9ca5-c8911ec39bbd",
   "metadata": {},
   "outputs": [],
   "source": []
  },
  {
   "cell_type": "code",
   "execution_count": null,
   "id": "bbdb9676-a054-41f5-8d6c-6d8a26ef221a",
   "metadata": {},
   "outputs": [],
   "source": []
  },
  {
   "cell_type": "code",
   "execution_count": null,
   "id": "676db8fc-f2bf-4f12-bb8d-737e02d69fe2",
   "metadata": {},
   "outputs": [],
   "source": []
  },
  {
   "cell_type": "code",
   "execution_count": null,
   "id": "5519662a-3a16-405e-b2c5-0d0cd52fc85f",
   "metadata": {},
   "outputs": [],
   "source": []
  },
  {
   "cell_type": "code",
   "execution_count": null,
   "id": "f74bb15d-ecf5-44ff-83b5-ceb9be87717d",
   "metadata": {},
   "outputs": [],
   "source": []
  },
  {
   "cell_type": "code",
   "execution_count": null,
   "id": "4bf52431-b36b-4adc-bfe8-c54ec86ca7ad",
   "metadata": {},
   "outputs": [],
   "source": []
  },
  {
   "cell_type": "code",
   "execution_count": null,
   "id": "6ebe76db-76e6-424a-baac-b286ddb16452",
   "metadata": {},
   "outputs": [],
   "source": []
  },
  {
   "cell_type": "code",
   "execution_count": null,
   "id": "01d3fbdb-bb69-4b26-ba66-ac07072c04bc",
   "metadata": {},
   "outputs": [],
   "source": []
  },
  {
   "cell_type": "code",
   "execution_count": null,
   "id": "9122ae03-21f0-4351-80e0-758d6bb3ca32",
   "metadata": {},
   "outputs": [],
   "source": []
  },
  {
   "cell_type": "code",
   "execution_count": null,
   "id": "4df83370-c348-472a-8f30-51a92290e9f3",
   "metadata": {},
   "outputs": [],
   "source": []
  },
  {
   "cell_type": "code",
   "execution_count": null,
   "id": "66b476e0-803e-4dc7-9be1-779b3e5c7461",
   "metadata": {},
   "outputs": [],
   "source": []
  },
  {
   "cell_type": "code",
   "execution_count": null,
   "id": "81d5df1b-cb38-4f62-8d5b-7497997d58e8",
   "metadata": {},
   "outputs": [],
   "source": []
  },
  {
   "cell_type": "code",
   "execution_count": null,
   "id": "4815da9a-6a2e-4dc5-83bc-ecd8a0d038aa",
   "metadata": {},
   "outputs": [],
   "source": []
  },
  {
   "cell_type": "code",
   "execution_count": null,
   "id": "d7bbd46f-13c5-4e35-a8bd-0b637a3ce73c",
   "metadata": {},
   "outputs": [],
   "source": []
  },
  {
   "cell_type": "code",
   "execution_count": null,
   "id": "30489e76-428b-4480-91f9-65cb461b7995",
   "metadata": {},
   "outputs": [],
   "source": []
  },
  {
   "cell_type": "code",
   "execution_count": null,
   "id": "39d1585c-8fa9-4fdd-8a72-760e886a9d95",
   "metadata": {},
   "outputs": [],
   "source": []
  },
  {
   "cell_type": "code",
   "execution_count": null,
   "id": "79e02e30-5d5a-4cfa-9a8f-a825db90c846",
   "metadata": {},
   "outputs": [],
   "source": []
  },
  {
   "cell_type": "code",
   "execution_count": null,
   "id": "981b22de-8cd7-4c23-b1b7-3716d4209cdc",
   "metadata": {},
   "outputs": [],
   "source": []
  },
  {
   "cell_type": "code",
   "execution_count": null,
   "id": "f1a97f34-7249-4094-95e1-10c9a8f74f0b",
   "metadata": {},
   "outputs": [],
   "source": []
  },
  {
   "cell_type": "code",
   "execution_count": null,
   "id": "7890dca2-5b7a-4627-8138-606b1ffa1a1d",
   "metadata": {},
   "outputs": [],
   "source": []
  },
  {
   "cell_type": "code",
   "execution_count": null,
   "id": "d554b0f0-00ce-410b-90c1-db6036c37054",
   "metadata": {},
   "outputs": [],
   "source": []
  },
  {
   "cell_type": "code",
   "execution_count": null,
   "id": "978080ca-92c5-4b3d-baa1-81ca0e70441c",
   "metadata": {},
   "outputs": [],
   "source": []
  },
  {
   "cell_type": "code",
   "execution_count": null,
   "id": "e4291236-6e23-40b2-9ab7-bc63bbab81d5",
   "metadata": {},
   "outputs": [],
   "source": []
  },
  {
   "cell_type": "code",
   "execution_count": null,
   "id": "835dc481-ffde-4fe8-830f-43b59328f7be",
   "metadata": {},
   "outputs": [],
   "source": []
  },
  {
   "cell_type": "code",
   "execution_count": null,
   "id": "9ee9a810-0da0-4250-afc6-7a4a52600c7e",
   "metadata": {},
   "outputs": [],
   "source": []
  },
  {
   "cell_type": "code",
   "execution_count": null,
   "id": "8f115584-edca-4d10-ba4c-bbff044b0ad2",
   "metadata": {},
   "outputs": [],
   "source": []
  },
  {
   "cell_type": "code",
   "execution_count": null,
   "id": "fba12870-4cf0-417f-9324-b96beb1dc1e7",
   "metadata": {},
   "outputs": [],
   "source": []
  },
  {
   "cell_type": "code",
   "execution_count": null,
   "id": "32997897-4318-44c5-9081-e2094886adbd",
   "metadata": {},
   "outputs": [],
   "source": []
  },
  {
   "cell_type": "code",
   "execution_count": null,
   "id": "ce904e4f-1bf0-4a41-9aa3-bdd07441b07f",
   "metadata": {},
   "outputs": [],
   "source": []
  },
  {
   "cell_type": "code",
   "execution_count": null,
   "id": "afe0ed60-c0e8-46d7-b28e-69325f478a56",
   "metadata": {},
   "outputs": [],
   "source": []
  },
  {
   "cell_type": "code",
   "execution_count": null,
   "id": "3906114a-ae0a-4140-96ce-6ad211e94eaa",
   "metadata": {},
   "outputs": [],
   "source": []
  },
  {
   "cell_type": "code",
   "execution_count": null,
   "id": "d3f60a58-2f29-4e58-81fb-10f84ed915c0",
   "metadata": {},
   "outputs": [],
   "source": []
  },
  {
   "cell_type": "code",
   "execution_count": null,
   "id": "d09542dd-8fea-4b75-8c6e-2a8b7e0d1318",
   "metadata": {},
   "outputs": [],
   "source": []
  },
  {
   "cell_type": "code",
   "execution_count": null,
   "id": "3f30b4ff-296e-44b5-a9f5-11ce5242d9cd",
   "metadata": {},
   "outputs": [],
   "source": []
  },
  {
   "cell_type": "code",
   "execution_count": null,
   "id": "e96bc5c6-dda7-4412-91a2-39af0eb3baa9",
   "metadata": {},
   "outputs": [],
   "source": []
  },
  {
   "cell_type": "code",
   "execution_count": null,
   "id": "b41693a6-8657-48cc-bff9-77d6276f14a7",
   "metadata": {},
   "outputs": [],
   "source": []
  },
  {
   "cell_type": "code",
   "execution_count": null,
   "id": "1dcc112e-d7fa-4569-8b2b-54aa14e384e4",
   "metadata": {},
   "outputs": [],
   "source": []
  },
  {
   "cell_type": "code",
   "execution_count": null,
   "id": "c8bad761-3020-4636-99be-1ddd62e942d8",
   "metadata": {},
   "outputs": [],
   "source": []
  },
  {
   "cell_type": "code",
   "execution_count": null,
   "id": "4106eec4-bb91-4411-8568-b7711a89d54a",
   "metadata": {},
   "outputs": [],
   "source": []
  },
  {
   "cell_type": "code",
   "execution_count": null,
   "id": "34736235",
   "metadata": {},
   "outputs": [],
   "source": []
  },
  {
   "cell_type": "code",
   "execution_count": 7,
   "id": "6cdddfc0",
   "metadata": {},
   "outputs": [
    {
     "data": {
      "text/html": [
       "\n",
       "<div id=\"altair-viz-212f37428bb54dd6bfedaff258828193\"></div>\n",
       "<script type=\"text/javascript\">\n",
       "  var VEGA_DEBUG = (typeof VEGA_DEBUG == \"undefined\") ? {} : VEGA_DEBUG;\n",
       "  (function(spec, embedOpt){\n",
       "    let outputDiv = document.currentScript.previousElementSibling;\n",
       "    if (outputDiv.id !== \"altair-viz-212f37428bb54dd6bfedaff258828193\") {\n",
       "      outputDiv = document.getElementById(\"altair-viz-212f37428bb54dd6bfedaff258828193\");\n",
       "    }\n",
       "    const paths = {\n",
       "      \"vega\": \"https://cdn.jsdelivr.net/npm//vega@5?noext\",\n",
       "      \"vega-lib\": \"https://cdn.jsdelivr.net/npm//vega-lib?noext\",\n",
       "      \"vega-lite\": \"https://cdn.jsdelivr.net/npm//vega-lite@4.17.0?noext\",\n",
       "      \"vega-embed\": \"https://cdn.jsdelivr.net/npm//vega-embed@6?noext\",\n",
       "    };\n",
       "\n",
       "    function maybeLoadScript(lib, version) {\n",
       "      var key = `${lib.replace(\"-\", \"\")}_version`;\n",
       "      return (VEGA_DEBUG[key] == version) ?\n",
       "        Promise.resolve(paths[lib]) :\n",
       "        new Promise(function(resolve, reject) {\n",
       "          var s = document.createElement('script');\n",
       "          document.getElementsByTagName(\"head\")[0].appendChild(s);\n",
       "          s.async = true;\n",
       "          s.onload = () => {\n",
       "            VEGA_DEBUG[key] = version;\n",
       "            return resolve(paths[lib]);\n",
       "          };\n",
       "          s.onerror = () => reject(`Error loading script: ${paths[lib]}`);\n",
       "          s.src = paths[lib];\n",
       "        });\n",
       "    }\n",
       "\n",
       "    function showError(err) {\n",
       "      outputDiv.innerHTML = `<div class=\"error\" style=\"color:red;\">${err}</div>`;\n",
       "      throw err;\n",
       "    }\n",
       "\n",
       "    function displayChart(vegaEmbed) {\n",
       "      vegaEmbed(outputDiv, spec, embedOpt)\n",
       "        .catch(err => showError(`Javascript Error: ${err.message}<br>This usually means there's a typo in your chart specification. See the javascript console for the full traceback.`));\n",
       "    }\n",
       "\n",
       "    if(typeof define === \"function\" && define.amd) {\n",
       "      requirejs.config({paths});\n",
       "      require([\"vega-embed\"], displayChart, err => showError(`Error loading script: ${err.message}`));\n",
       "    } else {\n",
       "      maybeLoadScript(\"vega\", \"5\")\n",
       "        .then(() => maybeLoadScript(\"vega-lite\", \"4.17.0\"))\n",
       "        .then(() => maybeLoadScript(\"vega-embed\", \"6\"))\n",
       "        .catch(showError)\n",
       "        .then(() => displayChart(vegaEmbed));\n",
       "    }\n",
       "  })({\"config\": {\"view\": {\"continuousWidth\": 400, \"continuousHeight\": 300}}, \"vconcat\": [{\"mark\": \"rect\", \"encoding\": {\"tooltip\": {\"aggregate\": \"sum\", \"field\": \"amount\", \"format\": \",d\", \"type\": \"quantitative\"}, \"x\": {\"axis\": null, \"bin\": {\"extent\": [24002560.795654997, 821423984.136929], \"maxbins\": 50}, \"field\": \"place_in_line\", \"type\": \"quantitative\"}, \"y\": {\"aggregate\": \"sum\", \"axis\": {\"title\": \"Bin Volume (Pods)\"}, \"field\": \"amount\", \"type\": \"quantitative\"}}, \"height\": 100, \"transform\": [{\"filter\": {\"selection\": \"selector002\"}}], \"width\": 750}, {\"layer\": [{\"mark\": \"rect\", \"encoding\": {\"color\": {\"aggregate\": \"sum\", \"field\": \"amount\", \"scale\": {\"scheme\": \"plasma\", \"type\": \"log\"}, \"type\": \"quantitative\"}, \"detail\": {\"field\": \"date\", \"type\": \"temporal\"}, \"tooltip\": {\"aggregate\": \"sum\", \"field\": \"amount\", \"format\": \",d\", \"type\": \"quantitative\"}, \"x\": {\"bin\": {\"extent\": [24002560.795654997, 821423984.136929], \"maxbins\": 50}, \"field\": \"place_in_line\", \"type\": \"quantitative\"}, \"y\": {\"axis\": {\"title\": \"Price Per Pod ($)\"}, \"bin\": {\"extent\": [0, 1], \"step\": 0.1}, \"field\": \"price_per_pod\", \"scale\": {\"domain\": [0, 1]}, \"type\": \"quantitative\"}}, \"height\": 250, \"transform\": [{\"filter\": {\"selection\": \"selector002\"}}], \"width\": 750}, {\"mark\": \"point\", \"encoding\": {\"color\": {\"value\": \"#03dbfc\"}, \"size\": {\"aggregate\": \"sum\", \"field\": \"amount\", \"scale\": {\"range\": [5, 125]}, \"type\": \"quantitative\"}, \"tooltip\": {\"aggregate\": \"mean\", \"field\": \"price_per_pod\", \"type\": \"quantitative\"}, \"x\": {\"bin\": {\"extent\": [24002560.795654997, 821423984.136929], \"maxbins\": 50}, \"field\": \"place_in_line\", \"type\": \"quantitative\"}, \"y\": {\"aggregate\": \"mean\", \"field\": \"price_per_pod\", \"type\": \"quantitative\"}}, \"height\": 250, \"selection\": {\"selector001\": {\"type\": \"single\", \"encodings\": [\"x\"], \"nearest\": true, \"on\": \"mouseover\", \"clear\": \"mouseout\", \"empty\": \"none\"}}, \"transform\": [{\"filter\": {\"selection\": \"selector002\"}}], \"width\": 750}, {\"mark\": {\"type\": \"point\", \"filled\": true}, \"encoding\": {\"color\": {\"value\": \"#03dbfc\"}, \"size\": {\"aggregate\": \"sum\", \"field\": \"amount\", \"scale\": {\"range\": [5, 125]}, \"type\": \"quantitative\"}, \"x\": {\"bin\": {\"extent\": [24002560.795654997, 821423984.136929], \"maxbins\": 50}, \"field\": \"place_in_line\", \"type\": \"quantitative\"}, \"y\": {\"aggregate\": \"mean\", \"field\": \"price_per_pod\", \"type\": \"quantitative\"}}, \"height\": 250, \"transform\": [{\"filter\": {\"selection\": \"selector002\"}}, {\"filter\": {\"selection\": \"selector001\"}}], \"width\": 750}, {\"mark\": {\"type\": \"text\", \"dy\": -15, \"fontSize\": 15, \"stroke\": \"black\", \"strokeWidth\": 0.4}, \"encoding\": {\"color\": {\"value\": \"#03dbfc\"}, \"text\": {\"aggregate\": \"mean\", \"field\": \"price_per_pod\", \"format\": \".2f\", \"type\": \"quantitative\"}, \"x\": {\"bin\": {\"extent\": [24002560.795654997, 821423984.136929], \"maxbins\": 50}, \"field\": \"place_in_line\", \"type\": \"quantitative\"}, \"y\": {\"aggregate\": \"mean\", \"field\": \"price_per_pod\", \"type\": \"quantitative\"}}, \"height\": 250, \"transform\": [{\"filter\": {\"selection\": \"selector002\"}}, {\"filter\": {\"selection\": \"selector001\"}}], \"width\": 750}]}, {\"data\": {\"name\": \"data-3c89553ba2391af38a3ce548f494e43a\"}, \"mark\": \"bar\", \"encoding\": {\"x\": {\"axis\": {\"format\": \"%b %Y\", \"tickCount\": 8, \"title\": \"Date\"}, \"field\": \"date\", \"type\": \"temporal\"}, \"y\": {\"axis\": {\"title\": \"Farmer's Market Total Volume (Pods)\"}, \"field\": \"pod_volume\", \"type\": \"quantitative\"}}, \"height\": 100, \"selection\": {\"selector002\": {\"type\": \"interval\", \"encodings\": [\"x\"]}}, \"width\": 750}], \"bounds\": \"flush\", \"data\": {\"name\": \"data-91b61502f0498f19f628f0776779dd7d\"}, \"$schema\": \"https://vega.github.io/schema/vega-lite/v4.17.0.json\", \"datasets\": {\"data-91b61502f0498f19f628f0776779dd7d\": [{\"amount\": 1293.137085, \"place_in_line\": 102401954.17438, \"price_per_pod\": 0.57, \"date\": \"2022-04-17T00:00:00\"}, {\"amount\": 10701.754385, \"place_in_line\": 102403247.311465, \"price_per_pod\": 0.57, \"date\": \"2022-04-17T00:00:00\"}, {\"amount\": 521.806033, \"place_in_line\": 102413949.06585, \"price_per_pod\": 0.57, \"date\": \"2022-04-17T00:00:00\"}, {\"amount\": 5129.256854, \"place_in_line\": 102414470.871883, \"price_per_pod\": 0.57, \"date\": \"2022-04-17T00:00:00\"}, {\"amount\": 40999.762222, \"place_in_line\": 102419600.128737, \"price_per_pod\": 0.57, \"date\": \"2022-04-17T00:00:00\"}, {\"amount\": 1580.849582, \"place_in_line\": 102460599.890959, \"price_per_pod\": 0.57, \"date\": \"2022-04-17T00:00:00\"}, {\"amount\": 668.874033, \"place_in_line\": 102462180.740541, \"price_per_pod\": 0.57, \"date\": \"2022-04-17T00:00:00\"}, {\"amount\": 1537.628217, \"place_in_line\": 102462849.614574, \"price_per_pod\": 0.57, \"date\": \"2022-04-17T00:00:00\"}, {\"amount\": 3615.511208, \"place_in_line\": 102464387.242791, \"price_per_pod\": 0.57, \"date\": \"2022-04-17T00:00:00\"}, {\"amount\": 1257.372701, \"place_in_line\": 102468002.753999, \"price_per_pod\": 0.57, \"date\": \"2022-04-17T00:00:00\"}, {\"amount\": 5263.157894, \"place_in_line\": 102469260.1267, \"price_per_pod\": 0.57, \"date\": \"2022-04-17T00:00:00\"}, {\"amount\": 7918.078619, \"place_in_line\": 102474523.284594, \"price_per_pod\": 0.57, \"date\": \"2022-04-17T00:00:00\"}, {\"amount\": 16752.841008, \"place_in_line\": 102482441.363213, \"price_per_pod\": 0.57, \"date\": \"2022-04-17T00:00:00\"}, {\"amount\": 2693.06694, \"place_in_line\": 102499194.204221, \"price_per_pod\": 0.57, \"date\": \"2022-04-17T00:00:00\"}, {\"amount\": 66.903217, \"place_in_line\": 102501887.271161, \"price_per_pod\": 0.57, \"date\": \"2022-04-17T00:00:00\"}, {\"amount\": 1476.561902, \"place_in_line\": 112305865.851667, \"price_per_pod\": 0.37, \"date\": \"2022-08-10T00:00:00\"}, {\"amount\": 27103.616715, \"place_in_line\": 117206229.423574, \"price_per_pod\": 0.2, \"date\": \"2022-04-11T00:00:00\"}, {\"amount\": 5555.555555, \"place_in_line\": 117233333.040289, \"price_per_pod\": 0.18, \"date\": \"2022-02-06T00:00:00\"}, {\"amount\": 125.474075, \"place_in_line\": 117206229.423574, \"price_per_pod\": 0.69, \"date\": \"2022-04-15T00:00:00\"}, {\"amount\": 11371.417669, \"place_in_line\": 117206354.897649, \"price_per_pod\": 0.69, \"date\": \"2022-04-15T00:00:00\"}, {\"amount\": 1373.18136, \"place_in_line\": 117217726.315318, \"price_per_pod\": 0.69, \"date\": \"2022-04-16T00:00:00\"}, {\"amount\": 11945.702437, \"place_in_line\": 117219099.496678, \"price_per_pod\": 0.69, \"date\": \"2022-04-16T00:00:00\"}, {\"amount\": 2287.841173, \"place_in_line\": 117231045.199115, \"price_per_pod\": 0.69, \"date\": \"2022-04-16T00:00:00\"}, {\"amount\": 12681.413672, \"place_in_line\": 117244875.106467, \"price_per_pod\": 0.1, \"date\": \"2022-03-16T00:00:00\"}, {\"amount\": 64805.134412, \"place_in_line\": 122173282.679601, \"price_per_pod\": 0.08, \"date\": \"2022-02-22T00:00:00\"}, {\"amount\": 25689.347322, \"place_in_line\": 122173282.679601, \"price_per_pod\": 0.45, \"date\": \"2022-04-13T00:00:00\"}, {\"amount\": 641.9439, \"place_in_line\": 122198972.026923, \"price_per_pod\": 0.45, \"date\": \"2022-04-13T00:00:00\"}, {\"amount\": 11265.2698, \"place_in_line\": 122199613.970823, \"price_per_pod\": 0.6, \"date\": \"2022-04-13T00:00:00\"}, {\"amount\": 2751.729452, \"place_in_line\": 122210879.240623, \"price_per_pod\": 0.725, \"date\": \"2022-04-16T00:00:00\"}, {\"amount\": 2500.0, \"place_in_line\": 122213630.970075, \"price_per_pod\": 0.725, \"date\": \"2022-04-17T00:00:00\"}, {\"amount\": 21956.843937, \"place_in_line\": 122216130.970075, \"price_per_pod\": 0.8, \"date\": \"2022-04-17T00:00:00\"}, {\"amount\": 122328.3945, \"place_in_line\": 122238087.814013, \"price_per_pod\": 0.08, \"date\": \"2022-02-22T00:00:00\"}, {\"amount\": 21058.843918, \"place_in_line\": 122360416.208513, \"price_per_pod\": 0.1, \"date\": \"2022-03-16T00:00:00\"}, {\"amount\": 16604.041484, \"place_in_line\": 128204663.97610599, \"price_per_pod\": 0.2, \"date\": \"2022-02-06T00:00:00\"}, {\"amount\": 33653.558763, \"place_in_line\": 128226216.485089, \"price_per_pod\": 0.03, \"date\": \"2022-02-26T00:00:00\"}, {\"amount\": 6285.570368, \"place_in_line\": 128557679.667004, \"price_per_pod\": 0.35, \"date\": \"2022-02-06T00:00:00\"}, {\"amount\": 10000.0, \"place_in_line\": 128563965.237372, \"price_per_pod\": 0.15, \"date\": \"2022-02-09T00:00:00\"}, {\"amount\": 29930.693725, \"place_in_line\": 128573965.237372, \"price_per_pod\": 0.08, \"date\": \"2022-03-08T00:00:00\"}, {\"amount\": 125375.7465, \"place_in_line\": 128603895.931097, \"price_per_pod\": 0.08, \"date\": \"2022-03-09T00:00:00\"}, {\"amount\": 31250.0, \"place_in_line\": 128729271.677597, \"price_per_pod\": 0.08, \"date\": \"2022-03-09T00:00:00\"}, {\"amount\": 37500.0, \"place_in_line\": 128760521.677597, \"price_per_pod\": 0.08, \"date\": \"2022-03-09T00:00:00\"}, {\"amount\": 13946.070284, \"place_in_line\": 128798021.677597, \"price_per_pod\": 0.08, \"date\": \"2022-03-09T00:00:00\"}, {\"amount\": 66346.441237, \"place_in_line\": 131492704.901115, \"price_per_pod\": 0.03, \"date\": \"2022-02-26T00:00:00\"}, {\"amount\": 4716.970693, \"place_in_line\": 131580722.49338, \"price_per_pod\": 0.075, \"date\": \"2022-02-16T00:00:00\"}, {\"amount\": 18433.333333, \"place_in_line\": 131585439.464073, \"price_per_pod\": 0.075, \"date\": \"2022-02-16T00:00:00\"}, {\"amount\": 42647.602248, \"place_in_line\": 131603872.797406, \"price_per_pod\": 0.075, \"date\": \"2022-02-16T00:00:00\"}, {\"amount\": 20160.645556, \"place_in_line\": 131646520.399654, \"price_per_pod\": 0.16, \"date\": \"2022-09-10T00:00:00\"}, {\"amount\": 56.196283, \"place_in_line\": 131666681.04521, \"price_per_pod\": 0.1, \"date\": \"2022-09-13T00:00:00\"}, {\"amount\": 7896.383285, \"place_in_line\": 133657386.734556, \"price_per_pod\": 0.2, \"date\": \"2022-04-11T00:00:00\"}, {\"amount\": 3333.333333, \"place_in_line\": 133657386.734556, \"price_per_pod\": 0.6, \"date\": \"2022-04-15T00:00:00\"}, {\"amount\": 4063.998521, \"place_in_line\": 133660720.067889, \"price_per_pod\": 0.6, \"date\": \"2022-04-15T00:00:00\"}, {\"amount\": 499.05143, \"place_in_line\": 133664784.06641, \"price_per_pod\": 0.6, \"date\": \"2022-04-16T00:00:00\"}, {\"amount\": 20000.0, \"place_in_line\": 133684865.46910201, \"price_per_pod\": 0.22, \"date\": \"2022-08-13T00:00:00\"}, {\"amount\": 8190.484804, \"place_in_line\": 136878766.211724, \"price_per_pod\": 0.25, \"date\": \"2022-03-30T00:00:00\"}, {\"amount\": 34430.663633, \"place_in_line\": 136878766.211724, \"price_per_pod\": 0.15, \"date\": \"2022-03-16T00:00:00\"}, {\"amount\": 2654.796068, \"place_in_line\": 136886956.696528, \"price_per_pod\": 0.25, \"date\": \"2022-03-31T00:00:00\"}, {\"amount\": 8000.0, \"place_in_line\": 136889611.492596, \"price_per_pod\": 0.25, \"date\": \"2022-04-01T00:00:00\"}, {\"amount\": 2592.066456, \"place_in_line\": 136897611.492596, \"price_per_pod\": 0.25, \"date\": \"2022-04-05T00:00:00\"}, {\"amount\": 12993.316305, \"place_in_line\": 136900203.559052, \"price_per_pod\": 0.25, \"date\": \"2022-04-06T00:00:00\"}, {\"amount\": 2935.93438, \"place_in_line\": 136913196.875357, \"price_per_pod\": 0.15, \"date\": \"2022-03-18T00:00:00\"}, {\"amount\": 8000.0, \"place_in_line\": 136916132.809737, \"price_per_pod\": 0.15, \"date\": \"2022-03-18T00:00:00\"}, {\"amount\": 55399.924533, \"place_in_line\": 136924132.809737, \"price_per_pod\": 0.15, \"date\": \"2022-03-18T00:00:00\"}, {\"amount\": 1000.0, \"place_in_line\": 136979532.73427, \"price_per_pod\": 0.15, \"date\": \"2022-03-18T00:00:00\"}, {\"amount\": 1000.0, \"place_in_line\": 136979532.73427, \"price_per_pod\": 0.5, \"date\": \"2022-04-13T00:00:00\"}, {\"amount\": 110395.261033, \"place_in_line\": 136980532.73427, \"price_per_pod\": 0.15, \"date\": \"2022-03-18T00:00:00\"}, {\"amount\": 91376.11728, \"place_in_line\": 136980532.73427, \"price_per_pod\": 0.2, \"date\": \"2022-03-22T00:00:00\"}, {\"amount\": 19019.143753, \"place_in_line\": 137071908.85155, \"price_per_pod\": 0.2, \"date\": \"2022-03-25T00:00:00\"}, {\"amount\": 33932.86714, \"place_in_line\": 137090927.995303, \"price_per_pod\": 0.15, \"date\": \"2022-03-19T00:00:00\"}, {\"amount\": 33333.385933, \"place_in_line\": 137124860.862443, \"price_per_pod\": 0.15, \"date\": \"2022-03-19T00:00:00\"}, {\"amount\": 5268.032293, \"place_in_line\": 137124860.862443, \"price_per_pod\": 0.3, \"date\": \"2022-04-06T00:00:00\"}, {\"amount\": 17352.834315, \"place_in_line\": 137130130.894736, \"price_per_pod\": 0.59, \"date\": \"2022-04-16T00:00:00\"}, {\"amount\": 10087.313298, \"place_in_line\": 137147483.729051, \"price_per_pod\": 0.59, \"date\": \"2022-04-16T00:00:00\"}, {\"amount\": 19.169818, \"place_in_line\": 137157571.042349, \"price_per_pod\": 0.8, \"date\": \"2022-08-05T00:00:00\"}, {\"amount\": 623.206025, \"place_in_line\": 137157571.042349, \"price_per_pod\": 0.59, \"date\": \"2022-04-16T00:00:00\"}, {\"amount\": 70534.236366, \"place_in_line\": 137158194.248376, \"price_per_pod\": 0.15, \"date\": \"2022-03-20T00:00:00\"}, {\"amount\": 19406.193406, \"place_in_line\": 137228728.484742, \"price_per_pod\": 0.15, \"date\": \"2022-03-21T00:00:00\"}, {\"amount\": 962.82698, \"place_in_line\": 137248134.678148, \"price_per_pod\": 0.15, \"date\": \"2022-03-21T00:00:00\"}, {\"amount\": 6666.0, \"place_in_line\": 137249097.505128, \"price_per_pod\": 0.15, \"date\": \"2022-03-21T00:00:00\"}, {\"amount\": 6666.0, \"place_in_line\": 137249097.505128, \"price_per_pod\": 0.3, \"date\": \"2022-04-08T00:00:00\"}, {\"amount\": 9614.320026, \"place_in_line\": 137255763.505128, \"price_per_pod\": 0.15, \"date\": \"2022-03-21T00:00:00\"}, {\"amount\": 810.24308, \"place_in_line\": 137265377.825154, \"price_per_pod\": 0.15, \"date\": \"2022-03-22T00:00:00\"}, {\"amount\": 1990.688953, \"place_in_line\": 137266188.068234, \"price_per_pod\": 0.15, \"date\": \"2022-03-22T00:00:00\"}, {\"amount\": 1990.740993, \"place_in_line\": 137268178.757187, \"price_per_pod\": 0.15, \"date\": \"2022-03-22T00:00:00\"}, {\"amount\": 5973.24596, \"place_in_line\": 137270169.49818, \"price_per_pod\": 0.15, \"date\": \"2022-03-22T00:00:00\"}, {\"amount\": 39760.774766, \"place_in_line\": 137276142.74414, \"price_per_pod\": 0.15, \"date\": \"2022-03-22T00:00:00\"}, {\"amount\": 6856.167984, \"place_in_line\": 137276142.74414, \"price_per_pod\": 0.26, \"date\": \"2022-04-06T00:00:00\"}, {\"amount\": 1241.264511, \"place_in_line\": 137282998.912124, \"price_per_pod\": 0.26, \"date\": \"2022-04-10T00:00:00\"}, {\"amount\": 31663.342271, \"place_in_line\": 137284240.176635, \"price_per_pod\": 0.26, \"date\": \"2022-04-11T00:00:00\"}, {\"amount\": 3938.428586, \"place_in_line\": 137315903.518906, \"price_per_pod\": 0.15, \"date\": \"2022-03-22T00:00:00\"}, {\"amount\": 3333.0, \"place_in_line\": 137319841.947492, \"price_per_pod\": 0.5, \"date\": \"2022-04-14T00:00:00\"}, {\"amount\": 3333.0, \"place_in_line\": 137319841.947492, \"price_per_pod\": 0.15, \"date\": \"2022-03-22T00:00:00\"}, {\"amount\": 7983.509093, \"place_in_line\": 137323174.947492, \"price_per_pod\": 0.15, \"date\": \"2022-03-24T00:00:00\"}, {\"amount\": 3500.0, \"place_in_line\": 137323174.947492, \"price_per_pod\": 0.24, \"date\": \"2022-04-01T00:00:00\"}, {\"amount\": 8000.0, \"place_in_line\": 137331158.456585, \"price_per_pod\": 0.15, \"date\": \"2022-03-24T00:00:00\"}, {\"amount\": 5833.333333, \"place_in_line\": 137339158.456585, \"price_per_pod\": 0.15, \"date\": \"2022-03-24T00:00:00\"}, {\"amount\": 7329.46184, \"place_in_line\": 137344991.789918, \"price_per_pod\": 0.3, \"date\": \"2022-04-11T00:00:00\"}, {\"amount\": 7329.46184, \"place_in_line\": 137344991.789918, \"price_per_pod\": 0.15, \"date\": \"2022-03-24T00:00:00\"}, {\"amount\": 20000.0, \"place_in_line\": 139698958.414857, \"price_per_pod\": 0.2, \"date\": \"2022-04-04T00:00:00\"}, {\"amount\": 11761.14333, \"place_in_line\": 139698958.414857, \"price_per_pod\": 0.5, \"date\": \"2022-04-13T00:00:00\"}, {\"amount\": 5603.412867, \"place_in_line\": 139698958.414857, \"price_per_pod\": 0.58, \"date\": \"2022-04-16T00:00:00\"}, {\"amount\": 6157.730462, \"place_in_line\": 139704561.827724, \"price_per_pod\": 0.58, \"date\": \"2022-04-16T00:00:00\"}, {\"amount\": 1000.0, \"place_in_line\": 139710719.558187, \"price_per_pod\": 0.5, \"date\": \"2022-04-15T00:00:00\"}, {\"amount\": 57.126564, \"place_in_line\": 139711719.558187, \"price_per_pod\": 0.5, \"date\": \"2022-04-15T00:00:00\"}, {\"amount\": 865.788998, \"place_in_line\": 139711776.684751, \"price_per_pod\": 0.5, \"date\": \"2022-04-15T00:00:00\"}, {\"amount\": 1178.558112, \"place_in_line\": 139712642.473749, \"price_per_pod\": 0.5, \"date\": \"2022-04-15T00:00:00\"}, {\"amount\": 5137.382996, \"place_in_line\": 139713821.031861, \"price_per_pod\": 0.5, \"date\": \"2022-04-15T00:00:00\"}, {\"amount\": 56092.082506, \"place_in_line\": 145620692.516754, \"price_per_pod\": 0.225, \"date\": \"2022-02-18T00:00:00\"}, {\"amount\": 5746.830768, \"place_in_line\": 145580692.516754, \"price_per_pod\": 0.225, \"date\": \"2022-04-01T00:00:00\"}, {\"amount\": 209.844262, \"place_in_line\": 145586439.347522, \"price_per_pod\": 0.61, \"date\": \"2022-08-08T00:00:00\"}, {\"amount\": 36912.53565, \"place_in_line\": 145689762.59926, \"price_per_pod\": 0.14, \"date\": \"2022-09-10T00:00:00\"}, {\"amount\": 50000.0, \"place_in_line\": 145676784.59926, \"price_per_pod\": 0.1, \"date\": \"2022-09-04T00:00:00\"}, {\"amount\": 3000.0, \"place_in_line\": 146155109.178928, \"price_per_pod\": 0.4, \"date\": \"2022-04-13T00:00:00\"}, {\"amount\": 21743.427538, \"place_in_line\": 147350708.377729, \"price_per_pod\": 0.44, \"date\": \"2022-04-13T00:00:00\"}, {\"amount\": 1993.398346, \"place_in_line\": 147408661.74273, \"price_per_pod\": 0.15, \"date\": \"2022-09-02T00:00:00\"}, {\"amount\": 38582.448637, \"place_in_line\": 147410655.141076, \"price_per_pod\": 0.135, \"date\": \"2022-09-10T00:00:00\"}, {\"amount\": 6167.53102, \"place_in_line\": 147968440.390054, \"price_per_pod\": 0.54, \"date\": \"2022-04-17T00:00:00\"}, {\"amount\": 132759.819616, \"place_in_line\": 147974607.921074, \"price_per_pod\": 0.54, \"date\": \"2022-04-17T00:00:00\"}, {\"amount\": 27307.181096, \"place_in_line\": 148107367.74069, \"price_per_pod\": 0.54, \"date\": \"2022-04-17T00:00:00\"}, {\"amount\": 13825.576144, \"place_in_line\": 148134674.921786, \"price_per_pod\": 0.54, \"date\": \"2022-04-17T00:00:00\"}, {\"amount\": 29419.590331, \"place_in_line\": 148148500.49793, \"price_per_pod\": 0.54, \"date\": \"2022-04-17T00:00:00\"}, {\"amount\": 2000.0, \"place_in_line\": 148177920.088261, \"price_per_pod\": 0.54, \"date\": \"2022-04-17T00:00:00\"}, {\"amount\": 12909.150685, \"place_in_line\": 148179920.088261, \"price_per_pod\": 0.54, \"date\": \"2022-04-17T00:00:00\"}, {\"amount\": 31956.558401, \"place_in_line\": 148192829.238946, \"price_per_pod\": 0.54, \"date\": \"2022-04-17T00:00:00\"}, {\"amount\": 217.652983, \"place_in_line\": 148224785.797347, \"price_per_pod\": 0.54, \"date\": \"2022-04-17T00:00:00\"}, {\"amount\": 447.087931, \"place_in_line\": 148225003.45033, \"price_per_pod\": 0.54, \"date\": \"2022-04-17T00:00:00\"}, {\"amount\": 18335.245199, \"place_in_line\": 148225450.538261, \"price_per_pod\": 0.1, \"date\": \"2022-09-15T00:00:00\"}, {\"amount\": 20614.776328, \"place_in_line\": 148895359.495855, \"price_per_pod\": 0.1, \"date\": \"2022-09-15T00:00:00\"}, {\"amount\": 3600.0, \"place_in_line\": 148977930.924047, \"price_per_pod\": 0.5, \"date\": \"2022-04-16T00:00:00\"}, {\"amount\": 800.0, \"place_in_line\": 148981530.924047, \"price_per_pod\": 0.5, \"date\": \"2022-04-16T00:00:00\"}, {\"amount\": 90152.601115, \"place_in_line\": 148982330.924047, \"price_per_pod\": 0.5, \"date\": \"2022-04-16T00:00:00\"}, {\"amount\": 72107.788456, \"place_in_line\": 149815249.080456, \"price_per_pod\": 0.5, \"date\": \"2022-04-14T00:00:00\"}, {\"amount\": 20833.333332, \"place_in_line\": 149887356.868912, \"price_per_pod\": 0.5, \"date\": \"2022-04-16T00:00:00\"}, {\"amount\": 29006.615802, \"place_in_line\": 149908190.202244, \"price_per_pod\": 0.5, \"date\": \"2022-04-16T00:00:00\"}, {\"amount\": 30000.0, \"place_in_line\": 149937196.818046, \"price_per_pod\": 0.5, \"date\": \"2022-04-16T00:00:00\"}, {\"amount\": 14596.26168, \"place_in_line\": 149967196.818046, \"price_per_pod\": 0.5, \"date\": \"2022-04-16T00:00:00\"}, {\"amount\": 4811.715614, \"place_in_line\": 149981793.079726, \"price_per_pod\": 0.5, \"date\": \"2022-04-16T00:00:00\"}, {\"amount\": 1354.378846, \"place_in_line\": 149986604.79534, \"price_per_pod\": 0.5, \"date\": \"2022-04-16T00:00:00\"}, {\"amount\": 2191.023676, \"place_in_line\": 149987959.174186, \"price_per_pod\": 0.5, \"date\": \"2022-04-16T00:00:00\"}, {\"amount\": 4057.14725, \"place_in_line\": 149990150.197862, \"price_per_pod\": 0.5, \"date\": \"2022-04-16T00:00:00\"}, {\"amount\": 4454.797628, \"place_in_line\": 149994207.345112, \"price_per_pod\": 0.5, \"date\": \"2022-04-16T00:00:00\"}, {\"amount\": 12050.549452, \"place_in_line\": 149998662.14274, \"price_per_pod\": 0.5, \"date\": \"2022-04-17T00:00:00\"}, {\"amount\": 20159.065566, \"place_in_line\": 150059373.596047, \"price_per_pod\": 0.09, \"date\": \"2022-09-08T00:00:00\"}, {\"amount\": 5174.77628, \"place_in_line\": 150079532.661613, \"price_per_pod\": 0.1, \"date\": \"2022-09-12T00:00:00\"}, {\"amount\": 30310.03795, \"place_in_line\": 150079532.661613, \"price_per_pod\": 0.1, \"date\": \"2022-09-10T00:00:00\"}, {\"amount\": 34725.013824, \"place_in_line\": 152069659.197493, \"price_per_pod\": 0.33, \"date\": \"2022-04-13T00:00:00\"}, {\"amount\": 23198.24, \"place_in_line\": 154135094.984517, \"price_per_pod\": 0.5, \"date\": \"2022-04-17T00:00:00\"}, {\"amount\": 12362.43922, \"place_in_line\": 157839880.097242, \"price_per_pod\": 0.45, \"date\": \"2022-04-13T00:00:00\"}, {\"amount\": 17313.210068, \"place_in_line\": 157852242.536462, \"price_per_pod\": 0.45, \"date\": \"2022-04-13T00:00:00\"}, {\"amount\": 17128.687218, \"place_in_line\": 157869555.74653, \"price_per_pod\": 0.485, \"date\": \"2022-04-16T00:00:00\"}, {\"amount\": 5000.092372, \"place_in_line\": 157886684.433748, \"price_per_pod\": 0.485, \"date\": \"2022-04-16T00:00:00\"}, {\"amount\": 4912.604718, \"place_in_line\": 167963234.163137, \"price_per_pod\": 0.33, \"date\": \"2022-04-14T00:00:00\"}, {\"amount\": 66666.666666, \"place_in_line\": 168002025.206659, \"price_per_pod\": 0.03, \"date\": \"2022-02-27T00:00:00\"}, {\"amount\": 4363.527272, \"place_in_line\": 168574996.066331, \"price_per_pod\": 0.43, \"date\": \"2022-04-14T00:00:00\"}, {\"amount\": 5868.852168, \"place_in_line\": 168579359.593603, \"price_per_pod\": 0.45, \"date\": \"2022-04-17T00:00:00\"}, {\"amount\": 25432.470215, \"place_in_line\": 170650277.4519, \"price_per_pod\": 0.1667, \"date\": \"2022-03-25T00:00:00\"}, {\"amount\": 200.302309, \"place_in_line\": 170675709.922115, \"price_per_pod\": 0.1667, \"date\": \"2022-03-28T00:00:00\"}, {\"amount\": 1568.445146, \"place_in_line\": 170675910.224424, \"price_per_pod\": 0.157, \"date\": \"2022-03-30T00:00:00\"}, {\"amount\": 2250.551935, \"place_in_line\": 170677478.66957, \"price_per_pod\": 0.4, \"date\": \"2022-04-13T00:00:00\"}, {\"amount\": 31847.133757, \"place_in_line\": 170677478.66957, \"price_per_pod\": 0.157, \"date\": \"2022-03-30T00:00:00\"}, {\"amount\": 29596.58182, \"place_in_line\": 170679729.221505, \"price_per_pod\": 0.4, \"date\": \"2022-04-14T00:00:00\"}, {\"amount\": 4296.524923, \"place_in_line\": 170709325.803327, \"price_per_pod\": 0.157, \"date\": \"2022-03-31T00:00:00\"}, {\"amount\": 1273.88535, \"place_in_line\": 170713622.32825, \"price_per_pod\": 0.157, \"date\": \"2022-03-31T00:00:00\"}, {\"amount\": 15454.078646, \"place_in_line\": 170714896.2136, \"price_per_pod\": 0.475, \"date\": \"2022-04-17T00:00:00\"}, {\"amount\": 24923.545575, \"place_in_line\": 170714896.2136, \"price_per_pod\": 0.157, \"date\": \"2022-03-31T00:00:00\"}, {\"amount\": 9469.466929, \"place_in_line\": 170730350.292246, \"price_per_pod\": 0.475, \"date\": \"2022-04-17T00:00:00\"}, {\"amount\": 60968.023969, \"place_in_line\": 196687575.224197, \"price_per_pod\": 0.18, \"date\": \"2022-08-07T00:00:00\"}, {\"amount\": 11506.8148, \"place_in_line\": 197040534.186448, \"price_per_pod\": 0.06, \"date\": \"2022-08-18T00:00:00\"}, {\"amount\": 183632.739945, \"place_in_line\": 197052041.001248, \"price_per_pod\": 0.055, \"date\": \"2022-08-21T00:00:00\"}, {\"amount\": 505635.35728, \"place_in_line\": 197235673.741193, \"price_per_pod\": 0.05, \"date\": \"2022-08-21T00:00:00\"}, {\"amount\": 15229.04184, \"place_in_line\": 201269337.108906, \"price_per_pod\": 0.05, \"date\": \"2022-08-31T00:00:00\"}, {\"amount\": 3759.398496, \"place_in_line\": 202229243.601483, \"price_per_pod\": 0.133, \"date\": \"2022-03-12T00:00:00\"}, {\"amount\": 2326.237721, \"place_in_line\": 202233002.999979, \"price_per_pod\": 0.133, \"date\": \"2022-03-12T00:00:00\"}, {\"amount\": 1466.439378, \"place_in_line\": 202235329.2377, \"price_per_pod\": 0.14, \"date\": \"2022-03-12T00:00:00\"}, {\"amount\": 25140.924405, \"place_in_line\": 202236795.677078, \"price_per_pod\": 0.14, \"date\": \"2022-03-13T00:00:00\"}, {\"amount\": 14065.0, \"place_in_line\": 203059138.411712, \"price_per_pod\": 0.25, \"date\": \"2022-04-12T00:00:00\"}, {\"amount\": 10000.0, \"place_in_line\": 203073203.411712, \"price_per_pod\": 0.19, \"date\": \"2022-08-08T00:00:00\"}, {\"amount\": 30687.677344, \"place_in_line\": 203083203.411712, \"price_per_pod\": 0.15, \"date\": \"2022-08-10T00:00:00\"}, {\"amount\": 653.64814, \"place_in_line\": 204483741.086104, \"price_per_pod\": 0.135, \"date\": \"2022-03-19T00:00:00\"}, {\"amount\": 4607.540859, \"place_in_line\": 204484394.734244, \"price_per_pod\": 0.135, \"date\": \"2022-03-25T00:00:00\"}, {\"amount\": 6037.629659, \"place_in_line\": 204489002.275103, \"price_per_pod\": 0.135, \"date\": \"2022-03-30T00:00:00\"}, {\"amount\": 10948.490796, \"place_in_line\": 204495039.904762, \"price_per_pod\": 0.135, \"date\": \"2022-04-01T00:00:00\"}, {\"amount\": 17152.586398, \"place_in_line\": 206610169.922313, \"price_per_pod\": 0.35, \"date\": \"2022-04-13T00:00:00\"}, {\"amount\": 22243.015724, \"place_in_line\": 209232169.528154, \"price_per_pod\": 0.22, \"date\": \"2022-04-12T00:00:00\"}, {\"amount\": 287.750862, \"place_in_line\": 211307962.66146, \"price_per_pod\": 0.07, \"date\": \"2022-04-11T00:00:00\"}, {\"amount\": 14981.210723, \"place_in_line\": 211471591.689415, \"price_per_pod\": 0.209, \"date\": \"2022-04-12T00:00:00\"}, {\"amount\": 3710.134756, \"place_in_line\": 214864041.169245, \"price_per_pod\": 0.25, \"date\": \"2022-04-16T00:00:00\"}, {\"amount\": 11008.858783, \"place_in_line\": 214830162.730441, \"price_per_pod\": 0.25, \"date\": \"2022-08-08T00:00:00\"}, {\"amount\": 12216.139, \"place_in_line\": 214841171.589224, \"price_per_pod\": 0.18, \"date\": \"2022-08-08T00:00:00\"}, {\"amount\": 7868.244366, \"place_in_line\": 214853387.728224, \"price_per_pod\": 0.18, \"date\": \"2022-08-08T00:00:00\"}, {\"amount\": 31920.948003, \"place_in_line\": 214867751.304001, \"price_per_pod\": 0.3, \"date\": \"2022-04-16T00:00:00\"}, {\"amount\": 1862.917241, \"place_in_line\": 214899672.252004, \"price_per_pod\": 0.3, \"date\": \"2022-04-16T00:00:00\"}, {\"amount\": 838.565448, \"place_in_line\": 215055564.317691, \"price_per_pod\": 0.35, \"date\": \"2022-04-16T00:00:00\"}, {\"amount\": 3679.402542, \"place_in_line\": 215055564.317691, \"price_per_pod\": 0.07, \"date\": \"2022-04-11T00:00:00\"}, {\"amount\": 2840.837091, \"place_in_line\": 215056402.883139, \"price_per_pod\": 0.35, \"date\": \"2022-04-16T00:00:00\"}, {\"amount\": 3855.741975, \"place_in_line\": 218671968.549714, \"price_per_pod\": 0.12, \"date\": \"2022-03-12T00:00:00\"}, {\"amount\": 1894.2869, \"place_in_line\": 218675824.291689, \"price_per_pod\": 0.12, \"date\": \"2022-03-15T00:00:00\"}, {\"amount\": 4593.795975, \"place_in_line\": 218677718.578589, \"price_per_pod\": 0.12, \"date\": \"2022-03-18T00:00:00\"}, {\"amount\": 19294.351466, \"place_in_line\": 218682312.374564, \"price_per_pod\": 0.12, \"date\": \"2022-03-30T00:00:00\"}, {\"amount\": 30301.264175, \"place_in_line\": 218701606.72603, \"price_per_pod\": 0.12, \"date\": \"2022-04-01T00:00:00\"}, {\"amount\": 28885.163958, \"place_in_line\": 218731907.990205, \"price_per_pod\": 0.12, \"date\": \"2022-04-02T00:00:00\"}, {\"amount\": 6658.333333, \"place_in_line\": 218760793.154163, \"price_per_pod\": 0.12, \"date\": \"2022-04-02T00:00:00\"}, {\"amount\": 60174.119496, \"place_in_line\": 218767451.487496, \"price_per_pod\": 0.12, \"date\": \"2022-04-03T00:00:00\"}, {\"amount\": 1610.099875, \"place_in_line\": 219659688.64833, \"price_per_pod\": 0.28, \"date\": \"2022-04-13T00:00:00\"}, {\"amount\": 22000.0, \"place_in_line\": 219661298.748205, \"price_per_pod\": 0.25, \"date\": \"2022-04-14T00:00:00\"}, {\"amount\": 83262.125763, \"place_in_line\": 219683298.748205, \"price_per_pod\": 0.24, \"date\": \"2022-04-14T00:00:00\"}, {\"amount\": 42005.288414, \"place_in_line\": 221003663.002392, \"price_per_pod\": 0.01, \"date\": \"2022-02-19T00:00:00\"}, {\"amount\": 136363.636363, \"place_in_line\": 221045668.290806, \"price_per_pod\": 0.011, \"date\": \"2022-02-19T00:00:00\"}, {\"amount\": 20023.987333, \"place_in_line\": 221182031.927169, \"price_per_pod\": 0.03, \"date\": \"2022-02-19T00:00:00\"}, {\"amount\": 48943.894047, \"place_in_line\": 221365023.65987, \"price_per_pod\": 0.08, \"date\": \"2022-03-12T00:00:00\"}, {\"amount\": 30093.729527, \"place_in_line\": 221777246.378393, \"price_per_pod\": 0.18, \"date\": \"2022-04-06T00:00:00\"}, {\"amount\": 18253.99318, \"place_in_line\": 221807340.10792, \"price_per_pod\": 0.18, \"date\": \"2022-04-12T00:00:00\"}, {\"amount\": 2541.993926, \"place_in_line\": 221825594.1011, \"price_per_pod\": 0.28, \"date\": \"2022-04-14T00:00:00\"}, {\"amount\": 2541.993926, \"place_in_line\": 221825594.1011, \"price_per_pod\": 0.07, \"date\": \"2022-04-11T00:00:00\"}, {\"amount\": 20000.0, \"place_in_line\": 222197249.91035, \"price_per_pod\": 0.2, \"date\": \"2022-02-05T00:00:00\"}, {\"amount\": 90000.0, \"place_in_line\": 225413555.091497, \"price_per_pod\": 0.06, \"date\": \"2022-04-07T00:00:00\"}, {\"amount\": 77355.0, \"place_in_line\": 225413555.091497, \"price_per_pod\": 0.16, \"date\": \"2022-04-11T00:00:00\"}, {\"amount\": 84842.86652, \"place_in_line\": 228686945.368367, \"price_per_pod\": 0.18, \"date\": \"2022-04-12T00:00:00\"}, {\"amount\": 3810.749777, \"place_in_line\": 228808276.37377298, \"price_per_pod\": 0.37, \"date\": \"2022-02-08T00:00:00\"}, {\"amount\": 4954.9711, \"place_in_line\": 228812087.12355, \"price_per_pod\": 0.07, \"date\": \"2022-03-11T00:00:00\"}, {\"amount\": 7229.528214, \"place_in_line\": 228817042.09465, \"price_per_pod\": 0.07, \"date\": \"2022-03-11T00:00:00\"}, {\"amount\": 28977.789728, \"place_in_line\": 228824271.622864, \"price_per_pod\": 0.07, \"date\": \"2022-03-11T00:00:00\"}, {\"amount\": 7142.857142, \"place_in_line\": 228853249.412592, \"price_per_pod\": 0.07, \"date\": \"2022-03-12T00:00:00\"}, {\"amount\": 27884.104039, \"place_in_line\": 228860392.269734, \"price_per_pod\": 0.07, \"date\": \"2022-03-12T00:00:00\"}, {\"amount\": 84912.848439, \"place_in_line\": 230527620.752329, \"price_per_pod\": 0.05, \"date\": \"2022-03-06T00:00:00\"}, {\"amount\": 38451.787955, \"place_in_line\": 232984186.678394, \"price_per_pod\": 0.045, \"date\": \"2022-09-13T00:00:00\"}, {\"amount\": 15119.28, \"place_in_line\": 235571347.898002, \"price_per_pod\": 0.11, \"date\": \"2022-03-26T00:00:00\"}, {\"amount\": 17601.537341, \"place_in_line\": 235869811.191401, \"price_per_pod\": 0.06, \"date\": \"2022-02-18T00:00:00\"}, {\"amount\": 12500.0, \"place_in_line\": 24002560.795654997, \"price_per_pod\": 0.8, \"date\": \"2022-02-18T00:00:00\"}, {\"amount\": 111.111111, \"place_in_line\": 241628702.712952, \"price_per_pod\": 0.09, \"date\": \"2022-08-19T00:00:00\"}, {\"amount\": 18614.8661, \"place_in_line\": 241628813.824063, \"price_per_pod\": 0.06, \"date\": \"2022-08-20T00:00:00\"}, {\"amount\": 94477.41618, \"place_in_line\": 241647428.690163, \"price_per_pod\": 0.05, \"date\": \"2022-08-21T00:00:00\"}, {\"amount\": 67134.25, \"place_in_line\": 246719681.446076, \"price_per_pod\": 0.045, \"date\": \"2022-09-02T00:00:00\"}, {\"amount\": 45000.0, \"place_in_line\": 246852209.88539, \"price_per_pod\": 0.045, \"date\": \"2022-08-28T00:00:00\"}, {\"amount\": 2443.637935, \"place_in_line\": 24729327.133798998, \"price_per_pod\": 0.53, \"date\": \"2022-03-07T00:00:00\"}, {\"amount\": 10064.177624, \"place_in_line\": 24719262.956173, \"price_per_pod\": 0.845, \"date\": \"2022-03-08T00:00:00\"}, {\"amount\": 10064.177623, \"place_in_line\": 24719262.956173, \"price_per_pod\": 0.94, \"date\": \"2022-03-16T00:00:00\"}, {\"amount\": 1943.105053, \"place_in_line\": 247321163.790225, \"price_per_pod\": 0.3, \"date\": \"2022-04-16T00:00:00\"}, {\"amount\": 4883.98587, \"place_in_line\": 247323106.895278, \"price_per_pod\": 0.3, \"date\": \"2022-04-16T00:00:00\"}, {\"amount\": 49195.388116, \"place_in_line\": 247327990.881148, \"price_per_pod\": 0.3, \"date\": \"2022-04-17T00:00:00\"}, {\"amount\": 1607.0, \"place_in_line\": 247377186.269264, \"price_per_pod\": 0.3, \"date\": \"2022-04-17T00:00:00\"}, {\"amount\": 20304.848484, \"place_in_line\": 24916944.152967, \"price_per_pod\": 0.969, \"date\": \"2022-03-24T00:00:00\"}, {\"amount\": 476.81166, \"place_in_line\": 24937249.001452, \"price_per_pod\": 0.7, \"date\": \"2022-03-12T00:00:00\"}, {\"amount\": 32609.9496, \"place_in_line\": 250261928.573315, \"price_per_pod\": 0.21, \"date\": \"2022-04-13T00:00:00\"}, {\"amount\": 10157.18984, \"place_in_line\": 250515993.903243, \"price_per_pod\": 0.1, \"date\": \"2022-02-05T00:00:00\"}, {\"amount\": 74656.41753, \"place_in_line\": 250526151.093083, \"price_per_pod\": 0.1, \"date\": \"2022-03-15T00:00:00\"}, {\"amount\": 10000.0, \"place_in_line\": 25058632.122103, \"price_per_pod\": 0.73, \"date\": \"2022-03-06T00:00:00\"}, {\"amount\": 197207.803637, \"place_in_line\": 250600807.510613, \"price_per_pod\": 0.1, \"date\": \"2022-03-17T00:00:00\"}, {\"amount\": 3742.630948, \"place_in_line\": 25068632.122103, \"price_per_pod\": 0.4, \"date\": \"2022-03-08T00:00:00\"}, {\"amount\": 3742.630947, \"place_in_line\": 25068632.122103, \"price_per_pod\": 0.9, \"date\": \"2022-03-12T00:00:00\"}, {\"amount\": 508.670984, \"place_in_line\": 25072374.753051, \"price_per_pod\": 0.7, \"date\": \"2022-03-12T00:00:00\"}, {\"amount\": 20871.314978, \"place_in_line\": 251882385.453211, \"price_per_pod\": 0.25, \"date\": \"2022-04-13T00:00:00\"}, {\"amount\": 277271.514945, \"place_in_line\": 252622959.858488, \"price_per_pod\": 0.2399, \"date\": \"2022-04-14T00:00:00\"}, {\"amount\": 156533.816852, \"place_in_line\": 252122959.858488, \"price_per_pod\": 0.2399, \"date\": \"2022-04-16T00:00:00\"}, {\"amount\": 327574.162163, \"place_in_line\": 252279493.67534, \"price_per_pod\": 0.2399, \"date\": \"2022-04-16T00:00:00\"}, {\"amount\": 6103.560879, \"place_in_line\": 252607067.837503, \"price_per_pod\": 0.2399, \"date\": \"2022-04-16T00:00:00\"}, {\"amount\": 9788.460106, \"place_in_line\": 252613171.398382, \"price_per_pod\": 0.2399, \"date\": \"2022-04-16T00:00:00\"}, {\"amount\": 483.681672, \"place_in_line\": 25348206.948214002, \"price_per_pod\": 0.55, \"date\": \"2022-02-23T00:00:00\"}, {\"amount\": 499.475356, \"place_in_line\": 25353686.585833, \"price_per_pod\": 0.55, \"date\": \"2022-02-22T00:00:00\"}, {\"amount\": 500.635194, \"place_in_line\": 25354186.061189, \"price_per_pod\": 0.55, \"date\": \"2022-02-22T00:00:00\"}, {\"amount\": 42398.880624, \"place_in_line\": 254434821.130723, \"price_per_pod\": 0.25, \"date\": \"2022-04-16T00:00:00\"}, {\"amount\": 17271.454497, \"place_in_line\": 254477220.011347, \"price_per_pod\": 0.25, \"date\": \"2022-04-16T00:00:00\"}, {\"amount\": 529.441732, \"place_in_line\": 25471822.591753, \"price_per_pod\": 0.55, \"date\": \"2022-02-20T00:00:00\"}, {\"amount\": 275.0, \"place_in_line\": 25475268.849725, \"price_per_pod\": 0.82, \"date\": \"2022-03-09T00:00:00\"}, {\"amount\": 529.81624, \"place_in_line\": 25475014.033485, \"price_per_pod\": 0.55, \"date\": \"2022-02-20T00:00:00\"}, {\"amount\": 4894.300767, \"place_in_line\": 25484600.575117, \"price_per_pod\": 0.7, \"date\": \"2022-03-14T00:00:00\"}, {\"amount\": 3523.403523, \"place_in_line\": 25475543.849725, \"price_per_pod\": 0.855, \"date\": \"2022-03-15T00:00:00\"}, {\"amount\": 5533.321867, \"place_in_line\": 25479067.25325, \"price_per_pod\": 0.7, \"date\": \"2022-03-14T00:00:00\"}, {\"amount\": 2774.320296, \"place_in_line\": 256773707.204461, \"price_per_pod\": 0.0911, \"date\": \"2022-09-04T00:00:00\"}, {\"amount\": 1501.799049, \"place_in_line\": 26012876.542778, \"price_per_pod\": 0.4, \"date\": \"2022-02-06T00:00:00\"}, {\"amount\": 18.15396, \"place_in_line\": 26012878.341827, \"price_per_pod\": 0.8, \"date\": \"2022-02-18T00:00:00\"}, {\"amount\": 1481.84604, \"place_in_line\": 26012896.495787, \"price_per_pod\": 0.8, \"date\": \"2022-03-08T00:00:00\"}, {\"amount\": 1481.846039, \"place_in_line\": 26012896.495787, \"price_per_pod\": 0.94, \"date\": \"2022-03-16T00:00:00\"}, {\"amount\": 222000.0, \"place_in_line\": 260462773.844629, \"price_per_pod\": 0.05, \"date\": \"2022-02-18T00:00:00\"}, {\"amount\": 9037.88913, \"place_in_line\": 260684773.844629, \"price_per_pod\": 0.05, \"date\": \"2022-03-25T00:00:00\"}, {\"amount\": 9037.889126, \"place_in_line\": 260684773.844629, \"price_per_pod\": 0.23, \"date\": \"2022-04-16T00:00:00\"}, {\"amount\": 27121.737219, \"place_in_line\": 261754319.708378, \"price_per_pod\": 0.06, \"date\": \"2022-02-07T00:00:00\"}, {\"amount\": 860.21625, \"place_in_line\": 26197232.616933, \"price_per_pod\": 0.89, \"date\": \"2022-03-13T00:00:00\"}, {\"amount\": 400.0, \"place_in_line\": 26197232.616933, \"price_per_pod\": 0.96, \"date\": \"2022-03-18T00:00:00\"}, {\"amount\": 50.718008, \"place_in_line\": 26197232.616933, \"price_per_pod\": 0.965, \"date\": \"2022-03-27T00:00:00\"}, {\"amount\": 3088.635598, \"place_in_line\": 26198092.833183, \"price_per_pod\": 0.93, \"date\": \"2022-03-21T00:00:00\"}, {\"amount\": 53432.110203, \"place_in_line\": 26201181.468781, \"price_per_pod\": 0.93, \"date\": \"2022-03-22T00:00:00\"}, {\"amount\": 2857.625611, \"place_in_line\": 262192846.38856, \"price_per_pod\": 0.09, \"date\": \"2022-03-14T00:00:00\"}, {\"amount\": 25133.316533, \"place_in_line\": 262195704.014171, \"price_per_pod\": 0.085, \"date\": \"2022-03-17T00:00:00\"}, {\"amount\": 25133.316533, \"place_in_line\": 262195704.014171, \"price_per_pod\": 0.09, \"date\": \"2022-03-15T00:00:00\"}, {\"amount\": 17624.21907, \"place_in_line\": 262220837.330704, \"price_per_pod\": 0.1, \"date\": \"2022-03-19T00:00:00\"}, {\"amount\": 5955.47476, \"place_in_line\": 262238461.549774, \"price_per_pod\": 0.1, \"date\": \"2022-03-24T00:00:00\"}, {\"amount\": 9954.8886, \"place_in_line\": 262244417.024534, \"price_per_pod\": 0.1, \"date\": \"2022-03-30T00:00:00\"}, {\"amount\": 20006.70808, \"place_in_line\": 262254371.913134, \"price_per_pod\": 0.1, \"date\": \"2022-03-30T00:00:00\"}, {\"amount\": 8448.77801, \"place_in_line\": 262274378.621214, \"price_per_pod\": 0.1, \"date\": \"2022-03-30T00:00:00\"}, {\"amount\": 24321.46204, \"place_in_line\": 262282827.399224, \"price_per_pod\": 0.1, \"date\": \"2022-04-02T00:00:00\"}, {\"amount\": 68900.14021, \"place_in_line\": 262307148.861264, \"price_per_pod\": 0.1, \"date\": \"2022-04-02T00:00:00\"}, {\"amount\": 13448.18194, \"place_in_line\": 262376049.001474, \"price_per_pod\": 0.1, \"date\": \"2022-04-03T00:00:00\"}, {\"amount\": 66013.841091, \"place_in_line\": 262389497.183414, \"price_per_pod\": 0.1, \"date\": \"2022-04-04T00:00:00\"}, {\"amount\": 1544.471194, \"place_in_line\": 26254950.988533, \"price_per_pod\": 0.9, \"date\": \"2022-03-18T00:00:00\"}, {\"amount\": 4030.762307, \"place_in_line\": 26254950.988533, \"price_per_pod\": 0.825, \"date\": \"2022-03-14T00:00:00\"}, {\"amount\": 2455.528805, \"place_in_line\": 26256495.459727, \"price_per_pod\": 0.9, \"date\": \"2022-03-18T00:00:00\"}, {\"amount\": 575.995631, \"place_in_line\": 26258981.750842, \"price_per_pod\": 0.55, \"date\": \"2022-02-20T00:00:00\"}, {\"amount\": 50046.286217, \"place_in_line\": 262916671.8779, \"price_per_pod\": 0.2, \"date\": \"2022-04-12T00:00:00\"}, {\"amount\": 37360.929463, \"place_in_line\": 265200621.045782, \"price_per_pod\": 0.19, \"date\": \"2022-04-12T00:00:00\"}, {\"amount\": 50268.82477, \"place_in_line\": 265200621.045782, \"price_per_pod\": 0.15, \"date\": \"2022-04-12T00:00:00\"}, {\"amount\": 12907.895307, \"place_in_line\": 265237981.975245, \"price_per_pod\": 0.19, \"date\": \"2022-04-12T00:00:00\"}, {\"amount\": 292114.7442, \"place_in_line\": 265250889.870552, \"price_per_pod\": 0.045, \"date\": \"2022-09-02T00:00:00\"}, {\"amount\": 3057.061882, \"place_in_line\": 27091152.813716, \"price_per_pod\": 0.93, \"date\": \"2022-03-13T00:00:00\"}, {\"amount\": 70000.0, \"place_in_line\": 27121152.813716, \"price_per_pod\": 0.93, \"date\": \"2022-03-09T00:00:00\"}, {\"amount\": 44602.71085, \"place_in_line\": 270707790.419553, \"price_per_pod\": 0.2, \"date\": \"2022-04-12T00:00:00\"}, {\"amount\": 1224.3868, \"place_in_line\": 270752393.130403, \"price_per_pod\": 0.24, \"date\": \"2022-04-13T00:00:00\"}, {\"amount\": 2727.243727, \"place_in_line\": 270753617.517203, \"price_per_pod\": 0.22, \"date\": \"2022-04-13T00:00:00\"}, {\"amount\": 42239.183866, \"place_in_line\": 270756344.76093, \"price_per_pod\": 0.22, \"date\": \"2022-04-15T00:00:00\"}, {\"amount\": 138280.774553, \"place_in_line\": 270896539.738641, \"price_per_pod\": 0.2, \"date\": \"2022-04-14T00:00:00\"}, {\"amount\": 3058.346004, \"place_in_line\": 27094209.875598, \"price_per_pod\": 0.82, \"date\": \"2022-03-14T00:00:00\"}, {\"amount\": 6097.560975, \"place_in_line\": 27097268.221602, \"price_per_pod\": 0.82, \"date\": \"2022-03-14T00:00:00\"}, {\"amount\": 4694.956362, \"place_in_line\": 27103365.782577, \"price_per_pod\": 0.82, \"date\": \"2022-03-14T00:00:00\"}, {\"amount\": 4694.956361, \"place_in_line\": 27103365.782577, \"price_per_pod\": 0.96, \"date\": \"2022-03-27T00:00:00\"}, {\"amount\": 302.524126, \"place_in_line\": 27108060.738939, \"price_per_pod\": 0.82, \"date\": \"2022-03-15T00:00:00\"}, {\"amount\": 12789.55065, \"place_in_line\": 27108363.263065, \"price_per_pod\": 0.82, \"date\": \"2022-03-15T00:00:00\"}, {\"amount\": 38071.6006, \"place_in_line\": 271616769.085401, \"price_per_pod\": 0.04, \"date\": \"2022-03-08T00:00:00\"}, {\"amount\": 62132.577144, \"place_in_line\": 271654840.686001, \"price_per_pod\": 0.04, \"date\": \"2022-03-09T00:00:00\"}, {\"amount\": 12000.0, \"place_in_line\": 27205591.471716, \"price_per_pod\": 0.7, \"date\": \"2022-02-06T00:00:00\"}, {\"amount\": 3000.0, \"place_in_line\": 27205591.471716, \"price_per_pod\": 0.79, \"date\": \"2022-03-14T00:00:00\"}, {\"amount\": 6000.0, \"place_in_line\": 27211591.471716, \"price_per_pod\": 0.79, \"date\": \"2022-02-07T00:00:00\"}, {\"amount\": 3000.0, \"place_in_line\": 27205591.471716, \"price_per_pod\": 0.79, \"date\": \"2022-03-12T00:00:00\"}, {\"amount\": 2818.086336, \"place_in_line\": 27208591.471716, \"price_per_pod\": 0.79, \"date\": \"2022-03-12T00:00:00\"}, {\"amount\": 6000.0, \"place_in_line\": 27211591.471716, \"price_per_pod\": 0.85, \"date\": \"2022-03-15T00:00:00\"}, {\"amount\": 25000.0, \"place_in_line\": 27611610.53843, \"price_per_pod\": 0.4, \"date\": \"2022-02-07T00:00:00\"}, {\"amount\": 10998.200951, \"place_in_line\": 27636610.53843, \"price_per_pod\": 0.4, \"date\": \"2022-02-07T00:00:00\"}, {\"amount\": 234173.311666, \"place_in_line\": 272603524.644509, \"price_per_pod\": 0.045, \"date\": \"2022-08-24T00:00:00\"}, {\"amount\": 50896.592466, \"place_in_line\": 273566063.183769, \"price_per_pod\": 0.075, \"date\": \"2022-08-13T00:00:00\"}, {\"amount\": 36881.868335, \"place_in_line\": 273616959.776235, \"price_per_pod\": 0.07, \"date\": \"2022-08-14T00:00:00\"}, {\"amount\": 21267.206558, \"place_in_line\": 274414876.662335, \"price_per_pod\": 0.12, \"date\": \"2022-04-07T00:00:00\"}, {\"amount\": 12500.0, \"place_in_line\": 274436143.868893, \"price_per_pod\": 0.12, \"date\": \"2022-04-12T00:00:00\"}, {\"amount\": 16988.852448, \"place_in_line\": 274448643.868893, \"price_per_pod\": 0.166, \"date\": \"2022-04-12T00:00:00\"}, {\"amount\": 16988.852448, \"place_in_line\": 274448643.868893, \"price_per_pod\": 0.12, \"date\": \"2022-04-12T00:00:00\"}, {\"amount\": 1000.0, \"place_in_line\": 27611610.53843, \"price_per_pod\": 0.59, \"date\": \"2022-02-16T00:00:00\"}, {\"amount\": 3602.363088, \"place_in_line\": 27612610.53843, \"price_per_pod\": 0.85, \"date\": \"2022-03-26T00:00:00\"}, {\"amount\": 4000.0, \"place_in_line\": 27612610.53843, \"price_per_pod\": 0.65, \"date\": \"2022-03-07T00:00:00\"}, {\"amount\": 397.636911, \"place_in_line\": 27616212.901518, \"price_per_pod\": 0.85, \"date\": \"2022-03-26T00:00:00\"}, {\"amount\": 4615.384615, \"place_in_line\": 27616610.53843, \"price_per_pod\": 0.65, \"date\": \"2022-03-08T00:00:00\"}, {\"amount\": 4615.384614, \"place_in_line\": 27616610.53843, \"price_per_pod\": 0.9, \"date\": \"2022-03-15T00:00:00\"}, {\"amount\": 5444.708446, \"place_in_line\": 27621225.923045, \"price_per_pod\": 0.65, \"date\": \"2022-03-09T00:00:00\"}, {\"amount\": 3002.332759, \"place_in_line\": 27626670.631491, \"price_per_pod\": 0.88, \"date\": \"2022-03-16T00:00:00\"}, {\"amount\": 6937.574179, \"place_in_line\": 27629672.96425, \"price_per_pod\": 0.88, \"date\": \"2022-03-17T00:00:00\"}, {\"amount\": 40316.136394, \"place_in_line\": 276364944.621992, \"price_per_pod\": 0.05, \"date\": \"2022-03-09T00:00:00\"}, {\"amount\": 10098.137872, \"place_in_line\": 276395162.620514, \"price_per_pod\": 0.0047, \"date\": \"2022-04-10T00:00:00\"}, {\"amount\": 5403.99888, \"place_in_line\": 276364944.621992, \"price_per_pod\": 0.15, \"date\": \"2022-08-07T00:00:00\"}, {\"amount\": 10998.20095, \"place_in_line\": 27636610.53843, \"price_per_pod\": 0.88, \"date\": \"2022-03-19T00:00:00\"}, {\"amount\": 5150.32753, \"place_in_line\": 276370348.620872, \"price_per_pod\": 0.1, \"date\": \"2022-08-08T00:00:00\"}, {\"amount\": 19663.672112, \"place_in_line\": 276375498.948402, \"price_per_pod\": 0.1, \"date\": \"2022-08-09T00:00:00\"}, {\"amount\": 24695.452876, \"place_in_line\": 277250339.397938, \"price_per_pod\": 0.09, \"date\": \"2022-03-12T00:00:00\"}, {\"amount\": 100000.0, \"place_in_line\": 277275034.850814, \"price_per_pod\": 0.09, \"date\": \"2022-03-09T00:00:00\"}, {\"amount\": 100000.0, \"place_in_line\": 277275034.850814, \"price_per_pod\": 0.08, \"date\": \"2022-08-09T00:00:00\"}, {\"amount\": 135654.646253, \"place_in_line\": 277396766.693154, \"price_per_pod\": 0.06, \"date\": \"2022-03-09T00:00:00\"}, {\"amount\": 25000.0, \"place_in_line\": 28014831.579668, \"price_per_pod\": 0.4, \"date\": \"2022-02-07T00:00:00\"}, {\"amount\": 33333.333333, \"place_in_line\": 28039831.579668, \"price_per_pod\": 0.45, \"date\": \"2022-02-07T00:00:00\"}, {\"amount\": 17745.6617, \"place_in_line\": 27940835.917967997, \"price_per_pod\": 0.4, \"date\": \"2022-03-07T00:00:00\"}, {\"amount\": 15093.059974, \"place_in_line\": 27958581.579668, \"price_per_pod\": 0.7, \"date\": \"2022-03-06T00:00:00\"}, {\"amount\": 16250.0, \"place_in_line\": 27998581.579668, \"price_per_pod\": 0.4, \"date\": \"2022-02-08T00:00:00\"}, {\"amount\": 10981.0, \"place_in_line\": 278128513.436918, \"price_per_pod\": 0.2, \"date\": \"2022-04-13T00:00:00\"}, {\"amount\": 10981.0, \"place_in_line\": 278128513.436918, \"price_per_pod\": 0.1999, \"date\": \"2022-04-14T00:00:00\"}, {\"amount\": 73188.666066, \"place_in_line\": 278393127.641126, \"price_per_pod\": 0.195, \"date\": \"2022-04-15T00:00:00\"}, {\"amount\": 26811.333934, \"place_in_line\": 278466316.307192, \"price_per_pod\": 0.195, \"date\": \"2022-04-15T00:00:00\"}, {\"amount\": 2286.050992, \"place_in_line\": 278493127.641126, \"price_per_pod\": 0.0695, \"date\": \"2022-08-31T00:00:00\"}, {\"amount\": 15360.801728, \"place_in_line\": 278495413.994289, \"price_per_pod\": 0.059, \"date\": \"2022-09-10T00:00:00\"}, {\"amount\": 88294.274288, \"place_in_line\": 278510774.796017, \"price_per_pod\": 0.059, \"date\": \"2022-09-10T00:00:00\"}, {\"amount\": 4221.510559, \"place_in_line\": 278599069.070305, \"price_per_pod\": 0.059, \"date\": \"2022-09-16T00:00:00\"}, {\"amount\": 85000.0, \"place_in_line\": 279257880.223832, \"price_per_pod\": 0.1888, \"date\": \"2022-04-14T00:00:00\"}, {\"amount\": 19928.134487, \"place_in_line\": 279405824.996797, \"price_per_pod\": 0.082, \"date\": \"2022-08-12T00:00:00\"}, {\"amount\": 17745.6617, \"place_in_line\": 27940835.917968, \"price_per_pod\": 0.87, \"date\": \"2022-03-26T00:00:00\"}, {\"amount\": 1434.477767, \"place_in_line\": 27974674.639642, \"price_per_pod\": 0.97, \"date\": \"2022-04-06T00:00:00\"}, {\"amount\": 8917.363582, \"place_in_line\": 27973674.639642, \"price_per_pod\": 0.96, \"date\": \"2022-04-02T00:00:00\"}, {\"amount\": 24906.940025, \"place_in_line\": 27973674.639642, \"price_per_pod\": 0.7, \"date\": \"2022-03-06T00:00:00\"}, {\"amount\": 15989.576442, \"place_in_line\": 27982592.003224, \"price_per_pod\": 0.96, \"date\": \"2022-04-05T00:00:00\"}, {\"amount\": 16250.0, \"place_in_line\": 27998581.579668, \"price_per_pod\": 0.49, \"date\": \"2022-03-06T00:00:00\"}, {\"amount\": 1632.653061, \"place_in_line\": 28014831.579668, \"price_per_pod\": 0.49, \"date\": \"2022-03-01T00:00:00\"}, {\"amount\": 7011.850078, \"place_in_line\": 28016464.232729, \"price_per_pod\": 0.69, \"date\": \"2022-03-09T00:00:00\"}, {\"amount\": 3368.588734, \"place_in_line\": 28023476.082807, \"price_per_pod\": 0.69, \"date\": \"2022-03-09T00:00:00\"}, {\"amount\": 7520.625644, \"place_in_line\": 28026844.671541, \"price_per_pod\": 0.69, \"date\": \"2022-03-10T00:00:00\"}, {\"amount\": 4892.260104, \"place_in_line\": 28034365.297185, \"price_per_pod\": 0.96, \"date\": \"2022-04-06T00:00:00\"}, {\"amount\": 45604.467983, \"place_in_line\": 280560810.69137, \"price_per_pod\": 0.032, \"date\": \"2022-09-13T00:00:00\"}, {\"amount\": 306.18, \"place_in_line\": 28269223.57303, \"price_per_pod\": 0.5, \"date\": \"2022-03-12T00:00:00\"}, {\"amount\": 306.18, \"place_in_line\": 28269529.75303, \"price_per_pod\": 0.5, \"date\": \"2022-03-12T00:00:00\"}, {\"amount\": 306.18, \"place_in_line\": 28277356.357376, \"price_per_pod\": 0.5, \"date\": \"2022-03-12T00:00:00\"}, {\"amount\": 306.18, \"place_in_line\": 28277662.537376, \"price_per_pod\": 0.5, \"date\": \"2022-03-12T00:00:00\"}, {\"amount\": 306.18, \"place_in_line\": 28277968.717376, \"price_per_pod\": 0.5, \"date\": \"2022-03-12T00:00:00\"}, {\"amount\": 306.18, \"place_in_line\": 28278274.897376, \"price_per_pod\": 0.5, \"date\": \"2022-03-12T00:00:00\"}, {\"amount\": 9392.830193, \"place_in_line\": 28278581.077376, \"price_per_pod\": 0.15, \"date\": \"2022-03-03T00:00:00\"}, {\"amount\": 8579.0, \"place_in_line\": 28278581.077376, \"price_per_pod\": 0.82, \"date\": \"2022-03-16T00:00:00\"}, {\"amount\": 23784.920032, \"place_in_line\": 284738104.868387, \"price_per_pod\": 0.188, \"date\": \"2022-04-13T00:00:00\"}, {\"amount\": 23784.920032, \"place_in_line\": 284738104.868387, \"price_per_pod\": 0.07, \"date\": \"2022-08-14T00:00:00\"}, {\"amount\": 10654.918204, \"place_in_line\": 285585338.065737, \"price_per_pod\": 0.095, \"date\": \"2022-08-07T00:00:00\"}, {\"amount\": 69757.866647, \"place_in_line\": 285515580.19909, \"price_per_pod\": 0.095, \"date\": \"2022-08-09T00:00:00\"}, {\"amount\": 56976.941921, \"place_in_line\": 285595992.983941, \"price_per_pod\": 0.127, \"date\": \"2022-08-07T00:00:00\"}, {\"amount\": 8919.410803, \"place_in_line\": 285652969.925862, \"price_per_pod\": 0.127, \"date\": \"2022-08-07T00:00:00\"}, {\"amount\": 6674.611456, \"place_in_line\": 285661889.336665, \"price_per_pod\": 0.127, \"date\": \"2022-08-07T00:00:00\"}, {\"amount\": 91774.095238, \"place_in_line\": 285668563.948121, \"price_per_pod\": 0.105, \"date\": \"2022-08-07T00:00:00\"}, {\"amount\": 20262.705038, \"place_in_line\": 288613470.25682, \"price_per_pod\": 0.1, \"date\": \"2022-04-14T00:00:00\"}, {\"amount\": 40000.0, \"place_in_line\": 290578447.893311, \"price_per_pod\": 0.23, \"date\": \"2022-04-16T00:00:00\"}, {\"amount\": 32886.283743, \"place_in_line\": 290618447.893311, \"price_per_pod\": 0.23, \"date\": \"2022-04-16T00:00:00\"}, {\"amount\": 70000.0, \"place_in_line\": 291392435.362915, \"price_per_pod\": 0.075, \"date\": \"2022-08-10T00:00:00\"}, {\"amount\": 79941.0, \"place_in_line\": 291312494.362915, \"price_per_pod\": 0.075, \"date\": \"2022-08-13T00:00:00\"}, {\"amount\": 19574.398175, \"place_in_line\": 291292919.96474, \"price_per_pod\": 0.07, \"date\": \"2022-08-14T00:00:00\"}, {\"amount\": 97094.321858, \"place_in_line\": 291557509.922353, \"price_per_pod\": 0.25, \"date\": \"2022-04-17T00:00:00\"}, {\"amount\": 6488.49694, \"place_in_line\": 293521542.986844, \"price_per_pod\": 0.15, \"date\": \"2022-08-07T00:00:00\"}, {\"amount\": 1258.344408, \"place_in_line\": 293793662.086844, \"price_per_pod\": 0.15, \"date\": \"2022-04-16T00:00:00\"}, {\"amount\": 40000.0, \"place_in_line\": 293753662.086844, \"price_per_pod\": 0.15, \"date\": \"2022-04-17T00:00:00\"}, {\"amount\": 7378.750988, \"place_in_line\": 293603662.086844, \"price_per_pod\": 0.09, \"date\": \"2022-08-15T00:00:00\"}, {\"amount\": 84709.07224, \"place_in_line\": 293653662.086844, \"price_per_pod\": 0.09, \"date\": \"2022-08-07T00:00:00\"}, {\"amount\": 12502.39604, \"place_in_line\": 293738371.159084, \"price_per_pod\": 0.1, \"date\": \"2022-08-07T00:00:00\"}, {\"amount\": 2641.42251, \"place_in_line\": 293750873.555124, \"price_per_pod\": 0.1, \"date\": \"2022-08-07T00:00:00\"}, {\"amount\": 146.80787, \"place_in_line\": 293753514.977634, \"price_per_pod\": 0.1, \"date\": \"2022-08-07T00:00:00\"}, {\"amount\": 38741.655592, \"place_in_line\": 293794920.431252, \"price_per_pod\": 0.23, \"date\": \"2022-04-17T00:00:00\"}, {\"amount\": 89966.0164, \"place_in_line\": 296679653.218877, \"price_per_pod\": 0.08, \"date\": \"2022-03-12T00:00:00\"}, {\"amount\": 28239.348266, \"place_in_line\": 296769619.235277, \"price_per_pod\": 0.08, \"date\": \"2022-03-12T00:00:00\"}, {\"amount\": 4499.213873, \"place_in_line\": 296937641.383543, \"price_per_pod\": 0.25, \"date\": \"2022-04-14T00:00:00\"}, {\"amount\": 30400.392115, \"place_in_line\": 296942140.597416, \"price_per_pod\": 0.19, \"date\": \"2022-04-15T00:00:00\"}, {\"amount\": 10000.0, \"place_in_line\": 296972540.989531, \"price_per_pod\": 0.19, \"date\": \"2022-04-15T00:00:00\"}, {\"amount\": 1533.680526, \"place_in_line\": 296982540.989531, \"price_per_pod\": 0.19, \"date\": \"2022-04-15T00:00:00\"}, {\"amount\": 2631.578947, \"place_in_line\": 296984074.670057, \"price_per_pod\": 0.19, \"date\": \"2022-04-16T00:00:00\"}, {\"amount\": 935.134539, \"place_in_line\": 296986706.249004, \"price_per_pod\": 0.19, \"date\": \"2022-04-16T00:00:00\"}, {\"amount\": 7878.59554, \"place_in_line\": 297495649.811425, \"price_per_pod\": 0.1, \"date\": \"2022-04-05T00:00:00\"}, {\"amount\": 5841.844593, \"place_in_line\": 298378540.271272, \"price_per_pod\": 0.15, \"date\": \"2022-04-12T00:00:00\"}, {\"amount\": 41700.155407, \"place_in_line\": 298384382.115865, \"price_per_pod\": 0.15, \"date\": \"2022-04-12T00:00:00\"}, {\"amount\": 200000.0, \"place_in_line\": 299905735.929341, \"price_per_pod\": 0.0549, \"date\": \"2022-03-09T00:00:00\"}, {\"amount\": 1108.739846, \"place_in_line\": 30093619.332251, \"price_per_pod\": 0.2, \"date\": \"2022-02-06T00:00:00\"}, {\"amount\": 1053.216596, \"place_in_line\": 30094742.702097, \"price_per_pod\": 0.735, \"date\": \"2022-03-28T00:00:00\"}, {\"amount\": 27938.16286, \"place_in_line\": 302500361.239637, \"price_per_pod\": 0.032, \"date\": \"2022-09-13T00:00:00\"}, {\"amount\": 1107.800543, \"place_in_line\": 30475915.918693, \"price_per_pod\": 0.2, \"date\": \"2022-02-06T00:00:00\"}, {\"amount\": 1107.800542, \"place_in_line\": 30475915.918693, \"price_per_pod\": 0.9125, \"date\": \"2022-04-09T00:00:00\"}, {\"amount\": 43975.873054, \"place_in_line\": 306145738.36389, \"price_per_pod\": 0.03, \"date\": \"2022-09-08T00:00:00\"}, {\"amount\": 20160.241262, \"place_in_line\": 309147120.451233, \"price_per_pod\": 0.1, \"date\": \"2022-03-15T00:00:00\"}, {\"amount\": 4073.31024, \"place_in_line\": 310740918.699729, \"price_per_pod\": 0.1, \"date\": \"2022-08-06T00:00:00\"}, {\"amount\": 67236.05278, \"place_in_line\": 310744992.009969, \"price_per_pod\": 0.1, \"date\": \"2022-08-07T00:00:00\"}, {\"amount\": 10002.98428, \"place_in_line\": 310812228.062749, \"price_per_pod\": 0.1, \"date\": \"2022-08-07T00:00:00\"}, {\"amount\": 8691.01777, \"place_in_line\": 310822231.047029, \"price_per_pod\": 0.1, \"date\": \"2022-08-07T00:00:00\"}, {\"amount\": 33133.32152, \"place_in_line\": 310830922.064799, \"price_per_pod\": 0.1, \"date\": \"2022-08-07T00:00:00\"}, {\"amount\": 4711.804625, \"place_in_line\": 310884055.386319, \"price_per_pod\": 0.12, \"date\": \"2022-08-08T00:00:00\"}, {\"amount\": 50000.0, \"place_in_line\": 310864055.386319, \"price_per_pod\": 0.1, \"date\": \"2022-08-07T00:00:00\"}, {\"amount\": 10000.0, \"place_in_line\": 310904055.386319, \"price_per_pod\": 0.12, \"date\": \"2022-08-07T00:00:00\"}, {\"amount\": 235946.38649, \"place_in_line\": 310914055.386319, \"price_per_pod\": 0.1, \"date\": \"2022-08-07T00:00:00\"}, {\"amount\": 39829.44221, \"place_in_line\": 311150001.772809, \"price_per_pod\": 0.1, \"date\": \"2022-08-07T00:00:00\"}, {\"amount\": 27049.20327, \"place_in_line\": 311189831.215019, \"price_per_pod\": 0.1, \"date\": \"2022-08-07T00:00:00\"}, {\"amount\": 5374.1226, \"place_in_line\": 311216880.418289, \"price_per_pod\": 0.1, \"date\": \"2022-08-07T00:00:00\"}, {\"amount\": 16840.0, \"place_in_line\": 311222254.540889, \"price_per_pod\": 0.1, \"date\": \"2022-08-07T00:00:00\"}, {\"amount\": 25000.0, \"place_in_line\": 311844690.009016, \"price_per_pod\": 0.169, \"date\": \"2022-04-13T00:00:00\"}, {\"amount\": 6745.238037, \"place_in_line\": 311869690.009016, \"price_per_pod\": 0.159, \"date\": \"2022-04-14T00:00:00\"}, {\"amount\": 17161.170037, \"place_in_line\": 311876435.247053, \"price_per_pod\": 0.159, \"date\": \"2022-04-14T00:00:00\"}, {\"amount\": 4742.0, \"place_in_line\": 31200843.015592, \"price_per_pod\": 0.77, \"date\": \"2022-03-26T00:00:00\"}, {\"amount\": 4742.0, \"place_in_line\": 31200843.015592, \"price_per_pod\": 0.55, \"date\": \"2022-03-09T00:00:00\"}, {\"amount\": 4742.0, \"place_in_line\": 31200843.015592, \"price_per_pod\": 0.9, \"date\": \"2022-04-07T00:00:00\"}, {\"amount\": 512.52218, \"place_in_line\": 31205585.015592, \"price_per_pod\": 0.55, \"date\": \"2022-03-09T00:00:00\"}, {\"amount\": 961997.948382, \"place_in_line\": 312055923.158305, \"price_per_pod\": 0.1, \"date\": \"2022-03-17T00:00:00\"}, {\"amount\": 315.345761, \"place_in_line\": 31206097.537772, \"price_per_pod\": 0.55, \"date\": \"2022-03-10T00:00:00\"}, {\"amount\": 315.34576, \"place_in_line\": 31206097.537772, \"price_per_pod\": 0.9, \"date\": \"2022-04-05T00:00:00\"}, {\"amount\": 190.881515, \"place_in_line\": 31343225.29853, \"price_per_pod\": 0.85, \"date\": \"2022-03-13T00:00:00\"}, {\"amount\": 4384.609905, \"place_in_line\": 31343416.180045, \"price_per_pod\": 0.85, \"date\": \"2022-03-27T00:00:00\"}, {\"amount\": 7310.068169, \"place_in_line\": 31347800.78995, \"price_per_pod\": 0.85, \"date\": \"2022-03-27T00:00:00\"}, {\"amount\": 7310.068168, \"place_in_line\": 31347800.78995, \"price_per_pod\": 0.875, \"date\": \"2022-04-04T00:00:00\"}, {\"amount\": 37672.255074, \"place_in_line\": 31355110.858119, \"price_per_pod\": 0.85, \"date\": \"2022-03-27T00:00:00\"}, {\"amount\": 3949.94096, \"place_in_line\": 31392783.113193, \"price_per_pod\": 0.85, \"date\": \"2022-03-31T00:00:00\"}, {\"amount\": 1029.411764, \"place_in_line\": 31396733.054153, \"price_per_pod\": 0.85, \"date\": \"2022-04-02T00:00:00\"}, {\"amount\": 3633.688938, \"place_in_line\": 31397762.465917, \"price_per_pod\": 0.85, \"date\": \"2022-04-03T00:00:00\"}, {\"amount\": 43767.188474, \"place_in_line\": 31401396.154855, \"price_per_pod\": 0.85, \"date\": \"2022-04-04T00:00:00\"}, {\"amount\": 9061.9552, \"place_in_line\": 31445163.343329, \"price_per_pod\": 0.85, \"date\": \"2022-04-04T00:00:00\"}, {\"amount\": 10000.0, \"place_in_line\": 31729127.154909004, \"price_per_pod\": 0.74, \"date\": \"2022-03-19T00:00:00\"}, {\"amount\": 7335.414628, \"place_in_line\": 31719127.154909004, \"price_per_pod\": 0.74, \"date\": \"2022-03-20T00:00:00\"}, {\"amount\": 7614.499139, \"place_in_line\": 31711512.655769, \"price_per_pod\": 0.74, \"date\": \"2022-03-21T00:00:00\"}, {\"amount\": 2664.585372, \"place_in_line\": 31726462.569537, \"price_per_pod\": 0.75, \"date\": \"2022-03-21T00:00:00\"}, {\"amount\": 1168.279709, \"place_in_line\": 31876153.030531, \"price_per_pod\": 0.75, \"date\": \"2022-03-21T00:00:00\"}, {\"amount\": 2044.251838, \"place_in_line\": 31877321.310241, \"price_per_pod\": 0.75, \"date\": \"2022-03-21T00:00:00\"}, {\"amount\": 42247.542366, \"place_in_line\": 319161563.141827, \"price_per_pod\": 0.2269, \"date\": \"2022-04-15T00:00:00\"}, {\"amount\": 7830.82111, \"place_in_line\": 319203810.684193, \"price_per_pod\": 0.2269, \"date\": \"2022-04-16T00:00:00\"}, {\"amount\": 81750.376187, \"place_in_line\": 319877964.011072, \"price_per_pod\": 0.235, \"date\": \"2022-04-17T00:00:00\"}, {\"amount\": 14803.898208, \"place_in_line\": 319959714.387259, \"price_per_pod\": 0.235, \"date\": \"2022-04-17T00:00:00\"}, {\"amount\": 10000.0, \"place_in_line\": 321145443.111092, \"price_per_pod\": 0.05, \"date\": \"2022-02-06T00:00:00\"}, {\"amount\": 30303.030303, \"place_in_line\": 323099144.507879, \"price_per_pod\": 0.066, \"date\": \"2022-03-14T00:00:00\"}, {\"amount\": 1941.820772, \"place_in_line\": 323129447.538182, \"price_per_pod\": 0.066, \"date\": \"2022-03-14T00:00:00\"}, {\"amount\": 65269.543413, \"place_in_line\": 323131389.358954, \"price_per_pod\": 0.066, \"date\": \"2022-03-14T00:00:00\"}, {\"amount\": 61656.029023, \"place_in_line\": 323131389.358954, \"price_per_pod\": 0.1, \"date\": \"2022-04-11T00:00:00\"}, {\"amount\": 61656.029023, \"place_in_line\": 323131389.358954, \"price_per_pod\": 0.06, \"date\": \"2022-04-09T00:00:00\"}, {\"amount\": 61656.029023, \"place_in_line\": 323131389.358954, \"price_per_pod\": 0.084, \"date\": \"2022-03-16T00:00:00\"}, {\"amount\": 3613.51439, \"place_in_line\": 323193045.387977, \"price_per_pod\": 0.084, \"date\": \"2022-03-17T00:00:00\"}, {\"amount\": 38918.733214, \"place_in_line\": 325360140.162588, \"price_per_pod\": 0.21, \"date\": \"2022-04-16T00:00:00\"}, {\"amount\": 345.368185, \"place_in_line\": 32538182.220452, \"price_per_pod\": 0.25, \"date\": \"2022-02-16T00:00:00\"}, {\"amount\": 597.940445, \"place_in_line\": 32537929.648192, \"price_per_pod\": 0.2, \"date\": \"2022-02-06T00:00:00\"}, {\"amount\": 19569.741057, \"place_in_line\": 325399058.895802, \"price_per_pod\": 0.21, \"date\": \"2022-04-16T00:00:00\"}, {\"amount\": 13882.808319, \"place_in_line\": 325418628.636859, \"price_per_pod\": 0.21, \"date\": \"2022-04-16T00:00:00\"}, {\"amount\": 9804.554407, \"place_in_line\": 325432511.445178, \"price_per_pod\": 0.21, \"date\": \"2022-04-16T00:00:00\"}, {\"amount\": 1712.22969, \"place_in_line\": 32562193.629786, \"price_per_pod\": 0.75, \"date\": \"2022-04-02T00:00:00\"}, {\"amount\": 1712.22969, \"place_in_line\": 32562193.629786, \"price_per_pod\": 0.9, \"date\": \"2022-04-10T00:00:00\"}, {\"amount\": 31843.087062, \"place_in_line\": 327752156.718788, \"price_per_pod\": 0.0349, \"date\": \"2022-02-06T00:00:00\"}, {\"amount\": 2961.087365, \"place_in_line\": 32787450.18812, \"price_per_pod\": 0.75, \"date\": \"2022-03-12T00:00:00\"}, {\"amount\": 22222.222222, \"place_in_line\": 32803608.304223, \"price_per_pod\": 0.9, \"date\": \"2022-04-09T00:00:00\"}, {\"amount\": 7790.944531, \"place_in_line\": 32825830.526445, \"price_per_pod\": 0.9, \"date\": \"2022-04-09T00:00:00\"}, {\"amount\": 5435.84456, \"place_in_line\": 32833621.470976, \"price_per_pod\": 0.9, \"date\": \"2022-04-10T00:00:00\"}, {\"amount\": 8888.888888, \"place_in_line\": 32839057.315536, \"price_per_pod\": 0.9, \"date\": \"2022-04-10T00:00:00\"}, {\"amount\": 3137.175542, \"place_in_line\": 32847946.204424, \"price_per_pod\": 0.9, \"date\": \"2022-04-10T00:00:00\"}, {\"amount\": 1069.723017, \"place_in_line\": 32955503.192184, \"price_per_pod\": 0.25, \"date\": \"2022-02-16T00:00:00\"}, {\"amount\": 1069.723016, \"place_in_line\": 32955503.192184, \"price_per_pod\": 0.9, \"date\": \"2022-04-11T00:00:00\"}, {\"amount\": 1069.723017, \"place_in_line\": 32955503.192184, \"price_per_pod\": 0.2, \"date\": \"2022-02-06T00:00:00\"}, {\"amount\": 6167.341566, \"place_in_line\": 331554473.841786, \"price_per_pod\": 0.09, \"date\": \"2022-03-18T00:00:00\"}, {\"amount\": 35213.496314, \"place_in_line\": 331560641.183352, \"price_per_pod\": 0.14, \"date\": \"2022-04-12T00:00:00\"}, {\"amount\": 26274.622666, \"place_in_line\": 331595854.679666, \"price_per_pod\": 0.09, \"date\": \"2022-08-09T00:00:00\"}, {\"amount\": 1160.805666, \"place_in_line\": 334799194.897789, \"price_per_pod\": 0.15, \"date\": \"2022-04-12T00:00:00\"}, {\"amount\": 8239.12462, \"place_in_line\": 334800355.703455, \"price_per_pod\": 0.15, \"date\": \"2022-04-12T00:00:00\"}, {\"amount\": 20502.770382, \"place_in_line\": 334808594.828075, \"price_per_pod\": 0.15, \"date\": \"2022-04-12T00:00:00\"}, {\"amount\": 44468.289904, \"place_in_line\": 33653504.446921, \"price_per_pod\": 0.83, \"date\": \"2022-03-27T00:00:00\"}, {\"amount\": 952.458778, \"place_in_line\": 33697972.736827, \"price_per_pod\": 0.93, \"date\": \"2022-04-12T00:00:00\"}, {\"amount\": 45464.425563, \"place_in_line\": 33698925.195605, \"price_per_pod\": 0.93, \"date\": \"2022-04-12T00:00:00\"}, {\"amount\": 5000.0, \"place_in_line\": 339785493.449995, \"price_per_pod\": 0.05, \"date\": \"2022-09-06T00:00:00\"}, {\"amount\": 149346.87032, \"place_in_line\": 339790493.449995, \"price_per_pod\": 0.05, \"date\": \"2022-09-06T00:00:00\"}, {\"amount\": 61482.926829, \"place_in_line\": 339939840.320315, \"price_per_pod\": 0.0041, \"date\": \"2022-09-07T00:00:00\"}, {\"amount\": 4460.707602, \"place_in_line\": 35443835.431735, \"price_per_pod\": 0.45, \"date\": \"2022-03-06T00:00:00\"}, {\"amount\": 10664.522666, \"place_in_line\": 35448296.139339, \"price_per_pod\": 0.5, \"date\": \"2022-03-10T00:00:00\"}, {\"amount\": 8622.953342, \"place_in_line\": 35458960.662005, \"price_per_pod\": 0.5, \"date\": \"2022-03-10T00:00:00\"}, {\"amount\": 10448.687894, \"place_in_line\": 35467583.615347, \"price_per_pod\": 0.5, \"date\": \"2022-03-10T00:00:00\"}, {\"amount\": 2067.065581, \"place_in_line\": 35478032.303241, \"price_per_pod\": 0.5, \"date\": \"2022-03-10T00:00:00\"}, {\"amount\": 85000.0, \"place_in_line\": 359920402.458005, \"price_per_pod\": 0.042, \"date\": \"2022-02-18T00:00:00\"}, {\"amount\": 103299.890816, \"place_in_line\": 360158682.891399, \"price_per_pod\": 0.094, \"date\": \"2022-04-11T00:00:00\"}, {\"amount\": 96553.480454, \"place_in_line\": 360752435.09954, \"price_per_pod\": 0.094, \"date\": \"2022-04-11T00:00:00\"}, {\"amount\": 34267.517805, \"place_in_line\": 361632377.443041, \"price_per_pod\": 0.12, \"date\": \"2022-04-13T00:00:00\"}, {\"amount\": 34267.517805, \"place_in_line\": 361632377.443041, \"price_per_pod\": 0.148, \"date\": \"2022-04-14T00:00:00\"}, {\"amount\": 20000.0, \"place_in_line\": 36360237.801568, \"price_per_pod\": 0.25, \"date\": \"2022-02-07T00:00:00\"}, {\"amount\": 46584.908798, \"place_in_line\": 36313652.89277, \"price_per_pod\": 0.25, \"date\": \"2022-02-08T00:00:00\"}, {\"amount\": 7745.596697, \"place_in_line\": 36313652.89277, \"price_per_pod\": 0.38, \"date\": \"2022-02-18T00:00:00\"}, {\"amount\": 2138.743042, \"place_in_line\": 36321398.489467, \"price_per_pod\": 0.38, \"date\": \"2022-02-27T00:00:00\"}, {\"amount\": 12626.256958, \"place_in_line\": 36323537.232509, \"price_per_pod\": 0.38, \"date\": \"2022-03-05T00:00:00\"}, {\"amount\": 20195.0, \"place_in_line\": 36336163.489467, \"price_per_pod\": 0.45, \"date\": \"2022-03-09T00:00:00\"}, {\"amount\": 3879.3121, \"place_in_line\": 36356358.489467, \"price_per_pod\": 0.75, \"date\": \"2022-03-27T00:00:00\"}, {\"amount\": 2007.046073, \"place_in_line\": 36360237.801568, \"price_per_pod\": 0.38, \"date\": \"2022-02-11T00:00:00\"}, {\"amount\": 1531.485463, \"place_in_line\": 36362244.847641, \"price_per_pod\": 0.38, \"date\": \"2022-02-12T00:00:00\"}, {\"amount\": 3845.038436, \"place_in_line\": 36363776.333104, \"price_per_pod\": 0.38, \"date\": \"2022-02-13T00:00:00\"}, {\"amount\": 1000.0, \"place_in_line\": 36367621.37154, \"price_per_pod\": 0.38, \"date\": \"2022-02-16T00:00:00\"}, {\"amount\": 8711.204228, \"place_in_line\": 36368621.37154, \"price_per_pod\": 0.38, \"date\": \"2022-02-17T00:00:00\"}, {\"amount\": 8711.204226, \"place_in_line\": 36368621.37154, \"price_per_pod\": 0.78, \"date\": \"2022-03-27T00:00:00\"}, {\"amount\": 1087.2258, \"place_in_line\": 36377332.575768, \"price_per_pod\": 0.38, \"date\": \"2022-02-17T00:00:00\"}, {\"amount\": 36470.588235, \"place_in_line\": 36806228.457873, \"price_per_pod\": 0.85, \"date\": \"2022-04-04T00:00:00\"}, {\"amount\": 3682.533616, \"place_in_line\": 36842699.046108, \"price_per_pod\": 0.85, \"date\": \"2022-04-09T00:00:00\"}, {\"amount\": 23976.666666, \"place_in_line\": 36846381.579724, \"price_per_pod\": 0.9, \"date\": \"2022-04-12T00:00:00\"}, {\"amount\": 10845.490477, \"place_in_line\": 36870358.24639, \"price_per_pod\": 0.9, \"date\": \"2022-04-12T00:00:00\"}, {\"amount\": 7267.06796, \"place_in_line\": 373918682.959704, \"price_per_pod\": 0.2, \"date\": \"2022-04-13T00:00:00\"}, {\"amount\": 45302.31889, \"place_in_line\": 373925950.027664, \"price_per_pod\": 0.2, \"date\": \"2022-04-17T00:00:00\"}, {\"amount\": 40248.448544, \"place_in_line\": 373971252.346554, \"price_per_pod\": 0.2, \"date\": \"2022-04-17T00:00:00\"}, {\"amount\": 4230.684, \"place_in_line\": 376423657.311762, \"price_per_pod\": 0.05, \"date\": \"2022-08-30T00:00:00\"}, {\"amount\": 38949.31654, \"place_in_line\": 376427887.995762, \"price_per_pod\": 0.05, \"date\": \"2022-08-30T00:00:00\"}, {\"amount\": 130000.0, \"place_in_line\": 376466837.312302, \"price_per_pod\": 0.05, \"date\": \"2022-09-02T00:00:00\"}, {\"amount\": 291195.4154, \"place_in_line\": 378988426.62692, \"price_per_pod\": 0.01, \"date\": \"2022-08-15T00:00:00\"}, {\"amount\": 2765.214517, \"place_in_line\": 379499473.122812, \"price_per_pod\": 0.06, \"date\": \"2022-04-14T00:00:00\"}, {\"amount\": 2765.214517, \"place_in_line\": 379499473.122812, \"price_per_pod\": 0.15, \"date\": \"2022-04-16T00:00:00\"}, {\"amount\": 4380.730981, \"place_in_line\": 383565939.19195, \"price_per_pod\": 0.15, \"date\": \"2022-04-15T00:00:00\"}, {\"amount\": 4380.730981, \"place_in_line\": 383565939.19195, \"price_per_pod\": 0.025, \"date\": \"2022-04-11T00:00:00\"}, {\"amount\": 26917.828556, \"place_in_line\": 384105638.332381, \"price_per_pod\": 0.15, \"date\": \"2022-04-14T00:00:00\"}, {\"amount\": 26917.828556, \"place_in_line\": 384105638.332381, \"price_per_pod\": 0.04, \"date\": \"2022-04-12T00:00:00\"}, {\"amount\": 107637.536296, \"place_in_line\": 384284223.137807, \"price_per_pod\": 0.09, \"date\": \"2022-03-17T00:00:00\"}, {\"amount\": 35453.723781, \"place_in_line\": 387265643.983999, \"price_per_pod\": 0.05, \"date\": \"2022-02-05T00:00:00\"}, {\"amount\": 20044.08096, \"place_in_line\": 387301097.70778, \"price_per_pod\": 0.05, \"date\": \"2022-02-06T00:00:00\"}, {\"amount\": 21300.990257, \"place_in_line\": 387321141.78874, \"price_per_pod\": 0.025, \"date\": \"2022-02-06T00:00:00\"}, {\"amount\": 13913.764863, \"place_in_line\": 396658256.087892, \"price_per_pod\": 0.03, \"date\": \"2022-03-07T00:00:00\"}, {\"amount\": 78790.3767, \"place_in_line\": 399960218.444224, \"price_per_pod\": 0.01, \"date\": \"2022-08-15T00:00:00\"}, {\"amount\": 72913.082044, \"place_in_line\": 400039008.820924, \"price_per_pod\": 0.01, \"date\": \"2022-08-15T00:00:00\"}, {\"amount\": 5931.754665, \"place_in_line\": 40016336.000939, \"price_per_pod\": 0.2, \"date\": \"2022-02-06T00:00:00\"}, {\"amount\": 33796.0, \"place_in_line\": 401405678.29034, \"price_per_pod\": 0.024, \"date\": \"2022-03-06T00:00:00\"}, {\"amount\": 36511.874656, \"place_in_line\": 401405678.29034, \"price_per_pod\": 0.011, \"date\": \"2022-03-03T00:00:00\"}, {\"amount\": 2715.874656, \"place_in_line\": 401439474.29034, \"price_per_pod\": 0.15, \"date\": \"2022-04-15T00:00:00\"}, {\"amount\": 42326.378229, \"place_in_line\": 401959009.163867, \"price_per_pod\": 0.09, \"date\": \"2022-04-11T00:00:00\"}, {\"amount\": 53919.698039, \"place_in_line\": 402764778.389025, \"price_per_pod\": 0.09, \"date\": \"2022-04-11T00:00:00\"}, {\"amount\": 21768.70748, \"place_in_line\": 403097227.09233, \"price_per_pod\": 0.075, \"date\": \"2022-04-09T00:00:00\"}, {\"amount\": 38776.273614, \"place_in_line\": 403097227.09233, \"price_per_pod\": 0.05, \"date\": \"2022-04-07T00:00:00\"}, {\"amount\": 17007.566134, \"place_in_line\": 403118995.79981, \"price_per_pod\": 0.075, \"date\": \"2022-04-11T00:00:00\"}, {\"amount\": 4560.09157, \"place_in_line\": 404072352.993016, \"price_per_pod\": 0.2, \"date\": \"2022-04-17T00:00:00\"}, {\"amount\": 56782.954188, \"place_in_line\": 404743790.158374, \"price_per_pod\": 0.09, \"date\": \"2022-04-11T00:00:00\"}, {\"amount\": 555.555555, \"place_in_line\": 404800573.112562, \"price_per_pod\": 0.09, \"date\": \"2022-04-12T00:00:00\"}, {\"amount\": 6518.016107, \"place_in_line\": 404801128.668117, \"price_per_pod\": 0.09, \"date\": \"2022-04-12T00:00:00\"}, {\"amount\": 6518.016107, \"place_in_line\": 404801128.668117, \"price_per_pod\": 0.035, \"date\": \"2022-04-12T00:00:00\"}, {\"amount\": 483255.91458, \"place_in_line\": 405009250.17802, \"price_per_pod\": 0.05, \"date\": \"2022-03-11T00:00:00\"}, {\"amount\": 262.152482, \"place_in_line\": 405492506.0926, \"price_per_pod\": 0.05, \"date\": \"2022-03-15T00:00:00\"}, {\"amount\": 18025.0, \"place_in_line\": 405644627.639939, \"price_per_pod\": 0.02, \"date\": \"2022-03-21T00:00:00\"}, {\"amount\": 18025.0, \"place_in_line\": 405662652.639939, \"price_per_pod\": 0.02, \"date\": \"2022-03-21T00:00:00\"}, {\"amount\": 3993.93396, \"place_in_line\": 405968762.010244, \"price_per_pod\": 0.05, \"date\": \"2022-03-26T00:00:00\"}, {\"amount\": 5702.918963, \"place_in_line\": 405962579.975371, \"price_per_pod\": 0.02, \"date\": \"2022-03-26T00:00:00\"}, {\"amount\": 479.11591, \"place_in_line\": 405968282.894334, \"price_per_pod\": 0.05, \"date\": \"2022-03-26T00:00:00\"}, {\"amount\": 2000.0, \"place_in_line\": 405970755.94420403, \"price_per_pod\": 0.221, \"date\": \"2022-04-13T00:00:00\"}, {\"amount\": 3993.93396, \"place_in_line\": 405968762.010244, \"price_per_pod\": 0.1, \"date\": \"2022-04-12T00:00:00\"}, {\"amount\": 655.888982, \"place_in_line\": 40848235.510054, \"price_per_pod\": 0.4, \"date\": \"2022-03-06T00:00:00\"}, {\"amount\": 655.888982, \"place_in_line\": 40848235.510054, \"price_per_pod\": 0.25, \"date\": \"2022-03-11T00:00:00\"}, {\"amount\": 18658.460216, \"place_in_line\": 40848891.399036, \"price_per_pod\": 0.6, \"date\": \"2022-03-15T00:00:00\"}, {\"amount\": 10500.0, \"place_in_line\": 40867549.859252, \"price_per_pod\": 0.6, \"date\": \"2022-03-15T00:00:00\"}, {\"amount\": 4557.68978, \"place_in_line\": 40878049.859252, \"price_per_pod\": 0.6, \"date\": \"2022-03-16T00:00:00\"}, {\"amount\": 13667.205471, \"place_in_line\": 40882607.549032, \"price_per_pod\": 0.6, \"date\": \"2022-03-17T00:00:00\"}, {\"amount\": 54252.678768, \"place_in_line\": 40896274.754503, \"price_per_pod\": 0.6, \"date\": \"2022-03-17T00:00:00\"}, {\"amount\": 5000.0, \"place_in_line\": 40950527.433271, \"price_per_pod\": 0.6, \"date\": \"2022-03-21T00:00:00\"}, {\"amount\": 490.06817, \"place_in_line\": 40955527.433271, \"price_per_pod\": 0.6, \"date\": \"2022-03-23T00:00:00\"}, {\"amount\": 42886.134095, \"place_in_line\": 40956017.501441, \"price_per_pod\": 0.6, \"date\": \"2022-03-25T00:00:00\"}, {\"amount\": 1570.0, \"place_in_line\": 411688335.001233, \"price_per_pod\": 0.15, \"date\": \"2022-04-16T00:00:00\"}, {\"amount\": 1570.0, \"place_in_line\": 411688335.001233, \"price_per_pod\": 0.05, \"date\": \"2022-03-16T00:00:00\"}, {\"amount\": 1055.270312, \"place_in_line\": 41577617.82097, \"price_per_pod\": 0.8, \"date\": \"2022-04-09T00:00:00\"}, {\"amount\": 378.155157, \"place_in_line\": 41578673.091282, \"price_per_pod\": 0.8, \"date\": \"2022-04-09T00:00:00\"}, {\"amount\": 100.0, \"place_in_line\": 41579051.246439, \"price_per_pod\": 0.9, \"date\": \"2022-04-12T00:00:00\"}, {\"amount\": 1598.495397, \"place_in_line\": 41579051.246439, \"price_per_pod\": 0.8, \"date\": \"2022-04-09T00:00:00\"}, {\"amount\": 819.243978, \"place_in_line\": 41579151.246439, \"price_per_pod\": 0.9, \"date\": \"2022-04-13T00:00:00\"}, {\"amount\": 679.251418, \"place_in_line\": 41579970.490417, \"price_per_pod\": 0.9, \"date\": \"2022-04-13T00:00:00\"}, {\"amount\": 3385.197106, \"place_in_line\": 41580649.741836, \"price_per_pod\": 0.8, \"date\": \"2022-04-12T00:00:00\"}, {\"amount\": 12762.369497, \"place_in_line\": 41584034.938942, \"price_per_pod\": 0.8, \"date\": \"2022-04-12T00:00:00\"}, {\"amount\": 6052.292936, \"place_in_line\": 41596797.308439, \"price_per_pod\": 0.8, \"date\": \"2022-04-12T00:00:00\"}, {\"amount\": 1488.416475, \"place_in_line\": 41602849.601375, \"price_per_pod\": 0.8, \"date\": \"2022-04-12T00:00:00\"}, {\"amount\": 41102.223522, \"place_in_line\": 41604338.01785, \"price_per_pod\": 0.8, \"date\": \"2022-04-12T00:00:00\"}, {\"amount\": 3344.111018, \"place_in_line\": 42446543.126905, \"price_per_pod\": 0.25, \"date\": \"2022-03-12T00:00:00\"}, {\"amount\": 100000.0, \"place_in_line\": 42171298.965051, \"price_per_pod\": 0.8, \"date\": \"2022-04-12T00:00:00\"}, {\"amount\": 2406.0, \"place_in_line\": 422363385.300603, \"price_per_pod\": 0.15, \"date\": \"2022-04-14T00:00:00\"}, {\"amount\": 3204.0, \"place_in_line\": 422363385.300603, \"price_per_pod\": 0.05, \"date\": \"2022-03-16T00:00:00\"}, {\"amount\": 798.0, \"place_in_line\": 422365791.300603, \"price_per_pod\": 0.15, \"date\": \"2022-04-16T00:00:00\"}, {\"amount\": 3344.111015, \"place_in_line\": 42446543.126905, \"price_per_pod\": 0.69, \"date\": \"2022-03-25T00:00:00\"}, {\"amount\": 3344.111016, \"place_in_line\": 42446543.126905, \"price_per_pod\": 0.65, \"date\": \"2022-03-17T00:00:00\"}, {\"amount\": 230.290114, \"place_in_line\": 42612301.09903, \"price_per_pod\": 0.67, \"date\": \"2022-03-14T00:00:00\"}, {\"amount\": 17177.210709, \"place_in_line\": 42612531.389144, \"price_per_pod\": 0.54, \"date\": \"2022-03-24T00:00:00\"}, {\"amount\": 11308.354191, \"place_in_line\": 42629708.599853, \"price_per_pod\": 0.97, \"date\": \"2022-04-14T00:00:00\"}, {\"amount\": 11397.865855, \"place_in_line\": 42629708.599853, \"price_per_pod\": 0.54, \"date\": \"2022-03-24T00:00:00\"}, {\"amount\": 89.511663, \"place_in_line\": 42641016.954044, \"price_per_pod\": 0.97, \"date\": \"2022-04-15T00:00:00\"}, {\"amount\": 71871.378944, \"place_in_line\": 42641106.465708, \"price_per_pod\": 0.54, \"date\": \"2022-03-25T00:00:00\"}, {\"amount\": 5347.909057, \"place_in_line\": 42882676.93898, \"price_per_pod\": 0.85, \"date\": \"2022-04-09T00:00:00\"}, {\"amount\": 1687.620902, \"place_in_line\": 42712977.844654, \"price_per_pod\": 0.85, \"date\": \"2022-04-12T00:00:00\"}, {\"amount\": 458.785549, \"place_in_line\": 42982676.93898, \"price_per_pod\": 0.85, \"date\": \"2022-04-03T00:00:00\"}, {\"amount\": 30000.0, \"place_in_line\": 42832676.938980006, \"price_per_pod\": 0.85, \"date\": \"2022-04-12T00:00:00\"}, {\"amount\": 23583.682378, \"place_in_line\": 42714665.465556, \"price_per_pod\": 0.85, \"date\": \"2022-04-12T00:00:00\"}, {\"amount\": 45416.317621, \"place_in_line\": 42738249.147934, \"price_per_pod\": 0.85, \"date\": \"2022-04-12T00:00:00\"}, {\"amount\": 2433.904683, \"place_in_line\": 42783665.465555, \"price_per_pod\": 0.97, \"date\": \"2022-04-14T00:00:00\"}, {\"amount\": 49011.473424, \"place_in_line\": 42783665.465555, \"price_per_pod\": 0.87, \"date\": \"2022-04-12T00:00:00\"}, {\"amount\": 22484.619286, \"place_in_line\": 42786099.370238, \"price_per_pod\": 0.97, \"date\": \"2022-04-14T00:00:00\"}, {\"amount\": 7000.0, \"place_in_line\": 42808583.989524, \"price_per_pod\": 0.97, \"date\": \"2022-04-14T00:00:00\"}, {\"amount\": 20000.0, \"place_in_line\": 42862676.93898, \"price_per_pod\": 0.85, \"date\": \"2022-04-12T00:00:00\"}, {\"amount\": 428.279265, \"place_in_line\": 42888024.848037, \"price_per_pod\": 0.75, \"date\": \"2022-04-10T00:00:00\"}, {\"amount\": 8000.0, \"place_in_line\": 42888453.127302, \"price_per_pod\": 0.75, \"date\": \"2022-04-10T00:00:00\"}, {\"amount\": 10138.39796, \"place_in_line\": 42896453.127302, \"price_per_pod\": 0.75, \"date\": \"2022-04-11T00:00:00\"}, {\"amount\": 76085.413717, \"place_in_line\": 42906591.525262, \"price_per_pod\": 0.75, \"date\": \"2022-04-12T00:00:00\"}, {\"amount\": 6700.0, \"place_in_line\": 42983135.724529, \"price_per_pod\": 0.75, \"date\": \"2022-04-12T00:00:00\"}, {\"amount\": 8000.0, \"place_in_line\": 42989835.724529, \"price_per_pod\": 0.75, \"date\": \"2022-04-12T00:00:00\"}, {\"amount\": 4110.176622, \"place_in_line\": 42997835.724529, \"price_per_pod\": 0.77, \"date\": \"2022-04-12T00:00:00\"}, {\"amount\": 80731.037828, \"place_in_line\": 43001945.901151, \"price_per_pod\": 0.77, \"date\": \"2022-04-12T00:00:00\"}, {\"amount\": 13113.713192, \"place_in_line\": 43644802.606019, \"price_per_pod\": 0.38, \"date\": \"2022-02-10T00:00:00\"}, {\"amount\": 2725.077554, \"place_in_line\": 43657916.319211, \"price_per_pod\": 0.55, \"date\": \"2022-03-17T00:00:00\"}, {\"amount\": 20000.0, \"place_in_line\": 43657916.319211, \"price_per_pod\": 0.25, \"date\": \"2022-03-11T00:00:00\"}, {\"amount\": 20000.0, \"place_in_line\": 43657916.319211, \"price_per_pod\": 0.297, \"date\": \"2022-03-06T00:00:00\"}, {\"amount\": 482.531652, \"place_in_line\": 43660641.396765, \"price_per_pod\": 0.55, \"date\": \"2022-03-18T00:00:00\"}, {\"amount\": 482.531651, \"place_in_line\": 43660641.396765, \"price_per_pod\": 0.9, \"date\": \"2022-04-14T00:00:00\"}, {\"amount\": 4987.726658, \"place_in_line\": 43661123.928417, \"price_per_pod\": 0.55, \"date\": \"2022-03-18T00:00:00\"}, {\"amount\": 4263.308614, \"place_in_line\": 43666111.655075, \"price_per_pod\": 0.55, \"date\": \"2022-03-18T00:00:00\"}, {\"amount\": 4263.308613, \"place_in_line\": 43666111.655075, \"price_per_pod\": 0.65, \"date\": \"2022-03-31T00:00:00\"}, {\"amount\": 7541.355521, \"place_in_line\": 43670374.963689, \"price_per_pod\": 0.55, \"date\": \"2022-03-18T00:00:00\"}, {\"amount\": 7541.35552, \"place_in_line\": 43670374.963689, \"price_per_pod\": 0.6, \"date\": \"2022-03-25T00:00:00\"}, {\"amount\": 20412.646464, \"place_in_line\": 43677916.319211, \"price_per_pod\": 0.297, \"date\": \"2022-03-09T00:00:00\"}, {\"amount\": 5334.210734, \"place_in_line\": 43698328.965675, \"price_per_pod\": 0.297, \"date\": \"2022-03-09T00:00:00\"}, {\"amount\": 41139.42961, \"place_in_line\": 43703663.176409, \"price_per_pod\": 0.297, \"date\": \"2022-03-09T00:00:00\"}, {\"amount\": 20462.88775, \"place_in_line\": 437580444.503704, \"price_per_pod\": 0.072, \"date\": \"2022-04-01T00:00:00\"}, {\"amount\": 5663.243298, \"place_in_line\": 437600907.391454, \"price_per_pod\": 0.174, \"date\": \"2022-04-16T00:00:00\"}, {\"amount\": 8428.341425, \"place_in_line\": 437606570.634752, \"price_per_pod\": 0.174, \"date\": \"2022-04-17T00:00:00\"}, {\"amount\": 3211.926275, \"place_in_line\": 437614998.976177, \"price_per_pod\": 0.174, \"date\": \"2022-04-17T00:00:00\"}, {\"amount\": 3211.888888, \"place_in_line\": 437614998.976177, \"price_per_pod\": 0.09, \"date\": \"2022-08-07T00:00:00\"}, {\"amount\": 8274.303563, \"place_in_line\": 437618210.902452, \"price_per_pod\": 0.174, \"date\": \"2022-04-17T00:00:00\"}, {\"amount\": 8274.303563, \"place_in_line\": 437618210.902452, \"price_per_pod\": 0.05, \"date\": \"2022-08-07T00:00:00\"}, {\"amount\": 18797.185439, \"place_in_line\": 437626485.206015, \"price_per_pod\": 0.174, \"date\": \"2022-04-17T00:00:00\"}, {\"amount\": 49538.069617, \"place_in_line\": 441693260.358454, \"price_per_pod\": 0.068, \"date\": \"2022-04-09T00:00:00\"}, {\"amount\": 10461.930383, \"place_in_line\": 441742798.428071, \"price_per_pod\": 0.068, \"date\": \"2022-04-12T00:00:00\"}, {\"amount\": 1993.82242, \"place_in_line\": 44517420.441953, \"price_per_pod\": 0.9, \"date\": \"2022-04-14T00:00:00\"}, {\"amount\": 16235.0, \"place_in_line\": 446779863.150493, \"price_per_pod\": 0.075, \"date\": \"2022-04-12T00:00:00\"}, {\"amount\": 50000.0, \"place_in_line\": 44683804.119946, \"price_per_pod\": 0.89, \"date\": \"2022-04-14T00:00:00\"}, {\"amount\": 9899.100291, \"place_in_line\": 44733804.119946, \"price_per_pod\": 0.89, \"date\": \"2022-04-14T00:00:00\"}, {\"amount\": 14187.664589, \"place_in_line\": 44743703.220237, \"price_per_pod\": 0.89, \"date\": \"2022-04-14T00:00:00\"}, {\"amount\": 45100.630178, \"place_in_line\": 44757890.884826, \"price_per_pod\": 0.89, \"date\": \"2022-04-14T00:00:00\"}, {\"amount\": 2694.713257, \"place_in_line\": 451881155.731609, \"price_per_pod\": 0.18, \"date\": \"2022-04-16T00:00:00\"}, {\"amount\": 8473.153625, \"place_in_line\": 451952602.171871, \"price_per_pod\": 0.04, \"date\": \"2022-04-01T00:00:00\"}, {\"amount\": 6675.646701, \"place_in_line\": 456553811.49869, \"price_per_pod\": 0.058, \"date\": \"2022-04-07T00:00:00\"}, {\"amount\": 15747.001562, \"place_in_line\": 45779640.850882, \"price_per_pod\": 0.99, \"date\": \"2022-04-15T00:00:00\"}, {\"amount\": 13246.174941, \"place_in_line\": 45795387.852444, \"price_per_pod\": 0.99, \"date\": \"2022-04-15T00:00:00\"}, {\"amount\": 60000.0, \"place_in_line\": 462281867.766454, \"price_per_pod\": 0.059, \"date\": \"2022-04-07T00:00:00\"}, {\"amount\": 12155.421305, \"place_in_line\": 463414838.278024, \"price_per_pod\": 0.15, \"date\": \"2022-04-13T00:00:00\"}, {\"amount\": 12043.89813, \"place_in_line\": 464408576.24118, \"price_per_pod\": 0.119, \"date\": \"2022-04-15T00:00:00\"}, {\"amount\": 1685.616675, \"place_in_line\": 467315572.517841, \"price_per_pod\": 0.07, \"date\": \"2022-04-16T00:00:00\"}, {\"amount\": 1685.577968, \"place_in_line\": 467317258.134516, \"price_per_pod\": 0.07, \"date\": \"2022-04-16T00:00:00\"}, {\"amount\": 8954.859874, \"place_in_line\": 46856996.902504, \"price_per_pod\": 0.42069, \"date\": \"2022-03-20T00:00:00\"}, {\"amount\": 8954.859873, \"place_in_line\": 46856996.902504, \"price_per_pod\": 0.64, \"date\": \"2022-04-02T00:00:00\"}, {\"amount\": 2349.612372, \"place_in_line\": 46865951.762378, \"price_per_pod\": 0.25, \"date\": \"2022-03-01T00:00:00\"}, {\"amount\": 500.0, \"place_in_line\": 46868301.37475, \"price_per_pod\": 0.18, \"date\": \"2022-03-03T00:00:00\"}, {\"amount\": 17072.714466, \"place_in_line\": 46868801.37475, \"price_per_pod\": 0.18, \"date\": \"2022-03-03T00:00:00\"}, {\"amount\": 3116.43932, \"place_in_line\": 46868801.37475, \"price_per_pod\": 0.655, \"date\": \"2022-03-25T00:00:00\"}, {\"amount\": 7943.281528, \"place_in_line\": 46871917.81407, \"price_per_pod\": 0.655, \"date\": \"2022-03-31T00:00:00\"}, {\"amount\": 6012.993616, \"place_in_line\": 46879861.095598, \"price_per_pod\": 0.655, \"date\": \"2022-04-05T00:00:00\"}, {\"amount\": 4143.576718, \"place_in_line\": 46885874.089216, \"price_per_pod\": 0.79, \"date\": \"2022-04-12T00:00:00\"}, {\"amount\": 30312.828021, \"place_in_line\": 47321517.557564, \"price_per_pod\": 0.69, \"date\": \"2022-04-11T00:00:00\"}, {\"amount\": 376.511327, \"place_in_line\": 47421517.557564, \"price_per_pod\": 0.69, \"date\": \"2022-04-10T00:00:00\"}, {\"amount\": 166288.899719, \"place_in_line\": 470702637.131879, \"price_per_pod\": 0.018, \"date\": \"2022-03-15T00:00:00\"}, {\"amount\": 100323.0, \"place_in_line\": 470702637.131879, \"price_per_pod\": 0.069, \"date\": \"2022-04-05T00:00:00\"}, {\"amount\": 69687.171978, \"place_in_line\": 47351830.385585, \"price_per_pod\": 0.69, \"date\": \"2022-04-12T00:00:00\"}, {\"amount\": 50000.0, \"place_in_line\": 47421894.068891, \"price_per_pod\": 0.68, \"date\": \"2022-04-10T00:00:00\"}, {\"amount\": 5887.33463, \"place_in_line\": 47471894.068891, \"price_per_pod\": 0.68, \"date\": \"2022-04-10T00:00:00\"}, {\"amount\": 32352.941176, \"place_in_line\": 47477781.403521, \"price_per_pod\": 0.68, \"date\": \"2022-04-11T00:00:00\"}, {\"amount\": 11383.212866, \"place_in_line\": 47510134.344697, \"price_per_pod\": 0.68, \"date\": \"2022-04-11T00:00:00\"}, {\"amount\": 30759.746461, \"place_in_line\": 47530545.601306, \"price_per_pod\": 0.265, \"date\": \"2022-02-07T00:00:00\"}, {\"amount\": 16000.0, \"place_in_line\": 47581305.347766995, \"price_per_pod\": 0.25, \"date\": \"2022-02-06T00:00:00\"}, {\"amount\": 20000.0, \"place_in_line\": 47561305.347766995, \"price_per_pod\": 0.25, \"date\": \"2022-02-06T00:00:00\"}, {\"amount\": 2166.098933, \"place_in_line\": 47561305.347767, \"price_per_pod\": 0.74, \"date\": \"2022-04-09T00:00:00\"}, {\"amount\": 2166.098932, \"place_in_line\": 47561305.347767, \"price_per_pod\": 0.9, \"date\": \"2022-04-13T00:00:00\"}, {\"amount\": 10000.0, \"place_in_line\": 47561305.347767, \"price_per_pod\": 0.49, \"date\": \"2022-02-07T00:00:00\"}, {\"amount\": 895.982605, \"place_in_line\": 47563471.4467, \"price_per_pod\": 0.89, \"date\": \"2022-04-13T00:00:00\"}, {\"amount\": 2160.553367, \"place_in_line\": 47563471.4467, \"price_per_pod\": 0.74, \"date\": \"2022-04-09T00:00:00\"}, {\"amount\": 1264.570761, \"place_in_line\": 47564367.429305, \"price_per_pod\": 0.89, \"date\": \"2022-04-13T00:00:00\"}, {\"amount\": 4423.548117, \"place_in_line\": 47565632.000067, \"price_per_pod\": 0.92, \"date\": \"2022-04-14T00:00:00\"}, {\"amount\": 4423.548118, \"place_in_line\": 47565632.000067, \"price_per_pod\": 0.74, \"date\": \"2022-04-12T00:00:00\"}, {\"amount\": 1249.799581, \"place_in_line\": 47570055.548185, \"price_per_pod\": 0.74, \"date\": \"2022-04-12T00:00:00\"}, {\"amount\": 2000.0, \"place_in_line\": 47571305.347767, \"price_per_pod\": 0.49, \"date\": \"2022-02-09T00:00:00\"}, {\"amount\": 16000.0, \"place_in_line\": 47581305.347767, \"price_per_pod\": 0.25, \"date\": \"2022-03-08T00:00:00\"}, {\"amount\": 14523.272406, \"place_in_line\": 47597305.347767, \"price_per_pod\": 0.265, \"date\": \"2022-02-07T00:00:00\"}, {\"amount\": 10238.172246, \"place_in_line\": 47633593.791656, \"price_per_pod\": 0.78, \"date\": \"2022-04-12T00:00:00\"}, {\"amount\": 493.432238, \"place_in_line\": 48279460.448812, \"price_per_pod\": 0.42, \"date\": \"2022-03-04T00:00:00\"}, {\"amount\": 730.35855, \"place_in_line\": 48269460.448812, \"price_per_pod\": 0.42, \"date\": \"2022-03-13T00:00:00\"}, {\"amount\": 4269.0, \"place_in_line\": 48275191.448812, \"price_per_pod\": 0.52, \"date\": \"2022-03-13T00:00:00\"}, {\"amount\": 4269.0, \"place_in_line\": 48275191.448812, \"price_per_pod\": 0.64, \"date\": \"2022-04-08T00:00:00\"}, {\"amount\": 12566.933733, \"place_in_line\": 48279953.88105, \"price_per_pod\": 0.21, \"date\": \"2022-03-06T00:00:00\"}, {\"amount\": 10151.634029, \"place_in_line\": 48292520.814783, \"price_per_pod\": 0.21, \"date\": \"2022-03-06T00:00:00\"}, {\"amount\": 32339.941743, \"place_in_line\": 48383341.927353, \"price_per_pod\": 0.37, \"date\": \"2022-03-09T00:00:00\"}, {\"amount\": 3484.401554, \"place_in_line\": 48415681.869096, \"price_per_pod\": 0.37, \"date\": \"2022-03-10T00:00:00\"}, {\"amount\": 9435.437298, \"place_in_line\": 48419166.27065, \"price_per_pod\": 0.37, \"date\": \"2022-03-11T00:00:00\"}, {\"amount\": 20000.0, \"place_in_line\": 48447512.649054, \"price_per_pod\": 0.5, \"date\": \"2022-03-26T00:00:00\"}, {\"amount\": 20680.0, \"place_in_line\": 48503965.121819995, \"price_per_pod\": 0.35, \"date\": \"2022-03-14T00:00:00\"}, {\"amount\": 4578.181818, \"place_in_line\": 48467512.649054, \"price_per_pod\": 0.55, \"date\": \"2022-03-28T00:00:00\"}, {\"amount\": 10000.0, \"place_in_line\": 48493965.121819995, \"price_per_pod\": 0.45, \"date\": \"2022-03-27T00:00:00\"}, {\"amount\": 10000.0, \"place_in_line\": 48483965.121819995, \"price_per_pod\": 0.45, \"date\": \"2022-03-27T00:00:00\"}, {\"amount\": 11874.290947, \"place_in_line\": 48472090.830872, \"price_per_pod\": 0.55, \"date\": \"2022-03-28T00:00:00\"}, {\"amount\": 1422.076188, \"place_in_line\": 48472090.830872, \"price_per_pod\": 0.69, \"date\": \"2022-04-06T00:00:00\"}, {\"amount\": 10452.214757, \"place_in_line\": 48473512.90706, \"price_per_pod\": 0.64, \"date\": \"2022-04-08T00:00:00\"}, {\"amount\": 3384.907472, \"place_in_line\": 48493965.12182, \"price_per_pod\": 0.7, \"date\": \"2022-04-11T00:00:00\"}, {\"amount\": 1054.0, \"place_in_line\": 48503965.12182, \"price_per_pod\": 0.5, \"date\": \"2022-03-24T00:00:00\"}, {\"amount\": 17125.52103, \"place_in_line\": 48505019.12182, \"price_per_pod\": 0.5, \"date\": \"2022-03-25T00:00:00\"}, {\"amount\": 2500.47897, \"place_in_line\": 48522144.64285, \"price_per_pod\": 0.5, \"date\": \"2022-03-25T00:00:00\"}, {\"amount\": 5663.730255, \"place_in_line\": 48712174.944159, \"price_per_pod\": 0.65, \"date\": \"2022-04-07T00:00:00\"}, {\"amount\": 25981.775065, \"place_in_line\": 48646656.12182, \"price_per_pod\": 0.82, \"date\": \"2022-04-12T00:00:00\"}, {\"amount\": 29698.122534, \"place_in_line\": 48672637.896885, \"price_per_pod\": 0.93, \"date\": \"2022-04-14T00:00:00\"}, {\"amount\": 29698.122535, \"place_in_line\": 48672637.896885, \"price_per_pod\": 0.82, \"date\": \"2022-04-12T00:00:00\"}, {\"amount\": 880.671171, \"place_in_line\": 48702336.01942, \"price_per_pod\": 0.82, \"date\": \"2022-04-13T00:00:00\"}, {\"amount\": 8958.253567, \"place_in_line\": 48703216.690591, \"price_per_pod\": 0.82, \"date\": \"2022-04-13T00:00:00\"}, {\"amount\": 27885.76435, \"place_in_line\": 48717838.674414, \"price_per_pod\": 0.65, \"date\": \"2022-04-07T00:00:00\"}, {\"amount\": 5541.538461, \"place_in_line\": 48745724.438764, \"price_per_pod\": 0.65, \"date\": \"2022-04-08T00:00:00\"}, {\"amount\": 2475.926693, \"place_in_line\": 48751265.977225, \"price_per_pod\": 0.82, \"date\": \"2022-04-13T00:00:00\"}, {\"amount\": 12557.807798, \"place_in_line\": 48753741.903918, \"price_per_pod\": 0.82, \"date\": \"2022-04-13T00:00:00\"}, {\"amount\": 716.70244, \"place_in_line\": 48766299.711716, \"price_per_pod\": 0.82, \"date\": \"2022-04-13T00:00:00\"}, {\"amount\": 947.495139, \"place_in_line\": 48767016.414156, \"price_per_pod\": 0.82, \"date\": \"2022-04-13T00:00:00\"}, {\"amount\": 27095.0, \"place_in_line\": 48767963.909295, \"price_per_pod\": 0.82, \"date\": \"2022-04-13T00:00:00\"}, {\"amount\": 14262.679957, \"place_in_line\": 48795058.909295, \"price_per_pod\": 0.82, \"date\": \"2022-04-13T00:00:00\"}, {\"amount\": 2853.354906, \"place_in_line\": 48809321.589252, \"price_per_pod\": 0.82, \"date\": \"2022-04-13T00:00:00\"}, {\"amount\": 5561.73126, \"place_in_line\": 490256846.516323, \"price_per_pod\": 0.05, \"date\": \"2022-02-07T00:00:00\"}, {\"amount\": 500000.0, \"place_in_line\": 490699224.23427194, \"price_per_pod\": 0.012, \"date\": \"2022-03-09T00:00:00\"}, {\"amount\": 111570.0, \"place_in_line\": 490699224.234272, \"price_per_pod\": 0.03, \"date\": \"2022-03-09T00:00:00\"}, {\"amount\": 16666.666666, \"place_in_line\": 490810794.234272, \"price_per_pod\": 0.03, \"date\": \"2022-03-10T00:00:00\"}, {\"amount\": 134211.333334, \"place_in_line\": 490827460.900938, \"price_per_pod\": 0.03, \"date\": \"2022-03-11T00:00:00\"}, {\"amount\": 127509.8648, \"place_in_line\": 490961672.234272, \"price_per_pod\": 0.04, \"date\": \"2022-03-12T00:00:00\"}, {\"amount\": 9542.503575, \"place_in_line\": 491089182.099072, \"price_per_pod\": 0.08, \"date\": \"2022-08-08T00:00:00\"}, {\"amount\": 26604.1352, \"place_in_line\": 491089182.099072, \"price_per_pod\": 0.04, \"date\": \"2022-03-14T00:00:00\"}, {\"amount\": 6469.033333, \"place_in_line\": 491098724.602647, \"price_per_pod\": 0.048, \"date\": \"2022-09-03T00:00:00\"}, {\"amount\": 54054.054054, \"place_in_line\": 491115786.234272, \"price_per_pod\": 0.074, \"date\": \"2022-03-17T00:00:00\"}, {\"amount\": 7468.303231, \"place_in_line\": 491169840.288326, \"price_per_pod\": 0.069, \"date\": \"2022-03-30T00:00:00\"}, {\"amount\": 21915.642715, \"place_in_line\": 491177308.591557, \"price_per_pod\": 0.166, \"date\": \"2022-04-12T00:00:00\"}, {\"amount\": 21915.642715, \"place_in_line\": 491177308.591557, \"price_per_pod\": 0.069, \"date\": \"2022-04-01T00:00:00\"}, {\"amount\": 5000.0, \"place_in_line\": 49781331.75645, \"price_per_pod\": 0.81, \"date\": \"2022-04-13T00:00:00\"}, {\"amount\": 28016.504304, \"place_in_line\": 49786331.75645, \"price_per_pod\": 0.81, \"date\": \"2022-04-13T00:00:00\"}, {\"amount\": 9508.783587, \"place_in_line\": 49814348.260754, \"price_per_pod\": 0.81, \"date\": \"2022-04-13T00:00:00\"}, {\"amount\": 35690.455307, \"place_in_line\": 49823857.044341, \"price_per_pod\": 0.81, \"date\": \"2022-04-13T00:00:00\"}, {\"amount\": 10416.666666, \"place_in_line\": 50095590.593713, \"price_per_pod\": 0.96, \"date\": \"2022-04-15T00:00:00\"}, {\"amount\": 46663.0, \"place_in_line\": 50106007.260379, \"price_per_pod\": 0.96, \"date\": \"2022-04-15T00:00:00\"}, {\"amount\": 3573.614263, \"place_in_line\": 50152670.260379, \"price_per_pod\": 0.96, \"date\": \"2022-04-16T00:00:00\"}, {\"amount\": 19118.812229, \"place_in_line\": 50156243.874642, \"price_per_pod\": 0.96, \"date\": \"2022-04-16T00:00:00\"}, {\"amount\": 24556.629647, \"place_in_line\": 50175362.686871, \"price_per_pod\": 0.96, \"date\": \"2022-04-16T00:00:00\"}, {\"amount\": 995.305321, \"place_in_line\": 50199919.316519, \"price_per_pod\": 0.6, \"date\": \"2022-02-06T00:00:00\"}, {\"amount\": 9004.694677, \"place_in_line\": 50200914.62184, \"price_per_pod\": 0.49, \"date\": \"2022-02-07T00:00:00\"}, {\"amount\": 6395.046102, \"place_in_line\": 50200914.62184, \"price_per_pod\": 0.975, \"date\": \"2022-04-15T00:00:00\"}, {\"amount\": 2609.648574, \"place_in_line\": 50207309.667942, \"price_per_pod\": 0.975, \"date\": \"2022-04-16T00:00:00\"}, {\"amount\": 409.734322, \"place_in_line\": 50209919.316519, \"price_per_pod\": 0.45, \"date\": \"2022-04-03T00:00:00\"}, {\"amount\": 61560.768641, \"place_in_line\": 506102777.589203, \"price_per_pod\": 0.01, \"date\": \"2022-08-15T00:00:00\"}, {\"amount\": 7692.307692, \"place_in_line\": 513181895.808128, \"price_per_pod\": 0.13, \"date\": \"2022-04-16T00:00:00\"}, {\"amount\": 35590.0, \"place_in_line\": 513181895.808128, \"price_per_pod\": 0.065, \"date\": \"2022-04-12T00:00:00\"}, {\"amount\": 312607.15245, \"place_in_line\": 52707434.283111, \"price_per_pod\": 0.12, \"date\": \"2022-02-24T00:00:00\"}, {\"amount\": 29857.571563, \"place_in_line\": 538324084.737008, \"price_per_pod\": 0.01, \"date\": \"2022-08-15T00:00:00\"}, {\"amount\": 26915.995911, \"place_in_line\": 541679847.367551, \"price_per_pod\": 0.0212, \"date\": \"2022-08-07T00:00:00\"}, {\"amount\": 3119.075316, \"place_in_line\": 54329725.407961, \"price_per_pod\": 0.92, \"date\": \"2022-04-15T00:00:00\"}, {\"amount\": 3171.534884, \"place_in_line\": 54332844.483277, \"price_per_pod\": 0.92, \"date\": \"2022-04-15T00:00:00\"}, {\"amount\": 3709.3898, \"place_in_line\": 54336016.018161, \"price_per_pod\": 0.92, \"date\": \"2022-04-15T00:00:00\"}, {\"amount\": 397510.122725, \"place_in_line\": 591794773.294125, \"price_per_pod\": 0.06, \"date\": \"2022-04-12T00:00:00\"}, {\"amount\": 52835.637822, \"place_in_line\": 592192283.41685, \"price_per_pod\": 0.06, \"date\": \"2022-04-12T00:00:00\"}, {\"amount\": 6561.326212, \"place_in_line\": 592967559.033979, \"price_per_pod\": 0.055, \"date\": \"2022-04-12T00:00:00\"}, {\"amount\": 150000.0, \"place_in_line\": 609009158.318525, \"price_per_pod\": 0.06, \"date\": \"2022-04-14T00:00:00\"}, {\"amount\": 1500.0, \"place_in_line\": 612614464.925164, \"price_per_pod\": 0.9971, \"date\": \"2022-03-27T00:00:00\"}, {\"amount\": 316.832137, \"place_in_line\": 61628545.548819, \"price_per_pod\": 0.64, \"date\": \"2022-08-20T00:00:00\"}, {\"amount\": 763.789095, \"place_in_line\": 61590791.622395, \"price_per_pod\": 0.64, \"date\": \"2022-08-28T00:00:00\"}, {\"amount\": 10000.0, \"place_in_line\": 61638545.548819, \"price_per_pod\": 0.64, \"date\": \"2022-08-18T00:00:00\"}, {\"amount\": 435.653558, \"place_in_line\": 61648545.548819, \"price_per_pod\": 0.64, \"date\": \"2022-08-12T00:00:00\"}, {\"amount\": 76.923076, \"place_in_line\": 61618545.548819, \"price_per_pod\": 0.64, \"date\": \"2022-08-21T00:00:00\"}, {\"amount\": 1666.666666, \"place_in_line\": 61591555.41149, \"price_per_pod\": 0.6, \"date\": \"2022-08-31T00:00:00\"}, {\"amount\": 25323.470663, \"place_in_line\": 61593222.078156, \"price_per_pod\": 0.52, \"date\": \"2022-09-07T00:00:00\"}, {\"amount\": 24.5942, \"place_in_line\": 61618622.471895, \"price_per_pod\": 0.65, \"date\": \"2022-08-22T00:00:00\"}, {\"amount\": 616.643076, \"place_in_line\": 61618647.066095, \"price_per_pod\": 0.65, \"date\": \"2022-08-23T00:00:00\"}, {\"amount\": 253.481723, \"place_in_line\": 61619263.709171, \"price_per_pod\": 0.65, \"date\": \"2022-08-23T00:00:00\"}, {\"amount\": 9028.357925, \"place_in_line\": 61619517.190894, \"price_per_pod\": 0.59, \"date\": \"2022-08-28T00:00:00\"}, {\"amount\": 9028.357925, \"place_in_line\": 61619517.190894, \"price_per_pod\": 0.55, \"date\": \"2022-08-23T00:00:00\"}, {\"amount\": 1624.738693, \"place_in_line\": 61628862.380956, \"price_per_pod\": 0.62, \"date\": \"2022-08-23T00:00:00\"}, {\"amount\": 8058.429169, \"place_in_line\": 61630487.119649, \"price_per_pod\": 0.62, \"date\": \"2022-08-26T00:00:00\"}, {\"amount\": 9564.346441, \"place_in_line\": 61648981.202377, \"price_per_pod\": 0.6, \"date\": \"2022-08-17T00:00:00\"}, {\"amount\": 15686.547585, \"place_in_line\": 621047974.340633, \"price_per_pod\": 0.09, \"date\": \"2022-04-12T00:00:00\"}, {\"amount\": 5788.17026, \"place_in_line\": 622995115.594871, \"price_per_pod\": 0.05, \"date\": \"2022-04-12T00:00:00\"}, {\"amount\": 13450.27974, \"place_in_line\": 623000903.765131, \"price_per_pod\": 0.05, \"date\": \"2022-04-12T00:00:00\"}, {\"amount\": 30150.0, \"place_in_line\": 623883983.044871, \"price_per_pod\": 0.1, \"date\": \"2022-04-17T00:00:00\"}, {\"amount\": 253050.0, \"place_in_line\": 625298680.160271, \"price_per_pod\": 0.09, \"date\": \"2022-04-12T00:00:00\"}, {\"amount\": 14602.52552, \"place_in_line\": 625899610.647771, \"price_per_pod\": 0.1, \"date\": \"2022-04-16T00:00:00\"}, {\"amount\": 1165.87945, \"place_in_line\": 625914213.173291, \"price_per_pod\": 0.1, \"date\": \"2022-04-17T00:00:00\"}, {\"amount\": 18284.6154, \"place_in_line\": 629670321.709709, \"price_per_pod\": 0.01, \"date\": \"2022-03-04T00:00:00\"}, {\"amount\": 21159.782439, \"place_in_line\": 630926654.506278, \"price_per_pod\": 0.041, \"date\": \"2022-03-21T00:00:00\"}, {\"amount\": 75915.0, \"place_in_line\": 631117707.256278, \"price_per_pod\": 0.0395, \"date\": \"2022-03-29T00:00:00\"}, {\"amount\": 488149.24397, \"place_in_line\": 636847008.762039, \"price_per_pod\": 0.05, \"date\": \"2022-03-17T00:00:00\"}, {\"amount\": 3774.608352, \"place_in_line\": 640240084.788517, \"price_per_pod\": 0.034, \"date\": \"2022-03-20T00:00:00\"}, {\"amount\": 2638.341158, \"place_in_line\": 640243859.396869, \"price_per_pod\": 0.034, \"date\": \"2022-03-26T00:00:00\"}, {\"amount\": 40691.5332, \"place_in_line\": 641335218.453068, \"price_per_pod\": 0.02, \"date\": \"2022-03-09T00:00:00\"}, {\"amount\": 16603.151206, \"place_in_line\": 641375909.986268, \"price_per_pod\": 0.02, \"date\": \"2022-03-10T00:00:00\"}, {\"amount\": 114580.0, \"place_in_line\": 643112195.637173, \"price_per_pod\": 0.145, \"date\": \"2022-04-12T00:00:00\"}, {\"amount\": 20467.308746, \"place_in_line\": 643671292.393858, \"price_per_pod\": 0.075, \"date\": \"2022-04-17T00:00:00\"}, {\"amount\": 20467.308746, \"place_in_line\": 643671292.393858, \"price_per_pod\": 0.0212, \"date\": \"2022-08-07T00:00:00\"}, {\"amount\": 1759.031988, \"place_in_line\": 643691759.702604, \"price_per_pod\": 0.075, \"date\": \"2022-04-17T00:00:00\"}, {\"amount\": 12525.1265, \"place_in_line\": 656295710.754397, \"price_per_pod\": 0.02, \"date\": \"2022-03-10T00:00:00\"}, {\"amount\": 135804.736673, \"place_in_line\": 659059601.095085, \"price_per_pod\": 0.021, \"date\": \"2022-03-27T00:00:00\"}, {\"amount\": 135804.736673, \"place_in_line\": 659059601.095085, \"price_per_pod\": 0.055, \"date\": \"2022-04-10T00:00:00\"}, {\"amount\": 26072.576416, \"place_in_line\": 66034079.644085, \"price_per_pod\": 0.89, \"date\": \"2022-04-11T00:00:00\"}, {\"amount\": 2240.24991, \"place_in_line\": 65959662.644085, \"price_per_pod\": 0.89, \"date\": \"2022-04-16T00:00:00\"}, {\"amount\": 10898.078686, \"place_in_line\": 66060152.220501, \"price_per_pod\": 0.6, \"date\": \"2022-04-12T00:00:00\"}, {\"amount\": 6440.533562, \"place_in_line\": 66071050.299187, \"price_per_pod\": 0.75, \"date\": \"2022-04-13T00:00:00\"}, {\"amount\": 4285.968142, \"place_in_line\": 66077490.832749, \"price_per_pod\": 0.88, \"date\": \"2022-08-07T00:00:00\"}, {\"amount\": 4297.401417, \"place_in_line\": 66077490.832749, \"price_per_pod\": 0.75, \"date\": \"2022-04-13T00:00:00\"}, {\"amount\": 11.407582, \"place_in_line\": 66081776.800891, \"price_per_pod\": 0.88, \"date\": \"2022-08-07T00:00:00\"}, {\"amount\": 0.025693, \"place_in_line\": 66081788.208473, \"price_per_pod\": 0.88, \"date\": \"2022-08-07T00:00:00\"}, {\"amount\": 2981.427168, \"place_in_line\": 66081788.234166, \"price_per_pod\": 0.91, \"date\": \"2022-04-16T00:00:00\"}, {\"amount\": 2981.427169, \"place_in_line\": 66081788.234166, \"price_per_pod\": 0.75, \"date\": \"2022-04-13T00:00:00\"}, {\"amount\": 7048.876233, \"place_in_line\": 66084769.661335, \"price_per_pod\": 0.75, \"date\": \"2022-04-13T00:00:00\"}, {\"amount\": 6537.846472, \"place_in_line\": 66091818.537568, \"price_per_pod\": 0.75, \"date\": \"2022-04-13T00:00:00\"}, {\"amount\": 4000.480096, \"place_in_line\": 663099266.111562, \"price_per_pod\": 0.001, \"date\": \"2022-02-26T00:00:00\"}, {\"amount\": 94598.0, \"place_in_line\": 672599944.217095, \"price_per_pod\": 0.06, \"date\": \"2022-04-13T00:00:00\"}, {\"amount\": 11565.6118, \"place_in_line\": 692168843.768664, \"price_per_pod\": 0.025, \"date\": \"2022-08-21T00:00:00\"}, {\"amount\": 12471.315402, \"place_in_line\": 692168843.768664, \"price_per_pod\": 0.001, \"date\": \"2022-04-17T00:00:00\"}, {\"amount\": 905.703602, \"place_in_line\": 692180409.380464, \"price_per_pod\": 0.025, \"date\": \"2022-08-22T00:00:00\"}, {\"amount\": 72530.0, \"place_in_line\": 693083416.760383, \"price_per_pod\": 0.017, \"date\": \"2022-03-12T00:00:00\"}, {\"amount\": 56385.1093, \"place_in_line\": 693193337.526291, \"price_per_pod\": 0.02, \"date\": \"2022-03-11T00:00:00\"}, {\"amount\": 37903.8907, \"place_in_line\": 693249722.635591, \"price_per_pod\": 0.02, \"date\": \"2022-03-11T00:00:00\"}, {\"amount\": 138626.226222, \"place_in_line\": 693535758.530681, \"price_per_pod\": 0.017, \"date\": \"2022-03-12T00:00:00\"}, {\"amount\": 4395.105822, \"place_in_line\": 693862296.947457, \"price_per_pod\": 0.032, \"date\": \"2022-03-17T00:00:00\"}, {\"amount\": 8976.1768, \"place_in_line\": 694491673.804561, \"price_per_pod\": 0.02, \"date\": \"2022-03-12T00:00:00\"}, {\"amount\": 74135.096485, \"place_in_line\": 694500649.981361, \"price_per_pod\": 0.02, \"date\": \"2022-03-12T00:00:00\"}, {\"amount\": 88383.049, \"place_in_line\": 694574785.077846, \"price_per_pod\": 0.03, \"date\": \"2022-03-13T00:00:00\"}, {\"amount\": 42152.951, \"place_in_line\": 694663168.1268461, \"price_per_pod\": 0.016, \"date\": \"2022-03-12T00:00:00\"}, {\"amount\": 4442.676388, \"place_in_line\": 695155947.986631, \"price_per_pod\": 0.015, \"date\": \"2022-03-13T00:00:00\"}, {\"amount\": 2442.109027, \"place_in_line\": 695170871.90674, \"price_per_pod\": 0.03, \"date\": \"2022-03-21T00:00:00\"}, {\"amount\": 5637.466721, \"place_in_line\": 695173314.015767, \"price_per_pod\": 0.028, \"date\": \"2022-03-26T00:00:00\"}, {\"amount\": 56964.081161, \"place_in_line\": 695196582.394395, \"price_per_pod\": 0.03, \"date\": \"2022-03-13T00:00:00\"}, {\"amount\": 4848.909225, \"place_in_line\": 695271790.792853, \"price_per_pod\": 0.04, \"date\": \"2022-03-18T00:00:00\"}, {\"amount\": 19019.15352, \"place_in_line\": 695276639.702078, \"price_per_pod\": 0.029, \"date\": \"2022-03-20T00:00:00\"}, {\"amount\": 4800.266302, \"place_in_line\": 695313182.010301, \"price_per_pod\": 0.032, \"date\": \"2022-03-29T00:00:00\"}, {\"amount\": 49547.619666, \"place_in_line\": 695337036.890007, \"price_per_pod\": 0.03, \"date\": \"2022-08-28T00:00:00\"}, {\"amount\": 60606.060606, \"place_in_line\": 695337036.890007, \"price_per_pod\": 0.033, \"date\": \"2022-03-17T00:00:00\"}, {\"amount\": 11058.44094, \"place_in_line\": 695386584.509673, \"price_per_pod\": 0.03, \"date\": \"2022-09-03T00:00:00\"}, {\"amount\": 10587.087636, \"place_in_line\": 695397642.950613, \"price_per_pod\": 0.033, \"date\": \"2022-03-17T00:00:00\"}, {\"amount\": 1458.416574, \"place_in_line\": 695408230.038249, \"price_per_pod\": 0.033, \"date\": \"2022-03-18T00:00:00\"}, {\"amount\": 8643.272696, \"place_in_line\": 695426166.696789, \"price_per_pod\": 0.045, \"date\": \"2022-03-26T00:00:00\"}, {\"amount\": 8643.272696, \"place_in_line\": 695426166.696789, \"price_per_pod\": 0.033, \"date\": \"2022-03-18T00:00:00\"}, {\"amount\": 20000.0, \"place_in_line\": 695447106.462249, \"price_per_pod\": 0.033, \"date\": \"2022-03-16T00:00:00\"}, {\"amount\": 28471.528595, \"place_in_line\": 695467106.462249, \"price_per_pod\": 0.033, \"date\": \"2022-03-17T00:00:00\"}, {\"amount\": 8038.918025, \"place_in_line\": 695504899.844259, \"price_per_pod\": 0.033, \"date\": \"2022-03-18T00:00:00\"}, {\"amount\": 5903.735025, \"place_in_line\": 695518171.327888, \"price_per_pod\": 0.038, \"date\": \"2022-03-26T00:00:00\"}, {\"amount\": 4971.925933, \"place_in_line\": 695524075.062913, \"price_per_pod\": 0.032, \"date\": \"2022-03-29T00:00:00\"}, {\"amount\": 8588.394184, \"place_in_line\": 695529046.988846, \"price_per_pod\": 0.025, \"date\": \"2022-03-26T00:00:00\"}, {\"amount\": 7448.178586, \"place_in_line\": 695602559.036865, \"price_per_pod\": 0.032, \"date\": \"2022-03-26T00:00:00\"}, {\"amount\": 857.142857, \"place_in_line\": 695610007.215451, \"price_per_pod\": 0.035, \"date\": \"2022-03-28T00:00:00\"}, {\"amount\": 3827.017628, \"place_in_line\": 695610864.358308, \"price_per_pod\": 0.035, \"date\": \"2022-03-30T00:00:00\"}, {\"amount\": 1788.298206, \"place_in_line\": 695614691.375936, \"price_per_pod\": 0.035, \"date\": \"2022-04-07T00:00:00\"}, {\"amount\": 7640.019972, \"place_in_line\": 695616479.674142, \"price_per_pod\": 0.035, \"date\": \"2022-03-27T00:00:00\"}, {\"amount\": 1561.0, \"place_in_line\": 695624119.694114, \"price_per_pod\": 0.06, \"date\": \"2022-04-17T00:00:00\"}, {\"amount\": 2768.287495, \"place_in_line\": 695625680.694114, \"price_per_pod\": 0.06, \"date\": \"2022-04-17T00:00:00\"}, {\"amount\": 143420.0, \"place_in_line\": 695628520.661609, \"price_per_pod\": 0.033, \"date\": \"2022-03-15T00:00:00\"}, {\"amount\": 20948.97713, \"place_in_line\": 695771940.661609, \"price_per_pod\": 0.023, \"date\": \"2022-09-01T00:00:00\"}, {\"amount\": 21000.0, \"place_in_line\": 695771940.661609, \"price_per_pod\": 0.033, \"date\": \"2022-03-18T00:00:00\"}, {\"amount\": 51.02287, \"place_in_line\": 695792889.638739, \"price_per_pod\": 0.023, \"date\": \"2022-09-03T00:00:00\"}, {\"amount\": 20000.0, \"place_in_line\": 695792940.661609, \"price_per_pod\": 0.033, \"date\": \"2022-03-18T00:00:00\"}, {\"amount\": 14524.410119, \"place_in_line\": 695812940.661609, \"price_per_pod\": 0.033, \"date\": \"2022-03-18T00:00:00\"}, {\"amount\": 2338.659386, \"place_in_line\": 695875040.256601, \"price_per_pod\": 0.06, \"date\": \"2022-04-17T00:00:00\"}, {\"amount\": 4160.0, \"place_in_line\": 695877378.915987, \"price_per_pod\": 0.05, \"date\": \"2022-04-14T00:00:00\"}, {\"amount\": 0.177195, \"place_in_line\": 695881538.915987, \"price_per_pod\": 0.05, \"date\": \"2022-04-16T00:00:00\"}, {\"amount\": 3618.830978, \"place_in_line\": 695883029.55147, \"price_per_pod\": 0.029, \"date\": \"2022-03-21T00:00:00\"}, {\"amount\": 8536.604345, \"place_in_line\": 695893457.979616, \"price_per_pod\": 0.001, \"date\": \"2022-04-17T00:00:00\"}, {\"amount\": 3085.12416, \"place_in_line\": 695893457.979616, \"price_per_pod\": 0.025, \"date\": \"2022-08-22T00:00:00\"}, {\"amount\": 4394.12604, \"place_in_line\": 695896543.103776, \"price_per_pod\": 0.025, \"date\": \"2022-08-22T00:00:00\"}, {\"amount\": 1040.0, \"place_in_line\": 695900937.229816, \"price_per_pod\": 0.025, \"date\": \"2022-08-28T00:00:00\"}, {\"amount\": 15032.871752, \"place_in_line\": 695933552.068087, \"price_per_pod\": 0.06, \"date\": \"2022-04-17T00:00:00\"}, {\"amount\": 2308.620655, \"place_in_line\": 695948584.939839, \"price_per_pod\": 0.029, \"date\": \"2022-03-20T00:00:00\"}, {\"amount\": 7385.494623, \"place_in_line\": 695950893.560494, \"price_per_pod\": 0.029, \"date\": \"2022-03-21T00:00:00\"}, {\"amount\": 70921.5625, \"place_in_line\": 695993270.29395, \"price_per_pod\": 0.033, \"date\": \"2022-03-16T00:00:00\"}, {\"amount\": 8232.935488, \"place_in_line\": 697000732.780868, \"price_per_pod\": 0.032, \"date\": \"2022-03-26T00:00:00\"}, {\"amount\": 971.681987, \"place_in_line\": 697182071.282595, \"price_per_pod\": 0.032, \"date\": \"2022-03-26T00:00:00\"}, {\"amount\": 233865.679687, \"place_in_line\": 697462003.533001, \"price_per_pod\": 0.03, \"date\": \"2022-03-17T00:00:00\"}, {\"amount\": 151773.247545, \"place_in_line\": 697695869.212688, \"price_per_pod\": 0.033, \"date\": \"2022-03-17T00:00:00\"}, {\"amount\": 8422.147424, \"place_in_line\": 697847642.460233, \"price_per_pod\": 0.033, \"date\": \"2022-03-18T00:00:00\"}, {\"amount\": 30000.0, \"place_in_line\": 697856064.607657, \"price_per_pod\": 0.033, \"date\": \"2022-03-18T00:00:00\"}, {\"amount\": 22691.440968, \"place_in_line\": 697886064.607657, \"price_per_pod\": 0.033, \"date\": \"2022-03-18T00:00:00\"}, {\"amount\": 9388.515625, \"place_in_line\": 697945151.970404, \"price_per_pod\": 0.033, \"date\": \"2022-03-18T00:00:00\"}, {\"amount\": 9388.515625, \"place_in_line\": 697945151.970404, \"price_per_pod\": 0.066, \"date\": \"2022-04-01T00:00:00\"}, {\"amount\": 85060.9375, \"place_in_line\": 697954557.880858, \"price_per_pod\": 0.033, \"date\": \"2022-03-18T00:00:00\"}, {\"amount\": 1260.667121, \"place_in_line\": 697954557.880858, \"price_per_pod\": 0.066, \"date\": \"2022-03-18T00:00:00\"}, {\"amount\": 83800.270379, \"place_in_line\": 697955818.547979, \"price_per_pod\": 0.066, \"date\": \"2022-04-13T00:00:00\"}, {\"amount\": 20630.903371, \"place_in_line\": 698039662.814614, \"price_per_pod\": 0.035, \"date\": \"2022-03-18T00:00:00\"}, {\"amount\": 19937.578021, \"place_in_line\": 698060293.717985, \"price_per_pod\": 0.035, \"date\": \"2022-03-21T00:00:00\"}, {\"amount\": 56157.982228, \"place_in_line\": 698115995.386371, \"price_per_pod\": 0.035, \"date\": \"2022-03-18T00:00:00\"}, {\"amount\": 72498.84144, \"place_in_line\": 698172153.368599, \"price_per_pod\": 0.035, \"date\": \"2022-03-26T00:00:00\"}, {\"amount\": 5830.146448, \"place_in_line\": 698249185.306444, \"price_per_pod\": 0.029, \"date\": \"2022-03-20T00:00:00\"}, {\"amount\": 3549.072302, \"place_in_line\": 698255015.452892, \"price_per_pod\": 0.029, \"date\": \"2022-03-26T00:00:00\"}, {\"amount\": 6326.081465, \"place_in_line\": 698258586.850647, \"price_per_pod\": 0.035, \"date\": \"2022-03-19T00:00:00\"}, {\"amount\": 6326.081465, \"place_in_line\": 698258586.850647, \"price_per_pod\": 0.035, \"date\": \"2022-03-26T00:00:00\"}, {\"amount\": 5026.085154, \"place_in_line\": 698264912.932112, \"price_per_pod\": 0.034, \"date\": \"2022-03-29T00:00:00\"}, {\"amount\": 5486.788601, \"place_in_line\": 698269939.017266, \"price_per_pod\": 0.032, \"date\": \"2022-04-02T00:00:00\"}, {\"amount\": 285.714285, \"place_in_line\": 698277791.318224, \"price_per_pod\": 0.035, \"date\": \"2022-03-27T00:00:00\"}, {\"amount\": 4910.026986, \"place_in_line\": 698278077.032509, \"price_per_pod\": 0.03, \"date\": \"2022-04-07T00:00:00\"}, {\"amount\": 33939.057545, \"place_in_line\": 698298390.58, \"price_per_pod\": 0.025, \"date\": \"2022-09-06T00:00:00\"}, {\"amount\": 33939.057545, \"place_in_line\": 698298390.58, \"price_per_pod\": 0.033, \"date\": \"2022-03-19T00:00:00\"}, {\"amount\": 44433.251272, \"place_in_line\": 698332329.637545, \"price_per_pod\": 0.033, \"date\": \"2022-03-19T00:00:00\"}, {\"amount\": 8808.401866, \"place_in_line\": 698376762.888817, \"price_per_pod\": 0.03, \"date\": \"2022-03-19T00:00:00\"}, {\"amount\": 91670.6584, \"place_in_line\": 698385571.290683, \"price_per_pod\": 0.03, \"date\": \"2022-03-19T00:00:00\"}, {\"amount\": 3665.297857, \"place_in_line\": 698477241.949083, \"price_per_pod\": 0.028, \"date\": \"2022-03-21T00:00:00\"}, {\"amount\": 258192.517612, \"place_in_line\": 698480907.24694, \"price_per_pod\": 0.024, \"date\": \"2022-03-23T00:00:00\"}, {\"amount\": 150901.69284, \"place_in_line\": 698739309.824756, \"price_per_pod\": 0.025, \"date\": \"2022-03-24T00:00:00\"}, {\"amount\": 380793.55716, \"place_in_line\": 698890211.517596, \"price_per_pod\": 0.025, \"date\": \"2022-03-24T00:00:00\"}, {\"amount\": 70301.972656, \"place_in_line\": 699271094.629306, \"price_per_pod\": 0.033, \"date\": \"2022-03-30T00:00:00\"}, {\"amount\": 3222.535993, \"place_in_line\": 699422093.787082, \"price_per_pod\": 0.031, \"date\": \"2022-03-26T00:00:00\"}, {\"amount\": 53884.6875, \"place_in_line\": 700080929.167959, \"price_per_pod\": 0.026, \"date\": \"2022-03-26T00:00:00\"}, {\"amount\": 65168.474382, \"place_in_line\": 700134813.855459, \"price_per_pod\": 0.028, \"date\": \"2022-03-20T00:00:00\"}, {\"amount\": 9736.740736, \"place_in_line\": 700200685.33732, \"price_per_pod\": 0.035, \"date\": \"2022-03-27T00:00:00\"}, {\"amount\": 5382.798092, \"place_in_line\": 700304517.120513, \"price_per_pod\": 0.028, \"date\": \"2022-03-20T00:00:00\"}, {\"amount\": 43462.47735, \"place_in_line\": 700510367.842318, \"price_per_pod\": 0.027, \"date\": \"2022-03-21T00:00:00\"}, {\"amount\": 77913.0, \"place_in_line\": 700846296.54275, \"price_per_pod\": 0.028, \"date\": \"2022-03-20T00:00:00\"}, {\"amount\": 86043.643136, \"place_in_line\": 700924209.54275, \"price_per_pod\": 0.029, \"date\": \"2022-03-21T00:00:00\"}, {\"amount\": 5646.988248, \"place_in_line\": 701398278.226282, \"price_per_pod\": 0.035, \"date\": \"2022-04-01T00:00:00\"}, {\"amount\": 201965.0, \"place_in_line\": 701813606.595271, \"price_per_pod\": 0.027, \"date\": \"2022-03-21T00:00:00\"}, {\"amount\": 43494.915041, \"place_in_line\": 702015571.595271, \"price_per_pod\": 0.024, \"date\": \"2022-09-13T00:00:00\"}, {\"amount\": 109344.314075, \"place_in_line\": 702015571.595271, \"price_per_pod\": 0.025, \"date\": \"2022-03-25T00:00:00\"}, {\"amount\": 46563.701848, \"place_in_line\": 702124915.909346, \"price_per_pod\": 0.03, \"date\": \"2022-04-04T00:00:00\"}, {\"amount\": 6901.957424, \"place_in_line\": 702361734.822444, \"price_per_pod\": 0.032, \"date\": \"2022-03-29T00:00:00\"}, {\"amount\": 3801.049629, \"place_in_line\": 702368636.779868, \"price_per_pod\": 0.027, \"date\": \"2022-03-21T00:00:00\"}, {\"amount\": 224172.731213, \"place_in_line\": 702372437.829497, \"price_per_pod\": 0.027, \"date\": \"2022-03-26T00:00:00\"}, {\"amount\": 19191.681808, \"place_in_line\": 702596610.56071, \"price_per_pod\": 0.039, \"date\": \"2022-03-27T00:00:00\"}, {\"amount\": 154715.71785, \"place_in_line\": 702703326.884002, \"price_per_pod\": 0.025, \"date\": \"2022-03-25T00:00:00\"}, {\"amount\": 4335.852529, \"place_in_line\": 702866240.719683, \"price_per_pod\": 0.035, \"date\": \"2022-04-09T00:00:00\"}, {\"amount\": 4230.557254, \"place_in_line\": 704178510.601338, \"price_per_pod\": 0.033, \"date\": \"2022-03-26T00:00:00\"}, {\"amount\": 4990.270393, \"place_in_line\": 704205655.11752, \"price_per_pod\": 0.031, \"date\": \"2022-04-12T00:00:00\"}, {\"amount\": 5554.593027, \"place_in_line\": 704210645.387913, \"price_per_pod\": 0.026, \"date\": \"2022-03-26T00:00:00\"}, {\"amount\": 4579.348454, \"place_in_line\": 704242041.217758, \"price_per_pod\": 0.025, \"date\": \"2022-03-26T00:00:00\"}, {\"amount\": 40000.0, \"place_in_line\": 704261722.238546, \"price_per_pod\": 0.025, \"date\": \"2022-03-25T00:00:00\"}, {\"amount\": 131685.951867, \"place_in_line\": 704301722.238546, \"price_per_pod\": 0.025, \"date\": \"2022-03-26T00:00:00\"}, {\"amount\": 94264.084571, \"place_in_line\": 704463555.730413, \"price_per_pod\": 0.049, \"date\": \"2022-04-12T00:00:00\"}, {\"amount\": 117747.552306, \"place_in_line\": 704557819.814984, \"price_per_pod\": 0.049, \"date\": \"2022-04-12T00:00:00\"}, {\"amount\": 67704.30611, \"place_in_line\": 704675567.36729, \"price_per_pod\": 0.049, \"date\": \"2022-04-12T00:00:00\"}, {\"amount\": 11317.504822, \"place_in_line\": 704892188.84495, \"price_per_pod\": 0.035, \"date\": \"2022-03-27T00:00:00\"}, {\"amount\": 7279.671848, \"place_in_line\": 704919725.672132, \"price_per_pod\": 0.035, \"date\": \"2022-04-12T00:00:00\"}, {\"amount\": 10154.9375, \"place_in_line\": 705001660.805052, \"price_per_pod\": 0.035, \"date\": \"2022-03-27T00:00:00\"}, {\"amount\": 6902.0, \"place_in_line\": 705038731.064375, \"price_per_pod\": 0.031, \"date\": \"2022-04-06T00:00:00\"}, {\"amount\": 10900.958949, \"place_in_line\": 705045633.064375, \"price_per_pod\": 0.031, \"date\": \"2022-04-06T00:00:00\"}, {\"amount\": 11229.570252, \"place_in_line\": 705056534.023324, \"price_per_pod\": 0.06, \"date\": \"2022-04-13T00:00:00\"}, {\"amount\": 8204.345668, \"place_in_line\": 705128202.045096, \"price_per_pod\": 0.031, \"date\": \"2022-04-06T00:00:00\"}, {\"amount\": 11854.87105, \"place_in_line\": 705136406.390764, \"price_per_pod\": 0.031, \"date\": \"2022-04-06T00:00:00\"}, {\"amount\": 6258.715658, \"place_in_line\": 705157865.912363, \"price_per_pod\": 0.03, \"date\": \"2022-03-29T00:00:00\"}, {\"amount\": 3739.040895, \"place_in_line\": 705164124.628021, \"price_per_pod\": 0.032, \"date\": \"2022-03-29T00:00:00\"}, {\"amount\": 6544.832392, \"place_in_line\": 705174505.759843, \"price_per_pod\": 0.031, \"date\": \"2022-04-06T00:00:00\"}, {\"amount\": 5619.908813, \"place_in_line\": 705181050.592235, \"price_per_pod\": 0.032, \"date\": \"2022-03-29T00:00:00\"}, {\"amount\": 8182.8652, \"place_in_line\": 705186670.501048, \"price_per_pod\": 0.031, \"date\": \"2022-04-06T00:00:00\"}, {\"amount\": 7516.642526, \"place_in_line\": 705194853.366248, \"price_per_pod\": 0.031, \"date\": \"2022-04-09T00:00:00\"}, {\"amount\": 8688.2609, \"place_in_line\": 705202416.720908, \"price_per_pod\": 0.03, \"date\": \"2022-03-29T00:00:00\"}, {\"amount\": 4987.061378, \"place_in_line\": 705213144.042951, \"price_per_pod\": 0.03, \"date\": \"2022-03-27T00:00:00\"}, {\"amount\": 9969.767834, \"place_in_line\": 705218131.104329, \"price_per_pod\": 0.026, \"date\": \"2022-03-29T00:00:00\"}, {\"amount\": 5282.898032, \"place_in_line\": 705228100.872163, \"price_per_pod\": 0.032, \"date\": \"2022-03-29T00:00:00\"}, {\"amount\": 11803.118121, \"place_in_line\": 705241078.348938, \"price_per_pod\": 0.035, \"date\": \"2022-03-29T00:00:00\"}, {\"amount\": 8161.384731, \"place_in_line\": 705261555.332818, \"price_per_pod\": 0.031, \"date\": \"2022-04-12T00:00:00\"}, {\"amount\": 6586.391868, \"place_in_line\": 705272797.202231, \"price_per_pod\": 0.03, \"date\": \"2022-03-29T00:00:00\"}, {\"amount\": 9601.229268, \"place_in_line\": 705300848.161231, \"price_per_pod\": 0.03, \"date\": \"2022-04-11T00:00:00\"}, {\"amount\": 5533.4309, \"place_in_line\": 705310449.390499, \"price_per_pod\": 0.03, \"date\": \"2022-03-29T00:00:00\"}, {\"amount\": 8465.905213, \"place_in_line\": 705329714.38293, \"price_per_pod\": 0.031, \"date\": \"2022-04-12T00:00:00\"}, {\"amount\": 8462.180116, \"place_in_line\": 705338392.776362, \"price_per_pod\": 0.031, \"date\": \"2022-04-12T00:00:00\"}, {\"amount\": 9775.619115, \"place_in_line\": 705346854.956478, \"price_per_pod\": 0.029, \"date\": \"2022-03-29T00:00:00\"}, {\"amount\": 7138.14597, \"place_in_line\": 705356630.575593, \"price_per_pod\": 0.029, \"date\": \"2022-03-29T00:00:00\"}, {\"amount\": 11087.897889, \"place_in_line\": 705364047.968253, \"price_per_pod\": 0.029, \"date\": \"2022-03-29T00:00:00\"}, {\"amount\": 9438.007812, \"place_in_line\": 705375333.50758, \"price_per_pod\": 0.029, \"date\": \"2022-03-29T00:00:00\"}, {\"amount\": 3556.630272, \"place_in_line\": 705391462.535304, \"price_per_pod\": 0.031, \"date\": \"2022-04-12T00:00:00\"}, {\"amount\": 12728.017527, \"place_in_line\": 705395019.165576, \"price_per_pod\": 0.029, \"date\": \"2022-03-29T00:00:00\"}, {\"amount\": 10087.109324, \"place_in_line\": 705425628.545624, \"price_per_pod\": 0.031, \"date\": \"2022-04-12T00:00:00\"}, {\"amount\": 12054.054687, \"place_in_line\": 705435715.654948, \"price_per_pod\": 0.031, \"date\": \"2022-04-09T00:00:00\"}, {\"amount\": 10735.050747, \"place_in_line\": 705448059.080898, \"price_per_pod\": 0.03, \"date\": \"2022-04-06T00:00:00\"}, {\"amount\": 14347.680621, \"place_in_line\": 705458794.131645, \"price_per_pod\": 0.031, \"date\": \"2022-04-07T00:00:00\"}, {\"amount\": 8096.943325, \"place_in_line\": 705488811.259829, \"price_per_pod\": 0.031, \"date\": \"2022-04-12T00:00:00\"}, {\"amount\": 6674.520726, \"place_in_line\": 705525186.909119, \"price_per_pod\": 0.03, \"date\": \"2022-04-07T00:00:00\"}, {\"amount\": 11034.160064, \"place_in_line\": 705531861.429845, \"price_per_pod\": 0.031, \"date\": \"2022-03-30T00:00:00\"}, {\"amount\": 6773.0, \"place_in_line\": 705544231.584645, \"price_per_pod\": 0.031, \"date\": \"2022-03-31T00:00:00\"}, {\"amount\": 10697.128872, \"place_in_line\": 705556052.258123, \"price_per_pod\": 0.031, \"date\": \"2022-03-30T00:00:00\"}, {\"amount\": 8071.882778, \"place_in_line\": 705576972.299375, \"price_per_pod\": 0.031, \"date\": \"2022-03-31T00:00:00\"}, {\"amount\": 12970.687979, \"place_in_line\": 705592675.950611, \"price_per_pod\": 0.031, \"date\": \"2022-03-30T00:00:00\"}, {\"amount\": 14591.855468, \"place_in_line\": 705624046.02021, \"price_per_pod\": 0.031, \"date\": \"2022-03-30T00:00:00\"}, {\"amount\": 6225.710228, \"place_in_line\": 705654108.492, \"price_per_pod\": 0.03, \"date\": \"2022-04-07T00:00:00\"}, {\"amount\": 8376.502838, \"place_in_line\": 705667171.132654, \"price_per_pod\": 0.031, \"date\": \"2022-03-31T00:00:00\"}, {\"amount\": 291.802547, \"place_in_line\": 705675547.635524, \"price_per_pod\": 0.06, \"date\": \"2022-04-13T00:00:00\"}, {\"amount\": 6740.0, \"place_in_line\": 705687548.615966, \"price_per_pod\": 0.031, \"date\": \"2022-04-01T00:00:00\"}, {\"amount\": 8036.081997, \"place_in_line\": 705696667.564386, \"price_per_pod\": 0.031, \"date\": \"2022-03-31T00:00:00\"}, {\"amount\": 7056.375463, \"place_in_line\": 705704703.646383, \"price_per_pod\": 0.031, \"date\": \"2022-04-12T00:00:00\"}, {\"amount\": 6316.834733, \"place_in_line\": 705712512.774884, \"price_per_pod\": 0.031, \"date\": \"2022-04-01T00:00:00\"}, {\"amount\": 11609.907184, \"place_in_line\": 705718829.609617, \"price_per_pod\": 0.031, \"date\": \"2022-03-30T00:00:00\"}, {\"amount\": 15181.735301, \"place_in_line\": 705730439.516801, \"price_per_pod\": 0.032, \"date\": \"2022-04-12T00:00:00\"}, {\"amount\": 14199.853473, \"place_in_line\": 705745621.252102, \"price_per_pod\": 0.031, \"date\": \"2022-04-11T00:00:00\"}, {\"amount\": 12249.630834, \"place_in_line\": 705771520.865575, \"price_per_pod\": 0.031, \"date\": \"2022-04-11T00:00:00\"}, {\"amount\": 10944.597109, \"place_in_line\": 705821777.920352, \"price_per_pod\": 0.031, \"date\": \"2022-04-12T00:00:00\"}, {\"amount\": 7042.747045, \"place_in_line\": 705832722.517461, \"price_per_pod\": 0.059, \"date\": \"2022-04-13T00:00:00\"}, {\"amount\": 2181.092161, \"place_in_line\": 707740682.50805, \"price_per_pod\": 0.031, \"date\": \"2022-04-03T00:00:00\"}, {\"amount\": 1213.482835, \"place_in_line\": 707742863.600211, \"price_per_pod\": 0.031, \"date\": \"2022-04-12T00:00:00\"}, {\"amount\": 6581.626316, \"place_in_line\": 707744077.083046, \"price_per_pod\": 0.031, \"date\": \"2022-04-12T00:00:00\"}, {\"amount\": 8641.971662, \"place_in_line\": 707750658.709362, \"price_per_pod\": 0.031, \"date\": \"2022-04-12T00:00:00\"}, {\"amount\": 3405.655439, \"place_in_line\": 707764396.453467, \"price_per_pod\": 0.031, \"date\": \"2022-04-12T00:00:00\"}, {\"amount\": 14444.964843, \"place_in_line\": 707792108.369382, \"price_per_pod\": 0.031, \"date\": \"2022-04-03T00:00:00\"}, {\"amount\": 21869.865192, \"place_in_line\": 707806553.334225, \"price_per_pod\": 0.032, \"date\": \"2022-04-01T00:00:00\"}, {\"amount\": 14171.818173, \"place_in_line\": 707828423.199417, \"price_per_pod\": 0.031, \"date\": \"2022-03-31T00:00:00\"}, {\"amount\": 6681.0, \"place_in_line\": 707842595.01759, \"price_per_pod\": 0.03, \"date\": \"2022-04-12T00:00:00\"}, {\"amount\": 9148.374808, \"place_in_line\": 707849276.01759, \"price_per_pod\": 0.03, \"date\": \"2022-04-02T00:00:00\"}, {\"amount\": 7323.626903, \"place_in_line\": 707860938.916827, \"price_per_pod\": 0.04, \"date\": \"2022-04-13T00:00:00\"}, {\"amount\": 7323.626903, \"place_in_line\": 707860938.916827, \"price_per_pod\": 0.02, \"date\": \"2022-08-31T00:00:00\"}, {\"amount\": 10228.948233, \"place_in_line\": 707868262.54373, \"price_per_pod\": 0.033, \"date\": \"2022-04-12T00:00:00\"}, {\"amount\": 6672.0, \"place_in_line\": 707880777.724785, \"price_per_pod\": 0.058, \"date\": \"2022-04-13T00:00:00\"}, {\"amount\": 4969.664107, \"place_in_line\": 707887650.660405, \"price_per_pod\": 0.03, \"date\": \"2022-04-06T00:00:00\"}, {\"amount\": 7915.875, \"place_in_line\": 707901130.338305, \"price_per_pod\": 0.04, \"date\": \"2022-04-13T00:00:00\"}, {\"amount\": 8953.40625, \"place_in_line\": 707909046.213305, \"price_per_pod\": 0.04, \"date\": \"2022-04-12T00:00:00\"}, {\"amount\": 4502.537888, \"place_in_line\": 707919740.645652, \"price_per_pod\": 0.029, \"date\": \"2022-04-12T00:00:00\"}, {\"amount\": 6300.493418, \"place_in_line\": 707924243.18354, \"price_per_pod\": 0.054, \"date\": \"2022-04-13T00:00:00\"}, {\"amount\": 9357.1875, \"place_in_line\": 707930543.676958, \"price_per_pod\": 0.058, \"date\": \"2022-04-13T00:00:00\"}, {\"amount\": 8729.4375, \"place_in_line\": 707939900.864458, \"price_per_pod\": 0.061, \"date\": \"2022-04-13T00:00:00\"}, {\"amount\": 8313.75, \"place_in_line\": 707952799.836604, \"price_per_pod\": 0.058, \"date\": \"2022-04-13T00:00:00\"}, {\"amount\": 9556.5, \"place_in_line\": 707961290.879052, \"price_per_pod\": 0.058, \"date\": \"2022-04-13T00:00:00\"}, {\"amount\": 6350.838475, \"place_in_line\": 707970999.567062, \"price_per_pod\": 0.054, \"date\": \"2022-04-13T00:00:00\"}, {\"amount\": 13082.34375, \"place_in_line\": 707977350.405537, \"price_per_pod\": 0.045, \"date\": \"2022-04-13T00:00:00\"}, {\"amount\": 9963.0, \"place_in_line\": 707990432.749287, \"price_per_pod\": 0.045, \"date\": \"2022-04-13T00:00:00\"}, {\"amount\": 17642.8125, \"place_in_line\": 708000395.749287, \"price_per_pod\": 0.031, \"date\": \"2022-04-09T00:00:00\"}, {\"amount\": 15352.6875, \"place_in_line\": 708018123.634316, \"price_per_pod\": 0.03, \"date\": \"2022-04-12T00:00:00\"}, {\"amount\": 8605.86443, \"place_in_line\": 708043128.475053, \"price_per_pod\": 0.03, \"date\": \"2022-04-11T00:00:00\"}, {\"amount\": 12655.59375, \"place_in_line\": 708051734.339483, \"price_per_pod\": 0.03, \"date\": \"2022-04-12T00:00:00\"}, {\"amount\": 6157.413604, \"place_in_line\": 708064389.933233, \"price_per_pod\": 0.053, \"date\": \"2022-04-13T00:00:00\"}, {\"amount\": 13680.5625, \"place_in_line\": 708081968.129614, \"price_per_pod\": 0.03, \"date\": \"2022-04-12T00:00:00\"}, {\"amount\": 7458.75, \"place_in_line\": 708095822.174912, \"price_per_pod\": 0.059, \"date\": \"2022-04-13T00:00:00\"}, {\"amount\": 6479.854471, \"place_in_line\": 708113716.268815, \"price_per_pod\": 0.053, \"date\": \"2022-04-13T00:00:00\"}, {\"amount\": 10764.0, \"place_in_line\": 708120196.123304, \"price_per_pod\": 0.037, \"date\": \"2022-04-12T00:00:00\"}, {\"amount\": 9799.08, \"place_in_line\": 708130960.123304, \"price_per_pod\": 0.03, \"date\": \"2022-04-11T00:00:00\"}, {\"amount\": 16552.5, \"place_in_line\": 708140759.203304, \"price_per_pod\": 0.03, \"date\": \"2022-04-12T00:00:00\"}, {\"amount\": 18406.3125, \"place_in_line\": 708157311.703304, \"price_per_pod\": 0.03, \"date\": \"2022-04-12T00:00:00\"}, {\"amount\": 17984.53125, \"place_in_line\": 708175718.015804, \"price_per_pod\": 0.02, \"date\": \"2022-08-31T00:00:00\"}, {\"amount\": 17984.53125, \"place_in_line\": 708175718.015804, \"price_per_pod\": 0.03, \"date\": \"2022-04-12T00:00:00\"}, {\"amount\": 19836.0, \"place_in_line\": 708193702.547054, \"price_per_pod\": 0.045, \"date\": \"2022-04-13T00:00:00\"}, {\"amount\": 23544.5625, \"place_in_line\": 708213538.547054, \"price_per_pod\": 0.031, \"date\": \"2022-04-07T00:00:00\"}, {\"amount\": 11486.911677, \"place_in_line\": 708237083.109554, \"price_per_pod\": 0.031, \"date\": \"2022-04-02T00:00:00\"}, {\"amount\": 15762.838323, \"place_in_line\": 708248570.021231, \"price_per_pod\": 0.031, \"date\": \"2022-04-06T00:00:00\"}, {\"amount\": 11761.59375, \"place_in_line\": 708280126.020271, \"price_per_pod\": 0.03, \"date\": \"2022-04-11T00:00:00\"}, {\"amount\": 9285.46875, \"place_in_line\": 708295349.849925, \"price_per_pod\": 0.03, \"date\": \"2022-04-11T00:00:00\"}, {\"amount\": 16711.431033, \"place_in_line\": 708304635.318675, \"price_per_pod\": 0.03, \"date\": \"2022-04-12T00:00:00\"}, {\"amount\": 407.318967, \"place_in_line\": 708321346.749708, \"price_per_pod\": 0.03, \"date\": \"2022-04-13T00:00:00\"}, {\"amount\": 12287.980322, \"place_in_line\": 708321754.068675, \"price_per_pod\": 0.031, \"date\": \"2022-04-06T00:00:00\"}, {\"amount\": 4541.772237, \"place_in_line\": 708334042.048997, \"price_per_pod\": 0.031, \"date\": \"2022-04-12T00:00:00\"}, {\"amount\": 3184.477709, \"place_in_line\": 708357952.746096, \"price_per_pod\": 0.055, \"date\": \"2022-04-16T00:00:00\"}, {\"amount\": 6298.709791, \"place_in_line\": 708361137.223805, \"price_per_pod\": 0.055, \"date\": \"2022-04-16T00:00:00\"}, {\"amount\": 17103.1875, \"place_in_line\": 708367435.933596, \"price_per_pod\": 0.03, \"date\": \"2022-04-12T00:00:00\"}, {\"amount\": 3684.119765, \"place_in_line\": 708384539.121096, \"price_per_pod\": 0.047, \"date\": \"2022-04-15T00:00:00\"}, {\"amount\": 14647.098985, \"place_in_line\": 708388223.240861, \"price_per_pod\": 0.047, \"date\": \"2022-04-15T00:00:00\"}, {\"amount\": 15852.375, \"place_in_line\": 708402870.339846, \"price_per_pod\": 0.03, \"date\": \"2022-04-12T00:00:00\"}, {\"amount\": 21205.125, \"place_in_line\": 708418722.714846, \"price_per_pod\": 0.03, \"date\": \"2022-04-12T00:00:00\"}, {\"amount\": 23870.625, \"place_in_line\": 708439927.839846, \"price_per_pod\": 0.031, \"date\": \"2022-04-05T00:00:00\"}, {\"amount\": 22379.191354, \"place_in_line\": 708463798.464846, \"price_per_pod\": 0.031, \"date\": \"2022-04-03T00:00:00\"}, {\"amount\": 4154.496146, \"place_in_line\": 708486177.6562, \"price_per_pod\": 0.031, \"date\": \"2022-04-12T00:00:00\"}, {\"amount\": 10074.09375, \"place_in_line\": 708490332.152346, \"price_per_pod\": 0.03, \"date\": \"2022-04-12T00:00:00\"}, {\"amount\": 6381.63, \"place_in_line\": 708500406.246096, \"price_per_pod\": 0.03, \"date\": \"2022-04-06T00:00:00\"}, {\"amount\": 9748.779666, \"place_in_line\": 708517643.26603, \"price_per_pod\": 0.03, \"date\": \"2022-04-11T00:00:00\"}, {\"amount\": 1759.220334, \"place_in_line\": 708527392.045696, \"price_per_pod\": 0.03, \"date\": \"2022-04-12T00:00:00\"}, {\"amount\": 16021.6875, \"place_in_line\": 708529151.26603, \"price_per_pod\": 0.06, \"date\": \"2022-04-13T00:00:00\"}, {\"amount\": 9033.75, \"place_in_line\": 708545172.95353, \"price_per_pod\": 0.03, \"date\": \"2022-04-12T00:00:00\"}, {\"amount\": 14166.5625, \"place_in_line\": 708554206.70353, \"price_per_pod\": 0.058, \"date\": \"2022-04-13T00:00:00\"}, {\"amount\": 15004.452, \"place_in_line\": 708568373.26603, \"price_per_pod\": 0.03, \"date\": \"2022-04-11T00:00:00\"}, {\"amount\": 4491.32925, \"place_in_line\": 708583377.71803, \"price_per_pod\": 0.03, \"date\": \"2022-04-12T00:00:00\"}, {\"amount\": 20307.375, \"place_in_line\": 708587869.04728, \"price_per_pod\": 0.031, \"date\": \"2022-04-05T00:00:00\"}, {\"amount\": 26457.09375, \"place_in_line\": 708608176.42228, \"price_per_pod\": 0.031, \"date\": \"2022-04-04T00:00:00\"}, {\"amount\": 6953.6, \"place_in_line\": 708634811.376217, \"price_per_pod\": 0.03, \"date\": \"2022-04-06T00:00:00\"}, {\"amount\": 9545.312467, \"place_in_line\": 708641764.976217, \"price_per_pod\": 0.06, \"date\": \"2022-04-13T00:00:00\"}, {\"amount\": 5027.880322, \"place_in_line\": 708651444.037897, \"price_per_pod\": 0.029, \"date\": \"2022-04-12T00:00:00\"}, {\"amount\": 8111.120358, \"place_in_line\": 708656471.918219, \"price_per_pod\": 0.03, \"date\": \"2022-04-11T00:00:00\"}, {\"amount\": 8956.445312, \"place_in_line\": 708664583.038577, \"price_per_pod\": 0.029, \"date\": \"2022-04-11T00:00:00\"}, {\"amount\": 8159.246655, \"place_in_line\": 708673539.483889, \"price_per_pod\": 0.029, \"date\": \"2022-08-05T00:00:00\"}, {\"amount\": 25.673034, \"place_in_line\": 708681698.730544, \"price_per_pod\": 0.029, \"date\": \"2022-08-07T00:00:00\"}, {\"amount\": 6826.288981, \"place_in_line\": 708691820.417569, \"price_per_pod\": 0.029, \"date\": \"2022-04-12T00:00:00\"}, {\"amount\": 10768.570312, \"place_in_line\": 708698646.70655, \"price_per_pod\": 0.059, \"date\": \"2022-04-13T00:00:00\"}, {\"amount\": 7345.791596, \"place_in_line\": 708709415.276862, \"price_per_pod\": 0.03, \"date\": \"2022-04-12T00:00:00\"}, {\"amount\": 11928.928125, \"place_in_line\": 708716761.068458, \"price_per_pod\": 0.04, \"date\": \"2022-04-12T00:00:00\"}, {\"amount\": 17747.254687, \"place_in_line\": 708728894.392214, \"price_per_pod\": 0.047, \"date\": \"2022-04-15T00:00:00\"}, {\"amount\": 19873.525, \"place_in_line\": 708746641.646901, \"price_per_pod\": 0.031, \"date\": \"2022-04-06T00:00:00\"}, {\"amount\": 30143.670312, \"place_in_line\": 708766515.171901, \"price_per_pod\": 0.031, \"date\": \"2022-04-05T00:00:00\"}, {\"amount\": 28726.857973, \"place_in_line\": 708825794.614772, \"price_per_pod\": 0.03, \"date\": \"2022-04-05T00:00:00\"}, {\"amount\": 29699.46908, \"place_in_line\": 708854521.472745, \"price_per_pod\": 0.1, \"date\": \"2022-04-13T00:00:00\"}, {\"amount\": 34754.362784, \"place_in_line\": 708854521.472745, \"price_per_pod\": 0.031, \"date\": \"2022-04-06T00:00:00\"}, {\"amount\": 7654.771125, \"place_in_line\": 708927210.927759, \"price_per_pod\": 0.028, \"date\": \"2022-04-06T00:00:00\"}, {\"amount\": 13439.373437, \"place_in_line\": 708934865.698884, \"price_per_pod\": 0.059, \"date\": \"2022-04-13T00:00:00\"}, {\"amount\": 29093.546875, \"place_in_line\": 708967767.266128, \"price_per_pod\": 0.032, \"date\": \"2022-04-09T00:00:00\"}, {\"amount\": 13807.475, \"place_in_line\": 708996860.813003, \"price_per_pod\": 0.045, \"date\": \"2022-04-16T00:00:00\"}, {\"amount\": 16707.35, \"place_in_line\": 709010774.745723, \"price_per_pod\": 0.037, \"date\": \"2022-04-15T00:00:00\"}, {\"amount\": 12756.105568, \"place_in_line\": 709037114.700489, \"price_per_pod\": 0.03, \"date\": \"2022-04-07T00:00:00\"}, {\"amount\": 17834.375, \"place_in_line\": 709064906.743137, \"price_per_pod\": 0.037, \"date\": \"2022-04-15T00:00:00\"}, {\"amount\": 24834.476562, \"place_in_line\": 709107547.604381, \"price_per_pod\": 0.031, \"date\": \"2022-04-06T00:00:00\"}, {\"amount\": 12191.197851, \"place_in_line\": 709132382.080943, \"price_per_pod\": 0.047, \"date\": \"2022-04-15T00:00:00\"}, {\"amount\": 1982.50918, \"place_in_line\": 709144573.278794, \"price_per_pod\": 0.047, \"date\": \"2022-04-16T00:00:00\"}, {\"amount\": 10268.964843, \"place_in_line\": 709146555.787974, \"price_per_pod\": 0.03, \"date\": \"2022-04-11T00:00:00\"}, {\"amount\": 11688.871093, \"place_in_line\": 709163494.680866, \"price_per_pod\": 0.03, \"date\": \"2022-04-11T00:00:00\"}, {\"amount\": 10494.453652, \"place_in_line\": 709175183.551959, \"price_per_pod\": 0.069, \"date\": \"2022-04-15T00:00:00\"}, {\"amount\": 10494.453666, \"place_in_line\": 709175183.551959, \"price_per_pod\": 0.042, \"date\": \"2022-04-14T00:00:00\"}, {\"amount\": 3850.108834, \"place_in_line\": 709185678.005625, \"price_per_pod\": 0.042, \"date\": \"2022-04-15T00:00:00\"}, {\"amount\": 3568.208882, \"place_in_line\": 709235682.916688, \"price_per_pod\": 0.03, \"date\": \"2022-04-06T00:00:00\"}, {\"amount\": 16950.613281, \"place_in_line\": 709241915.118695, \"price_per_pod\": 0.047, \"date\": \"2022-04-15T00:00:00\"}, {\"amount\": 12056.682276, \"place_in_line\": 709258865.731976, \"price_per_pod\": 0.047, \"date\": \"2022-04-15T00:00:00\"}, {\"amount\": 1598.517724, \"place_in_line\": 709270922.414252, \"price_per_pod\": 0.047, \"date\": \"2022-04-16T00:00:00\"}, {\"amount\": 11538.942187, \"place_in_line\": 709304868.113029, \"price_per_pod\": 0.059, \"date\": \"2022-04-13T00:00:00\"}, {\"amount\": 10357.22417, \"place_in_line\": 709362566.858771, \"price_per_pod\": 0.03, \"date\": \"2022-04-11T00:00:00\"}, {\"amount\": 8114.610976, \"place_in_line\": 709372924.082941, \"price_per_pod\": 0.03, \"date\": \"2022-04-09T00:00:00\"}, {\"amount\": 8545.778006, \"place_in_line\": 709381038.693917, \"price_per_pod\": 0.03, \"date\": \"2022-04-09T00:00:00\"}, {\"amount\": 8952.959614, \"place_in_line\": 709391104.055403, \"price_per_pod\": 0.03, \"date\": \"2022-04-11T00:00:00\"}, {\"amount\": 6063.060479, \"place_in_line\": 709400057.015017, \"price_per_pod\": 0.029, \"date\": \"2022-04-11T00:00:00\"}, {\"amount\": 7377.849726, \"place_in_line\": 709416427.683873, \"price_per_pod\": 0.029, \"date\": \"2022-04-11T00:00:00\"}, {\"amount\": 14576.284733, \"place_in_line\": 709428056.372291, \"price_per_pod\": 0.04, \"date\": \"2022-04-13T00:00:00\"}, {\"amount\": 6009.7167, \"place_in_line\": 709442632.657024, \"price_per_pod\": 0.04, \"date\": \"2022-08-07T00:00:00\"}, {\"amount\": 12731.370312, \"place_in_line\": 709457711.087835, \"price_per_pod\": 0.05, \"date\": \"2022-04-17T00:00:00\"}, {\"amount\": 11578.312077, \"place_in_line\": 709470442.458147, \"price_per_pod\": 0.039, \"date\": \"2022-04-12T00:00:00\"}, {\"amount\": 10493.080827, \"place_in_line\": 709482020.770224, \"price_per_pod\": 0.05, \"date\": \"2022-04-17T00:00:00\"}, {\"amount\": 13816.601562, \"place_in_line\": 709492513.851051, \"price_per_pod\": 0.051, \"date\": \"2022-04-13T00:00:00\"}, {\"amount\": 13030.510108, \"place_in_line\": 709506330.452613, \"price_per_pod\": 0.04, \"date\": \"2022-04-13T00:00:00\"}, {\"amount\": 20715.605468, \"place_in_line\": 709545211.846984, \"price_per_pod\": 0.031, \"date\": \"2022-04-08T00:00:00\"}, {\"amount\": 21586.449186, \"place_in_line\": 709581451.884857, \"price_per_pod\": 0.03, \"date\": \"2022-04-08T00:00:00\"}, {\"amount\": 9060.790481, \"place_in_line\": 709603038.334043, \"price_per_pod\": 0.035, \"date\": \"2022-04-12T00:00:00\"}, {\"amount\": 20797.810726, \"place_in_line\": 709612099.124524, \"price_per_pod\": 0.03, \"date\": \"2022-04-08T00:00:00\"}, {\"amount\": 15239.253108, \"place_in_line\": 709639001.588456, \"price_per_pod\": 0.05, \"date\": \"2022-04-13T00:00:00\"}, {\"amount\": 11917.909114, \"place_in_line\": 709654242.636632, \"price_per_pod\": 0.061, \"date\": \"2022-04-13T00:00:00\"}, {\"amount\": 5707.106019, \"place_in_line\": 709666192.852147, \"price_per_pod\": 0.031, \"date\": \"2022-04-12T00:00:00\"}, {\"amount\": 6654.318624, \"place_in_line\": 709671899.958166, \"price_per_pod\": 0.031, \"date\": \"2022-04-12T00:00:00\"}, {\"amount\": 9785.276073, \"place_in_line\": 709678554.27679, \"price_per_pod\": 0.031, \"date\": \"2022-04-12T00:00:00\"}, {\"amount\": 13731.252132, \"place_in_line\": 709688339.552863, \"price_per_pod\": 0.061, \"date\": \"2022-04-13T00:00:00\"}, {\"amount\": 8173.059019, \"place_in_line\": 709702070.804995, \"price_per_pod\": 0.029, \"date\": \"2022-04-12T00:00:00\"}, {\"amount\": 12509.063265, \"place_in_line\": 709710243.864014, \"price_per_pod\": 0.061, \"date\": \"2022-04-13T00:00:00\"}, {\"amount\": 9515.295236, \"place_in_line\": 709722752.927279, \"price_per_pod\": 0.036, \"date\": \"2022-04-12T00:00:00\"}, {\"amount\": 6498.0756, \"place_in_line\": 709734977.740006, \"price_per_pod\": 0.03, \"date\": \"2022-04-12T00:00:00\"}, {\"amount\": 4744.706233, \"place_in_line\": 709753706.632464, \"price_per_pod\": 0.025, \"date\": \"2022-04-08T00:00:00\"}, {\"amount\": 21544.183345, \"place_in_line\": 709758451.338697, \"price_per_pod\": 0.031, \"date\": \"2022-04-11T00:00:00\"}, {\"amount\": 10237.860605, \"place_in_line\": 709788524.143561, \"price_per_pod\": 0.029, \"date\": \"2022-04-10T00:00:00\"}, {\"amount\": 9096.334989, \"place_in_line\": 709870314.867704, \"price_per_pod\": 0.029, \"date\": \"2022-04-12T00:00:00\"}, {\"amount\": 10150.58116, \"place_in_line\": 709879411.202693, \"price_per_pod\": 0.03, \"date\": \"2022-04-11T00:00:00\"}, {\"amount\": 23321.057117, \"place_in_line\": 709889561.783853, \"price_per_pod\": 0.03, \"date\": \"2022-04-09T00:00:00\"}, {\"amount\": 23277.498479, \"place_in_line\": 709912903.71977, \"price_per_pod\": 0.03, \"date\": \"2022-04-09T00:00:00\"}, {\"amount\": 20989.71875, \"place_in_line\": 709936198.838599, \"price_per_pod\": 0.031, \"date\": \"2022-04-09T00:00:00\"}, {\"amount\": 20297.082735, \"place_in_line\": 709957188.557349, \"price_per_pod\": 0.031, \"date\": \"2022-04-09T00:00:00\"}, {\"amount\": 41084.042452, \"place_in_line\": 709977485.640084, \"price_per_pod\": 0.032, \"date\": \"2022-04-12T00:00:00\"}, {\"amount\": 41844.097841, \"place_in_line\": 710018569.682536, \"price_per_pod\": 0.03, \"date\": \"2022-04-09T00:00:00\"}, {\"amount\": 19899.717937, \"place_in_line\": 710119139.437401, \"price_per_pod\": 0.047, \"date\": \"2022-04-15T00:00:00\"}, {\"amount\": 16767.94528, \"place_in_line\": 710296450.302572, \"price_per_pod\": 0.05, \"date\": \"2022-04-17T00:00:00\"}, {\"amount\": 18389.039062, \"place_in_line\": 710324533.148846, \"price_per_pod\": 0.05, \"date\": \"2022-04-17T00:00:00\"}, {\"amount\": 22440.1875, \"place_in_line\": 710342922.187908, \"price_per_pod\": 0.03, \"date\": \"2022-04-11T00:00:00\"}, {\"amount\": 7534.31132, \"place_in_line\": 710365381.70011, \"price_per_pod\": 0.029, \"date\": \"2022-04-11T00:00:00\"}, {\"amount\": 4669.501379, \"place_in_line\": 710372916.01143, \"price_per_pod\": 0.029, \"date\": \"2022-08-06T00:00:00\"}, {\"amount\": 9.479483, \"place_in_line\": 710377585.512809, \"price_per_pod\": 0.029, \"date\": \"2022-08-08T00:00:00\"}, {\"amount\": 23748.160156, \"place_in_line\": 710390043.033627, \"price_per_pod\": 0.03, \"date\": \"2022-04-11T00:00:00\"}, {\"amount\": 29049.625, \"place_in_line\": 710431818.243243, \"price_per_pod\": 0.031, \"date\": \"2022-04-12T00:00:00\"}, {\"amount\": 10533.398444, \"place_in_line\": 710431818.243243, \"price_per_pod\": 0.054, \"date\": \"2022-04-16T00:00:00\"}, {\"amount\": 18516.226556, \"place_in_line\": 710442351.641687, \"price_per_pod\": 0.054, \"date\": \"2022-04-16T00:00:00\"}, {\"amount\": 33400.921875, \"place_in_line\": 710460867.868243, \"price_per_pod\": 0.031, \"date\": \"2022-04-12T00:00:00\"}, {\"amount\": 33581.054687, \"place_in_line\": 710494268.790118, \"price_per_pod\": 0.031, \"date\": \"2022-04-12T00:00:00\"}, {\"amount\": 36390.839843, \"place_in_line\": 710635821.671358, \"price_per_pod\": 0.029, \"date\": \"2022-04-11T00:00:00\"}, {\"amount\": 12205.116299, \"place_in_line\": 710785654.392028, \"price_per_pod\": 0.029, \"date\": \"2022-04-11T00:00:00\"}, {\"amount\": 11667.351669, \"place_in_line\": 710822838.717581, \"price_per_pod\": 0.0305, \"date\": \"2022-04-11T00:00:00\"}, {\"amount\": 10429.699117, \"place_in_line\": 710834506.06925, \"price_per_pod\": 0.029, \"date\": \"2022-04-12T00:00:00\"}, {\"amount\": 16250.25389, \"place_in_line\": 710844935.768367, \"price_per_pod\": 0.03, \"date\": \"2022-04-12T00:00:00\"}, {\"amount\": 225.355921, \"place_in_line\": 710903001.207054, \"price_per_pod\": 0.01, \"date\": \"2022-08-11T00:00:00\"}, {\"amount\": 23670.471136, \"place_in_line\": 710903226.562975, \"price_per_pod\": 0.03, \"date\": \"2022-04-12T00:00:00\"}, {\"amount\": 39224.374968, \"place_in_line\": 711196004.355719, \"price_per_pod\": 0.03, \"date\": \"2022-04-12T00:00:00\"}, {\"amount\": 18606.0, \"place_in_line\": 711260418.189665, \"price_per_pod\": 0.03, \"date\": \"2022-04-12T00:00:00\"}, {\"amount\": 30073.981383, \"place_in_line\": 711279024.189665, \"price_per_pod\": 0.03, \"date\": \"2022-04-12T00:00:00\"}, {\"amount\": 1857.330184, \"place_in_line\": 711348151.871048, \"price_per_pod\": 0.031, \"date\": \"2022-04-12T00:00:00\"}, {\"amount\": 50000.0, \"place_in_line\": 711528414.042753, \"price_per_pod\": 0.03, \"date\": \"2022-04-12T00:00:00\"}, {\"amount\": 2539.84375, \"place_in_line\": 711578414.042753, \"price_per_pod\": 0.03, \"date\": \"2022-04-12T00:00:00\"}, {\"amount\": 50659.6, \"place_in_line\": 711627994.076332, \"price_per_pod\": 0.03, \"date\": \"2022-04-12T00:00:00\"}, {\"amount\": 2695.1899, \"place_in_line\": 711716112.826545, \"price_per_pod\": 0.037, \"date\": \"2022-04-15T00:00:00\"}, {\"amount\": 60485.6, \"place_in_line\": 711718808.016445, \"price_per_pod\": 0.03, \"date\": \"2022-04-12T00:00:00\"}, {\"amount\": 2156.328854, \"place_in_line\": 711848288.194577, \"price_per_pod\": 0.059, \"date\": \"2022-04-13T00:00:00\"}, {\"amount\": 91918.75, \"place_in_line\": 712016403.529785, \"price_per_pod\": 0.044, \"date\": \"2022-04-12T00:00:00\"}, {\"amount\": 126027.343719, \"place_in_line\": 712108719.670625, \"price_per_pod\": 0.054, \"date\": \"2022-04-12T00:00:00\"}, {\"amount\": 3579.623519, \"place_in_line\": 712478227.177567, \"price_per_pod\": 0.049, \"date\": \"2022-04-13T00:00:00\"}, {\"amount\": 105079.5, \"place_in_line\": 712749505.526426, \"price_per_pod\": 0.03, \"date\": \"2022-04-12T00:00:00\"}, {\"amount\": 130210.4, \"place_in_line\": 712856258.402101, \"price_per_pod\": 0.031, \"date\": \"2022-04-12T00:00:00\"}, {\"amount\": 3786.35324, \"place_in_line\": 713120110.487243, \"price_per_pod\": 0.062, \"date\": \"2022-04-13T00:00:00\"}, {\"amount\": 5532.211893, \"place_in_line\": 713215936.840483, \"price_per_pod\": 0.061, \"date\": \"2022-04-13T00:00:00\"}, {\"amount\": 41130.226166, \"place_in_line\": 713814719.117064, \"price_per_pod\": 0.054, \"date\": \"2022-04-13T00:00:00\"}, {\"amount\": 16139.084611, \"place_in_line\": 713855849.34323, \"price_per_pod\": 0.054, \"date\": \"2022-04-13T00:00:00\"}, {\"amount\": 141663.189223, \"place_in_line\": 713871988.427841, \"price_per_pod\": 0.054, \"date\": \"2022-04-13T00:00:00\"}, {\"amount\": 63542.442533, \"place_in_line\": 714015471.329582, \"price_per_pod\": 0.045, \"date\": \"2022-04-13T00:00:00\"}, {\"amount\": 129174.557467, \"place_in_line\": 714079013.772115, \"price_per_pod\": 0.045, \"date\": \"2022-04-13T00:00:00\"}, {\"amount\": 129174.557467, \"place_in_line\": 714079013.772115, \"price_per_pod\": 0.059, \"date\": \"2022-04-16T00:00:00\"}, {\"amount\": 214025.0, \"place_in_line\": 714211331.211522, \"price_per_pod\": 0.062, \"date\": \"2022-04-13T00:00:00\"}, {\"amount\": 24458.875511, \"place_in_line\": 714426818.941964, \"price_per_pod\": 0.045, \"date\": \"2022-04-13T00:00:00\"}, {\"amount\": 1500.0, \"place_in_line\": 714451277.817475, \"price_per_pod\": 0.058, \"date\": \"2022-04-13T00:00:00\"}, {\"amount\": 139231.69, \"place_in_line\": 714451277.817475, \"price_per_pod\": 0.045, \"date\": \"2022-04-13T00:00:00\"}, {\"amount\": 137731.69, \"place_in_line\": 714452777.817475, \"price_per_pod\": 0.054, \"date\": \"2022-04-15T00:00:00\"}, {\"amount\": 16002.234489, \"place_in_line\": 714590509.507475, \"price_per_pod\": 0.045, \"date\": \"2022-04-13T00:00:00\"}, {\"amount\": 119019.649033, \"place_in_line\": 714608893.820192, \"price_per_pod\": 0.059, \"date\": \"2022-04-13T00:00:00\"}, {\"amount\": 78606.500967, \"place_in_line\": 714727913.469225, \"price_per_pod\": 0.059, \"date\": \"2022-04-13T00:00:00\"}, {\"amount\": 180127.0, \"place_in_line\": 714808266.664085, \"price_per_pod\": 0.06, \"date\": \"2022-04-13T00:00:00\"}, {\"amount\": 166611.9, \"place_in_line\": 714990004.106503, \"price_per_pod\": 0.05, \"date\": \"2022-04-13T00:00:00\"}, {\"amount\": 173240.0, \"place_in_line\": 715158664.546867, \"price_per_pod\": 0.061, \"date\": \"2022-04-13T00:00:00\"}, {\"amount\": 151205.6, \"place_in_line\": 715333455.019979, \"price_per_pod\": 0.062, \"date\": \"2022-04-13T00:00:00\"}, {\"amount\": 2843.782982, \"place_in_line\": 715484660.619979, \"price_per_pod\": 0.049, \"date\": \"2022-04-13T00:00:00\"}, {\"amount\": 29902.1009, \"place_in_line\": 715487504.402961, \"price_per_pod\": 0.06, \"date\": \"2022-04-17T00:00:00\"}, {\"amount\": 13424.979052, \"place_in_line\": 715560868.266327, \"price_per_pod\": 0.037, \"date\": \"2022-04-15T00:00:00\"}, {\"amount\": 109437.957582, \"place_in_line\": 715574293.245379, \"price_per_pod\": 0.037, \"date\": \"2022-04-15T00:00:00\"}, {\"amount\": 43461.762466, \"place_in_line\": 715517406.5038611, \"price_per_pod\": 0.05, \"date\": \"2022-04-17T00:00:00\"}, {\"amount\": 2548.987716, \"place_in_line\": 715683731.202961, \"price_per_pod\": 0.059, \"date\": \"2022-04-13T00:00:00\"}, {\"amount\": 2469.722016, \"place_in_line\": 715899465.190677, \"price_per_pod\": 0.06, \"date\": \"2022-04-13T00:00:00\"}, {\"amount\": 204556.8, \"place_in_line\": 715901934.91271, \"price_per_pod\": 0.035, \"date\": \"2022-04-15T00:00:00\"}, {\"amount\": 2369.89098, \"place_in_line\": 716106491.71271, \"price_per_pod\": 0.06, \"date\": \"2022-04-13T00:00:00\"}, {\"amount\": 23536.146483, \"place_in_line\": 716108861.60369, \"price_per_pod\": 0.06, \"date\": \"2022-04-13T00:00:00\"}, {\"amount\": 163273.353517, \"place_in_line\": 716132397.750173, \"price_per_pod\": 0.06, \"date\": \"2022-04-13T00:00:00\"}, {\"amount\": 167255.0, \"place_in_line\": 716297300.526674, \"price_per_pod\": 0.037, \"date\": \"2022-04-15T00:00:00\"}, {\"amount\": 144680.2, \"place_in_line\": 716466017.242076, \"price_per_pod\": 0.056, \"date\": \"2022-04-13T00:00:00\"}, {\"amount\": 52642.714966, \"place_in_line\": 716768803.489169, \"price_per_pod\": 0.06, \"date\": \"2022-04-13T00:00:00\"}, {\"amount\": 84542.9943, \"place_in_line\": 716821446.204135, \"price_per_pod\": 0.06, \"date\": \"2022-04-16T00:00:00\"}, {\"amount\": 34680.190734, \"place_in_line\": 716905989.198435, \"price_per_pod\": 0.06, \"date\": \"2022-04-17T00:00:00\"}, {\"amount\": 1801.805718, \"place_in_line\": 716940669.389169, \"price_per_pod\": 0.04, \"date\": \"2022-04-13T00:00:00\"}, {\"amount\": 156683.4, \"place_in_line\": 716942581.953896, \"price_per_pod\": 0.045, \"date\": \"2022-04-15T00:00:00\"}, {\"amount\": 1648.92851, \"place_in_line\": 717099265.353896, \"price_per_pod\": 0.065, \"date\": \"2022-04-17T00:00:00\"}, {\"amount\": 146287.0, \"place_in_line\": 717100914.282406, \"price_per_pod\": 0.05, \"date\": \"2022-04-13T00:00:00\"}, {\"amount\": 50144.887945, \"place_in_line\": 717249342.317875, \"price_per_pod\": 0.055, \"date\": \"2022-04-13T00:00:00\"}, {\"amount\": 102136.812055, \"place_in_line\": 717299487.20582, \"price_per_pod\": 0.055, \"date\": \"2022-04-16T00:00:00\"}, {\"amount\": 4678.944318, \"place_in_line\": 717541977.658358, \"price_per_pod\": 0.065, \"date\": \"2022-04-17T00:00:00\"}, {\"amount\": 150312.8, \"place_in_line\": 717546656.602676, \"price_per_pod\": 0.049, \"date\": \"2022-04-15T00:00:00\"}, {\"amount\": 1550.66115, \"place_in_line\": 717696969.402676, \"price_per_pod\": 0.065, \"date\": \"2022-04-16T00:00:00\"}, {\"amount\": 155690.6, \"place_in_line\": 717698520.063826, \"price_per_pod\": 0.037, \"date\": \"2022-04-15T00:00:00\"}, {\"amount\": 9313.70527, \"place_in_line\": 718000615.202122, \"price_per_pod\": 0.05, \"date\": \"2022-04-17T00:00:00\"}, {\"amount\": 5000.0, \"place_in_line\": 718009928.907392, \"price_per_pod\": 0.045, \"date\": \"2022-04-13T00:00:00\"}, {\"amount\": 9255.7778, \"place_in_line\": 718014928.907392, \"price_per_pod\": 0.045, \"date\": \"2022-04-14T00:00:00\"}, {\"amount\": 9255.7778, \"place_in_line\": 718014928.907392, \"price_per_pod\": 0.08, \"date\": \"2022-04-17T00:00:00\"}, {\"amount\": 48622.222222, \"place_in_line\": 718024184.685192, \"price_per_pod\": 0.045, \"date\": \"2022-04-14T00:00:00\"}, {\"amount\": 10000.0, \"place_in_line\": 718072806.907414, \"price_per_pod\": 0.045, \"date\": \"2022-04-14T00:00:00\"}, {\"amount\": 19609.619955, \"place_in_line\": 718082806.907414, \"price_per_pod\": 0.045, \"date\": \"2022-04-14T00:00:00\"}, {\"amount\": 3972.363681, \"place_in_line\": 718082806.907414, \"price_per_pod\": 0.066, \"date\": \"2022-04-17T00:00:00\"}, {\"amount\": 15637.256274, \"place_in_line\": 718086779.271095, \"price_per_pod\": 0.02, \"date\": \"2022-08-31T00:00:00\"}, {\"amount\": 10106.346172, \"place_in_line\": 718086779.271095, \"price_per_pod\": 0.029, \"date\": \"2022-09-12T00:00:00\"}, {\"amount\": 15637.256274, \"place_in_line\": 718086779.271095, \"price_per_pod\": 0.066, \"date\": \"2022-04-17T00:00:00\"}, {\"amount\": 14666.666666, \"place_in_line\": 718102416.527369, \"price_per_pod\": 0.045, \"date\": \"2022-04-14T00:00:00\"}, {\"amount\": 19072.704777, \"place_in_line\": 718117083.194035, \"price_per_pod\": 0.045, \"date\": \"2022-04-14T00:00:00\"}, {\"amount\": 26448.62122, \"place_in_line\": 718136155.898812, \"price_per_pod\": 0.045, \"date\": \"2022-04-15T00:00:00\"}, {\"amount\": 148493.72346, \"place_in_line\": 718162604.520032, \"price_per_pod\": 0.037, \"date\": \"2022-04-15T00:00:00\"}, {\"amount\": 25000.0, \"place_in_line\": 718311098.243492, \"price_per_pod\": 0.04, \"date\": \"2022-04-14T00:00:00\"}, {\"amount\": 22663.915925, \"place_in_line\": 718336098.243492, \"price_per_pod\": 0.04, \"date\": \"2022-04-14T00:00:00\"}, {\"amount\": 2979.694125, \"place_in_line\": 718358762.159417, \"price_per_pod\": 0.04, \"date\": \"2022-04-14T00:00:00\"}, {\"amount\": 97443.079393, \"place_in_line\": 718361741.853542, \"price_per_pod\": 0.04, \"date\": \"2022-04-14T00:00:00\"}, {\"amount\": 153179.376309, \"place_in_line\": 718459184.932935, \"price_per_pod\": 0.035, \"date\": \"2022-04-15T00:00:00\"}, {\"amount\": 35105.723092, \"place_in_line\": 718760344.309244, \"price_per_pod\": 0.042, \"date\": \"2022-04-14T00:00:00\"}, {\"amount\": 75000.0, \"place_in_line\": 718795450.032336, \"price_per_pod\": 0.04, \"date\": \"2022-04-14T00:00:00\"}, {\"amount\": 84888.584622, \"place_in_line\": 718870450.032336, \"price_per_pod\": 0.04, \"date\": \"2022-04-14T00:00:00\"}, {\"amount\": 145018.797369, \"place_in_line\": 718955338.616958, \"price_per_pod\": 0.037, \"date\": \"2022-04-15T00:00:00\"}, {\"amount\": 15036.330875, \"place_in_line\": 719100357.414327, \"price_per_pod\": 0.04, \"date\": \"2022-04-14T00:00:00\"}, {\"amount\": 80000.0, \"place_in_line\": 719115393.745202, \"price_per_pod\": 0.04, \"date\": \"2022-04-14T00:00:00\"}, {\"amount\": 2015.0, \"place_in_line\": 719195393.745202, \"price_per_pod\": 0.04, \"date\": \"2022-04-14T00:00:00\"}, {\"amount\": 37212.168484, \"place_in_line\": 719197408.745202, \"price_per_pod\": 0.04, \"date\": \"2022-04-14T00:00:00\"}, {\"amount\": 41555.4311, \"place_in_line\": 719234620.913686, \"price_per_pod\": 0.04, \"date\": \"2022-04-14T00:00:00\"}, {\"amount\": 82507.217675, \"place_in_line\": 719276176.344786, \"price_per_pod\": 0.04, \"date\": \"2022-04-14T00:00:00\"}, {\"amount\": 29767.318612, \"place_in_line\": 719358683.562461, \"price_per_pod\": 0.04, \"date\": \"2022-04-14T00:00:00\"}, {\"amount\": 150002.086275, \"place_in_line\": 719388450.881073, \"price_per_pod\": 0.037, \"date\": \"2022-04-15T00:00:00\"}, {\"amount\": 151481.73209, \"place_in_line\": 719538452.967348, \"price_per_pod\": 0.045, \"date\": \"2022-04-15T00:00:00\"}, {\"amount\": 148762.745637, \"place_in_line\": 719689934.699438, \"price_per_pod\": 0.037, \"date\": \"2022-04-15T00:00:00\"}, {\"amount\": 167217.199434, \"place_in_line\": 719838697.445075, \"price_per_pod\": 0.04, \"date\": \"2022-04-14T00:00:00\"}, {\"amount\": 136033.474375, \"place_in_line\": 720005914.644509, \"price_per_pod\": 0.04, \"date\": \"2022-04-14T00:00:00\"}, {\"amount\": 33268.342087, \"place_in_line\": 720141948.118884, \"price_per_pod\": 0.04, \"date\": \"2022-04-14T00:00:00\"}, {\"amount\": 140966.208215, \"place_in_line\": 720175216.460971, \"price_per_pod\": 0.065, \"date\": \"2022-04-17T00:00:00\"}, {\"amount\": 16766.090212, \"place_in_line\": 720316182.669186, \"price_per_pod\": 0.065, \"date\": \"2022-04-17T00:00:00\"}, {\"amount\": 162851.173415, \"place_in_line\": 720332948.759398, \"price_per_pod\": 0.04, \"date\": \"2022-04-14T00:00:00\"}, {\"amount\": 174474.635475, \"place_in_line\": 720495799.932813, \"price_per_pod\": 0.04, \"date\": \"2022-04-14T00:00:00\"}, {\"amount\": 2126.762825, \"place_in_line\": 720670274.568288, \"price_per_pod\": 0.04, \"date\": \"2022-04-14T00:00:00\"}, {\"amount\": 6350.979273, \"place_in_line\": 720672401.331113, \"price_per_pod\": 0.04, \"date\": \"2022-04-15T00:00:00\"}, {\"amount\": 31263.5544, \"place_in_line\": 720678752.310386, \"price_per_pod\": 0.04, \"date\": \"2022-04-14T00:00:00\"}, {\"amount\": 150000.0, \"place_in_line\": 720710015.864786, \"price_per_pod\": 0.04, \"date\": \"2022-04-15T00:00:00\"}, {\"amount\": 8618.8597, \"place_in_line\": 720860015.864786, \"price_per_pod\": 0.04, \"date\": \"2022-04-15T00:00:00\"}, {\"amount\": 81305.470108, \"place_in_line\": 720868634.724486, \"price_per_pod\": 0.04, \"date\": \"2022-04-15T00:00:00\"}, {\"amount\": 142619.3355, \"place_in_line\": 720949940.194594, \"price_per_pod\": 0.04, \"date\": \"2022-04-14T00:00:00\"}, {\"amount\": 62724.9105, \"place_in_line\": 721092559.530094, \"price_per_pod\": 0.04, \"date\": \"2022-04-14T00:00:00\"}, {\"amount\": 62724.9105, \"place_in_line\": 721092559.530094, \"price_per_pod\": 0.05, \"date\": \"2022-04-15T00:00:00\"}, {\"amount\": 42190.522575, \"place_in_line\": 721155284.440594, \"price_per_pod\": 0.04, \"date\": \"2022-04-15T00:00:00\"}, {\"amount\": 26160.137009, \"place_in_line\": 721197474.963169, \"price_per_pod\": 0.04, \"date\": \"2022-04-15T00:00:00\"}, {\"amount\": 14114.08731, \"place_in_line\": 721499405.100178, \"price_per_pod\": 0.06, \"date\": \"2022-04-17T00:00:00\"}, {\"amount\": 306309.267806, \"place_in_line\": 721513519.187488, \"price_per_pod\": 0.037, \"date\": \"2022-04-15T00:00:00\"}, {\"amount\": 322801.54481, \"place_in_line\": 722109403.626677, \"price_per_pod\": 0.037, \"date\": \"2022-04-15T00:00:00\"}, {\"amount\": 34934.377228, \"place_in_line\": 722432205.171487, \"price_per_pod\": 0.035, \"date\": \"2022-04-14T00:00:00\"}, {\"amount\": 218560.408342, \"place_in_line\": 722467139.548715, \"price_per_pod\": 0.035, \"date\": \"2022-04-14T00:00:00\"}, {\"amount\": 65999.469411, \"place_in_line\": 722685699.957057, \"price_per_pod\": 0.035, \"date\": \"2022-04-14T00:00:00\"}, {\"amount\": 96716.493785, \"place_in_line\": 722990899.426468, \"price_per_pod\": 0.035, \"date\": \"2022-04-15T00:00:00\"}, {\"amount\": 40499.935514, \"place_in_line\": 723087615.920253, \"price_per_pod\": 0.035, \"date\": \"2022-04-15T00:00:00\"}, {\"amount\": 25000.0, \"place_in_line\": 723128115.855767, \"price_per_pod\": 0.035, \"date\": \"2022-04-15T00:00:00\"}, {\"amount\": 79777.206742, \"place_in_line\": 723153115.855767, \"price_per_pod\": 0.035, \"date\": \"2022-04-15T00:00:00\"}, {\"amount\": 130876.975914, \"place_in_line\": 723232893.062509, \"price_per_pod\": 0.035, \"date\": \"2022-04-15T00:00:00\"}, {\"amount\": 57106.724864, \"place_in_line\": 723363770.038423, \"price_per_pod\": 0.035, \"date\": \"2022-04-15T00:00:00\"}, {\"amount\": 348266.002657, \"place_in_line\": 723782462.207148, \"price_per_pod\": 0.035, \"date\": \"2022-04-15T00:00:00\"}, {\"amount\": 379699.841755, \"place_in_line\": 724130728.209833, \"price_per_pod\": 0.035, \"date\": \"2022-04-15T00:00:00\"}, {\"amount\": 42703.247654, \"place_in_line\": 724808689.235963, \"price_per_pod\": 0.055, \"date\": \"2022-04-17T00:00:00\"}, {\"amount\": 15687.227027, \"place_in_line\": 724851392.483617, \"price_per_pod\": 0.055, \"date\": \"2022-04-17T00:00:00\"}, {\"amount\": 109968.50806, \"place_in_line\": 725211130.277729, \"price_per_pod\": 0.05, \"date\": \"2022-04-15T00:00:00\"}, {\"amount\": 178812.339846, \"place_in_line\": 725321098.785789, \"price_per_pod\": 0.05, \"date\": \"2022-04-15T00:00:00\"}, {\"amount\": 100000.0, \"place_in_line\": 725499911.125635, \"price_per_pod\": 0.045, \"date\": \"2022-04-15T00:00:00\"}, {\"amount\": 50493.335822, \"place_in_line\": 725599911.125635, \"price_per_pod\": 0.045, \"date\": \"2022-04-15T00:00:00\"}, {\"amount\": 98010.410066, \"place_in_line\": 725650404.461457, \"price_per_pod\": 0.045, \"date\": \"2022-04-15T00:00:00\"}, {\"amount\": 15403.726711, \"place_in_line\": 725748414.871545, \"price_per_pod\": 0.045, \"date\": \"2022-04-15T00:00:00\"}, {\"amount\": 34675.371666, \"place_in_line\": 725763818.598256, \"price_per_pod\": 0.045, \"date\": \"2022-04-15T00:00:00\"}, {\"amount\": 100000.0, \"place_in_line\": 725798493.969922, \"price_per_pod\": 0.045, \"date\": \"2022-04-15T00:00:00\"}, {\"amount\": 98973.775726, \"place_in_line\": 725898493.969922, \"price_per_pod\": 0.045, \"date\": \"2022-04-15T00:00:00\"}, {\"amount\": 115005.09226, \"place_in_line\": 725997467.745648, \"price_per_pod\": 0.05, \"date\": \"2022-04-15T00:00:00\"}, {\"amount\": 75343.04356, \"place_in_line\": 726112472.837908, \"price_per_pod\": 0.05, \"date\": \"2022-04-15T00:00:00\"}, {\"amount\": 92828.595185, \"place_in_line\": 726187815.881468, \"price_per_pod\": 0.028, \"date\": \"2022-08-25T00:00:00\"}, {\"amount\": 92828.595185, \"place_in_line\": 726187815.881468, \"price_per_pod\": 0.05, \"date\": \"2022-04-16T00:00:00\"}, {\"amount\": 280660.104174, \"place_in_line\": 726280644.476653, \"price_per_pod\": 0.045, \"date\": \"2022-04-16T00:00:00\"}, {\"amount\": 268948.474274, \"place_in_line\": 726561304.580827, \"price_per_pod\": 0.051, \"date\": \"2022-04-16T00:00:00\"}, {\"amount\": 7331.625468, \"place_in_line\": 728214888.648499, \"price_per_pod\": 0.064, \"date\": \"2022-08-07T00:00:00\"}, {\"amount\": 25000.0, \"place_in_line\": 728440989.451671, \"price_per_pod\": 0.047, \"date\": \"2022-04-16T00:00:00\"}, {\"amount\": 100000.0, \"place_in_line\": 728465989.451671, \"price_per_pod\": 0.047, \"date\": \"2022-04-16T00:00:00\"}, {\"amount\": 84653.359213, \"place_in_line\": 728565989.451671, \"price_per_pod\": 0.047, \"date\": \"2022-04-16T00:00:00\"}, {\"amount\": 207192.309402, \"place_in_line\": 729235941.7444, \"price_per_pod\": 0.047, \"date\": \"2022-04-16T00:00:00\"}, {\"amount\": 33543.788477, \"place_in_line\": 729443134.053802, \"price_per_pod\": 0.05, \"date\": \"2022-04-16T00:00:00\"}, {\"amount\": 15374.98107, \"place_in_line\": 729443134.053802, \"price_per_pod\": 0.0299, \"date\": \"2022-08-07T00:00:00\"}, {\"amount\": 33543.788477, \"place_in_line\": 729443134.053802, \"price_per_pod\": 0.044, \"date\": \"2022-04-16T00:00:00\"}, {\"amount\": 12303.080568, \"place_in_line\": 729458509.034872, \"price_per_pod\": 0.0299, \"date\": \"2022-08-07T00:00:00\"}, {\"amount\": 4162.855351, \"place_in_line\": 729470812.11544, \"price_per_pod\": 0.0299, \"date\": \"2022-08-07T00:00:00\"}, {\"amount\": 1702.871488, \"place_in_line\": 729474974.970791, \"price_per_pod\": 0.0299, \"date\": \"2022-08-07T00:00:00\"}, {\"amount\": 13343.392977, \"place_in_line\": 729476677.842279, \"price_per_pod\": 0.044, \"date\": \"2022-04-16T00:00:00\"}, {\"amount\": 103496.80659, \"place_in_line\": 729490021.235256, \"price_per_pod\": 0.044, \"date\": \"2022-04-16T00:00:00\"}, {\"amount\": 39772.727272, \"place_in_line\": 729593518.041846, \"price_per_pod\": 0.044, \"date\": \"2022-04-16T00:00:00\"}, {\"amount\": 23099.27171, \"place_in_line\": 729633290.769118, \"price_per_pod\": 0.044, \"date\": \"2022-04-16T00:00:00\"}, {\"amount\": 11407.679058, \"place_in_line\": 729656390.040828, \"price_per_pod\": 0.051, \"date\": \"2022-04-16T00:00:00\"}, {\"amount\": 173806.99462, \"place_in_line\": 729667797.719886, \"price_per_pod\": 0.051, \"date\": \"2022-04-16T00:00:00\"}, {\"amount\": 17808.983511, \"place_in_line\": 730033021.201019, \"price_per_pod\": 0.045, \"date\": \"2022-04-16T00:00:00\"}, {\"amount\": 103450.896022, \"place_in_line\": 730050830.18453, \"price_per_pod\": 0.045, \"date\": \"2022-04-16T00:00:00\"}, {\"amount\": 82189.769281, \"place_in_line\": 730154281.080552, \"price_per_pod\": 0.045, \"date\": \"2022-04-16T00:00:00\"}, {\"amount\": 226407.807552, \"place_in_line\": 730236470.849833, \"price_per_pod\": 0.045, \"date\": \"2022-04-16T00:00:00\"}, {\"amount\": 188830.987043, \"place_in_line\": 730678712.851459, \"price_per_pod\": 0.051, \"date\": \"2022-04-16T00:00:00\"}, {\"amount\": 100000.0, \"place_in_line\": 730867543.838502, \"price_per_pod\": 0.02, \"date\": \"2022-08-08T00:00:00\"}, {\"amount\": 93293.333333, \"place_in_line\": 730867543.838502, \"price_per_pod\": 0.03, \"date\": \"2022-08-08T00:00:00\"}, {\"amount\": 174542.317761, \"place_in_line\": 730867543.838502, \"price_per_pod\": 0.049, \"date\": \"2022-04-16T00:00:00\"}, {\"amount\": 5755.6824, \"place_in_line\": 730960837.171835, \"price_per_pod\": 0.03, \"date\": \"2022-08-09T00:00:00\"}, {\"amount\": 950.984267, \"place_in_line\": 730966592.854235, \"price_per_pod\": 0.03, \"date\": \"2022-08-11T00:00:00\"}, {\"amount\": 74368.755714, \"place_in_line\": 730967543.838502, \"price_per_pod\": 0.035, \"date\": \"2022-08-09T00:00:00\"}, {\"amount\": 68703.216153, \"place_in_line\": 731211078.378957, \"price_per_pod\": 0.052, \"date\": \"2022-04-16T00:00:00\"}, {\"amount\": 5730.104692, \"place_in_line\": 731279781.59511, \"price_per_pod\": 0.052, \"date\": \"2022-04-16T00:00:00\"}, {\"amount\": 16663.047211, \"place_in_line\": 731285511.699802, \"price_per_pod\": 0.052, \"date\": \"2022-04-16T00:00:00\"}, {\"amount\": 40000.0, \"place_in_line\": 731302174.747013, \"price_per_pod\": 0.052, \"date\": \"2022-04-17T00:00:00\"}, {\"amount\": 43650.433333, \"place_in_line\": 731342174.747013, \"price_per_pod\": 0.03, \"date\": \"2022-08-07T00:00:00\"}, {\"amount\": 43650.462632, \"place_in_line\": 731342174.747013, \"price_per_pod\": 0.052, \"date\": \"2022-04-17T00:00:00\"}, {\"amount\": 43650.462632, \"place_in_line\": 731342174.747013, \"price_per_pod\": 0.0233, \"date\": \"2022-08-07T00:00:00\"}, {\"amount\": 9076.923076, \"place_in_line\": 731385825.209645, \"price_per_pod\": 0.065, \"date\": \"2022-04-17T00:00:00\"}, {\"amount\": 3760.739846, \"place_in_line\": 731394902.132721, \"price_per_pod\": 0.065, \"date\": \"2022-04-17T00:00:00\"}, {\"amount\": 238241.613308, \"place_in_line\": 732342480.5016, \"price_per_pod\": 0.052, \"date\": \"2022-04-16T00:00:00\"}, {\"amount\": 20082.877176, \"place_in_line\": 732580722.114908, \"price_per_pod\": 0.051, \"date\": \"2022-04-16T00:00:00\"}, {\"amount\": 224577.013993, \"place_in_line\": 732600804.992084, \"price_per_pod\": 0.051, \"date\": \"2022-04-16T00:00:00\"}, {\"amount\": 231205.357536, \"place_in_line\": 732825382.006077, \"price_per_pod\": 0.05, \"date\": \"2022-04-17T00:00:00\"}, {\"amount\": 252155.20233, \"place_in_line\": 733056587.363613, \"price_per_pod\": 0.05, \"date\": \"2022-04-17T00:00:00\"}, {\"amount\": 21683.015215, \"place_in_line\": 733308742.565943, \"price_per_pod\": 0.065, \"date\": \"2022-04-17T00:00:00\"}, {\"amount\": 150000.0, \"place_in_line\": 733330425.581158, \"price_per_pod\": 0.065, \"date\": \"2022-04-17T00:00:00\"}, {\"amount\": 21728.068461, \"place_in_line\": 733480425.581158, \"price_per_pod\": 0.065, \"date\": \"2022-04-17T00:00:00\"}, {\"amount\": 22359.930276, \"place_in_line\": 733502153.649619, \"price_per_pod\": 0.065, \"date\": \"2022-04-17T00:00:00\"}, {\"amount\": 2656.036443, \"place_in_line\": 733524513.579895, \"price_per_pod\": 0.065, \"date\": \"2022-04-17T00:00:00\"}, {\"amount\": 214433.251957, \"place_in_line\": 733527169.616338, \"price_per_pod\": 0.05, \"date\": \"2022-04-17T00:00:00\"}, {\"amount\": 5000.0, \"place_in_line\": 733741602.868295, \"price_per_pod\": 0.05, \"date\": \"2022-04-16T00:00:00\"}, {\"amount\": 15000.0, \"place_in_line\": 733746602.868295, \"price_per_pod\": 0.05, \"date\": \"2022-04-16T00:00:00\"}, {\"amount\": 17500.00758, \"place_in_line\": 733761602.868295, \"price_per_pod\": 0.05, \"date\": \"2022-04-16T00:00:00\"}, {\"amount\": 29376.24306, \"place_in_line\": 733779102.875875, \"price_per_pod\": 0.05, \"date\": \"2022-04-16T00:00:00\"}, {\"amount\": 7120.38564, \"place_in_line\": 733808479.118935, \"price_per_pod\": 0.05, \"date\": \"2022-04-16T00:00:00\"}, {\"amount\": 9156.06804, \"place_in_line\": 733815599.504575, \"price_per_pod\": 0.05, \"date\": \"2022-04-17T00:00:00\"}, {\"amount\": 24123.17172, \"place_in_line\": 733824755.572615, \"price_per_pod\": 0.05, \"date\": \"2022-04-17T00:00:00\"}, {\"amount\": 10876.48256, \"place_in_line\": 733848878.744335, \"price_per_pod\": 0.05, \"date\": \"2022-04-17T00:00:00\"}, {\"amount\": 58636.813154, \"place_in_line\": 733900548.226895, \"price_per_pod\": 0.02, \"date\": \"2022-08-26T00:00:00\"}, {\"amount\": 40793.0, \"place_in_line\": 733859755.226895, \"price_per_pod\": 0.02, \"date\": \"2022-08-31T00:00:00\"}, {\"amount\": 99429.813154, \"place_in_line\": 733859755.226895, \"price_per_pod\": 0.065, \"date\": \"2022-04-17T00:00:00\"}, {\"amount\": 58636.813154, \"place_in_line\": 733900548.226895, \"price_per_pod\": 0.029, \"date\": \"2022-08-30T00:00:00\"}, {\"amount\": 210961.749202, \"place_in_line\": 733959185.040049, \"price_per_pod\": 0.05, \"date\": \"2022-04-17T00:00:00\"}, {\"amount\": 205321.095099, \"place_in_line\": 734170146.789251, \"price_per_pod\": 0.05, \"date\": \"2022-04-17T00:00:00\"}, {\"amount\": 240472.769386, \"place_in_line\": 734375467.88435, \"price_per_pod\": 0.05, \"date\": \"2022-04-17T00:00:00\"}, {\"amount\": 273039.002863, \"place_in_line\": 734615940.653736, \"price_per_pod\": 0.05, \"date\": \"2022-04-17T00:00:00\"}, {\"amount\": 230049.04021, \"place_in_line\": 734888979.656599, \"price_per_pod\": 0.05, \"date\": \"2022-04-17T00:00:00\"}, {\"amount\": 57490.196078, \"place_in_line\": 735061538.500731, \"price_per_pod\": 0.051, \"date\": \"2022-04-17T00:00:00\"}, {\"amount\": 20750.304614, \"place_in_line\": 735386014.435662, \"price_per_pod\": 0.07, \"date\": \"2022-04-17T00:00:00\"}, {\"amount\": 13068.447328, \"place_in_line\": 735406764.740276, \"price_per_pod\": 0.07, \"date\": \"2022-04-17T00:00:00\"}, {\"amount\": 153138.632015, \"place_in_line\": 736132449.02135, \"price_per_pod\": 0.02, \"date\": \"2022-08-26T00:00:00\"}, {\"amount\": 153138.632015, \"place_in_line\": 736132449.02135, \"price_per_pod\": 0.065, \"date\": \"2022-04-17T00:00:00\"}, {\"amount\": 83138.632015, \"place_in_line\": 736132449.02135, \"price_per_pod\": 0.028, \"date\": \"2022-08-30T00:00:00\"}, {\"amount\": 69815.285464, \"place_in_line\": 736215587.653365, \"price_per_pod\": 0.028, \"date\": \"2022-08-28T00:00:00\"}, {\"amount\": 83910.292215, \"place_in_line\": 736285587.653365, \"price_per_pod\": 0.065, \"date\": \"2022-04-17T00:00:00\"}, {\"amount\": 31281.369769, \"place_in_line\": 736369497.94558, \"price_per_pod\": 0.065, \"date\": \"2022-04-17T00:00:00\"}, {\"amount\": 22234.228333, \"place_in_line\": 737858120.394156, \"price_per_pod\": 0.033, \"date\": \"2022-08-08T00:00:00\"}, {\"amount\": 47.414939, \"place_in_line\": 737880354.622489, \"price_per_pod\": 0.033, \"date\": \"2022-08-10T00:00:00\"}, {\"amount\": 22871.716433, \"place_in_line\": 737935681.087505, \"price_per_pod\": 0.03, \"date\": \"2022-08-07T00:00:00\"}, {\"amount\": 10000.0, \"place_in_line\": 737958552.803938, \"price_per_pod\": 0.03, \"date\": \"2022-08-07T00:00:00\"}, {\"amount\": 13229.284933, \"place_in_line\": 737968552.803938, \"price_per_pod\": 0.03, \"date\": \"2022-08-07T00:00:00\"}, {\"amount\": 12839.897666, \"place_in_line\": 737981782.088871, \"price_per_pod\": 0.03, \"date\": \"2022-08-07T00:00:00\"}, {\"amount\": 13348.2976, \"place_in_line\": 737994621.986537, \"price_per_pod\": 0.03, \"date\": \"2022-08-07T00:00:00\"}, {\"amount\": 401.082333, \"place_in_line\": 738007970.284137, \"price_per_pod\": 0.03, \"date\": \"2022-08-08T00:00:00\"}, {\"amount\": 50583.045714, \"place_in_line\": 738250713.966889, \"price_per_pod\": 0.035, \"date\": \"2022-08-09T00:00:00\"}, {\"amount\": 2857.142857, \"place_in_line\": 738620191.031981, \"price_per_pod\": 0.035, \"date\": \"2022-08-08T00:00:00\"}, {\"amount\": 17365.876628, \"place_in_line\": 738623048.174838, \"price_per_pod\": 0.035, \"date\": \"2022-08-08T00:00:00\"}, {\"amount\": 844.41712, \"place_in_line\": 740628963.065844, \"price_per_pod\": 0.025, \"date\": \"2022-08-16T00:00:00\"}, {\"amount\": 150688.81832, \"place_in_line\": 740629807.482964, \"price_per_pod\": 0.025, \"date\": \"2022-08-16T00:00:00\"}, {\"amount\": 17303.1696, \"place_in_line\": 740780496.301284, \"price_per_pod\": 0.025, \"date\": \"2022-08-17T00:00:00\"}, {\"amount\": 20388.737, \"place_in_line\": 740797799.470884, \"price_per_pod\": 0.025, \"date\": \"2022-08-19T00:00:00\"}, {\"amount\": 33005.85756, \"place_in_line\": 740818188.207884, \"price_per_pod\": 0.025, \"date\": \"2022-08-23T00:00:00\"}, {\"amount\": 25988.04312, \"place_in_line\": 740851194.065444, \"price_per_pod\": 0.025, \"date\": \"2022-08-24T00:00:00\"}, {\"amount\": 2338.51596, \"place_in_line\": 740877182.108564, \"price_per_pod\": 0.025, \"date\": \"2022-08-24T00:00:00\"}, {\"amount\": 234067.23516, \"place_in_line\": 740879520.624524, \"price_per_pod\": 0.025, \"date\": \"2022-08-25T00:00:00\"}, {\"amount\": 582.0088, \"place_in_line\": 741113587.859684, \"price_per_pod\": 0.025, \"date\": \"2022-09-03T00:00:00\"}, {\"amount\": 1148.0827, \"place_in_line\": 743973017.717686, \"price_per_pod\": 0.02, \"date\": \"2022-08-25T00:00:00\"}, {\"amount\": 30279.606975, \"place_in_line\": 746123766.988586, \"price_per_pod\": 0.028, \"date\": \"2022-08-11T00:00:00\"}, {\"amount\": 6971.9715, \"place_in_line\": 761165787.154183, \"price_per_pod\": 0.03, \"date\": \"2022-08-09T00:00:00\"}, {\"amount\": 50.364336, \"place_in_line\": 79180247.523918, \"price_per_pod\": 0.75, \"date\": \"2022-08-07T00:00:00\"}, {\"amount\": 1232.512356, \"place_in_line\": 79180297.888254, \"price_per_pod\": 0.75, \"date\": \"2022-08-07T00:00:00\"}, {\"amount\": 133.333333, \"place_in_line\": 79181530.40061, \"price_per_pod\": 0.75, \"date\": \"2022-08-07T00:00:00\"}, {\"amount\": 1000.0, \"place_in_line\": 79181663.733943, \"price_per_pod\": 0.75, \"date\": \"2022-08-08T00:00:00\"}, {\"amount\": 48039.789791, \"place_in_line\": 803330678.270578, \"price_per_pod\": 0.024, \"date\": \"2022-08-28T00:00:00\"}, {\"amount\": 125.0, \"place_in_line\": 803378718.060369, \"price_per_pod\": 0.024, \"date\": \"2022-09-03T00:00:00\"}, {\"amount\": 51666.906449, \"place_in_line\": 81428887.071705, \"price_per_pod\": 0.2, \"date\": \"2022-02-07T00:00:00\"}, {\"amount\": 861.30925, \"place_in_line\": 81428887.071705, \"price_per_pod\": 0.69, \"date\": \"2022-04-13T00:00:00\"}, {\"amount\": 861.309251, \"place_in_line\": 81428887.071705, \"price_per_pod\": 0.33, \"date\": \"2022-03-11T00:00:00\"}, {\"amount\": 861.30925, \"place_in_line\": 81428887.071705, \"price_per_pod\": 0.0825, \"date\": \"2022-04-13T00:00:00\"}, {\"amount\": 7813.05883, \"place_in_line\": 81429748.380956, \"price_per_pod\": 0.6, \"date\": \"2022-04-13T00:00:00\"}, {\"amount\": 7813.05883, \"place_in_line\": 81429748.380956, \"price_per_pod\": 0.33, \"date\": \"2022-03-16T00:00:00\"}, {\"amount\": 42992.538368, \"place_in_line\": 81437561.439786, \"price_per_pod\": 0.33, \"date\": \"2022-03-18T00:00:00\"}, {\"amount\": 42992.538368, \"place_in_line\": 81437561.439786, \"price_per_pod\": 0.4, \"date\": \"2022-03-24T00:00:00\"}, {\"amount\": 9001.457167, \"place_in_line\": 81480553.978154, \"price_per_pod\": 0.37, \"date\": \"2022-03-30T00:00:00\"}, {\"amount\": 4967.300995, \"place_in_line\": 81489555.435321, \"price_per_pod\": 0.37, \"date\": \"2022-03-30T00:00:00\"}, {\"amount\": 190360.0, \"place_in_line\": 821102020.697601, \"price_per_pod\": 0.028, \"date\": \"2022-09-01T00:00:00\"}, {\"amount\": 58283.867892, \"place_in_line\": 821423984.136929, \"price_per_pod\": 0.028, \"date\": \"2022-09-03T00:00:00\"}, {\"amount\": 1259.635749, \"place_in_line\": 89188612.146804, \"price_per_pod\": 0.75, \"date\": \"2022-04-14T00:00:00\"}, {\"amount\": 233.215974, \"place_in_line\": 89189871.782553, \"price_per_pod\": 0.695, \"date\": \"2022-08-07T00:00:00\"}, {\"amount\": 18772.178077, \"place_in_line\": 89189871.782553, \"price_per_pod\": 0.7, \"date\": \"2022-04-15T00:00:00\"}, {\"amount\": 2.365071, \"place_in_line\": 89190104.998527, \"price_per_pod\": 0.695, \"date\": \"2022-08-07T00:00:00\"}, {\"amount\": 39968.0, \"place_in_line\": 89208643.96063, \"price_per_pod\": 0.7, \"date\": \"2022-04-15T00:00:00\"}, {\"amount\": 0.186225, \"place_in_line\": 89248611.96063, \"price_per_pod\": 0.7, \"date\": \"2022-08-08T00:00:00\"}, {\"amount\": 9142.307692, \"place_in_line\": 92707474.342273, \"price_per_pod\": 0.1, \"date\": \"2022-09-11T00:00:00\"}, {\"amount\": 15764.212654, \"place_in_line\": 92719137.052691, \"price_per_pod\": 0.1, \"date\": \"2022-03-12T00:00:00\"}, {\"amount\": 2520.402726, \"place_in_line\": 92716616.649965, \"price_per_pod\": 0.1, \"date\": \"2022-09-11T00:00:00\"}, {\"amount\": 15764.212654, \"place_in_line\": 92719137.052691, \"price_per_pod\": 0.5, \"date\": \"2022-04-06T00:00:00\"}, {\"amount\": 4486.265388, \"place_in_line\": 92734901.265345, \"price_per_pod\": 0.69, \"date\": \"2022-04-13T00:00:00\"}, {\"amount\": 18284.62, \"place_in_line\": 92734901.265345, \"price_per_pod\": 0.1, \"date\": \"2022-03-12T00:00:00\"}, {\"amount\": 4456.459444, \"place_in_line\": 92739387.530733, \"price_per_pod\": 0.69, \"date\": \"2022-04-13T00:00:00\"}, {\"amount\": 3033.707865, \"place_in_line\": 92739387.530733, \"price_per_pod\": 0.89, \"date\": \"2022-04-15T00:00:00\"}, {\"amount\": 1422.751578, \"place_in_line\": 92742421.238598, \"price_per_pod\": 0.89, \"date\": \"2022-04-16T00:00:00\"}, {\"amount\": 9341.895166, \"place_in_line\": 92743843.990177, \"price_per_pod\": 0.69, \"date\": \"2022-04-14T00:00:00\"}, {\"amount\": 20450.62175, \"place_in_line\": 92771013.385345, \"price_per_pod\": 0.12, \"date\": \"2022-08-31T00:00:00\"}, {\"amount\": 8027.251632, \"place_in_line\": 92791464.007095, \"price_per_pod\": 0.1, \"date\": \"2022-09-11T00:00:00\"}, {\"amount\": 10000.0, \"place_in_line\": 92799491.258727, \"price_per_pod\": 0.15, \"date\": \"2022-09-13T00:00:00\"}, {\"amount\": 19146.381225, \"place_in_line\": 93005074.342273, \"price_per_pod\": 0.12, \"date\": \"2022-03-09T00:00:00\"}, {\"amount\": 4909.413452, \"place_in_line\": 93005074.342273, \"price_per_pod\": 0.475, \"date\": \"2022-04-12T00:00:00\"}, {\"amount\": 2271.791105, \"place_in_line\": 93009983.755725, \"price_per_pod\": 0.475, \"date\": \"2022-04-12T00:00:00\"}, {\"amount\": 305.47024, \"place_in_line\": 93012255.54683, \"price_per_pod\": 0.475, \"date\": \"2022-04-12T00:00:00\"}, {\"amount\": 11659.706428, \"place_in_line\": 93012561.01707, \"price_per_pod\": 0.475, \"date\": \"2022-04-12T00:00:00\"}, {\"amount\": 11659.706427, \"place_in_line\": 93012561.01707, \"price_per_pod\": 0.68, \"date\": \"2022-04-13T00:00:00\"}, {\"amount\": 37500.0, \"place_in_line\": 93024220.723498, \"price_per_pod\": 0.12, \"date\": \"2022-03-09T00:00:00\"}, {\"amount\": 15000.0, \"place_in_line\": 93142202.342273, \"price_per_pod\": 0.32, \"date\": \"2022-08-15T00:00:00\"}, {\"amount\": 9531.25, \"place_in_line\": 93299924.592273, \"price_per_pod\": 0.32, \"date\": \"2022-08-15T00:00:00\"}, {\"amount\": 480.290414, \"place_in_line\": 93309924.592273, \"price_per_pod\": 0.27, \"date\": \"2022-09-14T00:00:00\"}, {\"amount\": 8913.75, \"place_in_line\": 93309924.592273, \"price_per_pod\": 0.2, \"date\": \"2022-09-04T00:00:00\"}, {\"amount\": 3745.346177, \"place_in_line\": 93475780.742273, \"price_per_pod\": 0.09, \"date\": \"2022-02-24T00:00:00\"}, {\"amount\": 279.48042, \"place_in_line\": 93479526.08845, \"price_per_pod\": 0.69, \"date\": \"2022-04-15T00:00:00\"}, {\"amount\": 302.105711, \"place_in_line\": 93479526.08845, \"price_per_pod\": 0.15, \"date\": \"2022-03-15T00:00:00\"}, {\"amount\": 302.105711, \"place_in_line\": 93479526.08845, \"price_per_pod\": 0.09, \"date\": \"2022-02-27T00:00:00\"}, {\"amount\": 22.54324, \"place_in_line\": 93479805.56887, \"price_per_pod\": 0.69, \"date\": \"2022-08-17T00:00:00\"}, {\"amount\": 50949.720322, \"place_in_line\": 93479828.194161, \"price_per_pod\": 0.09, \"date\": \"2022-03-01T00:00:00\"}, {\"amount\": 478845.0219, \"place_in_line\": 93530777.914483, \"price_per_pod\": 0.09, \"date\": \"2022-03-01T00:00:00\"}, {\"amount\": 64911.823433, \"place_in_line\": 94009622.936383, \"price_per_pod\": 0.09, \"date\": \"2022-03-02T00:00:00\"}, {\"amount\": 161247.227588, \"place_in_line\": 94074534.759816, \"price_per_pod\": 0.09, \"date\": \"2022-03-02T00:00:00\"}, {\"amount\": 6434.958505, \"place_in_line\": 94235781.987404, \"price_per_pod\": 0.2, \"date\": \"2022-03-10T00:00:00\"}, {\"amount\": 44444.444444, \"place_in_line\": 94235781.987404, \"price_per_pod\": 0.09, \"date\": \"2022-03-02T00:00:00\"}, {\"amount\": 1640.31493, \"place_in_line\": 94242216.945909, \"price_per_pod\": 0.2, \"date\": \"2022-03-10T00:00:00\"}, {\"amount\": 11391.726565, \"place_in_line\": 94243857.260839, \"price_per_pod\": 0.2, \"date\": \"2022-03-10T00:00:00\"}, {\"amount\": 2542.93271, \"place_in_line\": 94255248.987404, \"price_per_pod\": 0.2, \"date\": \"2022-03-13T00:00:00\"}, {\"amount\": 22434.511734, \"place_in_line\": 94257791.920114, \"price_per_pod\": 0.3, \"date\": \"2022-03-24T00:00:00\"}, {\"amount\": 22434.511734, \"place_in_line\": 94257791.920114, \"price_per_pod\": 0.24, \"date\": \"2022-03-18T00:00:00\"}, {\"amount\": 2058.92, \"place_in_line\": 94280226.431848, \"price_per_pod\": 0.09, \"date\": \"2022-03-06T00:00:00\"}, {\"amount\": 950.0, \"place_in_line\": 94281335.351848, \"price_per_pod\": 0.28, \"date\": \"2022-03-13T00:00:00\"}, {\"amount\": 64.286521, \"place_in_line\": 94280226.431848, \"price_per_pod\": 0.28, \"date\": \"2022-03-15T00:00:00\"}, {\"amount\": 1044.633475, \"place_in_line\": 94280290.718369, \"price_per_pod\": 0.29, \"date\": \"2022-03-22T00:00:00\"}, {\"amount\": 11111.111111, \"place_in_line\": 94282285.351848, \"price_per_pod\": 0.09, \"date\": \"2022-03-06T00:00:00\"}, {\"amount\": 11277.021864, \"place_in_line\": 94293396.462959, \"price_per_pod\": 0.45, \"date\": \"2022-04-11T00:00:00\"}, {\"amount\": 11277.021866, \"place_in_line\": 94293396.462959, \"price_per_pod\": 0.09, \"date\": \"2022-03-07T00:00:00\"}, {\"amount\": 11277.021866, \"place_in_line\": 94293396.462959, \"price_per_pod\": 0.1, \"date\": \"2022-03-11T00:00:00\"}, {\"amount\": 11111.111111, \"place_in_line\": 94304673.484825, \"price_per_pod\": 0.09, \"date\": \"2022-03-07T00:00:00\"}, {\"amount\": 500.0, \"place_in_line\": 94315784.595936, \"price_per_pod\": 0.09, \"date\": \"2022-03-07T00:00:00\"}, {\"amount\": 28075.664488, \"place_in_line\": 94316284.595936, \"price_per_pod\": 0.09, \"date\": \"2022-03-08T00:00:00\"}, {\"amount\": 12500.0, \"place_in_line\": 94344360.260424, \"price_per_pod\": 0.09, \"date\": \"2022-03-08T00:00:00\"}, {\"amount\": 25000.0, \"place_in_line\": 94356860.260424, \"price_per_pod\": 0.09, \"date\": \"2022-03-08T00:00:00\"}, {\"amount\": 47500.0, \"place_in_line\": 94381860.260424, \"price_per_pod\": 0.09, \"date\": \"2022-03-09T00:00:00\"}, {\"amount\": 86512.840254, \"place_in_line\": 94429360.260424, \"price_per_pod\": 0.09, \"date\": \"2022-03-09T00:00:00\"}, {\"amount\": 4046.506513, \"place_in_line\": 99853968.145381, \"price_per_pod\": 0.29, \"date\": \"2022-03-30T00:00:00\"}, {\"amount\": 4520.835534, \"place_in_line\": 99858014.651894, \"price_per_pod\": 0.29, \"date\": \"2022-03-30T00:00:00\"}, {\"amount\": 36237.351724, \"place_in_line\": 99862535.487428, \"price_per_pod\": 0.29, \"date\": \"2022-03-30T00:00:00\"}, {\"amount\": 17865.626157, \"place_in_line\": 99898772.839152, \"price_per_pod\": 0.29, \"date\": \"2022-03-30T00:00:00\"}, {\"amount\": 2331.168306, \"place_in_line\": 99898772.839152, \"price_per_pod\": 0.66, \"date\": \"2022-04-13T00:00:00\"}, {\"amount\": 15534.45785, \"place_in_line\": 99901104.007458, \"price_per_pod\": 0.66, \"date\": \"2022-04-14T00:00:00\"}], \"data-3c89553ba2391af38a3ce548f494e43a\": [{\"date\": \"2022-02-05T00:00:00\", \"pod_volume\": 65610.913621}, {\"date\": \"2022-02-06T00:00:00\", \"pod_volume\": 171946.388572}, {\"date\": \"2022-02-07T00:00:00\", \"pod_volume\": 268969.622756}, {\"date\": \"2022-02-08T00:00:00\", \"pod_volume\": 66645.658575}, {\"date\": \"2022-02-09T00:00:00\", \"pod_volume\": 12000.0}, {\"date\": \"2022-02-10T00:00:00\", \"pod_volume\": 13113.713192}, {\"date\": \"2022-02-11T00:00:00\", \"pod_volume\": 2007.046073}, {\"date\": \"2022-02-12T00:00:00\", \"pod_volume\": 1531.485463}, {\"date\": \"2022-02-13T00:00:00\", \"pod_volume\": 3845.038436}, {\"date\": \"2022-02-14T00:00:00\", \"pod_volume\": 0.0}, {\"date\": \"2022-02-15T00:00:00\", \"pod_volume\": 0.0}, {\"date\": \"2022-02-16T00:00:00\", \"pod_volume\": 69212.997476}, {\"date\": \"2022-02-17T00:00:00\", \"pod_volume\": 9798.430028}, {\"date\": \"2022-02-18T00:00:00\", \"pod_volume\": 400957.370504}, {\"date\": \"2022-02-19T00:00:00\", \"pod_volume\": 198392.91211}, {\"date\": \"2022-02-20T00:00:00\", \"pod_volume\": 1635.253603}, {\"date\": \"2022-02-21T00:00:00\", \"pod_volume\": 0.0}, {\"date\": \"2022-02-22T00:00:00\", \"pod_volume\": 188133.639462}, {\"date\": \"2022-02-23T00:00:00\", \"pod_volume\": 483.681672}, {\"date\": \"2022-02-24T00:00:00\", \"pod_volume\": 316352.498627}, {\"date\": \"2022-02-25T00:00:00\", \"pod_volume\": 0.0}, {\"date\": \"2022-02-26T00:00:00\", \"pod_volume\": 104000.48009600001}, {\"date\": \"2022-02-27T00:00:00\", \"pod_volume\": 69107.515419}, {\"date\": \"2022-02-28T00:00:00\", \"pod_volume\": 0.0}, {\"date\": \"2022-03-01T00:00:00\", \"pod_volume\": 533777.007655}, {\"date\": \"2022-03-02T00:00:00\", \"pod_volume\": 270603.49546500004}, {\"date\": \"2022-03-03T00:00:00\", \"pod_volume\": 63477.41931500001}, {\"date\": \"2022-03-04T00:00:00\", \"pod_volume\": 18778.047638}, {\"date\": \"2022-03-05T00:00:00\", \"pod_volume\": 12626.256958}, {\"date\": \"2022-03-06T00:00:00\", \"pod_volume\": 245964.043895}, {\"date\": \"2022-03-07T00:00:00\", \"pod_volume\": 60991.197475}, {\"date\": \"2022-03-08T00:00:00\", \"pod_volume\": 169481.99804}, {\"date\": \"2022-03-09T00:00:00\", \"pod_volume\": 1799871.829243}, {\"date\": \"2022-03-10T00:00:00\", \"pod_volume\": 108385.546814}, {\"date\": \"2022-03-11T00:00:00\", \"pod_volume\": 795148.194353}, {\"date\": \"2022-03-12T00:00:00\", \"pod_volume\": 754947.116611}, {\"date\": \"2022-03-13T00:00:00\", \"pod_volume\": 187531.181861}, {\"date\": \"2022-03-14T00:00:00\", \"pod_volume\": 179195.693695}, {\"date\": \"2022-03-15T00:00:00\", \"pod_volume\": 488571.02978700004}, {\"date\": \"2022-03-16T00:00:00\", \"pod_volume\": 261020.617777}, {\"date\": \"2022-03-17T00:00:00\", \"pod_volume\": 2408418.774141}, {\"date\": \"2022-03-18T00:00:00\", \"pod_volume\": 587720.7509089999}, {\"date\": \"2022-03-19T00:00:00\", \"pod_volume\": 291719.771781}, {\"date\": \"2022-03-20T00:00:00\", \"pod_volume\": 266221.312317}, {\"date\": \"2022-03-21T00:00:00\", \"pod_volume\": 487760.855128}, {\"date\": \"2022-03-22T00:00:00\", \"pod_volume\": 203649.98329600002}, {\"date\": \"2022-03-23T00:00:00\", \"pod_volume\": 258682.585782}, {\"date\": \"2022-03-24T00:00:00\", \"pod_volume\": 682158.004176}, {\"date\": \"2022-03-25T00:00:00\", \"pod_volume\": 510542.494776}, {\"date\": \"2022-03-26T00:00:00\", \"pod_volume\": 629551.316892}, {\"date\": \"2022-03-27T00:00:00\", \"pod_volume\": 331789.81092099997}, {\"date\": \"2022-03-28T00:00:00\", \"pod_volume\": 18563.134527}, {\"date\": \"2022-03-29T00:00:00\", \"pod_volume\": 211264.456147}, {\"date\": \"2022-03-30T00:00:00\", \"pod_volume\": 324488.530694}, {\"date\": \"2022-03-31T00:00:00\", \"pod_volume\": 94734.568803}, {\"date\": \"2022-04-01T00:00:00\", \"pod_volume\": 159310.473627}, {\"date\": \"2022-04-02T00:00:00\", \"pod_volume\": 175501.039536}, {\"date\": \"2022-04-03T00:00:00\", \"pod_volume\": 117129.758603}, {\"date\": \"2022-04-04T00:00:00\", \"pod_volume\": 255644.436766}, {\"date\": \"2022-04-05T00:00:00\", \"pod_volume\": 236160.106099}, {\"date\": \"2022-04-06T00:00:00\", \"pod_volume\": 279090.25393299997}, {\"date\": \"2022-04-07T00:00:00\", \"pod_volume\": 325257.526313}, {\"date\": \"2022-04-08T00:00:00\", \"pod_volume\": 94773.324831}, {\"date\": \"2022-04-09T00:00:00\", \"pod_volume\": 397505.542275}, {\"date\": \"2022-04-10T00:00:00\", \"pod_volume\": 241248.263563}, {\"date\": \"2022-04-11T00:00:00\", \"pod_volume\": 1037488.4671540001}, {\"date\": \"2022-04-12T00:00:00\", \"pod_volume\": 3897675.123781}, {\"date\": \"2022-04-13T00:00:00\", \"pod_volume\": 3347166.530873}, {\"date\": \"2022-04-14T00:00:00\", \"pod_volume\": 3222953.638002}, {\"date\": \"2022-04-15T00:00:00\", \"pod_volume\": 5745634.098095}, {\"date\": \"2022-04-16T00:00:00\", \"pod_volume\": 4472604.785084}, {\"date\": \"2022-04-17T00:00:00\", \"pod_volume\": 4112721.141445}, {\"date\": \"2022-04-18T00:00:00\", \"pod_volume\": 0.0}, {\"date\": \"2022-04-19T00:00:00\", \"pod_volume\": 0.0}, {\"date\": \"2022-04-20T00:00:00\", \"pod_volume\": 0.0}, {\"date\": \"2022-04-21T00:00:00\", \"pod_volume\": 0.0}, {\"date\": \"2022-04-22T00:00:00\", \"pod_volume\": 0.0}, {\"date\": \"2022-04-23T00:00:00\", \"pod_volume\": 0.0}, {\"date\": \"2022-04-24T00:00:00\", \"pod_volume\": 0.0}, {\"date\": \"2022-04-25T00:00:00\", \"pod_volume\": 0.0}, {\"date\": \"2022-04-26T00:00:00\", \"pod_volume\": 0.0}, {\"date\": \"2022-04-27T00:00:00\", \"pod_volume\": 0.0}, {\"date\": \"2022-04-28T00:00:00\", \"pod_volume\": 0.0}, {\"date\": \"2022-04-29T00:00:00\", \"pod_volume\": 0.0}, {\"date\": \"2022-04-30T00:00:00\", \"pod_volume\": 0.0}, {\"date\": \"2022-05-01T00:00:00\", \"pod_volume\": 0.0}, {\"date\": \"2022-05-02T00:00:00\", \"pod_volume\": 0.0}, {\"date\": \"2022-05-03T00:00:00\", \"pod_volume\": 0.0}, {\"date\": \"2022-05-04T00:00:00\", \"pod_volume\": 0.0}, {\"date\": \"2022-05-05T00:00:00\", \"pod_volume\": 0.0}, {\"date\": \"2022-05-06T00:00:00\", \"pod_volume\": 0.0}, {\"date\": \"2022-05-07T00:00:00\", \"pod_volume\": 0.0}, {\"date\": \"2022-05-08T00:00:00\", \"pod_volume\": 0.0}, {\"date\": \"2022-05-09T00:00:00\", \"pod_volume\": 0.0}, {\"date\": \"2022-05-10T00:00:00\", \"pod_volume\": 0.0}, {\"date\": \"2022-05-11T00:00:00\", \"pod_volume\": 0.0}, {\"date\": \"2022-05-12T00:00:00\", \"pod_volume\": 0.0}, {\"date\": \"2022-05-13T00:00:00\", \"pod_volume\": 0.0}, {\"date\": \"2022-05-14T00:00:00\", \"pod_volume\": 0.0}, {\"date\": \"2022-05-15T00:00:00\", \"pod_volume\": 0.0}, {\"date\": \"2022-05-16T00:00:00\", \"pod_volume\": 0.0}, {\"date\": \"2022-05-17T00:00:00\", \"pod_volume\": 0.0}, {\"date\": \"2022-05-18T00:00:00\", \"pod_volume\": 0.0}, {\"date\": \"2022-05-19T00:00:00\", \"pod_volume\": 0.0}, {\"date\": \"2022-05-20T00:00:00\", \"pod_volume\": 0.0}, {\"date\": \"2022-05-21T00:00:00\", \"pod_volume\": 0.0}, {\"date\": \"2022-05-22T00:00:00\", \"pod_volume\": 0.0}, {\"date\": \"2022-05-23T00:00:00\", \"pod_volume\": 0.0}, {\"date\": \"2022-05-24T00:00:00\", \"pod_volume\": 0.0}, {\"date\": \"2022-05-25T00:00:00\", \"pod_volume\": 0.0}, {\"date\": \"2022-05-26T00:00:00\", \"pod_volume\": 0.0}, {\"date\": \"2022-05-27T00:00:00\", \"pod_volume\": 0.0}, {\"date\": \"2022-05-28T00:00:00\", \"pod_volume\": 0.0}, {\"date\": \"2022-05-29T00:00:00\", \"pod_volume\": 0.0}, {\"date\": \"2022-05-30T00:00:00\", \"pod_volume\": 0.0}, {\"date\": \"2022-05-31T00:00:00\", \"pod_volume\": 0.0}, {\"date\": \"2022-06-01T00:00:00\", \"pod_volume\": 0.0}, {\"date\": \"2022-06-02T00:00:00\", \"pod_volume\": 0.0}, {\"date\": \"2022-06-03T00:00:00\", \"pod_volume\": 0.0}, {\"date\": \"2022-06-04T00:00:00\", \"pod_volume\": 0.0}, {\"date\": \"2022-06-05T00:00:00\", \"pod_volume\": 0.0}, {\"date\": \"2022-06-06T00:00:00\", \"pod_volume\": 0.0}, {\"date\": \"2022-06-07T00:00:00\", \"pod_volume\": 0.0}, {\"date\": \"2022-06-08T00:00:00\", \"pod_volume\": 0.0}, {\"date\": \"2022-06-09T00:00:00\", \"pod_volume\": 0.0}, {\"date\": \"2022-06-10T00:00:00\", \"pod_volume\": 0.0}, {\"date\": \"2022-06-11T00:00:00\", \"pod_volume\": 0.0}, {\"date\": \"2022-06-12T00:00:00\", \"pod_volume\": 0.0}, {\"date\": \"2022-06-13T00:00:00\", \"pod_volume\": 0.0}, {\"date\": \"2022-06-14T00:00:00\", \"pod_volume\": 0.0}, {\"date\": \"2022-06-15T00:00:00\", \"pod_volume\": 0.0}, {\"date\": \"2022-06-16T00:00:00\", \"pod_volume\": 0.0}, {\"date\": \"2022-06-17T00:00:00\", \"pod_volume\": 0.0}, {\"date\": \"2022-06-18T00:00:00\", \"pod_volume\": 0.0}, {\"date\": \"2022-06-19T00:00:00\", \"pod_volume\": 0.0}, {\"date\": \"2022-06-20T00:00:00\", \"pod_volume\": 0.0}, {\"date\": \"2022-06-21T00:00:00\", \"pod_volume\": 0.0}, {\"date\": \"2022-06-22T00:00:00\", \"pod_volume\": 0.0}, {\"date\": \"2022-06-23T00:00:00\", \"pod_volume\": 0.0}, {\"date\": \"2022-06-24T00:00:00\", \"pod_volume\": 0.0}, {\"date\": \"2022-06-25T00:00:00\", \"pod_volume\": 0.0}, {\"date\": \"2022-06-26T00:00:00\", \"pod_volume\": 0.0}, {\"date\": \"2022-06-27T00:00:00\", \"pod_volume\": 0.0}, {\"date\": \"2022-06-28T00:00:00\", \"pod_volume\": 0.0}, {\"date\": \"2022-06-29T00:00:00\", \"pod_volume\": 0.0}, {\"date\": \"2022-06-30T00:00:00\", \"pod_volume\": 0.0}, {\"date\": \"2022-07-01T00:00:00\", \"pod_volume\": 0.0}, {\"date\": \"2022-07-02T00:00:00\", \"pod_volume\": 0.0}, {\"date\": \"2022-07-03T00:00:00\", \"pod_volume\": 0.0}, {\"date\": \"2022-07-04T00:00:00\", \"pod_volume\": 0.0}, {\"date\": \"2022-07-05T00:00:00\", \"pod_volume\": 0.0}, {\"date\": \"2022-07-06T00:00:00\", \"pod_volume\": 0.0}, {\"date\": \"2022-07-07T00:00:00\", \"pod_volume\": 0.0}, {\"date\": \"2022-07-08T00:00:00\", \"pod_volume\": 0.0}, {\"date\": \"2022-07-09T00:00:00\", \"pod_volume\": 0.0}, {\"date\": \"2022-07-10T00:00:00\", \"pod_volume\": 0.0}, {\"date\": \"2022-07-11T00:00:00\", \"pod_volume\": 0.0}, {\"date\": \"2022-07-12T00:00:00\", \"pod_volume\": 0.0}, {\"date\": \"2022-07-13T00:00:00\", \"pod_volume\": 0.0}, {\"date\": \"2022-07-14T00:00:00\", \"pod_volume\": 0.0}, {\"date\": \"2022-07-15T00:00:00\", \"pod_volume\": 0.0}, {\"date\": \"2022-07-16T00:00:00\", \"pod_volume\": 0.0}, {\"date\": \"2022-07-17T00:00:00\", \"pod_volume\": 0.0}, {\"date\": \"2022-07-18T00:00:00\", \"pod_volume\": 0.0}, {\"date\": \"2022-07-19T00:00:00\", \"pod_volume\": 0.0}, {\"date\": \"2022-07-20T00:00:00\", \"pod_volume\": 0.0}, {\"date\": \"2022-07-21T00:00:00\", \"pod_volume\": 0.0}, {\"date\": \"2022-07-22T00:00:00\", \"pod_volume\": 0.0}, {\"date\": \"2022-07-23T00:00:00\", \"pod_volume\": 0.0}, {\"date\": \"2022-07-24T00:00:00\", \"pod_volume\": 0.0}, {\"date\": \"2022-07-25T00:00:00\", \"pod_volume\": 0.0}, {\"date\": \"2022-07-26T00:00:00\", \"pod_volume\": 0.0}, {\"date\": \"2022-07-27T00:00:00\", \"pod_volume\": 0.0}, {\"date\": \"2022-07-28T00:00:00\", \"pod_volume\": 0.0}, {\"date\": \"2022-07-29T00:00:00\", \"pod_volume\": 0.0}, {\"date\": \"2022-07-30T00:00:00\", \"pod_volume\": 0.0}, {\"date\": \"2022-07-31T00:00:00\", \"pod_volume\": 0.0}, {\"date\": \"2022-08-01T00:00:00\", \"pod_volume\": 0.0}, {\"date\": \"2022-08-02T00:00:00\", \"pod_volume\": 0.0}, {\"date\": \"2022-08-03T00:00:00\", \"pod_volume\": 0.0}, {\"date\": \"2022-08-04T00:00:00\", \"pod_volume\": 0.0}, {\"date\": \"2022-08-05T00:00:00\", \"pod_volume\": 8178.416473}, {\"date\": \"2022-08-06T00:00:00\", \"pod_volume\": 8742.811619}, {\"date\": \"2022-08-07T00:00:00\", \"pod_volume\": 1123282.312862}, {\"date\": \"2022-08-08T00:00:00\", \"pod_volume\": 297869.051333}, {\"date\": \"2022-08-09T00:00:00\", \"pod_volume\": 353375.616753}, {\"date\": \"2022-08-10T00:00:00\", \"pod_volume\": 102211.65418499999}, {\"date\": \"2022-08-11T00:00:00\", \"pod_volume\": 31455.947162999997}, {\"date\": \"2022-08-12T00:00:00\", \"pod_volume\": 20363.788045}, {\"date\": \"2022-08-13T00:00:00\", \"pod_volume\": 150837.592466}, {\"date\": \"2022-08-14T00:00:00\", \"pod_volume\": 80241.186542}, {\"date\": \"2022-08-15T00:00:00\", \"pod_volume\": 566227.215336}, {\"date\": \"2022-08-16T00:00:00\", \"pod_volume\": 151533.23544}, {\"date\": \"2022-08-17T00:00:00\", \"pod_volume\": 26890.059281}, {\"date\": \"2022-08-18T00:00:00\", \"pod_volume\": 21506.8148}, {\"date\": \"2022-08-19T00:00:00\", \"pod_volume\": 20499.848111}, {\"date\": \"2022-08-20T00:00:00\", \"pod_volume\": 18931.698237}, {\"date\": \"2022-08-21T00:00:00\", \"pod_volume\": 795388.048281}, {\"date\": \"2022-08-22T00:00:00\", \"pod_volume\": 8409.548002}, {\"date\": \"2022-08-23T00:00:00\", \"pod_volume\": 44529.078977}, {\"date\": \"2022-08-24T00:00:00\", \"pod_volume\": 262499.870746}, {\"date\": \"2022-08-25T00:00:00\", \"pod_volume\": 328043.913045}, {\"date\": \"2022-08-26T00:00:00\", \"pod_volume\": 219833.87433800002}, {\"date\": \"2022-08-27T00:00:00\", \"pod_volume\": 0.0}, {\"date\": \"2022-08-28T00:00:00\", \"pod_volume\": 223234.84194100002}, {\"date\": \"2022-08-29T00:00:00\", \"pod_volume\": 0.0}, {\"date\": \"2022-08-30T00:00:00\", \"pod_volume\": 184955.445709}, {\"date\": \"2022-08-31T00:00:00\", \"pod_volume\": 121370.795675}, {\"date\": \"2022-09-01T00:00:00\", \"pod_volume\": 211308.97713}, {\"date\": \"2022-09-02T00:00:00\", \"pod_volume\": 491242.392546}, {\"date\": \"2022-09-03T00:00:00\", \"pod_volume\": 76569.373835}, {\"date\": \"2022-09-04T00:00:00\", \"pod_volume\": 61688.070296}, {\"date\": \"2022-09-05T00:00:00\", \"pod_volume\": 0.0}, {\"date\": \"2022-09-06T00:00:00\", \"pod_volume\": 188285.92786499998}, {\"date\": \"2022-09-07T00:00:00\", \"pod_volume\": 86806.397492}, {\"date\": \"2022-09-08T00:00:00\", \"pod_volume\": 64134.93862}, {\"date\": \"2022-09-09T00:00:00\", \"pod_volume\": 0.0}, {\"date\": \"2022-09-10T00:00:00\", \"pod_volume\": 229620.743809}, {\"date\": \"2022-09-11T00:00:00\", \"pod_volume\": 19689.962050000002}, {\"date\": \"2022-09-12T00:00:00\", \"pod_volume\": 15281.122452}, {\"date\": \"2022-09-13T00:00:00\", \"pod_volume\": 165545.530122}, {\"date\": \"2022-09-14T00:00:00\", \"pod_volume\": 480.290414}, {\"date\": \"2022-09-15T00:00:00\", \"pod_volume\": 38950.021527000004}, {\"date\": \"2022-09-16T00:00:00\", \"pod_volume\": 4221.510559}]}}, {\"mode\": \"vega-lite\"});\n",
       "</script>"
      ],
      "text/plain": [
       "alt.VConcatChart(...)"
      ]
     },
     "execution_count": 7,
     "metadata": {},
     "output_type": "execute_result"
    }
   ],
   "source": [
    "\"\"\"\n",
    "Some notes: \n",
    "    ser why is vega-lite so hard ʕっ•ᴥ•ʔっ\n",
    "\n",
    "    Cross filtering by temporal domain through an interval selection: \n",
    "        In order to have the separate time axis perform cross filtering to the histogram and heatmap plots, it is necessary \n",
    "        that the encoding (brush uses encoding x, and in time axis, the encoding spec for x is date:T) that is used in the \n",
    "        plot housing the selection also exists and is of the same type within the cross filtered chart. This is why the detail \n",
    "        encoding of the heatmap uses this same value. See the following github link for reference. \n",
    "        https://stackoverflow.com/questions/71249346/use-interval-selection-from-one-dataset-chart-to-filter-data-in-another-dataset\n",
    "        Also it's a bit strange but if this encoding is made ordinal (i.e. date:O in the time axis x encoding) then the inclusion \n",
    "        of the detail encoding in the heatmap is not necessary. Tbh not sure why this is true but documenting nonetheless. \n",
    "        \n",
    "    Filtering by selection when the selection's mapped encoding is binned:\n",
    "        In this case, make sure not to use condition's for encodings as they don't accurately reflect binning. This could be rectified \n",
    "        with an explicit bin transform. See this issue: \n",
    "        https://stackoverflow.com/questions/60994128/how-to-click-on-square-of-heatmap-to-filter-linked-bar-chart-altair\n",
    "\"\"\"\n",
    "\n",
    "width = 750\n",
    "sel_point = alt.selection_single(encodings=['x'], nearest=True, on=\"mouseover\", clear=\"mouseout\", empty=\"none\")\n",
    "sel_brush = alt.selection_interval(encodings=['x'])\n",
    "\n",
    "base = alt.Chart(df_fills[['amount', 'place_in_line', 'price_per_pod', 'date']]\n",
    ").transform_filter(sel_brush)\n",
    "\n",
    "xbin = alt.Bin(extent=[df_fills.place_in_line.min(), df_fills.place_in_line.max()], maxbins=50)\n",
    "\n",
    "histogram_place_in_line = base.mark_rect(\n",
    ").encode(\n",
    "    x=alt.X(\"place_in_line:Q\", bin=xbin, axis=None), \n",
    "    y=alt.Y(\"sum(amount):Q\", axis=alt.Axis(title=\"Bin Volume (Pods)\")), \n",
    "    tooltip=alt.Tooltip(\"sum(amount)\", format=\",d\"),\n",
    ").properties(width=width, height=100)\n",
    "\n",
    "heatmap_base = base.properties(width=width, height=250)\n",
    "heatmap = heatmap_base.mark_rect(\n",
    ").encode(\n",
    "    x=alt.X(\"place_in_line:Q\", bin=xbin), \n",
    "    y=alt.Y(\n",
    "        \"price_per_pod:Q\", \n",
    "        scale=alt.Scale(domain=(0,1)), \n",
    "        bin=alt.Bin(extent=[0,1], step=.1), \n",
    "        axis=alt.Axis(title=\"Price Per Pod ($)\")\n",
    "    ), \n",
    "    color=alt.Color(\"sum(amount)\", scale=alt.Scale(type=\"log\", scheme=\"plasma\")), \n",
    "    detail='date:T',\n",
    "    tooltip=alt.Tooltip(\"sum(amount)\", format=\",d\",)\n",
    ")\n",
    "\n",
    "yield_curve_base = heatmap_base.encode(\n",
    "    x=alt.X(\"place_in_line:Q\", bin=xbin), \n",
    "    y=alt.Y(\"mean(price_per_pod)\"), \n",
    "    color=alt.value(\"#03dbfc\"),\n",
    ")\n",
    "yield_curve_point_size = alt.Size(\"sum(amount)\", scale=alt.Scale(range=[5, 125]))\n",
    "# scatter plot of yield curve \n",
    "yield_curve_points = yield_curve_base.mark_point(\n",
    ").encode(\n",
    "    size=yield_curve_point_size,\n",
    "    tooltip=alt.Tooltip(\"mean(price_per_pod)\")\n",
    ").add_selection(sel_point)\n",
    "# single mark for currently selected point (to visually highlight selection) \n",
    "yield_curve_point_selected = yield_curve_base.mark_point(filled=True\n",
    ").encode(size=yield_curve_point_size\n",
    ").transform_filter(sel_point)\n",
    "# single mark showing value of currently selected point\n",
    "yield_curve_text = yield_curve_base.mark_text(dy=-15, fontSize=15, stroke=\"black\", strokeWidth=.4\n",
    ").encode(\n",
    "    text=alt.Text('mean(price_per_pod):Q', format='.2f')\n",
    ").transform_filter(sel_point)\n",
    "\n",
    "time_axis = alt.Chart(df_vol_daily\n",
    ").mark_bar(\n",
    ").encode(\n",
    "    x=alt.X('date:T', axis=alt.Axis(title=\"Date\", format=\"%b %Y\", tickCount=8)), \n",
    "    y=alt.Y('pod_volume:Q', axis=alt.Axis(title=\"Farmer's Market Total Volume (Pods)\")), \n",
    ").properties(width=width, height=100\n",
    ").add_selection(sel_brush)\n",
    "\n",
    "c = alt.vconcat(\n",
    "    histogram_place_in_line, \n",
    "    alt.layer(heatmap, yield_curve_points, yield_curve_point_selected, yield_curve_text), \n",
    "    bounds=\"flush\"\n",
    ") & time_axis\n",
    "#c.save(\"../schemas/farmers_market_history.json\")\n",
    "c"
   ]
  },
  {
   "cell_type": "code",
   "execution_count": 7,
   "id": "a3a0694b",
   "metadata": {},
   "outputs": [
    {
     "data": {
      "application/json": {
       "$schema": "https://vega.github.io/schema/vega-lite/v4.17.0.json",
       "bounds": "flush",
       "config": {
        "view": {
         "continuousHeight": 300,
         "continuousWidth": 400
        }
       },
       "data": {
        "name": "data-70d9ade8890603a9968f4d60519d8087"
       },
       "datasets": {
        "data-70d9ade8890603a9968f4d60519d8087": [
         {
          "amount": 1293.137085,
          "date": "2022-04-17T00:00:00",
          "place_in_line": 102401954.17438,
          "price_per_pod": 0.57
         },
         {
          "amount": 10701.754385,
          "date": "2022-04-17T00:00:00",
          "place_in_line": 102403247.311465,
          "price_per_pod": 0.57
         },
         {
          "amount": 521.806033,
          "date": "2022-04-17T00:00:00",
          "place_in_line": 102413949.06585,
          "price_per_pod": 0.57
         },
         {
          "amount": 5129.256854,
          "date": "2022-04-17T00:00:00",
          "place_in_line": 102414470.871883,
          "price_per_pod": 0.57
         },
         {
          "amount": 40999.762222,
          "date": "2022-04-17T00:00:00",
          "place_in_line": 102419600.128737,
          "price_per_pod": 0.57
         },
         {
          "amount": 1580.849582,
          "date": "2022-04-17T00:00:00",
          "place_in_line": 102460599.890959,
          "price_per_pod": 0.57
         },
         {
          "amount": 668.874033,
          "date": "2022-04-17T00:00:00",
          "place_in_line": 102462180.740541,
          "price_per_pod": 0.57
         },
         {
          "amount": 1537.628217,
          "date": "2022-04-17T00:00:00",
          "place_in_line": 102462849.614574,
          "price_per_pod": 0.57
         },
         {
          "amount": 3615.511208,
          "date": "2022-04-17T00:00:00",
          "place_in_line": 102464387.242791,
          "price_per_pod": 0.57
         },
         {
          "amount": 1257.372701,
          "date": "2022-04-17T00:00:00",
          "place_in_line": 102468002.753999,
          "price_per_pod": 0.57
         },
         {
          "amount": 5263.157894,
          "date": "2022-04-17T00:00:00",
          "place_in_line": 102469260.1267,
          "price_per_pod": 0.57
         },
         {
          "amount": 7918.078619,
          "date": "2022-04-17T00:00:00",
          "place_in_line": 102474523.284594,
          "price_per_pod": 0.57
         },
         {
          "amount": 16752.841008,
          "date": "2022-04-17T00:00:00",
          "place_in_line": 102482441.363213,
          "price_per_pod": 0.57
         },
         {
          "amount": 2693.06694,
          "date": "2022-04-17T00:00:00",
          "place_in_line": 102499194.204221,
          "price_per_pod": 0.57
         },
         {
          "amount": 66.903217,
          "date": "2022-04-17T00:00:00",
          "place_in_line": 102501887.271161,
          "price_per_pod": 0.57
         },
         {
          "amount": 1476.561902,
          "date": "2022-08-10T00:00:00",
          "place_in_line": 112305865.851667,
          "price_per_pod": 0.37
         },
         {
          "amount": 27103.616715,
          "date": "2022-04-11T00:00:00",
          "place_in_line": 117206229.423574,
          "price_per_pod": 0.2
         },
         {
          "amount": 5555.555555,
          "date": "2022-02-06T00:00:00",
          "place_in_line": 117233333.040289,
          "price_per_pod": 0.18
         },
         {
          "amount": 125.474075,
          "date": "2022-04-15T00:00:00",
          "place_in_line": 117206229.423574,
          "price_per_pod": 0.69
         },
         {
          "amount": 11371.417669,
          "date": "2022-04-15T00:00:00",
          "place_in_line": 117206354.897649,
          "price_per_pod": 0.69
         },
         {
          "amount": 1373.18136,
          "date": "2022-04-16T00:00:00",
          "place_in_line": 117217726.315318,
          "price_per_pod": 0.69
         },
         {
          "amount": 11945.702437,
          "date": "2022-04-16T00:00:00",
          "place_in_line": 117219099.496678,
          "price_per_pod": 0.69
         },
         {
          "amount": 2287.841173,
          "date": "2022-04-16T00:00:00",
          "place_in_line": 117231045.199115,
          "price_per_pod": 0.69
         },
         {
          "amount": 12681.413672,
          "date": "2022-03-16T00:00:00",
          "place_in_line": 117244875.106467,
          "price_per_pod": 0.1
         },
         {
          "amount": 64805.134412,
          "date": "2022-02-22T00:00:00",
          "place_in_line": 122173282.679601,
          "price_per_pod": 0.08
         },
         {
          "amount": 25689.347322,
          "date": "2022-04-13T00:00:00",
          "place_in_line": 122173282.679601,
          "price_per_pod": 0.45
         },
         {
          "amount": 641.9439,
          "date": "2022-04-13T00:00:00",
          "place_in_line": 122198972.026923,
          "price_per_pod": 0.45
         },
         {
          "amount": 11265.2698,
          "date": "2022-04-13T00:00:00",
          "place_in_line": 122199613.970823,
          "price_per_pod": 0.6
         },
         {
          "amount": 2751.729452,
          "date": "2022-04-16T00:00:00",
          "place_in_line": 122210879.240623,
          "price_per_pod": 0.725
         },
         {
          "amount": 2500,
          "date": "2022-04-17T00:00:00",
          "place_in_line": 122213630.970075,
          "price_per_pod": 0.725
         },
         {
          "amount": 21956.843937,
          "date": "2022-04-17T00:00:00",
          "place_in_line": 122216130.970075,
          "price_per_pod": 0.8
         },
         {
          "amount": 122328.3945,
          "date": "2022-02-22T00:00:00",
          "place_in_line": 122238087.814013,
          "price_per_pod": 0.08
         },
         {
          "amount": 21058.843918,
          "date": "2022-03-16T00:00:00",
          "place_in_line": 122360416.208513,
          "price_per_pod": 0.1
         },
         {
          "amount": 16604.041484,
          "date": "2022-02-06T00:00:00",
          "place_in_line": 128204663.97610599,
          "price_per_pod": 0.2
         },
         {
          "amount": 33653.558763,
          "date": "2022-02-26T00:00:00",
          "place_in_line": 128226216.485089,
          "price_per_pod": 0.03
         },
         {
          "amount": 6285.570368,
          "date": "2022-02-06T00:00:00",
          "place_in_line": 128557679.667004,
          "price_per_pod": 0.35
         },
         {
          "amount": 10000,
          "date": "2022-02-09T00:00:00",
          "place_in_line": 128563965.237372,
          "price_per_pod": 0.15
         },
         {
          "amount": 29930.693725,
          "date": "2022-03-08T00:00:00",
          "place_in_line": 128573965.237372,
          "price_per_pod": 0.08
         },
         {
          "amount": 125375.7465,
          "date": "2022-03-09T00:00:00",
          "place_in_line": 128603895.931097,
          "price_per_pod": 0.08
         },
         {
          "amount": 31250,
          "date": "2022-03-09T00:00:00",
          "place_in_line": 128729271.677597,
          "price_per_pod": 0.08
         },
         {
          "amount": 37500,
          "date": "2022-03-09T00:00:00",
          "place_in_line": 128760521.677597,
          "price_per_pod": 0.08
         },
         {
          "amount": 13946.070284,
          "date": "2022-03-09T00:00:00",
          "place_in_line": 128798021.677597,
          "price_per_pod": 0.08
         },
         {
          "amount": 66346.441237,
          "date": "2022-02-26T00:00:00",
          "place_in_line": 131492704.901115,
          "price_per_pod": 0.03
         },
         {
          "amount": 4716.970693,
          "date": "2022-02-16T00:00:00",
          "place_in_line": 131580722.49338,
          "price_per_pod": 0.075
         },
         {
          "amount": 18433.333333,
          "date": "2022-02-16T00:00:00",
          "place_in_line": 131585439.464073,
          "price_per_pod": 0.075
         },
         {
          "amount": 42647.602248,
          "date": "2022-02-16T00:00:00",
          "place_in_line": 131603872.797406,
          "price_per_pod": 0.075
         },
         {
          "amount": 20160.645556,
          "date": "2022-09-10T00:00:00",
          "place_in_line": 131646520.399654,
          "price_per_pod": 0.16
         },
         {
          "amount": 56.196283,
          "date": "2022-09-13T00:00:00",
          "place_in_line": 131666681.04521,
          "price_per_pod": 0.1
         },
         {
          "amount": 7896.383285,
          "date": "2022-04-11T00:00:00",
          "place_in_line": 133657386.734556,
          "price_per_pod": 0.2
         },
         {
          "amount": 3333.333333,
          "date": "2022-04-15T00:00:00",
          "place_in_line": 133657386.734556,
          "price_per_pod": 0.6
         },
         {
          "amount": 4063.998521,
          "date": "2022-04-15T00:00:00",
          "place_in_line": 133660720.067889,
          "price_per_pod": 0.6
         },
         {
          "amount": 499.05143,
          "date": "2022-04-16T00:00:00",
          "place_in_line": 133664784.06641,
          "price_per_pod": 0.6
         },
         {
          "amount": 20000,
          "date": "2022-08-13T00:00:00",
          "place_in_line": 133684865.46910201,
          "price_per_pod": 0.22
         },
         {
          "amount": 8190.484804,
          "date": "2022-03-30T00:00:00",
          "place_in_line": 136878766.211724,
          "price_per_pod": 0.25
         },
         {
          "amount": 34430.663633,
          "date": "2022-03-16T00:00:00",
          "place_in_line": 136878766.211724,
          "price_per_pod": 0.15
         },
         {
          "amount": 2654.796068,
          "date": "2022-03-31T00:00:00",
          "place_in_line": 136886956.696528,
          "price_per_pod": 0.25
         },
         {
          "amount": 8000,
          "date": "2022-04-01T00:00:00",
          "place_in_line": 136889611.492596,
          "price_per_pod": 0.25
         },
         {
          "amount": 2592.066456,
          "date": "2022-04-05T00:00:00",
          "place_in_line": 136897611.492596,
          "price_per_pod": 0.25
         },
         {
          "amount": 12993.316305,
          "date": "2022-04-06T00:00:00",
          "place_in_line": 136900203.559052,
          "price_per_pod": 0.25
         },
         {
          "amount": 2935.93438,
          "date": "2022-03-18T00:00:00",
          "place_in_line": 136913196.875357,
          "price_per_pod": 0.15
         },
         {
          "amount": 8000,
          "date": "2022-03-18T00:00:00",
          "place_in_line": 136916132.809737,
          "price_per_pod": 0.15
         },
         {
          "amount": 55399.924533,
          "date": "2022-03-18T00:00:00",
          "place_in_line": 136924132.809737,
          "price_per_pod": 0.15
         },
         {
          "amount": 1000,
          "date": "2022-03-18T00:00:00",
          "place_in_line": 136979532.73427,
          "price_per_pod": 0.15
         },
         {
          "amount": 1000,
          "date": "2022-04-13T00:00:00",
          "place_in_line": 136979532.73427,
          "price_per_pod": 0.5
         },
         {
          "amount": 110395.261033,
          "date": "2022-03-18T00:00:00",
          "place_in_line": 136980532.73427,
          "price_per_pod": 0.15
         },
         {
          "amount": 91376.11728,
          "date": "2022-03-22T00:00:00",
          "place_in_line": 136980532.73427,
          "price_per_pod": 0.2
         },
         {
          "amount": 19019.143753,
          "date": "2022-03-25T00:00:00",
          "place_in_line": 137071908.85155,
          "price_per_pod": 0.2
         },
         {
          "amount": 33932.86714,
          "date": "2022-03-19T00:00:00",
          "place_in_line": 137090927.995303,
          "price_per_pod": 0.15
         },
         {
          "amount": 33333.385933,
          "date": "2022-03-19T00:00:00",
          "place_in_line": 137124860.862443,
          "price_per_pod": 0.15
         },
         {
          "amount": 5268.032293,
          "date": "2022-04-06T00:00:00",
          "place_in_line": 137124860.862443,
          "price_per_pod": 0.3
         },
         {
          "amount": 17352.834315,
          "date": "2022-04-16T00:00:00",
          "place_in_line": 137130130.894736,
          "price_per_pod": 0.59
         },
         {
          "amount": 10087.313298,
          "date": "2022-04-16T00:00:00",
          "place_in_line": 137147483.729051,
          "price_per_pod": 0.59
         },
         {
          "amount": 19.169818,
          "date": "2022-08-05T00:00:00",
          "place_in_line": 137157571.042349,
          "price_per_pod": 0.8
         },
         {
          "amount": 623.206025,
          "date": "2022-04-16T00:00:00",
          "place_in_line": 137157571.042349,
          "price_per_pod": 0.59
         },
         {
          "amount": 70534.236366,
          "date": "2022-03-20T00:00:00",
          "place_in_line": 137158194.248376,
          "price_per_pod": 0.15
         },
         {
          "amount": 19406.193406,
          "date": "2022-03-21T00:00:00",
          "place_in_line": 137228728.484742,
          "price_per_pod": 0.15
         },
         {
          "amount": 962.82698,
          "date": "2022-03-21T00:00:00",
          "place_in_line": 137248134.678148,
          "price_per_pod": 0.15
         },
         {
          "amount": 6666,
          "date": "2022-03-21T00:00:00",
          "place_in_line": 137249097.505128,
          "price_per_pod": 0.15
         },
         {
          "amount": 6666,
          "date": "2022-04-08T00:00:00",
          "place_in_line": 137249097.505128,
          "price_per_pod": 0.3
         },
         {
          "amount": 9614.320026,
          "date": "2022-03-21T00:00:00",
          "place_in_line": 137255763.505128,
          "price_per_pod": 0.15
         },
         {
          "amount": 810.24308,
          "date": "2022-03-22T00:00:00",
          "place_in_line": 137265377.825154,
          "price_per_pod": 0.15
         },
         {
          "amount": 1990.688953,
          "date": "2022-03-22T00:00:00",
          "place_in_line": 137266188.068234,
          "price_per_pod": 0.15
         },
         {
          "amount": 1990.740993,
          "date": "2022-03-22T00:00:00",
          "place_in_line": 137268178.757187,
          "price_per_pod": 0.15
         },
         {
          "amount": 5973.24596,
          "date": "2022-03-22T00:00:00",
          "place_in_line": 137270169.49818,
          "price_per_pod": 0.15
         },
         {
          "amount": 39760.774766,
          "date": "2022-03-22T00:00:00",
          "place_in_line": 137276142.74414,
          "price_per_pod": 0.15
         },
         {
          "amount": 6856.167984,
          "date": "2022-04-06T00:00:00",
          "place_in_line": 137276142.74414,
          "price_per_pod": 0.26
         },
         {
          "amount": 1241.264511,
          "date": "2022-04-10T00:00:00",
          "place_in_line": 137282998.912124,
          "price_per_pod": 0.26
         },
         {
          "amount": 31663.342271,
          "date": "2022-04-11T00:00:00",
          "place_in_line": 137284240.176635,
          "price_per_pod": 0.26
         },
         {
          "amount": 3938.428586,
          "date": "2022-03-22T00:00:00",
          "place_in_line": 137315903.518906,
          "price_per_pod": 0.15
         },
         {
          "amount": 3333,
          "date": "2022-04-14T00:00:00",
          "place_in_line": 137319841.947492,
          "price_per_pod": 0.5
         },
         {
          "amount": 3333,
          "date": "2022-03-22T00:00:00",
          "place_in_line": 137319841.947492,
          "price_per_pod": 0.15
         },
         {
          "amount": 7983.509093,
          "date": "2022-03-24T00:00:00",
          "place_in_line": 137323174.947492,
          "price_per_pod": 0.15
         },
         {
          "amount": 3500,
          "date": "2022-04-01T00:00:00",
          "place_in_line": 137323174.947492,
          "price_per_pod": 0.24
         },
         {
          "amount": 8000,
          "date": "2022-03-24T00:00:00",
          "place_in_line": 137331158.456585,
          "price_per_pod": 0.15
         },
         {
          "amount": 5833.333333,
          "date": "2022-03-24T00:00:00",
          "place_in_line": 137339158.456585,
          "price_per_pod": 0.15
         },
         {
          "amount": 7329.46184,
          "date": "2022-04-11T00:00:00",
          "place_in_line": 137344991.789918,
          "price_per_pod": 0.3
         },
         {
          "amount": 7329.46184,
          "date": "2022-03-24T00:00:00",
          "place_in_line": 137344991.789918,
          "price_per_pod": 0.15
         },
         {
          "amount": 20000,
          "date": "2022-04-04T00:00:00",
          "place_in_line": 139698958.414857,
          "price_per_pod": 0.2
         },
         {
          "amount": 11761.14333,
          "date": "2022-04-13T00:00:00",
          "place_in_line": 139698958.414857,
          "price_per_pod": 0.5
         },
         {
          "amount": 5603.412867,
          "date": "2022-04-16T00:00:00",
          "place_in_line": 139698958.414857,
          "price_per_pod": 0.58
         },
         {
          "amount": 6157.730462,
          "date": "2022-04-16T00:00:00",
          "place_in_line": 139704561.827724,
          "price_per_pod": 0.58
         },
         {
          "amount": 1000,
          "date": "2022-04-15T00:00:00",
          "place_in_line": 139710719.558187,
          "price_per_pod": 0.5
         },
         {
          "amount": 57.126564,
          "date": "2022-04-15T00:00:00",
          "place_in_line": 139711719.558187,
          "price_per_pod": 0.5
         },
         {
          "amount": 865.788998,
          "date": "2022-04-15T00:00:00",
          "place_in_line": 139711776.684751,
          "price_per_pod": 0.5
         },
         {
          "amount": 1178.558112,
          "date": "2022-04-15T00:00:00",
          "place_in_line": 139712642.473749,
          "price_per_pod": 0.5
         },
         {
          "amount": 5137.382996,
          "date": "2022-04-15T00:00:00",
          "place_in_line": 139713821.031861,
          "price_per_pod": 0.5
         },
         {
          "amount": 56092.082506,
          "date": "2022-02-18T00:00:00",
          "place_in_line": 145620692.516754,
          "price_per_pod": 0.225
         },
         {
          "amount": 5746.830768,
          "date": "2022-04-01T00:00:00",
          "place_in_line": 145580692.516754,
          "price_per_pod": 0.225
         },
         {
          "amount": 209.844262,
          "date": "2022-08-08T00:00:00",
          "place_in_line": 145586439.347522,
          "price_per_pod": 0.61
         },
         {
          "amount": 36912.53565,
          "date": "2022-09-10T00:00:00",
          "place_in_line": 145689762.59926,
          "price_per_pod": 0.14
         },
         {
          "amount": 50000,
          "date": "2022-09-04T00:00:00",
          "place_in_line": 145676784.59926,
          "price_per_pod": 0.1
         },
         {
          "amount": 3000,
          "date": "2022-04-13T00:00:00",
          "place_in_line": 146155109.178928,
          "price_per_pod": 0.4
         },
         {
          "amount": 21743.427538,
          "date": "2022-04-13T00:00:00",
          "place_in_line": 147350708.377729,
          "price_per_pod": 0.44
         },
         {
          "amount": 1993.398346,
          "date": "2022-09-02T00:00:00",
          "place_in_line": 147408661.74273,
          "price_per_pod": 0.15
         },
         {
          "amount": 38582.448637,
          "date": "2022-09-10T00:00:00",
          "place_in_line": 147410655.141076,
          "price_per_pod": 0.135
         },
         {
          "amount": 6167.53102,
          "date": "2022-04-17T00:00:00",
          "place_in_line": 147968440.390054,
          "price_per_pod": 0.54
         },
         {
          "amount": 132759.819616,
          "date": "2022-04-17T00:00:00",
          "place_in_line": 147974607.921074,
          "price_per_pod": 0.54
         },
         {
          "amount": 27307.181096,
          "date": "2022-04-17T00:00:00",
          "place_in_line": 148107367.74069,
          "price_per_pod": 0.54
         },
         {
          "amount": 13825.576144,
          "date": "2022-04-17T00:00:00",
          "place_in_line": 148134674.921786,
          "price_per_pod": 0.54
         },
         {
          "amount": 29419.590331,
          "date": "2022-04-17T00:00:00",
          "place_in_line": 148148500.49793,
          "price_per_pod": 0.54
         },
         {
          "amount": 2000,
          "date": "2022-04-17T00:00:00",
          "place_in_line": 148177920.088261,
          "price_per_pod": 0.54
         },
         {
          "amount": 12909.150685,
          "date": "2022-04-17T00:00:00",
          "place_in_line": 148179920.088261,
          "price_per_pod": 0.54
         },
         {
          "amount": 31956.558401,
          "date": "2022-04-17T00:00:00",
          "place_in_line": 148192829.238946,
          "price_per_pod": 0.54
         },
         {
          "amount": 217.652983,
          "date": "2022-04-17T00:00:00",
          "place_in_line": 148224785.797347,
          "price_per_pod": 0.54
         },
         {
          "amount": 447.087931,
          "date": "2022-04-17T00:00:00",
          "place_in_line": 148225003.45033,
          "price_per_pod": 0.54
         },
         {
          "amount": 3600,
          "date": "2022-04-16T00:00:00",
          "place_in_line": 148977930.924047,
          "price_per_pod": 0.5
         },
         {
          "amount": 800,
          "date": "2022-04-16T00:00:00",
          "place_in_line": 148981530.924047,
          "price_per_pod": 0.5
         },
         {
          "amount": 90152.601115,
          "date": "2022-04-16T00:00:00",
          "place_in_line": 148982330.924047,
          "price_per_pod": 0.5
         },
         {
          "amount": 72107.788456,
          "date": "2022-04-14T00:00:00",
          "place_in_line": 149815249.080456,
          "price_per_pod": 0.5
         },
         {
          "amount": 20833.333332,
          "date": "2022-04-16T00:00:00",
          "place_in_line": 149887356.868912,
          "price_per_pod": 0.5
         },
         {
          "amount": 29006.615802,
          "date": "2022-04-16T00:00:00",
          "place_in_line": 149908190.202244,
          "price_per_pod": 0.5
         },
         {
          "amount": 30000,
          "date": "2022-04-16T00:00:00",
          "place_in_line": 149937196.818046,
          "price_per_pod": 0.5
         },
         {
          "amount": 14596.26168,
          "date": "2022-04-16T00:00:00",
          "place_in_line": 149967196.818046,
          "price_per_pod": 0.5
         },
         {
          "amount": 4811.715614,
          "date": "2022-04-16T00:00:00",
          "place_in_line": 149981793.079726,
          "price_per_pod": 0.5
         },
         {
          "amount": 1354.378846,
          "date": "2022-04-16T00:00:00",
          "place_in_line": 149986604.79534,
          "price_per_pod": 0.5
         },
         {
          "amount": 2191.023676,
          "date": "2022-04-16T00:00:00",
          "place_in_line": 149987959.174186,
          "price_per_pod": 0.5
         },
         {
          "amount": 4057.14725,
          "date": "2022-04-16T00:00:00",
          "place_in_line": 149990150.197862,
          "price_per_pod": 0.5
         },
         {
          "amount": 4454.797628,
          "date": "2022-04-16T00:00:00",
          "place_in_line": 149994207.345112,
          "price_per_pod": 0.5
         },
         {
          "amount": 12050.549452,
          "date": "2022-04-17T00:00:00",
          "place_in_line": 149998662.14274,
          "price_per_pod": 0.5
         },
         {
          "amount": 20159.065566,
          "date": "2022-09-08T00:00:00",
          "place_in_line": 150059373.596047,
          "price_per_pod": 0.09
         },
         {
          "amount": 5174.77628,
          "date": "2022-09-12T00:00:00",
          "place_in_line": 150079532.661613,
          "price_per_pod": 0.1
         },
         {
          "amount": 30310.03795,
          "date": "2022-09-10T00:00:00",
          "place_in_line": 150079532.661613,
          "price_per_pod": 0.1
         },
         {
          "amount": 34725.013824,
          "date": "2022-04-13T00:00:00",
          "place_in_line": 152069659.197493,
          "price_per_pod": 0.33
         },
         {
          "amount": 23198.24,
          "date": "2022-04-17T00:00:00",
          "place_in_line": 154135094.984517,
          "price_per_pod": 0.5
         },
         {
          "amount": 12362.43922,
          "date": "2022-04-13T00:00:00",
          "place_in_line": 157839880.097242,
          "price_per_pod": 0.45
         },
         {
          "amount": 17313.210068,
          "date": "2022-04-13T00:00:00",
          "place_in_line": 157852242.536462,
          "price_per_pod": 0.45
         },
         {
          "amount": 17128.687218,
          "date": "2022-04-16T00:00:00",
          "place_in_line": 157869555.74653,
          "price_per_pod": 0.485
         },
         {
          "amount": 5000.092372,
          "date": "2022-04-16T00:00:00",
          "place_in_line": 157886684.433748,
          "price_per_pod": 0.485
         },
         {
          "amount": 4912.604718,
          "date": "2022-04-14T00:00:00",
          "place_in_line": 167963234.163137,
          "price_per_pod": 0.33
         },
         {
          "amount": 66666.666666,
          "date": "2022-02-27T00:00:00",
          "place_in_line": 168002025.206659,
          "price_per_pod": 0.03
         },
         {
          "amount": 4363.527272,
          "date": "2022-04-14T00:00:00",
          "place_in_line": 168574996.066331,
          "price_per_pod": 0.43
         },
         {
          "amount": 5868.852168,
          "date": "2022-04-17T00:00:00",
          "place_in_line": 168579359.593603,
          "price_per_pod": 0.45
         },
         {
          "amount": 25432.470215,
          "date": "2022-03-25T00:00:00",
          "place_in_line": 170650277.4519,
          "price_per_pod": 0.1667
         },
         {
          "amount": 200.302309,
          "date": "2022-03-28T00:00:00",
          "place_in_line": 170675709.922115,
          "price_per_pod": 0.1667
         },
         {
          "amount": 1568.445146,
          "date": "2022-03-30T00:00:00",
          "place_in_line": 170675910.224424,
          "price_per_pod": 0.157
         },
         {
          "amount": 2250.551935,
          "date": "2022-04-13T00:00:00",
          "place_in_line": 170677478.66957,
          "price_per_pod": 0.4
         },
         {
          "amount": 31847.133757,
          "date": "2022-03-30T00:00:00",
          "place_in_line": 170677478.66957,
          "price_per_pod": 0.157
         },
         {
          "amount": 29596.58182,
          "date": "2022-04-14T00:00:00",
          "place_in_line": 170679729.221505,
          "price_per_pod": 0.4
         },
         {
          "amount": 4296.524923,
          "date": "2022-03-31T00:00:00",
          "place_in_line": 170709325.803327,
          "price_per_pod": 0.157
         },
         {
          "amount": 1273.88535,
          "date": "2022-03-31T00:00:00",
          "place_in_line": 170713622.32825,
          "price_per_pod": 0.157
         },
         {
          "amount": 15454.078646,
          "date": "2022-04-17T00:00:00",
          "place_in_line": 170714896.2136,
          "price_per_pod": 0.475
         },
         {
          "amount": 24923.545575,
          "date": "2022-03-31T00:00:00",
          "place_in_line": 170714896.2136,
          "price_per_pod": 0.157
         },
         {
          "amount": 9469.466929,
          "date": "2022-04-17T00:00:00",
          "place_in_line": 170730350.292246,
          "price_per_pod": 0.475
         },
         {
          "amount": 60968.023969,
          "date": "2022-08-07T00:00:00",
          "place_in_line": 196687575.224197,
          "price_per_pod": 0.18
         },
         {
          "amount": 11506.8148,
          "date": "2022-08-18T00:00:00",
          "place_in_line": 197040534.186448,
          "price_per_pod": 0.06
         },
         {
          "amount": 183632.739945,
          "date": "2022-08-21T00:00:00",
          "place_in_line": 197052041.001248,
          "price_per_pod": 0.055
         },
         {
          "amount": 505635.35728,
          "date": "2022-08-21T00:00:00",
          "place_in_line": 197235673.741193,
          "price_per_pod": 0.05
         },
         {
          "amount": 15229.04184,
          "date": "2022-08-31T00:00:00",
          "place_in_line": 201269337.108906,
          "price_per_pod": 0.05
         },
         {
          "amount": 3759.398496,
          "date": "2022-03-12T00:00:00",
          "place_in_line": 202229243.601483,
          "price_per_pod": 0.133
         },
         {
          "amount": 2326.237721,
          "date": "2022-03-12T00:00:00",
          "place_in_line": 202233002.999979,
          "price_per_pod": 0.133
         },
         {
          "amount": 1466.439378,
          "date": "2022-03-12T00:00:00",
          "place_in_line": 202235329.2377,
          "price_per_pod": 0.14
         },
         {
          "amount": 25140.924405,
          "date": "2022-03-13T00:00:00",
          "place_in_line": 202236795.677078,
          "price_per_pod": 0.14
         },
         {
          "amount": 14065,
          "date": "2022-04-12T00:00:00",
          "place_in_line": 203059138.411712,
          "price_per_pod": 0.25
         },
         {
          "amount": 10000,
          "date": "2022-08-08T00:00:00",
          "place_in_line": 203073203.411712,
          "price_per_pod": 0.19
         },
         {
          "amount": 30687.677344,
          "date": "2022-08-10T00:00:00",
          "place_in_line": 203083203.411712,
          "price_per_pod": 0.15
         },
         {
          "amount": 653.64814,
          "date": "2022-03-19T00:00:00",
          "place_in_line": 204483741.086104,
          "price_per_pod": 0.135
         },
         {
          "amount": 4607.540859,
          "date": "2022-03-25T00:00:00",
          "place_in_line": 204484394.734244,
          "price_per_pod": 0.135
         },
         {
          "amount": 6037.629659,
          "date": "2022-03-30T00:00:00",
          "place_in_line": 204489002.275103,
          "price_per_pod": 0.135
         },
         {
          "amount": 10948.490796,
          "date": "2022-04-01T00:00:00",
          "place_in_line": 204495039.904762,
          "price_per_pod": 0.135
         },
         {
          "amount": 17152.586398,
          "date": "2022-04-13T00:00:00",
          "place_in_line": 206610169.922313,
          "price_per_pod": 0.35
         },
         {
          "amount": 22243.015724,
          "date": "2022-04-12T00:00:00",
          "place_in_line": 209232169.528154,
          "price_per_pod": 0.22
         },
         {
          "amount": 287.750862,
          "date": "2022-04-11T00:00:00",
          "place_in_line": 211307962.66146,
          "price_per_pod": 0.07
         },
         {
          "amount": 14981.210723,
          "date": "2022-04-12T00:00:00",
          "place_in_line": 211471591.689415,
          "price_per_pod": 0.209
         },
         {
          "amount": 3710.134756,
          "date": "2022-04-16T00:00:00",
          "place_in_line": 214864041.169245,
          "price_per_pod": 0.25
         },
         {
          "amount": 11008.858783,
          "date": "2022-08-08T00:00:00",
          "place_in_line": 214830162.730441,
          "price_per_pod": 0.25
         },
         {
          "amount": 12216.139,
          "date": "2022-08-08T00:00:00",
          "place_in_line": 214841171.589224,
          "price_per_pod": 0.18
         },
         {
          "amount": 7868.244366,
          "date": "2022-08-08T00:00:00",
          "place_in_line": 214853387.728224,
          "price_per_pod": 0.18
         },
         {
          "amount": 31920.948003,
          "date": "2022-04-16T00:00:00",
          "place_in_line": 214867751.304001,
          "price_per_pod": 0.3
         },
         {
          "amount": 1862.917241,
          "date": "2022-04-16T00:00:00",
          "place_in_line": 214899672.252004,
          "price_per_pod": 0.3
         },
         {
          "amount": 838.565448,
          "date": "2022-04-16T00:00:00",
          "place_in_line": 215055564.317691,
          "price_per_pod": 0.35
         },
         {
          "amount": 3679.402542,
          "date": "2022-04-11T00:00:00",
          "place_in_line": 215055564.317691,
          "price_per_pod": 0.07
         },
         {
          "amount": 2840.837091,
          "date": "2022-04-16T00:00:00",
          "place_in_line": 215056402.883139,
          "price_per_pod": 0.35
         },
         {
          "amount": 3855.741975,
          "date": "2022-03-12T00:00:00",
          "place_in_line": 218671968.549714,
          "price_per_pod": 0.12
         },
         {
          "amount": 1894.2869,
          "date": "2022-03-15T00:00:00",
          "place_in_line": 218675824.291689,
          "price_per_pod": 0.12
         },
         {
          "amount": 4593.795975,
          "date": "2022-03-18T00:00:00",
          "place_in_line": 218677718.578589,
          "price_per_pod": 0.12
         },
         {
          "amount": 19294.351466,
          "date": "2022-03-30T00:00:00",
          "place_in_line": 218682312.374564,
          "price_per_pod": 0.12
         },
         {
          "amount": 30301.264175,
          "date": "2022-04-01T00:00:00",
          "place_in_line": 218701606.72603,
          "price_per_pod": 0.12
         },
         {
          "amount": 28885.163958,
          "date": "2022-04-02T00:00:00",
          "place_in_line": 218731907.990205,
          "price_per_pod": 0.12
         },
         {
          "amount": 6658.333333,
          "date": "2022-04-02T00:00:00",
          "place_in_line": 218760793.154163,
          "price_per_pod": 0.12
         },
         {
          "amount": 60174.119496,
          "date": "2022-04-03T00:00:00",
          "place_in_line": 218767451.487496,
          "price_per_pod": 0.12
         },
         {
          "amount": 1610.099875,
          "date": "2022-04-13T00:00:00",
          "place_in_line": 219659688.64833,
          "price_per_pod": 0.28
         },
         {
          "amount": 22000,
          "date": "2022-04-14T00:00:00",
          "place_in_line": 219661298.748205,
          "price_per_pod": 0.25
         },
         {
          "amount": 83262.125763,
          "date": "2022-04-14T00:00:00",
          "place_in_line": 219683298.748205,
          "price_per_pod": 0.24
         },
         {
          "amount": 42005.288414,
          "date": "2022-02-19T00:00:00",
          "place_in_line": 221003663.002392,
          "price_per_pod": 0.01
         },
         {
          "amount": 136363.636363,
          "date": "2022-02-19T00:00:00",
          "place_in_line": 221045668.290806,
          "price_per_pod": 0.011
         },
         {
          "amount": 20023.987333,
          "date": "2022-02-19T00:00:00",
          "place_in_line": 221182031.927169,
          "price_per_pod": 0.03
         },
         {
          "amount": 48943.894047,
          "date": "2022-03-12T00:00:00",
          "place_in_line": 221365023.65987,
          "price_per_pod": 0.08
         },
         {
          "amount": 30093.729527,
          "date": "2022-04-06T00:00:00",
          "place_in_line": 221777246.378393,
          "price_per_pod": 0.18
         },
         {
          "amount": 18253.99318,
          "date": "2022-04-12T00:00:00",
          "place_in_line": 221807340.10792,
          "price_per_pod": 0.18
         },
         {
          "amount": 2541.993926,
          "date": "2022-04-14T00:00:00",
          "place_in_line": 221825594.1011,
          "price_per_pod": 0.28
         },
         {
          "amount": 2541.993926,
          "date": "2022-04-11T00:00:00",
          "place_in_line": 221825594.1011,
          "price_per_pod": 0.07
         },
         {
          "amount": 20000,
          "date": "2022-02-05T00:00:00",
          "place_in_line": 222197249.91035,
          "price_per_pod": 0.2
         },
         {
          "amount": 90000,
          "date": "2022-04-07T00:00:00",
          "place_in_line": 225413555.091497,
          "price_per_pod": 0.06
         },
         {
          "amount": 77355,
          "date": "2022-04-11T00:00:00",
          "place_in_line": 225413555.091497,
          "price_per_pod": 0.16
         },
         {
          "amount": 84842.86652,
          "date": "2022-04-12T00:00:00",
          "place_in_line": 228686945.368367,
          "price_per_pod": 0.18
         },
         {
          "amount": 3810.749777,
          "date": "2022-02-08T00:00:00",
          "place_in_line": 228808276.37377298,
          "price_per_pod": 0.37
         },
         {
          "amount": 4954.9711,
          "date": "2022-03-11T00:00:00",
          "place_in_line": 228812087.12355,
          "price_per_pod": 0.07
         },
         {
          "amount": 7229.528214,
          "date": "2022-03-11T00:00:00",
          "place_in_line": 228817042.09465,
          "price_per_pod": 0.07
         },
         {
          "amount": 28977.789728,
          "date": "2022-03-11T00:00:00",
          "place_in_line": 228824271.622864,
          "price_per_pod": 0.07
         },
         {
          "amount": 7142.857142,
          "date": "2022-03-12T00:00:00",
          "place_in_line": 228853249.412592,
          "price_per_pod": 0.07
         },
         {
          "amount": 27884.104039,
          "date": "2022-03-12T00:00:00",
          "place_in_line": 228860392.269734,
          "price_per_pod": 0.07
         },
         {
          "amount": 84912.848439,
          "date": "2022-03-06T00:00:00",
          "place_in_line": 230527620.752329,
          "price_per_pod": 0.05
         },
         {
          "amount": 38451.787955,
          "date": "2022-09-13T00:00:00",
          "place_in_line": 232984186.678394,
          "price_per_pod": 0.045
         },
         {
          "amount": 15119.28,
          "date": "2022-03-26T00:00:00",
          "place_in_line": 235571347.898002,
          "price_per_pod": 0.11
         },
         {
          "amount": 17601.537341,
          "date": "2022-02-18T00:00:00",
          "place_in_line": 235869811.191401,
          "price_per_pod": 0.06
         },
         {
          "amount": 12500,
          "date": "2022-02-18T00:00:00",
          "place_in_line": 24002560.795654997,
          "price_per_pod": 0.8
         },
         {
          "amount": 111.111111,
          "date": "2022-08-19T00:00:00",
          "place_in_line": 241628702.712952,
          "price_per_pod": 0.09
         },
         {
          "amount": 18614.8661,
          "date": "2022-08-20T00:00:00",
          "place_in_line": 241628813.824063,
          "price_per_pod": 0.06
         },
         {
          "amount": 94477.41618,
          "date": "2022-08-21T00:00:00",
          "place_in_line": 241647428.690163,
          "price_per_pod": 0.05
         },
         {
          "amount": 67134.25,
          "date": "2022-09-02T00:00:00",
          "place_in_line": 246719681.446076,
          "price_per_pod": 0.045
         },
         {
          "amount": 45000,
          "date": "2022-08-28T00:00:00",
          "place_in_line": 246852209.88539,
          "price_per_pod": 0.045
         },
         {
          "amount": 2443.637935,
          "date": "2022-03-07T00:00:00",
          "place_in_line": 24729327.133798998,
          "price_per_pod": 0.53
         },
         {
          "amount": 10064.177624,
          "date": "2022-03-08T00:00:00",
          "place_in_line": 24719262.956173,
          "price_per_pod": 0.845
         },
         {
          "amount": 10064.177623,
          "date": "2022-03-16T00:00:00",
          "place_in_line": 24719262.956173,
          "price_per_pod": 0.94
         },
         {
          "amount": 1943.105053,
          "date": "2022-04-16T00:00:00",
          "place_in_line": 247321163.790225,
          "price_per_pod": 0.3
         },
         {
          "amount": 4883.98587,
          "date": "2022-04-16T00:00:00",
          "place_in_line": 247323106.895278,
          "price_per_pod": 0.3
         },
         {
          "amount": 49195.388116,
          "date": "2022-04-17T00:00:00",
          "place_in_line": 247327990.881148,
          "price_per_pod": 0.3
         },
         {
          "amount": 1607,
          "date": "2022-04-17T00:00:00",
          "place_in_line": 247377186.269264,
          "price_per_pod": 0.3
         },
         {
          "amount": 20304.848484,
          "date": "2022-03-24T00:00:00",
          "place_in_line": 24916944.152967,
          "price_per_pod": 0.969
         },
         {
          "amount": 476.81166,
          "date": "2022-03-12T00:00:00",
          "place_in_line": 24937249.001452,
          "price_per_pod": 0.7
         },
         {
          "amount": 32609.9496,
          "date": "2022-04-13T00:00:00",
          "place_in_line": 250261928.573315,
          "price_per_pod": 0.21
         },
         {
          "amount": 10157.18984,
          "date": "2022-02-05T00:00:00",
          "place_in_line": 250515993.903243,
          "price_per_pod": 0.1
         },
         {
          "amount": 74656.41753,
          "date": "2022-03-15T00:00:00",
          "place_in_line": 250526151.093083,
          "price_per_pod": 0.1
         },
         {
          "amount": 10000,
          "date": "2022-03-06T00:00:00",
          "place_in_line": 25058632.122103,
          "price_per_pod": 0.73
         },
         {
          "amount": 197207.803637,
          "date": "2022-03-17T00:00:00",
          "place_in_line": 250600807.510613,
          "price_per_pod": 0.1
         },
         {
          "amount": 3742.630948,
          "date": "2022-03-08T00:00:00",
          "place_in_line": 25068632.122103,
          "price_per_pod": 0.4
         },
         {
          "amount": 3742.630947,
          "date": "2022-03-12T00:00:00",
          "place_in_line": 25068632.122103,
          "price_per_pod": 0.9
         },
         {
          "amount": 508.670984,
          "date": "2022-03-12T00:00:00",
          "place_in_line": 25072374.753051,
          "price_per_pod": 0.7
         },
         {
          "amount": 20871.314978,
          "date": "2022-04-13T00:00:00",
          "place_in_line": 251882385.453211,
          "price_per_pod": 0.25
         },
         {
          "amount": 277271.514945,
          "date": "2022-04-14T00:00:00",
          "place_in_line": 252622959.858488,
          "price_per_pod": 0.2399
         },
         {
          "amount": 156533.816852,
          "date": "2022-04-16T00:00:00",
          "place_in_line": 252122959.858488,
          "price_per_pod": 0.2399
         },
         {
          "amount": 327574.162163,
          "date": "2022-04-16T00:00:00",
          "place_in_line": 252279493.67534,
          "price_per_pod": 0.2399
         },
         {
          "amount": 6103.560879,
          "date": "2022-04-16T00:00:00",
          "place_in_line": 252607067.837503,
          "price_per_pod": 0.2399
         },
         {
          "amount": 9788.460106,
          "date": "2022-04-16T00:00:00",
          "place_in_line": 252613171.398382,
          "price_per_pod": 0.2399
         },
         {
          "amount": 483.681672,
          "date": "2022-02-23T00:00:00",
          "place_in_line": 25348206.948214002,
          "price_per_pod": 0.55
         },
         {
          "amount": 499.475356,
          "date": "2022-02-22T00:00:00",
          "place_in_line": 25353686.585833,
          "price_per_pod": 0.55
         },
         {
          "amount": 500.635194,
          "date": "2022-02-22T00:00:00",
          "place_in_line": 25354186.061189,
          "price_per_pod": 0.55
         },
         {
          "amount": 42398.880624,
          "date": "2022-04-16T00:00:00",
          "place_in_line": 254434821.130723,
          "price_per_pod": 0.25
         },
         {
          "amount": 17271.454497,
          "date": "2022-04-16T00:00:00",
          "place_in_line": 254477220.011347,
          "price_per_pod": 0.25
         },
         {
          "amount": 529.441732,
          "date": "2022-02-20T00:00:00",
          "place_in_line": 25471822.591753,
          "price_per_pod": 0.55
         },
         {
          "amount": 275,
          "date": "2022-03-09T00:00:00",
          "place_in_line": 25475268.849725,
          "price_per_pod": 0.82
         },
         {
          "amount": 529.81624,
          "date": "2022-02-20T00:00:00",
          "place_in_line": 25475014.033485,
          "price_per_pod": 0.55
         },
         {
          "amount": 4894.300767,
          "date": "2022-03-14T00:00:00",
          "place_in_line": 25484600.575117,
          "price_per_pod": 0.7
         },
         {
          "amount": 3523.403523,
          "date": "2022-03-15T00:00:00",
          "place_in_line": 25475543.849725,
          "price_per_pod": 0.855
         },
         {
          "amount": 5533.321867,
          "date": "2022-03-14T00:00:00",
          "place_in_line": 25479067.25325,
          "price_per_pod": 0.7
         },
         {
          "amount": 2774.320296,
          "date": "2022-09-04T00:00:00",
          "place_in_line": 256773707.204461,
          "price_per_pod": 0.0911
         },
         {
          "amount": 1501.799049,
          "date": "2022-02-06T00:00:00",
          "place_in_line": 26012876.542778,
          "price_per_pod": 0.4
         },
         {
          "amount": 18.15396,
          "date": "2022-02-18T00:00:00",
          "place_in_line": 26012878.341827,
          "price_per_pod": 0.8
         },
         {
          "amount": 1481.84604,
          "date": "2022-03-08T00:00:00",
          "place_in_line": 26012896.495787,
          "price_per_pod": 0.8
         },
         {
          "amount": 1481.846039,
          "date": "2022-03-16T00:00:00",
          "place_in_line": 26012896.495787,
          "price_per_pod": 0.94
         },
         {
          "amount": 222000,
          "date": "2022-02-18T00:00:00",
          "place_in_line": 260462773.844629,
          "price_per_pod": 0.05
         },
         {
          "amount": 9037.88913,
          "date": "2022-03-25T00:00:00",
          "place_in_line": 260684773.844629,
          "price_per_pod": 0.05
         },
         {
          "amount": 9037.889126,
          "date": "2022-04-16T00:00:00",
          "place_in_line": 260684773.844629,
          "price_per_pod": 0.23
         },
         {
          "amount": 27121.737219,
          "date": "2022-02-07T00:00:00",
          "place_in_line": 261754319.708378,
          "price_per_pod": 0.06
         },
         {
          "amount": 860.21625,
          "date": "2022-03-13T00:00:00",
          "place_in_line": 26197232.616933,
          "price_per_pod": 0.89
         },
         {
          "amount": 400,
          "date": "2022-03-18T00:00:00",
          "place_in_line": 26197232.616933,
          "price_per_pod": 0.96
         },
         {
          "amount": 50.718008,
          "date": "2022-03-27T00:00:00",
          "place_in_line": 26197232.616933,
          "price_per_pod": 0.965
         },
         {
          "amount": 3088.635598,
          "date": "2022-03-21T00:00:00",
          "place_in_line": 26198092.833183,
          "price_per_pod": 0.93
         },
         {
          "amount": 53432.110203,
          "date": "2022-03-22T00:00:00",
          "place_in_line": 26201181.468781,
          "price_per_pod": 0.93
         },
         {
          "amount": 2857.625611,
          "date": "2022-03-14T00:00:00",
          "place_in_line": 262192846.38856,
          "price_per_pod": 0.09
         },
         {
          "amount": 25133.316533,
          "date": "2022-03-17T00:00:00",
          "place_in_line": 262195704.014171,
          "price_per_pod": 0.085
         },
         {
          "amount": 25133.316533,
          "date": "2022-03-15T00:00:00",
          "place_in_line": 262195704.014171,
          "price_per_pod": 0.09
         },
         {
          "amount": 17624.21907,
          "date": "2022-03-19T00:00:00",
          "place_in_line": 262220837.330704,
          "price_per_pod": 0.1
         },
         {
          "amount": 5955.47476,
          "date": "2022-03-24T00:00:00",
          "place_in_line": 262238461.549774,
          "price_per_pod": 0.1
         },
         {
          "amount": 9954.8886,
          "date": "2022-03-30T00:00:00",
          "place_in_line": 262244417.024534,
          "price_per_pod": 0.1
         },
         {
          "amount": 20006.70808,
          "date": "2022-03-30T00:00:00",
          "place_in_line": 262254371.913134,
          "price_per_pod": 0.1
         },
         {
          "amount": 8448.77801,
          "date": "2022-03-30T00:00:00",
          "place_in_line": 262274378.621214,
          "price_per_pod": 0.1
         },
         {
          "amount": 24321.46204,
          "date": "2022-04-02T00:00:00",
          "place_in_line": 262282827.399224,
          "price_per_pod": 0.1
         },
         {
          "amount": 68900.14021,
          "date": "2022-04-02T00:00:00",
          "place_in_line": 262307148.861264,
          "price_per_pod": 0.1
         },
         {
          "amount": 13448.18194,
          "date": "2022-04-03T00:00:00",
          "place_in_line": 262376049.001474,
          "price_per_pod": 0.1
         },
         {
          "amount": 66013.841091,
          "date": "2022-04-04T00:00:00",
          "place_in_line": 262389497.183414,
          "price_per_pod": 0.1
         },
         {
          "amount": 1544.471194,
          "date": "2022-03-18T00:00:00",
          "place_in_line": 26254950.988533,
          "price_per_pod": 0.9
         },
         {
          "amount": 4030.762307,
          "date": "2022-03-14T00:00:00",
          "place_in_line": 26254950.988533,
          "price_per_pod": 0.825
         },
         {
          "amount": 2455.528805,
          "date": "2022-03-18T00:00:00",
          "place_in_line": 26256495.459727,
          "price_per_pod": 0.9
         },
         {
          "amount": 575.995631,
          "date": "2022-02-20T00:00:00",
          "place_in_line": 26258981.750842,
          "price_per_pod": 0.55
         },
         {
          "amount": 50046.286217,
          "date": "2022-04-12T00:00:00",
          "place_in_line": 262916671.8779,
          "price_per_pod": 0.2
         },
         {
          "amount": 37360.929463,
          "date": "2022-04-12T00:00:00",
          "place_in_line": 265200621.045782,
          "price_per_pod": 0.19
         },
         {
          "amount": 50268.82477,
          "date": "2022-04-12T00:00:00",
          "place_in_line": 265200621.045782,
          "price_per_pod": 0.15
         },
         {
          "amount": 12907.895307,
          "date": "2022-04-12T00:00:00",
          "place_in_line": 265237981.975245,
          "price_per_pod": 0.19
         },
         {
          "amount": 292114.7442,
          "date": "2022-09-02T00:00:00",
          "place_in_line": 265250889.870552,
          "price_per_pod": 0.045
         },
         {
          "amount": 3057.061882,
          "date": "2022-03-13T00:00:00",
          "place_in_line": 27091152.813716,
          "price_per_pod": 0.93
         },
         {
          "amount": 70000,
          "date": "2022-03-09T00:00:00",
          "place_in_line": 27121152.813716,
          "price_per_pod": 0.93
         },
         {
          "amount": 44602.71085,
          "date": "2022-04-12T00:00:00",
          "place_in_line": 270707790.419553,
          "price_per_pod": 0.2
         },
         {
          "amount": 1224.3868,
          "date": "2022-04-13T00:00:00",
          "place_in_line": 270752393.130403,
          "price_per_pod": 0.24
         },
         {
          "amount": 2727.243727,
          "date": "2022-04-13T00:00:00",
          "place_in_line": 270753617.517203,
          "price_per_pod": 0.22
         },
         {
          "amount": 42239.183866,
          "date": "2022-04-15T00:00:00",
          "place_in_line": 270756344.76093,
          "price_per_pod": 0.22
         },
         {
          "amount": 138280.774553,
          "date": "2022-04-14T00:00:00",
          "place_in_line": 270896539.738641,
          "price_per_pod": 0.2
         },
         {
          "amount": 3058.346004,
          "date": "2022-03-14T00:00:00",
          "place_in_line": 27094209.875598,
          "price_per_pod": 0.82
         },
         {
          "amount": 6097.560975,
          "date": "2022-03-14T00:00:00",
          "place_in_line": 27097268.221602,
          "price_per_pod": 0.82
         },
         {
          "amount": 4694.956362,
          "date": "2022-03-14T00:00:00",
          "place_in_line": 27103365.782577,
          "price_per_pod": 0.82
         },
         {
          "amount": 4694.956361,
          "date": "2022-03-27T00:00:00",
          "place_in_line": 27103365.782577,
          "price_per_pod": 0.96
         },
         {
          "amount": 302.524126,
          "date": "2022-03-15T00:00:00",
          "place_in_line": 27108060.738939,
          "price_per_pod": 0.82
         },
         {
          "amount": 12789.55065,
          "date": "2022-03-15T00:00:00",
          "place_in_line": 27108363.263065,
          "price_per_pod": 0.82
         },
         {
          "amount": 38071.6006,
          "date": "2022-03-08T00:00:00",
          "place_in_line": 271616769.085401,
          "price_per_pod": 0.04
         },
         {
          "amount": 62132.577144,
          "date": "2022-03-09T00:00:00",
          "place_in_line": 271654840.686001,
          "price_per_pod": 0.04
         },
         {
          "amount": 12000,
          "date": "2022-02-06T00:00:00",
          "place_in_line": 27205591.471716,
          "price_per_pod": 0.7
         },
         {
          "amount": 3000,
          "date": "2022-03-14T00:00:00",
          "place_in_line": 27205591.471716,
          "price_per_pod": 0.79
         },
         {
          "amount": 6000,
          "date": "2022-02-07T00:00:00",
          "place_in_line": 27211591.471716,
          "price_per_pod": 0.79
         },
         {
          "amount": 3000,
          "date": "2022-03-12T00:00:00",
          "place_in_line": 27205591.471716,
          "price_per_pod": 0.79
         },
         {
          "amount": 2818.086336,
          "date": "2022-03-12T00:00:00",
          "place_in_line": 27208591.471716,
          "price_per_pod": 0.79
         },
         {
          "amount": 6000,
          "date": "2022-03-15T00:00:00",
          "place_in_line": 27211591.471716,
          "price_per_pod": 0.85
         },
         {
          "amount": 25000,
          "date": "2022-02-07T00:00:00",
          "place_in_line": 27611610.53843,
          "price_per_pod": 0.4
         },
         {
          "amount": 10998.200951,
          "date": "2022-02-07T00:00:00",
          "place_in_line": 27636610.53843,
          "price_per_pod": 0.4
         },
         {
          "amount": 234173.311666,
          "date": "2022-08-24T00:00:00",
          "place_in_line": 272603524.644509,
          "price_per_pod": 0.045
         },
         {
          "amount": 50896.592466,
          "date": "2022-08-13T00:00:00",
          "place_in_line": 273566063.183769,
          "price_per_pod": 0.075
         },
         {
          "amount": 36881.868335,
          "date": "2022-08-14T00:00:00",
          "place_in_line": 273616959.776235,
          "price_per_pod": 0.07
         },
         {
          "amount": 21267.206558,
          "date": "2022-04-07T00:00:00",
          "place_in_line": 274414876.662335,
          "price_per_pod": 0.12
         },
         {
          "amount": 12500,
          "date": "2022-04-12T00:00:00",
          "place_in_line": 274436143.868893,
          "price_per_pod": 0.12
         },
         {
          "amount": 16988.852448,
          "date": "2022-04-12T00:00:00",
          "place_in_line": 274448643.868893,
          "price_per_pod": 0.166
         },
         {
          "amount": 16988.852448,
          "date": "2022-04-12T00:00:00",
          "place_in_line": 274448643.868893,
          "price_per_pod": 0.12
         },
         {
          "amount": 1000,
          "date": "2022-02-16T00:00:00",
          "place_in_line": 27611610.53843,
          "price_per_pod": 0.59
         },
         {
          "amount": 3602.363088,
          "date": "2022-03-26T00:00:00",
          "place_in_line": 27612610.53843,
          "price_per_pod": 0.85
         },
         {
          "amount": 4000,
          "date": "2022-03-07T00:00:00",
          "place_in_line": 27612610.53843,
          "price_per_pod": 0.65
         },
         {
          "amount": 397.636911,
          "date": "2022-03-26T00:00:00",
          "place_in_line": 27616212.901518,
          "price_per_pod": 0.85
         },
         {
          "amount": 4615.384615,
          "date": "2022-03-08T00:00:00",
          "place_in_line": 27616610.53843,
          "price_per_pod": 0.65
         },
         {
          "amount": 4615.384614,
          "date": "2022-03-15T00:00:00",
          "place_in_line": 27616610.53843,
          "price_per_pod": 0.9
         },
         {
          "amount": 5444.708446,
          "date": "2022-03-09T00:00:00",
          "place_in_line": 27621225.923045,
          "price_per_pod": 0.65
         },
         {
          "amount": 3002.332759,
          "date": "2022-03-16T00:00:00",
          "place_in_line": 27626670.631491,
          "price_per_pod": 0.88
         },
         {
          "amount": 6937.574179,
          "date": "2022-03-17T00:00:00",
          "place_in_line": 27629672.96425,
          "price_per_pod": 0.88
         },
         {
          "amount": 40316.136394,
          "date": "2022-03-09T00:00:00",
          "place_in_line": 276364944.621992,
          "price_per_pod": 0.05
         },
         {
          "amount": 10098.137872,
          "date": "2022-04-10T00:00:00",
          "place_in_line": 276395162.620514,
          "price_per_pod": 0.0047
         },
         {
          "amount": 5403.99888,
          "date": "2022-08-07T00:00:00",
          "place_in_line": 276364944.621992,
          "price_per_pod": 0.15
         },
         {
          "amount": 10998.20095,
          "date": "2022-03-19T00:00:00",
          "place_in_line": 27636610.53843,
          "price_per_pod": 0.88
         },
         {
          "amount": 5150.32753,
          "date": "2022-08-08T00:00:00",
          "place_in_line": 276370348.620872,
          "price_per_pod": 0.1
         },
         {
          "amount": 19663.672112,
          "date": "2022-08-09T00:00:00",
          "place_in_line": 276375498.948402,
          "price_per_pod": 0.1
         },
         {
          "amount": 24695.452876,
          "date": "2022-03-12T00:00:00",
          "place_in_line": 277250339.397938,
          "price_per_pod": 0.09
         },
         {
          "amount": 100000,
          "date": "2022-03-09T00:00:00",
          "place_in_line": 277275034.850814,
          "price_per_pod": 0.09
         },
         {
          "amount": 100000,
          "date": "2022-08-09T00:00:00",
          "place_in_line": 277275034.850814,
          "price_per_pod": 0.08
         },
         {
          "amount": 135654.646253,
          "date": "2022-03-09T00:00:00",
          "place_in_line": 277396766.693154,
          "price_per_pod": 0.06
         },
         {
          "amount": 25000,
          "date": "2022-02-07T00:00:00",
          "place_in_line": 28014831.579668,
          "price_per_pod": 0.4
         },
         {
          "amount": 33333.333333,
          "date": "2022-02-07T00:00:00",
          "place_in_line": 28039831.579668,
          "price_per_pod": 0.45
         },
         {
          "amount": 17745.6617,
          "date": "2022-03-07T00:00:00",
          "place_in_line": 27940835.917967997,
          "price_per_pod": 0.4
         },
         {
          "amount": 15093.059974,
          "date": "2022-03-06T00:00:00",
          "place_in_line": 27958581.579668,
          "price_per_pod": 0.7
         },
         {
          "amount": 16250,
          "date": "2022-02-08T00:00:00",
          "place_in_line": 27998581.579668,
          "price_per_pod": 0.4
         },
         {
          "amount": 10981,
          "date": "2022-04-13T00:00:00",
          "place_in_line": 278128513.436918,
          "price_per_pod": 0.2
         },
         {
          "amount": 10981,
          "date": "2022-04-14T00:00:00",
          "place_in_line": 278128513.436918,
          "price_per_pod": 0.1999
         },
         {
          "amount": 73188.666066,
          "date": "2022-04-15T00:00:00",
          "place_in_line": 278393127.641126,
          "price_per_pod": 0.195
         },
         {
          "amount": 26811.333934,
          "date": "2022-04-15T00:00:00",
          "place_in_line": 278466316.307192,
          "price_per_pod": 0.195
         },
         {
          "amount": 2286.050992,
          "date": "2022-08-31T00:00:00",
          "place_in_line": 278493127.641126,
          "price_per_pod": 0.0695
         },
         {
          "amount": 15360.801728,
          "date": "2022-09-10T00:00:00",
          "place_in_line": 278495413.994289,
          "price_per_pod": 0.059
         },
         {
          "amount": 88294.274288,
          "date": "2022-09-10T00:00:00",
          "place_in_line": 278510774.796017,
          "price_per_pod": 0.059
         },
         {
          "amount": 85000,
          "date": "2022-04-14T00:00:00",
          "place_in_line": 279257880.223832,
          "price_per_pod": 0.1888
         },
         {
          "amount": 19928.134487,
          "date": "2022-08-12T00:00:00",
          "place_in_line": 279405824.996797,
          "price_per_pod": 0.082
         },
         {
          "amount": 17745.6617,
          "date": "2022-03-26T00:00:00",
          "place_in_line": 27940835.917968,
          "price_per_pod": 0.87
         },
         {
          "amount": 1434.477767,
          "date": "2022-04-06T00:00:00",
          "place_in_line": 27974674.639642,
          "price_per_pod": 0.97
         },
         {
          "amount": 8917.363582,
          "date": "2022-04-02T00:00:00",
          "place_in_line": 27973674.639642,
          "price_per_pod": 0.96
         },
         {
          "amount": 24906.940025,
          "date": "2022-03-06T00:00:00",
          "place_in_line": 27973674.639642,
          "price_per_pod": 0.7
         },
         {
          "amount": 15989.576442,
          "date": "2022-04-05T00:00:00",
          "place_in_line": 27982592.003224,
          "price_per_pod": 0.96
         },
         {
          "amount": 16250,
          "date": "2022-03-06T00:00:00",
          "place_in_line": 27998581.579668,
          "price_per_pod": 0.49
         },
         {
          "amount": 1632.653061,
          "date": "2022-03-01T00:00:00",
          "place_in_line": 28014831.579668,
          "price_per_pod": 0.49
         },
         {
          "amount": 7011.850078,
          "date": "2022-03-09T00:00:00",
          "place_in_line": 28016464.232729,
          "price_per_pod": 0.69
         },
         {
          "amount": 3368.588734,
          "date": "2022-03-09T00:00:00",
          "place_in_line": 28023476.082807,
          "price_per_pod": 0.69
         },
         {
          "amount": 7520.625644,
          "date": "2022-03-10T00:00:00",
          "place_in_line": 28026844.671541,
          "price_per_pod": 0.69
         },
         {
          "amount": 4892.260104,
          "date": "2022-04-06T00:00:00",
          "place_in_line": 28034365.297185,
          "price_per_pod": 0.96
         },
         {
          "amount": 45604.467983,
          "date": "2022-09-13T00:00:00",
          "place_in_line": 280560810.69137,
          "price_per_pod": 0.032
         },
         {
          "amount": 306.18,
          "date": "2022-03-12T00:00:00",
          "place_in_line": 28269223.57303,
          "price_per_pod": 0.5
         },
         {
          "amount": 306.18,
          "date": "2022-03-12T00:00:00",
          "place_in_line": 28269529.75303,
          "price_per_pod": 0.5
         },
         {
          "amount": 306.18,
          "date": "2022-03-12T00:00:00",
          "place_in_line": 28277356.357376,
          "price_per_pod": 0.5
         },
         {
          "amount": 306.18,
          "date": "2022-03-12T00:00:00",
          "place_in_line": 28277662.537376,
          "price_per_pod": 0.5
         },
         {
          "amount": 306.18,
          "date": "2022-03-12T00:00:00",
          "place_in_line": 28277968.717376,
          "price_per_pod": 0.5
         },
         {
          "amount": 306.18,
          "date": "2022-03-12T00:00:00",
          "place_in_line": 28278274.897376,
          "price_per_pod": 0.5
         },
         {
          "amount": 9392.830193,
          "date": "2022-03-03T00:00:00",
          "place_in_line": 28278581.077376,
          "price_per_pod": 0.15
         },
         {
          "amount": 8579,
          "date": "2022-03-16T00:00:00",
          "place_in_line": 28278581.077376,
          "price_per_pod": 0.82
         },
         {
          "amount": 23784.920032,
          "date": "2022-04-13T00:00:00",
          "place_in_line": 284738104.868387,
          "price_per_pod": 0.188
         },
         {
          "amount": 23784.920032,
          "date": "2022-08-14T00:00:00",
          "place_in_line": 284738104.868387,
          "price_per_pod": 0.07
         },
         {
          "amount": 10654.918204,
          "date": "2022-08-07T00:00:00",
          "place_in_line": 285585338.065737,
          "price_per_pod": 0.095
         },
         {
          "amount": 69757.866647,
          "date": "2022-08-09T00:00:00",
          "place_in_line": 285515580.19909,
          "price_per_pod": 0.095
         },
         {
          "amount": 56976.941921,
          "date": "2022-08-07T00:00:00",
          "place_in_line": 285595992.983941,
          "price_per_pod": 0.127
         },
         {
          "amount": 8919.410803,
          "date": "2022-08-07T00:00:00",
          "place_in_line": 285652969.925862,
          "price_per_pod": 0.127
         },
         {
          "amount": 6674.611456,
          "date": "2022-08-07T00:00:00",
          "place_in_line": 285661889.336665,
          "price_per_pod": 0.127
         },
         {
          "amount": 91774.095238,
          "date": "2022-08-07T00:00:00",
          "place_in_line": 285668563.948121,
          "price_per_pod": 0.105
         },
         {
          "amount": 20262.705038,
          "date": "2022-04-14T00:00:00",
          "place_in_line": 288613470.25682,
          "price_per_pod": 0.1
         },
         {
          "amount": 40000,
          "date": "2022-04-16T00:00:00",
          "place_in_line": 290578447.893311,
          "price_per_pod": 0.23
         },
         {
          "amount": 32886.283743,
          "date": "2022-04-16T00:00:00",
          "place_in_line": 290618447.893311,
          "price_per_pod": 0.23
         },
         {
          "amount": 70000,
          "date": "2022-08-10T00:00:00",
          "place_in_line": 291392435.362915,
          "price_per_pod": 0.075
         },
         {
          "amount": 79941,
          "date": "2022-08-13T00:00:00",
          "place_in_line": 291312494.362915,
          "price_per_pod": 0.075
         },
         {
          "amount": 19574.398175,
          "date": "2022-08-14T00:00:00",
          "place_in_line": 291292919.96474,
          "price_per_pod": 0.07
         },
         {
          "amount": 97094.321858,
          "date": "2022-04-17T00:00:00",
          "place_in_line": 291557509.922353,
          "price_per_pod": 0.25
         },
         {
          "amount": 6488.49694,
          "date": "2022-08-07T00:00:00",
          "place_in_line": 293521542.986844,
          "price_per_pod": 0.15
         },
         {
          "amount": 1258.344408,
          "date": "2022-04-16T00:00:00",
          "place_in_line": 293793662.086844,
          "price_per_pod": 0.15
         },
         {
          "amount": 40000,
          "date": "2022-04-17T00:00:00",
          "place_in_line": 293753662.086844,
          "price_per_pod": 0.15
         },
         {
          "amount": 7378.750988,
          "date": "2022-08-15T00:00:00",
          "place_in_line": 293603662.086844,
          "price_per_pod": 0.09
         },
         {
          "amount": 84709.07224,
          "date": "2022-08-07T00:00:00",
          "place_in_line": 293653662.086844,
          "price_per_pod": 0.09
         },
         {
          "amount": 12502.39604,
          "date": "2022-08-07T00:00:00",
          "place_in_line": 293738371.159084,
          "price_per_pod": 0.1
         },
         {
          "amount": 2641.42251,
          "date": "2022-08-07T00:00:00",
          "place_in_line": 293750873.555124,
          "price_per_pod": 0.1
         },
         {
          "amount": 146.80787,
          "date": "2022-08-07T00:00:00",
          "place_in_line": 293753514.977634,
          "price_per_pod": 0.1
         },
         {
          "amount": 38741.655592,
          "date": "2022-04-17T00:00:00",
          "place_in_line": 293794920.431252,
          "price_per_pod": 0.23
         },
         {
          "amount": 89966.0164,
          "date": "2022-03-12T00:00:00",
          "place_in_line": 296679653.218877,
          "price_per_pod": 0.08
         },
         {
          "amount": 28239.348266,
          "date": "2022-03-12T00:00:00",
          "place_in_line": 296769619.235277,
          "price_per_pod": 0.08
         },
         {
          "amount": 4499.213873,
          "date": "2022-04-14T00:00:00",
          "place_in_line": 296937641.383543,
          "price_per_pod": 0.25
         },
         {
          "amount": 30400.392115,
          "date": "2022-04-15T00:00:00",
          "place_in_line": 296942140.597416,
          "price_per_pod": 0.19
         },
         {
          "amount": 10000,
          "date": "2022-04-15T00:00:00",
          "place_in_line": 296972540.989531,
          "price_per_pod": 0.19
         },
         {
          "amount": 1533.680526,
          "date": "2022-04-15T00:00:00",
          "place_in_line": 296982540.989531,
          "price_per_pod": 0.19
         },
         {
          "amount": 2631.578947,
          "date": "2022-04-16T00:00:00",
          "place_in_line": 296984074.670057,
          "price_per_pod": 0.19
         },
         {
          "amount": 935.134539,
          "date": "2022-04-16T00:00:00",
          "place_in_line": 296986706.249004,
          "price_per_pod": 0.19
         },
         {
          "amount": 7878.59554,
          "date": "2022-04-05T00:00:00",
          "place_in_line": 297495649.811425,
          "price_per_pod": 0.1
         },
         {
          "amount": 5841.844593,
          "date": "2022-04-12T00:00:00",
          "place_in_line": 298378540.271272,
          "price_per_pod": 0.15
         },
         {
          "amount": 41700.155407,
          "date": "2022-04-12T00:00:00",
          "place_in_line": 298384382.115865,
          "price_per_pod": 0.15
         },
         {
          "amount": 200000,
          "date": "2022-03-09T00:00:00",
          "place_in_line": 299905735.929341,
          "price_per_pod": 0.0549
         },
         {
          "amount": 1108.739846,
          "date": "2022-02-06T00:00:00",
          "place_in_line": 30093619.332251,
          "price_per_pod": 0.2
         },
         {
          "amount": 1053.216596,
          "date": "2022-03-28T00:00:00",
          "place_in_line": 30094742.702097,
          "price_per_pod": 0.735
         },
         {
          "amount": 27938.16286,
          "date": "2022-09-13T00:00:00",
          "place_in_line": 302500361.239637,
          "price_per_pod": 0.032
         },
         {
          "amount": 1107.800543,
          "date": "2022-02-06T00:00:00",
          "place_in_line": 30475915.918693,
          "price_per_pod": 0.2
         },
         {
          "amount": 1107.800542,
          "date": "2022-04-09T00:00:00",
          "place_in_line": 30475915.918693,
          "price_per_pod": 0.9125
         },
         {
          "amount": 43975.873054,
          "date": "2022-09-08T00:00:00",
          "place_in_line": 306145738.36389,
          "price_per_pod": 0.03
         },
         {
          "amount": 20160.241262,
          "date": "2022-03-15T00:00:00",
          "place_in_line": 309147120.451233,
          "price_per_pod": 0.1
         },
         {
          "amount": 4073.31024,
          "date": "2022-08-06T00:00:00",
          "place_in_line": 310740918.699729,
          "price_per_pod": 0.1
         },
         {
          "amount": 67236.05278,
          "date": "2022-08-07T00:00:00",
          "place_in_line": 310744992.009969,
          "price_per_pod": 0.1
         },
         {
          "amount": 10002.98428,
          "date": "2022-08-07T00:00:00",
          "place_in_line": 310812228.062749,
          "price_per_pod": 0.1
         },
         {
          "amount": 8691.01777,
          "date": "2022-08-07T00:00:00",
          "place_in_line": 310822231.047029,
          "price_per_pod": 0.1
         },
         {
          "amount": 33133.32152,
          "date": "2022-08-07T00:00:00",
          "place_in_line": 310830922.064799,
          "price_per_pod": 0.1
         },
         {
          "amount": 4711.804625,
          "date": "2022-08-08T00:00:00",
          "place_in_line": 310884055.386319,
          "price_per_pod": 0.12
         },
         {
          "amount": 50000,
          "date": "2022-08-07T00:00:00",
          "place_in_line": 310864055.386319,
          "price_per_pod": 0.1
         },
         {
          "amount": 10000,
          "date": "2022-08-07T00:00:00",
          "place_in_line": 310904055.386319,
          "price_per_pod": 0.12
         },
         {
          "amount": 235946.38649,
          "date": "2022-08-07T00:00:00",
          "place_in_line": 310914055.386319,
          "price_per_pod": 0.1
         },
         {
          "amount": 39829.44221,
          "date": "2022-08-07T00:00:00",
          "place_in_line": 311150001.772809,
          "price_per_pod": 0.1
         },
         {
          "amount": 27049.20327,
          "date": "2022-08-07T00:00:00",
          "place_in_line": 311189831.215019,
          "price_per_pod": 0.1
         },
         {
          "amount": 5374.1226,
          "date": "2022-08-07T00:00:00",
          "place_in_line": 311216880.418289,
          "price_per_pod": 0.1
         },
         {
          "amount": 16840,
          "date": "2022-08-07T00:00:00",
          "place_in_line": 311222254.540889,
          "price_per_pod": 0.1
         },
         {
          "amount": 25000,
          "date": "2022-04-13T00:00:00",
          "place_in_line": 311844690.009016,
          "price_per_pod": 0.169
         },
         {
          "amount": 6745.238037,
          "date": "2022-04-14T00:00:00",
          "place_in_line": 311869690.009016,
          "price_per_pod": 0.159
         },
         {
          "amount": 17161.170037,
          "date": "2022-04-14T00:00:00",
          "place_in_line": 311876435.247053,
          "price_per_pod": 0.159
         },
         {
          "amount": 4742,
          "date": "2022-03-26T00:00:00",
          "place_in_line": 31200843.015592,
          "price_per_pod": 0.77
         },
         {
          "amount": 4742,
          "date": "2022-03-09T00:00:00",
          "place_in_line": 31200843.015592,
          "price_per_pod": 0.55
         },
         {
          "amount": 4742,
          "date": "2022-04-07T00:00:00",
          "place_in_line": 31200843.015592,
          "price_per_pod": 0.9
         },
         {
          "amount": 512.52218,
          "date": "2022-03-09T00:00:00",
          "place_in_line": 31205585.015592,
          "price_per_pod": 0.55
         },
         {
          "amount": 961997.948382,
          "date": "2022-03-17T00:00:00",
          "place_in_line": 312055923.158305,
          "price_per_pod": 0.1
         },
         {
          "amount": 315.345761,
          "date": "2022-03-10T00:00:00",
          "place_in_line": 31206097.537772,
          "price_per_pod": 0.55
         },
         {
          "amount": 315.34576,
          "date": "2022-04-05T00:00:00",
          "place_in_line": 31206097.537772,
          "price_per_pod": 0.9
         },
         {
          "amount": 190.881515,
          "date": "2022-03-13T00:00:00",
          "place_in_line": 31343225.29853,
          "price_per_pod": 0.85
         },
         {
          "amount": 4384.609905,
          "date": "2022-03-27T00:00:00",
          "place_in_line": 31343416.180045,
          "price_per_pod": 0.85
         },
         {
          "amount": 7310.068169,
          "date": "2022-03-27T00:00:00",
          "place_in_line": 31347800.78995,
          "price_per_pod": 0.85
         },
         {
          "amount": 7310.068168,
          "date": "2022-04-04T00:00:00",
          "place_in_line": 31347800.78995,
          "price_per_pod": 0.875
         },
         {
          "amount": 37672.255074,
          "date": "2022-03-27T00:00:00",
          "place_in_line": 31355110.858119,
          "price_per_pod": 0.85
         },
         {
          "amount": 3949.94096,
          "date": "2022-03-31T00:00:00",
          "place_in_line": 31392783.113193,
          "price_per_pod": 0.85
         },
         {
          "amount": 1029.411764,
          "date": "2022-04-02T00:00:00",
          "place_in_line": 31396733.054153,
          "price_per_pod": 0.85
         },
         {
          "amount": 3633.688938,
          "date": "2022-04-03T00:00:00",
          "place_in_line": 31397762.465917,
          "price_per_pod": 0.85
         },
         {
          "amount": 43767.188474,
          "date": "2022-04-04T00:00:00",
          "place_in_line": 31401396.154855,
          "price_per_pod": 0.85
         },
         {
          "amount": 9061.9552,
          "date": "2022-04-04T00:00:00",
          "place_in_line": 31445163.343329,
          "price_per_pod": 0.85
         },
         {
          "amount": 10000,
          "date": "2022-03-19T00:00:00",
          "place_in_line": 31729127.154909004,
          "price_per_pod": 0.74
         },
         {
          "amount": 7335.414628,
          "date": "2022-03-20T00:00:00",
          "place_in_line": 31719127.154909004,
          "price_per_pod": 0.74
         },
         {
          "amount": 7614.499139,
          "date": "2022-03-21T00:00:00",
          "place_in_line": 31711512.655769,
          "price_per_pod": 0.74
         },
         {
          "amount": 2664.585372,
          "date": "2022-03-21T00:00:00",
          "place_in_line": 31726462.569537,
          "price_per_pod": 0.75
         },
         {
          "amount": 1168.279709,
          "date": "2022-03-21T00:00:00",
          "place_in_line": 31876153.030531,
          "price_per_pod": 0.75
         },
         {
          "amount": 2044.251838,
          "date": "2022-03-21T00:00:00",
          "place_in_line": 31877321.310241,
          "price_per_pod": 0.75
         },
         {
          "amount": 42247.542366,
          "date": "2022-04-15T00:00:00",
          "place_in_line": 319161563.141827,
          "price_per_pod": 0.2269
         },
         {
          "amount": 7830.82111,
          "date": "2022-04-16T00:00:00",
          "place_in_line": 319203810.684193,
          "price_per_pod": 0.2269
         },
         {
          "amount": 81750.376187,
          "date": "2022-04-17T00:00:00",
          "place_in_line": 319877964.011072,
          "price_per_pod": 0.235
         },
         {
          "amount": 14803.898208,
          "date": "2022-04-17T00:00:00",
          "place_in_line": 319959714.387259,
          "price_per_pod": 0.235
         },
         {
          "amount": 10000,
          "date": "2022-02-06T00:00:00",
          "place_in_line": 321145443.111092,
          "price_per_pod": 0.05
         },
         {
          "amount": 30303.030303,
          "date": "2022-03-14T00:00:00",
          "place_in_line": 323099144.507879,
          "price_per_pod": 0.066
         },
         {
          "amount": 1941.820772,
          "date": "2022-03-14T00:00:00",
          "place_in_line": 323129447.538182,
          "price_per_pod": 0.066
         },
         {
          "amount": 65269.543413,
          "date": "2022-03-14T00:00:00",
          "place_in_line": 323131389.358954,
          "price_per_pod": 0.066
         },
         {
          "amount": 61656.029023,
          "date": "2022-04-11T00:00:00",
          "place_in_line": 323131389.358954,
          "price_per_pod": 0.1
         },
         {
          "amount": 61656.029023,
          "date": "2022-04-09T00:00:00",
          "place_in_line": 323131389.358954,
          "price_per_pod": 0.06
         },
         {
          "amount": 61656.029023,
          "date": "2022-03-16T00:00:00",
          "place_in_line": 323131389.358954,
          "price_per_pod": 0.084
         },
         {
          "amount": 3613.51439,
          "date": "2022-03-17T00:00:00",
          "place_in_line": 323193045.387977,
          "price_per_pod": 0.084
         },
         {
          "amount": 38918.733214,
          "date": "2022-04-16T00:00:00",
          "place_in_line": 325360140.162588,
          "price_per_pod": 0.21
         },
         {
          "amount": 345.368185,
          "date": "2022-02-16T00:00:00",
          "place_in_line": 32538182.220452,
          "price_per_pod": 0.25
         },
         {
          "amount": 597.940445,
          "date": "2022-02-06T00:00:00",
          "place_in_line": 32537929.648192,
          "price_per_pod": 0.2
         },
         {
          "amount": 19569.741057,
          "date": "2022-04-16T00:00:00",
          "place_in_line": 325399058.895802,
          "price_per_pod": 0.21
         },
         {
          "amount": 13882.808319,
          "date": "2022-04-16T00:00:00",
          "place_in_line": 325418628.636859,
          "price_per_pod": 0.21
         },
         {
          "amount": 9804.554407,
          "date": "2022-04-16T00:00:00",
          "place_in_line": 325432511.445178,
          "price_per_pod": 0.21
         },
         {
          "amount": 1712.22969,
          "date": "2022-04-02T00:00:00",
          "place_in_line": 32562193.629786,
          "price_per_pod": 0.75
         },
         {
          "amount": 1712.22969,
          "date": "2022-04-10T00:00:00",
          "place_in_line": 32562193.629786,
          "price_per_pod": 0.9
         },
         {
          "amount": 31843.087062,
          "date": "2022-02-06T00:00:00",
          "place_in_line": 327752156.718788,
          "price_per_pod": 0.0349
         },
         {
          "amount": 2961.087365,
          "date": "2022-03-12T00:00:00",
          "place_in_line": 32787450.18812,
          "price_per_pod": 0.75
         },
         {
          "amount": 22222.222222,
          "date": "2022-04-09T00:00:00",
          "place_in_line": 32803608.304223,
          "price_per_pod": 0.9
         },
         {
          "amount": 7790.944531,
          "date": "2022-04-09T00:00:00",
          "place_in_line": 32825830.526445,
          "price_per_pod": 0.9
         },
         {
          "amount": 5435.84456,
          "date": "2022-04-10T00:00:00",
          "place_in_line": 32833621.470976,
          "price_per_pod": 0.9
         },
         {
          "amount": 8888.888888,
          "date": "2022-04-10T00:00:00",
          "place_in_line": 32839057.315536,
          "price_per_pod": 0.9
         },
         {
          "amount": 3137.175542,
          "date": "2022-04-10T00:00:00",
          "place_in_line": 32847946.204424,
          "price_per_pod": 0.9
         },
         {
          "amount": 1069.723017,
          "date": "2022-02-16T00:00:00",
          "place_in_line": 32955503.192184,
          "price_per_pod": 0.25
         },
         {
          "amount": 1069.723016,
          "date": "2022-04-11T00:00:00",
          "place_in_line": 32955503.192184,
          "price_per_pod": 0.9
         },
         {
          "amount": 1069.723017,
          "date": "2022-02-06T00:00:00",
          "place_in_line": 32955503.192184,
          "price_per_pod": 0.2
         },
         {
          "amount": 6167.341566,
          "date": "2022-03-18T00:00:00",
          "place_in_line": 331554473.841786,
          "price_per_pod": 0.09
         },
         {
          "amount": 35213.496314,
          "date": "2022-04-12T00:00:00",
          "place_in_line": 331560641.183352,
          "price_per_pod": 0.14
         },
         {
          "amount": 26274.622666,
          "date": "2022-08-09T00:00:00",
          "place_in_line": 331595854.679666,
          "price_per_pod": 0.09
         },
         {
          "amount": 1160.805666,
          "date": "2022-04-12T00:00:00",
          "place_in_line": 334799194.897789,
          "price_per_pod": 0.15
         },
         {
          "amount": 8239.12462,
          "date": "2022-04-12T00:00:00",
          "place_in_line": 334800355.703455,
          "price_per_pod": 0.15
         },
         {
          "amount": 20502.770382,
          "date": "2022-04-12T00:00:00",
          "place_in_line": 334808594.828075,
          "price_per_pod": 0.15
         },
         {
          "amount": 44468.289904,
          "date": "2022-03-27T00:00:00",
          "place_in_line": 33653504.446921,
          "price_per_pod": 0.83
         },
         {
          "amount": 952.458778,
          "date": "2022-04-12T00:00:00",
          "place_in_line": 33697972.736827,
          "price_per_pod": 0.93
         },
         {
          "amount": 45464.425563,
          "date": "2022-04-12T00:00:00",
          "place_in_line": 33698925.195605,
          "price_per_pod": 0.93
         },
         {
          "amount": 5000,
          "date": "2022-09-06T00:00:00",
          "place_in_line": 339785493.449995,
          "price_per_pod": 0.05
         },
         {
          "amount": 149346.87032,
          "date": "2022-09-06T00:00:00",
          "place_in_line": 339790493.449995,
          "price_per_pod": 0.05
         },
         {
          "amount": 61482.926829,
          "date": "2022-09-07T00:00:00",
          "place_in_line": 339939840.320315,
          "price_per_pod": 0.0041
         },
         {
          "amount": 4460.707602,
          "date": "2022-03-06T00:00:00",
          "place_in_line": 35443835.431735,
          "price_per_pod": 0.45
         },
         {
          "amount": 10664.522666,
          "date": "2022-03-10T00:00:00",
          "place_in_line": 35448296.139339,
          "price_per_pod": 0.5
         },
         {
          "amount": 8622.953342,
          "date": "2022-03-10T00:00:00",
          "place_in_line": 35458960.662005,
          "price_per_pod": 0.5
         },
         {
          "amount": 10448.687894,
          "date": "2022-03-10T00:00:00",
          "place_in_line": 35467583.615347,
          "price_per_pod": 0.5
         },
         {
          "amount": 2067.065581,
          "date": "2022-03-10T00:00:00",
          "place_in_line": 35478032.303241,
          "price_per_pod": 0.5
         },
         {
          "amount": 85000,
          "date": "2022-02-18T00:00:00",
          "place_in_line": 359920402.458005,
          "price_per_pod": 0.042
         },
         {
          "amount": 103299.890816,
          "date": "2022-04-11T00:00:00",
          "place_in_line": 360158682.891399,
          "price_per_pod": 0.094
         },
         {
          "amount": 96553.480454,
          "date": "2022-04-11T00:00:00",
          "place_in_line": 360752435.09954,
          "price_per_pod": 0.094
         },
         {
          "amount": 34267.517805,
          "date": "2022-04-13T00:00:00",
          "place_in_line": 361632377.443041,
          "price_per_pod": 0.12
         },
         {
          "amount": 34267.517805,
          "date": "2022-04-14T00:00:00",
          "place_in_line": 361632377.443041,
          "price_per_pod": 0.148
         },
         {
          "amount": 20000,
          "date": "2022-02-07T00:00:00",
          "place_in_line": 36360237.801568,
          "price_per_pod": 0.25
         },
         {
          "amount": 46584.908798,
          "date": "2022-02-08T00:00:00",
          "place_in_line": 36313652.89277,
          "price_per_pod": 0.25
         },
         {
          "amount": 7745.596697,
          "date": "2022-02-18T00:00:00",
          "place_in_line": 36313652.89277,
          "price_per_pod": 0.38
         },
         {
          "amount": 2138.743042,
          "date": "2022-02-27T00:00:00",
          "place_in_line": 36321398.489467,
          "price_per_pod": 0.38
         },
         {
          "amount": 12626.256958,
          "date": "2022-03-05T00:00:00",
          "place_in_line": 36323537.232509,
          "price_per_pod": 0.38
         },
         {
          "amount": 20195,
          "date": "2022-03-09T00:00:00",
          "place_in_line": 36336163.489467,
          "price_per_pod": 0.45
         },
         {
          "amount": 3879.3121,
          "date": "2022-03-27T00:00:00",
          "place_in_line": 36356358.489467,
          "price_per_pod": 0.75
         },
         {
          "amount": 2007.046073,
          "date": "2022-02-11T00:00:00",
          "place_in_line": 36360237.801568,
          "price_per_pod": 0.38
         },
         {
          "amount": 1531.485463,
          "date": "2022-02-12T00:00:00",
          "place_in_line": 36362244.847641,
          "price_per_pod": 0.38
         },
         {
          "amount": 3845.038436,
          "date": "2022-02-13T00:00:00",
          "place_in_line": 36363776.333104,
          "price_per_pod": 0.38
         },
         {
          "amount": 1000,
          "date": "2022-02-16T00:00:00",
          "place_in_line": 36367621.37154,
          "price_per_pod": 0.38
         },
         {
          "amount": 8711.204228,
          "date": "2022-02-17T00:00:00",
          "place_in_line": 36368621.37154,
          "price_per_pod": 0.38
         },
         {
          "amount": 8711.204226,
          "date": "2022-03-27T00:00:00",
          "place_in_line": 36368621.37154,
          "price_per_pod": 0.78
         },
         {
          "amount": 1087.2258,
          "date": "2022-02-17T00:00:00",
          "place_in_line": 36377332.575768,
          "price_per_pod": 0.38
         },
         {
          "amount": 36470.588235,
          "date": "2022-04-04T00:00:00",
          "place_in_line": 36806228.457873,
          "price_per_pod": 0.85
         },
         {
          "amount": 3682.533616,
          "date": "2022-04-09T00:00:00",
          "place_in_line": 36842699.046108,
          "price_per_pod": 0.85
         },
         {
          "amount": 23976.666666,
          "date": "2022-04-12T00:00:00",
          "place_in_line": 36846381.579724,
          "price_per_pod": 0.9
         },
         {
          "amount": 10845.490477,
          "date": "2022-04-12T00:00:00",
          "place_in_line": 36870358.24639,
          "price_per_pod": 0.9
         },
         {
          "amount": 7267.06796,
          "date": "2022-04-13T00:00:00",
          "place_in_line": 373918682.959704,
          "price_per_pod": 0.2
         },
         {
          "amount": 45302.31889,
          "date": "2022-04-17T00:00:00",
          "place_in_line": 373925950.027664,
          "price_per_pod": 0.2
         },
         {
          "amount": 40248.448544,
          "date": "2022-04-17T00:00:00",
          "place_in_line": 373971252.346554,
          "price_per_pod": 0.2
         },
         {
          "amount": 4230.684,
          "date": "2022-08-30T00:00:00",
          "place_in_line": 376423657.311762,
          "price_per_pod": 0.05
         },
         {
          "amount": 38949.31654,
          "date": "2022-08-30T00:00:00",
          "place_in_line": 376427887.995762,
          "price_per_pod": 0.05
         },
         {
          "amount": 130000,
          "date": "2022-09-02T00:00:00",
          "place_in_line": 376466837.312302,
          "price_per_pod": 0.05
         },
         {
          "amount": 291195.4154,
          "date": "2022-08-15T00:00:00",
          "place_in_line": 378988426.62692,
          "price_per_pod": 0.01
         },
         {
          "amount": 2765.214517,
          "date": "2022-04-14T00:00:00",
          "place_in_line": 379499473.122812,
          "price_per_pod": 0.06
         },
         {
          "amount": 2765.214517,
          "date": "2022-04-16T00:00:00",
          "place_in_line": 379499473.122812,
          "price_per_pod": 0.15
         },
         {
          "amount": 4380.730981,
          "date": "2022-04-15T00:00:00",
          "place_in_line": 383565939.19195,
          "price_per_pod": 0.15
         },
         {
          "amount": 4380.730981,
          "date": "2022-04-11T00:00:00",
          "place_in_line": 383565939.19195,
          "price_per_pod": 0.025
         },
         {
          "amount": 26917.828556,
          "date": "2022-04-14T00:00:00",
          "place_in_line": 384105638.332381,
          "price_per_pod": 0.15
         },
         {
          "amount": 26917.828556,
          "date": "2022-04-12T00:00:00",
          "place_in_line": 384105638.332381,
          "price_per_pod": 0.04
         },
         {
          "amount": 107637.536296,
          "date": "2022-03-17T00:00:00",
          "place_in_line": 384284223.137807,
          "price_per_pod": 0.09
         },
         {
          "amount": 35453.723781,
          "date": "2022-02-05T00:00:00",
          "place_in_line": 387265643.983999,
          "price_per_pod": 0.05
         },
         {
          "amount": 20044.08096,
          "date": "2022-02-06T00:00:00",
          "place_in_line": 387301097.70778,
          "price_per_pod": 0.05
         },
         {
          "amount": 21300.990257,
          "date": "2022-02-06T00:00:00",
          "place_in_line": 387321141.78874,
          "price_per_pod": 0.025
         },
         {
          "amount": 13913.764863,
          "date": "2022-03-07T00:00:00",
          "place_in_line": 396658256.087892,
          "price_per_pod": 0.03
         },
         {
          "amount": 78790.3767,
          "date": "2022-08-15T00:00:00",
          "place_in_line": 399960218.444224,
          "price_per_pod": 0.01
         },
         {
          "amount": 72913.082044,
          "date": "2022-08-15T00:00:00",
          "place_in_line": 400039008.820924,
          "price_per_pod": 0.01
         },
         {
          "amount": 5931.754665,
          "date": "2022-02-06T00:00:00",
          "place_in_line": 40016336.000939,
          "price_per_pod": 0.2
         },
         {
          "amount": 33796,
          "date": "2022-03-06T00:00:00",
          "place_in_line": 401405678.29034,
          "price_per_pod": 0.024
         },
         {
          "amount": 36511.874656,
          "date": "2022-03-03T00:00:00",
          "place_in_line": 401405678.29034,
          "price_per_pod": 0.011
         },
         {
          "amount": 2715.874656,
          "date": "2022-04-15T00:00:00",
          "place_in_line": 401439474.29034,
          "price_per_pod": 0.15
         },
         {
          "amount": 42326.378229,
          "date": "2022-04-11T00:00:00",
          "place_in_line": 401959009.163867,
          "price_per_pod": 0.09
         },
         {
          "amount": 53919.698039,
          "date": "2022-04-11T00:00:00",
          "place_in_line": 402764778.389025,
          "price_per_pod": 0.09
         },
         {
          "amount": 21768.70748,
          "date": "2022-04-09T00:00:00",
          "place_in_line": 403097227.09233,
          "price_per_pod": 0.075
         },
         {
          "amount": 38776.273614,
          "date": "2022-04-07T00:00:00",
          "place_in_line": 403097227.09233,
          "price_per_pod": 0.05
         },
         {
          "amount": 17007.566134,
          "date": "2022-04-11T00:00:00",
          "place_in_line": 403118995.79981,
          "price_per_pod": 0.075
         },
         {
          "amount": 4560.09157,
          "date": "2022-04-17T00:00:00",
          "place_in_line": 404072352.993016,
          "price_per_pod": 0.2
         },
         {
          "amount": 56782.954188,
          "date": "2022-04-11T00:00:00",
          "place_in_line": 404743790.158374,
          "price_per_pod": 0.09
         },
         {
          "amount": 555.555555,
          "date": "2022-04-12T00:00:00",
          "place_in_line": 404800573.112562,
          "price_per_pod": 0.09
         },
         {
          "amount": 6518.016107,
          "date": "2022-04-12T00:00:00",
          "place_in_line": 404801128.668117,
          "price_per_pod": 0.09
         },
         {
          "amount": 6518.016107,
          "date": "2022-04-12T00:00:00",
          "place_in_line": 404801128.668117,
          "price_per_pod": 0.035
         },
         {
          "amount": 483255.91458,
          "date": "2022-03-11T00:00:00",
          "place_in_line": 405009250.17802,
          "price_per_pod": 0.05
         },
         {
          "amount": 262.152482,
          "date": "2022-03-15T00:00:00",
          "place_in_line": 405492506.0926,
          "price_per_pod": 0.05
         },
         {
          "amount": 18025,
          "date": "2022-03-21T00:00:00",
          "place_in_line": 405644627.639939,
          "price_per_pod": 0.02
         },
         {
          "amount": 18025,
          "date": "2022-03-21T00:00:00",
          "place_in_line": 405662652.639939,
          "price_per_pod": 0.02
         },
         {
          "amount": 3993.93396,
          "date": "2022-03-26T00:00:00",
          "place_in_line": 405968762.010244,
          "price_per_pod": 0.05
         },
         {
          "amount": 5702.918963,
          "date": "2022-03-26T00:00:00",
          "place_in_line": 405962579.975371,
          "price_per_pod": 0.02
         },
         {
          "amount": 479.11591,
          "date": "2022-03-26T00:00:00",
          "place_in_line": 405968282.894334,
          "price_per_pod": 0.05
         },
         {
          "amount": 2000,
          "date": "2022-04-13T00:00:00",
          "place_in_line": 405970755.94420403,
          "price_per_pod": 0.221
         },
         {
          "amount": 3993.93396,
          "date": "2022-04-12T00:00:00",
          "place_in_line": 405968762.010244,
          "price_per_pod": 0.1
         },
         {
          "amount": 655.888982,
          "date": "2022-03-06T00:00:00",
          "place_in_line": 40848235.510054,
          "price_per_pod": 0.4
         },
         {
          "amount": 655.888982,
          "date": "2022-03-11T00:00:00",
          "place_in_line": 40848235.510054,
          "price_per_pod": 0.25
         },
         {
          "amount": 18658.460216,
          "date": "2022-03-15T00:00:00",
          "place_in_line": 40848891.399036,
          "price_per_pod": 0.6
         },
         {
          "amount": 10500,
          "date": "2022-03-15T00:00:00",
          "place_in_line": 40867549.859252,
          "price_per_pod": 0.6
         },
         {
          "amount": 4557.68978,
          "date": "2022-03-16T00:00:00",
          "place_in_line": 40878049.859252,
          "price_per_pod": 0.6
         },
         {
          "amount": 13667.205471,
          "date": "2022-03-17T00:00:00",
          "place_in_line": 40882607.549032,
          "price_per_pod": 0.6
         },
         {
          "amount": 54252.678768,
          "date": "2022-03-17T00:00:00",
          "place_in_line": 40896274.754503,
          "price_per_pod": 0.6
         },
         {
          "amount": 5000,
          "date": "2022-03-21T00:00:00",
          "place_in_line": 40950527.433271,
          "price_per_pod": 0.6
         },
         {
          "amount": 490.06817,
          "date": "2022-03-23T00:00:00",
          "place_in_line": 40955527.433271,
          "price_per_pod": 0.6
         },
         {
          "amount": 42886.134095,
          "date": "2022-03-25T00:00:00",
          "place_in_line": 40956017.501441,
          "price_per_pod": 0.6
         },
         {
          "amount": 1570,
          "date": "2022-04-16T00:00:00",
          "place_in_line": 411688335.001233,
          "price_per_pod": 0.15
         },
         {
          "amount": 1570,
          "date": "2022-03-16T00:00:00",
          "place_in_line": 411688335.001233,
          "price_per_pod": 0.05
         },
         {
          "amount": 1055.270312,
          "date": "2022-04-09T00:00:00",
          "place_in_line": 41577617.82097,
          "price_per_pod": 0.8
         },
         {
          "amount": 378.155157,
          "date": "2022-04-09T00:00:00",
          "place_in_line": 41578673.091282,
          "price_per_pod": 0.8
         },
         {
          "amount": 100,
          "date": "2022-04-12T00:00:00",
          "place_in_line": 41579051.246439,
          "price_per_pod": 0.9
         },
         {
          "amount": 1598.495397,
          "date": "2022-04-09T00:00:00",
          "place_in_line": 41579051.246439,
          "price_per_pod": 0.8
         },
         {
          "amount": 819.243978,
          "date": "2022-04-13T00:00:00",
          "place_in_line": 41579151.246439,
          "price_per_pod": 0.9
         },
         {
          "amount": 679.251418,
          "date": "2022-04-13T00:00:00",
          "place_in_line": 41579970.490417,
          "price_per_pod": 0.9
         },
         {
          "amount": 3385.197106,
          "date": "2022-04-12T00:00:00",
          "place_in_line": 41580649.741836,
          "price_per_pod": 0.8
         },
         {
          "amount": 12762.369497,
          "date": "2022-04-12T00:00:00",
          "place_in_line": 41584034.938942,
          "price_per_pod": 0.8
         },
         {
          "amount": 6052.292936,
          "date": "2022-04-12T00:00:00",
          "place_in_line": 41596797.308439,
          "price_per_pod": 0.8
         },
         {
          "amount": 1488.416475,
          "date": "2022-04-12T00:00:00",
          "place_in_line": 41602849.601375,
          "price_per_pod": 0.8
         },
         {
          "amount": 41102.223522,
          "date": "2022-04-12T00:00:00",
          "place_in_line": 41604338.01785,
          "price_per_pod": 0.8
         },
         {
          "amount": 3344.111018,
          "date": "2022-03-12T00:00:00",
          "place_in_line": 42446543.126905,
          "price_per_pod": 0.25
         },
         {
          "amount": 100000,
          "date": "2022-04-12T00:00:00",
          "place_in_line": 42171298.965051,
          "price_per_pod": 0.8
         },
         {
          "amount": 2406,
          "date": "2022-04-14T00:00:00",
          "place_in_line": 422363385.300603,
          "price_per_pod": 0.15
         },
         {
          "amount": 3204,
          "date": "2022-03-16T00:00:00",
          "place_in_line": 422363385.300603,
          "price_per_pod": 0.05
         },
         {
          "amount": 798,
          "date": "2022-04-16T00:00:00",
          "place_in_line": 422365791.300603,
          "price_per_pod": 0.15
         },
         {
          "amount": 3344.111015,
          "date": "2022-03-25T00:00:00",
          "place_in_line": 42446543.126905,
          "price_per_pod": 0.69
         },
         {
          "amount": 3344.111016,
          "date": "2022-03-17T00:00:00",
          "place_in_line": 42446543.126905,
          "price_per_pod": 0.65
         },
         {
          "amount": 230.290114,
          "date": "2022-03-14T00:00:00",
          "place_in_line": 42612301.09903,
          "price_per_pod": 0.67
         },
         {
          "amount": 17177.210709,
          "date": "2022-03-24T00:00:00",
          "place_in_line": 42612531.389144,
          "price_per_pod": 0.54
         },
         {
          "amount": 11308.354191,
          "date": "2022-04-14T00:00:00",
          "place_in_line": 42629708.599853,
          "price_per_pod": 0.97
         },
         {
          "amount": 11397.865855,
          "date": "2022-03-24T00:00:00",
          "place_in_line": 42629708.599853,
          "price_per_pod": 0.54
         },
         {
          "amount": 89.511663,
          "date": "2022-04-15T00:00:00",
          "place_in_line": 42641016.954044,
          "price_per_pod": 0.97
         },
         {
          "amount": 71871.378944,
          "date": "2022-03-25T00:00:00",
          "place_in_line": 42641106.465708,
          "price_per_pod": 0.54
         },
         {
          "amount": 5347.909057,
          "date": "2022-04-09T00:00:00",
          "place_in_line": 42882676.93898,
          "price_per_pod": 0.85
         },
         {
          "amount": 1687.620902,
          "date": "2022-04-12T00:00:00",
          "place_in_line": 42712977.844654,
          "price_per_pod": 0.85
         },
         {
          "amount": 458.785549,
          "date": "2022-04-03T00:00:00",
          "place_in_line": 42982676.93898,
          "price_per_pod": 0.85
         },
         {
          "amount": 30000,
          "date": "2022-04-12T00:00:00",
          "place_in_line": 42832676.938980006,
          "price_per_pod": 0.85
         },
         {
          "amount": 23583.682378,
          "date": "2022-04-12T00:00:00",
          "place_in_line": 42714665.465556,
          "price_per_pod": 0.85
         },
         {
          "amount": 45416.317621,
          "date": "2022-04-12T00:00:00",
          "place_in_line": 42738249.147934,
          "price_per_pod": 0.85
         },
         {
          "amount": 2433.904683,
          "date": "2022-04-14T00:00:00",
          "place_in_line": 42783665.465555,
          "price_per_pod": 0.97
         },
         {
          "amount": 49011.473424,
          "date": "2022-04-12T00:00:00",
          "place_in_line": 42783665.465555,
          "price_per_pod": 0.87
         },
         {
          "amount": 22484.619286,
          "date": "2022-04-14T00:00:00",
          "place_in_line": 42786099.370238,
          "price_per_pod": 0.97
         },
         {
          "amount": 7000,
          "date": "2022-04-14T00:00:00",
          "place_in_line": 42808583.989524,
          "price_per_pod": 0.97
         },
         {
          "amount": 20000,
          "date": "2022-04-12T00:00:00",
          "place_in_line": 42862676.93898,
          "price_per_pod": 0.85
         },
         {
          "amount": 428.279265,
          "date": "2022-04-10T00:00:00",
          "place_in_line": 42888024.848037,
          "price_per_pod": 0.75
         },
         {
          "amount": 8000,
          "date": "2022-04-10T00:00:00",
          "place_in_line": 42888453.127302,
          "price_per_pod": 0.75
         },
         {
          "amount": 10138.39796,
          "date": "2022-04-11T00:00:00",
          "place_in_line": 42896453.127302,
          "price_per_pod": 0.75
         },
         {
          "amount": 76085.413717,
          "date": "2022-04-12T00:00:00",
          "place_in_line": 42906591.525262,
          "price_per_pod": 0.75
         },
         {
          "amount": 6700,
          "date": "2022-04-12T00:00:00",
          "place_in_line": 42983135.724529,
          "price_per_pod": 0.75
         },
         {
          "amount": 8000,
          "date": "2022-04-12T00:00:00",
          "place_in_line": 42989835.724529,
          "price_per_pod": 0.75
         },
         {
          "amount": 4110.176622,
          "date": "2022-04-12T00:00:00",
          "place_in_line": 42997835.724529,
          "price_per_pod": 0.77
         },
         {
          "amount": 80731.037828,
          "date": "2022-04-12T00:00:00",
          "place_in_line": 43001945.901151,
          "price_per_pod": 0.77
         },
         {
          "amount": 13113.713192,
          "date": "2022-02-10T00:00:00",
          "place_in_line": 43644802.606019,
          "price_per_pod": 0.38
         },
         {
          "amount": 2725.077554,
          "date": "2022-03-17T00:00:00",
          "place_in_line": 43657916.319211,
          "price_per_pod": 0.55
         },
         {
          "amount": 20000,
          "date": "2022-03-11T00:00:00",
          "place_in_line": 43657916.319211,
          "price_per_pod": 0.25
         },
         {
          "amount": 20000,
          "date": "2022-03-06T00:00:00",
          "place_in_line": 43657916.319211,
          "price_per_pod": 0.297
         },
         {
          "amount": 482.531652,
          "date": "2022-03-18T00:00:00",
          "place_in_line": 43660641.396765,
          "price_per_pod": 0.55
         },
         {
          "amount": 482.531651,
          "date": "2022-04-14T00:00:00",
          "place_in_line": 43660641.396765,
          "price_per_pod": 0.9
         },
         {
          "amount": 4987.726658,
          "date": "2022-03-18T00:00:00",
          "place_in_line": 43661123.928417,
          "price_per_pod": 0.55
         },
         {
          "amount": 4263.308614,
          "date": "2022-03-18T00:00:00",
          "place_in_line": 43666111.655075,
          "price_per_pod": 0.55
         },
         {
          "amount": 4263.308613,
          "date": "2022-03-31T00:00:00",
          "place_in_line": 43666111.655075,
          "price_per_pod": 0.65
         },
         {
          "amount": 7541.355521,
          "date": "2022-03-18T00:00:00",
          "place_in_line": 43670374.963689,
          "price_per_pod": 0.55
         },
         {
          "amount": 7541.35552,
          "date": "2022-03-25T00:00:00",
          "place_in_line": 43670374.963689,
          "price_per_pod": 0.6
         },
         {
          "amount": 20412.646464,
          "date": "2022-03-09T00:00:00",
          "place_in_line": 43677916.319211,
          "price_per_pod": 0.297
         },
         {
          "amount": 5334.210734,
          "date": "2022-03-09T00:00:00",
          "place_in_line": 43698328.965675,
          "price_per_pod": 0.297
         },
         {
          "amount": 41139.42961,
          "date": "2022-03-09T00:00:00",
          "place_in_line": 43703663.176409,
          "price_per_pod": 0.297
         },
         {
          "amount": 20462.88775,
          "date": "2022-04-01T00:00:00",
          "place_in_line": 437580444.503704,
          "price_per_pod": 0.072
         },
         {
          "amount": 5663.243298,
          "date": "2022-04-16T00:00:00",
          "place_in_line": 437600907.391454,
          "price_per_pod": 0.174
         },
         {
          "amount": 8428.341425,
          "date": "2022-04-17T00:00:00",
          "place_in_line": 437606570.634752,
          "price_per_pod": 0.174
         },
         {
          "amount": 3211.926275,
          "date": "2022-04-17T00:00:00",
          "place_in_line": 437614998.976177,
          "price_per_pod": 0.174
         },
         {
          "amount": 3211.888888,
          "date": "2022-08-07T00:00:00",
          "place_in_line": 437614998.976177,
          "price_per_pod": 0.09
         },
         {
          "amount": 8274.303563,
          "date": "2022-04-17T00:00:00",
          "place_in_line": 437618210.902452,
          "price_per_pod": 0.174
         },
         {
          "amount": 8274.303563,
          "date": "2022-08-07T00:00:00",
          "place_in_line": 437618210.902452,
          "price_per_pod": 0.05
         },
         {
          "amount": 18797.185439,
          "date": "2022-04-17T00:00:00",
          "place_in_line": 437626485.206015,
          "price_per_pod": 0.174
         },
         {
          "amount": 49538.069617,
          "date": "2022-04-09T00:00:00",
          "place_in_line": 441693260.358454,
          "price_per_pod": 0.068
         },
         {
          "amount": 10461.930383,
          "date": "2022-04-12T00:00:00",
          "place_in_line": 441742798.428071,
          "price_per_pod": 0.068
         },
         {
          "amount": 1993.82242,
          "date": "2022-04-14T00:00:00",
          "place_in_line": 44517420.441953,
          "price_per_pod": 0.9
         },
         {
          "amount": 16235,
          "date": "2022-04-12T00:00:00",
          "place_in_line": 446779863.150493,
          "price_per_pod": 0.075
         },
         {
          "amount": 50000,
          "date": "2022-04-14T00:00:00",
          "place_in_line": 44683804.119946,
          "price_per_pod": 0.89
         },
         {
          "amount": 9899.100291,
          "date": "2022-04-14T00:00:00",
          "place_in_line": 44733804.119946,
          "price_per_pod": 0.89
         },
         {
          "amount": 14187.664589,
          "date": "2022-04-14T00:00:00",
          "place_in_line": 44743703.220237,
          "price_per_pod": 0.89
         },
         {
          "amount": 45100.630178,
          "date": "2022-04-14T00:00:00",
          "place_in_line": 44757890.884826,
          "price_per_pod": 0.89
         },
         {
          "amount": 2694.713257,
          "date": "2022-04-16T00:00:00",
          "place_in_line": 451881155.731609,
          "price_per_pod": 0.18
         },
         {
          "amount": 8473.153625,
          "date": "2022-04-01T00:00:00",
          "place_in_line": 451952602.171871,
          "price_per_pod": 0.04
         },
         {
          "amount": 6675.646701,
          "date": "2022-04-07T00:00:00",
          "place_in_line": 456553811.49869,
          "price_per_pod": 0.058
         },
         {
          "amount": 15747.001562,
          "date": "2022-04-15T00:00:00",
          "place_in_line": 45779640.850882,
          "price_per_pod": 0.99
         },
         {
          "amount": 13246.174941,
          "date": "2022-04-15T00:00:00",
          "place_in_line": 45795387.852444,
          "price_per_pod": 0.99
         },
         {
          "amount": 60000,
          "date": "2022-04-07T00:00:00",
          "place_in_line": 462281867.766454,
          "price_per_pod": 0.059
         },
         {
          "amount": 12155.421305,
          "date": "2022-04-13T00:00:00",
          "place_in_line": 463414838.278024,
          "price_per_pod": 0.15
         },
         {
          "amount": 12043.89813,
          "date": "2022-04-15T00:00:00",
          "place_in_line": 464408576.24118,
          "price_per_pod": 0.119
         },
         {
          "amount": 1685.616675,
          "date": "2022-04-16T00:00:00",
          "place_in_line": 467315572.517841,
          "price_per_pod": 0.07
         },
         {
          "amount": 1685.577968,
          "date": "2022-04-16T00:00:00",
          "place_in_line": 467317258.134516,
          "price_per_pod": 0.07
         },
         {
          "amount": 8954.859874,
          "date": "2022-03-20T00:00:00",
          "place_in_line": 46856996.902504,
          "price_per_pod": 0.42069
         },
         {
          "amount": 8954.859873,
          "date": "2022-04-02T00:00:00",
          "place_in_line": 46856996.902504,
          "price_per_pod": 0.64
         },
         {
          "amount": 2349.612372,
          "date": "2022-03-01T00:00:00",
          "place_in_line": 46865951.762378,
          "price_per_pod": 0.25
         },
         {
          "amount": 500,
          "date": "2022-03-03T00:00:00",
          "place_in_line": 46868301.37475,
          "price_per_pod": 0.18
         },
         {
          "amount": 17072.714466,
          "date": "2022-03-03T00:00:00",
          "place_in_line": 46868801.37475,
          "price_per_pod": 0.18
         },
         {
          "amount": 3116.43932,
          "date": "2022-03-25T00:00:00",
          "place_in_line": 46868801.37475,
          "price_per_pod": 0.655
         },
         {
          "amount": 7943.281528,
          "date": "2022-03-31T00:00:00",
          "place_in_line": 46871917.81407,
          "price_per_pod": 0.655
         },
         {
          "amount": 6012.993616,
          "date": "2022-04-05T00:00:00",
          "place_in_line": 46879861.095598,
          "price_per_pod": 0.655
         },
         {
          "amount": 4143.576718,
          "date": "2022-04-12T00:00:00",
          "place_in_line": 46885874.089216,
          "price_per_pod": 0.79
         },
         {
          "amount": 30312.828021,
          "date": "2022-04-11T00:00:00",
          "place_in_line": 47321517.557564,
          "price_per_pod": 0.69
         },
         {
          "amount": 376.511327,
          "date": "2022-04-10T00:00:00",
          "place_in_line": 47421517.557564,
          "price_per_pod": 0.69
         },
         {
          "amount": 166288.899719,
          "date": "2022-03-15T00:00:00",
          "place_in_line": 470702637.131879,
          "price_per_pod": 0.018
         },
         {
          "amount": 100323,
          "date": "2022-04-05T00:00:00",
          "place_in_line": 470702637.131879,
          "price_per_pod": 0.069
         },
         {
          "amount": 69687.171978,
          "date": "2022-04-12T00:00:00",
          "place_in_line": 47351830.385585,
          "price_per_pod": 0.69
         },
         {
          "amount": 50000,
          "date": "2022-04-10T00:00:00",
          "place_in_line": 47421894.068891,
          "price_per_pod": 0.68
         },
         {
          "amount": 5887.33463,
          "date": "2022-04-10T00:00:00",
          "place_in_line": 47471894.068891,
          "price_per_pod": 0.68
         },
         {
          "amount": 32352.941176,
          "date": "2022-04-11T00:00:00",
          "place_in_line": 47477781.403521,
          "price_per_pod": 0.68
         },
         {
          "amount": 11383.212866,
          "date": "2022-04-11T00:00:00",
          "place_in_line": 47510134.344697,
          "price_per_pod": 0.68
         },
         {
          "amount": 30759.746461,
          "date": "2022-02-07T00:00:00",
          "place_in_line": 47530545.601306,
          "price_per_pod": 0.265
         },
         {
          "amount": 16000,
          "date": "2022-02-06T00:00:00",
          "place_in_line": 47581305.347766995,
          "price_per_pod": 0.25
         },
         {
          "amount": 20000,
          "date": "2022-02-06T00:00:00",
          "place_in_line": 47561305.347766995,
          "price_per_pod": 0.25
         },
         {
          "amount": 2166.098933,
          "date": "2022-04-09T00:00:00",
          "place_in_line": 47561305.347767,
          "price_per_pod": 0.74
         },
         {
          "amount": 2166.098932,
          "date": "2022-04-13T00:00:00",
          "place_in_line": 47561305.347767,
          "price_per_pod": 0.9
         },
         {
          "amount": 10000,
          "date": "2022-02-07T00:00:00",
          "place_in_line": 47561305.347767,
          "price_per_pod": 0.49
         },
         {
          "amount": 895.982605,
          "date": "2022-04-13T00:00:00",
          "place_in_line": 47563471.4467,
          "price_per_pod": 0.89
         },
         {
          "amount": 2160.553367,
          "date": "2022-04-09T00:00:00",
          "place_in_line": 47563471.4467,
          "price_per_pod": 0.74
         },
         {
          "amount": 1264.570761,
          "date": "2022-04-13T00:00:00",
          "place_in_line": 47564367.429305,
          "price_per_pod": 0.89
         },
         {
          "amount": 4423.548117,
          "date": "2022-04-14T00:00:00",
          "place_in_line": 47565632.000067,
          "price_per_pod": 0.92
         },
         {
          "amount": 4423.548118,
          "date": "2022-04-12T00:00:00",
          "place_in_line": 47565632.000067,
          "price_per_pod": 0.74
         },
         {
          "amount": 1249.799581,
          "date": "2022-04-12T00:00:00",
          "place_in_line": 47570055.548185,
          "price_per_pod": 0.74
         },
         {
          "amount": 2000,
          "date": "2022-02-09T00:00:00",
          "place_in_line": 47571305.347767,
          "price_per_pod": 0.49
         },
         {
          "amount": 16000,
          "date": "2022-03-08T00:00:00",
          "place_in_line": 47581305.347767,
          "price_per_pod": 0.25
         },
         {
          "amount": 14523.272406,
          "date": "2022-02-07T00:00:00",
          "place_in_line": 47597305.347767,
          "price_per_pod": 0.265
         },
         {
          "amount": 10238.172246,
          "date": "2022-04-12T00:00:00",
          "place_in_line": 47633593.791656,
          "price_per_pod": 0.78
         },
         {
          "amount": 493.432238,
          "date": "2022-03-04T00:00:00",
          "place_in_line": 48279460.448812,
          "price_per_pod": 0.42
         },
         {
          "amount": 730.35855,
          "date": "2022-03-13T00:00:00",
          "place_in_line": 48269460.448812,
          "price_per_pod": 0.42
         },
         {
          "amount": 4269,
          "date": "2022-03-13T00:00:00",
          "place_in_line": 48275191.448812,
          "price_per_pod": 0.52
         },
         {
          "amount": 4269,
          "date": "2022-04-08T00:00:00",
          "place_in_line": 48275191.448812,
          "price_per_pod": 0.64
         },
         {
          "amount": 12566.933733,
          "date": "2022-03-06T00:00:00",
          "place_in_line": 48279953.88105,
          "price_per_pod": 0.21
         },
         {
          "amount": 10151.634029,
          "date": "2022-03-06T00:00:00",
          "place_in_line": 48292520.814783,
          "price_per_pod": 0.21
         },
         {
          "amount": 32339.941743,
          "date": "2022-03-09T00:00:00",
          "place_in_line": 48383341.927353,
          "price_per_pod": 0.37
         },
         {
          "amount": 3484.401554,
          "date": "2022-03-10T00:00:00",
          "place_in_line": 48415681.869096,
          "price_per_pod": 0.37
         },
         {
          "amount": 9435.437298,
          "date": "2022-03-11T00:00:00",
          "place_in_line": 48419166.27065,
          "price_per_pod": 0.37
         },
         {
          "amount": 20000,
          "date": "2022-03-26T00:00:00",
          "place_in_line": 48447512.649054,
          "price_per_pod": 0.5
         },
         {
          "amount": 20680,
          "date": "2022-03-14T00:00:00",
          "place_in_line": 48503965.121819995,
          "price_per_pod": 0.35
         },
         {
          "amount": 4578.181818,
          "date": "2022-03-28T00:00:00",
          "place_in_line": 48467512.649054,
          "price_per_pod": 0.55
         },
         {
          "amount": 10000,
          "date": "2022-03-27T00:00:00",
          "place_in_line": 48493965.121819995,
          "price_per_pod": 0.45
         },
         {
          "amount": 10000,
          "date": "2022-03-27T00:00:00",
          "place_in_line": 48483965.121819995,
          "price_per_pod": 0.45
         },
         {
          "amount": 11874.290947,
          "date": "2022-03-28T00:00:00",
          "place_in_line": 48472090.830872,
          "price_per_pod": 0.55
         },
         {
          "amount": 1422.076188,
          "date": "2022-04-06T00:00:00",
          "place_in_line": 48472090.830872,
          "price_per_pod": 0.69
         },
         {
          "amount": 10452.214757,
          "date": "2022-04-08T00:00:00",
          "place_in_line": 48473512.90706,
          "price_per_pod": 0.64
         },
         {
          "amount": 3384.907472,
          "date": "2022-04-11T00:00:00",
          "place_in_line": 48493965.12182,
          "price_per_pod": 0.7
         },
         {
          "amount": 1054,
          "date": "2022-03-24T00:00:00",
          "place_in_line": 48503965.12182,
          "price_per_pod": 0.5
         },
         {
          "amount": 17125.52103,
          "date": "2022-03-25T00:00:00",
          "place_in_line": 48505019.12182,
          "price_per_pod": 0.5
         },
         {
          "amount": 2500.47897,
          "date": "2022-03-25T00:00:00",
          "place_in_line": 48522144.64285,
          "price_per_pod": 0.5
         },
         {
          "amount": 5663.730255,
          "date": "2022-04-07T00:00:00",
          "place_in_line": 48712174.944159,
          "price_per_pod": 0.65
         },
         {
          "amount": 25981.775065,
          "date": "2022-04-12T00:00:00",
          "place_in_line": 48646656.12182,
          "price_per_pod": 0.82
         },
         {
          "amount": 29698.122534,
          "date": "2022-04-14T00:00:00",
          "place_in_line": 48672637.896885,
          "price_per_pod": 0.93
         },
         {
          "amount": 29698.122535,
          "date": "2022-04-12T00:00:00",
          "place_in_line": 48672637.896885,
          "price_per_pod": 0.82
         },
         {
          "amount": 880.671171,
          "date": "2022-04-13T00:00:00",
          "place_in_line": 48702336.01942,
          "price_per_pod": 0.82
         },
         {
          "amount": 8958.253567,
          "date": "2022-04-13T00:00:00",
          "place_in_line": 48703216.690591,
          "price_per_pod": 0.82
         },
         {
          "amount": 27885.76435,
          "date": "2022-04-07T00:00:00",
          "place_in_line": 48717838.674414,
          "price_per_pod": 0.65
         },
         {
          "amount": 5541.538461,
          "date": "2022-04-08T00:00:00",
          "place_in_line": 48745724.438764,
          "price_per_pod": 0.65
         },
         {
          "amount": 2475.926693,
          "date": "2022-04-13T00:00:00",
          "place_in_line": 48751265.977225,
          "price_per_pod": 0.82
         },
         {
          "amount": 12557.807798,
          "date": "2022-04-13T00:00:00",
          "place_in_line": 48753741.903918,
          "price_per_pod": 0.82
         },
         {
          "amount": 716.70244,
          "date": "2022-04-13T00:00:00",
          "place_in_line": 48766299.711716,
          "price_per_pod": 0.82
         },
         {
          "amount": 947.495139,
          "date": "2022-04-13T00:00:00",
          "place_in_line": 48767016.414156,
          "price_per_pod": 0.82
         },
         {
          "amount": 27095,
          "date": "2022-04-13T00:00:00",
          "place_in_line": 48767963.909295,
          "price_per_pod": 0.82
         },
         {
          "amount": 14262.679957,
          "date": "2022-04-13T00:00:00",
          "place_in_line": 48795058.909295,
          "price_per_pod": 0.82
         },
         {
          "amount": 2853.354906,
          "date": "2022-04-13T00:00:00",
          "place_in_line": 48809321.589252,
          "price_per_pod": 0.82
         },
         {
          "amount": 5561.73126,
          "date": "2022-02-07T00:00:00",
          "place_in_line": 490256846.516323,
          "price_per_pod": 0.05
         },
         {
          "amount": 500000,
          "date": "2022-03-09T00:00:00",
          "place_in_line": 490699224.23427194,
          "price_per_pod": 0.012
         },
         {
          "amount": 111570,
          "date": "2022-03-09T00:00:00",
          "place_in_line": 490699224.234272,
          "price_per_pod": 0.03
         },
         {
          "amount": 16666.666666,
          "date": "2022-03-10T00:00:00",
          "place_in_line": 490810794.234272,
          "price_per_pod": 0.03
         },
         {
          "amount": 134211.333334,
          "date": "2022-03-11T00:00:00",
          "place_in_line": 490827460.900938,
          "price_per_pod": 0.03
         },
         {
          "amount": 127509.8648,
          "date": "2022-03-12T00:00:00",
          "place_in_line": 490961672.234272,
          "price_per_pod": 0.04
         },
         {
          "amount": 9542.503575,
          "date": "2022-08-08T00:00:00",
          "place_in_line": 491089182.099072,
          "price_per_pod": 0.08
         },
         {
          "amount": 26604.1352,
          "date": "2022-03-14T00:00:00",
          "place_in_line": 491089182.099072,
          "price_per_pod": 0.04
         },
         {
          "amount": 6469.033333,
          "date": "2022-09-03T00:00:00",
          "place_in_line": 491098724.602647,
          "price_per_pod": 0.048
         },
         {
          "amount": 54054.054054,
          "date": "2022-03-17T00:00:00",
          "place_in_line": 491115786.234272,
          "price_per_pod": 0.074
         },
         {
          "amount": 7468.303231,
          "date": "2022-03-30T00:00:00",
          "place_in_line": 491169840.288326,
          "price_per_pod": 0.069
         },
         {
          "amount": 21915.642715,
          "date": "2022-04-12T00:00:00",
          "place_in_line": 491177308.591557,
          "price_per_pod": 0.166
         },
         {
          "amount": 21915.642715,
          "date": "2022-04-01T00:00:00",
          "place_in_line": 491177308.591557,
          "price_per_pod": 0.069
         },
         {
          "amount": 5000,
          "date": "2022-04-13T00:00:00",
          "place_in_line": 49781331.75645,
          "price_per_pod": 0.81
         },
         {
          "amount": 28016.504304,
          "date": "2022-04-13T00:00:00",
          "place_in_line": 49786331.75645,
          "price_per_pod": 0.81
         },
         {
          "amount": 9508.783587,
          "date": "2022-04-13T00:00:00",
          "place_in_line": 49814348.260754,
          "price_per_pod": 0.81
         },
         {
          "amount": 35690.455307,
          "date": "2022-04-13T00:00:00",
          "place_in_line": 49823857.044341,
          "price_per_pod": 0.81
         },
         {
          "amount": 10416.666666,
          "date": "2022-04-15T00:00:00",
          "place_in_line": 50095590.593713,
          "price_per_pod": 0.96
         },
         {
          "amount": 46663,
          "date": "2022-04-15T00:00:00",
          "place_in_line": 50106007.260379,
          "price_per_pod": 0.96
         },
         {
          "amount": 3573.614263,
          "date": "2022-04-16T00:00:00",
          "place_in_line": 50152670.260379,
          "price_per_pod": 0.96
         },
         {
          "amount": 19118.812229,
          "date": "2022-04-16T00:00:00",
          "place_in_line": 50156243.874642,
          "price_per_pod": 0.96
         },
         {
          "amount": 24556.629647,
          "date": "2022-04-16T00:00:00",
          "place_in_line": 50175362.686871,
          "price_per_pod": 0.96
         },
         {
          "amount": 995.305321,
          "date": "2022-02-06T00:00:00",
          "place_in_line": 50199919.316519,
          "price_per_pod": 0.6
         },
         {
          "amount": 9004.694677,
          "date": "2022-02-07T00:00:00",
          "place_in_line": 50200914.62184,
          "price_per_pod": 0.49
         },
         {
          "amount": 6395.046102,
          "date": "2022-04-15T00:00:00",
          "place_in_line": 50200914.62184,
          "price_per_pod": 0.975
         },
         {
          "amount": 2609.648574,
          "date": "2022-04-16T00:00:00",
          "place_in_line": 50207309.667942,
          "price_per_pod": 0.975
         },
         {
          "amount": 409.734322,
          "date": "2022-04-03T00:00:00",
          "place_in_line": 50209919.316519,
          "price_per_pod": 0.45
         },
         {
          "amount": 61560.768641,
          "date": "2022-08-15T00:00:00",
          "place_in_line": 506102777.589203,
          "price_per_pod": 0.01
         },
         {
          "amount": 7692.307692,
          "date": "2022-04-16T00:00:00",
          "place_in_line": 513181895.808128,
          "price_per_pod": 0.13
         },
         {
          "amount": 35590,
          "date": "2022-04-12T00:00:00",
          "place_in_line": 513181895.808128,
          "price_per_pod": 0.065
         },
         {
          "amount": 312607.15245,
          "date": "2022-02-24T00:00:00",
          "place_in_line": 52707434.283111,
          "price_per_pod": 0.12
         },
         {
          "amount": 29857.571563,
          "date": "2022-08-15T00:00:00",
          "place_in_line": 538324084.737008,
          "price_per_pod": 0.01
         },
         {
          "amount": 26915.995911,
          "date": "2022-08-07T00:00:00",
          "place_in_line": 541679847.367551,
          "price_per_pod": 0.0212
         },
         {
          "amount": 3119.075316,
          "date": "2022-04-15T00:00:00",
          "place_in_line": 54329725.407961,
          "price_per_pod": 0.92
         },
         {
          "amount": 3171.534884,
          "date": "2022-04-15T00:00:00",
          "place_in_line": 54332844.483277,
          "price_per_pod": 0.92
         },
         {
          "amount": 3709.3898,
          "date": "2022-04-15T00:00:00",
          "place_in_line": 54336016.018161,
          "price_per_pod": 0.92
         },
         {
          "amount": 397510.122725,
          "date": "2022-04-12T00:00:00",
          "place_in_line": 591794773.294125,
          "price_per_pod": 0.06
         },
         {
          "amount": 52835.637822,
          "date": "2022-04-12T00:00:00",
          "place_in_line": 592192283.41685,
          "price_per_pod": 0.06
         },
         {
          "amount": 6561.326212,
          "date": "2022-04-12T00:00:00",
          "place_in_line": 592967559.033979,
          "price_per_pod": 0.055
         },
         {
          "amount": 150000,
          "date": "2022-04-14T00:00:00",
          "place_in_line": 609009158.318525,
          "price_per_pod": 0.06
         },
         {
          "amount": 1500,
          "date": "2022-03-27T00:00:00",
          "place_in_line": 612614464.925164,
          "price_per_pod": 0.9971
         },
         {
          "amount": 316.832137,
          "date": "2022-08-20T00:00:00",
          "place_in_line": 61628545.548819,
          "price_per_pod": 0.64
         },
         {
          "amount": 763.789095,
          "date": "2022-08-28T00:00:00",
          "place_in_line": 61590791.622395,
          "price_per_pod": 0.64
         },
         {
          "amount": 10000,
          "date": "2022-08-18T00:00:00",
          "place_in_line": 61638545.548819,
          "price_per_pod": 0.64
         },
         {
          "amount": 435.653558,
          "date": "2022-08-12T00:00:00",
          "place_in_line": 61648545.548819,
          "price_per_pod": 0.64
         },
         {
          "amount": 76.923076,
          "date": "2022-08-21T00:00:00",
          "place_in_line": 61618545.548819,
          "price_per_pod": 0.64
         },
         {
          "amount": 1666.666666,
          "date": "2022-08-31T00:00:00",
          "place_in_line": 61591555.41149,
          "price_per_pod": 0.6
         },
         {
          "amount": 25323.470663,
          "date": "2022-09-07T00:00:00",
          "place_in_line": 61593222.078156,
          "price_per_pod": 0.52
         },
         {
          "amount": 24.5942,
          "date": "2022-08-22T00:00:00",
          "place_in_line": 61618622.471895,
          "price_per_pod": 0.65
         },
         {
          "amount": 616.643076,
          "date": "2022-08-23T00:00:00",
          "place_in_line": 61618647.066095,
          "price_per_pod": 0.65
         },
         {
          "amount": 253.481723,
          "date": "2022-08-23T00:00:00",
          "place_in_line": 61619263.709171,
          "price_per_pod": 0.65
         },
         {
          "amount": 9028.357925,
          "date": "2022-08-28T00:00:00",
          "place_in_line": 61619517.190894,
          "price_per_pod": 0.59
         },
         {
          "amount": 9028.357925,
          "date": "2022-08-23T00:00:00",
          "place_in_line": 61619517.190894,
          "price_per_pod": 0.55
         },
         {
          "amount": 1624.738693,
          "date": "2022-08-23T00:00:00",
          "place_in_line": 61628862.380956,
          "price_per_pod": 0.62
         },
         {
          "amount": 8058.429169,
          "date": "2022-08-26T00:00:00",
          "place_in_line": 61630487.119649,
          "price_per_pod": 0.62
         },
         {
          "amount": 9564.346441,
          "date": "2022-08-17T00:00:00",
          "place_in_line": 61648981.202377,
          "price_per_pod": 0.6
         },
         {
          "amount": 15686.547585,
          "date": "2022-04-12T00:00:00",
          "place_in_line": 621047974.340633,
          "price_per_pod": 0.09
         },
         {
          "amount": 5788.17026,
          "date": "2022-04-12T00:00:00",
          "place_in_line": 622995115.594871,
          "price_per_pod": 0.05
         },
         {
          "amount": 13450.27974,
          "date": "2022-04-12T00:00:00",
          "place_in_line": 623000903.765131,
          "price_per_pod": 0.05
         },
         {
          "amount": 30150,
          "date": "2022-04-17T00:00:00",
          "place_in_line": 623883983.044871,
          "price_per_pod": 0.1
         },
         {
          "amount": 253050,
          "date": "2022-04-12T00:00:00",
          "place_in_line": 625298680.160271,
          "price_per_pod": 0.09
         },
         {
          "amount": 14602.52552,
          "date": "2022-04-16T00:00:00",
          "place_in_line": 625899610.647771,
          "price_per_pod": 0.1
         },
         {
          "amount": 1165.87945,
          "date": "2022-04-17T00:00:00",
          "place_in_line": 625914213.173291,
          "price_per_pod": 0.1
         },
         {
          "amount": 18284.6154,
          "date": "2022-03-04T00:00:00",
          "place_in_line": 629670321.709709,
          "price_per_pod": 0.01
         },
         {
          "amount": 21159.782439,
          "date": "2022-03-21T00:00:00",
          "place_in_line": 630926654.506278,
          "price_per_pod": 0.041
         },
         {
          "amount": 75915,
          "date": "2022-03-29T00:00:00",
          "place_in_line": 631117707.256278,
          "price_per_pod": 0.0395
         },
         {
          "amount": 488149.24397,
          "date": "2022-03-17T00:00:00",
          "place_in_line": 636847008.762039,
          "price_per_pod": 0.05
         },
         {
          "amount": 3774.608352,
          "date": "2022-03-20T00:00:00",
          "place_in_line": 640240084.788517,
          "price_per_pod": 0.034
         },
         {
          "amount": 2638.341158,
          "date": "2022-03-26T00:00:00",
          "place_in_line": 640243859.396869,
          "price_per_pod": 0.034
         },
         {
          "amount": 40691.5332,
          "date": "2022-03-09T00:00:00",
          "place_in_line": 641335218.453068,
          "price_per_pod": 0.02
         },
         {
          "amount": 16603.151206,
          "date": "2022-03-10T00:00:00",
          "place_in_line": 641375909.986268,
          "price_per_pod": 0.02
         },
         {
          "amount": 114580,
          "date": "2022-04-12T00:00:00",
          "place_in_line": 643112195.637173,
          "price_per_pod": 0.145
         },
         {
          "amount": 20467.308746,
          "date": "2022-04-17T00:00:00",
          "place_in_line": 643671292.393858,
          "price_per_pod": 0.075
         },
         {
          "amount": 20467.308746,
          "date": "2022-08-07T00:00:00",
          "place_in_line": 643671292.393858,
          "price_per_pod": 0.0212
         },
         {
          "amount": 1759.031988,
          "date": "2022-04-17T00:00:00",
          "place_in_line": 643691759.702604,
          "price_per_pod": 0.075
         },
         {
          "amount": 12525.1265,
          "date": "2022-03-10T00:00:00",
          "place_in_line": 656295710.754397,
          "price_per_pod": 0.02
         },
         {
          "amount": 135804.736673,
          "date": "2022-03-27T00:00:00",
          "place_in_line": 659059601.095085,
          "price_per_pod": 0.021
         },
         {
          "amount": 135804.736673,
          "date": "2022-04-10T00:00:00",
          "place_in_line": 659059601.095085,
          "price_per_pod": 0.055
         },
         {
          "amount": 26072.576416,
          "date": "2022-04-11T00:00:00",
          "place_in_line": 66034079.644085,
          "price_per_pod": 0.89
         },
         {
          "amount": 2240.24991,
          "date": "2022-04-16T00:00:00",
          "place_in_line": 65959662.644085,
          "price_per_pod": 0.89
         },
         {
          "amount": 10898.078686,
          "date": "2022-04-12T00:00:00",
          "place_in_line": 66060152.220501,
          "price_per_pod": 0.6
         },
         {
          "amount": 6440.533562,
          "date": "2022-04-13T00:00:00",
          "place_in_line": 66071050.299187,
          "price_per_pod": 0.75
         },
         {
          "amount": 4285.968142,
          "date": "2022-08-07T00:00:00",
          "place_in_line": 66077490.832749,
          "price_per_pod": 0.88
         },
         {
          "amount": 4297.401417,
          "date": "2022-04-13T00:00:00",
          "place_in_line": 66077490.832749,
          "price_per_pod": 0.75
         },
         {
          "amount": 11.407582,
          "date": "2022-08-07T00:00:00",
          "place_in_line": 66081776.800891,
          "price_per_pod": 0.88
         },
         {
          "amount": 0.025693,
          "date": "2022-08-07T00:00:00",
          "place_in_line": 66081788.208473,
          "price_per_pod": 0.88
         },
         {
          "amount": 2981.427168,
          "date": "2022-04-16T00:00:00",
          "place_in_line": 66081788.234166,
          "price_per_pod": 0.91
         },
         {
          "amount": 2981.427169,
          "date": "2022-04-13T00:00:00",
          "place_in_line": 66081788.234166,
          "price_per_pod": 0.75
         },
         {
          "amount": 7048.876233,
          "date": "2022-04-13T00:00:00",
          "place_in_line": 66084769.661335,
          "price_per_pod": 0.75
         },
         {
          "amount": 6537.846472,
          "date": "2022-04-13T00:00:00",
          "place_in_line": 66091818.537568,
          "price_per_pod": 0.75
         },
         {
          "amount": 4000.480096,
          "date": "2022-02-26T00:00:00",
          "place_in_line": 663099266.111562,
          "price_per_pod": 0.001
         },
         {
          "amount": 94598,
          "date": "2022-04-13T00:00:00",
          "place_in_line": 672599944.217095,
          "price_per_pod": 0.06
         },
         {
          "amount": 11565.6118,
          "date": "2022-08-21T00:00:00",
          "place_in_line": 692168843.768664,
          "price_per_pod": 0.025
         },
         {
          "amount": 12471.315402,
          "date": "2022-04-17T00:00:00",
          "place_in_line": 692168843.768664,
          "price_per_pod": 0.001
         },
         {
          "amount": 905.703602,
          "date": "2022-08-22T00:00:00",
          "place_in_line": 692180409.380464,
          "price_per_pod": 0.025
         },
         {
          "amount": 72530,
          "date": "2022-03-12T00:00:00",
          "place_in_line": 693083416.760383,
          "price_per_pod": 0.017
         },
         {
          "amount": 56385.1093,
          "date": "2022-03-11T00:00:00",
          "place_in_line": 693193337.526291,
          "price_per_pod": 0.02
         },
         {
          "amount": 37903.8907,
          "date": "2022-03-11T00:00:00",
          "place_in_line": 693249722.635591,
          "price_per_pod": 0.02
         },
         {
          "amount": 138626.226222,
          "date": "2022-03-12T00:00:00",
          "place_in_line": 693535758.530681,
          "price_per_pod": 0.017
         },
         {
          "amount": 4395.105822,
          "date": "2022-03-17T00:00:00",
          "place_in_line": 693862296.947457,
          "price_per_pod": 0.032
         },
         {
          "amount": 8976.1768,
          "date": "2022-03-12T00:00:00",
          "place_in_line": 694491673.804561,
          "price_per_pod": 0.02
         },
         {
          "amount": 74135.096485,
          "date": "2022-03-12T00:00:00",
          "place_in_line": 694500649.981361,
          "price_per_pod": 0.02
         },
         {
          "amount": 88383.049,
          "date": "2022-03-13T00:00:00",
          "place_in_line": 694574785.077846,
          "price_per_pod": 0.03
         },
         {
          "amount": 42152.951,
          "date": "2022-03-12T00:00:00",
          "place_in_line": 694663168.1268461,
          "price_per_pod": 0.016
         },
         {
          "amount": 4442.676388,
          "date": "2022-03-13T00:00:00",
          "place_in_line": 695155947.986631,
          "price_per_pod": 0.015
         },
         {
          "amount": 2442.109027,
          "date": "2022-03-21T00:00:00",
          "place_in_line": 695170871.90674,
          "price_per_pod": 0.03
         },
         {
          "amount": 5637.466721,
          "date": "2022-03-26T00:00:00",
          "place_in_line": 695173314.015767,
          "price_per_pod": 0.028
         },
         {
          "amount": 56964.081161,
          "date": "2022-03-13T00:00:00",
          "place_in_line": 695196582.394395,
          "price_per_pod": 0.03
         },
         {
          "amount": 4848.909225,
          "date": "2022-03-18T00:00:00",
          "place_in_line": 695271790.792853,
          "price_per_pod": 0.04
         },
         {
          "amount": 19019.15352,
          "date": "2022-03-20T00:00:00",
          "place_in_line": 695276639.702078,
          "price_per_pod": 0.029
         },
         {
          "amount": 4800.266302,
          "date": "2022-03-29T00:00:00",
          "place_in_line": 695313182.010301,
          "price_per_pod": 0.032
         },
         {
          "amount": 49547.619666,
          "date": "2022-08-28T00:00:00",
          "place_in_line": 695337036.890007,
          "price_per_pod": 0.03
         },
         {
          "amount": 60606.060606,
          "date": "2022-03-17T00:00:00",
          "place_in_line": 695337036.890007,
          "price_per_pod": 0.033
         },
         {
          "amount": 11058.44094,
          "date": "2022-09-03T00:00:00",
          "place_in_line": 695386584.509673,
          "price_per_pod": 0.03
         },
         {
          "amount": 10587.087636,
          "date": "2022-03-17T00:00:00",
          "place_in_line": 695397642.950613,
          "price_per_pod": 0.033
         },
         {
          "amount": 1458.416574,
          "date": "2022-03-18T00:00:00",
          "place_in_line": 695408230.038249,
          "price_per_pod": 0.033
         },
         {
          "amount": 8643.272696,
          "date": "2022-03-26T00:00:00",
          "place_in_line": 695426166.696789,
          "price_per_pod": 0.045
         },
         {
          "amount": 8643.272696,
          "date": "2022-03-18T00:00:00",
          "place_in_line": 695426166.696789,
          "price_per_pod": 0.033
         },
         {
          "amount": 20000,
          "date": "2022-03-16T00:00:00",
          "place_in_line": 695447106.462249,
          "price_per_pod": 0.033
         },
         {
          "amount": 28471.528595,
          "date": "2022-03-17T00:00:00",
          "place_in_line": 695467106.462249,
          "price_per_pod": 0.033
         },
         {
          "amount": 8038.918025,
          "date": "2022-03-18T00:00:00",
          "place_in_line": 695504899.844259,
          "price_per_pod": 0.033
         },
         {
          "amount": 5903.735025,
          "date": "2022-03-26T00:00:00",
          "place_in_line": 695518171.327888,
          "price_per_pod": 0.038
         },
         {
          "amount": 4971.925933,
          "date": "2022-03-29T00:00:00",
          "place_in_line": 695524075.062913,
          "price_per_pod": 0.032
         },
         {
          "amount": 8588.394184,
          "date": "2022-03-26T00:00:00",
          "place_in_line": 695529046.988846,
          "price_per_pod": 0.025
         },
         {
          "amount": 7448.178586,
          "date": "2022-03-26T00:00:00",
          "place_in_line": 695602559.036865,
          "price_per_pod": 0.032
         },
         {
          "amount": 857.142857,
          "date": "2022-03-28T00:00:00",
          "place_in_line": 695610007.215451,
          "price_per_pod": 0.035
         },
         {
          "amount": 3827.017628,
          "date": "2022-03-30T00:00:00",
          "place_in_line": 695610864.358308,
          "price_per_pod": 0.035
         },
         {
          "amount": 1788.298206,
          "date": "2022-04-07T00:00:00",
          "place_in_line": 695614691.375936,
          "price_per_pod": 0.035
         },
         {
          "amount": 7640.019972,
          "date": "2022-03-27T00:00:00",
          "place_in_line": 695616479.674142,
          "price_per_pod": 0.035
         },
         {
          "amount": 1561,
          "date": "2022-04-17T00:00:00",
          "place_in_line": 695624119.694114,
          "price_per_pod": 0.06
         },
         {
          "amount": 2768.287495,
          "date": "2022-04-17T00:00:00",
          "place_in_line": 695625680.694114,
          "price_per_pod": 0.06
         },
         {
          "amount": 143420,
          "date": "2022-03-15T00:00:00",
          "place_in_line": 695628520.661609,
          "price_per_pod": 0.033
         },
         {
          "amount": 20948.97713,
          "date": "2022-09-01T00:00:00",
          "place_in_line": 695771940.661609,
          "price_per_pod": 0.023
         },
         {
          "amount": 21000,
          "date": "2022-03-18T00:00:00",
          "place_in_line": 695771940.661609,
          "price_per_pod": 0.033
         },
         {
          "amount": 51.02287,
          "date": "2022-09-03T00:00:00",
          "place_in_line": 695792889.638739,
          "price_per_pod": 0.023
         },
         {
          "amount": 20000,
          "date": "2022-03-18T00:00:00",
          "place_in_line": 695792940.661609,
          "price_per_pod": 0.033
         },
         {
          "amount": 14524.410119,
          "date": "2022-03-18T00:00:00",
          "place_in_line": 695812940.661609,
          "price_per_pod": 0.033
         },
         {
          "amount": 2338.659386,
          "date": "2022-04-17T00:00:00",
          "place_in_line": 695875040.256601,
          "price_per_pod": 0.06
         },
         {
          "amount": 4160,
          "date": "2022-04-14T00:00:00",
          "place_in_line": 695877378.915987,
          "price_per_pod": 0.05
         },
         {
          "amount": 0.177195,
          "date": "2022-04-16T00:00:00",
          "place_in_line": 695881538.915987,
          "price_per_pod": 0.05
         },
         {
          "amount": 3618.830978,
          "date": "2022-03-21T00:00:00",
          "place_in_line": 695883029.55147,
          "price_per_pod": 0.029
         },
         {
          "amount": 8536.604345,
          "date": "2022-04-17T00:00:00",
          "place_in_line": 695893457.979616,
          "price_per_pod": 0.001
         },
         {
          "amount": 3085.12416,
          "date": "2022-08-22T00:00:00",
          "place_in_line": 695893457.979616,
          "price_per_pod": 0.025
         },
         {
          "amount": 4394.12604,
          "date": "2022-08-22T00:00:00",
          "place_in_line": 695896543.103776,
          "price_per_pod": 0.025
         },
         {
          "amount": 1040,
          "date": "2022-08-28T00:00:00",
          "place_in_line": 695900937.229816,
          "price_per_pod": 0.025
         },
         {
          "amount": 15032.871752,
          "date": "2022-04-17T00:00:00",
          "place_in_line": 695933552.068087,
          "price_per_pod": 0.06
         },
         {
          "amount": 2308.620655,
          "date": "2022-03-20T00:00:00",
          "place_in_line": 695948584.939839,
          "price_per_pod": 0.029
         },
         {
          "amount": 7385.494623,
          "date": "2022-03-21T00:00:00",
          "place_in_line": 695950893.560494,
          "price_per_pod": 0.029
         },
         {
          "amount": 70921.5625,
          "date": "2022-03-16T00:00:00",
          "place_in_line": 695993270.29395,
          "price_per_pod": 0.033
         },
         {
          "amount": 8232.935488,
          "date": "2022-03-26T00:00:00",
          "place_in_line": 697000732.780868,
          "price_per_pod": 0.032
         },
         {
          "amount": 971.681987,
          "date": "2022-03-26T00:00:00",
          "place_in_line": 697182071.282595,
          "price_per_pod": 0.032
         },
         {
          "amount": 233865.679687,
          "date": "2022-03-17T00:00:00",
          "place_in_line": 697462003.533001,
          "price_per_pod": 0.03
         },
         {
          "amount": 151773.247545,
          "date": "2022-03-17T00:00:00",
          "place_in_line": 697695869.212688,
          "price_per_pod": 0.033
         },
         {
          "amount": 8422.147424,
          "date": "2022-03-18T00:00:00",
          "place_in_line": 697847642.460233,
          "price_per_pod": 0.033
         },
         {
          "amount": 30000,
          "date": "2022-03-18T00:00:00",
          "place_in_line": 697856064.607657,
          "price_per_pod": 0.033
         },
         {
          "amount": 22691.440968,
          "date": "2022-03-18T00:00:00",
          "place_in_line": 697886064.607657,
          "price_per_pod": 0.033
         },
         {
          "amount": 9388.515625,
          "date": "2022-03-18T00:00:00",
          "place_in_line": 697945151.970404,
          "price_per_pod": 0.033
         },
         {
          "amount": 9388.515625,
          "date": "2022-04-01T00:00:00",
          "place_in_line": 697945151.970404,
          "price_per_pod": 0.066
         },
         {
          "amount": 85060.9375,
          "date": "2022-03-18T00:00:00",
          "place_in_line": 697954557.880858,
          "price_per_pod": 0.033
         },
         {
          "amount": 1260.667121,
          "date": "2022-03-18T00:00:00",
          "place_in_line": 697954557.880858,
          "price_per_pod": 0.066
         },
         {
          "amount": 83800.270379,
          "date": "2022-04-13T00:00:00",
          "place_in_line": 697955818.547979,
          "price_per_pod": 0.066
         },
         {
          "amount": 20630.903371,
          "date": "2022-03-18T00:00:00",
          "place_in_line": 698039662.814614,
          "price_per_pod": 0.035
         },
         {
          "amount": 19937.578021,
          "date": "2022-03-21T00:00:00",
          "place_in_line": 698060293.717985,
          "price_per_pod": 0.035
         },
         {
          "amount": 56157.982228,
          "date": "2022-03-18T00:00:00",
          "place_in_line": 698115995.386371,
          "price_per_pod": 0.035
         },
         {
          "amount": 72498.84144,
          "date": "2022-03-26T00:00:00",
          "place_in_line": 698172153.368599,
          "price_per_pod": 0.035
         },
         {
          "amount": 5830.146448,
          "date": "2022-03-20T00:00:00",
          "place_in_line": 698249185.306444,
          "price_per_pod": 0.029
         },
         {
          "amount": 3549.072302,
          "date": "2022-03-26T00:00:00",
          "place_in_line": 698255015.452892,
          "price_per_pod": 0.029
         },
         {
          "amount": 6326.081465,
          "date": "2022-03-19T00:00:00",
          "place_in_line": 698258586.850647,
          "price_per_pod": 0.035
         },
         {
          "amount": 6326.081465,
          "date": "2022-03-26T00:00:00",
          "place_in_line": 698258586.850647,
          "price_per_pod": 0.035
         },
         {
          "amount": 5026.085154,
          "date": "2022-03-29T00:00:00",
          "place_in_line": 698264912.932112,
          "price_per_pod": 0.034
         },
         {
          "amount": 5486.788601,
          "date": "2022-04-02T00:00:00",
          "place_in_line": 698269939.017266,
          "price_per_pod": 0.032
         },
         {
          "amount": 285.714285,
          "date": "2022-03-27T00:00:00",
          "place_in_line": 698277791.318224,
          "price_per_pod": 0.035
         },
         {
          "amount": 4910.026986,
          "date": "2022-04-07T00:00:00",
          "place_in_line": 698278077.032509,
          "price_per_pod": 0.03
         },
         {
          "amount": 33939.057545,
          "date": "2022-09-06T00:00:00",
          "place_in_line": 698298390.58,
          "price_per_pod": 0.025
         },
         {
          "amount": 33939.057545,
          "date": "2022-03-19T00:00:00",
          "place_in_line": 698298390.58,
          "price_per_pod": 0.033
         },
         {
          "amount": 44433.251272,
          "date": "2022-03-19T00:00:00",
          "place_in_line": 698332329.637545,
          "price_per_pod": 0.033
         },
         {
          "amount": 8808.401866,
          "date": "2022-03-19T00:00:00",
          "place_in_line": 698376762.888817,
          "price_per_pod": 0.03
         },
         {
          "amount": 91670.6584,
          "date": "2022-03-19T00:00:00",
          "place_in_line": 698385571.290683,
          "price_per_pod": 0.03
         },
         {
          "amount": 3665.297857,
          "date": "2022-03-21T00:00:00",
          "place_in_line": 698477241.949083,
          "price_per_pod": 0.028
         },
         {
          "amount": 258192.517612,
          "date": "2022-03-23T00:00:00",
          "place_in_line": 698480907.24694,
          "price_per_pod": 0.024
         },
         {
          "amount": 150901.69284,
          "date": "2022-03-24T00:00:00",
          "place_in_line": 698739309.824756,
          "price_per_pod": 0.025
         },
         {
          "amount": 380793.55716,
          "date": "2022-03-24T00:00:00",
          "place_in_line": 698890211.517596,
          "price_per_pod": 0.025
         },
         {
          "amount": 70301.972656,
          "date": "2022-03-30T00:00:00",
          "place_in_line": 699271094.629306,
          "price_per_pod": 0.033
         },
         {
          "amount": 3222.535993,
          "date": "2022-03-26T00:00:00",
          "place_in_line": 699422093.787082,
          "price_per_pod": 0.031
         },
         {
          "amount": 53884.6875,
          "date": "2022-03-26T00:00:00",
          "place_in_line": 700080929.167959,
          "price_per_pod": 0.026
         },
         {
          "amount": 65168.474382,
          "date": "2022-03-20T00:00:00",
          "place_in_line": 700134813.855459,
          "price_per_pod": 0.028
         },
         {
          "amount": 9736.740736,
          "date": "2022-03-27T00:00:00",
          "place_in_line": 700200685.33732,
          "price_per_pod": 0.035
         },
         {
          "amount": 5382.798092,
          "date": "2022-03-20T00:00:00",
          "place_in_line": 700304517.120513,
          "price_per_pod": 0.028
         },
         {
          "amount": 43462.47735,
          "date": "2022-03-21T00:00:00",
          "place_in_line": 700510367.842318,
          "price_per_pod": 0.027
         },
         {
          "amount": 77913,
          "date": "2022-03-20T00:00:00",
          "place_in_line": 700846296.54275,
          "price_per_pod": 0.028
         },
         {
          "amount": 86043.643136,
          "date": "2022-03-21T00:00:00",
          "place_in_line": 700924209.54275,
          "price_per_pod": 0.029
         },
         {
          "amount": 5646.988248,
          "date": "2022-04-01T00:00:00",
          "place_in_line": 701398278.226282,
          "price_per_pod": 0.035
         },
         {
          "amount": 201965,
          "date": "2022-03-21T00:00:00",
          "place_in_line": 701813606.595271,
          "price_per_pod": 0.027
         },
         {
          "amount": 43494.915041,
          "date": "2022-09-13T00:00:00",
          "place_in_line": 702015571.595271,
          "price_per_pod": 0.024
         },
         {
          "amount": 109344.314075,
          "date": "2022-03-25T00:00:00",
          "place_in_line": 702015571.595271,
          "price_per_pod": 0.025
         },
         {
          "amount": 46563.701848,
          "date": "2022-04-04T00:00:00",
          "place_in_line": 702124915.909346,
          "price_per_pod": 0.03
         },
         {
          "amount": 6901.957424,
          "date": "2022-03-29T00:00:00",
          "place_in_line": 702361734.822444,
          "price_per_pod": 0.032
         },
         {
          "amount": 3801.049629,
          "date": "2022-03-21T00:00:00",
          "place_in_line": 702368636.779868,
          "price_per_pod": 0.027
         },
         {
          "amount": 224172.731213,
          "date": "2022-03-26T00:00:00",
          "place_in_line": 702372437.829497,
          "price_per_pod": 0.027
         },
         {
          "amount": 19191.681808,
          "date": "2022-03-27T00:00:00",
          "place_in_line": 702596610.56071,
          "price_per_pod": 0.039
         },
         {
          "amount": 154715.71785,
          "date": "2022-03-25T00:00:00",
          "place_in_line": 702703326.884002,
          "price_per_pod": 0.025
         },
         {
          "amount": 4335.852529,
          "date": "2022-04-09T00:00:00",
          "place_in_line": 702866240.719683,
          "price_per_pod": 0.035
         },
         {
          "amount": 4230.557254,
          "date": "2022-03-26T00:00:00",
          "place_in_line": 704178510.601338,
          "price_per_pod": 0.033
         },
         {
          "amount": 4990.270393,
          "date": "2022-04-12T00:00:00",
          "place_in_line": 704205655.11752,
          "price_per_pod": 0.031
         },
         {
          "amount": 5554.593027,
          "date": "2022-03-26T00:00:00",
          "place_in_line": 704210645.387913,
          "price_per_pod": 0.026
         },
         {
          "amount": 4579.348454,
          "date": "2022-03-26T00:00:00",
          "place_in_line": 704242041.217758,
          "price_per_pod": 0.025
         },
         {
          "amount": 40000,
          "date": "2022-03-25T00:00:00",
          "place_in_line": 704261722.238546,
          "price_per_pod": 0.025
         },
         {
          "amount": 131685.951867,
          "date": "2022-03-26T00:00:00",
          "place_in_line": 704301722.238546,
          "price_per_pod": 0.025
         },
         {
          "amount": 94264.084571,
          "date": "2022-04-12T00:00:00",
          "place_in_line": 704463555.730413,
          "price_per_pod": 0.049
         },
         {
          "amount": 117747.552306,
          "date": "2022-04-12T00:00:00",
          "place_in_line": 704557819.814984,
          "price_per_pod": 0.049
         },
         {
          "amount": 67704.30611,
          "date": "2022-04-12T00:00:00",
          "place_in_line": 704675567.36729,
          "price_per_pod": 0.049
         },
         {
          "amount": 11317.504822,
          "date": "2022-03-27T00:00:00",
          "place_in_line": 704892188.84495,
          "price_per_pod": 0.035
         },
         {
          "amount": 7279.671848,
          "date": "2022-04-12T00:00:00",
          "place_in_line": 704919725.672132,
          "price_per_pod": 0.035
         },
         {
          "amount": 10154.9375,
          "date": "2022-03-27T00:00:00",
          "place_in_line": 705001660.805052,
          "price_per_pod": 0.035
         },
         {
          "amount": 6902,
          "date": "2022-04-06T00:00:00",
          "place_in_line": 705038731.064375,
          "price_per_pod": 0.031
         },
         {
          "amount": 10900.958949,
          "date": "2022-04-06T00:00:00",
          "place_in_line": 705045633.064375,
          "price_per_pod": 0.031
         },
         {
          "amount": 11229.570252,
          "date": "2022-04-13T00:00:00",
          "place_in_line": 705056534.023324,
          "price_per_pod": 0.06
         },
         {
          "amount": 8204.345668,
          "date": "2022-04-06T00:00:00",
          "place_in_line": 705128202.045096,
          "price_per_pod": 0.031
         },
         {
          "amount": 11854.87105,
          "date": "2022-04-06T00:00:00",
          "place_in_line": 705136406.390764,
          "price_per_pod": 0.031
         },
         {
          "amount": 6258.715658,
          "date": "2022-03-29T00:00:00",
          "place_in_line": 705157865.912363,
          "price_per_pod": 0.03
         },
         {
          "amount": 3739.040895,
          "date": "2022-03-29T00:00:00",
          "place_in_line": 705164124.628021,
          "price_per_pod": 0.032
         },
         {
          "amount": 6544.832392,
          "date": "2022-04-06T00:00:00",
          "place_in_line": 705174505.759843,
          "price_per_pod": 0.031
         },
         {
          "amount": 5619.908813,
          "date": "2022-03-29T00:00:00",
          "place_in_line": 705181050.592235,
          "price_per_pod": 0.032
         },
         {
          "amount": 8182.8652,
          "date": "2022-04-06T00:00:00",
          "place_in_line": 705186670.501048,
          "price_per_pod": 0.031
         },
         {
          "amount": 7516.642526,
          "date": "2022-04-09T00:00:00",
          "place_in_line": 705194853.366248,
          "price_per_pod": 0.031
         },
         {
          "amount": 8688.2609,
          "date": "2022-03-29T00:00:00",
          "place_in_line": 705202416.720908,
          "price_per_pod": 0.03
         },
         {
          "amount": 4987.061378,
          "date": "2022-03-27T00:00:00",
          "place_in_line": 705213144.042951,
          "price_per_pod": 0.03
         },
         {
          "amount": 9969.767834,
          "date": "2022-03-29T00:00:00",
          "place_in_line": 705218131.104329,
          "price_per_pod": 0.026
         },
         {
          "amount": 5282.898032,
          "date": "2022-03-29T00:00:00",
          "place_in_line": 705228100.872163,
          "price_per_pod": 0.032
         },
         {
          "amount": 11803.118121,
          "date": "2022-03-29T00:00:00",
          "place_in_line": 705241078.348938,
          "price_per_pod": 0.035
         },
         {
          "amount": 8161.384731,
          "date": "2022-04-12T00:00:00",
          "place_in_line": 705261555.332818,
          "price_per_pod": 0.031
         },
         {
          "amount": 6586.391868,
          "date": "2022-03-29T00:00:00",
          "place_in_line": 705272797.202231,
          "price_per_pod": 0.03
         },
         {
          "amount": 9601.229268,
          "date": "2022-04-11T00:00:00",
          "place_in_line": 705300848.161231,
          "price_per_pod": 0.03
         },
         {
          "amount": 5533.4309,
          "date": "2022-03-29T00:00:00",
          "place_in_line": 705310449.390499,
          "price_per_pod": 0.03
         },
         {
          "amount": 8465.905213,
          "date": "2022-04-12T00:00:00",
          "place_in_line": 705329714.38293,
          "price_per_pod": 0.031
         },
         {
          "amount": 8462.180116,
          "date": "2022-04-12T00:00:00",
          "place_in_line": 705338392.776362,
          "price_per_pod": 0.031
         },
         {
          "amount": 9775.619115,
          "date": "2022-03-29T00:00:00",
          "place_in_line": 705346854.956478,
          "price_per_pod": 0.029
         },
         {
          "amount": 7138.14597,
          "date": "2022-03-29T00:00:00",
          "place_in_line": 705356630.575593,
          "price_per_pod": 0.029
         },
         {
          "amount": 11087.897889,
          "date": "2022-03-29T00:00:00",
          "place_in_line": 705364047.968253,
          "price_per_pod": 0.029
         },
         {
          "amount": 9438.007812,
          "date": "2022-03-29T00:00:00",
          "place_in_line": 705375333.50758,
          "price_per_pod": 0.029
         },
         {
          "amount": 3556.630272,
          "date": "2022-04-12T00:00:00",
          "place_in_line": 705391462.535304,
          "price_per_pod": 0.031
         },
         {
          "amount": 12728.017527,
          "date": "2022-03-29T00:00:00",
          "place_in_line": 705395019.165576,
          "price_per_pod": 0.029
         },
         {
          "amount": 10087.109324,
          "date": "2022-04-12T00:00:00",
          "place_in_line": 705425628.545624,
          "price_per_pod": 0.031
         },
         {
          "amount": 12054.054687,
          "date": "2022-04-09T00:00:00",
          "place_in_line": 705435715.654948,
          "price_per_pod": 0.031
         },
         {
          "amount": 10735.050747,
          "date": "2022-04-06T00:00:00",
          "place_in_line": 705448059.080898,
          "price_per_pod": 0.03
         },
         {
          "amount": 14347.680621,
          "date": "2022-04-07T00:00:00",
          "place_in_line": 705458794.131645,
          "price_per_pod": 0.031
         },
         {
          "amount": 8096.943325,
          "date": "2022-04-12T00:00:00",
          "place_in_line": 705488811.259829,
          "price_per_pod": 0.031
         },
         {
          "amount": 6674.520726,
          "date": "2022-04-07T00:00:00",
          "place_in_line": 705525186.909119,
          "price_per_pod": 0.03
         },
         {
          "amount": 11034.160064,
          "date": "2022-03-30T00:00:00",
          "place_in_line": 705531861.429845,
          "price_per_pod": 0.031
         },
         {
          "amount": 6773,
          "date": "2022-03-31T00:00:00",
          "place_in_line": 705544231.584645,
          "price_per_pod": 0.031
         },
         {
          "amount": 10697.128872,
          "date": "2022-03-30T00:00:00",
          "place_in_line": 705556052.258123,
          "price_per_pod": 0.031
         },
         {
          "amount": 8071.882778,
          "date": "2022-03-31T00:00:00",
          "place_in_line": 705576972.299375,
          "price_per_pod": 0.031
         },
         {
          "amount": 12970.687979,
          "date": "2022-03-30T00:00:00",
          "place_in_line": 705592675.950611,
          "price_per_pod": 0.031
         },
         {
          "amount": 14591.855468,
          "date": "2022-03-30T00:00:00",
          "place_in_line": 705624046.02021,
          "price_per_pod": 0.031
         },
         {
          "amount": 6225.710228,
          "date": "2022-04-07T00:00:00",
          "place_in_line": 705654108.492,
          "price_per_pod": 0.03
         },
         {
          "amount": 8376.502838,
          "date": "2022-03-31T00:00:00",
          "place_in_line": 705667171.132654,
          "price_per_pod": 0.031
         },
         {
          "amount": 291.802547,
          "date": "2022-04-13T00:00:00",
          "place_in_line": 705675547.635524,
          "price_per_pod": 0.06
         },
         {
          "amount": 6740,
          "date": "2022-04-01T00:00:00",
          "place_in_line": 705687548.615966,
          "price_per_pod": 0.031
         },
         {
          "amount": 8036.081997,
          "date": "2022-03-31T00:00:00",
          "place_in_line": 705696667.564386,
          "price_per_pod": 0.031
         },
         {
          "amount": 7056.375463,
          "date": "2022-04-12T00:00:00",
          "place_in_line": 705704703.646383,
          "price_per_pod": 0.031
         },
         {
          "amount": 6316.834733,
          "date": "2022-04-01T00:00:00",
          "place_in_line": 705712512.774884,
          "price_per_pod": 0.031
         },
         {
          "amount": 11609.907184,
          "date": "2022-03-30T00:00:00",
          "place_in_line": 705718829.609617,
          "price_per_pod": 0.031
         },
         {
          "amount": 15181.735301,
          "date": "2022-04-12T00:00:00",
          "place_in_line": 705730439.516801,
          "price_per_pod": 0.032
         },
         {
          "amount": 14199.853473,
          "date": "2022-04-11T00:00:00",
          "place_in_line": 705745621.252102,
          "price_per_pod": 0.031
         },
         {
          "amount": 12249.630834,
          "date": "2022-04-11T00:00:00",
          "place_in_line": 705771520.865575,
          "price_per_pod": 0.031
         },
         {
          "amount": 10944.597109,
          "date": "2022-04-12T00:00:00",
          "place_in_line": 705821777.920352,
          "price_per_pod": 0.031
         },
         {
          "amount": 7042.747045,
          "date": "2022-04-13T00:00:00",
          "place_in_line": 705832722.517461,
          "price_per_pod": 0.059
         },
         {
          "amount": 2181.092161,
          "date": "2022-04-03T00:00:00",
          "place_in_line": 707740682.50805,
          "price_per_pod": 0.031
         },
         {
          "amount": 1213.482835,
          "date": "2022-04-12T00:00:00",
          "place_in_line": 707742863.600211,
          "price_per_pod": 0.031
         },
         {
          "amount": 6581.626316,
          "date": "2022-04-12T00:00:00",
          "place_in_line": 707744077.083046,
          "price_per_pod": 0.031
         },
         {
          "amount": 8641.971662,
          "date": "2022-04-12T00:00:00",
          "place_in_line": 707750658.709362,
          "price_per_pod": 0.031
         },
         {
          "amount": 3405.655439,
          "date": "2022-04-12T00:00:00",
          "place_in_line": 707764396.453467,
          "price_per_pod": 0.031
         },
         {
          "amount": 14444.964843,
          "date": "2022-04-03T00:00:00",
          "place_in_line": 707792108.369382,
          "price_per_pod": 0.031
         },
         {
          "amount": 21869.865192,
          "date": "2022-04-01T00:00:00",
          "place_in_line": 707806553.334225,
          "price_per_pod": 0.032
         },
         {
          "amount": 14171.818173,
          "date": "2022-03-31T00:00:00",
          "place_in_line": 707828423.199417,
          "price_per_pod": 0.031
         },
         {
          "amount": 6681,
          "date": "2022-04-12T00:00:00",
          "place_in_line": 707842595.01759,
          "price_per_pod": 0.03
         },
         {
          "amount": 9148.374808,
          "date": "2022-04-02T00:00:00",
          "place_in_line": 707849276.01759,
          "price_per_pod": 0.03
         },
         {
          "amount": 7323.626903,
          "date": "2022-04-13T00:00:00",
          "place_in_line": 707860938.916827,
          "price_per_pod": 0.04
         },
         {
          "amount": 7323.626903,
          "date": "2022-08-31T00:00:00",
          "place_in_line": 707860938.916827,
          "price_per_pod": 0.02
         },
         {
          "amount": 10228.948233,
          "date": "2022-04-12T00:00:00",
          "place_in_line": 707868262.54373,
          "price_per_pod": 0.033
         },
         {
          "amount": 6672,
          "date": "2022-04-13T00:00:00",
          "place_in_line": 707880777.724785,
          "price_per_pod": 0.058
         },
         {
          "amount": 4969.664107,
          "date": "2022-04-06T00:00:00",
          "place_in_line": 707887650.660405,
          "price_per_pod": 0.03
         },
         {
          "amount": 7915.875,
          "date": "2022-04-13T00:00:00",
          "place_in_line": 707901130.338305,
          "price_per_pod": 0.04
         },
         {
          "amount": 8953.40625,
          "date": "2022-04-12T00:00:00",
          "place_in_line": 707909046.213305,
          "price_per_pod": 0.04
         },
         {
          "amount": 4502.537888,
          "date": "2022-04-12T00:00:00",
          "place_in_line": 707919740.645652,
          "price_per_pod": 0.029
         },
         {
          "amount": 6300.493418,
          "date": "2022-04-13T00:00:00",
          "place_in_line": 707924243.18354,
          "price_per_pod": 0.054
         },
         {
          "amount": 9357.1875,
          "date": "2022-04-13T00:00:00",
          "place_in_line": 707930543.676958,
          "price_per_pod": 0.058
         },
         {
          "amount": 8729.4375,
          "date": "2022-04-13T00:00:00",
          "place_in_line": 707939900.864458,
          "price_per_pod": 0.061
         },
         {
          "amount": 8313.75,
          "date": "2022-04-13T00:00:00",
          "place_in_line": 707952799.836604,
          "price_per_pod": 0.058
         },
         {
          "amount": 9556.5,
          "date": "2022-04-13T00:00:00",
          "place_in_line": 707961290.879052,
          "price_per_pod": 0.058
         },
         {
          "amount": 6350.838475,
          "date": "2022-04-13T00:00:00",
          "place_in_line": 707970999.567062,
          "price_per_pod": 0.054
         },
         {
          "amount": 13082.34375,
          "date": "2022-04-13T00:00:00",
          "place_in_line": 707977350.405537,
          "price_per_pod": 0.045
         },
         {
          "amount": 9963,
          "date": "2022-04-13T00:00:00",
          "place_in_line": 707990432.749287,
          "price_per_pod": 0.045
         },
         {
          "amount": 17642.8125,
          "date": "2022-04-09T00:00:00",
          "place_in_line": 708000395.749287,
          "price_per_pod": 0.031
         },
         {
          "amount": 15352.6875,
          "date": "2022-04-12T00:00:00",
          "place_in_line": 708018123.634316,
          "price_per_pod": 0.03
         },
         {
          "amount": 8605.86443,
          "date": "2022-04-11T00:00:00",
          "place_in_line": 708043128.475053,
          "price_per_pod": 0.03
         },
         {
          "amount": 12655.59375,
          "date": "2022-04-12T00:00:00",
          "place_in_line": 708051734.339483,
          "price_per_pod": 0.03
         },
         {
          "amount": 6157.413604,
          "date": "2022-04-13T00:00:00",
          "place_in_line": 708064389.933233,
          "price_per_pod": 0.053
         },
         {
          "amount": 13680.5625,
          "date": "2022-04-12T00:00:00",
          "place_in_line": 708081968.129614,
          "price_per_pod": 0.03
         },
         {
          "amount": 7458.75,
          "date": "2022-04-13T00:00:00",
          "place_in_line": 708095822.174912,
          "price_per_pod": 0.059
         },
         {
          "amount": 6479.854471,
          "date": "2022-04-13T00:00:00",
          "place_in_line": 708113716.268815,
          "price_per_pod": 0.053
         },
         {
          "amount": 10764,
          "date": "2022-04-12T00:00:00",
          "place_in_line": 708120196.123304,
          "price_per_pod": 0.037
         },
         {
          "amount": 9799.08,
          "date": "2022-04-11T00:00:00",
          "place_in_line": 708130960.123304,
          "price_per_pod": 0.03
         },
         {
          "amount": 16552.5,
          "date": "2022-04-12T00:00:00",
          "place_in_line": 708140759.203304,
          "price_per_pod": 0.03
         },
         {
          "amount": 18406.3125,
          "date": "2022-04-12T00:00:00",
          "place_in_line": 708157311.703304,
          "price_per_pod": 0.03
         },
         {
          "amount": 17984.53125,
          "date": "2022-08-31T00:00:00",
          "place_in_line": 708175718.015804,
          "price_per_pod": 0.02
         },
         {
          "amount": 17984.53125,
          "date": "2022-04-12T00:00:00",
          "place_in_line": 708175718.015804,
          "price_per_pod": 0.03
         },
         {
          "amount": 19836,
          "date": "2022-04-13T00:00:00",
          "place_in_line": 708193702.547054,
          "price_per_pod": 0.045
         },
         {
          "amount": 23544.5625,
          "date": "2022-04-07T00:00:00",
          "place_in_line": 708213538.547054,
          "price_per_pod": 0.031
         },
         {
          "amount": 11486.911677,
          "date": "2022-04-02T00:00:00",
          "place_in_line": 708237083.109554,
          "price_per_pod": 0.031
         },
         {
          "amount": 15762.838323,
          "date": "2022-04-06T00:00:00",
          "place_in_line": 708248570.021231,
          "price_per_pod": 0.031
         },
         {
          "amount": 11761.59375,
          "date": "2022-04-11T00:00:00",
          "place_in_line": 708280126.020271,
          "price_per_pod": 0.03
         },
         {
          "amount": 9285.46875,
          "date": "2022-04-11T00:00:00",
          "place_in_line": 708295349.849925,
          "price_per_pod": 0.03
         },
         {
          "amount": 16711.431033,
          "date": "2022-04-12T00:00:00",
          "place_in_line": 708304635.318675,
          "price_per_pod": 0.03
         },
         {
          "amount": 407.318967,
          "date": "2022-04-13T00:00:00",
          "place_in_line": 708321346.749708,
          "price_per_pod": 0.03
         },
         {
          "amount": 12287.980322,
          "date": "2022-04-06T00:00:00",
          "place_in_line": 708321754.068675,
          "price_per_pod": 0.031
         },
         {
          "amount": 4541.772237,
          "date": "2022-04-12T00:00:00",
          "place_in_line": 708334042.048997,
          "price_per_pod": 0.031
         },
         {
          "amount": 3184.477709,
          "date": "2022-04-16T00:00:00",
          "place_in_line": 708357952.746096,
          "price_per_pod": 0.055
         },
         {
          "amount": 6298.709791,
          "date": "2022-04-16T00:00:00",
          "place_in_line": 708361137.223805,
          "price_per_pod": 0.055
         },
         {
          "amount": 17103.1875,
          "date": "2022-04-12T00:00:00",
          "place_in_line": 708367435.933596,
          "price_per_pod": 0.03
         },
         {
          "amount": 3684.119765,
          "date": "2022-04-15T00:00:00",
          "place_in_line": 708384539.121096,
          "price_per_pod": 0.047
         },
         {
          "amount": 14647.098985,
          "date": "2022-04-15T00:00:00",
          "place_in_line": 708388223.240861,
          "price_per_pod": 0.047
         },
         {
          "amount": 15852.375,
          "date": "2022-04-12T00:00:00",
          "place_in_line": 708402870.339846,
          "price_per_pod": 0.03
         },
         {
          "amount": 21205.125,
          "date": "2022-04-12T00:00:00",
          "place_in_line": 708418722.714846,
          "price_per_pod": 0.03
         },
         {
          "amount": 23870.625,
          "date": "2022-04-05T00:00:00",
          "place_in_line": 708439927.839846,
          "price_per_pod": 0.031
         },
         {
          "amount": 22379.191354,
          "date": "2022-04-03T00:00:00",
          "place_in_line": 708463798.464846,
          "price_per_pod": 0.031
         },
         {
          "amount": 4154.496146,
          "date": "2022-04-12T00:00:00",
          "place_in_line": 708486177.6562,
          "price_per_pod": 0.031
         },
         {
          "amount": 10074.09375,
          "date": "2022-04-12T00:00:00",
          "place_in_line": 708490332.152346,
          "price_per_pod": 0.03
         },
         {
          "amount": 6381.63,
          "date": "2022-04-06T00:00:00",
          "place_in_line": 708500406.246096,
          "price_per_pod": 0.03
         },
         {
          "amount": 9748.779666,
          "date": "2022-04-11T00:00:00",
          "place_in_line": 708517643.26603,
          "price_per_pod": 0.03
         },
         {
          "amount": 1759.220334,
          "date": "2022-04-12T00:00:00",
          "place_in_line": 708527392.045696,
          "price_per_pod": 0.03
         },
         {
          "amount": 16021.6875,
          "date": "2022-04-13T00:00:00",
          "place_in_line": 708529151.26603,
          "price_per_pod": 0.06
         },
         {
          "amount": 9033.75,
          "date": "2022-04-12T00:00:00",
          "place_in_line": 708545172.95353,
          "price_per_pod": 0.03
         },
         {
          "amount": 14166.5625,
          "date": "2022-04-13T00:00:00",
          "place_in_line": 708554206.70353,
          "price_per_pod": 0.058
         },
         {
          "amount": 15004.452,
          "date": "2022-04-11T00:00:00",
          "place_in_line": 708568373.26603,
          "price_per_pod": 0.03
         },
         {
          "amount": 4491.32925,
          "date": "2022-04-12T00:00:00",
          "place_in_line": 708583377.71803,
          "price_per_pod": 0.03
         },
         {
          "amount": 20307.375,
          "date": "2022-04-05T00:00:00",
          "place_in_line": 708587869.04728,
          "price_per_pod": 0.031
         },
         {
          "amount": 26457.09375,
          "date": "2022-04-04T00:00:00",
          "place_in_line": 708608176.42228,
          "price_per_pod": 0.031
         },
         {
          "amount": 6953.6,
          "date": "2022-04-06T00:00:00",
          "place_in_line": 708634811.376217,
          "price_per_pod": 0.03
         },
         {
          "amount": 9545.312467,
          "date": "2022-04-13T00:00:00",
          "place_in_line": 708641764.976217,
          "price_per_pod": 0.06
         },
         {
          "amount": 5027.880322,
          "date": "2022-04-12T00:00:00",
          "place_in_line": 708651444.037897,
          "price_per_pod": 0.029
         },
         {
          "amount": 8111.120358,
          "date": "2022-04-11T00:00:00",
          "place_in_line": 708656471.918219,
          "price_per_pod": 0.03
         },
         {
          "amount": 8956.445312,
          "date": "2022-04-11T00:00:00",
          "place_in_line": 708664583.038577,
          "price_per_pod": 0.029
         },
         {
          "amount": 8159.246655,
          "date": "2022-08-05T00:00:00",
          "place_in_line": 708673539.483889,
          "price_per_pod": 0.029
         },
         {
          "amount": 25.673034,
          "date": "2022-08-07T00:00:00",
          "place_in_line": 708681698.730544,
          "price_per_pod": 0.029
         },
         {
          "amount": 6826.288981,
          "date": "2022-04-12T00:00:00",
          "place_in_line": 708691820.417569,
          "price_per_pod": 0.029
         },
         {
          "amount": 10768.570312,
          "date": "2022-04-13T00:00:00",
          "place_in_line": 708698646.70655,
          "price_per_pod": 0.059
         },
         {
          "amount": 7345.791596,
          "date": "2022-04-12T00:00:00",
          "place_in_line": 708709415.276862,
          "price_per_pod": 0.03
         },
         {
          "amount": 11928.928125,
          "date": "2022-04-12T00:00:00",
          "place_in_line": 708716761.068458,
          "price_per_pod": 0.04
         },
         {
          "amount": 17747.254687,
          "date": "2022-04-15T00:00:00",
          "place_in_line": 708728894.392214,
          "price_per_pod": 0.047
         },
         {
          "amount": 19873.525,
          "date": "2022-04-06T00:00:00",
          "place_in_line": 708746641.646901,
          "price_per_pod": 0.031
         },
         {
          "amount": 30143.670312,
          "date": "2022-04-05T00:00:00",
          "place_in_line": 708766515.171901,
          "price_per_pod": 0.031
         },
         {
          "amount": 28726.857973,
          "date": "2022-04-05T00:00:00",
          "place_in_line": 708825794.614772,
          "price_per_pod": 0.03
         },
         {
          "amount": 29699.46908,
          "date": "2022-04-13T00:00:00",
          "place_in_line": 708854521.472745,
          "price_per_pod": 0.1
         },
         {
          "amount": 34754.362784,
          "date": "2022-04-06T00:00:00",
          "place_in_line": 708854521.472745,
          "price_per_pod": 0.031
         },
         {
          "amount": 7654.771125,
          "date": "2022-04-06T00:00:00",
          "place_in_line": 708927210.927759,
          "price_per_pod": 0.028
         },
         {
          "amount": 13439.373437,
          "date": "2022-04-13T00:00:00",
          "place_in_line": 708934865.698884,
          "price_per_pod": 0.059
         },
         {
          "amount": 29093.546875,
          "date": "2022-04-09T00:00:00",
          "place_in_line": 708967767.266128,
          "price_per_pod": 0.032
         },
         {
          "amount": 13807.475,
          "date": "2022-04-16T00:00:00",
          "place_in_line": 708996860.813003,
          "price_per_pod": 0.045
         },
         {
          "amount": 16707.35,
          "date": "2022-04-15T00:00:00",
          "place_in_line": 709010774.745723,
          "price_per_pod": 0.037
         },
         {
          "amount": 12756.105568,
          "date": "2022-04-07T00:00:00",
          "place_in_line": 709037114.700489,
          "price_per_pod": 0.03
         },
         {
          "amount": 17834.375,
          "date": "2022-04-15T00:00:00",
          "place_in_line": 709064906.743137,
          "price_per_pod": 0.037
         },
         {
          "amount": 24834.476562,
          "date": "2022-04-06T00:00:00",
          "place_in_line": 709107547.604381,
          "price_per_pod": 0.031
         },
         {
          "amount": 12191.197851,
          "date": "2022-04-15T00:00:00",
          "place_in_line": 709132382.080943,
          "price_per_pod": 0.047
         },
         {
          "amount": 1982.50918,
          "date": "2022-04-16T00:00:00",
          "place_in_line": 709144573.278794,
          "price_per_pod": 0.047
         },
         {
          "amount": 10268.964843,
          "date": "2022-04-11T00:00:00",
          "place_in_line": 709146555.787974,
          "price_per_pod": 0.03
         },
         {
          "amount": 11688.871093,
          "date": "2022-04-11T00:00:00",
          "place_in_line": 709163494.680866,
          "price_per_pod": 0.03
         },
         {
          "amount": 10494.453652,
          "date": "2022-04-15T00:00:00",
          "place_in_line": 709175183.551959,
          "price_per_pod": 0.069
         },
         {
          "amount": 10494.453666,
          "date": "2022-04-14T00:00:00",
          "place_in_line": 709175183.551959,
          "price_per_pod": 0.042
         },
         {
          "amount": 3850.108834,
          "date": "2022-04-15T00:00:00",
          "place_in_line": 709185678.005625,
          "price_per_pod": 0.042
         },
         {
          "amount": 3568.208882,
          "date": "2022-04-06T00:00:00",
          "place_in_line": 709235682.916688,
          "price_per_pod": 0.03
         },
         {
          "amount": 16950.613281,
          "date": "2022-04-15T00:00:00",
          "place_in_line": 709241915.118695,
          "price_per_pod": 0.047
         },
         {
          "amount": 12056.682276,
          "date": "2022-04-15T00:00:00",
          "place_in_line": 709258865.731976,
          "price_per_pod": 0.047
         },
         {
          "amount": 1598.517724,
          "date": "2022-04-16T00:00:00",
          "place_in_line": 709270922.414252,
          "price_per_pod": 0.047
         },
         {
          "amount": 11538.942187,
          "date": "2022-04-13T00:00:00",
          "place_in_line": 709304868.113029,
          "price_per_pod": 0.059
         },
         {
          "amount": 10357.22417,
          "date": "2022-04-11T00:00:00",
          "place_in_line": 709362566.858771,
          "price_per_pod": 0.03
         },
         {
          "amount": 8114.610976,
          "date": "2022-04-09T00:00:00",
          "place_in_line": 709372924.082941,
          "price_per_pod": 0.03
         },
         {
          "amount": 8545.778006,
          "date": "2022-04-09T00:00:00",
          "place_in_line": 709381038.693917,
          "price_per_pod": 0.03
         },
         {
          "amount": 8952.959614,
          "date": "2022-04-11T00:00:00",
          "place_in_line": 709391104.055403,
          "price_per_pod": 0.03
         },
         {
          "amount": 6063.060479,
          "date": "2022-04-11T00:00:00",
          "place_in_line": 709400057.015017,
          "price_per_pod": 0.029
         },
         {
          "amount": 7377.849726,
          "date": "2022-04-11T00:00:00",
          "place_in_line": 709416427.683873,
          "price_per_pod": 0.029
         },
         {
          "amount": 14576.284733,
          "date": "2022-04-13T00:00:00",
          "place_in_line": 709428056.372291,
          "price_per_pod": 0.04
         },
         {
          "amount": 6009.7167,
          "date": "2022-08-07T00:00:00",
          "place_in_line": 709442632.657024,
          "price_per_pod": 0.04
         },
         {
          "amount": 12731.370312,
          "date": "2022-04-17T00:00:00",
          "place_in_line": 709457711.087835,
          "price_per_pod": 0.05
         },
         {
          "amount": 11578.312077,
          "date": "2022-04-12T00:00:00",
          "place_in_line": 709470442.458147,
          "price_per_pod": 0.039
         },
         {
          "amount": 10493.080827,
          "date": "2022-04-17T00:00:00",
          "place_in_line": 709482020.770224,
          "price_per_pod": 0.05
         },
         {
          "amount": 13816.601562,
          "date": "2022-04-13T00:00:00",
          "place_in_line": 709492513.851051,
          "price_per_pod": 0.051
         },
         {
          "amount": 13030.510108,
          "date": "2022-04-13T00:00:00",
          "place_in_line": 709506330.452613,
          "price_per_pod": 0.04
         },
         {
          "amount": 20715.605468,
          "date": "2022-04-08T00:00:00",
          "place_in_line": 709545211.846984,
          "price_per_pod": 0.031
         },
         {
          "amount": 21586.449186,
          "date": "2022-04-08T00:00:00",
          "place_in_line": 709581451.884857,
          "price_per_pod": 0.03
         },
         {
          "amount": 9060.790481,
          "date": "2022-04-12T00:00:00",
          "place_in_line": 709603038.334043,
          "price_per_pod": 0.035
         },
         {
          "amount": 20797.810726,
          "date": "2022-04-08T00:00:00",
          "place_in_line": 709612099.124524,
          "price_per_pod": 0.03
         },
         {
          "amount": 15239.253108,
          "date": "2022-04-13T00:00:00",
          "place_in_line": 709639001.588456,
          "price_per_pod": 0.05
         },
         {
          "amount": 11917.909114,
          "date": "2022-04-13T00:00:00",
          "place_in_line": 709654242.636632,
          "price_per_pod": 0.061
         },
         {
          "amount": 5707.106019,
          "date": "2022-04-12T00:00:00",
          "place_in_line": 709666192.852147,
          "price_per_pod": 0.031
         },
         {
          "amount": 6654.318624,
          "date": "2022-04-12T00:00:00",
          "place_in_line": 709671899.958166,
          "price_per_pod": 0.031
         },
         {
          "amount": 9785.276073,
          "date": "2022-04-12T00:00:00",
          "place_in_line": 709678554.27679,
          "price_per_pod": 0.031
         },
         {
          "amount": 13731.252132,
          "date": "2022-04-13T00:00:00",
          "place_in_line": 709688339.552863,
          "price_per_pod": 0.061
         },
         {
          "amount": 8173.059019,
          "date": "2022-04-12T00:00:00",
          "place_in_line": 709702070.804995,
          "price_per_pod": 0.029
         },
         {
          "amount": 12509.063265,
          "date": "2022-04-13T00:00:00",
          "place_in_line": 709710243.864014,
          "price_per_pod": 0.061
         },
         {
          "amount": 9515.295236,
          "date": "2022-04-12T00:00:00",
          "place_in_line": 709722752.927279,
          "price_per_pod": 0.036
         },
         {
          "amount": 6498.0756,
          "date": "2022-04-12T00:00:00",
          "place_in_line": 709734977.740006,
          "price_per_pod": 0.03
         },
         {
          "amount": 4744.706233,
          "date": "2022-04-08T00:00:00",
          "place_in_line": 709753706.632464,
          "price_per_pod": 0.025
         },
         {
          "amount": 21544.183345,
          "date": "2022-04-11T00:00:00",
          "place_in_line": 709758451.338697,
          "price_per_pod": 0.031
         },
         {
          "amount": 10237.860605,
          "date": "2022-04-10T00:00:00",
          "place_in_line": 709788524.143561,
          "price_per_pod": 0.029
         },
         {
          "amount": 9096.334989,
          "date": "2022-04-12T00:00:00",
          "place_in_line": 709870314.867704,
          "price_per_pod": 0.029
         },
         {
          "amount": 10150.58116,
          "date": "2022-04-11T00:00:00",
          "place_in_line": 709879411.202693,
          "price_per_pod": 0.03
         },
         {
          "amount": 23321.057117,
          "date": "2022-04-09T00:00:00",
          "place_in_line": 709889561.783853,
          "price_per_pod": 0.03
         },
         {
          "amount": 23277.498479,
          "date": "2022-04-09T00:00:00",
          "place_in_line": 709912903.71977,
          "price_per_pod": 0.03
         },
         {
          "amount": 20989.71875,
          "date": "2022-04-09T00:00:00",
          "place_in_line": 709936198.838599,
          "price_per_pod": 0.031
         },
         {
          "amount": 20297.082735,
          "date": "2022-04-09T00:00:00",
          "place_in_line": 709957188.557349,
          "price_per_pod": 0.031
         },
         {
          "amount": 41084.042452,
          "date": "2022-04-12T00:00:00",
          "place_in_line": 709977485.640084,
          "price_per_pod": 0.032
         },
         {
          "amount": 41844.097841,
          "date": "2022-04-09T00:00:00",
          "place_in_line": 710018569.682536,
          "price_per_pod": 0.03
         },
         {
          "amount": 19899.717937,
          "date": "2022-04-15T00:00:00",
          "place_in_line": 710119139.437401,
          "price_per_pod": 0.047
         },
         {
          "amount": 16767.94528,
          "date": "2022-04-17T00:00:00",
          "place_in_line": 710296450.302572,
          "price_per_pod": 0.05
         },
         {
          "amount": 18389.039062,
          "date": "2022-04-17T00:00:00",
          "place_in_line": 710324533.148846,
          "price_per_pod": 0.05
         },
         {
          "amount": 22440.1875,
          "date": "2022-04-11T00:00:00",
          "place_in_line": 710342922.187908,
          "price_per_pod": 0.03
         },
         {
          "amount": 7534.31132,
          "date": "2022-04-11T00:00:00",
          "place_in_line": 710365381.70011,
          "price_per_pod": 0.029
         },
         {
          "amount": 4669.501379,
          "date": "2022-08-06T00:00:00",
          "place_in_line": 710372916.01143,
          "price_per_pod": 0.029
         },
         {
          "amount": 9.479483,
          "date": "2022-08-08T00:00:00",
          "place_in_line": 710377585.512809,
          "price_per_pod": 0.029
         },
         {
          "amount": 23748.160156,
          "date": "2022-04-11T00:00:00",
          "place_in_line": 710390043.033627,
          "price_per_pod": 0.03
         },
         {
          "amount": 29049.625,
          "date": "2022-04-12T00:00:00",
          "place_in_line": 710431818.243243,
          "price_per_pod": 0.031
         },
         {
          "amount": 10533.398444,
          "date": "2022-04-16T00:00:00",
          "place_in_line": 710431818.243243,
          "price_per_pod": 0.054
         },
         {
          "amount": 18516.226556,
          "date": "2022-04-16T00:00:00",
          "place_in_line": 710442351.641687,
          "price_per_pod": 0.054
         },
         {
          "amount": 33400.921875,
          "date": "2022-04-12T00:00:00",
          "place_in_line": 710460867.868243,
          "price_per_pod": 0.031
         },
         {
          "amount": 33581.054687,
          "date": "2022-04-12T00:00:00",
          "place_in_line": 710494268.790118,
          "price_per_pod": 0.031
         },
         {
          "amount": 36390.839843,
          "date": "2022-04-11T00:00:00",
          "place_in_line": 710635821.671358,
          "price_per_pod": 0.029
         },
         {
          "amount": 12205.116299,
          "date": "2022-04-11T00:00:00",
          "place_in_line": 710785654.392028,
          "price_per_pod": 0.029
         },
         {
          "amount": 11667.351669,
          "date": "2022-04-11T00:00:00",
          "place_in_line": 710822838.717581,
          "price_per_pod": 0.0305
         },
         {
          "amount": 10429.699117,
          "date": "2022-04-12T00:00:00",
          "place_in_line": 710834506.06925,
          "price_per_pod": 0.029
         },
         {
          "amount": 16250.25389,
          "date": "2022-04-12T00:00:00",
          "place_in_line": 710844935.768367,
          "price_per_pod": 0.03
         },
         {
          "amount": 225.355921,
          "date": "2022-08-11T00:00:00",
          "place_in_line": 710903001.207054,
          "price_per_pod": 0.01
         },
         {
          "amount": 23670.471136,
          "date": "2022-04-12T00:00:00",
          "place_in_line": 710903226.562975,
          "price_per_pod": 0.03
         },
         {
          "amount": 39224.374968,
          "date": "2022-04-12T00:00:00",
          "place_in_line": 711196004.355719,
          "price_per_pod": 0.03
         },
         {
          "amount": 18606,
          "date": "2022-04-12T00:00:00",
          "place_in_line": 711260418.189665,
          "price_per_pod": 0.03
         },
         {
          "amount": 30073.981383,
          "date": "2022-04-12T00:00:00",
          "place_in_line": 711279024.189665,
          "price_per_pod": 0.03
         },
         {
          "amount": 1857.330184,
          "date": "2022-04-12T00:00:00",
          "place_in_line": 711348151.871048,
          "price_per_pod": 0.031
         },
         {
          "amount": 50000,
          "date": "2022-04-12T00:00:00",
          "place_in_line": 711528414.042753,
          "price_per_pod": 0.03
         },
         {
          "amount": 2539.84375,
          "date": "2022-04-12T00:00:00",
          "place_in_line": 711578414.042753,
          "price_per_pod": 0.03
         },
         {
          "amount": 50659.6,
          "date": "2022-04-12T00:00:00",
          "place_in_line": 711627994.076332,
          "price_per_pod": 0.03
         },
         {
          "amount": 2695.1899,
          "date": "2022-04-15T00:00:00",
          "place_in_line": 711716112.826545,
          "price_per_pod": 0.037
         },
         {
          "amount": 60485.6,
          "date": "2022-04-12T00:00:00",
          "place_in_line": 711718808.016445,
          "price_per_pod": 0.03
         },
         {
          "amount": 2156.328854,
          "date": "2022-04-13T00:00:00",
          "place_in_line": 711848288.194577,
          "price_per_pod": 0.059
         },
         {
          "amount": 91918.75,
          "date": "2022-04-12T00:00:00",
          "place_in_line": 712016403.529785,
          "price_per_pod": 0.044
         },
         {
          "amount": 126027.343719,
          "date": "2022-04-12T00:00:00",
          "place_in_line": 712108719.670625,
          "price_per_pod": 0.054
         },
         {
          "amount": 3579.623519,
          "date": "2022-04-13T00:00:00",
          "place_in_line": 712478227.177567,
          "price_per_pod": 0.049
         },
         {
          "amount": 105079.5,
          "date": "2022-04-12T00:00:00",
          "place_in_line": 712749505.526426,
          "price_per_pod": 0.03
         },
         {
          "amount": 130210.4,
          "date": "2022-04-12T00:00:00",
          "place_in_line": 712856258.402101,
          "price_per_pod": 0.031
         },
         {
          "amount": 3786.35324,
          "date": "2022-04-13T00:00:00",
          "place_in_line": 713120110.487243,
          "price_per_pod": 0.062
         },
         {
          "amount": 5532.211893,
          "date": "2022-04-13T00:00:00",
          "place_in_line": 713215936.840483,
          "price_per_pod": 0.061
         },
         {
          "amount": 41130.226166,
          "date": "2022-04-13T00:00:00",
          "place_in_line": 713814719.117064,
          "price_per_pod": 0.054
         },
         {
          "amount": 16139.084611,
          "date": "2022-04-13T00:00:00",
          "place_in_line": 713855849.34323,
          "price_per_pod": 0.054
         },
         {
          "amount": 141663.189223,
          "date": "2022-04-13T00:00:00",
          "place_in_line": 713871988.427841,
          "price_per_pod": 0.054
         },
         {
          "amount": 63542.442533,
          "date": "2022-04-13T00:00:00",
          "place_in_line": 714015471.329582,
          "price_per_pod": 0.045
         },
         {
          "amount": 129174.557467,
          "date": "2022-04-13T00:00:00",
          "place_in_line": 714079013.772115,
          "price_per_pod": 0.045
         },
         {
          "amount": 129174.557467,
          "date": "2022-04-16T00:00:00",
          "place_in_line": 714079013.772115,
          "price_per_pod": 0.059
         },
         {
          "amount": 214025,
          "date": "2022-04-13T00:00:00",
          "place_in_line": 714211331.211522,
          "price_per_pod": 0.062
         },
         {
          "amount": 24458.875511,
          "date": "2022-04-13T00:00:00",
          "place_in_line": 714426818.941964,
          "price_per_pod": 0.045
         },
         {
          "amount": 1500,
          "date": "2022-04-13T00:00:00",
          "place_in_line": 714451277.817475,
          "price_per_pod": 0.058
         },
         {
          "amount": 139231.69,
          "date": "2022-04-13T00:00:00",
          "place_in_line": 714451277.817475,
          "price_per_pod": 0.045
         },
         {
          "amount": 137731.69,
          "date": "2022-04-15T00:00:00",
          "place_in_line": 714452777.817475,
          "price_per_pod": 0.054
         },
         {
          "amount": 16002.234489,
          "date": "2022-04-13T00:00:00",
          "place_in_line": 714590509.507475,
          "price_per_pod": 0.045
         },
         {
          "amount": 119019.649033,
          "date": "2022-04-13T00:00:00",
          "place_in_line": 714608893.820192,
          "price_per_pod": 0.059
         },
         {
          "amount": 78606.500967,
          "date": "2022-04-13T00:00:00",
          "place_in_line": 714727913.469225,
          "price_per_pod": 0.059
         },
         {
          "amount": 180127,
          "date": "2022-04-13T00:00:00",
          "place_in_line": 714808266.664085,
          "price_per_pod": 0.06
         },
         {
          "amount": 166611.9,
          "date": "2022-04-13T00:00:00",
          "place_in_line": 714990004.106503,
          "price_per_pod": 0.05
         },
         {
          "amount": 173240,
          "date": "2022-04-13T00:00:00",
          "place_in_line": 715158664.546867,
          "price_per_pod": 0.061
         },
         {
          "amount": 151205.6,
          "date": "2022-04-13T00:00:00",
          "place_in_line": 715333455.019979,
          "price_per_pod": 0.062
         },
         {
          "amount": 2843.782982,
          "date": "2022-04-13T00:00:00",
          "place_in_line": 715484660.619979,
          "price_per_pod": 0.049
         },
         {
          "amount": 29902.1009,
          "date": "2022-04-17T00:00:00",
          "place_in_line": 715487504.402961,
          "price_per_pod": 0.06
         },
         {
          "amount": 13424.979052,
          "date": "2022-04-15T00:00:00",
          "place_in_line": 715560868.266327,
          "price_per_pod": 0.037
         },
         {
          "amount": 109437.957582,
          "date": "2022-04-15T00:00:00",
          "place_in_line": 715574293.245379,
          "price_per_pod": 0.037
         },
         {
          "amount": 43461.762466,
          "date": "2022-04-17T00:00:00",
          "place_in_line": 715517406.5038611,
          "price_per_pod": 0.05
         },
         {
          "amount": 2548.987716,
          "date": "2022-04-13T00:00:00",
          "place_in_line": 715683731.202961,
          "price_per_pod": 0.059
         },
         {
          "amount": 2469.722016,
          "date": "2022-04-13T00:00:00",
          "place_in_line": 715899465.190677,
          "price_per_pod": 0.06
         },
         {
          "amount": 204556.8,
          "date": "2022-04-15T00:00:00",
          "place_in_line": 715901934.91271,
          "price_per_pod": 0.035
         },
         {
          "amount": 2369.89098,
          "date": "2022-04-13T00:00:00",
          "place_in_line": 716106491.71271,
          "price_per_pod": 0.06
         },
         {
          "amount": 23536.146483,
          "date": "2022-04-13T00:00:00",
          "place_in_line": 716108861.60369,
          "price_per_pod": 0.06
         },
         {
          "amount": 163273.353517,
          "date": "2022-04-13T00:00:00",
          "place_in_line": 716132397.750173,
          "price_per_pod": 0.06
         },
         {
          "amount": 167255,
          "date": "2022-04-15T00:00:00",
          "place_in_line": 716297300.526674,
          "price_per_pod": 0.037
         },
         {
          "amount": 144680.2,
          "date": "2022-04-13T00:00:00",
          "place_in_line": 716466017.242076,
          "price_per_pod": 0.056
         },
         {
          "amount": 52642.714966,
          "date": "2022-04-13T00:00:00",
          "place_in_line": 716768803.489169,
          "price_per_pod": 0.06
         },
         {
          "amount": 84542.9943,
          "date": "2022-04-16T00:00:00",
          "place_in_line": 716821446.204135,
          "price_per_pod": 0.06
         },
         {
          "amount": 34680.190734,
          "date": "2022-04-17T00:00:00",
          "place_in_line": 716905989.198435,
          "price_per_pod": 0.06
         },
         {
          "amount": 1801.805718,
          "date": "2022-04-13T00:00:00",
          "place_in_line": 716940669.389169,
          "price_per_pod": 0.04
         },
         {
          "amount": 156683.4,
          "date": "2022-04-15T00:00:00",
          "place_in_line": 716942581.953896,
          "price_per_pod": 0.045
         },
         {
          "amount": 1648.92851,
          "date": "2022-04-17T00:00:00",
          "place_in_line": 717099265.353896,
          "price_per_pod": 0.065
         },
         {
          "amount": 146287,
          "date": "2022-04-13T00:00:00",
          "place_in_line": 717100914.282406,
          "price_per_pod": 0.05
         },
         {
          "amount": 50144.887945,
          "date": "2022-04-13T00:00:00",
          "place_in_line": 717249342.317875,
          "price_per_pod": 0.055
         },
         {
          "amount": 102136.812055,
          "date": "2022-04-16T00:00:00",
          "place_in_line": 717299487.20582,
          "price_per_pod": 0.055
         },
         {
          "amount": 4678.944318,
          "date": "2022-04-17T00:00:00",
          "place_in_line": 717541977.658358,
          "price_per_pod": 0.065
         },
         {
          "amount": 150312.8,
          "date": "2022-04-15T00:00:00",
          "place_in_line": 717546656.602676,
          "price_per_pod": 0.049
         },
         {
          "amount": 1550.66115,
          "date": "2022-04-16T00:00:00",
          "place_in_line": 717696969.402676,
          "price_per_pod": 0.065
         },
         {
          "amount": 155690.6,
          "date": "2022-04-15T00:00:00",
          "place_in_line": 717698520.063826,
          "price_per_pod": 0.037
         },
         {
          "amount": 9313.70527,
          "date": "2022-04-17T00:00:00",
          "place_in_line": 718000615.202122,
          "price_per_pod": 0.05
         },
         {
          "amount": 5000,
          "date": "2022-04-13T00:00:00",
          "place_in_line": 718009928.907392,
          "price_per_pod": 0.045
         },
         {
          "amount": 9255.7778,
          "date": "2022-04-14T00:00:00",
          "place_in_line": 718014928.907392,
          "price_per_pod": 0.045
         },
         {
          "amount": 9255.7778,
          "date": "2022-04-17T00:00:00",
          "place_in_line": 718014928.907392,
          "price_per_pod": 0.08
         },
         {
          "amount": 48622.222222,
          "date": "2022-04-14T00:00:00",
          "place_in_line": 718024184.685192,
          "price_per_pod": 0.045
         },
         {
          "amount": 10000,
          "date": "2022-04-14T00:00:00",
          "place_in_line": 718072806.907414,
          "price_per_pod": 0.045
         },
         {
          "amount": 19609.619955,
          "date": "2022-04-14T00:00:00",
          "place_in_line": 718082806.907414,
          "price_per_pod": 0.045
         },
         {
          "amount": 3972.363681,
          "date": "2022-04-17T00:00:00",
          "place_in_line": 718082806.907414,
          "price_per_pod": 0.066
         },
         {
          "amount": 15637.256274,
          "date": "2022-08-31T00:00:00",
          "place_in_line": 718086779.271095,
          "price_per_pod": 0.02
         },
         {
          "amount": 10106.346172,
          "date": "2022-09-12T00:00:00",
          "place_in_line": 718086779.271095,
          "price_per_pod": 0.029
         },
         {
          "amount": 15637.256274,
          "date": "2022-04-17T00:00:00",
          "place_in_line": 718086779.271095,
          "price_per_pod": 0.066
         },
         {
          "amount": 14666.666666,
          "date": "2022-04-14T00:00:00",
          "place_in_line": 718102416.527369,
          "price_per_pod": 0.045
         },
         {
          "amount": 19072.704777,
          "date": "2022-04-14T00:00:00",
          "place_in_line": 718117083.194035,
          "price_per_pod": 0.045
         },
         {
          "amount": 26448.62122,
          "date": "2022-04-15T00:00:00",
          "place_in_line": 718136155.898812,
          "price_per_pod": 0.045
         },
         {
          "amount": 148493.72346,
          "date": "2022-04-15T00:00:00",
          "place_in_line": 718162604.520032,
          "price_per_pod": 0.037
         },
         {
          "amount": 25000,
          "date": "2022-04-14T00:00:00",
          "place_in_line": 718311098.243492,
          "price_per_pod": 0.04
         },
         {
          "amount": 22663.915925,
          "date": "2022-04-14T00:00:00",
          "place_in_line": 718336098.243492,
          "price_per_pod": 0.04
         },
         {
          "amount": 2979.694125,
          "date": "2022-04-14T00:00:00",
          "place_in_line": 718358762.159417,
          "price_per_pod": 0.04
         },
         {
          "amount": 97443.079393,
          "date": "2022-04-14T00:00:00",
          "place_in_line": 718361741.853542,
          "price_per_pod": 0.04
         },
         {
          "amount": 153179.376309,
          "date": "2022-04-15T00:00:00",
          "place_in_line": 718459184.932935,
          "price_per_pod": 0.035
         },
         {
          "amount": 35105.723092,
          "date": "2022-04-14T00:00:00",
          "place_in_line": 718760344.309244,
          "price_per_pod": 0.042
         },
         {
          "amount": 75000,
          "date": "2022-04-14T00:00:00",
          "place_in_line": 718795450.032336,
          "price_per_pod": 0.04
         },
         {
          "amount": 84888.584622,
          "date": "2022-04-14T00:00:00",
          "place_in_line": 718870450.032336,
          "price_per_pod": 0.04
         },
         {
          "amount": 145018.797369,
          "date": "2022-04-15T00:00:00",
          "place_in_line": 718955338.616958,
          "price_per_pod": 0.037
         },
         {
          "amount": 15036.330875,
          "date": "2022-04-14T00:00:00",
          "place_in_line": 719100357.414327,
          "price_per_pod": 0.04
         },
         {
          "amount": 80000,
          "date": "2022-04-14T00:00:00",
          "place_in_line": 719115393.745202,
          "price_per_pod": 0.04
         },
         {
          "amount": 2015,
          "date": "2022-04-14T00:00:00",
          "place_in_line": 719195393.745202,
          "price_per_pod": 0.04
         },
         {
          "amount": 37212.168484,
          "date": "2022-04-14T00:00:00",
          "place_in_line": 719197408.745202,
          "price_per_pod": 0.04
         },
         {
          "amount": 41555.4311,
          "date": "2022-04-14T00:00:00",
          "place_in_line": 719234620.913686,
          "price_per_pod": 0.04
         },
         {
          "amount": 82507.217675,
          "date": "2022-04-14T00:00:00",
          "place_in_line": 719276176.344786,
          "price_per_pod": 0.04
         },
         {
          "amount": 29767.318612,
          "date": "2022-04-14T00:00:00",
          "place_in_line": 719358683.562461,
          "price_per_pod": 0.04
         },
         {
          "amount": 150002.086275,
          "date": "2022-04-15T00:00:00",
          "place_in_line": 719388450.881073,
          "price_per_pod": 0.037
         },
         {
          "amount": 151481.73209,
          "date": "2022-04-15T00:00:00",
          "place_in_line": 719538452.967348,
          "price_per_pod": 0.045
         },
         {
          "amount": 148762.745637,
          "date": "2022-04-15T00:00:00",
          "place_in_line": 719689934.699438,
          "price_per_pod": 0.037
         },
         {
          "amount": 167217.199434,
          "date": "2022-04-14T00:00:00",
          "place_in_line": 719838697.445075,
          "price_per_pod": 0.04
         },
         {
          "amount": 136033.474375,
          "date": "2022-04-14T00:00:00",
          "place_in_line": 720005914.644509,
          "price_per_pod": 0.04
         },
         {
          "amount": 33268.342087,
          "date": "2022-04-14T00:00:00",
          "place_in_line": 720141948.118884,
          "price_per_pod": 0.04
         },
         {
          "amount": 140966.208215,
          "date": "2022-04-17T00:00:00",
          "place_in_line": 720175216.460971,
          "price_per_pod": 0.065
         },
         {
          "amount": 16766.090212,
          "date": "2022-04-17T00:00:00",
          "place_in_line": 720316182.669186,
          "price_per_pod": 0.065
         },
         {
          "amount": 162851.173415,
          "date": "2022-04-14T00:00:00",
          "place_in_line": 720332948.759398,
          "price_per_pod": 0.04
         },
         {
          "amount": 174474.635475,
          "date": "2022-04-14T00:00:00",
          "place_in_line": 720495799.932813,
          "price_per_pod": 0.04
         },
         {
          "amount": 2126.762825,
          "date": "2022-04-14T00:00:00",
          "place_in_line": 720670274.568288,
          "price_per_pod": 0.04
         },
         {
          "amount": 6350.979273,
          "date": "2022-04-15T00:00:00",
          "place_in_line": 720672401.331113,
          "price_per_pod": 0.04
         },
         {
          "amount": 31263.5544,
          "date": "2022-04-14T00:00:00",
          "place_in_line": 720678752.310386,
          "price_per_pod": 0.04
         },
         {
          "amount": 150000,
          "date": "2022-04-15T00:00:00",
          "place_in_line": 720710015.864786,
          "price_per_pod": 0.04
         },
         {
          "amount": 8618.8597,
          "date": "2022-04-15T00:00:00",
          "place_in_line": 720860015.864786,
          "price_per_pod": 0.04
         },
         {
          "amount": 81305.470108,
          "date": "2022-04-15T00:00:00",
          "place_in_line": 720868634.724486,
          "price_per_pod": 0.04
         },
         {
          "amount": 142619.3355,
          "date": "2022-04-14T00:00:00",
          "place_in_line": 720949940.194594,
          "price_per_pod": 0.04
         },
         {
          "amount": 62724.9105,
          "date": "2022-04-14T00:00:00",
          "place_in_line": 721092559.530094,
          "price_per_pod": 0.04
         },
         {
          "amount": 62724.9105,
          "date": "2022-04-15T00:00:00",
          "place_in_line": 721092559.530094,
          "price_per_pod": 0.05
         },
         {
          "amount": 42190.522575,
          "date": "2022-04-15T00:00:00",
          "place_in_line": 721155284.440594,
          "price_per_pod": 0.04
         },
         {
          "amount": 26160.137009,
          "date": "2022-04-15T00:00:00",
          "place_in_line": 721197474.963169,
          "price_per_pod": 0.04
         },
         {
          "amount": 14114.08731,
          "date": "2022-04-17T00:00:00",
          "place_in_line": 721499405.100178,
          "price_per_pod": 0.06
         },
         {
          "amount": 306309.267806,
          "date": "2022-04-15T00:00:00",
          "place_in_line": 721513519.187488,
          "price_per_pod": 0.037
         },
         {
          "amount": 322801.54481,
          "date": "2022-04-15T00:00:00",
          "place_in_line": 722109403.626677,
          "price_per_pod": 0.037
         },
         {
          "amount": 34934.377228,
          "date": "2022-04-14T00:00:00",
          "place_in_line": 722432205.171487,
          "price_per_pod": 0.035
         },
         {
          "amount": 218560.408342,
          "date": "2022-04-14T00:00:00",
          "place_in_line": 722467139.548715,
          "price_per_pod": 0.035
         },
         {
          "amount": 65999.469411,
          "date": "2022-04-14T00:00:00",
          "place_in_line": 722685699.957057,
          "price_per_pod": 0.035
         },
         {
          "amount": 96716.493785,
          "date": "2022-04-15T00:00:00",
          "place_in_line": 722990899.426468,
          "price_per_pod": 0.035
         },
         {
          "amount": 40499.935514,
          "date": "2022-04-15T00:00:00",
          "place_in_line": 723087615.920253,
          "price_per_pod": 0.035
         },
         {
          "amount": 25000,
          "date": "2022-04-15T00:00:00",
          "place_in_line": 723128115.855767,
          "price_per_pod": 0.035
         },
         {
          "amount": 79777.206742,
          "date": "2022-04-15T00:00:00",
          "place_in_line": 723153115.855767,
          "price_per_pod": 0.035
         },
         {
          "amount": 130876.975914,
          "date": "2022-04-15T00:00:00",
          "place_in_line": 723232893.062509,
          "price_per_pod": 0.035
         },
         {
          "amount": 57106.724864,
          "date": "2022-04-15T00:00:00",
          "place_in_line": 723363770.038423,
          "price_per_pod": 0.035
         },
         {
          "amount": 348266.002657,
          "date": "2022-04-15T00:00:00",
          "place_in_line": 723782462.207148,
          "price_per_pod": 0.035
         },
         {
          "amount": 379699.841755,
          "date": "2022-04-15T00:00:00",
          "place_in_line": 724130728.209833,
          "price_per_pod": 0.035
         },
         {
          "amount": 42703.247654,
          "date": "2022-04-17T00:00:00",
          "place_in_line": 724808689.235963,
          "price_per_pod": 0.055
         },
         {
          "amount": 15687.227027,
          "date": "2022-04-17T00:00:00",
          "place_in_line": 724851392.483617,
          "price_per_pod": 0.055
         },
         {
          "amount": 109968.50806,
          "date": "2022-04-15T00:00:00",
          "place_in_line": 725211130.277729,
          "price_per_pod": 0.05
         },
         {
          "amount": 178812.339846,
          "date": "2022-04-15T00:00:00",
          "place_in_line": 725321098.785789,
          "price_per_pod": 0.05
         },
         {
          "amount": 100000,
          "date": "2022-04-15T00:00:00",
          "place_in_line": 725499911.125635,
          "price_per_pod": 0.045
         },
         {
          "amount": 50493.335822,
          "date": "2022-04-15T00:00:00",
          "place_in_line": 725599911.125635,
          "price_per_pod": 0.045
         },
         {
          "amount": 98010.410066,
          "date": "2022-04-15T00:00:00",
          "place_in_line": 725650404.461457,
          "price_per_pod": 0.045
         },
         {
          "amount": 15403.726711,
          "date": "2022-04-15T00:00:00",
          "place_in_line": 725748414.871545,
          "price_per_pod": 0.045
         },
         {
          "amount": 34675.371666,
          "date": "2022-04-15T00:00:00",
          "place_in_line": 725763818.598256,
          "price_per_pod": 0.045
         },
         {
          "amount": 100000,
          "date": "2022-04-15T00:00:00",
          "place_in_line": 725798493.969922,
          "price_per_pod": 0.045
         },
         {
          "amount": 98973.775726,
          "date": "2022-04-15T00:00:00",
          "place_in_line": 725898493.969922,
          "price_per_pod": 0.045
         },
         {
          "amount": 115005.09226,
          "date": "2022-04-15T00:00:00",
          "place_in_line": 725997467.745648,
          "price_per_pod": 0.05
         },
         {
          "amount": 75343.04356,
          "date": "2022-04-15T00:00:00",
          "place_in_line": 726112472.837908,
          "price_per_pod": 0.05
         },
         {
          "amount": 92828.595185,
          "date": "2022-08-25T00:00:00",
          "place_in_line": 726187815.881468,
          "price_per_pod": 0.028
         },
         {
          "amount": 92828.595185,
          "date": "2022-04-16T00:00:00",
          "place_in_line": 726187815.881468,
          "price_per_pod": 0.05
         },
         {
          "amount": 280660.104174,
          "date": "2022-04-16T00:00:00",
          "place_in_line": 726280644.476653,
          "price_per_pod": 0.045
         },
         {
          "amount": 268948.474274,
          "date": "2022-04-16T00:00:00",
          "place_in_line": 726561304.580827,
          "price_per_pod": 0.051
         },
         {
          "amount": 7331.625468,
          "date": "2022-08-07T00:00:00",
          "place_in_line": 728214888.648499,
          "price_per_pod": 0.064
         },
         {
          "amount": 25000,
          "date": "2022-04-16T00:00:00",
          "place_in_line": 728440989.451671,
          "price_per_pod": 0.047
         },
         {
          "amount": 100000,
          "date": "2022-04-16T00:00:00",
          "place_in_line": 728465989.451671,
          "price_per_pod": 0.047
         },
         {
          "amount": 84653.359213,
          "date": "2022-04-16T00:00:00",
          "place_in_line": 728565989.451671,
          "price_per_pod": 0.047
         },
         {
          "amount": 207192.309402,
          "date": "2022-04-16T00:00:00",
          "place_in_line": 729235941.7444,
          "price_per_pod": 0.047
         },
         {
          "amount": 33543.788477,
          "date": "2022-04-16T00:00:00",
          "place_in_line": 729443134.053802,
          "price_per_pod": 0.05
         },
         {
          "amount": 15374.98107,
          "date": "2022-08-07T00:00:00",
          "place_in_line": 729443134.053802,
          "price_per_pod": 0.0299
         },
         {
          "amount": 33543.788477,
          "date": "2022-04-16T00:00:00",
          "place_in_line": 729443134.053802,
          "price_per_pod": 0.044
         },
         {
          "amount": 12303.080568,
          "date": "2022-08-07T00:00:00",
          "place_in_line": 729458509.034872,
          "price_per_pod": 0.0299
         },
         {
          "amount": 4162.855351,
          "date": "2022-08-07T00:00:00",
          "place_in_line": 729470812.11544,
          "price_per_pod": 0.0299
         },
         {
          "amount": 1702.871488,
          "date": "2022-08-07T00:00:00",
          "place_in_line": 729474974.970791,
          "price_per_pod": 0.0299
         },
         {
          "amount": 13343.392977,
          "date": "2022-04-16T00:00:00",
          "place_in_line": 729476677.842279,
          "price_per_pod": 0.044
         },
         {
          "amount": 103496.80659,
          "date": "2022-04-16T00:00:00",
          "place_in_line": 729490021.235256,
          "price_per_pod": 0.044
         },
         {
          "amount": 39772.727272,
          "date": "2022-04-16T00:00:00",
          "place_in_line": 729593518.041846,
          "price_per_pod": 0.044
         },
         {
          "amount": 23099.27171,
          "date": "2022-04-16T00:00:00",
          "place_in_line": 729633290.769118,
          "price_per_pod": 0.044
         },
         {
          "amount": 11407.679058,
          "date": "2022-04-16T00:00:00",
          "place_in_line": 729656390.040828,
          "price_per_pod": 0.051
         },
         {
          "amount": 173806.99462,
          "date": "2022-04-16T00:00:00",
          "place_in_line": 729667797.719886,
          "price_per_pod": 0.051
         },
         {
          "amount": 17808.983511,
          "date": "2022-04-16T00:00:00",
          "place_in_line": 730033021.201019,
          "price_per_pod": 0.045
         },
         {
          "amount": 103450.896022,
          "date": "2022-04-16T00:00:00",
          "place_in_line": 730050830.18453,
          "price_per_pod": 0.045
         },
         {
          "amount": 82189.769281,
          "date": "2022-04-16T00:00:00",
          "place_in_line": 730154281.080552,
          "price_per_pod": 0.045
         },
         {
          "amount": 226407.807552,
          "date": "2022-04-16T00:00:00",
          "place_in_line": 730236470.849833,
          "price_per_pod": 0.045
         },
         {
          "amount": 188830.987043,
          "date": "2022-04-16T00:00:00",
          "place_in_line": 730678712.851459,
          "price_per_pod": 0.051
         },
         {
          "amount": 100000,
          "date": "2022-08-08T00:00:00",
          "place_in_line": 730867543.838502,
          "price_per_pod": 0.02
         },
         {
          "amount": 93293.333333,
          "date": "2022-08-08T00:00:00",
          "place_in_line": 730867543.838502,
          "price_per_pod": 0.03
         },
         {
          "amount": 174542.317761,
          "date": "2022-04-16T00:00:00",
          "place_in_line": 730867543.838502,
          "price_per_pod": 0.049
         },
         {
          "amount": 5755.6824,
          "date": "2022-08-09T00:00:00",
          "place_in_line": 730960837.171835,
          "price_per_pod": 0.03
         },
         {
          "amount": 950.984267,
          "date": "2022-08-11T00:00:00",
          "place_in_line": 730966592.854235,
          "price_per_pod": 0.03
         },
         {
          "amount": 74368.755714,
          "date": "2022-08-09T00:00:00",
          "place_in_line": 730967543.838502,
          "price_per_pod": 0.035
         },
         {
          "amount": 68703.216153,
          "date": "2022-04-16T00:00:00",
          "place_in_line": 731211078.378957,
          "price_per_pod": 0.052
         },
         {
          "amount": 5730.104692,
          "date": "2022-04-16T00:00:00",
          "place_in_line": 731279781.59511,
          "price_per_pod": 0.052
         },
         {
          "amount": 16663.047211,
          "date": "2022-04-16T00:00:00",
          "place_in_line": 731285511.699802,
          "price_per_pod": 0.052
         },
         {
          "amount": 40000,
          "date": "2022-04-17T00:00:00",
          "place_in_line": 731302174.747013,
          "price_per_pod": 0.052
         },
         {
          "amount": 43650.433333,
          "date": "2022-08-07T00:00:00",
          "place_in_line": 731342174.747013,
          "price_per_pod": 0.03
         },
         {
          "amount": 43650.462632,
          "date": "2022-04-17T00:00:00",
          "place_in_line": 731342174.747013,
          "price_per_pod": 0.052
         },
         {
          "amount": 43650.462632,
          "date": "2022-08-07T00:00:00",
          "place_in_line": 731342174.747013,
          "price_per_pod": 0.0233
         },
         {
          "amount": 9076.923076,
          "date": "2022-04-17T00:00:00",
          "place_in_line": 731385825.209645,
          "price_per_pod": 0.065
         },
         {
          "amount": 3760.739846,
          "date": "2022-04-17T00:00:00",
          "place_in_line": 731394902.132721,
          "price_per_pod": 0.065
         },
         {
          "amount": 238241.613308,
          "date": "2022-04-16T00:00:00",
          "place_in_line": 732342480.5016,
          "price_per_pod": 0.052
         },
         {
          "amount": 20082.877176,
          "date": "2022-04-16T00:00:00",
          "place_in_line": 732580722.114908,
          "price_per_pod": 0.051
         },
         {
          "amount": 224577.013993,
          "date": "2022-04-16T00:00:00",
          "place_in_line": 732600804.992084,
          "price_per_pod": 0.051
         },
         {
          "amount": 231205.357536,
          "date": "2022-04-17T00:00:00",
          "place_in_line": 732825382.006077,
          "price_per_pod": 0.05
         },
         {
          "amount": 252155.20233,
          "date": "2022-04-17T00:00:00",
          "place_in_line": 733056587.363613,
          "price_per_pod": 0.05
         },
         {
          "amount": 21683.015215,
          "date": "2022-04-17T00:00:00",
          "place_in_line": 733308742.565943,
          "price_per_pod": 0.065
         },
         {
          "amount": 150000,
          "date": "2022-04-17T00:00:00",
          "place_in_line": 733330425.581158,
          "price_per_pod": 0.065
         },
         {
          "amount": 21728.068461,
          "date": "2022-04-17T00:00:00",
          "place_in_line": 733480425.581158,
          "price_per_pod": 0.065
         },
         {
          "amount": 22359.930276,
          "date": "2022-04-17T00:00:00",
          "place_in_line": 733502153.649619,
          "price_per_pod": 0.065
         },
         {
          "amount": 2656.036443,
          "date": "2022-04-17T00:00:00",
          "place_in_line": 733524513.579895,
          "price_per_pod": 0.065
         },
         {
          "amount": 214433.251957,
          "date": "2022-04-17T00:00:00",
          "place_in_line": 733527169.616338,
          "price_per_pod": 0.05
         },
         {
          "amount": 5000,
          "date": "2022-04-16T00:00:00",
          "place_in_line": 733741602.868295,
          "price_per_pod": 0.05
         },
         {
          "amount": 15000,
          "date": "2022-04-16T00:00:00",
          "place_in_line": 733746602.868295,
          "price_per_pod": 0.05
         },
         {
          "amount": 17500.00758,
          "date": "2022-04-16T00:00:00",
          "place_in_line": 733761602.868295,
          "price_per_pod": 0.05
         },
         {
          "amount": 29376.24306,
          "date": "2022-04-16T00:00:00",
          "place_in_line": 733779102.875875,
          "price_per_pod": 0.05
         },
         {
          "amount": 7120.38564,
          "date": "2022-04-16T00:00:00",
          "place_in_line": 733808479.118935,
          "price_per_pod": 0.05
         },
         {
          "amount": 9156.06804,
          "date": "2022-04-17T00:00:00",
          "place_in_line": 733815599.504575,
          "price_per_pod": 0.05
         },
         {
          "amount": 24123.17172,
          "date": "2022-04-17T00:00:00",
          "place_in_line": 733824755.572615,
          "price_per_pod": 0.05
         },
         {
          "amount": 10876.48256,
          "date": "2022-04-17T00:00:00",
          "place_in_line": 733848878.744335,
          "price_per_pod": 0.05
         },
         {
          "amount": 58636.813154,
          "date": "2022-08-26T00:00:00",
          "place_in_line": 733900548.226895,
          "price_per_pod": 0.02
         },
         {
          "amount": 40793,
          "date": "2022-08-31T00:00:00",
          "place_in_line": 733859755.226895,
          "price_per_pod": 0.02
         },
         {
          "amount": 99429.813154,
          "date": "2022-04-17T00:00:00",
          "place_in_line": 733859755.226895,
          "price_per_pod": 0.065
         },
         {
          "amount": 58636.813154,
          "date": "2022-08-30T00:00:00",
          "place_in_line": 733900548.226895,
          "price_per_pod": 0.029
         },
         {
          "amount": 210961.749202,
          "date": "2022-04-17T00:00:00",
          "place_in_line": 733959185.040049,
          "price_per_pod": 0.05
         },
         {
          "amount": 205321.095099,
          "date": "2022-04-17T00:00:00",
          "place_in_line": 734170146.789251,
          "price_per_pod": 0.05
         },
         {
          "amount": 240472.769386,
          "date": "2022-04-17T00:00:00",
          "place_in_line": 734375467.88435,
          "price_per_pod": 0.05
         },
         {
          "amount": 273039.002863,
          "date": "2022-04-17T00:00:00",
          "place_in_line": 734615940.653736,
          "price_per_pod": 0.05
         },
         {
          "amount": 230049.04021,
          "date": "2022-04-17T00:00:00",
          "place_in_line": 734888979.656599,
          "price_per_pod": 0.05
         },
         {
          "amount": 57490.196078,
          "date": "2022-04-17T00:00:00",
          "place_in_line": 735061538.500731,
          "price_per_pod": 0.051
         },
         {
          "amount": 20750.304614,
          "date": "2022-04-17T00:00:00",
          "place_in_line": 735386014.435662,
          "price_per_pod": 0.07
         },
         {
          "amount": 13068.447328,
          "date": "2022-04-17T00:00:00",
          "place_in_line": 735406764.740276,
          "price_per_pod": 0.07
         },
         {
          "amount": 153138.632015,
          "date": "2022-08-26T00:00:00",
          "place_in_line": 736132449.02135,
          "price_per_pod": 0.02
         },
         {
          "amount": 153138.632015,
          "date": "2022-04-17T00:00:00",
          "place_in_line": 736132449.02135,
          "price_per_pod": 0.065
         },
         {
          "amount": 83138.632015,
          "date": "2022-08-30T00:00:00",
          "place_in_line": 736132449.02135,
          "price_per_pod": 0.028
         },
         {
          "amount": 69815.285464,
          "date": "2022-08-28T00:00:00",
          "place_in_line": 736215587.653365,
          "price_per_pod": 0.028
         },
         {
          "amount": 83910.292215,
          "date": "2022-04-17T00:00:00",
          "place_in_line": 736285587.653365,
          "price_per_pod": 0.065
         },
         {
          "amount": 31281.369769,
          "date": "2022-04-17T00:00:00",
          "place_in_line": 736369497.94558,
          "price_per_pod": 0.065
         },
         {
          "amount": 22234.228333,
          "date": "2022-08-08T00:00:00",
          "place_in_line": 737858120.394156,
          "price_per_pod": 0.033
         },
         {
          "amount": 47.414939,
          "date": "2022-08-10T00:00:00",
          "place_in_line": 737880354.622489,
          "price_per_pod": 0.033
         },
         {
          "amount": 22871.716433,
          "date": "2022-08-07T00:00:00",
          "place_in_line": 737935681.087505,
          "price_per_pod": 0.03
         },
         {
          "amount": 10000,
          "date": "2022-08-07T00:00:00",
          "place_in_line": 737958552.803938,
          "price_per_pod": 0.03
         },
         {
          "amount": 13229.284933,
          "date": "2022-08-07T00:00:00",
          "place_in_line": 737968552.803938,
          "price_per_pod": 0.03
         },
         {
          "amount": 12839.897666,
          "date": "2022-08-07T00:00:00",
          "place_in_line": 737981782.088871,
          "price_per_pod": 0.03
         },
         {
          "amount": 13348.2976,
          "date": "2022-08-07T00:00:00",
          "place_in_line": 737994621.986537,
          "price_per_pod": 0.03
         },
         {
          "amount": 401.082333,
          "date": "2022-08-08T00:00:00",
          "place_in_line": 738007970.284137,
          "price_per_pod": 0.03
         },
         {
          "amount": 50583.045714,
          "date": "2022-08-09T00:00:00",
          "place_in_line": 738250713.966889,
          "price_per_pod": 0.035
         },
         {
          "amount": 2857.142857,
          "date": "2022-08-08T00:00:00",
          "place_in_line": 738620191.031981,
          "price_per_pod": 0.035
         },
         {
          "amount": 17365.876628,
          "date": "2022-08-08T00:00:00",
          "place_in_line": 738623048.174838,
          "price_per_pod": 0.035
         },
         {
          "amount": 844.41712,
          "date": "2022-08-16T00:00:00",
          "place_in_line": 740628963.065844,
          "price_per_pod": 0.025
         },
         {
          "amount": 150688.81832,
          "date": "2022-08-16T00:00:00",
          "place_in_line": 740629807.482964,
          "price_per_pod": 0.025
         },
         {
          "amount": 17303.1696,
          "date": "2022-08-17T00:00:00",
          "place_in_line": 740780496.301284,
          "price_per_pod": 0.025
         },
         {
          "amount": 20388.737,
          "date": "2022-08-19T00:00:00",
          "place_in_line": 740797799.470884,
          "price_per_pod": 0.025
         },
         {
          "amount": 33005.85756,
          "date": "2022-08-23T00:00:00",
          "place_in_line": 740818188.207884,
          "price_per_pod": 0.025
         },
         {
          "amount": 25988.04312,
          "date": "2022-08-24T00:00:00",
          "place_in_line": 740851194.065444,
          "price_per_pod": 0.025
         },
         {
          "amount": 2338.51596,
          "date": "2022-08-24T00:00:00",
          "place_in_line": 740877182.108564,
          "price_per_pod": 0.025
         },
         {
          "amount": 234067.23516,
          "date": "2022-08-25T00:00:00",
          "place_in_line": 740879520.624524,
          "price_per_pod": 0.025
         },
         {
          "amount": 582.0088,
          "date": "2022-09-03T00:00:00",
          "place_in_line": 741113587.859684,
          "price_per_pod": 0.025
         },
         {
          "amount": 1148.0827,
          "date": "2022-08-25T00:00:00",
          "place_in_line": 743973017.717686,
          "price_per_pod": 0.02
         },
         {
          "amount": 30279.606975,
          "date": "2022-08-11T00:00:00",
          "place_in_line": 746123766.988586,
          "price_per_pod": 0.028
         },
         {
          "amount": 6971.9715,
          "date": "2022-08-09T00:00:00",
          "place_in_line": 761165787.154183,
          "price_per_pod": 0.03
         },
         {
          "amount": 50.364336,
          "date": "2022-08-07T00:00:00",
          "place_in_line": 79180247.523918,
          "price_per_pod": 0.75
         },
         {
          "amount": 1232.512356,
          "date": "2022-08-07T00:00:00",
          "place_in_line": 79180297.888254,
          "price_per_pod": 0.75
         },
         {
          "amount": 133.333333,
          "date": "2022-08-07T00:00:00",
          "place_in_line": 79181530.40061,
          "price_per_pod": 0.75
         },
         {
          "amount": 1000,
          "date": "2022-08-08T00:00:00",
          "place_in_line": 79181663.733943,
          "price_per_pod": 0.75
         },
         {
          "amount": 48039.789791,
          "date": "2022-08-28T00:00:00",
          "place_in_line": 803330678.270578,
          "price_per_pod": 0.024
         },
         {
          "amount": 125,
          "date": "2022-09-03T00:00:00",
          "place_in_line": 803378718.060369,
          "price_per_pod": 0.024
         },
         {
          "amount": 51666.906449,
          "date": "2022-02-07T00:00:00",
          "place_in_line": 81428887.071705,
          "price_per_pod": 0.2
         },
         {
          "amount": 861.30925,
          "date": "2022-04-13T00:00:00",
          "place_in_line": 81428887.071705,
          "price_per_pod": 0.69
         },
         {
          "amount": 861.309251,
          "date": "2022-03-11T00:00:00",
          "place_in_line": 81428887.071705,
          "price_per_pod": 0.33
         },
         {
          "amount": 861.30925,
          "date": "2022-04-13T00:00:00",
          "place_in_line": 81428887.071705,
          "price_per_pod": 0.0825
         },
         {
          "amount": 7813.05883,
          "date": "2022-04-13T00:00:00",
          "place_in_line": 81429748.380956,
          "price_per_pod": 0.6
         },
         {
          "amount": 7813.05883,
          "date": "2022-03-16T00:00:00",
          "place_in_line": 81429748.380956,
          "price_per_pod": 0.33
         },
         {
          "amount": 42992.538368,
          "date": "2022-03-18T00:00:00",
          "place_in_line": 81437561.439786,
          "price_per_pod": 0.33
         },
         {
          "amount": 42992.538368,
          "date": "2022-03-24T00:00:00",
          "place_in_line": 81437561.439786,
          "price_per_pod": 0.4
         },
         {
          "amount": 9001.457167,
          "date": "2022-03-30T00:00:00",
          "place_in_line": 81480553.978154,
          "price_per_pod": 0.37
         },
         {
          "amount": 4967.300995,
          "date": "2022-03-30T00:00:00",
          "place_in_line": 81489555.435321,
          "price_per_pod": 0.37
         },
         {
          "amount": 190360,
          "date": "2022-09-01T00:00:00",
          "place_in_line": 821102020.697601,
          "price_per_pod": 0.028
         },
         {
          "amount": 58283.867892,
          "date": "2022-09-03T00:00:00",
          "place_in_line": 821423984.136929,
          "price_per_pod": 0.028
         },
         {
          "amount": 1259.635749,
          "date": "2022-04-14T00:00:00",
          "place_in_line": 89188612.146804,
          "price_per_pod": 0.75
         },
         {
          "amount": 233.215974,
          "date": "2022-08-07T00:00:00",
          "place_in_line": 89189871.782553,
          "price_per_pod": 0.695
         },
         {
          "amount": 18772.178077,
          "date": "2022-04-15T00:00:00",
          "place_in_line": 89189871.782553,
          "price_per_pod": 0.7
         },
         {
          "amount": 2.365071,
          "date": "2022-08-07T00:00:00",
          "place_in_line": 89190104.998527,
          "price_per_pod": 0.695
         },
         {
          "amount": 39968,
          "date": "2022-04-15T00:00:00",
          "place_in_line": 89208643.96063,
          "price_per_pod": 0.7
         },
         {
          "amount": 0.186225,
          "date": "2022-08-08T00:00:00",
          "place_in_line": 89248611.96063,
          "price_per_pod": 0.7
         },
         {
          "amount": 9142.307692,
          "date": "2022-09-11T00:00:00",
          "place_in_line": 92707474.342273,
          "price_per_pod": 0.1
         },
         {
          "amount": 15764.212654,
          "date": "2022-03-12T00:00:00",
          "place_in_line": 92719137.052691,
          "price_per_pod": 0.1
         },
         {
          "amount": 2520.402726,
          "date": "2022-09-11T00:00:00",
          "place_in_line": 92716616.649965,
          "price_per_pod": 0.1
         },
         {
          "amount": 15764.212654,
          "date": "2022-04-06T00:00:00",
          "place_in_line": 92719137.052691,
          "price_per_pod": 0.5
         },
         {
          "amount": 4486.265388,
          "date": "2022-04-13T00:00:00",
          "place_in_line": 92734901.265345,
          "price_per_pod": 0.69
         },
         {
          "amount": 18284.62,
          "date": "2022-03-12T00:00:00",
          "place_in_line": 92734901.265345,
          "price_per_pod": 0.1
         },
         {
          "amount": 4456.459444,
          "date": "2022-04-13T00:00:00",
          "place_in_line": 92739387.530733,
          "price_per_pod": 0.69
         },
         {
          "amount": 3033.707865,
          "date": "2022-04-15T00:00:00",
          "place_in_line": 92739387.530733,
          "price_per_pod": 0.89
         },
         {
          "amount": 1422.751578,
          "date": "2022-04-16T00:00:00",
          "place_in_line": 92742421.238598,
          "price_per_pod": 0.89
         },
         {
          "amount": 9341.895166,
          "date": "2022-04-14T00:00:00",
          "place_in_line": 92743843.990177,
          "price_per_pod": 0.69
         },
         {
          "amount": 20450.62175,
          "date": "2022-08-31T00:00:00",
          "place_in_line": 92771013.385345,
          "price_per_pod": 0.12
         },
         {
          "amount": 8027.251632,
          "date": "2022-09-11T00:00:00",
          "place_in_line": 92791464.007095,
          "price_per_pod": 0.1
         },
         {
          "amount": 10000,
          "date": "2022-09-13T00:00:00",
          "place_in_line": 92799491.258727,
          "price_per_pod": 0.15
         },
         {
          "amount": 19146.381225,
          "date": "2022-03-09T00:00:00",
          "place_in_line": 93005074.342273,
          "price_per_pod": 0.12
         },
         {
          "amount": 4909.413452,
          "date": "2022-04-12T00:00:00",
          "place_in_line": 93005074.342273,
          "price_per_pod": 0.475
         },
         {
          "amount": 2271.791105,
          "date": "2022-04-12T00:00:00",
          "place_in_line": 93009983.755725,
          "price_per_pod": 0.475
         },
         {
          "amount": 305.47024,
          "date": "2022-04-12T00:00:00",
          "place_in_line": 93012255.54683,
          "price_per_pod": 0.475
         },
         {
          "amount": 11659.706428,
          "date": "2022-04-12T00:00:00",
          "place_in_line": 93012561.01707,
          "price_per_pod": 0.475
         },
         {
          "amount": 11659.706427,
          "date": "2022-04-13T00:00:00",
          "place_in_line": 93012561.01707,
          "price_per_pod": 0.68
         },
         {
          "amount": 37500,
          "date": "2022-03-09T00:00:00",
          "place_in_line": 93024220.723498,
          "price_per_pod": 0.12
         },
         {
          "amount": 15000,
          "date": "2022-08-15T00:00:00",
          "place_in_line": 93142202.342273,
          "price_per_pod": 0.32
         },
         {
          "amount": 9531.25,
          "date": "2022-08-15T00:00:00",
          "place_in_line": 93299924.592273,
          "price_per_pod": 0.32
         },
         {
          "amount": 8913.75,
          "date": "2022-09-04T00:00:00",
          "place_in_line": 93309924.592273,
          "price_per_pod": 0.2
         },
         {
          "amount": 3745.346177,
          "date": "2022-02-24T00:00:00",
          "place_in_line": 93475780.742273,
          "price_per_pod": 0.09
         },
         {
          "amount": 279.48042,
          "date": "2022-04-15T00:00:00",
          "place_in_line": 93479526.08845,
          "price_per_pod": 0.69
         },
         {
          "amount": 302.105711,
          "date": "2022-03-15T00:00:00",
          "place_in_line": 93479526.08845,
          "price_per_pod": 0.15
         },
         {
          "amount": 302.105711,
          "date": "2022-02-27T00:00:00",
          "place_in_line": 93479526.08845,
          "price_per_pod": 0.09
         },
         {
          "amount": 22.54324,
          "date": "2022-08-17T00:00:00",
          "place_in_line": 93479805.56887,
          "price_per_pod": 0.69
         },
         {
          "amount": 50949.720322,
          "date": "2022-03-01T00:00:00",
          "place_in_line": 93479828.194161,
          "price_per_pod": 0.09
         },
         {
          "amount": 478845.0219,
          "date": "2022-03-01T00:00:00",
          "place_in_line": 93530777.914483,
          "price_per_pod": 0.09
         },
         {
          "amount": 64911.823433,
          "date": "2022-03-02T00:00:00",
          "place_in_line": 94009622.936383,
          "price_per_pod": 0.09
         },
         {
          "amount": 161247.227588,
          "date": "2022-03-02T00:00:00",
          "place_in_line": 94074534.759816,
          "price_per_pod": 0.09
         },
         {
          "amount": 6434.958505,
          "date": "2022-03-10T00:00:00",
          "place_in_line": 94235781.987404,
          "price_per_pod": 0.2
         },
         {
          "amount": 44444.444444,
          "date": "2022-03-02T00:00:00",
          "place_in_line": 94235781.987404,
          "price_per_pod": 0.09
         },
         {
          "amount": 1640.31493,
          "date": "2022-03-10T00:00:00",
          "place_in_line": 94242216.945909,
          "price_per_pod": 0.2
         },
         {
          "amount": 11391.726565,
          "date": "2022-03-10T00:00:00",
          "place_in_line": 94243857.260839,
          "price_per_pod": 0.2
         },
         {
          "amount": 2542.93271,
          "date": "2022-03-13T00:00:00",
          "place_in_line": 94255248.987404,
          "price_per_pod": 0.2
         },
         {
          "amount": 22434.511734,
          "date": "2022-03-24T00:00:00",
          "place_in_line": 94257791.920114,
          "price_per_pod": 0.3
         },
         {
          "amount": 22434.511734,
          "date": "2022-03-18T00:00:00",
          "place_in_line": 94257791.920114,
          "price_per_pod": 0.24
         },
         {
          "amount": 2058.92,
          "date": "2022-03-06T00:00:00",
          "place_in_line": 94280226.431848,
          "price_per_pod": 0.09
         },
         {
          "amount": 950,
          "date": "2022-03-13T00:00:00",
          "place_in_line": 94281335.351848,
          "price_per_pod": 0.28
         },
         {
          "amount": 64.286521,
          "date": "2022-03-15T00:00:00",
          "place_in_line": 94280226.431848,
          "price_per_pod": 0.28
         },
         {
          "amount": 1044.633475,
          "date": "2022-03-22T00:00:00",
          "place_in_line": 94280290.718369,
          "price_per_pod": 0.29
         },
         {
          "amount": 11111.111111,
          "date": "2022-03-06T00:00:00",
          "place_in_line": 94282285.351848,
          "price_per_pod": 0.09
         },
         {
          "amount": 11277.021864,
          "date": "2022-04-11T00:00:00",
          "place_in_line": 94293396.462959,
          "price_per_pod": 0.45
         },
         {
          "amount": 11277.021866,
          "date": "2022-03-07T00:00:00",
          "place_in_line": 94293396.462959,
          "price_per_pod": 0.09
         },
         {
          "amount": 11277.021866,
          "date": "2022-03-11T00:00:00",
          "place_in_line": 94293396.462959,
          "price_per_pod": 0.1
         },
         {
          "amount": 11111.111111,
          "date": "2022-03-07T00:00:00",
          "place_in_line": 94304673.484825,
          "price_per_pod": 0.09
         },
         {
          "amount": 500,
          "date": "2022-03-07T00:00:00",
          "place_in_line": 94315784.595936,
          "price_per_pod": 0.09
         },
         {
          "amount": 28075.664488,
          "date": "2022-03-08T00:00:00",
          "place_in_line": 94316284.595936,
          "price_per_pod": 0.09
         },
         {
          "amount": 12500,
          "date": "2022-03-08T00:00:00",
          "place_in_line": 94344360.260424,
          "price_per_pod": 0.09
         },
         {
          "amount": 25000,
          "date": "2022-03-08T00:00:00",
          "place_in_line": 94356860.260424,
          "price_per_pod": 0.09
         },
         {
          "amount": 47500,
          "date": "2022-03-09T00:00:00",
          "place_in_line": 94381860.260424,
          "price_per_pod": 0.09
         },
         {
          "amount": 86512.840254,
          "date": "2022-03-09T00:00:00",
          "place_in_line": 94429360.260424,
          "price_per_pod": 0.09
         },
         {
          "amount": 4046.506513,
          "date": "2022-03-30T00:00:00",
          "place_in_line": 99853968.145381,
          "price_per_pod": 0.29
         },
         {
          "amount": 4520.835534,
          "date": "2022-03-30T00:00:00",
          "place_in_line": 99858014.651894,
          "price_per_pod": 0.29
         },
         {
          "amount": 36237.351724,
          "date": "2022-03-30T00:00:00",
          "place_in_line": 99862535.487428,
          "price_per_pod": 0.29
         },
         {
          "amount": 17865.626157,
          "date": "2022-03-30T00:00:00",
          "place_in_line": 99898772.839152,
          "price_per_pod": 0.29
         },
         {
          "amount": 2331.168306,
          "date": "2022-04-13T00:00:00",
          "place_in_line": 99898772.839152,
          "price_per_pod": 0.66
         },
         {
          "amount": 15534.45785,
          "date": "2022-04-14T00:00:00",
          "place_in_line": 99901104.007458,
          "price_per_pod": 0.66
         }
        ],
        "data-7dd3605e973be0a3288733b264d1e933": [
         {
          "date": "2022-02-05T00:00:00",
          "pod_volume": 65610.913621
         },
         {
          "date": "2022-02-06T00:00:00",
          "pod_volume": 171946.388572
         },
         {
          "date": "2022-02-07T00:00:00",
          "pod_volume": 268969.622756
         },
         {
          "date": "2022-02-08T00:00:00",
          "pod_volume": 66645.658575
         },
         {
          "date": "2022-02-09T00:00:00",
          "pod_volume": 12000
         },
         {
          "date": "2022-02-10T00:00:00",
          "pod_volume": 13113.713192
         },
         {
          "date": "2022-02-11T00:00:00",
          "pod_volume": 2007.046073
         },
         {
          "date": "2022-02-12T00:00:00",
          "pod_volume": 1531.485463
         },
         {
          "date": "2022-02-13T00:00:00",
          "pod_volume": 3845.038436
         },
         {
          "date": "2022-02-14T00:00:00",
          "pod_volume": 0
         },
         {
          "date": "2022-02-15T00:00:00",
          "pod_volume": 0
         },
         {
          "date": "2022-02-16T00:00:00",
          "pod_volume": 69212.997476
         },
         {
          "date": "2022-02-17T00:00:00",
          "pod_volume": 9798.430028
         },
         {
          "date": "2022-02-18T00:00:00",
          "pod_volume": 400957.370504
         },
         {
          "date": "2022-02-19T00:00:00",
          "pod_volume": 198392.91211
         },
         {
          "date": "2022-02-20T00:00:00",
          "pod_volume": 1635.253603
         },
         {
          "date": "2022-02-21T00:00:00",
          "pod_volume": 0
         },
         {
          "date": "2022-02-22T00:00:00",
          "pod_volume": 188133.639462
         },
         {
          "date": "2022-02-23T00:00:00",
          "pod_volume": 483.681672
         },
         {
          "date": "2022-02-24T00:00:00",
          "pod_volume": 316352.498627
         },
         {
          "date": "2022-02-25T00:00:00",
          "pod_volume": 0
         },
         {
          "date": "2022-02-26T00:00:00",
          "pod_volume": 104000.48009600001
         },
         {
          "date": "2022-02-27T00:00:00",
          "pod_volume": 69107.515419
         },
         {
          "date": "2022-02-28T00:00:00",
          "pod_volume": 0
         },
         {
          "date": "2022-03-01T00:00:00",
          "pod_volume": 533777.007655
         },
         {
          "date": "2022-03-02T00:00:00",
          "pod_volume": 270603.49546500004
         },
         {
          "date": "2022-03-03T00:00:00",
          "pod_volume": 63477.41931500001
         },
         {
          "date": "2022-03-04T00:00:00",
          "pod_volume": 18778.047638
         },
         {
          "date": "2022-03-05T00:00:00",
          "pod_volume": 12626.256958
         },
         {
          "date": "2022-03-06T00:00:00",
          "pod_volume": 245964.043895
         },
         {
          "date": "2022-03-07T00:00:00",
          "pod_volume": 60991.197475
         },
         {
          "date": "2022-03-08T00:00:00",
          "pod_volume": 169481.99804
         },
         {
          "date": "2022-03-09T00:00:00",
          "pod_volume": 1799871.829243
         },
         {
          "date": "2022-03-10T00:00:00",
          "pod_volume": 108385.546814
         },
         {
          "date": "2022-03-11T00:00:00",
          "pod_volume": 795148.194353
         },
         {
          "date": "2022-03-12T00:00:00",
          "pod_volume": 754947.116611
         },
         {
          "date": "2022-03-13T00:00:00",
          "pod_volume": 187531.181861
         },
         {
          "date": "2022-03-14T00:00:00",
          "pod_volume": 179195.693695
         },
         {
          "date": "2022-03-15T00:00:00",
          "pod_volume": 488571.02978700004
         },
         {
          "date": "2022-03-16T00:00:00",
          "pod_volume": 261020.617777
         },
         {
          "date": "2022-03-17T00:00:00",
          "pod_volume": 2408418.774141
         },
         {
          "date": "2022-03-18T00:00:00",
          "pod_volume": 587720.7509089999
         },
         {
          "date": "2022-03-19T00:00:00",
          "pod_volume": 291719.771781
         },
         {
          "date": "2022-03-20T00:00:00",
          "pod_volume": 266221.312317
         },
         {
          "date": "2022-03-21T00:00:00",
          "pod_volume": 487760.855128
         },
         {
          "date": "2022-03-22T00:00:00",
          "pod_volume": 203649.98329600002
         },
         {
          "date": "2022-03-23T00:00:00",
          "pod_volume": 258682.585782
         },
         {
          "date": "2022-03-24T00:00:00",
          "pod_volume": 682158.004176
         },
         {
          "date": "2022-03-25T00:00:00",
          "pod_volume": 510542.494776
         },
         {
          "date": "2022-03-26T00:00:00",
          "pod_volume": 629551.316892
         },
         {
          "date": "2022-03-27T00:00:00",
          "pod_volume": 331789.81092099997
         },
         {
          "date": "2022-03-28T00:00:00",
          "pod_volume": 18563.134527
         },
         {
          "date": "2022-03-29T00:00:00",
          "pod_volume": 211264.456147
         },
         {
          "date": "2022-03-30T00:00:00",
          "pod_volume": 324488.530694
         },
         {
          "date": "2022-03-31T00:00:00",
          "pod_volume": 94734.568803
         },
         {
          "date": "2022-04-01T00:00:00",
          "pod_volume": 159310.473627
         },
         {
          "date": "2022-04-02T00:00:00",
          "pod_volume": 175501.039536
         },
         {
          "date": "2022-04-03T00:00:00",
          "pod_volume": 117129.758603
         },
         {
          "date": "2022-04-04T00:00:00",
          "pod_volume": 255644.436766
         },
         {
          "date": "2022-04-05T00:00:00",
          "pod_volume": 236160.106099
         },
         {
          "date": "2022-04-06T00:00:00",
          "pod_volume": 279090.25393299997
         },
         {
          "date": "2022-04-07T00:00:00",
          "pod_volume": 325257.526313
         },
         {
          "date": "2022-04-08T00:00:00",
          "pod_volume": 94773.324831
         },
         {
          "date": "2022-04-09T00:00:00",
          "pod_volume": 397505.542275
         },
         {
          "date": "2022-04-10T00:00:00",
          "pod_volume": 241248.263563
         },
         {
          "date": "2022-04-11T00:00:00",
          "pod_volume": 1037488.4671540001
         },
         {
          "date": "2022-04-12T00:00:00",
          "pod_volume": 3897675.123781
         },
         {
          "date": "2022-04-13T00:00:00",
          "pod_volume": 3347166.530873
         },
         {
          "date": "2022-04-14T00:00:00",
          "pod_volume": 3222953.638002
         },
         {
          "date": "2022-04-15T00:00:00",
          "pod_volume": 5745634.098095
         },
         {
          "date": "2022-04-16T00:00:00",
          "pod_volume": 4472604.785084
         },
         {
          "date": "2022-04-17T00:00:00",
          "pod_volume": 4112721.141445
         },
         {
          "date": "2022-04-18T00:00:00",
          "pod_volume": 0
         },
         {
          "date": "2022-04-19T00:00:00",
          "pod_volume": 0
         },
         {
          "date": "2022-04-20T00:00:00",
          "pod_volume": 0
         },
         {
          "date": "2022-04-21T00:00:00",
          "pod_volume": 0
         },
         {
          "date": "2022-04-22T00:00:00",
          "pod_volume": 0
         },
         {
          "date": "2022-04-23T00:00:00",
          "pod_volume": 0
         },
         {
          "date": "2022-04-24T00:00:00",
          "pod_volume": 0
         },
         {
          "date": "2022-04-25T00:00:00",
          "pod_volume": 0
         },
         {
          "date": "2022-04-26T00:00:00",
          "pod_volume": 0
         },
         {
          "date": "2022-04-27T00:00:00",
          "pod_volume": 0
         },
         {
          "date": "2022-04-28T00:00:00",
          "pod_volume": 0
         },
         {
          "date": "2022-04-29T00:00:00",
          "pod_volume": 0
         },
         {
          "date": "2022-04-30T00:00:00",
          "pod_volume": 0
         },
         {
          "date": "2022-05-01T00:00:00",
          "pod_volume": 0
         },
         {
          "date": "2022-05-02T00:00:00",
          "pod_volume": 0
         },
         {
          "date": "2022-05-03T00:00:00",
          "pod_volume": 0
         },
         {
          "date": "2022-05-04T00:00:00",
          "pod_volume": 0
         },
         {
          "date": "2022-05-05T00:00:00",
          "pod_volume": 0
         },
         {
          "date": "2022-05-06T00:00:00",
          "pod_volume": 0
         },
         {
          "date": "2022-05-07T00:00:00",
          "pod_volume": 0
         },
         {
          "date": "2022-05-08T00:00:00",
          "pod_volume": 0
         },
         {
          "date": "2022-05-09T00:00:00",
          "pod_volume": 0
         },
         {
          "date": "2022-05-10T00:00:00",
          "pod_volume": 0
         },
         {
          "date": "2022-05-11T00:00:00",
          "pod_volume": 0
         },
         {
          "date": "2022-05-12T00:00:00",
          "pod_volume": 0
         },
         {
          "date": "2022-05-13T00:00:00",
          "pod_volume": 0
         },
         {
          "date": "2022-05-14T00:00:00",
          "pod_volume": 0
         },
         {
          "date": "2022-05-15T00:00:00",
          "pod_volume": 0
         },
         {
          "date": "2022-05-16T00:00:00",
          "pod_volume": 0
         },
         {
          "date": "2022-05-17T00:00:00",
          "pod_volume": 0
         },
         {
          "date": "2022-05-18T00:00:00",
          "pod_volume": 0
         },
         {
          "date": "2022-05-19T00:00:00",
          "pod_volume": 0
         },
         {
          "date": "2022-05-20T00:00:00",
          "pod_volume": 0
         },
         {
          "date": "2022-05-21T00:00:00",
          "pod_volume": 0
         },
         {
          "date": "2022-05-22T00:00:00",
          "pod_volume": 0
         },
         {
          "date": "2022-05-23T00:00:00",
          "pod_volume": 0
         },
         {
          "date": "2022-05-24T00:00:00",
          "pod_volume": 0
         },
         {
          "date": "2022-05-25T00:00:00",
          "pod_volume": 0
         },
         {
          "date": "2022-05-26T00:00:00",
          "pod_volume": 0
         },
         {
          "date": "2022-05-27T00:00:00",
          "pod_volume": 0
         },
         {
          "date": "2022-05-28T00:00:00",
          "pod_volume": 0
         },
         {
          "date": "2022-05-29T00:00:00",
          "pod_volume": 0
         },
         {
          "date": "2022-05-30T00:00:00",
          "pod_volume": 0
         },
         {
          "date": "2022-05-31T00:00:00",
          "pod_volume": 0
         },
         {
          "date": "2022-06-01T00:00:00",
          "pod_volume": 0
         },
         {
          "date": "2022-06-02T00:00:00",
          "pod_volume": 0
         },
         {
          "date": "2022-06-03T00:00:00",
          "pod_volume": 0
         },
         {
          "date": "2022-06-04T00:00:00",
          "pod_volume": 0
         },
         {
          "date": "2022-06-05T00:00:00",
          "pod_volume": 0
         },
         {
          "date": "2022-06-06T00:00:00",
          "pod_volume": 0
         },
         {
          "date": "2022-06-07T00:00:00",
          "pod_volume": 0
         },
         {
          "date": "2022-06-08T00:00:00",
          "pod_volume": 0
         },
         {
          "date": "2022-06-09T00:00:00",
          "pod_volume": 0
         },
         {
          "date": "2022-06-10T00:00:00",
          "pod_volume": 0
         },
         {
          "date": "2022-06-11T00:00:00",
          "pod_volume": 0
         },
         {
          "date": "2022-06-12T00:00:00",
          "pod_volume": 0
         },
         {
          "date": "2022-06-13T00:00:00",
          "pod_volume": 0
         },
         {
          "date": "2022-06-14T00:00:00",
          "pod_volume": 0
         },
         {
          "date": "2022-06-15T00:00:00",
          "pod_volume": 0
         },
         {
          "date": "2022-06-16T00:00:00",
          "pod_volume": 0
         },
         {
          "date": "2022-06-17T00:00:00",
          "pod_volume": 0
         },
         {
          "date": "2022-06-18T00:00:00",
          "pod_volume": 0
         },
         {
          "date": "2022-06-19T00:00:00",
          "pod_volume": 0
         },
         {
          "date": "2022-06-20T00:00:00",
          "pod_volume": 0
         },
         {
          "date": "2022-06-21T00:00:00",
          "pod_volume": 0
         },
         {
          "date": "2022-06-22T00:00:00",
          "pod_volume": 0
         },
         {
          "date": "2022-06-23T00:00:00",
          "pod_volume": 0
         },
         {
          "date": "2022-06-24T00:00:00",
          "pod_volume": 0
         },
         {
          "date": "2022-06-25T00:00:00",
          "pod_volume": 0
         },
         {
          "date": "2022-06-26T00:00:00",
          "pod_volume": 0
         },
         {
          "date": "2022-06-27T00:00:00",
          "pod_volume": 0
         },
         {
          "date": "2022-06-28T00:00:00",
          "pod_volume": 0
         },
         {
          "date": "2022-06-29T00:00:00",
          "pod_volume": 0
         },
         {
          "date": "2022-06-30T00:00:00",
          "pod_volume": 0
         },
         {
          "date": "2022-07-01T00:00:00",
          "pod_volume": 0
         },
         {
          "date": "2022-07-02T00:00:00",
          "pod_volume": 0
         },
         {
          "date": "2022-07-03T00:00:00",
          "pod_volume": 0
         },
         {
          "date": "2022-07-04T00:00:00",
          "pod_volume": 0
         },
         {
          "date": "2022-07-05T00:00:00",
          "pod_volume": 0
         },
         {
          "date": "2022-07-06T00:00:00",
          "pod_volume": 0
         },
         {
          "date": "2022-07-07T00:00:00",
          "pod_volume": 0
         },
         {
          "date": "2022-07-08T00:00:00",
          "pod_volume": 0
         },
         {
          "date": "2022-07-09T00:00:00",
          "pod_volume": 0
         },
         {
          "date": "2022-07-10T00:00:00",
          "pod_volume": 0
         },
         {
          "date": "2022-07-11T00:00:00",
          "pod_volume": 0
         },
         {
          "date": "2022-07-12T00:00:00",
          "pod_volume": 0
         },
         {
          "date": "2022-07-13T00:00:00",
          "pod_volume": 0
         },
         {
          "date": "2022-07-14T00:00:00",
          "pod_volume": 0
         },
         {
          "date": "2022-07-15T00:00:00",
          "pod_volume": 0
         },
         {
          "date": "2022-07-16T00:00:00",
          "pod_volume": 0
         },
         {
          "date": "2022-07-17T00:00:00",
          "pod_volume": 0
         },
         {
          "date": "2022-07-18T00:00:00",
          "pod_volume": 0
         },
         {
          "date": "2022-07-19T00:00:00",
          "pod_volume": 0
         },
         {
          "date": "2022-07-20T00:00:00",
          "pod_volume": 0
         },
         {
          "date": "2022-07-21T00:00:00",
          "pod_volume": 0
         },
         {
          "date": "2022-07-22T00:00:00",
          "pod_volume": 0
         },
         {
          "date": "2022-07-23T00:00:00",
          "pod_volume": 0
         },
         {
          "date": "2022-07-24T00:00:00",
          "pod_volume": 0
         },
         {
          "date": "2022-07-25T00:00:00",
          "pod_volume": 0
         },
         {
          "date": "2022-07-26T00:00:00",
          "pod_volume": 0
         },
         {
          "date": "2022-07-27T00:00:00",
          "pod_volume": 0
         },
         {
          "date": "2022-07-28T00:00:00",
          "pod_volume": 0
         },
         {
          "date": "2022-07-29T00:00:00",
          "pod_volume": 0
         },
         {
          "date": "2022-07-30T00:00:00",
          "pod_volume": 0
         },
         {
          "date": "2022-07-31T00:00:00",
          "pod_volume": 0
         },
         {
          "date": "2022-08-01T00:00:00",
          "pod_volume": 0
         },
         {
          "date": "2022-08-02T00:00:00",
          "pod_volume": 0
         },
         {
          "date": "2022-08-03T00:00:00",
          "pod_volume": 0
         },
         {
          "date": "2022-08-04T00:00:00",
          "pod_volume": 0
         },
         {
          "date": "2022-08-05T00:00:00",
          "pod_volume": 8178.416473
         },
         {
          "date": "2022-08-06T00:00:00",
          "pod_volume": 8742.811619
         },
         {
          "date": "2022-08-07T00:00:00",
          "pod_volume": 1123282.312862
         },
         {
          "date": "2022-08-08T00:00:00",
          "pod_volume": 297869.051333
         },
         {
          "date": "2022-08-09T00:00:00",
          "pod_volume": 353375.616753
         },
         {
          "date": "2022-08-10T00:00:00",
          "pod_volume": 102211.65418499999
         },
         {
          "date": "2022-08-11T00:00:00",
          "pod_volume": 31455.947162999997
         },
         {
          "date": "2022-08-12T00:00:00",
          "pod_volume": 20363.788045
         },
         {
          "date": "2022-08-13T00:00:00",
          "pod_volume": 150837.592466
         },
         {
          "date": "2022-08-14T00:00:00",
          "pod_volume": 80241.186542
         },
         {
          "date": "2022-08-15T00:00:00",
          "pod_volume": 566227.215336
         },
         {
          "date": "2022-08-16T00:00:00",
          "pod_volume": 151533.23544
         },
         {
          "date": "2022-08-17T00:00:00",
          "pod_volume": 26890.059281
         },
         {
          "date": "2022-08-18T00:00:00",
          "pod_volume": 21506.8148
         },
         {
          "date": "2022-08-19T00:00:00",
          "pod_volume": 20499.848111
         },
         {
          "date": "2022-08-20T00:00:00",
          "pod_volume": 18931.698237
         },
         {
          "date": "2022-08-21T00:00:00",
          "pod_volume": 795388.048281
         },
         {
          "date": "2022-08-22T00:00:00",
          "pod_volume": 8409.548002
         },
         {
          "date": "2022-08-23T00:00:00",
          "pod_volume": 44529.078977
         },
         {
          "date": "2022-08-24T00:00:00",
          "pod_volume": 262499.870746
         },
         {
          "date": "2022-08-25T00:00:00",
          "pod_volume": 328043.913045
         },
         {
          "date": "2022-08-26T00:00:00",
          "pod_volume": 219833.87433800002
         },
         {
          "date": "2022-08-27T00:00:00",
          "pod_volume": 0
         },
         {
          "date": "2022-08-28T00:00:00",
          "pod_volume": 223234.84194100002
         },
         {
          "date": "2022-08-29T00:00:00",
          "pod_volume": 0
         },
         {
          "date": "2022-08-30T00:00:00",
          "pod_volume": 184955.445709
         },
         {
          "date": "2022-08-31T00:00:00",
          "pod_volume": 121370.795675
         },
         {
          "date": "2022-09-01T00:00:00",
          "pod_volume": 211308.97713
         },
         {
          "date": "2022-09-02T00:00:00",
          "pod_volume": 491242.392546
         },
         {
          "date": "2022-09-03T00:00:00",
          "pod_volume": 76569.373835
         },
         {
          "date": "2022-09-04T00:00:00",
          "pod_volume": 61688.070296
         },
         {
          "date": "2022-09-05T00:00:00",
          "pod_volume": 0
         },
         {
          "date": "2022-09-06T00:00:00",
          "pod_volume": 188285.92786499998
         },
         {
          "date": "2022-09-07T00:00:00",
          "pod_volume": 86806.397492
         },
         {
          "date": "2022-09-08T00:00:00",
          "pod_volume": 64134.93862
         },
         {
          "date": "2022-09-09T00:00:00",
          "pod_volume": 0
         },
         {
          "date": "2022-09-10T00:00:00",
          "pod_volume": 229620.743809
         },
         {
          "date": "2022-09-11T00:00:00",
          "pod_volume": 19689.962050000002
         },
         {
          "date": "2022-09-12T00:00:00",
          "pod_volume": 15281.122452
         },
         {
          "date": "2022-09-13T00:00:00",
          "pod_volume": 165545.530122
         }
        ]
       },
       "vconcat": [
        {
         "encoding": {
          "tooltip": {
           "aggregate": "sum",
           "field": "amount",
           "format": ",d",
           "type": "quantitative"
          },
          "x": {
           "axis": null,
           "bin": {
            "extent": [
             24002560.795654997,
             821423984.136929
            ],
            "maxbins": 50
           },
           "field": "place_in_line",
           "type": "quantitative"
          },
          "y": {
           "aggregate": "sum",
           "axis": {
            "title": "Bin Volume (Pods)"
           },
           "field": "amount",
           "type": "quantitative"
          }
         },
         "height": 100,
         "mark": "rect",
         "transform": [
          {
           "filter": {
            "selection": "selector002"
           }
          }
         ],
         "width": 750
        },
        {
         "layer": [
          {
           "encoding": {
            "color": {
             "aggregate": "sum",
             "field": "amount",
             "scale": {
              "scheme": "plasma",
              "type": "log"
             },
             "type": "quantitative"
            },
            "detail": {
             "field": "date",
             "type": "temporal"
            },
            "tooltip": {
             "aggregate": "sum",
             "field": "amount",
             "format": ",d",
             "type": "quantitative"
            },
            "x": {
             "bin": {
              "extent": [
               24002560.795654997,
               821423984.136929
              ],
              "maxbins": 50
             },
             "field": "place_in_line",
             "type": "quantitative"
            },
            "y": {
             "axis": {
              "title": "Price Per Pod ($)"
             },
             "bin": {
              "extent": [
               0,
               1
              ],
              "step": 0.1
             },
             "field": "price_per_pod",
             "scale": {
              "domain": [
               0,
               1
              ]
             },
             "type": "quantitative"
            }
           },
           "height": 250,
           "mark": "rect",
           "transform": [
            {
             "filter": {
              "selection": "selector002"
             }
            }
           ],
           "width": 750
          },
          {
           "encoding": {
            "color": {
             "value": "#03dbfc"
            },
            "size": {
             "aggregate": "sum",
             "field": "amount",
             "scale": {
              "range": [
               5,
               125
              ]
             },
             "type": "quantitative"
            },
            "tooltip": {
             "aggregate": "mean",
             "field": "price_per_pod",
             "type": "quantitative"
            },
            "x": {
             "bin": {
              "extent": [
               24002560.795654997,
               821423984.136929
              ],
              "maxbins": 50
             },
             "field": "place_in_line",
             "type": "quantitative"
            },
            "y": {
             "aggregate": "mean",
             "field": "price_per_pod",
             "type": "quantitative"
            }
           },
           "height": 250,
           "mark": "point",
           "selection": {
            "selector001": {
             "clear": "mouseout",
             "empty": "none",
             "encodings": [
              "x"
             ],
             "nearest": true,
             "on": "mouseover",
             "type": "single"
            }
           },
           "transform": [
            {
             "filter": {
              "selection": "selector002"
             }
            }
           ],
           "width": 750
          },
          {
           "encoding": {
            "color": {
             "value": "#03dbfc"
            },
            "size": {
             "aggregate": "sum",
             "field": "amount",
             "scale": {
              "range": [
               5,
               125
              ]
             },
             "type": "quantitative"
            },
            "x": {
             "bin": {
              "extent": [
               24002560.795654997,
               821423984.136929
              ],
              "maxbins": 50
             },
             "field": "place_in_line",
             "type": "quantitative"
            },
            "y": {
             "aggregate": "mean",
             "field": "price_per_pod",
             "type": "quantitative"
            }
           },
           "height": 250,
           "mark": {
            "filled": true,
            "type": "point"
           },
           "transform": [
            {
             "filter": {
              "selection": "selector002"
             }
            },
            {
             "filter": {
              "selection": "selector001"
             }
            }
           ],
           "width": 750
          },
          {
           "encoding": {
            "color": {
             "value": "#03dbfc"
            },
            "text": {
             "aggregate": "mean",
             "field": "price_per_pod",
             "format": ".2f",
             "type": "quantitative"
            },
            "x": {
             "bin": {
              "extent": [
               24002560.795654997,
               821423984.136929
              ],
              "maxbins": 50
             },
             "field": "place_in_line",
             "type": "quantitative"
            },
            "y": {
             "aggregate": "mean",
             "field": "price_per_pod",
             "type": "quantitative"
            }
           },
           "height": 250,
           "mark": {
            "dy": -15,
            "fontSize": 15,
            "stroke": "black",
            "strokeWidth": 0.4,
            "type": "text"
           },
           "transform": [
            {
             "filter": {
              "selection": "selector002"
             }
            },
            {
             "filter": {
              "selection": "selector001"
             }
            }
           ],
           "width": 750
          }
         ]
        },
        {
         "data": {
          "name": "data-7dd3605e973be0a3288733b264d1e933"
         },
         "encoding": {
          "x": {
           "axis": {
            "format": "%b %Y",
            "tickCount": 8,
            "title": "Date"
           },
           "field": "date",
           "type": "temporal"
          },
          "y": {
           "axis": {
            "title": "Farmer's Market Total Volume (Pods)"
           },
           "field": "pod_volume",
           "type": "quantitative"
          }
         },
         "height": 100,
         "mark": "bar",
         "selection": {
          "selector002": {
           "encodings": [
            "x"
           ],
           "type": "interval"
          }
         },
         "width": 750
        }
       ]
      },
      "text/plain": [
       "<IPython.core.display.JSON object>"
      ]
     },
     "execution_count": 7,
     "metadata": {
      "application/json": {
       "expanded": false,
       "root": "root"
      }
     },
     "output_type": "execute_result"
    }
   ],
   "source": [
    "output_chart(c)"
   ]
  },
  {
   "cell_type": "code",
   "execution_count": null,
   "id": "50882068",
   "metadata": {},
   "outputs": [],
   "source": []
  }
 ],
 "metadata": {
  "kernelspec": {
   "display_name": "Python 3 (ipykernel)",
   "language": "python",
   "name": "python3"
  },
  "language_info": {
   "codemirror_mode": {
    "name": "ipython",
    "version": 3
   },
   "file_extension": ".py",
   "mimetype": "text/x-python",
   "name": "python",
   "nbconvert_exporter": "python",
   "pygments_lexer": "ipython3",
   "version": "3.10.5"
  },
  "vscode": {
   "interpreter": {
    "hash": "65a1606879e7cc55db7359bc7bbaab6708e6dced52e1818b18aa46c0dd2503e5"
   }
  }
 },
 "nbformat": 4,
 "nbformat_minor": 5
}
