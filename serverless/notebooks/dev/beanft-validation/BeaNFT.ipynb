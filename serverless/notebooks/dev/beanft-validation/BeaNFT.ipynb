{
 "cells": [
  {
   "cell_type": "code",
   "execution_count": 38,
   "id": "bb524f98-4f94-476c-b760-7d5dbae7938d",
   "metadata": {},
   "outputs": [],
   "source": [
    "import os \n",
    "import logging \n",
    "\n",
    "logging.basicConfig(level=logging.INFO)\n",
    "\n",
    "import numpy as np \n",
    "import pandas as pd "
   ]
  },
  {
   "cell_type": "code",
   "execution_count": 40,
   "id": "d25882b1",
   "metadata": {},
   "outputs": [
    {
     "name": "stdout",
     "output_type": "stream",
     "text": [
      "Num unique accounts dune: 396\n",
      "Num unique accounts brean: 396\n",
      "Num unique accounts in common: 396\n",
      "Difference dune: set()\n",
      "Difference dune: set()\n"
     ]
    },
    {
     "name": "stderr",
     "output_type": "stream",
     "text": [
      "/var/folders/2g/r74bpyq56fv9vbvc0fphvn480000gr/T/ipykernel_22335/3559424067.py:2: ParserWarning: Length of header or names does not match length of data. This leads to a loss of data with index_col=False.\n",
      "  df_dune = pd.read_csv(\"./beanft-dune.csv\", header=None, names=[\"account\", \"ids\", \"count_nfts\"], index_col=False)\n"
     ]
    }
   ],
   "source": [
    "# 1. Validate unique addresses receiving nft's \n",
    "\n",
    "# this df is from here https://docs.google.com/spreadsheets/d/1Q-0S-NVzvSL8kwiS-Ngj1Q__oDiwtknsR4dOqkOmPqI/edit#gid=0 \n",
    "df_dune = pd.read_csv(\"./beanft-dune.csv\", header=None, names=[\"account\", \"ids\", \"count_nfts\"], index_col=False)\n",
    "# this df is from here https://docs.google.com/spreadsheets/d/12BEPjfEfvwD9JbPHwZiZ7OQRwteHtcc964YhXloVGyA/edit#gid=1038696605\n",
    "df_brean = pd.read_csv(\"./beanft-brean.csv\")\n",
    "assert len(df_dune) == 396\n",
    "assert len(df_brean) == 918\n",
    "# 1.A. Unique wallets receiving NFT's \n",
    "df_dune.account = df_dune.account.apply(lambda acct: acct.replace(\"\\\\x\", '0x').lower())\n",
    "df_brean.account = df_brean.account.str.lower()\n",
    "dune_unique_accounts = set(np.unique(df_dune.account))\n",
    "brean_unique_accounts = set(np.unique(df_brean.account))\n",
    "intersect_unique_accounts = set(dune_unique_accounts).intersection(set(brean_unique_accounts))\n",
    "print(f\"Num unique accounts dune: {len(dune_unique_accounts)}\")\n",
    "print(f\"Num unique accounts brean: {len(brean_unique_accounts)}\")\n",
    "print(f\"Num unique accounts in common: {len(intersect_unique_accounts)}\")\n",
    "print(f\"Difference dune: {dune_unique_accounts - intersect_unique_accounts}\")\n",
    "print(f\"Difference dune: {brean_unique_accounts - intersect_unique_accounts}\")\n",
    "assert len(dune_unique_accounts) == len(brean_unique_accounts) == 396"
   ]
  },
  {
   "cell_type": "code",
   "execution_count": 41,
   "id": "7ff4cd79",
   "metadata": {},
   "outputs": [
    {
     "data": {
      "text/html": [
       "<div>\n",
       "<style scoped>\n",
       "    .dataframe tbody tr th:only-of-type {\n",
       "        vertical-align: middle;\n",
       "    }\n",
       "\n",
       "    .dataframe tbody tr th {\n",
       "        vertical-align: top;\n",
       "    }\n",
       "\n",
       "    .dataframe thead th {\n",
       "        text-align: right;\n",
       "    }\n",
       "</style>\n",
       "<table border=\"1\" class=\"dataframe\">\n",
       "  <thead>\n",
       "    <tr style=\"text-align: right;\">\n",
       "      <th></th>\n",
       "      <th>account</th>\n",
       "      <th>count_nfts</th>\n",
       "      <th>sum_value</th>\n",
       "    </tr>\n",
       "  </thead>\n",
       "  <tbody>\n",
       "    <tr>\n",
       "      <th>0</th>\n",
       "      <td>0x01914d6e47657d6a7893f84fc84660dc5aec08b6</td>\n",
       "      <td>1</td>\n",
       "      <td>10000</td>\n",
       "    </tr>\n",
       "    <tr>\n",
       "      <th>1</th>\n",
       "      <td>0x02009370ff755704e9acbd96042c1ab832d6067e</td>\n",
       "      <td>18</td>\n",
       "      <td>95689</td>\n",
       "    </tr>\n",
       "    <tr>\n",
       "      <th>2</th>\n",
       "      <td>0x02491d37984764d39b99e4077649dcd349221a62</td>\n",
       "      <td>1</td>\n",
       "      <td>3000</td>\n",
       "    </tr>\n",
       "    <tr>\n",
       "      <th>3</th>\n",
       "      <td>0x026a8f79db3d678e5881a9e42cc50e7ac88aaf25</td>\n",
       "      <td>1</td>\n",
       "      <td>4975</td>\n",
       "    </tr>\n",
       "    <tr>\n",
       "      <th>4</th>\n",
       "      <td>0x027be82bf7895db5fc1fea5696117e875bbcc0de</td>\n",
       "      <td>1</td>\n",
       "      <td>20250</td>\n",
       "    </tr>\n",
       "  </tbody>\n",
       "</table>\n",
       "</div>"
      ],
      "text/plain": [
       "                                      account  count_nfts  sum_value\n",
       "0  0x01914d6e47657d6a7893f84fc84660dc5aec08b6           1      10000\n",
       "1  0x02009370ff755704e9acbd96042c1ab832d6067e          18      95689\n",
       "2  0x02491d37984764d39b99e4077649dcd349221a62           1       3000\n",
       "3  0x026a8f79db3d678e5881a9e42cc50e7ac88aaf25           1       4975\n",
       "4  0x027be82bf7895db5fc1fea5696117e875bbcc0de           1      20250"
      ]
     },
     "execution_count": 41,
     "metadata": {},
     "output_type": "execute_result"
    }
   ],
   "source": [
    "# 2. Validate user level nft counts \n",
    "\n",
    "import json \n",
    "# This is the result of this query https://dune.com/queries/1267801\n",
    "with open(\"dune_results_2.json\", 'r') as f: \n",
    "    dune_results_2 = json.loads(f.read())['query_results']\n",
    "df_dune_2 = pd.DataFrame([d['data'] for d in dune_results_2])\n",
    "df_dune_2.account = df_dune_2.account.apply(lambda acct: acct.replace(\"\\\\x\", '0x').lower())\n",
    "df_dune_2.head()"
   ]
  },
  {
   "cell_type": "code",
   "execution_count": 42,
   "id": "275f6561",
   "metadata": {},
   "outputs": [],
   "source": [
    "# Ensures totals match up \n",
    "assert df_dune_2.sum_value.sum() == df_brean.value.sum() == 14292152\n",
    "# Ensures nft counts match up \n",
    "brean_nft_counts = {\n",
    "    list(t)[1]: list(t)[2] for t in \n",
    "    df_brean[['account', 'value']].groupby(\"account\"\n",
    "        ).count(\n",
    "        ).reset_index(\n",
    "        ).rename(columns={\"value\": \"count\"}\n",
    "        ).itertuples()\n",
    "}\n",
    "dune_nft_counts = {\n",
    "    list(t)[1]: list(t)[2] for t in \n",
    "    df_dune_2.itertuples()\n",
    "}\n",
    "assert brean_nft_counts == dune_nft_counts\n",
    "assert len(brean_nft_counts) == len(dune_nft_counts) == 396\n",
    "assert np.sum(list(brean_nft_counts.values())) == np.sum(list(dune_nft_counts.values()))"
   ]
  },
  {
   "cell_type": "code",
   "execution_count": null,
   "id": "f906e1f6",
   "metadata": {},
   "outputs": [],
   "source": []
  }
 ],
 "metadata": {
  "kernelspec": {
   "display_name": "Python 3.10.5 ('beanstalk')",
   "language": "python",
   "name": "python3"
  },
  "language_info": {
   "codemirror_mode": {
    "name": "ipython",
    "version": 3
   },
   "file_extension": ".py",
   "mimetype": "text/x-python",
   "name": "python",
   "nbconvert_exporter": "python",
   "pygments_lexer": "ipython3",
   "version": "3.10.5"
  },
  "vscode": {
   "interpreter": {
    "hash": "65a1606879e7cc55db7359bc7bbaab6708e6dced52e1818b18aa46c0dd2503e5"
   }
  }
 },
 "nbformat": 4,
 "nbformat_minor": 5
}
