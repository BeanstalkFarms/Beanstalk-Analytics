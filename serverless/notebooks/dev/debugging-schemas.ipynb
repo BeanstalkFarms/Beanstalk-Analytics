{
 "cells": [
  {
   "cell_type": "code",
   "execution_count": 8,
   "id": "bb524f98-4f94-476c-b760-7d5dbae7938d",
   "metadata": {},
   "outputs": [],
   "source": [
    "import os \n",
    "import sys \n",
    "\n",
    "cur_path = os.path.abspath(\"../..\")\n",
    "if cur_path not in sys.path: \n",
    "    sys.path.append(cur_path)\n",
    "\n",
    "from functools import cache \n",
    "import numpy as np \n",
    "import pandas as pd \n",
    "import altair as alt \n",
    "from altair import datum\n",
    "from subgrounds.subgrounds import Subgrounds, Subgraph\n",
    "from subgrounds.pagination import ShallowStrategy\n",
    "\n",
    "from dotenv import load_dotenv\n",
    "\n",
    "assert load_dotenv(\"../../../.env\")\n",
    "\n",
    "from utils_notebook.utils import ddf, load_subgraph, remove_prefix\n",
    "from utils_notebook.vega import output_chart"
   ]
  },
  {
   "cell_type": "code",
   "execution_count": 9,
   "id": "4dda51ef-cb6a-4692-9bad-6ea39ab9c6fe",
   "metadata": {},
   "outputs": [],
   "source": [
    "sg: Subgrounds\n",
    "bs: Subgraph\n",
    "sg, bs = load_subgraph()"
   ]
  },
  {
   "cell_type": "code",
   "execution_count": 10,
   "id": "c8137121-ae20-47d5-a002-1cb24c44b55d",
   "metadata": {},
   "outputs": [],
   "source": [
    "def query_farmers_market_snaps(refresh=None):    \n",
    "    snaps = bs.Query.podMarketplaceDailySnapshots(first=10000, orderBy=\"season\", orderDirection='asc')\n",
    "    bs.PodMarketplaceDailySnapshot.total_bean_vol = bs.PodMarketplaceDailySnapshot.totalBeanVolume / 1e6\n",
    "    bs.PodMarketplaceDailySnapshot.total_pod_vol = bs.PodMarketplaceDailySnapshot.totalPodVolume / 1e6\n",
    "    bs.PodMarketplaceDailySnapshot.total_pod_listing_vol = bs.PodMarketplaceDailySnapshot.totalPodsFilled / 1e6\n",
    "    bs.PodMarketplaceDailySnapshot.total_pod_order_vol = bs.PodMarketplaceDailySnapshot.totalOrdersFilled / 1e6\n",
    "    df = sg.query_df([\n",
    "        snaps.timestamp, \n",
    "        snaps.season, \n",
    "        snaps.total_bean_vol, # total bean volume for filled orders / listings \n",
    "        snaps.total_pod_vol, # total pod volume for filled orders / listings \n",
    "        snaps.total_pod_listing_vol, # total pod volume for filled listings \n",
    "        snaps.total_pod_order_vol, # total pod volume for filled orders\n",
    "    ], pagination_strategy=ShallowStrategy)\n",
    "    df = remove_prefix(df, 'podMarketplaceDailySnapshots_')\n",
    "    return df "
   ]
  },
  {
   "cell_type": "code",
   "execution_count": 11,
   "id": "ba49b373",
   "metadata": {},
   "outputs": [
    {
     "data": {
      "text/html": [
       "\n",
       "<div id=\"altair-viz-3cb597cf02fa4ccdafb69cc2acf1c8ac\"></div>\n",
       "<script type=\"text/javascript\">\n",
       "  var VEGA_DEBUG = (typeof VEGA_DEBUG == \"undefined\") ? {} : VEGA_DEBUG;\n",
       "  (function(spec, embedOpt){\n",
       "    let outputDiv = document.currentScript.previousElementSibling;\n",
       "    if (outputDiv.id !== \"altair-viz-3cb597cf02fa4ccdafb69cc2acf1c8ac\") {\n",
       "      outputDiv = document.getElementById(\"altair-viz-3cb597cf02fa4ccdafb69cc2acf1c8ac\");\n",
       "    }\n",
       "    const paths = {\n",
       "      \"vega\": \"https://cdn.jsdelivr.net/npm//vega@5?noext\",\n",
       "      \"vega-lib\": \"https://cdn.jsdelivr.net/npm//vega-lib?noext\",\n",
       "      \"vega-lite\": \"https://cdn.jsdelivr.net/npm//vega-lite@4.17.0?noext\",\n",
       "      \"vega-embed\": \"https://cdn.jsdelivr.net/npm//vega-embed@6?noext\",\n",
       "    };\n",
       "\n",
       "    function maybeLoadScript(lib, version) {\n",
       "      var key = `${lib.replace(\"-\", \"\")}_version`;\n",
       "      return (VEGA_DEBUG[key] == version) ?\n",
       "        Promise.resolve(paths[lib]) :\n",
       "        new Promise(function(resolve, reject) {\n",
       "          var s = document.createElement('script');\n",
       "          document.getElementsByTagName(\"head\")[0].appendChild(s);\n",
       "          s.async = true;\n",
       "          s.onload = () => {\n",
       "            VEGA_DEBUG[key] = version;\n",
       "            return resolve(paths[lib]);\n",
       "          };\n",
       "          s.onerror = () => reject(`Error loading script: ${paths[lib]}`);\n",
       "          s.src = paths[lib];\n",
       "        });\n",
       "    }\n",
       "\n",
       "    function showError(err) {\n",
       "      outputDiv.innerHTML = `<div class=\"error\" style=\"color:red;\">${err}</div>`;\n",
       "      throw err;\n",
       "    }\n",
       "\n",
       "    function displayChart(vegaEmbed) {\n",
       "      vegaEmbed(outputDiv, spec, embedOpt)\n",
       "        .catch(err => showError(`Javascript Error: ${err.message}<br>This usually means there's a typo in your chart specification. See the javascript console for the full traceback.`));\n",
       "    }\n",
       "\n",
       "    if(typeof define === \"function\" && define.amd) {\n",
       "      requirejs.config({paths});\n",
       "      require([\"vega-embed\"], displayChart, err => showError(`Error loading script: ${err.message}`));\n",
       "    } else {\n",
       "      maybeLoadScript(\"vega\", \"5\")\n",
       "        .then(() => maybeLoadScript(\"vega-lite\", \"4.17.0\"))\n",
       "        .then(() => maybeLoadScript(\"vega-embed\", \"6\"))\n",
       "        .catch(showError)\n",
       "        .then(() => displayChart(vegaEmbed));\n",
       "    }\n",
       "  })({\"config\": {\"view\": {\"continuousWidth\": 400, \"continuousHeight\": 300}}, \"layer\": [{\"mark\": {\"type\": \"area\", \"point\": \"transparent\"}, \"encoding\": {\"color\": {\"field\": \"variable\", \"type\": \"nominal\"}, \"tooltip\": [{\"field\": \"total bean vol\", \"format\": \",d\", \"type\": \"quantitative\"}, {\"field\": \"total pod listing vol\", \"format\": \",d\", \"type\": \"quantitative\"}, {\"field\": \"total pod order vol\", \"format\": \",d\", \"type\": \"quantitative\"}, {\"field\": \"total pod vol\", \"format\": \",d\", \"type\": \"quantitative\"}], \"x\": {\"field\": \"season\", \"type\": \"ordinal\"}, \"y\": {\"field\": \"value_1\", \"type\": \"quantitative\"}, \"y2\": {\"field\": \"value_2\"}}, \"transform\": [{\"filter\": \"(datum.variable !== 'total_pod_vol')\"}, {\"groupby\": [\"season\"], \"stack\": \"value\", \"sort\": [{\"field\": \"variable\", \"order\": \"descending\"}], \"as\": [\"value_1\", \"value_2\"]}], \"width\": 700}, {\"mark\": \"line\", \"encoding\": {\"color\": {\"field\": \"variable\", \"type\": \"nominal\"}, \"x\": {\"field\": \"season\", \"type\": \"ordinal\"}, \"y\": {\"field\": \"value\", \"type\": \"quantitative\"}}, \"transform\": [{\"filter\": \"(datum.variable === 'total_pod_vol')\"}], \"width\": 700}], \"data\": {\"name\": \"data-d3ece0717f9632fd9f201a691baa8c3f\"}, \"$schema\": \"https://vega.github.io/schema/vega-lite/v4.17.0.json\", \"datasets\": {\"data-d3ece0717f9632fd9f201a691baa8c3f\": [{\"timestamp\": 1643932868, \"season\": 4357, \"total bean vol\": 0.0, \"total pod listing vol\": 0.0, \"total pod order vol\": 0.0, \"total pod vol\": 0.0, \"variable\": \"total_bean_vol\", \"value\": 0.0}, {\"timestamp\": 1643932868, \"season\": 4357, \"total bean vol\": 0.0, \"total pod listing vol\": 0.0, \"total pod order vol\": 0.0, \"total pod vol\": 0.0, \"variable\": \"total_pod_order_vol\", \"value\": 0.0}, {\"timestamp\": 1643932868, \"season\": 4357, \"total bean vol\": 0.0, \"total pod listing vol\": 0.0, \"total pod order vol\": 0.0, \"total pod vol\": 0.0, \"variable\": \"total_pod_listing_vol\", \"value\": 0.0}, {\"timestamp\": 1643932868, \"season\": 4357, \"total bean vol\": 0.0, \"total pod listing vol\": 0.0, \"total pod order vol\": 0.0, \"total pod vol\": 0.0, \"variable\": \"total_pod_vol\", \"value\": 0.0}, {\"timestamp\": 1644105552, \"season\": 4381, \"total bean vol\": 6788.405173, \"total pod listing vol\": 65610.913621, \"total pod order vol\": 0.0, \"total pod vol\": 65610.913621, \"variable\": \"total_pod_order_vol\", \"value\": 0.0}, {\"timestamp\": 1644105552, \"season\": 4381, \"total bean vol\": 6788.405173, \"total pod listing vol\": 65610.913621, \"total pod order vol\": 0.0, \"total pod vol\": 65610.913621, \"variable\": \"total_pod_listing_vol\", \"value\": 65610.913621}, {\"timestamp\": 1644105552, \"season\": 4381, \"total bean vol\": 6788.405173, \"total pod listing vol\": 65610.913621, \"total pod order vol\": 0.0, \"total pod vol\": 65610.913621, \"variable\": \"total_bean_vol\", \"value\": 6788.405173}, {\"timestamp\": 1644105552, \"season\": 4381, \"total bean vol\": 6788.405173, \"total pod listing vol\": 65610.913621, \"total pod order vol\": 0.0, \"total pod vol\": 65610.913621, \"variable\": \"total_pod_vol\", \"value\": 65610.913621}, {\"timestamp\": 1644186678, \"season\": 4405, \"total bean vol\": 37016.310151, \"total pod listing vol\": 168079.947589, \"total pod order vol\": 69477.354604, \"total pod vol\": 237557.302193, \"variable\": \"total_bean_vol\", \"value\": 37016.310151}, {\"timestamp\": 1644186678, \"season\": 4405, \"total bean vol\": 37016.310151, \"total pod listing vol\": 168079.947589, \"total pod order vol\": 69477.354604, \"total pod vol\": 237557.302193, \"variable\": \"total_pod_order_vol\", \"value\": 69477.354604}, {\"timestamp\": 1644186678, \"season\": 4405, \"total bean vol\": 37016.310151, \"total pod listing vol\": 168079.947589, \"total pod order vol\": 69477.354604, \"total pod vol\": 237557.302193, \"variable\": \"total_pod_vol\", \"value\": 237557.302193}, {\"timestamp\": 1644186678, \"season\": 4405, \"total bean vol\": 37016.310151, \"total pod listing vol\": 168079.947589, \"total pod order vol\": 69477.354604, \"total pod vol\": 237557.302193, \"variable\": \"total_pod_listing_vol\", \"value\": 168079.947589}, {\"timestamp\": 1644277669, \"season\": 4429, \"total bean vol\": 119166.663005, \"total pod listing vol\": 277435.017194, \"total pod order vol\": 229091.907755, \"total pod vol\": 506526.924949, \"variable\": \"total_pod_vol\", \"value\": 506526.924949}, {\"timestamp\": 1644277669, \"season\": 4429, \"total bean vol\": 119166.663005, \"total pod listing vol\": 277435.017194, \"total pod order vol\": 229091.907755, \"total pod vol\": 506526.924949, \"variable\": \"total_bean_vol\", \"value\": 119166.663005}, {\"timestamp\": 1644277669, \"season\": 4429, \"total bean vol\": 119166.663005, \"total pod listing vol\": 277435.017194, \"total pod order vol\": 229091.907755, \"total pod vol\": 506526.924949, \"variable\": \"total_pod_order_vol\", \"value\": 229091.907755}, {\"timestamp\": 1644277669, \"season\": 4429, \"total bean vol\": 119166.663005, \"total pod listing vol\": 277435.017194, \"total pod order vol\": 229091.907755, \"total pod vol\": 506526.924949, \"variable\": \"total_pod_listing_vol\", \"value\": 277435.017194}, {\"timestamp\": 1644363097, \"season\": 4453, \"total bean vol\": 137655.857683, \"total pod listing vol\": 281245.766971, \"total pod order vol\": 291926.816553, \"total pod vol\": 573172.583524, \"variable\": \"total_pod_vol\", \"value\": 573172.583524}, {\"timestamp\": 1644363097, \"season\": 4453, \"total bean vol\": 137655.857683, \"total pod listing vol\": 281245.766971, \"total pod order vol\": 291926.816553, \"total pod vol\": 573172.583524, \"variable\": \"total_bean_vol\", \"value\": 137655.857683}, {\"timestamp\": 1644363097, \"season\": 4453, \"total bean vol\": 137655.857683, \"total pod listing vol\": 281245.766971, \"total pod order vol\": 291926.816553, \"total pod vol\": 573172.583524, \"variable\": \"total_pod_order_vol\", \"value\": 291926.816553}, {\"timestamp\": 1644363097, \"season\": 4453, \"total bean vol\": 137655.857683, \"total pod listing vol\": 281245.766971, \"total pod order vol\": 291926.816553, \"total pod vol\": 573172.583524, \"variable\": \"total_pod_listing_vol\", \"value\": 281245.766971}, {\"timestamp\": 1644449268, \"season\": 4477, \"total bean vol\": 140135.857683, \"total pod listing vol\": 293245.766971, \"total pod order vol\": 291926.816553, \"total pod vol\": 585172.583524, \"variable\": \"total_bean_vol\", \"value\": 140135.857683}, {\"timestamp\": 1644449268, \"season\": 4477, \"total bean vol\": 140135.857683, \"total pod listing vol\": 293245.766971, \"total pod order vol\": 291926.816553, \"total pod vol\": 585172.583524, \"variable\": \"total_pod_order_vol\", \"value\": 291926.816553}, {\"timestamp\": 1644449268, \"season\": 4477, \"total bean vol\": 140135.857683, \"total pod listing vol\": 293245.766971, \"total pod order vol\": 291926.816553, \"total pod vol\": 585172.583524, \"variable\": \"total_pod_vol\", \"value\": 585172.583524}, {\"timestamp\": 1644449268, \"season\": 4477, \"total bean vol\": 140135.857683, \"total pod listing vol\": 293245.766971, \"total pod order vol\": 291926.816553, \"total pod vol\": 585172.583524, \"variable\": \"total_pod_listing_vol\", \"value\": 293245.766971}, {\"timestamp\": 1644533885, \"season\": 4501, \"total bean vol\": 145119.068695, \"total pod listing vol\": 306359.480163, \"total pod order vol\": 291926.816553, \"total pod vol\": 598286.296716, \"variable\": \"total_pod_order_vol\", \"value\": 291926.816553}, {\"timestamp\": 1644533885, \"season\": 4501, \"total bean vol\": 145119.068695, \"total pod listing vol\": 306359.480163, \"total pod order vol\": 291926.816553, \"total pod vol\": 598286.296716, \"variable\": \"total_bean_vol\", \"value\": 145119.068695}, {\"timestamp\": 1644533885, \"season\": 4501, \"total bean vol\": 145119.068695, \"total pod listing vol\": 306359.480163, \"total pod order vol\": 291926.816553, \"total pod vol\": 598286.296716, \"variable\": \"total_pod_vol\", \"value\": 598286.296716}, {\"timestamp\": 1644533885, \"season\": 4501, \"total bean vol\": 145119.068695, \"total pod listing vol\": 306359.480163, \"total pod order vol\": 291926.816553, \"total pod vol\": 598286.296716, \"variable\": \"total_pod_listing_vol\", \"value\": 306359.480163}, {\"timestamp\": 1644616068, \"season\": 4525, \"total bean vol\": 145881.746202, \"total pod listing vol\": 308366.526236, \"total pod order vol\": 291926.816553, \"total pod vol\": 600293.342789, \"variable\": \"total_bean_vol\", \"value\": 145881.746202}, {\"timestamp\": 1644616068, \"season\": 4525, \"total bean vol\": 145881.746202, \"total pod listing vol\": 308366.526236, \"total pod order vol\": 291926.816553, \"total pod vol\": 600293.342789, \"variable\": \"total_pod_vol\", \"value\": 600293.342789}, {\"timestamp\": 1644616068, \"season\": 4525, \"total bean vol\": 145881.746202, \"total pod listing vol\": 308366.526236, \"total pod order vol\": 291926.816553, \"total pod vol\": 600293.342789, \"variable\": \"total_pod_listing_vol\", \"value\": 308366.526236}, {\"timestamp\": 1644616068, \"season\": 4525, \"total bean vol\": 145881.746202, \"total pod listing vol\": 308366.526236, \"total pod order vol\": 291926.816553, \"total pod vol\": 600293.342789, \"variable\": \"total_pod_order_vol\", \"value\": 291926.816553}, {\"timestamp\": 1644710243, \"season\": 4549, \"total bean vol\": 146463.710677, \"total pod listing vol\": 309898.011699, \"total pod order vol\": 291926.816553, \"total pod vol\": 601824.828252, \"variable\": \"total_pod_listing_vol\", \"value\": 309898.011699}, {\"timestamp\": 1644710243, \"season\": 4549, \"total bean vol\": 146463.710677, \"total pod listing vol\": 309898.011699, \"total pod order vol\": 291926.816553, \"total pod vol\": 601824.828252, \"variable\": \"total_bean_vol\", \"value\": 146463.710677}, {\"timestamp\": 1644710243, \"season\": 4549, \"total bean vol\": 146463.710677, \"total pod listing vol\": 309898.011699, \"total pod order vol\": 291926.816553, \"total pod vol\": 601824.828252, \"variable\": \"total_pod_vol\", \"value\": 601824.828252}, {\"timestamp\": 1644710243, \"season\": 4549, \"total bean vol\": 146463.710677, \"total pod listing vol\": 309898.011699, \"total pod order vol\": 291926.816553, \"total pod vol\": 601824.828252, \"variable\": \"total_pod_order_vol\", \"value\": 291926.816553}, {\"timestamp\": 1644784650, \"season\": 4573, \"total bean vol\": 147924.825282, \"total pod listing vol\": 313743.050135, \"total pod order vol\": 291926.816553, \"total pod vol\": 605669.866688, \"variable\": \"total_bean_vol\", \"value\": 147924.825282}, {\"timestamp\": 1644784650, \"season\": 4573, \"total bean vol\": 147924.825282, \"total pod listing vol\": 313743.050135, \"total pod order vol\": 291926.816553, \"total pod vol\": 605669.866688, \"variable\": \"total_pod_order_vol\", \"value\": 291926.816553}, {\"timestamp\": 1644784650, \"season\": 4573, \"total bean vol\": 147924.825282, \"total pod listing vol\": 313743.050135, \"total pod order vol\": 291926.816553, \"total pod vol\": 605669.866688, \"variable\": \"total_pod_vol\", \"value\": 605669.866688}, {\"timestamp\": 1644784650, \"season\": 4573, \"total bean vol\": 147924.825282, \"total pod listing vol\": 313743.050135, \"total pod order vol\": 291926.816553, \"total pod vol\": 605669.866688, \"variable\": \"total_pod_listing_vol\", \"value\": 313743.050135}, {\"timestamp\": 1644869833, \"season\": 4597, \"total bean vol\": 147924.825282, \"total pod listing vol\": 313743.050135, \"total pod order vol\": 291926.816553, \"total pod vol\": 605669.866688, \"variable\": \"total_pod_vol\", \"value\": 605669.866688}, {\"timestamp\": 1644869833, \"season\": 4597, \"total bean vol\": 147924.825282, \"total pod listing vol\": 313743.050135, \"total pod order vol\": 291926.816553, \"total pod vol\": 605669.866688, \"variable\": \"total_bean_vol\", \"value\": 147924.825282}, {\"timestamp\": 1644869833, \"season\": 4597, \"total bean vol\": 147924.825282, \"total pod listing vol\": 313743.050135, \"total pod order vol\": 291926.816553, \"total pod vol\": 605669.866688, \"variable\": \"total_pod_listing_vol\", \"value\": 313743.050135}, {\"timestamp\": 1644869833, \"season\": 4597, \"total bean vol\": 147924.825282, \"total pod listing vol\": 313743.050135, \"total pod order vol\": 291926.816553, \"total pod vol\": 605669.866688, \"variable\": \"total_pod_order_vol\", \"value\": 291926.816553}, {\"timestamp\": 1644954691, \"season\": 4621, \"total bean vol\": 147924.825282, \"total pod listing vol\": 313743.050135, \"total pod order vol\": 291926.816553, \"total pod vol\": 605669.866688, \"variable\": \"total_pod_order_vol\", \"value\": 291926.816553}, {\"timestamp\": 1644954691, \"season\": 4621, \"total bean vol\": 147924.825282, \"total pod listing vol\": 313743.050135, \"total pod order vol\": 291926.816553, \"total pod vol\": 605669.866688, \"variable\": \"total_pod_vol\", \"value\": 605669.866688}, {\"timestamp\": 1644954691, \"season\": 4621, \"total bean vol\": 147924.825282, \"total pod listing vol\": 313743.050135, \"total pod order vol\": 291926.816553, \"total pod vol\": 605669.866688, \"variable\": \"total_bean_vol\", \"value\": 147924.825282}, {\"timestamp\": 1644954691, \"season\": 4621, \"total bean vol\": 147924.825282, \"total pod listing vol\": 313743.050135, \"total pod order vol\": 291926.816553, \"total pod vol\": 605669.866688, \"variable\": \"total_pod_listing_vol\", \"value\": 313743.050135}, {\"timestamp\": 1645052953, \"season\": 4645, \"total bean vol\": 154183.44105, \"total pod listing vol\": 381540.956409, \"total pod order vol\": 293341.907755, \"total pod vol\": 674882.864164, \"variable\": \"total_pod_listing_vol\", \"value\": 381540.956409}, {\"timestamp\": 1645052953, \"season\": 4645, \"total bean vol\": 154183.44105, \"total pod listing vol\": 381540.956409, \"total pod order vol\": 293341.907755, \"total pod vol\": 674882.864164, \"variable\": \"total_pod_order_vol\", \"value\": 293341.907755}, {\"timestamp\": 1645052953, \"season\": 4645, \"total bean vol\": 154183.44105, \"total pod listing vol\": 381540.956409, \"total pod order vol\": 293341.907755, \"total pod vol\": 674882.864164, \"variable\": \"total_pod_vol\", \"value\": 674882.864164}, {\"timestamp\": 1645052953, \"season\": 4645, \"total bean vol\": 154183.44105, \"total pod listing vol\": 381540.956409, \"total pod order vol\": 293341.907755, \"total pod vol\": 674882.864164, \"variable\": \"total_bean_vol\", \"value\": 154183.44105}, {\"timestamp\": 1645139962, \"season\": 4669, \"total bean vol\": 157906.84446, \"total pod listing vol\": 391339.386437, \"total pod order vol\": 293341.907755, \"total pod vol\": 684681.294192, \"variable\": \"total_pod_order_vol\", \"value\": 293341.907755}, {\"timestamp\": 1645139962, \"season\": 4669, \"total bean vol\": 157906.84446, \"total pod listing vol\": 391339.386437, \"total pod order vol\": 293341.907755, \"total pod vol\": 684681.294192, \"variable\": \"total_pod_vol\", \"value\": 684681.294192}, {\"timestamp\": 1645139962, \"season\": 4669, \"total bean vol\": 157906.84446, \"total pod listing vol\": 391339.386437, \"total pod order vol\": 293341.907755, \"total pod vol\": 684681.294192, \"variable\": \"total_pod_listing_vol\", \"value\": 391339.386437}, {\"timestamp\": 1645139962, \"season\": 4669, \"total bean vol\": 157906.84446, \"total pod listing vol\": 391339.386437, \"total pod order vol\": 293341.907755, \"total pod vol\": 684681.294192, \"variable\": \"total_bean_vol\", \"value\": 157906.84446}, {\"timestamp\": 1645215175, \"season\": 4693, \"total bean vol\": 191639.074037, \"total pod listing vol\": 779796.756941, \"total pod order vol\": 305841.907755, \"total pod vol\": 1085638.664696, \"variable\": \"total_pod_order_vol\", \"value\": 305841.907755}, {\"timestamp\": 1645215175, \"season\": 4693, \"total bean vol\": 191639.074037, \"total pod listing vol\": 779796.756941, \"total pod order vol\": 305841.907755, \"total pod vol\": 1085638.664696, \"variable\": \"total_pod_vol\", \"value\": 1085638.664696}, {\"timestamp\": 1645215175, \"season\": 4693, \"total bean vol\": 191639.074037, \"total pod listing vol\": 779796.756941, \"total pod order vol\": 305841.907755, \"total pod vol\": 1085638.664696, \"variable\": \"total_bean_vol\", \"value\": 191639.074037}, {\"timestamp\": 1645215175, \"season\": 4693, \"total bean vol\": 191639.074037, \"total pod listing vol\": 779796.756941, \"total pod order vol\": 305841.907755, \"total pod vol\": 1085638.664696, \"variable\": \"total_pod_listing_vol\", \"value\": 779796.756941}, {\"timestamp\": 1645290244, \"season\": 4717, \"total bean vol\": 194159.846539, \"total pod listing vol\": 779796.756941, \"total pod order vol\": 504234.819865, \"total pod vol\": 1284031.576806, \"variable\": \"total_pod_vol\", \"value\": 1284031.576806}, {\"timestamp\": 1645290244, \"season\": 4717, \"total bean vol\": 194159.846539, \"total pod listing vol\": 779796.756941, \"total pod order vol\": 504234.819865, \"total pod vol\": 1284031.576806, \"variable\": \"total_pod_listing_vol\", \"value\": 779796.756941}, {\"timestamp\": 1645290244, \"season\": 4717, \"total bean vol\": 194159.846539, \"total pod listing vol\": 779796.756941, \"total pod order vol\": 504234.819865, \"total pod vol\": 1284031.576806, \"variable\": \"total_pod_order_vol\", \"value\": 504234.819865}, {\"timestamp\": 1645290244, \"season\": 4717, \"total bean vol\": 194159.846539, \"total pod listing vol\": 779796.756941, \"total pod order vol\": 504234.819865, \"total pod vol\": 1284031.576806, \"variable\": \"total_bean_vol\", \"value\": 194159.846539}, {\"timestamp\": 1645374438, \"season\": 4741, \"total bean vol\": 195059.23602, \"total pod listing vol\": 779796.756941, \"total pod order vol\": 505870.073468, \"total pod vol\": 1285666.830409, \"variable\": \"total_pod_listing_vol\", \"value\": 779796.756941}, {\"timestamp\": 1645374438, \"season\": 4741, \"total bean vol\": 195059.23602, \"total pod listing vol\": 779796.756941, \"total pod order vol\": 505870.073468, \"total pod vol\": 1285666.830409, \"variable\": \"total_pod_vol\", \"value\": 1285666.830409}, {\"timestamp\": 1645374438, \"season\": 4741, \"total bean vol\": 195059.23602, \"total pod listing vol\": 779796.756941, \"total pod order vol\": 505870.073468, \"total pod vol\": 1285666.830409, \"variable\": \"total_pod_order_vol\", \"value\": 505870.073468}, {\"timestamp\": 1645374438, \"season\": 4741, \"total bean vol\": 195059.23602, \"total pod listing vol\": 779796.756941, \"total pod order vol\": 505870.073468, \"total pod vol\": 1285666.830409, \"variable\": \"total_bean_vol\", \"value\": 195059.23602}, {\"timestamp\": 1645424278, \"season\": 4765, \"total bean vol\": 195059.23602, \"total pod listing vol\": 779796.756941, \"total pod order vol\": 505870.073468, \"total pod vol\": 1285666.830409, \"variable\": \"total_pod_order_vol\", \"value\": 505870.073468}, {\"timestamp\": 1645424278, \"season\": 4765, \"total bean vol\": 195059.23602, \"total pod listing vol\": 779796.756941, \"total pod order vol\": 505870.073468, \"total pod vol\": 1285666.830409, \"variable\": \"total_pod_vol\", \"value\": 1285666.830409}, {\"timestamp\": 1645424278, \"season\": 4765, \"total bean vol\": 195059.23602, \"total pod listing vol\": 779796.756941, \"total pod order vol\": 505870.073468, \"total pod vol\": 1285666.830409, \"variable\": \"total_bean_vol\", \"value\": 195059.23602}, {\"timestamp\": 1645424278, \"season\": 4765, \"total bean vol\": 195059.23602, \"total pod listing vol\": 779796.756941, \"total pod order vol\": 505870.073468, \"total pod vol\": 1285666.830409, \"variable\": \"total_pod_listing_vol\", \"value\": 779796.756941}, {\"timestamp\": 1645549382, \"season\": 4789, \"total bean vol\": 210579.979133, \"total pod listing vol\": 966930.285853, \"total pod order vol\": 506870.184018, \"total pod vol\": 1473800.469871, \"variable\": \"total_pod_listing_vol\", \"value\": 966930.285853}, {\"timestamp\": 1645549382, \"season\": 4789, \"total bean vol\": 210579.979133, \"total pod listing vol\": 966930.285853, \"total pod order vol\": 506870.184018, \"total pod vol\": 1473800.469871, \"variable\": \"total_pod_vol\", \"value\": 1473800.469871}, {\"timestamp\": 1645549382, \"season\": 4789, \"total bean vol\": 210579.979133, \"total pod listing vol\": 966930.285853, \"total pod order vol\": 506870.184018, \"total pod vol\": 1473800.469871, \"variable\": \"total_pod_order_vol\", \"value\": 506870.184018}, {\"timestamp\": 1645549382, \"season\": 4789, \"total bean vol\": 210579.979133, \"total pod listing vol\": 966930.285853, \"total pod order vol\": 506870.184018, \"total pod vol\": 1473800.469871, \"variable\": \"total_bean_vol\", \"value\": 210579.979133}, {\"timestamp\": 1645655762, \"season\": 4813, \"total bean vol\": 210846.004052, \"total pod listing vol\": 966930.285853, \"total pod order vol\": 507353.86569, \"total pod vol\": 1474284.151543, \"variable\": \"total_pod_order_vol\", \"value\": 507353.86569}, {\"timestamp\": 1645655762, \"season\": 4813, \"total bean vol\": 210846.004052, \"total pod listing vol\": 966930.285853, \"total pod order vol\": 507353.86569, \"total pod vol\": 1474284.151543, \"variable\": \"total_pod_listing_vol\", \"value\": 966930.285853}, {\"timestamp\": 1645655762, \"season\": 4813, \"total bean vol\": 210846.004052, \"total pod listing vol\": 966930.285853, \"total pod order vol\": 507353.86569, \"total pod vol\": 1474284.151543, \"variable\": \"total_pod_vol\", \"value\": 1474284.151543}, {\"timestamp\": 1645655762, \"season\": 4813, \"total bean vol\": 210846.004052, \"total pod listing vol\": 966930.285853, \"total pod order vol\": 507353.86569, \"total pod vol\": 1474284.151543, \"variable\": \"total_bean_vol\", \"value\": 210846.004052}, {\"timestamp\": 1645732340, \"season\": 4837, \"total bean vol\": 248695.943501, \"total pod listing vol\": 970675.63203, \"total pod order vol\": 819961.01814, \"total pod vol\": 1790636.65017, \"variable\": \"total_bean_vol\", \"value\": 248695.943501}, {\"timestamp\": 1645732340, \"season\": 4837, \"total bean vol\": 248695.943501, \"total pod listing vol\": 970675.63203, \"total pod order vol\": 819961.01814, \"total pod vol\": 1790636.65017, \"variable\": \"total_pod_vol\", \"value\": 1790636.65017}, {\"timestamp\": 1645732340, \"season\": 4837, \"total bean vol\": 248695.943501, \"total pod listing vol\": 970675.63203, \"total pod order vol\": 819961.01814, \"total pod vol\": 1790636.65017, \"variable\": \"total_pod_order_vol\", \"value\": 819961.01814}, {\"timestamp\": 1645732340, \"season\": 4837, \"total bean vol\": 248695.943501, \"total pod listing vol\": 970675.63203, \"total pod order vol\": 819961.01814, \"total pod vol\": 1790636.65017, \"variable\": \"total_pod_listing_vol\", \"value\": 970675.63203}, {\"timestamp\": 1645768024, \"season\": 4861, \"total bean vol\": 248695.943501, \"total pod listing vol\": 970675.63203, \"total pod order vol\": 819961.01814, \"total pod vol\": 1790636.65017, \"variable\": \"total_pod_vol\", \"value\": 1790636.65017}, {\"timestamp\": 1645768024, \"season\": 4861, \"total bean vol\": 248695.943501, \"total pod listing vol\": 970675.63203, \"total pod order vol\": 819961.01814, \"total pod vol\": 1790636.65017, \"variable\": \"total_pod_order_vol\", \"value\": 819961.01814}, {\"timestamp\": 1645768024, \"season\": 4861, \"total bean vol\": 248695.943501, \"total pod listing vol\": 970675.63203, \"total pod order vol\": 819961.01814, \"total pod vol\": 1790636.65017, \"variable\": \"total_bean_vol\", \"value\": 248695.943501}, {\"timestamp\": 1645768024, \"season\": 4861, \"total bean vol\": 248695.943501, \"total pod listing vol\": 970675.63203, \"total pod order vol\": 819961.01814, \"total pod vol\": 1790636.65017, \"variable\": \"total_pod_listing_vol\", \"value\": 970675.63203}, {\"timestamp\": 1645914532, \"season\": 4885, \"total bean vol\": 251699.94398, \"total pod listing vol\": 974676.112126, \"total pod order vol\": 919961.01814, \"total pod vol\": 1894637.130266, \"variable\": \"total_pod_vol\", \"value\": 1894637.130266}, {\"timestamp\": 1645914532, \"season\": 4885, \"total bean vol\": 251699.94398, \"total pod listing vol\": 974676.112126, \"total pod order vol\": 919961.01814, \"total pod vol\": 1894637.130266, \"variable\": \"total_pod_order_vol\", \"value\": 919961.01814}, {\"timestamp\": 1645914532, \"season\": 4885, \"total bean vol\": 251699.94398, \"total pod listing vol\": 974676.112126, \"total pod order vol\": 919961.01814, \"total pod vol\": 1894637.130266, \"variable\": \"total_pod_listing_vol\", \"value\": 974676.112126}, {\"timestamp\": 1645914532, \"season\": 4885, \"total bean vol\": 251699.94398, \"total pod listing vol\": 974676.112126, \"total pod order vol\": 919961.01814, \"total pod vol\": 1894637.130266, \"variable\": \"total_bean_vol\", \"value\": 251699.94398}, {\"timestamp\": 1645970345, \"season\": 4909, \"total bean vol\": 254539.855847, \"total pod listing vol\": 977116.960879, \"total pod order vol\": 986627.684806, \"total pod vol\": 1963744.645685, \"variable\": \"total_pod_listing_vol\", \"value\": 977116.960879}, {\"timestamp\": 1645970345, \"season\": 4909, \"total bean vol\": 254539.855847, \"total pod listing vol\": 977116.960879, \"total pod order vol\": 986627.684806, \"total pod vol\": 1963744.645685, \"variable\": \"total_bean_vol\", \"value\": 254539.855847}, {\"timestamp\": 1645970345, \"season\": 4909, \"total bean vol\": 254539.855847, \"total pod listing vol\": 977116.960879, \"total pod order vol\": 986627.684806, \"total pod vol\": 1963744.645685, \"variable\": \"total_pod_order_vol\", \"value\": 986627.684806}, {\"timestamp\": 1645970345, \"season\": 4909, \"total bean vol\": 254539.855847, \"total pod listing vol\": 977116.960879, \"total pod order vol\": 986627.684806, \"total pod vol\": 1963744.645685, \"variable\": \"total_pod_vol\", \"value\": 1963744.645685}, {\"timestamp\": 1646006402, \"season\": 4933, \"total bean vol\": 254539.855847, \"total pod listing vol\": 977116.960879, \"total pod order vol\": 986627.684806, \"total pod vol\": 1963744.645685, \"variable\": \"total_pod_listing_vol\", \"value\": 977116.960879}, {\"timestamp\": 1646006402, \"season\": 4933, \"total bean vol\": 254539.855847, \"total pod listing vol\": 977116.960879, \"total pod order vol\": 986627.684806, \"total pod vol\": 1963744.645685, \"variable\": \"total_bean_vol\", \"value\": 254539.855847}, {\"timestamp\": 1646006402, \"season\": 4933, \"total bean vol\": 254539.855847, \"total pod listing vol\": 977116.960879, \"total pod order vol\": 986627.684806, \"total pod vol\": 1963744.645685, \"variable\": \"total_pod_order_vol\", \"value\": 986627.684806}, {\"timestamp\": 1646006402, \"season\": 4933, \"total bean vol\": 254539.855847, \"total pod listing vol\": 977116.960879, \"total pod order vol\": 986627.684806, \"total pod vol\": 1963744.645685, \"variable\": \"total_pod_vol\", \"value\": 1963744.645685}, {\"timestamp\": 1646178060, \"season\": 4957, \"total bean vol\": 303608.785738, \"total pod listing vol\": 1510893.968534, \"total pod order vol\": 986627.684806, \"total pod vol\": 2497521.65334, \"variable\": \"total_bean_vol\", \"value\": 303608.785738}, {\"timestamp\": 1646178060, \"season\": 4957, \"total bean vol\": 303608.785738, \"total pod listing vol\": 1510893.968534, \"total pod order vol\": 986627.684806, \"total pod vol\": 2497521.65334, \"variable\": \"total_pod_listing_vol\", \"value\": 1510893.968534}, {\"timestamp\": 1646178060, \"season\": 4957, \"total bean vol\": 303608.785738, \"total pod listing vol\": 1510893.968534, \"total pod order vol\": 986627.684806, \"total pod vol\": 2497521.65334, \"variable\": \"total_pod_vol\", \"value\": 2497521.65334}, {\"timestamp\": 1646178060, \"season\": 4957, \"total bean vol\": 303608.785738, \"total pod listing vol\": 1510893.968534, \"total pod order vol\": 986627.684806, \"total pod vol\": 2497521.65334, \"variable\": \"total_pod_order_vol\", \"value\": 986627.684806}, {\"timestamp\": 1646263326, \"season\": 4981, \"total bean vol\": 327963.100327, \"total pod listing vol\": 1781497.463999, \"total pod order vol\": 986627.684806, \"total pod vol\": 2768125.148805, \"variable\": \"total_pod_order_vol\", \"value\": 986627.684806}, {\"timestamp\": 1646263326, \"season\": 4981, \"total bean vol\": 327963.100327, \"total pod listing vol\": 1781497.463999, \"total pod order vol\": 986627.684806, \"total pod vol\": 2768125.148805, \"variable\": \"total_pod_vol\", \"value\": 2768125.148805}, {\"timestamp\": 1646263326, \"season\": 4981, \"total bean vol\": 327963.100327, \"total pod listing vol\": 1781497.463999, \"total pod order vol\": 986627.684806, \"total pod vol\": 2768125.148805, \"variable\": \"total_pod_listing_vol\", \"value\": 1781497.463999}, {\"timestamp\": 1646263326, \"season\": 4981, \"total bean vol\": 327963.100327, \"total pod listing vol\": 1781497.463999, \"total pod order vol\": 986627.684806, \"total pod vol\": 2768125.148805, \"variable\": \"total_bean_vol\", \"value\": 327963.100327}, {\"timestamp\": 1646342979, \"season\": 5005, \"total bean vol\": 332936.744079, \"total pod listing vol\": 1808463.008658, \"total pod order vol\": 1023139.559462, \"total pod vol\": 2831602.56812, \"variable\": \"total_pod_vol\", \"value\": 2831602.56812}, {\"timestamp\": 1646342979, \"season\": 5005, \"total bean vol\": 332936.744079, \"total pod listing vol\": 1808463.008658, \"total pod order vol\": 1023139.559462, \"total pod vol\": 2831602.56812, \"variable\": \"total_pod_listing_vol\", \"value\": 1808463.008658}, {\"timestamp\": 1646342979, \"season\": 5005, \"total bean vol\": 332936.744079, \"total pod listing vol\": 1808463.008658, \"total pod order vol\": 1023139.559462, \"total pod vol\": 2831602.56812, \"variable\": \"total_pod_order_vol\", \"value\": 1023139.559462}, {\"timestamp\": 1646342979, \"season\": 5005, \"total bean vol\": 332936.744079, \"total pod listing vol\": 1808463.008658, \"total pod order vol\": 1023139.559462, \"total pod vol\": 2831602.56812, \"variable\": \"total_bean_vol\", \"value\": 332936.744079}, {\"timestamp\": 1646427156, \"season\": 5029, \"total bean vol\": 333223.211002, \"total pod listing vol\": 1808956.440896, \"total pod order vol\": 1041424.174862, \"total pod vol\": 2850380.615758, \"variable\": \"total_pod_order_vol\", \"value\": 1041424.174862}, {\"timestamp\": 1646427156, \"season\": 5029, \"total bean vol\": 333223.211002, \"total pod listing vol\": 1808956.440896, \"total pod order vol\": 1041424.174862, \"total pod vol\": 2850380.615758, \"variable\": \"total_pod_listing_vol\", \"value\": 1808956.440896}, {\"timestamp\": 1646427156, \"season\": 5029, \"total bean vol\": 333223.211002, \"total pod listing vol\": 1808956.440896, \"total pod order vol\": 1041424.174862, \"total pod vol\": 2850380.615758, \"variable\": \"total_bean_vol\", \"value\": 333223.211002}, {\"timestamp\": 1646427156, \"season\": 5029, \"total bean vol\": 333223.211002, \"total pod listing vol\": 1808956.440896, \"total pod order vol\": 1041424.174862, \"total pod vol\": 2850380.615758, \"variable\": \"total_pod_vol\", \"value\": 2850380.615758}, {\"timestamp\": 1646514996, \"season\": 5053, \"total bean vol\": 338021.188646, \"total pod listing vol\": 1821582.697854, \"total pod order vol\": 1041424.174862, \"total pod vol\": 2863006.872716, \"variable\": \"total_pod_order_vol\", \"value\": 1041424.174862}, {\"timestamp\": 1646514996, \"season\": 5053, \"total bean vol\": 338021.188646, \"total pod listing vol\": 1821582.697854, \"total pod order vol\": 1041424.174862, \"total pod vol\": 2863006.872716, \"variable\": \"total_pod_vol\", \"value\": 2863006.872716}, {\"timestamp\": 1646514996, \"season\": 5053, \"total bean vol\": 338021.188646, \"total pod listing vol\": 1821582.697854, \"total pod order vol\": 1041424.174862, \"total pod vol\": 2863006.872716, \"variable\": \"total_bean_vol\", \"value\": 338021.188646}, {\"timestamp\": 1646514996, \"season\": 5053, \"total bean vol\": 338021.188646, \"total pod listing vol\": 1821582.697854, \"total pod order vol\": 1041424.174862, \"total pod vol\": 2863006.872716, \"variable\": \"total_pod_listing_vol\", \"value\": 1821582.697854}, {\"timestamp\": 1646609296, \"season\": 5077, \"total bean vol\": 400506.311105, \"total pod listing vol\": 2067546.741749, \"total pod order vol\": 1041424.174862, \"total pod vol\": 3108970.916611, \"variable\": \"total_bean_vol\", \"value\": 400506.311105}, {\"timestamp\": 1646609296, \"season\": 5077, \"total bean vol\": 400506.311105, \"total pod listing vol\": 2067546.741749, \"total pod order vol\": 1041424.174862, \"total pod vol\": 3108970.916611, \"variable\": \"total_pod_order_vol\", \"value\": 1041424.174862}, {\"timestamp\": 1646609296, \"season\": 5077, \"total bean vol\": 400506.311105, \"total pod listing vol\": 2067546.741749, \"total pod order vol\": 1041424.174862, \"total pod vol\": 3108970.916611, \"variable\": \"total_pod_listing_vol\", \"value\": 2067546.741749}, {\"timestamp\": 1646609296, \"season\": 5077, \"total bean vol\": 400506.311105, \"total pod listing vol\": 2067546.741749, \"total pod order vol\": 1041424.174862, \"total pod vol\": 3108970.916611, \"variable\": \"total_pod_vol\", \"value\": 3108970.916611}, {\"timestamp\": 1646692333, \"season\": 5101, \"total bean vol\": 413977.048801, \"total pod listing vol\": 2108348.639589, \"total pod order vol\": 1061613.474497, \"total pod vol\": 3169962.114086, \"variable\": \"total_pod_order_vol\", \"value\": 1061613.474497}, {\"timestamp\": 1646692333, \"season\": 5101, \"total bean vol\": 413977.048801, \"total pod listing vol\": 2108348.639589, \"total pod order vol\": 1061613.474497, \"total pod vol\": 3169962.114086, \"variable\": \"total_pod_listing_vol\", \"value\": 2108348.639589}, {\"timestamp\": 1646692333, \"season\": 5101, \"total bean vol\": 413977.048801, \"total pod listing vol\": 2108348.639589, \"total pod order vol\": 1061613.474497, \"total pod vol\": 3169962.114086, \"variable\": \"total_pod_vol\", \"value\": 3169962.114086}, {\"timestamp\": 1646692333, \"season\": 5101, \"total bean vol\": 413977.048801, \"total pod listing vol\": 2108348.639589, \"total pod order vol\": 1061613.474497, \"total pod vol\": 3169962.114086, \"variable\": \"total_bean_vol\", \"value\": 413977.048801}, {\"timestamp\": 1646778759, \"season\": 5125, \"total bean vol\": 441982.937428, \"total pod listing vol\": 2274088.006681, \"total pod order vol\": 1065356.105445, \"total pod vol\": 3339444.112126, \"variable\": \"total_pod_vol\", \"value\": 3339444.112126}, {\"timestamp\": 1646778759, \"season\": 5125, \"total bean vol\": 441982.937428, \"total pod listing vol\": 2274088.006681, \"total pod order vol\": 1065356.105445, \"total pod vol\": 3339444.112126, \"variable\": \"total_pod_listing_vol\", \"value\": 2274088.006681}, {\"timestamp\": 1646778759, \"season\": 5125, \"total bean vol\": 441982.937428, \"total pod listing vol\": 2274088.006681, \"total pod order vol\": 1065356.105445, \"total pod vol\": 3339444.112126, \"variable\": \"total_bean_vol\", \"value\": 441982.937428}, {\"timestamp\": 1646778759, \"season\": 5125, \"total bean vol\": 441982.937428, \"total pod listing vol\": 2274088.006681, \"total pod order vol\": 1065356.105445, \"total pod vol\": 3339444.112126, \"variable\": \"total_pod_order_vol\", \"value\": 1065356.105445}, {\"timestamp\": 1646868031, \"season\": 5149, \"total bean vol\": 625604.529573, \"total pod listing vol\": 3573959.835924, \"total pod order vol\": 1565356.105445, \"total pod vol\": 5139315.941369, \"variable\": \"total_pod_listing_vol\", \"value\": 3573959.835924}, {\"timestamp\": 1646868031, \"season\": 5149, \"total bean vol\": 625604.529573, \"total pod listing vol\": 3573959.835924, \"total pod order vol\": 1565356.105445, \"total pod vol\": 5139315.941369, \"variable\": \"total_pod_order_vol\", \"value\": 1565356.105445}, {\"timestamp\": 1646868031, \"season\": 5149, \"total bean vol\": 625604.529573, \"total pod listing vol\": 3573959.835924, \"total pod order vol\": 1565356.105445, \"total pod vol\": 5139315.941369, \"variable\": \"total_pod_vol\", \"value\": 5139315.941369}, {\"timestamp\": 1646868031, \"season\": 5149, \"total bean vol\": 625604.529573, \"total pod listing vol\": 3573959.835924, \"total pod order vol\": 1565356.105445, \"total pod vol\": 5139315.941369, \"variable\": \"total_bean_vol\", \"value\": 625604.529573}, {\"timestamp\": 1646956151, \"season\": 5173, \"total bean vol\": 653134.010303, \"total pod listing vol\": 3682345.382738, \"total pod order vol\": 1565356.105445, \"total pod vol\": 5247701.488183, \"variable\": \"total_bean_vol\", \"value\": 653134.010303}, {\"timestamp\": 1646956151, \"season\": 5173, \"total bean vol\": 653134.010303, \"total pod listing vol\": 3682345.382738, \"total pod order vol\": 1565356.105445, \"total pod vol\": 5247701.488183, \"variable\": \"total_pod_vol\", \"value\": 5247701.488183}, {\"timestamp\": 1646956151, \"season\": 5173, \"total bean vol\": 653134.010303, \"total pod listing vol\": 3682345.382738, \"total pod order vol\": 1565356.105445, \"total pod vol\": 5247701.488183, \"variable\": \"total_pod_order_vol\", \"value\": 1565356.105445}, {\"timestamp\": 1646956151, \"season\": 5173, \"total bean vol\": 653134.010303, \"total pod listing vol\": 3682345.382738, \"total pod order vol\": 1565356.105445, \"total pod vol\": 5247701.488183, \"variable\": \"total_pod_listing_vol\", \"value\": 3682345.382738}, {\"timestamp\": 1647042888, \"season\": 5197, \"total bean vol\": 696157.304546, \"total pod listing vol\": 4445560.666243, \"total pod order vol\": 1597289.016293, \"total pod vol\": 6042849.682536, \"variable\": \"total_pod_listing_vol\", \"value\": 4445560.666243}, {\"timestamp\": 1647042888, \"season\": 5197, \"total bean vol\": 696157.304546, \"total pod listing vol\": 4445560.666243, \"total pod order vol\": 1597289.016293, \"total pod vol\": 6042849.682536, \"variable\": \"total_bean_vol\", \"value\": 696157.304546}, {\"timestamp\": 1647042888, \"season\": 5197, \"total bean vol\": 696157.304546, \"total pod listing vol\": 4445560.666243, \"total pod order vol\": 1597289.016293, \"total pod vol\": 6042849.682536, \"variable\": \"total_pod_vol\", \"value\": 6042849.682536}, {\"timestamp\": 1647042888, \"season\": 5197, \"total bean vol\": 696157.304546, \"total pod listing vol\": 4445560.666243, \"total pod order vol\": 1597289.016293, \"total pod vol\": 6042849.682536, \"variable\": \"total_pod_order_vol\", \"value\": 1597289.016293}, {\"timestamp\": 1647128786, \"season\": 5221, \"total bean vol\": 742742.587012, \"total pod listing vol\": 4906983.099316, \"total pod order vol\": 1890813.699831, \"total pod vol\": 6797796.799147, \"variable\": \"total_pod_vol\", \"value\": 6797796.799147}, {\"timestamp\": 1647128786, \"season\": 5221, \"total bean vol\": 742742.587012, \"total pod listing vol\": 4906983.099316, \"total pod order vol\": 1890813.699831, \"total pod vol\": 6797796.799147, \"variable\": \"total_pod_listing_vol\", \"value\": 4906983.099316}, {\"timestamp\": 1647128786, \"season\": 5221, \"total bean vol\": 742742.587012, \"total pod listing vol\": 4906983.099316, \"total pod order vol\": 1890813.699831, \"total pod vol\": 6797796.799147, \"variable\": \"total_pod_order_vol\", \"value\": 1890813.699831}, {\"timestamp\": 1647128786, \"season\": 5221, \"total bean vol\": 742742.587012, \"total pod listing vol\": 4906983.099316, \"total pod order vol\": 1890813.699831, \"total pod vol\": 6797796.799147, \"variable\": \"total_bean_vol\", \"value\": 742742.587012}, {\"timestamp\": 1647211997, \"season\": 5245, \"total bean vol\": 757339.720102, \"total pod listing vol\": 5090071.604789, \"total pod order vol\": 1895256.376219, \"total pod vol\": 6985327.981008, \"variable\": \"total_pod_listing_vol\", \"value\": 5090071.604789}, {\"timestamp\": 1647211997, \"season\": 5245, \"total bean vol\": 757339.720102, \"total pod listing vol\": 5090071.604789, \"total pod order vol\": 1895256.376219, \"total pod vol\": 6985327.981008, \"variable\": \"total_pod_vol\", \"value\": 6985327.981008}, {\"timestamp\": 1647211997, \"season\": 5245, \"total bean vol\": 757339.720102, \"total pod listing vol\": 5090071.604789, \"total pod order vol\": 1895256.376219, \"total pod vol\": 6985327.981008, \"variable\": \"total_pod_order_vol\", \"value\": 1895256.376219}, {\"timestamp\": 1647211997, \"season\": 5245, \"total bean vol\": 757339.720102, \"total pod listing vol\": 5090071.604789, \"total pod order vol\": 1895256.376219, \"total pod vol\": 6985327.981008, \"variable\": \"total_bean_vol\", \"value\": 757339.720102}, {\"timestamp\": 1647302368, \"season\": 5269, \"total bean vol\": 796841.738907, \"total pod listing vol\": 5238159.67585, \"total pod order vol\": 1926363.998853, \"total pod vol\": 7164523.674703, \"variable\": \"total_pod_vol\", \"value\": 7164523.674703}, {\"timestamp\": 1647302368, \"season\": 5269, \"total bean vol\": 796841.738907, \"total pod listing vol\": 5238159.67585, \"total pod order vol\": 1926363.998853, \"total pod vol\": 7164523.674703, \"variable\": \"total_pod_order_vol\", \"value\": 1926363.998853}, {\"timestamp\": 1647302368, \"season\": 5269, \"total bean vol\": 796841.738907, \"total pod listing vol\": 5238159.67585, \"total pod order vol\": 1926363.998853, \"total pod vol\": 7164523.674703, \"variable\": \"total_bean_vol\", \"value\": 796841.738907}, {\"timestamp\": 1647302368, \"season\": 5269, \"total bean vol\": 796841.738907, \"total pod listing vol\": 5238159.67585, \"total pod order vol\": 1926363.998853, \"total pod vol\": 7164523.674703, \"variable\": \"total_pod_listing_vol\", \"value\": 5238159.67585}, {\"timestamp\": 1647386623, \"season\": 5293, \"total bean vol\": 857112.135209, \"total pod listing vol\": 5560139.700207, \"total pod order vol\": 2092955.004283, \"total pod vol\": 7653094.70449, \"variable\": \"total_pod_vol\", \"value\": 7653094.70449}, {\"timestamp\": 1647386623, \"season\": 5293, \"total bean vol\": 857112.135209, \"total pod listing vol\": 5560139.700207, \"total pod order vol\": 2092955.004283, \"total pod vol\": 7653094.70449, \"variable\": \"total_bean_vol\", \"value\": 857112.135209}, {\"timestamp\": 1647386623, \"season\": 5293, \"total bean vol\": 857112.135209, \"total pod listing vol\": 5560139.700207, \"total pod order vol\": 2092955.004283, \"total pod vol\": 7653094.70449, \"variable\": \"total_pod_listing_vol\", \"value\": 5560139.700207}, {\"timestamp\": 1647386623, \"season\": 5293, \"total bean vol\": 857112.135209, \"total pod listing vol\": 5560139.700207, \"total pod order vol\": 2092955.004283, \"total pod vol\": 7653094.70449, \"variable\": \"total_pod_order_vol\", \"value\": 2092955.004283}, {\"timestamp\": 1647473563, \"season\": 5317, \"total bean vol\": 899911.996859, \"total pod listing vol\": 5787420.060394, \"total pod order vol\": 2126695.261873, \"total pod vol\": 7914115.322267, \"variable\": \"total_bean_vol\", \"value\": 899911.996859}, {\"timestamp\": 1647473563, \"season\": 5317, \"total bean vol\": 899911.996859, \"total pod listing vol\": 5787420.060394, \"total pod order vol\": 2126695.261873, \"total pod vol\": 7914115.322267, \"variable\": \"total_pod_order_vol\", \"value\": 2126695.261873}, {\"timestamp\": 1647473563, \"season\": 5317, \"total bean vol\": 899911.996859, \"total pod listing vol\": 5787420.060394, \"total pod order vol\": 2126695.261873, \"total pod vol\": 7914115.322267, \"variable\": \"total_pod_vol\", \"value\": 7914115.322267}, {\"timestamp\": 1647473563, \"season\": 5317, \"total bean vol\": 899911.996859, \"total pod listing vol\": 5787420.060394, \"total pod order vol\": 2126695.261873, \"total pod vol\": 7914115.322267, \"variable\": \"total_pod_listing_vol\", \"value\": 5787420.060394}, {\"timestamp\": 1647560112, \"season\": 5341, \"total bean vol\": 1122350.805546, \"total pod listing vol\": 8195838.834535, \"total pod order vol\": 2126695.261873, \"total pod vol\": 10322534.096408, \"variable\": \"total_bean_vol\", \"value\": 1122350.805546}, {\"timestamp\": 1647560112, \"season\": 5341, \"total bean vol\": 1122350.805546, \"total pod listing vol\": 8195838.834535, \"total pod order vol\": 2126695.261873, \"total pod vol\": 10322534.096408, \"variable\": \"total_pod_listing_vol\", \"value\": 8195838.834535}, {\"timestamp\": 1647560112, \"season\": 5341, \"total bean vol\": 1122350.805546, \"total pod listing vol\": 8195838.834535, \"total pod order vol\": 2126695.261873, \"total pod vol\": 10322534.096408, \"variable\": \"total_pod_vol\", \"value\": 10322534.096408}, {\"timestamp\": 1647560112, \"season\": 5341, \"total bean vol\": 1122350.805546, \"total pod listing vol\": 8195838.834535, \"total pod order vol\": 2126695.261873, \"total pod vol\": 10322534.096408, \"variable\": \"total_pod_order_vol\", \"value\": 2126695.261873}, {\"timestamp\": 1647645374, \"season\": 5365, \"total bean vol\": 1193703.11494, \"total pod listing vol\": 8783559.585444, \"total pod order vol\": 2126695.261873, \"total pod vol\": 10910254.847317, \"variable\": \"total_pod_listing_vol\", \"value\": 8783559.585444}, {\"timestamp\": 1647645374, \"season\": 5365, \"total bean vol\": 1193703.11494, \"total pod listing vol\": 8783559.585444, \"total pod order vol\": 2126695.261873, \"total pod vol\": 10910254.847317, \"variable\": \"total_bean_vol\", \"value\": 1193703.11494}, {\"timestamp\": 1647645374, \"season\": 5365, \"total bean vol\": 1193703.11494, \"total pod listing vol\": 8783559.585444, \"total pod order vol\": 2126695.261873, \"total pod vol\": 10910254.847317, \"variable\": \"total_pod_vol\", \"value\": 10910254.847317}, {\"timestamp\": 1647645374, \"season\": 5365, \"total bean vol\": 1193703.11494, \"total pod listing vol\": 8783559.585444, \"total pod order vol\": 2126695.261873, \"total pod vol\": 10910254.847317, \"variable\": \"total_pod_order_vol\", \"value\": 2126695.261873}, {\"timestamp\": 1647734009, \"season\": 5389, \"total bean vol\": 1228644.204988, \"total pod listing vol\": 9075279.357225, \"total pod order vol\": 2126695.261873, \"total pod vol\": 11201974.619098, \"variable\": \"total_bean_vol\", \"value\": 1228644.204988}, {\"timestamp\": 1647734009, \"season\": 5389, \"total bean vol\": 1228644.204988, \"total pod listing vol\": 9075279.357225, \"total pod order vol\": 2126695.261873, \"total pod vol\": 11201974.619098, \"variable\": \"total_pod_order_vol\", \"value\": 2126695.261873}, {\"timestamp\": 1647734009, \"season\": 5389, \"total bean vol\": 1228644.204988, \"total pod listing vol\": 9075279.357225, \"total pod order vol\": 2126695.261873, \"total pod vol\": 11201974.619098, \"variable\": \"total_pod_listing_vol\", \"value\": 9075279.357225}, {\"timestamp\": 1647734009, \"season\": 5389, \"total bean vol\": 1228644.204988, \"total pod listing vol\": 9075279.357225, \"total pod order vol\": 2126695.261873, \"total pod vol\": 11201974.619098, \"variable\": \"total_pod_vol\", \"value\": 11201974.619098}, {\"timestamp\": 1647814170, \"season\": 5413, \"total bean vol\": 1253566.03742, \"total pod listing vol\": 9341500.669542, \"total pod order vol\": 2126695.261873, \"total pod vol\": 11468195.931415, \"variable\": \"total_pod_vol\", \"value\": 11468195.931415}, {\"timestamp\": 1647814170, \"season\": 5413, \"total bean vol\": 1253566.03742, \"total pod listing vol\": 9341500.669542, \"total pod order vol\": 2126695.261873, \"total pod vol\": 11468195.931415, \"variable\": \"total_pod_listing_vol\", \"value\": 9341500.669542}, {\"timestamp\": 1647814170, \"season\": 5413, \"total bean vol\": 1253566.03742, \"total pod listing vol\": 9341500.669542, \"total pod order vol\": 2126695.261873, \"total pod vol\": 11468195.931415, \"variable\": \"total_bean_vol\", \"value\": 1253566.03742}, {\"timestamp\": 1647814170, \"season\": 5413, \"total bean vol\": 1253566.03742, \"total pod listing vol\": 9341500.669542, \"total pod order vol\": 2126695.261873, \"total pod vol\": 11468195.931415, \"variable\": \"total_pod_order_vol\", \"value\": 2126695.261873}, {\"timestamp\": 1647905051, \"season\": 5437, \"total bean vol\": 1286984.255873, \"total pod listing vol\": 9793211.52467, \"total pod order vol\": 2162745.261873, \"total pod vol\": 11955956.786543, \"variable\": \"total_pod_vol\", \"value\": 11955956.786543}, {\"timestamp\": 1647905051, \"season\": 5437, \"total bean vol\": 1286984.255873, \"total pod listing vol\": 9793211.52467, \"total pod order vol\": 2162745.261873, \"total pod vol\": 11955956.786543, \"variable\": \"total_pod_order_vol\", \"value\": 2162745.261873}, {\"timestamp\": 1647905051, \"season\": 5437, \"total bean vol\": 1286984.255873, \"total pod listing vol\": 9793211.52467, \"total pod order vol\": 2162745.261873, \"total pod vol\": 11955956.786543, \"variable\": \"total_bean_vol\", \"value\": 1286984.255873}, {\"timestamp\": 1647905051, \"season\": 5437, \"total bean vol\": 1286984.255873, \"total pod listing vol\": 9793211.52467, \"total pod order vol\": 2162745.261873, \"total pod vol\": 11955956.786543, \"variable\": \"total_pod_listing_vol\", \"value\": 9793211.52467}, {\"timestamp\": 1647990993, \"season\": 5461, \"total bean vol\": 1363923.853871, \"total pod listing vol\": 9996861.507966, \"total pod order vol\": 2162745.261873, \"total pod vol\": 12159606.769839, \"variable\": \"total_bean_vol\", \"value\": 1363923.853871}, {\"timestamp\": 1647990993, \"season\": 5461, \"total bean vol\": 1363923.853871, \"total pod listing vol\": 9996861.507966, \"total pod order vol\": 2162745.261873, \"total pod vol\": 12159606.769839, \"variable\": \"total_pod_listing_vol\", \"value\": 9996861.507966}, {\"timestamp\": 1647990993, \"season\": 5461, \"total bean vol\": 1363923.853871, \"total pod listing vol\": 9996861.507966, \"total pod order vol\": 2162745.261873, \"total pod vol\": 12159606.769839, \"variable\": \"total_pod_order_vol\", \"value\": 2162745.261873}, {\"timestamp\": 1647990993, \"season\": 5461, \"total bean vol\": 1363923.853871, \"total pod listing vol\": 9996861.507966, \"total pod order vol\": 2162745.261873, \"total pod vol\": 12159606.769839, \"variable\": \"total_pod_vol\", \"value\": 12159606.769839}, {\"timestamp\": 1648078070, \"season\": 5485, \"total bean vol\": 1370414.515195, \"total pod listing vol\": 10255544.093748, \"total pod order vol\": 2162745.261873, \"total pod vol\": 12418289.355621, \"variable\": \"total_pod_listing_vol\", \"value\": 10255544.093748}, {\"timestamp\": 1648078070, \"season\": 5485, \"total bean vol\": 1370414.515195, \"total pod listing vol\": 10255544.093748, \"total pod order vol\": 2162745.261873, \"total pod vol\": 12418289.355621, \"variable\": \"total_bean_vol\", \"value\": 1370414.515195}, {\"timestamp\": 1648078070, \"season\": 5485, \"total bean vol\": 1370414.515195, \"total pod listing vol\": 10255544.093748, \"total pod order vol\": 2162745.261873, \"total pod vol\": 12418289.355621, \"variable\": \"total_pod_vol\", \"value\": 12418289.355621}, {\"timestamp\": 1648078070, \"season\": 5485, \"total bean vol\": 1370414.515195, \"total pod listing vol\": 10255544.093748, \"total pod order vol\": 2162745.261873, \"total pod vol\": 12418289.355621, \"variable\": \"total_pod_order_vol\", \"value\": 2162745.261873}, {\"timestamp\": 1648164809, \"season\": 5509, \"total bean vol\": 1448234.697949, \"total pod listing vol\": 10937702.097924, \"total pod order vol\": 2162745.261873, \"total pod vol\": 13100447.359797, \"variable\": \"total_bean_vol\", \"value\": 1448234.697949}, {\"timestamp\": 1648164809, \"season\": 5509, \"total bean vol\": 1448234.697949, \"total pod listing vol\": 10937702.097924, \"total pod order vol\": 2162745.261873, \"total pod vol\": 13100447.359797, \"variable\": \"total_pod_vol\", \"value\": 13100447.359797}, {\"timestamp\": 1648164809, \"season\": 5509, \"total bean vol\": 1448234.697949, \"total pod listing vol\": 10937702.097924, \"total pod order vol\": 2162745.261873, \"total pod vol\": 13100447.359797, \"variable\": \"total_pod_order_vol\", \"value\": 2162745.261873}, {\"timestamp\": 1648164809, \"season\": 5509, \"total bean vol\": 1448234.697949, \"total pod listing vol\": 10937702.097924, \"total pod order vol\": 2162745.261873, \"total pod vol\": 13100447.359797, \"variable\": \"total_pod_listing_vol\", \"value\": 10937702.097924}, {\"timestamp\": 1648238848, \"season\": 5533, \"total bean vol\": 1548182.275503, \"total pod listing vol\": 11439206.70357, \"total pod order vol\": 2171783.151003, \"total pod vol\": 13610989.854573, \"variable\": \"total_pod_vol\", \"value\": 13610989.854573}, {\"timestamp\": 1648238848, \"season\": 5533, \"total bean vol\": 1548182.275503, \"total pod listing vol\": 11439206.70357, \"total pod order vol\": 2171783.151003, \"total pod vol\": 13610989.854573, \"variable\": \"total_pod_order_vol\", \"value\": 2171783.151003}, {\"timestamp\": 1648238848, \"season\": 5533, \"total bean vol\": 1548182.275503, \"total pod listing vol\": 11439206.70357, \"total pod order vol\": 2171783.151003, \"total pod vol\": 13610989.854573, \"variable\": \"total_bean_vol\", \"value\": 1548182.275503}, {\"timestamp\": 1648238848, \"season\": 5533, \"total bean vol\": 1548182.275503, \"total pod listing vol\": 11439206.70357, \"total pod order vol\": 2171783.151003, \"total pod vol\": 13610989.854573, \"variable\": \"total_pod_listing_vol\", \"value\": 11439206.70357}, {\"timestamp\": 1648336763, \"season\": 5557, \"total bean vol\": 1598387.633989, \"total pod listing vol\": 12058582.051629, \"total pod order vol\": 2181959.119836, \"total pod vol\": 14240541.171465, \"variable\": \"total_pod_vol\", \"value\": 14240541.171465}, {\"timestamp\": 1648336763, \"season\": 5557, \"total bean vol\": 1598387.633989, \"total pod listing vol\": 12058582.051629, \"total pod order vol\": 2181959.119836, \"total pod vol\": 14240541.171465, \"variable\": \"total_pod_listing_vol\", \"value\": 12058582.051629}, {\"timestamp\": 1648336763, \"season\": 5557, \"total bean vol\": 1598387.633989, \"total pod listing vol\": 12058582.051629, \"total pod order vol\": 2181959.119836, \"total pod vol\": 14240541.171465, \"variable\": \"total_bean_vol\", \"value\": 1598387.633989}, {\"timestamp\": 1648336763, \"season\": 5557, \"total bean vol\": 1598387.633989, \"total pod listing vol\": 12058582.051629, \"total pod order vol\": 2181959.119836, \"total pod vol\": 14240541.171465, \"variable\": \"total_pod_order_vol\", \"value\": 2181959.119836}, {\"timestamp\": 1648422931, \"season\": 5581, \"total bean vol\": 1707133.891141, \"total pod listing vol\": 12234567.125877, \"total pod order vol\": 2337763.856509, \"total pod vol\": 14572330.982386, \"variable\": \"total_bean_vol\", \"value\": 1707133.891141}, {\"timestamp\": 1648422931, \"season\": 5581, \"total bean vol\": 1707133.891141, \"total pod listing vol\": 12234567.125877, \"total pod order vol\": 2337763.856509, \"total pod vol\": 14572330.982386, \"variable\": \"total_pod_vol\", \"value\": 14572330.982386}, {\"timestamp\": 1648422931, \"season\": 5581, \"total bean vol\": 1707133.891141, \"total pod listing vol\": 12234567.125877, \"total pod order vol\": 2337763.856509, \"total pod vol\": 14572330.982386, \"variable\": \"total_pod_order_vol\", \"value\": 2337763.856509}, {\"timestamp\": 1648422931, \"season\": 5581, \"total bean vol\": 1707133.891141, \"total pod listing vol\": 12234567.125877, \"total pod order vol\": 2337763.856509, \"total pod vol\": 14572330.982386, \"variable\": \"total_pod_listing_vol\", \"value\": 12234567.125877}, {\"timestamp\": 1648506620, \"season\": 5605, \"total bean vol\": 1717020.255751, \"total pod listing vol\": 12252077.043808, \"total pod order vol\": 2338817.073105, \"total pod vol\": 14590894.116913, \"variable\": \"total_pod_vol\", \"value\": 14590894.116913}, {\"timestamp\": 1648506620, \"season\": 5605, \"total bean vol\": 1717020.255751, \"total pod listing vol\": 12252077.043808, \"total pod order vol\": 2338817.073105, \"total pod vol\": 14590894.116913, \"variable\": \"total_pod_order_vol\", \"value\": 2338817.073105}, {\"timestamp\": 1648506620, \"season\": 5605, \"total bean vol\": 1717020.255751, \"total pod listing vol\": 12252077.043808, \"total pod order vol\": 2338817.073105, \"total pod vol\": 14590894.116913, \"variable\": \"total_bean_vol\", \"value\": 1717020.255751}, {\"timestamp\": 1648506620, \"season\": 5605, \"total bean vol\": 1717020.255751, \"total pod listing vol\": 12252077.043808, \"total pod order vol\": 2338817.073105, \"total pod vol\": 14590894.116913, \"variable\": \"total_pod_listing_vol\", \"value\": 12252077.043808}, {\"timestamp\": 1648596738, \"season\": 5629, \"total bean vol\": 1724131.087095, \"total pod listing vol\": 12463341.499955, \"total pod order vol\": 2338817.073105, \"total pod vol\": 14802158.57306, \"variable\": \"total_pod_listing_vol\", \"value\": 12463341.499955}, {\"timestamp\": 1648596738, \"season\": 5629, \"total bean vol\": 1724131.087095, \"total pod listing vol\": 12463341.499955, \"total pod order vol\": 2338817.073105, \"total pod vol\": 14802158.57306, \"variable\": \"total_pod_order_vol\", \"value\": 2338817.073105}, {\"timestamp\": 1648596738, \"season\": 5629, \"total bean vol\": 1724131.087095, \"total pod listing vol\": 12463341.499955, \"total pod order vol\": 2338817.073105, \"total pod vol\": 14802158.57306, \"variable\": \"total_pod_vol\", \"value\": 14802158.57306}, {\"timestamp\": 1648596738, \"season\": 5629, \"total bean vol\": 1724131.087095, \"total pod listing vol\": 12463341.499955, \"total pod order vol\": 2338817.073105, \"total pod vol\": 14802158.57306, \"variable\": \"total_bean_vol\", \"value\": 1724131.087095}, {\"timestamp\": 1648679058, \"season\": 5653, \"total bean vol\": 1766596.466683, \"total pod listing vol\": 12787830.030649, \"total pod order vol\": 2338817.073105, \"total pod vol\": 15126647.103754, \"variable\": \"total_pod_listing_vol\", \"value\": 12787830.030649}, {\"timestamp\": 1648679058, \"season\": 5653, \"total bean vol\": 1766596.466683, \"total pod listing vol\": 12787830.030649, \"total pod order vol\": 2338817.073105, \"total pod vol\": 15126647.103754, \"variable\": \"total_pod_order_vol\", \"value\": 2338817.073105}, {\"timestamp\": 1648679058, \"season\": 5653, \"total bean vol\": 1766596.466683, \"total pod listing vol\": 12787830.030649, \"total pod order vol\": 2338817.073105, \"total pod vol\": 15126647.103754, \"variable\": \"total_pod_vol\", \"value\": 15126647.103754}, {\"timestamp\": 1648679058, \"season\": 5653, \"total bean vol\": 1766596.466683, \"total pod listing vol\": 12787830.030649, \"total pod order vol\": 2338817.073105, \"total pod vol\": 15126647.103754, \"variable\": \"total_bean_vol\", \"value\": 1766596.466683}, {\"timestamp\": 1648762581, \"season\": 5677, \"total bean vol\": 1784787.474437, \"total pod listing vol\": 12882564.599452, \"total pod order vol\": 2338817.073105, \"total pod vol\": 15221381.672557, \"variable\": \"total_bean_vol\", \"value\": 1784787.474437}, {\"timestamp\": 1648762581, \"season\": 5677, \"total bean vol\": 1784787.474437, \"total pod listing vol\": 12882564.599452, \"total pod order vol\": 2338817.073105, \"total pod vol\": 15221381.672557, \"variable\": \"total_pod_listing_vol\", \"value\": 12882564.599452}, {\"timestamp\": 1648762581, \"season\": 5677, \"total bean vol\": 1784787.474437, \"total pod listing vol\": 12882564.599452, \"total pod order vol\": 2338817.073105, \"total pod vol\": 15221381.672557, \"variable\": \"total_pod_vol\", \"value\": 15221381.672557}, {\"timestamp\": 1648762581, \"season\": 5677, \"total bean vol\": 1784787.474437, \"total pod listing vol\": 12882564.599452, \"total pod order vol\": 2338817.073105, \"total pod vol\": 15221381.672557, \"variable\": \"total_pod_order_vol\", \"value\": 2338817.073105}, {\"timestamp\": 1648855676, \"season\": 5701, \"total bean vol\": 1799281.026908, \"total pod listing vol\": 13033401.919454, \"total pod order vol\": 2347290.22673, \"total pod vol\": 15380692.146184, \"variable\": \"total_pod_vol\", \"value\": 15380692.146184}, {\"timestamp\": 1648855676, \"season\": 5701, \"total bean vol\": 1799281.026908, \"total pod listing vol\": 13033401.919454, \"total pod order vol\": 2347290.22673, \"total pod vol\": 15380692.146184, \"variable\": \"total_pod_listing_vol\", \"value\": 13033401.919454}, {\"timestamp\": 1648855676, \"season\": 5701, \"total bean vol\": 1799281.026908, \"total pod listing vol\": 13033401.919454, \"total pod order vol\": 2347290.22673, \"total pod vol\": 15380692.146184, \"variable\": \"total_bean_vol\", \"value\": 1799281.026908}, {\"timestamp\": 1648855676, \"season\": 5701, \"total bean vol\": 1799281.026908, \"total pod listing vol\": 13033401.919454, \"total pod order vol\": 2347290.22673, \"total pod vol\": 15380692.146184, \"variable\": \"total_pod_order_vol\", \"value\": 2347290.22673}, {\"timestamp\": 1648938471, \"season\": 5725, \"total bean vol\": 1830125.481168, \"total pod listing vol\": 13207190.7293, \"total pod order vol\": 2349002.45642, \"total pod vol\": 15556193.18572, \"variable\": \"total_pod_vol\", \"value\": 15556193.18572}, {\"timestamp\": 1648938471, \"season\": 5725, \"total bean vol\": 1830125.481168, \"total pod listing vol\": 13207190.7293, \"total pod order vol\": 2349002.45642, \"total pod vol\": 15556193.18572, \"variable\": \"total_pod_order_vol\", \"value\": 2349002.45642}, {\"timestamp\": 1648938471, \"season\": 5725, \"total bean vol\": 1830125.481168, \"total pod listing vol\": 13207190.7293, \"total pod order vol\": 2349002.45642, \"total pod vol\": 15556193.18572, \"variable\": \"total_pod_listing_vol\", \"value\": 13207190.7293}, {\"timestamp\": 1648938471, \"season\": 5725, \"total bean vol\": 1830125.481168, \"total pod listing vol\": 13207190.7293, \"total pod order vol\": 2349002.45642, \"total pod vol\": 15556193.18572, \"variable\": \"total_bean_vol\", \"value\": 1830125.481168}, {\"timestamp\": 1649025806, \"season\": 5749, \"total bean vol\": 1843517.4616, \"total pod listing vol\": 13323910.753581, \"total pod order vol\": 2349412.190742, \"total pod vol\": 15673322.944323, \"variable\": \"total_pod_vol\", \"value\": 15673322.944323}, {\"timestamp\": 1649025806, \"season\": 5749, \"total bean vol\": 1843517.4616, \"total pod listing vol\": 13323910.753581, \"total pod order vol\": 2349412.190742, \"total pod vol\": 15673322.944323, \"variable\": \"total_pod_listing_vol\", \"value\": 13323910.753581}, {\"timestamp\": 1649025806, \"season\": 5749, \"total bean vol\": 1843517.4616, \"total pod listing vol\": 13323910.753581, \"total pod order vol\": 2349412.190742, \"total pod vol\": 15673322.944323, \"variable\": \"total_pod_order_vol\", \"value\": 2349412.190742}, {\"timestamp\": 1649025806, \"season\": 5749, \"total bean vol\": 1843517.4616, \"total pod listing vol\": 13323910.753581, \"total pod order vol\": 2349412.190742, \"total pod vol\": 15673322.944323, \"variable\": \"total_bean_vol\", \"value\": 1843517.4616}, {\"timestamp\": 1649108684, \"season\": 5773, \"total bean vol\": 1938637.008438, \"total pod listing vol\": 13559555.190347, \"total pod order vol\": 2369412.190742, \"total pod vol\": 15928967.381089, \"variable\": \"total_pod_vol\", \"value\": 15928967.381089}, {\"timestamp\": 1649108684, \"season\": 5773, \"total bean vol\": 1938637.008438, \"total pod listing vol\": 13559555.190347, \"total pod order vol\": 2369412.190742, \"total pod vol\": 15928967.381089, \"variable\": \"total_pod_listing_vol\", \"value\": 13559555.190347}, {\"timestamp\": 1649108684, \"season\": 5773, \"total bean vol\": 1938637.008438, \"total pod listing vol\": 13559555.190347, \"total pod order vol\": 2369412.190742, \"total pod vol\": 15928967.381089, \"variable\": \"total_pod_order_vol\", \"value\": 2369412.190742}, {\"timestamp\": 1649108684, \"season\": 5773, \"total bean vol\": 1938637.008438, \"total pod listing vol\": 13559555.190347, \"total pod order vol\": 2369412.190742, \"total pod vol\": 15928967.381089, \"variable\": \"total_bean_vol\", \"value\": 1938637.008438}, {\"timestamp\": 1649200488, \"season\": 5797, \"total bean vol\": 1969733.26451, \"total pod listing vol\": 13795715.296446, \"total pod order vol\": 2369412.190742, \"total pod vol\": 16165127.487188, \"variable\": \"total_bean_vol\", \"value\": 1969733.26451}, {\"timestamp\": 1649200488, \"season\": 5797, \"total bean vol\": 1969733.26451, \"total pod listing vol\": 13795715.296446, \"total pod order vol\": 2369412.190742, \"total pod vol\": 16165127.487188, \"variable\": \"total_pod_order_vol\", \"value\": 2369412.190742}, {\"timestamp\": 1649200488, \"season\": 5797, \"total bean vol\": 1969733.26451, \"total pod listing vol\": 13795715.296446, \"total pod order vol\": 2369412.190742, \"total pod vol\": 16165127.487188, \"variable\": \"total_pod_vol\", \"value\": 16165127.487188}, {\"timestamp\": 1649200488, \"season\": 5797, \"total bean vol\": 1969733.26451, \"total pod listing vol\": 13795715.296446, \"total pod order vol\": 2369412.190742, \"total pod vol\": 16165127.487188, \"variable\": \"total_pod_listing_vol\", \"value\": 13795715.296446}, {\"timestamp\": 1649286221, \"season\": 5821, \"total bean vol\": 2002868.603232, \"total pod listing vol\": 14074805.550379, \"total pod order vol\": 2369412.190742, \"total pod vol\": 16444217.741121, \"variable\": \"total_pod_listing_vol\", \"value\": 14074805.550379}, {\"timestamp\": 1649286221, \"season\": 5821, \"total bean vol\": 2002868.603232, \"total pod listing vol\": 14074805.550379, \"total pod order vol\": 2369412.190742, \"total pod vol\": 16444217.741121, \"variable\": \"total_pod_order_vol\", \"value\": 2369412.190742}, {\"timestamp\": 1649286221, \"season\": 5821, \"total bean vol\": 2002868.603232, \"total pod listing vol\": 14074805.550379, \"total pod order vol\": 2369412.190742, \"total pod vol\": 16444217.741121, \"variable\": \"total_pod_vol\", \"value\": 16444217.741121}, {\"timestamp\": 1649286221, \"season\": 5821, \"total bean vol\": 2002868.603232, \"total pod listing vol\": 14074805.550379, \"total pod order vol\": 2369412.190742, \"total pod vol\": 16444217.741121, \"variable\": \"total_bean_vol\", \"value\": 2002868.603232}, {\"timestamp\": 1649369674, \"season\": 5845, \"total bean vol\": 2044915.881574, \"total pod listing vol\": 14310063.076692, \"total pod order vol\": 2459412.190742, \"total pod vol\": 16769475.267434, \"variable\": \"total_pod_vol\", \"value\": 16769475.267434}, {\"timestamp\": 1649369674, \"season\": 5845, \"total bean vol\": 2044915.881574, \"total pod listing vol\": 14310063.076692, \"total pod order vol\": 2459412.190742, \"total pod vol\": 16769475.267434, \"variable\": \"total_pod_listing_vol\", \"value\": 14310063.076692}, {\"timestamp\": 1649369674, \"season\": 5845, \"total bean vol\": 2044915.881574, \"total pod listing vol\": 14310063.076692, \"total pod order vol\": 2459412.190742, \"total pod vol\": 16769475.267434, \"variable\": \"total_bean_vol\", \"value\": 2044915.881574}, {\"timestamp\": 1649369674, \"season\": 5845, \"total bean vol\": 2044915.881574, \"total pod listing vol\": 14310063.076692, \"total pod order vol\": 2459412.190742, \"total pod vol\": 16769475.267434, \"variable\": \"total_pod_order_vol\", \"value\": 2459412.190742}, {\"timestamp\": 1649458541, \"season\": 5869, \"total bean vol\": 2061971.588237, \"total pod listing vol\": 14404836.401523, \"total pod order vol\": 2459412.190742, \"total pod vol\": 16864248.592265, \"variable\": \"total_pod_order_vol\", \"value\": 2459412.190742}, {\"timestamp\": 1649458541, \"season\": 5869, \"total bean vol\": 2061971.588237, \"total pod listing vol\": 14404836.401523, \"total pod order vol\": 2459412.190742, \"total pod vol\": 16864248.592265, \"variable\": \"total_pod_vol\", \"value\": 16864248.592265}, {\"timestamp\": 1649458541, \"season\": 5869, \"total bean vol\": 2061971.588237, \"total pod listing vol\": 14404836.401523, \"total pod order vol\": 2459412.190742, \"total pod vol\": 16864248.592265, \"variable\": \"total_pod_listing_vol\", \"value\": 14404836.401523}, {\"timestamp\": 1649458541, \"season\": 5869, \"total bean vol\": 2061971.588237, \"total pod listing vol\": 14404836.401523, \"total pod order vol\": 2459412.190742, \"total pod vol\": 16864248.592265, \"variable\": \"total_bean_vol\", \"value\": 2061971.588237}, {\"timestamp\": 1649548582, \"season\": 5893, \"total bean vol\": 2118132.603853, \"total pod listing vol\": 14740685.914775, \"total pod order vol\": 2521068.219765, \"total pod vol\": 17261754.13454, \"variable\": \"total_pod_vol\", \"value\": 17261754.13454}, {\"timestamp\": 1649548582, \"season\": 5893, \"total bean vol\": 2118132.603853, \"total pod listing vol\": 14740685.914775, \"total pod order vol\": 2521068.219765, \"total pod vol\": 17261754.13454, \"variable\": \"total_bean_vol\", \"value\": 2118132.603853}, {\"timestamp\": 1649548582, \"season\": 5893, \"total bean vol\": 2118132.603853, \"total pod listing vol\": 14740685.914775, \"total pod order vol\": 2521068.219765, \"total pod vol\": 17261754.13454, \"variable\": \"total_pod_listing_vol\", \"value\": 14740685.914775}, {\"timestamp\": 1649548582, \"season\": 5893, \"total bean vol\": 2118132.603853, \"total pod listing vol\": 14740685.914775, \"total pod order vol\": 2521068.219765, \"total pod vol\": 17261754.13454, \"variable\": \"total_pod_order_vol\", \"value\": 2521068.219765}, {\"timestamp\": 1649631954, \"season\": 5917, \"total bean vol\": 2188106.301855, \"total pod listing vol\": 14971836.040466, \"total pod order vol\": 2531166.357637, \"total pod vol\": 17503002.398103, \"variable\": \"total_bean_vol\", \"value\": 2188106.301855}, {\"timestamp\": 1649631954, \"season\": 5917, \"total bean vol\": 2188106.301855, \"total pod listing vol\": 14971836.040466, \"total pod order vol\": 2531166.357637, \"total pod vol\": 17503002.398103, \"variable\": \"total_pod_vol\", \"value\": 17503002.398103}, {\"timestamp\": 1649631954, \"season\": 5917, \"total bean vol\": 2188106.301855, \"total pod listing vol\": 14971836.040466, \"total pod order vol\": 2531166.357637, \"total pod vol\": 17503002.398103, \"variable\": \"total_pod_order_vol\", \"value\": 2531166.357637}, {\"timestamp\": 1649631954, \"season\": 5917, \"total bean vol\": 2188106.301855, \"total pod listing vol\": 14971836.040466, \"total pod order vol\": 2531166.357637, \"total pod vol\": 17503002.398103, \"variable\": \"total_pod_listing_vol\", \"value\": 14971836.040466}, {\"timestamp\": 1649717208, \"season\": 5941, \"total bean vol\": 2350296.889243, \"total pod listing vol\": 15963434.629309, \"total pod order vol\": 2577056.235948, \"total pod vol\": 18540490.865257, \"variable\": \"total_pod_order_vol\", \"value\": 2577056.235948}, {\"timestamp\": 1649717208, \"season\": 5941, \"total bean vol\": 2350296.889243, \"total pod listing vol\": 15963434.629309, \"total pod order vol\": 2577056.235948, \"total pod vol\": 18540490.865257, \"variable\": \"total_pod_listing_vol\", \"value\": 15963434.629309}, {\"timestamp\": 1649717208, \"season\": 5941, \"total bean vol\": 2350296.889243, \"total pod listing vol\": 15963434.629309, \"total pod order vol\": 2577056.235948, \"total pod vol\": 18540490.865257, \"variable\": \"total_pod_vol\", \"value\": 18540490.865257}, {\"timestamp\": 1649717208, \"season\": 5941, \"total bean vol\": 2350296.889243, \"total pod listing vol\": 15963434.629309, \"total pod order vol\": 2577056.235948, \"total pod vol\": 18540490.865257, \"variable\": \"total_bean_vol\", \"value\": 2350296.889243}, {\"timestamp\": 1649807279, \"season\": 5965, \"total bean vol\": 3188208.066007, \"total pod listing vol\": 19783922.212272, \"total pod order vol\": 2654243.776766, \"total pod vol\": 22438165.989038, \"variable\": \"total_bean_vol\", \"value\": 3188208.066007}, {\"timestamp\": 1649807279, \"season\": 5965, \"total bean vol\": 3188208.066007, \"total pod listing vol\": 19783922.212272, \"total pod order vol\": 2654243.776766, \"total pod vol\": 22438165.989038, \"variable\": \"total_pod_order_vol\", \"value\": 2654243.776766}, {\"timestamp\": 1649807279, \"season\": 5965, \"total bean vol\": 3188208.066007, \"total pod listing vol\": 19783922.212272, \"total pod order vol\": 2654243.776766, \"total pod vol\": 22438165.989038, \"variable\": \"total_pod_listing_vol\", \"value\": 19783922.212272}, {\"timestamp\": 1649807279, \"season\": 5965, \"total bean vol\": 3188208.066007, \"total pod listing vol\": 19783922.212272, \"total pod order vol\": 2654243.776766, \"total pod vol\": 22438165.989038, \"variable\": \"total_pod_vol\", \"value\": 22438165.989038}, {\"timestamp\": 1649894381, \"season\": 5989, \"total bean vol\": 3613255.888256, \"total pod listing vol\": 23130227.433895, \"total pod order vol\": 2655105.086016, \"total pod vol\": 25785332.519911, \"variable\": \"total_bean_vol\", \"value\": 3613255.888256}, {\"timestamp\": 1649894381, \"season\": 5989, \"total bean vol\": 3613255.888256, \"total pod listing vol\": 23130227.433895, \"total pod order vol\": 2655105.086016, \"total pod vol\": 25785332.519911, \"variable\": \"total_pod_order_vol\", \"value\": 2655105.086016}, {\"timestamp\": 1649894381, \"season\": 5989, \"total bean vol\": 3613255.888256, \"total pod listing vol\": 23130227.433895, \"total pod order vol\": 2655105.086016, \"total pod vol\": 25785332.519911, \"variable\": \"total_pod_listing_vol\", \"value\": 23130227.433895}, {\"timestamp\": 1649894381, \"season\": 5989, \"total bean vol\": 3613255.888256, \"total pod listing vol\": 23130227.433895, \"total pod order vol\": 2655105.086016, \"total pod vol\": 25785332.519911, \"variable\": \"total_pod_vol\", \"value\": 25785332.519911}, {\"timestamp\": 1649980287, \"season\": 6013, \"total bean vol\": 4106143.870939, \"total pod listing vol\": 26180153.152342, \"total pod order vol\": 2828133.005571, \"total pod vol\": 29008286.157913, \"variable\": \"total_bean_vol\", \"value\": 4106143.870939}, {\"timestamp\": 1649980287, \"season\": 6013, \"total bean vol\": 4106143.870939, \"total pod listing vol\": 26180153.152342, \"total pod order vol\": 2828133.005571, \"total pod vol\": 29008286.157913, \"variable\": \"total_pod_order_vol\", \"value\": 2828133.005571}, {\"timestamp\": 1649980287, \"season\": 6013, \"total bean vol\": 4106143.870939, \"total pod listing vol\": 26180153.152342, \"total pod order vol\": 2828133.005571, \"total pod vol\": 29008286.157913, \"variable\": \"total_pod_listing_vol\", \"value\": 26180153.152342}, {\"timestamp\": 1649980287, \"season\": 6013, \"total bean vol\": 4106143.870939, \"total pod listing vol\": 26180153.152342, \"total pod order vol\": 2828133.005571, \"total pod vol\": 29008286.157913, \"variable\": \"total_pod_vol\", \"value\": 29008286.157913}, {\"timestamp\": 1650060286, \"season\": 6037, \"total bean vol\": 4528005.203248, \"total pod listing vol\": 30255895.358546, \"total pod order vol\": 4498024.897462, \"total pod vol\": 34753920.256008, \"variable\": \"total_bean_vol\", \"value\": 4528005.203248}, {\"timestamp\": 1650060286, \"season\": 6037, \"total bean vol\": 4528005.203248, \"total pod listing vol\": 30255895.358546, \"total pod order vol\": 4498024.897462, \"total pod vol\": 34753920.256008, \"variable\": \"total_pod_listing_vol\", \"value\": 30255895.358546}, {\"timestamp\": 1650060286, \"season\": 6037, \"total bean vol\": 4528005.203248, \"total pod listing vol\": 30255895.358546, \"total pod order vol\": 4498024.897462, \"total pod vol\": 34753920.256008, \"variable\": \"total_pod_order_vol\", \"value\": 4498024.897462}, {\"timestamp\": 1650060286, \"season\": 6037, \"total bean vol\": 4528005.203248, \"total pod listing vol\": 30255895.358546, \"total pod order vol\": 4498024.897462, \"total pod vol\": 34753920.256008, \"variable\": \"total_pod_vol\", \"value\": 34753920.256008}, {\"timestamp\": 1650153489, \"season\": 6061, \"total bean vol\": 5088424.313178, \"total pod listing vol\": 34725128.948987, \"total pod order vol\": 4501396.092105, \"total pod vol\": 39226525.041092, \"variable\": \"total_pod_vol\", \"value\": 39226525.041092}, {\"timestamp\": 1650153489, \"season\": 6061, \"total bean vol\": 5088424.313178, \"total pod listing vol\": 34725128.948987, \"total pod order vol\": 4501396.092105, \"total pod vol\": 39226525.041092, \"variable\": \"total_pod_listing_vol\", \"value\": 34725128.948987}, {\"timestamp\": 1650153489, \"season\": 6061, \"total bean vol\": 5088424.313178, \"total pod listing vol\": 34725128.948987, \"total pod order vol\": 4501396.092105, \"total pod vol\": 39226525.041092, \"variable\": \"total_pod_order_vol\", \"value\": 4501396.092105}, {\"timestamp\": 1650153489, \"season\": 6061, \"total bean vol\": 5088424.313178, \"total pod listing vol\": 34725128.948987, \"total pod order vol\": 4501396.092105, \"total pod vol\": 39226525.041092, \"variable\": \"total_bean_vol\", \"value\": 5088424.313178}, {\"timestamp\": 1659732794, \"season\": 6074, \"total bean vol\": 5617403.67668, \"total pod listing vol\": 36734580.012437, \"total pod order vol\": 6612844.586573, \"total pod vol\": 43347424.59901, \"variable\": \"total_pod_listing_vol\", \"value\": 36734580.012437}, {\"timestamp\": 1650200689, \"season\": 6074, \"total bean vol\": 5617151.722674, \"total pod listing vol\": 36726401.595964, \"total pod order vol\": 6612844.586573, \"total pod vol\": 43339246.182537, \"variable\": \"total_bean_vol\", \"value\": 5617151.722674}, {\"timestamp\": 1659732794, \"season\": 6074, \"total bean vol\": 5617403.67668, \"total pod listing vol\": 36734580.012437, \"total pod order vol\": 6612844.586573, \"total pod vol\": 43347424.59901, \"variable\": \"total_pod_vol\", \"value\": 43347424.59901}, {\"timestamp\": 1659732794, \"season\": 6074, \"total bean vol\": 5617403.67668, \"total pod listing vol\": 36734580.012437, \"total pod order vol\": 6612844.586573, \"total pod vol\": 43347424.59901, \"variable\": \"total_pod_order_vol\", \"value\": 6612844.586573}, {\"timestamp\": 1659823504, \"season\": 6081, \"total bean vol\": 5617946.423243, \"total pod listing vol\": 36743322.824056, \"total pod order vol\": 6612844.586573, \"total pod vol\": 43356167.410629, \"variable\": \"total_pod_listing_vol\", \"value\": 36743322.824056}, {\"timestamp\": 1659823504, \"season\": 6081, \"total bean vol\": 5617946.423243, \"total pod listing vol\": 36743322.824056, \"total pod order vol\": 6612844.586573, \"total pod vol\": 43356167.410629, \"variable\": \"total_pod_order_vol\", \"value\": 6612844.586573}, {\"timestamp\": 1659823504, \"season\": 6081, \"total bean vol\": 5617946.423243, \"total pod listing vol\": 36743322.824056, \"total pod order vol\": 6612844.586573, \"total pod vol\": 43356167.410629, \"variable\": \"total_pod_vol\", \"value\": 43356167.410629}, {\"timestamp\": 1659823504, \"season\": 6081, \"total bean vol\": 5617946.423243, \"total pod listing vol\": 36743322.824056, \"total pod order vol\": 6612844.586573, \"total pod vol\": 43356167.410629, \"variable\": \"total_bean_vol\", \"value\": 5617946.423243}, {\"timestamp\": 1659916555, \"season\": 6105, \"total bean vol\": 5724444.203929, \"total pod listing vol\": 37819221.832261, \"total pod order vol\": 6660227.89123, \"total pod vol\": 44479449.723491, \"variable\": \"total_pod_vol\", \"value\": 44479449.723491}, {\"timestamp\": 1659916555, \"season\": 6105, \"total bean vol\": 5724444.203929, \"total pod listing vol\": 37819221.832261, \"total pod order vol\": 6660227.89123, \"total pod vol\": 44479449.723491, \"variable\": \"total_bean_vol\", \"value\": 5724444.203929}, {\"timestamp\": 1659916555, \"season\": 6105, \"total bean vol\": 5724444.203929, \"total pod listing vol\": 37819221.832261, \"total pod order vol\": 6660227.89123, \"total pod vol\": 44479449.723491, \"variable\": \"total_pod_listing_vol\", \"value\": 37819221.832261}, {\"timestamp\": 1659916555, \"season\": 6105, \"total bean vol\": 5724444.203929, \"total pod listing vol\": 37819221.832261, \"total pod order vol\": 6660227.89123, \"total pod vol\": 44479449.723491, \"variable\": \"total_pod_order_vol\", \"value\": 6660227.89123}, {\"timestamp\": 1660002151, \"season\": 6129, \"total bean vol\": 5740915.615051, \"total pod listing vol\": 38017090.883594, \"total pod order vol\": 6760227.89123, \"total pod vol\": 44777318.774824, \"variable\": \"total_pod_vol\", \"value\": 44777318.774824}, {\"timestamp\": 1660002151, \"season\": 6129, \"total bean vol\": 5740915.615051, \"total pod listing vol\": 38017090.883594, \"total pod order vol\": 6760227.89123, \"total pod vol\": 44777318.774824, \"variable\": \"total_bean_vol\", \"value\": 5740915.615051}, {\"timestamp\": 1660002151, \"season\": 6129, \"total bean vol\": 5740915.615051, \"total pod listing vol\": 38017090.883594, \"total pod order vol\": 6760227.89123, \"total pod vol\": 44777318.774824, \"variable\": \"total_pod_listing_vol\", \"value\": 38017090.883594}, {\"timestamp\": 1660002151, \"season\": 6129, \"total bean vol\": 5740915.615051, \"total pod listing vol\": 38017090.883594, \"total pod order vol\": 6760227.89123, \"total pod vol\": 44777318.774824, \"variable\": \"total_pod_order_vol\", \"value\": 6760227.89123}, {\"timestamp\": 1660082615, \"season\": 6153, \"total bean vol\": 5764628.838297, \"total pod listing vol\": 38370466.500347, \"total pod order vol\": 6760227.89123, \"total pod vol\": 45130694.391577, \"variable\": \"total_pod_order_vol\", \"value\": 6760227.89123}, {\"timestamp\": 1660082615, \"season\": 6153, \"total bean vol\": 5764628.838297, \"total pod listing vol\": 38370466.500347, \"total pod order vol\": 6760227.89123, \"total pod vol\": 45130694.391577, \"variable\": \"total_pod_vol\", \"value\": 45130694.391577}, {\"timestamp\": 1660082615, \"season\": 6153, \"total bean vol\": 5764628.838297, \"total pod listing vol\": 38370466.500347, \"total pod order vol\": 6760227.89123, \"total pod vol\": 45130694.391577, \"variable\": \"total_pod_listing_vol\", \"value\": 38370466.500347}, {\"timestamp\": 1660082615, \"season\": 6153, \"total bean vol\": 5764628.838297, \"total pod listing vol\": 38370466.500347, \"total pod order vol\": 6760227.89123, \"total pod vol\": 45130694.391577, \"variable\": \"total_bean_vol\", \"value\": 5764628.838297}, {\"timestamp\": 1660164012, \"season\": 6177, \"total bean vol\": 5775029.882493, \"total pod listing vol\": 38472678.154532, \"total pod order vol\": 6760227.89123, \"total pod vol\": 45232906.045762, \"variable\": \"total_pod_order_vol\", \"value\": 6760227.89123}, {\"timestamp\": 1660164012, \"season\": 6177, \"total bean vol\": 5775029.882493, \"total pod listing vol\": 38472678.154532, \"total pod order vol\": 6760227.89123, \"total pod vol\": 45232906.045762, \"variable\": \"total_pod_listing_vol\", \"value\": 38472678.154532}, {\"timestamp\": 1660164012, \"season\": 6177, \"total bean vol\": 5775029.882493, \"total pod listing vol\": 38472678.154532, \"total pod order vol\": 6760227.89123, \"total pod vol\": 45232906.045762, \"variable\": \"total_bean_vol\", \"value\": 5775029.882493}, {\"timestamp\": 1660164012, \"season\": 6177, \"total bean vol\": 5775029.882493, \"total pod listing vol\": 38472678.154532, \"total pod order vol\": 6760227.89123, \"total pod vol\": 45232906.045762, \"variable\": \"total_pod_vol\", \"value\": 45232906.045762}, {\"timestamp\": 1660230442, \"season\": 6201, \"total bean vol\": 5775908.494575, \"total pod listing vol\": 38504134.101695, \"total pod order vol\": 6760227.89123, \"total pod vol\": 45264361.992925, \"variable\": \"total_pod_order_vol\", \"value\": 6760227.89123}, {\"timestamp\": 1660230442, \"season\": 6201, \"total bean vol\": 5775908.494575, \"total pod listing vol\": 38504134.101695, \"total pod order vol\": 6760227.89123, \"total pod vol\": 45264361.992925, \"variable\": \"total_pod_listing_vol\", \"value\": 38504134.101695}, {\"timestamp\": 1660230442, \"season\": 6201, \"total bean vol\": 5775908.494575, \"total pod listing vol\": 38504134.101695, \"total pod order vol\": 6760227.89123, \"total pod vol\": 45264361.992925, \"variable\": \"total_bean_vol\", \"value\": 5775908.494575}, {\"timestamp\": 1660230442, \"season\": 6201, \"total bean vol\": 5775908.494575, \"total pod listing vol\": 38504134.101695, \"total pod order vol\": 6760227.89123, \"total pod vol\": 45264361.992925, \"variable\": \"total_pod_vol\", \"value\": 45264361.992925}, {\"timestamp\": 1660338905, \"season\": 6225, \"total bean vol\": 5777847.559092, \"total pod listing vol\": 38524497.88974, \"total pod order vol\": 6760227.89123, \"total pod vol\": 45284725.78097, \"variable\": \"total_pod_order_vol\", \"value\": 6760227.89123}, {\"timestamp\": 1660338905, \"season\": 6225, \"total bean vol\": 5777847.559092, \"total pod listing vol\": 38524497.88974, \"total pod order vol\": 6760227.89123, \"total pod vol\": 45284725.78097, \"variable\": \"total_pod_listing_vol\", \"value\": 38524497.88974}, {\"timestamp\": 1660338905, \"season\": 6225, \"total bean vol\": 5777847.559092, \"total pod listing vol\": 38524497.88974, \"total pod order vol\": 6760227.89123, \"total pod vol\": 45284725.78097, \"variable\": \"total_pod_vol\", \"value\": 45284725.78097}, {\"timestamp\": 1660338905, \"season\": 6225, \"total bean vol\": 5777847.559092, \"total pod listing vol\": 38524497.88974, \"total pod order vol\": 6760227.89123, \"total pod vol\": 45284725.78097, \"variable\": \"total_bean_vol\", \"value\": 5777847.559092}, {\"timestamp\": 1660419785, \"season\": 6249, \"total bean vol\": 5792660.378526, \"total pod listing vol\": 38544497.88974, \"total pod order vol\": 6891065.483696, \"total pod vol\": 45435563.373436, \"variable\": \"total_bean_vol\", \"value\": 5792660.378526}, {\"timestamp\": 1660419785, \"season\": 6249, \"total bean vol\": 5792660.378526, \"total pod listing vol\": 38544497.88974, \"total pod order vol\": 6891065.483696, \"total pod vol\": 45435563.373436, \"variable\": \"total_pod_order_vol\", \"value\": 6891065.483696}, {\"timestamp\": 1660419785, \"season\": 6249, \"total bean vol\": 5792660.378526, \"total pod listing vol\": 38544497.88974, \"total pod order vol\": 6891065.483696, \"total pod vol\": 45435563.373436, \"variable\": \"total_pod_vol\", \"value\": 45435563.373436}, {\"timestamp\": 1660419785, \"season\": 6249, \"total bean vol\": 5792660.378526, \"total pod listing vol\": 38544497.88974, \"total pod order vol\": 6891065.483696, \"total pod vol\": 45435563.373436, \"variable\": \"total_pod_listing_vol\", \"value\": 38544497.88974}, {\"timestamp\": 1660519632, \"season\": 6273, \"total bean vol\": 5798277.261583, \"total pod listing vol\": 38544497.88974, \"total pod order vol\": 6971306.670238, \"total pod vol\": 45515804.559978, \"variable\": \"total_bean_vol\", \"value\": 5798277.261583}, {\"timestamp\": 1660519632, \"season\": 6273, \"total bean vol\": 5798277.261583, \"total pod listing vol\": 38544497.88974, \"total pod order vol\": 6971306.670238, \"total pod vol\": 45515804.559978, \"variable\": \"total_pod_order_vol\", \"value\": 6971306.670238}, {\"timestamp\": 1660519632, \"season\": 6273, \"total bean vol\": 5798277.261583, \"total pod listing vol\": 38544497.88974, \"total pod order vol\": 6971306.670238, \"total pod vol\": 45515804.559978, \"variable\": \"total_pod_vol\", \"value\": 45515804.559978}, {\"timestamp\": 1660519632, \"season\": 6273, \"total bean vol\": 5798277.261583, \"total pod listing vol\": 38544497.88974, \"total pod order vol\": 6971306.670238, \"total pod vol\": 45515804.559978, \"variable\": \"total_pod_listing_vol\", \"value\": 38544497.88974}, {\"timestamp\": 1660596457, \"season\": 6297, \"total bean vol\": 5812134.521313, \"total pod listing vol\": 38576407.890728, \"total pod order vol\": 7505623.884586, \"total pod vol\": 46082031.775314, \"variable\": \"total_bean_vol\", \"value\": 5812134.521313}, {\"timestamp\": 1660596457, \"season\": 6297, \"total bean vol\": 5812134.521313, \"total pod listing vol\": 38576407.890728, \"total pod order vol\": 7505623.884586, \"total pod vol\": 46082031.775314, \"variable\": \"total_pod_order_vol\", \"value\": 7505623.884586}, {\"timestamp\": 1660596457, \"season\": 6297, \"total bean vol\": 5812134.521313, \"total pod listing vol\": 38576407.890728, \"total pod order vol\": 7505623.884586, \"total pod vol\": 46082031.775314, \"variable\": \"total_pod_vol\", \"value\": 46082031.775314}, {\"timestamp\": 1660596457, \"season\": 6297, \"total bean vol\": 5812134.521313, \"total pod listing vol\": 38576407.890728, \"total pod order vol\": 7505623.884586, \"total pod vol\": 46082031.775314, \"variable\": \"total_pod_listing_vol\", \"value\": 38576407.890728}, {\"timestamp\": 1660685808, \"season\": 6321, \"total bean vol\": 5815922.852199, \"total pod listing vol\": 38727941.126168, \"total pod order vol\": 7505623.884586, \"total pod vol\": 46233565.010754, \"variable\": \"total_bean_vol\", \"value\": 5815922.852199}, {\"timestamp\": 1660685808, \"season\": 6321, \"total bean vol\": 5815922.852199, \"total pod listing vol\": 38727941.126168, \"total pod order vol\": 7505623.884586, \"total pod vol\": 46233565.010754, \"variable\": \"total_pod_listing_vol\", \"value\": 38727941.126168}, {\"timestamp\": 1660685808, \"season\": 6321, \"total bean vol\": 5815922.852199, \"total pod listing vol\": 38727941.126168, \"total pod order vol\": 7505623.884586, \"total pod vol\": 46233565.010754, \"variable\": \"total_pod_vol\", \"value\": 46233565.010754}, {\"timestamp\": 1660685808, \"season\": 6321, \"total bean vol\": 5815922.852199, \"total pod listing vol\": 38727941.126168, \"total pod order vol\": 7505623.884586, \"total pod vol\": 46233565.010754, \"variable\": \"total_pod_order_vol\", \"value\": 7505623.884586}, {\"timestamp\": 1660780782, \"season\": 6345, \"total bean vol\": 5822109.594138, \"total pod listing vol\": 38754831.185449, \"total pod order vol\": 7505623.884586, \"total pod vol\": 46260455.070035, \"variable\": \"total_bean_vol\", \"value\": 5822109.594138}, {\"timestamp\": 1660780782, \"season\": 6345, \"total bean vol\": 5822109.594138, \"total pod listing vol\": 38754831.185449, \"total pod order vol\": 7505623.884586, \"total pod vol\": 46260455.070035, \"variable\": \"total_pod_listing_vol\", \"value\": 38754831.185449}, {\"timestamp\": 1660780782, \"season\": 6345, \"total bean vol\": 5822109.594138, \"total pod listing vol\": 38754831.185449, \"total pod order vol\": 7505623.884586, \"total pod vol\": 46260455.070035, \"variable\": \"total_pod_vol\", \"value\": 46260455.070035}, {\"timestamp\": 1660780782, \"season\": 6345, \"total bean vol\": 5822109.594138, \"total pod listing vol\": 38754831.185449, \"total pod order vol\": 7505623.884586, \"total pod vol\": 46260455.070035, \"variable\": \"total_pod_order_vol\", \"value\": 7505623.884586}, {\"timestamp\": 1660857251, \"season\": 6369, \"total bean vol\": 5829200.003026, \"total pod listing vol\": 38764831.185449, \"total pod order vol\": 7517130.699386, \"total pod vol\": 46281961.884835, \"variable\": \"total_pod_listing_vol\", \"value\": 38764831.185449}, {\"timestamp\": 1660857251, \"season\": 6369, \"total bean vol\": 5829200.003026, \"total pod listing vol\": 38764831.185449, \"total pod order vol\": 7517130.699386, \"total pod vol\": 46281961.884835, \"variable\": \"total_pod_order_vol\", \"value\": 7517130.699386}, {\"timestamp\": 1660857251, \"season\": 6369, \"total bean vol\": 5829200.003026, \"total pod listing vol\": 38764831.185449, \"total pod order vol\": 7517130.699386, \"total pod vol\": 46281961.884835, \"variable\": \"total_pod_vol\", \"value\": 46281961.884835}, {\"timestamp\": 1660857251, \"season\": 6369, \"total bean vol\": 5829200.003026, \"total pod listing vol\": 38764831.185449, \"total pod order vol\": 7517130.699386, \"total pod vol\": 46281961.884835, \"variable\": \"total_bean_vol\", \"value\": 5829200.003026}, {\"timestamp\": 1660934250, \"season\": 6393, \"total bean vol\": 5829719.72145, \"total pod listing vol\": 38785331.03356, \"total pod order vol\": 7517130.699386, \"total pod vol\": 46302461.732946, \"variable\": \"total_pod_listing_vol\", \"value\": 38785331.03356}, {\"timestamp\": 1660934250, \"season\": 6393, \"total bean vol\": 5829719.72145, \"total pod listing vol\": 38785331.03356, \"total pod order vol\": 7517130.699386, \"total pod vol\": 46302461.732946, \"variable\": \"total_pod_order_vol\", \"value\": 7517130.699386}, {\"timestamp\": 1660934250, \"season\": 6393, \"total bean vol\": 5829719.72145, \"total pod listing vol\": 38785331.03356, \"total pod order vol\": 7517130.699386, \"total pod vol\": 46302461.732946, \"variable\": \"total_pod_vol\", \"value\": 46302461.732946}, {\"timestamp\": 1660934250, \"season\": 6393, \"total bean vol\": 5829719.72145, \"total pod listing vol\": 38785331.03356, \"total pod order vol\": 7517130.699386, \"total pod vol\": 46302461.732946, \"variable\": \"total_bean_vol\", \"value\": 5829719.72145}, {\"timestamp\": 1661022767, \"season\": 6417, \"total bean vol\": 5831090.079125, \"total pod listing vol\": 38785647.865697, \"total pod order vol\": 7535745.565486, \"total pod vol\": 46321393.431183, \"variable\": \"total_pod_listing_vol\", \"value\": 38785647.865697}, {\"timestamp\": 1661022767, \"season\": 6417, \"total bean vol\": 5831090.079125, \"total pod listing vol\": 38785647.865697, \"total pod order vol\": 7535745.565486, \"total pod vol\": 46321393.431183, \"variable\": \"total_pod_vol\", \"value\": 46321393.431183}, {\"timestamp\": 1661022767, \"season\": 6417, \"total bean vol\": 5831090.079125, \"total pod listing vol\": 38785647.865697, \"total pod order vol\": 7535745.565486, \"total pod vol\": 46321393.431183, \"variable\": \"total_pod_order_vol\", \"value\": 7535745.565486}, {\"timestamp\": 1661022767, \"season\": 6417, \"total bean vol\": 5831090.079125, \"total pod listing vol\": 38785647.865697, \"total pod order vol\": 7535745.565486, \"total pod vol\": 46321393.431183, \"variable\": \"total_bean_vol\", \"value\": 5831090.079125}, {\"timestamp\": 1661115127, \"season\": 6441, \"total bean vol\": 5871534.658788, \"total pod listing vol\": 38797290.400573, \"total pod order vol\": 8319491.078891, \"total pod vol\": 47116781.479464, \"variable\": \"total_pod_listing_vol\", \"value\": 38797290.400573}, {\"timestamp\": 1661115127, \"season\": 6441, \"total bean vol\": 5871534.658788, \"total pod listing vol\": 38797290.400573, \"total pod order vol\": 8319491.078891, \"total pod vol\": 47116781.479464, \"variable\": \"total_pod_order_vol\", \"value\": 8319491.078891}, {\"timestamp\": 1661115127, \"season\": 6441, \"total bean vol\": 5871534.658788, \"total pod listing vol\": 38797290.400573, \"total pod order vol\": 8319491.078891, \"total pod vol\": 47116781.479464, \"variable\": \"total_pod_vol\", \"value\": 47116781.479464}, {\"timestamp\": 1661115127, \"season\": 6441, \"total bean vol\": 5871534.658788, \"total pod listing vol\": 38797290.400573, \"total pod order vol\": 8319491.078891, \"total pod vol\": 47116781.479464, \"variable\": \"total_bean_vol\", \"value\": 5871534.658788}, {\"timestamp\": 1661195739, \"season\": 6465, \"total bean vol\": 5871760.268863, \"total pod listing vol\": 38805699.948575, \"total pod order vol\": 8319491.078891, \"total pod vol\": 47125191.027466, \"variable\": \"total_pod_listing_vol\", \"value\": 38805699.948575}, {\"timestamp\": 1661195739, \"season\": 6465, \"total bean vol\": 5871760.268863, \"total pod listing vol\": 38805699.948575, \"total pod order vol\": 8319491.078891, \"total pod vol\": 47125191.027466, \"variable\": \"total_pod_vol\", \"value\": 47125191.027466}, {\"timestamp\": 1661195739, \"season\": 6465, \"total bean vol\": 5871760.268863, \"total pod listing vol\": 38805699.948575, \"total pod order vol\": 8319491.078891, \"total pod vol\": 47125191.027466, \"variable\": \"total_pod_order_vol\", \"value\": 8319491.078891}, {\"timestamp\": 1661195739, \"season\": 6465, \"total bean vol\": 5871760.268863, \"total pod listing vol\": 38805699.948575, \"total pod order vol\": 8319491.078891, \"total pod vol\": 47125191.027466, \"variable\": \"total_bean_vol\", \"value\": 5871760.268863}, {\"timestamp\": 1661292839, \"season\": 6489, \"total bean vol\": 5879123.931267, \"total pod listing vol\": 38841200.669627, \"total pod order vol\": 8328519.436816, \"total pod vol\": 47169720.106443, \"variable\": \"total_pod_order_vol\", \"value\": 8328519.436816}, {\"timestamp\": 1661292839, \"season\": 6489, \"total bean vol\": 5879123.931267, \"total pod listing vol\": 38841200.669627, \"total pod order vol\": 8328519.436816, \"total pod vol\": 47169720.106443, \"variable\": \"total_bean_vol\", \"value\": 5879123.931267}, {\"timestamp\": 1661292839, \"season\": 6489, \"total bean vol\": 5879123.931267, \"total pod listing vol\": 38841200.669627, \"total pod order vol\": 8328519.436816, \"total pod vol\": 47169720.106443, \"variable\": \"total_pod_listing_vol\", \"value\": 38841200.669627}, {\"timestamp\": 1661292839, \"season\": 6489, \"total bean vol\": 5879123.931267, \"total pod listing vol\": 38841200.669627, \"total pod order vol\": 8328519.436816, \"total pod vol\": 47169720.106443, \"variable\": \"total_pod_vol\", \"value\": 47169720.106443}, {\"timestamp\": 1661363825, \"season\": 6513, \"total bean vol\": 5890369.894268, \"total pod listing vol\": 38869527.228707, \"total pod order vol\": 8562692.748482, \"total pod vol\": 47432219.977189, \"variable\": \"total_pod_order_vol\", \"value\": 8562692.748482}, {\"timestamp\": 1661363825, \"season\": 6513, \"total bean vol\": 5890369.894268, \"total pod listing vol\": 38869527.228707, \"total pod order vol\": 8562692.748482, \"total pod vol\": 47432219.977189, \"variable\": \"total_pod_vol\", \"value\": 47432219.977189}, {\"timestamp\": 1661363825, \"season\": 6513, \"total bean vol\": 5890369.894268, \"total pod listing vol\": 38869527.228707, \"total pod order vol\": 8562692.748482, \"total pod vol\": 47432219.977189, \"variable\": \"total_bean_vol\", \"value\": 5890369.894268}, {\"timestamp\": 1661363825, \"season\": 6513, \"total bean vol\": 5890369.894268, \"total pod listing vol\": 38869527.228707, \"total pod order vol\": 8562692.748482, \"total pod vol\": 47432219.977189, \"variable\": \"total_pod_listing_vol\", \"value\": 38869527.228707}, {\"timestamp\": 1661459829, \"season\": 6537, \"total bean vol\": 5898843.737466, \"total pod listing vol\": 39197571.141752, \"total pod order vol\": 8562692.748482, \"total pod vol\": 47760263.890234, \"variable\": \"total_pod_order_vol\", \"value\": 8562692.748482}, {\"timestamp\": 1661459829, \"season\": 6537, \"total bean vol\": 5898843.737466, \"total pod listing vol\": 39197571.141752, \"total pod order vol\": 8562692.748482, \"total pod vol\": 47760263.890234, \"variable\": \"total_pod_vol\", \"value\": 47760263.890234}, {\"timestamp\": 1661459829, \"season\": 6537, \"total bean vol\": 5898843.737466, \"total pod listing vol\": 39197571.141752, \"total pod order vol\": 8562692.748482, \"total pod vol\": 47760263.890234, \"variable\": \"total_bean_vol\", \"value\": 5898843.737466}, {\"timestamp\": 1661459829, \"season\": 6537, \"total bean vol\": 5898843.737466, \"total pod listing vol\": 39197571.141752, \"total pod order vol\": 8562692.748482, \"total pod vol\": 47760263.890234, \"variable\": \"total_pod_listing_vol\", \"value\": 39197571.141752}, {\"timestamp\": 1661537799, \"season\": 6561, \"total bean vol\": 5908075.472453, \"total pod listing vol\": 39205629.570921, \"total pod order vol\": 8774468.193651, \"total pod vol\": 47980097.764572, \"variable\": \"total_pod_vol\", \"value\": 47980097.764572}, {\"timestamp\": 1661537799, \"season\": 6561, \"total bean vol\": 5908075.472453, \"total pod listing vol\": 39205629.570921, \"total pod order vol\": 8774468.193651, \"total pod vol\": 47980097.764572, \"variable\": \"total_pod_listing_vol\", \"value\": 39205629.570921}, {\"timestamp\": 1661537799, \"season\": 6561, \"total bean vol\": 5908075.472453, \"total pod listing vol\": 39205629.570921, \"total pod order vol\": 8774468.193651, \"total pod vol\": 47980097.764572, \"variable\": \"total_pod_order_vol\", \"value\": 8774468.193651}, {\"timestamp\": 1661537799, \"season\": 6561, \"total bean vol\": 5908075.472453, \"total pod listing vol\": 39205629.570921, \"total pod order vol\": 8774468.193651, \"total pod vol\": 47980097.764572, \"variable\": \"total_bean_vol\", \"value\": 5908075.472453}, {\"timestamp\": 1661638905, \"season\": 6585, \"total bean vol\": 5908075.472453, \"total pod listing vol\": 39205629.570921, \"total pod order vol\": 8774468.193651, \"total pod vol\": 47980097.764572, \"variable\": \"total_pod_vol\", \"value\": 47980097.764572}, {\"timestamp\": 1661638905, \"season\": 6585, \"total bean vol\": 5908075.472453, \"total pod listing vol\": 39205629.570921, \"total pod order vol\": 8774468.193651, \"total pod vol\": 47980097.764572, \"variable\": \"total_pod_listing_vol\", \"value\": 39205629.570921}, {\"timestamp\": 1661638905, \"season\": 6585, \"total bean vol\": 5908075.472453, \"total pod listing vol\": 39205629.570921, \"total pod order vol\": 8774468.193651, \"total pod vol\": 47980097.764572, \"variable\": \"total_bean_vol\", \"value\": 5908075.472453}, {\"timestamp\": 1661638905, \"season\": 6585, \"total bean vol\": 5908075.472453, \"total pod listing vol\": 39205629.570921, \"total pod order vol\": 8774468.193651, \"total pod vol\": 47980097.764572, \"variable\": \"total_pod_order_vol\", \"value\": 8774468.193651}, {\"timestamp\": 1661721619, \"season\": 6609, \"total bean vol\": 5920536.240183, \"total pod listing vol\": 39374836.054937, \"total pod order vol\": 8828496.551576, \"total pod vol\": 48203332.606513, \"variable\": \"total_pod_listing_vol\", \"value\": 39374836.054937}, {\"timestamp\": 1661721619, \"season\": 6609, \"total bean vol\": 5920536.240183, \"total pod listing vol\": 39374836.054937, \"total pod order vol\": 8828496.551576, \"total pod vol\": 48203332.606513, \"variable\": \"total_pod_vol\", \"value\": 48203332.606513}, {\"timestamp\": 1661721619, \"season\": 6609, \"total bean vol\": 5920536.240183, \"total pod listing vol\": 39374836.054937, \"total pod order vol\": 8828496.551576, \"total pod vol\": 48203332.606513, \"variable\": \"total_bean_vol\", \"value\": 5920536.240183}, {\"timestamp\": 1661721619, \"season\": 6609, \"total bean vol\": 5920536.240183, \"total pod listing vol\": 39374836.054937, \"total pod order vol\": 8828496.551576, \"total pod vol\": 48203332.606513, \"variable\": \"total_pod_order_vol\", \"value\": 8828496.551576}, {\"timestamp\": 1661800229, \"season\": 6633, \"total bean vol\": 5920536.240183, \"total pod listing vol\": 39374836.054937, \"total pod order vol\": 8828496.551576, \"total pod vol\": 48203332.606513, \"variable\": \"total_pod_vol\", \"value\": 48203332.606513}, {\"timestamp\": 1661800229, \"season\": 6633, \"total bean vol\": 5920536.240183, \"total pod listing vol\": 39374836.054937, \"total pod order vol\": 8828496.551576, \"total pod vol\": 48203332.606513, \"variable\": \"total_pod_listing_vol\", \"value\": 39374836.054937}, {\"timestamp\": 1661800229, \"season\": 6633, \"total bean vol\": 5920536.240183, \"total pod listing vol\": 39374836.054937, \"total pod order vol\": 8828496.551576, \"total pod vol\": 48203332.606513, \"variable\": \"total_bean_vol\", \"value\": 5920536.240183}, {\"timestamp\": 1661800229, \"season\": 6633, \"total bean vol\": 5920536.240183, \"total pod listing vol\": 39374836.054937, \"total pod order vol\": 8828496.551576, \"total pod vol\": 48203332.606513, \"variable\": \"total_pod_order_vol\", \"value\": 8828496.551576}, {\"timestamp\": 1661895772, \"season\": 6657, \"total bean vol\": 5926723.589487, \"total pod listing vol\": 39559791.500646, \"total pod order vol\": 8828496.551576, \"total pod vol\": 48388288.052222, \"variable\": \"total_pod_vol\", \"value\": 48388288.052222}, {\"timestamp\": 1661895772, \"season\": 6657, \"total bean vol\": 5926723.589487, \"total pod listing vol\": 39559791.500646, \"total pod order vol\": 8828496.551576, \"total pod vol\": 48388288.052222, \"variable\": \"total_bean_vol\", \"value\": 5926723.589487}, {\"timestamp\": 1661895772, \"season\": 6657, \"total bean vol\": 5926723.589487, \"total pod listing vol\": 39559791.500646, \"total pod order vol\": 8828496.551576, \"total pod vol\": 48388288.052222, \"variable\": \"total_pod_listing_vol\", \"value\": 39559791.500646}, {\"timestamp\": 1661895772, \"season\": 6657, \"total bean vol\": 5926723.589487, \"total pod listing vol\": 39559791.500646, \"total pod order vol\": 8828496.551576, \"total pod vol\": 48388288.052222, \"variable\": \"total_pod_order_vol\", \"value\": 8828496.551576}, {\"timestamp\": 1661973180, \"season\": 6681, \"total bean vol\": 5932732.765019, \"total pod listing vol\": 39563744.218304, \"total pod order vol\": 8945914.629593, \"total pod vol\": 48509658.847897, \"variable\": \"total_pod_order_vol\", \"value\": 8945914.629593}, {\"timestamp\": 1661973180, \"season\": 6681, \"total bean vol\": 5932732.765019, \"total pod listing vol\": 39563744.218304, \"total pod order vol\": 8945914.629593, \"total pod vol\": 48509658.847897, \"variable\": \"total_pod_vol\", \"value\": 48509658.847897}, {\"timestamp\": 1661973180, \"season\": 6681, \"total bean vol\": 5932732.765019, \"total pod listing vol\": 39563744.218304, \"total pod order vol\": 8945914.629593, \"total pod vol\": 48509658.847897, \"variable\": \"total_pod_listing_vol\", \"value\": 39563744.218304}, {\"timestamp\": 1661973180, \"season\": 6681, \"total bean vol\": 5932732.765019, \"total pod listing vol\": 39563744.218304, \"total pod order vol\": 8945914.629593, \"total pod vol\": 48509658.847897, \"variable\": \"total_bean_vol\", \"value\": 5932732.765019}, {\"timestamp\": 1662069839, \"season\": 6705, \"total bean vol\": 5938544.671492, \"total pod listing vol\": 39775053.195434, \"total pod order vol\": 8945914.629593, \"total pod vol\": 48720967.825027, \"variable\": \"total_bean_vol\", \"value\": 5938544.671492}, {\"timestamp\": 1662069839, \"season\": 6705, \"total bean vol\": 5938544.671492, \"total pod listing vol\": 39775053.195434, \"total pod order vol\": 8945914.629593, \"total pod vol\": 48720967.825027, \"variable\": \"total_pod_vol\", \"value\": 48720967.825027}, {\"timestamp\": 1662069839, \"season\": 6705, \"total bean vol\": 5938544.671492, \"total pod listing vol\": 39775053.195434, \"total pod order vol\": 8945914.629593, \"total pod vol\": 48720967.825027, \"variable\": \"total_pod_listing_vol\", \"value\": 39775053.195434}, {\"timestamp\": 1662069839, \"season\": 6705, \"total bean vol\": 5938544.671492, \"total pod listing vol\": 39775053.195434, \"total pod order vol\": 8945914.629593, \"total pod vol\": 48720967.825027, \"variable\": \"total_pod_order_vol\", \"value\": 8945914.629593}, {\"timestamp\": 1662162438, \"season\": 6729, \"total bean vol\": 5961509.885982, \"total pod listing vol\": 39907046.59378, \"total pod order vol\": 9305163.623793, \"total pod vol\": 49212210.217573, \"variable\": \"total_pod_listing_vol\", \"value\": 39907046.59378}, {\"timestamp\": 1662162438, \"season\": 6729, \"total bean vol\": 5961509.885982, \"total pod listing vol\": 39907046.59378, \"total pod order vol\": 9305163.623793, \"total pod vol\": 49212210.217573, \"variable\": \"total_pod_order_vol\", \"value\": 9305163.623793}, {\"timestamp\": 1662162438, \"season\": 6729, \"total bean vol\": 5961509.885982, \"total pod listing vol\": 39907046.59378, \"total pod order vol\": 9305163.623793, \"total pod vol\": 49212210.217573, \"variable\": \"total_bean_vol\", \"value\": 5961509.885982}, {\"timestamp\": 1662162438, \"season\": 6729, \"total bean vol\": 5961509.885982, \"total pod listing vol\": 39907046.59378, \"total pod order vol\": 9305163.623793, \"total pod vol\": 49212210.217573, \"variable\": \"total_pod_vol\", \"value\": 49212210.217573}, {\"timestamp\": 1662228474, \"season\": 6753, \"total bean vol\": 5963802.824855, \"total pod listing vol\": 39983615.967615, \"total pod order vol\": 9305163.623793, \"total pod vol\": 49288779.591408, \"variable\": \"total_pod_vol\", \"value\": 49288779.591408}, {\"timestamp\": 1662228474, \"season\": 6753, \"total bean vol\": 5963802.824855, \"total pod listing vol\": 39983615.967615, \"total pod order vol\": 9305163.623793, \"total pod vol\": 49288779.591408, \"variable\": \"total_pod_listing_vol\", \"value\": 39983615.967615}, {\"timestamp\": 1662228474, \"season\": 6753, \"total bean vol\": 5963802.824855, \"total pod listing vol\": 39983615.967615, \"total pod order vol\": 9305163.623793, \"total pod vol\": 49288779.591408, \"variable\": \"total_pod_order_vol\", \"value\": 9305163.623793}, {\"timestamp\": 1662228474, \"season\": 6753, \"total bean vol\": 5963802.824855, \"total pod listing vol\": 39983615.967615, \"total pod order vol\": 9305163.623793, \"total pod vol\": 49288779.591408, \"variable\": \"total_bean_vol\", \"value\": 5963802.824855}, {\"timestamp\": 1662286011, \"season\": 6777, \"total bean vol\": 5970838.315433, \"total pod listing vol\": 39986390.287911, \"total pod order vol\": 9364077.373793, \"total pod vol\": 49350467.661704, \"variable\": \"total_pod_listing_vol\", \"value\": 39986390.287911}, {\"timestamp\": 1662286011, \"season\": 6777, \"total bean vol\": 5970838.315433, \"total pod listing vol\": 39986390.287911, \"total pod order vol\": 9364077.373793, \"total pod vol\": 49350467.661704, \"variable\": \"total_bean_vol\", \"value\": 5970838.315433}, {\"timestamp\": 1662286011, \"season\": 6777, \"total bean vol\": 5970838.315433, \"total pod listing vol\": 39986390.287911, \"total pod order vol\": 9364077.373793, \"total pod vol\": 49350467.661704, \"variable\": \"total_pod_vol\", \"value\": 49350467.661704}, {\"timestamp\": 1662286011, \"season\": 6777, \"total bean vol\": 5970838.315433, \"total pod listing vol\": 39986390.287911, \"total pod order vol\": 9364077.373793, \"total pod vol\": 49350467.661704, \"variable\": \"total_pod_order_vol\", \"value\": 9364077.373793}, {\"timestamp\": 1662389016, \"season\": 6801, \"total bean vol\": 5970838.315433, \"total pod listing vol\": 39986390.287911, \"total pod order vol\": 9364077.373793, \"total pod vol\": 49350467.661704, \"variable\": \"total_bean_vol\", \"value\": 5970838.315433}, {\"timestamp\": 1662389016, \"season\": 6801, \"total bean vol\": 5970838.315433, \"total pod listing vol\": 39986390.287911, \"total pod order vol\": 9364077.373793, \"total pod vol\": 49350467.661704, \"variable\": \"total_pod_order_vol\", \"value\": 9364077.373793}, {\"timestamp\": 1662389016, \"season\": 6801, \"total bean vol\": 5970838.315433, \"total pod listing vol\": 39986390.287911, \"total pod order vol\": 9364077.373793, \"total pod vol\": 49350467.661704, \"variable\": \"total_pod_listing_vol\", \"value\": 39986390.287911}, {\"timestamp\": 1662389016, \"season\": 6801, \"total bean vol\": 5970838.315433, \"total pod listing vol\": 39986390.287911, \"total pod order vol\": 9364077.373793, \"total pod vol\": 49350467.661704, \"variable\": \"total_pod_vol\", \"value\": 49350467.661704}, {\"timestamp\": 1662508456, \"season\": 6825, \"total bean vol\": 5979404.135387, \"total pod listing vol\": 40140737.158231, \"total pod order vol\": 9398016.431338, \"total pod vol\": 49538753.589569, \"variable\": \"total_bean_vol\", \"value\": 5979404.135387}, {\"timestamp\": 1662508456, \"season\": 6825, \"total bean vol\": 5979404.135387, \"total pod listing vol\": 40140737.158231, \"total pod order vol\": 9398016.431338, \"total pod vol\": 49538753.589569, \"variable\": \"total_pod_order_vol\", \"value\": 9398016.431338}, {\"timestamp\": 1662508456, \"season\": 6825, \"total bean vol\": 5979404.135387, \"total pod listing vol\": 40140737.158231, \"total pod order vol\": 9398016.431338, \"total pod vol\": 49538753.589569, \"variable\": \"total_pod_listing_vol\", \"value\": 40140737.158231}, {\"timestamp\": 1662508456, \"season\": 6825, \"total bean vol\": 5979404.135387, \"total pod listing vol\": 40140737.158231, \"total pod order vol\": 9398016.431338, \"total pod vol\": 49538753.589569, \"variable\": \"total_pod_vol\", \"value\": 49538753.589569}, {\"timestamp\": 1662585827, \"season\": 6849, \"total bean vol\": 5992824.42013, \"total pod listing vol\": 40227543.555723, \"total pod order vol\": 9398016.431338, \"total pod vol\": 49625559.987061, \"variable\": \"total_pod_listing_vol\", \"value\": 40227543.555723}, {\"timestamp\": 1662585827, \"season\": 6849, \"total bean vol\": 5992824.42013, \"total pod listing vol\": 40227543.555723, \"total pod order vol\": 9398016.431338, \"total pod vol\": 49625559.987061, \"variable\": \"total_bean_vol\", \"value\": 5992824.42013}, {\"timestamp\": 1662585827, \"season\": 6849, \"total bean vol\": 5992824.42013, \"total pod listing vol\": 40227543.555723, \"total pod order vol\": 9398016.431338, \"total pod vol\": 49625559.987061, \"variable\": \"total_pod_order_vol\", \"value\": 9398016.431338}, {\"timestamp\": 1662585827, \"season\": 6849, \"total bean vol\": 5992824.42013, \"total pod listing vol\": 40227543.555723, \"total pod order vol\": 9398016.431338, \"total pod vol\": 49625559.987061, \"variable\": \"total_pod_vol\", \"value\": 49625559.987061}, {\"timestamp\": 1662660124, \"season\": 6873, \"total bean vol\": 5995958.012221, \"total pod listing vol\": 40227543.555723, \"total pod order vol\": 9462151.369958, \"total pod vol\": 49689694.925681, \"variable\": \"total_pod_vol\", \"value\": 49689694.925681}, {\"timestamp\": 1662660124, \"season\": 6873, \"total bean vol\": 5995958.012221, \"total pod listing vol\": 40227543.555723, \"total pod order vol\": 9462151.369958, \"total pod vol\": 49689694.925681, \"variable\": \"total_pod_order_vol\", \"value\": 9462151.369958}, {\"timestamp\": 1662660124, \"season\": 6873, \"total bean vol\": 5995958.012221, \"total pod listing vol\": 40227543.555723, \"total pod order vol\": 9462151.369958, \"total pod vol\": 49689694.925681, \"variable\": \"total_pod_listing_vol\", \"value\": 40227543.555723}, {\"timestamp\": 1662660124, \"season\": 6873, \"total bean vol\": 5995958.012221, \"total pod listing vol\": 40227543.555723, \"total pod order vol\": 9462151.369958, \"total pod vol\": 49689694.925681, \"variable\": \"total_bean_vol\", \"value\": 5995958.012221}, {\"timestamp\": 1662731227, \"season\": 6897, \"total bean vol\": 5995958.012221, \"total pod listing vol\": 40227543.555723, \"total pod order vol\": 9462151.369958, \"total pod vol\": 49689694.925681, \"variable\": \"total_pod_order_vol\", \"value\": 9462151.369958}, {\"timestamp\": 1662731227, \"season\": 6897, \"total bean vol\": 5995958.012221, \"total pod listing vol\": 40227543.555723, \"total pod order vol\": 9462151.369958, \"total pod vol\": 49689694.925681, \"variable\": \"total_pod_listing_vol\", \"value\": 40227543.555723}, {\"timestamp\": 1662731227, \"season\": 6897, \"total bean vol\": 5995958.012221, \"total pod listing vol\": 40227543.555723, \"total pod order vol\": 9462151.369958, \"total pod vol\": 49689694.925681, \"variable\": \"total_pod_vol\", \"value\": 49689694.925681}, {\"timestamp\": 1662731227, \"season\": 6897, \"total bean vol\": 5995958.012221, \"total pod listing vol\": 40227543.555723, \"total pod order vol\": 9462151.369958, \"total pod vol\": 49689694.925681, \"variable\": \"total_bean_vol\", \"value\": 5995958.012221}, {\"timestamp\": 1662837171, \"season\": 6921, \"total bean vol\": 6018706.754343, \"total pod listing vol\": 40426854.261582, \"total pod order vol\": 9492461.407908, \"total pod vol\": 49919315.66949, \"variable\": \"total_pod_listing_vol\", \"value\": 40426854.261582}, {\"timestamp\": 1662837171, \"season\": 6921, \"total bean vol\": 6018706.754343, \"total pod listing vol\": 40426854.261582, \"total pod order vol\": 9492461.407908, \"total pod vol\": 49919315.66949, \"variable\": \"total_pod_vol\", \"value\": 49919315.66949}, {\"timestamp\": 1662837171, \"season\": 6921, \"total bean vol\": 6018706.754343, \"total pod listing vol\": 40426854.261582, \"total pod order vol\": 9492461.407908, \"total pod vol\": 49919315.66949, \"variable\": \"total_bean_vol\", \"value\": 6018706.754343}, {\"timestamp\": 1662837171, \"season\": 6921, \"total bean vol\": 6018706.754343, \"total pod listing vol\": 40426854.261582, \"total pod order vol\": 9492461.407908, \"total pod vol\": 49919315.66949, \"variable\": \"total_pod_order_vol\", \"value\": 9492461.407908}, {\"timestamp\": 1662910729, \"season\": 6945, \"total bean vol\": 6020675.750547, \"total pod listing vol\": 40426854.261582, \"total pod order vol\": 9512151.369958, \"total pod vol\": 49939005.63154, \"variable\": \"total_pod_listing_vol\", \"value\": 40426854.261582}, {\"timestamp\": 1662910729, \"season\": 6945, \"total bean vol\": 6020675.750547, \"total pod listing vol\": 40426854.261582, \"total pod order vol\": 9512151.369958, \"total pod vol\": 49939005.63154, \"variable\": \"total_pod_order_vol\", \"value\": 9512151.369958}, {\"timestamp\": 1662910729, \"season\": 6945, \"total bean vol\": 6020675.750547, \"total pod listing vol\": 40426854.261582, \"total pod order vol\": 9512151.369958, \"total pod vol\": 49939005.63154, \"variable\": \"total_bean_vol\", \"value\": 6020675.750547}, {\"timestamp\": 1662910729, \"season\": 6945, \"total bean vol\": 6020675.750547, \"total pod listing vol\": 40426854.261582, \"total pod order vol\": 9512151.369958, \"total pod vol\": 49939005.63154, \"variable\": \"total_pod_vol\", \"value\": 49939005.63154}, {\"timestamp\": 1663024596, \"season\": 6969, \"total bean vol\": 6021486.312213, \"total pod listing vol\": 40436960.607754, \"total pod order vol\": 9517326.146238, \"total pod vol\": 49954286.753992, \"variable\": \"total_pod_listing_vol\", \"value\": 40436960.607754}, {\"timestamp\": 1663024596, \"season\": 6969, \"total bean vol\": 6021486.312213, \"total pod listing vol\": 40436960.607754, \"total pod order vol\": 9517326.146238, \"total pod vol\": 49954286.753992, \"variable\": \"total_pod_order_vol\", \"value\": 9517326.146238}, {\"timestamp\": 1663024596, \"season\": 6969, \"total bean vol\": 6021486.312213, \"total pod listing vol\": 40436960.607754, \"total pod order vol\": 9517326.146238, \"total pod vol\": 49954286.753992, \"variable\": \"total_pod_vol\", \"value\": 49954286.753992}, {\"timestamp\": 1663024596, \"season\": 6969, \"total bean vol\": 6021486.312213, \"total pod listing vol\": 40436960.607754, \"total pod order vol\": 9517326.146238, \"total pod vol\": 49954286.753992, \"variable\": \"total_bean_vol\", \"value\": 6021486.312213}, {\"timestamp\": 1663069833, \"season\": 6987, \"total bean vol\": 6028119.504444, \"total pod listing vol\": 40436960.607754, \"total pod order vol\": 9682871.67636, \"total pod vol\": 50119832.284114, \"variable\": \"total_pod_vol\", \"value\": 50119832.284114}, {\"timestamp\": 1663069833, \"season\": 6987, \"total bean vol\": 6028119.504444, \"total pod listing vol\": 40436960.607754, \"total pod order vol\": 9682871.67636, \"total pod vol\": 50119832.284114, \"variable\": \"total_bean_vol\", \"value\": 6028119.504444}, {\"timestamp\": 1663069833, \"season\": 6987, \"total bean vol\": 6028119.504444, \"total pod listing vol\": 40436960.607754, \"total pod order vol\": 9682871.67636, \"total pod vol\": 50119832.284114, \"variable\": \"total_pod_listing_vol\", \"value\": 40436960.607754}, {\"timestamp\": 1663069833, \"season\": 6987, \"total bean vol\": 6028119.504444, \"total pod listing vol\": 40436960.607754, \"total pod order vol\": 9682871.67636, \"total pod vol\": 50119832.284114, \"variable\": \"total_pod_order_vol\", \"value\": 9682871.67636}]}}, {\"mode\": \"vega-lite\"});\n",
       "</script>"
      ],
      "text/plain": [
       "alt.LayerChart(...)"
      ]
     },
     "execution_count": 11,
     "metadata": {},
     "output_type": "execute_result"
    }
   ],
   "source": [
    "df_snaps = query_farmers_market_snaps()\n",
    "df_snaps['total bean vol'] = df_snaps['total_bean_vol']\n",
    "df_snaps['total pod listing vol'] = df_snaps['total_pod_listing_vol']\n",
    "df_snaps['total pod order vol'] = df_snaps['total_pod_order_vol']\n",
    "df_snaps['total pod vol'] = df_snaps['total_pod_vol']\n",
    "value_vars = [\n",
    "    'total_bean_vol', 'total_pod_vol', 'total_pod_listing_vol', 'total_pod_order_vol'\n",
    "]\n",
    "label_vars = [\n",
    "    'total bean vol', 'total pod listing vol', 'total pod order vol', 'total pod vol'\n",
    "] \n",
    "id_vars = ['timestamp', 'season'] + label_vars\n",
    "df_snaps = df_snaps.melt(id_vars=id_vars, value_vars=value_vars).sort_values(\"season\")\n",
    "rm_indices = []\n",
    "for v in value_vars: \n",
    "    rm_indices = rm_indices + list(\n",
    "        np.argwhere(\n",
    "            ((df_snaps.season == 6074) & (df_snaps.variable == v)).values\n",
    "        ).ravel()[:-1]\n",
    "    )\n",
    "df_snaps = df_snaps.iloc[[i for i in range(len(df_snaps)) if i not in rm_indices]]\n",
    "df_snaps = df_snaps.loc[df_snaps.season >= 4357]\n",
    "\n",
    "area = alt.Chart(df_snaps).transform_filter(\n",
    "    datum.variable != 'total_pod_vol'\n",
    ").transform_stack(\n",
    "    stack=\"value\", \n",
    "    as_=['value_1', 'value_2'], \n",
    "    groupby=['season'],\n",
    "    sort=[alt.SortField('variable', 'descending')]\n",
    ").mark_area(point='transparent').encode(\n",
    "    x=\"season:O\", \n",
    "    y=\"value_1:Q\", \n",
    "    y2=\"value_2:Q\", \n",
    "    color=\"variable:N\", \n",
    "    tooltip=[alt.Tooltip(f'{e}:Q', format=\",d\") for e in label_vars]\n",
    ").properties(width=700)\n",
    "\n",
    "line = alt.Chart(df_snaps).transform_filter(\n",
    "    datum.variable == 'total_pod_vol'\n",
    ").mark_line().encode(\n",
    "    x=\"season:O\", \n",
    "    y=\"value:Q\", \n",
    "    color=\"variable:N\", \n",
    ").properties(width=700)\n",
    "\n",
    "c = area + line\n",
    "c"
   ]
  },
  {
   "cell_type": "code",
   "execution_count": 12,
   "id": "a3a0694b",
   "metadata": {},
   "outputs": [
    {
     "data": {
      "application/json": {
       "$schema": "https://vega.github.io/schema/vega-lite/v4.17.0.json",
       "config": {
        "view": {
         "continuousHeight": 300,
         "continuousWidth": 400
        }
       },
       "data": {
        "name": "data-d3ece0717f9632fd9f201a691baa8c3f"
       },
       "datasets": {
        "data-d3ece0717f9632fd9f201a691baa8c3f": [
         {
          "season": 4357,
          "timestamp": 1643932868,
          "total bean vol": 0,
          "total pod listing vol": 0,
          "total pod order vol": 0,
          "total pod vol": 0,
          "value": 0,
          "variable": "total_bean_vol"
         },
         {
          "season": 4357,
          "timestamp": 1643932868,
          "total bean vol": 0,
          "total pod listing vol": 0,
          "total pod order vol": 0,
          "total pod vol": 0,
          "value": 0,
          "variable": "total_pod_order_vol"
         },
         {
          "season": 4357,
          "timestamp": 1643932868,
          "total bean vol": 0,
          "total pod listing vol": 0,
          "total pod order vol": 0,
          "total pod vol": 0,
          "value": 0,
          "variable": "total_pod_listing_vol"
         },
         {
          "season": 4357,
          "timestamp": 1643932868,
          "total bean vol": 0,
          "total pod listing vol": 0,
          "total pod order vol": 0,
          "total pod vol": 0,
          "value": 0,
          "variable": "total_pod_vol"
         },
         {
          "season": 4381,
          "timestamp": 1644105552,
          "total bean vol": 6788.405173,
          "total pod listing vol": 65610.913621,
          "total pod order vol": 0,
          "total pod vol": 65610.913621,
          "value": 0,
          "variable": "total_pod_order_vol"
         },
         {
          "season": 4381,
          "timestamp": 1644105552,
          "total bean vol": 6788.405173,
          "total pod listing vol": 65610.913621,
          "total pod order vol": 0,
          "total pod vol": 65610.913621,
          "value": 65610.913621,
          "variable": "total_pod_listing_vol"
         },
         {
          "season": 4381,
          "timestamp": 1644105552,
          "total bean vol": 6788.405173,
          "total pod listing vol": 65610.913621,
          "total pod order vol": 0,
          "total pod vol": 65610.913621,
          "value": 6788.405173,
          "variable": "total_bean_vol"
         },
         {
          "season": 4381,
          "timestamp": 1644105552,
          "total bean vol": 6788.405173,
          "total pod listing vol": 65610.913621,
          "total pod order vol": 0,
          "total pod vol": 65610.913621,
          "value": 65610.913621,
          "variable": "total_pod_vol"
         },
         {
          "season": 4405,
          "timestamp": 1644186678,
          "total bean vol": 37016.310151,
          "total pod listing vol": 168079.947589,
          "total pod order vol": 69477.354604,
          "total pod vol": 237557.302193,
          "value": 37016.310151,
          "variable": "total_bean_vol"
         },
         {
          "season": 4405,
          "timestamp": 1644186678,
          "total bean vol": 37016.310151,
          "total pod listing vol": 168079.947589,
          "total pod order vol": 69477.354604,
          "total pod vol": 237557.302193,
          "value": 69477.354604,
          "variable": "total_pod_order_vol"
         },
         {
          "season": 4405,
          "timestamp": 1644186678,
          "total bean vol": 37016.310151,
          "total pod listing vol": 168079.947589,
          "total pod order vol": 69477.354604,
          "total pod vol": 237557.302193,
          "value": 237557.302193,
          "variable": "total_pod_vol"
         },
         {
          "season": 4405,
          "timestamp": 1644186678,
          "total bean vol": 37016.310151,
          "total pod listing vol": 168079.947589,
          "total pod order vol": 69477.354604,
          "total pod vol": 237557.302193,
          "value": 168079.947589,
          "variable": "total_pod_listing_vol"
         },
         {
          "season": 4429,
          "timestamp": 1644277669,
          "total bean vol": 119166.663005,
          "total pod listing vol": 277435.017194,
          "total pod order vol": 229091.907755,
          "total pod vol": 506526.924949,
          "value": 506526.924949,
          "variable": "total_pod_vol"
         },
         {
          "season": 4429,
          "timestamp": 1644277669,
          "total bean vol": 119166.663005,
          "total pod listing vol": 277435.017194,
          "total pod order vol": 229091.907755,
          "total pod vol": 506526.924949,
          "value": 119166.663005,
          "variable": "total_bean_vol"
         },
         {
          "season": 4429,
          "timestamp": 1644277669,
          "total bean vol": 119166.663005,
          "total pod listing vol": 277435.017194,
          "total pod order vol": 229091.907755,
          "total pod vol": 506526.924949,
          "value": 229091.907755,
          "variable": "total_pod_order_vol"
         },
         {
          "season": 4429,
          "timestamp": 1644277669,
          "total bean vol": 119166.663005,
          "total pod listing vol": 277435.017194,
          "total pod order vol": 229091.907755,
          "total pod vol": 506526.924949,
          "value": 277435.017194,
          "variable": "total_pod_listing_vol"
         },
         {
          "season": 4453,
          "timestamp": 1644363097,
          "total bean vol": 137655.857683,
          "total pod listing vol": 281245.766971,
          "total pod order vol": 291926.816553,
          "total pod vol": 573172.583524,
          "value": 573172.583524,
          "variable": "total_pod_vol"
         },
         {
          "season": 4453,
          "timestamp": 1644363097,
          "total bean vol": 137655.857683,
          "total pod listing vol": 281245.766971,
          "total pod order vol": 291926.816553,
          "total pod vol": 573172.583524,
          "value": 137655.857683,
          "variable": "total_bean_vol"
         },
         {
          "season": 4453,
          "timestamp": 1644363097,
          "total bean vol": 137655.857683,
          "total pod listing vol": 281245.766971,
          "total pod order vol": 291926.816553,
          "total pod vol": 573172.583524,
          "value": 291926.816553,
          "variable": "total_pod_order_vol"
         },
         {
          "season": 4453,
          "timestamp": 1644363097,
          "total bean vol": 137655.857683,
          "total pod listing vol": 281245.766971,
          "total pod order vol": 291926.816553,
          "total pod vol": 573172.583524,
          "value": 281245.766971,
          "variable": "total_pod_listing_vol"
         },
         {
          "season": 4477,
          "timestamp": 1644449268,
          "total bean vol": 140135.857683,
          "total pod listing vol": 293245.766971,
          "total pod order vol": 291926.816553,
          "total pod vol": 585172.583524,
          "value": 140135.857683,
          "variable": "total_bean_vol"
         },
         {
          "season": 4477,
          "timestamp": 1644449268,
          "total bean vol": 140135.857683,
          "total pod listing vol": 293245.766971,
          "total pod order vol": 291926.816553,
          "total pod vol": 585172.583524,
          "value": 291926.816553,
          "variable": "total_pod_order_vol"
         },
         {
          "season": 4477,
          "timestamp": 1644449268,
          "total bean vol": 140135.857683,
          "total pod listing vol": 293245.766971,
          "total pod order vol": 291926.816553,
          "total pod vol": 585172.583524,
          "value": 585172.583524,
          "variable": "total_pod_vol"
         },
         {
          "season": 4477,
          "timestamp": 1644449268,
          "total bean vol": 140135.857683,
          "total pod listing vol": 293245.766971,
          "total pod order vol": 291926.816553,
          "total pod vol": 585172.583524,
          "value": 293245.766971,
          "variable": "total_pod_listing_vol"
         },
         {
          "season": 4501,
          "timestamp": 1644533885,
          "total bean vol": 145119.068695,
          "total pod listing vol": 306359.480163,
          "total pod order vol": 291926.816553,
          "total pod vol": 598286.296716,
          "value": 291926.816553,
          "variable": "total_pod_order_vol"
         },
         {
          "season": 4501,
          "timestamp": 1644533885,
          "total bean vol": 145119.068695,
          "total pod listing vol": 306359.480163,
          "total pod order vol": 291926.816553,
          "total pod vol": 598286.296716,
          "value": 145119.068695,
          "variable": "total_bean_vol"
         },
         {
          "season": 4501,
          "timestamp": 1644533885,
          "total bean vol": 145119.068695,
          "total pod listing vol": 306359.480163,
          "total pod order vol": 291926.816553,
          "total pod vol": 598286.296716,
          "value": 598286.296716,
          "variable": "total_pod_vol"
         },
         {
          "season": 4501,
          "timestamp": 1644533885,
          "total bean vol": 145119.068695,
          "total pod listing vol": 306359.480163,
          "total pod order vol": 291926.816553,
          "total pod vol": 598286.296716,
          "value": 306359.480163,
          "variable": "total_pod_listing_vol"
         },
         {
          "season": 4525,
          "timestamp": 1644616068,
          "total bean vol": 145881.746202,
          "total pod listing vol": 308366.526236,
          "total pod order vol": 291926.816553,
          "total pod vol": 600293.342789,
          "value": 145881.746202,
          "variable": "total_bean_vol"
         },
         {
          "season": 4525,
          "timestamp": 1644616068,
          "total bean vol": 145881.746202,
          "total pod listing vol": 308366.526236,
          "total pod order vol": 291926.816553,
          "total pod vol": 600293.342789,
          "value": 600293.342789,
          "variable": "total_pod_vol"
         },
         {
          "season": 4525,
          "timestamp": 1644616068,
          "total bean vol": 145881.746202,
          "total pod listing vol": 308366.526236,
          "total pod order vol": 291926.816553,
          "total pod vol": 600293.342789,
          "value": 308366.526236,
          "variable": "total_pod_listing_vol"
         },
         {
          "season": 4525,
          "timestamp": 1644616068,
          "total bean vol": 145881.746202,
          "total pod listing vol": 308366.526236,
          "total pod order vol": 291926.816553,
          "total pod vol": 600293.342789,
          "value": 291926.816553,
          "variable": "total_pod_order_vol"
         },
         {
          "season": 4549,
          "timestamp": 1644710243,
          "total bean vol": 146463.710677,
          "total pod listing vol": 309898.011699,
          "total pod order vol": 291926.816553,
          "total pod vol": 601824.828252,
          "value": 309898.011699,
          "variable": "total_pod_listing_vol"
         },
         {
          "season": 4549,
          "timestamp": 1644710243,
          "total bean vol": 146463.710677,
          "total pod listing vol": 309898.011699,
          "total pod order vol": 291926.816553,
          "total pod vol": 601824.828252,
          "value": 146463.710677,
          "variable": "total_bean_vol"
         },
         {
          "season": 4549,
          "timestamp": 1644710243,
          "total bean vol": 146463.710677,
          "total pod listing vol": 309898.011699,
          "total pod order vol": 291926.816553,
          "total pod vol": 601824.828252,
          "value": 601824.828252,
          "variable": "total_pod_vol"
         },
         {
          "season": 4549,
          "timestamp": 1644710243,
          "total bean vol": 146463.710677,
          "total pod listing vol": 309898.011699,
          "total pod order vol": 291926.816553,
          "total pod vol": 601824.828252,
          "value": 291926.816553,
          "variable": "total_pod_order_vol"
         },
         {
          "season": 4573,
          "timestamp": 1644784650,
          "total bean vol": 147924.825282,
          "total pod listing vol": 313743.050135,
          "total pod order vol": 291926.816553,
          "total pod vol": 605669.866688,
          "value": 147924.825282,
          "variable": "total_bean_vol"
         },
         {
          "season": 4573,
          "timestamp": 1644784650,
          "total bean vol": 147924.825282,
          "total pod listing vol": 313743.050135,
          "total pod order vol": 291926.816553,
          "total pod vol": 605669.866688,
          "value": 291926.816553,
          "variable": "total_pod_order_vol"
         },
         {
          "season": 4573,
          "timestamp": 1644784650,
          "total bean vol": 147924.825282,
          "total pod listing vol": 313743.050135,
          "total pod order vol": 291926.816553,
          "total pod vol": 605669.866688,
          "value": 605669.866688,
          "variable": "total_pod_vol"
         },
         {
          "season": 4573,
          "timestamp": 1644784650,
          "total bean vol": 147924.825282,
          "total pod listing vol": 313743.050135,
          "total pod order vol": 291926.816553,
          "total pod vol": 605669.866688,
          "value": 313743.050135,
          "variable": "total_pod_listing_vol"
         },
         {
          "season": 4597,
          "timestamp": 1644869833,
          "total bean vol": 147924.825282,
          "total pod listing vol": 313743.050135,
          "total pod order vol": 291926.816553,
          "total pod vol": 605669.866688,
          "value": 605669.866688,
          "variable": "total_pod_vol"
         },
         {
          "season": 4597,
          "timestamp": 1644869833,
          "total bean vol": 147924.825282,
          "total pod listing vol": 313743.050135,
          "total pod order vol": 291926.816553,
          "total pod vol": 605669.866688,
          "value": 147924.825282,
          "variable": "total_bean_vol"
         },
         {
          "season": 4597,
          "timestamp": 1644869833,
          "total bean vol": 147924.825282,
          "total pod listing vol": 313743.050135,
          "total pod order vol": 291926.816553,
          "total pod vol": 605669.866688,
          "value": 313743.050135,
          "variable": "total_pod_listing_vol"
         },
         {
          "season": 4597,
          "timestamp": 1644869833,
          "total bean vol": 147924.825282,
          "total pod listing vol": 313743.050135,
          "total pod order vol": 291926.816553,
          "total pod vol": 605669.866688,
          "value": 291926.816553,
          "variable": "total_pod_order_vol"
         },
         {
          "season": 4621,
          "timestamp": 1644954691,
          "total bean vol": 147924.825282,
          "total pod listing vol": 313743.050135,
          "total pod order vol": 291926.816553,
          "total pod vol": 605669.866688,
          "value": 291926.816553,
          "variable": "total_pod_order_vol"
         },
         {
          "season": 4621,
          "timestamp": 1644954691,
          "total bean vol": 147924.825282,
          "total pod listing vol": 313743.050135,
          "total pod order vol": 291926.816553,
          "total pod vol": 605669.866688,
          "value": 605669.866688,
          "variable": "total_pod_vol"
         },
         {
          "season": 4621,
          "timestamp": 1644954691,
          "total bean vol": 147924.825282,
          "total pod listing vol": 313743.050135,
          "total pod order vol": 291926.816553,
          "total pod vol": 605669.866688,
          "value": 147924.825282,
          "variable": "total_bean_vol"
         },
         {
          "season": 4621,
          "timestamp": 1644954691,
          "total bean vol": 147924.825282,
          "total pod listing vol": 313743.050135,
          "total pod order vol": 291926.816553,
          "total pod vol": 605669.866688,
          "value": 313743.050135,
          "variable": "total_pod_listing_vol"
         },
         {
          "season": 4645,
          "timestamp": 1645052953,
          "total bean vol": 154183.44105,
          "total pod listing vol": 381540.956409,
          "total pod order vol": 293341.907755,
          "total pod vol": 674882.864164,
          "value": 381540.956409,
          "variable": "total_pod_listing_vol"
         },
         {
          "season": 4645,
          "timestamp": 1645052953,
          "total bean vol": 154183.44105,
          "total pod listing vol": 381540.956409,
          "total pod order vol": 293341.907755,
          "total pod vol": 674882.864164,
          "value": 293341.907755,
          "variable": "total_pod_order_vol"
         },
         {
          "season": 4645,
          "timestamp": 1645052953,
          "total bean vol": 154183.44105,
          "total pod listing vol": 381540.956409,
          "total pod order vol": 293341.907755,
          "total pod vol": 674882.864164,
          "value": 674882.864164,
          "variable": "total_pod_vol"
         },
         {
          "season": 4645,
          "timestamp": 1645052953,
          "total bean vol": 154183.44105,
          "total pod listing vol": 381540.956409,
          "total pod order vol": 293341.907755,
          "total pod vol": 674882.864164,
          "value": 154183.44105,
          "variable": "total_bean_vol"
         },
         {
          "season": 4669,
          "timestamp": 1645139962,
          "total bean vol": 157906.84446,
          "total pod listing vol": 391339.386437,
          "total pod order vol": 293341.907755,
          "total pod vol": 684681.294192,
          "value": 293341.907755,
          "variable": "total_pod_order_vol"
         },
         {
          "season": 4669,
          "timestamp": 1645139962,
          "total bean vol": 157906.84446,
          "total pod listing vol": 391339.386437,
          "total pod order vol": 293341.907755,
          "total pod vol": 684681.294192,
          "value": 684681.294192,
          "variable": "total_pod_vol"
         },
         {
          "season": 4669,
          "timestamp": 1645139962,
          "total bean vol": 157906.84446,
          "total pod listing vol": 391339.386437,
          "total pod order vol": 293341.907755,
          "total pod vol": 684681.294192,
          "value": 391339.386437,
          "variable": "total_pod_listing_vol"
         },
         {
          "season": 4669,
          "timestamp": 1645139962,
          "total bean vol": 157906.84446,
          "total pod listing vol": 391339.386437,
          "total pod order vol": 293341.907755,
          "total pod vol": 684681.294192,
          "value": 157906.84446,
          "variable": "total_bean_vol"
         },
         {
          "season": 4693,
          "timestamp": 1645215175,
          "total bean vol": 191639.074037,
          "total pod listing vol": 779796.756941,
          "total pod order vol": 305841.907755,
          "total pod vol": 1085638.664696,
          "value": 305841.907755,
          "variable": "total_pod_order_vol"
         },
         {
          "season": 4693,
          "timestamp": 1645215175,
          "total bean vol": 191639.074037,
          "total pod listing vol": 779796.756941,
          "total pod order vol": 305841.907755,
          "total pod vol": 1085638.664696,
          "value": 1085638.664696,
          "variable": "total_pod_vol"
         },
         {
          "season": 4693,
          "timestamp": 1645215175,
          "total bean vol": 191639.074037,
          "total pod listing vol": 779796.756941,
          "total pod order vol": 305841.907755,
          "total pod vol": 1085638.664696,
          "value": 191639.074037,
          "variable": "total_bean_vol"
         },
         {
          "season": 4693,
          "timestamp": 1645215175,
          "total bean vol": 191639.074037,
          "total pod listing vol": 779796.756941,
          "total pod order vol": 305841.907755,
          "total pod vol": 1085638.664696,
          "value": 779796.756941,
          "variable": "total_pod_listing_vol"
         },
         {
          "season": 4717,
          "timestamp": 1645290244,
          "total bean vol": 194159.846539,
          "total pod listing vol": 779796.756941,
          "total pod order vol": 504234.819865,
          "total pod vol": 1284031.576806,
          "value": 1284031.576806,
          "variable": "total_pod_vol"
         },
         {
          "season": 4717,
          "timestamp": 1645290244,
          "total bean vol": 194159.846539,
          "total pod listing vol": 779796.756941,
          "total pod order vol": 504234.819865,
          "total pod vol": 1284031.576806,
          "value": 779796.756941,
          "variable": "total_pod_listing_vol"
         },
         {
          "season": 4717,
          "timestamp": 1645290244,
          "total bean vol": 194159.846539,
          "total pod listing vol": 779796.756941,
          "total pod order vol": 504234.819865,
          "total pod vol": 1284031.576806,
          "value": 504234.819865,
          "variable": "total_pod_order_vol"
         },
         {
          "season": 4717,
          "timestamp": 1645290244,
          "total bean vol": 194159.846539,
          "total pod listing vol": 779796.756941,
          "total pod order vol": 504234.819865,
          "total pod vol": 1284031.576806,
          "value": 194159.846539,
          "variable": "total_bean_vol"
         },
         {
          "season": 4741,
          "timestamp": 1645374438,
          "total bean vol": 195059.23602,
          "total pod listing vol": 779796.756941,
          "total pod order vol": 505870.073468,
          "total pod vol": 1285666.830409,
          "value": 779796.756941,
          "variable": "total_pod_listing_vol"
         },
         {
          "season": 4741,
          "timestamp": 1645374438,
          "total bean vol": 195059.23602,
          "total pod listing vol": 779796.756941,
          "total pod order vol": 505870.073468,
          "total pod vol": 1285666.830409,
          "value": 1285666.830409,
          "variable": "total_pod_vol"
         },
         {
          "season": 4741,
          "timestamp": 1645374438,
          "total bean vol": 195059.23602,
          "total pod listing vol": 779796.756941,
          "total pod order vol": 505870.073468,
          "total pod vol": 1285666.830409,
          "value": 505870.073468,
          "variable": "total_pod_order_vol"
         },
         {
          "season": 4741,
          "timestamp": 1645374438,
          "total bean vol": 195059.23602,
          "total pod listing vol": 779796.756941,
          "total pod order vol": 505870.073468,
          "total pod vol": 1285666.830409,
          "value": 195059.23602,
          "variable": "total_bean_vol"
         },
         {
          "season": 4765,
          "timestamp": 1645424278,
          "total bean vol": 195059.23602,
          "total pod listing vol": 779796.756941,
          "total pod order vol": 505870.073468,
          "total pod vol": 1285666.830409,
          "value": 505870.073468,
          "variable": "total_pod_order_vol"
         },
         {
          "season": 4765,
          "timestamp": 1645424278,
          "total bean vol": 195059.23602,
          "total pod listing vol": 779796.756941,
          "total pod order vol": 505870.073468,
          "total pod vol": 1285666.830409,
          "value": 1285666.830409,
          "variable": "total_pod_vol"
         },
         {
          "season": 4765,
          "timestamp": 1645424278,
          "total bean vol": 195059.23602,
          "total pod listing vol": 779796.756941,
          "total pod order vol": 505870.073468,
          "total pod vol": 1285666.830409,
          "value": 195059.23602,
          "variable": "total_bean_vol"
         },
         {
          "season": 4765,
          "timestamp": 1645424278,
          "total bean vol": 195059.23602,
          "total pod listing vol": 779796.756941,
          "total pod order vol": 505870.073468,
          "total pod vol": 1285666.830409,
          "value": 779796.756941,
          "variable": "total_pod_listing_vol"
         },
         {
          "season": 4789,
          "timestamp": 1645549382,
          "total bean vol": 210579.979133,
          "total pod listing vol": 966930.285853,
          "total pod order vol": 506870.184018,
          "total pod vol": 1473800.469871,
          "value": 966930.285853,
          "variable": "total_pod_listing_vol"
         },
         {
          "season": 4789,
          "timestamp": 1645549382,
          "total bean vol": 210579.979133,
          "total pod listing vol": 966930.285853,
          "total pod order vol": 506870.184018,
          "total pod vol": 1473800.469871,
          "value": 1473800.469871,
          "variable": "total_pod_vol"
         },
         {
          "season": 4789,
          "timestamp": 1645549382,
          "total bean vol": 210579.979133,
          "total pod listing vol": 966930.285853,
          "total pod order vol": 506870.184018,
          "total pod vol": 1473800.469871,
          "value": 506870.184018,
          "variable": "total_pod_order_vol"
         },
         {
          "season": 4789,
          "timestamp": 1645549382,
          "total bean vol": 210579.979133,
          "total pod listing vol": 966930.285853,
          "total pod order vol": 506870.184018,
          "total pod vol": 1473800.469871,
          "value": 210579.979133,
          "variable": "total_bean_vol"
         },
         {
          "season": 4813,
          "timestamp": 1645655762,
          "total bean vol": 210846.004052,
          "total pod listing vol": 966930.285853,
          "total pod order vol": 507353.86569,
          "total pod vol": 1474284.151543,
          "value": 507353.86569,
          "variable": "total_pod_order_vol"
         },
         {
          "season": 4813,
          "timestamp": 1645655762,
          "total bean vol": 210846.004052,
          "total pod listing vol": 966930.285853,
          "total pod order vol": 507353.86569,
          "total pod vol": 1474284.151543,
          "value": 966930.285853,
          "variable": "total_pod_listing_vol"
         },
         {
          "season": 4813,
          "timestamp": 1645655762,
          "total bean vol": 210846.004052,
          "total pod listing vol": 966930.285853,
          "total pod order vol": 507353.86569,
          "total pod vol": 1474284.151543,
          "value": 1474284.151543,
          "variable": "total_pod_vol"
         },
         {
          "season": 4813,
          "timestamp": 1645655762,
          "total bean vol": 210846.004052,
          "total pod listing vol": 966930.285853,
          "total pod order vol": 507353.86569,
          "total pod vol": 1474284.151543,
          "value": 210846.004052,
          "variable": "total_bean_vol"
         },
         {
          "season": 4837,
          "timestamp": 1645732340,
          "total bean vol": 248695.943501,
          "total pod listing vol": 970675.63203,
          "total pod order vol": 819961.01814,
          "total pod vol": 1790636.65017,
          "value": 248695.943501,
          "variable": "total_bean_vol"
         },
         {
          "season": 4837,
          "timestamp": 1645732340,
          "total bean vol": 248695.943501,
          "total pod listing vol": 970675.63203,
          "total pod order vol": 819961.01814,
          "total pod vol": 1790636.65017,
          "value": 1790636.65017,
          "variable": "total_pod_vol"
         },
         {
          "season": 4837,
          "timestamp": 1645732340,
          "total bean vol": 248695.943501,
          "total pod listing vol": 970675.63203,
          "total pod order vol": 819961.01814,
          "total pod vol": 1790636.65017,
          "value": 819961.01814,
          "variable": "total_pod_order_vol"
         },
         {
          "season": 4837,
          "timestamp": 1645732340,
          "total bean vol": 248695.943501,
          "total pod listing vol": 970675.63203,
          "total pod order vol": 819961.01814,
          "total pod vol": 1790636.65017,
          "value": 970675.63203,
          "variable": "total_pod_listing_vol"
         },
         {
          "season": 4861,
          "timestamp": 1645768024,
          "total bean vol": 248695.943501,
          "total pod listing vol": 970675.63203,
          "total pod order vol": 819961.01814,
          "total pod vol": 1790636.65017,
          "value": 1790636.65017,
          "variable": "total_pod_vol"
         },
         {
          "season": 4861,
          "timestamp": 1645768024,
          "total bean vol": 248695.943501,
          "total pod listing vol": 970675.63203,
          "total pod order vol": 819961.01814,
          "total pod vol": 1790636.65017,
          "value": 819961.01814,
          "variable": "total_pod_order_vol"
         },
         {
          "season": 4861,
          "timestamp": 1645768024,
          "total bean vol": 248695.943501,
          "total pod listing vol": 970675.63203,
          "total pod order vol": 819961.01814,
          "total pod vol": 1790636.65017,
          "value": 248695.943501,
          "variable": "total_bean_vol"
         },
         {
          "season": 4861,
          "timestamp": 1645768024,
          "total bean vol": 248695.943501,
          "total pod listing vol": 970675.63203,
          "total pod order vol": 819961.01814,
          "total pod vol": 1790636.65017,
          "value": 970675.63203,
          "variable": "total_pod_listing_vol"
         },
         {
          "season": 4885,
          "timestamp": 1645914532,
          "total bean vol": 251699.94398,
          "total pod listing vol": 974676.112126,
          "total pod order vol": 919961.01814,
          "total pod vol": 1894637.130266,
          "value": 1894637.130266,
          "variable": "total_pod_vol"
         },
         {
          "season": 4885,
          "timestamp": 1645914532,
          "total bean vol": 251699.94398,
          "total pod listing vol": 974676.112126,
          "total pod order vol": 919961.01814,
          "total pod vol": 1894637.130266,
          "value": 919961.01814,
          "variable": "total_pod_order_vol"
         },
         {
          "season": 4885,
          "timestamp": 1645914532,
          "total bean vol": 251699.94398,
          "total pod listing vol": 974676.112126,
          "total pod order vol": 919961.01814,
          "total pod vol": 1894637.130266,
          "value": 974676.112126,
          "variable": "total_pod_listing_vol"
         },
         {
          "season": 4885,
          "timestamp": 1645914532,
          "total bean vol": 251699.94398,
          "total pod listing vol": 974676.112126,
          "total pod order vol": 919961.01814,
          "total pod vol": 1894637.130266,
          "value": 251699.94398,
          "variable": "total_bean_vol"
         },
         {
          "season": 4909,
          "timestamp": 1645970345,
          "total bean vol": 254539.855847,
          "total pod listing vol": 977116.960879,
          "total pod order vol": 986627.684806,
          "total pod vol": 1963744.645685,
          "value": 977116.960879,
          "variable": "total_pod_listing_vol"
         },
         {
          "season": 4909,
          "timestamp": 1645970345,
          "total bean vol": 254539.855847,
          "total pod listing vol": 977116.960879,
          "total pod order vol": 986627.684806,
          "total pod vol": 1963744.645685,
          "value": 254539.855847,
          "variable": "total_bean_vol"
         },
         {
          "season": 4909,
          "timestamp": 1645970345,
          "total bean vol": 254539.855847,
          "total pod listing vol": 977116.960879,
          "total pod order vol": 986627.684806,
          "total pod vol": 1963744.645685,
          "value": 986627.684806,
          "variable": "total_pod_order_vol"
         },
         {
          "season": 4909,
          "timestamp": 1645970345,
          "total bean vol": 254539.855847,
          "total pod listing vol": 977116.960879,
          "total pod order vol": 986627.684806,
          "total pod vol": 1963744.645685,
          "value": 1963744.645685,
          "variable": "total_pod_vol"
         },
         {
          "season": 4933,
          "timestamp": 1646006402,
          "total bean vol": 254539.855847,
          "total pod listing vol": 977116.960879,
          "total pod order vol": 986627.684806,
          "total pod vol": 1963744.645685,
          "value": 977116.960879,
          "variable": "total_pod_listing_vol"
         },
         {
          "season": 4933,
          "timestamp": 1646006402,
          "total bean vol": 254539.855847,
          "total pod listing vol": 977116.960879,
          "total pod order vol": 986627.684806,
          "total pod vol": 1963744.645685,
          "value": 254539.855847,
          "variable": "total_bean_vol"
         },
         {
          "season": 4933,
          "timestamp": 1646006402,
          "total bean vol": 254539.855847,
          "total pod listing vol": 977116.960879,
          "total pod order vol": 986627.684806,
          "total pod vol": 1963744.645685,
          "value": 986627.684806,
          "variable": "total_pod_order_vol"
         },
         {
          "season": 4933,
          "timestamp": 1646006402,
          "total bean vol": 254539.855847,
          "total pod listing vol": 977116.960879,
          "total pod order vol": 986627.684806,
          "total pod vol": 1963744.645685,
          "value": 1963744.645685,
          "variable": "total_pod_vol"
         },
         {
          "season": 4957,
          "timestamp": 1646178060,
          "total bean vol": 303608.785738,
          "total pod listing vol": 1510893.968534,
          "total pod order vol": 986627.684806,
          "total pod vol": 2497521.65334,
          "value": 303608.785738,
          "variable": "total_bean_vol"
         },
         {
          "season": 4957,
          "timestamp": 1646178060,
          "total bean vol": 303608.785738,
          "total pod listing vol": 1510893.968534,
          "total pod order vol": 986627.684806,
          "total pod vol": 2497521.65334,
          "value": 1510893.968534,
          "variable": "total_pod_listing_vol"
         },
         {
          "season": 4957,
          "timestamp": 1646178060,
          "total bean vol": 303608.785738,
          "total pod listing vol": 1510893.968534,
          "total pod order vol": 986627.684806,
          "total pod vol": 2497521.65334,
          "value": 2497521.65334,
          "variable": "total_pod_vol"
         },
         {
          "season": 4957,
          "timestamp": 1646178060,
          "total bean vol": 303608.785738,
          "total pod listing vol": 1510893.968534,
          "total pod order vol": 986627.684806,
          "total pod vol": 2497521.65334,
          "value": 986627.684806,
          "variable": "total_pod_order_vol"
         },
         {
          "season": 4981,
          "timestamp": 1646263326,
          "total bean vol": 327963.100327,
          "total pod listing vol": 1781497.463999,
          "total pod order vol": 986627.684806,
          "total pod vol": 2768125.148805,
          "value": 986627.684806,
          "variable": "total_pod_order_vol"
         },
         {
          "season": 4981,
          "timestamp": 1646263326,
          "total bean vol": 327963.100327,
          "total pod listing vol": 1781497.463999,
          "total pod order vol": 986627.684806,
          "total pod vol": 2768125.148805,
          "value": 2768125.148805,
          "variable": "total_pod_vol"
         },
         {
          "season": 4981,
          "timestamp": 1646263326,
          "total bean vol": 327963.100327,
          "total pod listing vol": 1781497.463999,
          "total pod order vol": 986627.684806,
          "total pod vol": 2768125.148805,
          "value": 1781497.463999,
          "variable": "total_pod_listing_vol"
         },
         {
          "season": 4981,
          "timestamp": 1646263326,
          "total bean vol": 327963.100327,
          "total pod listing vol": 1781497.463999,
          "total pod order vol": 986627.684806,
          "total pod vol": 2768125.148805,
          "value": 327963.100327,
          "variable": "total_bean_vol"
         },
         {
          "season": 5005,
          "timestamp": 1646342979,
          "total bean vol": 332936.744079,
          "total pod listing vol": 1808463.008658,
          "total pod order vol": 1023139.559462,
          "total pod vol": 2831602.56812,
          "value": 2831602.56812,
          "variable": "total_pod_vol"
         },
         {
          "season": 5005,
          "timestamp": 1646342979,
          "total bean vol": 332936.744079,
          "total pod listing vol": 1808463.008658,
          "total pod order vol": 1023139.559462,
          "total pod vol": 2831602.56812,
          "value": 1808463.008658,
          "variable": "total_pod_listing_vol"
         },
         {
          "season": 5005,
          "timestamp": 1646342979,
          "total bean vol": 332936.744079,
          "total pod listing vol": 1808463.008658,
          "total pod order vol": 1023139.559462,
          "total pod vol": 2831602.56812,
          "value": 1023139.559462,
          "variable": "total_pod_order_vol"
         },
         {
          "season": 5005,
          "timestamp": 1646342979,
          "total bean vol": 332936.744079,
          "total pod listing vol": 1808463.008658,
          "total pod order vol": 1023139.559462,
          "total pod vol": 2831602.56812,
          "value": 332936.744079,
          "variable": "total_bean_vol"
         },
         {
          "season": 5029,
          "timestamp": 1646427156,
          "total bean vol": 333223.211002,
          "total pod listing vol": 1808956.440896,
          "total pod order vol": 1041424.174862,
          "total pod vol": 2850380.615758,
          "value": 1041424.174862,
          "variable": "total_pod_order_vol"
         },
         {
          "season": 5029,
          "timestamp": 1646427156,
          "total bean vol": 333223.211002,
          "total pod listing vol": 1808956.440896,
          "total pod order vol": 1041424.174862,
          "total pod vol": 2850380.615758,
          "value": 1808956.440896,
          "variable": "total_pod_listing_vol"
         },
         {
          "season": 5029,
          "timestamp": 1646427156,
          "total bean vol": 333223.211002,
          "total pod listing vol": 1808956.440896,
          "total pod order vol": 1041424.174862,
          "total pod vol": 2850380.615758,
          "value": 333223.211002,
          "variable": "total_bean_vol"
         },
         {
          "season": 5029,
          "timestamp": 1646427156,
          "total bean vol": 333223.211002,
          "total pod listing vol": 1808956.440896,
          "total pod order vol": 1041424.174862,
          "total pod vol": 2850380.615758,
          "value": 2850380.615758,
          "variable": "total_pod_vol"
         },
         {
          "season": 5053,
          "timestamp": 1646514996,
          "total bean vol": 338021.188646,
          "total pod listing vol": 1821582.697854,
          "total pod order vol": 1041424.174862,
          "total pod vol": 2863006.872716,
          "value": 1041424.174862,
          "variable": "total_pod_order_vol"
         },
         {
          "season": 5053,
          "timestamp": 1646514996,
          "total bean vol": 338021.188646,
          "total pod listing vol": 1821582.697854,
          "total pod order vol": 1041424.174862,
          "total pod vol": 2863006.872716,
          "value": 2863006.872716,
          "variable": "total_pod_vol"
         },
         {
          "season": 5053,
          "timestamp": 1646514996,
          "total bean vol": 338021.188646,
          "total pod listing vol": 1821582.697854,
          "total pod order vol": 1041424.174862,
          "total pod vol": 2863006.872716,
          "value": 338021.188646,
          "variable": "total_bean_vol"
         },
         {
          "season": 5053,
          "timestamp": 1646514996,
          "total bean vol": 338021.188646,
          "total pod listing vol": 1821582.697854,
          "total pod order vol": 1041424.174862,
          "total pod vol": 2863006.872716,
          "value": 1821582.697854,
          "variable": "total_pod_listing_vol"
         },
         {
          "season": 5077,
          "timestamp": 1646609296,
          "total bean vol": 400506.311105,
          "total pod listing vol": 2067546.741749,
          "total pod order vol": 1041424.174862,
          "total pod vol": 3108970.916611,
          "value": 400506.311105,
          "variable": "total_bean_vol"
         },
         {
          "season": 5077,
          "timestamp": 1646609296,
          "total bean vol": 400506.311105,
          "total pod listing vol": 2067546.741749,
          "total pod order vol": 1041424.174862,
          "total pod vol": 3108970.916611,
          "value": 1041424.174862,
          "variable": "total_pod_order_vol"
         },
         {
          "season": 5077,
          "timestamp": 1646609296,
          "total bean vol": 400506.311105,
          "total pod listing vol": 2067546.741749,
          "total pod order vol": 1041424.174862,
          "total pod vol": 3108970.916611,
          "value": 2067546.741749,
          "variable": "total_pod_listing_vol"
         },
         {
          "season": 5077,
          "timestamp": 1646609296,
          "total bean vol": 400506.311105,
          "total pod listing vol": 2067546.741749,
          "total pod order vol": 1041424.174862,
          "total pod vol": 3108970.916611,
          "value": 3108970.916611,
          "variable": "total_pod_vol"
         },
         {
          "season": 5101,
          "timestamp": 1646692333,
          "total bean vol": 413977.048801,
          "total pod listing vol": 2108348.639589,
          "total pod order vol": 1061613.474497,
          "total pod vol": 3169962.114086,
          "value": 1061613.474497,
          "variable": "total_pod_order_vol"
         },
         {
          "season": 5101,
          "timestamp": 1646692333,
          "total bean vol": 413977.048801,
          "total pod listing vol": 2108348.639589,
          "total pod order vol": 1061613.474497,
          "total pod vol": 3169962.114086,
          "value": 2108348.639589,
          "variable": "total_pod_listing_vol"
         },
         {
          "season": 5101,
          "timestamp": 1646692333,
          "total bean vol": 413977.048801,
          "total pod listing vol": 2108348.639589,
          "total pod order vol": 1061613.474497,
          "total pod vol": 3169962.114086,
          "value": 3169962.114086,
          "variable": "total_pod_vol"
         },
         {
          "season": 5101,
          "timestamp": 1646692333,
          "total bean vol": 413977.048801,
          "total pod listing vol": 2108348.639589,
          "total pod order vol": 1061613.474497,
          "total pod vol": 3169962.114086,
          "value": 413977.048801,
          "variable": "total_bean_vol"
         },
         {
          "season": 5125,
          "timestamp": 1646778759,
          "total bean vol": 441982.937428,
          "total pod listing vol": 2274088.006681,
          "total pod order vol": 1065356.105445,
          "total pod vol": 3339444.112126,
          "value": 3339444.112126,
          "variable": "total_pod_vol"
         },
         {
          "season": 5125,
          "timestamp": 1646778759,
          "total bean vol": 441982.937428,
          "total pod listing vol": 2274088.006681,
          "total pod order vol": 1065356.105445,
          "total pod vol": 3339444.112126,
          "value": 2274088.006681,
          "variable": "total_pod_listing_vol"
         },
         {
          "season": 5125,
          "timestamp": 1646778759,
          "total bean vol": 441982.937428,
          "total pod listing vol": 2274088.006681,
          "total pod order vol": 1065356.105445,
          "total pod vol": 3339444.112126,
          "value": 441982.937428,
          "variable": "total_bean_vol"
         },
         {
          "season": 5125,
          "timestamp": 1646778759,
          "total bean vol": 441982.937428,
          "total pod listing vol": 2274088.006681,
          "total pod order vol": 1065356.105445,
          "total pod vol": 3339444.112126,
          "value": 1065356.105445,
          "variable": "total_pod_order_vol"
         },
         {
          "season": 5149,
          "timestamp": 1646868031,
          "total bean vol": 625604.529573,
          "total pod listing vol": 3573959.835924,
          "total pod order vol": 1565356.105445,
          "total pod vol": 5139315.941369,
          "value": 3573959.835924,
          "variable": "total_pod_listing_vol"
         },
         {
          "season": 5149,
          "timestamp": 1646868031,
          "total bean vol": 625604.529573,
          "total pod listing vol": 3573959.835924,
          "total pod order vol": 1565356.105445,
          "total pod vol": 5139315.941369,
          "value": 1565356.105445,
          "variable": "total_pod_order_vol"
         },
         {
          "season": 5149,
          "timestamp": 1646868031,
          "total bean vol": 625604.529573,
          "total pod listing vol": 3573959.835924,
          "total pod order vol": 1565356.105445,
          "total pod vol": 5139315.941369,
          "value": 5139315.941369,
          "variable": "total_pod_vol"
         },
         {
          "season": 5149,
          "timestamp": 1646868031,
          "total bean vol": 625604.529573,
          "total pod listing vol": 3573959.835924,
          "total pod order vol": 1565356.105445,
          "total pod vol": 5139315.941369,
          "value": 625604.529573,
          "variable": "total_bean_vol"
         },
         {
          "season": 5173,
          "timestamp": 1646956151,
          "total bean vol": 653134.010303,
          "total pod listing vol": 3682345.382738,
          "total pod order vol": 1565356.105445,
          "total pod vol": 5247701.488183,
          "value": 653134.010303,
          "variable": "total_bean_vol"
         },
         {
          "season": 5173,
          "timestamp": 1646956151,
          "total bean vol": 653134.010303,
          "total pod listing vol": 3682345.382738,
          "total pod order vol": 1565356.105445,
          "total pod vol": 5247701.488183,
          "value": 5247701.488183,
          "variable": "total_pod_vol"
         },
         {
          "season": 5173,
          "timestamp": 1646956151,
          "total bean vol": 653134.010303,
          "total pod listing vol": 3682345.382738,
          "total pod order vol": 1565356.105445,
          "total pod vol": 5247701.488183,
          "value": 1565356.105445,
          "variable": "total_pod_order_vol"
         },
         {
          "season": 5173,
          "timestamp": 1646956151,
          "total bean vol": 653134.010303,
          "total pod listing vol": 3682345.382738,
          "total pod order vol": 1565356.105445,
          "total pod vol": 5247701.488183,
          "value": 3682345.382738,
          "variable": "total_pod_listing_vol"
         },
         {
          "season": 5197,
          "timestamp": 1647042888,
          "total bean vol": 696157.304546,
          "total pod listing vol": 4445560.666243,
          "total pod order vol": 1597289.016293,
          "total pod vol": 6042849.682536,
          "value": 4445560.666243,
          "variable": "total_pod_listing_vol"
         },
         {
          "season": 5197,
          "timestamp": 1647042888,
          "total bean vol": 696157.304546,
          "total pod listing vol": 4445560.666243,
          "total pod order vol": 1597289.016293,
          "total pod vol": 6042849.682536,
          "value": 696157.304546,
          "variable": "total_bean_vol"
         },
         {
          "season": 5197,
          "timestamp": 1647042888,
          "total bean vol": 696157.304546,
          "total pod listing vol": 4445560.666243,
          "total pod order vol": 1597289.016293,
          "total pod vol": 6042849.682536,
          "value": 6042849.682536,
          "variable": "total_pod_vol"
         },
         {
          "season": 5197,
          "timestamp": 1647042888,
          "total bean vol": 696157.304546,
          "total pod listing vol": 4445560.666243,
          "total pod order vol": 1597289.016293,
          "total pod vol": 6042849.682536,
          "value": 1597289.016293,
          "variable": "total_pod_order_vol"
         },
         {
          "season": 5221,
          "timestamp": 1647128786,
          "total bean vol": 742742.587012,
          "total pod listing vol": 4906983.099316,
          "total pod order vol": 1890813.699831,
          "total pod vol": 6797796.799147,
          "value": 6797796.799147,
          "variable": "total_pod_vol"
         },
         {
          "season": 5221,
          "timestamp": 1647128786,
          "total bean vol": 742742.587012,
          "total pod listing vol": 4906983.099316,
          "total pod order vol": 1890813.699831,
          "total pod vol": 6797796.799147,
          "value": 4906983.099316,
          "variable": "total_pod_listing_vol"
         },
         {
          "season": 5221,
          "timestamp": 1647128786,
          "total bean vol": 742742.587012,
          "total pod listing vol": 4906983.099316,
          "total pod order vol": 1890813.699831,
          "total pod vol": 6797796.799147,
          "value": 1890813.699831,
          "variable": "total_pod_order_vol"
         },
         {
          "season": 5221,
          "timestamp": 1647128786,
          "total bean vol": 742742.587012,
          "total pod listing vol": 4906983.099316,
          "total pod order vol": 1890813.699831,
          "total pod vol": 6797796.799147,
          "value": 742742.587012,
          "variable": "total_bean_vol"
         },
         {
          "season": 5245,
          "timestamp": 1647211997,
          "total bean vol": 757339.720102,
          "total pod listing vol": 5090071.604789,
          "total pod order vol": 1895256.376219,
          "total pod vol": 6985327.981008,
          "value": 5090071.604789,
          "variable": "total_pod_listing_vol"
         },
         {
          "season": 5245,
          "timestamp": 1647211997,
          "total bean vol": 757339.720102,
          "total pod listing vol": 5090071.604789,
          "total pod order vol": 1895256.376219,
          "total pod vol": 6985327.981008,
          "value": 6985327.981008,
          "variable": "total_pod_vol"
         },
         {
          "season": 5245,
          "timestamp": 1647211997,
          "total bean vol": 757339.720102,
          "total pod listing vol": 5090071.604789,
          "total pod order vol": 1895256.376219,
          "total pod vol": 6985327.981008,
          "value": 1895256.376219,
          "variable": "total_pod_order_vol"
         },
         {
          "season": 5245,
          "timestamp": 1647211997,
          "total bean vol": 757339.720102,
          "total pod listing vol": 5090071.604789,
          "total pod order vol": 1895256.376219,
          "total pod vol": 6985327.981008,
          "value": 757339.720102,
          "variable": "total_bean_vol"
         },
         {
          "season": 5269,
          "timestamp": 1647302368,
          "total bean vol": 796841.738907,
          "total pod listing vol": 5238159.67585,
          "total pod order vol": 1926363.998853,
          "total pod vol": 7164523.674703,
          "value": 7164523.674703,
          "variable": "total_pod_vol"
         },
         {
          "season": 5269,
          "timestamp": 1647302368,
          "total bean vol": 796841.738907,
          "total pod listing vol": 5238159.67585,
          "total pod order vol": 1926363.998853,
          "total pod vol": 7164523.674703,
          "value": 1926363.998853,
          "variable": "total_pod_order_vol"
         },
         {
          "season": 5269,
          "timestamp": 1647302368,
          "total bean vol": 796841.738907,
          "total pod listing vol": 5238159.67585,
          "total pod order vol": 1926363.998853,
          "total pod vol": 7164523.674703,
          "value": 796841.738907,
          "variable": "total_bean_vol"
         },
         {
          "season": 5269,
          "timestamp": 1647302368,
          "total bean vol": 796841.738907,
          "total pod listing vol": 5238159.67585,
          "total pod order vol": 1926363.998853,
          "total pod vol": 7164523.674703,
          "value": 5238159.67585,
          "variable": "total_pod_listing_vol"
         },
         {
          "season": 5293,
          "timestamp": 1647386623,
          "total bean vol": 857112.135209,
          "total pod listing vol": 5560139.700207,
          "total pod order vol": 2092955.004283,
          "total pod vol": 7653094.70449,
          "value": 7653094.70449,
          "variable": "total_pod_vol"
         },
         {
          "season": 5293,
          "timestamp": 1647386623,
          "total bean vol": 857112.135209,
          "total pod listing vol": 5560139.700207,
          "total pod order vol": 2092955.004283,
          "total pod vol": 7653094.70449,
          "value": 857112.135209,
          "variable": "total_bean_vol"
         },
         {
          "season": 5293,
          "timestamp": 1647386623,
          "total bean vol": 857112.135209,
          "total pod listing vol": 5560139.700207,
          "total pod order vol": 2092955.004283,
          "total pod vol": 7653094.70449,
          "value": 5560139.700207,
          "variable": "total_pod_listing_vol"
         },
         {
          "season": 5293,
          "timestamp": 1647386623,
          "total bean vol": 857112.135209,
          "total pod listing vol": 5560139.700207,
          "total pod order vol": 2092955.004283,
          "total pod vol": 7653094.70449,
          "value": 2092955.004283,
          "variable": "total_pod_order_vol"
         },
         {
          "season": 5317,
          "timestamp": 1647473563,
          "total bean vol": 899911.996859,
          "total pod listing vol": 5787420.060394,
          "total pod order vol": 2126695.261873,
          "total pod vol": 7914115.322267,
          "value": 899911.996859,
          "variable": "total_bean_vol"
         },
         {
          "season": 5317,
          "timestamp": 1647473563,
          "total bean vol": 899911.996859,
          "total pod listing vol": 5787420.060394,
          "total pod order vol": 2126695.261873,
          "total pod vol": 7914115.322267,
          "value": 2126695.261873,
          "variable": "total_pod_order_vol"
         },
         {
          "season": 5317,
          "timestamp": 1647473563,
          "total bean vol": 899911.996859,
          "total pod listing vol": 5787420.060394,
          "total pod order vol": 2126695.261873,
          "total pod vol": 7914115.322267,
          "value": 7914115.322267,
          "variable": "total_pod_vol"
         },
         {
          "season": 5317,
          "timestamp": 1647473563,
          "total bean vol": 899911.996859,
          "total pod listing vol": 5787420.060394,
          "total pod order vol": 2126695.261873,
          "total pod vol": 7914115.322267,
          "value": 5787420.060394,
          "variable": "total_pod_listing_vol"
         },
         {
          "season": 5341,
          "timestamp": 1647560112,
          "total bean vol": 1122350.805546,
          "total pod listing vol": 8195838.834535,
          "total pod order vol": 2126695.261873,
          "total pod vol": 10322534.096408,
          "value": 1122350.805546,
          "variable": "total_bean_vol"
         },
         {
          "season": 5341,
          "timestamp": 1647560112,
          "total bean vol": 1122350.805546,
          "total pod listing vol": 8195838.834535,
          "total pod order vol": 2126695.261873,
          "total pod vol": 10322534.096408,
          "value": 8195838.834535,
          "variable": "total_pod_listing_vol"
         },
         {
          "season": 5341,
          "timestamp": 1647560112,
          "total bean vol": 1122350.805546,
          "total pod listing vol": 8195838.834535,
          "total pod order vol": 2126695.261873,
          "total pod vol": 10322534.096408,
          "value": 10322534.096408,
          "variable": "total_pod_vol"
         },
         {
          "season": 5341,
          "timestamp": 1647560112,
          "total bean vol": 1122350.805546,
          "total pod listing vol": 8195838.834535,
          "total pod order vol": 2126695.261873,
          "total pod vol": 10322534.096408,
          "value": 2126695.261873,
          "variable": "total_pod_order_vol"
         },
         {
          "season": 5365,
          "timestamp": 1647645374,
          "total bean vol": 1193703.11494,
          "total pod listing vol": 8783559.585444,
          "total pod order vol": 2126695.261873,
          "total pod vol": 10910254.847317,
          "value": 8783559.585444,
          "variable": "total_pod_listing_vol"
         },
         {
          "season": 5365,
          "timestamp": 1647645374,
          "total bean vol": 1193703.11494,
          "total pod listing vol": 8783559.585444,
          "total pod order vol": 2126695.261873,
          "total pod vol": 10910254.847317,
          "value": 1193703.11494,
          "variable": "total_bean_vol"
         },
         {
          "season": 5365,
          "timestamp": 1647645374,
          "total bean vol": 1193703.11494,
          "total pod listing vol": 8783559.585444,
          "total pod order vol": 2126695.261873,
          "total pod vol": 10910254.847317,
          "value": 10910254.847317,
          "variable": "total_pod_vol"
         },
         {
          "season": 5365,
          "timestamp": 1647645374,
          "total bean vol": 1193703.11494,
          "total pod listing vol": 8783559.585444,
          "total pod order vol": 2126695.261873,
          "total pod vol": 10910254.847317,
          "value": 2126695.261873,
          "variable": "total_pod_order_vol"
         },
         {
          "season": 5389,
          "timestamp": 1647734009,
          "total bean vol": 1228644.204988,
          "total pod listing vol": 9075279.357225,
          "total pod order vol": 2126695.261873,
          "total pod vol": 11201974.619098,
          "value": 1228644.204988,
          "variable": "total_bean_vol"
         },
         {
          "season": 5389,
          "timestamp": 1647734009,
          "total bean vol": 1228644.204988,
          "total pod listing vol": 9075279.357225,
          "total pod order vol": 2126695.261873,
          "total pod vol": 11201974.619098,
          "value": 2126695.261873,
          "variable": "total_pod_order_vol"
         },
         {
          "season": 5389,
          "timestamp": 1647734009,
          "total bean vol": 1228644.204988,
          "total pod listing vol": 9075279.357225,
          "total pod order vol": 2126695.261873,
          "total pod vol": 11201974.619098,
          "value": 9075279.357225,
          "variable": "total_pod_listing_vol"
         },
         {
          "season": 5389,
          "timestamp": 1647734009,
          "total bean vol": 1228644.204988,
          "total pod listing vol": 9075279.357225,
          "total pod order vol": 2126695.261873,
          "total pod vol": 11201974.619098,
          "value": 11201974.619098,
          "variable": "total_pod_vol"
         },
         {
          "season": 5413,
          "timestamp": 1647814170,
          "total bean vol": 1253566.03742,
          "total pod listing vol": 9341500.669542,
          "total pod order vol": 2126695.261873,
          "total pod vol": 11468195.931415,
          "value": 11468195.931415,
          "variable": "total_pod_vol"
         },
         {
          "season": 5413,
          "timestamp": 1647814170,
          "total bean vol": 1253566.03742,
          "total pod listing vol": 9341500.669542,
          "total pod order vol": 2126695.261873,
          "total pod vol": 11468195.931415,
          "value": 9341500.669542,
          "variable": "total_pod_listing_vol"
         },
         {
          "season": 5413,
          "timestamp": 1647814170,
          "total bean vol": 1253566.03742,
          "total pod listing vol": 9341500.669542,
          "total pod order vol": 2126695.261873,
          "total pod vol": 11468195.931415,
          "value": 1253566.03742,
          "variable": "total_bean_vol"
         },
         {
          "season": 5413,
          "timestamp": 1647814170,
          "total bean vol": 1253566.03742,
          "total pod listing vol": 9341500.669542,
          "total pod order vol": 2126695.261873,
          "total pod vol": 11468195.931415,
          "value": 2126695.261873,
          "variable": "total_pod_order_vol"
         },
         {
          "season": 5437,
          "timestamp": 1647905051,
          "total bean vol": 1286984.255873,
          "total pod listing vol": 9793211.52467,
          "total pod order vol": 2162745.261873,
          "total pod vol": 11955956.786543,
          "value": 11955956.786543,
          "variable": "total_pod_vol"
         },
         {
          "season": 5437,
          "timestamp": 1647905051,
          "total bean vol": 1286984.255873,
          "total pod listing vol": 9793211.52467,
          "total pod order vol": 2162745.261873,
          "total pod vol": 11955956.786543,
          "value": 2162745.261873,
          "variable": "total_pod_order_vol"
         },
         {
          "season": 5437,
          "timestamp": 1647905051,
          "total bean vol": 1286984.255873,
          "total pod listing vol": 9793211.52467,
          "total pod order vol": 2162745.261873,
          "total pod vol": 11955956.786543,
          "value": 1286984.255873,
          "variable": "total_bean_vol"
         },
         {
          "season": 5437,
          "timestamp": 1647905051,
          "total bean vol": 1286984.255873,
          "total pod listing vol": 9793211.52467,
          "total pod order vol": 2162745.261873,
          "total pod vol": 11955956.786543,
          "value": 9793211.52467,
          "variable": "total_pod_listing_vol"
         },
         {
          "season": 5461,
          "timestamp": 1647990993,
          "total bean vol": 1363923.853871,
          "total pod listing vol": 9996861.507966,
          "total pod order vol": 2162745.261873,
          "total pod vol": 12159606.769839,
          "value": 1363923.853871,
          "variable": "total_bean_vol"
         },
         {
          "season": 5461,
          "timestamp": 1647990993,
          "total bean vol": 1363923.853871,
          "total pod listing vol": 9996861.507966,
          "total pod order vol": 2162745.261873,
          "total pod vol": 12159606.769839,
          "value": 9996861.507966,
          "variable": "total_pod_listing_vol"
         },
         {
          "season": 5461,
          "timestamp": 1647990993,
          "total bean vol": 1363923.853871,
          "total pod listing vol": 9996861.507966,
          "total pod order vol": 2162745.261873,
          "total pod vol": 12159606.769839,
          "value": 2162745.261873,
          "variable": "total_pod_order_vol"
         },
         {
          "season": 5461,
          "timestamp": 1647990993,
          "total bean vol": 1363923.853871,
          "total pod listing vol": 9996861.507966,
          "total pod order vol": 2162745.261873,
          "total pod vol": 12159606.769839,
          "value": 12159606.769839,
          "variable": "total_pod_vol"
         },
         {
          "season": 5485,
          "timestamp": 1648078070,
          "total bean vol": 1370414.515195,
          "total pod listing vol": 10255544.093748,
          "total pod order vol": 2162745.261873,
          "total pod vol": 12418289.355621,
          "value": 10255544.093748,
          "variable": "total_pod_listing_vol"
         },
         {
          "season": 5485,
          "timestamp": 1648078070,
          "total bean vol": 1370414.515195,
          "total pod listing vol": 10255544.093748,
          "total pod order vol": 2162745.261873,
          "total pod vol": 12418289.355621,
          "value": 1370414.515195,
          "variable": "total_bean_vol"
         },
         {
          "season": 5485,
          "timestamp": 1648078070,
          "total bean vol": 1370414.515195,
          "total pod listing vol": 10255544.093748,
          "total pod order vol": 2162745.261873,
          "total pod vol": 12418289.355621,
          "value": 12418289.355621,
          "variable": "total_pod_vol"
         },
         {
          "season": 5485,
          "timestamp": 1648078070,
          "total bean vol": 1370414.515195,
          "total pod listing vol": 10255544.093748,
          "total pod order vol": 2162745.261873,
          "total pod vol": 12418289.355621,
          "value": 2162745.261873,
          "variable": "total_pod_order_vol"
         },
         {
          "season": 5509,
          "timestamp": 1648164809,
          "total bean vol": 1448234.697949,
          "total pod listing vol": 10937702.097924,
          "total pod order vol": 2162745.261873,
          "total pod vol": 13100447.359797,
          "value": 1448234.697949,
          "variable": "total_bean_vol"
         },
         {
          "season": 5509,
          "timestamp": 1648164809,
          "total bean vol": 1448234.697949,
          "total pod listing vol": 10937702.097924,
          "total pod order vol": 2162745.261873,
          "total pod vol": 13100447.359797,
          "value": 13100447.359797,
          "variable": "total_pod_vol"
         },
         {
          "season": 5509,
          "timestamp": 1648164809,
          "total bean vol": 1448234.697949,
          "total pod listing vol": 10937702.097924,
          "total pod order vol": 2162745.261873,
          "total pod vol": 13100447.359797,
          "value": 2162745.261873,
          "variable": "total_pod_order_vol"
         },
         {
          "season": 5509,
          "timestamp": 1648164809,
          "total bean vol": 1448234.697949,
          "total pod listing vol": 10937702.097924,
          "total pod order vol": 2162745.261873,
          "total pod vol": 13100447.359797,
          "value": 10937702.097924,
          "variable": "total_pod_listing_vol"
         },
         {
          "season": 5533,
          "timestamp": 1648238848,
          "total bean vol": 1548182.275503,
          "total pod listing vol": 11439206.70357,
          "total pod order vol": 2171783.151003,
          "total pod vol": 13610989.854573,
          "value": 13610989.854573,
          "variable": "total_pod_vol"
         },
         {
          "season": 5533,
          "timestamp": 1648238848,
          "total bean vol": 1548182.275503,
          "total pod listing vol": 11439206.70357,
          "total pod order vol": 2171783.151003,
          "total pod vol": 13610989.854573,
          "value": 2171783.151003,
          "variable": "total_pod_order_vol"
         },
         {
          "season": 5533,
          "timestamp": 1648238848,
          "total bean vol": 1548182.275503,
          "total pod listing vol": 11439206.70357,
          "total pod order vol": 2171783.151003,
          "total pod vol": 13610989.854573,
          "value": 1548182.275503,
          "variable": "total_bean_vol"
         },
         {
          "season": 5533,
          "timestamp": 1648238848,
          "total bean vol": 1548182.275503,
          "total pod listing vol": 11439206.70357,
          "total pod order vol": 2171783.151003,
          "total pod vol": 13610989.854573,
          "value": 11439206.70357,
          "variable": "total_pod_listing_vol"
         },
         {
          "season": 5557,
          "timestamp": 1648336763,
          "total bean vol": 1598387.633989,
          "total pod listing vol": 12058582.051629,
          "total pod order vol": 2181959.119836,
          "total pod vol": 14240541.171465,
          "value": 14240541.171465,
          "variable": "total_pod_vol"
         },
         {
          "season": 5557,
          "timestamp": 1648336763,
          "total bean vol": 1598387.633989,
          "total pod listing vol": 12058582.051629,
          "total pod order vol": 2181959.119836,
          "total pod vol": 14240541.171465,
          "value": 12058582.051629,
          "variable": "total_pod_listing_vol"
         },
         {
          "season": 5557,
          "timestamp": 1648336763,
          "total bean vol": 1598387.633989,
          "total pod listing vol": 12058582.051629,
          "total pod order vol": 2181959.119836,
          "total pod vol": 14240541.171465,
          "value": 1598387.633989,
          "variable": "total_bean_vol"
         },
         {
          "season": 5557,
          "timestamp": 1648336763,
          "total bean vol": 1598387.633989,
          "total pod listing vol": 12058582.051629,
          "total pod order vol": 2181959.119836,
          "total pod vol": 14240541.171465,
          "value": 2181959.119836,
          "variable": "total_pod_order_vol"
         },
         {
          "season": 5581,
          "timestamp": 1648422931,
          "total bean vol": 1707133.891141,
          "total pod listing vol": 12234567.125877,
          "total pod order vol": 2337763.856509,
          "total pod vol": 14572330.982386,
          "value": 1707133.891141,
          "variable": "total_bean_vol"
         },
         {
          "season": 5581,
          "timestamp": 1648422931,
          "total bean vol": 1707133.891141,
          "total pod listing vol": 12234567.125877,
          "total pod order vol": 2337763.856509,
          "total pod vol": 14572330.982386,
          "value": 14572330.982386,
          "variable": "total_pod_vol"
         },
         {
          "season": 5581,
          "timestamp": 1648422931,
          "total bean vol": 1707133.891141,
          "total pod listing vol": 12234567.125877,
          "total pod order vol": 2337763.856509,
          "total pod vol": 14572330.982386,
          "value": 2337763.856509,
          "variable": "total_pod_order_vol"
         },
         {
          "season": 5581,
          "timestamp": 1648422931,
          "total bean vol": 1707133.891141,
          "total pod listing vol": 12234567.125877,
          "total pod order vol": 2337763.856509,
          "total pod vol": 14572330.982386,
          "value": 12234567.125877,
          "variable": "total_pod_listing_vol"
         },
         {
          "season": 5605,
          "timestamp": 1648506620,
          "total bean vol": 1717020.255751,
          "total pod listing vol": 12252077.043808,
          "total pod order vol": 2338817.073105,
          "total pod vol": 14590894.116913,
          "value": 14590894.116913,
          "variable": "total_pod_vol"
         },
         {
          "season": 5605,
          "timestamp": 1648506620,
          "total bean vol": 1717020.255751,
          "total pod listing vol": 12252077.043808,
          "total pod order vol": 2338817.073105,
          "total pod vol": 14590894.116913,
          "value": 2338817.073105,
          "variable": "total_pod_order_vol"
         },
         {
          "season": 5605,
          "timestamp": 1648506620,
          "total bean vol": 1717020.255751,
          "total pod listing vol": 12252077.043808,
          "total pod order vol": 2338817.073105,
          "total pod vol": 14590894.116913,
          "value": 1717020.255751,
          "variable": "total_bean_vol"
         },
         {
          "season": 5605,
          "timestamp": 1648506620,
          "total bean vol": 1717020.255751,
          "total pod listing vol": 12252077.043808,
          "total pod order vol": 2338817.073105,
          "total pod vol": 14590894.116913,
          "value": 12252077.043808,
          "variable": "total_pod_listing_vol"
         },
         {
          "season": 5629,
          "timestamp": 1648596738,
          "total bean vol": 1724131.087095,
          "total pod listing vol": 12463341.499955,
          "total pod order vol": 2338817.073105,
          "total pod vol": 14802158.57306,
          "value": 12463341.499955,
          "variable": "total_pod_listing_vol"
         },
         {
          "season": 5629,
          "timestamp": 1648596738,
          "total bean vol": 1724131.087095,
          "total pod listing vol": 12463341.499955,
          "total pod order vol": 2338817.073105,
          "total pod vol": 14802158.57306,
          "value": 2338817.073105,
          "variable": "total_pod_order_vol"
         },
         {
          "season": 5629,
          "timestamp": 1648596738,
          "total bean vol": 1724131.087095,
          "total pod listing vol": 12463341.499955,
          "total pod order vol": 2338817.073105,
          "total pod vol": 14802158.57306,
          "value": 14802158.57306,
          "variable": "total_pod_vol"
         },
         {
          "season": 5629,
          "timestamp": 1648596738,
          "total bean vol": 1724131.087095,
          "total pod listing vol": 12463341.499955,
          "total pod order vol": 2338817.073105,
          "total pod vol": 14802158.57306,
          "value": 1724131.087095,
          "variable": "total_bean_vol"
         },
         {
          "season": 5653,
          "timestamp": 1648679058,
          "total bean vol": 1766596.466683,
          "total pod listing vol": 12787830.030649,
          "total pod order vol": 2338817.073105,
          "total pod vol": 15126647.103754,
          "value": 12787830.030649,
          "variable": "total_pod_listing_vol"
         },
         {
          "season": 5653,
          "timestamp": 1648679058,
          "total bean vol": 1766596.466683,
          "total pod listing vol": 12787830.030649,
          "total pod order vol": 2338817.073105,
          "total pod vol": 15126647.103754,
          "value": 2338817.073105,
          "variable": "total_pod_order_vol"
         },
         {
          "season": 5653,
          "timestamp": 1648679058,
          "total bean vol": 1766596.466683,
          "total pod listing vol": 12787830.030649,
          "total pod order vol": 2338817.073105,
          "total pod vol": 15126647.103754,
          "value": 15126647.103754,
          "variable": "total_pod_vol"
         },
         {
          "season": 5653,
          "timestamp": 1648679058,
          "total bean vol": 1766596.466683,
          "total pod listing vol": 12787830.030649,
          "total pod order vol": 2338817.073105,
          "total pod vol": 15126647.103754,
          "value": 1766596.466683,
          "variable": "total_bean_vol"
         },
         {
          "season": 5677,
          "timestamp": 1648762581,
          "total bean vol": 1784787.474437,
          "total pod listing vol": 12882564.599452,
          "total pod order vol": 2338817.073105,
          "total pod vol": 15221381.672557,
          "value": 1784787.474437,
          "variable": "total_bean_vol"
         },
         {
          "season": 5677,
          "timestamp": 1648762581,
          "total bean vol": 1784787.474437,
          "total pod listing vol": 12882564.599452,
          "total pod order vol": 2338817.073105,
          "total pod vol": 15221381.672557,
          "value": 12882564.599452,
          "variable": "total_pod_listing_vol"
         },
         {
          "season": 5677,
          "timestamp": 1648762581,
          "total bean vol": 1784787.474437,
          "total pod listing vol": 12882564.599452,
          "total pod order vol": 2338817.073105,
          "total pod vol": 15221381.672557,
          "value": 15221381.672557,
          "variable": "total_pod_vol"
         },
         {
          "season": 5677,
          "timestamp": 1648762581,
          "total bean vol": 1784787.474437,
          "total pod listing vol": 12882564.599452,
          "total pod order vol": 2338817.073105,
          "total pod vol": 15221381.672557,
          "value": 2338817.073105,
          "variable": "total_pod_order_vol"
         },
         {
          "season": 5701,
          "timestamp": 1648855676,
          "total bean vol": 1799281.026908,
          "total pod listing vol": 13033401.919454,
          "total pod order vol": 2347290.22673,
          "total pod vol": 15380692.146184,
          "value": 15380692.146184,
          "variable": "total_pod_vol"
         },
         {
          "season": 5701,
          "timestamp": 1648855676,
          "total bean vol": 1799281.026908,
          "total pod listing vol": 13033401.919454,
          "total pod order vol": 2347290.22673,
          "total pod vol": 15380692.146184,
          "value": 13033401.919454,
          "variable": "total_pod_listing_vol"
         },
         {
          "season": 5701,
          "timestamp": 1648855676,
          "total bean vol": 1799281.026908,
          "total pod listing vol": 13033401.919454,
          "total pod order vol": 2347290.22673,
          "total pod vol": 15380692.146184,
          "value": 1799281.026908,
          "variable": "total_bean_vol"
         },
         {
          "season": 5701,
          "timestamp": 1648855676,
          "total bean vol": 1799281.026908,
          "total pod listing vol": 13033401.919454,
          "total pod order vol": 2347290.22673,
          "total pod vol": 15380692.146184,
          "value": 2347290.22673,
          "variable": "total_pod_order_vol"
         },
         {
          "season": 5725,
          "timestamp": 1648938471,
          "total bean vol": 1830125.481168,
          "total pod listing vol": 13207190.7293,
          "total pod order vol": 2349002.45642,
          "total pod vol": 15556193.18572,
          "value": 15556193.18572,
          "variable": "total_pod_vol"
         },
         {
          "season": 5725,
          "timestamp": 1648938471,
          "total bean vol": 1830125.481168,
          "total pod listing vol": 13207190.7293,
          "total pod order vol": 2349002.45642,
          "total pod vol": 15556193.18572,
          "value": 2349002.45642,
          "variable": "total_pod_order_vol"
         },
         {
          "season": 5725,
          "timestamp": 1648938471,
          "total bean vol": 1830125.481168,
          "total pod listing vol": 13207190.7293,
          "total pod order vol": 2349002.45642,
          "total pod vol": 15556193.18572,
          "value": 13207190.7293,
          "variable": "total_pod_listing_vol"
         },
         {
          "season": 5725,
          "timestamp": 1648938471,
          "total bean vol": 1830125.481168,
          "total pod listing vol": 13207190.7293,
          "total pod order vol": 2349002.45642,
          "total pod vol": 15556193.18572,
          "value": 1830125.481168,
          "variable": "total_bean_vol"
         },
         {
          "season": 5749,
          "timestamp": 1649025806,
          "total bean vol": 1843517.4616,
          "total pod listing vol": 13323910.753581,
          "total pod order vol": 2349412.190742,
          "total pod vol": 15673322.944323,
          "value": 15673322.944323,
          "variable": "total_pod_vol"
         },
         {
          "season": 5749,
          "timestamp": 1649025806,
          "total bean vol": 1843517.4616,
          "total pod listing vol": 13323910.753581,
          "total pod order vol": 2349412.190742,
          "total pod vol": 15673322.944323,
          "value": 13323910.753581,
          "variable": "total_pod_listing_vol"
         },
         {
          "season": 5749,
          "timestamp": 1649025806,
          "total bean vol": 1843517.4616,
          "total pod listing vol": 13323910.753581,
          "total pod order vol": 2349412.190742,
          "total pod vol": 15673322.944323,
          "value": 2349412.190742,
          "variable": "total_pod_order_vol"
         },
         {
          "season": 5749,
          "timestamp": 1649025806,
          "total bean vol": 1843517.4616,
          "total pod listing vol": 13323910.753581,
          "total pod order vol": 2349412.190742,
          "total pod vol": 15673322.944323,
          "value": 1843517.4616,
          "variable": "total_bean_vol"
         },
         {
          "season": 5773,
          "timestamp": 1649108684,
          "total bean vol": 1938637.008438,
          "total pod listing vol": 13559555.190347,
          "total pod order vol": 2369412.190742,
          "total pod vol": 15928967.381089,
          "value": 15928967.381089,
          "variable": "total_pod_vol"
         },
         {
          "season": 5773,
          "timestamp": 1649108684,
          "total bean vol": 1938637.008438,
          "total pod listing vol": 13559555.190347,
          "total pod order vol": 2369412.190742,
          "total pod vol": 15928967.381089,
          "value": 13559555.190347,
          "variable": "total_pod_listing_vol"
         },
         {
          "season": 5773,
          "timestamp": 1649108684,
          "total bean vol": 1938637.008438,
          "total pod listing vol": 13559555.190347,
          "total pod order vol": 2369412.190742,
          "total pod vol": 15928967.381089,
          "value": 2369412.190742,
          "variable": "total_pod_order_vol"
         },
         {
          "season": 5773,
          "timestamp": 1649108684,
          "total bean vol": 1938637.008438,
          "total pod listing vol": 13559555.190347,
          "total pod order vol": 2369412.190742,
          "total pod vol": 15928967.381089,
          "value": 1938637.008438,
          "variable": "total_bean_vol"
         },
         {
          "season": 5797,
          "timestamp": 1649200488,
          "total bean vol": 1969733.26451,
          "total pod listing vol": 13795715.296446,
          "total pod order vol": 2369412.190742,
          "total pod vol": 16165127.487188,
          "value": 1969733.26451,
          "variable": "total_bean_vol"
         },
         {
          "season": 5797,
          "timestamp": 1649200488,
          "total bean vol": 1969733.26451,
          "total pod listing vol": 13795715.296446,
          "total pod order vol": 2369412.190742,
          "total pod vol": 16165127.487188,
          "value": 2369412.190742,
          "variable": "total_pod_order_vol"
         },
         {
          "season": 5797,
          "timestamp": 1649200488,
          "total bean vol": 1969733.26451,
          "total pod listing vol": 13795715.296446,
          "total pod order vol": 2369412.190742,
          "total pod vol": 16165127.487188,
          "value": 16165127.487188,
          "variable": "total_pod_vol"
         },
         {
          "season": 5797,
          "timestamp": 1649200488,
          "total bean vol": 1969733.26451,
          "total pod listing vol": 13795715.296446,
          "total pod order vol": 2369412.190742,
          "total pod vol": 16165127.487188,
          "value": 13795715.296446,
          "variable": "total_pod_listing_vol"
         },
         {
          "season": 5821,
          "timestamp": 1649286221,
          "total bean vol": 2002868.603232,
          "total pod listing vol": 14074805.550379,
          "total pod order vol": 2369412.190742,
          "total pod vol": 16444217.741121,
          "value": 14074805.550379,
          "variable": "total_pod_listing_vol"
         },
         {
          "season": 5821,
          "timestamp": 1649286221,
          "total bean vol": 2002868.603232,
          "total pod listing vol": 14074805.550379,
          "total pod order vol": 2369412.190742,
          "total pod vol": 16444217.741121,
          "value": 2369412.190742,
          "variable": "total_pod_order_vol"
         },
         {
          "season": 5821,
          "timestamp": 1649286221,
          "total bean vol": 2002868.603232,
          "total pod listing vol": 14074805.550379,
          "total pod order vol": 2369412.190742,
          "total pod vol": 16444217.741121,
          "value": 16444217.741121,
          "variable": "total_pod_vol"
         },
         {
          "season": 5821,
          "timestamp": 1649286221,
          "total bean vol": 2002868.603232,
          "total pod listing vol": 14074805.550379,
          "total pod order vol": 2369412.190742,
          "total pod vol": 16444217.741121,
          "value": 2002868.603232,
          "variable": "total_bean_vol"
         },
         {
          "season": 5845,
          "timestamp": 1649369674,
          "total bean vol": 2044915.881574,
          "total pod listing vol": 14310063.076692,
          "total pod order vol": 2459412.190742,
          "total pod vol": 16769475.267434,
          "value": 16769475.267434,
          "variable": "total_pod_vol"
         },
         {
          "season": 5845,
          "timestamp": 1649369674,
          "total bean vol": 2044915.881574,
          "total pod listing vol": 14310063.076692,
          "total pod order vol": 2459412.190742,
          "total pod vol": 16769475.267434,
          "value": 14310063.076692,
          "variable": "total_pod_listing_vol"
         },
         {
          "season": 5845,
          "timestamp": 1649369674,
          "total bean vol": 2044915.881574,
          "total pod listing vol": 14310063.076692,
          "total pod order vol": 2459412.190742,
          "total pod vol": 16769475.267434,
          "value": 2044915.881574,
          "variable": "total_bean_vol"
         },
         {
          "season": 5845,
          "timestamp": 1649369674,
          "total bean vol": 2044915.881574,
          "total pod listing vol": 14310063.076692,
          "total pod order vol": 2459412.190742,
          "total pod vol": 16769475.267434,
          "value": 2459412.190742,
          "variable": "total_pod_order_vol"
         },
         {
          "season": 5869,
          "timestamp": 1649458541,
          "total bean vol": 2061971.588237,
          "total pod listing vol": 14404836.401523,
          "total pod order vol": 2459412.190742,
          "total pod vol": 16864248.592265,
          "value": 2459412.190742,
          "variable": "total_pod_order_vol"
         },
         {
          "season": 5869,
          "timestamp": 1649458541,
          "total bean vol": 2061971.588237,
          "total pod listing vol": 14404836.401523,
          "total pod order vol": 2459412.190742,
          "total pod vol": 16864248.592265,
          "value": 16864248.592265,
          "variable": "total_pod_vol"
         },
         {
          "season": 5869,
          "timestamp": 1649458541,
          "total bean vol": 2061971.588237,
          "total pod listing vol": 14404836.401523,
          "total pod order vol": 2459412.190742,
          "total pod vol": 16864248.592265,
          "value": 14404836.401523,
          "variable": "total_pod_listing_vol"
         },
         {
          "season": 5869,
          "timestamp": 1649458541,
          "total bean vol": 2061971.588237,
          "total pod listing vol": 14404836.401523,
          "total pod order vol": 2459412.190742,
          "total pod vol": 16864248.592265,
          "value": 2061971.588237,
          "variable": "total_bean_vol"
         },
         {
          "season": 5893,
          "timestamp": 1649548582,
          "total bean vol": 2118132.603853,
          "total pod listing vol": 14740685.914775,
          "total pod order vol": 2521068.219765,
          "total pod vol": 17261754.13454,
          "value": 17261754.13454,
          "variable": "total_pod_vol"
         },
         {
          "season": 5893,
          "timestamp": 1649548582,
          "total bean vol": 2118132.603853,
          "total pod listing vol": 14740685.914775,
          "total pod order vol": 2521068.219765,
          "total pod vol": 17261754.13454,
          "value": 2118132.603853,
          "variable": "total_bean_vol"
         },
         {
          "season": 5893,
          "timestamp": 1649548582,
          "total bean vol": 2118132.603853,
          "total pod listing vol": 14740685.914775,
          "total pod order vol": 2521068.219765,
          "total pod vol": 17261754.13454,
          "value": 14740685.914775,
          "variable": "total_pod_listing_vol"
         },
         {
          "season": 5893,
          "timestamp": 1649548582,
          "total bean vol": 2118132.603853,
          "total pod listing vol": 14740685.914775,
          "total pod order vol": 2521068.219765,
          "total pod vol": 17261754.13454,
          "value": 2521068.219765,
          "variable": "total_pod_order_vol"
         },
         {
          "season": 5917,
          "timestamp": 1649631954,
          "total bean vol": 2188106.301855,
          "total pod listing vol": 14971836.040466,
          "total pod order vol": 2531166.357637,
          "total pod vol": 17503002.398103,
          "value": 2188106.301855,
          "variable": "total_bean_vol"
         },
         {
          "season": 5917,
          "timestamp": 1649631954,
          "total bean vol": 2188106.301855,
          "total pod listing vol": 14971836.040466,
          "total pod order vol": 2531166.357637,
          "total pod vol": 17503002.398103,
          "value": 17503002.398103,
          "variable": "total_pod_vol"
         },
         {
          "season": 5917,
          "timestamp": 1649631954,
          "total bean vol": 2188106.301855,
          "total pod listing vol": 14971836.040466,
          "total pod order vol": 2531166.357637,
          "total pod vol": 17503002.398103,
          "value": 2531166.357637,
          "variable": "total_pod_order_vol"
         },
         {
          "season": 5917,
          "timestamp": 1649631954,
          "total bean vol": 2188106.301855,
          "total pod listing vol": 14971836.040466,
          "total pod order vol": 2531166.357637,
          "total pod vol": 17503002.398103,
          "value": 14971836.040466,
          "variable": "total_pod_listing_vol"
         },
         {
          "season": 5941,
          "timestamp": 1649717208,
          "total bean vol": 2350296.889243,
          "total pod listing vol": 15963434.629309,
          "total pod order vol": 2577056.235948,
          "total pod vol": 18540490.865257,
          "value": 2577056.235948,
          "variable": "total_pod_order_vol"
         },
         {
          "season": 5941,
          "timestamp": 1649717208,
          "total bean vol": 2350296.889243,
          "total pod listing vol": 15963434.629309,
          "total pod order vol": 2577056.235948,
          "total pod vol": 18540490.865257,
          "value": 15963434.629309,
          "variable": "total_pod_listing_vol"
         },
         {
          "season": 5941,
          "timestamp": 1649717208,
          "total bean vol": 2350296.889243,
          "total pod listing vol": 15963434.629309,
          "total pod order vol": 2577056.235948,
          "total pod vol": 18540490.865257,
          "value": 18540490.865257,
          "variable": "total_pod_vol"
         },
         {
          "season": 5941,
          "timestamp": 1649717208,
          "total bean vol": 2350296.889243,
          "total pod listing vol": 15963434.629309,
          "total pod order vol": 2577056.235948,
          "total pod vol": 18540490.865257,
          "value": 2350296.889243,
          "variable": "total_bean_vol"
         },
         {
          "season": 5965,
          "timestamp": 1649807279,
          "total bean vol": 3188208.066007,
          "total pod listing vol": 19783922.212272,
          "total pod order vol": 2654243.776766,
          "total pod vol": 22438165.989038,
          "value": 3188208.066007,
          "variable": "total_bean_vol"
         },
         {
          "season": 5965,
          "timestamp": 1649807279,
          "total bean vol": 3188208.066007,
          "total pod listing vol": 19783922.212272,
          "total pod order vol": 2654243.776766,
          "total pod vol": 22438165.989038,
          "value": 2654243.776766,
          "variable": "total_pod_order_vol"
         },
         {
          "season": 5965,
          "timestamp": 1649807279,
          "total bean vol": 3188208.066007,
          "total pod listing vol": 19783922.212272,
          "total pod order vol": 2654243.776766,
          "total pod vol": 22438165.989038,
          "value": 19783922.212272,
          "variable": "total_pod_listing_vol"
         },
         {
          "season": 5965,
          "timestamp": 1649807279,
          "total bean vol": 3188208.066007,
          "total pod listing vol": 19783922.212272,
          "total pod order vol": 2654243.776766,
          "total pod vol": 22438165.989038,
          "value": 22438165.989038,
          "variable": "total_pod_vol"
         },
         {
          "season": 5989,
          "timestamp": 1649894381,
          "total bean vol": 3613255.888256,
          "total pod listing vol": 23130227.433895,
          "total pod order vol": 2655105.086016,
          "total pod vol": 25785332.519911,
          "value": 3613255.888256,
          "variable": "total_bean_vol"
         },
         {
          "season": 5989,
          "timestamp": 1649894381,
          "total bean vol": 3613255.888256,
          "total pod listing vol": 23130227.433895,
          "total pod order vol": 2655105.086016,
          "total pod vol": 25785332.519911,
          "value": 2655105.086016,
          "variable": "total_pod_order_vol"
         },
         {
          "season": 5989,
          "timestamp": 1649894381,
          "total bean vol": 3613255.888256,
          "total pod listing vol": 23130227.433895,
          "total pod order vol": 2655105.086016,
          "total pod vol": 25785332.519911,
          "value": 23130227.433895,
          "variable": "total_pod_listing_vol"
         },
         {
          "season": 5989,
          "timestamp": 1649894381,
          "total bean vol": 3613255.888256,
          "total pod listing vol": 23130227.433895,
          "total pod order vol": 2655105.086016,
          "total pod vol": 25785332.519911,
          "value": 25785332.519911,
          "variable": "total_pod_vol"
         },
         {
          "season": 6013,
          "timestamp": 1649980287,
          "total bean vol": 4106143.870939,
          "total pod listing vol": 26180153.152342,
          "total pod order vol": 2828133.005571,
          "total pod vol": 29008286.157913,
          "value": 4106143.870939,
          "variable": "total_bean_vol"
         },
         {
          "season": 6013,
          "timestamp": 1649980287,
          "total bean vol": 4106143.870939,
          "total pod listing vol": 26180153.152342,
          "total pod order vol": 2828133.005571,
          "total pod vol": 29008286.157913,
          "value": 2828133.005571,
          "variable": "total_pod_order_vol"
         },
         {
          "season": 6013,
          "timestamp": 1649980287,
          "total bean vol": 4106143.870939,
          "total pod listing vol": 26180153.152342,
          "total pod order vol": 2828133.005571,
          "total pod vol": 29008286.157913,
          "value": 26180153.152342,
          "variable": "total_pod_listing_vol"
         },
         {
          "season": 6013,
          "timestamp": 1649980287,
          "total bean vol": 4106143.870939,
          "total pod listing vol": 26180153.152342,
          "total pod order vol": 2828133.005571,
          "total pod vol": 29008286.157913,
          "value": 29008286.157913,
          "variable": "total_pod_vol"
         },
         {
          "season": 6037,
          "timestamp": 1650060286,
          "total bean vol": 4528005.203248,
          "total pod listing vol": 30255895.358546,
          "total pod order vol": 4498024.897462,
          "total pod vol": 34753920.256008,
          "value": 4528005.203248,
          "variable": "total_bean_vol"
         },
         {
          "season": 6037,
          "timestamp": 1650060286,
          "total bean vol": 4528005.203248,
          "total pod listing vol": 30255895.358546,
          "total pod order vol": 4498024.897462,
          "total pod vol": 34753920.256008,
          "value": 30255895.358546,
          "variable": "total_pod_listing_vol"
         },
         {
          "season": 6037,
          "timestamp": 1650060286,
          "total bean vol": 4528005.203248,
          "total pod listing vol": 30255895.358546,
          "total pod order vol": 4498024.897462,
          "total pod vol": 34753920.256008,
          "value": 4498024.897462,
          "variable": "total_pod_order_vol"
         },
         {
          "season": 6037,
          "timestamp": 1650060286,
          "total bean vol": 4528005.203248,
          "total pod listing vol": 30255895.358546,
          "total pod order vol": 4498024.897462,
          "total pod vol": 34753920.256008,
          "value": 34753920.256008,
          "variable": "total_pod_vol"
         },
         {
          "season": 6061,
          "timestamp": 1650153489,
          "total bean vol": 5088424.313178,
          "total pod listing vol": 34725128.948987,
          "total pod order vol": 4501396.092105,
          "total pod vol": 39226525.041092,
          "value": 39226525.041092,
          "variable": "total_pod_vol"
         },
         {
          "season": 6061,
          "timestamp": 1650153489,
          "total bean vol": 5088424.313178,
          "total pod listing vol": 34725128.948987,
          "total pod order vol": 4501396.092105,
          "total pod vol": 39226525.041092,
          "value": 34725128.948987,
          "variable": "total_pod_listing_vol"
         },
         {
          "season": 6061,
          "timestamp": 1650153489,
          "total bean vol": 5088424.313178,
          "total pod listing vol": 34725128.948987,
          "total pod order vol": 4501396.092105,
          "total pod vol": 39226525.041092,
          "value": 4501396.092105,
          "variable": "total_pod_order_vol"
         },
         {
          "season": 6061,
          "timestamp": 1650153489,
          "total bean vol": 5088424.313178,
          "total pod listing vol": 34725128.948987,
          "total pod order vol": 4501396.092105,
          "total pod vol": 39226525.041092,
          "value": 5088424.313178,
          "variable": "total_bean_vol"
         },
         {
          "season": 6074,
          "timestamp": 1659732794,
          "total bean vol": 5617403.67668,
          "total pod listing vol": 36734580.012437,
          "total pod order vol": 6612844.586573,
          "total pod vol": 43347424.59901,
          "value": 36734580.012437,
          "variable": "total_pod_listing_vol"
         },
         {
          "season": 6074,
          "timestamp": 1650200689,
          "total bean vol": 5617151.722674,
          "total pod listing vol": 36726401.595964,
          "total pod order vol": 6612844.586573,
          "total pod vol": 43339246.182537,
          "value": 5617151.722674,
          "variable": "total_bean_vol"
         },
         {
          "season": 6074,
          "timestamp": 1659732794,
          "total bean vol": 5617403.67668,
          "total pod listing vol": 36734580.012437,
          "total pod order vol": 6612844.586573,
          "total pod vol": 43347424.59901,
          "value": 43347424.59901,
          "variable": "total_pod_vol"
         },
         {
          "season": 6074,
          "timestamp": 1659732794,
          "total bean vol": 5617403.67668,
          "total pod listing vol": 36734580.012437,
          "total pod order vol": 6612844.586573,
          "total pod vol": 43347424.59901,
          "value": 6612844.586573,
          "variable": "total_pod_order_vol"
         },
         {
          "season": 6081,
          "timestamp": 1659823504,
          "total bean vol": 5617946.423243,
          "total pod listing vol": 36743322.824056,
          "total pod order vol": 6612844.586573,
          "total pod vol": 43356167.410629,
          "value": 36743322.824056,
          "variable": "total_pod_listing_vol"
         },
         {
          "season": 6081,
          "timestamp": 1659823504,
          "total bean vol": 5617946.423243,
          "total pod listing vol": 36743322.824056,
          "total pod order vol": 6612844.586573,
          "total pod vol": 43356167.410629,
          "value": 6612844.586573,
          "variable": "total_pod_order_vol"
         },
         {
          "season": 6081,
          "timestamp": 1659823504,
          "total bean vol": 5617946.423243,
          "total pod listing vol": 36743322.824056,
          "total pod order vol": 6612844.586573,
          "total pod vol": 43356167.410629,
          "value": 43356167.410629,
          "variable": "total_pod_vol"
         },
         {
          "season": 6081,
          "timestamp": 1659823504,
          "total bean vol": 5617946.423243,
          "total pod listing vol": 36743322.824056,
          "total pod order vol": 6612844.586573,
          "total pod vol": 43356167.410629,
          "value": 5617946.423243,
          "variable": "total_bean_vol"
         },
         {
          "season": 6105,
          "timestamp": 1659916555,
          "total bean vol": 5724444.203929,
          "total pod listing vol": 37819221.832261,
          "total pod order vol": 6660227.89123,
          "total pod vol": 44479449.723491,
          "value": 44479449.723491,
          "variable": "total_pod_vol"
         },
         {
          "season": 6105,
          "timestamp": 1659916555,
          "total bean vol": 5724444.203929,
          "total pod listing vol": 37819221.832261,
          "total pod order vol": 6660227.89123,
          "total pod vol": 44479449.723491,
          "value": 5724444.203929,
          "variable": "total_bean_vol"
         },
         {
          "season": 6105,
          "timestamp": 1659916555,
          "total bean vol": 5724444.203929,
          "total pod listing vol": 37819221.832261,
          "total pod order vol": 6660227.89123,
          "total pod vol": 44479449.723491,
          "value": 37819221.832261,
          "variable": "total_pod_listing_vol"
         },
         {
          "season": 6105,
          "timestamp": 1659916555,
          "total bean vol": 5724444.203929,
          "total pod listing vol": 37819221.832261,
          "total pod order vol": 6660227.89123,
          "total pod vol": 44479449.723491,
          "value": 6660227.89123,
          "variable": "total_pod_order_vol"
         },
         {
          "season": 6129,
          "timestamp": 1660002151,
          "total bean vol": 5740915.615051,
          "total pod listing vol": 38017090.883594,
          "total pod order vol": 6760227.89123,
          "total pod vol": 44777318.774824,
          "value": 44777318.774824,
          "variable": "total_pod_vol"
         },
         {
          "season": 6129,
          "timestamp": 1660002151,
          "total bean vol": 5740915.615051,
          "total pod listing vol": 38017090.883594,
          "total pod order vol": 6760227.89123,
          "total pod vol": 44777318.774824,
          "value": 5740915.615051,
          "variable": "total_bean_vol"
         },
         {
          "season": 6129,
          "timestamp": 1660002151,
          "total bean vol": 5740915.615051,
          "total pod listing vol": 38017090.883594,
          "total pod order vol": 6760227.89123,
          "total pod vol": 44777318.774824,
          "value": 38017090.883594,
          "variable": "total_pod_listing_vol"
         },
         {
          "season": 6129,
          "timestamp": 1660002151,
          "total bean vol": 5740915.615051,
          "total pod listing vol": 38017090.883594,
          "total pod order vol": 6760227.89123,
          "total pod vol": 44777318.774824,
          "value": 6760227.89123,
          "variable": "total_pod_order_vol"
         },
         {
          "season": 6153,
          "timestamp": 1660082615,
          "total bean vol": 5764628.838297,
          "total pod listing vol": 38370466.500347,
          "total pod order vol": 6760227.89123,
          "total pod vol": 45130694.391577,
          "value": 6760227.89123,
          "variable": "total_pod_order_vol"
         },
         {
          "season": 6153,
          "timestamp": 1660082615,
          "total bean vol": 5764628.838297,
          "total pod listing vol": 38370466.500347,
          "total pod order vol": 6760227.89123,
          "total pod vol": 45130694.391577,
          "value": 45130694.391577,
          "variable": "total_pod_vol"
         },
         {
          "season": 6153,
          "timestamp": 1660082615,
          "total bean vol": 5764628.838297,
          "total pod listing vol": 38370466.500347,
          "total pod order vol": 6760227.89123,
          "total pod vol": 45130694.391577,
          "value": 38370466.500347,
          "variable": "total_pod_listing_vol"
         },
         {
          "season": 6153,
          "timestamp": 1660082615,
          "total bean vol": 5764628.838297,
          "total pod listing vol": 38370466.500347,
          "total pod order vol": 6760227.89123,
          "total pod vol": 45130694.391577,
          "value": 5764628.838297,
          "variable": "total_bean_vol"
         },
         {
          "season": 6177,
          "timestamp": 1660164012,
          "total bean vol": 5775029.882493,
          "total pod listing vol": 38472678.154532,
          "total pod order vol": 6760227.89123,
          "total pod vol": 45232906.045762,
          "value": 6760227.89123,
          "variable": "total_pod_order_vol"
         },
         {
          "season": 6177,
          "timestamp": 1660164012,
          "total bean vol": 5775029.882493,
          "total pod listing vol": 38472678.154532,
          "total pod order vol": 6760227.89123,
          "total pod vol": 45232906.045762,
          "value": 38472678.154532,
          "variable": "total_pod_listing_vol"
         },
         {
          "season": 6177,
          "timestamp": 1660164012,
          "total bean vol": 5775029.882493,
          "total pod listing vol": 38472678.154532,
          "total pod order vol": 6760227.89123,
          "total pod vol": 45232906.045762,
          "value": 5775029.882493,
          "variable": "total_bean_vol"
         },
         {
          "season": 6177,
          "timestamp": 1660164012,
          "total bean vol": 5775029.882493,
          "total pod listing vol": 38472678.154532,
          "total pod order vol": 6760227.89123,
          "total pod vol": 45232906.045762,
          "value": 45232906.045762,
          "variable": "total_pod_vol"
         },
         {
          "season": 6201,
          "timestamp": 1660230442,
          "total bean vol": 5775908.494575,
          "total pod listing vol": 38504134.101695,
          "total pod order vol": 6760227.89123,
          "total pod vol": 45264361.992925,
          "value": 6760227.89123,
          "variable": "total_pod_order_vol"
         },
         {
          "season": 6201,
          "timestamp": 1660230442,
          "total bean vol": 5775908.494575,
          "total pod listing vol": 38504134.101695,
          "total pod order vol": 6760227.89123,
          "total pod vol": 45264361.992925,
          "value": 38504134.101695,
          "variable": "total_pod_listing_vol"
         },
         {
          "season": 6201,
          "timestamp": 1660230442,
          "total bean vol": 5775908.494575,
          "total pod listing vol": 38504134.101695,
          "total pod order vol": 6760227.89123,
          "total pod vol": 45264361.992925,
          "value": 5775908.494575,
          "variable": "total_bean_vol"
         },
         {
          "season": 6201,
          "timestamp": 1660230442,
          "total bean vol": 5775908.494575,
          "total pod listing vol": 38504134.101695,
          "total pod order vol": 6760227.89123,
          "total pod vol": 45264361.992925,
          "value": 45264361.992925,
          "variable": "total_pod_vol"
         },
         {
          "season": 6225,
          "timestamp": 1660338905,
          "total bean vol": 5777847.559092,
          "total pod listing vol": 38524497.88974,
          "total pod order vol": 6760227.89123,
          "total pod vol": 45284725.78097,
          "value": 6760227.89123,
          "variable": "total_pod_order_vol"
         },
         {
          "season": 6225,
          "timestamp": 1660338905,
          "total bean vol": 5777847.559092,
          "total pod listing vol": 38524497.88974,
          "total pod order vol": 6760227.89123,
          "total pod vol": 45284725.78097,
          "value": 38524497.88974,
          "variable": "total_pod_listing_vol"
         },
         {
          "season": 6225,
          "timestamp": 1660338905,
          "total bean vol": 5777847.559092,
          "total pod listing vol": 38524497.88974,
          "total pod order vol": 6760227.89123,
          "total pod vol": 45284725.78097,
          "value": 45284725.78097,
          "variable": "total_pod_vol"
         },
         {
          "season": 6225,
          "timestamp": 1660338905,
          "total bean vol": 5777847.559092,
          "total pod listing vol": 38524497.88974,
          "total pod order vol": 6760227.89123,
          "total pod vol": 45284725.78097,
          "value": 5777847.559092,
          "variable": "total_bean_vol"
         },
         {
          "season": 6249,
          "timestamp": 1660419785,
          "total bean vol": 5792660.378526,
          "total pod listing vol": 38544497.88974,
          "total pod order vol": 6891065.483696,
          "total pod vol": 45435563.373436,
          "value": 5792660.378526,
          "variable": "total_bean_vol"
         },
         {
          "season": 6249,
          "timestamp": 1660419785,
          "total bean vol": 5792660.378526,
          "total pod listing vol": 38544497.88974,
          "total pod order vol": 6891065.483696,
          "total pod vol": 45435563.373436,
          "value": 6891065.483696,
          "variable": "total_pod_order_vol"
         },
         {
          "season": 6249,
          "timestamp": 1660419785,
          "total bean vol": 5792660.378526,
          "total pod listing vol": 38544497.88974,
          "total pod order vol": 6891065.483696,
          "total pod vol": 45435563.373436,
          "value": 45435563.373436,
          "variable": "total_pod_vol"
         },
         {
          "season": 6249,
          "timestamp": 1660419785,
          "total bean vol": 5792660.378526,
          "total pod listing vol": 38544497.88974,
          "total pod order vol": 6891065.483696,
          "total pod vol": 45435563.373436,
          "value": 38544497.88974,
          "variable": "total_pod_listing_vol"
         },
         {
          "season": 6273,
          "timestamp": 1660519632,
          "total bean vol": 5798277.261583,
          "total pod listing vol": 38544497.88974,
          "total pod order vol": 6971306.670238,
          "total pod vol": 45515804.559978,
          "value": 5798277.261583,
          "variable": "total_bean_vol"
         },
         {
          "season": 6273,
          "timestamp": 1660519632,
          "total bean vol": 5798277.261583,
          "total pod listing vol": 38544497.88974,
          "total pod order vol": 6971306.670238,
          "total pod vol": 45515804.559978,
          "value": 6971306.670238,
          "variable": "total_pod_order_vol"
         },
         {
          "season": 6273,
          "timestamp": 1660519632,
          "total bean vol": 5798277.261583,
          "total pod listing vol": 38544497.88974,
          "total pod order vol": 6971306.670238,
          "total pod vol": 45515804.559978,
          "value": 45515804.559978,
          "variable": "total_pod_vol"
         },
         {
          "season": 6273,
          "timestamp": 1660519632,
          "total bean vol": 5798277.261583,
          "total pod listing vol": 38544497.88974,
          "total pod order vol": 6971306.670238,
          "total pod vol": 45515804.559978,
          "value": 38544497.88974,
          "variable": "total_pod_listing_vol"
         },
         {
          "season": 6297,
          "timestamp": 1660596457,
          "total bean vol": 5812134.521313,
          "total pod listing vol": 38576407.890728,
          "total pod order vol": 7505623.884586,
          "total pod vol": 46082031.775314,
          "value": 5812134.521313,
          "variable": "total_bean_vol"
         },
         {
          "season": 6297,
          "timestamp": 1660596457,
          "total bean vol": 5812134.521313,
          "total pod listing vol": 38576407.890728,
          "total pod order vol": 7505623.884586,
          "total pod vol": 46082031.775314,
          "value": 7505623.884586,
          "variable": "total_pod_order_vol"
         },
         {
          "season": 6297,
          "timestamp": 1660596457,
          "total bean vol": 5812134.521313,
          "total pod listing vol": 38576407.890728,
          "total pod order vol": 7505623.884586,
          "total pod vol": 46082031.775314,
          "value": 46082031.775314,
          "variable": "total_pod_vol"
         },
         {
          "season": 6297,
          "timestamp": 1660596457,
          "total bean vol": 5812134.521313,
          "total pod listing vol": 38576407.890728,
          "total pod order vol": 7505623.884586,
          "total pod vol": 46082031.775314,
          "value": 38576407.890728,
          "variable": "total_pod_listing_vol"
         },
         {
          "season": 6321,
          "timestamp": 1660685808,
          "total bean vol": 5815922.852199,
          "total pod listing vol": 38727941.126168,
          "total pod order vol": 7505623.884586,
          "total pod vol": 46233565.010754,
          "value": 5815922.852199,
          "variable": "total_bean_vol"
         },
         {
          "season": 6321,
          "timestamp": 1660685808,
          "total bean vol": 5815922.852199,
          "total pod listing vol": 38727941.126168,
          "total pod order vol": 7505623.884586,
          "total pod vol": 46233565.010754,
          "value": 38727941.126168,
          "variable": "total_pod_listing_vol"
         },
         {
          "season": 6321,
          "timestamp": 1660685808,
          "total bean vol": 5815922.852199,
          "total pod listing vol": 38727941.126168,
          "total pod order vol": 7505623.884586,
          "total pod vol": 46233565.010754,
          "value": 46233565.010754,
          "variable": "total_pod_vol"
         },
         {
          "season": 6321,
          "timestamp": 1660685808,
          "total bean vol": 5815922.852199,
          "total pod listing vol": 38727941.126168,
          "total pod order vol": 7505623.884586,
          "total pod vol": 46233565.010754,
          "value": 7505623.884586,
          "variable": "total_pod_order_vol"
         },
         {
          "season": 6345,
          "timestamp": 1660780782,
          "total bean vol": 5822109.594138,
          "total pod listing vol": 38754831.185449,
          "total pod order vol": 7505623.884586,
          "total pod vol": 46260455.070035,
          "value": 5822109.594138,
          "variable": "total_bean_vol"
         },
         {
          "season": 6345,
          "timestamp": 1660780782,
          "total bean vol": 5822109.594138,
          "total pod listing vol": 38754831.185449,
          "total pod order vol": 7505623.884586,
          "total pod vol": 46260455.070035,
          "value": 38754831.185449,
          "variable": "total_pod_listing_vol"
         },
         {
          "season": 6345,
          "timestamp": 1660780782,
          "total bean vol": 5822109.594138,
          "total pod listing vol": 38754831.185449,
          "total pod order vol": 7505623.884586,
          "total pod vol": 46260455.070035,
          "value": 46260455.070035,
          "variable": "total_pod_vol"
         },
         {
          "season": 6345,
          "timestamp": 1660780782,
          "total bean vol": 5822109.594138,
          "total pod listing vol": 38754831.185449,
          "total pod order vol": 7505623.884586,
          "total pod vol": 46260455.070035,
          "value": 7505623.884586,
          "variable": "total_pod_order_vol"
         },
         {
          "season": 6369,
          "timestamp": 1660857251,
          "total bean vol": 5829200.003026,
          "total pod listing vol": 38764831.185449,
          "total pod order vol": 7517130.699386,
          "total pod vol": 46281961.884835,
          "value": 38764831.185449,
          "variable": "total_pod_listing_vol"
         },
         {
          "season": 6369,
          "timestamp": 1660857251,
          "total bean vol": 5829200.003026,
          "total pod listing vol": 38764831.185449,
          "total pod order vol": 7517130.699386,
          "total pod vol": 46281961.884835,
          "value": 7517130.699386,
          "variable": "total_pod_order_vol"
         },
         {
          "season": 6369,
          "timestamp": 1660857251,
          "total bean vol": 5829200.003026,
          "total pod listing vol": 38764831.185449,
          "total pod order vol": 7517130.699386,
          "total pod vol": 46281961.884835,
          "value": 46281961.884835,
          "variable": "total_pod_vol"
         },
         {
          "season": 6369,
          "timestamp": 1660857251,
          "total bean vol": 5829200.003026,
          "total pod listing vol": 38764831.185449,
          "total pod order vol": 7517130.699386,
          "total pod vol": 46281961.884835,
          "value": 5829200.003026,
          "variable": "total_bean_vol"
         },
         {
          "season": 6393,
          "timestamp": 1660934250,
          "total bean vol": 5829719.72145,
          "total pod listing vol": 38785331.03356,
          "total pod order vol": 7517130.699386,
          "total pod vol": 46302461.732946,
          "value": 38785331.03356,
          "variable": "total_pod_listing_vol"
         },
         {
          "season": 6393,
          "timestamp": 1660934250,
          "total bean vol": 5829719.72145,
          "total pod listing vol": 38785331.03356,
          "total pod order vol": 7517130.699386,
          "total pod vol": 46302461.732946,
          "value": 7517130.699386,
          "variable": "total_pod_order_vol"
         },
         {
          "season": 6393,
          "timestamp": 1660934250,
          "total bean vol": 5829719.72145,
          "total pod listing vol": 38785331.03356,
          "total pod order vol": 7517130.699386,
          "total pod vol": 46302461.732946,
          "value": 46302461.732946,
          "variable": "total_pod_vol"
         },
         {
          "season": 6393,
          "timestamp": 1660934250,
          "total bean vol": 5829719.72145,
          "total pod listing vol": 38785331.03356,
          "total pod order vol": 7517130.699386,
          "total pod vol": 46302461.732946,
          "value": 5829719.72145,
          "variable": "total_bean_vol"
         },
         {
          "season": 6417,
          "timestamp": 1661022767,
          "total bean vol": 5831090.079125,
          "total pod listing vol": 38785647.865697,
          "total pod order vol": 7535745.565486,
          "total pod vol": 46321393.431183,
          "value": 38785647.865697,
          "variable": "total_pod_listing_vol"
         },
         {
          "season": 6417,
          "timestamp": 1661022767,
          "total bean vol": 5831090.079125,
          "total pod listing vol": 38785647.865697,
          "total pod order vol": 7535745.565486,
          "total pod vol": 46321393.431183,
          "value": 46321393.431183,
          "variable": "total_pod_vol"
         },
         {
          "season": 6417,
          "timestamp": 1661022767,
          "total bean vol": 5831090.079125,
          "total pod listing vol": 38785647.865697,
          "total pod order vol": 7535745.565486,
          "total pod vol": 46321393.431183,
          "value": 7535745.565486,
          "variable": "total_pod_order_vol"
         },
         {
          "season": 6417,
          "timestamp": 1661022767,
          "total bean vol": 5831090.079125,
          "total pod listing vol": 38785647.865697,
          "total pod order vol": 7535745.565486,
          "total pod vol": 46321393.431183,
          "value": 5831090.079125,
          "variable": "total_bean_vol"
         },
         {
          "season": 6441,
          "timestamp": 1661115127,
          "total bean vol": 5871534.658788,
          "total pod listing vol": 38797290.400573,
          "total pod order vol": 8319491.078891,
          "total pod vol": 47116781.479464,
          "value": 38797290.400573,
          "variable": "total_pod_listing_vol"
         },
         {
          "season": 6441,
          "timestamp": 1661115127,
          "total bean vol": 5871534.658788,
          "total pod listing vol": 38797290.400573,
          "total pod order vol": 8319491.078891,
          "total pod vol": 47116781.479464,
          "value": 8319491.078891,
          "variable": "total_pod_order_vol"
         },
         {
          "season": 6441,
          "timestamp": 1661115127,
          "total bean vol": 5871534.658788,
          "total pod listing vol": 38797290.400573,
          "total pod order vol": 8319491.078891,
          "total pod vol": 47116781.479464,
          "value": 47116781.479464,
          "variable": "total_pod_vol"
         },
         {
          "season": 6441,
          "timestamp": 1661115127,
          "total bean vol": 5871534.658788,
          "total pod listing vol": 38797290.400573,
          "total pod order vol": 8319491.078891,
          "total pod vol": 47116781.479464,
          "value": 5871534.658788,
          "variable": "total_bean_vol"
         },
         {
          "season": 6465,
          "timestamp": 1661195739,
          "total bean vol": 5871760.268863,
          "total pod listing vol": 38805699.948575,
          "total pod order vol": 8319491.078891,
          "total pod vol": 47125191.027466,
          "value": 38805699.948575,
          "variable": "total_pod_listing_vol"
         },
         {
          "season": 6465,
          "timestamp": 1661195739,
          "total bean vol": 5871760.268863,
          "total pod listing vol": 38805699.948575,
          "total pod order vol": 8319491.078891,
          "total pod vol": 47125191.027466,
          "value": 47125191.027466,
          "variable": "total_pod_vol"
         },
         {
          "season": 6465,
          "timestamp": 1661195739,
          "total bean vol": 5871760.268863,
          "total pod listing vol": 38805699.948575,
          "total pod order vol": 8319491.078891,
          "total pod vol": 47125191.027466,
          "value": 8319491.078891,
          "variable": "total_pod_order_vol"
         },
         {
          "season": 6465,
          "timestamp": 1661195739,
          "total bean vol": 5871760.268863,
          "total pod listing vol": 38805699.948575,
          "total pod order vol": 8319491.078891,
          "total pod vol": 47125191.027466,
          "value": 5871760.268863,
          "variable": "total_bean_vol"
         },
         {
          "season": 6489,
          "timestamp": 1661292839,
          "total bean vol": 5879123.931267,
          "total pod listing vol": 38841200.669627,
          "total pod order vol": 8328519.436816,
          "total pod vol": 47169720.106443,
          "value": 8328519.436816,
          "variable": "total_pod_order_vol"
         },
         {
          "season": 6489,
          "timestamp": 1661292839,
          "total bean vol": 5879123.931267,
          "total pod listing vol": 38841200.669627,
          "total pod order vol": 8328519.436816,
          "total pod vol": 47169720.106443,
          "value": 5879123.931267,
          "variable": "total_bean_vol"
         },
         {
          "season": 6489,
          "timestamp": 1661292839,
          "total bean vol": 5879123.931267,
          "total pod listing vol": 38841200.669627,
          "total pod order vol": 8328519.436816,
          "total pod vol": 47169720.106443,
          "value": 38841200.669627,
          "variable": "total_pod_listing_vol"
         },
         {
          "season": 6489,
          "timestamp": 1661292839,
          "total bean vol": 5879123.931267,
          "total pod listing vol": 38841200.669627,
          "total pod order vol": 8328519.436816,
          "total pod vol": 47169720.106443,
          "value": 47169720.106443,
          "variable": "total_pod_vol"
         },
         {
          "season": 6513,
          "timestamp": 1661363825,
          "total bean vol": 5890369.894268,
          "total pod listing vol": 38869527.228707,
          "total pod order vol": 8562692.748482,
          "total pod vol": 47432219.977189,
          "value": 8562692.748482,
          "variable": "total_pod_order_vol"
         },
         {
          "season": 6513,
          "timestamp": 1661363825,
          "total bean vol": 5890369.894268,
          "total pod listing vol": 38869527.228707,
          "total pod order vol": 8562692.748482,
          "total pod vol": 47432219.977189,
          "value": 47432219.977189,
          "variable": "total_pod_vol"
         },
         {
          "season": 6513,
          "timestamp": 1661363825,
          "total bean vol": 5890369.894268,
          "total pod listing vol": 38869527.228707,
          "total pod order vol": 8562692.748482,
          "total pod vol": 47432219.977189,
          "value": 5890369.894268,
          "variable": "total_bean_vol"
         },
         {
          "season": 6513,
          "timestamp": 1661363825,
          "total bean vol": 5890369.894268,
          "total pod listing vol": 38869527.228707,
          "total pod order vol": 8562692.748482,
          "total pod vol": 47432219.977189,
          "value": 38869527.228707,
          "variable": "total_pod_listing_vol"
         },
         {
          "season": 6537,
          "timestamp": 1661459829,
          "total bean vol": 5898843.737466,
          "total pod listing vol": 39197571.141752,
          "total pod order vol": 8562692.748482,
          "total pod vol": 47760263.890234,
          "value": 8562692.748482,
          "variable": "total_pod_order_vol"
         },
         {
          "season": 6537,
          "timestamp": 1661459829,
          "total bean vol": 5898843.737466,
          "total pod listing vol": 39197571.141752,
          "total pod order vol": 8562692.748482,
          "total pod vol": 47760263.890234,
          "value": 47760263.890234,
          "variable": "total_pod_vol"
         },
         {
          "season": 6537,
          "timestamp": 1661459829,
          "total bean vol": 5898843.737466,
          "total pod listing vol": 39197571.141752,
          "total pod order vol": 8562692.748482,
          "total pod vol": 47760263.890234,
          "value": 5898843.737466,
          "variable": "total_bean_vol"
         },
         {
          "season": 6537,
          "timestamp": 1661459829,
          "total bean vol": 5898843.737466,
          "total pod listing vol": 39197571.141752,
          "total pod order vol": 8562692.748482,
          "total pod vol": 47760263.890234,
          "value": 39197571.141752,
          "variable": "total_pod_listing_vol"
         },
         {
          "season": 6561,
          "timestamp": 1661537799,
          "total bean vol": 5908075.472453,
          "total pod listing vol": 39205629.570921,
          "total pod order vol": 8774468.193651,
          "total pod vol": 47980097.764572,
          "value": 47980097.764572,
          "variable": "total_pod_vol"
         },
         {
          "season": 6561,
          "timestamp": 1661537799,
          "total bean vol": 5908075.472453,
          "total pod listing vol": 39205629.570921,
          "total pod order vol": 8774468.193651,
          "total pod vol": 47980097.764572,
          "value": 39205629.570921,
          "variable": "total_pod_listing_vol"
         },
         {
          "season": 6561,
          "timestamp": 1661537799,
          "total bean vol": 5908075.472453,
          "total pod listing vol": 39205629.570921,
          "total pod order vol": 8774468.193651,
          "total pod vol": 47980097.764572,
          "value": 8774468.193651,
          "variable": "total_pod_order_vol"
         },
         {
          "season": 6561,
          "timestamp": 1661537799,
          "total bean vol": 5908075.472453,
          "total pod listing vol": 39205629.570921,
          "total pod order vol": 8774468.193651,
          "total pod vol": 47980097.764572,
          "value": 5908075.472453,
          "variable": "total_bean_vol"
         },
         {
          "season": 6585,
          "timestamp": 1661638905,
          "total bean vol": 5908075.472453,
          "total pod listing vol": 39205629.570921,
          "total pod order vol": 8774468.193651,
          "total pod vol": 47980097.764572,
          "value": 47980097.764572,
          "variable": "total_pod_vol"
         },
         {
          "season": 6585,
          "timestamp": 1661638905,
          "total bean vol": 5908075.472453,
          "total pod listing vol": 39205629.570921,
          "total pod order vol": 8774468.193651,
          "total pod vol": 47980097.764572,
          "value": 39205629.570921,
          "variable": "total_pod_listing_vol"
         },
         {
          "season": 6585,
          "timestamp": 1661638905,
          "total bean vol": 5908075.472453,
          "total pod listing vol": 39205629.570921,
          "total pod order vol": 8774468.193651,
          "total pod vol": 47980097.764572,
          "value": 5908075.472453,
          "variable": "total_bean_vol"
         },
         {
          "season": 6585,
          "timestamp": 1661638905,
          "total bean vol": 5908075.472453,
          "total pod listing vol": 39205629.570921,
          "total pod order vol": 8774468.193651,
          "total pod vol": 47980097.764572,
          "value": 8774468.193651,
          "variable": "total_pod_order_vol"
         },
         {
          "season": 6609,
          "timestamp": 1661721619,
          "total bean vol": 5920536.240183,
          "total pod listing vol": 39374836.054937,
          "total pod order vol": 8828496.551576,
          "total pod vol": 48203332.606513,
          "value": 39374836.054937,
          "variable": "total_pod_listing_vol"
         },
         {
          "season": 6609,
          "timestamp": 1661721619,
          "total bean vol": 5920536.240183,
          "total pod listing vol": 39374836.054937,
          "total pod order vol": 8828496.551576,
          "total pod vol": 48203332.606513,
          "value": 48203332.606513,
          "variable": "total_pod_vol"
         },
         {
          "season": 6609,
          "timestamp": 1661721619,
          "total bean vol": 5920536.240183,
          "total pod listing vol": 39374836.054937,
          "total pod order vol": 8828496.551576,
          "total pod vol": 48203332.606513,
          "value": 5920536.240183,
          "variable": "total_bean_vol"
         },
         {
          "season": 6609,
          "timestamp": 1661721619,
          "total bean vol": 5920536.240183,
          "total pod listing vol": 39374836.054937,
          "total pod order vol": 8828496.551576,
          "total pod vol": 48203332.606513,
          "value": 8828496.551576,
          "variable": "total_pod_order_vol"
         },
         {
          "season": 6633,
          "timestamp": 1661800229,
          "total bean vol": 5920536.240183,
          "total pod listing vol": 39374836.054937,
          "total pod order vol": 8828496.551576,
          "total pod vol": 48203332.606513,
          "value": 48203332.606513,
          "variable": "total_pod_vol"
         },
         {
          "season": 6633,
          "timestamp": 1661800229,
          "total bean vol": 5920536.240183,
          "total pod listing vol": 39374836.054937,
          "total pod order vol": 8828496.551576,
          "total pod vol": 48203332.606513,
          "value": 39374836.054937,
          "variable": "total_pod_listing_vol"
         },
         {
          "season": 6633,
          "timestamp": 1661800229,
          "total bean vol": 5920536.240183,
          "total pod listing vol": 39374836.054937,
          "total pod order vol": 8828496.551576,
          "total pod vol": 48203332.606513,
          "value": 5920536.240183,
          "variable": "total_bean_vol"
         },
         {
          "season": 6633,
          "timestamp": 1661800229,
          "total bean vol": 5920536.240183,
          "total pod listing vol": 39374836.054937,
          "total pod order vol": 8828496.551576,
          "total pod vol": 48203332.606513,
          "value": 8828496.551576,
          "variable": "total_pod_order_vol"
         },
         {
          "season": 6657,
          "timestamp": 1661895772,
          "total bean vol": 5926723.589487,
          "total pod listing vol": 39559791.500646,
          "total pod order vol": 8828496.551576,
          "total pod vol": 48388288.052222,
          "value": 48388288.052222,
          "variable": "total_pod_vol"
         },
         {
          "season": 6657,
          "timestamp": 1661895772,
          "total bean vol": 5926723.589487,
          "total pod listing vol": 39559791.500646,
          "total pod order vol": 8828496.551576,
          "total pod vol": 48388288.052222,
          "value": 5926723.589487,
          "variable": "total_bean_vol"
         },
         {
          "season": 6657,
          "timestamp": 1661895772,
          "total bean vol": 5926723.589487,
          "total pod listing vol": 39559791.500646,
          "total pod order vol": 8828496.551576,
          "total pod vol": 48388288.052222,
          "value": 39559791.500646,
          "variable": "total_pod_listing_vol"
         },
         {
          "season": 6657,
          "timestamp": 1661895772,
          "total bean vol": 5926723.589487,
          "total pod listing vol": 39559791.500646,
          "total pod order vol": 8828496.551576,
          "total pod vol": 48388288.052222,
          "value": 8828496.551576,
          "variable": "total_pod_order_vol"
         },
         {
          "season": 6681,
          "timestamp": 1661973180,
          "total bean vol": 5932732.765019,
          "total pod listing vol": 39563744.218304,
          "total pod order vol": 8945914.629593,
          "total pod vol": 48509658.847897,
          "value": 8945914.629593,
          "variable": "total_pod_order_vol"
         },
         {
          "season": 6681,
          "timestamp": 1661973180,
          "total bean vol": 5932732.765019,
          "total pod listing vol": 39563744.218304,
          "total pod order vol": 8945914.629593,
          "total pod vol": 48509658.847897,
          "value": 48509658.847897,
          "variable": "total_pod_vol"
         },
         {
          "season": 6681,
          "timestamp": 1661973180,
          "total bean vol": 5932732.765019,
          "total pod listing vol": 39563744.218304,
          "total pod order vol": 8945914.629593,
          "total pod vol": 48509658.847897,
          "value": 39563744.218304,
          "variable": "total_pod_listing_vol"
         },
         {
          "season": 6681,
          "timestamp": 1661973180,
          "total bean vol": 5932732.765019,
          "total pod listing vol": 39563744.218304,
          "total pod order vol": 8945914.629593,
          "total pod vol": 48509658.847897,
          "value": 5932732.765019,
          "variable": "total_bean_vol"
         },
         {
          "season": 6705,
          "timestamp": 1662069839,
          "total bean vol": 5938544.671492,
          "total pod listing vol": 39775053.195434,
          "total pod order vol": 8945914.629593,
          "total pod vol": 48720967.825027,
          "value": 5938544.671492,
          "variable": "total_bean_vol"
         },
         {
          "season": 6705,
          "timestamp": 1662069839,
          "total bean vol": 5938544.671492,
          "total pod listing vol": 39775053.195434,
          "total pod order vol": 8945914.629593,
          "total pod vol": 48720967.825027,
          "value": 48720967.825027,
          "variable": "total_pod_vol"
         },
         {
          "season": 6705,
          "timestamp": 1662069839,
          "total bean vol": 5938544.671492,
          "total pod listing vol": 39775053.195434,
          "total pod order vol": 8945914.629593,
          "total pod vol": 48720967.825027,
          "value": 39775053.195434,
          "variable": "total_pod_listing_vol"
         },
         {
          "season": 6705,
          "timestamp": 1662069839,
          "total bean vol": 5938544.671492,
          "total pod listing vol": 39775053.195434,
          "total pod order vol": 8945914.629593,
          "total pod vol": 48720967.825027,
          "value": 8945914.629593,
          "variable": "total_pod_order_vol"
         },
         {
          "season": 6729,
          "timestamp": 1662162438,
          "total bean vol": 5961509.885982,
          "total pod listing vol": 39907046.59378,
          "total pod order vol": 9305163.623793,
          "total pod vol": 49212210.217573,
          "value": 39907046.59378,
          "variable": "total_pod_listing_vol"
         },
         {
          "season": 6729,
          "timestamp": 1662162438,
          "total bean vol": 5961509.885982,
          "total pod listing vol": 39907046.59378,
          "total pod order vol": 9305163.623793,
          "total pod vol": 49212210.217573,
          "value": 9305163.623793,
          "variable": "total_pod_order_vol"
         },
         {
          "season": 6729,
          "timestamp": 1662162438,
          "total bean vol": 5961509.885982,
          "total pod listing vol": 39907046.59378,
          "total pod order vol": 9305163.623793,
          "total pod vol": 49212210.217573,
          "value": 5961509.885982,
          "variable": "total_bean_vol"
         },
         {
          "season": 6729,
          "timestamp": 1662162438,
          "total bean vol": 5961509.885982,
          "total pod listing vol": 39907046.59378,
          "total pod order vol": 9305163.623793,
          "total pod vol": 49212210.217573,
          "value": 49212210.217573,
          "variable": "total_pod_vol"
         },
         {
          "season": 6753,
          "timestamp": 1662228474,
          "total bean vol": 5963802.824855,
          "total pod listing vol": 39983615.967615,
          "total pod order vol": 9305163.623793,
          "total pod vol": 49288779.591408,
          "value": 49288779.591408,
          "variable": "total_pod_vol"
         },
         {
          "season": 6753,
          "timestamp": 1662228474,
          "total bean vol": 5963802.824855,
          "total pod listing vol": 39983615.967615,
          "total pod order vol": 9305163.623793,
          "total pod vol": 49288779.591408,
          "value": 39983615.967615,
          "variable": "total_pod_listing_vol"
         },
         {
          "season": 6753,
          "timestamp": 1662228474,
          "total bean vol": 5963802.824855,
          "total pod listing vol": 39983615.967615,
          "total pod order vol": 9305163.623793,
          "total pod vol": 49288779.591408,
          "value": 9305163.623793,
          "variable": "total_pod_order_vol"
         },
         {
          "season": 6753,
          "timestamp": 1662228474,
          "total bean vol": 5963802.824855,
          "total pod listing vol": 39983615.967615,
          "total pod order vol": 9305163.623793,
          "total pod vol": 49288779.591408,
          "value": 5963802.824855,
          "variable": "total_bean_vol"
         },
         {
          "season": 6777,
          "timestamp": 1662286011,
          "total bean vol": 5970838.315433,
          "total pod listing vol": 39986390.287911,
          "total pod order vol": 9364077.373793,
          "total pod vol": 49350467.661704,
          "value": 39986390.287911,
          "variable": "total_pod_listing_vol"
         },
         {
          "season": 6777,
          "timestamp": 1662286011,
          "total bean vol": 5970838.315433,
          "total pod listing vol": 39986390.287911,
          "total pod order vol": 9364077.373793,
          "total pod vol": 49350467.661704,
          "value": 5970838.315433,
          "variable": "total_bean_vol"
         },
         {
          "season": 6777,
          "timestamp": 1662286011,
          "total bean vol": 5970838.315433,
          "total pod listing vol": 39986390.287911,
          "total pod order vol": 9364077.373793,
          "total pod vol": 49350467.661704,
          "value": 49350467.661704,
          "variable": "total_pod_vol"
         },
         {
          "season": 6777,
          "timestamp": 1662286011,
          "total bean vol": 5970838.315433,
          "total pod listing vol": 39986390.287911,
          "total pod order vol": 9364077.373793,
          "total pod vol": 49350467.661704,
          "value": 9364077.373793,
          "variable": "total_pod_order_vol"
         },
         {
          "season": 6801,
          "timestamp": 1662389016,
          "total bean vol": 5970838.315433,
          "total pod listing vol": 39986390.287911,
          "total pod order vol": 9364077.373793,
          "total pod vol": 49350467.661704,
          "value": 5970838.315433,
          "variable": "total_bean_vol"
         },
         {
          "season": 6801,
          "timestamp": 1662389016,
          "total bean vol": 5970838.315433,
          "total pod listing vol": 39986390.287911,
          "total pod order vol": 9364077.373793,
          "total pod vol": 49350467.661704,
          "value": 9364077.373793,
          "variable": "total_pod_order_vol"
         },
         {
          "season": 6801,
          "timestamp": 1662389016,
          "total bean vol": 5970838.315433,
          "total pod listing vol": 39986390.287911,
          "total pod order vol": 9364077.373793,
          "total pod vol": 49350467.661704,
          "value": 39986390.287911,
          "variable": "total_pod_listing_vol"
         },
         {
          "season": 6801,
          "timestamp": 1662389016,
          "total bean vol": 5970838.315433,
          "total pod listing vol": 39986390.287911,
          "total pod order vol": 9364077.373793,
          "total pod vol": 49350467.661704,
          "value": 49350467.661704,
          "variable": "total_pod_vol"
         },
         {
          "season": 6825,
          "timestamp": 1662508456,
          "total bean vol": 5979404.135387,
          "total pod listing vol": 40140737.158231,
          "total pod order vol": 9398016.431338,
          "total pod vol": 49538753.589569,
          "value": 5979404.135387,
          "variable": "total_bean_vol"
         },
         {
          "season": 6825,
          "timestamp": 1662508456,
          "total bean vol": 5979404.135387,
          "total pod listing vol": 40140737.158231,
          "total pod order vol": 9398016.431338,
          "total pod vol": 49538753.589569,
          "value": 9398016.431338,
          "variable": "total_pod_order_vol"
         },
         {
          "season": 6825,
          "timestamp": 1662508456,
          "total bean vol": 5979404.135387,
          "total pod listing vol": 40140737.158231,
          "total pod order vol": 9398016.431338,
          "total pod vol": 49538753.589569,
          "value": 40140737.158231,
          "variable": "total_pod_listing_vol"
         },
         {
          "season": 6825,
          "timestamp": 1662508456,
          "total bean vol": 5979404.135387,
          "total pod listing vol": 40140737.158231,
          "total pod order vol": 9398016.431338,
          "total pod vol": 49538753.589569,
          "value": 49538753.589569,
          "variable": "total_pod_vol"
         },
         {
          "season": 6849,
          "timestamp": 1662585827,
          "total bean vol": 5992824.42013,
          "total pod listing vol": 40227543.555723,
          "total pod order vol": 9398016.431338,
          "total pod vol": 49625559.987061,
          "value": 40227543.555723,
          "variable": "total_pod_listing_vol"
         },
         {
          "season": 6849,
          "timestamp": 1662585827,
          "total bean vol": 5992824.42013,
          "total pod listing vol": 40227543.555723,
          "total pod order vol": 9398016.431338,
          "total pod vol": 49625559.987061,
          "value": 5992824.42013,
          "variable": "total_bean_vol"
         },
         {
          "season": 6849,
          "timestamp": 1662585827,
          "total bean vol": 5992824.42013,
          "total pod listing vol": 40227543.555723,
          "total pod order vol": 9398016.431338,
          "total pod vol": 49625559.987061,
          "value": 9398016.431338,
          "variable": "total_pod_order_vol"
         },
         {
          "season": 6849,
          "timestamp": 1662585827,
          "total bean vol": 5992824.42013,
          "total pod listing vol": 40227543.555723,
          "total pod order vol": 9398016.431338,
          "total pod vol": 49625559.987061,
          "value": 49625559.987061,
          "variable": "total_pod_vol"
         },
         {
          "season": 6873,
          "timestamp": 1662660124,
          "total bean vol": 5995958.012221,
          "total pod listing vol": 40227543.555723,
          "total pod order vol": 9462151.369958,
          "total pod vol": 49689694.925681,
          "value": 49689694.925681,
          "variable": "total_pod_vol"
         },
         {
          "season": 6873,
          "timestamp": 1662660124,
          "total bean vol": 5995958.012221,
          "total pod listing vol": 40227543.555723,
          "total pod order vol": 9462151.369958,
          "total pod vol": 49689694.925681,
          "value": 9462151.369958,
          "variable": "total_pod_order_vol"
         },
         {
          "season": 6873,
          "timestamp": 1662660124,
          "total bean vol": 5995958.012221,
          "total pod listing vol": 40227543.555723,
          "total pod order vol": 9462151.369958,
          "total pod vol": 49689694.925681,
          "value": 40227543.555723,
          "variable": "total_pod_listing_vol"
         },
         {
          "season": 6873,
          "timestamp": 1662660124,
          "total bean vol": 5995958.012221,
          "total pod listing vol": 40227543.555723,
          "total pod order vol": 9462151.369958,
          "total pod vol": 49689694.925681,
          "value": 5995958.012221,
          "variable": "total_bean_vol"
         },
         {
          "season": 6897,
          "timestamp": 1662731227,
          "total bean vol": 5995958.012221,
          "total pod listing vol": 40227543.555723,
          "total pod order vol": 9462151.369958,
          "total pod vol": 49689694.925681,
          "value": 9462151.369958,
          "variable": "total_pod_order_vol"
         },
         {
          "season": 6897,
          "timestamp": 1662731227,
          "total bean vol": 5995958.012221,
          "total pod listing vol": 40227543.555723,
          "total pod order vol": 9462151.369958,
          "total pod vol": 49689694.925681,
          "value": 40227543.555723,
          "variable": "total_pod_listing_vol"
         },
         {
          "season": 6897,
          "timestamp": 1662731227,
          "total bean vol": 5995958.012221,
          "total pod listing vol": 40227543.555723,
          "total pod order vol": 9462151.369958,
          "total pod vol": 49689694.925681,
          "value": 49689694.925681,
          "variable": "total_pod_vol"
         },
         {
          "season": 6897,
          "timestamp": 1662731227,
          "total bean vol": 5995958.012221,
          "total pod listing vol": 40227543.555723,
          "total pod order vol": 9462151.369958,
          "total pod vol": 49689694.925681,
          "value": 5995958.012221,
          "variable": "total_bean_vol"
         },
         {
          "season": 6921,
          "timestamp": 1662837171,
          "total bean vol": 6018706.754343,
          "total pod listing vol": 40426854.261582,
          "total pod order vol": 9492461.407908,
          "total pod vol": 49919315.66949,
          "value": 40426854.261582,
          "variable": "total_pod_listing_vol"
         },
         {
          "season": 6921,
          "timestamp": 1662837171,
          "total bean vol": 6018706.754343,
          "total pod listing vol": 40426854.261582,
          "total pod order vol": 9492461.407908,
          "total pod vol": 49919315.66949,
          "value": 49919315.66949,
          "variable": "total_pod_vol"
         },
         {
          "season": 6921,
          "timestamp": 1662837171,
          "total bean vol": 6018706.754343,
          "total pod listing vol": 40426854.261582,
          "total pod order vol": 9492461.407908,
          "total pod vol": 49919315.66949,
          "value": 6018706.754343,
          "variable": "total_bean_vol"
         },
         {
          "season": 6921,
          "timestamp": 1662837171,
          "total bean vol": 6018706.754343,
          "total pod listing vol": 40426854.261582,
          "total pod order vol": 9492461.407908,
          "total pod vol": 49919315.66949,
          "value": 9492461.407908,
          "variable": "total_pod_order_vol"
         },
         {
          "season": 6945,
          "timestamp": 1662910729,
          "total bean vol": 6020675.750547,
          "total pod listing vol": 40426854.261582,
          "total pod order vol": 9512151.369958,
          "total pod vol": 49939005.63154,
          "value": 40426854.261582,
          "variable": "total_pod_listing_vol"
         },
         {
          "season": 6945,
          "timestamp": 1662910729,
          "total bean vol": 6020675.750547,
          "total pod listing vol": 40426854.261582,
          "total pod order vol": 9512151.369958,
          "total pod vol": 49939005.63154,
          "value": 9512151.369958,
          "variable": "total_pod_order_vol"
         },
         {
          "season": 6945,
          "timestamp": 1662910729,
          "total bean vol": 6020675.750547,
          "total pod listing vol": 40426854.261582,
          "total pod order vol": 9512151.369958,
          "total pod vol": 49939005.63154,
          "value": 6020675.750547,
          "variable": "total_bean_vol"
         },
         {
          "season": 6945,
          "timestamp": 1662910729,
          "total bean vol": 6020675.750547,
          "total pod listing vol": 40426854.261582,
          "total pod order vol": 9512151.369958,
          "total pod vol": 49939005.63154,
          "value": 49939005.63154,
          "variable": "total_pod_vol"
         },
         {
          "season": 6969,
          "timestamp": 1663024596,
          "total bean vol": 6021486.312213,
          "total pod listing vol": 40436960.607754,
          "total pod order vol": 9517326.146238,
          "total pod vol": 49954286.753992,
          "value": 40436960.607754,
          "variable": "total_pod_listing_vol"
         },
         {
          "season": 6969,
          "timestamp": 1663024596,
          "total bean vol": 6021486.312213,
          "total pod listing vol": 40436960.607754,
          "total pod order vol": 9517326.146238,
          "total pod vol": 49954286.753992,
          "value": 9517326.146238,
          "variable": "total_pod_order_vol"
         },
         {
          "season": 6969,
          "timestamp": 1663024596,
          "total bean vol": 6021486.312213,
          "total pod listing vol": 40436960.607754,
          "total pod order vol": 9517326.146238,
          "total pod vol": 49954286.753992,
          "value": 49954286.753992,
          "variable": "total_pod_vol"
         },
         {
          "season": 6969,
          "timestamp": 1663024596,
          "total bean vol": 6021486.312213,
          "total pod listing vol": 40436960.607754,
          "total pod order vol": 9517326.146238,
          "total pod vol": 49954286.753992,
          "value": 6021486.312213,
          "variable": "total_bean_vol"
         },
         {
          "season": 6987,
          "timestamp": 1663069833,
          "total bean vol": 6028119.504444,
          "total pod listing vol": 40436960.607754,
          "total pod order vol": 9682871.67636,
          "total pod vol": 50119832.284114,
          "value": 50119832.284114,
          "variable": "total_pod_vol"
         },
         {
          "season": 6987,
          "timestamp": 1663069833,
          "total bean vol": 6028119.504444,
          "total pod listing vol": 40436960.607754,
          "total pod order vol": 9682871.67636,
          "total pod vol": 50119832.284114,
          "value": 6028119.504444,
          "variable": "total_bean_vol"
         },
         {
          "season": 6987,
          "timestamp": 1663069833,
          "total bean vol": 6028119.504444,
          "total pod listing vol": 40436960.607754,
          "total pod order vol": 9682871.67636,
          "total pod vol": 50119832.284114,
          "value": 40436960.607754,
          "variable": "total_pod_listing_vol"
         },
         {
          "season": 6987,
          "timestamp": 1663069833,
          "total bean vol": 6028119.504444,
          "total pod listing vol": 40436960.607754,
          "total pod order vol": 9682871.67636,
          "total pod vol": 50119832.284114,
          "value": 9682871.67636,
          "variable": "total_pod_order_vol"
         }
        ]
       },
       "layer": [
        {
         "encoding": {
          "color": {
           "field": "variable",
           "type": "nominal"
          },
          "tooltip": [
           {
            "field": "total bean vol",
            "format": ",d",
            "type": "quantitative"
           },
           {
            "field": "total pod listing vol",
            "format": ",d",
            "type": "quantitative"
           },
           {
            "field": "total pod order vol",
            "format": ",d",
            "type": "quantitative"
           },
           {
            "field": "total pod vol",
            "format": ",d",
            "type": "quantitative"
           }
          ],
          "x": {
           "field": "season",
           "type": "ordinal"
          },
          "y": {
           "field": "value_1",
           "type": "quantitative"
          },
          "y2": {
           "field": "value_2"
          }
         },
         "mark": {
          "point": "transparent",
          "type": "area"
         },
         "transform": [
          {
           "filter": "(datum.variable !== 'total_pod_vol')"
          },
          {
           "as": [
            "value_1",
            "value_2"
           ],
           "groupby": [
            "season"
           ],
           "sort": [
            {
             "field": "variable",
             "order": "descending"
            }
           ],
           "stack": "value"
          }
         ],
         "width": 700
        },
        {
         "encoding": {
          "color": {
           "field": "variable",
           "type": "nominal"
          },
          "x": {
           "field": "season",
           "type": "ordinal"
          },
          "y": {
           "field": "value",
           "type": "quantitative"
          }
         },
         "mark": "line",
         "transform": [
          {
           "filter": "(datum.variable === 'total_pod_vol')"
          }
         ],
         "width": 700
        }
       ]
      },
      "text/plain": [
       "<IPython.core.display.JSON object>"
      ]
     },
     "execution_count": 12,
     "metadata": {
      "application/json": {
       "expanded": false,
       "root": "root"
      }
     },
     "output_type": "execute_result"
    }
   ],
   "source": [
    "output_chart(c)"
   ]
  },
  {
   "cell_type": "code",
   "execution_count": 22,
   "id": "52eb1057",
   "metadata": {},
   "outputs": [
    {
     "ename": "AttributeError",
     "evalue": "'list' object has no attribute 'get'",
     "output_type": "error",
     "traceback": [
      "\u001b[0;31m---------------------------------------------------------------------------\u001b[0m",
      "\u001b[0;31mAttributeError\u001b[0m                            Traceback (most recent call last)",
      "Input \u001b[0;32mIn [22]\u001b[0m, in \u001b[0;36m<cell line: 3>\u001b[0;34m()\u001b[0m\n\u001b[1;32m      1\u001b[0m json_obj \u001b[38;5;241m=\u001b[39m c\u001b[38;5;241m.\u001b[39mto_dict()\n\u001b[1;32m      2\u001b[0m \u001b[38;5;66;03m# print(json_obj)\u001b[39;00m\n\u001b[0;32m----> 3\u001b[0m \u001b[43mc\u001b[49m\u001b[38;5;241;43m.\u001b[39;49m\u001b[43mfrom_dict\u001b[49m\u001b[43m(\u001b[49m\u001b[43mjson_obj\u001b[49m\u001b[43m)\u001b[49m\n",
      "File \u001b[0;32m~/opt/anaconda3/envs/beanstalk/lib/python3.10/site-packages/altair/utils/schemapi.py:411\u001b[0m, in \u001b[0;36mSchemaBase.from_dict\u001b[0;34m(cls, dct, validate, _wrapper_classes)\u001b[0m\n\u001b[1;32m    409\u001b[0m     _wrapper_classes \u001b[38;5;241m=\u001b[39m \u001b[38;5;28mcls\u001b[39m\u001b[38;5;241m.\u001b[39m_default_wrapper_classes()\n\u001b[1;32m    410\u001b[0m converter \u001b[38;5;241m=\u001b[39m _FromDict(_wrapper_classes)\n\u001b[0;32m--> 411\u001b[0m \u001b[38;5;28;01mreturn\u001b[39;00m \u001b[43mconverter\u001b[49m\u001b[38;5;241;43m.\u001b[39;49m\u001b[43mfrom_dict\u001b[49m\u001b[43m(\u001b[49m\u001b[43mdct\u001b[49m\u001b[43m,\u001b[49m\u001b[43m \u001b[49m\u001b[38;5;28;43mcls\u001b[39;49m\u001b[43m)\u001b[49m\n",
      "File \u001b[0;32m~/opt/anaconda3/envs/beanstalk/lib/python3.10/site-packages/altair/utils/schemapi.py:575\u001b[0m, in \u001b[0;36m_FromDict.from_dict\u001b[0;34m(self, dct, cls, schema, rootschema, default_class)\u001b[0m\n\u001b[1;32m    573\u001b[0m \u001b[38;5;28;01mfor\u001b[39;00m key, val \u001b[38;5;129;01min\u001b[39;00m dct\u001b[38;5;241m.\u001b[39mitems():\n\u001b[1;32m    574\u001b[0m     \u001b[38;5;28;01mif\u001b[39;00m key \u001b[38;5;129;01min\u001b[39;00m props:\n\u001b[0;32m--> 575\u001b[0m         val \u001b[38;5;241m=\u001b[39m \u001b[38;5;28;43mself\u001b[39;49m\u001b[38;5;241;43m.\u001b[39;49m\u001b[43mfrom_dict\u001b[49m\u001b[43m(\u001b[49m\u001b[43mval\u001b[49m\u001b[43m,\u001b[49m\u001b[43m \u001b[49m\u001b[43mschema\u001b[49m\u001b[38;5;241;43m=\u001b[39;49m\u001b[43mprops\u001b[49m\u001b[43m[\u001b[49m\u001b[43mkey\u001b[49m\u001b[43m]\u001b[49m\u001b[43m,\u001b[49m\u001b[43m \u001b[49m\u001b[43mrootschema\u001b[49m\u001b[38;5;241;43m=\u001b[39;49m\u001b[43mrootschema\u001b[49m\u001b[43m)\u001b[49m\n\u001b[1;32m    576\u001b[0m     kwds[key] \u001b[38;5;241m=\u001b[39m val\n\u001b[1;32m    577\u001b[0m \u001b[38;5;28;01mreturn\u001b[39;00m \u001b[38;5;28mcls\u001b[39m(\u001b[38;5;241m*\u001b[39m\u001b[38;5;241m*\u001b[39mkwds)\n",
      "File \u001b[0;32m~/opt/anaconda3/envs/beanstalk/lib/python3.10/site-packages/altair/utils/schemapi.py:581\u001b[0m, in \u001b[0;36m_FromDict.from_dict\u001b[0;34m(self, dct, cls, schema, rootschema, default_class)\u001b[0m\n\u001b[1;32m    579\u001b[0m \u001b[38;5;28;01melif\u001b[39;00m \u001b[38;5;28misinstance\u001b[39m(dct, \u001b[38;5;28mlist\u001b[39m):\n\u001b[1;32m    580\u001b[0m     item_schema \u001b[38;5;241m=\u001b[39m schema\u001b[38;5;241m.\u001b[39mget(\u001b[38;5;124m\"\u001b[39m\u001b[38;5;124mitems\u001b[39m\u001b[38;5;124m\"\u001b[39m, {})\n\u001b[0;32m--> 581\u001b[0m     dct \u001b[38;5;241m=\u001b[39m [\n\u001b[1;32m    582\u001b[0m         \u001b[38;5;28mself\u001b[39m\u001b[38;5;241m.\u001b[39mfrom_dict(val, schema\u001b[38;5;241m=\u001b[39mitem_schema, rootschema\u001b[38;5;241m=\u001b[39mrootschema)\n\u001b[1;32m    583\u001b[0m         \u001b[38;5;28;01mfor\u001b[39;00m val \u001b[38;5;129;01min\u001b[39;00m dct\n\u001b[1;32m    584\u001b[0m     ]\n\u001b[1;32m    585\u001b[0m     \u001b[38;5;28;01mreturn\u001b[39;00m \u001b[38;5;28mcls\u001b[39m(dct)\n\u001b[1;32m    586\u001b[0m \u001b[38;5;28;01melse\u001b[39;00m:\n",
      "File \u001b[0;32m~/opt/anaconda3/envs/beanstalk/lib/python3.10/site-packages/altair/utils/schemapi.py:582\u001b[0m, in \u001b[0;36m<listcomp>\u001b[0;34m(.0)\u001b[0m\n\u001b[1;32m    579\u001b[0m \u001b[38;5;28;01melif\u001b[39;00m \u001b[38;5;28misinstance\u001b[39m(dct, \u001b[38;5;28mlist\u001b[39m):\n\u001b[1;32m    580\u001b[0m     item_schema \u001b[38;5;241m=\u001b[39m schema\u001b[38;5;241m.\u001b[39mget(\u001b[38;5;124m\"\u001b[39m\u001b[38;5;124mitems\u001b[39m\u001b[38;5;124m\"\u001b[39m, {})\n\u001b[1;32m    581\u001b[0m     dct \u001b[38;5;241m=\u001b[39m [\n\u001b[0;32m--> 582\u001b[0m         \u001b[38;5;28;43mself\u001b[39;49m\u001b[38;5;241;43m.\u001b[39;49m\u001b[43mfrom_dict\u001b[49m\u001b[43m(\u001b[49m\u001b[43mval\u001b[49m\u001b[43m,\u001b[49m\u001b[43m \u001b[49m\u001b[43mschema\u001b[49m\u001b[38;5;241;43m=\u001b[39;49m\u001b[43mitem_schema\u001b[49m\u001b[43m,\u001b[49m\u001b[43m \u001b[49m\u001b[43mrootschema\u001b[49m\u001b[38;5;241;43m=\u001b[39;49m\u001b[43mrootschema\u001b[49m\u001b[43m)\u001b[49m\n\u001b[1;32m    583\u001b[0m         \u001b[38;5;28;01mfor\u001b[39;00m val \u001b[38;5;129;01min\u001b[39;00m dct\n\u001b[1;32m    584\u001b[0m     ]\n\u001b[1;32m    585\u001b[0m     \u001b[38;5;28;01mreturn\u001b[39;00m \u001b[38;5;28mcls\u001b[39m(dct)\n\u001b[1;32m    586\u001b[0m \u001b[38;5;28;01melse\u001b[39;00m:\n",
      "File \u001b[0;32m~/opt/anaconda3/envs/beanstalk/lib/python3.10/site-packages/altair/utils/schemapi.py:558\u001b[0m, in \u001b[0;36m_FromDict.from_dict\u001b[0;34m(self, dct, cls, schema, rootschema, default_class)\u001b[0m\n\u001b[1;32m    556\u001b[0m resolver \u001b[38;5;241m=\u001b[39m jsonschema\u001b[38;5;241m.\u001b[39mRefResolver\u001b[38;5;241m.\u001b[39mfrom_schema(rootschema)\n\u001b[1;32m    557\u001b[0m \u001b[38;5;28;01mtry\u001b[39;00m:\n\u001b[0;32m--> 558\u001b[0m     \u001b[43mjsonschema\u001b[49m\u001b[38;5;241;43m.\u001b[39;49m\u001b[43mvalidate\u001b[49m\u001b[43m(\u001b[49m\u001b[43mdct\u001b[49m\u001b[43m,\u001b[49m\u001b[43m \u001b[49m\u001b[43mpossible_schema\u001b[49m\u001b[43m,\u001b[49m\u001b[43m \u001b[49m\u001b[43mresolver\u001b[49m\u001b[38;5;241;43m=\u001b[39;49m\u001b[43mresolver\u001b[49m\u001b[43m)\u001b[49m\n\u001b[1;32m    559\u001b[0m \u001b[38;5;28;01mexcept\u001b[39;00m jsonschema\u001b[38;5;241m.\u001b[39mValidationError:\n\u001b[1;32m    560\u001b[0m     \u001b[38;5;28;01mcontinue\u001b[39;00m\n",
      "File \u001b[0;32m~/.local/lib/python3.10/site-packages/jsonschema/validators.py:1061\u001b[0m, in \u001b[0;36mvalidate\u001b[0;34m(instance, schema, cls, *args, **kwargs)\u001b[0m\n\u001b[1;32m   1059\u001b[0m \u001b[38;5;28mcls\u001b[39m\u001b[38;5;241m.\u001b[39mcheck_schema(schema)\n\u001b[1;32m   1060\u001b[0m validator \u001b[38;5;241m=\u001b[39m \u001b[38;5;28mcls\u001b[39m(schema, \u001b[38;5;241m*\u001b[39margs, \u001b[38;5;241m*\u001b[39m\u001b[38;5;241m*\u001b[39mkwargs)\n\u001b[0;32m-> 1061\u001b[0m error \u001b[38;5;241m=\u001b[39m \u001b[43mexceptions\u001b[49m\u001b[38;5;241;43m.\u001b[39;49m\u001b[43mbest_match\u001b[49m\u001b[43m(\u001b[49m\u001b[43mvalidator\u001b[49m\u001b[38;5;241;43m.\u001b[39;49m\u001b[43miter_errors\u001b[49m\u001b[43m(\u001b[49m\u001b[43minstance\u001b[49m\u001b[43m)\u001b[49m\u001b[43m)\u001b[49m\n\u001b[1;32m   1062\u001b[0m \u001b[38;5;28;01mif\u001b[39;00m error \u001b[38;5;129;01mis\u001b[39;00m \u001b[38;5;129;01mnot\u001b[39;00m \u001b[38;5;28;01mNone\u001b[39;00m:\n\u001b[1;32m   1063\u001b[0m     \u001b[38;5;28;01mraise\u001b[39;00m error\n",
      "File \u001b[0;32m~/.local/lib/python3.10/site-packages/jsonschema/exceptions.py:384\u001b[0m, in \u001b[0;36mbest_match\u001b[0;34m(errors, key)\u001b[0m\n\u001b[1;32m    382\u001b[0m \u001b[38;5;28;01mif\u001b[39;00m best \u001b[38;5;129;01mis\u001b[39;00m \u001b[38;5;28;01mNone\u001b[39;00m:\n\u001b[1;32m    383\u001b[0m     \u001b[38;5;28;01mreturn\u001b[39;00m\n\u001b[0;32m--> 384\u001b[0m best \u001b[38;5;241m=\u001b[39m \u001b[38;5;28;43mmax\u001b[39;49m\u001b[43m(\u001b[49m\u001b[43mitertools\u001b[49m\u001b[38;5;241;43m.\u001b[39;49m\u001b[43mchain\u001b[49m\u001b[43m(\u001b[49m\u001b[43m[\u001b[49m\u001b[43mbest\u001b[49m\u001b[43m]\u001b[49m\u001b[43m,\u001b[49m\u001b[43m \u001b[49m\u001b[43merrors\u001b[49m\u001b[43m)\u001b[49m\u001b[43m,\u001b[49m\u001b[43m \u001b[49m\u001b[43mkey\u001b[49m\u001b[38;5;241;43m=\u001b[39;49m\u001b[43mkey\u001b[49m\u001b[43m)\u001b[49m\n\u001b[1;32m    386\u001b[0m \u001b[38;5;28;01mwhile\u001b[39;00m best\u001b[38;5;241m.\u001b[39mcontext:\n\u001b[1;32m    387\u001b[0m     \u001b[38;5;66;03m# Calculate the minimum via nsmallest, because we don't recurse if\u001b[39;00m\n\u001b[1;32m    388\u001b[0m     \u001b[38;5;66;03m# all nested errors have the same relevance (i.e. if min == max == all)\u001b[39;00m\n\u001b[1;32m    389\u001b[0m     smallest \u001b[38;5;241m=\u001b[39m heapq\u001b[38;5;241m.\u001b[39mnsmallest(\u001b[38;5;241m2\u001b[39m, best\u001b[38;5;241m.\u001b[39mcontext, key\u001b[38;5;241m=\u001b[39mkey)\n",
      "File \u001b[0;32m~/.local/lib/python3.10/site-packages/jsonschema/validators.py:243\u001b[0m, in \u001b[0;36mcreate.<locals>.Validator.iter_errors\u001b[0;34m(self, instance, _schema)\u001b[0m\n\u001b[1;32m    240\u001b[0m     \u001b[38;5;28;01mcontinue\u001b[39;00m\n\u001b[1;32m    242\u001b[0m errors \u001b[38;5;241m=\u001b[39m validator(\u001b[38;5;28mself\u001b[39m, v, instance, _schema) \u001b[38;5;129;01mor\u001b[39;00m ()\n\u001b[0;32m--> 243\u001b[0m \u001b[38;5;28;01mfor\u001b[39;00m error \u001b[38;5;129;01min\u001b[39;00m errors:\n\u001b[1;32m    244\u001b[0m     \u001b[38;5;66;03m# set details if not already set by the called fn\u001b[39;00m\n\u001b[1;32m    245\u001b[0m     error\u001b[38;5;241m.\u001b[39m_set(\n\u001b[1;32m    246\u001b[0m         validator\u001b[38;5;241m=\u001b[39mk,\n\u001b[1;32m    247\u001b[0m         validator_value\u001b[38;5;241m=\u001b[39mv,\n\u001b[0;32m   (...)\u001b[0m\n\u001b[1;32m    250\u001b[0m         type_checker\u001b[38;5;241m=\u001b[39m\u001b[38;5;28mself\u001b[39m\u001b[38;5;241m.\u001b[39mTYPE_CHECKER,\n\u001b[1;32m    251\u001b[0m     )\n\u001b[1;32m    252\u001b[0m     \u001b[38;5;28;01mif\u001b[39;00m k \u001b[38;5;129;01mnot\u001b[39;00m \u001b[38;5;129;01min\u001b[39;00m {\u001b[38;5;124m\"\u001b[39m\u001b[38;5;124mif\u001b[39m\u001b[38;5;124m\"\u001b[39m, \u001b[38;5;124m\"\u001b[39m\u001b[38;5;124m$ref\u001b[39m\u001b[38;5;124m\"\u001b[39m}:\n",
      "File \u001b[0;32m~/.local/lib/python3.10/site-packages/jsonschema/_validators.py:298\u001b[0m, in \u001b[0;36mref\u001b[0;34m(validator, ref, instance, schema)\u001b[0m\n\u001b[1;32m    295\u001b[0m validator\u001b[38;5;241m.\u001b[39mresolver\u001b[38;5;241m.\u001b[39mpush_scope(scope)\n\u001b[1;32m    297\u001b[0m \u001b[38;5;28;01mtry\u001b[39;00m:\n\u001b[0;32m--> 298\u001b[0m     \u001b[38;5;28;01myield from\u001b[39;00m validator\u001b[38;5;241m.\u001b[39mdescend(instance, resolved)\n\u001b[1;32m    299\u001b[0m \u001b[38;5;28;01mfinally\u001b[39;00m:\n\u001b[1;32m    300\u001b[0m     validator\u001b[38;5;241m.\u001b[39mresolver\u001b[38;5;241m.\u001b[39mpop_scope()\n",
      "File \u001b[0;32m~/.local/lib/python3.10/site-packages/jsonschema/validators.py:260\u001b[0m, in \u001b[0;36mcreate.<locals>.Validator.descend\u001b[0;34m(self, instance, schema, path, schema_path)\u001b[0m\n\u001b[1;32m    259\u001b[0m \u001b[38;5;28;01mdef\u001b[39;00m \u001b[38;5;21mdescend\u001b[39m(\u001b[38;5;28mself\u001b[39m, instance, schema, path\u001b[38;5;241m=\u001b[39m\u001b[38;5;28;01mNone\u001b[39;00m, schema_path\u001b[38;5;241m=\u001b[39m\u001b[38;5;28;01mNone\u001b[39;00m):\n\u001b[0;32m--> 260\u001b[0m     \u001b[38;5;28;01mfor\u001b[39;00m error \u001b[38;5;129;01min\u001b[39;00m \u001b[38;5;28mself\u001b[39m\u001b[38;5;241m.\u001b[39mevolve(schema\u001b[38;5;241m=\u001b[39mschema)\u001b[38;5;241m.\u001b[39miter_errors(instance):\n\u001b[1;32m    261\u001b[0m         \u001b[38;5;28;01mif\u001b[39;00m path \u001b[38;5;129;01mis\u001b[39;00m \u001b[38;5;129;01mnot\u001b[39;00m \u001b[38;5;28;01mNone\u001b[39;00m:\n\u001b[1;32m    262\u001b[0m             error\u001b[38;5;241m.\u001b[39mpath\u001b[38;5;241m.\u001b[39mappendleft(path)\n",
      "File \u001b[0;32m~/.local/lib/python3.10/site-packages/jsonschema/validators.py:243\u001b[0m, in \u001b[0;36mcreate.<locals>.Validator.iter_errors\u001b[0;34m(self, instance, _schema)\u001b[0m\n\u001b[1;32m    240\u001b[0m     \u001b[38;5;28;01mcontinue\u001b[39;00m\n\u001b[1;32m    242\u001b[0m errors \u001b[38;5;241m=\u001b[39m validator(\u001b[38;5;28mself\u001b[39m, v, instance, _schema) \u001b[38;5;129;01mor\u001b[39;00m ()\n\u001b[0;32m--> 243\u001b[0m \u001b[38;5;28;01mfor\u001b[39;00m error \u001b[38;5;129;01min\u001b[39;00m errors:\n\u001b[1;32m    244\u001b[0m     \u001b[38;5;66;03m# set details if not already set by the called fn\u001b[39;00m\n\u001b[1;32m    245\u001b[0m     error\u001b[38;5;241m.\u001b[39m_set(\n\u001b[1;32m    246\u001b[0m         validator\u001b[38;5;241m=\u001b[39mk,\n\u001b[1;32m    247\u001b[0m         validator_value\u001b[38;5;241m=\u001b[39mv,\n\u001b[0;32m   (...)\u001b[0m\n\u001b[1;32m    250\u001b[0m         type_checker\u001b[38;5;241m=\u001b[39m\u001b[38;5;28mself\u001b[39m\u001b[38;5;241m.\u001b[39mTYPE_CHECKER,\n\u001b[1;32m    251\u001b[0m     )\n\u001b[1;32m    252\u001b[0m     \u001b[38;5;28;01mif\u001b[39;00m k \u001b[38;5;129;01mnot\u001b[39;00m \u001b[38;5;129;01min\u001b[39;00m {\u001b[38;5;124m\"\u001b[39m\u001b[38;5;124mif\u001b[39m\u001b[38;5;124m\"\u001b[39m, \u001b[38;5;124m\"\u001b[39m\u001b[38;5;124m$ref\u001b[39m\u001b[38;5;124m\"\u001b[39m}:\n",
      "File \u001b[0;32m~/.local/lib/python3.10/site-packages/jsonschema/_validators.py:332\u001b[0m, in \u001b[0;36mproperties\u001b[0;34m(validator, properties, instance, schema)\u001b[0m\n\u001b[1;32m    330\u001b[0m \u001b[38;5;28;01mfor\u001b[39;00m \u001b[38;5;28mproperty\u001b[39m, subschema \u001b[38;5;129;01min\u001b[39;00m properties\u001b[38;5;241m.\u001b[39mitems():\n\u001b[1;32m    331\u001b[0m     \u001b[38;5;28;01mif\u001b[39;00m \u001b[38;5;28mproperty\u001b[39m \u001b[38;5;129;01min\u001b[39;00m instance:\n\u001b[0;32m--> 332\u001b[0m         \u001b[38;5;28;01myield from\u001b[39;00m validator\u001b[38;5;241m.\u001b[39mdescend(\n\u001b[1;32m    333\u001b[0m             instance[\u001b[38;5;28mproperty\u001b[39m],\n\u001b[1;32m    334\u001b[0m             subschema,\n\u001b[1;32m    335\u001b[0m             path\u001b[38;5;241m=\u001b[39m\u001b[38;5;28mproperty\u001b[39m,\n\u001b[1;32m    336\u001b[0m             schema_path\u001b[38;5;241m=\u001b[39m\u001b[38;5;28mproperty\u001b[39m,\n\u001b[1;32m    337\u001b[0m         )\n",
      "File \u001b[0;32m~/.local/lib/python3.10/site-packages/jsonschema/validators.py:260\u001b[0m, in \u001b[0;36mcreate.<locals>.Validator.descend\u001b[0;34m(self, instance, schema, path, schema_path)\u001b[0m\n\u001b[1;32m    259\u001b[0m \u001b[38;5;28;01mdef\u001b[39;00m \u001b[38;5;21mdescend\u001b[39m(\u001b[38;5;28mself\u001b[39m, instance, schema, path\u001b[38;5;241m=\u001b[39m\u001b[38;5;28;01mNone\u001b[39;00m, schema_path\u001b[38;5;241m=\u001b[39m\u001b[38;5;28;01mNone\u001b[39;00m):\n\u001b[0;32m--> 260\u001b[0m     \u001b[38;5;28;01mfor\u001b[39;00m error \u001b[38;5;129;01min\u001b[39;00m \u001b[38;5;28mself\u001b[39m\u001b[38;5;241m.\u001b[39mevolve(schema\u001b[38;5;241m=\u001b[39mschema)\u001b[38;5;241m.\u001b[39miter_errors(instance):\n\u001b[1;32m    261\u001b[0m         \u001b[38;5;28;01mif\u001b[39;00m path \u001b[38;5;129;01mis\u001b[39;00m \u001b[38;5;129;01mnot\u001b[39;00m \u001b[38;5;28;01mNone\u001b[39;00m:\n\u001b[1;32m    262\u001b[0m             error\u001b[38;5;241m.\u001b[39mpath\u001b[38;5;241m.\u001b[39mappendleft(path)\n",
      "File \u001b[0;32m~/.local/lib/python3.10/site-packages/jsonschema/validators.py:243\u001b[0m, in \u001b[0;36mcreate.<locals>.Validator.iter_errors\u001b[0;34m(self, instance, _schema)\u001b[0m\n\u001b[1;32m    240\u001b[0m     \u001b[38;5;28;01mcontinue\u001b[39;00m\n\u001b[1;32m    242\u001b[0m errors \u001b[38;5;241m=\u001b[39m validator(\u001b[38;5;28mself\u001b[39m, v, instance, _schema) \u001b[38;5;129;01mor\u001b[39;00m ()\n\u001b[0;32m--> 243\u001b[0m \u001b[38;5;28;01mfor\u001b[39;00m error \u001b[38;5;129;01min\u001b[39;00m errors:\n\u001b[1;32m    244\u001b[0m     \u001b[38;5;66;03m# set details if not already set by the called fn\u001b[39;00m\n\u001b[1;32m    245\u001b[0m     error\u001b[38;5;241m.\u001b[39m_set(\n\u001b[1;32m    246\u001b[0m         validator\u001b[38;5;241m=\u001b[39mk,\n\u001b[1;32m    247\u001b[0m         validator_value\u001b[38;5;241m=\u001b[39mv,\n\u001b[0;32m   (...)\u001b[0m\n\u001b[1;32m    250\u001b[0m         type_checker\u001b[38;5;241m=\u001b[39m\u001b[38;5;28mself\u001b[39m\u001b[38;5;241m.\u001b[39mTYPE_CHECKER,\n\u001b[1;32m    251\u001b[0m     )\n\u001b[1;32m    252\u001b[0m     \u001b[38;5;28;01mif\u001b[39;00m k \u001b[38;5;129;01mnot\u001b[39;00m \u001b[38;5;129;01min\u001b[39;00m {\u001b[38;5;124m\"\u001b[39m\u001b[38;5;124mif\u001b[39m\u001b[38;5;124m\"\u001b[39m, \u001b[38;5;124m\"\u001b[39m\u001b[38;5;124m$ref\u001b[39m\u001b[38;5;124m\"\u001b[39m}:\n",
      "File \u001b[0;32m~/.local/lib/python3.10/site-packages/jsonschema/_validators.py:76\u001b[0m, in \u001b[0;36mitems\u001b[0;34m(validator, items, instance, schema)\u001b[0m\n\u001b[1;32m     74\u001b[0m \u001b[38;5;28;01melse\u001b[39;00m:\n\u001b[1;32m     75\u001b[0m     \u001b[38;5;28;01mfor\u001b[39;00m index \u001b[38;5;129;01min\u001b[39;00m \u001b[38;5;28mrange\u001b[39m(prefix, total):\n\u001b[0;32m---> 76\u001b[0m         \u001b[38;5;28;01myield from\u001b[39;00m validator\u001b[38;5;241m.\u001b[39mdescend(\n\u001b[1;32m     77\u001b[0m             instance\u001b[38;5;241m=\u001b[39minstance[index],\n\u001b[1;32m     78\u001b[0m             schema\u001b[38;5;241m=\u001b[39mitems,\n\u001b[1;32m     79\u001b[0m             path\u001b[38;5;241m=\u001b[39mindex,\n\u001b[1;32m     80\u001b[0m         )\n",
      "File \u001b[0;32m~/.local/lib/python3.10/site-packages/jsonschema/validators.py:260\u001b[0m, in \u001b[0;36mcreate.<locals>.Validator.descend\u001b[0;34m(self, instance, schema, path, schema_path)\u001b[0m\n\u001b[1;32m    259\u001b[0m \u001b[38;5;28;01mdef\u001b[39;00m \u001b[38;5;21mdescend\u001b[39m(\u001b[38;5;28mself\u001b[39m, instance, schema, path\u001b[38;5;241m=\u001b[39m\u001b[38;5;28;01mNone\u001b[39;00m, schema_path\u001b[38;5;241m=\u001b[39m\u001b[38;5;28;01mNone\u001b[39;00m):\n\u001b[0;32m--> 260\u001b[0m     \u001b[38;5;28;01mfor\u001b[39;00m error \u001b[38;5;129;01min\u001b[39;00m \u001b[38;5;28mself\u001b[39m\u001b[38;5;241m.\u001b[39mevolve(schema\u001b[38;5;241m=\u001b[39mschema)\u001b[38;5;241m.\u001b[39miter_errors(instance):\n\u001b[1;32m    261\u001b[0m         \u001b[38;5;28;01mif\u001b[39;00m path \u001b[38;5;129;01mis\u001b[39;00m \u001b[38;5;129;01mnot\u001b[39;00m \u001b[38;5;28;01mNone\u001b[39;00m:\n\u001b[1;32m    262\u001b[0m             error\u001b[38;5;241m.\u001b[39mpath\u001b[38;5;241m.\u001b[39mappendleft(path)\n",
      "File \u001b[0;32m~/.local/lib/python3.10/site-packages/jsonschema/validators.py:243\u001b[0m, in \u001b[0;36mcreate.<locals>.Validator.iter_errors\u001b[0;34m(self, instance, _schema)\u001b[0m\n\u001b[1;32m    240\u001b[0m     \u001b[38;5;28;01mcontinue\u001b[39;00m\n\u001b[1;32m    242\u001b[0m errors \u001b[38;5;241m=\u001b[39m validator(\u001b[38;5;28mself\u001b[39m, v, instance, _schema) \u001b[38;5;129;01mor\u001b[39;00m ()\n\u001b[0;32m--> 243\u001b[0m \u001b[38;5;28;01mfor\u001b[39;00m error \u001b[38;5;129;01min\u001b[39;00m errors:\n\u001b[1;32m    244\u001b[0m     \u001b[38;5;66;03m# set details if not already set by the called fn\u001b[39;00m\n\u001b[1;32m    245\u001b[0m     error\u001b[38;5;241m.\u001b[39m_set(\n\u001b[1;32m    246\u001b[0m         validator\u001b[38;5;241m=\u001b[39mk,\n\u001b[1;32m    247\u001b[0m         validator_value\u001b[38;5;241m=\u001b[39mv,\n\u001b[0;32m   (...)\u001b[0m\n\u001b[1;32m    250\u001b[0m         type_checker\u001b[38;5;241m=\u001b[39m\u001b[38;5;28mself\u001b[39m\u001b[38;5;241m.\u001b[39mTYPE_CHECKER,\n\u001b[1;32m    251\u001b[0m     )\n\u001b[1;32m    252\u001b[0m     \u001b[38;5;28;01mif\u001b[39;00m k \u001b[38;5;129;01mnot\u001b[39;00m \u001b[38;5;129;01min\u001b[39;00m {\u001b[38;5;124m\"\u001b[39m\u001b[38;5;124mif\u001b[39m\u001b[38;5;124m\"\u001b[39m, \u001b[38;5;124m\"\u001b[39m\u001b[38;5;124m$ref\u001b[39m\u001b[38;5;124m\"\u001b[39m}:\n",
      "File \u001b[0;32m~/.local/lib/python3.10/site-packages/jsonschema/_validators.py:298\u001b[0m, in \u001b[0;36mref\u001b[0;34m(validator, ref, instance, schema)\u001b[0m\n\u001b[1;32m    295\u001b[0m validator\u001b[38;5;241m.\u001b[39mresolver\u001b[38;5;241m.\u001b[39mpush_scope(scope)\n\u001b[1;32m    297\u001b[0m \u001b[38;5;28;01mtry\u001b[39;00m:\n\u001b[0;32m--> 298\u001b[0m     \u001b[38;5;28;01myield from\u001b[39;00m validator\u001b[38;5;241m.\u001b[39mdescend(instance, resolved)\n\u001b[1;32m    299\u001b[0m \u001b[38;5;28;01mfinally\u001b[39;00m:\n\u001b[1;32m    300\u001b[0m     validator\u001b[38;5;241m.\u001b[39mresolver\u001b[38;5;241m.\u001b[39mpop_scope()\n",
      "File \u001b[0;32m~/.local/lib/python3.10/site-packages/jsonschema/validators.py:260\u001b[0m, in \u001b[0;36mcreate.<locals>.Validator.descend\u001b[0;34m(self, instance, schema, path, schema_path)\u001b[0m\n\u001b[1;32m    259\u001b[0m \u001b[38;5;28;01mdef\u001b[39;00m \u001b[38;5;21mdescend\u001b[39m(\u001b[38;5;28mself\u001b[39m, instance, schema, path\u001b[38;5;241m=\u001b[39m\u001b[38;5;28;01mNone\u001b[39;00m, schema_path\u001b[38;5;241m=\u001b[39m\u001b[38;5;28;01mNone\u001b[39;00m):\n\u001b[0;32m--> 260\u001b[0m     \u001b[38;5;28;01mfor\u001b[39;00m error \u001b[38;5;129;01min\u001b[39;00m \u001b[38;5;28mself\u001b[39m\u001b[38;5;241m.\u001b[39mevolve(schema\u001b[38;5;241m=\u001b[39mschema)\u001b[38;5;241m.\u001b[39miter_errors(instance):\n\u001b[1;32m    261\u001b[0m         \u001b[38;5;28;01mif\u001b[39;00m path \u001b[38;5;129;01mis\u001b[39;00m \u001b[38;5;129;01mnot\u001b[39;00m \u001b[38;5;28;01mNone\u001b[39;00m:\n\u001b[1;32m    262\u001b[0m             error\u001b[38;5;241m.\u001b[39mpath\u001b[38;5;241m.\u001b[39mappendleft(path)\n",
      "File \u001b[0;32m~/.local/lib/python3.10/site-packages/jsonschema/validators.py:243\u001b[0m, in \u001b[0;36mcreate.<locals>.Validator.iter_errors\u001b[0;34m(self, instance, _schema)\u001b[0m\n\u001b[1;32m    240\u001b[0m     \u001b[38;5;28;01mcontinue\u001b[39;00m\n\u001b[1;32m    242\u001b[0m errors \u001b[38;5;241m=\u001b[39m validator(\u001b[38;5;28mself\u001b[39m, v, instance, _schema) \u001b[38;5;129;01mor\u001b[39;00m ()\n\u001b[0;32m--> 243\u001b[0m \u001b[38;5;28;01mfor\u001b[39;00m error \u001b[38;5;129;01min\u001b[39;00m errors:\n\u001b[1;32m    244\u001b[0m     \u001b[38;5;66;03m# set details if not already set by the called fn\u001b[39;00m\n\u001b[1;32m    245\u001b[0m     error\u001b[38;5;241m.\u001b[39m_set(\n\u001b[1;32m    246\u001b[0m         validator\u001b[38;5;241m=\u001b[39mk,\n\u001b[1;32m    247\u001b[0m         validator_value\u001b[38;5;241m=\u001b[39mv,\n\u001b[0;32m   (...)\u001b[0m\n\u001b[1;32m    250\u001b[0m         type_checker\u001b[38;5;241m=\u001b[39m\u001b[38;5;28mself\u001b[39m\u001b[38;5;241m.\u001b[39mTYPE_CHECKER,\n\u001b[1;32m    251\u001b[0m     )\n\u001b[1;32m    252\u001b[0m     \u001b[38;5;28;01mif\u001b[39;00m k \u001b[38;5;129;01mnot\u001b[39;00m \u001b[38;5;129;01min\u001b[39;00m {\u001b[38;5;124m\"\u001b[39m\u001b[38;5;124mif\u001b[39m\u001b[38;5;124m\"\u001b[39m, \u001b[38;5;124m\"\u001b[39m\u001b[38;5;124m$ref\u001b[39m\u001b[38;5;124m\"\u001b[39m}:\n",
      "File \u001b[0;32m~/.local/lib/python3.10/site-packages/jsonschema/_validators.py:368\u001b[0m, in \u001b[0;36manyOf\u001b[0;34m(validator, anyOf, instance, schema)\u001b[0m\n\u001b[1;32m    366\u001b[0m all_errors \u001b[38;5;241m=\u001b[39m []\n\u001b[1;32m    367\u001b[0m \u001b[38;5;28;01mfor\u001b[39;00m index, subschema \u001b[38;5;129;01min\u001b[39;00m \u001b[38;5;28menumerate\u001b[39m(anyOf):\n\u001b[0;32m--> 368\u001b[0m     errs \u001b[38;5;241m=\u001b[39m \u001b[38;5;28;43mlist\u001b[39;49m\u001b[43m(\u001b[49m\u001b[43mvalidator\u001b[49m\u001b[38;5;241;43m.\u001b[39;49m\u001b[43mdescend\u001b[49m\u001b[43m(\u001b[49m\u001b[43minstance\u001b[49m\u001b[43m,\u001b[49m\u001b[43m \u001b[49m\u001b[43msubschema\u001b[49m\u001b[43m,\u001b[49m\u001b[43m \u001b[49m\u001b[43mschema_path\u001b[49m\u001b[38;5;241;43m=\u001b[39;49m\u001b[43mindex\u001b[49m\u001b[43m)\u001b[49m\u001b[43m)\u001b[49m\n\u001b[1;32m    369\u001b[0m     \u001b[38;5;28;01mif\u001b[39;00m \u001b[38;5;129;01mnot\u001b[39;00m errs:\n\u001b[1;32m    370\u001b[0m         \u001b[38;5;28;01mbreak\u001b[39;00m\n",
      "File \u001b[0;32m~/.local/lib/python3.10/site-packages/jsonschema/validators.py:260\u001b[0m, in \u001b[0;36mcreate.<locals>.Validator.descend\u001b[0;34m(self, instance, schema, path, schema_path)\u001b[0m\n\u001b[1;32m    259\u001b[0m \u001b[38;5;28;01mdef\u001b[39;00m \u001b[38;5;21mdescend\u001b[39m(\u001b[38;5;28mself\u001b[39m, instance, schema, path\u001b[38;5;241m=\u001b[39m\u001b[38;5;28;01mNone\u001b[39;00m, schema_path\u001b[38;5;241m=\u001b[39m\u001b[38;5;28;01mNone\u001b[39;00m):\n\u001b[0;32m--> 260\u001b[0m     \u001b[38;5;28;01mfor\u001b[39;00m error \u001b[38;5;129;01min\u001b[39;00m \u001b[38;5;28mself\u001b[39m\u001b[38;5;241m.\u001b[39mevolve(schema\u001b[38;5;241m=\u001b[39mschema)\u001b[38;5;241m.\u001b[39miter_errors(instance):\n\u001b[1;32m    261\u001b[0m         \u001b[38;5;28;01mif\u001b[39;00m path \u001b[38;5;129;01mis\u001b[39;00m \u001b[38;5;129;01mnot\u001b[39;00m \u001b[38;5;28;01mNone\u001b[39;00m:\n\u001b[1;32m    262\u001b[0m             error\u001b[38;5;241m.\u001b[39mpath\u001b[38;5;241m.\u001b[39mappendleft(path)\n",
      "File \u001b[0;32m~/.local/lib/python3.10/site-packages/jsonschema/validators.py:243\u001b[0m, in \u001b[0;36mcreate.<locals>.Validator.iter_errors\u001b[0;34m(self, instance, _schema)\u001b[0m\n\u001b[1;32m    240\u001b[0m     \u001b[38;5;28;01mcontinue\u001b[39;00m\n\u001b[1;32m    242\u001b[0m errors \u001b[38;5;241m=\u001b[39m validator(\u001b[38;5;28mself\u001b[39m, v, instance, _schema) \u001b[38;5;129;01mor\u001b[39;00m ()\n\u001b[0;32m--> 243\u001b[0m \u001b[38;5;28;01mfor\u001b[39;00m error \u001b[38;5;129;01min\u001b[39;00m errors:\n\u001b[1;32m    244\u001b[0m     \u001b[38;5;66;03m# set details if not already set by the called fn\u001b[39;00m\n\u001b[1;32m    245\u001b[0m     error\u001b[38;5;241m.\u001b[39m_set(\n\u001b[1;32m    246\u001b[0m         validator\u001b[38;5;241m=\u001b[39mk,\n\u001b[1;32m    247\u001b[0m         validator_value\u001b[38;5;241m=\u001b[39mv,\n\u001b[0;32m   (...)\u001b[0m\n\u001b[1;32m    250\u001b[0m         type_checker\u001b[38;5;241m=\u001b[39m\u001b[38;5;28mself\u001b[39m\u001b[38;5;241m.\u001b[39mTYPE_CHECKER,\n\u001b[1;32m    251\u001b[0m     )\n\u001b[1;32m    252\u001b[0m     \u001b[38;5;28;01mif\u001b[39;00m k \u001b[38;5;129;01mnot\u001b[39;00m \u001b[38;5;129;01min\u001b[39;00m {\u001b[38;5;124m\"\u001b[39m\u001b[38;5;124mif\u001b[39m\u001b[38;5;124m\"\u001b[39m, \u001b[38;5;124m\"\u001b[39m\u001b[38;5;124m$ref\u001b[39m\u001b[38;5;124m\"\u001b[39m}:\n",
      "File \u001b[0;32m~/.local/lib/python3.10/site-packages/jsonschema/_validators.py:298\u001b[0m, in \u001b[0;36mref\u001b[0;34m(validator, ref, instance, schema)\u001b[0m\n\u001b[1;32m    295\u001b[0m validator\u001b[38;5;241m.\u001b[39mresolver\u001b[38;5;241m.\u001b[39mpush_scope(scope)\n\u001b[1;32m    297\u001b[0m \u001b[38;5;28;01mtry\u001b[39;00m:\n\u001b[0;32m--> 298\u001b[0m     \u001b[38;5;28;01myield from\u001b[39;00m validator\u001b[38;5;241m.\u001b[39mdescend(instance, resolved)\n\u001b[1;32m    299\u001b[0m \u001b[38;5;28;01mfinally\u001b[39;00m:\n\u001b[1;32m    300\u001b[0m     validator\u001b[38;5;241m.\u001b[39mresolver\u001b[38;5;241m.\u001b[39mpop_scope()\n",
      "File \u001b[0;32m~/.local/lib/python3.10/site-packages/jsonschema/validators.py:260\u001b[0m, in \u001b[0;36mcreate.<locals>.Validator.descend\u001b[0;34m(self, instance, schema, path, schema_path)\u001b[0m\n\u001b[1;32m    259\u001b[0m \u001b[38;5;28;01mdef\u001b[39;00m \u001b[38;5;21mdescend\u001b[39m(\u001b[38;5;28mself\u001b[39m, instance, schema, path\u001b[38;5;241m=\u001b[39m\u001b[38;5;28;01mNone\u001b[39;00m, schema_path\u001b[38;5;241m=\u001b[39m\u001b[38;5;28;01mNone\u001b[39;00m):\n\u001b[0;32m--> 260\u001b[0m     \u001b[38;5;28;01mfor\u001b[39;00m error \u001b[38;5;129;01min\u001b[39;00m \u001b[38;5;28mself\u001b[39m\u001b[38;5;241m.\u001b[39mevolve(schema\u001b[38;5;241m=\u001b[39mschema)\u001b[38;5;241m.\u001b[39miter_errors(instance):\n\u001b[1;32m    261\u001b[0m         \u001b[38;5;28;01mif\u001b[39;00m path \u001b[38;5;129;01mis\u001b[39;00m \u001b[38;5;129;01mnot\u001b[39;00m \u001b[38;5;28;01mNone\u001b[39;00m:\n\u001b[1;32m    262\u001b[0m             error\u001b[38;5;241m.\u001b[39mpath\u001b[38;5;241m.\u001b[39mappendleft(path)\n",
      "File \u001b[0;32m~/.local/lib/python3.10/site-packages/jsonschema/validators.py:243\u001b[0m, in \u001b[0;36mcreate.<locals>.Validator.iter_errors\u001b[0;34m(self, instance, _schema)\u001b[0m\n\u001b[1;32m    240\u001b[0m     \u001b[38;5;28;01mcontinue\u001b[39;00m\n\u001b[1;32m    242\u001b[0m errors \u001b[38;5;241m=\u001b[39m validator(\u001b[38;5;28mself\u001b[39m, v, instance, _schema) \u001b[38;5;129;01mor\u001b[39;00m ()\n\u001b[0;32m--> 243\u001b[0m \u001b[38;5;28;01mfor\u001b[39;00m error \u001b[38;5;129;01min\u001b[39;00m errors:\n\u001b[1;32m    244\u001b[0m     \u001b[38;5;66;03m# set details if not already set by the called fn\u001b[39;00m\n\u001b[1;32m    245\u001b[0m     error\u001b[38;5;241m.\u001b[39m_set(\n\u001b[1;32m    246\u001b[0m         validator\u001b[38;5;241m=\u001b[39mk,\n\u001b[1;32m    247\u001b[0m         validator_value\u001b[38;5;241m=\u001b[39mv,\n\u001b[0;32m   (...)\u001b[0m\n\u001b[1;32m    250\u001b[0m         type_checker\u001b[38;5;241m=\u001b[39m\u001b[38;5;28mself\u001b[39m\u001b[38;5;241m.\u001b[39mTYPE_CHECKER,\n\u001b[1;32m    251\u001b[0m     )\n\u001b[1;32m    252\u001b[0m     \u001b[38;5;28;01mif\u001b[39;00m k \u001b[38;5;129;01mnot\u001b[39;00m \u001b[38;5;129;01min\u001b[39;00m {\u001b[38;5;124m\"\u001b[39m\u001b[38;5;124mif\u001b[39m\u001b[38;5;124m\"\u001b[39m, \u001b[38;5;124m\"\u001b[39m\u001b[38;5;124m$ref\u001b[39m\u001b[38;5;124m\"\u001b[39m}:\n",
      "File \u001b[0;32m~/.local/lib/python3.10/site-packages/jsonschema/_validators.py:332\u001b[0m, in \u001b[0;36mproperties\u001b[0;34m(validator, properties, instance, schema)\u001b[0m\n\u001b[1;32m    330\u001b[0m \u001b[38;5;28;01mfor\u001b[39;00m \u001b[38;5;28mproperty\u001b[39m, subschema \u001b[38;5;129;01min\u001b[39;00m properties\u001b[38;5;241m.\u001b[39mitems():\n\u001b[1;32m    331\u001b[0m     \u001b[38;5;28;01mif\u001b[39;00m \u001b[38;5;28mproperty\u001b[39m \u001b[38;5;129;01min\u001b[39;00m instance:\n\u001b[0;32m--> 332\u001b[0m         \u001b[38;5;28;01myield from\u001b[39;00m validator\u001b[38;5;241m.\u001b[39mdescend(\n\u001b[1;32m    333\u001b[0m             instance[\u001b[38;5;28mproperty\u001b[39m],\n\u001b[1;32m    334\u001b[0m             subschema,\n\u001b[1;32m    335\u001b[0m             path\u001b[38;5;241m=\u001b[39m\u001b[38;5;28mproperty\u001b[39m,\n\u001b[1;32m    336\u001b[0m             schema_path\u001b[38;5;241m=\u001b[39m\u001b[38;5;28mproperty\u001b[39m,\n\u001b[1;32m    337\u001b[0m         )\n",
      "File \u001b[0;32m~/.local/lib/python3.10/site-packages/jsonschema/validators.py:260\u001b[0m, in \u001b[0;36mcreate.<locals>.Validator.descend\u001b[0;34m(self, instance, schema, path, schema_path)\u001b[0m\n\u001b[1;32m    259\u001b[0m \u001b[38;5;28;01mdef\u001b[39;00m \u001b[38;5;21mdescend\u001b[39m(\u001b[38;5;28mself\u001b[39m, instance, schema, path\u001b[38;5;241m=\u001b[39m\u001b[38;5;28;01mNone\u001b[39;00m, schema_path\u001b[38;5;241m=\u001b[39m\u001b[38;5;28;01mNone\u001b[39;00m):\n\u001b[0;32m--> 260\u001b[0m     \u001b[38;5;28;01mfor\u001b[39;00m error \u001b[38;5;129;01min\u001b[39;00m \u001b[38;5;28mself\u001b[39m\u001b[38;5;241m.\u001b[39mevolve(schema\u001b[38;5;241m=\u001b[39mschema)\u001b[38;5;241m.\u001b[39miter_errors(instance):\n\u001b[1;32m    261\u001b[0m         \u001b[38;5;28;01mif\u001b[39;00m path \u001b[38;5;129;01mis\u001b[39;00m \u001b[38;5;129;01mnot\u001b[39;00m \u001b[38;5;28;01mNone\u001b[39;00m:\n\u001b[1;32m    262\u001b[0m             error\u001b[38;5;241m.\u001b[39mpath\u001b[38;5;241m.\u001b[39mappendleft(path)\n",
      "File \u001b[0;32m~/.local/lib/python3.10/site-packages/jsonschema/validators.py:243\u001b[0m, in \u001b[0;36mcreate.<locals>.Validator.iter_errors\u001b[0;34m(self, instance, _schema)\u001b[0m\n\u001b[1;32m    240\u001b[0m     \u001b[38;5;28;01mcontinue\u001b[39;00m\n\u001b[1;32m    242\u001b[0m errors \u001b[38;5;241m=\u001b[39m validator(\u001b[38;5;28mself\u001b[39m, v, instance, _schema) \u001b[38;5;129;01mor\u001b[39;00m ()\n\u001b[0;32m--> 243\u001b[0m \u001b[38;5;28;01mfor\u001b[39;00m error \u001b[38;5;129;01min\u001b[39;00m errors:\n\u001b[1;32m    244\u001b[0m     \u001b[38;5;66;03m# set details if not already set by the called fn\u001b[39;00m\n\u001b[1;32m    245\u001b[0m     error\u001b[38;5;241m.\u001b[39m_set(\n\u001b[1;32m    246\u001b[0m         validator\u001b[38;5;241m=\u001b[39mk,\n\u001b[1;32m    247\u001b[0m         validator_value\u001b[38;5;241m=\u001b[39mv,\n\u001b[0;32m   (...)\u001b[0m\n\u001b[1;32m    250\u001b[0m         type_checker\u001b[38;5;241m=\u001b[39m\u001b[38;5;28mself\u001b[39m\u001b[38;5;241m.\u001b[39mTYPE_CHECKER,\n\u001b[1;32m    251\u001b[0m     )\n\u001b[1;32m    252\u001b[0m     \u001b[38;5;28;01mif\u001b[39;00m k \u001b[38;5;129;01mnot\u001b[39;00m \u001b[38;5;129;01min\u001b[39;00m {\u001b[38;5;124m\"\u001b[39m\u001b[38;5;124mif\u001b[39m\u001b[38;5;124m\"\u001b[39m, \u001b[38;5;124m\"\u001b[39m\u001b[38;5;124m$ref\u001b[39m\u001b[38;5;124m\"\u001b[39m}:\n",
      "File \u001b[0;32m~/.local/lib/python3.10/site-packages/jsonschema/_validators.py:76\u001b[0m, in \u001b[0;36mitems\u001b[0;34m(validator, items, instance, schema)\u001b[0m\n\u001b[1;32m     74\u001b[0m \u001b[38;5;28;01melse\u001b[39;00m:\n\u001b[1;32m     75\u001b[0m     \u001b[38;5;28;01mfor\u001b[39;00m index \u001b[38;5;129;01min\u001b[39;00m \u001b[38;5;28mrange\u001b[39m(prefix, total):\n\u001b[0;32m---> 76\u001b[0m         \u001b[38;5;28;01myield from\u001b[39;00m validator\u001b[38;5;241m.\u001b[39mdescend(\n\u001b[1;32m     77\u001b[0m             instance\u001b[38;5;241m=\u001b[39minstance[index],\n\u001b[1;32m     78\u001b[0m             schema\u001b[38;5;241m=\u001b[39mitems,\n\u001b[1;32m     79\u001b[0m             path\u001b[38;5;241m=\u001b[39mindex,\n\u001b[1;32m     80\u001b[0m         )\n",
      "File \u001b[0;32m~/.local/lib/python3.10/site-packages/jsonschema/validators.py:260\u001b[0m, in \u001b[0;36mcreate.<locals>.Validator.descend\u001b[0;34m(self, instance, schema, path, schema_path)\u001b[0m\n\u001b[1;32m    259\u001b[0m \u001b[38;5;28;01mdef\u001b[39;00m \u001b[38;5;21mdescend\u001b[39m(\u001b[38;5;28mself\u001b[39m, instance, schema, path\u001b[38;5;241m=\u001b[39m\u001b[38;5;28;01mNone\u001b[39;00m, schema_path\u001b[38;5;241m=\u001b[39m\u001b[38;5;28;01mNone\u001b[39;00m):\n\u001b[0;32m--> 260\u001b[0m     \u001b[38;5;28;01mfor\u001b[39;00m error \u001b[38;5;129;01min\u001b[39;00m \u001b[38;5;28mself\u001b[39m\u001b[38;5;241m.\u001b[39mevolve(schema\u001b[38;5;241m=\u001b[39mschema)\u001b[38;5;241m.\u001b[39miter_errors(instance):\n\u001b[1;32m    261\u001b[0m         \u001b[38;5;28;01mif\u001b[39;00m path \u001b[38;5;129;01mis\u001b[39;00m \u001b[38;5;129;01mnot\u001b[39;00m \u001b[38;5;28;01mNone\u001b[39;00m:\n\u001b[1;32m    262\u001b[0m             error\u001b[38;5;241m.\u001b[39mpath\u001b[38;5;241m.\u001b[39mappendleft(path)\n",
      "File \u001b[0;32m~/.local/lib/python3.10/site-packages/jsonschema/validators.py:233\u001b[0m, in \u001b[0;36mcreate.<locals>.Validator.iter_errors\u001b[0;34m(self, instance, _schema)\u001b[0m\n\u001b[1;32m    224\u001b[0m     \u001b[38;5;28;01myield\u001b[39;00m exceptions\u001b[38;5;241m.\u001b[39mValidationError(\n\u001b[1;32m    225\u001b[0m         \u001b[38;5;124mf\u001b[39m\u001b[38;5;124m\"\u001b[39m\u001b[38;5;124mFalse schema does not allow \u001b[39m\u001b[38;5;132;01m{\u001b[39;00minstance\u001b[38;5;132;01m!r}\u001b[39;00m\u001b[38;5;124m\"\u001b[39m,\n\u001b[1;32m    226\u001b[0m         validator\u001b[38;5;241m=\u001b[39m\u001b[38;5;28;01mNone\u001b[39;00m,\n\u001b[0;32m   (...)\u001b[0m\n\u001b[1;32m    229\u001b[0m         schema\u001b[38;5;241m=\u001b[39m_schema,\n\u001b[1;32m    230\u001b[0m     )\n\u001b[1;32m    231\u001b[0m     \u001b[38;5;28;01mreturn\u001b[39;00m\n\u001b[0;32m--> 233\u001b[0m scope \u001b[38;5;241m=\u001b[39m \u001b[43mid_of\u001b[49m\u001b[43m(\u001b[49m\u001b[43m_schema\u001b[49m\u001b[43m)\u001b[49m\n\u001b[1;32m    234\u001b[0m \u001b[38;5;28;01mif\u001b[39;00m scope:\n\u001b[1;32m    235\u001b[0m     \u001b[38;5;28mself\u001b[39m\u001b[38;5;241m.\u001b[39mresolver\u001b[38;5;241m.\u001b[39mpush_scope(scope)\n",
      "File \u001b[0;32m~/.local/lib/python3.10/site-packages/jsonschema/validators.py:98\u001b[0m, in \u001b[0;36m_id_of\u001b[0;34m(schema)\u001b[0m\n\u001b[1;32m     96\u001b[0m \u001b[38;5;28;01mif\u001b[39;00m schema \u001b[38;5;129;01mis\u001b[39;00m \u001b[38;5;28;01mTrue\u001b[39;00m \u001b[38;5;129;01mor\u001b[39;00m schema \u001b[38;5;129;01mis\u001b[39;00m \u001b[38;5;28;01mFalse\u001b[39;00m:\n\u001b[1;32m     97\u001b[0m     \u001b[38;5;28;01mreturn\u001b[39;00m \u001b[38;5;124m\"\u001b[39m\u001b[38;5;124m\"\u001b[39m\n\u001b[0;32m---> 98\u001b[0m \u001b[38;5;28;01mreturn\u001b[39;00m \u001b[43mschema\u001b[49m\u001b[38;5;241;43m.\u001b[39;49m\u001b[43mget\u001b[49m(\u001b[38;5;124m\"\u001b[39m\u001b[38;5;124m$id\u001b[39m\u001b[38;5;124m\"\u001b[39m, \u001b[38;5;124m\"\u001b[39m\u001b[38;5;124m\"\u001b[39m)\n",
      "\u001b[0;31mAttributeError\u001b[0m: 'list' object has no attribute 'get'"
     ]
    }
   ],
   "source": [
    "json_obj = c.to_json()\n",
    "# print(json_obj)\n",
    "c.from_json(json_obj)"
   ]
  },
  {
   "cell_type": "code",
   "execution_count": null,
   "id": "6187a6c3",
   "metadata": {},
   "outputs": [],
   "source": []
  }
 ],
 "metadata": {
  "kernelspec": {
   "display_name": "Python 3 (ipykernel)",
   "language": "python",
   "name": "python3"
  },
  "language_info": {
   "codemirror_mode": {
    "name": "ipython",
    "version": 3
   },
   "file_extension": ".py",
   "mimetype": "text/x-python",
   "name": "python",
   "nbconvert_exporter": "python",
   "pygments_lexer": "ipython3",
   "version": "3.10.5"
  },
  "vscode": {
   "interpreter": {
    "hash": "65a1606879e7cc55db7359bc7bbaab6708e6dced52e1818b18aa46c0dd2503e5"
   }
  }
 },
 "nbformat": 4,
 "nbformat_minor": 5
}
