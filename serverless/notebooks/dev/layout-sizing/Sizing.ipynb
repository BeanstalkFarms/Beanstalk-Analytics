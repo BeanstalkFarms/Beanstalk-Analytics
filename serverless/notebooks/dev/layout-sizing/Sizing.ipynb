{
 "cells": [
  {
   "cell_type": "code",
   "execution_count": 1,
   "id": "53241045-fdb8-4722-bde9-f497729deb85",
   "metadata": {},
   "outputs": [],
   "source": [
    "import os \n",
    "import sys \n",
    "import logging \n",
    "import json \n",
    "\n",
    "logging.basicConfig(level=logging.INFO)\n",
    "\n",
    "cur_path = os.path.abspath(\"../../..\")\n",
    "if cur_path not in sys.path: \n",
    "    sys.path.append(cur_path)\n",
    "\n",
    "import numpy as np \n",
    "import pandas as pd \n",
    "import altair as alt \n",
    "from altair import datum\n",
    "\n",
    "os.environ['SUBGRAPH_URL'] = 'https://graph.node.bean.money/subgraphs/name/beanstalk-dev'\n",
    "\n",
    "from utils_notebook.utils import remove_prefix, ddf\n",
    "from utils_notebook.vega import output_chart"
   ]
  },
  {
   "cell_type": "code",
   "execution_count": 2,
   "id": "7f352938-4209-45fe-8be1-3d3bed8835c2",
   "metadata": {},
   "outputs": [],
   "source": [
    "from deepdiff import grep\n",
    "\n",
    "from pathlib import Path \n",
    "\n",
    "paths = {p for p in Path(\"schemas\").iterdir()}\n",
    "schemas = {}\n",
    "for p in paths: \n",
    "    with p.open(\"r\") as f: \n",
    "        schemas[p.stem] = json.loads(f.read())"
   ]
  },
  {
   "cell_type": "code",
   "execution_count": 15,
   "id": "b3b7ffd5-753b-4ebe-8cbc-03d9e5c60756",
   "metadata": {},
   "outputs": [],
   "source": [
    "# Postprocessing pipeline to run on all production schemas to ensure they adhere to our constraints \n",
    "\n",
    "# 1. Disallow faceting \n",
    "# ---------------------------------------------------------------------\n",
    "\n",
    "# 1.1. Disallow facet operator \n",
    "# https://vega.github.io/vega-lite/docs/facet.html#facet-operator\n",
    "\"\"\"\n",
    "Disallow all objects of the form \n",
    "{\n",
    "  \"facet\": any,\n",
    "  \"spec\": any \n",
    "}\n",
    "\"\"\"\n",
    "def has_facet_operator(spec): \n",
    "    if isinstance(spec, dict): \n",
    "        if \"spec\" in spec and \"facet\" in spec: \n",
    "            return True \n",
    "        return any(has_facet_operator(v) for v in spec.values()) \n",
    "    return False \n",
    "   \n",
    "facet_op_spec = {\n",
    "  \"data\": {\"url\": \"data/cars.json\"},\n",
    "  \"facet\": {\"row\": {\"field\": \"Origin\"}},\n",
    "  \"spec\": {\n",
    "    \"mark\": \"bar\",\n",
    "    \"encoding\": {\n",
    "      \"x\": {\n",
    "        \"bin\": {\"maxbins\": 15},\n",
    "        \"field\": \"Horsepower\",\n",
    "        \"type\": \"quantitative\"\n",
    "      },\n",
    "      \"y\": {\"aggregate\": \"count\", \"type\": \"quantitative\"}\n",
    "    }\n",
    "  }\n",
    "}\n",
    "\n",
    "assert has_facet_operator(facet_op_spec)\n",
    "\n",
    "# 1.2. Disallow facet encoding channels \n",
    "# https://vega.github.io/vega-lite/docs/facet.html#facet-row-and-column-encoding-channels\n",
    "\"\"\"\n",
    "Disallow all objects of the form \n",
    "{\n",
    "  \"encoding\": {\n",
    "    // contains key \"row\" OR \"col\" OR \"facet\" \n",
    "  }\n",
    "}\n",
    "\"\"\"\n",
    "def has_facet_encoding(spec): \n",
    "    if isinstance(spec, dict): \n",
    "        for k, v in spec.items(): \n",
    "            if k == \"encoding\" and isinstance(v, dict):\n",
    "                if {\"row\", \"column\", \"facet\"}.intersection(set(v.keys())):\n",
    "                    return True \n",
    "        return any(has_facet_encoding(v) for v in spec.values())                       \n",
    "    return False \n",
    "   \n",
    "facet_encoding_spec = {\n",
    "  \"name\": \"trellis_barley\",\n",
    "  \"data\": {\"url\": \"data/barley.json\"},\n",
    "  \"mark\": \"point\",\n",
    "  \"height\": {\"step\": 12},\n",
    "  \"encoding\": {\n",
    "    \"facet\": {\n",
    "      \"field\": \"site\",\n",
    "      \"type\": \"ordinal\",\n",
    "      \"columns\": 2,\n",
    "      \"sort\": {\"op\": \"median\", \"field\": \"yield\"}\n",
    "    },\n",
    "    \"x\": {\n",
    "      \"aggregate\": \"median\",\n",
    "      \"field\": \"yield\",\n",
    "      \"type\": \"quantitative\",\n",
    "      \"scale\": {\"zero\": False}\n",
    "    },\n",
    "    \"y\": {\n",
    "      \"field\": \"variety\",\n",
    "      \"type\": \"ordinal\",\n",
    "      \"sort\": \"-x\"\n",
    "    },\n",
    "    \"color\": {\"field\": \"year\", \"type\": \"nominal\"}\n",
    "  }\n",
    "}\n",
    "\n",
    "assert has_facet_encoding(facet_encoding_spec)\n",
    "\n",
    "# 2. Disallow repeat  \n",
    "# ---------------------------------------------------------------------\n",
    "\n",
    "# 2.1. Disallow repeat operator \n",
    "# https://vega.github.io/vega-lite/docs/repeat.html#repeat-mapping\n",
    "\"\"\"\n",
    "Disallow all objects of the form \n",
    "{\n",
    "  \"repeat\": any,\n",
    "  \"spec\": any \n",
    "}\n",
    "\"\"\"\n",
    "def has_repeat_operator(spec): \n",
    "    if isinstance(spec, dict): \n",
    "        if \"spec\" in spec and \"repeat\" in spec: \n",
    "            return True \n",
    "        return any(has_repeat_operator(v) for v in spec.values()) \n",
    "    return False \n",
    "\n",
    "repeat_spec = {\n",
    "  \"data\": {\n",
    "    \"url\": \"data/weather.csv\"\n",
    "  },\n",
    "  \"repeat\": [\n",
    "    \"temp_max\",\n",
    "    \"precipitation\",\n",
    "    \"wind\"\n",
    "  ],\n",
    "  \"spec\": {\n",
    "    \"mark\": \"line\",\n",
    "    \"encoding\": {\n",
    "      \"x\": {\"field\": \"date\", \"timeUnit\": \"month\"},\n",
    "      \"y\": {\n",
    "        \"field\": {\"repeat\": \"repeat\"},\n",
    "        \"aggregate\": \"mean\"\n",
    "      },\n",
    "      \"color\": {\"field\": \"location\"}\n",
    "    }\n",
    "  }\n",
    "}\n",
    "\n",
    "assert has_repeat_operator(repeat_spec)"
   ]
  },
  {
   "cell_type": "code",
   "execution_count": 37,
   "id": "7895549f-a361-4d38-ae8f-93c73531bc5b",
   "metadata": {},
   "outputs": [
    {
     "name": "stdout",
     "output_type": "stream",
     "text": [
      "fieldoverview / concat False / simple_layer True\n",
      "    root['schema']['config']['view']['continuousWidth']\n",
      "    root['schema']['layer'][0]['width']\n",
      "    root['schema']['layer'][1]['width']\n",
      "fertilizerbreakdown / concat True\n",
      "    root['schema']['config']['view']['continuousWidth']\n",
      "farmersmarkethistory / concat True\n",
      "    root['schema']['config']['view']['continuousWidth']\n",
      "    root['schema']['vconcat'][0]['width']\n",
      "    root['schema']['vconcat'][1]['layer'][0]['width']\n",
      "    root['schema']['vconcat'][1]['layer'][1]['width']\n",
      "    root['schema']['vconcat'][1]['layer'][2]['width']\n",
      "    root['schema']['vconcat'][1]['layer'][3]['width']\n",
      "    root['schema']['vconcat'][2]['width']\n",
      "beanstalkcreditworthiness / concat True\n",
      "    root['schema']['config']['view']['continuousWidth']\n",
      "    root['schema']['vconcat'][0]['layer'][0]['width']\n",
      "    root['schema']['vconcat'][0]['layer'][1]['width']\n",
      "    root['schema']['vconcat'][0]['layer'][2]['width']\n",
      "    root['schema']['vconcat'][0]['layer'][3]['width']\n",
      "    root['schema']['vconcat'][1]['width']\n",
      "    root['schema']['vconcat'][2]['width']\n",
      "silo / concat False / simple_layer False\n",
      "    root['schema']['config']['view']['continuousWidth']\n"
     ]
    }
   ],
   "source": [
    "def validate_schema(schema):\n",
    "    assert not has_facet_operator(schema)\n",
    "    assert not has_facet_encoding(schema)\n",
    "    assert not has_repeat_operator(schema)\n",
    "    \n",
    "for sn, schema in schemas.items(): \n",
    "    validate_schema(schema)\n",
    "    is_concat = \"hconcat\" in schema['schema'] or \"vconcat\" in schema['schema']\n",
    "    if not is_concat: \n",
    "        # is simple chart. Either single plot or layer plot. \n",
    "        is_simple_layer = \"layer\" in schema['schema']\n",
    "        if is_simple_layer: \n",
    "            # Is a layer chart \n",
    "            \n",
    "            pass \n",
    "        else: \n",
    "            # Is single chart \n",
    "            pass \n",
    "        print(f\"{sn} / concat {is_concat} / simple_layer {is_simple_layer}\") \n",
    "    else: \n",
    "        # grid layout chart using hconcat and vconcat. \n",
    "        pass \n",
    "        print(f\"{sn} / concat {is_concat}\")\n",
    "    match = schema | grep(\"width\")\n",
    "    matches = [\n",
    "        m for m in match['matched_paths'] \n",
    "        if any(re.match(p, s) for p in [\n",
    "            r\"root\\['schema'\\]\\['config'\\]\\['view'\\]\\['continuousWidth'\\]\",\n",
    "            r\"root\\['schema'\\]\\['width'\\]\", \n",
    "            r\".*\\['layer'\\]\\[[0-9]+\\]\\['width'\\]\",\n",
    "            r\".*\\['hconcat'\\]\\[[0-9]+\\]\\['width'\\]\",\n",
    "            r\".*\\['vconcat'\\]\\[[0-9]+\\]\\['width'\\]\",\n",
    "        ])\n",
    "    ]\n",
    "    for m in matches: \n",
    "        print(\" \" * 4 + m) "
   ]
  },
  {
   "cell_type": "code",
   "execution_count": 29,
   "id": "ad75c172-fca1-4f78-b0be-ca7efca47424",
   "metadata": {},
   "outputs": [
    {
     "data": {
      "text/html": [
       "\n",
       "<div id=\"altair-viz-bd39b2ae4241495284d80fd27125dbe8\"></div>\n",
       "<script type=\"text/javascript\">\n",
       "  var VEGA_DEBUG = (typeof VEGA_DEBUG == \"undefined\") ? {} : VEGA_DEBUG;\n",
       "  (function(spec, embedOpt){\n",
       "    let outputDiv = document.currentScript.previousElementSibling;\n",
       "    if (outputDiv.id !== \"altair-viz-bd39b2ae4241495284d80fd27125dbe8\") {\n",
       "      outputDiv = document.getElementById(\"altair-viz-bd39b2ae4241495284d80fd27125dbe8\");\n",
       "    }\n",
       "    const paths = {\n",
       "      \"vega\": \"https://cdn.jsdelivr.net/npm//vega@5?noext\",\n",
       "      \"vega-lib\": \"https://cdn.jsdelivr.net/npm//vega-lib?noext\",\n",
       "      \"vega-lite\": \"https://cdn.jsdelivr.net/npm//vega-lite@4.17.0?noext\",\n",
       "      \"vega-embed\": \"https://cdn.jsdelivr.net/npm//vega-embed@6?noext\",\n",
       "    };\n",
       "\n",
       "    function maybeLoadScript(lib, version) {\n",
       "      var key = `${lib.replace(\"-\", \"\")}_version`;\n",
       "      return (VEGA_DEBUG[key] == version) ?\n",
       "        Promise.resolve(paths[lib]) :\n",
       "        new Promise(function(resolve, reject) {\n",
       "          var s = document.createElement('script');\n",
       "          document.getElementsByTagName(\"head\")[0].appendChild(s);\n",
       "          s.async = true;\n",
       "          s.onload = () => {\n",
       "            VEGA_DEBUG[key] = version;\n",
       "            return resolve(paths[lib]);\n",
       "          };\n",
       "          s.onerror = () => reject(`Error loading script: ${paths[lib]}`);\n",
       "          s.src = paths[lib];\n",
       "        });\n",
       "    }\n",
       "\n",
       "    function showError(err) {\n",
       "      outputDiv.innerHTML = `<div class=\"error\" style=\"color:red;\">${err}</div>`;\n",
       "      throw err;\n",
       "    }\n",
       "\n",
       "    function displayChart(vegaEmbed) {\n",
       "      vegaEmbed(outputDiv, spec, embedOpt)\n",
       "        .catch(err => showError(`Javascript Error: ${err.message}<br>This usually means there's a typo in your chart specification. See the javascript console for the full traceback.`));\n",
       "    }\n",
       "\n",
       "    if(typeof define === \"function\" && define.amd) {\n",
       "      requirejs.config({paths});\n",
       "      require([\"vega-embed\"], displayChart, err => showError(`Error loading script: ${err.message}`));\n",
       "    } else {\n",
       "      maybeLoadScript(\"vega\", \"5\")\n",
       "        .then(() => maybeLoadScript(\"vega-lite\", \"4.17.0\"))\n",
       "        .then(() => maybeLoadScript(\"vega-embed\", \"6\"))\n",
       "        .catch(showError)\n",
       "        .then(() => displayChart(vegaEmbed));\n",
       "    }\n",
       "  })({\"config\": {\"view\": {\"continuousWidth\": 400, \"continuousHeight\": 300}}, \"layer\": [{\"mark\": \"line\", \"encoding\": {\"color\": {\"field\": \"symbol\", \"type\": \"nominal\"}, \"x\": {\"field\": \"date\", \"type\": \"temporal\"}, \"y\": {\"field\": \"price\", \"type\": \"quantitative\"}}, \"selection\": {\"selector006\": {\"type\": \"interval\", \"bind\": \"scales\", \"encodings\": [\"x\", \"y\"]}}, \"transform\": [{\"filter\": \"(datum.symbol === 'GOOG')\"}], \"width\": 300}, {\"mark\": \"point\", \"encoding\": {\"color\": {\"field\": \"symbol\", \"type\": \"nominal\"}, \"x\": {\"field\": \"date\", \"type\": \"temporal\"}, \"y\": {\"field\": \"price\", \"type\": \"quantitative\"}}, \"transform\": [{\"filter\": \"(datum.symbol === 'GOOG')\"}], \"width\": 600}, {\"mark\": \"rule\", \"encoding\": {\"color\": {\"field\": \"symbol\", \"type\": \"nominal\"}, \"x\": {\"field\": \"date\", \"type\": \"temporal\"}, \"y\": {\"field\": \"price\", \"type\": \"quantitative\"}}, \"transform\": [{\"filter\": \"(datum.symbol === 'GOOG')\"}]}], \"data\": {\"url\": \"https://cdn.jsdelivr.net/npm/vega-datasets@v1.29.0/data/stocks.csv\"}, \"$schema\": \"https://vega.github.io/schema/vega-lite/v4.17.0.json\"}, {\"mode\": \"vega-lite\"});\n",
       "</script>"
      ],
      "text/plain": [
       "alt.LayerChart(...)"
      ]
     },
     "execution_count": 29,
     "metadata": {},
     "output_type": "execute_result"
    }
   ],
   "source": [
    "import altair as alt\n",
    "from altair.expr import datum\n",
    "\n",
    "from vega_datasets import data\n",
    "stocks = data.stocks.url\n",
    "\n",
    "base = alt.Chart(stocks).encode(\n",
    "    x='date:T',\n",
    "    y='price:Q',\n",
    "    color='symbol:N'\n",
    ").transform_filter(\n",
    "    datum.symbol == 'GOOG'\n",
    ")\n",
    "\n",
    "base.mark_line() + base.mark_point()\n",
    "\n",
    "c = alt.layer(\n",
    "  base.mark_line().properties(width=300),\n",
    "  base.mark_point().properties(width=600),\n",
    "  base.mark_rule()\n",
    ").interactive()\n",
    "c"
   ]
  },
  {
   "cell_type": "code",
   "execution_count": 27,
   "id": "aa931659-e4d8-40bd-9357-abaf832472a5",
   "metadata": {},
   "outputs": [
    {
     "data": {
      "application/json": {
       "$schema": "https://vega.github.io/schema/vega-lite/v4.17.0.json",
       "config": {
        "view": {
         "continuousHeight": 300,
         "continuousWidth": 400
        }
       },
       "data": {
        "url": "https://cdn.jsdelivr.net/npm/vega-datasets@v1.29.0/data/stocks.csv"
       },
       "layer": [
        {
         "encoding": {
          "color": {
           "field": "symbol",
           "type": "nominal"
          },
          "x": {
           "field": "date",
           "type": "temporal"
          },
          "y": {
           "field": "price",
           "type": "quantitative"
          }
         },
         "mark": "line",
         "selection": {
          "selector004": {
           "bind": "scales",
           "encodings": [
            "x",
            "y"
           ],
           "type": "interval"
          }
         },
         "transform": [
          {
           "filter": "(datum.symbol === 'GOOG')"
          }
         ],
         "width": 600
        },
        {
         "encoding": {
          "color": {
           "field": "symbol",
           "type": "nominal"
          },
          "x": {
           "field": "date",
           "type": "temporal"
          },
          "y": {
           "field": "price",
           "type": "quantitative"
          }
         },
         "mark": "point",
         "transform": [
          {
           "filter": "(datum.symbol === 'GOOG')"
          }
         ],
         "width": 300
        },
        {
         "encoding": {
          "color": {
           "field": "symbol",
           "type": "nominal"
          },
          "x": {
           "field": "date",
           "type": "temporal"
          },
          "y": {
           "field": "price",
           "type": "quantitative"
          }
         },
         "mark": "rule",
         "transform": [
          {
           "filter": "(datum.symbol === 'GOOG')"
          }
         ]
        }
       ]
      },
      "text/plain": [
       "<IPython.core.display.JSON object>"
      ]
     },
     "execution_count": 27,
     "metadata": {
      "application/json": {
       "expanded": false,
       "root": "root"
      }
     },
     "output_type": "execute_result"
    }
   ],
   "source": [
    "output_chart(c)"
   ]
  },
  {
   "cell_type": "code",
   "execution_count": null,
   "id": "d81dfa56-c3bf-4d34-b9ab-7ee04cc0dfe4",
   "metadata": {},
   "outputs": [],
   "source": []
  }
 ],
 "metadata": {
  "kernelspec": {
   "display_name": "beanstalk",
   "language": "python",
   "name": "beanstalk"
  },
  "language_info": {
   "codemirror_mode": {
    "name": "ipython",
    "version": 3
   },
   "file_extension": ".py",
   "mimetype": "text/x-python",
   "name": "python",
   "nbconvert_exporter": "python",
   "pygments_lexer": "ipython3",
   "version": "3.10.5"
  }
 },
 "nbformat": 4,
 "nbformat_minor": 5
}
