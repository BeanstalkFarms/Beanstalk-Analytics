{
 "cells": [
  {
   "cell_type": "code",
   "execution_count": 1,
   "id": "bb524f98-4f94-476c-b760-7d5dbae7938d",
   "metadata": {},
   "outputs": [
    {
     "name": "stdout",
     "output_type": "stream",
     "text": [
      "https://api.thegraph.com/subgraphs/name/cujowolf/beanstalk\n"
     ]
    }
   ],
   "source": [
    "import os \n",
    "import sys \n",
    "import json \n",
    "import logging \n",
    "from pathlib import Path \n",
    "from functools import cache\n",
    "from itertools import product\n",
    "\n",
    "# Required when developing in a jupyter-notebook environment \n",
    "cur_path = os.path.abspath(\"../..\")\n",
    "if cur_path not in sys.path: \n",
    "    sys.path.append(cur_path)\n",
    "\n",
    "import numpy as np \n",
    "import pandas as pd \n",
    "import altair as alt \n",
    "from altair import datum\n",
    "from dotenv import load_dotenv\n",
    "from subgrounds.subgrounds import Subgrounds, Subgraph\n",
    "from subgrounds.subgraph import SyntheticField\n",
    "from subgrounds.pagination import ShallowStrategy\n",
    "\n",
    "# Required when developing in a jupyter-notebook environment \n",
    "assert load_dotenv('../../../.env')\n",
    "\n",
    "print(os.environ['SUBGRAPH_URL'])\n",
    "\n",
    "from utils_notebook.utils import ddf, remove_prefix, load_subgraph, remove_keys\n",
    "from utils_notebook.vega import condition_union, output_chart, apply_css, stack_order_expr\n",
    "from utils_notebook.testing import validate_season_series\n",
    "from utils_notebook.constants import ADDR_BEANSTALK\n",
    "from utils_notebook.queries import QueryManager"
   ]
  },
  {
   "cell_type": "code",
   "execution_count": 2,
   "id": "4dda51ef-cb6a-4692-9bad-6ea39ab9c6fe",
   "metadata": {},
   "outputs": [],
   "source": [
    "sg, bs = load_subgraph()\n",
    "q = QueryManager(sg, bs) "
   ]
  },
  {
   "cell_type": "code",
   "execution_count": 3,
   "id": "82c47108-2673-42bd-a72e-a557bc3ca7e0",
   "metadata": {},
   "outputs": [],
   "source": [
    "@cache\n",
    "def query_barn(**kwargs): \n",
    "    return q.query_barn()"
   ]
  },
  {
   "cell_type": "code",
   "execution_count": 4,
   "id": "6bab951d-a481-4dcb-9af7-195fe0f17049",
   "metadata": {},
   "outputs": [
    {
     "data": {
      "text/html": [
       "<div>\n",
       "<style scoped>\n",
       "    .dataframe tbody tr th:only-of-type {\n",
       "        vertical-align: middle;\n",
       "    }\n",
       "\n",
       "    .dataframe tbody tr th {\n",
       "        vertical-align: top;\n",
       "    }\n",
       "\n",
       "    .dataframe thead th {\n",
       "        text-align: right;\n",
       "    }\n",
       "</style>\n",
       "<table border=\"1\" class=\"dataframe\">\n",
       "  <thead>\n",
       "    <tr style=\"text-align: right;\">\n",
       "      <th></th>\n",
       "      <th>season</th>\n",
       "      <th>sprouts</th>\n",
       "      <th>sprouts_rinsable</th>\n",
       "    </tr>\n",
       "  </thead>\n",
       "  <tbody>\n",
       "    <tr>\n",
       "      <th>1</th>\n",
       "      <td>6074</td>\n",
       "      <td>8.643268e+07</td>\n",
       "      <td>0.000000</td>\n",
       "    </tr>\n",
       "    <tr>\n",
       "      <th>2</th>\n",
       "      <td>6075</td>\n",
       "      <td>8.644328e+07</td>\n",
       "      <td>0.000000</td>\n",
       "    </tr>\n",
       "    <tr>\n",
       "      <th>3</th>\n",
       "      <td>6076</td>\n",
       "      <td>8.654976e+07</td>\n",
       "      <td>2266.788451</td>\n",
       "    </tr>\n",
       "    <tr>\n",
       "      <th>4</th>\n",
       "      <td>6077</td>\n",
       "      <td>8.658356e+07</td>\n",
       "      <td>6824.618896</td>\n",
       "    </tr>\n",
       "    <tr>\n",
       "      <th>5</th>\n",
       "      <td>6078</td>\n",
       "      <td>8.659188e+07</td>\n",
       "      <td>13760.685470</td>\n",
       "    </tr>\n",
       "  </tbody>\n",
       "</table>\n",
       "</div>"
      ],
      "text/plain": [
       "   season       sprouts  sprouts_rinsable\n",
       "1    6074  8.643268e+07          0.000000\n",
       "2    6075  8.644328e+07          0.000000\n",
       "3    6076  8.654976e+07       2266.788451\n",
       "4    6077  8.658356e+07       6824.618896\n",
       "5    6078  8.659188e+07      13760.685470"
      ]
     },
     "execution_count": 4,
     "metadata": {},
     "output_type": "execute_result"
    }
   ],
   "source": [
    "df_barn = query_barn(cache=1)\n",
    "df_barn = df_barn[['season', 'sprouts', 'sprouts_rinsable']]\n",
    "df_barn.head()"
   ]
  },
  {
   "cell_type": "code",
   "execution_count": 7,
   "id": "628eda79-e7d6-4deb-83eb-25b438be5f31",
   "metadata": {},
   "outputs": [],
   "source": [
    "col_map = {\n",
    "    'newHarvestablePods': 'pods_harvestable_daily',\n",
    "    'newHarvestedPods': 'pods_harvested_daily', \n",
    "    'newPods': 'pods_issued_daily', \n",
    "    'podIndex': 'pods_issued_cumulative', \n",
    "    'totalHarvestablePods': 'pods_harvestable_cumulative', \n",
    "}"
   ]
  },
  {
   "cell_type": "code",
   "execution_count": 8,
   "id": "f5823889",
   "metadata": {},
   "outputs": [],
   "source": [
    "@cache\n",
    "def query_field_daily_snapshots(**kwargs): \n",
    "    return q.query_field_daily_snapshots(fields=['season'] + list(col_map.keys())) "
   ]
  },
  {
   "cell_type": "code",
   "execution_count": 9,
   "id": "19a0bd2a-15e2-4e6c-925b-91a138d3d7f8",
   "metadata": {},
   "outputs": [
    {
     "data": {
      "text/html": [
       "<div>\n",
       "<style scoped>\n",
       "    .dataframe tbody tr th:only-of-type {\n",
       "        vertical-align: middle;\n",
       "    }\n",
       "\n",
       "    .dataframe tbody tr th {\n",
       "        vertical-align: top;\n",
       "    }\n",
       "\n",
       "    .dataframe thead th {\n",
       "        text-align: right;\n",
       "    }\n",
       "</style>\n",
       "<table border=\"1\" class=\"dataframe\">\n",
       "  <thead>\n",
       "    <tr style=\"text-align: right;\">\n",
       "      <th></th>\n",
       "      <th>season</th>\n",
       "      <th>pods_harvestable_daily</th>\n",
       "      <th>pods_harvested_daily</th>\n",
       "      <th>pods_harvestable_cumulative</th>\n",
       "      <th>pods_issued_daily</th>\n",
       "      <th>pods_issued_cumulative</th>\n",
       "    </tr>\n",
       "  </thead>\n",
       "  <tbody>\n",
       "    <tr>\n",
       "      <th>310</th>\n",
       "      <td>7425</td>\n",
       "      <td>0.0</td>\n",
       "      <td>0.0</td>\n",
       "      <td>5.756023e+07</td>\n",
       "      <td>0.387397</td>\n",
       "      <td>8.286403e+08</td>\n",
       "    </tr>\n",
       "    <tr>\n",
       "      <th>311</th>\n",
       "      <td>7449</td>\n",
       "      <td>0.0</td>\n",
       "      <td>0.0</td>\n",
       "      <td>5.756023e+07</td>\n",
       "      <td>66910.245593</td>\n",
       "      <td>8.287072e+08</td>\n",
       "    </tr>\n",
       "    <tr>\n",
       "      <th>312</th>\n",
       "      <td>7473</td>\n",
       "      <td>0.0</td>\n",
       "      <td>0.0</td>\n",
       "      <td>5.756023e+07</td>\n",
       "      <td>4923.484482</td>\n",
       "      <td>8.287121e+08</td>\n",
       "    </tr>\n",
       "    <tr>\n",
       "      <th>313</th>\n",
       "      <td>7497</td>\n",
       "      <td>0.0</td>\n",
       "      <td>0.0</td>\n",
       "      <td>5.756023e+07</td>\n",
       "      <td>43572.583335</td>\n",
       "      <td>8.287557e+08</td>\n",
       "    </tr>\n",
       "    <tr>\n",
       "      <th>314</th>\n",
       "      <td>7517</td>\n",
       "      <td>0.0</td>\n",
       "      <td>0.0</td>\n",
       "      <td>5.756023e+07</td>\n",
       "      <td>15527.719407</td>\n",
       "      <td>8.287712e+08</td>\n",
       "    </tr>\n",
       "  </tbody>\n",
       "</table>\n",
       "</div>"
      ],
      "text/plain": [
       "     season  pods_harvestable_daily  pods_harvested_daily  \\\n",
       "310    7425                     0.0                   0.0   \n",
       "311    7449                     0.0                   0.0   \n",
       "312    7473                     0.0                   0.0   \n",
       "313    7497                     0.0                   0.0   \n",
       "314    7517                     0.0                   0.0   \n",
       "\n",
       "     pods_harvestable_cumulative  pods_issued_daily  pods_issued_cumulative  \n",
       "310                 5.756023e+07           0.387397            8.286403e+08  \n",
       "311                 5.756023e+07       66910.245593            8.287072e+08  \n",
       "312                 5.756023e+07        4923.484482            8.287121e+08  \n",
       "313                 5.756023e+07       43572.583335            8.287557e+08  \n",
       "314                 5.756023e+07       15527.719407            8.287712e+08  "
      ]
     },
     "execution_count": 9,
     "metadata": {},
     "output_type": "execute_result"
    }
   ],
   "source": [
    "df_field = query_field_daily_snapshots(cache=1).copy()\n",
    "df_field = df_field.rename(columns=col_map)\n",
    "df_field.tail()"
   ]
  },
  {
   "cell_type": "code",
   "execution_count": 10,
   "id": "9d60f680",
   "metadata": {},
   "outputs": [],
   "source": [
    "def silo_emissions_pre_replant() -> pd.DataFrame: \n",
    "    \"\"\"Temporary solution to subgraph not having silo emissions pre-replant \n",
    "    \n",
    "    Data was downloaded from dune \n",
    "    \"\"\"\n",
    "    with Path(\"data/SupplyIncrease.json\").open('r') as f: \n",
    "        data = json.loads(f.read())\n",
    "    data = [remove_keys(d['data'], ['__typename']) for d in data]\n",
    "    df_supply_inc = pd.DataFrame(data)[['season', 'newSilo']]\n",
    "    return df_supply_inc\n",
    "\n",
    "@cache \n",
    "def query_silo(refresh=None) -> pd.DataFrame: \n",
    "    silo_snaps = bs.Query.siloDailySnapshots(\n",
    "        orderBy=\"season\", \n",
    "        orderDirection=\"asc\", \n",
    "        first=10000, \n",
    "        where={\"silo\": ADDR_BEANSTALK}\n",
    "    )\n",
    "    df = sg.query_df(\n",
    "        [\n",
    "            silo_snaps.season, \n",
    "            silo_snaps.dailyBeanMints, \n",
    "            # silo_snaps.totalBeanMints, # add back when subgraph includes historical data \n",
    "        ], \n",
    "        pagination_strategy=ShallowStrategy\n",
    "    )\n",
    "    return df "
   ]
  },
  {
   "cell_type": "code",
   "execution_count": 11,
   "id": "cfb4cc16",
   "metadata": {},
   "outputs": [],
   "source": [
    "# process post-replant silo data (subgraph)\n",
    "df_silo = query_silo(refresh=1).copy()\n",
    "df_silo = remove_prefix(df_silo, \"siloDailySnapshots_\")\n",
    "df_silo = df_silo.loc[df_silo.season < 6074] # TODO: fix once the subgraph contains all historical data\n",
    "df_silo = df_silo.rename(columns={\"dailyBeanMints\": \"silo_emissions_daily\"})\n",
    "# process pre-replant silo data (downloaded from dune)\n",
    "df_silo_old = silo_emissions_pre_replant()\n",
    "df_silo_old = df_silo_old.rename(columns={\"newSilo\": \"silo_emissions_daily\"})\n",
    "# Combine pre and post replant data (no seasons in common so outer join)\n",
    "df_silo = df_silo.merge(df_silo_old, how=\"outer\")\n",
    "assert set(df_silo.columns) == set(['season', 'silo_emissions_daily'])\n",
    "df_silo = df_silo.sort_values(\"season\")\n",
    "df_silo = df_silo.groupby('season').agg({\n",
    "    # handles edge case for season 6074 which occurred multiple times \n",
    "    \"silo_emissions_daily\": \"sum\", \n",
    "}).reset_index()\n",
    "df_silo['silo_emissions_daily'] /= 10**6\n",
    "df_silo['silo_emissions_cumulative'] = df_silo.silo_emissions_daily.cumsum()\n",
    "validate_season_series(df_silo, allow_missing=True)"
   ]
  },
  {
   "cell_type": "code",
   "execution_count": 12,
   "id": "941d682b",
   "metadata": {},
   "outputs": [],
   "source": [
    "@cache \n",
    "def query_seasons(refresh=None) -> pd.DataFrame: \n",
    "    seasons = bs.Query.seasons(\n",
    "        first=10000, orderBy=\"season\", orderDirection=\"asc\"\n",
    "    )\n",
    "    bs.Season.bean_supply = bs.Season.beans / 1e6\n",
    "    df = sg.query_df([\n",
    "        seasons.season, \n",
    "        seasons.timestamp, \n",
    "        seasons.bean_supply, \n",
    "    ], pagination_strategy=ShallowStrategy)\n",
    "    df = remove_prefix(df, 'seasons_')\n",
    "    return df "
   ]
  },
  {
   "cell_type": "code",
   "execution_count": 13,
   "id": "0e539add",
   "metadata": {},
   "outputs": [
    {
     "data": {
      "text/html": [
       "<div>\n",
       "<style scoped>\n",
       "    .dataframe tbody tr th:only-of-type {\n",
       "        vertical-align: middle;\n",
       "    }\n",
       "\n",
       "    .dataframe tbody tr th {\n",
       "        vertical-align: top;\n",
       "    }\n",
       "\n",
       "    .dataframe thead th {\n",
       "        text-align: right;\n",
       "    }\n",
       "</style>\n",
       "<table border=\"1\" class=\"dataframe\">\n",
       "  <thead>\n",
       "    <tr style=\"text-align: right;\">\n",
       "      <th></th>\n",
       "      <th>season</th>\n",
       "      <th>timestamp</th>\n",
       "      <th>bean_supply</th>\n",
       "    </tr>\n",
       "  </thead>\n",
       "  <tbody>\n",
       "    <tr>\n",
       "      <th>2</th>\n",
       "      <td>2</td>\n",
       "      <td>2021-08-07 00:06:08</td>\n",
       "      <td>2078.821989</td>\n",
       "    </tr>\n",
       "    <tr>\n",
       "      <th>3</th>\n",
       "      <td>3</td>\n",
       "      <td>2021-08-07 01:07:38</td>\n",
       "      <td>4089.294648</td>\n",
       "    </tr>\n",
       "    <tr>\n",
       "      <th>4</th>\n",
       "      <td>4</td>\n",
       "      <td>2021-08-07 02:09:28</td>\n",
       "      <td>6085.876897</td>\n",
       "    </tr>\n",
       "    <tr>\n",
       "      <th>5</th>\n",
       "      <td>5</td>\n",
       "      <td>2021-08-07 03:07:35</td>\n",
       "      <td>8108.408490</td>\n",
       "    </tr>\n",
       "    <tr>\n",
       "      <th>6</th>\n",
       "      <td>6</td>\n",
       "      <td>2021-08-07 04:11:23</td>\n",
       "      <td>10087.230479</td>\n",
       "    </tr>\n",
       "  </tbody>\n",
       "</table>\n",
       "</div>"
      ],
      "text/plain": [
       "   season           timestamp   bean_supply\n",
       "2       2 2021-08-07 00:06:08   2078.821989\n",
       "3       3 2021-08-07 01:07:38   4089.294648\n",
       "4       4 2021-08-07 02:09:28   6085.876897\n",
       "5       5 2021-08-07 03:07:35   8108.408490\n",
       "6       6 2021-08-07 04:11:23  10087.230479"
      ]
     },
     "execution_count": 13,
     "metadata": {},
     "output_type": "execute_result"
    }
   ],
   "source": [
    "df_szns = query_seasons(refresh=1)\n",
    "df_szns['timestamp'] = pd.to_datetime(df_szns.timestamp, unit='s')\n",
    "validate_season_series(df_szns, allow_missing=False)\n",
    "df_szns = df_szns.loc[df_szns.season >= 2] # timestamps are wrong for season 0 and 1 \n",
    "df_szns.head()"
   ]
  },
  {
   "cell_type": "code",
   "execution_count": 14,
   "id": "013a35a6-f244-4bf6-b525-35b1970dfd20",
   "metadata": {},
   "outputs": [
    {
     "name": "stdout",
     "output_type": "stream",
     "text": [
      "423\n"
     ]
    },
    {
     "data": {
      "text/html": [
       "<div>\n",
       "<style scoped>\n",
       "    .dataframe tbody tr th:only-of-type {\n",
       "        vertical-align: middle;\n",
       "    }\n",
       "\n",
       "    .dataframe tbody tr th {\n",
       "        vertical-align: top;\n",
       "    }\n",
       "\n",
       "    .dataframe thead th {\n",
       "        text-align: right;\n",
       "    }\n",
       "</style>\n",
       "<table border=\"1\" class=\"dataframe\">\n",
       "  <thead>\n",
       "    <tr style=\"text-align: right;\">\n",
       "      <th></th>\n",
       "      <th>timestamp</th>\n",
       "      <th>variable</th>\n",
       "      <th>value</th>\n",
       "    </tr>\n",
       "  </thead>\n",
       "  <tbody>\n",
       "    <tr>\n",
       "      <th>0</th>\n",
       "      <td>2021-08-08</td>\n",
       "      <td>debt credit ratio</td>\n",
       "      <td>0.495642</td>\n",
       "    </tr>\n",
       "    <tr>\n",
       "      <th>1</th>\n",
       "      <td>2021-08-08</td>\n",
       "      <td>fertilized beans</td>\n",
       "      <td>0.000000</td>\n",
       "    </tr>\n",
       "    <tr>\n",
       "      <th>2</th>\n",
       "      <td>2021-08-08</td>\n",
       "      <td>fertilizer adjusted pod rate</td>\n",
       "      <td>0.155825</td>\n",
       "    </tr>\n",
       "    <tr>\n",
       "      <th>3</th>\n",
       "      <td>2021-08-08</td>\n",
       "      <td>pods harvestable</td>\n",
       "      <td>15863.528585</td>\n",
       "    </tr>\n",
       "    <tr>\n",
       "      <th>4</th>\n",
       "      <td>2021-08-08</td>\n",
       "      <td>pods issued</td>\n",
       "      <td>18366.370137</td>\n",
       "    </tr>\n",
       "    <tr>\n",
       "      <th>5</th>\n",
       "      <td>2021-08-08</td>\n",
       "      <td>silo emissions</td>\n",
       "      <td>21192.194431</td>\n",
       "    </tr>\n",
       "    <tr>\n",
       "      <th>6</th>\n",
       "      <td>2021-08-08</td>\n",
       "      <td>total credit</td>\n",
       "      <td>37055.723016</td>\n",
       "    </tr>\n",
       "    <tr>\n",
       "      <th>7</th>\n",
       "      <td>2021-08-08</td>\n",
       "      <td>total debt</td>\n",
       "      <td>18366.370137</td>\n",
       "    </tr>\n",
       "    <tr>\n",
       "      <th>8</th>\n",
       "      <td>2021-08-08</td>\n",
       "      <td>unfertilized beans</td>\n",
       "      <td>0.000000</td>\n",
       "    </tr>\n",
       "    <tr>\n",
       "      <th>9</th>\n",
       "      <td>2021-08-15</td>\n",
       "      <td>debt credit ratio</td>\n",
       "      <td>0.230439</td>\n",
       "    </tr>\n",
       "  </tbody>\n",
       "</table>\n",
       "</div>"
      ],
      "text/plain": [
       "   timestamp                      variable         value\n",
       "0 2021-08-08             debt credit ratio      0.495642\n",
       "1 2021-08-08              fertilized beans      0.000000\n",
       "2 2021-08-08  fertilizer adjusted pod rate      0.155825\n",
       "3 2021-08-08              pods harvestable  15863.528585\n",
       "4 2021-08-08                   pods issued  18366.370137\n",
       "5 2021-08-08                silo emissions  21192.194431\n",
       "6 2021-08-08                  total credit  37055.723016\n",
       "7 2021-08-08                    total debt  18366.370137\n",
       "8 2021-08-08            unfertilized beans      0.000000\n",
       "9 2021-08-15             debt credit ratio      0.230439"
      ]
     },
     "execution_count": 14,
     "metadata": {},
     "output_type": "execute_result"
    }
   ],
   "source": [
    "# data pre-processing \n",
    "df = df_szns.merge(\n",
    "    df_barn, how='left', on='season'\n",
    ").merge(\n",
    "    df_field, how='left', on='season'\n",
    ").merge(\n",
    "    df_silo, how='left', on='season'\n",
    ")\n",
    "assert len(df) == len(df_szns)\n",
    "df = df.rename(columns={\n",
    "    # credit components \n",
    "    'sprouts_rinsable': 'fertilized beans', \n",
    "    'pods_harvestable_cumulative': 'pods harvestable', \n",
    "    'silo_emissions_cumulative': 'silo emissions', \n",
    "    # debt components \n",
    "    'sprouts': 'unfertilized beans', \n",
    "    'pods_issued_cumulative': 'pods issued', \n",
    "    # overall \n",
    "    'total_debt': 'total debt', \n",
    "    'total_credit': 'total credit', \n",
    "    'debt_credit_ratio': 'debt credit ratio', \n",
    "    'fertilizer_adjusted_pod_rate': 'fertilizer adjusted pod rate', \n",
    "})\n",
    "df = df.ffill().fillna(0) # Not technically correct but close enough \n",
    "df['total debt'] = (\n",
    "    df['pods issued'] + df['unfertilized beans']\n",
    ") \n",
    "df['total credit'] = (\n",
    "    df['fertilized beans'] + df['silo emissions'] + df['pods harvestable']\n",
    ")\n",
    "df['debt credit ratio'] = df['total debt'] / df['total credit'] \n",
    "df['fertilizer adjusted pod rate'] = df['total debt'] / df['bean_supply'] \n",
    "metrics_credit = [\n",
    "    'silo emissions',\n",
    "    'pods harvestable',\n",
    "    'fertilized beans', \n",
    "]\n",
    "metrics_debt = [\n",
    "    'unfertilized beans', \n",
    "    'pods issued', \n",
    "]\n",
    "metrics_credit_debt_aggregate = [\n",
    "    'total debt', \n",
    "    'total credit', \n",
    "]\n",
    "metrics_meta = [\n",
    "    'debt credit ratio', \n",
    "    'fertilizer adjusted pod rate', \n",
    "]\n",
    "metrics = metrics_credit + metrics_debt + metrics_credit_debt_aggregate + metrics_meta\n",
    "columns = ['timestamp'] + metrics \n",
    "df = df[columns]\n",
    "df = df.resample(\"W\", on=\"timestamp\").last().drop(columns=\"timestamp\").reset_index()\n",
    "# df_mask = df['silo emissions'].isna()\n",
    "timestamp_min = df.timestamp.values[0]\n",
    "# timestamp_exploit = df[df_mask].timestamp.values[0]\n",
    "# timestamp_replant = df[df_mask].timestamp.values[-1]\n",
    "df = df.dropna()\n",
    "source = df.melt(\n",
    "    id_vars=['timestamp'], \n",
    "    value_vars=metrics, \n",
    ").sort_values([\"timestamp\", \"variable\"]).reset_index(drop=True)\n",
    "print(len(source))\n",
    "source.head(10)"
   ]
  },
  {
   "cell_type": "markdown",
   "id": "6b2536cf-c4b7-4735-b2af-d44312e2b408",
   "metadata": {},
   "source": [
    "### Chart Todo's \n",
    "\n",
    "- Add pod rate as a metric \n"
   ]
  },
  {
   "cell_type": "code",
   "execution_count": 15,
   "id": "849735f1",
   "metadata": {
    "tags": []
   },
   "outputs": [
    {
     "data": {
      "text/html": [
       "<style></style>"
      ],
      "text/plain": [
       "<IPython.core.display.HTML object>"
      ]
     },
     "metadata": {},
     "output_type": "display_data"
    },
    {
     "data": {
      "text/html": [
       "\n",
       "<div id=\"altair-viz-3d00296dbe474ac2925829ed9d26fd67\"></div>\n",
       "<script type=\"text/javascript\">\n",
       "  var VEGA_DEBUG = (typeof VEGA_DEBUG == \"undefined\") ? {} : VEGA_DEBUG;\n",
       "  (function(spec, embedOpt){\n",
       "    let outputDiv = document.currentScript.previousElementSibling;\n",
       "    if (outputDiv.id !== \"altair-viz-3d00296dbe474ac2925829ed9d26fd67\") {\n",
       "      outputDiv = document.getElementById(\"altair-viz-3d00296dbe474ac2925829ed9d26fd67\");\n",
       "    }\n",
       "    const paths = {\n",
       "      \"vega\": \"https://cdn.jsdelivr.net/npm//vega@5?noext\",\n",
       "      \"vega-lib\": \"https://cdn.jsdelivr.net/npm//vega-lib?noext\",\n",
       "      \"vega-lite\": \"https://cdn.jsdelivr.net/npm//vega-lite@4.17.0?noext\",\n",
       "      \"vega-embed\": \"https://cdn.jsdelivr.net/npm//vega-embed@6?noext\",\n",
       "    };\n",
       "\n",
       "    function maybeLoadScript(lib, version) {\n",
       "      var key = `${lib.replace(\"-\", \"\")}_version`;\n",
       "      return (VEGA_DEBUG[key] == version) ?\n",
       "        Promise.resolve(paths[lib]) :\n",
       "        new Promise(function(resolve, reject) {\n",
       "          var s = document.createElement('script');\n",
       "          document.getElementsByTagName(\"head\")[0].appendChild(s);\n",
       "          s.async = true;\n",
       "          s.onload = () => {\n",
       "            VEGA_DEBUG[key] = version;\n",
       "            return resolve(paths[lib]);\n",
       "          };\n",
       "          s.onerror = () => reject(`Error loading script: ${paths[lib]}`);\n",
       "          s.src = paths[lib];\n",
       "        });\n",
       "    }\n",
       "\n",
       "    function showError(err) {\n",
       "      outputDiv.innerHTML = `<div class=\"error\" style=\"color:red;\">${err}</div>`;\n",
       "      throw err;\n",
       "    }\n",
       "\n",
       "    function displayChart(vegaEmbed) {\n",
       "      vegaEmbed(outputDiv, spec, embedOpt)\n",
       "        .catch(err => showError(`Javascript Error: ${err.message}<br>This usually means there's a typo in your chart specification. See the javascript console for the full traceback.`));\n",
       "    }\n",
       "\n",
       "    if(typeof define === \"function\" && define.amd) {\n",
       "      requirejs.config({paths});\n",
       "      require([\"vega-embed\"], displayChart, err => showError(`Error loading script: ${err.message}`));\n",
       "    } else {\n",
       "      maybeLoadScript(\"vega\", \"5\")\n",
       "        .then(() => maybeLoadScript(\"vega-lite\", \"4.17.0\"))\n",
       "        .then(() => maybeLoadScript(\"vega-embed\", \"6\"))\n",
       "        .catch(showError)\n",
       "        .then(() => displayChart(vegaEmbed));\n",
       "    }\n",
       "  })({\"config\": {\"view\": {\"continuousWidth\": 400, \"continuousHeight\": 300}}, \"vconcat\": [{\"layer\": [{\"mark\": \"bar\", \"encoding\": {\"color\": {\"field\": \"variable\", \"legend\": {\"title\": null}, \"scale\": {\"domain\": [\"silo emissions\", \"pods harvestable\", \"fertilized beans\", \"unfertilized beans\", \"pods issued\", \"total debt\", \"total credit\"], \"range\": [\"#22577a\", \"#38a3a5\", \"#57cc99\", \"#ef9b20\", \"#fa4d56\", \"#9f1853\", \"#80ed99\"]}, \"type\": \"nominal\"}, \"order\": {\"field\": \"stack_order\", \"sort\": \"ascending\", \"type\": \"quantitative\"}, \"x\": {\"axis\": {\"formatType\": \"time\", \"labelAngle\": 0, \"labelExpr\": \"timeFormat(toDate(datum.value), '%b %Y')\", \"labelOverlap\": true, \"labelPadding\": 5, \"labelSeparation\": 25, \"ticks\": false, \"title\": \"Date\"}, \"field\": \"tstamp\", \"type\": \"ordinal\"}, \"y\": {\"axis\": {\"format\": \".3~s\", \"labelExpr\": \"replace(datum.label, 'G', 'B')\", \"title\": \"BDV\"}, \"field\": \"rvalue\", \"type\": \"quantitative\"}}, \"height\": 225, \"selection\": {\"agglevel\": {\"type\": \"single\", \"fields\": [\"AggLevel\"], \"bind\": {\"input\": \"select\", \"options\": [\"ymd\", \"ym\"], \"labels\": [\"weekly\", \"monthly\"], \"name\": \"aggregation level:\"}, \"init\": {\"AggLevel\": \"ymd\"}}}, \"transform\": [{\"field\": \"timestamp\", \"timeUnit\": \"yearmonthdate\", \"as\": \"ymd\"}, {\"field\": \"timestamp\", \"timeUnit\": \"yearmonth\", \"as\": \"ym\"}, {\"calculate\": \"datum[agglevel.AggLevel]\", \"as\": \"tstamp\"}, {\"aggregate\": [{\"op\": \"max\", \"field\": \"value\", \"as\": \"rvalue\"}], \"groupby\": [\"tstamp\", \"variable\"]}, {\"calculate\": \"time(datum.tstamp) + (datum['variable'] === 'fertilizer adjusted pod rate' ? 0 :  datum['variable'] === 'debt credit ratio' ? 1 :  datum['variable'] === 'total credit' ? 2 :  datum['variable'] === 'total debt' ? 3 :  datum['variable'] === 'pods issued' ? 4 :  datum['variable'] === 'unfertilized beans' ? 5 :  datum['variable'] === 'fertilized beans' ? 6 :  datum['variable'] === 'pods harvestable' ? 7 :  datum['variable'] === 'silo emissions' ? 8 : 9)\", \"as\": \"stack_order\"}, {\"filter\": \"datum.variable == 'unfertilized beans' | datum.variable == 'pods issued'\"}], \"width\": 500}, {\"mark\": \"bar\", \"encoding\": {\"color\": {\"field\": \"variable\", \"legend\": {\"title\": null}, \"scale\": {\"domain\": [\"silo emissions\", \"pods harvestable\", \"fertilized beans\", \"unfertilized beans\", \"pods issued\", \"total debt\", \"total credit\"], \"range\": [\"#22577a\", \"#38a3a5\", \"#57cc99\", \"#ef9b20\", \"#fa4d56\", \"#9f1853\", \"#80ed99\"]}, \"type\": \"nominal\"}, \"order\": {\"field\": \"stack_order\", \"sort\": \"ascending\", \"type\": \"quantitative\"}, \"x\": {\"axis\": {\"formatType\": \"time\", \"labelAngle\": 0, \"labelExpr\": \"timeFormat(toDate(datum.value), '%b %Y')\", \"labelOverlap\": true, \"labelPadding\": 5, \"labelSeparation\": 25, \"ticks\": false, \"title\": \"Date\"}, \"field\": \"tstamp\", \"type\": \"ordinal\"}, \"y\": {\"axis\": {\"format\": \".3~s\", \"labelExpr\": \"replace(datum.label, 'G', 'B')\", \"title\": \"BDV\"}, \"field\": \"rvalue\", \"type\": \"quantitative\"}}, \"height\": 225, \"transform\": [{\"field\": \"timestamp\", \"timeUnit\": \"yearmonthdate\", \"as\": \"ymd\"}, {\"field\": \"timestamp\", \"timeUnit\": \"yearmonth\", \"as\": \"ym\"}, {\"calculate\": \"datum[agglevel.AggLevel]\", \"as\": \"tstamp\"}, {\"aggregate\": [{\"op\": \"max\", \"field\": \"value\", \"as\": \"rvalue\"}], \"groupby\": [\"tstamp\", \"variable\"]}, {\"calculate\": \"time(datum.tstamp) + (datum['variable'] === 'fertilizer adjusted pod rate' ? 0 :  datum['variable'] === 'debt credit ratio' ? 1 :  datum['variable'] === 'total credit' ? 2 :  datum['variable'] === 'total debt' ? 3 :  datum['variable'] === 'pods issued' ? 4 :  datum['variable'] === 'unfertilized beans' ? 5 :  datum['variable'] === 'fertilized beans' ? 6 :  datum['variable'] === 'pods harvestable' ? 7 :  datum['variable'] === 'silo emissions' ? 8 : 9)\", \"as\": \"stack_order\"}, {\"filter\": \"datum.variable == 'silo emissions' | datum.variable == 'pods harvestable' | datum.variable == 'fertilized beans'\"}], \"width\": 500}, {\"mark\": \"line\", \"encoding\": {\"color\": {\"field\": \"variable\", \"legend\": {\"title\": null}, \"scale\": {\"domain\": [\"silo emissions\", \"pods harvestable\", \"fertilized beans\", \"unfertilized beans\", \"pods issued\", \"total debt\", \"total credit\"], \"range\": [\"#22577a\", \"#38a3a5\", \"#57cc99\", \"#ef9b20\", \"#fa4d56\", \"#9f1853\", \"#80ed99\"]}, \"type\": \"nominal\"}, \"order\": {\"field\": \"stack_order\", \"sort\": \"ascending\", \"type\": \"quantitative\"}, \"x\": {\"axis\": {\"formatType\": \"time\", \"labelAngle\": 0, \"labelExpr\": \"timeFormat(toDate(datum.value), '%b %Y')\", \"labelOverlap\": true, \"labelPadding\": 5, \"labelSeparation\": 25, \"ticks\": false, \"title\": \"Date\"}, \"field\": \"tstamp\", \"type\": \"ordinal\"}, \"y\": {\"axis\": {\"format\": \".3~s\", \"labelExpr\": \"replace(datum.label, 'G', 'B')\", \"title\": \"BDV\"}, \"field\": \"rvalue\", \"type\": \"quantitative\"}}, \"height\": 225, \"transform\": [{\"field\": \"timestamp\", \"timeUnit\": \"yearmonthdate\", \"as\": \"ymd\"}, {\"field\": \"timestamp\", \"timeUnit\": \"yearmonth\", \"as\": \"ym\"}, {\"calculate\": \"datum[agglevel.AggLevel]\", \"as\": \"tstamp\"}, {\"aggregate\": [{\"op\": \"max\", \"field\": \"value\", \"as\": \"rvalue\"}], \"groupby\": [\"tstamp\", \"variable\"]}, {\"calculate\": \"time(datum.tstamp) + (datum['variable'] === 'fertilizer adjusted pod rate' ? 0 :  datum['variable'] === 'debt credit ratio' ? 1 :  datum['variable'] === 'total credit' ? 2 :  datum['variable'] === 'total debt' ? 3 :  datum['variable'] === 'pods issued' ? 4 :  datum['variable'] === 'unfertilized beans' ? 5 :  datum['variable'] === 'fertilized beans' ? 6 :  datum['variable'] === 'pods harvestable' ? 7 :  datum['variable'] === 'silo emissions' ? 8 : 9)\", \"as\": \"stack_order\"}, {\"filter\": \"datum.variable == 'total debt' | datum.variable == 'total credit'\"}], \"width\": 500}, {\"mark\": {\"type\": \"rule\", \"opacity\": 0}, \"encoding\": {\"tooltip\": [{\"field\": \"tstamp\", \"timeUnit\": \"yearmonthdate\", \"title\": \"date\", \"type\": \"ordinal\"}, {\"field\": \"silo emissions\", \"format\": \",d\", \"title\": \"silo emissions\", \"type\": \"quantitative\"}, {\"field\": \"pods harvestable\", \"format\": \",d\", \"title\": \"pods harvestable\", \"type\": \"quantitative\"}, {\"field\": \"fertilized beans\", \"format\": \",d\", \"title\": \"fertilized beans\", \"type\": \"quantitative\"}, {\"field\": \"unfertilized beans\", \"format\": \",d\", \"title\": \"unfertilized beans\", \"type\": \"quantitative\"}, {\"field\": \"pods issued\", \"format\": \",d\", \"title\": \"pods issued\", \"type\": \"quantitative\"}, {\"field\": \"total debt\", \"format\": \",d\", \"title\": \"total debt\", \"type\": \"quantitative\"}, {\"field\": \"total credit\", \"format\": \",d\", \"title\": \"total credit\", \"type\": \"quantitative\"}, {\"field\": \"debt credit ratio\", \"format\": \".2%\", \"title\": \"debt credit ratio\", \"type\": \"quantitative\"}, {\"field\": \"fertilizer adjusted pod rate\", \"format\": \".2%\", \"title\": \"fertilizer adjusted pod rate\", \"type\": \"quantitative\"}], \"x\": {\"axis\": {\"formatType\": \"time\", \"labelAngle\": 0, \"labelExpr\": \"timeFormat(toDate(datum.value), '%b %Y')\", \"labelOverlap\": true, \"labelPadding\": 5, \"labelSeparation\": 25, \"ticks\": false, \"title\": \"Date\"}, \"field\": \"tstamp\", \"type\": \"ordinal\"}}, \"height\": 225, \"selection\": {\"selector001\": {\"type\": \"single\", \"fields\": [\"tstamp\"], \"nearest\": true, \"on\": \"mouseover\", \"empty\": \"none\", \"clear\": \"mouseout\"}}, \"transform\": [{\"field\": \"timestamp\", \"timeUnit\": \"yearmonthdate\", \"as\": \"ymd\"}, {\"field\": \"timestamp\", \"timeUnit\": \"yearmonth\", \"as\": \"ym\"}, {\"calculate\": \"datum[agglevel.AggLevel]\", \"as\": \"tstamp\"}, {\"aggregate\": [{\"op\": \"max\", \"field\": \"value\", \"as\": \"rvalue\"}], \"groupby\": [\"tstamp\", \"variable\"]}, {\"calculate\": \"time(datum.tstamp) + (datum['variable'] === 'fertilizer adjusted pod rate' ? 0 :  datum['variable'] === 'debt credit ratio' ? 1 :  datum['variable'] === 'total credit' ? 2 :  datum['variable'] === 'total debt' ? 3 :  datum['variable'] === 'pods issued' ? 4 :  datum['variable'] === 'unfertilized beans' ? 5 :  datum['variable'] === 'fertilized beans' ? 6 :  datum['variable'] === 'pods harvestable' ? 7 :  datum['variable'] === 'silo emissions' ? 8 : 9)\", \"as\": \"stack_order\"}, {\"pivot\": \"variable\", \"value\": \"rvalue\", \"groupby\": [\"tstamp\"]}], \"width\": 500}, {\"mark\": {\"type\": \"rule\", \"color\": \"#474440\", \"opacity\": 1, \"strokeDash\": [2.5, 1]}, \"encoding\": {\"x\": {\"axis\": {\"formatType\": \"time\", \"labelAngle\": 0, \"labelExpr\": \"timeFormat(toDate(datum.value), '%b %Y')\", \"labelOverlap\": true, \"labelPadding\": 5, \"labelSeparation\": 25, \"ticks\": false, \"title\": \"Date\"}, \"field\": \"tstamp\", \"type\": \"ordinal\"}}, \"height\": 225, \"transform\": [{\"field\": \"timestamp\", \"timeUnit\": \"yearmonthdate\", \"as\": \"ymd\"}, {\"field\": \"timestamp\", \"timeUnit\": \"yearmonth\", \"as\": \"ym\"}, {\"calculate\": \"datum[agglevel.AggLevel]\", \"as\": \"tstamp\"}, {\"aggregate\": [{\"op\": \"max\", \"field\": \"value\", \"as\": \"rvalue\"}], \"groupby\": [\"tstamp\", \"variable\"]}, {\"calculate\": \"time(datum.tstamp) + (datum['variable'] === 'fertilizer adjusted pod rate' ? 0 :  datum['variable'] === 'debt credit ratio' ? 1 :  datum['variable'] === 'total credit' ? 2 :  datum['variable'] === 'total debt' ? 3 :  datum['variable'] === 'pods issued' ? 4 :  datum['variable'] === 'unfertilized beans' ? 5 :  datum['variable'] === 'fertilized beans' ? 6 :  datum['variable'] === 'pods harvestable' ? 7 :  datum['variable'] === 'silo emissions' ? 8 : 9)\", \"as\": \"stack_order\"}, {\"pivot\": \"variable\", \"value\": \"rvalue\", \"groupby\": [\"tstamp\"]}, {\"filter\": \"year(datum.tstamp) === 2022 && month(datum.tstamp) === 3 && date(datum.tstamp) === 17\"}], \"width\": 500}], \"title\": \"Beanstalk Credit Profile\"}, {\"layer\": [{\"mark\": \"line\", \"encoding\": {\"color\": {\"field\": \"variable\", \"legend\": {\"title\": null}, \"scale\": {\"domain\": [\"debt credit ratio\", \"fertilizer adjusted pod rate\"], \"range\": [\"#ffc300\", \"#5e60ce\"]}, \"type\": \"nominal\"}, \"x\": {\"axis\": {\"formatType\": \"time\", \"labelAngle\": 0, \"labelExpr\": \"timeFormat(toDate(datum.value), '%b %Y')\", \"labelOverlap\": true, \"labelPadding\": 5, \"labelSeparation\": 25, \"ticks\": false, \"title\": \"Date\"}, \"field\": \"tstamp\", \"type\": \"ordinal\"}, \"y\": {\"axis\": {\"format\": \",%\", \"title\": \"Percent\"}, \"field\": \"rvalue\", \"type\": \"quantitative\"}}, \"height\": 225, \"selection\": {\"agglevel\": {\"type\": \"single\", \"fields\": [\"AggLevel\"], \"bind\": {\"input\": \"select\", \"options\": [\"ymd\", \"ym\"], \"labels\": [\"weekly\", \"monthly\"], \"name\": \"aggregation level:\"}, \"init\": {\"AggLevel\": \"ymd\"}}}, \"transform\": [{\"field\": \"timestamp\", \"timeUnit\": \"yearmonthdate\", \"as\": \"ymd\"}, {\"field\": \"timestamp\", \"timeUnit\": \"yearmonth\", \"as\": \"ym\"}, {\"calculate\": \"datum[agglevel.AggLevel]\", \"as\": \"tstamp\"}, {\"aggregate\": [{\"op\": \"max\", \"field\": \"value\", \"as\": \"rvalue\"}], \"groupby\": [\"tstamp\", \"variable\"]}, {\"calculate\": \"time(datum.tstamp) + (datum['variable'] === 'fertilizer adjusted pod rate' ? 0 :  datum['variable'] === 'debt credit ratio' ? 1 :  datum['variable'] === 'total credit' ? 2 :  datum['variable'] === 'total debt' ? 3 :  datum['variable'] === 'pods issued' ? 4 :  datum['variable'] === 'unfertilized beans' ? 5 :  datum['variable'] === 'fertilized beans' ? 6 :  datum['variable'] === 'pods harvestable' ? 7 :  datum['variable'] === 'silo emissions' ? 8 : 9)\", \"as\": \"stack_order\"}, {\"filter\": \"datum.variable == 'debt credit ratio' | datum.variable == 'fertilizer adjusted pod rate'\"}], \"width\": 500}, {\"mark\": {\"type\": \"point\", \"size\": 7}, \"encoding\": {\"color\": {\"field\": \"variable\", \"legend\": {\"title\": null}, \"scale\": {\"domain\": [\"debt credit ratio\", \"fertilizer adjusted pod rate\"], \"range\": [\"#ffc300\", \"#5e60ce\"]}, \"type\": \"nominal\"}, \"x\": {\"axis\": {\"formatType\": \"time\", \"labelAngle\": 0, \"labelExpr\": \"timeFormat(toDate(datum.value), '%b %Y')\", \"labelOverlap\": true, \"labelPadding\": 5, \"labelSeparation\": 25, \"ticks\": false, \"title\": \"Date\"}, \"field\": \"tstamp\", \"type\": \"ordinal\"}, \"y\": {\"axis\": {\"format\": \",%\", \"title\": \"Percent\"}, \"field\": \"rvalue\", \"type\": \"quantitative\"}}, \"height\": 225, \"transform\": [{\"field\": \"timestamp\", \"timeUnit\": \"yearmonthdate\", \"as\": \"ymd\"}, {\"field\": \"timestamp\", \"timeUnit\": \"yearmonth\", \"as\": \"ym\"}, {\"calculate\": \"datum[agglevel.AggLevel]\", \"as\": \"tstamp\"}, {\"aggregate\": [{\"op\": \"max\", \"field\": \"value\", \"as\": \"rvalue\"}], \"groupby\": [\"tstamp\", \"variable\"]}, {\"calculate\": \"time(datum.tstamp) + (datum['variable'] === 'fertilizer adjusted pod rate' ? 0 :  datum['variable'] === 'debt credit ratio' ? 1 :  datum['variable'] === 'total credit' ? 2 :  datum['variable'] === 'total debt' ? 3 :  datum['variable'] === 'pods issued' ? 4 :  datum['variable'] === 'unfertilized beans' ? 5 :  datum['variable'] === 'fertilized beans' ? 6 :  datum['variable'] === 'pods harvestable' ? 7 :  datum['variable'] === 'silo emissions' ? 8 : 9)\", \"as\": \"stack_order\"}, {\"filter\": \"datum.variable == 'debt credit ratio' | datum.variable == 'fertilizer adjusted pod rate'\"}], \"width\": 500}, {\"mark\": {\"type\": \"rule\", \"opacity\": 0}, \"encoding\": {\"tooltip\": [{\"field\": \"tstamp\", \"timeUnit\": \"yearmonthdate\", \"title\": \"date\", \"type\": \"ordinal\"}, {\"field\": \"silo emissions\", \"format\": \",d\", \"title\": \"silo emissions\", \"type\": \"quantitative\"}, {\"field\": \"pods harvestable\", \"format\": \",d\", \"title\": \"pods harvestable\", \"type\": \"quantitative\"}, {\"field\": \"fertilized beans\", \"format\": \",d\", \"title\": \"fertilized beans\", \"type\": \"quantitative\"}, {\"field\": \"unfertilized beans\", \"format\": \",d\", \"title\": \"unfertilized beans\", \"type\": \"quantitative\"}, {\"field\": \"pods issued\", \"format\": \",d\", \"title\": \"pods issued\", \"type\": \"quantitative\"}, {\"field\": \"total debt\", \"format\": \",d\", \"title\": \"total debt\", \"type\": \"quantitative\"}, {\"field\": \"total credit\", \"format\": \",d\", \"title\": \"total credit\", \"type\": \"quantitative\"}, {\"field\": \"debt credit ratio\", \"format\": \".2%\", \"title\": \"debt credit ratio\", \"type\": \"quantitative\"}, {\"field\": \"fertilizer adjusted pod rate\", \"format\": \".2%\", \"title\": \"fertilizer adjusted pod rate\", \"type\": \"quantitative\"}], \"x\": {\"axis\": {\"formatType\": \"time\", \"labelAngle\": 0, \"labelExpr\": \"timeFormat(toDate(datum.value), '%b %Y')\", \"labelOverlap\": true, \"labelPadding\": 5, \"labelSeparation\": 25, \"ticks\": false, \"title\": \"Date\"}, \"field\": \"tstamp\", \"type\": \"ordinal\"}}, \"height\": 225, \"selection\": {\"selector001\": {\"type\": \"single\", \"fields\": [\"tstamp\"], \"nearest\": true, \"on\": \"mouseover\", \"empty\": \"none\", \"clear\": \"mouseout\"}}, \"transform\": [{\"field\": \"timestamp\", \"timeUnit\": \"yearmonthdate\", \"as\": \"ymd\"}, {\"field\": \"timestamp\", \"timeUnit\": \"yearmonth\", \"as\": \"ym\"}, {\"calculate\": \"datum[agglevel.AggLevel]\", \"as\": \"tstamp\"}, {\"aggregate\": [{\"op\": \"max\", \"field\": \"value\", \"as\": \"rvalue\"}], \"groupby\": [\"tstamp\", \"variable\"]}, {\"calculate\": \"time(datum.tstamp) + (datum['variable'] === 'fertilizer adjusted pod rate' ? 0 :  datum['variable'] === 'debt credit ratio' ? 1 :  datum['variable'] === 'total credit' ? 2 :  datum['variable'] === 'total debt' ? 3 :  datum['variable'] === 'pods issued' ? 4 :  datum['variable'] === 'unfertilized beans' ? 5 :  datum['variable'] === 'fertilized beans' ? 6 :  datum['variable'] === 'pods harvestable' ? 7 :  datum['variable'] === 'silo emissions' ? 8 : 9)\", \"as\": \"stack_order\"}, {\"pivot\": \"variable\", \"value\": \"rvalue\", \"groupby\": [\"tstamp\"]}], \"width\": 500}, {\"mark\": {\"type\": \"rule\", \"color\": \"#474440\", \"opacity\": 1, \"strokeDash\": [2.5, 1]}, \"encoding\": {\"x\": {\"axis\": {\"formatType\": \"time\", \"labelAngle\": 0, \"labelExpr\": \"timeFormat(toDate(datum.value), '%b %Y')\", \"labelOverlap\": true, \"labelPadding\": 5, \"labelSeparation\": 25, \"ticks\": false, \"title\": \"Date\"}, \"field\": \"tstamp\", \"type\": \"ordinal\"}}, \"height\": 225, \"transform\": [{\"field\": \"timestamp\", \"timeUnit\": \"yearmonthdate\", \"as\": \"ymd\"}, {\"field\": \"timestamp\", \"timeUnit\": \"yearmonth\", \"as\": \"ym\"}, {\"calculate\": \"datum[agglevel.AggLevel]\", \"as\": \"tstamp\"}, {\"aggregate\": [{\"op\": \"max\", \"field\": \"value\", \"as\": \"rvalue\"}], \"groupby\": [\"tstamp\", \"variable\"]}, {\"calculate\": \"time(datum.tstamp) + (datum['variable'] === 'fertilizer adjusted pod rate' ? 0 :  datum['variable'] === 'debt credit ratio' ? 1 :  datum['variable'] === 'total credit' ? 2 :  datum['variable'] === 'total debt' ? 3 :  datum['variable'] === 'pods issued' ? 4 :  datum['variable'] === 'unfertilized beans' ? 5 :  datum['variable'] === 'fertilized beans' ? 6 :  datum['variable'] === 'pods harvestable' ? 7 :  datum['variable'] === 'silo emissions' ? 8 : 9)\", \"as\": \"stack_order\"}, {\"pivot\": \"variable\", \"value\": \"rvalue\", \"groupby\": [\"tstamp\"]}, {\"filter\": \"year(datum.tstamp) === 2022 && month(datum.tstamp) === 3 && date(datum.tstamp) === 17\"}], \"width\": 500}], \"title\": \"Beanstalk Credit Metrics\"}], \"data\": {\"name\": \"data-cdc8f226652967fee20cc33da54a9842\"}, \"resolve\": {\"axis\": {\"y\": \"independent\"}, \"legend\": {\"color\": \"independent\"}, \"scale\": {\"color\": \"independent\", \"y\": \"independent\"}}, \"$schema\": \"https://vega.github.io/schema/vega-lite/v4.17.0.json\", \"datasets\": {\"data-cdc8f226652967fee20cc33da54a9842\": [{\"timestamp\": \"2021-08-08T00:00:00\", \"variable\": \"debt credit ratio\", \"value\": 0.49564193172184845}, {\"timestamp\": \"2021-08-08T00:00:00\", \"variable\": \"fertilized beans\", \"value\": 0.0}, {\"timestamp\": \"2021-08-08T00:00:00\", \"variable\": \"fertilizer adjusted pod rate\", \"value\": 0.1558248410215308}, {\"timestamp\": \"2021-08-08T00:00:00\", \"variable\": \"pods harvestable\", \"value\": 15863.528585}, {\"timestamp\": \"2021-08-08T00:00:00\", \"variable\": \"pods issued\", \"value\": 18366.370137}, {\"timestamp\": \"2021-08-08T00:00:00\", \"variable\": \"silo emissions\", \"value\": 21192.194431}, {\"timestamp\": \"2021-08-08T00:00:00\", \"variable\": \"total credit\", \"value\": 37055.723016}, {\"timestamp\": \"2021-08-08T00:00:00\", \"variable\": \"total debt\", \"value\": 18366.370137}, {\"timestamp\": \"2021-08-08T00:00:00\", \"variable\": \"unfertilized beans\", \"value\": 0.0}, {\"timestamp\": \"2021-08-15T00:00:00\", \"variable\": \"debt credit ratio\", \"value\": 0.2304386546483435}, {\"timestamp\": \"2021-08-15T00:00:00\", \"variable\": \"fertilized beans\", \"value\": 0.0}, {\"timestamp\": \"2021-08-15T00:00:00\", \"variable\": \"fertilizer adjusted pod rate\", \"value\": 0.11582252051395572}, {\"timestamp\": \"2021-08-15T00:00:00\", \"variable\": \"pods harvestable\", \"value\": 64482.072968}, {\"timestamp\": \"2021-08-15T00:00:00\", \"variable\": \"pods issued\", \"value\": 74731.990746}, {\"timestamp\": \"2021-08-15T00:00:00\", \"variable\": \"silo emissions\", \"value\": 259821.11679000006}, {\"timestamp\": \"2021-08-15T00:00:00\", \"variable\": \"total credit\", \"value\": 324303.1897580001}, {\"timestamp\": \"2021-08-15T00:00:00\", \"variable\": \"total debt\", \"value\": 74731.990746}, {\"timestamp\": \"2021-08-15T00:00:00\", \"variable\": \"unfertilized beans\", \"value\": 0.0}, {\"timestamp\": \"2021-08-22T00:00:00\", \"variable\": \"debt credit ratio\", \"value\": 0.44430196983389175}, {\"timestamp\": \"2021-08-22T00:00:00\", \"variable\": \"fertilized beans\", \"value\": 0.0}, {\"timestamp\": \"2021-08-22T00:00:00\", \"variable\": \"fertilizer adjusted pod rate\", \"value\": 0.3637420551559228}, {\"timestamp\": \"2021-08-22T00:00:00\", \"variable\": \"pods harvestable\", \"value\": 343347.675447}, {\"timestamp\": \"2021-08-22T00:00:00\", \"variable\": \"pods issued\", \"value\": 391889.619058}, {\"timestamp\": \"2021-08-22T00:00:00\", \"variable\": \"silo emissions\", \"value\": 538686.7193240004}, {\"timestamp\": \"2021-08-22T00:00:00\", \"variable\": \"total credit\", \"value\": 882034.3947710004}, {\"timestamp\": \"2021-08-22T00:00:00\", \"variable\": \"total debt\", \"value\": 391889.619058}, {\"timestamp\": \"2021-08-22T00:00:00\", \"variable\": \"unfertilized beans\", \"value\": 0.0}, {\"timestamp\": \"2021-08-29T00:00:00\", \"variable\": \"debt credit ratio\", \"value\": 0.43055377696297037}, {\"timestamp\": \"2021-08-29T00:00:00\", \"variable\": \"fertilized beans\", \"value\": 0.0}, {\"timestamp\": \"2021-08-29T00:00:00\", \"variable\": \"fertilizer adjusted pod rate\", \"value\": 0.40691136152643026}, {\"timestamp\": \"2021-08-29T00:00:00\", \"variable\": \"pods harvestable\", \"value\": 627324.431338}, {\"timestamp\": \"2021-08-29T00:00:00\", \"variable\": \"pods issued\", \"value\": 636728.402302}, {\"timestamp\": \"2021-08-29T00:00:00\", \"variable\": \"silo emissions\", \"value\": 851534.7411290009}, {\"timestamp\": \"2021-08-29T00:00:00\", \"variable\": \"total credit\", \"value\": 1478859.1724670008}, {\"timestamp\": \"2021-08-29T00:00:00\", \"variable\": \"total debt\", \"value\": 636728.402302}, {\"timestamp\": \"2021-08-29T00:00:00\", \"variable\": \"unfertilized beans\", \"value\": 0.0}, {\"timestamp\": \"2021-09-05T00:00:00\", \"variable\": \"debt credit ratio\", \"value\": 0.42710714354966994}, {\"timestamp\": \"2021-09-05T00:00:00\", \"variable\": \"fertilized beans\", \"value\": 0.0}, {\"timestamp\": \"2021-09-05T00:00:00\", \"variable\": \"fertilizer adjusted pod rate\", \"value\": 0.4222684219359376}, {\"timestamp\": \"2021-09-05T00:00:00\", \"variable\": \"pods harvestable\", \"value\": 706483.446645}, {\"timestamp\": \"2021-09-05T00:00:00\", \"variable\": \"pods issued\", \"value\": 806030.167552}, {\"timestamp\": \"2021-09-05T00:00:00\", \"variable\": \"silo emissions\", \"value\": 1180701.489793001}, {\"timestamp\": \"2021-09-05T00:00:00\", \"variable\": \"total credit\", \"value\": 1887184.936438001}, {\"timestamp\": \"2021-09-05T00:00:00\", \"variable\": \"total debt\", \"value\": 806030.167552}, {\"timestamp\": \"2021-09-05T00:00:00\", \"variable\": \"unfertilized beans\", \"value\": 0.0}, {\"timestamp\": \"2021-09-12T00:00:00\", \"variable\": \"debt credit ratio\", \"value\": 0.42078692692792746}, {\"timestamp\": \"2021-09-12T00:00:00\", \"variable\": \"fertilized beans\", \"value\": 0.0}, {\"timestamp\": \"2021-09-12T00:00:00\", \"variable\": \"fertilizer adjusted pod rate\", \"value\": 0.4377464175080218}, {\"timestamp\": \"2021-09-12T00:00:00\", \"variable\": \"pods harvestable\", \"value\": 980711.614214}, {\"timestamp\": \"2021-09-12T00:00:00\", \"variable\": \"pods issued\", \"value\": 1034801.337065}, {\"timestamp\": \"2021-09-12T00:00:00\", \"variable\": \"silo emissions\", \"value\": 1478493.4390890016}, {\"timestamp\": \"2021-09-12T00:00:00\", \"variable\": \"total credit\", \"value\": 2459205.0533030014}, {\"timestamp\": \"2021-09-12T00:00:00\", \"variable\": \"total debt\", \"value\": 1034801.337065}, {\"timestamp\": \"2021-09-12T00:00:00\", \"variable\": \"unfertilized beans\", \"value\": 0.0}, {\"timestamp\": \"2021-09-19T00:00:00\", \"variable\": \"debt credit ratio\", \"value\": 0.0756414630947167}, {\"timestamp\": \"2021-09-19T00:00:00\", \"variable\": \"fertilized beans\", \"value\": 0.0}, {\"timestamp\": \"2021-09-19T00:00:00\", \"variable\": \"fertilizer adjusted pod rate\", \"value\": 0.06704824432954058}, {\"timestamp\": \"2021-09-19T00:00:00\", \"variable\": \"pods harvestable\", \"value\": 1614150.837907}, {\"timestamp\": \"2021-09-19T00:00:00\", \"variable\": \"pods issued\", \"value\": 1619976.719346}, {\"timestamp\": \"2021-09-19T00:00:00\", \"variable\": \"silo emissions\", \"value\": 19802366.67865}, {\"timestamp\": \"2021-09-19T00:00:00\", \"variable\": \"total credit\", \"value\": 21416517.516557}, {\"timestamp\": \"2021-09-19T00:00:00\", \"variable\": \"total debt\", \"value\": 1619976.719346}, {\"timestamp\": \"2021-09-19T00:00:00\", \"variable\": \"unfertilized beans\", \"value\": 0.0}, {\"timestamp\": \"2021-09-26T00:00:00\", \"variable\": \"debt credit ratio\", \"value\": 0.31893825248490537}, {\"timestamp\": \"2021-09-26T00:00:00\", \"variable\": \"fertilized beans\", \"value\": 0.0}, {\"timestamp\": \"2021-09-26T00:00:00\", \"variable\": \"fertilizer adjusted pod rate\", \"value\": 0.3159637198107599}, {\"timestamp\": \"2021-09-26T00:00:00\", \"variable\": \"pods harvestable\", \"value\": 1766971.219841}, {\"timestamp\": \"2021-09-26T00:00:00\", \"variable\": \"pods issued\", \"value\": 7089435.053965}, {\"timestamp\": \"2021-09-26T00:00:00\", \"variable\": \"silo emissions\", \"value\": 20461265.746813}, {\"timestamp\": \"2021-09-26T00:00:00\", \"variable\": \"total credit\", \"value\": 22228236.966654}, {\"timestamp\": \"2021-09-26T00:00:00\", \"variable\": \"total debt\", \"value\": 7089435.053965}, {\"timestamp\": \"2021-09-26T00:00:00\", \"variable\": \"unfertilized beans\", \"value\": 0.0}, {\"timestamp\": \"2021-10-03T00:00:00\", \"variable\": \"debt credit ratio\", \"value\": 0.7225019506827478}, {\"timestamp\": \"2021-10-03T00:00:00\", \"variable\": \"fertilized beans\", \"value\": 0.0}, {\"timestamp\": \"2021-10-03T00:00:00\", \"variable\": \"fertilizer adjusted pod rate\", \"value\": 0.7687673939219095}, {\"timestamp\": \"2021-10-03T00:00:00\", \"variable\": \"pods harvestable\", \"value\": 1956209.270518}, {\"timestamp\": \"2021-10-03T00:00:00\", \"variable\": \"pods issued\", \"value\": 16333394.290166}, {\"timestamp\": \"2021-10-03T00:00:00\", \"variable\": \"silo emissions\", \"value\": 20650503.797496993}, {\"timestamp\": \"2021-10-03T00:00:00\", \"variable\": \"total credit\", \"value\": 22606713.068014994}, {\"timestamp\": \"2021-10-03T00:00:00\", \"variable\": \"total debt\", \"value\": 16333394.290166}, {\"timestamp\": \"2021-10-03T00:00:00\", \"variable\": \"unfertilized beans\", \"value\": 0.0}, {\"timestamp\": \"2021-10-10T00:00:00\", \"variable\": \"debt credit ratio\", \"value\": 0.9755716735691922}, {\"timestamp\": \"2021-10-10T00:00:00\", \"variable\": \"fertilized beans\", \"value\": 0.0}, {\"timestamp\": \"2021-10-10T00:00:00\", \"variable\": \"fertilizer adjusted pod rate\", \"value\": 1.0674978074645554}, {\"timestamp\": \"2021-10-10T00:00:00\", \"variable\": \"pods harvestable\", \"value\": 2013282.174381}, {\"timestamp\": \"2021-10-10T00:00:00\", \"variable\": \"pods issued\", \"value\": 22165826.318339}, {\"timestamp\": \"2021-10-10T00:00:00\", \"variable\": \"silo emissions\", \"value\": 20707576.701362994}, {\"timestamp\": \"2021-10-10T00:00:00\", \"variable\": \"total credit\", \"value\": 22720858.875743993}, {\"timestamp\": \"2021-10-10T00:00:00\", \"variable\": \"total debt\", \"value\": 22165826.318339}, {\"timestamp\": \"2021-10-10T00:00:00\", \"variable\": \"unfertilized beans\", \"value\": 0.0}, {\"timestamp\": \"2021-10-17T00:00:00\", \"variable\": \"debt credit ratio\", \"value\": 1.237871205045889}, {\"timestamp\": \"2021-10-17T00:00:00\", \"variable\": \"fertilized beans\", \"value\": 0.0}, {\"timestamp\": \"2021-10-17T00:00:00\", \"variable\": \"fertilizer adjusted pod rate\", \"value\": 1.369293271868217}, {\"timestamp\": \"2021-10-17T00:00:00\", \"variable\": \"pods harvestable\", \"value\": 2088045.811756}, {\"timestamp\": \"2021-10-17T00:00:00\", \"variable\": \"pods issued\", \"value\": 28310592.463983}, {\"timestamp\": \"2021-10-17T00:00:00\", \"variable\": \"silo emissions\", \"value\": 20782340.33874299}, {\"timestamp\": \"2021-10-17T00:00:00\", \"variable\": \"total credit\", \"value\": 22870386.15049899}, {\"timestamp\": \"2021-10-17T00:00:00\", \"variable\": \"total debt\", \"value\": 28310592.463983}, {\"timestamp\": \"2021-10-17T00:00:00\", \"variable\": \"unfertilized beans\", \"value\": 0.0}, {\"timestamp\": \"2021-10-24T00:00:00\", \"variable\": \"debt credit ratio\", \"value\": 1.5003403226175587}, {\"timestamp\": \"2021-10-24T00:00:00\", \"variable\": \"fertilized beans\", \"value\": 0.0}, {\"timestamp\": \"2021-10-24T00:00:00\", \"variable\": \"fertilizer adjusted pod rate\", \"value\": 1.6878421366336733}, {\"timestamp\": \"2021-10-24T00:00:00\", \"variable\": \"pods harvestable\", \"value\": 2776847.957148}, {\"timestamp\": \"2021-10-24T00:00:00\", \"variable\": \"pods issued\", \"value\": 36380237.801568}, {\"timestamp\": \"2021-10-24T00:00:00\", \"variable\": \"silo emissions\", \"value\": 21471142.48417898}, {\"timestamp\": \"2021-10-24T00:00:00\", \"variable\": \"total credit\", \"value\": 24247990.44132698}, {\"timestamp\": \"2021-10-24T00:00:00\", \"variable\": \"total debt\", \"value\": 36380237.801568}, {\"timestamp\": \"2021-10-24T00:00:00\", \"variable\": \"unfertilized beans\", \"value\": 0.0}, {\"timestamp\": \"2021-10-31T00:00:00\", \"variable\": \"debt credit ratio\", \"value\": 1.725122240078461}, {\"timestamp\": \"2021-10-31T00:00:00\", \"variable\": \"fertilized beans\", \"value\": 0.0}, {\"timestamp\": \"2021-10-31T00:00:00\", \"variable\": \"fertilizer adjusted pod rate\", \"value\": 1.961688020360639}, {\"timestamp\": \"2021-10-31T00:00:00\", \"variable\": \"pods harvestable\", \"value\": 3386193.142204}, {\"timestamp\": \"2021-10-31T00:00:00\", \"variable\": \"pods issued\", \"value\": 43933137.448879}, {\"timestamp\": \"2021-10-31T00:00:00\", \"variable\": \"silo emissions\", \"value\": 22080487.669284966}, {\"timestamp\": \"2021-10-31T00:00:00\", \"variable\": \"total credit\", \"value\": 25466680.811488967}, {\"timestamp\": \"2021-10-31T00:00:00\", \"variable\": \"total debt\", \"value\": 43933137.448879}, {\"timestamp\": \"2021-10-31T00:00:00\", \"variable\": \"unfertilized beans\", \"value\": 0.0}, {\"timestamp\": \"2021-11-07T00:00:00\", \"variable\": \"debt credit ratio\", \"value\": 1.854613620310547}, {\"timestamp\": \"2021-11-07T00:00:00\", \"variable\": \"fertilized beans\", \"value\": 0.0}, {\"timestamp\": \"2021-11-07T00:00:00\", \"variable\": \"fertilizer adjusted pod rate\", \"value\": 2.116405955846708}, {\"timestamp\": \"2021-11-07T00:00:00\", \"variable\": \"pods harvestable\", \"value\": 4066418.76665}, {\"timestamp\": \"2021-11-07T00:00:00\", \"variable\": \"pods issued\", \"value\": 49753964.513145}, {\"timestamp\": \"2021-11-07T00:00:00\", \"variable\": \"silo emissions\", \"value\": 22760713.293780956}, {\"timestamp\": \"2021-11-07T00:00:00\", \"variable\": \"total credit\", \"value\": 26827132.060430955}, {\"timestamp\": \"2021-11-07T00:00:00\", \"variable\": \"total debt\", \"value\": 49753964.513145}, {\"timestamp\": \"2021-11-07T00:00:00\", \"variable\": \"unfertilized beans\", \"value\": 0.0}, {\"timestamp\": \"2021-11-14T00:00:00\", \"variable\": \"debt credit ratio\", \"value\": 2.935538259567287}, {\"timestamp\": \"2021-11-14T00:00:00\", \"variable\": \"fertilized beans\", \"value\": 0.0}, {\"timestamp\": \"2021-11-14T00:00:00\", \"variable\": \"fertilizer adjusted pod rate\", \"value\": 3.528388031626333}, {\"timestamp\": \"2021-11-14T00:00:00\", \"variable\": \"pods harvestable\", \"value\": 4522351.252798}, {\"timestamp\": \"2021-11-14T00:00:00\", \"variable\": \"pods issued\", \"value\": 81428887.071705}, {\"timestamp\": \"2021-11-14T00:00:00\", \"variable\": \"silo emissions\", \"value\": 23216645.779966965}, {\"timestamp\": \"2021-11-14T00:00:00\", \"variable\": \"total credit\", \"value\": 27738997.032764964}, {\"timestamp\": \"2021-11-14T00:00:00\", \"variable\": \"total debt\", \"value\": 81428887.071705}, {\"timestamp\": \"2021-11-14T00:00:00\", \"variable\": \"unfertilized beans\", \"value\": 0.0}, {\"timestamp\": \"2021-11-21T00:00:00\", \"variable\": \"debt credit ratio\", \"value\": 4.40608021222147}, {\"timestamp\": \"2021-11-21T00:00:00\", \"variable\": \"fertilized beans\", \"value\": 0.0}, {\"timestamp\": \"2021-11-21T00:00:00\", \"variable\": \"fertilizer adjusted pod rate\", \"value\": 5.673189196321938}, {\"timestamp\": \"2021-11-21T00:00:00\", \"variable\": \"pods harvestable\", \"value\": 6502944.425067}, {\"timestamp\": \"2021-11-21T00:00:00\", \"variable\": \"pods issued\", \"value\": 139673550.702857}, {\"timestamp\": \"2021-11-21T00:00:00\", \"variable\": \"silo emissions\", \"value\": 25197238.952310957}, {\"timestamp\": \"2021-11-21T00:00:00\", \"variable\": \"total credit\", \"value\": 31700183.377377957}, {\"timestamp\": \"2021-11-21T00:00:00\", \"variable\": \"total debt\", \"value\": 139673550.702857}, {\"timestamp\": \"2021-11-21T00:00:00\", \"variable\": \"unfertilized beans\", \"value\": 0.0}, {\"timestamp\": \"2021-11-28T00:00:00\", \"variable\": \"debt credit ratio\", \"value\": 5.223819514915072}, {\"timestamp\": \"2021-11-28T00:00:00\", \"variable\": \"fertilized beans\", \"value\": 0.0}, {\"timestamp\": \"2021-11-28T00:00:00\", \"variable\": \"fertilizer adjusted pod rate\", \"value\": 6.929304122393534}, {\"timestamp\": \"2021-11-28T00:00:00\", \"variable\": \"pods harvestable\", \"value\": 15388927.237098}, {\"timestamp\": \"2021-11-28T00:00:00\", \"variable\": \"pods issued\", \"value\": 258433577.398921}, {\"timestamp\": \"2021-11-28T00:00:00\", \"variable\": \"silo emissions\", \"value\": 34083221.76442097}, {\"timestamp\": \"2021-11-28T00:00:00\", \"variable\": \"total credit\", \"value\": 49472149.00151897}, {\"timestamp\": \"2021-11-28T00:00:00\", \"variable\": \"total debt\", \"value\": 258433577.398921}, {\"timestamp\": \"2021-11-28T00:00:00\", \"variable\": \"unfertilized beans\", \"value\": 0.0}, {\"timestamp\": \"2021-12-05T00:00:00\", \"variable\": \"debt credit ratio\", \"value\": 6.023145745767038}, {\"timestamp\": \"2021-12-05T00:00:00\", \"variable\": \"fertilized beans\", \"value\": 0.0}, {\"timestamp\": \"2021-12-05T00:00:00\", \"variable\": \"fertilizer adjusted pod rate\", \"value\": 8.280728784226902}, {\"timestamp\": \"2021-12-05T00:00:00\", \"variable\": \"pods harvestable\", \"value\": 22291797.37864}, {\"timestamp\": \"2021-12-05T00:00:00\", \"variable\": \"pods issued\", \"value\": 381131949.645927}, {\"timestamp\": \"2021-12-05T00:00:00\", \"variable\": \"silo emissions\", \"value\": 40986091.90600497}, {\"timestamp\": \"2021-12-05T00:00:00\", \"variable\": \"total credit\", \"value\": 63277889.284644976}, {\"timestamp\": \"2021-12-05T00:00:00\", \"variable\": \"total debt\", \"value\": 381131949.645927}, {\"timestamp\": \"2021-12-05T00:00:00\", \"variable\": \"unfertilized beans\", \"value\": 0.0}, {\"timestamp\": \"2021-12-12T00:00:00\", \"variable\": \"debt credit ratio\", \"value\": 6.331293316779519}, {\"timestamp\": \"2021-12-12T00:00:00\", \"variable\": \"fertilized beans\", \"value\": 0.0}, {\"timestamp\": \"2021-12-12T00:00:00\", \"variable\": \"fertilizer adjusted pod rate\", \"value\": 8.848190111508554}, {\"timestamp\": \"2021-12-12T00:00:00\", \"variable\": \"pods harvestable\", \"value\": 22291797.37864}, {\"timestamp\": \"2021-12-12T00:00:00\", \"variable\": \"pods issued\", \"value\": 400630877.527787}, {\"timestamp\": \"2021-12-12T00:00:00\", \"variable\": \"silo emissions\", \"value\": 40986091.90600497}, {\"timestamp\": \"2021-12-12T00:00:00\", \"variable\": \"total credit\", \"value\": 63277889.284644976}, {\"timestamp\": \"2021-12-12T00:00:00\", \"variable\": \"total debt\", \"value\": 400630877.527787}, {\"timestamp\": \"2021-12-12T00:00:00\", \"variable\": \"unfertilized beans\", \"value\": 0.0}, {\"timestamp\": \"2021-12-19T00:00:00\", \"variable\": \"debt credit ratio\", \"value\": 6.55168381518286}, {\"timestamp\": \"2021-12-19T00:00:00\", \"variable\": \"fertilized beans\", \"value\": 0.0}, {\"timestamp\": \"2021-12-19T00:00:00\", \"variable\": \"fertilizer adjusted pod rate\", \"value\": 9.24712395385105}, {\"timestamp\": \"2021-12-19T00:00:00\", \"variable\": \"pods harvestable\", \"value\": 22293528.436342}, {\"timestamp\": \"2021-12-19T00:00:00\", \"variable\": \"pods issued\", \"value\": 414599405.7706}, {\"timestamp\": \"2021-12-19T00:00:00\", \"variable\": \"silo emissions\", \"value\": 40987822.96370697}, {\"timestamp\": \"2021-12-19T00:00:00\", \"variable\": \"total credit\", \"value\": 63281351.40004897}, {\"timestamp\": \"2021-12-19T00:00:00\", \"variable\": \"total debt\", \"value\": 414599405.7706}, {\"timestamp\": \"2021-12-19T00:00:00\", \"variable\": \"unfertilized beans\", \"value\": 0.0}, {\"timestamp\": \"2021-12-26T00:00:00\", \"variable\": \"debt credit ratio\", \"value\": 7.384077022265828}, {\"timestamp\": \"2021-12-26T00:00:00\", \"variable\": \"fertilized beans\", \"value\": 0.0}, {\"timestamp\": \"2021-12-26T00:00:00\", \"variable\": \"fertilizer adjusted pod rate\", \"value\": 10.804561340367068}, {\"timestamp\": \"2021-12-26T00:00:00\", \"variable\": \"pods harvestable\", \"value\": 22428284.833293}, {\"timestamp\": \"2021-12-26T00:00:00\", \"variable\": \"pods issued\", \"value\": 469264476.039815}, {\"timestamp\": \"2021-12-26T00:00:00\", \"variable\": \"silo emissions\", \"value\": 41122579.36067497}, {\"timestamp\": \"2021-12-26T00:00:00\", \"variable\": \"total credit\", \"value\": 63550864.19396797}, {\"timestamp\": \"2021-12-26T00:00:00\", \"variable\": \"total debt\", \"value\": 469264476.039815}, {\"timestamp\": \"2021-12-26T00:00:00\", \"variable\": \"unfertilized beans\", \"value\": 0.0}, {\"timestamp\": \"2022-01-02T00:00:00\", \"variable\": \"debt credit ratio\", \"value\": 8.618904644771053}, {\"timestamp\": \"2022-01-02T00:00:00\", \"variable\": \"fertilized beans\", \"value\": 0.0}, {\"timestamp\": \"2022-01-02T00:00:00\", \"variable\": \"fertilizer adjusted pod rate\", \"value\": 13.281221321701869}, {\"timestamp\": \"2022-01-02T00:00:00\", \"variable\": \"pods harvestable\", \"value\": 22456997.024328}, {\"timestamp\": \"2022-01-02T00:00:00\", \"variable\": \"pods issued\", \"value\": 548233773.854003}, {\"timestamp\": \"2022-01-02T00:00:00\", \"variable\": \"silo emissions\", \"value\": 41151291.55171597}, {\"timestamp\": \"2022-01-02T00:00:00\", \"variable\": \"total credit\", \"value\": 63608288.57604397}, {\"timestamp\": \"2022-01-02T00:00:00\", \"variable\": \"total debt\", \"value\": 548233773.854003}, {\"timestamp\": \"2022-01-02T00:00:00\", \"variable\": \"unfertilized beans\", \"value\": 0.0}, {\"timestamp\": \"2022-01-09T00:00:00\", \"variable\": \"debt credit ratio\", \"value\": 9.347224441620183}, {\"timestamp\": \"2022-01-09T00:00:00\", \"variable\": \"fertilized beans\", \"value\": 0.0}, {\"timestamp\": \"2022-01-09T00:00:00\", \"variable\": \"fertilizer adjusted pod rate\", \"value\": 14.123191031983074}, {\"timestamp\": \"2022-01-09T00:00:00\", \"variable\": \"pods harvestable\", \"value\": 22456997.024328}, {\"timestamp\": \"2022-01-09T00:00:00\", \"variable\": \"pods issued\", \"value\": 594560949.667628}, {\"timestamp\": \"2022-01-09T00:00:00\", \"variable\": \"silo emissions\", \"value\": 41151291.55171597}, {\"timestamp\": \"2022-01-09T00:00:00\", \"variable\": \"total credit\", \"value\": 63608288.57604397}, {\"timestamp\": \"2022-01-09T00:00:00\", \"variable\": \"total debt\", \"value\": 594560949.667628}, {\"timestamp\": \"2022-01-09T00:00:00\", \"variable\": \"unfertilized beans\", \"value\": 0.0}, {\"timestamp\": \"2022-01-16T00:00:00\", \"variable\": \"debt credit ratio\", \"value\": 9.636612846176575}, {\"timestamp\": \"2022-01-16T00:00:00\", \"variable\": \"fertilized beans\", \"value\": 0.0}, {\"timestamp\": \"2022-01-16T00:00:00\", \"variable\": \"fertilizer adjusted pod rate\", \"value\": 14.697592829280177}, {\"timestamp\": \"2022-01-16T00:00:00\", \"variable\": \"pods harvestable\", \"value\": 22456997.024328}, {\"timestamp\": \"2022-01-16T00:00:00\", \"variable\": \"pods issued\", \"value\": 612968450.815212}, {\"timestamp\": \"2022-01-16T00:00:00\", \"variable\": \"silo emissions\", \"value\": 41151291.55171597}, {\"timestamp\": \"2022-01-16T00:00:00\", \"variable\": \"total credit\", \"value\": 63608288.57604397}, {\"timestamp\": \"2022-01-16T00:00:00\", \"variable\": \"total debt\", \"value\": 612968450.815212}, {\"timestamp\": \"2022-01-16T00:00:00\", \"variable\": \"unfertilized beans\", \"value\": 0.0}, {\"timestamp\": \"2022-01-23T00:00:00\", \"variable\": \"debt credit ratio\", \"value\": 9.793573229006574}, {\"timestamp\": \"2022-01-23T00:00:00\", \"variable\": \"fertilized beans\", \"value\": 0.0}, {\"timestamp\": \"2022-01-23T00:00:00\", \"variable\": \"fertilizer adjusted pod rate\", \"value\": 15.003489207741506}, {\"timestamp\": \"2022-01-23T00:00:00\", \"variable\": \"pods harvestable\", \"value\": 22456997.024328}, {\"timestamp\": \"2022-01-23T00:00:00\", \"variable\": \"pods issued\", \"value\": 622952432.141269}, {\"timestamp\": \"2022-01-23T00:00:00\", \"variable\": \"silo emissions\", \"value\": 41151291.55171597}, {\"timestamp\": \"2022-01-23T00:00:00\", \"variable\": \"total credit\", \"value\": 63608288.57604397}, {\"timestamp\": \"2022-01-23T00:00:00\", \"variable\": \"total debt\", \"value\": 622952432.141269}, {\"timestamp\": \"2022-01-23T00:00:00\", \"variable\": \"unfertilized beans\", \"value\": 0.0}, {\"timestamp\": \"2022-01-30T00:00:00\", \"variable\": \"debt credit ratio\", \"value\": 9.99038511917576}, {\"timestamp\": \"2022-01-30T00:00:00\", \"variable\": \"fertilized beans\", \"value\": 0.0}, {\"timestamp\": \"2022-01-30T00:00:00\", \"variable\": \"fertilizer adjusted pod rate\", \"value\": 15.387337171148959}, {\"timestamp\": \"2022-01-30T00:00:00\", \"variable\": \"pods harvestable\", \"value\": 22459257.966192}, {\"timestamp\": \"2022-01-30T00:00:00\", \"variable\": \"pods issued\", \"value\": 635516475.006264}, {\"timestamp\": \"2022-01-30T00:00:00\", \"variable\": \"silo emissions\", \"value\": 41153552.49358097}, {\"timestamp\": \"2022-01-30T00:00:00\", \"variable\": \"total credit\", \"value\": 63612810.45977297}, {\"timestamp\": \"2022-01-30T00:00:00\", \"variable\": \"total debt\", \"value\": 635516475.006264}, {\"timestamp\": \"2022-01-30T00:00:00\", \"variable\": \"unfertilized beans\", \"value\": 0.0}, {\"timestamp\": \"2022-02-06T00:00:00\", \"variable\": \"debt credit ratio\", \"value\": 10.06210232102443}, {\"timestamp\": \"2022-02-06T00:00:00\", \"variable\": \"fertilized beans\", \"value\": 0.0}, {\"timestamp\": \"2022-02-06T00:00:00\", \"variable\": \"fertilizer adjusted pod rate\", \"value\": 15.40554141817419}, {\"timestamp\": \"2022-02-06T00:00:00\", \"variable\": \"pods harvestable\", \"value\": 22607157.369703}, {\"timestamp\": \"2022-02-06T00:00:00\", \"variable\": \"pods issued\", \"value\": 643054965.637173}, {\"timestamp\": \"2022-02-06T00:00:00\", \"variable\": \"silo emissions\", \"value\": 41301451.89712298}, {\"timestamp\": \"2022-02-06T00:00:00\", \"variable\": \"total credit\", \"value\": 63908609.266825974}, {\"timestamp\": \"2022-02-06T00:00:00\", \"variable\": \"total debt\", \"value\": 643054965.637173}, {\"timestamp\": \"2022-02-06T00:00:00\", \"variable\": \"unfertilized beans\", \"value\": 0.0}, {\"timestamp\": \"2022-02-13T00:00:00\", \"variable\": \"debt credit ratio\", \"value\": 10.06231253738342}, {\"timestamp\": \"2022-02-13T00:00:00\", \"variable\": \"fertilized beans\", \"value\": 0.0}, {\"timestamp\": \"2022-02-13T00:00:00\", \"variable\": \"fertilizer adjusted pod rate\", \"value\": 15.368124197796112}, {\"timestamp\": \"2022-02-13T00:00:00\", \"variable\": \"pods harvestable\", \"value\": 22841056.989067}, {\"timestamp\": \"2022-02-13T00:00:00\", \"variable\": \"pods issued\", \"value\": 647775542.417444}, {\"timestamp\": \"2022-02-13T00:00:00\", \"variable\": \"silo emissions\", \"value\": 41535351.51651596}, {\"timestamp\": \"2022-02-13T00:00:00\", \"variable\": \"total credit\", \"value\": 64376408.50558296}, {\"timestamp\": \"2022-02-13T00:00:00\", \"variable\": \"total debt\", \"value\": 647775542.417444}, {\"timestamp\": \"2022-02-13T00:00:00\", \"variable\": \"unfertilized beans\", \"value\": 0.0}, {\"timestamp\": \"2022-02-20T00:00:00\", \"variable\": \"debt credit ratio\", \"value\": 10.230423708703938}, {\"timestamp\": \"2022-02-20T00:00:00\", \"variable\": \"fertilized beans\", \"value\": 0.0}, {\"timestamp\": \"2022-02-20T00:00:00\", \"variable\": \"fertilizer adjusted pod rate\", \"value\": 15.661340938826324}, {\"timestamp\": \"2022-02-20T00:00:00\", \"variable\": \"pods harvestable\", \"value\": 22984745.660846}, {\"timestamp\": \"2022-02-20T00:00:00\", \"variable\": \"pods issued\", \"value\": 661537927.84579}, {\"timestamp\": \"2022-02-20T00:00:00\", \"variable\": \"silo emissions\", \"value\": 41679040.18831296}, {\"timestamp\": \"2022-02-20T00:00:00\", \"variable\": \"total credit\", \"value\": 64663785.84915896}, {\"timestamp\": \"2022-02-20T00:00:00\", \"variable\": \"total debt\", \"value\": 661537927.84579}, {\"timestamp\": \"2022-02-20T00:00:00\", \"variable\": \"unfertilized beans\", \"value\": 0.0}, {\"timestamp\": \"2022-02-27T00:00:00\", \"variable\": \"debt credit ratio\", \"value\": 10.235604025481702}, {\"timestamp\": \"2022-02-27T00:00:00\", \"variable\": \"fertilized beans\", \"value\": 0.0}, {\"timestamp\": \"2022-02-27T00:00:00\", \"variable\": \"fertilizer adjusted pod rate\", \"value\": 15.65439014716296}, {\"timestamp\": \"2022-02-27T00:00:00\", \"variable\": \"pods harvestable\", \"value\": 23053529.81458}, {\"timestamp\": \"2022-02-27T00:00:00\", \"variable\": \"pods issued\", \"value\": 663281001.462482}, {\"timestamp\": \"2022-02-27T00:00:00\", \"variable\": \"silo emissions\", \"value\": 41747824.34207095}, {\"timestamp\": \"2022-02-27T00:00:00\", \"variable\": \"total credit\", \"value\": 64801354.15665095}, {\"timestamp\": \"2022-02-27T00:00:00\", \"variable\": \"total debt\", \"value\": 663281001.462482}, {\"timestamp\": \"2022-02-27T00:00:00\", \"variable\": \"unfertilized beans\", \"value\": 0.0}, {\"timestamp\": \"2022-03-06T00:00:00\", \"variable\": \"debt credit ratio\", \"value\": 10.56041925355901}, {\"timestamp\": \"2022-03-06T00:00:00\", \"variable\": \"fertilized beans\", \"value\": 0.0}, {\"timestamp\": \"2022-03-06T00:00:00\", \"variable\": \"fertilizer adjusted pod rate\", \"value\": 16.24799725374966}, {\"timestamp\": \"2022-03-06T00:00:00\", \"variable\": \"pods harvestable\", \"value\": 23131834.629737}, {\"timestamp\": \"2022-03-06T00:00:00\", \"variable\": \"pods issued\", \"value\": 685983331.448107}, {\"timestamp\": \"2022-03-06T00:00:00\", \"variable\": \"silo emissions\", \"value\": 41826129.15725195}, {\"timestamp\": \"2022-03-06T00:00:00\", \"variable\": \"total credit\", \"value\": 64957963.786988944}, {\"timestamp\": \"2022-03-06T00:00:00\", \"variable\": \"total debt\", \"value\": 685983331.448107}, {\"timestamp\": \"2022-03-06T00:00:00\", \"variable\": \"unfertilized beans\", \"value\": 0.0}, {\"timestamp\": \"2022-03-13T00:00:00\", \"variable\": \"debt credit ratio\", \"value\": 10.612105649795867}, {\"timestamp\": \"2022-03-13T00:00:00\", \"variable\": \"fertilized beans\", \"value\": 0.0}, {\"timestamp\": \"2022-03-13T00:00:00\", \"variable\": \"fertilizer adjusted pod rate\", \"value\": 16.2925452435312}, {\"timestamp\": \"2022-03-13T00:00:00\", \"variable\": \"pods harvestable\", \"value\": 23422124.303506}, {\"timestamp\": \"2022-03-13T00:00:00\", \"variable\": \"pods issued\", \"value\": 695501943.877728}, {\"timestamp\": \"2022-03-13T00:00:00\", \"variable\": \"silo emissions\", \"value\": 42116418.83106094}, {\"timestamp\": \"2022-03-13T00:00:00\", \"variable\": \"total credit\", \"value\": 65538543.13456694}, {\"timestamp\": \"2022-03-13T00:00:00\", \"variable\": \"total debt\", \"value\": 695501943.877728}, {\"timestamp\": \"2022-03-13T00:00:00\", \"variable\": \"unfertilized beans\", \"value\": 0.0}, {\"timestamp\": \"2022-03-20T00:00:00\", \"variable\": \"debt credit ratio\", \"value\": 10.475847009438189}, {\"timestamp\": \"2022-03-20T00:00:00\", \"variable\": \"fertilized beans\", \"value\": 0.0}, {\"timestamp\": \"2022-03-20T00:00:00\", \"variable\": \"fertilizer adjusted pod rate\", \"value\": 15.924625030993381}, {\"timestamp\": \"2022-03-20T00:00:00\", \"variable\": \"pods harvestable\", \"value\": 24140274.172991}, {\"timestamp\": \"2022-03-20T00:00:00\", \"variable\": \"pods issued\", \"value\": 701618207.425246}, {\"timestamp\": \"2022-03-20T00:00:00\", \"variable\": \"silo emissions\", \"value\": 42834568.700632945}, {\"timestamp\": \"2022-03-20T00:00:00\", \"variable\": \"total credit\", \"value\": 66974842.873623945}, {\"timestamp\": \"2022-03-20T00:00:00\", \"variable\": \"total debt\", \"value\": 701618207.425246}, {\"timestamp\": \"2022-03-20T00:00:00\", \"variable\": \"unfertilized beans\", \"value\": 0.0}, {\"timestamp\": \"2022-03-27T00:00:00\", \"variable\": \"debt credit ratio\", \"value\": 10.296695372417878}, {\"timestamp\": \"2022-03-27T00:00:00\", \"variable\": \"fertilized beans\", \"value\": 0.0}, {\"timestamp\": \"2022-03-27T00:00:00\", \"variable\": \"fertilizer adjusted pod rate\", \"value\": 15.48395064447731}, {\"timestamp\": \"2022-03-27T00:00:00\", \"variable\": \"pods harvestable\", \"value\": 24903980.376859}, {\"timestamp\": \"2022-03-27T00:00:00\", \"variable\": \"pods issued\", \"value\": 705346854.956478}, {\"timestamp\": \"2022-03-27T00:00:00\", \"variable\": \"silo emissions\", \"value\": 43598274.90456999}, {\"timestamp\": \"2022-03-27T00:00:00\", \"variable\": \"total credit\", \"value\": 68502255.281429}, {\"timestamp\": \"2022-03-27T00:00:00\", \"variable\": \"total debt\", \"value\": 705346854.956478}, {\"timestamp\": \"2022-03-27T00:00:00\", \"variable\": \"unfertilized beans\", \"value\": 0.0}, {\"timestamp\": \"2022-04-03T00:00:00\", \"variable\": \"debt credit ratio\", \"value\": 9.903853177171431}, {\"timestamp\": \"2022-04-03T00:00:00\", \"variable\": \"fertilized beans\", \"value\": 0.0}, {\"timestamp\": \"2022-04-03T00:00:00\", \"variable\": \"fertilizer adjusted pod rate\", \"value\": 14.588370834787636}, {\"timestamp\": \"2022-04-03T00:00:00\", \"variable\": \"pods harvestable\", \"value\": 26430520.61982}, {\"timestamp\": \"2022-04-03T00:00:00\", \"variable\": \"pods issued\", \"value\": 708673539.483889}, {\"timestamp\": \"2022-04-03T00:00:00\", \"variable\": \"silo emissions\", \"value\": 45124815.14761595}, {\"timestamp\": \"2022-04-03T00:00:00\", \"variable\": \"total credit\", \"value\": 71555335.76743594}, {\"timestamp\": \"2022-04-03T00:00:00\", \"variable\": \"total debt\", \"value\": 708673539.483889}, {\"timestamp\": \"2022-04-03T00:00:00\", \"variable\": \"unfertilized beans\", \"value\": 0.0}, {\"timestamp\": \"2022-04-10T00:00:00\", \"variable\": \"debt credit ratio\", \"value\": 9.363968386160323}, {\"timestamp\": \"2022-04-10T00:00:00\", \"variable\": \"fertilized beans\", \"value\": 0.0}, {\"timestamp\": \"2022-04-10T00:00:00\", \"variable\": \"fertilizer adjusted pod rate\", \"value\": 12.941765642518924}, {\"timestamp\": \"2022-04-10T00:00:00\", \"variable\": \"pods harvestable\", \"value\": 28608689.233751}, {\"timestamp\": \"2022-04-10T00:00:00\", \"variable\": \"pods issued\", \"value\": 710834506.06925}, {\"timestamp\": \"2022-04-10T00:00:00\", \"variable\": \"silo emissions\", \"value\": 47302983.761625946}, {\"timestamp\": \"2022-04-10T00:00:00\", \"variable\": \"total credit\", \"value\": 75911672.99537694}, {\"timestamp\": \"2022-04-10T00:00:00\", \"variable\": \"total debt\", \"value\": 710834506.06925}, {\"timestamp\": \"2022-04-10T00:00:00\", \"variable\": \"unfertilized beans\", \"value\": 0.0}, {\"timestamp\": \"2022-04-17T00:00:00\", \"variable\": \"debt credit ratio\", \"value\": 6.360132077483793}, {\"timestamp\": \"2022-04-17T00:00:00\", \"variable\": \"fertilized beans\", \"value\": 0.0}, {\"timestamp\": \"2022-04-17T00:00:00\", \"variable\": \"fertilizer adjusted pod rate\", \"value\": 37.39908837854603}, {\"timestamp\": \"2022-04-17T00:00:00\", \"variable\": \"pods harvestable\", \"value\": 55438959.694302}, {\"timestamp\": \"2022-04-17T00:00:00\", \"variable\": \"pods issued\", \"value\": 737663715.081254}, {\"timestamp\": \"2022-04-17T00:00:00\", \"variable\": \"silo emissions\", \"value\": 74133254.22224994}, {\"timestamp\": \"2022-04-17T00:00:00\", \"variable\": \"total credit\", \"value\": 129572213.91655195}, {\"timestamp\": \"2022-04-17T00:00:00\", \"variable\": \"total debt\", \"value\": 824096394.081254}, {\"timestamp\": \"2022-04-17T00:00:00\", \"variable\": \"unfertilized beans\", \"value\": 86432679.0}, {\"timestamp\": \"2022-08-07T00:00:00\", \"variable\": \"debt credit ratio\", \"value\": 6.238192987182977}, {\"timestamp\": \"2022-08-07T00:00:00\", \"variable\": \"fertilized beans\", \"value\": 1912625.803108}, {\"timestamp\": \"2022-08-07T00:00:00\", \"variable\": \"fertilizer adjusted pod rate\", \"value\": 26.41952976190462}, {\"timestamp\": \"2022-08-07T00:00:00\", \"variable\": \"pods harvestable\", \"value\": 57351922.095057}, {\"timestamp\": \"2022-08-07T00:00:00\", \"variable\": \"pods issued\", \"value\": 738620191.031981}, {\"timestamp\": \"2022-08-07T00:00:00\", \"variable\": \"silo emissions\", \"value\": 74133254.22224994}, {\"timestamp\": \"2022-08-07T00:00:00\", \"variable\": \"total credit\", \"value\": 133397802.12041494}, {\"timestamp\": \"2022-08-07T00:00:00\", \"variable\": \"total debt\", \"value\": 832161233.693195}, {\"timestamp\": \"2022-08-07T00:00:00\", \"variable\": \"unfertilized beans\", \"value\": 93541042.66121396}, {\"timestamp\": \"2022-08-14T00:00:00\", \"variable\": \"debt credit ratio\", \"value\": 6.8413574299727}, {\"timestamp\": \"2022-08-14T00:00:00\", \"variable\": \"fertilized beans\", \"value\": 2067319.5795749996}, {\"timestamp\": \"2022-08-14T00:00:00\", \"variable\": \"fertilizer adjusted pod rate\", \"value\": 29.721639898538577}, {\"timestamp\": \"2022-08-14T00:00:00\", \"variable\": \"pods harvestable\", \"value\": 57507623.000486}, {\"timestamp\": \"2022-08-14T00:00:00\", \"variable\": \"pods issued\", \"value\": 820798740.86972}, {\"timestamp\": \"2022-08-14T00:00:00\", \"variable\": \"silo emissions\", \"value\": 74133254.22224994}, {\"timestamp\": \"2022-08-14T00:00:00\", \"variable\": \"total credit\", \"value\": 133708196.80231094}, {\"timestamp\": \"2022-08-14T00:00:00\", \"variable\": \"total debt\", \"value\": 914745565.6417419}, {\"timestamp\": \"2022-08-14T00:00:00\", \"variable\": \"unfertilized beans\", \"value\": 93946824.77202192}, {\"timestamp\": \"2022-08-21T00:00:00\", \"variable\": \"debt credit ratio\", \"value\": 6.841405514538064}, {\"timestamp\": \"2022-08-21T00:00:00\", \"variable\": \"fertilized beans\", \"value\": 2085458.393384}, {\"timestamp\": \"2022-08-21T00:00:00\", \"variable\": \"fertilizer adjusted pod rate\", \"value\": 29.03801313764099}, {\"timestamp\": \"2022-08-21T00:00:00\", \"variable\": \"pods harvestable\", \"value\": 57528111.46789}, {\"timestamp\": \"2022-08-21T00:00:00\", \"variable\": \"pods issued\", \"value\": 821073540.366841}, {\"timestamp\": \"2022-08-21T00:00:00\", \"variable\": \"silo emissions\", \"value\": 74133254.22224994}, {\"timestamp\": \"2022-08-21T00:00:00\", \"variable\": \"total credit\", \"value\": 133746824.08352393}, {\"timestamp\": \"2022-08-21T00:00:00\", \"variable\": \"total debt\", \"value\": 915016259.836973}, {\"timestamp\": \"2022-08-21T00:00:00\", \"variable\": \"unfertilized beans\", \"value\": 93942719.47013193}, {\"timestamp\": \"2022-08-28T00:00:00\", \"variable\": \"debt credit ratio\", \"value\": 6.842867107271232}, {\"timestamp\": \"2022-08-28T00:00:00\", \"variable\": \"fertilized beans\", \"value\": 2099056.5227339966}, {\"timestamp\": \"2022-08-28T00:00:00\", \"variable\": \"fertilizer adjusted pod rate\", \"value\": 28.99886891901857}, {\"timestamp\": \"2022-08-28T00:00:00\", \"variable\": \"pods harvestable\", \"value\": 57543771.032445}, {\"timestamp\": \"2022-08-28T00:00:00\", \"variable\": \"pods issued\", \"value\": 821482327.568473}, {\"timestamp\": \"2022-08-28T00:00:00\", \"variable\": \"silo emissions\", \"value\": 74133254.22224994}, {\"timestamp\": \"2022-08-28T00:00:00\", \"variable\": \"total credit\", \"value\": 133776081.77742894}, {\"timestamp\": \"2022-08-28T00:00:00\", \"variable\": \"total debt\", \"value\": 915411949.7343949}, {\"timestamp\": \"2022-08-28T00:00:00\", \"variable\": \"unfertilized beans\", \"value\": 93929622.16592193}, {\"timestamp\": \"2022-09-04T00:00:00\", \"variable\": \"debt credit ratio\", \"value\": 6.868341214594486}, {\"timestamp\": \"2022-09-04T00:00:00\", \"variable\": \"fertilized beans\", \"value\": 2106096.6592569994}, {\"timestamp\": \"2022-09-04T00:00:00\", \"variable\": \"fertilizer adjusted pod rate\", \"value\": 29.14084203421115}, {\"timestamp\": \"2022-09-04T00:00:00\", \"variable\": \"pods harvestable\", \"value\": 57552657.108276}, {\"timestamp\": \"2022-09-04T00:00:00\", \"variable\": \"pods issued\", \"value\": 825006365.807399}, {\"timestamp\": \"2022-09-04T00:00:00\", \"variable\": \"silo emissions\", \"value\": 74133254.22224994}, {\"timestamp\": \"2022-09-04T00:00:00\", \"variable\": \"total credit\", \"value\": 133792007.98978293}, {\"timestamp\": \"2022-09-04T00:00:00\", \"variable\": \"total debt\", \"value\": 918929162.659581}, {\"timestamp\": \"2022-09-04T00:00:00\", \"variable\": \"unfertilized beans\", \"value\": 93922796.85218193}, {\"timestamp\": \"2022-09-11T00:00:00\", \"variable\": \"debt credit ratio\", \"value\": 6.868700132361855}, {\"timestamp\": \"2022-09-11T00:00:00\", \"variable\": \"fertilized beans\", \"value\": 2109126.1571129984}, {\"timestamp\": \"2022-09-11T00:00:00\", \"variable\": \"fertilizer adjusted pod rate\", \"value\": 29.116826066011512}, {\"timestamp\": \"2022-09-11T00:00:00\", \"variable\": \"pods harvestable\", \"value\": 57557620.463935}, {\"timestamp\": \"2022-09-11T00:00:00\", \"variable\": \"pods issued\", \"value\": 825112316.148051}, {\"timestamp\": \"2022-09-11T00:00:00\", \"variable\": \"silo emissions\", \"value\": 74133254.22224994}, {\"timestamp\": \"2022-09-11T00:00:00\", \"variable\": \"total credit\", \"value\": 133800000.84329794}, {\"timestamp\": \"2022-09-11T00:00:00\", \"variable\": \"total debt\", \"value\": 919032083.5023769}, {\"timestamp\": \"2022-09-11T00:00:00\", \"variable\": \"unfertilized beans\", \"value\": 93919767.35432592}, {\"timestamp\": \"2022-09-18T00:00:00\", \"variable\": \"debt credit ratio\", \"value\": 6.872038062572187}, {\"timestamp\": \"2022-09-18T00:00:00\", \"variable\": \"fertilized beans\", \"value\": 2110090.104752999}, {\"timestamp\": \"2022-09-18T00:00:00\", \"variable\": \"fertilizer adjusted pod rate\", \"value\": 29.118640170878805}, {\"timestamp\": \"2022-09-18T00:00:00\", \"variable\": \"pods harvestable\", \"value\": 57560176.881735}, {\"timestamp\": \"2022-09-18T00:00:00\", \"variable\": \"pods issued\", \"value\": 825583248.930806}, {\"timestamp\": \"2022-09-18T00:00:00\", \"variable\": \"silo emissions\", \"value\": 74133254.22224994}, {\"timestamp\": \"2022-09-18T00:00:00\", \"variable\": \"total credit\", \"value\": 133803521.20873794}, {\"timestamp\": \"2022-09-18T00:00:00\", \"variable\": \"total debt\", \"value\": 919502890.652632}, {\"timestamp\": \"2022-09-18T00:00:00\", \"variable\": \"unfertilized beans\", \"value\": 93919641.72182591}, {\"timestamp\": \"2022-09-25T00:00:00\", \"variable\": \"debt credit ratio\", \"value\": 6.894827149934388}, {\"timestamp\": \"2022-09-25T00:00:00\", \"variable\": \"fertilized beans\", \"value\": 2110124.532120999}, {\"timestamp\": \"2022-09-25T00:00:00\", \"variable\": \"fertilizer adjusted pod rate\", \"value\": 29.2740569227479}, {\"timestamp\": \"2022-09-25T00:00:00\", \"variable\": \"pods harvestable\", \"value\": 57560234.952328}, {\"timestamp\": \"2022-09-25T00:00:00\", \"variable\": \"pods issued\", \"value\": 828631979.817323}, {\"timestamp\": \"2022-09-25T00:00:00\", \"variable\": \"silo emissions\", \"value\": 74133254.22224994}, {\"timestamp\": \"2022-09-25T00:00:00\", \"variable\": \"total credit\", \"value\": 133803613.70669894}, {\"timestamp\": \"2022-09-25T00:00:00\", \"variable\": \"total debt\", \"value\": 922552788.5442809}, {\"timestamp\": \"2022-09-25T00:00:00\", \"variable\": \"unfertilized beans\", \"value\": 93920808.72695792}, {\"timestamp\": \"2022-10-02T00:00:00\", \"variable\": \"debt credit ratio\", \"value\": 6.895389366331024}, {\"timestamp\": \"2022-10-02T00:00:00\", \"variable\": \"fertilized beans\", \"value\": 2110124.532120999}, {\"timestamp\": \"2022-10-02T00:00:00\", \"variable\": \"fertilizer adjusted pod rate\", \"value\": 29.2599414747242}, {\"timestamp\": \"2022-10-02T00:00:00\", \"variable\": \"pods harvestable\", \"value\": 57560234.952328}, {\"timestamp\": \"2022-10-02T00:00:00\", \"variable\": \"pods issued\", \"value\": 828707206.402878}, {\"timestamp\": \"2022-10-02T00:00:00\", \"variable\": \"silo emissions\", \"value\": 74133254.22224994}, {\"timestamp\": \"2022-10-02T00:00:00\", \"variable\": \"total credit\", \"value\": 133803613.70669894}, {\"timestamp\": \"2022-10-02T00:00:00\", \"variable\": \"total debt\", \"value\": 922628015.129836}, {\"timestamp\": \"2022-10-02T00:00:00\", \"variable\": \"unfertilized beans\", \"value\": 93920808.72695792}, {\"timestamp\": \"2022-10-09T00:00:00\", \"variable\": \"debt credit ratio\", \"value\": 6.895867857049252}, {\"timestamp\": \"2022-10-09T00:00:00\", \"variable\": \"fertilized beans\", \"value\": 2110124.532120999}, {\"timestamp\": \"2022-10-09T00:00:00\", \"variable\": \"fertilizer adjusted pod rate\", \"value\": 29.25629584376979}, {\"timestamp\": \"2022-10-09T00:00:00\", \"variable\": \"pods harvestable\", \"value\": 57560234.952328}, {\"timestamp\": \"2022-10-09T00:00:00\", \"variable\": \"pods issued\", \"value\": 828771230.190102}, {\"timestamp\": \"2022-10-09T00:00:00\", \"variable\": \"silo emissions\", \"value\": 74133254.22224994}, {\"timestamp\": \"2022-10-09T00:00:00\", \"variable\": \"total credit\", \"value\": 133803613.70669894}, {\"timestamp\": \"2022-10-09T00:00:00\", \"variable\": \"total debt\", \"value\": 922692038.9170599}, {\"timestamp\": \"2022-10-09T00:00:00\", \"variable\": \"unfertilized beans\", \"value\": 93920808.72695792}]}}, {\"mode\": \"vega-lite\"});\n",
       "</script>"
      ],
      "text/plain": [
       "alt.VConcatChart(...)"
      ]
     },
     "execution_count": 15,
     "metadata": {},
     "output_type": "execute_result"
    }
   ],
   "source": [
    "# alt.data_transformers.disable_max_rows()\n",
    "\n",
    "dropdown = alt.binding_select(\n",
    "    options=['ymd', 'ym'], labels=[\"weekly\", \"monthly\"], name='aggregation level:')\n",
    "selection = alt.selection_single(\n",
    "    name=\"agglevel\", fields=['AggLevel'], bind=dropdown, init={\"AggLevel\": 'ymd'}\n",
    ")\n",
    "selection_rule = alt.selection_single(\n",
    "    fields=['tstamp'], nearest=True, on='mouseover', empty='none', clear='mouseout'\n",
    ")\n",
    "colors = {\n",
    "    # credit components \n",
    "    'fertilized beans': '#57cc99', # green   \n",
    "    'pods harvestable': '#38a3a5', # mid blue \n",
    "    'silo emissions': '#22577a', # navy blue \n",
    "    # debt components \n",
    "    'unfertilized beans': \"#ef9b20\", # Magenta 50\n",
    "    'pods issued': '#fa4d56', # Red 50\n",
    "    # overall \n",
    "    'total debt': '#9f1853', # Magenta 70 \n",
    "    'total credit': '#80ed99', # mint green \n",
    "    'debt credit ratio': '#ffc300', # gold \n",
    "    'fertilizer adjusted pod rate': '#5e60ce' # purple-ish\n",
    "}\n",
    "format_decimal = \",d\"\n",
    "format_percent = \".2%\"\n",
    "tooltip_formats = {\n",
    "    'fertilized beans':  format_decimal,\n",
    "    'unfertilized beans':  format_decimal,\n",
    "    'pods harvestable':  format_decimal,\n",
    "    'silo emissions':  format_decimal,\n",
    "    'pods issued':  format_decimal,\n",
    "    'total debt':  format_decimal,\n",
    "    'total credit':  format_decimal,\n",
    "    'debt credit ratio': format_percent, \n",
    "    'fertilizer adjusted pod rate': format_percent,\n",
    "}\n",
    "assert set(colors.keys()) == set(metrics)\n",
    "assert set(tooltip_formats.keys()) == set(metrics)\n",
    "\n",
    "base = (\n",
    "    alt.Chart(source)\n",
    "    .properties(height=225, width=500)\n",
    "    .transform_timeunit(\n",
    "        ymd=\"yearmonthdate(timestamp)\", \n",
    "        ym=\"yearmonth(timestamp)\", \n",
    "    )\n",
    "    .transform_calculate(\n",
    "        tstamp=\"datum[agglevel.AggLevel]\", \n",
    "    )\n",
    "    .transform_aggregate(\n",
    "        groupby=[\"tstamp\", 'variable'], rvalue='max(value)'\n",
    "    )\n",
    "    .transform_calculate(\n",
    "        # creates numeric stack order key encoding both x position and order of stacked area labels into single value \n",
    "        stack_order=f'time(datum.tstamp) + ({stack_order_expr(\"variable\", list(reversed(metrics)))})'\n",
    "    )\n",
    "    .encode(\n",
    "        x=alt.X(\n",
    "            \"tstamp:O\", \n",
    "            axis=alt.Axis(\n",
    "                formatType=\"time\", \n",
    "                ticks=False, \n",
    "                labelExpr=\"timeFormat(toDate(datum.value), '%b %Y')\", \n",
    "                labelOverlap=True, \n",
    "                labelSeparation=25, \n",
    "                labelPadding=5, \n",
    "                title=\"Date\", \n",
    "                labelAngle=0, \n",
    "            ), \n",
    "        ),   \n",
    "    )\n",
    ")\n",
    "base_bdv = (\n",
    "    base\n",
    "    .encode(\n",
    "        y=alt.Y(\"rvalue:Q\", axis=alt.Axis(title=\"BDV\", format=\".3~s\", labelExpr=\"replace(datum.label, 'G', 'B')\")),\n",
    "        color=alt.Color(\n",
    "            \"variable:N\", \n",
    "            scale=alt.Scale(\n",
    "                domain=metrics_credit + metrics_debt + metrics_credit_debt_aggregate, \n",
    "                range=[colors[m] for m in metrics_credit + metrics_debt + metrics_credit_debt_aggregate]\n",
    "            ),\n",
    "            legend=alt.Legend(title=None)\n",
    "        ),\n",
    "        order=alt.Order('stack_order:Q', sort='ascending')\n",
    "    )\n",
    ")\n",
    "base_ratio = base.encode(\n",
    "    y=alt.Y(\"rvalue:Q\", axis=alt.Axis(title=\"Percent\", format=\",%\")),\n",
    "    color=alt.Color(\n",
    "        \"variable:N\", \n",
    "        scale=alt.Scale(\n",
    "            domain=metrics_meta, range=[colors[m] for m in metrics_meta]\n",
    "        ),\n",
    "        legend=alt.Legend(title=None)\n",
    "    ),\n",
    ")\n",
    "rule_exploit = (\n",
    "    # selection captures nearest timestamp (for current mouse position) \n",
    "    # tooltip rendered uses this data point (pivoted, so we have all data for this timestamp) \n",
    "    base\n",
    "    .transform_pivot('variable', value='rvalue', groupby=['tstamp'])\n",
    "    .transform_filter(\"year(datum.tstamp) === 2022 && month(datum.tstamp) === 3 && date(datum.tstamp) === 17\")\n",
    "    .mark_rule(opacity=1, color='#474440', strokeDash=[2.5,1])\n",
    ")\n",
    "rule = (\n",
    "    # selection captures nearest timestamp (for current mouse position) \n",
    "    # tooltip rendered uses this data point (pivoted, so we have all data for this timestamp) \n",
    "    base\n",
    "    .transform_pivot('variable', value='rvalue', groupby=['tstamp'])\n",
    "    .mark_rule(opacity=0)\n",
    "    .encode(\n",
    "        tooltip=(\n",
    "            [alt.Tooltip('tstamp:O', timeUnit=\"yearmonthdate\", title=\"date\")] + \n",
    "            [\n",
    "                alt.Tooltip(\n",
    "                    f'{m}:Q', \n",
    "                    format=tooltip_formats[m], \n",
    "                    title=m.replace(\"_\", \" \").replace(\" cumulative\", \"\")\n",
    "                ) for m in metrics\n",
    "            ] \n",
    "        ) \n",
    "    )\n",
    "    .add_selection(selection_rule)\n",
    ")\n",
    "credit = (\n",
    "    base_bdv\n",
    "    .mark_bar()\n",
    "    .transform_filter(condition_union(\"==\", \"|\", metrics_credit))\n",
    ")\n",
    "debt = (\n",
    "    base_bdv\n",
    "    .mark_bar()\n",
    "    .transform_filter(condition_union(\"==\", \"|\", metrics_debt))\n",
    ") \n",
    "lines_debt_credit = (\n",
    "    base_bdv\n",
    "    .mark_line()\n",
    "    .transform_filter(condition_union('==', '|', metrics_credit_debt_aggregate))\n",
    ") \n",
    "line_ratio = (\n",
    "    base_ratio\n",
    "    .mark_line()\n",
    "    .transform_filter(condition_union('==', '|', metrics_meta))\n",
    ")\n",
    "point_ratio = (\n",
    "    base_ratio\n",
    "    .mark_point(size=7)\n",
    "    .transform_filter(condition_union('==', '|', metrics_meta))\n",
    ")\n",
    "\n",
    "c = (\n",
    "    alt\n",
    "    .vconcat(\n",
    "        alt.layer(debt, credit, lines_debt_credit, rule, rule_exploit).properties(title=\"Beanstalk Credit Profile\"),\n",
    "        alt.layer(line_ratio, point_ratio, rule, rule_exploit).properties(title=\"Beanstalk Credit Metrics\"),\n",
    "    )\n",
    "    .resolve_legend(color=\"independent\")\n",
    "    .resolve_axis(y=\"independent\")\n",
    "    .resolve_scale(y=\"independent\", color=\"independent\")\n",
    "    .add_selection(selection) \n",
    ")\n",
    "\n",
    "\n",
    "css_lines = [\n",
    "    \"div.chart-wrapper { display: flex; flex-direction: column; }\", \n",
    "    \"form.vega-bindings { display: block; order: -1; }\", \n",
    "    \"canvas { order: 1 }\", \n",
    "    \"\"\"\n",
    "    div.vega-bind { \n",
    "        display: inline-block; \n",
    "        padding: 5px; \n",
    "    }\n",
    "    span.vega-bind-name { \n",
    "        font-weight: 500 !important; \n",
    "        padding-right: 5px !important; \n",
    "    }\n",
    "    span.vega-bind-name span { \n",
    "        font-weight: 600 !important; \n",
    "        padding-right: 5px !important; \n",
    "    }\n",
    "    div.vega-bind select { \n",
    "        border: .5px solid #000000;\n",
    "        border-radius: 3px;\n",
    "    }\n",
    "    \"\"\",\n",
    "    \"#vg-tooltip-element tr:nth-child(1) { font-weight: bold }\", \n",
    "    \"#vg-tooltip-element tr:nth-child(1) td:first-child { opacity: 0 }\\n\", \n",
    "]\n",
    "for i, m in enumerate(metrics): \n",
    "    # i+2 bc css uses one based indexing and we also don't color timestamp (first element in tooltip)\n",
    "    css_lines.append(\n",
    "        \"#vg-tooltip-element tr:nth-child(%d) td:first-child { color: %s }\\n\" % (i+2, colors[m])\n",
    "    )\n",
    "css = \"\\n\".join(css_lines)\n",
    "    \n",
    "apply_css(\"\")\n",
    "# apply_css(css) \n",
    "c"
   ]
  },
  {
   "cell_type": "code",
   "execution_count": 16,
   "id": "d6752862",
   "metadata": {},
   "outputs": [
    {
     "data": {
      "application/json": {
       "css": "div.chart-wrapper { display: flex; flex-direction: column; }\nform.vega-bindings { display: block; order: -1; }\ncanvas { order: 1 }\n\n    div.vega-bind { \n        display: inline-block; \n        padding: 5px; \n    }\n    span.vega-bind-name { \n        font-weight: 500 !important; \n        padding-right: 5px !important; \n    }\n    span.vega-bind-name span { \n        font-weight: 600 !important; \n        padding-right: 5px !important; \n    }\n    div.vega-bind select { \n        border: .5px solid #000000;\n        border-radius: 3px;\n    }\n    \n#vg-tooltip-element tr:nth-child(1) { font-weight: bold }\n#vg-tooltip-element tr:nth-child(1) td:first-child { opacity: 0 }\n\n#vg-tooltip-element tr:nth-child(2) td:first-child { color: #22577a }\n\n#vg-tooltip-element tr:nth-child(3) td:first-child { color: #38a3a5 }\n\n#vg-tooltip-element tr:nth-child(4) td:first-child { color: #57cc99 }\n\n#vg-tooltip-element tr:nth-child(5) td:first-child { color: #ef9b20 }\n\n#vg-tooltip-element tr:nth-child(6) td:first-child { color: #fa4d56 }\n\n#vg-tooltip-element tr:nth-child(7) td:first-child { color: #9f1853 }\n\n#vg-tooltip-element tr:nth-child(8) td:first-child { color: #80ed99 }\n\n#vg-tooltip-element tr:nth-child(9) td:first-child { color: #ffc300 }\n\n#vg-tooltip-element tr:nth-child(10) td:first-child { color: #5e60ce }\n",
       "spec": {
        "$schema": "https://vega.github.io/schema/vega-lite/v4.17.0.json",
        "config": {
         "view": {
          "continuousHeight": 300,
          "continuousWidth": 400
         }
        },
        "data": {
         "name": "data-cdc8f226652967fee20cc33da54a9842"
        },
        "datasets": {
         "data-cdc8f226652967fee20cc33da54a9842": [
          {
           "timestamp": "2021-08-08T00:00:00",
           "value": 0.49564193172184845,
           "variable": "debt credit ratio"
          },
          {
           "timestamp": "2021-08-08T00:00:00",
           "value": 0,
           "variable": "fertilized beans"
          },
          {
           "timestamp": "2021-08-08T00:00:00",
           "value": 0.1558248410215308,
           "variable": "fertilizer adjusted pod rate"
          },
          {
           "timestamp": "2021-08-08T00:00:00",
           "value": 15863.528585,
           "variable": "pods harvestable"
          },
          {
           "timestamp": "2021-08-08T00:00:00",
           "value": 18366.370137,
           "variable": "pods issued"
          },
          {
           "timestamp": "2021-08-08T00:00:00",
           "value": 21192.194431,
           "variable": "silo emissions"
          },
          {
           "timestamp": "2021-08-08T00:00:00",
           "value": 37055.723016,
           "variable": "total credit"
          },
          {
           "timestamp": "2021-08-08T00:00:00",
           "value": 18366.370137,
           "variable": "total debt"
          },
          {
           "timestamp": "2021-08-08T00:00:00",
           "value": 0,
           "variable": "unfertilized beans"
          },
          {
           "timestamp": "2021-08-15T00:00:00",
           "value": 0.2304386546483435,
           "variable": "debt credit ratio"
          },
          {
           "timestamp": "2021-08-15T00:00:00",
           "value": 0,
           "variable": "fertilized beans"
          },
          {
           "timestamp": "2021-08-15T00:00:00",
           "value": 0.11582252051395572,
           "variable": "fertilizer adjusted pod rate"
          },
          {
           "timestamp": "2021-08-15T00:00:00",
           "value": 64482.072968,
           "variable": "pods harvestable"
          },
          {
           "timestamp": "2021-08-15T00:00:00",
           "value": 74731.990746,
           "variable": "pods issued"
          },
          {
           "timestamp": "2021-08-15T00:00:00",
           "value": 259821.11679000006,
           "variable": "silo emissions"
          },
          {
           "timestamp": "2021-08-15T00:00:00",
           "value": 324303.1897580001,
           "variable": "total credit"
          },
          {
           "timestamp": "2021-08-15T00:00:00",
           "value": 74731.990746,
           "variable": "total debt"
          },
          {
           "timestamp": "2021-08-15T00:00:00",
           "value": 0,
           "variable": "unfertilized beans"
          },
          {
           "timestamp": "2021-08-22T00:00:00",
           "value": 0.44430196983389175,
           "variable": "debt credit ratio"
          },
          {
           "timestamp": "2021-08-22T00:00:00",
           "value": 0,
           "variable": "fertilized beans"
          },
          {
           "timestamp": "2021-08-22T00:00:00",
           "value": 0.3637420551559228,
           "variable": "fertilizer adjusted pod rate"
          },
          {
           "timestamp": "2021-08-22T00:00:00",
           "value": 343347.675447,
           "variable": "pods harvestable"
          },
          {
           "timestamp": "2021-08-22T00:00:00",
           "value": 391889.619058,
           "variable": "pods issued"
          },
          {
           "timestamp": "2021-08-22T00:00:00",
           "value": 538686.7193240004,
           "variable": "silo emissions"
          },
          {
           "timestamp": "2021-08-22T00:00:00",
           "value": 882034.3947710004,
           "variable": "total credit"
          },
          {
           "timestamp": "2021-08-22T00:00:00",
           "value": 391889.619058,
           "variable": "total debt"
          },
          {
           "timestamp": "2021-08-22T00:00:00",
           "value": 0,
           "variable": "unfertilized beans"
          },
          {
           "timestamp": "2021-08-29T00:00:00",
           "value": 0.43055377696297037,
           "variable": "debt credit ratio"
          },
          {
           "timestamp": "2021-08-29T00:00:00",
           "value": 0,
           "variable": "fertilized beans"
          },
          {
           "timestamp": "2021-08-29T00:00:00",
           "value": 0.40691136152643026,
           "variable": "fertilizer adjusted pod rate"
          },
          {
           "timestamp": "2021-08-29T00:00:00",
           "value": 627324.431338,
           "variable": "pods harvestable"
          },
          {
           "timestamp": "2021-08-29T00:00:00",
           "value": 636728.402302,
           "variable": "pods issued"
          },
          {
           "timestamp": "2021-08-29T00:00:00",
           "value": 851534.7411290009,
           "variable": "silo emissions"
          },
          {
           "timestamp": "2021-08-29T00:00:00",
           "value": 1478859.1724670008,
           "variable": "total credit"
          },
          {
           "timestamp": "2021-08-29T00:00:00",
           "value": 636728.402302,
           "variable": "total debt"
          },
          {
           "timestamp": "2021-08-29T00:00:00",
           "value": 0,
           "variable": "unfertilized beans"
          },
          {
           "timestamp": "2021-09-05T00:00:00",
           "value": 0.42710714354966994,
           "variable": "debt credit ratio"
          },
          {
           "timestamp": "2021-09-05T00:00:00",
           "value": 0,
           "variable": "fertilized beans"
          },
          {
           "timestamp": "2021-09-05T00:00:00",
           "value": 0.4222684219359376,
           "variable": "fertilizer adjusted pod rate"
          },
          {
           "timestamp": "2021-09-05T00:00:00",
           "value": 706483.446645,
           "variable": "pods harvestable"
          },
          {
           "timestamp": "2021-09-05T00:00:00",
           "value": 806030.167552,
           "variable": "pods issued"
          },
          {
           "timestamp": "2021-09-05T00:00:00",
           "value": 1180701.489793001,
           "variable": "silo emissions"
          },
          {
           "timestamp": "2021-09-05T00:00:00",
           "value": 1887184.936438001,
           "variable": "total credit"
          },
          {
           "timestamp": "2021-09-05T00:00:00",
           "value": 806030.167552,
           "variable": "total debt"
          },
          {
           "timestamp": "2021-09-05T00:00:00",
           "value": 0,
           "variable": "unfertilized beans"
          },
          {
           "timestamp": "2021-09-12T00:00:00",
           "value": 0.42078692692792746,
           "variable": "debt credit ratio"
          },
          {
           "timestamp": "2021-09-12T00:00:00",
           "value": 0,
           "variable": "fertilized beans"
          },
          {
           "timestamp": "2021-09-12T00:00:00",
           "value": 0.4377464175080218,
           "variable": "fertilizer adjusted pod rate"
          },
          {
           "timestamp": "2021-09-12T00:00:00",
           "value": 980711.614214,
           "variable": "pods harvestable"
          },
          {
           "timestamp": "2021-09-12T00:00:00",
           "value": 1034801.337065,
           "variable": "pods issued"
          },
          {
           "timestamp": "2021-09-12T00:00:00",
           "value": 1478493.4390890016,
           "variable": "silo emissions"
          },
          {
           "timestamp": "2021-09-12T00:00:00",
           "value": 2459205.0533030014,
           "variable": "total credit"
          },
          {
           "timestamp": "2021-09-12T00:00:00",
           "value": 1034801.337065,
           "variable": "total debt"
          },
          {
           "timestamp": "2021-09-12T00:00:00",
           "value": 0,
           "variable": "unfertilized beans"
          },
          {
           "timestamp": "2021-09-19T00:00:00",
           "value": 0.0756414630947167,
           "variable": "debt credit ratio"
          },
          {
           "timestamp": "2021-09-19T00:00:00",
           "value": 0,
           "variable": "fertilized beans"
          },
          {
           "timestamp": "2021-09-19T00:00:00",
           "value": 0.06704824432954058,
           "variable": "fertilizer adjusted pod rate"
          },
          {
           "timestamp": "2021-09-19T00:00:00",
           "value": 1614150.837907,
           "variable": "pods harvestable"
          },
          {
           "timestamp": "2021-09-19T00:00:00",
           "value": 1619976.719346,
           "variable": "pods issued"
          },
          {
           "timestamp": "2021-09-19T00:00:00",
           "value": 19802366.67865,
           "variable": "silo emissions"
          },
          {
           "timestamp": "2021-09-19T00:00:00",
           "value": 21416517.516557,
           "variable": "total credit"
          },
          {
           "timestamp": "2021-09-19T00:00:00",
           "value": 1619976.719346,
           "variable": "total debt"
          },
          {
           "timestamp": "2021-09-19T00:00:00",
           "value": 0,
           "variable": "unfertilized beans"
          },
          {
           "timestamp": "2021-09-26T00:00:00",
           "value": 0.31893825248490537,
           "variable": "debt credit ratio"
          },
          {
           "timestamp": "2021-09-26T00:00:00",
           "value": 0,
           "variable": "fertilized beans"
          },
          {
           "timestamp": "2021-09-26T00:00:00",
           "value": 0.3159637198107599,
           "variable": "fertilizer adjusted pod rate"
          },
          {
           "timestamp": "2021-09-26T00:00:00",
           "value": 1766971.219841,
           "variable": "pods harvestable"
          },
          {
           "timestamp": "2021-09-26T00:00:00",
           "value": 7089435.053965,
           "variable": "pods issued"
          },
          {
           "timestamp": "2021-09-26T00:00:00",
           "value": 20461265.746813,
           "variable": "silo emissions"
          },
          {
           "timestamp": "2021-09-26T00:00:00",
           "value": 22228236.966654,
           "variable": "total credit"
          },
          {
           "timestamp": "2021-09-26T00:00:00",
           "value": 7089435.053965,
           "variable": "total debt"
          },
          {
           "timestamp": "2021-09-26T00:00:00",
           "value": 0,
           "variable": "unfertilized beans"
          },
          {
           "timestamp": "2021-10-03T00:00:00",
           "value": 0.7225019506827478,
           "variable": "debt credit ratio"
          },
          {
           "timestamp": "2021-10-03T00:00:00",
           "value": 0,
           "variable": "fertilized beans"
          },
          {
           "timestamp": "2021-10-03T00:00:00",
           "value": 0.7687673939219095,
           "variable": "fertilizer adjusted pod rate"
          },
          {
           "timestamp": "2021-10-03T00:00:00",
           "value": 1956209.270518,
           "variable": "pods harvestable"
          },
          {
           "timestamp": "2021-10-03T00:00:00",
           "value": 16333394.290166,
           "variable": "pods issued"
          },
          {
           "timestamp": "2021-10-03T00:00:00",
           "value": 20650503.797496993,
           "variable": "silo emissions"
          },
          {
           "timestamp": "2021-10-03T00:00:00",
           "value": 22606713.068014994,
           "variable": "total credit"
          },
          {
           "timestamp": "2021-10-03T00:00:00",
           "value": 16333394.290166,
           "variable": "total debt"
          },
          {
           "timestamp": "2021-10-03T00:00:00",
           "value": 0,
           "variable": "unfertilized beans"
          },
          {
           "timestamp": "2021-10-10T00:00:00",
           "value": 0.9755716735691922,
           "variable": "debt credit ratio"
          },
          {
           "timestamp": "2021-10-10T00:00:00",
           "value": 0,
           "variable": "fertilized beans"
          },
          {
           "timestamp": "2021-10-10T00:00:00",
           "value": 1.0674978074645554,
           "variable": "fertilizer adjusted pod rate"
          },
          {
           "timestamp": "2021-10-10T00:00:00",
           "value": 2013282.174381,
           "variable": "pods harvestable"
          },
          {
           "timestamp": "2021-10-10T00:00:00",
           "value": 22165826.318339,
           "variable": "pods issued"
          },
          {
           "timestamp": "2021-10-10T00:00:00",
           "value": 20707576.701362994,
           "variable": "silo emissions"
          },
          {
           "timestamp": "2021-10-10T00:00:00",
           "value": 22720858.875743993,
           "variable": "total credit"
          },
          {
           "timestamp": "2021-10-10T00:00:00",
           "value": 22165826.318339,
           "variable": "total debt"
          },
          {
           "timestamp": "2021-10-10T00:00:00",
           "value": 0,
           "variable": "unfertilized beans"
          },
          {
           "timestamp": "2021-10-17T00:00:00",
           "value": 1.237871205045889,
           "variable": "debt credit ratio"
          },
          {
           "timestamp": "2021-10-17T00:00:00",
           "value": 0,
           "variable": "fertilized beans"
          },
          {
           "timestamp": "2021-10-17T00:00:00",
           "value": 1.369293271868217,
           "variable": "fertilizer adjusted pod rate"
          },
          {
           "timestamp": "2021-10-17T00:00:00",
           "value": 2088045.811756,
           "variable": "pods harvestable"
          },
          {
           "timestamp": "2021-10-17T00:00:00",
           "value": 28310592.463983,
           "variable": "pods issued"
          },
          {
           "timestamp": "2021-10-17T00:00:00",
           "value": 20782340.33874299,
           "variable": "silo emissions"
          },
          {
           "timestamp": "2021-10-17T00:00:00",
           "value": 22870386.15049899,
           "variable": "total credit"
          },
          {
           "timestamp": "2021-10-17T00:00:00",
           "value": 28310592.463983,
           "variable": "total debt"
          },
          {
           "timestamp": "2021-10-17T00:00:00",
           "value": 0,
           "variable": "unfertilized beans"
          },
          {
           "timestamp": "2021-10-24T00:00:00",
           "value": 1.5003403226175587,
           "variable": "debt credit ratio"
          },
          {
           "timestamp": "2021-10-24T00:00:00",
           "value": 0,
           "variable": "fertilized beans"
          },
          {
           "timestamp": "2021-10-24T00:00:00",
           "value": 1.6878421366336733,
           "variable": "fertilizer adjusted pod rate"
          },
          {
           "timestamp": "2021-10-24T00:00:00",
           "value": 2776847.957148,
           "variable": "pods harvestable"
          },
          {
           "timestamp": "2021-10-24T00:00:00",
           "value": 36380237.801568,
           "variable": "pods issued"
          },
          {
           "timestamp": "2021-10-24T00:00:00",
           "value": 21471142.48417898,
           "variable": "silo emissions"
          },
          {
           "timestamp": "2021-10-24T00:00:00",
           "value": 24247990.44132698,
           "variable": "total credit"
          },
          {
           "timestamp": "2021-10-24T00:00:00",
           "value": 36380237.801568,
           "variable": "total debt"
          },
          {
           "timestamp": "2021-10-24T00:00:00",
           "value": 0,
           "variable": "unfertilized beans"
          },
          {
           "timestamp": "2021-10-31T00:00:00",
           "value": 1.725122240078461,
           "variable": "debt credit ratio"
          },
          {
           "timestamp": "2021-10-31T00:00:00",
           "value": 0,
           "variable": "fertilized beans"
          },
          {
           "timestamp": "2021-10-31T00:00:00",
           "value": 1.961688020360639,
           "variable": "fertilizer adjusted pod rate"
          },
          {
           "timestamp": "2021-10-31T00:00:00",
           "value": 3386193.142204,
           "variable": "pods harvestable"
          },
          {
           "timestamp": "2021-10-31T00:00:00",
           "value": 43933137.448879,
           "variable": "pods issued"
          },
          {
           "timestamp": "2021-10-31T00:00:00",
           "value": 22080487.669284966,
           "variable": "silo emissions"
          },
          {
           "timestamp": "2021-10-31T00:00:00",
           "value": 25466680.811488967,
           "variable": "total credit"
          },
          {
           "timestamp": "2021-10-31T00:00:00",
           "value": 43933137.448879,
           "variable": "total debt"
          },
          {
           "timestamp": "2021-10-31T00:00:00",
           "value": 0,
           "variable": "unfertilized beans"
          },
          {
           "timestamp": "2021-11-07T00:00:00",
           "value": 1.854613620310547,
           "variable": "debt credit ratio"
          },
          {
           "timestamp": "2021-11-07T00:00:00",
           "value": 0,
           "variable": "fertilized beans"
          },
          {
           "timestamp": "2021-11-07T00:00:00",
           "value": 2.116405955846708,
           "variable": "fertilizer adjusted pod rate"
          },
          {
           "timestamp": "2021-11-07T00:00:00",
           "value": 4066418.76665,
           "variable": "pods harvestable"
          },
          {
           "timestamp": "2021-11-07T00:00:00",
           "value": 49753964.513145,
           "variable": "pods issued"
          },
          {
           "timestamp": "2021-11-07T00:00:00",
           "value": 22760713.293780956,
           "variable": "silo emissions"
          },
          {
           "timestamp": "2021-11-07T00:00:00",
           "value": 26827132.060430955,
           "variable": "total credit"
          },
          {
           "timestamp": "2021-11-07T00:00:00",
           "value": 49753964.513145,
           "variable": "total debt"
          },
          {
           "timestamp": "2021-11-07T00:00:00",
           "value": 0,
           "variable": "unfertilized beans"
          },
          {
           "timestamp": "2021-11-14T00:00:00",
           "value": 2.935538259567287,
           "variable": "debt credit ratio"
          },
          {
           "timestamp": "2021-11-14T00:00:00",
           "value": 0,
           "variable": "fertilized beans"
          },
          {
           "timestamp": "2021-11-14T00:00:00",
           "value": 3.528388031626333,
           "variable": "fertilizer adjusted pod rate"
          },
          {
           "timestamp": "2021-11-14T00:00:00",
           "value": 4522351.252798,
           "variable": "pods harvestable"
          },
          {
           "timestamp": "2021-11-14T00:00:00",
           "value": 81428887.071705,
           "variable": "pods issued"
          },
          {
           "timestamp": "2021-11-14T00:00:00",
           "value": 23216645.779966965,
           "variable": "silo emissions"
          },
          {
           "timestamp": "2021-11-14T00:00:00",
           "value": 27738997.032764964,
           "variable": "total credit"
          },
          {
           "timestamp": "2021-11-14T00:00:00",
           "value": 81428887.071705,
           "variable": "total debt"
          },
          {
           "timestamp": "2021-11-14T00:00:00",
           "value": 0,
           "variable": "unfertilized beans"
          },
          {
           "timestamp": "2021-11-21T00:00:00",
           "value": 4.40608021222147,
           "variable": "debt credit ratio"
          },
          {
           "timestamp": "2021-11-21T00:00:00",
           "value": 0,
           "variable": "fertilized beans"
          },
          {
           "timestamp": "2021-11-21T00:00:00",
           "value": 5.673189196321938,
           "variable": "fertilizer adjusted pod rate"
          },
          {
           "timestamp": "2021-11-21T00:00:00",
           "value": 6502944.425067,
           "variable": "pods harvestable"
          },
          {
           "timestamp": "2021-11-21T00:00:00",
           "value": 139673550.702857,
           "variable": "pods issued"
          },
          {
           "timestamp": "2021-11-21T00:00:00",
           "value": 25197238.952310957,
           "variable": "silo emissions"
          },
          {
           "timestamp": "2021-11-21T00:00:00",
           "value": 31700183.377377957,
           "variable": "total credit"
          },
          {
           "timestamp": "2021-11-21T00:00:00",
           "value": 139673550.702857,
           "variable": "total debt"
          },
          {
           "timestamp": "2021-11-21T00:00:00",
           "value": 0,
           "variable": "unfertilized beans"
          },
          {
           "timestamp": "2021-11-28T00:00:00",
           "value": 5.223819514915072,
           "variable": "debt credit ratio"
          },
          {
           "timestamp": "2021-11-28T00:00:00",
           "value": 0,
           "variable": "fertilized beans"
          },
          {
           "timestamp": "2021-11-28T00:00:00",
           "value": 6.929304122393534,
           "variable": "fertilizer adjusted pod rate"
          },
          {
           "timestamp": "2021-11-28T00:00:00",
           "value": 15388927.237098,
           "variable": "pods harvestable"
          },
          {
           "timestamp": "2021-11-28T00:00:00",
           "value": 258433577.398921,
           "variable": "pods issued"
          },
          {
           "timestamp": "2021-11-28T00:00:00",
           "value": 34083221.76442097,
           "variable": "silo emissions"
          },
          {
           "timestamp": "2021-11-28T00:00:00",
           "value": 49472149.00151897,
           "variable": "total credit"
          },
          {
           "timestamp": "2021-11-28T00:00:00",
           "value": 258433577.398921,
           "variable": "total debt"
          },
          {
           "timestamp": "2021-11-28T00:00:00",
           "value": 0,
           "variable": "unfertilized beans"
          },
          {
           "timestamp": "2021-12-05T00:00:00",
           "value": 6.023145745767038,
           "variable": "debt credit ratio"
          },
          {
           "timestamp": "2021-12-05T00:00:00",
           "value": 0,
           "variable": "fertilized beans"
          },
          {
           "timestamp": "2021-12-05T00:00:00",
           "value": 8.280728784226902,
           "variable": "fertilizer adjusted pod rate"
          },
          {
           "timestamp": "2021-12-05T00:00:00",
           "value": 22291797.37864,
           "variable": "pods harvestable"
          },
          {
           "timestamp": "2021-12-05T00:00:00",
           "value": 381131949.645927,
           "variable": "pods issued"
          },
          {
           "timestamp": "2021-12-05T00:00:00",
           "value": 40986091.90600497,
           "variable": "silo emissions"
          },
          {
           "timestamp": "2021-12-05T00:00:00",
           "value": 63277889.284644976,
           "variable": "total credit"
          },
          {
           "timestamp": "2021-12-05T00:00:00",
           "value": 381131949.645927,
           "variable": "total debt"
          },
          {
           "timestamp": "2021-12-05T00:00:00",
           "value": 0,
           "variable": "unfertilized beans"
          },
          {
           "timestamp": "2021-12-12T00:00:00",
           "value": 6.331293316779519,
           "variable": "debt credit ratio"
          },
          {
           "timestamp": "2021-12-12T00:00:00",
           "value": 0,
           "variable": "fertilized beans"
          },
          {
           "timestamp": "2021-12-12T00:00:00",
           "value": 8.848190111508554,
           "variable": "fertilizer adjusted pod rate"
          },
          {
           "timestamp": "2021-12-12T00:00:00",
           "value": 22291797.37864,
           "variable": "pods harvestable"
          },
          {
           "timestamp": "2021-12-12T00:00:00",
           "value": 400630877.527787,
           "variable": "pods issued"
          },
          {
           "timestamp": "2021-12-12T00:00:00",
           "value": 40986091.90600497,
           "variable": "silo emissions"
          },
          {
           "timestamp": "2021-12-12T00:00:00",
           "value": 63277889.284644976,
           "variable": "total credit"
          },
          {
           "timestamp": "2021-12-12T00:00:00",
           "value": 400630877.527787,
           "variable": "total debt"
          },
          {
           "timestamp": "2021-12-12T00:00:00",
           "value": 0,
           "variable": "unfertilized beans"
          },
          {
           "timestamp": "2021-12-19T00:00:00",
           "value": 6.55168381518286,
           "variable": "debt credit ratio"
          },
          {
           "timestamp": "2021-12-19T00:00:00",
           "value": 0,
           "variable": "fertilized beans"
          },
          {
           "timestamp": "2021-12-19T00:00:00",
           "value": 9.24712395385105,
           "variable": "fertilizer adjusted pod rate"
          },
          {
           "timestamp": "2021-12-19T00:00:00",
           "value": 22293528.436342,
           "variable": "pods harvestable"
          },
          {
           "timestamp": "2021-12-19T00:00:00",
           "value": 414599405.7706,
           "variable": "pods issued"
          },
          {
           "timestamp": "2021-12-19T00:00:00",
           "value": 40987822.96370697,
           "variable": "silo emissions"
          },
          {
           "timestamp": "2021-12-19T00:00:00",
           "value": 63281351.40004897,
           "variable": "total credit"
          },
          {
           "timestamp": "2021-12-19T00:00:00",
           "value": 414599405.7706,
           "variable": "total debt"
          },
          {
           "timestamp": "2021-12-19T00:00:00",
           "value": 0,
           "variable": "unfertilized beans"
          },
          {
           "timestamp": "2021-12-26T00:00:00",
           "value": 7.384077022265828,
           "variable": "debt credit ratio"
          },
          {
           "timestamp": "2021-12-26T00:00:00",
           "value": 0,
           "variable": "fertilized beans"
          },
          {
           "timestamp": "2021-12-26T00:00:00",
           "value": 10.804561340367068,
           "variable": "fertilizer adjusted pod rate"
          },
          {
           "timestamp": "2021-12-26T00:00:00",
           "value": 22428284.833293,
           "variable": "pods harvestable"
          },
          {
           "timestamp": "2021-12-26T00:00:00",
           "value": 469264476.039815,
           "variable": "pods issued"
          },
          {
           "timestamp": "2021-12-26T00:00:00",
           "value": 41122579.36067497,
           "variable": "silo emissions"
          },
          {
           "timestamp": "2021-12-26T00:00:00",
           "value": 63550864.19396797,
           "variable": "total credit"
          },
          {
           "timestamp": "2021-12-26T00:00:00",
           "value": 469264476.039815,
           "variable": "total debt"
          },
          {
           "timestamp": "2021-12-26T00:00:00",
           "value": 0,
           "variable": "unfertilized beans"
          },
          {
           "timestamp": "2022-01-02T00:00:00",
           "value": 8.618904644771053,
           "variable": "debt credit ratio"
          },
          {
           "timestamp": "2022-01-02T00:00:00",
           "value": 0,
           "variable": "fertilized beans"
          },
          {
           "timestamp": "2022-01-02T00:00:00",
           "value": 13.281221321701869,
           "variable": "fertilizer adjusted pod rate"
          },
          {
           "timestamp": "2022-01-02T00:00:00",
           "value": 22456997.024328,
           "variable": "pods harvestable"
          },
          {
           "timestamp": "2022-01-02T00:00:00",
           "value": 548233773.854003,
           "variable": "pods issued"
          },
          {
           "timestamp": "2022-01-02T00:00:00",
           "value": 41151291.55171597,
           "variable": "silo emissions"
          },
          {
           "timestamp": "2022-01-02T00:00:00",
           "value": 63608288.57604397,
           "variable": "total credit"
          },
          {
           "timestamp": "2022-01-02T00:00:00",
           "value": 548233773.854003,
           "variable": "total debt"
          },
          {
           "timestamp": "2022-01-02T00:00:00",
           "value": 0,
           "variable": "unfertilized beans"
          },
          {
           "timestamp": "2022-01-09T00:00:00",
           "value": 9.347224441620183,
           "variable": "debt credit ratio"
          },
          {
           "timestamp": "2022-01-09T00:00:00",
           "value": 0,
           "variable": "fertilized beans"
          },
          {
           "timestamp": "2022-01-09T00:00:00",
           "value": 14.123191031983074,
           "variable": "fertilizer adjusted pod rate"
          },
          {
           "timestamp": "2022-01-09T00:00:00",
           "value": 22456997.024328,
           "variable": "pods harvestable"
          },
          {
           "timestamp": "2022-01-09T00:00:00",
           "value": 594560949.667628,
           "variable": "pods issued"
          },
          {
           "timestamp": "2022-01-09T00:00:00",
           "value": 41151291.55171597,
           "variable": "silo emissions"
          },
          {
           "timestamp": "2022-01-09T00:00:00",
           "value": 63608288.57604397,
           "variable": "total credit"
          },
          {
           "timestamp": "2022-01-09T00:00:00",
           "value": 594560949.667628,
           "variable": "total debt"
          },
          {
           "timestamp": "2022-01-09T00:00:00",
           "value": 0,
           "variable": "unfertilized beans"
          },
          {
           "timestamp": "2022-01-16T00:00:00",
           "value": 9.636612846176575,
           "variable": "debt credit ratio"
          },
          {
           "timestamp": "2022-01-16T00:00:00",
           "value": 0,
           "variable": "fertilized beans"
          },
          {
           "timestamp": "2022-01-16T00:00:00",
           "value": 14.697592829280177,
           "variable": "fertilizer adjusted pod rate"
          },
          {
           "timestamp": "2022-01-16T00:00:00",
           "value": 22456997.024328,
           "variable": "pods harvestable"
          },
          {
           "timestamp": "2022-01-16T00:00:00",
           "value": 612968450.815212,
           "variable": "pods issued"
          },
          {
           "timestamp": "2022-01-16T00:00:00",
           "value": 41151291.55171597,
           "variable": "silo emissions"
          },
          {
           "timestamp": "2022-01-16T00:00:00",
           "value": 63608288.57604397,
           "variable": "total credit"
          },
          {
           "timestamp": "2022-01-16T00:00:00",
           "value": 612968450.815212,
           "variable": "total debt"
          },
          {
           "timestamp": "2022-01-16T00:00:00",
           "value": 0,
           "variable": "unfertilized beans"
          },
          {
           "timestamp": "2022-01-23T00:00:00",
           "value": 9.793573229006574,
           "variable": "debt credit ratio"
          },
          {
           "timestamp": "2022-01-23T00:00:00",
           "value": 0,
           "variable": "fertilized beans"
          },
          {
           "timestamp": "2022-01-23T00:00:00",
           "value": 15.003489207741506,
           "variable": "fertilizer adjusted pod rate"
          },
          {
           "timestamp": "2022-01-23T00:00:00",
           "value": 22456997.024328,
           "variable": "pods harvestable"
          },
          {
           "timestamp": "2022-01-23T00:00:00",
           "value": 622952432.141269,
           "variable": "pods issued"
          },
          {
           "timestamp": "2022-01-23T00:00:00",
           "value": 41151291.55171597,
           "variable": "silo emissions"
          },
          {
           "timestamp": "2022-01-23T00:00:00",
           "value": 63608288.57604397,
           "variable": "total credit"
          },
          {
           "timestamp": "2022-01-23T00:00:00",
           "value": 622952432.141269,
           "variable": "total debt"
          },
          {
           "timestamp": "2022-01-23T00:00:00",
           "value": 0,
           "variable": "unfertilized beans"
          },
          {
           "timestamp": "2022-01-30T00:00:00",
           "value": 9.99038511917576,
           "variable": "debt credit ratio"
          },
          {
           "timestamp": "2022-01-30T00:00:00",
           "value": 0,
           "variable": "fertilized beans"
          },
          {
           "timestamp": "2022-01-30T00:00:00",
           "value": 15.387337171148959,
           "variable": "fertilizer adjusted pod rate"
          },
          {
           "timestamp": "2022-01-30T00:00:00",
           "value": 22459257.966192,
           "variable": "pods harvestable"
          },
          {
           "timestamp": "2022-01-30T00:00:00",
           "value": 635516475.006264,
           "variable": "pods issued"
          },
          {
           "timestamp": "2022-01-30T00:00:00",
           "value": 41153552.49358097,
           "variable": "silo emissions"
          },
          {
           "timestamp": "2022-01-30T00:00:00",
           "value": 63612810.45977297,
           "variable": "total credit"
          },
          {
           "timestamp": "2022-01-30T00:00:00",
           "value": 635516475.006264,
           "variable": "total debt"
          },
          {
           "timestamp": "2022-01-30T00:00:00",
           "value": 0,
           "variable": "unfertilized beans"
          },
          {
           "timestamp": "2022-02-06T00:00:00",
           "value": 10.06210232102443,
           "variable": "debt credit ratio"
          },
          {
           "timestamp": "2022-02-06T00:00:00",
           "value": 0,
           "variable": "fertilized beans"
          },
          {
           "timestamp": "2022-02-06T00:00:00",
           "value": 15.40554141817419,
           "variable": "fertilizer adjusted pod rate"
          },
          {
           "timestamp": "2022-02-06T00:00:00",
           "value": 22607157.369703,
           "variable": "pods harvestable"
          },
          {
           "timestamp": "2022-02-06T00:00:00",
           "value": 643054965.637173,
           "variable": "pods issued"
          },
          {
           "timestamp": "2022-02-06T00:00:00",
           "value": 41301451.89712298,
           "variable": "silo emissions"
          },
          {
           "timestamp": "2022-02-06T00:00:00",
           "value": 63908609.266825974,
           "variable": "total credit"
          },
          {
           "timestamp": "2022-02-06T00:00:00",
           "value": 643054965.637173,
           "variable": "total debt"
          },
          {
           "timestamp": "2022-02-06T00:00:00",
           "value": 0,
           "variable": "unfertilized beans"
          },
          {
           "timestamp": "2022-02-13T00:00:00",
           "value": 10.06231253738342,
           "variable": "debt credit ratio"
          },
          {
           "timestamp": "2022-02-13T00:00:00",
           "value": 0,
           "variable": "fertilized beans"
          },
          {
           "timestamp": "2022-02-13T00:00:00",
           "value": 15.368124197796112,
           "variable": "fertilizer adjusted pod rate"
          },
          {
           "timestamp": "2022-02-13T00:00:00",
           "value": 22841056.989067,
           "variable": "pods harvestable"
          },
          {
           "timestamp": "2022-02-13T00:00:00",
           "value": 647775542.417444,
           "variable": "pods issued"
          },
          {
           "timestamp": "2022-02-13T00:00:00",
           "value": 41535351.51651596,
           "variable": "silo emissions"
          },
          {
           "timestamp": "2022-02-13T00:00:00",
           "value": 64376408.50558296,
           "variable": "total credit"
          },
          {
           "timestamp": "2022-02-13T00:00:00",
           "value": 647775542.417444,
           "variable": "total debt"
          },
          {
           "timestamp": "2022-02-13T00:00:00",
           "value": 0,
           "variable": "unfertilized beans"
          },
          {
           "timestamp": "2022-02-20T00:00:00",
           "value": 10.230423708703938,
           "variable": "debt credit ratio"
          },
          {
           "timestamp": "2022-02-20T00:00:00",
           "value": 0,
           "variable": "fertilized beans"
          },
          {
           "timestamp": "2022-02-20T00:00:00",
           "value": 15.661340938826324,
           "variable": "fertilizer adjusted pod rate"
          },
          {
           "timestamp": "2022-02-20T00:00:00",
           "value": 22984745.660846,
           "variable": "pods harvestable"
          },
          {
           "timestamp": "2022-02-20T00:00:00",
           "value": 661537927.84579,
           "variable": "pods issued"
          },
          {
           "timestamp": "2022-02-20T00:00:00",
           "value": 41679040.18831296,
           "variable": "silo emissions"
          },
          {
           "timestamp": "2022-02-20T00:00:00",
           "value": 64663785.84915896,
           "variable": "total credit"
          },
          {
           "timestamp": "2022-02-20T00:00:00",
           "value": 661537927.84579,
           "variable": "total debt"
          },
          {
           "timestamp": "2022-02-20T00:00:00",
           "value": 0,
           "variable": "unfertilized beans"
          },
          {
           "timestamp": "2022-02-27T00:00:00",
           "value": 10.235604025481702,
           "variable": "debt credit ratio"
          },
          {
           "timestamp": "2022-02-27T00:00:00",
           "value": 0,
           "variable": "fertilized beans"
          },
          {
           "timestamp": "2022-02-27T00:00:00",
           "value": 15.65439014716296,
           "variable": "fertilizer adjusted pod rate"
          },
          {
           "timestamp": "2022-02-27T00:00:00",
           "value": 23053529.81458,
           "variable": "pods harvestable"
          },
          {
           "timestamp": "2022-02-27T00:00:00",
           "value": 663281001.462482,
           "variable": "pods issued"
          },
          {
           "timestamp": "2022-02-27T00:00:00",
           "value": 41747824.34207095,
           "variable": "silo emissions"
          },
          {
           "timestamp": "2022-02-27T00:00:00",
           "value": 64801354.15665095,
           "variable": "total credit"
          },
          {
           "timestamp": "2022-02-27T00:00:00",
           "value": 663281001.462482,
           "variable": "total debt"
          },
          {
           "timestamp": "2022-02-27T00:00:00",
           "value": 0,
           "variable": "unfertilized beans"
          },
          {
           "timestamp": "2022-03-06T00:00:00",
           "value": 10.56041925355901,
           "variable": "debt credit ratio"
          },
          {
           "timestamp": "2022-03-06T00:00:00",
           "value": 0,
           "variable": "fertilized beans"
          },
          {
           "timestamp": "2022-03-06T00:00:00",
           "value": 16.24799725374966,
           "variable": "fertilizer adjusted pod rate"
          },
          {
           "timestamp": "2022-03-06T00:00:00",
           "value": 23131834.629737,
           "variable": "pods harvestable"
          },
          {
           "timestamp": "2022-03-06T00:00:00",
           "value": 685983331.448107,
           "variable": "pods issued"
          },
          {
           "timestamp": "2022-03-06T00:00:00",
           "value": 41826129.15725195,
           "variable": "silo emissions"
          },
          {
           "timestamp": "2022-03-06T00:00:00",
           "value": 64957963.786988944,
           "variable": "total credit"
          },
          {
           "timestamp": "2022-03-06T00:00:00",
           "value": 685983331.448107,
           "variable": "total debt"
          },
          {
           "timestamp": "2022-03-06T00:00:00",
           "value": 0,
           "variable": "unfertilized beans"
          },
          {
           "timestamp": "2022-03-13T00:00:00",
           "value": 10.612105649795867,
           "variable": "debt credit ratio"
          },
          {
           "timestamp": "2022-03-13T00:00:00",
           "value": 0,
           "variable": "fertilized beans"
          },
          {
           "timestamp": "2022-03-13T00:00:00",
           "value": 16.2925452435312,
           "variable": "fertilizer adjusted pod rate"
          },
          {
           "timestamp": "2022-03-13T00:00:00",
           "value": 23422124.303506,
           "variable": "pods harvestable"
          },
          {
           "timestamp": "2022-03-13T00:00:00",
           "value": 695501943.877728,
           "variable": "pods issued"
          },
          {
           "timestamp": "2022-03-13T00:00:00",
           "value": 42116418.83106094,
           "variable": "silo emissions"
          },
          {
           "timestamp": "2022-03-13T00:00:00",
           "value": 65538543.13456694,
           "variable": "total credit"
          },
          {
           "timestamp": "2022-03-13T00:00:00",
           "value": 695501943.877728,
           "variable": "total debt"
          },
          {
           "timestamp": "2022-03-13T00:00:00",
           "value": 0,
           "variable": "unfertilized beans"
          },
          {
           "timestamp": "2022-03-20T00:00:00",
           "value": 10.475847009438189,
           "variable": "debt credit ratio"
          },
          {
           "timestamp": "2022-03-20T00:00:00",
           "value": 0,
           "variable": "fertilized beans"
          },
          {
           "timestamp": "2022-03-20T00:00:00",
           "value": 15.924625030993381,
           "variable": "fertilizer adjusted pod rate"
          },
          {
           "timestamp": "2022-03-20T00:00:00",
           "value": 24140274.172991,
           "variable": "pods harvestable"
          },
          {
           "timestamp": "2022-03-20T00:00:00",
           "value": 701618207.425246,
           "variable": "pods issued"
          },
          {
           "timestamp": "2022-03-20T00:00:00",
           "value": 42834568.700632945,
           "variable": "silo emissions"
          },
          {
           "timestamp": "2022-03-20T00:00:00",
           "value": 66974842.873623945,
           "variable": "total credit"
          },
          {
           "timestamp": "2022-03-20T00:00:00",
           "value": 701618207.425246,
           "variable": "total debt"
          },
          {
           "timestamp": "2022-03-20T00:00:00",
           "value": 0,
           "variable": "unfertilized beans"
          },
          {
           "timestamp": "2022-03-27T00:00:00",
           "value": 10.296695372417878,
           "variable": "debt credit ratio"
          },
          {
           "timestamp": "2022-03-27T00:00:00",
           "value": 0,
           "variable": "fertilized beans"
          },
          {
           "timestamp": "2022-03-27T00:00:00",
           "value": 15.48395064447731,
           "variable": "fertilizer adjusted pod rate"
          },
          {
           "timestamp": "2022-03-27T00:00:00",
           "value": 24903980.376859,
           "variable": "pods harvestable"
          },
          {
           "timestamp": "2022-03-27T00:00:00",
           "value": 705346854.956478,
           "variable": "pods issued"
          },
          {
           "timestamp": "2022-03-27T00:00:00",
           "value": 43598274.90456999,
           "variable": "silo emissions"
          },
          {
           "timestamp": "2022-03-27T00:00:00",
           "value": 68502255.281429,
           "variable": "total credit"
          },
          {
           "timestamp": "2022-03-27T00:00:00",
           "value": 705346854.956478,
           "variable": "total debt"
          },
          {
           "timestamp": "2022-03-27T00:00:00",
           "value": 0,
           "variable": "unfertilized beans"
          },
          {
           "timestamp": "2022-04-03T00:00:00",
           "value": 9.903853177171431,
           "variable": "debt credit ratio"
          },
          {
           "timestamp": "2022-04-03T00:00:00",
           "value": 0,
           "variable": "fertilized beans"
          },
          {
           "timestamp": "2022-04-03T00:00:00",
           "value": 14.588370834787636,
           "variable": "fertilizer adjusted pod rate"
          },
          {
           "timestamp": "2022-04-03T00:00:00",
           "value": 26430520.61982,
           "variable": "pods harvestable"
          },
          {
           "timestamp": "2022-04-03T00:00:00",
           "value": 708673539.483889,
           "variable": "pods issued"
          },
          {
           "timestamp": "2022-04-03T00:00:00",
           "value": 45124815.14761595,
           "variable": "silo emissions"
          },
          {
           "timestamp": "2022-04-03T00:00:00",
           "value": 71555335.76743594,
           "variable": "total credit"
          },
          {
           "timestamp": "2022-04-03T00:00:00",
           "value": 708673539.483889,
           "variable": "total debt"
          },
          {
           "timestamp": "2022-04-03T00:00:00",
           "value": 0,
           "variable": "unfertilized beans"
          },
          {
           "timestamp": "2022-04-10T00:00:00",
           "value": 9.363968386160323,
           "variable": "debt credit ratio"
          },
          {
           "timestamp": "2022-04-10T00:00:00",
           "value": 0,
           "variable": "fertilized beans"
          },
          {
           "timestamp": "2022-04-10T00:00:00",
           "value": 12.941765642518924,
           "variable": "fertilizer adjusted pod rate"
          },
          {
           "timestamp": "2022-04-10T00:00:00",
           "value": 28608689.233751,
           "variable": "pods harvestable"
          },
          {
           "timestamp": "2022-04-10T00:00:00",
           "value": 710834506.06925,
           "variable": "pods issued"
          },
          {
           "timestamp": "2022-04-10T00:00:00",
           "value": 47302983.761625946,
           "variable": "silo emissions"
          },
          {
           "timestamp": "2022-04-10T00:00:00",
           "value": 75911672.99537694,
           "variable": "total credit"
          },
          {
           "timestamp": "2022-04-10T00:00:00",
           "value": 710834506.06925,
           "variable": "total debt"
          },
          {
           "timestamp": "2022-04-10T00:00:00",
           "value": 0,
           "variable": "unfertilized beans"
          },
          {
           "timestamp": "2022-04-17T00:00:00",
           "value": 6.360132077483793,
           "variable": "debt credit ratio"
          },
          {
           "timestamp": "2022-04-17T00:00:00",
           "value": 0,
           "variable": "fertilized beans"
          },
          {
           "timestamp": "2022-04-17T00:00:00",
           "value": 37.39908837854603,
           "variable": "fertilizer adjusted pod rate"
          },
          {
           "timestamp": "2022-04-17T00:00:00",
           "value": 55438959.694302,
           "variable": "pods harvestable"
          },
          {
           "timestamp": "2022-04-17T00:00:00",
           "value": 737663715.081254,
           "variable": "pods issued"
          },
          {
           "timestamp": "2022-04-17T00:00:00",
           "value": 74133254.22224994,
           "variable": "silo emissions"
          },
          {
           "timestamp": "2022-04-17T00:00:00",
           "value": 129572213.91655195,
           "variable": "total credit"
          },
          {
           "timestamp": "2022-04-17T00:00:00",
           "value": 824096394.081254,
           "variable": "total debt"
          },
          {
           "timestamp": "2022-04-17T00:00:00",
           "value": 86432679,
           "variable": "unfertilized beans"
          },
          {
           "timestamp": "2022-08-07T00:00:00",
           "value": 6.238192987182977,
           "variable": "debt credit ratio"
          },
          {
           "timestamp": "2022-08-07T00:00:00",
           "value": 1912625.803108,
           "variable": "fertilized beans"
          },
          {
           "timestamp": "2022-08-07T00:00:00",
           "value": 26.41952976190462,
           "variable": "fertilizer adjusted pod rate"
          },
          {
           "timestamp": "2022-08-07T00:00:00",
           "value": 57351922.095057,
           "variable": "pods harvestable"
          },
          {
           "timestamp": "2022-08-07T00:00:00",
           "value": 738620191.031981,
           "variable": "pods issued"
          },
          {
           "timestamp": "2022-08-07T00:00:00",
           "value": 74133254.22224994,
           "variable": "silo emissions"
          },
          {
           "timestamp": "2022-08-07T00:00:00",
           "value": 133397802.12041494,
           "variable": "total credit"
          },
          {
           "timestamp": "2022-08-07T00:00:00",
           "value": 832161233.693195,
           "variable": "total debt"
          },
          {
           "timestamp": "2022-08-07T00:00:00",
           "value": 93541042.66121396,
           "variable": "unfertilized beans"
          },
          {
           "timestamp": "2022-08-14T00:00:00",
           "value": 6.8413574299727,
           "variable": "debt credit ratio"
          },
          {
           "timestamp": "2022-08-14T00:00:00",
           "value": 2067319.5795749996,
           "variable": "fertilized beans"
          },
          {
           "timestamp": "2022-08-14T00:00:00",
           "value": 29.721639898538577,
           "variable": "fertilizer adjusted pod rate"
          },
          {
           "timestamp": "2022-08-14T00:00:00",
           "value": 57507623.000486,
           "variable": "pods harvestable"
          },
          {
           "timestamp": "2022-08-14T00:00:00",
           "value": 820798740.86972,
           "variable": "pods issued"
          },
          {
           "timestamp": "2022-08-14T00:00:00",
           "value": 74133254.22224994,
           "variable": "silo emissions"
          },
          {
           "timestamp": "2022-08-14T00:00:00",
           "value": 133708196.80231094,
           "variable": "total credit"
          },
          {
           "timestamp": "2022-08-14T00:00:00",
           "value": 914745565.6417419,
           "variable": "total debt"
          },
          {
           "timestamp": "2022-08-14T00:00:00",
           "value": 93946824.77202192,
           "variable": "unfertilized beans"
          },
          {
           "timestamp": "2022-08-21T00:00:00",
           "value": 6.841405514538064,
           "variable": "debt credit ratio"
          },
          {
           "timestamp": "2022-08-21T00:00:00",
           "value": 2085458.393384,
           "variable": "fertilized beans"
          },
          {
           "timestamp": "2022-08-21T00:00:00",
           "value": 29.03801313764099,
           "variable": "fertilizer adjusted pod rate"
          },
          {
           "timestamp": "2022-08-21T00:00:00",
           "value": 57528111.46789,
           "variable": "pods harvestable"
          },
          {
           "timestamp": "2022-08-21T00:00:00",
           "value": 821073540.366841,
           "variable": "pods issued"
          },
          {
           "timestamp": "2022-08-21T00:00:00",
           "value": 74133254.22224994,
           "variable": "silo emissions"
          },
          {
           "timestamp": "2022-08-21T00:00:00",
           "value": 133746824.08352393,
           "variable": "total credit"
          },
          {
           "timestamp": "2022-08-21T00:00:00",
           "value": 915016259.836973,
           "variable": "total debt"
          },
          {
           "timestamp": "2022-08-21T00:00:00",
           "value": 93942719.47013193,
           "variable": "unfertilized beans"
          },
          {
           "timestamp": "2022-08-28T00:00:00",
           "value": 6.842867107271232,
           "variable": "debt credit ratio"
          },
          {
           "timestamp": "2022-08-28T00:00:00",
           "value": 2099056.5227339966,
           "variable": "fertilized beans"
          },
          {
           "timestamp": "2022-08-28T00:00:00",
           "value": 28.99886891901857,
           "variable": "fertilizer adjusted pod rate"
          },
          {
           "timestamp": "2022-08-28T00:00:00",
           "value": 57543771.032445,
           "variable": "pods harvestable"
          },
          {
           "timestamp": "2022-08-28T00:00:00",
           "value": 821482327.568473,
           "variable": "pods issued"
          },
          {
           "timestamp": "2022-08-28T00:00:00",
           "value": 74133254.22224994,
           "variable": "silo emissions"
          },
          {
           "timestamp": "2022-08-28T00:00:00",
           "value": 133776081.77742894,
           "variable": "total credit"
          },
          {
           "timestamp": "2022-08-28T00:00:00",
           "value": 915411949.7343949,
           "variable": "total debt"
          },
          {
           "timestamp": "2022-08-28T00:00:00",
           "value": 93929622.16592193,
           "variable": "unfertilized beans"
          },
          {
           "timestamp": "2022-09-04T00:00:00",
           "value": 6.868341214594486,
           "variable": "debt credit ratio"
          },
          {
           "timestamp": "2022-09-04T00:00:00",
           "value": 2106096.6592569994,
           "variable": "fertilized beans"
          },
          {
           "timestamp": "2022-09-04T00:00:00",
           "value": 29.14084203421115,
           "variable": "fertilizer adjusted pod rate"
          },
          {
           "timestamp": "2022-09-04T00:00:00",
           "value": 57552657.108276,
           "variable": "pods harvestable"
          },
          {
           "timestamp": "2022-09-04T00:00:00",
           "value": 825006365.807399,
           "variable": "pods issued"
          },
          {
           "timestamp": "2022-09-04T00:00:00",
           "value": 74133254.22224994,
           "variable": "silo emissions"
          },
          {
           "timestamp": "2022-09-04T00:00:00",
           "value": 133792007.98978293,
           "variable": "total credit"
          },
          {
           "timestamp": "2022-09-04T00:00:00",
           "value": 918929162.659581,
           "variable": "total debt"
          },
          {
           "timestamp": "2022-09-04T00:00:00",
           "value": 93922796.85218193,
           "variable": "unfertilized beans"
          },
          {
           "timestamp": "2022-09-11T00:00:00",
           "value": 6.868700132361855,
           "variable": "debt credit ratio"
          },
          {
           "timestamp": "2022-09-11T00:00:00",
           "value": 2109126.1571129984,
           "variable": "fertilized beans"
          },
          {
           "timestamp": "2022-09-11T00:00:00",
           "value": 29.116826066011512,
           "variable": "fertilizer adjusted pod rate"
          },
          {
           "timestamp": "2022-09-11T00:00:00",
           "value": 57557620.463935,
           "variable": "pods harvestable"
          },
          {
           "timestamp": "2022-09-11T00:00:00",
           "value": 825112316.148051,
           "variable": "pods issued"
          },
          {
           "timestamp": "2022-09-11T00:00:00",
           "value": 74133254.22224994,
           "variable": "silo emissions"
          },
          {
           "timestamp": "2022-09-11T00:00:00",
           "value": 133800000.84329794,
           "variable": "total credit"
          },
          {
           "timestamp": "2022-09-11T00:00:00",
           "value": 919032083.5023769,
           "variable": "total debt"
          },
          {
           "timestamp": "2022-09-11T00:00:00",
           "value": 93919767.35432592,
           "variable": "unfertilized beans"
          },
          {
           "timestamp": "2022-09-18T00:00:00",
           "value": 6.872038062572187,
           "variable": "debt credit ratio"
          },
          {
           "timestamp": "2022-09-18T00:00:00",
           "value": 2110090.104752999,
           "variable": "fertilized beans"
          },
          {
           "timestamp": "2022-09-18T00:00:00",
           "value": 29.118640170878805,
           "variable": "fertilizer adjusted pod rate"
          },
          {
           "timestamp": "2022-09-18T00:00:00",
           "value": 57560176.881735,
           "variable": "pods harvestable"
          },
          {
           "timestamp": "2022-09-18T00:00:00",
           "value": 825583248.930806,
           "variable": "pods issued"
          },
          {
           "timestamp": "2022-09-18T00:00:00",
           "value": 74133254.22224994,
           "variable": "silo emissions"
          },
          {
           "timestamp": "2022-09-18T00:00:00",
           "value": 133803521.20873794,
           "variable": "total credit"
          },
          {
           "timestamp": "2022-09-18T00:00:00",
           "value": 919502890.652632,
           "variable": "total debt"
          },
          {
           "timestamp": "2022-09-18T00:00:00",
           "value": 93919641.72182591,
           "variable": "unfertilized beans"
          },
          {
           "timestamp": "2022-09-25T00:00:00",
           "value": 6.894827149934388,
           "variable": "debt credit ratio"
          },
          {
           "timestamp": "2022-09-25T00:00:00",
           "value": 2110124.532120999,
           "variable": "fertilized beans"
          },
          {
           "timestamp": "2022-09-25T00:00:00",
           "value": 29.2740569227479,
           "variable": "fertilizer adjusted pod rate"
          },
          {
           "timestamp": "2022-09-25T00:00:00",
           "value": 57560234.952328,
           "variable": "pods harvestable"
          },
          {
           "timestamp": "2022-09-25T00:00:00",
           "value": 828631979.817323,
           "variable": "pods issued"
          },
          {
           "timestamp": "2022-09-25T00:00:00",
           "value": 74133254.22224994,
           "variable": "silo emissions"
          },
          {
           "timestamp": "2022-09-25T00:00:00",
           "value": 133803613.70669894,
           "variable": "total credit"
          },
          {
           "timestamp": "2022-09-25T00:00:00",
           "value": 922552788.5442809,
           "variable": "total debt"
          },
          {
           "timestamp": "2022-09-25T00:00:00",
           "value": 93920808.72695792,
           "variable": "unfertilized beans"
          },
          {
           "timestamp": "2022-10-02T00:00:00",
           "value": 6.895389366331024,
           "variable": "debt credit ratio"
          },
          {
           "timestamp": "2022-10-02T00:00:00",
           "value": 2110124.532120999,
           "variable": "fertilized beans"
          },
          {
           "timestamp": "2022-10-02T00:00:00",
           "value": 29.2599414747242,
           "variable": "fertilizer adjusted pod rate"
          },
          {
           "timestamp": "2022-10-02T00:00:00",
           "value": 57560234.952328,
           "variable": "pods harvestable"
          },
          {
           "timestamp": "2022-10-02T00:00:00",
           "value": 828707206.402878,
           "variable": "pods issued"
          },
          {
           "timestamp": "2022-10-02T00:00:00",
           "value": 74133254.22224994,
           "variable": "silo emissions"
          },
          {
           "timestamp": "2022-10-02T00:00:00",
           "value": 133803613.70669894,
           "variable": "total credit"
          },
          {
           "timestamp": "2022-10-02T00:00:00",
           "value": 922628015.129836,
           "variable": "total debt"
          },
          {
           "timestamp": "2022-10-02T00:00:00",
           "value": 93920808.72695792,
           "variable": "unfertilized beans"
          },
          {
           "timestamp": "2022-10-09T00:00:00",
           "value": 6.895867857049252,
           "variable": "debt credit ratio"
          },
          {
           "timestamp": "2022-10-09T00:00:00",
           "value": 2110124.532120999,
           "variable": "fertilized beans"
          },
          {
           "timestamp": "2022-10-09T00:00:00",
           "value": 29.25629584376979,
           "variable": "fertilizer adjusted pod rate"
          },
          {
           "timestamp": "2022-10-09T00:00:00",
           "value": 57560234.952328,
           "variable": "pods harvestable"
          },
          {
           "timestamp": "2022-10-09T00:00:00",
           "value": 828771230.190102,
           "variable": "pods issued"
          },
          {
           "timestamp": "2022-10-09T00:00:00",
           "value": 74133254.22224994,
           "variable": "silo emissions"
          },
          {
           "timestamp": "2022-10-09T00:00:00",
           "value": 133803613.70669894,
           "variable": "total credit"
          },
          {
           "timestamp": "2022-10-09T00:00:00",
           "value": 922692038.9170599,
           "variable": "total debt"
          },
          {
           "timestamp": "2022-10-09T00:00:00",
           "value": 93920808.72695792,
           "variable": "unfertilized beans"
          }
         ]
        },
        "resolve": {
         "axis": {
          "y": "independent"
         },
         "legend": {
          "color": "independent"
         },
         "scale": {
          "color": "independent",
          "y": "independent"
         }
        },
        "vconcat": [
         {
          "layer": [
           {
            "encoding": {
             "color": {
              "field": "variable",
              "legend": {
               "title": null
              },
              "scale": {
               "domain": [
                "silo emissions",
                "pods harvestable",
                "fertilized beans",
                "unfertilized beans",
                "pods issued",
                "total debt",
                "total credit"
               ],
               "range": [
                "#22577a",
                "#38a3a5",
                "#57cc99",
                "#ef9b20",
                "#fa4d56",
                "#9f1853",
                "#80ed99"
               ]
              },
              "type": "nominal"
             },
             "order": {
              "field": "stack_order",
              "sort": "ascending",
              "type": "quantitative"
             },
             "x": {
              "axis": {
               "formatType": "time",
               "labelAngle": 0,
               "labelExpr": "timeFormat(toDate(datum.value), '%b %Y')",
               "labelOverlap": true,
               "labelPadding": 5,
               "labelSeparation": 25,
               "ticks": false,
               "title": "Date"
              },
              "field": "tstamp",
              "type": "ordinal"
             },
             "y": {
              "axis": {
               "format": ".3~s",
               "labelExpr": "replace(datum.label, 'G', 'B')",
               "title": "BDV"
              },
              "field": "rvalue",
              "type": "quantitative"
             }
            },
            "height": 225,
            "mark": "bar",
            "selection": {
             "agglevel": {
              "bind": {
               "input": "select",
               "labels": [
                "weekly",
                "monthly"
               ],
               "name": "aggregation level:",
               "options": [
                "ymd",
                "ym"
               ]
              },
              "fields": [
               "AggLevel"
              ],
              "init": {
               "AggLevel": "ymd"
              },
              "type": "single"
             }
            },
            "transform": [
             {
              "as": "ymd",
              "field": "timestamp",
              "timeUnit": "yearmonthdate"
             },
             {
              "as": "ym",
              "field": "timestamp",
              "timeUnit": "yearmonth"
             },
             {
              "as": "tstamp",
              "calculate": "datum[agglevel.AggLevel]"
             },
             {
              "aggregate": [
               {
                "as": "rvalue",
                "field": "value",
                "op": "max"
               }
              ],
              "groupby": [
               "tstamp",
               "variable"
              ]
             },
             {
              "as": "stack_order",
              "calculate": "time(datum.tstamp) + (datum['variable'] === 'fertilizer adjusted pod rate' ? 0 :  datum['variable'] === 'debt credit ratio' ? 1 :  datum['variable'] === 'total credit' ? 2 :  datum['variable'] === 'total debt' ? 3 :  datum['variable'] === 'pods issued' ? 4 :  datum['variable'] === 'unfertilized beans' ? 5 :  datum['variable'] === 'fertilized beans' ? 6 :  datum['variable'] === 'pods harvestable' ? 7 :  datum['variable'] === 'silo emissions' ? 8 : 9)"
             },
             {
              "filter": "datum.variable == 'unfertilized beans' | datum.variable == 'pods issued'"
             }
            ],
            "width": 500
           },
           {
            "encoding": {
             "color": {
              "field": "variable",
              "legend": {
               "title": null
              },
              "scale": {
               "domain": [
                "silo emissions",
                "pods harvestable",
                "fertilized beans",
                "unfertilized beans",
                "pods issued",
                "total debt",
                "total credit"
               ],
               "range": [
                "#22577a",
                "#38a3a5",
                "#57cc99",
                "#ef9b20",
                "#fa4d56",
                "#9f1853",
                "#80ed99"
               ]
              },
              "type": "nominal"
             },
             "order": {
              "field": "stack_order",
              "sort": "ascending",
              "type": "quantitative"
             },
             "x": {
              "axis": {
               "formatType": "time",
               "labelAngle": 0,
               "labelExpr": "timeFormat(toDate(datum.value), '%b %Y')",
               "labelOverlap": true,
               "labelPadding": 5,
               "labelSeparation": 25,
               "ticks": false,
               "title": "Date"
              },
              "field": "tstamp",
              "type": "ordinal"
             },
             "y": {
              "axis": {
               "format": ".3~s",
               "labelExpr": "replace(datum.label, 'G', 'B')",
               "title": "BDV"
              },
              "field": "rvalue",
              "type": "quantitative"
             }
            },
            "height": 225,
            "mark": "bar",
            "transform": [
             {
              "as": "ymd",
              "field": "timestamp",
              "timeUnit": "yearmonthdate"
             },
             {
              "as": "ym",
              "field": "timestamp",
              "timeUnit": "yearmonth"
             },
             {
              "as": "tstamp",
              "calculate": "datum[agglevel.AggLevel]"
             },
             {
              "aggregate": [
               {
                "as": "rvalue",
                "field": "value",
                "op": "max"
               }
              ],
              "groupby": [
               "tstamp",
               "variable"
              ]
             },
             {
              "as": "stack_order",
              "calculate": "time(datum.tstamp) + (datum['variable'] === 'fertilizer adjusted pod rate' ? 0 :  datum['variable'] === 'debt credit ratio' ? 1 :  datum['variable'] === 'total credit' ? 2 :  datum['variable'] === 'total debt' ? 3 :  datum['variable'] === 'pods issued' ? 4 :  datum['variable'] === 'unfertilized beans' ? 5 :  datum['variable'] === 'fertilized beans' ? 6 :  datum['variable'] === 'pods harvestable' ? 7 :  datum['variable'] === 'silo emissions' ? 8 : 9)"
             },
             {
              "filter": "datum.variable == 'silo emissions' | datum.variable == 'pods harvestable' | datum.variable == 'fertilized beans'"
             }
            ],
            "width": 500
           },
           {
            "encoding": {
             "color": {
              "field": "variable",
              "legend": {
               "title": null
              },
              "scale": {
               "domain": [
                "silo emissions",
                "pods harvestable",
                "fertilized beans",
                "unfertilized beans",
                "pods issued",
                "total debt",
                "total credit"
               ],
               "range": [
                "#22577a",
                "#38a3a5",
                "#57cc99",
                "#ef9b20",
                "#fa4d56",
                "#9f1853",
                "#80ed99"
               ]
              },
              "type": "nominal"
             },
             "order": {
              "field": "stack_order",
              "sort": "ascending",
              "type": "quantitative"
             },
             "x": {
              "axis": {
               "formatType": "time",
               "labelAngle": 0,
               "labelExpr": "timeFormat(toDate(datum.value), '%b %Y')",
               "labelOverlap": true,
               "labelPadding": 5,
               "labelSeparation": 25,
               "ticks": false,
               "title": "Date"
              },
              "field": "tstamp",
              "type": "ordinal"
             },
             "y": {
              "axis": {
               "format": ".3~s",
               "labelExpr": "replace(datum.label, 'G', 'B')",
               "title": "BDV"
              },
              "field": "rvalue",
              "type": "quantitative"
             }
            },
            "height": 225,
            "mark": "line",
            "transform": [
             {
              "as": "ymd",
              "field": "timestamp",
              "timeUnit": "yearmonthdate"
             },
             {
              "as": "ym",
              "field": "timestamp",
              "timeUnit": "yearmonth"
             },
             {
              "as": "tstamp",
              "calculate": "datum[agglevel.AggLevel]"
             },
             {
              "aggregate": [
               {
                "as": "rvalue",
                "field": "value",
                "op": "max"
               }
              ],
              "groupby": [
               "tstamp",
               "variable"
              ]
             },
             {
              "as": "stack_order",
              "calculate": "time(datum.tstamp) + (datum['variable'] === 'fertilizer adjusted pod rate' ? 0 :  datum['variable'] === 'debt credit ratio' ? 1 :  datum['variable'] === 'total credit' ? 2 :  datum['variable'] === 'total debt' ? 3 :  datum['variable'] === 'pods issued' ? 4 :  datum['variable'] === 'unfertilized beans' ? 5 :  datum['variable'] === 'fertilized beans' ? 6 :  datum['variable'] === 'pods harvestable' ? 7 :  datum['variable'] === 'silo emissions' ? 8 : 9)"
             },
             {
              "filter": "datum.variable == 'total debt' | datum.variable == 'total credit'"
             }
            ],
            "width": 500
           },
           {
            "encoding": {
             "tooltip": [
              {
               "field": "tstamp",
               "timeUnit": "yearmonthdate",
               "title": "date",
               "type": "ordinal"
              },
              {
               "field": "silo emissions",
               "format": ",d",
               "title": "silo emissions",
               "type": "quantitative"
              },
              {
               "field": "pods harvestable",
               "format": ",d",
               "title": "pods harvestable",
               "type": "quantitative"
              },
              {
               "field": "fertilized beans",
               "format": ",d",
               "title": "fertilized beans",
               "type": "quantitative"
              },
              {
               "field": "unfertilized beans",
               "format": ",d",
               "title": "unfertilized beans",
               "type": "quantitative"
              },
              {
               "field": "pods issued",
               "format": ",d",
               "title": "pods issued",
               "type": "quantitative"
              },
              {
               "field": "total debt",
               "format": ",d",
               "title": "total debt",
               "type": "quantitative"
              },
              {
               "field": "total credit",
               "format": ",d",
               "title": "total credit",
               "type": "quantitative"
              },
              {
               "field": "debt credit ratio",
               "format": ".2%",
               "title": "debt credit ratio",
               "type": "quantitative"
              },
              {
               "field": "fertilizer adjusted pod rate",
               "format": ".2%",
               "title": "fertilizer adjusted pod rate",
               "type": "quantitative"
              }
             ],
             "x": {
              "axis": {
               "formatType": "time",
               "labelAngle": 0,
               "labelExpr": "timeFormat(toDate(datum.value), '%b %Y')",
               "labelOverlap": true,
               "labelPadding": 5,
               "labelSeparation": 25,
               "ticks": false,
               "title": "Date"
              },
              "field": "tstamp",
              "type": "ordinal"
             }
            },
            "height": 225,
            "mark": {
             "opacity": 0,
             "type": "rule"
            },
            "selection": {
             "selector001": {
              "clear": "mouseout",
              "empty": "none",
              "fields": [
               "tstamp"
              ],
              "nearest": true,
              "on": "mouseover",
              "type": "single"
             }
            },
            "transform": [
             {
              "as": "ymd",
              "field": "timestamp",
              "timeUnit": "yearmonthdate"
             },
             {
              "as": "ym",
              "field": "timestamp",
              "timeUnit": "yearmonth"
             },
             {
              "as": "tstamp",
              "calculate": "datum[agglevel.AggLevel]"
             },
             {
              "aggregate": [
               {
                "as": "rvalue",
                "field": "value",
                "op": "max"
               }
              ],
              "groupby": [
               "tstamp",
               "variable"
              ]
             },
             {
              "as": "stack_order",
              "calculate": "time(datum.tstamp) + (datum['variable'] === 'fertilizer adjusted pod rate' ? 0 :  datum['variable'] === 'debt credit ratio' ? 1 :  datum['variable'] === 'total credit' ? 2 :  datum['variable'] === 'total debt' ? 3 :  datum['variable'] === 'pods issued' ? 4 :  datum['variable'] === 'unfertilized beans' ? 5 :  datum['variable'] === 'fertilized beans' ? 6 :  datum['variable'] === 'pods harvestable' ? 7 :  datum['variable'] === 'silo emissions' ? 8 : 9)"
             },
             {
              "groupby": [
               "tstamp"
              ],
              "pivot": "variable",
              "value": "rvalue"
             }
            ],
            "width": 500
           },
           {
            "encoding": {
             "x": {
              "axis": {
               "formatType": "time",
               "labelAngle": 0,
               "labelExpr": "timeFormat(toDate(datum.value), '%b %Y')",
               "labelOverlap": true,
               "labelPadding": 5,
               "labelSeparation": 25,
               "ticks": false,
               "title": "Date"
              },
              "field": "tstamp",
              "type": "ordinal"
             }
            },
            "height": 225,
            "mark": {
             "color": "#474440",
             "opacity": 1,
             "strokeDash": [
              2.5,
              1
             ],
             "type": "rule"
            },
            "transform": [
             {
              "as": "ymd",
              "field": "timestamp",
              "timeUnit": "yearmonthdate"
             },
             {
              "as": "ym",
              "field": "timestamp",
              "timeUnit": "yearmonth"
             },
             {
              "as": "tstamp",
              "calculate": "datum[agglevel.AggLevel]"
             },
             {
              "aggregate": [
               {
                "as": "rvalue",
                "field": "value",
                "op": "max"
               }
              ],
              "groupby": [
               "tstamp",
               "variable"
              ]
             },
             {
              "as": "stack_order",
              "calculate": "time(datum.tstamp) + (datum['variable'] === 'fertilizer adjusted pod rate' ? 0 :  datum['variable'] === 'debt credit ratio' ? 1 :  datum['variable'] === 'total credit' ? 2 :  datum['variable'] === 'total debt' ? 3 :  datum['variable'] === 'pods issued' ? 4 :  datum['variable'] === 'unfertilized beans' ? 5 :  datum['variable'] === 'fertilized beans' ? 6 :  datum['variable'] === 'pods harvestable' ? 7 :  datum['variable'] === 'silo emissions' ? 8 : 9)"
             },
             {
              "groupby": [
               "tstamp"
              ],
              "pivot": "variable",
              "value": "rvalue"
             },
             {
              "filter": "year(datum.tstamp) === 2022 && month(datum.tstamp) === 3 && date(datum.tstamp) === 17"
             }
            ],
            "width": 500
           }
          ],
          "title": "Beanstalk Credit Profile"
         },
         {
          "layer": [
           {
            "encoding": {
             "color": {
              "field": "variable",
              "legend": {
               "title": null
              },
              "scale": {
               "domain": [
                "debt credit ratio",
                "fertilizer adjusted pod rate"
               ],
               "range": [
                "#ffc300",
                "#5e60ce"
               ]
              },
              "type": "nominal"
             },
             "x": {
              "axis": {
               "formatType": "time",
               "labelAngle": 0,
               "labelExpr": "timeFormat(toDate(datum.value), '%b %Y')",
               "labelOverlap": true,
               "labelPadding": 5,
               "labelSeparation": 25,
               "ticks": false,
               "title": "Date"
              },
              "field": "tstamp",
              "type": "ordinal"
             },
             "y": {
              "axis": {
               "format": ",%",
               "title": "Percent"
              },
              "field": "rvalue",
              "type": "quantitative"
             }
            },
            "height": 225,
            "mark": "line",
            "selection": {
             "agglevel": {
              "bind": {
               "input": "select",
               "labels": [
                "weekly",
                "monthly"
               ],
               "name": "aggregation level:",
               "options": [
                "ymd",
                "ym"
               ]
              },
              "fields": [
               "AggLevel"
              ],
              "init": {
               "AggLevel": "ymd"
              },
              "type": "single"
             }
            },
            "transform": [
             {
              "as": "ymd",
              "field": "timestamp",
              "timeUnit": "yearmonthdate"
             },
             {
              "as": "ym",
              "field": "timestamp",
              "timeUnit": "yearmonth"
             },
             {
              "as": "tstamp",
              "calculate": "datum[agglevel.AggLevel]"
             },
             {
              "aggregate": [
               {
                "as": "rvalue",
                "field": "value",
                "op": "max"
               }
              ],
              "groupby": [
               "tstamp",
               "variable"
              ]
             },
             {
              "as": "stack_order",
              "calculate": "time(datum.tstamp) + (datum['variable'] === 'fertilizer adjusted pod rate' ? 0 :  datum['variable'] === 'debt credit ratio' ? 1 :  datum['variable'] === 'total credit' ? 2 :  datum['variable'] === 'total debt' ? 3 :  datum['variable'] === 'pods issued' ? 4 :  datum['variable'] === 'unfertilized beans' ? 5 :  datum['variable'] === 'fertilized beans' ? 6 :  datum['variable'] === 'pods harvestable' ? 7 :  datum['variable'] === 'silo emissions' ? 8 : 9)"
             },
             {
              "filter": "datum.variable == 'debt credit ratio' | datum.variable == 'fertilizer adjusted pod rate'"
             }
            ],
            "width": 500
           },
           {
            "encoding": {
             "color": {
              "field": "variable",
              "legend": {
               "title": null
              },
              "scale": {
               "domain": [
                "debt credit ratio",
                "fertilizer adjusted pod rate"
               ],
               "range": [
                "#ffc300",
                "#5e60ce"
               ]
              },
              "type": "nominal"
             },
             "x": {
              "axis": {
               "formatType": "time",
               "labelAngle": 0,
               "labelExpr": "timeFormat(toDate(datum.value), '%b %Y')",
               "labelOverlap": true,
               "labelPadding": 5,
               "labelSeparation": 25,
               "ticks": false,
               "title": "Date"
              },
              "field": "tstamp",
              "type": "ordinal"
             },
             "y": {
              "axis": {
               "format": ",%",
               "title": "Percent"
              },
              "field": "rvalue",
              "type": "quantitative"
             }
            },
            "height": 225,
            "mark": {
             "size": 7,
             "type": "point"
            },
            "transform": [
             {
              "as": "ymd",
              "field": "timestamp",
              "timeUnit": "yearmonthdate"
             },
             {
              "as": "ym",
              "field": "timestamp",
              "timeUnit": "yearmonth"
             },
             {
              "as": "tstamp",
              "calculate": "datum[agglevel.AggLevel]"
             },
             {
              "aggregate": [
               {
                "as": "rvalue",
                "field": "value",
                "op": "max"
               }
              ],
              "groupby": [
               "tstamp",
               "variable"
              ]
             },
             {
              "as": "stack_order",
              "calculate": "time(datum.tstamp) + (datum['variable'] === 'fertilizer adjusted pod rate' ? 0 :  datum['variable'] === 'debt credit ratio' ? 1 :  datum['variable'] === 'total credit' ? 2 :  datum['variable'] === 'total debt' ? 3 :  datum['variable'] === 'pods issued' ? 4 :  datum['variable'] === 'unfertilized beans' ? 5 :  datum['variable'] === 'fertilized beans' ? 6 :  datum['variable'] === 'pods harvestable' ? 7 :  datum['variable'] === 'silo emissions' ? 8 : 9)"
             },
             {
              "filter": "datum.variable == 'debt credit ratio' | datum.variable == 'fertilizer adjusted pod rate'"
             }
            ],
            "width": 500
           },
           {
            "encoding": {
             "tooltip": [
              {
               "field": "tstamp",
               "timeUnit": "yearmonthdate",
               "title": "date",
               "type": "ordinal"
              },
              {
               "field": "silo emissions",
               "format": ",d",
               "title": "silo emissions",
               "type": "quantitative"
              },
              {
               "field": "pods harvestable",
               "format": ",d",
               "title": "pods harvestable",
               "type": "quantitative"
              },
              {
               "field": "fertilized beans",
               "format": ",d",
               "title": "fertilized beans",
               "type": "quantitative"
              },
              {
               "field": "unfertilized beans",
               "format": ",d",
               "title": "unfertilized beans",
               "type": "quantitative"
              },
              {
               "field": "pods issued",
               "format": ",d",
               "title": "pods issued",
               "type": "quantitative"
              },
              {
               "field": "total debt",
               "format": ",d",
               "title": "total debt",
               "type": "quantitative"
              },
              {
               "field": "total credit",
               "format": ",d",
               "title": "total credit",
               "type": "quantitative"
              },
              {
               "field": "debt credit ratio",
               "format": ".2%",
               "title": "debt credit ratio",
               "type": "quantitative"
              },
              {
               "field": "fertilizer adjusted pod rate",
               "format": ".2%",
               "title": "fertilizer adjusted pod rate",
               "type": "quantitative"
              }
             ],
             "x": {
              "axis": {
               "formatType": "time",
               "labelAngle": 0,
               "labelExpr": "timeFormat(toDate(datum.value), '%b %Y')",
               "labelOverlap": true,
               "labelPadding": 5,
               "labelSeparation": 25,
               "ticks": false,
               "title": "Date"
              },
              "field": "tstamp",
              "type": "ordinal"
             }
            },
            "height": 225,
            "mark": {
             "opacity": 0,
             "type": "rule"
            },
            "selection": {
             "selector001": {
              "clear": "mouseout",
              "empty": "none",
              "fields": [
               "tstamp"
              ],
              "nearest": true,
              "on": "mouseover",
              "type": "single"
             }
            },
            "transform": [
             {
              "as": "ymd",
              "field": "timestamp",
              "timeUnit": "yearmonthdate"
             },
             {
              "as": "ym",
              "field": "timestamp",
              "timeUnit": "yearmonth"
             },
             {
              "as": "tstamp",
              "calculate": "datum[agglevel.AggLevel]"
             },
             {
              "aggregate": [
               {
                "as": "rvalue",
                "field": "value",
                "op": "max"
               }
              ],
              "groupby": [
               "tstamp",
               "variable"
              ]
             },
             {
              "as": "stack_order",
              "calculate": "time(datum.tstamp) + (datum['variable'] === 'fertilizer adjusted pod rate' ? 0 :  datum['variable'] === 'debt credit ratio' ? 1 :  datum['variable'] === 'total credit' ? 2 :  datum['variable'] === 'total debt' ? 3 :  datum['variable'] === 'pods issued' ? 4 :  datum['variable'] === 'unfertilized beans' ? 5 :  datum['variable'] === 'fertilized beans' ? 6 :  datum['variable'] === 'pods harvestable' ? 7 :  datum['variable'] === 'silo emissions' ? 8 : 9)"
             },
             {
              "groupby": [
               "tstamp"
              ],
              "pivot": "variable",
              "value": "rvalue"
             }
            ],
            "width": 500
           },
           {
            "encoding": {
             "x": {
              "axis": {
               "formatType": "time",
               "labelAngle": 0,
               "labelExpr": "timeFormat(toDate(datum.value), '%b %Y')",
               "labelOverlap": true,
               "labelPadding": 5,
               "labelSeparation": 25,
               "ticks": false,
               "title": "Date"
              },
              "field": "tstamp",
              "type": "ordinal"
             }
            },
            "height": 225,
            "mark": {
             "color": "#474440",
             "opacity": 1,
             "strokeDash": [
              2.5,
              1
             ],
             "type": "rule"
            },
            "transform": [
             {
              "as": "ymd",
              "field": "timestamp",
              "timeUnit": "yearmonthdate"
             },
             {
              "as": "ym",
              "field": "timestamp",
              "timeUnit": "yearmonth"
             },
             {
              "as": "tstamp",
              "calculate": "datum[agglevel.AggLevel]"
             },
             {
              "aggregate": [
               {
                "as": "rvalue",
                "field": "value",
                "op": "max"
               }
              ],
              "groupby": [
               "tstamp",
               "variable"
              ]
             },
             {
              "as": "stack_order",
              "calculate": "time(datum.tstamp) + (datum['variable'] === 'fertilizer adjusted pod rate' ? 0 :  datum['variable'] === 'debt credit ratio' ? 1 :  datum['variable'] === 'total credit' ? 2 :  datum['variable'] === 'total debt' ? 3 :  datum['variable'] === 'pods issued' ? 4 :  datum['variable'] === 'unfertilized beans' ? 5 :  datum['variable'] === 'fertilized beans' ? 6 :  datum['variable'] === 'pods harvestable' ? 7 :  datum['variable'] === 'silo emissions' ? 8 : 9)"
             },
             {
              "groupby": [
               "tstamp"
              ],
              "pivot": "variable",
              "value": "rvalue"
             },
             {
              "filter": "year(datum.tstamp) === 2022 && month(datum.tstamp) === 3 && date(datum.tstamp) === 17"
             }
            ],
            "width": 500
           }
          ],
          "title": "Beanstalk Credit Metrics"
         }
        ]
       },
       "width_paths": [
        {
         "factor": 1,
         "path": [
          "config",
          "view",
          "continuousWidth"
         ],
         "value": 400
        },
        {
         "factor": 1,
         "path": [
          "vconcat",
          0,
          "layer",
          0,
          "width"
         ],
         "value": 500
        },
        {
         "factor": 1,
         "path": [
          "vconcat",
          0,
          "layer",
          1,
          "width"
         ],
         "value": 500
        },
        {
         "factor": 1,
         "path": [
          "vconcat",
          0,
          "layer",
          2,
          "width"
         ],
         "value": 500
        },
        {
         "factor": 1,
         "path": [
          "vconcat",
          0,
          "layer",
          3,
          "width"
         ],
         "value": 500
        },
        {
         "factor": 1,
         "path": [
          "vconcat",
          0,
          "layer",
          4,
          "width"
         ],
         "value": 500
        },
        {
         "factor": 1,
         "path": [
          "vconcat",
          1,
          "layer",
          0,
          "width"
         ],
         "value": 500
        },
        {
         "factor": 1,
         "path": [
          "vconcat",
          1,
          "layer",
          1,
          "width"
         ],
         "value": 500
        },
        {
         "factor": 1,
         "path": [
          "vconcat",
          1,
          "layer",
          2,
          "width"
         ],
         "value": 500
        },
        {
         "factor": 1,
         "path": [
          "vconcat",
          1,
          "layer",
          3,
          "width"
         ],
         "value": 500
        }
       ]
      },
      "text/plain": [
       "<IPython.core.display.JSON object>"
      ]
     },
     "execution_count": 16,
     "metadata": {
      "application/json": {
       "expanded": false,
       "root": "root"
      }
     },
     "output_type": "execute_result"
    }
   ],
   "source": [
    "output_chart(c, css=css)"
   ]
  },
  {
   "cell_type": "code",
   "execution_count": null,
   "id": "dc5d4a55",
   "metadata": {},
   "outputs": [],
   "source": []
  },
  {
   "cell_type": "code",
   "execution_count": null,
   "id": "844e509c-7c31-4113-b5a9-5a5ac972f215",
   "metadata": {},
   "outputs": [],
   "source": []
  }
 ],
 "metadata": {
  "kernelspec": {
   "display_name": "beanstalk",
   "language": "python",
   "name": "beanstalk"
  },
  "language_info": {
   "codemirror_mode": {
    "name": "ipython",
    "version": 3
   },
   "file_extension": ".py",
   "mimetype": "text/x-python",
   "name": "python",
   "nbconvert_exporter": "python",
   "pygments_lexer": "ipython3",
   "version": "3.10.5"
  }
 },
 "nbformat": 4,
 "nbformat_minor": 5
}
