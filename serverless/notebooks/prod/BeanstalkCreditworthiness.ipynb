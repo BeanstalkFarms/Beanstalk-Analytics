{
 "cells": [
  {
   "cell_type": "code",
   "execution_count": 1,
   "id": "bb524f98-4f94-476c-b760-7d5dbae7938d",
   "metadata": {},
   "outputs": [],
   "source": [
    "import os \n",
    "import sys \n",
    "import json \n",
    "import logging \n",
    "from pathlib import Path \n",
    "from functools import cache\n",
    "from itertools import product\n",
    "\n",
    "# Required when developing in a jupyter-notebook environment \n",
    "cur_path = os.path.abspath(\"../..\")\n",
    "if cur_path not in sys.path: \n",
    "    sys.path.append(cur_path)\n",
    "\n",
    "import numpy as np \n",
    "import pandas as pd \n",
    "import altair as alt \n",
    "from altair import datum\n",
    "from dotenv import load_dotenv\n",
    "from subgrounds.subgrounds import Subgrounds, Subgraph\n",
    "from subgrounds.subgraph import SyntheticField\n",
    "from subgrounds.pagination import ShallowStrategy\n",
    "\n",
    "# Required when developing in a jupyter-notebook environment \n",
    "assert load_dotenv('../../../.env')\n",
    "\n",
    "from utils_notebook.utils import ddf, remove_prefix, load_subgraph, remove_keys\n",
    "from utils_notebook.vega import condition_union, output_chart, apply_css \n",
    "from utils_notebook.testing import validate_season_series\n",
    "from utils_notebook.constants import ADDR_BEANSTALK"
   ]
  },
  {
   "cell_type": "code",
   "execution_count": 2,
   "id": "4dda51ef-cb6a-4692-9bad-6ea39ab9c6fe",
   "metadata": {},
   "outputs": [],
   "source": [
    "sg, bs = load_subgraph()"
   ]
  },
  {
   "cell_type": "code",
   "execution_count": 3,
   "id": "38246778",
   "metadata": {},
   "outputs": [],
   "source": [
    "@cache\n",
    "def query_rewards(refresh=None): \n",
    "    bs.Reward.fertilized_beans_daily = SyntheticField(\n",
    "        lambda toFertilizer: float(toFertilizer) / 1e6, \n",
    "        SyntheticField.FLOAT, \n",
    "        bs.Reward.toFertilizer\n",
    "    ) \n",
    "    q = bs.Query.rewards(orderBy=\"blockNumber\", orderDirection=\"asc\", first=10000)\n",
    "    df = sg.query_df(\n",
    "        [\n",
    "            q.season, \n",
    "            q.fertilized_beans_daily, \n",
    "        ], \n",
    "        pagination_strategy=ShallowStrategy\n",
    "    )\n",
    "    return remove_prefix(df, 'rewards_').sort_values('season')\n",
    "\n",
    "@cache \n",
    "def query_fertilizer_tokens(refresh=None): \n",
    "    bs.FertilizerToken.fert = bs.FertilizerToken.supply \n",
    "    bs.FertilizerToken.start_bpf = bs.FertilizerToken.startBpf / 1e6 \n",
    "    bs.FertilizerToken.end_bpf = SyntheticField(\n",
    "      lambda _id: float(_id) / 1e6, \n",
    "      SyntheticField.FLOAT,\n",
    "      bs.FertilizerToken.id, \n",
    "    )\n",
    "    ft = bs.Query.fertilizerTokens(\n",
    "        first=10000, \n",
    "        orderBy=\"humidity\", \n",
    "        orderDirection=\"desc\"\n",
    "    )\n",
    "    df = sg.query_df(\n",
    "        [\n",
    "            ft.season, \n",
    "            ft.fert, \n",
    "            ft.start_bpf, \n",
    "            ft.end_bpf, \n",
    "        ],\n",
    "        pagination_strategy=ShallowStrategy\n",
    "    )\n",
    "    return remove_prefix(df, \"fertilizerTokens_\")"
   ]
  },
  {
   "cell_type": "code",
   "execution_count": 4,
   "id": "f4b004b6",
   "metadata": {},
   "outputs": [
    {
     "data": {
      "text/html": [
       "<div>\n",
       "<style scoped>\n",
       "    .dataframe tbody tr th:only-of-type {\n",
       "        vertical-align: middle;\n",
       "    }\n",
       "\n",
       "    .dataframe tbody tr th {\n",
       "        vertical-align: top;\n",
       "    }\n",
       "\n",
       "    .dataframe thead th {\n",
       "        text-align: right;\n",
       "    }\n",
       "</style>\n",
       "<table border=\"1\" class=\"dataframe\">\n",
       "  <thead>\n",
       "    <tr style=\"text-align: right;\">\n",
       "      <th></th>\n",
       "      <th>season</th>\n",
       "      <th>fertilized_beans_daily</th>\n",
       "    </tr>\n",
       "  </thead>\n",
       "  <tbody>\n",
       "    <tr>\n",
       "      <th>0</th>\n",
       "      <td>6076</td>\n",
       "      <td>2266.788451</td>\n",
       "    </tr>\n",
       "    <tr>\n",
       "      <th>1</th>\n",
       "      <td>6077</td>\n",
       "      <td>4557.830445</td>\n",
       "    </tr>\n",
       "    <tr>\n",
       "      <th>2</th>\n",
       "      <td>6078</td>\n",
       "      <td>6936.066574</td>\n",
       "    </tr>\n",
       "    <tr>\n",
       "      <th>3</th>\n",
       "      <td>6079</td>\n",
       "      <td>9357.109094</td>\n",
       "    </tr>\n",
       "    <tr>\n",
       "      <th>4</th>\n",
       "      <td>6080</td>\n",
       "      <td>13383.907966</td>\n",
       "    </tr>\n",
       "  </tbody>\n",
       "</table>\n",
       "</div>"
      ],
      "text/plain": [
       "   season  fertilized_beans_daily\n",
       "0    6076             2266.788451\n",
       "1    6077             4557.830445\n",
       "2    6078             6936.066574\n",
       "3    6079             9357.109094\n",
       "4    6080            13383.907966"
      ]
     },
     "execution_count": 4,
     "metadata": {},
     "output_type": "execute_result"
    }
   ],
   "source": [
    "# fertilizer emissions (incomplete season axis, all seasons unique)\n",
    "df_rewards = query_rewards(refresh=5).copy()\n",
    "df_rewards.head()\n",
    "# df_rewards = df_rewards[['season', 'fertilized_beans_daily']]\n",
    "# validate_season_series(df_rewards, allow_missing=True)\n",
    "# df_rewards.head()"
   ]
  },
  {
   "cell_type": "code",
   "execution_count": 5,
   "id": "cf576907-69bb-4324-8c1a-ac830094da4c",
   "metadata": {},
   "outputs": [
    {
     "data": {
      "text/html": [
       "<div>\n",
       "<style scoped>\n",
       "    .dataframe tbody tr th:only-of-type {\n",
       "        vertical-align: middle;\n",
       "    }\n",
       "\n",
       "    .dataframe tbody tr th {\n",
       "        vertical-align: top;\n",
       "    }\n",
       "\n",
       "    .dataframe thead th {\n",
       "        text-align: right;\n",
       "    }\n",
       "</style>\n",
       "<table border=\"1\" class=\"dataframe\">\n",
       "  <thead>\n",
       "    <tr style=\"text-align: right;\">\n",
       "      <th></th>\n",
       "      <th>season</th>\n",
       "      <th>fertilized_beans_cumulative</th>\n",
       "      <th>unfertilized_beans_cumulative</th>\n",
       "    </tr>\n",
       "  </thead>\n",
       "  <tbody>\n",
       "    <tr>\n",
       "      <th>0</th>\n",
       "      <td>6074</td>\n",
       "      <td>0.000000</td>\n",
       "      <td>8.643268e+07</td>\n",
       "    </tr>\n",
       "    <tr>\n",
       "      <th>1</th>\n",
       "      <td>6075</td>\n",
       "      <td>0.000000</td>\n",
       "      <td>8.644328e+07</td>\n",
       "    </tr>\n",
       "    <tr>\n",
       "      <th>2</th>\n",
       "      <td>6076</td>\n",
       "      <td>2266.788451</td>\n",
       "      <td>8.654976e+07</td>\n",
       "    </tr>\n",
       "    <tr>\n",
       "      <th>3</th>\n",
       "      <td>6077</td>\n",
       "      <td>6824.618896</td>\n",
       "      <td>8.658356e+07</td>\n",
       "    </tr>\n",
       "    <tr>\n",
       "      <th>4</th>\n",
       "      <td>6078</td>\n",
       "      <td>13760.685470</td>\n",
       "      <td>8.659188e+07</td>\n",
       "    </tr>\n",
       "  </tbody>\n",
       "</table>\n",
       "</div>"
      ],
      "text/plain": [
       "   season  fertilized_beans_cumulative  unfertilized_beans_cumulative\n",
       "0    6074                     0.000000                   8.643268e+07\n",
       "1    6075                     0.000000                   8.644328e+07\n",
       "2    6076                  2266.788451                   8.654976e+07\n",
       "3    6077                  6824.618896                   8.658356e+07\n",
       "4    6078                 13760.685470                   8.659188e+07"
      ]
     },
     "execution_count": 5,
     "metadata": {},
     "output_type": "execute_result"
    }
   ],
   "source": [
    "df_fert = query_fertilizer_tokens(refresh=5).copy()\n",
    "df_fert = df_fert.merge(df_rewards, how=\"outer\", on=\"season\").sort_values('season')\n",
    "df_fert['fertilized_beans_daily'] = df_fert.fertilized_beans_daily.fillna(0)\n",
    "df_fert['fertilized_beans_cumulative'] = df_fert.fertilized_beans_daily.cumsum()\n",
    "df_fert['unfertilized_beans_cumulative'] = ((df_fert.fert * df_fert.end_bpf).cumsum() - df_fert.fertilized_beans_cumulative).ffill()\n",
    "df_fert = df_fert[\n",
    "    ['season', 'fertilized_beans_cumulative', 'unfertilized_beans_cumulative']\n",
    "].groupby(\"season\").agg({\n",
    "    \"fertilized_beans_cumulative\": \"max\", \n",
    "    \"unfertilized_beans_cumulative\": \"max\"\n",
    "}).reset_index()\n",
    "validate_season_series(df_fert, allow_missing=True)\n",
    "df_fert.head()"
   ]
  },
  {
   "cell_type": "code",
   "execution_count": 6,
   "id": "f5823889",
   "metadata": {},
   "outputs": [],
   "source": [
    "@cache \n",
    "def query_field(refresh=None) -> pd.DataFrame: \n",
    "    field_snaps = bs.Query.fieldDailySnapshots(\n",
    "        orderBy=\"season\", \n",
    "        orderDirection=\"asc\", \n",
    "        first=10000, \n",
    "        where={\"field\": ADDR_BEANSTALK}\n",
    "    )\n",
    "    df_field = sg.query_df(\n",
    "        [\n",
    "            field_snaps.season, \n",
    "            field_snaps.newHarvestedPods, \n",
    "            field_snaps.newHarvestablePods, \n",
    "            field_snaps.podIndex, \n",
    "        ], \n",
    "        pagination_strategy=ShallowStrategy\n",
    "    )\n",
    "    return df_field "
   ]
  },
  {
   "cell_type": "code",
   "execution_count": 7,
   "id": "1bc57f9f",
   "metadata": {},
   "outputs": [
    {
     "data": {
      "text/html": [
       "<div>\n",
       "<style scoped>\n",
       "    .dataframe tbody tr th:only-of-type {\n",
       "        vertical-align: middle;\n",
       "    }\n",
       "\n",
       "    .dataframe tbody tr th {\n",
       "        vertical-align: top;\n",
       "    }\n",
       "\n",
       "    .dataframe thead th {\n",
       "        text-align: right;\n",
       "    }\n",
       "</style>\n",
       "<table border=\"1\" class=\"dataframe\">\n",
       "  <thead>\n",
       "    <tr style=\"text-align: right;\">\n",
       "      <th></th>\n",
       "      <th>season</th>\n",
       "      <th>pods_harvestable_daily</th>\n",
       "      <th>pods_harvested_daily</th>\n",
       "      <th>pods_issued_cumulative</th>\n",
       "      <th>pods_issued_daily</th>\n",
       "      <th>pods_harvestable_cumulative</th>\n",
       "    </tr>\n",
       "  </thead>\n",
       "  <tbody>\n",
       "    <tr>\n",
       "      <th>305</th>\n",
       "      <td>7305</td>\n",
       "      <td>0.0</td>\n",
       "      <td>0.0</td>\n",
       "      <td>8.286361e+08</td>\n",
       "      <td>4117.776547</td>\n",
       "      <td>5.756021e+07</td>\n",
       "    </tr>\n",
       "    <tr>\n",
       "      <th>306</th>\n",
       "      <td>7329</td>\n",
       "      <td>0.0</td>\n",
       "      <td>0.0</td>\n",
       "      <td>8.286403e+08</td>\n",
       "      <td>4198.016655</td>\n",
       "      <td>5.756021e+07</td>\n",
       "    </tr>\n",
       "    <tr>\n",
       "      <th>307</th>\n",
       "      <td>7353</td>\n",
       "      <td>0.0</td>\n",
       "      <td>0.0</td>\n",
       "      <td>8.286403e+08</td>\n",
       "      <td>0.019026</td>\n",
       "      <td>5.756021e+07</td>\n",
       "    </tr>\n",
       "    <tr>\n",
       "      <th>308</th>\n",
       "      <td>7377</td>\n",
       "      <td>0.0</td>\n",
       "      <td>0.0</td>\n",
       "      <td>8.286403e+08</td>\n",
       "      <td>0.027175</td>\n",
       "      <td>5.756021e+07</td>\n",
       "    </tr>\n",
       "    <tr>\n",
       "      <th>309</th>\n",
       "      <td>7398</td>\n",
       "      <td>0.0</td>\n",
       "      <td>0.0</td>\n",
       "      <td>8.286403e+08</td>\n",
       "      <td>0.089900</td>\n",
       "      <td>5.756021e+07</td>\n",
       "    </tr>\n",
       "  </tbody>\n",
       "</table>\n",
       "</div>"
      ],
      "text/plain": [
       "     season  pods_harvestable_daily  pods_harvested_daily  \\\n",
       "305    7305                     0.0                   0.0   \n",
       "306    7329                     0.0                   0.0   \n",
       "307    7353                     0.0                   0.0   \n",
       "308    7377                     0.0                   0.0   \n",
       "309    7398                     0.0                   0.0   \n",
       "\n",
       "     pods_issued_cumulative  pods_issued_daily  pods_harvestable_cumulative  \n",
       "305            8.286361e+08        4117.776547                 5.756021e+07  \n",
       "306            8.286403e+08        4198.016655                 5.756021e+07  \n",
       "307            8.286403e+08           0.019026                 5.756021e+07  \n",
       "308            8.286403e+08           0.027175                 5.756021e+07  \n",
       "309            8.286403e+08           0.089900                 5.756021e+07  "
      ]
     },
     "execution_count": 7,
     "metadata": {},
     "output_type": "execute_result"
    }
   ],
   "source": [
    "df_field = query_field(refresh=3).copy()\n",
    "df_field = remove_prefix(df_field, \"fieldDailySnapshots_\")\n",
    "df_field = df_field.sort_values(\"season\")\n",
    "df_field['pods_harvestable_daily'] = (df_field.newHarvestablePods / 10**6)\n",
    "df_field['pods_harvested_daily'] = df_field.newHarvestedPods / 10**6\n",
    "df_field = df_field.drop(columns=['newHarvestablePods', 'newHarvestedPods'])\n",
    "df_field = df_field.groupby('season').agg({\n",
    "    # handles edge case for season 6074 which occurred multiple times \n",
    "    \"pods_harvestable_daily\": \"sum\", \n",
    "    \"pods_harvested_daily\": \"sum\", \n",
    "    \"podIndex\": \"max\"\n",
    "}).reset_index()\n",
    "df_field['pods_issued_cumulative'] = df_field.podIndex / 10**6\n",
    "df_field['pods_issued_daily'] = df_field.pods_issued_cumulative - df_field.pods_issued_cumulative.shift(1).fillna(0)\n",
    "df_field['pods_harvestable_cumulative'] = df_field.pods_harvested_daily.cumsum() # TODO: factor in harvestable daily \n",
    "df_field = df_field.drop(columns=['podIndex'])\n",
    "validate_season_series(df_field, allow_missing=True)\n",
    "df_field.tail()"
   ]
  },
  {
   "cell_type": "code",
   "execution_count": 8,
   "id": "9d60f680",
   "metadata": {},
   "outputs": [],
   "source": [
    "def silo_emissions_pre_replant() -> pd.DataFrame: \n",
    "    \"\"\"Temporary solution to subgraph not having silo emissions pre-replant \n",
    "    \n",
    "    Data was downloaded from dune \n",
    "    \"\"\"\n",
    "    with Path(\"data/SupplyIncrease.json\").open('r') as f: \n",
    "        data = json.loads(f.read())\n",
    "    data = [remove_keys(d['data'], ['__typename']) for d in data]\n",
    "    df_supply_inc = pd.DataFrame(data)[['season', 'newSilo']]\n",
    "    return df_supply_inc\n",
    "\n",
    "@cache \n",
    "def query_silo(refresh=None) -> pd.DataFrame: \n",
    "    silo_snaps = bs.Query.siloDailySnapshots(\n",
    "        orderBy=\"season\", \n",
    "        orderDirection=\"asc\", \n",
    "        first=10000, \n",
    "        where={\"silo\": ADDR_BEANSTALK}\n",
    "    )\n",
    "    df = sg.query_df(\n",
    "        [\n",
    "            silo_snaps.season, \n",
    "            silo_snaps.dailyBeanMints, \n",
    "            # silo_snaps.totalBeanMints, # add back when subgraph includes historical data \n",
    "        ], \n",
    "        pagination_strategy=ShallowStrategy\n",
    "    )\n",
    "    return df "
   ]
  },
  {
   "cell_type": "code",
   "execution_count": 9,
   "id": "cfb4cc16",
   "metadata": {},
   "outputs": [
    {
     "data": {
      "text/html": [
       "<div>\n",
       "<style scoped>\n",
       "    .dataframe tbody tr th:only-of-type {\n",
       "        vertical-align: middle;\n",
       "    }\n",
       "\n",
       "    .dataframe tbody tr th {\n",
       "        vertical-align: top;\n",
       "    }\n",
       "\n",
       "    .dataframe thead th {\n",
       "        text-align: right;\n",
       "    }\n",
       "</style>\n",
       "<table border=\"1\" class=\"dataframe\">\n",
       "  <thead>\n",
       "    <tr style=\"text-align: right;\">\n",
       "      <th></th>\n",
       "      <th>season</th>\n",
       "      <th>silo_emissions_daily</th>\n",
       "      <th>silo_emissions_cumulative</th>\n",
       "    </tr>\n",
       "  </thead>\n",
       "  <tbody>\n",
       "    <tr>\n",
       "      <th>0</th>\n",
       "      <td>3</td>\n",
       "      <td>31.650670</td>\n",
       "      <td>31.650670</td>\n",
       "    </tr>\n",
       "    <tr>\n",
       "      <th>1</th>\n",
       "      <td>4</td>\n",
       "      <td>17.760260</td>\n",
       "      <td>49.410930</td>\n",
       "    </tr>\n",
       "    <tr>\n",
       "      <th>2</th>\n",
       "      <td>5</td>\n",
       "      <td>43.709604</td>\n",
       "      <td>93.120534</td>\n",
       "    </tr>\n",
       "    <tr>\n",
       "      <th>3</th>\n",
       "      <td>18</td>\n",
       "      <td>0.342173</td>\n",
       "      <td>93.462707</td>\n",
       "    </tr>\n",
       "    <tr>\n",
       "      <th>4</th>\n",
       "      <td>21</td>\n",
       "      <td>676.195254</td>\n",
       "      <td>769.657961</td>\n",
       "    </tr>\n",
       "  </tbody>\n",
       "</table>\n",
       "</div>"
      ],
      "text/plain": [
       "   season  silo_emissions_daily  silo_emissions_cumulative\n",
       "0       3             31.650670                  31.650670\n",
       "1       4             17.760260                  49.410930\n",
       "2       5             43.709604                  93.120534\n",
       "3      18              0.342173                  93.462707\n",
       "4      21            676.195254                 769.657961"
      ]
     },
     "execution_count": 9,
     "metadata": {},
     "output_type": "execute_result"
    }
   ],
   "source": [
    "# process post-replant silo data (subgraph)\n",
    "df_silo = query_silo(refresh=1).copy()\n",
    "df_silo = remove_prefix(df_silo, \"siloDailySnapshots_\")\n",
    "df_silo = df_silo.loc[df_silo.season != 5903] # Subgraph bug probably? \n",
    "assert df_silo.season.min() == 6074, \"If this fails, then subgraph was fixed to include historical data.\"\n",
    "df_silo = df_silo.rename(columns={\"dailyBeanMints\": \"silo_emissions_daily\"})\n",
    "# process pre-replant silo data (downloaded from dune)\n",
    "df_silo_old = silo_emissions_pre_replant()\n",
    "df_silo_old = df_silo_old.rename(columns={\"newSilo\": \"silo_emissions_daily\"})\n",
    "# Combine pre and post replant data (no seasons in common so outer join)\n",
    "df_silo = df_silo.merge(df_silo_old, how=\"outer\")\n",
    "assert set(df_silo.columns) == set(['season', 'silo_emissions_daily'])\n",
    "df_silo = df_silo.sort_values(\"season\")\n",
    "df_silo = df_silo.groupby('season').agg({\n",
    "    # handles edge case for season 6074 which occurred multiple times \n",
    "    \"silo_emissions_daily\": \"sum\", \n",
    "}).reset_index()\n",
    "df_silo['silo_emissions_daily'] /= 10**6\n",
    "df_silo['silo_emissions_cumulative'] = df_silo.silo_emissions_daily.cumsum()\n",
    "validate_season_series(df_silo, allow_missing=True)\n",
    "df_silo.head() "
   ]
  },
  {
   "cell_type": "code",
   "execution_count": 10,
   "id": "941d682b",
   "metadata": {},
   "outputs": [],
   "source": [
    "@cache \n",
    "def query_seasons(refresh=None) -> pd.DataFrame: \n",
    "    seasons = bs.Query.seasons(\n",
    "        first=10000, orderBy=\"season\", orderDirection=\"asc\"\n",
    "    )\n",
    "    bs.Season.bean_supply = bs.Season.beans / 1e6\n",
    "    df = sg.query_df([\n",
    "        seasons.season, \n",
    "        seasons.timestamp, \n",
    "        seasons.bean_supply, \n",
    "    ], pagination_strategy=ShallowStrategy)\n",
    "    df = remove_prefix(df, 'seasons_')\n",
    "    return df "
   ]
  },
  {
   "cell_type": "code",
   "execution_count": 11,
   "id": "0e539add",
   "metadata": {},
   "outputs": [
    {
     "data": {
      "text/html": [
       "<div>\n",
       "<style scoped>\n",
       "    .dataframe tbody tr th:only-of-type {\n",
       "        vertical-align: middle;\n",
       "    }\n",
       "\n",
       "    .dataframe tbody tr th {\n",
       "        vertical-align: top;\n",
       "    }\n",
       "\n",
       "    .dataframe thead th {\n",
       "        text-align: right;\n",
       "    }\n",
       "</style>\n",
       "<table border=\"1\" class=\"dataframe\">\n",
       "  <thead>\n",
       "    <tr style=\"text-align: right;\">\n",
       "      <th></th>\n",
       "      <th>season</th>\n",
       "      <th>timestamp</th>\n",
       "      <th>bean_supply</th>\n",
       "    </tr>\n",
       "  </thead>\n",
       "  <tbody>\n",
       "    <tr>\n",
       "      <th>2</th>\n",
       "      <td>2</td>\n",
       "      <td>2021-08-07 00:06:08</td>\n",
       "      <td>2078.821989</td>\n",
       "    </tr>\n",
       "    <tr>\n",
       "      <th>3</th>\n",
       "      <td>3</td>\n",
       "      <td>2021-08-07 01:07:38</td>\n",
       "      <td>4089.294648</td>\n",
       "    </tr>\n",
       "    <tr>\n",
       "      <th>4</th>\n",
       "      <td>4</td>\n",
       "      <td>2021-08-07 02:09:28</td>\n",
       "      <td>6085.876897</td>\n",
       "    </tr>\n",
       "    <tr>\n",
       "      <th>5</th>\n",
       "      <td>5</td>\n",
       "      <td>2021-08-07 03:07:35</td>\n",
       "      <td>8108.408490</td>\n",
       "    </tr>\n",
       "    <tr>\n",
       "      <th>6</th>\n",
       "      <td>6</td>\n",
       "      <td>2021-08-07 04:11:23</td>\n",
       "      <td>10087.230479</td>\n",
       "    </tr>\n",
       "  </tbody>\n",
       "</table>\n",
       "</div>"
      ],
      "text/plain": [
       "   season           timestamp   bean_supply\n",
       "2       2 2021-08-07 00:06:08   2078.821989\n",
       "3       3 2021-08-07 01:07:38   4089.294648\n",
       "4       4 2021-08-07 02:09:28   6085.876897\n",
       "5       5 2021-08-07 03:07:35   8108.408490\n",
       "6       6 2021-08-07 04:11:23  10087.230479"
      ]
     },
     "execution_count": 11,
     "metadata": {},
     "output_type": "execute_result"
    }
   ],
   "source": [
    "df_szns = query_seasons(refresh=1)\n",
    "df_szns['timestamp'] = pd.to_datetime(df_szns.timestamp, unit='s')\n",
    "validate_season_series(df_szns, allow_missing=False)\n",
    "df_szns = df_szns.loc[df_szns.season >= 2] # timestamps are wrong for season 0 and 1 \n",
    "df_szns.head()"
   ]
  },
  {
   "cell_type": "code",
   "execution_count": 12,
   "id": "013a35a6-f244-4bf6-b525-35b1970dfd20",
   "metadata": {},
   "outputs": [
    {
     "name": "stdout",
     "output_type": "stream",
     "text": [
      "414\n"
     ]
    },
    {
     "data": {
      "text/html": [
       "<div>\n",
       "<style scoped>\n",
       "    .dataframe tbody tr th:only-of-type {\n",
       "        vertical-align: middle;\n",
       "    }\n",
       "\n",
       "    .dataframe tbody tr th {\n",
       "        vertical-align: top;\n",
       "    }\n",
       "\n",
       "    .dataframe thead th {\n",
       "        text-align: right;\n",
       "    }\n",
       "</style>\n",
       "<table border=\"1\" class=\"dataframe\">\n",
       "  <thead>\n",
       "    <tr style=\"text-align: right;\">\n",
       "      <th></th>\n",
       "      <th>timestamp</th>\n",
       "      <th>variable</th>\n",
       "      <th>value</th>\n",
       "    </tr>\n",
       "  </thead>\n",
       "  <tbody>\n",
       "    <tr>\n",
       "      <th>0</th>\n",
       "      <td>2021-08-08</td>\n",
       "      <td>debt_credit_ratio</td>\n",
       "      <td>0.500192</td>\n",
       "    </tr>\n",
       "    <tr>\n",
       "      <th>1</th>\n",
       "      <td>2021-08-08</td>\n",
       "      <td>fertilized_beans_cumulative</td>\n",
       "      <td>0.000000</td>\n",
       "    </tr>\n",
       "    <tr>\n",
       "      <th>2</th>\n",
       "      <td>2021-08-08</td>\n",
       "      <td>fertilizer_adjusted_pod_rate</td>\n",
       "      <td>0.155825</td>\n",
       "    </tr>\n",
       "    <tr>\n",
       "      <th>3</th>\n",
       "      <td>2021-08-08</td>\n",
       "      <td>pods_harvestable_cumulative</td>\n",
       "      <td>15526.430505</td>\n",
       "    </tr>\n",
       "    <tr>\n",
       "      <th>4</th>\n",
       "      <td>2021-08-08</td>\n",
       "      <td>pods_issued_cumulative</td>\n",
       "      <td>18366.370137</td>\n",
       "    </tr>\n",
       "    <tr>\n",
       "      <th>5</th>\n",
       "      <td>2021-08-08</td>\n",
       "      <td>silo_emissions_cumulative</td>\n",
       "      <td>21192.194431</td>\n",
       "    </tr>\n",
       "    <tr>\n",
       "      <th>6</th>\n",
       "      <td>2021-08-08</td>\n",
       "      <td>total_credit</td>\n",
       "      <td>36718.624936</td>\n",
       "    </tr>\n",
       "    <tr>\n",
       "      <th>7</th>\n",
       "      <td>2021-08-08</td>\n",
       "      <td>total_debt</td>\n",
       "      <td>18366.370137</td>\n",
       "    </tr>\n",
       "    <tr>\n",
       "      <th>8</th>\n",
       "      <td>2021-08-08</td>\n",
       "      <td>unfertilized_beans_cumulative</td>\n",
       "      <td>0.000000</td>\n",
       "    </tr>\n",
       "    <tr>\n",
       "      <th>9</th>\n",
       "      <td>2021-08-15</td>\n",
       "      <td>debt_credit_ratio</td>\n",
       "      <td>0.248030</td>\n",
       "    </tr>\n",
       "  </tbody>\n",
       "</table>\n",
       "</div>"
      ],
      "text/plain": [
       "   timestamp                       variable         value\n",
       "0 2021-08-08              debt_credit_ratio      0.500192\n",
       "1 2021-08-08    fertilized_beans_cumulative      0.000000\n",
       "2 2021-08-08   fertilizer_adjusted_pod_rate      0.155825\n",
       "3 2021-08-08    pods_harvestable_cumulative  15526.430505\n",
       "4 2021-08-08         pods_issued_cumulative  18366.370137\n",
       "5 2021-08-08      silo_emissions_cumulative  21192.194431\n",
       "6 2021-08-08                   total_credit  36718.624936\n",
       "7 2021-08-08                     total_debt  18366.370137\n",
       "8 2021-08-08  unfertilized_beans_cumulative      0.000000\n",
       "9 2021-08-15              debt_credit_ratio      0.248030"
      ]
     },
     "execution_count": 12,
     "metadata": {},
     "output_type": "execute_result"
    }
   ],
   "source": [
    "# data pre-processing \n",
    "df = df_szns.merge(\n",
    "    df_fert, how='left', on='season'\n",
    ").merge(\n",
    "    df_field, how='left', on='season'\n",
    ").merge(\n",
    "    df_silo, how='left', on='season'\n",
    ")\n",
    "assert len(df) == len(df_szns)\n",
    "df = df.ffill().fillna(0) # Not technically correct but close enough \n",
    "df['total_debt'] = (\n",
    "    df.pods_issued_cumulative\n",
    "    + df.unfertilized_beans_cumulative\n",
    ") \n",
    "df['total_credit'] = (\n",
    "    df.fertilized_beans_cumulative\n",
    "    + df.silo_emissions_cumulative \n",
    "    + df.pods_harvestable_cumulative\n",
    ")\n",
    "df['debt_credit_ratio'] = df.total_debt / df.total_credit\n",
    "df['fertilizer_adjusted_pod_rate'] = df.total_debt / df.bean_supply \n",
    "metrics_credit = [\n",
    "    'silo_emissions_cumulative',\n",
    "    'pods_harvestable_cumulative',\n",
    "    'fertilized_beans_cumulative', \n",
    "]\n",
    "metrics_debt = [\n",
    "    'unfertilized_beans_cumulative', \n",
    "    'pods_issued_cumulative', \n",
    "]\n",
    "metrics_credit_debt_aggregate = [\n",
    "    'total_debt', \n",
    "    'total_credit', \n",
    "]\n",
    "metrics_meta = [\n",
    "    'debt_credit_ratio', \n",
    "    'fertilizer_adjusted_pod_rate', \n",
    "]\n",
    "metrics = metrics_credit + metrics_debt + metrics_credit_debt_aggregate + metrics_meta\n",
    "columns = ['timestamp'] + metrics \n",
    "df = df[columns]\n",
    "df = df.resample(\"W\", on=\"timestamp\").last().drop(columns=\"timestamp\").reset_index()\n",
    "df_mask = df.silo_emissions_cumulative.isna()\n",
    "timestamp_min = df.timestamp.values[0]\n",
    "timestamp_exploit = df[df_mask].timestamp.values[0]\n",
    "timestamp_replant = df[df_mask].timestamp.values[-1]\n",
    "df = df.dropna()\n",
    "source = df.melt(\n",
    "    id_vars=['timestamp'], \n",
    "    value_vars=metrics, \n",
    ").sort_values([\"timestamp\", \"variable\"]).reset_index(drop=True)\n",
    "print(len(source))\n",
    "source.head(10)"
   ]
  },
  {
   "cell_type": "code",
   "execution_count": 27,
   "id": "849735f1",
   "metadata": {},
   "outputs": [
    {
     "data": {
      "text/html": [
       "<style>div.chart-wrapper { display: flex; flex-direction: column; }\n",
       "form.vega-bindings { order: -1; display: block }\n",
       "canvas { order: 1 }\n",
       "#vg-tooltip-element tr:nth-child(1) { font-weight: bold }\n",
       "#vg-tooltip-element tr:nth-child(1) td:first-child { opacity: 0 }\n",
       "\n",
       "#vg-tooltip-element tr:nth-child(2) td:first-child { color: #22577a }\n",
       "\n",
       "#vg-tooltip-element tr:nth-child(3) td:first-child { color: #38a3a5 }\n",
       "\n",
       "#vg-tooltip-element tr:nth-child(4) td:first-child { color: #57cc99 }\n",
       "\n",
       "#vg-tooltip-element tr:nth-child(5) td:first-child { color: #ef9b20 }\n",
       "\n",
       "#vg-tooltip-element tr:nth-child(6) td:first-child { color: #fa4d56 }\n",
       "\n",
       "#vg-tooltip-element tr:nth-child(7) td:first-child { color: #9f1853 }\n",
       "\n",
       "#vg-tooltip-element tr:nth-child(8) td:first-child { color: #80ed99 }\n",
       "\n",
       "#vg-tooltip-element tr:nth-child(9) td:first-child { color: #ffc300 }\n",
       "\n",
       "#vg-tooltip-element tr:nth-child(10) td:first-child { color: #5e60ce }\n",
       "</style>"
      ],
      "text/plain": [
       "<IPython.core.display.HTML object>"
      ]
     },
     "metadata": {},
     "output_type": "display_data"
    },
    {
     "data": {
      "text/html": [
       "\n",
       "<div id=\"altair-viz-1c329c0fc50e40468f00c6fc85db5cfd\"></div>\n",
       "<script type=\"text/javascript\">\n",
       "  var VEGA_DEBUG = (typeof VEGA_DEBUG == \"undefined\") ? {} : VEGA_DEBUG;\n",
       "  (function(spec, embedOpt){\n",
       "    let outputDiv = document.currentScript.previousElementSibling;\n",
       "    if (outputDiv.id !== \"altair-viz-1c329c0fc50e40468f00c6fc85db5cfd\") {\n",
       "      outputDiv = document.getElementById(\"altair-viz-1c329c0fc50e40468f00c6fc85db5cfd\");\n",
       "    }\n",
       "    const paths = {\n",
       "      \"vega\": \"https://cdn.jsdelivr.net/npm//vega@5?noext\",\n",
       "      \"vega-lib\": \"https://cdn.jsdelivr.net/npm//vega-lib?noext\",\n",
       "      \"vega-lite\": \"https://cdn.jsdelivr.net/npm//vega-lite@4.17.0?noext\",\n",
       "      \"vega-embed\": \"https://cdn.jsdelivr.net/npm//vega-embed@6?noext\",\n",
       "    };\n",
       "\n",
       "    function maybeLoadScript(lib, version) {\n",
       "      var key = `${lib.replace(\"-\", \"\")}_version`;\n",
       "      return (VEGA_DEBUG[key] == version) ?\n",
       "        Promise.resolve(paths[lib]) :\n",
       "        new Promise(function(resolve, reject) {\n",
       "          var s = document.createElement('script');\n",
       "          document.getElementsByTagName(\"head\")[0].appendChild(s);\n",
       "          s.async = true;\n",
       "          s.onload = () => {\n",
       "            VEGA_DEBUG[key] = version;\n",
       "            return resolve(paths[lib]);\n",
       "          };\n",
       "          s.onerror = () => reject(`Error loading script: ${paths[lib]}`);\n",
       "          s.src = paths[lib];\n",
       "        });\n",
       "    }\n",
       "\n",
       "    function showError(err) {\n",
       "      outputDiv.innerHTML = `<div class=\"error\" style=\"color:red;\">${err}</div>`;\n",
       "      throw err;\n",
       "    }\n",
       "\n",
       "    function displayChart(vegaEmbed) {\n",
       "      vegaEmbed(outputDiv, spec, embedOpt)\n",
       "        .catch(err => showError(`Javascript Error: ${err.message}<br>This usually means there's a typo in your chart specification. See the javascript console for the full traceback.`));\n",
       "    }\n",
       "\n",
       "    if(typeof define === \"function\" && define.amd) {\n",
       "      requirejs.config({paths});\n",
       "      require([\"vega-embed\"], displayChart, err => showError(`Error loading script: ${err.message}`));\n",
       "    } else {\n",
       "      maybeLoadScript(\"vega\", \"5\")\n",
       "        .then(() => maybeLoadScript(\"vega-lite\", \"4.17.0\"))\n",
       "        .then(() => maybeLoadScript(\"vega-embed\", \"6\"))\n",
       "        .catch(showError)\n",
       "        .then(() => displayChart(vegaEmbed));\n",
       "    }\n",
       "  })({\"config\": {\"view\": {\"continuousWidth\": 400, \"continuousHeight\": 300}}, \"vconcat\": [{\"layer\": [{\"mark\": \"bar\", \"encoding\": {\"color\": {\"field\": \"variable\", \"legend\": {\"title\": \"Legend\"}, \"scale\": {\"domain\": [\"silo_emissions_cumulative\", \"pods_harvestable_cumulative\", \"fertilized_beans_cumulative\", \"unfertilized_beans_cumulative\", \"pods_issued_cumulative\", \"total_debt\", \"total_credit\"], \"range\": [\"#22577a\", \"#38a3a5\", \"#57cc99\", \"#ef9b20\", \"#fa4d56\", \"#9f1853\", \"#80ed99\"]}, \"type\": \"nominal\"}, \"order\": {\"field\": \"stack_order\", \"sort\": \"ascending\", \"type\": \"quantitative\"}, \"x\": {\"axis\": {\"formatType\": \"time\", \"labelAngle\": 0, \"labelExpr\": \"timeFormat(toDate(datum.value), '%b %Y')\", \"labelOverlap\": true, \"labelPadding\": 5, \"labelSeparation\": 25, \"ticks\": false, \"title\": \"Date\"}, \"field\": \"tstamp\", \"type\": \"ordinal\"}, \"y\": {\"axis\": {\"title\": \"BDV\"}, \"field\": \"rvalue\", \"type\": \"quantitative\"}}, \"height\": 225, \"selection\": {\"agglevel\": {\"type\": \"single\", \"fields\": [\"AggLevel\"], \"bind\": {\"input\": \"select\", \"options\": [\"ym\", \"ymd\"], \"name\": \"Aggregation Level\"}, \"init\": {\"AggLevel\": \"ymd\"}}}, \"transform\": [{\"field\": \"timestamp\", \"timeUnit\": \"yearmonthdate\", \"as\": \"ymd\"}, {\"field\": \"timestamp\", \"timeUnit\": \"yearmonth\", \"as\": \"ym\"}, {\"calculate\": \"datum[agglevel.AggLevel]\", \"as\": \"tstamp\"}, {\"aggregate\": [{\"op\": \"max\", \"field\": \"value\", \"as\": \"rvalue\"}], \"groupby\": [\"tstamp\", \"variable\"]}, {\"calculate\": \"time(datum.tstamp) + (datum.variable === 'fertilizer_adjusted_pod_rate' ? 0 :  datum.variable === 'debt_credit_ratio' ? 1 :  datum.variable === 'total_credit' ? 2 :  datum.variable === 'total_debt' ? 3 :  datum.variable === 'pods_issued_cumulative' ? 4 :  datum.variable === 'unfertilized_beans_cumulative' ? 5 :  datum.variable === 'fertilized_beans_cumulative' ? 6 :  datum.variable === 'pods_harvestable_cumulative' ? 7 :  datum.variable === 'silo_emissions_cumulative' ? 8 : 9)\", \"as\": \"stack_order\"}, {\"filter\": \"datum.variable == 'unfertilized_beans_cumulative' | datum.variable == 'pods_issued_cumulative'\"}], \"width\": 500}, {\"mark\": \"bar\", \"encoding\": {\"color\": {\"field\": \"variable\", \"legend\": {\"title\": \"Legend\"}, \"scale\": {\"domain\": [\"silo_emissions_cumulative\", \"pods_harvestable_cumulative\", \"fertilized_beans_cumulative\", \"unfertilized_beans_cumulative\", \"pods_issued_cumulative\", \"total_debt\", \"total_credit\"], \"range\": [\"#22577a\", \"#38a3a5\", \"#57cc99\", \"#ef9b20\", \"#fa4d56\", \"#9f1853\", \"#80ed99\"]}, \"type\": \"nominal\"}, \"order\": {\"field\": \"stack_order\", \"sort\": \"ascending\", \"type\": \"quantitative\"}, \"x\": {\"axis\": {\"formatType\": \"time\", \"labelAngle\": 0, \"labelExpr\": \"timeFormat(toDate(datum.value), '%b %Y')\", \"labelOverlap\": true, \"labelPadding\": 5, \"labelSeparation\": 25, \"ticks\": false, \"title\": \"Date\"}, \"field\": \"tstamp\", \"type\": \"ordinal\"}, \"y\": {\"axis\": {\"title\": \"BDV\"}, \"field\": \"rvalue\", \"type\": \"quantitative\"}}, \"height\": 225, \"transform\": [{\"field\": \"timestamp\", \"timeUnit\": \"yearmonthdate\", \"as\": \"ymd\"}, {\"field\": \"timestamp\", \"timeUnit\": \"yearmonth\", \"as\": \"ym\"}, {\"calculate\": \"datum[agglevel.AggLevel]\", \"as\": \"tstamp\"}, {\"aggregate\": [{\"op\": \"max\", \"field\": \"value\", \"as\": \"rvalue\"}], \"groupby\": [\"tstamp\", \"variable\"]}, {\"calculate\": \"time(datum.tstamp) + (datum.variable === 'fertilizer_adjusted_pod_rate' ? 0 :  datum.variable === 'debt_credit_ratio' ? 1 :  datum.variable === 'total_credit' ? 2 :  datum.variable === 'total_debt' ? 3 :  datum.variable === 'pods_issued_cumulative' ? 4 :  datum.variable === 'unfertilized_beans_cumulative' ? 5 :  datum.variable === 'fertilized_beans_cumulative' ? 6 :  datum.variable === 'pods_harvestable_cumulative' ? 7 :  datum.variable === 'silo_emissions_cumulative' ? 8 : 9)\", \"as\": \"stack_order\"}, {\"filter\": \"datum.variable == 'silo_emissions_cumulative' | datum.variable == 'pods_harvestable_cumulative' | datum.variable == 'fertilized_beans_cumulative'\"}], \"width\": 500}, {\"mark\": \"line\", \"encoding\": {\"color\": {\"field\": \"variable\", \"legend\": {\"title\": \"Legend\"}, \"scale\": {\"domain\": [\"silo_emissions_cumulative\", \"pods_harvestable_cumulative\", \"fertilized_beans_cumulative\", \"unfertilized_beans_cumulative\", \"pods_issued_cumulative\", \"total_debt\", \"total_credit\"], \"range\": [\"#22577a\", \"#38a3a5\", \"#57cc99\", \"#ef9b20\", \"#fa4d56\", \"#9f1853\", \"#80ed99\"]}, \"type\": \"nominal\"}, \"order\": {\"field\": \"stack_order\", \"sort\": \"ascending\", \"type\": \"quantitative\"}, \"x\": {\"axis\": {\"formatType\": \"time\", \"labelAngle\": 0, \"labelExpr\": \"timeFormat(toDate(datum.value), '%b %Y')\", \"labelOverlap\": true, \"labelPadding\": 5, \"labelSeparation\": 25, \"ticks\": false, \"title\": \"Date\"}, \"field\": \"tstamp\", \"type\": \"ordinal\"}, \"y\": {\"axis\": {\"title\": \"BDV\"}, \"field\": \"rvalue\", \"type\": \"quantitative\"}}, \"height\": 225, \"transform\": [{\"field\": \"timestamp\", \"timeUnit\": \"yearmonthdate\", \"as\": \"ymd\"}, {\"field\": \"timestamp\", \"timeUnit\": \"yearmonth\", \"as\": \"ym\"}, {\"calculate\": \"datum[agglevel.AggLevel]\", \"as\": \"tstamp\"}, {\"aggregate\": [{\"op\": \"max\", \"field\": \"value\", \"as\": \"rvalue\"}], \"groupby\": [\"tstamp\", \"variable\"]}, {\"calculate\": \"time(datum.tstamp) + (datum.variable === 'fertilizer_adjusted_pod_rate' ? 0 :  datum.variable === 'debt_credit_ratio' ? 1 :  datum.variable === 'total_credit' ? 2 :  datum.variable === 'total_debt' ? 3 :  datum.variable === 'pods_issued_cumulative' ? 4 :  datum.variable === 'unfertilized_beans_cumulative' ? 5 :  datum.variable === 'fertilized_beans_cumulative' ? 6 :  datum.variable === 'pods_harvestable_cumulative' ? 7 :  datum.variable === 'silo_emissions_cumulative' ? 8 : 9)\", \"as\": \"stack_order\"}, {\"filter\": \"datum.variable == 'total_debt' | datum.variable == 'total_credit'\"}], \"width\": 500}, {\"mark\": {\"type\": \"rule\", \"opacity\": 0}, \"encoding\": {\"tooltip\": [{\"field\": \"tstamp\", \"timeUnit\": \"yearmonthdate\", \"title\": \"date\", \"type\": \"ordinal\"}, {\"field\": \"silo_emissions_cumulative\", \"format\": \",d\", \"title\": \"silo emissions\", \"type\": \"quantitative\"}, {\"field\": \"pods_harvestable_cumulative\", \"format\": \",d\", \"title\": \"pods harvestable\", \"type\": \"quantitative\"}, {\"field\": \"fertilized_beans_cumulative\", \"format\": \",d\", \"title\": \"fertilized beans\", \"type\": \"quantitative\"}, {\"field\": \"unfertilized_beans_cumulative\", \"format\": \",d\", \"title\": \"unfertilized beans\", \"type\": \"quantitative\"}, {\"field\": \"pods_issued_cumulative\", \"format\": \",d\", \"title\": \"pods issued\", \"type\": \"quantitative\"}, {\"field\": \"total_debt\", \"format\": \",d\", \"title\": \"total debt\", \"type\": \"quantitative\"}, {\"field\": \"total_credit\", \"format\": \",d\", \"title\": \"total credit\", \"type\": \"quantitative\"}, {\"field\": \"debt_credit_ratio\", \"format\": \".2%\", \"title\": \"debt credit ratio\", \"type\": \"quantitative\"}, {\"field\": \"fertilizer_adjusted_pod_rate\", \"format\": \".2%\", \"title\": \"fertilizer adjusted pod rate\", \"type\": \"quantitative\"}], \"x\": {\"axis\": {\"formatType\": \"time\", \"labelAngle\": 0, \"labelExpr\": \"timeFormat(toDate(datum.value), '%b %Y')\", \"labelOverlap\": true, \"labelPadding\": 5, \"labelSeparation\": 25, \"ticks\": false, \"title\": \"Date\"}, \"field\": \"tstamp\", \"type\": \"ordinal\"}}, \"height\": 225, \"selection\": {\"selector012\": {\"type\": \"single\", \"fields\": [\"tstamp\"], \"nearest\": true, \"on\": \"mouseover\", \"empty\": \"none\", \"clear\": \"mouseout\"}}, \"transform\": [{\"field\": \"timestamp\", \"timeUnit\": \"yearmonthdate\", \"as\": \"ymd\"}, {\"field\": \"timestamp\", \"timeUnit\": \"yearmonth\", \"as\": \"ym\"}, {\"calculate\": \"datum[agglevel.AggLevel]\", \"as\": \"tstamp\"}, {\"aggregate\": [{\"op\": \"max\", \"field\": \"value\", \"as\": \"rvalue\"}], \"groupby\": [\"tstamp\", \"variable\"]}, {\"calculate\": \"time(datum.tstamp) + (datum.variable === 'fertilizer_adjusted_pod_rate' ? 0 :  datum.variable === 'debt_credit_ratio' ? 1 :  datum.variable === 'total_credit' ? 2 :  datum.variable === 'total_debt' ? 3 :  datum.variable === 'pods_issued_cumulative' ? 4 :  datum.variable === 'unfertilized_beans_cumulative' ? 5 :  datum.variable === 'fertilized_beans_cumulative' ? 6 :  datum.variable === 'pods_harvestable_cumulative' ? 7 :  datum.variable === 'silo_emissions_cumulative' ? 8 : 9)\", \"as\": \"stack_order\"}, {\"pivot\": \"variable\", \"value\": \"rvalue\", \"groupby\": [\"tstamp\"]}], \"width\": 500}, {\"mark\": {\"type\": \"rule\", \"color\": \"#474440\", \"opacity\": 1, \"strokeDash\": [2.5, 1]}, \"encoding\": {\"x\": {\"axis\": {\"formatType\": \"time\", \"labelAngle\": 0, \"labelExpr\": \"timeFormat(toDate(datum.value), '%b %Y')\", \"labelOverlap\": true, \"labelPadding\": 5, \"labelSeparation\": 25, \"ticks\": false, \"title\": \"Date\"}, \"field\": \"tstamp\", \"type\": \"ordinal\"}}, \"height\": 225, \"transform\": [{\"field\": \"timestamp\", \"timeUnit\": \"yearmonthdate\", \"as\": \"ymd\"}, {\"field\": \"timestamp\", \"timeUnit\": \"yearmonth\", \"as\": \"ym\"}, {\"calculate\": \"datum[agglevel.AggLevel]\", \"as\": \"tstamp\"}, {\"aggregate\": [{\"op\": \"max\", \"field\": \"value\", \"as\": \"rvalue\"}], \"groupby\": [\"tstamp\", \"variable\"]}, {\"calculate\": \"time(datum.tstamp) + (datum.variable === 'fertilizer_adjusted_pod_rate' ? 0 :  datum.variable === 'debt_credit_ratio' ? 1 :  datum.variable === 'total_credit' ? 2 :  datum.variable === 'total_debt' ? 3 :  datum.variable === 'pods_issued_cumulative' ? 4 :  datum.variable === 'unfertilized_beans_cumulative' ? 5 :  datum.variable === 'fertilized_beans_cumulative' ? 6 :  datum.variable === 'pods_harvestable_cumulative' ? 7 :  datum.variable === 'silo_emissions_cumulative' ? 8 : 9)\", \"as\": \"stack_order\"}, {\"pivot\": \"variable\", \"value\": \"rvalue\", \"groupby\": [\"tstamp\"]}, {\"filter\": \"year(datum.tstamp) === 2022 && month(datum.tstamp) === 3 && date(datum.tstamp) === 17\"}], \"width\": 500}], \"title\": \"Beanstalk Credit Profile\"}, {\"layer\": [{\"mark\": \"line\", \"encoding\": {\"color\": {\"field\": \"variable\", \"legend\": {\"title\": \"Legend\"}, \"scale\": {\"domain\": [\"debt_credit_ratio\", \"fertilizer_adjusted_pod_rate\"], \"range\": [\"#ffc300\", \"#5e60ce\"]}, \"type\": \"nominal\"}, \"x\": {\"axis\": {\"formatType\": \"time\", \"labelAngle\": 0, \"labelExpr\": \"timeFormat(toDate(datum.value), '%b %Y')\", \"labelOverlap\": true, \"labelPadding\": 5, \"labelSeparation\": 25, \"ticks\": false, \"title\": \"Date\"}, \"field\": \"tstamp\", \"type\": \"ordinal\"}, \"y\": {\"axis\": {\"format\": \",%\", \"title\": \"Percent\"}, \"field\": \"rvalue\", \"type\": \"quantitative\"}}, \"height\": 225, \"selection\": {\"agglevel\": {\"type\": \"single\", \"fields\": [\"AggLevel\"], \"bind\": {\"input\": \"select\", \"options\": [\"ym\", \"ymd\"], \"name\": \"Aggregation Level\"}, \"init\": {\"AggLevel\": \"ymd\"}}}, \"transform\": [{\"field\": \"timestamp\", \"timeUnit\": \"yearmonthdate\", \"as\": \"ymd\"}, {\"field\": \"timestamp\", \"timeUnit\": \"yearmonth\", \"as\": \"ym\"}, {\"calculate\": \"datum[agglevel.AggLevel]\", \"as\": \"tstamp\"}, {\"aggregate\": [{\"op\": \"max\", \"field\": \"value\", \"as\": \"rvalue\"}], \"groupby\": [\"tstamp\", \"variable\"]}, {\"calculate\": \"time(datum.tstamp) + (datum.variable === 'fertilizer_adjusted_pod_rate' ? 0 :  datum.variable === 'debt_credit_ratio' ? 1 :  datum.variable === 'total_credit' ? 2 :  datum.variable === 'total_debt' ? 3 :  datum.variable === 'pods_issued_cumulative' ? 4 :  datum.variable === 'unfertilized_beans_cumulative' ? 5 :  datum.variable === 'fertilized_beans_cumulative' ? 6 :  datum.variable === 'pods_harvestable_cumulative' ? 7 :  datum.variable === 'silo_emissions_cumulative' ? 8 : 9)\", \"as\": \"stack_order\"}, {\"filter\": \"datum.variable == 'debt_credit_ratio' | datum.variable == 'fertilizer_adjusted_pod_rate'\"}], \"width\": 500}, {\"mark\": {\"type\": \"point\", \"size\": 7}, \"encoding\": {\"color\": {\"field\": \"variable\", \"legend\": {\"title\": \"Legend\"}, \"scale\": {\"domain\": [\"debt_credit_ratio\", \"fertilizer_adjusted_pod_rate\"], \"range\": [\"#ffc300\", \"#5e60ce\"]}, \"type\": \"nominal\"}, \"x\": {\"axis\": {\"formatType\": \"time\", \"labelAngle\": 0, \"labelExpr\": \"timeFormat(toDate(datum.value), '%b %Y')\", \"labelOverlap\": true, \"labelPadding\": 5, \"labelSeparation\": 25, \"ticks\": false, \"title\": \"Date\"}, \"field\": \"tstamp\", \"type\": \"ordinal\"}, \"y\": {\"axis\": {\"format\": \",%\", \"title\": \"Percent\"}, \"field\": \"rvalue\", \"type\": \"quantitative\"}}, \"height\": 225, \"transform\": [{\"field\": \"timestamp\", \"timeUnit\": \"yearmonthdate\", \"as\": \"ymd\"}, {\"field\": \"timestamp\", \"timeUnit\": \"yearmonth\", \"as\": \"ym\"}, {\"calculate\": \"datum[agglevel.AggLevel]\", \"as\": \"tstamp\"}, {\"aggregate\": [{\"op\": \"max\", \"field\": \"value\", \"as\": \"rvalue\"}], \"groupby\": [\"tstamp\", \"variable\"]}, {\"calculate\": \"time(datum.tstamp) + (datum.variable === 'fertilizer_adjusted_pod_rate' ? 0 :  datum.variable === 'debt_credit_ratio' ? 1 :  datum.variable === 'total_credit' ? 2 :  datum.variable === 'total_debt' ? 3 :  datum.variable === 'pods_issued_cumulative' ? 4 :  datum.variable === 'unfertilized_beans_cumulative' ? 5 :  datum.variable === 'fertilized_beans_cumulative' ? 6 :  datum.variable === 'pods_harvestable_cumulative' ? 7 :  datum.variable === 'silo_emissions_cumulative' ? 8 : 9)\", \"as\": \"stack_order\"}, {\"filter\": \"datum.variable == 'debt_credit_ratio' | datum.variable == 'fertilizer_adjusted_pod_rate'\"}], \"width\": 500}, {\"mark\": {\"type\": \"rule\", \"opacity\": 0}, \"encoding\": {\"tooltip\": [{\"field\": \"tstamp\", \"timeUnit\": \"yearmonthdate\", \"title\": \"date\", \"type\": \"ordinal\"}, {\"field\": \"silo_emissions_cumulative\", \"format\": \",d\", \"title\": \"silo emissions\", \"type\": \"quantitative\"}, {\"field\": \"pods_harvestable_cumulative\", \"format\": \",d\", \"title\": \"pods harvestable\", \"type\": \"quantitative\"}, {\"field\": \"fertilized_beans_cumulative\", \"format\": \",d\", \"title\": \"fertilized beans\", \"type\": \"quantitative\"}, {\"field\": \"unfertilized_beans_cumulative\", \"format\": \",d\", \"title\": \"unfertilized beans\", \"type\": \"quantitative\"}, {\"field\": \"pods_issued_cumulative\", \"format\": \",d\", \"title\": \"pods issued\", \"type\": \"quantitative\"}, {\"field\": \"total_debt\", \"format\": \",d\", \"title\": \"total debt\", \"type\": \"quantitative\"}, {\"field\": \"total_credit\", \"format\": \",d\", \"title\": \"total credit\", \"type\": \"quantitative\"}, {\"field\": \"debt_credit_ratio\", \"format\": \".2%\", \"title\": \"debt credit ratio\", \"type\": \"quantitative\"}, {\"field\": \"fertilizer_adjusted_pod_rate\", \"format\": \".2%\", \"title\": \"fertilizer adjusted pod rate\", \"type\": \"quantitative\"}], \"x\": {\"axis\": {\"formatType\": \"time\", \"labelAngle\": 0, \"labelExpr\": \"timeFormat(toDate(datum.value), '%b %Y')\", \"labelOverlap\": true, \"labelPadding\": 5, \"labelSeparation\": 25, \"ticks\": false, \"title\": \"Date\"}, \"field\": \"tstamp\", \"type\": \"ordinal\"}}, \"height\": 225, \"selection\": {\"selector012\": {\"type\": \"single\", \"fields\": [\"tstamp\"], \"nearest\": true, \"on\": \"mouseover\", \"empty\": \"none\", \"clear\": \"mouseout\"}}, \"transform\": [{\"field\": \"timestamp\", \"timeUnit\": \"yearmonthdate\", \"as\": \"ymd\"}, {\"field\": \"timestamp\", \"timeUnit\": \"yearmonth\", \"as\": \"ym\"}, {\"calculate\": \"datum[agglevel.AggLevel]\", \"as\": \"tstamp\"}, {\"aggregate\": [{\"op\": \"max\", \"field\": \"value\", \"as\": \"rvalue\"}], \"groupby\": [\"tstamp\", \"variable\"]}, {\"calculate\": \"time(datum.tstamp) + (datum.variable === 'fertilizer_adjusted_pod_rate' ? 0 :  datum.variable === 'debt_credit_ratio' ? 1 :  datum.variable === 'total_credit' ? 2 :  datum.variable === 'total_debt' ? 3 :  datum.variable === 'pods_issued_cumulative' ? 4 :  datum.variable === 'unfertilized_beans_cumulative' ? 5 :  datum.variable === 'fertilized_beans_cumulative' ? 6 :  datum.variable === 'pods_harvestable_cumulative' ? 7 :  datum.variable === 'silo_emissions_cumulative' ? 8 : 9)\", \"as\": \"stack_order\"}, {\"pivot\": \"variable\", \"value\": \"rvalue\", \"groupby\": [\"tstamp\"]}], \"width\": 500}, {\"mark\": {\"type\": \"rule\", \"color\": \"#474440\", \"opacity\": 1, \"strokeDash\": [2.5, 1]}, \"encoding\": {\"x\": {\"axis\": {\"formatType\": \"time\", \"labelAngle\": 0, \"labelExpr\": \"timeFormat(toDate(datum.value), '%b %Y')\", \"labelOverlap\": true, \"labelPadding\": 5, \"labelSeparation\": 25, \"ticks\": false, \"title\": \"Date\"}, \"field\": \"tstamp\", \"type\": \"ordinal\"}}, \"height\": 225, \"transform\": [{\"field\": \"timestamp\", \"timeUnit\": \"yearmonthdate\", \"as\": \"ymd\"}, {\"field\": \"timestamp\", \"timeUnit\": \"yearmonth\", \"as\": \"ym\"}, {\"calculate\": \"datum[agglevel.AggLevel]\", \"as\": \"tstamp\"}, {\"aggregate\": [{\"op\": \"max\", \"field\": \"value\", \"as\": \"rvalue\"}], \"groupby\": [\"tstamp\", \"variable\"]}, {\"calculate\": \"time(datum.tstamp) + (datum.variable === 'fertilizer_adjusted_pod_rate' ? 0 :  datum.variable === 'debt_credit_ratio' ? 1 :  datum.variable === 'total_credit' ? 2 :  datum.variable === 'total_debt' ? 3 :  datum.variable === 'pods_issued_cumulative' ? 4 :  datum.variable === 'unfertilized_beans_cumulative' ? 5 :  datum.variable === 'fertilized_beans_cumulative' ? 6 :  datum.variable === 'pods_harvestable_cumulative' ? 7 :  datum.variable === 'silo_emissions_cumulative' ? 8 : 9)\", \"as\": \"stack_order\"}, {\"pivot\": \"variable\", \"value\": \"rvalue\", \"groupby\": [\"tstamp\"]}, {\"filter\": \"year(datum.tstamp) === 2022 && month(datum.tstamp) === 3 && date(datum.tstamp) === 17\"}], \"width\": 500}], \"title\": \"Beanstalk Credit Metrics\"}], \"data\": {\"name\": \"data-ff8dc3453b9a461539ebeb6292534115\"}, \"resolve\": {\"axis\": {\"y\": \"independent\"}, \"legend\": {\"color\": \"independent\"}, \"scale\": {\"color\": \"independent\", \"y\": \"independent\"}}, \"$schema\": \"https://vega.github.io/schema/vega-lite/v4.17.0.json\", \"datasets\": {\"data-ff8dc3453b9a461539ebeb6292534115\": [{\"timestamp\": \"2021-08-08T00:00:00\", \"variable\": \"debt_credit_ratio\", \"value\": 0.5001922095125376}, {\"timestamp\": \"2021-08-08T00:00:00\", \"variable\": \"fertilized_beans_cumulative\", \"value\": 0.0}, {\"timestamp\": \"2021-08-08T00:00:00\", \"variable\": \"fertilizer_adjusted_pod_rate\", \"value\": 0.1558248410215308}, {\"timestamp\": \"2021-08-08T00:00:00\", \"variable\": \"pods_harvestable_cumulative\", \"value\": 15526.430505}, {\"timestamp\": \"2021-08-08T00:00:00\", \"variable\": \"pods_issued_cumulative\", \"value\": 18366.370137}, {\"timestamp\": \"2021-08-08T00:00:00\", \"variable\": \"silo_emissions_cumulative\", \"value\": 21192.194431}, {\"timestamp\": \"2021-08-08T00:00:00\", \"variable\": \"total_credit\", \"value\": 36718.624936}, {\"timestamp\": \"2021-08-08T00:00:00\", \"variable\": \"total_debt\", \"value\": 18366.370137}, {\"timestamp\": \"2021-08-08T00:00:00\", \"variable\": \"unfertilized_beans_cumulative\", \"value\": 0.0}, {\"timestamp\": \"2021-08-15T00:00:00\", \"variable\": \"debt_credit_ratio\", \"value\": 0.2480300659922737}, {\"timestamp\": \"2021-08-15T00:00:00\", \"variable\": \"fertilized_beans_cumulative\", \"value\": 0.0}, {\"timestamp\": \"2021-08-15T00:00:00\", \"variable\": \"fertilizer_adjusted_pod_rate\", \"value\": 0.11582252051395572}, {\"timestamp\": \"2021-08-15T00:00:00\", \"variable\": \"pods_harvestable_cumulative\", \"value\": 41481.027557}, {\"timestamp\": \"2021-08-15T00:00:00\", \"variable\": \"pods_issued_cumulative\", \"value\": 74731.990746}, {\"timestamp\": \"2021-08-15T00:00:00\", \"variable\": \"silo_emissions_cumulative\", \"value\": 259821.11679000006}, {\"timestamp\": \"2021-08-15T00:00:00\", \"variable\": \"total_credit\", \"value\": 301302.14434700005}, {\"timestamp\": \"2021-08-15T00:00:00\", \"variable\": \"total_debt\", \"value\": 74731.990746}, {\"timestamp\": \"2021-08-15T00:00:00\", \"variable\": \"unfertilized_beans_cumulative\", \"value\": 0.0}, {\"timestamp\": \"2021-08-22T00:00:00\", \"variable\": \"debt_credit_ratio\", \"value\": 0.4591841489752265}, {\"timestamp\": \"2021-08-22T00:00:00\", \"variable\": \"fertilized_beans_cumulative\", \"value\": 0.0}, {\"timestamp\": \"2021-08-22T00:00:00\", \"variable\": \"fertilizer_adjusted_pod_rate\", \"value\": 0.3637420551559228}, {\"timestamp\": \"2021-08-22T00:00:00\", \"variable\": \"pods_harvestable_cumulative\", \"value\": 314760.900618}, {\"timestamp\": \"2021-08-22T00:00:00\", \"variable\": \"pods_issued_cumulative\", \"value\": 391889.619058}, {\"timestamp\": \"2021-08-22T00:00:00\", \"variable\": \"silo_emissions_cumulative\", \"value\": 538686.7193240004}, {\"timestamp\": \"2021-08-22T00:00:00\", \"variable\": \"total_credit\", \"value\": 853447.6199420004}, {\"timestamp\": \"2021-08-22T00:00:00\", \"variable\": \"total_debt\", \"value\": 391889.619058}, {\"timestamp\": \"2021-08-22T00:00:00\", \"variable\": \"unfertilized_beans_cumulative\", \"value\": 0.0}, {\"timestamp\": \"2021-08-29T00:00:00\", \"variable\": \"debt_credit_ratio\", \"value\": 0.4405941358887002}, {\"timestamp\": \"2021-08-29T00:00:00\", \"variable\": \"fertilized_beans_cumulative\", \"value\": 0.0}, {\"timestamp\": \"2021-08-29T00:00:00\", \"variable\": \"fertilizer_adjusted_pod_rate\", \"value\": 0.40691136152643026}, {\"timestamp\": \"2021-08-29T00:00:00\", \"variable\": \"pods_harvestable_cumulative\", \"value\": 593623.8536800001}, {\"timestamp\": \"2021-08-29T00:00:00\", \"variable\": \"pods_issued_cumulative\", \"value\": 636728.402302}, {\"timestamp\": \"2021-08-29T00:00:00\", \"variable\": \"silo_emissions_cumulative\", \"value\": 851534.7411290009}, {\"timestamp\": \"2021-08-29T00:00:00\", \"variable\": \"total_credit\", \"value\": 1445158.5948090008}, {\"timestamp\": \"2021-08-29T00:00:00\", \"variable\": \"total_debt\", \"value\": 636728.402302}, {\"timestamp\": \"2021-08-29T00:00:00\", \"variable\": \"unfertilized_beans_cumulative\", \"value\": 0.0}, {\"timestamp\": \"2021-09-05T00:00:00\", \"variable\": \"debt_credit_ratio\", \"value\": 0.4277894563693607}, {\"timestamp\": \"2021-09-05T00:00:00\", \"variable\": \"fertilized_beans_cumulative\", \"value\": 0.0}, {\"timestamp\": \"2021-09-05T00:00:00\", \"variable\": \"fertilizer_adjusted_pod_rate\", \"value\": 0.4222684219359376}, {\"timestamp\": \"2021-09-05T00:00:00\", \"variable\": \"pods_harvestable_cumulative\", \"value\": 703473.4367999999}, {\"timestamp\": \"2021-09-05T00:00:00\", \"variable\": \"pods_issued_cumulative\", \"value\": 806030.167552}, {\"timestamp\": \"2021-09-05T00:00:00\", \"variable\": \"silo_emissions_cumulative\", \"value\": 1180701.489793001}, {\"timestamp\": \"2021-09-05T00:00:00\", \"variable\": \"total_credit\", \"value\": 1884174.926593001}, {\"timestamp\": \"2021-09-05T00:00:00\", \"variable\": \"total_debt\", \"value\": 806030.167552}, {\"timestamp\": \"2021-09-05T00:00:00\", \"variable\": \"unfertilized_beans_cumulative\", \"value\": 0.0}, {\"timestamp\": \"2021-09-12T00:00:00\", \"variable\": \"debt_credit_ratio\", \"value\": 0.428338461713475}, {\"timestamp\": \"2021-09-12T00:00:00\", \"variable\": \"fertilized_beans_cumulative\", \"value\": 0.0}, {\"timestamp\": \"2021-09-12T00:00:00\", \"variable\": \"fertilizer_adjusted_pod_rate\", \"value\": 0.4377464175080218}, {\"timestamp\": \"2021-09-12T00:00:00\", \"variable\": \"pods_harvestable_cumulative\", \"value\": 937356.244186}, {\"timestamp\": \"2021-09-12T00:00:00\", \"variable\": \"pods_issued_cumulative\", \"value\": 1034801.337065}, {\"timestamp\": \"2021-09-12T00:00:00\", \"variable\": \"silo_emissions_cumulative\", \"value\": 1478493.4390890016}, {\"timestamp\": \"2021-09-12T00:00:00\", \"variable\": \"total_credit\", \"value\": 2415849.6832750016}, {\"timestamp\": \"2021-09-12T00:00:00\", \"variable\": \"total_debt\", \"value\": 1034801.337065}, {\"timestamp\": \"2021-09-12T00:00:00\", \"variable\": \"unfertilized_beans_cumulative\", \"value\": 0.0}, {\"timestamp\": \"2021-09-19T00:00:00\", \"variable\": \"debt_credit_ratio\", \"value\": 0.0758287319724448}, {\"timestamp\": \"2021-09-19T00:00:00\", \"variable\": \"fertilized_beans_cumulative\", \"value\": 0.0}, {\"timestamp\": \"2021-09-19T00:00:00\", \"variable\": \"fertilizer_adjusted_pod_rate\", \"value\": 0.06704824432954058}, {\"timestamp\": \"2021-09-19T00:00:00\", \"variable\": \"pods_harvestable_cumulative\", \"value\": 1561259.973246}, {\"timestamp\": \"2021-09-19T00:00:00\", \"variable\": \"pods_issued_cumulative\", \"value\": 1619976.719346}, {\"timestamp\": \"2021-09-19T00:00:00\", \"variable\": \"silo_emissions_cumulative\", \"value\": 19802366.67865}, {\"timestamp\": \"2021-09-19T00:00:00\", \"variable\": \"total_credit\", \"value\": 21363626.651896}, {\"timestamp\": \"2021-09-19T00:00:00\", \"variable\": \"total_debt\", \"value\": 1619976.719346}, {\"timestamp\": \"2021-09-19T00:00:00\", \"variable\": \"unfertilized_beans_cumulative\", \"value\": 0.0}, {\"timestamp\": \"2021-09-26T00:00:00\", \"variable\": \"debt_credit_ratio\", \"value\": 0.31901195640279556}, {\"timestamp\": \"2021-09-26T00:00:00\", \"variable\": \"fertilized_beans_cumulative\", \"value\": 0.0}, {\"timestamp\": \"2021-09-26T00:00:00\", \"variable\": \"fertilizer_adjusted_pod_rate\", \"value\": 0.3159637198107599}, {\"timestamp\": \"2021-09-26T00:00:00\", \"variable\": \"pods_harvestable_cumulative\", \"value\": 1761835.6500940002}, {\"timestamp\": \"2021-09-26T00:00:00\", \"variable\": \"pods_issued_cumulative\", \"value\": 7089435.053965}, {\"timestamp\": \"2021-09-26T00:00:00\", \"variable\": \"silo_emissions_cumulative\", \"value\": 20461265.746813}, {\"timestamp\": \"2021-09-26T00:00:00\", \"variable\": \"total_credit\", \"value\": 22223101.396906998}, {\"timestamp\": \"2021-09-26T00:00:00\", \"variable\": \"total_debt\", \"value\": 7089435.053965}, {\"timestamp\": \"2021-09-26T00:00:00\", \"variable\": \"unfertilized_beans_cumulative\", \"value\": 0.0}, {\"timestamp\": \"2021-10-03T00:00:00\", \"variable\": \"debt_credit_ratio\", \"value\": 0.7238666470109598}, {\"timestamp\": \"2021-10-03T00:00:00\", \"variable\": \"fertilized_beans_cumulative\", \"value\": 0.0}, {\"timestamp\": \"2021-10-03T00:00:00\", \"variable\": \"fertilizer_adjusted_pod_rate\", \"value\": 0.7687673939219095}, {\"timestamp\": \"2021-10-03T00:00:00\", \"variable\": \"pods_harvestable_cumulative\", \"value\": 1913589.129855}, {\"timestamp\": \"2021-10-03T00:00:00\", \"variable\": \"pods_issued_cumulative\", \"value\": 16333394.290166}, {\"timestamp\": \"2021-10-03T00:00:00\", \"variable\": \"silo_emissions_cumulative\", \"value\": 20650503.797496993}, {\"timestamp\": \"2021-10-03T00:00:00\", \"variable\": \"total_credit\", \"value\": 22564092.927351993}, {\"timestamp\": \"2021-10-03T00:00:00\", \"variable\": \"total_debt\", \"value\": 16333394.290166}, {\"timestamp\": \"2021-10-03T00:00:00\", \"variable\": \"unfertilized_beans_cumulative\", \"value\": 0.0}, {\"timestamp\": \"2021-10-10T00:00:00\", \"variable\": \"debt_credit_ratio\", \"value\": 0.9786616085116328}, {\"timestamp\": \"2021-10-10T00:00:00\", \"variable\": \"fertilized_beans_cumulative\", \"value\": 0.0}, {\"timestamp\": \"2021-10-10T00:00:00\", \"variable\": \"fertilizer_adjusted_pod_rate\", \"value\": 1.0674978074645554}, {\"timestamp\": \"2021-10-10T00:00:00\", \"variable\": \"pods_harvestable_cumulative\", \"value\": 1941545.45236}, {\"timestamp\": \"2021-10-10T00:00:00\", \"variable\": \"pods_issued_cumulative\", \"value\": 22165826.318339}, {\"timestamp\": \"2021-10-10T00:00:00\", \"variable\": \"silo_emissions_cumulative\", \"value\": 20707576.701362994}, {\"timestamp\": \"2021-10-10T00:00:00\", \"variable\": \"total_credit\", \"value\": 22649122.153722994}, {\"timestamp\": \"2021-10-10T00:00:00\", \"variable\": \"total_debt\", \"value\": 22165826.318339}, {\"timestamp\": \"2021-10-10T00:00:00\", \"variable\": \"unfertilized_beans_cumulative\", \"value\": 0.0}, {\"timestamp\": \"2021-10-17T00:00:00\", \"variable\": \"debt_credit_ratio\", \"value\": 1.2404945783153465}, {\"timestamp\": \"2021-10-17T00:00:00\", \"variable\": \"fertilized_beans_cumulative\", \"value\": 0.0}, {\"timestamp\": \"2021-10-17T00:00:00\", \"variable\": \"fertilizer_adjusted_pod_rate\", \"value\": 1.369293271868217}, {\"timestamp\": \"2021-10-17T00:00:00\", \"variable\": \"pods_harvestable_cumulative\", \"value\": 2039679.9738570002}, {\"timestamp\": \"2021-10-17T00:00:00\", \"variable\": \"pods_issued_cumulative\", \"value\": 28310592.463983}, {\"timestamp\": \"2021-10-17T00:00:00\", \"variable\": \"silo_emissions_cumulative\", \"value\": 20782340.33874299}, {\"timestamp\": \"2021-10-17T00:00:00\", \"variable\": \"total_credit\", \"value\": 22822020.31259999}, {\"timestamp\": \"2021-10-17T00:00:00\", \"variable\": \"total_debt\", \"value\": 28310592.463983}, {\"timestamp\": \"2021-10-17T00:00:00\", \"variable\": \"unfertilized_beans_cumulative\", \"value\": 0.0}, {\"timestamp\": \"2021-10-24T00:00:00\", \"variable\": \"debt_credit_ratio\", \"value\": 1.5293225886698936}, {\"timestamp\": \"2021-10-24T00:00:00\", \"variable\": \"fertilized_beans_cumulative\", \"value\": 0.0}, {\"timestamp\": \"2021-10-24T00:00:00\", \"variable\": \"fertilizer_adjusted_pod_rate\", \"value\": 1.6878421366336733}, {\"timestamp\": \"2021-10-24T00:00:00\", \"variable\": \"pods_harvestable_cumulative\", \"value\": 2317323.1221580002}, {\"timestamp\": \"2021-10-24T00:00:00\", \"variable\": \"pods_issued_cumulative\", \"value\": 36380237.801568}, {\"timestamp\": \"2021-10-24T00:00:00\", \"variable\": \"silo_emissions_cumulative\", \"value\": 21471142.48417898}, {\"timestamp\": \"2021-10-24T00:00:00\", \"variable\": \"total_credit\", \"value\": 23788465.60633698}, {\"timestamp\": \"2021-10-24T00:00:00\", \"variable\": \"total_debt\", \"value\": 36380237.801568}, {\"timestamp\": \"2021-10-24T00:00:00\", \"variable\": \"unfertilized_beans_cumulative\", \"value\": 0.0}, {\"timestamp\": \"2021-10-31T00:00:00\", \"variable\": \"debt_credit_ratio\", \"value\": 1.7930794318746257}, {\"timestamp\": \"2021-10-31T00:00:00\", \"variable\": \"fertilized_beans_cumulative\", \"value\": 0.0}, {\"timestamp\": \"2021-10-31T00:00:00\", \"variable\": \"fertilizer_adjusted_pod_rate\", \"value\": 1.961688020360639}, {\"timestamp\": \"2021-10-31T00:00:00\", \"variable\": \"pods_harvestable_cumulative\", \"value\": 2421013.306022}, {\"timestamp\": \"2021-10-31T00:00:00\", \"variable\": \"pods_issued_cumulative\", \"value\": 43933137.448879}, {\"timestamp\": \"2021-10-31T00:00:00\", \"variable\": \"silo_emissions_cumulative\", \"value\": 22080487.669284966}, {\"timestamp\": \"2021-10-31T00:00:00\", \"variable\": \"total_credit\", \"value\": 24501500.975306965}, {\"timestamp\": \"2021-10-31T00:00:00\", \"variable\": \"total_debt\", \"value\": 43933137.448879}, {\"timestamp\": \"2021-10-31T00:00:00\", \"variable\": \"unfertilized_beans_cumulative\", \"value\": 0.0}, {\"timestamp\": \"2021-11-07T00:00:00\", \"variable\": \"debt_credit_ratio\", \"value\": 1.9739719217098288}, {\"timestamp\": \"2021-11-07T00:00:00\", \"variable\": \"fertilized_beans_cumulative\", \"value\": 0.0}, {\"timestamp\": \"2021-11-07T00:00:00\", \"variable\": \"fertilizer_adjusted_pod_rate\", \"value\": 2.116405955846708}, {\"timestamp\": \"2021-11-07T00:00:00\", \"variable\": \"pods_harvestable_cumulative\", \"value\": 2444287.8341220003}, {\"timestamp\": \"2021-11-07T00:00:00\", \"variable\": \"pods_issued_cumulative\", \"value\": 49753964.513145}, {\"timestamp\": \"2021-11-07T00:00:00\", \"variable\": \"silo_emissions_cumulative\", \"value\": 22760713.293780956}, {\"timestamp\": \"2021-11-07T00:00:00\", \"variable\": \"total_credit\", \"value\": 25205001.127902955}, {\"timestamp\": \"2021-11-07T00:00:00\", \"variable\": \"total_debt\", \"value\": 49753964.513145}, {\"timestamp\": \"2021-11-07T00:00:00\", \"variable\": \"unfertilized_beans_cumulative\", \"value\": 0.0}, {\"timestamp\": \"2021-11-14T00:00:00\", \"variable\": \"debt_credit_ratio\", \"value\": 3.0319243729990566}, {\"timestamp\": \"2021-11-14T00:00:00\", \"variable\": \"fertilized_beans_cumulative\", \"value\": 0.0}, {\"timestamp\": \"2021-11-14T00:00:00\", \"variable\": \"fertilizer_adjusted_pod_rate\", \"value\": 3.528388031626333}, {\"timestamp\": \"2021-11-14T00:00:00\", \"variable\": \"pods_harvestable_cumulative\", \"value\": 3640517.2142270003}, {\"timestamp\": \"2021-11-14T00:00:00\", \"variable\": \"pods_issued_cumulative\", \"value\": 81428887.071705}, {\"timestamp\": \"2021-11-14T00:00:00\", \"variable\": \"silo_emissions_cumulative\", \"value\": 23216645.779966965}, {\"timestamp\": \"2021-11-14T00:00:00\", \"variable\": \"total_credit\", \"value\": 26857162.994193964}, {\"timestamp\": \"2021-11-14T00:00:00\", \"variable\": \"total_debt\", \"value\": 81428887.071705}, {\"timestamp\": \"2021-11-14T00:00:00\", \"variable\": \"unfertilized_beans_cumulative\", \"value\": 0.0}, {\"timestamp\": \"2021-11-21T00:00:00\", \"variable\": \"debt_credit_ratio\", \"value\": 4.457458521531701}, {\"timestamp\": \"2021-11-21T00:00:00\", \"variable\": \"fertilized_beans_cumulative\", \"value\": 0.0}, {\"timestamp\": \"2021-11-21T00:00:00\", \"variable\": \"fertilizer_adjusted_pod_rate\", \"value\": 5.673189196321938}, {\"timestamp\": \"2021-11-21T00:00:00\", \"variable\": \"pods_harvestable_cumulative\", \"value\": 6137556.4312390005}, {\"timestamp\": \"2021-11-21T00:00:00\", \"variable\": \"pods_issued_cumulative\", \"value\": 139673550.702857}, {\"timestamp\": \"2021-11-21T00:00:00\", \"variable\": \"silo_emissions_cumulative\", \"value\": 25197238.952310957}, {\"timestamp\": \"2021-11-21T00:00:00\", \"variable\": \"total_credit\", \"value\": 31334795.38354996}, {\"timestamp\": \"2021-11-21T00:00:00\", \"variable\": \"total_debt\", \"value\": 139673550.702857}, {\"timestamp\": \"2021-11-21T00:00:00\", \"variable\": \"unfertilized_beans_cumulative\", \"value\": 0.0}, {\"timestamp\": \"2021-11-28T00:00:00\", \"variable\": \"debt_credit_ratio\", \"value\": 5.292048894723415}, {\"timestamp\": \"2021-11-28T00:00:00\", \"variable\": \"fertilized_beans_cumulative\", \"value\": 0.0}, {\"timestamp\": \"2021-11-28T00:00:00\", \"variable\": \"fertilizer_adjusted_pod_rate\", \"value\": 6.929304122393534}, {\"timestamp\": \"2021-11-28T00:00:00\", \"variable\": \"pods_harvestable_cumulative\", \"value\": 14751092.230032}, {\"timestamp\": \"2021-11-28T00:00:00\", \"variable\": \"pods_issued_cumulative\", \"value\": 258433577.398921}, {\"timestamp\": \"2021-11-28T00:00:00\", \"variable\": \"silo_emissions_cumulative\", \"value\": 34083221.76442097}, {\"timestamp\": \"2021-11-28T00:00:00\", \"variable\": \"total_credit\", \"value\": 48834313.99445297}, {\"timestamp\": \"2021-11-28T00:00:00\", \"variable\": \"total_debt\", \"value\": 258433577.398921}, {\"timestamp\": \"2021-11-28T00:00:00\", \"variable\": \"unfertilized_beans_cumulative\", \"value\": 0.0}, {\"timestamp\": \"2021-12-05T00:00:00\", \"variable\": \"debt_credit_ratio\", \"value\": 6.063220314344748}, {\"timestamp\": \"2021-12-05T00:00:00\", \"variable\": \"fertilized_beans_cumulative\", \"value\": 0.0}, {\"timestamp\": \"2021-12-05T00:00:00\", \"variable\": \"fertilizer_adjusted_pod_rate\", \"value\": 8.280728784226902}, {\"timestamp\": \"2021-12-05T00:00:00\", \"variable\": \"pods_harvestable_cumulative\", \"value\": 21873565.155148003}, {\"timestamp\": \"2021-12-05T00:00:00\", \"variable\": \"pods_issued_cumulative\", \"value\": 381131949.645927}, {\"timestamp\": \"2021-12-05T00:00:00\", \"variable\": \"silo_emissions_cumulative\", \"value\": 40986091.90600497}, {\"timestamp\": \"2021-12-05T00:00:00\", \"variable\": \"total_credit\", \"value\": 62859657.06115298}, {\"timestamp\": \"2021-12-05T00:00:00\", \"variable\": \"total_debt\", \"value\": 381131949.645927}, {\"timestamp\": \"2021-12-05T00:00:00\", \"variable\": \"unfertilized_beans_cumulative\", \"value\": 0.0}, {\"timestamp\": \"2021-12-12T00:00:00\", \"variable\": \"debt_credit_ratio\", \"value\": 6.371497694838922}, {\"timestamp\": \"2021-12-12T00:00:00\", \"variable\": \"fertilized_beans_cumulative\", \"value\": 0.0}, {\"timestamp\": \"2021-12-12T00:00:00\", \"variable\": \"fertilizer_adjusted_pod_rate\", \"value\": 8.848190111508554}, {\"timestamp\": \"2021-12-12T00:00:00\", \"variable\": \"pods_harvestable_cumulative\", \"value\": 21892511.636818003}, {\"timestamp\": \"2021-12-12T00:00:00\", \"variable\": \"pods_issued_cumulative\", \"value\": 400630877.527787}, {\"timestamp\": \"2021-12-12T00:00:00\", \"variable\": \"silo_emissions_cumulative\", \"value\": 40986091.90600497}, {\"timestamp\": \"2021-12-12T00:00:00\", \"variable\": \"total_credit\", \"value\": 62878603.54282297}, {\"timestamp\": \"2021-12-12T00:00:00\", \"variable\": \"total_debt\", \"value\": 400630877.527787}, {\"timestamp\": \"2021-12-12T00:00:00\", \"variable\": \"unfertilized_beans_cumulative\", \"value\": 0.0}, {\"timestamp\": \"2021-12-19T00:00:00\", \"variable\": \"debt_credit_ratio\", \"value\": 6.587616421341135}, {\"timestamp\": \"2021-12-19T00:00:00\", \"variable\": \"fertilized_beans_cumulative\", \"value\": 0.0}, {\"timestamp\": \"2021-12-19T00:00:00\", \"variable\": \"fertilizer_adjusted_pod_rate\", \"value\": 9.24712395385105}, {\"timestamp\": \"2021-12-19T00:00:00\", \"variable\": \"pods_harvestable_cumulative\", \"value\": 21948355.959442}, {\"timestamp\": \"2021-12-19T00:00:00\", \"variable\": \"pods_issued_cumulative\", \"value\": 414599405.7706}, {\"timestamp\": \"2021-12-19T00:00:00\", \"variable\": \"silo_emissions_cumulative\", \"value\": 40987822.96370697}, {\"timestamp\": \"2021-12-19T00:00:00\", \"variable\": \"total_credit\", \"value\": 62936178.923148975}, {\"timestamp\": \"2021-12-19T00:00:00\", \"variable\": \"total_debt\", \"value\": 414599405.7706}, {\"timestamp\": \"2021-12-19T00:00:00\", \"variable\": \"unfertilized_beans_cumulative\", \"value\": 0.0}, {\"timestamp\": \"2021-12-26T00:00:00\", \"variable\": \"debt_credit_ratio\", \"value\": 7.420442144059901}, {\"timestamp\": \"2021-12-26T00:00:00\", \"variable\": \"fertilized_beans_cumulative\", \"value\": 0.0}, {\"timestamp\": \"2021-12-26T00:00:00\", \"variable\": \"fertilizer_adjusted_pod_rate\", \"value\": 10.804561340367068}, {\"timestamp\": \"2021-12-26T00:00:00\", \"variable\": \"pods_harvestable_cumulative\", \"value\": 22116843.160187}, {\"timestamp\": \"2021-12-26T00:00:00\", \"variable\": \"pods_issued_cumulative\", \"value\": 469264476.039815}, {\"timestamp\": \"2021-12-26T00:00:00\", \"variable\": \"silo_emissions_cumulative\", \"value\": 41122579.36067497}, {\"timestamp\": \"2021-12-26T00:00:00\", \"variable\": \"total_credit\", \"value\": 63239422.52086197}, {\"timestamp\": \"2021-12-26T00:00:00\", \"variable\": \"total_debt\", \"value\": 469264476.039815}, {\"timestamp\": \"2021-12-26T00:00:00\", \"variable\": \"unfertilized_beans_cumulative\", \"value\": 0.0}, {\"timestamp\": \"2022-01-02T00:00:00\", \"variable\": \"debt_credit_ratio\", \"value\": 8.661417874854415}, {\"timestamp\": \"2022-01-02T00:00:00\", \"variable\": \"fertilized_beans_cumulative\", \"value\": 0.0}, {\"timestamp\": \"2022-01-02T00:00:00\", \"variable\": \"fertilizer_adjusted_pod_rate\", \"value\": 13.281221321701869}, {\"timestamp\": \"2022-01-02T00:00:00\", \"variable\": \"pods_harvestable_cumulative\", \"value\": 22144785.577367}, {\"timestamp\": \"2022-01-02T00:00:00\", \"variable\": \"pods_issued_cumulative\", \"value\": 548233773.854003}, {\"timestamp\": \"2022-01-02T00:00:00\", \"variable\": \"silo_emissions_cumulative\", \"value\": 41151291.55171597}, {\"timestamp\": \"2022-01-02T00:00:00\", \"variable\": \"total_credit\", \"value\": 63296077.12908297}, {\"timestamp\": \"2022-01-02T00:00:00\", \"variable\": \"total_debt\", \"value\": 548233773.854003}, {\"timestamp\": \"2022-01-02T00:00:00\", \"variable\": \"unfertilized_beans_cumulative\", \"value\": 0.0}, {\"timestamp\": \"2022-01-09T00:00:00\", \"variable\": \"debt_credit_ratio\", \"value\": 9.382429805152821}, {\"timestamp\": \"2022-01-09T00:00:00\", \"variable\": \"fertilized_beans_cumulative\", \"value\": 0.0}, {\"timestamp\": \"2022-01-09T00:00:00\", \"variable\": \"fertilizer_adjusted_pod_rate\", \"value\": 14.123191031983074}, {\"timestamp\": \"2022-01-09T00:00:00\", \"variable\": \"pods_harvestable_cumulative\", \"value\": 22218321.865599}, {\"timestamp\": \"2022-01-09T00:00:00\", \"variable\": \"pods_issued_cumulative\", \"value\": 594560949.667628}, {\"timestamp\": \"2022-01-09T00:00:00\", \"variable\": \"silo_emissions_cumulative\", \"value\": 41151291.55171597}, {\"timestamp\": \"2022-01-09T00:00:00\", \"variable\": \"total_credit\", \"value\": 63369613.41731497}, {\"timestamp\": \"2022-01-09T00:00:00\", \"variable\": \"total_debt\", \"value\": 594560949.667628}, {\"timestamp\": \"2022-01-09T00:00:00\", \"variable\": \"unfertilized_beans_cumulative\", \"value\": 0.0}, {\"timestamp\": \"2022-01-16T00:00:00\", \"variable\": \"debt_credit_ratio\", \"value\": 9.658504282329064}, {\"timestamp\": \"2022-01-16T00:00:00\", \"variable\": \"fertilized_beans_cumulative\", \"value\": 0.0}, {\"timestamp\": \"2022-01-16T00:00:00\", \"variable\": \"fertilizer_adjusted_pod_rate\", \"value\": 14.697592829280177}, {\"timestamp\": \"2022-01-16T00:00:00\", \"variable\": \"pods_harvestable_cumulative\", \"value\": 22312825.965598}, {\"timestamp\": \"2022-01-16T00:00:00\", \"variable\": \"pods_issued_cumulative\", \"value\": 612968450.815212}, {\"timestamp\": \"2022-01-16T00:00:00\", \"variable\": \"silo_emissions_cumulative\", \"value\": 41151291.55171597}, {\"timestamp\": \"2022-01-16T00:00:00\", \"variable\": \"total_credit\", \"value\": 63464117.51731397}, {\"timestamp\": \"2022-01-16T00:00:00\", \"variable\": \"total_debt\", \"value\": 612968450.815212}, {\"timestamp\": \"2022-01-16T00:00:00\", \"variable\": \"unfertilized_beans_cumulative\", \"value\": 0.0}, {\"timestamp\": \"2022-01-23T00:00:00\", \"variable\": \"debt_credit_ratio\", \"value\": 9.815821231128254}, {\"timestamp\": \"2022-01-23T00:00:00\", \"variable\": \"fertilized_beans_cumulative\", \"value\": 0.0}, {\"timestamp\": \"2022-01-23T00:00:00\", \"variable\": \"fertilizer_adjusted_pod_rate\", \"value\": 15.003489207741506}, {\"timestamp\": \"2022-01-23T00:00:00\", \"variable\": \"pods_harvestable_cumulative\", \"value\": 22312825.965598}, {\"timestamp\": \"2022-01-23T00:00:00\", \"variable\": \"pods_issued_cumulative\", \"value\": 622952432.141269}, {\"timestamp\": \"2022-01-23T00:00:00\", \"variable\": \"silo_emissions_cumulative\", \"value\": 41151291.55171597}, {\"timestamp\": \"2022-01-23T00:00:00\", \"variable\": \"total_credit\", \"value\": 63464117.51731397}, {\"timestamp\": \"2022-01-23T00:00:00\", \"variable\": \"total_debt\", \"value\": 622952432.141269}, {\"timestamp\": \"2022-01-23T00:00:00\", \"variable\": \"unfertilized_beans_cumulative\", \"value\": 0.0}, {\"timestamp\": \"2022-01-30T00:00:00\", \"variable\": \"debt_credit_ratio\", \"value\": 10.013435309138092}, {\"timestamp\": \"2022-01-30T00:00:00\", \"variable\": \"fertilized_beans_cumulative\", \"value\": 0.0}, {\"timestamp\": \"2022-01-30T00:00:00\", \"variable\": \"fertilizer_adjusted_pod_rate\", \"value\": 15.387337171148959}, {\"timestamp\": \"2022-01-30T00:00:00\", \"variable\": \"pods_harvestable_cumulative\", \"value\": 22312825.965598}, {\"timestamp\": \"2022-01-30T00:00:00\", \"variable\": \"pods_issued_cumulative\", \"value\": 635516475.006264}, {\"timestamp\": \"2022-01-30T00:00:00\", \"variable\": \"silo_emissions_cumulative\", \"value\": 41153552.49358097}, {\"timestamp\": \"2022-01-30T00:00:00\", \"variable\": \"total_credit\", \"value\": 63466378.45917897}, {\"timestamp\": \"2022-01-30T00:00:00\", \"variable\": \"total_debt\", \"value\": 635516475.006264}, {\"timestamp\": \"2022-01-30T00:00:00\", \"variable\": \"unfertilized_beans_cumulative\", \"value\": 0.0}, {\"timestamp\": \"2022-02-06T00:00:00\", \"variable\": \"debt_credit_ratio\", \"value\": 10.104343439410828}, {\"timestamp\": \"2022-02-06T00:00:00\", \"variable\": \"fertilized_beans_cumulative\", \"value\": 0.0}, {\"timestamp\": \"2022-02-06T00:00:00\", \"variable\": \"fertilizer_adjusted_pod_rate\", \"value\": 15.40554141817419}, {\"timestamp\": \"2022-02-06T00:00:00\", \"variable\": \"pods_harvestable_cumulative\", \"value\": 22339987.993866}, {\"timestamp\": \"2022-02-06T00:00:00\", \"variable\": \"pods_issued_cumulative\", \"value\": 643054965.637173}, {\"timestamp\": \"2022-02-06T00:00:00\", \"variable\": \"silo_emissions_cumulative\", \"value\": 41301451.89712298}, {\"timestamp\": \"2022-02-06T00:00:00\", \"variable\": \"total_credit\", \"value\": 63641439.890988976}, {\"timestamp\": \"2022-02-06T00:00:00\", \"variable\": \"total_debt\", \"value\": 643054965.637173}, {\"timestamp\": \"2022-02-06T00:00:00\", \"variable\": \"unfertilized_beans_cumulative\", \"value\": 0.0}, {\"timestamp\": \"2022-02-13T00:00:00\", \"variable\": \"debt_credit_ratio\", \"value\": 10.108120260269777}, {\"timestamp\": \"2022-02-13T00:00:00\", \"variable\": \"fertilized_beans_cumulative\", \"value\": 0.0}, {\"timestamp\": \"2022-02-13T00:00:00\", \"variable\": \"fertilizer_adjusted_pod_rate\", \"value\": 15.368124197796112}, {\"timestamp\": \"2022-02-13T00:00:00\", \"variable\": \"pods_harvestable_cumulative\", \"value\": 22549317.614652}, {\"timestamp\": \"2022-02-13T00:00:00\", \"variable\": \"pods_issued_cumulative\", \"value\": 647775542.417444}, {\"timestamp\": \"2022-02-13T00:00:00\", \"variable\": \"silo_emissions_cumulative\", \"value\": 41535351.51651596}, {\"timestamp\": \"2022-02-13T00:00:00\", \"variable\": \"total_credit\", \"value\": 64084669.13116796}, {\"timestamp\": \"2022-02-13T00:00:00\", \"variable\": \"total_debt\", \"value\": 647775542.417444}, {\"timestamp\": \"2022-02-13T00:00:00\", \"variable\": \"unfertilized_beans_cumulative\", \"value\": 0.0}, {\"timestamp\": \"2022-02-20T00:00:00\", \"variable\": \"debt_credit_ratio\", \"value\": 10.25424627901757}, {\"timestamp\": \"2022-02-20T00:00:00\", \"variable\": \"fertilized_beans_cumulative\", \"value\": 0.0}, {\"timestamp\": \"2022-02-20T00:00:00\", \"variable\": \"fertilizer_adjusted_pod_rate\", \"value\": 15.661340938826324}, {\"timestamp\": \"2022-02-20T00:00:00\", \"variable\": \"pods_harvestable_cumulative\", \"value\": 22834519.350377}, {\"timestamp\": \"2022-02-20T00:00:00\", \"variable\": \"pods_issued_cumulative\", \"value\": 661537927.84579}, {\"timestamp\": \"2022-02-20T00:00:00\", \"variable\": \"silo_emissions_cumulative\", \"value\": 41679040.18831296}, {\"timestamp\": \"2022-02-20T00:00:00\", \"variable\": \"total_credit\", \"value\": 64513559.53868996}, {\"timestamp\": \"2022-02-20T00:00:00\", \"variable\": \"total_debt\", \"value\": 661537927.84579}, {\"timestamp\": \"2022-02-20T00:00:00\", \"variable\": \"unfertilized_beans_cumulative\", \"value\": 0.0}, {\"timestamp\": \"2022-02-27T00:00:00\", \"variable\": \"debt_credit_ratio\", \"value\": 10.270314818878955}, {\"timestamp\": \"2022-02-27T00:00:00\", \"variable\": \"fertilized_beans_cumulative\", \"value\": 0.0}, {\"timestamp\": \"2022-02-27T00:00:00\", \"variable\": \"fertilizer_adjusted_pod_rate\", \"value\": 15.65439014716296}, {\"timestamp\": \"2022-02-27T00:00:00\", \"variable\": \"pods_harvestable_cumulative\", \"value\": 22834519.350377}, {\"timestamp\": \"2022-02-27T00:00:00\", \"variable\": \"pods_issued_cumulative\", \"value\": 663281001.462482}, {\"timestamp\": \"2022-02-27T00:00:00\", \"variable\": \"silo_emissions_cumulative\", \"value\": 41747824.34207095}, {\"timestamp\": \"2022-02-27T00:00:00\", \"variable\": \"total_credit\", \"value\": 64582343.69244795}, {\"timestamp\": \"2022-02-27T00:00:00\", \"variable\": \"total_debt\", \"value\": 663281001.462482}, {\"timestamp\": \"2022-02-27T00:00:00\", \"variable\": \"unfertilized_beans_cumulative\", \"value\": 0.0}, {\"timestamp\": \"2022-03-06T00:00:00\", \"variable\": \"debt_credit_ratio\", \"value\": 10.58344967528541}, {\"timestamp\": \"2022-03-06T00:00:00\", \"variable\": \"fertilized_beans_cumulative\", \"value\": 0.0}, {\"timestamp\": \"2022-03-06T00:00:00\", \"variable\": \"fertilizer_adjusted_pod_rate\", \"value\": 16.24799725374966}, {\"timestamp\": \"2022-03-06T00:00:00\", \"variable\": \"pods_harvestable_cumulative\", \"value\": 22990480.974133}, {\"timestamp\": \"2022-03-06T00:00:00\", \"variable\": \"pods_issued_cumulative\", \"value\": 685983331.448107}, {\"timestamp\": \"2022-03-06T00:00:00\", \"variable\": \"silo_emissions_cumulative\", \"value\": 41826129.15725195}, {\"timestamp\": \"2022-03-06T00:00:00\", \"variable\": \"total_credit\", \"value\": 64816610.13138495}, {\"timestamp\": \"2022-03-06T00:00:00\", \"variable\": \"total_debt\", \"value\": 685983331.448107}, {\"timestamp\": \"2022-03-06T00:00:00\", \"variable\": \"unfertilized_beans_cumulative\", \"value\": 0.0}, {\"timestamp\": \"2022-03-13T00:00:00\", \"variable\": \"debt_credit_ratio\", \"value\": 10.682004889835698}, {\"timestamp\": \"2022-03-13T00:00:00\", \"variable\": \"fertilized_beans_cumulative\", \"value\": 0.0}, {\"timestamp\": \"2022-03-13T00:00:00\", \"variable\": \"fertilizer_adjusted_pod_rate\", \"value\": 16.2925452435312}, {\"timestamp\": \"2022-03-13T00:00:00\", \"variable\": \"pods_harvestable_cumulative\", \"value\": 22993263.391564}, {\"timestamp\": \"2022-03-13T00:00:00\", \"variable\": \"pods_issued_cumulative\", \"value\": 695501943.877728}, {\"timestamp\": \"2022-03-13T00:00:00\", \"variable\": \"silo_emissions_cumulative\", \"value\": 42116418.83106094}, {\"timestamp\": \"2022-03-13T00:00:00\", \"variable\": \"total_credit\", \"value\": 65109682.22262494}, {\"timestamp\": \"2022-03-13T00:00:00\", \"variable\": \"total_debt\", \"value\": 695501943.877728}, {\"timestamp\": \"2022-03-13T00:00:00\", \"variable\": \"unfertilized_beans_cumulative\", \"value\": 0.0}, {\"timestamp\": \"2022-03-20T00:00:00\", \"variable\": \"debt_credit_ratio\", \"value\": 10.49432087754327}, {\"timestamp\": \"2022-03-20T00:00:00\", \"variable\": \"fertilized_beans_cumulative\", \"value\": 0.0}, {\"timestamp\": \"2022-03-20T00:00:00\", \"variable\": \"fertilizer_adjusted_pod_rate\", \"value\": 15.924625030993381}, {\"timestamp\": \"2022-03-20T00:00:00\", \"variable\": \"pods_harvestable_cumulative\", \"value\": 24022373.793534}, {\"timestamp\": \"2022-03-20T00:00:00\", \"variable\": \"pods_issued_cumulative\", \"value\": 701618207.425246}, {\"timestamp\": \"2022-03-20T00:00:00\", \"variable\": \"silo_emissions_cumulative\", \"value\": 42834568.700632945}, {\"timestamp\": \"2022-03-20T00:00:00\", \"variable\": \"total_credit\", \"value\": 66856942.49416694}, {\"timestamp\": \"2022-03-20T00:00:00\", \"variable\": \"total_debt\", \"value\": 701618207.425246}, {\"timestamp\": \"2022-03-20T00:00:00\", \"variable\": \"unfertilized_beans_cumulative\", \"value\": 0.0}, {\"timestamp\": \"2022-03-27T00:00:00\", \"variable\": \"debt_credit_ratio\", \"value\": 10.320858780362094}, {\"timestamp\": \"2022-03-27T00:00:00\", \"variable\": \"fertilized_beans_cumulative\", \"value\": 0.0}, {\"timestamp\": \"2022-03-27T00:00:00\", \"variable\": \"fertilizer_adjusted_pod_rate\", \"value\": 15.48395064447731}, {\"timestamp\": \"2022-03-27T00:00:00\", \"variable\": \"pods_harvestable_cumulative\", \"value\": 24743601.480616994}, {\"timestamp\": \"2022-03-27T00:00:00\", \"variable\": \"pods_issued_cumulative\", \"value\": 705346854.956478}, {\"timestamp\": \"2022-03-27T00:00:00\", \"variable\": \"silo_emissions_cumulative\", \"value\": 43598274.90456999}, {\"timestamp\": \"2022-03-27T00:00:00\", \"variable\": \"total_credit\", \"value\": 68341876.38518699}, {\"timestamp\": \"2022-03-27T00:00:00\", \"variable\": \"total_debt\", \"value\": 705346854.956478}, {\"timestamp\": \"2022-03-27T00:00:00\", \"variable\": \"unfertilized_beans_cumulative\", \"value\": 0.0}, {\"timestamp\": \"2022-04-03T00:00:00\", \"variable\": \"debt_credit_ratio\", \"value\": 9.977090185374813}, {\"timestamp\": \"2022-04-03T00:00:00\", \"variable\": \"fertilized_beans_cumulative\", \"value\": 0.0}, {\"timestamp\": \"2022-04-03T00:00:00\", \"variable\": \"fertilizer_adjusted_pod_rate\", \"value\": 14.588370834787636}, {\"timestamp\": \"2022-04-03T00:00:00\", \"variable\": \"pods_harvestable_cumulative\", \"value\": 25905267.403177995}, {\"timestamp\": \"2022-04-03T00:00:00\", \"variable\": \"pods_issued_cumulative\", \"value\": 708673539.483889}, {\"timestamp\": \"2022-04-03T00:00:00\", \"variable\": \"silo_emissions_cumulative\", \"value\": 45124815.14761595}, {\"timestamp\": \"2022-04-03T00:00:00\", \"variable\": \"total_credit\", \"value\": 71030082.55079395}, {\"timestamp\": \"2022-04-03T00:00:00\", \"variable\": \"total_debt\", \"value\": 708673539.483889}, {\"timestamp\": \"2022-04-03T00:00:00\", \"variable\": \"unfertilized_beans_cumulative\", \"value\": 0.0}, {\"timestamp\": \"2022-04-10T00:00:00\", \"variable\": \"debt_credit_ratio\", \"value\": 9.43976469921229}, {\"timestamp\": \"2022-04-10T00:00:00\", \"variable\": \"fertilized_beans_cumulative\", \"value\": 0.0}, {\"timestamp\": \"2022-04-10T00:00:00\", \"variable\": \"fertilizer_adjusted_pod_rate\", \"value\": 12.941765642518924}, {\"timestamp\": \"2022-04-10T00:00:00\", \"variable\": \"pods_harvestable_cumulative\", \"value\": 27999158.687810995}, {\"timestamp\": \"2022-04-10T00:00:00\", \"variable\": \"pods_issued_cumulative\", \"value\": 710834506.06925}, {\"timestamp\": \"2022-04-10T00:00:00\", \"variable\": \"silo_emissions_cumulative\", \"value\": 47302983.761625946}, {\"timestamp\": \"2022-04-10T00:00:00\", \"variable\": \"total_credit\", \"value\": 75302142.44943693}, {\"timestamp\": \"2022-04-10T00:00:00\", \"variable\": \"total_debt\", \"value\": 710834506.06925}, {\"timestamp\": \"2022-04-10T00:00:00\", \"variable\": \"unfertilized_beans_cumulative\", \"value\": 0.0}, {\"timestamp\": \"2022-04-17T00:00:00\", \"variable\": \"debt_credit_ratio\", \"value\": 6.360132077483794}, {\"timestamp\": \"2022-04-17T00:00:00\", \"variable\": \"fertilized_beans_cumulative\", \"value\": 0.0}, {\"timestamp\": \"2022-04-17T00:00:00\", \"variable\": \"fertilizer_adjusted_pod_rate\", \"value\": 37.39908837854603}, {\"timestamp\": \"2022-04-17T00:00:00\", \"variable\": \"pods_harvestable_cumulative\", \"value\": 55438959.69430199}, {\"timestamp\": \"2022-04-17T00:00:00\", \"variable\": \"pods_issued_cumulative\", \"value\": 737663715.081254}, {\"timestamp\": \"2022-04-17T00:00:00\", \"variable\": \"silo_emissions_cumulative\", \"value\": 74133254.22224994}, {\"timestamp\": \"2022-04-17T00:00:00\", \"variable\": \"total_credit\", \"value\": 129572213.91655193}, {\"timestamp\": \"2022-04-17T00:00:00\", \"variable\": \"total_debt\", \"value\": 824096394.081254}, {\"timestamp\": \"2022-04-17T00:00:00\", \"variable\": \"unfertilized_beans_cumulative\", \"value\": 86432679.0}, {\"timestamp\": \"2022-08-07T00:00:00\", \"variable\": \"debt_credit_ratio\", \"value\": 6.150000235664234}, {\"timestamp\": \"2022-08-07T00:00:00\", \"variable\": \"fertilized_beans_cumulative\", \"value\": 1912625.803108}, {\"timestamp\": \"2022-08-07T00:00:00\", \"variable\": \"fertilizer_adjusted_pod_rate\", \"value\": 26.41952976190462}, {\"timestamp\": \"2022-08-07T00:00:00\", \"variable\": \"pods_harvestable_cumulative\", \"value\": 57351922.095056996}, {\"timestamp\": \"2022-08-07T00:00:00\", \"variable\": \"pods_issued_cumulative\", \"value\": 738620191.031981}, {\"timestamp\": \"2022-08-07T00:00:00\", \"variable\": \"silo_emissions_cumulative\", \"value\": 76046216.62301993}, {\"timestamp\": \"2022-08-07T00:00:00\", \"variable\": \"total_credit\", \"value\": 135310764.52118492}, {\"timestamp\": \"2022-08-07T00:00:00\", \"variable\": \"total_debt\", \"value\": 832161233.693195}, {\"timestamp\": \"2022-08-07T00:00:00\", \"variable\": \"unfertilized_beans_cumulative\", \"value\": 93541042.66121396}, {\"timestamp\": \"2022-08-14T00:00:00\", \"variable\": \"debt_credit_ratio\", \"value\": 6.737296908032011}, {\"timestamp\": \"2022-08-14T00:00:00\", \"variable\": \"fertilized_beans_cumulative\", \"value\": 2067319.5795749996}, {\"timestamp\": \"2022-08-14T00:00:00\", \"variable\": \"fertilizer_adjusted_pod_rate\", \"value\": 29.721639898538577}, {\"timestamp\": \"2022-08-14T00:00:00\", \"variable\": \"pods_harvestable_cumulative\", \"value\": 57504141.760129}, {\"timestamp\": \"2022-08-14T00:00:00\", \"variable\": \"pods_issued_cumulative\", \"value\": 820798740.86972}, {\"timestamp\": \"2022-08-14T00:00:00\", \"variable\": \"silo_emissions_cumulative\", \"value\": 76201917.52848995}, {\"timestamp\": \"2022-08-14T00:00:00\", \"variable\": \"total_credit\", \"value\": 135773378.86819395}, {\"timestamp\": \"2022-08-14T00:00:00\", \"variable\": \"total_debt\", \"value\": 914745565.6417419}, {\"timestamp\": \"2022-08-14T00:00:00\", \"variable\": \"unfertilized_beans_cumulative\", \"value\": 93946824.77202192}, {\"timestamp\": \"2022-08-21T00:00:00\", \"variable\": \"debt_credit_ratio\", \"value\": 6.73622399108563}, {\"timestamp\": \"2022-08-21T00:00:00\", \"variable\": \"fertilized_beans_cumulative\", \"value\": 2085458.393384}, {\"timestamp\": \"2022-08-21T00:00:00\", \"variable\": \"fertilizer_adjusted_pod_rate\", \"value\": 29.038176463563463}, {\"timestamp\": \"2022-08-21T00:00:00\", \"variable\": \"pods_harvestable_cumulative\", \"value\": 57528088.751132995}, {\"timestamp\": \"2022-08-21T00:00:00\", \"variable\": \"pods_issued_cumulative\", \"value\": 821073540.366841}, {\"timestamp\": \"2022-08-21T00:00:00\", \"variable\": \"silo_emissions_cumulative\", \"value\": 76222405.99596496}, {\"timestamp\": \"2022-08-21T00:00:00\", \"variable\": \"total_credit\", \"value\": 135835953.14048195}, {\"timestamp\": \"2022-08-21T00:00:00\", \"variable\": \"total_debt\", \"value\": 915021406.3968979}, {\"timestamp\": \"2022-08-21T00:00:00\", \"variable\": \"unfertilized_beans_cumulative\", \"value\": 93947866.03005692}, {\"timestamp\": \"2022-08-28T00:00:00\", \"variable\": \"debt_credit_ratio\", \"value\": 6.736929318279517}, {\"timestamp\": \"2022-08-28T00:00:00\", \"variable\": \"fertilized_beans_cumulative\", \"value\": 2099056.5227339966}, {\"timestamp\": \"2022-08-28T00:00:00\", \"variable\": \"fertilizer_adjusted_pod_rate\", \"value\": 28.99910229823106}, {\"timestamp\": \"2022-08-28T00:00:00\", \"variable\": \"pods_harvestable_cumulative\", \"value\": 57543673.69252}, {\"timestamp\": \"2022-08-28T00:00:00\", \"variable\": \"pods_issued_cumulative\", \"value\": 821482327.568473}, {\"timestamp\": \"2022-08-28T00:00:00\", \"variable\": \"silo_emissions_cumulative\", \"value\": 76238065.56059295}, {\"timestamp\": \"2022-08-28T00:00:00\", \"variable\": \"total_credit\", \"value\": 135880795.77584696}, {\"timestamp\": \"2022-08-28T00:00:00\", \"variable\": \"total_debt\", \"value\": 915419316.853455}, {\"timestamp\": \"2022-08-28T00:00:00\", \"variable\": \"unfertilized_beans_cumulative\", \"value\": 93936989.28498192}, {\"timestamp\": \"2022-09-04T00:00:00\", \"variable\": \"debt_credit_ratio\", \"value\": 6.761648464971948}, {\"timestamp\": \"2022-09-04T00:00:00\", \"variable\": \"fertilized_beans_cumulative\", \"value\": 2106096.6592569994}, {\"timestamp\": \"2022-09-04T00:00:00\", \"variable\": \"fertilizer_adjusted_pod_rate\", \"value\": 29.141053826317535}, {\"timestamp\": \"2022-09-04T00:00:00\", \"variable\": \"pods_harvestable_cumulative\", \"value\": 57551065.336568}, {\"timestamp\": \"2022-09-04T00:00:00\", \"variable\": \"pods_issued_cumulative\", \"value\": 825006365.807399}, {\"timestamp\": \"2022-09-04T00:00:00\", \"variable\": \"silo_emissions_cumulative\", \"value\": 76246951.63648896}, {\"timestamp\": \"2022-09-04T00:00:00\", \"variable\": \"total_credit\", \"value\": 135904113.63231397}, {\"timestamp\": \"2022-09-04T00:00:00\", \"variable\": \"total_debt\", \"value\": 918935841.3253089}, {\"timestamp\": \"2022-09-04T00:00:00\", \"variable\": \"unfertilized_beans_cumulative\", \"value\": 93929475.51790993}, {\"timestamp\": \"2022-09-11T00:00:00\", \"variable\": \"debt_credit_ratio\", \"value\": 6.761852935571199}, {\"timestamp\": \"2022-09-11T00:00:00\", \"variable\": \"fertilized_beans_cumulative\", \"value\": 2109126.1571129984}, {\"timestamp\": \"2022-09-11T00:00:00\", \"variable\": \"fertilizer_adjusted_pod_rate\", \"value\": 29.117133640595217}, {\"timestamp\": \"2022-09-11T00:00:00\", \"variable\": \"pods_harvestable_cumulative\", \"value\": 57554631.732468}, {\"timestamp\": \"2022-09-11T00:00:00\", \"variable\": \"pods_issued_cumulative\", \"value\": 825112316.148051}, {\"timestamp\": \"2022-09-11T00:00:00\", \"variable\": \"silo_emissions_cumulative\", \"value\": 76251914.99222296}, {\"timestamp\": \"2022-09-11T00:00:00\", \"variable\": \"total_credit\", \"value\": 135915672.88180396}, {\"timestamp\": \"2022-09-11T00:00:00\", \"variable\": \"total_debt\", \"value\": 919041791.6659609}, {\"timestamp\": \"2022-09-11T00:00:00\", \"variable\": \"unfertilized_beans_cumulative\", \"value\": 93929475.51790993}, {\"timestamp\": \"2022-09-18T00:00:00\", \"variable\": \"debt_credit_ratio\", \"value\": 6.7648342256367835}, {\"timestamp\": \"2022-09-18T00:00:00\", \"variable\": \"fertilized_beans_cumulative\", \"value\": 2110090.104752999}, {\"timestamp\": \"2022-09-18T00:00:00\", \"variable\": \"fertilizer_adjusted_pod_rate\", \"value\": 29.11865216351054}, {\"timestamp\": \"2022-09-18T00:00:00\", \"variable\": \"pods_harvestable_cumulative\", \"value\": 57559429.921489}, {\"timestamp\": \"2022-09-18T00:00:00\", \"variable\": \"pods_issued_cumulative\", \"value\": 825583248.930806}, {\"timestamp\": \"2022-09-18T00:00:00\", \"variable\": \"silo_emissions_cumulative\", \"value\": 76254471.41009296}, {\"timestamp\": \"2022-09-18T00:00:00\", \"variable\": \"total_credit\", \"value\": 135923991.43633497}, {\"timestamp\": \"2022-09-18T00:00:00\", \"variable\": \"total_debt\", \"value\": 919503269.3536799}, {\"timestamp\": \"2022-09-18T00:00:00\", \"variable\": \"unfertilized_beans_cumulative\", \"value\": 93920020.42287391}, {\"timestamp\": \"2022-09-25T00:00:00\", \"variable\": \"debt_credit_ratio\", \"value\": 6.787222162184916}, {\"timestamp\": \"2022-09-25T00:00:00\", \"variable\": \"fertilized_beans_cumulative\", \"value\": 2110124.532120999}, {\"timestamp\": \"2022-09-25T00:00:00\", \"variable\": \"fertilizer_adjusted_pod_rate\", \"value\": 29.274040233192196}, {\"timestamp\": \"2022-09-25T00:00:00\", \"variable\": \"pods_harvestable_cumulative\", \"value\": 57560211.939542}, {\"timestamp\": \"2022-09-25T00:00:00\", \"variable\": \"pods_issued_cumulative\", \"value\": 828631979.817323}, {\"timestamp\": \"2022-09-25T00:00:00\", \"variable\": \"silo_emissions_cumulative\", \"value\": 76254529.48069097}, {\"timestamp\": \"2022-09-25T00:00:00\", \"variable\": \"total_credit\", \"value\": 135924865.95235398}, {\"timestamp\": \"2022-09-25T00:00:00\", \"variable\": \"total_debt\", \"value\": 922552262.5838308}, {\"timestamp\": \"2022-09-25T00:00:00\", \"variable\": \"unfertilized_beans_cumulative\", \"value\": 93920282.76650791}, {\"timestamp\": \"2022-10-02T00:00:00\", \"variable\": \"debt_credit_ratio\", \"value\": 6.787283342523368}, {\"timestamp\": \"2022-10-02T00:00:00\", \"variable\": \"fertilized_beans_cumulative\", \"value\": 2110124.532120999}, {\"timestamp\": \"2022-10-02T00:00:00\", \"variable\": \"fertilizer_adjusted_pod_rate\", \"value\": 29.262318533126102}, {\"timestamp\": \"2022-10-02T00:00:00\", \"variable\": \"pods_harvestable_cumulative\", \"value\": 57560211.939542}, {\"timestamp\": \"2022-10-02T00:00:00\", \"variable\": \"pods_issued_cumulative\", \"value\": 828640295.746626}, {\"timestamp\": \"2022-10-02T00:00:00\", \"variable\": \"silo_emissions_cumulative\", \"value\": 76254529.48069097}, {\"timestamp\": \"2022-10-02T00:00:00\", \"variable\": \"total_credit\", \"value\": 135924865.95235398}, {\"timestamp\": \"2022-10-02T00:00:00\", \"variable\": \"total_debt\", \"value\": 922560578.5131339}, {\"timestamp\": \"2022-10-02T00:00:00\", \"variable\": \"unfertilized_beans_cumulative\", \"value\": 93920282.76650791}]}}, {\"mode\": \"vega-lite\"});\n",
       "</script>"
      ],
      "text/plain": [
       "alt.VConcatChart(...)"
      ]
     },
     "execution_count": 27,
     "metadata": {},
     "output_type": "execute_result"
    }
   ],
   "source": [
    "# alt.data_transformers.disable_max_rows()\n",
    "\n",
    "dropdown = alt.binding_select(options=['ym', 'ymd'], name='Aggregation Level')\n",
    "selection = alt.selection_single(name=\"agglevel\", fields=['AggLevel'], bind=dropdown, init={\"AggLevel\": 'ymd'})\n",
    "selection_rule = alt.selection_single(\n",
    "    fields=['tstamp'], nearest=True, on='mouseover', empty='none', clear='mouseout'\n",
    ")\n",
    "colors = {\n",
    "    # credit components \n",
    "    'fertilized_beans_cumulative': '#57cc99', # green   \n",
    "    'pods_harvestable_cumulative': '#38a3a5', # mid blue \n",
    "    'silo_emissions_cumulative': '#22577a', # navy blue \n",
    "    # debt components \n",
    "    'unfertilized_beans_cumulative': \"#ef9b20\", # Magenta 50\n",
    "    'pods_issued_cumulative': '#fa4d56', # Red 50\n",
    "    # overall \n",
    "    'total_debt': '#9f1853', # Magenta 70 \n",
    "    'total_credit': '#80ed99', # mint green \n",
    "    'debt_credit_ratio': '#ffc300', # gold \n",
    "    'fertilizer_adjusted_pod_rate': '#5e60ce' # purple-ish\n",
    "}\n",
    "format_decimal = \",d\"\n",
    "format_percent = \".2%\"\n",
    "tooltip_formats = {\n",
    "    'fertilized_beans_cumulative': format_decimal,\n",
    "    'unfertilized_beans_cumulative': format_decimal,\n",
    "    'pods_harvestable_cumulative': format_decimal,\n",
    "    'silo_emissions_cumulative': format_decimal,\n",
    "    'pods_issued_cumulative': format_decimal,\n",
    "    'total_debt': format_decimal,\n",
    "    'total_credit': format_decimal,\n",
    "    'debt_credit_ratio': format_percent, \n",
    "    'fertilizer_adjusted_pod_rate': format_percent,\n",
    "}\n",
    "assert set(colors.keys()) == set(metrics)\n",
    "assert set(tooltip_formats.keys()) == set(metrics)\n",
    "\n",
    "# ngl I popped off on this one \n",
    "stack_order_expr = (\n",
    "    # creates numeric stack order key encoding both x position and order of stacked area labels into single value \n",
    "    ' '.join(\n",
    "        [\n",
    "            f\"datum.variable === '{m}' ? {i} : \" \n",
    "            for i, m in enumerate(reversed(metrics))\n",
    "        ]\n",
    "    ) \n",
    "    + str(len(metrics))\n",
    ")\n",
    "stack_order_expr = f'time(datum.tstamp) + ({stack_order_expr})'\n",
    "\n",
    "base = (\n",
    "    alt.Chart(source)\n",
    "    .properties(height=225, width=500)\n",
    "    .transform_timeunit(\n",
    "        ymd=\"yearmonthdate(timestamp)\", \n",
    "        ym=\"yearmonth(timestamp)\", \n",
    "    )\n",
    "    .transform_calculate(\n",
    "        tstamp=\"datum[agglevel.AggLevel]\", \n",
    "    )\n",
    "    .transform_aggregate(\n",
    "        groupby=[\"tstamp\", 'variable'], rvalue='max(value)'\n",
    "    )\n",
    "    .transform_calculate(stack_order=stack_order_expr)\n",
    "    .encode(\n",
    "        x=alt.X(\n",
    "            \"tstamp:O\", \n",
    "            axis=alt.Axis(\n",
    "                formatType=\"time\", \n",
    "                ticks=False, \n",
    "                labelExpr=\"timeFormat(toDate(datum.value), '%b %Y')\", \n",
    "                labelOverlap=True, \n",
    "                labelSeparation=25, \n",
    "                labelPadding=5, \n",
    "                title=\"Date\", \n",
    "                labelAngle=0, \n",
    "            ), \n",
    "        ),   \n",
    "    )\n",
    ")\n",
    "base_bdv = (\n",
    "    base\n",
    "    .encode(\n",
    "        y=alt.Y(\"rvalue:Q\", axis=alt.Axis(title=\"BDV\")),\n",
    "        color=alt.Color(\n",
    "            \"variable:N\", \n",
    "            scale=alt.Scale(\n",
    "                domain=metrics_credit + metrics_debt + metrics_credit_debt_aggregate, \n",
    "                range=[colors[m] for m in metrics_credit + metrics_debt + metrics_credit_debt_aggregate]\n",
    "            ),\n",
    "            legend=alt.Legend(title=\"Legend\")\n",
    "        ),\n",
    "        order=alt.Order('stack_order:Q', sort='ascending')\n",
    "    )\n",
    ")\n",
    "base_ratio = base.encode(\n",
    "    y=alt.Y(\"rvalue:Q\", axis=alt.Axis(title=\"Percent\", format=\",%\")),\n",
    "    color=alt.Color(\n",
    "        \"variable:N\", \n",
    "        scale=alt.Scale(\n",
    "            domain=metrics_meta, range=[colors[m] for m in metrics_meta]\n",
    "        ),\n",
    "        legend=alt.Legend(title=\"Legend\")\n",
    "    ),\n",
    ")\n",
    "rule_exploit = (\n",
    "    # selection captures nearest timestamp (for current mouse position) \n",
    "    # tooltip rendered uses this data point (pivoted, so we have all data for this timestamp) \n",
    "    base\n",
    "    .transform_pivot('variable', value='rvalue', groupby=['tstamp'])\n",
    "    .transform_filter(\"year(datum.tstamp) === 2022 && month(datum.tstamp) === 3 && date(datum.tstamp) === 17\")\n",
    "    .mark_rule(opacity=1, color='#474440', strokeDash=[2.5,1])\n",
    ")\n",
    "rule = (\n",
    "    # selection captures nearest timestamp (for current mouse position) \n",
    "    # tooltip rendered uses this data point (pivoted, so we have all data for this timestamp) \n",
    "    base\n",
    "    .transform_pivot('variable', value='rvalue', groupby=['tstamp'])\n",
    "    .mark_rule(opacity=0)\n",
    "    .encode(\n",
    "        tooltip=(\n",
    "            [alt.Tooltip('tstamp:O', timeUnit=\"yearmonthdate\", title=\"date\")] + \n",
    "            [\n",
    "                alt.Tooltip(\n",
    "                    f'{m}:Q', \n",
    "                    format=tooltip_formats[m], \n",
    "                    title=m.replace(\"_\", \" \").replace(\" cumulative\", \"\")\n",
    "                ) for m in metrics\n",
    "            ] \n",
    "        ) \n",
    "    )\n",
    "    .add_selection(selection_rule)\n",
    ")\n",
    "credit = (\n",
    "    base_bdv\n",
    "    .mark_bar()\n",
    "    .transform_filter(condition_union(\"==\", \"|\", metrics_credit))\n",
    ")\n",
    "debt = (\n",
    "    base_bdv\n",
    "    .mark_bar()\n",
    "    .transform_filter(condition_union(\"==\", \"|\", metrics_debt))\n",
    ") \n",
    "lines_debt_credit = (\n",
    "    base_bdv\n",
    "    .mark_line()\n",
    "    .transform_filter(condition_union('==', '|', metrics_credit_debt_aggregate))\n",
    ") \n",
    "line_ratio = (\n",
    "    base_ratio\n",
    "    .mark_line()\n",
    "    .transform_filter(condition_union('==', '|', metrics_meta))\n",
    ")\n",
    "point_ratio = (\n",
    "    base_ratio\n",
    "    .mark_point(size=7)\n",
    "    .transform_filter(condition_union('==', '|', metrics_meta))\n",
    ")\n",
    "\n",
    "c = (\n",
    "    alt\n",
    "    .vconcat(\n",
    "        alt.layer(debt, credit, lines_debt_credit, rule, rule_exploit).properties(title=\"Beanstalk Credit Profile\"),\n",
    "        alt.layer(line_ratio, point_ratio, rule, rule_exploit).properties(title=\"Beanstalk Credit Metrics\"),\n",
    "    )\n",
    "    .resolve_legend(color=\"independent\")\n",
    "    .resolve_axis(y=\"independent\")\n",
    "    .resolve_scale(y=\"independent\", color=\"independent\")\n",
    "    .add_selection(selection) \n",
    ")\n",
    "\n",
    "\n",
    "css_lines = [\n",
    "    \"div.chart-wrapper { display: flex; flex-direction: column; }\", \n",
    "    \"form.vega-bindings { display: block; order: -1; }\", \n",
    "    \"canvas { order: 1 }\", \n",
    "    \"#vg-tooltip-element tr:nth-child(1) { font-weight: bold }\", \n",
    "    \"#vg-tooltip-element tr:nth-child(1) td:first-child { opacity: 0 }\\n\", \n",
    "]\n",
    "for i, m in enumerate(metrics): \n",
    "    # i+2 bc css uses one based indexing and we also don't color timestamp (first element in tooltip)\n",
    "    css_lines.append(\n",
    "        \"#vg-tooltip-element tr:nth-child(%d) td:first-child { color: %s }\\n\" % (i+2, colors[m])\n",
    "    )\n",
    "css = \"\\n\".join(css_lines)\n",
    "    \n",
    "apply_css(css) \n",
    "c"
   ]
  },
  {
   "cell_type": "code",
   "execution_count": 19,
   "id": "d6752862",
   "metadata": {},
   "outputs": [
    {
     "data": {
      "application/json": {
       "css": "#vg-tooltip-element tr:nth-child(1) { font-weight: bold }\n#vg-tooltip-element tr:nth-child(1) td:first-child { opacity: 0 }\n#vg-tooltip-element tr:nth-child(2) td:first-child { color: #22577a }\n#vg-tooltip-element tr:nth-child(3) td:first-child { color: #38a3a5 }\n#vg-tooltip-element tr:nth-child(4) td:first-child { color: #57cc99 }\n#vg-tooltip-element tr:nth-child(5) td:first-child { color: #ef9b20 }\n#vg-tooltip-element tr:nth-child(6) td:first-child { color: #fa4d56 }\n#vg-tooltip-element tr:nth-child(7) td:first-child { color: #9f1853 }\n#vg-tooltip-element tr:nth-child(8) td:first-child { color: #80ed99 }\n#vg-tooltip-element tr:nth-child(9) td:first-child { color: #ffc300 }\n#vg-tooltip-element tr:nth-child(10) td:first-child { color: #5e60ce }\n",
       "spec": {
        "$schema": "https://vega.github.io/schema/vega-lite/v4.17.0.json",
        "config": {
         "view": {
          "continuousHeight": 300,
          "continuousWidth": 400
         }
        },
        "data": {
         "name": "data-ff8dc3453b9a461539ebeb6292534115"
        },
        "datasets": {
         "data-ff8dc3453b9a461539ebeb6292534115": [
          {
           "timestamp": "2021-08-08T00:00:00",
           "value": 0.5001922095125376,
           "variable": "debt_credit_ratio"
          },
          {
           "timestamp": "2021-08-08T00:00:00",
           "value": 0,
           "variable": "fertilized_beans_cumulative"
          },
          {
           "timestamp": "2021-08-08T00:00:00",
           "value": 0.1558248410215308,
           "variable": "fertilizer_adjusted_pod_rate"
          },
          {
           "timestamp": "2021-08-08T00:00:00",
           "value": 15526.430505,
           "variable": "pods_harvestable_cumulative"
          },
          {
           "timestamp": "2021-08-08T00:00:00",
           "value": 18366.370137,
           "variable": "pods_issued_cumulative"
          },
          {
           "timestamp": "2021-08-08T00:00:00",
           "value": 21192.194431,
           "variable": "silo_emissions_cumulative"
          },
          {
           "timestamp": "2021-08-08T00:00:00",
           "value": 36718.624936,
           "variable": "total_credit"
          },
          {
           "timestamp": "2021-08-08T00:00:00",
           "value": 18366.370137,
           "variable": "total_debt"
          },
          {
           "timestamp": "2021-08-08T00:00:00",
           "value": 0,
           "variable": "unfertilized_beans_cumulative"
          },
          {
           "timestamp": "2021-08-15T00:00:00",
           "value": 0.2480300659922737,
           "variable": "debt_credit_ratio"
          },
          {
           "timestamp": "2021-08-15T00:00:00",
           "value": 0,
           "variable": "fertilized_beans_cumulative"
          },
          {
           "timestamp": "2021-08-15T00:00:00",
           "value": 0.11582252051395572,
           "variable": "fertilizer_adjusted_pod_rate"
          },
          {
           "timestamp": "2021-08-15T00:00:00",
           "value": 41481.027557,
           "variable": "pods_harvestable_cumulative"
          },
          {
           "timestamp": "2021-08-15T00:00:00",
           "value": 74731.990746,
           "variable": "pods_issued_cumulative"
          },
          {
           "timestamp": "2021-08-15T00:00:00",
           "value": 259821.11679000006,
           "variable": "silo_emissions_cumulative"
          },
          {
           "timestamp": "2021-08-15T00:00:00",
           "value": 301302.14434700005,
           "variable": "total_credit"
          },
          {
           "timestamp": "2021-08-15T00:00:00",
           "value": 74731.990746,
           "variable": "total_debt"
          },
          {
           "timestamp": "2021-08-15T00:00:00",
           "value": 0,
           "variable": "unfertilized_beans_cumulative"
          },
          {
           "timestamp": "2021-08-22T00:00:00",
           "value": 0.4591841489752265,
           "variable": "debt_credit_ratio"
          },
          {
           "timestamp": "2021-08-22T00:00:00",
           "value": 0,
           "variable": "fertilized_beans_cumulative"
          },
          {
           "timestamp": "2021-08-22T00:00:00",
           "value": 0.3637420551559228,
           "variable": "fertilizer_adjusted_pod_rate"
          },
          {
           "timestamp": "2021-08-22T00:00:00",
           "value": 314760.900618,
           "variable": "pods_harvestable_cumulative"
          },
          {
           "timestamp": "2021-08-22T00:00:00",
           "value": 391889.619058,
           "variable": "pods_issued_cumulative"
          },
          {
           "timestamp": "2021-08-22T00:00:00",
           "value": 538686.7193240004,
           "variable": "silo_emissions_cumulative"
          },
          {
           "timestamp": "2021-08-22T00:00:00",
           "value": 853447.6199420004,
           "variable": "total_credit"
          },
          {
           "timestamp": "2021-08-22T00:00:00",
           "value": 391889.619058,
           "variable": "total_debt"
          },
          {
           "timestamp": "2021-08-22T00:00:00",
           "value": 0,
           "variable": "unfertilized_beans_cumulative"
          },
          {
           "timestamp": "2021-08-29T00:00:00",
           "value": 0.4405941358887002,
           "variable": "debt_credit_ratio"
          },
          {
           "timestamp": "2021-08-29T00:00:00",
           "value": 0,
           "variable": "fertilized_beans_cumulative"
          },
          {
           "timestamp": "2021-08-29T00:00:00",
           "value": 0.40691136152643026,
           "variable": "fertilizer_adjusted_pod_rate"
          },
          {
           "timestamp": "2021-08-29T00:00:00",
           "value": 593623.8536800001,
           "variable": "pods_harvestable_cumulative"
          },
          {
           "timestamp": "2021-08-29T00:00:00",
           "value": 636728.402302,
           "variable": "pods_issued_cumulative"
          },
          {
           "timestamp": "2021-08-29T00:00:00",
           "value": 851534.7411290009,
           "variable": "silo_emissions_cumulative"
          },
          {
           "timestamp": "2021-08-29T00:00:00",
           "value": 1445158.5948090008,
           "variable": "total_credit"
          },
          {
           "timestamp": "2021-08-29T00:00:00",
           "value": 636728.402302,
           "variable": "total_debt"
          },
          {
           "timestamp": "2021-08-29T00:00:00",
           "value": 0,
           "variable": "unfertilized_beans_cumulative"
          },
          {
           "timestamp": "2021-09-05T00:00:00",
           "value": 0.4277894563693607,
           "variable": "debt_credit_ratio"
          },
          {
           "timestamp": "2021-09-05T00:00:00",
           "value": 0,
           "variable": "fertilized_beans_cumulative"
          },
          {
           "timestamp": "2021-09-05T00:00:00",
           "value": 0.4222684219359376,
           "variable": "fertilizer_adjusted_pod_rate"
          },
          {
           "timestamp": "2021-09-05T00:00:00",
           "value": 703473.4367999999,
           "variable": "pods_harvestable_cumulative"
          },
          {
           "timestamp": "2021-09-05T00:00:00",
           "value": 806030.167552,
           "variable": "pods_issued_cumulative"
          },
          {
           "timestamp": "2021-09-05T00:00:00",
           "value": 1180701.489793001,
           "variable": "silo_emissions_cumulative"
          },
          {
           "timestamp": "2021-09-05T00:00:00",
           "value": 1884174.926593001,
           "variable": "total_credit"
          },
          {
           "timestamp": "2021-09-05T00:00:00",
           "value": 806030.167552,
           "variable": "total_debt"
          },
          {
           "timestamp": "2021-09-05T00:00:00",
           "value": 0,
           "variable": "unfertilized_beans_cumulative"
          },
          {
           "timestamp": "2021-09-12T00:00:00",
           "value": 0.428338461713475,
           "variable": "debt_credit_ratio"
          },
          {
           "timestamp": "2021-09-12T00:00:00",
           "value": 0,
           "variable": "fertilized_beans_cumulative"
          },
          {
           "timestamp": "2021-09-12T00:00:00",
           "value": 0.4377464175080218,
           "variable": "fertilizer_adjusted_pod_rate"
          },
          {
           "timestamp": "2021-09-12T00:00:00",
           "value": 937356.244186,
           "variable": "pods_harvestable_cumulative"
          },
          {
           "timestamp": "2021-09-12T00:00:00",
           "value": 1034801.337065,
           "variable": "pods_issued_cumulative"
          },
          {
           "timestamp": "2021-09-12T00:00:00",
           "value": 1478493.4390890016,
           "variable": "silo_emissions_cumulative"
          },
          {
           "timestamp": "2021-09-12T00:00:00",
           "value": 2415849.6832750016,
           "variable": "total_credit"
          },
          {
           "timestamp": "2021-09-12T00:00:00",
           "value": 1034801.337065,
           "variable": "total_debt"
          },
          {
           "timestamp": "2021-09-12T00:00:00",
           "value": 0,
           "variable": "unfertilized_beans_cumulative"
          },
          {
           "timestamp": "2021-09-19T00:00:00",
           "value": 0.0758287319724448,
           "variable": "debt_credit_ratio"
          },
          {
           "timestamp": "2021-09-19T00:00:00",
           "value": 0,
           "variable": "fertilized_beans_cumulative"
          },
          {
           "timestamp": "2021-09-19T00:00:00",
           "value": 0.06704824432954058,
           "variable": "fertilizer_adjusted_pod_rate"
          },
          {
           "timestamp": "2021-09-19T00:00:00",
           "value": 1561259.973246,
           "variable": "pods_harvestable_cumulative"
          },
          {
           "timestamp": "2021-09-19T00:00:00",
           "value": 1619976.719346,
           "variable": "pods_issued_cumulative"
          },
          {
           "timestamp": "2021-09-19T00:00:00",
           "value": 19802366.67865,
           "variable": "silo_emissions_cumulative"
          },
          {
           "timestamp": "2021-09-19T00:00:00",
           "value": 21363626.651896,
           "variable": "total_credit"
          },
          {
           "timestamp": "2021-09-19T00:00:00",
           "value": 1619976.719346,
           "variable": "total_debt"
          },
          {
           "timestamp": "2021-09-19T00:00:00",
           "value": 0,
           "variable": "unfertilized_beans_cumulative"
          },
          {
           "timestamp": "2021-09-26T00:00:00",
           "value": 0.31901195640279556,
           "variable": "debt_credit_ratio"
          },
          {
           "timestamp": "2021-09-26T00:00:00",
           "value": 0,
           "variable": "fertilized_beans_cumulative"
          },
          {
           "timestamp": "2021-09-26T00:00:00",
           "value": 0.3159637198107599,
           "variable": "fertilizer_adjusted_pod_rate"
          },
          {
           "timestamp": "2021-09-26T00:00:00",
           "value": 1761835.6500940002,
           "variable": "pods_harvestable_cumulative"
          },
          {
           "timestamp": "2021-09-26T00:00:00",
           "value": 7089435.053965,
           "variable": "pods_issued_cumulative"
          },
          {
           "timestamp": "2021-09-26T00:00:00",
           "value": 20461265.746813,
           "variable": "silo_emissions_cumulative"
          },
          {
           "timestamp": "2021-09-26T00:00:00",
           "value": 22223101.396906998,
           "variable": "total_credit"
          },
          {
           "timestamp": "2021-09-26T00:00:00",
           "value": 7089435.053965,
           "variable": "total_debt"
          },
          {
           "timestamp": "2021-09-26T00:00:00",
           "value": 0,
           "variable": "unfertilized_beans_cumulative"
          },
          {
           "timestamp": "2021-10-03T00:00:00",
           "value": 0.7238666470109598,
           "variable": "debt_credit_ratio"
          },
          {
           "timestamp": "2021-10-03T00:00:00",
           "value": 0,
           "variable": "fertilized_beans_cumulative"
          },
          {
           "timestamp": "2021-10-03T00:00:00",
           "value": 0.7687673939219095,
           "variable": "fertilizer_adjusted_pod_rate"
          },
          {
           "timestamp": "2021-10-03T00:00:00",
           "value": 1913589.129855,
           "variable": "pods_harvestable_cumulative"
          },
          {
           "timestamp": "2021-10-03T00:00:00",
           "value": 16333394.290166,
           "variable": "pods_issued_cumulative"
          },
          {
           "timestamp": "2021-10-03T00:00:00",
           "value": 20650503.797496993,
           "variable": "silo_emissions_cumulative"
          },
          {
           "timestamp": "2021-10-03T00:00:00",
           "value": 22564092.927351993,
           "variable": "total_credit"
          },
          {
           "timestamp": "2021-10-03T00:00:00",
           "value": 16333394.290166,
           "variable": "total_debt"
          },
          {
           "timestamp": "2021-10-03T00:00:00",
           "value": 0,
           "variable": "unfertilized_beans_cumulative"
          },
          {
           "timestamp": "2021-10-10T00:00:00",
           "value": 0.9786616085116328,
           "variable": "debt_credit_ratio"
          },
          {
           "timestamp": "2021-10-10T00:00:00",
           "value": 0,
           "variable": "fertilized_beans_cumulative"
          },
          {
           "timestamp": "2021-10-10T00:00:00",
           "value": 1.0674978074645554,
           "variable": "fertilizer_adjusted_pod_rate"
          },
          {
           "timestamp": "2021-10-10T00:00:00",
           "value": 1941545.45236,
           "variable": "pods_harvestable_cumulative"
          },
          {
           "timestamp": "2021-10-10T00:00:00",
           "value": 22165826.318339,
           "variable": "pods_issued_cumulative"
          },
          {
           "timestamp": "2021-10-10T00:00:00",
           "value": 20707576.701362994,
           "variable": "silo_emissions_cumulative"
          },
          {
           "timestamp": "2021-10-10T00:00:00",
           "value": 22649122.153722994,
           "variable": "total_credit"
          },
          {
           "timestamp": "2021-10-10T00:00:00",
           "value": 22165826.318339,
           "variable": "total_debt"
          },
          {
           "timestamp": "2021-10-10T00:00:00",
           "value": 0,
           "variable": "unfertilized_beans_cumulative"
          },
          {
           "timestamp": "2021-10-17T00:00:00",
           "value": 1.2404945783153465,
           "variable": "debt_credit_ratio"
          },
          {
           "timestamp": "2021-10-17T00:00:00",
           "value": 0,
           "variable": "fertilized_beans_cumulative"
          },
          {
           "timestamp": "2021-10-17T00:00:00",
           "value": 1.369293271868217,
           "variable": "fertilizer_adjusted_pod_rate"
          },
          {
           "timestamp": "2021-10-17T00:00:00",
           "value": 2039679.9738570002,
           "variable": "pods_harvestable_cumulative"
          },
          {
           "timestamp": "2021-10-17T00:00:00",
           "value": 28310592.463983,
           "variable": "pods_issued_cumulative"
          },
          {
           "timestamp": "2021-10-17T00:00:00",
           "value": 20782340.33874299,
           "variable": "silo_emissions_cumulative"
          },
          {
           "timestamp": "2021-10-17T00:00:00",
           "value": 22822020.31259999,
           "variable": "total_credit"
          },
          {
           "timestamp": "2021-10-17T00:00:00",
           "value": 28310592.463983,
           "variable": "total_debt"
          },
          {
           "timestamp": "2021-10-17T00:00:00",
           "value": 0,
           "variable": "unfertilized_beans_cumulative"
          },
          {
           "timestamp": "2021-10-24T00:00:00",
           "value": 1.5293225886698936,
           "variable": "debt_credit_ratio"
          },
          {
           "timestamp": "2021-10-24T00:00:00",
           "value": 0,
           "variable": "fertilized_beans_cumulative"
          },
          {
           "timestamp": "2021-10-24T00:00:00",
           "value": 1.6878421366336733,
           "variable": "fertilizer_adjusted_pod_rate"
          },
          {
           "timestamp": "2021-10-24T00:00:00",
           "value": 2317323.1221580002,
           "variable": "pods_harvestable_cumulative"
          },
          {
           "timestamp": "2021-10-24T00:00:00",
           "value": 36380237.801568,
           "variable": "pods_issued_cumulative"
          },
          {
           "timestamp": "2021-10-24T00:00:00",
           "value": 21471142.48417898,
           "variable": "silo_emissions_cumulative"
          },
          {
           "timestamp": "2021-10-24T00:00:00",
           "value": 23788465.60633698,
           "variable": "total_credit"
          },
          {
           "timestamp": "2021-10-24T00:00:00",
           "value": 36380237.801568,
           "variable": "total_debt"
          },
          {
           "timestamp": "2021-10-24T00:00:00",
           "value": 0,
           "variable": "unfertilized_beans_cumulative"
          },
          {
           "timestamp": "2021-10-31T00:00:00",
           "value": 1.7930794318746257,
           "variable": "debt_credit_ratio"
          },
          {
           "timestamp": "2021-10-31T00:00:00",
           "value": 0,
           "variable": "fertilized_beans_cumulative"
          },
          {
           "timestamp": "2021-10-31T00:00:00",
           "value": 1.961688020360639,
           "variable": "fertilizer_adjusted_pod_rate"
          },
          {
           "timestamp": "2021-10-31T00:00:00",
           "value": 2421013.306022,
           "variable": "pods_harvestable_cumulative"
          },
          {
           "timestamp": "2021-10-31T00:00:00",
           "value": 43933137.448879,
           "variable": "pods_issued_cumulative"
          },
          {
           "timestamp": "2021-10-31T00:00:00",
           "value": 22080487.669284966,
           "variable": "silo_emissions_cumulative"
          },
          {
           "timestamp": "2021-10-31T00:00:00",
           "value": 24501500.975306965,
           "variable": "total_credit"
          },
          {
           "timestamp": "2021-10-31T00:00:00",
           "value": 43933137.448879,
           "variable": "total_debt"
          },
          {
           "timestamp": "2021-10-31T00:00:00",
           "value": 0,
           "variable": "unfertilized_beans_cumulative"
          },
          {
           "timestamp": "2021-11-07T00:00:00",
           "value": 1.9739719217098288,
           "variable": "debt_credit_ratio"
          },
          {
           "timestamp": "2021-11-07T00:00:00",
           "value": 0,
           "variable": "fertilized_beans_cumulative"
          },
          {
           "timestamp": "2021-11-07T00:00:00",
           "value": 2.116405955846708,
           "variable": "fertilizer_adjusted_pod_rate"
          },
          {
           "timestamp": "2021-11-07T00:00:00",
           "value": 2444287.8341220003,
           "variable": "pods_harvestable_cumulative"
          },
          {
           "timestamp": "2021-11-07T00:00:00",
           "value": 49753964.513145,
           "variable": "pods_issued_cumulative"
          },
          {
           "timestamp": "2021-11-07T00:00:00",
           "value": 22760713.293780956,
           "variable": "silo_emissions_cumulative"
          },
          {
           "timestamp": "2021-11-07T00:00:00",
           "value": 25205001.127902955,
           "variable": "total_credit"
          },
          {
           "timestamp": "2021-11-07T00:00:00",
           "value": 49753964.513145,
           "variable": "total_debt"
          },
          {
           "timestamp": "2021-11-07T00:00:00",
           "value": 0,
           "variable": "unfertilized_beans_cumulative"
          },
          {
           "timestamp": "2021-11-14T00:00:00",
           "value": 3.0319243729990566,
           "variable": "debt_credit_ratio"
          },
          {
           "timestamp": "2021-11-14T00:00:00",
           "value": 0,
           "variable": "fertilized_beans_cumulative"
          },
          {
           "timestamp": "2021-11-14T00:00:00",
           "value": 3.528388031626333,
           "variable": "fertilizer_adjusted_pod_rate"
          },
          {
           "timestamp": "2021-11-14T00:00:00",
           "value": 3640517.2142270003,
           "variable": "pods_harvestable_cumulative"
          },
          {
           "timestamp": "2021-11-14T00:00:00",
           "value": 81428887.071705,
           "variable": "pods_issued_cumulative"
          },
          {
           "timestamp": "2021-11-14T00:00:00",
           "value": 23216645.779966965,
           "variable": "silo_emissions_cumulative"
          },
          {
           "timestamp": "2021-11-14T00:00:00",
           "value": 26857162.994193964,
           "variable": "total_credit"
          },
          {
           "timestamp": "2021-11-14T00:00:00",
           "value": 81428887.071705,
           "variable": "total_debt"
          },
          {
           "timestamp": "2021-11-14T00:00:00",
           "value": 0,
           "variable": "unfertilized_beans_cumulative"
          },
          {
           "timestamp": "2021-11-21T00:00:00",
           "value": 4.457458521531701,
           "variable": "debt_credit_ratio"
          },
          {
           "timestamp": "2021-11-21T00:00:00",
           "value": 0,
           "variable": "fertilized_beans_cumulative"
          },
          {
           "timestamp": "2021-11-21T00:00:00",
           "value": 5.673189196321938,
           "variable": "fertilizer_adjusted_pod_rate"
          },
          {
           "timestamp": "2021-11-21T00:00:00",
           "value": 6137556.4312390005,
           "variable": "pods_harvestable_cumulative"
          },
          {
           "timestamp": "2021-11-21T00:00:00",
           "value": 139673550.702857,
           "variable": "pods_issued_cumulative"
          },
          {
           "timestamp": "2021-11-21T00:00:00",
           "value": 25197238.952310957,
           "variable": "silo_emissions_cumulative"
          },
          {
           "timestamp": "2021-11-21T00:00:00",
           "value": 31334795.38354996,
           "variable": "total_credit"
          },
          {
           "timestamp": "2021-11-21T00:00:00",
           "value": 139673550.702857,
           "variable": "total_debt"
          },
          {
           "timestamp": "2021-11-21T00:00:00",
           "value": 0,
           "variable": "unfertilized_beans_cumulative"
          },
          {
           "timestamp": "2021-11-28T00:00:00",
           "value": 5.292048894723415,
           "variable": "debt_credit_ratio"
          },
          {
           "timestamp": "2021-11-28T00:00:00",
           "value": 0,
           "variable": "fertilized_beans_cumulative"
          },
          {
           "timestamp": "2021-11-28T00:00:00",
           "value": 6.929304122393534,
           "variable": "fertilizer_adjusted_pod_rate"
          },
          {
           "timestamp": "2021-11-28T00:00:00",
           "value": 14751092.230032,
           "variable": "pods_harvestable_cumulative"
          },
          {
           "timestamp": "2021-11-28T00:00:00",
           "value": 258433577.398921,
           "variable": "pods_issued_cumulative"
          },
          {
           "timestamp": "2021-11-28T00:00:00",
           "value": 34083221.76442097,
           "variable": "silo_emissions_cumulative"
          },
          {
           "timestamp": "2021-11-28T00:00:00",
           "value": 48834313.99445297,
           "variable": "total_credit"
          },
          {
           "timestamp": "2021-11-28T00:00:00",
           "value": 258433577.398921,
           "variable": "total_debt"
          },
          {
           "timestamp": "2021-11-28T00:00:00",
           "value": 0,
           "variable": "unfertilized_beans_cumulative"
          },
          {
           "timestamp": "2021-12-05T00:00:00",
           "value": 6.063220314344748,
           "variable": "debt_credit_ratio"
          },
          {
           "timestamp": "2021-12-05T00:00:00",
           "value": 0,
           "variable": "fertilized_beans_cumulative"
          },
          {
           "timestamp": "2021-12-05T00:00:00",
           "value": 8.280728784226902,
           "variable": "fertilizer_adjusted_pod_rate"
          },
          {
           "timestamp": "2021-12-05T00:00:00",
           "value": 21873565.155148003,
           "variable": "pods_harvestable_cumulative"
          },
          {
           "timestamp": "2021-12-05T00:00:00",
           "value": 381131949.645927,
           "variable": "pods_issued_cumulative"
          },
          {
           "timestamp": "2021-12-05T00:00:00",
           "value": 40986091.90600497,
           "variable": "silo_emissions_cumulative"
          },
          {
           "timestamp": "2021-12-05T00:00:00",
           "value": 62859657.06115298,
           "variable": "total_credit"
          },
          {
           "timestamp": "2021-12-05T00:00:00",
           "value": 381131949.645927,
           "variable": "total_debt"
          },
          {
           "timestamp": "2021-12-05T00:00:00",
           "value": 0,
           "variable": "unfertilized_beans_cumulative"
          },
          {
           "timestamp": "2021-12-12T00:00:00",
           "value": 6.371497694838922,
           "variable": "debt_credit_ratio"
          },
          {
           "timestamp": "2021-12-12T00:00:00",
           "value": 0,
           "variable": "fertilized_beans_cumulative"
          },
          {
           "timestamp": "2021-12-12T00:00:00",
           "value": 8.848190111508554,
           "variable": "fertilizer_adjusted_pod_rate"
          },
          {
           "timestamp": "2021-12-12T00:00:00",
           "value": 21892511.636818003,
           "variable": "pods_harvestable_cumulative"
          },
          {
           "timestamp": "2021-12-12T00:00:00",
           "value": 400630877.527787,
           "variable": "pods_issued_cumulative"
          },
          {
           "timestamp": "2021-12-12T00:00:00",
           "value": 40986091.90600497,
           "variable": "silo_emissions_cumulative"
          },
          {
           "timestamp": "2021-12-12T00:00:00",
           "value": 62878603.54282297,
           "variable": "total_credit"
          },
          {
           "timestamp": "2021-12-12T00:00:00",
           "value": 400630877.527787,
           "variable": "total_debt"
          },
          {
           "timestamp": "2021-12-12T00:00:00",
           "value": 0,
           "variable": "unfertilized_beans_cumulative"
          },
          {
           "timestamp": "2021-12-19T00:00:00",
           "value": 6.587616421341135,
           "variable": "debt_credit_ratio"
          },
          {
           "timestamp": "2021-12-19T00:00:00",
           "value": 0,
           "variable": "fertilized_beans_cumulative"
          },
          {
           "timestamp": "2021-12-19T00:00:00",
           "value": 9.24712395385105,
           "variable": "fertilizer_adjusted_pod_rate"
          },
          {
           "timestamp": "2021-12-19T00:00:00",
           "value": 21948355.959442,
           "variable": "pods_harvestable_cumulative"
          },
          {
           "timestamp": "2021-12-19T00:00:00",
           "value": 414599405.7706,
           "variable": "pods_issued_cumulative"
          },
          {
           "timestamp": "2021-12-19T00:00:00",
           "value": 40987822.96370697,
           "variable": "silo_emissions_cumulative"
          },
          {
           "timestamp": "2021-12-19T00:00:00",
           "value": 62936178.923148975,
           "variable": "total_credit"
          },
          {
           "timestamp": "2021-12-19T00:00:00",
           "value": 414599405.7706,
           "variable": "total_debt"
          },
          {
           "timestamp": "2021-12-19T00:00:00",
           "value": 0,
           "variable": "unfertilized_beans_cumulative"
          },
          {
           "timestamp": "2021-12-26T00:00:00",
           "value": 7.420442144059901,
           "variable": "debt_credit_ratio"
          },
          {
           "timestamp": "2021-12-26T00:00:00",
           "value": 0,
           "variable": "fertilized_beans_cumulative"
          },
          {
           "timestamp": "2021-12-26T00:00:00",
           "value": 10.804561340367068,
           "variable": "fertilizer_adjusted_pod_rate"
          },
          {
           "timestamp": "2021-12-26T00:00:00",
           "value": 22116843.160187,
           "variable": "pods_harvestable_cumulative"
          },
          {
           "timestamp": "2021-12-26T00:00:00",
           "value": 469264476.039815,
           "variable": "pods_issued_cumulative"
          },
          {
           "timestamp": "2021-12-26T00:00:00",
           "value": 41122579.36067497,
           "variable": "silo_emissions_cumulative"
          },
          {
           "timestamp": "2021-12-26T00:00:00",
           "value": 63239422.52086197,
           "variable": "total_credit"
          },
          {
           "timestamp": "2021-12-26T00:00:00",
           "value": 469264476.039815,
           "variable": "total_debt"
          },
          {
           "timestamp": "2021-12-26T00:00:00",
           "value": 0,
           "variable": "unfertilized_beans_cumulative"
          },
          {
           "timestamp": "2022-01-02T00:00:00",
           "value": 8.661417874854415,
           "variable": "debt_credit_ratio"
          },
          {
           "timestamp": "2022-01-02T00:00:00",
           "value": 0,
           "variable": "fertilized_beans_cumulative"
          },
          {
           "timestamp": "2022-01-02T00:00:00",
           "value": 13.281221321701869,
           "variable": "fertilizer_adjusted_pod_rate"
          },
          {
           "timestamp": "2022-01-02T00:00:00",
           "value": 22144785.577367,
           "variable": "pods_harvestable_cumulative"
          },
          {
           "timestamp": "2022-01-02T00:00:00",
           "value": 548233773.854003,
           "variable": "pods_issued_cumulative"
          },
          {
           "timestamp": "2022-01-02T00:00:00",
           "value": 41151291.55171597,
           "variable": "silo_emissions_cumulative"
          },
          {
           "timestamp": "2022-01-02T00:00:00",
           "value": 63296077.12908297,
           "variable": "total_credit"
          },
          {
           "timestamp": "2022-01-02T00:00:00",
           "value": 548233773.854003,
           "variable": "total_debt"
          },
          {
           "timestamp": "2022-01-02T00:00:00",
           "value": 0,
           "variable": "unfertilized_beans_cumulative"
          },
          {
           "timestamp": "2022-01-09T00:00:00",
           "value": 9.382429805152821,
           "variable": "debt_credit_ratio"
          },
          {
           "timestamp": "2022-01-09T00:00:00",
           "value": 0,
           "variable": "fertilized_beans_cumulative"
          },
          {
           "timestamp": "2022-01-09T00:00:00",
           "value": 14.123191031983074,
           "variable": "fertilizer_adjusted_pod_rate"
          },
          {
           "timestamp": "2022-01-09T00:00:00",
           "value": 22218321.865599,
           "variable": "pods_harvestable_cumulative"
          },
          {
           "timestamp": "2022-01-09T00:00:00",
           "value": 594560949.667628,
           "variable": "pods_issued_cumulative"
          },
          {
           "timestamp": "2022-01-09T00:00:00",
           "value": 41151291.55171597,
           "variable": "silo_emissions_cumulative"
          },
          {
           "timestamp": "2022-01-09T00:00:00",
           "value": 63369613.41731497,
           "variable": "total_credit"
          },
          {
           "timestamp": "2022-01-09T00:00:00",
           "value": 594560949.667628,
           "variable": "total_debt"
          },
          {
           "timestamp": "2022-01-09T00:00:00",
           "value": 0,
           "variable": "unfertilized_beans_cumulative"
          },
          {
           "timestamp": "2022-01-16T00:00:00",
           "value": 9.658504282329064,
           "variable": "debt_credit_ratio"
          },
          {
           "timestamp": "2022-01-16T00:00:00",
           "value": 0,
           "variable": "fertilized_beans_cumulative"
          },
          {
           "timestamp": "2022-01-16T00:00:00",
           "value": 14.697592829280177,
           "variable": "fertilizer_adjusted_pod_rate"
          },
          {
           "timestamp": "2022-01-16T00:00:00",
           "value": 22312825.965598,
           "variable": "pods_harvestable_cumulative"
          },
          {
           "timestamp": "2022-01-16T00:00:00",
           "value": 612968450.815212,
           "variable": "pods_issued_cumulative"
          },
          {
           "timestamp": "2022-01-16T00:00:00",
           "value": 41151291.55171597,
           "variable": "silo_emissions_cumulative"
          },
          {
           "timestamp": "2022-01-16T00:00:00",
           "value": 63464117.51731397,
           "variable": "total_credit"
          },
          {
           "timestamp": "2022-01-16T00:00:00",
           "value": 612968450.815212,
           "variable": "total_debt"
          },
          {
           "timestamp": "2022-01-16T00:00:00",
           "value": 0,
           "variable": "unfertilized_beans_cumulative"
          },
          {
           "timestamp": "2022-01-23T00:00:00",
           "value": 9.815821231128254,
           "variable": "debt_credit_ratio"
          },
          {
           "timestamp": "2022-01-23T00:00:00",
           "value": 0,
           "variable": "fertilized_beans_cumulative"
          },
          {
           "timestamp": "2022-01-23T00:00:00",
           "value": 15.003489207741506,
           "variable": "fertilizer_adjusted_pod_rate"
          },
          {
           "timestamp": "2022-01-23T00:00:00",
           "value": 22312825.965598,
           "variable": "pods_harvestable_cumulative"
          },
          {
           "timestamp": "2022-01-23T00:00:00",
           "value": 622952432.141269,
           "variable": "pods_issued_cumulative"
          },
          {
           "timestamp": "2022-01-23T00:00:00",
           "value": 41151291.55171597,
           "variable": "silo_emissions_cumulative"
          },
          {
           "timestamp": "2022-01-23T00:00:00",
           "value": 63464117.51731397,
           "variable": "total_credit"
          },
          {
           "timestamp": "2022-01-23T00:00:00",
           "value": 622952432.141269,
           "variable": "total_debt"
          },
          {
           "timestamp": "2022-01-23T00:00:00",
           "value": 0,
           "variable": "unfertilized_beans_cumulative"
          },
          {
           "timestamp": "2022-01-30T00:00:00",
           "value": 10.013435309138092,
           "variable": "debt_credit_ratio"
          },
          {
           "timestamp": "2022-01-30T00:00:00",
           "value": 0,
           "variable": "fertilized_beans_cumulative"
          },
          {
           "timestamp": "2022-01-30T00:00:00",
           "value": 15.387337171148959,
           "variable": "fertilizer_adjusted_pod_rate"
          },
          {
           "timestamp": "2022-01-30T00:00:00",
           "value": 22312825.965598,
           "variable": "pods_harvestable_cumulative"
          },
          {
           "timestamp": "2022-01-30T00:00:00",
           "value": 635516475.006264,
           "variable": "pods_issued_cumulative"
          },
          {
           "timestamp": "2022-01-30T00:00:00",
           "value": 41153552.49358097,
           "variable": "silo_emissions_cumulative"
          },
          {
           "timestamp": "2022-01-30T00:00:00",
           "value": 63466378.45917897,
           "variable": "total_credit"
          },
          {
           "timestamp": "2022-01-30T00:00:00",
           "value": 635516475.006264,
           "variable": "total_debt"
          },
          {
           "timestamp": "2022-01-30T00:00:00",
           "value": 0,
           "variable": "unfertilized_beans_cumulative"
          },
          {
           "timestamp": "2022-02-06T00:00:00",
           "value": 10.104343439410828,
           "variable": "debt_credit_ratio"
          },
          {
           "timestamp": "2022-02-06T00:00:00",
           "value": 0,
           "variable": "fertilized_beans_cumulative"
          },
          {
           "timestamp": "2022-02-06T00:00:00",
           "value": 15.40554141817419,
           "variable": "fertilizer_adjusted_pod_rate"
          },
          {
           "timestamp": "2022-02-06T00:00:00",
           "value": 22339987.993866,
           "variable": "pods_harvestable_cumulative"
          },
          {
           "timestamp": "2022-02-06T00:00:00",
           "value": 643054965.637173,
           "variable": "pods_issued_cumulative"
          },
          {
           "timestamp": "2022-02-06T00:00:00",
           "value": 41301451.89712298,
           "variable": "silo_emissions_cumulative"
          },
          {
           "timestamp": "2022-02-06T00:00:00",
           "value": 63641439.890988976,
           "variable": "total_credit"
          },
          {
           "timestamp": "2022-02-06T00:00:00",
           "value": 643054965.637173,
           "variable": "total_debt"
          },
          {
           "timestamp": "2022-02-06T00:00:00",
           "value": 0,
           "variable": "unfertilized_beans_cumulative"
          },
          {
           "timestamp": "2022-02-13T00:00:00",
           "value": 10.108120260269777,
           "variable": "debt_credit_ratio"
          },
          {
           "timestamp": "2022-02-13T00:00:00",
           "value": 0,
           "variable": "fertilized_beans_cumulative"
          },
          {
           "timestamp": "2022-02-13T00:00:00",
           "value": 15.368124197796112,
           "variable": "fertilizer_adjusted_pod_rate"
          },
          {
           "timestamp": "2022-02-13T00:00:00",
           "value": 22549317.614652,
           "variable": "pods_harvestable_cumulative"
          },
          {
           "timestamp": "2022-02-13T00:00:00",
           "value": 647775542.417444,
           "variable": "pods_issued_cumulative"
          },
          {
           "timestamp": "2022-02-13T00:00:00",
           "value": 41535351.51651596,
           "variable": "silo_emissions_cumulative"
          },
          {
           "timestamp": "2022-02-13T00:00:00",
           "value": 64084669.13116796,
           "variable": "total_credit"
          },
          {
           "timestamp": "2022-02-13T00:00:00",
           "value": 647775542.417444,
           "variable": "total_debt"
          },
          {
           "timestamp": "2022-02-13T00:00:00",
           "value": 0,
           "variable": "unfertilized_beans_cumulative"
          },
          {
           "timestamp": "2022-02-20T00:00:00",
           "value": 10.25424627901757,
           "variable": "debt_credit_ratio"
          },
          {
           "timestamp": "2022-02-20T00:00:00",
           "value": 0,
           "variable": "fertilized_beans_cumulative"
          },
          {
           "timestamp": "2022-02-20T00:00:00",
           "value": 15.661340938826324,
           "variable": "fertilizer_adjusted_pod_rate"
          },
          {
           "timestamp": "2022-02-20T00:00:00",
           "value": 22834519.350377,
           "variable": "pods_harvestable_cumulative"
          },
          {
           "timestamp": "2022-02-20T00:00:00",
           "value": 661537927.84579,
           "variable": "pods_issued_cumulative"
          },
          {
           "timestamp": "2022-02-20T00:00:00",
           "value": 41679040.18831296,
           "variable": "silo_emissions_cumulative"
          },
          {
           "timestamp": "2022-02-20T00:00:00",
           "value": 64513559.53868996,
           "variable": "total_credit"
          },
          {
           "timestamp": "2022-02-20T00:00:00",
           "value": 661537927.84579,
           "variable": "total_debt"
          },
          {
           "timestamp": "2022-02-20T00:00:00",
           "value": 0,
           "variable": "unfertilized_beans_cumulative"
          },
          {
           "timestamp": "2022-02-27T00:00:00",
           "value": 10.270314818878955,
           "variable": "debt_credit_ratio"
          },
          {
           "timestamp": "2022-02-27T00:00:00",
           "value": 0,
           "variable": "fertilized_beans_cumulative"
          },
          {
           "timestamp": "2022-02-27T00:00:00",
           "value": 15.65439014716296,
           "variable": "fertilizer_adjusted_pod_rate"
          },
          {
           "timestamp": "2022-02-27T00:00:00",
           "value": 22834519.350377,
           "variable": "pods_harvestable_cumulative"
          },
          {
           "timestamp": "2022-02-27T00:00:00",
           "value": 663281001.462482,
           "variable": "pods_issued_cumulative"
          },
          {
           "timestamp": "2022-02-27T00:00:00",
           "value": 41747824.34207095,
           "variable": "silo_emissions_cumulative"
          },
          {
           "timestamp": "2022-02-27T00:00:00",
           "value": 64582343.69244795,
           "variable": "total_credit"
          },
          {
           "timestamp": "2022-02-27T00:00:00",
           "value": 663281001.462482,
           "variable": "total_debt"
          },
          {
           "timestamp": "2022-02-27T00:00:00",
           "value": 0,
           "variable": "unfertilized_beans_cumulative"
          },
          {
           "timestamp": "2022-03-06T00:00:00",
           "value": 10.58344967528541,
           "variable": "debt_credit_ratio"
          },
          {
           "timestamp": "2022-03-06T00:00:00",
           "value": 0,
           "variable": "fertilized_beans_cumulative"
          },
          {
           "timestamp": "2022-03-06T00:00:00",
           "value": 16.24799725374966,
           "variable": "fertilizer_adjusted_pod_rate"
          },
          {
           "timestamp": "2022-03-06T00:00:00",
           "value": 22990480.974133,
           "variable": "pods_harvestable_cumulative"
          },
          {
           "timestamp": "2022-03-06T00:00:00",
           "value": 685983331.448107,
           "variable": "pods_issued_cumulative"
          },
          {
           "timestamp": "2022-03-06T00:00:00",
           "value": 41826129.15725195,
           "variable": "silo_emissions_cumulative"
          },
          {
           "timestamp": "2022-03-06T00:00:00",
           "value": 64816610.13138495,
           "variable": "total_credit"
          },
          {
           "timestamp": "2022-03-06T00:00:00",
           "value": 685983331.448107,
           "variable": "total_debt"
          },
          {
           "timestamp": "2022-03-06T00:00:00",
           "value": 0,
           "variable": "unfertilized_beans_cumulative"
          },
          {
           "timestamp": "2022-03-13T00:00:00",
           "value": 10.682004889835698,
           "variable": "debt_credit_ratio"
          },
          {
           "timestamp": "2022-03-13T00:00:00",
           "value": 0,
           "variable": "fertilized_beans_cumulative"
          },
          {
           "timestamp": "2022-03-13T00:00:00",
           "value": 16.2925452435312,
           "variable": "fertilizer_adjusted_pod_rate"
          },
          {
           "timestamp": "2022-03-13T00:00:00",
           "value": 22993263.391564,
           "variable": "pods_harvestable_cumulative"
          },
          {
           "timestamp": "2022-03-13T00:00:00",
           "value": 695501943.877728,
           "variable": "pods_issued_cumulative"
          },
          {
           "timestamp": "2022-03-13T00:00:00",
           "value": 42116418.83106094,
           "variable": "silo_emissions_cumulative"
          },
          {
           "timestamp": "2022-03-13T00:00:00",
           "value": 65109682.22262494,
           "variable": "total_credit"
          },
          {
           "timestamp": "2022-03-13T00:00:00",
           "value": 695501943.877728,
           "variable": "total_debt"
          },
          {
           "timestamp": "2022-03-13T00:00:00",
           "value": 0,
           "variable": "unfertilized_beans_cumulative"
          },
          {
           "timestamp": "2022-03-20T00:00:00",
           "value": 10.49432087754327,
           "variable": "debt_credit_ratio"
          },
          {
           "timestamp": "2022-03-20T00:00:00",
           "value": 0,
           "variable": "fertilized_beans_cumulative"
          },
          {
           "timestamp": "2022-03-20T00:00:00",
           "value": 15.924625030993381,
           "variable": "fertilizer_adjusted_pod_rate"
          },
          {
           "timestamp": "2022-03-20T00:00:00",
           "value": 24022373.793534,
           "variable": "pods_harvestable_cumulative"
          },
          {
           "timestamp": "2022-03-20T00:00:00",
           "value": 701618207.425246,
           "variable": "pods_issued_cumulative"
          },
          {
           "timestamp": "2022-03-20T00:00:00",
           "value": 42834568.700632945,
           "variable": "silo_emissions_cumulative"
          },
          {
           "timestamp": "2022-03-20T00:00:00",
           "value": 66856942.49416694,
           "variable": "total_credit"
          },
          {
           "timestamp": "2022-03-20T00:00:00",
           "value": 701618207.425246,
           "variable": "total_debt"
          },
          {
           "timestamp": "2022-03-20T00:00:00",
           "value": 0,
           "variable": "unfertilized_beans_cumulative"
          },
          {
           "timestamp": "2022-03-27T00:00:00",
           "value": 10.320858780362094,
           "variable": "debt_credit_ratio"
          },
          {
           "timestamp": "2022-03-27T00:00:00",
           "value": 0,
           "variable": "fertilized_beans_cumulative"
          },
          {
           "timestamp": "2022-03-27T00:00:00",
           "value": 15.48395064447731,
           "variable": "fertilizer_adjusted_pod_rate"
          },
          {
           "timestamp": "2022-03-27T00:00:00",
           "value": 24743601.480616994,
           "variable": "pods_harvestable_cumulative"
          },
          {
           "timestamp": "2022-03-27T00:00:00",
           "value": 705346854.956478,
           "variable": "pods_issued_cumulative"
          },
          {
           "timestamp": "2022-03-27T00:00:00",
           "value": 43598274.90456999,
           "variable": "silo_emissions_cumulative"
          },
          {
           "timestamp": "2022-03-27T00:00:00",
           "value": 68341876.38518699,
           "variable": "total_credit"
          },
          {
           "timestamp": "2022-03-27T00:00:00",
           "value": 705346854.956478,
           "variable": "total_debt"
          },
          {
           "timestamp": "2022-03-27T00:00:00",
           "value": 0,
           "variable": "unfertilized_beans_cumulative"
          },
          {
           "timestamp": "2022-04-03T00:00:00",
           "value": 9.977090185374813,
           "variable": "debt_credit_ratio"
          },
          {
           "timestamp": "2022-04-03T00:00:00",
           "value": 0,
           "variable": "fertilized_beans_cumulative"
          },
          {
           "timestamp": "2022-04-03T00:00:00",
           "value": 14.588370834787636,
           "variable": "fertilizer_adjusted_pod_rate"
          },
          {
           "timestamp": "2022-04-03T00:00:00",
           "value": 25905267.403177995,
           "variable": "pods_harvestable_cumulative"
          },
          {
           "timestamp": "2022-04-03T00:00:00",
           "value": 708673539.483889,
           "variable": "pods_issued_cumulative"
          },
          {
           "timestamp": "2022-04-03T00:00:00",
           "value": 45124815.14761595,
           "variable": "silo_emissions_cumulative"
          },
          {
           "timestamp": "2022-04-03T00:00:00",
           "value": 71030082.55079395,
           "variable": "total_credit"
          },
          {
           "timestamp": "2022-04-03T00:00:00",
           "value": 708673539.483889,
           "variable": "total_debt"
          },
          {
           "timestamp": "2022-04-03T00:00:00",
           "value": 0,
           "variable": "unfertilized_beans_cumulative"
          },
          {
           "timestamp": "2022-04-10T00:00:00",
           "value": 9.43976469921229,
           "variable": "debt_credit_ratio"
          },
          {
           "timestamp": "2022-04-10T00:00:00",
           "value": 0,
           "variable": "fertilized_beans_cumulative"
          },
          {
           "timestamp": "2022-04-10T00:00:00",
           "value": 12.941765642518924,
           "variable": "fertilizer_adjusted_pod_rate"
          },
          {
           "timestamp": "2022-04-10T00:00:00",
           "value": 27999158.687810995,
           "variable": "pods_harvestable_cumulative"
          },
          {
           "timestamp": "2022-04-10T00:00:00",
           "value": 710834506.06925,
           "variable": "pods_issued_cumulative"
          },
          {
           "timestamp": "2022-04-10T00:00:00",
           "value": 47302983.761625946,
           "variable": "silo_emissions_cumulative"
          },
          {
           "timestamp": "2022-04-10T00:00:00",
           "value": 75302142.44943693,
           "variable": "total_credit"
          },
          {
           "timestamp": "2022-04-10T00:00:00",
           "value": 710834506.06925,
           "variable": "total_debt"
          },
          {
           "timestamp": "2022-04-10T00:00:00",
           "value": 0,
           "variable": "unfertilized_beans_cumulative"
          },
          {
           "timestamp": "2022-04-17T00:00:00",
           "value": 6.360132077483794,
           "variable": "debt_credit_ratio"
          },
          {
           "timestamp": "2022-04-17T00:00:00",
           "value": 0,
           "variable": "fertilized_beans_cumulative"
          },
          {
           "timestamp": "2022-04-17T00:00:00",
           "value": 37.39908837854603,
           "variable": "fertilizer_adjusted_pod_rate"
          },
          {
           "timestamp": "2022-04-17T00:00:00",
           "value": 55438959.69430199,
           "variable": "pods_harvestable_cumulative"
          },
          {
           "timestamp": "2022-04-17T00:00:00",
           "value": 737663715.081254,
           "variable": "pods_issued_cumulative"
          },
          {
           "timestamp": "2022-04-17T00:00:00",
           "value": 74133254.22224994,
           "variable": "silo_emissions_cumulative"
          },
          {
           "timestamp": "2022-04-17T00:00:00",
           "value": 129572213.91655193,
           "variable": "total_credit"
          },
          {
           "timestamp": "2022-04-17T00:00:00",
           "value": 824096394.081254,
           "variable": "total_debt"
          },
          {
           "timestamp": "2022-04-17T00:00:00",
           "value": 86432679,
           "variable": "unfertilized_beans_cumulative"
          },
          {
           "timestamp": "2022-08-07T00:00:00",
           "value": 6.150000235664234,
           "variable": "debt_credit_ratio"
          },
          {
           "timestamp": "2022-08-07T00:00:00",
           "value": 1912625.803108,
           "variable": "fertilized_beans_cumulative"
          },
          {
           "timestamp": "2022-08-07T00:00:00",
           "value": 26.41952976190462,
           "variable": "fertilizer_adjusted_pod_rate"
          },
          {
           "timestamp": "2022-08-07T00:00:00",
           "value": 57351922.095056996,
           "variable": "pods_harvestable_cumulative"
          },
          {
           "timestamp": "2022-08-07T00:00:00",
           "value": 738620191.031981,
           "variable": "pods_issued_cumulative"
          },
          {
           "timestamp": "2022-08-07T00:00:00",
           "value": 76046216.62301993,
           "variable": "silo_emissions_cumulative"
          },
          {
           "timestamp": "2022-08-07T00:00:00",
           "value": 135310764.52118492,
           "variable": "total_credit"
          },
          {
           "timestamp": "2022-08-07T00:00:00",
           "value": 832161233.693195,
           "variable": "total_debt"
          },
          {
           "timestamp": "2022-08-07T00:00:00",
           "value": 93541042.66121396,
           "variable": "unfertilized_beans_cumulative"
          },
          {
           "timestamp": "2022-08-14T00:00:00",
           "value": 6.737296908032011,
           "variable": "debt_credit_ratio"
          },
          {
           "timestamp": "2022-08-14T00:00:00",
           "value": 2067319.5795749996,
           "variable": "fertilized_beans_cumulative"
          },
          {
           "timestamp": "2022-08-14T00:00:00",
           "value": 29.721639898538577,
           "variable": "fertilizer_adjusted_pod_rate"
          },
          {
           "timestamp": "2022-08-14T00:00:00",
           "value": 57504141.760129,
           "variable": "pods_harvestable_cumulative"
          },
          {
           "timestamp": "2022-08-14T00:00:00",
           "value": 820798740.86972,
           "variable": "pods_issued_cumulative"
          },
          {
           "timestamp": "2022-08-14T00:00:00",
           "value": 76201917.52848995,
           "variable": "silo_emissions_cumulative"
          },
          {
           "timestamp": "2022-08-14T00:00:00",
           "value": 135773378.86819395,
           "variable": "total_credit"
          },
          {
           "timestamp": "2022-08-14T00:00:00",
           "value": 914745565.6417419,
           "variable": "total_debt"
          },
          {
           "timestamp": "2022-08-14T00:00:00",
           "value": 93946824.77202192,
           "variable": "unfertilized_beans_cumulative"
          },
          {
           "timestamp": "2022-08-21T00:00:00",
           "value": 6.73622399108563,
           "variable": "debt_credit_ratio"
          },
          {
           "timestamp": "2022-08-21T00:00:00",
           "value": 2085458.393384,
           "variable": "fertilized_beans_cumulative"
          },
          {
           "timestamp": "2022-08-21T00:00:00",
           "value": 29.038176463563463,
           "variable": "fertilizer_adjusted_pod_rate"
          },
          {
           "timestamp": "2022-08-21T00:00:00",
           "value": 57528088.751132995,
           "variable": "pods_harvestable_cumulative"
          },
          {
           "timestamp": "2022-08-21T00:00:00",
           "value": 821073540.366841,
           "variable": "pods_issued_cumulative"
          },
          {
           "timestamp": "2022-08-21T00:00:00",
           "value": 76222405.99596496,
           "variable": "silo_emissions_cumulative"
          },
          {
           "timestamp": "2022-08-21T00:00:00",
           "value": 135835953.14048195,
           "variable": "total_credit"
          },
          {
           "timestamp": "2022-08-21T00:00:00",
           "value": 915021406.3968979,
           "variable": "total_debt"
          },
          {
           "timestamp": "2022-08-21T00:00:00",
           "value": 93947866.03005692,
           "variable": "unfertilized_beans_cumulative"
          },
          {
           "timestamp": "2022-08-28T00:00:00",
           "value": 6.736929318279517,
           "variable": "debt_credit_ratio"
          },
          {
           "timestamp": "2022-08-28T00:00:00",
           "value": 2099056.5227339966,
           "variable": "fertilized_beans_cumulative"
          },
          {
           "timestamp": "2022-08-28T00:00:00",
           "value": 28.99910229823106,
           "variable": "fertilizer_adjusted_pod_rate"
          },
          {
           "timestamp": "2022-08-28T00:00:00",
           "value": 57543673.69252,
           "variable": "pods_harvestable_cumulative"
          },
          {
           "timestamp": "2022-08-28T00:00:00",
           "value": 821482327.568473,
           "variable": "pods_issued_cumulative"
          },
          {
           "timestamp": "2022-08-28T00:00:00",
           "value": 76238065.56059295,
           "variable": "silo_emissions_cumulative"
          },
          {
           "timestamp": "2022-08-28T00:00:00",
           "value": 135880795.77584696,
           "variable": "total_credit"
          },
          {
           "timestamp": "2022-08-28T00:00:00",
           "value": 915419316.853455,
           "variable": "total_debt"
          },
          {
           "timestamp": "2022-08-28T00:00:00",
           "value": 93936989.28498192,
           "variable": "unfertilized_beans_cumulative"
          },
          {
           "timestamp": "2022-09-04T00:00:00",
           "value": 6.761648464971948,
           "variable": "debt_credit_ratio"
          },
          {
           "timestamp": "2022-09-04T00:00:00",
           "value": 2106096.6592569994,
           "variable": "fertilized_beans_cumulative"
          },
          {
           "timestamp": "2022-09-04T00:00:00",
           "value": 29.141053826317535,
           "variable": "fertilizer_adjusted_pod_rate"
          },
          {
           "timestamp": "2022-09-04T00:00:00",
           "value": 57551065.336568,
           "variable": "pods_harvestable_cumulative"
          },
          {
           "timestamp": "2022-09-04T00:00:00",
           "value": 825006365.807399,
           "variable": "pods_issued_cumulative"
          },
          {
           "timestamp": "2022-09-04T00:00:00",
           "value": 76246951.63648896,
           "variable": "silo_emissions_cumulative"
          },
          {
           "timestamp": "2022-09-04T00:00:00",
           "value": 135904113.63231397,
           "variable": "total_credit"
          },
          {
           "timestamp": "2022-09-04T00:00:00",
           "value": 918935841.3253089,
           "variable": "total_debt"
          },
          {
           "timestamp": "2022-09-04T00:00:00",
           "value": 93929475.51790993,
           "variable": "unfertilized_beans_cumulative"
          },
          {
           "timestamp": "2022-09-11T00:00:00",
           "value": 6.761852935571199,
           "variable": "debt_credit_ratio"
          },
          {
           "timestamp": "2022-09-11T00:00:00",
           "value": 2109126.1571129984,
           "variable": "fertilized_beans_cumulative"
          },
          {
           "timestamp": "2022-09-11T00:00:00",
           "value": 29.117133640595217,
           "variable": "fertilizer_adjusted_pod_rate"
          },
          {
           "timestamp": "2022-09-11T00:00:00",
           "value": 57554631.732468,
           "variable": "pods_harvestable_cumulative"
          },
          {
           "timestamp": "2022-09-11T00:00:00",
           "value": 825112316.148051,
           "variable": "pods_issued_cumulative"
          },
          {
           "timestamp": "2022-09-11T00:00:00",
           "value": 76251914.99222296,
           "variable": "silo_emissions_cumulative"
          },
          {
           "timestamp": "2022-09-11T00:00:00",
           "value": 135915672.88180396,
           "variable": "total_credit"
          },
          {
           "timestamp": "2022-09-11T00:00:00",
           "value": 919041791.6659609,
           "variable": "total_debt"
          },
          {
           "timestamp": "2022-09-11T00:00:00",
           "value": 93929475.51790993,
           "variable": "unfertilized_beans_cumulative"
          },
          {
           "timestamp": "2022-09-18T00:00:00",
           "value": 6.7648342256367835,
           "variable": "debt_credit_ratio"
          },
          {
           "timestamp": "2022-09-18T00:00:00",
           "value": 2110090.104752999,
           "variable": "fertilized_beans_cumulative"
          },
          {
           "timestamp": "2022-09-18T00:00:00",
           "value": 29.11865216351054,
           "variable": "fertilizer_adjusted_pod_rate"
          },
          {
           "timestamp": "2022-09-18T00:00:00",
           "value": 57559429.921489,
           "variable": "pods_harvestable_cumulative"
          },
          {
           "timestamp": "2022-09-18T00:00:00",
           "value": 825583248.930806,
           "variable": "pods_issued_cumulative"
          },
          {
           "timestamp": "2022-09-18T00:00:00",
           "value": 76254471.41009296,
           "variable": "silo_emissions_cumulative"
          },
          {
           "timestamp": "2022-09-18T00:00:00",
           "value": 135923991.43633497,
           "variable": "total_credit"
          },
          {
           "timestamp": "2022-09-18T00:00:00",
           "value": 919503269.3536799,
           "variable": "total_debt"
          },
          {
           "timestamp": "2022-09-18T00:00:00",
           "value": 93920020.42287391,
           "variable": "unfertilized_beans_cumulative"
          },
          {
           "timestamp": "2022-09-25T00:00:00",
           "value": 6.787222162184916,
           "variable": "debt_credit_ratio"
          },
          {
           "timestamp": "2022-09-25T00:00:00",
           "value": 2110124.532120999,
           "variable": "fertilized_beans_cumulative"
          },
          {
           "timestamp": "2022-09-25T00:00:00",
           "value": 29.274040233192196,
           "variable": "fertilizer_adjusted_pod_rate"
          },
          {
           "timestamp": "2022-09-25T00:00:00",
           "value": 57560211.939542,
           "variable": "pods_harvestable_cumulative"
          },
          {
           "timestamp": "2022-09-25T00:00:00",
           "value": 828631979.817323,
           "variable": "pods_issued_cumulative"
          },
          {
           "timestamp": "2022-09-25T00:00:00",
           "value": 76254529.48069097,
           "variable": "silo_emissions_cumulative"
          },
          {
           "timestamp": "2022-09-25T00:00:00",
           "value": 135924865.95235398,
           "variable": "total_credit"
          },
          {
           "timestamp": "2022-09-25T00:00:00",
           "value": 922552262.5838308,
           "variable": "total_debt"
          },
          {
           "timestamp": "2022-09-25T00:00:00",
           "value": 93920282.76650791,
           "variable": "unfertilized_beans_cumulative"
          },
          {
           "timestamp": "2022-10-02T00:00:00",
           "value": 6.787283342523368,
           "variable": "debt_credit_ratio"
          },
          {
           "timestamp": "2022-10-02T00:00:00",
           "value": 2110124.532120999,
           "variable": "fertilized_beans_cumulative"
          },
          {
           "timestamp": "2022-10-02T00:00:00",
           "value": 29.262318533126102,
           "variable": "fertilizer_adjusted_pod_rate"
          },
          {
           "timestamp": "2022-10-02T00:00:00",
           "value": 57560211.939542,
           "variable": "pods_harvestable_cumulative"
          },
          {
           "timestamp": "2022-10-02T00:00:00",
           "value": 828640295.746626,
           "variable": "pods_issued_cumulative"
          },
          {
           "timestamp": "2022-10-02T00:00:00",
           "value": 76254529.48069097,
           "variable": "silo_emissions_cumulative"
          },
          {
           "timestamp": "2022-10-02T00:00:00",
           "value": 135924865.95235398,
           "variable": "total_credit"
          },
          {
           "timestamp": "2022-10-02T00:00:00",
           "value": 922560578.5131339,
           "variable": "total_debt"
          },
          {
           "timestamp": "2022-10-02T00:00:00",
           "value": 93920282.76650791,
           "variable": "unfertilized_beans_cumulative"
          }
         ]
        },
        "resolve": {
         "axis": {
          "y": "independent"
         },
         "legend": {
          "color": "independent"
         },
         "scale": {
          "color": "independent",
          "y": "independent"
         }
        },
        "vconcat": [
         {
          "layer": [
           {
            "encoding": {
             "color": {
              "field": "variable",
              "legend": {
               "title": "Legend"
              },
              "scale": {
               "domain": [
                "silo_emissions_cumulative",
                "pods_harvestable_cumulative",
                "fertilized_beans_cumulative",
                "unfertilized_beans_cumulative",
                "pods_issued_cumulative",
                "total_debt",
                "total_credit"
               ],
               "range": [
                "#22577a",
                "#38a3a5",
                "#57cc99",
                "#ef9b20",
                "#fa4d56",
                "#9f1853",
                "#80ed99"
               ]
              },
              "type": "nominal"
             },
             "order": {
              "field": "stack_order",
              "sort": "ascending",
              "type": "quantitative"
             },
             "x": {
              "axis": {
               "formatType": "time",
               "labelAngle": 0,
               "labelExpr": "timeFormat(toDate(datum.value), '%b %Y')",
               "labelOverlap": true,
               "labelPadding": 5,
               "labelSeparation": 25,
               "ticks": false,
               "title": "Date"
              },
              "field": "tstamp",
              "type": "ordinal"
             },
             "y": {
              "axis": {
               "title": "BDV"
              },
              "field": "rvalue",
              "type": "quantitative"
             }
            },
            "height": 225,
            "mark": "bar",
            "selection": {
             "agglevel": {
              "bind": {
               "input": "select",
               "name": "Aggregation Level",
               "options": [
                "ym",
                "ymd"
               ]
              },
              "fields": [
               "AggLevel"
              ],
              "init": {
               "AggLevel": "ymd"
              },
              "type": "single"
             }
            },
            "transform": [
             {
              "as": "ymd",
              "field": "timestamp",
              "timeUnit": "yearmonthdate"
             },
             {
              "as": "ym",
              "field": "timestamp",
              "timeUnit": "yearmonth"
             },
             {
              "as": "tstamp",
              "calculate": "datum[agglevel.AggLevel]"
             },
             {
              "aggregate": [
               {
                "as": "rvalue",
                "field": "value",
                "op": "max"
               }
              ],
              "groupby": [
               "tstamp",
               "variable"
              ]
             },
             {
              "as": "stack_order",
              "calculate": "time(datum.tstamp) + (datum.variable === 'fertilizer_adjusted_pod_rate' ? 0 :  datum.variable === 'debt_credit_ratio' ? 1 :  datum.variable === 'total_credit' ? 2 :  datum.variable === 'total_debt' ? 3 :  datum.variable === 'pods_issued_cumulative' ? 4 :  datum.variable === 'unfertilized_beans_cumulative' ? 5 :  datum.variable === 'fertilized_beans_cumulative' ? 6 :  datum.variable === 'pods_harvestable_cumulative' ? 7 :  datum.variable === 'silo_emissions_cumulative' ? 8 : 9)"
             },
             {
              "filter": "datum.variable == 'unfertilized_beans_cumulative' | datum.variable == 'pods_issued_cumulative'"
             }
            ],
            "width": 500
           },
           {
            "encoding": {
             "color": {
              "field": "variable",
              "legend": {
               "title": "Legend"
              },
              "scale": {
               "domain": [
                "silo_emissions_cumulative",
                "pods_harvestable_cumulative",
                "fertilized_beans_cumulative",
                "unfertilized_beans_cumulative",
                "pods_issued_cumulative",
                "total_debt",
                "total_credit"
               ],
               "range": [
                "#22577a",
                "#38a3a5",
                "#57cc99",
                "#ef9b20",
                "#fa4d56",
                "#9f1853",
                "#80ed99"
               ]
              },
              "type": "nominal"
             },
             "order": {
              "field": "stack_order",
              "sort": "ascending",
              "type": "quantitative"
             },
             "x": {
              "axis": {
               "formatType": "time",
               "labelAngle": 0,
               "labelExpr": "timeFormat(toDate(datum.value), '%b %Y')",
               "labelOverlap": true,
               "labelPadding": 5,
               "labelSeparation": 25,
               "ticks": false,
               "title": "Date"
              },
              "field": "tstamp",
              "type": "ordinal"
             },
             "y": {
              "axis": {
               "title": "BDV"
              },
              "field": "rvalue",
              "type": "quantitative"
             }
            },
            "height": 225,
            "mark": "bar",
            "transform": [
             {
              "as": "ymd",
              "field": "timestamp",
              "timeUnit": "yearmonthdate"
             },
             {
              "as": "ym",
              "field": "timestamp",
              "timeUnit": "yearmonth"
             },
             {
              "as": "tstamp",
              "calculate": "datum[agglevel.AggLevel]"
             },
             {
              "aggregate": [
               {
                "as": "rvalue",
                "field": "value",
                "op": "max"
               }
              ],
              "groupby": [
               "tstamp",
               "variable"
              ]
             },
             {
              "as": "stack_order",
              "calculate": "time(datum.tstamp) + (datum.variable === 'fertilizer_adjusted_pod_rate' ? 0 :  datum.variable === 'debt_credit_ratio' ? 1 :  datum.variable === 'total_credit' ? 2 :  datum.variable === 'total_debt' ? 3 :  datum.variable === 'pods_issued_cumulative' ? 4 :  datum.variable === 'unfertilized_beans_cumulative' ? 5 :  datum.variable === 'fertilized_beans_cumulative' ? 6 :  datum.variable === 'pods_harvestable_cumulative' ? 7 :  datum.variable === 'silo_emissions_cumulative' ? 8 : 9)"
             },
             {
              "filter": "datum.variable == 'silo_emissions_cumulative' | datum.variable == 'pods_harvestable_cumulative' | datum.variable == 'fertilized_beans_cumulative'"
             }
            ],
            "width": 500
           },
           {
            "encoding": {
             "color": {
              "field": "variable",
              "legend": {
               "title": "Legend"
              },
              "scale": {
               "domain": [
                "silo_emissions_cumulative",
                "pods_harvestable_cumulative",
                "fertilized_beans_cumulative",
                "unfertilized_beans_cumulative",
                "pods_issued_cumulative",
                "total_debt",
                "total_credit"
               ],
               "range": [
                "#22577a",
                "#38a3a5",
                "#57cc99",
                "#ef9b20",
                "#fa4d56",
                "#9f1853",
                "#80ed99"
               ]
              },
              "type": "nominal"
             },
             "order": {
              "field": "stack_order",
              "sort": "ascending",
              "type": "quantitative"
             },
             "x": {
              "axis": {
               "formatType": "time",
               "labelAngle": 0,
               "labelExpr": "timeFormat(toDate(datum.value), '%b %Y')",
               "labelOverlap": true,
               "labelPadding": 5,
               "labelSeparation": 25,
               "ticks": false,
               "title": "Date"
              },
              "field": "tstamp",
              "type": "ordinal"
             },
             "y": {
              "axis": {
               "title": "BDV"
              },
              "field": "rvalue",
              "type": "quantitative"
             }
            },
            "height": 225,
            "mark": "line",
            "transform": [
             {
              "as": "ymd",
              "field": "timestamp",
              "timeUnit": "yearmonthdate"
             },
             {
              "as": "ym",
              "field": "timestamp",
              "timeUnit": "yearmonth"
             },
             {
              "as": "tstamp",
              "calculate": "datum[agglevel.AggLevel]"
             },
             {
              "aggregate": [
               {
                "as": "rvalue",
                "field": "value",
                "op": "max"
               }
              ],
              "groupby": [
               "tstamp",
               "variable"
              ]
             },
             {
              "as": "stack_order",
              "calculate": "time(datum.tstamp) + (datum.variable === 'fertilizer_adjusted_pod_rate' ? 0 :  datum.variable === 'debt_credit_ratio' ? 1 :  datum.variable === 'total_credit' ? 2 :  datum.variable === 'total_debt' ? 3 :  datum.variable === 'pods_issued_cumulative' ? 4 :  datum.variable === 'unfertilized_beans_cumulative' ? 5 :  datum.variable === 'fertilized_beans_cumulative' ? 6 :  datum.variable === 'pods_harvestable_cumulative' ? 7 :  datum.variable === 'silo_emissions_cumulative' ? 8 : 9)"
             },
             {
              "filter": "datum.variable == 'total_debt' | datum.variable == 'total_credit'"
             }
            ],
            "width": 500
           },
           {
            "encoding": {
             "tooltip": [
              {
               "field": "tstamp",
               "timeUnit": "yearmonthdate",
               "title": "date",
               "type": "ordinal"
              },
              {
               "field": "silo_emissions_cumulative",
               "format": ",d",
               "title": "silo emissions",
               "type": "quantitative"
              },
              {
               "field": "pods_harvestable_cumulative",
               "format": ",d",
               "title": "pods harvestable",
               "type": "quantitative"
              },
              {
               "field": "fertilized_beans_cumulative",
               "format": ",d",
               "title": "fertilized beans",
               "type": "quantitative"
              },
              {
               "field": "unfertilized_beans_cumulative",
               "format": ",d",
               "title": "unfertilized beans",
               "type": "quantitative"
              },
              {
               "field": "pods_issued_cumulative",
               "format": ",d",
               "title": "pods issued",
               "type": "quantitative"
              },
              {
               "field": "total_debt",
               "format": ",d",
               "title": "total debt",
               "type": "quantitative"
              },
              {
               "field": "total_credit",
               "format": ",d",
               "title": "total credit",
               "type": "quantitative"
              },
              {
               "field": "debt_credit_ratio",
               "format": ".2%",
               "title": "debt credit ratio",
               "type": "quantitative"
              },
              {
               "field": "fertilizer_adjusted_pod_rate",
               "format": ".2%",
               "title": "fertilizer adjusted pod rate",
               "type": "quantitative"
              }
             ],
             "x": {
              "axis": {
               "formatType": "time",
               "labelAngle": 0,
               "labelExpr": "timeFormat(toDate(datum.value), '%b %Y')",
               "labelOverlap": true,
               "labelPadding": 5,
               "labelSeparation": 25,
               "ticks": false,
               "title": "Date"
              },
              "field": "tstamp",
              "type": "ordinal"
             }
            },
            "height": 225,
            "mark": {
             "opacity": 0,
             "type": "rule"
            },
            "selection": {
             "selector004": {
              "clear": "mouseout",
              "empty": "none",
              "fields": [
               "tstamp"
              ],
              "nearest": true,
              "on": "mouseover",
              "type": "single"
             }
            },
            "transform": [
             {
              "as": "ymd",
              "field": "timestamp",
              "timeUnit": "yearmonthdate"
             },
             {
              "as": "ym",
              "field": "timestamp",
              "timeUnit": "yearmonth"
             },
             {
              "as": "tstamp",
              "calculate": "datum[agglevel.AggLevel]"
             },
             {
              "aggregate": [
               {
                "as": "rvalue",
                "field": "value",
                "op": "max"
               }
              ],
              "groupby": [
               "tstamp",
               "variable"
              ]
             },
             {
              "as": "stack_order",
              "calculate": "time(datum.tstamp) + (datum.variable === 'fertilizer_adjusted_pod_rate' ? 0 :  datum.variable === 'debt_credit_ratio' ? 1 :  datum.variable === 'total_credit' ? 2 :  datum.variable === 'total_debt' ? 3 :  datum.variable === 'pods_issued_cumulative' ? 4 :  datum.variable === 'unfertilized_beans_cumulative' ? 5 :  datum.variable === 'fertilized_beans_cumulative' ? 6 :  datum.variable === 'pods_harvestable_cumulative' ? 7 :  datum.variable === 'silo_emissions_cumulative' ? 8 : 9)"
             },
             {
              "groupby": [
               "tstamp"
              ],
              "pivot": "variable",
              "value": "rvalue"
             }
            ],
            "width": 500
           },
           {
            "encoding": {
             "x": {
              "axis": {
               "formatType": "time",
               "labelAngle": 0,
               "labelExpr": "timeFormat(toDate(datum.value), '%b %Y')",
               "labelOverlap": true,
               "labelPadding": 5,
               "labelSeparation": 25,
               "ticks": false,
               "title": "Date"
              },
              "field": "tstamp",
              "type": "ordinal"
             }
            },
            "height": 225,
            "mark": {
             "color": "#474440",
             "opacity": 1,
             "strokeDash": [
              2.5,
              1
             ],
             "type": "rule"
            },
            "transform": [
             {
              "as": "ymd",
              "field": "timestamp",
              "timeUnit": "yearmonthdate"
             },
             {
              "as": "ym",
              "field": "timestamp",
              "timeUnit": "yearmonth"
             },
             {
              "as": "tstamp",
              "calculate": "datum[agglevel.AggLevel]"
             },
             {
              "aggregate": [
               {
                "as": "rvalue",
                "field": "value",
                "op": "max"
               }
              ],
              "groupby": [
               "tstamp",
               "variable"
              ]
             },
             {
              "as": "stack_order",
              "calculate": "time(datum.tstamp) + (datum.variable === 'fertilizer_adjusted_pod_rate' ? 0 :  datum.variable === 'debt_credit_ratio' ? 1 :  datum.variable === 'total_credit' ? 2 :  datum.variable === 'total_debt' ? 3 :  datum.variable === 'pods_issued_cumulative' ? 4 :  datum.variable === 'unfertilized_beans_cumulative' ? 5 :  datum.variable === 'fertilized_beans_cumulative' ? 6 :  datum.variable === 'pods_harvestable_cumulative' ? 7 :  datum.variable === 'silo_emissions_cumulative' ? 8 : 9)"
             },
             {
              "groupby": [
               "tstamp"
              ],
              "pivot": "variable",
              "value": "rvalue"
             },
             {
              "filter": "year(datum.tstamp) === 2022 && month(datum.tstamp) === 3 && date(datum.tstamp) === 17"
             }
            ],
            "width": 500
           }
          ],
          "title": "Beanstalk Credit Profile"
         },
         {
          "layer": [
           {
            "encoding": {
             "color": {
              "field": "variable",
              "legend": {
               "title": "Legend"
              },
              "scale": {
               "domain": [
                "debt_credit_ratio",
                "fertilizer_adjusted_pod_rate"
               ],
               "range": [
                "#ffc300",
                "#5e60ce"
               ]
              },
              "type": "nominal"
             },
             "x": {
              "axis": {
               "formatType": "time",
               "labelAngle": 0,
               "labelExpr": "timeFormat(toDate(datum.value), '%b %Y')",
               "labelOverlap": true,
               "labelPadding": 5,
               "labelSeparation": 25,
               "ticks": false,
               "title": "Date"
              },
              "field": "tstamp",
              "type": "ordinal"
             },
             "y": {
              "axis": {
               "format": ",%",
               "title": "Percent"
              },
              "field": "rvalue",
              "type": "quantitative"
             }
            },
            "height": 225,
            "mark": "line",
            "selection": {
             "agglevel": {
              "bind": {
               "input": "select",
               "name": "Aggregation Level",
               "options": [
                "ym",
                "ymd"
               ]
              },
              "fields": [
               "AggLevel"
              ],
              "init": {
               "AggLevel": "ymd"
              },
              "type": "single"
             }
            },
            "transform": [
             {
              "as": "ymd",
              "field": "timestamp",
              "timeUnit": "yearmonthdate"
             },
             {
              "as": "ym",
              "field": "timestamp",
              "timeUnit": "yearmonth"
             },
             {
              "as": "tstamp",
              "calculate": "datum[agglevel.AggLevel]"
             },
             {
              "aggregate": [
               {
                "as": "rvalue",
                "field": "value",
                "op": "max"
               }
              ],
              "groupby": [
               "tstamp",
               "variable"
              ]
             },
             {
              "as": "stack_order",
              "calculate": "time(datum.tstamp) + (datum.variable === 'fertilizer_adjusted_pod_rate' ? 0 :  datum.variable === 'debt_credit_ratio' ? 1 :  datum.variable === 'total_credit' ? 2 :  datum.variable === 'total_debt' ? 3 :  datum.variable === 'pods_issued_cumulative' ? 4 :  datum.variable === 'unfertilized_beans_cumulative' ? 5 :  datum.variable === 'fertilized_beans_cumulative' ? 6 :  datum.variable === 'pods_harvestable_cumulative' ? 7 :  datum.variable === 'silo_emissions_cumulative' ? 8 : 9)"
             },
             {
              "filter": "datum.variable == 'debt_credit_ratio' | datum.variable == 'fertilizer_adjusted_pod_rate'"
             }
            ],
            "width": 500
           },
           {
            "encoding": {
             "color": {
              "field": "variable",
              "legend": {
               "title": "Legend"
              },
              "scale": {
               "domain": [
                "debt_credit_ratio",
                "fertilizer_adjusted_pod_rate"
               ],
               "range": [
                "#ffc300",
                "#5e60ce"
               ]
              },
              "type": "nominal"
             },
             "x": {
              "axis": {
               "formatType": "time",
               "labelAngle": 0,
               "labelExpr": "timeFormat(toDate(datum.value), '%b %Y')",
               "labelOverlap": true,
               "labelPadding": 5,
               "labelSeparation": 25,
               "ticks": false,
               "title": "Date"
              },
              "field": "tstamp",
              "type": "ordinal"
             },
             "y": {
              "axis": {
               "format": ",%",
               "title": "Percent"
              },
              "field": "rvalue",
              "type": "quantitative"
             }
            },
            "height": 225,
            "mark": {
             "size": 7,
             "type": "point"
            },
            "transform": [
             {
              "as": "ymd",
              "field": "timestamp",
              "timeUnit": "yearmonthdate"
             },
             {
              "as": "ym",
              "field": "timestamp",
              "timeUnit": "yearmonth"
             },
             {
              "as": "tstamp",
              "calculate": "datum[agglevel.AggLevel]"
             },
             {
              "aggregate": [
               {
                "as": "rvalue",
                "field": "value",
                "op": "max"
               }
              ],
              "groupby": [
               "tstamp",
               "variable"
              ]
             },
             {
              "as": "stack_order",
              "calculate": "time(datum.tstamp) + (datum.variable === 'fertilizer_adjusted_pod_rate' ? 0 :  datum.variable === 'debt_credit_ratio' ? 1 :  datum.variable === 'total_credit' ? 2 :  datum.variable === 'total_debt' ? 3 :  datum.variable === 'pods_issued_cumulative' ? 4 :  datum.variable === 'unfertilized_beans_cumulative' ? 5 :  datum.variable === 'fertilized_beans_cumulative' ? 6 :  datum.variable === 'pods_harvestable_cumulative' ? 7 :  datum.variable === 'silo_emissions_cumulative' ? 8 : 9)"
             },
             {
              "filter": "datum.variable == 'debt_credit_ratio' | datum.variable == 'fertilizer_adjusted_pod_rate'"
             }
            ],
            "width": 500
           },
           {
            "encoding": {
             "tooltip": [
              {
               "field": "tstamp",
               "timeUnit": "yearmonthdate",
               "title": "date",
               "type": "ordinal"
              },
              {
               "field": "silo_emissions_cumulative",
               "format": ",d",
               "title": "silo emissions",
               "type": "quantitative"
              },
              {
               "field": "pods_harvestable_cumulative",
               "format": ",d",
               "title": "pods harvestable",
               "type": "quantitative"
              },
              {
               "field": "fertilized_beans_cumulative",
               "format": ",d",
               "title": "fertilized beans",
               "type": "quantitative"
              },
              {
               "field": "unfertilized_beans_cumulative",
               "format": ",d",
               "title": "unfertilized beans",
               "type": "quantitative"
              },
              {
               "field": "pods_issued_cumulative",
               "format": ",d",
               "title": "pods issued",
               "type": "quantitative"
              },
              {
               "field": "total_debt",
               "format": ",d",
               "title": "total debt",
               "type": "quantitative"
              },
              {
               "field": "total_credit",
               "format": ",d",
               "title": "total credit",
               "type": "quantitative"
              },
              {
               "field": "debt_credit_ratio",
               "format": ".2%",
               "title": "debt credit ratio",
               "type": "quantitative"
              },
              {
               "field": "fertilizer_adjusted_pod_rate",
               "format": ".2%",
               "title": "fertilizer adjusted pod rate",
               "type": "quantitative"
              }
             ],
             "x": {
              "axis": {
               "formatType": "time",
               "labelAngle": 0,
               "labelExpr": "timeFormat(toDate(datum.value), '%b %Y')",
               "labelOverlap": true,
               "labelPadding": 5,
               "labelSeparation": 25,
               "ticks": false,
               "title": "Date"
              },
              "field": "tstamp",
              "type": "ordinal"
             }
            },
            "height": 225,
            "mark": {
             "opacity": 0,
             "type": "rule"
            },
            "selection": {
             "selector004": {
              "clear": "mouseout",
              "empty": "none",
              "fields": [
               "tstamp"
              ],
              "nearest": true,
              "on": "mouseover",
              "type": "single"
             }
            },
            "transform": [
             {
              "as": "ymd",
              "field": "timestamp",
              "timeUnit": "yearmonthdate"
             },
             {
              "as": "ym",
              "field": "timestamp",
              "timeUnit": "yearmonth"
             },
             {
              "as": "tstamp",
              "calculate": "datum[agglevel.AggLevel]"
             },
             {
              "aggregate": [
               {
                "as": "rvalue",
                "field": "value",
                "op": "max"
               }
              ],
              "groupby": [
               "tstamp",
               "variable"
              ]
             },
             {
              "as": "stack_order",
              "calculate": "time(datum.tstamp) + (datum.variable === 'fertilizer_adjusted_pod_rate' ? 0 :  datum.variable === 'debt_credit_ratio' ? 1 :  datum.variable === 'total_credit' ? 2 :  datum.variable === 'total_debt' ? 3 :  datum.variable === 'pods_issued_cumulative' ? 4 :  datum.variable === 'unfertilized_beans_cumulative' ? 5 :  datum.variable === 'fertilized_beans_cumulative' ? 6 :  datum.variable === 'pods_harvestable_cumulative' ? 7 :  datum.variable === 'silo_emissions_cumulative' ? 8 : 9)"
             },
             {
              "groupby": [
               "tstamp"
              ],
              "pivot": "variable",
              "value": "rvalue"
             }
            ],
            "width": 500
           },
           {
            "encoding": {
             "x": {
              "axis": {
               "formatType": "time",
               "labelAngle": 0,
               "labelExpr": "timeFormat(toDate(datum.value), '%b %Y')",
               "labelOverlap": true,
               "labelPadding": 5,
               "labelSeparation": 25,
               "ticks": false,
               "title": "Date"
              },
              "field": "tstamp",
              "type": "ordinal"
             }
            },
            "height": 225,
            "mark": {
             "color": "#474440",
             "opacity": 1,
             "strokeDash": [
              2.5,
              1
             ],
             "type": "rule"
            },
            "transform": [
             {
              "as": "ymd",
              "field": "timestamp",
              "timeUnit": "yearmonthdate"
             },
             {
              "as": "ym",
              "field": "timestamp",
              "timeUnit": "yearmonth"
             },
             {
              "as": "tstamp",
              "calculate": "datum[agglevel.AggLevel]"
             },
             {
              "aggregate": [
               {
                "as": "rvalue",
                "field": "value",
                "op": "max"
               }
              ],
              "groupby": [
               "tstamp",
               "variable"
              ]
             },
             {
              "as": "stack_order",
              "calculate": "time(datum.tstamp) + (datum.variable === 'fertilizer_adjusted_pod_rate' ? 0 :  datum.variable === 'debt_credit_ratio' ? 1 :  datum.variable === 'total_credit' ? 2 :  datum.variable === 'total_debt' ? 3 :  datum.variable === 'pods_issued_cumulative' ? 4 :  datum.variable === 'unfertilized_beans_cumulative' ? 5 :  datum.variable === 'fertilized_beans_cumulative' ? 6 :  datum.variable === 'pods_harvestable_cumulative' ? 7 :  datum.variable === 'silo_emissions_cumulative' ? 8 : 9)"
             },
             {
              "groupby": [
               "tstamp"
              ],
              "pivot": "variable",
              "value": "rvalue"
             },
             {
              "filter": "year(datum.tstamp) === 2022 && month(datum.tstamp) === 3 && date(datum.tstamp) === 17"
             }
            ],
            "width": 500
           }
          ],
          "title": "Beanstalk Credit Metrics"
         }
        ]
       },
       "width_paths": [
        {
         "factor": 1,
         "path": [
          "config",
          "view",
          "continuousWidth"
         ],
         "value": 400
        },
        {
         "factor": 1,
         "path": [
          "vconcat",
          0,
          "layer",
          0,
          "width"
         ],
         "value": 500
        },
        {
         "factor": 1,
         "path": [
          "vconcat",
          0,
          "layer",
          1,
          "width"
         ],
         "value": 500
        },
        {
         "factor": 1,
         "path": [
          "vconcat",
          0,
          "layer",
          2,
          "width"
         ],
         "value": 500
        },
        {
         "factor": 1,
         "path": [
          "vconcat",
          0,
          "layer",
          3,
          "width"
         ],
         "value": 500
        },
        {
         "factor": 1,
         "path": [
          "vconcat",
          0,
          "layer",
          4,
          "width"
         ],
         "value": 500
        },
        {
         "factor": 1,
         "path": [
          "vconcat",
          1,
          "layer",
          0,
          "width"
         ],
         "value": 500
        },
        {
         "factor": 1,
         "path": [
          "vconcat",
          1,
          "layer",
          1,
          "width"
         ],
         "value": 500
        },
        {
         "factor": 1,
         "path": [
          "vconcat",
          1,
          "layer",
          2,
          "width"
         ],
         "value": 500
        },
        {
         "factor": 1,
         "path": [
          "vconcat",
          1,
          "layer",
          3,
          "width"
         ],
         "value": 500
        }
       ]
      },
      "text/plain": [
       "<IPython.core.display.JSON object>"
      ]
     },
     "execution_count": 19,
     "metadata": {
      "application/json": {
       "expanded": false,
       "root": "root"
      }
     },
     "output_type": "execute_result"
    }
   ],
   "source": [
    "output_chart(c, css=css)"
   ]
  },
  {
   "cell_type": "code",
   "execution_count": null,
   "id": "dc5d4a55",
   "metadata": {},
   "outputs": [],
   "source": []
  }
 ],
 "metadata": {
  "kernelspec": {
   "display_name": "beanstalk",
   "language": "python",
   "name": "beanstalk"
  },
  "language_info": {
   "codemirror_mode": {
    "name": "ipython",
    "version": 3
   },
   "file_extension": ".py",
   "mimetype": "text/x-python",
   "name": "python",
   "nbconvert_exporter": "python",
   "pygments_lexer": "ipython3",
   "version": "3.10.5"
  }
 },
 "nbformat": 4,
 "nbformat_minor": 5
}
