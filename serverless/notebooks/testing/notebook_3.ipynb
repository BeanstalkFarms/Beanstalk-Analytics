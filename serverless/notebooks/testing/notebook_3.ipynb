{
 "cells": [
  {
   "cell_type": "code",
   "execution_count": null,
   "metadata": {},
   "outputs": [],
   "source": [
    "import os \n",
    "import sys \n",
    "\n",
    "cur_path = os.path.abspath(\"../..\")\n",
    "if cur_path not in sys.path: \n",
    "    sys.path.append(cur_path)\n",
    "\n",
    "import altair as alt \n",
    "import pandas as pd \n",
    "from utils_notebook.vega import output_chart\n",
    "\n",
    "data = pd.DataFrame(\n",
    "    [{\"timestamp\": 1, \"data\": 3}, {\"timestamp\": 2, \"data\": 3}]\n",
    ")\n",
    "c = alt.Chart(data).mark_line().encode(\n",
    "    x=\"timestamp:O\", y=\"data:Q\"\n",
    ")\n",
    "output_chart(c)"
   ]
  }
 ],
 "metadata": {
  "kernelspec": {
   "display_name": "Python 3.10.5 ('beanstalk')",
   "language": "python",
   "name": "python3"
  },
  "language_info": {
   "name": "python",
   "version": "3.10.5"
  },
  "orig_nbformat": 4,
  "vscode": {
   "interpreter": {
    "hash": "65a1606879e7cc55db7359bc7bbaab6708e6dced52e1818b18aa46c0dd2503e5"
   }
  }
 },
 "nbformat": 4,
 "nbformat_minor": 2
}
