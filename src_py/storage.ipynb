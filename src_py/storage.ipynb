{
 "cells": [
  {
   "cell_type": "code",
   "execution_count": 1,
   "metadata": {},
   "outputs": [],
   "source": [
    "import os\n",
    "import json \n",
    "import logging \n",
    "import time \n",
    "import datetime \n",
    "from functools import wraps\n",
    "from typing import Dict, Tuple, List, Optional\n",
    "from pathlib import Path \n",
    "\n",
    "import nbformat\n",
    "from nbclient import NotebookClient\n",
    "from google.api_core.exceptions import NotFound\n",
    "from google.cloud import storage \n",
    "from googleapiclient import discovery\n",
    "import google.auth \n",
    "\n",
    "\n",
    "from dotenv import load_dotenv\n",
    "load_dotenv()\n",
    "CREDENTIALS, PROJECT_ID = google.auth.load_credentials_from_file(os.environ['GOOGLE_APPLICATION_CREDENTIALS'])\n",
    "BUCKET_NAME = os.environ[\"NEXT_PUBLIC_STORAGE_BUCKET_NAME\"]\n",
    "\n",
    "class StorageClient: \n",
    "\n",
    "    def __init__(self) -> None:\n",
    "        self.client = storage.Client(project=PROJECT_ID, credentials=CREDENTIALS)\n",
    "        self.bucket = self.client.bucket(BUCKET_NAME)\n",
    "\n",
    "    def get_blob(self, name: str, cur_dtime: datetime.datetime): \n",
    "        blob = self.bucket.blob(name)\n",
    "        exists = True \n",
    "        try: \n",
    "            # ensures object metadata present, as blob doesn't load everything\n",
    "            blob.reload()\n",
    "            obj_dtime = blob.time_created\n",
    "            age_seconds = (cur_dtime - obj_dtime).total_seconds()\n",
    "        except NotFound as e: \n",
    "            exists = False \n",
    "            age_seconds = None \n",
    "        return blob, exists, age_seconds\n",
    "\n",
    "sc = StorageClient()"
   ]
  },
  {
   "cell_type": "code",
   "execution_count": 24,
   "metadata": {},
   "outputs": [
    {
     "name": "stdout",
     "output_type": "stream",
     "text": [
      "<Blob: beanstalk-analytics-test-bucket, schemas/inner/2022-09-09T20:50:37.574142+00:00.json, 1662756678401434>\n",
      "[<Blob: beanstalk-analytics-test-bucket, schemas/inner/2022-09-09T20:50:33.143508+00:00.json, 1662756658778489>]\n"
     ]
    }
   ],
   "source": [
    "\"\"\"\n",
    "1. list all objects at chart prefix \n",
    "2. get the datetime of the newest blob. \n",
    "3. queue other blobs for delete \n",
    "\n",
    "\"\"\"\n",
    "\n",
    "from pathlib import Path \n",
    "from typing import List \n",
    "from google.cloud.storage import Blob\n",
    "\n",
    "schema_name = \"inner\" # testing \n",
    "schema_prefix = f\"schemas/{schema_name}\"\n",
    "\n",
    "blobs: List[Blob] = [\n",
    "    b for b in sc.client.list_blobs(sc.bucket, prefix=schema_prefix)\n",
    "    if b.name.endswith(\".json\")\n",
    "]\n",
    "# Maps datetime objects (representing time blob was created at) to the blobs \n",
    "blob_created_at_map = {\n",
    "    datetime.datetime.fromisoformat(Path(b.name).stem): b for b in blobs \n",
    "}\n",
    "dt_max = next(reversed(sorted(blob_created_at_map.keys())))\n",
    "blob_newest = blob_created_at_map[dt_max]\n",
    "blobs_delete = [b for dt, b in blob_created_at_map.items() if dt != dt_max]\n",
    "print(blob_newest)\n",
    "print(blobs_delete)\n",
    "\n",
    "# blob, exists, age = sc.get_blob(\"Fi*.json\", datetime.datetime.now(datetime.timezone.utc))\n",
    "# print(exists)"
   ]
  },
  {
   "cell_type": "code",
   "execution_count": 15,
   "metadata": {},
   "outputs": [
    {
     "data": {
      "text/plain": [
       "'2022-09-09T20:50:33.143508+00:00'"
      ]
     },
     "execution_count": 15,
     "metadata": {},
     "output_type": "execute_result"
    }
   ],
   "source": [
    "# datetime.datetime.now(datetime.timezone.utc).isoformat()"
   ]
  },
  {
   "cell_type": "code",
   "execution_count": 18,
   "metadata": {},
   "outputs": [],
   "source": [
    "# datetime.datetime.now(datetime.timezone.utc).isoformat()"
   ]
  },
  {
   "cell_type": "code",
   "execution_count": null,
   "metadata": {},
   "outputs": [],
   "source": []
  }
 ],
 "metadata": {
  "kernelspec": {
   "display_name": "Python 3.10.5 ('beanstalk')",
   "language": "python",
   "name": "python3"
  },
  "language_info": {
   "codemirror_mode": {
    "name": "ipython",
    "version": 3
   },
   "file_extension": ".py",
   "mimetype": "text/x-python",
   "name": "python",
   "nbconvert_exporter": "python",
   "pygments_lexer": "ipython3",
   "version": "3.10.5"
  },
  "orig_nbformat": 4,
  "vscode": {
   "interpreter": {
    "hash": "65a1606879e7cc55db7359bc7bbaab6708e6dced52e1818b18aa46c0dd2503e5"
   }
  }
 },
 "nbformat": 4,
 "nbformat_minor": 2
}
